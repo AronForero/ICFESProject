{
 "cells": [
  {
   "cell_type": "code",
   "execution_count": 11,
   "metadata": {
    "collapsed": true
   },
   "outputs": [],
   "source": [
    "import pandas as pd\n",
    "import numpy as np\n",
    "from sklearn.preprocessing import PolynomialFeatures\n",
    "from sklearn.decomposition import PCA\n",
    "from sklearn.cross_validation import ShuffleSplit\n",
    "from sklearn.cross_validation import cross_val_score\n",
    "from sklearn.linear_model import LinearRegression\n",
    "from sklearn.tree import DecisionTreeRegressor\n",
    "from sklearn.ensemble import RandomForestRegressor\n",
    "%run -i ../tools/Automation_Functions.py\n",
    "%run -i ../tools/Automation_Functions_2014.py"
   ]
  },
  {
   "cell_type": "code",
   "execution_count": 4,
   "metadata": {
    "collapsed": true
   },
   "outputs": [],
   "source": [
    "data_2000_1 = pd.read_csv('../DatosFTPICFES/SABER11/SB11-BASES_DE_DATOS/READY/2000_1.csv', delimiter=';')\n",
    "data_2000_2 = pd.read_csv('../DatosFTPICFES/SABER11/SB11-BASES_DE_DATOS/READY/2000_2.csv', delimiter=';')\n",
    "\n",
    "data_2001_1 = pd.read_csv('../DatosFTPICFES/SABER11/SB11-BASES_DE_DATOS/READY/2001_1.csv', delimiter=';')\n",
    "data_2001_2 = pd.read_csv('../DatosFTPICFES/SABER11/SB11-BASES_DE_DATOS/READY/2001_2.csv', delimiter=';')\n",
    "\n",
    "data_2002_1 = pd.read_csv('../DatosFTPICFES/SABER11/SB11-BASES_DE_DATOS/READY/2002_1.csv', delimiter=';')\n",
    "data_2002_2 = pd.read_csv('../DatosFTPICFES/SABER11/SB11-BASES_DE_DATOS/READY/2002_2.csv', delimiter=';')\n",
    "\n",
    "data_2003_1 = pd.read_csv('../DatosFTPICFES/SABER11/SB11-BASES_DE_DATOS/READY/2003_1.csv', delimiter=';')\n",
    "data_2003_2 = pd.read_csv('../DatosFTPICFES/SABER11/SB11-BASES_DE_DATOS/READY/2003_2.csv', delimiter=';')\n",
    "\n",
    "data_2004_1 = pd.read_csv('../DatosFTPICFES/SABER11/SB11-BASES_DE_DATOS/READY/2004_1.csv', delimiter=';')\n",
    "data_2004_2 = pd.read_csv('../DatosFTPICFES/SABER11/SB11-BASES_DE_DATOS/READY/2004_2.csv', delimiter=';')\n",
    "\n",
    "data_2005_1 = pd.read_csv('../DatosFTPICFES/SABER11/SB11-BASES_DE_DATOS/READY/2005_1.csv', delimiter=';')\n",
    "data_2005_2 = pd.read_csv('../DatosFTPICFES/SABER11/SB11-BASES_DE_DATOS/READY/2005_2.csv', delimiter=';')\n",
    "\n",
    "data_2006_1 = pd.read_csv('../DatosFTPICFES/SABER11/SB11-BASES_DE_DATOS/READY/2006_1.csv', delimiter=';')\n",
    "data_2006_2 = pd.read_csv('../DatosFTPICFES/SABER11/SB11-BASES_DE_DATOS/READY/2006_2.csv', delimiter=';')\n",
    "\n",
    "data_2007_1 = pd.read_csv('../DatosFTPICFES/SABER11/SB11-BASES_DE_DATOS/READY/2007_1.csv', delimiter=';')\n",
    "data_2007_2 = pd.read_csv('../DatosFTPICFES/SABER11/SB11-BASES_DE_DATOS/READY/2007_2.csv', delimiter=';')\n",
    "\n",
    "data_2008_1 = pd.read_csv('../DatosFTPICFES/SABER11/SB11-BASES_DE_DATOS/READY/2008_1.csv', delimiter=';')\n",
    "data_2008_2 = pd.read_csv('../DatosFTPICFES/SABER11/SB11-BASES_DE_DATOS/READY/2008_2.csv', delimiter=';')\n",
    "\n",
    "data_2009_1 = pd.read_csv('../DatosFTPICFES/SABER11/SB11-BASES_DE_DATOS/READY/2009_1.csv', delimiter=';')\n",
    "data_2009_2 = pd.read_csv('../DatosFTPICFES/SABER11/SB11-BASES_DE_DATOS/READY/2009_2.csv', delimiter=';')\n",
    "\n",
    "data_2010_1 = pd.read_csv('../DatosFTPICFES/SABER11/SB11-BASES_DE_DATOS/READY/2010_1.csv', delimiter=';')\n",
    "data_2010_2 = pd.read_csv('../DatosFTPICFES/SABER11/SB11-BASES_DE_DATOS/READY/2010_2.csv', delimiter=';')\n",
    "\n",
    "data_2011_1 = pd.read_csv('../DatosFTPICFES/SABER11/SB11-BASES_DE_DATOS/READY/2011_1.csv', delimiter=';')\n",
    "data_2011_2 = pd.read_csv('../DatosFTPICFES/SABER11/SB11-BASES_DE_DATOS/READY/2011_2.csv', delimiter=';')\n",
    "\n",
    "data_2012_1 = pd.read_csv('../DatosFTPICFES/SABER11/SB11-BASES_DE_DATOS/READY/2012_1.csv', delimiter=';')\n",
    "data_2012_2 = pd.read_csv('../DatosFTPICFES/SABER11/SB11-BASES_DE_DATOS/READY/2012_2.csv', delimiter=';')\n",
    "\n",
    "data_2013_1 = pd.read_csv('../DatosFTPICFES/SABER11/SB11-BASES_DE_DATOS/READY/2013_1.csv', delimiter=';')\n",
    "data_2013_2 = pd.read_csv('../DatosFTPICFES/SABER11/SB11-BASES_DE_DATOS/READY/2013_2.csv', delimiter=';')\n",
    "\n",
    "data_2014_1 = pd.read_csv('../DatosFTPICFES/SABER11/SB11-BASES_DE_DATOS/READY/2014_1.csv', delimiter=';')\n",
    "data_2014_2 = pd.read_csv('../DatosFTPICFES/SABER11/SB11-BASES_DE_DATOS/READY/2014_2.csv', delimiter=';')\n",
    "\n",
    "data_2015_1 = pd.read_csv('../DatosFTPICFES/SABER11/SB11-BASES_DE_DATOS/READY/2015_1.csv', delimiter=';')\n",
    "data_2015_2 = pd.read_csv('../DatosFTPICFES/SABER11/SB11-BASES_DE_DATOS/READY/2015_2.csv', delimiter=';')\n",
    "\n",
    "data_2016_1 = pd.read_csv('../DatosFTPICFES/SABER11/SB11-BASES_DE_DATOS/READY/2016_1.csv', delimiter=';')\n",
    "data_2016_1_V2 = pd.read_csv('../DatosFTPICFES/SABER11/SB11-BASES_DE_DATOS/READY/2016_1_V2.csv', delimiter=';')\n",
    "data_2016_2 = pd.read_csv('../DatosFTPICFES/SABER11/SB11-BASES_DE_DATOS/READY/2016_2.csv', delimiter=';')\n",
    "\n",
    "data_2017_1 = pd.read_csv('../DatosFTPICFES/SABER11/SB11-BASES_DE_DATOS/READY/2017_1.csv', delimiter=';')"
   ]
  },
  {
   "cell_type": "markdown",
   "metadata": {},
   "source": [
    "### CROSSED\n",
    "* Training with the first semester and testing with the second.\n",
    "* Training with the second semester and testing with the first of the next Year"
   ]
  },
  {
   "cell_type": "code",
   "execution_count": 13,
   "metadata": {
    "collapsed": false,
    "scrolled": true
   },
   "outputs": [
    {
     "name": "stdout",
     "output_type": "stream",
     "text": [
      "Scores for the Columns/Subject: PUNT_LENGUAJE\n",
      "Score LR: 6.579655346491629\n",
      "Score DT: 6.121085410477171\n",
      "Score RF: 6.776879217829439\n",
      "\n",
      "Scores for the Columns/Subject: PUNT_BIOLOGIA\n",
      "Score LR: 6.190153929449565\n",
      "Score DT: 5.284667003133084\n",
      "Score RF: 5.040541916287719\n",
      "\n",
      "Scores for the Columns/Subject: PUNT_QUIMICA\n",
      "Score LR: 6.250631204425564\n",
      "Score DT: 4.746184188930838\n",
      "Score RF: 4.917147598558971\n",
      "\n",
      "Scores for the Columns/Subject: PUNT_FILOSOFIA\n",
      "Score LR: 5.936142663785151\n",
      "Score DT: 5.563701474719744\n",
      "Score RF: 7.578228983849666\n",
      "\n",
      "Scores for the Columns/Subject: PUNT_MATEMATICAS\n",
      "Score LR: 5.629613530593632\n",
      "Score DT: 5.22183593369034\n",
      "Score RF: 5.061412719202127\n",
      "\n",
      "Scores for the Columns/Subject: PUNT_HISTORIA\n",
      "Score LR: 5.8214873208538584\n",
      "Score DT: 5.022104734262812\n",
      "Score RF: 4.750143583261389\n",
      "\n",
      "Scores for the Columns/Subject: PUNT_IDIOMA\n",
      "Score LR: 9.578791174031538\n",
      "Score DT: 6.021644618294845\n",
      "Score RF: 5.164608665441515\n",
      "\n",
      "Scores for the Columns/Subject: PUNT_FISICA\n",
      "Score LR: 5.573973600201234\n",
      "Score DT: 5.281675893494803\n",
      "Score RF: 5.060818467037038\n",
      "\n",
      "Scores for the Columns/Subject: PUNT_GEOGRAFIA\n",
      "Score LR: 5.626867330395231\n",
      "Score DT: 5.170135216581942\n",
      "Score RF: 5.106807972481609\n",
      "\n",
      "Scores for the Columns/Subject: PUNT_INTERDISCIPLINAR\n",
      "Score LR: 11.889145697269123\n",
      "Score DT: 11.254466938664663\n",
      "Score RF: 10.481825251364759\n",
      "\n"
     ]
    }
   ],
   "source": [
    "vs_2000_2 = Test_all_Subjects(data_2000_1, data_2000_2)"
   ]
  },
  {
   "cell_type": "code",
   "execution_count": 14,
   "metadata": {
    "collapsed": false,
    "scrolled": true
   },
   "outputs": [
    {
     "name": "stdout",
     "output_type": "stream",
     "text": [
      "Scores for the Columns/Subject: PUNT_LENGUAJE\n",
      "Score LR: 14.23639207976484\n",
      "Score DT: 4.963090770322174\n",
      "Score RF: 4.785771642939533\n",
      "\n",
      "Scores for the Columns/Subject: PUNT_BIOLOGIA\n",
      "Score LR: 12.474250184871975\n",
      "Score DT: 4.806903940490876\n",
      "Score RF: 4.681147635024339\n",
      "\n",
      "Scores for the Columns/Subject: PUNT_QUIMICA\n",
      "Score LR: 14.08450327081568\n",
      "Score DT: 4.718827172961396\n",
      "Score RF: 4.636139617168687\n",
      "\n",
      "Scores for the Columns/Subject: PUNT_FILOSOFIA\n",
      "Score LR: 12.003690523015766\n",
      "Score DT: 5.994256946746306\n",
      "Score RF: 6.1456761596471825\n",
      "\n",
      "Scores for the Columns/Subject: PUNT_MATEMATICAS\n",
      "Score LR: 6.558139876643779\n",
      "Score DT: 3.9774437531146725\n",
      "Score RF: 4.0682349535493705\n",
      "\n",
      "Scores for the Columns/Subject: PUNT_HISTORIA\n",
      "Score LR: 13.65547470649307\n",
      "Score DT: 4.912514523166448\n",
      "Score RF: 4.9182347941691384\n",
      "\n",
      "Scores for the Columns/Subject: PUNT_IDIOMA\n",
      "Score LR: 13.695557664107191\n",
      "Score DT: 5.557189817430963\n",
      "Score RF: 5.61056981053188\n",
      "\n",
      "Scores for the Columns/Subject: PUNT_FISICA\n",
      "Score LR: 7.978654666667229\n",
      "Score DT: 4.8779682878553725\n",
      "Score RF: 4.59939008250864\n",
      "\n",
      "Scores for the Columns/Subject: PUNT_GEOGRAFIA\n",
      "Score LR: 13.582068368817845\n",
      "Score DT: 6.7556100058465365\n",
      "Score RF: 6.234225657556236\n",
      "\n",
      "Scores for the Columns/Subject: PUNT_INTERDISCIPLINAR\n",
      "Score LR: 10.888511993726704\n",
      "Score DT: 11.518287805127187\n",
      "Score RF: 5.244433342081281\n",
      "\n"
     ]
    }
   ],
   "source": [
    "vs_2001_1 = Test_all_Subjects(data_2000_2, data_2001_1)"
   ]
  },
  {
   "cell_type": "code",
   "execution_count": 15,
   "metadata": {
    "collapsed": false,
    "scrolled": true
   },
   "outputs": [
    {
     "name": "stdout",
     "output_type": "stream",
     "text": [
      "Scores for the Columns/Subject: PUNT_LENGUAJE\n",
      "Score LR: 4.83562368518972\n",
      "Score DT: 5.081377143408862\n",
      "Score RF: 4.605531530862109\n",
      "\n",
      "Scores for the Columns/Subject: PUNT_BIOLOGIA\n",
      "Score LR: 4.635383813141881\n",
      "Score DT: 4.59741855644989\n",
      "Score RF: 4.037671267242239\n",
      "\n",
      "Scores for the Columns/Subject: PUNT_QUIMICA\n",
      "Score LR: 4.638567694410118\n",
      "Score DT: 4.560946317536654\n",
      "Score RF: 4.109572737406785\n",
      "\n",
      "Scores for the Columns/Subject: PUNT_FILOSOFIA\n",
      "Score LR: 4.980616214045532\n",
      "Score DT: 5.06399273300267\n",
      "Score RF: 4.819785355667135\n",
      "\n",
      "Scores for the Columns/Subject: PUNT_MATEMATICAS\n",
      "Score LR: 4.375766381721958\n",
      "Score DT: 4.365219830959077\n",
      "Score RF: 4.281366657173535\n",
      "\n",
      "Scores for the Columns/Subject: PUNT_HISTORIA\n",
      "Score LR: 5.275471450663456\n",
      "Score DT: 5.338760741111845\n",
      "Score RF: 5.0504651884223675\n",
      "\n",
      "Scores for the Columns/Subject: PUNT_IDIOMA\n",
      "Score LR: 6.942728298424241\n",
      "Score DT: 5.647374272423684\n",
      "Score RF: 5.234420317115211\n",
      "\n",
      "Scores for the Columns/Subject: PUNT_FISICA\n",
      "Score LR: 4.8751735629312885\n",
      "Score DT: 5.05727136402752\n",
      "Score RF: 4.7191544501492215\n",
      "\n",
      "Scores for the Columns/Subject: PUNT_GEOGRAFIA\n",
      "Score LR: 5.956406591937163\n",
      "Score DT: 5.742932852066594\n",
      "Score RF: 5.25607312118267\n",
      "\n",
      "Scores for the Columns/Subject: PUNT_INTERDISCIPLINAR\n",
      "Score LR: 8.478017120532595\n",
      "Score DT: 10.690689226880604\n",
      "Score RF: 5.563573604521767\n",
      "\n"
     ]
    }
   ],
   "source": [
    "vs_2001_2 = Test_all_Subjects(data_2001_1, data_2001_2)"
   ]
  },
  {
   "cell_type": "code",
   "execution_count": 16,
   "metadata": {
    "collapsed": false,
    "scrolled": true
   },
   "outputs": [
    {
     "name": "stdout",
     "output_type": "stream",
     "text": [
      "Scores for the Columns/Subject: PUNT_LENGUAJE\n",
      "Score LR: 5.187716253855581\n",
      "Score DT: 5.125665391600888\n",
      "Score RF: 4.614763660890972\n",
      "\n",
      "Scores for the Columns/Subject: PUNT_BIOLOGIA\n",
      "Score LR: 4.396045504980352\n",
      "Score DT: 4.247969542467754\n",
      "Score RF: 3.929214907749079\n",
      "\n",
      "Scores for the Columns/Subject: PUNT_QUIMICA\n",
      "Score LR: 4.096462474907539\n",
      "Score DT: 4.063982062174238\n",
      "Score RF: 3.7195284360538245\n",
      "\n",
      "Scores for the Columns/Subject: PUNT_FILOSOFIA\n",
      "Score LR: 5.277963182207311\n",
      "Score DT: 5.326895319532646\n",
      "Score RF: 5.053173840561764\n",
      "\n",
      "Scores for the Columns/Subject: PUNT_MATEMATICAS\n",
      "Score LR: 4.270347488309484\n",
      "Score DT: 4.305276953333299\n",
      "Score RF: 4.16899328539502\n",
      "\n",
      "Scores for the Columns/Subject: PUNT_HISTORIA\n",
      "Score LR: 4.781407425803349\n",
      "Score DT: 4.741166136066401\n",
      "Score RF: 4.3736821003356035\n",
      "\n",
      "Scores for the Columns/Subject: PUNT_IDIOMA\n",
      "Score LR: 6.16801592530785\n",
      "Score DT: 6.15593387206016\n",
      "Score RF: 5.047138054608986\n",
      "\n",
      "Scores for the Columns/Subject: PUNT_FISICA\n",
      "Score LR: 4.896227487994913\n",
      "Score DT: 4.87192733341222\n",
      "Score RF: 4.745088629600749\n",
      "\n",
      "Scores for the Columns/Subject: PUNT_GEOGRAFIA\n",
      "Score LR: 4.88821229942449\n",
      "Score DT: 5.026334222859051\n",
      "Score RF: 4.8464036941931\n",
      "\n",
      "Scores for the Columns/Subject: PUNT_INTERDISCIPLINAR\n",
      "Score LR: 6.7061699272083635\n",
      "Score DT: 5.9032918896030955\n",
      "Score RF: 5.591020129755009\n",
      "\n"
     ]
    }
   ],
   "source": [
    "vs_2002_1 = Test_all_Subjects(data_2001_2, data_2002_1)"
   ]
  },
  {
   "cell_type": "code",
   "execution_count": 17,
   "metadata": {
    "collapsed": false,
    "scrolled": true
   },
   "outputs": [
    {
     "name": "stdout",
     "output_type": "stream",
     "text": [
      "Scores for the Columns/Subject: PUNT_LENGUAJE\n",
      "Score LR: 6.145081127795524\n",
      "Score DT: 6.047239624842996\n",
      "Score RF: 5.140029580265661\n",
      "\n",
      "Scores for the Columns/Subject: PUNT_BIOLOGIA\n",
      "Score LR: 5.447391259212842\n",
      "Score DT: 5.552927911458737\n",
      "Score RF: 4.674656661020698\n",
      "\n",
      "Scores for the Columns/Subject: PUNT_QUIMICA\n",
      "Score LR: 4.904257387093045\n",
      "Score DT: 4.53810985192139\n",
      "Score RF: 4.42956521379194\n",
      "\n",
      "Scores for the Columns/Subject: PUNT_FILOSOFIA\n",
      "Score LR: 5.392694717551604\n",
      "Score DT: 5.911045740708702\n",
      "Score RF: 5.11086998770312\n",
      "\n",
      "Scores for the Columns/Subject: PUNT_MATEMATICAS\n",
      "Score LR: 5.377487647793772\n",
      "Score DT: 5.700069707636433\n",
      "Score RF: 4.859523067035227\n",
      "\n",
      "Scores for the Columns/Subject: PUNT_HISTORIA\n",
      "Score LR: 4.871059803346662\n",
      "Score DT: 4.8495923697761905\n",
      "Score RF: 4.201111382921563\n",
      "\n",
      "Scores for the Columns/Subject: PUNT_IDIOMA\n",
      "Score LR: 6.944967329508168\n",
      "Score DT: 6.191365073169446\n",
      "Score RF: 4.577191728746795\n",
      "\n",
      "Scores for the Columns/Subject: PUNT_FISICA\n",
      "Score LR: 5.055084806659617\n",
      "Score DT: 5.071913122963056\n",
      "Score RF: 5.038085865647785\n",
      "\n",
      "Scores for the Columns/Subject: PUNT_GEOGRAFIA\n",
      "Score LR: 5.148024747222487\n",
      "Score DT: 5.010016274948895\n",
      "Score RF: 4.80677803083797\n",
      "\n",
      "Scores for the Columns/Subject: PUNT_INTERDISCIPLINAR\n",
      "Score LR: 11.88429665636674\n",
      "Score DT: 11.361446788776249\n",
      "Score RF: 4.825937807835516\n",
      "\n"
     ]
    }
   ],
   "source": [
    "vs_2002_2 = Test_all_Subjects(data_2002_1, data_2002_2)"
   ]
  },
  {
   "cell_type": "code",
   "execution_count": 18,
   "metadata": {
    "collapsed": false,
    "scrolled": true
   },
   "outputs": [
    {
     "name": "stdout",
     "output_type": "stream",
     "text": [
      "Scores for the Columns/Subject: PUNT_LENGUAJE\n",
      "Score LR: 8.383245793110044\n",
      "Score DT: 5.448064595361581\n",
      "Score RF: 4.755675925266878\n",
      "\n",
      "Scores for the Columns/Subject: PUNT_BIOLOGIA\n",
      "Score LR: 7.265458572723387\n",
      "Score DT: 5.341580300850033\n",
      "Score RF: 4.86539948699429\n",
      "\n",
      "Scores for the Columns/Subject: PUNT_QUIMICA\n",
      "Score LR: 5.208431585600226\n",
      "Score DT: 4.264738103057732\n",
      "Score RF: 4.568422926366079\n",
      "\n",
      "Scores for the Columns/Subject: PUNT_FILOSOFIA\n",
      "Score LR: 5.265570891698734\n",
      "Score DT: 4.967319475260628\n",
      "Score RF: 4.8294256545531535\n",
      "\n",
      "Scores for the Columns/Subject: PUNT_MATEMATICAS\n",
      "Score LR: 6.041389130714376\n",
      "Score DT: 4.494008743657832\n",
      "Score RF: 4.566033742369112\n",
      "\n",
      "Scores for the Columns/Subject: PUNT_HISTORIA\n",
      "Score LR: 6.179962962423907\n",
      "Score DT: 4.704167271385546\n",
      "Score RF: 4.477156278908261\n",
      "\n",
      "Scores for the Columns/Subject: PUNT_IDIOMA\n",
      "Score LR: 6.466825124745494\n",
      "Score DT: 5.990201111977327\n",
      "Score RF: 5.584058806301256\n",
      "\n",
      "Scores for the Columns/Subject: PUNT_FISICA\n",
      "Score LR: 5.3123595739168605\n",
      "Score DT: 5.286501962829375\n",
      "Score RF: 5.81872101299068\n",
      "\n",
      "Scores for the Columns/Subject: PUNT_GEOGRAFIA\n",
      "Score LR: 6.856761595746441\n",
      "Score DT: 5.491389022917874\n",
      "Score RF: 5.743323121735749\n",
      "\n",
      "Scores for the Columns/Subject: PUNT_INTERDISCIPLINAR\n",
      "Score LR: 5.9116822786528065\n",
      "Score DT: 4.523967882264728\n",
      "Score RF: 4.851988641071982\n",
      "\n"
     ]
    }
   ],
   "source": [
    "vs_2003_1 = Test_all_Subjects(data_2002_2, data_2003_1)"
   ]
  },
  {
   "cell_type": "code",
   "execution_count": 19,
   "metadata": {
    "collapsed": false,
    "scrolled": true
   },
   "outputs": [
    {
     "name": "stdout",
     "output_type": "stream",
     "text": [
      "Scores for the Columns/Subject: PUNT_LENGUAJE\n",
      "Score LR: 7.089867169127317\n",
      "Score DT: 6.836722688503952\n",
      "Score RF: 6.447958156519817\n",
      "\n",
      "Scores for the Columns/Subject: PUNT_BIOLOGIA\n",
      "Score LR: 5.888622978638046\n",
      "Score DT: 5.712569825221261\n",
      "Score RF: 5.039168736584661\n",
      "\n",
      "Scores for the Columns/Subject: PUNT_QUIMICA\n",
      "Score LR: 5.784070332994923\n",
      "Score DT: 5.1552576884519885\n",
      "Score RF: 5.694339803731451\n",
      "\n",
      "Scores for the Columns/Subject: PUNT_FILOSOFIA\n",
      "Score LR: 5.604780413665633\n",
      "Score DT: 5.741271889582908\n",
      "Score RF: 5.426866705997221\n",
      "\n",
      "Scores for the Columns/Subject: PUNT_MATEMATICAS\n",
      "Score LR: 4.600544278876304\n",
      "Score DT: 5.529893169010631\n",
      "Score RF: 4.330031766036016\n",
      "\n",
      "Scores for the Columns/Subject: PUNT_HISTORIA\n",
      "Score LR: 5.12982043329288\n",
      "Score DT: 4.87032382737941\n",
      "Score RF: 4.352897498346213\n",
      "\n",
      "Scores for the Columns/Subject: PUNT_IDIOMA\n",
      "Score LR: 7.160692759108599\n",
      "Score DT: 5.360010379832518\n",
      "Score RF: 5.749827167348573\n",
      "\n",
      "Scores for the Columns/Subject: PUNT_FISICA\n",
      "Score LR: 5.574812265830469\n",
      "Score DT: 6.063033015310413\n",
      "Score RF: 5.034644781798327\n",
      "\n",
      "Scores for the Columns/Subject: PUNT_GEOGRAFIA\n",
      "Score LR: 6.399837038412736\n",
      "Score DT: 6.232709651360028\n",
      "Score RF: 5.55135178470434\n",
      "\n",
      "Scores for the Columns/Subject: PUNT_INTERDISCIPLINAR\n",
      "Score LR: 8.213007124594961\n",
      "Score DT: 9.220244654954351\n",
      "Score RF: 9.054715653843353\n",
      "\n"
     ]
    }
   ],
   "source": [
    "vs_2003_2 = Test_all_Subjects(data_2003_1, data_2003_2)"
   ]
  },
  {
   "cell_type": "code",
   "execution_count": 20,
   "metadata": {
    "collapsed": false,
    "scrolled": true
   },
   "outputs": [
    {
     "name": "stdout",
     "output_type": "stream",
     "text": [
      "Scores for the Columns/Subject: PUNT_LENGUAJE\n",
      "Score LR: 8.146207310038118\n",
      "Score DT: 8.177992564099796\n",
      "Score RF: 6.889141519816216\n",
      "\n",
      "Scores for the Columns/Subject: PUNT_BIOLOGIA\n",
      "Score LR: 5.219811928271651\n",
      "Score DT: 5.2186428258787725\n",
      "Score RF: 4.855567843218847\n",
      "\n",
      "Scores for the Columns/Subject: PUNT_QUIMICA\n",
      "Score LR: 5.38540718678592\n",
      "Score DT: 5.373449562608562\n",
      "Score RF: 4.577681250697758\n",
      "\n",
      "Scores for the Columns/Subject: PUNT_FILOSOFIA\n",
      "Score LR: 8.357852127095786\n",
      "Score DT: 8.558321758007626\n",
      "Score RF: 8.128375377912231\n",
      "\n",
      "Scores for the Columns/Subject: PUNT_MATEMATICAS\n",
      "Score LR: 5.608835793812954\n",
      "Score DT: 5.727781669878081\n",
      "Score RF: 5.525292171213726\n",
      "\n",
      "Scores for the Columns/Subject: PUNT_HISTORIA\n",
      "Score LR: 4.483490239662675\n",
      "Score DT: 4.289304348975744\n",
      "Score RF: 4.1469155378985905\n",
      "\n",
      "Scores for the Columns/Subject: PUNT_IDIOMA\n",
      "Score LR: 5.901889819846712\n",
      "Score DT: 5.825548379220431\n",
      "Score RF: 5.535248513341666\n",
      "\n",
      "Scores for the Columns/Subject: PUNT_FISICA\n",
      "Score LR: 5.327819561677283\n",
      "Score DT: 5.102000597770563\n",
      "Score RF: 4.853567752550266\n",
      "\n",
      "Scores for the Columns/Subject: PUNT_GEOGRAFIA\n",
      "Score LR: 5.517330560175579\n",
      "Score DT: 5.730015133551124\n",
      "Score RF: 5.293643909459701\n",
      "\n",
      "Scores for the Columns/Subject: PUNT_INTERDISCIPLINAR\n",
      "Score LR: 9.38281854373885\n",
      "Score DT: 9.49441230152541\n",
      "Score RF: 7.873642545638988\n",
      "\n"
     ]
    }
   ],
   "source": [
    "vs_2004_1 = Test_all_Subjects(data_2003_2, data_2004_1)"
   ]
  },
  {
   "cell_type": "code",
   "execution_count": 21,
   "metadata": {
    "collapsed": false,
    "scrolled": true
   },
   "outputs": [
    {
     "name": "stdout",
     "output_type": "stream",
     "text": [
      "Scores for the Columns/Subject: PUNT_LENGUAJE\n",
      "DATA ERROR... Linear Regression: Se pudo entrenar pero no validar.\n",
      "DATA ERROR... Decision Tree: Se pudo entrenar pero no validar.\n",
      "DATA ERROR... Random Forest: Se pudo entrenar pero no validar.\n",
      "\n",
      "Scores for the Columns/Subject: PUNT_BIOLOGIA\n",
      "DATA ERROR... Linear Regression: Se pudo entrenar pero no validar.\n",
      "DATA ERROR... Decision Tree: Se pudo entrenar pero no validar.\n",
      "DATA ERROR... Random Forest: Se pudo entrenar pero no validar.\n",
      "\n",
      "Scores for the Columns/Subject: PUNT_QUIMICA\n",
      "DATA ERROR... Linear Regression: Se pudo entrenar pero no validar.\n",
      "DATA ERROR... Decision Tree: Se pudo entrenar pero no validar.\n",
      "DATA ERROR... Random Forest: Se pudo entrenar pero no validar.\n",
      "\n",
      "Scores for the Columns/Subject: PUNT_FILOSOFIA\n",
      "DATA ERROR... Linear Regression: Se pudo entrenar pero no validar.\n",
      "DATA ERROR... Decision Tree: Se pudo entrenar pero no validar.\n",
      "DATA ERROR... Random Forest: Se pudo entrenar pero no validar.\n",
      "\n",
      "Scores for the Columns/Subject: PUNT_MATEMATICAS\n",
      "DATA ERROR... Linear Regression: Se pudo entrenar pero no validar.\n",
      "DATA ERROR... Decision Tree: Se pudo entrenar pero no validar.\n",
      "DATA ERROR... Random Forest: Se pudo entrenar pero no validar.\n",
      "\n",
      "Scores for the Columns/Subject: PUNT_HISTORIA\n",
      "DATA ERROR... Linear Regression: Se pudo entrenar pero no validar.\n",
      "DATA ERROR... Decision Tree: Se pudo entrenar pero no validar.\n",
      "DATA ERROR... Random Forest: Se pudo entrenar pero no validar.\n",
      "\n",
      "Scores for the Columns/Subject: PUNT_IDIOMA\n",
      "DATA ERROR... Linear Regression: Se pudo entrenar pero no validar.\n",
      "DATA ERROR... Decision Tree: Se pudo entrenar pero no validar.\n",
      "DATA ERROR... Random Forest: Se pudo entrenar pero no validar.\n",
      "\n",
      "Scores for the Columns/Subject: PUNT_FISICA\n",
      "DATA ERROR... Linear Regression: Se pudo entrenar pero no validar.\n",
      "DATA ERROR... Decision Tree: Se pudo entrenar pero no validar.\n",
      "DATA ERROR... Random Forest: Se pudo entrenar pero no validar.\n",
      "\n",
      "Scores for the Columns/Subject: PUNT_GEOGRAFIA\n",
      "DATA ERROR... Linear Regression: Se pudo entrenar pero no validar.\n",
      "DATA ERROR... Decision Tree: Se pudo entrenar pero no validar.\n",
      "DATA ERROR... Random Forest: Se pudo entrenar pero no validar.\n",
      "\n",
      "Scores for the Columns/Subject: PUNT_INTERDISCIPLINAR\n",
      "DATA ERROR... Linear Regression: Se pudo entrenar pero no validar.\n",
      "DATA ERROR... Decision Tree: Se pudo entrenar pero no validar.\n",
      "DATA ERROR... Random Forest: Se pudo entrenar pero no validar.\n",
      "\n"
     ]
    }
   ],
   "source": [
    "vs_2004_2 = Test_all_Subjects(data_2004_1, data_2004_2)"
   ]
  },
  {
   "cell_type": "code",
   "execution_count": 22,
   "metadata": {
    "collapsed": false,
    "scrolled": true
   },
   "outputs": [
    {
     "name": "stdout",
     "output_type": "stream",
     "text": [
      "Scores for the Columns/Subject: PUNT_LENGUAJE\n",
      "DATA ERROR... Linear Regression: No se pudo entrenar el modelo.\n",
      "DATA ERROR... Decision Tree: No se pudo entrenar el modelo.\n",
      "DATA ERROR... Random Forest: No se pudo entrenar el modelo.\n",
      "\n",
      "Scores for the Columns/Subject: PUNT_BIOLOGIA\n",
      "DATA ERROR... Linear Regression: No se pudo entrenar el modelo.\n",
      "DATA ERROR... Decision Tree: No se pudo entrenar el modelo.\n",
      "DATA ERROR... Random Forest: No se pudo entrenar el modelo.\n",
      "\n",
      "Scores for the Columns/Subject: PUNT_QUIMICA\n",
      "DATA ERROR... Linear Regression: No se pudo entrenar el modelo.\n",
      "DATA ERROR... Decision Tree: No se pudo entrenar el modelo.\n",
      "DATA ERROR... Random Forest: No se pudo entrenar el modelo.\n",
      "\n",
      "Scores for the Columns/Subject: PUNT_FILOSOFIA\n",
      "DATA ERROR... Linear Regression: No se pudo entrenar el modelo.\n",
      "DATA ERROR... Decision Tree: No se pudo entrenar el modelo.\n",
      "DATA ERROR... Random Forest: No se pudo entrenar el modelo.\n",
      "\n",
      "Scores for the Columns/Subject: PUNT_MATEMATICAS\n",
      "DATA ERROR... Linear Regression: No se pudo entrenar el modelo.\n",
      "DATA ERROR... Decision Tree: No se pudo entrenar el modelo.\n",
      "DATA ERROR... Random Forest: No se pudo entrenar el modelo.\n",
      "\n",
      "Scores for the Columns/Subject: PUNT_HISTORIA\n",
      "DATA ERROR... Linear Regression: No se pudo entrenar el modelo.\n",
      "DATA ERROR... Decision Tree: No se pudo entrenar el modelo.\n",
      "DATA ERROR... Random Forest: No se pudo entrenar el modelo.\n",
      "\n",
      "Scores for the Columns/Subject: PUNT_IDIOMA\n",
      "DATA ERROR... Linear Regression: No se pudo entrenar el modelo.\n",
      "DATA ERROR... Decision Tree: No se pudo entrenar el modelo.\n",
      "DATA ERROR... Random Forest: No se pudo entrenar el modelo.\n",
      "\n",
      "Scores for the Columns/Subject: PUNT_FISICA\n",
      "DATA ERROR... Linear Regression: No se pudo entrenar el modelo.\n",
      "DATA ERROR... Decision Tree: No se pudo entrenar el modelo.\n",
      "DATA ERROR... Random Forest: No se pudo entrenar el modelo.\n",
      "\n",
      "Scores for the Columns/Subject: PUNT_GEOGRAFIA\n",
      "DATA ERROR... Linear Regression: No se pudo entrenar el modelo.\n",
      "DATA ERROR... Decision Tree: No se pudo entrenar el modelo.\n",
      "DATA ERROR... Random Forest: No se pudo entrenar el modelo.\n",
      "\n",
      "Scores for the Columns/Subject: PUNT_INTERDISCIPLINAR\n",
      "DATA ERROR... Linear Regression: No se pudo entrenar el modelo.\n",
      "DATA ERROR... Decision Tree: No se pudo entrenar el modelo.\n",
      "DATA ERROR... Random Forest: No se pudo entrenar el modelo.\n",
      "\n"
     ]
    }
   ],
   "source": [
    "vs_2005_1 = Test_all_Subjects(data_2004_2, data_2005_1)"
   ]
  },
  {
   "cell_type": "code",
   "execution_count": 23,
   "metadata": {
    "collapsed": false,
    "scrolled": true
   },
   "outputs": [
    {
     "name": "stdout",
     "output_type": "stream",
     "text": [
      "Scores for the Columns/Subject: ESTU_PUESTO\n",
      "DATA ERROR... Linear Regression: No se pudo entrenar el modelo.\n",
      "DATA ERROR... Decision Tree: No se pudo entrenar el modelo.\n",
      "DATA ERROR... Random Forest: No se pudo entrenar el modelo.\n",
      "\n",
      "Scores for the Columns/Subject: PUNT_PROFUNDIZACION\n",
      "DATA ERROR... Linear Regression: No se pudo entrenar el modelo.\n",
      "DATA ERROR... Decision Tree: No se pudo entrenar el modelo.\n",
      "DATA ERROR... Random Forest: No se pudo entrenar el modelo.\n",
      "\n",
      "Scores for the Columns/Subject: PUNT_LENGUAJE\n",
      "DATA ERROR... Linear Regression: No se pudo entrenar el modelo.\n",
      "DATA ERROR... Decision Tree: No se pudo entrenar el modelo.\n",
      "DATA ERROR... Random Forest: No se pudo entrenar el modelo.\n",
      "\n",
      "Scores for the Columns/Subject: PUNT_BIOLOGIA\n",
      "DATA ERROR... Linear Regression: No se pudo entrenar el modelo.\n",
      "DATA ERROR... Decision Tree: No se pudo entrenar el modelo.\n",
      "DATA ERROR... Random Forest: No se pudo entrenar el modelo.\n",
      "\n",
      "Scores for the Columns/Subject: PUNT_QUIMICA\n",
      "DATA ERROR... Linear Regression: No se pudo entrenar el modelo.\n",
      "DATA ERROR... Decision Tree: No se pudo entrenar el modelo.\n",
      "DATA ERROR... Random Forest: No se pudo entrenar el modelo.\n",
      "\n",
      "Scores for the Columns/Subject: PUNT_FILOSOFIA\n",
      "DATA ERROR... Linear Regression: No se pudo entrenar el modelo.\n",
      "DATA ERROR... Decision Tree: No se pudo entrenar el modelo.\n",
      "DATA ERROR... Random Forest: No se pudo entrenar el modelo.\n",
      "\n",
      "Scores for the Columns/Subject: PUNT_MATEMATICAS\n",
      "DATA ERROR... Linear Regression: No se pudo entrenar el modelo.\n",
      "DATA ERROR... Decision Tree: No se pudo entrenar el modelo.\n",
      "DATA ERROR... Random Forest: No se pudo entrenar el modelo.\n",
      "\n",
      "Scores for the Columns/Subject: PUNT_HISTORIA\n",
      "DATA ERROR... Linear Regression: No se pudo entrenar el modelo.\n",
      "DATA ERROR... Decision Tree: No se pudo entrenar el modelo.\n",
      "DATA ERROR... Random Forest: No se pudo entrenar el modelo.\n",
      "\n",
      "Scores for the Columns/Subject: PUNT_IDIOMA\n",
      "DATA ERROR... Linear Regression: No se pudo entrenar el modelo.\n",
      "DATA ERROR... Decision Tree: No se pudo entrenar el modelo.\n",
      "DATA ERROR... Random Forest: No se pudo entrenar el modelo.\n",
      "\n",
      "Scores for the Columns/Subject: PUNT_FISICA\n",
      "DATA ERROR... Linear Regression: No se pudo entrenar el modelo.\n",
      "DATA ERROR... Decision Tree: No se pudo entrenar el modelo.\n",
      "DATA ERROR... Random Forest: No se pudo entrenar el modelo.\n",
      "\n",
      "Scores for the Columns/Subject: PUNT_GEOGRAFIA\n",
      "DATA ERROR... Linear Regression: No se pudo entrenar el modelo.\n",
      "DATA ERROR... Decision Tree: No se pudo entrenar el modelo.\n",
      "DATA ERROR... Random Forest: No se pudo entrenar el modelo.\n",
      "\n",
      "Scores for the Columns/Subject: PUNT_INTERDISCIPLINAR\n",
      "DATA ERROR... Linear Regression: No se pudo entrenar el modelo.\n",
      "DATA ERROR... Decision Tree: No se pudo entrenar el modelo.\n",
      "DATA ERROR... Random Forest: No se pudo entrenar el modelo.\n",
      "\n"
     ]
    }
   ],
   "source": [
    "vs_2005_2 = Test_all_Subjects(data_2005_1, data_2005_2)"
   ]
  },
  {
   "cell_type": "code",
   "execution_count": 24,
   "metadata": {
    "collapsed": false,
    "scrolled": true
   },
   "outputs": [
    {
     "name": "stdout",
     "output_type": "stream",
     "text": [
      "Scores for the Columns/Subject: ESTU_PUESTO\n",
      "Score LR: 258.83604369024715\n",
      "Score DT: 247.58751371034774\n",
      "DATA ERROR... Random Forest: No se pudo entrenar el modelo.\n",
      "\n",
      "Scores for the Columns/Subject: PUNT_PROFUNDIZACION\n",
      "Score LR: 1.05404221815777\n",
      "Score DT: 1.0438456123829\n",
      "DATA ERROR... Random Forest: No se pudo entrenar el modelo.\n",
      "\n",
      "Scores for the Columns/Subject: PUNT_LENGUAJE\n",
      "Score LR: 7.043510437114075\n",
      "Score DT: 8.878063249780713\n",
      "DATA ERROR... Random Forest: No se pudo entrenar el modelo.\n",
      "\n",
      "Scores for the Columns/Subject: PUNT_BIOLOGIA\n",
      "Score LR: 6.843252822774117\n",
      "Score DT: 6.417422444243127\n",
      "DATA ERROR... Random Forest: No se pudo entrenar el modelo.\n",
      "\n",
      "Scores for the Columns/Subject: PUNT_QUIMICA\n",
      "Score LR: 5.016641769461237\n",
      "Score DT: 4.9322237022676845\n",
      "DATA ERROR... Random Forest: No se pudo entrenar el modelo.\n",
      "\n",
      "Scores for the Columns/Subject: PUNT_FILOSOFIA\n",
      "Score LR: 6.795869791272771\n",
      "Score DT: 7.322630863492721\n",
      "DATA ERROR... Random Forest: No se pudo entrenar el modelo.\n",
      "\n",
      "Scores for the Columns/Subject: PUNT_MATEMATICAS\n",
      "Score LR: 8.884536448102146\n",
      "Score DT: 9.7474414054913\n",
      "DATA ERROR... Random Forest: No se pudo entrenar el modelo.\n",
      "\n",
      "Scores for the Columns/Subject: PUNT_IDIOMA\n",
      "Score LR: 8.821189477472977\n",
      "Score DT: 8.20076657552335\n",
      "DATA ERROR... Random Forest: No se pudo entrenar el modelo.\n",
      "\n",
      "Scores for the Columns/Subject: PUNT_FISICA\n",
      "Score LR: 6.08683962447172\n",
      "Score DT: 6.206068461105013\n",
      "DATA ERROR... Random Forest: No se pudo entrenar el modelo.\n",
      "\n",
      "Scores for the Columns/Subject: PUNT_INTERDISCIPLINAR\n",
      "Score LR: 5.8561222482193305\n",
      "Score DT: 5.876736290040973\n",
      "DATA ERROR... Random Forest: No se pudo entrenar el modelo.\n",
      "\n"
     ]
    }
   ],
   "source": [
    "vs_2006_1 = Test_all_Subjects(data_2005_2, data_2006_1)"
   ]
  },
  {
   "cell_type": "code",
   "execution_count": 25,
   "metadata": {
    "collapsed": false,
    "scrolled": true
   },
   "outputs": [
    {
     "name": "stdout",
     "output_type": "stream",
     "text": [
      "Scores for the Columns/Subject: ESTU_PUESTO\n",
      "Score LR: 41402014.71219757\n",
      "Score DT: 258.6495218781689\n",
      "DATA ERROR... Random Forest: No se pudo entrenar el modelo.\n",
      "\n",
      "Scores for the Columns/Subject: PUNT_PROFUNDIZACION\n",
      "Score LR: 87645.90127254461\n",
      "Score DT: 0.8762064765801637\n",
      "DATA ERROR... Random Forest: No se pudo entrenar el modelo.\n",
      "\n",
      "Scores for the Columns/Subject: PUNT_LENGUAJE\n",
      "Score LR: 889605.574478275\n",
      "Score DT: 5.742451931343585\n",
      "DATA ERROR... Random Forest: No se pudo entrenar el modelo.\n",
      "\n",
      "Scores for the Columns/Subject: PUNT_BIOLOGIA\n",
      "Score LR: 971734.2434214749\n",
      "Score DT: 6.702640906829561\n",
      "DATA ERROR... Random Forest: No se pudo entrenar el modelo.\n",
      "\n",
      "Scores for the Columns/Subject: PUNT_QUIMICA\n",
      "Score LR: 713504.7443355382\n",
      "Score DT: 5.196432234393092\n",
      "DATA ERROR... Random Forest: No se pudo entrenar el modelo.\n",
      "\n",
      "Scores for the Columns/Subject: PUNT_FILOSOFIA\n",
      "Score LR: 763625.6981211979\n",
      "Score DT: 6.850514310577907\n",
      "DATA ERROR... Random Forest: No se pudo entrenar el modelo.\n",
      "\n",
      "Scores for the Columns/Subject: PUNT_MATEMATICAS\n",
      "Score LR: 1108169.6073326222\n",
      "Score DT: 11.535911137650565\n",
      "DATA ERROR... Random Forest: No se pudo entrenar el modelo.\n",
      "\n",
      "Scores for the Columns/Subject: PUNT_IDIOMA\n",
      "Score LR: 1551830.1750238463\n",
      "Score DT: 10.652550808676281\n",
      "DATA ERROR... Random Forest: No se pudo entrenar el modelo.\n",
      "\n",
      "Scores for the Columns/Subject: PUNT_C_SOCIALES\n",
      "Score LR: 532960.6375762058\n",
      "Score DT: 6.852684127058996\n",
      "DATA ERROR... Random Forest: No se pudo entrenar el modelo.\n",
      "\n",
      "Scores for the Columns/Subject: PUNT_FISICA\n",
      "Score LR: 630638.0998675858\n",
      "Score DT: 7.005312674774162\n",
      "DATA ERROR... Random Forest: No se pudo entrenar el modelo.\n",
      "\n",
      "Scores for the Columns/Subject: PUNT_INTERDISCIPLINAR\n",
      "Score LR: 431233.97683577146\n",
      "Score DT: 6.061498841069936\n",
      "DATA ERROR... Random Forest: No se pudo entrenar el modelo.\n",
      "\n"
     ]
    }
   ],
   "source": [
    "vs_2006_2 = Test_all_Subjects(data_2006_1, data_2006_2)"
   ]
  },
  {
   "cell_type": "code",
   "execution_count": 26,
   "metadata": {
    "collapsed": false,
    "scrolled": true
   },
   "outputs": [
    {
     "name": "stdout",
     "output_type": "stream",
     "text": [
      "Scores for the Columns/Subject: ESTU_PUESTO\n",
      "Score LR: 248.0642587588536\n",
      "Score DT: 251.19839961650916\n",
      "DATA ERROR... Random Forest: No se pudo entrenar el modelo.\n",
      "\n",
      "Scores for the Columns/Subject: PUNT_PROFUNDIZACION\n",
      "Score LR: 0.7298418247882464\n",
      "Score DT: 0.7404446624395059\n",
      "DATA ERROR... Random Forest: No se pudo entrenar el modelo.\n",
      "\n",
      "Scores for the Columns/Subject: PUNT_LENGUAJE\n",
      "Score LR: 5.865519920994175\n",
      "Score DT: 6.265061753911978\n",
      "DATA ERROR... Random Forest: No se pudo entrenar el modelo.\n",
      "\n",
      "Scores for the Columns/Subject: PUNT_BIOLOGIA\n",
      "Score LR: 5.588056015903923\n",
      "Score DT: 5.572271687147427\n",
      "DATA ERROR... Random Forest: No se pudo entrenar el modelo.\n",
      "\n",
      "Scores for the Columns/Subject: PUNT_QUIMICA\n",
      "Score LR: 5.84742751212727\n",
      "Score DT: 5.543882279090239\n",
      "DATA ERROR... Random Forest: No se pudo entrenar el modelo.\n",
      "\n",
      "Scores for the Columns/Subject: PUNT_FILOSOFIA\n",
      "Score LR: 6.71206020255401\n",
      "Score DT: 6.256688163803463\n",
      "DATA ERROR... Random Forest: No se pudo entrenar el modelo.\n",
      "\n",
      "Scores for the Columns/Subject: PUNT_MATEMATICAS\n",
      "Score LR: 7.413007614831659\n",
      "Score DT: 7.401486347812383\n",
      "DATA ERROR... Random Forest: No se pudo entrenar el modelo.\n",
      "\n",
      "Scores for the Columns/Subject: PUNT_C_SOCIALES\n",
      "Score LR: 7.313376369053439\n",
      "Score DT: 7.73528891303174\n",
      "DATA ERROR... Random Forest: No se pudo entrenar el modelo.\n",
      "\n",
      "Scores for the Columns/Subject: PUNT_FISICA\n",
      "Score LR: 5.725402152995523\n",
      "Score DT: 5.59762664476501\n",
      "DATA ERROR... Random Forest: No se pudo entrenar el modelo.\n",
      "\n",
      "Scores for the Columns/Subject: PUNT_INTERDISCIPLINAR\n",
      "Score LR: 6.014766111548226\n",
      "Score DT: 6.004616332748178\n",
      "DATA ERROR... Random Forest: No se pudo entrenar el modelo.\n",
      "\n"
     ]
    }
   ],
   "source": [
    "vs_2007_1 = Test_all_Subjects(data_2006_2, data_2007_1)"
   ]
  },
  {
   "cell_type": "code",
   "execution_count": 27,
   "metadata": {
    "collapsed": false,
    "scrolled": true
   },
   "outputs": [
    {
     "name": "stdout",
     "output_type": "stream",
     "text": [
      "Scores for the Columns/Subject: ESTU_PUESTO\n",
      "Score LR: 58602682.204636425\n",
      "Score DT: 250.0756942464945\n",
      "DATA ERROR... Random Forest: No se pudo entrenar el modelo.\n",
      "\n",
      "Scores for the Columns/Subject: PUNT_PROFUNDIZACION\n",
      "Score LR: 127461.91477489403\n",
      "Score DT: 0.722115620791879\n",
      "DATA ERROR... Random Forest: No se pudo entrenar el modelo.\n",
      "\n",
      "Scores for the Columns/Subject: PUNT_INGLES\n",
      "Score LR: 1638197.2696682431\n",
      "Score DT: 7.224895399895341\n",
      "DATA ERROR... Random Forest: No se pudo entrenar el modelo.\n",
      "\n",
      "Scores for the Columns/Subject: PUNT_LENGUAJE\n",
      "Score LR: 1045285.0376331421\n",
      "Score DT: 6.829074054337193\n",
      "DATA ERROR... Random Forest: No se pudo entrenar el modelo.\n",
      "\n",
      "Scores for the Columns/Subject: PUNT_BIOLOGIA\n",
      "Score LR: 1103299.4343893167\n",
      "Score DT: 5.9160655913804465\n",
      "DATA ERROR... Random Forest: No se pudo entrenar el modelo.\n",
      "\n",
      "Scores for the Columns/Subject: PUNT_QUIMICA\n",
      "Score LR: 1031891.1092964459\n",
      "Score DT: 5.111728534173099\n",
      "DATA ERROR... Random Forest: No se pudo entrenar el modelo.\n",
      "\n",
      "Scores for the Columns/Subject: PUNT_FILOSOFIA\n",
      "Score LR: 956359.6577025501\n",
      "Score DT: 5.746644529601192\n",
      "DATA ERROR... Random Forest: No se pudo entrenar el modelo.\n",
      "\n",
      "Scores for the Columns/Subject: PUNT_MATEMATICAS\n",
      "Score LR: 1554664.2573796127\n",
      "Score DT: 7.747642663384181\n",
      "DATA ERROR... Random Forest: No se pudo entrenar el modelo.\n",
      "\n",
      "Scores for the Columns/Subject: PUNT_C_SOCIALES\n",
      "Score LR: 1370592.4833326095\n",
      "Score DT: 8.350713952202042\n",
      "DATA ERROR... Random Forest: No se pudo entrenar el modelo.\n",
      "\n",
      "Scores for the Columns/Subject: PUNT_FISICA\n",
      "Score LR: 570607.1287148432\n",
      "Score DT: 5.99093832398022\n",
      "DATA ERROR... Random Forest: No se pudo entrenar el modelo.\n",
      "\n",
      "Scores for the Columns/Subject: PUNT_INTERDISCIPLINAR\n",
      "Score LR: 745522.8230611538\n",
      "Score DT: 6.79833155553826\n",
      "DATA ERROR... Random Forest: No se pudo entrenar el modelo.\n",
      "\n"
     ]
    }
   ],
   "source": [
    "vs_2007_2 = Test_all_Subjects(data_2007_1, data_2007_2)"
   ]
  },
  {
   "cell_type": "code",
   "execution_count": 28,
   "metadata": {
    "collapsed": false,
    "scrolled": true
   },
   "outputs": [
    {
     "name": "stdout",
     "output_type": "stream",
     "text": [
      "Scores for the Columns/Subject: ESTU_PUESTO\n",
      "Score LR: 247.6712605064301\n",
      "Score DT: 243.85279426039062\n",
      "DATA ERROR... Random Forest: No se pudo entrenar el modelo.\n",
      "\n",
      "Scores for the Columns/Subject: PUNT_PROFUNDIZACION\n",
      "Score LR: 0.6814776611703377\n",
      "Score DT: 0.6708140743427397\n",
      "DATA ERROR... Random Forest: No se pudo entrenar el modelo.\n",
      "\n",
      "Scores for the Columns/Subject: PUNT_INGLES\n",
      "Score LR: 9.066543310170832\n",
      "Score DT: 7.628198969219196\n",
      "DATA ERROR... Random Forest: No se pudo entrenar el modelo.\n",
      "\n",
      "Scores for the Columns/Subject: PUNT_LENGUAJE\n",
      "Score LR: 6.810802288950268\n",
      "Score DT: 7.190679885672417\n",
      "DATA ERROR... Random Forest: No se pudo entrenar el modelo.\n",
      "\n",
      "Scores for the Columns/Subject: PUNT_BIOLOGIA\n",
      "Score LR: 5.879277044789649\n",
      "Score DT: 5.753073907841636\n",
      "DATA ERROR... Random Forest: No se pudo entrenar el modelo.\n",
      "\n",
      "Scores for the Columns/Subject: PUNT_QUIMICA\n",
      "Score LR: 5.999644897678682\n",
      "Score DT: 5.738999198726169\n",
      "DATA ERROR... Random Forest: No se pudo entrenar el modelo.\n",
      "\n",
      "Scores for the Columns/Subject: PUNT_FILOSOFIA\n",
      "Score LR: 7.915906170986783\n",
      "Score DT: 8.130179354740937\n",
      "DATA ERROR... Random Forest: No se pudo entrenar el modelo.\n",
      "\n",
      "Scores for the Columns/Subject: PUNT_MATEMATICAS\n",
      "Score LR: 9.195894326211672\n",
      "Score DT: 8.88102452571657\n",
      "DATA ERROR... Random Forest: No se pudo entrenar el modelo.\n",
      "\n",
      "Scores for the Columns/Subject: PUNT_C_SOCIALES\n",
      "Score LR: 6.613017537664314\n",
      "Score DT: 7.122375079363895\n",
      "DATA ERROR... Random Forest: No se pudo entrenar el modelo.\n",
      "\n",
      "Scores for the Columns/Subject: PUNT_FISICA\n",
      "Score LR: 6.327386269620595\n",
      "Score DT: 6.270905282051706\n",
      "DATA ERROR... Random Forest: No se pudo entrenar el modelo.\n",
      "\n",
      "Scores for the Columns/Subject: PUNT_INTERDISCIPLINAR\n",
      "Score LR: 6.909674321890256\n",
      "Score DT: 6.914744386296778\n",
      "DATA ERROR... Random Forest: No se pudo entrenar el modelo.\n",
      "\n"
     ]
    }
   ],
   "source": [
    "vs_2008_1 = Test_all_Subjects(data_2007_2, data_2008_1)"
   ]
  },
  {
   "cell_type": "code",
   "execution_count": 29,
   "metadata": {
    "collapsed": false,
    "scrolled": true
   },
   "outputs": [
    {
     "name": "stdout",
     "output_type": "stream",
     "text": [
      "Scores for the Columns/Subject: ESTU_PUESTO\n",
      "Score LR: 60968703.773733534\n",
      "Score DT: 247.91336750766607\n",
      "DATA ERROR... Random Forest: No se pudo entrenar el modelo.\n",
      "\n",
      "Scores for the Columns/Subject: PUNT_PROFUNDIZACION\n",
      "Score LR: 89036.03383755151\n",
      "Score DT: 0.9297829280807711\n",
      "DATA ERROR... Random Forest: No se pudo entrenar el modelo.\n",
      "\n",
      "Scores for the Columns/Subject: PUNT_INGLES\n",
      "Score LR: 2197127.945208028\n",
      "Score DT: 8.276704540211885\n",
      "DATA ERROR... Random Forest: No se pudo entrenar el modelo.\n",
      "\n",
      "Scores for the Columns/Subject: PUNT_LENGUAJE\n",
      "Score LR: 1347358.559053115\n",
      "Score DT: 6.579356136656493\n",
      "DATA ERROR... Random Forest: No se pudo entrenar el modelo.\n",
      "\n",
      "Scores for the Columns/Subject: PUNT_BIOLOGIA\n",
      "Score LR: 1142906.6371582642\n",
      "Score DT: 5.699380708882372\n",
      "DATA ERROR... Random Forest: No se pudo entrenar el modelo.\n",
      "\n",
      "Scores for the Columns/Subject: PUNT_QUIMICA\n",
      "Score LR: 1399932.957056192\n",
      "Score DT: 5.571264727941481\n",
      "DATA ERROR... Random Forest: No se pudo entrenar el modelo.\n",
      "\n",
      "Scores for the Columns/Subject: PUNT_FILOSOFIA\n",
      "Score LR: 1464720.5699021032\n",
      "Score DT: 5.766833290846809\n",
      "DATA ERROR... Random Forest: No se pudo entrenar el modelo.\n",
      "\n",
      "Scores for the Columns/Subject: PUNT_MATEMATICAS\n",
      "Score LR: 2264556.1151255625\n",
      "Score DT: 7.347707347787733\n",
      "DATA ERROR... Random Forest: No se pudo entrenar el modelo.\n",
      "\n",
      "Scores for the Columns/Subject: PUNT_C_SOCIALES\n",
      "Score LR: 1217710.0771684682\n",
      "Score DT: 6.948467414251151\n",
      "DATA ERROR... Random Forest: No se pudo entrenar el modelo.\n",
      "\n",
      "Scores for the Columns/Subject: PUNT_FISICA\n",
      "Score LR: 932015.6053998781\n",
      "Score DT: 6.189681325899364\n",
      "DATA ERROR... Random Forest: No se pudo entrenar el modelo.\n",
      "\n",
      "Scores for the Columns/Subject: PUNT_INTERDISCIPLINAR\n",
      "Score LR: 860759.0490357486\n",
      "Score DT: 6.624008102370313\n",
      "DATA ERROR... Random Forest: No se pudo entrenar el modelo.\n",
      "\n"
     ]
    }
   ],
   "source": [
    "vs_2008_2 = Test_all_Subjects(data_2008_1, data_2008_2)"
   ]
  },
  {
   "cell_type": "code",
   "execution_count": 30,
   "metadata": {
    "collapsed": false,
    "scrolled": true
   },
   "outputs": [
    {
     "name": "stdout",
     "output_type": "stream",
     "text": [
      "Scores for the Columns/Subject: ESTU_PUESTO\n",
      "Score LR: 242.96192995490057\n",
      "Score DT: 244.8901226293043\n",
      "DATA ERROR... Random Forest: No se pudo entrenar el modelo.\n",
      "\n",
      "Scores for the Columns/Subject: PUNT_PROFUNDIZACION\n",
      "Score LR: 0.7486300599397075\n",
      "Score DT: 0.7351178131968624\n",
      "DATA ERROR... Random Forest: No se pudo entrenar el modelo.\n",
      "\n",
      "Scores for the Columns/Subject: PUNT_INGLES\n",
      "Score LR: 8.738414000291558\n",
      "Score DT: 8.426252373960839\n",
      "DATA ERROR... Random Forest: No se pudo entrenar el modelo.\n",
      "\n",
      "Scores for the Columns/Subject: PUNT_LENGUAJE\n",
      "Score LR: 7.207833287991946\n",
      "Score DT: 7.693834989434356\n",
      "DATA ERROR... Random Forest: No se pudo entrenar el modelo.\n",
      "\n",
      "Scores for the Columns/Subject: PUNT_BIOLOGIA\n",
      "Score LR: 6.978737013006004\n",
      "Score DT: 6.700956694888211\n",
      "DATA ERROR... Random Forest: No se pudo entrenar el modelo.\n",
      "\n",
      "Scores for the Columns/Subject: PUNT_QUIMICA\n",
      "Score LR: 5.640386276897\n",
      "Score DT: 5.530145040575059\n",
      "DATA ERROR... Random Forest: No se pudo entrenar el modelo.\n",
      "\n",
      "Scores for the Columns/Subject: PUNT_FILOSOFIA\n",
      "Score LR: 6.661225524988027\n",
      "Score DT: 6.897973866441062\n",
      "DATA ERROR... Random Forest: No se pudo entrenar el modelo.\n",
      "\n",
      "Scores for the Columns/Subject: PUNT_MATEMATICAS\n",
      "Score LR: 8.958380512828514\n",
      "Score DT: 8.972932819493677\n",
      "DATA ERROR... Random Forest: No se pudo entrenar el modelo.\n",
      "\n",
      "Scores for the Columns/Subject: PUNT_C_SOCIALES\n",
      "Score LR: 6.7805386763550555\n",
      "Score DT: 6.475594022544804\n",
      "DATA ERROR... Random Forest: No se pudo entrenar el modelo.\n",
      "\n",
      "Scores for the Columns/Subject: PUNT_FISICA\n",
      "Score LR: 6.186640951745208\n",
      "Score DT: 6.152789689712919\n",
      "DATA ERROR... Random Forest: No se pudo entrenar el modelo.\n",
      "\n",
      "Scores for the Columns/Subject: PUNT_INTERDISCIPLINAR\n",
      "Score LR: 6.158007438722531\n",
      "Score DT: 6.117186566255218\n",
      "DATA ERROR... Random Forest: No se pudo entrenar el modelo.\n",
      "\n"
     ]
    }
   ],
   "source": [
    "vs_2009_1 = Test_all_Subjects(data_2008_2, data_2009_1)"
   ]
  },
  {
   "cell_type": "code",
   "execution_count": 31,
   "metadata": {
    "collapsed": false,
    "scrolled": true
   },
   "outputs": [
    {
     "name": "stdout",
     "output_type": "stream",
     "text": [
      "Scores for the Columns/Subject: ESTU_PUESTO\n",
      "Score LR: 65201866.725626156\n",
      "Score DT: 262.5460131416142\n",
      "DATA ERROR... Random Forest: No se pudo entrenar el modelo.\n",
      "\n",
      "Scores for the Columns/Subject: PUNT_PROFUNDIZACION\n",
      "Score LR: 128433.90541443111\n",
      "Score DT: 0.7148935627081113\n",
      "DATA ERROR... Random Forest: No se pudo entrenar el modelo.\n",
      "\n",
      "Scores for the Columns/Subject: PUNT_INGLES\n",
      "Score LR: 2456213.0389280785\n",
      "Score DT: 8.423767374770916\n",
      "DATA ERROR... Random Forest: No se pudo entrenar el modelo.\n",
      "\n",
      "Scores for the Columns/Subject: PUNT_LENGUAJE\n",
      "Score LR: 1470645.7500375614\n",
      "Score DT: 6.048984117996028\n",
      "DATA ERROR... Random Forest: No se pudo entrenar el modelo.\n",
      "\n",
      "Scores for the Columns/Subject: PUNT_BIOLOGIA\n",
      "Score LR: 1500654.032882066\n",
      "Score DT: 5.459139248813862\n",
      "DATA ERROR... Random Forest: No se pudo entrenar el modelo.\n",
      "\n",
      "Scores for the Columns/Subject: PUNT_QUIMICA\n",
      "Score LR: 1440101.5879643373\n",
      "Score DT: 5.403821490040415\n",
      "DATA ERROR... Random Forest: No se pudo entrenar el modelo.\n",
      "\n",
      "Scores for the Columns/Subject: PUNT_FILOSOFIA\n",
      "Score LR: 924612.7941009422\n",
      "Score DT: 7.230083558218888\n",
      "DATA ERROR... Random Forest: No se pudo entrenar el modelo.\n",
      "\n",
      "Scores for the Columns/Subject: PUNT_MATEMATICAS\n",
      "Score LR: 2465417.37978394\n",
      "Score DT: 8.91408292376449\n",
      "DATA ERROR... Random Forest: No se pudo entrenar el modelo.\n",
      "\n",
      "Scores for the Columns/Subject: PUNT_C_SOCIALES\n",
      "Score LR: 1234757.461545556\n",
      "Score DT: 7.031158116805524\n",
      "DATA ERROR... Random Forest: No se pudo entrenar el modelo.\n",
      "\n",
      "Scores for the Columns/Subject: PUNT_FISICA\n",
      "Score LR: 854129.1073471617\n",
      "Score DT: 6.134704664773551\n",
      "DATA ERROR... Random Forest: No se pudo entrenar el modelo.\n",
      "\n",
      "Scores for the Columns/Subject: PUNT_INTERDISCIPLINAR\n",
      "Score LR: 842099.3315505711\n",
      "Score DT: 6.081344117286462\n",
      "DATA ERROR... Random Forest: No se pudo entrenar el modelo.\n",
      "\n"
     ]
    }
   ],
   "source": [
    "vs_2009_2 = Test_all_Subjects(data_2009_1, data_2009_2)"
   ]
  },
  {
   "cell_type": "code",
   "execution_count": 32,
   "metadata": {
    "collapsed": false,
    "scrolled": true
   },
   "outputs": [
    {
     "name": "stdout",
     "output_type": "stream",
     "text": [
      "Scores for the Columns/Subject: ESTU_PUESTO\n",
      "Score LR: 292.17135194506074\n",
      "Score DT: 283.11707294612665\n",
      "DATA ERROR... Random Forest: No se pudo entrenar el modelo.\n",
      "\n",
      "Scores for the Columns/Subject: PUNT_INGLES\n",
      "Score LR: 12.636978893437838\n",
      "Score DT: 12.972171192308995\n",
      "DATA ERROR... Random Forest: No se pudo entrenar el modelo.\n",
      "\n",
      "Scores for the Columns/Subject: PUNT_LENGUAJE\n",
      "Score LR: 7.558022756124001\n",
      "Score DT: 8.778026578413753\n",
      "DATA ERROR... Random Forest: No se pudo entrenar el modelo.\n",
      "\n",
      "Scores for the Columns/Subject: PUNT_BIOLOGIA\n",
      "Score LR: 6.392429209473466\n",
      "Score DT: 6.448680710283027\n",
      "DATA ERROR... Random Forest: No se pudo entrenar el modelo.\n",
      "\n",
      "Scores for the Columns/Subject: PUNT_QUIMICA\n",
      "Score LR: 7.054826400788155\n",
      "Score DT: 7.320219844362723\n",
      "DATA ERROR... Random Forest: No se pudo entrenar el modelo.\n",
      "\n",
      "Scores for the Columns/Subject: PUNT_FILOSOFIA\n",
      "Score LR: 9.065068504361896\n",
      "Score DT: 10.256020181317512\n",
      "DATA ERROR... Random Forest: No se pudo entrenar el modelo.\n",
      "\n",
      "Scores for the Columns/Subject: PUNT_MATEMATICAS\n",
      "Score LR: 8.73061526724621\n",
      "Score DT: 9.347237697183578\n",
      "DATA ERROR... Random Forest: No se pudo entrenar el modelo.\n",
      "\n",
      "Scores for the Columns/Subject: PUNT_C_SOCIALES\n",
      "Score LR: 7.492913105732921\n",
      "Score DT: 8.026570134153191\n",
      "DATA ERROR... Random Forest: No se pudo entrenar el modelo.\n",
      "\n",
      "Scores for the Columns/Subject: PUNT_FISICA\n",
      "Score LR: 7.884556025096918\n",
      "Score DT: 7.89144290548904\n",
      "DATA ERROR... Random Forest: No se pudo entrenar el modelo.\n",
      "\n"
     ]
    }
   ],
   "source": [
    "vs_2010_1 = Test_all_Subjects(data_2011_2, data_2010_1)"
   ]
  },
  {
   "cell_type": "code",
   "execution_count": 33,
   "metadata": {
    "collapsed": false,
    "scrolled": true
   },
   "outputs": [
    {
     "name": "stdout",
     "output_type": "stream",
     "text": [
      "Scores for the Columns/Subject: ESTU_PUESTO\n",
      "Score LR: 178171209.43688163\n",
      "Score DT: 296.253255902843\n",
      "DATA ERROR... Random Forest: No se pudo entrenar el modelo.\n",
      "\n",
      "Scores for the Columns/Subject: PUNT_INGLES\n",
      "Score LR: 9071521.997272328\n",
      "Score DT: 11.591360446946732\n",
      "DATA ERROR... Random Forest: No se pudo entrenar el modelo.\n",
      "\n",
      "Scores for the Columns/Subject: PUNT_LENGUAJE\n",
      "Score LR: 3574182.511359329\n",
      "Score DT: 9.618859829053676\n",
      "DATA ERROR... Random Forest: No se pudo entrenar el modelo.\n",
      "\n",
      "Scores for the Columns/Subject: PUNT_BIOLOGIA\n",
      "Score LR: 3458494.9084153553\n",
      "Score DT: 10.06977520037242\n",
      "DATA ERROR... Random Forest: No se pudo entrenar el modelo.\n",
      "\n",
      "Scores for the Columns/Subject: PUNT_QUIMICA\n",
      "Score LR: 4522619.944599987\n",
      "Score DT: 9.944795490635451\n",
      "DATA ERROR... Random Forest: No se pudo entrenar el modelo.\n",
      "\n",
      "Scores for the Columns/Subject: PUNT_FILOSOFIA\n",
      "Score LR: 3219392.8486056104\n",
      "Score DT: 13.107784007270396\n",
      "DATA ERROR... Random Forest: No se pudo entrenar el modelo.\n",
      "\n",
      "Scores for the Columns/Subject: PUNT_MATEMATICAS\n",
      "Score LR: 5143365.321425834\n",
      "Score DT: 9.582148127318384\n",
      "DATA ERROR... Random Forest: No se pudo entrenar el modelo.\n",
      "\n",
      "Scores for the Columns/Subject: PUNT_C_SOCIALES\n",
      "Score LR: 3578356.450106049\n",
      "Score DT: 9.548133967159188\n",
      "DATA ERROR... Random Forest: No se pudo entrenar el modelo.\n",
      "\n",
      "Scores for the Columns/Subject: PUNT_FISICA\n",
      "Score LR: 4312604.424229212\n",
      "Score DT: 13.097286135000733\n",
      "DATA ERROR... Random Forest: No se pudo entrenar el modelo.\n",
      "\n"
     ]
    }
   ],
   "source": [
    "vs_2010_2 = Test_all_Subjects(data_2010_1, data_2010_2)"
   ]
  },
  {
   "cell_type": "code",
   "execution_count": 34,
   "metadata": {
    "collapsed": false,
    "scrolled": true
   },
   "outputs": [
    {
     "name": "stdout",
     "output_type": "stream",
     "text": [
      "Scores for the Columns/Subject: ESTU_PUESTO\n",
      "Score LR: 255.64210483611015\n",
      "Score DT: 249.02003416811831\n",
      "DATA ERROR... Random Forest: No se pudo entrenar el modelo.\n",
      "\n",
      "Scores for the Columns/Subject: PUNT_INGLES\n",
      "Score LR: 11.46075973704842\n",
      "Score DT: 10.173051347637273\n",
      "DATA ERROR... Random Forest: No se pudo entrenar el modelo.\n",
      "\n",
      "Scores for the Columns/Subject: PUNT_LENGUAJE\n",
      "Score LR: 6.1272695271301725\n",
      "Score DT: 6.089830600418809\n",
      "DATA ERROR... Random Forest: No se pudo entrenar el modelo.\n",
      "\n",
      "Scores for the Columns/Subject: PUNT_BIOLOGIA\n",
      "Score LR: 7.618820083443583\n",
      "Score DT: 7.238581652552547\n",
      "DATA ERROR... Random Forest: No se pudo entrenar el modelo.\n",
      "\n",
      "Scores for the Columns/Subject: PUNT_QUIMICA\n",
      "Score LR: 7.333533073888609\n",
      "Score DT: 6.709774874012429\n",
      "DATA ERROR... Random Forest: No se pudo entrenar el modelo.\n",
      "\n",
      "Scores for the Columns/Subject: PUNT_FILOSOFIA\n",
      "Score LR: 9.415046162762533\n",
      "Score DT: 8.924611368603708\n",
      "DATA ERROR... Random Forest: No se pudo entrenar el modelo.\n",
      "\n",
      "Scores for the Columns/Subject: PUNT_MATEMATICAS\n",
      "Score LR: 10.192634476009985\n",
      "Score DT: 10.205777370809104\n",
      "DATA ERROR... Random Forest: No se pudo entrenar el modelo.\n",
      "\n",
      "Scores for the Columns/Subject: PUNT_COMP_FLEXIBLE\n",
      "Score LR: 21.5466051468562\n",
      "Score DT: 12.572401652762563\n",
      "DATA ERROR... Random Forest: No se pudo entrenar el modelo.\n",
      "\n",
      "Scores for the Columns/Subject: PUNT_C_SOCIALES\n",
      "Score LR: 8.444901784164692\n",
      "Score DT: 7.883055944490102\n",
      "DATA ERROR... Random Forest: No se pudo entrenar el modelo.\n",
      "\n",
      "Scores for the Columns/Subject: PUNT_FISICA\n",
      "Score LR: 8.318293047873969\n",
      "Score DT: 7.857962254794794\n",
      "DATA ERROR... Random Forest: No se pudo entrenar el modelo.\n",
      "\n"
     ]
    }
   ],
   "source": [
    "vs_2011_1 = Test_all_Subjects(data_2010_2, data_2011_1)"
   ]
  },
  {
   "cell_type": "code",
   "execution_count": 35,
   "metadata": {
    "collapsed": false,
    "scrolled": true
   },
   "outputs": [
    {
     "name": "stdout",
     "output_type": "stream",
     "text": [
      "Scores for the Columns/Subject: ESTU_PUESTO\n",
      "Score LR: 16380036.097771067\n",
      "Score DT: 267.8219163596056\n",
      "DATA ERROR... Random Forest: No se pudo entrenar el modelo.\n",
      "\n",
      "Scores for the Columns/Subject: PUNT_INGLES\n",
      "Score LR: 685911.0152538525\n",
      "Score DT: 11.365800141677099\n",
      "DATA ERROR... Random Forest: No se pudo entrenar el modelo.\n",
      "\n",
      "Scores for the Columns/Subject: PUNT_LENGUAJE\n",
      "Score LR: 323970.7388908434\n",
      "Score DT: 9.434187433427208\n",
      "DATA ERROR... Random Forest: No se pudo entrenar el modelo.\n",
      "\n",
      "Scores for the Columns/Subject: PUNT_BIOLOGIA\n",
      "Score LR: 390634.4351649551\n",
      "Score DT: 8.79822926617843\n",
      "DATA ERROR... Random Forest: No se pudo entrenar el modelo.\n",
      "\n",
      "Scores for the Columns/Subject: PUNT_QUIMICA\n",
      "Score LR: 404166.2058506161\n",
      "Score DT: 6.802722205998811\n",
      "DATA ERROR... Random Forest: No se pudo entrenar el modelo.\n",
      "\n",
      "Scores for the Columns/Subject: PUNT_FILOSOFIA\n",
      "Score LR: 328767.45288173074\n",
      "Score DT: 10.529066517960912\n",
      "DATA ERROR... Random Forest: No se pudo entrenar el modelo.\n",
      "\n",
      "Scores for the Columns/Subject: PUNT_MATEMATICAS\n",
      "Score LR: 675436.6748778895\n",
      "Score DT: 11.154733064379531\n",
      "DATA ERROR... Random Forest: No se pudo entrenar el modelo.\n",
      "\n",
      "Scores for the Columns/Subject: PUNT_COMP_FLEXIBLE\n",
      "Score LR: 300306.16084729374\n",
      "Score DT: 22.162406492832613\n",
      "DATA ERROR... Random Forest: No se pudo entrenar el modelo.\n",
      "\n",
      "Scores for the Columns/Subject: PUNT_C_SOCIALES\n",
      "Score LR: 431501.1173446337\n",
      "Score DT: 8.908398553808675\n",
      "DATA ERROR... Random Forest: No se pudo entrenar el modelo.\n",
      "\n",
      "Scores for the Columns/Subject: PUNT_FISICA\n",
      "Score LR: 402396.23920668184\n",
      "Score DT: 8.174335923049306\n",
      "DATA ERROR... Random Forest: No se pudo entrenar el modelo.\n",
      "\n"
     ]
    }
   ],
   "source": [
    "vs_2011_2 = Test_all_Subjects(data_2011_1, data_2011_2)"
   ]
  },
  {
   "cell_type": "code",
   "execution_count": 36,
   "metadata": {
    "collapsed": false,
    "scrolled": true
   },
   "outputs": [
    {
     "name": "stdout",
     "output_type": "stream",
     "text": [
      "Scores for the Columns/Subject: ESTU_PUESTO\n",
      "Score LR: 279.6721369012929\n",
      "Score DT: 263.36636506426663\n",
      "DATA ERROR... Random Forest: No se pudo entrenar el modelo.\n",
      "\n",
      "Scores for the Columns/Subject: PUNT_INGLES\n",
      "Score LR: 11.105628645656312\n",
      "Score DT: 10.349127950946514\n",
      "DATA ERROR... Random Forest: No se pudo entrenar el modelo.\n",
      "\n",
      "Scores for the Columns/Subject: PUNT_LENGUAJE\n",
      "Score LR: 8.192434826624131\n",
      "Score DT: 8.029902180326884\n",
      "DATA ERROR... Random Forest: No se pudo entrenar el modelo.\n",
      "\n",
      "Scores for the Columns/Subject: PUNT_BIOLOGIA\n",
      "Score LR: 8.134994515265939\n",
      "Score DT: 7.8411155183327725\n",
      "DATA ERROR... Random Forest: No se pudo entrenar el modelo.\n",
      "\n",
      "Scores for the Columns/Subject: PUNT_QUIMICA\n",
      "Score LR: 6.785193425215182\n",
      "Score DT: 6.664094682177225\n",
      "DATA ERROR... Random Forest: No se pudo entrenar el modelo.\n",
      "\n",
      "Scores for the Columns/Subject: PUNT_FILOSOFIA\n",
      "Score LR: 8.825137248862287\n",
      "Score DT: 8.432004189562615\n",
      "DATA ERROR... Random Forest: No se pudo entrenar el modelo.\n",
      "\n",
      "Scores for the Columns/Subject: PUNT_MATEMATICAS\n",
      "Score LR: 9.516595459534042\n",
      "Score DT: 9.310773437709214\n",
      "DATA ERROR... Random Forest: No se pudo entrenar el modelo.\n",
      "\n",
      "Scores for the Columns/Subject: PUNT_COMP_FLEXIBLE\n",
      "Score LR: 21.284608121668576\n",
      "Score DT: 22.696844577262528\n",
      "DATA ERROR... Random Forest: No se pudo entrenar el modelo.\n",
      "\n",
      "Scores for the Columns/Subject: PUNT_C_SOCIALES\n",
      "Score LR: 7.110296109664996\n",
      "Score DT: 6.774996740394435\n",
      "DATA ERROR... Random Forest: No se pudo entrenar el modelo.\n",
      "\n",
      "Scores for the Columns/Subject: PUNT_FISICA\n",
      "Score LR: 9.660347092774126\n",
      "Score DT: 9.552104000291786\n",
      "DATA ERROR... Random Forest: No se pudo entrenar el modelo.\n",
      "\n"
     ]
    }
   ],
   "source": [
    "vs_2012_1 = Test_all_Subjects(data_2011_2, data_2012_1)"
   ]
  },
  {
   "cell_type": "code",
   "execution_count": 37,
   "metadata": {
    "collapsed": false,
    "scrolled": true
   },
   "outputs": [
    {
     "name": "stdout",
     "output_type": "stream",
     "text": [
      "Scores for the Columns/Subject: ESTU_PUESTO\n",
      "Score LR: 277.39364010537395\n",
      "Score DT: 271.8509308575862\n",
      "DATA ERROR... Random Forest: No se pudo entrenar el modelo.\n",
      "\n",
      "Scores for the Columns/Subject: PUNT_INGLES\n",
      "Score LR: 11.22291227015664\n",
      "Score DT: 8.734033061265848\n",
      "DATA ERROR... Random Forest: No se pudo entrenar el modelo.\n",
      "\n",
      "Scores for the Columns/Subject: PUNT_LENGUAJE\n",
      "Score LR: 7.509203143747503\n",
      "Score DT: 7.078763878965606\n",
      "DATA ERROR... Random Forest: No se pudo entrenar el modelo.\n",
      "\n",
      "Scores for the Columns/Subject: PUNT_BIOLOGIA\n",
      "Score LR: 6.869224411149113\n",
      "Score DT: 6.395077749719784\n",
      "DATA ERROR... Random Forest: No se pudo entrenar el modelo.\n",
      "\n",
      "Scores for the Columns/Subject: PUNT_QUIMICA\n",
      "Score LR: 6.368562427621214\n",
      "Score DT: 5.612927978618873\n",
      "DATA ERROR... Random Forest: No se pudo entrenar el modelo.\n",
      "\n",
      "Scores for the Columns/Subject: PUNT_FILOSOFIA\n",
      "Score LR: 7.792642907658961\n",
      "Score DT: 7.63576094346366\n",
      "DATA ERROR... Random Forest: No se pudo entrenar el modelo.\n",
      "\n",
      "Scores for the Columns/Subject: PUNT_MATEMATICAS\n",
      "Score LR: 10.459702762464135\n",
      "Score DT: 9.55281653873595\n",
      "DATA ERROR... Random Forest: No se pudo entrenar el modelo.\n",
      "\n",
      "Scores for the Columns/Subject: PUNT_COMP_FLEXIBLE\n",
      "Score LR: 21.80432846810798\n",
      "Score DT: 24.543481102651395\n",
      "DATA ERROR... Random Forest: No se pudo entrenar el modelo.\n",
      "\n",
      "Scores for the Columns/Subject: PUNT_C_SOCIALES\n",
      "Score LR: 7.755976736316708\n",
      "Score DT: 7.419950758687127\n",
      "DATA ERROR... Random Forest: No se pudo entrenar el modelo.\n",
      "\n",
      "Scores for the Columns/Subject: PUNT_FISICA\n",
      "Score LR: 7.597145410275389\n",
      "Score DT: 6.691585910350787\n",
      "DATA ERROR... Random Forest: No se pudo entrenar el modelo.\n",
      "\n"
     ]
    }
   ],
   "source": [
    "vs_2012_2 = Test_all_Subjects(data_2012_1, data_2012_2)"
   ]
  },
  {
   "cell_type": "code",
   "execution_count": 38,
   "metadata": {
    "collapsed": false,
    "scrolled": true
   },
   "outputs": [
    {
     "name": "stdout",
     "output_type": "stream",
     "text": [
      "Scores for the Columns/Subject: ESTU_PUESTO\n",
      "Score LR: 246.66330048150684\n",
      "Score DT: 247.57325208664236\n",
      "DATA ERROR... Random Forest: No se pudo entrenar el modelo.\n",
      "\n",
      "Scores for the Columns/Subject: PUNT_INGLES\n",
      "Score LR: 11.450614065091592\n",
      "Score DT: 11.720723590045129\n",
      "DATA ERROR... Random Forest: No se pudo entrenar el modelo.\n",
      "\n",
      "Scores for the Columns/Subject: PUNT_LENGUAJE\n",
      "Score LR: 10.111057561143154\n",
      "Score DT: 10.233276567650737\n",
      "DATA ERROR... Random Forest: No se pudo entrenar el modelo.\n",
      "\n",
      "Scores for the Columns/Subject: PUNT_BIOLOGIA\n",
      "Score LR: 5.9476937079417675\n",
      "Score DT: 6.172759137985826\n",
      "DATA ERROR... Random Forest: No se pudo entrenar el modelo.\n",
      "\n",
      "Scores for the Columns/Subject: PUNT_QUIMICA\n",
      "Score LR: 7.749320006705033\n",
      "Score DT: 7.746488857563685\n",
      "DATA ERROR... Random Forest: No se pudo entrenar el modelo.\n",
      "\n",
      "Scores for the Columns/Subject: PUNT_FILOSOFIA\n",
      "Score LR: 9.19807977475485\n",
      "Score DT: 9.28768780270186\n",
      "DATA ERROR... Random Forest: No se pudo entrenar el modelo.\n",
      "\n",
      "Scores for the Columns/Subject: PUNT_MATEMATICAS\n",
      "Score LR: 11.60073276966675\n",
      "Score DT: 11.993207097219697\n",
      "DATA ERROR... Random Forest: No se pudo entrenar el modelo.\n",
      "\n",
      "Scores for the Columns/Subject: PUNT_COMP_FLEXIBLE\n",
      "Score LR: 21.285933802587518\n",
      "Score DT: 22.473408724683157\n",
      "DATA ERROR... Random Forest: No se pudo entrenar el modelo.\n",
      "\n",
      "Scores for the Columns/Subject: PUNT_C_SOCIALES\n",
      "Score LR: 7.0112388230704425\n",
      "Score DT: 7.343979018080034\n",
      "DATA ERROR... Random Forest: No se pudo entrenar el modelo.\n",
      "\n",
      "Scores for the Columns/Subject: PUNT_FISICA\n",
      "Score LR: 7.955881748268206\n",
      "Score DT: 8.021921871449374\n",
      "DATA ERROR... Random Forest: No se pudo entrenar el modelo.\n",
      "\n"
     ]
    }
   ],
   "source": [
    "vs_2013_1 = Test_all_Subjects(data_2012_2, data_2013_1)"
   ]
  },
  {
   "cell_type": "code",
   "execution_count": 39,
   "metadata": {
    "collapsed": false,
    "scrolled": true
   },
   "outputs": [
    {
     "name": "stdout",
     "output_type": "stream",
     "text": [
      "Scores for the Columns/Subject: ESTU_PUESTO\n",
      "Score LR: 292.80245757764493\n",
      "Score DT: 263.69842157726396\n",
      "DATA ERROR... Random Forest: No se pudo entrenar el modelo.\n",
      "\n",
      "Scores for the Columns/Subject: PUNT_INGLES\n",
      "Score LR: 13.119394857536625\n",
      "Score DT: 11.960794033633611\n",
      "DATA ERROR... Random Forest: No se pudo entrenar el modelo.\n",
      "\n",
      "Scores for the Columns/Subject: PUNT_LENGUAJE\n",
      "Score LR: 8.950083662904902\n",
      "Score DT: 7.375300060685747\n",
      "DATA ERROR... Random Forest: No se pudo entrenar el modelo.\n",
      "\n",
      "Scores for the Columns/Subject: PUNT_BIOLOGIA\n",
      "Score LR: 7.664760547001822\n",
      "Score DT: 6.980134381448349\n",
      "DATA ERROR... Random Forest: No se pudo entrenar el modelo.\n",
      "\n",
      "Scores for the Columns/Subject: PUNT_QUIMICA\n",
      "Score LR: 9.01151599317255\n",
      "Score DT: 7.51282675616718\n",
      "DATA ERROR... Random Forest: No se pudo entrenar el modelo.\n",
      "\n",
      "Scores for the Columns/Subject: PUNT_FILOSOFIA\n",
      "Score LR: 9.14747458610181\n",
      "Score DT: 7.911257149941412\n",
      "DATA ERROR... Random Forest: No se pudo entrenar el modelo.\n",
      "\n",
      "Scores for the Columns/Subject: PUNT_MATEMATICAS\n",
      "Score LR: 12.13228425013704\n",
      "Score DT: 9.85755784942811\n",
      "DATA ERROR... Random Forest: No se pudo entrenar el modelo.\n",
      "\n",
      "Scores for the Columns/Subject: PUNT_COMP_FLEXIBLE\n",
      "Score LR: 22.026616791455105\n",
      "Score DT: 21.116580662181168\n",
      "DATA ERROR... Random Forest: No se pudo entrenar el modelo.\n",
      "\n",
      "Scores for the Columns/Subject: PUNT_C_SOCIALES\n",
      "Score LR: 7.699049969917986\n",
      "Score DT: 7.021664392731377\n",
      "DATA ERROR... Random Forest: No se pudo entrenar el modelo.\n",
      "\n",
      "Scores for the Columns/Subject: PUNT_FISICA\n",
      "Score LR: 10.372845235675742\n",
      "Score DT: 9.49268726431846\n",
      "DATA ERROR... Random Forest: No se pudo entrenar el modelo.\n",
      "\n"
     ]
    }
   ],
   "source": [
    "vs_2013_2 = Test_all_Subjects(data_2013_1, data_2013_2)"
   ]
  },
  {
   "cell_type": "code",
   "execution_count": 40,
   "metadata": {
    "collapsed": false,
    "scrolled": true
   },
   "outputs": [
    {
     "name": "stdout",
     "output_type": "stream",
     "text": [
      "Scores for the Columns/Subject: ESTU_PUESTO\n",
      "Score LR: 266.4945153793201\n",
      "Score DT: 265.67481186658216\n",
      "DATA ERROR... Random Forest: No se pudo entrenar el modelo.\n",
      "\n",
      "Scores for the Columns/Subject: PUNT_INGLES\n",
      "Score LR: 11.371071371961117\n",
      "Score DT: 10.705800721273151\n",
      "DATA ERROR... Random Forest: No se pudo entrenar el modelo.\n",
      "\n",
      "Scores for the Columns/Subject: PUNT_LENGUAJE\n",
      "Score LR: 7.011306080984233\n",
      "Score DT: 6.992474054299282\n",
      "DATA ERROR... Random Forest: No se pudo entrenar el modelo.\n",
      "\n",
      "Scores for the Columns/Subject: PUNT_BIOLOGIA\n",
      "Score LR: 6.881194119215679\n",
      "Score DT: 6.810905188661674\n",
      "DATA ERROR... Random Forest: No se pudo entrenar el modelo.\n",
      "\n",
      "Scores for the Columns/Subject: PUNT_QUIMICA\n",
      "Score LR: 8.213318776751773\n",
      "Score DT: 7.981300864443285\n",
      "DATA ERROR... Random Forest: No se pudo entrenar el modelo.\n",
      "\n",
      "Scores for the Columns/Subject: PUNT_FILOSOFIA\n",
      "Score LR: 8.490196611066908\n",
      "Score DT: 8.409487108846172\n",
      "DATA ERROR... Random Forest: No se pudo entrenar el modelo.\n",
      "\n",
      "Scores for the Columns/Subject: PUNT_MATEMATICAS\n",
      "Score LR: 9.37640878330581\n",
      "Score DT: 9.374805155011593\n",
      "DATA ERROR... Random Forest: No se pudo entrenar el modelo.\n",
      "\n",
      "Scores for the Columns/Subject: PUNT_COMP_FLEXIBLE\n",
      "Score LR: 21.369426261862063\n",
      "Score DT: 20.80071270583722\n",
      "DATA ERROR... Random Forest: No se pudo entrenar el modelo.\n",
      "\n",
      "Scores for the Columns/Subject: PUNT_C_SOCIALES\n",
      "Score LR: 9.138980252382114\n",
      "Score DT: 8.967890569446764\n",
      "DATA ERROR... Random Forest: No se pudo entrenar el modelo.\n",
      "\n",
      "Scores for the Columns/Subject: PUNT_FISICA\n",
      "Score LR: 10.57455381537855\n",
      "Score DT: 10.329430789618659\n",
      "DATA ERROR... Random Forest: No se pudo entrenar el modelo.\n",
      "\n"
     ]
    }
   ],
   "source": [
    "vs_2014_1 = Test_all_Subjects(data_2013_2, data_2014_1)"
   ]
  },
  {
   "cell_type": "markdown",
   "metadata": {},
   "source": [
    "___"
   ]
  },
  {
   "cell_type": "markdown",
   "metadata": {},
   "source": [
    "___"
   ]
  },
  {
   "cell_type": "markdown",
   "metadata": {},
   "source": [
    "# Getting Final Datasets"
   ]
  },
  {
   "cell_type": "code",
   "execution_count": 19,
   "metadata": {
    "collapsed": true
   },
   "outputs": [],
   "source": [
    "def get_DF_T(DF):\n",
    "    columns = list(DF.T.loc['Subject'])\n",
    "    DFR = DF.T.filter(items=['DTR', 'LR', 'RFR'], axis=0)\n",
    "    DFR.columns = columns\n",
    "    return(DFR)"
   ]
  },
  {
   "cell_type": "code",
   "execution_count": 20,
   "metadata": {
    "collapsed": true
   },
   "outputs": [],
   "source": [
    "def get_serie(df, model, periodo):\n",
    "    new_df = get_DF_T(df)\n",
    "    serie = pd.Series(new_df.loc[model])\n",
    "    serie = serie.rename(periodo)\n",
    "    return(serie)"
   ]
  },
  {
   "cell_type": "markdown",
   "metadata": {},
   "source": [
    "## Getting final DF for Linear Regression"
   ]
  },
  {
   "cell_type": "code",
   "execution_count": 43,
   "metadata": {
    "collapsed": true
   },
   "outputs": [],
   "source": [
    "LR_vs_serie_2000_2 = get_serie(vs_2000_2, 'LR', '2000_2')\n",
    "\n",
    "LR_vs_serie_2001_1 = get_serie(vs_2001_1, 'LR', '2001_1')\n",
    "LR_vs_serie_2001_2 = get_serie(vs_2001_2, 'LR', '2001_2')\n",
    "\n",
    "LR_vs_serie_2002_1 = get_serie(vs_2002_1, 'LR', '2002_1')\n",
    "LR_vs_serie_2002_2 = get_serie(vs_2002_2, 'LR', '2002_2')\n",
    "\n",
    "LR_vs_serie_2003_1 = get_serie(vs_2003_1, 'LR', '2003_1')\n",
    "LR_vs_serie_2003_2 = get_serie(vs_2003_2, 'LR', '2003_2')\n",
    "\n",
    "LR_vs_serie_2004_1 = get_serie(vs_2004_1, 'LR', '2004_1')\n",
    "LR_vs_serie_2004_2 = get_serie(vs_2004_2, 'LR', '2004_2')\n",
    "\n",
    "LR_vs_serie_2005_1 = get_serie(vs_2005_1, 'LR', '2005_1')\n",
    "LR_vs_serie_2005_2 = get_serie(vs_2005_2, 'LR', '2005_2')\n",
    "\n",
    "LR_vs_serie_2006_1 = get_serie(vs_2006_1, 'LR', '2006_1')\n",
    "LR_vs_serie_2006_2 = get_serie(vs_2006_2, 'LR', '2006_2')\n",
    "\n",
    "LR_vs_serie_2007_1 = get_serie(vs_2007_1, 'LR', '2007_1')\n",
    "LR_vs_serie_2007_2 = get_serie(vs_2007_2, 'LR', '2007_2')\n",
    "\n",
    "LR_vs_serie_2008_1 = get_serie(vs_2008_1, 'LR', '2008_1')\n",
    "LR_vs_serie_2008_2 = get_serie(vs_2008_2, 'LR', '2008_2')\n",
    "\n",
    "LR_vs_serie_2009_1 = get_serie(vs_2009_1, 'LR', '2009_1')\n",
    "LR_vs_serie_2009_2 = get_serie(vs_2009_2, 'LR', '2009_2')\n",
    "\n",
    "LR_vs_serie_2010_1 = get_serie(vs_2010_1, 'LR', '2010_1')\n",
    "LR_vs_serie_2010_2 = get_serie(vs_2010_2, 'LR', '2010_2')\n",
    "\n",
    "LR_vs_serie_2011_1 = get_serie(vs_2011_1, 'LR', '2011_1')\n",
    "LR_vs_serie_2011_2 = get_serie(vs_2011_2, 'LR', '2011_2')\n",
    "\n",
    "LR_vs_serie_2012_1 = get_serie(vs_2012_1, 'LR', '2012_1')\n",
    "LR_vs_serie_2012_2 = get_serie(vs_2012_2, 'LR', '2012_2')\n",
    "\n",
    "LR_vs_serie_2013_1 = get_serie(vs_2013_1, 'LR', '2013_1')\n",
    "LR_vs_serie_2013_2 = get_serie(vs_2013_2, 'LR', '2013_2')\n",
    "\n",
    "LR_vs_serie_2014_1 = get_serie(vs_2014_1, 'LR', '2014_1')"
   ]
  },
  {
   "cell_type": "code",
   "execution_count": 45,
   "metadata": {
    "collapsed": false
   },
   "outputs": [],
   "source": [
    "Final_LR_vs = pd.concat([LR_vs_serie_2000_2, LR_vs_serie_2001_1, LR_vs_serie_2001_2, LR_vs_serie_2002_1, LR_vs_serie_2002_2,\n",
    "                      LR_vs_serie_2003_1, LR_vs_serie_2003_2, LR_vs_serie_2004_1, LR_vs_serie_2004_2, LR_vs_serie_2005_1, LR_vs_serie_2005_2, \n",
    "                      LR_vs_serie_2006_1, LR_vs_serie_2006_2, LR_vs_serie_2007_1, LR_vs_serie_2007_2, LR_vs_serie_2008_1, LR_vs_serie_2008_2, \n",
    "                      LR_vs_serie_2009_1, LR_vs_serie_2009_2, LR_vs_serie_2010_1, LR_vs_serie_2010_2, LR_vs_serie_2011_1, LR_vs_serie_2011_2, \n",
    "                      LR_vs_serie_2012_1, LR_vs_serie_2012_2, LR_vs_serie_2013_1, LR_vs_serie_2013_2, LR_vs_serie_2014_1], axis=1)"
   ]
  },
  {
   "cell_type": "code",
   "execution_count": 47,
   "metadata": {
    "collapsed": false
   },
   "outputs": [],
   "source": [
    "Final_LR_vs = Final_LR_vs.T"
   ]
  },
  {
   "cell_type": "markdown",
   "metadata": {},
   "source": [
    "## Getting final DF for Descision Tree Regressor"
   ]
  },
  {
   "cell_type": "code",
   "execution_count": 48,
   "metadata": {
    "collapsed": true
   },
   "outputs": [],
   "source": [
    "DT_vs_serie_2000_2 = get_serie(vs_2000_2, 'DTR', '2000_2')\n",
    "\n",
    "DT_vs_serie_2001_1 = get_serie(vs_2001_1, 'DTR', '2001_1')\n",
    "DT_vs_serie_2001_2 = get_serie(vs_2001_2, 'DTR', '2001_2')\n",
    "\n",
    "DT_vs_serie_2002_1 = get_serie(vs_2002_1, 'DTR', '2002_1')\n",
    "DT_vs_serie_2002_2 = get_serie(vs_2002_2, 'DTR', '2002_2')\n",
    "\n",
    "DT_vs_serie_2003_1 = get_serie(vs_2003_1, 'DTR', '2003_1')\n",
    "DT_vs_serie_2003_2 = get_serie(vs_2003_2, 'DTR', '2003_2')\n",
    "\n",
    "DT_vs_serie_2004_1 = get_serie(vs_2004_1, 'DTR', '2004_1')\n",
    "DT_vs_serie_2004_2 = get_serie(vs_2004_2, 'DTR', '2004_2')\n",
    "\n",
    "DT_vs_serie_2005_1 = get_serie(vs_2005_1, 'DTR', '2005_1')\n",
    "DT_vs_serie_2005_2 = get_serie(vs_2005_2, 'DTR', '2005_2')\n",
    "\n",
    "DT_vs_serie_2006_1 = get_serie(vs_2006_1, 'DTR', '2006_1')\n",
    "DT_vs_serie_2006_2 = get_serie(vs_2006_2, 'DTR', '2006_2')\n",
    "\n",
    "DT_vs_serie_2007_1 = get_serie(vs_2007_1, 'DTR', '2007_1')\n",
    "DT_vs_serie_2007_2 = get_serie(vs_2007_2, 'DTR', '2007_2')\n",
    "\n",
    "DT_vs_serie_2008_1 = get_serie(vs_2008_1, 'DTR', '2008_1')\n",
    "DT_vs_serie_2008_2 = get_serie(vs_2008_2, 'DTR', '2008_2')\n",
    "\n",
    "DT_vs_serie_2009_1 = get_serie(vs_2009_1, 'DTR', '2009_1')\n",
    "DT_vs_serie_2009_2 = get_serie(vs_2009_2, 'DTR', '2009_2')\n",
    "\n",
    "DT_vs_serie_2010_1 = get_serie(vs_2010_1, 'DTR', '2010_1')\n",
    "DT_vs_serie_2010_2 = get_serie(vs_2010_2, 'DTR', '2010_2')\n",
    "\n",
    "DT_vs_serie_2011_1 = get_serie(vs_2011_1, 'DTR', '2011_1')\n",
    "DT_vs_serie_2011_2 = get_serie(vs_2011_2, 'DTR', '2011_2')\n",
    "\n",
    "DT_vs_serie_2012_1 = get_serie(vs_2012_1, 'DTR', '2012_1')\n",
    "DT_vs_serie_2012_2 = get_serie(vs_2012_2, 'DTR', '2012_2')\n",
    "\n",
    "DT_vs_serie_2013_1 = get_serie(vs_2013_1, 'DTR', '2013_1')\n",
    "DT_vs_serie_2013_2 = get_serie(vs_2013_2, 'DTR', '2013_2')\n",
    "\n",
    "DT_vs_serie_2014_1 = get_serie(vs_2014_1, 'DTR', '2014_1')"
   ]
  },
  {
   "cell_type": "code",
   "execution_count": 51,
   "metadata": {
    "collapsed": false
   },
   "outputs": [],
   "source": [
    "Final_DT_vs = pd.concat([DT_vs_serie_2000_2, DT_vs_serie_2001_1, DT_vs_serie_2001_2, DT_vs_serie_2002_1, DT_vs_serie_2002_2,\n",
    "                      DT_vs_serie_2003_1, DT_vs_serie_2003_2, DT_vs_serie_2004_1, DT_vs_serie_2004_2, DT_vs_serie_2005_1, DT_vs_serie_2005_2, \n",
    "                      DT_vs_serie_2006_1, DT_vs_serie_2006_2, DT_vs_serie_2007_1, DT_vs_serie_2007_2, DT_vs_serie_2008_1, DT_vs_serie_2008_2, \n",
    "                      DT_vs_serie_2009_1, DT_vs_serie_2009_2, DT_vs_serie_2010_1, DT_vs_serie_2010_2, DT_vs_serie_2011_1, DT_vs_serie_2011_2, \n",
    "                      DT_vs_serie_2012_1, DT_vs_serie_2012_2, DT_vs_serie_2013_1, DT_vs_serie_2013_2, DT_vs_serie_2014_1], axis=1)"
   ]
  },
  {
   "cell_type": "code",
   "execution_count": 53,
   "metadata": {
    "collapsed": false
   },
   "outputs": [],
   "source": [
    "Final_DT_vs = Final_DT_vs.T"
   ]
  },
  {
   "cell_type": "markdown",
   "metadata": {},
   "source": [
    "## Getting final DF for Random Forest Regressor"
   ]
  },
  {
   "cell_type": "code",
   "execution_count": 54,
   "metadata": {
    "collapsed": true
   },
   "outputs": [],
   "source": [
    "RF_vs_serie_2000_2 = get_serie(vs_2000_2, 'RFR', '2000_2')\n",
    "\n",
    "RF_vs_serie_2001_1 = get_serie(vs_2001_1, 'RFR', '2001_1')\n",
    "RF_vs_serie_2001_2 = get_serie(vs_2001_2, 'RFR', '2001_2')\n",
    "\n",
    "RF_vs_serie_2002_1 = get_serie(vs_2002_1, 'RFR', '2002_1')\n",
    "RF_vs_serie_2002_2 = get_serie(vs_2002_2, 'RFR', '2002_2')\n",
    "\n",
    "RF_vs_serie_2003_1 = get_serie(vs_2003_1, 'RFR', '2003_1')\n",
    "RF_vs_serie_2003_2 = get_serie(vs_2003_2, 'RFR', '2003_2')\n",
    "\n",
    "RF_vs_serie_2004_1 = get_serie(vs_2004_1, 'RFR', '2004_1')\n",
    "RF_vs_serie_2004_2 = get_serie(vs_2004_2, 'RFR', '2004_2')\n",
    "\n",
    "RF_vs_serie_2005_1 = get_serie(vs_2005_1, 'RFR', '2005_1')\n",
    "RF_vs_serie_2005_2 = get_serie(vs_2005_2, 'RFR', '2005_2')\n",
    "\n",
    "RF_vs_serie_2006_1 = get_serie(vs_2006_1, 'RFR', '2006_1')\n",
    "RF_vs_serie_2006_2 = get_serie(vs_2006_2, 'RFR', '2006_2')\n",
    "\n",
    "RF_vs_serie_2007_1 = get_serie(vs_2007_1, 'RFR', '2007_1')\n",
    "RF_vs_serie_2007_2 = get_serie(vs_2007_2, 'RFR', '2007_2')\n",
    "\n",
    "RF_vs_serie_2008_1 = get_serie(vs_2008_1, 'RFR', '2008_1')\n",
    "RF_vs_serie_2008_2 = get_serie(vs_2008_2, 'RFR', '2008_2')\n",
    "\n",
    "RF_vs_serie_2009_1 = get_serie(vs_2009_1, 'RFR', '2009_1')\n",
    "RF_vs_serie_2009_2 = get_serie(vs_2009_2, 'RFR', '2009_2')\n",
    "\n",
    "RF_vs_serie_2010_1 = get_serie(vs_2010_1, 'RFR', '2010_1')\n",
    "RF_vs_serie_2010_2 = get_serie(vs_2010_2, 'RFR', '2010_2')\n",
    "\n",
    "RF_vs_serie_2011_1 = get_serie(vs_2011_1, 'RFR', '2011_1')\n",
    "RF_vs_serie_2011_2 = get_serie(vs_2011_2, 'RFR', '2011_2')\n",
    "\n",
    "RF_vs_serie_2012_1 = get_serie(vs_2012_1, 'RFR', '2012_1')\n",
    "RF_vs_serie_2012_2 = get_serie(vs_2012_2, 'RFR', '2012_2')\n",
    "\n",
    "RF_vs_serie_2013_1 = get_serie(vs_2013_1, 'RFR', '2013_1')\n",
    "RF_vs_serie_2013_2 = get_serie(vs_2013_2, 'RFR', '2013_2')\n",
    "\n",
    "RF_vs_serie_2014_1 = get_serie(vs_2014_1, 'RFR', '2014_1')"
   ]
  },
  {
   "cell_type": "code",
   "execution_count": 56,
   "metadata": {
    "collapsed": false
   },
   "outputs": [],
   "source": [
    "Final_RF_vs = pd.concat([RF_vs_serie_2000_2, RF_vs_serie_2001_1, RF_vs_serie_2001_2, RF_vs_serie_2002_1, RF_vs_serie_2002_2,\n",
    "                      RF_vs_serie_2003_1, RF_vs_serie_2003_2, RF_vs_serie_2004_1, RF_vs_serie_2004_2, RF_vs_serie_2005_1, RF_vs_serie_2005_2, \n",
    "                      RF_vs_serie_2006_1, RF_vs_serie_2006_2, RF_vs_serie_2007_1, RF_vs_serie_2007_2, RF_vs_serie_2008_1, RF_vs_serie_2008_2, \n",
    "                      RF_vs_serie_2009_1, RF_vs_serie_2009_2, RF_vs_serie_2010_1, RF_vs_serie_2010_2, RF_vs_serie_2011_1, RF_vs_serie_2011_2, \n",
    "                      RF_vs_serie_2012_1, RF_vs_serie_2012_2, RF_vs_serie_2013_1, RF_vs_serie_2013_2, RF_vs_serie_2014_1], axis=1)"
   ]
  },
  {
   "cell_type": "code",
   "execution_count": 57,
   "metadata": {
    "collapsed": true
   },
   "outputs": [],
   "source": [
    "Final_RF_vs = Final_RF_vs.T"
   ]
  },
  {
   "cell_type": "code",
   "execution_count": 59,
   "metadata": {
    "collapsed": false
   },
   "outputs": [],
   "source": [
    "Final_LR_vs.to_csv('Final_Results/Final_LR_vs.csv', index=True, sep=';')\n",
    "Final_DT_vs.to_csv('Final_Results/Final_DT_vs.csv', index=True, sep=';')\n",
    "Final_RF_vs.to_csv('Final_Results/Final_RF_vs.csv', index=True, sep=';')"
   ]
  },
  {
   "cell_type": "markdown",
   "metadata": {},
   "source": [
    "___"
   ]
  },
  {
   "cell_type": "markdown",
   "metadata": {},
   "source": [
    "## Getting Final DF of the second Analysis"
   ]
  },
  {
   "cell_type": "code",
   "execution_count": 12,
   "metadata": {
    "collapsed": false,
    "scrolled": true
   },
   "outputs": [
    {
     "name": "stdout",
     "output_type": "stream",
     "text": [
      "Scores for the Columns/Subject: PUNT_C_NATURALES\n",
      "Score LR: 9.710890914925512\n",
      "Score DT: 9.463383710742454\n",
      "Score RF: 9.0333983134565\n",
      "\n",
      "Scores for the Columns/Subject: PUNT_LECTURA_CRITICA\n",
      "Score LR: 6.8811727777966984\n",
      "Score DT: 6.771286999413186\n",
      "Score RF: 6.589379962296065\n",
      "\n",
      "Scores for the Columns/Subject: PUNT_SOCIALES_CIUDADANAS\n",
      "Score LR: 9.544396186558428\n",
      "Score DT: 9.43767105929898\n",
      "Score RF: 9.204125086804954\n",
      "\n",
      "Scores for the Columns/Subject: PUNT_GLOBAL\n",
      "Score LR: 38.26824691437093\n",
      "Score DT: 35.949224544078774\n",
      "Score RF: 35.391133560941306\n",
      "\n",
      "Scores for the Columns/Subject: PUNT_RAZONA_CUANT\n",
      "Score LR: 10.323307226561909\n",
      "Score DT: 10.068123976962564\n",
      "Score RF: 9.89771894748829\n",
      "\n",
      "Scores for the Columns/Subject: PUNT_MATEMATICAS\n",
      "Score LR: 9.575134413951758\n",
      "Score DT: 9.184853619117238\n",
      "Score RF: 9.05732044479011\n",
      "\n",
      "Scores for the Columns/Subject: PUNT_INGLES\n",
      "Score LR: 7.69670323147089\n",
      "Score DT: 7.320150266476595\n",
      "Score RF: 7.20013301156315\n",
      "\n",
      "Scores for the Columns/Subject: PUNT_COMP_CIUDADANA\n",
      "Score LR: 9.016988593872174\n",
      "Score DT: 8.98427017677707\n",
      "Score RF: 8.783459709651128\n",
      "\n"
     ]
    }
   ],
   "source": [
    "vs_2015_1 = Test_all_Subjects_2014(data_2014_2, data_2015_1)"
   ]
  },
  {
   "cell_type": "code",
   "execution_count": 13,
   "metadata": {
    "collapsed": false,
    "scrolled": true
   },
   "outputs": [
    {
     "name": "stdout",
     "output_type": "stream",
     "text": [
      "Scores for the Columns/Subject: PUNT_C_NATURALES\n",
      "Score LR: 7.644074524139232\n",
      "Score DT: 8.123903141743241\n",
      "Score RF: 7.699977992703701\n",
      "\n",
      "Scores for the Columns/Subject: PUNT_LECTURA_CRITICA\n",
      "Score LR: 7.261803942613428\n",
      "Score DT: 6.891845951105738\n",
      "Score RF: 6.753101827521627\n",
      "\n",
      "Scores for the Columns/Subject: PUNT_SOCIALES_CIUDADANAS\n",
      "Score LR: 8.70892304841524\n",
      "Score DT: 8.602613193936714\n",
      "Score RF: 8.39537460005552\n",
      "\n",
      "Scores for the Columns/Subject: PUNT_GLOBAL\n",
      "Score LR: 36.06257822540262\n",
      "Score DT: 34.60709984826537\n",
      "Score RF: 33.031788075588906\n",
      "\n",
      "Scores for the Columns/Subject: PUNT_RAZONA_CUANT\n",
      "Score LR: 10.086748431325917\n",
      "Score DT: 10.138153457713143\n",
      "Score RF: 9.712859825781921\n",
      "\n",
      "Scores for the Columns/Subject: PUNT_MATEMATICAS\n",
      "Score LR: 9.059845112518754\n",
      "Score DT: 9.020335522225356\n",
      "Score RF: 8.658978396911508\n",
      "\n",
      "Scores for the Columns/Subject: PUNT_INGLES\n",
      "Score LR: 7.665072164926055\n",
      "Score DT: 7.097906444869762\n",
      "Score RF: 7.014058302163942\n",
      "\n",
      "Scores for the Columns/Subject: PUNT_COMP_CIUDADANA\n",
      "Score LR: 7.765344210464107\n",
      "Score DT: 7.684467834067216\n",
      "Score RF: 7.454562034198522\n",
      "\n"
     ]
    }
   ],
   "source": [
    "vs_2015_2 = Test_all_Subjects_2014(data_2015_1, data_2015_2)"
   ]
  },
  {
   "cell_type": "code",
   "execution_count": 14,
   "metadata": {
    "collapsed": false,
    "scrolled": true
   },
   "outputs": [
    {
     "name": "stdout",
     "output_type": "stream",
     "text": [
      "Scores for the Columns/Subject: PUNT_LECTURA_CRITICA\n",
      "Score LR: 7.454587519594602\n",
      "Score DT: 7.05433310562836\n",
      "Score RF: 6.825688917020318\n",
      "\n",
      "Scores for the Columns/Subject: PUNT_INGLES\n",
      "Score LR: 10.258675248738003\n",
      "Score DT: 8.60219399038879\n",
      "Score RF: 8.22035645507868\n",
      "\n",
      "Scores for the Columns/Subject: PUNT_SOCIALES_CIUDADANAS\n",
      "Score LR: 10.499778237703376\n",
      "Score DT: 9.486214336904531\n",
      "Score RF: 9.316056996777892\n",
      "\n",
      "Scores for the Columns/Subject: PUNT_MATEMATICAS\n",
      "Score LR: 12.06815404342716\n",
      "Score DT: 10.774658834584855\n",
      "Score RF: 10.442328245892678\n",
      "\n",
      "Scores for the Columns/Subject: PUNT_C_NATURALES\n",
      "Score LR: 9.349755308502354\n",
      "Score DT: 8.43446687723727\n",
      "Score RF: 8.128144277112446\n",
      "\n"
     ]
    }
   ],
   "source": [
    "vs_2016_1 = Test_all_Subjects_2014(data_2015_2, data_2016_1)"
   ]
  },
  {
   "cell_type": "code",
   "execution_count": 15,
   "metadata": {
    "collapsed": false,
    "scrolled": true
   },
   "outputs": [
    {
     "name": "stdout",
     "output_type": "stream",
     "text": [
      "Scores for the Columns/Subject: PUNT_LECTURA_CRITICA\n",
      "Score LR: 7.33456446635471\n",
      "Score DT: 7.138971786472338\n",
      "Score RF: 6.886718223788893\n",
      "\n",
      "Scores for the Columns/Subject: PUNT_INGLES\n",
      "Score LR: 11.153886494515568\n",
      "Score DT: 7.805549935695866\n",
      "Score RF: 7.396421919901247\n",
      "\n",
      "Scores for the Columns/Subject: PUNT_SOCIALES_CIUDADANAS\n",
      "Score LR: 10.197808926069387\n",
      "Score DT: 9.848721355370223\n",
      "Score RF: 9.37286227590958\n",
      "\n",
      "Scores for the Columns/Subject: PUNT_MATEMATICAS\n",
      "Score LR: 12.266407343244706\n",
      "Score DT: 11.70605793876245\n",
      "Score RF: 10.781527763844457\n",
      "\n",
      "Scores for the Columns/Subject: PUNT_C_NATURALES\n",
      "Score LR: 9.227642564172601\n",
      "Score DT: 8.48873303643721\n",
      "Score RF: 8.478559927158019\n",
      "\n"
     ]
    }
   ],
   "source": [
    "vs_2016_1_V2 = Test_all_Subjects_2014(data_2016_1, data_2016_1_V2)"
   ]
  },
  {
   "cell_type": "code",
   "execution_count": 16,
   "metadata": {
    "collapsed": false,
    "scrolled": true
   },
   "outputs": [
    {
     "name": "stdout",
     "output_type": "stream",
     "text": [
      "Scores for the Columns/Subject: PUNT_C_NATURALES\n",
      "Score LR: 9.39518918887288\n",
      "Score DT: 7.747070222217826\n",
      "Score RF: 7.854484813561305\n",
      "\n",
      "Scores for the Columns/Subject: PUNT_LECTURA_CRITICA\n",
      "Score LR: 9.317413710204779\n",
      "Score DT: 4.612608982286592\n",
      "Score RF: 4.571943377354582\n",
      "\n",
      "Scores for the Columns/Subject: PUNT_SOCIALES_CIUDADANAS\n",
      "Score LR: 10.815059207974551\n",
      "Score DT: 7.186132261637091\n",
      "Score RF: 7.949636017536437\n",
      "\n",
      "Scores for the Columns/Subject: PUNT_GLOBAL\n",
      "Score LR: 47.48919317305524\n",
      "Score DT: 44.31951230520441\n",
      "Score RF: 43.62914214486242\n",
      "\n",
      "Scores for the Columns/Subject: PUNT_MATEMATICAS\n",
      "Score LR: 11.665481170263536\n",
      "Score DT: 10.995383807994722\n",
      "Score RF: 10.908677711134256\n",
      "\n",
      "Scores for the Columns/Subject: PUNT_INGLES\n",
      "Score LR: 11.813915606503453\n",
      "Score DT: 13.793717361722914\n",
      "Score RF: 13.751682862395581\n",
      "\n"
     ]
    }
   ],
   "source": [
    "vs_2016_2 = Test_all_Subjects_2014(data_2016_1_V2, data_2016_2)"
   ]
  },
  {
   "cell_type": "code",
   "execution_count": 17,
   "metadata": {
    "collapsed": false,
    "scrolled": true
   },
   "outputs": [
    {
     "name": "stdout",
     "output_type": "stream",
     "text": [
      "Scores for the Columns/Subject: PUNT_C_NATURALES\n",
      "Score LR: 3.17626568758399\n",
      "Score DT: 5.88055366394911\n",
      "Score RF: 5.87134947136237\n",
      "\n",
      "Scores for the Columns/Subject: PUNT_LECTURA_CRITICA\n",
      "Score LR: 3.5606279420389075\n",
      "Score DT: 5.523865712272247\n",
      "Score RF: 5.52180902067682\n",
      "\n",
      "Scores for the Columns/Subject: PUNT_SOCIALES_CIUDADANAS\n",
      "Score LR: 3.332189169263344\n",
      "Score DT: 6.942765582486956\n",
      "Score RF: 6.931715447955887\n",
      "\n",
      "Scores for the Columns/Subject: PUNT_GLOBAL\n",
      "Score LR: 14.599667956261905\n",
      "Score DT: 35.077697625991476\n",
      "Score RF: 35.11561943548913\n",
      "\n",
      "Scores for the Columns/Subject: PUNT_MATEMATICAS\n",
      "Score LR: 3.31664142908836\n",
      "Score DT: 6.322253924495101\n",
      "Score RF: 6.319824390136176\n",
      "\n",
      "Scores for the Columns/Subject: PUNT_INGLES\n",
      "Score LR: 8.403773413526745\n",
      "Score DT: 13.118535288437977\n",
      "Score RF: 13.123530512351556\n",
      "\n"
     ]
    }
   ],
   "source": [
    "vs_2017_1 = Test_all_Subjects_2014(data_2016_2, data_2017_1)"
   ]
  },
  {
   "cell_type": "code",
   "execution_count": null,
   "metadata": {
    "collapsed": true
   },
   "outputs": [],
   "source": []
  },
  {
   "cell_type": "code",
   "execution_count": 22,
   "metadata": {
    "collapsed": false
   },
   "outputs": [],
   "source": [
    "LR_vs_serie_2015_1 = get_serie(vs_2015_1, 'LR', '2015_1')\n",
    "LR_vs_serie_2015_2 = get_serie(vs_2015_2, 'LR', '2015_2')\n",
    "\n",
    "LR_vs_serie_2016_1 = get_serie(vs_2016_1, 'LR', '2016_1')\n",
    "LR_vs_serie_2016_1_V2 = get_serie(vs_2016_1_V2, 'LR', '2016_1_V2')\n",
    "LR_vs_serie_2016_2 = get_serie(vs_2016_2, 'LR', '2016_2')\n",
    "\n",
    "LR_vs_serie_2017_1 = get_serie(vs_2017_1, 'LR', '2017_1')"
   ]
  },
  {
   "cell_type": "code",
   "execution_count": 23,
   "metadata": {
    "collapsed": true
   },
   "outputs": [],
   "source": [
    "Final_vs_LR_2 = pd.concat([LR_vs_serie_2015_1, LR_vs_serie_2015_2, LR_vs_serie_2016_1, LR_vs_serie_2016_1_V2,\n",
    "                        LR_vs_serie_2016_2, LR_vs_serie_2017_1], axis=1)"
   ]
  },
  {
   "cell_type": "code",
   "execution_count": 25,
   "metadata": {
    "collapsed": false
   },
   "outputs": [],
   "source": [
    "Final_vs_LR_2 = Final_vs_LR_2.T"
   ]
  },
  {
   "cell_type": "code",
   "execution_count": 27,
   "metadata": {
    "collapsed": true
   },
   "outputs": [],
   "source": [
    "DT_vs_serie_2015_1 = get_serie(vs_2015_1, 'DTR', '2015_1')\n",
    "DT_vs_serie_2015_2 = get_serie(vs_2015_2, 'DTR', '2015_2')\n",
    "\n",
    "DT_vs_serie_2016_1 = get_serie(vs_2016_1, 'DTR', '2016_1')\n",
    "DT_vs_serie_2016_1_V2 = get_serie(vs_2016_1_V2, 'DTR', '2016_1_V2')\n",
    "DT_vs_serie_2016_2 = get_serie(vs_2016_2, 'DTR', '2016_2')\n",
    "\n",
    "DT_vs_serie_2017_1 = get_serie(vs_2017_1, 'DTR', '2017_1')"
   ]
  },
  {
   "cell_type": "code",
   "execution_count": 28,
   "metadata": {
    "collapsed": true
   },
   "outputs": [],
   "source": [
    "Final_vs_DT_2 = pd.concat([DT_vs_serie_2015_1, DT_vs_serie_2015_2, DT_vs_serie_2016_1, DT_vs_serie_2016_1_V2,\n",
    "                           DT_vs_serie_2016_2, DT_vs_serie_2017_1], axis=1)"
   ]
  },
  {
   "cell_type": "code",
   "execution_count": 29,
   "metadata": {
    "collapsed": true
   },
   "outputs": [],
   "source": [
    "Final_vs_DT_2 = Final_vs_DT_2.T"
   ]
  },
  {
   "cell_type": "code",
   "execution_count": 30,
   "metadata": {
    "collapsed": true
   },
   "outputs": [],
   "source": [
    "RF_vs_serie_2015_1 = get_serie(vs_2015_1, 'RFR', '2015_1')\n",
    "RF_vs_serie_2015_2 = get_serie(vs_2015_2, 'RFR', '2015_2')\n",
    "\n",
    "RF_vs_serie_2016_1 = get_serie(vs_2016_1, 'RFR', '2016_1')\n",
    "RF_vs_serie_2016_1_V2 = get_serie(vs_2016_1_V2, 'RFR', '2016_1_V2')\n",
    "RF_vs_serie_2016_2 = get_serie(vs_2016_2, 'RFR', '2016_2')\n",
    "\n",
    "RF_vs_serie_2017_1 = get_serie(vs_2017_1, 'RFR', '2017_1')"
   ]
  },
  {
   "cell_type": "code",
   "execution_count": 31,
   "metadata": {
    "collapsed": true
   },
   "outputs": [],
   "source": [
    "Final_vs_RF_2 = pd.concat([RF_vs_serie_2015_1, RF_vs_serie_2015_2, RF_vs_serie_2016_1, RF_vs_serie_2016_1_V2,\n",
    "                           RF_vs_serie_2016_2, RF_vs_serie_2017_1], axis=1)"
   ]
  },
  {
   "cell_type": "code",
   "execution_count": 32,
   "metadata": {
    "collapsed": true
   },
   "outputs": [],
   "source": [
    "Final_vs_RF_2 = Final_vs_RF_2.T"
   ]
  },
  {
   "cell_type": "code",
   "execution_count": 36,
   "metadata": {
    "collapsed": false
   },
   "outputs": [],
   "source": [
    "Final_vs_LR_2.to_csv('Final_Results/Final_LR_vs_2014.csv', index=True, sep=';')\n",
    "Final_vs_DT_2.to_csv('Final_Results/Final_DT_vs_2014.csv', index=True, sep=';')\n",
    "Final_vs_RF_2.to_csv('Final_Results/Final_RF_vs_2014.csv', index=True, sep=';')"
   ]
  },
  {
   "cell_type": "code",
   "execution_count": null,
   "metadata": {
    "collapsed": true
   },
   "outputs": [],
   "source": []
  }
 ],
 "metadata": {
  "kernelspec": {
   "display_name": "Python 3 + Anaconda",
   "language": "python",
   "name": "pyconda3"
  },
  "language_info": {
   "codemirror_mode": {
    "name": "ipython",
    "version": 3
   },
   "file_extension": ".py",
   "mimetype": "text/x-python",
   "name": "python",
   "nbconvert_exporter": "python",
   "pygments_lexer": "ipython3",
   "version": "3.5.1"
  }
 },
 "nbformat": 4,
 "nbformat_minor": 0
}
