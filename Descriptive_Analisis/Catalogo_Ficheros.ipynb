{
 "cells": [
  {
   "cell_type": "code",
   "execution_count": 1,
   "metadata": {
    "collapsed": true
   },
   "outputs": [],
   "source": [
    "import pandas as pd\n",
    "import numpy as np\n",
    "%run -i ../tools/functions.py"
   ]
  },
  {
   "cell_type": "markdown",
   "metadata": {
    "collapsed": true
   },
   "source": [
    "## Extrayendo las columnas de cada fichero\n",
    "\n",
    "Bases de datos SABER11\n",
    "\n",
    "1. Importo todos los archivos de bases de datos"
   ]
  },
  {
   "cell_type": "code",
   "execution_count": 6,
   "metadata": {
    "collapsed": true
   },
   "outputs": [],
   "source": [
    "file = pd.read_csv(\"../DatosFTPICFES/SABER11/SB11-BASES_DE_DATOS/SB11-20001-RGSTRO-CLFCCN-V1-0.txt\", delimiter=\"|\",\n",
    "                   encoding=\"iso-8859-1\", nrows=50)\n",
    "file05 = pd.read_csv(\"../DatosFTPICFES/SABER11/SB11-BASES_DE_DATOS/SB11-20002-RGSTRO-CLFCCN-V1-0.txt\", delimiter=\"|\",\n",
    "                    encoding=\"iso-8859-1\", nrows=50)\n",
    "####################################################################################################################\n",
    "file1 = pd.read_csv(\"../DatosFTPICFES/SABER11/SB11-BASES_DE_DATOS/SB11-20011-RGSTRO-CLFCCN-V1-0.txt\", delimiter=\"|\", \n",
    "                    encoding=\"iso-8859-1\", nrows=50)\n",
    "file1_5 = pd.read_csv(\"../DatosFTPICFES/SABER11/SB11-BASES_DE_DATOS/SB11-20012-RGSTRO-CLFCCN-V1-0.txt\", delimiter=\"|\",\n",
    "                     encoding=\"iso-8859-1\", nrows=50)\n",
    "####################################################################################################################\n",
    "file2 = pd.read_csv(\"../DatosFTPICFES/SABER11/SB11-BASES_DE_DATOS/SB11-20021-RGSTRO-CLFCCN-V1-0.txt\", delimiter=\"|\",\n",
    "                    encoding=\"iso-8859-1\", nrows=50)\n",
    "file25 = pd.read_csv(\"../DatosFTPICFES/SABER11/SB11-BASES_DE_DATOS/SB11-20022-RGSTRO-CLFCCN-V1-0.txt\", delimiter=\"|\", \n",
    "                    encoding=\"iso-8859-1\", nrows=50)\n",
    "####################################################################################################################\n",
    "file3 = pd.read_csv(\"../DatosFTPICFES/SABER11/SB11-BASES_DE_DATOS/SB11-20031-RGSTRO-CLFCCN-V1-0.txt\", delimiter=\"|\",\n",
    "                    encoding=\"iso-8859-1\", nrows=50)\n",
    "file35 = pd.read_csv(\"../DatosFTPICFES/SABER11/SB11-BASES_DE_DATOS/SB11-20032-RGSTRO-CLFCCN-V1-0.txt\", delimiter=\"|\",\n",
    "                    encoding=\"iso-8859-1\", nrows=50)\n",
    "####################################################################################################################\n",
    "file4 = pd.read_csv(\"../DatosFTPICFES/SABER11/SB11-BASES_DE_DATOS/SB11-20041-RGSTRO-CLFCCN-V1-0.txt\", delimiter=\"|\",\n",
    "                    encoding=\"iso-8859-1\", nrows=50)\n",
    "file45 = pd.read_csv(\"../DatosFTPICFES/SABER11/SB11-BASES_DE_DATOS/SB11-20042-RGSTRO-CLFCCN-V1-0.txt\", delimiter=\"|\",\n",
    "                    encoding=\"iso-8859-1\", nrows=50)\n",
    "####################################################################################################################\n",
    "file5 = pd.read_csv(\"../DatosFTPICFES/SABER11/SB11-BASES_DE_DATOS/SB11-20051-RGSTRO-CLFCCN-V1-0.txt\", delimiter=\"|\",\n",
    "                    encoding=\"iso-8859-1\", nrows=50)\n",
    "file55 = pd.read_csv(\"../DatosFTPICFES/SABER11/SB11-BASES_DE_DATOS/SB11-20052-RGSTRO-CLFCCN-V1-0.txt\", delimiter=\"|\",\n",
    "                    encoding=\"iso-8859-1\", nrows=50)\n",
    "####################################################################################################################\n",
    "file6 = pd.read_csv(\"../DatosFTPICFES/SABER11/SB11-BASES_DE_DATOS/SB11-20061-RGSTRO-CLFCCN-V1-0.txt\", delimiter=\"|\",\n",
    "                    encoding=\"iso-8859-1\", nrows=50)\n",
    "file65 = pd.read_csv(\"../DatosFTPICFES/SABER11/SB11-BASES_DE_DATOS/SB11-20062-RGSTRO-CLFCCN-V1-0.txt\", delimiter=\"|\",\n",
    "                    encoding=\"iso-8859-1\", nrows=50)\n",
    "####################################################################################################################\n",
    "file7 = pd.read_csv(\"../DatosFTPICFES/SABER11/SB11-BASES_DE_DATOS/SB11-20071-RGSTRO-CLFCCN-V1-0.txt\", delimiter=\"|\",\n",
    "                    encoding=\"iso-8859-1\", nrows=50)\n",
    "file75 = pd.read_csv(\"../DatosFTPICFES/SABER11/SB11-BASES_DE_DATOS/SB11-20072-RGSTRO-CLFCCN-V1-0.txt\", delimiter=\"|\",\n",
    "                    encoding=\"iso-8859-1\", nrows=50)\n",
    "####################################################################################################################\n",
    "file8 = pd.read_csv(\"../DatosFTPICFES/SABER11/SB11-BASES_DE_DATOS/SB11-20081-RGSTRO-CLFCCN-V1-0.txt\", delimiter=\"|\",\n",
    "                    encoding=\"iso-8859-1\", nrows=50)\n",
    "file85 = pd.read_csv(\"../DatosFTPICFES/SABER11/SB11-BASES_DE_DATOS/SB11-20082-RGSTRO-CLFCCN-V1-0.txt\", delimiter=\"|\",\n",
    "                    encoding=\"iso-8859-1\", nrows=50)\n",
    "####################################################################################################################\n",
    "file9 = pd.read_csv(\"../DatosFTPICFES/SABER11/SB11-BASES_DE_DATOS/SB11-20091-RGSTRO-CLFCCN-V1-0.txt\", delimiter=\"|\",\n",
    "                    encoding=\"iso-8859-1\", nrows=50)\n",
    "file95 = pd.read_csv(\"../DatosFTPICFES/SABER11/SB11-BASES_DE_DATOS/SB11-20092-RGSTRO-CLFCCN-V1-0.txt\", delimiter=\"|\",\n",
    "                    encoding=\"iso-8859-1\", nrows=50)\n",
    "####################################################################################################################\n",
    "file10 = pd.read_csv(\"../DatosFTPICFES/SABER11/SB11-BASES_DE_DATOS/SB11-20101-RGSTRO-CLFCCN-V1-0.txt\", delimiter=\"|\",\n",
    "                     encoding=\"iso-8859-1\", nrows=50)\n",
    "file105 = pd.read_csv(\"../DatosFTPICFES/SABER11/SB11-BASES_DE_DATOS/SB11-20102-RGSTRO-CLFCCN-V1-0.txt\", delimiter=\"|\",\n",
    "                    encoding=\"iso-8859-1\", nrows=50)\n",
    "####################################################################################################################\n",
    "file11 = pd.read_csv(\"../DatosFTPICFES/SABER11/SB11-BASES_DE_DATOS/SB11-20111-RGSTRO-CLFCCN-V1-0.txt\", delimiter=\"|\",\n",
    "                     encoding=\"iso-8859-1\", nrows=50)\n",
    "file115 = pd.read_csv(\"../DatosFTPICFES/SABER11/SB11-BASES_DE_DATOS/SB11-20112-RGSTRO-CLFCCN-V1-0.txt\", delimiter=\"|\",\n",
    "                    encoding=\"iso-8859-1\", nrows=50)\n",
    "####################################################################################################################\n",
    "file12 = pd.read_csv(\"../DatosFTPICFES/SABER11/SB11-BASES_DE_DATOS/SB11-20121-RGSTRO-CLFCCN-V1-0.txt\", delimiter=\"|\",\n",
    "                     encoding=\"iso-8859-1\", nrows=50)\n",
    "file125 = pd.read_csv(\"../DatosFTPICFES/SABER11/SB11-BASES_DE_DATOS/SB11-20122-RGSTRO-CLFCCN-V1-0.txt\", delimiter=\"|\",\n",
    "                    encoding=\"iso-8859-1\", nrows=50)\n",
    "####################################################################################################################\n",
    "file13 = pd.read_csv(\"../DatosFTPICFES/SABER11/SB11-BASES_DE_DATOS/SB11-20131-RGSTRO-CLFCCN-V1-0.txt\", delimiter=\"|\",\n",
    "                     encoding=\"iso-8859-1\", nrows=50)\n",
    "file135 = pd.read_csv(\"../DatosFTPICFES/SABER11/SB11-BASES_DE_DATOS/SB11-20132-RGSTRO-CLFCCN-V1-0.txt\", delimiter=\"|\",\n",
    "                    encoding=\"iso-8859-1\", nrows=50)\n",
    "####################################################################################################################\n",
    "file14 = pd.read_csv(\"../DatosFTPICFES/SABER11/SB11-BASES_DE_DATOS/SB11-20141-RGSTRO-CLFCCN-V1-0.txt\", delimiter=\"|\",\n",
    "                     encoding=\"iso-8859-1\", nrows=50)\n",
    "file145 = pd.read_csv(\"../DatosFTPICFES/SABER11/SB11-BASES_DE_DATOS/SB11-20142-RGSTRO-CLFCCN-V3-0.txt\", delimiter=\"|\",\n",
    "                     encoding=\"iso-8859-1\", nrows=50)\n",
    "####################################################################################################################\n",
    "file15 = pd.read_csv(\"../DatosFTPICFES/SABER11/SB11-BASES_DE_DATOS/SB11-20151-RGSTRO-CLFCCN-V3-0.txt\", delimiter=\"|\",\n",
    "                     encoding=\"iso-8859-1\", nrows=50)\n",
    "file155 = pd.read_csv(\"../DatosFTPICFES/SABER11/SB11-BASES_DE_DATOS/SB11-20152-RGSTRO-CLFCCN-V3-0.txt\", delimiter=\"|\",\n",
    "                     encoding=\"iso-8859-1\", nrows=50)\n",
    "####################################################################################################################\n",
    "file16 = pd.read_csv(\"../DatosFTPICFES/SABER11/SB11-BASES_DE_DATOS/SB11-20161-RGSTRO-CLFCCN-V1-0.txt\", delimiter=\"|\",\n",
    "                     encoding=\"iso-8859-1\", nrows=50)\n",
    "file16_v3 = pd.read_csv(\"../DatosFTPICFES/SABER11/SB11-BASES_DE_DATOS/SB11-20161-RGSTRO-CLFCCN-V3-0.txt\", delimiter=\"|\",\n",
    "                     encoding=\"iso-8859-1\", nrows=50)\n",
    "file165 = pd.read_csv(\"../DatosFTPICFES/SABER11/SB11-BASES_DE_DATOS/SB11-20162-RGSTRO-CLFCCN-V1-0.txt\", delimiter=\"|\",\n",
    "                     encoding=\"iso-8859-1\", nrows=50)\n",
    "####################################################################################################################\n",
    "file17 = pd.read_csv(\"../DatosFTPICFES/SABER11/SB11-BASES_DE_DATOS/SB11-20171-RGSTRO-CLFCCN-V1-0.txt\", delimiter=\"|\",\n",
    "                     nrows=50)"
   ]
  },
  {
   "cell_type": "markdown",
   "metadata": {
    "collapsed": true
   },
   "source": [
    "      2. Extraigo las columnas y las pongo en una lista (Lista independiente para cada archivo)\n",
    "      3. Anexo cada lista en un nuevo DataFrame"
   ]
  },
  {
   "cell_type": "markdown",
   "metadata": {},
   "source": [
    "La lista de listas de las columnas de cada archivo la creo con la funcion \"obj_2list\" creada en el archivo functions.py en la carpeta tools "
   ]
  },
  {
   "cell_type": "code",
   "execution_count": 7,
   "metadata": {
    "collapsed": false
   },
   "outputs": [],
   "source": [
    "l = obj_2list(file, file05, file1, file1_5, file2, file25, file3, file35, file4, file45, file6, file65, file7, file75,\n",
    "             file8, file85, file9, file95, file10, file105, file11, file115, file12, file125, file13, file135, file14,\n",
    "             file145, file15, file155, file16, file16_v3, file165, file17)"
   ]
  },
  {
   "cell_type": "markdown",
   "metadata": {},
   "source": [
    "Creo una lista con los indices (año al que pertenecen los datos) que tendra el nuevo DataFrame..."
   ]
  },
  {
   "cell_type": "code",
   "execution_count": 8,
   "metadata": {
    "collapsed": true
   },
   "outputs": [],
   "source": [
    "indexes = [\"2000_1\", \"2000_2\", \"2002_1\", \"2002_2\", \"2003_1\", \"2003_2\", \"2004_1\", \"2004_2\", \"2005_1\", \"2005_2\",\n",
    "           \"2006_1\", \"2006_2\", \"2007_1\", \"2007_2\", \"2008_1\", \"2008_2\", \"2009_1\", \"2009_2\", \"2010_1\", \"2010_2\",\n",
    "           \"2011_1\", \"2011_2\", \"2012_1\", \"2012_2\", \"2013_1\", \"2013_2\", \"2014_1\", \"2014_2\", \"2015_1\", \"2015_2\", \n",
    "           \"2016_1\", \"2016_1_v3\", \"2016_2\", \"2017_1\"]"
   ]
  },
  {
   "cell_type": "markdown",
   "metadata": {},
   "source": [
    "Creo el DataFrame."
   ]
  },
  {
   "cell_type": "code",
   "execution_count": 9,
   "metadata": {
    "collapsed": true
   },
   "outputs": [],
   "source": [
    "column_comparison = pd.DataFrame(data = l, index = indexes)"
   ]
  },
  {
   "cell_type": "markdown",
   "metadata": {},
   "source": [
    "error por cantidad de datos?"
   ]
  },
  {
   "cell_type": "code",
   "execution_count": 10,
   "metadata": {
    "collapsed": true,
    "scrolled": true
   },
   "outputs": [],
   "source": [
    "column_comparison.to_csv(\"ColumnComparison.csv\", sep=\";\", na_rep=\"NaN\")"
   ]
  },
  {
   "cell_type": "markdown",
   "metadata": {},
   "source": [
    "Creo una lista con las columnas del archivo 28 (el que tiene mas columnas) y compruebo si las columnas estan en los otros archivos. En dado caso de que si este, pongo un 1, si no!, dejo el nombre de la columna que no esta para agregarla luego (Pensar en como agregarla)"
   ]
  },
  {
   "cell_type": "code",
   "execution_count": 11,
   "metadata": {
    "collapsed": true
   },
   "outputs": [],
   "source": [
    "Column_Comparison_File = pd.read_csv(\"ColumnComparison.csv\", delimiter=\";\")"
   ]
  },
  {
   "cell_type": "code",
   "execution_count": 12,
   "metadata": {
    "collapsed": true
   },
   "outputs": [],
   "source": [
    "newCols = [i for i in Column_Comparison_File.iloc[27]]"
   ]
  },
  {
   "cell_type": "markdown",
   "metadata": {},
   "source": [
    "Elimino el primer elemento de \"newCols\" ya que este elemento se refiere al indice del DataFrame original.  \n",
    "\n",
    "    newCols.pop(0)"
   ]
  },
  {
   "cell_type": "code",
   "execution_count": 37,
   "metadata": {
    "collapsed": true
   },
   "outputs": [],
   "source": [
    "l2 = obj_2list(file, file05, file1, file1_5, file2, file25, file3, file35, file4, file45, file6, file65, file7, file75,\n",
    "             file8, file85, file9, file95, file10, file105, file11, file115, file12, file125, file13, file135, file14,\n",
    "             file145, file15, file155, file16, file16_v3, file165, file17)"
   ]
  },
  {
   "cell_type": "markdown",
   "metadata": {},
   "source": [
    "Proceso en donde se pone el \"1\""
   ]
  },
  {
   "cell_type": "code",
   "execution_count": 38,
   "metadata": {
    "collapsed": true
   },
   "outputs": [],
   "source": [
    "for i in l2:\n",
    "    for j in newCols:\n",
    "        if j in i:\n",
    "            if newCols.index(j) == i.index(j):\n",
    "                i[i.index(j)] = -1\n",
    "            else:\n",
    "                i[i.index(j)] = newCols.index(j)\n",
    "            #i[i.index(j)] = str(\"1\"+\"/\"+str(i.index(j))+\"/\"+str(newCols.index(j)))"
   ]
  },
  {
   "cell_type": "code",
   "execution_count": 39,
   "metadata": {
    "collapsed": true,
    "scrolled": false
   },
   "outputs": [],
   "source": [
    "Comparison_Matrix = pd.DataFrame(data = l2, index = indexes)"
   ]
  },
  {
   "cell_type": "markdown",
   "metadata": {},
   "source": [
    "Celda para crear el archivo:"
   ]
  },
  {
   "cell_type": "code",
   "execution_count": 40,
   "metadata": {
    "collapsed": true
   },
   "outputs": [],
   "source": [
    "Comparison_Matrix.to_csv(\"ComparisonMatrix.csv\", sep=\";\", na_rep=\"NaN\")"
   ]
  },
  {
   "cell_type": "markdown",
   "metadata": {},
   "source": [
    "### Ya creada la matriz\n",
    "Se agrego el numero de la columna en cada valor.\n",
    "### Tarea:\n",
    "    -Encontrar las columnas \"sinonimo\" y registrarlas aqui en el Notebook\n",
    "    -Convertir en 1 el valor de la columna indicada."
   ]
  },
  {
   "cell_type": "code",
   "execution_count": 42,
   "metadata": {
    "collapsed": true
   },
   "outputs": [],
   "source": [
    "C_Matrix = pd.read_csv(\"ComparisonMatrix.csv\", delimiter = \";\")"
   ]
  },
  {
   "cell_type": "code",
   "execution_count": 15,
   "metadata": {
    "collapsed": false
   },
   "outputs": [
    {
     "data": {
      "text/plain": [
       "['PERIODO',\n",
       " 'ESTU_CONSECUTIVO',\n",
       " 'ESTU_ESTUDIANTE',\n",
       " 'ESTU_EDAD',\n",
       " 'ESTU_TIPO_DOCUMENTO',\n",
       " 'ESTU_PAIS_RESIDE',\n",
       " 'ESTU_GENERO',\n",
       " 'ESTU_FECHA_NACIMIENTO',\n",
       " 'ESTU_ETNIA',\n",
       " 'ESTU_LIMITA_MOTRIZ',\n",
       " 'ESTU_LIMITA_INVIDENTE',\n",
       " 'ESTU_LIMITA_CONDICIONESPECIAL',\n",
       " 'ESTU_LIMITA_SORDO',\n",
       " 'ESTU_LIMITA_SDOWN',\n",
       " 'ESTU_LIMITA_AUTISMO',\n",
       " 'COLE_COD_MCPIO_UBICACION',\n",
       " 'ESTU_RESIDE_MCPIO',\n",
       " 'ESTU_RESIDE_DEPTO',\n",
       " 'ESTU_COD_RESIDE_MCPIO',\n",
       " 'ESTU_ZONA_RESIDE',\n",
       " 'COLE_COD_DANE_INSTITUCION',\n",
       " 'COLE_COD_ICFES',\n",
       " 'COLE_NOMBRE_SEDE',\n",
       " 'COLE_JORNADA',\n",
       " 'COLE_GENERO',\n",
       " 'COLE_CARACTER',\n",
       " 'COLE_NATURALEZA',\n",
       " 'COLE_BILINGUE',\n",
       " 'COLE_CALENDARIO',\n",
       " 'ESTU_AREA_RESIDE',\n",
       " 'COLE_AREA_UBICACION',\n",
       " 'COLE_DEPTO_UBICACION',\n",
       " 'COLE_MCPIO_UBICACION',\n",
       " 'ESTU_COD_RESIDE_DEPTO',\n",
       " 'ESTU_PRESENTO_ANTECEDENTES',\n",
       " 'ESTU_REPROBO_PRIMERO',\n",
       " 'ESTU_REPROBO_SEGUNDO',\n",
       " 'ESTU_REPROBO_TERCERO',\n",
       " 'ESTU_REPROBO_CUARTO',\n",
       " 'ESTU_REPROBO_QUINTO',\n",
       " 'ESTU_REPROBO_SEXTO',\n",
       " 'ESTU_REPROBO_SEPTIMO',\n",
       " 'ESTU_REPROBO_OCTAVO',\n",
       " 'ESTU_REPROBO_NOVENO',\n",
       " 'ESTU_REPROBO_DECIMO',\n",
       " 'ESTU_REPROBO_ONCE_MAS',\n",
       " 'ESTU_ANOS_PREESCOLAR',\n",
       " 'ESTU_ANO_MATRICULA_PRIMERO',\n",
       " 'ESTU_ANO_TERMINO_QUINTO',\n",
       " 'ESTU_ANO_MATRICULA_SEXTO',\n",
       " 'ESTU_ANO_TERMINO_BACHILL',\n",
       " 'ESTU_CUANTOS_COLE_ESTUDIO',\n",
       " 'ESTU_MES_TERMINO_BACHILL',\n",
       " 'ESTU_RAZON_RETIRO',\n",
       " 'ESTU_RETIRARSE_COLEGIO',\n",
       " 'ESTU_TIPO_CARRERA_DESEADA',\n",
       " 'ESTU_IES_DESEADA_NOMBRE',\n",
       " 'ESTU_IES_COD_MPIO_DESEADA',\n",
       " 'ESTU_IES_COD_DESEADA',\n",
       " 'ESTU_IES_MPIO_DESEADA',\n",
       " 'ESTU_POR_OPORTUNIDADES',\n",
       " 'ESTU_POR_AMIGOSESTUDIANDO',\n",
       " 'ESTU_POR_BUSCANDOCARRERA',\n",
       " 'ESTU_POR_COLOMBIAAPRENDE',\n",
       " 'ESTU_POR_COSTOMATRICULA',\n",
       " 'ESTU_POR_INFLUENCIAALGUIEN',\n",
       " 'ESTU_POR_INTERESPERSONAL',\n",
       " 'ESTU_POR_MEJORARPOSICIONSOCIAL',\n",
       " 'ESTU_POR_ORIENTACIONVOCACIONAL',\n",
       " 'ESTU_POR_OTRARAZON',\n",
       " 'ESTU_POR_TRADICIONFAMILIAR',\n",
       " 'ESTU_POR_UBICACION',\n",
       " 'ESTU_POR_UNICAQUEOFRECE',\n",
       " 'ESTU_PRESTIGIOINSTITUCION',\n",
       " 'ESTU_PROGRAMA_ACADEMICODESEADO',\n",
       " 'ESTU_OTRO_PLANTEL',\n",
       " 'ESTU_COD_OTRO_PAIS_PLANTEL',\n",
       " 'ESTU_TOTAL_ALUMNOS_CURSO',\n",
       " 'ESTU_ANOS_COLEGIO_ACTUAL',\n",
       " 'COLE_VALOR_PENSION',\n",
       " 'ESTU_VECES_ESTADO_ESTUDIANTIL',\n",
       " 'ESTU_PRESENTO_EXPECTATIVAS',\n",
       " 'ESTU_INGRESO_CARRERA',\n",
       " 'ESTU_PUNT_ESPERADO_MATEMATICAS',\n",
       " 'ESTU_PUNT_ESPERADO_LENGUAJE',\n",
       " 'ESTU_PUNT_ESPERADO_INGLES',\n",
       " 'ESTU_SALARIO_ESPERADO_BACH',\n",
       " 'ESTU_SALARIO_ESPERADO_TECNICO',\n",
       " 'ESTU_SALARIO_ESPERADO_PROFES',\n",
       " 'ESTU_PRIVADO_LIBERTAD',\n",
       " 'FAMI_EDUCA_PADRE',\n",
       " 'FAMI_EDUCA_MADRE',\n",
       " 'FAMI_OCUPA_PADRE',\n",
       " 'FAMI_OCUPA_MADRE',\n",
       " 'FAMI_ESTRATO_VIVIENDA',\n",
       " 'FAMI_NIVEL_SISBEN',\n",
       " 'FAMI_PERSONAS_HOGAR',\n",
       " 'FAMI_CUARTOS_HOGAR',\n",
       " 'FAMI_PISOSHOGAR',\n",
       " 'FAMI_TELEFONO_FIJO',\n",
       " 'FAMI_INTERNET',\n",
       " 'FAMI_SERVICIO_TELEVISION',\n",
       " 'FAMI_COMPUTADOR',\n",
       " 'FAMI_DVD',\n",
       " 'FAMI_LAVADORA',\n",
       " 'FAMI_MICROONDAS',\n",
       " 'FAMI_AUTOMOVIL',\n",
       " 'FAMI_CELULAR',\n",
       " 'FAMI_NEVERA',\n",
       " 'FAMI_HORNO',\n",
       " 'FAMI_INGRESO_FMILIAR_MENSUAL',\n",
       " 'ESTU_TRABAJA',\n",
       " 'ESTU_RECIBE_SALARIO',\n",
       " 'ESTU_VECES_ESTADO',\n",
       " 'ESTU_COD_PLANTEL',\n",
       " 'ESTU_COD_DEPTO_PRESENTACION',\n",
       " 'ESTU_COD_MCPIO_PRESENTACION',\n",
       " 'ESTU_MCPIO_PRESENTACION',\n",
       " 'ESTU_DEPTO_PRESENTACION',\n",
       " 'DECIL_LECTURA_CRITICA',\n",
       " 'PUNT_LECTURA_CRITICA',\n",
       " 'DECIL_MATEMATICAS',\n",
       " 'PUNT_MATEMATICAS',\n",
       " 'DECIL_C_NATURALES',\n",
       " 'PUNT_C_NATURALES',\n",
       " 'DECIL_SOCIALES_CIUDADANAS',\n",
       " 'PUNT_SOCIALES_CIUDADANAS',\n",
       " 'DECIL_INGLES',\n",
       " 'DESEMP_INGLES',\n",
       " 'PUNT_INGLES',\n",
       " 'DECIL_RAZONA_CUANT',\n",
       " 'PUNT_RAZONA_CUANT',\n",
       " 'DECIL_COMP_CIUDADANA',\n",
       " 'PUNT_COMP_CIUDADANA',\n",
       " 'PUNT_GLOBAL',\n",
       " 'ESTU_PUESTO']"
      ]
     },
     "execution_count": 15,
     "metadata": {},
     "output_type": "execute_result"
    }
   ],
   "source": [
    "newCols"
   ]
  },
  {
   "cell_type": "markdown",
   "metadata": {
    "collapsed": true
   },
   "source": [
    "El archivo se va a recorrer de Arriba hacia abajo, de Izquierda a Derecha... Es decir por columnas.  \n",
    "Primera Columna que no cambio automaticamente es:  \n",
    "\n",
    "*ESTU_TIPODOCUMENTO* -> *ESTU_TIPO_DOCUMENTO*  \n",
    "*ESTU_NACIONALIDAD* -> *ESTU_PAIS_RESIDE*  \n",
    "*IND_ANNO_TERMINO_BACHILLERATO* -> *ESTU_ANO_TERMINO_BACHILL*  \n",
    "*ESTU_FECHANACIMIENTO* -> *ESTU_FECHA_NACIMIENTO*  \n",
    "____________________________________________________  \n",
    "- **ESTU_NACIMIENTO_DIA/MES/ANNO** -> **ESTU_FECHA_NACIMIENTO** *Se deja pendiente para tomar una decision*  \n",
    "____________________________________________________  \n",
    "*ESTU_LIMITA_COGNITIVA* -> *ESTU_LIMITA_SDOWN* **Sindrome de Down es una limitacion cognitiva por consiguiente se tomaran estas dos columnas como sinonimas**  \n",
    "*ESTU_TIENE_ETNIA* -> *ESTU_ETNIA*\n",
    "____________________________________________________  \n",
    "- *ESTU_LIMITA_BAJAVISION* -> **Agregar o quitar, no hay sinonimo** existe en muchos archivos  \n",
    "- *ESTU_LIMITA_SORDOCEGUERA* -> **Agregar o quitar, no hay sinonimo** existe en muchos archivos  \n",
    "- *ESTU_LIMITA_SORDOINTERPRETE* -> ** ''''''''' **  \n",
    "- *ESTU_LIMITA_SORDONOINTERPRETE* -> **'''''**  \n",
    "- *ESTU_HORASSEMANATRABAJA* -> **No hay sinonimo**  \n",
    "____________________________________________________  \n",
    "*ESTU_DEPTO_RESIDE* -> *ESTU_RESIDE_DEPTO*   \n",
    "*ESTU_MCPIO_RESIDE* -> *ESTU_RESIDE_MCPIO*  \n",
    "*FAMI_EDUCACIONPADRE* -> *FAMI_EDUCA_PADRE*  \n",
    "*FAMI_EDUCACIONMADRE* -> *FAMI_EDUCA_MADRE*  \n",
    "*PUNT_BIOLOGIA* -> **AGREGAR** campo individual que hace parte del puntaje de ciencias naturales  \n",
    "*PUNT_FISICA* -> **AGREGAR** Campo individual que hace parte del puntaje de ciencias naturales  \n",
    "*PUNT_QUIMICA* -> **AGREGAR** Campo individual que hace parte del puntaje de ciencias naturales  \n",
    "*FAMI_ESTRATOVIVIENDA* -> *FAMI_ESTRATO_VIVIENDA*  \n",
    "*PUNT_FILOSOFIA* -> **AGREGAR** Integracion con otro campo no encontrada  \n",
    "*FAMI_TIENEINTERNET* -> *FAMI_INTERNET*  \n",
    "*FAMI_TIENE_SERVICIOTV* -> *FAMI_SERVICIO_TELEVISION*  \n",
    "*FAMI_TIENECOMPUTADOR* -> *FAMI_COMPUTADOR*  \n",
    "*PUNT_HISTORIA* -> **AGREGAR** No hay sinonimo  \n",
    "*PUNT_LENGUAJE* -> *PUNT_LECTURA_CRITICA*\n",
    "*FAMI_LEE_ESCRIBE_PADRE* -> **Existe un campo que describe la educacion que posee el padre, por tanto este campo a mi criterio se podria eliminar**  \n",
    "*FAMI_LEE_ESCRIBE_MADRE* -> **Lo mismo del anterior**  \n",
    "*FAMI_TIENELAVADORA* -> *FAMI_LAVADORA*"
   ]
  },
  {
   "cell_type": "markdown",
   "metadata": {},
   "source": [
    "Se creo un archivo tipo excel para dejar resaltadas estas columnas que quedan pendiente por toma de decision  "
   ]
  },
  {
   "cell_type": "markdown",
   "metadata": {},
   "source": [
    "- Ocurre algo, la mayoria tiene campos individuales para el **DIA DE NACIMIENTO**, **MES DE NACIMIENTO**, y **AÑO DE NACIMIENTO**... y la minoria tiene un solo campo para **FECHA DE NACIMIENTO**\n",
    "\n",
    "    DECIDIR QUE HACER CON ESTO... AGREGAR COLUMNAS O QUITAR?\n",
    "\n",
    "- Se tiene otro problema con un campo que no tiene documentacion: **IND_COD_ICFES_TERMINO** aparece en los archivos del 20102, 20111, 20112, 20121, 20122"
   ]
  },
  {
   "cell_type": "code",
   "execution_count": 77,
   "metadata": {
    "collapsed": false
   },
   "outputs": [
    {
     "data": {
      "text/plain": [
       "104"
      ]
     },
     "execution_count": 77,
     "metadata": {},
     "output_type": "execute_result"
    }
   ],
   "source": [
    "newCols.index(\"FAMI_LAVADORA\")"
   ]
  },
  {
   "cell_type": "code",
   "execution_count": 16,
   "metadata": {
    "collapsed": false
   },
   "outputs": [
    {
     "name": "stderr",
     "output_type": "stream",
     "text": [
      "/usr/local/lib/python3.4/dist-packages/IPython/core/interactiveshell.py:2902: DtypeWarning: Columns (9,10,11,12,13,14,114) have mixed types. Specify dtype option on import or set low_memory=False.\n",
      "  interactivity=interactivity, compiler=compiler, result=result)\n"
     ]
    }
   ],
   "source": [
    "file145 = pd.read_csv(\"../DatosFTPICFES/SABER11/SB11-BASES_DE_DATOS/SB11-20142-RGSTRO-CLFCCN-V3-0.txt\", delimiter=\"|\",\n",
    "                     encoding=\"iso-8859-1\")"
   ]
  },
  {
   "cell_type": "code",
   "execution_count": 80,
   "metadata": {
    "collapsed": false
   },
   "outputs": [
    {
     "name": "stderr",
     "output_type": "stream",
     "text": [
      "/usr/local/lib/python3.4/dist-packages/IPython/core/interactiveshell.py:2902: DtypeWarning: Columns (11,12,13,14,15,16,24) have mixed types. Specify dtype option on import or set low_memory=False.\n",
      "  interactivity=interactivity, compiler=compiler, result=result)\n"
     ]
    }
   ],
   "source": [
    "file10 = pd.read_csv(\"../DatosFTPICFES/SABER11/SB11-BASES_DE_DATOS/SB11-20122-RGSTRO-CLFCCN-V1-0.txt\", delimiter=\"|\",\n",
    "                     encoding=\"iso-8859-1\")"
   ]
  },
  {
   "cell_type": "code",
   "execution_count": 81,
   "metadata": {
    "collapsed": false
   },
   "outputs": [],
   "source": [
    "y = file10[\"IND_COD_ICFES_TERMINO\"].dropna()"
   ]
  },
  {
   "cell_type": "code",
   "execution_count": 82,
   "metadata": {
    "collapsed": false
   },
   "outputs": [
    {
     "data": {
      "text/plain": [
       "0          46912\n",
       "1          46912\n",
       "2          46912\n",
       "3         108662\n",
       "4          34637\n",
       "5          13599\n",
       "6         164244\n",
       "7         100040\n",
       "8         109660\n",
       "9         151035\n",
       "10         68601\n",
       "11         77727\n",
       "12         13599\n",
       "13         13367\n",
       "14         13557\n",
       "15        115709\n",
       "16         92486\n",
       "17        161018\n",
       "18        112417\n",
       "19         61366\n",
       "20         13557\n",
       "21        151035\n",
       "22         13557\n",
       "23         65078\n",
       "24        132761\n",
       "25         72272\n",
       "26        114595\n",
       "27        114546\n",
       "28        103796\n",
       "29         65136\n",
       "           ...  \n",
       "575615     41624\n",
       "575616     47282\n",
       "575617     23408\n",
       "575618     35444\n",
       "575619    127134\n",
       "575620     76802\n",
       "575621    124750\n",
       "575622    104927\n",
       "575623      2360\n",
       "575624     19109\n",
       "575625      8508\n",
       "575627    111278\n",
       "575628     57935\n",
       "575629     32920\n",
       "575630     96198\n",
       "575631    157032\n",
       "575632     49403\n",
       "575633     95091\n",
       "575634     57612\n",
       "575635    119941\n",
       "575636     31021\n",
       "575637     15107\n",
       "575638     56986\n",
       "575639     20842\n",
       "575640     97386\n",
       "575641      8771\n",
       "575642      2154\n",
       "575643    129387\n",
       "575644    117531\n",
       "575645     73593\n",
       "Name: IND_COD_ICFES_TERMINO, dtype: float64"
      ]
     },
     "execution_count": 82,
     "metadata": {},
     "output_type": "execute_result"
    }
   ],
   "source": [
    "y"
   ]
  },
  {
   "cell_type": "code",
   "execution_count": 68,
   "metadata": {
    "collapsed": false
   },
   "outputs": [],
   "source": [
    "x = file145[\"ESTU_RESIDE_DEPTO\"].dropna()"
   ]
  },
  {
   "cell_type": "code",
   "execution_count": 69,
   "metadata": {
    "collapsed": false
   },
   "outputs": [
    {
     "data": {
      "text/plain": [
       "0               ANTIOQUIA\n",
       "1               ANTIOQUIA\n",
       "2                   VALLE\n",
       "3                   SUCRE\n",
       "4                 CORDOBA\n",
       "5                   HUILA\n",
       "6                    META\n",
       "7                   HUILA\n",
       "8               ATLANTICO\n",
       "9                  BOGOTA\n",
       "10                BOLIVAR\n",
       "11                 BOGOTA\n",
       "12        NORTE SANTANDER\n",
       "13              ANTIOQUIA\n",
       "14              ANTIOQUIA\n",
       "15                  VALLE\n",
       "16                  HUILA\n",
       "17                  VALLE\n",
       "18              SANTANDER\n",
       "19                 TOLIMA\n",
       "20                  VALLE\n",
       "21              MAGDALENA\n",
       "22                BOLIVAR\n",
       "23               CASANARE\n",
       "24             SAN ANDRES\n",
       "25                 BOGOTA\n",
       "26                 BOGOTA\n",
       "27                 TOLIMA\n",
       "28              ANTIOQUIA\n",
       "29                 BOGOTA\n",
       "               ...       \n",
       "574365          SANTANDER\n",
       "574366              VALLE\n",
       "574367              HUILA\n",
       "574368             BOGOTA\n",
       "574369              VALLE\n",
       "574370              VALLE\n",
       "574371          ANTIOQUIA\n",
       "574372             BOYACA\n",
       "574373             TOLIMA\n",
       "574374          ANTIOQUIA\n",
       "574375       CUNDINAMARCA\n",
       "574376            NARIÃO\n",
       "574377          MAGDALENA\n",
       "574378            CORDOBA\n",
       "574379          ANTIOQUIA\n",
       "574380          RISARALDA\n",
       "574381              VALLE\n",
       "574382          MAGDALENA\n",
       "574383           PUTUMAYO\n",
       "574384          ANTIOQUIA\n",
       "574385            NARIÃO\n",
       "574386            NARIÃO\n",
       "574387             BOGOTA\n",
       "574388          SANTANDER\n",
       "574389          MAGDALENA\n",
       "574390            BOLIVAR\n",
       "574391             TOLIMA\n",
       "574392             BOGOTA\n",
       "574393               META\n",
       "574394              SUCRE\n",
       "Name: ESTU_RESIDE_DEPTO, dtype: object"
      ]
     },
     "execution_count": 69,
     "metadata": {},
     "output_type": "execute_result"
    }
   ],
   "source": [
    "x"
   ]
  },
  {
   "cell_type": "code",
   "execution_count": 13,
   "metadata": {
    "collapsed": false
   },
   "outputs": [
    {
     "data": {
      "text/plain": [
       "0    NaN\n",
       "1    NaN\n",
       "2    NaN\n",
       "3    NaN\n",
       "4    NaN\n",
       "5    NaN\n",
       "6    NaN\n",
       "7    NaN\n",
       "8    NaN\n",
       "9    NaN\n",
       "10   NaN\n",
       "11   NaN\n",
       "12   NaN\n",
       "13   NaN\n",
       "14   NaN\n",
       "15   NaN\n",
       "16   NaN\n",
       "17   NaN\n",
       "18   NaN\n",
       "19   NaN\n",
       "20   NaN\n",
       "21   NaN\n",
       "22   NaN\n",
       "23   NaN\n",
       "24   NaN\n",
       "25   NaN\n",
       "26   NaN\n",
       "27   NaN\n",
       "28   NaN\n",
       "29   NaN\n",
       "30   NaN\n",
       "31   NaN\n",
       "32   NaN\n",
       "33   NaN\n",
       "34   NaN\n",
       "35   NaN\n",
       "36   NaN\n",
       "37   NaN\n",
       "38   NaN\n",
       "39   NaN\n",
       "40   NaN\n",
       "41   NaN\n",
       "42   NaN\n",
       "43   NaN\n",
       "44   NaN\n",
       "45   NaN\n",
       "46   NaN\n",
       "47   NaN\n",
       "48   NaN\n",
       "49   NaN\n",
       "Name: ESTU_LIMITA_SDOWN, dtype: float64"
      ]
     },
     "execution_count": 13,
     "metadata": {},
     "output_type": "execute_result"
    }
   ],
   "source": [
    "file145[\"ESTU_LIMITA_SDOWN\"]"
   ]
  },
  {
   "cell_type": "code",
   "execution_count": null,
   "metadata": {
    "collapsed": true
   },
   "outputs": [],
   "source": []
  },
  {
   "cell_type": "code",
   "execution_count": null,
   "metadata": {
    "collapsed": true
   },
   "outputs": [],
   "source": []
  },
  {
   "cell_type": "code",
   "execution_count": null,
   "metadata": {
    "collapsed": true
   },
   "outputs": [],
   "source": []
  },
  {
   "cell_type": "code",
   "execution_count": null,
   "metadata": {
    "collapsed": true
   },
   "outputs": [],
   "source": []
  }
 ],
 "metadata": {
  "kernelspec": {
   "display_name": "Python 3",
   "language": "python",
   "name": "python3"
  },
  "language_info": {
   "codemirror_mode": {
    "name": "ipython",
    "version": 3
   },
   "file_extension": ".py",
   "mimetype": "text/x-python",
   "name": "python",
   "nbconvert_exporter": "python",
   "pygments_lexer": "ipython3",
   "version": "3.4.2"
  }
 },
 "nbformat": 4,
 "nbformat_minor": 2
}
