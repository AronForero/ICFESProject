{
 "cells": [
  {
   "cell_type": "code",
   "execution_count": 24,
   "metadata": {
    "collapsed": true
   },
   "outputs": [],
   "source": [
    "import pandas as pd\n",
    "import numpy as np\n",
    "%run -i ../tools/functions.py"
   ]
  },
  {
   "cell_type": "markdown",
   "metadata": {
    "collapsed": true
   },
   "source": [
    "## Extrayendo las columnas de cada fichero\n",
    "\n",
    "Bases de datos SABER11\n",
    "\n",
    "1. Importo todos los archivos de bases de datos"
   ]
  },
  {
   "cell_type": "code",
   "execution_count": 42,
   "metadata": {},
   "outputs": [],
   "source": [
    "file = pd.read_csv(\"../DatosFTPICFES/SABER11/SB11-BASES_DE_DATOS/SB11-20001-RGSTRO-CLFCCN-V1-0.txt\", delimiter=\"|\",\n",
    "                   encoding=\"iso-8859-1\", nrows=50)\n",
    "file05 = pd.read_csv(\"../DatosFTPICFES/SABER11/SB11-BASES_DE_DATOS/SB11-20002-RGSTRO-CLFCCN-V1-0.txt\", delimiter=\"|\",\n",
    "                    encoding=\"iso-8859-1\", nrows=50)\n",
    "####################################################################################################################\n",
    "file1 = pd.read_csv(\"../DatosFTPICFES/SABER11/SB11-BASES_DE_DATOS/SB11-20011-RGSTRO-CLFCCN-V1-0.txt\", delimiter=\"|\", \n",
    "                    encoding=\"iso-8859-1\", nrows=50)\n",
    "file1_5 = pd.read_csv(\"../DatosFTPICFES/SABER11/SB11-BASES_DE_DATOS/SB11-20012-RGSTRO-CLFCCN-V1-0.txt\", delimiter=\"|\",\n",
    "                     encoding=\"iso-8859-1\", nrows=50)\n",
    "####################################################################################################################\n",
    "file2 = pd.read_csv(\"../DatosFTPICFES/SABER11/SB11-BASES_DE_DATOS/SB11-20021-RGSTRO-CLFCCN-V1-0.txt\", delimiter=\"|\",\n",
    "                    encoding=\"iso-8859-1\", nrows=50)\n",
    "file25 = pd.read_csv(\"../DatosFTPICFES/SABER11/SB11-BASES_DE_DATOS/SB11-20022-RGSTRO-CLFCCN-V1-0.txt\", delimiter=\"|\", \n",
    "                    encoding=\"iso-8859-1\", nrows=50)\n",
    "####################################################################################################################\n",
    "file3 = pd.read_csv(\"../DatosFTPICFES/SABER11/SB11-BASES_DE_DATOS/SB11-20031-RGSTRO-CLFCCN-V1-0.txt\", delimiter=\"|\",\n",
    "                    encoding=\"iso-8859-1\", nrows=50)\n",
    "file35 = pd.read_csv(\"../DatosFTPICFES/SABER11/SB11-BASES_DE_DATOS/SB11-20032-RGSTRO-CLFCCN-V1-0.txt\", delimiter=\"|\",\n",
    "                    encoding=\"iso-8859-1\", nrows=50)\n",
    "####################################################################################################################\n",
    "file4 = pd.read_csv(\"../DatosFTPICFES/SABER11/SB11-BASES_DE_DATOS/SB11-20041-RGSTRO-CLFCCN-V1-0.txt\", delimiter=\"|\",\n",
    "                    encoding=\"iso-8859-1\", nrows=50)\n",
    "file45 = pd.read_csv(\"../DatosFTPICFES/SABER11/SB11-BASES_DE_DATOS/SB11-20042-RGSTRO-CLFCCN-V1-0.txt\", delimiter=\"|\",\n",
    "                    encoding=\"iso-8859-1\", nrows=50)\n",
    "####################################################################################################################\n",
    "file5 = pd.read_csv(\"../DatosFTPICFES/SABER11/SB11-BASES_DE_DATOS/SB11-20051-RGSTRO-CLFCCN-V1-0.txt\", delimiter=\"|\",\n",
    "                    encoding=\"iso-8859-1\", nrows=50)\n",
    "file55 = pd.read_csv(\"../DatosFTPICFES/SABER11/SB11-BASES_DE_DATOS/SB11-20052-RGSTRO-CLFCCN-V1-0.txt\", delimiter=\"|\",\n",
    "                    encoding=\"iso-8859-1\", nrows=50)\n",
    "####################################################################################################################\n",
    "file6 = pd.read_csv(\"../DatosFTPICFES/SABER11/SB11-BASES_DE_DATOS/SB11-20061-RGSTRO-CLFCCN-V1-0.txt\", delimiter=\"|\",\n",
    "                    encoding=\"iso-8859-1\", nrows=50)\n",
    "file65 = pd.read_csv(\"../DatosFTPICFES/SABER11/SB11-BASES_DE_DATOS/SB11-20062-RGSTRO-CLFCCN-V1-0.txt\", delimiter=\"|\",\n",
    "                    encoding=\"iso-8859-1\", nrows=50)\n",
    "####################################################################################################################\n",
    "file7 = pd.read_csv(\"../DatosFTPICFES/SABER11/SB11-BASES_DE_DATOS/SB11-20071-RGSTRO-CLFCCN-V1-0.txt\", delimiter=\"|\",\n",
    "                    encoding=\"iso-8859-1\", nrows=50)\n",
    "file75 = pd.read_csv(\"../DatosFTPICFES/SABER11/SB11-BASES_DE_DATOS/SB11-20072-RGSTRO-CLFCCN-V1-0.txt\", delimiter=\"|\",\n",
    "                    encoding=\"iso-8859-1\", nrows=50)\n",
    "####################################################################################################################\n",
    "file8 = pd.read_csv(\"../DatosFTPICFES/SABER11/SB11-BASES_DE_DATOS/SB11-20081-RGSTRO-CLFCCN-V1-0.txt\", delimiter=\"|\",\n",
    "                    encoding=\"iso-8859-1\", nrows=50)\n",
    "file85 = pd.read_csv(\"../DatosFTPICFES/SABER11/SB11-BASES_DE_DATOS/SB11-20082-RGSTRO-CLFCCN-V1-0.txt\", delimiter=\"|\",\n",
    "                    encoding=\"iso-8859-1\", nrows=50)\n",
    "####################################################################################################################\n",
    "file9 = pd.read_csv(\"../DatosFTPICFES/SABER11/SB11-BASES_DE_DATOS/SB11-20091-RGSTRO-CLFCCN-V1-0.txt\", delimiter=\"|\",\n",
    "                    encoding=\"iso-8859-1\", nrows=50)\n",
    "file95 = pd.read_csv(\"../DatosFTPICFES/SABER11/SB11-BASES_DE_DATOS/SB11-20092-RGSTRO-CLFCCN-V1-0.txt\", delimiter=\"|\",\n",
    "                    encoding=\"iso-8859-1\", nrows=50)\n",
    "####################################################################################################################\n",
    "file10 = pd.read_csv(\"../DatosFTPICFES/SABER11/SB11-BASES_DE_DATOS/SB11-20101-RGSTRO-CLFCCN-V1-0.txt\", delimiter=\"|\",\n",
    "                     encoding=\"iso-8859-1\", nrows=50)\n",
    "file105 = pd.read_csv(\"../DatosFTPICFES/SABER11/SB11-BASES_DE_DATOS/SB11-20102-RGSTRO-CLFCCN-V1-0.txt\", delimiter=\"|\",\n",
    "                    encoding=\"iso-8859-1\", nrows=50)\n",
    "####################################################################################################################\n",
    "file11 = pd.read_csv(\"../DatosFTPICFES/SABER11/SB11-BASES_DE_DATOS/SB11-20111-RGSTRO-CLFCCN-V1-0.txt\", delimiter=\"|\",\n",
    "                     encoding=\"iso-8859-1\", nrows=50)\n",
    "file115 = pd.read_csv(\"../DatosFTPICFES/SABER11/SB11-BASES_DE_DATOS/SB11-20112-RGSTRO-CLFCCN-V1-0.txt\", delimiter=\"|\",\n",
    "                    encoding=\"iso-8859-1\", nrows=50)\n",
    "####################################################################################################################\n",
    "file12 = pd.read_csv(\"../DatosFTPICFES/SABER11/SB11-BASES_DE_DATOS/SB11-20121-RGSTRO-CLFCCN-V1-0.txt\", delimiter=\"|\",\n",
    "                     encoding=\"iso-8859-1\", nrows=50)\n",
    "file125 = pd.read_csv(\"../DatosFTPICFES/SABER11/SB11-BASES_DE_DATOS/SB11-20122-RGSTRO-CLFCCN-V1-0.txt\", delimiter=\"|\",\n",
    "                    encoding=\"iso-8859-1\", nrows=50)\n",
    "####################################################################################################################\n",
    "file13 = pd.read_csv(\"../DatosFTPICFES/SABER11/SB11-BASES_DE_DATOS/SB11-20131-RGSTRO-CLFCCN-V1-0.txt\", delimiter=\"|\",\n",
    "                     encoding=\"iso-8859-1\", nrows=50)\n",
    "file135 = pd.read_csv(\"../DatosFTPICFES/SABER11/SB11-BASES_DE_DATOS/SB11-20132-RGSTRO-CLFCCN-V1-0.txt\", delimiter=\"|\",\n",
    "                    encoding=\"iso-8859-1\", nrows=50)\n",
    "####################################################################################################################\n",
    "file14 = pd.read_csv(\"../DatosFTPICFES/SABER11/SB11-BASES_DE_DATOS/SB11-20141-RGSTRO-CLFCCN-V1-0.txt\", delimiter=\"|\",\n",
    "                     encoding=\"iso-8859-1\", nrows=50)\n",
    "file145 = pd.read_csv(\"../DatosFTPICFES/SABER11/SB11-BASES_DE_DATOS/SB11-20142-RGSTRO-CLFCCN-V3-0.txt\", delimiter=\"|\",\n",
    "                     encoding=\"iso-8859-1\", nrows=50)\n",
    "####################################################################################################################\n",
    "file15 = pd.read_csv(\"../DatosFTPICFES/SABER11/SB11-BASES_DE_DATOS/SB11-20151-RGSTRO-CLFCCN-V3-0.txt\", delimiter=\"|\",\n",
    "                     encoding=\"iso-8859-1\", nrows=50)\n",
    "file155 = pd.read_csv(\"../DatosFTPICFES/SABER11/SB11-BASES_DE_DATOS/SB11-20152-RGSTRO-CLFCCN-V3-0.txt\", delimiter=\"|\",\n",
    "                     encoding=\"iso-8859-1\", nrows=50)\n",
    "####################################################################################################################\n",
    "file16 = pd.read_csv(\"../DatosFTPICFES/SABER11/SB11-BASES_DE_DATOS/SB11-20161-RGSTRO-CLFCCN-V1-0.txt\", delimiter=\"|\",\n",
    "                     encoding=\"iso-8859-1\", nrows=50)\n",
    "file16_v3 = pd.read_csv(\"../DatosFTPICFES/SABER11/SB11-BASES_DE_DATOS/SB11-20161-RGSTRO-CLFCCN-V3-0.txt\", delimiter=\"|\",\n",
    "                     encoding=\"iso-8859-1\", nrows=50)\n",
    "file165 = pd.read_csv(\"../DatosFTPICFES/SABER11/SB11-BASES_DE_DATOS/SB11-20162-RGSTRO-CLFCCN-V1-0.txt\", delimiter=\"|\",\n",
    "                     encoding=\"iso-8859-1\", nrows=50)\n",
    "####################################################################################################################\n",
    "file17 = pd.read_csv(\"../DatosFTPICFES/SABER11/SB11-BASES_DE_DATOS/SB11-20171-RGSTRO-CLFCCN-V1-0.txt\", delimiter=\"|\",\n",
    "                     nrows=50)"
   ]
  },
  {
   "cell_type": "markdown",
   "metadata": {
    "collapsed": true
   },
   "source": [
    "      2. Extraigo las columnas y las pongo en una lista (Lista independiente para cada archivo)\n",
    "      3. Anexo cada lista en un nuevo DataFrame"
   ]
  },
  {
   "cell_type": "markdown",
   "metadata": {},
   "source": [
    "La lista de listas de las columnas de cada archivo la creo con la funcion \"obj_2list\" creada en el archivo functions.py en la carpeta tools "
   ]
  },
  {
   "cell_type": "code",
   "execution_count": 43,
   "metadata": {},
   "outputs": [],
   "source": [
    "l = obj_2list(file, file05, file1, file1_5, file2, file25, file3, file35, file4, file45, file6, file65, file7, file75,\n",
    "             file8, file85, file9, file95, file10, file105, file11, file115, file12, file125, file13, file135, file14,\n",
    "             file145, file15, file155, file16, file16_v3, file165, file17)"
   ]
  },
  {
   "cell_type": "markdown",
   "metadata": {},
   "source": [
    "Creo una lista con los indices (año al que pertenecen los datos) que tendra el nuevo DataFrame..."
   ]
  },
  {
   "cell_type": "code",
   "execution_count": 44,
   "metadata": {
    "collapsed": true
   },
   "outputs": [],
   "source": [
    "indexes = [\"2000_1\", \"2000_2\", \"2002_1\", \"2002_2\", \"2003_1\", \"2003_2\", \"2004_1\", \"2004_2\", \"2005_1\", \"2005_2\",\n",
    "           \"2006_1\", \"2006_2\", \"2007_1\", \"2007_2\", \"2008_1\", \"2008_2\", \"2009_1\", \"2009_2\", \"2010_1\", \"2010_2\",\n",
    "           \"2011_1\", \"2011_2\", \"2012_1\", \"2012_2\", \"2013_1\", \"2013_2\", \"2014_1\", \"2014_2\", \"2015_1\", \"2015_2\", \n",
    "           \"2016_1\", \"2016_1_v3\", \"2016_2\", \"2017_1\"]"
   ]
  },
  {
   "cell_type": "markdown",
   "metadata": {},
   "source": [
    "Creo el DataFrame."
   ]
  },
  {
   "cell_type": "code",
   "execution_count": 45,
   "metadata": {
    "collapsed": true
   },
   "outputs": [],
   "source": [
    "column_comparison = pd.DataFrame(data = l, index = indexes)"
   ]
  },
  {
   "cell_type": "markdown",
   "metadata": {},
   "source": [
    "error por cantidad de datos?"
   ]
  },
  {
   "cell_type": "code",
   "execution_count": 49,
   "metadata": {
    "scrolled": true
   },
   "outputs": [
    {
     "name": "stderr",
     "output_type": "stream",
     "text": [
      "IOPub data rate exceeded.\n",
      "The notebook server will temporarily stop sending output\n",
      "to the client in order to avoid crashing it.\n",
      "To change this limit, set the config variable\n",
      "`--NotebookApp.iopub_data_rate_limit`.\n"
     ]
    }
   ],
   "source": [
    "column_comparison.to_csv(sep=\";\", na_rep=\"NaN\")"
   ]
  },
  {
   "cell_type": "code",
   "execution_count": null,
   "metadata": {
    "collapsed": true
   },
   "outputs": [],
   "source": []
  },
  {
   "cell_type": "code",
   "execution_count": null,
   "metadata": {
    "collapsed": true
   },
   "outputs": [],
   "source": []
  }
 ],
 "metadata": {
  "kernelspec": {
   "display_name": "Python 3",
   "language": "python",
   "name": "python3"
  },
  "language_info": {
   "codemirror_mode": {
    "name": "ipython",
    "version": 3
   },
   "file_extension": ".py",
   "mimetype": "text/x-python",
   "name": "python",
   "nbconvert_exporter": "python",
   "pygments_lexer": "ipython3",
   "version": "3.6.2"
  }
 },
 "nbformat": 4,
 "nbformat_minor": 2
}
