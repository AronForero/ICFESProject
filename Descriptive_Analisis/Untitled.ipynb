{
 "cells": [
  {
   "cell_type": "code",
   "execution_count": 6,
   "metadata": {
    "collapsed": true
   },
   "outputs": [],
   "source": [
    "import pandas as pd"
   ]
  },
  {
   "cell_type": "code",
   "execution_count": 25,
   "metadata": {
    "collapsed": false
   },
   "outputs": [
    {
     "name": "stderr",
     "output_type": "stream",
     "text": [
      "/usr/local/anaconda3/lib/python3.5/site-packages/IPython/core/interactiveshell.py:2723: DtypeWarning: Columns (54) have mixed types. Specify dtype option on import or set low_memory=False.\n",
      "  interactivity=interactivity, compiler=compiler, result=result)\n"
     ]
    }
   ],
   "source": [
    "file1 = pd.read_csv(\"../DatosFTPICFES/SABER11/SB11-BASES_DE_DATOS/SB11-20171-RGSTRO-CLFCCN-V1-0.txt\", delimiter=\"|\", \n",
    "                    encoding=\"iso-8859-1\")"
   ]
  },
  {
   "cell_type": "code",
   "execution_count": 31,
   "metadata": {
    "collapsed": false,
    "scrolled": true
   },
   "outputs": [
    {
     "data": {
      "text/plain": [
       "0        S\n",
       "1        S\n",
       "2        S\n",
       "3        S\n",
       "4        S\n",
       "5        S\n",
       "6        S\n",
       "7        S\n",
       "8        S\n",
       "9        S\n",
       "10       S\n",
       "11       S\n",
       "12       S\n",
       "13       S\n",
       "14       S\n",
       "15       S\n",
       "16       S\n",
       "17       S\n",
       "18       S\n",
       "19       S\n",
       "20       S\n",
       "21       S\n",
       "22       S\n",
       "23       S\n",
       "24       S\n",
       "25       S\n",
       "26       S\n",
       "27       S\n",
       "28       S\n",
       "29       S\n",
       "        ..\n",
       "12963    S\n",
       "12964    S\n",
       "12965    S\n",
       "12966    S\n",
       "12967    S\n",
       "12968    S\n",
       "12969    S\n",
       "12970    S\n",
       "12971    S\n",
       "12972    S\n",
       "12973    S\n",
       "12974    S\n",
       "12975    S\n",
       "12976    S\n",
       "12977    S\n",
       "12978    S\n",
       "12979    S\n",
       "12980    S\n",
       "12981    S\n",
       "12982    S\n",
       "12983    S\n",
       "12984    S\n",
       "12985    S\n",
       "12986    S\n",
       "12987    S\n",
       "12988    S\n",
       "12989    S\n",
       "12990    S\n",
       "12991    S\n",
       "12992    S\n",
       "Name: COLE_SEDE_PRINCIPAL, dtype: object"
      ]
     },
     "execution_count": 31,
     "metadata": {},
     "output_type": "execute_result"
    }
   ],
   "source": [
    "file1[\"COLE_SEDE_PRINCIPAL\"].dropna()"
   ]
  },
  {
   "cell_type": "code",
   "execution_count": 34,
   "metadata": {
    "collapsed": false
   },
   "outputs": [
    {
     "name": "stderr",
     "output_type": "stream",
     "text": [
      "/usr/local/anaconda3/lib/python3.5/site-packages/IPython/core/interactiveshell.py:2723: DtypeWarning: Columns (9,10,11,12,13,14,27,104,110) have mixed types. Specify dtype option on import or set low_memory=False.\n",
      "  interactivity=interactivity, compiler=compiler, result=result)\n"
     ]
    }
   ],
   "source": [
    "file2 = pd.read_csv(\"../DatosFTPICFES/SABER11/SB11-BASES_DE_DATOS/SB11-20151-RGSTRO-CLFCCN-V3-0.txt\", delimiter=\"|\",\n",
    "                    encoding=\"iso-8859-1\")"
   ]
  },
  {
   "cell_type": "code",
   "execution_count": 35,
   "metadata": {
    "collapsed": false
   },
   "outputs": [
    {
     "data": {
      "text/plain": [
       "0         D08\n",
       "1         D01\n",
       "2         D07\n",
       "3         D07\n",
       "4         D09\n",
       "5         D04\n",
       "6         D03\n",
       "7         D08\n",
       "8         D02\n",
       "9         D09\n",
       "10        D07\n",
       "11        D06\n",
       "12        D01\n",
       "13        D05\n",
       "14        D01\n",
       "15        D08\n",
       "16        D09\n",
       "17        D01\n",
       "18        D05\n",
       "19        D03\n",
       "20        D06\n",
       "21        D07\n",
       "22        D07\n",
       "23        D04\n",
       "24        D05\n",
       "25        D05\n",
       "26        D07\n",
       "27        D05\n",
       "28        D03\n",
       "29        D05\n",
       "         ... \n",
       "106510    D01\n",
       "106511    D07\n",
       "106512    D01\n",
       "106513    D03\n",
       "106514    D07\n",
       "106515    D02\n",
       "106516    D04\n",
       "106517    D07\n",
       "106518    D02\n",
       "106519    D08\n",
       "106520    D05\n",
       "106521    D09\n",
       "106522    D06\n",
       "106523    D02\n",
       "106524    D09\n",
       "106525    D01\n",
       "106526    D02\n",
       "106527    D07\n",
       "106528    D05\n",
       "106529    D05\n",
       "106530    D02\n",
       "106531    D03\n",
       "106532    D03\n",
       "106533    D07\n",
       "106534    D10\n",
       "106535    D01\n",
       "106536    D10\n",
       "106537    D07\n",
       "106538    D10\n",
       "106539    D02\n",
       "Name: DECIL_COMP_CIUDADANA, dtype: object"
      ]
     },
     "execution_count": 35,
     "metadata": {},
     "output_type": "execute_result"
    }
   ],
   "source": [
    "file2[\"DECIL_COMP_CIUDADANA\"].dropna()"
   ]
  }
 ],
 "metadata": {
  "kernelspec": {
   "display_name": "Python 3 + Anaconda",
   "language": "python",
   "name": "pyconda3"
  },
  "language_info": {
   "codemirror_mode": {
    "name": "ipython",
    "version": 3
   },
   "file_extension": ".py",
   "mimetype": "text/x-python",
   "name": "python",
   "nbconvert_exporter": "python",
   "pygments_lexer": "ipython3",
   "version": "3.5.1"
  }
 },
 "nbformat": 4,
 "nbformat_minor": 0
}
