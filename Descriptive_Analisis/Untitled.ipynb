{
 "cells": [
  {
   "cell_type": "code",
   "execution_count": 1,
   "metadata": {
    "collapsed": true
   },
   "outputs": [],
   "source": [
    "import pandas as pd"
   ]
  },
  {
   "cell_type": "code",
   "execution_count": 4,
   "metadata": {
    "collapsed": false
   },
   "outputs": [
    {
     "name": "stderr",
     "output_type": "stream",
     "text": [
      "/usr/local/anaconda3/lib/python3.5/site-packages/IPython/core/interactiveshell.py:2723: DtypeWarning: Columns (54) have mixed types. Specify dtype option on import or set low_memory=False.\n",
      "  interactivity=interactivity, compiler=compiler, result=result)\n"
     ]
    }
   ],
   "source": [
    "file1 = pd.read_csv(\"../DatosFTPICFES/SABER11/SB11-BASES_DE_DATOS/SB11-20171-RGSTRO-CLFCCN-V1-0.txt\", delimiter=\"|\", \n",
    "                    encoding=\"iso-8859-1\")"
   ]
  },
  {
   "cell_type": "code",
   "execution_count": 17,
   "metadata": {
    "collapsed": false,
    "scrolled": true
   },
   "outputs": [
    {
     "data": {
      "text/plain": [
       "0        A-\n",
       "1        A1\n",
       "2        B+\n",
       "3        B+\n",
       "4        B+\n",
       "5        B+\n",
       "6        B+\n",
       "7        B1\n",
       "8        A1\n",
       "9        A-\n",
       "10       A-\n",
       "11       B1\n",
       "12       B1\n",
       "13       B+\n",
       "14       A1\n",
       "15       A-\n",
       "16       B+\n",
       "17       B+\n",
       "18       B+\n",
       "19       B1\n",
       "20       B1\n",
       "21       B+\n",
       "22       B+\n",
       "23       B+\n",
       "24       B1\n",
       "25       B+\n",
       "26       B+\n",
       "27       B+\n",
       "28       B1\n",
       "29       B+\n",
       "         ..\n",
       "12963    B+\n",
       "12964    B+\n",
       "12965    B+\n",
       "12966    B1\n",
       "12967    B1\n",
       "12968    B+\n",
       "12969    B+\n",
       "12970    B+\n",
       "12971    B1\n",
       "12972    A-\n",
       "12973    A-\n",
       "12974    A1\n",
       "12975    A-\n",
       "12976    A1\n",
       "12977    A-\n",
       "12978    A-\n",
       "12979    A-\n",
       "12980    A1\n",
       "12981    A-\n",
       "12982    A-\n",
       "12983    A2\n",
       "12984    B1\n",
       "12985    B1\n",
       "12986    A-\n",
       "12987    A1\n",
       "12988    A1\n",
       "12989    A1\n",
       "12990    B1\n",
       "12991    A-\n",
       "12992    A-\n",
       "Name: DESEMP_INGLES, dtype: object"
      ]
     },
     "execution_count": 17,
     "metadata": {},
     "output_type": "execute_result"
    }
   ],
   "source": [
    "file1[\"DESEMP_INGLES\"].dropna()"
   ]
  },
  {
   "cell_type": "code",
   "execution_count": 15,
   "metadata": {
    "collapsed": false
   },
   "outputs": [
    {
     "name": "stderr",
     "output_type": "stream",
     "text": [
      "/usr/local/anaconda3/lib/python3.5/site-packages/IPython/core/interactiveshell.py:2723: DtypeWarning: Columns (26) have mixed types. Specify dtype option on import or set low_memory=False.\n",
      "  interactivity=interactivity, compiler=compiler, result=result)\n"
     ]
    }
   ],
   "source": [
    "file2 = pd.read_csv(\"../DatosFTPICFES/SABER11/SB11-BASES_DE_DATOS/SB11-20052-RGSTRO-CLFCCN-V1-0.txt\", delimiter=\"|\",\n",
    "                    encoding=\"iso-8859-1\")"
   ]
  },
  {
   "cell_type": "code",
   "execution_count": 16,
   "metadata": {
    "collapsed": false
   },
   "outputs": [
    {
     "data": {
      "text/plain": [
       "2779     -1.0\n",
       "4052     -1.0\n",
       "4733     -1.0\n",
       "4961     -1.0\n",
       "5484     -1.0\n",
       "8056     -1.0\n",
       "8237     -1.0\n",
       "8815     -1.0\n",
       "9267     -1.0\n",
       "10460    -1.0\n",
       "10568    -1.0\n",
       "15022    -1.0\n",
       "18315    -1.0\n",
       "18850    -1.0\n",
       "19262    -1.0\n",
       "20052    -1.0\n",
       "20309    -1.0\n",
       "21209    -1.0\n",
       "21326    -1.0\n",
       "21686    -1.0\n",
       "22147    -1.0\n",
       "22755    -1.0\n",
       "24720    -1.0\n",
       "25324    -1.0\n",
       "25389    -1.0\n",
       "25720    -1.0\n",
       "26149    -1.0\n",
       "26315    -1.0\n",
       "27519    -1.0\n",
       "28532    -1.0\n",
       "         ... \n",
       "380898   -1.0\n",
       "381064   -1.0\n",
       "381506   -1.0\n",
       "381563   -1.0\n",
       "381633   -1.0\n",
       "381776   -1.0\n",
       "381897   -1.0\n",
       "381909   -1.0\n",
       "382180   -1.0\n",
       "382357   -1.0\n",
       "382646   -1.0\n",
       "382698   -1.0\n",
       "382712   -1.0\n",
       "382716   -1.0\n",
       "382727   -1.0\n",
       "382738   -1.0\n",
       "382759   -1.0\n",
       "382885   -1.0\n",
       "383307   -1.0\n",
       "383423   -1.0\n",
       "383456   -1.0\n",
       "383810   -1.0\n",
       "383811   -1.0\n",
       "383812   -1.0\n",
       "383813   -1.0\n",
       "383814   -1.0\n",
       "383815   -1.0\n",
       "383816   -1.0\n",
       "383817   -1.0\n",
       "383818   -1.0\n",
       "Name: DESEMP_IDIOMA, dtype: float64"
      ]
     },
     "execution_count": 16,
     "metadata": {},
     "output_type": "execute_result"
    }
   ],
   "source": [
    "file2[\"DESEMP_IDIOMA\"].dropna()"
   ]
  }
 ],
 "metadata": {
  "kernelspec": {
   "display_name": "Python 3 + Anaconda",
   "language": "python",
   "name": "pyconda3"
  },
  "language_info": {
   "codemirror_mode": {
    "name": "ipython",
    "version": 3
   },
   "file_extension": ".py",
   "mimetype": "text/x-python",
   "name": "python",
   "nbconvert_exporter": "python",
   "pygments_lexer": "ipython3",
   "version": "3.5.1"
  }
 },
 "nbformat": 4,
 "nbformat_minor": 0
}
