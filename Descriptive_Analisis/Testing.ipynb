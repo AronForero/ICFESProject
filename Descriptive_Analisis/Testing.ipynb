{
 "cells": [
  {
   "cell_type": "code",
   "execution_count": 2,
   "metadata": {
    "collapsed": true
   },
   "outputs": [],
   "source": [
    "import pandas as pd"
   ]
  },
  {
   "cell_type": "code",
   "execution_count": 4,
   "metadata": {
    "collapsed": false
   },
   "outputs": [
    {
     "name": "stderr",
     "output_type": "stream",
     "text": [
      "/usr/local/anaconda3/lib/python3.5/site-packages/IPython/core/interactiveshell.py:2723: DtypeWarning: Columns (54) have mixed types. Specify dtype option on import or set low_memory=False.\n",
      "  interactivity=interactivity, compiler=compiler, result=result)\n"
     ]
    }
   ],
   "source": [
    "file1 = pd.read_csv(\"../DatosFTPICFES/SABER11/SB11-BASES_DE_DATOS/SB11-20171-RGSTRO-CLFCCN-V1-0.txt\", delimiter=\"|\", \n",
    "                    encoding=\"iso-8859-1\")"
   ]
  },
  {
   "cell_type": "code",
   "execution_count": 17,
   "metadata": {
    "collapsed": false,
    "scrolled": true
   },
   "outputs": [
    {
     "data": {
      "text/plain": [
       "0        A-\n",
       "1        A1\n",
       "2        B+\n",
       "3        B+\n",
       "4        B+\n",
       "5        B+\n",
       "6        B+\n",
       "7        B1\n",
       "8        A1\n",
       "9        A-\n",
       "10       A-\n",
       "11       B1\n",
       "12       B1\n",
       "13       B+\n",
       "14       A1\n",
       "15       A-\n",
       "16       B+\n",
       "17       B+\n",
       "18       B+\n",
       "19       B1\n",
       "20       B1\n",
       "21       B+\n",
       "22       B+\n",
       "23       B+\n",
       "24       B1\n",
       "25       B+\n",
       "26       B+\n",
       "27       B+\n",
       "28       B1\n",
       "29       B+\n",
       "         ..\n",
       "12963    B+\n",
       "12964    B+\n",
       "12965    B+\n",
       "12966    B1\n",
       "12967    B1\n",
       "12968    B+\n",
       "12969    B+\n",
       "12970    B+\n",
       "12971    B1\n",
       "12972    A-\n",
       "12973    A-\n",
       "12974    A1\n",
       "12975    A-\n",
       "12976    A1\n",
       "12977    A-\n",
       "12978    A-\n",
       "12979    A-\n",
       "12980    A1\n",
       "12981    A-\n",
       "12982    A-\n",
       "12983    A2\n",
       "12984    B1\n",
       "12985    B1\n",
       "12986    A-\n",
       "12987    A1\n",
       "12988    A1\n",
       "12989    A1\n",
       "12990    B1\n",
       "12991    A-\n",
       "12992    A-\n",
       "Name: DESEMP_INGLES, dtype: object"
      ]
     },
     "execution_count": 17,
     "metadata": {},
     "output_type": "execute_result"
    }
   ],
   "source": [
    "file1[\"DESEMP_INGLES\"].dropna()"
   ]
  },
  {
   "cell_type": "code",
   "execution_count": 16,
   "metadata": {
    "collapsed": false
   },
   "outputs": [
    {
     "name": "stderr",
     "output_type": "stream",
     "text": [
      "/usr/local/anaconda3/lib/python3.5/site-packages/IPython/core/interactiveshell.py:2723: DtypeWarning: Columns (9,10,11,12,13,14,27,104,110) have mixed types. Specify dtype option on import or set low_memory=False.\n",
      "  interactivity=interactivity, compiler=compiler, result=result)\n"
     ]
    }
   ],
   "source": [
    "file2 = pd.read_csv(\"../DatosFTPICFES/SABER11/SB11-BASES_DE_DATOS/SB11-20151-RGSTRO-CLFCCN-V3-0.txt\", delimiter=\"|\",\n",
    "                    encoding=\"iso-8859-1\")"
   ]
  },
  {
   "cell_type": "code",
   "execution_count": 17,
   "metadata": {
    "collapsed": false,
    "scrolled": true
   },
   "outputs": [
    {
     "data": {
      "text/plain": [
       "714       9.0\n",
       "1095      9.0\n",
       "1871      3.0\n",
       "2768      3.0\n",
       "3432      3.0\n",
       "3685      9.0\n",
       "4124      3.0\n",
       "4648      3.0\n",
       "5693      9.0\n",
       "6223      3.0\n",
       "8184      4.0\n",
       "8351      5.0\n",
       "8451      9.0\n",
       "8454      4.0\n",
       "8576      3.0\n",
       "8658      9.0\n",
       "8874      5.0\n",
       "9049      3.0\n",
       "9307      3.0\n",
       "9551      9.0\n",
       "9806      9.0\n",
       "10692     3.0\n",
       "10865     9.0\n",
       "11194     3.0\n",
       "11399     9.0\n",
       "11567     9.0\n",
       "11569     5.0\n",
       "12022     9.0\n",
       "12177     3.0\n",
       "12448     3.0\n",
       "         ... \n",
       "105426    5.0\n",
       "105434    5.0\n",
       "105473    9.0\n",
       "105477    9.0\n",
       "105483    5.0\n",
       "105490    3.0\n",
       "105521    3.0\n",
       "105538    9.0\n",
       "105551    3.0\n",
       "105811    9.0\n",
       "105874    5.0\n",
       "105901    5.0\n",
       "105960    5.0\n",
       "105963    5.0\n",
       "105968    4.0\n",
       "105979    9.0\n",
       "105990    9.0\n",
       "106120    3.0\n",
       "106125    9.0\n",
       "106138    9.0\n",
       "106141    9.0\n",
       "106160    3.0\n",
       "106196    9.0\n",
       "106198    5.0\n",
       "106202    7.0\n",
       "106325    5.0\n",
       "106384    5.0\n",
       "106399    9.0\n",
       "106422    9.0\n",
       "106431    5.0\n",
       "Name: ESTU_RAZON_RETIRO, dtype: float64"
      ]
     },
     "execution_count": 17,
     "metadata": {},
     "output_type": "execute_result"
    }
   ],
   "source": [
    "file2[\"ESTU_RAZON_RETIRO\"].dropna()"
   ]
  },
  {
   "cell_type": "code",
   "execution_count": null,
   "metadata": {
    "collapsed": true
   },
   "outputs": [],
   "source": []
  }
 ],
 "metadata": {
  "kernelspec": {
   "display_name": "Python 3 + Anaconda",
   "language": "python",
   "name": "pyconda3"
  },
  "language_info": {
   "codemirror_mode": {
    "name": "ipython",
    "version": 3
   },
   "file_extension": ".py",
   "mimetype": "text/x-python",
   "name": "python",
   "nbconvert_exporter": "python",
   "pygments_lexer": "ipython3",
   "version": "3.5.1"
  }
 },
 "nbformat": 4,
 "nbformat_minor": 0
}
