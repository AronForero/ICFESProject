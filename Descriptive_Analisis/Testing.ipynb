{
 "cells": [
  {
   "cell_type": "code",
   "execution_count": 2,
   "metadata": {
    "collapsed": true
   },
   "outputs": [],
   "source": [
    "import pandas as pd"
   ]
  },
  {
   "cell_type": "code",
   "execution_count": 3,
   "metadata": {
    "collapsed": false
   },
   "outputs": [
    {
     "name": "stderr",
     "output_type": "stream",
     "text": [
      "/usr/local/anaconda3/lib/python3.5/site-packages/IPython/core/interactiveshell.py:2723: DtypeWarning: Columns (54) have mixed types. Specify dtype option on import or set low_memory=False.\n",
      "  interactivity=interactivity, compiler=compiler, result=result)\n"
     ]
    }
   ],
   "source": [
    "file1 = pd.read_csv(\"../DatosFTPICFES/SABER11/SB11-BASES_DE_DATOS/SB11-20171-RGSTRO-CLFCCN-V1-0.txt\", delimiter=\"|\", \n",
    "                    encoding=\"iso-8859-1\")"
   ]
  },
  {
   "cell_type": "code",
   "execution_count": 5,
   "metadata": {
    "collapsed": false,
    "scrolled": true
   },
   "outputs": [
    {
     "data": {
      "text/plain": [
       "216                               Pasto\n",
       "263          Comunidad afrodescendiente\n",
       "319          Comunidad afrodescendiente\n",
       "335      Otro grupo Ã©tnico minoritario\n",
       "454                             Ninguno\n",
       "511          Comunidad afrodescendiente\n",
       "758          Comunidad afrodescendiente\n",
       "765          Comunidad afrodescendiente\n",
       "883                             Ninguno\n",
       "924      Otro grupo Ã©tnico minoritario\n",
       "1217     Otro grupo Ã©tnico minoritario\n",
       "1218         Comunidad afrodescendiente\n",
       "1225                               Paez\n",
       "1437         Comunidad afrodescendiente\n",
       "1713     Otro grupo Ã©tnico minoritario\n",
       "2086         Comunidad afrodescendiente\n",
       "2326         Comunidad afrodescendiente\n",
       "2337         Comunidad afrodescendiente\n",
       "2338         Comunidad afrodescendiente\n",
       "2339         Comunidad afrodescendiente\n",
       "2340         Comunidad afrodescendiente\n",
       "2341         Comunidad afrodescendiente\n",
       "2342         Comunidad afrodescendiente\n",
       "2414         Comunidad afrodescendiente\n",
       "2418         Comunidad afrodescendiente\n",
       "2427         Comunidad afrodescendiente\n",
       "2447         Comunidad afrodescendiente\n",
       "2452         Comunidad afrodescendiente\n",
       "2466                               Paez\n",
       "2534                            Ninguno\n",
       "                      ...              \n",
       "10661        Comunidad afrodescendiente\n",
       "10662        Comunidad afrodescendiente\n",
       "10663        Comunidad afrodescendiente\n",
       "10719                             Pasto\n",
       "10824        Comunidad afrodescendiente\n",
       "10849        Comunidad afrodescendiente\n",
       "10858                             Pasto\n",
       "11180        Comunidad afrodescendiente\n",
       "11376    Otro grupo Ã©tnico minoritario\n",
       "11465                              Inga\n",
       "11492        Comunidad afrodescendiente\n",
       "11582        Comunidad afrodescendiente\n",
       "11610        Comunidad afrodescendiente\n",
       "11662                           Ninguno\n",
       "11723                           Ninguno\n",
       "11729        Comunidad afrodescendiente\n",
       "11886        Comunidad afrodescendiente\n",
       "12003        Comunidad afrodescendiente\n",
       "12006        Comunidad afrodescendiente\n",
       "12078            Comunidad Rom (gitana)\n",
       "12092        Comunidad afrodescendiente\n",
       "12102        Comunidad afrodescendiente\n",
       "12114        Comunidad afrodescendiente\n",
       "12197        Comunidad afrodescendiente\n",
       "12203        Comunidad afrodescendiente\n",
       "12304                           Ninguno\n",
       "12566    Otro grupo Ã©tnico minoritario\n",
       "12703                            WayÃºu\n",
       "12809        Comunidad afrodescendiente\n",
       "12811        Comunidad afrodescendiente\n",
       "Name: ESTU_ETNIA, dtype: object"
      ]
     },
     "execution_count": 5,
     "metadata": {},
     "output_type": "execute_result"
    }
   ],
   "source": [
    "file1[\"ESTU_ETNIA\"].dropna()"
   ]
  },
  {
   "cell_type": "code",
   "execution_count": 26,
   "metadata": {
    "collapsed": false
   },
   "outputs": [
    {
     "name": "stderr",
     "output_type": "stream",
     "text": [
      "/usr/local/anaconda3/lib/python3.5/site-packages/IPython/core/interactiveshell.py:2723: DtypeWarning: Columns (9,10,11,12,13,14,27,104,110) have mixed types. Specify dtype option on import or set low_memory=False.\n",
      "  interactivity=interactivity, compiler=compiler, result=result)\n"
     ]
    }
   ],
   "source": [
    "file2 = pd.read_csv(\"../DatosFTPICFES/SABER11/SB11-BASES_DE_DATOS/SB11-20151-RGSTRO-CLFCCN-V3-0.txt\", delimiter=\"|\",\n",
    "                    encoding=\"iso-8859-1\")"
   ]
  },
  {
   "cell_type": "code",
   "execution_count": 27,
   "metadata": {
    "collapsed": false,
    "scrolled": true
   },
   "outputs": [
    {
     "data": {
      "text/plain": [
       "115       1.0\n",
       "159       1.0\n",
       "714       4.0\n",
       "728       1.0\n",
       "794       1.0\n",
       "1095      3.0\n",
       "1871      4.0\n",
       "1909      1.0\n",
       "2218      1.0\n",
       "2768      2.0\n",
       "2923      1.0\n",
       "2979      1.0\n",
       "3258      1.0\n",
       "3432      2.0\n",
       "3685      2.0\n",
       "4124      4.0\n",
       "4648      4.0\n",
       "4735      1.0\n",
       "5056      1.0\n",
       "5293      1.0\n",
       "5365      1.0\n",
       "5372      1.0\n",
       "5488      1.0\n",
       "5521      1.0\n",
       "5640      1.0\n",
       "5693      4.0\n",
       "6223      4.0\n",
       "6483      1.0\n",
       "6496      1.0\n",
       "6526      1.0\n",
       "         ... \n",
       "106120    4.0\n",
       "106125    2.0\n",
       "106138    4.0\n",
       "106141    2.0\n",
       "106157    1.0\n",
       "106160    3.0\n",
       "106172    1.0\n",
       "106180    1.0\n",
       "106196    4.0\n",
       "106198    3.0\n",
       "106202    2.0\n",
       "106238    1.0\n",
       "106251    1.0\n",
       "106325    4.0\n",
       "106333    1.0\n",
       "106337    1.0\n",
       "106341    1.0\n",
       "106344    1.0\n",
       "106348    1.0\n",
       "106354    1.0\n",
       "106357    1.0\n",
       "106384    3.0\n",
       "106399    4.0\n",
       "106422    4.0\n",
       "106431    2.0\n",
       "106434    1.0\n",
       "106435    1.0\n",
       "106465    1.0\n",
       "106502    1.0\n",
       "106508    1.0\n",
       "Name: ESTU_RETIRARSE_COLEGIO, dtype: float64"
      ]
     },
     "execution_count": 27,
     "metadata": {},
     "output_type": "execute_result"
    }
   ],
   "source": [
    "file2[\"ESTU_RETIRARSE_COLEGIO\"].dropna()"
   ]
  },
  {
   "cell_type": "code",
   "execution_count": null,
   "metadata": {
    "collapsed": false
   },
   "outputs": [],
   "source": []
  },
  {
   "cell_type": "code",
   "execution_count": null,
   "metadata": {
    "collapsed": true
   },
   "outputs": [],
   "source": []
  }
 ],
 "metadata": {
  "kernelspec": {
   "display_name": "Python 3 + Anaconda",
   "language": "python",
   "name": "pyconda3"
  },
  "language_info": {
   "codemirror_mode": {
    "name": "ipython",
    "version": 3
   },
   "file_extension": ".py",
   "mimetype": "text/x-python",
   "name": "python",
   "nbconvert_exporter": "python",
   "pygments_lexer": "ipython3",
   "version": "3.5.1"
  }
 },
 "nbformat": 4,
 "nbformat_minor": 0
}
