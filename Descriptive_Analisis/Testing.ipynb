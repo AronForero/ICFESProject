{
 "cells": [
  {
   "cell_type": "code",
   "execution_count": 90,
   "metadata": {
    "collapsed": true
   },
   "outputs": [],
   "source": [
    "import pandas as pd\n",
    "import numpy as np"
   ]
  },
  {
   "cell_type": "code",
   "execution_count": 33,
   "metadata": {
    "collapsed": false
   },
   "outputs": [
    {
     "name": "stderr",
     "output_type": "stream",
     "text": [
      "/usr/local/anaconda3/lib/python3.5/site-packages/IPython/core/interactiveshell.py:2723: DtypeWarning: Columns (54) have mixed types. Specify dtype option on import or set low_memory=False.\n",
      "  interactivity=interactivity, compiler=compiler, result=result)\n"
     ]
    }
   ],
   "source": [
    "file1 = pd.read_csv(\"../DatosFTPICFES/SABER11/SB11-BASES_DE_DATOS/SB11-20171-RGSTRO-CLFCCN-V1-0.txt\", delimiter=\"|\", \n",
    "                    encoding=\"iso-8859-1\")"
   ]
  },
  {
   "cell_type": "code",
   "execution_count": 156,
   "metadata": {
    "collapsed": false,
    "scrolled": true
   },
   "outputs": [
    {
     "data": {
      "text/plain": [
       "0         35\n",
       "1         66\n",
       "2         70\n",
       "3         72\n",
       "4         52\n",
       "5         74\n",
       "6         64\n",
       "7         59\n",
       "8         45\n",
       "9         51\n",
       "10        43\n",
       "11        62\n",
       "12        45\n",
       "13        69\n",
       "14        56\n",
       "15        42\n",
       "16        79\n",
       "17        62\n",
       "18        68\n",
       "19        64\n",
       "20        69\n",
       "21        69\n",
       "22        59\n",
       "23        55\n",
       "24        70\n",
       "25        60\n",
       "26        69\n",
       "27        70\n",
       "28        61\n",
       "29        64\n",
       "        ... \n",
       "12963     72\n",
       "12964     59\n",
       "12965     59\n",
       "12966     67\n",
       "12967     84\n",
       "12968    100\n",
       "12969     77\n",
       "12970     70\n",
       "12971     64\n",
       "12972     56\n",
       "12973     60\n",
       "12974     53\n",
       "12975     50\n",
       "12976     64\n",
       "12977     59\n",
       "12978     48\n",
       "12979     52\n",
       "12980     51\n",
       "12981     53\n",
       "12982     52\n",
       "12983     47\n",
       "12984     59\n",
       "12985     48\n",
       "12986     59\n",
       "12987     57\n",
       "12988     36\n",
       "12989     63\n",
       "12990     52\n",
       "12991     57\n",
       "12992     47\n",
       "Name: PUNT_C_NATURALES, dtype: int64"
      ]
     },
     "execution_count": 156,
     "metadata": {},
     "output_type": "execute_result"
    }
   ],
   "source": [
    "file1[\"PUNT_C_NATURALES\"].dropna()"
   ]
  },
  {
   "cell_type": "code",
   "execution_count": 157,
   "metadata": {
    "collapsed": false
   },
   "outputs": [
    {
     "name": "stderr",
     "output_type": "stream",
     "text": [
      "/usr/local/anaconda3/lib/python3.5/site-packages/IPython/core/interactiveshell.py:2723: DtypeWarning: Columns (18,19,20,25,26,27) have mixed types. Specify dtype option on import or set low_memory=False.\n",
      "  interactivity=interactivity, compiler=compiler, result=result)\n"
     ]
    }
   ],
   "source": [
    "file2 = pd.read_csv(\"../DatosFTPICFES/SABER11/SB11-BASES_DE_DATOS/SB11-20141-RGSTRO-CLFCCN-V1-0.txt\", delimiter=\"|\",\n",
    "                    encoding=\"iso-8859-1\")"
   ]
  },
  {
   "cell_type": "code",
   "execution_count": 137,
   "metadata": {
    "collapsed": false,
    "scrolled": true
   },
   "outputs": [
    {
     "data": {
      "text/plain": [
       "368"
      ]
     },
     "execution_count": 137,
     "metadata": {},
     "output_type": "execute_result"
    }
   ],
   "source": [
    "np.sum(file2[\"IND_TERMINO_BACHILLERATO\"].dropna()==0)"
   ]
  },
  {
   "cell_type": "code",
   "execution_count": 158,
   "metadata": {
    "collapsed": false,
    "scrolled": true
   },
   "outputs": [
    {
     "data": {
      "text/plain": [
       "0        37\n",
       "1        37\n",
       "2        37\n",
       "3        47\n",
       "4        40\n",
       "5        40\n",
       "6        55\n",
       "7        35\n",
       "8        45\n",
       "9        33\n",
       "10       48\n",
       "11       41\n",
       "12       48\n",
       "13       45\n",
       "14       45\n",
       "15       41\n",
       "16       45\n",
       "17       48\n",
       "18       40\n",
       "19       43\n",
       "20       48\n",
       "21       47\n",
       "22       42\n",
       "23       43\n",
       "24       77\n",
       "25       50\n",
       "26       39\n",
       "27       60\n",
       "28       51\n",
       "29       45\n",
       "         ..\n",
       "88655    43\n",
       "88656    33\n",
       "88657    41\n",
       "88658    71\n",
       "88659    45\n",
       "88660    40\n",
       "88661    33\n",
       "88662    41\n",
       "88663    41\n",
       "88664    35\n",
       "88665    37\n",
       "88666    45\n",
       "88667    41\n",
       "88668    33\n",
       "88669    33\n",
       "88670    67\n",
       "88671    45\n",
       "88672    41\n",
       "88673    43\n",
       "88674    33\n",
       "88675    37\n",
       "88676    25\n",
       "88677    53\n",
       "88678    61\n",
       "88679    57\n",
       "88680    35\n",
       "88681    53\n",
       "88682    43\n",
       "88683    33\n",
       "88684    37\n",
       "Name: PUNT_QUIMICA, dtype: int64"
      ]
     },
     "execution_count": 158,
     "metadata": {},
     "output_type": "execute_result"
    }
   ],
   "source": [
    "file2[\"PUNT_QUIMICA\"].dropna()"
   ]
  },
  {
   "cell_type": "code",
   "execution_count": 140,
   "metadata": {
    "collapsed": false
   },
   "outputs": [],
   "source": [
    "file3 = pd.read_csv(\"../DatosFTPICFES/SABER11/SB11-BASES_DE_DATOS/SB11-20061-RGSTRO-CLFCCN-V1-0.txt\", delimiter=\"|\",\n",
    "                    encoding=\"iso-8859-1\")"
   ]
  },
  {
   "cell_type": "code",
   "execution_count": 149,
   "metadata": {
    "collapsed": false,
    "scrolled": true
   },
   "outputs": [
    {
     "data": {
      "text/plain": [
       "0        20061\n",
       "1        20061\n",
       "2        20061\n",
       "3        20061\n",
       "4        20061\n",
       "5        20061\n",
       "6        20061\n",
       "7        20061\n",
       "8        20061\n",
       "9        20061\n",
       "10       20061\n",
       "11       20061\n",
       "12       20061\n",
       "13       20061\n",
       "14       20061\n",
       "15       20061\n",
       "16       20061\n",
       "17       20061\n",
       "18       20061\n",
       "19       20061\n",
       "20       20061\n",
       "21       20061\n",
       "22       20061\n",
       "23       20061\n",
       "24       20061\n",
       "25       20061\n",
       "26       20061\n",
       "27       20061\n",
       "28       20061\n",
       "29       20061\n",
       "         ...  \n",
       "61305    20061\n",
       "61306    20061\n",
       "61307    20061\n",
       "61308    20061\n",
       "61309    20061\n",
       "61310    20061\n",
       "61311    20061\n",
       "61312    20061\n",
       "61313    20061\n",
       "61314    20061\n",
       "61315    20061\n",
       "61316    20061\n",
       "61317    20061\n",
       "61318    20061\n",
       "61319    20061\n",
       "61320    20061\n",
       "61321    20061\n",
       "61322    20061\n",
       "61323    20061\n",
       "61324    20061\n",
       "61325    20061\n",
       "61326    20061\n",
       "61327    20061\n",
       "61328    20061\n",
       "61329    20061\n",
       "61330    20061\n",
       "61331    20061\n",
       "61332    20061\n",
       "61333    20061\n",
       "61334    20061\n",
       "Name: PERIODO, dtype: int64"
      ]
     },
     "execution_count": 149,
     "metadata": {},
     "output_type": "execute_result"
    }
   ],
   "source": [
    "file3[\"PERIODO\"].dropna()"
   ]
  },
  {
   "cell_type": "code",
   "execution_count": null,
   "metadata": {
    "collapsed": true
   },
   "outputs": [],
   "source": [
    "\n",
    "\n"
   ]
  }
 ],
 "metadata": {
  "kernelspec": {
   "display_name": "Python 3 + Anaconda",
   "language": "python",
   "name": "pyconda3"
  },
  "language_info": {
   "codemirror_mode": {
    "name": "ipython",
    "version": 3
   },
   "file_extension": ".py",
   "mimetype": "text/x-python",
   "name": "python",
   "nbconvert_exporter": "python",
   "pygments_lexer": "ipython3",
   "version": "3.5.1"
  }
 },
 "nbformat": 4,
 "nbformat_minor": 0
}
