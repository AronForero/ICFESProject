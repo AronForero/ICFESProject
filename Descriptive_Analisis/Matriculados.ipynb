{
 "cells": [
  {
   "cell_type": "code",
   "execution_count": 1,
   "metadata": {
    "collapsed": true
   },
   "outputs": [],
   "source": [
    "import pandas as pd\n",
    "import numpy as np"
   ]
  },
  {
   "cell_type": "markdown",
   "metadata": {},
   "source": [
    "Se encuentran datos aqui http://mineducacion.gov.co/sistemasdeinformacion/1735/w3-article-212400.html sobre Inscritos, admitidos, matriculados..."
   ]
  },
  {
   "cell_type": "code",
   "execution_count": 2,
   "metadata": {
    "collapsed": false
   },
   "outputs": [],
   "source": [
    "Matriculados_Prime = pd.read_csv(\"../DatosSPADIES/Matriculados.csv\", delimiter=\";\")"
   ]
  },
  {
   "cell_type": "code",
   "execution_count": 29,
   "metadata": {
    "collapsed": false
   },
   "outputs": [
    {
     "data": {
      "text/html": [
       "<div>\n",
       "<table border=\"1\" class=\"dataframe\">\n",
       "  <thead>\n",
       "    <tr style=\"text-align: right;\">\n",
       "      <th></th>\n",
       "      <th>Codigo_Institucion</th>\n",
       "      <th>IES_PADRE</th>\n",
       "      <th>ID_Sector_IES</th>\n",
       "      <th>ID_Caracter</th>\n",
       "      <th>Codigo_departamento(IES)</th>\n",
       "      <th>Codigo_Municipio(IES)</th>\n",
       "      <th>Codigo_SNIES_programa</th>\n",
       "      <th>ID_Nivel_Academico</th>\n",
       "      <th>ID_Nivel_Formacion</th>\n",
       "      <th>ID_Metodologia</th>\n",
       "      <th>ID_Area</th>\n",
       "      <th>Codigo_Departamento(Programa)</th>\n",
       "      <th>Codigo_Municipio(Programa)</th>\n",
       "      <th>ID_Sexo</th>\n",
       "      <th>Anio</th>\n",
       "      <th>Semestre</th>\n",
       "      <th>Matriculados_2016</th>\n",
       "    </tr>\n",
       "  </thead>\n",
       "  <tbody>\n",
       "    <tr>\n",
       "      <th>count</th>\n",
       "      <td>60363.000000</td>\n",
       "      <td>60363.000000</td>\n",
       "      <td>60363.000000</td>\n",
       "      <td>60363.000000</td>\n",
       "      <td>60363.000000</td>\n",
       "      <td>60363.000000</td>\n",
       "      <td>60363.000000</td>\n",
       "      <td>60363.000000</td>\n",
       "      <td>60363.000000</td>\n",
       "      <td>60363.000000</td>\n",
       "      <td>60363.000000</td>\n",
       "      <td>60363.000000</td>\n",
       "      <td>60363.000000</td>\n",
       "      <td>60363.000000</td>\n",
       "      <td>60363.0</td>\n",
       "      <td>60363.000000</td>\n",
       "      <td>60363.000000</td>\n",
       "    </tr>\n",
       "    <tr>\n",
       "      <th>mean</th>\n",
       "      <td>3163.344234</td>\n",
       "      <td>3155.605470</td>\n",
       "      <td>1.492785</td>\n",
       "      <td>3.340739</td>\n",
       "      <td>21.259049</td>\n",
       "      <td>21287.513626</td>\n",
       "      <td>53111.167089</td>\n",
       "      <td>1.289035</td>\n",
       "      <td>4.545400</td>\n",
       "      <td>1.371188</td>\n",
       "      <td>5.691467</td>\n",
       "      <td>32.346984</td>\n",
       "      <td>32463.603035</td>\n",
       "      <td>1.495403</td>\n",
       "      <td>2016.0</td>\n",
       "      <td>1.493150</td>\n",
       "      <td>76.427977</td>\n",
       "    </tr>\n",
       "    <tr>\n",
       "      <th>std</th>\n",
       "      <td>2574.016341</td>\n",
       "      <td>2567.773203</td>\n",
       "      <td>0.499952</td>\n",
       "      <td>0.935865</td>\n",
       "      <td>22.336506</td>\n",
       "      <td>22360.396029</td>\n",
       "      <td>41169.257966</td>\n",
       "      <td>0.453318</td>\n",
       "      <td>2.058383</td>\n",
       "      <td>0.631490</td>\n",
       "      <td>2.026603</td>\n",
       "      <td>27.198638</td>\n",
       "      <td>27224.357865</td>\n",
       "      <td>0.499983</td>\n",
       "      <td>0.0</td>\n",
       "      <td>0.499957</td>\n",
       "      <td>233.995089</td>\n",
       "    </tr>\n",
       "    <tr>\n",
       "      <th>min</th>\n",
       "      <td>1101.000000</td>\n",
       "      <td>1101.000000</td>\n",
       "      <td>1.000000</td>\n",
       "      <td>1.000000</td>\n",
       "      <td>5.000000</td>\n",
       "      <td>5001.000000</td>\n",
       "      <td>1.000000</td>\n",
       "      <td>1.000000</td>\n",
       "      <td>1.000000</td>\n",
       "      <td>1.000000</td>\n",
       "      <td>1.000000</td>\n",
       "      <td>5.000000</td>\n",
       "      <td>5001.000000</td>\n",
       "      <td>1.000000</td>\n",
       "      <td>2016.0</td>\n",
       "      <td>1.000000</td>\n",
       "      <td>1.000000</td>\n",
       "    </tr>\n",
       "    <tr>\n",
       "      <th>25%</th>\n",
       "      <td>1707.000000</td>\n",
       "      <td>1706.000000</td>\n",
       "      <td>1.000000</td>\n",
       "      <td>3.000000</td>\n",
       "      <td>11.000000</td>\n",
       "      <td>11001.000000</td>\n",
       "      <td>9294.000000</td>\n",
       "      <td>1.000000</td>\n",
       "      <td>3.000000</td>\n",
       "      <td>1.000000</td>\n",
       "      <td>4.000000</td>\n",
       "      <td>11.000000</td>\n",
       "      <td>11001.000000</td>\n",
       "      <td>1.000000</td>\n",
       "      <td>2016.0</td>\n",
       "      <td>1.000000</td>\n",
       "      <td>5.000000</td>\n",
       "    </tr>\n",
       "    <tr>\n",
       "      <th>50%</th>\n",
       "      <td>2102.000000</td>\n",
       "      <td>2102.000000</td>\n",
       "      <td>1.000000</td>\n",
       "      <td>4.000000</td>\n",
       "      <td>11.000000</td>\n",
       "      <td>11001.000000</td>\n",
       "      <td>53246.000000</td>\n",
       "      <td>1.000000</td>\n",
       "      <td>5.000000</td>\n",
       "      <td>1.000000</td>\n",
       "      <td>6.000000</td>\n",
       "      <td>18.000000</td>\n",
       "      <td>18001.000000</td>\n",
       "      <td>1.000000</td>\n",
       "      <td>2016.0</td>\n",
       "      <td>1.000000</td>\n",
       "      <td>19.000000</td>\n",
       "    </tr>\n",
       "    <tr>\n",
       "      <th>75%</th>\n",
       "      <td>3201.000000</td>\n",
       "      <td>3201.000000</td>\n",
       "      <td>2.000000</td>\n",
       "      <td>4.000000</td>\n",
       "      <td>17.000000</td>\n",
       "      <td>17001.000000</td>\n",
       "      <td>91410.000000</td>\n",
       "      <td>2.000000</td>\n",
       "      <td>6.000000</td>\n",
       "      <td>2.000000</td>\n",
       "      <td>8.000000</td>\n",
       "      <td>54.000000</td>\n",
       "      <td>54874.000000</td>\n",
       "      <td>2.000000</td>\n",
       "      <td>2016.0</td>\n",
       "      <td>2.000000</td>\n",
       "      <td>68.000000</td>\n",
       "    </tr>\n",
       "    <tr>\n",
       "      <th>max</th>\n",
       "      <td>9915.000000</td>\n",
       "      <td>9915.000000</td>\n",
       "      <td>2.000000</td>\n",
       "      <td>4.000000</td>\n",
       "      <td>91.000000</td>\n",
       "      <td>91001.000000</td>\n",
       "      <td>105995.000000</td>\n",
       "      <td>2.000000</td>\n",
       "      <td>10.000000</td>\n",
       "      <td>3.000000</td>\n",
       "      <td>9.000000</td>\n",
       "      <td>99.000000</td>\n",
       "      <td>99001.000000</td>\n",
       "      <td>2.000000</td>\n",
       "      <td>2016.0</td>\n",
       "      <td>2.000000</td>\n",
       "      <td>16822.000000</td>\n",
       "    </tr>\n",
       "  </tbody>\n",
       "</table>\n",
       "</div>"
      ],
      "text/plain": [
       "       Codigo_Institucion     IES_PADRE  ID_Sector_IES   ID_Caracter  \\\n",
       "count        60363.000000  60363.000000   60363.000000  60363.000000   \n",
       "mean          3163.344234   3155.605470       1.492785      3.340739   \n",
       "std           2574.016341   2567.773203       0.499952      0.935865   \n",
       "min           1101.000000   1101.000000       1.000000      1.000000   \n",
       "25%           1707.000000   1706.000000       1.000000      3.000000   \n",
       "50%           2102.000000   2102.000000       1.000000      4.000000   \n",
       "75%           3201.000000   3201.000000       2.000000      4.000000   \n",
       "max           9915.000000   9915.000000       2.000000      4.000000   \n",
       "\n",
       "       Codigo_departamento(IES)  Codigo_Municipio(IES)  Codigo_SNIES_programa  \\\n",
       "count              60363.000000           60363.000000           60363.000000   \n",
       "mean                  21.259049           21287.513626           53111.167089   \n",
       "std                   22.336506           22360.396029           41169.257966   \n",
       "min                    5.000000            5001.000000               1.000000   \n",
       "25%                   11.000000           11001.000000            9294.000000   \n",
       "50%                   11.000000           11001.000000           53246.000000   \n",
       "75%                   17.000000           17001.000000           91410.000000   \n",
       "max                   91.000000           91001.000000          105995.000000   \n",
       "\n",
       "       ID_Nivel_Academico  ID_Nivel_Formacion  ID_Metodologia       ID_Area  \\\n",
       "count        60363.000000        60363.000000    60363.000000  60363.000000   \n",
       "mean             1.289035            4.545400        1.371188      5.691467   \n",
       "std              0.453318            2.058383        0.631490      2.026603   \n",
       "min              1.000000            1.000000        1.000000      1.000000   \n",
       "25%              1.000000            3.000000        1.000000      4.000000   \n",
       "50%              1.000000            5.000000        1.000000      6.000000   \n",
       "75%              2.000000            6.000000        2.000000      8.000000   \n",
       "max              2.000000           10.000000        3.000000      9.000000   \n",
       "\n",
       "       Codigo_Departamento(Programa)  Codigo_Municipio(Programa)  \\\n",
       "count                   60363.000000                60363.000000   \n",
       "mean                       32.346984                32463.603035   \n",
       "std                        27.198638                27224.357865   \n",
       "min                         5.000000                 5001.000000   \n",
       "25%                        11.000000                11001.000000   \n",
       "50%                        18.000000                18001.000000   \n",
       "75%                        54.000000                54874.000000   \n",
       "max                        99.000000                99001.000000   \n",
       "\n",
       "            ID_Sexo     Anio      Semestre  Matriculados_2016  \n",
       "count  60363.000000  60363.0  60363.000000       60363.000000  \n",
       "mean       1.495403   2016.0      1.493150          76.427977  \n",
       "std        0.499983      0.0      0.499957         233.995089  \n",
       "min        1.000000   2016.0      1.000000           1.000000  \n",
       "25%        1.000000   2016.0      1.000000           5.000000  \n",
       "50%        1.000000   2016.0      1.000000          19.000000  \n",
       "75%        2.000000   2016.0      2.000000          68.000000  \n",
       "max        2.000000   2016.0      2.000000       16822.000000  "
      ]
     },
     "execution_count": 29,
     "metadata": {},
     "output_type": "execute_result"
    }
   ],
   "source": [
    "#descriptor para ver por encima las dimensiones del fichero\n",
    "Matriculados_Prime.describe()"
   ]
  },
  {
   "cell_type": "code",
   "execution_count": 17,
   "metadata": {
    "collapsed": false
   },
   "outputs": [
    {
     "data": {
      "text/plain": [
       "Index(['Codigo_Institucion', 'IES_PADRE',\n",
       "       'Institucion_Educacion_Superior(IES)', 'Principal_o_Seccional',\n",
       "       'ID_Sector_IES', 'Sector_IES', 'ID_Caracter', 'Caracter_IES',\n",
       "       'Codigo_departamento(IES)', 'Departamento_domicilio_IES',\n",
       "       'Codigo_Municipio(IES)', 'Municipio_domicilio_IES',\n",
       "       'Codigo_SNIES_programa', 'Programa_Academico', 'ID_Nivel_Academico',\n",
       "       'Nivel_Academico', 'ID_Nivel_Formacion', 'Nivel_Formacion',\n",
       "       'ID_Metodologia', 'Metodologia', 'ID_Area', 'Area_Conocimiento',\n",
       "       'Id_Nucleo', 'Nucleo_Basico_Conocimiento(NBC)',\n",
       "       'Codigo_Departamento(Programa)', 'Departamento_oferta_del_programa',\n",
       "       'Codigo_Municipio(Programa)', 'Municipio_oferta_del_programa',\n",
       "       'ID_Sexo', 'Sexo', 'Anio', 'Semestre', 'Matriculados_2016'],\n",
       "      dtype='object')"
      ]
     },
     "execution_count": 17,
     "metadata": {},
     "output_type": "execute_result"
    }
   ],
   "source": [
    "Matriculados_Prime.columns"
   ]
  },
  {
   "cell_type": "code",
   "execution_count": 31,
   "metadata": {
    "collapsed": false
   },
   "outputs": [
    {
     "data": {
      "text/plain": [
       "{'Doctorado',\n",
       " 'Especialización Médico Quirúrgica',\n",
       " 'Especialización Tecnológica',\n",
       " 'Especialización Técnico Profesional',\n",
       " 'Especialización Universitaria',\n",
       " 'Formación técnica profesional',\n",
       " 'Maestría',\n",
       " 'Tecnológica',\n",
       " 'Universitaria'}"
      ]
     },
     "execution_count": 31,
     "metadata": {},
     "output_type": "execute_result"
    }
   ],
   "source": [
    "set(Matriculados_Prime[\"Nivel_Formacion\"])"
   ]
  },
  {
   "cell_type": "code",
   "execution_count": 45,
   "metadata": {
    "collapsed": false,
    "scrolled": false
   },
   "outputs": [
    {
     "data": {
      "text/html": [
       "<div>\n",
       "<table border=\"1\" class=\"dataframe\">\n",
       "  <thead>\n",
       "    <tr style=\"text-align: right;\">\n",
       "      <th></th>\n",
       "      <th>Codigo_Institucion</th>\n",
       "      <th>IES_PADRE</th>\n",
       "      <th>Institucion_Educacion_Superior(IES)</th>\n",
       "      <th>Principal_o_Seccional</th>\n",
       "      <th>ID_Sector_IES</th>\n",
       "      <th>Sector_IES</th>\n",
       "      <th>ID_Caracter</th>\n",
       "      <th>Caracter_IES</th>\n",
       "      <th>Codigo_departamento(IES)</th>\n",
       "      <th>Departamento_domicilio_IES</th>\n",
       "      <th>...</th>\n",
       "      <th>Nucleo_Basico_Conocimiento(NBC)</th>\n",
       "      <th>Codigo_Departamento(Programa)</th>\n",
       "      <th>Departamento_oferta_del_programa</th>\n",
       "      <th>Codigo_Municipio(Programa)</th>\n",
       "      <th>Municipio_oferta_del_programa</th>\n",
       "      <th>ID_Sexo</th>\n",
       "      <th>Sexo</th>\n",
       "      <th>Anio</th>\n",
       "      <th>Semestre</th>\n",
       "      <th>Matriculados_2016</th>\n",
       "    </tr>\n",
       "  </thead>\n",
       "  <tbody>\n",
       "    <tr>\n",
       "      <th>0</th>\n",
       "      <td>1101</td>\n",
       "      <td>1101</td>\n",
       "      <td>UNIVERSIDAD NACIONAL DE COLOMBIA</td>\n",
       "      <td>PRINCIPAL</td>\n",
       "      <td>1</td>\n",
       "      <td>OFICIAL</td>\n",
       "      <td>4</td>\n",
       "      <td>Universidad</td>\n",
       "      <td>11</td>\n",
       "      <td>BOGOTA D.C</td>\n",
       "      <td>...</td>\n",
       "      <td>Ingeniería agronómica, pecuaria y afines</td>\n",
       "      <td>11</td>\n",
       "      <td>BOGOTA D.C</td>\n",
       "      <td>11001</td>\n",
       "      <td>SANTAFE DE BOGOTA</td>\n",
       "      <td>1</td>\n",
       "      <td>HOMBRE</td>\n",
       "      <td>2016</td>\n",
       "      <td>1</td>\n",
       "      <td>410</td>\n",
       "    </tr>\n",
       "    <tr>\n",
       "      <th>1</th>\n",
       "      <td>1101</td>\n",
       "      <td>1101</td>\n",
       "      <td>UNIVERSIDAD NACIONAL DE COLOMBIA</td>\n",
       "      <td>PRINCIPAL</td>\n",
       "      <td>1</td>\n",
       "      <td>OFICIAL</td>\n",
       "      <td>4</td>\n",
       "      <td>Universidad</td>\n",
       "      <td>11</td>\n",
       "      <td>BOGOTA D.C</td>\n",
       "      <td>...</td>\n",
       "      <td>Ingeniería agronómica, pecuaria y afines</td>\n",
       "      <td>11</td>\n",
       "      <td>BOGOTA D.C</td>\n",
       "      <td>11001</td>\n",
       "      <td>SANTAFE DE BOGOTA</td>\n",
       "      <td>1</td>\n",
       "      <td>HOMBRE</td>\n",
       "      <td>2016</td>\n",
       "      <td>2</td>\n",
       "      <td>428</td>\n",
       "    </tr>\n",
       "    <tr>\n",
       "      <th>2</th>\n",
       "      <td>1101</td>\n",
       "      <td>1101</td>\n",
       "      <td>UNIVERSIDAD NACIONAL DE COLOMBIA</td>\n",
       "      <td>PRINCIPAL</td>\n",
       "      <td>1</td>\n",
       "      <td>OFICIAL</td>\n",
       "      <td>4</td>\n",
       "      <td>Universidad</td>\n",
       "      <td>11</td>\n",
       "      <td>BOGOTA D.C</td>\n",
       "      <td>...</td>\n",
       "      <td>Ingeniería agronómica, pecuaria y afines</td>\n",
       "      <td>11</td>\n",
       "      <td>BOGOTA D.C</td>\n",
       "      <td>11001</td>\n",
       "      <td>SANTAFE DE BOGOTA</td>\n",
       "      <td>2</td>\n",
       "      <td>MUJER</td>\n",
       "      <td>2016</td>\n",
       "      <td>1</td>\n",
       "      <td>196</td>\n",
       "    </tr>\n",
       "    <tr>\n",
       "      <th>3</th>\n",
       "      <td>1101</td>\n",
       "      <td>1101</td>\n",
       "      <td>UNIVERSIDAD NACIONAL DE COLOMBIA</td>\n",
       "      <td>PRINCIPAL</td>\n",
       "      <td>1</td>\n",
       "      <td>OFICIAL</td>\n",
       "      <td>4</td>\n",
       "      <td>Universidad</td>\n",
       "      <td>11</td>\n",
       "      <td>BOGOTA D.C</td>\n",
       "      <td>...</td>\n",
       "      <td>Ingeniería agronómica, pecuaria y afines</td>\n",
       "      <td>11</td>\n",
       "      <td>BOGOTA D.C</td>\n",
       "      <td>11001</td>\n",
       "      <td>SANTAFE DE BOGOTA</td>\n",
       "      <td>2</td>\n",
       "      <td>MUJER</td>\n",
       "      <td>2016</td>\n",
       "      <td>2</td>\n",
       "      <td>215</td>\n",
       "    </tr>\n",
       "    <tr>\n",
       "      <th>4</th>\n",
       "      <td>1101</td>\n",
       "      <td>1101</td>\n",
       "      <td>UNIVERSIDAD NACIONAL DE COLOMBIA</td>\n",
       "      <td>PRINCIPAL</td>\n",
       "      <td>1</td>\n",
       "      <td>OFICIAL</td>\n",
       "      <td>4</td>\n",
       "      <td>Universidad</td>\n",
       "      <td>11</td>\n",
       "      <td>BOGOTA D.C</td>\n",
       "      <td>...</td>\n",
       "      <td>Medicina veterinaria</td>\n",
       "      <td>11</td>\n",
       "      <td>BOGOTA D.C</td>\n",
       "      <td>11001</td>\n",
       "      <td>SANTAFE DE BOGOTA</td>\n",
       "      <td>1</td>\n",
       "      <td>HOMBRE</td>\n",
       "      <td>2016</td>\n",
       "      <td>1</td>\n",
       "      <td>268</td>\n",
       "    </tr>\n",
       "    <tr>\n",
       "      <th>5</th>\n",
       "      <td>1101</td>\n",
       "      <td>1101</td>\n",
       "      <td>UNIVERSIDAD NACIONAL DE COLOMBIA</td>\n",
       "      <td>PRINCIPAL</td>\n",
       "      <td>1</td>\n",
       "      <td>OFICIAL</td>\n",
       "      <td>4</td>\n",
       "      <td>Universidad</td>\n",
       "      <td>11</td>\n",
       "      <td>BOGOTA D.C</td>\n",
       "      <td>...</td>\n",
       "      <td>Medicina veterinaria</td>\n",
       "      <td>11</td>\n",
       "      <td>BOGOTA D.C</td>\n",
       "      <td>11001</td>\n",
       "      <td>SANTAFE DE BOGOTA</td>\n",
       "      <td>1</td>\n",
       "      <td>HOMBRE</td>\n",
       "      <td>2016</td>\n",
       "      <td>2</td>\n",
       "      <td>265</td>\n",
       "    </tr>\n",
       "    <tr>\n",
       "      <th>6</th>\n",
       "      <td>1101</td>\n",
       "      <td>1101</td>\n",
       "      <td>UNIVERSIDAD NACIONAL DE COLOMBIA</td>\n",
       "      <td>PRINCIPAL</td>\n",
       "      <td>1</td>\n",
       "      <td>OFICIAL</td>\n",
       "      <td>4</td>\n",
       "      <td>Universidad</td>\n",
       "      <td>11</td>\n",
       "      <td>BOGOTA D.C</td>\n",
       "      <td>...</td>\n",
       "      <td>Medicina veterinaria</td>\n",
       "      <td>11</td>\n",
       "      <td>BOGOTA D.C</td>\n",
       "      <td>11001</td>\n",
       "      <td>SANTAFE DE BOGOTA</td>\n",
       "      <td>2</td>\n",
       "      <td>MUJER</td>\n",
       "      <td>2016</td>\n",
       "      <td>1</td>\n",
       "      <td>306</td>\n",
       "    </tr>\n",
       "    <tr>\n",
       "      <th>7</th>\n",
       "      <td>1101</td>\n",
       "      <td>1101</td>\n",
       "      <td>UNIVERSIDAD NACIONAL DE COLOMBIA</td>\n",
       "      <td>PRINCIPAL</td>\n",
       "      <td>1</td>\n",
       "      <td>OFICIAL</td>\n",
       "      <td>4</td>\n",
       "      <td>Universidad</td>\n",
       "      <td>11</td>\n",
       "      <td>BOGOTA D.C</td>\n",
       "      <td>...</td>\n",
       "      <td>Medicina veterinaria</td>\n",
       "      <td>11</td>\n",
       "      <td>BOGOTA D.C</td>\n",
       "      <td>11001</td>\n",
       "      <td>SANTAFE DE BOGOTA</td>\n",
       "      <td>2</td>\n",
       "      <td>MUJER</td>\n",
       "      <td>2016</td>\n",
       "      <td>2</td>\n",
       "      <td>317</td>\n",
       "    </tr>\n",
       "    <tr>\n",
       "      <th>8</th>\n",
       "      <td>1101</td>\n",
       "      <td>1101</td>\n",
       "      <td>UNIVERSIDAD NACIONAL DE COLOMBIA</td>\n",
       "      <td>PRINCIPAL</td>\n",
       "      <td>1</td>\n",
       "      <td>OFICIAL</td>\n",
       "      <td>4</td>\n",
       "      <td>Universidad</td>\n",
       "      <td>11</td>\n",
       "      <td>BOGOTA D.C</td>\n",
       "      <td>...</td>\n",
       "      <td>Zootecnia</td>\n",
       "      <td>11</td>\n",
       "      <td>BOGOTA D.C</td>\n",
       "      <td>11001</td>\n",
       "      <td>SANTAFE DE BOGOTA</td>\n",
       "      <td>1</td>\n",
       "      <td>HOMBRE</td>\n",
       "      <td>2016</td>\n",
       "      <td>1</td>\n",
       "      <td>198</td>\n",
       "    </tr>\n",
       "    <tr>\n",
       "      <th>9</th>\n",
       "      <td>1101</td>\n",
       "      <td>1101</td>\n",
       "      <td>UNIVERSIDAD NACIONAL DE COLOMBIA</td>\n",
       "      <td>PRINCIPAL</td>\n",
       "      <td>1</td>\n",
       "      <td>OFICIAL</td>\n",
       "      <td>4</td>\n",
       "      <td>Universidad</td>\n",
       "      <td>11</td>\n",
       "      <td>BOGOTA D.C</td>\n",
       "      <td>...</td>\n",
       "      <td>Zootecnia</td>\n",
       "      <td>11</td>\n",
       "      <td>BOGOTA D.C</td>\n",
       "      <td>11001</td>\n",
       "      <td>SANTAFE DE BOGOTA</td>\n",
       "      <td>1</td>\n",
       "      <td>HOMBRE</td>\n",
       "      <td>2016</td>\n",
       "      <td>2</td>\n",
       "      <td>190</td>\n",
       "    </tr>\n",
       "  </tbody>\n",
       "</table>\n",
       "<p>10 rows × 33 columns</p>\n",
       "</div>"
      ],
      "text/plain": [
       "   Codigo_Institucion  IES_PADRE Institucion_Educacion_Superior(IES)  \\\n",
       "0                1101       1101    UNIVERSIDAD NACIONAL DE COLOMBIA   \n",
       "1                1101       1101    UNIVERSIDAD NACIONAL DE COLOMBIA   \n",
       "2                1101       1101    UNIVERSIDAD NACIONAL DE COLOMBIA   \n",
       "3                1101       1101    UNIVERSIDAD NACIONAL DE COLOMBIA   \n",
       "4                1101       1101    UNIVERSIDAD NACIONAL DE COLOMBIA   \n",
       "5                1101       1101    UNIVERSIDAD NACIONAL DE COLOMBIA   \n",
       "6                1101       1101    UNIVERSIDAD NACIONAL DE COLOMBIA   \n",
       "7                1101       1101    UNIVERSIDAD NACIONAL DE COLOMBIA   \n",
       "8                1101       1101    UNIVERSIDAD NACIONAL DE COLOMBIA   \n",
       "9                1101       1101    UNIVERSIDAD NACIONAL DE COLOMBIA   \n",
       "\n",
       "  Principal_o_Seccional  ID_Sector_IES Sector_IES  ID_Caracter Caracter_IES  \\\n",
       "0             PRINCIPAL              1    OFICIAL            4  Universidad   \n",
       "1             PRINCIPAL              1    OFICIAL            4  Universidad   \n",
       "2             PRINCIPAL              1    OFICIAL            4  Universidad   \n",
       "3             PRINCIPAL              1    OFICIAL            4  Universidad   \n",
       "4             PRINCIPAL              1    OFICIAL            4  Universidad   \n",
       "5             PRINCIPAL              1    OFICIAL            4  Universidad   \n",
       "6             PRINCIPAL              1    OFICIAL            4  Universidad   \n",
       "7             PRINCIPAL              1    OFICIAL            4  Universidad   \n",
       "8             PRINCIPAL              1    OFICIAL            4  Universidad   \n",
       "9             PRINCIPAL              1    OFICIAL            4  Universidad   \n",
       "\n",
       "   Codigo_departamento(IES) Departamento_domicilio_IES        ...         \\\n",
       "0                        11                 BOGOTA D.C        ...          \n",
       "1                        11                 BOGOTA D.C        ...          \n",
       "2                        11                 BOGOTA D.C        ...          \n",
       "3                        11                 BOGOTA D.C        ...          \n",
       "4                        11                 BOGOTA D.C        ...          \n",
       "5                        11                 BOGOTA D.C        ...          \n",
       "6                        11                 BOGOTA D.C        ...          \n",
       "7                        11                 BOGOTA D.C        ...          \n",
       "8                        11                 BOGOTA D.C        ...          \n",
       "9                        11                 BOGOTA D.C        ...          \n",
       "\n",
       "            Nucleo_Basico_Conocimiento(NBC) Codigo_Departamento(Programa)  \\\n",
       "0  Ingeniería agronómica, pecuaria y afines                            11   \n",
       "1  Ingeniería agronómica, pecuaria y afines                            11   \n",
       "2  Ingeniería agronómica, pecuaria y afines                            11   \n",
       "3  Ingeniería agronómica, pecuaria y afines                            11   \n",
       "4                      Medicina veterinaria                            11   \n",
       "5                      Medicina veterinaria                            11   \n",
       "6                      Medicina veterinaria                            11   \n",
       "7                      Medicina veterinaria                            11   \n",
       "8                                 Zootecnia                            11   \n",
       "9                                 Zootecnia                            11   \n",
       "\n",
       "   Departamento_oferta_del_programa Codigo_Municipio(Programa)  \\\n",
       "0                        BOGOTA D.C                      11001   \n",
       "1                        BOGOTA D.C                      11001   \n",
       "2                        BOGOTA D.C                      11001   \n",
       "3                        BOGOTA D.C                      11001   \n",
       "4                        BOGOTA D.C                      11001   \n",
       "5                        BOGOTA D.C                      11001   \n",
       "6                        BOGOTA D.C                      11001   \n",
       "7                        BOGOTA D.C                      11001   \n",
       "8                        BOGOTA D.C                      11001   \n",
       "9                        BOGOTA D.C                      11001   \n",
       "\n",
       "   Municipio_oferta_del_programa ID_Sexo    Sexo  Anio  Semestre  \\\n",
       "0              SANTAFE DE BOGOTA       1  HOMBRE  2016         1   \n",
       "1              SANTAFE DE BOGOTA       1  HOMBRE  2016         2   \n",
       "2              SANTAFE DE BOGOTA       2   MUJER  2016         1   \n",
       "3              SANTAFE DE BOGOTA       2   MUJER  2016         2   \n",
       "4              SANTAFE DE BOGOTA       1  HOMBRE  2016         1   \n",
       "5              SANTAFE DE BOGOTA       1  HOMBRE  2016         2   \n",
       "6              SANTAFE DE BOGOTA       2   MUJER  2016         1   \n",
       "7              SANTAFE DE BOGOTA       2   MUJER  2016         2   \n",
       "8              SANTAFE DE BOGOTA       1  HOMBRE  2016         1   \n",
       "9              SANTAFE DE BOGOTA       1  HOMBRE  2016         2   \n",
       "\n",
       "  Matriculados_2016  \n",
       "0               410  \n",
       "1               428  \n",
       "2               196  \n",
       "3               215  \n",
       "4               268  \n",
       "5               265  \n",
       "6               306  \n",
       "7               317  \n",
       "8               198  \n",
       "9               190  \n",
       "\n",
       "[10 rows x 33 columns]"
      ]
     },
     "execution_count": 45,
     "metadata": {},
     "output_type": "execute_result"
    }
   ],
   "source": [
    "#un head para ver ejemplos de los datos \n",
    "Matriculados_Prime.head(10)"
   ]
  },
  {
   "cell_type": "markdown",
   "metadata": {},
   "source": [
    "## <span style=\"color: blue\"> Total de Matriculados en el 2016 de todas las sedes de todas las universidades </span>"
   ]
  },
  {
   "cell_type": "code",
   "execution_count": 15,
   "metadata": {
    "collapsed": false,
    "scrolled": true
   },
   "outputs": [
    {
     "data": {
      "text/plain": [
       "4613422"
      ]
     },
     "execution_count": 15,
     "metadata": {},
     "output_type": "execute_result"
    }
   ],
   "source": [
    "sum(Matriculados_Prime[\"Matriculados_2016\"])"
   ]
  },
  {
   "cell_type": "markdown",
   "metadata": {},
   "source": [
    "Se puede agrupar los datos por institucion asi:"
   ]
  },
  {
   "cell_type": "code",
   "execution_count": 3,
   "metadata": {
    "collapsed": true
   },
   "outputs": [],
   "source": [
    "Matriculados_groups = Matriculados_Prime.groupby('Codigo_Institucion')"
   ]
  },
  {
   "cell_type": "code",
   "execution_count": 4,
   "metadata": {
    "collapsed": false,
    "scrolled": true
   },
   "outputs": [
    {
     "data": {
      "text/plain": [
       "dict_keys([2847, 2830, 1707, 4101, 4102, 1722, 3103, 1708, 4106, 4107, 4108, 4109, 4110, 2733, 4112, 9902, 9906, 9903, 3102, 2848, 2831, 2736, 3107, 1723, 4726, 2737, 3114, 3115, 3116, 2738, 4701, 4709, 1715, 4702, 2102, 2825, 2104, 2740, 2106, 2849, 2110, 2741, 2114, 2827, 1718, 4111, 2828, 1207, 3719, 1101, 1102, 1103, 1104, 2744, 1106, 1107, 1108, 1109, 1110, 1111, 1112, 1113, 1114, 1115, 1117, 1118, 1119, 1120, 1121, 1122, 1123, 4708, 1125, 1126, 2833, 1212, 4714, 2834, 2749, 4721, 1214, 3702, 3703, 2836, 3706, 1215, 3710, 1813, 3712, 1728, 3715, 3204, 2838, 3718, 1729, 3720, 5801, 3724, 1730, 2702, 9910, 2704, 2840, 2707, 2708, 2709, 2710, 2711, 2712, 2713, 2715, 2842, 2206, 1733, 2720, 2209, 2211, 2724, 1701, 1702, 1703, 1704, 1705, 2730, 2731, 2732, 1709, 1710, 1711, 1712, 1713, 1202, 1203, 1204, 1717, 1206, 1719, 1208, 2745, 2746, 2747, 1724, 1725, 1726, 1727, 1216, 1217, 1218, 1219, 1220, 1221, 1734, 1223, 4808, 4810, 4727, 4812, 2850, 4813, 4817, 4818, 2837, 4822, 3705, 3801, 4826, 3803, 3805, 3806, 3807, 3808, 3809, 3810, 3811, 3812, 3301, 3302, 3303, 1201, 3819, 3820, 3821, 2719, 3824, 3826, 3827, 3828, 2805, 3830, 3831, 2810, 2811, 2812, 2813, 2302, 2815, 3725, 2818, 2820, 2822, 2823, 2824, 1801, 1802, 1803, 1804, 1805, 1806, 1807, 1808, 1809, 1810, 1811, 1812, 1301, 1814, 1815, 1816, 1817, 1818, 1819, 1820, 1822, 1823, 1824, 1825, 1826, 1827, 1828, 1829, 1830, 1831, 1832, 1833, 1834, 1835, 9914, 4829, 4719, 1732, 4835, 2832, 4801, 3901, 3902, 4832, 9899, 5802, 3104, 2841, 2701, 1716, 2739, 2902, 2903, 2904, 2905, 2906, 4710, 4837, 1222, 1205, 9900, 4825, 1714, 4803, 3817, 9110, 3201, 1735, 9103, 9104, 9105, 9107, 9108, 4811, 1213, 3713, 3823, 9116, 9117, 9119, 9120, 9121, 9122, 9125, 9126, 9127, 9128, 9129, 9131, 9132, 3117, 4805, 2207, 3716, 2208, 9915, 9102, 2721, 1720, 2743, 4806, 2723, 1209, 9913, 9904, 3834, 2725, 2829, 1105, 2727, 2301, 2728, 2748, 1210, 9905, 9907, 1706, 2901])"
      ]
     },
     "execution_count": 4,
     "metadata": {},
     "output_type": "execute_result"
    }
   ],
   "source": [
    "Matriculados_groups.groups.keys()"
   ]
  },
  {
   "cell_type": "code",
   "execution_count": 8,
   "metadata": {
    "collapsed": false
   },
   "outputs": [
    {
     "name": "stdout",
     "output_type": "stream",
     "text": [
      "Hay: 320 grupos (sedes de Educacion Superior)\n"
     ]
    }
   ],
   "source": [
    "print(\"Hay:\", len(Matriculados_groups.groups.keys()), \"grupos (sedes de Educacion Superior)\")"
   ]
  },
  {
   "cell_type": "markdown",
   "metadata": {},
   "source": [
    "Se puede utilizar la siguiente funcion para obtener los grupos segun la institucion y ademas de eso los parametros que nos interezan y la cantidad de matriculados total"
   ]
  },
  {
   "cell_type": "code",
   "execution_count": 24,
   "metadata": {
    "collapsed": false
   },
   "outputs": [],
   "source": [
    "def get_enrolled(df):\n",
    "    return [set(df[\"Institucion_Educacion_Superior(IES)\"]), set(\"Principal_o_Seccional\"), set(df[\"ID_Sector_IES\"]), set(df[\"Sector_IES\"]), set(df[\"ID_Caracter\"]), set(df[\"Caracter_IES\"]), set(df[\"Codigo_departamento(IES)\"]), set(df[\"Departamento_domicilio_IES\"]), set(df[\"Codigo_Municipio(IES)\"]), set(df[\"Municipio_domicilio_IES\"]), set(df[\"ID_Sexo\"]), set(df[\"Sexo\"]), set(df[\"Semestre\"]), np.sum(df[\"Matriculados_2016\"])]"
   ]
  },
  {
   "cell_type": "markdown",
   "metadata": {},
   "source": [
    "Se puede agrupar por el nombre de la universidad, de esta manera no importa si es la sede principal o no, se obtiene un grupo por cada universidad incluyendo todas las sedes.  \n",
    "De esta manera podemos reducir el numero de grupos de 320 a 274"
   ]
  },
  {
   "cell_type": "code",
   "execution_count": 12,
   "metadata": {
    "collapsed": false
   },
   "outputs": [],
   "source": [
    "Matriculados_groups_info = Matriculados_Prime.groupby('Institucion_Educacion_Superior(IES)')"
   ]
  },
  {
   "cell_type": "code",
   "execution_count": 14,
   "metadata": {
    "collapsed": false,
    "scrolled": true
   },
   "outputs": [
    {
     "data": {
      "text/plain": [
       "274"
      ]
     },
     "execution_count": 14,
     "metadata": {},
     "output_type": "execute_result"
    }
   ],
   "source": [
    "len(Matriculados_groups_info.groups.keys())"
   ]
  },
  {
   "cell_type": "code",
   "execution_count": 25,
   "metadata": {
    "collapsed": false
   },
   "outputs": [],
   "source": [
    "tmp = Matriculados_groups_info.apply(get_enrolled)"
   ]
  },
  {
   "cell_type": "code",
   "execution_count": 30,
   "metadata": {
    "collapsed": false
   },
   "outputs": [
    {
     "data": {
      "text/plain": [
       "[{'CENTRO DE EDUCACION MILITAR - CEMIL'},\n",
       " {'P', 'S', '_', 'a', 'c', 'e', 'i', 'l', 'n', 'o', 'p', 'r'},\n",
       " {1},\n",
       " {'OFICIAL'},\n",
       " {3},\n",
       " {'Institución Universitaria/Escuela Tecnológica'},\n",
       " {11},\n",
       " {'BOGOTA D.C'},\n",
       " {11001},\n",
       " {'SANTAFE DE BOGOTA'},\n",
       " {1, 2},\n",
       " {'HOMBRE', 'MUJER'},\n",
       " {1, 2},\n",
       " 1341]"
      ]
     },
     "execution_count": 30,
     "metadata": {},
     "output_type": "execute_result"
    }
   ],
   "source": [
    "tmp[0]"
   ]
  },
  {
   "cell_type": "code",
   "execution_count": null,
   "metadata": {
    "collapsed": true
   },
   "outputs": [],
   "source": []
  }
 ],
 "metadata": {
  "kernelspec": {
   "display_name": "Python 3 + Anaconda",
   "language": "python",
   "name": "pyconda3"
  },
  "language_info": {
   "codemirror_mode": {
    "name": "ipython",
    "version": 3
   },
   "file_extension": ".py",
   "mimetype": "text/x-python",
   "name": "python",
   "nbconvert_exporter": "python",
   "pygments_lexer": "ipython3",
   "version": "3.5.1"
  }
 },
 "nbformat": 4,
 "nbformat_minor": 0
}
