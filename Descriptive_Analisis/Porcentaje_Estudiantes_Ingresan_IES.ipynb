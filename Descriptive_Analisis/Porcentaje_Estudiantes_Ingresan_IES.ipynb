{
 "cells": [
  {
   "cell_type": "code",
   "execution_count": 2,
   "metadata": {
    "collapsed": true
   },
   "outputs": [],
   "source": [
    "import pandas as pd\n",
    "import numpy as np"
   ]
  },
  {
   "cell_type": "markdown",
   "metadata": {},
   "source": [
    "Se encuentran datos aqui http://mineducacion.gov.co/sistemasdeinformacion/1735/w3-article-212400.html sobre:  \n",
    "- Inscritos \n",
    "- admitidos\n",
    "- matriculados"
   ]
  },
  {
   "cell_type": "markdown",
   "metadata": {},
   "source": [
    "Cargo los datos del ICFES del año 2015 semestre 2 para comparar con las cantidades obtenidas en los nuevos archivos adquiridos de las Bases de Datos del ministerio de educacion"
   ]
  },
  {
   "cell_type": "code",
   "execution_count": 45,
   "metadata": {
    "collapsed": false
   },
   "outputs": [
    {
     "name": "stderr",
     "output_type": "stream",
     "text": [
      "/usr/local/anaconda3/lib/python3.5/site-packages/IPython/core/interactiveshell.py:2723: DtypeWarning: Columns (10,12,13,14,64) have mixed types. Specify dtype option on import or set low_memory=False.\n",
      "  interactivity=interactivity, compiler=compiler, result=result)\n"
     ]
    }
   ],
   "source": [
    "ICFES_2015 = pd.read_csv(\"../DatosFTPICFES/SABER11/SB11-BASES_DE_DATOS/SB11-20152-RGSTRO-CLFCCN-V3-0.txt\", delimiter=\"|\")"
   ]
  },
  {
   "cell_type": "code",
   "execution_count": 53,
   "metadata": {
    "collapsed": false
   },
   "outputs": [
    {
     "data": {
      "text/html": [
       "<div>\n",
       "<table border=\"1\" class=\"dataframe\">\n",
       "  <thead>\n",
       "    <tr style=\"text-align: right;\">\n",
       "      <th></th>\n",
       "      <th>PERIODO</th>\n",
       "      <th>ESTU_EDAD</th>\n",
       "      <th>ESTU_PAIS_RESIDE</th>\n",
       "      <th>ESTU_ETNIA</th>\n",
       "      <th>COLE_COD_MCPIO_UBICACION</th>\n",
       "      <th>ESTU_COD_RESIDE_MCPIO</th>\n",
       "      <th>ESTU_ZONA_RESIDE</th>\n",
       "      <th>COLE_COD_DANE_INSTITUCION</th>\n",
       "      <th>COLE_COD_ICFES</th>\n",
       "      <th>ESTU_COD_RESIDE_DEPTO</th>\n",
       "      <th>...</th>\n",
       "      <th>ESTU_COD_MCPIO_PRESENTACION</th>\n",
       "      <th>PUNT_LECTURA_CRITICA</th>\n",
       "      <th>PUNT_MATEMATICAS</th>\n",
       "      <th>PUNT_C_NATURALES</th>\n",
       "      <th>PUNT_SOCIALES_CIUDADANAS</th>\n",
       "      <th>PUNT_INGLES</th>\n",
       "      <th>PUNT_RAZONA_CUANT</th>\n",
       "      <th>PUNT_COMP_CIUDADANA</th>\n",
       "      <th>PUNT_GLOBAL</th>\n",
       "      <th>ESTU_PUESTO</th>\n",
       "    </tr>\n",
       "  </thead>\n",
       "  <tbody>\n",
       "    <tr>\n",
       "      <th>count</th>\n",
       "      <td>573128.0</td>\n",
       "      <td>573100.000000</td>\n",
       "      <td>573128.000000</td>\n",
       "      <td>37477.000000</td>\n",
       "      <td>545730.000000</td>\n",
       "      <td>571797.000000</td>\n",
       "      <td>573128.000000</td>\n",
       "      <td>5.457300e+05</td>\n",
       "      <td>545730.000000</td>\n",
       "      <td>571797.000000</td>\n",
       "      <td>...</td>\n",
       "      <td>573128.000000</td>\n",
       "      <td>573128.000000</td>\n",
       "      <td>573128.000000</td>\n",
       "      <td>573128.000000</td>\n",
       "      <td>573128.000000</td>\n",
       "      <td>573128.000000</td>\n",
       "      <td>573128.000000</td>\n",
       "      <td>573128.000000</td>\n",
       "      <td>573128.000000</td>\n",
       "      <td>573128.000000</td>\n",
       "    </tr>\n",
       "    <tr>\n",
       "      <th>mean</th>\n",
       "      <td>20152.0</td>\n",
       "      <td>17.863497</td>\n",
       "      <td>1.118944</td>\n",
       "      <td>9.358220</td>\n",
       "      <td>32780.145220</td>\n",
       "      <td>33151.018797</td>\n",
       "      <td>8.470052</td>\n",
       "      <td>2.058721e+11</td>\n",
       "      <td>80431.808964</td>\n",
       "      <td>34.319070</td>\n",
       "      <td>...</td>\n",
       "      <td>33092.287023</td>\n",
       "      <td>49.779252</td>\n",
       "      <td>50.233653</td>\n",
       "      <td>50.117141</td>\n",
       "      <td>49.889524</td>\n",
       "      <td>50.536327</td>\n",
       "      <td>51.221321</td>\n",
       "      <td>49.410981</td>\n",
       "      <td>250.229204</td>\n",
       "      <td>496.812168</td>\n",
       "    </tr>\n",
       "    <tr>\n",
       "      <th>std</th>\n",
       "      <td>0.0</td>\n",
       "      <td>4.357134</td>\n",
       "      <td>4.910093</td>\n",
       "      <td>18.542173</td>\n",
       "      <td>26577.340528</td>\n",
       "      <td>26720.947192</td>\n",
       "      <td>2.633652</td>\n",
       "      <td>9.614757e+10</td>\n",
       "      <td>54570.625530</td>\n",
       "      <td>374.867568</td>\n",
       "      <td>...</td>\n",
       "      <td>26733.348544</td>\n",
       "      <td>9.382948</td>\n",
       "      <td>12.121206</td>\n",
       "      <td>10.053783</td>\n",
       "      <td>11.140041</td>\n",
       "      <td>10.916471</td>\n",
       "      <td>13.472122</td>\n",
       "      <td>9.892985</td>\n",
       "      <td>47.132512</td>\n",
       "      <td>288.739438</td>\n",
       "    </tr>\n",
       "    <tr>\n",
       "      <th>min</th>\n",
       "      <td>20152.0</td>\n",
       "      <td>0.000000</td>\n",
       "      <td>1.000000</td>\n",
       "      <td>1.000000</td>\n",
       "      <td>5001.000000</td>\n",
       "      <td>5001.000000</td>\n",
       "      <td>1.000000</td>\n",
       "      <td>1.050010e+11</td>\n",
       "      <td>18.000000</td>\n",
       "      <td>5.000000</td>\n",
       "      <td>...</td>\n",
       "      <td>5001.000000</td>\n",
       "      <td>0.000000</td>\n",
       "      <td>0.000000</td>\n",
       "      <td>0.000000</td>\n",
       "      <td>0.000000</td>\n",
       "      <td>0.000000</td>\n",
       "      <td>0.000000</td>\n",
       "      <td>0.000000</td>\n",
       "      <td>0.000000</td>\n",
       "      <td>1.000000</td>\n",
       "    </tr>\n",
       "    <tr>\n",
       "      <th>25%</th>\n",
       "      <td>20152.0</td>\n",
       "      <td>16.000000</td>\n",
       "      <td>1.000000</td>\n",
       "      <td>1.000000</td>\n",
       "      <td>11001.000000</td>\n",
       "      <td>11001.000000</td>\n",
       "      <td>8.000000</td>\n",
       "      <td>1.170500e+11</td>\n",
       "      <td>29140.000000</td>\n",
       "      <td>11.000000</td>\n",
       "      <td>...</td>\n",
       "      <td>11001.000000</td>\n",
       "      <td>43.000000</td>\n",
       "      <td>42.000000</td>\n",
       "      <td>43.000000</td>\n",
       "      <td>43.000000</td>\n",
       "      <td>43.000000</td>\n",
       "      <td>42.000000</td>\n",
       "      <td>43.000000</td>\n",
       "      <td>217.000000</td>\n",
       "      <td>246.000000</td>\n",
       "    </tr>\n",
       "    <tr>\n",
       "      <th>50%</th>\n",
       "      <td>20152.0</td>\n",
       "      <td>17.000000</td>\n",
       "      <td>1.000000</td>\n",
       "      <td>1.000000</td>\n",
       "      <td>20175.000000</td>\n",
       "      <td>20383.000000</td>\n",
       "      <td>10.000000</td>\n",
       "      <td>1.730010e+11</td>\n",
       "      <td>79848.000000</td>\n",
       "      <td>20.000000</td>\n",
       "      <td>...</td>\n",
       "      <td>20175.000000</td>\n",
       "      <td>49.000000</td>\n",
       "      <td>49.000000</td>\n",
       "      <td>49.000000</td>\n",
       "      <td>50.000000</td>\n",
       "      <td>49.000000</td>\n",
       "      <td>49.000000</td>\n",
       "      <td>50.000000</td>\n",
       "      <td>245.000000</td>\n",
       "      <td>497.000000</td>\n",
       "    </tr>\n",
       "    <tr>\n",
       "      <th>75%</th>\n",
       "      <td>20152.0</td>\n",
       "      <td>18.000000</td>\n",
       "      <td>1.000000</td>\n",
       "      <td>13.000000</td>\n",
       "      <td>54001.000000</td>\n",
       "      <td>54405.000000</td>\n",
       "      <td>10.000000</td>\n",
       "      <td>3.052660e+11</td>\n",
       "      <td>124867.000000</td>\n",
       "      <td>54.000000</td>\n",
       "      <td>...</td>\n",
       "      <td>54405.000000</td>\n",
       "      <td>56.000000</td>\n",
       "      <td>57.000000</td>\n",
       "      <td>56.000000</td>\n",
       "      <td>57.000000</td>\n",
       "      <td>54.000000</td>\n",
       "      <td>59.000000</td>\n",
       "      <td>57.000000</td>\n",
       "      <td>278.000000</td>\n",
       "      <td>745.000000</td>\n",
       "    </tr>\n",
       "    <tr>\n",
       "      <th>max</th>\n",
       "      <td>20152.0</td>\n",
       "      <td>100.000000</td>\n",
       "      <td>241.000000</td>\n",
       "      <td>100.000000</td>\n",
       "      <td>99773.000000</td>\n",
       "      <td>99999.000000</td>\n",
       "      <td>10.000000</td>\n",
       "      <td>8.548740e+11</td>\n",
       "      <td>631622.000000</td>\n",
       "      <td>99999.000000</td>\n",
       "      <td>...</td>\n",
       "      <td>99773.000000</td>\n",
       "      <td>100.000000</td>\n",
       "      <td>100.000000</td>\n",
       "      <td>100.000000</td>\n",
       "      <td>100.000000</td>\n",
       "      <td>100.000000</td>\n",
       "      <td>100.000000</td>\n",
       "      <td>100.000000</td>\n",
       "      <td>492.000000</td>\n",
       "      <td>1000.000000</td>\n",
       "    </tr>\n",
       "  </tbody>\n",
       "</table>\n",
       "<p>8 rows × 37 columns</p>\n",
       "</div>"
      ],
      "text/plain": [
       "        PERIODO      ESTU_EDAD  ESTU_PAIS_RESIDE    ESTU_ETNIA  \\\n",
       "count  573128.0  573100.000000     573128.000000  37477.000000   \n",
       "mean    20152.0      17.863497          1.118944      9.358220   \n",
       "std         0.0       4.357134          4.910093     18.542173   \n",
       "min     20152.0       0.000000          1.000000      1.000000   \n",
       "25%     20152.0      16.000000          1.000000      1.000000   \n",
       "50%     20152.0      17.000000          1.000000      1.000000   \n",
       "75%     20152.0      18.000000          1.000000     13.000000   \n",
       "max     20152.0     100.000000        241.000000    100.000000   \n",
       "\n",
       "       COLE_COD_MCPIO_UBICACION  ESTU_COD_RESIDE_MCPIO  ESTU_ZONA_RESIDE  \\\n",
       "count             545730.000000          571797.000000     573128.000000   \n",
       "mean               32780.145220           33151.018797          8.470052   \n",
       "std                26577.340528           26720.947192          2.633652   \n",
       "min                 5001.000000            5001.000000          1.000000   \n",
       "25%                11001.000000           11001.000000          8.000000   \n",
       "50%                20175.000000           20383.000000         10.000000   \n",
       "75%                54001.000000           54405.000000         10.000000   \n",
       "max                99773.000000           99999.000000         10.000000   \n",
       "\n",
       "       COLE_COD_DANE_INSTITUCION  COLE_COD_ICFES  ESTU_COD_RESIDE_DEPTO  \\\n",
       "count               5.457300e+05   545730.000000          571797.000000   \n",
       "mean                2.058721e+11    80431.808964              34.319070   \n",
       "std                 9.614757e+10    54570.625530             374.867568   \n",
       "min                 1.050010e+11       18.000000               5.000000   \n",
       "25%                 1.170500e+11    29140.000000              11.000000   \n",
       "50%                 1.730010e+11    79848.000000              20.000000   \n",
       "75%                 3.052660e+11   124867.000000              54.000000   \n",
       "max                 8.548740e+11   631622.000000           99999.000000   \n",
       "\n",
       "           ...        ESTU_COD_MCPIO_PRESENTACION  PUNT_LECTURA_CRITICA  \\\n",
       "count      ...                      573128.000000         573128.000000   \n",
       "mean       ...                       33092.287023             49.779252   \n",
       "std        ...                       26733.348544              9.382948   \n",
       "min        ...                        5001.000000              0.000000   \n",
       "25%        ...                       11001.000000             43.000000   \n",
       "50%        ...                       20175.000000             49.000000   \n",
       "75%        ...                       54405.000000             56.000000   \n",
       "max        ...                       99773.000000            100.000000   \n",
       "\n",
       "       PUNT_MATEMATICAS  PUNT_C_NATURALES  PUNT_SOCIALES_CIUDADANAS  \\\n",
       "count     573128.000000     573128.000000             573128.000000   \n",
       "mean          50.233653         50.117141                 49.889524   \n",
       "std           12.121206         10.053783                 11.140041   \n",
       "min            0.000000          0.000000                  0.000000   \n",
       "25%           42.000000         43.000000                 43.000000   \n",
       "50%           49.000000         49.000000                 50.000000   \n",
       "75%           57.000000         56.000000                 57.000000   \n",
       "max          100.000000        100.000000                100.000000   \n",
       "\n",
       "         PUNT_INGLES  PUNT_RAZONA_CUANT  PUNT_COMP_CIUDADANA    PUNT_GLOBAL  \\\n",
       "count  573128.000000      573128.000000        573128.000000  573128.000000   \n",
       "mean       50.536327          51.221321            49.410981     250.229204   \n",
       "std        10.916471          13.472122             9.892985      47.132512   \n",
       "min         0.000000           0.000000             0.000000       0.000000   \n",
       "25%        43.000000          42.000000            43.000000     217.000000   \n",
       "50%        49.000000          49.000000            50.000000     245.000000   \n",
       "75%        54.000000          59.000000            57.000000     278.000000   \n",
       "max       100.000000         100.000000           100.000000     492.000000   \n",
       "\n",
       "         ESTU_PUESTO  \n",
       "count  573128.000000  \n",
       "mean      496.812168  \n",
       "std       288.739438  \n",
       "min         1.000000  \n",
       "25%       246.000000  \n",
       "50%       497.000000  \n",
       "75%       745.000000  \n",
       "max      1000.000000  \n",
       "\n",
       "[8 rows x 37 columns]"
      ]
     },
     "execution_count": 53,
     "metadata": {},
     "output_type": "execute_result"
    }
   ],
   "source": [
    "ICFES_2015.describe()"
   ]
  },
  {
   "cell_type": "markdown",
   "metadata": {},
   "source": [
    "# Porcentaje de acuerdo a los estudiantes Matriculados"
   ]
  },
  {
   "cell_type": "code",
   "execution_count": 3,
   "metadata": {
    "collapsed": false
   },
   "outputs": [],
   "source": [
    "Matriculados_Prime = pd.read_csv(\"../DatosSPADIES/Matriculados_PrimerCurso_2016.csv\", delimiter=\";\")"
   ]
  },
  {
   "cell_type": "code",
   "execution_count": 4,
   "metadata": {
    "collapsed": false
   },
   "outputs": [
    {
     "data": {
      "text/html": [
       "<div>\n",
       "<table border=\"1\" class=\"dataframe\">\n",
       "  <thead>\n",
       "    <tr style=\"text-align: right;\">\n",
       "      <th></th>\n",
       "      <th>Codigo_Institucion</th>\n",
       "      <th>IES_PADRE</th>\n",
       "      <th>ID_Sector_IES</th>\n",
       "      <th>ID_Caracter</th>\n",
       "      <th>Codigo_departamento(IES)</th>\n",
       "      <th>Codigo_Municipio(IES)</th>\n",
       "      <th>Codigo_SNIES_programa</th>\n",
       "      <th>ID_Nivel_Academico</th>\n",
       "      <th>ID_Nivel_Formacion</th>\n",
       "      <th>ID_Metodologia</th>\n",
       "      <th>ID_Area</th>\n",
       "      <th>Codigo_Departamento(Programa)</th>\n",
       "      <th>Codigo_Municipio(Programa)</th>\n",
       "      <th>ID_Sexo</th>\n",
       "      <th>Anio</th>\n",
       "      <th>Semestre</th>\n",
       "      <th>Primer_Curso_2016</th>\n",
       "    </tr>\n",
       "  </thead>\n",
       "  <tbody>\n",
       "    <tr>\n",
       "      <th>count</th>\n",
       "      <td>42067.000000</td>\n",
       "      <td>42067.000000</td>\n",
       "      <td>42067.000000</td>\n",
       "      <td>42067.000000</td>\n",
       "      <td>42067.000000</td>\n",
       "      <td>42067.000000</td>\n",
       "      <td>42067.000000</td>\n",
       "      <td>42067.000000</td>\n",
       "      <td>42067.000000</td>\n",
       "      <td>42067.000000</td>\n",
       "      <td>42067.000000</td>\n",
       "      <td>42067.000000</td>\n",
       "      <td>42067.000000</td>\n",
       "      <td>42067.000000</td>\n",
       "      <td>42067.0</td>\n",
       "      <td>42067.000000</td>\n",
       "      <td>42067.000000</td>\n",
       "    </tr>\n",
       "    <tr>\n",
       "      <th>mean</th>\n",
       "      <td>3024.239285</td>\n",
       "      <td>3018.346281</td>\n",
       "      <td>1.527421</td>\n",
       "      <td>3.374474</td>\n",
       "      <td>22.721516</td>\n",
       "      <td>22750.035443</td>\n",
       "      <td>53198.567856</td>\n",
       "      <td>1.276559</td>\n",
       "      <td>4.600114</td>\n",
       "      <td>1.332731</td>\n",
       "      <td>5.730382</td>\n",
       "      <td>31.675993</td>\n",
       "      <td>31778.438848</td>\n",
       "      <td>1.494378</td>\n",
       "      <td>2016.0</td>\n",
       "      <td>1.505883</td>\n",
       "      <td>22.654052</td>\n",
       "    </tr>\n",
       "    <tr>\n",
       "      <th>std</th>\n",
       "      <td>2456.660472</td>\n",
       "      <td>2451.290435</td>\n",
       "      <td>0.499253</td>\n",
       "      <td>0.922390</td>\n",
       "      <td>23.382128</td>\n",
       "      <td>23403.877900</td>\n",
       "      <td>41902.566765</td>\n",
       "      <td>0.447302</td>\n",
       "      <td>2.047185</td>\n",
       "      <td>0.631729</td>\n",
       "      <td>1.968516</td>\n",
       "      <td>27.131222</td>\n",
       "      <td>27166.130041</td>\n",
       "      <td>0.499974</td>\n",
       "      <td>0.0</td>\n",
       "      <td>0.499971</td>\n",
       "      <td>65.720122</td>\n",
       "    </tr>\n",
       "    <tr>\n",
       "      <th>min</th>\n",
       "      <td>1101.000000</td>\n",
       "      <td>1101.000000</td>\n",
       "      <td>1.000000</td>\n",
       "      <td>1.000000</td>\n",
       "      <td>5.000000</td>\n",
       "      <td>5001.000000</td>\n",
       "      <td>1.000000</td>\n",
       "      <td>1.000000</td>\n",
       "      <td>1.000000</td>\n",
       "      <td>1.000000</td>\n",
       "      <td>1.000000</td>\n",
       "      <td>5.000000</td>\n",
       "      <td>5001.000000</td>\n",
       "      <td>1.000000</td>\n",
       "      <td>2016.0</td>\n",
       "      <td>1.000000</td>\n",
       "      <td>1.000000</td>\n",
       "    </tr>\n",
       "    <tr>\n",
       "      <th>25%</th>\n",
       "      <td>1706.000000</td>\n",
       "      <td>1706.000000</td>\n",
       "      <td>1.000000</td>\n",
       "      <td>3.000000</td>\n",
       "      <td>11.000000</td>\n",
       "      <td>11001.000000</td>\n",
       "      <td>8093.000000</td>\n",
       "      <td>1.000000</td>\n",
       "      <td>3.000000</td>\n",
       "      <td>1.000000</td>\n",
       "      <td>5.000000</td>\n",
       "      <td>11.000000</td>\n",
       "      <td>11001.000000</td>\n",
       "      <td>1.000000</td>\n",
       "      <td>2016.0</td>\n",
       "      <td>1.000000</td>\n",
       "      <td>3.000000</td>\n",
       "    </tr>\n",
       "    <tr>\n",
       "      <th>50%</th>\n",
       "      <td>2102.000000</td>\n",
       "      <td>2102.000000</td>\n",
       "      <td>2.000000</td>\n",
       "      <td>4.000000</td>\n",
       "      <td>11.000000</td>\n",
       "      <td>11001.000000</td>\n",
       "      <td>53276.000000</td>\n",
       "      <td>1.000000</td>\n",
       "      <td>5.000000</td>\n",
       "      <td>1.000000</td>\n",
       "      <td>6.000000</td>\n",
       "      <td>17.000000</td>\n",
       "      <td>17001.000000</td>\n",
       "      <td>1.000000</td>\n",
       "      <td>2016.0</td>\n",
       "      <td>2.000000</td>\n",
       "      <td>10.000000</td>\n",
       "    </tr>\n",
       "    <tr>\n",
       "      <th>75%</th>\n",
       "      <td>2848.000000</td>\n",
       "      <td>2848.000000</td>\n",
       "      <td>2.000000</td>\n",
       "      <td>4.000000</td>\n",
       "      <td>19.000000</td>\n",
       "      <td>19001.000000</td>\n",
       "      <td>101493.000000</td>\n",
       "      <td>2.000000</td>\n",
       "      <td>6.000000</td>\n",
       "      <td>1.000000</td>\n",
       "      <td>8.000000</td>\n",
       "      <td>63.000000</td>\n",
       "      <td>63001.000000</td>\n",
       "      <td>2.000000</td>\n",
       "      <td>2016.0</td>\n",
       "      <td>2.000000</td>\n",
       "      <td>24.000000</td>\n",
       "    </tr>\n",
       "    <tr>\n",
       "      <th>max</th>\n",
       "      <td>9915.000000</td>\n",
       "      <td>9915.000000</td>\n",
       "      <td>2.000000</td>\n",
       "      <td>4.000000</td>\n",
       "      <td>91.000000</td>\n",
       "      <td>91001.000000</td>\n",
       "      <td>106062.000000</td>\n",
       "      <td>2.000000</td>\n",
       "      <td>10.000000</td>\n",
       "      <td>3.000000</td>\n",
       "      <td>9.000000</td>\n",
       "      <td>99.000000</td>\n",
       "      <td>99001.000000</td>\n",
       "      <td>2.000000</td>\n",
       "      <td>2016.0</td>\n",
       "      <td>2.000000</td>\n",
       "      <td>4265.000000</td>\n",
       "    </tr>\n",
       "  </tbody>\n",
       "</table>\n",
       "</div>"
      ],
      "text/plain": [
       "       Codigo_Institucion     IES_PADRE  ID_Sector_IES   ID_Caracter  \\\n",
       "count        42067.000000  42067.000000   42067.000000  42067.000000   \n",
       "mean          3024.239285   3018.346281       1.527421      3.374474   \n",
       "std           2456.660472   2451.290435       0.499253      0.922390   \n",
       "min           1101.000000   1101.000000       1.000000      1.000000   \n",
       "25%           1706.000000   1706.000000       1.000000      3.000000   \n",
       "50%           2102.000000   2102.000000       2.000000      4.000000   \n",
       "75%           2848.000000   2848.000000       2.000000      4.000000   \n",
       "max           9915.000000   9915.000000       2.000000      4.000000   \n",
       "\n",
       "       Codigo_departamento(IES)  Codigo_Municipio(IES)  Codigo_SNIES_programa  \\\n",
       "count              42067.000000           42067.000000           42067.000000   \n",
       "mean                  22.721516           22750.035443           53198.567856   \n",
       "std                   23.382128           23403.877900           41902.566765   \n",
       "min                    5.000000            5001.000000               1.000000   \n",
       "25%                   11.000000           11001.000000            8093.000000   \n",
       "50%                   11.000000           11001.000000           53276.000000   \n",
       "75%                   19.000000           19001.000000          101493.000000   \n",
       "max                   91.000000           91001.000000          106062.000000   \n",
       "\n",
       "       ID_Nivel_Academico  ID_Nivel_Formacion  ID_Metodologia       ID_Area  \\\n",
       "count        42067.000000        42067.000000    42067.000000  42067.000000   \n",
       "mean             1.276559            4.600114        1.332731      5.730382   \n",
       "std              0.447302            2.047185        0.631729      1.968516   \n",
       "min              1.000000            1.000000        1.000000      1.000000   \n",
       "25%              1.000000            3.000000        1.000000      5.000000   \n",
       "50%              1.000000            5.000000        1.000000      6.000000   \n",
       "75%              2.000000            6.000000        1.000000      8.000000   \n",
       "max              2.000000           10.000000        3.000000      9.000000   \n",
       "\n",
       "       Codigo_Departamento(Programa)  Codigo_Municipio(Programa)  \\\n",
       "count                   42067.000000                42067.000000   \n",
       "mean                       31.675993                31778.438848   \n",
       "std                        27.131222                27166.130041   \n",
       "min                         5.000000                 5001.000000   \n",
       "25%                        11.000000                11001.000000   \n",
       "50%                        17.000000                17001.000000   \n",
       "75%                        63.000000                63001.000000   \n",
       "max                        99.000000                99001.000000   \n",
       "\n",
       "            ID_Sexo     Anio      Semestre  Primer_Curso_2016  \n",
       "count  42067.000000  42067.0  42067.000000       42067.000000  \n",
       "mean       1.494378   2016.0      1.505883          22.654052  \n",
       "std        0.499974      0.0      0.499971          65.720122  \n",
       "min        1.000000   2016.0      1.000000           1.000000  \n",
       "25%        1.000000   2016.0      1.000000           3.000000  \n",
       "50%        1.000000   2016.0      2.000000          10.000000  \n",
       "75%        2.000000   2016.0      2.000000          24.000000  \n",
       "max        2.000000   2016.0      2.000000        4265.000000  "
      ]
     },
     "execution_count": 4,
     "metadata": {},
     "output_type": "execute_result"
    }
   ],
   "source": [
    "#descriptor para ver por encima las dimensiones del fichero\n",
    "Matriculados_Prime.describe()"
   ]
  },
  {
   "cell_type": "code",
   "execution_count": 5,
   "metadata": {
    "collapsed": false
   },
   "outputs": [
    {
     "data": {
      "text/plain": [
       "Index(['Codigo_Institucion', 'IES_PADRE',\n",
       "       'Institucion_Educacion_Superior(IES)', 'Principal_o_Seccional',\n",
       "       'ID_Sector_IES', 'Sector_IES', 'ID_Caracter', 'Caracter_IES',\n",
       "       'Codigo_departamento(IES)', 'Departamento_domicilio_IES',\n",
       "       'Codigo_Municipio(IES)', 'Municipio_domicilio_IES',\n",
       "       'Codigo_SNIES_programa', 'Programa_Academico', 'ID_Nivel_Academico',\n",
       "       'Nivel_Academico', 'ID_Nivel_Formacion', 'Nivel_Formacion',\n",
       "       'ID_Metodologia', 'Metodologia', 'ID_Area', 'Area_Conocimiento',\n",
       "       'Id_Nucleo', 'Nucleo_Basico_Conocimiento(NBC)',\n",
       "       'Codigo_Departamento(Programa)', 'Departamento_oferta_programa',\n",
       "       'Codigo_Municipio(Programa)', 'Municipio_oferta_del_programa',\n",
       "       'ID_Sexo', 'Sexo', 'Anio', 'Semestre', 'Primer_Curso_2016'],\n",
       "      dtype='object')"
      ]
     },
     "execution_count": 5,
     "metadata": {},
     "output_type": "execute_result"
    }
   ],
   "source": [
    "Matriculados_Prime.columns"
   ]
  },
  {
   "cell_type": "code",
   "execution_count": 13,
   "metadata": {
    "collapsed": false,
    "scrolled": false
   },
   "outputs": [
    {
     "data": {
      "text/html": [
       "<div>\n",
       "<table border=\"1\" class=\"dataframe\">\n",
       "  <thead>\n",
       "    <tr style=\"text-align: right;\">\n",
       "      <th></th>\n",
       "      <th>Codigo_Institucion</th>\n",
       "      <th>IES_PADRE</th>\n",
       "      <th>Institucion_Educacion_Superior(IES)</th>\n",
       "      <th>Principal_o_Seccional</th>\n",
       "      <th>ID_Sector_IES</th>\n",
       "      <th>Sector_IES</th>\n",
       "      <th>ID_Caracter</th>\n",
       "      <th>Caracter_IES</th>\n",
       "      <th>Codigo_departamento(IES)</th>\n",
       "      <th>Departamento_domicilio_IES</th>\n",
       "      <th>...</th>\n",
       "      <th>Nucleo_Basico_Conocimiento(NBC)</th>\n",
       "      <th>Codigo_Departamento(Programa)</th>\n",
       "      <th>Departamento_oferta_programa</th>\n",
       "      <th>Codigo_Municipio(Programa)</th>\n",
       "      <th>Municipio_oferta_del_programa</th>\n",
       "      <th>ID_Sexo</th>\n",
       "      <th>Sexo</th>\n",
       "      <th>Anio</th>\n",
       "      <th>Semestre</th>\n",
       "      <th>Primer_Curso_2016</th>\n",
       "    </tr>\n",
       "  </thead>\n",
       "  <tbody>\n",
       "    <tr>\n",
       "      <th>0</th>\n",
       "      <td>1101</td>\n",
       "      <td>1101</td>\n",
       "      <td>UNIVERSIDAD NACIONAL DE COLOMBIA</td>\n",
       "      <td>PRINCIPAL</td>\n",
       "      <td>1</td>\n",
       "      <td>Oficial</td>\n",
       "      <td>4</td>\n",
       "      <td>Universidad</td>\n",
       "      <td>11</td>\n",
       "      <td>Bogotá D.C</td>\n",
       "      <td>...</td>\n",
       "      <td>Ingeniería Agronómica, Pecuaria y Afines</td>\n",
       "      <td>11</td>\n",
       "      <td>Bogotá D.C</td>\n",
       "      <td>11001</td>\n",
       "      <td>Bogota</td>\n",
       "      <td>1</td>\n",
       "      <td>HOMBRE</td>\n",
       "      <td>2016</td>\n",
       "      <td>1</td>\n",
       "      <td>46</td>\n",
       "    </tr>\n",
       "    <tr>\n",
       "      <th>1</th>\n",
       "      <td>1101</td>\n",
       "      <td>1101</td>\n",
       "      <td>UNIVERSIDAD NACIONAL DE COLOMBIA</td>\n",
       "      <td>PRINCIPAL</td>\n",
       "      <td>1</td>\n",
       "      <td>Oficial</td>\n",
       "      <td>4</td>\n",
       "      <td>Universidad</td>\n",
       "      <td>11</td>\n",
       "      <td>Bogotá D.C</td>\n",
       "      <td>...</td>\n",
       "      <td>Medicina Veterinaria</td>\n",
       "      <td>11</td>\n",
       "      <td>Bogotá D.C</td>\n",
       "      <td>11001</td>\n",
       "      <td>Bogota</td>\n",
       "      <td>1</td>\n",
       "      <td>HOMBRE</td>\n",
       "      <td>2016</td>\n",
       "      <td>1</td>\n",
       "      <td>21</td>\n",
       "    </tr>\n",
       "    <tr>\n",
       "      <th>2</th>\n",
       "      <td>1101</td>\n",
       "      <td>1101</td>\n",
       "      <td>UNIVERSIDAD NACIONAL DE COLOMBIA</td>\n",
       "      <td>PRINCIPAL</td>\n",
       "      <td>1</td>\n",
       "      <td>Oficial</td>\n",
       "      <td>4</td>\n",
       "      <td>Universidad</td>\n",
       "      <td>11</td>\n",
       "      <td>Bogotá D.C</td>\n",
       "      <td>...</td>\n",
       "      <td>Zootecnia</td>\n",
       "      <td>11</td>\n",
       "      <td>Bogotá D.C</td>\n",
       "      <td>11001</td>\n",
       "      <td>Bogota</td>\n",
       "      <td>1</td>\n",
       "      <td>HOMBRE</td>\n",
       "      <td>2016</td>\n",
       "      <td>1</td>\n",
       "      <td>15</td>\n",
       "    </tr>\n",
       "  </tbody>\n",
       "</table>\n",
       "<p>3 rows × 33 columns</p>\n",
       "</div>"
      ],
      "text/plain": [
       "   Codigo_Institucion  IES_PADRE Institucion_Educacion_Superior(IES)  \\\n",
       "0                1101       1101    UNIVERSIDAD NACIONAL DE COLOMBIA   \n",
       "1                1101       1101    UNIVERSIDAD NACIONAL DE COLOMBIA   \n",
       "2                1101       1101    UNIVERSIDAD NACIONAL DE COLOMBIA   \n",
       "\n",
       "  Principal_o_Seccional  ID_Sector_IES Sector_IES  ID_Caracter Caracter_IES  \\\n",
       "0             PRINCIPAL              1    Oficial            4  Universidad   \n",
       "1             PRINCIPAL              1    Oficial            4  Universidad   \n",
       "2             PRINCIPAL              1    Oficial            4  Universidad   \n",
       "\n",
       "   Codigo_departamento(IES) Departamento_domicilio_IES        ...         \\\n",
       "0                        11                 Bogotá D.C        ...          \n",
       "1                        11                 Bogotá D.C        ...          \n",
       "2                        11                 Bogotá D.C        ...          \n",
       "\n",
       "            Nucleo_Basico_Conocimiento(NBC) Codigo_Departamento(Programa)  \\\n",
       "0  Ingeniería Agronómica, Pecuaria y Afines                            11   \n",
       "1                      Medicina Veterinaria                            11   \n",
       "2                                 Zootecnia                            11   \n",
       "\n",
       "   Departamento_oferta_programa Codigo_Municipio(Programa)  \\\n",
       "0                    Bogotá D.C                      11001   \n",
       "1                    Bogotá D.C                      11001   \n",
       "2                    Bogotá D.C                      11001   \n",
       "\n",
       "   Municipio_oferta_del_programa ID_Sexo    Sexo  Anio  Semestre  \\\n",
       "0                         Bogota       1  HOMBRE  2016         1   \n",
       "1                         Bogota       1  HOMBRE  2016         1   \n",
       "2                         Bogota       1  HOMBRE  2016         1   \n",
       "\n",
       "  Primer_Curso_2016  \n",
       "0                46  \n",
       "1                21  \n",
       "2                15  \n",
       "\n",
       "[3 rows x 33 columns]"
      ]
     },
     "execution_count": 13,
     "metadata": {},
     "output_type": "execute_result"
    }
   ],
   "source": [
    "#un head para ver ejemplos de los datos \n",
    "Matriculados_Prime.head(3)"
   ]
  },
  {
   "cell_type": "markdown",
   "metadata": {},
   "source": [
    "##  Total de Matriculados en el 2016 de todas las sedes de todas las universidades"
   ]
  },
  {
   "cell_type": "code",
   "execution_count": 15,
   "metadata": {
    "collapsed": false,
    "scrolled": true
   },
   "outputs": [
    {
     "data": {
      "text/plain": [
       "952988"
      ]
     },
     "execution_count": 15,
     "metadata": {},
     "output_type": "execute_result"
    }
   ],
   "source": [
    "sum(Matriculados_Prime[\"Primer_Curso_2016\"])"
   ]
  },
  {
   "cell_type": "markdown",
   "metadata": {},
   "source": [
    "Se puede agrupar los datos por institucion asi:"
   ]
  },
  {
   "cell_type": "code",
   "execution_count": 7,
   "metadata": {
    "collapsed": true
   },
   "outputs": [],
   "source": [
    "Matriculados_groups = Matriculados_Prime.groupby('Codigo_Institucion')"
   ]
  },
  {
   "cell_type": "code",
   "execution_count": 8,
   "metadata": {
    "collapsed": false,
    "scrolled": true
   },
   "outputs": [
    {
     "data": {
      "text/plain": [
       "dict_keys([2847, 2830, 1707, 4101, 4102, 1722, 3103, 1708, 4106, 4107, 4108, 4109, 4110, 2733, 4112, 9902, 9906, 9903, 3102, 2848, 2831, 2736, 3107, 1723, 4726, 2737, 3114, 3115, 3116, 2738, 4701, 4709, 1715, 4702, 2102, 2825, 2104, 2740, 2106, 2849, 2110, 2741, 2114, 2827, 1718, 4111, 2828, 1207, 3719, 1101, 1102, 1103, 1104, 2744, 1106, 1107, 1108, 1109, 1110, 1111, 1112, 1113, 1114, 1115, 1117, 1118, 1119, 1120, 1121, 1122, 1123, 4708, 1125, 1126, 2833, 1212, 4714, 2834, 2749, 4721, 1214, 3702, 3703, 2836, 3706, 1215, 3710, 1813, 3712, 1728, 3715, 3204, 2838, 3718, 1729, 3720, 5801, 3724, 1730, 2702, 9910, 2704, 2840, 2707, 2708, 2710, 2711, 2712, 2713, 2715, 2842, 2206, 1733, 2720, 2209, 2211, 2724, 1701, 1702, 1703, 1704, 1705, 2730, 2731, 2732, 1709, 1710, 1711, 1712, 1713, 1202, 1203, 1204, 1717, 1206, 1719, 1208, 2745, 2746, 2747, 1724, 1725, 1726, 1727, 1216, 1217, 1218, 1219, 1220, 1221, 1734, 1223, 4808, 4810, 4727, 4812, 2850, 4813, 4817, 4818, 2837, 4822, 3705, 3801, 4826, 3803, 4829, 3806, 3807, 3808, 3809, 3810, 3811, 3812, 3301, 3302, 3303, 1201, 3819, 3820, 3821, 2719, 3824, 3826, 3827, 9913, 2805, 3830, 3831, 2810, 2811, 2812, 2813, 2302, 2815, 3725, 2818, 2820, 2822, 2823, 2824, 1801, 1802, 1803, 1804, 1805, 1806, 1807, 1808, 1809, 1810, 1811, 1812, 1301, 1814, 1815, 1816, 1817, 1818, 1819, 1820, 1822, 1823, 1824, 1825, 1826, 1827, 1828, 1829, 1830, 1831, 1832, 1833, 1834, 1835, 9914, 4719, 1732, 4835, 2832, 4801, 3901, 3902, 4832, 9899, 5802, 3104, 2841, 2701, 1716, 2739, 2902, 2903, 2904, 2905, 2906, 4710, 4837, 9907, 1205, 9900, 4825, 1714, 4803, 3817, 9110, 3201, 1735, 9103, 9104, 9105, 9107, 9108, 4811, 1213, 3713, 3823, 9116, 9117, 9119, 9120, 9121, 9122, 9126, 9127, 9128, 9129, 9131, 9132, 3117, 4805, 3828, 2207, 3716, 2208, 9915, 9102, 2721, 1720, 2743, 4806, 2723, 1209, 9904, 3834, 2725, 2829, 1105, 2727, 2301, 2728, 2748, 1210, 9905, 1706, 2901])"
      ]
     },
     "execution_count": 8,
     "metadata": {},
     "output_type": "execute_result"
    }
   ],
   "source": [
    "Matriculados_groups.groups.keys()"
   ]
  },
  {
   "cell_type": "code",
   "execution_count": 9,
   "metadata": {
    "collapsed": false
   },
   "outputs": [
    {
     "name": "stdout",
     "output_type": "stream",
     "text": [
      "Hay: 316 grupos (sedes de Educacion Superior)\n"
     ]
    }
   ],
   "source": [
    "print(\"Hay:\", len(Matriculados_groups.groups.keys()), \"grupos (sedes de Educacion Superior)\")"
   ]
  },
  {
   "cell_type": "markdown",
   "metadata": {},
   "source": [
    "Se puede utilizar la siguiente funcion para obtener los grupos segun la institucion y ademas de eso los parametros que nos interezan y la cantidad de matriculados total"
   ]
  },
  {
   "cell_type": "code",
   "execution_count": 10,
   "metadata": {
    "collapsed": false
   },
   "outputs": [],
   "source": [
    "def get_enrolled(df):\n",
    "    return [set(df[\"Institucion_Educacion_Superior(IES)\"]), set(\"Principal_o_Seccional\"), set(df[\"ID_Sector_IES\"]), set(df[\"Sector_IES\"]), set(df[\"ID_Caracter\"]), set(df[\"Caracter_IES\"]), set(df[\"Codigo_departamento(IES)\"]), set(df[\"Departamento_domicilio_IES\"]), set(df[\"Codigo_Municipio(IES)\"]), set(df[\"Municipio_domicilio_IES\"]), set(df[\"ID_Sexo\"]), set(df[\"Sexo\"]), set(df[\"Semestre\"]), np.sum(df[\"Primer_Curso_2016\"])]"
   ]
  },
  {
   "cell_type": "markdown",
   "metadata": {},
   "source": [
    "Se puede agrupar por el nombre de la universidad, de esta manera no importa si es la sede principal o no, se obtiene un grupo por cada universidad incluyendo todas las sedes.  \n",
    "De esta manera podemos reducir el numero de grupos de 320 a 274"
   ]
  },
  {
   "cell_type": "code",
   "execution_count": 11,
   "metadata": {
    "collapsed": false
   },
   "outputs": [],
   "source": [
    "Matriculados_groups_info = Matriculados_Prime.groupby('Institucion_Educacion_Superior(IES)')"
   ]
  },
  {
   "cell_type": "code",
   "execution_count": 12,
   "metadata": {
    "collapsed": false,
    "scrolled": true
   },
   "outputs": [
    {
     "data": {
      "text/plain": [
       "272"
      ]
     },
     "execution_count": 12,
     "metadata": {},
     "output_type": "execute_result"
    }
   ],
   "source": [
    "len(Matriculados_groups_info.groups.keys())"
   ]
  },
  {
   "cell_type": "code",
   "execution_count": 13,
   "metadata": {
    "collapsed": false
   },
   "outputs": [],
   "source": [
    "tmp = Matriculados_groups_info.apply(get_enrolled)"
   ]
  },
  {
   "cell_type": "code",
   "execution_count": 14,
   "metadata": {
    "collapsed": false,
    "scrolled": false
   },
   "outputs": [
    {
     "data": {
      "text/plain": [
       "[{'CENTRO DE EDUCACION MILITAR - CEMIL'},\n",
       " {'P', 'S', '_', 'a', 'c', 'e', 'i', 'l', 'n', 'o', 'p', 'r'},\n",
       " {1},\n",
       " {'Oficial'},\n",
       " {3},\n",
       " {'Institución Universitaria/Escuela Tecnológica'},\n",
       " {11},\n",
       " {'Bogotá D.C'},\n",
       " {11001},\n",
       " {'Bogota'},\n",
       " {1, 2},\n",
       " {'HOMBRE', 'MUJER'},\n",
       " {1, 2},\n",
       " 1135]"
      ]
     },
     "execution_count": 14,
     "metadata": {},
     "output_type": "execute_result"
    }
   ],
   "source": [
    "tmp[0]"
   ]
  },
  {
   "cell_type": "markdown",
   "metadata": {},
   "source": [
    "Busco una manera de ver todas los posibles valores de las columnas asi:"
   ]
  },
  {
   "cell_type": "code",
   "execution_count": 15,
   "metadata": {
    "collapsed": false
   },
   "outputs": [
    {
     "data": {
      "text/plain": [
       "{'Doctorado',\n",
       " 'Especialización Médico Quirúrgica',\n",
       " 'Especialización Tecnológica',\n",
       " 'Especialización Técnico Profesional',\n",
       " 'Especialización Universitaria',\n",
       " 'Formación Técnica Profesional',\n",
       " 'Maestría',\n",
       " 'Tecnológica',\n",
       " 'Universitaria'}"
      ]
     },
     "execution_count": 15,
     "metadata": {},
     "output_type": "execute_result"
    }
   ],
   "source": [
    "set(Matriculados_Prime[\"Nivel_Formacion\"])"
   ]
  },
  {
   "cell_type": "markdown",
   "metadata": {
    "collapsed": true
   },
   "source": [
    "Existen varios niveles de formacion, y los que me interesan son los de nivel Universitario.  \n",
    "\n",
    "Entonces se decide agrupar por nivel de formacion:"
   ]
  },
  {
   "cell_type": "code",
   "execution_count": 16,
   "metadata": {
    "collapsed": true
   },
   "outputs": [],
   "source": [
    "Matriculados_groups_info = Matriculados_Prime.groupby('Nivel_Formacion')"
   ]
  },
  {
   "cell_type": "code",
   "execution_count": 17,
   "metadata": {
    "collapsed": false
   },
   "outputs": [
    {
     "data": {
      "text/plain": [
       "dict_keys(['Maestría', 'Especialización Técnico Profesional', 'Especialización Tecnológica', 'Universitaria', 'Especialización Médico Quirúrgica', 'Especialización Universitaria', 'Tecnológica', 'Formación Técnica Profesional', 'Doctorado'])"
      ]
     },
     "execution_count": 17,
     "metadata": {},
     "output_type": "execute_result"
    }
   ],
   "source": [
    "Matriculados_groups_info.groups.keys()"
   ]
  },
  {
   "cell_type": "code",
   "execution_count": 18,
   "metadata": {
    "collapsed": false
   },
   "outputs": [],
   "source": [
    "#Guardo en una variable el grupo\n",
    "University_NewStudents = Matriculados_groups_info.get_group('Universitaria')"
   ]
  },
  {
   "cell_type": "markdown",
   "metadata": {},
   "source": [
    "Obtengo el total de estudiantes que entraron a la universidad asi:"
   ]
  },
  {
   "cell_type": "code",
   "execution_count": 19,
   "metadata": {
    "collapsed": false,
    "scrolled": true
   },
   "outputs": [
    {
     "data": {
      "text/plain": [
       "482917"
      ]
     },
     "execution_count": 19,
     "metadata": {},
     "output_type": "execute_result"
    }
   ],
   "source": [
    "sum(University_NewStudents[\"Primer_Curso_2016\"])"
   ]
  },
  {
   "cell_type": "markdown",
   "metadata": {},
   "source": [
    "Para conocer el porcentaje que se busca, necesito dividir esta cifra en los dos semestres del año."
   ]
  },
  {
   "cell_type": "code",
   "execution_count": 20,
   "metadata": {
    "collapsed": false
   },
   "outputs": [],
   "source": [
    "Segun_Semestre = University_NewStudents.groupby('Semestre')"
   ]
  },
  {
   "cell_type": "code",
   "execution_count": 21,
   "metadata": {
    "collapsed": false
   },
   "outputs": [
    {
     "data": {
      "text/plain": [
       "dict_keys([1, 2])"
      ]
     },
     "execution_count": 21,
     "metadata": {},
     "output_type": "execute_result"
    }
   ],
   "source": [
    "Segun_Semestre.groups.keys()"
   ]
  },
  {
   "cell_type": "markdown",
   "metadata": {},
   "source": [
    "Guardo el grupo del primer semestre en una variable para poder tratar los datos"
   ]
  },
  {
   "cell_type": "code",
   "execution_count": 22,
   "metadata": {
    "collapsed": false
   },
   "outputs": [],
   "source": [
    "First_Semester = Segun_Semestre.get_group(1)"
   ]
  },
  {
   "cell_type": "markdown",
   "metadata": {},
   "source": [
    "Obtengo la cantidad (suma) de los estudiantes matriculados en primer curso, en el primer semestre del 2016"
   ]
  },
  {
   "cell_type": "code",
   "execution_count": 23,
   "metadata": {
    "collapsed": false
   },
   "outputs": [
    {
     "name": "stdout",
     "output_type": "stream",
     "text": [
      "Se matricularon: 272933 personas a primer curso en el semestre 1 del 2016\n"
     ]
    }
   ],
   "source": [
    "print(\"Se matricularon:\", sum(First_Semester[\"Primer_Curso_2016\"]), \"personas a primer curso en el semestre 1 del 2016\")"
   ]
  },
  {
   "cell_type": "markdown",
   "metadata": {},
   "source": [
    "Ahora calculare la cantidad de personas que hicieron el ICFES en el año 2015 en el semestre 2"
   ]
  },
  {
   "cell_type": "code",
   "execution_count": 54,
   "metadata": {
    "collapsed": false
   },
   "outputs": [
    {
     "data": {
      "text/plain": [
       "(573128, 86)"
      ]
     },
     "execution_count": 54,
     "metadata": {},
     "output_type": "execute_result"
    }
   ],
   "source": [
    "ICFES_2015.shape"
   ]
  },
  {
   "cell_type": "markdown",
   "metadata": {
    "collapsed": true
   },
   "source": [
    "### <span style=\"color: red;\"> Entonces podemos decir que el porcentaje de estudiantes que realizan el ICFES, y se matriculan en una institucion de educacion superior es:</span>"
   ]
  },
  {
   "cell_type": "code",
   "execution_count": 26,
   "metadata": {
    "collapsed": true
   },
   "outputs": [],
   "source": [
    "Percent = (sum(First_Semester[\"Primer_Curso_2016\"]) * 100)/ICFES_2015.shape[0]"
   ]
  },
  {
   "cell_type": "code",
   "execution_count": 44,
   "metadata": {
    "collapsed": false,
    "scrolled": true
   },
   "outputs": [
    {
     "name": "stdout",
     "output_type": "stream",
     "text": [
      "El 47.62% de los estudiantes ingresa a la educacion superior.\n"
     ]
    }
   ],
   "source": [
    "print(\"El \" + str(Percent)[:5] + \"% de los estudiantes ingresa a la educacion superior.\")"
   ]
  },
  {
   "cell_type": "markdown",
   "metadata": {
    "collapsed": true
   },
   "source": [
    "______"
   ]
  },
  {
   "cell_type": "markdown",
   "metadata": {
    "collapsed": true
   },
   "source": [
    "______"
   ]
  },
  {
   "cell_type": "markdown",
   "metadata": {
    "collapsed": true
   },
   "source": [
    "______"
   ]
  },
  {
   "cell_type": "markdown",
   "metadata": {},
   "source": [
    "# Porcentaje de acuerdo a los estudiantes Inscritos"
   ]
  },
  {
   "cell_type": "code",
   "execution_count": 14,
   "metadata": {
    "collapsed": false
   },
   "outputs": [],
   "source": [
    "Inscribed_prime = pd.read_csv(\"../DatosSPADIES/Inscritos_2016_15May2017.csv\", delimiter = \";\")"
   ]
  },
  {
   "cell_type": "markdown",
   "metadata": {},
   "source": [
    "Hay 6 columnas vacias al final.  \n",
    "Se eliminaran"
   ]
  },
  {
   "cell_type": "code",
   "execution_count": 15,
   "metadata": {
    "collapsed": false
   },
   "outputs": [],
   "source": [
    "Inscribed_prime.pop(\"Unnamed: 33\");\n",
    "Inscribed_prime.pop(\"Unnamed: 34\");\n",
    "Inscribed_prime.pop(\"Unnamed: 35\");\n",
    "Inscribed_prime.pop(\"Unnamed: 36\");\n",
    "Inscribed_prime.pop(\"Unnamed: 37\");\n",
    "Inscribed_prime.pop(\"Unnamed: 38\");"
   ]
  },
  {
   "cell_type": "code",
   "execution_count": 16,
   "metadata": {
    "collapsed": false,
    "scrolled": false
   },
   "outputs": [
    {
     "data": {
      "text/html": [
       "<div>\n",
       "<table border=\"1\" class=\"dataframe\">\n",
       "  <thead>\n",
       "    <tr style=\"text-align: right;\">\n",
       "      <th></th>\n",
       "      <th>Codigo_Institucion</th>\n",
       "      <th>IES_PADRE</th>\n",
       "      <th>ID_Sector_IES</th>\n",
       "      <th>ID_Caracter</th>\n",
       "      <th>Codigo_departamento(IES)</th>\n",
       "      <th>Codigo_Municipio(IES)</th>\n",
       "      <th>ID_Sexo</th>\n",
       "      <th>Anio</th>\n",
       "      <th>Semestre</th>\n",
       "      <th>Inscritos_2016</th>\n",
       "    </tr>\n",
       "  </thead>\n",
       "  <tbody>\n",
       "    <tr>\n",
       "      <th>count</th>\n",
       "      <td>42764.000000</td>\n",
       "      <td>42764.000000</td>\n",
       "      <td>42764.000000</td>\n",
       "      <td>42764.000000</td>\n",
       "      <td>42764.000000</td>\n",
       "      <td>42764.000000</td>\n",
       "      <td>42764.000000</td>\n",
       "      <td>42764.0</td>\n",
       "      <td>42764.000000</td>\n",
       "      <td>42764.000000</td>\n",
       "    </tr>\n",
       "    <tr>\n",
       "      <th>mean</th>\n",
       "      <td>3035.087620</td>\n",
       "      <td>3027.675638</td>\n",
       "      <td>1.512511</td>\n",
       "      <td>3.439225</td>\n",
       "      <td>21.608339</td>\n",
       "      <td>21638.865050</td>\n",
       "      <td>1.492236</td>\n",
       "      <td>2016.0</td>\n",
       "      <td>1.476896</td>\n",
       "      <td>50.369563</td>\n",
       "    </tr>\n",
       "    <tr>\n",
       "      <th>std</th>\n",
       "      <td>2487.893491</td>\n",
       "      <td>2481.121511</td>\n",
       "      <td>0.499849</td>\n",
       "      <td>0.829403</td>\n",
       "      <td>22.586452</td>\n",
       "      <td>22610.135506</td>\n",
       "      <td>0.499946</td>\n",
       "      <td>0.0</td>\n",
       "      <td>0.499472</td>\n",
       "      <td>199.801859</td>\n",
       "    </tr>\n",
       "    <tr>\n",
       "      <th>min</th>\n",
       "      <td>1101.000000</td>\n",
       "      <td>1101.000000</td>\n",
       "      <td>1.000000</td>\n",
       "      <td>1.000000</td>\n",
       "      <td>5.000000</td>\n",
       "      <td>5001.000000</td>\n",
       "      <td>1.000000</td>\n",
       "      <td>2016.0</td>\n",
       "      <td>1.000000</td>\n",
       "      <td>1.000000</td>\n",
       "    </tr>\n",
       "    <tr>\n",
       "      <th>25%</th>\n",
       "      <td>1710.000000</td>\n",
       "      <td>1710.000000</td>\n",
       "      <td>1.000000</td>\n",
       "      <td>3.000000</td>\n",
       "      <td>11.000000</td>\n",
       "      <td>11001.000000</td>\n",
       "      <td>1.000000</td>\n",
       "      <td>2016.0</td>\n",
       "      <td>1.000000</td>\n",
       "      <td>4.000000</td>\n",
       "    </tr>\n",
       "    <tr>\n",
       "      <th>50%</th>\n",
       "      <td>2102.000000</td>\n",
       "      <td>2102.000000</td>\n",
       "      <td>2.000000</td>\n",
       "      <td>4.000000</td>\n",
       "      <td>11.000000</td>\n",
       "      <td>11001.000000</td>\n",
       "      <td>1.000000</td>\n",
       "      <td>2016.0</td>\n",
       "      <td>1.000000</td>\n",
       "      <td>14.000000</td>\n",
       "    </tr>\n",
       "    <tr>\n",
       "      <th>75%</th>\n",
       "      <td>2833.000000</td>\n",
       "      <td>2833.000000</td>\n",
       "      <td>2.000000</td>\n",
       "      <td>4.000000</td>\n",
       "      <td>17.000000</td>\n",
       "      <td>17001.000000</td>\n",
       "      <td>2.000000</td>\n",
       "      <td>2016.0</td>\n",
       "      <td>2.000000</td>\n",
       "      <td>40.000000</td>\n",
       "    </tr>\n",
       "    <tr>\n",
       "      <th>max</th>\n",
       "      <td>9920.000000</td>\n",
       "      <td>9915.000000</td>\n",
       "      <td>2.000000</td>\n",
       "      <td>4.000000</td>\n",
       "      <td>91.000000</td>\n",
       "      <td>91001.000000</td>\n",
       "      <td>2.000000</td>\n",
       "      <td>2016.0</td>\n",
       "      <td>2.000000</td>\n",
       "      <td>14961.000000</td>\n",
       "    </tr>\n",
       "  </tbody>\n",
       "</table>\n",
       "</div>"
      ],
      "text/plain": [
       "       Codigo_Institucion     IES_PADRE  ID_Sector_IES   ID_Caracter  \\\n",
       "count        42764.000000  42764.000000   42764.000000  42764.000000   \n",
       "mean          3035.087620   3027.675638       1.512511      3.439225   \n",
       "std           2487.893491   2481.121511       0.499849      0.829403   \n",
       "min           1101.000000   1101.000000       1.000000      1.000000   \n",
       "25%           1710.000000   1710.000000       1.000000      3.000000   \n",
       "50%           2102.000000   2102.000000       2.000000      4.000000   \n",
       "75%           2833.000000   2833.000000       2.000000      4.000000   \n",
       "max           9920.000000   9915.000000       2.000000      4.000000   \n",
       "\n",
       "       Codigo_departamento(IES)  Codigo_Municipio(IES)       ID_Sexo     Anio  \\\n",
       "count              42764.000000           42764.000000  42764.000000  42764.0   \n",
       "mean                  21.608339           21638.865050      1.492236   2016.0   \n",
       "std                   22.586452           22610.135506      0.499946      0.0   \n",
       "min                    5.000000            5001.000000      1.000000   2016.0   \n",
       "25%                   11.000000           11001.000000      1.000000   2016.0   \n",
       "50%                   11.000000           11001.000000      1.000000   2016.0   \n",
       "75%                   17.000000           17001.000000      2.000000   2016.0   \n",
       "max                   91.000000           91001.000000      2.000000   2016.0   \n",
       "\n",
       "           Semestre  Inscritos_2016  \n",
       "count  42764.000000    42764.000000  \n",
       "mean       1.476896       50.369563  \n",
       "std        0.499472      199.801859  \n",
       "min        1.000000        1.000000  \n",
       "25%        1.000000        4.000000  \n",
       "50%        1.000000       14.000000  \n",
       "75%        2.000000       40.000000  \n",
       "max        2.000000    14961.000000  "
      ]
     },
     "execution_count": 16,
     "metadata": {},
     "output_type": "execute_result"
    }
   ],
   "source": [
    "Inscribed_prime.describe()"
   ]
  },
  {
   "cell_type": "code",
   "execution_count": 17,
   "metadata": {
    "collapsed": false,
    "scrolled": true
   },
   "outputs": [
    {
     "data": {
      "text/plain": [
       "Index(['Codigo_Institucion', 'IES_PADRE',\n",
       "       'Institucion_Educacion_Superior(IES)', 'Principal_o_Seccional',\n",
       "       'ID_Sector_IES', 'Sector_IES', 'ID_Caracter', 'Caracter_IES',\n",
       "       'Codigo_departamento(IES)', 'Departamento_domicilio_IES',\n",
       "       'Codigo_Municipio(IES)', 'Municipio_domicilio_IES',\n",
       "       'Codigo_SNIES_programa', 'Programa_Academico', 'ID_Nivel_Academico',\n",
       "       'Nivel_Academico', 'ID_Nivel_Formacion', 'Nivel_Formacion',\n",
       "       'ID_Metodologia', 'Metodologia', 'ID_Area', 'Area_Conocimiento',\n",
       "       'Id_Nucleo', 'Nucleo_Basico_Conocimiento(NBC)',\n",
       "       'Codigo_Departamento(Programa)', 'Departamento_oferta_programa',\n",
       "       'Codigo_Municipio(Programa)', 'Municipio_oferta_programa', 'ID_Sexo',\n",
       "       'Sexo', 'Anio', 'Semestre', 'Inscritos_2016'],\n",
       "      dtype='object')"
      ]
     },
     "execution_count": 17,
     "metadata": {},
     "output_type": "execute_result"
    }
   ],
   "source": [
    "Inscribed_prime.columns"
   ]
  },
  {
   "cell_type": "code",
   "execution_count": 27,
   "metadata": {
    "collapsed": false
   },
   "outputs": [
    {
     "data": {
      "text/plain": [
       "{'Doctorado',\n",
       " 'Especialización Médico Quirúrgica',\n",
       " 'Especialización Tecnológica',\n",
       " 'Especialización Técnico Profesional',\n",
       " 'Especialización Universitaria',\n",
       " 'Formación Técnica Profesional',\n",
       " 'Maestría',\n",
       " 'No aplica',\n",
       " 'Tecnológica',\n",
       " 'Universitaria'}"
      ]
     },
     "execution_count": 27,
     "metadata": {},
     "output_type": "execute_result"
    }
   ],
   "source": [
    "set(Inscribed_prime[\"Nivel_Formacion\"])"
   ]
  },
  {
   "cell_type": "code",
   "execution_count": 28,
   "metadata": {
    "collapsed": true
   },
   "outputs": [],
   "source": [
    "#hago grupos por el nivel de formacion\n",
    "Inscribed_groups = Inscribed_prime.groupby(\"Nivel_Formacion\")"
   ]
  },
  {
   "cell_type": "code",
   "execution_count": 34,
   "metadata": {
    "collapsed": false
   },
   "outputs": [],
   "source": [
    "#Tomo el grupo de nivel de formacion Universitaria\n",
    "Inscribed_U = Inscribed_groups.get_group(\"Universitaria\")"
   ]
  },
  {
   "cell_type": "code",
   "execution_count": 35,
   "metadata": {
    "collapsed": false
   },
   "outputs": [
    {
     "data": {
      "text/html": [
       "<div>\n",
       "<table border=\"1\" class=\"dataframe\">\n",
       "  <thead>\n",
       "    <tr style=\"text-align: right;\">\n",
       "      <th></th>\n",
       "      <th>Codigo_Institucion</th>\n",
       "      <th>IES_PADRE</th>\n",
       "      <th>ID_Sector_IES</th>\n",
       "      <th>ID_Caracter</th>\n",
       "      <th>Codigo_departamento(IES)</th>\n",
       "      <th>Codigo_Municipio(IES)</th>\n",
       "      <th>ID_Sexo</th>\n",
       "      <th>Anio</th>\n",
       "      <th>Semestre</th>\n",
       "      <th>Inscritos_2016</th>\n",
       "    </tr>\n",
       "  </thead>\n",
       "  <tbody>\n",
       "    <tr>\n",
       "      <th>count</th>\n",
       "      <td>17634.000000</td>\n",
       "      <td>17634.000000</td>\n",
       "      <td>17634.000000</td>\n",
       "      <td>17634.000000</td>\n",
       "      <td>17634.000000</td>\n",
       "      <td>17634.000000</td>\n",
       "      <td>17634.000000</td>\n",
       "      <td>17634.0</td>\n",
       "      <td>17634.000000</td>\n",
       "      <td>17634.000000</td>\n",
       "    </tr>\n",
       "    <tr>\n",
       "      <th>mean</th>\n",
       "      <td>2174.216570</td>\n",
       "      <td>2162.618011</td>\n",
       "      <td>1.527447</td>\n",
       "      <td>3.721334</td>\n",
       "      <td>24.290121</td>\n",
       "      <td>24327.298458</td>\n",
       "      <td>1.498185</td>\n",
       "      <td>2016.0</td>\n",
       "      <td>1.471929</td>\n",
       "      <td>57.768685</td>\n",
       "    </tr>\n",
       "    <tr>\n",
       "      <th>std</th>\n",
       "      <td>1276.281833</td>\n",
       "      <td>1247.154107</td>\n",
       "      <td>0.499260</td>\n",
       "      <td>0.504538</td>\n",
       "      <td>23.967160</td>\n",
       "      <td>23995.609180</td>\n",
       "      <td>0.500011</td>\n",
       "      <td>0.0</td>\n",
       "      <td>0.499226</td>\n",
       "      <td>146.347559</td>\n",
       "    </tr>\n",
       "    <tr>\n",
       "      <th>min</th>\n",
       "      <td>1101.000000</td>\n",
       "      <td>1101.000000</td>\n",
       "      <td>1.000000</td>\n",
       "      <td>1.000000</td>\n",
       "      <td>5.000000</td>\n",
       "      <td>5001.000000</td>\n",
       "      <td>1.000000</td>\n",
       "      <td>2016.0</td>\n",
       "      <td>1.000000</td>\n",
       "      <td>1.000000</td>\n",
       "    </tr>\n",
       "    <tr>\n",
       "      <th>25%</th>\n",
       "      <td>1704.000000</td>\n",
       "      <td>1704.000000</td>\n",
       "      <td>1.000000</td>\n",
       "      <td>3.000000</td>\n",
       "      <td>11.000000</td>\n",
       "      <td>11001.000000</td>\n",
       "      <td>1.000000</td>\n",
       "      <td>2016.0</td>\n",
       "      <td>1.000000</td>\n",
       "      <td>6.000000</td>\n",
       "    </tr>\n",
       "    <tr>\n",
       "      <th>50%</th>\n",
       "      <td>1832.000000</td>\n",
       "      <td>1832.000000</td>\n",
       "      <td>2.000000</td>\n",
       "      <td>4.000000</td>\n",
       "      <td>11.000000</td>\n",
       "      <td>11001.000000</td>\n",
       "      <td>1.000000</td>\n",
       "      <td>2016.0</td>\n",
       "      <td>1.000000</td>\n",
       "      <td>20.000000</td>\n",
       "    </tr>\n",
       "    <tr>\n",
       "      <th>75%</th>\n",
       "      <td>2719.000000</td>\n",
       "      <td>2719.000000</td>\n",
       "      <td>2.000000</td>\n",
       "      <td>4.000000</td>\n",
       "      <td>27.000000</td>\n",
       "      <td>27001.000000</td>\n",
       "      <td>2.000000</td>\n",
       "      <td>2016.0</td>\n",
       "      <td>2.000000</td>\n",
       "      <td>57.000000</td>\n",
       "    </tr>\n",
       "    <tr>\n",
       "      <th>max</th>\n",
       "      <td>9915.000000</td>\n",
       "      <td>9915.000000</td>\n",
       "      <td>2.000000</td>\n",
       "      <td>4.000000</td>\n",
       "      <td>86.000000</td>\n",
       "      <td>86001.000000</td>\n",
       "      <td>2.000000</td>\n",
       "      <td>2016.0</td>\n",
       "      <td>2.000000</td>\n",
       "      <td>6134.000000</td>\n",
       "    </tr>\n",
       "  </tbody>\n",
       "</table>\n",
       "</div>"
      ],
      "text/plain": [
       "       Codigo_Institucion     IES_PADRE  ID_Sector_IES   ID_Caracter  \\\n",
       "count        17634.000000  17634.000000   17634.000000  17634.000000   \n",
       "mean          2174.216570   2162.618011       1.527447      3.721334   \n",
       "std           1276.281833   1247.154107       0.499260      0.504538   \n",
       "min           1101.000000   1101.000000       1.000000      1.000000   \n",
       "25%           1704.000000   1704.000000       1.000000      3.000000   \n",
       "50%           1832.000000   1832.000000       2.000000      4.000000   \n",
       "75%           2719.000000   2719.000000       2.000000      4.000000   \n",
       "max           9915.000000   9915.000000       2.000000      4.000000   \n",
       "\n",
       "       Codigo_departamento(IES)  Codigo_Municipio(IES)       ID_Sexo     Anio  \\\n",
       "count              17634.000000           17634.000000  17634.000000  17634.0   \n",
       "mean                  24.290121           24327.298458      1.498185   2016.0   \n",
       "std                   23.967160           23995.609180      0.500011      0.0   \n",
       "min                    5.000000            5001.000000      1.000000   2016.0   \n",
       "25%                   11.000000           11001.000000      1.000000   2016.0   \n",
       "50%                   11.000000           11001.000000      1.000000   2016.0   \n",
       "75%                   27.000000           27001.000000      2.000000   2016.0   \n",
       "max                   86.000000           86001.000000      2.000000   2016.0   \n",
       "\n",
       "           Semestre  Inscritos_2016  \n",
       "count  17634.000000    17634.000000  \n",
       "mean       1.471929       57.768685  \n",
       "std        0.499226      146.347559  \n",
       "min        1.000000        1.000000  \n",
       "25%        1.000000        6.000000  \n",
       "50%        1.000000       20.000000  \n",
       "75%        2.000000       57.000000  \n",
       "max        2.000000     6134.000000  "
      ]
     },
     "execution_count": 35,
     "metadata": {},
     "output_type": "execute_result"
    }
   ],
   "source": [
    "Inscribed_U.describe()"
   ]
  },
  {
   "cell_type": "code",
   "execution_count": 37,
   "metadata": {
    "collapsed": false
   },
   "outputs": [
    {
     "data": {
      "text/plain": [
       "dict_keys([1, 2])"
      ]
     },
     "execution_count": 37,
     "metadata": {},
     "output_type": "execute_result"
    }
   ],
   "source": [
    "#Hago Grupos por semestre del año\n",
    "First_Semester_Inscribed = Inscribed_U.groupby(\"Semestre\")\n",
    "First_Semester_Inscribed.groups.keys()"
   ]
  },
  {
   "cell_type": "markdown",
   "metadata": {},
   "source": [
    "Teniendo el grupo del semestre 1 del año 2016, de los inscritos a un nivel universitario, HALLO la suma de los inscritos."
   ]
  },
  {
   "cell_type": "code",
   "execution_count": 43,
   "metadata": {
    "collapsed": false
   },
   "outputs": [],
   "source": [
    "Inscribed_2016 = sum(First_Semester_Inscribed.get_group(1)[\"Inscritos_2016\"])"
   ]
  },
  {
   "cell_type": "code",
   "execution_count": 83,
   "metadata": {
    "collapsed": false,
    "scrolled": true
   },
   "outputs": [
    {
     "name": "stdout",
     "output_type": "stream",
     "text": [
      "Se inscribieron: 618512 al primer semestre del año 2016 a la Universidad\n"
     ]
    }
   ],
   "source": [
    "print(\"Se inscribieron:\", Inscribed_2016, \"al primer semestre del año 2016 a la Universidad\")"
   ]
  },
  {
   "cell_type": "markdown",
   "metadata": {},
   "source": [
    "### <span style=\"color: red\">Entonces hallo el porcentaje deseado asi:</span>"
   ]
  },
  {
   "cell_type": "code",
   "execution_count": 84,
   "metadata": {
    "collapsed": true
   },
   "outputs": [],
   "source": [
    "Percent1 = (Inscribed_2016 * 100)/ICFES_2015.shape[0]"
   ]
  },
  {
   "cell_type": "code",
   "execution_count": 85,
   "metadata": {
    "collapsed": false,
    "scrolled": true
   },
   "outputs": [
    {
     "name": "stdout",
     "output_type": "stream",
     "text": [
      "El 107.9% de los estudiantes ingresa a la educacion superior.\n"
     ]
    }
   ],
   "source": [
    "print(\"El \" + str(Percent1)[:5] + \"% de los estudiantes ingresa a la educacion superior.\")"
   ]
  },
  {
   "cell_type": "markdown",
   "metadata": {},
   "source": [
    "# Porcentaje de acuerdo a los estudiantes Admitidos"
   ]
  },
  {
   "cell_type": "code",
   "execution_count": 69,
   "metadata": {
    "collapsed": false
   },
   "outputs": [],
   "source": [
    "Admitted_prime = pd.read_csv(\"../DatosSPADIES/admitidos2016.csv\", delimiter = \";\")"
   ]
  },
  {
   "cell_type": "code",
   "execution_count": 70,
   "metadata": {
    "collapsed": false,
    "scrolled": true
   },
   "outputs": [
    {
     "data": {
      "text/html": [
       "<div>\n",
       "<table border=\"1\" class=\"dataframe\">\n",
       "  <thead>\n",
       "    <tr style=\"text-align: right;\">\n",
       "      <th></th>\n",
       "      <th>Codigo_Institucion</th>\n",
       "      <th>IES_PADRE</th>\n",
       "      <th>Institucion_Educacion_Superior(IES)</th>\n",
       "      <th>Principal_o_Seccional</th>\n",
       "      <th>ID_Sector_IES</th>\n",
       "      <th>Sector_IES</th>\n",
       "      <th>ID_Caracter_IES</th>\n",
       "      <th>Caracter_IES</th>\n",
       "      <th>Codigo_departamento(IES)</th>\n",
       "      <th>Departamento_domicilio_IES</th>\n",
       "      <th>...</th>\n",
       "      <th>Sexo</th>\n",
       "      <th>Anio</th>\n",
       "      <th>Semestre</th>\n",
       "      <th>Admitidos_2016</th>\n",
       "      <th>Unnamed: 33</th>\n",
       "      <th>Unnamed: 34</th>\n",
       "      <th>Unnamed: 35</th>\n",
       "      <th>Unnamed: 36</th>\n",
       "      <th>Unnamed: 37</th>\n",
       "      <th>Unnamed: 38</th>\n",
       "    </tr>\n",
       "  </thead>\n",
       "  <tbody>\n",
       "    <tr>\n",
       "      <th>0</th>\n",
       "      <td>1101</td>\n",
       "      <td>1101</td>\n",
       "      <td>UNIVERSIDAD NACIONAL DE COLOMBIA</td>\n",
       "      <td>PRINCIPAL</td>\n",
       "      <td>1</td>\n",
       "      <td>OFICIAL</td>\n",
       "      <td>4</td>\n",
       "      <td>Universidad</td>\n",
       "      <td>11</td>\n",
       "      <td>BOGOTA D.C</td>\n",
       "      <td>...</td>\n",
       "      <td>HOMBRE</td>\n",
       "      <td>2016</td>\n",
       "      <td>1</td>\n",
       "      <td>46</td>\n",
       "      <td>NaN</td>\n",
       "      <td>NaN</td>\n",
       "      <td>NaN</td>\n",
       "      <td>NaN</td>\n",
       "      <td>NaN</td>\n",
       "      <td>NaN</td>\n",
       "    </tr>\n",
       "    <tr>\n",
       "      <th>1</th>\n",
       "      <td>1101</td>\n",
       "      <td>1101</td>\n",
       "      <td>UNIVERSIDAD NACIONAL DE COLOMBIA</td>\n",
       "      <td>PRINCIPAL</td>\n",
       "      <td>1</td>\n",
       "      <td>OFICIAL</td>\n",
       "      <td>4</td>\n",
       "      <td>Universidad</td>\n",
       "      <td>11</td>\n",
       "      <td>BOGOTA D.C</td>\n",
       "      <td>...</td>\n",
       "      <td>HOMBRE</td>\n",
       "      <td>2016</td>\n",
       "      <td>2</td>\n",
       "      <td>91</td>\n",
       "      <td>NaN</td>\n",
       "      <td>NaN</td>\n",
       "      <td>NaN</td>\n",
       "      <td>NaN</td>\n",
       "      <td>NaN</td>\n",
       "      <td>NaN</td>\n",
       "    </tr>\n",
       "    <tr>\n",
       "      <th>2</th>\n",
       "      <td>1101</td>\n",
       "      <td>1101</td>\n",
       "      <td>UNIVERSIDAD NACIONAL DE COLOMBIA</td>\n",
       "      <td>PRINCIPAL</td>\n",
       "      <td>1</td>\n",
       "      <td>OFICIAL</td>\n",
       "      <td>4</td>\n",
       "      <td>Universidad</td>\n",
       "      <td>11</td>\n",
       "      <td>BOGOTA D.C</td>\n",
       "      <td>...</td>\n",
       "      <td>MUJER</td>\n",
       "      <td>2016</td>\n",
       "      <td>1</td>\n",
       "      <td>27</td>\n",
       "      <td>NaN</td>\n",
       "      <td>NaN</td>\n",
       "      <td>NaN</td>\n",
       "      <td>NaN</td>\n",
       "      <td>NaN</td>\n",
       "      <td>NaN</td>\n",
       "    </tr>\n",
       "  </tbody>\n",
       "</table>\n",
       "<p>3 rows × 39 columns</p>\n",
       "</div>"
      ],
      "text/plain": [
       "   Codigo_Institucion  IES_PADRE Institucion_Educacion_Superior(IES)  \\\n",
       "0                1101       1101    UNIVERSIDAD NACIONAL DE COLOMBIA   \n",
       "1                1101       1101    UNIVERSIDAD NACIONAL DE COLOMBIA   \n",
       "2                1101       1101    UNIVERSIDAD NACIONAL DE COLOMBIA   \n",
       "\n",
       "  Principal_o_Seccional  ID_Sector_IES Sector_IES  ID_Caracter_IES  \\\n",
       "0             PRINCIPAL              1    OFICIAL                4   \n",
       "1             PRINCIPAL              1    OFICIAL                4   \n",
       "2             PRINCIPAL              1    OFICIAL                4   \n",
       "\n",
       "  Caracter_IES  Codigo_departamento(IES) Departamento_domicilio_IES  \\\n",
       "0  Universidad                        11                 BOGOTA D.C   \n",
       "1  Universidad                        11                 BOGOTA D.C   \n",
       "2  Universidad                        11                 BOGOTA D.C   \n",
       "\n",
       "      ...        Sexo  Anio  Semestre Admitidos_2016  Unnamed: 33 Unnamed: 34  \\\n",
       "0     ...      HOMBRE  2016         1             46          NaN         NaN   \n",
       "1     ...      HOMBRE  2016         2             91          NaN         NaN   \n",
       "2     ...       MUJER  2016         1             27          NaN         NaN   \n",
       "\n",
       "   Unnamed: 35 Unnamed: 36  Unnamed: 37 Unnamed: 38  \n",
       "0          NaN         NaN          NaN         NaN  \n",
       "1          NaN         NaN          NaN         NaN  \n",
       "2          NaN         NaN          NaN         NaN  \n",
       "\n",
       "[3 rows x 39 columns]"
      ]
     },
     "execution_count": 70,
     "metadata": {},
     "output_type": "execute_result"
    }
   ],
   "source": [
    "Admitted_prime.head(3)"
   ]
  },
  {
   "cell_type": "markdown",
   "metadata": {},
   "source": [
    "De nuevo se encuentran 6 columnas vacias.  \n",
    "Se eliminaran enseguida"
   ]
  },
  {
   "cell_type": "code",
   "execution_count": 71,
   "metadata": {
    "collapsed": false
   },
   "outputs": [],
   "source": [
    "Admitted_prime.pop(\"Unnamed: 33\");\n",
    "Admitted_prime.pop(\"Unnamed: 34\");\n",
    "Admitted_prime.pop(\"Unnamed: 35\");\n",
    "Admitted_prime.pop(\"Unnamed: 36\");\n",
    "Admitted_prime.pop(\"Unnamed: 37\");\n",
    "Admitted_prime.pop(\"Unnamed: 38\");"
   ]
  },
  {
   "cell_type": "code",
   "execution_count": 72,
   "metadata": {
    "collapsed": false,
    "scrolled": false
   },
   "outputs": [
    {
     "data": {
      "text/html": [
       "<div>\n",
       "<table border=\"1\" class=\"dataframe\">\n",
       "  <thead>\n",
       "    <tr style=\"text-align: right;\">\n",
       "      <th></th>\n",
       "      <th>Codigo_Institucion</th>\n",
       "      <th>IES_PADRE</th>\n",
       "      <th>ID_Sector_IES</th>\n",
       "      <th>ID_Caracter_IES</th>\n",
       "      <th>Codigo_departamento(IES)</th>\n",
       "      <th>Codigo_Municipio(IES)</th>\n",
       "      <th>Codigo_SNIES_del_programa</th>\n",
       "      <th>ID_Nivel_Academico</th>\n",
       "      <th>ID_Nivel_Formacion</th>\n",
       "      <th>ID_Metodologia</th>\n",
       "      <th>ID_Area</th>\n",
       "      <th>Codigo_Departamento(Programa)</th>\n",
       "      <th>Codigo_Municipio(Programa)</th>\n",
       "      <th>Anio</th>\n",
       "      <th>Semestre</th>\n",
       "      <th>Admitidos_2016</th>\n",
       "    </tr>\n",
       "  </thead>\n",
       "  <tbody>\n",
       "    <tr>\n",
       "      <th>count</th>\n",
       "      <td>41219.000000</td>\n",
       "      <td>41219.000000</td>\n",
       "      <td>41219.000000</td>\n",
       "      <td>41219.000000</td>\n",
       "      <td>41219.000000</td>\n",
       "      <td>41219.000000</td>\n",
       "      <td>41219.000000</td>\n",
       "      <td>41219.000000</td>\n",
       "      <td>41219.000000</td>\n",
       "      <td>41219.000000</td>\n",
       "      <td>41219.000000</td>\n",
       "      <td>41219.000000</td>\n",
       "      <td>41219.000000</td>\n",
       "      <td>41219.0</td>\n",
       "      <td>41219.000000</td>\n",
       "      <td>41219.000000</td>\n",
       "    </tr>\n",
       "    <tr>\n",
       "      <th>mean</th>\n",
       "      <td>3063.182367</td>\n",
       "      <td>3056.280696</td>\n",
       "      <td>1.528227</td>\n",
       "      <td>3.428225</td>\n",
       "      <td>21.907591</td>\n",
       "      <td>21938.117276</td>\n",
       "      <td>54343.204784</td>\n",
       "      <td>1.292438</td>\n",
       "      <td>4.520779</td>\n",
       "      <td>1.319028</td>\n",
       "      <td>5.727990</td>\n",
       "      <td>30.604018</td>\n",
       "      <td>30696.959024</td>\n",
       "      <td>2016.0</td>\n",
       "      <td>1.483127</td>\n",
       "      <td>28.625537</td>\n",
       "    </tr>\n",
       "    <tr>\n",
       "      <th>std</th>\n",
       "      <td>2531.206298</td>\n",
       "      <td>2525.135603</td>\n",
       "      <td>0.499209</td>\n",
       "      <td>0.834392</td>\n",
       "      <td>22.969797</td>\n",
       "      <td>22992.998714</td>\n",
       "      <td>42574.986460</td>\n",
       "      <td>0.454888</td>\n",
       "      <td>2.084110</td>\n",
       "      <td>0.630988</td>\n",
       "      <td>2.002656</td>\n",
       "      <td>26.951368</td>\n",
       "      <td>26979.417887</td>\n",
       "      <td>0.0</td>\n",
       "      <td>0.499721</td>\n",
       "      <td>80.422039</td>\n",
       "    </tr>\n",
       "    <tr>\n",
       "      <th>min</th>\n",
       "      <td>1101.000000</td>\n",
       "      <td>1101.000000</td>\n",
       "      <td>1.000000</td>\n",
       "      <td>1.000000</td>\n",
       "      <td>5.000000</td>\n",
       "      <td>5001.000000</td>\n",
       "      <td>1.000000</td>\n",
       "      <td>1.000000</td>\n",
       "      <td>1.000000</td>\n",
       "      <td>1.000000</td>\n",
       "      <td>1.000000</td>\n",
       "      <td>5.000000</td>\n",
       "      <td>5001.000000</td>\n",
       "      <td>2016.0</td>\n",
       "      <td>1.000000</td>\n",
       "      <td>1.000000</td>\n",
       "    </tr>\n",
       "    <tr>\n",
       "      <th>25%</th>\n",
       "      <td>1709.000000</td>\n",
       "      <td>1709.000000</td>\n",
       "      <td>1.000000</td>\n",
       "      <td>3.000000</td>\n",
       "      <td>11.000000</td>\n",
       "      <td>11001.000000</td>\n",
       "      <td>8322.000000</td>\n",
       "      <td>1.000000</td>\n",
       "      <td>2.000000</td>\n",
       "      <td>1.000000</td>\n",
       "      <td>5.000000</td>\n",
       "      <td>11.000000</td>\n",
       "      <td>11001.000000</td>\n",
       "      <td>2016.0</td>\n",
       "      <td>1.000000</td>\n",
       "      <td>4.000000</td>\n",
       "    </tr>\n",
       "    <tr>\n",
       "      <th>50%</th>\n",
       "      <td>2102.000000</td>\n",
       "      <td>2102.000000</td>\n",
       "      <td>2.000000</td>\n",
       "      <td>4.000000</td>\n",
       "      <td>11.000000</td>\n",
       "      <td>11001.000000</td>\n",
       "      <td>53703.000000</td>\n",
       "      <td>1.000000</td>\n",
       "      <td>5.000000</td>\n",
       "      <td>1.000000</td>\n",
       "      <td>6.000000</td>\n",
       "      <td>15.000000</td>\n",
       "      <td>15176.000000</td>\n",
       "      <td>2016.0</td>\n",
       "      <td>1.000000</td>\n",
       "      <td>12.000000</td>\n",
       "    </tr>\n",
       "    <tr>\n",
       "      <th>75%</th>\n",
       "      <td>2834.000000</td>\n",
       "      <td>2833.000000</td>\n",
       "      <td>2.000000</td>\n",
       "      <td>4.000000</td>\n",
       "      <td>17.000000</td>\n",
       "      <td>17001.000000</td>\n",
       "      <td>101778.000000</td>\n",
       "      <td>2.000000</td>\n",
       "      <td>6.000000</td>\n",
       "      <td>1.000000</td>\n",
       "      <td>8.000000</td>\n",
       "      <td>54.000000</td>\n",
       "      <td>54518.000000</td>\n",
       "      <td>2016.0</td>\n",
       "      <td>2.000000</td>\n",
       "      <td>30.000000</td>\n",
       "    </tr>\n",
       "    <tr>\n",
       "      <th>max</th>\n",
       "      <td>9915.000000</td>\n",
       "      <td>9915.000000</td>\n",
       "      <td>2.000000</td>\n",
       "      <td>4.000000</td>\n",
       "      <td>91.000000</td>\n",
       "      <td>91001.000000</td>\n",
       "      <td>106062.000000</td>\n",
       "      <td>2.000000</td>\n",
       "      <td>10.000000</td>\n",
       "      <td>3.000000</td>\n",
       "      <td>9.000000</td>\n",
       "      <td>99.000000</td>\n",
       "      <td>99001.000000</td>\n",
       "      <td>2016.0</td>\n",
       "      <td>2.000000</td>\n",
       "      <td>4211.000000</td>\n",
       "    </tr>\n",
       "  </tbody>\n",
       "</table>\n",
       "</div>"
      ],
      "text/plain": [
       "       Codigo_Institucion     IES_PADRE  ID_Sector_IES  ID_Caracter_IES  \\\n",
       "count        41219.000000  41219.000000   41219.000000     41219.000000   \n",
       "mean          3063.182367   3056.280696       1.528227         3.428225   \n",
       "std           2531.206298   2525.135603       0.499209         0.834392   \n",
       "min           1101.000000   1101.000000       1.000000         1.000000   \n",
       "25%           1709.000000   1709.000000       1.000000         3.000000   \n",
       "50%           2102.000000   2102.000000       2.000000         4.000000   \n",
       "75%           2834.000000   2833.000000       2.000000         4.000000   \n",
       "max           9915.000000   9915.000000       2.000000         4.000000   \n",
       "\n",
       "       Codigo_departamento(IES)  Codigo_Municipio(IES)  \\\n",
       "count              41219.000000           41219.000000   \n",
       "mean                  21.907591           21938.117276   \n",
       "std                   22.969797           22992.998714   \n",
       "min                    5.000000            5001.000000   \n",
       "25%                   11.000000           11001.000000   \n",
       "50%                   11.000000           11001.000000   \n",
       "75%                   17.000000           17001.000000   \n",
       "max                   91.000000           91001.000000   \n",
       "\n",
       "       Codigo_SNIES_del_programa  ID_Nivel_Academico  ID_Nivel_Formacion  \\\n",
       "count               41219.000000        41219.000000        41219.000000   \n",
       "mean                54343.204784            1.292438            4.520779   \n",
       "std                 42574.986460            0.454888            2.084110   \n",
       "min                     1.000000            1.000000            1.000000   \n",
       "25%                  8322.000000            1.000000            2.000000   \n",
       "50%                 53703.000000            1.000000            5.000000   \n",
       "75%                101778.000000            2.000000            6.000000   \n",
       "max                106062.000000            2.000000           10.000000   \n",
       "\n",
       "       ID_Metodologia       ID_Area  Codigo_Departamento(Programa)  \\\n",
       "count    41219.000000  41219.000000                   41219.000000   \n",
       "mean         1.319028      5.727990                      30.604018   \n",
       "std          0.630988      2.002656                      26.951368   \n",
       "min          1.000000      1.000000                       5.000000   \n",
       "25%          1.000000      5.000000                      11.000000   \n",
       "50%          1.000000      6.000000                      15.000000   \n",
       "75%          1.000000      8.000000                      54.000000   \n",
       "max          3.000000      9.000000                      99.000000   \n",
       "\n",
       "       Codigo_Municipio(Programa)     Anio      Semestre  Admitidos_2016  \n",
       "count                41219.000000  41219.0  41219.000000    41219.000000  \n",
       "mean                 30696.959024   2016.0      1.483127       28.625537  \n",
       "std                  26979.417887      0.0      0.499721       80.422039  \n",
       "min                   5001.000000   2016.0      1.000000        1.000000  \n",
       "25%                  11001.000000   2016.0      1.000000        4.000000  \n",
       "50%                  15176.000000   2016.0      1.000000       12.000000  \n",
       "75%                  54518.000000   2016.0      2.000000       30.000000  \n",
       "max                  99001.000000   2016.0      2.000000     4211.000000  "
      ]
     },
     "execution_count": 72,
     "metadata": {},
     "output_type": "execute_result"
    }
   ],
   "source": [
    "Admitted_prime.describe()"
   ]
  },
  {
   "cell_type": "code",
   "execution_count": 75,
   "metadata": {
    "collapsed": false
   },
   "outputs": [
    {
     "data": {
      "text/plain": [
       "Index(['Codigo_Institucion', 'IES_PADRE',\n",
       "       'Institucion_Educacion_Superior(IES)', 'Principal_o_Seccional',\n",
       "       'ID_Sector_IES', 'Sector_IES', 'ID_Caracter_IES', 'Caracter_IES',\n",
       "       'Codigo_departamento(IES)', 'Departamento_domicilio_IES',\n",
       "       'Codigo_Municipio(IES)', 'Municipio_domicilio_IES',\n",
       "       'Codigo_SNIES_del_programa', 'Programa_Academico', 'ID_Nivel_Academico',\n",
       "       'Nivel_Academico', 'ID_Nivel_Formacion', 'Nivel_Formacion',\n",
       "       'ID_Metodologia', 'Metodologia', 'ID_Area', 'Area_Conocimiento',\n",
       "       'Id_Nucleo', 'Nucleo_Basico_Conocimiento(NBC)',\n",
       "       'Codigo_Departamento(Programa)', 'Departamento_de_oferta_programa',\n",
       "       'Codigo_Municipio(Programa)', 'Municipio_oferta_del_programa',\n",
       "       'ID_Sexo', 'Sexo', 'Anio', 'Semestre', 'Admitidos_2016'],\n",
       "      dtype='object')"
      ]
     },
     "execution_count": 75,
     "metadata": {},
     "output_type": "execute_result"
    }
   ],
   "source": [
    "Admitted_prime.columns"
   ]
  },
  {
   "cell_type": "code",
   "execution_count": 74,
   "metadata": {
    "collapsed": false,
    "scrolled": true
   },
   "outputs": [
    {
     "data": {
      "text/plain": [
       "{'Doctorado',\n",
       " 'Especialización Médico Quirúrgica',\n",
       " 'Especialización Tecnológica',\n",
       " 'Especialización Técnico Profesion',\n",
       " 'Especialización Universitaria',\n",
       " 'Formación técnica profesional',\n",
       " 'Maestría',\n",
       " 'Tecnológica',\n",
       " 'Universitaria'}"
      ]
     },
     "execution_count": 74,
     "metadata": {},
     "output_type": "execute_result"
    }
   ],
   "source": [
    "set(Admitted_prime[\"Nivel_Formacion\"])"
   ]
  },
  {
   "cell_type": "code",
   "execution_count": 76,
   "metadata": {
    "collapsed": true
   },
   "outputs": [],
   "source": [
    "Admitted_groups = Admitted_prime.groupby(\"Nivel_Formacion\")"
   ]
  },
  {
   "cell_type": "code",
   "execution_count": 77,
   "metadata": {
    "collapsed": false
   },
   "outputs": [
    {
     "data": {
      "text/plain": [
       "dict_keys(['Formación técnica profesional', 'Especialización Universitaria', 'Tecnológica', 'Especialización Tecnológica', 'Especialización Médico Quirúrgica', 'Maestría', 'Universitaria', 'Especialización Técnico Profesion', 'Doctorado'])"
      ]
     },
     "execution_count": 77,
     "metadata": {},
     "output_type": "execute_result"
    }
   ],
   "source": [
    "Admitted_groups.groups.keys()"
   ]
  },
  {
   "cell_type": "code",
   "execution_count": 78,
   "metadata": {
    "collapsed": true
   },
   "outputs": [],
   "source": [
    "Admitted_Nivel = Admitted_groups.get_group(\"Universitaria\")"
   ]
  },
  {
   "cell_type": "code",
   "execution_count": 79,
   "metadata": {
    "collapsed": false
   },
   "outputs": [
    {
     "data": {
      "text/plain": [
       "dict_keys([1, 2])"
      ]
     },
     "execution_count": 79,
     "metadata": {},
     "output_type": "execute_result"
    }
   ],
   "source": [
    "First_Admitted = Admitted_Nivel.groupby(\"Semestre\")\n",
    "First_Admitted.groups.keys()"
   ]
  },
  {
   "cell_type": "code",
   "execution_count": 81,
   "metadata": {
    "collapsed": false
   },
   "outputs": [],
   "source": [
    "Admitted_2016 = sum(First_Admitted.get_group(1)[\"Admitidos_2016\"])"
   ]
  },
  {
   "cell_type": "code",
   "execution_count": 82,
   "metadata": {
    "collapsed": false,
    "scrolled": false
   },
   "outputs": [
    {
     "name": "stdout",
     "output_type": "stream",
     "text": [
      "Fueron admitidos: 340406 al primer semestre del año 2016 a la Universidad\n"
     ]
    }
   ],
   "source": [
    "print(\"Fueron admitidos:\", Admitted_2016, \"al primer semestre del año 2016 a la Universidad\")"
   ]
  },
  {
   "cell_type": "markdown",
   "metadata": {},
   "source": [
    "### <span style=\"color: red\" >Se halla el porcentaje:</span>"
   ]
  },
  {
   "cell_type": "code",
   "execution_count": 86,
   "metadata": {
    "collapsed": true
   },
   "outputs": [],
   "source": [
    "Percent2 = (Admitted_2016 * 100)/ICFES_2015.shape[0]"
   ]
  },
  {
   "cell_type": "code",
   "execution_count": 87,
   "metadata": {
    "collapsed": false,
    "scrolled": true
   },
   "outputs": [
    {
     "name": "stdout",
     "output_type": "stream",
     "text": [
      "El 59.39% de los estudiantes ingresa a la educacion superior.\n"
     ]
    }
   ],
   "source": [
    "print(\"El \" + str(Percent2)[:5] + \"% de los estudiantes ingresa a la educacion superior.\")"
   ]
  },
  {
   "cell_type": "markdown",
   "metadata": {},
   "source": [
    "# Conclusiones  \n",
    "\n",
    "- Los archivos tenian algunas cosas por corregir en los nombres de las columnas, todo se arreglo usando la Herramienta **VIM** de *Linux*  \n",
    "- Segun el primer analisis realizado, se encontro que los estudiantes matriculados equivalen al **47.62%** de los estudiantes que realizaron el ICFES en el año 2015 en el segundo semestre.\n",
    "- En el analisis realizado a los Inscritos se encuentra que la cantidad de personas que se inscriben es mayor a los que presentaron el ICFES en el semestre anterior, y se encuentra un porcentaje ilogico (**107.9%**) la razon de esto es que hay personas que presentaron el ICFES en otros semestres y se inscribieron a la universidad en este por diversas razones (tales como que no fueron aceptados en semestres anteriores y lo quieren intentar de nuevo), por tanto se descarta este dato encontrado  \n",
    "- Segun lo encontrado en el tercer analisis los admitidos en la universidad en el año 2016 equivalen al **59.39%** de los que realizaron el ICFES en el semestre 2 del año 2015"
   ]
  }
 ],
 "metadata": {
  "kernelspec": {
   "display_name": "Python 3 + Anaconda",
   "language": "python",
   "name": "pyconda3"
  },
  "language_info": {
   "codemirror_mode": {
    "name": "ipython",
    "version": 3
   },
   "file_extension": ".py",
   "mimetype": "text/x-python",
   "name": "python",
   "nbconvert_exporter": "python",
   "pygments_lexer": "ipython3",
   "version": "3.5.1"
  }
 },
 "nbformat": 4,
 "nbformat_minor": 0
}
