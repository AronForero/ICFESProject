{
 "cells": [
  {
   "cell_type": "markdown",
   "metadata": {},
   "source": [
    "## CREACION DEL DATAFRAME DE INFORMACION DE LOS FICHEROS"
   ]
  },
  {
   "cell_type": "markdown",
   "metadata": {},
   "source": [
    "Para la creacion de este nuevo DataFrame utilizare una nueva funcion que estara escrita en el archivo externo *functions.py*  \n",
    "Ademas de eso se tendran que cargar los ficheros completos.  \n",
    "\n",
    "Se encontraron errores en varias lineas de los siguientes archivos:\n",
    " - 2002_2\n",
    " - 2003_2\n",
    " - 2006_1\n",
    " - 2007_1\n",
    "\n",
    "Todos estos errores se solucionaron manualmente utilizando la herramienta ***VIM*** "
   ]
  },
  {
   "cell_type": "code",
   "execution_count": 3,
   "metadata": {
    "collapsed": true
   },
   "outputs": [],
   "source": [
    "import pandas as pd\n",
    "import numpy as np\n",
    "import matplotlib.pyplot as plt\n",
    "%run -i ../tools/functions.py\n",
    "%matplotlib inline"
   ]
  },
  {
   "cell_type": "code",
   "execution_count": null,
   "metadata": {
    "collapsed": false,
    "scrolled": true
   },
   "outputs": [],
   "source": [
    "file = pd.read_csv(\"../DatosFTPICFES/SABER11/SB11-BASES_DE_DATOS/SB11-20001-RGSTRO-CLFCCN-V1-0.txt\", delimiter=\"|\",\n",
    "                   encoding=\"iso-8859-1\")\n",
    "file05 = pd.read_csv(\"../DatosFTPICFES/SABER11/SB11-BASES_DE_DATOS/SB11-20002-RGSTRO-CLFCCN-V1-0.txt\", delimiter=\"|\",\n",
    "                    encoding=\"iso-8859-1\")\n",
    "####################################################################################################################\n",
    "file1 = pd.read_csv(\"../DatosFTPICFES/SABER11/SB11-BASES_DE_DATOS/SB11-20011-RGSTRO-CLFCCN-V1-0.txt\", delimiter=\"|\", \n",
    "                    encoding=\"iso-8859-1\")\n",
    "file1_5 = pd.read_csv(\"../DatosFTPICFES/SABER11/SB11-BASES_DE_DATOS/SB11-20012-RGSTRO-CLFCCN-V1-0.txt\", delimiter=\"|\",\n",
    "                     encoding=\"iso-8859-1\")\n",
    "####################################################################################################################\n",
    "file2 = pd.read_csv(\"../DatosFTPICFES/SABER11/SB11-BASES_DE_DATOS/SB11-20021-RGSTRO-CLFCCN-V1-0.txt\", delimiter=\"|\",\n",
    "                    encoding=\"iso-8859-1\")\n",
    "file25 = pd.read_csv(\"../DatosFTPICFES/SABER11/SB11-BASES_DE_DATOS/SB11-20022-RGSTRO-CLFCCN-V1-0.txt\", delimiter=\"|\", \n",
    "                    encoding=\"iso-8859-1\")\n",
    "####################################################################################################################\n",
    "file3 = pd.read_csv(\"../DatosFTPICFES/SABER11/SB11-BASES_DE_DATOS/SB11-20031-RGSTRO-CLFCCN-V1-0.txt\", delimiter=\"|\",\n",
    "                    encoding=\"iso-8859-1\")\n",
    "file35 = pd.read_csv(\"../DatosFTPICFES/SABER11/SB11-BASES_DE_DATOS/SB11-20032-RGSTRO-CLFCCN-V1-0.txt\", delimiter=\"|\",\n",
    "                    encoding=\"iso-8859-1\")\n",
    "####################################################################################################################\n",
    "file4 = pd.read_csv(\"../DatosFTPICFES/SABER11/SB11-BASES_DE_DATOS/SB11-20041-RGSTRO-CLFCCN-V1-0.txt\", delimiter=\"|\",\n",
    "                    encoding=\"iso-8859-1\")\n",
    "file45 = pd.read_csv(\"../DatosFTPICFES/SABER11/SB11-BASES_DE_DATOS/SB11-20042-RGSTRO-CLFCCN-V1-0.txt\", delimiter=\"|\",\n",
    "                    encoding=\"iso-8859-1\")\n",
    "####################################################################################################################\n",
    "file5 = pd.read_csv(\"../DatosFTPICFES/SABER11/SB11-BASES_DE_DATOS/SB11-20051-RGSTRO-CLFCCN-V1-0.txt\", delimiter=\"|\",\n",
    "                    encoding=\"iso-8859-1\")\n",
    "file55 = pd.read_csv(\"../DatosFTPICFES/SABER11/SB11-BASES_DE_DATOS/SB11-20052-RGSTRO-CLFCCN-V1-0.txt\", delimiter=\"|\",\n",
    "                    encoding=\"iso-8859-1\")\n",
    "####################################################################################################################\n",
    "file6 = pd.read_csv(\"../DatosFTPICFES/SABER11/SB11-BASES_DE_DATOS/SB11-20061-RGSTRO-CLFCCN-V1-0.txt\", delimiter=\"|\",\n",
    "                    encoding=\"iso-8859-1\")\n",
    "file65 = pd.read_csv(\"../DatosFTPICFES/SABER11/SB11-BASES_DE_DATOS/SB11-20062-RGSTRO-CLFCCN-V1-0.txt\", delimiter=\"|\",\n",
    "                    encoding=\"iso-8859-1\")\n",
    "####################################################################################################################\n",
    "file7 = pd.read_csv(\"../DatosFTPICFES/SABER11/SB11-BASES_DE_DATOS/SB11-20071-RGSTRO-CLFCCN-V1-0.txt\", delimiter=\"|\",\n",
    "                    encoding=\"iso-8859-1\")\n",
    "file75 = pd.read_csv(\"../DatosFTPICFES/SABER11/SB11-BASES_DE_DATOS/SB11-20072-RGSTRO-CLFCCN-V1-0.txt\", delimiter=\"|\",\n",
    "                    encoding=\"iso-8859-1\")\n",
    "####################################################################################################################\n",
    "file8 = pd.read_csv(\"../DatosFTPICFES/SABER11/SB11-BASES_DE_DATOS/SB11-20081-RGSTRO-CLFCCN-V1-0.txt\", delimiter=\"|\",\n",
    "                    encoding=\"iso-8859-1\")\n",
    "file85 = pd.read_csv(\"../DatosFTPICFES/SABER11/SB11-BASES_DE_DATOS/SB11-20082-RGSTRO-CLFCCN-V1-0.txt\", delimiter=\"|\",\n",
    "                    encoding=\"iso-8859-1\")\n",
    "####################################################################################################################\n",
    "file9 = pd.read_csv(\"../DatosFTPICFES/SABER11/SB11-BASES_DE_DATOS/SB11-20091-RGSTRO-CLFCCN-V1-0.txt\", delimiter=\"|\",\n",
    "                    encoding=\"iso-8859-1\")\n",
    "file95 = pd.read_csv(\"../DatosFTPICFES/SABER11/SB11-BASES_DE_DATOS/SB11-20092-RGSTRO-CLFCCN-V1-0.txt\", delimiter=\"|\",\n",
    "                    encoding=\"iso-8859-1\")\n",
    "####################################################################################################################\n",
    "file10 = pd.read_csv(\"../DatosFTPICFES/SABER11/SB11-BASES_DE_DATOS/SB11-20101-RGSTRO-CLFCCN-V1-0.txt\", delimiter=\"|\",\n",
    "                     encoding=\"iso-8859-1\")\n",
    "file105 = pd.read_csv(\"../DatosFTPICFES/SABER11/SB11-BASES_DE_DATOS/SB11-20102-RGSTRO-CLFCCN-V1-0.txt\", delimiter=\"|\",\n",
    "                    encoding=\"iso-8859-1\")\n",
    "####################################################################################################################\n",
    "file11 = pd.read_csv(\"../DatosFTPICFES/SABER11/SB11-BASES_DE_DATOS/SB11-20111-RGSTRO-CLFCCN-V1-0.txt\", delimiter=\"|\",\n",
    "                     encoding=\"iso-8859-1\")\n",
    "file115 = pd.read_csv(\"../DatosFTPICFES/SABER11/SB11-BASES_DE_DATOS/SB11-20112-RGSTRO-CLFCCN-V1-0.txt\", delimiter=\"|\",\n",
    "                    encoding=\"iso-8859-1\")\n",
    "####################################################################################################################\n",
    "file12 = pd.read_csv(\"../DatosFTPICFES/SABER11/SB11-BASES_DE_DATOS/SB11-20121-RGSTRO-CLFCCN-V1-0.txt\", delimiter=\"|\",\n",
    "                     encoding=\"iso-8859-1\")\n",
    "file125 = pd.read_csv(\"../DatosFTPICFES/SABER11/SB11-BASES_DE_DATOS/SB11-20122-RGSTRO-CLFCCN-V1-0.txt\", delimiter=\"|\",\n",
    "                    encoding=\"iso-8859-1\")\n",
    "####################################################################################################################\n",
    "file13 = pd.read_csv(\"../DatosFTPICFES/SABER11/SB11-BASES_DE_DATOS/SB11-20131-RGSTRO-CLFCCN-V1-0.txt\", delimiter=\"|\",\n",
    "                     encoding=\"iso-8859-1\")\n",
    "file135 = pd.read_csv(\"../DatosFTPICFES/SABER11/SB11-BASES_DE_DATOS/SB11-20132-RGSTRO-CLFCCN-V1-0.txt\", delimiter=\"|\",\n",
    "                    encoding=\"iso-8859-1\")\n",
    "####################################################################################################################\n",
    "file14 = pd.read_csv(\"../DatosFTPICFES/SABER11/SB11-BASES_DE_DATOS/SB11-20141-RGSTRO-CLFCCN-V1-0.txt\", delimiter=\"|\",\n",
    "                     encoding=\"iso-8859-1\")\n",
    "file145 = pd.read_csv(\"../DatosFTPICFES/SABER11/SB11-BASES_DE_DATOS/SB11-20142-RGSTRO-CLFCCN-V3-0.txt\", delimiter=\"|\",\n",
    "                     encoding=\"iso-8859-1\")\n",
    "####################################################################################################################\n",
    "file15 = pd.read_csv(\"../DatosFTPICFES/SABER11/SB11-BASES_DE_DATOS/SB11-20151-RGSTRO-CLFCCN-V3-0.txt\", delimiter=\"|\",\n",
    "                     encoding=\"iso-8859-1\")\n",
    "file155 = pd.read_csv(\"../DatosFTPICFES/SABER11/SB11-BASES_DE_DATOS/SB11-20152-RGSTRO-CLFCCN-V3-0.txt\", delimiter=\"|\",\n",
    "                     encoding=\"iso-8859-1\")\n",
    "####################################################################################################################\n",
    "file16 = pd.read_csv(\"../DatosFTPICFES/SABER11/SB11-BASES_DE_DATOS/SB11-20161-RGSTRO-CLFCCN-V1-0.txt\", delimiter=\"|\",\n",
    "                     encoding=\"iso-8859-1\")\n",
    "file16_v3 = pd.read_csv(\"../DatosFTPICFES/SABER11/SB11-BASES_DE_DATOS/SB11-20161-RGSTRO-CLFCCN-V3-0.txt\", delimiter=\"|\",\n",
    "                     encoding=\"iso-8859-1\")\n",
    "file165 = pd.read_csv(\"../DatosFTPICFES/SABER11/SB11-BASES_DE_DATOS/SB11-20162-RGSTRO-CLFCCN-V1-0.txt\", delimiter=\"|\",\n",
    "                     encoding=\"iso-8859-1\")\n",
    "####################################################################################################################\n",
    "file17 = pd.read_csv(\"../DatosFTPICFES/SABER11/SB11-BASES_DE_DATOS/SB11-20171-RGSTRO-CLFCCN-V1-0.txt\", delimiter=\"|\")"
   ]
  },
  {
   "cell_type": "code",
   "execution_count": null,
   "metadata": {
    "collapsed": true
   },
   "outputs": [],
   "source": [
    "l_table = create_infotable(file, file05, file1, file1_5, file2, file25, file3, file35, file4, file45, file5, file55, file6, file65, file7, file75,\n",
    "             file8, file85, file9, file95, file10, file105, file11, file115, file12, file125, file13, file135, file14,\n",
    "             file145, file15, file155, file16, file16_v3, file165, file17)"
   ]
  },
  {
   "cell_type": "code",
   "execution_count": null,
   "metadata": {
    "collapsed": true
   },
   "outputs": [],
   "source": [
    "nombres_files = [\"2000_1\", \"2000_2\", \"2001_1\", \"2001_2\", \"2002_1\", \"2002_2\", \"2003_1\", \"2003_2\", \"2004_1\", \"2004_2\", \"2005_1\", \"2005_2\",\n",
    "           \"2006_1\", \"2006_2\", \"2007_1\", \"2007_2\", \"2008_1\", \"2008_2\", \"2009_1\", \"2009_2\", \"2010_1\", \"2010_2\",\n",
    "           \"2011_1\", \"2011_2\", \"2012_1\", \"2012_2\", \"2013_1\", \"2013_2\", \"2014_1\", \"2014_2\", \"2015_1\", \"2015_2\", \n",
    "           \"2016_1\", \"2016_1_v3\", \"2016_2\", \"2017_1\"]"
   ]
  },
  {
   "cell_type": "code",
   "execution_count": null,
   "metadata": {
    "collapsed": true
   },
   "outputs": [],
   "source": [
    "j = 0\n",
    "for i in l_table:\n",
    "    i.append(nombres_files[j])\n",
    "    j+=1"
   ]
  },
  {
   "cell_type": "markdown",
   "metadata": {},
   "source": [
    "Nueva tabla creada llamada ***l_table***  \n",
    "Lo siguiente es crear el Data frame correspondiente y el archivo csv para mantener un respaldo"
   ]
  },
  {
   "cell_type": "code",
   "execution_count": null,
   "metadata": {
    "collapsed": true
   },
   "outputs": [],
   "source": [
    "info_files = pd.DataFrame(data=l_table, columns=[\"#Rows\", \"#Columns\", \"Size\", \"File\"])"
   ]
  },
  {
   "cell_type": "code",
   "execution_count": null,
   "metadata": {
    "collapsed": true
   },
   "outputs": [],
   "source": [
    "info_files.to_csv(\"info_files.csv\", sep=\";\")"
   ]
  },
  {
   "cell_type": "markdown",
   "metadata": {},
   "source": [
    "No tocar nada de aqui hasta la creacion del DataFrame ***info_files_d***"
   ]
  },
  {
   "cell_type": "code",
   "execution_count": null,
   "metadata": {
    "collapsed": true
   },
   "outputs": [],
   "source": [
    "#Cargo el archivo csv creado en la celda anterior\n",
    "info_files_d = pd.read_csv(\"info_files.csv\", delimiter=\";\")"
   ]
  },
  {
   "cell_type": "markdown",
   "metadata": {},
   "source": [
    "Se crea en la posicion 0 de las columnas una columna que contendra el periodo al que pertenecen los datos (ultima columna)  \n",
    "Y se eliminara la ultima  \n",
    "\n",
    "Esto se hace con el fin de tener una mejor organizacion en la tabla final"
   ]
  },
  {
   "cell_type": "code",
   "execution_count": null,
   "metadata": {
    "collapsed": true
   },
   "outputs": [],
   "source": [
    "info_files_d.insert(0, \"FileName\", info_files_d[\"File\"])"
   ]
  },
  {
   "cell_type": "code",
   "execution_count": null,
   "metadata": {
    "collapsed": true
   },
   "outputs": [],
   "source": [
    "info_files_d = info_files_d.drop(\"File\", axis=1)"
   ]
  },
  {
   "cell_type": "code",
   "execution_count": null,
   "metadata": {
    "collapsed": true
   },
   "outputs": [],
   "source": [
    "info_files_d = info_files_d.rename(columns={\"FileName\": \"Period\"})"
   ]
  },
  {
   "cell_type": "code",
   "execution_count": null,
   "metadata": {
    "collapsed": true
   },
   "outputs": [],
   "source": [
    "info_files_d.pop(\"Unnamed: 0\")"
   ]
  },
  {
   "cell_type": "markdown",
   "metadata": {},
   "source": [
    "DataFrame resultante despues de hacer los cambios:"
   ]
  },
  {
   "cell_type": "code",
   "execution_count": null,
   "metadata": {
    "collapsed": false
   },
   "outputs": [],
   "source": [
    "info_files_d"
   ]
  },
  {
   "cell_type": "markdown",
   "metadata": {},
   "source": [
    "Utilizando la herramienta ***du*** de Linux, extraigo la informacion de los archivos"
   ]
  },
  {
   "cell_type": "code",
   "execution_count": null,
   "metadata": {
    "collapsed": true
   },
   "outputs": [],
   "source": [
    "file_weights = !du -ha ../DatosFTPICFES/SABER11/SB11-BASES_DE_DATOS/"
   ]
  },
  {
   "cell_type": "markdown",
   "metadata": {},
   "source": [
    "La convierto en tipo lista para poder incluirla al DataFrame"
   ]
  },
  {
   "cell_type": "code",
   "execution_count": null,
   "metadata": {
    "collapsed": true
   },
   "outputs": [],
   "source": [
    "file_weights = list(file_weights)"
   ]
  },
  {
   "cell_type": "markdown",
   "metadata": {},
   "source": [
    "Elimino el ultimo elemento que corresponde al peso he informacion sobre la carpeta entera."
   ]
  },
  {
   "cell_type": "code",
   "execution_count": null,
   "metadata": {
    "collapsed": true
   },
   "outputs": [],
   "source": [
    "file_weights.pop(-1)"
   ]
  },
  {
   "cell_type": "markdown",
   "metadata": {},
   "source": [
    "Utilizo una funcion para crear la lista que contendra el peso y el año al que corresponden"
   ]
  },
  {
   "cell_type": "code",
   "execution_count": null,
   "metadata": {
    "collapsed": true
   },
   "outputs": [],
   "source": [
    "weights = get_weights(file_weights)"
   ]
  },
  {
   "cell_type": "markdown",
   "metadata": {},
   "source": [
    "Las ordeno por año para poder pegar la lista directamente en el DataFrame"
   ]
  },
  {
   "cell_type": "code",
   "execution_count": null,
   "metadata": {
    "collapsed": true
   },
   "outputs": [],
   "source": [
    "weights.sort()"
   ]
  },
  {
   "cell_type": "markdown",
   "metadata": {},
   "source": [
    "Ahora queda añadir esta lista al DataFrame ya existente"
   ]
  },
  {
   "cell_type": "code",
   "execution_count": null,
   "metadata": {
    "collapsed": true
   },
   "outputs": [],
   "source": [
    "df = pd.DataFrame(data = weights, columns = [\"Period\", \"peso [MB]\"])"
   ]
  },
  {
   "cell_type": "code",
   "execution_count": null,
   "metadata": {
    "collapsed": true
   },
   "outputs": [],
   "source": [
    "df"
   ]
  },
  {
   "cell_type": "markdown",
   "metadata": {},
   "source": [
    "Hago un Merge entre los dos DataFrames existentes, teniendo en cuenta la columna *Period*"
   ]
  },
  {
   "cell_type": "code",
   "execution_count": null,
   "metadata": {
    "collapsed": true
   },
   "outputs": [],
   "source": [
    "info_files_d = info_files_d.merge(df, on = \"Period\")"
   ]
  },
  {
   "cell_type": "markdown",
   "metadata": {},
   "source": [
    "# <span style=\"color: red;\">DataFrame Final</span>"
   ]
  },
  {
   "cell_type": "code",
   "execution_count": null,
   "metadata": {
    "collapsed": true
   },
   "outputs": [],
   "source": [
    "#DataFrame Final\n",
    "info_files_d"
   ]
  },
  {
   "cell_type": "markdown",
   "metadata": {},
   "source": [
    "### Creo un archivo CSV del Dataframe anterior para no tener que ejecutar las celdas anteriores para acceder a estos datos"
   ]
  },
  {
   "cell_type": "code",
   "execution_count": null,
   "metadata": {
    "collapsed": true
   },
   "outputs": [],
   "source": [
    "info_files_d.to_csv(\"info_files_final.csv\", sep=\";\")"
   ]
  },
  {
   "cell_type": "markdown",
   "metadata": {},
   "source": [
    "### Cargo el CSV creado"
   ]
  },
  {
   "cell_type": "code",
   "execution_count": 5,
   "metadata": {
    "collapsed": true
   },
   "outputs": [],
   "source": [
    "info_files_final = pd.read_csv(\"info_files_final.csv\", delimiter=\";\")"
   ]
  },
  {
   "cell_type": "code",
   "execution_count": 6,
   "metadata": {
    "collapsed": false
   },
   "outputs": [
    {
     "data": {
      "text/html": [
       "<div>\n",
       "<table border=\"1\" class=\"dataframe\">\n",
       "  <thead>\n",
       "    <tr style=\"text-align: right;\">\n",
       "      <th></th>\n",
       "      <th>Period</th>\n",
       "      <th>#Rows</th>\n",
       "      <th>#Columns</th>\n",
       "      <th>Size</th>\n",
       "      <th>peso [MB]</th>\n",
       "    </tr>\n",
       "  </thead>\n",
       "  <tbody>\n",
       "    <tr>\n",
       "      <th>0</th>\n",
       "      <td>2000_1</td>\n",
       "      <td>77626</td>\n",
       "      <td>57</td>\n",
       "      <td>4424682</td>\n",
       "      <td>18.0</td>\n",
       "    </tr>\n",
       "    <tr>\n",
       "      <th>1</th>\n",
       "      <td>2000_2</td>\n",
       "      <td>354862</td>\n",
       "      <td>58</td>\n",
       "      <td>20581996</td>\n",
       "      <td>84.0</td>\n",
       "    </tr>\n",
       "    <tr>\n",
       "      <th>2</th>\n",
       "      <td>2001_1</td>\n",
       "      <td>77961</td>\n",
       "      <td>57</td>\n",
       "      <td>4443777</td>\n",
       "      <td>18.0</td>\n",
       "    </tr>\n",
       "    <tr>\n",
       "      <th>3</th>\n",
       "      <td>2001_2</td>\n",
       "      <td>320895</td>\n",
       "      <td>57</td>\n",
       "      <td>18291015</td>\n",
       "      <td>76.0</td>\n",
       "    </tr>\n",
       "    <tr>\n",
       "      <th>4</th>\n",
       "      <td>2002_1</td>\n",
       "      <td>63371</td>\n",
       "      <td>57</td>\n",
       "      <td>3612147</td>\n",
       "      <td>15.0</td>\n",
       "    </tr>\n",
       "  </tbody>\n",
       "</table>\n",
       "</div>"
      ],
      "text/plain": [
       "   Period   #Rows  #Columns      Size  peso [MB]\n",
       "0  2000_1   77626        57   4424682       18.0\n",
       "1  2000_2  354862        58  20581996       84.0\n",
       "2  2001_1   77961        57   4443777       18.0\n",
       "3  2001_2  320895        57  18291015       76.0\n",
       "4  2002_1   63371        57   3612147       15.0"
      ]
     },
     "execution_count": 6,
     "metadata": {},
     "output_type": "execute_result"
    }
   ],
   "source": [
    "info_files_final.head()"
   ]
  },
  {
   "cell_type": "code",
   "execution_count": 9,
   "metadata": {
    "collapsed": false
   },
   "outputs": [
    {
     "data": {
      "image/png": "[encoded data removed]",
      "text/plain": [
       "<matplotlib.figure.Figure at 0x7fc352378978>"
      ]
     },
     "metadata": {},
     "output_type": "display_data"
    }
   ],
   "source": [
    "xlabel = info_files_final[\"Period\"]\n",
    "xlabel= list(xlabel)\n",
    "plt.figure(figsize=(16,5))\n",
    "plt.plot(info_files_final[\"peso [MB]\"])\n",
    "plt.xticks(np.arange(len(xlabel)), xlabel, rotation=90);"
   ]
  },
  {
   "cell_type": "markdown",
   "metadata": {},
   "source": [
    "Los archivos que mas pesan son dos, el del 2009_2 y el del 2010_2 cada uno con 231 MB"
   ]
  },
  {
   "cell_type": "code",
   "execution_count": 10,
   "metadata": {
    "collapsed": false
   },
   "outputs": [
    {
     "data": {
      "text/html": [
       "<div>\n",
       "<table border=\"1\" class=\"dataframe\">\n",
       "  <thead>\n",
       "    <tr style=\"text-align: right;\">\n",
       "      <th></th>\n",
       "      <th>Period</th>\n",
       "      <th>#Rows</th>\n",
       "      <th>#Columns</th>\n",
       "      <th>Size</th>\n",
       "      <th>peso [MB]</th>\n",
       "    </tr>\n",
       "  </thead>\n",
       "  <tbody>\n",
       "    <tr>\n",
       "      <th>19</th>\n",
       "      <td>2009_2</td>\n",
       "      <td>518220</td>\n",
       "      <td>121</td>\n",
       "      <td>62704620</td>\n",
       "      <td>231.0</td>\n",
       "    </tr>\n",
       "    <tr>\n",
       "      <th>21</th>\n",
       "      <td>2010_2</td>\n",
       "      <td>586779</td>\n",
       "      <td>114</td>\n",
       "      <td>66892806</td>\n",
       "      <td>231.0</td>\n",
       "    </tr>\n",
       "  </tbody>\n",
       "</table>\n",
       "</div>"
      ],
      "text/plain": [
       "    Period   #Rows  #Columns      Size  peso [MB]\n",
       "19  2009_2  518220       121  62704620      231.0\n",
       "21  2010_2  586779       114  66892806      231.0"
      ]
     },
     "execution_count": 10,
     "metadata": {},
     "output_type": "execute_result"
    }
   ],
   "source": [
    "info_files_final[info_files_final[\"peso [MB]\"] == np.max(info_files_final[\"peso [MB]\"])]"
   ]
  },
  {
   "cell_type": "markdown",
   "metadata": {},
   "source": [
    "Y el que menos peso tiene es el del año 2017_1 con apenas 9 MB\n"
   ]
  },
  {
   "cell_type": "code",
   "execution_count": 11,
   "metadata": {
    "collapsed": false
   },
   "outputs": [
    {
     "data": {
      "text/html": [
       "<div>\n",
       "<table border=\"1\" class=\"dataframe\">\n",
       "  <thead>\n",
       "    <tr style=\"text-align: right;\">\n",
       "      <th></th>\n",
       "      <th>Period</th>\n",
       "      <th>#Rows</th>\n",
       "      <th>#Columns</th>\n",
       "      <th>Size</th>\n",
       "      <th>peso [MB]</th>\n",
       "    </tr>\n",
       "  </thead>\n",
       "  <tbody>\n",
       "    <tr>\n",
       "      <th>35</th>\n",
       "      <td>2017_1</td>\n",
       "      <td>12993</td>\n",
       "      <td>80</td>\n",
       "      <td>1039440</td>\n",
       "      <td>9.0</td>\n",
       "    </tr>\n",
       "  </tbody>\n",
       "</table>\n",
       "</div>"
      ],
      "text/plain": [
       "    Period  #Rows  #Columns     Size  peso [MB]\n",
       "35  2017_1  12993        80  1039440        9.0"
      ]
     },
     "execution_count": 11,
     "metadata": {},
     "output_type": "execute_result"
    }
   ],
   "source": [
    "info_files_final[info_files_final[\"peso [MB]\"] == np.min(info_files_final[\"peso [MB]\"])]"
   ]
  },
  {
   "cell_type": "code",
   "execution_count": 13,
   "metadata": {
    "collapsed": false
   },
   "outputs": [
    {
     "data": {
      "image/png": "[encoded data removed]",
      "text/plain": [
       "<matplotlib.figure.Figure at 0x7fc35361eba8>"
      ]
     },
     "metadata": {},
     "output_type": "display_data"
    }
   ],
   "source": [
    "plt.figure(figsize=(16,5))\n",
    "plt.plot(info_files_final[\"Size\"])\n",
    "plt.xticks(np.arange(len(xlabel)), xlabel, rotation=90);"
   ]
  },
  {
   "cell_type": "markdown",
   "metadata": {},
   "source": [
    "El archivo con mas lineas es el archivo del 2014_2 con 49'084.542 lineas  \n"
   ]
  },
  {
   "cell_type": "code",
   "execution_count": 14,
   "metadata": {
    "collapsed": false
   },
   "outputs": [
    {
     "data": {
      "text/html": [
       "<div>\n",
       "<table border=\"1\" class=\"dataframe\">\n",
       "  <thead>\n",
       "    <tr style=\"text-align: right;\">\n",
       "      <th></th>\n",
       "      <th>Period</th>\n",
       "      <th>#Rows</th>\n",
       "      <th>#Columns</th>\n",
       "      <th>Size</th>\n",
       "      <th>peso [MB]</th>\n",
       "    </tr>\n",
       "  </thead>\n",
       "  <tbody>\n",
       "    <tr>\n",
       "      <th>34</th>\n",
       "      <td>2016_2</td>\n",
       "      <td>605982</td>\n",
       "      <td>81</td>\n",
       "      <td>49084542</td>\n",
       "      <td>191.0</td>\n",
       "    </tr>\n",
       "  </tbody>\n",
       "</table>\n",
       "</div>"
      ],
      "text/plain": [
       "    Period   #Rows  #Columns      Size  peso [MB]\n",
       "34  2016_2  605982        81  49084542      191.0"
      ]
     },
     "execution_count": 14,
     "metadata": {},
     "output_type": "execute_result"
    }
   ],
   "source": [
    "info_files_final[info_files_final[\"#Rows\"] == np.max(info_files_final[\"#Rows\"])]"
   ]
  },
  {
   "cell_type": "markdown",
   "metadata": {},
   "source": [
    "el archivo con menos lineas es el archivo del 2017_1 con apenas 12993 lineas\n"
   ]
  },
  {
   "cell_type": "code",
   "execution_count": 15,
   "metadata": {
    "collapsed": false
   },
   "outputs": [
    {
     "data": {
      "text/html": [
       "<div>\n",
       "<table border=\"1\" class=\"dataframe\">\n",
       "  <thead>\n",
       "    <tr style=\"text-align: right;\">\n",
       "      <th></th>\n",
       "      <th>Period</th>\n",
       "      <th>#Rows</th>\n",
       "      <th>#Columns</th>\n",
       "      <th>Size</th>\n",
       "      <th>peso [MB]</th>\n",
       "    </tr>\n",
       "  </thead>\n",
       "  <tbody>\n",
       "    <tr>\n",
       "      <th>35</th>\n",
       "      <td>2017_1</td>\n",
       "      <td>12993</td>\n",
       "      <td>80</td>\n",
       "      <td>1039440</td>\n",
       "      <td>9.0</td>\n",
       "    </tr>\n",
       "  </tbody>\n",
       "</table>\n",
       "</div>"
      ],
      "text/plain": [
       "    Period  #Rows  #Columns     Size  peso [MB]\n",
       "35  2017_1  12993        80  1039440        9.0"
      ]
     },
     "execution_count": 15,
     "metadata": {},
     "output_type": "execute_result"
    }
   ],
   "source": [
    "info_files_final[info_files_final[\"#Rows\"] == np.min(info_files_final[\"#Rows\"])]"
   ]
  },
  {
   "cell_type": "markdown",
   "metadata": {},
   "source": [
    "# Conclusiones\n",
    "\n",
    "- La calidad de los archivos en su mayoria parece ser buena, exceptualdo al archivo del año 2017_1 que esta muy pequeño y es posible que no afecte nuestros resultados, aunque de igual manera no se descartara, siempre se tendra en cuenta.\n",
    "- Se evidencia un comportamiento de dientes de sierra. Se da porque cada año se realiza dos veces el examen *SABER11* y en el primer periodo de presentacion se presentan muchas menos personas que en el segundo periodo. Esto sucede porque en el segundo periodo el examen es presentado por todos los estudiantes de grado 11 de todos los colegios del pais.  "
   ]
  }
 ],
 "metadata": {
  "kernelspec": {
   "display_name": "Python 3 + Anaconda",
   "language": "python",
   "name": "pyconda3"
  },
  "language_info": {
   "codemirror_mode": {
    "name": "ipython",
    "version": 3
   },
   "file_extension": ".py",
   "mimetype": "text/x-python",
   "name": "python",
   "nbconvert_exporter": "python",
   "pygments_lexer": "ipython3",
   "version": "3.5.1"
  }
 },
 "nbformat": 4,
 "nbformat_minor": 0
}
