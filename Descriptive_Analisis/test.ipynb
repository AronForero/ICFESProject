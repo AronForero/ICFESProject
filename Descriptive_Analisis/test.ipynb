{
 "cells": [
  {
   "cell_type": "code",
   "execution_count": 1,
   "metadata": {
    "collapsed": true
   },
   "outputs": [],
   "source": [
    "import pandas as pd\n",
    "import numpy as np"
   ]
  },
  {
   "cell_type": "code",
   "execution_count": 2,
   "metadata": {
    "collapsed": true
   },
   "outputs": [],
   "source": [
    "cc = pd.read_csv(\"ColumnComparison.csv\", delimiter=\";\")"
   ]
  },
  {
   "cell_type": "code",
   "execution_count": 19,
   "metadata": {
    "collapsed": false
   },
   "outputs": [],
   "source": [
    "cc = cc.replace(to_replace='ESTU_ANO_TERMINO_BACHILLIND_ANNO_TERMINO_BACHILLERATO', value = 'ESTU_ANO_TERMINO_BACHILL')"
   ]
  },
  {
   "cell_type": "code",
   "execution_count": 20,
   "metadata": {
    "collapsed": false
   },
   "outputs": [
    {
     "data": {
      "text/plain": [
       "Column       ESTU_ANO_TERMINO_BACHILL\n",
       "2000_1                              1\n",
       "2000_2                              1\n",
       "2002_1                              1\n",
       "2002_2                              1\n",
       "2003_1                              1\n",
       "2003_2                              1\n",
       "2004_1                              1\n",
       "2004_2                              1\n",
       "2005_1                              1\n",
       "2005_2                              1\n",
       "2006_1                              1\n",
       "2006_2                              1\n",
       "2007_1                              1\n",
       "2007_2                              1\n",
       "2008_1                              1\n",
       "2008_2                              1\n",
       "2009_1                              1\n",
       "2009_2                              1\n",
       "2010_1                              1\n",
       "2010_2                              0\n",
       "2011_1                              0\n",
       "2011_2                              0\n",
       "2012_1                              0\n",
       "2012_2                              0\n",
       "2013_1                              0\n",
       "2013_2                              0\n",
       "2014_1                              0\n",
       "2014_2                              1\n",
       "2015_1                              1\n",
       "2015_2                              1\n",
       "2016_1                              1\n",
       "2016_1_v3                           1\n",
       "2016_2                              1\n",
       "2017_1                              0\n",
       "Name: 42, dtype: object"
      ]
     },
     "execution_count": 20,
     "metadata": {},
     "output_type": "execute_result"
    }
   ],
   "source": [
    "cc.loc[42]"
   ]
  },
  {
   "cell_type": "code",
   "execution_count": 5,
   "metadata": {
    "collapsed": true
   },
   "outputs": [
    {
     "data": {
      "text/plain": [
       "Column       IND_ANNO_TERMINO_BACHILLERATO\n",
       "2000_1                                   1\n",
       "2000_2                                   1\n",
       "2002_1                                   1\n",
       "2002_2                                   1\n",
       "2003_1                                   1\n",
       "2003_2                                   1\n",
       "2004_1                                   1\n",
       "2004_2                                   1\n",
       "2005_1                                   1\n",
       "2005_2                                   1\n",
       "2006_1                                   1\n",
       "2006_2                                   1\n",
       "2007_1                                   1\n",
       "2007_2                                   1\n",
       "2008_1                                   1\n",
       "2008_2                                   1\n",
       "2009_1                                   1\n",
       "2009_2                                   1\n",
       "2010_1                                   1\n",
       "2010_2                                   0\n",
       "2011_1                                   0\n",
       "2011_2                                   0\n",
       "2012_1                                   0\n",
       "2012_2                                   0\n",
       "2013_1                                   0\n",
       "2013_2                                   0\n",
       "2014_1                                   0\n",
       "2014_2                                   0\n",
       "2015_1                                   0\n",
       "2015_2                                   0\n",
       "2016_1                                   0\n",
       "2016_1_v3                                0\n",
       "2016_2                                   0\n",
       "2017_1                                   0\n",
       "Name: 218, dtype: object"
      ]
     },
     "execution_count": 5,
     "metadata": {},
     "output_type": "execute_result"
    }
   ],
   "source": [
    "cc.iloc[218]"
   ]
  },
  {
   "cell_type": "code",
   "execution_count": 3,
   "metadata": {
    "collapsed": false
   },
   "outputs": [],
   "source": [
    "cc.iloc[42] = cc.iloc[42] + cc.iloc[218]"
   ]
  },
  {
   "cell_type": "code",
   "execution_count": 4,
   "metadata": {
    "collapsed": false
   },
   "outputs": [],
   "source": [
    "cc = cc.drop([218])"
   ]
  },
  {
   "cell_type": "code",
   "execution_count": null,
   "metadata": {
    "collapsed": true
   },
   "outputs": [],
   "source": []
  }
 ],
 "metadata": {
  "kernelspec": {
   "display_name": "Python 3 + Anaconda",
   "language": "python",
   "name": "pyconda3"
  },
  "language_info": {
   "codemirror_mode": {
    "name": "ipython",
    "version": 3
   },
   "file_extension": ".py",
   "mimetype": "text/x-python",
   "name": "python",
   "nbconvert_exporter": "python",
   "pygments_lexer": "ipython3",
   "version": "3.5.1"
  }
 },
 "nbformat": 4,
 "nbformat_minor": 0
}
