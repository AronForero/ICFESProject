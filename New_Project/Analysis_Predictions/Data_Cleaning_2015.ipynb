{
 "cells": [
  {
   "cell_type": "code",
   "execution_count": 1,
   "metadata": {
    "collapsed": true
   },
   "outputs": [],
   "source": [
    "import pandas as pd\n",
    "import numpy as np\n",
    "%run -i ../tools/functions.py\n",
    "%run -i ../tools/label_encoder.py"
   ]
  },
  {
   "cell_type": "code",
   "execution_count": 2,
   "metadata": {
    "collapsed": false
   },
   "outputs": [
    {
     "name": "stderr",
     "output_type": "stream",
     "text": [
      "/usr/local/lib/python3.4/dist-packages/IPython/core/interactiveshell.py:2902: DtypeWarning: Columns (9,10,11,12,13,14,27,104,110) have mixed types. Specify dtype option on import or set low_memory=False.\n",
      "  interactivity=interactivity, compiler=compiler, result=result)\n"
     ]
    }
   ],
   "source": [
    "data_2015 = pd.read_csv('../DatosFTPICFES/SABER11/SB11-BASES_DE_DATOS/SB11-20151-RGSTRO-CLFCCN-V3-0.txt', delimiter = '|')"
   ]
  },
  {
   "cell_type": "code",
   "execution_count": 3,
   "metadata": {
    "collapsed": false
   },
   "outputs": [
    {
     "data": {
      "text/plain": [
       "(106540, 128)"
      ]
     },
     "execution_count": 3,
     "metadata": {},
     "output_type": "execute_result"
    }
   ],
   "source": [
    "data_2015.shape"
   ]
  },
  {
   "cell_type": "code",
   "execution_count": 4,
   "metadata": {
    "collapsed": false,
    "scrolled": true
   },
   "outputs": [
    {
     "data": {
      "text/html": [
       "<div>\n",
       "<table border=\"1\" class=\"dataframe\">\n",
       "  <thead>\n",
       "    <tr style=\"text-align: right;\">\n",
       "      <th></th>\n",
       "      <th>0</th>\n",
       "      <th>1</th>\n",
       "      <th>2</th>\n",
       "    </tr>\n",
       "  </thead>\n",
       "  <tbody>\n",
       "    <tr>\n",
       "      <th>PERIODO</th>\n",
       "      <td>20151</td>\n",
       "      <td>20151</td>\n",
       "      <td>20151</td>\n",
       "    </tr>\n",
       "    <tr>\n",
       "      <th>ESTU_CONSECUTIVO</th>\n",
       "      <td>SABER1120151000001</td>\n",
       "      <td>SABER1120151000002</td>\n",
       "      <td>SABER1120151000003</td>\n",
       "    </tr>\n",
       "    <tr>\n",
       "      <th>ESTU_ESTUDIANTE</th>\n",
       "      <td>INDIVIDUAL</td>\n",
       "      <td>ESTUDIANTE</td>\n",
       "      <td>INDIVIDUAL</td>\n",
       "    </tr>\n",
       "    <tr>\n",
       "      <th>ESTU_EDAD</th>\n",
       "      <td>26</td>\n",
       "      <td>28</td>\n",
       "      <td>41</td>\n",
       "    </tr>\n",
       "    <tr>\n",
       "      <th>ESTU_TIPO_DOCUMENTO</th>\n",
       "      <td>CC</td>\n",
       "      <td>CC</td>\n",
       "      <td>CC</td>\n",
       "    </tr>\n",
       "    <tr>\n",
       "      <th>ESTU_PAIS_RESIDE</th>\n",
       "      <td>1</td>\n",
       "      <td>1</td>\n",
       "      <td>1</td>\n",
       "    </tr>\n",
       "    <tr>\n",
       "      <th>ESTU_GENERO</th>\n",
       "      <td>M</td>\n",
       "      <td>F</td>\n",
       "      <td>F</td>\n",
       "    </tr>\n",
       "    <tr>\n",
       "      <th>ESTU_FECHA_NACIMIENTO</th>\n",
       "      <td>29/10/1988</td>\n",
       "      <td>09/09/1986</td>\n",
       "      <td>11/10/1973</td>\n",
       "    </tr>\n",
       "    <tr>\n",
       "      <th>ESTU_ETNIA</th>\n",
       "      <td>NaN</td>\n",
       "      <td>100</td>\n",
       "      <td>100</td>\n",
       "    </tr>\n",
       "    <tr>\n",
       "      <th>ESTU_LIMITA_MOTRIZ</th>\n",
       "      <td>NaN</td>\n",
       "      <td>NaN</td>\n",
       "      <td>NaN</td>\n",
       "    </tr>\n",
       "    <tr>\n",
       "      <th>ESTU_LIMITA_INVIDENTE</th>\n",
       "      <td>NaN</td>\n",
       "      <td>NaN</td>\n",
       "      <td>NaN</td>\n",
       "    </tr>\n",
       "    <tr>\n",
       "      <th>ESTU_LIMITA_CONDICIONESPECIAL</th>\n",
       "      <td>NaN</td>\n",
       "      <td>NaN</td>\n",
       "      <td>NaN</td>\n",
       "    </tr>\n",
       "    <tr>\n",
       "      <th>ESTU_LIMITA_SORDO</th>\n",
       "      <td>NaN</td>\n",
       "      <td>NaN</td>\n",
       "      <td>NaN</td>\n",
       "    </tr>\n",
       "    <tr>\n",
       "      <th>ESTU_LIMITA_SDOWN</th>\n",
       "      <td>NaN</td>\n",
       "      <td>NaN</td>\n",
       "      <td>NaN</td>\n",
       "    </tr>\n",
       "    <tr>\n",
       "      <th>ESTU_LIMITA_AUTISMO</th>\n",
       "      <td>NaN</td>\n",
       "      <td>NaN</td>\n",
       "      <td>NaN</td>\n",
       "    </tr>\n",
       "    <tr>\n",
       "      <th>COLE_COD_MCPIO_UBICACION</th>\n",
       "      <td>NaN</td>\n",
       "      <td>20011</td>\n",
       "      <td>NaN</td>\n",
       "    </tr>\n",
       "    <tr>\n",
       "      <th>ESTU_RESIDE_MCPIO</th>\n",
       "      <td>CALI</td>\n",
       "      <td>AGUACHICA</td>\n",
       "      <td>PUERTO LOPEZ</td>\n",
       "    </tr>\n",
       "    <tr>\n",
       "      <th>ESTU_RESIDE_DEPTO</th>\n",
       "      <td>VALLE</td>\n",
       "      <td>CESAR</td>\n",
       "      <td>META</td>\n",
       "    </tr>\n",
       "    <tr>\n",
       "      <th>ESTU_COD_RESIDE_MCPIO</th>\n",
       "      <td>76001</td>\n",
       "      <td>20011</td>\n",
       "      <td>50573</td>\n",
       "    </tr>\n",
       "    <tr>\n",
       "      <th>ESTU_ZONA_RESIDE</th>\n",
       "      <td>1</td>\n",
       "      <td>10</td>\n",
       "      <td>10</td>\n",
       "    </tr>\n",
       "    <tr>\n",
       "      <th>COLE_COD_DANE_INSTITUCION</th>\n",
       "      <td>NaN</td>\n",
       "      <td>3.20011e+11</td>\n",
       "      <td>NaN</td>\n",
       "    </tr>\n",
       "    <tr>\n",
       "      <th>COLE_COD_ICFES</th>\n",
       "      <td>NaN</td>\n",
       "      <td>143503</td>\n",
       "      <td>NaN</td>\n",
       "    </tr>\n",
       "    <tr>\n",
       "      <th>COLE_NOMBRE_SEDE</th>\n",
       "      <td>NaN</td>\n",
       "      <td>CORPORACION DE EDUCACION TECNICA DEL ORIENTE -...</td>\n",
       "      <td>NaN</td>\n",
       "    </tr>\n",
       "    <tr>\n",
       "      <th>COLE_JORNADA</th>\n",
       "      <td>NaN</td>\n",
       "      <td>S</td>\n",
       "      <td>NaN</td>\n",
       "    </tr>\n",
       "    <tr>\n",
       "      <th>COLE_GENERO</th>\n",
       "      <td>NaN</td>\n",
       "      <td>MIXTO</td>\n",
       "      <td>NaN</td>\n",
       "    </tr>\n",
       "    <tr>\n",
       "      <th>COLE_CARACTER</th>\n",
       "      <td>NaN</td>\n",
       "      <td>ACADÉMICO</td>\n",
       "      <td>NaN</td>\n",
       "    </tr>\n",
       "    <tr>\n",
       "      <th>COLE_NATURALEZA</th>\n",
       "      <td>OTRO</td>\n",
       "      <td>NO OFICIAL</td>\n",
       "      <td>OTRO</td>\n",
       "    </tr>\n",
       "    <tr>\n",
       "      <th>COLE_BILINGUE</th>\n",
       "      <td>NaN</td>\n",
       "      <td>NaN</td>\n",
       "      <td>NaN</td>\n",
       "    </tr>\n",
       "    <tr>\n",
       "      <th>COLE_CALENDARIO</th>\n",
       "      <td>NaN</td>\n",
       "      <td>A</td>\n",
       "      <td>NaN</td>\n",
       "    </tr>\n",
       "    <tr>\n",
       "      <th>ESTU_AREA_RESIDE</th>\n",
       "      <td>U</td>\n",
       "      <td>U</td>\n",
       "      <td>U</td>\n",
       "    </tr>\n",
       "    <tr>\n",
       "      <th>...</th>\n",
       "      <td>...</td>\n",
       "      <td>...</td>\n",
       "      <td>...</td>\n",
       "    </tr>\n",
       "    <tr>\n",
       "      <th>FAMI_LAVADORA</th>\n",
       "      <td>S</td>\n",
       "      <td>S</td>\n",
       "      <td>S</td>\n",
       "    </tr>\n",
       "    <tr>\n",
       "      <th>FAMI_MICROONDAS</th>\n",
       "      <td>S</td>\n",
       "      <td>S</td>\n",
       "      <td>N</td>\n",
       "    </tr>\n",
       "    <tr>\n",
       "      <th>FAMI_AUTOMOVIL</th>\n",
       "      <td>S</td>\n",
       "      <td>S</td>\n",
       "      <td>N</td>\n",
       "    </tr>\n",
       "    <tr>\n",
       "      <th>FAMI_HORNO</th>\n",
       "      <td>S</td>\n",
       "      <td>S</td>\n",
       "      <td>N</td>\n",
       "    </tr>\n",
       "    <tr>\n",
       "      <th>FAMI_INGRESO_FMILIAR_MENSUAL</th>\n",
       "      <td>4</td>\n",
       "      <td>2</td>\n",
       "      <td>3</td>\n",
       "    </tr>\n",
       "    <tr>\n",
       "      <th>ESTU_TRABAJA</th>\n",
       "      <td>NaN</td>\n",
       "      <td>1</td>\n",
       "      <td>NaN</td>\n",
       "    </tr>\n",
       "    <tr>\n",
       "      <th>ESTU_RECIBE_SALARIO</th>\n",
       "      <td>NaN</td>\n",
       "      <td>NaN</td>\n",
       "      <td>NaN</td>\n",
       "    </tr>\n",
       "    <tr>\n",
       "      <th>ESTU_VECES_ESTADO</th>\n",
       "      <td>4</td>\n",
       "      <td>NaN</td>\n",
       "      <td>4</td>\n",
       "    </tr>\n",
       "    <tr>\n",
       "      <th>ESTU_COD_DEPTO_PRESENTACION</th>\n",
       "      <td>76</td>\n",
       "      <td>20</td>\n",
       "      <td>50</td>\n",
       "    </tr>\n",
       "    <tr>\n",
       "      <th>ESTU_COD_MCPIO_PRESENTACION</th>\n",
       "      <td>76001</td>\n",
       "      <td>20011</td>\n",
       "      <td>50001</td>\n",
       "    </tr>\n",
       "    <tr>\n",
       "      <th>ESTU_MCPIO_PRESENTACION</th>\n",
       "      <td>CALI</td>\n",
       "      <td>AGUACHICA</td>\n",
       "      <td>VILLAVICENCIO</td>\n",
       "    </tr>\n",
       "    <tr>\n",
       "      <th>ESTU_DEPTO_PRESENTACION</th>\n",
       "      <td>VALLE</td>\n",
       "      <td>CESAR</td>\n",
       "      <td>META</td>\n",
       "    </tr>\n",
       "    <tr>\n",
       "      <th>ESTU_COD_PLANTEL</th>\n",
       "      <td>1015</td>\n",
       "      <td>NaN</td>\n",
       "      <td>NaN</td>\n",
       "    </tr>\n",
       "    <tr>\n",
       "      <th>DECIL_LECTURA_CRITICA</th>\n",
       "      <td>D06</td>\n",
       "      <td>D01</td>\n",
       "      <td>D06</td>\n",
       "    </tr>\n",
       "    <tr>\n",
       "      <th>PUNT_LECTURA_CRITICA</th>\n",
       "      <td>53</td>\n",
       "      <td>37</td>\n",
       "      <td>55</td>\n",
       "    </tr>\n",
       "    <tr>\n",
       "      <th>DECIL_MATEMATICAS</th>\n",
       "      <td>D10</td>\n",
       "      <td>D03</td>\n",
       "      <td>D09</td>\n",
       "    </tr>\n",
       "    <tr>\n",
       "      <th>PUNT_MATEMATICAS</th>\n",
       "      <td>83</td>\n",
       "      <td>45</td>\n",
       "      <td>71</td>\n",
       "    </tr>\n",
       "    <tr>\n",
       "      <th>DECIL_C_NATURALES</th>\n",
       "      <td>D06</td>\n",
       "      <td>D01</td>\n",
       "      <td>D08</td>\n",
       "    </tr>\n",
       "    <tr>\n",
       "      <th>PUNT_C_NATURALES</th>\n",
       "      <td>57</td>\n",
       "      <td>32</td>\n",
       "      <td>69</td>\n",
       "    </tr>\n",
       "    <tr>\n",
       "      <th>DECIL_SOCIALES_CIUDADANAS</th>\n",
       "      <td>D09</td>\n",
       "      <td>D01</td>\n",
       "      <td>D07</td>\n",
       "    </tr>\n",
       "    <tr>\n",
       "      <th>PUNT_SOCIALES_CIUDADANAS</th>\n",
       "      <td>74</td>\n",
       "      <td>34</td>\n",
       "      <td>60</td>\n",
       "    </tr>\n",
       "    <tr>\n",
       "      <th>DECIL_INGLES</th>\n",
       "      <td>D10</td>\n",
       "      <td>D04</td>\n",
       "      <td>D07</td>\n",
       "    </tr>\n",
       "    <tr>\n",
       "      <th>DESEMP_INGLES</th>\n",
       "      <td>B+</td>\n",
       "      <td>A-</td>\n",
       "      <td>A2</td>\n",
       "    </tr>\n",
       "    <tr>\n",
       "      <th>PUNT_INGLES</th>\n",
       "      <td>95</td>\n",
       "      <td>49</td>\n",
       "      <td>59</td>\n",
       "    </tr>\n",
       "    <tr>\n",
       "      <th>DECIL_RAZONA_CUANT</th>\n",
       "      <td>D09</td>\n",
       "      <td>D05</td>\n",
       "      <td>D09</td>\n",
       "    </tr>\n",
       "    <tr>\n",
       "      <th>PUNT_RAZONA_CUANT</th>\n",
       "      <td>73</td>\n",
       "      <td>52</td>\n",
       "      <td>73</td>\n",
       "    </tr>\n",
       "    <tr>\n",
       "      <th>DECIL_COMP_CIUDADANA</th>\n",
       "      <td>D08</td>\n",
       "      <td>D01</td>\n",
       "      <td>D07</td>\n",
       "    </tr>\n",
       "    <tr>\n",
       "      <th>PUNT_COMP_CIUDADANA</th>\n",
       "      <td>66</td>\n",
       "      <td>30</td>\n",
       "      <td>58</td>\n",
       "    </tr>\n",
       "    <tr>\n",
       "      <th>PUNT_GLOBAL</th>\n",
       "      <td>345</td>\n",
       "      <td>190</td>\n",
       "      <td>317</td>\n",
       "    </tr>\n",
       "    <tr>\n",
       "      <th>ESTU_PUESTO</th>\n",
       "      <td>188</td>\n",
       "      <td>906</td>\n",
       "      <td>286</td>\n",
       "    </tr>\n",
       "  </tbody>\n",
       "</table>\n",
       "<p>128 rows × 3 columns</p>\n",
       "</div>"
      ],
      "text/plain": [
       "                                                0  \\\n",
       "PERIODO                                     20151   \n",
       "ESTU_CONSECUTIVO               SABER1120151000001   \n",
       "ESTU_ESTUDIANTE                        INDIVIDUAL   \n",
       "ESTU_EDAD                                      26   \n",
       "ESTU_TIPO_DOCUMENTO                            CC   \n",
       "ESTU_PAIS_RESIDE                                1   \n",
       "ESTU_GENERO                                     M   \n",
       "ESTU_FECHA_NACIMIENTO                  29/10/1988   \n",
       "ESTU_ETNIA                                    NaN   \n",
       "ESTU_LIMITA_MOTRIZ                            NaN   \n",
       "ESTU_LIMITA_INVIDENTE                         NaN   \n",
       "ESTU_LIMITA_CONDICIONESPECIAL                 NaN   \n",
       "ESTU_LIMITA_SORDO                             NaN   \n",
       "ESTU_LIMITA_SDOWN                             NaN   \n",
       "ESTU_LIMITA_AUTISMO                           NaN   \n",
       "COLE_COD_MCPIO_UBICACION                      NaN   \n",
       "ESTU_RESIDE_MCPIO                            CALI   \n",
       "ESTU_RESIDE_DEPTO                           VALLE   \n",
       "ESTU_COD_RESIDE_MCPIO                       76001   \n",
       "ESTU_ZONA_RESIDE                                1   \n",
       "COLE_COD_DANE_INSTITUCION                     NaN   \n",
       "COLE_COD_ICFES                                NaN   \n",
       "COLE_NOMBRE_SEDE                              NaN   \n",
       "COLE_JORNADA                                  NaN   \n",
       "COLE_GENERO                                   NaN   \n",
       "COLE_CARACTER                                 NaN   \n",
       "COLE_NATURALEZA                              OTRO   \n",
       "COLE_BILINGUE                                 NaN   \n",
       "COLE_CALENDARIO                               NaN   \n",
       "ESTU_AREA_RESIDE                                U   \n",
       "...                                           ...   \n",
       "FAMI_LAVADORA                                   S   \n",
       "FAMI_MICROONDAS                                 S   \n",
       "FAMI_AUTOMOVIL                                  S   \n",
       "FAMI_HORNO                                      S   \n",
       "FAMI_INGRESO_FMILIAR_MENSUAL                    4   \n",
       "ESTU_TRABAJA                                  NaN   \n",
       "ESTU_RECIBE_SALARIO                           NaN   \n",
       "ESTU_VECES_ESTADO                               4   \n",
       "ESTU_COD_DEPTO_PRESENTACION                    76   \n",
       "ESTU_COD_MCPIO_PRESENTACION                 76001   \n",
       "ESTU_MCPIO_PRESENTACION                      CALI   \n",
       "ESTU_DEPTO_PRESENTACION                     VALLE   \n",
       "ESTU_COD_PLANTEL                             1015   \n",
       "DECIL_LECTURA_CRITICA                         D06   \n",
       "PUNT_LECTURA_CRITICA                           53   \n",
       "DECIL_MATEMATICAS                             D10   \n",
       "PUNT_MATEMATICAS                               83   \n",
       "DECIL_C_NATURALES                             D06   \n",
       "PUNT_C_NATURALES                               57   \n",
       "DECIL_SOCIALES_CIUDADANAS                     D09   \n",
       "PUNT_SOCIALES_CIUDADANAS                       74   \n",
       "DECIL_INGLES                                  D10   \n",
       "DESEMP_INGLES                                  B+   \n",
       "PUNT_INGLES                                    95   \n",
       "DECIL_RAZONA_CUANT                            D09   \n",
       "PUNT_RAZONA_CUANT                              73   \n",
       "DECIL_COMP_CIUDADANA                          D08   \n",
       "PUNT_COMP_CIUDADANA                            66   \n",
       "PUNT_GLOBAL                                   345   \n",
       "ESTU_PUESTO                                   188   \n",
       "\n",
       "                                                                               1  \\\n",
       "PERIODO                                                                    20151   \n",
       "ESTU_CONSECUTIVO                                              SABER1120151000002   \n",
       "ESTU_ESTUDIANTE                                                       ESTUDIANTE   \n",
       "ESTU_EDAD                                                                     28   \n",
       "ESTU_TIPO_DOCUMENTO                                                           CC   \n",
       "ESTU_PAIS_RESIDE                                                               1   \n",
       "ESTU_GENERO                                                                    F   \n",
       "ESTU_FECHA_NACIMIENTO                                                 09/09/1986   \n",
       "ESTU_ETNIA                                                                   100   \n",
       "ESTU_LIMITA_MOTRIZ                                                           NaN   \n",
       "ESTU_LIMITA_INVIDENTE                                                        NaN   \n",
       "ESTU_LIMITA_CONDICIONESPECIAL                                                NaN   \n",
       "ESTU_LIMITA_SORDO                                                            NaN   \n",
       "ESTU_LIMITA_SDOWN                                                            NaN   \n",
       "ESTU_LIMITA_AUTISMO                                                          NaN   \n",
       "COLE_COD_MCPIO_UBICACION                                                   20011   \n",
       "ESTU_RESIDE_MCPIO                                                      AGUACHICA   \n",
       "ESTU_RESIDE_DEPTO                                                          CESAR   \n",
       "ESTU_COD_RESIDE_MCPIO                                                      20011   \n",
       "ESTU_ZONA_RESIDE                                                              10   \n",
       "COLE_COD_DANE_INSTITUCION                                            3.20011e+11   \n",
       "COLE_COD_ICFES                                                            143503   \n",
       "COLE_NOMBRE_SEDE               CORPORACION DE EDUCACION TECNICA DEL ORIENTE -...   \n",
       "COLE_JORNADA                                                                   S   \n",
       "COLE_GENERO                                                                MIXTO   \n",
       "COLE_CARACTER                                                          ACADÉMICO   \n",
       "COLE_NATURALEZA                                                       NO OFICIAL   \n",
       "COLE_BILINGUE                                                                NaN   \n",
       "COLE_CALENDARIO                                                                A   \n",
       "ESTU_AREA_RESIDE                                                               U   \n",
       "...                                                                          ...   \n",
       "FAMI_LAVADORA                                                                  S   \n",
       "FAMI_MICROONDAS                                                                S   \n",
       "FAMI_AUTOMOVIL                                                                 S   \n",
       "FAMI_HORNO                                                                     S   \n",
       "FAMI_INGRESO_FMILIAR_MENSUAL                                                   2   \n",
       "ESTU_TRABAJA                                                                   1   \n",
       "ESTU_RECIBE_SALARIO                                                          NaN   \n",
       "ESTU_VECES_ESTADO                                                            NaN   \n",
       "ESTU_COD_DEPTO_PRESENTACION                                                   20   \n",
       "ESTU_COD_MCPIO_PRESENTACION                                                20011   \n",
       "ESTU_MCPIO_PRESENTACION                                                AGUACHICA   \n",
       "ESTU_DEPTO_PRESENTACION                                                    CESAR   \n",
       "ESTU_COD_PLANTEL                                                             NaN   \n",
       "DECIL_LECTURA_CRITICA                                                        D01   \n",
       "PUNT_LECTURA_CRITICA                                                          37   \n",
       "DECIL_MATEMATICAS                                                            D03   \n",
       "PUNT_MATEMATICAS                                                              45   \n",
       "DECIL_C_NATURALES                                                            D01   \n",
       "PUNT_C_NATURALES                                                              32   \n",
       "DECIL_SOCIALES_CIUDADANAS                                                    D01   \n",
       "PUNT_SOCIALES_CIUDADANAS                                                      34   \n",
       "DECIL_INGLES                                                                 D04   \n",
       "DESEMP_INGLES                                                                 A-   \n",
       "PUNT_INGLES                                                                   49   \n",
       "DECIL_RAZONA_CUANT                                                           D05   \n",
       "PUNT_RAZONA_CUANT                                                             52   \n",
       "DECIL_COMP_CIUDADANA                                                         D01   \n",
       "PUNT_COMP_CIUDADANA                                                           30   \n",
       "PUNT_GLOBAL                                                                  190   \n",
       "ESTU_PUESTO                                                                  906   \n",
       "\n",
       "                                                2  \n",
       "PERIODO                                     20151  \n",
       "ESTU_CONSECUTIVO               SABER1120151000003  \n",
       "ESTU_ESTUDIANTE                        INDIVIDUAL  \n",
       "ESTU_EDAD                                      41  \n",
       "ESTU_TIPO_DOCUMENTO                            CC  \n",
       "ESTU_PAIS_RESIDE                                1  \n",
       "ESTU_GENERO                                     F  \n",
       "ESTU_FECHA_NACIMIENTO                  11/10/1973  \n",
       "ESTU_ETNIA                                    100  \n",
       "ESTU_LIMITA_MOTRIZ                            NaN  \n",
       "ESTU_LIMITA_INVIDENTE                         NaN  \n",
       "ESTU_LIMITA_CONDICIONESPECIAL                 NaN  \n",
       "ESTU_LIMITA_SORDO                             NaN  \n",
       "ESTU_LIMITA_SDOWN                             NaN  \n",
       "ESTU_LIMITA_AUTISMO                           NaN  \n",
       "COLE_COD_MCPIO_UBICACION                      NaN  \n",
       "ESTU_RESIDE_MCPIO                    PUERTO LOPEZ  \n",
       "ESTU_RESIDE_DEPTO                            META  \n",
       "ESTU_COD_RESIDE_MCPIO                       50573  \n",
       "ESTU_ZONA_RESIDE                               10  \n",
       "COLE_COD_DANE_INSTITUCION                     NaN  \n",
       "COLE_COD_ICFES                                NaN  \n",
       "COLE_NOMBRE_SEDE                              NaN  \n",
       "COLE_JORNADA                                  NaN  \n",
       "COLE_GENERO                                   NaN  \n",
       "COLE_CARACTER                                 NaN  \n",
       "COLE_NATURALEZA                              OTRO  \n",
       "COLE_BILINGUE                                 NaN  \n",
       "COLE_CALENDARIO                               NaN  \n",
       "ESTU_AREA_RESIDE                                U  \n",
       "...                                           ...  \n",
       "FAMI_LAVADORA                                   S  \n",
       "FAMI_MICROONDAS                                 N  \n",
       "FAMI_AUTOMOVIL                                  N  \n",
       "FAMI_HORNO                                      N  \n",
       "FAMI_INGRESO_FMILIAR_MENSUAL                    3  \n",
       "ESTU_TRABAJA                                  NaN  \n",
       "ESTU_RECIBE_SALARIO                           NaN  \n",
       "ESTU_VECES_ESTADO                               4  \n",
       "ESTU_COD_DEPTO_PRESENTACION                    50  \n",
       "ESTU_COD_MCPIO_PRESENTACION                 50001  \n",
       "ESTU_MCPIO_PRESENTACION             VILLAVICENCIO  \n",
       "ESTU_DEPTO_PRESENTACION                      META  \n",
       "ESTU_COD_PLANTEL                              NaN  \n",
       "DECIL_LECTURA_CRITICA                         D06  \n",
       "PUNT_LECTURA_CRITICA                           55  \n",
       "DECIL_MATEMATICAS                             D09  \n",
       "PUNT_MATEMATICAS                               71  \n",
       "DECIL_C_NATURALES                             D08  \n",
       "PUNT_C_NATURALES                               69  \n",
       "DECIL_SOCIALES_CIUDADANAS                     D07  \n",
       "PUNT_SOCIALES_CIUDADANAS                       60  \n",
       "DECIL_INGLES                                  D07  \n",
       "DESEMP_INGLES                                  A2  \n",
       "PUNT_INGLES                                    59  \n",
       "DECIL_RAZONA_CUANT                            D09  \n",
       "PUNT_RAZONA_CUANT                              73  \n",
       "DECIL_COMP_CIUDADANA                          D07  \n",
       "PUNT_COMP_CIUDADANA                            58  \n",
       "PUNT_GLOBAL                                   317  \n",
       "ESTU_PUESTO                                   286  \n",
       "\n",
       "[128 rows x 3 columns]"
      ]
     },
     "execution_count": 4,
     "metadata": {},
     "output_type": "execute_result"
    }
   ],
   "source": [
    "data_2015.head(3).T"
   ]
  },
  {
   "cell_type": "code",
   "execution_count": 5,
   "metadata": {
    "collapsed": false,
    "scrolled": true
   },
   "outputs": [
    {
     "name": "stdout",
     "output_type": "stream",
     "text": [
      "Int64Index([20151], dtype='int64')\n",
      "20151    106540\n",
      "Name: PERIODO, dtype: int64\n",
      "Elementos null/NaN 0\n",
      "__________________\n",
      "Elementos diferentes de null/NaN: 106540\n",
      "__________________\n",
      "(106540,)\n",
      "None\n"
     ]
    }
   ],
   "source": [
    "c = 'PERIODO'\n",
    "print(data_2015[c].value_counts().sort_index().index)\n",
    "print(data_2015[c].value_counts().sort_index())\n",
    "print(missing_data(data_2015[c]))"
   ]
  },
  {
   "cell_type": "code",
   "execution_count": 6,
   "metadata": {
    "collapsed": true
   },
   "outputs": [],
   "source": [
    "data_2015 = data_2015.drop(c, axis=1)"
   ]
  },
  {
   "cell_type": "code",
   "execution_count": 7,
   "metadata": {
    "collapsed": false,
    "scrolled": true
   },
   "outputs": [
    {
     "name": "stdout",
     "output_type": "stream",
     "text": [
      "Index(['SABER1120151000001', 'SABER1120151000002', 'SABER1120151000003',\n",
      "       'SABER1120151000004', 'SABER1120151000005', 'SABER1120151000006',\n",
      "       'SABER1120151000007', 'SABER1120151000008', 'SABER1120151000009',\n",
      "       'SABER1120151000010',\n",
      "       ...\n",
      "       'SABER1120151108249', 'SABER1120151108250', 'SABER1120151108251',\n",
      "       'SABER1120151108252', 'SABER1120151108253', 'SABER1120151108254',\n",
      "       'SABER1120151108255', 'SABER1120151108256', 'SABER1120151108257',\n",
      "       'SABER1120151108258'],\n",
      "      dtype='object', length=106540)\n",
      "SABER1120151000001    1\n",
      "SABER1120151000002    1\n",
      "SABER1120151000003    1\n",
      "SABER1120151000004    1\n",
      "SABER1120151000005    1\n",
      "SABER1120151000006    1\n",
      "SABER1120151000007    1\n",
      "SABER1120151000008    1\n",
      "SABER1120151000009    1\n",
      "SABER1120151000010    1\n",
      "SABER1120151000011    1\n",
      "SABER1120151000012    1\n",
      "SABER1120151000013    1\n",
      "SABER1120151000014    1\n",
      "SABER1120151000015    1\n",
      "SABER1120151000016    1\n",
      "SABER1120151000017    1\n",
      "SABER1120151000018    1\n",
      "SABER1120151000019    1\n",
      "SABER1120151000020    1\n",
      "SABER1120151000021    1\n",
      "SABER1120151000022    1\n",
      "SABER1120151000023    1\n",
      "SABER1120151000024    1\n",
      "SABER1120151000025    1\n",
      "SABER1120151000026    1\n",
      "SABER1120151000027    1\n",
      "SABER1120151000028    1\n",
      "SABER1120151000029    1\n",
      "SABER1120151000030    1\n",
      "                     ..\n",
      "SABER1120151108229    1\n",
      "SABER1120151108230    1\n",
      "SABER1120151108231    1\n",
      "SABER1120151108232    1\n",
      "SABER1120151108233    1\n",
      "SABER1120151108234    1\n",
      "SABER1120151108235    1\n",
      "SABER1120151108236    1\n",
      "SABER1120151108237    1\n",
      "SABER1120151108238    1\n",
      "SABER1120151108239    1\n",
      "SABER1120151108240    1\n",
      "SABER1120151108241    1\n",
      "SABER1120151108242    1\n",
      "SABER1120151108243    1\n",
      "SABER1120151108244    1\n",
      "SABER1120151108245    1\n",
      "SABER1120151108246    1\n",
      "SABER1120151108247    1\n",
      "SABER1120151108248    1\n",
      "SABER1120151108249    1\n",
      "SABER1120151108250    1\n",
      "SABER1120151108251    1\n",
      "SABER1120151108252    1\n",
      "SABER1120151108253    1\n",
      "SABER1120151108254    1\n",
      "SABER1120151108255    1\n",
      "SABER1120151108256    1\n",
      "SABER1120151108257    1\n",
      "SABER1120151108258    1\n",
      "Name: ESTU_CONSECUTIVO, dtype: int64\n",
      "Elementos null/NaN 0\n",
      "__________________\n",
      "Elementos diferentes de null/NaN: 106540\n",
      "__________________\n",
      "(106540,)\n",
      "None\n"
     ]
    }
   ],
   "source": [
    "c = 'ESTU_CONSECUTIVO'\n",
    "print(data_2015[c].value_counts().sort_index().index)\n",
    "print(data_2015[c].value_counts().sort_index())\n",
    "print(missing_data(data_2015[c]))"
   ]
  },
  {
   "cell_type": "code",
   "execution_count": 8,
   "metadata": {
    "collapsed": true
   },
   "outputs": [],
   "source": [
    "data_2015 = data_2015.drop(c, axis=1)"
   ]
  },
  {
   "cell_type": "code",
   "execution_count": 9,
   "metadata": {
    "collapsed": false
   },
   "outputs": [
    {
     "name": "stdout",
     "output_type": "stream",
     "text": [
      "Index(['ESTUDIANTE', 'INDIVIDUAL'], dtype='object')\n",
      "ESTUDIANTE    25800\n",
      "INDIVIDUAL    80740\n",
      "Name: ESTU_ESTUDIANTE, dtype: int64\n",
      "Elementos null/NaN 0\n",
      "__________________\n",
      "Elementos diferentes de null/NaN: 106540\n",
      "__________________\n",
      "(106540,)\n",
      "None\n"
     ]
    }
   ],
   "source": [
    "c = 'ESTU_ESTUDIANTE'\n",
    "print(data_2015[c].value_counts().sort_index().index)\n",
    "print(data_2015[c].value_counts().sort_index())\n",
    "print(missing_data(data_2015[c]))"
   ]
  },
  {
   "cell_type": "code",
   "execution_count": 10,
   "metadata": {
    "collapsed": false,
    "scrolled": true
   },
   "outputs": [
    {
     "name": "stdout",
     "output_type": "stream",
     "text": [
      "Float64Index([  0.0,   1.0,   2.0,   3.0,   4.0,   5.0,   6.0,   7.0,   8.0,\n",
      "                9.0,  10.0,  11.0,  12.0,  13.0,  14.0,  15.0,  16.0,  17.0,\n",
      "               18.0,  19.0,  20.0,  21.0,  22.0,  23.0,  24.0,  25.0,  26.0,\n",
      "               27.0,  28.0,  29.0,  30.0,  31.0,  32.0,  33.0,  34.0,  35.0,\n",
      "               36.0,  37.0,  38.0,  39.0,  40.0,  41.0,  42.0,  43.0,  44.0,\n",
      "               45.0,  46.0,  47.0,  48.0,  49.0,  50.0,  51.0,  52.0,  53.0,\n",
      "               54.0,  55.0,  56.0,  57.0,  58.0,  59.0,  60.0,  61.0,  62.0,\n",
      "               63.0,  64.0,  65.0,  66.0,  67.0,  68.0,  69.0,  70.0,  71.0,\n",
      "               72.0,  74.0,  79.0,  81.0,  84.0,  98.0, 100.0],\n",
      "             dtype='float64')\n",
      "0        292\n",
      "1         45\n",
      "2          5\n",
      "3          2\n",
      "4          4\n",
      "5          9\n",
      "6          4\n",
      "7          7\n",
      "8          8\n",
      "9         14\n",
      "10         7\n",
      "11         4\n",
      "12        14\n",
      "13         9\n",
      "14        58\n",
      "15      1157\n",
      "16     10645\n",
      "17     21506\n",
      "18     17297\n",
      "19     11232\n",
      "20      7934\n",
      "21      5821\n",
      "22      4443\n",
      "23      3525\n",
      "24      2800\n",
      "25      2215\n",
      "26      1803\n",
      "27      1545\n",
      "28      1457\n",
      "29      1360\n",
      "       ...  \n",
      "49       184\n",
      "50       177\n",
      "51       121\n",
      "52       116\n",
      "53       114\n",
      "54        97\n",
      "55        86\n",
      "56        60\n",
      "57        58\n",
      "58        43\n",
      "59        36\n",
      "60        21\n",
      "61        26\n",
      "62        21\n",
      "63        12\n",
      "64        11\n",
      "65         6\n",
      "66         8\n",
      "67         9\n",
      "68         7\n",
      "69         4\n",
      "70         2\n",
      "71         3\n",
      "72         3\n",
      "74         2\n",
      "79         1\n",
      "81         2\n",
      "84         1\n",
      "98         2\n",
      "100        1\n",
      "Name: ESTU_EDAD, dtype: int64\n",
      "Elementos null/NaN 7\n",
      "__________________\n",
      "Elementos diferentes de null/NaN: 106533\n",
      "__________________\n",
      "(106533,)\n",
      "None\n"
     ]
    }
   ],
   "source": [
    "c = 'ESTU_EDAD'\n",
    "print(data_2015[c].value_counts().sort_index().index)\n",
    "print(data_2015[c].value_counts().sort_index())\n",
    "print(missing_data(data_2015[c]))"
   ]
  },
  {
   "cell_type": "code",
   "execution_count": 11,
   "metadata": {
    "collapsed": false
   },
   "outputs": [
    {
     "name": "stdout",
     "output_type": "stream",
     "text": [
      "cant null antes: 389\n",
      "cant null despues: 0\n"
     ]
    }
   ],
   "source": [
    "for i in data_2015[c].value_counts().sort_index().index:\n",
    "    if i < 9:\n",
    "        data_2015[c] = data_2015[c].replace(i, np.nan)\n",
    "    elif i > 80:\n",
    "        data_2015[c] = data_2015[c].replace(i, np.nan)\n",
    "        \n",
    "Do_resamples(data_2015, c, float)"
   ]
  },
  {
   "cell_type": "code",
   "execution_count": 12,
   "metadata": {
    "collapsed": false
   },
   "outputs": [
    {
     "name": "stdout",
     "output_type": "stream",
     "text": [
      "Index(['CC', 'CE', 'CR', 'PC', 'PE', 'PV', 'TI'], dtype='object')\n",
      "CC    66357\n",
      "CE      251\n",
      "CR     3267\n",
      "PC       26\n",
      "PE      122\n",
      "PV        1\n",
      "TI    36516\n",
      "Name: ESTU_TIPO_DOCUMENTO, dtype: int64\n",
      "Elementos null/NaN 0\n",
      "__________________\n",
      "Elementos diferentes de null/NaN: 106540\n",
      "__________________\n",
      "(106540,)\n",
      "None\n"
     ]
    }
   ],
   "source": [
    "c = 'ESTU_TIPO_DOCUMENTO'\n",
    "print(data_2015[c].value_counts().sort_index().index)\n",
    "print(data_2015[c].value_counts().sort_index())\n",
    "print(missing_data(data_2015[c]))"
   ]
  },
  {
   "cell_type": "code",
   "execution_count": 13,
   "metadata": {
    "collapsed": true
   },
   "outputs": [],
   "source": [
    "data_2015 = data_2015.drop(c, axis=1)"
   ]
  },
  {
   "cell_type": "code",
   "execution_count": 14,
   "metadata": {
    "collapsed": false,
    "scrolled": true
   },
   "outputs": [
    {
     "name": "stdout",
     "output_type": "stream",
     "text": [
      "Int64Index([  1,   6,  12,  13,  28,  33,  40,  42,  46,  47,  50,  54,  55,\n",
      "             57,  64,  65,  67,  76,  83,  86,  91,  98,  99, 101, 110, 119,\n",
      "            144, 154, 157, 160, 167, 171, 174, 183, 188, 209, 216, 220, 235,\n",
      "            236, 241, 242],\n",
      "           dtype='int64')\n",
      "1      106186\n",
      "6           1\n",
      "12         18\n",
      "13          4\n",
      "28          3\n",
      "33          2\n",
      "40          1\n",
      "42          3\n",
      "46          5\n",
      "47          1\n",
      "50          4\n",
      "54          1\n",
      "55          2\n",
      "57          5\n",
      "64          2\n",
      "65         30\n",
      "67          1\n",
      "76          8\n",
      "83          4\n",
      "86          1\n",
      "91          3\n",
      "98          1\n",
      "99          3\n",
      "101         1\n",
      "110         2\n",
      "119         6\n",
      "144        16\n",
      "154         1\n",
      "157         1\n",
      "160         1\n",
      "167         1\n",
      "171         3\n",
      "174        15\n",
      "183         2\n",
      "188         1\n",
      "209        20\n",
      "216         2\n",
      "220         1\n",
      "235         2\n",
      "236        32\n",
      "241       141\n",
      "242         3\n",
      "Name: ESTU_PAIS_RESIDE, dtype: int64\n",
      "Elementos null/NaN 0\n",
      "__________________\n",
      "Elementos diferentes de null/NaN: 106540\n",
      "__________________\n",
      "(106540,)\n",
      "None\n"
     ]
    }
   ],
   "source": [
    "c = 'ESTU_PAIS_RESIDE'\n",
    "print(data_2015[c].value_counts().sort_index().index)\n",
    "print(data_2015[c].value_counts().sort_index())\n",
    "print(missing_data(data_2015[c]))"
   ]
  },
  {
   "cell_type": "code",
   "execution_count": 15,
   "metadata": {
    "collapsed": false
   },
   "outputs": [
    {
     "name": "stdout",
     "output_type": "stream",
     "text": [
      "Index(['F', 'M'], dtype='object')\n",
      "F    53800\n",
      "M    52737\n",
      "Name: ESTU_GENERO, dtype: int64\n",
      "Elementos null/NaN 3\n",
      "__________________\n",
      "Elementos diferentes de null/NaN: 106537\n",
      "__________________\n",
      "(106537,)\n",
      "None\n"
     ]
    }
   ],
   "source": [
    "c = 'ESTU_GENERO'\n",
    "print(data_2015[c].value_counts().sort_index().index)\n",
    "print(data_2015[c].value_counts().sort_index())\n",
    "print(missing_data(data_2015[c]))"
   ]
  },
  {
   "cell_type": "code",
   "execution_count": 16,
   "metadata": {
    "collapsed": false
   },
   "outputs": [
    {
     "name": "stdout",
     "output_type": "stream",
     "text": [
      "cant null antes: 3\n",
      "cant null despues: 0\n"
     ]
    }
   ],
   "source": [
    "Do_resamples(data_2015, c, str)"
   ]
  },
  {
   "cell_type": "code",
   "execution_count": 17,
   "metadata": {
    "collapsed": false,
    "scrolled": true
   },
   "outputs": [
    {
     "name": "stdout",
     "output_type": "stream",
     "text": [
      "Index(['01/01/1957', '01/01/1959', '01/01/1960', '01/01/1962', '01/01/1963',\n",
      "       '01/01/1964', '01/01/1965', '01/01/1967', '01/01/1968', '01/01/1970',\n",
      "       ...\n",
      "       '31/12/1990', '31/12/1991', '31/12/1992', '31/12/1993', '31/12/1994',\n",
      "       '31/12/1995', '31/12/1996', '31/12/1997', '31/12/1998', '31/12/2005'],\n",
      "      dtype='object', length=11659)\n",
      "01/01/1957     1\n",
      "01/01/1959     1\n",
      "01/01/1960     1\n",
      "01/01/1962     2\n",
      "01/01/1963     1\n",
      "01/01/1964     1\n",
      "01/01/1965     2\n",
      "01/01/1967     1\n",
      "01/01/1968     1\n",
      "01/01/1970     3\n",
      "01/01/1971     1\n",
      "01/01/1973     1\n",
      "01/01/1974     2\n",
      "01/01/1975     2\n",
      "01/01/1977     3\n",
      "01/01/1978     2\n",
      "01/01/1979     1\n",
      "01/01/1980     7\n",
      "01/01/1981     2\n",
      "01/01/1982     2\n",
      "01/01/1983     5\n",
      "01/01/1984     7\n",
      "01/01/1985     2\n",
      "01/01/1986     7\n",
      "01/01/1987     4\n",
      "01/01/1988     5\n",
      "01/01/1989    11\n",
      "01/01/1990    12\n",
      "01/01/1991    11\n",
      "01/01/1992    10\n",
      "              ..\n",
      "31/12/1962     1\n",
      "31/12/1968     1\n",
      "31/12/1970     1\n",
      "31/12/1971     1\n",
      "31/12/1973     1\n",
      "31/12/1974     3\n",
      "31/12/1976     1\n",
      "31/12/1977     3\n",
      "31/12/1978     2\n",
      "31/12/1979     1\n",
      "31/12/1980     3\n",
      "31/12/1981     2\n",
      "31/12/1982     7\n",
      "31/12/1983     5\n",
      "31/12/1984     8\n",
      "31/12/1985     3\n",
      "31/12/1986     1\n",
      "31/12/1987     6\n",
      "31/12/1988     5\n",
      "31/12/1989     5\n",
      "31/12/1990    10\n",
      "31/12/1991    14\n",
      "31/12/1992    10\n",
      "31/12/1993    20\n",
      "31/12/1994    23\n",
      "31/12/1995    39\n",
      "31/12/1996    43\n",
      "31/12/1997    32\n",
      "31/12/1998    11\n",
      "31/12/2005     1\n",
      "Name: ESTU_FECHA_NACIMIENTO, dtype: int64\n",
      "Elementos null/NaN 0\n",
      "__________________\n",
      "Elementos diferentes de null/NaN: 106540\n",
      "__________________\n",
      "(106540,)\n",
      "None\n"
     ]
    }
   ],
   "source": [
    "c = 'ESTU_FECHA_NACIMIENTO'\n",
    "print(data_2015[c].value_counts().sort_index().index)\n",
    "print(data_2015[c].value_counts().sort_index())\n",
    "print(missing_data(data_2015[c]))"
   ]
  },
  {
   "cell_type": "code",
   "execution_count": 18,
   "metadata": {
    "collapsed": true
   },
   "outputs": [],
   "source": [
    "Sep_Col = pd.DataFrame(data_2015.ESTU_FECHA_NACIMIENTO.str.split('/').tolist(), columns=['ESTU_NACIMIENTO_DIA', \n",
    "                                                                                         'ESTU_NACIMIENTO_MES',\n",
    "                                                                                         'ESTU_NACIMIENTO_ANNO'])\n",
    "data_2015 = pd.concat([data_2015, Sep_Col], axis=1)"
   ]
  },
  {
   "cell_type": "code",
   "execution_count": 19,
   "metadata": {
    "collapsed": true
   },
   "outputs": [],
   "source": [
    "data_2015 = data_2015.drop(c, axis=1)"
   ]
  },
  {
   "cell_type": "code",
   "execution_count": 20,
   "metadata": {
    "collapsed": false,
    "scrolled": true
   },
   "outputs": [
    {
     "name": "stdout",
     "output_type": "stream",
     "text": [
      "Float64Index([  1.0,   2.0,   3.0,   4.0,   5.0,   6.0,   7.0,   8.0,   9.0,\n",
      "               10.0,  11.0,  12.0,  13.0,  14.0,  15.0,  16.0,  17.0,  18.0,\n",
      "               19.0, 100.0],\n",
      "             dtype='float64')\n",
      "1       4323\n",
      "2        175\n",
      "3         53\n",
      "4        369\n",
      "5         50\n",
      "6        202\n",
      "7        346\n",
      "8        350\n",
      "9        505\n",
      "10        23\n",
      "11        48\n",
      "12        12\n",
      "13        43\n",
      "14        35\n",
      "15        37\n",
      "16        50\n",
      "17       174\n",
      "18       259\n",
      "19      2525\n",
      "100    90011\n",
      "Name: ESTU_ETNIA, dtype: int64\n",
      "Elementos null/NaN 6950\n",
      "__________________\n",
      "Elementos diferentes de null/NaN: 99590\n",
      "__________________\n",
      "(99590,)\n",
      "None\n"
     ]
    }
   ],
   "source": [
    "c = 'ESTU_ETNIA'\n",
    "print(data_2015[c].value_counts().sort_index().index)\n",
    "print(data_2015[c].value_counts().sort_index())\n",
    "print(missing_data(data_2015[c]))"
   ]
  },
  {
   "cell_type": "code",
   "execution_count": 21,
   "metadata": {
    "collapsed": true
   },
   "outputs": [],
   "source": [
    "data_2015[c].fillna(100, inplace=True)"
   ]
  },
  {
   "cell_type": "code",
   "execution_count": 22,
   "metadata": {
    "collapsed": false
   },
   "outputs": [
    {
     "name": "stdout",
     "output_type": "stream",
     "text": [
      "Index(['MOT'], dtype='object')\n",
      "MOT    140\n",
      "Name: ESTU_LIMITA_MOTRIZ, dtype: int64\n",
      "Elementos null/NaN 106400\n",
      "__________________\n",
      "Elementos diferentes de null/NaN: 140\n",
      "__________________\n",
      "(140,)\n",
      "None\n"
     ]
    }
   ],
   "source": [
    "c = 'ESTU_LIMITA_MOTRIZ'\n",
    "print(data_2015[c].value_counts().sort_index().index)\n",
    "print(data_2015[c].value_counts().sort_index())\n",
    "print(missing_data(data_2015[c]))"
   ]
  },
  {
   "cell_type": "code",
   "execution_count": 23,
   "metadata": {
    "collapsed": true
   },
   "outputs": [],
   "source": [
    "data_2015 = data_2015.drop(c, axis=1)"
   ]
  },
  {
   "cell_type": "code",
   "execution_count": 24,
   "metadata": {
    "collapsed": false
   },
   "outputs": [
    {
     "name": "stdout",
     "output_type": "stream",
     "text": [
      "Index(['VIS'], dtype='object')\n",
      "VIS    32\n",
      "Name: ESTU_LIMITA_INVIDENTE, dtype: int64\n",
      "Elementos null/NaN 106508\n",
      "__________________\n",
      "Elementos diferentes de null/NaN: 32\n",
      "__________________\n",
      "(32,)\n",
      "None\n"
     ]
    }
   ],
   "source": [
    "c = 'ESTU_LIMITA_INVIDENTE'\n",
    "print(data_2015[c].value_counts().sort_index().index)\n",
    "print(data_2015[c].value_counts().sort_index())\n",
    "print(missing_data(data_2015[c]))"
   ]
  },
  {
   "cell_type": "code",
   "execution_count": 25,
   "metadata": {
    "collapsed": true
   },
   "outputs": [],
   "source": [
    "data_2015 = data_2015.drop(c, axis=1)"
   ]
  },
  {
   "cell_type": "code",
   "execution_count": 26,
   "metadata": {
    "collapsed": false
   },
   "outputs": [
    {
     "name": "stdout",
     "output_type": "stream",
     "text": [
      "Index(['CE'], dtype='object')\n",
      "CE    23\n",
      "Name: ESTU_LIMITA_CONDICIONESPECIAL, dtype: int64\n",
      "Elementos null/NaN 106517\n",
      "__________________\n",
      "Elementos diferentes de null/NaN: 23\n",
      "__________________\n",
      "(23,)\n",
      "None\n"
     ]
    }
   ],
   "source": [
    "c = 'ESTU_LIMITA_CONDICIONESPECIAL'\n",
    "print(data_2015[c].value_counts().sort_index().index)\n",
    "print(data_2015[c].value_counts().sort_index())\n",
    "print(missing_data(data_2015[c]))"
   ]
  },
  {
   "cell_type": "code",
   "execution_count": 27,
   "metadata": {
    "collapsed": true
   },
   "outputs": [],
   "source": [
    "data_2015 = data_2015.drop(c, axis=1)"
   ]
  },
  {
   "cell_type": "code",
   "execution_count": 28,
   "metadata": {
    "collapsed": false
   },
   "outputs": [
    {
     "name": "stdout",
     "output_type": "stream",
     "text": [
      "Index(['AUD'], dtype='object')\n",
      "AUD    39\n",
      "Name: ESTU_LIMITA_SORDO, dtype: int64\n",
      "Elementos null/NaN 106501\n",
      "__________________\n",
      "Elementos diferentes de null/NaN: 39\n",
      "__________________\n",
      "(39,)\n",
      "None\n"
     ]
    }
   ],
   "source": [
    "c = 'ESTU_LIMITA_SORDO'\n",
    "print(data_2015[c].value_counts().sort_index().index)\n",
    "print(data_2015[c].value_counts().sort_index())\n",
    "print(missing_data(data_2015[c]))"
   ]
  },
  {
   "cell_type": "code",
   "execution_count": 29,
   "metadata": {
    "collapsed": true
   },
   "outputs": [],
   "source": [
    "data_2015 = data_2015.drop(c, axis=1)"
   ]
  },
  {
   "cell_type": "code",
   "execution_count": 30,
   "metadata": {
    "collapsed": false
   },
   "outputs": [
    {
     "name": "stdout",
     "output_type": "stream",
     "text": [
      "Index(['SD'], dtype='object')\n",
      "SD    5\n",
      "Name: ESTU_LIMITA_SDOWN, dtype: int64\n",
      "Elementos null/NaN 106535\n",
      "__________________\n",
      "Elementos diferentes de null/NaN: 5\n",
      "__________________\n",
      "(5,)\n",
      "None\n"
     ]
    }
   ],
   "source": [
    "c = 'ESTU_LIMITA_SDOWN'\n",
    "print(data_2015[c].value_counts().sort_index().index)\n",
    "print(data_2015[c].value_counts().sort_index())\n",
    "print(missing_data(data_2015[c]))"
   ]
  },
  {
   "cell_type": "code",
   "execution_count": 31,
   "metadata": {
    "collapsed": true
   },
   "outputs": [],
   "source": [
    "data_2015 = data_2015.drop(c, axis=1)"
   ]
  },
  {
   "cell_type": "code",
   "execution_count": 32,
   "metadata": {
    "collapsed": false
   },
   "outputs": [
    {
     "name": "stdout",
     "output_type": "stream",
     "text": [
      "Index(['AA'], dtype='object')\n",
      "AA    18\n",
      "Name: ESTU_LIMITA_AUTISMO, dtype: int64\n",
      "Elementos null/NaN 106522\n",
      "__________________\n",
      "Elementos diferentes de null/NaN: 18\n",
      "__________________\n",
      "(18,)\n",
      "None\n"
     ]
    }
   ],
   "source": [
    "c = 'ESTU_LIMITA_AUTISMO'\n",
    "print(data_2015[c].value_counts().sort_index().index)\n",
    "print(data_2015[c].value_counts().sort_index())\n",
    "print(missing_data(data_2015[c]))"
   ]
  },
  {
   "cell_type": "code",
   "execution_count": 33,
   "metadata": {
    "collapsed": true
   },
   "outputs": [],
   "source": [
    "data_2015 = data_2015.drop(c, axis=1)"
   ]
  },
  {
   "cell_type": "code",
   "execution_count": 34,
   "metadata": {
    "collapsed": false,
    "scrolled": true
   },
   "outputs": [
    {
     "name": "stdout",
     "output_type": "stream",
     "text": [
      "Float64Index([ 5001.0,  5042.0,  5045.0,  5086.0,  5088.0,  5129.0,  5266.0,\n",
      "               5360.0,  5376.0,  5380.0,\n",
      "              ...\n",
      "              76892.0, 81001.0, 85001.0, 85440.0, 86001.0, 86320.0, 86568.0,\n",
      "              86865.0, 94001.0, 95001.0],\n",
      "             dtype='float64', length=144)\n",
      "5001      947\n",
      "5042       23\n",
      "5045       56\n",
      "5086       25\n",
      "5088      218\n",
      "5129       27\n",
      "5266      307\n",
      "5360       40\n",
      "5376       28\n",
      "5380       91\n",
      "5440        9\n",
      "5495       36\n",
      "5607       53\n",
      "5615       26\n",
      "5697       39\n",
      "8001      451\n",
      "8573      392\n",
      "8685        1\n",
      "8758      133\n",
      "11001    6702\n",
      "13001     332\n",
      "13244       9\n",
      "13654       2\n",
      "15001     115\n",
      "15176      25\n",
      "15238      84\n",
      "15516       9\n",
      "15693       2\n",
      "15755      12\n",
      "15759      80\n",
      "         ... \n",
      "73268      25\n",
      "73283      36\n",
      "73411      44\n",
      "73443      45\n",
      "73449      29\n",
      "73504      30\n",
      "76001    6297\n",
      "76109      66\n",
      "76111     325\n",
      "76130      80\n",
      "76147     102\n",
      "76233      16\n",
      "76248     145\n",
      "76250      17\n",
      "76275       3\n",
      "76364      93\n",
      "76520     801\n",
      "76563      13\n",
      "76622       5\n",
      "76834      51\n",
      "76892     249\n",
      "81001      28\n",
      "85001      69\n",
      "85440      15\n",
      "86001      24\n",
      "86320      19\n",
      "86568      35\n",
      "86865       4\n",
      "94001      13\n",
      "95001       8\n",
      "Name: COLE_COD_MCPIO_UBICACION, dtype: int64\n",
      "Elementos null/NaN 80740\n",
      "__________________\n",
      "Elementos diferentes de null/NaN: 25800\n",
      "__________________\n",
      "(25800,)\n",
      "None\n"
     ]
    }
   ],
   "source": [
    "c = 'COLE_COD_MCPIO_UBICACION'\n",
    "print(data_2015[c].value_counts().sort_index().index)\n",
    "print(data_2015[c].value_counts().sort_index())\n",
    "print(missing_data(data_2015[c]))"
   ]
  },
  {
   "cell_type": "code",
   "execution_count": 35,
   "metadata": {
    "collapsed": true
   },
   "outputs": [],
   "source": [
    "data_2015 = data_2015.drop(c, axis=1)"
   ]
  },
  {
   "cell_type": "code",
   "execution_count": 36,
   "metadata": {
    "collapsed": false,
    "scrolled": true
   },
   "outputs": [
    {
     "name": "stdout",
     "output_type": "stream",
     "text": [
      "Index(['ABREGO', 'ABRIAQUI', 'ACACIAS', 'ACEVEDO', 'ACHI', 'AGRADO',\n",
      "       'AGUA DE DIOS', 'AGUACHICA', 'AGUADAS', 'AGUAZUL',\n",
      "       ...\n",
      "       'YOPAL', 'YOTOCO', 'YUMBO', 'ZAPATOCA', 'ZARAGOZA', 'ZARZAL',\n",
      "       'ZETAQUIRA', 'ZIPACON', 'ZIPAQUIRA', 'ZONA BANANERA'],\n",
      "      dtype='object', length=954)\n",
      "ABREGO                        15\n",
      "ABRIAQUI                       2\n",
      "ACACIAS                      131\n",
      "ACEVEDO                       63\n",
      "ACHI                           1\n",
      "AGRADO                         8\n",
      "AGUA DE DIOS                  17\n",
      "AGUACHICA                    243\n",
      "AGUADAS                       10\n",
      "AGUAZUL                       57\n",
      "AGUSTIN CODAZZI               95\n",
      "AIPE                          37\n",
      "ALBAN                          3\n",
      "ALBAN (SAN JOSE)              43\n",
      "ALBANIA                       55\n",
      "ALCALA                         5\n",
      "ALDANA                        20\n",
      "ALEJANDRIA                     3\n",
      "ALGECIRAS                     48\n",
      "ALMAGUER                       6\n",
      "ALTAMIRA                       7\n",
      "ALTO BAUDO (PIE DE PATO)      17\n",
      "ALTOS DEL ROSARIO              2\n",
      "ALVARADO                       7\n",
      "AMAGA                          6\n",
      "AMALFI                         6\n",
      "AMBALEMA                       7\n",
      "ANAPOIMA                      17\n",
      "ANCUYA                        31\n",
      "ANDALUCIA                     44\n",
      "                            ... \n",
      "VILLA RICA                    41\n",
      "VILLAGARZON                   42\n",
      "VILLAGOMEZ                     1\n",
      "VILLAHERMOSA                   5\n",
      "VILLAMARIA                   152\n",
      "VILLANUEVA                   121\n",
      "VILLAPINZON                   27\n",
      "VILLARRICA                     6\n",
      "VILLAVICENCIO               1816\n",
      "VILLAVIEJA                     5\n",
      "VILLETA                       42\n",
      "VIOTA                          7\n",
      "VISTA HERMOSA                 21\n",
      "VITERBO                        8\n",
      "YACOPI                         9\n",
      "YACUANQUER                    36\n",
      "YAGUARA                       25\n",
      "YARUMAL                       14\n",
      "YOLOMBO                        2\n",
      "YONDO (CASABE)                19\n",
      "YOPAL                        374\n",
      "YOTOCO                        16\n",
      "YUMBO                        332\n",
      "ZAPATOCA                      11\n",
      "ZARAGOZA                      24\n",
      "ZARZAL                       141\n",
      "ZETAQUIRA                      8\n",
      "ZIPACON                        2\n",
      "ZIPAQUIRA                    191\n",
      "ZONA BANANERA                 16\n",
      "Name: ESTU_RESIDE_MCPIO, dtype: int64\n",
      "Elementos null/NaN 3\n",
      "__________________\n",
      "Elementos diferentes de null/NaN: 106537\n",
      "__________________\n",
      "(106537,)\n",
      "None\n"
     ]
    }
   ],
   "source": [
    "c = 'ESTU_RESIDE_MCPIO'\n",
    "print(data_2015[c].value_counts().sort_index().index)\n",
    "print(data_2015[c].value_counts().sort_index())\n",
    "print(missing_data(data_2015[c]))"
   ]
  },
  {
   "cell_type": "code",
   "execution_count": 37,
   "metadata": {
    "collapsed": true
   },
   "outputs": [],
   "source": [
    "data_2015[c].fillna(method='bfill', inplace=True)\n",
    "data_2015[c].fillna(method='ffill', inplace=True)"
   ]
  },
  {
   "cell_type": "code",
   "execution_count": 38,
   "metadata": {
    "collapsed": false,
    "scrolled": true
   },
   "outputs": [
    {
     "name": "stdout",
     "output_type": "stream",
     "text": [
      "Index(['AMAZONAS', 'ANTIOQUIA', 'ARAUCA', 'ATLANTICO', 'BOGOTA', 'BOLIVAR',\n",
      "       'BOYACA', 'CALDAS', 'CAQUETA', 'CASANARE', 'CAUCA', 'CESAR', 'CHOCO',\n",
      "       'CORDOBA', 'CUNDINAMARCA', 'EXTRANJERO', 'GUAINIA', 'GUAVIARE', 'HUILA',\n",
      "       'LA GUAJIRA', 'MAGDALENA', 'META', 'NARIÑO', 'NORTE SANTANDER',\n",
      "       'PUTUMAYO', 'QUINDIO', 'RISARALDA', 'SAN ANDRES', 'SANTANDER', 'SUCRE',\n",
      "       'TOLIMA', 'VALLE', 'VAUPES', 'VICHADA'],\n",
      "      dtype='object')\n",
      "AMAZONAS              29\n",
      "ANTIOQUIA           7407\n",
      "ARAUCA               408\n",
      "ATLANTICO           3494\n",
      "BOGOTA             18970\n",
      "BOLIVAR             2241\n",
      "BOYACA              4661\n",
      "CALDAS              2469\n",
      "CAQUETA              867\n",
      "CASANARE             653\n",
      "CAUCA               3830\n",
      "CESAR               1863\n",
      "CHOCO                747\n",
      "CORDOBA             1540\n",
      "CUNDINAMARCA        3848\n",
      "EXTRANJERO             8\n",
      "GUAINIA               48\n",
      "GUAVIARE             155\n",
      "HUILA               4478\n",
      "LA GUAJIRA          1062\n",
      "MAGDALENA            908\n",
      "META                2290\n",
      "NARIÑO              7833\n",
      "NORTE SANTANDER     2091\n",
      "PUTUMAYO            1151\n",
      "QUINDIO             1279\n",
      "RISARALDA           1827\n",
      "SAN ANDRES            56\n",
      "SANTANDER           6847\n",
      "SUCRE                751\n",
      "TOLIMA              3370\n",
      "VALLE              19303\n",
      "VAUPES                25\n",
      "VICHADA               28\n",
      "Name: ESTU_RESIDE_DEPTO, dtype: int64\n",
      "Elementos null/NaN 3\n",
      "__________________\n",
      "Elementos diferentes de null/NaN: 106537\n",
      "__________________\n",
      "(106537,)\n",
      "None\n"
     ]
    }
   ],
   "source": [
    "c = 'ESTU_RESIDE_DEPTO'\n",
    "print(data_2015[c].value_counts().sort_index().index)\n",
    "print(data_2015[c].value_counts().sort_index())\n",
    "print(missing_data(data_2015[c]))"
   ]
  },
  {
   "cell_type": "code",
   "execution_count": 39,
   "metadata": {
    "collapsed": true
   },
   "outputs": [],
   "source": [
    "data_2015[c].fillna(method='bfill', inplace=True)\n",
    "data_2015[c].fillna(method='ffill', inplace=True)"
   ]
  },
  {
   "cell_type": "code",
   "execution_count": 40,
   "metadata": {
    "collapsed": false,
    "scrolled": true
   },
   "outputs": [
    {
     "name": "stdout",
     "output_type": "stream",
     "text": [
      "Float64Index([ 5001.0,  5004.0,  5021.0,  5030.0,  5031.0,  5034.0,  5036.0,\n",
      "               5038.0,  5040.0,  5042.0,\n",
      "              ...\n",
      "              94883.0, 95001.0, 95015.0, 95025.0, 97001.0, 97666.0, 99001.0,\n",
      "              99524.0, 99773.0, 99999.0],\n",
      "             dtype='float64', length=1027)\n",
      "5001     3398\n",
      "5004        2\n",
      "5021        3\n",
      "5030        6\n",
      "5031        6\n",
      "5034       17\n",
      "5036        1\n",
      "5038        3\n",
      "5040        3\n",
      "5042       19\n",
      "5044        3\n",
      "5045      626\n",
      "5051       11\n",
      "5055        1\n",
      "5059        1\n",
      "5079       30\n",
      "5086       26\n",
      "5088      600\n",
      "5091        3\n",
      "5093        2\n",
      "5101        7\n",
      "5107        9\n",
      "5113       35\n",
      "5120       15\n",
      "5125        3\n",
      "5129       87\n",
      "5138        5\n",
      "5142        3\n",
      "5145        1\n",
      "5147      182\n",
      "         ... \n",
      "85430      10\n",
      "85440      47\n",
      "86001     259\n",
      "86219      33\n",
      "86320     148\n",
      "86568     296\n",
      "86569      28\n",
      "86571      40\n",
      "86573       6\n",
      "86749     108\n",
      "86755      15\n",
      "86757      45\n",
      "86760      24\n",
      "86865     107\n",
      "86885      42\n",
      "88001      51\n",
      "88564       5\n",
      "91001      28\n",
      "91540       1\n",
      "94001      45\n",
      "94883       3\n",
      "95001     149\n",
      "95015       2\n",
      "95025       4\n",
      "97001      24\n",
      "97666       1\n",
      "99001      23\n",
      "99524       1\n",
      "99773       4\n",
      "99999       8\n",
      "Name: ESTU_COD_RESIDE_MCPIO, dtype: int64\n",
      "Elementos null/NaN 3\n",
      "__________________\n",
      "Elementos diferentes de null/NaN: 106537\n",
      "__________________\n",
      "(106537,)\n",
      "None\n"
     ]
    }
   ],
   "source": [
    "c = 'ESTU_COD_RESIDE_MCPIO'\n",
    "print(data_2015[c].value_counts().sort_index().index)\n",
    "print(data_2015[c].value_counts().sort_index())\n",
    "print(missing_data(data_2015[c]))"
   ]
  },
  {
   "cell_type": "code",
   "execution_count": 41,
   "metadata": {
    "collapsed": true
   },
   "outputs": [],
   "source": [
    "data_2015 = data_2015.drop(c, axis=1)"
   ]
  },
  {
   "cell_type": "code",
   "execution_count": 42,
   "metadata": {
    "collapsed": false
   },
   "outputs": [
    {
     "name": "stdout",
     "output_type": "stream",
     "text": [
      "Int64Index([1, 2, 3, 4, 5, 6, 7, 8, 9, 10], dtype='int64')\n",
      "1     10398\n",
      "2      1094\n",
      "3      2063\n",
      "4     14893\n",
      "5      8814\n",
      "6      2825\n",
      "7      2205\n",
      "8      4196\n",
      "9      3659\n",
      "10    56393\n",
      "Name: ESTU_ZONA_RESIDE, dtype: int64\n",
      "Elementos null/NaN 0\n",
      "__________________\n",
      "Elementos diferentes de null/NaN: 106540\n",
      "__________________\n",
      "(106540,)\n",
      "None\n"
     ]
    }
   ],
   "source": [
    "c = 'ESTU_ZONA_RESIDE'\n",
    "print(data_2015[c].value_counts().sort_index().index)\n",
    "print(data_2015[c].value_counts().sort_index())\n",
    "print(missing_data(data_2015[c]))"
   ]
  },
  {
   "cell_type": "code",
   "execution_count": 43,
   "metadata": {
    "collapsed": false,
    "scrolled": true
   },
   "outputs": [
    {
     "name": "stdout",
     "output_type": "stream",
     "text": [
      "Float64Index([105001000256.0, 105001000566.0, 105001001155.0, 105001002020.0,\n",
      "              105001002526.0, 105001003387.0, 105001003425.0, 105001024571.0,\n",
      "              105042000732.0, 105045000148.0,\n",
      "              ...\n",
      "              550350000002.0, 568001009700.0, 568001009730.0, 568432001300.0,\n",
      "              625214000001.0, 625269000075.0, 625269000078.0, 625269000082.0,\n",
      "              625269000084.0, 818001100040.0],\n",
      "             dtype='float64', length=897)\n",
      "1.050010e+11      2\n",
      "1.050010e+11      1\n",
      "1.050010e+11      3\n",
      "1.050010e+11      8\n",
      "1.050010e+11      7\n",
      "1.050010e+11     11\n",
      "1.050010e+11     21\n",
      "1.050010e+11     29\n",
      "1.050420e+11     23\n",
      "1.050450e+11     53\n",
      "1.050880e+11     27\n",
      "1.050880e+11     11\n",
      "1.050880e+11     29\n",
      "1.051290e+11     27\n",
      "1.052660e+11     36\n",
      "1.052660e+11      1\n",
      "1.052660e+11     14\n",
      "1.053600e+11      7\n",
      "1.054400e+11      9\n",
      "1.086850e+11      1\n",
      "1.110010e+11     20\n",
      "1.110010e+11     12\n",
      "1.110010e+11     13\n",
      "1.110010e+11     23\n",
      "1.110010e+11      5\n",
      "1.110010e+11     13\n",
      "1.110010e+11     24\n",
      "1.110010e+11      4\n",
      "1.110010e+11     11\n",
      "1.110010e+11      1\n",
      "               ... \n",
      "4.760010e+11     10\n",
      "4.760010e+11     15\n",
      "4.760010e+11     17\n",
      "4.760010e+11     59\n",
      "4.761300e+11     56\n",
      "4.762330e+11     16\n",
      "4.762480e+11     90\n",
      "4.762480e+11     27\n",
      "4.765200e+11     16\n",
      "4.765200e+11     16\n",
      "4.765200e+11     93\n",
      "4.768921e+11      7\n",
      "4.768921e+11      3\n",
      "4.768921e+11      4\n",
      "4.850010e+11      4\n",
      "4.865681e+11      4\n",
      "5.190010e+11     43\n",
      "5.191420e+11     14\n",
      "5.258430e+11      1\n",
      "5.410010e+11     35\n",
      "5.503500e+11     10\n",
      "5.680010e+11      7\n",
      "5.680010e+11     14\n",
      "5.684320e+11      2\n",
      "6.252140e+11     27\n",
      "6.252690e+11      6\n",
      "6.252690e+11    126\n",
      "6.252690e+11     31\n",
      "6.252690e+11      8\n",
      "8.180011e+11     15\n",
      "Name: COLE_COD_DANE_INSTITUCION, dtype: int64\n",
      "Elementos null/NaN 80740\n",
      "__________________\n",
      "Elementos diferentes de null/NaN: 25800\n",
      "__________________\n",
      "(25800,)\n",
      "None\n"
     ]
    }
   ],
   "source": [
    "c = 'COLE_COD_DANE_INSTITUCION'\n",
    "print(data_2015[c].value_counts().sort_index().index)\n",
    "print(data_2015[c].value_counts().sort_index())\n",
    "print(missing_data(data_2015[c]))"
   ]
  },
  {
   "cell_type": "code",
   "execution_count": 44,
   "metadata": {
    "collapsed": false
   },
   "outputs": [
    {
     "name": "stdout",
     "output_type": "stream",
     "text": [
      "cant null antes: 80740\n",
      "cant null despues: 0\n"
     ]
    }
   ],
   "source": [
    "Do_resamples(data_2015, c, float)"
   ]
  },
  {
   "cell_type": "code",
   "execution_count": 45,
   "metadata": {
    "collapsed": false,
    "scrolled": true
   },
   "outputs": [
    {
     "name": "stdout",
     "output_type": "stream",
     "text": [
      "Float64Index([   182.0,    638.0,   1503.0,   1867.0,   2287.0,   3046.0,\n",
      "                3327.0,   3418.0,   3459.0,   4036.0,\n",
      "              ...\n",
      "              191304.0, 191387.0, 191445.0, 191825.0, 191890.0, 192278.0,\n",
      "              193086.0, 193268.0, 193391.0, 193409.0],\n",
      "             dtype='float64', length=965)\n",
      "182       109\n",
      "638       236\n",
      "1503       27\n",
      "1867        1\n",
      "2287        9\n",
      "3046       55\n",
      "3327       12\n",
      "3418       51\n",
      "3459       82\n",
      "4036        1\n",
      "4234       48\n",
      "5785       24\n",
      "6023       90\n",
      "7013       72\n",
      "7070       56\n",
      "7088       42\n",
      "9696        6\n",
      "11262      76\n",
      "11288     101\n",
      "12013      21\n",
      "13243      17\n",
      "13466      25\n",
      "13847      29\n",
      "14506      18\n",
      "16402      29\n",
      "16667      67\n",
      "16691     128\n",
      "16709      54\n",
      "16733      46\n",
      "16741      84\n",
      "         ... \n",
      "183673     36\n",
      "186494     70\n",
      "186551     18\n",
      "188581     23\n",
      "189399      4\n",
      "189704      8\n",
      "189837      8\n",
      "189845      1\n",
      "189902      3\n",
      "190009     28\n",
      "190272      9\n",
      "190280      5\n",
      "190645      4\n",
      "190744      8\n",
      "190926     23\n",
      "190991     21\n",
      "191114      6\n",
      "191148     12\n",
      "191155     17\n",
      "191288      8\n",
      "191304      1\n",
      "191387      1\n",
      "191445      2\n",
      "191825     41\n",
      "191890      1\n",
      "192278     33\n",
      "193086      6\n",
      "193268     17\n",
      "193391     19\n",
      "193409     25\n",
      "Name: COLE_COD_ICFES, dtype: int64\n",
      "Elementos null/NaN 80740\n",
      "__________________\n",
      "Elementos diferentes de null/NaN: 25800\n",
      "__________________\n",
      "(25800,)\n",
      "None\n"
     ]
    }
   ],
   "source": [
    "c = 'COLE_COD_ICFES'\n",
    "print(data_2015[c].value_counts().sort_index().index)\n",
    "print(data_2015[c].value_counts().sort_index())\n",
    "print(missing_data(data_2015[c]))"
   ]
  },
  {
   "cell_type": "code",
   "execution_count": 46,
   "metadata": {
    "collapsed": false
   },
   "outputs": [
    {
     "name": "stdout",
     "output_type": "stream",
     "text": [
      "cant null antes: 80740\n",
      "cant null despues: 0\n"
     ]
    }
   ],
   "source": [
    "for i in data_2015[c].value_counts().sort_index().index:\n",
    "    if len(str(i)) < 4:\n",
    "        data_2015[c] = data_2015[c].replace(i, np.nan)\n",
    "        \n",
    "Do_resamples(data_2015, c, float)"
   ]
  },
  {
   "cell_type": "code",
   "execution_count": 47,
   "metadata": {
    "collapsed": false,
    "scrolled": true
   },
   "outputs": [
    {
     "name": "stdout",
     "output_type": "stream",
     "text": [
      "Index(['ACAD AMERICANA DE SISTEMAS Y COMERCIO',\n",
      "       'ACADE MILIT JOAQUÍN DE CAICEDO Y CUERO',\n",
      "       'ACADEMIA COLOMBIANA DE ENSEÑANZA',\n",
      "       'ACADEMIA DE CIENCIAS DE COLOMBIA AKADEMOS',\n",
      "       'ACADEMIA MILIT CORONEL MIGUEL CABAL BARONA',\n",
      "       'ACADEMIA MILITAR GENERAL JOSÉ MARÍA CABAL',\n",
      "       'ALAS COLEGIO  - SEDE PRINCIPAL', 'AMERICAN SCHOOL',\n",
      "       'ASOCIACION COLEGIO GRANADINO',\n",
      "       'ASPAEN COLEGIO JUANAMBÚ - SEDE PRINCIPAL',\n",
      "       ...\n",
      "       'SEMINARIO MENOR ARQUIDIOCESANO',\n",
      "       'SERVICIO EDUCATIVO NAL DE ADULTOS SENDAS',\n",
      "       'STUDIO SISTEMAS AGENCIA CRISTIANA DE SERVICIO Y EDUCACION',\n",
      "       'TANDEM - SEDE PRINCIPAL', 'TERRA INSTITUTI - SEDE PRINCIPAL',\n",
      "       'TERRA INSTITUTO VILLA  - SEDE PRINCIPAL',\n",
      "       'UNION PROFESIONAL PARA LA EDUCACION Y EL TRABAJO UPET',\n",
      "       'UNION SINDICAL OBRERA  USO', 'UNITECNICAS - SEDE PRINCIPAL',\n",
      "       'VERNOT SCHOOL'],\n",
      "      dtype='object', length=886)\n",
      "ACAD AMERICANA DE SISTEMAS Y COMERCIO                                               22\n",
      "ACADE MILIT JOAQUÍN DE CAICEDO Y CUERO                                              31\n",
      "ACADEMIA COLOMBIANA DE ENSEÑANZA                                                    57\n",
      "ACADEMIA DE CIENCIAS DE COLOMBIA AKADEMOS                                           21\n",
      "ACADEMIA MILIT CORONEL MIGUEL CABAL BARONA                                          11\n",
      "ACADEMIA MILITAR GENERAL JOSÉ MARÍA CABAL                                           19\n",
      "ALAS COLEGIO  - SEDE PRINCIPAL                                                       6\n",
      "AMERICAN SCHOOL                                                                     33\n",
      "ASOCIACION COLEGIO GRANADINO                                                        33\n",
      "ASPAEN COLEGIO JUANAMBÚ - SEDE PRINCIPAL                                            16\n",
      "ASPAEN GIMNASIO CARTAGENA DE INDIAS                                                 33\n",
      "ASPAEN GIMNASIO IRAGUA                                                              43\n",
      "ASPAEN GIMNASIO LOS CORALES                                                         13\n",
      "ASPAEN LICEO TACURÍ                                                                 19\n",
      "ASPAEN-GIMNASIO LOS CEREZOS                                                         17\n",
      "ATENEO AUTONOMO DE FLORENCIA                                                        24\n",
      "BACHILLERATO ACADEMICO PARA ADULTOS ALHERSAN                                        72\n",
      "BACHILLERATO AGROPECUARIO SAT PROHACIENDO - SEDE PRINCIPAL                          34\n",
      "BACHILLERATO DIVERSIFICADO A DISTANCIA PARA ADULTOS DE LA UNAD - SEDE PRINCIPAL      1\n",
      "BACHILLERATO INTEGRAL DEL QUINDIO                                                   21\n",
      "BOSQUECITO ENCANTADO Y COLEGIO EL BOSQUE                                             7\n",
      "BRAULIO GONZALEZ                                                                     5\n",
      "BTO  SEMESTRALIZADO SINTEUCAUCA - SEDE PRINCIPAL                                     5\n",
      "BTO ACAD CICLICO DEL CAUCA                                                          18\n",
      "BTO DE ADULTOS UNAD                                                                 24\n",
      "BTO FORMAL DE ADULTOS DEL CAUCA                                                     16\n",
      "BTO MODERNO DE ADULTOS EXTERNADO DEL SUR                                            79\n",
      "BTO PARA ADULTOS COLSUBSIDIO                                                        59\n",
      "C. E. FORMAL DISCENTER S - SEDE PRINCIPAL                                           39\n",
      "C.E. JÓVENES CON FUTURO - SEDE PRINCIPAL                                            16\n",
      "                                                                                  ... \n",
      "POLITECNICO SUPERIOR DEL VALLE                                                       8\n",
      "POLITECNICO UNIVERSAL DE CAPACITACION                                               26\n",
      "REAL COL SAN FRANCISCO DE ASIS                                                      56\n",
      "RODRIGO LARA BONILLA                                                                 2\n",
      "SAGRADO CORAZON (sede principal)                                                     1\n",
      "SAINT GEORGE SCHOOL - SAN JORGE - SEDE PRINCIPAL                                    12\n",
      "SANTA  MARIA STELLA MARIS                                                           20\n",
      "SANTA BARBARA                                                                       24\n",
      "SANTA MARIANA DE JESÚS                                                              28\n",
      "SANTA TERESA DE JESUS FE Y ALEGRIA                                                   1\n",
      "SEDE # 1 IBERIA                                                                      8\n",
      "SEDE 1 ANTONIO REYES UMAÑA                                                           4\n",
      "SEDE 4 CURAL LA TIGRERA                                                             16\n",
      "SEDE INURBE                                                                          1\n",
      "SEDE JOHN F KENNEDY                                                                 12\n",
      "SEDE LA PAMBA                                                                        2\n",
      "SEDE PRINCIPAL CONCENTRACIÓN DE DESARROLLO RURAL                                     1\n",
      "SEDE PRINCIPAL GIMNASIO DEL PACIFICO CENTRAL                                         3\n",
      "SEDE PRINCIPAL INSTITUTO JULIA RESTREPO                                              3\n",
      "SEM DE CRISTO SACERDOTE                                                             36\n",
      "SEMINARIO MENOR ARQUIDIOCESANO                                                      42\n",
      "SERVICIO EDUCATIVO NAL DE ADULTOS SENDAS                                            30\n",
      "STUDIO SISTEMAS AGENCIA CRISTIANA DE SERVICIO Y EDUCACION                           91\n",
      "TANDEM - SEDE PRINCIPAL                                                              8\n",
      "TERRA INSTITUTI - SEDE PRINCIPAL                                                   111\n",
      "TERRA INSTITUTO VILLA  - SEDE PRINCIPAL                                             24\n",
      "UNION PROFESIONAL PARA LA EDUCACION Y EL TRABAJO UPET                               53\n",
      "UNION SINDICAL OBRERA  USO                                                          18\n",
      "UNITECNICAS - SEDE PRINCIPAL                                                        21\n",
      "VERNOT SCHOOL                                                                       14\n",
      "Name: COLE_NOMBRE_SEDE, dtype: int64\n",
      "Elementos null/NaN 80740\n",
      "__________________\n",
      "Elementos diferentes de null/NaN: 25800\n",
      "__________________\n",
      "(25800,)\n",
      "None\n"
     ]
    }
   ],
   "source": [
    "c = 'COLE_NOMBRE_SEDE'\n",
    "print(data_2015[c].value_counts().sort_index().index)\n",
    "print(data_2015[c].value_counts().sort_index())\n",
    "print(missing_data(data_2015[c]))"
   ]
  },
  {
   "cell_type": "code",
   "execution_count": 48,
   "metadata": {
    "collapsed": true
   },
   "outputs": [],
   "source": [
    "data_2015 = data_2015.drop(c, axis=1)"
   ]
  },
  {
   "cell_type": "code",
   "execution_count": 49,
   "metadata": {
    "collapsed": false
   },
   "outputs": [
    {
     "name": "stdout",
     "output_type": "stream",
     "text": [
      "Index(['C', 'M', 'N', 'S', 'T', 'U'], dtype='object')\n",
      "C    8840\n",
      "M    8052\n",
      "N    3401\n",
      "S    4471\n",
      "T    1003\n",
      "U      33\n",
      "Name: COLE_JORNADA, dtype: int64\n",
      "Elementos null/NaN 80740\n",
      "__________________\n",
      "Elementos diferentes de null/NaN: 25800\n",
      "__________________\n",
      "(25800,)\n",
      "None\n"
     ]
    }
   ],
   "source": [
    "c = 'COLE_JORNADA'\n",
    "print(data_2015[c].value_counts().sort_index().index)\n",
    "print(data_2015[c].value_counts().sort_index())\n",
    "print(missing_data(data_2015[c]))"
   ]
  },
  {
   "cell_type": "code",
   "execution_count": 50,
   "metadata": {
    "collapsed": false
   },
   "outputs": [
    {
     "name": "stdout",
     "output_type": "stream",
     "text": [
      "cant null antes: 80740\n",
      "cant null despues: 1\n",
      "cant null antes: 1\n",
      "cant null despues: 0\n"
     ]
    }
   ],
   "source": [
    "Do_resamples(data_2015, c, str)"
   ]
  },
  {
   "cell_type": "code",
   "execution_count": 51,
   "metadata": {
    "collapsed": false
   },
   "outputs": [
    {
     "name": "stdout",
     "output_type": "stream",
     "text": [
      "Index(['FEMENINO', 'MASCULINO', 'MIXTO'], dtype='object')\n",
      "FEMENINO      1266\n",
      "MASCULINO      434\n",
      "MIXTO        24100\n",
      "Name: COLE_GENERO, dtype: int64\n",
      "Elementos null/NaN 80740\n",
      "__________________\n",
      "Elementos diferentes de null/NaN: 25800\n",
      "__________________\n",
      "(25800,)\n",
      "None\n"
     ]
    }
   ],
   "source": [
    "c = 'COLE_GENERO'\n",
    "print(data_2015[c].value_counts().sort_index().index)\n",
    "print(data_2015[c].value_counts().sort_index())\n",
    "print(missing_data(data_2015[c]))"
   ]
  },
  {
   "cell_type": "code",
   "execution_count": 52,
   "metadata": {
    "collapsed": false
   },
   "outputs": [
    {
     "name": "stdout",
     "output_type": "stream",
     "text": [
      "cant null antes: 80740\n",
      "cant null despues: 0\n"
     ]
    }
   ],
   "source": [
    "Do_resamples(data_2015, c, str)"
   ]
  },
  {
   "cell_type": "code",
   "execution_count": 53,
   "metadata": {
    "collapsed": false
   },
   "outputs": [
    {
     "name": "stdout",
     "output_type": "stream",
     "text": [
      "Index(['ACADÉMICO', 'NO_APLICA', 'TÉCNICO', 'TÉCNICO/ACADÉMICO'], dtype='object')\n",
      "ACADÉMICO            20653\n",
      "NO_APLICA              272\n",
      "TÉCNICO               2134\n",
      "TÉCNICO/ACADÉMICO     2202\n",
      "Name: COLE_CARACTER, dtype: int64\n",
      "Elementos null/NaN 81279\n",
      "__________________\n",
      "Elementos diferentes de null/NaN: 25261\n",
      "__________________\n",
      "(25261,)\n",
      "None\n"
     ]
    }
   ],
   "source": [
    "c = 'COLE_CARACTER'\n",
    "print(data_2015[c].value_counts().sort_index().index)\n",
    "print(data_2015[c].value_counts().sort_index())\n",
    "print(missing_data(data_2015[c]))"
   ]
  },
  {
   "cell_type": "code",
   "execution_count": 54,
   "metadata": {
    "collapsed": false
   },
   "outputs": [
    {
     "name": "stdout",
     "output_type": "stream",
     "text": [
      "cant null antes: 81279\n",
      "cant null despues: 1\n",
      "cant null antes: 1\n",
      "cant null despues: 0\n"
     ]
    }
   ],
   "source": [
    "Do_resamples(data_2015, c, str)"
   ]
  },
  {
   "cell_type": "code",
   "execution_count": 55,
   "metadata": {
    "collapsed": false
   },
   "outputs": [
    {
     "name": "stdout",
     "output_type": "stream",
     "text": [
      "Index(['NO OFICIAL', 'OFICIAL', 'OTRO'], dtype='object')\n",
      "NO OFICIAL    24047\n",
      "OFICIAL        1753\n",
      "OTRO          80740\n",
      "Name: COLE_NATURALEZA, dtype: int64\n",
      "Elementos null/NaN 0\n",
      "__________________\n",
      "Elementos diferentes de null/NaN: 106540\n",
      "__________________\n",
      "(106540,)\n",
      "None\n"
     ]
    }
   ],
   "source": [
    "c = 'COLE_NATURALEZA'\n",
    "print(data_2015[c].value_counts().sort_index().index)\n",
    "print(data_2015[c].value_counts().sort_index())\n",
    "print(missing_data(data_2015[c]))"
   ]
  },
  {
   "cell_type": "code",
   "execution_count": 56,
   "metadata": {
    "collapsed": false
   },
   "outputs": [
    {
     "name": "stdout",
     "output_type": "stream",
     "text": [
      "cant null antes: 0\n",
      "cant null despues: 0\n"
     ]
    }
   ],
   "source": [
    "Do_resamples(data_2015, c, str)"
   ]
  },
  {
   "cell_type": "code",
   "execution_count": 57,
   "metadata": {
    "collapsed": false
   },
   "outputs": [
    {
     "name": "stdout",
     "output_type": "stream",
     "text": [
      "Index(['N', 'S'], dtype='object')\n",
      "N    18572\n",
      "S     3800\n",
      "Name: COLE_BILINGUE, dtype: int64\n",
      "Elementos null/NaN 84168\n",
      "__________________\n",
      "Elementos diferentes de null/NaN: 22372\n",
      "__________________\n",
      "(22372,)\n",
      "None\n"
     ]
    }
   ],
   "source": [
    "c = 'COLE_BILINGUE'\n",
    "print(data_2015[c].value_counts().sort_index().index)\n",
    "print(data_2015[c].value_counts().sort_index())\n",
    "print(missing_data(data_2015[c]))"
   ]
  },
  {
   "cell_type": "code",
   "execution_count": 58,
   "metadata": {
    "collapsed": false
   },
   "outputs": [
    {
     "name": "stdout",
     "output_type": "stream",
     "text": [
      "cant null antes: 84168\n",
      "cant null despues: 0\n"
     ]
    }
   ],
   "source": [
    "Do_resamples(data_2015, c, str)"
   ]
  },
  {
   "cell_type": "code",
   "execution_count": 59,
   "metadata": {
    "collapsed": false
   },
   "outputs": [
    {
     "name": "stdout",
     "output_type": "stream",
     "text": [
      "Index(['A', 'B', 'O'], dtype='object')\n",
      "A    11052\n",
      "B    13489\n",
      "O     1259\n",
      "Name: COLE_CALENDARIO, dtype: int64\n",
      "Elementos null/NaN 80740\n",
      "__________________\n",
      "Elementos diferentes de null/NaN: 25800\n",
      "__________________\n",
      "(25800,)\n",
      "None\n"
     ]
    }
   ],
   "source": [
    "c = 'COLE_CALENDARIO'\n",
    "print(data_2015[c].value_counts().sort_index().index)\n",
    "print(data_2015[c].value_counts().sort_index())\n",
    "print(missing_data(data_2015[c]))"
   ]
  },
  {
   "cell_type": "code",
   "execution_count": 60,
   "metadata": {
    "collapsed": false
   },
   "outputs": [
    {
     "name": "stdout",
     "output_type": "stream",
     "text": [
      "cant null antes: 80740\n",
      "cant null despues: 0\n"
     ]
    }
   ],
   "source": [
    "Do_resamples(data_2015, c, str)"
   ]
  },
  {
   "cell_type": "code",
   "execution_count": 61,
   "metadata": {
    "collapsed": false
   },
   "outputs": [
    {
     "name": "stdout",
     "output_type": "stream",
     "text": [
      "Index(['R', 'U'], dtype='object')\n",
      "R    11491\n",
      "U    95043\n",
      "Name: ESTU_AREA_RESIDE, dtype: int64\n",
      "Elementos null/NaN 6\n",
      "__________________\n",
      "Elementos diferentes de null/NaN: 106534\n",
      "__________________\n",
      "(106534,)\n",
      "None\n"
     ]
    }
   ],
   "source": [
    "c = 'ESTU_AREA_RESIDE'\n",
    "print(data_2015[c].value_counts().sort_index().index)\n",
    "print(data_2015[c].value_counts().sort_index())\n",
    "print(missing_data(data_2015[c]))"
   ]
  },
  {
   "cell_type": "code",
   "execution_count": 62,
   "metadata": {
    "collapsed": false
   },
   "outputs": [
    {
     "name": "stdout",
     "output_type": "stream",
     "text": [
      "cant null antes: 6\n",
      "cant null despues: 0\n"
     ]
    }
   ],
   "source": [
    "Do_resamples(data_2015, c, str)"
   ]
  },
  {
   "cell_type": "code",
   "execution_count": 63,
   "metadata": {
    "collapsed": false
   },
   "outputs": [
    {
     "name": "stdout",
     "output_type": "stream",
     "text": [
      "Index(['R', 'U'], dtype='object')\n",
      "R     2343\n",
      "U    23457\n",
      "Name: COLE_AREA_UBICACION, dtype: int64\n",
      "Elementos null/NaN 80740\n",
      "__________________\n",
      "Elementos diferentes de null/NaN: 25800\n",
      "__________________\n",
      "(25800,)\n",
      "None\n"
     ]
    }
   ],
   "source": [
    "c = 'COLE_AREA_UBICACION'\n",
    "print(data_2015[c].value_counts().sort_index().index)\n",
    "print(data_2015[c].value_counts().sort_index())\n",
    "print(missing_data(data_2015[c]))"
   ]
  },
  {
   "cell_type": "code",
   "execution_count": 64,
   "metadata": {
    "collapsed": false
   },
   "outputs": [
    {
     "name": "stdout",
     "output_type": "stream",
     "text": [
      "cant null antes: 80740\n",
      "cant null despues: 0\n"
     ]
    }
   ],
   "source": [
    "Do_resamples(data_2015, c, str)"
   ]
  },
  {
   "cell_type": "code",
   "execution_count": 65,
   "metadata": {
    "collapsed": false,
    "scrolled": true
   },
   "outputs": [
    {
     "name": "stdout",
     "output_type": "stream",
     "text": [
      "Index(['ANTIOQUIA', 'ARAUCA', 'ATLANTICO', 'BOGOTA', 'BOLIVAR', 'BOYACA',\n",
      "       'CALDAS', 'CAQUETA', 'CASANARE', 'CAUCA', 'CESAR', 'CHOCO', 'CORDOBA',\n",
      "       'CUNDINAMARCA', 'GUAINIA', 'GUAVIARE', 'HUILA', 'LA GUAJIRA',\n",
      "       'MAGDALENA', 'META', 'NARIÑO', 'NORTE SANTANDER', 'PUTUMAYO', 'QUINDIO',\n",
      "       'RISARALDA', 'SANTANDER', 'SUCRE', 'TOLIMA', 'VALLE'],\n",
      "      dtype='object')\n",
      "ANTIOQUIA          1925\n",
      "ARAUCA               28\n",
      "ATLANTICO           977\n",
      "BOGOTA             6702\n",
      "BOLIVAR             343\n",
      "BOYACA              327\n",
      "CALDAS              416\n",
      "CAQUETA              70\n",
      "CASANARE             84\n",
      "CAUCA              1173\n",
      "CESAR               168\n",
      "CHOCO                 9\n",
      "CORDOBA             103\n",
      "CUNDINAMARCA       1597\n",
      "GUAINIA              13\n",
      "GUAVIARE              8\n",
      "HUILA               329\n",
      "LA GUAJIRA           85\n",
      "MAGDALENA           151\n",
      "META                582\n",
      "NARIÑO              731\n",
      "NORTE SANTANDER     115\n",
      "PUTUMAYO             82\n",
      "QUINDIO             195\n",
      "RISARALDA           387\n",
      "SANTANDER           557\n",
      "SUCRE                22\n",
      "TOLIMA              358\n",
      "VALLE              8263\n",
      "Name: COLE_DEPTO_UBICACION, dtype: int64\n",
      "Elementos null/NaN 80740\n",
      "__________________\n",
      "Elementos diferentes de null/NaN: 25800\n",
      "__________________\n",
      "(25800,)\n",
      "None\n"
     ]
    }
   ],
   "source": [
    "c = 'COLE_DEPTO_UBICACION'\n",
    "print(data_2015[c].value_counts().sort_index().index)\n",
    "print(data_2015[c].value_counts().sort_index())\n",
    "print(missing_data(data_2015[c]))"
   ]
  },
  {
   "cell_type": "code",
   "execution_count": 66,
   "metadata": {
    "collapsed": true
   },
   "outputs": [],
   "source": [
    "data_2015[c].fillna(method='bfill', inplace=True)\n",
    "data_2015[c].fillna(method='ffill', inplace=True)"
   ]
  },
  {
   "cell_type": "code",
   "execution_count": 67,
   "metadata": {
    "collapsed": false,
    "scrolled": true
   },
   "outputs": [
    {
     "name": "stdout",
     "output_type": "stream",
     "text": [
      "Index(['AGUACHICA', 'AGUSTIN CODAZZI', 'ALBANIA', 'ALPUJARRA', 'ANAPOIMA',\n",
      "       'APARTADO', 'ARAUCA', 'ARGELIA', 'ARMENIA', 'BARRANCABERMEJA',\n",
      "       ...\n",
      "       'UBATE', 'VALLEDUPAR', 'VILLA GUAMEZ (LA HORMIGA)', 'VILLAMARIA',\n",
      "       'VILLANUEVA', 'VILLAVICENCIO', 'VISTA HERMOSA', 'YOPAL', 'YUMBO',\n",
      "       'ZIPAQUIRA'],\n",
      "      dtype='object', length=144)\n",
      "AGUACHICA                      84\n",
      "AGUSTIN CODAZZI                16\n",
      "ALBANIA                        28\n",
      "ALPUJARRA                      34\n",
      "ANAPOIMA                        7\n",
      "APARTADO                       56\n",
      "ARAUCA                         28\n",
      "ARGELIA                        14\n",
      "ARMENIA                       131\n",
      "BARRANCABERMEJA                91\n",
      "BARRANQUILLA                  451\n",
      "BELLO                         218\n",
      "BELMIRA                        25\n",
      "BELTRAN                         1\n",
      "BOGOTÁ D.C.                  6702\n",
      "BUCARAMANGA                   187\n",
      "BUENAVENTURA                   66\n",
      "BUENAVISTA                     35\n",
      "BUGA                          325\n",
      "CAJICA                        174\n",
      "CALDAS                         27\n",
      "CALI                         6297\n",
      "CALOTO                         14\n",
      "CANDELARIA                     80\n",
      "CARTAGENA                     332\n",
      "CARTAGO                       102\n",
      "CERETE                          1\n",
      "CHAPARRAL                       1\n",
      "CHIA                          528\n",
      "CHINCHINA                      24\n",
      "                             ... \n",
      "SANTA ROSA DE VITERBO           2\n",
      "SANTACRUZ (GUACHAVES)          56\n",
      "SANTAFÉ DE ANTIOQUIA           23\n",
      "SANTANDER DE QUILICHAO         86\n",
      "SANTO TOMAS                     1\n",
      "SANTUARIO                      39\n",
      "SIBATE                          6\n",
      "SINCELEJO                      18\n",
      "SOACHA                         58\n",
      "SOCOTA                         12\n",
      "SOGAMOSO                       80\n",
      "SOLEDAD                       133\n",
      "SOPO                           16\n",
      "TENJO                          33\n",
      "TIMBIO                          8\n",
      "TOCANCIPA                      39\n",
      "TULUA                          51\n",
      "TUMACO                          8\n",
      "TUNJA                         115\n",
      "TUQUERRES                      21\n",
      "UBATE                           1\n",
      "VALLEDUPAR                     68\n",
      "VILLA GUAMEZ (LA HORMIGA)       4\n",
      "VILLAMARIA                     74\n",
      "VILLANUEVA                     15\n",
      "VILLAVICENCIO                 572\n",
      "VISTA HERMOSA                  10\n",
      "YOPAL                          69\n",
      "YUMBO                         249\n",
      "ZIPAQUIRA                      56\n",
      "Name: COLE_MCPIO_UBICACION, dtype: int64\n",
      "Elementos null/NaN 80740\n",
      "__________________\n",
      "Elementos diferentes de null/NaN: 25800\n",
      "__________________\n",
      "(25800,)\n",
      "None\n"
     ]
    }
   ],
   "source": [
    "c = 'COLE_MCPIO_UBICACION'\n",
    "print(data_2015[c].value_counts().sort_index().index)\n",
    "print(data_2015[c].value_counts().sort_index())\n",
    "print(missing_data(data_2015[c]))"
   ]
  },
  {
   "cell_type": "code",
   "execution_count": 68,
   "metadata": {
    "collapsed": true
   },
   "outputs": [],
   "source": [
    "data_2015[c].fillna(method='bfill', inplace=True)\n",
    "data_2015[c].fillna(method='ffill', inplace=True)"
   ]
  },
  {
   "cell_type": "code",
   "execution_count": 69,
   "metadata": {
    "collapsed": false,
    "scrolled": true
   },
   "outputs": [
    {
     "name": "stdout",
     "output_type": "stream",
     "text": [
      "Float64Index([    5.0,     8.0,    11.0,    13.0,    15.0,    17.0,    18.0,\n",
      "                 19.0,    20.0,    23.0,    25.0,    27.0,    41.0,    44.0,\n",
      "                 47.0,    50.0,    52.0,    54.0,    63.0,    66.0,    68.0,\n",
      "                 70.0,    73.0,    76.0,    81.0,    85.0,    86.0,    88.0,\n",
      "                 91.0,    94.0,    95.0,    97.0,    99.0, 99999.0],\n",
      "             dtype='float64')\n",
      "5         7407\n",
      "8         3494\n",
      "11       18970\n",
      "13        2241\n",
      "15        4661\n",
      "17        2469\n",
      "18         867\n",
      "19        3830\n",
      "20        1863\n",
      "23        1540\n",
      "25        3848\n",
      "27         747\n",
      "41        4478\n",
      "44        1062\n",
      "47         908\n",
      "50        2290\n",
      "52        7833\n",
      "54        2091\n",
      "63        1279\n",
      "66        1827\n",
      "68        6847\n",
      "70         751\n",
      "73        3370\n",
      "76       19303\n",
      "81         408\n",
      "85         653\n",
      "86        1151\n",
      "88          56\n",
      "91          29\n",
      "94          48\n",
      "95         155\n",
      "97          25\n",
      "99          28\n",
      "99999        8\n",
      "Name: ESTU_COD_RESIDE_DEPTO, dtype: int64\n",
      "Elementos null/NaN 3\n",
      "__________________\n",
      "Elementos diferentes de null/NaN: 106537\n",
      "__________________\n",
      "(106537,)\n",
      "None\n"
     ]
    }
   ],
   "source": [
    "c = 'ESTU_COD_RESIDE_DEPTO'\n",
    "print(data_2015[c].value_counts().sort_index().index)\n",
    "print(data_2015[c].value_counts().sort_index())\n",
    "print(missing_data(data_2015[c]))"
   ]
  },
  {
   "cell_type": "code",
   "execution_count": 70,
   "metadata": {
    "collapsed": true
   },
   "outputs": [],
   "source": [
    "data_2015 = data_2015.drop(c, axis=1)"
   ]
  },
  {
   "cell_type": "code",
   "execution_count": 71,
   "metadata": {
    "collapsed": false
   },
   "outputs": [
    {
     "name": "stdout",
     "output_type": "stream",
     "text": [
      "Index(['NO', 'SI'], dtype='object')\n",
      "NO    100437\n",
      "SI      6103\n",
      "Name: ESTU_PRESENTO_ANTECEDENTES, dtype: int64\n",
      "Elementos null/NaN 0\n",
      "__________________\n",
      "Elementos diferentes de null/NaN: 106540\n",
      "__________________\n",
      "(106540,)\n",
      "None\n"
     ]
    }
   ],
   "source": [
    "c = 'ESTU_PRESENTO_ANTECEDENTES'\n",
    "print(data_2015[c].value_counts().sort_index().index)\n",
    "print(data_2015[c].value_counts().sort_index())\n",
    "print(missing_data(data_2015[c]))"
   ]
  },
  {
   "cell_type": "code",
   "execution_count": 72,
   "metadata": {
    "collapsed": false
   },
   "outputs": [
    {
     "name": "stdout",
     "output_type": "stream",
     "text": [
      "Index(['N', 'S'], dtype='object')\n",
      "N    106504\n",
      "S        36\n",
      "Name: ESTU_PRIVADO_LIBERTAD, dtype: int64\n",
      "Elementos null/NaN 0\n",
      "__________________\n",
      "Elementos diferentes de null/NaN: 106540\n",
      "__________________\n",
      "(106540,)\n",
      "None\n"
     ]
    }
   ],
   "source": [
    "c = 'ESTU_PRIVADO_LIBERTAD'\n",
    "print(data_2015[c].value_counts().sort_index().index)\n",
    "print(data_2015[c].value_counts().sort_index())\n",
    "print(missing_data(data_2015[c]))"
   ]
  },
  {
   "cell_type": "code",
   "execution_count": 73,
   "metadata": {
    "collapsed": false
   },
   "outputs": [
    {
     "name": "stdout",
     "output_type": "stream",
     "text": [
      "Index(['N', 'S'], dtype='object')\n",
      "N    5832\n",
      "S     271\n",
      "Name: ESTU_REPROBO_PRIMERO, dtype: int64\n",
      "Elementos null/NaN 100437\n",
      "__________________\n",
      "Elementos diferentes de null/NaN: 6103\n",
      "__________________\n",
      "(6103,)\n",
      "None\n"
     ]
    }
   ],
   "source": [
    "c = 'ESTU_REPROBO_PRIMERO'\n",
    "print(data_2015[c].value_counts().sort_index().index)\n",
    "print(data_2015[c].value_counts().sort_index())\n",
    "print(missing_data(data_2015[c]))"
   ]
  },
  {
   "cell_type": "code",
   "execution_count": 74,
   "metadata": {
    "collapsed": false
   },
   "outputs": [
    {
     "name": "stdout",
     "output_type": "stream",
     "text": [
      "cant null antes: 100437\n",
      "cant null despues: 0\n"
     ]
    }
   ],
   "source": [
    "Do_resamples(data_2015, c, str)"
   ]
  },
  {
   "cell_type": "code",
   "execution_count": 75,
   "metadata": {
    "collapsed": false
   },
   "outputs": [
    {
     "name": "stdout",
     "output_type": "stream",
     "text": [
      "Index(['N', 'S'], dtype='object')\n",
      "N    5894\n",
      "S     209\n",
      "Name: ESTU_REPROBO_SEGUNDO, dtype: int64\n",
      "Elementos null/NaN 100437\n",
      "__________________\n",
      "Elementos diferentes de null/NaN: 6103\n",
      "__________________\n",
      "(6103,)\n",
      "None\n"
     ]
    }
   ],
   "source": [
    "c = 'ESTU_REPROBO_SEGUNDO'\n",
    "print(data_2015[c].value_counts().sort_index().index)\n",
    "print(data_2015[c].value_counts().sort_index())\n",
    "print(missing_data(data_2015[c]))"
   ]
  },
  {
   "cell_type": "code",
   "execution_count": 76,
   "metadata": {
    "collapsed": false
   },
   "outputs": [
    {
     "name": "stdout",
     "output_type": "stream",
     "text": [
      "cant null antes: 100437\n",
      "cant null despues: 0\n"
     ]
    }
   ],
   "source": [
    "Do_resamples(data_2015, c, str)"
   ]
  },
  {
   "cell_type": "code",
   "execution_count": 77,
   "metadata": {
    "collapsed": false
   },
   "outputs": [
    {
     "name": "stdout",
     "output_type": "stream",
     "text": [
      "Index(['N', 'S'], dtype='object')\n",
      "N    5839\n",
      "S     264\n",
      "Name: ESTU_REPROBO_TERCERO, dtype: int64\n",
      "Elementos null/NaN 100437\n",
      "__________________\n",
      "Elementos diferentes de null/NaN: 6103\n",
      "__________________\n",
      "(6103,)\n",
      "None\n"
     ]
    }
   ],
   "source": [
    "c = 'ESTU_REPROBO_TERCERO'\n",
    "print(data_2015[c].value_counts().sort_index().index)\n",
    "print(data_2015[c].value_counts().sort_index())\n",
    "print(missing_data(data_2015[c]))"
   ]
  },
  {
   "cell_type": "code",
   "execution_count": 78,
   "metadata": {
    "collapsed": false
   },
   "outputs": [
    {
     "name": "stdout",
     "output_type": "stream",
     "text": [
      "cant null antes: 100437\n",
      "cant null despues: 0\n"
     ]
    }
   ],
   "source": [
    "Do_resamples(data_2015, c, str)"
   ]
  },
  {
   "cell_type": "code",
   "execution_count": 79,
   "metadata": {
    "collapsed": false,
    "scrolled": true
   },
   "outputs": [
    {
     "name": "stdout",
     "output_type": "stream",
     "text": [
      "Index(['N', 'S'], dtype='object')\n",
      "N    5897\n",
      "S     206\n",
      "Name: ESTU_REPROBO_CUARTO, dtype: int64\n",
      "Elementos null/NaN 100437\n",
      "__________________\n",
      "Elementos diferentes de null/NaN: 6103\n",
      "__________________\n",
      "(6103,)\n",
      "None\n"
     ]
    }
   ],
   "source": [
    "c = 'ESTU_REPROBO_CUARTO'\n",
    "print(data_2015[c].value_counts().sort_index().index)\n",
    "print(data_2015[c].value_counts().sort_index())\n",
    "print(missing_data(data_2015[c]))"
   ]
  },
  {
   "cell_type": "code",
   "execution_count": 80,
   "metadata": {
    "collapsed": false
   },
   "outputs": [
    {
     "name": "stdout",
     "output_type": "stream",
     "text": [
      "cant null antes: 100437\n",
      "cant null despues: 0\n"
     ]
    }
   ],
   "source": [
    "Do_resamples(data_2015, c, str)"
   ]
  },
  {
   "cell_type": "code",
   "execution_count": 81,
   "metadata": {
    "collapsed": false
   },
   "outputs": [
    {
     "name": "stdout",
     "output_type": "stream",
     "text": [
      "Index(['N', 'S'], dtype='object')\n",
      "N    5866\n",
      "S     237\n",
      "Name: ESTU_REPROBO_QUINTO, dtype: int64\n",
      "Elementos null/NaN 100437\n",
      "__________________\n",
      "Elementos diferentes de null/NaN: 6103\n",
      "__________________\n",
      "(6103,)\n",
      "None\n"
     ]
    }
   ],
   "source": [
    "c = 'ESTU_REPROBO_QUINTO'\n",
    "print(data_2015[c].value_counts().sort_index().index)\n",
    "print(data_2015[c].value_counts().sort_index())\n",
    "print(missing_data(data_2015[c]))"
   ]
  },
  {
   "cell_type": "code",
   "execution_count": 82,
   "metadata": {
    "collapsed": false
   },
   "outputs": [
    {
     "name": "stdout",
     "output_type": "stream",
     "text": [
      "cant null antes: 100437\n",
      "cant null despues: 0\n"
     ]
    }
   ],
   "source": [
    "Do_resamples(data_2015, c, str)"
   ]
  },
  {
   "cell_type": "code",
   "execution_count": 83,
   "metadata": {
    "collapsed": false
   },
   "outputs": [
    {
     "name": "stdout",
     "output_type": "stream",
     "text": [
      "Index(['N', 'S'], dtype='object')\n",
      "N    5570\n",
      "S     533\n",
      "Name: ESTU_REPROBO_SEXTO, dtype: int64\n",
      "Elementos null/NaN 100437\n",
      "__________________\n",
      "Elementos diferentes de null/NaN: 6103\n",
      "__________________\n",
      "(6103,)\n",
      "None\n"
     ]
    }
   ],
   "source": [
    "c = 'ESTU_REPROBO_SEXTO'\n",
    "print(data_2015[c].value_counts().sort_index().index)\n",
    "print(data_2015[c].value_counts().sort_index())\n",
    "print(missing_data(data_2015[c]))"
   ]
  },
  {
   "cell_type": "code",
   "execution_count": 84,
   "metadata": {
    "collapsed": false
   },
   "outputs": [
    {
     "name": "stdout",
     "output_type": "stream",
     "text": [
      "cant null antes: 100437\n",
      "cant null despues: 0\n"
     ]
    }
   ],
   "source": [
    "Do_resamples(data_2015, c, str)"
   ]
  },
  {
   "cell_type": "code",
   "execution_count": 85,
   "metadata": {
    "collapsed": false
   },
   "outputs": [
    {
     "name": "stdout",
     "output_type": "stream",
     "text": [
      "Index(['N', 'S'], dtype='object')\n",
      "N    5534\n",
      "S     569\n",
      "Name: ESTU_REPROBO_SEPTIMO, dtype: int64\n",
      "Elementos null/NaN 100437\n",
      "__________________\n",
      "Elementos diferentes de null/NaN: 6103\n",
      "__________________\n",
      "(6103,)\n",
      "None\n"
     ]
    }
   ],
   "source": [
    "c = 'ESTU_REPROBO_SEPTIMO'\n",
    "print(data_2015[c].value_counts().sort_index().index)\n",
    "print(data_2015[c].value_counts().sort_index())\n",
    "print(missing_data(data_2015[c]))"
   ]
  },
  {
   "cell_type": "code",
   "execution_count": 86,
   "metadata": {
    "collapsed": false
   },
   "outputs": [
    {
     "name": "stdout",
     "output_type": "stream",
     "text": [
      "cant null antes: 100437\n",
      "cant null despues: 0\n"
     ]
    }
   ],
   "source": [
    "Do_resamples(data_2015, c, str)"
   ]
  },
  {
   "cell_type": "code",
   "execution_count": 87,
   "metadata": {
    "collapsed": false
   },
   "outputs": [
    {
     "name": "stdout",
     "output_type": "stream",
     "text": [
      "Index(['N', 'S'], dtype='object')\n",
      "N    5484\n",
      "S     619\n",
      "Name: ESTU_REPROBO_OCTAVO, dtype: int64\n",
      "Elementos null/NaN 100437\n",
      "__________________\n",
      "Elementos diferentes de null/NaN: 6103\n",
      "__________________\n",
      "(6103,)\n",
      "None\n"
     ]
    }
   ],
   "source": [
    "c = 'ESTU_REPROBO_OCTAVO'\n",
    "print(data_2015[c].value_counts().sort_index().index)\n",
    "print(data_2015[c].value_counts().sort_index())\n",
    "print(missing_data(data_2015[c]))"
   ]
  },
  {
   "cell_type": "code",
   "execution_count": 88,
   "metadata": {
    "collapsed": false
   },
   "outputs": [
    {
     "name": "stdout",
     "output_type": "stream",
     "text": [
      "cant null antes: 100437\n",
      "cant null despues: 0\n"
     ]
    }
   ],
   "source": [
    "Do_resamples(data_2015, c, str)"
   ]
  },
  {
   "cell_type": "code",
   "execution_count": 89,
   "metadata": {
    "collapsed": false
   },
   "outputs": [
    {
     "name": "stdout",
     "output_type": "stream",
     "text": [
      "Index(['N', 'S'], dtype='object')\n",
      "N    5464\n",
      "S     639\n",
      "Name: ESTU_REPROBO_NOVENO, dtype: int64\n",
      "Elementos null/NaN 100437\n",
      "__________________\n",
      "Elementos diferentes de null/NaN: 6103\n",
      "__________________\n",
      "(6103,)\n",
      "None\n"
     ]
    }
   ],
   "source": [
    "c = 'ESTU_REPROBO_NOVENO'\n",
    "print(data_2015[c].value_counts().sort_index().index)\n",
    "print(data_2015[c].value_counts().sort_index())\n",
    "print(missing_data(data_2015[c]))"
   ]
  },
  {
   "cell_type": "code",
   "execution_count": 90,
   "metadata": {
    "collapsed": false
   },
   "outputs": [
    {
     "name": "stdout",
     "output_type": "stream",
     "text": [
      "cant null antes: 100437\n",
      "cant null despues: 0\n"
     ]
    }
   ],
   "source": [
    "Do_resamples(data_2015, c, str)"
   ]
  },
  {
   "cell_type": "code",
   "execution_count": 91,
   "metadata": {
    "collapsed": false
   },
   "outputs": [
    {
     "name": "stdout",
     "output_type": "stream",
     "text": [
      "Index(['N', 'S'], dtype='object')\n",
      "N    5558\n",
      "S     545\n",
      "Name: ESTU_REPROBO_DECIMO, dtype: int64\n",
      "Elementos null/NaN 100437\n",
      "__________________\n",
      "Elementos diferentes de null/NaN: 6103\n",
      "__________________\n",
      "(6103,)\n",
      "None\n"
     ]
    }
   ],
   "source": [
    "c = 'ESTU_REPROBO_DECIMO'\n",
    "print(data_2015[c].value_counts().sort_index().index)\n",
    "print(data_2015[c].value_counts().sort_index())\n",
    "print(missing_data(data_2015[c]))"
   ]
  },
  {
   "cell_type": "code",
   "execution_count": 92,
   "metadata": {
    "collapsed": false
   },
   "outputs": [
    {
     "name": "stdout",
     "output_type": "stream",
     "text": [
      "cant null antes: 100437\n",
      "cant null despues: 0\n"
     ]
    }
   ],
   "source": [
    "Do_resamples(data_2015, c, str)"
   ]
  },
  {
   "cell_type": "code",
   "execution_count": 93,
   "metadata": {
    "collapsed": false
   },
   "outputs": [
    {
     "name": "stdout",
     "output_type": "stream",
     "text": [
      "Index(['N', 'S'], dtype='object')\n",
      "N    5859\n",
      "S     244\n",
      "Name: ESTU_REPROBO_ONCE_MAS, dtype: int64\n",
      "Elementos null/NaN 100437\n",
      "__________________\n",
      "Elementos diferentes de null/NaN: 6103\n",
      "__________________\n",
      "(6103,)\n",
      "None\n"
     ]
    }
   ],
   "source": [
    "c = 'ESTU_REPROBO_ONCE_MAS'\n",
    "print(data_2015[c].value_counts().sort_index().index)\n",
    "print(data_2015[c].value_counts().sort_index())\n",
    "print(missing_data(data_2015[c]))"
   ]
  },
  {
   "cell_type": "code",
   "execution_count": 94,
   "metadata": {
    "collapsed": false
   },
   "outputs": [
    {
     "name": "stdout",
     "output_type": "stream",
     "text": [
      "cant null antes: 100437\n",
      "cant null despues: 0\n"
     ]
    }
   ],
   "source": [
    "Do_resamples(data_2015, c, str)"
   ]
  },
  {
   "cell_type": "code",
   "execution_count": 95,
   "metadata": {
    "collapsed": false
   },
   "outputs": [
    {
     "name": "stdout",
     "output_type": "stream",
     "text": [
      "Float64Index([0.0, 1.0, 2.0, 3.0], dtype='float64')\n",
      "0     859\n",
      "1    1721\n",
      "2    1228\n",
      "3    2295\n",
      "Name: ESTU_ANOS_PREESCOLAR, dtype: int64\n",
      "Elementos null/NaN 100437\n",
      "__________________\n",
      "Elementos diferentes de null/NaN: 6103\n",
      "__________________\n",
      "(6103,)\n",
      "None\n"
     ]
    }
   ],
   "source": [
    "c = 'ESTU_ANOS_PREESCOLAR'\n",
    "print(data_2015[c].value_counts().sort_index().index)\n",
    "print(data_2015[c].value_counts().sort_index())\n",
    "print(missing_data(data_2015[c]))"
   ]
  },
  {
   "cell_type": "code",
   "execution_count": 96,
   "metadata": {
    "collapsed": false
   },
   "outputs": [
    {
     "name": "stdout",
     "output_type": "stream",
     "text": [
      "cant null antes: 100437\n",
      "cant null despues: 0\n"
     ]
    }
   ],
   "source": [
    "Do_resamples(data_2015, c, float)"
   ]
  },
  {
   "cell_type": "code",
   "execution_count": 97,
   "metadata": {
    "collapsed": false,
    "scrolled": true
   },
   "outputs": [
    {
     "name": "stdout",
     "output_type": "stream",
     "text": [
      "Float64Index([1985.0, 1986.0, 1987.0, 1988.0, 1989.0, 1990.0, 1991.0, 1992.0,\n",
      "              1993.0, 1994.0, 1995.0, 1996.0, 1997.0, 1998.0, 1999.0, 2000.0,\n",
      "              2001.0, 2002.0, 2003.0, 2004.0],\n",
      "             dtype='float64')\n",
      "1985     215\n",
      "1986      47\n",
      "1987      28\n",
      "1988      23\n",
      "1989      32\n",
      "1990      66\n",
      "1991      55\n",
      "1992      29\n",
      "1993      27\n",
      "1994      43\n",
      "1995      46\n",
      "1996      50\n",
      "1997      47\n",
      "1998      80\n",
      "1999     125\n",
      "2000     350\n",
      "2001     487\n",
      "2002     685\n",
      "2003    1181\n",
      "2004    2487\n",
      "Name: ESTU_ANO_MATRICULA_PRIMERO, dtype: int64\n",
      "Elementos null/NaN 100437\n",
      "__________________\n",
      "Elementos diferentes de null/NaN: 6103\n",
      "__________________\n",
      "(6103,)\n",
      "None\n"
     ]
    }
   ],
   "source": [
    "c = 'ESTU_ANO_MATRICULA_PRIMERO'\n",
    "print(data_2015[c].value_counts().sort_index().index)\n",
    "print(data_2015[c].value_counts().sort_index())\n",
    "print(missing_data(data_2015[c]))"
   ]
  },
  {
   "cell_type": "code",
   "execution_count": 98,
   "metadata": {
    "collapsed": false
   },
   "outputs": [
    {
     "name": "stdout",
     "output_type": "stream",
     "text": [
      "cant null antes: 100437\n",
      "cant null despues: 0\n"
     ]
    }
   ],
   "source": [
    "Do_resamples(data_2015, c, float)"
   ]
  },
  {
   "cell_type": "code",
   "execution_count": 99,
   "metadata": {
    "collapsed": false,
    "scrolled": true
   },
   "outputs": [
    {
     "name": "stdout",
     "output_type": "stream",
     "text": [
      "Float64Index([1985.0, 1986.0, 1987.0, 1988.0, 1989.0, 1990.0, 1991.0, 1992.0,\n",
      "              1993.0, 1994.0, 1995.0, 1996.0, 1997.0, 1998.0, 1999.0, 2000.0,\n",
      "              2001.0, 2002.0, 2003.0, 2004.0, 2005.0, 2006.0, 2007.0, 2008.0],\n",
      "             dtype='float64')\n",
      "1985     118\n",
      "1986       9\n",
      "1987      20\n",
      "1988      12\n",
      "1989      15\n",
      "1990      41\n",
      "1991      34\n",
      "1992      27\n",
      "1993      20\n",
      "1994      24\n",
      "1995      59\n",
      "1996      52\n",
      "1997      28\n",
      "1998      41\n",
      "1999      45\n",
      "2000      60\n",
      "2001      50\n",
      "2002      64\n",
      "2003      86\n",
      "2004     142\n",
      "2005     378\n",
      "2006     447\n",
      "2007     743\n",
      "2008    3588\n",
      "Name: ESTU_ANO_TERMINO_QUINTO, dtype: int64\n",
      "Elementos null/NaN 100437\n",
      "__________________\n",
      "Elementos diferentes de null/NaN: 6103\n",
      "__________________\n",
      "(6103,)\n",
      "None\n"
     ]
    }
   ],
   "source": [
    "c = 'ESTU_ANO_TERMINO_QUINTO'\n",
    "print(data_2015[c].value_counts().sort_index().index)\n",
    "print(data_2015[c].value_counts().sort_index())\n",
    "print(missing_data(data_2015[c]))"
   ]
  },
  {
   "cell_type": "code",
   "execution_count": 100,
   "metadata": {
    "collapsed": false
   },
   "outputs": [
    {
     "name": "stdout",
     "output_type": "stream",
     "text": [
      "cant null antes: 100437\n",
      "cant null despues: 0\n"
     ]
    }
   ],
   "source": [
    "Do_resamples(data_2015, c, float)"
   ]
  },
  {
   "cell_type": "code",
   "execution_count": 101,
   "metadata": {
    "collapsed": false,
    "scrolled": true
   },
   "outputs": [
    {
     "name": "stdout",
     "output_type": "stream",
     "text": [
      "Float64Index([1985.0, 1986.0, 1987.0, 1988.0, 1989.0, 1990.0, 1991.0, 1992.0,\n",
      "              1993.0, 1994.0, 1995.0, 1996.0, 1997.0, 1998.0, 1999.0, 2000.0,\n",
      "              2001.0, 2002.0, 2003.0, 2004.0, 2005.0, 2006.0, 2007.0, 2008.0,\n",
      "              2009.0],\n",
      "             dtype='float64')\n",
      "1985      69\n",
      "1986      19\n",
      "1987       7\n",
      "1988      18\n",
      "1989      10\n",
      "1990      15\n",
      "1991      33\n",
      "1992      30\n",
      "1993      14\n",
      "1994      17\n",
      "1995      22\n",
      "1996      57\n",
      "1997      47\n",
      "1998      29\n",
      "1999      36\n",
      "2000      41\n",
      "2001      60\n",
      "2002      48\n",
      "2003      47\n",
      "2004      69\n",
      "2005     137\n",
      "2006     381\n",
      "2007     511\n",
      "2008    1209\n",
      "2009    3177\n",
      "Name: ESTU_ANO_MATRICULA_SEXTO, dtype: int64\n",
      "Elementos null/NaN 100437\n",
      "__________________\n",
      "Elementos diferentes de null/NaN: 6103\n",
      "__________________\n",
      "(6103,)\n",
      "None\n"
     ]
    }
   ],
   "source": [
    "c = 'ESTU_ANO_MATRICULA_SEXTO'\n",
    "print(data_2015[c].value_counts().sort_index().index)\n",
    "print(data_2015[c].value_counts().sort_index())\n",
    "print(missing_data(data_2015[c]))"
   ]
  },
  {
   "cell_type": "code",
   "execution_count": 102,
   "metadata": {
    "collapsed": false
   },
   "outputs": [
    {
     "name": "stdout",
     "output_type": "stream",
     "text": [
      "cant null antes: 100437\n",
      "cant null despues: 0\n"
     ]
    }
   ],
   "source": [
    "Do_resamples(data_2015, c, float)"
   ]
  },
  {
   "cell_type": "code",
   "execution_count": 103,
   "metadata": {
    "collapsed": false,
    "scrolled": true
   },
   "outputs": [
    {
     "name": "stdout",
     "output_type": "stream",
     "text": [
      "Float64Index([1980.0, 1981.0, 1982.0, 1983.0, 1984.0, 1985.0, 1986.0, 1987.0,\n",
      "              1988.0, 1989.0, 1990.0, 1991.0, 1992.0, 1993.0, 1994.0, 1995.0,\n",
      "              1996.0, 1997.0, 1998.0, 1999.0, 2000.0, 2001.0, 2002.0, 2003.0,\n",
      "              2004.0, 2005.0, 2006.0, 2007.0, 2008.0, 2009.0, 2010.0, 2011.0,\n",
      "              2012.0, 2013.0, 2014.0],\n",
      "             dtype='float64')\n",
      "1980      207\n",
      "1981       44\n",
      "1982       40\n",
      "1983       50\n",
      "1984       56\n",
      "1985       59\n",
      "1986       69\n",
      "1987       63\n",
      "1988       91\n",
      "1989       81\n",
      "1990       94\n",
      "1991      123\n",
      "1992      120\n",
      "1993      133\n",
      "1994      176\n",
      "1995      202\n",
      "1996      286\n",
      "1997      406\n",
      "1998      468\n",
      "1999      554\n",
      "2000      607\n",
      "2001      750\n",
      "2002      809\n",
      "2003      956\n",
      "2004     1150\n",
      "2005     1243\n",
      "2006     1441\n",
      "2007     1835\n",
      "2008     2455\n",
      "2009     3190\n",
      "2010     4013\n",
      "2011     5823\n",
      "2012     7923\n",
      "2013    13478\n",
      "2014    31223\n",
      "Name: ESTU_ANO_TERMINO_BACHILL, dtype: int64\n",
      "Elementos null/NaN 26322\n",
      "__________________\n",
      "Elementos diferentes de null/NaN: 80218\n",
      "__________________\n",
      "(80218,)\n",
      "None\n"
     ]
    }
   ],
   "source": [
    "c = 'ESTU_ANO_TERMINO_BACHILL'\n",
    "print(data_2015[c].value_counts().sort_index().index)\n",
    "print(data_2015[c].value_counts().sort_index())\n",
    "print(missing_data(data_2015[c]))"
   ]
  },
  {
   "cell_type": "code",
   "execution_count": 104,
   "metadata": {
    "collapsed": false
   },
   "outputs": [
    {
     "name": "stdout",
     "output_type": "stream",
     "text": [
      "cant null antes: 26322\n",
      "cant null despues: 0\n"
     ]
    }
   ],
   "source": [
    "Do_resamples(data_2015, c, float)"
   ]
  },
  {
   "cell_type": "code",
   "execution_count": 105,
   "metadata": {
    "collapsed": false
   },
   "outputs": [
    {
     "name": "stdout",
     "output_type": "stream",
     "text": [
      "Index(['CINCO O MÁS VECES', 'NINGUNA', 'TRES O CUATRO VECES',\n",
      "       'UNA O DOS VECES'],\n",
      "      dtype='object')\n",
      "CINCO O MÁS VECES        49\n",
      "NINGUNA                4464\n",
      "TRES O CUATRO VECES     151\n",
      "UNA O DOS VECES        1439\n",
      "Name: ESTU_CUANTO_FALTO_COLEGIO, dtype: int64\n",
      "Elementos null/NaN 100437\n",
      "__________________\n",
      "Elementos diferentes de null/NaN: 6103\n",
      "__________________\n",
      "(6103,)\n",
      "None\n"
     ]
    }
   ],
   "source": [
    "c = 'ESTU_CUANTO_FALTO_COLEGIO'\n",
    "print(data_2015[c].value_counts().sort_index().index)\n",
    "print(data_2015[c].value_counts().sort_index())\n",
    "print(missing_data(data_2015[c]))"
   ]
  },
  {
   "cell_type": "code",
   "execution_count": 106,
   "metadata": {
    "collapsed": false
   },
   "outputs": [
    {
     "name": "stdout",
     "output_type": "stream",
     "text": [
      "cant null antes: 100437\n",
      "cant null despues: 0\n"
     ]
    }
   ],
   "source": [
    "Do_resamples(data_2015, c, str)"
   ]
  },
  {
   "cell_type": "code",
   "execution_count": 107,
   "metadata": {
    "collapsed": false
   },
   "outputs": [
    {
     "name": "stdout",
     "output_type": "stream",
     "text": [
      "Float64Index([1.0, 2.0, 3.0], dtype='float64')\n",
      "1    3793\n",
      "2    1462\n",
      "3     848\n",
      "Name: ESTU_CUANTOS_COLE_ESTUDIO, dtype: int64\n",
      "Elementos null/NaN 100437\n",
      "__________________\n",
      "Elementos diferentes de null/NaN: 6103\n",
      "__________________\n",
      "(6103,)\n",
      "None\n"
     ]
    }
   ],
   "source": [
    "c = 'ESTU_CUANTOS_COLE_ESTUDIO'\n",
    "print(data_2015[c].value_counts().sort_index().index)\n",
    "print(data_2015[c].value_counts().sort_index())\n",
    "print(missing_data(data_2015[c]))"
   ]
  },
  {
   "cell_type": "code",
   "execution_count": 108,
   "metadata": {
    "collapsed": false
   },
   "outputs": [
    {
     "name": "stdout",
     "output_type": "stream",
     "text": [
      "cant null antes: 100437\n",
      "cant null despues: 0\n"
     ]
    }
   ],
   "source": [
    "Do_resamples(data_2015, c, float)"
   ]
  },
  {
   "cell_type": "code",
   "execution_count": 109,
   "metadata": {
    "collapsed": false
   },
   "outputs": [
    {
     "name": "stdout",
     "output_type": "stream",
     "text": [
      "Float64Index([1.0, 2.0, 3.0, 4.0, 5.0, 6.0, 7.0, 8.0, 9.0, 10.0, 11.0, 12.0], dtype='float64')\n",
      "1       296\n",
      "2       411\n",
      "3       460\n",
      "4       391\n",
      "5       358\n",
      "6      4191\n",
      "7      6235\n",
      "8      1331\n",
      "9       898\n",
      "10      648\n",
      "11    23190\n",
      "12    41801\n",
      "Name: ESTU_MES_TERMINO_BACHILL, dtype: int64\n",
      "Elementos null/NaN 26330\n",
      "__________________\n",
      "Elementos diferentes de null/NaN: 80210\n",
      "__________________\n",
      "(80210,)\n",
      "None\n"
     ]
    }
   ],
   "source": [
    "c = 'ESTU_MES_TERMINO_BACHILL'\n",
    "print(data_2015[c].value_counts().sort_index().index)\n",
    "print(data_2015[c].value_counts().sort_index())\n",
    "print(missing_data(data_2015[c]))"
   ]
  },
  {
   "cell_type": "code",
   "execution_count": 110,
   "metadata": {
    "collapsed": false
   },
   "outputs": [
    {
     "name": "stdout",
     "output_type": "stream",
     "text": [
      "cant null antes: 26330\n",
      "cant null despues: 0\n"
     ]
    }
   ],
   "source": [
    "Do_resamples(data_2015, c, float)"
   ]
  },
  {
   "cell_type": "code",
   "execution_count": 111,
   "metadata": {
    "collapsed": false
   },
   "outputs": [
    {
     "name": "stdout",
     "output_type": "stream",
     "text": [
      "Float64Index([1.0, 2.0, 3.0, 4.0, 5.0, 6.0, 7.0, 8.0, 9.0], dtype='float64')\n",
      "1     27\n",
      "2     37\n",
      "3    460\n",
      "4    125\n",
      "5    174\n",
      "6     70\n",
      "7     27\n",
      "8     30\n",
      "9    578\n",
      "Name: ESTU_RAZON_RETIRO, dtype: int64\n",
      "Elementos null/NaN 105012\n",
      "__________________\n",
      "Elementos diferentes de null/NaN: 1528\n",
      "__________________\n",
      "(1528,)\n",
      "None\n"
     ]
    }
   ],
   "source": [
    "c = 'ESTU_RAZON_RETIRO'\n",
    "print(data_2015[c].value_counts().sort_index().index)\n",
    "print(data_2015[c].value_counts().sort_index())\n",
    "print(missing_data(data_2015[c]))"
   ]
  },
  {
   "cell_type": "code",
   "execution_count": 112,
   "metadata": {
    "collapsed": false
   },
   "outputs": [
    {
     "name": "stdout",
     "output_type": "stream",
     "text": [
      "cant null antes: 105012\n",
      "cant null despues: 0\n"
     ]
    }
   ],
   "source": [
    "Do_resamples(data_2015, c, float)"
   ]
  },
  {
   "cell_type": "code",
   "execution_count": 113,
   "metadata": {
    "collapsed": false
   },
   "outputs": [
    {
     "name": "stdout",
     "output_type": "stream",
     "text": [
      "Float64Index([1.0, 2.0, 3.0, 4.0], dtype='float64')\n",
      "1    4576\n",
      "2     538\n",
      "3     431\n",
      "4     558\n",
      "Name: ESTU_RETIRARSE_COLEGIO, dtype: int64\n",
      "Elementos null/NaN 100437\n",
      "__________________\n",
      "Elementos diferentes de null/NaN: 6103\n",
      "__________________\n",
      "(6103,)\n",
      "None\n"
     ]
    }
   ],
   "source": [
    "c = 'ESTU_RETIRARSE_COLEGIO'\n",
    "print(data_2015[c].value_counts().sort_index().index)\n",
    "print(data_2015[c].value_counts().sort_index())\n",
    "print(missing_data(data_2015[c]))"
   ]
  },
  {
   "cell_type": "code",
   "execution_count": 114,
   "metadata": {
    "collapsed": false
   },
   "outputs": [
    {
     "name": "stdout",
     "output_type": "stream",
     "text": [
      "cant null antes: 100437\n",
      "cant null despues: 0\n"
     ]
    }
   ],
   "source": [
    "Do_resamples(data_2015, c, float)"
   ]
  },
  {
   "cell_type": "code",
   "execution_count": 115,
   "metadata": {
    "collapsed": false
   },
   "outputs": [
    {
     "name": "stdout",
     "output_type": "stream",
     "text": [
      "Index(['0 A 10 LIBROS', '11 A 25 LIBROS', '26 A 100 LIBROS',\n",
      "       'MÁS DE 100 LIBROS'],\n",
      "      dtype='object')\n",
      "0 A 10 LIBROS        46485\n",
      "11 A 25 LIBROS       30057\n",
      "26 A 100 LIBROS      21357\n",
      "MÁS DE 100 LIBROS     8640\n",
      "Name: ESTU_NUMERO_LIBROS, dtype: int64\n",
      "Elementos null/NaN 1\n",
      "__________________\n",
      "Elementos diferentes de null/NaN: 106539\n",
      "__________________\n",
      "(106539,)\n",
      "None\n"
     ]
    }
   ],
   "source": [
    "c = 'ESTU_NUMERO_LIBROS'\n",
    "print(data_2015[c].value_counts().sort_index().index)\n",
    "print(data_2015[c].value_counts().sort_index())\n",
    "print(missing_data(data_2015[c]))"
   ]
  },
  {
   "cell_type": "code",
   "execution_count": 116,
   "metadata": {
    "collapsed": false
   },
   "outputs": [
    {
     "name": "stdout",
     "output_type": "stream",
     "text": [
      "cant null antes: 1\n",
      "cant null despues: 0\n"
     ]
    }
   ],
   "source": [
    "Do_resamples(data_2015, c, str)"
   ]
  },
  {
   "cell_type": "code",
   "execution_count": 117,
   "metadata": {
    "collapsed": false
   },
   "outputs": [
    {
     "name": "stdout",
     "output_type": "stream",
     "text": [
      "Float64Index([1.0, 2.0, 3.0, 4.0], dtype='float64')\n",
      "1     651\n",
      "2     471\n",
      "3    4601\n",
      "4     380\n",
      "Name: ESTU_TIPO_CARRERA_DESEADA, dtype: int64\n",
      "Elementos null/NaN 100437\n",
      "__________________\n",
      "Elementos diferentes de null/NaN: 6103\n",
      "__________________\n",
      "(6103,)\n",
      "None\n"
     ]
    }
   ],
   "source": [
    "c = 'ESTU_TIPO_CARRERA_DESEADA'\n",
    "print(data_2015[c].value_counts().sort_index().index)\n",
    "print(data_2015[c].value_counts().sort_index())\n",
    "print(missing_data(data_2015[c]))"
   ]
  },
  {
   "cell_type": "code",
   "execution_count": 118,
   "metadata": {
    "collapsed": false
   },
   "outputs": [
    {
     "name": "stdout",
     "output_type": "stream",
     "text": [
      "cant null antes: 100437\n",
      "cant null despues: 0\n"
     ]
    }
   ],
   "source": [
    "Do_resamples(data_2015, c, float)"
   ]
  },
  {
   "cell_type": "code",
   "execution_count": 119,
   "metadata": {
    "collapsed": false,
    "scrolled": true
   },
   "outputs": [
    {
     "name": "stdout",
     "output_type": "stream",
     "text": [
      "Index(['10055', '10177', '10199', '10260', '10342', '10353', '10372', '1051',\n",
      "       '10514', '1063',\n",
      "       ...\n",
      "       '9480', '9490', '9557', '9608', '9609', '9645', '965', '967', '9958',\n",
      "       'Otro'],\n",
      "      dtype='object', length=354)\n",
      "10055      1\n",
      "10177      2\n",
      "10199      1\n",
      "10260      2\n",
      "10342      2\n",
      "10353      1\n",
      "10372      1\n",
      "1051       2\n",
      "10514      1\n",
      "1063       5\n",
      "1069       1\n",
      "10730      1\n",
      "11071      1\n",
      "1109       1\n",
      "11134      2\n",
      "1124       2\n",
      "11255      1\n",
      "11741      4\n",
      "1185       1\n",
      "12318      1\n",
      "12605      1\n",
      "12734      1\n",
      "12778      2\n",
      "13270      1\n",
      "1369       1\n",
      "1404       1\n",
      "1441       1\n",
      "1636       1\n",
      "1644       1\n",
      "1683       4\n",
      "        ... \n",
      "9217       7\n",
      "922        3\n",
      "9221      89\n",
      "9224     217\n",
      "9226      60\n",
      "9228       1\n",
      "9229       2\n",
      "9230      11\n",
      "9232       5\n",
      "9234       8\n",
      "9235       1\n",
      "9236      23\n",
      "9237      48\n",
      "9240       6\n",
      "9241       1\n",
      "9242       1\n",
      "9243      11\n",
      "9244       2\n",
      "9275       1\n",
      "9302       1\n",
      "9480       1\n",
      "9490       7\n",
      "9557       1\n",
      "9608       2\n",
      "9609       1\n",
      "9645       2\n",
      "965        1\n",
      "967        1\n",
      "9958       1\n",
      "Otro     887\n",
      "Name: ESTU_IES_COD_DESEADA, dtype: int64\n",
      "Elementos null/NaN 100806\n",
      "__________________\n",
      "Elementos diferentes de null/NaN: 5734\n",
      "__________________\n",
      "(5734,)\n",
      "None\n"
     ]
    }
   ],
   "source": [
    "c = 'ESTU_IES_COD_DESEADA'\n",
    "print(data_2015[c].value_counts().sort_index().index)\n",
    "print(data_2015[c].value_counts().sort_index())\n",
    "print(missing_data(data_2015[c]))"
   ]
  },
  {
   "cell_type": "code",
   "execution_count": 120,
   "metadata": {
    "collapsed": false
   },
   "outputs": [
    {
     "name": "stdout",
     "output_type": "stream",
     "text": [
      "cant null antes: 101719\n",
      "cant null despues: 31\n",
      "cant null antes: 31\n",
      "cant null despues: 0\n"
     ]
    }
   ],
   "source": [
    "data_2015[c] = data_2015[c].replace('Otro', np.nan)\n",
    "for i in data_2015[c].value_counts().sort_index().index:\n",
    "    if len(i) < 4:\n",
    "        data_2015[c] = data_2015[c].replace(i, np.nan)\n",
    "        \n",
    "Do_resamples(data_2015, c, str)"
   ]
  },
  {
   "cell_type": "code",
   "execution_count": 121,
   "metadata": {
    "collapsed": false,
    "scrolled": true
   },
   "outputs": [
    {
     "name": "stdout",
     "output_type": "stream",
     "text": [
      "Float64Index([    1.0,    11.0,    13.0,    18.0,    19.0,    27.0,    35.0,\n",
      "                 47.0,    59.0,    63.0,\n",
      "              ...\n",
      "               1053.0,  1059.0,  1064.0,  1068.0,  1077.0,  1078.0,  1081.0,\n",
      "               1104.0,  1113.0, 99999.0],\n",
      "             dtype='float64', length=126)\n",
      "1         427\n",
      "11          1\n",
      "13         10\n",
      "18          3\n",
      "19         10\n",
      "27          2\n",
      "35          1\n",
      "47         15\n",
      "59          3\n",
      "63          1\n",
      "68          6\n",
      "69          1\n",
      "75          8\n",
      "83          2\n",
      "85         12\n",
      "113         1\n",
      "126       179\n",
      "139         2\n",
      "145         4\n",
      "152      2016\n",
      "153        26\n",
      "199        34\n",
      "207         3\n",
      "215         2\n",
      "230         9\n",
      "264         1\n",
      "296        13\n",
      "322        85\n",
      "327         4\n",
      "329         5\n",
      "         ... \n",
      "986         1\n",
      "988         2\n",
      "989         5\n",
      "992         2\n",
      "1010     1609\n",
      "1016       15\n",
      "1017       26\n",
      "1019        6\n",
      "1022        3\n",
      "1026        4\n",
      "1027        1\n",
      "1031        1\n",
      "1036      115\n",
      "1040        2\n",
      "1042        1\n",
      "1043        1\n",
      "1045       20\n",
      "1050        3\n",
      "1051        1\n",
      "1052        5\n",
      "1053        1\n",
      "1059       16\n",
      "1064        1\n",
      "1068        1\n",
      "1077        2\n",
      "1078        5\n",
      "1081        6\n",
      "1104        2\n",
      "1113        2\n",
      "99999      37\n",
      "Name: ESTU_IES_MCPIO_INST_DESEADA, dtype: int64\n",
      "Elementos null/NaN 100798\n",
      "__________________\n",
      "Elementos diferentes de null/NaN: 5742\n",
      "__________________\n",
      "(5742,)\n",
      "None\n"
     ]
    }
   ],
   "source": [
    "c = 'ESTU_IES_MCPIO_INST_DESEADA'\n",
    "print(data_2015[c].value_counts().sort_index().index)\n",
    "print(data_2015[c].value_counts().sort_index())\n",
    "print(missing_data(data_2015[c]))"
   ]
  },
  {
   "cell_type": "code",
   "execution_count": 122,
   "metadata": {
    "collapsed": false
   },
   "outputs": [
    {
     "name": "stdout",
     "output_type": "stream",
     "text": [
      "cant null antes: 100798\n",
      "cant null despues: 0\n"
     ]
    }
   ],
   "source": [
    "Do_resamples(data_2015, c, float)"
   ]
  },
  {
   "cell_type": "code",
   "execution_count": 123,
   "metadata": {
    "collapsed": false
   },
   "outputs": [
    {
     "name": "stdout",
     "output_type": "stream",
     "text": [
      "Index(['N', 'S'], dtype='object')\n",
      "N    1860\n",
      "S    4243\n",
      "Name: ESTU_POR_OPORTUNIDADES, dtype: int64\n",
      "Elementos null/NaN 100437\n",
      "__________________\n",
      "Elementos diferentes de null/NaN: 6103\n",
      "__________________\n",
      "(6103,)\n",
      "None\n"
     ]
    }
   ],
   "source": [
    "c = 'ESTU_POR_OPORTUNIDADES'\n",
    "print(data_2015[c].value_counts().sort_index().index)\n",
    "print(data_2015[c].value_counts().sort_index())\n",
    "print(missing_data(data_2015[c]))"
   ]
  },
  {
   "cell_type": "code",
   "execution_count": 124,
   "metadata": {
    "collapsed": false
   },
   "outputs": [
    {
     "name": "stdout",
     "output_type": "stream",
     "text": [
      "cant null antes: 100437\n",
      "cant null despues: 0\n"
     ]
    }
   ],
   "source": [
    "Do_resamples(data_2015, c, str)"
   ]
  },
  {
   "cell_type": "code",
   "execution_count": 125,
   "metadata": {
    "collapsed": false
   },
   "outputs": [
    {
     "name": "stdout",
     "output_type": "stream",
     "text": [
      "Index(['N', 'S'], dtype='object')\n",
      "N    3903\n",
      "S    2200\n",
      "Name: ESTU_POR_AMIGOSESTUDIANDO, dtype: int64\n",
      "Elementos null/NaN 100437\n",
      "__________________\n",
      "Elementos diferentes de null/NaN: 6103\n",
      "__________________\n",
      "(6103,)\n",
      "None\n"
     ]
    }
   ],
   "source": [
    "c = 'ESTU_POR_AMIGOSESTUDIANDO'\n",
    "print(data_2015[c].value_counts().sort_index().index)\n",
    "print(data_2015[c].value_counts().sort_index())\n",
    "print(missing_data(data_2015[c]))"
   ]
  },
  {
   "cell_type": "code",
   "execution_count": 126,
   "metadata": {
    "collapsed": false
   },
   "outputs": [
    {
     "name": "stdout",
     "output_type": "stream",
     "text": [
      "cant null antes: 100437\n",
      "cant null despues: 0\n"
     ]
    }
   ],
   "source": [
    "Do_resamples(data_2015, c, str)"
   ]
  },
  {
   "cell_type": "code",
   "execution_count": 127,
   "metadata": {
    "collapsed": false
   },
   "outputs": [
    {
     "name": "stdout",
     "output_type": "stream",
     "text": [
      "Index(['NO', 'SI'], dtype='object')\n",
      "NO    3680\n",
      "SI    1063\n",
      "Name: ESTU_POR_BUSCANDOCARRERA, dtype: int64\n",
      "Elementos null/NaN 101797\n",
      "__________________\n",
      "Elementos diferentes de null/NaN: 4743\n",
      "__________________\n",
      "(4743,)\n",
      "None\n"
     ]
    }
   ],
   "source": [
    "c = 'ESTU_POR_BUSCANDOCARRERA'\n",
    "print(data_2015[c].value_counts().sort_index().index)\n",
    "print(data_2015[c].value_counts().sort_index())\n",
    "print(missing_data(data_2015[c]))"
   ]
  },
  {
   "cell_type": "code",
   "execution_count": 128,
   "metadata": {
    "collapsed": false
   },
   "outputs": [
    {
     "name": "stdout",
     "output_type": "stream",
     "text": [
      "cant null antes: 101797\n",
      "cant null despues: 0\n"
     ]
    }
   ],
   "source": [
    "Do_resamples(data_2015, c, str)"
   ]
  },
  {
   "cell_type": "code",
   "execution_count": 129,
   "metadata": {
    "collapsed": false
   },
   "outputs": [
    {
     "name": "stdout",
     "output_type": "stream",
     "text": [
      "Index(['NO', 'SI'], dtype='object')\n",
      "NO    3274\n",
      "SI    1379\n",
      "Name: ESTU_POR_COLOMBIAAPRENDE, dtype: int64\n",
      "Elementos null/NaN 101887\n",
      "__________________\n",
      "Elementos diferentes de null/NaN: 4653\n",
      "__________________\n",
      "(4653,)\n",
      "None\n"
     ]
    }
   ],
   "source": [
    "c = 'ESTU_POR_COLOMBIAAPRENDE'\n",
    "print(data_2015[c].value_counts().sort_index().index)\n",
    "print(data_2015[c].value_counts().sort_index())\n",
    "print(missing_data(data_2015[c]))"
   ]
  },
  {
   "cell_type": "code",
   "execution_count": 130,
   "metadata": {
    "collapsed": false
   },
   "outputs": [
    {
     "name": "stdout",
     "output_type": "stream",
     "text": [
      "cant null antes: 101887\n",
      "cant null despues: 0\n"
     ]
    }
   ],
   "source": [
    "Do_resamples(data_2015, c, str)"
   ]
  },
  {
   "cell_type": "code",
   "execution_count": 131,
   "metadata": {
    "collapsed": false
   },
   "outputs": [
    {
     "name": "stdout",
     "output_type": "stream",
     "text": [
      "Index(['N', 'S'], dtype='object')\n",
      "N    1969\n",
      "S    4134\n",
      "Name: ESTU_POR_COSTOMATRICULA, dtype: int64\n",
      "Elementos null/NaN 100437\n",
      "__________________\n",
      "Elementos diferentes de null/NaN: 6103\n",
      "__________________\n",
      "(6103,)\n",
      "None\n"
     ]
    }
   ],
   "source": [
    "c = 'ESTU_POR_COSTOMATRICULA'\n",
    "print(data_2015[c].value_counts().sort_index().index)\n",
    "print(data_2015[c].value_counts().sort_index())\n",
    "print(missing_data(data_2015[c]))"
   ]
  },
  {
   "cell_type": "code",
   "execution_count": 132,
   "metadata": {
    "collapsed": false
   },
   "outputs": [
    {
     "name": "stdout",
     "output_type": "stream",
     "text": [
      "cant null antes: 100437\n",
      "cant null despues: 0\n"
     ]
    }
   ],
   "source": [
    "Do_resamples(data_2015, c, str)"
   ]
  },
  {
   "cell_type": "code",
   "execution_count": 133,
   "metadata": {
    "collapsed": false
   },
   "outputs": [
    {
     "name": "stdout",
     "output_type": "stream",
     "text": [
      "Index(['N', 'S'], dtype='object')\n",
      "N    4215\n",
      "S    1888\n",
      "Name: ESTU_POR_INFLUENCIAALGUIEN, dtype: int64\n",
      "Elementos null/NaN 100437\n",
      "__________________\n",
      "Elementos diferentes de null/NaN: 6103\n",
      "__________________\n",
      "(6103,)\n",
      "None\n"
     ]
    }
   ],
   "source": [
    "c = 'ESTU_POR_INFLUENCIAALGUIEN'\n",
    "print(data_2015[c].value_counts().sort_index().index)\n",
    "print(data_2015[c].value_counts().sort_index())\n",
    "print(missing_data(data_2015[c]))"
   ]
  },
  {
   "cell_type": "code",
   "execution_count": 134,
   "metadata": {
    "collapsed": false
   },
   "outputs": [
    {
     "name": "stdout",
     "output_type": "stream",
     "text": [
      "cant null antes: 100437\n",
      "cant null despues: 0\n"
     ]
    }
   ],
   "source": [
    "Do_resamples(data_2015, c, str)"
   ]
  },
  {
   "cell_type": "code",
   "execution_count": 135,
   "metadata": {
    "collapsed": false
   },
   "outputs": [
    {
     "name": "stdout",
     "output_type": "stream",
     "text": [
      "Index(['N', 'S'], dtype='object')\n",
      "N     516\n",
      "S    5587\n",
      "Name: ESTU_POR_INTERESPERSONAL, dtype: int64\n",
      "Elementos null/NaN 100437\n",
      "__________________\n",
      "Elementos diferentes de null/NaN: 6103\n",
      "__________________\n",
      "(6103,)\n",
      "None\n"
     ]
    }
   ],
   "source": [
    "c = 'ESTU_POR_INTERESPERSONAL'\n",
    "print(data_2015[c].value_counts().sort_index().index)\n",
    "print(data_2015[c].value_counts().sort_index())\n",
    "print(missing_data(data_2015[c]))"
   ]
  },
  {
   "cell_type": "code",
   "execution_count": 136,
   "metadata": {
    "collapsed": false
   },
   "outputs": [
    {
     "name": "stdout",
     "output_type": "stream",
     "text": [
      "cant null antes: 100437\n",
      "cant null despues: 0\n"
     ]
    }
   ],
   "source": [
    "Do_resamples(data_2015, c, str)"
   ]
  },
  {
   "cell_type": "code",
   "execution_count": 137,
   "metadata": {
    "collapsed": false
   },
   "outputs": [
    {
     "name": "stdout",
     "output_type": "stream",
     "text": [
      "Index(['N', 'S'], dtype='object')\n",
      "N    2447\n",
      "S    3656\n",
      "Name: ESTU_POR_MEJORARPOSICIONSOCIAL, dtype: int64\n",
      "Elementos null/NaN 100437\n",
      "__________________\n",
      "Elementos diferentes de null/NaN: 6103\n",
      "__________________\n",
      "(6103,)\n",
      "None\n"
     ]
    }
   ],
   "source": [
    "c = 'ESTU_POR_MEJORARPOSICIONSOCIAL'\n",
    "print(data_2015[c].value_counts().sort_index().index)\n",
    "print(data_2015[c].value_counts().sort_index())\n",
    "print(missing_data(data_2015[c]))"
   ]
  },
  {
   "cell_type": "code",
   "execution_count": 138,
   "metadata": {
    "collapsed": false
   },
   "outputs": [
    {
     "name": "stdout",
     "output_type": "stream",
     "text": [
      "cant null antes: 100437\n",
      "cant null despues: 0\n"
     ]
    }
   ],
   "source": [
    "Do_resamples(data_2015, c, str)"
   ]
  },
  {
   "cell_type": "code",
   "execution_count": 139,
   "metadata": {
    "collapsed": false
   },
   "outputs": [
    {
     "name": "stdout",
     "output_type": "stream",
     "text": [
      "Index(['NO', 'SI'], dtype='object')\n",
      "NO    2237\n",
      "SI    3293\n",
      "Name: ESTU_POR_ORIENTACIONVOCACIONAL, dtype: int64\n",
      "Elementos null/NaN 101010\n",
      "__________________\n",
      "Elementos diferentes de null/NaN: 5530\n",
      "__________________\n",
      "(5530,)\n",
      "None\n"
     ]
    }
   ],
   "source": [
    "c = 'ESTU_POR_ORIENTACIONVOCACIONAL'\n",
    "print(data_2015[c].value_counts().sort_index().index)\n",
    "print(data_2015[c].value_counts().sort_index())\n",
    "print(missing_data(data_2015[c]))"
   ]
  },
  {
   "cell_type": "code",
   "execution_count": 140,
   "metadata": {
    "collapsed": false
   },
   "outputs": [
    {
     "name": "stdout",
     "output_type": "stream",
     "text": [
      "cant null antes: 101010\n",
      "cant null despues: 0\n"
     ]
    }
   ],
   "source": [
    "Do_resamples(data_2015, c, str)"
   ]
  },
  {
   "cell_type": "code",
   "execution_count": 141,
   "metadata": {
    "collapsed": false
   },
   "outputs": [
    {
     "name": "stdout",
     "output_type": "stream",
     "text": [
      "Index(['N', 'S'], dtype='object')\n",
      "N    4489\n",
      "S    1614\n",
      "Name: ESTU_POR_OTRARAZON, dtype: int64\n",
      "Elementos null/NaN 100437\n",
      "__________________\n",
      "Elementos diferentes de null/NaN: 6103\n",
      "__________________\n",
      "(6103,)\n",
      "None\n"
     ]
    }
   ],
   "source": [
    "c = 'ESTU_POR_OTRARAZON'\n",
    "print(data_2015[c].value_counts().sort_index().index)\n",
    "print(data_2015[c].value_counts().sort_index())\n",
    "print(missing_data(data_2015[c]))"
   ]
  },
  {
   "cell_type": "code",
   "execution_count": 142,
   "metadata": {
    "collapsed": false
   },
   "outputs": [
    {
     "name": "stdout",
     "output_type": "stream",
     "text": [
      "cant null antes: 100437\n",
      "cant null despues: 0\n"
     ]
    }
   ],
   "source": [
    "Do_resamples(data_2015, c, str)"
   ]
  },
  {
   "cell_type": "code",
   "execution_count": 143,
   "metadata": {
    "collapsed": false
   },
   "outputs": [
    {
     "name": "stdout",
     "output_type": "stream",
     "text": [
      "Index(['N', 'S'], dtype='object')\n",
      "N    4859\n",
      "S    1244\n",
      "Name: ESTU_POR_TRADICIONFAMILIAR, dtype: int64\n",
      "Elementos null/NaN 100437\n",
      "__________________\n",
      "Elementos diferentes de null/NaN: 6103\n",
      "__________________\n",
      "(6103,)\n",
      "None\n"
     ]
    }
   ],
   "source": [
    "c = 'ESTU_POR_TRADICIONFAMILIAR'\n",
    "print(data_2015[c].value_counts().sort_index().index)\n",
    "print(data_2015[c].value_counts().sort_index())\n",
    "print(missing_data(data_2015[c]))"
   ]
  },
  {
   "cell_type": "code",
   "execution_count": 144,
   "metadata": {
    "collapsed": false
   },
   "outputs": [
    {
     "name": "stdout",
     "output_type": "stream",
     "text": [
      "cant null antes: 100437\n",
      "cant null despues: 0\n"
     ]
    }
   ],
   "source": [
    "Do_resamples(data_2015, c, str)"
   ]
  },
  {
   "cell_type": "code",
   "execution_count": 145,
   "metadata": {
    "collapsed": false
   },
   "outputs": [
    {
     "name": "stdout",
     "output_type": "stream",
     "text": [
      "Index(['N', 'S'], dtype='object')\n",
      "N    3093\n",
      "S    3010\n",
      "Name: ESTU_POR_UBICACION, dtype: int64\n",
      "Elementos null/NaN 100437\n",
      "__________________\n",
      "Elementos diferentes de null/NaN: 6103\n",
      "__________________\n",
      "(6103,)\n",
      "None\n"
     ]
    }
   ],
   "source": [
    "c = 'ESTU_POR_UBICACION'\n",
    "print(data_2015[c].value_counts().sort_index().index)\n",
    "print(data_2015[c].value_counts().sort_index())\n",
    "print(missing_data(data_2015[c]))"
   ]
  },
  {
   "cell_type": "code",
   "execution_count": 146,
   "metadata": {
    "collapsed": false
   },
   "outputs": [
    {
     "name": "stdout",
     "output_type": "stream",
     "text": [
      "cant null antes: 100437\n",
      "cant null despues: 0\n"
     ]
    }
   ],
   "source": [
    "Do_resamples(data_2015, c, str)"
   ]
  },
  {
   "cell_type": "code",
   "execution_count": 147,
   "metadata": {
    "collapsed": false
   },
   "outputs": [
    {
     "name": "stdout",
     "output_type": "stream",
     "text": [
      "Index(['N', 'S'], dtype='object')\n",
      "N    4753\n",
      "S    1350\n",
      "Name: ESTU_POR_UNICAQUEOFRECE, dtype: int64\n",
      "Elementos null/NaN 100437\n",
      "__________________\n",
      "Elementos diferentes de null/NaN: 6103\n",
      "__________________\n",
      "(6103,)\n",
      "None\n"
     ]
    }
   ],
   "source": [
    "c = 'ESTU_POR_UNICAQUEOFRECE'\n",
    "print(data_2015[c].value_counts().sort_index().index)\n",
    "print(data_2015[c].value_counts().sort_index())\n",
    "print(missing_data(data_2015[c]))"
   ]
  },
  {
   "cell_type": "code",
   "execution_count": 148,
   "metadata": {
    "collapsed": false
   },
   "outputs": [
    {
     "name": "stdout",
     "output_type": "stream",
     "text": [
      "cant null antes: 100437\n",
      "cant null despues: 0\n"
     ]
    }
   ],
   "source": [
    "Do_resamples(data_2015, c, str)"
   ]
  },
  {
   "cell_type": "code",
   "execution_count": 149,
   "metadata": {
    "collapsed": false
   },
   "outputs": [
    {
     "name": "stdout",
     "output_type": "stream",
     "text": [
      "Index(['N', 'S'], dtype='object')\n",
      "N    1261\n",
      "S    4842\n",
      "Name: ESTU_PRESTIGIOINSTITUCION, dtype: int64\n",
      "Elementos null/NaN 100437\n",
      "__________________\n",
      "Elementos diferentes de null/NaN: 6103\n",
      "__________________\n",
      "(6103,)\n",
      "None\n"
     ]
    }
   ],
   "source": [
    "c = 'ESTU_PRESTIGIOINSTITUCION'\n",
    "print(data_2015[c].value_counts().sort_index().index)\n",
    "print(data_2015[c].value_counts().sort_index())\n",
    "print(missing_data(data_2015[c]))"
   ]
  },
  {
   "cell_type": "code",
   "execution_count": 150,
   "metadata": {
    "collapsed": false
   },
   "outputs": [
    {
     "name": "stdout",
     "output_type": "stream",
     "text": [
      "cant null antes: 100437\n",
      "cant null despues: 0\n"
     ]
    }
   ],
   "source": [
    "Do_resamples(data_2015, c, str)"
   ]
  },
  {
   "cell_type": "code",
   "execution_count": 151,
   "metadata": {
    "collapsed": false,
    "scrolled": true
   },
   "outputs": [
    {
     "name": "stdout",
     "output_type": "stream",
     "text": [
      "Float64Index([ 1.0,  2.0,  3.0,  4.0,  5.0,  6.0,  7.0,  8.0,  9.0, 11.0, 12.0,\n",
      "              13.0, 18.0, 19.0, 20.0, 21.0, 22.0, 23.0, 24.0, 25.0, 26.0, 27.0,\n",
      "              28.0, 29.0, 30.0, 31.0, 32.0, 33.0, 34.0, 35.0, 36.0, 37.0, 39.0,\n",
      "              40.0, 41.0, 42.0, 44.0, 45.0, 46.0, 47.0, 48.0, 50.0, 53.0, 55.0,\n",
      "              56.0, 57.0, 58.0, 59.0, 61.0, 62.0, 64.0, 66.0, 68.0, 69.0, 70.0,\n",
      "              99.0],\n",
      "             dtype='float64')\n",
      "1      163\n",
      "2       41\n",
      "3       39\n",
      "4       79\n",
      "5       33\n",
      "6       58\n",
      "7      173\n",
      "8       53\n",
      "9     1292\n",
      "11     174\n",
      "12     100\n",
      "13      89\n",
      "18     216\n",
      "19      31\n",
      "20      84\n",
      "21      37\n",
      "22      21\n",
      "23      25\n",
      "24       6\n",
      "25     159\n",
      "26      19\n",
      "27     176\n",
      "28      41\n",
      "29      87\n",
      "30     181\n",
      "31     132\n",
      "32      48\n",
      "33      35\n",
      "34      33\n",
      "35      18\n",
      "36      19\n",
      "37      12\n",
      "39      17\n",
      "40      38\n",
      "41     144\n",
      "42      39\n",
      "44       6\n",
      "45     517\n",
      "46      29\n",
      "47      59\n",
      "48      13\n",
      "50      33\n",
      "53      25\n",
      "55       5\n",
      "56     110\n",
      "57     201\n",
      "58      68\n",
      "59     326\n",
      "61      40\n",
      "62       6\n",
      "64      76\n",
      "66     243\n",
      "68      18\n",
      "69      39\n",
      "70      18\n",
      "99     359\n",
      "Name: ESTU_PROGRAMA_ACADEMICODESEADO, dtype: int64\n",
      "Elementos null/NaN 100437\n",
      "__________________\n",
      "Elementos diferentes de null/NaN: 6103\n",
      "__________________\n",
      "(6103,)\n",
      "None\n"
     ]
    }
   ],
   "source": [
    "c = 'ESTU_PROGRAMA_ACADEMICODESEADO'\n",
    "print(data_2015[c].value_counts().sort_index().index)\n",
    "print(data_2015[c].value_counts().sort_index())\n",
    "print(missing_data(data_2015[c]))"
   ]
  },
  {
   "cell_type": "code",
   "execution_count": 152,
   "metadata": {
    "collapsed": false
   },
   "outputs": [
    {
     "name": "stdout",
     "output_type": "stream",
     "text": [
      "cant null antes: 100437\n",
      "cant null despues: 0\n"
     ]
    }
   ],
   "source": [
    "Do_resamples(data_2015, c, float)"
   ]
  },
  {
   "cell_type": "code",
   "execution_count": 153,
   "metadata": {
    "collapsed": false,
    "scrolled": true
   },
   "outputs": [
    {
     "name": "stdout",
     "output_type": "stream",
     "text": [
      "Index(['  Colegio La Amistad  ', ' AGROPECUARIO GUAMBIANO',\n",
      "       ' ANGELA MARIA TORRES SUAREZ',\n",
      "       ' BACHILLERATO INTEGRAL DEL QUINDIO IPFEL', ' C.E.I.CO',\n",
      "       ' CENTRO JOHANN KEPLER', ' CIUDADELA JOSE MARIA CORDOBA',\n",
      "       ' COLEGIO GUILLERMO LEON VALENCIA', ' COLEGIO NACIONALIZADO FEMENINO',\n",
      "       ' Corporacion Educativa Simon Rodriguez',\n",
      "       ...\n",
      "       'vocacional de jovenes y adultos', 'wesleyano del norte',\n",
      "       'wilian shespier', 'william shakespeare', 'willian shakespeare ',\n",
      "       'willian shakespiare', 'zion School', 'zion school', '¡.D.E BAGAZAL',\n",
      "       'ÓN DEPARTAMENTAL FUNZA'],\n",
      "      dtype='object', length=15620)\n",
      "  Colegio La Amistad                        1\n",
      " AGROPECUARIO GUAMBIANO                     1\n",
      " ANGELA MARIA TORRES SUAREZ                 1\n",
      " BACHILLERATO INTEGRAL DEL QUINDIO IPFEL    1\n",
      " C.E.I.CO                                   1\n",
      " CENTRO JOHANN KEPLER                       1\n",
      " CIUDADELA JOSE MARIA CORDOBA               1\n",
      " COLEGIO GUILLERMO LEON VALENCIA            1\n",
      " COLEGIO NACIONALIZADO FEMENINO             1\n",
      " Corporacion Educativa Simon Rodriguez      1\n",
      " Escuela Normal Superior de San Mateo       1\n",
      " Esperanza,Amor y Paz                       1\n",
      " FUNDACION  GENERAL JOSE MARIA CORDOBA      1\n",
      " GIMNASIO GRAN COLOMBIANO                   1\n",
      " Gimnasio Del Pacifico                      1\n",
      " I .E.  SAN JOSE DE ORITO                   1\n",
      " I. E. TECNICA RAFAEL URIBE - SEDE INSTI    1\n",
      " I.E.CENFE                                  1\n",
      " I.E.D Costa Caribe                         1\n",
      " IED sierra morena  ciudad bolivar          1\n",
      " INMACULADA CONCEPCION                      1\n",
      " INSTITUCION EDUCATIVA SAN PEDRO CLAVER     1\n",
      " INSTITUTO ANDINO DE BACHILLERATO Y CAPA    1\n",
      " INSTITUTO FERRINI                          1\n",
      " INSTITUTO MAYOR DE EDUCACION INTEGRAL      1\n",
      " INSTITUTO TECNICO INDUSTRIAL               1\n",
      " Instituto Tomás Moro sede Madrid           1\n",
      " Instituto politécnico nacional latinoam    1\n",
      " JOSE ANTONIO LLORENTE                      1\n",
      " Jose Celestino Mutis                       1\n",
      "                                           ..\n",
      "validación en Educamos                      1\n",
      "validado                                    1\n",
      "valparaiso                                  1\n",
      "vasco nuñes de balboa                       1\n",
      "vasco nuñez de balboa                       1\n",
      "vasco ñuñez de balboa                       1\n",
      "venadillo                                   1\n",
      "victor de lima                              1\n",
      "victor feliz gomez nova                     1\n",
      "vida y paz                                  2\n",
      "villa amazonica                             1\n",
      "villa de los andes                          1\n",
      "villa del socorro nocturna                  2\n",
      "villa margarita                             3\n",
      "villa maria                                 1\n",
      "villamargarita                              1\n",
      "villavicencio - meta                        1\n",
      "virtual                                     1\n",
      "virtual                                     1\n",
      "virtual andinos                             1\n",
      "vocacional de jovenes y adultos             1\n",
      "wesleyano del norte                         1\n",
      "wilian shespier                             1\n",
      "william shakespeare                         3\n",
      "willian shakespeare                         1\n",
      "willian shakespiare                         1\n",
      "zion School                                 1\n",
      "zion school                                 1\n",
      "¡.D.E BAGAZAL                               1\n",
      "ÓN DEPARTAMENTAL FUNZA                      1\n",
      "Name: ESTU_OTRO_PLANTEL, dtype: int64\n",
      "Elementos null/NaN 83690\n",
      "__________________\n",
      "Elementos diferentes de null/NaN: 22850\n",
      "__________________\n",
      "(22850,)\n",
      "None\n"
     ]
    }
   ],
   "source": [
    "c = 'ESTU_OTRO_PLANTEL'\n",
    "print(data_2015[c].value_counts().sort_index().index)\n",
    "print(data_2015[c].value_counts().sort_index())\n",
    "print(missing_data(data_2015[c]))"
   ]
  },
  {
   "cell_type": "code",
   "execution_count": 154,
   "metadata": {
    "collapsed": true
   },
   "outputs": [],
   "source": [
    "data_2015 = data_2015.drop(c, axis=1)"
   ]
  },
  {
   "cell_type": "code",
   "execution_count": 155,
   "metadata": {
    "collapsed": false,
    "scrolled": true
   },
   "outputs": [
    {
     "name": "stdout",
     "output_type": "stream",
     "text": [
      "Float64Index([  1.0,   2.0,  12.0,  14.0,  15.0,  28.0,  33.0,  39.0,  40.0,\n",
      "               41.0,  42.0,  43.0,  46.0,  47.0,  50.0,  54.0,  55.0,  57.0,\n",
      "               64.0,  65.0,  76.0,  86.0,  91.0,  98.0,  99.0, 101.0, 110.0,\n",
      "              118.0, 119.0, 131.0, 144.0, 145.0, 167.0, 168.0, 171.0, 174.0,\n",
      "              179.0, 183.0, 188.0, 195.0, 202.0, 209.0, 216.0, 220.0, 235.0,\n",
      "              236.0, 240.0, 241.0, 242.0],\n",
      "             dtype='float64')\n",
      "1      80131\n",
      "2          1\n",
      "12        16\n",
      "14         2\n",
      "15         1\n",
      "28         6\n",
      "33         5\n",
      "39         6\n",
      "40         1\n",
      "41         6\n",
      "42        10\n",
      "43         1\n",
      "46        10\n",
      "47         1\n",
      "50        26\n",
      "54         5\n",
      "55         4\n",
      "57         3\n",
      "64         2\n",
      "65        51\n",
      "76         1\n",
      "86         1\n",
      "91         3\n",
      "98         4\n",
      "99         7\n",
      "101        1\n",
      "110        4\n",
      "118        7\n",
      "119        2\n",
      "131        1\n",
      "144       13\n",
      "145        1\n",
      "167        1\n",
      "168        2\n",
      "171       16\n",
      "174       25\n",
      "179        1\n",
      "183        2\n",
      "188        1\n",
      "195        1\n",
      "202        1\n",
      "209       54\n",
      "216        1\n",
      "220        1\n",
      "235        3\n",
      "236       66\n",
      "240        4\n",
      "241      224\n",
      "242        3\n",
      "Name: ESTU_COD_OTRO_PAIS_PLANTEL, dtype: int64\n",
      "Elementos null/NaN 25801\n",
      "__________________\n",
      "Elementos diferentes de null/NaN: 80739\n",
      "__________________\n",
      "(80739,)\n",
      "None\n"
     ]
    }
   ],
   "source": [
    "c = 'ESTU_COD_OTRO_PAIS_PLANTEL'\n",
    "print(data_2015[c].value_counts().sort_index().index)\n",
    "print(data_2015[c].value_counts().sort_index())\n",
    "print(missing_data(data_2015[c]))"
   ]
  },
  {
   "cell_type": "code",
   "execution_count": 156,
   "metadata": {
    "collapsed": true
   },
   "outputs": [],
   "source": [
    "data_2015 = data_2015.drop(c, axis=1)"
   ]
  },
  {
   "cell_type": "code",
   "execution_count": 157,
   "metadata": {
    "collapsed": false
   },
   "outputs": [
    {
     "name": "stdout",
     "output_type": "stream",
     "text": [
      "Index(['EN EL PROMEDIO DEL SALÓN', 'MUY POR ENCIMA DEL PROMEDIO DEL SALÓN',\n",
      "       'POR DEBAJO DEL PROMEDIO DEL SALÓN',\n",
      "       'POR ENCIMA DEL PROMEDIO DEL SALÓN'],\n",
      "      dtype='object')\n",
      "EN EL PROMEDIO DEL SALÓN                 4468\n",
      "MUY POR ENCIMA DEL PROMEDIO DEL SALÓN     153\n",
      "POR DEBAJO DEL PROMEDIO DEL SALÓN         222\n",
      "POR ENCIMA DEL PROMEDIO DEL SALÓN        1260\n",
      "Name: ESTU_PROMEDIO_SALON, dtype: int64\n",
      "Elementos null/NaN 100437\n",
      "__________________\n",
      "Elementos diferentes de null/NaN: 6103\n",
      "__________________\n",
      "(6103,)\n",
      "None\n"
     ]
    }
   ],
   "source": [
    "c = 'ESTU_PROMEDIO_SALON'\n",
    "print(data_2015[c].value_counts().sort_index().index)\n",
    "print(data_2015[c].value_counts().sort_index())\n",
    "print(missing_data(data_2015[c]))"
   ]
  },
  {
   "cell_type": "code",
   "execution_count": 158,
   "metadata": {
    "collapsed": false
   },
   "outputs": [
    {
     "name": "stdout",
     "output_type": "stream",
     "text": [
      "cant null antes: 100437\n",
      "cant null despues: 0\n"
     ]
    }
   ],
   "source": [
    "Do_resamples(data_2015, c, str)"
   ]
  },
  {
   "cell_type": "code",
   "execution_count": 159,
   "metadata": {
    "collapsed": false,
    "scrolled": true
   },
   "outputs": [
    {
     "name": "stdout",
     "output_type": "stream",
     "text": [
      "Float64Index([ 1.0,  2.0,  3.0,  4.0,  5.0,  6.0,  7.0,  8.0,  9.0, 10.0, 11.0,\n",
      "              12.0, 13.0, 14.0, 15.0, 16.0, 17.0, 18.0, 19.0, 20.0, 21.0, 22.0,\n",
      "              23.0, 24.0, 25.0, 26.0, 27.0, 28.0, 29.0, 30.0, 31.0, 32.0, 33.0,\n",
      "              34.0, 35.0, 36.0, 37.0, 38.0, 39.0, 40.0, 41.0, 42.0, 43.0, 44.0,\n",
      "              45.0, 46.0, 47.0, 48.0, 50.0, 51.0, 52.0, 53.0, 54.0, 55.0, 56.0,\n",
      "              58.0, 60.0, 62.0, 67.0, 74.0, 75.0, 76.0, 77.0, 79.0, 80.0, 81.0,\n",
      "              85.0, 86.0, 87.0, 88.0, 89.0, 99.0],\n",
      "             dtype='float64')\n",
      "1       1\n",
      "2       3\n",
      "3       3\n",
      "4      14\n",
      "5       8\n",
      "6      18\n",
      "7      26\n",
      "8      37\n",
      "9      29\n",
      "10    105\n",
      "11     53\n",
      "12    107\n",
      "13     78\n",
      "14     93\n",
      "15    219\n",
      "16    119\n",
      "17    151\n",
      "18    222\n",
      "19     92\n",
      "20    415\n",
      "21    158\n",
      "22    196\n",
      "23    165\n",
      "24    240\n",
      "25    560\n",
      "26    167\n",
      "27    168\n",
      "28    214\n",
      "29    130\n",
      "30    501\n",
      "     ... \n",
      "43     26\n",
      "44      8\n",
      "45    102\n",
      "46      7\n",
      "47     11\n",
      "48     23\n",
      "50     33\n",
      "51      1\n",
      "52      4\n",
      "53      4\n",
      "54      5\n",
      "55      3\n",
      "56     13\n",
      "58     10\n",
      "60     23\n",
      "62      2\n",
      "67      2\n",
      "74      1\n",
      "75      1\n",
      "76     18\n",
      "77      3\n",
      "79      1\n",
      "80      2\n",
      "81      3\n",
      "85     20\n",
      "86      1\n",
      "87      2\n",
      "88      1\n",
      "89      1\n",
      "99      4\n",
      "Name: ESTU_TOTAL_ALUMNOS_CURSO, dtype: int64\n",
      "Elementos null/NaN 100437\n",
      "__________________\n",
      "Elementos diferentes de null/NaN: 6103\n",
      "__________________\n",
      "(6103,)\n",
      "None\n"
     ]
    }
   ],
   "source": [
    "c = 'ESTU_TOTAL_ALUMNOS_CURSO'\n",
    "print(data_2015[c].value_counts().sort_index().index)\n",
    "print(data_2015[c].value_counts().sort_index())\n",
    "print(missing_data(data_2015[c]))"
   ]
  },
  {
   "cell_type": "code",
   "execution_count": 160,
   "metadata": {
    "collapsed": false
   },
   "outputs": [
    {
     "name": "stdout",
     "output_type": "stream",
     "text": [
      "cant null antes: 100437\n",
      "cant null despues: 4\n",
      "cant null antes: 4\n",
      "cant null despues: 0\n"
     ]
    }
   ],
   "source": [
    "Do_resamples(data_2015, c, float)"
   ]
  },
  {
   "cell_type": "code",
   "execution_count": 161,
   "metadata": {
    "collapsed": false
   },
   "outputs": [
    {
     "name": "stdout",
     "output_type": "stream",
     "text": [
      "Float64Index([1.0, 2.0, 3.0, 4.0, 5.0, 6.0, 7.0, 8.0], dtype='float64')\n",
      "1    1675\n",
      "2    1186\n",
      "3     546\n",
      "4     248\n",
      "5     191\n",
      "6     445\n",
      "7     280\n",
      "8    1532\n",
      "Name: ESTU_ANOS_COLEGIO_ACTUAL, dtype: int64\n",
      "Elementos null/NaN 100437\n",
      "__________________\n",
      "Elementos diferentes de null/NaN: 6103\n",
      "__________________\n",
      "(6103,)\n",
      "None\n"
     ]
    }
   ],
   "source": [
    "c = 'ESTU_ANOS_COLEGIO_ACTUAL'\n",
    "print(data_2015[c].value_counts().sort_index().index)\n",
    "print(data_2015[c].value_counts().sort_index())\n",
    "print(missing_data(data_2015[c]))"
   ]
  },
  {
   "cell_type": "code",
   "execution_count": 162,
   "metadata": {
    "collapsed": false
   },
   "outputs": [
    {
     "name": "stdout",
     "output_type": "stream",
     "text": [
      "cant null antes: 100437\n",
      "cant null despues: 1\n",
      "cant null antes: 1\n",
      "cant null despues: 0\n"
     ]
    }
   ],
   "source": [
    "Do_resamples(data_2015, c, float)"
   ]
  },
  {
   "cell_type": "code",
   "execution_count": 163,
   "metadata": {
    "collapsed": false
   },
   "outputs": [
    {
     "name": "stdout",
     "output_type": "stream",
     "text": [
      "Float64Index([1.0, 2.0, 3.0, 4.0, 5.0, 6.0], dtype='float64')\n",
      "1    2682\n",
      "2    8049\n",
      "3    3212\n",
      "4    1133\n",
      "5    2567\n",
      "6    8157\n",
      "Name: COLE_VALOR_PENSION, dtype: int64\n",
      "Elementos null/NaN 80740\n",
      "__________________\n",
      "Elementos diferentes de null/NaN: 25800\n",
      "__________________\n",
      "(25800,)\n",
      "None\n"
     ]
    }
   ],
   "source": [
    "c = 'COLE_VALOR_PENSION'\n",
    "print(data_2015[c].value_counts().sort_index().index)\n",
    "print(data_2015[c].value_counts().sort_index())\n",
    "print(missing_data(data_2015[c]))"
   ]
  },
  {
   "cell_type": "code",
   "execution_count": 164,
   "metadata": {
    "collapsed": false
   },
   "outputs": [
    {
     "name": "stdout",
     "output_type": "stream",
     "text": [
      "cant null antes: 80740\n",
      "cant null despues: 0\n"
     ]
    }
   ],
   "source": [
    "Do_resamples(data_2015, c, float)"
   ]
  },
  {
   "cell_type": "code",
   "execution_count": 165,
   "metadata": {
    "collapsed": false
   },
   "outputs": [
    {
     "name": "stdout",
     "output_type": "stream",
     "text": [
      "Float64Index([1.0, 2.0, 3.0, 4.0], dtype='float64')\n",
      "1    25102\n",
      "2      632\n",
      "3       53\n",
      "4       13\n",
      "Name: ESTU_VECES_ESTADO_ESTUDIANTIL, dtype: int64\n",
      "Elementos null/NaN 80740\n",
      "__________________\n",
      "Elementos diferentes de null/NaN: 25800\n",
      "__________________\n",
      "(25800,)\n",
      "None\n"
     ]
    }
   ],
   "source": [
    "c = 'ESTU_VECES_ESTADO_ESTUDIANTIL'\n",
    "print(data_2015[c].value_counts().sort_index().index)\n",
    "print(data_2015[c].value_counts().sort_index())\n",
    "print(missing_data(data_2015[c]))"
   ]
  },
  {
   "cell_type": "code",
   "execution_count": 166,
   "metadata": {
    "collapsed": false
   },
   "outputs": [
    {
     "name": "stdout",
     "output_type": "stream",
     "text": [
      "cant null antes: 80740\n",
      "cant null despues: 0\n"
     ]
    }
   ],
   "source": [
    "Do_resamples(data_2015, c, float)"
   ]
  },
  {
   "cell_type": "code",
   "execution_count": 167,
   "metadata": {
    "collapsed": false
   },
   "outputs": [
    {
     "name": "stdout",
     "output_type": "stream",
     "text": [
      "Float64Index([1.0, 2.0, 3.0, 4.0, 5.0, 6.0, 7.0, 8.0, 9.0, 10.0, 11.0], dtype='float64')\n",
      "1      5841\n",
      "2     18797\n",
      "3     15070\n",
      "4     12632\n",
      "5     23742\n",
      "6      1917\n",
      "7      6478\n",
      "8      1705\n",
      "9     11761\n",
      "10     5072\n",
      "11     3524\n",
      "Name: FAMI_EDUCA_PADRE, dtype: int64\n",
      "Elementos null/NaN 1\n",
      "__________________\n",
      "Elementos diferentes de null/NaN: 106539\n",
      "__________________\n",
      "(106539,)\n",
      "None\n"
     ]
    }
   ],
   "source": [
    "c = 'FAMI_EDUCA_PADRE'\n",
    "print(data_2015[c].value_counts().sort_index().index)\n",
    "print(data_2015[c].value_counts().sort_index())\n",
    "print(missing_data(data_2015[c]))"
   ]
  },
  {
   "cell_type": "code",
   "execution_count": 168,
   "metadata": {
    "collapsed": false
   },
   "outputs": [
    {
     "name": "stdout",
     "output_type": "stream",
     "text": [
      "Float64Index([1.0, 2.0, 3.0, 4.0, 5.0, 6.0, 7.0, 8.0, 9.0, 10.0, 11.0], dtype='float64')\n",
      "1      3321\n",
      "2     16232\n",
      "3     15005\n",
      "4     14385\n",
      "5     26365\n",
      "6      2321\n",
      "7      8896\n",
      "8      1997\n",
      "9     12281\n",
      "10     4546\n",
      "11     1190\n",
      "Name: FAMI_EDUCA_MADRE, dtype: int64\n",
      "Elementos null/NaN 1\n",
      "__________________\n",
      "Elementos diferentes de null/NaN: 106539\n",
      "__________________\n",
      "(106539,)\n",
      "None\n"
     ]
    }
   ],
   "source": [
    "c = 'FAMI_EDUCA_MADRE'\n",
    "print(data_2015[c].value_counts().sort_index().index)\n",
    "print(data_2015[c].value_counts().sort_index())\n",
    "print(missing_data(data_2015[c]))"
   ]
  },
  {
   "cell_type": "code",
   "execution_count": 169,
   "metadata": {
    "collapsed": false
   },
   "outputs": [
    {
     "name": "stdout",
     "output_type": "stream",
     "text": [
      "Float64Index([1.0, 2.0, 3.0, 4.0, 5.0, 6.0, 7.0, 8.0, 9.0, 10.0, 11.0, 12.0], dtype='float64')\n",
      "1      3492\n",
      "2      2627\n",
      "3      2833\n",
      "4      1263\n",
      "5      8798\n",
      "6      1786\n",
      "7     19198\n",
      "8      4230\n",
      "9     37817\n",
      "10     2060\n",
      "11     5934\n",
      "12    16501\n",
      "Name: FAMI_OCUPA_PADRE, dtype: int64\n",
      "Elementos null/NaN 1\n",
      "__________________\n",
      "Elementos diferentes de null/NaN: 106539\n",
      "__________________\n",
      "(106539,)\n",
      "None\n"
     ]
    }
   ],
   "source": [
    "c = 'FAMI_OCUPA_PADRE'\n",
    "print(data_2015[c].value_counts().sort_index().index)\n",
    "print(data_2015[c].value_counts().sort_index())\n",
    "print(missing_data(data_2015[c]))"
   ]
  },
  {
   "cell_type": "code",
   "execution_count": 170,
   "metadata": {
    "collapsed": false
   },
   "outputs": [
    {
     "name": "stdout",
     "output_type": "stream",
     "text": [
      "Float64Index([1.0, 2.0, 3.0, 4.0, 5.0, 6.0, 7.0, 8.0, 9.0, 10.0, 11.0, 12.0], dtype='float64')\n",
      "1      1631\n",
      "2      2601\n",
      "3      1596\n",
      "4      1812\n",
      "5      7867\n",
      "6      5309\n",
      "7      5882\n",
      "8      4009\n",
      "9     13947\n",
      "10    51344\n",
      "11     2173\n",
      "12     8368\n",
      "Name: FAMI_OCUPA_MADRE, dtype: int64\n",
      "Elementos null/NaN 1\n",
      "__________________\n",
      "Elementos diferentes de null/NaN: 106539\n",
      "__________________\n",
      "(106539,)\n",
      "None\n"
     ]
    }
   ],
   "source": [
    "c = 'FAMI_OCUPA_MADRE'\n",
    "print(data_2015[c].value_counts().sort_index().index)\n",
    "print(data_2015[c].value_counts().sort_index())\n",
    "print(missing_data(data_2015[c]))"
   ]
  },
  {
   "cell_type": "code",
   "execution_count": 171,
   "metadata": {
    "collapsed": false
   },
   "outputs": [
    {
     "name": "stdout",
     "output_type": "stream",
     "text": [
      "Float64Index([0.0, 1.0, 2.0, 3.0, 4.0, 5.0, 6.0, 7.0, 8.0, 9.0, 10.0], dtype='float64')\n",
      "0      9073\n",
      "1     28244\n",
      "2     28417\n",
      "3     16965\n",
      "4      9618\n",
      "5      5576\n",
      "6      3128\n",
      "7      2035\n",
      "8      1250\n",
      "9       833\n",
      "10     1400\n",
      "Name: FAMI_NUM_HERMANOS, dtype: int64\n",
      "Elementos null/NaN 1\n",
      "__________________\n",
      "Elementos diferentes de null/NaN: 106539\n",
      "__________________\n",
      "(106539,)\n",
      "None\n"
     ]
    }
   ],
   "source": [
    "c = 'FAMI_NUM_HERMANOS'\n",
    "print(data_2015[c].value_counts().sort_index().index)\n",
    "print(data_2015[c].value_counts().sort_index())\n",
    "print(missing_data(data_2015[c]))"
   ]
  },
  {
   "cell_type": "code",
   "execution_count": 172,
   "metadata": {
    "collapsed": false
   },
   "outputs": [
    {
     "name": "stdout",
     "output_type": "stream",
     "text": [
      "Float64Index([1.0, 2.0, 3.0, 4.0, 5.0, 6.0], dtype='float64')\n",
      "1    31966\n",
      "2    38772\n",
      "3    22652\n",
      "4     6487\n",
      "5     3560\n",
      "6     3102\n",
      "Name: FAMI_ESTRATO_VIVIENDA, dtype: int64\n",
      "Elementos null/NaN 1\n",
      "__________________\n",
      "Elementos diferentes de null/NaN: 106539\n",
      "__________________\n",
      "(106539,)\n",
      "None\n"
     ]
    }
   ],
   "source": [
    "c = 'FAMI_ESTRATO_VIVIENDA'\n",
    "print(data_2015[c].value_counts().sort_index().index)\n",
    "print(data_2015[c].value_counts().sort_index())\n",
    "print(missing_data(data_2015[c]))"
   ]
  },
  {
   "cell_type": "code",
   "execution_count": 173,
   "metadata": {
    "collapsed": false
   },
   "outputs": [
    {
     "name": "stdout",
     "output_type": "stream",
     "text": [
      "Float64Index([1.0, 2.0, 3.0, 4.0, 5.0], dtype='float64')\n",
      "1    40676\n",
      "2    21697\n",
      "3     3850\n",
      "4     1186\n",
      "5    39130\n",
      "Name: FAMI_NIVEL_SISBEN, dtype: int64\n",
      "Elementos null/NaN 1\n",
      "__________________\n",
      "Elementos diferentes de null/NaN: 106539\n",
      "__________________\n",
      "(106539,)\n",
      "None\n"
     ]
    }
   ],
   "source": [
    "c = 'FAMI_NIVEL_SISBEN'\n",
    "print(data_2015[c].value_counts().sort_index().index)\n",
    "print(data_2015[c].value_counts().sort_index())\n",
    "print(missing_data(data_2015[c]))"
   ]
  },
  {
   "cell_type": "code",
   "execution_count": 174,
   "metadata": {
    "collapsed": false
   },
   "outputs": [
    {
     "name": "stdout",
     "output_type": "stream",
     "text": [
      "Float64Index([1.0, 2.0, 3.0, 4.0, 5.0, 6.0, 7.0, 8.0, 9.0, 10.0, 11.0, 12.0], dtype='float64')\n",
      "1      1502\n",
      "2      8696\n",
      "3     23215\n",
      "4     33285\n",
      "5     21800\n",
      "6      9742\n",
      "7      4178\n",
      "8      2064\n",
      "9       843\n",
      "10      562\n",
      "11      232\n",
      "12      420\n",
      "Name: FAMI_PERSONAS_HOGAR, dtype: int64\n",
      "Elementos null/NaN 1\n",
      "__________________\n",
      "Elementos diferentes de null/NaN: 106539\n",
      "__________________\n",
      "(106539,)\n",
      "None\n"
     ]
    }
   ],
   "source": [
    "c = 'FAMI_PERSONAS_HOGAR'\n",
    "print(data_2015[c].value_counts().sort_index().index)\n",
    "print(data_2015[c].value_counts().sort_index())\n",
    "print(missing_data(data_2015[c]))"
   ]
  },
  {
   "cell_type": "code",
   "execution_count": 175,
   "metadata": {
    "collapsed": false,
    "scrolled": true
   },
   "outputs": [
    {
     "name": "stdout",
     "output_type": "stream",
     "text": [
      "Float64Index([1.0, 2.0, 3.0, 4.0, 5.0, 6.0, 7.0, 8.0, 9.0, 10.0], dtype='float64')\n",
      "1      6139\n",
      "2     35717\n",
      "3     44717\n",
      "4     14501\n",
      "5      3641\n",
      "6      1093\n",
      "7       368\n",
      "8       186\n",
      "9        72\n",
      "10      105\n",
      "Name: FAMI_CUARTOS_HOGAR, dtype: int64\n",
      "Elementos null/NaN 1\n",
      "__________________\n",
      "Elementos diferentes de null/NaN: 106539\n",
      "__________________\n",
      "(106539,)\n",
      "None\n"
     ]
    }
   ],
   "source": [
    "c = 'FAMI_CUARTOS_HOGAR'\n",
    "print(data_2015[c].value_counts().sort_index().index)\n",
    "print(data_2015[c].value_counts().sort_index())\n",
    "print(missing_data(data_2015[c]))"
   ]
  },
  {
   "cell_type": "code",
   "execution_count": 176,
   "metadata": {
    "collapsed": true
   },
   "outputs": [],
   "source": [
    "idx = data_2015[data_2015[c].isnull()].index\n",
    "data_2015 = data_2015.drop(idx)"
   ]
  },
  {
   "cell_type": "code",
   "execution_count": 177,
   "metadata": {
    "collapsed": false
   },
   "outputs": [
    {
     "name": "stdout",
     "output_type": "stream",
     "text": [
      "Float64Index([1.0, 2.0, 3.0, 4.0], dtype='float64')\n",
      "1     3955\n",
      "2    42783\n",
      "3     6634\n",
      "4    53167\n",
      "Name: FAMI_PISOSHOGAR, dtype: int64\n",
      "Elementos null/NaN 0\n",
      "__________________\n",
      "Elementos diferentes de null/NaN: 106539\n",
      "__________________\n",
      "(106539,)\n",
      "None\n"
     ]
    }
   ],
   "source": [
    "c = 'FAMI_PISOSHOGAR'\n",
    "print(data_2015[c].value_counts().sort_index().index)\n",
    "print(data_2015[c].value_counts().sort_index())\n",
    "print(missing_data(data_2015[c]))"
   ]
  },
  {
   "cell_type": "code",
   "execution_count": 178,
   "metadata": {
    "collapsed": false
   },
   "outputs": [
    {
     "name": "stdout",
     "output_type": "stream",
     "text": [
      "Index(['N', 'S'], dtype='object')\n",
      "N    49489\n",
      "S    57050\n",
      "Name: FAMI_TELEFONO_FIJO, dtype: int64\n",
      "Elementos null/NaN 0\n",
      "__________________\n",
      "Elementos diferentes de null/NaN: 106539\n",
      "__________________\n",
      "(106539,)\n",
      "None\n"
     ]
    }
   ],
   "source": [
    "c = 'FAMI_TELEFONO_FIJO'\n",
    "print(data_2015[c].value_counts().sort_index().index)\n",
    "print(data_2015[c].value_counts().sort_index())\n",
    "print(missing_data(data_2015[c]))"
   ]
  },
  {
   "cell_type": "code",
   "execution_count": 179,
   "metadata": {
    "collapsed": false
   },
   "outputs": [
    {
     "name": "stdout",
     "output_type": "stream",
     "text": [
      "Index(['N', 'S'], dtype='object')\n",
      "N    43628\n",
      "S    62911\n",
      "Name: FAMI_INTERNET, dtype: int64\n",
      "Elementos null/NaN 0\n",
      "__________________\n",
      "Elementos diferentes de null/NaN: 106539\n",
      "__________________\n",
      "(106539,)\n",
      "None\n"
     ]
    }
   ],
   "source": [
    "c = 'FAMI_INTERNET'\n",
    "print(data_2015[c].value_counts().sort_index().index)\n",
    "print(data_2015[c].value_counts().sort_index())\n",
    "print(missing_data(data_2015[c]))"
   ]
  },
  {
   "cell_type": "code",
   "execution_count": 180,
   "metadata": {
    "collapsed": false
   },
   "outputs": [
    {
     "name": "stdout",
     "output_type": "stream",
     "text": [
      "Index(['N', 'S'], dtype='object')\n",
      "N    31247\n",
      "S    75292\n",
      "Name: FAMI_TELEVISOR, dtype: int64\n",
      "Elementos null/NaN 0\n",
      "__________________\n",
      "Elementos diferentes de null/NaN: 106539\n",
      "__________________\n",
      "(106539,)\n",
      "None\n"
     ]
    }
   ],
   "source": [
    "c = 'FAMI_TELEVISOR'\n",
    "print(data_2015[c].value_counts().sort_index().index)\n",
    "print(data_2015[c].value_counts().sort_index())\n",
    "print(missing_data(data_2015[c]))"
   ]
  },
  {
   "cell_type": "code",
   "execution_count": 181,
   "metadata": {
    "collapsed": false
   },
   "outputs": [
    {
     "name": "stdout",
     "output_type": "stream",
     "text": [
      "Index(['N', 'S'], dtype='object')\n",
      "N    33295\n",
      "S    73244\n",
      "Name: FAMI_COMPUTADOR, dtype: int64\n",
      "Elementos null/NaN 0\n",
      "__________________\n",
      "Elementos diferentes de null/NaN: 106539\n",
      "__________________\n",
      "(106539,)\n",
      "None\n"
     ]
    }
   ],
   "source": [
    "c = 'FAMI_COMPUTADOR'\n",
    "print(data_2015[c].value_counts().sort_index().index)\n",
    "print(data_2015[c].value_counts().sort_index())\n",
    "print(missing_data(data_2015[c]))"
   ]
  },
  {
   "cell_type": "code",
   "execution_count": 182,
   "metadata": {
    "collapsed": false
   },
   "outputs": [
    {
     "name": "stdout",
     "output_type": "stream",
     "text": [
      "Index(['N', 'S'], dtype='object')\n",
      "N    39360\n",
      "S    67179\n",
      "Name: FAMI_DVD, dtype: int64\n",
      "Elementos null/NaN 0\n",
      "__________________\n",
      "Elementos diferentes de null/NaN: 106539\n",
      "__________________\n",
      "(106539,)\n",
      "None\n"
     ]
    }
   ],
   "source": [
    "c = 'FAMI_DVD'\n",
    "print(data_2015[c].value_counts().sort_index().index)\n",
    "print(data_2015[c].value_counts().sort_index())\n",
    "print(missing_data(data_2015[c]))"
   ]
  },
  {
   "cell_type": "code",
   "execution_count": 183,
   "metadata": {
    "collapsed": false
   },
   "outputs": [
    {
     "name": "stdout",
     "output_type": "stream",
     "text": [
      "Index(['N', 'S'], dtype='object')\n",
      "N    32250\n",
      "S    74289\n",
      "Name: FAMI_LAVADORA, dtype: int64\n",
      "Elementos null/NaN 0\n",
      "__________________\n",
      "Elementos diferentes de null/NaN: 106539\n",
      "__________________\n",
      "(106539,)\n",
      "None\n"
     ]
    }
   ],
   "source": [
    "c = 'FAMI_LAVADORA'\n",
    "print(data_2015[c].value_counts().sort_index().index)\n",
    "print(data_2015[c].value_counts().sort_index())\n",
    "print(missing_data(data_2015[c]))"
   ]
  },
  {
   "cell_type": "code",
   "execution_count": 184,
   "metadata": {
    "collapsed": false
   },
   "outputs": [
    {
     "name": "stdout",
     "output_type": "stream",
     "text": [
      "Index(['N', 'S'], dtype='object')\n",
      "N    70975\n",
      "S    35564\n",
      "Name: FAMI_MICROONDAS, dtype: int64\n",
      "Elementos null/NaN 0\n",
      "__________________\n",
      "Elementos diferentes de null/NaN: 106539\n",
      "__________________\n",
      "(106539,)\n",
      "None\n"
     ]
    }
   ],
   "source": [
    "c = 'FAMI_MICROONDAS'\n",
    "print(data_2015[c].value_counts().sort_index().index)\n",
    "print(data_2015[c].value_counts().sort_index())\n",
    "print(missing_data(data_2015[c]))"
   ]
  },
  {
   "cell_type": "code",
   "execution_count": 185,
   "metadata": {
    "collapsed": false
   },
   "outputs": [
    {
     "name": "stdout",
     "output_type": "stream",
     "text": [
      "Index(['N', 'S'], dtype='object')\n",
      "N    79312\n",
      "S    27227\n",
      "Name: FAMI_AUTOMOVIL, dtype: int64\n",
      "Elementos null/NaN 0\n",
      "__________________\n",
      "Elementos diferentes de null/NaN: 106539\n",
      "__________________\n",
      "(106539,)\n",
      "None\n"
     ]
    }
   ],
   "source": [
    "c = 'FAMI_AUTOMOVIL'\n",
    "print(data_2015[c].value_counts().sort_index().index)\n",
    "print(data_2015[c].value_counts().sort_index())\n",
    "print(missing_data(data_2015[c]))"
   ]
  },
  {
   "cell_type": "code",
   "execution_count": 186,
   "metadata": {
    "collapsed": false
   },
   "outputs": [
    {
     "name": "stdout",
     "output_type": "stream",
     "text": [
      "Index(['N', 'S'], dtype='object')\n",
      "N    61060\n",
      "S    45479\n",
      "Name: FAMI_HORNO, dtype: int64\n",
      "Elementos null/NaN 0\n",
      "__________________\n",
      "Elementos diferentes de null/NaN: 106539\n",
      "__________________\n",
      "(106539,)\n",
      "None\n"
     ]
    }
   ],
   "source": [
    "c = 'FAMI_HORNO'\n",
    "print(data_2015[c].value_counts().sort_index().index)\n",
    "print(data_2015[c].value_counts().sort_index())\n",
    "print(missing_data(data_2015[c]))"
   ]
  },
  {
   "cell_type": "code",
   "execution_count": 187,
   "metadata": {
    "collapsed": false
   },
   "outputs": [
    {
     "name": "stdout",
     "output_type": "stream",
     "text": [
      "Float64Index([1.0, 2.0, 3.0, 4.0, 5.0, 6.0, 7.0], dtype='float64')\n",
      "1    18924\n",
      "2    48495\n",
      "3    19482\n",
      "4     9363\n",
      "5     3260\n",
      "6     2297\n",
      "7     4718\n",
      "Name: FAMI_INGRESO_FMILIAR_MENSUAL, dtype: int64\n",
      "Elementos null/NaN 0\n",
      "__________________\n",
      "Elementos diferentes de null/NaN: 106539\n",
      "__________________\n",
      "(106539,)\n",
      "None\n"
     ]
    }
   ],
   "source": [
    "c = 'FAMI_INGRESO_FMILIAR_MENSUAL'\n",
    "print(data_2015[c].value_counts().sort_index().index)\n",
    "print(data_2015[c].value_counts().sort_index())\n",
    "print(missing_data(data_2015[c]))"
   ]
  },
  {
   "cell_type": "code",
   "execution_count": 188,
   "metadata": {
    "collapsed": false
   },
   "outputs": [
    {
     "name": "stdout",
     "output_type": "stream",
     "text": [
      "Float64Index([1.0, 2.0, 3.0], dtype='float64')\n",
      "1    22417\n",
      "2     1438\n",
      "3     1945\n",
      "Name: ESTU_TRABAJA, dtype: int64\n",
      "Elementos null/NaN 80739\n",
      "__________________\n",
      "Elementos diferentes de null/NaN: 25800\n",
      "__________________\n",
      "(25800,)\n",
      "None\n"
     ]
    }
   ],
   "source": [
    "c = 'ESTU_TRABAJA'\n",
    "print(data_2015[c].value_counts().sort_index().index)\n",
    "print(data_2015[c].value_counts().sort_index())\n",
    "print(missing_data(data_2015[c]))"
   ]
  },
  {
   "cell_type": "code",
   "execution_count": 189,
   "metadata": {
    "collapsed": false
   },
   "outputs": [
    {
     "name": "stdout",
     "output_type": "stream",
     "text": [
      "cant null antes: 80739\n",
      "cant null despues: 0\n"
     ]
    }
   ],
   "source": [
    "Do_resamples(data_2015, c, float)"
   ]
  },
  {
   "cell_type": "code",
   "execution_count": 190,
   "metadata": {
    "collapsed": false
   },
   "outputs": [
    {
     "name": "stdout",
     "output_type": "stream",
     "text": [
      "Index(['N', 'S'], dtype='object')\n",
      "N     111\n",
      "S    3267\n",
      "Name: ESTU_RECIBE_SALARIO, dtype: int64\n",
      "Elementos null/NaN 103161\n",
      "__________________\n",
      "Elementos diferentes de null/NaN: 3378\n",
      "__________________\n",
      "(3378,)\n",
      "None\n"
     ]
    }
   ],
   "source": [
    "c = 'ESTU_RECIBE_SALARIO'\n",
    "print(data_2015[c].value_counts().sort_index().index)\n",
    "print(data_2015[c].value_counts().sort_index())\n",
    "print(missing_data(data_2015[c]))"
   ]
  },
  {
   "cell_type": "code",
   "execution_count": 191,
   "metadata": {
    "collapsed": false
   },
   "outputs": [
    {
     "name": "stdout",
     "output_type": "stream",
     "text": [
      "cant null antes: 103161\n",
      "cant null despues: 0\n"
     ]
    }
   ],
   "source": [
    "Do_resamples(data_2015, c, str)"
   ]
  },
  {
   "cell_type": "code",
   "execution_count": 192,
   "metadata": {
    "collapsed": false
   },
   "outputs": [
    {
     "name": "stdout",
     "output_type": "stream",
     "text": [
      "Float64Index([1.0, 2.0, 3.0, 4.0], dtype='float64')\n",
      "1    40633\n",
      "2    30315\n",
      "3     6629\n",
      "4     3161\n",
      "Name: ESTU_VECES_ESTADO, dtype: int64\n",
      "Elementos null/NaN 25801\n",
      "__________________\n",
      "Elementos diferentes de null/NaN: 80738\n",
      "__________________\n",
      "(80738,)\n",
      "None\n"
     ]
    }
   ],
   "source": [
    "c = 'ESTU_VECES_ESTADO'\n",
    "print(data_2015[c].value_counts().sort_index().index)\n",
    "print(data_2015[c].value_counts().sort_index())\n",
    "print(missing_data(data_2015[c]))"
   ]
  },
  {
   "cell_type": "code",
   "execution_count": 193,
   "metadata": {
    "collapsed": false
   },
   "outputs": [
    {
     "name": "stdout",
     "output_type": "stream",
     "text": [
      "cant null antes: 25801\n",
      "cant null despues: 0\n"
     ]
    }
   ],
   "source": [
    "Do_resamples(data_2015, c, float)"
   ]
  },
  {
   "cell_type": "code",
   "execution_count": 194,
   "metadata": {
    "collapsed": false,
    "scrolled": true
   },
   "outputs": [
    {
     "name": "stdout",
     "output_type": "stream",
     "text": [
      "Int64Index([ 5,  8, 11, 13, 15, 17, 18, 19, 20, 23, 25, 27, 41, 44, 47, 50, 52,\n",
      "            54, 63, 66, 68, 70, 73, 76, 81, 85, 86, 88, 91, 94, 95, 97, 99],\n",
      "           dtype='int64')\n",
      "5      7437\n",
      "8      3550\n",
      "11    20430\n",
      "13     2155\n",
      "15     4444\n",
      "17     2724\n",
      "18      876\n",
      "19     3983\n",
      "20     2019\n",
      "23     1465\n",
      "25     2738\n",
      "27      684\n",
      "41     4354\n",
      "44      878\n",
      "47      828\n",
      "50     2354\n",
      "52     7618\n",
      "54     2073\n",
      "63     1336\n",
      "66     1864\n",
      "68     7095\n",
      "70      835\n",
      "73     3126\n",
      "76    19291\n",
      "81      397\n",
      "85      613\n",
      "86     1021\n",
      "88       63\n",
      "91       28\n",
      "94       46\n",
      "95      163\n",
      "97       23\n",
      "99       28\n",
      "Name: ESTU_COD_DEPTO_PRESENTACION, dtype: int64\n",
      "Elementos null/NaN 0\n",
      "__________________\n",
      "Elementos diferentes de null/NaN: 106539\n",
      "__________________\n",
      "(106539,)\n",
      "None\n"
     ]
    }
   ],
   "source": [
    "c = 'ESTU_COD_DEPTO_PRESENTACION'\n",
    "print(data_2015[c].value_counts().sort_index().index)\n",
    "print(data_2015[c].value_counts().sort_index())\n",
    "print(missing_data(data_2015[c]))"
   ]
  },
  {
   "cell_type": "code",
   "execution_count": 195,
   "metadata": {
    "collapsed": false
   },
   "outputs": [],
   "source": [
    "data_2015 = data_2015.drop(c, axis=1)"
   ]
  },
  {
   "cell_type": "code",
   "execution_count": 196,
   "metadata": {
    "collapsed": false,
    "scrolled": true
   },
   "outputs": [
    {
     "name": "stdout",
     "output_type": "stream",
     "text": [
      "Int64Index([ 5001,  5045,  5154,  5615,  5756,  8001, 11001, 13001, 13430,\n",
      "            15001, 15407, 15759, 17001, 17380, 18001, 18247, 19001, 19532,\n",
      "            19698, 20001, 20011, 23001, 23466, 25183, 25269, 25290, 25307,\n",
      "            25899, 27001, 27361, 41001, 41396, 44001, 44035, 44430, 47001,\n",
      "            50001, 50313, 52001, 52356, 52835, 52838, 54001, 54498, 54518,\n",
      "            63001, 66001, 68001, 68077, 68081, 68432, 68547, 68679, 70001,\n",
      "            73001, 73268, 76001, 76109, 76111, 76147, 76520, 76622, 76736,\n",
      "            76834, 81001, 81794, 85001, 85250, 86001, 86320, 86568, 86749,\n",
      "            88001, 91001, 94001, 95001, 97001, 99001],\n",
      "           dtype='int64')\n",
      "5001      5522\n",
      "5045      1216\n",
      "5154       217\n",
      "5615       477\n",
      "5756         5\n",
      "8001      3550\n",
      "11001    20430\n",
      "13001     1924\n",
      "13430      231\n",
      "15001     2283\n",
      "15407      150\n",
      "15759     2011\n",
      "17001     2324\n",
      "17380      400\n",
      "18001      794\n",
      "18247       82\n",
      "19001     2884\n",
      "19532       99\n",
      "19698     1000\n",
      "20001     1650\n",
      "20011      369\n",
      "23001     1222\n",
      "23466      243\n",
      "25183       79\n",
      "25269      834\n",
      "25290      292\n",
      "25307      532\n",
      "25899     1001\n",
      "27001      619\n",
      "27361       65\n",
      "         ...  \n",
      "68077      299\n",
      "68081      737\n",
      "68432       93\n",
      "68547      529\n",
      "68679      321\n",
      "70001      835\n",
      "73001     2714\n",
      "73268      412\n",
      "76001    13603\n",
      "76109      950\n",
      "76111      954\n",
      "76147      458\n",
      "76520     2128\n",
      "76622      237\n",
      "76736      128\n",
      "76834      833\n",
      "81001      205\n",
      "81794      192\n",
      "85001      568\n",
      "85250       45\n",
      "86001      325\n",
      "86320      219\n",
      "86568      335\n",
      "86749      142\n",
      "88001       63\n",
      "91001       28\n",
      "94001       46\n",
      "95001      163\n",
      "97001       23\n",
      "99001       28\n",
      "Name: ESTU_COD_MCPIO_PRESENTACION, dtype: int64\n",
      "Elementos null/NaN 0\n",
      "__________________\n",
      "Elementos diferentes de null/NaN: 106539\n",
      "__________________\n",
      "(106539,)\n",
      "None\n"
     ]
    }
   ],
   "source": [
    "c = 'ESTU_COD_MCPIO_PRESENTACION'\n",
    "print(data_2015[c].value_counts().sort_index().index)\n",
    "print(data_2015[c].value_counts().sort_index())\n",
    "print(missing_data(data_2015[c]))"
   ]
  },
  {
   "cell_type": "code",
   "execution_count": 197,
   "metadata": {
    "collapsed": false
   },
   "outputs": [],
   "source": [
    "data_2015 = data_2015.drop(c, axis=1)"
   ]
  },
  {
   "cell_type": "code",
   "execution_count": 198,
   "metadata": {
    "collapsed": false,
    "scrolled": true
   },
   "outputs": [
    {
     "name": "stdout",
     "output_type": "stream",
     "text": [
      "Index(['AGUACHICA', 'ALBANIA', 'APARTADO', 'ARAUCA', 'ARMENIA', 'BARBOSA',\n",
      "       'BARRANCABERMEJA', 'BARRANQUILLA', 'BOGOTÁ D.C.', 'BUCARAMANGA',\n",
      "       'BUENAVENTURA', 'BUGA', 'CALI', 'CARTAGENA', 'CARTAGO', 'CAUCASIA',\n",
      "       'CHOCONTA', 'CUCUTA', 'EL DONCELLO', 'ESPINAL', 'FACATATIVA',\n",
      "       'FLORENCIA', 'FUSAGASUGA', 'GIRARDOT', 'GRANADA', 'IBAGUE', 'INIRIDA',\n",
      "       'IPIALES', 'ISTMINA', 'LA DORADA', 'LA PLATA', 'LETICIA', 'MAGANGUE',\n",
      "       'MAICAO', 'MALAGA', 'MANIZALES', 'MEDELLIN', 'MITU', 'MOCOA',\n",
      "       'MONTELIBANO', 'MONTERIA', 'NEIVA', 'OCAÑA', 'ORITO', 'PALMIRA',\n",
      "       'PAMPLONA', 'PASTO', 'PATIA(EL BORDO)', 'PAZ DE ARIPORO', 'PEREIRA',\n",
      "       'PIEDECUESTA', 'POPAYAN', 'PUERTO ASIS', 'PUERTO CARREÑO', 'QUIBDO',\n",
      "       'RIOHACHA', 'RIONEGRO', 'ROLDANILLO', 'SAN ANDRES', 'SAN GIL',\n",
      "       'SAN JOSE DEL GUAVIARE', 'SANTA MARTA', 'SANTANDER DE QUILICHAO',\n",
      "       'SEVILLA', 'SIBUNDOY', 'SINCELEJO', 'SOGAMOSO', 'SONSON', 'TAME',\n",
      "       'TULUA', 'TUMACO', 'TUNJA', 'TUQUERRES', 'VALLEDUPAR', 'VILLA DE LEYVA',\n",
      "       'VILLAVICENCIO', 'YOPAL', 'ZIPAQUIRA'],\n",
      "      dtype='object')\n",
      "AGUACHICA                   369\n",
      "ALBANIA                      99\n",
      "APARTADO                   1216\n",
      "ARAUCA                      205\n",
      "ARMENIA                    1336\n",
      "BARBOSA                     299\n",
      "BARRANCABERMEJA             737\n",
      "BARRANQUILLA               3550\n",
      "BOGOTÁ D.C.               20430\n",
      "BUCARAMANGA                5116\n",
      "BUENAVENTURA                950\n",
      "BUGA                        954\n",
      "CALI                      13603\n",
      "CARTAGENA                  1924\n",
      "CARTAGO                     458\n",
      "CAUCASIA                    217\n",
      "CHOCONTA                     79\n",
      "CUCUTA                     1612\n",
      "EL DONCELLO                  82\n",
      "ESPINAL                     412\n",
      "FACATATIVA                  834\n",
      "FLORENCIA                   794\n",
      "FUSAGASUGA                  292\n",
      "GIRARDOT                    532\n",
      "GRANADA                     165\n",
      "IBAGUE                     2714\n",
      "INIRIDA                      46\n",
      "IPIALES                    1088\n",
      "ISTMINA                      65\n",
      "LA DORADA                   400\n",
      "                          ...  \n",
      "PAZ DE ARIPORO               45\n",
      "PEREIRA                    1864\n",
      "PIEDECUESTA                 529\n",
      "POPAYAN                    2884\n",
      "PUERTO ASIS                 335\n",
      "PUERTO CARREÑO               28\n",
      "QUIBDO                      619\n",
      "RIOHACHA                    574\n",
      "RIONEGRO                    477\n",
      "ROLDANILLO                  237\n",
      "SAN ANDRES                   63\n",
      "SAN GIL                     321\n",
      "SAN JOSE DEL GUAVIARE       163\n",
      "SANTA MARTA                 828\n",
      "SANTANDER DE QUILICHAO     1000\n",
      "SEVILLA                     128\n",
      "SIBUNDOY                    142\n",
      "SINCELEJO                   835\n",
      "SOGAMOSO                   2011\n",
      "SONSON                        5\n",
      "TAME                        192\n",
      "TULUA                       833\n",
      "TUMACO                      361\n",
      "TUNJA                      2283\n",
      "TUQUERRES                   390\n",
      "VALLEDUPAR                 1650\n",
      "VILLA DE LEYVA              150\n",
      "VILLAVICENCIO              2189\n",
      "YOPAL                       568\n",
      "ZIPAQUIRA                  1001\n",
      "Name: ESTU_MCPIO_PRESENTACION, dtype: int64\n",
      "Elementos null/NaN 0\n",
      "__________________\n",
      "Elementos diferentes de null/NaN: 106539\n",
      "__________________\n",
      "(106539,)\n",
      "None\n"
     ]
    }
   ],
   "source": [
    "c = 'ESTU_MCPIO_PRESENTACION'\n",
    "print(data_2015[c].value_counts().sort_index().index)\n",
    "print(data_2015[c].value_counts().sort_index())\n",
    "print(missing_data(data_2015[c]))"
   ]
  },
  {
   "cell_type": "code",
   "execution_count": 199,
   "metadata": {
    "collapsed": false,
    "scrolled": true
   },
   "outputs": [
    {
     "name": "stdout",
     "output_type": "stream",
     "text": [
      "Index(['AMAZONAS', 'ANTIOQUIA', 'ARAUCA', 'ATLANTICO', 'BOGOTA', 'BOLIVAR',\n",
      "       'BOYACA', 'CALDAS', 'CAQUETA', 'CASANARE', 'CAUCA', 'CESAR', 'CHOCO',\n",
      "       'CORDOBA', 'CUNDINAMARCA', 'GUAINIA', 'GUAVIARE', 'HUILA', 'LA GUAJIRA',\n",
      "       'MAGDALENA', 'META', 'NARIÑO', 'NORTE SANTANDER', 'PUTUMAYO', 'QUINDIO',\n",
      "       'RISARALDA', 'SAN ANDRES', 'SANTANDER', 'SUCRE', 'TOLIMA', 'VALLE',\n",
      "       'VAUPES', 'VICHADA'],\n",
      "      dtype='object')\n",
      "AMAZONAS              28\n",
      "ANTIOQUIA           7437\n",
      "ARAUCA               397\n",
      "ATLANTICO           3550\n",
      "BOGOTA             20430\n",
      "BOLIVAR             2155\n",
      "BOYACA              4444\n",
      "CALDAS              2724\n",
      "CAQUETA              876\n",
      "CASANARE             613\n",
      "CAUCA               3983\n",
      "CESAR               2019\n",
      "CHOCO                684\n",
      "CORDOBA             1465\n",
      "CUNDINAMARCA        2738\n",
      "GUAINIA               46\n",
      "GUAVIARE             163\n",
      "HUILA               4354\n",
      "LA GUAJIRA           878\n",
      "MAGDALENA            828\n",
      "META                2354\n",
      "NARIÑO              7618\n",
      "NORTE SANTANDER     2073\n",
      "PUTUMAYO            1021\n",
      "QUINDIO             1336\n",
      "RISARALDA           1864\n",
      "SAN ANDRES            63\n",
      "SANTANDER           7095\n",
      "SUCRE                835\n",
      "TOLIMA              3126\n",
      "VALLE              19291\n",
      "VAUPES                23\n",
      "VICHADA               28\n",
      "Name: ESTU_DEPTO_PRESENTACION, dtype: int64\n",
      "Elementos null/NaN 0\n",
      "__________________\n",
      "Elementos diferentes de null/NaN: 106539\n",
      "__________________\n",
      "(106539,)\n",
      "None\n"
     ]
    }
   ],
   "source": [
    "c = 'ESTU_DEPTO_PRESENTACION'\n",
    "print(data_2015[c].value_counts().sort_index().index)\n",
    "print(data_2015[c].value_counts().sort_index())\n",
    "print(missing_data(data_2015[c]))"
   ]
  },
  {
   "cell_type": "code",
   "execution_count": 200,
   "metadata": {
    "collapsed": false,
    "scrolled": true
   },
   "outputs": [
    {
     "name": "stdout",
     "output_type": "stream",
     "text": [
      "Index([                                       '0',\n",
      "                                           '3429',\n",
      "                                          '16212',\n",
      "                                          '17360',\n",
      "                                           '5127',\n",
      "                                          '20749',\n",
      "                                          '19768',\n",
      "                                          '19222',\n",
      "                                           '3427',\n",
      "                                            '294',\n",
      "       ...\n",
      "                                          '19914',\n",
      "                   'LICEO BOLIVARIANO PEDRO GUAL',\n",
      "                                           '5102',\n",
      "                                           '4809',\n",
      "                                          '16341',\n",
      "                     'Nuestra Madre de la Merced',\n",
      "                                          '21521',\n",
      "       'Unidad Educativa Instituto Josefa Camejo',\n",
      "                                           '7761',\n",
      "                                              0.0],\n",
      "      dtype='object', length=9379)\n",
      "0                                           4152\n",
      "3429                                         204\n",
      "16212                                        142\n",
      "17360                                        142\n",
      "5127                                         138\n",
      "20749                                        129\n",
      "19768                                        121\n",
      "19222                                        118\n",
      "3427                                         118\n",
      "294                                          111\n",
      "18526                                        110\n",
      "4200                                         107\n",
      "15944                                        104\n",
      "7480                                         101\n",
      "3096                                          97\n",
      "19261                                         95\n",
      "6847                                          95\n",
      "7643                                          94\n",
      "675                                           93\n",
      "19765                                         92\n",
      "6357                                          91\n",
      "15437                                         91\n",
      "11610                                         89\n",
      "6358                                          85\n",
      "8335                                          84\n",
      "3428                                          84\n",
      "3522                                          81\n",
      "10982                                         78\n",
      "17649                                         77\n",
      "9949                                          77\n",
      "                                            ... \n",
      "Escuela Segundaria Nam Truc                    1\n",
      "11224                                          1\n",
      "7430                                           1\n",
      "10848                                          1\n",
      "8298                                           1\n",
      "colegio Adventista Ricardo Greenidge           1\n",
      "1083                                           1\n",
      "4076.0                                         1\n",
      "3268                                           1\n",
      "1063                                           1\n",
      "6384                                           1\n",
      "8729                                           1\n",
      "3626                                           1\n",
      "17825                                          1\n",
      "2801                                           1\n",
      "948                                            1\n",
      "AIU Hight School                               1\n",
      "10005                                          1\n",
      "Tianjin yishuzhiyexueyuan                      1\n",
      "8257                                           1\n",
      "19914                                          1\n",
      "LICEO BOLIVARIANO PEDRO GUAL                   1\n",
      "5102                                           1\n",
      "4809                                           1\n",
      "16341                                          1\n",
      "Nuestra Madre de la Merced                     1\n",
      "21521                                          1\n",
      "Unidad Educativa Instituto Josefa Camejo       1\n",
      "7761                                           1\n",
      "0.0                                            1\n",
      "Name: ESTU_COD_PLANTEL, dtype: int64\n",
      "Elementos null/NaN 49358\n",
      "__________________\n",
      "Elementos diferentes de null/NaN: 57181\n",
      "__________________\n",
      "(57181,)\n",
      "None\n"
     ]
    }
   ],
   "source": [
    "c = 'ESTU_COD_PLANTEL'\n",
    "print(data_2015[c].value_counts().index)\n",
    "print(data_2015[c].value_counts())\n",
    "print(missing_data(data_2015[c]))"
   ]
  },
  {
   "cell_type": "code",
   "execution_count": 201,
   "metadata": {
    "collapsed": false
   },
   "outputs": [],
   "source": [
    "data_2015 = data_2015.drop(c, axis=1)"
   ]
  },
  {
   "cell_type": "markdown",
   "metadata": {},
   "source": [
    "# TARGETS"
   ]
  },
  {
   "cell_type": "code",
   "execution_count": 202,
   "metadata": {
    "collapsed": false
   },
   "outputs": [
    {
     "name": "stdout",
     "output_type": "stream",
     "text": [
      "Index(['D01', 'D02', 'D03', 'D04', 'D05', 'D06', 'D07', 'D08', 'D09', 'D10'], dtype='object')\n",
      "D01     9988\n",
      "D02    10665\n",
      "D03    12221\n",
      "D04    13132\n",
      "D05    12964\n",
      "D06    15913\n",
      "D07    13254\n",
      "D08     6651\n",
      "D09     7162\n",
      "D10     4589\n",
      "Name: DECIL_LECTURA_CRITICA, dtype: int64\n",
      "Elementos null/NaN 0\n",
      "__________________\n",
      "Elementos diferentes de null/NaN: 106539\n",
      "__________________\n",
      "(106539,)\n",
      "None\n"
     ]
    }
   ],
   "source": [
    "c = 'DECIL_LECTURA_CRITICA'\n",
    "print(data_2015[c].value_counts().sort_index().index)\n",
    "print(data_2015[c].value_counts().sort_index())\n",
    "print(missing_data(data_2015[c]))"
   ]
  },
  {
   "cell_type": "code",
   "execution_count": 203,
   "metadata": {
    "collapsed": false,
    "scrolled": true
   },
   "outputs": [
    {
     "name": "stdout",
     "output_type": "stream",
     "text": [
      "Int64Index([  0,   9,  10,  11,  17,  18,  19,  22,  23,  24,  26,  27,  28,\n",
      "             29,  30,  31,  32,  33,  34,  35,  36,  37,  38,  39,  40,  41,\n",
      "             42,  43,  44,  45,  46,  47,  48,  49,  50,  51,  52,  53,  54,\n",
      "             55,  56,  57,  58,  59,  60,  61,  62,  63,  64,  65,  66,  67,\n",
      "             68,  69,  70,  71,  72,  73,  74,  75,  76,  77,  78,  79,  80,\n",
      "             81,  83,  85,  86,  88,  91,  93,  96,  99, 100],\n",
      "           dtype='int64')\n",
      "0       148\n",
      "9         2\n",
      "10        9\n",
      "11       20\n",
      "17        1\n",
      "18       17\n",
      "19       74\n",
      "22        3\n",
      "23       36\n",
      "24      154\n",
      "26       15\n",
      "27      117\n",
      "28      361\n",
      "29        1\n",
      "30      182\n",
      "31      637\n",
      "32        1\n",
      "33      376\n",
      "34     1261\n",
      "35      402\n",
      "36     2066\n",
      "37      455\n",
      "38      361\n",
      "39     3289\n",
      "40      444\n",
      "41     4469\n",
      "42      274\n",
      "43     5478\n",
      "44     5094\n",
      "45     1001\n",
      "       ... \n",
      "61     3844\n",
      "62     2988\n",
      "63      517\n",
      "64     3146\n",
      "65     2182\n",
      "66      603\n",
      "67     2008\n",
      "68      359\n",
      "69     1650\n",
      "70      360\n",
      "71     1165\n",
      "72      418\n",
      "73      676\n",
      "74      502\n",
      "75       74\n",
      "76      361\n",
      "77      431\n",
      "78       32\n",
      "79      230\n",
      "80       70\n",
      "81      214\n",
      "83       99\n",
      "85       96\n",
      "86       75\n",
      "88       44\n",
      "91       15\n",
      "93       59\n",
      "96        7\n",
      "99        4\n",
      "100      17\n",
      "Name: PUNT_LECTURA_CRITICA, dtype: int64\n",
      "Elementos null/NaN 0\n",
      "__________________\n",
      "Elementos diferentes de null/NaN: 106539\n",
      "__________________\n",
      "(106539,)\n",
      "None\n"
     ]
    }
   ],
   "source": [
    "c = 'PUNT_LECTURA_CRITICA'\n",
    "print(data_2015[c].value_counts().sort_index().index)\n",
    "print(data_2015[c].value_counts().sort_index())\n",
    "print(missing_data(data_2015[c]))"
   ]
  },
  {
   "cell_type": "code",
   "execution_count": 204,
   "metadata": {
    "collapsed": false
   },
   "outputs": [
    {
     "name": "stdout",
     "output_type": "stream",
     "text": [
      "Index(['D01', 'D02', 'D03', 'D04', 'D05', 'D06', 'D07', 'D08', 'D09', 'D10'], dtype='object')\n",
      "D01    14798\n",
      "D02    11772\n",
      "D03    17171\n",
      "D04    11084\n",
      "D05     9530\n",
      "D06    10891\n",
      "D07    10855\n",
      "D08     7873\n",
      "D09     7246\n",
      "D10     5319\n",
      "Name: DECIL_MATEMATICAS, dtype: int64\n",
      "Elementos null/NaN 0\n",
      "__________________\n",
      "Elementos diferentes de null/NaN: 106539\n",
      "__________________\n",
      "(106539,)\n",
      "None\n"
     ]
    }
   ],
   "source": [
    "c = 'DECIL_MATEMATICAS'\n",
    "print(data_2015[c].value_counts().sort_index().index)\n",
    "print(data_2015[c].value_counts().sort_index())\n",
    "print(missing_data(data_2015[c]))"
   ]
  },
  {
   "cell_type": "code",
   "execution_count": 205,
   "metadata": {
    "collapsed": false,
    "scrolled": true
   },
   "outputs": [
    {
     "name": "stdout",
     "output_type": "stream",
     "text": [
      "Int64Index([  0,   4,   8,  10,  11,  14,  16,  17,  18,  19,  20,  21,  22,\n",
      "             23,  25,  26,  28,  29,  31,  32,  34,  35,  36,  37,  38,  39,\n",
      "             40,  41,  42,  43,  44,  45,  46,  47,  48,  49,  50,  51,  52,\n",
      "             53,  54,  55,  56,  57,  58,  59,  60,  61,  62,  63,  64,  65,\n",
      "             66,  67,  68,  69,  70,  71,  72,  73,  74,  75,  76,  77,  79,\n",
      "             80,  81,  82,  83,  84,  85,  86,  88,  89,  91,  92,  95,  96,\n",
      "             99, 100],\n",
      "           dtype='int64')\n",
      "0        51\n",
      "4        11\n",
      "8         1\n",
      "10        3\n",
      "11       24\n",
      "14        1\n",
      "16       85\n",
      "17        5\n",
      "18        2\n",
      "19        1\n",
      "20      191\n",
      "21       22\n",
      "22       32\n",
      "23      467\n",
      "25       51\n",
      "26      907\n",
      "28       61\n",
      "29     1664\n",
      "31       95\n",
      "32     2589\n",
      "34     3407\n",
      "35      353\n",
      "36     3979\n",
      "37      796\n",
      "38     4687\n",
      "39      971\n",
      "40     4778\n",
      "41     1336\n",
      "42     4958\n",
      "43     1386\n",
      "       ... \n",
      "64      523\n",
      "65     2051\n",
      "66       90\n",
      "67     1854\n",
      "68     1703\n",
      "69      104\n",
      "70     1655\n",
      "71     1133\n",
      "72      464\n",
      "73     1335\n",
      "74      102\n",
      "75     1163\n",
      "76       77\n",
      "77     1213\n",
      "79     1039\n",
      "80        1\n",
      "81      876\n",
      "82       84\n",
      "83      734\n",
      "84       71\n",
      "85       29\n",
      "86      679\n",
      "88      155\n",
      "89      401\n",
      "91      122\n",
      "92      304\n",
      "95      129\n",
      "96      192\n",
      "99       24\n",
      "100     479\n",
      "Name: PUNT_MATEMATICAS, dtype: int64\n",
      "Elementos null/NaN 0\n",
      "__________________\n",
      "Elementos diferentes de null/NaN: 106539\n",
      "__________________\n",
      "(106539,)\n",
      "None\n"
     ]
    }
   ],
   "source": [
    "c = 'PUNT_MATEMATICAS'\n",
    "print(data_2015[c].value_counts().sort_index().index)\n",
    "print(data_2015[c].value_counts().sort_index())\n",
    "print(missing_data(data_2015[c]))"
   ]
  },
  {
   "cell_type": "code",
   "execution_count": 206,
   "metadata": {
    "collapsed": false
   },
   "outputs": [
    {
     "name": "stdout",
     "output_type": "stream",
     "text": [
      "Index(['D01', 'D02', 'D03', 'D04', 'D05', 'D06', 'D07', 'D08', 'D09', 'D10'], dtype='object')\n",
      "D01    10228\n",
      "D02    11598\n",
      "D03    16079\n",
      "D04    13847\n",
      "D05    12077\n",
      "D06    12739\n",
      "D07    11214\n",
      "D08     6479\n",
      "D09     8172\n",
      "D10     4106\n",
      "Name: DECIL_C_NATURALES, dtype: int64\n",
      "Elementos null/NaN 0\n",
      "__________________\n",
      "Elementos diferentes de null/NaN: 106539\n",
      "__________________\n",
      "(106539,)\n",
      "None\n"
     ]
    }
   ],
   "source": [
    "c = 'DECIL_C_NATURALES'\n",
    "print(data_2015[c].value_counts().sort_index().index)\n",
    "print(data_2015[c].value_counts().sort_index())\n",
    "print(missing_data(data_2015[c]))"
   ]
  },
  {
   "cell_type": "code",
   "execution_count": 207,
   "metadata": {
    "collapsed": false,
    "scrolled": true
   },
   "outputs": [
    {
     "name": "stdout",
     "output_type": "stream",
     "text": [
      "Int64Index([  0,   3,   4,   9,  15,  16,  17,  18,  19,  21,  22,  24,  25,\n",
      "             27,  28,  29,  30,  32,  33,  34,  35,  36,  37,  38,  39,  40,\n",
      "             41,  42,  43,  44,  45,  46,  47,  48,  49,  50,  51,  52,  53,\n",
      "             54,  55,  56,  57,  58,  59,  60,  61,  62,  63,  64,  65,  66,\n",
      "             67,  68,  69,  70,  71,  72,  73,  74,  75,  76,  78,  79,  81,\n",
      "             82,  84,  87,  89,  90,  93, 100],\n",
      "           dtype='int64')\n",
      "0        42\n",
      "3         1\n",
      "4         1\n",
      "9        11\n",
      "15        2\n",
      "16       34\n",
      "17       82\n",
      "18       66\n",
      "19      244\n",
      "21       13\n",
      "22      431\n",
      "24      388\n",
      "25      775\n",
      "27      242\n",
      "28     1168\n",
      "29     1575\n",
      "30      246\n",
      "32     2302\n",
      "33     2605\n",
      "34      633\n",
      "35     2856\n",
      "36      643\n",
      "37     2812\n",
      "38     3916\n",
      "39      738\n",
      "40     3322\n",
      "41     4134\n",
      "42      734\n",
      "43     3798\n",
      "44     3400\n",
      "       ... \n",
      "57     2612\n",
      "58     2589\n",
      "59     2364\n",
      "60      344\n",
      "61     2176\n",
      "62     2453\n",
      "63     2340\n",
      "64     1799\n",
      "65     2102\n",
      "66      711\n",
      "67     1844\n",
      "68     1853\n",
      "69     2071\n",
      "70     1388\n",
      "71      574\n",
      "72     1146\n",
      "73      764\n",
      "74     1210\n",
      "75     1552\n",
      "76     1538\n",
      "78      801\n",
      "79      492\n",
      "81     1062\n",
      "82      400\n",
      "84      654\n",
      "87      398\n",
      "89       28\n",
      "90       81\n",
      "93      153\n",
      "100      37\n",
      "Name: PUNT_C_NATURALES, dtype: int64\n",
      "Elementos null/NaN 0\n",
      "__________________\n",
      "Elementos diferentes de null/NaN: 106539\n",
      "__________________\n",
      "(106539,)\n",
      "None\n"
     ]
    }
   ],
   "source": [
    "c = 'PUNT_C_NATURALES'\n",
    "print(data_2015[c].value_counts().sort_index().index)\n",
    "print(data_2015[c].value_counts().sort_index())\n",
    "print(missing_data(data_2015[c]))"
   ]
  },
  {
   "cell_type": "code",
   "execution_count": 208,
   "metadata": {
    "collapsed": false
   },
   "outputs": [
    {
     "name": "stdout",
     "output_type": "stream",
     "text": [
      "Index(['D01', 'D02', 'D03', 'D04', 'D05', 'D06', 'D07', 'D08', 'D09', 'D10'], dtype='object')\n",
      "D01    11636\n",
      "D02    12067\n",
      "D03    10249\n",
      "D04    14822\n",
      "D05    10946\n",
      "D06    14495\n",
      "D07    12644\n",
      "D08     6897\n",
      "D09     7293\n",
      "D10     5490\n",
      "Name: DECIL_SOCIALES_CIUDADANAS, dtype: int64\n",
      "Elementos null/NaN 0\n",
      "__________________\n",
      "Elementos diferentes de null/NaN: 106539\n",
      "__________________\n",
      "(106539,)\n",
      "None\n"
     ]
    }
   ],
   "source": [
    "c = 'DECIL_SOCIALES_CIUDADANAS'\n",
    "print(data_2015[c].value_counts().sort_index().index)\n",
    "print(data_2015[c].value_counts().sort_index())\n",
    "print(missing_data(data_2015[c]))"
   ]
  },
  {
   "cell_type": "code",
   "execution_count": 209,
   "metadata": {
    "collapsed": false,
    "scrolled": true
   },
   "outputs": [
    {
     "name": "stdout",
     "output_type": "stream",
     "text": [
      "Int64Index([  0,   5,   6,   7,   9,  11,  12,  15,  16,  17,  19,  20,  21,\n",
      "             23,  24,  25,  26,  27,  28,  29,  30,  31,  32,  33,  34,  35,\n",
      "             36,  37,  38,  39,  40,  41,  42,  43,  44,  45,  46,  47,  48,\n",
      "             49,  50,  51,  52,  53,  54,  55,  56,  57,  58,  59,  60,  62,\n",
      "             63,  64,  65,  66,  67,  68,  69,  70,  71,  72,  73,  74,  75,\n",
      "             76,  77,  78,  79,  80,  81,  82,  83,  84,  86,  87,  88,  90,\n",
      "             91,  92,  96,  97,  98, 100],\n",
      "           dtype='int64')\n",
      "0        61\n",
      "5        24\n",
      "6         3\n",
      "7         4\n",
      "9         3\n",
      "11       63\n",
      "12        9\n",
      "15        5\n",
      "16      125\n",
      "17       23\n",
      "19      218\n",
      "20       25\n",
      "21       39\n",
      "23      468\n",
      "24       78\n",
      "25       50\n",
      "26      797\n",
      "27      125\n",
      "28     1207\n",
      "29      239\n",
      "30        2\n",
      "31     1946\n",
      "32       98\n",
      "33     2283\n",
      "34      446\n",
      "35     2814\n",
      "36      481\n",
      "37     3264\n",
      "38      465\n",
      "39     3673\n",
      "       ... \n",
      "65      228\n",
      "66     3428\n",
      "67     2312\n",
      "68      929\n",
      "69     1935\n",
      "70      907\n",
      "71     1613\n",
      "72      721\n",
      "73      126\n",
      "74     1758\n",
      "75      233\n",
      "76      997\n",
      "77      605\n",
      "78      822\n",
      "79      130\n",
      "80      365\n",
      "81      560\n",
      "82      192\n",
      "83      288\n",
      "84      353\n",
      "86      144\n",
      "87      240\n",
      "88      218\n",
      "90       42\n",
      "91      132\n",
      "92      157\n",
      "96       30\n",
      "97       41\n",
      "98       89\n",
      "100      85\n",
      "Name: PUNT_SOCIALES_CIUDADANAS, dtype: int64\n",
      "Elementos null/NaN 0\n",
      "__________________\n",
      "Elementos diferentes de null/NaN: 106539\n",
      "__________________\n",
      "(106539,)\n",
      "None\n"
     ]
    }
   ],
   "source": [
    "c = 'PUNT_SOCIALES_CIUDADANAS'\n",
    "print(data_2015[c].value_counts().sort_index().index)\n",
    "print(data_2015[c].value_counts().sort_index())\n",
    "print(missing_data(data_2015[c]))"
   ]
  },
  {
   "cell_type": "code",
   "execution_count": 210,
   "metadata": {
    "collapsed": false
   },
   "outputs": [
    {
     "name": "stdout",
     "output_type": "stream",
     "text": [
      "Index(['D01', 'D02', 'D03', 'D04', 'D05', 'D06', 'D07', 'D08', 'D09', 'D10'], dtype='object')\n",
      "D01    20563\n",
      "D02    16035\n",
      "D03     8367\n",
      "D04    20505\n",
      "D05     4838\n",
      "D06    11363\n",
      "D07    12262\n",
      "D08     6762\n",
      "D09     2993\n",
      "D10     2851\n",
      "Name: DECIL_INGLES, dtype: int64\n",
      "Elementos null/NaN 0\n",
      "__________________\n",
      "Elementos diferentes de null/NaN: 106539\n",
      "__________________\n",
      "(106539,)\n",
      "None\n"
     ]
    }
   ],
   "source": [
    "c = 'DECIL_INGLES'\n",
    "print(data_2015[c].value_counts().sort_index().index)\n",
    "print(data_2015[c].value_counts().sort_index())\n",
    "print(missing_data(data_2015[c]))"
   ]
  },
  {
   "cell_type": "code",
   "execution_count": 211,
   "metadata": {
    "collapsed": false
   },
   "outputs": [
    {
     "name": "stdout",
     "output_type": "stream",
     "text": [
      "Index(['A-', 'A1', 'A2', 'B+', 'B1'], dtype='object')\n",
      "A-    59727\n",
      "A1    25246\n",
      "A2     9856\n",
      "B+     4383\n",
      "B1     7327\n",
      "Name: DESEMP_INGLES, dtype: int64\n",
      "Elementos null/NaN 0\n",
      "__________________\n",
      "Elementos diferentes de null/NaN: 106539\n",
      "__________________\n",
      "(106539,)\n",
      "None\n"
     ]
    }
   ],
   "source": [
    "c = 'DESEMP_INGLES'\n",
    "print(data_2015[c].value_counts().sort_index().index)\n",
    "print(data_2015[c].value_counts().sort_index())\n",
    "print(missing_data(data_2015[c]))"
   ]
  },
  {
   "cell_type": "code",
   "execution_count": 212,
   "metadata": {
    "collapsed": false,
    "scrolled": true
   },
   "outputs": [
    {
     "name": "stdout",
     "output_type": "stream",
     "text": [
      "Int64Index([  0,   7,  14,  19,  21,  23,  24,  27,  28,  30,  31,  33,  34,\n",
      "             35,  36,  37,  38,  39,  40,  41,  42,  43,  44,  45,  46,  47,\n",
      "             49,  50,  51,  52,  53,  54,  55,  56,  57,  58,  59,  60,  61,\n",
      "             62,  64,  65,  66,  67,  68,  70,  71,  72,  73,  74,  75,  76,\n",
      "             78,  79,  80,  82,  85,  90,  92,  95, 100],\n",
      "           dtype='int64')\n",
      "0        184\n",
      "7         21\n",
      "14        27\n",
      "19        39\n",
      "21         1\n",
      "23        71\n",
      "24         2\n",
      "27       156\n",
      "28         9\n",
      "30       326\n",
      "31        24\n",
      "33       696\n",
      "34        35\n",
      "35      1341\n",
      "36        57\n",
      "37      2297\n",
      "38      3628\n",
      "39       137\n",
      "40      5120\n",
      "41      6392\n",
      "42      7708\n",
      "43      8327\n",
      "44         2\n",
      "45      8365\n",
      "46         9\n",
      "47      7796\n",
      "49     12700\n",
      "50      4838\n",
      "51         6\n",
      "52      3826\n",
      "       ...  \n",
      "54      2455\n",
      "55      2083\n",
      "56         4\n",
      "57      1705\n",
      "58      1593\n",
      "59      1409\n",
      "60      1274\n",
      "61      1271\n",
      "62      1113\n",
      "64      1071\n",
      "65       968\n",
      "66       945\n",
      "67       909\n",
      "68       896\n",
      "70       863\n",
      "71        38\n",
      "72       865\n",
      "73        34\n",
      "74       892\n",
      "75        44\n",
      "76       886\n",
      "78      1032\n",
      "79         1\n",
      "80      1211\n",
      "82      1461\n",
      "85      1532\n",
      "90      1447\n",
      "92         1\n",
      "95      1008\n",
      "100      395\n",
      "Name: PUNT_INGLES, dtype: int64\n",
      "Elementos null/NaN 0\n",
      "__________________\n",
      "Elementos diferentes de null/NaN: 106539\n",
      "__________________\n",
      "(106539,)\n",
      "None\n"
     ]
    }
   ],
   "source": [
    "c = 'PUNT_INGLES'\n",
    "print(data_2015[c].value_counts().sort_index().index)\n",
    "print(data_2015[c].value_counts().sort_index())\n",
    "print(missing_data(data_2015[c]))"
   ]
  },
  {
   "cell_type": "code",
   "execution_count": 213,
   "metadata": {
    "collapsed": false
   },
   "outputs": [
    {
     "name": "stdout",
     "output_type": "stream",
     "text": [
      "Index(['D01', 'D02', 'D03', 'D04', 'D05', 'D06', 'D07', 'D08', 'D09', 'D10'], dtype='object')\n",
      "D01    17079\n",
      "D02    16025\n",
      "D03     8398\n",
      "D04    13885\n",
      "D05    13910\n",
      "D06     5896\n",
      "D07    13270\n",
      "D08     4302\n",
      "D09     8198\n",
      "D10     5576\n",
      "Name: DECIL_RAZONA_CUANT, dtype: int64\n",
      "Elementos null/NaN 0\n",
      "__________________\n",
      "Elementos diferentes de null/NaN: 106539\n",
      "__________________\n",
      "(106539,)\n",
      "None\n"
     ]
    }
   ],
   "source": [
    "c = 'DECIL_RAZONA_CUANT'\n",
    "print(data_2015[c].value_counts().sort_index().index)\n",
    "print(data_2015[c].value_counts().sort_index())\n",
    "print(missing_data(data_2015[c]))"
   ]
  },
  {
   "cell_type": "code",
   "execution_count": 214,
   "metadata": {
    "collapsed": false,
    "scrolled": true
   },
   "outputs": [
    {
     "name": "stdout",
     "output_type": "stream",
     "text": [
      "Int64Index([  0,   2,   4,   9,  10,  11,  13,  14,  20,  21,  25,  26,  27,\n",
      "             28,  29,  30,  31,  32,  33,  35,  36,  37,  39,  40,  42,  43,\n",
      "             44,  45,  46,  47,  48,  49,  50,  51,  52,  54,  55,  56,  57,\n",
      "             59,  60,  61,  62,  63,  64,  67,  69,  70,  72,  73,  75,  77,\n",
      "             78,  79,  81,  82,  83,  85,  86,  87,  90,  91,  93,  96,  97,\n",
      "            100],\n",
      "           dtype='int64')\n",
      "0        60\n",
      "2        75\n",
      "4         1\n",
      "9         6\n",
      "10       11\n",
      "11       15\n",
      "13      257\n",
      "14        3\n",
      "20      728\n",
      "21       82\n",
      "25     1618\n",
      "26      179\n",
      "27        2\n",
      "28      198\n",
      "29     2669\n",
      "30       69\n",
      "31      164\n",
      "32      352\n",
      "33     4219\n",
      "35      268\n",
      "36     5797\n",
      "37      306\n",
      "39     6840\n",
      "40      824\n",
      "42     7035\n",
      "43     1326\n",
      "44     6375\n",
      "45      654\n",
      "46     1369\n",
      "47     6408\n",
      "       ... \n",
      "55      159\n",
      "56      676\n",
      "57     5061\n",
      "59     4913\n",
      "60        4\n",
      "61      487\n",
      "62     3928\n",
      "63        2\n",
      "64     3936\n",
      "67     3420\n",
      "69      882\n",
      "70     2309\n",
      "72      817\n",
      "73     1935\n",
      "75      839\n",
      "77     1653\n",
      "78      645\n",
      "79      100\n",
      "81     1382\n",
      "82      463\n",
      "83       84\n",
      "85      272\n",
      "86     1165\n",
      "87       75\n",
      "90      339\n",
      "91      101\n",
      "93      628\n",
      "96      136\n",
      "97      149\n",
      "100     682\n",
      "Name: PUNT_RAZONA_CUANT, dtype: int64\n",
      "Elementos null/NaN 0\n",
      "__________________\n",
      "Elementos diferentes de null/NaN: 106539\n",
      "__________________\n",
      "(106539,)\n",
      "None\n"
     ]
    }
   ],
   "source": [
    "c = 'PUNT_RAZONA_CUANT'\n",
    "print(data_2015[c].value_counts().sort_index().index)\n",
    "print(data_2015[c].value_counts().sort_index())\n",
    "print(missing_data(data_2015[c]))"
   ]
  },
  {
   "cell_type": "code",
   "execution_count": 215,
   "metadata": {
    "collapsed": false
   },
   "outputs": [
    {
     "name": "stdout",
     "output_type": "stream",
     "text": [
      "Index(['D01', 'D02', 'D03', 'D04', 'D05', 'D06', 'D07', 'D08', 'D09', 'D10'], dtype='object')\n",
      "D01    12228\n",
      "D02    15185\n",
      "D03    12796\n",
      "D04     8322\n",
      "D05    14310\n",
      "D06     8162\n",
      "D07    13368\n",
      "D08    11131\n",
      "D09     7175\n",
      "D10     3862\n",
      "Name: DECIL_COMP_CIUDADANA, dtype: int64\n",
      "Elementos null/NaN 0\n",
      "__________________\n",
      "Elementos diferentes de null/NaN: 106539\n",
      "__________________\n",
      "(106539,)\n",
      "None\n"
     ]
    }
   ],
   "source": [
    "c = 'DECIL_COMP_CIUDADANA'\n",
    "print(data_2015[c].value_counts().sort_index().index)\n",
    "print(data_2015[c].value_counts().sort_index())\n",
    "print(missing_data(data_2015[c]))"
   ]
  },
  {
   "cell_type": "code",
   "execution_count": 216,
   "metadata": {
    "collapsed": false,
    "scrolled": true
   },
   "outputs": [
    {
     "name": "stdout",
     "output_type": "stream",
     "text": [
      "Int64Index([  0,   9,  10,  11,  16,  17,  18,  19,  21,  22,  23,  24,  25,\n",
      "             26,  27,  28,  29,  30,  31,  32,  33,  34,  35,  36,  37,  38,\n",
      "             39,  40,  41,  42,  43,  44,  45,  46,  47,  48,  49,  50,  51,\n",
      "             52,  53,  54,  55,  56,  57,  58,  59,  60,  61,  62,  63,  64,\n",
      "             65,  66,  67,  68,  69,  70,  71,  73,  74,  75,  79,  80,  84,\n",
      "             87,  88, 100],\n",
      "           dtype='int64')\n",
      "0        49\n",
      "9        47\n",
      "10        5\n",
      "11       13\n",
      "16      129\n",
      "17       17\n",
      "18       24\n",
      "19       34\n",
      "21      297\n",
      "22       21\n",
      "23       60\n",
      "24       53\n",
      "25      649\n",
      "26      112\n",
      "27       57\n",
      "28     1184\n",
      "29       90\n",
      "30      229\n",
      "31     2050\n",
      "32      145\n",
      "33     2769\n",
      "34      303\n",
      "35      358\n",
      "36     3533\n",
      "37      351\n",
      "38     4200\n",
      "39      421\n",
      "40     4922\n",
      "41      315\n",
      "42     4976\n",
      "       ... \n",
      "51     6468\n",
      "52      694\n",
      "53     6472\n",
      "54      676\n",
      "55     6884\n",
      "56      699\n",
      "57      579\n",
      "58     5825\n",
      "59      679\n",
      "60     5791\n",
      "61      385\n",
      "62      688\n",
      "63     5482\n",
      "64      706\n",
      "65        2\n",
      "66     4265\n",
      "67      676\n",
      "68      355\n",
      "69        2\n",
      "70     3713\n",
      "71      613\n",
      "73        3\n",
      "74     2489\n",
      "75      710\n",
      "79     1534\n",
      "80      345\n",
      "84      100\n",
      "87      725\n",
      "88      159\n",
      "100     289\n",
      "Name: PUNT_COMP_CIUDADANA, dtype: int64\n",
      "Elementos null/NaN 0\n",
      "__________________\n",
      "Elementos diferentes de null/NaN: 106539\n",
      "__________________\n",
      "(106539,)\n",
      "None\n"
     ]
    }
   ],
   "source": [
    "c = 'PUNT_COMP_CIUDADANA'\n",
    "print(data_2015[c].value_counts().sort_index().index)\n",
    "print(data_2015[c].value_counts().sort_index())\n",
    "print(missing_data(data_2015[c]))"
   ]
  },
  {
   "cell_type": "code",
   "execution_count": 217,
   "metadata": {
    "collapsed": false,
    "scrolled": true
   },
   "outputs": [
    {
     "name": "stdout",
     "output_type": "stream",
     "text": [
      "Int64Index([  0,   3,   9,  13,  15,  16,  17,  18,  20,  25,\n",
      "            ...\n",
      "            466, 468, 471, 472, 473, 476, 477, 479, 483, 488],\n",
      "           dtype='int64', length=432)\n",
      "0       1\n",
      "3       1\n",
      "9       1\n",
      "13      1\n",
      "15      2\n",
      "16      1\n",
      "17      1\n",
      "18      1\n",
      "20      1\n",
      "25      1\n",
      "27      1\n",
      "28      1\n",
      "30      1\n",
      "32      1\n",
      "34      2\n",
      "38      3\n",
      "39      1\n",
      "42      1\n",
      "45      1\n",
      "47      1\n",
      "51      2\n",
      "52      1\n",
      "53      1\n",
      "54      1\n",
      "57      1\n",
      "58      2\n",
      "61      1\n",
      "62      4\n",
      "63      1\n",
      "65      3\n",
      "       ..\n",
      "446     7\n",
      "447     8\n",
      "448     7\n",
      "449    10\n",
      "450     8\n",
      "451     4\n",
      "452     4\n",
      "453     5\n",
      "454     3\n",
      "455     5\n",
      "456     6\n",
      "457     4\n",
      "458     5\n",
      "459     4\n",
      "460     2\n",
      "461     2\n",
      "462     1\n",
      "463     4\n",
      "464     2\n",
      "465     2\n",
      "466     4\n",
      "468     3\n",
      "471     2\n",
      "472     1\n",
      "473     1\n",
      "476     1\n",
      "477     1\n",
      "479     1\n",
      "483     1\n",
      "488     1\n",
      "Name: PUNT_GLOBAL, dtype: int64\n",
      "Elementos null/NaN 0\n",
      "__________________\n",
      "Elementos diferentes de null/NaN: 106539\n",
      "__________________\n",
      "(106539,)\n",
      "None\n"
     ]
    }
   ],
   "source": [
    "c = 'PUNT_GLOBAL'\n",
    "print(data_2015[c].value_counts().sort_index().index)\n",
    "print(data_2015[c].value_counts().sort_index())\n",
    "print(missing_data(data_2015[c]))"
   ]
  },
  {
   "cell_type": "code",
   "execution_count": 218,
   "metadata": {
    "collapsed": false,
    "scrolled": true
   },
   "outputs": [
    {
     "name": "stdout",
     "output_type": "stream",
     "text": [
      "Int64Index([   1,    2,    3,    4,    5,    6,    7,    8,    9,   10,\n",
      "            ...\n",
      "             991,  992,  993,  994,  995,  996,  997,  998,  999, 1000],\n",
      "           dtype='int64', length=641)\n",
      "1        29\n",
      "2        29\n",
      "3        32\n",
      "4        30\n",
      "5        38\n",
      "6        32\n",
      "7        22\n",
      "8        37\n",
      "9        40\n",
      "10       34\n",
      "11       32\n",
      "12       39\n",
      "13       21\n",
      "14       36\n",
      "15       44\n",
      "16       24\n",
      "17       33\n",
      "18       45\n",
      "19       45\n",
      "20       23\n",
      "21       50\n",
      "22       17\n",
      "23       38\n",
      "24       53\n",
      "25       38\n",
      "26       35\n",
      "27       46\n",
      "28       39\n",
      "29       39\n",
      "30       44\n",
      "       ... \n",
      "970      93\n",
      "971     187\n",
      "973     151\n",
      "974     102\n",
      "975      79\n",
      "976     121\n",
      "977      78\n",
      "978     141\n",
      "979      72\n",
      "980     134\n",
      "981     114\n",
      "982     116\n",
      "983     105\n",
      "984      82\n",
      "985     104\n",
      "986      82\n",
      "987      89\n",
      "988      85\n",
      "989      68\n",
      "990     125\n",
      "991      74\n",
      "992     107\n",
      "993     109\n",
      "994      86\n",
      "995      93\n",
      "996     106\n",
      "997      85\n",
      "998      76\n",
      "999     123\n",
      "1000    101\n",
      "Name: ESTU_PUESTO, dtype: int64\n",
      "Elementos null/NaN 0\n",
      "__________________\n",
      "Elementos diferentes de null/NaN: 106539\n",
      "__________________\n",
      "(106539,)\n",
      "None\n"
     ]
    }
   ],
   "source": [
    "c = 'ESTU_PUESTO'\n",
    "print(data_2015[c].value_counts().sort_index().index)\n",
    "print(data_2015[c].value_counts().sort_index())\n",
    "print(missing_data(data_2015[c]))"
   ]
  },
  {
   "cell_type": "markdown",
   "metadata": {},
   "source": [
    "___"
   ]
  },
  {
   "cell_type": "markdown",
   "metadata": {},
   "source": [
    "___"
   ]
  },
  {
   "cell_type": "markdown",
   "metadata": {},
   "source": [
    "___"
   ]
  },
  {
   "cell_type": "markdown",
   "metadata": {},
   "source": [
    "___"
   ]
  },
  {
   "cell_type": "markdown",
   "metadata": {},
   "source": [
    "___"
   ]
  },
  {
   "cell_type": "markdown",
   "metadata": {},
   "source": [
    "# YEAR 2015, Semester 2"
   ]
  },
  {
   "cell_type": "code",
   "execution_count": 160,
   "metadata": {
    "collapsed": false
   },
   "outputs": [
    {
     "name": "stderr",
     "output_type": "stream",
     "text": [
      "/usr/local/lib/python3.4/dist-packages/IPython/core/interactiveshell.py:2902: DtypeWarning: Columns (10,12,13,14,64) have mixed types. Specify dtype option on import or set low_memory=False.\n",
      "  interactivity=interactivity, compiler=compiler, result=result)\n"
     ]
    }
   ],
   "source": [
    "data_2015_2 = pd.read_csv('../DatosFTPICFES/SABER11/SB11-BASES_DE_DATOS/SB11-20152-RGSTRO-CLFCCN-V3-0.txt', delimiter = '|')"
   ]
  },
  {
   "cell_type": "code",
   "execution_count": 161,
   "metadata": {
    "collapsed": false
   },
   "outputs": [
    {
     "data": {
      "text/plain": [
       "(573128, 86)"
      ]
     },
     "execution_count": 161,
     "metadata": {},
     "output_type": "execute_result"
    }
   ],
   "source": [
    "data_2015_2.shape"
   ]
  },
  {
   "cell_type": "code",
   "execution_count": 162,
   "metadata": {
    "collapsed": false,
    "scrolled": true
   },
   "outputs": [
    {
     "data": {
      "text/html": [
       "<div>\n",
       "<table border=\"1\" class=\"dataframe\">\n",
       "  <thead>\n",
       "    <tr style=\"text-align: right;\">\n",
       "      <th></th>\n",
       "      <th>0</th>\n",
       "      <th>1</th>\n",
       "      <th>2</th>\n",
       "    </tr>\n",
       "  </thead>\n",
       "  <tbody>\n",
       "    <tr>\n",
       "      <th>PERIODO</th>\n",
       "      <td>20152</td>\n",
       "      <td>20152</td>\n",
       "      <td>20152</td>\n",
       "    </tr>\n",
       "    <tr>\n",
       "      <th>ESTU_CONSECUTIVO</th>\n",
       "      <td>SABER1120152000001</td>\n",
       "      <td>SABER1120152000002</td>\n",
       "      <td>SABER1120152000003</td>\n",
       "    </tr>\n",
       "    <tr>\n",
       "      <th>ESTU_ESTUDIANTE</th>\n",
       "      <td>INDIVIDUAL</td>\n",
       "      <td>INDIVIDUAL</td>\n",
       "      <td>ESTUDIANTE</td>\n",
       "    </tr>\n",
       "    <tr>\n",
       "      <th>ESTU_EDAD</th>\n",
       "      <td>18</td>\n",
       "      <td>20</td>\n",
       "      <td>16</td>\n",
       "    </tr>\n",
       "    <tr>\n",
       "      <th>ESTU_TIPO_DOCUMENTO</th>\n",
       "      <td>CC</td>\n",
       "      <td>CC</td>\n",
       "      <td>TI</td>\n",
       "    </tr>\n",
       "    <tr>\n",
       "      <th>ESTU_PAIS_RESIDE</th>\n",
       "      <td>1</td>\n",
       "      <td>1</td>\n",
       "      <td>1</td>\n",
       "    </tr>\n",
       "    <tr>\n",
       "      <th>ESTU_GENERO</th>\n",
       "      <td>M</td>\n",
       "      <td>F</td>\n",
       "      <td>M</td>\n",
       "    </tr>\n",
       "    <tr>\n",
       "      <th>ESTU_FECHA_NACIMIENTO</th>\n",
       "      <td>27/02/1997</td>\n",
       "      <td>27/10/1994</td>\n",
       "      <td>11/01/1999</td>\n",
       "    </tr>\n",
       "    <tr>\n",
       "      <th>ESTU_ETNIA</th>\n",
       "      <td>NaN</td>\n",
       "      <td>NaN</td>\n",
       "      <td>NaN</td>\n",
       "    </tr>\n",
       "    <tr>\n",
       "      <th>ESTU_LIMITA_MOTRIZ</th>\n",
       "      <td>NaN</td>\n",
       "      <td>NaN</td>\n",
       "      <td>NaN</td>\n",
       "    </tr>\n",
       "    <tr>\n",
       "      <th>ESTU_LIMITA_INVIDENTE</th>\n",
       "      <td>NaN</td>\n",
       "      <td>NaN</td>\n",
       "      <td>NaN</td>\n",
       "    </tr>\n",
       "    <tr>\n",
       "      <th>ESTU_LIMITA_CONDICIONESPECIAL</th>\n",
       "      <td>NaN</td>\n",
       "      <td>NaN</td>\n",
       "      <td>NaN</td>\n",
       "    </tr>\n",
       "    <tr>\n",
       "      <th>ESTU_LIMITA_SORDO</th>\n",
       "      <td>NaN</td>\n",
       "      <td>NaN</td>\n",
       "      <td>NaN</td>\n",
       "    </tr>\n",
       "    <tr>\n",
       "      <th>ESTU_LIMITA_SDOWN</th>\n",
       "      <td>NaN</td>\n",
       "      <td>NaN</td>\n",
       "      <td>NaN</td>\n",
       "    </tr>\n",
       "    <tr>\n",
       "      <th>ESTU_LIMITA_AUTISMO</th>\n",
       "      <td>NaN</td>\n",
       "      <td>NaN</td>\n",
       "      <td>NaN</td>\n",
       "    </tr>\n",
       "    <tr>\n",
       "      <th>COLE_COD_MCPIO_UBICACION</th>\n",
       "      <td>NaN</td>\n",
       "      <td>NaN</td>\n",
       "      <td>5120</td>\n",
       "    </tr>\n",
       "    <tr>\n",
       "      <th>ESTU_RESIDE_MCPIO</th>\n",
       "      <td>SUPIA</td>\n",
       "      <td>PEREIRA</td>\n",
       "      <td>CACERES</td>\n",
       "    </tr>\n",
       "    <tr>\n",
       "      <th>ESTU_RESIDE_DEPTO</th>\n",
       "      <td>CALDAS</td>\n",
       "      <td>RISARALDA</td>\n",
       "      <td>ANTIOQUIA</td>\n",
       "    </tr>\n",
       "    <tr>\n",
       "      <th>ESTU_COD_RESIDE_MCPIO</th>\n",
       "      <td>17777</td>\n",
       "      <td>66001</td>\n",
       "      <td>5120</td>\n",
       "    </tr>\n",
       "    <tr>\n",
       "      <th>ESTU_ZONA_RESIDE</th>\n",
       "      <td>10</td>\n",
       "      <td>10</td>\n",
       "      <td>10</td>\n",
       "    </tr>\n",
       "    <tr>\n",
       "      <th>COLE_COD_DANE_INSTITUCION</th>\n",
       "      <td>NaN</td>\n",
       "      <td>NaN</td>\n",
       "      <td>1.0512e+11</td>\n",
       "    </tr>\n",
       "    <tr>\n",
       "      <th>COLE_COD_ICFES</th>\n",
       "      <td>NaN</td>\n",
       "      <td>NaN</td>\n",
       "      <td>1487</td>\n",
       "    </tr>\n",
       "    <tr>\n",
       "      <th>COLE_NOMBRE_SEDE</th>\n",
       "      <td>NaN</td>\n",
       "      <td>NaN</td>\n",
       "      <td>LICEO CACERES</td>\n",
       "    </tr>\n",
       "    <tr>\n",
       "      <th>COLE_JORNADA</th>\n",
       "      <td>NaN</td>\n",
       "      <td>NaN</td>\n",
       "      <td>C</td>\n",
       "    </tr>\n",
       "    <tr>\n",
       "      <th>COLE_GENERO</th>\n",
       "      <td>NaN</td>\n",
       "      <td>NaN</td>\n",
       "      <td>MIXTO</td>\n",
       "    </tr>\n",
       "    <tr>\n",
       "      <th>COLE_CARACTER</th>\n",
       "      <td>NaN</td>\n",
       "      <td>NaN</td>\n",
       "      <td>ACADÉMICO</td>\n",
       "    </tr>\n",
       "    <tr>\n",
       "      <th>COLE_NATURALEZA</th>\n",
       "      <td>OTRO</td>\n",
       "      <td>OTRO</td>\n",
       "      <td>OFICIAL</td>\n",
       "    </tr>\n",
       "    <tr>\n",
       "      <th>COLE_BILINGUE</th>\n",
       "      <td>NaN</td>\n",
       "      <td>NaN</td>\n",
       "      <td>N</td>\n",
       "    </tr>\n",
       "    <tr>\n",
       "      <th>COLE_CALENDARIO</th>\n",
       "      <td>NaN</td>\n",
       "      <td>NaN</td>\n",
       "      <td>A</td>\n",
       "    </tr>\n",
       "    <tr>\n",
       "      <th>ESTU_AREA_RESIDE</th>\n",
       "      <td>U</td>\n",
       "      <td>U</td>\n",
       "      <td>U</td>\n",
       "    </tr>\n",
       "    <tr>\n",
       "      <th>...</th>\n",
       "      <td>...</td>\n",
       "      <td>...</td>\n",
       "      <td>...</td>\n",
       "    </tr>\n",
       "    <tr>\n",
       "      <th>FAMI_LAVADORA</th>\n",
       "      <td>S</td>\n",
       "      <td>S</td>\n",
       "      <td>N</td>\n",
       "    </tr>\n",
       "    <tr>\n",
       "      <th>FAMI_MICROONDAS</th>\n",
       "      <td>S</td>\n",
       "      <td>N</td>\n",
       "      <td>N</td>\n",
       "    </tr>\n",
       "    <tr>\n",
       "      <th>FAMI_AUTOMOVIL</th>\n",
       "      <td>N</td>\n",
       "      <td>S</td>\n",
       "      <td>N</td>\n",
       "    </tr>\n",
       "    <tr>\n",
       "      <th>FAMI_HORNO</th>\n",
       "      <td>S</td>\n",
       "      <td>S</td>\n",
       "      <td>N</td>\n",
       "    </tr>\n",
       "    <tr>\n",
       "      <th>FAMI_INGRESO_FMILIAR_MENSUAL</th>\n",
       "      <td>2</td>\n",
       "      <td>2</td>\n",
       "      <td>3</td>\n",
       "    </tr>\n",
       "    <tr>\n",
       "      <th>ESTU_TRABAJA</th>\n",
       "      <td>NaN</td>\n",
       "      <td>NaN</td>\n",
       "      <td>1</td>\n",
       "    </tr>\n",
       "    <tr>\n",
       "      <th>ESTU_RECIBE_SALARIO</th>\n",
       "      <td>NaN</td>\n",
       "      <td>NaN</td>\n",
       "      <td>NaN</td>\n",
       "    </tr>\n",
       "    <tr>\n",
       "      <th>ESTU_VECES_ESTADO</th>\n",
       "      <td>2</td>\n",
       "      <td>1</td>\n",
       "      <td>NaN</td>\n",
       "    </tr>\n",
       "    <tr>\n",
       "      <th>ESTU_COD_PLANTEL</th>\n",
       "      <td>NaN</td>\n",
       "      <td>NaN</td>\n",
       "      <td>NaN</td>\n",
       "    </tr>\n",
       "    <tr>\n",
       "      <th>ESTU_COD_DEPTO_PRESENTACION</th>\n",
       "      <td>66</td>\n",
       "      <td>66</td>\n",
       "      <td>5</td>\n",
       "    </tr>\n",
       "    <tr>\n",
       "      <th>ESTU_COD_MCPIO_PRESENTACION</th>\n",
       "      <td>66001</td>\n",
       "      <td>66001</td>\n",
       "      <td>5120</td>\n",
       "    </tr>\n",
       "    <tr>\n",
       "      <th>ESTU_MCPIO_PRESENTACION</th>\n",
       "      <td>PEREIRA</td>\n",
       "      <td>PEREIRA</td>\n",
       "      <td>CACERES</td>\n",
       "    </tr>\n",
       "    <tr>\n",
       "      <th>ESTU_DEPTO_PRESENTACION</th>\n",
       "      <td>RISARALDA</td>\n",
       "      <td>RISARALDA</td>\n",
       "      <td>ANTIOQUIA</td>\n",
       "    </tr>\n",
       "    <tr>\n",
       "      <th>DECIL_LECTURA_CRITICA</th>\n",
       "      <td>D09</td>\n",
       "      <td>D04</td>\n",
       "      <td>D07</td>\n",
       "    </tr>\n",
       "    <tr>\n",
       "      <th>PUNT_LECTURA_CRITICA</th>\n",
       "      <td>61</td>\n",
       "      <td>45</td>\n",
       "      <td>54</td>\n",
       "    </tr>\n",
       "    <tr>\n",
       "      <th>DECIL_MATEMATICAS</th>\n",
       "      <td>D10</td>\n",
       "      <td>D03</td>\n",
       "      <td>D08</td>\n",
       "    </tr>\n",
       "    <tr>\n",
       "      <th>PUNT_MATEMATICAS</th>\n",
       "      <td>69</td>\n",
       "      <td>43</td>\n",
       "      <td>57</td>\n",
       "    </tr>\n",
       "    <tr>\n",
       "      <th>DECIL_C_NATURALES</th>\n",
       "      <td>D09</td>\n",
       "      <td>D01</td>\n",
       "      <td>D10</td>\n",
       "    </tr>\n",
       "    <tr>\n",
       "      <th>PUNT_C_NATURALES</th>\n",
       "      <td>59</td>\n",
       "      <td>38</td>\n",
       "      <td>65</td>\n",
       "    </tr>\n",
       "    <tr>\n",
       "      <th>DECIL_SOCIALES_CIUDADANAS</th>\n",
       "      <td>D08</td>\n",
       "      <td>D02</td>\n",
       "      <td>D10</td>\n",
       "    </tr>\n",
       "    <tr>\n",
       "      <th>PUNT_SOCIALES_CIUDADANAS</th>\n",
       "      <td>58</td>\n",
       "      <td>39</td>\n",
       "      <td>74</td>\n",
       "    </tr>\n",
       "    <tr>\n",
       "      <th>DECIL_INGLES</th>\n",
       "      <td>D06</td>\n",
       "      <td>D05</td>\n",
       "      <td>D10</td>\n",
       "    </tr>\n",
       "    <tr>\n",
       "      <th>DESEMP_INGLES</th>\n",
       "      <td>A1</td>\n",
       "      <td>A1</td>\n",
       "      <td>B1</td>\n",
       "    </tr>\n",
       "    <tr>\n",
       "      <th>PUNT_INGLES</th>\n",
       "      <td>50</td>\n",
       "      <td>49</td>\n",
       "      <td>73</td>\n",
       "    </tr>\n",
       "    <tr>\n",
       "      <th>DECIL_RAZONA_CUANT</th>\n",
       "      <td>D10</td>\n",
       "      <td>D02</td>\n",
       "      <td>D08</td>\n",
       "    </tr>\n",
       "    <tr>\n",
       "      <th>PUNT_RAZONA_CUANT</th>\n",
       "      <td>73</td>\n",
       "      <td>39</td>\n",
       "      <td>61</td>\n",
       "    </tr>\n",
       "    <tr>\n",
       "      <th>DECIL_COMP_CIUDADANA</th>\n",
       "      <td>D08</td>\n",
       "      <td>D03</td>\n",
       "      <td>D10</td>\n",
       "    </tr>\n",
       "    <tr>\n",
       "      <th>PUNT_COMP_CIUDADANA</th>\n",
       "      <td>56</td>\n",
       "      <td>44</td>\n",
       "      <td>71</td>\n",
       "    </tr>\n",
       "    <tr>\n",
       "      <th>PUNT_GLOBAL</th>\n",
       "      <td>304</td>\n",
       "      <td>209</td>\n",
       "      <td>317</td>\n",
       "    </tr>\n",
       "    <tr>\n",
       "      <th>ESTU_PUESTO</th>\n",
       "      <td>124</td>\n",
       "      <td>801</td>\n",
       "      <td>87</td>\n",
       "    </tr>\n",
       "  </tbody>\n",
       "</table>\n",
       "<p>86 rows × 3 columns</p>\n",
       "</div>"
      ],
      "text/plain": [
       "                                                0                   1  \\\n",
       "PERIODO                                     20152               20152   \n",
       "ESTU_CONSECUTIVO               SABER1120152000001  SABER1120152000002   \n",
       "ESTU_ESTUDIANTE                        INDIVIDUAL          INDIVIDUAL   \n",
       "ESTU_EDAD                                      18                  20   \n",
       "ESTU_TIPO_DOCUMENTO                            CC                  CC   \n",
       "ESTU_PAIS_RESIDE                                1                   1   \n",
       "ESTU_GENERO                                     M                   F   \n",
       "ESTU_FECHA_NACIMIENTO                  27/02/1997          27/10/1994   \n",
       "ESTU_ETNIA                                    NaN                 NaN   \n",
       "ESTU_LIMITA_MOTRIZ                            NaN                 NaN   \n",
       "ESTU_LIMITA_INVIDENTE                         NaN                 NaN   \n",
       "ESTU_LIMITA_CONDICIONESPECIAL                 NaN                 NaN   \n",
       "ESTU_LIMITA_SORDO                             NaN                 NaN   \n",
       "ESTU_LIMITA_SDOWN                             NaN                 NaN   \n",
       "ESTU_LIMITA_AUTISMO                           NaN                 NaN   \n",
       "COLE_COD_MCPIO_UBICACION                      NaN                 NaN   \n",
       "ESTU_RESIDE_MCPIO                           SUPIA             PEREIRA   \n",
       "ESTU_RESIDE_DEPTO                          CALDAS           RISARALDA   \n",
       "ESTU_COD_RESIDE_MCPIO                       17777               66001   \n",
       "ESTU_ZONA_RESIDE                               10                  10   \n",
       "COLE_COD_DANE_INSTITUCION                     NaN                 NaN   \n",
       "COLE_COD_ICFES                                NaN                 NaN   \n",
       "COLE_NOMBRE_SEDE                              NaN                 NaN   \n",
       "COLE_JORNADA                                  NaN                 NaN   \n",
       "COLE_GENERO                                   NaN                 NaN   \n",
       "COLE_CARACTER                                 NaN                 NaN   \n",
       "COLE_NATURALEZA                              OTRO                OTRO   \n",
       "COLE_BILINGUE                                 NaN                 NaN   \n",
       "COLE_CALENDARIO                               NaN                 NaN   \n",
       "ESTU_AREA_RESIDE                                U                   U   \n",
       "...                                           ...                 ...   \n",
       "FAMI_LAVADORA                                   S                   S   \n",
       "FAMI_MICROONDAS                                 S                   N   \n",
       "FAMI_AUTOMOVIL                                  N                   S   \n",
       "FAMI_HORNO                                      S                   S   \n",
       "FAMI_INGRESO_FMILIAR_MENSUAL                    2                   2   \n",
       "ESTU_TRABAJA                                  NaN                 NaN   \n",
       "ESTU_RECIBE_SALARIO                           NaN                 NaN   \n",
       "ESTU_VECES_ESTADO                               2                   1   \n",
       "ESTU_COD_PLANTEL                              NaN                 NaN   \n",
       "ESTU_COD_DEPTO_PRESENTACION                    66                  66   \n",
       "ESTU_COD_MCPIO_PRESENTACION                 66001               66001   \n",
       "ESTU_MCPIO_PRESENTACION                   PEREIRA             PEREIRA   \n",
       "ESTU_DEPTO_PRESENTACION                 RISARALDA           RISARALDA   \n",
       "DECIL_LECTURA_CRITICA                         D09                 D04   \n",
       "PUNT_LECTURA_CRITICA                           61                  45   \n",
       "DECIL_MATEMATICAS                             D10                 D03   \n",
       "PUNT_MATEMATICAS                               69                  43   \n",
       "DECIL_C_NATURALES                             D09                 D01   \n",
       "PUNT_C_NATURALES                               59                  38   \n",
       "DECIL_SOCIALES_CIUDADANAS                     D08                 D02   \n",
       "PUNT_SOCIALES_CIUDADANAS                       58                  39   \n",
       "DECIL_INGLES                                  D06                 D05   \n",
       "DESEMP_INGLES                                  A1                  A1   \n",
       "PUNT_INGLES                                    50                  49   \n",
       "DECIL_RAZONA_CUANT                            D10                 D02   \n",
       "PUNT_RAZONA_CUANT                              73                  39   \n",
       "DECIL_COMP_CIUDADANA                          D08                 D03   \n",
       "PUNT_COMP_CIUDADANA                            56                  44   \n",
       "PUNT_GLOBAL                                   304                 209   \n",
       "ESTU_PUESTO                                   124                 801   \n",
       "\n",
       "                                                2  \n",
       "PERIODO                                     20152  \n",
       "ESTU_CONSECUTIVO               SABER1120152000003  \n",
       "ESTU_ESTUDIANTE                        ESTUDIANTE  \n",
       "ESTU_EDAD                                      16  \n",
       "ESTU_TIPO_DOCUMENTO                            TI  \n",
       "ESTU_PAIS_RESIDE                                1  \n",
       "ESTU_GENERO                                     M  \n",
       "ESTU_FECHA_NACIMIENTO                  11/01/1999  \n",
       "ESTU_ETNIA                                    NaN  \n",
       "ESTU_LIMITA_MOTRIZ                            NaN  \n",
       "ESTU_LIMITA_INVIDENTE                         NaN  \n",
       "ESTU_LIMITA_CONDICIONESPECIAL                 NaN  \n",
       "ESTU_LIMITA_SORDO                             NaN  \n",
       "ESTU_LIMITA_SDOWN                             NaN  \n",
       "ESTU_LIMITA_AUTISMO                           NaN  \n",
       "COLE_COD_MCPIO_UBICACION                     5120  \n",
       "ESTU_RESIDE_MCPIO                         CACERES  \n",
       "ESTU_RESIDE_DEPTO                       ANTIOQUIA  \n",
       "ESTU_COD_RESIDE_MCPIO                        5120  \n",
       "ESTU_ZONA_RESIDE                               10  \n",
       "COLE_COD_DANE_INSTITUCION              1.0512e+11  \n",
       "COLE_COD_ICFES                               1487  \n",
       "COLE_NOMBRE_SEDE                    LICEO CACERES  \n",
       "COLE_JORNADA                                    C  \n",
       "COLE_GENERO                                 MIXTO  \n",
       "COLE_CARACTER                           ACADÉMICO  \n",
       "COLE_NATURALEZA                           OFICIAL  \n",
       "COLE_BILINGUE                                   N  \n",
       "COLE_CALENDARIO                                 A  \n",
       "ESTU_AREA_RESIDE                                U  \n",
       "...                                           ...  \n",
       "FAMI_LAVADORA                                   N  \n",
       "FAMI_MICROONDAS                                 N  \n",
       "FAMI_AUTOMOVIL                                  N  \n",
       "FAMI_HORNO                                      N  \n",
       "FAMI_INGRESO_FMILIAR_MENSUAL                    3  \n",
       "ESTU_TRABAJA                                    1  \n",
       "ESTU_RECIBE_SALARIO                           NaN  \n",
       "ESTU_VECES_ESTADO                             NaN  \n",
       "ESTU_COD_PLANTEL                              NaN  \n",
       "ESTU_COD_DEPTO_PRESENTACION                     5  \n",
       "ESTU_COD_MCPIO_PRESENTACION                  5120  \n",
       "ESTU_MCPIO_PRESENTACION                   CACERES  \n",
       "ESTU_DEPTO_PRESENTACION                 ANTIOQUIA  \n",
       "DECIL_LECTURA_CRITICA                         D07  \n",
       "PUNT_LECTURA_CRITICA                           54  \n",
       "DECIL_MATEMATICAS                             D08  \n",
       "PUNT_MATEMATICAS                               57  \n",
       "DECIL_C_NATURALES                             D10  \n",
       "PUNT_C_NATURALES                               65  \n",
       "DECIL_SOCIALES_CIUDADANAS                     D10  \n",
       "PUNT_SOCIALES_CIUDADANAS                       74  \n",
       "DECIL_INGLES                                  D10  \n",
       "DESEMP_INGLES                                  B1  \n",
       "PUNT_INGLES                                    73  \n",
       "DECIL_RAZONA_CUANT                            D08  \n",
       "PUNT_RAZONA_CUANT                              61  \n",
       "DECIL_COMP_CIUDADANA                          D10  \n",
       "PUNT_COMP_CIUDADANA                            71  \n",
       "PUNT_GLOBAL                                   317  \n",
       "ESTU_PUESTO                                    87  \n",
       "\n",
       "[86 rows x 3 columns]"
      ]
     },
     "execution_count": 162,
     "metadata": {},
     "output_type": "execute_result"
    }
   ],
   "source": [
    "data_2015_2.head(3).T"
   ]
  },
  {
   "cell_type": "code",
   "execution_count": 163,
   "metadata": {
    "collapsed": false
   },
   "outputs": [
    {
     "name": "stdout",
     "output_type": "stream",
     "text": [
      "Int64Index([20152], dtype='int64')\n",
      "20152    573128\n",
      "Name: PERIODO, dtype: int64\n",
      "Elementos null/NaN 0\n",
      "__________________\n",
      "Elementos diferentes de null/NaN: 573128\n",
      "__________________\n",
      "(573128,)\n",
      "None\n"
     ]
    }
   ],
   "source": [
    "c = 'PERIODO'\n",
    "print(data_2015_2[c].value_counts().sort_index().index)\n",
    "print(data_2015_2[c].value_counts().sort_index())\n",
    "print(missing_data(data_2015_2[c]))"
   ]
  },
  {
   "cell_type": "code",
   "execution_count": 164,
   "metadata": {
    "collapsed": true
   },
   "outputs": [],
   "source": [
    "data_2015_2 = data_2015_2.drop(c, axis=1)"
   ]
  },
  {
   "cell_type": "code",
   "execution_count": 165,
   "metadata": {
    "collapsed": false,
    "scrolled": true
   },
   "outputs": [
    {
     "name": "stdout",
     "output_type": "stream",
     "text": [
      "Index(['SABER1120152000001', 'SABER1120152000002', 'SABER1120152000003',\n",
      "       'SABER1120152000004', 'SABER1120152000005', 'SABER1120152000006',\n",
      "       'SABER1120152000007', 'SABER1120152000008', 'SABER1120152000009',\n",
      "       'SABER1120152000010',\n",
      "       ...\n",
      "       'SABER1120152573119', 'SABER1120152573120', 'SABER1120152573121',\n",
      "       'SABER1120152573122', 'SABER1120152573123', 'SABER1120152573124',\n",
      "       'SABER1120152573125', 'SABER1120152573126', 'SABER1120152573127',\n",
      "       'SABER1120152573128'],\n",
      "      dtype='object', length=573128)\n",
      "SABER1120152000001    1\n",
      "SABER1120152000002    1\n",
      "SABER1120152000003    1\n",
      "SABER1120152000004    1\n",
      "SABER1120152000005    1\n",
      "SABER1120152000006    1\n",
      "SABER1120152000007    1\n",
      "SABER1120152000008    1\n",
      "SABER1120152000009    1\n",
      "SABER1120152000010    1\n",
      "SABER1120152000011    1\n",
      "SABER1120152000012    1\n",
      "SABER1120152000013    1\n",
      "SABER1120152000014    1\n",
      "SABER1120152000015    1\n",
      "SABER1120152000016    1\n",
      "SABER1120152000017    1\n",
      "SABER1120152000018    1\n",
      "SABER1120152000019    1\n",
      "SABER1120152000020    1\n",
      "SABER1120152000021    1\n",
      "SABER1120152000022    1\n",
      "SABER1120152000023    1\n",
      "SABER1120152000024    1\n",
      "SABER1120152000025    1\n",
      "SABER1120152000026    1\n",
      "SABER1120152000027    1\n",
      "SABER1120152000028    1\n",
      "SABER1120152000029    1\n",
      "SABER1120152000030    1\n",
      "                     ..\n",
      "SABER1120152573099    1\n",
      "SABER1120152573100    1\n",
      "SABER1120152573101    1\n",
      "SABER1120152573102    1\n",
      "SABER1120152573103    1\n",
      "SABER1120152573104    1\n",
      "SABER1120152573105    1\n",
      "SABER1120152573106    1\n",
      "SABER1120152573107    1\n",
      "SABER1120152573108    1\n",
      "SABER1120152573109    1\n",
      "SABER1120152573110    1\n",
      "SABER1120152573111    1\n",
      "SABER1120152573112    1\n",
      "SABER1120152573113    1\n",
      "SABER1120152573114    1\n",
      "SABER1120152573115    1\n",
      "SABER1120152573116    1\n",
      "SABER1120152573117    1\n",
      "SABER1120152573118    1\n",
      "SABER1120152573119    1\n",
      "SABER1120152573120    1\n",
      "SABER1120152573121    1\n",
      "SABER1120152573122    1\n",
      "SABER1120152573123    1\n",
      "SABER1120152573124    1\n",
      "SABER1120152573125    1\n",
      "SABER1120152573126    1\n",
      "SABER1120152573127    1\n",
      "SABER1120152573128    1\n",
      "Name: ESTU_CONSECUTIVO, dtype: int64\n",
      "Elementos null/NaN 0\n",
      "__________________\n",
      "Elementos diferentes de null/NaN: 573128\n",
      "__________________\n",
      "(573128,)\n",
      "None\n"
     ]
    }
   ],
   "source": [
    "c = 'ESTU_CONSECUTIVO'\n",
    "print(data_2015_2[c].value_counts().sort_index().index)\n",
    "print(data_2015_2[c].value_counts().sort_index())\n",
    "print(missing_data(data_2015_2[c]))"
   ]
  },
  {
   "cell_type": "code",
   "execution_count": 166,
   "metadata": {
    "collapsed": true
   },
   "outputs": [],
   "source": [
    "data_2015_2 = data_2015_2.drop(c, axis=1)"
   ]
  },
  {
   "cell_type": "code",
   "execution_count": 167,
   "metadata": {
    "collapsed": false
   },
   "outputs": [
    {
     "name": "stdout",
     "output_type": "stream",
     "text": [
      "Index(['ESTUDIANTE', 'INDIVIDUAL'], dtype='object')\n",
      "ESTUDIANTE    545730\n",
      "INDIVIDUAL     27398\n",
      "Name: ESTU_ESTUDIANTE, dtype: int64\n",
      "Elementos null/NaN 0\n",
      "__________________\n",
      "Elementos diferentes de null/NaN: 573128\n",
      "__________________\n",
      "(573128,)\n",
      "None\n"
     ]
    }
   ],
   "source": [
    "c = 'ESTU_ESTUDIANTE'\n",
    "print(data_2015_2[c].value_counts().sort_index().index)\n",
    "print(data_2015_2[c].value_counts().sort_index())\n",
    "print(missing_data(data_2015_2[c]))"
   ]
  },
  {
   "cell_type": "code",
   "execution_count": 168,
   "metadata": {
    "collapsed": false
   },
   "outputs": [
    {
     "name": "stdout",
     "output_type": "stream",
     "text": [
      "cant null antes: 0\n",
      "cant null despues: 0\n"
     ]
    }
   ],
   "source": [
    "Do_resamples(data_2015_2,c,str)"
   ]
  },
  {
   "cell_type": "code",
   "execution_count": 169,
   "metadata": {
    "collapsed": false,
    "scrolled": true
   },
   "outputs": [
    {
     "name": "stdout",
     "output_type": "stream",
     "text": [
      "Float64Index([  0.0,   1.0,   2.0,   3.0,   4.0,   5.0,   6.0,   7.0,   8.0,\n",
      "                9.0,  10.0,  11.0,  12.0,  13.0,  14.0,  15.0,  16.0,  17.0,\n",
      "               18.0,  19.0,  20.0,  21.0,  22.0,  23.0,  24.0,  25.0,  26.0,\n",
      "               27.0,  28.0,  29.0,  30.0,  31.0,  32.0,  33.0,  34.0,  35.0,\n",
      "               36.0,  37.0,  38.0,  39.0,  40.0,  41.0,  42.0,  43.0,  44.0,\n",
      "               45.0,  46.0,  47.0,  48.0,  49.0,  50.0,  51.0,  52.0,  53.0,\n",
      "               54.0,  55.0,  56.0,  57.0,  58.0,  59.0,  60.0,  61.0,  62.0,\n",
      "               63.0,  64.0,  65.0,  66.0,  67.0,  68.0,  69.0,  70.0,  71.0,\n",
      "               72.0,  73.0,  74.0,  75.0,  76.0,  78.0,  79.0,  80.0,  85.0,\n",
      "               99.0, 100.0],\n",
      "             dtype='float64')\n",
      "0         344\n",
      "1          22\n",
      "2           9\n",
      "3           4\n",
      "4           2\n",
      "5           5\n",
      "6           8\n",
      "7          10\n",
      "8          18\n",
      "9           8\n",
      "10          5\n",
      "11          1\n",
      "12         21\n",
      "13         69\n",
      "14        928\n",
      "15      28161\n",
      "16     199934\n",
      "17     162436\n",
      "18      84818\n",
      "19      35768\n",
      "20      14706\n",
      "21       7732\n",
      "22       4917\n",
      "23       3610\n",
      "24       2863\n",
      "25       2465\n",
      "26       2137\n",
      "27       1900\n",
      "28       1750\n",
      "29       1527\n",
      "        ...  \n",
      "53        184\n",
      "54        164\n",
      "55        135\n",
      "56        112\n",
      "57        103\n",
      "58         84\n",
      "59         66\n",
      "60         55\n",
      "61         59\n",
      "62         30\n",
      "63         38\n",
      "64         21\n",
      "65         22\n",
      "66         21\n",
      "67         15\n",
      "68         13\n",
      "69          7\n",
      "70          8\n",
      "71          3\n",
      "72          1\n",
      "73          3\n",
      "74          2\n",
      "75          2\n",
      "76          1\n",
      "78          1\n",
      "79          3\n",
      "80          1\n",
      "85          1\n",
      "99          1\n",
      "100         1\n",
      "Name: ESTU_EDAD, dtype: int64\n",
      "Elementos null/NaN 28\n",
      "__________________\n",
      "Elementos diferentes de null/NaN: 573100\n",
      "__________________\n",
      "(573100,)\n",
      "None\n"
     ]
    }
   ],
   "source": [
    "c = 'ESTU_EDAD'\n",
    "print(data_2015_2[c].value_counts().sort_index().index)\n",
    "print(data_2015_2[c].value_counts().sort_index())\n",
    "print(missing_data(data_2015_2[c]))"
   ]
  },
  {
   "cell_type": "code",
   "execution_count": 170,
   "metadata": {
    "collapsed": false
   },
   "outputs": [
    {
     "name": "stdout",
     "output_type": "stream",
     "text": [
      "cant null antes: 453\n",
      "cant null despues: 0\n"
     ]
    }
   ],
   "source": [
    "for i in data_2015_2[c].value_counts().sort_index().index:\n",
    "    if i < 9:\n",
    "        data_2015_2[c] = data_2015_2[c].replace(i, np.nan)\n",
    "    if i > 80:\n",
    "        data_2015_2[c] = data_2015_2[c].replace(i, np.nan)\n",
    "        \n",
    "Do_resamples(data_2015_2, c, float)"
   ]
  },
  {
   "cell_type": "code",
   "execution_count": 171,
   "metadata": {
    "collapsed": false
   },
   "outputs": [
    {
     "name": "stdout",
     "output_type": "stream",
     "text": [
      "Index(['CC', 'CE', 'CR', 'NIP', 'NUI', 'PC', 'PE', 'PV', 'RC', 'TI'], dtype='object')\n",
      "CC     119959\n",
      "CE        414\n",
      "CR      12037\n",
      "NIP         3\n",
      "NUI         2\n",
      "PC         34\n",
      "PE         99\n",
      "PV          1\n",
      "RC          2\n",
      "TI     440577\n",
      "Name: ESTU_TIPO_DOCUMENTO, dtype: int64\n",
      "Elementos null/NaN 0\n",
      "__________________\n",
      "Elementos diferentes de null/NaN: 573128\n",
      "__________________\n",
      "(573128,)\n",
      "None\n"
     ]
    }
   ],
   "source": [
    "c = 'ESTU_TIPO_DOCUMENTO'\n",
    "print(data_2015_2[c].value_counts().sort_index().index)\n",
    "print(data_2015_2[c].value_counts().sort_index())\n",
    "print(missing_data(data_2015_2[c]))"
   ]
  },
  {
   "cell_type": "code",
   "execution_count": 172,
   "metadata": {
    "collapsed": false,
    "scrolled": true
   },
   "outputs": [
    {
     "name": "stdout",
     "output_type": "stream",
     "text": [
      "Int64Index([  1,   5,   7,  10,  12,  13,  14,  24,  28,  33,  36,  38,  40,\n",
      "             41,  42,  45,  46,  47,  50,  54,  57,  64,  65,  67,  71,  76,\n",
      "             83,  99, 110, 111, 112, 118, 119, 122, 144, 154, 157, 160, 167,\n",
      "            171, 173, 174, 175, 195, 204, 206, 209, 216, 218, 233, 234, 235,\n",
      "            236, 238, 241],\n",
      "           dtype='int64')\n",
      "1      572692\n",
      "5           1\n",
      "7           1\n",
      "10          1\n",
      "12         15\n",
      "13          1\n",
      "14          1\n",
      "24          1\n",
      "28          9\n",
      "33         13\n",
      "36          1\n",
      "38          1\n",
      "40          1\n",
      "41          1\n",
      "42         10\n",
      "45          2\n",
      "46         11\n",
      "47          2\n",
      "50         13\n",
      "54          3\n",
      "57          6\n",
      "64          2\n",
      "65         37\n",
      "67          1\n",
      "71          1\n",
      "76          1\n",
      "83          4\n",
      "99          1\n",
      "110         5\n",
      "111         1\n",
      "112         3\n",
      "118         8\n",
      "119         9\n",
      "122         1\n",
      "144        13\n",
      "154         1\n",
      "157         2\n",
      "160         3\n",
      "167        11\n",
      "171        12\n",
      "173         1\n",
      "174        19\n",
      "175         1\n",
      "195         1\n",
      "204         1\n",
      "206         1\n",
      "209        12\n",
      "216         1\n",
      "218         1\n",
      "233         1\n",
      "234         1\n",
      "235         3\n",
      "236        47\n",
      "238         3\n",
      "241       133\n",
      "Name: ESTU_PAIS_RESIDE, dtype: int64\n",
      "Elementos null/NaN 0\n",
      "__________________\n",
      "Elementos diferentes de null/NaN: 573128\n",
      "__________________\n",
      "(573128,)\n",
      "None\n"
     ]
    }
   ],
   "source": [
    "c = 'ESTU_PAIS_RESIDE'\n",
    "print(data_2015_2[c].value_counts().sort_index().index)\n",
    "print(data_2015_2[c].value_counts().sort_index())\n",
    "print(missing_data(data_2015_2[c]))"
   ]
  },
  {
   "cell_type": "code",
   "execution_count": 173,
   "metadata": {
    "collapsed": false
   },
   "outputs": [
    {
     "name": "stdout",
     "output_type": "stream",
     "text": [
      "Index(['F', 'M'], dtype='object')\n",
      "F    311363\n",
      "M    258895\n",
      "Name: ESTU_GENERO, dtype: int64\n",
      "Elementos null/NaN 2870\n",
      "__________________\n",
      "Elementos diferentes de null/NaN: 570258\n",
      "__________________\n",
      "(570258,)\n",
      "None\n"
     ]
    }
   ],
   "source": [
    "c = 'ESTU_GENERO'\n",
    "print(data_2015_2[c].value_counts().sort_index().index)\n",
    "print(data_2015_2[c].value_counts().sort_index())\n",
    "print(missing_data(data_2015_2[c]))"
   ]
  },
  {
   "cell_type": "code",
   "execution_count": 174,
   "metadata": {
    "collapsed": false
   },
   "outputs": [
    {
     "name": "stdout",
     "output_type": "stream",
     "text": [
      "cant null antes: 2870\n",
      "cant null despues: 0\n"
     ]
    }
   ],
   "source": [
    "Do_resamples(data_2015_2, c, str)"
   ]
  },
  {
   "cell_type": "code",
   "execution_count": 175,
   "metadata": {
    "collapsed": false,
    "scrolled": true
   },
   "outputs": [
    {
     "name": "stdout",
     "output_type": "stream",
     "text": [
      "Index(['00/00/0000', '01/01/1942', '01/01/1955', '01/01/1959', '01/01/1962',\n",
      "       '01/01/1964', '01/01/1966', '01/01/1968', '01/01/1969', '01/01/1970',\n",
      "       ...\n",
      "       '31/12/1992', '31/12/1993', '31/12/1994', '31/12/1995', '31/12/1996',\n",
      "       '31/12/1997', '31/12/1998', '31/12/1999', '31/12/2000', '31/12/2001'],\n",
      "      dtype='object', length=13472)\n",
      "00/00/0000      2\n",
      "01/01/1942      1\n",
      "01/01/1955      1\n",
      "01/01/1959      1\n",
      "01/01/1962      1\n",
      "01/01/1964      4\n",
      "01/01/1966      3\n",
      "01/01/1968      1\n",
      "01/01/1969      2\n",
      "01/01/1970      1\n",
      "01/01/1971      1\n",
      "01/01/1972      1\n",
      "01/01/1973      2\n",
      "01/01/1974      2\n",
      "01/01/1975      3\n",
      "01/01/1976      2\n",
      "01/01/1977      1\n",
      "01/01/1978      5\n",
      "01/01/1979      4\n",
      "01/01/1980      3\n",
      "01/01/1981      4\n",
      "01/01/1982      8\n",
      "01/01/1983      8\n",
      "01/01/1984      4\n",
      "01/01/1985      7\n",
      "01/01/1986      9\n",
      "01/01/1987      5\n",
      "01/01/1988      4\n",
      "01/01/1989      6\n",
      "01/01/1990     12\n",
      "             ... \n",
      "31/12/1971      1\n",
      "31/12/1972      1\n",
      "31/12/1973      2\n",
      "31/12/1974      3\n",
      "31/12/1975      1\n",
      "31/12/1976      3\n",
      "31/12/1978      2\n",
      "31/12/1979      5\n",
      "31/12/1980      2\n",
      "31/12/1981      2\n",
      "31/12/1982      3\n",
      "31/12/1983      2\n",
      "31/12/1984      3\n",
      "31/12/1985      3\n",
      "31/12/1986      2\n",
      "31/12/1987      3\n",
      "31/12/1988      9\n",
      "31/12/1989      4\n",
      "31/12/1990      5\n",
      "31/12/1991      8\n",
      "31/12/1992     14\n",
      "31/12/1993     16\n",
      "31/12/1994     39\n",
      "31/12/1995     70\n",
      "31/12/1996    190\n",
      "31/12/1997    372\n",
      "31/12/1998    659\n",
      "31/12/1999     88\n",
      "31/12/2000      4\n",
      "31/12/2001      2\n",
      "Name: ESTU_FECHA_NACIMIENTO, dtype: int64\n",
      "Elementos null/NaN 0\n",
      "__________________\n",
      "Elementos diferentes de null/NaN: 573128\n",
      "__________________\n",
      "(573128,)\n",
      "None\n"
     ]
    }
   ],
   "source": [
    "c = 'ESTU_FECHA_NACIMIENTO'\n",
    "print(data_2015_2[c].value_counts().sort_index().index)\n",
    "print(data_2015_2[c].value_counts().sort_index())\n",
    "print(missing_data(data_2015_2[c]))"
   ]
  },
  {
   "cell_type": "code",
   "execution_count": 176,
   "metadata": {
    "collapsed": true
   },
   "outputs": [],
   "source": [
    "data_2015_2[c] = data_2015_2[c].replace('00/00/0000', np.nan)\n",
    "idx = data_2015_2[data_2015_2[c].isnull()].index\n",
    "data_2015_2 = data_2015_2.drop(idx)"
   ]
  },
  {
   "cell_type": "code",
   "execution_count": 177,
   "metadata": {
    "collapsed": false
   },
   "outputs": [],
   "source": [
    "Sep_Col = pd.DataFrame(data_2015_2.ESTU_FECHA_NACIMIENTO.str.split('/').tolist(), columns=['ESTU_NACIMIENTO_DIA', \n",
    "                                                                                         'ESTU_NACIMIENTO_MES',\n",
    "                                                                                         'ESTU_NACIMIENTO_ANNO'])\n",
    "data_2015_2 = pd.concat([data_2015_2, Sep_Col], axis=1)"
   ]
  },
  {
   "cell_type": "code",
   "execution_count": 178,
   "metadata": {
    "collapsed": true
   },
   "outputs": [],
   "source": [
    "data_2015_2 = data_2015_2.drop('ESTU_FECHA_NACIMIENTO', axis=1)"
   ]
  },
  {
   "cell_type": "code",
   "execution_count": 179,
   "metadata": {
    "collapsed": false,
    "scrolled": true
   },
   "outputs": [
    {
     "name": "stdout",
     "output_type": "stream",
     "text": [
      "Float64Index([  1.0,   2.0,   3.0,   4.0,   5.0,   6.0,   7.0,   8.0,   9.0,\n",
      "               10.0,  11.0,  12.0,  13.0,  14.0,  15.0,  16.0,  17.0,  18.0,\n",
      "               19.0, 100.0],\n",
      "             dtype='float64')\n",
      "1      20125\n",
      "2        490\n",
      "3         53\n",
      "4       1948\n",
      "5        178\n",
      "6       1030\n",
      "7        613\n",
      "8       1686\n",
      "9       1390\n",
      "10       242\n",
      "11       256\n",
      "12        60\n",
      "13        91\n",
      "14       110\n",
      "15        94\n",
      "16       113\n",
      "17       331\n",
      "18      3599\n",
      "19      3762\n",
      "100     1305\n",
      "Name: ESTU_ETNIA, dtype: int64\n",
      "Elementos null/NaN 535652\n",
      "__________________\n",
      "Elementos diferentes de null/NaN: 37476\n",
      "__________________\n",
      "(37476,)\n",
      "None\n"
     ]
    }
   ],
   "source": [
    "c = 'ESTU_ETNIA'\n",
    "print(data_2015_2[c].value_counts().sort_index().index)\n",
    "print(data_2015_2[c].value_counts().sort_index())\n",
    "print(missing_data(data_2015_2[c]))"
   ]
  },
  {
   "cell_type": "code",
   "execution_count": 180,
   "metadata": {
    "collapsed": true
   },
   "outputs": [],
   "source": [
    "data_2015_2[c].fillna(100, inplace=True)"
   ]
  },
  {
   "cell_type": "code",
   "execution_count": 181,
   "metadata": {
    "collapsed": false
   },
   "outputs": [
    {
     "name": "stdout",
     "output_type": "stream",
     "text": [
      "Index(['MOT'], dtype='object')\n",
      "MOT    677\n",
      "Name: ESTU_LIMITA_MOTRIZ, dtype: int64\n",
      "Elementos null/NaN 572451\n",
      "__________________\n",
      "Elementos diferentes de null/NaN: 677\n",
      "__________________\n",
      "(677,)\n",
      "None\n"
     ]
    }
   ],
   "source": [
    "c = 'ESTU_LIMITA_MOTRIZ'\n",
    "print(data_2015_2[c].value_counts().sort_index().index)\n",
    "print(data_2015_2[c].value_counts().sort_index())\n",
    "print(missing_data(data_2015_2[c]))"
   ]
  },
  {
   "cell_type": "code",
   "execution_count": 182,
   "metadata": {
    "collapsed": true
   },
   "outputs": [],
   "source": [
    "data_2015_2 = data_2015_2.drop(c, axis=1)"
   ]
  },
  {
   "cell_type": "code",
   "execution_count": 183,
   "metadata": {
    "collapsed": false
   },
   "outputs": [
    {
     "name": "stdout",
     "output_type": "stream",
     "text": [
      "Index(['VIS'], dtype='object')\n",
      "VIS    171\n",
      "Name: ESTU_LIMITA_INVIDENTE, dtype: int64\n",
      "Elementos null/NaN 572957\n",
      "__________________\n",
      "Elementos diferentes de null/NaN: 171\n",
      "__________________\n",
      "(171,)\n",
      "None\n"
     ]
    }
   ],
   "source": [
    "c = 'ESTU_LIMITA_INVIDENTE'\n",
    "print(data_2015_2[c].value_counts().sort_index().index)\n",
    "print(data_2015_2[c].value_counts().sort_index())\n",
    "print(missing_data(data_2015_2[c]))"
   ]
  },
  {
   "cell_type": "code",
   "execution_count": 184,
   "metadata": {
    "collapsed": true
   },
   "outputs": [],
   "source": [
    "data_2015_2 = data_2015_2.drop(c, axis=1)"
   ]
  },
  {
   "cell_type": "code",
   "execution_count": 185,
   "metadata": {
    "collapsed": false
   },
   "outputs": [
    {
     "name": "stdout",
     "output_type": "stream",
     "text": [
      "Index(['CE'], dtype='object')\n",
      "CE    308\n",
      "Name: ESTU_LIMITA_CONDICIONESPECIAL, dtype: int64\n",
      "Elementos null/NaN 572820\n",
      "__________________\n",
      "Elementos diferentes de null/NaN: 308\n",
      "__________________\n",
      "(308,)\n",
      "None\n"
     ]
    }
   ],
   "source": [
    "c = 'ESTU_LIMITA_CONDICIONESPECIAL'\n",
    "print(data_2015_2[c].value_counts().sort_index().index)\n",
    "print(data_2015_2[c].value_counts().sort_index())\n",
    "print(missing_data(data_2015_2[c]))"
   ]
  },
  {
   "cell_type": "code",
   "execution_count": 186,
   "metadata": {
    "collapsed": true
   },
   "outputs": [],
   "source": [
    "data_2015_2 = data_2015_2.drop(c, axis=1)"
   ]
  },
  {
   "cell_type": "code",
   "execution_count": 187,
   "metadata": {
    "collapsed": false
   },
   "outputs": [
    {
     "name": "stdout",
     "output_type": "stream",
     "text": [
      "Index(['AUD'], dtype='object')\n",
      "AUD    115\n",
      "Name: ESTU_LIMITA_SORDO, dtype: int64\n",
      "Elementos null/NaN 573013\n",
      "__________________\n",
      "Elementos diferentes de null/NaN: 115\n",
      "__________________\n",
      "(115,)\n",
      "None\n"
     ]
    }
   ],
   "source": [
    "c = 'ESTU_LIMITA_SORDO'\n",
    "print(data_2015_2[c].value_counts().sort_index().index)\n",
    "print(data_2015_2[c].value_counts().sort_index())\n",
    "print(missing_data(data_2015_2[c]))"
   ]
  },
  {
   "cell_type": "code",
   "execution_count": 188,
   "metadata": {
    "collapsed": true
   },
   "outputs": [],
   "source": [
    "data_2015_2 = data_2015_2.drop(c, axis=1)"
   ]
  },
  {
   "cell_type": "code",
   "execution_count": 189,
   "metadata": {
    "collapsed": false
   },
   "outputs": [
    {
     "name": "stdout",
     "output_type": "stream",
     "text": [
      "Index(['SD'], dtype='object')\n",
      "SD    125\n",
      "Name: ESTU_LIMITA_SDOWN, dtype: int64\n",
      "Elementos null/NaN 573003\n",
      "__________________\n",
      "Elementos diferentes de null/NaN: 125\n",
      "__________________\n",
      "(125,)\n",
      "None\n"
     ]
    }
   ],
   "source": [
    "c = 'ESTU_LIMITA_SDOWN'\n",
    "print(data_2015_2[c].value_counts().sort_index().index)\n",
    "print(data_2015_2[c].value_counts().sort_index())\n",
    "print(missing_data(data_2015_2[c]))"
   ]
  },
  {
   "cell_type": "code",
   "execution_count": 190,
   "metadata": {
    "collapsed": true
   },
   "outputs": [],
   "source": [
    "data_2015_2 = data_2015_2.drop(c, axis=1)"
   ]
  },
  {
   "cell_type": "code",
   "execution_count": 191,
   "metadata": {
    "collapsed": false
   },
   "outputs": [
    {
     "name": "stdout",
     "output_type": "stream",
     "text": [
      "Index(['AA'], dtype='object')\n",
      "AA    271\n",
      "Name: ESTU_LIMITA_AUTISMO, dtype: int64\n",
      "Elementos null/NaN 572857\n",
      "__________________\n",
      "Elementos diferentes de null/NaN: 271\n",
      "__________________\n",
      "(271,)\n",
      "None\n"
     ]
    }
   ],
   "source": [
    "c = 'ESTU_LIMITA_AUTISMO'\n",
    "print(data_2015_2[c].value_counts().sort_index().index)\n",
    "print(data_2015_2[c].value_counts().sort_index())\n",
    "print(missing_data(data_2015_2[c]))"
   ]
  },
  {
   "cell_type": "code",
   "execution_count": 192,
   "metadata": {
    "collapsed": true
   },
   "outputs": [],
   "source": [
    "data_2015_2 = data_2015_2.drop(c, axis=1)"
   ]
  },
  {
   "cell_type": "code",
   "execution_count": 193,
   "metadata": {
    "collapsed": false,
    "scrolled": true
   },
   "outputs": [
    {
     "name": "stdout",
     "output_type": "stream",
     "text": [
      "Float64Index([ 5001.0,  5002.0,  5004.0,  5021.0,  5030.0,  5031.0,  5034.0,\n",
      "               5036.0,  5038.0,  5040.0,\n",
      "              ...\n",
      "              95001.0, 95015.0, 95025.0, 95200.0, 97001.0, 97889.0, 99001.0,\n",
      "              99524.0, 99624.0, 99773.0],\n",
      "             dtype='float64', length=1109)\n",
      "5001     30223\n",
      "5002       169\n",
      "5004        29\n",
      "5021        43\n",
      "5030       307\n",
      "5031       301\n",
      "5034       440\n",
      "5036        49\n",
      "5038       103\n",
      "5040       157\n",
      "5042       320\n",
      "5044        71\n",
      "5045      1338\n",
      "5051       322\n",
      "5055       104\n",
      "5059        46\n",
      "5079       561\n",
      "5086        78\n",
      "5088      5557\n",
      "5091        63\n",
      "5093       153\n",
      "5101       300\n",
      "5107        37\n",
      "5113       112\n",
      "5120       183\n",
      "5125        82\n",
      "5129       837\n",
      "5134        32\n",
      "5138       323\n",
      "5142        79\n",
      "         ...  \n",
      "86573      186\n",
      "86749      332\n",
      "86755       85\n",
      "86757      217\n",
      "86760       83\n",
      "86865      465\n",
      "86885      323\n",
      "88001      655\n",
      "88564       46\n",
      "91001      650\n",
      "91263       21\n",
      "91405       38\n",
      "91407       31\n",
      "91540       68\n",
      "91669        6\n",
      "91798       28\n",
      "94001      139\n",
      "94343       31\n",
      "94663       13\n",
      "94883       17\n",
      "95001      721\n",
      "95015       55\n",
      "95025      136\n",
      "95200       28\n",
      "97001      371\n",
      "97889       13\n",
      "99001      209\n",
      "99524      112\n",
      "99624       42\n",
      "99773      120\n",
      "Name: COLE_COD_MCPIO_UBICACION, dtype: int64\n",
      "Elementos null/NaN 27398\n",
      "__________________\n",
      "Elementos diferentes de null/NaN: 545730\n",
      "__________________\n",
      "(545730,)\n",
      "None\n"
     ]
    }
   ],
   "source": [
    "c = 'COLE_COD_MCPIO_UBICACION'\n",
    "print(data_2015_2[c].value_counts().sort_index().index)\n",
    "print(data_2015_2[c].value_counts().sort_index())\n",
    "print(missing_data(data_2015_2[c]))"
   ]
  },
  {
   "cell_type": "code",
   "execution_count": 194,
   "metadata": {
    "collapsed": true
   },
   "outputs": [],
   "source": [
    "data_2015_2 = data_2015_2.drop(c, axis=1)"
   ]
  },
  {
   "cell_type": "code",
   "execution_count": 195,
   "metadata": {
    "collapsed": false,
    "scrolled": true
   },
   "outputs": [
    {
     "name": "stdout",
     "output_type": "stream",
     "text": [
      "Index(['ABEJORRAL', 'ABREGO', 'ABRIAQUI', 'ACACIAS', 'ACANDI', 'ACEVEDO',\n",
      "       'ACHI', 'AGRADO', 'AGUA DE DIOS', 'AGUACHICA',\n",
      "       ...\n",
      "       'YUMBO', 'ZAMBRANO', 'ZAPATOCA', 'ZAPAYAN', 'ZARAGOZA', 'ZARZAL',\n",
      "       'ZETAQUIRA', 'ZIPACON', 'ZIPAQUIRA', 'ZONA BANANERA'],\n",
      "      dtype='object', length=1031)\n",
      "ABEJORRAL                    208\n",
      "ABREGO                       250\n",
      "ABRIAQUI                      32\n",
      "ACACIAS                     1073\n",
      "ACANDI                        79\n",
      "ACEVEDO                      248\n",
      "ACHI                         298\n",
      "AGRADO                       106\n",
      "AGUA DE DIOS                 135\n",
      "AGUACHICA                   1130\n",
      "AGUADA                        25\n",
      "AGUADAS                      271\n",
      "AGUAZUL                      566\n",
      "AGUSTIN CODAZZI              615\n",
      "AIPE                         212\n",
      "ALBAN                         94\n",
      "ALBAN (SAN JOSE)             153\n",
      "ALBANIA                      262\n",
      "ALCALA                       154\n",
      "ALDANA                        85\n",
      "ALEJANDRIA                    44\n",
      "ALGARROBO                    165\n",
      "ALGECIRAS                    241\n",
      "ALMAGUER                     136\n",
      "ALMEIDA                       27\n",
      "ALPUJARRA                     56\n",
      "ALTAMIRA                      38\n",
      "ALTO BAUDO (PIE DE PATO)      70\n",
      "ALTOS DEL ROSARIO             60\n",
      "ALVARADO                      85\n",
      "                            ... \n",
      "VILLANUEVA                  1059\n",
      "VILLAPINZON                  271\n",
      "VILLARRICA                   191\n",
      "VILLAVICENCIO               6416\n",
      "VILLAVIEJA                    44\n",
      "VILLETA                      405\n",
      "VIOTA                        174\n",
      "VIRACACHA                     31\n",
      "VISTA HERMOSA                178\n",
      "VITERBO                      204\n",
      "YACOPI                       157\n",
      "YACUANQUER                   145\n",
      "YAGUARA                      147\n",
      "YALI                          67\n",
      "YARUMAL                      649\n",
      "YAVARATE                      13\n",
      "YOLOMBO                      258\n",
      "YONDO (CASABE)               131\n",
      "YOPAL                       2825\n",
      "YOTOCO                       139\n",
      "YUMBO                       1220\n",
      "ZAMBRANO                     172\n",
      "ZAPATOCA                     173\n",
      "ZAPAYAN                       85\n",
      "ZARAGOZA                     320\n",
      "ZARZAL                       477\n",
      "ZETAQUIRA                     77\n",
      "ZIPACON                       67\n",
      "ZIPAQUIRA                   1774\n",
      "ZONA BANANERA                796\n",
      "Name: ESTU_RESIDE_MCPIO, dtype: int64\n",
      "Elementos null/NaN 1333\n",
      "__________________\n",
      "Elementos diferentes de null/NaN: 571795\n",
      "__________________\n",
      "(571795,)\n",
      "None\n"
     ]
    }
   ],
   "source": [
    "c = 'ESTU_RESIDE_MCPIO'\n",
    "print(data_2015_2[c].value_counts().sort_index().index)\n",
    "print(data_2015_2[c].value_counts().sort_index())\n",
    "print(missing_data(data_2015_2[c]))"
   ]
  },
  {
   "cell_type": "code",
   "execution_count": 196,
   "metadata": {
    "collapsed": true
   },
   "outputs": [],
   "source": [
    "data_2015_2[c].fillna(method='bfill', inplace=True)\n",
    "data_2015_2[c].fillna(method='ffill', inplace=True)"
   ]
  },
  {
   "cell_type": "code",
   "execution_count": 197,
   "metadata": {
    "collapsed": false,
    "scrolled": true
   },
   "outputs": [
    {
     "name": "stdout",
     "output_type": "stream",
     "text": [
      "Index(['AMAZONAS', 'ANTIOQUIA', 'ARAUCA', 'ATLANTICO', 'BOGOTA', 'BOLIVAR',\n",
      "       'BOYACA', 'CALDAS', 'CAQUETA', 'CASANARE', 'CAUCA', 'CESAR', 'CHOCO',\n",
      "       'CORDOBA', 'CUNDINAMARCA', 'EXTRANJERO', 'GUAINIA', 'GUAVIARE', 'HUILA',\n",
      "       'LA GUAJIRA', 'MAGDALENA', 'META', 'NARIÑO', 'NORTE SANTANDER',\n",
      "       'PUTUMAYO', 'QUINDIO', 'RISARALDA', 'SAN ANDRES', 'SANTANDER', 'SUCRE',\n",
      "       'TOLIMA', 'VALLE', 'VAUPES', 'VICHADA'],\n",
      "      dtype='object')\n",
      "AMAZONAS             860\n",
      "ANTIOQUIA          76374\n",
      "ARAUCA              3086\n",
      "ATLANTICO          30355\n",
      "BOGOTA             95475\n",
      "BOLIVAR            25200\n",
      "BOYACA             17665\n",
      "CALDAS             11626\n",
      "CAQUETA             4245\n",
      "CASANARE            6017\n",
      "CAUCA              14856\n",
      "CESAR              12441\n",
      "CHOCO               4292\n",
      "CORDOBA            19380\n",
      "CUNDINAMARCA       36443\n",
      "EXTRANJERO             8\n",
      "GUAINIA              206\n",
      "GUAVIARE            1007\n",
      "HUILA              14462\n",
      "LA GUAJIRA          7415\n",
      "MAGDALENA          15385\n",
      "META               11829\n",
      "NARIÑO             19964\n",
      "NORTE SANTANDER    16243\n",
      "PUTUMAYO            4656\n",
      "QUINDIO             7176\n",
      "RISARALDA          10886\n",
      "SAN ANDRES           786\n",
      "SANTANDER          28099\n",
      "SUCRE              11587\n",
      "TOLIMA             18128\n",
      "VALLE              44728\n",
      "VAUPES               399\n",
      "VICHADA              516\n",
      "Name: ESTU_RESIDE_DEPTO, dtype: int64\n",
      "Elementos null/NaN 1333\n",
      "__________________\n",
      "Elementos diferentes de null/NaN: 571795\n",
      "__________________\n",
      "(571795,)\n",
      "None\n"
     ]
    }
   ],
   "source": [
    "c = 'ESTU_RESIDE_DEPTO'\n",
    "print(data_2015_2[c].value_counts().sort_index().index)\n",
    "print(data_2015_2[c].value_counts().sort_index())\n",
    "print(missing_data(data_2015_2[c]))"
   ]
  },
  {
   "cell_type": "code",
   "execution_count": 198,
   "metadata": {
    "collapsed": true
   },
   "outputs": [],
   "source": [
    "data_2015_2[c].fillna(method='bfill', inplace=True)\n",
    "data_2015_2[c].fillna(method='ffill', inplace=True)"
   ]
  },
  {
   "cell_type": "code",
   "execution_count": 199,
   "metadata": {
    "collapsed": false,
    "scrolled": true
   },
   "outputs": [
    {
     "name": "stdout",
     "output_type": "stream",
     "text": [
      "Float64Index([ 5001.0,  5002.0,  5004.0,  5021.0,  5030.0,  5031.0,  5034.0,\n",
      "               5036.0,  5038.0,  5040.0,\n",
      "              ...\n",
      "              95200.0, 97001.0, 97161.0, 97666.0, 97889.0, 99001.0, 99524.0,\n",
      "              99624.0, 99773.0, 99999.0],\n",
      "             dtype='float64', length=1114)\n",
      "5001     30397\n",
      "5002       208\n",
      "5004        32\n",
      "5021        44\n",
      "5030       336\n",
      "5031       305\n",
      "5034       478\n",
      "5036        42\n",
      "5038       150\n",
      "5040       220\n",
      "5042       327\n",
      "5044        84\n",
      "5045      1408\n",
      "5051       335\n",
      "5055       105\n",
      "5059        50\n",
      "5079       653\n",
      "5086        75\n",
      "5088      5835\n",
      "5091        68\n",
      "5093       219\n",
      "5101       292\n",
      "5107        41\n",
      "5113       119\n",
      "5120       213\n",
      "5125       108\n",
      "5129       907\n",
      "5134        59\n",
      "5138       330\n",
      "5142        79\n",
      "         ...  \n",
      "86760       97\n",
      "86865      503\n",
      "86885      355\n",
      "88001      735\n",
      "88564       51\n",
      "91001      656\n",
      "91263       21\n",
      "91405       39\n",
      "91407       21\n",
      "91460       10\n",
      "91540       67\n",
      "91669        6\n",
      "91798       40\n",
      "94001      141\n",
      "94343       47\n",
      "94663        1\n",
      "94883       17\n",
      "95001      785\n",
      "95015       56\n",
      "95025      136\n",
      "95200       30\n",
      "97001      327\n",
      "97161       31\n",
      "97666       28\n",
      "97889       13\n",
      "99001      216\n",
      "99524      118\n",
      "99624       44\n",
      "99773      138\n",
      "99999        8\n",
      "Name: ESTU_COD_RESIDE_MCPIO, dtype: int64\n",
      "Elementos null/NaN 1333\n",
      "__________________\n",
      "Elementos diferentes de null/NaN: 571795\n",
      "__________________\n",
      "(571795,)\n",
      "None\n"
     ]
    }
   ],
   "source": [
    "c = 'ESTU_COD_RESIDE_MCPIO'\n",
    "print(data_2015_2[c].value_counts().sort_index().index)\n",
    "print(data_2015_2[c].value_counts().sort_index())\n",
    "print(missing_data(data_2015_2[c]))"
   ]
  },
  {
   "cell_type": "code",
   "execution_count": 200,
   "metadata": {
    "collapsed": true
   },
   "outputs": [],
   "source": [
    "data_2015_2 = data_2015_2.drop(c, axis=1)"
   ]
  },
  {
   "cell_type": "code",
   "execution_count": 201,
   "metadata": {
    "collapsed": false
   },
   "outputs": [
    {
     "name": "stdout",
     "output_type": "stream",
     "text": [
      "Float64Index([1.0, 2.0, 3.0, 4.0, 5.0, 6.0, 7.0, 8.0, 9.0, 10.0], dtype='float64')\n",
      "1      22590\n",
      "2       5588\n",
      "3      11319\n",
      "4      39465\n",
      "5      27636\n",
      "6      12806\n",
      "7      12947\n",
      "8      28558\n",
      "9      27453\n",
      "10    384764\n",
      "Name: ESTU_ZONA_RESIDE, dtype: int64\n",
      "Elementos null/NaN 2\n",
      "__________________\n",
      "Elementos diferentes de null/NaN: 573126\n",
      "__________________\n",
      "(573126,)\n",
      "None\n"
     ]
    }
   ],
   "source": [
    "c = 'ESTU_ZONA_RESIDE'\n",
    "print(data_2015_2[c].value_counts().sort_index().index)\n",
    "print(data_2015_2[c].value_counts().sort_index())\n",
    "print(missing_data(data_2015_2[c]))"
   ]
  },
  {
   "cell_type": "code",
   "execution_count": 202,
   "metadata": {
    "collapsed": false,
    "scrolled": true
   },
   "outputs": [
    {
     "name": "stdout",
     "output_type": "stream",
     "text": [
      "Float64Index([105001000001.0, 105001000043.0, 105001000108.0, 105001000132.0,\n",
      "              105001000141.0, 105001000167.0, 105001000175.0, 105001000205.0,\n",
      "              105001000256.0, 105001000353.0,\n",
      "              ...\n",
      "              813430000003.0, 818001100011.0, 818001100022.0, 818001100027.0,\n",
      "              818001100040.0, 847001000005.0, 847001000023.0, 847001000027.0,\n",
      "              847001000035.0, 854874000001.0],\n",
      "             dtype='float64', length=10011)\n",
      "1.050010e+11     24\n",
      "1.050010e+11     99\n",
      "1.050010e+11    987\n",
      "1.050010e+11     79\n",
      "1.050010e+11     25\n",
      "1.050010e+11     30\n",
      "1.050010e+11     75\n",
      "1.050010e+11     36\n",
      "1.050010e+11    169\n",
      "1.050010e+11     51\n",
      "1.050010e+11    140\n",
      "1.050010e+11     93\n",
      "1.050010e+11    122\n",
      "1.050010e+11     72\n",
      "1.050010e+11     95\n",
      "1.050010e+11     99\n",
      "1.050010e+11     34\n",
      "1.050010e+11     65\n",
      "1.050010e+11     36\n",
      "1.050010e+11     71\n",
      "1.050010e+11    162\n",
      "1.050010e+11    180\n",
      "1.050010e+11    121\n",
      "1.050010e+11     68\n",
      "1.050010e+11    143\n",
      "1.050010e+11     82\n",
      "1.050010e+11     36\n",
      "1.050010e+11     56\n",
      "1.050010e+11     48\n",
      "1.050010e+11     63\n",
      "               ... \n",
      "5.540013e+11    110\n",
      "5.680010e+11      1\n",
      "5.680010e+11     17\n",
      "5.684320e+11     12\n",
      "5.684320e+11      6\n",
      "6.252430e+11     12\n",
      "6.252690e+11     49\n",
      "6.252690e+11     16\n",
      "6.252690e+11     40\n",
      "6.252690e+11     72\n",
      "6.252690e+11     45\n",
      "6.252690e+11     14\n",
      "6.254300e+11     42\n",
      "6.257400e+11     11\n",
      "6.257450e+11     13\n",
      "6.257690e+11     17\n",
      "6.257990e+11      5\n",
      "6.258170e+11     41\n",
      "6.258860e+11     14\n",
      "6.258990e+11     90\n",
      "8.134300e+11     90\n",
      "8.180011e+11     42\n",
      "8.180011e+11     72\n",
      "8.180011e+11     80\n",
      "8.180011e+11      4\n",
      "8.470010e+11    194\n",
      "8.470010e+11     54\n",
      "8.470010e+11     73\n",
      "8.470010e+11     21\n",
      "8.548740e+11      8\n",
      "Name: COLE_COD_DANE_INSTITUCION, dtype: int64\n",
      "Elementos null/NaN 27398\n",
      "__________________\n",
      "Elementos diferentes de null/NaN: 545730\n",
      "__________________\n",
      "(545730,)\n",
      "None\n"
     ]
    }
   ],
   "source": [
    "c = 'COLE_COD_DANE_INSTITUCION'\n",
    "print(data_2015_2[c].value_counts().sort_index().index)\n",
    "print(data_2015_2[c].value_counts().sort_index())\n",
    "print(missing_data(data_2015_2[c]))"
   ]
  },
  {
   "cell_type": "code",
   "execution_count": 203,
   "metadata": {
    "collapsed": false
   },
   "outputs": [
    {
     "name": "stdout",
     "output_type": "stream",
     "text": [
      "cant null antes: 27398\n",
      "cant null despues: 0\n"
     ]
    }
   ],
   "source": [
    "Do_resamples(data_2015_2, c, float)"
   ]
  },
  {
   "cell_type": "code",
   "execution_count": 204,
   "metadata": {
    "collapsed": false,
    "scrolled": true
   },
   "outputs": [
    {
     "name": "stdout",
     "output_type": "stream",
     "text": [
      "Float64Index([    18.0,     59.0,     75.0,     83.0,     91.0,    125.0,\n",
      "                 141.0,    174.0,    190.0,    208.0,\n",
      "              ...\n",
      "              197384.0, 197392.0, 197400.0, 197434.0, 197459.0, 197467.0,\n",
      "              197517.0, 197525.0, 197624.0, 631622.0],\n",
      "             dtype='float64', length=12162)\n",
      "18          5\n",
      "59        987\n",
      "75         47\n",
      "83         30\n",
      "91         77\n",
      "125        69\n",
      "141       113\n",
      "174       105\n",
      "190        90\n",
      "208        97\n",
      "216        16\n",
      "232        50\n",
      "240        73\n",
      "265       222\n",
      "281        69\n",
      "315       101\n",
      "356        33\n",
      "364        60\n",
      "372        53\n",
      "380        78\n",
      "398        21\n",
      "406        19\n",
      "422        17\n",
      "430        69\n",
      "448        25\n",
      "455        94\n",
      "463       113\n",
      "471        97\n",
      "489        92\n",
      "497        62\n",
      "         ... \n",
      "196907      3\n",
      "196931      3\n",
      "196956     32\n",
      "196998      1\n",
      "197004     17\n",
      "197012     23\n",
      "197020     17\n",
      "197038      7\n",
      "197046     20\n",
      "197053      4\n",
      "197061     15\n",
      "197145     16\n",
      "197160      7\n",
      "197194      9\n",
      "197202      9\n",
      "197228     14\n",
      "197319     73\n",
      "197327      6\n",
      "197335     16\n",
      "197350      4\n",
      "197384     16\n",
      "197392     18\n",
      "197400      9\n",
      "197434      8\n",
      "197459     54\n",
      "197467      4\n",
      "197517     10\n",
      "197525     11\n",
      "197624     10\n",
      "631622     37\n",
      "Name: COLE_COD_ICFES, dtype: int64\n",
      "Elementos null/NaN 27398\n",
      "__________________\n",
      "Elementos diferentes de null/NaN: 545730\n",
      "__________________\n",
      "(545730,)\n",
      "None\n"
     ]
    }
   ],
   "source": [
    "c = 'COLE_COD_ICFES'\n",
    "print(data_2015_2[c].value_counts().sort_index().index)\n",
    "print(data_2015_2[c].value_counts().sort_index())\n",
    "print(missing_data(data_2015_2[c]))"
   ]
  },
  {
   "cell_type": "code",
   "execution_count": 205,
   "metadata": {
    "collapsed": false
   },
   "outputs": [
    {
     "name": "stdout",
     "output_type": "stream",
     "text": [
      "cant null antes: 27398\n",
      "cant null despues: 0\n"
     ]
    }
   ],
   "source": [
    "for i in data_2015_2[c].value_counts().sort_index().index:\n",
    "    if len(str(i)) < 4:\n",
    "        data_2015_2[c] = data_2015_2[c].replace(i, np.nan)\n",
    "        \n",
    "Do_resamples(data_2015_2, c, float)"
   ]
  },
  {
   "cell_type": "code",
   "execution_count": 206,
   "metadata": {
    "collapsed": false,
    "scrolled": true
   },
   "outputs": [
    {
     "name": "stdout",
     "output_type": "stream",
     "text": [
      "Index(['86/02 INSTITUCION EDUCATIVA LA LEONERA  ITA FARALLONES',\n",
      "       'ABSALON TORRES CAMACHO', 'ACAD AMERICANA DE SISTEMAS Y COMERCIO',\n",
      "       'ACAD CENTRAL DE SISTEMAS ACSI', 'ACAD MILIT MARISCAL SUCRE',\n",
      "       'ACAD MILIT NAL HEROES GRANADINOS', 'ACAD PANTANO DE VARGAS',\n",
      "       'ACADE MILIT JOAQUÍN DE CAICEDO Y CUERO', 'ACADEMIA ACADEMIA SAM',\n",
      "       'ACADEMIA CIAL DE LOS ANDES',\n",
      "       ...\n",
      "       'VILLALOBOS (sede principal', 'VILLALOSADA', 'VILLANUEVA',\n",
      "       'VISTAHERMOSA', 'WINDSOR ROYAL SCHOL',\n",
      "       'XINSTITUTO TECNICO COMERCIAL PILOTO',\n",
      "       'YACHAY WASI RUNA YANAKUNA - SEDE PRINCIPAL', 'YU LUUCX PISHAU',\n",
      "       'ZARAGOZA (sede principal)',\n",
      "       'ZION SCHOOL                                                  - SEDE PRINCIPAL'],\n",
      "      dtype='object', length=9361)\n",
      "86/02 INSTITUCION EDUCATIVA LA LEONERA  ITA FARALLONES                            19\n",
      "ABSALON TORRES CAMACHO                                                           157\n",
      "ACAD AMERICANA DE SISTEMAS Y COMERCIO                                              8\n",
      "ACAD CENTRAL DE SISTEMAS ACSI                                                     31\n",
      "ACAD MILIT MARISCAL SUCRE                                                        118\n",
      "ACAD MILIT NAL HEROES GRANADINOS                                                  14\n",
      "ACAD PANTANO DE VARGAS                                                            28\n",
      "ACADE MILIT JOAQUÍN DE CAICEDO Y CUERO                                             1\n",
      "ACADEMIA ACADEMIA SAM                                                             10\n",
      "ACADEMIA CIAL DE LOS ANDES                                                        29\n",
      "ACADEMIA DE CIENCIAS DE COLOMBIA AKADEMOS                                         14\n",
      "ACADEMIA E INSTITUTO CAMPAÑA LIBERTADORA                                           4\n",
      "ACADEMIA GENERAL CARLOS JULIO GIL COLORADO   - SEDE PRINCIPAL                     25\n",
      "ACADEMIA GUSTAVO ROJAS PINILLAS                                                   14\n",
      "ACADEMIA MILIT CORONEL MIGUEL CABAL BARONA                                         1\n",
      "ACADEMIA MILITAR GENERAL JOSE ANTONIO ANZOATEGUI                                  32\n",
      "ACADEMIA MILITAR GENERAL JOSÉ MARÍA CABAL                                         54\n",
      "ACADEMIA MILITAR GRAL TOMAS CIPRIANO DE MOSQUERA                                   9\n",
      "ACADEMIA MILITAR GUSTAVO MATAMOROS D COSTA - SEDE PRINCIPAL                       24\n",
      "ACADEMIA MILITAR JOSE ANTONIO PAEZ                                                27\n",
      "ACADEMIA MILITAR JOSE ANTONIO PAEZ - SEDE PRINCIPAL                               24\n",
      "ACADEMIA POLITECNICA INTERACTIVA - SEDE PRINCIPAL                                 28\n",
      "ACCION COMUNAL                                                                    82\n",
      "ACEVEDO Y GOMEZ                                                                   78\n",
      "ADVENTISTA DE QUIBDO BOLIVAR ESCANDON                                             22\n",
      "AGRICOLA CAMPOALEGRE                                                              39\n",
      "AGRICOLA PRESBITERO HORACIO GOMEZ GALLO                                           40\n",
      "AGROAMBIENTAL JOEL SIERRA                                                         16\n",
      "AGROECOLOGICO                                                                    139\n",
      "AGROECOLOGICO AMAZONICO BUINAIMA                                                  34\n",
      "                                                                                ... \n",
      "UNION SINDICAL OBRERA  USO                                                        28\n",
      "UNITECNICAS - SEDE PRINCIPAL                                                      60\n",
      "UNIVERSIDAD NACIONAL ABIERTA Y A DISTANCIA  UNAD - SEDE PRINCIPAL                  1\n",
      "URBANA MIXTA NO.1                                                                 49\n",
      "URIBE (sede principal)                                                            11\n",
      "VALENCIA (sede principal)                                                          7\n",
      "VALENCIA DE LA PAZ                                                                 8\n",
      "VALENTIN CARABALI (sede principal)                                                41\n",
      "VALPARAISO                                                                        12\n",
      "VALSALICE                                                                         68\n",
      "VASCO NUÑEZ DE BALBOA (sede principal)                                            69\n",
      "VEINTE DE JULIO                                                                   11\n",
      "VENTIUN ANGELES (INST EDUC DIST)                                                 186\n",
      "VERDE AMAZONICO                                                                   29\n",
      "VEREDAS UNIDAS BARRAGAN (sede principal)                                          43\n",
      "VICTOR MANUEL CHAUX VILLAMIL (sede principal)                                     39\n",
      "VILLA CECILIA SEDE                                                                23\n",
      "VILLA CLARA                                                                       17\n",
      "VILLA CORELCA                                                                     54\n",
      "VILLA DE LOS ANDES                                                                55\n",
      "VILLALOBOS (sede principal                                                        17\n",
      "VILLALOSADA                                                                       15\n",
      "VILLANUEVA                                                                        27\n",
      "VISTAHERMOSA                                                                       9\n",
      "WINDSOR ROYAL SCHOL                                                               26\n",
      "XINSTITUTO TECNICO COMERCIAL PILOTO                                               11\n",
      "YACHAY WASI RUNA YANAKUNA - SEDE PRINCIPAL                                         8\n",
      "YU LUUCX PISHAU                                                                   14\n",
      "ZARAGOZA (sede principal)                                                          6\n",
      "ZION SCHOOL                                                  - SEDE PRINCIPAL     29\n",
      "Name: COLE_NOMBRE_SEDE, dtype: int64\n",
      "Elementos null/NaN 27398\n",
      "__________________\n",
      "Elementos diferentes de null/NaN: 545730\n",
      "__________________\n",
      "(545730,)\n",
      "None\n"
     ]
    }
   ],
   "source": [
    "c = 'COLE_NOMBRE_SEDE'\n",
    "print(data_2015_2[c].value_counts().sort_index().index)\n",
    "print(data_2015_2[c].value_counts().sort_index())\n",
    "print(missing_data(data_2015_2[c]))"
   ]
  },
  {
   "cell_type": "code",
   "execution_count": 207,
   "metadata": {
    "collapsed": true
   },
   "outputs": [],
   "source": [
    "data_2015_2 = data_2015_2.drop(c, axis=1)"
   ]
  },
  {
   "cell_type": "code",
   "execution_count": 208,
   "metadata": {
    "collapsed": false
   },
   "outputs": [
    {
     "name": "stdout",
     "output_type": "stream",
     "text": [
      "Index(['C', 'M', 'N', 'S', 'T', 'U'], dtype='object')\n",
      "C    108371\n",
      "M    283073\n",
      "N     36381\n",
      "S     35077\n",
      "T     82630\n",
      "U       198\n",
      "Name: COLE_JORNADA, dtype: int64\n",
      "Elementos null/NaN 27398\n",
      "__________________\n",
      "Elementos diferentes de null/NaN: 545730\n",
      "__________________\n",
      "(545730,)\n",
      "None\n"
     ]
    }
   ],
   "source": [
    "c = 'COLE_JORNADA'\n",
    "print(data_2015_2[c].value_counts().sort_index().index)\n",
    "print(data_2015_2[c].value_counts().sort_index())\n",
    "print(missing_data(data_2015_2[c]))"
   ]
  },
  {
   "cell_type": "code",
   "execution_count": 209,
   "metadata": {
    "collapsed": false
   },
   "outputs": [
    {
     "name": "stdout",
     "output_type": "stream",
     "text": [
      "cant null antes: 27398\n",
      "cant null despues: 1\n",
      "cant null antes: 1\n",
      "cant null despues: 0\n"
     ]
    }
   ],
   "source": [
    "Do_resamples(data_2015_2, c, str)"
   ]
  },
  {
   "cell_type": "code",
   "execution_count": 210,
   "metadata": {
    "collapsed": false
   },
   "outputs": [
    {
     "name": "stdout",
     "output_type": "stream",
     "text": [
      "Index(['FEMENINO', 'MASCULINO', 'MIXTO'], dtype='object')\n",
      "FEMENINO      15635\n",
      "MASCULINO      4585\n",
      "MIXTO        525510\n",
      "Name: COLE_GENERO, dtype: int64\n",
      "Elementos null/NaN 27398\n",
      "__________________\n",
      "Elementos diferentes de null/NaN: 545730\n",
      "__________________\n",
      "(545730,)\n",
      "None\n"
     ]
    }
   ],
   "source": [
    "c = 'COLE_GENERO'\n",
    "print(data_2015_2[c].value_counts().sort_index().index)\n",
    "print(data_2015_2[c].value_counts().sort_index())\n",
    "print(missing_data(data_2015_2[c]))"
   ]
  },
  {
   "cell_type": "code",
   "execution_count": 211,
   "metadata": {
    "collapsed": false
   },
   "outputs": [
    {
     "name": "stdout",
     "output_type": "stream",
     "text": [
      "cant null antes: 27398\n",
      "cant null despues: 0\n"
     ]
    }
   ],
   "source": [
    "Do_resamples(data_2015_2, c, str)"
   ]
  },
  {
   "cell_type": "code",
   "execution_count": 212,
   "metadata": {
    "collapsed": false
   },
   "outputs": [
    {
     "name": "stdout",
     "output_type": "stream",
     "text": [
      "Index(['ACADÉMICO', 'NO_APLICA', 'TÉCNICO', 'TÉCNICO/ACADÉMICO'], dtype='object')\n",
      "ACADÉMICO            294349\n",
      "NO_APLICA              1620\n",
      "TÉCNICO               58442\n",
      "TÉCNICO/ACADÉMICO    188167\n",
      "Name: COLE_CARACTER, dtype: int64\n",
      "Elementos null/NaN 30550\n",
      "__________________\n",
      "Elementos diferentes de null/NaN: 542578\n",
      "__________________\n",
      "(542578,)\n",
      "None\n"
     ]
    }
   ],
   "source": [
    "c = 'COLE_CARACTER'\n",
    "print(data_2015_2[c].value_counts().sort_index().index)\n",
    "print(data_2015_2[c].value_counts().sort_index())\n",
    "print(missing_data(data_2015_2[c]))"
   ]
  },
  {
   "cell_type": "code",
   "execution_count": 213,
   "metadata": {
    "collapsed": false
   },
   "outputs": [
    {
     "name": "stdout",
     "output_type": "stream",
     "text": [
      "cant null antes: 30550\n",
      "cant null despues: 0\n"
     ]
    }
   ],
   "source": [
    "Do_resamples(data_2015_2, c, str)"
   ]
  },
  {
   "cell_type": "code",
   "execution_count": 214,
   "metadata": {
    "collapsed": false
   },
   "outputs": [
    {
     "name": "stdout",
     "output_type": "stream",
     "text": [
      "Index(['NO OFICIAL', 'OFICIAL', 'OTRO'], dtype='object')\n",
      "NO OFICIAL    139073\n",
      "OFICIAL       406657\n",
      "OTRO           27396\n",
      "Name: COLE_NATURALEZA, dtype: int64\n",
      "Elementos null/NaN 2\n",
      "__________________\n",
      "Elementos diferentes de null/NaN: 573126\n",
      "__________________\n",
      "(573126,)\n",
      "None\n"
     ]
    }
   ],
   "source": [
    "c = 'COLE_NATURALEZA'\n",
    "print(data_2015_2[c].value_counts().sort_index().index)\n",
    "print(data_2015_2[c].value_counts().sort_index())\n",
    "print(missing_data(data_2015_2[c]))"
   ]
  },
  {
   "cell_type": "code",
   "execution_count": 215,
   "metadata": {
    "collapsed": false
   },
   "outputs": [
    {
     "name": "stdout",
     "output_type": "stream",
     "text": [
      "cant null antes: 2\n",
      "cant null despues: 0\n"
     ]
    }
   ],
   "source": [
    "Do_resamples(data_2015_2, c, str)"
   ]
  },
  {
   "cell_type": "code",
   "execution_count": 216,
   "metadata": {
    "collapsed": false
   },
   "outputs": [
    {
     "name": "stdout",
     "output_type": "stream",
     "text": [
      "Index(['N', 'S'], dtype='object')\n",
      "N    473534\n",
      "S      5698\n",
      "Name: COLE_BILINGUE, dtype: int64\n",
      "Elementos null/NaN 93896\n",
      "__________________\n",
      "Elementos diferentes de null/NaN: 479232\n",
      "__________________\n",
      "(479232,)\n",
      "None\n"
     ]
    }
   ],
   "source": [
    "c = 'COLE_BILINGUE'\n",
    "print(data_2015_2[c].value_counts().sort_index().index)\n",
    "print(data_2015_2[c].value_counts().sort_index())\n",
    "print(missing_data(data_2015_2[c]))"
   ]
  },
  {
   "cell_type": "code",
   "execution_count": 217,
   "metadata": {
    "collapsed": false
   },
   "outputs": [
    {
     "name": "stdout",
     "output_type": "stream",
     "text": [
      "cant null antes: 93896\n",
      "cant null despues: 0\n"
     ]
    }
   ],
   "source": [
    "Do_resamples(data_2015_2, c, str)"
   ]
  },
  {
   "cell_type": "code",
   "execution_count": 218,
   "metadata": {
    "collapsed": false
   },
   "outputs": [
    {
     "name": "stdout",
     "output_type": "stream",
     "text": [
      "Index(['A', 'B', 'O'], dtype='object')\n",
      "A    541637\n",
      "B      1537\n",
      "O      2556\n",
      "Name: COLE_CALENDARIO, dtype: int64\n",
      "Elementos null/NaN 27398\n",
      "__________________\n",
      "Elementos diferentes de null/NaN: 545730\n",
      "__________________\n",
      "(545730,)\n",
      "None\n"
     ]
    }
   ],
   "source": [
    "c = 'COLE_CALENDARIO'\n",
    "print(data_2015_2[c].value_counts().sort_index().index)\n",
    "print(data_2015_2[c].value_counts().sort_index())\n",
    "print(missing_data(data_2015_2[c]))"
   ]
  },
  {
   "cell_type": "code",
   "execution_count": 219,
   "metadata": {
    "collapsed": false
   },
   "outputs": [
    {
     "name": "stdout",
     "output_type": "stream",
     "text": [
      "cant null antes: 27398\n",
      "cant null despues: 0\n"
     ]
    }
   ],
   "source": [
    "Do_resamples(data_2015_2, c, str)"
   ]
  },
  {
   "cell_type": "code",
   "execution_count": 220,
   "metadata": {
    "collapsed": false
   },
   "outputs": [
    {
     "name": "stdout",
     "output_type": "stream",
     "text": [
      "Index(['R', 'U'], dtype='object')\n",
      "R    109610\n",
      "U    460044\n",
      "Name: ESTU_AREA_RESIDE, dtype: int64\n",
      "Elementos null/NaN 3474\n",
      "__________________\n",
      "Elementos diferentes de null/NaN: 569654\n",
      "__________________\n",
      "(569654,)\n",
      "None\n"
     ]
    }
   ],
   "source": [
    "c = 'ESTU_AREA_RESIDE'\n",
    "print(data_2015_2[c].value_counts().sort_index().index)\n",
    "print(data_2015_2[c].value_counts().sort_index())\n",
    "print(missing_data(data_2015_2[c]))"
   ]
  },
  {
   "cell_type": "code",
   "execution_count": 221,
   "metadata": {
    "collapsed": false
   },
   "outputs": [
    {
     "name": "stdout",
     "output_type": "stream",
     "text": [
      "cant null antes: 3474\n",
      "cant null despues: 0\n"
     ]
    }
   ],
   "source": [
    "Do_resamples(data_2015_2, c, str)"
   ]
  },
  {
   "cell_type": "code",
   "execution_count": 222,
   "metadata": {
    "collapsed": false
   },
   "outputs": [
    {
     "name": "stdout",
     "output_type": "stream",
     "text": [
      "Index(['R', 'U'], dtype='object')\n",
      "R     77572\n",
      "U    468158\n",
      "Name: COLE_AREA_UBICACION, dtype: int64\n",
      "Elementos null/NaN 27398\n",
      "__________________\n",
      "Elementos diferentes de null/NaN: 545730\n",
      "__________________\n",
      "(545730,)\n",
      "None\n"
     ]
    }
   ],
   "source": [
    "c = 'COLE_AREA_UBICACION'\n",
    "print(data_2015_2[c].value_counts().sort_index().index)\n",
    "print(data_2015_2[c].value_counts().sort_index())\n",
    "print(missing_data(data_2015_2[c]))"
   ]
  },
  {
   "cell_type": "code",
   "execution_count": 223,
   "metadata": {
    "collapsed": false
   },
   "outputs": [
    {
     "name": "stdout",
     "output_type": "stream",
     "text": [
      "cant null antes: 27398\n",
      "cant null despues: 0\n"
     ]
    }
   ],
   "source": [
    "Do_resamples(data_2015_2, c, str)"
   ]
  },
  {
   "cell_type": "code",
   "execution_count": 224,
   "metadata": {
    "collapsed": false,
    "scrolled": true
   },
   "outputs": [
    {
     "name": "stdout",
     "output_type": "stream",
     "text": [
      "Index(['AMAZONAS', 'ANTIOQUIA', 'ARAUCA', 'ATLANTICO', 'BOGOTA', 'BOLIVAR',\n",
      "       'BOYACA', 'CALDAS', 'CAQUETA', 'CASANARE', 'CAUCA', 'CESAR', 'CHOCO',\n",
      "       'CORDOBA', 'CUNDINAMARCA', 'GUAINIA', 'GUAVIARE', 'HUILA', 'LA GUAJIRA',\n",
      "       'MAGDALENA', 'META', 'NARIÑO', 'NORTE SANTANDER', 'PUTUMAYO', 'QUINDIO',\n",
      "       'RISARALDA', 'SAN ANDRES', 'SANTANDER', 'SUCRE', 'TOLIMA', 'VALLE',\n",
      "       'VAUPES', 'VICHADA'],\n",
      "      dtype='object')\n",
      "AMAZONAS             842\n",
      "ANTIOQUIA          74285\n",
      "ARAUCA              2931\n",
      "ATLANTICO          29361\n",
      "BOGOTA             90598\n",
      "BOLIVAR            24645\n",
      "BOYACA             16737\n",
      "CALDAS             10924\n",
      "CAQUETA             4018\n",
      "CASANARE            5841\n",
      "CAUCA              14382\n",
      "CESAR              12085\n",
      "CHOCO               4049\n",
      "CORDOBA            18875\n",
      "CUNDINAMARCA       36396\n",
      "GUAINIA              200\n",
      "GUAVIARE             940\n",
      "HUILA              13465\n",
      "LA GUAJIRA          7181\n",
      "MAGDALENA          14952\n",
      "META               11470\n",
      "NARIÑO             17468\n",
      "NORTE SANTANDER    15588\n",
      "PUTUMAYO            4338\n",
      "QUINDIO             6966\n",
      "RISARALDA          10452\n",
      "SAN ANDRES           701\n",
      "SANTANDER          26603\n",
      "SUCRE              11411\n",
      "TOLIMA             17142\n",
      "VALLE              40017\n",
      "VAUPES               384\n",
      "VICHADA              483\n",
      "Name: COLE_DEPTO_UBICACION, dtype: int64\n",
      "Elementos null/NaN 27398\n",
      "__________________\n",
      "Elementos diferentes de null/NaN: 545730\n",
      "__________________\n",
      "(545730,)\n",
      "None\n"
     ]
    }
   ],
   "source": [
    "c = 'COLE_DEPTO_UBICACION'\n",
    "print(data_2015_2[c].value_counts().sort_index().index)\n",
    "print(data_2015_2[c].value_counts().sort_index())\n",
    "print(missing_data(data_2015_2[c]))"
   ]
  },
  {
   "cell_type": "code",
   "execution_count": 225,
   "metadata": {
    "collapsed": true
   },
   "outputs": [],
   "source": [
    "data_2015_2[c].fillna(method='bfill', inplace=True)\n",
    "data_2015_2[c].fillna(method='ffill', inplace=True)"
   ]
  },
  {
   "cell_type": "code",
   "execution_count": 226,
   "metadata": {
    "collapsed": false,
    "scrolled": true
   },
   "outputs": [
    {
     "name": "stdout",
     "output_type": "stream",
     "text": [
      "Index(['ABEJORRAL', 'ABREGO', 'ABRIAQUI', 'ACACIAS', 'ACANDI', 'ACEVEDO',\n",
      "       'ACHI', 'AGRADO', 'AGUA DE DIOS', 'AGUACHICA',\n",
      "       ...\n",
      "       'YUMBO', 'ZAMBRANO', 'ZAPATOCA', 'ZAPAYAN', 'ZARAGOZA', 'ZARZAL',\n",
      "       'ZETAQUIRA', 'ZIPACON', 'ZIPAQUIRA', 'ZONA BANANERA'],\n",
      "      dtype='object', length=1028)\n",
      "ABEJORRAL                    169\n",
      "ABREGO                       241\n",
      "ABRIAQUI                      29\n",
      "ACACIAS                     1026\n",
      "ACANDI                        78\n",
      "ACEVEDO                      230\n",
      "ACHI                         323\n",
      "AGRADO                       116\n",
      "AGUA DE DIOS                 131\n",
      "AGUACHICA                   1075\n",
      "AGUADA                        24\n",
      "AGUADAS                      268\n",
      "AGUAZUL                      550\n",
      "AGUSTIN CODAZZI              637\n",
      "AIPE                         208\n",
      "ALBAN                         82\n",
      "ALBAN (SAN JOSE)             126\n",
      "ALBANIA                      241\n",
      "ALCALA                       133\n",
      "ALDANA                        94\n",
      "ALEJANDRIA                    43\n",
      "ALGARROBO                    162\n",
      "ALGECIRAS                    240\n",
      "ALMAGUER                     134\n",
      "ALMEIDA                       27\n",
      "ALPUJARRA                     73\n",
      "ALTAMIRA                      39\n",
      "ALTO BAUDO (PIE DE PATO)      43\n",
      "ALTOS DEL ROSARIO             59\n",
      "ALVARADO                      87\n",
      "                            ... \n",
      "VILLANUEVA                  1020\n",
      "VILLAPINZON                  313\n",
      "VILLARRICA                    66\n",
      "VILLAVICENCIO               6170\n",
      "VILLAVIEJA                    42\n",
      "VILLETA                      369\n",
      "VIOTA                        173\n",
      "VIRACACHA                     29\n",
      "VISTA HERMOSA                126\n",
      "VITERBO                      160\n",
      "YACOPI                       150\n",
      "YACUANQUER                   118\n",
      "YAGUARA                      134\n",
      "YALI                          62\n",
      "YARUMAL                      784\n",
      "YAVARATE                      13\n",
      "YOLOMBO                      550\n",
      "YONDO (CASABE)               122\n",
      "YOPAL                       2751\n",
      "YOTOCO                       126\n",
      "YUMBO                       1155\n",
      "ZAMBRANO                     169\n",
      "ZAPATOCA                     140\n",
      "ZAPAYAN                       88\n",
      "ZARAGOZA                     297\n",
      "ZARZAL                       408\n",
      "ZETAQUIRA                     77\n",
      "ZIPACON                       65\n",
      "ZIPAQUIRA                   1710\n",
      "ZONA BANANERA                771\n",
      "Name: COLE_MCPIO_UBICACION, dtype: int64\n",
      "Elementos null/NaN 27398\n",
      "__________________\n",
      "Elementos diferentes de null/NaN: 545730\n",
      "__________________\n",
      "(545730,)\n",
      "None\n"
     ]
    }
   ],
   "source": [
    "c = 'COLE_MCPIO_UBICACION'\n",
    "print(data_2015_2[c].value_counts().sort_index().index)\n",
    "print(data_2015_2[c].value_counts().sort_index())\n",
    "print(missing_data(data_2015_2[c]))"
   ]
  },
  {
   "cell_type": "code",
   "execution_count": 227,
   "metadata": {
    "collapsed": true
   },
   "outputs": [],
   "source": [
    "data_2015_2[c].fillna(method='bfill', inplace=True)\n",
    "data_2015_2[c].fillna(method='ffill', inplace=True)"
   ]
  },
  {
   "cell_type": "code",
   "execution_count": 228,
   "metadata": {
    "collapsed": false,
    "scrolled": true
   },
   "outputs": [
    {
     "name": "stdout",
     "output_type": "stream",
     "text": [
      "Float64Index([    5.0,     8.0,    11.0,    13.0,    15.0,    17.0,    18.0,\n",
      "                 19.0,    20.0,    23.0,    25.0,    27.0,    41.0,    44.0,\n",
      "                 47.0,    50.0,    52.0,    54.0,    63.0,    66.0,    68.0,\n",
      "                 70.0,    73.0,    76.0,    81.0,    85.0,    86.0,    88.0,\n",
      "                 91.0,    94.0,    95.0,    97.0,    99.0, 99999.0],\n",
      "             dtype='float64')\n",
      "5        76374\n",
      "8        30355\n",
      "11       95475\n",
      "13       25200\n",
      "15       17665\n",
      "17       11626\n",
      "18        4245\n",
      "19       14856\n",
      "20       12441\n",
      "23       19380\n",
      "25       36443\n",
      "27        4292\n",
      "41       14462\n",
      "44        7415\n",
      "47       15385\n",
      "50       11829\n",
      "52       19964\n",
      "54       16243\n",
      "63        7176\n",
      "66       10886\n",
      "68       28099\n",
      "70       11587\n",
      "73       18128\n",
      "76       44728\n",
      "81        3086\n",
      "85        6017\n",
      "86        4656\n",
      "88         786\n",
      "91         860\n",
      "94         206\n",
      "95        1007\n",
      "97         399\n",
      "99         516\n",
      "99999        8\n",
      "Name: ESTU_COD_RESIDE_DEPTO, dtype: int64\n",
      "Elementos null/NaN 1333\n",
      "__________________\n",
      "Elementos diferentes de null/NaN: 571795\n",
      "__________________\n",
      "(571795,)\n",
      "None\n"
     ]
    }
   ],
   "source": [
    "c = 'ESTU_COD_RESIDE_DEPTO'\n",
    "print(data_2015_2[c].value_counts().sort_index().index)\n",
    "print(data_2015_2[c].value_counts().sort_index())\n",
    "print(missing_data(data_2015_2[c]))"
   ]
  },
  {
   "cell_type": "code",
   "execution_count": 229,
   "metadata": {
    "collapsed": false
   },
   "outputs": [
    {
     "name": "stdout",
     "output_type": "stream",
     "text": [
      "cant null antes: 1341\n",
      "cant null despues: 1\n",
      "cant null antes: 1\n",
      "cant null despues: 0\n"
     ]
    }
   ],
   "source": [
    "data_2015_2[c] = data_2015_2[c].replace(99999, np.nan)\n",
    "Do_resamples(data_2015_2, c, float)"
   ]
  },
  {
   "cell_type": "code",
   "execution_count": 230,
   "metadata": {
    "collapsed": false
   },
   "outputs": [
    {
     "name": "stdout",
     "output_type": "stream",
     "text": [
      "Index(['N', 'S'], dtype='object')\n",
      "N    571782\n",
      "S      1344\n",
      "Name: ESTU_PRIVADO_LIBERTAD, dtype: int64\n",
      "Elementos null/NaN 2\n",
      "__________________\n",
      "Elementos diferentes de null/NaN: 573126\n",
      "__________________\n",
      "(573126,)\n",
      "None\n"
     ]
    }
   ],
   "source": [
    "c = 'ESTU_PRIVADO_LIBERTAD'\n",
    "print(data_2015_2[c].value_counts().sort_index().index)\n",
    "print(data_2015_2[c].value_counts().sort_index())\n",
    "print(missing_data(data_2015_2[c]))"
   ]
  },
  {
   "cell_type": "code",
   "execution_count": 231,
   "metadata": {
    "collapsed": false,
    "scrolled": true
   },
   "outputs": [
    {
     "name": "stdout",
     "output_type": "stream",
     "text": [
      "Float64Index([1980.0, 1981.0, 1982.0, 1983.0, 1984.0, 1985.0, 1986.0, 1987.0,\n",
      "              1988.0, 1989.0, 1990.0, 1991.0, 1992.0, 1993.0, 1994.0, 1995.0,\n",
      "              1996.0, 1997.0, 1998.0, 1999.0, 2000.0, 2001.0, 2002.0, 2003.0,\n",
      "              2004.0, 2005.0, 2006.0, 2007.0, 2008.0, 2009.0, 2010.0, 2011.0,\n",
      "              2012.0, 2013.0, 2014.0, 2015.0],\n",
      "             dtype='float64')\n",
      "1980      84\n",
      "1981      14\n",
      "1982      11\n",
      "1983      12\n",
      "1984      16\n",
      "1985      25\n",
      "1986      25\n",
      "1987      15\n",
      "1988      24\n",
      "1989      27\n",
      "1990      41\n",
      "1991      41\n",
      "1992      47\n",
      "1993      52\n",
      "1994      73\n",
      "1995      87\n",
      "1996     112\n",
      "1997     128\n",
      "1998     169\n",
      "1999     202\n",
      "2000     230\n",
      "2001     261\n",
      "2002     293\n",
      "2003     367\n",
      "2004     456\n",
      "2005     456\n",
      "2006     477\n",
      "2007     626\n",
      "2008     837\n",
      "2009    1095\n",
      "2010    1337\n",
      "2011    1872\n",
      "2012    2522\n",
      "2013    3862\n",
      "2014    8825\n",
      "2015       1\n",
      "Name: ESTU_ANO_TERMINO_BACHILL, dtype: int64\n",
      "Elementos null/NaN 548406\n",
      "__________________\n",
      "Elementos diferentes de null/NaN: 24722\n",
      "__________________\n",
      "(24722,)\n",
      "None\n"
     ]
    }
   ],
   "source": [
    "c = 'ESTU_ANO_TERMINO_BACHILL'\n",
    "print(data_2015_2[c].value_counts().sort_index().index)\n",
    "print(data_2015_2[c].value_counts().sort_index())\n",
    "print(missing_data(data_2015_2[c]))"
   ]
  },
  {
   "cell_type": "code",
   "execution_count": 232,
   "metadata": {
    "collapsed": false
   },
   "outputs": [
    {
     "name": "stdout",
     "output_type": "stream",
     "text": [
      "cant null antes: 548406\n",
      "cant null despues: 2\n",
      "cant null antes: 2\n",
      "cant null despues: 0\n"
     ]
    }
   ],
   "source": [
    "Do_resamples(data_2015_2, c, float)"
   ]
  },
  {
   "cell_type": "code",
   "execution_count": 233,
   "metadata": {
    "collapsed": false,
    "scrolled": true
   },
   "outputs": [
    {
     "name": "stdout",
     "output_type": "stream",
     "text": [
      "Float64Index([1.0, 2.0, 3.0, 4.0, 5.0, 6.0, 7.0, 8.0, 9.0, 10.0, 11.0, 12.0], dtype='float64')\n",
      "1       126\n",
      "2       167\n",
      "3       174\n",
      "4       146\n",
      "5       170\n",
      "6      1457\n",
      "7      2165\n",
      "8       472\n",
      "9       324\n",
      "10      233\n",
      "11     6600\n",
      "12    12684\n",
      "Name: ESTU_MES_TERMINO_BACHILL, dtype: int64\n",
      "Elementos null/NaN 548410\n",
      "__________________\n",
      "Elementos diferentes de null/NaN: 24718\n",
      "__________________\n",
      "(24718,)\n",
      "None\n"
     ]
    }
   ],
   "source": [
    "c = 'ESTU_MES_TERMINO_BACHILL'\n",
    "print(data_2015_2[c].value_counts().sort_index().index)\n",
    "print(data_2015_2[c].value_counts().sort_index())\n",
    "print(missing_data(data_2015_2[c]))"
   ]
  },
  {
   "cell_type": "code",
   "execution_count": 234,
   "metadata": {
    "collapsed": false
   },
   "outputs": [
    {
     "name": "stdout",
     "output_type": "stream",
     "text": [
      "cant null antes: 548410\n",
      "cant null despues: 1\n",
      "cant null antes: 1\n",
      "cant null despues: 0\n"
     ]
    }
   ],
   "source": [
    "Do_resamples(data_2015_2, c, float)"
   ]
  },
  {
   "cell_type": "code",
   "execution_count": 235,
   "metadata": {
    "collapsed": false
   },
   "outputs": [
    {
     "name": "stdout",
     "output_type": "stream",
     "text": [
      "Index(['0 A 10 LIBROS', '11 A 25 LIBROS', '26 A 100 LIBROS',\n",
      "       'MÁS DE 100 LIBROS'],\n",
      "      dtype='object')\n",
      "0 A 10 LIBROS        279419\n",
      "11 A 25 LIBROS       158968\n",
      "26 A 100 LIBROS      102211\n",
      "MÁS DE 100 LIBROS     29203\n",
      "Name: ESTU_NUMERO_LIBROS, dtype: int64\n",
      "Elementos null/NaN 3327\n",
      "__________________\n",
      "Elementos diferentes de null/NaN: 569801\n",
      "__________________\n",
      "(569801,)\n",
      "None\n"
     ]
    }
   ],
   "source": [
    "c = 'ESTU_NUMERO_LIBROS'\n",
    "print(data_2015_2[c].value_counts().sort_index().index)\n",
    "print(data_2015_2[c].value_counts().sort_index())\n",
    "print(missing_data(data_2015_2[c]))"
   ]
  },
  {
   "cell_type": "code",
   "execution_count": 236,
   "metadata": {
    "collapsed": false
   },
   "outputs": [
    {
     "name": "stdout",
     "output_type": "stream",
     "text": [
      "cant null antes: 3327\n",
      "cant null despues: 0\n"
     ]
    }
   ],
   "source": [
    "Do_resamples(data_2015_2, c, str)"
   ]
  },
  {
   "cell_type": "code",
   "execution_count": 237,
   "metadata": {
    "collapsed": false,
    "scrolled": true
   },
   "outputs": [
    {
     "name": "stdout",
     "output_type": "stream",
     "text": [
      "Index(['  jose manuel rodriguez torices inem ',\n",
      "       ' Bachillerato Integral Del Quindio', ' Bernardo Arango Macias',\n",
      "       ' CENT EDUC DIST VEINTE DE JULIO', ' CENTRO JOHANN KEPLER -SEDE SUBA',\n",
      "       ' COL FUND STA ISABEL DE HUNGRIA', ' COLEGIO CESI',\n",
      "       ' COLEGIO DEPARTAMENTAL DE CAQUEZA ', ' COLEGIO DISTRITAL GARCES NAVAS',\n",
      "       ' COLEGIO JUAN LOZANO Y LOZANO',\n",
      "       ...\n",
      "       'villa del sur', 'villa santana', 'villasantana', 'villemar el carmen ',\n",
      "       'virginia gutierrez de pineda', 'wilian shesper', 'william shakespeare',\n",
      "       'willian shakespeare', 'zakurayima', 'ÍNSTITUCIÓN EDUCATIVA SAN JOSE'],\n",
      "      dtype='object', length=15448)\n",
      "  jose manuel rodriguez torices inem        1\n",
      " Bachillerato Integral Del Quindio          1\n",
      " Bernardo Arango Macias                     1\n",
      " CENT EDUC DIST VEINTE DE JULIO             1\n",
      " CENTRO JOHANN KEPLER -SEDE SUBA            1\n",
      " COL FUND STA ISABEL DE HUNGRIA             1\n",
      " COLEGIO CESI                               1\n",
      " COLEGIO DEPARTAMENTAL DE CAQUEZA           1\n",
      " COLEGIO DISTRITAL GARCES NAVAS             1\n",
      " COLEGIO JUAN LOZANO Y LOZANO               1\n",
      " COLEGIO MARIA GORETTI                      1\n",
      " Cepac                                      1\n",
      " Colegio La Estancia San Isidro Labrador    1\n",
      " Comercial Antonio Roldan Betancur          1\n",
      " Darío echandia                             1\n",
      " EL ROSARIO                                 1\n",
      " El Colegio las Orquídeas                   1\n",
      " Escuela Normal Superior San Carlos         1\n",
      " Escuela Normal Superior del Quindio        1\n",
      " General Alfredo Vasquez Cobo               1\n",
      " Gimnasio Gran Colombiano                   1\n",
      " I. E. campo hermoso                        1\n",
      " I.E JUAN BAUTISTA LA SALLE                 1\n",
      " I.E. juan manuel gonzalez                  1\n",
      " I.E.D. INTEGRADA DE TAUSA - SEDE PRINCI    1\n",
      " IED Juan Evangelista Gomez                 1\n",
      " INEM custodio garcia rovira                1\n",
      " INMACULADA CONCEPCION                      1\n",
      " INST EDU BELISARIO PEÑA PIÑEIRO            1\n",
      " INSTITUCION EDUCATIVA INEM Jorge isaacs    1\n",
      "                                           ..\n",
      "universidad la gran colombia                1\n",
      "universidad nacional abierta y a distanc    2\n",
      "universitario de caldas                     1\n",
      "uparsistem                                  4\n",
      "uparsistem                                  1\n",
      "urbano molina castro                        1\n",
      "uribesco                                    1\n",
      "uveros                                      1\n",
      "validacion icfes                            1\n",
      "valle del guamuez                           1\n",
      "veinte de Julio                             1\n",
      "veinte de julio                             2\n",
      "vicente azuero                              1\n",
      "vicente borrero costa                       2\n",
      "vicente garrido                             1\n",
      "victor camargo alvarez                      1\n",
      "victor manuel londoño                       1\n",
      "victor zubiria                              1\n",
      "vida nueva                                  1\n",
      "vida y paz                                  1\n",
      "villa del sur                               1\n",
      "villa santana                               1\n",
      "villasantana                                1\n",
      "villemar el carmen                          1\n",
      "virginia gutierrez de pineda                1\n",
      "wilian shesper                              1\n",
      "william shakespeare                         2\n",
      "willian shakespeare                         1\n",
      "zakurayima                                  2\n",
      "ÍNSTITUCIÓN EDUCATIVA SAN JOSE              1\n",
      "Name: ESTU_OTRO_PLANTEL, dtype: int64\n",
      "Elementos null/NaN 550060\n",
      "__________________\n",
      "Elementos diferentes de null/NaN: 23068\n",
      "__________________\n",
      "(23068,)\n",
      "None\n"
     ]
    }
   ],
   "source": [
    "c = 'ESTU_OTRO_PLANTEL'\n",
    "print(data_2015_2[c].value_counts().sort_index().index)\n",
    "print(data_2015_2[c].value_counts().sort_index())\n",
    "print(missing_data(data_2015_2[c]))"
   ]
  },
  {
   "cell_type": "code",
   "execution_count": 238,
   "metadata": {
    "collapsed": true
   },
   "outputs": [],
   "source": [
    "data_2015_2 = data_2015_2.drop(c, axis=1)"
   ]
  },
  {
   "cell_type": "code",
   "execution_count": 239,
   "metadata": {
    "collapsed": false,
    "scrolled": true
   },
   "outputs": [
    {
     "name": "stdout",
     "output_type": "stream",
     "text": [
      "Float64Index([  1.0,   5.0,  12.0,  28.0,  33.0,  39.0,  40.0,  41.0,  42.0,\n",
      "               45.0,  46.0,  47.0,  50.0,  54.0,  55.0,  57.0,  58.0,  65.0,\n",
      "               66.0,  76.0,  98.0,  99.0, 101.0, 110.0, 118.0, 119.0, 133.0,\n",
      "              144.0, 145.0, 160.0, 167.0, 168.0, 169.0, 171.0, 173.0, 174.0,\n",
      "              209.0, 235.0, 236.0, 241.0, 246.0],\n",
      "             dtype='float64')\n",
      "1      25141\n",
      "5          1\n",
      "12        11\n",
      "28         2\n",
      "33         5\n",
      "39         3\n",
      "40         1\n",
      "41         5\n",
      "42         9\n",
      "45         1\n",
      "46         5\n",
      "47         1\n",
      "50         8\n",
      "54         1\n",
      "55         1\n",
      "57         3\n",
      "58         2\n",
      "65        29\n",
      "66         2\n",
      "76         2\n",
      "98         1\n",
      "99         3\n",
      "101        1\n",
      "110        3\n",
      "118        5\n",
      "119        1\n",
      "133        1\n",
      "144       10\n",
      "145        2\n",
      "160        3\n",
      "167        1\n",
      "168        1\n",
      "169        1\n",
      "171       18\n",
      "173        1\n",
      "174       26\n",
      "209       34\n",
      "235        1\n",
      "236       31\n",
      "241      122\n",
      "246        1\n",
      "Name: ESTU_COD_OTRO_PAIS_PLANTEL, dtype: int64\n",
      "Elementos null/NaN 547628\n",
      "__________________\n",
      "Elementos diferentes de null/NaN: 25500\n",
      "__________________\n",
      "(25500,)\n",
      "None\n"
     ]
    }
   ],
   "source": [
    "c = 'ESTU_COD_OTRO_PAIS_PLANTEL'\n",
    "print(data_2015_2[c].value_counts().sort_index().index)\n",
    "print(data_2015_2[c].value_counts().sort_index())\n",
    "print(missing_data(data_2015_2[c]))"
   ]
  },
  {
   "cell_type": "code",
   "execution_count": 240,
   "metadata": {
    "collapsed": true
   },
   "outputs": [],
   "source": [
    "data_2015_2 = data_2015_2.drop(c, axis=1)"
   ]
  },
  {
   "cell_type": "code",
   "execution_count": 241,
   "metadata": {
    "collapsed": false
   },
   "outputs": [
    {
     "name": "stdout",
     "output_type": "stream",
     "text": [
      "Float64Index([1.0, 2.0, 3.0, 4.0, 5.0, 6.0], dtype='float64')\n",
      "1    427373\n",
      "2     38735\n",
      "3     18010\n",
      "4     11478\n",
      "5     23678\n",
      "6     25273\n",
      "Name: COLE_VALOR_PENSION, dtype: int64\n",
      "Elementos null/NaN 28581\n",
      "__________________\n",
      "Elementos diferentes de null/NaN: 544547\n",
      "__________________\n",
      "(544547,)\n",
      "None\n"
     ]
    }
   ],
   "source": [
    "c = 'COLE_VALOR_PENSION'\n",
    "print(data_2015_2[c].value_counts().sort_index().index)\n",
    "print(data_2015_2[c].value_counts().sort_index())\n",
    "print(missing_data(data_2015_2[c]))"
   ]
  },
  {
   "cell_type": "code",
   "execution_count": 242,
   "metadata": {
    "collapsed": false
   },
   "outputs": [
    {
     "name": "stdout",
     "output_type": "stream",
     "text": [
      "cant null antes: 28581\n",
      "cant null despues: 1\n",
      "cant null antes: 1\n",
      "cant null despues: 0\n"
     ]
    }
   ],
   "source": [
    "Do_resamples(data_2015_2, c, float)"
   ]
  },
  {
   "cell_type": "code",
   "execution_count": 243,
   "metadata": {
    "collapsed": false
   },
   "outputs": [
    {
     "name": "stdout",
     "output_type": "stream",
     "text": [
      "Index(['CUATRO', 'DOS', 'TRES', 'UNA'], dtype='object')\n",
      "CUATRO       293\n",
      "DOS         8049\n",
      "TRES         601\n",
      "UNA       535545\n",
      "Name: ESTU_VECES_ESTADO_ESTUDIANTIL, dtype: int64\n",
      "Elementos null/NaN 28640\n",
      "__________________\n",
      "Elementos diferentes de null/NaN: 544488\n",
      "__________________\n",
      "(544488,)\n",
      "None\n"
     ]
    }
   ],
   "source": [
    "c = 'ESTU_VECES_ESTADO_ESTUDIANTIL'\n",
    "print(data_2015_2[c].value_counts().sort_index().index)\n",
    "print(data_2015_2[c].value_counts().sort_index())\n",
    "print(missing_data(data_2015_2[c]))"
   ]
  },
  {
   "cell_type": "code",
   "execution_count": 244,
   "metadata": {
    "collapsed": false
   },
   "outputs": [
    {
     "name": "stdout",
     "output_type": "stream",
     "text": [
      "cant null antes: 28640\n",
      "cant null despues: 0\n"
     ]
    }
   ],
   "source": [
    "Do_resamples(data_2015_2, c, str)"
   ]
  },
  {
   "cell_type": "code",
   "execution_count": 245,
   "metadata": {
    "collapsed": false
   },
   "outputs": [
    {
     "name": "stdout",
     "output_type": "stream",
     "text": [
      "Float64Index([1.0, 2.0, 3.0, 4.0, 5.0, 6.0, 7.0, 8.0, 9.0, 10.0, 11.0], dtype='float64')\n",
      "1      26607\n",
      "2     103455\n",
      "3      99253\n",
      "4      77702\n",
      "5     140538\n",
      "6       9798\n",
      "7      30678\n",
      "8       6434\n",
      "9      43918\n",
      "10      9348\n",
      "11     22070\n",
      "Name: FAMI_EDUCA_PADRE, dtype: int64\n",
      "Elementos null/NaN 3327\n",
      "__________________\n",
      "Elementos diferentes de null/NaN: 569801\n",
      "__________________\n",
      "(569801,)\n",
      "None\n"
     ]
    }
   ],
   "source": [
    "c = 'FAMI_EDUCA_PADRE'\n",
    "print(data_2015_2[c].value_counts().sort_index().index)\n",
    "print(data_2015_2[c].value_counts().sort_index())\n",
    "print(missing_data(data_2015_2[c]))"
   ]
  },
  {
   "cell_type": "code",
   "execution_count": 246,
   "metadata": {
    "collapsed": false
   },
   "outputs": [
    {
     "name": "stdout",
     "output_type": "stream",
     "text": [
      "cant null antes: 3327\n",
      "cant null despues: 0\n"
     ]
    }
   ],
   "source": [
    "Do_resamples(data_2015_2, c, float)"
   ]
  },
  {
   "cell_type": "code",
   "execution_count": 247,
   "metadata": {
    "collapsed": false
   },
   "outputs": [
    {
     "name": "stdout",
     "output_type": "stream",
     "text": [
      "Float64Index([1.0, 2.0, 3.0, 4.0, 5.0, 6.0, 7.0, 8.0, 9.0, 10.0, 11.0], dtype='float64')\n",
      "1      12843\n",
      "2      88001\n",
      "3      96707\n",
      "4      88924\n",
      "5     161015\n",
      "6      11433\n",
      "7      40258\n",
      "8       7203\n",
      "9      45846\n",
      "10      9507\n",
      "11      8064\n",
      "Name: FAMI_EDUCA_MADRE, dtype: int64\n",
      "Elementos null/NaN 3327\n",
      "__________________\n",
      "Elementos diferentes de null/NaN: 569801\n",
      "__________________\n",
      "(569801,)\n",
      "None\n"
     ]
    }
   ],
   "source": [
    "c = 'FAMI_EDUCA_MADRE'\n",
    "print(data_2015_2[c].value_counts().sort_index().index)\n",
    "print(data_2015_2[c].value_counts().sort_index())\n",
    "print(missing_data(data_2015_2[c]))"
   ]
  },
  {
   "cell_type": "code",
   "execution_count": 248,
   "metadata": {
    "collapsed": false
   },
   "outputs": [
    {
     "name": "stdout",
     "output_type": "stream",
     "text": [
      "cant null antes: 3327\n",
      "cant null despues: 0\n"
     ]
    }
   ],
   "source": [
    "Do_resamples(data_2015_2, c, float)"
   ]
  },
  {
   "cell_type": "code",
   "execution_count": 249,
   "metadata": {
    "collapsed": false
   },
   "outputs": [
    {
     "name": "stdout",
     "output_type": "stream",
     "text": [
      "Float64Index([1.0, 2.0, 3.0, 4.0, 5.0, 6.0, 7.0, 8.0, 9.0, 10.0, 11.0, 12.0], dtype='float64')\n",
      "1      10582\n",
      "2      10868\n",
      "3       9543\n",
      "4       4724\n",
      "5      43123\n",
      "6      10449\n",
      "7     134194\n",
      "8      13437\n",
      "9     215134\n",
      "10      5504\n",
      "11     16809\n",
      "12     95434\n",
      "Name: FAMI_OCUPA_PADRE, dtype: int64\n",
      "Elementos null/NaN 3327\n",
      "__________________\n",
      "Elementos diferentes de null/NaN: 569801\n",
      "__________________\n",
      "(569801,)\n",
      "None\n"
     ]
    }
   ],
   "source": [
    "c = 'FAMI_OCUPA_PADRE'\n",
    "print(data_2015_2[c].value_counts().sort_index().index)\n",
    "print(data_2015_2[c].value_counts().sort_index())\n",
    "print(missing_data(data_2015_2[c]))"
   ]
  },
  {
   "cell_type": "code",
   "execution_count": 250,
   "metadata": {
    "collapsed": false
   },
   "outputs": [
    {
     "name": "stdout",
     "output_type": "stream",
     "text": [
      "cant null antes: 3327\n",
      "cant null despues: 0\n"
     ]
    }
   ],
   "source": [
    "Do_resamples(data_2015_2, c, float)"
   ]
  },
  {
   "cell_type": "code",
   "execution_count": 251,
   "metadata": {
    "collapsed": false
   },
   "outputs": [
    {
     "name": "stdout",
     "output_type": "stream",
     "text": [
      "Float64Index([1.0, 2.0, 3.0, 4.0, 5.0, 6.0, 7.0, 8.0, 9.0, 10.0, 11.0, 12.0], dtype='float64')\n",
      "1       4639\n",
      "2       9867\n",
      "3       4971\n",
      "4       6194\n",
      "5      35114\n",
      "6      27401\n",
      "7      43623\n",
      "8      14326\n",
      "9      68424\n",
      "10    300110\n",
      "11      5106\n",
      "12     50026\n",
      "Name: FAMI_OCUPA_MADRE, dtype: int64\n",
      "Elementos null/NaN 3327\n",
      "__________________\n",
      "Elementos diferentes de null/NaN: 569801\n",
      "__________________\n",
      "(569801,)\n",
      "None\n"
     ]
    }
   ],
   "source": [
    "c = 'FAMI_OCUPA_MADRE'\n",
    "print(data_2015_2[c].value_counts().sort_index().index)\n",
    "print(data_2015_2[c].value_counts().sort_index())\n",
    "print(missing_data(data_2015_2[c]))"
   ]
  },
  {
   "cell_type": "code",
   "execution_count": 252,
   "metadata": {
    "collapsed": false
   },
   "outputs": [
    {
     "name": "stdout",
     "output_type": "stream",
     "text": [
      "cant null antes: 3327\n",
      "cant null despues: 0\n"
     ]
    }
   ],
   "source": [
    "Do_resamples(data_2015_2, c, float)"
   ]
  },
  {
   "cell_type": "code",
   "execution_count": 253,
   "metadata": {
    "collapsed": false
   },
   "outputs": [
    {
     "name": "stdout",
     "output_type": "stream",
     "text": [
      "Float64Index([0.0, 1.0, 2.0, 3.0, 4.0, 5.0, 6.0], dtype='float64')\n",
      "0         3\n",
      "1    252071\n",
      "2    198069\n",
      "3     95219\n",
      "4     18778\n",
      "5      5453\n",
      "6      2143\n",
      "Name: FAMI_ESTRATO_VIVIENDA, dtype: int64\n",
      "Elementos null/NaN 1392\n",
      "__________________\n",
      "Elementos diferentes de null/NaN: 571736\n",
      "__________________\n",
      "(571736,)\n",
      "None\n"
     ]
    }
   ],
   "source": [
    "c = 'FAMI_ESTRATO_VIVIENDA'\n",
    "print(data_2015_2[c].value_counts().sort_index().index)\n",
    "print(data_2015_2[c].value_counts().sort_index())\n",
    "print(missing_data(data_2015_2[c]))"
   ]
  },
  {
   "cell_type": "code",
   "execution_count": 254,
   "metadata": {
    "collapsed": false
   },
   "outputs": [
    {
     "name": "stdout",
     "output_type": "stream",
     "text": [
      "cant null antes: 1392\n",
      "cant null despues: 0\n"
     ]
    }
   ],
   "source": [
    "Do_resamples(data_2015_2, c, float)"
   ]
  },
  {
   "cell_type": "code",
   "execution_count": 255,
   "metadata": {
    "collapsed": false
   },
   "outputs": [
    {
     "name": "stdout",
     "output_type": "stream",
     "text": [
      "Float64Index([1.0, 2.0, 3.0, 4.0, 5.0], dtype='float64')\n",
      "1    282372\n",
      "2    126361\n",
      "3     20512\n",
      "4      3928\n",
      "5    136628\n",
      "Name: FAMI_NIVEL_SISBEN, dtype: int64\n",
      "Elementos null/NaN 3327\n",
      "__________________\n",
      "Elementos diferentes de null/NaN: 569801\n",
      "__________________\n",
      "(569801,)\n",
      "None\n"
     ]
    }
   ],
   "source": [
    "c = 'FAMI_NIVEL_SISBEN'\n",
    "print(data_2015_2[c].value_counts().sort_index().index)\n",
    "print(data_2015_2[c].value_counts().sort_index())\n",
    "print(missing_data(data_2015_2[c]))"
   ]
  },
  {
   "cell_type": "code",
   "execution_count": 256,
   "metadata": {
    "collapsed": false
   },
   "outputs": [
    {
     "name": "stdout",
     "output_type": "stream",
     "text": [
      "cant null antes: 3327\n",
      "cant null despues: 0\n"
     ]
    }
   ],
   "source": [
    "Do_resamples(data_2015_2, c, float)"
   ]
  },
  {
   "cell_type": "code",
   "execution_count": 257,
   "metadata": {
    "collapsed": false
   },
   "outputs": [
    {
     "name": "stdout",
     "output_type": "stream",
     "text": [
      "Float64Index([1.0, 2.0, 3.0, 4.0, 5.0, 6.0, 7.0, 8.0, 9.0, 10.0, 11.0, 12.0], dtype='float64')\n",
      "1       3855\n",
      "2      30352\n",
      "3     100366\n",
      "4     172970\n",
      "5     134964\n",
      "6      64633\n",
      "7      30155\n",
      "8      15792\n",
      "9       6639\n",
      "10      4569\n",
      "11      2085\n",
      "12      3421\n",
      "Name: FAMI_PERSONAS_HOGAR, dtype: int64\n",
      "Elementos null/NaN 3327\n",
      "__________________\n",
      "Elementos diferentes de null/NaN: 569801\n",
      "__________________\n",
      "(569801,)\n",
      "None\n"
     ]
    }
   ],
   "source": [
    "c = 'FAMI_PERSONAS_HOGAR'\n",
    "print(data_2015_2[c].value_counts().sort_index().index)\n",
    "print(data_2015_2[c].value_counts().sort_index())\n",
    "print(missing_data(data_2015_2[c]))"
   ]
  },
  {
   "cell_type": "code",
   "execution_count": 258,
   "metadata": {
    "collapsed": false
   },
   "outputs": [
    {
     "name": "stdout",
     "output_type": "stream",
     "text": [
      "cant null antes: 3327\n",
      "cant null despues: 0\n"
     ]
    }
   ],
   "source": [
    "Do_resamples(data_2015_2, c, float)"
   ]
  },
  {
   "cell_type": "code",
   "execution_count": 259,
   "metadata": {
    "collapsed": false
   },
   "outputs": [
    {
     "name": "stdout",
     "output_type": "stream",
     "text": [
      "Float64Index([1.0, 2.0, 3.0, 4.0, 5.0, 6.0, 7.0, 8.0, 9.0, 10.0], dtype='float64')\n",
      "1      22170\n",
      "2     206285\n",
      "3     237565\n",
      "4      72625\n",
      "5      20036\n",
      "6       6552\n",
      "7       2310\n",
      "8       1265\n",
      "9        399\n",
      "10       594\n",
      "Name: FAMI_CUARTOS_HOGAR, dtype: int64\n",
      "Elementos null/NaN 3327\n",
      "__________________\n",
      "Elementos diferentes de null/NaN: 569801\n",
      "__________________\n",
      "(569801,)\n",
      "None\n"
     ]
    }
   ],
   "source": [
    "c = 'FAMI_CUARTOS_HOGAR'\n",
    "print(data_2015_2[c].value_counts().sort_index().index)\n",
    "print(data_2015_2[c].value_counts().sort_index())\n",
    "print(missing_data(data_2015_2[c]))"
   ]
  },
  {
   "cell_type": "code",
   "execution_count": 260,
   "metadata": {
    "collapsed": false
   },
   "outputs": [
    {
     "name": "stdout",
     "output_type": "stream",
     "text": [
      "cant null antes: 3327\n",
      "cant null despues: 3\n",
      "cant null antes: 3\n",
      "cant null despues: 0\n"
     ]
    }
   ],
   "source": [
    "Do_resamples(data_2015_2, c, float)"
   ]
  },
  {
   "cell_type": "code",
   "execution_count": 261,
   "metadata": {
    "collapsed": false
   },
   "outputs": [
    {
     "name": "stdout",
     "output_type": "stream",
     "text": [
      "Float64Index([1.0, 2.0, 3.0, 4.0], dtype='float64')\n",
      "1     33294\n",
      "2    252124\n",
      "3     30082\n",
      "4    254301\n",
      "Name: FAMI_PISOSHOGAR, dtype: int64\n",
      "Elementos null/NaN 3327\n",
      "__________________\n",
      "Elementos diferentes de null/NaN: 569801\n",
      "__________________\n",
      "(569801,)\n",
      "None\n"
     ]
    }
   ],
   "source": [
    "c = 'FAMI_PISOSHOGAR'\n",
    "print(data_2015_2[c].value_counts().sort_index().index)\n",
    "print(data_2015_2[c].value_counts().sort_index())\n",
    "print(missing_data(data_2015_2[c]))"
   ]
  },
  {
   "cell_type": "code",
   "execution_count": 262,
   "metadata": {
    "collapsed": false
   },
   "outputs": [
    {
     "name": "stdout",
     "output_type": "stream",
     "text": [
      "cant null antes: 3327\n",
      "cant null despues: 0\n"
     ]
    }
   ],
   "source": [
    "Do_resamples(data_2015_2, c, float)"
   ]
  },
  {
   "cell_type": "code",
   "execution_count": 263,
   "metadata": {
    "collapsed": false
   },
   "outputs": [
    {
     "name": "stdout",
     "output_type": "stream",
     "text": [
      "Index(['N', 'S'], dtype='object')\n",
      "N    319223\n",
      "S    250578\n",
      "Name: FAMI_TELEFONO_FIJO, dtype: int64\n",
      "Elementos null/NaN 3327\n",
      "__________________\n",
      "Elementos diferentes de null/NaN: 569801\n",
      "__________________\n",
      "(569801,)\n",
      "None\n"
     ]
    }
   ],
   "source": [
    "c = 'FAMI_TELEFONO_FIJO'\n",
    "print(data_2015_2[c].value_counts().sort_index().index)\n",
    "print(data_2015_2[c].value_counts().sort_index())\n",
    "print(missing_data(data_2015_2[c]))"
   ]
  },
  {
   "cell_type": "code",
   "execution_count": 264,
   "metadata": {
    "collapsed": false
   },
   "outputs": [
    {
     "name": "stdout",
     "output_type": "stream",
     "text": [
      "cant null antes: 3327\n",
      "cant null despues: 0\n"
     ]
    }
   ],
   "source": [
    "Do_resamples(data_2015_2, c, str)"
   ]
  },
  {
   "cell_type": "code",
   "execution_count": 265,
   "metadata": {
    "collapsed": false
   },
   "outputs": [
    {
     "name": "stdout",
     "output_type": "stream",
     "text": [
      "Index(['N', 'S'], dtype='object')\n",
      "N    273548\n",
      "S    296253\n",
      "Name: FAMI_INTERNET, dtype: int64\n",
      "Elementos null/NaN 3327\n",
      "__________________\n",
      "Elementos diferentes de null/NaN: 569801\n",
      "__________________\n",
      "(569801,)\n",
      "None\n"
     ]
    }
   ],
   "source": [
    "c = 'FAMI_INTERNET'\n",
    "print(data_2015_2[c].value_counts().sort_index().index)\n",
    "print(data_2015_2[c].value_counts().sort_index())\n",
    "print(missing_data(data_2015_2[c]))"
   ]
  },
  {
   "cell_type": "code",
   "execution_count": 266,
   "metadata": {
    "collapsed": false
   },
   "outputs": [
    {
     "name": "stdout",
     "output_type": "stream",
     "text": [
      "cant null antes: 3327\n",
      "cant null despues: 0\n"
     ]
    }
   ],
   "source": [
    "Do_resamples(data_2015_2, c, str)"
   ]
  },
  {
   "cell_type": "code",
   "execution_count": 267,
   "metadata": {
    "collapsed": false
   },
   "outputs": [
    {
     "name": "stdout",
     "output_type": "stream",
     "text": [
      "Index(['N', 'S'], dtype='object')\n",
      "N    191018\n",
      "S    378783\n",
      "Name: FAMI_SERVICIO_TELEVISION, dtype: int64\n",
      "Elementos null/NaN 3327\n",
      "__________________\n",
      "Elementos diferentes de null/NaN: 569801\n",
      "__________________\n",
      "(569801,)\n",
      "None\n"
     ]
    }
   ],
   "source": [
    "c = 'FAMI_SERVICIO_TELEVISION'\n",
    "print(data_2015_2[c].value_counts().sort_index().index)\n",
    "print(data_2015_2[c].value_counts().sort_index())\n",
    "print(missing_data(data_2015_2[c]))"
   ]
  },
  {
   "cell_type": "code",
   "execution_count": 268,
   "metadata": {
    "collapsed": false
   },
   "outputs": [
    {
     "name": "stdout",
     "output_type": "stream",
     "text": [
      "cant null antes: 3327\n",
      "cant null despues: 0\n"
     ]
    }
   ],
   "source": [
    "Do_resamples(data_2015_2, c, str)"
   ]
  },
  {
   "cell_type": "code",
   "execution_count": 269,
   "metadata": {
    "collapsed": false
   },
   "outputs": [
    {
     "name": "stdout",
     "output_type": "stream",
     "text": [
      "Index(['N', 'S'], dtype='object')\n",
      "N    223130\n",
      "S    346671\n",
      "Name: FAMI_COMPUTADOR, dtype: int64\n",
      "Elementos null/NaN 3327\n",
      "__________________\n",
      "Elementos diferentes de null/NaN: 569801\n",
      "__________________\n",
      "(569801,)\n",
      "None\n"
     ]
    }
   ],
   "source": [
    "c = 'FAMI_COMPUTADOR'\n",
    "print(data_2015_2[c].value_counts().sort_index().index)\n",
    "print(data_2015_2[c].value_counts().sort_index())\n",
    "print(missing_data(data_2015_2[c]))"
   ]
  },
  {
   "cell_type": "code",
   "execution_count": 270,
   "metadata": {
    "collapsed": false
   },
   "outputs": [
    {
     "name": "stdout",
     "output_type": "stream",
     "text": [
      "cant null antes: 3327\n",
      "cant null despues: 0\n"
     ]
    }
   ],
   "source": [
    "Do_resamples(data_2015_2, c, str)"
   ]
  },
  {
   "cell_type": "code",
   "execution_count": 271,
   "metadata": {
    "collapsed": false
   },
   "outputs": [
    {
     "name": "stdout",
     "output_type": "stream",
     "text": [
      "Index(['N', 'S'], dtype='object')\n",
      "N    219336\n",
      "S    350465\n",
      "Name: FAMI_DVD, dtype: int64\n",
      "Elementos null/NaN 3327\n",
      "__________________\n",
      "Elementos diferentes de null/NaN: 569801\n",
      "__________________\n",
      "(569801,)\n",
      "None\n"
     ]
    }
   ],
   "source": [
    "c = 'FAMI_DVD'\n",
    "print(data_2015_2[c].value_counts().sort_index().index)\n",
    "print(data_2015_2[c].value_counts().sort_index())\n",
    "print(missing_data(data_2015_2[c]))"
   ]
  },
  {
   "cell_type": "code",
   "execution_count": 272,
   "metadata": {
    "collapsed": false
   },
   "outputs": [
    {
     "name": "stdout",
     "output_type": "stream",
     "text": [
      "cant null antes: 3327\n",
      "cant null despues: 0\n"
     ]
    }
   ],
   "source": [
    "Do_resamples(data_2015_2, c, str)"
   ]
  },
  {
   "cell_type": "code",
   "execution_count": 273,
   "metadata": {
    "collapsed": false
   },
   "outputs": [
    {
     "name": "stdout",
     "output_type": "stream",
     "text": [
      "Index(['N', 'S'], dtype='object')\n",
      "N    189530\n",
      "S    380271\n",
      "Name: FAMI_LAVADORA, dtype: int64\n",
      "Elementos null/NaN 3327\n",
      "__________________\n",
      "Elementos diferentes de null/NaN: 569801\n",
      "__________________\n",
      "(569801,)\n",
      "None\n"
     ]
    }
   ],
   "source": [
    "c = 'FAMI_LAVADORA'\n",
    "print(data_2015_2[c].value_counts().sort_index().index)\n",
    "print(data_2015_2[c].value_counts().sort_index())\n",
    "print(missing_data(data_2015_2[c]))"
   ]
  },
  {
   "cell_type": "code",
   "execution_count": 274,
   "metadata": {
    "collapsed": false
   },
   "outputs": [
    {
     "name": "stdout",
     "output_type": "stream",
     "text": [
      "cant null antes: 3327\n",
      "cant null despues: 0\n"
     ]
    }
   ],
   "source": [
    "Do_resamples(data_2015_2, c, str)"
   ]
  },
  {
   "cell_type": "code",
   "execution_count": 275,
   "metadata": {
    "collapsed": false
   },
   "outputs": [
    {
     "name": "stdout",
     "output_type": "stream",
     "text": [
      "Index(['N', 'S'], dtype='object')\n",
      "N    397289\n",
      "S    172512\n",
      "Name: FAMI_MICROONDAS, dtype: int64\n",
      "Elementos null/NaN 3327\n",
      "__________________\n",
      "Elementos diferentes de null/NaN: 569801\n",
      "__________________\n",
      "(569801,)\n",
      "None\n"
     ]
    }
   ],
   "source": [
    "c = 'FAMI_MICROONDAS'\n",
    "print(data_2015_2[c].value_counts().sort_index().index)\n",
    "print(data_2015_2[c].value_counts().sort_index())\n",
    "print(missing_data(data_2015_2[c]))"
   ]
  },
  {
   "cell_type": "code",
   "execution_count": 276,
   "metadata": {
    "collapsed": false
   },
   "outputs": [
    {
     "name": "stdout",
     "output_type": "stream",
     "text": [
      "cant null antes: 3327\n",
      "cant null despues: 0\n"
     ]
    }
   ],
   "source": [
    "Do_resamples(data_2015_2, c, str)"
   ]
  },
  {
   "cell_type": "code",
   "execution_count": 277,
   "metadata": {
    "collapsed": false
   },
   "outputs": [
    {
     "name": "stdout",
     "output_type": "stream",
     "text": [
      "Index(['N', 'S'], dtype='object')\n",
      "N    456543\n",
      "S    113258\n",
      "Name: FAMI_AUTOMOVIL, dtype: int64\n",
      "Elementos null/NaN 3327\n",
      "__________________\n",
      "Elementos diferentes de null/NaN: 569801\n",
      "__________________\n",
      "(569801,)\n",
      "None\n"
     ]
    }
   ],
   "source": [
    "c = 'FAMI_AUTOMOVIL'\n",
    "print(data_2015_2[c].value_counts().sort_index().index)\n",
    "print(data_2015_2[c].value_counts().sort_index())\n",
    "print(missing_data(data_2015_2[c]))"
   ]
  },
  {
   "cell_type": "code",
   "execution_count": 278,
   "metadata": {
    "collapsed": false
   },
   "outputs": [
    {
     "name": "stdout",
     "output_type": "stream",
     "text": [
      "cant null antes: 3327\n",
      "cant null despues: 0\n"
     ]
    }
   ],
   "source": [
    "Do_resamples(data_2015_2, c, str)"
   ]
  },
  {
   "cell_type": "code",
   "execution_count": 279,
   "metadata": {
    "collapsed": false
   },
   "outputs": [
    {
     "name": "stdout",
     "output_type": "stream",
     "text": [
      "Index(['N', 'S'], dtype='object')\n",
      "N    337525\n",
      "S    232275\n",
      "Name: FAMI_HORNO, dtype: int64\n",
      "Elementos null/NaN 3328\n",
      "__________________\n",
      "Elementos diferentes de null/NaN: 569800\n",
      "__________________\n",
      "(569800,)\n",
      "None\n"
     ]
    }
   ],
   "source": [
    "c = 'FAMI_HORNO'\n",
    "print(data_2015_2[c].value_counts().sort_index().index)\n",
    "print(data_2015_2[c].value_counts().sort_index())\n",
    "print(missing_data(data_2015_2[c]))"
   ]
  },
  {
   "cell_type": "code",
   "execution_count": 280,
   "metadata": {
    "collapsed": false
   },
   "outputs": [
    {
     "name": "stdout",
     "output_type": "stream",
     "text": [
      "cant null antes: 3328\n",
      "cant null despues: 0\n"
     ]
    }
   ],
   "source": [
    "Do_resamples(data_2015_2, c, str)"
   ]
  },
  {
   "cell_type": "code",
   "execution_count": 281,
   "metadata": {
    "collapsed": false
   },
   "outputs": [
    {
     "name": "stdout",
     "output_type": "stream",
     "text": [
      "Float64Index([1.0, 2.0, 3.0, 4.0, 5.0, 6.0, 7.0], dtype='float64')\n",
      "1    163178\n",
      "2    257293\n",
      "3     90488\n",
      "4     36819\n",
      "5     11306\n",
      "6      5768\n",
      "7      4949\n",
      "Name: FAMI_INGRESO_FMILIAR_MENSUAL, dtype: int64\n",
      "Elementos null/NaN 3327\n",
      "__________________\n",
      "Elementos diferentes de null/NaN: 569801\n",
      "__________________\n",
      "(569801,)\n",
      "None\n"
     ]
    }
   ],
   "source": [
    "c = 'FAMI_INGRESO_FMILIAR_MENSUAL'\n",
    "print(data_2015_2[c].value_counts().sort_index().index)\n",
    "print(data_2015_2[c].value_counts().sort_index())\n",
    "print(missing_data(data_2015_2[c]))"
   ]
  },
  {
   "cell_type": "code",
   "execution_count": 282,
   "metadata": {
    "collapsed": false
   },
   "outputs": [
    {
     "name": "stdout",
     "output_type": "stream",
     "text": [
      "cant null antes: 3327\n",
      "cant null despues: 0\n"
     ]
    }
   ],
   "source": [
    "Do_resamples(data_2015_2, c, float)"
   ]
  },
  {
   "cell_type": "code",
   "execution_count": 283,
   "metadata": {
    "collapsed": false
   },
   "outputs": [
    {
     "name": "stdout",
     "output_type": "stream",
     "text": [
      "Float64Index([1.0, 2.0, 3.0], dtype='float64')\n",
      "1    495277\n",
      "2     29916\n",
      "3     19366\n",
      "Name: ESTU_TRABAJA, dtype: int64\n",
      "Elementos null/NaN 28569\n",
      "__________________\n",
      "Elementos diferentes de null/NaN: 544559\n",
      "__________________\n",
      "(544559,)\n",
      "None\n"
     ]
    }
   ],
   "source": [
    "c = 'ESTU_TRABAJA'\n",
    "print(data_2015_2[c].value_counts().sort_index().index)\n",
    "print(data_2015_2[c].value_counts().sort_index())\n",
    "print(missing_data(data_2015_2[c]))"
   ]
  },
  {
   "cell_type": "code",
   "execution_count": 284,
   "metadata": {
    "collapsed": false
   },
   "outputs": [
    {
     "name": "stdout",
     "output_type": "stream",
     "text": [
      "cant null antes: 28569\n",
      "cant null despues: 0\n"
     ]
    }
   ],
   "source": [
    "Do_resamples(data_2015_2, c, float)"
   ]
  },
  {
   "cell_type": "code",
   "execution_count": 285,
   "metadata": {
    "collapsed": false
   },
   "outputs": [
    {
     "name": "stdout",
     "output_type": "stream",
     "text": [
      "Index(['N', 'S'], dtype='object')\n",
      "N     2776\n",
      "S    46095\n",
      "Name: ESTU_RECIBE_SALARIO, dtype: int64\n",
      "Elementos null/NaN 524257\n",
      "__________________\n",
      "Elementos diferentes de null/NaN: 48871\n",
      "__________________\n",
      "(48871,)\n",
      "None\n"
     ]
    }
   ],
   "source": [
    "c = 'ESTU_RECIBE_SALARIO'\n",
    "print(data_2015_2[c].value_counts().sort_index().index)\n",
    "print(data_2015_2[c].value_counts().sort_index())\n",
    "print(missing_data(data_2015_2[c]))"
   ]
  },
  {
   "cell_type": "code",
   "execution_count": 286,
   "metadata": {
    "collapsed": false
   },
   "outputs": [
    {
     "name": "stdout",
     "output_type": "stream",
     "text": [
      "cant null antes: 524257\n",
      "cant null despues: 0\n"
     ]
    }
   ],
   "source": [
    "Do_resamples(data_2015_2, c, str)"
   ]
  },
  {
   "cell_type": "code",
   "execution_count": 287,
   "metadata": {
    "collapsed": false
   },
   "outputs": [
    {
     "name": "stdout",
     "output_type": "stream",
     "text": [
      "Float64Index([1.0, 2.0, 3.0, 4.0], dtype='float64')\n",
      "1    12684\n",
      "2     7823\n",
      "3     2961\n",
      "4     1553\n",
      "Name: ESTU_VECES_ESTADO, dtype: int64\n",
      "Elementos null/NaN 548107\n",
      "__________________\n",
      "Elementos diferentes de null/NaN: 25021\n",
      "__________________\n",
      "(25021,)\n",
      "None\n"
     ]
    }
   ],
   "source": [
    "c = 'ESTU_VECES_ESTADO'\n",
    "print(data_2015_2[c].value_counts().sort_index().index)\n",
    "print(data_2015_2[c].value_counts().sort_index())\n",
    "print(missing_data(data_2015_2[c]))"
   ]
  },
  {
   "cell_type": "code",
   "execution_count": 288,
   "metadata": {
    "collapsed": false
   },
   "outputs": [
    {
     "name": "stdout",
     "output_type": "stream",
     "text": [
      "cant null antes: 548107\n",
      "cant null despues: 0\n"
     ]
    }
   ],
   "source": [
    "Do_resamples(data_2015_2, c, float)"
   ]
  },
  {
   "cell_type": "code",
   "execution_count": 289,
   "metadata": {
    "collapsed": false,
    "scrolled": true
   },
   "outputs": [
    {
     "name": "stdout",
     "output_type": "stream",
     "text": [
      "Index([                                     '0',\n",
      "                                        '17794',\n",
      "                                         '1035',\n",
      "                                        '19362',\n",
      "                                        '18271',\n",
      "                                         '3552',\n",
      "                                        '21888',\n",
      "                                        '21981',\n",
      "                                            0.0,\n",
      "                                         '2531',\n",
      "       ...\n",
      "         'FUNDACION INTEGRAL SIGLO XXI ARGELIA',\n",
      "                     'Sagrado Corazón de Jesús',\n",
      "            'E.T.A.R. JOSE ESCOLASTICO ANDRADE',\n",
      "                     'Liceo Juan German Roscio',\n",
      "       'Unidad Educativa Colegio \"Bella Vista\"',\n",
      "                                         '1311',\n",
      "                                         '7914',\n",
      "                   'Instituto Alberto Einstein',\n",
      "                                         '2968',\n",
      "                                        '11147'],\n",
      "      dtype='object', length=554)\n",
      "0                                           1868\n",
      "17794                                         71\n",
      "1035                                          40\n",
      "19362                                         39\n",
      "18271                                         37\n",
      "3552                                          33\n",
      "21888                                         30\n",
      "21981                                         27\n",
      "0.0                                           27\n",
      "2531                                          24\n",
      "2418                                          22\n",
      "5468                                          21\n",
      "1186                                          20\n",
      "15970                                         16\n",
      "20228                                         16\n",
      "281                                           16\n",
      "1410                                          13\n",
      "19780                                         12\n",
      "3881                                           8\n",
      "11248                                          8\n",
      "11070                                          7\n",
      "4323                                           4\n",
      "2497                                           4\n",
      "17689                                          4\n",
      "2532                                           4\n",
      "3715                                           3\n",
      "1185                                           3\n",
      "2186                                           3\n",
      "9939                                           2\n",
      "IES SERRANÍA BAJA                              2\n",
      "                                            ... \n",
      "Escuela Tecnica Agropecuaria IMA               1\n",
      "U.E: Generalísimo Francisco de Miranda         1\n",
      "colegio Romulo Gallegos                        1\n",
      "Unidad Educativa                               1\n",
      "Unidad.Educativa Jean Frederic Oberlin         1\n",
      "10844                                          1\n",
      "instituto francisco javier garcia de hev       1\n",
      "instituto tecnologico gran colombia            1\n",
      "Institucion Educativa Teofilo Roberto Po       1\n",
      "Inst. Edu. Unidad Edu. Stephen Hawking         1\n",
      "ISPPT. 0620 aplicación                         1\n",
      "ESCUELA TECNICA LUIS RODRIGUEZ SANCHEZ         1\n",
      "U.E.C \"La Santísima Trinidad\"                  1\n",
      "Knoxville Catholic High School                 1\n",
      "E.T.As. Aloso de Ojeda                         1\n",
      "Governor Simcoe Secondary School               1\n",
      "13451                                          1\n",
      "Unidad educativa Los Andes                     1\n",
      "17588                                          1\n",
      "3054                                           1\n",
      "FUNDACION INTEGRAL SIGLO XXI ARGELIA           1\n",
      "Sagrado Corazón de Jesús                       1\n",
      "E.T.A.R. JOSE ESCOLASTICO ANDRADE              1\n",
      "Liceo Juan German Roscio                       1\n",
      "Unidad Educativa Colegio \"Bella Vista\"         1\n",
      "1311                                           1\n",
      "7914                                           1\n",
      "Instituto Alberto Einstein                     1\n",
      "2968                                           1\n",
      "11147                                          1\n",
      "Name: ESTU_COD_PLANTEL, dtype: int64\n",
      "Elementos null/NaN 570204\n",
      "__________________\n",
      "Elementos diferentes de null/NaN: 2924\n",
      "__________________\n",
      "(2924,)\n",
      "None\n"
     ]
    }
   ],
   "source": [
    "c = 'ESTU_COD_PLANTEL'\n",
    "print(data_2015_2[c].value_counts().index)\n",
    "print(data_2015_2[c].value_counts())\n",
    "print(missing_data(data_2015_2[c]))"
   ]
  },
  {
   "cell_type": "code",
   "execution_count": 290,
   "metadata": {
    "collapsed": true
   },
   "outputs": [],
   "source": [
    "data_2015_2 = data_2015_2.drop(c, axis=1)"
   ]
  },
  {
   "cell_type": "code",
   "execution_count": 291,
   "metadata": {
    "collapsed": false,
    "scrolled": true
   },
   "outputs": [
    {
     "name": "stdout",
     "output_type": "stream",
     "text": [
      "Float64Index([ 5.0,  8.0, 11.0, 13.0, 15.0, 17.0, 18.0, 19.0, 20.0, 23.0, 25.0,\n",
      "              27.0, 41.0, 44.0, 47.0, 50.0, 52.0, 54.0, 63.0, 66.0, 68.0, 70.0,\n",
      "              73.0, 76.0, 81.0, 85.0, 86.0, 88.0, 91.0, 94.0, 95.0, 97.0,\n",
      "              99.0],\n",
      "             dtype='float64')\n",
      "5     76555\n",
      "8     31135\n",
      "11    96020\n",
      "13    24462\n",
      "15    18196\n",
      "17    12139\n",
      "18     4343\n",
      "19    14646\n",
      "20    12593\n",
      "23    19302\n",
      "25    35734\n",
      "27     4239\n",
      "41    14557\n",
      "44     7403\n",
      "47    15142\n",
      "50    11997\n",
      "52    20002\n",
      "54    16297\n",
      "63     7204\n",
      "66    10901\n",
      "68    28436\n",
      "70    11490\n",
      "73    17546\n",
      "76    45083\n",
      "81     3211\n",
      "85     6139\n",
      "86     4631\n",
      "88      726\n",
      "91      847\n",
      "94      219\n",
      "95     1030\n",
      "97      399\n",
      "99      502\n",
      "Name: ESTU_COD_DEPTO_PRESENTACION, dtype: int64\n",
      "Elementos null/NaN 2\n",
      "__________________\n",
      "Elementos diferentes de null/NaN: 573126\n",
      "__________________\n",
      "(573126,)\n",
      "None\n"
     ]
    }
   ],
   "source": [
    "c = 'ESTU_COD_DEPTO_PRESENTACION'\n",
    "print(data_2015_2[c].value_counts().sort_index().index)\n",
    "print(data_2015_2[c].value_counts().sort_index())\n",
    "print(missing_data(data_2015_2[c]))"
   ]
  },
  {
   "cell_type": "code",
   "execution_count": 292,
   "metadata": {
    "collapsed": true
   },
   "outputs": [],
   "source": [
    "data_2015_2 = data_2015_2.drop(c, axis=1)"
   ]
  },
  {
   "cell_type": "code",
   "execution_count": 293,
   "metadata": {
    "collapsed": false,
    "scrolled": true
   },
   "outputs": [
    {
     "name": "stdout",
     "output_type": "stream",
     "text": [
      "Float64Index([ 5001.0,  5002.0,  5030.0,  5031.0,  5034.0,  5042.0,  5045.0,\n",
      "               5051.0,  5079.0,  5088.0,\n",
      "              ...\n",
      "              95025.0, 95200.0, 97001.0, 97161.0, 97666.0, 97889.0, 99001.0,\n",
      "              99524.0, 99624.0, 99773.0],\n",
      "             dtype='float64', length=460)\n",
      "5001     29110\n",
      "5002       202\n",
      "5030       782\n",
      "5031       501\n",
      "5034       812\n",
      "5042      1380\n",
      "5045      1699\n",
      "5051       454\n",
      "5079       825\n",
      "5088      6072\n",
      "5101       344\n",
      "5120       518\n",
      "5129      1000\n",
      "5138       330\n",
      "5147       414\n",
      "5148       589\n",
      "5154      1187\n",
      "5172       827\n",
      "5190       444\n",
      "5212      1656\n",
      "5234       198\n",
      "5237       252\n",
      "5250       656\n",
      "5266      3348\n",
      "5284       335\n",
      "5313       187\n",
      "5318       552\n",
      "5360      4532\n",
      "5361       374\n",
      "5368       357\n",
      "         ...  \n",
      "85440      575\n",
      "86001     1096\n",
      "86320      588\n",
      "86568     1055\n",
      "86573      210\n",
      "86749      592\n",
      "86865      739\n",
      "86885      351\n",
      "88001      676\n",
      "88564       50\n",
      "91001      643\n",
      "91263       31\n",
      "91405       28\n",
      "91407       34\n",
      "91540       83\n",
      "91798       28\n",
      "94001      172\n",
      "94343       47\n",
      "95001      837\n",
      "95015       57\n",
      "95025      107\n",
      "95200       29\n",
      "97001      327\n",
      "97161       31\n",
      "97666       28\n",
      "97889       13\n",
      "99001      216\n",
      "99524      119\n",
      "99624       55\n",
      "99773      112\n",
      "Name: ESTU_COD_MCPIO_PRESENTACION, dtype: int64\n",
      "Elementos null/NaN 2\n",
      "__________________\n",
      "Elementos diferentes de null/NaN: 573126\n",
      "__________________\n",
      "(573126,)\n",
      "None\n"
     ]
    }
   ],
   "source": [
    "c = 'ESTU_COD_MCPIO_PRESENTACION'\n",
    "print(data_2015_2[c].value_counts().sort_index().index)\n",
    "print(data_2015_2[c].value_counts().sort_index())\n",
    "print(missing_data(data_2015_2[c]))"
   ]
  },
  {
   "cell_type": "code",
   "execution_count": 294,
   "metadata": {
    "collapsed": true
   },
   "outputs": [],
   "source": [
    "data_2015_2 = data_2015_2.drop(c, axis=1)"
   ]
  },
  {
   "cell_type": "code",
   "execution_count": 295,
   "metadata": {
    "collapsed": false,
    "scrolled": true
   },
   "outputs": [
    {
     "name": "stdout",
     "output_type": "stream",
     "text": [
      "Index(['ABEJORRAL', 'ABREGO', 'ACACIAS', 'ACANDI', 'ACHI', 'AGUACHICA',\n",
      "       'AGUADAS', 'AGUAZUL', 'AGUSTIN CODAZZI', 'AIPE',\n",
      "       ...\n",
      "       'VIOTA', 'YARUMAL', 'YAVARATE', 'YOLOMBO', 'YOPAL', 'YUMBO', 'ZAPATOCA',\n",
      "       'ZARAGOZA', 'ZARZAL', 'ZIPAQUIRA'],\n",
      "      dtype='object', length=443)\n",
      "ABEJORRAL                     202\n",
      "ABREGO                        245\n",
      "ACACIAS                      1642\n",
      "ACANDI                         79\n",
      "ACHI                          329\n",
      "AGUACHICA                    1368\n",
      "AGUADAS                       271\n",
      "AGUAZUL                       577\n",
      "AGUSTIN CODAZZI               625\n",
      "AIPE                          178\n",
      "ALBAN                         112\n",
      "ALBAN (SAN JOSE)              231\n",
      "ALCALA                        204\n",
      "ALTO BAUDO (PIE DE PATO)       56\n",
      "AMAGA                         782\n",
      "AMALFI                        501\n",
      "ANDALUCIA                     161\n",
      "ANDES                         812\n",
      "ANOLAIMA                      243\n",
      "ANSERMA                       709\n",
      "ANSERMANUEVO                  166\n",
      "APARTADO                     1699\n",
      "APIA                          280\n",
      "ARACATACA                     506\n",
      "ARAUCA                       1180\n",
      "ARAUQUITA                     304\n",
      "ARBELAEZ                      187\n",
      "ARBOLEDAS                     170\n",
      "ARBOLETES                     454\n",
      "ARENAL                         86\n",
      "                             ... \n",
      "TURMEQUE                      291\n",
      "TUTA                          139\n",
      "UBATE                        1453\n",
      "UNGUIA                        109\n",
      "URIBIA                        625\n",
      "URRAO                         854\n",
      "VALLEDUPAR                   5900\n",
      "VALPARAISO                    135\n",
      "VEGACHI                       236\n",
      "VELEZ                         824\n",
      "VENADILLO                     171\n",
      "VENTAQUEMADA                  160\n",
      "VIGIA DEL FUERTE               82\n",
      "VILLA DE LEYVA                405\n",
      "VILLA DEL ROSARIO             912\n",
      "VILLA GUAMEZ (LA HORMIGA)     739\n",
      "VILLAGARZON                   351\n",
      "VILLANUEVA                   1069\n",
      "VILLAVICENCIO                6871\n",
      "VILLETA                       599\n",
      "VIOTA                         179\n",
      "YARUMAL                      1119\n",
      "YAVARATE                       13\n",
      "YOLOMBO                       230\n",
      "YOPAL                        3098\n",
      "YUMBO                        1395\n",
      "ZAPATOCA                      156\n",
      "ZARAGOZA                      265\n",
      "ZARZAL                        495\n",
      "ZIPAQUIRA                    3213\n",
      "Name: ESTU_MCPIO_PRESENTACION, dtype: int64\n",
      "Elementos null/NaN 2\n",
      "__________________\n",
      "Elementos diferentes de null/NaN: 573126\n",
      "__________________\n",
      "(573126,)\n",
      "None\n"
     ]
    }
   ],
   "source": [
    "c = 'ESTU_MCPIO_PRESENTACION'\n",
    "print(data_2015_2[c].value_counts().sort_index().index)\n",
    "print(data_2015_2[c].value_counts().sort_index())\n",
    "print(missing_data(data_2015_2[c]))"
   ]
  },
  {
   "cell_type": "code",
   "execution_count": 296,
   "metadata": {
    "collapsed": false,
    "scrolled": true
   },
   "outputs": [
    {
     "name": "stdout",
     "output_type": "stream",
     "text": [
      "Index(['AMAZONAS', 'ANTIOQUIA', 'ARAUCA', 'ATLANTICO', 'BOGOTA', 'BOLIVAR',\n",
      "       'BOYACA', 'CALDAS', 'CAQUETA', 'CASANARE', 'CAUCA', 'CESAR', 'CHOCO',\n",
      "       'CORDOBA', 'CUNDINAMARCA', 'GUAINIA', 'GUAVIARE', 'HUILA', 'LA GUAJIRA',\n",
      "       'MAGDALENA', 'META', 'NARIÑO', 'NORTE SANTANDER', 'PUTUMAYO', 'QUINDIO',\n",
      "       'RISARALDA', 'SAN ANDRES', 'SANTANDER', 'SUCRE', 'TOLIMA', 'VALLE',\n",
      "       'VAUPES', 'VICHADA'],\n",
      "      dtype='object')\n",
      "AMAZONAS             847\n",
      "ANTIOQUIA          76555\n",
      "ARAUCA              3211\n",
      "ATLANTICO          31135\n",
      "BOGOTA             96020\n",
      "BOLIVAR            24462\n",
      "BOYACA             18196\n",
      "CALDAS             12139\n",
      "CAQUETA             4343\n",
      "CASANARE            6139\n",
      "CAUCA              14646\n",
      "CESAR              12593\n",
      "CHOCO               4239\n",
      "CORDOBA            19302\n",
      "CUNDINAMARCA       35734\n",
      "GUAINIA              219\n",
      "GUAVIARE            1030\n",
      "HUILA              14557\n",
      "LA GUAJIRA          7403\n",
      "MAGDALENA          15142\n",
      "META               11997\n",
      "NARIÑO             20002\n",
      "NORTE SANTANDER    16297\n",
      "PUTUMAYO            4631\n",
      "QUINDIO             7204\n",
      "RISARALDA          10901\n",
      "SAN ANDRES           726\n",
      "SANTANDER          28436\n",
      "SUCRE              11490\n",
      "TOLIMA             17546\n",
      "VALLE              45083\n",
      "VAUPES               399\n",
      "VICHADA              502\n",
      "Name: ESTU_DEPTO_PRESENTACION, dtype: int64\n",
      "Elementos null/NaN 2\n",
      "__________________\n",
      "Elementos diferentes de null/NaN: 573126\n",
      "__________________\n",
      "(573126,)\n",
      "None\n"
     ]
    }
   ],
   "source": [
    "c = 'ESTU_DEPTO_PRESENTACION'\n",
    "print(data_2015_2[c].value_counts().sort_index().index)\n",
    "print(data_2015_2[c].value_counts().sort_index())\n",
    "print(missing_data(data_2015_2[c]))"
   ]
  },
  {
   "cell_type": "markdown",
   "metadata": {},
   "source": [
    "# TARGETS"
   ]
  },
  {
   "cell_type": "code",
   "execution_count": 297,
   "metadata": {
    "collapsed": false
   },
   "outputs": [
    {
     "name": "stdout",
     "output_type": "stream",
     "text": [
      "Index(['D01', 'D02', 'D03', 'D04', 'D05', 'D06', 'D07', 'D08', 'D09', 'D10'], dtype='object')\n",
      "D01    62372\n",
      "D02    54785\n",
      "D03    56064\n",
      "D04    79066\n",
      "D05    38155\n",
      "D06    57546\n",
      "D07    68923\n",
      "D08    49133\n",
      "D09    53833\n",
      "D10    53249\n",
      "Name: DECIL_LECTURA_CRITICA, dtype: int64\n",
      "Elementos null/NaN 2\n",
      "__________________\n",
      "Elementos diferentes de null/NaN: 573126\n",
      "__________________\n",
      "(573126,)\n",
      "None\n"
     ]
    }
   ],
   "source": [
    "c = 'DECIL_LECTURA_CRITICA'\n",
    "print(data_2015_2[c].value_counts().sort_index().index)\n",
    "print(data_2015_2[c].value_counts().sort_index())\n",
    "print(missing_data(data_2015_2[c]))"
   ]
  },
  {
   "cell_type": "code",
   "execution_count": 298,
   "metadata": {
    "collapsed": false,
    "scrolled": true
   },
   "outputs": [
    {
     "name": "stdout",
     "output_type": "stream",
     "text": [
      "Float64Index([  0.0,   4.0,   7.0,   8.0,   9.0,  11.0,  16.0,  17.0,  19.0,\n",
      "               21.0,  22.0,  23.0,  24.0,  25.0,  26.0,  27.0,  28.0,  29.0,\n",
      "               30.0,  31.0,  32.0,  33.0,  34.0,  35.0,  36.0,  37.0,  38.0,\n",
      "               39.0,  40.0,  41.0,  42.0,  43.0,  44.0,  45.0,  46.0,  47.0,\n",
      "               48.0,  49.0,  50.0,  51.0,  52.0,  53.0,  54.0,  55.0,  56.0,\n",
      "               57.0,  58.0,  59.0,  60.0,  61.0,  62.0,  63.0,  65.0,  66.0,\n",
      "               67.0,  68.0,  69.0,  70.0,  71.0,  73.0,  74.0,  75.0,  76.0,\n",
      "               77.0,  78.0,  80.0,  81.0,  84.0,  85.0,  91.0,  92.0,  93.0,\n",
      "               94.0, 100.0],\n",
      "             dtype='float64')\n",
      "0        227\n",
      "4          2\n",
      "7          8\n",
      "8         34\n",
      "9          8\n",
      "11         4\n",
      "16       137\n",
      "17        17\n",
      "19         7\n",
      "21       344\n",
      "22        31\n",
      "23         8\n",
      "24       568\n",
      "25       309\n",
      "26        19\n",
      "27      1362\n",
      "28       744\n",
      "29        48\n",
      "30      3949\n",
      "31       464\n",
      "32      4886\n",
      "33      2474\n",
      "34      7890\n",
      "35      3537\n",
      "36     11095\n",
      "37      4889\n",
      "38     19311\n",
      "39      1314\n",
      "40     24586\n",
      "41     20490\n",
      "       ...  \n",
      "56     19464\n",
      "57     23390\n",
      "58     11035\n",
      "59      9424\n",
      "60     17926\n",
      "61      4714\n",
      "62     10734\n",
      "63     12788\n",
      "65     10948\n",
      "66       760\n",
      "67      7955\n",
      "68       651\n",
      "69      6311\n",
      "70         2\n",
      "71      5225\n",
      "73      2118\n",
      "74      1530\n",
      "75        30\n",
      "76      1448\n",
      "77      1094\n",
      "78        20\n",
      "80      1410\n",
      "81         9\n",
      "84        52\n",
      "85       622\n",
      "91         2\n",
      "92        15\n",
      "93       149\n",
      "94        71\n",
      "100       39\n",
      "Name: PUNT_LECTURA_CRITICA, dtype: int64\n",
      "Elementos null/NaN 2\n",
      "__________________\n",
      "Elementos diferentes de null/NaN: 573126\n",
      "__________________\n",
      "(573126,)\n",
      "None\n"
     ]
    }
   ],
   "source": [
    "c = 'PUNT_LECTURA_CRITICA'\n",
    "print(data_2015_2[c].value_counts().sort_index().index)\n",
    "print(data_2015_2[c].value_counts().sort_index())\n",
    "print(missing_data(data_2015_2[c]))"
   ]
  },
  {
   "cell_type": "code",
   "execution_count": 299,
   "metadata": {
    "collapsed": false
   },
   "outputs": [
    {
     "name": "stdout",
     "output_type": "stream",
     "text": [
      "Index(['D01', 'D02', 'D03', 'D04', 'D05', 'D06', 'D07', 'D08', 'D09', 'D10'], dtype='object')\n",
      "D01    61990\n",
      "D02    57731\n",
      "D03    71704\n",
      "D04    70208\n",
      "D05    34524\n",
      "D06    65203\n",
      "D07    55178\n",
      "D08    44024\n",
      "D09    55844\n",
      "D10    56720\n",
      "Name: DECIL_MATEMATICAS, dtype: int64\n",
      "Elementos null/NaN 2\n",
      "__________________\n",
      "Elementos diferentes de null/NaN: 573126\n",
      "__________________\n",
      "(573126,)\n",
      "None\n"
     ]
    }
   ],
   "source": [
    "c = 'DECIL_MATEMATICAS'\n",
    "print(data_2015_2[c].value_counts().sort_index().index)\n",
    "print(data_2015_2[c].value_counts().sort_index())\n",
    "print(missing_data(data_2015_2[c]))"
   ]
  },
  {
   "cell_type": "code",
   "execution_count": 300,
   "metadata": {
    "collapsed": false,
    "scrolled": true
   },
   "outputs": [
    {
     "name": "stdout",
     "output_type": "stream",
     "text": [
      "Float64Index([  0.0,   1.0,   2.0,   4.0,   7.0,   8.0,  10.0,  12.0,  13.0,\n",
      "               15.0,  16.0,  17.0,  19.0,  20.0,  22.0,  23.0,  24.0,  25.0,\n",
      "               26.0,  27.0,  28.0,  29.0,  30.0,  31.0,  32.0,  33.0,  34.0,\n",
      "               35.0,  36.0,  37.0,  38.0,  39.0,  40.0,  41.0,  42.0,  43.0,\n",
      "               44.0,  45.0,  46.0,  47.0,  48.0,  49.0,  50.0,  51.0,  52.0,\n",
      "               53.0,  54.0,  55.0,  56.0,  57.0,  58.0,  59.0,  60.0,  61.0,\n",
      "               62.0,  63.0,  64.0,  65.0,  66.0,  67.0,  68.0,  69.0,  70.0,\n",
      "               71.0,  72.0,  74.0,  75.0,  76.0,  77.0,  78.0,  79.0,  80.0,\n",
      "               81.0,  82.0,  83.0,  84.0,  85.0,  86.0,  87.0,  88.0,  89.0,\n",
      "               90.0,  92.0,  93.0,  96.0,  97.0, 100.0],\n",
      "             dtype='float64')\n",
      "0         57\n",
      "1          9\n",
      "2          3\n",
      "4          3\n",
      "7         19\n",
      "8         29\n",
      "10        11\n",
      "12        49\n",
      "13        75\n",
      "15         1\n",
      "16       168\n",
      "17       184\n",
      "19       369\n",
      "20       499\n",
      "22       395\n",
      "23      1440\n",
      "24        11\n",
      "25      1514\n",
      "26      2038\n",
      "27        21\n",
      "28      5751\n",
      "29       346\n",
      "30      6510\n",
      "31      2372\n",
      "32      6650\n",
      "33      6380\n",
      "34      8919\n",
      "35      8167\n",
      "36     10000\n",
      "37     11552\n",
      "       ...  \n",
      "65     10018\n",
      "66       634\n",
      "67      9300\n",
      "68      7301\n",
      "69       596\n",
      "70      6144\n",
      "71       476\n",
      "72      5698\n",
      "74      4945\n",
      "75       992\n",
      "76      3261\n",
      "77       858\n",
      "78      2754\n",
      "79       311\n",
      "80      2568\n",
      "81       249\n",
      "82      2336\n",
      "83       232\n",
      "84      1850\n",
      "85         1\n",
      "86       199\n",
      "87      1454\n",
      "88       141\n",
      "89       652\n",
      "90       691\n",
      "92       250\n",
      "93       783\n",
      "96       751\n",
      "97         1\n",
      "100     1292\n",
      "Name: PUNT_MATEMATICAS, dtype: int64\n",
      "Elementos null/NaN 2\n",
      "__________________\n",
      "Elementos diferentes de null/NaN: 573126\n",
      "__________________\n",
      "(573126,)\n",
      "None\n"
     ]
    }
   ],
   "source": [
    "c = 'PUNT_MATEMATICAS'\n",
    "print(data_2015_2[c].value_counts().sort_index().index)\n",
    "print(data_2015_2[c].value_counts().sort_index())\n",
    "print(missing_data(data_2015_2[c]))"
   ]
  },
  {
   "cell_type": "code",
   "execution_count": 301,
   "metadata": {
    "collapsed": false
   },
   "outputs": [
    {
     "name": "stdout",
     "output_type": "stream",
     "text": [
      "Index(['D01', 'D02', 'D03', 'D04', 'D05', 'D06', 'D07', 'D08', 'D09', 'D10'], dtype='object')\n",
      "D01    64174\n",
      "D02    66613\n",
      "D03    45799\n",
      "D04    67539\n",
      "D05    45307\n",
      "D06    70118\n",
      "D07    59396\n",
      "D08    47336\n",
      "D09    53439\n",
      "D10    53405\n",
      "Name: DECIL_C_NATURALES, dtype: int64\n",
      "Elementos null/NaN 2\n",
      "__________________\n",
      "Elementos diferentes de null/NaN: 573126\n",
      "__________________\n",
      "(573126,)\n",
      "None\n"
     ]
    }
   ],
   "source": [
    "c = 'DECIL_C_NATURALES'\n",
    "print(data_2015_2[c].value_counts().sort_index().index)\n",
    "print(data_2015_2[c].value_counts().sort_index())\n",
    "print(missing_data(data_2015_2[c]))"
   ]
  },
  {
   "cell_type": "code",
   "execution_count": 302,
   "metadata": {
    "collapsed": false,
    "scrolled": true
   },
   "outputs": [
    {
     "name": "stdout",
     "output_type": "stream",
     "text": [
      "Float64Index([  0.0,   4.0,   7.0,   8.0,  13.0,  14.0,  17.0,  18.0,  20.0,\n",
      "               21.0,  22.0,  23.0,  24.0,  25.0,  26.0,  27.0,  28.0,  29.0,\n",
      "               30.0,  31.0,  32.0,  33.0,  34.0,  35.0,  36.0,  37.0,  38.0,\n",
      "               39.0,  40.0,  41.0,  42.0,  43.0,  44.0,  45.0,  46.0,  47.0,\n",
      "               48.0,  49.0,  50.0,  51.0,  52.0,  53.0,  54.0,  55.0,  56.0,\n",
      "               57.0,  58.0,  59.0,  60.0,  61.0,  62.0,  63.0,  64.0,  65.0,\n",
      "               66.0,  67.0,  68.0,  69.0,  70.0,  71.0,  72.0,  73.0,  74.0,\n",
      "               75.0,  76.0,  77.0,  78.0,  79.0,  80.0,  81.0,  83.0,  84.0,\n",
      "               86.0,  87.0,  88.0,  90.0,  91.0,  93.0,  95.0,  96.0, 100.0],\n",
      "             dtype='float64')\n",
      "0         77\n",
      "4          2\n",
      "7         10\n",
      "8         43\n",
      "13        52\n",
      "14        56\n",
      "17        99\n",
      "18       118\n",
      "20        78\n",
      "21       308\n",
      "22        29\n",
      "23       162\n",
      "24       504\n",
      "25        55\n",
      "26      1189\n",
      "27        75\n",
      "28      1536\n",
      "29       581\n",
      "30      2725\n",
      "31      1019\n",
      "32      5493\n",
      "33      2178\n",
      "34      6128\n",
      "35      8172\n",
      "36      5765\n",
      "37     10954\n",
      "38     16766\n",
      "39      5796\n",
      "40     19234\n",
      "41     17132\n",
      "       ...  \n",
      "63      6913\n",
      "64      6351\n",
      "65      4219\n",
      "66      6922\n",
      "67      6189\n",
      "68      4228\n",
      "69      2381\n",
      "70      3563\n",
      "71      4097\n",
      "72      1150\n",
      "73      2392\n",
      "74      2321\n",
      "75       892\n",
      "76      1642\n",
      "77       757\n",
      "78      1311\n",
      "79       564\n",
      "80       715\n",
      "81       806\n",
      "83       732\n",
      "84       396\n",
      "86       497\n",
      "87       250\n",
      "88         7\n",
      "90       353\n",
      "91       176\n",
      "93         1\n",
      "95       129\n",
      "96       182\n",
      "100      182\n",
      "Name: PUNT_C_NATURALES, dtype: int64\n",
      "Elementos null/NaN 2\n",
      "__________________\n",
      "Elementos diferentes de null/NaN: 573126\n",
      "__________________\n",
      "(573126,)\n",
      "None\n"
     ]
    }
   ],
   "source": [
    "c = 'PUNT_C_NATURALES'\n",
    "print(data_2015_2[c].value_counts().sort_index().index)\n",
    "print(data_2015_2[c].value_counts().sort_index())\n",
    "print(missing_data(data_2015_2[c]))"
   ]
  },
  {
   "cell_type": "code",
   "execution_count": 303,
   "metadata": {
    "collapsed": false
   },
   "outputs": [
    {
     "name": "stdout",
     "output_type": "stream",
     "text": [
      "Index(['D01', 'D02', 'D03', 'D04', 'D05', 'D06', 'D07', 'D08', 'D09', 'D10'], dtype='object')\n",
      "D01    68132\n",
      "D02    48778\n",
      "D03    69662\n",
      "D04    55453\n",
      "D05    64027\n",
      "D06    56385\n",
      "D07    53226\n",
      "D08    47986\n",
      "D09    53273\n",
      "D10    56204\n",
      "Name: DECIL_SOCIALES_CIUDADANAS, dtype: int64\n",
      "Elementos null/NaN 2\n",
      "__________________\n",
      "Elementos diferentes de null/NaN: 573126\n",
      "__________________\n",
      "(573126,)\n",
      "None\n"
     ]
    }
   ],
   "source": [
    "c = 'DECIL_SOCIALES_CIUDADANAS'\n",
    "print(data_2015_2[c].value_counts().sort_index().index)\n",
    "print(data_2015_2[c].value_counts().sort_index())\n",
    "print(missing_data(data_2015_2[c]))"
   ]
  },
  {
   "cell_type": "code",
   "execution_count": 304,
   "metadata": {
    "collapsed": false,
    "scrolled": true
   },
   "outputs": [
    {
     "name": "stdout",
     "output_type": "stream",
     "text": [
      "Float64Index([  0.0,   3.0,   4.0,   5.0,   6.0,   9.0,  10.0,  11.0,  12.0,\n",
      "               14.0,  16.0,  17.0,  18.0,  19.0,  21.0,  22.0,  24.0,  25.0,\n",
      "               26.0,  27.0,  28.0,  29.0,  30.0,  31.0,  32.0,  33.0,  34.0,\n",
      "               35.0,  36.0,  37.0,  38.0,  39.0,  40.0,  41.0,  42.0,  43.0,\n",
      "               44.0,  45.0,  46.0,  47.0,  48.0,  49.0,  50.0,  51.0,  52.0,\n",
      "               53.0,  54.0,  55.0,  56.0,  57.0,  58.0,  59.0,  60.0,  61.0,\n",
      "               62.0,  63.0,  64.0,  65.0,  66.0,  67.0,  68.0,  69.0,  70.0,\n",
      "               71.0,  72.0,  73.0,  74.0,  75.0,  76.0,  78.0,  79.0,  80.0,\n",
      "               81.0,  82.0,  83.0,  84.0,  85.0,  86.0,  87.0,  88.0,  89.0,\n",
      "               92.0,  93.0,  94.0,  95.0,  98.0,  99.0, 100.0],\n",
      "             dtype='float64')\n",
      "0         65\n",
      "3         38\n",
      "4         10\n",
      "5          1\n",
      "6          4\n",
      "9         92\n",
      "10        46\n",
      "11         1\n",
      "12        19\n",
      "14       315\n",
      "16         7\n",
      "17        33\n",
      "18       656\n",
      "19        10\n",
      "21      1367\n",
      "22        20\n",
      "24      2527\n",
      "25        52\n",
      "26      3254\n",
      "27      1269\n",
      "28      4754\n",
      "29      2048\n",
      "30      4590\n",
      "31      5213\n",
      "32      5919\n",
      "33      6929\n",
      "34     11162\n",
      "35      4847\n",
      "36     12884\n",
      "37      5862\n",
      "       ...  \n",
      "66      5017\n",
      "67      5570\n",
      "68      8669\n",
      "69       116\n",
      "70      6774\n",
      "71        97\n",
      "72      5158\n",
      "73        66\n",
      "74      3878\n",
      "75         2\n",
      "76      2904\n",
      "78      1149\n",
      "79       884\n",
      "80       105\n",
      "81      1256\n",
      "82         1\n",
      "83        58\n",
      "84       758\n",
      "85        12\n",
      "86        35\n",
      "87       109\n",
      "88       325\n",
      "89        22\n",
      "92       178\n",
      "93        47\n",
      "94         6\n",
      "95         5\n",
      "98        71\n",
      "99        24\n",
      "100       36\n",
      "Name: PUNT_SOCIALES_CIUDADANAS, dtype: int64\n",
      "Elementos null/NaN 2\n",
      "__________________\n",
      "Elementos diferentes de null/NaN: 573126\n",
      "__________________\n",
      "(573126,)\n",
      "None\n"
     ]
    }
   ],
   "source": [
    "c = 'PUNT_SOCIALES_CIUDADANAS'\n",
    "print(data_2015_2[c].value_counts().sort_index().index)\n",
    "print(data_2015_2[c].value_counts().sort_index())\n",
    "print(missing_data(data_2015_2[c]))"
   ]
  },
  {
   "cell_type": "code",
   "execution_count": 305,
   "metadata": {
    "collapsed": false
   },
   "outputs": [
    {
     "name": "stdout",
     "output_type": "stream",
     "text": [
      "Index(['D01', 'D02', 'D03', 'D04', 'D05', 'D06', 'D07', 'D08', 'D09', 'D10'], dtype='object')\n",
      "D01    70814\n",
      "D02    80965\n",
      "D03    49919\n",
      "D04    51576\n",
      "D05    49375\n",
      "D06    44375\n",
      "D07    68070\n",
      "D08    42114\n",
      "D09    60966\n",
      "D10    54952\n",
      "Name: DECIL_INGLES, dtype: int64\n",
      "Elementos null/NaN 2\n",
      "__________________\n",
      "Elementos diferentes de null/NaN: 573126\n",
      "__________________\n",
      "(573126,)\n",
      "None\n"
     ]
    }
   ],
   "source": [
    "c = 'DECIL_INGLES'\n",
    "print(data_2015_2[c].value_counts().sort_index().index)\n",
    "print(data_2015_2[c].value_counts().sort_index())\n",
    "print(missing_data(data_2015_2[c]))"
   ]
  },
  {
   "cell_type": "code",
   "execution_count": 306,
   "metadata": {
    "collapsed": false
   },
   "outputs": [
    {
     "name": "stdout",
     "output_type": "stream",
     "text": [
      "Index(['A-', 'A1', 'A2', 'B+', 'B1'], dtype='object')\n",
      "A-    253274\n",
      "A1    229800\n",
      "A2     48899\n",
      "B+     11115\n",
      "B1     30038\n",
      "Name: DESEMP_INGLES, dtype: int64\n",
      "Elementos null/NaN 2\n",
      "__________________\n",
      "Elementos diferentes de null/NaN: 573126\n",
      "__________________\n",
      "(573126,)\n",
      "None\n"
     ]
    }
   ],
   "source": [
    "c = 'DESEMP_INGLES'\n",
    "print(data_2015_2[c].value_counts().sort_index().index)\n",
    "print(data_2015_2[c].value_counts().sort_index())\n",
    "print(missing_data(data_2015_2[c]))"
   ]
  },
  {
   "cell_type": "code",
   "execution_count": 307,
   "metadata": {
    "collapsed": false,
    "scrolled": true
   },
   "outputs": [
    {
     "name": "stdout",
     "output_type": "stream",
     "text": [
      "Float64Index([  0.0,   7.0,  14.0,  15.0,  17.0,  20.0,  22.0,  25.0,  27.0,\n",
      "               29.0,  31.0,  32.0,  34.0,  35.0,  37.0,  38.0,  39.0,  40.0,\n",
      "               41.0,  42.0,  43.0,  44.0,  46.0,  49.0,  50.0,  51.0,  52.0,\n",
      "               53.0,  54.0,  55.0,  56.0,  57.0,  58.0,  59.0,  60.0,  61.0,\n",
      "               62.0,  63.0,  64.0,  65.0,  66.0,  67.0,  68.0,  70.0,  71.0,\n",
      "               72.0,  73.0,  74.0,  75.0,  76.0,  77.0,  78.0,  79.0,  80.0,\n",
      "               82.0,  85.0,  87.0,  88.0,  90.0,  91.0,  92.0,  94.0,  95.0,\n",
      "               97.0, 100.0],\n",
      "             dtype='float64')\n",
      "0        239\n",
      "7         56\n",
      "14        70\n",
      "15         9\n",
      "17         2\n",
      "20       141\n",
      "22        12\n",
      "25       420\n",
      "27        34\n",
      "29      1252\n",
      "31        60\n",
      "32      2995\n",
      "34       168\n",
      "35      6104\n",
      "37     11685\n",
      "38     18588\n",
      "39       647\n",
      "40     28332\n",
      "41     35951\n",
      "42      1557\n",
      "43     43457\n",
      "44     49919\n",
      "46     51576\n",
      "49     49375\n",
      "50     44375\n",
      "51        51\n",
      "52     37477\n",
      "53     30542\n",
      "54     23714\n",
      "55     18400\n",
      "       ...  \n",
      "61       705\n",
      "62      6673\n",
      "63      5322\n",
      "64      5264\n",
      "65      4781\n",
      "66       468\n",
      "67      4364\n",
      "68      4186\n",
      "70      3867\n",
      "71      3650\n",
      "72         4\n",
      "73      3492\n",
      "74      3278\n",
      "75        45\n",
      "76      3242\n",
      "77      3142\n",
      "78        36\n",
      "79      3075\n",
      "80      3121\n",
      "82      3086\n",
      "85      2957\n",
      "87       180\n",
      "88      2589\n",
      "90       104\n",
      "91      2156\n",
      "92       107\n",
      "94      1629\n",
      "95        57\n",
      "97      1060\n",
      "100      276\n",
      "Name: PUNT_INGLES, dtype: int64\n",
      "Elementos null/NaN 2\n",
      "__________________\n",
      "Elementos diferentes de null/NaN: 573126\n",
      "__________________\n",
      "(573126,)\n",
      "None\n"
     ]
    }
   ],
   "source": [
    "c = 'PUNT_INGLES'\n",
    "print(data_2015_2[c].value_counts().sort_index().index)\n",
    "print(data_2015_2[c].value_counts().sort_index())\n",
    "print(missing_data(data_2015_2[c]))"
   ]
  },
  {
   "cell_type": "code",
   "execution_count": 308,
   "metadata": {
    "collapsed": false
   },
   "outputs": [
    {
     "name": "stdout",
     "output_type": "stream",
     "text": [
      "Index(['D01', 'D02', 'D03', 'D04', 'D05', 'D06', 'D07', 'D08', 'D09', 'D10'], dtype='object')\n",
      "D01    62484\n",
      "D02    55820\n",
      "D03    69830\n",
      "D04    55809\n",
      "D05    45765\n",
      "D06    63507\n",
      "D07    57051\n",
      "D08    60386\n",
      "D09    55795\n",
      "D10    46679\n",
      "Name: DECIL_RAZONA_CUANT, dtype: int64\n",
      "Elementos null/NaN 2\n",
      "__________________\n",
      "Elementos diferentes de null/NaN: 573126\n",
      "__________________\n",
      "(573126,)\n",
      "None\n"
     ]
    }
   ],
   "source": [
    "c = 'DECIL_RAZONA_CUANT'\n",
    "print(data_2015_2[c].value_counts().sort_index().index)\n",
    "print(data_2015_2[c].value_counts().sort_index())\n",
    "print(missing_data(data_2015_2[c]))"
   ]
  },
  {
   "cell_type": "code",
   "execution_count": 309,
   "metadata": {
    "collapsed": false,
    "scrolled": true
   },
   "outputs": [
    {
     "name": "stdout",
     "output_type": "stream",
     "text": [
      "Float64Index([  0.0,   3.0,   8.0,   9.0,  10.0,  14.0,  15.0,  16.0,  19.0,\n",
      "               20.0,  21.0,  22.0,  23.0,  24.0,  25.0,  26.0,  27.0,  28.0,\n",
      "               29.0,  30.0,  31.0,  32.0,  33.0,  34.0,  35.0,  36.0,  37.0,\n",
      "               38.0,  39.0,  40.0,  41.0,  42.0,  43.0,  44.0,  45.0,  46.0,\n",
      "               47.0,  49.0,  50.0,  51.0,  52.0,  53.0,  54.0,  55.0,  56.0,\n",
      "               57.0,  58.0,  59.0,  60.0,  61.0,  62.0,  63.0,  64.0,  65.0,\n",
      "               66.0,  67.0,  68.0,  69.0,  70.0,  71.0,  72.0,  73.0,  74.0,\n",
      "               75.0,  76.0,  78.0,  79.0,  80.0,  82.0,  83.0,  84.0,  85.0,\n",
      "               87.0,  89.0,  90.0,  94.0,  95.0,  96.0, 100.0],\n",
      "             dtype='float64')\n",
      "0        113\n",
      "3         30\n",
      "8        107\n",
      "9         60\n",
      "10        63\n",
      "14       222\n",
      "15       424\n",
      "16       264\n",
      "19       532\n",
      "20      1082\n",
      "21       844\n",
      "22         1\n",
      "23      1176\n",
      "24      2430\n",
      "25      1484\n",
      "26        26\n",
      "27      2531\n",
      "28      4349\n",
      "29      2604\n",
      "30      3327\n",
      "31      8050\n",
      "32      3929\n",
      "33      5031\n",
      "34     10061\n",
      "35      5840\n",
      "36      7904\n",
      "37     20250\n",
      "38       401\n",
      "39     26192\n",
      "40      8977\n",
      "       ...  \n",
      "61     25144\n",
      "62      1588\n",
      "63      5713\n",
      "64     15255\n",
      "65      1628\n",
      "66     12644\n",
      "67      5169\n",
      "68       232\n",
      "69     13566\n",
      "70       918\n",
      "71       186\n",
      "72      8159\n",
      "73      3359\n",
      "74       134\n",
      "75      2198\n",
      "76      7267\n",
      "78        95\n",
      "79      4234\n",
      "80      3379\n",
      "82       628\n",
      "83      1318\n",
      "84      4021\n",
      "85       420\n",
      "87        75\n",
      "89      4073\n",
      "90       365\n",
      "94       311\n",
      "95      1456\n",
      "96      1388\n",
      "100     2695\n",
      "Name: PUNT_RAZONA_CUANT, dtype: int64\n",
      "Elementos null/NaN 2\n",
      "__________________\n",
      "Elementos diferentes de null/NaN: 573126\n",
      "__________________\n",
      "(573126,)\n",
      "None\n"
     ]
    }
   ],
   "source": [
    "c = 'PUNT_RAZONA_CUANT'\n",
    "print(data_2015_2[c].value_counts().sort_index().index)\n",
    "print(data_2015_2[c].value_counts().sort_index())\n",
    "print(missing_data(data_2015_2[c]))"
   ]
  },
  {
   "cell_type": "code",
   "execution_count": 310,
   "metadata": {
    "collapsed": false
   },
   "outputs": [
    {
     "name": "stdout",
     "output_type": "stream",
     "text": [
      "Index(['D01', 'D02', 'D03', 'D04', 'D05', 'D06', 'D07', 'D08', 'D09', 'D10'], dtype='object')\n",
      "D01    72163\n",
      "D02    60828\n",
      "D03    47944\n",
      "D04    50345\n",
      "D05    75135\n",
      "D06    39960\n",
      "D07    78922\n",
      "D08    37270\n",
      "D09    63060\n",
      "D10    47499\n",
      "Name: DECIL_COMP_CIUDADANA, dtype: int64\n",
      "Elementos null/NaN 2\n",
      "__________________\n",
      "Elementos diferentes de null/NaN: 573126\n",
      "__________________\n",
      "(573126,)\n",
      "None\n"
     ]
    }
   ],
   "source": [
    "c = 'DECIL_COMP_CIUDADANA'\n",
    "print(data_2015_2[c].value_counts().sort_index().index)\n",
    "print(data_2015_2[c].value_counts().sort_index())\n",
    "print(missing_data(data_2015_2[c]))"
   ]
  },
  {
   "cell_type": "code",
   "execution_count": 311,
   "metadata": {
    "collapsed": false,
    "scrolled": true
   },
   "outputs": [
    {
     "name": "stdout",
     "output_type": "stream",
     "text": [
      "Float64Index([  0.0,   8.0,   9.0,  10.0,  14.0,  17.0,  18.0,  21.0,  22.0,\n",
      "               24.0,  25.0,  26.0,  28.0,  29.0,  30.0,  31.0,  32.0,  33.0,\n",
      "               34.0,  35.0,  36.0,  37.0,  38.0,  39.0,  40.0,  41.0,  42.0,\n",
      "               43.0,  44.0,  45.0,  46.0,  47.0,  48.0,  49.0,  50.0,  51.0,\n",
      "               52.0,  53.0,  54.0,  55.0,  56.0,  57.0,  58.0,  59.0,  60.0,\n",
      "               61.0,  62.0,  63.0,  64.0,  66.0,  67.0,  69.0,  70.0,  71.0,\n",
      "               72.0,  73.0,  75.0,  76.0,  79.0,  80.0,  83.0,  84.0,  87.0,\n",
      "               88.0, 100.0],\n",
      "             dtype='float64')\n",
      "0         56\n",
      "8          1\n",
      "9         26\n",
      "10        71\n",
      "14        18\n",
      "17       285\n",
      "18       160\n",
      "21        57\n",
      "22      1281\n",
      "24        12\n",
      "25      1301\n",
      "26      1768\n",
      "28      4226\n",
      "29      1820\n",
      "30       376\n",
      "31      9741\n",
      "32       163\n",
      "33     11032\n",
      "34      3925\n",
      "35     14708\n",
      "36      4591\n",
      "37     16545\n",
      "38      6876\n",
      "39     19061\n",
      "40      7824\n",
      "41     27067\n",
      "42      1857\n",
      "43     28861\n",
      "44     17226\n",
      "45     15790\n",
      "       ...  \n",
      "51     21150\n",
      "52     18810\n",
      "53     39349\n",
      "54       594\n",
      "55     38979\n",
      "56      2552\n",
      "57     34718\n",
      "58      2252\n",
      "59     31191\n",
      "60      2094\n",
      "61      6911\n",
      "62     20612\n",
      "63       292\n",
      "64     20435\n",
      "66      1058\n",
      "67     12958\n",
      "69       546\n",
      "70       129\n",
      "71      7230\n",
      "72       260\n",
      "73        83\n",
      "75       835\n",
      "76      2460\n",
      "79        29\n",
      "80        29\n",
      "83       766\n",
      "84       224\n",
      "87         8\n",
      "88         8\n",
      "100      149\n",
      "Name: PUNT_COMP_CIUDADANA, dtype: int64\n",
      "Elementos null/NaN 2\n",
      "__________________\n",
      "Elementos diferentes de null/NaN: 573126\n",
      "__________________\n",
      "(573126,)\n",
      "None\n"
     ]
    }
   ],
   "source": [
    "c = 'PUNT_COMP_CIUDADANA'\n",
    "print(data_2015_2[c].value_counts().sort_index().index)\n",
    "print(data_2015_2[c].value_counts().sort_index())\n",
    "print(missing_data(data_2015_2[c]))"
   ]
  },
  {
   "cell_type": "code",
   "execution_count": 312,
   "metadata": {
    "collapsed": false,
    "scrolled": true
   },
   "outputs": [
    {
     "name": "stdout",
     "output_type": "stream",
     "text": [
      "Float64Index([  0.0,   3.0,   5.0,   6.0,   8.0,  10.0,  12.0,  13.0,  14.0,\n",
      "               15.0,\n",
      "              ...\n",
      "              471.0, 472.0, 473.0, 475.0, 476.0, 477.0, 478.0, 483.0, 490.0,\n",
      "              492.0],\n",
      "             dtype='float64', length=456)\n",
      "0       5\n",
      "3       1\n",
      "5       1\n",
      "6       1\n",
      "8       2\n",
      "10      1\n",
      "12      2\n",
      "13      1\n",
      "14      1\n",
      "15      2\n",
      "16      1\n",
      "17      3\n",
      "18      1\n",
      "19      2\n",
      "20      2\n",
      "21      1\n",
      "22      1\n",
      "23      1\n",
      "28      1\n",
      "30      1\n",
      "31      1\n",
      "33      2\n",
      "34      2\n",
      "36      1\n",
      "37      2\n",
      "38      1\n",
      "39      1\n",
      "42      1\n",
      "45      1\n",
      "48      3\n",
      "       ..\n",
      "450    14\n",
      "451     2\n",
      "452     9\n",
      "453     9\n",
      "454    13\n",
      "455     8\n",
      "456     9\n",
      "457    12\n",
      "458     5\n",
      "460     9\n",
      "461     9\n",
      "462     7\n",
      "463     3\n",
      "464     4\n",
      "465     2\n",
      "466     1\n",
      "467     2\n",
      "468     4\n",
      "469     2\n",
      "470     3\n",
      "471     5\n",
      "472     3\n",
      "473     1\n",
      "475     1\n",
      "476     3\n",
      "477     2\n",
      "478     2\n",
      "483     1\n",
      "490     1\n",
      "492     1\n",
      "Name: PUNT_GLOBAL, dtype: int64\n",
      "Elementos null/NaN 2\n",
      "__________________\n",
      "Elementos diferentes de null/NaN: 573126\n",
      "__________________\n",
      "(573126,)\n",
      "None\n"
     ]
    }
   ],
   "source": [
    "c = 'PUNT_GLOBAL'\n",
    "print(data_2015_2[c].value_counts().sort_index().index)\n",
    "print(data_2015_2[c].value_counts().sort_index())\n",
    "print(missing_data(data_2015_2[c]))"
   ]
  },
  {
   "cell_type": "code",
   "execution_count": 313,
   "metadata": {
    "collapsed": false,
    "scrolled": true
   },
   "outputs": [
    {
     "name": "stdout",
     "output_type": "stream",
     "text": [
      "Float64Index([   1.0,    2.0,    3.0,    4.0,    5.0,    6.0,    7.0,    8.0,\n",
      "                 9.0,   10.0,\n",
      "              ...\n",
      "               991.0,  992.0,  993.0,  994.0,  995.0,  996.0,  997.0,  998.0,\n",
      "               999.0, 1000.0],\n",
      "             dtype='float64', length=431)\n",
      "1       598\n",
      "2       594\n",
      "3       625\n",
      "4       649\n",
      "5       520\n",
      "6       658\n",
      "7       556\n",
      "8       626\n",
      "9       519\n",
      "10      665\n",
      "11      571\n",
      "12      566\n",
      "13      679\n",
      "14      493\n",
      "15      658\n",
      "16      510\n",
      "17      649\n",
      "18      633\n",
      "19      690\n",
      "20      452\n",
      "21      540\n",
      "22      681\n",
      "23      547\n",
      "24      573\n",
      "25      593\n",
      "26      630\n",
      "27      619\n",
      "28      656\n",
      "29      379\n",
      "30      662\n",
      "       ... \n",
      "968     806\n",
      "969     865\n",
      "971     724\n",
      "972     782\n",
      "974     697\n",
      "975     742\n",
      "976     669\n",
      "977     631\n",
      "978     613\n",
      "979     645\n",
      "981     563\n",
      "982     583\n",
      "983     493\n",
      "984     964\n",
      "985     436\n",
      "986     401\n",
      "987     799\n",
      "988     392\n",
      "989     695\n",
      "990     298\n",
      "991     591\n",
      "992     563\n",
      "993     676\n",
      "994     397\n",
      "995     539\n",
      "996     683\n",
      "997     524\n",
      "998     510\n",
      "999     555\n",
      "1000    596\n",
      "Name: ESTU_PUESTO, dtype: int64\n",
      "Elementos null/NaN 2\n",
      "__________________\n",
      "Elementos diferentes de null/NaN: 573126\n",
      "__________________\n",
      "(573126,)\n",
      "None\n"
     ]
    }
   ],
   "source": [
    "c = 'ESTU_PUESTO'\n",
    "print(data_2015_2[c].value_counts().sort_index().index)\n",
    "print(data_2015_2[c].value_counts().sort_index())\n",
    "print(missing_data(data_2015_2[c]))"
   ]
  },
  {
   "cell_type": "markdown",
   "metadata": {},
   "source": [
    "remaining NaNs\n"
   ]
  },
  {
   "cell_type": "code",
   "execution_count": 317,
   "metadata": {
    "collapsed": true
   },
   "outputs": [],
   "source": [
    "idx = data_2015_2[data_2015_2['ESTU_ESTUDIANTE'].isnull()].index\n",
    "data_2015_2 = data_2015_2.drop(idx)"
   ]
  },
  {
   "cell_type": "code",
   "execution_count": 322,
   "metadata": {
    "collapsed": true
   },
   "outputs": [],
   "source": [
    "idx = data_2015_2[data_2015_2['ESTU_NACIMIENTO_DIA'].isnull()].index\n",
    "data_2015_2 = data_2015_2.drop(idx)"
   ]
  },
  {
   "cell_type": "markdown",
   "metadata": {},
   "source": [
    "Now here i enconde the Dataframes and tranform it into .csv files"
   ]
  },
  {
   "cell_type": "code",
   "execution_count": 325,
   "metadata": {
    "collapsed": true
   },
   "outputs": [],
   "source": [
    "data_2015 = label_encoder(data_2015)\n",
    "data_2015_2 = label_encoder(data_2015_2)"
   ]
  },
  {
   "cell_type": "code",
   "execution_count": 326,
   "metadata": {
    "collapsed": true
   },
   "outputs": [],
   "source": [
    "data_2015.to_csv('../DatosFTPICFES/SABER11/SB11-BASES_DE_DATOS/READY/2015_1.csv', sep=';', index=False)\n",
    "data_2015_2.to_csv('../DatosFTPICFES/SABER11/SB11-BASES_DE_DATOS/READY/2015_2.csv', sep=';', index=False)"
   ]
  }
 ],
 "metadata": {
  "kernelspec": {
   "display_name": "Python 3",
   "language": "python",
   "name": "python3"
  },
  "language_info": {
   "codemirror_mode": {
    "name": "ipython",
    "version": 3
   },
   "file_extension": ".py",
   "mimetype": "text/x-python",
   "name": "python",
   "nbconvert_exporter": "python",
   "pygments_lexer": "ipython3",
   "version": "3.4.2"
  }
 },
 "nbformat": 4,
 "nbformat_minor": 0
}
