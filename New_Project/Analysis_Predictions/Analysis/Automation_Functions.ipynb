{
 "cells": [
  {
   "cell_type": "markdown",
   "metadata": {},
   "source": [
    "# Best Algorithms\n",
    "The Algorithms that will be used in the experimentation will be:\n",
    "\n",
    "* Linear Regression + New Data powered to 2 + ShuffleSplit [4.43, 2.58]\n",
    "* Decision Tree Regressor max_depth 6 + Polynomial Features degree 2 + ShuffleSplit [4.38, 75.8]\n",
    "* Random Forest Regressor max_depth 10 + New Data Powered to 2 + ShuffleSplit [4.33, 8.47]\n",
    "\n",
    "Nuevos\n",
    "* Linear Regression + Old Data + PCA of 35 components + ShuffleSplit\n",
    "* Decision Tree Regressor max_depth 6 + Old Data + PCA with 33 components + ShuffleSplit\n",
    "* Random Forest Regressor max_depth 11 + New Data powered to 2 + ShuffleSplit"
   ]
  },
  {
   "cell_type": "code",
   "execution_count": 1,
   "metadata": {
    "collapsed": true
   },
   "outputs": [],
   "source": [
    "import pandas as pd\n",
    "import numpy as np\n",
    "from sklearn.linear_model import LinearRegression\n",
    "from sklearn.tree import DecisionTreeRegressor\n",
    "from sklearn.ensemble import RandomForestRegressor\n",
    "from sklearn.decomposition import PCA\n",
    "from sklearn.cross_validation import cross_val_score\n",
    "from sklearn.cross_validation import cross_val_predict\n",
    "from sklearn.cross_validation import ShuffleSplit\n",
    "from sklearn.preprocessing import PolynomialFeatures\n",
    "%run -i ../../tools/predict_functions.py"
   ]
  },
  {
   "cell_type": "code",
   "execution_count": 175,
   "metadata": {
    "collapsed": true
   },
   "outputs": [],
   "source": [
    "def Prepare_data(data, c, New=False):\n",
    "    \"\"\"Returns the data ready to be used in a prediction.\n",
    "    \n",
    "    -data: full dataset\n",
    "    -c: column/subject to predict\n",
    "    \n",
    "    returns:\n",
    "        -X2: Predictive variables powered to 2\n",
    "        -Poly_X: Predictive variables transformed by a PolynomialFeatures object with degree = 2\n",
    "        -Y: Dataframe with the chosen target and the others\"\"\"\n",
    "    data = data.sort_values(by=c)\n",
    "    \n",
    "    New_x_list = ['ESTU_GENERO', 'ESTU_ACT_PROX_ANNO', 'COD_INTERDISCIPLINAR', 'COLE_CARACTER', 'ESTU_RESIDE_DEPTO',\n",
    "                  'FAMI_APORTANTES', 'FAMI_NUM_HERMANOS_EDUSUPERIOR', 'COLE_JORNADA', 'FAMI_OCUPA_MADRE', 'ESTU_CARRDESEADA_RAZON',\n",
    "                  'FAMI_PERSONAS_HOGAR', 'ESTU_RAZONINSTITUTO', 'FAMI_OCUPA_PADRE', 'FAMI_EDUCA_PADRE', 'FAMI_NUM_HERMANOS',\n",
    "                  'FAMI_EDUCA_MADRE', 'COLE_VALOR_PENSION', 'ESTU_RESIDE_MCPIO', 'ESTU_NACIMIENTO_MES',\n",
    "                  'ESTU_IES_COD_DESEADA', 'ESTU_NACIMIENTO_DIA', 'ESTU_NACIMIENTO_ANNO', 'ESTU_CARRDESEADA_COD',\n",
    "                  'COLE_COD_ICFES', 'FAMI_INGRESO_FMILIAR_MENSUAL']\n",
    "    \n",
    "    y_list = ['PUNT_BIOLOGIA', 'PUNT_MATEMATICAS', 'PUNT_FILOSOFIA', 'PUNT_FISICA', 'PUNT_HISTORIA', 'PUNT_QUIMICA', \n",
    "              'PUNT_LENGUAJE', 'PUNT_GEOGRAFIA', 'PUNT_INTERDISCIPLINAR', 'PUNT_IDIOMA']\n",
    "    \n",
    "    X_list = data.columns.difference(y_list)\n",
    "    \n",
    "    New_X_data = data.filter(items = New_x_list)\n",
    "    Y = data.filter(items = y_list)\n",
    "    X_data = data.filter(items = X_list)\n",
    "    \n",
    "    X2 = New_X_data**2\n",
    "    \n",
    "    pca_LR = PCA(n_components=35)\n",
    "    LR_Data = pca_LR.fit_transform(X_data)\n",
    "    \n",
    "    pca_DT = PCA(n_components=33)\n",
    "    DT_Data = pca_DT(X_data)\n",
    "    \n",
    "    return(X2, LR_Data, DT_Data, Y)"
   ]
  },
  {
   "cell_type": "code",
   "execution_count": 176,
   "metadata": {
    "collapsed": true
   },
   "outputs": [],
   "source": [
    "def Get_Scores(X2, LR_Data, DT_Data, Y, c):\n",
    "    \"\"\"Train the three models (LinearRegression, DecisionTreeRegressor, RandomForestRegressor), and \n",
    "    test them. All of this with a cross_val_score object\n",
    "    \n",
    "    -X2: Predictive variables powered to 2\n",
    "    -Poly_X: Predictive variables transformed by a PolynomialFeatures object with degree = 2\n",
    "    -Y: Dataframe with the chosen target and the others\n",
    "    -c: Chosen column/subject\n",
    "    \n",
    "    Returns:\n",
    "        -Scores of the trained models\"\"\"\n",
    "    \n",
    "    cv = ShuffleSplit(n = X2.shape[0], n_iter=5, test_size=0.2)\n",
    "    \n",
    "    LR = LinearRegression(n_jobs=4)\n",
    "    LR_scores = cross_val_score(LR, LR_Data, Y[c], scoring='mean_absolute_error', cv = cv, n_jobs=4)\n",
    "    \n",
    "    DT = DecisionTreeRegressor(max_depth=6)\n",
    "    DT_scores = cross_val_score(DT, DT_Data, Y[c], scoring='mean_absolute_error', cv = cv, n_jobs=4)\n",
    "    \n",
    "    RF = RandomForestRegressor(max_depth=10, n_jobs=4)\n",
    "    RF_scores = cross_val_score(RF, X2, Y[c], scoring='mean_absolute_error', cv = cv, n_jobs=4)\n",
    "    \n",
    "    return(-LR_scores, -DT_scores, -RF_scores)"
   ]
  },
  {
   "cell_type": "code",
   "execution_count": 177,
   "metadata": {
    "collapsed": false
   },
   "outputs": [],
   "source": [
    "def Show_Score(LR_scores, DT_scores, RF_scores, i):\n",
    "    \"\"\"Shows the Mean Score and the Standard Deviation of the given scores.\"\"\"\n",
    "    print('Scores for the column:', i)\n",
    "    print('Linear Regression:      ','Mean Score', np.mean(LR_scores), 'STD Scores', np.std(LR_scores))\n",
    "    print('Decision Tree Regressor:', 'Mean Score', np.mean(DT_scores), 'STD Scores', np.std(DT_scores))\n",
    "    print('Random Forest:          ', 'Mean Score', np.mean(RF_scores), 'STD Scores', np.std(RF_scores))"
   ]
  },
  {
   "cell_type": "code",
   "execution_count": 178,
   "metadata": {
    "collapsed": false,
    "scrolled": true
   },
   "outputs": [],
   "source": [
    "def Check_slice(lista):\n",
    "    \"\"\"Check if the Dataset contains all the required columns to train, and all the subject to predict.\n",
    "    -lista: List of the columns of the dataset to be used.\"\"\"\n",
    "    lo = len(list(set(X_list)-set(lista)))\n",
    "    Tl = len(list(set(y_list)-set(lista)))\n",
    "    print('Targets Ready') if Tl == 0 else print('There are no ', Tl, 'in the DataFrame')\n",
    "    print('Ready to Train') if lo == 0 else print('There are no ', lo, 'in the DataFrame: ', \n",
    "                                                  list(set(X_list)-set(lista)))"
   ]
  },
  {
   "cell_type": "code",
   "execution_count": 116,
   "metadata": {
    "collapsed": true
   },
   "outputs": [],
   "source": [
    "X_list = ['ESTU_GENERO', 'ESTU_ACT_PROX_ANNO', 'COD_INTERDISCIPLINAR', 'COLE_CARACTER', 'ESTU_RESIDE_DEPTO',\n",
    "          'FAMI_APORTANTES', 'FAMI_NUM_HERMANOS_EDUSUPERIOR', 'COLE_JORNADA', 'FAMI_OCUPA_MADRE', 'ESTU_CARRDESEADA_RAZON',\n",
    "          'FAMI_PERSONAS_HOGAR', 'ESTU_RAZONINSTITUTO', 'FAMI_OCUPA_PADRE', 'FAMI_EDUCA_PADRE', 'FAMI_NUM_HERMANOS',\n",
    "          'FAMI_EDUCA_MADRE', 'COLE_VALOR_PENSION', 'ESTU_RESIDE_MCPIO', 'ESTU_NACIMIENTO_MES',\n",
    "          'ESTU_IES_COD_DESEADA', 'ESTU_NACIMIENTO_DIA', 'ESTU_NACIMIENTO_ANNO', 'ESTU_CARRDESEADA_COD',\n",
    "          'COLE_COD_ICFES', 'FAMI_INGRESO_FMILIAR_MENSUAL']\n",
    "y_list = ['PUNT_BIOLOGIA', 'PUNT_MATEMATICAS', 'PUNT_FILOSOFIA', 'PUNT_FISICA', 'PUNT_HISTORIA', 'PUNT_QUIMICA', \n",
    "          'PUNT_LENGUAJE', 'PUNT_GEOGRAFIA', 'PUNT_INTERDISCIPLINAR', 'PUNT_IDIOMA']"
   ]
  },
  {
   "cell_type": "markdown",
   "metadata": {},
   "source": [
    "____"
   ]
  },
  {
   "cell_type": "markdown",
   "metadata": {},
   "source": [
    "# Testing of the functions"
   ]
  },
  {
   "cell_type": "code",
   "execution_count": 146,
   "metadata": {
    "collapsed": true
   },
   "outputs": [],
   "source": [
    "data_2000_2 = pd.read_csv('../../DatosFTPICFES/SABER11/SB11-BASES_DE_DATOS/READY/2000_2.csv', delimiter=';')"
   ]
  },
  {
   "cell_type": "code",
   "execution_count": 147,
   "metadata": {
    "collapsed": false
   },
   "outputs": [
    {
     "name": "stdout",
     "output_type": "stream",
     "text": [
      "Targets Ready\n",
      "Ready to Train\n"
     ]
    }
   ],
   "source": [
    "Check_slice(data_2000_2.columns)"
   ]
  },
  {
   "cell_type": "code",
   "execution_count": 148,
   "metadata": {
    "collapsed": false
   },
   "outputs": [
    {
     "name": "stdout",
     "output_type": "stream",
     "text": [
      "Training Linear Regression...\n",
      "Training Decision Tree Regressor...\n",
      "Training Random Forest Regressor...\n",
      "Scores for the column: PUNT_BIOLOGIA\n",
      "Linear Regression:       Mean Score 4.07021185276 STD Scores 0.0116656949613\n",
      "Decision Tree Regressor: Mean Score 4.06089698179 STD Scores 0.00455511393733\n",
      "Random Forest:           Mean Score 3.98533883479 STD Scores 0.00805709400176\n"
     ]
    }
   ],
   "source": [
    "i = 'PUNT_BIOLOGIA'\n",
    "X2, Poly_X, Y = Prepare_data(data_2000_2, i)\n",
    "LR_scores, DT_scores, RF_scores = Get_Scores(X2, Poly_X, Y, i)\n",
    "Show_Score(LR_scores, DT_scores, RF_scores, i)"
   ]
  },
  {
   "cell_type": "markdown",
   "metadata": {},
   "source": [
    "First try... gets even a better score with the random forest"
   ]
  },
  {
   "cell_type": "code",
   "execution_count": 180,
   "metadata": {
    "collapsed": true
   },
   "outputs": [],
   "source": [
    "def Predict_all_Subjects(dataset):\n",
    "    \"\"\"Uses the Automation functions to train and test models for each Subject in the given Dataset.\n",
    "    dataset: Dataset to be used for the models\n",
    "    \n",
    "    Returns:\n",
    "        -One Dataset with all the Scores indexed by subject\"\"\"\n",
    "    LR_List = []\n",
    "    DT_List = []\n",
    "    RF_List = []\n",
    "    idx_List = []\n",
    "    for i in y_list:\n",
    "        X2, Poly_X, Y = Prepare_data(dataset, i)\n",
    "        LR_scores, DT_scores, RF_scores = Get_Scores(X2, Poly_X, Y, i)\n",
    "        Show_Score(LR_scores, DT_scores, RF_scores, i)\n",
    "        idx_List.append(i)\n",
    "        LR_List.append(np.mean(LR_scores))\n",
    "        DT_List.append(np.mean(DT_scores))\n",
    "        RF_List.append(np.mean(RF_scores))\n",
    "    Scores_List = {'Subject': idx_List, 'LR': LR_List, 'DTR': DT_List, 'RFR': RF_List}\n",
    "    Scores_DF = pd.DataFrame(Scores_List)\n",
    "    return(Scores_DF)"
   ]
  },
  {
   "cell_type": "code",
   "execution_count": 152,
   "metadata": {
    "collapsed": false,
    "scrolled": true
   },
   "outputs": [
    {
     "name": "stdout",
     "output_type": "stream",
     "text": [
      "Scores for the column: PUNT_BIOLOGIA\n",
      "Linear Regression:       Mean Score 4.0598060564 STD Scores 0.00883410401984\n",
      "Decision Tree Regressor: Mean Score 4.06791610287 STD Scores 0.0109249737968\n",
      "Random Forest:           Mean Score 3.98404734235 STD Scores 0.00585179342112\n",
      "Scores for the column: PUNT_MATEMATICAS\n",
      "Linear Regression:       Mean Score 3.92437241153 STD Scores 0.00628508163154\n",
      "Decision Tree Regressor: Mean Score 3.91676347222 STD Scores 0.00597959777981\n",
      "Random Forest:           Mean Score 3.920904494 STD Scores 0.00923057636998\n",
      "Scores for the column: PUNT_FILOSOFIA\n",
      "Linear Regression:       Mean Score 4.79343867274 STD Scores 0.00539130964524\n",
      "Decision Tree Regressor: Mean Score 4.76119503103 STD Scores 0.00736513241637\n",
      "Random Forest:           Mean Score 4.71823034481 STD Scores 0.015255380715\n",
      "Scores for the column: PUNT_FISICA\n",
      "Linear Regression:       Mean Score 4.48546687208 STD Scores 0.010395521712\n",
      "Decision Tree Regressor: Mean Score 4.49474340999 STD Scores 0.0141001763667\n",
      "Random Forest:           Mean Score 4.49225729186 STD Scores 0.0086536278627\n",
      "Scores for the column: PUNT_HISTORIA\n",
      "Linear Regression:       Mean Score 4.47068875027 STD Scores 0.00609541088023\n",
      "Decision Tree Regressor: Mean Score 4.42415549729 STD Scores 0.00918607295805\n",
      "Random Forest:           Mean Score 4.34207866865 STD Scores 0.00724538680739\n",
      "Scores for the column: PUNT_QUIMICA\n",
      "Linear Regression:       Mean Score 3.93638562004 STD Scores 0.00606418464566\n",
      "Decision Tree Regressor: Mean Score 3.89707057269 STD Scores 0.00881665516867\n",
      "Random Forest:           Mean Score 3.82556911622 STD Scores 0.0112661966865\n",
      "Scores for the column: PUNT_LENGUAJE\n",
      "Linear Regression:       Mean Score 4.59554373238 STD Scores 0.00789652219639\n",
      "Decision Tree Regressor: Mean Score 4.56969369489 STD Scores 0.00966782550803\n",
      "Random Forest:           Mean Score 4.45974135771 STD Scores 0.010369843542\n",
      "Scores for the column: PUNT_GEOGRAFIA\n",
      "Linear Regression:       Mean Score 4.57327652255 STD Scores 0.006213233547\n",
      "Decision Tree Regressor: Mean Score 4.54010290082 STD Scores 0.0126845850241\n",
      "Random Forest:           Mean Score 4.45623627133 STD Scores 0.0100175541906\n",
      "Scores for the column: PUNT_INTERDISCIPLINAR\n",
      "Linear Regression:       Mean Score 7.15216524504 STD Scores 0.0168235918329\n",
      "Decision Tree Regressor: Mean Score 4.79098494952 STD Scores 0.0105491903291\n",
      "Random Forest:           Mean Score 4.73922452599 STD Scores 0.0231608702887\n",
      "Scores for the column: PUNT_IDIOMA\n",
      "Linear Regression:       Mean Score 4.43438328804 STD Scores 0.0164208598135\n",
      "Decision Tree Regressor: Mean Score 4.39086421806 STD Scores 0.0152167383783\n",
      "Random Forest:           Mean Score 4.31714728219 STD Scores 0.0069168869497\n"
     ]
    }
   ],
   "source": [
    "LR_List = []\n",
    "DT_List = []\n",
    "RF_List = []\n",
    "idx_List = []\n",
    "for i in y_list:\n",
    "    X2, Poly_X, Y = Prepare_data(data_2000_2, i)\n",
    "    LR_scores, DT_scores, RF_scores = Get_Scores(X2, Poly_X, Y, i)\n",
    "    Show_Score(LR_scores, DT_scores, RF_scores, i)\n",
    "    idx_List.append(i)\n",
    "    LR_List.append(np.mean(LR_scores))\n",
    "    DT_List.append(np.mean(DT_scores))\n",
    "    RF_List.append(np.mean(RF_scores))\n",
    "Scores_List = {'Subject': idx_List, 'LR': LR_List, 'DTR': DT_List, 'RFR': RF_List}\n",
    "Scores_2001_1 = pd.DataFrame(Scores_List)"
   ]
  },
  {
   "cell_type": "markdown",
   "metadata": {},
   "source": [
    "___"
   ]
  },
  {
   "cell_type": "markdown",
   "metadata": {},
   "source": [
    "# Trying Fit with 1st Dataset and Test with 2nd Dataset"
   ]
  },
  {
   "cell_type": "code",
   "execution_count": 154,
   "metadata": {
    "collapsed": true
   },
   "outputs": [],
   "source": [
    "data_2000 = pd.read_csv('../../DatosFTPICFES/SABER11/SB11-BASES_DE_DATOS/READY/2000_1.csv', delimiter=';')"
   ]
  },
  {
   "cell_type": "code",
   "execution_count": 155,
   "metadata": {
    "collapsed": true
   },
   "outputs": [],
   "source": [
    "data_2000_2 = pd.read_csv('../../DatosFTPICFES/SABER11/SB11-BASES_DE_DATOS/READY/2000_2.csv', delimiter=';')"
   ]
  },
  {
   "cell_type": "code",
   "execution_count": 185,
   "metadata": {
    "collapsed": true
   },
   "outputs": [],
   "source": [
    "def Test_with_2sets(dataset1, dataset2, c):\n",
    "    \"\"\"Train three models with the first Dataset, and Test the models with the second Dataset,\n",
    "    -Shows the Mean Absolute Error of each model.\n",
    "    \n",
    "    -dataset1: First dataset, will be used to train the models\n",
    "    -dataset2: Second dataset, will be used to test the models\n",
    "    -c: Column/Subject to predict\n",
    "    \n",
    "    Returns:\n",
    "        -The trained Models\n",
    "        -The Score of each Model\"\"\"\n",
    "    X2, Poly_X, Y = Prepare_data(dataset1, c)\n",
    "    X2_2, Poly_X_2, Y_2 = Prepare_data(dataset2, c)\n",
    "    \n",
    "    ##################TRAINING SIDE######################\n",
    "    LR = LinearRegression(n_jobs=4);\n",
    "    LR.fit(X2, Y[c]);\n",
    "    \n",
    "    DT = DecisionTreeRegressor(max_depth=6);\n",
    "    DT.fit(Poly_X, Y[c]);\n",
    "    \n",
    "    RF = RandomForestRegressor(max_depth=10, n_jobs=4);\n",
    "    RF.fit(X2, Y[c]);\n",
    "    ####################################################\n",
    "    ##################TESTING SIDE######################\n",
    "    LR_Score = MAD(Y_2[c], LR.predict(X2_2))\n",
    "    DT_Score = MAD(Y_2[c], DT.predict(Poly_X_2))\n",
    "    RF_Score = MAD(Y_2[c], RF.predict(X2_2))\n",
    "    print('Scores for the Columns/Subject:', c)\n",
    "    print('Score LR:', LR_Score)\n",
    "    print('Score DT:', DT_Score)\n",
    "    print('Score RF:', RF_Score)\n",
    "    print()\n",
    "    ####################################################\n",
    "    \n",
    "    return(LR, LR_Score, DT, DT_Score, RF, RF_Score)"
   ]
  },
  {
   "cell_type": "code",
   "execution_count": 186,
   "metadata": {
    "collapsed": false
   },
   "outputs": [],
   "source": [
    "def Test_all_Subjects(dataset1, dataset2):\n",
    "    \"\"\"Uses the Test_with_2sets function to do the corresponding predictions for each Subject.\n",
    "    \n",
    "    Shows the Prediction of the Subject for each model. \n",
    "    \n",
    "    dataset1: First dataset, will be used to predict\n",
    "    dataset2: Second dataset, will be used to test\n",
    "    \n",
    "    Returns:\n",
    "        -One DataFrame with all the Scores for each Subject.\"\"\"\n",
    "    LR_List = []\n",
    "    DT_List = []\n",
    "    RF_List = []\n",
    "    idx_List = []\n",
    "    for i in y_list:\n",
    "        LR, LR_Score, DT, DT_Score, RF, RF_Score = Test_with_2sets(dataset1, dataset2, i)\n",
    "        idx_List.append(i)\n",
    "        LR_List.append(LR_score)\n",
    "        DT_List.append(DT_score)\n",
    "        RF_List.append(RF_score)\n",
    "    Scores_List = {'Subject': idx_List, 'LR': LR_List, 'DTR': DT_List, 'RFR': RF_List}\n",
    "    Score_DF = pd.DataFrame(Scores_List)\n",
    "    return(Score_DF)"
   ]
  },
  {
   "cell_type": "code",
   "execution_count": 171,
   "metadata": {
    "collapsed": false
   },
   "outputs": [
    {
     "name": "stdout",
     "output_type": "stream",
     "text": [
      "Score LR: 104.44124393187163\n",
      "Score DT: 5.112135524676685\n",
      "Score RF: 5.164256732720748\n"
     ]
    }
   ],
   "source": [
    "LR, DT, RF = Test_with_2sets(data_2000, data_2000_2, 'PUNT_BIOLOGIA')"
   ]
  }
 ],
 "metadata": {
  "kernelspec": {
   "display_name": "Python 3 + Anaconda",
   "language": "python",
   "name": "pyconda3"
  },
  "language_info": {
   "codemirror_mode": {
    "name": "ipython",
    "version": 3
   },
   "file_extension": ".py",
   "mimetype": "text/x-python",
   "name": "python",
   "nbconvert_exporter": "python",
   "pygments_lexer": "ipython3",
   "version": "3.5.1"
  }
 },
 "nbformat": 4,
 "nbformat_minor": 0
}
