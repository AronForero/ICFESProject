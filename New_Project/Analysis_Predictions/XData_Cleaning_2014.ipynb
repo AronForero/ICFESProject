{
 "cells": [
  {
   "cell_type": "code",
   "execution_count": 1,
   "metadata": {
    "collapsed": true
   },
   "outputs": [],
   "source": [
    "import pandas as pd\n",
    "import numpy as np\n",
    "%run -i ../tools/functions.py\n",
    "%run -i ../tools/label_encoder.py"
   ]
  },
  {
   "cell_type": "code",
   "execution_count": 2,
   "metadata": {
    "collapsed": false
   },
   "outputs": [
    {
     "name": "stderr",
     "output_type": "stream",
     "text": [
      "/usr/local/lib/python3.4/dist-packages/IPython/core/interactiveshell.py:2902: DtypeWarning: Columns (18,19,20,25,26,27) have mixed types. Specify dtype option on import or set low_memory=False.\n",
      "  interactivity=interactivity, compiler=compiler, result=result)\n"
     ]
    }
   ],
   "source": [
    "data_2014 = pd.read_csv('../DatosFTPICFES/SABER11/SB11-BASES_DE_DATOS/SB11-20141-RGSTRO-CLFCCN-V1-0.txt', delimiter = '|')"
   ]
  },
  {
   "cell_type": "code",
   "execution_count": 3,
   "metadata": {
    "collapsed": false
   },
   "outputs": [
    {
     "data": {
      "text/plain": [
       "(88685, 102)"
      ]
     },
     "execution_count": 3,
     "metadata": {},
     "output_type": "execute_result"
    }
   ],
   "source": [
    "data_2014.shape"
   ]
  },
  {
   "cell_type": "code",
   "execution_count": 4,
   "metadata": {
    "collapsed": false,
    "scrolled": true
   },
   "outputs": [
    {
     "data": {
      "text/html": [
       "<div>\n",
       "<table border=\"1\" class=\"dataframe\">\n",
       "  <thead>\n",
       "    <tr style=\"text-align: right;\">\n",
       "      <th></th>\n",
       "      <th>0</th>\n",
       "      <th>1</th>\n",
       "      <th>2</th>\n",
       "    </tr>\n",
       "  </thead>\n",
       "  <tbody>\n",
       "    <tr>\n",
       "      <th>PERIODO</th>\n",
       "      <td>20141</td>\n",
       "      <td>20141</td>\n",
       "      <td>20141</td>\n",
       "    </tr>\n",
       "    <tr>\n",
       "      <th>ESTU_CONSECUTIVO</th>\n",
       "      <td>SABER1120141000001</td>\n",
       "      <td>SABER1120141000002</td>\n",
       "      <td>SABER1120141000003</td>\n",
       "    </tr>\n",
       "    <tr>\n",
       "      <th>ESTU_GENERO</th>\n",
       "      <td>M</td>\n",
       "      <td>F</td>\n",
       "      <td>F</td>\n",
       "    </tr>\n",
       "    <tr>\n",
       "      <th>ESTU_FECHA_NACIMIENTO</th>\n",
       "      <td>21/10/90</td>\n",
       "      <td>04/11/69</td>\n",
       "      <td>20/02/72</td>\n",
       "    </tr>\n",
       "    <tr>\n",
       "      <th>ESTU_ETNIA</th>\n",
       "      <td>NaN</td>\n",
       "      <td>1</td>\n",
       "      <td>99</td>\n",
       "    </tr>\n",
       "    <tr>\n",
       "      <th>ESTU_LIMITA_COGNITIVA</th>\n",
       "      <td>NaN</td>\n",
       "      <td>NaN</td>\n",
       "      <td>NaN</td>\n",
       "    </tr>\n",
       "    <tr>\n",
       "      <th>ESTU_LIMITA_CONDICIONESPECIAL</th>\n",
       "      <td>-</td>\n",
       "      <td>-</td>\n",
       "      <td>-</td>\n",
       "    </tr>\n",
       "    <tr>\n",
       "      <th>ESTU_LIMITA_MOTRIZ</th>\n",
       "      <td>NaN</td>\n",
       "      <td>NaN</td>\n",
       "      <td>NaN</td>\n",
       "    </tr>\n",
       "    <tr>\n",
       "      <th>ESTU_LIMITA_INVIDENTE</th>\n",
       "      <td>NaN</td>\n",
       "      <td>NaN</td>\n",
       "      <td>NaN</td>\n",
       "    </tr>\n",
       "    <tr>\n",
       "      <th>ESTU_LIMITA_SORDO</th>\n",
       "      <td>-</td>\n",
       "      <td>-</td>\n",
       "      <td>-</td>\n",
       "    </tr>\n",
       "    <tr>\n",
       "      <th>ESTU_LIMITA_SDOWN</th>\n",
       "      <td>-</td>\n",
       "      <td>-</td>\n",
       "      <td>-</td>\n",
       "    </tr>\n",
       "    <tr>\n",
       "      <th>ESTU_LIMITA_AUTISMO</th>\n",
       "      <td>-</td>\n",
       "      <td>-</td>\n",
       "      <td>-</td>\n",
       "    </tr>\n",
       "    <tr>\n",
       "      <th>ESTU_COD_RESIDE_MCPIO</th>\n",
       "      <td>23001</td>\n",
       "      <td>5045</td>\n",
       "      <td>5045</td>\n",
       "    </tr>\n",
       "    <tr>\n",
       "      <th>ESTU_RESIDE_MCPIO</th>\n",
       "      <td>MONTERIA</td>\n",
       "      <td>APARTADO</td>\n",
       "      <td>APARTADO</td>\n",
       "    </tr>\n",
       "    <tr>\n",
       "      <th>ESTU_RESIDE_DEPTO</th>\n",
       "      <td>CÓRDOBA</td>\n",
       "      <td>ANTIOQUIA</td>\n",
       "      <td>ANTIOQUIA</td>\n",
       "    </tr>\n",
       "    <tr>\n",
       "      <th>ESTU_ZONA_RESIDE</th>\n",
       "      <td>10</td>\n",
       "      <td>10</td>\n",
       "      <td>10</td>\n",
       "    </tr>\n",
       "    <tr>\n",
       "      <th>ESTU_AREA_RESIDE</th>\n",
       "      <td>1</td>\n",
       "      <td>NaN</td>\n",
       "      <td>NaN</td>\n",
       "    </tr>\n",
       "    <tr>\n",
       "      <th>COLE_COD_ICFES</th>\n",
       "      <td>131219</td>\n",
       "      <td>131219</td>\n",
       "      <td>131219</td>\n",
       "    </tr>\n",
       "    <tr>\n",
       "      <th>COLE_NOMBRE_SEDE</th>\n",
       "      <td>INSTITUTO CORFERRINI</td>\n",
       "      <td>INSTITUTO CORFERRINI</td>\n",
       "      <td>INSTITUTO CORFERRINI</td>\n",
       "    </tr>\n",
       "    <tr>\n",
       "      <th>COLE_COD_DANE_INSTITUCION</th>\n",
       "      <td>3.05837e+11</td>\n",
       "      <td>3.05837e+11</td>\n",
       "      <td>3.05837e+11</td>\n",
       "    </tr>\n",
       "    <tr>\n",
       "      <th>COLE_JORNADA</th>\n",
       "      <td>SABATINA - DOMINICAL</td>\n",
       "      <td>SABATINA - DOMINICAL</td>\n",
       "      <td>SABATINA - DOMINICAL</td>\n",
       "    </tr>\n",
       "    <tr>\n",
       "      <th>COLE_VALOR_PENSION</th>\n",
       "      <td>NaN</td>\n",
       "      <td>NaN</td>\n",
       "      <td>NaN</td>\n",
       "    </tr>\n",
       "    <tr>\n",
       "      <th>ESTU_CARRDESEADA_TIPO</th>\n",
       "      <td>NaN</td>\n",
       "      <td>NaN</td>\n",
       "      <td>NaN</td>\n",
       "    </tr>\n",
       "    <tr>\n",
       "      <th>ESTU_IES_COD_DESEADA</th>\n",
       "      <td>NaN</td>\n",
       "      <td>NaN</td>\n",
       "      <td>NaN</td>\n",
       "    </tr>\n",
       "    <tr>\n",
       "      <th>ESTU_IES_COD_MPIO_DESEADA</th>\n",
       "      <td>NaN</td>\n",
       "      <td>NaN</td>\n",
       "      <td>NaN</td>\n",
       "    </tr>\n",
       "    <tr>\n",
       "      <th>ESTU_IES_DEPT_DESEADA</th>\n",
       "      <td>NaN</td>\n",
       "      <td>NaN</td>\n",
       "      <td>NaN</td>\n",
       "    </tr>\n",
       "    <tr>\n",
       "      <th>ESTU_IES_DESEADA_NOMBRE</th>\n",
       "      <td>NaN</td>\n",
       "      <td>NaN</td>\n",
       "      <td>NaN</td>\n",
       "    </tr>\n",
       "    <tr>\n",
       "      <th>ESTU_IES_MPIO_DESEADA</th>\n",
       "      <td>NaN</td>\n",
       "      <td>NaN</td>\n",
       "      <td>NaN</td>\n",
       "    </tr>\n",
       "    <tr>\n",
       "      <th>ESTU_TOTAL_ALUMNOS_CURSO</th>\n",
       "      <td>NaN</td>\n",
       "      <td>NaN</td>\n",
       "      <td>NaN</td>\n",
       "    </tr>\n",
       "    <tr>\n",
       "      <th>ESTU_ANO_MATRICULA_PRIMERO</th>\n",
       "      <td>NaN</td>\n",
       "      <td>NaN</td>\n",
       "      <td>NaN</td>\n",
       "    </tr>\n",
       "    <tr>\n",
       "      <th>...</th>\n",
       "      <td>...</td>\n",
       "      <td>...</td>\n",
       "      <td>...</td>\n",
       "    </tr>\n",
       "    <tr>\n",
       "      <th>FAMI_PERSONAS_HOGAR</th>\n",
       "      <td>3</td>\n",
       "      <td>3</td>\n",
       "      <td>6</td>\n",
       "    </tr>\n",
       "    <tr>\n",
       "      <th>FAMI_CUARTOS_HOGAR</th>\n",
       "      <td>3</td>\n",
       "      <td>2</td>\n",
       "      <td>2</td>\n",
       "    </tr>\n",
       "    <tr>\n",
       "      <th>FAMI_PISOSHOGAR</th>\n",
       "      <td>4</td>\n",
       "      <td>2</td>\n",
       "      <td>2</td>\n",
       "    </tr>\n",
       "    <tr>\n",
       "      <th>FAMI_TELEFONO_FIJO</th>\n",
       "      <td>0</td>\n",
       "      <td>0</td>\n",
       "      <td>0</td>\n",
       "    </tr>\n",
       "    <tr>\n",
       "      <th>FAMI_CELULAR</th>\n",
       "      <td>1</td>\n",
       "      <td>1</td>\n",
       "      <td>1</td>\n",
       "    </tr>\n",
       "    <tr>\n",
       "      <th>FAMI_INTERNET</th>\n",
       "      <td>1</td>\n",
       "      <td>0</td>\n",
       "      <td>0</td>\n",
       "    </tr>\n",
       "    <tr>\n",
       "      <th>FAMI_TELEVISOR</th>\n",
       "      <td>1</td>\n",
       "      <td>1</td>\n",
       "      <td>1</td>\n",
       "    </tr>\n",
       "    <tr>\n",
       "      <th>FAMI_COMPUTADOR</th>\n",
       "      <td>1</td>\n",
       "      <td>0</td>\n",
       "      <td>0</td>\n",
       "    </tr>\n",
       "    <tr>\n",
       "      <th>FAMI_DVD</th>\n",
       "      <td>0</td>\n",
       "      <td>0</td>\n",
       "      <td>0</td>\n",
       "    </tr>\n",
       "    <tr>\n",
       "      <th>FAMI_LAVADORA</th>\n",
       "      <td>1</td>\n",
       "      <td>1</td>\n",
       "      <td>1</td>\n",
       "    </tr>\n",
       "    <tr>\n",
       "      <th>FAMI_MICROONDAS</th>\n",
       "      <td>1</td>\n",
       "      <td>0</td>\n",
       "      <td>0</td>\n",
       "    </tr>\n",
       "    <tr>\n",
       "      <th>FAMI_NEVERA</th>\n",
       "      <td>1</td>\n",
       "      <td>1</td>\n",
       "      <td>1</td>\n",
       "    </tr>\n",
       "    <tr>\n",
       "      <th>FAMI_AUTOMOVIL</th>\n",
       "      <td>0</td>\n",
       "      <td>0</td>\n",
       "      <td>0</td>\n",
       "    </tr>\n",
       "    <tr>\n",
       "      <th>FAMI_HORNO</th>\n",
       "      <td>0</td>\n",
       "      <td>0</td>\n",
       "      <td>0</td>\n",
       "    </tr>\n",
       "    <tr>\n",
       "      <th>FAMI_INGRESO_FMILIAR_MENSUAL</th>\n",
       "      <td>4</td>\n",
       "      <td>2</td>\n",
       "      <td>2</td>\n",
       "    </tr>\n",
       "    <tr>\n",
       "      <th>ESTU_TRABAJA</th>\n",
       "      <td>NaN</td>\n",
       "      <td>NaN</td>\n",
       "      <td>NaN</td>\n",
       "    </tr>\n",
       "    <tr>\n",
       "      <th>ESTU_RECIBE_SALARIO</th>\n",
       "      <td>-</td>\n",
       "      <td>-</td>\n",
       "      <td>-</td>\n",
       "    </tr>\n",
       "    <tr>\n",
       "      <th>ESTU_PUESTO</th>\n",
       "      <td>608</td>\n",
       "      <td>871</td>\n",
       "      <td>850</td>\n",
       "    </tr>\n",
       "    <tr>\n",
       "      <th>PUNT_LENGUAJE</th>\n",
       "      <td>51</td>\n",
       "      <td>36</td>\n",
       "      <td>49</td>\n",
       "    </tr>\n",
       "    <tr>\n",
       "      <th>PUNT_MATEMATICAS</th>\n",
       "      <td>43</td>\n",
       "      <td>46</td>\n",
       "      <td>32</td>\n",
       "    </tr>\n",
       "    <tr>\n",
       "      <th>PUNT_C_SOCIALES</th>\n",
       "      <td>32</td>\n",
       "      <td>36</td>\n",
       "      <td>38</td>\n",
       "    </tr>\n",
       "    <tr>\n",
       "      <th>PUNT_FILOSOFIA</th>\n",
       "      <td>40</td>\n",
       "      <td>30</td>\n",
       "      <td>30</td>\n",
       "    </tr>\n",
       "    <tr>\n",
       "      <th>PUNT_BIOLOGIA</th>\n",
       "      <td>47</td>\n",
       "      <td>33</td>\n",
       "      <td>30</td>\n",
       "    </tr>\n",
       "    <tr>\n",
       "      <th>PUNT_QUIMICA</th>\n",
       "      <td>37</td>\n",
       "      <td>37</td>\n",
       "      <td>37</td>\n",
       "    </tr>\n",
       "    <tr>\n",
       "      <th>PUNT_FISICA</th>\n",
       "      <td>38</td>\n",
       "      <td>27</td>\n",
       "      <td>38</td>\n",
       "    </tr>\n",
       "    <tr>\n",
       "      <th>PUNT_INGLES</th>\n",
       "      <td>38</td>\n",
       "      <td>38</td>\n",
       "      <td>34</td>\n",
       "    </tr>\n",
       "    <tr>\n",
       "      <th>DESEMP_INGLES</th>\n",
       "      <td>A-</td>\n",
       "      <td>A-</td>\n",
       "      <td>A-</td>\n",
       "    </tr>\n",
       "    <tr>\n",
       "      <th>NOMBRE_COMP_FLEXIBLE</th>\n",
       "      <td>MEDIO AMBIENTE</td>\n",
       "      <td>PROFUNDIZACIÓN EN CIENCIAS SOCIALES</td>\n",
       "      <td>MEDIO AMBIENTE</td>\n",
       "    </tr>\n",
       "    <tr>\n",
       "      <th>PUNT_COMP_FLEXIBLE</th>\n",
       "      <td>53</td>\n",
       "      <td>4</td>\n",
       "      <td>51</td>\n",
       "    </tr>\n",
       "    <tr>\n",
       "      <th>DESEMP_COMP_FLEXIBLE</th>\n",
       "      <td>NaN</td>\n",
       "      <td>GB</td>\n",
       "      <td>NaN</td>\n",
       "    </tr>\n",
       "  </tbody>\n",
       "</table>\n",
       "<p>102 rows × 3 columns</p>\n",
       "</div>"
      ],
      "text/plain": [
       "                                                  0  \\\n",
       "PERIODO                                       20141   \n",
       "ESTU_CONSECUTIVO                 SABER1120141000001   \n",
       "ESTU_GENERO                                       M   \n",
       "ESTU_FECHA_NACIMIENTO                      21/10/90   \n",
       "ESTU_ETNIA                                      NaN   \n",
       "ESTU_LIMITA_COGNITIVA                           NaN   \n",
       "ESTU_LIMITA_CONDICIONESPECIAL                     -   \n",
       "ESTU_LIMITA_MOTRIZ                              NaN   \n",
       "ESTU_LIMITA_INVIDENTE                           NaN   \n",
       "ESTU_LIMITA_SORDO                                 -   \n",
       "ESTU_LIMITA_SDOWN                                 -   \n",
       "ESTU_LIMITA_AUTISMO                               -   \n",
       "ESTU_COD_RESIDE_MCPIO                         23001   \n",
       "ESTU_RESIDE_MCPIO                          MONTERIA   \n",
       "ESTU_RESIDE_DEPTO                           CÓRDOBA   \n",
       "ESTU_ZONA_RESIDE                                 10   \n",
       "ESTU_AREA_RESIDE                                  1   \n",
       "COLE_COD_ICFES                               131219   \n",
       "COLE_NOMBRE_SEDE               INSTITUTO CORFERRINI   \n",
       "COLE_COD_DANE_INSTITUCION               3.05837e+11   \n",
       "COLE_JORNADA                   SABATINA - DOMINICAL   \n",
       "COLE_VALOR_PENSION                              NaN   \n",
       "ESTU_CARRDESEADA_TIPO                           NaN   \n",
       "ESTU_IES_COD_DESEADA                            NaN   \n",
       "ESTU_IES_COD_MPIO_DESEADA                       NaN   \n",
       "ESTU_IES_DEPT_DESEADA                           NaN   \n",
       "ESTU_IES_DESEADA_NOMBRE                         NaN   \n",
       "ESTU_IES_MPIO_DESEADA                           NaN   \n",
       "ESTU_TOTAL_ALUMNOS_CURSO                        NaN   \n",
       "ESTU_ANO_MATRICULA_PRIMERO                      NaN   \n",
       "...                                             ...   \n",
       "FAMI_PERSONAS_HOGAR                               3   \n",
       "FAMI_CUARTOS_HOGAR                                3   \n",
       "FAMI_PISOSHOGAR                                   4   \n",
       "FAMI_TELEFONO_FIJO                                0   \n",
       "FAMI_CELULAR                                      1   \n",
       "FAMI_INTERNET                                     1   \n",
       "FAMI_TELEVISOR                                    1   \n",
       "FAMI_COMPUTADOR                                   1   \n",
       "FAMI_DVD                                          0   \n",
       "FAMI_LAVADORA                                     1   \n",
       "FAMI_MICROONDAS                                   1   \n",
       "FAMI_NEVERA                                       1   \n",
       "FAMI_AUTOMOVIL                                    0   \n",
       "FAMI_HORNO                                        0   \n",
       "FAMI_INGRESO_FMILIAR_MENSUAL                      4   \n",
       "ESTU_TRABAJA                                    NaN   \n",
       "ESTU_RECIBE_SALARIO                               -   \n",
       "ESTU_PUESTO                                     608   \n",
       "PUNT_LENGUAJE                                    51   \n",
       "PUNT_MATEMATICAS                                 43   \n",
       "PUNT_C_SOCIALES                                  32   \n",
       "PUNT_FILOSOFIA                                   40   \n",
       "PUNT_BIOLOGIA                                    47   \n",
       "PUNT_QUIMICA                                     37   \n",
       "PUNT_FISICA                                      38   \n",
       "PUNT_INGLES                                      38   \n",
       "DESEMP_INGLES                                    A-   \n",
       "NOMBRE_COMP_FLEXIBLE                 MEDIO AMBIENTE   \n",
       "PUNT_COMP_FLEXIBLE                               53   \n",
       "DESEMP_COMP_FLEXIBLE                            NaN   \n",
       "\n",
       "                                                                 1  \\\n",
       "PERIODO                                                      20141   \n",
       "ESTU_CONSECUTIVO                                SABER1120141000002   \n",
       "ESTU_GENERO                                                      F   \n",
       "ESTU_FECHA_NACIMIENTO                                     04/11/69   \n",
       "ESTU_ETNIA                                                       1   \n",
       "ESTU_LIMITA_COGNITIVA                                          NaN   \n",
       "ESTU_LIMITA_CONDICIONESPECIAL                                    -   \n",
       "ESTU_LIMITA_MOTRIZ                                             NaN   \n",
       "ESTU_LIMITA_INVIDENTE                                          NaN   \n",
       "ESTU_LIMITA_SORDO                                                -   \n",
       "ESTU_LIMITA_SDOWN                                                -   \n",
       "ESTU_LIMITA_AUTISMO                                              -   \n",
       "ESTU_COD_RESIDE_MCPIO                                         5045   \n",
       "ESTU_RESIDE_MCPIO                                         APARTADO   \n",
       "ESTU_RESIDE_DEPTO                                        ANTIOQUIA   \n",
       "ESTU_ZONA_RESIDE                                                10   \n",
       "ESTU_AREA_RESIDE                                               NaN   \n",
       "COLE_COD_ICFES                                              131219   \n",
       "COLE_NOMBRE_SEDE                              INSTITUTO CORFERRINI   \n",
       "COLE_COD_DANE_INSTITUCION                              3.05837e+11   \n",
       "COLE_JORNADA                                  SABATINA - DOMINICAL   \n",
       "COLE_VALOR_PENSION                                             NaN   \n",
       "ESTU_CARRDESEADA_TIPO                                          NaN   \n",
       "ESTU_IES_COD_DESEADA                                           NaN   \n",
       "ESTU_IES_COD_MPIO_DESEADA                                      NaN   \n",
       "ESTU_IES_DEPT_DESEADA                                          NaN   \n",
       "ESTU_IES_DESEADA_NOMBRE                                        NaN   \n",
       "ESTU_IES_MPIO_DESEADA                                          NaN   \n",
       "ESTU_TOTAL_ALUMNOS_CURSO                                       NaN   \n",
       "ESTU_ANO_MATRICULA_PRIMERO                                     NaN   \n",
       "...                                                            ...   \n",
       "FAMI_PERSONAS_HOGAR                                              3   \n",
       "FAMI_CUARTOS_HOGAR                                               2   \n",
       "FAMI_PISOSHOGAR                                                  2   \n",
       "FAMI_TELEFONO_FIJO                                               0   \n",
       "FAMI_CELULAR                                                     1   \n",
       "FAMI_INTERNET                                                    0   \n",
       "FAMI_TELEVISOR                                                   1   \n",
       "FAMI_COMPUTADOR                                                  0   \n",
       "FAMI_DVD                                                         0   \n",
       "FAMI_LAVADORA                                                    1   \n",
       "FAMI_MICROONDAS                                                  0   \n",
       "FAMI_NEVERA                                                      1   \n",
       "FAMI_AUTOMOVIL                                                   0   \n",
       "FAMI_HORNO                                                       0   \n",
       "FAMI_INGRESO_FMILIAR_MENSUAL                                     2   \n",
       "ESTU_TRABAJA                                                   NaN   \n",
       "ESTU_RECIBE_SALARIO                                              -   \n",
       "ESTU_PUESTO                                                    871   \n",
       "PUNT_LENGUAJE                                                   36   \n",
       "PUNT_MATEMATICAS                                                46   \n",
       "PUNT_C_SOCIALES                                                 36   \n",
       "PUNT_FILOSOFIA                                                  30   \n",
       "PUNT_BIOLOGIA                                                   33   \n",
       "PUNT_QUIMICA                                                    37   \n",
       "PUNT_FISICA                                                     27   \n",
       "PUNT_INGLES                                                     38   \n",
       "DESEMP_INGLES                                                   A-   \n",
       "NOMBRE_COMP_FLEXIBLE           PROFUNDIZACIÓN EN CIENCIAS SOCIALES   \n",
       "PUNT_COMP_FLEXIBLE                                               4   \n",
       "DESEMP_COMP_FLEXIBLE                                            GB   \n",
       "\n",
       "                                                  2  \n",
       "PERIODO                                       20141  \n",
       "ESTU_CONSECUTIVO                 SABER1120141000003  \n",
       "ESTU_GENERO                                       F  \n",
       "ESTU_FECHA_NACIMIENTO                      20/02/72  \n",
       "ESTU_ETNIA                                       99  \n",
       "ESTU_LIMITA_COGNITIVA                           NaN  \n",
       "ESTU_LIMITA_CONDICIONESPECIAL                     -  \n",
       "ESTU_LIMITA_MOTRIZ                              NaN  \n",
       "ESTU_LIMITA_INVIDENTE                           NaN  \n",
       "ESTU_LIMITA_SORDO                                 -  \n",
       "ESTU_LIMITA_SDOWN                                 -  \n",
       "ESTU_LIMITA_AUTISMO                               -  \n",
       "ESTU_COD_RESIDE_MCPIO                          5045  \n",
       "ESTU_RESIDE_MCPIO                          APARTADO  \n",
       "ESTU_RESIDE_DEPTO                         ANTIOQUIA  \n",
       "ESTU_ZONA_RESIDE                                 10  \n",
       "ESTU_AREA_RESIDE                                NaN  \n",
       "COLE_COD_ICFES                               131219  \n",
       "COLE_NOMBRE_SEDE               INSTITUTO CORFERRINI  \n",
       "COLE_COD_DANE_INSTITUCION               3.05837e+11  \n",
       "COLE_JORNADA                   SABATINA - DOMINICAL  \n",
       "COLE_VALOR_PENSION                              NaN  \n",
       "ESTU_CARRDESEADA_TIPO                           NaN  \n",
       "ESTU_IES_COD_DESEADA                            NaN  \n",
       "ESTU_IES_COD_MPIO_DESEADA                       NaN  \n",
       "ESTU_IES_DEPT_DESEADA                           NaN  \n",
       "ESTU_IES_DESEADA_NOMBRE                         NaN  \n",
       "ESTU_IES_MPIO_DESEADA                           NaN  \n",
       "ESTU_TOTAL_ALUMNOS_CURSO                        NaN  \n",
       "ESTU_ANO_MATRICULA_PRIMERO                      NaN  \n",
       "...                                             ...  \n",
       "FAMI_PERSONAS_HOGAR                               6  \n",
       "FAMI_CUARTOS_HOGAR                                2  \n",
       "FAMI_PISOSHOGAR                                   2  \n",
       "FAMI_TELEFONO_FIJO                                0  \n",
       "FAMI_CELULAR                                      1  \n",
       "FAMI_INTERNET                                     0  \n",
       "FAMI_TELEVISOR                                    1  \n",
       "FAMI_COMPUTADOR                                   0  \n",
       "FAMI_DVD                                          0  \n",
       "FAMI_LAVADORA                                     1  \n",
       "FAMI_MICROONDAS                                   0  \n",
       "FAMI_NEVERA                                       1  \n",
       "FAMI_AUTOMOVIL                                    0  \n",
       "FAMI_HORNO                                        0  \n",
       "FAMI_INGRESO_FMILIAR_MENSUAL                      2  \n",
       "ESTU_TRABAJA                                    NaN  \n",
       "ESTU_RECIBE_SALARIO                               -  \n",
       "ESTU_PUESTO                                     850  \n",
       "PUNT_LENGUAJE                                    49  \n",
       "PUNT_MATEMATICAS                                 32  \n",
       "PUNT_C_SOCIALES                                  38  \n",
       "PUNT_FILOSOFIA                                   30  \n",
       "PUNT_BIOLOGIA                                    30  \n",
       "PUNT_QUIMICA                                     37  \n",
       "PUNT_FISICA                                      38  \n",
       "PUNT_INGLES                                      34  \n",
       "DESEMP_INGLES                                    A-  \n",
       "NOMBRE_COMP_FLEXIBLE                 MEDIO AMBIENTE  \n",
       "PUNT_COMP_FLEXIBLE                               51  \n",
       "DESEMP_COMP_FLEXIBLE                            NaN  \n",
       "\n",
       "[102 rows x 3 columns]"
      ]
     },
     "execution_count": 4,
     "metadata": {},
     "output_type": "execute_result"
    }
   ],
   "source": [
    "data_2014.head(3).T"
   ]
  },
  {
   "cell_type": "code",
   "execution_count": 7,
   "metadata": {
    "collapsed": false
   },
   "outputs": [],
   "source": [
    "data_2014 = data_2014.drop(['PERIODO', 'ESTU_CONSECUTIVO', 'ESTU_COD_RESIDE_MCPIO', 'COLE_NOMBRE_SEDE',\n",
    "                           'ESTU_IES_COD_MPIO_DESEADA', 'ESTU_IES_DESEADA_NOMBRE', 'ESTU_COD_MCPIO_PRESENTACION'], axis=1)"
   ]
  },
  {
   "cell_type": "code",
   "execution_count": null,
   "metadata": {
    "collapsed": true
   },
   "outputs": [],
   "source": [
    "c = 'ESTU_GENERO'\n",
    "data_2014[c].value_counts().sort_index().index\n",
    "data_2014[c].value_counts().sort_index()\n",
    "missing_data(data_2014[c])"
   ]
  },
  {
   "cell_type": "code",
   "execution_count": null,
   "metadata": {
    "collapsed": true
   },
   "outputs": [],
   "source": [
    "c = 'ESTU_FECHA_NACIMIENTO'\n",
    "data_2014[c].value_counts().sort_index().index\n",
    "data_2014[c].value_counts().sort_index()\n",
    "missing_data(data_2014[c])"
   ]
  },
  {
   "cell_type": "code",
   "execution_count": null,
   "metadata": {
    "collapsed": true
   },
   "outputs": [],
   "source": [
    "c = 'ESTU_ETNIA'\n",
    "data_2014[c].value_counts().sort_index().index\n",
    "data_2014[c].value_counts().sort_index()\n",
    "missing_data(data_2014[c])"
   ]
  },
  {
   "cell_type": "code",
   "execution_count": null,
   "metadata": {
    "collapsed": true
   },
   "outputs": [],
   "source": [
    "c = 'ESTU_LIMITA_COGNITIVA'\n",
    "data_2014[c].value_counts().sort_index().index\n",
    "data_2014[c].value_counts().sort_index()\n",
    "missing_data(data_2014[c])"
   ]
  },
  {
   "cell_type": "code",
   "execution_count": null,
   "metadata": {
    "collapsed": true
   },
   "outputs": [],
   "source": [
    "c = 'ESTU_LIMITA_CONDICIONESPECIAL'\n",
    "data_2014[c].value_counts().sort_index().index\n",
    "data_2014[c].value_counts().sort_index()\n",
    "missing_data(data_2014[c])"
   ]
  },
  {
   "cell_type": "code",
   "execution_count": null,
   "metadata": {
    "collapsed": true
   },
   "outputs": [],
   "source": [
    "c = 'ESTU_LIMITA_MOTRIZ'\n",
    "data_2014[c].value_counts().sort_index().index\n",
    "data_2014[c].value_counts().sort_index()\n",
    "missing_data(data_2014[c])"
   ]
  },
  {
   "cell_type": "code",
   "execution_count": null,
   "metadata": {
    "collapsed": true
   },
   "outputs": [],
   "source": [
    "c = 'ESTU_LIMITA_INVIDENTE'\n",
    "data_2014[c].value_counts().sort_index().index\n",
    "data_2014[c].value_counts().sort_index()\n",
    "missing_data(data_2014[c])"
   ]
  },
  {
   "cell_type": "code",
   "execution_count": null,
   "metadata": {
    "collapsed": true
   },
   "outputs": [],
   "source": [
    "c = 'ESTU_LIMITA_SORDO'\n",
    "data_2014[c].value_counts().sort_index().index\n",
    "data_2014[c].value_counts().sort_index()\n",
    "missing_data(data_2014[c])"
   ]
  },
  {
   "cell_type": "code",
   "execution_count": null,
   "metadata": {
    "collapsed": true
   },
   "outputs": [],
   "source": [
    "c = 'ESTU_LIMITA_SDOWN'\n",
    "data_2014[c].value_counts().sort_index().index\n",
    "data_2014[c].value_counts().sort_index()\n",
    "missing_data(data_2014[c])"
   ]
  },
  {
   "cell_type": "code",
   "execution_count": null,
   "metadata": {
    "collapsed": true
   },
   "outputs": [],
   "source": [
    "c = 'ESTU_LIMITA_AUTISMO'\n",
    "data_2014[c].value_counts().sort_index().index\n",
    "data_2014[c].value_counts().sort_index()\n",
    "missing_data(data_2014[c])"
   ]
  },
  {
   "cell_type": "code",
   "execution_count": null,
   "metadata": {
    "collapsed": true
   },
   "outputs": [],
   "source": [
    "c = 'ESTU_RESIDE_MCPIO'\n",
    "data_2014[c].value_counts().sort_index().index\n",
    "data_2014[c].value_counts().sort_index()\n",
    "missing_data(data_2014[c])"
   ]
  },
  {
   "cell_type": "code",
   "execution_count": null,
   "metadata": {
    "collapsed": true
   },
   "outputs": [],
   "source": [
    "c = 'ESTU_RESIDE_DEPTO'\n",
    "data_2014[c].value_counts().sort_index().index\n",
    "data_2014[c].value_counts().sort_index()\n",
    "missing_data(data_2014[c])"
   ]
  },
  {
   "cell_type": "code",
   "execution_count": null,
   "metadata": {
    "collapsed": true
   },
   "outputs": [],
   "source": [
    "c = 'ESTU_ZONA_RESIDE'\n",
    "data_2014[c].value_counts().sort_index().index\n",
    "data_2014[c].value_counts().sort_index()\n",
    "missing_data(data_2014[c])"
   ]
  },
  {
   "cell_type": "code",
   "execution_count": null,
   "metadata": {
    "collapsed": true
   },
   "outputs": [],
   "source": [
    "c = 'ESTU_AREA_RESIDE'\n",
    "data_2014[c].value_counts().sort_index().index\n",
    "data_2014[c].value_counts().sort_index()\n",
    "missing_data(data_2014[c])"
   ]
  },
  {
   "cell_type": "code",
   "execution_count": null,
   "metadata": {
    "collapsed": true
   },
   "outputs": [],
   "source": [
    "c = 'COLE_COD_ICFES'\n",
    "data_2014[c].value_counts().sort_index().index\n",
    "data_2014[c].value_counts().sort_index()\n",
    "missing_data(data_2014[c])"
   ]
  },
  {
   "cell_type": "code",
   "execution_count": null,
   "metadata": {
    "collapsed": true
   },
   "outputs": [],
   "source": [
    "c = 'COLE_COD_DANE_INSTITUCION'\n",
    "data_2014[c].value_counts().sort_index().index\n",
    "data_2014[c].value_counts().sort_index()\n",
    "missing_data(data_2014[c])"
   ]
  },
  {
   "cell_type": "code",
   "execution_count": null,
   "metadata": {
    "collapsed": true
   },
   "outputs": [],
   "source": [
    "c = 'COLE_JORNADA'\n",
    "data_2014[c].value_counts().sort_index().index\n",
    "data_2014[c].value_counts().sort_index()\n",
    "missing_data(data_2014[c])"
   ]
  },
  {
   "cell_type": "code",
   "execution_count": null,
   "metadata": {
    "collapsed": true
   },
   "outputs": [],
   "source": [
    "c = 'COLE_VALOR_PENSION'\n",
    "data_2014[c].value_counts().sort_index().index\n",
    "data_2014[c].value_counts().sort_index()\n",
    "missing_data(data_2014[c])"
   ]
  },
  {
   "cell_type": "code",
   "execution_count": null,
   "metadata": {
    "collapsed": true
   },
   "outputs": [],
   "source": [
    "c = 'ESTU_CARRDESEADA_TIPO'\n",
    "data_2014[c].value_counts().sort_index().index\n",
    "data_2014[c].value_counts().sort_index()\n",
    "missing_data(data_2014[c])"
   ]
  },
  {
   "cell_type": "code",
   "execution_count": null,
   "metadata": {
    "collapsed": true
   },
   "outputs": [],
   "source": [
    "c = 'ESTU_IES_COD_DESEADA'\n",
    "data_2014[c].value_counts().sort_index().index\n",
    "data_2014[c].value_counts().sort_index()\n",
    "missing_data(data_2014[c])"
   ]
  },
  {
   "cell_type": "code",
   "execution_count": null,
   "metadata": {
    "collapsed": true
   },
   "outputs": [],
   "source": [
    "c = 'ESTU_IES_DEPT_DESEADA'\n",
    "data_2014[c].value_counts().sort_index().index\n",
    "data_2014[c].value_counts().sort_index()\n",
    "missing_data(data_2014[c])"
   ]
  },
  {
   "cell_type": "code",
   "execution_count": null,
   "metadata": {
    "collapsed": true
   },
   "outputs": [],
   "source": [
    "c = 'ESTU_IES_MPIO_DESEADA'\n",
    "data_2014[c].value_counts().sort_index().index\n",
    "data_2014[c].value_counts().sort_index()\n",
    "missing_data(data_2014[c])"
   ]
  },
  {
   "cell_type": "code",
   "execution_count": null,
   "metadata": {
    "collapsed": true
   },
   "outputs": [],
   "source": [
    "c = 'ESTU_TOTAL_ALUMNOS_CURSO'\n",
    "data_2014[c].value_counts().sort_index().index\n",
    "data_2014[c].value_counts().sort_index()\n",
    "missing_data(data_2014[c])"
   ]
  },
  {
   "cell_type": "code",
   "execution_count": null,
   "metadata": {
    "collapsed": true
   },
   "outputs": [],
   "source": [
    "c = 'ESTU_ANO_MATRICULA_PRIMERO'\n",
    "data_2014[c].value_counts().sort_index().index\n",
    "data_2014[c].value_counts().sort_index()\n",
    "missing_data(data_2014[c])"
   ]
  },
  {
   "cell_type": "code",
   "execution_count": null,
   "metadata": {
    "collapsed": true
   },
   "outputs": [],
   "source": [
    "c = 'ESTU_ANO_TERMINO_QUINTO'\n",
    "data_2014[c].value_counts().sort_index().index\n",
    "data_2014[c].value_counts().sort_index()\n",
    "missing_data(data_2014[c])"
   ]
  },
  {
   "cell_type": "code",
   "execution_count": null,
   "metadata": {
    "collapsed": true
   },
   "outputs": [],
   "source": [
    "c = 'ESTU_ANOS_COLEGIO_ACTUAL'\n",
    "data_2014[c].value_counts().sort_index().index\n",
    "data_2014[c].value_counts().sort_index()\n",
    "missing_data(data_2014[c])"
   ]
  },
  {
   "cell_type": "code",
   "execution_count": null,
   "metadata": {
    "collapsed": true
   },
   "outputs": [],
   "source": [
    "c = 'ESTU_ANO_MATRICULA_SEXTO'\n",
    "data_2014[c].value_counts().sort_index().index\n",
    "data_2014[c].value_counts().sort_index()\n",
    "missing_data(data_2014[c])"
   ]
  },
  {
   "cell_type": "code",
   "execution_count": null,
   "metadata": {
    "collapsed": true
   },
   "outputs": [],
   "source": [
    "c = 'ESTU_ANOS_PREESCOLAR'\n",
    "data_2014[c].value_counts().sort_index().index\n",
    "data_2014[c].value_counts().sort_index()\n",
    "missing_data(data_2014[c])"
   ]
  },
  {
   "cell_type": "code",
   "execution_count": null,
   "metadata": {
    "collapsed": true
   },
   "outputs": [],
   "source": [
    "c = 'ESTU_CUANTOS_COLE_ESTUDIO'\n",
    "data_2014[c].value_counts().sort_index().index\n",
    "data_2014[c].value_counts().sort_index()\n",
    "missing_data(data_2014[c])"
   ]
  },
  {
   "cell_type": "code",
   "execution_count": null,
   "metadata": {
    "collapsed": true
   },
   "outputs": [],
   "source": [
    "c = 'ESTU_REPROBO_CUARTO'\n",
    "data_2014[c].value_counts().sort_index().index\n",
    "data_2014[c].value_counts().sort_index()\n",
    "missing_data(data_2014[c])"
   ]
  },
  {
   "cell_type": "code",
   "execution_count": null,
   "metadata": {
    "collapsed": true
   },
   "outputs": [],
   "source": [
    "c = 'ESTU_REPROBO_DECIMO'\n",
    "data_2014[c].value_counts().sort_index().index\n",
    "data_2014[c].value_counts().sort_index()\n",
    "missing_data(data_2014[c])"
   ]
  },
  {
   "cell_type": "code",
   "execution_count": null,
   "metadata": {
    "collapsed": true
   },
   "outputs": [],
   "source": [
    "c = 'ESTU_REPROBO_NOVENO'\n",
    "data_2014[c].value_counts().sort_index().index\n",
    "data_2014[c].value_counts().sort_index()\n",
    "missing_data(data_2014[c])"
   ]
  },
  {
   "cell_type": "code",
   "execution_count": null,
   "metadata": {
    "collapsed": true
   },
   "outputs": [],
   "source": [
    "c = 'ESTU_REPROBO_OCTAVO'\n",
    "data_2014[c].value_counts().sort_index().index\n",
    "data_2014[c].value_counts().sort_index()\n",
    "missing_data(data_2014[c])"
   ]
  },
  {
   "cell_type": "code",
   "execution_count": null,
   "metadata": {
    "collapsed": true
   },
   "outputs": [],
   "source": [
    "c = 'ESTU_REPROBO_PRIMERO'\n",
    "data_2014[c].value_counts().sort_index().index\n",
    "data_2014[c].value_counts().sort_index()\n",
    "missing_data(data_2014[c])"
   ]
  },
  {
   "cell_type": "code",
   "execution_count": null,
   "metadata": {
    "collapsed": true
   },
   "outputs": [],
   "source": [
    "c = 'ESTU_REPROBO_QUINTO'\n",
    "data_2014[c].value_counts().sort_index().index\n",
    "data_2014[c].value_counts().sort_index()\n",
    "missing_data(data_2014[c])"
   ]
  },
  {
   "cell_type": "code",
   "execution_count": null,
   "metadata": {
    "collapsed": true
   },
   "outputs": [],
   "source": [
    "c = 'ESTU_REPROBO_SEGUNDO'\n",
    "data_2014[c].value_counts().sort_index().index\n",
    "data_2014[c].value_counts().sort_index()\n",
    "missing_data(data_2014[c])"
   ]
  },
  {
   "cell_type": "code",
   "execution_count": null,
   "metadata": {
    "collapsed": true
   },
   "outputs": [],
   "source": [
    "c = 'ESTU_REPROBO_SEPTIMO'\n",
    "data_2014[c].value_counts().sort_index().index\n",
    "data_2014[c].value_counts().sort_index()\n",
    "missing_data(data_2014[c])"
   ]
  },
  {
   "cell_type": "code",
   "execution_count": null,
   "metadata": {
    "collapsed": true
   },
   "outputs": [],
   "source": [
    "c = 'ESTU_REPROBO_SEXTO'\n",
    "data_2014[c].value_counts().sort_index().index\n",
    "data_2014[c].value_counts().sort_index()\n",
    "missing_data(data_2014[c])"
   ]
  },
  {
   "cell_type": "code",
   "execution_count": null,
   "metadata": {
    "collapsed": true
   },
   "outputs": [],
   "source": [
    "c = 'ESTU_REPROBO_TERCERO'\n",
    "data_2014[c].value_counts().sort_index().index\n",
    "data_2014[c].value_counts().sort_index()\n",
    "missing_data(data_2014[c])"
   ]
  },
  {
   "cell_type": "code",
   "execution_count": null,
   "metadata": {
    "collapsed": true
   },
   "outputs": [],
   "source": [
    "c = 'ESTU_REPROBO_ONCE_MAS'\n",
    "data_2014[c].value_counts().sort_index().index\n",
    "data_2014[c].value_counts().sort_index()\n",
    "missing_data(data_2014[c])"
   ]
  },
  {
   "cell_type": "code",
   "execution_count": null,
   "metadata": {
    "collapsed": true
   },
   "outputs": [],
   "source": [
    "c = 'ESTU_POR_MEJORARPOSICIONSOCIAL'\n",
    "data_2014[c].value_counts().sort_index().index\n",
    "data_2014[c].value_counts().sort_index()\n",
    "missing_data(data_2014[c])"
   ]
  },
  {
   "cell_type": "code",
   "execution_count": null,
   "metadata": {
    "collapsed": true
   },
   "outputs": [],
   "source": [
    "c = 'ESTU_POR_COLOMBIAAPRENDE'\n",
    "data_2014[c].value_counts().sort_index().index\n",
    "data_2014[c].value_counts().sort_index()\n",
    "missing_data(data_2014[c])"
   ]
  },
  {
   "cell_type": "code",
   "execution_count": null,
   "metadata": {
    "collapsed": true
   },
   "outputs": [],
   "source": [
    "c = 'ESTU_POR_INFLUENCIAALGUIEN'\n",
    "data_2014[c].value_counts().sort_index().index\n",
    "data_2014[c].value_counts().sort_index()\n",
    "missing_data(data_2014[c])"
   ]
  },
  {
   "cell_type": "code",
   "execution_count": null,
   "metadata": {
    "collapsed": true
   },
   "outputs": [],
   "source": [
    "c = 'ESTU_POR_INTERESPERSONAL'\n",
    "data_2014[c].value_counts().sort_index().index\n",
    "data_2014[c].value_counts().sort_index()\n",
    "missing_data(data_2014[c])"
   ]
  },
  {
   "cell_type": "code",
   "execution_count": null,
   "metadata": {
    "collapsed": true
   },
   "outputs": [],
   "source": [
    "c = 'ESTU_POR_BUSCANDOCARRERA'\n",
    "data_2014[c].value_counts().sort_index().index\n",
    "data_2014[c].value_counts().sort_index()\n",
    "missing_data(data_2014[c])"
   ]
  },
  {
   "cell_type": "code",
   "execution_count": null,
   "metadata": {
    "collapsed": true
   },
   "outputs": [],
   "source": [
    "c = 'ESTU_POR_TRADICIONFAMILIAR'\n",
    "data_2014[c].value_counts().sort_index().index\n",
    "data_2014[c].value_counts().sort_index()\n",
    "missing_data(data_2014[c])"
   ]
  },
  {
   "cell_type": "code",
   "execution_count": null,
   "metadata": {
    "collapsed": true
   },
   "outputs": [],
   "source": [
    "c = 'ESTU_POR_ORIENTACIONVOCACIONAL'\n",
    "data_2014[c].value_counts().sort_index().index\n",
    "data_2014[c].value_counts().sort_index()\n",
    "missing_data(data_2014[c])"
   ]
  },
  {
   "cell_type": "code",
   "execution_count": null,
   "metadata": {
    "collapsed": true
   },
   "outputs": [],
   "source": [
    "c = 'ESTU_RAZON_RETIRO'\n",
    "data_2014[c].value_counts().sort_index().index\n",
    "data_2014[c].value_counts().sort_index()\n",
    "missing_data(data_2014[c])"
   ]
  },
  {
   "cell_type": "code",
   "execution_count": null,
   "metadata": {
    "collapsed": true
   },
   "outputs": [],
   "source": [
    "c = 'ESTU_POR_AMIGOSESTUDIANDO'\n",
    "data_2014[c].value_counts().sort_index().index\n",
    "data_2014[c].value_counts().sort_index()\n",
    "missing_data(data_2014[c])"
   ]
  },
  {
   "cell_type": "code",
   "execution_count": null,
   "metadata": {
    "collapsed": true
   },
   "outputs": [],
   "source": [
    "c = 'ESTU_POR_COSTOMATRICULA'\n",
    "data_2014[c].value_counts().sort_index().index\n",
    "data_2014[c].value_counts().sort_index()\n",
    "missing_data(data_2014[c])"
   ]
  },
  {
   "cell_type": "code",
   "execution_count": null,
   "metadata": {
    "collapsed": true
   },
   "outputs": [],
   "source": [
    "c = 'ESTU_POR_OPORTUNIDADES'\n",
    "data_2014[c].value_counts().sort_index().index\n",
    "data_2014[c].value_counts().sort_index()\n",
    "missing_data(data_2014[c])"
   ]
  },
  {
   "cell_type": "code",
   "execution_count": null,
   "metadata": {
    "collapsed": true
   },
   "outputs": [],
   "source": [
    "c = 'ESTU_POR_OTRARAZON'\n",
    "data_2014[c].value_counts().sort_index().index\n",
    "data_2014[c].value_counts().sort_index()\n",
    "missing_data(data_2014[c])"
   ]
  },
  {
   "cell_type": "code",
   "execution_count": null,
   "metadata": {
    "collapsed": true
   },
   "outputs": [],
   "source": [
    "c = 'ESTU_PRESTIGIOINSTITUCION'\n",
    "data_2014[c].value_counts().sort_index().index\n",
    "data_2014[c].value_counts().sort_index()\n",
    "missing_data(data_2014[c])"
   ]
  },
  {
   "cell_type": "code",
   "execution_count": null,
   "metadata": {
    "collapsed": true
   },
   "outputs": [],
   "source": [
    "c = 'ESTU_POR_UBICACION'\n",
    "data_2014[c].value_counts().sort_index().index\n",
    "data_2014[c].value_counts().sort_index()\n",
    "missing_data(data_2014[c])"
   ]
  },
  {
   "cell_type": "code",
   "execution_count": null,
   "metadata": {
    "collapsed": true
   },
   "outputs": [],
   "source": [
    "c = 'ESTU_POR_UNICAQUEOFRECE'\n",
    "data_2014[c].value_counts().sort_index().index\n",
    "data_2014[c].value_counts().sort_index()\n",
    "missing_data(data_2014[c])"
   ]
  },
  {
   "cell_type": "code",
   "execution_count": null,
   "metadata": {
    "collapsed": true
   },
   "outputs": [],
   "source": [
    "c = 'ESTU_RETIRARSE_COLEGIO'\n",
    "data_2014[c].value_counts().sort_index().index\n",
    "data_2014[c].value_counts().sort_index()\n",
    "missing_data(data_2014[c])"
   ]
  },
  {
   "cell_type": "code",
   "execution_count": null,
   "metadata": {
    "collapsed": true
   },
   "outputs": [],
   "source": [
    "c = 'ESTU_VECES_ESTADO'\n",
    "data_2014[c].value_counts().sort_index().index\n",
    "data_2014[c].value_counts().sort_index()\n",
    "missing_data(data_2014[c])"
   ]
  },
  {
   "cell_type": "code",
   "execution_count": null,
   "metadata": {
    "collapsed": true
   },
   "outputs": [],
   "source": [
    "c = 'ESTU_MCPIO_PRESENTACION'\n",
    "data_2014[c].value_counts().sort_index().index\n",
    "data_2014[c].value_counts().sort_index()\n",
    "missing_data(data_2014[c])"
   ]
  },
  {
   "cell_type": "code",
   "execution_count": null,
   "metadata": {
    "collapsed": true
   },
   "outputs": [],
   "source": [
    "c = 'ESTU_DEPTO_PRESENTACION'\n",
    "data_2014[c].value_counts().sort_index().index\n",
    "data_2014[c].value_counts().sort_index()\n",
    "missing_data(data_2014[c])"
   ]
  },
  {
   "cell_type": "code",
   "execution_count": null,
   "metadata": {
    "collapsed": true
   },
   "outputs": [],
   "source": [
    "c = 'FAMI_EDUCA_PADRE'\n",
    "data_2014[c].value_counts().sort_index().index\n",
    "data_2014[c].value_counts().sort_index()\n",
    "missing_data(data_2014[c])"
   ]
  },
  {
   "cell_type": "code",
   "execution_count": null,
   "metadata": {
    "collapsed": true
   },
   "outputs": [],
   "source": [
    "c = 'FAMI_EDUCA_MADRE'\n",
    "data_2014[c].value_counts().sort_index().index\n",
    "data_2014[c].value_counts().sort_index()\n",
    "missing_data(data_2014[c])"
   ]
  },
  {
   "cell_type": "code",
   "execution_count": null,
   "metadata": {
    "collapsed": true
   },
   "outputs": [],
   "source": [
    "c = 'FAMI_OCUPA_PADRE'\n",
    "data_2014[c].value_counts().sort_index().index\n",
    "data_2014[c].value_counts().sort_index()\n",
    "missing_data(data_2014[c])"
   ]
  },
  {
   "cell_type": "code",
   "execution_count": null,
   "metadata": {
    "collapsed": true
   },
   "outputs": [],
   "source": [
    "c = 'FAMI_OCUPA_MADRE'\n",
    "data_2014[c].value_counts().sort_index().index\n",
    "data_2014[c].value_counts().sort_index()\n",
    "missing_data(data_2014[c])"
   ]
  },
  {
   "cell_type": "code",
   "execution_count": null,
   "metadata": {
    "collapsed": true
   },
   "outputs": [],
   "source": [
    "c = 'FAMI_ESTRATO_VIVIENDA'\n",
    "data_2014[c].value_counts().sort_index().index\n",
    "data_2014[c].value_counts().sort_index()\n",
    "missing_data(data_2014[c])"
   ]
  },
  {
   "cell_type": "code",
   "execution_count": null,
   "metadata": {
    "collapsed": true
   },
   "outputs": [],
   "source": [
    "c = 'FAMI_NIVEL_SISBEN'\n",
    "data_2014[c].value_counts().sort_index().index\n",
    "data_2014[c].value_counts().sort_index()\n",
    "missing_data(data_2014[c])"
   ]
  },
  {
   "cell_type": "code",
   "execution_count": null,
   "metadata": {
    "collapsed": true
   },
   "outputs": [],
   "source": [
    "c = 'FAMI_PERSONAS_HOGAR'\n",
    "data_2014[c].value_counts().sort_index().index\n",
    "data_2014[c].value_counts().sort_index()\n",
    "missing_data(data_2014[c])"
   ]
  },
  {
   "cell_type": "code",
   "execution_count": null,
   "metadata": {
    "collapsed": true
   },
   "outputs": [],
   "source": [
    "c = 'FAMI_CUARTOS_HOGAR'\n",
    "data_2014[c].value_counts().sort_index().index\n",
    "data_2014[c].value_counts().sort_index()\n",
    "missing_data(data_2014[c])"
   ]
  },
  {
   "cell_type": "code",
   "execution_count": null,
   "metadata": {
    "collapsed": true
   },
   "outputs": [],
   "source": [
    "c = 'FAMI_PISOSHOGAR'\n",
    "data_2014[c].value_counts().sort_index().index\n",
    "data_2014[c].value_counts().sort_index()\n",
    "missing_data(data_2014[c])"
   ]
  },
  {
   "cell_type": "code",
   "execution_count": null,
   "metadata": {
    "collapsed": true
   },
   "outputs": [],
   "source": [
    "c = 'FAMI_TELEFONO_FIJO'\n",
    "data_2014[c].value_counts().sort_index().index\n",
    "data_2014[c].value_counts().sort_index()\n",
    "missing_data(data_2014[c])"
   ]
  },
  {
   "cell_type": "code",
   "execution_count": null,
   "metadata": {
    "collapsed": true
   },
   "outputs": [],
   "source": [
    "c = 'FAMI_CELULAR'\n",
    "data_2014[c].value_counts().sort_index().index\n",
    "data_2014[c].value_counts().sort_index()\n",
    "missing_data(data_2014[c])"
   ]
  },
  {
   "cell_type": "code",
   "execution_count": null,
   "metadata": {
    "collapsed": true
   },
   "outputs": [],
   "source": [
    "c = 'FAMI_INTERNET'\n",
    "data_2014[c].value_counts().sort_index().index\n",
    "data_2014[c].value_counts().sort_index()\n",
    "missing_data(data_2014[c])"
   ]
  },
  {
   "cell_type": "code",
   "execution_count": null,
   "metadata": {
    "collapsed": true
   },
   "outputs": [],
   "source": [
    "c = 'FAMI_TELEVISOR'\n",
    "data_2014[c].value_counts().sort_index().index\n",
    "data_2014[c].value_counts().sort_index()\n",
    "missing_data(data_2014[c])"
   ]
  },
  {
   "cell_type": "code",
   "execution_count": null,
   "metadata": {
    "collapsed": true
   },
   "outputs": [],
   "source": [
    "c = 'FAMI_COMPUTADOR'\n",
    "data_2014[c].value_counts().sort_index().index\n",
    "data_2014[c].value_counts().sort_index()\n",
    "missing_data(data_2014[c])"
   ]
  },
  {
   "cell_type": "code",
   "execution_count": null,
   "metadata": {
    "collapsed": true
   },
   "outputs": [],
   "source": [
    "c = 'FAMI_DVD'\n",
    "data_2014[c].value_counts().sort_index().index\n",
    "data_2014[c].value_counts().sort_index()\n",
    "missing_data(data_2014[c])"
   ]
  },
  {
   "cell_type": "code",
   "execution_count": null,
   "metadata": {
    "collapsed": true
   },
   "outputs": [],
   "source": [
    "c = 'FAMI_LAVADORA'\n",
    "data_2014[c].value_counts().sort_index().index\n",
    "data_2014[c].value_counts().sort_index()\n",
    "missing_data(data_2014[c])"
   ]
  },
  {
   "cell_type": "code",
   "execution_count": null,
   "metadata": {
    "collapsed": true
   },
   "outputs": [],
   "source": [
    "c = 'FAMI_MICROONDAS'\n",
    "data_2014[c].value_counts().sort_index().index\n",
    "data_2014[c].value_counts().sort_index()\n",
    "missing_data(data_2014[c])"
   ]
  },
  {
   "cell_type": "code",
   "execution_count": null,
   "metadata": {
    "collapsed": true
   },
   "outputs": [],
   "source": [
    "c = 'FAMI_NEVERA'\n",
    "data_2014[c].value_counts().sort_index().index\n",
    "data_2014[c].value_counts().sort_index()\n",
    "missing_data(data_2014[c])"
   ]
  },
  {
   "cell_type": "code",
   "execution_count": null,
   "metadata": {
    "collapsed": true
   },
   "outputs": [],
   "source": [
    "c = 'FAMI_AUTOMOVIL'\n",
    "data_2014[c].value_counts().sort_index().index\n",
    "data_2014[c].value_counts().sort_index()\n",
    "missing_data(data_2014[c])"
   ]
  },
  {
   "cell_type": "code",
   "execution_count": null,
   "metadata": {
    "collapsed": true
   },
   "outputs": [],
   "source": [
    "c = 'FAMI_HORNO'\n",
    "data_2014[c].value_counts().sort_index().index\n",
    "data_2014[c].value_counts().sort_index()\n",
    "missing_data(data_2014[c])"
   ]
  },
  {
   "cell_type": "code",
   "execution_count": null,
   "metadata": {
    "collapsed": true
   },
   "outputs": [],
   "source": [
    "c = 'FAMI_INGRESO_FMILIAR_MENSUAL'\n",
    "data_2014[c].value_counts().sort_index().index\n",
    "data_2014[c].value_counts().sort_index()\n",
    "missing_data(data_2014[c])"
   ]
  },
  {
   "cell_type": "code",
   "execution_count": null,
   "metadata": {
    "collapsed": true
   },
   "outputs": [],
   "source": [
    "c = 'ESTU_TRABAJA'\n",
    "data_2014[c].value_counts().sort_index().index\n",
    "data_2014[c].value_counts().sort_index()\n",
    "missing_data(data_2014[c])"
   ]
  },
  {
   "cell_type": "code",
   "execution_count": null,
   "metadata": {
    "collapsed": true
   },
   "outputs": [],
   "source": [
    "c = 'ESTU_RECIBE_SALARIO'\n",
    "data_2014[c].value_counts().sort_index().index\n",
    "data_2014[c].value_counts().sort_index()\n",
    "missing_data(data_2014[c])"
   ]
  },
  {
   "cell_type": "markdown",
   "metadata": {},
   "source": [
    "## TARGETS"
   ]
  },
  {
   "cell_type": "code",
   "execution_count": null,
   "metadata": {
    "collapsed": true
   },
   "outputs": [],
   "source": [
    "c = 'ESTU_PUESTO'\n",
    "data_2014[c].value_counts().sort_index().index\n",
    "data_2014[c].value_counts().sort_index()\n",
    "missing_data(data_2014[c])"
   ]
  },
  {
   "cell_type": "code",
   "execution_count": null,
   "metadata": {
    "collapsed": true
   },
   "outputs": [],
   "source": [
    "c = 'PUNT_LENGUAJE'\n",
    "data_2014[c].value_counts().sort_index().index\n",
    "data_2014[c].value_counts().sort_index()\n",
    "missing_data(data_2014[c])"
   ]
  },
  {
   "cell_type": "code",
   "execution_count": null,
   "metadata": {
    "collapsed": true
   },
   "outputs": [],
   "source": [
    "c = 'PUNT_MATEMATICAS'\n",
    "data_2014[c].value_counts().sort_index().index\n",
    "data_2014[c].value_counts().sort_index()\n",
    "missing_data(data_2014[c])"
   ]
  },
  {
   "cell_type": "code",
   "execution_count": null,
   "metadata": {
    "collapsed": true
   },
   "outputs": [],
   "source": [
    "c = 'PUNT_C_SOCIALES'\n",
    "data_2014[c].value_counts().sort_index().index\n",
    "data_2014[c].value_counts().sort_index()\n",
    "missing_data(data_2014[c])"
   ]
  },
  {
   "cell_type": "code",
   "execution_count": null,
   "metadata": {
    "collapsed": true
   },
   "outputs": [],
   "source": [
    "c = 'PUNT_FILOSOFIA'\n",
    "data_2014[c].value_counts().sort_index().index\n",
    "data_2014[c].value_counts().sort_index()\n",
    "missing_data(data_2014[c])"
   ]
  },
  {
   "cell_type": "code",
   "execution_count": null,
   "metadata": {
    "collapsed": true
   },
   "outputs": [],
   "source": [
    "c = 'PUNT_BIOLOGIA'\n",
    "data_2014[c].value_counts().sort_index().index\n",
    "data_2014[c].value_counts().sort_index()\n",
    "missing_data(data_2014[c])"
   ]
  },
  {
   "cell_type": "code",
   "execution_count": null,
   "metadata": {
    "collapsed": true
   },
   "outputs": [],
   "source": [
    "c = 'PUNT_QUIMICA'\n",
    "data_2014[c].value_counts().sort_index().index\n",
    "data_2014[c].value_counts().sort_index()\n",
    "missing_data(data_2014[c])"
   ]
  },
  {
   "cell_type": "code",
   "execution_count": null,
   "metadata": {
    "collapsed": true
   },
   "outputs": [],
   "source": [
    "c = 'PUNT_FISICA'\n",
    "data_2014[c].value_counts().sort_index().index\n",
    "data_2014[c].value_counts().sort_index()\n",
    "missing_data(data_2014[c])"
   ]
  },
  {
   "cell_type": "code",
   "execution_count": null,
   "metadata": {
    "collapsed": true
   },
   "outputs": [],
   "source": [
    "c = 'PUNT_INGLES'\n",
    "data_2014[c].value_counts().sort_index().index\n",
    "data_2014[c].value_counts().sort_index()\n",
    "missing_data(data_2014[c])"
   ]
  },
  {
   "cell_type": "code",
   "execution_count": null,
   "metadata": {
    "collapsed": true
   },
   "outputs": [],
   "source": [
    "c = 'DESEMP_INGLES'\n",
    "data_2014[c].value_counts().sort_index().index\n",
    "data_2014[c].value_counts().sort_index()\n",
    "missing_data(data_2014[c])"
   ]
  },
  {
   "cell_type": "code",
   "execution_count": null,
   "metadata": {
    "collapsed": true
   },
   "outputs": [],
   "source": [
    "c = 'NOMBRE_COMP_FLEXIBLE'\n",
    "data_2014[c].value_counts().sort_index().index\n",
    "data_2014[c].value_counts().sort_index()\n",
    "missing_data(data_2014[c])"
   ]
  },
  {
   "cell_type": "code",
   "execution_count": null,
   "metadata": {
    "collapsed": true
   },
   "outputs": [],
   "source": [
    "c = 'PUNT_COMP_FLEXIBLE'\n",
    "data_2014[c].value_counts().sort_index().index\n",
    "data_2014[c].value_counts().sort_index()\n",
    "missing_data(data_2014[c])"
   ]
  },
  {
   "cell_type": "code",
   "execution_count": null,
   "metadata": {
    "collapsed": false
   },
   "outputs": [],
   "source": [
    "c = 'DESEMP_COMP_FLEXIBLE'\n",
    "data_2014[c].value_counts().sort_index().index\n",
    "data_2014[c].value_counts().sort_index()\n",
    "missing_data(data_2014[c])"
   ]
  },
  {
   "cell_type": "markdown",
   "metadata": {},
   "source": [
    "## FILE 2: 2014_2"
   ]
  },
  {
   "cell_type": "code",
   "execution_count": 2,
   "metadata": {
    "collapsed": false
   },
   "outputs": [
    {
     "name": "stderr",
     "output_type": "stream",
     "text": [
      "/usr/local/lib/python3.4/dist-packages/IPython/core/interactiveshell.py:2902: DtypeWarning: Columns (9,10,11,12,13,14,114) have mixed types. Specify dtype option on import or set low_memory=False.\n",
      "  interactivity=interactivity, compiler=compiler, result=result)\n"
     ]
    }
   ],
   "source": [
    "data_2014_2 = pd.read_csv('../DatosFTPICFES/SABER11/SB11-BASES_DE_DATOS/SB11-20142-RGSTRO-CLFCCN-V3-0.txt', delimiter='|')"
   ]
  },
  {
   "cell_type": "code",
   "execution_count": 3,
   "metadata": {
    "collapsed": false
   },
   "outputs": [
    {
     "data": {
      "text/plain": [
       "(574395, 136)"
      ]
     },
     "execution_count": 3,
     "metadata": {},
     "output_type": "execute_result"
    }
   ],
   "source": [
    "data_2014_2.shape"
   ]
  },
  {
   "cell_type": "code",
   "execution_count": 4,
   "metadata": {
    "collapsed": false,
    "scrolled": true
   },
   "outputs": [
    {
     "data": {
      "text/html": [
       "<div>\n",
       "<table border=\"1\" class=\"dataframe\">\n",
       "  <thead>\n",
       "    <tr style=\"text-align: right;\">\n",
       "      <th></th>\n",
       "      <th>0</th>\n",
       "      <th>1</th>\n",
       "      <th>2</th>\n",
       "    </tr>\n",
       "  </thead>\n",
       "  <tbody>\n",
       "    <tr>\n",
       "      <th>PERIODO</th>\n",
       "      <td>20142</td>\n",
       "      <td>20142</td>\n",
       "      <td>20142</td>\n",
       "    </tr>\n",
       "    <tr>\n",
       "      <th>ESTU_CONSECUTIVO</th>\n",
       "      <td>SABER1120142000001</td>\n",
       "      <td>SABER1120142000002</td>\n",
       "      <td>SABER1120142000003</td>\n",
       "    </tr>\n",
       "    <tr>\n",
       "      <th>ESTU_ESTUDIANTE</th>\n",
       "      <td>ESTUDIANTE</td>\n",
       "      <td>ESTUDIANTE</td>\n",
       "      <td>ESTUDIANTE</td>\n",
       "    </tr>\n",
       "    <tr>\n",
       "      <th>ESTU_EDAD</th>\n",
       "      <td>17</td>\n",
       "      <td>17</td>\n",
       "      <td>17</td>\n",
       "    </tr>\n",
       "    <tr>\n",
       "      <th>ESTU_TIPO_DOCUMENTO</th>\n",
       "      <td>TI</td>\n",
       "      <td>TI</td>\n",
       "      <td>TI</td>\n",
       "    </tr>\n",
       "    <tr>\n",
       "      <th>ESTU_PAIS_RESIDE</th>\n",
       "      <td>1</td>\n",
       "      <td>1</td>\n",
       "      <td>1</td>\n",
       "    </tr>\n",
       "    <tr>\n",
       "      <th>ESTU_GENERO</th>\n",
       "      <td>M</td>\n",
       "      <td>M</td>\n",
       "      <td>F</td>\n",
       "    </tr>\n",
       "    <tr>\n",
       "      <th>ESTU_FECHA_NACIMIENTO</th>\n",
       "      <td>15/11/1996</td>\n",
       "      <td>06/12/1996</td>\n",
       "      <td>03/07/1997</td>\n",
       "    </tr>\n",
       "    <tr>\n",
       "      <th>ESTU_ETNIA</th>\n",
       "      <td>100</td>\n",
       "      <td>100</td>\n",
       "      <td>1</td>\n",
       "    </tr>\n",
       "    <tr>\n",
       "      <th>ESTU_LIMITA_MOTRIZ</th>\n",
       "      <td>NaN</td>\n",
       "      <td>NaN</td>\n",
       "      <td>NaN</td>\n",
       "    </tr>\n",
       "    <tr>\n",
       "      <th>ESTU_LIMITA_INVIDENTE</th>\n",
       "      <td>NaN</td>\n",
       "      <td>NaN</td>\n",
       "      <td>NaN</td>\n",
       "    </tr>\n",
       "    <tr>\n",
       "      <th>ESTU_LIMITA_CONDICIONESPECIAL</th>\n",
       "      <td>NaN</td>\n",
       "      <td>NaN</td>\n",
       "      <td>NaN</td>\n",
       "    </tr>\n",
       "    <tr>\n",
       "      <th>ESTU_LIMITA_SORDO</th>\n",
       "      <td>NaN</td>\n",
       "      <td>NaN</td>\n",
       "      <td>NaN</td>\n",
       "    </tr>\n",
       "    <tr>\n",
       "      <th>ESTU_LIMITA_SDOWN</th>\n",
       "      <td>NaN</td>\n",
       "      <td>NaN</td>\n",
       "      <td>NaN</td>\n",
       "    </tr>\n",
       "    <tr>\n",
       "      <th>ESTU_LIMITA_AUTISMO</th>\n",
       "      <td>NaN</td>\n",
       "      <td>NaN</td>\n",
       "      <td>NaN</td>\n",
       "    </tr>\n",
       "    <tr>\n",
       "      <th>COLE_COD_MCPIO_UBICACION</th>\n",
       "      <td>5001</td>\n",
       "      <td>5051</td>\n",
       "      <td>76109</td>\n",
       "    </tr>\n",
       "    <tr>\n",
       "      <th>ESTU_RESIDE_MCPIO</th>\n",
       "      <td>MEDELLIN</td>\n",
       "      <td>ARBOLETES</td>\n",
       "      <td>BUENAVENTURA</td>\n",
       "    </tr>\n",
       "    <tr>\n",
       "      <th>ESTU_RESIDE_DEPTO</th>\n",
       "      <td>ANTIOQUIA</td>\n",
       "      <td>ANTIOQUIA</td>\n",
       "      <td>VALLE</td>\n",
       "    </tr>\n",
       "    <tr>\n",
       "      <th>ESTU_COD_RESIDE_MCPIO</th>\n",
       "      <td>5001</td>\n",
       "      <td>5051</td>\n",
       "      <td>76109</td>\n",
       "    </tr>\n",
       "    <tr>\n",
       "      <th>ESTU_ZONA_RESIDE</th>\n",
       "      <td>6</td>\n",
       "      <td>10</td>\n",
       "      <td>10</td>\n",
       "    </tr>\n",
       "    <tr>\n",
       "      <th>COLE_COD_DANE_INSTITUCION</th>\n",
       "      <td>1.05001e+11</td>\n",
       "      <td>1.05051e+11</td>\n",
       "      <td>1.76109e+11</td>\n",
       "    </tr>\n",
       "    <tr>\n",
       "      <th>COLE_COD_ICFES</th>\n",
       "      <td>113324</td>\n",
       "      <td>38992</td>\n",
       "      <td>62232</td>\n",
       "    </tr>\n",
       "    <tr>\n",
       "      <th>COLE_NOMBRE_SEDE</th>\n",
       "      <td>INST EDUC FE Y ALEGRIA GRANIZAL</td>\n",
       "      <td>I. E. MIGUEL VICENTE GARRIDO ORTIZ</td>\n",
       "      <td>JOSE MARIA CABAL</td>\n",
       "    </tr>\n",
       "    <tr>\n",
       "      <th>COLE_JORNADA</th>\n",
       "      <td>M</td>\n",
       "      <td>M</td>\n",
       "      <td>M</td>\n",
       "    </tr>\n",
       "    <tr>\n",
       "      <th>COLE_GENERO</th>\n",
       "      <td>MIXTO</td>\n",
       "      <td>MIXTO</td>\n",
       "      <td>MIXTO</td>\n",
       "    </tr>\n",
       "    <tr>\n",
       "      <th>COLE_CARACTER</th>\n",
       "      <td>TÉCNICO/ACADÉMICO</td>\n",
       "      <td>TÉCNICO/ACADÉMICO</td>\n",
       "      <td>ACADÉMICO</td>\n",
       "    </tr>\n",
       "    <tr>\n",
       "      <th>COLE_NATURALEZA</th>\n",
       "      <td>OFICIAL</td>\n",
       "      <td>OFICIAL</td>\n",
       "      <td>OFICIAL</td>\n",
       "    </tr>\n",
       "    <tr>\n",
       "      <th>COLE_BILINGUE</th>\n",
       "      <td>N</td>\n",
       "      <td>N</td>\n",
       "      <td>N</td>\n",
       "    </tr>\n",
       "    <tr>\n",
       "      <th>COLE_CALENDARIO</th>\n",
       "      <td>A</td>\n",
       "      <td>A</td>\n",
       "      <td>A</td>\n",
       "    </tr>\n",
       "    <tr>\n",
       "      <th>ESTU_AREA_RESIDE</th>\n",
       "      <td>U</td>\n",
       "      <td>U</td>\n",
       "      <td>U</td>\n",
       "    </tr>\n",
       "    <tr>\n",
       "      <th>...</th>\n",
       "      <td>...</td>\n",
       "      <td>...</td>\n",
       "      <td>...</td>\n",
       "    </tr>\n",
       "    <tr>\n",
       "      <th>FAMI_AUTOMOVIL</th>\n",
       "      <td>N</td>\n",
       "      <td>N</td>\n",
       "      <td>N</td>\n",
       "    </tr>\n",
       "    <tr>\n",
       "      <th>FAMI_CELULAR</th>\n",
       "      <td>S</td>\n",
       "      <td>S</td>\n",
       "      <td>S</td>\n",
       "    </tr>\n",
       "    <tr>\n",
       "      <th>FAMI_NEVERA</th>\n",
       "      <td>S</td>\n",
       "      <td>S</td>\n",
       "      <td>S</td>\n",
       "    </tr>\n",
       "    <tr>\n",
       "      <th>FAMI_HORNO</th>\n",
       "      <td>S</td>\n",
       "      <td>N</td>\n",
       "      <td>S</td>\n",
       "    </tr>\n",
       "    <tr>\n",
       "      <th>FAMI_INGRESO_FMILIAR_MENSUAL</th>\n",
       "      <td>2</td>\n",
       "      <td>1</td>\n",
       "      <td>2</td>\n",
       "    </tr>\n",
       "    <tr>\n",
       "      <th>ESTU_TRABAJA</th>\n",
       "      <td>1</td>\n",
       "      <td>1</td>\n",
       "      <td>1</td>\n",
       "    </tr>\n",
       "    <tr>\n",
       "      <th>ESTU_RECIBE_SALARIO</th>\n",
       "      <td>NaN</td>\n",
       "      <td>NaN</td>\n",
       "      <td>NaN</td>\n",
       "    </tr>\n",
       "    <tr>\n",
       "      <th>ESTU_VECES_ESTADO</th>\n",
       "      <td>NaN</td>\n",
       "      <td>NaN</td>\n",
       "      <td>NaN</td>\n",
       "    </tr>\n",
       "    <tr>\n",
       "      <th>ESTU_COD_PLANTEL</th>\n",
       "      <td>NaN</td>\n",
       "      <td>NaN</td>\n",
       "      <td>NaN</td>\n",
       "    </tr>\n",
       "    <tr>\n",
       "      <th>ESTU_COD_DEPTO_PRESENTACION</th>\n",
       "      <td>5</td>\n",
       "      <td>5</td>\n",
       "      <td>76</td>\n",
       "    </tr>\n",
       "    <tr>\n",
       "      <th>ESTU_COD_MCPIO_PRESENTACION</th>\n",
       "      <td>5001</td>\n",
       "      <td>5051</td>\n",
       "      <td>76109</td>\n",
       "    </tr>\n",
       "    <tr>\n",
       "      <th>ESTU_MCPIO_PRESENTACION</th>\n",
       "      <td>MEDELLIN</td>\n",
       "      <td>ARBOLETES</td>\n",
       "      <td>BUENAVENTURA</td>\n",
       "    </tr>\n",
       "    <tr>\n",
       "      <th>ESTU_DEPTO_PRESENTACION</th>\n",
       "      <td>ANTIOQUIA</td>\n",
       "      <td>ANTIOQUIA</td>\n",
       "      <td>VALLE</td>\n",
       "    </tr>\n",
       "    <tr>\n",
       "      <th>DECIL_LECTURA_CRITICA</th>\n",
       "      <td>D09</td>\n",
       "      <td>D04</td>\n",
       "      <td>D09</td>\n",
       "    </tr>\n",
       "    <tr>\n",
       "      <th>PUNT_LECTURA_CRITICA</th>\n",
       "      <td>60</td>\n",
       "      <td>45</td>\n",
       "      <td>62</td>\n",
       "    </tr>\n",
       "    <tr>\n",
       "      <th>DECIL_MATEMATICAS</th>\n",
       "      <td>D08</td>\n",
       "      <td>D04</td>\n",
       "      <td>D05</td>\n",
       "    </tr>\n",
       "    <tr>\n",
       "      <th>PUNT_MATEMATICAS</th>\n",
       "      <td>58</td>\n",
       "      <td>47</td>\n",
       "      <td>49</td>\n",
       "    </tr>\n",
       "    <tr>\n",
       "      <th>DECIL_C_NATURALES</th>\n",
       "      <td>D08</td>\n",
       "      <td>D03</td>\n",
       "      <td>D08</td>\n",
       "    </tr>\n",
       "    <tr>\n",
       "      <th>PUNT_C_NATURALES</th>\n",
       "      <td>58</td>\n",
       "      <td>44</td>\n",
       "      <td>56</td>\n",
       "    </tr>\n",
       "    <tr>\n",
       "      <th>DECIL_SOCIALES_CIUDADANAS</th>\n",
       "      <td>D08</td>\n",
       "      <td>D07</td>\n",
       "      <td>D09</td>\n",
       "    </tr>\n",
       "    <tr>\n",
       "      <th>PUNT_SOCIALES_CIUDADANAS</th>\n",
       "      <td>59</td>\n",
       "      <td>54</td>\n",
       "      <td>62</td>\n",
       "    </tr>\n",
       "    <tr>\n",
       "      <th>DECIL_INGLES</th>\n",
       "      <td>D08</td>\n",
       "      <td>D03</td>\n",
       "      <td>D01</td>\n",
       "    </tr>\n",
       "    <tr>\n",
       "      <th>DESEMP_INGLES</th>\n",
       "      <td>A1</td>\n",
       "      <td>A-</td>\n",
       "      <td>A-</td>\n",
       "    </tr>\n",
       "    <tr>\n",
       "      <th>PUNT_INGLES</th>\n",
       "      <td>53</td>\n",
       "      <td>45</td>\n",
       "      <td>39</td>\n",
       "    </tr>\n",
       "    <tr>\n",
       "      <th>DECIL_RAZONA_CUANT</th>\n",
       "      <td>D10</td>\n",
       "      <td>D05</td>\n",
       "      <td>D03</td>\n",
       "    </tr>\n",
       "    <tr>\n",
       "      <th>PUNT_RAZONA_CUANT</th>\n",
       "      <td>65</td>\n",
       "      <td>49</td>\n",
       "      <td>44</td>\n",
       "    </tr>\n",
       "    <tr>\n",
       "      <th>DECIL_COMP_CIUDADANA</th>\n",
       "      <td>D07</td>\n",
       "      <td>D07</td>\n",
       "      <td>D09</td>\n",
       "    </tr>\n",
       "    <tr>\n",
       "      <th>PUNT_COMP_CIUDADANA</th>\n",
       "      <td>56</td>\n",
       "      <td>56</td>\n",
       "      <td>62</td>\n",
       "    </tr>\n",
       "    <tr>\n",
       "      <th>PUNT_GLOBAL</th>\n",
       "      <td>292</td>\n",
       "      <td>237</td>\n",
       "      <td>279</td>\n",
       "    </tr>\n",
       "    <tr>\n",
       "      <th>ESTU_PUESTO</th>\n",
       "      <td>164</td>\n",
       "      <td>589</td>\n",
       "      <td>233</td>\n",
       "    </tr>\n",
       "  </tbody>\n",
       "</table>\n",
       "<p>136 rows × 3 columns</p>\n",
       "</div>"
      ],
      "text/plain": [
       "                                                             0  \\\n",
       "PERIODO                                                  20142   \n",
       "ESTU_CONSECUTIVO                            SABER1120142000001   \n",
       "ESTU_ESTUDIANTE                                     ESTUDIANTE   \n",
       "ESTU_EDAD                                                   17   \n",
       "ESTU_TIPO_DOCUMENTO                                         TI   \n",
       "ESTU_PAIS_RESIDE                                             1   \n",
       "ESTU_GENERO                                                  M   \n",
       "ESTU_FECHA_NACIMIENTO                               15/11/1996   \n",
       "ESTU_ETNIA                                                 100   \n",
       "ESTU_LIMITA_MOTRIZ                                         NaN   \n",
       "ESTU_LIMITA_INVIDENTE                                      NaN   \n",
       "ESTU_LIMITA_CONDICIONESPECIAL                              NaN   \n",
       "ESTU_LIMITA_SORDO                                          NaN   \n",
       "ESTU_LIMITA_SDOWN                                          NaN   \n",
       "ESTU_LIMITA_AUTISMO                                        NaN   \n",
       "COLE_COD_MCPIO_UBICACION                                  5001   \n",
       "ESTU_RESIDE_MCPIO                                     MEDELLIN   \n",
       "ESTU_RESIDE_DEPTO                                    ANTIOQUIA   \n",
       "ESTU_COD_RESIDE_MCPIO                                     5001   \n",
       "ESTU_ZONA_RESIDE                                             6   \n",
       "COLE_COD_DANE_INSTITUCION                          1.05001e+11   \n",
       "COLE_COD_ICFES                                          113324   \n",
       "COLE_NOMBRE_SEDE               INST EDUC FE Y ALEGRIA GRANIZAL   \n",
       "COLE_JORNADA                                                 M   \n",
       "COLE_GENERO                                              MIXTO   \n",
       "COLE_CARACTER                                TÉCNICO/ACADÉMICO   \n",
       "COLE_NATURALEZA                                        OFICIAL   \n",
       "COLE_BILINGUE                                                N   \n",
       "COLE_CALENDARIO                                              A   \n",
       "ESTU_AREA_RESIDE                                             U   \n",
       "...                                                        ...   \n",
       "FAMI_AUTOMOVIL                                               N   \n",
       "FAMI_CELULAR                                                 S   \n",
       "FAMI_NEVERA                                                  S   \n",
       "FAMI_HORNO                                                   S   \n",
       "FAMI_INGRESO_FMILIAR_MENSUAL                                 2   \n",
       "ESTU_TRABAJA                                                 1   \n",
       "ESTU_RECIBE_SALARIO                                        NaN   \n",
       "ESTU_VECES_ESTADO                                          NaN   \n",
       "ESTU_COD_PLANTEL                                           NaN   \n",
       "ESTU_COD_DEPTO_PRESENTACION                                  5   \n",
       "ESTU_COD_MCPIO_PRESENTACION                               5001   \n",
       "ESTU_MCPIO_PRESENTACION                               MEDELLIN   \n",
       "ESTU_DEPTO_PRESENTACION                              ANTIOQUIA   \n",
       "DECIL_LECTURA_CRITICA                                      D09   \n",
       "PUNT_LECTURA_CRITICA                                        60   \n",
       "DECIL_MATEMATICAS                                          D08   \n",
       "PUNT_MATEMATICAS                                            58   \n",
       "DECIL_C_NATURALES                                          D08   \n",
       "PUNT_C_NATURALES                                            58   \n",
       "DECIL_SOCIALES_CIUDADANAS                                  D08   \n",
       "PUNT_SOCIALES_CIUDADANAS                                    59   \n",
       "DECIL_INGLES                                               D08   \n",
       "DESEMP_INGLES                                               A1   \n",
       "PUNT_INGLES                                                 53   \n",
       "DECIL_RAZONA_CUANT                                         D10   \n",
       "PUNT_RAZONA_CUANT                                           65   \n",
       "DECIL_COMP_CIUDADANA                                       D07   \n",
       "PUNT_COMP_CIUDADANA                                         56   \n",
       "PUNT_GLOBAL                                                292   \n",
       "ESTU_PUESTO                                                164   \n",
       "\n",
       "                                                                1  \\\n",
       "PERIODO                                                     20142   \n",
       "ESTU_CONSECUTIVO                               SABER1120142000002   \n",
       "ESTU_ESTUDIANTE                                        ESTUDIANTE   \n",
       "ESTU_EDAD                                                      17   \n",
       "ESTU_TIPO_DOCUMENTO                                            TI   \n",
       "ESTU_PAIS_RESIDE                                                1   \n",
       "ESTU_GENERO                                                     M   \n",
       "ESTU_FECHA_NACIMIENTO                                  06/12/1996   \n",
       "ESTU_ETNIA                                                    100   \n",
       "ESTU_LIMITA_MOTRIZ                                            NaN   \n",
       "ESTU_LIMITA_INVIDENTE                                         NaN   \n",
       "ESTU_LIMITA_CONDICIONESPECIAL                                 NaN   \n",
       "ESTU_LIMITA_SORDO                                             NaN   \n",
       "ESTU_LIMITA_SDOWN                                             NaN   \n",
       "ESTU_LIMITA_AUTISMO                                           NaN   \n",
       "COLE_COD_MCPIO_UBICACION                                     5051   \n",
       "ESTU_RESIDE_MCPIO                                       ARBOLETES   \n",
       "ESTU_RESIDE_DEPTO                                       ANTIOQUIA   \n",
       "ESTU_COD_RESIDE_MCPIO                                        5051   \n",
       "ESTU_ZONA_RESIDE                                               10   \n",
       "COLE_COD_DANE_INSTITUCION                             1.05051e+11   \n",
       "COLE_COD_ICFES                                              38992   \n",
       "COLE_NOMBRE_SEDE               I. E. MIGUEL VICENTE GARRIDO ORTIZ   \n",
       "COLE_JORNADA                                                    M   \n",
       "COLE_GENERO                                                 MIXTO   \n",
       "COLE_CARACTER                                   TÉCNICO/ACADÉMICO   \n",
       "COLE_NATURALEZA                                           OFICIAL   \n",
       "COLE_BILINGUE                                                   N   \n",
       "COLE_CALENDARIO                                                 A   \n",
       "ESTU_AREA_RESIDE                                                U   \n",
       "...                                                           ...   \n",
       "FAMI_AUTOMOVIL                                                  N   \n",
       "FAMI_CELULAR                                                    S   \n",
       "FAMI_NEVERA                                                     S   \n",
       "FAMI_HORNO                                                      N   \n",
       "FAMI_INGRESO_FMILIAR_MENSUAL                                    1   \n",
       "ESTU_TRABAJA                                                    1   \n",
       "ESTU_RECIBE_SALARIO                                           NaN   \n",
       "ESTU_VECES_ESTADO                                             NaN   \n",
       "ESTU_COD_PLANTEL                                              NaN   \n",
       "ESTU_COD_DEPTO_PRESENTACION                                     5   \n",
       "ESTU_COD_MCPIO_PRESENTACION                                  5051   \n",
       "ESTU_MCPIO_PRESENTACION                                 ARBOLETES   \n",
       "ESTU_DEPTO_PRESENTACION                                 ANTIOQUIA   \n",
       "DECIL_LECTURA_CRITICA                                         D04   \n",
       "PUNT_LECTURA_CRITICA                                           45   \n",
       "DECIL_MATEMATICAS                                             D04   \n",
       "PUNT_MATEMATICAS                                               47   \n",
       "DECIL_C_NATURALES                                             D03   \n",
       "PUNT_C_NATURALES                                               44   \n",
       "DECIL_SOCIALES_CIUDADANAS                                     D07   \n",
       "PUNT_SOCIALES_CIUDADANAS                                       54   \n",
       "DECIL_INGLES                                                  D03   \n",
       "DESEMP_INGLES                                                  A-   \n",
       "PUNT_INGLES                                                    45   \n",
       "DECIL_RAZONA_CUANT                                            D05   \n",
       "PUNT_RAZONA_CUANT                                              49   \n",
       "DECIL_COMP_CIUDADANA                                          D07   \n",
       "PUNT_COMP_CIUDADANA                                            56   \n",
       "PUNT_GLOBAL                                                   237   \n",
       "ESTU_PUESTO                                                   589   \n",
       "\n",
       "                                                2  \n",
       "PERIODO                                     20142  \n",
       "ESTU_CONSECUTIVO               SABER1120142000003  \n",
       "ESTU_ESTUDIANTE                        ESTUDIANTE  \n",
       "ESTU_EDAD                                      17  \n",
       "ESTU_TIPO_DOCUMENTO                            TI  \n",
       "ESTU_PAIS_RESIDE                                1  \n",
       "ESTU_GENERO                                     F  \n",
       "ESTU_FECHA_NACIMIENTO                  03/07/1997  \n",
       "ESTU_ETNIA                                      1  \n",
       "ESTU_LIMITA_MOTRIZ                            NaN  \n",
       "ESTU_LIMITA_INVIDENTE                         NaN  \n",
       "ESTU_LIMITA_CONDICIONESPECIAL                 NaN  \n",
       "ESTU_LIMITA_SORDO                             NaN  \n",
       "ESTU_LIMITA_SDOWN                             NaN  \n",
       "ESTU_LIMITA_AUTISMO                           NaN  \n",
       "COLE_COD_MCPIO_UBICACION                    76109  \n",
       "ESTU_RESIDE_MCPIO                    BUENAVENTURA  \n",
       "ESTU_RESIDE_DEPTO                           VALLE  \n",
       "ESTU_COD_RESIDE_MCPIO                       76109  \n",
       "ESTU_ZONA_RESIDE                               10  \n",
       "COLE_COD_DANE_INSTITUCION             1.76109e+11  \n",
       "COLE_COD_ICFES                              62232  \n",
       "COLE_NOMBRE_SEDE                 JOSE MARIA CABAL  \n",
       "COLE_JORNADA                                    M  \n",
       "COLE_GENERO                                 MIXTO  \n",
       "COLE_CARACTER                           ACADÉMICO  \n",
       "COLE_NATURALEZA                           OFICIAL  \n",
       "COLE_BILINGUE                                   N  \n",
       "COLE_CALENDARIO                                 A  \n",
       "ESTU_AREA_RESIDE                                U  \n",
       "...                                           ...  \n",
       "FAMI_AUTOMOVIL                                  N  \n",
       "FAMI_CELULAR                                    S  \n",
       "FAMI_NEVERA                                     S  \n",
       "FAMI_HORNO                                      S  \n",
       "FAMI_INGRESO_FMILIAR_MENSUAL                    2  \n",
       "ESTU_TRABAJA                                    1  \n",
       "ESTU_RECIBE_SALARIO                           NaN  \n",
       "ESTU_VECES_ESTADO                             NaN  \n",
       "ESTU_COD_PLANTEL                              NaN  \n",
       "ESTU_COD_DEPTO_PRESENTACION                    76  \n",
       "ESTU_COD_MCPIO_PRESENTACION                 76109  \n",
       "ESTU_MCPIO_PRESENTACION              BUENAVENTURA  \n",
       "ESTU_DEPTO_PRESENTACION                     VALLE  \n",
       "DECIL_LECTURA_CRITICA                         D09  \n",
       "PUNT_LECTURA_CRITICA                           62  \n",
       "DECIL_MATEMATICAS                             D05  \n",
       "PUNT_MATEMATICAS                               49  \n",
       "DECIL_C_NATURALES                             D08  \n",
       "PUNT_C_NATURALES                               56  \n",
       "DECIL_SOCIALES_CIUDADANAS                     D09  \n",
       "PUNT_SOCIALES_CIUDADANAS                       62  \n",
       "DECIL_INGLES                                  D01  \n",
       "DESEMP_INGLES                                  A-  \n",
       "PUNT_INGLES                                    39  \n",
       "DECIL_RAZONA_CUANT                            D03  \n",
       "PUNT_RAZONA_CUANT                              44  \n",
       "DECIL_COMP_CIUDADANA                          D09  \n",
       "PUNT_COMP_CIUDADANA                            62  \n",
       "PUNT_GLOBAL                                   279  \n",
       "ESTU_PUESTO                                   233  \n",
       "\n",
       "[136 rows x 3 columns]"
      ]
     },
     "execution_count": 4,
     "metadata": {},
     "output_type": "execute_result"
    }
   ],
   "source": [
    "data_2014_2.head(3).T"
   ]
  },
  {
   "cell_type": "code",
   "execution_count": null,
   "metadata": {
    "collapsed": true
   },
   "outputs": [],
   "source": [
    "data_2014_2 = data_2014_2.drop(['PERIODO', 'ESTU_CONSECUTIVO', 'ESTU_TIPO_DOCUMENTO', 'COLE_NOMBRE_SEDE',\n",
    "                               'ESTU_IES_DESEADA_NOMBRE', 'ESTU_IES_COD_MPIO_DESEADA', 'ESTU_COD_MCPIO_PRESENTACION',\n",
    "                               'ESTU_COD_DEPTO_PRESENTACION'], axis=1)"
   ]
  },
  {
   "cell_type": "code",
   "execution_count": null,
   "metadata": {
    "collapsed": true
   },
   "outputs": [],
   "source": [
    "c = 'ESTU_ESTUDIANTE'\n",
    "data_2014_2[c].value_counts().sort_index().index\n",
    "data_2014_2[c].value_counts().sort_index()\n",
    "missing_data(data_2014_2[c])"
   ]
  },
  {
   "cell_type": "code",
   "execution_count": null,
   "metadata": {
    "collapsed": true
   },
   "outputs": [],
   "source": [
    "c = 'ESTU_EDAD'\n",
    "data_2014_2[c].value_counts().sort_index().index\n",
    "data_2014_2[c].value_counts().sort_index()\n",
    "missing_data(data_2014_2[c])"
   ]
  },
  {
   "cell_type": "code",
   "execution_count": null,
   "metadata": {
    "collapsed": true
   },
   "outputs": [],
   "source": [
    "c = 'ESTU_PAIS_RESIDE'\n",
    "data_2014_2[c].value_counts().sort_index().index\n",
    "data_2014_2[c].value_counts().sort_index()\n",
    "missing_data(data_2014_2[c])"
   ]
  },
  {
   "cell_type": "code",
   "execution_count": null,
   "metadata": {
    "collapsed": true
   },
   "outputs": [],
   "source": [
    "c = 'ESTU_GENERO'\n",
    "data_2014_2[c].value_counts().sort_index().index\n",
    "data_2014_2[c].value_counts().sort_index()\n",
    "missing_data(data_2014_2[c])"
   ]
  },
  {
   "cell_type": "code",
   "execution_count": null,
   "metadata": {
    "collapsed": true
   },
   "outputs": [],
   "source": [
    "c = 'ESTU_FECHA_NACIMIENTO'\n",
    "data_2014_2[c].value_counts().sort_index().index\n",
    "data_2014_2[c].value_counts().sort_index()\n",
    "missing_data(data_2014_2[c])"
   ]
  },
  {
   "cell_type": "code",
   "execution_count": null,
   "metadata": {
    "collapsed": true
   },
   "outputs": [],
   "source": [
    "c = 'ESTU_ETNIA'\n",
    "data_2014_2[c].value_counts().sort_index().index\n",
    "data_2014_2[c].value_counts().sort_index()\n",
    "missing_data(data_2014_2[c])"
   ]
  },
  {
   "cell_type": "code",
   "execution_count": null,
   "metadata": {
    "collapsed": true
   },
   "outputs": [],
   "source": [
    "c = 'ESTU_LIMITA_MOTRIZ'\n",
    "data_2014_2[c].value_counts().sort_index().index\n",
    "data_2014_2[c].value_counts().sort_index()\n",
    "missing_data(data_2014_2[c])"
   ]
  },
  {
   "cell_type": "code",
   "execution_count": null,
   "metadata": {
    "collapsed": true
   },
   "outputs": [],
   "source": [
    "c = 'ESTU_LIMITA_INVIDENTE'\n",
    "data_2014_2[c].value_counts().sort_index().index\n",
    "data_2014_2[c].value_counts().sort_index()\n",
    "missing_data(data_2014_2[c])"
   ]
  },
  {
   "cell_type": "code",
   "execution_count": null,
   "metadata": {
    "collapsed": true
   },
   "outputs": [],
   "source": [
    "c = 'ESTU_LIMITA_CONDICIONESPECIAL'\n",
    "data_2014_2[c].value_counts().sort_index().index\n",
    "data_2014_2[c].value_counts().sort_index()\n",
    "missing_data(data_2014_2[c])"
   ]
  },
  {
   "cell_type": "code",
   "execution_count": null,
   "metadata": {
    "collapsed": true
   },
   "outputs": [],
   "source": [
    "c = 'ESTU_LIMITA_SORDO'\n",
    "data_2014_2[c].value_counts().sort_index().index\n",
    "data_2014_2[c].value_counts().sort_index()\n",
    "missing_data(data_2014_2[c])"
   ]
  },
  {
   "cell_type": "code",
   "execution_count": null,
   "metadata": {
    "collapsed": true
   },
   "outputs": [],
   "source": [
    "c = 'ESTU_LIMITA_SDOWN'\n",
    "data_2014_2[c].value_counts().sort_index().index\n",
    "data_2014_2[c].value_counts().sort_index()\n",
    "missing_data(data_2014_2[c])"
   ]
  },
  {
   "cell_type": "code",
   "execution_count": null,
   "metadata": {
    "collapsed": true
   },
   "outputs": [],
   "source": [
    "c = 'ESTU_LIMITA_AUTISMO'\n",
    "data_2014_2[c].value_counts().sort_index().index\n",
    "data_2014_2[c].value_counts().sort_index()\n",
    "missing_data(data_2014_2[c])"
   ]
  },
  {
   "cell_type": "code",
   "execution_count": null,
   "metadata": {
    "collapsed": true
   },
   "outputs": [],
   "source": []
  },
  {
   "cell_type": "code",
   "execution_count": null,
   "metadata": {
    "collapsed": true
   },
   "outputs": [],
   "source": [
    "c = 'COLE_COD_MCPIO_UBICACION'\n",
    "data_2014_2[c].value_counts().sort_index().index\n",
    "data_2014_2[c].value_counts().sort_index()\n",
    "missing_data(data_2014_2[c])"
   ]
  },
  {
   "cell_type": "code",
   "execution_count": null,
   "metadata": {
    "collapsed": true
   },
   "outputs": [],
   "source": [
    "c = 'ESTU_COD_RESIDE_MCPIO'\n",
    "data_2014_2[c].value_counts().sort_index().index\n",
    "data_2014_2[c].value_counts().sort_index()\n",
    "missing_data(data_2014_2[c])"
   ]
  },
  {
   "cell_type": "code",
   "execution_count": null,
   "metadata": {
    "collapsed": true
   },
   "outputs": [],
   "source": [
    "c = 'ESTU_RESIDE_MCPIO'\n",
    "data_2014_2[c].value_counts().sort_index().index\n",
    "data_2014_2[c].value_counts().sort_index()\n",
    "missing_data(data_2014_2[c])"
   ]
  },
  {
   "cell_type": "code",
   "execution_count": null,
   "metadata": {
    "collapsed": true
   },
   "outputs": [],
   "source": [
    "c = 'ESTU_RESIDE_DEPTO'\n",
    "data_2014_2[c].value_counts().sort_index().index\n",
    "data_2014_2[c].value_counts().sort_index()\n",
    "missing_data(data_2014_2[c])"
   ]
  },
  {
   "cell_type": "code",
   "execution_count": null,
   "metadata": {
    "collapsed": true
   },
   "outputs": [],
   "source": [
    "c = 'ESTU_ZONA_RESIDE'\n",
    "data_2014_2[c].value_counts().sort_index().index\n",
    "data_2014_2[c].value_counts().sort_index()\n",
    "missing_data(data_2014_2[c])"
   ]
  },
  {
   "cell_type": "code",
   "execution_count": null,
   "metadata": {
    "collapsed": true
   },
   "outputs": [],
   "source": [
    "c = 'COLE_COD_DANE_INSTITUCION'\n",
    "data_2014_2[c].value_counts().sort_index().index\n",
    "data_2014_2[c].value_counts().sort_index()\n",
    "missing_data(data_2014_2[c])"
   ]
  },
  {
   "cell_type": "code",
   "execution_count": null,
   "metadata": {
    "collapsed": true
   },
   "outputs": [],
   "source": [
    "c = 'COLE_COD_ICFES'\n",
    "data_2014_2[c].value_counts().sort_index().index\n",
    "data_2014_2[c].value_counts().sort_index()\n",
    "missing_data(data_2014_2[c])"
   ]
  },
  {
   "cell_type": "code",
   "execution_count": null,
   "metadata": {
    "collapsed": true
   },
   "outputs": [],
   "source": [
    "c = 'COLE_JORNADA'\n",
    "data_2014_2[c].value_counts().sort_index().index\n",
    "data_2014_2[c].value_counts().sort_index()\n",
    "missing_data(data_2014_2[c])"
   ]
  },
  {
   "cell_type": "code",
   "execution_count": null,
   "metadata": {
    "collapsed": true
   },
   "outputs": [],
   "source": [
    "c = 'COLE_GENERO'\n",
    "data_2014_2[c].value_counts().sort_index().index\n",
    "data_2014_2[c].value_counts().sort_index()\n",
    "missing_data(data_2014_2[c])"
   ]
  },
  {
   "cell_type": "code",
   "execution_count": null,
   "metadata": {
    "collapsed": true
   },
   "outputs": [],
   "source": [
    "c = 'COLE_CARACTER'\n",
    "data_2014_2[c].value_counts().sort_index().index\n",
    "data_2014_2[c].value_counts().sort_index()\n",
    "missing_data(data_2014_2[c])"
   ]
  },
  {
   "cell_type": "code",
   "execution_count": null,
   "metadata": {
    "collapsed": true
   },
   "outputs": [],
   "source": [
    "c = 'COLE_NATURALEZA'\n",
    "data_2014_2[c].value_counts().sort_index().index\n",
    "data_2014_2[c].value_counts().sort_index()\n",
    "missing_data(data_2014_2[c])"
   ]
  },
  {
   "cell_type": "code",
   "execution_count": null,
   "metadata": {
    "collapsed": true
   },
   "outputs": [],
   "source": [
    "c = 'COLE_BILINGUE'\n",
    "data_2014_2[c].value_counts().sort_index().index\n",
    "data_2014_2[c].value_counts().sort_index()\n",
    "missing_data(data_2014_2[c])"
   ]
  },
  {
   "cell_type": "code",
   "execution_count": null,
   "metadata": {
    "collapsed": true
   },
   "outputs": [],
   "source": [
    "c = 'COLE_CALENDARIO'\n",
    "data_2014_2[c].value_counts().sort_index().index\n",
    "data_2014_2[c].value_counts().sort_index()\n",
    "missing_data(data_2014_2[c])"
   ]
  },
  {
   "cell_type": "code",
   "execution_count": null,
   "metadata": {
    "collapsed": true
   },
   "outputs": [],
   "source": [
    "c = 'ESTU_AREA_RESIDE'\n",
    "data_2014_2[c].value_counts().sort_index().index\n",
    "data_2014_2[c].value_counts().sort_index()\n",
    "missing_data(data_2014_2[c])"
   ]
  },
  {
   "cell_type": "code",
   "execution_count": null,
   "metadata": {
    "collapsed": true
   },
   "outputs": [],
   "source": [
    "c = 'COLE_AREA_UBICACION'\n",
    "data_2014_2[c].value_counts().sort_index().index\n",
    "data_2014_2[c].value_counts().sort_index()\n",
    "missing_data(data_2014_2[c])"
   ]
  },
  {
   "cell_type": "code",
   "execution_count": null,
   "metadata": {
    "collapsed": true
   },
   "outputs": [],
   "source": [
    "c = 'COLE_DEPTO_UBICACION'\n",
    "data_2014_2[c].value_counts().sort_index().index\n",
    "data_2014_2[c].value_counts().sort_index()\n",
    "missing_data(data_2014_2[c])"
   ]
  },
  {
   "cell_type": "code",
   "execution_count": null,
   "metadata": {
    "collapsed": true
   },
   "outputs": [],
   "source": [
    "c = 'COLE_MCPIO_UBICACION'\n",
    "data_2014_2[c].value_counts().sort_index().index\n",
    "data_2014_2[c].value_counts().sort_index()\n",
    "missing_data(data_2014_2[c])"
   ]
  },
  {
   "cell_type": "code",
   "execution_count": null,
   "metadata": {
    "collapsed": true
   },
   "outputs": [],
   "source": [
    "c = 'ESTU_COD_RESIDE_DEPTO'\n",
    "data_2014_2[c].value_counts().sort_index().index\n",
    "data_2014_2[c].value_counts().sort_index()\n",
    "missing_data(data_2014_2[c])"
   ]
  },
  {
   "cell_type": "code",
   "execution_count": null,
   "metadata": {
    "collapsed": true
   },
   "outputs": [],
   "source": [
    "c = 'ESTU_PRESENTO_ANTECEDENTES'\n",
    "data_2014_2[c].value_counts().sort_index().index\n",
    "data_2014_2[c].value_counts().sort_index()\n",
    "missing_data(data_2014_2[c])"
   ]
  },
  {
   "cell_type": "code",
   "execution_count": null,
   "metadata": {
    "collapsed": true
   },
   "outputs": [],
   "source": [
    "c = 'ESTU_REPROBO_PRIMERO'\n",
    "data_2014_2[c].value_counts().sort_index().index\n",
    "data_2014_2[c].value_counts().sort_index()\n",
    "missing_data(data_2014_2[c])"
   ]
  },
  {
   "cell_type": "code",
   "execution_count": null,
   "metadata": {
    "collapsed": true
   },
   "outputs": [],
   "source": [
    "c = 'ESTU_REPROBO_SEGUNDO'\n",
    "data_2014_2[c].value_counts().sort_index().index\n",
    "data_2014_2[c].value_counts().sort_index()\n",
    "missing_data(data_2014_2[c])"
   ]
  },
  {
   "cell_type": "code",
   "execution_count": null,
   "metadata": {
    "collapsed": true
   },
   "outputs": [],
   "source": [
    "c = 'ESTU_REPROBO_TERCERO'\n",
    "data_2014_2[c].value_counts().sort_index().index\n",
    "data_2014_2[c].value_counts().sort_index()\n",
    "missing_data(data_2014_2[c])"
   ]
  },
  {
   "cell_type": "code",
   "execution_count": null,
   "metadata": {
    "collapsed": true
   },
   "outputs": [],
   "source": [
    "c = 'ESTU_REPROBO_CUARTO'\n",
    "data_2014_2[c].value_counts().sort_index().index\n",
    "data_2014_2[c].value_counts().sort_index()\n",
    "missing_data(data_2014_2[c])"
   ]
  },
  {
   "cell_type": "code",
   "execution_count": null,
   "metadata": {
    "collapsed": true
   },
   "outputs": [],
   "source": [
    "c = 'ESTU_REPROBO_QUINTO'\n",
    "data_2014_2[c].value_counts().sort_index().index\n",
    "data_2014_2[c].value_counts().sort_index()\n",
    "missing_data(data_2014_2[c])"
   ]
  },
  {
   "cell_type": "code",
   "execution_count": null,
   "metadata": {
    "collapsed": true
   },
   "outputs": [],
   "source": [
    "c = 'ESTU_REPROBO_SEXTO'\n",
    "data_2014_2[c].value_counts().sort_index().index\n",
    "data_2014_2[c].value_counts().sort_index()\n",
    "missing_data(data_2014_2[c])"
   ]
  },
  {
   "cell_type": "code",
   "execution_count": null,
   "metadata": {
    "collapsed": true
   },
   "outputs": [],
   "source": [
    "c = 'ESTU_REPROBO_SEPTIMO'\n",
    "data_2014_2[c].value_counts().sort_index().index\n",
    "data_2014_2[c].value_counts().sort_index()\n",
    "missing_data(data_2014_2[c])"
   ]
  },
  {
   "cell_type": "code",
   "execution_count": null,
   "metadata": {
    "collapsed": true
   },
   "outputs": [],
   "source": [
    "c = 'ESTU_REPROBO_OCTAVO'\n",
    "data_2014_2[c].value_counts().sort_index().index\n",
    "data_2014_2[c].value_counts().sort_index()\n",
    "missing_data(data_2014_2[c])"
   ]
  },
  {
   "cell_type": "code",
   "execution_count": null,
   "metadata": {
    "collapsed": true
   },
   "outputs": [],
   "source": [
    "c = 'ESTU_REPROBO_NOVENO'\n",
    "data_2014_2[c].value_counts().sort_index().index\n",
    "data_2014_2[c].value_counts().sort_index()\n",
    "missing_data(data_2014_2[c])"
   ]
  },
  {
   "cell_type": "code",
   "execution_count": null,
   "metadata": {
    "collapsed": true
   },
   "outputs": [],
   "source": [
    "c = 'ESTU_REPROBO_DECIMO'\n",
    "data_2014_2[c].value_counts().sort_index().index\n",
    "data_2014_2[c].value_counts().sort_index()\n",
    "missing_data(data_2014_2[c])"
   ]
  },
  {
   "cell_type": "code",
   "execution_count": null,
   "metadata": {
    "collapsed": true
   },
   "outputs": [],
   "source": [
    "c = 'ESTU_REPROBO_ONCE_MAS'\n",
    "data_2014_2[c].value_counts().sort_index().index\n",
    "data_2014_2[c].value_counts().sort_index()\n",
    "missing_data(data_2014_2[c])"
   ]
  },
  {
   "cell_type": "code",
   "execution_count": null,
   "metadata": {
    "collapsed": true
   },
   "outputs": [],
   "source": [
    "c = 'ESTU_ANOS_PREESCOLAR'\n",
    "data_2014_2[c].value_counts().sort_index().index\n",
    "data_2014_2[c].value_counts().sort_index()\n",
    "missing_data(data_2014_2[c])"
   ]
  },
  {
   "cell_type": "code",
   "execution_count": null,
   "metadata": {
    "collapsed": true
   },
   "outputs": [],
   "source": [
    "c = 'ESTU_ANO_MATRICULA_PRIMERO'\n",
    "data_2014_2[c].value_counts().sort_index().index\n",
    "data_2014_2[c].value_counts().sort_index()\n",
    "missing_data(data_2014_2[c])"
   ]
  },
  {
   "cell_type": "code",
   "execution_count": null,
   "metadata": {
    "collapsed": true
   },
   "outputs": [],
   "source": [
    "c = 'ESTU_ANO_TERMINO_QUINTO'\n",
    "data_2014_2[c].value_counts().sort_index().index\n",
    "data_2014_2[c].value_counts().sort_index()\n",
    "missing_data(data_2014_2[c])"
   ]
  },
  {
   "cell_type": "code",
   "execution_count": null,
   "metadata": {
    "collapsed": true
   },
   "outputs": [],
   "source": [
    "c = 'ESTU_ANO_MATRICULA_SEXTO'\n",
    "data_2014_2[c].value_counts().sort_index().index\n",
    "data_2014_2[c].value_counts().sort_index()\n",
    "missing_data(data_2014_2[c])"
   ]
  },
  {
   "cell_type": "code",
   "execution_count": null,
   "metadata": {
    "collapsed": true
   },
   "outputs": [],
   "source": [
    "c = 'ESTU_ANO_TERMINO_BACHILL'\n",
    "data_2014_2[c].value_counts().sort_index().index\n",
    "data_2014_2[c].value_counts().sort_index()\n",
    "missing_data(data_2014_2[c])"
   ]
  },
  {
   "cell_type": "code",
   "execution_count": null,
   "metadata": {
    "collapsed": true
   },
   "outputs": [],
   "source": [
    "c = 'ESTU_CUANTOS_COLE_ESTUDIO'\n",
    "data_2014_2[c].value_counts().sort_index().index\n",
    "data_2014_2[c].value_counts().sort_index()\n",
    "missing_data(data_2014_2[c])"
   ]
  },
  {
   "cell_type": "code",
   "execution_count": null,
   "metadata": {
    "collapsed": true
   },
   "outputs": [],
   "source": [
    "c = 'ESTU_MES_TERMINO_BACHILL'\n",
    "data_2014_2[c].value_counts().sort_index().index\n",
    "data_2014_2[c].value_counts().sort_index()\n",
    "missing_data(data_2014_2[c])"
   ]
  },
  {
   "cell_type": "code",
   "execution_count": null,
   "metadata": {
    "collapsed": true
   },
   "outputs": [],
   "source": [
    "c = 'ESTU_RAZON_RETIRO'\n",
    "data_2014_2[c].value_counts().sort_index().index\n",
    "data_2014_2[c].value_counts().sort_index()\n",
    "missing_data(data_2014_2[c])"
   ]
  },
  {
   "cell_type": "code",
   "execution_count": null,
   "metadata": {
    "collapsed": true
   },
   "outputs": [],
   "source": [
    "c = 'ESTU_RETIRARSE_COLEGIO'\n",
    "data_2014_2[c].value_counts().sort_index().index\n",
    "data_2014_2[c].value_counts().sort_index()\n",
    "missing_data(data_2014_2[c])"
   ]
  },
  {
   "cell_type": "code",
   "execution_count": null,
   "metadata": {
    "collapsed": true
   },
   "outputs": [],
   "source": [
    "c = 'ESTU_TIPO_CARRERA_DESEADA'\n",
    "data_2014_2[c].value_counts().sort_index().index\n",
    "data_2014_2[c].value_counts().sort_index()\n",
    "missing_data(data_2014_2[c])"
   ]
  },
  {
   "cell_type": "code",
   "execution_count": null,
   "metadata": {
    "collapsed": true
   },
   "outputs": [],
   "source": [
    "c = 'ESTU_IES_COD_DESEADA'\n",
    "data_2014_2[c].value_counts().sort_index().index\n",
    "data_2014_2[c].value_counts().sort_index()\n",
    "missing_data(data_2014_2[c])"
   ]
  },
  {
   "cell_type": "code",
   "execution_count": null,
   "metadata": {
    "collapsed": true
   },
   "outputs": [],
   "source": [
    "c = 'ESTU_IES_MPIO_DESEADA'\n",
    "data_2014_2[c].value_counts().sort_index().index\n",
    "data_2014_2[c].value_counts().sort_index()\n",
    "missing_data(data_2014_2[c])"
   ]
  },
  {
   "cell_type": "code",
   "execution_count": null,
   "metadata": {
    "collapsed": true
   },
   "outputs": [],
   "source": [
    "c = 'ESTU_POR_OPORTUNIDADES'\n",
    "data_2014_2[c].value_counts().sort_index().index\n",
    "data_2014_2[c].value_counts().sort_index()\n",
    "missing_data(data_2014_2[c])"
   ]
  },
  {
   "cell_type": "code",
   "execution_count": null,
   "metadata": {
    "collapsed": true
   },
   "outputs": [],
   "source": [
    "c = 'ESTU_POR_AMIGOSESTUDIANDO'\n",
    "data_2014_2[c].value_counts().sort_index().index\n",
    "data_2014_2[c].value_counts().sort_index()\n",
    "missing_data(data_2014_2[c])"
   ]
  },
  {
   "cell_type": "code",
   "execution_count": null,
   "metadata": {
    "collapsed": true
   },
   "outputs": [],
   "source": [
    "c = 'ESTU_POR_BUSCANDOCARRERA'\n",
    "data_2014_2[c].value_counts().sort_index().index\n",
    "data_2014_2[c].value_counts().sort_index()\n",
    "missing_data(data_2014_2[c])"
   ]
  },
  {
   "cell_type": "code",
   "execution_count": null,
   "metadata": {
    "collapsed": true
   },
   "outputs": [],
   "source": [
    "c = 'ESTU_POR_COLOMBIAAPRENDE'\n",
    "data_2014_2[c].value_counts().sort_index().index\n",
    "data_2014_2[c].value_counts().sort_index()\n",
    "missing_data(data_2014_2[c])"
   ]
  },
  {
   "cell_type": "code",
   "execution_count": null,
   "metadata": {
    "collapsed": true
   },
   "outputs": [],
   "source": [
    "c = 'ESTU_POR_COSTOMATRICULA'\n",
    "data_2014_2[c].value_counts().sort_index().index\n",
    "data_2014_2[c].value_counts().sort_index()\n",
    "missing_data(data_2014_2[c])"
   ]
  },
  {
   "cell_type": "code",
   "execution_count": null,
   "metadata": {
    "collapsed": true
   },
   "outputs": [],
   "source": [
    "c = 'ESTU_POR_INFLUENCIAALGUIEN'\n",
    "data_2014_2[c].value_counts().sort_index().index\n",
    "data_2014_2[c].value_counts().sort_index()\n",
    "missing_data(data_2014_2[c])"
   ]
  },
  {
   "cell_type": "code",
   "execution_count": null,
   "metadata": {
    "collapsed": true
   },
   "outputs": [],
   "source": [
    "c = 'ESTU_POR_INTERESPERSONAL'\n",
    "data_2014_2[c].value_counts().sort_index().index\n",
    "data_2014_2[c].value_counts().sort_index()\n",
    "missing_data(data_2014_2[c])"
   ]
  },
  {
   "cell_type": "code",
   "execution_count": null,
   "metadata": {
    "collapsed": true
   },
   "outputs": [],
   "source": [
    "c = 'ESTU_POR_MEJORARPOSICIONSOCIAL'\n",
    "data_2014_2[c].value_counts().sort_index().index\n",
    "data_2014_2[c].value_counts().sort_index()\n",
    "missing_data(data_2014_2[c])"
   ]
  },
  {
   "cell_type": "code",
   "execution_count": null,
   "metadata": {
    "collapsed": true
   },
   "outputs": [],
   "source": [
    "c = 'ESTU_POR_ORIENTACIONVOCACIONAL'\n",
    "data_2014_2[c].value_counts().sort_index().index\n",
    "data_2014_2[c].value_counts().sort_index()\n",
    "missing_data(data_2014_2[c])"
   ]
  },
  {
   "cell_type": "code",
   "execution_count": null,
   "metadata": {
    "collapsed": true
   },
   "outputs": [],
   "source": [
    "c = 'ESTU_POR_OTRARAZON'\n",
    "data_2014_2[c].value_counts().sort_index().index\n",
    "data_2014_2[c].value_counts().sort_index()\n",
    "missing_data(data_2014_2[c])"
   ]
  },
  {
   "cell_type": "code",
   "execution_count": null,
   "metadata": {
    "collapsed": true
   },
   "outputs": [],
   "source": [
    "c = 'ESTU_POR_TRADICIONFAMILIAR'\n",
    "data_2014_2[c].value_counts().sort_index().index\n",
    "data_2014_2[c].value_counts().sort_index()\n",
    "missing_data(data_2014_2[c])"
   ]
  },
  {
   "cell_type": "code",
   "execution_count": null,
   "metadata": {
    "collapsed": true
   },
   "outputs": [],
   "source": [
    "c = 'ESTU_POR_UBICACION'\n",
    "data_2014_2[c].value_counts().sort_index().index\n",
    "data_2014_2[c].value_counts().sort_index()\n",
    "missing_data(data_2014_2[c])"
   ]
  },
  {
   "cell_type": "code",
   "execution_count": null,
   "metadata": {
    "collapsed": true
   },
   "outputs": [],
   "source": [
    "c = 'ESTU_POR_UNICAQUEOFRECE'\n",
    "data_2014_2[c].value_counts().sort_index().index\n",
    "data_2014_2[c].value_counts().sort_index()\n",
    "missing_data(data_2014_2[c])"
   ]
  },
  {
   "cell_type": "code",
   "execution_count": null,
   "metadata": {
    "collapsed": true
   },
   "outputs": [],
   "source": [
    "c = 'ESTU_PRESTIGIOINSTITUCION'\n",
    "data_2014_2[c].value_counts().sort_index().index\n",
    "data_2014_2[c].value_counts().sort_index()\n",
    "missing_data(data_2014_2[c])"
   ]
  },
  {
   "cell_type": "code",
   "execution_count": null,
   "metadata": {
    "collapsed": true
   },
   "outputs": [],
   "source": [
    "c = 'ESTU_PROGRAMA_ACADEMICODESEADO'\n",
    "data_2014_2[c].value_counts().sort_index().index\n",
    "data_2014_2[c].value_counts().sort_index()\n",
    "missing_data(data_2014_2[c])"
   ]
  },
  {
   "cell_type": "code",
   "execution_count": null,
   "metadata": {
    "collapsed": true
   },
   "outputs": [],
   "source": [
    "c = 'ESTU_OTRO_PLANTEL'\n",
    "data_2014_2[c].value_counts().sort_index().index\n",
    "data_2014_2[c].value_counts().sort_index()\n",
    "missing_data(data_2014_2[c])"
   ]
  },
  {
   "cell_type": "code",
   "execution_count": null,
   "metadata": {
    "collapsed": true
   },
   "outputs": [],
   "source": [
    "c = 'ESTU_COD_OTRO_PAIS_PLANTEL'\n",
    "data_2014_2[c].value_counts().sort_index().index\n",
    "data_2014_2[c].value_counts().sort_index()\n",
    "missing_data(data_2014_2[c])"
   ]
  },
  {
   "cell_type": "code",
   "execution_count": null,
   "metadata": {
    "collapsed": true
   },
   "outputs": [],
   "source": [
    "c = 'ESTU_TOTAL_ALUMNOS_CURSO'\n",
    "data_2014_2[c].value_counts().sort_index().index\n",
    "data_2014_2[c].value_counts().sort_index()\n",
    "missing_data(data_2014_2[c])"
   ]
  },
  {
   "cell_type": "code",
   "execution_count": null,
   "metadata": {
    "collapsed": true
   },
   "outputs": [],
   "source": [
    "c = 'ESTU_ANOS_COLEGIO_ACTUAL'\n",
    "data_2014_2[c].value_counts().sort_index().index\n",
    "data_2014_2[c].value_counts().sort_index()\n",
    "missing_data(data_2014_2[c])"
   ]
  },
  {
   "cell_type": "code",
   "execution_count": null,
   "metadata": {
    "collapsed": true
   },
   "outputs": [],
   "source": [
    "c = 'COLE_VALOR_PENSION'\n",
    "data_2014_2[c].value_counts().sort_index().index\n",
    "data_2014_2[c].value_counts().sort_index()\n",
    "missing_data(data_2014_2[c])"
   ]
  },
  {
   "cell_type": "code",
   "execution_count": null,
   "metadata": {
    "collapsed": true
   },
   "outputs": [],
   "source": [
    "c = 'ESTU_VECES_ESTADO_ESTUDIANTIL'\n",
    "data_2014_2[c].value_counts().sort_index().index\n",
    "data_2014_2[c].value_counts().sort_index()\n",
    "missing_data(data_2014_2[c])"
   ]
  },
  {
   "cell_type": "code",
   "execution_count": null,
   "metadata": {
    "collapsed": true
   },
   "outputs": [],
   "source": [
    "c = 'ESTU_PRESENTO_EXPECTATIVAS'\n",
    "data_2014_2[c].value_counts().sort_index().index\n",
    "data_2014_2[c].value_counts().sort_index()\n",
    "missing_data(data_2014_2[c])"
   ]
  },
  {
   "cell_type": "code",
   "execution_count": null,
   "metadata": {
    "collapsed": true
   },
   "outputs": [],
   "source": [
    "c = 'ESTU_INGRESO_CARRERA'\n",
    "data_2014_2[c].value_counts().sort_index().index\n",
    "data_2014_2[c].value_counts().sort_index()\n",
    "missing_data(data_2014_2[c])"
   ]
  },
  {
   "cell_type": "code",
   "execution_count": null,
   "metadata": {
    "collapsed": true
   },
   "outputs": [],
   "source": [
    "c = 'ESTU_PUNT_ESPERADO_MATEMATICAS'\n",
    "data_2014_2[c].value_counts().sort_index().index\n",
    "data_2014_2[c].value_counts().sort_index()\n",
    "missing_data(data_2014_2[c])"
   ]
  },
  {
   "cell_type": "code",
   "execution_count": null,
   "metadata": {
    "collapsed": true
   },
   "outputs": [],
   "source": [
    "c = 'ESTU_PUNT_ESPERADO_LENGUAJE'\n",
    "data_2014_2[c].value_counts().sort_index().index\n",
    "data_2014_2[c].value_counts().sort_index()\n",
    "missing_data(data_2014_2[c])"
   ]
  },
  {
   "cell_type": "code",
   "execution_count": null,
   "metadata": {
    "collapsed": true
   },
   "outputs": [],
   "source": [
    "c = 'ESTU_PUNT_ESPERADO_INGLES'\n",
    "data_2014_2[c].value_counts().sort_index().index\n",
    "data_2014_2[c].value_counts().sort_index()\n",
    "missing_data(data_2014_2[c])"
   ]
  },
  {
   "cell_type": "code",
   "execution_count": null,
   "metadata": {
    "collapsed": true
   },
   "outputs": [],
   "source": [
    "c = 'ESTU_SALARIO_ESPERADO_BACH'\n",
    "data_2014_2[c].value_counts().sort_index().index\n",
    "data_2014_2[c].value_counts().sort_index()\n",
    "missing_data(data_2014_2[c])"
   ]
  },
  {
   "cell_type": "code",
   "execution_count": null,
   "metadata": {
    "collapsed": true
   },
   "outputs": [],
   "source": [
    "c = 'ESTU_SALARIO_ESPERADO_TECNICO'\n",
    "data_2014_2[c].value_counts().sort_index().index\n",
    "data_2014_2[c].value_counts().sort_index()\n",
    "missing_data(data_2014_2[c])"
   ]
  },
  {
   "cell_type": "code",
   "execution_count": null,
   "metadata": {
    "collapsed": true
   },
   "outputs": [],
   "source": [
    "c = 'ESTU_SALARIO_ESPERADO_PROFES'\n",
    "data_2014_2[c].value_counts().sort_index().index\n",
    "data_2014_2[c].value_counts().sort_index()\n",
    "missing_data(data_2014_2[c])"
   ]
  },
  {
   "cell_type": "code",
   "execution_count": null,
   "metadata": {
    "collapsed": true
   },
   "outputs": [],
   "source": [
    "c = 'ESTU_PRIVADO_LIBERTAD'\n",
    "data_2014_2[c].value_counts().sort_index().index\n",
    "data_2014_2[c].value_counts().sort_index()\n",
    "missing_data(data_2014_2[c])"
   ]
  },
  {
   "cell_type": "code",
   "execution_count": null,
   "metadata": {
    "collapsed": true
   },
   "outputs": [],
   "source": [
    "c = 'FAMI_EDUCA_PADRE'\n",
    "data_2014_2[c].value_counts().sort_index().index\n",
    "data_2014_2[c].value_counts().sort_index()\n",
    "missing_data(data_2014_2[c])"
   ]
  },
  {
   "cell_type": "code",
   "execution_count": null,
   "metadata": {
    "collapsed": true
   },
   "outputs": [],
   "source": [
    "c = 'FAMI_EDUCA_MADRE'\n",
    "data_2014_2[c].value_counts().sort_index().index\n",
    "data_2014_2[c].value_counts().sort_index()\n",
    "missing_data(data_2014_2[c])"
   ]
  },
  {
   "cell_type": "code",
   "execution_count": null,
   "metadata": {
    "collapsed": true
   },
   "outputs": [],
   "source": [
    "c = 'FAMI_OCUPA_PADRE'\n",
    "data_2014_2[c].value_counts().sort_index().index\n",
    "data_2014_2[c].value_counts().sort_index()\n",
    "missing_data(data_2014_2[c])"
   ]
  },
  {
   "cell_type": "code",
   "execution_count": null,
   "metadata": {
    "collapsed": true
   },
   "outputs": [],
   "source": [
    "c = 'FAMI_OCUPA_MADRE'\n",
    "data_2014_2[c].value_counts().sort_index().index\n",
    "data_2014_2[c].value_counts().sort_index()\n",
    "missing_data(data_2014_2[c])"
   ]
  },
  {
   "cell_type": "code",
   "execution_count": null,
   "metadata": {
    "collapsed": true
   },
   "outputs": [],
   "source": [
    "c = 'FAMI_ESTRATO_VIVIENDA'\n",
    "data_2014_2[c].value_counts().sort_index().index\n",
    "data_2014_2[c].value_counts().sort_index()\n",
    "missing_data(data_2014_2[c])"
   ]
  },
  {
   "cell_type": "code",
   "execution_count": null,
   "metadata": {
    "collapsed": true
   },
   "outputs": [],
   "source": [
    "c = 'FAMI_NIVEL_SISBEN'\n",
    "data_2014_2[c].value_counts().sort_index().index\n",
    "data_2014_2[c].value_counts().sort_index()\n",
    "missing_data(data_2014_2[c])"
   ]
  },
  {
   "cell_type": "code",
   "execution_count": null,
   "metadata": {
    "collapsed": true
   },
   "outputs": [],
   "source": [
    "c = 'FAMI_PERSONAS_HOGAR'\n",
    "data_2014_2[c].value_counts().sort_index().index\n",
    "data_2014_2[c].value_counts().sort_index()\n",
    "missing_data(data_2014_2[c])"
   ]
  },
  {
   "cell_type": "code",
   "execution_count": null,
   "metadata": {
    "collapsed": true
   },
   "outputs": [],
   "source": [
    "c = 'FAMI_CUARTOS_HOGAR'\n",
    "data_2014_2[c].value_counts().sort_index().index\n",
    "data_2014_2[c].value_counts().sort_index()\n",
    "missing_data(data_2014_2[c])"
   ]
  },
  {
   "cell_type": "code",
   "execution_count": null,
   "metadata": {
    "collapsed": true
   },
   "outputs": [],
   "source": [
    "c = 'FAMI_PISOSHOGAR'\n",
    "data_2014_2[c].value_counts().sort_index().index\n",
    "data_2014_2[c].value_counts().sort_index()\n",
    "missing_data(data_2014_2[c])"
   ]
  },
  {
   "cell_type": "code",
   "execution_count": null,
   "metadata": {
    "collapsed": true
   },
   "outputs": [],
   "source": [
    "c = 'FAMI_TELEFONO_FIJO'\n",
    "data_2014_2[c].value_counts().sort_index().index\n",
    "data_2014_2[c].value_counts().sort_index()\n",
    "missing_data(data_2014_2[c])"
   ]
  },
  {
   "cell_type": "code",
   "execution_count": null,
   "metadata": {
    "collapsed": true
   },
   "outputs": [],
   "source": [
    "c = 'FAMI_INTERNET'\n",
    "data_2014_2[c].value_counts().sort_index().index\n",
    "data_2014_2[c].value_counts().sort_index()\n",
    "missing_data(data_2014_2[c])"
   ]
  },
  {
   "cell_type": "code",
   "execution_count": null,
   "metadata": {
    "collapsed": true
   },
   "outputs": [],
   "source": [
    "c = 'FAMI_SERVICIO_TELEVISION'\n",
    "data_2014_2[c].value_counts().sort_index().index\n",
    "data_2014_2[c].value_counts().sort_index()\n",
    "missing_data(data_2014_2[c])"
   ]
  },
  {
   "cell_type": "code",
   "execution_count": null,
   "metadata": {
    "collapsed": true
   },
   "outputs": [],
   "source": [
    "c = 'FAMI_COMPUTADOR'\n",
    "data_2014_2[c].value_counts().sort_index().index\n",
    "data_2014_2[c].value_counts().sort_index()\n",
    "missing_data(data_2014_2[c])"
   ]
  },
  {
   "cell_type": "code",
   "execution_count": null,
   "metadata": {
    "collapsed": true
   },
   "outputs": [],
   "source": [
    "c = 'FAMI_DVD'\n",
    "data_2014_2[c].value_counts().sort_index().index\n",
    "data_2014_2[c].value_counts().sort_index()\n",
    "missing_data(data_2014_2[c])"
   ]
  },
  {
   "cell_type": "code",
   "execution_count": null,
   "metadata": {
    "collapsed": true
   },
   "outputs": [],
   "source": [
    "c = 'FAMI_LAVADORA'\n",
    "data_2014_2[c].value_counts().sort_index().index\n",
    "data_2014_2[c].value_counts().sort_index()\n",
    "missing_data(data_2014_2[c])"
   ]
  },
  {
   "cell_type": "code",
   "execution_count": null,
   "metadata": {
    "collapsed": true
   },
   "outputs": [],
   "source": [
    "c = 'FAMI_MICROONDAS'\n",
    "data_2014_2[c].value_counts().sort_index().index\n",
    "data_2014_2[c].value_counts().sort_index()\n",
    "missing_data(data_2014_2[c])"
   ]
  },
  {
   "cell_type": "code",
   "execution_count": null,
   "metadata": {
    "collapsed": true
   },
   "outputs": [],
   "source": [
    "c = 'FAMI_AUTOMOVIL'\n",
    "data_2014_2[c].value_counts().sort_index().index\n",
    "data_2014_2[c].value_counts().sort_index()\n",
    "missing_data(data_2014_2[c])"
   ]
  },
  {
   "cell_type": "code",
   "execution_count": null,
   "metadata": {
    "collapsed": true
   },
   "outputs": [],
   "source": [
    "c = 'FAMI_CELULAR'\n",
    "data_2014_2[c].value_counts().sort_index().index\n",
    "data_2014_2[c].value_counts().sort_index()\n",
    "missing_data(data_2014_2[c])"
   ]
  },
  {
   "cell_type": "code",
   "execution_count": null,
   "metadata": {
    "collapsed": true
   },
   "outputs": [],
   "source": [
    "c = 'FAMI_NEVERA'\n",
    "data_2014_2[c].value_counts().sort_index().index\n",
    "data_2014_2[c].value_counts().sort_index()\n",
    "missing_data(data_2014_2[c])"
   ]
  },
  {
   "cell_type": "code",
   "execution_count": null,
   "metadata": {
    "collapsed": true
   },
   "outputs": [],
   "source": [
    "c = 'FAMI_HORNO'\n",
    "data_2014_2[c].value_counts().sort_index().index\n",
    "data_2014_2[c].value_counts().sort_index()\n",
    "missing_data(data_2014_2[c])"
   ]
  },
  {
   "cell_type": "code",
   "execution_count": null,
   "metadata": {
    "collapsed": true
   },
   "outputs": [],
   "source": [
    "c = 'FAMI_INGRESO_FMILIAR_MENSUAL'\n",
    "data_2014_2[c].value_counts().sort_index().index\n",
    "data_2014_2[c].value_counts().sort_index()\n",
    "missing_data(data_2014_2[c])"
   ]
  },
  {
   "cell_type": "code",
   "execution_count": null,
   "metadata": {
    "collapsed": true
   },
   "outputs": [],
   "source": [
    "c = 'ESTU_TRABAJA'\n",
    "data_2014_2[c].value_counts().sort_index().index\n",
    "data_2014_2[c].value_counts().sort_index()\n",
    "missing_data(data_2014_2[c])"
   ]
  },
  {
   "cell_type": "code",
   "execution_count": null,
   "metadata": {
    "collapsed": true
   },
   "outputs": [],
   "source": [
    "c = 'ESTU_RECIBE_SALARIO'\n",
    "data_2014_2[c].value_counts().sort_index().index\n",
    "data_2014_2[c].value_counts().sort_index()\n",
    "missing_data(data_2014_2[c])"
   ]
  },
  {
   "cell_type": "code",
   "execution_count": null,
   "metadata": {
    "collapsed": true
   },
   "outputs": [],
   "source": [
    "c = 'ESTU_VECES_ESTADO'\n",
    "data_2014_2[c].value_counts().sort_index().index\n",
    "data_2014_2[c].value_counts().sort_index()\n",
    "missing_data(data_2014_2[c])"
   ]
  },
  {
   "cell_type": "code",
   "execution_count": null,
   "metadata": {
    "collapsed": true
   },
   "outputs": [],
   "source": [
    "c = 'ESTU_COD_PLANTEL'\n",
    "data_2014_2[c].value_counts().sort_index().index\n",
    "data_2014_2[c].value_counts().sort_index()\n",
    "missing_data(data_2014_2[c])"
   ]
  },
  {
   "cell_type": "code",
   "execution_count": null,
   "metadata": {
    "collapsed": true
   },
   "outputs": [],
   "source": [
    "c = 'ESTU_MCPIO_PRESENTACION'\n",
    "data_2014_2[c].value_counts().sort_index().index\n",
    "data_2014_2[c].value_counts().sort_index()\n",
    "missing_data(data_2014_2[c])"
   ]
  },
  {
   "cell_type": "code",
   "execution_count": null,
   "metadata": {
    "collapsed": true
   },
   "outputs": [],
   "source": [
    "c = 'ESTU_DEPTO_PRESENTACION'\n",
    "data_2014_2[c].value_counts().sort_index().index\n",
    "data_2014_2[c].value_counts().sort_index()\n",
    "missing_data(data_2014_2[c])"
   ]
  },
  {
   "cell_type": "markdown",
   "metadata": {},
   "source": [
    "## TARGETS"
   ]
  },
  {
   "cell_type": "code",
   "execution_count": null,
   "metadata": {
    "collapsed": true
   },
   "outputs": [],
   "source": [
    "c = 'DECIL_LECTURA_CRITICA'\n",
    "data_2014_2[c].value_counts().sort_index().index\n",
    "data_2014_2[c].value_counts().sort_index()\n",
    "missing_data(data_2014_2[c])"
   ]
  },
  {
   "cell_type": "code",
   "execution_count": null,
   "metadata": {
    "collapsed": true
   },
   "outputs": [],
   "source": [
    "c = 'PUNT_LECTURA_CRITICA'\n",
    "data_2014_2[c].value_counts().sort_index().index\n",
    "data_2014_2[c].value_counts().sort_index()\n",
    "missing_data(data_2014_2[c])"
   ]
  },
  {
   "cell_type": "code",
   "execution_count": null,
   "metadata": {
    "collapsed": true
   },
   "outputs": [],
   "source": [
    "c = 'DECIL_MATEMATICAS'\n",
    "data_2014_2[c].value_counts().sort_index().index\n",
    "data_2014_2[c].value_counts().sort_index()\n",
    "missing_data(data_2014_2[c])"
   ]
  },
  {
   "cell_type": "code",
   "execution_count": null,
   "metadata": {
    "collapsed": true
   },
   "outputs": [],
   "source": [
    "c = 'PUNT_MATEMATICAS'\n",
    "data_2014_2[c].value_counts().sort_index().index\n",
    "data_2014_2[c].value_counts().sort_index()\n",
    "missing_data(data_2014_2[c])"
   ]
  },
  {
   "cell_type": "code",
   "execution_count": null,
   "metadata": {
    "collapsed": true
   },
   "outputs": [],
   "source": [
    "c = 'DECIL_C_NATURALES'\n",
    "data_2014_2[c].value_counts().sort_index().index\n",
    "data_2014_2[c].value_counts().sort_index()\n",
    "missing_data(data_2014_2[c])"
   ]
  },
  {
   "cell_type": "code",
   "execution_count": null,
   "metadata": {
    "collapsed": true
   },
   "outputs": [],
   "source": [
    "c = 'PUNT_C_NATURALES'\n",
    "data_2014_2[c].value_counts().sort_index().index\n",
    "data_2014_2[c].value_counts().sort_index()\n",
    "missing_data(data_2014_2[c])"
   ]
  },
  {
   "cell_type": "code",
   "execution_count": null,
   "metadata": {
    "collapsed": true
   },
   "outputs": [],
   "source": [
    "c = 'DECIL_SOCIALES_CIUDADANAS'\n",
    "data_2014_2[c].value_counts().sort_index().index\n",
    "data_2014_2[c].value_counts().sort_index()\n",
    "missing_data(data_2014_2[c])"
   ]
  },
  {
   "cell_type": "code",
   "execution_count": null,
   "metadata": {
    "collapsed": true
   },
   "outputs": [],
   "source": [
    "c = 'PUNT_SOCIALES_CIUDADANAS'\n",
    "data_2014_2[c].value_counts().sort_index().index\n",
    "data_2014_2[c].value_counts().sort_index()\n",
    "missing_data(data_2014_2[c])"
   ]
  },
  {
   "cell_type": "code",
   "execution_count": null,
   "metadata": {
    "collapsed": true
   },
   "outputs": [],
   "source": [
    "c = 'DECIL_INGLES'\n",
    "data_2014_2[c].value_counts().sort_index().index\n",
    "data_2014_2[c].value_counts().sort_index()\n",
    "missing_data(data_2014_2[c])"
   ]
  },
  {
   "cell_type": "code",
   "execution_count": null,
   "metadata": {
    "collapsed": true
   },
   "outputs": [],
   "source": [
    "c = 'DESEMP_INGLES'\n",
    "data_2014_2[c].value_counts().sort_index().index\n",
    "data_2014_2[c].value_counts().sort_index()\n",
    "missing_data(data_2014_2[c])"
   ]
  },
  {
   "cell_type": "code",
   "execution_count": null,
   "metadata": {
    "collapsed": true
   },
   "outputs": [],
   "source": [
    "c = 'PUNT_INGLES'\n",
    "data_2014_2[c].value_counts().sort_index().index\n",
    "data_2014_2[c].value_counts().sort_index()\n",
    "missing_data(data_2014_2[c])"
   ]
  },
  {
   "cell_type": "code",
   "execution_count": null,
   "metadata": {
    "collapsed": true
   },
   "outputs": [],
   "source": [
    "c = 'DECIL_RAZONA_CUANT'\n",
    "data_2014_2[c].value_counts().sort_index().index\n",
    "data_2014_2[c].value_counts().sort_index()\n",
    "missing_data(data_2014_2[c])"
   ]
  },
  {
   "cell_type": "code",
   "execution_count": null,
   "metadata": {
    "collapsed": true
   },
   "outputs": [],
   "source": [
    "c = 'PUNT_RAZONA_CUANT'\n",
    "data_2014_2[c].value_counts().sort_index().index\n",
    "data_2014_2[c].value_counts().sort_index()\n",
    "missing_data(data_2014_2[c])"
   ]
  },
  {
   "cell_type": "code",
   "execution_count": null,
   "metadata": {
    "collapsed": true
   },
   "outputs": [],
   "source": [
    "c = 'DECIL_COMP_CIUDADANA'\n",
    "data_2014_2[c].value_counts().sort_index().index\n",
    "data_2014_2[c].value_counts().sort_index()\n",
    "missing_data(data_2014_2[c])"
   ]
  },
  {
   "cell_type": "code",
   "execution_count": null,
   "metadata": {
    "collapsed": true
   },
   "outputs": [],
   "source": [
    "c = 'PUNT_COMP_CIUDADANA'\n",
    "data_2014_2[c].value_counts().sort_index().index\n",
    "data_2014_2[c].value_counts().sort_index()\n",
    "missing_data(data_2014_2[c])"
   ]
  },
  {
   "cell_type": "code",
   "execution_count": null,
   "metadata": {
    "collapsed": true
   },
   "outputs": [],
   "source": [
    "c = 'PUNT_GLOBAL'\n",
    "data_2014_2[c].value_counts().sort_index().index\n",
    "data_2014_2[c].value_counts().sort_index()\n",
    "missing_data(data_2014_2[c])"
   ]
  },
  {
   "cell_type": "code",
   "execution_count": null,
   "metadata": {
    "collapsed": false,
    "scrolled": false
   },
   "outputs": [],
   "source": [
    "c = 'ESTU_PUESTO'\n",
    "data_2014_2[c].value_counts().sort_index().index\n",
    "data_2014_2[c].value_counts().sort_index()\n",
    "missing_data(data_2014_2[c])"
   ]
  },
  {
   "cell_type": "markdown",
   "metadata": {},
   "source": [
    "Now i can transform the obtained Dataframes in csv files"
   ]
  },
  {
   "cell_type": "code",
   "execution_count": null,
   "metadata": {
    "collapsed": true
   },
   "outputs": [],
   "source": []
  }
 ],
 "metadata": {
  "kernelspec": {
   "display_name": "Python 3",
   "language": "python",
   "name": "python3"
  },
  "language_info": {
   "codemirror_mode": {
    "name": "ipython",
    "version": 3
   },
   "file_extension": ".py",
   "mimetype": "text/x-python",
   "name": "python",
   "nbconvert_exporter": "python",
   "pygments_lexer": "ipython3",
   "version": "3.4.2"
  }
 },
 "nbformat": 4,
 "nbformat_minor": 0
}
