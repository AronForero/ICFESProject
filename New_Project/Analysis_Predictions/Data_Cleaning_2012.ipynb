{
 "cells": [
  {
   "cell_type": "code",
   "execution_count": 1,
   "metadata": {
    "collapsed": true
   },
   "outputs": [],
   "source": [
    "import pandas as pd\n",
    "import numpy as np\n",
    "%run -i ../tools/functions.py\n",
    "%run -i ../tools/label_encoder.py"
   ]
  },
  {
   "cell_type": "code",
   "execution_count": 2,
   "metadata": {
    "collapsed": false
   },
   "outputs": [
    {
     "name": "stderr",
     "output_type": "stream",
     "text": [
      "/usr/local/lib/python3.4/dist-packages/IPython/core/interactiveshell.py:2902: DtypeWarning: Columns (10,11,14,15) have mixed types. Specify dtype option on import or set low_memory=False.\n",
      "  interactivity=interactivity, compiler=compiler, result=result)\n"
     ]
    }
   ],
   "source": [
    "data_2012 = pd.read_csv('../DatosFTPICFES/SABER11/SB11-BASES_DE_DATOS/SB11-20121-RGSTRO-CLFCCN-V1-0.txt', delimiter='|')"
   ]
  },
  {
   "cell_type": "code",
   "execution_count": 3,
   "metadata": {
    "collapsed": false
   },
   "outputs": [
    {
     "data": {
      "text/plain": [
       "(95946, 114)"
      ]
     },
     "execution_count": 3,
     "metadata": {},
     "output_type": "execute_result"
    }
   ],
   "source": [
    "data_2012.shape"
   ]
  },
  {
   "cell_type": "code",
   "execution_count": 4,
   "metadata": {
    "collapsed": false,
    "scrolled": true
   },
   "outputs": [
    {
     "data": {
      "text/html": [
       "<div>\n",
       "<table border=\"1\" class=\"dataframe\">\n",
       "  <thead>\n",
       "    <tr style=\"text-align: right;\">\n",
       "      <th></th>\n",
       "      <th>0</th>\n",
       "      <th>1</th>\n",
       "      <th>2</th>\n",
       "    </tr>\n",
       "  </thead>\n",
       "  <tbody>\n",
       "    <tr>\n",
       "      <th>ESTU_CONSECUTIVO</th>\n",
       "      <td>SABER1120121000001</td>\n",
       "      <td>SABER1120121000002</td>\n",
       "      <td>SABER1120121000003</td>\n",
       "    </tr>\n",
       "    <tr>\n",
       "      <th>PERIODO</th>\n",
       "      <td>20121</td>\n",
       "      <td>20121</td>\n",
       "      <td>20121</td>\n",
       "    </tr>\n",
       "    <tr>\n",
       "      <th>ESTU_TIPO_DOCUMENTO</th>\n",
       "      <td>C</td>\n",
       "      <td>C</td>\n",
       "      <td>R</td>\n",
       "    </tr>\n",
       "    <tr>\n",
       "      <th>ESTU_PAIS_RESIDE</th>\n",
       "      <td>CO</td>\n",
       "      <td>CO</td>\n",
       "      <td>CO</td>\n",
       "    </tr>\n",
       "    <tr>\n",
       "      <th>ESTU_GENERO</th>\n",
       "      <td>M</td>\n",
       "      <td>M</td>\n",
       "      <td>F</td>\n",
       "    </tr>\n",
       "    <tr>\n",
       "      <th>ESTU_NACIMIENTO_DIA</th>\n",
       "      <td>25</td>\n",
       "      <td>5</td>\n",
       "      <td>3</td>\n",
       "    </tr>\n",
       "    <tr>\n",
       "      <th>ESTU_NACIMIENTO_MES</th>\n",
       "      <td>8</td>\n",
       "      <td>7</td>\n",
       "      <td>1</td>\n",
       "    </tr>\n",
       "    <tr>\n",
       "      <th>ESTU_NACIMIENTO_ANNO</th>\n",
       "      <td>1992</td>\n",
       "      <td>1970</td>\n",
       "      <td>1994</td>\n",
       "    </tr>\n",
       "    <tr>\n",
       "      <th>ESTU_EDAD</th>\n",
       "      <td>19</td>\n",
       "      <td>41</td>\n",
       "      <td>18</td>\n",
       "    </tr>\n",
       "    <tr>\n",
       "      <th>ESTU_LIMITA_BAJAVISION</th>\n",
       "      <td>NaN</td>\n",
       "      <td>NaN</td>\n",
       "      <td>NaN</td>\n",
       "    </tr>\n",
       "    <tr>\n",
       "      <th>ESTU_LIMITA_SORDOCEGUERA</th>\n",
       "      <td>NaN</td>\n",
       "      <td>NaN</td>\n",
       "      <td>NaN</td>\n",
       "    </tr>\n",
       "    <tr>\n",
       "      <th>ESTU_LIMITA_COGNITIVA</th>\n",
       "      <td>NaN</td>\n",
       "      <td>NaN</td>\n",
       "      <td>NaN</td>\n",
       "    </tr>\n",
       "    <tr>\n",
       "      <th>ESTU_LIMITA_INVIDENTE</th>\n",
       "      <td>NaN</td>\n",
       "      <td>NaN</td>\n",
       "      <td>NaN</td>\n",
       "    </tr>\n",
       "    <tr>\n",
       "      <th>ESTU_LIMITA_MOTRIZ</th>\n",
       "      <td>NaN</td>\n",
       "      <td>NaN</td>\n",
       "      <td>NaN</td>\n",
       "    </tr>\n",
       "    <tr>\n",
       "      <th>ESTU_LIMITA_SORDOINTERPRETE</th>\n",
       "      <td>NaN</td>\n",
       "      <td>NaN</td>\n",
       "      <td>NaN</td>\n",
       "    </tr>\n",
       "    <tr>\n",
       "      <th>ESTU_LIMITA_SORDONOINTERPRETE</th>\n",
       "      <td>NaN</td>\n",
       "      <td>NaN</td>\n",
       "      <td>NaN</td>\n",
       "    </tr>\n",
       "    <tr>\n",
       "      <th>ESTU_ETNIA</th>\n",
       "      <td>NaN</td>\n",
       "      <td>NaN</td>\n",
       "      <td>1</td>\n",
       "    </tr>\n",
       "    <tr>\n",
       "      <th>ESTU_COD_RESIDE_MCPIO</th>\n",
       "      <td>5837</td>\n",
       "      <td>5837</td>\n",
       "      <td>5837</td>\n",
       "    </tr>\n",
       "    <tr>\n",
       "      <th>ESTU_RESIDE_MCPIO</th>\n",
       "      <td>TURBO</td>\n",
       "      <td>TURBO</td>\n",
       "      <td>TURBO</td>\n",
       "    </tr>\n",
       "    <tr>\n",
       "      <th>ESTU_RESIDE_DEPTO</th>\n",
       "      <td>ANTIOQUIA</td>\n",
       "      <td>ANTIOQUIA</td>\n",
       "      <td>ANTIOQUIA</td>\n",
       "    </tr>\n",
       "    <tr>\n",
       "      <th>ESTU_ZONA_RESIDE</th>\n",
       "      <td>10</td>\n",
       "      <td>10</td>\n",
       "      <td>10</td>\n",
       "    </tr>\n",
       "    <tr>\n",
       "      <th>ESTU_AREA_RESIDE</th>\n",
       "      <td>1</td>\n",
       "      <td>1</td>\n",
       "      <td>1</td>\n",
       "    </tr>\n",
       "    <tr>\n",
       "      <th>IND_COD_ICFES_TERMINO</th>\n",
       "      <td>128306</td>\n",
       "      <td>128306</td>\n",
       "      <td>128306</td>\n",
       "    </tr>\n",
       "    <tr>\n",
       "      <th>COLE_COD_ICFES</th>\n",
       "      <td>128306</td>\n",
       "      <td>128306</td>\n",
       "      <td>128306</td>\n",
       "    </tr>\n",
       "    <tr>\n",
       "      <th>COLE_COD_DANE_INSTITUCION</th>\n",
       "      <td>2.05837e+11</td>\n",
       "      <td>2.05837e+11</td>\n",
       "      <td>2.05837e+11</td>\n",
       "    </tr>\n",
       "    <tr>\n",
       "      <th>COLE_NOMBRE_SEDE</th>\n",
       "      <td>I.E. VEINTICUATRO DE DICIEMBRE</td>\n",
       "      <td>I.E. VEINTICUATRO DE DICIEMBRE</td>\n",
       "      <td>I.E. VEINTICUATRO DE DICIEMBRE</td>\n",
       "    </tr>\n",
       "    <tr>\n",
       "      <th>COLE_CALENDARIO</th>\n",
       "      <td>A</td>\n",
       "      <td>A</td>\n",
       "      <td>A</td>\n",
       "    </tr>\n",
       "    <tr>\n",
       "      <th>COLE_GENERO</th>\n",
       "      <td>X</td>\n",
       "      <td>X</td>\n",
       "      <td>X</td>\n",
       "    </tr>\n",
       "    <tr>\n",
       "      <th>COLE_NATURALEZA</th>\n",
       "      <td>O</td>\n",
       "      <td>O</td>\n",
       "      <td>O</td>\n",
       "    </tr>\n",
       "    <tr>\n",
       "      <th>COLE_BILINGUE</th>\n",
       "      <td>NaN</td>\n",
       "      <td>NaN</td>\n",
       "      <td>NaN</td>\n",
       "    </tr>\n",
       "    <tr>\n",
       "      <th>...</th>\n",
       "      <td>...</td>\n",
       "      <td>...</td>\n",
       "      <td>...</td>\n",
       "    </tr>\n",
       "    <tr>\n",
       "      <th>FAMI_PERSONAS_HOGAR</th>\n",
       "      <td>5</td>\n",
       "      <td>4</td>\n",
       "      <td>7</td>\n",
       "    </tr>\n",
       "    <tr>\n",
       "      <th>FAMI_CUARTOS_HOGAR</th>\n",
       "      <td>NaN</td>\n",
       "      <td>NaN</td>\n",
       "      <td>NaN</td>\n",
       "    </tr>\n",
       "    <tr>\n",
       "      <th>FAMI_PISOSHOGAR</th>\n",
       "      <td>4</td>\n",
       "      <td>4</td>\n",
       "      <td>2</td>\n",
       "    </tr>\n",
       "    <tr>\n",
       "      <th>FAMI_TELEFONO_FIJO</th>\n",
       "      <td>0</td>\n",
       "      <td>1</td>\n",
       "      <td>0</td>\n",
       "    </tr>\n",
       "    <tr>\n",
       "      <th>FAMI_CELULAR</th>\n",
       "      <td>1</td>\n",
       "      <td>1</td>\n",
       "      <td>1</td>\n",
       "    </tr>\n",
       "    <tr>\n",
       "      <th>FAMI_INTERNET</th>\n",
       "      <td>0</td>\n",
       "      <td>1</td>\n",
       "      <td>0</td>\n",
       "    </tr>\n",
       "    <tr>\n",
       "      <th>FAMI_SERVICIO_TELEVISION</th>\n",
       "      <td>1</td>\n",
       "      <td>1</td>\n",
       "      <td>0</td>\n",
       "    </tr>\n",
       "    <tr>\n",
       "      <th>FAMI_COMPUTADOR</th>\n",
       "      <td>3</td>\n",
       "      <td>3</td>\n",
       "      <td>0</td>\n",
       "    </tr>\n",
       "    <tr>\n",
       "      <th>FAMI_LAVADORA</th>\n",
       "      <td>0</td>\n",
       "      <td>1</td>\n",
       "      <td>1</td>\n",
       "    </tr>\n",
       "    <tr>\n",
       "      <th>FAMI_NEVERA</th>\n",
       "      <td>1</td>\n",
       "      <td>1</td>\n",
       "      <td>1</td>\n",
       "    </tr>\n",
       "    <tr>\n",
       "      <th>FAMI_HORNO</th>\n",
       "      <td>0</td>\n",
       "      <td>1</td>\n",
       "      <td>0</td>\n",
       "    </tr>\n",
       "    <tr>\n",
       "      <th>FAMI_DVD</th>\n",
       "      <td>1</td>\n",
       "      <td>1</td>\n",
       "      <td>1</td>\n",
       "    </tr>\n",
       "    <tr>\n",
       "      <th>FAMI_MICROONDAS</th>\n",
       "      <td>0</td>\n",
       "      <td>1</td>\n",
       "      <td>0</td>\n",
       "    </tr>\n",
       "    <tr>\n",
       "      <th>FAMI_AUTOMOVIL</th>\n",
       "      <td>0</td>\n",
       "      <td>1</td>\n",
       "      <td>0</td>\n",
       "    </tr>\n",
       "    <tr>\n",
       "      <th>FAMI_INGRESO_FMILIAR_MENSUAL</th>\n",
       "      <td>1</td>\n",
       "      <td>2</td>\n",
       "      <td>1</td>\n",
       "    </tr>\n",
       "    <tr>\n",
       "      <th>ESTU_TRABAJA</th>\n",
       "      <td>NaN</td>\n",
       "      <td>NaN</td>\n",
       "      <td>NaN</td>\n",
       "    </tr>\n",
       "    <tr>\n",
       "      <th>ESTU_HORAS_TRABAJA</th>\n",
       "      <td>NaN</td>\n",
       "      <td>NaN</td>\n",
       "      <td>NaN</td>\n",
       "    </tr>\n",
       "    <tr>\n",
       "      <th>PUNT_LENGUAJE</th>\n",
       "      <td>39</td>\n",
       "      <td>31</td>\n",
       "      <td>46</td>\n",
       "    </tr>\n",
       "    <tr>\n",
       "      <th>PUNT_MATEMATICAS</th>\n",
       "      <td>37</td>\n",
       "      <td>37</td>\n",
       "      <td>34</td>\n",
       "    </tr>\n",
       "    <tr>\n",
       "      <th>PUNT_C_SOCIALES</th>\n",
       "      <td>33</td>\n",
       "      <td>28</td>\n",
       "      <td>40</td>\n",
       "    </tr>\n",
       "    <tr>\n",
       "      <th>PUNT_FILOSOFIA</th>\n",
       "      <td>45</td>\n",
       "      <td>29</td>\n",
       "      <td>43</td>\n",
       "    </tr>\n",
       "    <tr>\n",
       "      <th>PUNT_BIOLOGIA</th>\n",
       "      <td>30</td>\n",
       "      <td>29</td>\n",
       "      <td>46</td>\n",
       "    </tr>\n",
       "    <tr>\n",
       "      <th>PUNT_QUIMICA</th>\n",
       "      <td>35</td>\n",
       "      <td>41</td>\n",
       "      <td>33</td>\n",
       "    </tr>\n",
       "    <tr>\n",
       "      <th>PUNT_FISICA</th>\n",
       "      <td>46</td>\n",
       "      <td>32</td>\n",
       "      <td>25</td>\n",
       "    </tr>\n",
       "    <tr>\n",
       "      <th>PUNT_INGLES</th>\n",
       "      <td>40</td>\n",
       "      <td>37</td>\n",
       "      <td>33</td>\n",
       "    </tr>\n",
       "    <tr>\n",
       "      <th>DESEMP_INGLES</th>\n",
       "      <td>A-</td>\n",
       "      <td>A-</td>\n",
       "      <td>A-</td>\n",
       "    </tr>\n",
       "    <tr>\n",
       "      <th>NOMBRE_COMP_FLEXIBLE</th>\n",
       "      <td>PROFUNDIZACIÓN EN CIENCIAS SOCIALES</td>\n",
       "      <td>VIOLENCIA Y SOCIEDAD</td>\n",
       "      <td>PROFUNDIZACIÓN EN CIENCIAS SOCIALES</td>\n",
       "    </tr>\n",
       "    <tr>\n",
       "      <th>PUNT_COMP_FLEXIBLE</th>\n",
       "      <td>5</td>\n",
       "      <td>40</td>\n",
       "      <td>5</td>\n",
       "    </tr>\n",
       "    <tr>\n",
       "      <th>DESEMP_COMP_FLEXIBLE</th>\n",
       "      <td>GB</td>\n",
       "      <td>NaN</td>\n",
       "      <td>I</td>\n",
       "    </tr>\n",
       "    <tr>\n",
       "      <th>ESTU_PUESTO</th>\n",
       "      <td>961</td>\n",
       "      <td>989</td>\n",
       "      <td>905</td>\n",
       "    </tr>\n",
       "  </tbody>\n",
       "</table>\n",
       "<p>114 rows × 3 columns</p>\n",
       "</div>"
      ],
      "text/plain": [
       "                                                                 0  \\\n",
       "ESTU_CONSECUTIVO                                SABER1120121000001   \n",
       "PERIODO                                                      20121   \n",
       "ESTU_TIPO_DOCUMENTO                                              C   \n",
       "ESTU_PAIS_RESIDE                                                CO   \n",
       "ESTU_GENERO                                                      M   \n",
       "ESTU_NACIMIENTO_DIA                                             25   \n",
       "ESTU_NACIMIENTO_MES                                              8   \n",
       "ESTU_NACIMIENTO_ANNO                                          1992   \n",
       "ESTU_EDAD                                                       19   \n",
       "ESTU_LIMITA_BAJAVISION                                         NaN   \n",
       "ESTU_LIMITA_SORDOCEGUERA                                       NaN   \n",
       "ESTU_LIMITA_COGNITIVA                                          NaN   \n",
       "ESTU_LIMITA_INVIDENTE                                          NaN   \n",
       "ESTU_LIMITA_MOTRIZ                                             NaN   \n",
       "ESTU_LIMITA_SORDOINTERPRETE                                    NaN   \n",
       "ESTU_LIMITA_SORDONOINTERPRETE                                  NaN   \n",
       "ESTU_ETNIA                                                     NaN   \n",
       "ESTU_COD_RESIDE_MCPIO                                         5837   \n",
       "ESTU_RESIDE_MCPIO                                            TURBO   \n",
       "ESTU_RESIDE_DEPTO                                        ANTIOQUIA   \n",
       "ESTU_ZONA_RESIDE                                                10   \n",
       "ESTU_AREA_RESIDE                                                 1   \n",
       "IND_COD_ICFES_TERMINO                                       128306   \n",
       "COLE_COD_ICFES                                              128306   \n",
       "COLE_COD_DANE_INSTITUCION                              2.05837e+11   \n",
       "COLE_NOMBRE_SEDE                    I.E. VEINTICUATRO DE DICIEMBRE   \n",
       "COLE_CALENDARIO                                                  A   \n",
       "COLE_GENERO                                                      X   \n",
       "COLE_NATURALEZA                                                  O   \n",
       "COLE_BILINGUE                                                  NaN   \n",
       "...                                                            ...   \n",
       "FAMI_PERSONAS_HOGAR                                              5   \n",
       "FAMI_CUARTOS_HOGAR                                             NaN   \n",
       "FAMI_PISOSHOGAR                                                  4   \n",
       "FAMI_TELEFONO_FIJO                                               0   \n",
       "FAMI_CELULAR                                                     1   \n",
       "FAMI_INTERNET                                                    0   \n",
       "FAMI_SERVICIO_TELEVISION                                         1   \n",
       "FAMI_COMPUTADOR                                                  3   \n",
       "FAMI_LAVADORA                                                    0   \n",
       "FAMI_NEVERA                                                      1   \n",
       "FAMI_HORNO                                                       0   \n",
       "FAMI_DVD                                                         1   \n",
       "FAMI_MICROONDAS                                                  0   \n",
       "FAMI_AUTOMOVIL                                                   0   \n",
       "FAMI_INGRESO_FMILIAR_MENSUAL                                     1   \n",
       "ESTU_TRABAJA                                                   NaN   \n",
       "ESTU_HORAS_TRABAJA                                             NaN   \n",
       "PUNT_LENGUAJE                                                   39   \n",
       "PUNT_MATEMATICAS                                                37   \n",
       "PUNT_C_SOCIALES                                                 33   \n",
       "PUNT_FILOSOFIA                                                  45   \n",
       "PUNT_BIOLOGIA                                                   30   \n",
       "PUNT_QUIMICA                                                    35   \n",
       "PUNT_FISICA                                                     46   \n",
       "PUNT_INGLES                                                     40   \n",
       "DESEMP_INGLES                                                   A-   \n",
       "NOMBRE_COMP_FLEXIBLE           PROFUNDIZACIÓN EN CIENCIAS SOCIALES   \n",
       "PUNT_COMP_FLEXIBLE                                               5   \n",
       "DESEMP_COMP_FLEXIBLE                                            GB   \n",
       "ESTU_PUESTO                                                    961   \n",
       "\n",
       "                                                            1  \\\n",
       "ESTU_CONSECUTIVO                           SABER1120121000002   \n",
       "PERIODO                                                 20121   \n",
       "ESTU_TIPO_DOCUMENTO                                         C   \n",
       "ESTU_PAIS_RESIDE                                           CO   \n",
       "ESTU_GENERO                                                 M   \n",
       "ESTU_NACIMIENTO_DIA                                         5   \n",
       "ESTU_NACIMIENTO_MES                                         7   \n",
       "ESTU_NACIMIENTO_ANNO                                     1970   \n",
       "ESTU_EDAD                                                  41   \n",
       "ESTU_LIMITA_BAJAVISION                                    NaN   \n",
       "ESTU_LIMITA_SORDOCEGUERA                                  NaN   \n",
       "ESTU_LIMITA_COGNITIVA                                     NaN   \n",
       "ESTU_LIMITA_INVIDENTE                                     NaN   \n",
       "ESTU_LIMITA_MOTRIZ                                        NaN   \n",
       "ESTU_LIMITA_SORDOINTERPRETE                               NaN   \n",
       "ESTU_LIMITA_SORDONOINTERPRETE                             NaN   \n",
       "ESTU_ETNIA                                                NaN   \n",
       "ESTU_COD_RESIDE_MCPIO                                    5837   \n",
       "ESTU_RESIDE_MCPIO                                       TURBO   \n",
       "ESTU_RESIDE_DEPTO                                   ANTIOQUIA   \n",
       "ESTU_ZONA_RESIDE                                           10   \n",
       "ESTU_AREA_RESIDE                                            1   \n",
       "IND_COD_ICFES_TERMINO                                  128306   \n",
       "COLE_COD_ICFES                                         128306   \n",
       "COLE_COD_DANE_INSTITUCION                         2.05837e+11   \n",
       "COLE_NOMBRE_SEDE               I.E. VEINTICUATRO DE DICIEMBRE   \n",
       "COLE_CALENDARIO                                             A   \n",
       "COLE_GENERO                                                 X   \n",
       "COLE_NATURALEZA                                             O   \n",
       "COLE_BILINGUE                                             NaN   \n",
       "...                                                       ...   \n",
       "FAMI_PERSONAS_HOGAR                                         4   \n",
       "FAMI_CUARTOS_HOGAR                                        NaN   \n",
       "FAMI_PISOSHOGAR                                             4   \n",
       "FAMI_TELEFONO_FIJO                                          1   \n",
       "FAMI_CELULAR                                                1   \n",
       "FAMI_INTERNET                                               1   \n",
       "FAMI_SERVICIO_TELEVISION                                    1   \n",
       "FAMI_COMPUTADOR                                             3   \n",
       "FAMI_LAVADORA                                               1   \n",
       "FAMI_NEVERA                                                 1   \n",
       "FAMI_HORNO                                                  1   \n",
       "FAMI_DVD                                                    1   \n",
       "FAMI_MICROONDAS                                             1   \n",
       "FAMI_AUTOMOVIL                                              1   \n",
       "FAMI_INGRESO_FMILIAR_MENSUAL                                2   \n",
       "ESTU_TRABAJA                                              NaN   \n",
       "ESTU_HORAS_TRABAJA                                        NaN   \n",
       "PUNT_LENGUAJE                                              31   \n",
       "PUNT_MATEMATICAS                                           37   \n",
       "PUNT_C_SOCIALES                                            28   \n",
       "PUNT_FILOSOFIA                                             29   \n",
       "PUNT_BIOLOGIA                                              29   \n",
       "PUNT_QUIMICA                                               41   \n",
       "PUNT_FISICA                                                32   \n",
       "PUNT_INGLES                                                37   \n",
       "DESEMP_INGLES                                              A-   \n",
       "NOMBRE_COMP_FLEXIBLE                     VIOLENCIA Y SOCIEDAD   \n",
       "PUNT_COMP_FLEXIBLE                                         40   \n",
       "DESEMP_COMP_FLEXIBLE                                      NaN   \n",
       "ESTU_PUESTO                                               989   \n",
       "\n",
       "                                                                 2  \n",
       "ESTU_CONSECUTIVO                                SABER1120121000003  \n",
       "PERIODO                                                      20121  \n",
       "ESTU_TIPO_DOCUMENTO                                              R  \n",
       "ESTU_PAIS_RESIDE                                                CO  \n",
       "ESTU_GENERO                                                      F  \n",
       "ESTU_NACIMIENTO_DIA                                              3  \n",
       "ESTU_NACIMIENTO_MES                                              1  \n",
       "ESTU_NACIMIENTO_ANNO                                          1994  \n",
       "ESTU_EDAD                                                       18  \n",
       "ESTU_LIMITA_BAJAVISION                                         NaN  \n",
       "ESTU_LIMITA_SORDOCEGUERA                                       NaN  \n",
       "ESTU_LIMITA_COGNITIVA                                          NaN  \n",
       "ESTU_LIMITA_INVIDENTE                                          NaN  \n",
       "ESTU_LIMITA_MOTRIZ                                             NaN  \n",
       "ESTU_LIMITA_SORDOINTERPRETE                                    NaN  \n",
       "ESTU_LIMITA_SORDONOINTERPRETE                                  NaN  \n",
       "ESTU_ETNIA                                                       1  \n",
       "ESTU_COD_RESIDE_MCPIO                                         5837  \n",
       "ESTU_RESIDE_MCPIO                                            TURBO  \n",
       "ESTU_RESIDE_DEPTO                                        ANTIOQUIA  \n",
       "ESTU_ZONA_RESIDE                                                10  \n",
       "ESTU_AREA_RESIDE                                                 1  \n",
       "IND_COD_ICFES_TERMINO                                       128306  \n",
       "COLE_COD_ICFES                                              128306  \n",
       "COLE_COD_DANE_INSTITUCION                              2.05837e+11  \n",
       "COLE_NOMBRE_SEDE                    I.E. VEINTICUATRO DE DICIEMBRE  \n",
       "COLE_CALENDARIO                                                  A  \n",
       "COLE_GENERO                                                      X  \n",
       "COLE_NATURALEZA                                                  O  \n",
       "COLE_BILINGUE                                                  NaN  \n",
       "...                                                            ...  \n",
       "FAMI_PERSONAS_HOGAR                                              7  \n",
       "FAMI_CUARTOS_HOGAR                                             NaN  \n",
       "FAMI_PISOSHOGAR                                                  2  \n",
       "FAMI_TELEFONO_FIJO                                               0  \n",
       "FAMI_CELULAR                                                     1  \n",
       "FAMI_INTERNET                                                    0  \n",
       "FAMI_SERVICIO_TELEVISION                                         0  \n",
       "FAMI_COMPUTADOR                                                  0  \n",
       "FAMI_LAVADORA                                                    1  \n",
       "FAMI_NEVERA                                                      1  \n",
       "FAMI_HORNO                                                       0  \n",
       "FAMI_DVD                                                         1  \n",
       "FAMI_MICROONDAS                                                  0  \n",
       "FAMI_AUTOMOVIL                                                   0  \n",
       "FAMI_INGRESO_FMILIAR_MENSUAL                                     1  \n",
       "ESTU_TRABAJA                                                   NaN  \n",
       "ESTU_HORAS_TRABAJA                                             NaN  \n",
       "PUNT_LENGUAJE                                                   46  \n",
       "PUNT_MATEMATICAS                                                34  \n",
       "PUNT_C_SOCIALES                                                 40  \n",
       "PUNT_FILOSOFIA                                                  43  \n",
       "PUNT_BIOLOGIA                                                   46  \n",
       "PUNT_QUIMICA                                                    33  \n",
       "PUNT_FISICA                                                     25  \n",
       "PUNT_INGLES                                                     33  \n",
       "DESEMP_INGLES                                                   A-  \n",
       "NOMBRE_COMP_FLEXIBLE           PROFUNDIZACIÓN EN CIENCIAS SOCIALES  \n",
       "PUNT_COMP_FLEXIBLE                                               5  \n",
       "DESEMP_COMP_FLEXIBLE                                             I  \n",
       "ESTU_PUESTO                                                    905  \n",
       "\n",
       "[114 rows x 3 columns]"
      ]
     },
     "execution_count": 4,
     "metadata": {},
     "output_type": "execute_result"
    }
   ],
   "source": [
    "data_2012.head(3).T"
   ]
  },
  {
   "cell_type": "code",
   "execution_count": 5,
   "metadata": {
    "collapsed": true
   },
   "outputs": [],
   "source": [
    "data_2012 = data_2012.drop(['ESTU_CONSECUTIVO', 'PERIODO', 'ESTU_TIPO_DOCUMENTO', 'ESTU_COD_RESIDE_MCPIO',\n",
    "                           'ESTU_IES_COD_MPIO_DESEADA', 'ESTU_IES_DESEADA_NOMBRE', 'ESTU_COD_MCPIO_PRESENTACION',\n",
    "                           'ESTU_EXAM_NOMBREEXAMEN', 'COLE_NOMBRE_SEDE'], axis=1)"
   ]
  },
  {
   "cell_type": "code",
   "execution_count": 6,
   "metadata": {
    "collapsed": false,
    "scrolled": true
   },
   "outputs": [
    {
     "name": "stdout",
     "output_type": "stream",
     "text": [
      "Index(['AR', 'AW', 'BO', 'BR', 'CL', 'CO', 'CR', 'CU', 'DE', 'DO', 'EC', 'ES',\n",
      "       'FR', 'GT', 'IL', 'IN', 'IR', 'JP', 'KR', 'MX', 'PE', 'SE', 'US', 'VA',\n",
      "       'VE'],\n",
      "      dtype='object')\n",
      "AR        2\n",
      "AW        1\n",
      "BO        7\n",
      "BR        7\n",
      "CL        3\n",
      "CO    95755\n",
      "CR        2\n",
      "CU        3\n",
      "DE        2\n",
      "DO        1\n",
      "EC       18\n",
      "ES        5\n",
      "FR        3\n",
      "GT        2\n",
      "IL        1\n",
      "IN        1\n",
      "IR        1\n",
      "JP        1\n",
      "KR        2\n",
      "MX        4\n",
      "PE        7\n",
      "SE        2\n",
      "US        7\n",
      "VA        1\n",
      "VE       49\n",
      "Name: ESTU_PAIS_RESIDE, dtype: int64\n",
      "Elementos null/NaN 59\n",
      "__________________\n",
      "Elementos diferentes de null/NaN: 95887\n",
      "__________________\n",
      "(95887,)\n",
      "None\n"
     ]
    }
   ],
   "source": [
    "c = 'ESTU_PAIS_RESIDE'\n",
    "print(data_2012[c].value_counts().sort_index().index)\n",
    "print(data_2012[c].value_counts().sort_index())\n",
    "print(missing_data(data_2012[c]))"
   ]
  },
  {
   "cell_type": "code",
   "execution_count": 7,
   "metadata": {
    "collapsed": false
   },
   "outputs": [
    {
     "name": "stdout",
     "output_type": "stream",
     "text": [
      "cant null antes: 59\n",
      "cant null despues: 0\n"
     ]
    }
   ],
   "source": [
    "Do_resamples(data_2012, c, str)"
   ]
  },
  {
   "cell_type": "code",
   "execution_count": 8,
   "metadata": {
    "collapsed": false
   },
   "outputs": [
    {
     "name": "stdout",
     "output_type": "stream",
     "text": [
      "Index(['F', 'M'], dtype='object')\n",
      "F    48503\n",
      "M    46852\n",
      "Name: ESTU_GENERO, dtype: int64\n",
      "Elementos null/NaN 591\n",
      "__________________\n",
      "Elementos diferentes de null/NaN: 95355\n",
      "__________________\n",
      "(95355,)\n",
      "None\n"
     ]
    }
   ],
   "source": [
    "c = 'ESTU_GENERO'\n",
    "print(data_2012[c].value_counts().sort_index().index)\n",
    "print(data_2012[c].value_counts().sort_index())\n",
    "print(missing_data(data_2012[c]))"
   ]
  },
  {
   "cell_type": "code",
   "execution_count": 9,
   "metadata": {
    "collapsed": false
   },
   "outputs": [
    {
     "name": "stdout",
     "output_type": "stream",
     "text": [
      "cant null antes: 591\n",
      "cant null despues: 0\n"
     ]
    }
   ],
   "source": [
    "Do_resamples(data_2012, c, str)"
   ]
  },
  {
   "cell_type": "code",
   "execution_count": 10,
   "metadata": {
    "collapsed": false,
    "scrolled": true
   },
   "outputs": [
    {
     "name": "stdout",
     "output_type": "stream",
     "text": [
      "Float64Index([ 1.0,  2.0,  3.0,  4.0,  5.0,  6.0,  7.0,  8.0,  9.0, 10.0, 11.0,\n",
      "              12.0, 13.0, 14.0, 15.0, 16.0, 17.0, 18.0, 19.0, 20.0, 21.0, 22.0,\n",
      "              23.0, 24.0, 25.0, 26.0, 27.0, 28.0, 29.0, 30.0, 31.0],\n",
      "             dtype='float64')\n",
      "1     3201\n",
      "2     3163\n",
      "3     3163\n",
      "4     3208\n",
      "5     3223\n",
      "6     3184\n",
      "7     3067\n",
      "8     3122\n",
      "9     3155\n",
      "10    3176\n",
      "11    3097\n",
      "12    3252\n",
      "13    3096\n",
      "14    3094\n",
      "15    3225\n",
      "16    3179\n",
      "17    3118\n",
      "18    3133\n",
      "19    3087\n",
      "20    3219\n",
      "21    3119\n",
      "22    3031\n",
      "23    3048\n",
      "24    3205\n",
      "25    3082\n",
      "26    3050\n",
      "27    3174\n",
      "28    3176\n",
      "29    2796\n",
      "30    2831\n",
      "31    1666\n",
      "Name: ESTU_NACIMIENTO_DIA, dtype: int64\n",
      "Elementos null/NaN 606\n",
      "__________________\n",
      "Elementos diferentes de null/NaN: 95340\n",
      "__________________\n",
      "(95340,)\n",
      "None\n"
     ]
    }
   ],
   "source": [
    "c = 'ESTU_NACIMIENTO_DIA'\n",
    "print(data_2012[c].value_counts().sort_index().index)\n",
    "print(data_2012[c].value_counts().sort_index())\n",
    "print(missing_data(data_2012[c]))"
   ]
  },
  {
   "cell_type": "code",
   "execution_count": 11,
   "metadata": {
    "collapsed": false
   },
   "outputs": [
    {
     "name": "stdout",
     "output_type": "stream",
     "text": [
      "Float64Index([1.0, 2.0, 3.0, 4.0, 5.0, 6.0, 7.0, 8.0, 9.0, 10.0, 11.0, 12.0], dtype='float64')\n",
      "1     7881\n",
      "2     7053\n",
      "3     8090\n",
      "4     7590\n",
      "5     7923\n",
      "6     7725\n",
      "7     7969\n",
      "8     8000\n",
      "9     8469\n",
      "10    8264\n",
      "11    7788\n",
      "12    8588\n",
      "Name: ESTU_NACIMIENTO_MES, dtype: int64\n",
      "Elementos null/NaN 606\n",
      "__________________\n",
      "Elementos diferentes de null/NaN: 95340\n",
      "__________________\n",
      "(95340,)\n",
      "None\n"
     ]
    }
   ],
   "source": [
    "c = 'ESTU_NACIMIENTO_MES'\n",
    "print(data_2012[c].value_counts().sort_index().index)\n",
    "print(data_2012[c].value_counts().sort_index())\n",
    "print(missing_data(data_2012[c]))"
   ]
  },
  {
   "cell_type": "code",
   "execution_count": 12,
   "metadata": {
    "collapsed": false,
    "scrolled": true
   },
   "outputs": [
    {
     "name": "stdout",
     "output_type": "stream",
     "text": [
      "Float64Index([1924.0, 1933.0, 1935.0, 1936.0, 1939.0, 1941.0, 1942.0, 1943.0,\n",
      "              1944.0, 1945.0, 1946.0, 1947.0, 1948.0, 1949.0, 1950.0, 1951.0,\n",
      "              1952.0, 1953.0, 1954.0, 1955.0, 1956.0, 1957.0, 1958.0, 1959.0,\n",
      "              1960.0, 1961.0, 1962.0, 1963.0, 1964.0, 1965.0, 1966.0, 1967.0,\n",
      "              1968.0, 1969.0, 1970.0, 1971.0, 1972.0, 1973.0, 1974.0, 1975.0,\n",
      "              1976.0, 1977.0, 1978.0, 1979.0, 1980.0, 1981.0, 1982.0, 1983.0,\n",
      "              1984.0, 1985.0, 1986.0, 1987.0, 1988.0, 1989.0, 1990.0, 1991.0,\n",
      "              1992.0, 1993.0, 1994.0, 1995.0, 1996.0, 1997.0, 1998.0, 1999.0,\n",
      "              2000.0, 2002.0, 2003.0, 2004.0, 2005.0, 2011.0],\n",
      "             dtype='float64')\n",
      "1924        1\n",
      "1933        1\n",
      "1935        1\n",
      "1936        1\n",
      "1939        1\n",
      "1941        1\n",
      "1942        1\n",
      "1943        2\n",
      "1944        5\n",
      "1945        9\n",
      "1946        3\n",
      "1947       10\n",
      "1948       12\n",
      "1949       13\n",
      "1950       18\n",
      "1951       10\n",
      "1952       26\n",
      "1953       21\n",
      "1954       37\n",
      "1955       41\n",
      "1956       61\n",
      "1957       59\n",
      "1958       81\n",
      "1959       84\n",
      "1960       92\n",
      "1961       90\n",
      "1962      134\n",
      "1963      156\n",
      "1964      170\n",
      "1965      175\n",
      "        ...  \n",
      "1976      464\n",
      "1977      547\n",
      "1978      588\n",
      "1979      734\n",
      "1980      789\n",
      "1981      840\n",
      "1982      968\n",
      "1983     1032\n",
      "1984     1186\n",
      "1985     1393\n",
      "1986     1533\n",
      "1987     1793\n",
      "1988     2301\n",
      "1989     2921\n",
      "1990     3826\n",
      "1991     5394\n",
      "1992     8301\n",
      "1993    13931\n",
      "1994    22866\n",
      "1995    15924\n",
      "1996     2550\n",
      "1997      165\n",
      "1998       50\n",
      "1999       12\n",
      "2000        2\n",
      "2002      905\n",
      "2003       15\n",
      "2004        5\n",
      "2005        7\n",
      "2011        1\n",
      "Name: ESTU_NACIMIENTO_ANNO, dtype: int64\n",
      "Elementos null/NaN 606\n",
      "__________________\n",
      "Elementos diferentes de null/NaN: 95340\n",
      "__________________\n",
      "(95340,)\n",
      "None\n"
     ]
    }
   ],
   "source": [
    "c = 'ESTU_NACIMIENTO_ANNO'\n",
    "print(data_2012[c].value_counts().sort_index().index)\n",
    "print(data_2012[c].value_counts().sort_index())\n",
    "print(missing_data(data_2012[c]))"
   ]
  },
  {
   "cell_type": "code",
   "execution_count": 13,
   "metadata": {
    "collapsed": true
   },
   "outputs": [],
   "source": [
    "for i in data_2012[c].value_counts().sort_index().index:\n",
    "    if i < 1974:\n",
    "        data_2012[c] = data_2012[c].replace(i, np.nan)\n",
    "    elif i > 2003:\n",
    "        data_2012[c] = data_2012[c].replace(i, np.nan)\n",
    "        \n",
    "anno = data_2012[data_2012[c].isnull()].index\n",
    "data_2012 = data_2012.drop(anno)"
   ]
  },
  {
   "cell_type": "code",
   "execution_count": 14,
   "metadata": {
    "collapsed": false,
    "scrolled": true
   },
   "outputs": [
    {
     "name": "stdout",
     "output_type": "stream",
     "text": [
      "Int64Index([ 9, 10, 11, 12, 13, 14, 15, 16, 17, 18, 19, 20, 21, 22, 23, 24, 25,\n",
      "            26, 27, 28, 29, 30, 31, 32, 33, 34, 35, 36, 37, 38, 40, 41, 42, 46,\n",
      "            57, 58, 78],\n",
      "           dtype='int64')\n",
      "9       878\n",
      "10       91\n",
      "11        2\n",
      "12       15\n",
      "13       47\n",
      "14      126\n",
      "15     1813\n",
      "16    13896\n",
      "17    23276\n",
      "18    14978\n",
      "19     8718\n",
      "20     5720\n",
      "21     3975\n",
      "22     3001\n",
      "23     2377\n",
      "24     1849\n",
      "25     1535\n",
      "26     1406\n",
      "27     1222\n",
      "28     1053\n",
      "29      984\n",
      "30      856\n",
      "31      776\n",
      "32      741\n",
      "33      613\n",
      "34      550\n",
      "35      476\n",
      "36      416\n",
      "37      388\n",
      "38       56\n",
      "40        2\n",
      "41        1\n",
      "42        1\n",
      "46        3\n",
      "57        1\n",
      "58        1\n",
      "78        1\n",
      "Name: ESTU_EDAD, dtype: int64\n",
      "Elementos null/NaN 0\n",
      "__________________\n",
      "Elementos diferentes de null/NaN: 91844\n",
      "__________________\n",
      "(91844,)\n",
      "None\n"
     ]
    }
   ],
   "source": [
    "c = 'ESTU_EDAD'\n",
    "print(data_2012[c].value_counts().sort_index().index)\n",
    "print(data_2012[c].value_counts().sort_index())\n",
    "print(missing_data(data_2012[c]))"
   ]
  },
  {
   "cell_type": "code",
   "execution_count": 15,
   "metadata": {
    "collapsed": false
   },
   "outputs": [
    {
     "name": "stdout",
     "output_type": "stream",
     "text": [
      "Float64Index([], dtype='float64')\n",
      "Series([], Name: ESTU_LIMITA_BAJAVISION, dtype: int64)\n",
      "Elementos null/NaN 91844\n",
      "__________________\n",
      "Elementos diferentes de null/NaN: 0\n",
      "__________________\n",
      "(0,)\n",
      "None\n"
     ]
    }
   ],
   "source": [
    "c = 'ESTU_LIMITA_BAJAVISION'\n",
    "print(data_2012[c].value_counts().sort_index().index)\n",
    "print(data_2012[c].value_counts().sort_index())\n",
    "print(missing_data(data_2012[c]))"
   ]
  },
  {
   "cell_type": "code",
   "execution_count": 16,
   "metadata": {
    "collapsed": true
   },
   "outputs": [],
   "source": [
    "data_2012 = data_2012.drop([c], axis=1)"
   ]
  },
  {
   "cell_type": "code",
   "execution_count": 17,
   "metadata": {
    "collapsed": false
   },
   "outputs": [
    {
     "name": "stdout",
     "output_type": "stream",
     "text": [
      "Index(['C'], dtype='object')\n",
      "C    4\n",
      "Name: ESTU_LIMITA_SORDOCEGUERA, dtype: int64\n",
      "Elementos null/NaN 91840\n",
      "__________________\n",
      "Elementos diferentes de null/NaN: 4\n",
      "__________________\n",
      "(4,)\n",
      "None\n"
     ]
    }
   ],
   "source": [
    "c = 'ESTU_LIMITA_SORDOCEGUERA'\n",
    "print(data_2012[c].value_counts().sort_index().index)\n",
    "print(data_2012[c].value_counts().sort_index())\n",
    "print(missing_data(data_2012[c]))"
   ]
  },
  {
   "cell_type": "code",
   "execution_count": 18,
   "metadata": {
    "collapsed": true
   },
   "outputs": [],
   "source": [
    "data_2012 = data_2012.drop([c], axis=1)"
   ]
  },
  {
   "cell_type": "code",
   "execution_count": 19,
   "metadata": {
    "collapsed": false
   },
   "outputs": [
    {
     "name": "stdout",
     "output_type": "stream",
     "text": [
      "Index(['G'], dtype='object')\n",
      "G    36\n",
      "Name: ESTU_LIMITA_COGNITIVA, dtype: int64\n",
      "Elementos null/NaN 91808\n",
      "__________________\n",
      "Elementos diferentes de null/NaN: 36\n",
      "__________________\n",
      "(36,)\n",
      "None\n"
     ]
    }
   ],
   "source": [
    "c = 'ESTU_LIMITA_COGNITIVA'\n",
    "print(data_2012[c].value_counts().sort_index().index)\n",
    "print(data_2012[c].value_counts().sort_index())\n",
    "print(missing_data(data_2012[c]))"
   ]
  },
  {
   "cell_type": "code",
   "execution_count": 20,
   "metadata": {
    "collapsed": true
   },
   "outputs": [],
   "source": [
    "data_2012 = data_2012.drop([c], axis=1)"
   ]
  },
  {
   "cell_type": "code",
   "execution_count": 21,
   "metadata": {
    "collapsed": false
   },
   "outputs": [
    {
     "name": "stdout",
     "output_type": "stream",
     "text": [
      "Index(['I'], dtype='object')\n",
      "I    25\n",
      "Name: ESTU_LIMITA_INVIDENTE, dtype: int64\n",
      "Elementos null/NaN 91819\n",
      "__________________\n",
      "Elementos diferentes de null/NaN: 25\n",
      "__________________\n",
      "(25,)\n",
      "None\n"
     ]
    }
   ],
   "source": [
    "c = 'ESTU_LIMITA_INVIDENTE'\n",
    "print(data_2012[c].value_counts().sort_index().index)\n",
    "print(data_2012[c].value_counts().sort_index())\n",
    "print(missing_data(data_2012[c]))"
   ]
  },
  {
   "cell_type": "code",
   "execution_count": 22,
   "metadata": {
    "collapsed": true
   },
   "outputs": [],
   "source": [
    "data_2012 = data_2012.drop([c], axis=1)"
   ]
  },
  {
   "cell_type": "code",
   "execution_count": 23,
   "metadata": {
    "collapsed": false
   },
   "outputs": [
    {
     "name": "stdout",
     "output_type": "stream",
     "text": [
      "Index(['M'], dtype='object')\n",
      "M    119\n",
      "Name: ESTU_LIMITA_MOTRIZ, dtype: int64\n",
      "Elementos null/NaN 91725\n",
      "__________________\n",
      "Elementos diferentes de null/NaN: 119\n",
      "__________________\n",
      "(119,)\n",
      "None\n"
     ]
    }
   ],
   "source": [
    "c = 'ESTU_LIMITA_MOTRIZ'\n",
    "print(data_2012[c].value_counts().sort_index().index)\n",
    "print(data_2012[c].value_counts().sort_index())\n",
    "print(missing_data(data_2012[c]))"
   ]
  },
  {
   "cell_type": "code",
   "execution_count": 24,
   "metadata": {
    "collapsed": true
   },
   "outputs": [],
   "source": [
    "data_2012 = data_2012.drop([c], axis=1)"
   ]
  },
  {
   "cell_type": "code",
   "execution_count": 25,
   "metadata": {
    "collapsed": false
   },
   "outputs": [
    {
     "name": "stdout",
     "output_type": "stream",
     "text": [
      "Index(['R'], dtype='object')\n",
      "R    13\n",
      "Name: ESTU_LIMITA_SORDOINTERPRETE, dtype: int64\n",
      "Elementos null/NaN 91831\n",
      "__________________\n",
      "Elementos diferentes de null/NaN: 13\n",
      "__________________\n",
      "(13,)\n",
      "None\n"
     ]
    }
   ],
   "source": [
    "c = 'ESTU_LIMITA_SORDOINTERPRETE'\n",
    "print(data_2012[c].value_counts().sort_index().index)\n",
    "print(data_2012[c].value_counts().sort_index())\n",
    "print(missing_data(data_2012[c]))"
   ]
  },
  {
   "cell_type": "code",
   "execution_count": 26,
   "metadata": {
    "collapsed": true
   },
   "outputs": [],
   "source": [
    "data_2012 = data_2012.drop([c], axis=1)"
   ]
  },
  {
   "cell_type": "code",
   "execution_count": 27,
   "metadata": {
    "collapsed": false
   },
   "outputs": [
    {
     "name": "stdout",
     "output_type": "stream",
     "text": [
      "Index(['S'], dtype='object')\n",
      "S    25\n",
      "Name: ESTU_LIMITA_SORDONOINTERPRETE, dtype: int64\n",
      "Elementos null/NaN 91819\n",
      "__________________\n",
      "Elementos diferentes de null/NaN: 25\n",
      "__________________\n",
      "(25,)\n",
      "None\n"
     ]
    }
   ],
   "source": [
    "c = 'ESTU_LIMITA_SORDONOINTERPRETE'\n",
    "print(data_2012[c].value_counts().sort_index().index)\n",
    "print(data_2012[c].value_counts().sort_index())\n",
    "print(missing_data(data_2012[c]))"
   ]
  },
  {
   "cell_type": "code",
   "execution_count": 28,
   "metadata": {
    "collapsed": true
   },
   "outputs": [],
   "source": [
    "data_2012 = data_2012.drop([c], axis=1)"
   ]
  },
  {
   "cell_type": "code",
   "execution_count": 29,
   "metadata": {
    "collapsed": false,
    "scrolled": true
   },
   "outputs": [
    {
     "name": "stdout",
     "output_type": "stream",
     "text": [
      "Float64Index([ 1.0,  2.0,  3.0,  4.0,  5.0,  6.0,  7.0,  8.0,  9.0, 10.0, 11.0,\n",
      "              12.0, 13.0, 14.0, 15.0, 16.0, 17.0, 99.0],\n",
      "             dtype='float64')\n",
      "1     2129\n",
      "2        2\n",
      "3      200\n",
      "4       31\n",
      "5       28\n",
      "6       92\n",
      "7       43\n",
      "8       81\n",
      "9      168\n",
      "10     125\n",
      "11     540\n",
      "12       5\n",
      "13      46\n",
      "14      10\n",
      "15       8\n",
      "16      12\n",
      "17      35\n",
      "99    1369\n",
      "Name: ESTU_ETNIA, dtype: int64\n",
      "Elementos null/NaN 86920\n",
      "__________________\n",
      "Elementos diferentes de null/NaN: 4924\n",
      "__________________\n",
      "(4924,)\n",
      "None\n"
     ]
    }
   ],
   "source": [
    "c = 'ESTU_ETNIA'\n",
    "print(data_2012[c].value_counts().sort_index().index)\n",
    "print(data_2012[c].value_counts().sort_index())\n",
    "print(missing_data(data_2012[c]))"
   ]
  },
  {
   "cell_type": "code",
   "execution_count": 30,
   "metadata": {
    "collapsed": true
   },
   "outputs": [],
   "source": [
    "data_2012[c].fillna(99, inplace=True)"
   ]
  },
  {
   "cell_type": "code",
   "execution_count": 31,
   "metadata": {
    "collapsed": false,
    "scrolled": true
   },
   "outputs": [
    {
     "name": "stdout",
     "output_type": "stream",
     "text": [
      "Index(['ABEJORRAL', 'ABREGO', 'ACACIAS', 'ACEVEDO', 'ACHI', 'AGRADO',\n",
      "       'AGUA DE DIOS', 'AGUACHICA', 'AGUADA', 'AGUADAS',\n",
      "       ...\n",
      "       'YOPAL', 'YOTOCO', 'YUMBO', 'ZAPATOCA', 'ZARAGOZA', 'ZARZAL',\n",
      "       'ZETAQUIRA', 'ZIPACON', 'ZIPAQUIRA', 'ZONA BANANERA'],\n",
      "      dtype='object', length=945)\n",
      "ABEJORRAL                      3\n",
      "ABREGO                        11\n",
      "ACACIAS                      106\n",
      "ACEVEDO                       61\n",
      "ACHI                           1\n",
      "AGRADO                        15\n",
      "AGUA DE DIOS                  16\n",
      "AGUACHICA                    172\n",
      "AGUADA                         2\n",
      "AGUADAS                        7\n",
      "AGUAZUL                       82\n",
      "AGUSTIN CODAZZI               46\n",
      "AIPE                          38\n",
      "ALBAN                          2\n",
      "ALBAN (SAN JOSE)              30\n",
      "ALBANIA                       70\n",
      "ALCALA                        14\n",
      "ALDANA                        19\n",
      "ALEJANDRIA                    31\n",
      "ALGARROBO                      4\n",
      "ALGECIRAS                     56\n",
      "ALMAGUER                       5\n",
      "ALMEIDA                        1\n",
      "ALPUJARRA                      8\n",
      "ALTAMIRA                       8\n",
      "ALTO BAUDO (PIE DE PATO)       2\n",
      "ALVARADO                      21\n",
      "AMAGA                          6\n",
      "AMALFI                         2\n",
      "AMBALEMA                       1\n",
      "                            ... \n",
      "VILLAGARZON                   44\n",
      "VILLAHERMOSA                   7\n",
      "VILLAMARIA                   128\n",
      "VILLANUEVA                    66\n",
      "VILLAPINZON                   13\n",
      "VILLARRICA                     3\n",
      "VILLAVICENCIO               1463\n",
      "VILLAVIEJA                     2\n",
      "VILLETA                       49\n",
      "VIOTA                          2\n",
      "VIRACACHA                      2\n",
      "VISTA HERMOSA                 16\n",
      "VITERBO                        9\n",
      "YACOPI                         2\n",
      "YACUANQUER                    28\n",
      "YAGUARA                       24\n",
      "YALI                           5\n",
      "YARUMAL                        8\n",
      "YOLOMBO                       14\n",
      "YONDO (CASABE)                17\n",
      "YOPAL                        403\n",
      "YOTOCO                        10\n",
      "YUMBO                        305\n",
      "ZAPATOCA                       8\n",
      "ZARAGOZA                       3\n",
      "ZARZAL                       108\n",
      "ZETAQUIRA                      5\n",
      "ZIPACON                        3\n",
      "ZIPAQUIRA                    175\n",
      "ZONA BANANERA                  3\n",
      "Name: ESTU_RESIDE_MCPIO, dtype: int64\n",
      "Elementos null/NaN 1\n",
      "__________________\n",
      "Elementos diferentes de null/NaN: 91843\n",
      "__________________\n",
      "(91843,)\n",
      "None\n"
     ]
    }
   ],
   "source": [
    "c = 'ESTU_RESIDE_MCPIO'\n",
    "print(data_2012[c].value_counts().sort_index().index)\n",
    "print(data_2012[c].value_counts().sort_index())\n",
    "print(missing_data(data_2012[c]))"
   ]
  },
  {
   "cell_type": "code",
   "execution_count": 32,
   "metadata": {
    "collapsed": true
   },
   "outputs": [],
   "source": [
    "mcpio = data_2012[data_2012[c].isnull()].index\n",
    "data_2012 = data_2012.drop(mcpio)"
   ]
  },
  {
   "cell_type": "code",
   "execution_count": 33,
   "metadata": {
    "collapsed": false,
    "scrolled": true
   },
   "outputs": [
    {
     "name": "stdout",
     "output_type": "stream",
     "text": [
      "Index(['AMAZONAS', 'ANTIOQUIA', 'ARAUCA', 'ATLÁNTICO', 'BOGOTÁ', 'BOLÍVAR',\n",
      "       'BOYACÁ', 'CALDAS', 'CAQUETÁ', 'CASANARE', 'CAUCA', 'CESAR', 'CHOCÓ',\n",
      "       'CUNDINAMARCA', 'CÓRDOBA', 'GUAINÍA', 'GUAVIARE', 'HUILA', 'LA GUAJIRA',\n",
      "       'MAGDALENA', 'META', 'NARIÑO', 'NORTE SANTANDER', 'PUTUMAYO', 'QUINDÍO',\n",
      "       'RISARALDA', 'SAN ANDRÉS', 'SANTANDER', 'SUCRE', 'TOLIMA', 'VALLE',\n",
      "       'VAUPÉS', 'VICHADA'],\n",
      "      dtype='object')\n",
      "AMAZONAS              20\n",
      "ANTIOQUIA           7061\n",
      "ARAUCA               314\n",
      "ATLÁNTICO           1885\n",
      "BOGOTÁ             16926\n",
      "BOLÍVAR             1446\n",
      "BOYACÁ              4623\n",
      "CALDAS              2414\n",
      "CAQUETÁ              549\n",
      "CASANARE             664\n",
      "CAUCA               2819\n",
      "CESAR               1040\n",
      "CHOCÓ                484\n",
      "CUNDINAMARCA        3258\n",
      "CÓRDOBA              923\n",
      "GUAINÍA               45\n",
      "GUAVIARE              70\n",
      "HUILA               4201\n",
      "LA GUAJIRA           643\n",
      "MAGDALENA            618\n",
      "META                1815\n",
      "NARIÑO              6205\n",
      "NORTE SANTANDER     1542\n",
      "PUTUMAYO             680\n",
      "QUINDÍO             1095\n",
      "RISARALDA           1655\n",
      "SAN ANDRÉS            64\n",
      "SANTANDER           6427\n",
      "SUCRE                442\n",
      "TOLIMA              2837\n",
      "VALLE              19027\n",
      "VAUPÉS                23\n",
      "VICHADA               28\n",
      "Name: ESTU_RESIDE_DEPTO, dtype: int64\n",
      "Elementos null/NaN 0\n",
      "__________________\n",
      "Elementos diferentes de null/NaN: 91843\n",
      "__________________\n",
      "(91843,)\n",
      "None\n"
     ]
    }
   ],
   "source": [
    "c = 'ESTU_RESIDE_DEPTO'\n",
    "print(data_2012[c].value_counts().sort_index().index)\n",
    "print(data_2012[c].value_counts().sort_index())\n",
    "print(missing_data(data_2012[c]))"
   ]
  },
  {
   "cell_type": "code",
   "execution_count": 34,
   "metadata": {
    "collapsed": false
   },
   "outputs": [
    {
     "name": "stdout",
     "output_type": "stream",
     "text": [
      "Float64Index([1.0, 2.0, 3.0, 4.0, 5.0, 6.0, 7.0, 8.0, 9.0, 10.0], dtype='float64')\n",
      "1      8506\n",
      "2      2008\n",
      "3      2508\n",
      "4     10912\n",
      "5      3766\n",
      "6      3033\n",
      "7      2562\n",
      "8      3787\n",
      "9      2524\n",
      "10    52236\n",
      "Name: ESTU_ZONA_RESIDE, dtype: int64\n",
      "Elementos null/NaN 1\n",
      "__________________\n",
      "Elementos diferentes de null/NaN: 91842\n",
      "__________________\n",
      "(91842,)\n",
      "None\n"
     ]
    }
   ],
   "source": [
    "c = 'ESTU_ZONA_RESIDE'\n",
    "print(data_2012[c].value_counts().sort_index().index)\n",
    "print(data_2012[c].value_counts().sort_index())\n",
    "print(missing_data(data_2012[c]))"
   ]
  },
  {
   "cell_type": "code",
   "execution_count": 35,
   "metadata": {
    "collapsed": true
   },
   "outputs": [],
   "source": [
    "idx = data_2012[data_2012[c].isnull()].index\n",
    "data_2012 = data_2012.drop(idx)"
   ]
  },
  {
   "cell_type": "code",
   "execution_count": 36,
   "metadata": {
    "collapsed": false
   },
   "outputs": [
    {
     "name": "stdout",
     "output_type": "stream",
     "text": [
      "Float64Index([1.0, 2.0], dtype='float64')\n",
      "1    77614\n",
      "2    14194\n",
      "Name: ESTU_AREA_RESIDE, dtype: int64\n",
      "Elementos null/NaN 34\n",
      "__________________\n",
      "Elementos diferentes de null/NaN: 91808\n",
      "__________________\n",
      "(91808,)\n",
      "None\n"
     ]
    }
   ],
   "source": [
    "c = 'ESTU_AREA_RESIDE'\n",
    "print(data_2012[c].value_counts().sort_index().index)\n",
    "print(data_2012[c].value_counts().sort_index())\n",
    "print(missing_data(data_2012[c]))"
   ]
  },
  {
   "cell_type": "code",
   "execution_count": 37,
   "metadata": {
    "collapsed": false
   },
   "outputs": [
    {
     "name": "stdout",
     "output_type": "stream",
     "text": [
      "cant null antes: 34\n",
      "cant null despues: 0\n"
     ]
    }
   ],
   "source": [
    "Do_resamples(data_2012, c, float)"
   ]
  },
  {
   "cell_type": "code",
   "execution_count": null,
   "metadata": {
    "collapsed": true
   },
   "outputs": [],
   "source": []
  },
  {
   "cell_type": "code",
   "execution_count": null,
   "metadata": {
    "collapsed": true
   },
   "outputs": [],
   "source": []
  },
  {
   "cell_type": "code",
   "execution_count": null,
   "metadata": {
    "collapsed": true
   },
   "outputs": [],
   "source": []
  },
  {
   "cell_type": "code",
   "execution_count": null,
   "metadata": {
    "collapsed": true
   },
   "outputs": [],
   "source": []
  },
  {
   "cell_type": "code",
   "execution_count": null,
   "metadata": {
    "collapsed": true
   },
   "outputs": [],
   "source": []
  },
  {
   "cell_type": "code",
   "execution_count": null,
   "metadata": {
    "collapsed": true
   },
   "outputs": [],
   "source": []
  },
  {
   "cell_type": "code",
   "execution_count": 38,
   "metadata": {
    "collapsed": false,
    "scrolled": true
   },
   "outputs": [
    {
     "name": "stdout",
     "output_type": "stream",
     "text": [
      "Float64Index([     0.0,      1.0,      2.0,      3.0,     26.0,     31.0,\n",
      "                  34.0,     45.0,     59.0,     67.0,\n",
      "              ...\n",
      "              602920.0, 605246.0, 615161.0, 620963.0, 628305.0, 632968.0,\n",
      "              638296.0, 638668.0, 642439.0, 999999.0],\n",
      "             dtype='float64', length=9971)\n",
      "0           38\n",
      "1            1\n",
      "2          441\n",
      "3         4419\n",
      "26           1\n",
      "31           1\n",
      "34           1\n",
      "45           1\n",
      "59           1\n",
      "67           3\n",
      "75           1\n",
      "77           1\n",
      "90           1\n",
      "125          2\n",
      "133          1\n",
      "182         86\n",
      "208          1\n",
      "224          1\n",
      "226          2\n",
      "232          1\n",
      "240         40\n",
      "257          4\n",
      "265         58\n",
      "272          1\n",
      "277          1\n",
      "282          1\n",
      "294          1\n",
      "296          1\n",
      "299          1\n",
      "327          1\n",
      "          ... \n",
      "249946       1\n",
      "254508       1\n",
      "259218       1\n",
      "265025       2\n",
      "265512       1\n",
      "266080       1\n",
      "267674       1\n",
      "267781       1\n",
      "267989       1\n",
      "269522       1\n",
      "270736       1\n",
      "273029       1\n",
      "280024       2\n",
      "314153       1\n",
      "314492       1\n",
      "441196       1\n",
      "455030       1\n",
      "465187       1\n",
      "596783       1\n",
      "601039       1\n",
      "602920       1\n",
      "605246       1\n",
      "615161       1\n",
      "620963       1\n",
      "628305       1\n",
      "632968       1\n",
      "638296       1\n",
      "638668       1\n",
      "642439       1\n",
      "999999    1686\n",
      "Name: IND_COD_ICFES_TERMINO, dtype: int64\n",
      "Elementos null/NaN 2659\n",
      "__________________\n",
      "Elementos diferentes de null/NaN: 89183\n",
      "__________________\n",
      "(89183,)\n",
      "None\n"
     ]
    }
   ],
   "source": [
    "c = 'IND_COD_ICFES_TERMINO'\n",
    "print(data_2012[c].value_counts().sort_index().index)\n",
    "print(data_2012[c].value_counts().sort_index())\n",
    "print(missing_data(data_2012[c]))"
   ]
  },
  {
   "cell_type": "code",
   "execution_count": 39,
   "metadata": {
    "collapsed": false
   },
   "outputs": [
    {
     "name": "stdout",
     "output_type": "stream",
     "text": [
      "cant null antes: 2659\n",
      "cant null despues: 0\n"
     ]
    }
   ],
   "source": [
    "Do_resamples(data_2012, c, float)"
   ]
  },
  {
   "cell_type": "code",
   "execution_count": 40,
   "metadata": {
    "collapsed": false,
    "scrolled": true
   },
   "outputs": [
    {
     "name": "stdout",
     "output_type": "stream",
     "text": [
      "Float64Index([     2.0,      3.0,     59.0,     67.0,     75.0,    125.0,\n",
      "                 182.0,    232.0,    240.0,    257.0,\n",
      "              ...\n",
      "              164442.0, 164467.0, 164475.0, 164483.0, 164541.0, 164558.0,\n",
      "              164574.0, 164590.0, 164707.0, 999999.0],\n",
      "             dtype='float64', length=9258)\n",
      "2          518\n",
      "3         4270\n",
      "59           2\n",
      "67           2\n",
      "75           1\n",
      "125          2\n",
      "182         86\n",
      "232          2\n",
      "240         43\n",
      "257          4\n",
      "265         64\n",
      "372          1\n",
      "380          2\n",
      "406          1\n",
      "422          1\n",
      "455          1\n",
      "463          1\n",
      "521          1\n",
      "638        245\n",
      "687          3\n",
      "711          1\n",
      "760          1\n",
      "786         11\n",
      "794          1\n",
      "810          5\n",
      "844          1\n",
      "851          3\n",
      "919          1\n",
      "935          4\n",
      "943          2\n",
      "          ... \n",
      "164079      13\n",
      "164087      20\n",
      "164103       6\n",
      "164129      29\n",
      "164145      14\n",
      "164152       4\n",
      "164160      16\n",
      "164202       9\n",
      "164210       2\n",
      "164269      11\n",
      "164277       5\n",
      "164293       4\n",
      "164301      17\n",
      "164327       1\n",
      "164343       1\n",
      "164350       2\n",
      "164376       2\n",
      "164384      13\n",
      "164426       2\n",
      "164434       1\n",
      "164442       3\n",
      "164467      11\n",
      "164475       3\n",
      "164483       2\n",
      "164541       4\n",
      "164558       1\n",
      "164574       7\n",
      "164590       1\n",
      "164707       1\n",
      "999999    2055\n",
      "Name: COLE_COD_ICFES, dtype: int64\n",
      "Elementos null/NaN 5\n",
      "__________________\n",
      "Elementos diferentes de null/NaN: 91837\n",
      "__________________\n",
      "(91837,)\n",
      "None\n"
     ]
    }
   ],
   "source": [
    "c = 'COLE_COD_ICFES'\n",
    "print(data_2012[c].value_counts().sort_index().index)\n",
    "print(data_2012[c].value_counts().sort_index())\n",
    "print(missing_data(data_2012[c]))"
   ]
  },
  {
   "cell_type": "code",
   "execution_count": 41,
   "metadata": {
    "collapsed": true
   },
   "outputs": [],
   "source": [
    "for i in data_2012[c].value_counts().sort_index().index:\n",
    "    if len(str(i)) < 4:\n",
    "        data_2012[c] = data_2012[c].replace(i, np.nan)\n",
    "        \n",
    "data_2012[c].fillna(method='bfill', inplace=True)\n",
    "data_2012[c].fillna(method='ffill', inplace=True)"
   ]
  },
  {
   "cell_type": "code",
   "execution_count": 42,
   "metadata": {
    "collapsed": false,
    "scrolled": true
   },
   "outputs": [
    {
     "name": "stdout",
     "output_type": "stream",
     "text": [
      "Float64Index([           0.0,    900086079.0,  15232300063.0,  16340100097.0,\n",
      "               16354800229.0,  22524500284.0,  27021501099.0,  31100192201.0,\n",
      "               31100192996.0,  31383800202.0,\n",
      "              ...\n",
      "              818001100011.0, 818001100022.0, 818001100027.0, 818001100035.0,\n",
      "              818001100040.0, 820536000005.0, 841006000001.0, 847001000005.0,\n",
      "              847001000027.0, 847001000035.0],\n",
      "             dtype='float64', length=6871)\n",
      "0.000000e+00    206\n",
      "9.000861e+08     12\n",
      "1.523230e+10     19\n",
      "1.634010e+10      9\n",
      "1.635480e+10      3\n",
      "2.252450e+10      2\n",
      "2.702150e+10      1\n",
      "3.110019e+10     74\n",
      "3.110019e+10      1\n",
      "3.138380e+10      1\n",
      "3.528351e+10      5\n",
      "5.110010e+10      3\n",
      "5.111012e+10      2\n",
      "1.050010e+11      2\n",
      "1.050010e+11      2\n",
      "1.050010e+11      1\n",
      "1.050010e+11     12\n",
      "1.050010e+11      2\n",
      "1.050010e+11      3\n",
      "1.050010e+11      3\n",
      "1.050010e+11      4\n",
      "1.050010e+11      7\n",
      "1.050010e+11      2\n",
      "1.050010e+11      3\n",
      "1.050010e+11      1\n",
      "1.050010e+11      1\n",
      "1.050010e+11      5\n",
      "1.050010e+11      5\n",
      "1.050010e+11     20\n",
      "1.050010e+11      1\n",
      "               ... \n",
      "6.251810e+11     17\n",
      "6.252140e+11     28\n",
      "6.252690e+11      5\n",
      "6.252690e+11      3\n",
      "6.252690e+11     51\n",
      "6.252690e+11     19\n",
      "6.252690e+11     53\n",
      "6.252690e+11     16\n",
      "6.252860e+11     67\n",
      "6.252860e+11      1\n",
      "6.254380e+11     15\n",
      "6.254730e+11      5\n",
      "6.257450e+11      6\n",
      "6.257990e+11      1\n",
      "6.257990e+11      5\n",
      "6.258860e+11     14\n",
      "6.258990e+11     10\n",
      "6.258990e+11     30\n",
      "8.105360e+11      2\n",
      "8.134300e+11      1\n",
      "8.180011e+11      1\n",
      "8.180011e+11     20\n",
      "8.180011e+11      3\n",
      "8.180011e+11     10\n",
      "8.180011e+11     27\n",
      "8.205360e+11      4\n",
      "8.410060e+11     17\n",
      "8.470010e+11      2\n",
      "8.470010e+11      4\n",
      "8.470010e+11      1\n",
      "Name: COLE_COD_DANE_INSTITUCION, dtype: int64\n",
      "Elementos null/NaN 9600\n",
      "__________________\n",
      "Elementos diferentes de null/NaN: 82242\n",
      "__________________\n",
      "(82242,)\n",
      "None\n"
     ]
    }
   ],
   "source": [
    "c = 'COLE_COD_DANE_INSTITUCION'\n",
    "print(data_2012[c].value_counts().sort_index().index)\n",
    "print(data_2012[c].value_counts().sort_index())\n",
    "print(missing_data(data_2012[c]))"
   ]
  },
  {
   "cell_type": "code",
   "execution_count": 43,
   "metadata": {
    "collapsed": true
   },
   "outputs": [],
   "source": [
    "data_2012[c].fillna(method='bfill', inplace=True)\n",
    "data_2012[c].fillna(method='ffill', inplace=True)"
   ]
  },
  {
   "cell_type": "code",
   "execution_count": 44,
   "metadata": {
    "collapsed": false
   },
   "outputs": [
    {
     "name": "stdout",
     "output_type": "stream",
     "text": [
      "Index(['A', 'B', 'F'], dtype='object')\n",
      "A    41002\n",
      "B    14980\n",
      "F    33800\n",
      "Name: COLE_CALENDARIO, dtype: int64\n",
      "Elementos null/NaN 2060\n",
      "__________________\n",
      "Elementos diferentes de null/NaN: 89782\n",
      "__________________\n",
      "(89782,)\n",
      "None\n"
     ]
    }
   ],
   "source": [
    "c = 'COLE_CALENDARIO'\n",
    "print(data_2012[c].value_counts().sort_index().index)\n",
    "print(data_2012[c].value_counts().sort_index())\n",
    "print(missing_data(data_2012[c]))"
   ]
  },
  {
   "cell_type": "code",
   "execution_count": 45,
   "metadata": {
    "collapsed": false
   },
   "outputs": [
    {
     "name": "stdout",
     "output_type": "stream",
     "text": [
      "cant null antes: 2060\n",
      "cant null despues: 0\n"
     ]
    }
   ],
   "source": [
    "Do_resamples(data_2012, c, str)"
   ]
  },
  {
   "cell_type": "code",
   "execution_count": 46,
   "metadata": {
    "collapsed": false
   },
   "outputs": [
    {
     "name": "stdout",
     "output_type": "stream",
     "text": [
      "Index(['F', 'M', 'X'], dtype='object')\n",
      "F     4716\n",
      "M     1622\n",
      "X    78655\n",
      "Name: COLE_GENERO, dtype: int64\n",
      "Elementos null/NaN 6849\n",
      "__________________\n",
      "Elementos diferentes de null/NaN: 84993\n",
      "__________________\n",
      "(84993,)\n",
      "None\n"
     ]
    }
   ],
   "source": [
    "c = 'COLE_GENERO'\n",
    "print(data_2012[c].value_counts().sort_index().index)\n",
    "print(data_2012[c].value_counts().sort_index())\n",
    "print(missing_data(data_2012[c]))"
   ]
  },
  {
   "cell_type": "code",
   "execution_count": 47,
   "metadata": {
    "collapsed": false
   },
   "outputs": [
    {
     "name": "stdout",
     "output_type": "stream",
     "text": [
      "cant null antes: 6849\n",
      "cant null despues: 0\n"
     ]
    }
   ],
   "source": [
    "Do_resamples(data_2012, c, str)"
   ]
  },
  {
   "cell_type": "code",
   "execution_count": 48,
   "metadata": {
    "collapsed": false
   },
   "outputs": [
    {
     "name": "stdout",
     "output_type": "stream",
     "text": [
      "Index(['N', 'O'], dtype='object')\n",
      "N    49743\n",
      "O    35248\n",
      "Name: COLE_NATURALEZA, dtype: int64\n",
      "Elementos null/NaN 6851\n",
      "__________________\n",
      "Elementos diferentes de null/NaN: 84991\n",
      "__________________\n",
      "(84991,)\n",
      "None\n"
     ]
    }
   ],
   "source": [
    "c = 'COLE_NATURALEZA'\n",
    "print(data_2012[c].value_counts().sort_index().index)\n",
    "print(data_2012[c].value_counts().sort_index())\n",
    "print(missing_data(data_2012[c]))"
   ]
  },
  {
   "cell_type": "code",
   "execution_count": 49,
   "metadata": {
    "collapsed": false
   },
   "outputs": [
    {
     "name": "stdout",
     "output_type": "stream",
     "text": [
      "cant null antes: 6851\n",
      "cant null despues: 0\n"
     ]
    }
   ],
   "source": [
    "Do_resamples(data_2012, c, str)"
   ]
  },
  {
   "cell_type": "code",
   "execution_count": 50,
   "metadata": {
    "collapsed": false
   },
   "outputs": [
    {
     "name": "stdout",
     "output_type": "stream",
     "text": [
      "Float64Index([0.0, 1.0], dtype='float64')\n",
      "0    69596\n",
      "1     4539\n",
      "Name: COLE_BILINGUE, dtype: int64\n",
      "Elementos null/NaN 17707\n",
      "__________________\n",
      "Elementos diferentes de null/NaN: 74135\n",
      "__________________\n",
      "(74135,)\n",
      "None\n"
     ]
    }
   ],
   "source": [
    "c = 'COLE_BILINGUE'\n",
    "print(data_2012[c].value_counts().sort_index().index)\n",
    "print(data_2012[c].value_counts().sort_index())\n",
    "print(missing_data(data_2012[c]))"
   ]
  },
  {
   "cell_type": "code",
   "execution_count": 51,
   "metadata": {
    "collapsed": false
   },
   "outputs": [
    {
     "name": "stdout",
     "output_type": "stream",
     "text": [
      "cant null antes: 17707\n",
      "cant null despues: 0\n"
     ]
    }
   ],
   "source": [
    "Do_resamples(data_2012, c, float)"
   ]
  },
  {
   "cell_type": "code",
   "execution_count": 52,
   "metadata": {
    "collapsed": false
   },
   "outputs": [
    {
     "name": "stdout",
     "output_type": "stream",
     "text": [
      "Index(['COMPLETA U ORDINARIA', 'MAÑANA', 'NOCHE', 'SABATINA - DOMINICAL',\n",
      "       'TARDE', 'UNICA'],\n",
      "      dtype='object')\n",
      "COMPLETA U ORDINARIA    20259\n",
      "MAÑANA                  37020\n",
      "NOCHE                   10571\n",
      "SABATINA - DOMINICAL    11118\n",
      "TARDE                    8078\n",
      "UNICA                       3\n",
      "Name: COLE_JORNADA, dtype: int64\n",
      "Elementos null/NaN 4793\n",
      "__________________\n",
      "Elementos diferentes de null/NaN: 87049\n",
      "__________________\n",
      "(87049,)\n",
      "None\n"
     ]
    }
   ],
   "source": [
    "c = 'COLE_JORNADA'\n",
    "print(data_2012[c].value_counts().sort_index().index)\n",
    "print(data_2012[c].value_counts().sort_index())\n",
    "print(missing_data(data_2012[c]))"
   ]
  },
  {
   "cell_type": "code",
   "execution_count": 53,
   "metadata": {
    "collapsed": false
   },
   "outputs": [
    {
     "name": "stdout",
     "output_type": "stream",
     "text": [
      "cant null antes: 4793\n",
      "cant null despues: 0\n"
     ]
    }
   ],
   "source": [
    "Do_resamples(data_2012, c, str)"
   ]
  },
  {
   "cell_type": "code",
   "execution_count": 54,
   "metadata": {
    "collapsed": false
   },
   "outputs": [
    {
     "name": "stdout",
     "output_type": "stream",
     "text": [
      "Index(['ACADEMICO', 'ACADEMICO Y TECNICO', 'DESCONOCIDO', 'NORMALISTA',\n",
      "       'TECNICO'],\n",
      "      dtype='object')\n",
      "ACADEMICO              58505\n",
      "ACADEMICO Y TECNICO    12573\n",
      "DESCONOCIDO               47\n",
      "NORMALISTA              1456\n",
      "TECNICO                12390\n",
      "Name: COLE_CARACTER, dtype: int64\n",
      "Elementos null/NaN 6871\n",
      "__________________\n",
      "Elementos diferentes de null/NaN: 84971\n",
      "__________________\n",
      "(84971,)\n",
      "None\n"
     ]
    }
   ],
   "source": [
    "c = 'COLE_CARACTER'\n",
    "print(data_2012[c].value_counts().sort_index().index)\n",
    "print(data_2012[c].value_counts().sort_index())\n",
    "print(missing_data(data_2012[c]))"
   ]
  },
  {
   "cell_type": "code",
   "execution_count": 55,
   "metadata": {
    "collapsed": false
   },
   "outputs": [
    {
     "name": "stdout",
     "output_type": "stream",
     "text": [
      "cant null antes: 6871\n",
      "cant null despues: 0\n"
     ]
    }
   ],
   "source": [
    "Do_resamples(data_2012, c, str)"
   ]
  },
  {
   "cell_type": "code",
   "execution_count": 56,
   "metadata": {
    "collapsed": false
   },
   "outputs": [
    {
     "name": "stdout",
     "output_type": "stream",
     "text": [
      "Float64Index([0.0, 1.0, 2.0, 3.0, 4.0, 5.0, 6.0, 7.0, 8.0, 9.0, 10.0, 11.0,\n",
      "              12.0],\n",
      "             dtype='float64')\n",
      "0     17015\n",
      "1       186\n",
      "2        79\n",
      "3        46\n",
      "4        28\n",
      "5        21\n",
      "6        12\n",
      "7        10\n",
      "8     12928\n",
      "9      3870\n",
      "10     2258\n",
      "11     4116\n",
      "12     8908\n",
      "Name: COLE_VALOR_PENSION, dtype: int64\n",
      "Elementos null/NaN 42365\n",
      "__________________\n",
      "Elementos diferentes de null/NaN: 49477\n",
      "__________________\n",
      "(49477,)\n",
      "None\n"
     ]
    }
   ],
   "source": [
    "c = 'COLE_VALOR_PENSION'\n",
    "print(data_2012[c].value_counts().sort_index().index)\n",
    "print(data_2012[c].value_counts().sort_index())\n",
    "print(missing_data(data_2012[c]))"
   ]
  },
  {
   "cell_type": "code",
   "execution_count": 57,
   "metadata": {
    "collapsed": false
   },
   "outputs": [
    {
     "name": "stdout",
     "output_type": "stream",
     "text": [
      "cant null antes: 42365\n",
      "cant null despues: 0\n"
     ]
    }
   ],
   "source": [
    "Do_resamples(data_2012, c, float)"
   ]
  },
  {
   "cell_type": "code",
   "execution_count": 58,
   "metadata": {
    "collapsed": false
   },
   "outputs": [
    {
     "name": "stdout",
     "output_type": "stream",
     "text": [
      "Float64Index([0.0, 1.0, 2.0, 3.0, 4.0], dtype='float64')\n",
      "0    48794\n",
      "1    27011\n",
      "2     8102\n",
      "3     5359\n",
      "4     2243\n",
      "Name: ESTU_VECES_ESTADO, dtype: int64\n",
      "Elementos null/NaN 333\n",
      "__________________\n",
      "Elementos diferentes de null/NaN: 91509\n",
      "__________________\n",
      "(91509,)\n",
      "None\n"
     ]
    }
   ],
   "source": [
    "c = 'ESTU_VECES_ESTADO'\n",
    "print(data_2012[c].value_counts().sort_index().index)\n",
    "print(data_2012[c].value_counts().sort_index())\n",
    "print(missing_data(data_2012[c]))"
   ]
  },
  {
   "cell_type": "code",
   "execution_count": 59,
   "metadata": {
    "collapsed": false
   },
   "outputs": [
    {
     "name": "stdout",
     "output_type": "stream",
     "text": [
      "cant null antes: 333\n",
      "cant null despues: 0\n"
     ]
    }
   ],
   "source": [
    "Do_resamples(data_2012, c, float)"
   ]
  },
  {
   "cell_type": "code",
   "execution_count": 60,
   "metadata": {
    "collapsed": false
   },
   "outputs": [
    {
     "name": "stdout",
     "output_type": "stream",
     "text": [
      "Float64Index([0.0, 1.0, 2.0, 3.0], dtype='float64')\n",
      "0     228\n",
      "1     344\n",
      "2     233\n",
      "3    2369\n",
      "Name: ESTU_CARRDESEADA_TIPO, dtype: int64\n",
      "Elementos null/NaN 88668\n",
      "__________________\n",
      "Elementos diferentes de null/NaN: 3174\n",
      "__________________\n",
      "(3174,)\n",
      "None\n"
     ]
    }
   ],
   "source": [
    "c = 'ESTU_CARRDESEADA_TIPO'\n",
    "print(data_2012[c].value_counts().sort_index().index)\n",
    "print(data_2012[c].value_counts().sort_index())\n",
    "print(missing_data(data_2012[c]))"
   ]
  },
  {
   "cell_type": "code",
   "execution_count": 61,
   "metadata": {
    "collapsed": false
   },
   "outputs": [
    {
     "name": "stdout",
     "output_type": "stream",
     "text": [
      "cant null antes: 88668\n",
      "cant null despues: 0\n"
     ]
    }
   ],
   "source": [
    "Do_resamples(data_2012, c, float)"
   ]
  },
  {
   "cell_type": "code",
   "execution_count": 62,
   "metadata": {
    "collapsed": false,
    "scrolled": true
   },
   "outputs": [
    {
     "name": "stdout",
     "output_type": "stream",
     "text": [
      "Float64Index([ 1101.0,  1102.0,  1103.0,  1104.0,  1105.0,  1106.0,  1107.0,\n",
      "               1108.0,  1109.0,  1110.0,\n",
      "              ...\n",
      "               9114.0,  9117.0,  9120.0,  9122.0,  9124.0,  9125.0,  9129.0,\n",
      "               9903.0, 21386.0, 81281.0],\n",
      "             dtype='float64', length=269)\n",
      "1101     515\n",
      "1102      27\n",
      "1103      28\n",
      "1104      18\n",
      "1105      21\n",
      "1106     118\n",
      "1107       9\n",
      "1108      91\n",
      "1109       2\n",
      "1110     158\n",
      "1111      66\n",
      "1112     119\n",
      "1113      12\n",
      "1114     224\n",
      "1115      11\n",
      "1117      26\n",
      "1119      36\n",
      "1120      10\n",
      "1121       8\n",
      "1122       2\n",
      "1123       5\n",
      "1124       3\n",
      "1201     158\n",
      "1202      11\n",
      "1203     864\n",
      "1204     258\n",
      "1205      23\n",
      "1206     297\n",
      "1207     108\n",
      "1208      48\n",
      "        ... \n",
      "4817       1\n",
      "4822       9\n",
      "4823       1\n",
      "4825       1\n",
      "4828       2\n",
      "4829       1\n",
      "4832       3\n",
      "4835       3\n",
      "4838       1\n",
      "5802       2\n",
      "9101       3\n",
      "9102       3\n",
      "9103      35\n",
      "9104      12\n",
      "9105       8\n",
      "9107       2\n",
      "9109       2\n",
      "9110     240\n",
      "9111       6\n",
      "9112       1\n",
      "9114       2\n",
      "9117       2\n",
      "9120       1\n",
      "9122       1\n",
      "9124       5\n",
      "9125       6\n",
      "9129       1\n",
      "9903       2\n",
      "21386      1\n",
      "81281      1\n",
      "Name: ESTU_IES_COD_DESEADA, dtype: int64\n",
      "Elementos null/NaN 85912\n",
      "__________________\n",
      "Elementos diferentes de null/NaN: 5930\n",
      "__________________\n",
      "(5930,)\n",
      "None\n"
     ]
    }
   ],
   "source": [
    "c = 'ESTU_IES_COD_DESEADA'\n",
    "print(data_2012[c].value_counts().sort_index().index)\n",
    "print(data_2012[c].value_counts().sort_index())\n",
    "print(missing_data(data_2012[c]))"
   ]
  },
  {
   "cell_type": "code",
   "execution_count": 63,
   "metadata": {
    "collapsed": false
   },
   "outputs": [
    {
     "name": "stdout",
     "output_type": "stream",
     "text": [
      "cant null antes: 85912\n",
      "cant null despues: 51\n",
      "cant null antes: 51\n",
      "cant null despues: 0\n"
     ]
    }
   ],
   "source": [
    "Do_resamples(data_2012, c, float)"
   ]
  },
  {
   "cell_type": "code",
   "execution_count": 64,
   "metadata": {
    "collapsed": false,
    "scrolled": true
   },
   "outputs": [
    {
     "name": "stdout",
     "output_type": "stream",
     "text": [
      "Index(['ANTIOQUIA', 'ARAUCA', 'ATLÁNTICO', 'BOGOTÁ', 'BOLÍVAR', 'BOYACÁ',\n",
      "       'CALDAS', 'CAQUETÁ', 'CASANARE', 'CAUCA', 'CESAR', 'CUNDINAMARCA',\n",
      "       'CÓRDOBA', 'HUILA', 'LA GUAJIRA', 'MAGDALENA', 'META', 'NARIÑO',\n",
      "       'NORTE SANTANDER', 'PUTUMAYO', 'QUINDÍO', 'RISARALDA', 'SAN ANDRÉS',\n",
      "       'SANTANDER', 'SUCRE', 'TOLIMA', 'VALLE'],\n",
      "      dtype='object')\n",
      "ANTIOQUIA           434\n",
      "ARAUCA                3\n",
      "ATLÁNTICO            97\n",
      "BOGOTÁ             1964\n",
      "BOLÍVAR              42\n",
      "BOYACÁ              241\n",
      "CALDAS              168\n",
      "CAQUETÁ              11\n",
      "CASANARE              4\n",
      "CAUCA               166\n",
      "CESAR                15\n",
      "CUNDINAMARCA         91\n",
      "CÓRDOBA              12\n",
      "HUILA               231\n",
      "LA GUAJIRA            1\n",
      "MAGDALENA            30\n",
      "META                 46\n",
      "NARIÑO              317\n",
      "NORTE SANTANDER      60\n",
      "PUTUMAYO              3\n",
      "QUINDÍO              51\n",
      "RISARALDA            78\n",
      "SAN ANDRÉS            1\n",
      "SANTANDER           395\n",
      "SUCRE                 8\n",
      "TOLIMA              127\n",
      "VALLE              1334\n",
      "Name: ESTU_IES_DEPT_DESEADA, dtype: int64\n",
      "Elementos null/NaN 85912\n",
      "__________________\n",
      "Elementos diferentes de null/NaN: 5930\n",
      "__________________\n",
      "(5930,)\n",
      "None\n"
     ]
    }
   ],
   "source": [
    "c = 'ESTU_IES_DEPT_DESEADA'\n",
    "print(data_2012[c].value_counts().sort_index().index)\n",
    "print(data_2012[c].value_counts().sort_index())\n",
    "print(missing_data(data_2012[c]))"
   ]
  },
  {
   "cell_type": "code",
   "execution_count": 65,
   "metadata": {
    "collapsed": true
   },
   "outputs": [],
   "source": [
    "data_2012[c].fillna(method='bfill', inplace=True)\n",
    "data_2012[c].fillna(method='ffill', inplace=True)"
   ]
  },
  {
   "cell_type": "code",
   "execution_count": 66,
   "metadata": {
    "collapsed": false,
    "scrolled": true
   },
   "outputs": [
    {
     "name": "stdout",
     "output_type": "stream",
     "text": [
      "Index(['AGUACHICA', 'ARAUCA', 'ARMENIA', 'BARRANCABERMEJA', 'BARRANQUILLA',\n",
      "       'BELLO', 'BOGOTÁ D.C.', 'BUCARAMANGA', 'BUENAVENTURA', 'CALDAS', 'CALI',\n",
      "       'CARTAGENA', 'CARTAGO', 'CHIA', 'CHIQUINQUIRA', 'CUCUTA', 'DUITAMA',\n",
      "       'ENVIGADO', 'ESPINAL', 'FACATATIVA', 'FLORENCIA', 'FUSAGASUGA',\n",
      "       'GIRARDOT', 'IBAGUE', 'MADRID', 'MANIZALES', 'MARINILLA', 'MEDELLIN',\n",
      "       'MOCOA', 'MONTERIA', 'NEIVA', 'NILO', 'OCAÑA', 'PALMIRA', 'PAMPLONA',\n",
      "       'PASTO', 'PENSILVANIA', 'PEREIRA', 'POPAYAN', 'QUETAME', 'RIOHACHA',\n",
      "       'RIONEGRO', 'ROLDANILLO', 'SABANETA', 'SAN ANDRES', 'SAN GIL',\n",
      "       'SANTA MARTA', 'SANTAFÉ DE ANTIOQUIA', 'SINCELEJO', 'SOCORRO',\n",
      "       'SOGAMOSO', 'TULUA', 'TUNJA', 'TURBO', 'UBATE', 'VALLEDUPAR',\n",
      "       'VILLAVICENCIO', 'YOPAL'],\n",
      "      dtype='object')\n",
      "AGUACHICA                  5\n",
      "ARAUCA                     3\n",
      "ARMENIA                   51\n",
      "BARRANCABERMEJA            5\n",
      "BARRANQUILLA              97\n",
      "BELLO                     16\n",
      "BOGOTÁ D.C.             1964\n",
      "BUCARAMANGA              371\n",
      "BUENAVENTURA               2\n",
      "CALDAS                     1\n",
      "CALI                    1285\n",
      "CARTAGENA                 42\n",
      "CARTAGO                    1\n",
      "CHIA                      57\n",
      "CHIQUINQUIRA               2\n",
      "CUCUTA                    38\n",
      "DUITAMA                    9\n",
      "ENVIGADO                   4\n",
      "ESPINAL                    9\n",
      "FACATATIVA                 2\n",
      "FLORENCIA                 11\n",
      "FUSAGASUGA                15\n",
      "GIRARDOT                   6\n",
      "IBAGUE                   118\n",
      "MADRID                     4\n",
      "MANIZALES                167\n",
      "MARINILLA                  5\n",
      "MEDELLIN                 382\n",
      "MOCOA                      3\n",
      "MONTERIA                  12\n",
      "NEIVA                    231\n",
      "NILO                       3\n",
      "OCAÑA                      1\n",
      "PALMIRA                   26\n",
      "PAMPLONA                  21\n",
      "PASTO                    317\n",
      "PENSILVANIA                1\n",
      "PEREIRA                   78\n",
      "POPAYAN                  166\n",
      "QUETAME                    1\n",
      "RIOHACHA                   1\n",
      "RIONEGRO                  18\n",
      "ROLDANILLO                 1\n",
      "SABANETA                   1\n",
      "SAN ANDRES                 1\n",
      "SAN GIL                   15\n",
      "SANTA MARTA               30\n",
      "SANTAFÉ DE ANTIOQUIA       6\n",
      "SINCELEJO                  8\n",
      "SOCORRO                    4\n",
      "SOGAMOSO                  91\n",
      "TULUA                     19\n",
      "TUNJA                    139\n",
      "TURBO                      1\n",
      "UBATE                      3\n",
      "VALLEDUPAR                10\n",
      "VILLAVICENCIO             46\n",
      "YOPAL                      4\n",
      "Name: ESTU_IES_MPIO_DESEADA, dtype: int64\n",
      "Elementos null/NaN 85912\n",
      "__________________\n",
      "Elementos diferentes de null/NaN: 5930\n",
      "__________________\n",
      "(5930,)\n",
      "None\n"
     ]
    }
   ],
   "source": [
    "c = 'ESTU_IES_MPIO_DESEADA'\n",
    "print(data_2012[c].value_counts().sort_index().index)\n",
    "print(data_2012[c].value_counts().sort_index())\n",
    "print(missing_data(data_2012[c]))"
   ]
  },
  {
   "cell_type": "code",
   "execution_count": 67,
   "metadata": {
    "collapsed": true
   },
   "outputs": [],
   "source": [
    "data_2012[c].fillna(method='bfill', inplace=True)\n",
    "data_2012[c].fillna(method='ffill', inplace=True)"
   ]
  },
  {
   "cell_type": "code",
   "execution_count": 68,
   "metadata": {
    "collapsed": false,
    "scrolled": true
   },
   "outputs": [
    {
     "name": "stdout",
     "output_type": "stream",
     "text": [
      "Float64Index([ 0.0,  1.0,  2.0,  3.0,  4.0,  5.0,  6.0,  7.0,  8.0,  9.0, 10.0,\n",
      "              11.0, 12.0, 13.0, 14.0, 15.0, 16.0, 17.0, 18.0, 19.0, 20.0, 21.0,\n",
      "              22.0, 23.0, 24.0, 25.0, 26.0, 27.0, 28.0, 29.0, 30.0, 31.0, 32.0,\n",
      "              33.0, 34.0, 35.0, 36.0, 37.0, 38.0, 39.0, 40.0, 41.0, 42.0, 43.0,\n",
      "              44.0, 45.0, 46.0, 47.0, 48.0, 49.0, 50.0, 51.0, 52.0, 53.0, 54.0,\n",
      "              55.0, 56.0, 57.0, 58.0, 60.0, 61.0, 62.0, 63.0, 65.0, 69.0, 70.0,\n",
      "              71.0, 72.0, 73.0, 74.0, 78.0, 80.0, 81.0, 84.0, 85.0, 86.0, 87.0,\n",
      "              90.0, 93.0, 94.0, 99.0],\n",
      "             dtype='float64')\n",
      "0       3\n",
      "1      12\n",
      "2      21\n",
      "3      38\n",
      "4      28\n",
      "5      45\n",
      "6      30\n",
      "7      28\n",
      "8      41\n",
      "9      25\n",
      "10     40\n",
      "11     52\n",
      "12     48\n",
      "13     59\n",
      "14     56\n",
      "15     98\n",
      "16     76\n",
      "17     71\n",
      "18     63\n",
      "19     53\n",
      "20    185\n",
      "21     73\n",
      "22    101\n",
      "23     91\n",
      "24     90\n",
      "25    208\n",
      "26     65\n",
      "27     55\n",
      "28     62\n",
      "29     82\n",
      "     ... \n",
      "51      1\n",
      "52      6\n",
      "53      3\n",
      "54      7\n",
      "55      8\n",
      "56      5\n",
      "57      4\n",
      "58      7\n",
      "60     17\n",
      "61      2\n",
      "62      6\n",
      "63      4\n",
      "65      1\n",
      "69      1\n",
      "70      6\n",
      "71      9\n",
      "72      1\n",
      "73      1\n",
      "74      6\n",
      "78      2\n",
      "80      7\n",
      "81      3\n",
      "84      2\n",
      "85      4\n",
      "86      2\n",
      "87      5\n",
      "90      2\n",
      "93      1\n",
      "94      3\n",
      "99      3\n",
      "Name: ESTU_TOTAL_ALUMNOS_CURSO, dtype: int64\n",
      "Elementos null/NaN 88613\n",
      "__________________\n",
      "Elementos diferentes de null/NaN: 3229\n",
      "__________________\n",
      "(3229,)\n",
      "None\n"
     ]
    }
   ],
   "source": [
    "c = 'ESTU_TOTAL_ALUMNOS_CURSO'\n",
    "print(data_2012[c].value_counts().sort_index().index)\n",
    "print(data_2012[c].value_counts().sort_index())\n",
    "print(missing_data(data_2012[c]))"
   ]
  },
  {
   "cell_type": "code",
   "execution_count": 69,
   "metadata": {
    "collapsed": false
   },
   "outputs": [
    {
     "name": "stdout",
     "output_type": "stream",
     "text": [
      "cant null antes: 88613\n",
      "cant null despues: 6\n",
      "cant null antes: 6\n",
      "cant null despues: 0\n"
     ]
    }
   ],
   "source": [
    "Do_resamples(data_2012, c, float)"
   ]
  },
  {
   "cell_type": "code",
   "execution_count": 70,
   "metadata": {
    "collapsed": false,
    "scrolled": true
   },
   "outputs": [
    {
     "name": "stdout",
     "output_type": "stream",
     "text": [
      "Float64Index([1985.0, 1986.0, 1987.0, 1988.0, 1989.0, 1990.0, 1991.0, 1992.0,\n",
      "              1993.0, 1994.0, 1995.0, 1996.0, 1997.0, 1998.0, 1999.0, 2000.0,\n",
      "              2001.0, 2002.0],\n",
      "             dtype='float64')\n",
      "1985      82\n",
      "1986       9\n",
      "1987      21\n",
      "1988      13\n",
      "1989      16\n",
      "1990      36\n",
      "1991      29\n",
      "1992      28\n",
      "1993      26\n",
      "1994      42\n",
      "1995      47\n",
      "1996      86\n",
      "1997     131\n",
      "1998     183\n",
      "1999     348\n",
      "2000     707\n",
      "2001    1121\n",
      "2002     304\n",
      "Name: ESTU_ANO_MATRICULA_PRIMERO, dtype: int64\n",
      "Elementos null/NaN 88613\n",
      "__________________\n",
      "Elementos diferentes de null/NaN: 3229\n",
      "__________________\n",
      "(3229,)\n",
      "None\n"
     ]
    }
   ],
   "source": [
    "c = 'ESTU_ANO_MATRICULA_PRIMERO'\n",
    "print(data_2012[c].value_counts().sort_index().index)\n",
    "print(data_2012[c].value_counts().sort_index())\n",
    "print(missing_data(data_2012[c]))"
   ]
  },
  {
   "cell_type": "code",
   "execution_count": 71,
   "metadata": {
    "collapsed": false
   },
   "outputs": [
    {
     "name": "stdout",
     "output_type": "stream",
     "text": [
      "cant null antes: 88613\n",
      "cant null despues: 0\n"
     ]
    }
   ],
   "source": [
    "Do_resamples(data_2012, c, float)"
   ]
  },
  {
   "cell_type": "code",
   "execution_count": 212,
   "metadata": {
    "collapsed": false,
    "scrolled": true
   },
   "outputs": [
    {
     "ename": "NameError",
     "evalue": "name 'data_2012' is not defined",
     "output_type": "error",
     "traceback": [
      "\u001b[1;31m---------------------------------------------------------------------------\u001b[0m",
      "\u001b[1;31mNameError\u001b[0m                                 Traceback (most recent call last)",
      "\u001b[1;32m/home/Foreroo/Proyecto/New_Project/tools/label_encoder.py\u001b[0m in \u001b[0;36m<module>\u001b[1;34m()\u001b[0m\n\u001b[0;32m      1\u001b[0m \u001b[0mc\u001b[0m \u001b[1;33m=\u001b[0m \u001b[1;34m'ESTU_ANO_TERMINO_QUINTO'\u001b[0m\u001b[1;33m\u001b[0m\u001b[0m\n\u001b[1;32m----> 2\u001b[1;33m \u001b[0mprint\u001b[0m\u001b[1;33m(\u001b[0m\u001b[0mdata_2012\u001b[0m\u001b[1;33m[\u001b[0m\u001b[0mc\u001b[0m\u001b[1;33m]\u001b[0m\u001b[1;33m.\u001b[0m\u001b[0mvalue_counts\u001b[0m\u001b[1;33m(\u001b[0m\u001b[1;33m)\u001b[0m\u001b[1;33m.\u001b[0m\u001b[0msort_index\u001b[0m\u001b[1;33m(\u001b[0m\u001b[1;33m)\u001b[0m\u001b[1;33m.\u001b[0m\u001b[0mindex\u001b[0m\u001b[1;33m)\u001b[0m\u001b[1;33m\u001b[0m\u001b[0m\n\u001b[0m\u001b[0;32m      3\u001b[0m \u001b[0mprint\u001b[0m\u001b[1;33m(\u001b[0m\u001b[0mdata_2012\u001b[0m\u001b[1;33m[\u001b[0m\u001b[0mc\u001b[0m\u001b[1;33m]\u001b[0m\u001b[1;33m.\u001b[0m\u001b[0mvalue_counts\u001b[0m\u001b[1;33m(\u001b[0m\u001b[1;33m)\u001b[0m\u001b[1;33m.\u001b[0m\u001b[0msort_index\u001b[0m\u001b[1;33m(\u001b[0m\u001b[1;33m)\u001b[0m\u001b[1;33m)\u001b[0m\u001b[1;33m\u001b[0m\u001b[0m\n\u001b[0;32m      4\u001b[0m \u001b[0mprint\u001b[0m\u001b[1;33m(\u001b[0m\u001b[0mmissing_data\u001b[0m\u001b[1;33m(\u001b[0m\u001b[0mdata_2012\u001b[0m\u001b[1;33m[\u001b[0m\u001b[0mc\u001b[0m\u001b[1;33m]\u001b[0m\u001b[1;33m)\u001b[0m\u001b[1;33m)\u001b[0m\u001b[1;33m\u001b[0m\u001b[0m\n",
      "\u001b[1;31mNameError\u001b[0m: name 'data_2012' is not defined"
     ]
    }
   ],
   "source": [
    "c = 'ESTU_ANO_TERMINO_QUINTO'\n",
    "print(data_2012[c].value_counts().sort_index().index)\n",
    "print(data_2012[c].value_counts().sort_index())\n",
    "print(missing_data(data_2012[c]))"
   ]
  },
  {
   "cell_type": "code",
   "execution_count": 73,
   "metadata": {
    "collapsed": false
   },
   "outputs": [
    {
     "name": "stdout",
     "output_type": "stream",
     "text": [
      "cant null antes: 88613\n",
      "cant null despues: 0\n"
     ]
    }
   ],
   "source": [
    "Do_resamples(data_2012, c, float)"
   ]
  },
  {
   "cell_type": "code",
   "execution_count": 74,
   "metadata": {
    "collapsed": false
   },
   "outputs": [
    {
     "name": "stdout",
     "output_type": "stream",
     "text": [
      "Float64Index([1.0, 2.0, 3.0, 4.0, 5.0, 6.0, 7.0, 8.0, 9.0, 10.0, 11.0], dtype='float64')\n",
      "1     992\n",
      "2     567\n",
      "3     295\n",
      "4     141\n",
      "5      98\n",
      "6     263\n",
      "7      74\n",
      "8      52\n",
      "9      56\n",
      "10     63\n",
      "11    628\n",
      "Name: ESTU_ANOS_COLEGIO_ACTUAL, dtype: int64\n",
      "Elementos null/NaN 88613\n",
      "__________________\n",
      "Elementos diferentes de null/NaN: 3229\n",
      "__________________\n",
      "(3229,)\n",
      "None\n"
     ]
    }
   ],
   "source": [
    "c = 'ESTU_ANOS_COLEGIO_ACTUAL'\n",
    "print(data_2012[c].value_counts().sort_index().index)\n",
    "print(data_2012[c].value_counts().sort_index())\n",
    "print(missing_data(data_2012[c]))"
   ]
  },
  {
   "cell_type": "code",
   "execution_count": 75,
   "metadata": {
    "collapsed": false
   },
   "outputs": [
    {
     "name": "stdout",
     "output_type": "stream",
     "text": [
      "cant null antes: 88613\n",
      "cant null despues: 1\n",
      "cant null antes: 1\n",
      "cant null despues: 0\n"
     ]
    }
   ],
   "source": [
    "Do_resamples(data_2012, c, float)"
   ]
  },
  {
   "cell_type": "code",
   "execution_count": 76,
   "metadata": {
    "collapsed": false,
    "scrolled": true
   },
   "outputs": [
    {
     "name": "stdout",
     "output_type": "stream",
     "text": [
      "Float64Index([1985.0, 1986.0, 1987.0, 1988.0, 1989.0, 1990.0, 1991.0, 1992.0,\n",
      "              1993.0, 1994.0, 1995.0, 1996.0, 1997.0, 1998.0, 1999.0, 2000.0,\n",
      "              2001.0, 2002.0, 2003.0, 2004.0, 2005.0, 2006.0, 2007.0, 2008.0],\n",
      "             dtype='float64')\n",
      "1985       6\n",
      "1986       2\n",
      "1987       1\n",
      "1988       4\n",
      "1989       4\n",
      "1990      10\n",
      "1991      23\n",
      "1992      16\n",
      "1993      16\n",
      "1994      15\n",
      "1995      17\n",
      "1996      31\n",
      "1997      22\n",
      "1998      30\n",
      "1999      24\n",
      "2000      44\n",
      "2001      70\n",
      "2002      59\n",
      "2003     100\n",
      "2004     199\n",
      "2005     481\n",
      "2006    1516\n",
      "2007     392\n",
      "2008     147\n",
      "Name: ESTU_ANO_MATRICULA_SEXTO, dtype: int64\n",
      "Elementos null/NaN 88613\n",
      "__________________\n",
      "Elementos diferentes de null/NaN: 3229\n",
      "__________________\n",
      "(3229,)\n",
      "None\n"
     ]
    }
   ],
   "source": [
    "c = 'ESTU_ANO_MATRICULA_SEXTO'\n",
    "print(data_2012[c].value_counts().sort_index().index)\n",
    "print(data_2012[c].value_counts().sort_index())\n",
    "print(missing_data(data_2012[c]))"
   ]
  },
  {
   "cell_type": "code",
   "execution_count": 77,
   "metadata": {
    "collapsed": false
   },
   "outputs": [
    {
     "name": "stdout",
     "output_type": "stream",
     "text": [
      "cant null antes: 88613\n",
      "cant null despues: 0\n"
     ]
    }
   ],
   "source": [
    "Do_resamples(data_2012, c, float)"
   ]
  },
  {
   "cell_type": "code",
   "execution_count": 78,
   "metadata": {
    "collapsed": false
   },
   "outputs": [
    {
     "name": "stdout",
     "output_type": "stream",
     "text": [
      "Float64Index([0.0, 1.0, 2.0, 3.0], dtype='float64')\n",
      "0     495\n",
      "1    1044\n",
      "2     669\n",
      "3    1021\n",
      "Name: ESTU_ANOS_PREESCOLAR, dtype: int64\n",
      "Elementos null/NaN 88613\n",
      "__________________\n",
      "Elementos diferentes de null/NaN: 3229\n",
      "__________________\n",
      "(3229,)\n",
      "None\n"
     ]
    }
   ],
   "source": [
    "c = 'ESTU_ANOS_PREESCOLAR'\n",
    "print(data_2012[c].value_counts().sort_index().index)\n",
    "print(data_2012[c].value_counts().sort_index())\n",
    "print(missing_data(data_2012[c]))"
   ]
  },
  {
   "cell_type": "code",
   "execution_count": 79,
   "metadata": {
    "collapsed": false
   },
   "outputs": [
    {
     "name": "stdout",
     "output_type": "stream",
     "text": [
      "cant null antes: 88613\n",
      "cant null despues: 1\n",
      "cant null antes: 1\n",
      "cant null despues: 0\n"
     ]
    }
   ],
   "source": [
    "Do_resamples(data_2012, c, float)"
   ]
  },
  {
   "cell_type": "code",
   "execution_count": 80,
   "metadata": {
    "collapsed": false
   },
   "outputs": [
    {
     "name": "stdout",
     "output_type": "stream",
     "text": [
      "Float64Index([1.0, 2.0, 3.0], dtype='float64')\n",
      "1    1408\n",
      "2     763\n",
      "3     441\n",
      "Name: ESTU_CUANTOS_COLE_ESTUDIO, dtype: int64\n",
      "Elementos null/NaN 89230\n",
      "__________________\n",
      "Elementos diferentes de null/NaN: 2612\n",
      "__________________\n",
      "(2612,)\n",
      "None\n"
     ]
    }
   ],
   "source": [
    "c = 'ESTU_CUANTOS_COLE_ESTUDIO'\n",
    "print(data_2012[c].value_counts().sort_index().index)\n",
    "print(data_2012[c].value_counts().sort_index())\n",
    "print(missing_data(data_2012[c]))"
   ]
  },
  {
   "cell_type": "code",
   "execution_count": 81,
   "metadata": {
    "collapsed": false
   },
   "outputs": [
    {
     "name": "stdout",
     "output_type": "stream",
     "text": [
      "cant null antes: 89230\n",
      "cant null despues: 1\n",
      "cant null antes: 1\n",
      "cant null despues: 0\n"
     ]
    }
   ],
   "source": [
    "Do_resamples(data_2012, c, float)"
   ]
  },
  {
   "cell_type": "code",
   "execution_count": 82,
   "metadata": {
    "collapsed": false
   },
   "outputs": [
    {
     "name": "stdout",
     "output_type": "stream",
     "text": [
      "Float64Index([0.0, 1.0], dtype='float64')\n",
      "0    3105\n",
      "1     124\n",
      "Name: ESTU_REPROBO_CUARTO, dtype: int64\n",
      "Elementos null/NaN 88613\n",
      "__________________\n",
      "Elementos diferentes de null/NaN: 3229\n",
      "__________________\n",
      "(3229,)\n",
      "None\n"
     ]
    }
   ],
   "source": [
    "c = 'ESTU_REPROBO_CUARTO'\n",
    "print(data_2012[c].value_counts().sort_index().index)\n",
    "print(data_2012[c].value_counts().sort_index())\n",
    "print(missing_data(data_2012[c]))"
   ]
  },
  {
   "cell_type": "code",
   "execution_count": 83,
   "metadata": {
    "collapsed": false
   },
   "outputs": [
    {
     "name": "stdout",
     "output_type": "stream",
     "text": [
      "cant null antes: 88613\n",
      "cant null despues: 0\n"
     ]
    }
   ],
   "source": [
    "Do_resamples(data_2012, c, float)"
   ]
  },
  {
   "cell_type": "code",
   "execution_count": 84,
   "metadata": {
    "collapsed": false
   },
   "outputs": [
    {
     "name": "stdout",
     "output_type": "stream",
     "text": [
      "Float64Index([0.0, 1.0], dtype='float64')\n",
      "0    2907\n",
      "1     322\n",
      "Name: ESTU_REPROBO_DECIMO, dtype: int64\n",
      "Elementos null/NaN 88613\n",
      "__________________\n",
      "Elementos diferentes de null/NaN: 3229\n",
      "__________________\n",
      "(3229,)\n",
      "None\n"
     ]
    }
   ],
   "source": [
    "c = 'ESTU_REPROBO_DECIMO'\n",
    "print(data_2012[c].value_counts().sort_index().index)\n",
    "print(data_2012[c].value_counts().sort_index())\n",
    "print(missing_data(data_2012[c]))"
   ]
  },
  {
   "cell_type": "code",
   "execution_count": 85,
   "metadata": {
    "collapsed": false
   },
   "outputs": [
    {
     "name": "stdout",
     "output_type": "stream",
     "text": [
      "cant null antes: 88613\n",
      "cant null despues: 0\n"
     ]
    }
   ],
   "source": [
    "Do_resamples(data_2012, c, float)"
   ]
  },
  {
   "cell_type": "code",
   "execution_count": 86,
   "metadata": {
    "collapsed": false
   },
   "outputs": [
    {
     "name": "stdout",
     "output_type": "stream",
     "text": [
      "Float64Index([0.0, 1.0], dtype='float64')\n",
      "0    2939\n",
      "1     290\n",
      "Name: ESTU_REPROBO_NOVENO, dtype: int64\n",
      "Elementos null/NaN 88613\n",
      "__________________\n",
      "Elementos diferentes de null/NaN: 3229\n",
      "__________________\n",
      "(3229,)\n",
      "None\n"
     ]
    }
   ],
   "source": [
    "c = 'ESTU_REPROBO_NOVENO'\n",
    "print(data_2012[c].value_counts().sort_index().index)\n",
    "print(data_2012[c].value_counts().sort_index())\n",
    "print(missing_data(data_2012[c]))"
   ]
  },
  {
   "cell_type": "code",
   "execution_count": 87,
   "metadata": {
    "collapsed": false
   },
   "outputs": [
    {
     "name": "stdout",
     "output_type": "stream",
     "text": [
      "cant null antes: 88613\n",
      "cant null despues: 0\n"
     ]
    }
   ],
   "source": [
    "Do_resamples(data_2012, c, float)"
   ]
  },
  {
   "cell_type": "code",
   "execution_count": 88,
   "metadata": {
    "collapsed": false
   },
   "outputs": [
    {
     "name": "stdout",
     "output_type": "stream",
     "text": [
      "Float64Index([0.0, 1.0], dtype='float64')\n",
      "0    2943\n",
      "1     286\n",
      "Name: ESTU_REPROBO_OCTAVO, dtype: int64\n",
      "Elementos null/NaN 88613\n",
      "__________________\n",
      "Elementos diferentes de null/NaN: 3229\n",
      "__________________\n",
      "(3229,)\n",
      "None\n"
     ]
    }
   ],
   "source": [
    "c = 'ESTU_REPROBO_OCTAVO'\n",
    "print(data_2012[c].value_counts().sort_index().index)\n",
    "print(data_2012[c].value_counts().sort_index())\n",
    "print(missing_data(data_2012[c]))"
   ]
  },
  {
   "cell_type": "code",
   "execution_count": 89,
   "metadata": {
    "collapsed": false
   },
   "outputs": [
    {
     "name": "stdout",
     "output_type": "stream",
     "text": [
      "cant null antes: 88613\n",
      "cant null despues: 0\n"
     ]
    }
   ],
   "source": [
    "Do_resamples(data_2012, c, float)"
   ]
  },
  {
   "cell_type": "code",
   "execution_count": 90,
   "metadata": {
    "collapsed": false
   },
   "outputs": [
    {
     "name": "stdout",
     "output_type": "stream",
     "text": [
      "Float64Index([0.0, 1.0], dtype='float64')\n",
      "0    3069\n",
      "1     160\n",
      "Name: ESTU_REPROBO_PRIMERO, dtype: int64\n",
      "Elementos null/NaN 88613\n",
      "__________________\n",
      "Elementos diferentes de null/NaN: 3229\n",
      "__________________\n",
      "(3229,)\n",
      "None\n"
     ]
    }
   ],
   "source": [
    "c = 'ESTU_REPROBO_PRIMERO'\n",
    "print(data_2012[c].value_counts().sort_index().index)\n",
    "print(data_2012[c].value_counts().sort_index())\n",
    "print(missing_data(data_2012[c]))"
   ]
  },
  {
   "cell_type": "code",
   "execution_count": 91,
   "metadata": {
    "collapsed": false
   },
   "outputs": [
    {
     "name": "stdout",
     "output_type": "stream",
     "text": [
      "cant null antes: 88613\n",
      "cant null despues: 0\n"
     ]
    }
   ],
   "source": [
    "Do_resamples(data_2012, c, float)"
   ]
  },
  {
   "cell_type": "code",
   "execution_count": 92,
   "metadata": {
    "collapsed": false
   },
   "outputs": [
    {
     "name": "stdout",
     "output_type": "stream",
     "text": [
      "Float64Index([0.0, 1.0], dtype='float64')\n",
      "0    3104\n",
      "1     125\n",
      "Name: ESTU_REPROBO_QUINTO, dtype: int64\n",
      "Elementos null/NaN 88613\n",
      "__________________\n",
      "Elementos diferentes de null/NaN: 3229\n",
      "__________________\n",
      "(3229,)\n",
      "None\n"
     ]
    }
   ],
   "source": [
    "c = 'ESTU_REPROBO_QUINTO'\n",
    "print(data_2012[c].value_counts().sort_index().index)\n",
    "print(data_2012[c].value_counts().sort_index())\n",
    "print(missing_data(data_2012[c]))"
   ]
  },
  {
   "cell_type": "code",
   "execution_count": 93,
   "metadata": {
    "collapsed": false
   },
   "outputs": [
    {
     "name": "stdout",
     "output_type": "stream",
     "text": [
      "cant null antes: 88613\n",
      "cant null despues: 0\n"
     ]
    }
   ],
   "source": [
    "Do_resamples(data_2012, c, float)"
   ]
  },
  {
   "cell_type": "code",
   "execution_count": 94,
   "metadata": {
    "collapsed": false
   },
   "outputs": [
    {
     "name": "stdout",
     "output_type": "stream",
     "text": [
      "Float64Index([0.0, 1.0], dtype='float64')\n",
      "0    3101\n",
      "1     128\n",
      "Name: ESTU_REPROBO_SEGUNDO, dtype: int64\n",
      "Elementos null/NaN 88613\n",
      "__________________\n",
      "Elementos diferentes de null/NaN: 3229\n",
      "__________________\n",
      "(3229,)\n",
      "None\n"
     ]
    }
   ],
   "source": [
    "c = 'ESTU_REPROBO_SEGUNDO'\n",
    "print(data_2012[c].value_counts().sort_index().index)\n",
    "print(data_2012[c].value_counts().sort_index())\n",
    "print(missing_data(data_2012[c]))"
   ]
  },
  {
   "cell_type": "code",
   "execution_count": 95,
   "metadata": {
    "collapsed": false
   },
   "outputs": [
    {
     "name": "stdout",
     "output_type": "stream",
     "text": [
      "cant null antes: 88613\n",
      "cant null despues: 0\n"
     ]
    }
   ],
   "source": [
    "Do_resamples(data_2012, c, float)"
   ]
  },
  {
   "cell_type": "code",
   "execution_count": 96,
   "metadata": {
    "collapsed": false
   },
   "outputs": [
    {
     "name": "stdout",
     "output_type": "stream",
     "text": [
      "Float64Index([0.0, 1.0], dtype='float64')\n",
      "0    2952\n",
      "1     277\n",
      "Name: ESTU_REPROBO_SEPTIMO, dtype: int64\n",
      "Elementos null/NaN 88613\n",
      "__________________\n",
      "Elementos diferentes de null/NaN: 3229\n",
      "__________________\n",
      "(3229,)\n",
      "None\n"
     ]
    }
   ],
   "source": [
    "c = 'ESTU_REPROBO_SEPTIMO'\n",
    "print(data_2012[c].value_counts().sort_index().index)\n",
    "print(data_2012[c].value_counts().sort_index())\n",
    "print(missing_data(data_2012[c]))"
   ]
  },
  {
   "cell_type": "code",
   "execution_count": 97,
   "metadata": {
    "collapsed": false
   },
   "outputs": [
    {
     "name": "stdout",
     "output_type": "stream",
     "text": [
      "cant null antes: 88613\n",
      "cant null despues: 0\n"
     ]
    }
   ],
   "source": [
    "Do_resamples(data_2012, c, float)"
   ]
  },
  {
   "cell_type": "code",
   "execution_count": 98,
   "metadata": {
    "collapsed": false
   },
   "outputs": [
    {
     "name": "stdout",
     "output_type": "stream",
     "text": [
      "Float64Index([0.0, 1.0], dtype='float64')\n",
      "0    2975\n",
      "1     254\n",
      "Name: ESTU_REPROBO_SEXTO, dtype: int64\n",
      "Elementos null/NaN 88613\n",
      "__________________\n",
      "Elementos diferentes de null/NaN: 3229\n",
      "__________________\n",
      "(3229,)\n",
      "None\n"
     ]
    }
   ],
   "source": [
    "c = 'ESTU_REPROBO_SEXTO'\n",
    "print(data_2012[c].value_counts().sort_index().index)\n",
    "print(data_2012[c].value_counts().sort_index())\n",
    "print(missing_data(data_2012[c]))"
   ]
  },
  {
   "cell_type": "code",
   "execution_count": 99,
   "metadata": {
    "collapsed": false
   },
   "outputs": [
    {
     "name": "stdout",
     "output_type": "stream",
     "text": [
      "cant null antes: 88613\n",
      "cant null despues: 0\n"
     ]
    }
   ],
   "source": [
    "Do_resamples(data_2012, c, float)"
   ]
  },
  {
   "cell_type": "code",
   "execution_count": 100,
   "metadata": {
    "collapsed": false
   },
   "outputs": [
    {
     "name": "stdout",
     "output_type": "stream",
     "text": [
      "Float64Index([0.0, 1.0], dtype='float64')\n",
      "0    3065\n",
      "1     164\n",
      "Name: ESTU_REPROBO_TERCERO, dtype: int64\n",
      "Elementos null/NaN 88613\n",
      "__________________\n",
      "Elementos diferentes de null/NaN: 3229\n",
      "__________________\n",
      "(3229,)\n",
      "None\n"
     ]
    }
   ],
   "source": [
    "c = 'ESTU_REPROBO_TERCERO'\n",
    "print(data_2012[c].value_counts().sort_index().index)\n",
    "print(data_2012[c].value_counts().sort_index())\n",
    "print(missing_data(data_2012[c]))"
   ]
  },
  {
   "cell_type": "code",
   "execution_count": 101,
   "metadata": {
    "collapsed": false
   },
   "outputs": [
    {
     "name": "stdout",
     "output_type": "stream",
     "text": [
      "cant null antes: 88613\n",
      "cant null despues: 0\n"
     ]
    }
   ],
   "source": [
    "Do_resamples(data_2012, c, float)"
   ]
  },
  {
   "cell_type": "code",
   "execution_count": 102,
   "metadata": {
    "collapsed": false
   },
   "outputs": [
    {
     "name": "stdout",
     "output_type": "stream",
     "text": [
      "Float64Index([0.0, 1.0], dtype='float64')\n",
      "0    3036\n",
      "1     193\n",
      "Name: ESTU_REPROBO_ONCE_MAS, dtype: int64\n",
      "Elementos null/NaN 88613\n",
      "__________________\n",
      "Elementos diferentes de null/NaN: 3229\n",
      "__________________\n",
      "(3229,)\n",
      "None\n"
     ]
    }
   ],
   "source": [
    "c = 'ESTU_REPROBO_ONCE_MAS'\n",
    "print(data_2012[c].value_counts().sort_index().index)\n",
    "print(data_2012[c].value_counts().sort_index())\n",
    "print(missing_data(data_2012[c]))"
   ]
  },
  {
   "cell_type": "code",
   "execution_count": 103,
   "metadata": {
    "collapsed": false
   },
   "outputs": [
    {
     "name": "stdout",
     "output_type": "stream",
     "text": [
      "cant null antes: 88613\n",
      "cant null despues: 0\n"
     ]
    }
   ],
   "source": [
    "Do_resamples(data_2012, c, float)"
   ]
  },
  {
   "cell_type": "code",
   "execution_count": 104,
   "metadata": {
    "collapsed": false
   },
   "outputs": [
    {
     "name": "stdout",
     "output_type": "stream",
     "text": [
      "Index(['-'], dtype='object')\n",
      "-    91842\n",
      "Name: ESTU_POR_MEJORARPOSICIONSOCIAL, dtype: int64\n",
      "Elementos null/NaN 0\n",
      "__________________\n",
      "Elementos diferentes de null/NaN: 91842\n",
      "__________________\n",
      "(91842,)\n",
      "None\n"
     ]
    }
   ],
   "source": [
    "c = 'ESTU_POR_MEJORARPOSICIONSOCIAL'\n",
    "print(data_2012[c].value_counts().sort_index().index)\n",
    "print(data_2012[c].value_counts().sort_index())\n",
    "print(missing_data(data_2012[c]))"
   ]
  },
  {
   "cell_type": "code",
   "execution_count": 105,
   "metadata": {
    "collapsed": true
   },
   "outputs": [],
   "source": [
    "data_2012 = data_2012.drop([c], axis=1)"
   ]
  },
  {
   "cell_type": "code",
   "execution_count": 106,
   "metadata": {
    "collapsed": false
   },
   "outputs": [
    {
     "name": "stdout",
     "output_type": "stream",
     "text": [
      "Index(['-'], dtype='object')\n",
      "-    91842\n",
      "Name: ESTU_POR_COLOMBIAAPRENDE, dtype: int64\n",
      "Elementos null/NaN 0\n",
      "__________________\n",
      "Elementos diferentes de null/NaN: 91842\n",
      "__________________\n",
      "(91842,)\n",
      "None\n"
     ]
    }
   ],
   "source": [
    "c = 'ESTU_POR_COLOMBIAAPRENDE'\n",
    "print(data_2012[c].value_counts().sort_index().index)\n",
    "print(data_2012[c].value_counts().sort_index())\n",
    "print(missing_data(data_2012[c]))"
   ]
  },
  {
   "cell_type": "code",
   "execution_count": 107,
   "metadata": {
    "collapsed": true
   },
   "outputs": [],
   "source": [
    "data_2012 = data_2012.drop([c], axis=1)"
   ]
  },
  {
   "cell_type": "code",
   "execution_count": 108,
   "metadata": {
    "collapsed": false
   },
   "outputs": [
    {
     "name": "stdout",
     "output_type": "stream",
     "text": [
      "Float64Index([0.0, 1.0], dtype='float64')\n",
      "0    2070\n",
      "1     928\n",
      "Name: ESTU_POR_INFLUENCIAALGUIEN, dtype: int64\n",
      "Elementos null/NaN 88844\n",
      "__________________\n",
      "Elementos diferentes de null/NaN: 2998\n",
      "__________________\n",
      "(2998,)\n",
      "None\n"
     ]
    }
   ],
   "source": [
    "c = 'ESTU_POR_INFLUENCIAALGUIEN'\n",
    "print(data_2012[c].value_counts().sort_index().index)\n",
    "print(data_2012[c].value_counts().sort_index())\n",
    "print(missing_data(data_2012[c]))"
   ]
  },
  {
   "cell_type": "code",
   "execution_count": 109,
   "metadata": {
    "collapsed": false
   },
   "outputs": [
    {
     "name": "stdout",
     "output_type": "stream",
     "text": [
      "cant null antes: 88844\n",
      "cant null despues: 0\n"
     ]
    }
   ],
   "source": [
    "Do_resamples(data_2012, c, float)"
   ]
  },
  {
   "cell_type": "code",
   "execution_count": 110,
   "metadata": {
    "collapsed": false
   },
   "outputs": [
    {
     "name": "stdout",
     "output_type": "stream",
     "text": [
      "Index(['-'], dtype='object')\n",
      "-    91842\n",
      "Name: ESTU_POR_INTERESPERSONAL, dtype: int64\n",
      "Elementos null/NaN 0\n",
      "__________________\n",
      "Elementos diferentes de null/NaN: 91842\n",
      "__________________\n",
      "(91842,)\n",
      "None\n"
     ]
    }
   ],
   "source": [
    "c = 'ESTU_POR_INTERESPERSONAL'\n",
    "print(data_2012[c].value_counts().sort_index().index)\n",
    "print(data_2012[c].value_counts().sort_index())\n",
    "print(missing_data(data_2012[c]))"
   ]
  },
  {
   "cell_type": "code",
   "execution_count": 111,
   "metadata": {
    "collapsed": true
   },
   "outputs": [],
   "source": [
    "data_2012 = data_2012.drop([c], axis=1)"
   ]
  },
  {
   "cell_type": "code",
   "execution_count": 112,
   "metadata": {
    "collapsed": false
   },
   "outputs": [
    {
     "name": "stdout",
     "output_type": "stream",
     "text": [
      "Index(['-'], dtype='object')\n",
      "-    91842\n",
      "Name: ESTU_POR_BUSCANDOCARRERA, dtype: int64\n",
      "Elementos null/NaN 0\n",
      "__________________\n",
      "Elementos diferentes de null/NaN: 91842\n",
      "__________________\n",
      "(91842,)\n",
      "None\n"
     ]
    }
   ],
   "source": [
    "c = 'ESTU_POR_BUSCANDOCARRERA'\n",
    "print(data_2012[c].value_counts().sort_index().index)\n",
    "print(data_2012[c].value_counts().sort_index())\n",
    "print(missing_data(data_2012[c]))"
   ]
  },
  {
   "cell_type": "code",
   "execution_count": 113,
   "metadata": {
    "collapsed": true
   },
   "outputs": [],
   "source": [
    "data_2012 = data_2012.drop([c], axis=1)"
   ]
  },
  {
   "cell_type": "code",
   "execution_count": 114,
   "metadata": {
    "collapsed": false
   },
   "outputs": [
    {
     "name": "stdout",
     "output_type": "stream",
     "text": [
      "Float64Index([0.0, 1.0], dtype='float64')\n",
      "0    2337\n",
      "1     661\n",
      "Name: ESTU_POR_TRADICIONFAMILIAR, dtype: int64\n",
      "Elementos null/NaN 88844\n",
      "__________________\n",
      "Elementos diferentes de null/NaN: 2998\n",
      "__________________\n",
      "(2998,)\n",
      "None\n"
     ]
    }
   ],
   "source": [
    "c = 'ESTU_POR_TRADICIONFAMILIAR'\n",
    "print(data_2012[c].value_counts().sort_index().index)\n",
    "print(data_2012[c].value_counts().sort_index())\n",
    "print(missing_data(data_2012[c]))"
   ]
  },
  {
   "cell_type": "code",
   "execution_count": 115,
   "metadata": {
    "collapsed": false
   },
   "outputs": [
    {
     "name": "stdout",
     "output_type": "stream",
     "text": [
      "cant null antes: 88844\n",
      "cant null despues: 0\n"
     ]
    }
   ],
   "source": [
    "Do_resamples(data_2012, c, float)"
   ]
  },
  {
   "cell_type": "code",
   "execution_count": 116,
   "metadata": {
    "collapsed": false
   },
   "outputs": [
    {
     "name": "stdout",
     "output_type": "stream",
     "text": [
      "Float64Index([0.0, 1.0, 2.0], dtype='float64')\n",
      "0    1287\n",
      "1    1425\n",
      "2     286\n",
      "Name: ESTU_POR_ORIENTACIONVOCACIONAL, dtype: int64\n",
      "Elementos null/NaN 88844\n",
      "__________________\n",
      "Elementos diferentes de null/NaN: 2998\n",
      "__________________\n",
      "(2998,)\n",
      "None\n"
     ]
    }
   ],
   "source": [
    "c = 'ESTU_POR_ORIENTACIONVOCACIONAL'\n",
    "print(data_2012[c].value_counts().sort_index().index)\n",
    "print(data_2012[c].value_counts().sort_index())\n",
    "print(missing_data(data_2012[c]))"
   ]
  },
  {
   "cell_type": "code",
   "execution_count": 117,
   "metadata": {
    "collapsed": false
   },
   "outputs": [
    {
     "name": "stdout",
     "output_type": "stream",
     "text": [
      "cant null antes: 88844\n",
      "cant null despues: 0\n"
     ]
    }
   ],
   "source": [
    "Do_resamples(data_2012, c, float)"
   ]
  },
  {
   "cell_type": "code",
   "execution_count": 118,
   "metadata": {
    "collapsed": false
   },
   "outputs": [
    {
     "name": "stdout",
     "output_type": "stream",
     "text": [
      "Float64Index([1.0, 2.0, 3.0, 4.0, 5.0, 6.0, 7.0, 8.0, 9.0], dtype='float64')\n",
      "1     20\n",
      "2     29\n",
      "3    285\n",
      "4     63\n",
      "5     79\n",
      "6     58\n",
      "7     18\n",
      "8     23\n",
      "9    363\n",
      "Name: ESTU_RAZON_RETIRO, dtype: int64\n",
      "Elementos null/NaN 90904\n",
      "__________________\n",
      "Elementos diferentes de null/NaN: 938\n",
      "__________________\n",
      "(938,)\n",
      "None\n"
     ]
    }
   ],
   "source": [
    "c = 'ESTU_RAZON_RETIRO'\n",
    "print(data_2012[c].value_counts().sort_index().index)\n",
    "print(data_2012[c].value_counts().sort_index())\n",
    "print(missing_data(data_2012[c]))"
   ]
  },
  {
   "cell_type": "code",
   "execution_count": 119,
   "metadata": {
    "collapsed": false
   },
   "outputs": [
    {
     "name": "stdout",
     "output_type": "stream",
     "text": [
      "cant null antes: 90904\n",
      "cant null despues: 2\n",
      "cant null antes: 2\n",
      "cant null despues: 0\n"
     ]
    }
   ],
   "source": [
    "Do_resamples(data_2012, c, float)"
   ]
  },
  {
   "cell_type": "code",
   "execution_count": 120,
   "metadata": {
    "collapsed": false
   },
   "outputs": [
    {
     "name": "stdout",
     "output_type": "stream",
     "text": [
      "Float64Index([0.0, 1.0], dtype='float64')\n",
      "0    1924\n",
      "1    1074\n",
      "Name: ESTU_POR_AMIGOSESTUDIANDO, dtype: int64\n",
      "Elementos null/NaN 88844\n",
      "__________________\n",
      "Elementos diferentes de null/NaN: 2998\n",
      "__________________\n",
      "(2998,)\n",
      "None\n"
     ]
    }
   ],
   "source": [
    "c = 'ESTU_POR_AMIGOSESTUDIANDO'\n",
    "print(data_2012[c].value_counts().sort_index().index)\n",
    "print(data_2012[c].value_counts().sort_index())\n",
    "print(missing_data(data_2012[c]))"
   ]
  },
  {
   "cell_type": "code",
   "execution_count": 121,
   "metadata": {
    "collapsed": false
   },
   "outputs": [
    {
     "name": "stdout",
     "output_type": "stream",
     "text": [
      "cant null antes: 88844\n",
      "cant null despues: 0\n"
     ]
    }
   ],
   "source": [
    "Do_resamples(data_2012, c, float)"
   ]
  },
  {
   "cell_type": "code",
   "execution_count": 122,
   "metadata": {
    "collapsed": false
   },
   "outputs": [
    {
     "name": "stdout",
     "output_type": "stream",
     "text": [
      "Index(['-'], dtype='object')\n",
      "-    91842\n",
      "Name: ESTU_POR_COSTOMATRICULA, dtype: int64\n",
      "Elementos null/NaN 0\n",
      "__________________\n",
      "Elementos diferentes de null/NaN: 91842\n",
      "__________________\n",
      "(91842,)\n",
      "None\n"
     ]
    }
   ],
   "source": [
    "c = 'ESTU_POR_COSTOMATRICULA'\n",
    "print(data_2012[c].value_counts().sort_index().index)\n",
    "print(data_2012[c].value_counts().sort_index())\n",
    "print(missing_data(data_2012[c]))"
   ]
  },
  {
   "cell_type": "code",
   "execution_count": 123,
   "metadata": {
    "collapsed": true
   },
   "outputs": [],
   "source": [
    "data_2012 = data_2012.drop([c], axis=1)"
   ]
  },
  {
   "cell_type": "code",
   "execution_count": 124,
   "metadata": {
    "collapsed": false
   },
   "outputs": [
    {
     "name": "stdout",
     "output_type": "stream",
     "text": [
      "Index(['-'], dtype='object')\n",
      "-    91842\n",
      "Name: ESTU_POR_OPORTUNIDADES, dtype: int64\n",
      "Elementos null/NaN 0\n",
      "__________________\n",
      "Elementos diferentes de null/NaN: 91842\n",
      "__________________\n",
      "(91842,)\n",
      "None\n"
     ]
    }
   ],
   "source": [
    "c = 'ESTU_POR_OPORTUNIDADES'\n",
    "print(data_2012[c].value_counts().sort_index().index)\n",
    "print(data_2012[c].value_counts().sort_index())\n",
    "print(missing_data(data_2012[c]))"
   ]
  },
  {
   "cell_type": "code",
   "execution_count": 125,
   "metadata": {
    "collapsed": true
   },
   "outputs": [],
   "source": [
    "data_2012 = data_2012.drop([c], axis=1)"
   ]
  },
  {
   "cell_type": "code",
   "execution_count": 126,
   "metadata": {
    "collapsed": false
   },
   "outputs": [
    {
     "name": "stdout",
     "output_type": "stream",
     "text": [
      "Float64Index([0.0, 1.0], dtype='float64')\n",
      "0    1998\n",
      "1    1000\n",
      "Name: ESTU_POR_OTRARAZON, dtype: int64\n",
      "Elementos null/NaN 88844\n",
      "__________________\n",
      "Elementos diferentes de null/NaN: 2998\n",
      "__________________\n",
      "(2998,)\n",
      "None\n"
     ]
    }
   ],
   "source": [
    "c = 'ESTU_POR_OTRARAZON'\n",
    "print(data_2012[c].value_counts().sort_index().index)\n",
    "print(data_2012[c].value_counts().sort_index())\n",
    "print(missing_data(data_2012[c]))"
   ]
  },
  {
   "cell_type": "code",
   "execution_count": 127,
   "metadata": {
    "collapsed": false
   },
   "outputs": [
    {
     "name": "stdout",
     "output_type": "stream",
     "text": [
      "cant null antes: 88844\n",
      "cant null despues: 0\n"
     ]
    }
   ],
   "source": [
    "Do_resamples(data_2012, c, float)"
   ]
  },
  {
   "cell_type": "code",
   "execution_count": 128,
   "metadata": {
    "collapsed": false
   },
   "outputs": [
    {
     "name": "stdout",
     "output_type": "stream",
     "text": [
      "Float64Index([0.0, 1.0], dtype='float64')\n",
      "0     467\n",
      "1    2531\n",
      "Name: ESTU_PRESTIGIOINSTITUCION, dtype: int64\n",
      "Elementos null/NaN 88844\n",
      "__________________\n",
      "Elementos diferentes de null/NaN: 2998\n",
      "__________________\n",
      "(2998,)\n",
      "None\n"
     ]
    }
   ],
   "source": [
    "c = 'ESTU_PRESTIGIOINSTITUCION'\n",
    "print(data_2012[c].value_counts().sort_index().index)\n",
    "print(data_2012[c].value_counts().sort_index())\n",
    "print(missing_data(data_2012[c]))"
   ]
  },
  {
   "cell_type": "code",
   "execution_count": 129,
   "metadata": {
    "collapsed": false
   },
   "outputs": [
    {
     "name": "stdout",
     "output_type": "stream",
     "text": [
      "cant null antes: 88844\n",
      "cant null despues: 0\n"
     ]
    }
   ],
   "source": [
    "Do_resamples(data_2012, c, float)"
   ]
  },
  {
   "cell_type": "code",
   "execution_count": 130,
   "metadata": {
    "collapsed": false
   },
   "outputs": [
    {
     "name": "stdout",
     "output_type": "stream",
     "text": [
      "Float64Index([0.0, 1.0], dtype='float64')\n",
      "0    1546\n",
      "1    1452\n",
      "Name: ESTU_POR_UBICACION, dtype: int64\n",
      "Elementos null/NaN 88844\n",
      "__________________\n",
      "Elementos diferentes de null/NaN: 2998\n",
      "__________________\n",
      "(2998,)\n",
      "None\n"
     ]
    }
   ],
   "source": [
    "c = 'ESTU_POR_UBICACION'\n",
    "print(data_2012[c].value_counts().sort_index().index)\n",
    "print(data_2012[c].value_counts().sort_index())\n",
    "print(missing_data(data_2012[c]))"
   ]
  },
  {
   "cell_type": "code",
   "execution_count": 131,
   "metadata": {
    "collapsed": false
   },
   "outputs": [
    {
     "name": "stdout",
     "output_type": "stream",
     "text": [
      "cant null antes: 88844\n",
      "cant null despues: 0\n"
     ]
    }
   ],
   "source": [
    "Do_resamples(data_2012, c, float)"
   ]
  },
  {
   "cell_type": "code",
   "execution_count": 132,
   "metadata": {
    "collapsed": false
   },
   "outputs": [
    {
     "name": "stdout",
     "output_type": "stream",
     "text": [
      "Float64Index([0.0, 1.0], dtype='float64')\n",
      "0    2206\n",
      "1     792\n",
      "Name: ESTU_POR_UNICAQUEOFRECE, dtype: int64\n",
      "Elementos null/NaN 88844\n",
      "__________________\n",
      "Elementos diferentes de null/NaN: 2998\n",
      "__________________\n",
      "(2998,)\n",
      "None\n"
     ]
    }
   ],
   "source": [
    "c = 'ESTU_POR_UNICAQUEOFRECE'\n",
    "print(data_2012[c].value_counts().sort_index().index)\n",
    "print(data_2012[c].value_counts().sort_index())\n",
    "print(missing_data(data_2012[c]))"
   ]
  },
  {
   "cell_type": "code",
   "execution_count": 133,
   "metadata": {
    "collapsed": false
   },
   "outputs": [
    {
     "name": "stdout",
     "output_type": "stream",
     "text": [
      "cant null antes: 88844\n",
      "cant null despues: 0\n"
     ]
    }
   ],
   "source": [
    "Do_resamples(data_2012, c, float)"
   ]
  },
  {
   "cell_type": "code",
   "execution_count": 134,
   "metadata": {
    "collapsed": false
   },
   "outputs": [
    {
     "name": "stdout",
     "output_type": "stream",
     "text": [
      "Index(['-'], dtype='object')\n",
      "-    91842\n",
      "Name: ESTU_RETIRARSE_COLEGIO, dtype: int64\n",
      "Elementos null/NaN 0\n",
      "__________________\n",
      "Elementos diferentes de null/NaN: 91842\n",
      "__________________\n",
      "(91842,)\n",
      "None\n"
     ]
    }
   ],
   "source": [
    "c = 'ESTU_RETIRARSE_COLEGIO'\n",
    "print(data_2012[c].value_counts().sort_index().index)\n",
    "print(data_2012[c].value_counts().sort_index())\n",
    "print(missing_data(data_2012[c]))"
   ]
  },
  {
   "cell_type": "code",
   "execution_count": 135,
   "metadata": {
    "collapsed": true
   },
   "outputs": [],
   "source": [
    "data_2012 = data_2012.drop([c], axis=1)"
   ]
  },
  {
   "cell_type": "code",
   "execution_count": 136,
   "metadata": {
    "collapsed": false,
    "scrolled": true
   },
   "outputs": [
    {
     "name": "stdout",
     "output_type": "stream",
     "text": [
      "Index(['AGUACHICA', 'ALBANIA', 'APARTADO', 'ARAUCA', 'ARMENIA',\n",
      "       'BARRANCABERMEJA', 'BARRANQUILLA', 'BELLO', 'BOGOTÁ D.C.', 'BOLIVAR',\n",
      "       'BUCARAMANGA', 'BUENAVENTURA', 'BUGA', 'CALI', 'CAMPOALEGRE',\n",
      "       'CARTAGENA', 'CARTAGO', 'CAUCASIA', 'CHAPARRAL', 'CHIA', 'CUCUTA',\n",
      "       'CUMARIBO', 'EL DONCELLO', 'ESPINAL', 'FACATATIVA', 'FLORENCIA',\n",
      "       'FUSAGASUGA', 'GARZON', 'GIRARDOT', 'GRANADA', 'GUAMO', 'GUATEQUE',\n",
      "       'IBAGUE', 'INIRIDA', 'IPIALES', 'ITSMINA', 'LA DORADA', 'LA PLATA',\n",
      "       'LETICIA', 'LORICA', 'MAGANGUE', 'MAICAO', 'MALAGA', 'MANIZALES',\n",
      "       'MEDELLIN', 'MITU', 'MOCOA', 'MONIQUIRA', 'MONTELIBANO', 'MONTERIA',\n",
      "       'NEIVA', 'OCAÑA', 'PALMIRA', 'PAMPLONA', 'PASTO', 'PATIA(EL BORDO)',\n",
      "       'PAZ DE ARIPORO', 'PEREIRA', 'PITALITO', 'POPAYAN', 'PUERTO ASIS',\n",
      "       'PUERTO CARREÑO', 'PUERTO TEJADA', 'QUIBDO', 'RIOHACHA', 'RIONEGRO',\n",
      "       'ROLDANILLO', 'SAN ANDRES', 'SAN GIL', 'SAN JOSE DEL GUAVIARE',\n",
      "       'SANTA MARTA', 'SANTA ROSA DE OSOS', 'SANTANDER DE QUILICHAO',\n",
      "       'SEVILLA', 'SIBUNDOY', 'SILVIA', 'SINCELEJO', 'SOACHA', 'SOCORRO',\n",
      "       'SOGAMOSO', 'SONSON', 'TAME', 'TULUA', 'TUMACO', 'TUNJA', 'TURBO',\n",
      "       'VALLEDUPAR', 'VELEZ', 'VILLA DE LEYVA', 'VILLAVICENCIO', 'YOPAL',\n",
      "       'YUMBO', 'ZARZAL', 'ZIPAQUIRA'],\n",
      "      dtype='object')\n",
      "AGUACHICA                   212\n",
      "ALBANIA                      85\n",
      "APARTADO                    348\n",
      "ARAUCA                      176\n",
      "ARMENIA                    1140\n",
      "BARRANCABERMEJA             692\n",
      "BARRANQUILLA               1892\n",
      "BELLO                       688\n",
      "BOGOTÁ D.C.               17469\n",
      "BOLIVAR                      12\n",
      "BUCARAMANGA                5314\n",
      "BUENAVENTURA                577\n",
      "BUGA                        741\n",
      "CALI                      14293\n",
      "CAMPOALEGRE                  74\n",
      "CARTAGENA                  1283\n",
      "CARTAGO                     454\n",
      "CAUCASIA                     84\n",
      "CHAPARRAL                   111\n",
      "CHIA                        799\n",
      "CUCUTA                     1119\n",
      "CUMARIBO                     16\n",
      "EL DONCELLO                  74\n",
      "ESPINAL                     154\n",
      "FACATATIVA                  609\n",
      "FLORENCIA                   475\n",
      "FUSAGASUGA                  180\n",
      "GARZON                      271\n",
      "GIRARDOT                    213\n",
      "GRANADA                     129\n",
      "                          ...  \n",
      "RIOHACHA                    334\n",
      "RIONEGRO                    811\n",
      "ROLDANILLO                  109\n",
      "SAN ANDRES                   61\n",
      "SAN GIL                     204\n",
      "SAN JOSE DEL GUAVIARE        70\n",
      "SANTA MARTA                 592\n",
      "SANTA ROSA DE OSOS          114\n",
      "SANTANDER DE QUILICHAO      616\n",
      "SEVILLA                      52\n",
      "SIBUNDOY                     96\n",
      "SILVIA                       36\n",
      "SINCELEJO                   449\n",
      "SOACHA                      698\n",
      "SOCORRO                     270\n",
      "SOGAMOSO                   1952\n",
      "SONSON                      128\n",
      "TAME                        108\n",
      "TULUA                       589\n",
      "TUMACO                      334\n",
      "TUNJA                      2279\n",
      "TURBO                        99\n",
      "VALLEDUPAR                  804\n",
      "VELEZ                       167\n",
      "VILLA DE LEYVA               90\n",
      "VILLAVICENCIO              1736\n",
      "YOPAL                       558\n",
      "YUMBO                       320\n",
      "ZARZAL                      107\n",
      "ZIPAQUIRA                   424\n",
      "Name: ESTU_MCPIO_PRESENTACION, dtype: int64\n",
      "Elementos null/NaN 0\n",
      "__________________\n",
      "Elementos diferentes de null/NaN: 91842\n",
      "__________________\n",
      "(91842,)\n",
      "None\n"
     ]
    }
   ],
   "source": [
    "c = 'ESTU_MCPIO_PRESENTACION'\n",
    "print(data_2012[c].value_counts().sort_index().index)\n",
    "print(data_2012[c].value_counts().sort_index())\n",
    "print(missing_data(data_2012[c]))"
   ]
  },
  {
   "cell_type": "code",
   "execution_count": 137,
   "metadata": {
    "collapsed": false,
    "scrolled": true
   },
   "outputs": [
    {
     "name": "stdout",
     "output_type": "stream",
     "text": [
      "Index(['AMAZONAS', 'ANTIOQUIA', 'ARAUCA', 'ATLÁNTICO', 'BOGOTÁ', 'BOLÍVAR',\n",
      "       'BOYACÁ', 'CALDAS', 'CAQUETÁ', 'CASANARE', 'CAUCA', 'CESAR', 'CHOCÓ',\n",
      "       'CUNDINAMARCA', 'CÓRDOBA', 'GUAINÍA', 'GUAVIARE', 'HUILA', 'LA GUAJIRA',\n",
      "       'MAGDALENA', 'META', 'NARIÑO', 'NORTE SANTANDER', 'PUTUMAYO', 'QUINDÍO',\n",
      "       'RISARALDA', 'SAN ANDRÉS', 'SANTANDER', 'SUCRE', 'TOLIMA', 'VALLE',\n",
      "       'VAUPÉS', 'VICHADA'],\n",
      "      dtype='object')\n",
      "AMAZONAS              21\n",
      "ANTIOQUIA           7025\n",
      "ARAUCA               284\n",
      "ATLÁNTICO           1892\n",
      "BOGOTÁ             17469\n",
      "BOLÍVAR             1439\n",
      "BOYACÁ              4524\n",
      "CALDAS              2600\n",
      "CAQUETÁ              549\n",
      "CASANARE             581\n",
      "CAUCA               2853\n",
      "CESAR               1016\n",
      "CHOCÓ                467\n",
      "CUNDINAMARCA        2923\n",
      "CÓRDOBA              911\n",
      "GUAINÍA               43\n",
      "GUAVIARE              70\n",
      "HUILA               4177\n",
      "LA GUAJIRA           545\n",
      "MAGDALENA            592\n",
      "META                1865\n",
      "NARIÑO              6107\n",
      "NORTE SANTANDER     1485\n",
      "PUTUMAYO             584\n",
      "QUINDÍO             1140\n",
      "RISARALDA           1697\n",
      "SAN ANDRÉS            61\n",
      "SANTANDER           6738\n",
      "SUCRE                449\n",
      "TOLIMA              2573\n",
      "VALLE              19113\n",
      "VAUPÉS                23\n",
      "VICHADA               26\n",
      "Name: ESTU_DEPTO_PRESENTACION, dtype: int64\n",
      "Elementos null/NaN 0\n",
      "__________________\n",
      "Elementos diferentes de null/NaN: 91842\n",
      "__________________\n",
      "(91842,)\n",
      "None\n"
     ]
    }
   ],
   "source": [
    "c = 'ESTU_DEPTO_PRESENTACION'\n",
    "print(data_2012[c].value_counts().sort_index().index)\n",
    "print(data_2012[c].value_counts().sort_index())\n",
    "print(missing_data(data_2012[c]))"
   ]
  },
  {
   "cell_type": "code",
   "execution_count": 138,
   "metadata": {
    "collapsed": false,
    "scrolled": true
   },
   "outputs": [
    {
     "name": "stdout",
     "output_type": "stream",
     "text": [
      "Float64Index([ 0.0,  1.0,  2.0,  3.0,  4.0,  5.0,  6.0,  7.0,  8.0,  9.0, 10.0,\n",
      "              11.0, 12.0, 13.0, 14.0, 15.0, 16.0, 17.0, 99.0],\n",
      "             dtype='float64')\n",
      "0      3104\n",
      "1       143\n",
      "2       867\n",
      "3       577\n",
      "4       597\n",
      "5      1142\n",
      "6       100\n",
      "7       392\n",
      "8       111\n",
      "9     14288\n",
      "10    11321\n",
      "11    10749\n",
      "12    19039\n",
      "13     1319\n",
      "14     4937\n",
      "15     1953\n",
      "16    11457\n",
      "17     4805\n",
      "99     4707\n",
      "Name: FAMI_EDUCA_PADRE, dtype: int64\n",
      "Elementos null/NaN 234\n",
      "__________________\n",
      "Elementos diferentes de null/NaN: 91608\n",
      "__________________\n",
      "(91608,)\n",
      "None\n"
     ]
    }
   ],
   "source": [
    "c = 'FAMI_EDUCA_PADRE'\n",
    "print(data_2012[c].value_counts().sort_index().index)\n",
    "print(data_2012[c].value_counts().sort_index())\n",
    "print(missing_data(data_2012[c]))"
   ]
  },
  {
   "cell_type": "code",
   "execution_count": 139,
   "metadata": {
    "collapsed": false
   },
   "outputs": [
    {
     "name": "stdout",
     "output_type": "stream",
     "text": [
      "cant null antes: 234\n",
      "cant null despues: 0\n"
     ]
    }
   ],
   "source": [
    "Do_resamples(data_2012, c, float)"
   ]
  },
  {
   "cell_type": "code",
   "execution_count": 140,
   "metadata": {
    "collapsed": false,
    "scrolled": true
   },
   "outputs": [
    {
     "name": "stdout",
     "output_type": "stream",
     "text": [
      "Float64Index([ 0.0,  1.0,  2.0,  3.0,  4.0,  5.0,  6.0,  7.0,  8.0,  9.0, 10.0,\n",
      "              11.0, 12.0, 13.0, 14.0, 15.0, 16.0, 17.0, 99.0],\n",
      "             dtype='float64')\n",
      "0      1842\n",
      "1        68\n",
      "2       719\n",
      "3       519\n",
      "4       698\n",
      "5      1301\n",
      "6       121\n",
      "7       537\n",
      "8       118\n",
      "9     12407\n",
      "10    11359\n",
      "11    12413\n",
      "12    21266\n",
      "13     1696\n",
      "14     6457\n",
      "15     2164\n",
      "16    11569\n",
      "17     4134\n",
      "99     2220\n",
      "Name: FAMI_EDUCA_MADRE, dtype: int64\n",
      "Elementos null/NaN 234\n",
      "__________________\n",
      "Elementos diferentes de null/NaN: 91608\n",
      "__________________\n",
      "(91608,)\n",
      "None\n"
     ]
    }
   ],
   "source": [
    "c = 'FAMI_EDUCA_MADRE'\n",
    "print(data_2012[c].value_counts().sort_index().index)\n",
    "print(data_2012[c].value_counts().sort_index())\n",
    "print(missing_data(data_2012[c]))"
   ]
  },
  {
   "cell_type": "code",
   "execution_count": 141,
   "metadata": {
    "collapsed": false
   },
   "outputs": [
    {
     "name": "stdout",
     "output_type": "stream",
     "text": [
      "cant null antes: 234\n",
      "cant null despues: 0\n"
     ]
    }
   ],
   "source": [
    "Do_resamples(data_2012, c, float)"
   ]
  },
  {
   "cell_type": "code",
   "execution_count": 142,
   "metadata": {
    "collapsed": false,
    "scrolled": true
   },
   "outputs": [
    {
     "name": "stdout",
     "output_type": "stream",
     "text": [
      "Float64Index([ 1.0,  2.0,  3.0,  4.0,  5.0,  6.0,  7.0,  8.0,  9.0, 10.0, 11.0,\n",
      "              12.0, 13.0, 14.0, 15.0, 16.0, 17.0, 18.0, 19.0, 20.0, 21.0, 22.0,\n",
      "              23.0, 26.0],\n",
      "             dtype='float64')\n",
      "1        88\n",
      "2       155\n",
      "3        67\n",
      "4        74\n",
      "5       493\n",
      "6        97\n",
      "7       800\n",
      "8       223\n",
      "9      1739\n",
      "10      104\n",
      "11      350\n",
      "12      732\n",
      "13     3077\n",
      "14     7968\n",
      "15     2616\n",
      "16     3659\n",
      "17     5873\n",
      "18     3654\n",
      "19    13067\n",
      "20     5263\n",
      "21    23358\n",
      "22     1418\n",
      "23     4186\n",
      "26    12547\n",
      "Name: FAMI_OCUPA_PADRE, dtype: int64\n",
      "Elementos null/NaN 234\n",
      "__________________\n",
      "Elementos diferentes de null/NaN: 91608\n",
      "__________________\n",
      "(91608,)\n",
      "None\n"
     ]
    }
   ],
   "source": [
    "c = 'FAMI_OCUPA_PADRE'\n",
    "print(data_2012[c].value_counts().sort_index().index)\n",
    "print(data_2012[c].value_counts().sort_index())\n",
    "print(missing_data(data_2012[c]))"
   ]
  },
  {
   "cell_type": "code",
   "execution_count": 143,
   "metadata": {
    "collapsed": false
   },
   "outputs": [
    {
     "name": "stdout",
     "output_type": "stream",
     "text": [
      "cant null antes: 234\n",
      "cant null despues: 0\n"
     ]
    }
   ],
   "source": [
    "Do_resamples(data_2012, c, float)"
   ]
  },
  {
   "cell_type": "code",
   "execution_count": 144,
   "metadata": {
    "collapsed": false
   },
   "outputs": [
    {
     "name": "stdout",
     "output_type": "stream",
     "text": [
      "Float64Index([1.0, 2.0, 3.0, 4.0, 5.0, 6.0, 8.0], dtype='float64')\n",
      "1    19668\n",
      "2    32607\n",
      "3    22749\n",
      "4     6805\n",
      "5     3643\n",
      "6     3004\n",
      "8       38\n",
      "Name: FAMI_ESTRATO_VIVIENDA, dtype: int64\n",
      "Elementos null/NaN 3328\n",
      "__________________\n",
      "Elementos diferentes de null/NaN: 88514\n",
      "__________________\n",
      "(88514,)\n",
      "None\n"
     ]
    }
   ],
   "source": [
    "c = 'FAMI_ESTRATO_VIVIENDA'\n",
    "print(data_2012[c].value_counts().sort_index().index)\n",
    "print(data_2012[c].value_counts().sort_index())\n",
    "print(missing_data(data_2012[c]))"
   ]
  },
  {
   "cell_type": "code",
   "execution_count": 145,
   "metadata": {
    "collapsed": false
   },
   "outputs": [
    {
     "name": "stdout",
     "output_type": "stream",
     "text": [
      "cant null antes: 3328\n",
      "cant null despues: 1\n",
      "cant null antes: 1\n",
      "cant null despues: 0\n"
     ]
    }
   ],
   "source": [
    "Do_resamples(data_2012, c, float)"
   ]
  },
  {
   "cell_type": "code",
   "execution_count": 146,
   "metadata": {
    "collapsed": false,
    "scrolled": true
   },
   "outputs": [
    {
     "name": "stdout",
     "output_type": "stream",
     "text": [
      "Float64Index([ 1.0,  2.0,  3.0,  4.0,  5.0,  6.0,  7.0,  8.0,  9.0, 10.0, 11.0,\n",
      "              12.0, 13.0, 14.0, 15.0, 16.0, 17.0, 18.0, 19.0, 20.0, 21.0, 22.0,\n",
      "              23.0, 26.0],\n",
      "             dtype='float64')\n",
      "1        34\n",
      "2       131\n",
      "3        39\n",
      "4        73\n",
      "5       445\n",
      "6       293\n",
      "7       245\n",
      "8       151\n",
      "9       581\n",
      "10     2440\n",
      "11      130\n",
      "12      360\n",
      "13     1398\n",
      "14     3551\n",
      "15     1755\n",
      "16     3368\n",
      "17     4905\n",
      "18     3742\n",
      "19     7565\n",
      "20     3705\n",
      "21    10291\n",
      "22    38103\n",
      "23     1697\n",
      "26     6606\n",
      "Name: FAMI_OCUPA_MADRE, dtype: int64\n",
      "Elementos null/NaN 234\n",
      "__________________\n",
      "Elementos diferentes de null/NaN: 91608\n",
      "__________________\n",
      "(91608,)\n",
      "None\n"
     ]
    }
   ],
   "source": [
    "c = 'FAMI_OCUPA_MADRE'\n",
    "print(data_2012[c].value_counts().sort_index().index)\n",
    "print(data_2012[c].value_counts().sort_index())\n",
    "print(missing_data(data_2012[c]))"
   ]
  },
  {
   "cell_type": "code",
   "execution_count": 147,
   "metadata": {
    "collapsed": false
   },
   "outputs": [
    {
     "name": "stdout",
     "output_type": "stream",
     "text": [
      "cant null antes: 234\n",
      "cant null despues: 0\n"
     ]
    }
   ],
   "source": [
    "Do_resamples(data_2012, c, float)"
   ]
  },
  {
   "cell_type": "code",
   "execution_count": 148,
   "metadata": {
    "collapsed": false,
    "scrolled": true
   },
   "outputs": [
    {
     "name": "stdout",
     "output_type": "stream",
     "text": [
      "Float64Index([1.0, 2.0, 3.0, 4.0, 5.0], dtype='float64')\n",
      "1    25639\n",
      "2    20445\n",
      "3     4442\n",
      "4      883\n",
      "5    40199\n",
      "Name: FAMI_NIVEL_SISBEN, dtype: int64\n",
      "Elementos null/NaN 234\n",
      "__________________\n",
      "Elementos diferentes de null/NaN: 91608\n",
      "__________________\n",
      "(91608,)\n",
      "None\n"
     ]
    }
   ],
   "source": [
    "c = 'FAMI_NIVEL_SISBEN'\n",
    "print(data_2012[c].value_counts().sort_index().index)\n",
    "print(data_2012[c].value_counts().sort_index())\n",
    "print(missing_data(data_2012[c]))"
   ]
  },
  {
   "cell_type": "code",
   "execution_count": 149,
   "metadata": {
    "collapsed": false
   },
   "outputs": [
    {
     "name": "stdout",
     "output_type": "stream",
     "text": [
      "cant null antes: 234\n",
      "cant null despues: 1\n",
      "cant null antes: 1\n",
      "cant null despues: 0\n"
     ]
    }
   ],
   "source": [
    "Do_resamples(data_2012, c, float)"
   ]
  },
  {
   "cell_type": "code",
   "execution_count": 150,
   "metadata": {
    "collapsed": false
   },
   "outputs": [
    {
     "name": "stdout",
     "output_type": "stream",
     "text": [
      "Float64Index([1.0, 2.0, 3.0, 4.0, 5.0, 6.0, 7.0, 8.0, 9.0, 10.0, 11.0, 12.0], dtype='float64')\n",
      "1      1082\n",
      "2      6612\n",
      "3     18288\n",
      "4     28870\n",
      "5     19737\n",
      "6      8988\n",
      "7      3852\n",
      "8      1990\n",
      "9       812\n",
      "10      604\n",
      "11      254\n",
      "12      517\n",
      "Name: FAMI_PERSONAS_HOGAR, dtype: int64\n",
      "Elementos null/NaN 236\n",
      "__________________\n",
      "Elementos diferentes de null/NaN: 91606\n",
      "__________________\n",
      "(91606,)\n",
      "None\n"
     ]
    }
   ],
   "source": [
    "c = 'FAMI_PERSONAS_HOGAR'\n",
    "print(data_2012[c].value_counts().sort_index().index)\n",
    "print(data_2012[c].value_counts().sort_index())\n",
    "print(missing_data(data_2012[c]))"
   ]
  },
  {
   "cell_type": "code",
   "execution_count": 151,
   "metadata": {
    "collapsed": false
   },
   "outputs": [
    {
     "name": "stdout",
     "output_type": "stream",
     "text": [
      "cant null antes: 236\n",
      "cant null despues: 0\n"
     ]
    }
   ],
   "source": [
    "Do_resamples(data_2012, c, float)"
   ]
  },
  {
   "cell_type": "code",
   "execution_count": 152,
   "metadata": {
    "collapsed": false
   },
   "outputs": [
    {
     "name": "stdout",
     "output_type": "stream",
     "text": [
      "Float64Index([1.0, 2.0, 3.0, 4.0, 5.0, 6.0, 7.0, 8.0, 10.0], dtype='float64')\n",
      "1      266\n",
      "2     1627\n",
      "3     2247\n",
      "4      658\n",
      "5      188\n",
      "6       62\n",
      "7       20\n",
      "8       11\n",
      "10       3\n",
      "Name: FAMI_CUARTOS_HOGAR, dtype: int64\n",
      "Elementos null/NaN 86760\n",
      "__________________\n",
      "Elementos diferentes de null/NaN: 5082\n",
      "__________________\n",
      "(5082,)\n",
      "None\n"
     ]
    }
   ],
   "source": [
    "c = 'FAMI_CUARTOS_HOGAR'\n",
    "print(data_2012[c].value_counts().sort_index().index)\n",
    "print(data_2012[c].value_counts().sort_index())\n",
    "print(missing_data(data_2012[c]))"
   ]
  },
  {
   "cell_type": "code",
   "execution_count": 153,
   "metadata": {
    "collapsed": false
   },
   "outputs": [
    {
     "name": "stdout",
     "output_type": "stream",
     "text": [
      "cant null antes: 86760\n",
      "cant null despues: 1\n",
      "cant null antes: 1\n",
      "cant null despues: 0\n"
     ]
    }
   ],
   "source": [
    "Do_resamples(data_2012, c, float)"
   ]
  },
  {
   "cell_type": "code",
   "execution_count": 154,
   "metadata": {
    "collapsed": false
   },
   "outputs": [
    {
     "name": "stdout",
     "output_type": "stream",
     "text": [
      "Float64Index([1.0, 2.0, 3.0, 4.0, 5.0], dtype='float64')\n",
      "1     2301\n",
      "2    32359\n",
      "3     5235\n",
      "4    51467\n",
      "5      246\n",
      "Name: FAMI_PISOSHOGAR, dtype: int64\n",
      "Elementos null/NaN 234\n",
      "__________________\n",
      "Elementos diferentes de null/NaN: 91608\n",
      "__________________\n",
      "(91608,)\n",
      "None\n"
     ]
    }
   ],
   "source": [
    "c = 'FAMI_PISOSHOGAR'\n",
    "print(data_2012[c].value_counts().sort_index().index)\n",
    "print(data_2012[c].value_counts().sort_index())\n",
    "print(missing_data(data_2012[c]))"
   ]
  },
  {
   "cell_type": "code",
   "execution_count": 155,
   "metadata": {
    "collapsed": false
   },
   "outputs": [
    {
     "name": "stdout",
     "output_type": "stream",
     "text": [
      "cant null antes: 234\n",
      "cant null despues: 0\n"
     ]
    }
   ],
   "source": [
    "Do_resamples(data_2012, c, float)"
   ]
  },
  {
   "cell_type": "code",
   "execution_count": 156,
   "metadata": {
    "collapsed": false
   },
   "outputs": [
    {
     "name": "stdout",
     "output_type": "stream",
     "text": [
      "Float64Index([0.0, 1.0], dtype='float64')\n",
      "0    36767\n",
      "1    54842\n",
      "Name: FAMI_TELEFONO_FIJO, dtype: int64\n",
      "Elementos null/NaN 233\n",
      "__________________\n",
      "Elementos diferentes de null/NaN: 91609\n",
      "__________________\n",
      "(91609,)\n",
      "None\n"
     ]
    }
   ],
   "source": [
    "c = 'FAMI_TELEFONO_FIJO'\n",
    "print(data_2012[c].value_counts().sort_index().index)\n",
    "print(data_2012[c].value_counts().sort_index())\n",
    "print(missing_data(data_2012[c]))"
   ]
  },
  {
   "cell_type": "code",
   "execution_count": 157,
   "metadata": {
    "collapsed": false
   },
   "outputs": [
    {
     "name": "stdout",
     "output_type": "stream",
     "text": [
      "cant null antes: 233\n",
      "cant null despues: 0\n"
     ]
    }
   ],
   "source": [
    "Do_resamples(data_2012, c, float)"
   ]
  },
  {
   "cell_type": "code",
   "execution_count": 158,
   "metadata": {
    "collapsed": false
   },
   "outputs": [
    {
     "name": "stdout",
     "output_type": "stream",
     "text": [
      "Float64Index([0.0, 1.0], dtype='float64')\n",
      "0     5335\n",
      "1    86493\n",
      "Name: FAMI_CELULAR, dtype: int64\n",
      "Elementos null/NaN 14\n",
      "__________________\n",
      "Elementos diferentes de null/NaN: 91828\n",
      "__________________\n",
      "(91828,)\n",
      "None\n"
     ]
    }
   ],
   "source": [
    "c = 'FAMI_CELULAR'\n",
    "print(data_2012[c].value_counts().sort_index().index)\n",
    "print(data_2012[c].value_counts().sort_index())\n",
    "print(missing_data(data_2012[c]))"
   ]
  },
  {
   "cell_type": "code",
   "execution_count": 159,
   "metadata": {
    "collapsed": false
   },
   "outputs": [
    {
     "name": "stdout",
     "output_type": "stream",
     "text": [
      "cant null antes: 14\n",
      "cant null despues: 0\n"
     ]
    }
   ],
   "source": [
    "Do_resamples(data_2012, c, float)"
   ]
  },
  {
   "cell_type": "code",
   "execution_count": 160,
   "metadata": {
    "collapsed": false
   },
   "outputs": [
    {
     "name": "stdout",
     "output_type": "stream",
     "text": [
      "Float64Index([0.0, 1.0], dtype='float64')\n",
      "0    40929\n",
      "1    50680\n",
      "Name: FAMI_INTERNET, dtype: int64\n",
      "Elementos null/NaN 233\n",
      "__________________\n",
      "Elementos diferentes de null/NaN: 91609\n",
      "__________________\n",
      "(91609,)\n",
      "None\n"
     ]
    }
   ],
   "source": [
    "c = 'FAMI_INTERNET'\n",
    "print(data_2012[c].value_counts().sort_index().index)\n",
    "print(data_2012[c].value_counts().sort_index())\n",
    "print(missing_data(data_2012[c]))"
   ]
  },
  {
   "cell_type": "code",
   "execution_count": 161,
   "metadata": {
    "collapsed": false
   },
   "outputs": [
    {
     "name": "stdout",
     "output_type": "stream",
     "text": [
      "cant null antes: 233\n",
      "cant null despues: 0\n"
     ]
    }
   ],
   "source": [
    "Do_resamples(data_2012, c, float)"
   ]
  },
  {
   "cell_type": "code",
   "execution_count": 162,
   "metadata": {
    "collapsed": false
   },
   "outputs": [
    {
     "name": "stdout",
     "output_type": "stream",
     "text": [
      "Float64Index([0.0, 1.0], dtype='float64')\n",
      "0    28144\n",
      "1    63465\n",
      "Name: FAMI_SERVICIO_TELEVISION, dtype: int64\n",
      "Elementos null/NaN 233\n",
      "__________________\n",
      "Elementos diferentes de null/NaN: 91609\n",
      "__________________\n",
      "(91609,)\n",
      "None\n"
     ]
    }
   ],
   "source": [
    "c = 'FAMI_SERVICIO_TELEVISION'\n",
    "print(data_2012[c].value_counts().sort_index().index)\n",
    "print(data_2012[c].value_counts().sort_index())\n",
    "print(missing_data(data_2012[c]))"
   ]
  },
  {
   "cell_type": "code",
   "execution_count": 163,
   "metadata": {
    "collapsed": false
   },
   "outputs": [
    {
     "name": "stdout",
     "output_type": "stream",
     "text": [
      "cant null antes: 233\n",
      "cant null despues: 0\n"
     ]
    }
   ],
   "source": [
    "Do_resamples(data_2012, c, float)"
   ]
  },
  {
   "cell_type": "code",
   "execution_count": 164,
   "metadata": {
    "collapsed": false
   },
   "outputs": [
    {
     "name": "stdout",
     "output_type": "stream",
     "text": [
      "Float64Index([0.0, 1.0, 3.0], dtype='float64')\n",
      "0    28968\n",
      "1     3586\n",
      "3    59055\n",
      "Name: FAMI_COMPUTADOR, dtype: int64\n",
      "Elementos null/NaN 233\n",
      "__________________\n",
      "Elementos diferentes de null/NaN: 91609\n",
      "__________________\n",
      "(91609,)\n",
      "None\n"
     ]
    }
   ],
   "source": [
    "c = 'FAMI_COMPUTADOR'\n",
    "print(data_2012[c].value_counts().sort_index().index)\n",
    "print(data_2012[c].value_counts().sort_index())\n",
    "print(missing_data(data_2012[c]))"
   ]
  },
  {
   "cell_type": "code",
   "execution_count": 165,
   "metadata": {
    "collapsed": false
   },
   "outputs": [
    {
     "name": "stdout",
     "output_type": "stream",
     "text": [
      "cant null antes: 233\n",
      "cant null despues: 0\n"
     ]
    }
   ],
   "source": [
    "Do_resamples(data_2012, c, float)"
   ]
  },
  {
   "cell_type": "code",
   "execution_count": 166,
   "metadata": {
    "collapsed": false
   },
   "outputs": [
    {
     "name": "stdout",
     "output_type": "stream",
     "text": [
      "Float64Index([0.0, 1.0], dtype='float64')\n",
      "0    29416\n",
      "1    62193\n",
      "Name: FAMI_LAVADORA, dtype: int64\n",
      "Elementos null/NaN 233\n",
      "__________________\n",
      "Elementos diferentes de null/NaN: 91609\n",
      "__________________\n",
      "(91609,)\n",
      "None\n"
     ]
    }
   ],
   "source": [
    "c = 'FAMI_LAVADORA'\n",
    "print(data_2012[c].value_counts().sort_index().index)\n",
    "print(data_2012[c].value_counts().sort_index())\n",
    "print(missing_data(data_2012[c]))"
   ]
  },
  {
   "cell_type": "code",
   "execution_count": 167,
   "metadata": {
    "collapsed": false
   },
   "outputs": [
    {
     "name": "stdout",
     "output_type": "stream",
     "text": [
      "cant null antes: 233\n",
      "cant null despues: 0\n"
     ]
    }
   ],
   "source": [
    "Do_resamples(data_2012, c, float)"
   ]
  },
  {
   "cell_type": "code",
   "execution_count": 168,
   "metadata": {
    "collapsed": false
   },
   "outputs": [
    {
     "name": "stdout",
     "output_type": "stream",
     "text": [
      "Float64Index([0.0, 1.0], dtype='float64')\n",
      "0     7627\n",
      "1    84201\n",
      "Name: FAMI_NEVERA, dtype: int64\n",
      "Elementos null/NaN 14\n",
      "__________________\n",
      "Elementos diferentes de null/NaN: 91828\n",
      "__________________\n",
      "(91828,)\n",
      "None\n"
     ]
    }
   ],
   "source": [
    "c = 'FAMI_NEVERA'\n",
    "print(data_2012[c].value_counts().sort_index().index)\n",
    "print(data_2012[c].value_counts().sort_index())\n",
    "print(missing_data(data_2012[c]))"
   ]
  },
  {
   "cell_type": "code",
   "execution_count": 169,
   "metadata": {
    "collapsed": false
   },
   "outputs": [
    {
     "name": "stdout",
     "output_type": "stream",
     "text": [
      "cant null antes: 14\n",
      "cant null despues: 0\n"
     ]
    }
   ],
   "source": [
    "Do_resamples(data_2012, c, float)"
   ]
  },
  {
   "cell_type": "code",
   "execution_count": 170,
   "metadata": {
    "collapsed": false
   },
   "outputs": [
    {
     "name": "stdout",
     "output_type": "stream",
     "text": [
      "Float64Index([0.0, 1.0], dtype='float64')\n",
      "0    47716\n",
      "1    43893\n",
      "Name: FAMI_HORNO, dtype: int64\n",
      "Elementos null/NaN 233\n",
      "__________________\n",
      "Elementos diferentes de null/NaN: 91609\n",
      "__________________\n",
      "(91609,)\n",
      "None\n"
     ]
    }
   ],
   "source": [
    "c = 'FAMI_HORNO'\n",
    "print(data_2012[c].value_counts().sort_index().index)\n",
    "print(data_2012[c].value_counts().sort_index())\n",
    "print(missing_data(data_2012[c]))"
   ]
  },
  {
   "cell_type": "code",
   "execution_count": 171,
   "metadata": {
    "collapsed": false
   },
   "outputs": [
    {
     "name": "stdout",
     "output_type": "stream",
     "text": [
      "cant null antes: 233\n",
      "cant null despues: 0\n"
     ]
    }
   ],
   "source": [
    "Do_resamples(data_2012, c, float)"
   ]
  },
  {
   "cell_type": "code",
   "execution_count": 172,
   "metadata": {
    "collapsed": false
   },
   "outputs": [
    {
     "name": "stdout",
     "output_type": "stream",
     "text": [
      "Float64Index([0.0, 1.0], dtype='float64')\n",
      "0    29984\n",
      "1    61625\n",
      "Name: FAMI_DVD, dtype: int64\n",
      "Elementos null/NaN 233\n",
      "__________________\n",
      "Elementos diferentes de null/NaN: 91609\n",
      "__________________\n",
      "(91609,)\n",
      "None\n"
     ]
    }
   ],
   "source": [
    "c = 'FAMI_DVD'\n",
    "print(data_2012[c].value_counts().sort_index().index)\n",
    "print(data_2012[c].value_counts().sort_index())\n",
    "print(missing_data(data_2012[c]))"
   ]
  },
  {
   "cell_type": "code",
   "execution_count": 173,
   "metadata": {
    "collapsed": false
   },
   "outputs": [
    {
     "name": "stdout",
     "output_type": "stream",
     "text": [
      "cant null antes: 233\n",
      "cant null despues: 0\n"
     ]
    }
   ],
   "source": [
    "Do_resamples(data_2012, c, float)"
   ]
  },
  {
   "cell_type": "code",
   "execution_count": 174,
   "metadata": {
    "collapsed": false
   },
   "outputs": [
    {
     "name": "stdout",
     "output_type": "stream",
     "text": [
      "Float64Index([0.0, 1.0], dtype='float64')\n",
      "0    60545\n",
      "1    31064\n",
      "Name: FAMI_MICROONDAS, dtype: int64\n",
      "Elementos null/NaN 233\n",
      "__________________\n",
      "Elementos diferentes de null/NaN: 91609\n",
      "__________________\n",
      "(91609,)\n",
      "None\n"
     ]
    }
   ],
   "source": [
    "c = 'FAMI_MICROONDAS'\n",
    "print(data_2012[c].value_counts().sort_index().index)\n",
    "print(data_2012[c].value_counts().sort_index())\n",
    "print(missing_data(data_2012[c]))"
   ]
  },
  {
   "cell_type": "code",
   "execution_count": 175,
   "metadata": {
    "collapsed": false
   },
   "outputs": [
    {
     "name": "stdout",
     "output_type": "stream",
     "text": [
      "cant null antes: 233\n",
      "cant null despues: 0\n"
     ]
    }
   ],
   "source": [
    "Do_resamples(data_2012, c, float)"
   ]
  },
  {
   "cell_type": "code",
   "execution_count": 176,
   "metadata": {
    "collapsed": false
   },
   "outputs": [
    {
     "name": "stdout",
     "output_type": "stream",
     "text": [
      "Float64Index([0.0, 1.0], dtype='float64')\n",
      "0    66773\n",
      "1    24836\n",
      "Name: FAMI_AUTOMOVIL, dtype: int64\n",
      "Elementos null/NaN 233\n",
      "__________________\n",
      "Elementos diferentes de null/NaN: 91609\n",
      "__________________\n",
      "(91609,)\n",
      "None\n"
     ]
    }
   ],
   "source": [
    "c = 'FAMI_AUTOMOVIL'\n",
    "print(data_2012[c].value_counts().sort_index().index)\n",
    "print(data_2012[c].value_counts().sort_index())\n",
    "print(missing_data(data_2012[c]))"
   ]
  },
  {
   "cell_type": "code",
   "execution_count": 177,
   "metadata": {
    "collapsed": false
   },
   "outputs": [
    {
     "name": "stdout",
     "output_type": "stream",
     "text": [
      "cant null antes: 233\n",
      "cant null despues: 0\n"
     ]
    }
   ],
   "source": [
    "Do_resamples(data_2012, c, float)"
   ]
  },
  {
   "cell_type": "code",
   "execution_count": 178,
   "metadata": {
    "collapsed": false
   },
   "outputs": [
    {
     "name": "stdout",
     "output_type": "stream",
     "text": [
      "Float64Index([1.0, 2.0, 3.0, 4.0, 5.0, 6.0, 7.0], dtype='float64')\n",
      "1    16347\n",
      "2    40209\n",
      "3    16692\n",
      "4     8638\n",
      "5     3104\n",
      "6     2242\n",
      "7     4376\n",
      "Name: FAMI_INGRESO_FMILIAR_MENSUAL, dtype: int64\n",
      "Elementos null/NaN 234\n",
      "__________________\n",
      "Elementos diferentes de null/NaN: 91608\n",
      "__________________\n",
      "(91608,)\n",
      "None\n"
     ]
    }
   ],
   "source": [
    "c = 'FAMI_INGRESO_FMILIAR_MENSUAL'\n",
    "print(data_2012[c].value_counts().sort_index().index)\n",
    "print(data_2012[c].value_counts().sort_index())\n",
    "print(missing_data(data_2012[c]))"
   ]
  },
  {
   "cell_type": "code",
   "execution_count": 179,
   "metadata": {
    "collapsed": false
   },
   "outputs": [
    {
     "name": "stdout",
     "output_type": "stream",
     "text": [
      "cant null antes: 234\n",
      "cant null despues: 0\n"
     ]
    }
   ],
   "source": [
    "Do_resamples(data_2012, c, float)"
   ]
  },
  {
   "cell_type": "code",
   "execution_count": 180,
   "metadata": {
    "collapsed": false
   },
   "outputs": [
    {
     "name": "stdout",
     "output_type": "stream",
     "text": [
      "Float64Index([0.0, 1.0, 2.0, 3.0, 4.0, 5.0, 6.0, 7.0], dtype='float64')\n",
      "0    45915\n",
      "1      109\n",
      "2       18\n",
      "3     1961\n",
      "4      719\n",
      "5      971\n",
      "6     2864\n",
      "7     2925\n",
      "Name: ESTU_TRABAJA, dtype: int64\n",
      "Elementos null/NaN 36360\n",
      "__________________\n",
      "Elementos diferentes de null/NaN: 55482\n",
      "__________________\n",
      "(55482,)\n",
      "None\n"
     ]
    }
   ],
   "source": [
    "c = 'ESTU_TRABAJA'\n",
    "print(data_2012[c].value_counts().sort_index().index)\n",
    "print(data_2012[c].value_counts().sort_index())\n",
    "print(missing_data(data_2012[c]))"
   ]
  },
  {
   "cell_type": "code",
   "execution_count": 181,
   "metadata": {
    "collapsed": false
   },
   "outputs": [
    {
     "name": "stdout",
     "output_type": "stream",
     "text": [
      "cant null antes: 36360\n",
      "cant null despues: 1\n",
      "cant null antes: 1\n",
      "cant null despues: 0\n"
     ]
    }
   ],
   "source": [
    "Do_resamples(data_2012, c, float)"
   ]
  },
  {
   "cell_type": "code",
   "execution_count": 182,
   "metadata": {
    "collapsed": false,
    "scrolled": true
   },
   "outputs": [
    {
     "name": "stdout",
     "output_type": "stream",
     "text": [
      "Float64Index([ 0.0,  1.0,  2.0,  3.0,  4.0,  5.0,  6.0,  7.0,  8.0,  9.0, 10.0,\n",
      "              11.0, 12.0, 13.0, 14.0, 15.0, 16.0, 17.0, 18.0, 19.0, 20.0],\n",
      "             dtype='float64')\n",
      "0        4\n",
      "1        6\n",
      "2       13\n",
      "3       15\n",
      "4       67\n",
      "5       45\n",
      "6       60\n",
      "7       19\n",
      "8      297\n",
      "9       62\n",
      "10     128\n",
      "11       7\n",
      "12      97\n",
      "13       3\n",
      "14      25\n",
      "15      52\n",
      "16      69\n",
      "17      12\n",
      "18      62\n",
      "19      20\n",
      "20    2737\n",
      "Name: ESTU_HORAS_TRABAJA, dtype: int64\n",
      "Elementos null/NaN 88042\n",
      "__________________\n",
      "Elementos diferentes de null/NaN: 3800\n",
      "__________________\n",
      "(3800,)\n",
      "None\n"
     ]
    }
   ],
   "source": [
    "c = 'ESTU_HORAS_TRABAJA'\n",
    "print(data_2012[c].value_counts().sort_index().index)\n",
    "print(data_2012[c].value_counts().sort_index())\n",
    "print(missing_data(data_2012[c]))"
   ]
  },
  {
   "cell_type": "code",
   "execution_count": 183,
   "metadata": {
    "collapsed": false
   },
   "outputs": [
    {
     "name": "stdout",
     "output_type": "stream",
     "text": [
      "cant null antes: 88042\n",
      "cant null despues: 1\n",
      "cant null antes: 1\n",
      "cant null despues: 0\n"
     ]
    }
   ],
   "source": [
    "Do_resamples(data_2012, c, float)"
   ]
  },
  {
   "cell_type": "markdown",
   "metadata": {},
   "source": [
    "## TARGETS"
   ]
  },
  {
   "cell_type": "code",
   "execution_count": 184,
   "metadata": {
    "collapsed": false,
    "scrolled": true
   },
   "outputs": [
    {
     "name": "stdout",
     "output_type": "stream",
     "text": [
      "Int64Index([ 0, 17, 18, 19, 26, 27, 31, 32, 35, 36, 38, 39, 41, 43, 44, 46, 48,\n",
      "            50, 52, 54, 56, 57, 58, 59, 60, 61, 62, 63, 65, 66, 67, 68, 69, 70,\n",
      "            71, 72, 74, 75, 76, 78, 79, 81, 82, 84, 86, 90, 91],\n",
      "           dtype='int64')\n",
      "0      121\n",
      "17       1\n",
      "18      47\n",
      "19      46\n",
      "26     165\n",
      "27     154\n",
      "31     477\n",
      "32     446\n",
      "35    1523\n",
      "36     530\n",
      "38    1851\n",
      "39    1814\n",
      "41    5358\n",
      "43      63\n",
      "44    7014\n",
      "46    8236\n",
      "48    9034\n",
      "50    9589\n",
      "52    9070\n",
      "54    8614\n",
      "56    3849\n",
      "57    3645\n",
      "58     235\n",
      "59    6228\n",
      "60     190\n",
      "61    4949\n",
      "62     197\n",
      "63    3520\n",
      "65     752\n",
      "66    1716\n",
      "67      95\n",
      "68     670\n",
      "69     625\n",
      "70      62\n",
      "71     297\n",
      "72     265\n",
      "74     103\n",
      "75      80\n",
      "76     125\n",
      "78      14\n",
      "79      31\n",
      "81      10\n",
      "82      17\n",
      "84       8\n",
      "86       1\n",
      "90       4\n",
      "91       1\n",
      "Name: PUNT_LENGUAJE, dtype: int64\n",
      "Elementos null/NaN 0\n",
      "__________________\n",
      "Elementos diferentes de null/NaN: 91842\n",
      "__________________\n",
      "(91842,)\n",
      "None\n"
     ]
    }
   ],
   "source": [
    "c = 'PUNT_LENGUAJE'\n",
    "print(data_2012[c].value_counts().sort_index().index)\n",
    "print(data_2012[c].value_counts().sort_index())\n",
    "print(missing_data(data_2012[c]))"
   ]
  },
  {
   "cell_type": "code",
   "execution_count": 185,
   "metadata": {
    "collapsed": false,
    "scrolled": true
   },
   "outputs": [
    {
     "name": "stdout",
     "output_type": "stream",
     "text": [
      "Int64Index([  0,   8,   9,  18,  19,  24,  25,  26,  29,  30,  31,  33,  34,\n",
      "             35,  37,  39,  40,  41,  42,  43,  44,  45,  46,  47,  48,  49,\n",
      "             51,  52,  54,  55,  57,  59,  60,  62,  63,  65,  66,  68,  69,\n",
      "             71,  72,  74,  75,  78,  79,  83,  84,  87,  89,  90,  91,  93,\n",
      "             99, 100, 101, 103, 115, 116, 117],\n",
      "           dtype='int64')\n",
      "0        90\n",
      "8        46\n",
      "9        56\n",
      "18      191\n",
      "19      212\n",
      "24      293\n",
      "25      956\n",
      "26        8\n",
      "29     1313\n",
      "30     1318\n",
      "31       35\n",
      "33     2394\n",
      "34     2529\n",
      "35       49\n",
      "37     7077\n",
      "39       99\n",
      "40     6807\n",
      "41     2220\n",
      "42      111\n",
      "43     7518\n",
      "44     2526\n",
      "45      143\n",
      "46     7382\n",
      "47     2397\n",
      "48      141\n",
      "49     8950\n",
      "51     3902\n",
      "52     3882\n",
      "54     4888\n",
      "55     1538\n",
      "57     5034\n",
      "59     2037\n",
      "60     2040\n",
      "62     2311\n",
      "63      876\n",
      "65     1891\n",
      "66      748\n",
      "68     1491\n",
      "69      584\n",
      "71     1222\n",
      "72      453\n",
      "74      629\n",
      "75      703\n",
      "78      514\n",
      "79      540\n",
      "83      425\n",
      "84      347\n",
      "87       40\n",
      "89      234\n",
      "90      120\n",
      "91      126\n",
      "93       15\n",
      "99      137\n",
      "100      56\n",
      "101      59\n",
      "103      19\n",
      "115      64\n",
      "116      26\n",
      "117      30\n",
      "Name: PUNT_MATEMATICAS, dtype: int64\n",
      "Elementos null/NaN 0\n",
      "__________________\n",
      "Elementos diferentes de null/NaN: 91842\n",
      "__________________\n",
      "(91842,)\n",
      "None\n"
     ]
    }
   ],
   "source": [
    "c = 'PUNT_MATEMATICAS'\n",
    "print(data_2012[c].value_counts().sort_index().index)\n",
    "print(data_2012[c].value_counts().sort_index())\n",
    "print(missing_data(data_2012[c]))"
   ]
  },
  {
   "cell_type": "code",
   "execution_count": 186,
   "metadata": {
    "collapsed": true
   },
   "outputs": [],
   "source": [
    "for i in data_2012[c].value_counts().sort_index().index:\n",
    "    if i > 100:\n",
    "        data_2012[c] = data_2012[c].replace(i, 100)"
   ]
  },
  {
   "cell_type": "code",
   "execution_count": 187,
   "metadata": {
    "collapsed": false,
    "scrolled": true
   },
   "outputs": [
    {
     "name": "stdout",
     "output_type": "stream",
     "text": [
      "Int64Index([ 0, 11, 12, 18, 19, 20, 24, 25, 28, 31, 33, 34, 36, 37, 38, 39, 40,\n",
      "            41, 42, 44, 45, 46, 47, 48, 49, 50, 51, 52, 53, 54, 55, 56, 57, 58,\n",
      "            59, 60, 62, 64, 65, 66, 67, 69, 70, 71, 72, 73, 74, 76, 77, 81, 82,\n",
      "            90],\n",
      "           dtype='int64')\n",
      "0      201\n",
      "11      23\n",
      "12      17\n",
      "18       1\n",
      "19      60\n",
      "20      45\n",
      "24     188\n",
      "25      84\n",
      "28     736\n",
      "31    1522\n",
      "33    1190\n",
      "34    1428\n",
      "36    3926\n",
      "37      45\n",
      "38    3982\n",
      "39    1419\n",
      "40    4824\n",
      "41    1664\n",
      "42    7547\n",
      "44    8108\n",
      "45    3964\n",
      "46    4127\n",
      "47    3886\n",
      "48    3899\n",
      "49    5396\n",
      "50    3587\n",
      "51    5100\n",
      "52    2946\n",
      "53    3085\n",
      "54    2571\n",
      "55    2596\n",
      "56    2060\n",
      "57    2075\n",
      "58    3266\n",
      "59     119\n",
      "60    2364\n",
      "62    1629\n",
      "64     617\n",
      "65     437\n",
      "66     365\n",
      "67     254\n",
      "69     169\n",
      "70     139\n",
      "71      14\n",
      "72      28\n",
      "73      81\n",
      "74       4\n",
      "76      13\n",
      "77      29\n",
      "81       2\n",
      "82       9\n",
      "90       1\n",
      "Name: PUNT_C_SOCIALES, dtype: int64\n",
      "Elementos null/NaN 0\n",
      "__________________\n",
      "Elementos diferentes de null/NaN: 91842\n",
      "__________________\n",
      "(91842,)\n",
      "None\n"
     ]
    }
   ],
   "source": [
    "c = 'PUNT_C_SOCIALES'\n",
    "print(data_2012[c].value_counts().sort_index().index)\n",
    "print(data_2012[c].value_counts().sort_index())\n",
    "print(missing_data(data_2012[c]))"
   ]
  },
  {
   "cell_type": "code",
   "execution_count": 188,
   "metadata": {
    "collapsed": false,
    "scrolled": true
   },
   "outputs": [
    {
     "name": "stdout",
     "output_type": "stream",
     "text": [
      "Int64Index([  0,   1,   3,   7,  11,  12,  13,  16,  17,  18,  19,  22,  23,\n",
      "             26,  27,  28,  29,  30,  31,  32,  33,  34,  35,  36,  37,  38,\n",
      "             39,  40,  41,  42,  43,  44,  45,  46,  47,  48,  49,  50,  52,\n",
      "             53,  54,  55,  56,  57,  58,  60,  61,  63,  64,  65,  66,  67,\n",
      "             68,  69,  71,  72,  74,  75,  77,  80,  83,  84,  85,  86,  87,\n",
      "             91,  98,  99, 100, 102, 103],\n",
      "           dtype='int64')\n",
      "0        64\n",
      "1        20\n",
      "3        52\n",
      "7         3\n",
      "11       78\n",
      "12      162\n",
      "13      113\n",
      "16        5\n",
      "17      206\n",
      "18      429\n",
      "19      288\n",
      "22     1490\n",
      "23      641\n",
      "26     2587\n",
      "27     1021\n",
      "28       69\n",
      "29     3828\n",
      "30     1540\n",
      "31     1607\n",
      "32     3406\n",
      "33     2110\n",
      "34     3908\n",
      "35     2077\n",
      "36     4412\n",
      "37     4637\n",
      "38     2326\n",
      "39     4230\n",
      "40     2395\n",
      "41     6277\n",
      "42     2069\n",
      "       ... \n",
      "55     2419\n",
      "56      187\n",
      "57     1428\n",
      "58     1214\n",
      "60     1347\n",
      "61      922\n",
      "63      991\n",
      "64      321\n",
      "65      338\n",
      "66      313\n",
      "67      393\n",
      "68      233\n",
      "69      232\n",
      "71      242\n",
      "72      192\n",
      "74      112\n",
      "75      185\n",
      "77      180\n",
      "80       13\n",
      "83       50\n",
      "84       37\n",
      "85        5\n",
      "86       50\n",
      "87       55\n",
      "91        4\n",
      "98       10\n",
      "99        9\n",
      "100       2\n",
      "102       8\n",
      "103       5\n",
      "Name: PUNT_FILOSOFIA, dtype: int64\n",
      "Elementos null/NaN 0\n",
      "__________________\n",
      "Elementos diferentes de null/NaN: 91842\n",
      "__________________\n",
      "(91842,)\n",
      "None\n"
     ]
    }
   ],
   "source": [
    "c = 'PUNT_FILOSOFIA'\n",
    "print(data_2012[c].value_counts().sort_index().index)\n",
    "print(data_2012[c].value_counts().sort_index())\n",
    "print(missing_data(data_2012[c]))"
   ]
  },
  {
   "cell_type": "code",
   "execution_count": 189,
   "metadata": {
    "collapsed": true
   },
   "outputs": [],
   "source": [
    "for i in data_2012[c].value_counts().sort_index().index:\n",
    "    if i > 100:\n",
    "        data_2012[c] = data_2012[c].replace(i, 100)"
   ]
  },
  {
   "cell_type": "code",
   "execution_count": 190,
   "metadata": {
    "collapsed": false,
    "scrolled": true
   },
   "outputs": [
    {
     "name": "stdout",
     "output_type": "stream",
     "text": [
      "Int64Index([  0,   9,  11,  12,  13,  18,  20,  21,  24,  26,  29,  30,  33,\n",
      "             34,  36,  37,  38,  39,  40,  41,  42,  43,  44,  45,  46,  47,\n",
      "             48,  49,  51,  53,  54,  55,  56,  57,  58,  59,  60,  61,  62,\n",
      "             63,  64,  65,  66,  67,  68,  69,  70,  72,  73,  74,  75,  77,\n",
      "             78,  79,  82,  85,  86,  87,  93,  98,  99, 100],\n",
      "           dtype='int64')\n",
      "0        24\n",
      "9         9\n",
      "11       15\n",
      "12       11\n",
      "13       10\n",
      "18       36\n",
      "20       58\n",
      "21      111\n",
      "24      140\n",
      "26      519\n",
      "29      331\n",
      "30     1211\n",
      "33     1636\n",
      "34     1757\n",
      "36     2877\n",
      "37     2811\n",
      "38       39\n",
      "39     6094\n",
      "40     2108\n",
      "41       85\n",
      "42     9757\n",
      "43      103\n",
      "44     7931\n",
      "45     2797\n",
      "46     7832\n",
      "47     2713\n",
      "48     2206\n",
      "49     7290\n",
      "51     8127\n",
      "53     5071\n",
      "       ... \n",
      "56     2549\n",
      "57     1075\n",
      "58     2831\n",
      "59      144\n",
      "60     1248\n",
      "61     1528\n",
      "62      420\n",
      "63     1402\n",
      "64       85\n",
      "65      289\n",
      "66      873\n",
      "67       49\n",
      "68      175\n",
      "69      341\n",
      "70      227\n",
      "72       72\n",
      "73      192\n",
      "74       83\n",
      "75       25\n",
      "77       39\n",
      "78       89\n",
      "79       29\n",
      "82        6\n",
      "85        5\n",
      "86       43\n",
      "87       27\n",
      "93        3\n",
      "98        4\n",
      "99        3\n",
      "100       1\n",
      "Name: PUNT_BIOLOGIA, dtype: int64\n",
      "Elementos null/NaN 0\n",
      "__________________\n",
      "Elementos diferentes de null/NaN: 91842\n",
      "__________________\n",
      "(91842,)\n",
      "None\n"
     ]
    }
   ],
   "source": [
    "c = 'PUNT_BIOLOGIA'\n",
    "print(data_2012[c].value_counts().sort_index().index)\n",
    "print(data_2012[c].value_counts().sort_index())\n",
    "print(missing_data(data_2012[c]))"
   ]
  },
  {
   "cell_type": "code",
   "execution_count": 191,
   "metadata": {
    "collapsed": false,
    "scrolled": true
   },
   "outputs": [
    {
     "name": "stdout",
     "output_type": "stream",
     "text": [
      "Int64Index([ 0, 18, 19, 21, 23, 25, 26, 27, 28, 29, 30, 31, 32, 33, 35, 36, 37,\n",
      "            38, 39, 40, 41, 42, 43, 44, 45, 46, 47, 48, 49, 50, 51, 52, 53, 54,\n",
      "            55, 56, 57, 58, 59, 60, 61, 62, 63, 65, 66, 67, 68, 70, 71, 72, 73,\n",
      "            75, 77, 79, 80, 81, 87, 88, 90, 92],\n",
      "           dtype='int64')\n",
      "0       48\n",
      "18      17\n",
      "19      22\n",
      "21      52\n",
      "23      61\n",
      "25      75\n",
      "26     103\n",
      "27       3\n",
      "28     184\n",
      "29     461\n",
      "30     250\n",
      "31       6\n",
      "32    1497\n",
      "33     523\n",
      "35    2704\n",
      "36     985\n",
      "37    2676\n",
      "38    2664\n",
      "39    3376\n",
      "40    3526\n",
      "41    3971\n",
      "42    4011\n",
      "43    4122\n",
      "44    3951\n",
      "45    7712\n",
      "46    1826\n",
      "47    5396\n",
      "48    3288\n",
      "49    3369\n",
      "50    5917\n",
      "51    1653\n",
      "52    4019\n",
      "53    2644\n",
      "54    2627\n",
      "55    2307\n",
      "56    2232\n",
      "57    2062\n",
      "58    1936\n",
      "59    1800\n",
      "60    1519\n",
      "61    1467\n",
      "62    1108\n",
      "63    1003\n",
      "65     676\n",
      "66     664\n",
      "67      46\n",
      "68     334\n",
      "70     219\n",
      "71     214\n",
      "72     101\n",
      "73      71\n",
      "75      29\n",
      "77     200\n",
      "79      28\n",
      "80      28\n",
      "81      12\n",
      "87      20\n",
      "88      14\n",
      "90       4\n",
      "92       9\n",
      "Name: PUNT_QUIMICA, dtype: int64\n",
      "Elementos null/NaN 0\n",
      "__________________\n",
      "Elementos diferentes de null/NaN: 91842\n",
      "__________________\n",
      "(91842,)\n",
      "None\n"
     ]
    }
   ],
   "source": [
    "c = 'PUNT_QUIMICA'\n",
    "print(data_2012[c].value_counts().sort_index().index)\n",
    "print(data_2012[c].value_counts().sort_index())\n",
    "print(missing_data(data_2012[c]))"
   ]
  },
  {
   "cell_type": "code",
   "execution_count": 192,
   "metadata": {
    "collapsed": false,
    "scrolled": true
   },
   "outputs": [
    {
     "name": "stdout",
     "output_type": "stream",
     "text": [
      "Int64Index([  0,   4,   5,   7,   8,   9,  16,  17,  18,  23,  24,  25,  28,\n",
      "             29,  32,  33,  34,  36,  37,  38,  39,  40,  42,  43,  44,  45,\n",
      "             46,  47,  48,  49,  50,  51,  52,  54,  55,  57,  59,  60,  61,\n",
      "             62,  63,  64,  65,  66,  67,  68,  69,  70,  71,  72,  74,  75,\n",
      "             76,  77,  78,  80,  81,  82,  86,  87,  88,  93,  94,  97,  99,\n",
      "            100, 105, 114, 116, 123, 124],\n",
      "           dtype='int64')\n",
      "0        53\n",
      "4        30\n",
      "5         1\n",
      "7        46\n",
      "8        34\n",
      "9        35\n",
      "16      143\n",
      "17      157\n",
      "18      286\n",
      "23      400\n",
      "24      862\n",
      "25      420\n",
      "28      883\n",
      "29     2701\n",
      "32     2990\n",
      "33     3014\n",
      "34       75\n",
      "36     6220\n",
      "37     2202\n",
      "38       90\n",
      "39     7286\n",
      "40     2553\n",
      "42     7455\n",
      "43     2590\n",
      "44     4458\n",
      "45     2590\n",
      "46     2340\n",
      "47     3785\n",
      "48     2308\n",
      "49     3607\n",
      "       ... \n",
      "64      171\n",
      "65     1198\n",
      "66     1168\n",
      "67      140\n",
      "68      452\n",
      "69     1400\n",
      "70      115\n",
      "71      308\n",
      "72     1014\n",
      "74       98\n",
      "75      209\n",
      "76      499\n",
      "77      168\n",
      "78       62\n",
      "80      131\n",
      "81      268\n",
      "82      161\n",
      "86      169\n",
      "87       73\n",
      "88       53\n",
      "93       25\n",
      "94       43\n",
      "97       21\n",
      "99       26\n",
      "100       3\n",
      "105      18\n",
      "114      11\n",
      "116       5\n",
      "123       3\n",
      "124       4\n",
      "Name: PUNT_FISICA, dtype: int64\n",
      "Elementos null/NaN 0\n",
      "__________________\n",
      "Elementos diferentes de null/NaN: 91842\n",
      "__________________\n",
      "(91842,)\n",
      "None\n"
     ]
    }
   ],
   "source": [
    "c = 'PUNT_FISICA'\n",
    "print(data_2012[c].value_counts().sort_index().index)\n",
    "print(data_2012[c].value_counts().sort_index())\n",
    "print(missing_data(data_2012[c]))"
   ]
  },
  {
   "cell_type": "code",
   "execution_count": 193,
   "metadata": {
    "collapsed": true
   },
   "outputs": [],
   "source": [
    "for i in data_2012[c].value_counts().sort_index().index:\n",
    "    if i > 100:\n",
    "        data_2012[c] = data_2012[c].replace(i, 100)"
   ]
  },
  {
   "cell_type": "code",
   "execution_count": 194,
   "metadata": {
    "collapsed": false,
    "scrolled": true
   },
   "outputs": [
    {
     "name": "stdout",
     "output_type": "stream",
     "text": [
      "Int64Index([ -1,   0,   3,   7,  11,  14,  17,  20,  23,  26,  29,  31,  33,\n",
      "             35,  37,  39,  40,  42,  43,  45,  46,  47,  48,  50,  51,  52,\n",
      "             53,  55,  56,  57,  59,  60,  61,  63,  65,  68,  70,  72,  75,\n",
      "             77,  80,  83,  88,  92,  96, 100],\n",
      "           dtype='int64')\n",
      "-1         9\n",
      " 0        67\n",
      " 3        30\n",
      " 7        52\n",
      " 11       55\n",
      " 14       85\n",
      " 17      140\n",
      " 20      325\n",
      " 23      630\n",
      " 26     1234\n",
      " 29     2101\n",
      " 31     3185\n",
      " 33     4379\n",
      " 35     5373\n",
      " 37     6334\n",
      " 39     6652\n",
      " 40     6492\n",
      " 42     5959\n",
      " 43     9741\n",
      " 45     3825\n",
      " 46     3094\n",
      " 47     2711\n",
      " 48     2412\n",
      " 50     2094\n",
      " 51     1848\n",
      " 52     1639\n",
      " 53     1480\n",
      " 55     1348\n",
      " 56     1312\n",
      " 57     1193\n",
      " 59     1126\n",
      " 60     1041\n",
      " 61      967\n",
      " 63      910\n",
      " 65      921\n",
      " 68      903\n",
      " 70      931\n",
      " 72      948\n",
      " 75     1033\n",
      " 77     1095\n",
      " 80     1162\n",
      " 83     1280\n",
      " 88     1325\n",
      " 92     1135\n",
      " 96      912\n",
      " 100     354\n",
      "Name: PUNT_INGLES, dtype: int64\n",
      "Elementos null/NaN 0\n",
      "__________________\n",
      "Elementos diferentes de null/NaN: 91842\n",
      "__________________\n",
      "(91842,)\n",
      "None\n"
     ]
    }
   ],
   "source": [
    "c = 'PUNT_INGLES'\n",
    "print(data_2012[c].value_counts().sort_index().index)\n",
    "print(data_2012[c].value_counts().sort_index())\n",
    "print(missing_data(data_2012[c]))"
   ]
  },
  {
   "cell_type": "code",
   "execution_count": 195,
   "metadata": {
    "collapsed": true
   },
   "outputs": [],
   "source": [
    "for i in data_2012[c].value_counts().sort_index().index:\n",
    "    if i < 0:\n",
    "        data_2012[c] = data_2012[c].replace(i, 0)"
   ]
  },
  {
   "cell_type": "code",
   "execution_count": 196,
   "metadata": {
    "collapsed": false
   },
   "outputs": [
    {
     "name": "stdout",
     "output_type": "stream",
     "text": [
      "Index(['A-', 'A1', 'A2', 'B+', 'B1'], dtype='object')\n",
      "A-    48352\n",
      "A1    22105\n",
      "A2     8467\n",
      "B+     5006\n",
      "B1     7903\n",
      "Name: DESEMP_INGLES, dtype: int64\n",
      "Elementos null/NaN 9\n",
      "__________________\n",
      "Elementos diferentes de null/NaN: 91833\n",
      "__________________\n",
      "(91833,)\n",
      "None\n"
     ]
    }
   ],
   "source": [
    "c = 'DESEMP_INGLES'\n",
    "print(data_2012[c].value_counts().sort_index().index)\n",
    "print(data_2012[c].value_counts().sort_index())\n",
    "print(missing_data(data_2012[c]))"
   ]
  },
  {
   "cell_type": "code",
   "execution_count": 197,
   "metadata": {
    "collapsed": false
   },
   "outputs": [
    {
     "name": "stdout",
     "output_type": "stream",
     "text": [
      "cant null antes: 9\n",
      "cant null despues: 0\n"
     ]
    }
   ],
   "source": [
    "Do_resamples(data_2012, c, str)"
   ]
  },
  {
   "cell_type": "code",
   "execution_count": 198,
   "metadata": {
    "collapsed": false
   },
   "outputs": [
    {
     "name": "stdout",
     "output_type": "stream",
     "text": [
      "Index(['MEDIO AMBIENTE', 'PROFUNDIZACIÓN EN BIOLOGÍA',\n",
      "       'PROFUNDIZACIÓN EN CIENCIAS SOCIALES', 'PROFUNDIZACIÓN EN LENGUAJE',\n",
      "       'PROFUNDIZACIÓN EN MATEMÁTICA', 'VIOLENCIA Y SOCIEDAD'],\n",
      "      dtype='object')\n",
      "MEDIO AMBIENTE                         26154\n",
      "PROFUNDIZACIÓN EN BIOLOGÍA             14338\n",
      "PROFUNDIZACIÓN EN CIENCIAS SOCIALES     5879\n",
      "PROFUNDIZACIÓN EN LENGUAJE              9809\n",
      "PROFUNDIZACIÓN EN MATEMÁTICA           12439\n",
      "VIOLENCIA Y SOCIEDAD                   23223\n",
      "Name: NOMBRE_COMP_FLEXIBLE, dtype: int64\n",
      "Elementos null/NaN 0\n",
      "__________________\n",
      "Elementos diferentes de null/NaN: 91842\n",
      "__________________\n",
      "(91842,)\n",
      "None\n"
     ]
    }
   ],
   "source": [
    "c = 'NOMBRE_COMP_FLEXIBLE'\n",
    "print(data_2012[c].value_counts().sort_index().index)\n",
    "print(data_2012[c].value_counts().sort_index())\n",
    "print(missing_data(data_2012[c]))"
   ]
  },
  {
   "cell_type": "code",
   "execution_count": 199,
   "metadata": {
    "collapsed": false,
    "scrolled": true
   },
   "outputs": [
    {
     "name": "stdout",
     "output_type": "stream",
     "text": [
      "Int64Index([ 0,  3,  4,  5,  6,  7,  8,  9, 18, 26, 32, 36, 40, 44, 46, 48, 49,\n",
      "            50, 51, 52, 53, 54, 55, 56, 57, 58, 59, 62, 67, 74, 85],\n",
      "           dtype='int64')\n",
      "0       407\n",
      "3       241\n",
      "4      5915\n",
      "5     24760\n",
      "6     10156\n",
      "7      1071\n",
      "8        42\n",
      "9         3\n",
      "18      199\n",
      "26      657\n",
      "32     1586\n",
      "36     2653\n",
      "40     3595\n",
      "44     3898\n",
      "46      474\n",
      "48     4963\n",
      "49     2283\n",
      "50     3197\n",
      "51     6417\n",
      "52     6616\n",
      "53     2596\n",
      "54     5637\n",
      "55     1081\n",
      "56      726\n",
      "57      398\n",
      "58     1205\n",
      "59      165\n",
      "62      614\n",
      "67      228\n",
      "74       52\n",
      "85        7\n",
      "Name: PUNT_COMP_FLEXIBLE, dtype: int64\n",
      "Elementos null/NaN 0\n",
      "__________________\n",
      "Elementos diferentes de null/NaN: 91842\n",
      "__________________\n",
      "(91842,)\n",
      "None\n"
     ]
    }
   ],
   "source": [
    "c = 'PUNT_COMP_FLEXIBLE'\n",
    "print(data_2012[c].value_counts().sort_index().index)\n",
    "print(data_2012[c].value_counts().sort_index())\n",
    "print(missing_data(data_2012[c]))"
   ]
  },
  {
   "cell_type": "code",
   "execution_count": 200,
   "metadata": {
    "collapsed": false
   },
   "outputs": [
    {
     "name": "stdout",
     "output_type": "stream",
     "text": [
      "Index(['GB', 'I', 'II', 'III'], dtype='object')\n",
      "GB     16967\n",
      "I      21771\n",
      "II      3311\n",
      "III      416\n",
      "Name: DESEMP_COMP_FLEXIBLE, dtype: int64\n",
      "Elementos null/NaN 49377\n",
      "__________________\n",
      "Elementos diferentes de null/NaN: 42465\n",
      "__________________\n",
      "(42465,)\n",
      "None\n"
     ]
    }
   ],
   "source": [
    "c = 'DESEMP_COMP_FLEXIBLE'\n",
    "print(data_2012[c].value_counts().sort_index().index)\n",
    "print(data_2012[c].value_counts().sort_index())\n",
    "print(missing_data(data_2012[c]))"
   ]
  },
  {
   "cell_type": "code",
   "execution_count": 201,
   "metadata": {
    "collapsed": false
   },
   "outputs": [
    {
     "name": "stdout",
     "output_type": "stream",
     "text": [
      "cant null antes: 49377\n",
      "cant null despues: 0\n"
     ]
    }
   ],
   "source": [
    "Do_resamples(data_2012, c, str)"
   ]
  },
  {
   "cell_type": "code",
   "execution_count": 202,
   "metadata": {
    "collapsed": false,
    "scrolled": true
   },
   "outputs": [
    {
     "name": "stdout",
     "output_type": "stream",
     "text": [
      "Int64Index([   1,    2,    3,    4,    5,    6,    7,    8,    9,   10,\n",
      "            ...\n",
      "             991,  992,  993,  994,  995,  996,  997,  998,  999, 1000],\n",
      "           dtype='int64', length=1000)\n",
      "1       96\n",
      "2       96\n",
      "3       96\n",
      "4       95\n",
      "5       96\n",
      "6       96\n",
      "7       96\n",
      "8       96\n",
      "9       96\n",
      "10      94\n",
      "11      93\n",
      "12      95\n",
      "13      95\n",
      "14      96\n",
      "15      96\n",
      "16      95\n",
      "17      97\n",
      "18      96\n",
      "19      95\n",
      "20      96\n",
      "21      96\n",
      "22      94\n",
      "23      93\n",
      "24      94\n",
      "25      92\n",
      "26      92\n",
      "27      93\n",
      "28      95\n",
      "29      95\n",
      "30      97\n",
      "        ..\n",
      "971     87\n",
      "972     92\n",
      "973     88\n",
      "974     90\n",
      "975     89\n",
      "976     90\n",
      "977     88\n",
      "978     90\n",
      "979     93\n",
      "980     89\n",
      "981     86\n",
      "982     86\n",
      "983     84\n",
      "984     91\n",
      "985     90\n",
      "986     83\n",
      "987     88\n",
      "988     89\n",
      "989     88\n",
      "990     88\n",
      "991     87\n",
      "992     92\n",
      "993     78\n",
      "994     80\n",
      "995     54\n",
      "996     32\n",
      "997     29\n",
      "998     67\n",
      "999     17\n",
      "1000    27\n",
      "Name: ESTU_PUESTO, dtype: int64\n",
      "Elementos null/NaN 0\n",
      "__________________\n",
      "Elementos diferentes de null/NaN: 91842\n",
      "__________________\n",
      "(91842,)\n",
      "None\n"
     ]
    }
   ],
   "source": [
    "c = 'ESTU_PUESTO'\n",
    "print(data_2012[c].value_counts().sort_index().index)\n",
    "print(data_2012[c].value_counts().sort_index())\n",
    "print(missing_data(data_2012[c]))"
   ]
  },
  {
   "cell_type": "markdown",
   "metadata": {},
   "source": [
    "___"
   ]
  },
  {
   "cell_type": "markdown",
   "metadata": {},
   "source": [
    "___"
   ]
  },
  {
   "cell_type": "markdown",
   "metadata": {},
   "source": [
    "___"
   ]
  },
  {
   "cell_type": "markdown",
   "metadata": {},
   "source": [
    "___"
   ]
  },
  {
   "cell_type": "markdown",
   "metadata": {},
   "source": [
    "___"
   ]
  },
  {
   "cell_type": "markdown",
   "metadata": {},
   "source": [
    "## FILE 2: 2012_2"
   ]
  },
  {
   "cell_type": "code",
   "execution_count": 2,
   "metadata": {
    "collapsed": false
   },
   "outputs": [
    {
     "name": "stderr",
     "output_type": "stream",
     "text": [
      "/usr/local/lib/python3.4/dist-packages/IPython/core/interactiveshell.py:2902: DtypeWarning: Columns (11,12,13,14,15,16,24) have mixed types. Specify dtype option on import or set low_memory=False.\n",
      "  interactivity=interactivity, compiler=compiler, result=result)\n"
     ]
    }
   ],
   "source": [
    "data_2012_2 = pd.read_csv('../DatosFTPICFES/SABER11/SB11-BASES_DE_DATOS/SB11-20122-RGSTRO-CLFCCN-V1-0.txt', delimiter='|')"
   ]
  },
  {
   "cell_type": "code",
   "execution_count": 3,
   "metadata": {
    "collapsed": false
   },
   "outputs": [
    {
     "data": {
      "text/plain": [
       "(575646, 114)"
      ]
     },
     "execution_count": 3,
     "metadata": {},
     "output_type": "execute_result"
    }
   ],
   "source": [
    "data_2012_2.shape"
   ]
  },
  {
   "cell_type": "code",
   "execution_count": 4,
   "metadata": {
    "collapsed": false,
    "scrolled": true
   },
   "outputs": [
    {
     "data": {
      "text/html": [
       "<div>\n",
       "<table border=\"1\" class=\"dataframe\">\n",
       "  <thead>\n",
       "    <tr style=\"text-align: right;\">\n",
       "      <th></th>\n",
       "      <th>0</th>\n",
       "      <th>1</th>\n",
       "      <th>2</th>\n",
       "    </tr>\n",
       "  </thead>\n",
       "  <tbody>\n",
       "    <tr>\n",
       "      <th>ESTU_CONSECUTIVO</th>\n",
       "      <td>SABER1120122000001</td>\n",
       "      <td>SABER1120122000002</td>\n",
       "      <td>SABER1120122000003</td>\n",
       "    </tr>\n",
       "    <tr>\n",
       "      <th>PERIODO</th>\n",
       "      <td>20122</td>\n",
       "      <td>20122</td>\n",
       "      <td>20122</td>\n",
       "    </tr>\n",
       "    <tr>\n",
       "      <th>ESTU_EDAD</th>\n",
       "      <td>18</td>\n",
       "      <td>18</td>\n",
       "      <td>17</td>\n",
       "    </tr>\n",
       "    <tr>\n",
       "      <th>ESTU_TIPO_DOCUMENTO</th>\n",
       "      <td>C</td>\n",
       "      <td>T</td>\n",
       "      <td>T</td>\n",
       "    </tr>\n",
       "    <tr>\n",
       "      <th>ESTU_PAIS_RESIDE</th>\n",
       "      <td>CO</td>\n",
       "      <td>CO</td>\n",
       "      <td>CO</td>\n",
       "    </tr>\n",
       "    <tr>\n",
       "      <th>ESTU_GENERO</th>\n",
       "      <td>F</td>\n",
       "      <td>F</td>\n",
       "      <td>F</td>\n",
       "    </tr>\n",
       "    <tr>\n",
       "      <th>ESTU_NACIMIENTO_DIA</th>\n",
       "      <td>4</td>\n",
       "      <td>11</td>\n",
       "      <td>30</td>\n",
       "    </tr>\n",
       "    <tr>\n",
       "      <th>ESTU_NACIMIENTO_MES</th>\n",
       "      <td>1</td>\n",
       "      <td>6</td>\n",
       "      <td>11</td>\n",
       "    </tr>\n",
       "    <tr>\n",
       "      <th>ESTU_NACIMIENTO_ANNO</th>\n",
       "      <td>1994</td>\n",
       "      <td>1994</td>\n",
       "      <td>1994</td>\n",
       "    </tr>\n",
       "    <tr>\n",
       "      <th>ESTU_ETNIA</th>\n",
       "      <td>99</td>\n",
       "      <td>99</td>\n",
       "      <td>99</td>\n",
       "    </tr>\n",
       "    <tr>\n",
       "      <th>ESTU_LIMITA_BAJAVISION</th>\n",
       "      <td>NaN</td>\n",
       "      <td>NaN</td>\n",
       "      <td>NaN</td>\n",
       "    </tr>\n",
       "    <tr>\n",
       "      <th>ESTU_LIMITA_SORDOCEGUERA</th>\n",
       "      <td>NaN</td>\n",
       "      <td>NaN</td>\n",
       "      <td>NaN</td>\n",
       "    </tr>\n",
       "    <tr>\n",
       "      <th>ESTU_LIMITA_COGNITIVA</th>\n",
       "      <td>NaN</td>\n",
       "      <td>NaN</td>\n",
       "      <td>NaN</td>\n",
       "    </tr>\n",
       "    <tr>\n",
       "      <th>ESTU_LIMITA_INVIDENTE</th>\n",
       "      <td>NaN</td>\n",
       "      <td>NaN</td>\n",
       "      <td>NaN</td>\n",
       "    </tr>\n",
       "    <tr>\n",
       "      <th>ESTU_LIMITA_MOTRIZ</th>\n",
       "      <td>NaN</td>\n",
       "      <td>NaN</td>\n",
       "      <td>NaN</td>\n",
       "    </tr>\n",
       "    <tr>\n",
       "      <th>ESTU_LIMITA_SORDOINTERPRETE</th>\n",
       "      <td>NaN</td>\n",
       "      <td>NaN</td>\n",
       "      <td>NaN</td>\n",
       "    </tr>\n",
       "    <tr>\n",
       "      <th>ESTU_LIMITA_SORDONOINTERPRETE</th>\n",
       "      <td>NaN</td>\n",
       "      <td>NaN</td>\n",
       "      <td>NaN</td>\n",
       "    </tr>\n",
       "    <tr>\n",
       "      <th>ESTU_COD_RESIDE_MCPIO</th>\n",
       "      <td>5001</td>\n",
       "      <td>5001</td>\n",
       "      <td>5001</td>\n",
       "    </tr>\n",
       "    <tr>\n",
       "      <th>ESTU_RESIDE_MCPIO</th>\n",
       "      <td>MEDELLIN</td>\n",
       "      <td>MEDELLIN</td>\n",
       "      <td>MEDELLIN</td>\n",
       "    </tr>\n",
       "    <tr>\n",
       "      <th>ESTU_RESIDE_DEPTO</th>\n",
       "      <td>ANTIOQUIA</td>\n",
       "      <td>ANTIOQUIA</td>\n",
       "      <td>ANTIOQUIA</td>\n",
       "    </tr>\n",
       "    <tr>\n",
       "      <th>ESTU_ZONA_RESIDE</th>\n",
       "      <td>6</td>\n",
       "      <td>6</td>\n",
       "      <td>6</td>\n",
       "    </tr>\n",
       "    <tr>\n",
       "      <th>ESTU_AREA_RESIDE</th>\n",
       "      <td>NaN</td>\n",
       "      <td>NaN</td>\n",
       "      <td>NaN</td>\n",
       "    </tr>\n",
       "    <tr>\n",
       "      <th>IND_COD_ICFES_TERMINO</th>\n",
       "      <td>46912</td>\n",
       "      <td>46912</td>\n",
       "      <td>46912</td>\n",
       "    </tr>\n",
       "    <tr>\n",
       "      <th>COLE_COD_ICFES</th>\n",
       "      <td>46912</td>\n",
       "      <td>46912</td>\n",
       "      <td>46912</td>\n",
       "    </tr>\n",
       "    <tr>\n",
       "      <th>COLE_COD_DANE_INSTITUCION</th>\n",
       "      <td>1.05001e+11</td>\n",
       "      <td>1.05001e+11</td>\n",
       "      <td>1.05001e+11</td>\n",
       "    </tr>\n",
       "    <tr>\n",
       "      <th>COLE_NOMBRE_SEDE</th>\n",
       "      <td>INST EDUC SAN PABLO</td>\n",
       "      <td>INST EDUC SAN PABLO</td>\n",
       "      <td>INST EDUC SAN PABLO</td>\n",
       "    </tr>\n",
       "    <tr>\n",
       "      <th>COLE_CALENDARIO</th>\n",
       "      <td>A</td>\n",
       "      <td>A</td>\n",
       "      <td>A</td>\n",
       "    </tr>\n",
       "    <tr>\n",
       "      <th>COLE_GENERO</th>\n",
       "      <td>X</td>\n",
       "      <td>X</td>\n",
       "      <td>X</td>\n",
       "    </tr>\n",
       "    <tr>\n",
       "      <th>COLE_NATURALEZA</th>\n",
       "      <td>O</td>\n",
       "      <td>O</td>\n",
       "      <td>O</td>\n",
       "    </tr>\n",
       "    <tr>\n",
       "      <th>COLE_BILINGUE</th>\n",
       "      <td>0</td>\n",
       "      <td>0</td>\n",
       "      <td>0</td>\n",
       "    </tr>\n",
       "    <tr>\n",
       "      <th>...</th>\n",
       "      <td>...</td>\n",
       "      <td>...</td>\n",
       "      <td>...</td>\n",
       "    </tr>\n",
       "    <tr>\n",
       "      <th>FAMI_NIVEL_SISBEN</th>\n",
       "      <td>NaN</td>\n",
       "      <td>NaN</td>\n",
       "      <td>NaN</td>\n",
       "    </tr>\n",
       "    <tr>\n",
       "      <th>FAMI_PISOSHOGAR</th>\n",
       "      <td>NaN</td>\n",
       "      <td>NaN</td>\n",
       "      <td>NaN</td>\n",
       "    </tr>\n",
       "    <tr>\n",
       "      <th>FAMI_PERSONAS_HOGAR</th>\n",
       "      <td>NaN</td>\n",
       "      <td>NaN</td>\n",
       "      <td>NaN</td>\n",
       "    </tr>\n",
       "    <tr>\n",
       "      <th>FAMI_TELEFONO_FIJO</th>\n",
       "      <td>NaN</td>\n",
       "      <td>NaN</td>\n",
       "      <td>NaN</td>\n",
       "    </tr>\n",
       "    <tr>\n",
       "      <th>FAMI_CELULAR</th>\n",
       "      <td>NaN</td>\n",
       "      <td>NaN</td>\n",
       "      <td>NaN</td>\n",
       "    </tr>\n",
       "    <tr>\n",
       "      <th>FAMI_INTERNET</th>\n",
       "      <td>NaN</td>\n",
       "      <td>NaN</td>\n",
       "      <td>NaN</td>\n",
       "    </tr>\n",
       "    <tr>\n",
       "      <th>FAMI_SERVICIO_TELEVISION</th>\n",
       "      <td>NaN</td>\n",
       "      <td>NaN</td>\n",
       "      <td>NaN</td>\n",
       "    </tr>\n",
       "    <tr>\n",
       "      <th>FAMI_COMPUTADOR</th>\n",
       "      <td>NaN</td>\n",
       "      <td>NaN</td>\n",
       "      <td>NaN</td>\n",
       "    </tr>\n",
       "    <tr>\n",
       "      <th>FAMI_LAVADORA</th>\n",
       "      <td>NaN</td>\n",
       "      <td>NaN</td>\n",
       "      <td>NaN</td>\n",
       "    </tr>\n",
       "    <tr>\n",
       "      <th>FAMI_NEVERA</th>\n",
       "      <td>NaN</td>\n",
       "      <td>NaN</td>\n",
       "      <td>NaN</td>\n",
       "    </tr>\n",
       "    <tr>\n",
       "      <th>FAMI_HORNO</th>\n",
       "      <td>NaN</td>\n",
       "      <td>NaN</td>\n",
       "      <td>NaN</td>\n",
       "    </tr>\n",
       "    <tr>\n",
       "      <th>FAMI_DVD</th>\n",
       "      <td>NaN</td>\n",
       "      <td>NaN</td>\n",
       "      <td>NaN</td>\n",
       "    </tr>\n",
       "    <tr>\n",
       "      <th>FAMI_MICROONDAS</th>\n",
       "      <td>NaN</td>\n",
       "      <td>NaN</td>\n",
       "      <td>NaN</td>\n",
       "    </tr>\n",
       "    <tr>\n",
       "      <th>FAMI_AUTOMOVIL</th>\n",
       "      <td>NaN</td>\n",
       "      <td>NaN</td>\n",
       "      <td>NaN</td>\n",
       "    </tr>\n",
       "    <tr>\n",
       "      <th>FAMI_INGRESO_FMILIAR_MENSUAL</th>\n",
       "      <td>NaN</td>\n",
       "      <td>NaN</td>\n",
       "      <td>NaN</td>\n",
       "    </tr>\n",
       "    <tr>\n",
       "      <th>ESTU_TRABAJA</th>\n",
       "      <td>NaN</td>\n",
       "      <td>NaN</td>\n",
       "      <td>NaN</td>\n",
       "    </tr>\n",
       "    <tr>\n",
       "      <th>ESTU_HORAS_TRABAJA</th>\n",
       "      <td>NaN</td>\n",
       "      <td>NaN</td>\n",
       "      <td>NaN</td>\n",
       "    </tr>\n",
       "    <tr>\n",
       "      <th>PUNT_LENGUAJE</th>\n",
       "      <td>44</td>\n",
       "      <td>42</td>\n",
       "      <td>42</td>\n",
       "    </tr>\n",
       "    <tr>\n",
       "      <th>PUNT_MATEMATICAS</th>\n",
       "      <td>20</td>\n",
       "      <td>26</td>\n",
       "      <td>45</td>\n",
       "    </tr>\n",
       "    <tr>\n",
       "      <th>PUNT_C_SOCIALES</th>\n",
       "      <td>43</td>\n",
       "      <td>29</td>\n",
       "      <td>29</td>\n",
       "    </tr>\n",
       "    <tr>\n",
       "      <th>PUNT_FILOSOFIA</th>\n",
       "      <td>32</td>\n",
       "      <td>25</td>\n",
       "      <td>35</td>\n",
       "    </tr>\n",
       "    <tr>\n",
       "      <th>PUNT_BIOLOGIA</th>\n",
       "      <td>43</td>\n",
       "      <td>36</td>\n",
       "      <td>31</td>\n",
       "    </tr>\n",
       "    <tr>\n",
       "      <th>PUNT_QUIMICA</th>\n",
       "      <td>35</td>\n",
       "      <td>40</td>\n",
       "      <td>45</td>\n",
       "    </tr>\n",
       "    <tr>\n",
       "      <th>PUNT_FISICA</th>\n",
       "      <td>27</td>\n",
       "      <td>44</td>\n",
       "      <td>44</td>\n",
       "    </tr>\n",
       "    <tr>\n",
       "      <th>PUNT_INGLES</th>\n",
       "      <td>38</td>\n",
       "      <td>27</td>\n",
       "      <td>27</td>\n",
       "    </tr>\n",
       "    <tr>\n",
       "      <th>DESEMP_INGLES</th>\n",
       "      <td>A-</td>\n",
       "      <td>A-</td>\n",
       "      <td>A-</td>\n",
       "    </tr>\n",
       "    <tr>\n",
       "      <th>NOMBRE_COMP_FLEXIBLE</th>\n",
       "      <td>PROFUNDIZACIÓN EN LENGUAJE</td>\n",
       "      <td>VIOLENCIA Y SOCIEDAD</td>\n",
       "      <td>VIOLENCIA Y SOCIEDAD</td>\n",
       "    </tr>\n",
       "    <tr>\n",
       "      <th>PUNT_COMP_FLEXIBLE</th>\n",
       "      <td>5</td>\n",
       "      <td>48</td>\n",
       "      <td>34</td>\n",
       "    </tr>\n",
       "    <tr>\n",
       "      <th>DESEMP_COMP_FLEXIBLE</th>\n",
       "      <td>I</td>\n",
       "      <td>NaN</td>\n",
       "      <td>NaN</td>\n",
       "    </tr>\n",
       "    <tr>\n",
       "      <th>ESTU_PUESTO</th>\n",
       "      <td>959</td>\n",
       "      <td>965</td>\n",
       "      <td>860</td>\n",
       "    </tr>\n",
       "  </tbody>\n",
       "</table>\n",
       "<p>114 rows × 3 columns</p>\n",
       "</div>"
      ],
      "text/plain": [
       "                                                        0  \\\n",
       "ESTU_CONSECUTIVO                       SABER1120122000001   \n",
       "PERIODO                                             20122   \n",
       "ESTU_EDAD                                              18   \n",
       "ESTU_TIPO_DOCUMENTO                                     C   \n",
       "ESTU_PAIS_RESIDE                                       CO   \n",
       "ESTU_GENERO                                             F   \n",
       "ESTU_NACIMIENTO_DIA                                     4   \n",
       "ESTU_NACIMIENTO_MES                                     1   \n",
       "ESTU_NACIMIENTO_ANNO                                 1994   \n",
       "ESTU_ETNIA                                             99   \n",
       "ESTU_LIMITA_BAJAVISION                                NaN   \n",
       "ESTU_LIMITA_SORDOCEGUERA                              NaN   \n",
       "ESTU_LIMITA_COGNITIVA                                 NaN   \n",
       "ESTU_LIMITA_INVIDENTE                                 NaN   \n",
       "ESTU_LIMITA_MOTRIZ                                    NaN   \n",
       "ESTU_LIMITA_SORDOINTERPRETE                           NaN   \n",
       "ESTU_LIMITA_SORDONOINTERPRETE                         NaN   \n",
       "ESTU_COD_RESIDE_MCPIO                                5001   \n",
       "ESTU_RESIDE_MCPIO                                MEDELLIN   \n",
       "ESTU_RESIDE_DEPTO                               ANTIOQUIA   \n",
       "ESTU_ZONA_RESIDE                                        6   \n",
       "ESTU_AREA_RESIDE                                      NaN   \n",
       "IND_COD_ICFES_TERMINO                               46912   \n",
       "COLE_COD_ICFES                                      46912   \n",
       "COLE_COD_DANE_INSTITUCION                     1.05001e+11   \n",
       "COLE_NOMBRE_SEDE                      INST EDUC SAN PABLO   \n",
       "COLE_CALENDARIO                                         A   \n",
       "COLE_GENERO                                             X   \n",
       "COLE_NATURALEZA                                         O   \n",
       "COLE_BILINGUE                                           0   \n",
       "...                                                   ...   \n",
       "FAMI_NIVEL_SISBEN                                     NaN   \n",
       "FAMI_PISOSHOGAR                                       NaN   \n",
       "FAMI_PERSONAS_HOGAR                                   NaN   \n",
       "FAMI_TELEFONO_FIJO                                    NaN   \n",
       "FAMI_CELULAR                                          NaN   \n",
       "FAMI_INTERNET                                         NaN   \n",
       "FAMI_SERVICIO_TELEVISION                              NaN   \n",
       "FAMI_COMPUTADOR                                       NaN   \n",
       "FAMI_LAVADORA                                         NaN   \n",
       "FAMI_NEVERA                                           NaN   \n",
       "FAMI_HORNO                                            NaN   \n",
       "FAMI_DVD                                              NaN   \n",
       "FAMI_MICROONDAS                                       NaN   \n",
       "FAMI_AUTOMOVIL                                        NaN   \n",
       "FAMI_INGRESO_FMILIAR_MENSUAL                          NaN   \n",
       "ESTU_TRABAJA                                          NaN   \n",
       "ESTU_HORAS_TRABAJA                                    NaN   \n",
       "PUNT_LENGUAJE                                          44   \n",
       "PUNT_MATEMATICAS                                       20   \n",
       "PUNT_C_SOCIALES                                        43   \n",
       "PUNT_FILOSOFIA                                         32   \n",
       "PUNT_BIOLOGIA                                          43   \n",
       "PUNT_QUIMICA                                           35   \n",
       "PUNT_FISICA                                            27   \n",
       "PUNT_INGLES                                            38   \n",
       "DESEMP_INGLES                                          A-   \n",
       "NOMBRE_COMP_FLEXIBLE           PROFUNDIZACIÓN EN LENGUAJE   \n",
       "PUNT_COMP_FLEXIBLE                                      5   \n",
       "DESEMP_COMP_FLEXIBLE                                    I   \n",
       "ESTU_PUESTO                                           959   \n",
       "\n",
       "                                                  1                     2  \n",
       "ESTU_CONSECUTIVO                 SABER1120122000002    SABER1120122000003  \n",
       "PERIODO                                       20122                 20122  \n",
       "ESTU_EDAD                                        18                    17  \n",
       "ESTU_TIPO_DOCUMENTO                               T                     T  \n",
       "ESTU_PAIS_RESIDE                                 CO                    CO  \n",
       "ESTU_GENERO                                       F                     F  \n",
       "ESTU_NACIMIENTO_DIA                              11                    30  \n",
       "ESTU_NACIMIENTO_MES                               6                    11  \n",
       "ESTU_NACIMIENTO_ANNO                           1994                  1994  \n",
       "ESTU_ETNIA                                       99                    99  \n",
       "ESTU_LIMITA_BAJAVISION                          NaN                   NaN  \n",
       "ESTU_LIMITA_SORDOCEGUERA                        NaN                   NaN  \n",
       "ESTU_LIMITA_COGNITIVA                           NaN                   NaN  \n",
       "ESTU_LIMITA_INVIDENTE                           NaN                   NaN  \n",
       "ESTU_LIMITA_MOTRIZ                              NaN                   NaN  \n",
       "ESTU_LIMITA_SORDOINTERPRETE                     NaN                   NaN  \n",
       "ESTU_LIMITA_SORDONOINTERPRETE                   NaN                   NaN  \n",
       "ESTU_COD_RESIDE_MCPIO                          5001                  5001  \n",
       "ESTU_RESIDE_MCPIO                          MEDELLIN              MEDELLIN  \n",
       "ESTU_RESIDE_DEPTO                         ANTIOQUIA             ANTIOQUIA  \n",
       "ESTU_ZONA_RESIDE                                  6                     6  \n",
       "ESTU_AREA_RESIDE                                NaN                   NaN  \n",
       "IND_COD_ICFES_TERMINO                         46912                 46912  \n",
       "COLE_COD_ICFES                                46912                 46912  \n",
       "COLE_COD_DANE_INSTITUCION               1.05001e+11           1.05001e+11  \n",
       "COLE_NOMBRE_SEDE                INST EDUC SAN PABLO   INST EDUC SAN PABLO  \n",
       "COLE_CALENDARIO                                   A                     A  \n",
       "COLE_GENERO                                       X                     X  \n",
       "COLE_NATURALEZA                                   O                     O  \n",
       "COLE_BILINGUE                                     0                     0  \n",
       "...                                             ...                   ...  \n",
       "FAMI_NIVEL_SISBEN                               NaN                   NaN  \n",
       "FAMI_PISOSHOGAR                                 NaN                   NaN  \n",
       "FAMI_PERSONAS_HOGAR                             NaN                   NaN  \n",
       "FAMI_TELEFONO_FIJO                              NaN                   NaN  \n",
       "FAMI_CELULAR                                    NaN                   NaN  \n",
       "FAMI_INTERNET                                   NaN                   NaN  \n",
       "FAMI_SERVICIO_TELEVISION                        NaN                   NaN  \n",
       "FAMI_COMPUTADOR                                 NaN                   NaN  \n",
       "FAMI_LAVADORA                                   NaN                   NaN  \n",
       "FAMI_NEVERA                                     NaN                   NaN  \n",
       "FAMI_HORNO                                      NaN                   NaN  \n",
       "FAMI_DVD                                        NaN                   NaN  \n",
       "FAMI_MICROONDAS                                 NaN                   NaN  \n",
       "FAMI_AUTOMOVIL                                  NaN                   NaN  \n",
       "FAMI_INGRESO_FMILIAR_MENSUAL                    NaN                   NaN  \n",
       "ESTU_TRABAJA                                    NaN                   NaN  \n",
       "ESTU_HORAS_TRABAJA                              NaN                   NaN  \n",
       "PUNT_LENGUAJE                                    42                    42  \n",
       "PUNT_MATEMATICAS                                 26                    45  \n",
       "PUNT_C_SOCIALES                                  29                    29  \n",
       "PUNT_FILOSOFIA                                   25                    35  \n",
       "PUNT_BIOLOGIA                                    36                    31  \n",
       "PUNT_QUIMICA                                     40                    45  \n",
       "PUNT_FISICA                                      44                    44  \n",
       "PUNT_INGLES                                      27                    27  \n",
       "DESEMP_INGLES                                    A-                    A-  \n",
       "NOMBRE_COMP_FLEXIBLE           VIOLENCIA Y SOCIEDAD  VIOLENCIA Y SOCIEDAD  \n",
       "PUNT_COMP_FLEXIBLE                               48                    34  \n",
       "DESEMP_COMP_FLEXIBLE                            NaN                   NaN  \n",
       "ESTU_PUESTO                                     965                   860  \n",
       "\n",
       "[114 rows x 3 columns]"
      ]
     },
     "execution_count": 4,
     "metadata": {},
     "output_type": "execute_result"
    }
   ],
   "source": [
    "data_2012_2.head(3).T"
   ]
  },
  {
   "cell_type": "code",
   "execution_count": 5,
   "metadata": {
    "collapsed": true
   },
   "outputs": [],
   "source": [
    "data_2012_2 = data_2012_2.drop(['ESTU_CONSECUTIVO', 'PERIODO', 'ESTU_TIPO_DOCUMENTO', 'ESTU_COD_RESIDE_MCPIO',\n",
    "                               'COLE_NOMBRE_SEDE', 'ESTU_IES_COD_MPIO_DESEADA', 'ESTU_IES_DESEADA_NOMBRE', \n",
    "                                'ESTU_COD_MCPIO_PRESENTACION', 'ESTU_EXAM_NOMBREEXAMEN'], axis=1)"
   ]
  },
  {
   "cell_type": "code",
   "execution_count": 6,
   "metadata": {
    "collapsed": false,
    "scrolled": true
   },
   "outputs": [
    {
     "name": "stdout",
     "output_type": "stream",
     "text": [
      "Float64Index([ 9.0, 10.0, 11.0, 12.0, 13.0, 14.0, 15.0, 16.0, 17.0, 18.0, 19.0,\n",
      "              20.0, 21.0, 22.0, 23.0, 24.0, 25.0, 26.0, 27.0, 28.0, 29.0, 30.0,\n",
      "              31.0, 32.0, 33.0, 34.0, 35.0, 36.0, 37.0, 38.0, 39.0, 40.0, 41.0,\n",
      "              42.0, 43.0, 44.0, 45.0, 46.0, 47.0, 48.0, 49.0, 50.0, 51.0, 52.0,\n",
      "              53.0, 54.0, 55.0, 56.0, 57.0, 58.0, 59.0, 60.0, 61.0, 62.0, 63.0,\n",
      "              64.0, 65.0, 66.0, 67.0, 68.0, 69.0, 70.0, 71.0, 72.0, 73.0, 74.0,\n",
      "              75.0, 76.0, 77.0, 78.0, 79.0, 80.0, 82.0],\n",
      "             dtype='float64')\n",
      "9       4099\n",
      "10      1415\n",
      "11         8\n",
      "12       125\n",
      "13       256\n",
      "14      2530\n",
      "15     50979\n",
      "16    222869\n",
      "17    140980\n",
      "18     66228\n",
      "19     27311\n",
      "20     12290\n",
      "21      6776\n",
      "22      4557\n",
      "23      3422\n",
      "24      2662\n",
      "25      2622\n",
      "26      2553\n",
      "27      2265\n",
      "28      1907\n",
      "29      1733\n",
      "30      1542\n",
      "31      1436\n",
      "32      1318\n",
      "33      1285\n",
      "34      1166\n",
      "35      1082\n",
      "36       964\n",
      "37       951\n",
      "38       803\n",
      "       ...  \n",
      "52       219\n",
      "53       178\n",
      "54       151\n",
      "55       139\n",
      "56       105\n",
      "57        96\n",
      "58        70\n",
      "59        64\n",
      "60        49\n",
      "61        32\n",
      "62        36\n",
      "63        26\n",
      "64        22\n",
      "65        16\n",
      "66        15\n",
      "67        24\n",
      "68        10\n",
      "69         6\n",
      "70         7\n",
      "71        12\n",
      "72         5\n",
      "73         2\n",
      "74         3\n",
      "75         2\n",
      "76         1\n",
      "77         1\n",
      "78         2\n",
      "79         2\n",
      "80         4\n",
      "82         2\n",
      "Name: ESTU_EDAD, dtype: int64\n",
      "Elementos null/NaN 1\n",
      "__________________\n",
      "Elementos diferentes de null/NaN: 575645\n",
      "__________________\n",
      "(575645,)\n",
      "None\n"
     ]
    }
   ],
   "source": [
    "c = 'ESTU_EDAD'\n",
    "print(data_2012_2[c].value_counts().sort_index().index)\n",
    "print(data_2012_2[c].value_counts().sort_index())\n",
    "print(missing_data(data_2012_2[c]))"
   ]
  },
  {
   "cell_type": "code",
   "execution_count": 7,
   "metadata": {
    "collapsed": false
   },
   "outputs": [],
   "source": [
    "idx = data_2012_2[data_2012_2[c].isnull()].index\n",
    "data_2012_2 = data_2012_2.drop(idx)"
   ]
  },
  {
   "cell_type": "code",
   "execution_count": 8,
   "metadata": {
    "collapsed": false,
    "scrolled": true
   },
   "outputs": [
    {
     "name": "stdout",
     "output_type": "stream",
     "text": [
      "Index(['AR', 'AW', 'BO', 'BR', 'CH', 'CL', 'CN', 'CO', 'CR', 'CU', 'DE', 'EC',\n",
      "       'ES', 'GT', 'HN', 'IT', 'JM', 'MX', 'NO', 'PA', 'PE', 'SV', 'TW', 'US',\n",
      "       'VE', 'ZA'],\n",
      "      dtype='object')\n",
      "AR         3\n",
      "AW         2\n",
      "BO         1\n",
      "BR        10\n",
      "CH         1\n",
      "CL         5\n",
      "CN         4\n",
      "CO    575403\n",
      "CR         1\n",
      "CU         3\n",
      "DE         2\n",
      "EC         8\n",
      "ES         1\n",
      "GT         2\n",
      "HN         2\n",
      "IT         1\n",
      "JM         1\n",
      "MX         4\n",
      "NO         1\n",
      "PA         4\n",
      "PE        11\n",
      "SV         1\n",
      "TW         1\n",
      "US        12\n",
      "VE        38\n",
      "ZA         1\n",
      "Name: ESTU_PAIS_RESIDE, dtype: int64\n",
      "Elementos null/NaN 122\n",
      "__________________\n",
      "Elementos diferentes de null/NaN: 575523\n",
      "__________________\n",
      "(575523,)\n",
      "None\n"
     ]
    }
   ],
   "source": [
    "c = 'ESTU_PAIS_RESIDE'\n",
    "print(data_2012_2[c].value_counts().sort_index().index)\n",
    "print(data_2012_2[c].value_counts().sort_index())\n",
    "print(missing_data(data_2012_2[c]))"
   ]
  },
  {
   "cell_type": "code",
   "execution_count": 9,
   "metadata": {
    "collapsed": false
   },
   "outputs": [
    {
     "name": "stdout",
     "output_type": "stream",
     "text": [
      "cant null antes: 122\n",
      "cant null despues: 0\n"
     ]
    }
   ],
   "source": [
    "Do_resamples(data_2012_2, c, str)"
   ]
  },
  {
   "cell_type": "code",
   "execution_count": 10,
   "metadata": {
    "collapsed": false
   },
   "outputs": [
    {
     "name": "stdout",
     "output_type": "stream",
     "text": [
      "Index(['F', 'M'], dtype='object')\n",
      "F    314514\n",
      "M    258466\n",
      "Name: ESTU_GENERO, dtype: int64\n",
      "Elementos null/NaN 2665\n",
      "__________________\n",
      "Elementos diferentes de null/NaN: 572980\n",
      "__________________\n",
      "(572980,)\n",
      "None\n"
     ]
    }
   ],
   "source": [
    "c = 'ESTU_GENERO'\n",
    "print(data_2012_2[c].value_counts().sort_index().index)\n",
    "print(data_2012_2[c].value_counts().sort_index())\n",
    "print(missing_data(data_2012_2[c]))"
   ]
  },
  {
   "cell_type": "code",
   "execution_count": 11,
   "metadata": {
    "collapsed": false
   },
   "outputs": [
    {
     "name": "stdout",
     "output_type": "stream",
     "text": [
      "cant null antes: 2665\n",
      "cant null despues: 0\n"
     ]
    }
   ],
   "source": [
    "Do_resamples(data_2012_2, c, str)"
   ]
  },
  {
   "cell_type": "code",
   "execution_count": 12,
   "metadata": {
    "collapsed": false,
    "scrolled": true
   },
   "outputs": [
    {
     "name": "stdout",
     "output_type": "stream",
     "text": [
      "Float64Index([ 1.0,  2.0,  3.0,  4.0,  5.0,  6.0,  7.0,  8.0,  9.0, 10.0, 11.0,\n",
      "              12.0, 13.0, 14.0, 15.0, 16.0, 17.0, 18.0, 19.0, 20.0, 21.0, 22.0,\n",
      "              23.0, 24.0, 25.0, 26.0, 27.0, 28.0, 29.0, 30.0, 31.0],\n",
      "             dtype='float64')\n",
      "1     19009\n",
      "2     19214\n",
      "3     19045\n",
      "4     18969\n",
      "5     19446\n",
      "6     18696\n",
      "7     18724\n",
      "8     18938\n",
      "9     18719\n",
      "10    19412\n",
      "11    18700\n",
      "12    19326\n",
      "13    18635\n",
      "14    18368\n",
      "15    19208\n",
      "16    18945\n",
      "17    18683\n",
      "18    18860\n",
      "19    18340\n",
      "20    19288\n",
      "21    18206\n",
      "22    18732\n",
      "23    18581\n",
      "24    19129\n",
      "25    18755\n",
      "26    18594\n",
      "27    18762\n",
      "28    18821\n",
      "29    17343\n",
      "30    17070\n",
      "31    10445\n",
      "Name: ESTU_NACIMIENTO_DIA, dtype: int64\n",
      "Elementos null/NaN 2682\n",
      "__________________\n",
      "Elementos diferentes de null/NaN: 572963\n",
      "__________________\n",
      "(572963,)\n",
      "None\n"
     ]
    }
   ],
   "source": [
    "c = 'ESTU_NACIMIENTO_DIA'\n",
    "print(data_2012_2[c].value_counts().sort_index().index)\n",
    "print(data_2012_2[c].value_counts().sort_index())\n",
    "print(missing_data(data_2012_2[c]))"
   ]
  },
  {
   "cell_type": "code",
   "execution_count": 13,
   "metadata": {
    "collapsed": false
   },
   "outputs": [
    {
     "name": "stdout",
     "output_type": "stream",
     "text": [
      "Float64Index([1.0, 2.0, 3.0, 4.0, 5.0, 6.0, 7.0, 8.0, 9.0, 10.0, 11.0, 12.0], dtype='float64')\n",
      "1     46982\n",
      "2     42741\n",
      "3     47312\n",
      "4     45622\n",
      "5     47698\n",
      "6     45721\n",
      "7     47394\n",
      "8     48864\n",
      "9     50786\n",
      "10    49847\n",
      "11    48383\n",
      "12    51613\n",
      "Name: ESTU_NACIMIENTO_MES, dtype: int64\n",
      "Elementos null/NaN 2682\n",
      "__________________\n",
      "Elementos diferentes de null/NaN: 572963\n",
      "__________________\n",
      "(572963,)\n",
      "None\n"
     ]
    }
   ],
   "source": [
    "c = 'ESTU_NACIMIENTO_MES'\n",
    "print(data_2012_2[c].value_counts().sort_index().index)\n",
    "print(data_2012_2[c].value_counts().sort_index())\n",
    "print(missing_data(data_2012_2[c]))"
   ]
  },
  {
   "cell_type": "code",
   "execution_count": 14,
   "metadata": {
    "collapsed": false,
    "scrolled": true
   },
   "outputs": [
    {
     "name": "stdout",
     "output_type": "stream",
     "text": [
      "Float64Index([  20.0,   23.0, 1930.0, 1931.0, 1932.0, 1933.0, 1935.0, 1936.0,\n",
      "              1937.0, 1938.0, 1939.0, 1940.0, 1941.0, 1942.0, 1943.0, 1944.0,\n",
      "              1945.0, 1946.0, 1947.0, 1948.0, 1949.0, 1950.0, 1951.0, 1952.0,\n",
      "              1953.0, 1954.0, 1955.0, 1956.0, 1957.0, 1958.0, 1959.0, 1960.0,\n",
      "              1961.0, 1962.0, 1963.0, 1964.0, 1965.0, 1966.0, 1967.0, 1968.0,\n",
      "              1969.0, 1970.0, 1971.0, 1972.0, 1973.0, 1974.0, 1975.0, 1976.0,\n",
      "              1977.0, 1978.0, 1979.0, 1980.0, 1981.0, 1982.0, 1983.0, 1984.0,\n",
      "              1985.0, 1986.0, 1987.0, 1988.0, 1989.0, 1990.0, 1991.0, 1992.0,\n",
      "              1993.0, 1994.0, 1995.0, 1996.0, 1997.0, 1998.0, 1999.0, 2000.0,\n",
      "              2001.0, 2002.0, 2003.0, 2004.0, 2005.0],\n",
      "             dtype='float64')\n",
      "20           1\n",
      "23           1\n",
      "1930         2\n",
      "1931         2\n",
      "1932         4\n",
      "1933         1\n",
      "1935         1\n",
      "1936         1\n",
      "1937         2\n",
      "1938         4\n",
      "1939         3\n",
      "1940        10\n",
      "1941         7\n",
      "1942         8\n",
      "1943         7\n",
      "1944        13\n",
      "1945        25\n",
      "1946        16\n",
      "1947        21\n",
      "1948        20\n",
      "1949        34\n",
      "1950        31\n",
      "1951        45\n",
      "1952        54\n",
      "1953        67\n",
      "1954        85\n",
      "1955       104\n",
      "1956       124\n",
      "1957       146\n",
      "1958       161\n",
      "         ...  \n",
      "1976      1028\n",
      "1977      1141\n",
      "1978      1214\n",
      "1979      1311\n",
      "1980      1392\n",
      "1981      1513\n",
      "1982      1622\n",
      "1983      1793\n",
      "1984      2167\n",
      "1985      2383\n",
      "1986      2586\n",
      "1987      2617\n",
      "1988      2974\n",
      "1989      3996\n",
      "1990      5614\n",
      "1991      9276\n",
      "1992     19037\n",
      "1993     46589\n",
      "1994    108358\n",
      "1995    208147\n",
      "1996    123345\n",
      "1997      9169\n",
      "1998       438\n",
      "1999       187\n",
      "2000        10\n",
      "2001         6\n",
      "2002      5241\n",
      "2003        20\n",
      "2004         7\n",
      "2005         2\n",
      "Name: ESTU_NACIMIENTO_ANNO, dtype: int64\n",
      "Elementos null/NaN 2682\n",
      "__________________\n",
      "Elementos diferentes de null/NaN: 572963\n",
      "__________________\n",
      "(572963,)\n",
      "None\n"
     ]
    }
   ],
   "source": [
    "c = 'ESTU_NACIMIENTO_ANNO'\n",
    "print(data_2012_2[c].value_counts().sort_index().index)\n",
    "print(data_2012_2[c].value_counts().sort_index())\n",
    "print(missing_data(data_2012_2[c]))"
   ]
  },
  {
   "cell_type": "code",
   "execution_count": 15,
   "metadata": {
    "collapsed": false
   },
   "outputs": [],
   "source": [
    "for i in data_2012_2[c].value_counts().sort_index().index:\n",
    "    if i < 1930:\n",
    "        data_2012_2[c] = data_2012_2[c].replace(i, np.nan)\n",
    "    elif i > 2003:\n",
    "        data_2012_2[c] = data_2012_2[c].replace(i, np.nan)\n",
    "\n",
    "anno = data_2012_2[data_2012_2[c].isnull()].index\n",
    "data_2012_2 = data_2012_2.drop(anno)"
   ]
  },
  {
   "cell_type": "code",
   "execution_count": 16,
   "metadata": {
    "collapsed": false,
    "scrolled": true
   },
   "outputs": [
    {
     "name": "stdout",
     "output_type": "stream",
     "text": [
      "Float64Index([ 1.0,  2.0,  3.0,  4.0,  5.0,  6.0,  7.0,  8.0,  9.0, 10.0, 11.0,\n",
      "              12.0, 13.0, 14.0, 15.0, 16.0, 17.0, 99.0],\n",
      "             dtype='float64')\n",
      "1     20338\n",
      "2         3\n",
      "3      1838\n",
      "4       191\n",
      "5        92\n",
      "6       980\n",
      "7       248\n",
      "8       601\n",
      "9      1455\n",
      "10     3198\n",
      "11     1575\n",
      "12      149\n",
      "13      242\n",
      "14       50\n",
      "15       82\n",
      "16      132\n",
      "17      175\n",
      "99     8402\n",
      "Name: ESTU_ETNIA, dtype: int64\n",
      "Elementos null/NaN 533201\n",
      "__________________\n",
      "Elementos diferentes de null/NaN: 39751\n",
      "__________________\n",
      "(39751,)\n",
      "None\n"
     ]
    }
   ],
   "source": [
    "c = 'ESTU_ETNIA'\n",
    "print(data_2012_2[c].value_counts().sort_index().index)\n",
    "print(data_2012_2[c].value_counts().sort_index())\n",
    "print(missing_data(data_2012_2[c]))"
   ]
  },
  {
   "cell_type": "code",
   "execution_count": 17,
   "metadata": {
    "collapsed": true
   },
   "outputs": [],
   "source": [
    "data_2012_2[c].fillna(99, inplace=True)"
   ]
  },
  {
   "cell_type": "code",
   "execution_count": 18,
   "metadata": {
    "collapsed": false
   },
   "outputs": [
    {
     "name": "stdout",
     "output_type": "stream",
     "text": [
      "Float64Index([], dtype='float64')\n",
      "Series([], Name: ESTU_LIMITA_BAJAVISION, dtype: int64)\n",
      "Elementos null/NaN 572952\n",
      "__________________\n",
      "Elementos diferentes de null/NaN: 0\n",
      "__________________\n",
      "(0,)\n",
      "None\n"
     ]
    }
   ],
   "source": [
    "c = 'ESTU_LIMITA_BAJAVISION'\n",
    "print(data_2012_2[c].value_counts().sort_index().index)\n",
    "print(data_2012_2[c].value_counts().sort_index())\n",
    "print(missing_data(data_2012_2[c]))"
   ]
  },
  {
   "cell_type": "code",
   "execution_count": 19,
   "metadata": {
    "collapsed": true
   },
   "outputs": [],
   "source": [
    "data_2012_2 = data_2012_2.drop([c], axis=1)"
   ]
  },
  {
   "cell_type": "code",
   "execution_count": 20,
   "metadata": {
    "collapsed": false
   },
   "outputs": [
    {
     "name": "stdout",
     "output_type": "stream",
     "text": [
      "Index(['C'], dtype='object')\n",
      "C    23\n",
      "Name: ESTU_LIMITA_SORDOCEGUERA, dtype: int64\n",
      "Elementos null/NaN 572929\n",
      "__________________\n",
      "Elementos diferentes de null/NaN: 23\n",
      "__________________\n",
      "(23,)\n",
      "None\n"
     ]
    }
   ],
   "source": [
    "c = 'ESTU_LIMITA_SORDOCEGUERA'\n",
    "print(data_2012_2[c].value_counts().sort_index().index)\n",
    "print(data_2012_2[c].value_counts().sort_index())\n",
    "print(missing_data(data_2012_2[c]))"
   ]
  },
  {
   "cell_type": "code",
   "execution_count": 21,
   "metadata": {
    "collapsed": true
   },
   "outputs": [],
   "source": [
    "data_2012_2 = data_2012_2.drop([c], axis=1)"
   ]
  },
  {
   "cell_type": "code",
   "execution_count": 22,
   "metadata": {
    "collapsed": false
   },
   "outputs": [
    {
     "name": "stdout",
     "output_type": "stream",
     "text": [
      "Index(['G'], dtype='object')\n",
      "G    523\n",
      "Name: ESTU_LIMITA_COGNITIVA, dtype: int64\n",
      "Elementos null/NaN 572429\n",
      "__________________\n",
      "Elementos diferentes de null/NaN: 523\n",
      "__________________\n",
      "(523,)\n",
      "None\n"
     ]
    }
   ],
   "source": [
    "c = 'ESTU_LIMITA_COGNITIVA'\n",
    "print(data_2012_2[c].value_counts().sort_index().index)\n",
    "print(data_2012_2[c].value_counts().sort_index())\n",
    "print(missing_data(data_2012_2[c]))"
   ]
  },
  {
   "cell_type": "code",
   "execution_count": 23,
   "metadata": {
    "collapsed": true
   },
   "outputs": [],
   "source": [
    "data_2012_2 = data_2012_2.drop([c], axis=1)"
   ]
  },
  {
   "cell_type": "code",
   "execution_count": 24,
   "metadata": {
    "collapsed": false
   },
   "outputs": [
    {
     "name": "stdout",
     "output_type": "stream",
     "text": [
      "Index(['I'], dtype='object')\n",
      "I    119\n",
      "Name: ESTU_LIMITA_INVIDENTE, dtype: int64\n",
      "Elementos null/NaN 572833\n",
      "__________________\n",
      "Elementos diferentes de null/NaN: 119\n",
      "__________________\n",
      "(119,)\n",
      "None\n"
     ]
    }
   ],
   "source": [
    "c = 'ESTU_LIMITA_INVIDENTE'\n",
    "print(data_2012_2[c].value_counts().sort_index().index)\n",
    "print(data_2012_2[c].value_counts().sort_index())\n",
    "print(missing_data(data_2012_2[c]))"
   ]
  },
  {
   "cell_type": "code",
   "execution_count": 25,
   "metadata": {
    "collapsed": true
   },
   "outputs": [],
   "source": [
    "data_2012_2 = data_2012_2.drop([c], axis=1)"
   ]
  },
  {
   "cell_type": "code",
   "execution_count": 26,
   "metadata": {
    "collapsed": false
   },
   "outputs": [
    {
     "name": "stdout",
     "output_type": "stream",
     "text": [
      "Index(['M'], dtype='object')\n",
      "M    596\n",
      "Name: ESTU_LIMITA_MOTRIZ, dtype: int64\n",
      "Elementos null/NaN 572356\n",
      "__________________\n",
      "Elementos diferentes de null/NaN: 596\n",
      "__________________\n",
      "(596,)\n",
      "None\n"
     ]
    }
   ],
   "source": [
    "c = 'ESTU_LIMITA_MOTRIZ'\n",
    "print(data_2012_2[c].value_counts().sort_index().index)\n",
    "print(data_2012_2[c].value_counts().sort_index())\n",
    "print(missing_data(data_2012_2[c]))"
   ]
  },
  {
   "cell_type": "code",
   "execution_count": 27,
   "metadata": {
    "collapsed": true
   },
   "outputs": [],
   "source": [
    "data_2012_2 = data_2012_2.drop([c], axis=1)"
   ]
  },
  {
   "cell_type": "code",
   "execution_count": 28,
   "metadata": {
    "collapsed": false
   },
   "outputs": [
    {
     "name": "stdout",
     "output_type": "stream",
     "text": [
      "Index(['R'], dtype='object')\n",
      "R    396\n",
      "Name: ESTU_LIMITA_SORDOINTERPRETE, dtype: int64\n",
      "Elementos null/NaN 572556\n",
      "__________________\n",
      "Elementos diferentes de null/NaN: 396\n",
      "__________________\n",
      "(396,)\n",
      "None\n"
     ]
    }
   ],
   "source": [
    "c = 'ESTU_LIMITA_SORDOINTERPRETE'\n",
    "print(data_2012_2[c].value_counts().sort_index().index)\n",
    "print(data_2012_2[c].value_counts().sort_index())\n",
    "print(missing_data(data_2012_2[c]))"
   ]
  },
  {
   "cell_type": "code",
   "execution_count": 29,
   "metadata": {
    "collapsed": true
   },
   "outputs": [],
   "source": [
    "data_2012_2 = data_2012_2.drop([c], axis=1)"
   ]
  },
  {
   "cell_type": "code",
   "execution_count": 30,
   "metadata": {
    "collapsed": false
   },
   "outputs": [
    {
     "name": "stdout",
     "output_type": "stream",
     "text": [
      "Index(['S'], dtype='object')\n",
      "S    154\n",
      "Name: ESTU_LIMITA_SORDONOINTERPRETE, dtype: int64\n",
      "Elementos null/NaN 572798\n",
      "__________________\n",
      "Elementos diferentes de null/NaN: 154\n",
      "__________________\n",
      "(154,)\n",
      "None\n"
     ]
    }
   ],
   "source": [
    "c = 'ESTU_LIMITA_SORDONOINTERPRETE'\n",
    "print(data_2012_2[c].value_counts().sort_index().index)\n",
    "print(data_2012_2[c].value_counts().sort_index())\n",
    "print(missing_data(data_2012_2[c]))"
   ]
  },
  {
   "cell_type": "code",
   "execution_count": 31,
   "metadata": {
    "collapsed": true
   },
   "outputs": [],
   "source": [
    "data_2012_2 = data_2012_2.drop([c], axis=1)"
   ]
  },
  {
   "cell_type": "code",
   "execution_count": 32,
   "metadata": {
    "collapsed": false,
    "scrolled": true
   },
   "outputs": [
    {
     "name": "stdout",
     "output_type": "stream",
     "text": [
      "Index(['ABEJORRAL', 'ABREGO', 'ABRIAQUI', 'ACACIAS', 'ACANDI', 'ACEVEDO',\n",
      "       'ACHI', 'AGRADO', 'AGUA DE DIOS', 'AGUACHICA',\n",
      "       ...\n",
      "       'YUMBO', 'ZAMBRANO', 'ZAPATOCA', 'ZAPAYAN', 'ZARAGOZA', 'ZARZAL',\n",
      "       'ZETAQUIRA', 'ZIPACON', 'ZIPAQUIRA', 'ZONA BANANERA'],\n",
      "      dtype='object', length=1029)\n",
      "ABEJORRAL                    205\n",
      "ABREGO                       232\n",
      "ABRIAQUI                      39\n",
      "ACACIAS                     1083\n",
      "ACANDI                        50\n",
      "ACEVEDO                      234\n",
      "ACHI                         258\n",
      "AGRADO                       143\n",
      "AGUA DE DIOS                 133\n",
      "AGUACHICA                   1037\n",
      "AGUADA                        18\n",
      "AGUADAS                      293\n",
      "AGUAZUL                      493\n",
      "AGUSTIN CODAZZI              606\n",
      "AIPE                         252\n",
      "ALBAN                         92\n",
      "ALBAN (SAN JOSE)             130\n",
      "ALBANIA                      298\n",
      "ALCALA                       167\n",
      "ALDANA                        85\n",
      "ALEJANDRIA                    51\n",
      "ALGARROBO                    167\n",
      "ALGECIRAS                    229\n",
      "ALMAGUER                     105\n",
      "ALMEIDA                       26\n",
      "ALPUJARRA                     43\n",
      "ALTAMIRA                      53\n",
      "ALTO BAUDO (PIE DE PATO)      50\n",
      "ALTOS DEL ROSARIO             88\n",
      "ALVARADO                     105\n",
      "                            ... \n",
      "VILLANUEVA                  1014\n",
      "VILLAPINZON                  297\n",
      "VILLARRICA                    75\n",
      "VILLAVICENCIO               6190\n",
      "VILLAVIEJA                    73\n",
      "VILLETA                      334\n",
      "VIOTA                        220\n",
      "VIRACACHA                     45\n",
      "VISTA HERMOSA                176\n",
      "VITERBO                      210\n",
      "YACOPI                       154\n",
      "YACUANQUER                   143\n",
      "YAGUARA                      112\n",
      "YALI                          27\n",
      "YARUMAL                      557\n",
      "YAVARATE                       6\n",
      "YOLOMBO                      230\n",
      "YONDO (CASABE)               152\n",
      "YOPAL                       2223\n",
      "YOTOCO                       156\n",
      "YUMBO                       1408\n",
      "ZAMBRANO                     140\n",
      "ZAPATOCA                     122\n",
      "ZAPAYAN                       94\n",
      "ZARAGOZA                     278\n",
      "ZARZAL                       607\n",
      "ZETAQUIRA                     63\n",
      "ZIPACON                       71\n",
      "ZIPAQUIRA                   1788\n",
      "ZONA BANANERA                709\n",
      "Name: ESTU_RESIDE_MCPIO, dtype: int64\n",
      "Elementos null/NaN 0\n",
      "__________________\n",
      "Elementos diferentes de null/NaN: 572952\n",
      "__________________\n",
      "(572952,)\n",
      "None\n"
     ]
    }
   ],
   "source": [
    "c = 'ESTU_RESIDE_MCPIO'\n",
    "print(data_2012_2[c].value_counts().sort_index().index)\n",
    "print(data_2012_2[c].value_counts().sort_index())\n",
    "print(missing_data(data_2012_2[c]))"
   ]
  },
  {
   "cell_type": "code",
   "execution_count": 33,
   "metadata": {
    "collapsed": false,
    "scrolled": true
   },
   "outputs": [
    {
     "name": "stdout",
     "output_type": "stream",
     "text": [
      "Index(['AMAZONAS', 'ANTIOQUIA', 'ARAUCA', 'ATLÁNTICO', 'BOGOTÁ', 'BOLÍVAR',\n",
      "       'BOYACÁ', 'CALDAS', 'CAQUETÁ', 'CASANARE', 'CAUCA', 'CESAR', 'CHOCÓ',\n",
      "       'CUNDINAMARCA', 'CÓRDOBA', 'GUAINÍA', 'GUAVIARE', 'HUILA', 'LA GUAJIRA',\n",
      "       'MAGDALENA', 'META', 'NARIÑO', 'NORTE SANTANDER', 'PUTUMAYO', 'QUINDÍO',\n",
      "       'RISARALDA', 'SAN ANDRÉS', 'SANTANDER', 'SUCRE', 'TOLIMA', 'VALLE',\n",
      "       'VAUPÉS', 'VICHADA'],\n",
      "      dtype='object')\n",
      "AMAZONAS             819\n",
      "ANTIOQUIA          77166\n",
      "ARAUCA              3039\n",
      "ATLÁNTICO          28356\n",
      "BOGOTÁ             97048\n",
      "BOLÍVAR            26166\n",
      "BOYACÁ             18917\n",
      "CALDAS             12800\n",
      "CAQUETÁ             4226\n",
      "CASANARE            5193\n",
      "CAUCA              13742\n",
      "CESAR              11773\n",
      "CHOCÓ               4444\n",
      "CUNDINAMARCA       36424\n",
      "CÓRDOBA            19878\n",
      "GUAINÍA              180\n",
      "GUAVIARE             951\n",
      "HUILA              14338\n",
      "LA GUAJIRA          7015\n",
      "MAGDALENA          14618\n",
      "META               11581\n",
      "NARIÑO             18007\n",
      "NORTE SANTANDER    16274\n",
      "PUTUMAYO            3894\n",
      "QUINDÍO             7390\n",
      "RISARALDA          11401\n",
      "SAN ANDRÉS           786\n",
      "SANTANDER          29696\n",
      "SUCRE              11161\n",
      "TOLIMA             17862\n",
      "VALLE              47018\n",
      "VAUPÉS               316\n",
      "VICHADA              472\n",
      "Name: ESTU_RESIDE_DEPTO, dtype: int64\n",
      "Elementos null/NaN 1\n",
      "__________________\n",
      "Elementos diferentes de null/NaN: 572951\n",
      "__________________\n",
      "(572951,)\n",
      "None\n"
     ]
    }
   ],
   "source": [
    "c = 'ESTU_RESIDE_DEPTO'\n",
    "print(data_2012_2[c].value_counts().sort_index().index)\n",
    "print(data_2012_2[c].value_counts().sort_index())\n",
    "print(missing_data(data_2012_2[c]))"
   ]
  },
  {
   "cell_type": "code",
   "execution_count": 34,
   "metadata": {
    "collapsed": true
   },
   "outputs": [],
   "source": [
    "idx = data_2012_2[data_2012_2[c].isnull()].index\n",
    "data_2012_2 = data_2012_2.drop(idx)"
   ]
  },
  {
   "cell_type": "code",
   "execution_count": 35,
   "metadata": {
    "collapsed": false
   },
   "outputs": [
    {
     "name": "stdout",
     "output_type": "stream",
     "text": [
      "Float64Index([1.0, 2.0, 3.0, 4.0, 5.0, 6.0, 7.0, 8.0, 9.0, 10.0], dtype='float64')\n",
      "1      21458\n",
      "2       7756\n",
      "3      14233\n",
      "4      50601\n",
      "5      16651\n",
      "6      12520\n",
      "7      14953\n",
      "8      26669\n",
      "9      23591\n",
      "10    384519\n",
      "Name: ESTU_ZONA_RESIDE, dtype: int64\n",
      "Elementos null/NaN 0\n",
      "__________________\n",
      "Elementos diferentes de null/NaN: 572951\n",
      "__________________\n",
      "(572951,)\n",
      "None\n"
     ]
    }
   ],
   "source": [
    "c = 'ESTU_ZONA_RESIDE'\n",
    "print(data_2012_2[c].value_counts().sort_index().index)\n",
    "print(data_2012_2[c].value_counts().sort_index())\n",
    "print(missing_data(data_2012_2[c]))"
   ]
  },
  {
   "cell_type": "code",
   "execution_count": 36,
   "metadata": {
    "collapsed": false
   },
   "outputs": [
    {
     "name": "stdout",
     "output_type": "stream",
     "text": [
      "Float64Index([1.0, 2.0], dtype='float64')\n",
      "1    448064\n",
      "2    124613\n",
      "Name: ESTU_AREA_RESIDE, dtype: int64\n",
      "Elementos null/NaN 274\n",
      "__________________\n",
      "Elementos diferentes de null/NaN: 572677\n",
      "__________________\n",
      "(572677,)\n",
      "None\n"
     ]
    }
   ],
   "source": [
    "c = 'ESTU_AREA_RESIDE'\n",
    "print(data_2012_2[c].value_counts().sort_index().index)\n",
    "print(data_2012_2[c].value_counts().sort_index())\n",
    "print(missing_data(data_2012_2[c]))"
   ]
  },
  {
   "cell_type": "code",
   "execution_count": 37,
   "metadata": {
    "collapsed": false
   },
   "outputs": [
    {
     "name": "stdout",
     "output_type": "stream",
     "text": [
      "cant null antes: 274\n",
      "cant null despues: 0\n"
     ]
    }
   ],
   "source": [
    "Do_resamples(data_2012_2, c, float)"
   ]
  },
  {
   "cell_type": "code",
   "execution_count": 38,
   "metadata": {
    "collapsed": false,
    "scrolled": true
   },
   "outputs": [
    {
     "name": "stdout",
     "output_type": "stream",
     "text": [
      "Float64Index([     0.0,      2.0,      3.0,     18.0,     42.0,     59.0,\n",
      "                  67.0,     74.0,     75.0,     77.0,\n",
      "              ...\n",
      "              620476.0, 622001.0, 627653.0, 629600.0, 631101.0, 633743.0,\n",
      "              638833.0, 647693.0, 658286.0, 999999.0],\n",
      "             dtype='float64', length=14176)\n",
      "0           65\n",
      "2          201\n",
      "3         3749\n",
      "18          12\n",
      "42           1\n",
      "59        1031\n",
      "67          38\n",
      "74           1\n",
      "75          65\n",
      "77           1\n",
      "83          31\n",
      "90           1\n",
      "91         100\n",
      "117          1\n",
      "125         93\n",
      "134          1\n",
      "139          1\n",
      "141        103\n",
      "174         99\n",
      "190         77\n",
      "208         84\n",
      "216         23\n",
      "222          1\n",
      "223          1\n",
      "226          2\n",
      "232         29\n",
      "237          1\n",
      "240         47\n",
      "257         54\n",
      "265         37\n",
      "          ... \n",
      "502732       1\n",
      "504944       1\n",
      "506543       1\n",
      "523407       1\n",
      "536870       1\n",
      "558635       1\n",
      "560623       1\n",
      "561589       1\n",
      "593376       1\n",
      "593525       1\n",
      "593632       1\n",
      "593699       3\n",
      "595108       1\n",
      "595827       1\n",
      "597955       1\n",
      "598052       1\n",
      "605303       1\n",
      "605790       1\n",
      "619148       1\n",
      "619601       1\n",
      "620476       1\n",
      "622001       1\n",
      "627653       1\n",
      "629600       1\n",
      "631101       1\n",
      "633743       1\n",
      "638833       1\n",
      "647693       1\n",
      "658286       1\n",
      "999999     717\n",
      "Name: IND_COD_ICFES_TERMINO, dtype: int64\n",
      "Elementos null/NaN 8736\n",
      "__________________\n",
      "Elementos diferentes de null/NaN: 564215\n",
      "__________________\n",
      "(564215,)\n",
      "None\n"
     ]
    }
   ],
   "source": [
    "c = 'IND_COD_ICFES_TERMINO'\n",
    "print(data_2012_2[c].value_counts().sort_index().index)\n",
    "print(data_2012_2[c].value_counts().sort_index())\n",
    "print(missing_data(data_2012_2[c]))"
   ]
  },
  {
   "cell_type": "code",
   "execution_count": 39,
   "metadata": {
    "collapsed": false
   },
   "outputs": [
    {
     "name": "stdout",
     "output_type": "stream",
     "text": [
      "cant null antes: 8736\n",
      "cant null despues: 0\n"
     ]
    }
   ],
   "source": [
    "Do_resamples(data_2012_2, c, float)"
   ]
  },
  {
   "cell_type": "code",
   "execution_count": 40,
   "metadata": {
    "collapsed": false,
    "scrolled": true
   },
   "outputs": [
    {
     "name": "stdout",
     "output_type": "stream",
     "text": [
      "Float64Index([     2.0,      3.0,     18.0,     42.0,     59.0,     67.0,\n",
      "                  75.0,     83.0,     91.0,    125.0,\n",
      "              ...\n",
      "              169110.0, 169136.0, 169144.0, 169151.0, 169169.0, 169177.0,\n",
      "              169185.0, 169193.0, 169201.0, 999999.0],\n",
      "             dtype='float64', length=13000)\n",
      "2          236\n",
      "3         1913\n",
      "18          12\n",
      "42           1\n",
      "59        1092\n",
      "67           2\n",
      "75          64\n",
      "83          31\n",
      "91         100\n",
      "125         94\n",
      "141        102\n",
      "174        100\n",
      "190         77\n",
      "208         84\n",
      "216         22\n",
      "232         29\n",
      "240         49\n",
      "257         53\n",
      "265         33\n",
      "273         44\n",
      "281         69\n",
      "315        120\n",
      "349         14\n",
      "356         41\n",
      "364         58\n",
      "372         49\n",
      "380        106\n",
      "398         28\n",
      "406         27\n",
      "422         16\n",
      "          ... \n",
      "168898      41\n",
      "168906      16\n",
      "168914       8\n",
      "168922      28\n",
      "168930      48\n",
      "168948      10\n",
      "168955       7\n",
      "168963      70\n",
      "168971       9\n",
      "168989       3\n",
      "169003      11\n",
      "169011       2\n",
      "169029       8\n",
      "169037       4\n",
      "169045      13\n",
      "169060      18\n",
      "169078      17\n",
      "169086      16\n",
      "169094       3\n",
      "169102       4\n",
      "169110      20\n",
      "169136       9\n",
      "169144       7\n",
      "169151       2\n",
      "169169       4\n",
      "169177       4\n",
      "169185       3\n",
      "169193      10\n",
      "169201      13\n",
      "999999     817\n",
      "Name: COLE_COD_ICFES, dtype: int64\n",
      "Elementos null/NaN 1068\n",
      "__________________\n",
      "Elementos diferentes de null/NaN: 571883\n",
      "__________________\n",
      "(571883,)\n",
      "None\n"
     ]
    }
   ],
   "source": [
    "c = 'COLE_COD_ICFES'\n",
    "print(data_2012_2[c].value_counts().sort_index().index)\n",
    "print(data_2012_2[c].value_counts().sort_index())\n",
    "print(missing_data(data_2012_2[c]))"
   ]
  },
  {
   "cell_type": "code",
   "execution_count": 41,
   "metadata": {
    "collapsed": false
   },
   "outputs": [
    {
     "name": "stdout",
     "output_type": "stream",
     "text": [
      "cant null antes: 3217\n",
      "cant null despues: 0\n"
     ]
    }
   ],
   "source": [
    "for i in data_2012_2[c].value_counts().sort_index().index:\n",
    "    if len(str(i))<4:\n",
    "        data_2012_2[c] = data_2012_2[c].replace(i, np.nan)\n",
    "\n",
    "Do_resamples(data_2012_2, c, float)"
   ]
  },
  {
   "cell_type": "code",
   "execution_count": 42,
   "metadata": {
    "collapsed": false,
    "scrolled": true
   },
   "outputs": [
    {
     "name": "stdout",
     "output_type": "stream",
     "text": [
      "Index([105001000108.0, 311001105391.0, 311001105863.0, 105001013340.0,\n",
      "       176001005813.0, 305001003963.0, 168001003591.0, 105154000301.0,\n",
      "       105615000236.0, 111001010910.0,\n",
      "       ...\n",
      "       276520001111.0, '163130000173', 108001003670.0, '363001000051',\n",
      "       376520007151.0, '191001000489', '105190000181', '376892000999',\n",
      "       '366001000742', '325899000443'],\n",
      "      dtype='object', length=13666)\n",
      "105001000108.0    1053\n",
      "311001105391.0     943\n",
      "311001105863.0     839\n",
      "105001013340.0     804\n",
      "176001005813.0     692\n",
      "305001003963.0     658\n",
      "168001003591.0     631\n",
      "105154000301.0     602\n",
      "105615000236.0     586\n",
      "111001010910.0     545\n",
      "313001006701.0     532\n",
      "111102000753.0     518\n",
      "111001024732.0     514\n",
      "111001011819.0     510\n",
      "166001002339.0     489\n",
      "111001019411.0     479\n",
      "111001006122.0     477\n",
      "163001002941.0     476\n",
      "305001004293.0     465\n",
      "405001018213.0     459\n",
      "115238000698.0     459\n",
      "173001000308       452\n",
      "111001076376.0     446\n",
      "141001003341.0     428\n",
      "311001004820.0     425\n",
      "152001000777.0     423\n",
      "311102000141.0     417\n",
      "125754003267.0     413\n",
      "168001002421.0     413\n",
      "141001000066.0     405\n",
      "                  ... \n",
      "215189000061         1\n",
      "217524000015         1\n",
      "225769060580         1\n",
      "199001000919         1\n",
      "163130001137         1\n",
      "111001098884         1\n",
      "311001045470.0       1\n",
      "252621000348         1\n",
      "315001001923         1\n",
      "311001037051         1\n",
      "319001004561         1\n",
      "344430001010         1\n",
      "244430002097         1\n",
      "141668000552         1\n",
      "376001001388.0       1\n",
      "325260000574         1\n",
      "166001000069         1\n",
      "308001000262.0       1\n",
      "111001015911         1\n",
      "170708000364.0       1\n",
      "276520001111.0       1\n",
      "163130000173         1\n",
      "108001003670.0       1\n",
      "363001000051         1\n",
      "376520007151.0       1\n",
      "191001000489         1\n",
      "105190000181         1\n",
      "376892000999         1\n",
      "366001000742         1\n",
      "325899000443         1\n",
      "Name: COLE_COD_DANE_INSTITUCION, dtype: int64\n",
      "Elementos null/NaN 7095\n",
      "__________________\n",
      "Elementos diferentes de null/NaN: 565856\n",
      "__________________\n",
      "(565856,)\n",
      "None\n"
     ]
    }
   ],
   "source": [
    "c = 'COLE_COD_DANE_INSTITUCION'\n",
    "print(data_2012_2[c].value_counts().index)\n",
    "print(data_2012_2[c].value_counts())\n",
    "print(missing_data(data_2012_2[c]))"
   ]
  },
  {
   "cell_type": "code",
   "execution_count": 45,
   "metadata": {
    "collapsed": false
   },
   "outputs": [
    {
     "name": "stdout",
     "output_type": "stream",
     "text": [
      "cant null antes: 7114\n",
      "cant null despues: 0\n"
     ]
    }
   ],
   "source": [
    "data_2012_2[c] = data_2012_2[c].replace('PENDIENTE', np.nan)\n",
    "for i in data_2012_2[c].value_counts().index:\n",
    "    if ' ' in str(i):\n",
    "        data_2012_2[c] = data_2012_2[c].replace(i, np.nan)\n",
    "    elif type(i) == str:\n",
    "        data_2012_2[c] = data_2012_2[c].replace(i, float(i))\n",
    "        \n",
    "Do_resamples(data_2012_2, c, float)"
   ]
  },
  {
   "cell_type": "code",
   "execution_count": 46,
   "metadata": {
    "collapsed": false
   },
   "outputs": [
    {
     "name": "stdout",
     "output_type": "stream",
     "text": [
      "Index(['A', 'B', 'F'], dtype='object')\n",
      "A    476601\n",
      "B      1861\n",
      "F     92604\n",
      "Name: COLE_CALENDARIO, dtype: int64\n",
      "Elementos null/NaN 1885\n",
      "__________________\n",
      "Elementos diferentes de null/NaN: 571066\n",
      "__________________\n",
      "(571066,)\n",
      "None\n"
     ]
    }
   ],
   "source": [
    "c = 'COLE_CALENDARIO'\n",
    "print(data_2012_2[c].value_counts().sort_index().index)\n",
    "print(data_2012_2[c].value_counts().sort_index())\n",
    "print(missing_data(data_2012_2[c]))"
   ]
  },
  {
   "cell_type": "code",
   "execution_count": 47,
   "metadata": {
    "collapsed": false
   },
   "outputs": [
    {
     "name": "stdout",
     "output_type": "stream",
     "text": [
      "cant null antes: 1885\n",
      "cant null despues: 0\n"
     ]
    }
   ],
   "source": [
    "Do_resamples(data_2012_2, c, str)"
   ]
  },
  {
   "cell_type": "code",
   "execution_count": 48,
   "metadata": {
    "collapsed": false
   },
   "outputs": [
    {
     "name": "stdout",
     "output_type": "stream",
     "text": [
      "Index(['F', 'M', 'X'], dtype='object')\n",
      "F     27308\n",
      "M      6577\n",
      "X    535032\n",
      "Name: COLE_GENERO, dtype: int64\n",
      "Elementos null/NaN 4034\n",
      "__________________\n",
      "Elementos diferentes de null/NaN: 568917\n",
      "__________________\n",
      "(568917,)\n",
      "None\n"
     ]
    }
   ],
   "source": [
    "c = 'COLE_GENERO'\n",
    "print(data_2012_2[c].value_counts().sort_index().index)\n",
    "print(data_2012_2[c].value_counts().sort_index())\n",
    "print(missing_data(data_2012_2[c]))"
   ]
  },
  {
   "cell_type": "code",
   "execution_count": 49,
   "metadata": {
    "collapsed": false
   },
   "outputs": [
    {
     "name": "stdout",
     "output_type": "stream",
     "text": [
      "cant null antes: 4034\n",
      "cant null despues: 0\n"
     ]
    }
   ],
   "source": [
    "Do_resamples(data_2012_2, c, str)"
   ]
  },
  {
   "cell_type": "code",
   "execution_count": 50,
   "metadata": {
    "collapsed": false
   },
   "outputs": [
    {
     "name": "stdout",
     "output_type": "stream",
     "text": [
      "Index(['N', 'O'], dtype='object')\n",
      "N    144769\n",
      "O    424147\n",
      "Name: COLE_NATURALEZA, dtype: int64\n",
      "Elementos null/NaN 4035\n",
      "__________________\n",
      "Elementos diferentes de null/NaN: 568916\n",
      "__________________\n",
      "(568916,)\n",
      "None\n"
     ]
    }
   ],
   "source": [
    "c = 'COLE_NATURALEZA'\n",
    "print(data_2012_2[c].value_counts().sort_index().index)\n",
    "print(data_2012_2[c].value_counts().sort_index())\n",
    "print(missing_data(data_2012_2[c]))"
   ]
  },
  {
   "cell_type": "code",
   "execution_count": 51,
   "metadata": {
    "collapsed": false
   },
   "outputs": [
    {
     "name": "stdout",
     "output_type": "stream",
     "text": [
      "cant null antes: 4035\n",
      "cant null despues: 0\n"
     ]
    }
   ],
   "source": [
    "Do_resamples(data_2012_2, c, str)"
   ]
  },
  {
   "cell_type": "code",
   "execution_count": 52,
   "metadata": {
    "collapsed": false
   },
   "outputs": [
    {
     "name": "stdout",
     "output_type": "stream",
     "text": [
      "Float64Index([0.0, 1.0], dtype='float64')\n",
      "0    474540\n",
      "1      5670\n",
      "Name: COLE_BILINGUE, dtype: int64\n",
      "Elementos null/NaN 92741\n",
      "__________________\n",
      "Elementos diferentes de null/NaN: 480210\n",
      "__________________\n",
      "(480210,)\n",
      "None\n"
     ]
    }
   ],
   "source": [
    "c = 'COLE_BILINGUE'\n",
    "print(data_2012_2[c].value_counts().sort_index().index)\n",
    "print(data_2012_2[c].value_counts().sort_index())\n",
    "print(missing_data(data_2012_2[c]))"
   ]
  },
  {
   "cell_type": "code",
   "execution_count": 53,
   "metadata": {
    "collapsed": false
   },
   "outputs": [
    {
     "name": "stdout",
     "output_type": "stream",
     "text": [
      "cant null antes: 92741\n",
      "cant null despues: 0\n"
     ]
    }
   ],
   "source": [
    "Do_resamples(data_2012_2, c, float)"
   ]
  },
  {
   "cell_type": "code",
   "execution_count": 54,
   "metadata": {
    "collapsed": false
   },
   "outputs": [
    {
     "name": "stdout",
     "output_type": "stream",
     "text": [
      "Index(['COMPLETA U ORDINARIA', 'MAÑANA', 'NOCHE', 'SABATINA - DOMINICAL',\n",
      "       'TARDE', 'UNICA'],\n",
      "      dtype='object')\n",
      "COMPLETA U ORDINARIA    108425\n",
      "MAÑANA                  293621\n",
      "NOCHE                    42767\n",
      "SABATINA - DOMINICAL     33501\n",
      "TARDE                    91304\n",
      "UNICA                      116\n",
      "Name: COLE_JORNADA, dtype: int64\n",
      "Elementos null/NaN 3217\n",
      "__________________\n",
      "Elementos diferentes de null/NaN: 569734\n",
      "__________________\n",
      "(569734,)\n",
      "None\n"
     ]
    }
   ],
   "source": [
    "c = 'COLE_JORNADA'\n",
    "print(data_2012_2[c].value_counts().sort_index().index)\n",
    "print(data_2012_2[c].value_counts().sort_index())\n",
    "print(missing_data(data_2012_2[c]))"
   ]
  },
  {
   "cell_type": "code",
   "execution_count": 55,
   "metadata": {
    "collapsed": false
   },
   "outputs": [
    {
     "name": "stdout",
     "output_type": "stream",
     "text": [
      "cant null antes: 3217\n",
      "cant null despues: 0\n"
     ]
    }
   ],
   "source": [
    "Do_resamples(data_2012_2, c, str)"
   ]
  },
  {
   "cell_type": "code",
   "execution_count": 56,
   "metadata": {
    "collapsed": false
   },
   "outputs": [
    {
     "name": "stdout",
     "output_type": "stream",
     "text": [
      "Index(['ACADEMICO', 'ACADEMICO Y TECNICO', 'DESCONOCIDO', 'NORMALISTA',\n",
      "       'TECNICO'],\n",
      "      dtype='object')\n",
      "ACADEMICO              360450\n",
      "ACADEMICO Y TECNICO     93783\n",
      "DESCONOCIDO               324\n",
      "NORMALISTA              13190\n",
      "TECNICO                101142\n",
      "Name: COLE_CARACTER, dtype: int64\n",
      "Elementos null/NaN 4062\n",
      "__________________\n",
      "Elementos diferentes de null/NaN: 568889\n",
      "__________________\n",
      "(568889,)\n",
      "None\n"
     ]
    }
   ],
   "source": [
    "c = 'COLE_CARACTER'\n",
    "print(data_2012_2[c].value_counts().sort_index().index)\n",
    "print(data_2012_2[c].value_counts().sort_index())\n",
    "print(missing_data(data_2012_2[c]))"
   ]
  },
  {
   "cell_type": "code",
   "execution_count": 57,
   "metadata": {
    "collapsed": false
   },
   "outputs": [
    {
     "name": "stdout",
     "output_type": "stream",
     "text": [
      "cant null antes: 4062\n",
      "cant null despues: 0\n"
     ]
    }
   ],
   "source": [
    "Do_resamples(data_2012_2, c, str)"
   ]
  },
  {
   "cell_type": "code",
   "execution_count": 58,
   "metadata": {
    "collapsed": false
   },
   "outputs": [
    {
     "name": "stdout",
     "output_type": "stream",
     "text": [
      "Float64Index([0.0, 1.0, 2.0, 3.0, 4.0, 5.0, 6.0, 7.0, 8.0, 9.0, 10.0, 11.0,\n",
      "              12.0],\n",
      "             dtype='float64')\n",
      "0     427533\n",
      "1       3532\n",
      "2        289\n",
      "3         98\n",
      "4         70\n",
      "5         65\n",
      "6         55\n",
      "7          3\n",
      "8      44259\n",
      "9      16754\n",
      "10     11121\n",
      "11     22711\n",
      "12     20935\n",
      "Name: COLE_VALOR_PENSION, dtype: int64\n",
      "Elementos null/NaN 25526\n",
      "__________________\n",
      "Elementos diferentes de null/NaN: 547425\n",
      "__________________\n",
      "(547425,)\n",
      "None\n"
     ]
    }
   ],
   "source": [
    "c = 'COLE_VALOR_PENSION'\n",
    "print(data_2012_2[c].value_counts().sort_index().index)\n",
    "print(data_2012_2[c].value_counts().sort_index())\n",
    "print(missing_data(data_2012_2[c]))"
   ]
  },
  {
   "cell_type": "code",
   "execution_count": 59,
   "metadata": {
    "collapsed": false
   },
   "outputs": [
    {
     "name": "stdout",
     "output_type": "stream",
     "text": [
      "cant null antes: 25526\n",
      "cant null despues: 0\n"
     ]
    }
   ],
   "source": [
    "Do_resamples(data_2012_2, c, float)"
   ]
  },
  {
   "cell_type": "code",
   "execution_count": 60,
   "metadata": {
    "collapsed": false
   },
   "outputs": [
    {
     "name": "stdout",
     "output_type": "stream",
     "text": [
      "Float64Index([0.0, 1.0, 2.0, 3.0], dtype='float64')\n",
      "0     2550\n",
      "1     6445\n",
      "2     4306\n",
      "3    45270\n",
      "Name: ESTU_CARRDESEADA_TIPO, dtype: int64\n",
      "Elementos null/NaN 514380\n",
      "__________________\n",
      "Elementos diferentes de null/NaN: 58571\n",
      "__________________\n",
      "(58571,)\n",
      "None\n"
     ]
    }
   ],
   "source": [
    "c = 'ESTU_CARRDESEADA_TIPO'\n",
    "print(data_2012_2[c].value_counts().sort_index().index)\n",
    "print(data_2012_2[c].value_counts().sort_index())\n",
    "print(missing_data(data_2012_2[c]))"
   ]
  },
  {
   "cell_type": "code",
   "execution_count": 61,
   "metadata": {
    "collapsed": false
   },
   "outputs": [
    {
     "name": "stdout",
     "output_type": "stream",
     "text": [
      "cant null antes: 514380\n",
      "cant null despues: 0\n"
     ]
    }
   ],
   "source": [
    "Do_resamples(data_2012_2, c, float)"
   ]
  },
  {
   "cell_type": "code",
   "execution_count": 62,
   "metadata": {
    "collapsed": false,
    "scrolled": true
   },
   "outputs": [
    {
     "name": "stdout",
     "output_type": "stream",
     "text": [
      "Float64Index([  1101.0,   1102.0,   1103.0,   1104.0,   1105.0,   1106.0,\n",
      "                1107.0,   1108.0,   1109.0,   1110.0,\n",
      "              ...\n",
      "              158386.0, 159251.0, 160481.0, 160762.0, 163105.0, 165845.0,\n",
      "              165852.0, 166447.0, 166678.0, 167981.0],\n",
      "             dtype='float64', length=433)\n",
      "1101      5357\n",
      "1102       546\n",
      "1103       203\n",
      "1104        69\n",
      "1105       489\n",
      "1106       561\n",
      "1107       104\n",
      "1108       462\n",
      "1109        10\n",
      "1110       937\n",
      "1111       844\n",
      "1112       732\n",
      "1113      1252\n",
      "1114      1008\n",
      "1115       334\n",
      "1117       233\n",
      "1118       268\n",
      "1119       468\n",
      "1120       678\n",
      "1121        42\n",
      "1122        86\n",
      "1123         5\n",
      "1124        88\n",
      "1125        30\n",
      "1201      4211\n",
      "1202      1504\n",
      "1203      3561\n",
      "1204      1541\n",
      "1205      1437\n",
      "1206      1104\n",
      "          ... \n",
      "125351       1\n",
      "127720       2\n",
      "128033       7\n",
      "131045       4\n",
      "131284       1\n",
      "132621       5\n",
      "135277       1\n",
      "135566       1\n",
      "136937       1\n",
      "139949       1\n",
      "143479       1\n",
      "143735       1\n",
      "149633       3\n",
      "153031       1\n",
      "153213       1\n",
      "153429       1\n",
      "153809       1\n",
      "156919       1\n",
      "157115       2\n",
      "158311       1\n",
      "158386       3\n",
      "159251       1\n",
      "160481       1\n",
      "160762       2\n",
      "163105       1\n",
      "165845       1\n",
      "165852       2\n",
      "166447       1\n",
      "166678       2\n",
      "167981       3\n",
      "Name: ESTU_IES_COD_DESEADA, dtype: int64\n",
      "Elementos null/NaN 516238\n",
      "__________________\n",
      "Elementos diferentes de null/NaN: 56713\n",
      "__________________\n",
      "(56713,)\n",
      "None\n"
     ]
    }
   ],
   "source": [
    "c = 'ESTU_IES_COD_DESEADA'\n",
    "print(data_2012_2[c].value_counts().sort_index().index)\n",
    "print(data_2012_2[c].value_counts().sort_index())\n",
    "print(missing_data(data_2012_2[c]))"
   ]
  },
  {
   "cell_type": "code",
   "execution_count": 63,
   "metadata": {
    "collapsed": true
   },
   "outputs": [],
   "source": [
    "data_2012_2[c].fillna(method='bfill', inplace=True)\n",
    "data_2012_2[c].fillna(method='ffill', inplace=True)"
   ]
  },
  {
   "cell_type": "code",
   "execution_count": 64,
   "metadata": {
    "collapsed": false,
    "scrolled": true
   },
   "outputs": [
    {
     "name": "stdout",
     "output_type": "stream",
     "text": [
      "Index(['AMAZONAS', 'ANTIOQUIA', 'ARAUCA', 'ATLÁNTICO', 'BOGOTÁ', 'BOLÍVAR',\n",
      "       'BOYACÁ', 'CALDAS', 'CAQUETÁ', 'CASANARE', 'CAUCA', 'CESAR', 'CHOCÓ',\n",
      "       'CUNDINAMARCA', 'CÓRDOBA', 'HUILA', 'LA GUAJIRA', 'MAGDALENA', 'META',\n",
      "       'NARIÑO', 'NORTE SANTANDER', 'PUTUMAYO', 'QUINDÍO', 'RISARALDA',\n",
      "       'SAN ANDRÉS', 'SANTANDER', 'SUCRE', 'TOLIMA', 'VALLE', 'VICHADA'],\n",
      "      dtype='object')\n",
      "AMAZONAS              30\n",
      "ANTIOQUIA           8293\n",
      "ARAUCA                88\n",
      "ATLÁNTICO           3665\n",
      "BOGOTÁ             17068\n",
      "BOLÍVAR             2112\n",
      "BOYACÁ              1301\n",
      "CALDAS              1192\n",
      "CAQUETÁ              334\n",
      "CASANARE              72\n",
      "CAUCA               1091\n",
      "CESAR                683\n",
      "CHOCÓ                270\n",
      "CUNDINAMARCA        1071\n",
      "CÓRDOBA             1392\n",
      "HUILA               1087\n",
      "LA GUAJIRA           399\n",
      "MAGDALENA           1219\n",
      "META                 605\n",
      "NARIÑO              1249\n",
      "NORTE SANTANDER     1401\n",
      "PUTUMAYO              74\n",
      "QUINDÍO              589\n",
      "RISARALDA           1089\n",
      "SAN ANDRÉS            18\n",
      "SANTANDER           3186\n",
      "SUCRE                910\n",
      "TOLIMA              1326\n",
      "VALLE               4896\n",
      "VICHADA                3\n",
      "Name: ESTU_IES_DEPT_DESEADA, dtype: int64\n",
      "Elementos null/NaN 516238\n",
      "__________________\n",
      "Elementos diferentes de null/NaN: 56713\n",
      "__________________\n",
      "(56713,)\n",
      "None\n"
     ]
    }
   ],
   "source": [
    "c = 'ESTU_IES_DEPT_DESEADA'\n",
    "print(data_2012_2[c].value_counts().sort_index().index)\n",
    "print(data_2012_2[c].value_counts().sort_index())\n",
    "print(missing_data(data_2012_2[c]))"
   ]
  },
  {
   "cell_type": "code",
   "execution_count": 65,
   "metadata": {
    "collapsed": true
   },
   "outputs": [],
   "source": [
    "data_2012_2[c].fillna(method='bfill', inplace=True)\n",
    "data_2012_2[c].fillna(method='ffill', inplace=True)"
   ]
  },
  {
   "cell_type": "code",
   "execution_count": 66,
   "metadata": {
    "collapsed": false,
    "scrolled": true
   },
   "outputs": [
    {
     "name": "stdout",
     "output_type": "stream",
     "text": [
      "Index(['ABREGO', 'AGUACHICA', 'AMALFI', 'ANDES', 'APARTADO', 'ARAUCA',\n",
      "       'ARMENIA', 'ARROYOHONDO', 'BARRANCABERMEJA', 'BARRANCAS',\n",
      "       ...\n",
      "       'TOLU', 'TULUA', 'TUNJA', 'TURBO', 'UBATE', 'VALLEDUPAR',\n",
      "       'VILLAVICENCIO', 'YOPAL', 'YUMBO', 'ZARAGOZA'],\n",
      "      dtype='object', length=114)\n",
      "ABREGO                      1\n",
      "AGUACHICA                   5\n",
      "AMALFI                      8\n",
      "ANDES                      39\n",
      "APARTADO                   11\n",
      "ARAUCA                     88\n",
      "ARMENIA                   589\n",
      "ARROYOHONDO                 1\n",
      "BARRANCABERMEJA           143\n",
      "BARRANCAS                   1\n",
      "BARRANQUILLA             3410\n",
      "BELLO                     321\n",
      "BOGOTÁ D.C.             17068\n",
      "BOLIVAR                     3\n",
      "BUCARAMANGA              2765\n",
      "BUENAVENTURA               86\n",
      "BUESACO                     1\n",
      "BUGA                       27\n",
      "CAIMITO                     4\n",
      "CALDAS                     10\n",
      "CALDONO                     1\n",
      "CALI                     4465\n",
      "CANDELARIA                  8\n",
      "CARMEN DE VIBORAL          19\n",
      "CARTAGENA                2111\n",
      "CARTAGO                    23\n",
      "CASABIANCA                  1\n",
      "CAUCASIA                   31\n",
      "CHIA                      318\n",
      "CHIQUINQUIRA               10\n",
      "                        ...  \n",
      "QUIBDO                    270\n",
      "RIOHACHA                  386\n",
      "RIONEGRO                  116\n",
      "ROLDANILLO                 23\n",
      "SABANETA                   14\n",
      "SAN ANDRES                 18\n",
      "SAN GIL                   218\n",
      "SAN JUAN DEL CESAR         12\n",
      "SAN PEDRO                   1\n",
      "SANTA MARTA              1173\n",
      "SANTA ROSA DE CABAL        32\n",
      "SANTA ROSA DE OSOS         11\n",
      "SANTAFÉ DE ANTIOQUIA       54\n",
      "SINCE                       1\n",
      "SINCELEJO                 896\n",
      "SOACHA                      1\n",
      "SOCORRO                    46\n",
      "SOGAMOSO                  462\n",
      "SOLEDAD                   255\n",
      "SOPO                        7\n",
      "TOLU                        4\n",
      "TULUA                     161\n",
      "TUNJA                     725\n",
      "TURBO                     120\n",
      "UBATE                      54\n",
      "VALLEDUPAR                678\n",
      "VILLAVICENCIO             603\n",
      "YOPAL                      72\n",
      "YUMBO                       1\n",
      "ZARAGOZA                    1\n",
      "Name: ESTU_IES_MPIO_DESEADA, dtype: int64\n",
      "Elementos null/NaN 516238\n",
      "__________________\n",
      "Elementos diferentes de null/NaN: 56713\n",
      "__________________\n",
      "(56713,)\n",
      "None\n"
     ]
    }
   ],
   "source": [
    "c = 'ESTU_IES_MPIO_DESEADA'\n",
    "print(data_2012_2[c].value_counts().sort_index().index)\n",
    "print(data_2012_2[c].value_counts().sort_index())\n",
    "print(missing_data(data_2012_2[c]))"
   ]
  },
  {
   "cell_type": "code",
   "execution_count": 67,
   "metadata": {
    "collapsed": true
   },
   "outputs": [],
   "source": [
    "data_2012_2[c].fillna(method='bfill', inplace=True)\n",
    "data_2012_2[c].fillna(method='ffill', inplace=True)"
   ]
  },
  {
   "cell_type": "code",
   "execution_count": 68,
   "metadata": {
    "collapsed": false,
    "scrolled": true
   },
   "outputs": [
    {
     "name": "stdout",
     "output_type": "stream",
     "text": [
      "Float64Index([ 0.0,  1.0,  2.0,  3.0,  4.0,  5.0,  6.0,  7.0,  8.0,  9.0, 10.0,\n",
      "              11.0, 12.0, 13.0, 14.0, 15.0, 16.0, 17.0, 18.0, 19.0, 20.0, 21.0,\n",
      "              22.0, 23.0, 24.0, 25.0, 26.0, 27.0, 28.0, 29.0, 30.0, 31.0, 32.0,\n",
      "              33.0, 34.0, 35.0, 36.0, 37.0, 38.0, 39.0, 40.0, 41.0, 42.0, 43.0,\n",
      "              44.0, 45.0, 46.0, 47.0, 48.0, 49.0, 50.0, 51.0, 52.0, 53.0, 54.0,\n",
      "              55.0, 56.0, 57.0, 58.0, 59.0, 60.0, 61.0, 62.0, 63.0, 64.0, 65.0,\n",
      "              66.0, 67.0, 68.0, 69.0, 70.0, 71.0, 72.0, 73.0, 74.0, 75.0, 76.0,\n",
      "              77.0, 78.0, 79.0, 80.0, 81.0, 82.0, 83.0, 84.0, 85.0, 86.0, 87.0,\n",
      "              88.0, 89.0, 90.0, 91.0, 92.0, 93.0, 94.0, 95.0, 97.0, 98.0,\n",
      "              99.0],\n",
      "             dtype='float64')\n",
      "0        3\n",
      "1       18\n",
      "2       49\n",
      "3       90\n",
      "4      107\n",
      "5      148\n",
      "6      168\n",
      "7      192\n",
      "8      191\n",
      "9      184\n",
      "10     291\n",
      "11     260\n",
      "12     482\n",
      "13     422\n",
      "14     414\n",
      "15     641\n",
      "16     541\n",
      "17     610\n",
      "18     659\n",
      "19     637\n",
      "20    1048\n",
      "21     802\n",
      "22    1242\n",
      "23    1481\n",
      "24    1425\n",
      "25    2140\n",
      "26    1579\n",
      "27    1768\n",
      "28    2214\n",
      "29    1910\n",
      "      ... \n",
      "69      23\n",
      "70      52\n",
      "71      20\n",
      "72      32\n",
      "73       1\n",
      "74      33\n",
      "75       2\n",
      "76       9\n",
      "77      21\n",
      "78       8\n",
      "79       8\n",
      "80      27\n",
      "81      14\n",
      "82      10\n",
      "83       1\n",
      "84      11\n",
      "85       8\n",
      "86       2\n",
      "87      12\n",
      "88       9\n",
      "89      12\n",
      "90       1\n",
      "91       7\n",
      "92      10\n",
      "93       4\n",
      "94       2\n",
      "95       1\n",
      "97       1\n",
      "98       8\n",
      "99       4\n",
      "Name: ESTU_TOTAL_ALUMNOS_CURSO, dtype: int64\n",
      "Elementos null/NaN 514359\n",
      "__________________\n",
      "Elementos diferentes de null/NaN: 58592\n",
      "__________________\n",
      "(58592,)\n",
      "None\n"
     ]
    }
   ],
   "source": [
    "c = 'ESTU_TOTAL_ALUMNOS_CURSO'\n",
    "print(data_2012_2[c].value_counts().sort_index().index)\n",
    "print(data_2012_2[c].value_counts().sort_index())\n",
    "print(missing_data(data_2012_2[c]))"
   ]
  },
  {
   "cell_type": "code",
   "execution_count": 69,
   "metadata": {
    "collapsed": false
   },
   "outputs": [
    {
     "name": "stdout",
     "output_type": "stream",
     "text": [
      "cant null antes: 514359\n",
      "cant null despues: 2\n",
      "cant null antes: 2\n",
      "cant null despues: 0\n"
     ]
    }
   ],
   "source": [
    "Do_resamples(data_2012_2, c, float)"
   ]
  },
  {
   "cell_type": "code",
   "execution_count": 70,
   "metadata": {
    "collapsed": false,
    "scrolled": true
   },
   "outputs": [
    {
     "name": "stdout",
     "output_type": "stream",
     "text": [
      "Float64Index([1985.0, 1986.0, 1987.0, 1988.0, 1989.0, 1990.0, 1991.0, 1992.0,\n",
      "              1993.0, 1994.0, 1995.0, 1996.0, 1997.0, 1998.0, 1999.0, 2000.0,\n",
      "              2001.0, 2002.0],\n",
      "             dtype='float64')\n",
      "1985     1159\n",
      "1986      136\n",
      "1987      118\n",
      "1988      134\n",
      "1989      136\n",
      "1990      203\n",
      "1991      207\n",
      "1992      221\n",
      "1993      176\n",
      "1994      212\n",
      "1995      419\n",
      "1996      490\n",
      "1997      766\n",
      "1998     1426\n",
      "1999     3008\n",
      "2000     8939\n",
      "2001    18456\n",
      "2002    22386\n",
      "Name: ESTU_ANO_MATRICULA_PRIMERO, dtype: int64\n",
      "Elementos null/NaN 514359\n",
      "__________________\n",
      "Elementos diferentes de null/NaN: 58592\n",
      "__________________\n",
      "(58592,)\n",
      "None\n"
     ]
    }
   ],
   "source": [
    "c = 'ESTU_ANO_MATRICULA_PRIMERO'\n",
    "print(data_2012_2[c].value_counts().sort_index().index)\n",
    "print(data_2012_2[c].value_counts().sort_index())\n",
    "print(missing_data(data_2012_2[c]))"
   ]
  },
  {
   "cell_type": "code",
   "execution_count": 71,
   "metadata": {
    "collapsed": false
   },
   "outputs": [
    {
     "name": "stdout",
     "output_type": "stream",
     "text": [
      "cant null antes: 514359\n",
      "cant null despues: 2\n",
      "cant null antes: 2\n",
      "cant null despues: 0\n"
     ]
    }
   ],
   "source": [
    "Do_resamples(data_2012_2, c, float)"
   ]
  },
  {
   "cell_type": "code",
   "execution_count": 72,
   "metadata": {
    "collapsed": false
   },
   "outputs": [
    {
     "name": "stdout",
     "output_type": "stream",
     "text": [
      "Float64Index([1.0, 2.0, 3.0, 4.0, 5.0, 6.0, 7.0, 8.0, 9.0, 10.0, 11.0], dtype='float64')\n",
      "1      6188\n",
      "2      6336\n",
      "3      5131\n",
      "4      3437\n",
      "5      3641\n",
      "6     11734\n",
      "7      3002\n",
      "8      1862\n",
      "9      1617\n",
      "10     2334\n",
      "11    13310\n",
      "Name: ESTU_ANOS_COLEGIO_ACTUAL, dtype: int64\n",
      "Elementos null/NaN 514359\n",
      "__________________\n",
      "Elementos diferentes de null/NaN: 58592\n",
      "__________________\n",
      "(58592,)\n",
      "None\n"
     ]
    }
   ],
   "source": [
    "c = 'ESTU_ANOS_COLEGIO_ACTUAL'\n",
    "print(data_2012_2[c].value_counts().sort_index().index)\n",
    "print(data_2012_2[c].value_counts().sort_index())\n",
    "print(missing_data(data_2012_2[c]))"
   ]
  },
  {
   "cell_type": "code",
   "execution_count": 73,
   "metadata": {
    "collapsed": false
   },
   "outputs": [
    {
     "name": "stdout",
     "output_type": "stream",
     "text": [
      "cant null antes: 514359\n",
      "cant null despues: 0\n"
     ]
    }
   ],
   "source": [
    "Do_resamples(data_2012_2, c, float)"
   ]
  },
  {
   "cell_type": "code",
   "execution_count": 74,
   "metadata": {
    "collapsed": false,
    "scrolled": true
   },
   "outputs": [
    {
     "name": "stdout",
     "output_type": "stream",
     "text": [
      "Float64Index([1985.0, 1986.0, 1987.0, 1988.0, 1989.0, 1990.0, 1991.0, 1992.0,\n",
      "              1993.0, 1994.0, 1995.0, 1996.0, 1997.0, 1998.0, 1999.0, 2000.0,\n",
      "              2001.0, 2002.0, 2003.0, 2004.0, 2005.0, 2006.0, 2007.0, 2008.0],\n",
      "             dtype='float64')\n",
      "1985      336\n",
      "1986       61\n",
      "1987       39\n",
      "1988       56\n",
      "1989       41\n",
      "1990       74\n",
      "1991       94\n",
      "1992       88\n",
      "1993       75\n",
      "1994       88\n",
      "1995      100\n",
      "1996      206\n",
      "1997      184\n",
      "1998      150\n",
      "1999      150\n",
      "2000      248\n",
      "2001      404\n",
      "2002      463\n",
      "2003      652\n",
      "2004     1139\n",
      "2005     3242\n",
      "2006    16571\n",
      "2007    31045\n",
      "2008     3086\n",
      "Name: ESTU_ANO_MATRICULA_SEXTO, dtype: int64\n",
      "Elementos null/NaN 514359\n",
      "__________________\n",
      "Elementos diferentes de null/NaN: 58592\n",
      "__________________\n",
      "(58592,)\n",
      "None\n"
     ]
    }
   ],
   "source": [
    "c = 'ESTU_ANO_MATRICULA_SEXTO'\n",
    "print(data_2012_2[c].value_counts().sort_index().index)\n",
    "print(data_2012_2[c].value_counts().sort_index())\n",
    "print(missing_data(data_2012_2[c]))"
   ]
  },
  {
   "cell_type": "code",
   "execution_count": 75,
   "metadata": {
    "collapsed": false
   },
   "outputs": [
    {
     "name": "stdout",
     "output_type": "stream",
     "text": [
      "cant null antes: 514359\n",
      "cant null despues: 0\n"
     ]
    }
   ],
   "source": [
    "Do_resamples(data_2012_2, c, float)"
   ]
  },
  {
   "cell_type": "code",
   "execution_count": 76,
   "metadata": {
    "collapsed": false
   },
   "outputs": [
    {
     "name": "stdout",
     "output_type": "stream",
     "text": [
      "Float64Index([0.0, 1.0, 2.0, 3.0], dtype='float64')\n",
      "0     9430\n",
      "1    31105\n",
      "2     9313\n",
      "3     8744\n",
      "Name: ESTU_ANOS_PREESCOLAR, dtype: int64\n",
      "Elementos null/NaN 514359\n",
      "__________________\n",
      "Elementos diferentes de null/NaN: 58592\n",
      "__________________\n",
      "(58592,)\n",
      "None\n"
     ]
    }
   ],
   "source": [
    "c = 'ESTU_ANOS_PREESCOLAR'\n",
    "print(data_2012_2[c].value_counts().sort_index().index)\n",
    "print(data_2012_2[c].value_counts().sort_index())\n",
    "print(missing_data(data_2012_2[c]))"
   ]
  },
  {
   "cell_type": "code",
   "execution_count": 77,
   "metadata": {
    "collapsed": false
   },
   "outputs": [
    {
     "name": "stdout",
     "output_type": "stream",
     "text": [
      "cant null antes: 514359\n",
      "cant null despues: 0\n"
     ]
    }
   ],
   "source": [
    "Do_resamples(data_2012_2, c, float)"
   ]
  },
  {
   "cell_type": "code",
   "execution_count": 78,
   "metadata": {
    "collapsed": false
   },
   "outputs": [
    {
     "name": "stdout",
     "output_type": "stream",
     "text": [
      "Float64Index([1.0, 2.0, 3.0], dtype='float64')\n",
      "1    27695\n",
      "2    10901\n",
      "3     6920\n",
      "Name: ESTU_CUANTOS_COLE_ESTUDIO, dtype: int64\n",
      "Elementos null/NaN 527435\n",
      "__________________\n",
      "Elementos diferentes de null/NaN: 45516\n",
      "__________________\n",
      "(45516,)\n",
      "None\n"
     ]
    }
   ],
   "source": [
    "c = 'ESTU_CUANTOS_COLE_ESTUDIO'\n",
    "print(data_2012_2[c].value_counts().sort_index().index)\n",
    "print(data_2012_2[c].value_counts().sort_index())\n",
    "print(missing_data(data_2012_2[c]))"
   ]
  },
  {
   "cell_type": "code",
   "execution_count": 79,
   "metadata": {
    "collapsed": false
   },
   "outputs": [
    {
     "name": "stdout",
     "output_type": "stream",
     "text": [
      "cant null antes: 527435\n",
      "cant null despues: 0\n"
     ]
    }
   ],
   "source": [
    "Do_resamples(data_2012_2, c, float)"
   ]
  },
  {
   "cell_type": "code",
   "execution_count": 80,
   "metadata": {
    "collapsed": false,
    "scrolled": true
   },
   "outputs": [
    {
     "name": "stdout",
     "output_type": "stream",
     "text": [
      "Float64Index([0.0, 1.0], dtype='float64')\n",
      "0    56823\n",
      "1     1769\n",
      "Name: ESTU_REPROBO_CUARTO, dtype: int64\n",
      "Elementos null/NaN 514359\n",
      "__________________\n",
      "Elementos diferentes de null/NaN: 58592\n",
      "__________________\n",
      "(58592,)\n",
      "None\n"
     ]
    }
   ],
   "source": [
    "c = 'ESTU_REPROBO_CUARTO'\n",
    "print(data_2012_2[c].value_counts().sort_index().index)\n",
    "print(data_2012_2[c].value_counts().sort_index())\n",
    "print(missing_data(data_2012_2[c]))"
   ]
  },
  {
   "cell_type": "code",
   "execution_count": 81,
   "metadata": {
    "collapsed": false
   },
   "outputs": [
    {
     "name": "stdout",
     "output_type": "stream",
     "text": [
      "cant null antes: 514359\n",
      "cant null despues: 0\n"
     ]
    }
   ],
   "source": [
    "Do_resamples(data_2012_2, c, float)"
   ]
  },
  {
   "cell_type": "code",
   "execution_count": 82,
   "metadata": {
    "collapsed": false
   },
   "outputs": [
    {
     "name": "stdout",
     "output_type": "stream",
     "text": [
      "Float64Index([0.0, 1.0], dtype='float64')\n",
      "0    53941\n",
      "1     4651\n",
      "Name: ESTU_REPROBO_DECIMO, dtype: int64\n",
      "Elementos null/NaN 514359\n",
      "__________________\n",
      "Elementos diferentes de null/NaN: 58592\n",
      "__________________\n",
      "(58592,)\n",
      "None\n"
     ]
    }
   ],
   "source": [
    "c = 'ESTU_REPROBO_DECIMO'\n",
    "print(data_2012_2[c].value_counts().sort_index().index)\n",
    "print(data_2012_2[c].value_counts().sort_index())\n",
    "print(missing_data(data_2012_2[c]))"
   ]
  },
  {
   "cell_type": "code",
   "execution_count": 83,
   "metadata": {
    "collapsed": false
   },
   "outputs": [
    {
     "name": "stdout",
     "output_type": "stream",
     "text": [
      "cant null antes: 514359\n",
      "cant null despues: 0\n"
     ]
    }
   ],
   "source": [
    "Do_resamples(data_2012_2, c, float)"
   ]
  },
  {
   "cell_type": "code",
   "execution_count": 84,
   "metadata": {
    "collapsed": false
   },
   "outputs": [
    {
     "name": "stdout",
     "output_type": "stream",
     "text": [
      "Float64Index([0.0, 1.0], dtype='float64')\n",
      "0    55799\n",
      "1     2793\n",
      "Name: ESTU_REPROBO_NOVENO, dtype: int64\n",
      "Elementos null/NaN 514359\n",
      "__________________\n",
      "Elementos diferentes de null/NaN: 58592\n",
      "__________________\n",
      "(58592,)\n",
      "None\n"
     ]
    }
   ],
   "source": [
    "c = 'ESTU_REPROBO_NOVENO'\n",
    "print(data_2012_2[c].value_counts().sort_index().index)\n",
    "print(data_2012_2[c].value_counts().sort_index())\n",
    "print(missing_data(data_2012_2[c]))"
   ]
  },
  {
   "cell_type": "code",
   "execution_count": 85,
   "metadata": {
    "collapsed": false
   },
   "outputs": [
    {
     "name": "stdout",
     "output_type": "stream",
     "text": [
      "cant null antes: 514359\n",
      "cant null despues: 0\n"
     ]
    }
   ],
   "source": [
    "Do_resamples(data_2012_2, c, float)"
   ]
  },
  {
   "cell_type": "code",
   "execution_count": 86,
   "metadata": {
    "collapsed": false
   },
   "outputs": [
    {
     "name": "stdout",
     "output_type": "stream",
     "text": [
      "Float64Index([0.0, 1.0], dtype='float64')\n",
      "0    55548\n",
      "1     3044\n",
      "Name: ESTU_REPROBO_OCTAVO, dtype: int64\n",
      "Elementos null/NaN 514359\n",
      "__________________\n",
      "Elementos diferentes de null/NaN: 58592\n",
      "__________________\n",
      "(58592,)\n",
      "None\n"
     ]
    }
   ],
   "source": [
    "c = 'ESTU_REPROBO_OCTAVO'\n",
    "print(data_2012_2[c].value_counts().sort_index().index)\n",
    "print(data_2012_2[c].value_counts().sort_index())\n",
    "print(missing_data(data_2012_2[c]))"
   ]
  },
  {
   "cell_type": "code",
   "execution_count": 87,
   "metadata": {
    "collapsed": false
   },
   "outputs": [
    {
     "name": "stdout",
     "output_type": "stream",
     "text": [
      "cant null antes: 514359\n",
      "cant null despues: 0\n"
     ]
    }
   ],
   "source": [
    "Do_resamples(data_2012_2, c, float)"
   ]
  },
  {
   "cell_type": "code",
   "execution_count": 88,
   "metadata": {
    "collapsed": false
   },
   "outputs": [
    {
     "name": "stdout",
     "output_type": "stream",
     "text": [
      "Float64Index([0.0, 1.0], dtype='float64')\n",
      "0    55271\n",
      "1     3321\n",
      "Name: ESTU_REPROBO_PRIMERO, dtype: int64\n",
      "Elementos null/NaN 514359\n",
      "__________________\n",
      "Elementos diferentes de null/NaN: 58592\n",
      "__________________\n",
      "(58592,)\n",
      "None\n"
     ]
    }
   ],
   "source": [
    "c = 'ESTU_REPROBO_PRIMERO'\n",
    "print(data_2012_2[c].value_counts().sort_index().index)\n",
    "print(data_2012_2[c].value_counts().sort_index())\n",
    "print(missing_data(data_2012_2[c]))"
   ]
  },
  {
   "cell_type": "code",
   "execution_count": 89,
   "metadata": {
    "collapsed": false
   },
   "outputs": [
    {
     "name": "stdout",
     "output_type": "stream",
     "text": [
      "cant null antes: 514359\n",
      "cant null despues: 0\n"
     ]
    }
   ],
   "source": [
    "Do_resamples(data_2012_2, c, float)"
   ]
  },
  {
   "cell_type": "code",
   "execution_count": 90,
   "metadata": {
    "collapsed": false
   },
   "outputs": [
    {
     "name": "stdout",
     "output_type": "stream",
     "text": [
      "Float64Index([0.0, 1.0], dtype='float64')\n",
      "0    56863\n",
      "1     1729\n",
      "Name: ESTU_REPROBO_QUINTO, dtype: int64\n",
      "Elementos null/NaN 514359\n",
      "__________________\n",
      "Elementos diferentes de null/NaN: 58592\n",
      "__________________\n",
      "(58592,)\n",
      "None\n"
     ]
    }
   ],
   "source": [
    "c = 'ESTU_REPROBO_QUINTO'\n",
    "print(data_2012_2[c].value_counts().sort_index().index)\n",
    "print(data_2012_2[c].value_counts().sort_index())\n",
    "print(missing_data(data_2012_2[c]))"
   ]
  },
  {
   "cell_type": "code",
   "execution_count": 91,
   "metadata": {
    "collapsed": false
   },
   "outputs": [
    {
     "name": "stdout",
     "output_type": "stream",
     "text": [
      "cant null antes: 514359\n",
      "cant null despues: 0\n"
     ]
    }
   ],
   "source": [
    "Do_resamples(data_2012_2, c, float)"
   ]
  },
  {
   "cell_type": "code",
   "execution_count": 92,
   "metadata": {
    "collapsed": false
   },
   "outputs": [
    {
     "name": "stdout",
     "output_type": "stream",
     "text": [
      "Float64Index([0.0, 1.0], dtype='float64')\n",
      "0    56289\n",
      "1     2303\n",
      "Name: ESTU_REPROBO_SEGUNDO, dtype: int64\n",
      "Elementos null/NaN 514359\n",
      "__________________\n",
      "Elementos diferentes de null/NaN: 58592\n",
      "__________________\n",
      "(58592,)\n",
      "None\n"
     ]
    }
   ],
   "source": [
    "c = 'ESTU_REPROBO_SEGUNDO'\n",
    "print(data_2012_2[c].value_counts().sort_index().index)\n",
    "print(data_2012_2[c].value_counts().sort_index())\n",
    "print(missing_data(data_2012_2[c]))"
   ]
  },
  {
   "cell_type": "code",
   "execution_count": 93,
   "metadata": {
    "collapsed": false
   },
   "outputs": [
    {
     "name": "stdout",
     "output_type": "stream",
     "text": [
      "cant null antes: 514359\n",
      "cant null despues: 0\n"
     ]
    }
   ],
   "source": [
    "Do_resamples(data_2012_2, c, float)"
   ]
  },
  {
   "cell_type": "code",
   "execution_count": 94,
   "metadata": {
    "collapsed": false
   },
   "outputs": [
    {
     "name": "stdout",
     "output_type": "stream",
     "text": [
      "Float64Index([0.0, 1.0], dtype='float64')\n",
      "0    55790\n",
      "1     2802\n",
      "Name: ESTU_REPROBO_SEPTIMO, dtype: int64\n",
      "Elementos null/NaN 514359\n",
      "__________________\n",
      "Elementos diferentes de null/NaN: 58592\n",
      "__________________\n",
      "(58592,)\n",
      "None\n"
     ]
    }
   ],
   "source": [
    "c = 'ESTU_REPROBO_SEPTIMO'\n",
    "print(data_2012_2[c].value_counts().sort_index().index)\n",
    "print(data_2012_2[c].value_counts().sort_index())\n",
    "print(missing_data(data_2012_2[c]))"
   ]
  },
  {
   "cell_type": "code",
   "execution_count": 95,
   "metadata": {
    "collapsed": false
   },
   "outputs": [
    {
     "name": "stdout",
     "output_type": "stream",
     "text": [
      "cant null antes: 514359\n",
      "cant null despues: 0\n"
     ]
    }
   ],
   "source": [
    "Do_resamples(data_2012_2, c, float)"
   ]
  },
  {
   "cell_type": "code",
   "execution_count": 96,
   "metadata": {
    "collapsed": false
   },
   "outputs": [
    {
     "name": "stdout",
     "output_type": "stream",
     "text": [
      "Float64Index([0.0, 1.0], dtype='float64')\n",
      "0    55678\n",
      "1     2914\n",
      "Name: ESTU_REPROBO_SEXTO, dtype: int64\n",
      "Elementos null/NaN 514359\n",
      "__________________\n",
      "Elementos diferentes de null/NaN: 58592\n",
      "__________________\n",
      "(58592,)\n",
      "None\n"
     ]
    }
   ],
   "source": [
    "c = 'ESTU_REPROBO_SEXTO'\n",
    "print(data_2012_2[c].value_counts().sort_index().index)\n",
    "print(data_2012_2[c].value_counts().sort_index())\n",
    "print(missing_data(data_2012_2[c]))"
   ]
  },
  {
   "cell_type": "code",
   "execution_count": 97,
   "metadata": {
    "collapsed": false
   },
   "outputs": [
    {
     "name": "stdout",
     "output_type": "stream",
     "text": [
      "cant null antes: 514359\n",
      "cant null despues: 0\n"
     ]
    }
   ],
   "source": [
    "Do_resamples(data_2012_2, c, float)"
   ]
  },
  {
   "cell_type": "code",
   "execution_count": 98,
   "metadata": {
    "collapsed": false
   },
   "outputs": [
    {
     "name": "stdout",
     "output_type": "stream",
     "text": [
      "Float64Index([0.0, 1.0], dtype='float64')\n",
      "0    56284\n",
      "1     2308\n",
      "Name: ESTU_REPROBO_TERCERO, dtype: int64\n",
      "Elementos null/NaN 514359\n",
      "__________________\n",
      "Elementos diferentes de null/NaN: 58592\n",
      "__________________\n",
      "(58592,)\n",
      "None\n"
     ]
    }
   ],
   "source": [
    "c = 'ESTU_REPROBO_TERCERO'\n",
    "print(data_2012_2[c].value_counts().sort_index().index)\n",
    "print(data_2012_2[c].value_counts().sort_index())\n",
    "print(missing_data(data_2012_2[c]))"
   ]
  },
  {
   "cell_type": "code",
   "execution_count": 99,
   "metadata": {
    "collapsed": false
   },
   "outputs": [
    {
     "name": "stdout",
     "output_type": "stream",
     "text": [
      "cant null antes: 514359\n",
      "cant null despues: 0\n"
     ]
    }
   ],
   "source": [
    "Do_resamples(data_2012_2, c, float)"
   ]
  },
  {
   "cell_type": "code",
   "execution_count": 100,
   "metadata": {
    "collapsed": false
   },
   "outputs": [
    {
     "name": "stdout",
     "output_type": "stream",
     "text": [
      "Float64Index([0.0, 1.0], dtype='float64')\n",
      "0    57120\n",
      "1     1472\n",
      "Name: ESTU_REPROBO_ONCE_MAS, dtype: int64\n",
      "Elementos null/NaN 514359\n",
      "__________________\n",
      "Elementos diferentes de null/NaN: 58592\n",
      "__________________\n",
      "(58592,)\n",
      "None\n"
     ]
    }
   ],
   "source": [
    "c = 'ESTU_REPROBO_ONCE_MAS'\n",
    "print(data_2012_2[c].value_counts().sort_index().index)\n",
    "print(data_2012_2[c].value_counts().sort_index())\n",
    "print(missing_data(data_2012_2[c]))"
   ]
  },
  {
   "cell_type": "code",
   "execution_count": 101,
   "metadata": {
    "collapsed": false
   },
   "outputs": [
    {
     "name": "stdout",
     "output_type": "stream",
     "text": [
      "cant null antes: 514359\n",
      "cant null despues: 0\n"
     ]
    }
   ],
   "source": [
    "Do_resamples(data_2012_2, c, float)"
   ]
  },
  {
   "cell_type": "code",
   "execution_count": 102,
   "metadata": {
    "collapsed": false
   },
   "outputs": [
    {
     "name": "stdout",
     "output_type": "stream",
     "text": [
      "Index(['-'], dtype='object')\n",
      "-    572951\n",
      "Name: ESTU_POR_MEJORARPOSICIONSOCIAL, dtype: int64\n",
      "Elementos null/NaN 0\n",
      "__________________\n",
      "Elementos diferentes de null/NaN: 572951\n",
      "__________________\n",
      "(572951,)\n",
      "None\n"
     ]
    }
   ],
   "source": [
    "c = 'ESTU_POR_MEJORARPOSICIONSOCIAL'\n",
    "print(data_2012_2[c].value_counts().sort_index().index)\n",
    "print(data_2012_2[c].value_counts().sort_index())\n",
    "print(missing_data(data_2012_2[c]))"
   ]
  },
  {
   "cell_type": "code",
   "execution_count": 103,
   "metadata": {
    "collapsed": true
   },
   "outputs": [],
   "source": [
    "data_2012_2 = data_2012_2.drop([c], axis=1)"
   ]
  },
  {
   "cell_type": "code",
   "execution_count": 104,
   "metadata": {
    "collapsed": false
   },
   "outputs": [
    {
     "name": "stdout",
     "output_type": "stream",
     "text": [
      "Index(['-'], dtype='object')\n",
      "-    572951\n",
      "Name: ESTU_POR_COLOMBIAAPRENDE, dtype: int64\n",
      "Elementos null/NaN 0\n",
      "__________________\n",
      "Elementos diferentes de null/NaN: 572951\n",
      "__________________\n",
      "(572951,)\n",
      "None\n"
     ]
    }
   ],
   "source": [
    "c = 'ESTU_POR_COLOMBIAAPRENDE'\n",
    "print(data_2012_2[c].value_counts().sort_index().index)\n",
    "print(data_2012_2[c].value_counts().sort_index())\n",
    "print(missing_data(data_2012_2[c]))"
   ]
  },
  {
   "cell_type": "code",
   "execution_count": 105,
   "metadata": {
    "collapsed": true
   },
   "outputs": [],
   "source": [
    "data_2012_2 = data_2012_2.drop([c], axis=1)"
   ]
  },
  {
   "cell_type": "code",
   "execution_count": 106,
   "metadata": {
    "collapsed": false
   },
   "outputs": [
    {
     "name": "stdout",
     "output_type": "stream",
     "text": [
      "Float64Index([0.0, 1.0], dtype='float64')\n",
      "0    41295\n",
      "1    14750\n",
      "Name: ESTU_POR_INFLUENCIAALGUIEN, dtype: int64\n",
      "Elementos null/NaN 516906\n",
      "__________________\n",
      "Elementos diferentes de null/NaN: 56045\n",
      "__________________\n",
      "(56045,)\n",
      "None\n"
     ]
    }
   ],
   "source": [
    "c = 'ESTU_POR_INFLUENCIAALGUIEN'\n",
    "print(data_2012_2[c].value_counts().sort_index().index)\n",
    "print(data_2012_2[c].value_counts().sort_index())\n",
    "print(missing_data(data_2012_2[c]))"
   ]
  },
  {
   "cell_type": "code",
   "execution_count": 107,
   "metadata": {
    "collapsed": false
   },
   "outputs": [
    {
     "name": "stdout",
     "output_type": "stream",
     "text": [
      "cant null antes: 516906\n",
      "cant null despues: 0\n"
     ]
    }
   ],
   "source": [
    "Do_resamples(data_2012_2, c, float)"
   ]
  },
  {
   "cell_type": "code",
   "execution_count": 108,
   "metadata": {
    "collapsed": false
   },
   "outputs": [
    {
     "name": "stdout",
     "output_type": "stream",
     "text": [
      "Index(['-'], dtype='object')\n",
      "-    572951\n",
      "Name: ESTU_POR_INTERESPERSONAL, dtype: int64\n",
      "Elementos null/NaN 0\n",
      "__________________\n",
      "Elementos diferentes de null/NaN: 572951\n",
      "__________________\n",
      "(572951,)\n",
      "None\n"
     ]
    }
   ],
   "source": [
    "c = 'ESTU_POR_INTERESPERSONAL'\n",
    "print(data_2012_2[c].value_counts().sort_index().index)\n",
    "print(data_2012_2[c].value_counts().sort_index())\n",
    "print(missing_data(data_2012_2[c]))"
   ]
  },
  {
   "cell_type": "code",
   "execution_count": 109,
   "metadata": {
    "collapsed": true
   },
   "outputs": [],
   "source": [
    "data_2012_2 = data_2012_2.drop([c], axis=1)"
   ]
  },
  {
   "cell_type": "code",
   "execution_count": 110,
   "metadata": {
    "collapsed": false
   },
   "outputs": [
    {
     "name": "stdout",
     "output_type": "stream",
     "text": [
      "Index(['-'], dtype='object')\n",
      "-    572951\n",
      "Name: ESTU_POR_BUSCANDOCARRERA, dtype: int64\n",
      "Elementos null/NaN 0\n",
      "__________________\n",
      "Elementos diferentes de null/NaN: 572951\n",
      "__________________\n",
      "(572951,)\n",
      "None\n"
     ]
    }
   ],
   "source": [
    "c = 'ESTU_POR_BUSCANDOCARRERA'\n",
    "print(data_2012_2[c].value_counts().sort_index().index)\n",
    "print(data_2012_2[c].value_counts().sort_index())\n",
    "print(missing_data(data_2012_2[c]))"
   ]
  },
  {
   "cell_type": "code",
   "execution_count": 111,
   "metadata": {
    "collapsed": true
   },
   "outputs": [],
   "source": [
    "data_2012_2 = data_2012_2.drop([c], axis=1)"
   ]
  },
  {
   "cell_type": "code",
   "execution_count": 112,
   "metadata": {
    "collapsed": false
   },
   "outputs": [
    {
     "name": "stdout",
     "output_type": "stream",
     "text": [
      "Float64Index([0.0, 1.0], dtype='float64')\n",
      "0    47662\n",
      "1     8382\n",
      "Name: ESTU_POR_TRADICIONFAMILIAR, dtype: int64\n",
      "Elementos null/NaN 516907\n",
      "__________________\n",
      "Elementos diferentes de null/NaN: 56044\n",
      "__________________\n",
      "(56044,)\n",
      "None\n"
     ]
    }
   ],
   "source": [
    "c = 'ESTU_POR_TRADICIONFAMILIAR'\n",
    "print(data_2012_2[c].value_counts().sort_index().index)\n",
    "print(data_2012_2[c].value_counts().sort_index())\n",
    "print(missing_data(data_2012_2[c]))"
   ]
  },
  {
   "cell_type": "code",
   "execution_count": 113,
   "metadata": {
    "collapsed": false
   },
   "outputs": [
    {
     "name": "stdout",
     "output_type": "stream",
     "text": [
      "cant null antes: 516907\n",
      "cant null despues: 0\n"
     ]
    }
   ],
   "source": [
    "Do_resamples(data_2012_2, c, float)"
   ]
  },
  {
   "cell_type": "code",
   "execution_count": 114,
   "metadata": {
    "collapsed": false
   },
   "outputs": [
    {
     "name": "stdout",
     "output_type": "stream",
     "text": [
      "Float64Index([0.0, 1.0, 2.0], dtype='float64')\n",
      "0    26637\n",
      "1    24430\n",
      "2     4977\n",
      "Name: ESTU_POR_ORIENTACIONVOCACIONAL, dtype: int64\n",
      "Elementos null/NaN 516907\n",
      "__________________\n",
      "Elementos diferentes de null/NaN: 56044\n",
      "__________________\n",
      "(56044,)\n",
      "None\n"
     ]
    }
   ],
   "source": [
    "c = 'ESTU_POR_ORIENTACIONVOCACIONAL'\n",
    "print(data_2012_2[c].value_counts().sort_index().index)\n",
    "print(data_2012_2[c].value_counts().sort_index())\n",
    "print(missing_data(data_2012_2[c]))"
   ]
  },
  {
   "cell_type": "code",
   "execution_count": 115,
   "metadata": {
    "collapsed": false
   },
   "outputs": [
    {
     "name": "stdout",
     "output_type": "stream",
     "text": [
      "cant null antes: 516907\n",
      "cant null despues: 0\n"
     ]
    }
   ],
   "source": [
    "Do_resamples(data_2012_2, c, float)"
   ]
  },
  {
   "cell_type": "code",
   "execution_count": 116,
   "metadata": {
    "collapsed": false
   },
   "outputs": [
    {
     "name": "stdout",
     "output_type": "stream",
     "text": [
      "Float64Index([1.0, 2.0, 3.0, 4.0, 5.0, 6.0, 7.0, 8.0, 9.0], dtype='float64')\n",
      "1     192\n",
      "2     522\n",
      "3    2633\n",
      "4     931\n",
      "5     818\n",
      "6     391\n",
      "7     173\n",
      "8     145\n",
      "9    4131\n",
      "Name: ESTU_RAZON_RETIRO, dtype: int64\n",
      "Elementos null/NaN 563015\n",
      "__________________\n",
      "Elementos diferentes de null/NaN: 9936\n",
      "__________________\n",
      "(9936,)\n",
      "None\n"
     ]
    }
   ],
   "source": [
    "c = 'ESTU_RAZON_RETIRO'\n",
    "print(data_2012_2[c].value_counts().sort_index().index)\n",
    "print(data_2012_2[c].value_counts().sort_index())\n",
    "print(missing_data(data_2012_2[c]))"
   ]
  },
  {
   "cell_type": "code",
   "execution_count": 117,
   "metadata": {
    "collapsed": false
   },
   "outputs": [
    {
     "name": "stdout",
     "output_type": "stream",
     "text": [
      "cant null antes: 563015\n",
      "cant null despues: 0\n"
     ]
    }
   ],
   "source": [
    "Do_resamples(data_2012_2, c, float)"
   ]
  },
  {
   "cell_type": "code",
   "execution_count": 118,
   "metadata": {
    "collapsed": false
   },
   "outputs": [
    {
     "name": "stdout",
     "output_type": "stream",
     "text": [
      "Float64Index([0.0, 1.0], dtype='float64')\n",
      "0    41507\n",
      "1    14536\n",
      "Name: ESTU_POR_AMIGOSESTUDIANDO, dtype: int64\n",
      "Elementos null/NaN 516908\n",
      "__________________\n",
      "Elementos diferentes de null/NaN: 56043\n",
      "__________________\n",
      "(56043,)\n",
      "None\n"
     ]
    }
   ],
   "source": [
    "c = 'ESTU_POR_AMIGOSESTUDIANDO'\n",
    "print(data_2012_2[c].value_counts().sort_index().index)\n",
    "print(data_2012_2[c].value_counts().sort_index())\n",
    "print(missing_data(data_2012_2[c]))"
   ]
  },
  {
   "cell_type": "code",
   "execution_count": 119,
   "metadata": {
    "collapsed": false
   },
   "outputs": [
    {
     "name": "stdout",
     "output_type": "stream",
     "text": [
      "cant null antes: 516908\n",
      "cant null despues: 0\n"
     ]
    }
   ],
   "source": [
    "Do_resamples(data_2012_2, c, float)"
   ]
  },
  {
   "cell_type": "code",
   "execution_count": 120,
   "metadata": {
    "collapsed": false
   },
   "outputs": [
    {
     "name": "stdout",
     "output_type": "stream",
     "text": [
      "Index(['-'], dtype='object')\n",
      "-    572951\n",
      "Name: ESTU_POR_COSTOMATRICULA, dtype: int64\n",
      "Elementos null/NaN 0\n",
      "__________________\n",
      "Elementos diferentes de null/NaN: 572951\n",
      "__________________\n",
      "(572951,)\n",
      "None\n"
     ]
    }
   ],
   "source": [
    "c = 'ESTU_POR_COSTOMATRICULA'\n",
    "print(data_2012_2[c].value_counts().sort_index().index)\n",
    "print(data_2012_2[c].value_counts().sort_index())\n",
    "print(missing_data(data_2012_2[c]))"
   ]
  },
  {
   "cell_type": "code",
   "execution_count": 121,
   "metadata": {
    "collapsed": false
   },
   "outputs": [],
   "source": [
    "data_2012_2 = data_2012_2.drop([c], axis=1)"
   ]
  },
  {
   "cell_type": "code",
   "execution_count": 122,
   "metadata": {
    "collapsed": false
   },
   "outputs": [
    {
     "name": "stdout",
     "output_type": "stream",
     "text": [
      "Index(['-'], dtype='object')\n",
      "-    572951\n",
      "Name: ESTU_POR_OPORTUNIDADES, dtype: int64\n",
      "Elementos null/NaN 0\n",
      "__________________\n",
      "Elementos diferentes de null/NaN: 572951\n",
      "__________________\n",
      "(572951,)\n",
      "None\n"
     ]
    }
   ],
   "source": [
    "c = 'ESTU_POR_OPORTUNIDADES'\n",
    "print(data_2012_2[c].value_counts().sort_index().index)\n",
    "print(data_2012_2[c].value_counts().sort_index())\n",
    "print(missing_data(data_2012_2[c]))"
   ]
  },
  {
   "cell_type": "code",
   "execution_count": 123,
   "metadata": {
    "collapsed": false
   },
   "outputs": [],
   "source": [
    "data_2012_2 = data_2012_2.drop([c], axis=1)"
   ]
  },
  {
   "cell_type": "code",
   "execution_count": 124,
   "metadata": {
    "collapsed": false
   },
   "outputs": [
    {
     "name": "stdout",
     "output_type": "stream",
     "text": [
      "Float64Index([0.0, 1.0], dtype='float64')\n",
      "0    39367\n",
      "1    16676\n",
      "Name: ESTU_POR_OTRARAZON, dtype: int64\n",
      "Elementos null/NaN 516908\n",
      "__________________\n",
      "Elementos diferentes de null/NaN: 56043\n",
      "__________________\n",
      "(56043,)\n",
      "None\n"
     ]
    }
   ],
   "source": [
    "c = 'ESTU_POR_OTRARAZON'\n",
    "print(data_2012_2[c].value_counts().sort_index().index)\n",
    "print(data_2012_2[c].value_counts().sort_index())\n",
    "print(missing_data(data_2012_2[c]))"
   ]
  },
  {
   "cell_type": "code",
   "execution_count": 125,
   "metadata": {
    "collapsed": false
   },
   "outputs": [
    {
     "name": "stdout",
     "output_type": "stream",
     "text": [
      "cant null antes: 516908\n",
      "cant null despues: 0\n"
     ]
    }
   ],
   "source": [
    "Do_resamples(data_2012_2, c, float)"
   ]
  },
  {
   "cell_type": "code",
   "execution_count": 126,
   "metadata": {
    "collapsed": false
   },
   "outputs": [
    {
     "name": "stdout",
     "output_type": "stream",
     "text": [
      "Float64Index([0.0, 1.0], dtype='float64')\n",
      "0    15004\n",
      "1    41039\n",
      "Name: ESTU_PRESTIGIOINSTITUCION, dtype: int64\n",
      "Elementos null/NaN 516908\n",
      "__________________\n",
      "Elementos diferentes de null/NaN: 56043\n",
      "__________________\n",
      "(56043,)\n",
      "None\n"
     ]
    }
   ],
   "source": [
    "c = 'ESTU_PRESTIGIOINSTITUCION'\n",
    "print(data_2012_2[c].value_counts().sort_index().index)\n",
    "print(data_2012_2[c].value_counts().sort_index())\n",
    "print(missing_data(data_2012_2[c]))"
   ]
  },
  {
   "cell_type": "code",
   "execution_count": 127,
   "metadata": {
    "collapsed": false
   },
   "outputs": [
    {
     "name": "stdout",
     "output_type": "stream",
     "text": [
      "cant null antes: 516908\n",
      "cant null despues: 0\n"
     ]
    }
   ],
   "source": [
    "Do_resamples(data_2012_2, c, float)"
   ]
  },
  {
   "cell_type": "code",
   "execution_count": 128,
   "metadata": {
    "collapsed": false
   },
   "outputs": [
    {
     "name": "stdout",
     "output_type": "stream",
     "text": [
      "Float64Index([0.0, 1.0], dtype='float64')\n",
      "0    25355\n",
      "1    30689\n",
      "Name: ESTU_POR_UBICACION, dtype: int64\n",
      "Elementos null/NaN 516907\n",
      "__________________\n",
      "Elementos diferentes de null/NaN: 56044\n",
      "__________________\n",
      "(56044,)\n",
      "None\n"
     ]
    }
   ],
   "source": [
    "c = 'ESTU_POR_UBICACION'\n",
    "print(data_2012_2[c].value_counts().sort_index().index)\n",
    "print(data_2012_2[c].value_counts().sort_index())\n",
    "print(missing_data(data_2012_2[c]))"
   ]
  },
  {
   "cell_type": "code",
   "execution_count": 129,
   "metadata": {
    "collapsed": false
   },
   "outputs": [
    {
     "name": "stdout",
     "output_type": "stream",
     "text": [
      "cant null antes: 516907\n",
      "cant null despues: 0\n"
     ]
    }
   ],
   "source": [
    "Do_resamples(data_2012_2, c, float)"
   ]
  },
  {
   "cell_type": "code",
   "execution_count": 130,
   "metadata": {
    "collapsed": false
   },
   "outputs": [
    {
     "name": "stdout",
     "output_type": "stream",
     "text": [
      "Float64Index([0.0, 1.0], dtype='float64')\n",
      "0    43351\n",
      "1    12692\n",
      "Name: ESTU_POR_UNICAQUEOFRECE, dtype: int64\n",
      "Elementos null/NaN 516908\n",
      "__________________\n",
      "Elementos diferentes de null/NaN: 56043\n",
      "__________________\n",
      "(56043,)\n",
      "None\n"
     ]
    }
   ],
   "source": [
    "c = 'ESTU_POR_UNICAQUEOFRECE'\n",
    "print(data_2012_2[c].value_counts().sort_index().index)\n",
    "print(data_2012_2[c].value_counts().sort_index())\n",
    "print(missing_data(data_2012_2[c]))"
   ]
  },
  {
   "cell_type": "code",
   "execution_count": 131,
   "metadata": {
    "collapsed": false
   },
   "outputs": [
    {
     "name": "stdout",
     "output_type": "stream",
     "text": [
      "cant null antes: 516908\n",
      "cant null despues: 0\n"
     ]
    }
   ],
   "source": [
    "Do_resamples(data_2012_2, c, float)"
   ]
  },
  {
   "cell_type": "code",
   "execution_count": 132,
   "metadata": {
    "collapsed": false
   },
   "outputs": [
    {
     "name": "stdout",
     "output_type": "stream",
     "text": [
      "Index(['-'], dtype='object')\n",
      "-    572951\n",
      "Name: ESTU_RETIRARSE_COLEGIO, dtype: int64\n",
      "Elementos null/NaN 0\n",
      "__________________\n",
      "Elementos diferentes de null/NaN: 572951\n",
      "__________________\n",
      "(572951,)\n",
      "None\n"
     ]
    }
   ],
   "source": [
    "c = 'ESTU_RETIRARSE_COLEGIO'\n",
    "print(data_2012_2[c].value_counts().sort_index().index)\n",
    "print(data_2012_2[c].value_counts().sort_index())\n",
    "print(missing_data(data_2012_2[c]))"
   ]
  },
  {
   "cell_type": "code",
   "execution_count": 133,
   "metadata": {
    "collapsed": false
   },
   "outputs": [],
   "source": [
    "data_2012_2 = data_2012_2.drop([c], axis=1)"
   ]
  },
  {
   "cell_type": "code",
   "execution_count": 134,
   "metadata": {
    "collapsed": false
   },
   "outputs": [
    {
     "name": "stdout",
     "output_type": "stream",
     "text": [
      "Float64Index([0.0, 1.0, 2.0, 3.0, 4.0], dtype='float64')\n",
      "0    518877\n",
      "1     22007\n",
      "2     19904\n",
      "3      4410\n",
      "4      1819\n",
      "Name: ESTU_VECES_ESTADO, dtype: int64\n",
      "Elementos null/NaN 5934\n",
      "__________________\n",
      "Elementos diferentes de null/NaN: 567017\n",
      "__________________\n",
      "(567017,)\n",
      "None\n"
     ]
    }
   ],
   "source": [
    "c = 'ESTU_VECES_ESTADO'\n",
    "print(data_2012_2[c].value_counts().sort_index().index)\n",
    "print(data_2012_2[c].value_counts().sort_index())\n",
    "print(missing_data(data_2012_2[c]))"
   ]
  },
  {
   "cell_type": "code",
   "execution_count": 135,
   "metadata": {
    "collapsed": false
   },
   "outputs": [
    {
     "name": "stdout",
     "output_type": "stream",
     "text": [
      "cant null antes: 5934\n",
      "cant null despues: 1\n",
      "cant null antes: 1\n",
      "cant null despues: 0\n"
     ]
    }
   ],
   "source": [
    "Do_resamples(data_2012_2, c, float)"
   ]
  },
  {
   "cell_type": "code",
   "execution_count": 136,
   "metadata": {
    "collapsed": false,
    "scrolled": true
   },
   "outputs": [
    {
     "name": "stdout",
     "output_type": "stream",
     "text": [
      "Index(['ABEJORRAL', 'ABREGO', 'ACACIAS', 'ACANDI', 'ACHI', 'AGUACHICA',\n",
      "       'AGUADAS', 'AGUAZUL', 'AGUSTIN CODAZZI', 'AIPE',\n",
      "       ...\n",
      "       'VILLETA', 'VIOTA', 'YARUMAL', 'YOLOMBO', 'YOPAL', 'YUMBO', 'ZAPATOCA',\n",
      "       'ZARAGOZA', 'ZARZAL', 'ZIPAQUIRA'],\n",
      "      dtype='object', length=432)\n",
      "ABEJORRAL                     206\n",
      "ABREGO                        237\n",
      "ACACIAS                      1436\n",
      "ACANDI                         51\n",
      "ACHI                          323\n",
      "AGUACHICA                    1350\n",
      "AGUADAS                       298\n",
      "AGUAZUL                       493\n",
      "AGUSTIN CODAZZI               628\n",
      "AIPE                          238\n",
      "ALBAN (SAN JOSE)              214\n",
      "ALCALA                        208\n",
      "ALTO BAUDO (PIE DE PATO)       34\n",
      "AMAGA                         766\n",
      "AMALFI                        389\n",
      "ANDALUCIA                     219\n",
      "ANDES                         914\n",
      "ANOLAIMA                      262\n",
      "ANSERMA                       903\n",
      "ANSERMANUEVO                  141\n",
      "APARTADO                     1967\n",
      "APIA                          290\n",
      "ARACATACA                     408\n",
      "ARAUCA                       1290\n",
      "ARAUQUITA                     312\n",
      "ARBELAEZ                      182\n",
      "ARBOLEDAS                     226\n",
      "ARBOLETES                     512\n",
      "ARIGUANI (EL DIFICIL)         353\n",
      "ARJONA                        944\n",
      "                             ... \n",
      "TURBO                        1674\n",
      "TURMEQUE                      279\n",
      "TUTA                          113\n",
      "UBATE                        1341\n",
      "UNGUIA                         88\n",
      "URIBIA                        334\n",
      "URRAO                         700\n",
      "VALLEDUPAR                   5668\n",
      "VALPARAISO                    144\n",
      "VEGACHI                       206\n",
      "VELEZ                         822\n",
      "VENADILLO                     152\n",
      "VENTAQUEMADA                  176\n",
      "VIGIA DEL FUERTE               91\n",
      "VILLA DE LEYVA                369\n",
      "VILLA DEL ROSARIO             987\n",
      "VILLA GUAMEZ (LA HORMIGA)     619\n",
      "VILLAGARZON                   377\n",
      "VILLANUEVA                    987\n",
      "VILLAVICENCIO                6881\n",
      "VILLETA                       567\n",
      "VIOTA                         223\n",
      "YARUMAL                       881\n",
      "YOLOMBO                       222\n",
      "YOPAL                        2420\n",
      "YUMBO                        1623\n",
      "ZAPATOCA                      155\n",
      "ZARAGOZA                      260\n",
      "ZARZAL                        620\n",
      "ZIPAQUIRA                    3097\n",
      "Name: ESTU_MCPIO_PRESENTACION, dtype: int64\n",
      "Elementos null/NaN 0\n",
      "__________________\n",
      "Elementos diferentes de null/NaN: 572951\n",
      "__________________\n",
      "(572951,)\n",
      "None\n"
     ]
    }
   ],
   "source": [
    "c = 'ESTU_MCPIO_PRESENTACION'\n",
    "print(data_2012_2[c].value_counts().sort_index().index)\n",
    "print(data_2012_2[c].value_counts().sort_index())\n",
    "print(missing_data(data_2012_2[c]))"
   ]
  },
  {
   "cell_type": "code",
   "execution_count": 137,
   "metadata": {
    "collapsed": false,
    "scrolled": true
   },
   "outputs": [
    {
     "name": "stdout",
     "output_type": "stream",
     "text": [
      "Index(['AMAZONAS', 'ANTIOQUIA', 'ARAUCA', 'ATLÁNTICO', 'BOGOTÁ', 'BOLÍVAR',\n",
      "       'BOYACÁ', 'CALDAS', 'CAQUETÁ', 'CASANARE', 'CAUCA', 'CESAR', 'CHOCÓ',\n",
      "       'CUNDINAMARCA', 'CÓRDOBA', 'GUAINÍA', 'GUAVIARE', 'HUILA', 'LA GUAJIRA',\n",
      "       'MAGDALENA', 'META', 'NARIÑO', 'NORTE SANTANDER', 'PUTUMAYO', 'QUINDÍO',\n",
      "       'RISARALDA', 'SAN ANDRÉS', 'SANTANDER', 'SUCRE', 'TOLIMA', 'VALLE',\n",
      "       'VAUPÉS', 'VICHADA'],\n",
      "      dtype='object')\n",
      "AMAZONAS             822\n",
      "ANTIOQUIA          76944\n",
      "ARAUCA              3201\n",
      "ATLÁNTICO          29130\n",
      "BOGOTÁ             97018\n",
      "BOLÍVAR            25402\n",
      "BOYACÁ             19521\n",
      "CALDAS             13209\n",
      "CAQUETÁ             4334\n",
      "CASANARE            5265\n",
      "CAUCA              13508\n",
      "CESAR              12005\n",
      "CHOCÓ               4438\n",
      "CUNDINAMARCA       35410\n",
      "CÓRDOBA            19813\n",
      "GUAINÍA              180\n",
      "GUAVIARE            1047\n",
      "HUILA              14548\n",
      "LA GUAJIRA          6990\n",
      "MAGDALENA          14337\n",
      "META               11581\n",
      "NARIÑO             18126\n",
      "NORTE SANTANDER    16466\n",
      "PUTUMAYO            4039\n",
      "QUINDÍO             7358\n",
      "RISARALDA          11308\n",
      "SAN ANDRÉS           794\n",
      "SANTANDER          29768\n",
      "SUCRE              11154\n",
      "TOLIMA             17419\n",
      "VALLE              47009\n",
      "VAUPÉS               317\n",
      "VICHADA              490\n",
      "Name: ESTU_DEPTO_PRESENTACION, dtype: int64\n",
      "Elementos null/NaN 0\n",
      "__________________\n",
      "Elementos diferentes de null/NaN: 572951\n",
      "__________________\n",
      "(572951,)\n",
      "None\n"
     ]
    }
   ],
   "source": [
    "c = 'ESTU_DEPTO_PRESENTACION'\n",
    "print(data_2012_2[c].value_counts().sort_index().index)\n",
    "print(data_2012_2[c].value_counts().sort_index())\n",
    "print(missing_data(data_2012_2[c]))"
   ]
  },
  {
   "cell_type": "code",
   "execution_count": 138,
   "metadata": {
    "collapsed": false,
    "scrolled": true
   },
   "outputs": [
    {
     "name": "stdout",
     "output_type": "stream",
     "text": [
      "Float64Index([ 0.0,  1.0,  2.0,  3.0,  4.0,  5.0,  6.0,  7.0,  8.0,  9.0, 10.0,\n",
      "              11.0, 12.0, 13.0, 14.0, 15.0, 16.0, 17.0, 99.0],\n",
      "             dtype='float64')\n",
      "0      22159\n",
      "1        621\n",
      "2       3521\n",
      "3       2948\n",
      "4       3327\n",
      "5       6649\n",
      "6        500\n",
      "7       1823\n",
      "8        568\n",
      "9     112054\n",
      "10     98310\n",
      "11     78127\n",
      "12    119450\n",
      "13      6539\n",
      "14     22924\n",
      "15      7603\n",
      "16     40636\n",
      "17      9222\n",
      "99     34545\n",
      "Name: FAMI_EDUCA_PADRE, dtype: int64\n",
      "Elementos null/NaN 1425\n",
      "__________________\n",
      "Elementos diferentes de null/NaN: 571526\n",
      "__________________\n",
      "(571526,)\n",
      "None\n"
     ]
    }
   ],
   "source": [
    "c = 'FAMI_EDUCA_PADRE'\n",
    "print(data_2012_2[c].value_counts().sort_index().index)\n",
    "print(data_2012_2[c].value_counts().sort_index())\n",
    "print(missing_data(data_2012_2[c]))"
   ]
  },
  {
   "cell_type": "code",
   "execution_count": 139,
   "metadata": {
    "collapsed": false
   },
   "outputs": [
    {
     "name": "stdout",
     "output_type": "stream",
     "text": [
      "cant null antes: 1425\n",
      "cant null despues: 1\n",
      "cant null antes: 1\n",
      "cant null despues: 0\n"
     ]
    }
   ],
   "source": [
    "Do_resamples(data_2012_2, c, float)"
   ]
  },
  {
   "cell_type": "code",
   "execution_count": 140,
   "metadata": {
    "collapsed": false,
    "scrolled": true
   },
   "outputs": [
    {
     "name": "stdout",
     "output_type": "stream",
     "text": [
      "Float64Index([ 0.0,  1.0,  2.0,  3.0,  4.0,  5.0,  6.0,  7.0,  8.0,  9.0, 10.0,\n",
      "              11.0, 12.0, 13.0, 14.0, 15.0, 16.0, 17.0, 99.0],\n",
      "             dtype='float64')\n",
      "0      13316\n",
      "1        226\n",
      "2       2707\n",
      "3       2492\n",
      "4       3516\n",
      "5       7628\n",
      "6        629\n",
      "7       2470\n",
      "8        622\n",
      "9     100180\n",
      "10     99695\n",
      "11     91944\n",
      "12    136357\n",
      "13      8333\n",
      "14     29023\n",
      "15      8140\n",
      "16     39781\n",
      "17      9139\n",
      "99     15328\n",
      "Name: FAMI_EDUCA_MADRE, dtype: int64\n",
      "Elementos null/NaN 1425\n",
      "__________________\n",
      "Elementos diferentes de null/NaN: 571526\n",
      "__________________\n",
      "(571526,)\n",
      "None\n"
     ]
    }
   ],
   "source": [
    "c = 'FAMI_EDUCA_MADRE'\n",
    "print(data_2012_2[c].value_counts().sort_index().index)\n",
    "print(data_2012_2[c].value_counts().sort_index())\n",
    "print(missing_data(data_2012_2[c]))"
   ]
  },
  {
   "cell_type": "code",
   "execution_count": 141,
   "metadata": {
    "collapsed": false
   },
   "outputs": [
    {
     "name": "stdout",
     "output_type": "stream",
     "text": [
      "cant null antes: 1425\n",
      "cant null despues: 0\n"
     ]
    }
   ],
   "source": [
    "Do_resamples(data_2012_2, c, float)"
   ]
  },
  {
   "cell_type": "code",
   "execution_count": 142,
   "metadata": {
    "collapsed": false,
    "scrolled": true
   },
   "outputs": [
    {
     "name": "stdout",
     "output_type": "stream",
     "text": [
      "Float64Index([ 1.0,  2.0,  3.0,  4.0,  5.0,  6.0,  7.0,  8.0,  9.0, 10.0, 11.0,\n",
      "              12.0, 13.0, 14.0, 15.0, 16.0, 17.0, 18.0, 19.0, 20.0, 21.0, 22.0,\n",
      "              23.0, 26.0],\n",
      "             dtype='float64')\n",
      "1        404\n",
      "2        736\n",
      "3        420\n",
      "4        371\n",
      "5       2633\n",
      "6        693\n",
      "7       4602\n",
      "8       1099\n",
      "9       8552\n",
      "10       273\n",
      "11      1335\n",
      "12      3723\n",
      "13      8156\n",
      "14     36821\n",
      "15     10074\n",
      "16     15451\n",
      "17     27796\n",
      "18     20563\n",
      "19    103983\n",
      "20     22677\n",
      "21    185106\n",
      "22      7900\n",
      "23     15352\n",
      "26     92806\n",
      "Name: FAMI_OCUPA_PADRE, dtype: int64\n",
      "Elementos null/NaN 1425\n",
      "__________________\n",
      "Elementos diferentes de null/NaN: 571526\n",
      "__________________\n",
      "(571526,)\n",
      "None\n"
     ]
    }
   ],
   "source": [
    "c = 'FAMI_OCUPA_PADRE'\n",
    "print(data_2012_2[c].value_counts().sort_index().index)\n",
    "print(data_2012_2[c].value_counts().sort_index())\n",
    "print(missing_data(data_2012_2[c]))"
   ]
  },
  {
   "cell_type": "code",
   "execution_count": 143,
   "metadata": {
    "collapsed": false,
    "scrolled": true
   },
   "outputs": [
    {
     "name": "stdout",
     "output_type": "stream",
     "text": [
      "Float64Index([ 1.0,  2.0,  3.0,  4.0,  5.0,  6.0,  7.0,  8.0,  9.0, 10.0, 11.0,\n",
      "              12.0, 13.0, 14.0, 15.0, 16.0, 17.0, 18.0, 19.0, 20.0, 21.0, 22.0,\n",
      "              23.0, 26.0],\n",
      "             dtype='float64')\n",
      "1        155\n",
      "2        658\n",
      "3        224\n",
      "4        408\n",
      "5       2495\n",
      "6       1656\n",
      "7       1494\n",
      "8        811\n",
      "9       2644\n",
      "10     11994\n",
      "11       380\n",
      "12      1922\n",
      "13      4111\n",
      "14     14371\n",
      "15      5943\n",
      "16     13726\n",
      "17     20855\n",
      "18     18515\n",
      "19     52607\n",
      "20     13044\n",
      "21     62199\n",
      "22    293349\n",
      "23      5587\n",
      "26     42378\n",
      "Name: FAMI_OCUPA_MADRE, dtype: int64\n",
      "Elementos null/NaN 1425\n",
      "__________________\n",
      "Elementos diferentes de null/NaN: 571526\n",
      "__________________\n",
      "(571526,)\n",
      "None\n"
     ]
    }
   ],
   "source": [
    "c = 'FAMI_OCUPA_MADRE'\n",
    "print(data_2012_2[c].value_counts().sort_index().index)\n",
    "print(data_2012_2[c].value_counts().sort_index())\n",
    "print(missing_data(data_2012_2[c]))"
   ]
  },
  {
   "cell_type": "code",
   "execution_count": 144,
   "metadata": {
    "collapsed": false
   },
   "outputs": [
    {
     "name": "stdout",
     "output_type": "stream",
     "text": [
      "cant null antes: 1425\n",
      "cant null despues: 0\n"
     ]
    }
   ],
   "source": [
    "Do_resamples(data_2012_2, c, float)"
   ]
  },
  {
   "cell_type": "code",
   "execution_count": 145,
   "metadata": {
    "collapsed": false
   },
   "outputs": [
    {
     "name": "stdout",
     "output_type": "stream",
     "text": [
      "Float64Index([1.0, 2.0, 3.0, 4.0, 5.0, 6.0, 8.0], dtype='float64')\n",
      "1    226708\n",
      "2    198592\n",
      "3     98557\n",
      "4     19089\n",
      "5      5696\n",
      "6      2376\n",
      "8        42\n",
      "Name: FAMI_ESTRATO_VIVIENDA, dtype: int64\n",
      "Elementos null/NaN 21891\n",
      "__________________\n",
      "Elementos diferentes de null/NaN: 551060\n",
      "__________________\n",
      "(551060,)\n",
      "None\n"
     ]
    }
   ],
   "source": [
    "c = 'FAMI_ESTRATO_VIVIENDA'\n",
    "print(data_2012_2[c].value_counts().sort_index().index)\n",
    "print(data_2012_2[c].value_counts().sort_index())\n",
    "print(missing_data(data_2012_2[c]))"
   ]
  },
  {
   "cell_type": "code",
   "execution_count": 146,
   "metadata": {
    "collapsed": false
   },
   "outputs": [
    {
     "name": "stdout",
     "output_type": "stream",
     "text": [
      "cant null antes: 21891\n",
      "cant null despues: 1\n",
      "cant null antes: 1\n",
      "cant null despues: 0\n"
     ]
    }
   ],
   "source": [
    "data_2012_2[c] = data_2012_2[c].replace(8, 6)\n",
    "Do_resamples(data_2012_2, c, float)"
   ]
  },
  {
   "cell_type": "code",
   "execution_count": 147,
   "metadata": {
    "collapsed": false
   },
   "outputs": [
    {
     "name": "stdout",
     "output_type": "stream",
     "text": [
      "Float64Index([1.0, 2.0, 3.0, 4.0, 5.0, 6.0, 7.0, 8.0, 9.0, 10.0], dtype='float64')\n",
      "1       894\n",
      "2      8331\n",
      "3     11227\n",
      "4      3529\n",
      "5       838\n",
      "6       227\n",
      "7        83\n",
      "8        41\n",
      "9        11\n",
      "10       24\n",
      "Name: FAMI_CUARTOS_HOGAR, dtype: int64\n",
      "Elementos null/NaN 547746\n",
      "__________________\n",
      "Elementos diferentes de null/NaN: 25205\n",
      "__________________\n",
      "(25205,)\n",
      "None\n"
     ]
    }
   ],
   "source": [
    "c = 'FAMI_CUARTOS_HOGAR'\n",
    "print(data_2012_2[c].value_counts().sort_index().index)\n",
    "print(data_2012_2[c].value_counts().sort_index())\n",
    "print(missing_data(data_2012_2[c]))"
   ]
  },
  {
   "cell_type": "code",
   "execution_count": 148,
   "metadata": {
    "collapsed": false
   },
   "outputs": [
    {
     "name": "stdout",
     "output_type": "stream",
     "text": [
      "cant null antes: 547746\n",
      "cant null despues: 0\n"
     ]
    }
   ],
   "source": [
    "Do_resamples(data_2012_2, c, float)"
   ]
  },
  {
   "cell_type": "code",
   "execution_count": 149,
   "metadata": {
    "collapsed": false
   },
   "outputs": [
    {
     "name": "stdout",
     "output_type": "stream",
     "text": [
      "Float64Index([1.0, 2.0, 3.0, 4.0, 5.0], dtype='float64')\n",
      "1    253216\n",
      "2    135034\n",
      "3     25489\n",
      "4      4581\n",
      "5    153205\n",
      "Name: FAMI_NIVEL_SISBEN, dtype: int64\n",
      "Elementos null/NaN 1426\n",
      "__________________\n",
      "Elementos diferentes de null/NaN: 571525\n",
      "__________________\n",
      "(571525,)\n",
      "None\n"
     ]
    }
   ],
   "source": [
    "c = 'FAMI_NIVEL_SISBEN'\n",
    "print(data_2012_2[c].value_counts().sort_index().index)\n",
    "print(data_2012_2[c].value_counts().sort_index())\n",
    "print(missing_data(data_2012_2[c]))"
   ]
  },
  {
   "cell_type": "code",
   "execution_count": 150,
   "metadata": {
    "collapsed": false
   },
   "outputs": [
    {
     "name": "stdout",
     "output_type": "stream",
     "text": [
      "cant null antes: 1426\n",
      "cant null despues: 0\n"
     ]
    }
   ],
   "source": [
    "Do_resamples(data_2012_2, c, float)"
   ]
  },
  {
   "cell_type": "code",
   "execution_count": 151,
   "metadata": {
    "collapsed": false
   },
   "outputs": [
    {
     "name": "stdout",
     "output_type": "stream",
     "text": [
      "Float64Index([1.0, 2.0, 3.0, 4.0, 5.0], dtype='float64')\n",
      "1     30081\n",
      "2    260610\n",
      "3     29688\n",
      "4    250916\n",
      "5       231\n",
      "Name: FAMI_PISOSHOGAR, dtype: int64\n",
      "Elementos null/NaN 1425\n",
      "__________________\n",
      "Elementos diferentes de null/NaN: 571526\n",
      "__________________\n",
      "(571526,)\n",
      "None\n"
     ]
    }
   ],
   "source": [
    "c = 'FAMI_PISOSHOGAR'\n",
    "print(data_2012_2[c].value_counts().sort_index().index)\n",
    "print(data_2012_2[c].value_counts().sort_index())\n",
    "print(missing_data(data_2012_2[c]))"
   ]
  },
  {
   "cell_type": "code",
   "execution_count": 152,
   "metadata": {
    "collapsed": false
   },
   "outputs": [
    {
     "name": "stdout",
     "output_type": "stream",
     "text": [
      "cant null antes: 1425\n",
      "cant null despues: 0\n"
     ]
    }
   ],
   "source": [
    "Do_resamples(data_2012_2, c, float)"
   ]
  },
  {
   "cell_type": "code",
   "execution_count": 153,
   "metadata": {
    "collapsed": false
   },
   "outputs": [
    {
     "name": "stdout",
     "output_type": "stream",
     "text": [
      "Float64Index([1.0, 2.0, 3.0, 4.0, 5.0, 6.0, 7.0, 8.0, 9.0, 10.0, 11.0, 12.0], dtype='float64')\n",
      "1       2947\n",
      "2      26267\n",
      "3      89209\n",
      "4     165189\n",
      "5     136481\n",
      "6      72497\n",
      "7      35151\n",
      "8      19752\n",
      "9       9203\n",
      "10      6431\n",
      "11      2949\n",
      "12      5450\n",
      "Name: FAMI_PERSONAS_HOGAR, dtype: int64\n",
      "Elementos null/NaN 1425\n",
      "__________________\n",
      "Elementos diferentes de null/NaN: 571526\n",
      "__________________\n",
      "(571526,)\n",
      "None\n"
     ]
    }
   ],
   "source": [
    "c = 'FAMI_PERSONAS_HOGAR'\n",
    "print(data_2012_2[c].value_counts().sort_index().index)\n",
    "print(data_2012_2[c].value_counts().sort_index())\n",
    "print(missing_data(data_2012_2[c]))"
   ]
  },
  {
   "cell_type": "code",
   "execution_count": 154,
   "metadata": {
    "collapsed": false
   },
   "outputs": [
    {
     "name": "stdout",
     "output_type": "stream",
     "text": [
      "cant null antes: 1425\n",
      "cant null despues: 1\n",
      "cant null antes: 1\n",
      "cant null despues: 0\n"
     ]
    }
   ],
   "source": [
    "Do_resamples(data_2012_2, c, float)"
   ]
  },
  {
   "cell_type": "code",
   "execution_count": 155,
   "metadata": {
    "collapsed": false
   },
   "outputs": [
    {
     "name": "stdout",
     "output_type": "stream",
     "text": [
      "Float64Index([0.0, 1.0], dtype='float64')\n",
      "0    305477\n",
      "1    266051\n",
      "Name: FAMI_TELEFONO_FIJO, dtype: int64\n",
      "Elementos null/NaN 1423\n",
      "__________________\n",
      "Elementos diferentes de null/NaN: 571528\n",
      "__________________\n",
      "(571528,)\n",
      "None\n"
     ]
    }
   ],
   "source": [
    "c = 'FAMI_TELEFONO_FIJO'\n",
    "print(data_2012_2[c].value_counts().sort_index().index)\n",
    "print(data_2012_2[c].value_counts().sort_index())\n",
    "print(missing_data(data_2012_2[c]))"
   ]
  },
  {
   "cell_type": "code",
   "execution_count": 156,
   "metadata": {
    "collapsed": false
   },
   "outputs": [
    {
     "name": "stdout",
     "output_type": "stream",
     "text": [
      "cant null antes: 1423\n",
      "cant null despues: 0\n"
     ]
    }
   ],
   "source": [
    "Do_resamples(data_2012_2, c, float)"
   ]
  },
  {
   "cell_type": "code",
   "execution_count": 157,
   "metadata": {
    "collapsed": false
   },
   "outputs": [
    {
     "name": "stdout",
     "output_type": "stream",
     "text": [
      "Float64Index([0.0, 1.0], dtype='float64')\n",
      "0     38832\n",
      "1    532977\n",
      "Name: FAMI_CELULAR, dtype: int64\n",
      "Elementos null/NaN 1142\n",
      "__________________\n",
      "Elementos diferentes de null/NaN: 571809\n",
      "__________________\n",
      "(571809,)\n",
      "None\n"
     ]
    }
   ],
   "source": [
    "c = 'FAMI_CELULAR'\n",
    "print(data_2012_2[c].value_counts().sort_index().index)\n",
    "print(data_2012_2[c].value_counts().sort_index())\n",
    "print(missing_data(data_2012_2[c]))"
   ]
  },
  {
   "cell_type": "code",
   "execution_count": 158,
   "metadata": {
    "collapsed": false
   },
   "outputs": [
    {
     "name": "stdout",
     "output_type": "stream",
     "text": [
      "cant null antes: 1142\n",
      "cant null despues: 0\n"
     ]
    }
   ],
   "source": [
    "Do_resamples(data_2012_2, c, float)"
   ]
  },
  {
   "cell_type": "code",
   "execution_count": 159,
   "metadata": {
    "collapsed": false
   },
   "outputs": [
    {
     "name": "stdout",
     "output_type": "stream",
     "text": [
      "Float64Index([0.0, 1.0], dtype='float64')\n",
      "0    320000\n",
      "1    251528\n",
      "Name: FAMI_INTERNET, dtype: int64\n",
      "Elementos null/NaN 1423\n",
      "__________________\n",
      "Elementos diferentes de null/NaN: 571528\n",
      "__________________\n",
      "(571528,)\n",
      "None\n"
     ]
    }
   ],
   "source": [
    "c = 'FAMI_INTERNET'\n",
    "print(data_2012_2[c].value_counts().sort_index().index)\n",
    "print(data_2012_2[c].value_counts().sort_index())\n",
    "print(missing_data(data_2012_2[c]))"
   ]
  },
  {
   "cell_type": "code",
   "execution_count": 160,
   "metadata": {
    "collapsed": false
   },
   "outputs": [
    {
     "name": "stdout",
     "output_type": "stream",
     "text": [
      "cant null antes: 1423\n",
      "cant null despues: 0\n"
     ]
    }
   ],
   "source": [
    "Do_resamples(data_2012_2, c, float)"
   ]
  },
  {
   "cell_type": "code",
   "execution_count": 161,
   "metadata": {
    "collapsed": false
   },
   "outputs": [
    {
     "name": "stdout",
     "output_type": "stream",
     "text": [
      "Float64Index([0.0, 1.0], dtype='float64')\n",
      "0    220277\n",
      "1    351251\n",
      "Name: FAMI_SERVICIO_TELEVISION, dtype: int64\n",
      "Elementos null/NaN 1423\n",
      "__________________\n",
      "Elementos diferentes de null/NaN: 571528\n",
      "__________________\n",
      "(571528,)\n",
      "None\n"
     ]
    }
   ],
   "source": [
    "c = 'FAMI_SERVICIO_TELEVISION'\n",
    "print(data_2012_2[c].value_counts().sort_index().index)\n",
    "print(data_2012_2[c].value_counts().sort_index())\n",
    "print(missing_data(data_2012_2[c]))"
   ]
  },
  {
   "cell_type": "code",
   "execution_count": 162,
   "metadata": {
    "collapsed": false
   },
   "outputs": [
    {
     "name": "stdout",
     "output_type": "stream",
     "text": [
      "cant null antes: 1423\n",
      "cant null despues: 0\n"
     ]
    }
   ],
   "source": [
    "Do_resamples(data_2012_2, c, float)"
   ]
  },
  {
   "cell_type": "code",
   "execution_count": 163,
   "metadata": {
    "collapsed": false
   },
   "outputs": [
    {
     "name": "stdout",
     "output_type": "stream",
     "text": [
      "Float64Index([0.0, 1.0, 3.0], dtype='float64')\n",
      "0    252486\n",
      "1     17942\n",
      "3    301100\n",
      "Name: FAMI_COMPUTADOR, dtype: int64\n",
      "Elementos null/NaN 1423\n",
      "__________________\n",
      "Elementos diferentes de null/NaN: 571528\n",
      "__________________\n",
      "(571528,)\n",
      "None\n"
     ]
    }
   ],
   "source": [
    "c = 'FAMI_COMPUTADOR'\n",
    "print(data_2012_2[c].value_counts().sort_index().index)\n",
    "print(data_2012_2[c].value_counts().sort_index())\n",
    "print(missing_data(data_2012_2[c]))"
   ]
  },
  {
   "cell_type": "code",
   "execution_count": 164,
   "metadata": {
    "collapsed": false
   },
   "outputs": [
    {
     "name": "stdout",
     "output_type": "stream",
     "text": [
      "cant null antes: 1423\n",
      "cant null despues: 0\n"
     ]
    }
   ],
   "source": [
    "Do_resamples(data_2012_2, c, float)"
   ]
  },
  {
   "cell_type": "code",
   "execution_count": 165,
   "metadata": {
    "collapsed": false
   },
   "outputs": [
    {
     "name": "stdout",
     "output_type": "stream",
     "text": [
      "Float64Index([0.0, 1.0], dtype='float64')\n",
      "0    218136\n",
      "1    353392\n",
      "Name: FAMI_LAVADORA, dtype: int64\n",
      "Elementos null/NaN 1423\n",
      "__________________\n",
      "Elementos diferentes de null/NaN: 571528\n",
      "__________________\n",
      "(571528,)\n",
      "None\n"
     ]
    }
   ],
   "source": [
    "c = 'FAMI_LAVADORA'\n",
    "print(data_2012_2[c].value_counts().sort_index().index)\n",
    "print(data_2012_2[c].value_counts().sort_index())\n",
    "print(missing_data(data_2012_2[c]))"
   ]
  },
  {
   "cell_type": "code",
   "execution_count": 166,
   "metadata": {
    "collapsed": false
   },
   "outputs": [
    {
     "name": "stdout",
     "output_type": "stream",
     "text": [
      "cant null antes: 1423\n",
      "cant null despues: 0\n"
     ]
    }
   ],
   "source": [
    "Do_resamples(data_2012_2, c, float)"
   ]
  },
  {
   "cell_type": "code",
   "execution_count": 167,
   "metadata": {
    "collapsed": false
   },
   "outputs": [
    {
     "name": "stdout",
     "output_type": "stream",
     "text": [
      "Float64Index([0.0, 1.0], dtype='float64')\n",
      "0     69782\n",
      "1    502027\n",
      "Name: FAMI_NEVERA, dtype: int64\n",
      "Elementos null/NaN 1142\n",
      "__________________\n",
      "Elementos diferentes de null/NaN: 571809\n",
      "__________________\n",
      "(571809,)\n",
      "None\n"
     ]
    }
   ],
   "source": [
    "c = 'FAMI_NEVERA'\n",
    "print(data_2012_2[c].value_counts().sort_index().index)\n",
    "print(data_2012_2[c].value_counts().sort_index())\n",
    "print(missing_data(data_2012_2[c]))"
   ]
  },
  {
   "cell_type": "code",
   "execution_count": 168,
   "metadata": {
    "collapsed": false
   },
   "outputs": [
    {
     "name": "stdout",
     "output_type": "stream",
     "text": [
      "cant null antes: 1142\n",
      "cant null despues: 0\n"
     ]
    }
   ],
   "source": [
    "Do_resamples(data_2012_2, c, float)"
   ]
  },
  {
   "cell_type": "code",
   "execution_count": 169,
   "metadata": {
    "collapsed": false
   },
   "outputs": [
    {
     "name": "stdout",
     "output_type": "stream",
     "text": [
      "Float64Index([0.0, 1.0], dtype='float64')\n",
      "0    329411\n",
      "1    242117\n",
      "Name: FAMI_HORNO, dtype: int64\n",
      "Elementos null/NaN 1423\n",
      "__________________\n",
      "Elementos diferentes de null/NaN: 571528\n",
      "__________________\n",
      "(571528,)\n",
      "None\n"
     ]
    }
   ],
   "source": [
    "c = 'FAMI_HORNO'\n",
    "print(data_2012_2[c].value_counts().sort_index().index)\n",
    "print(data_2012_2[c].value_counts().sort_index())\n",
    "print(missing_data(data_2012_2[c]))"
   ]
  },
  {
   "cell_type": "code",
   "execution_count": 170,
   "metadata": {
    "collapsed": false
   },
   "outputs": [
    {
     "name": "stdout",
     "output_type": "stream",
     "text": [
      "cant null antes: 1423\n",
      "cant null despues: 0\n"
     ]
    }
   ],
   "source": [
    "Do_resamples(data_2012_2, c, float)"
   ]
  },
  {
   "cell_type": "code",
   "execution_count": 171,
   "metadata": {
    "collapsed": false
   },
   "outputs": [
    {
     "name": "stdout",
     "output_type": "stream",
     "text": [
      "Float64Index([0.0, 1.0], dtype='float64')\n",
      "0    195674\n",
      "1    375854\n",
      "Name: FAMI_DVD, dtype: int64\n",
      "Elementos null/NaN 1423\n",
      "__________________\n",
      "Elementos diferentes de null/NaN: 571528\n",
      "__________________\n",
      "(571528,)\n",
      "None\n"
     ]
    }
   ],
   "source": [
    "c = 'FAMI_DVD'\n",
    "print(data_2012_2[c].value_counts().sort_index().index)\n",
    "print(data_2012_2[c].value_counts().sort_index())\n",
    "print(missing_data(data_2012_2[c]))"
   ]
  },
  {
   "cell_type": "code",
   "execution_count": 172,
   "metadata": {
    "collapsed": false
   },
   "outputs": [
    {
     "name": "stdout",
     "output_type": "stream",
     "text": [
      "cant null antes: 1423\n",
      "cant null despues: 0\n"
     ]
    }
   ],
   "source": [
    "Do_resamples(data_2012_2, c, float)"
   ]
  },
  {
   "cell_type": "code",
   "execution_count": 173,
   "metadata": {
    "collapsed": false
   },
   "outputs": [
    {
     "name": "stdout",
     "output_type": "stream",
     "text": [
      "Float64Index([0.0, 1.0], dtype='float64')\n",
      "0    419024\n",
      "1    152504\n",
      "Name: FAMI_MICROONDAS, dtype: int64\n",
      "Elementos null/NaN 1423\n",
      "__________________\n",
      "Elementos diferentes de null/NaN: 571528\n",
      "__________________\n",
      "(571528,)\n",
      "None\n"
     ]
    }
   ],
   "source": [
    "c = 'FAMI_MICROONDAS'\n",
    "print(data_2012_2[c].value_counts().sort_index().index)\n",
    "print(data_2012_2[c].value_counts().sort_index())\n",
    "print(missing_data(data_2012_2[c]))"
   ]
  },
  {
   "cell_type": "code",
   "execution_count": 174,
   "metadata": {
    "collapsed": false
   },
   "outputs": [
    {
     "name": "stdout",
     "output_type": "stream",
     "text": [
      "cant null antes: 1423\n",
      "cant null despues: 0\n"
     ]
    }
   ],
   "source": [
    "Do_resamples(data_2012_2, c, float)"
   ]
  },
  {
   "cell_type": "code",
   "execution_count": 175,
   "metadata": {
    "collapsed": false
   },
   "outputs": [
    {
     "name": "stdout",
     "output_type": "stream",
     "text": [
      "Float64Index([0.0, 1.0], dtype='float64')\n",
      "0    467448\n",
      "1    104080\n",
      "Name: FAMI_AUTOMOVIL, dtype: int64\n",
      "Elementos null/NaN 1423\n",
      "__________________\n",
      "Elementos diferentes de null/NaN: 571528\n",
      "__________________\n",
      "(571528,)\n",
      "None\n"
     ]
    }
   ],
   "source": [
    "c = 'FAMI_AUTOMOVIL'\n",
    "print(data_2012_2[c].value_counts().sort_index().index)\n",
    "print(data_2012_2[c].value_counts().sort_index())\n",
    "print(missing_data(data_2012_2[c]))"
   ]
  },
  {
   "cell_type": "code",
   "execution_count": 176,
   "metadata": {
    "collapsed": false
   },
   "outputs": [
    {
     "name": "stdout",
     "output_type": "stream",
     "text": [
      "cant null antes: 1423\n",
      "cant null despues: 0\n"
     ]
    }
   ],
   "source": [
    "Do_resamples(data_2012_2, c, float)"
   ]
  },
  {
   "cell_type": "code",
   "execution_count": 177,
   "metadata": {
    "collapsed": false
   },
   "outputs": [
    {
     "name": "stdout",
     "output_type": "stream",
     "text": [
      "Float64Index([1.0, 2.0, 3.0, 4.0, 5.0, 6.0, 7.0], dtype='float64')\n",
      "1    184122\n",
      "2    252517\n",
      "3     77816\n",
      "4     34821\n",
      "5     11261\n",
      "6      5823\n",
      "7      5166\n",
      "Name: FAMI_INGRESO_FMILIAR_MENSUAL, dtype: int64\n",
      "Elementos null/NaN 1425\n",
      "__________________\n",
      "Elementos diferentes de null/NaN: 571526\n",
      "__________________\n",
      "(571526,)\n",
      "None\n"
     ]
    }
   ],
   "source": [
    "c = 'FAMI_INGRESO_FMILIAR_MENSUAL'\n",
    "print(data_2012_2[c].value_counts().sort_index().index)\n",
    "print(data_2012_2[c].value_counts().sort_index())\n",
    "print(missing_data(data_2012_2[c]))"
   ]
  },
  {
   "cell_type": "code",
   "execution_count": 178,
   "metadata": {
    "collapsed": false
   },
   "outputs": [
    {
     "name": "stdout",
     "output_type": "stream",
     "text": [
      "cant null antes: 1425\n",
      "cant null despues: 0\n"
     ]
    }
   ],
   "source": [
    "Do_resamples(data_2012_2, c, float)"
   ]
  },
  {
   "cell_type": "code",
   "execution_count": 179,
   "metadata": {
    "collapsed": false
   },
   "outputs": [
    {
     "name": "stdout",
     "output_type": "stream",
     "text": [
      "Float64Index([0.0, 1.0, 2.0, 3.0, 4.0, 5.0, 6.0, 7.0], dtype='float64')\n",
      "0    479614\n",
      "1      3563\n",
      "2       301\n",
      "3      1985\n",
      "4      2699\n",
      "5      1360\n",
      "6     34814\n",
      "7     25147\n",
      "Name: ESTU_TRABAJA, dtype: int64\n",
      "Elementos null/NaN 23468\n",
      "__________________\n",
      "Elementos diferentes de null/NaN: 549483\n",
      "__________________\n",
      "(549483,)\n",
      "None\n"
     ]
    }
   ],
   "source": [
    "c = 'ESTU_TRABAJA'\n",
    "print(data_2012_2[c].value_counts().sort_index().index)\n",
    "print(data_2012_2[c].value_counts().sort_index())\n",
    "print(missing_data(data_2012_2[c]))"
   ]
  },
  {
   "cell_type": "code",
   "execution_count": 180,
   "metadata": {
    "collapsed": false
   },
   "outputs": [
    {
     "name": "stdout",
     "output_type": "stream",
     "text": [
      "cant null antes: 23468\n",
      "cant null despues: 0\n"
     ]
    }
   ],
   "source": [
    "Do_resamples(data_2012_2, c, float)"
   ]
  },
  {
   "cell_type": "code",
   "execution_count": 181,
   "metadata": {
    "collapsed": false,
    "scrolled": true
   },
   "outputs": [
    {
     "name": "stdout",
     "output_type": "stream",
     "text": [
      "Float64Index([ 0.0,  1.0,  2.0,  3.0,  4.0,  5.0,  6.0,  7.0,  8.0,  9.0, 10.0,\n",
      "              11.0, 12.0, 13.0, 14.0, 15.0, 16.0, 17.0, 18.0, 19.0, 20.0],\n",
      "             dtype='float64')\n",
      "0        8\n",
      "1        6\n",
      "2       12\n",
      "3       26\n",
      "4       72\n",
      "5       49\n",
      "6      107\n",
      "7       38\n",
      "8      552\n",
      "9      124\n",
      "10     181\n",
      "11      23\n",
      "12     121\n",
      "13      13\n",
      "14      26\n",
      "15      60\n",
      "16      98\n",
      "17      11\n",
      "18      85\n",
      "19      22\n",
      "20    4406\n",
      "Name: ESTU_HORAS_TRABAJA, dtype: int64\n",
      "Elementos null/NaN 566911\n",
      "__________________\n",
      "Elementos diferentes de null/NaN: 6040\n",
      "__________________\n",
      "(6040,)\n",
      "None\n"
     ]
    }
   ],
   "source": [
    "c = 'ESTU_HORAS_TRABAJA'\n",
    "print(data_2012_2[c].value_counts().sort_index().index)\n",
    "print(data_2012_2[c].value_counts().sort_index())\n",
    "print(missing_data(data_2012_2[c]))"
   ]
  },
  {
   "cell_type": "code",
   "execution_count": 182,
   "metadata": {
    "collapsed": false
   },
   "outputs": [
    {
     "name": "stdout",
     "output_type": "stream",
     "text": [
      "cant null antes: 566911\n",
      "cant null despues: 0\n"
     ]
    }
   ],
   "source": [
    "Do_resamples(data_2012_2, c, float)"
   ]
  },
  {
   "cell_type": "markdown",
   "metadata": {},
   "source": [
    "## TARGETS"
   ]
  },
  {
   "cell_type": "code",
   "execution_count": 183,
   "metadata": {
    "collapsed": false,
    "scrolled": true
   },
   "outputs": [
    {
     "name": "stdout",
     "output_type": "stream",
     "text": [
      "Int64Index([ 0, 16, 17, 18, 20, 24, 25, 26, 29, 31, 32, 33, 34, 35, 36, 37, 38,\n",
      "            39, 40, 41, 42, 43, 44, 45, 46, 47, 48, 49, 50, 51, 52, 53, 54, 55,\n",
      "            56, 57, 58, 59, 60, 61, 62, 63, 64, 65, 67, 68, 70, 71, 74, 75, 76,\n",
      "            81, 82, 93],\n",
      "           dtype='int64')\n",
      "0       338\n",
      "16      144\n",
      "17      181\n",
      "18       16\n",
      "20      132\n",
      "24      652\n",
      "25      682\n",
      "26      586\n",
      "29     4178\n",
      "31     1645\n",
      "32     2368\n",
      "33     7647\n",
      "34     3792\n",
      "35     4580\n",
      "36    14623\n",
      "37     6591\n",
      "38    29711\n",
      "39     8790\n",
      "40    40202\n",
      "41    10934\n",
      "42    47202\n",
      "43    12389\n",
      "44    50575\n",
      "45    12583\n",
      "46    49718\n",
      "47    11914\n",
      "48    46565\n",
      "49    10727\n",
      "50    40931\n",
      "51     8903\n",
      "52    34455\n",
      "53    33762\n",
      "54     6409\n",
      "55    20145\n",
      "56     4504\n",
      "57    14129\n",
      "58     3256\n",
      "59     9503\n",
      "60     2214\n",
      "61     4502\n",
      "62     1568\n",
      "63     1275\n",
      "64     3670\n",
      "65      666\n",
      "67     1812\n",
      "68      336\n",
      "70      897\n",
      "71      146\n",
      "74      174\n",
      "75      122\n",
      "76       27\n",
      "81       36\n",
      "82       34\n",
      "93       10\n",
      "Name: PUNT_LENGUAJE, dtype: int64\n",
      "Elementos null/NaN 0\n",
      "__________________\n",
      "Elementos diferentes de null/NaN: 572951\n",
      "__________________\n",
      "(572951,)\n",
      "None\n"
     ]
    }
   ],
   "source": [
    "c = 'PUNT_LENGUAJE'\n",
    "print(data_2012_2[c].value_counts().sort_index().index)\n",
    "print(data_2012_2[c].value_counts().sort_index())\n",
    "print(missing_data(data_2012_2[c]))"
   ]
  },
  {
   "cell_type": "code",
   "execution_count": 184,
   "metadata": {
    "collapsed": false,
    "scrolled": true
   },
   "outputs": [
    {
     "name": "stdout",
     "output_type": "stream",
     "text": [
      "Int64Index([  0,   1,   2,   6,   7,  12,  13,  17,  18,  20,  24,  25,  26,\n",
      "             28,  30,  31,  34,  35,  38,  39,  40,  42,  43,  45,  46,  48,\n",
      "             49,  50,  51,  52,  53,  55,  56,  58,  59,  61,  62,  64,  65,\n",
      "             67,  68,  70,  71,  72,  73,  74,  75,  76,  77,  79,  80,  81,\n",
      "             84,  85,  90,  91,  96,  97, 100, 107, 108, 109, 124, 125, 126],\n",
      "           dtype='int64')\n",
      "0        333\n",
      "1         99\n",
      "2         10\n",
      "6        582\n",
      "7        592\n",
      "12       413\n",
      "13        39\n",
      "17      2132\n",
      "18      2348\n",
      "20      1519\n",
      "24      2999\n",
      "25     13306\n",
      "26       237\n",
      "28         1\n",
      "30     25514\n",
      "31      7493\n",
      "34     19693\n",
      "35     33168\n",
      "38     25992\n",
      "39     43195\n",
      "40         1\n",
      "42     46623\n",
      "43     31643\n",
      "45     31218\n",
      "46     45441\n",
      "48       913\n",
      "49     53245\n",
      "50     12688\n",
      "51       768\n",
      "52     42685\n",
      "       ...  \n",
      "61     13510\n",
      "62      3886\n",
      "64      8949\n",
      "65      2638\n",
      "67      6134\n",
      "68      1691\n",
      "70      4184\n",
      "71        83\n",
      "72       967\n",
      "73      1504\n",
      "74      1482\n",
      "75        44\n",
      "76       663\n",
      "77      2136\n",
      "79        41\n",
      "80       834\n",
      "81      1130\n",
      "84       275\n",
      "85      1032\n",
      "90       493\n",
      "91       300\n",
      "96       106\n",
      "97       345\n",
      "100        3\n",
      "107       85\n",
      "108       70\n",
      "109       22\n",
      "124        6\n",
      "125        4\n",
      "126        4\n",
      "Name: PUNT_MATEMATICAS, dtype: int64\n",
      "Elementos null/NaN 0\n",
      "__________________\n",
      "Elementos diferentes de null/NaN: 572951\n",
      "__________________\n",
      "(572951,)\n",
      "None\n"
     ]
    }
   ],
   "source": [
    "c = 'PUNT_MATEMATICAS'\n",
    "print(data_2012_2[c].value_counts().sort_index().index)\n",
    "print(data_2012_2[c].value_counts().sort_index())\n",
    "print(missing_data(data_2012_2[c]))"
   ]
  },
  {
   "cell_type": "code",
   "execution_count": 185,
   "metadata": {
    "collapsed": true
   },
   "outputs": [],
   "source": [
    "for i in data_2012_2[c].value_counts().sort_index().index:\n",
    "    if i > 100:\n",
    "        data_2012_2[c] = data_2012_2[c].replace(i, 100)"
   ]
  },
  {
   "cell_type": "code",
   "execution_count": 186,
   "metadata": {
    "collapsed": false,
    "scrolled": true
   },
   "outputs": [
    {
     "name": "stdout",
     "output_type": "stream",
     "text": [
      "Int64Index([  0,   2,   9,  10,  11,  16,  17,  20,  21,  22,  24,  25,  26,\n",
      "             28,  29,  30,  31,  32,  33,  35,  36,  37,  38,  40,  42,  43,\n",
      "             44,  45,  46,  47,  48,  49,  50,  51,  52,  53,  54,  55,  56,\n",
      "             57,  58,  59,  60,  61,  62,  63,  64,  65,  66,  67,  68,  69,\n",
      "             71,  72,  74,  75,  76,  79,  80,  84,  85,  86,  89,  94,  96,\n",
      "            104, 111],\n",
      "           dtype='int64')\n",
      "0        700\n",
      "2         30\n",
      "9        190\n",
      "10        89\n",
      "11        78\n",
      "16       817\n",
      "17       220\n",
      "20      1645\n",
      "21      1093\n",
      "22        66\n",
      "24      4863\n",
      "25      1168\n",
      "26       144\n",
      "28     11525\n",
      "29       297\n",
      "30      3396\n",
      "31     14962\n",
      "32       435\n",
      "33     27315\n",
      "35      7146\n",
      "36     28763\n",
      "37      8149\n",
      "38     35976\n",
      "40     50236\n",
      "42     52835\n",
      "43     11338\n",
      "44     42431\n",
      "45     10946\n",
      "46     40308\n",
      "47     10109\n",
      "       ...  \n",
      "55      4572\n",
      "56     16733\n",
      "57      3619\n",
      "58      9488\n",
      "59      3212\n",
      "60      7319\n",
      "61      4499\n",
      "62      3486\n",
      "63      4457\n",
      "64        94\n",
      "65      4146\n",
      "66       984\n",
      "67       773\n",
      "68      2191\n",
      "69        26\n",
      "71      1551\n",
      "72        16\n",
      "74       275\n",
      "75       395\n",
      "76        11\n",
      "79       163\n",
      "80        60\n",
      "84        20\n",
      "85        32\n",
      "86         2\n",
      "89        11\n",
      "94         8\n",
      "96         1\n",
      "104        4\n",
      "111        1\n",
      "Name: PUNT_C_SOCIALES, dtype: int64\n",
      "Elementos null/NaN 0\n",
      "__________________\n",
      "Elementos diferentes de null/NaN: 572951\n",
      "__________________\n",
      "(572951,)\n",
      "None\n"
     ]
    }
   ],
   "source": [
    "c = 'PUNT_C_SOCIALES'\n",
    "print(data_2012_2[c].value_counts().sort_index().index)\n",
    "print(data_2012_2[c].value_counts().sort_index())\n",
    "print(missing_data(data_2012_2[c]))"
   ]
  },
  {
   "cell_type": "code",
   "execution_count": 187,
   "metadata": {
    "collapsed": true
   },
   "outputs": [],
   "source": [
    "for i in data_2012_2[c].value_counts().sort_index().index:\n",
    "    if i > 100:\n",
    "        data_2012_2[c] = data_2012_2[c].replace(i, 100)"
   ]
  },
  {
   "cell_type": "code",
   "execution_count": 188,
   "metadata": {
    "collapsed": false,
    "scrolled": true
   },
   "outputs": [
    {
     "name": "stdout",
     "output_type": "stream",
     "text": [
      "Int64Index([ 0,  1,  2,  4,  5,  6,  8, 13, 14, 15, 19, 20, 21, 22, 23, 25, 26,\n",
      "            27, 29, 30, 32, 33, 34, 35, 36, 37, 39, 40, 42, 43, 45, 46, 47, 48,\n",
      "            49, 50, 51, 52, 53, 54, 55, 56, 57, 58, 59, 60, 61, 62, 63, 64, 65,\n",
      "            66, 67, 68, 69, 70, 71, 72, 73, 74, 76, 78, 79, 81],\n",
      "           dtype='int64')\n",
      "0       339\n",
      "1       123\n",
      "2       176\n",
      "4       135\n",
      "5       149\n",
      "6        10\n",
      "8       410\n",
      "13     1455\n",
      "14     1297\n",
      "15     1240\n",
      "19     2908\n",
      "20     4053\n",
      "21     1943\n",
      "22     1665\n",
      "23     5222\n",
      "25     9249\n",
      "26     7467\n",
      "27     8335\n",
      "29     8157\n",
      "30    32569\n",
      "32      766\n",
      "33    26100\n",
      "34    30116\n",
      "35      931\n",
      "36    32318\n",
      "37    37409\n",
      "39    36662\n",
      "40    39292\n",
      "42    61876\n",
      "43    12680\n",
      "      ...  \n",
      "49     8089\n",
      "50    32290\n",
      "51     5577\n",
      "52     4004\n",
      "53    16762\n",
      "54     3567\n",
      "55     4933\n",
      "56     7140\n",
      "57     2009\n",
      "58     4087\n",
      "59     2021\n",
      "60     1938\n",
      "61     1462\n",
      "62      640\n",
      "63     1236\n",
      "64      342\n",
      "65      110\n",
      "66      328\n",
      "67      119\n",
      "68      141\n",
      "69      112\n",
      "70       70\n",
      "71       27\n",
      "72        7\n",
      "73       21\n",
      "74       16\n",
      "76        8\n",
      "78        4\n",
      "79        3\n",
      "81        2\n",
      "Name: PUNT_FILOSOFIA, dtype: int64\n",
      "Elementos null/NaN 0\n",
      "__________________\n",
      "Elementos diferentes de null/NaN: 572951\n",
      "__________________\n",
      "(572951,)\n",
      "None\n"
     ]
    }
   ],
   "source": [
    "c = 'PUNT_FILOSOFIA'\n",
    "print(data_2012_2[c].value_counts().sort_index().index)\n",
    "print(data_2012_2[c].value_counts().sort_index())\n",
    "print(missing_data(data_2012_2[c]))"
   ]
  },
  {
   "cell_type": "code",
   "execution_count": 189,
   "metadata": {
    "collapsed": false,
    "scrolled": true
   },
   "outputs": [
    {
     "name": "stdout",
     "output_type": "stream",
     "text": [
      "Int64Index([ -1,   0,  10,  12,  14,  15,  18,  19,  22,  23,  24,  27,  28,\n",
      "             30,  31,  32,  33,  34,  35,  36,  37,  38,  39,  40,  41,  42,\n",
      "             43,  44,  45,  46,  47,  48,  49,  50,  51,  52,  53,  54,  55,\n",
      "             56,  57,  58,  59,  60,  61,  62,  63,  64,  65,  66,  67,  68,\n",
      "             69,  71,  72,  73,  74,  76,  77,  78,  82,  84,  85,  86,  96,\n",
      "             97,  99, 100],\n",
      "           dtype='int64')\n",
      "-1          3\n",
      " 0        105\n",
      " 10        36\n",
      " 12         3\n",
      " 14       136\n",
      " 15       206\n",
      " 18       202\n",
      " 19        14\n",
      " 22      1070\n",
      " 23      1253\n",
      " 24        31\n",
      " 27      5417\n",
      " 28      1566\n",
      " 30      4445\n",
      " 31      7942\n",
      " 32      3237\n",
      " 33      8219\n",
      " 34     14491\n",
      " 35      5751\n",
      " 36     13289\n",
      " 37     21879\n",
      " 38      8388\n",
      " 39     46380\n",
      " 40     10468\n",
      " 41     32217\n",
      " 42     22456\n",
      " 43     35120\n",
      " 44     32762\n",
      " 45     12094\n",
      " 46     53468\n",
      "        ...  \n",
      " 55      4512\n",
      " 56      9596\n",
      " 57      9556\n",
      " 58      7339\n",
      " 59      6717\n",
      " 60      3502\n",
      " 61      3171\n",
      " 62      4070\n",
      " 63      2375\n",
      " 64      2956\n",
      " 65      1443\n",
      " 66      1514\n",
      " 67      1173\n",
      " 68       804\n",
      " 69       909\n",
      " 71       607\n",
      " 72       401\n",
      " 73       415\n",
      " 74        19\n",
      " 76       220\n",
      " 77       170\n",
      " 78       205\n",
      " 82         5\n",
      " 84        92\n",
      " 85        36\n",
      " 86        66\n",
      " 96         8\n",
      " 97        12\n",
      " 99         5\n",
      " 100        4\n",
      "Name: PUNT_BIOLOGIA, dtype: int64\n",
      "Elementos null/NaN 0\n",
      "__________________\n",
      "Elementos diferentes de null/NaN: 572951\n",
      "__________________\n",
      "(572951,)\n",
      "None\n"
     ]
    }
   ],
   "source": [
    "c = 'PUNT_BIOLOGIA'\n",
    "print(data_2012_2[c].value_counts().sort_index().index)\n",
    "print(data_2012_2[c].value_counts().sort_index())\n",
    "print(missing_data(data_2012_2[c]))"
   ]
  },
  {
   "cell_type": "code",
   "execution_count": 190,
   "metadata": {
    "collapsed": true
   },
   "outputs": [],
   "source": [
    "for i in data_2012_2[c].value_counts().sort_index().index:\n",
    "    if i < 0:\n",
    "        data_2012_2[c] = data_2012_2[c].replace(i, 0)"
   ]
  },
  {
   "cell_type": "code",
   "execution_count": 191,
   "metadata": {
    "collapsed": false,
    "scrolled": true
   },
   "outputs": [
    {
     "name": "stdout",
     "output_type": "stream",
     "text": [
      "Int64Index([-1,  0, 20, 23, 24, 27, 29, 30, 31, 33, 35, 36, 37, 38, 40, 41, 42,\n",
      "            43, 44, 45, 46, 47, 48, 49, 50, 51, 52, 53, 54, 55, 56, 57, 58, 59,\n",
      "            60, 61, 62, 63, 64, 65, 66, 67, 68, 69, 70, 73, 74, 75, 76, 81, 82,\n",
      "            83, 84, 85],\n",
      "           dtype='int64')\n",
      "-1         1\n",
      " 0       192\n",
      " 20        7\n",
      " 23      259\n",
      " 24      521\n",
      " 27       38\n",
      " 29     2683\n",
      " 30      734\n",
      " 31      139\n",
      " 33     9460\n",
      " 35     9781\n",
      " 36    10766\n",
      " 37      529\n",
      " 38    34404\n",
      " 40    48673\n",
      " 41    27646\n",
      " 42    30749\n",
      " 43    60155\n",
      " 44    29700\n",
      " 45    30212\n",
      " 46    51671\n",
      " 47    30358\n",
      " 48    27844\n",
      " 49    25401\n",
      " 50    22019\n",
      " 51    23435\n",
      " 52    20336\n",
      " 53    10427\n",
      " 54    12767\n",
      " 55    13225\n",
      " 56     4734\n",
      " 57     8430\n",
      " 58     5036\n",
      " 59     4727\n",
      " 60     3521\n",
      " 61     3413\n",
      " 62     2297\n",
      " 63      790\n",
      " 64     1823\n",
      " 65      929\n",
      " 66      520\n",
      " 67      810\n",
      " 68      439\n",
      " 69      207\n",
      " 70      263\n",
      " 73      353\n",
      " 74      178\n",
      " 75       67\n",
      " 76      103\n",
      " 81        1\n",
      " 82       95\n",
      " 83       39\n",
      " 84       17\n",
      " 85       27\n",
      "Name: PUNT_QUIMICA, dtype: int64\n",
      "Elementos null/NaN 0\n",
      "__________________\n",
      "Elementos diferentes de null/NaN: 572951\n",
      "__________________\n",
      "(572951,)\n",
      "None\n"
     ]
    }
   ],
   "source": [
    "c = 'PUNT_QUIMICA'\n",
    "print(data_2012_2[c].value_counts().sort_index().index)\n",
    "print(data_2012_2[c].value_counts().sort_index())\n",
    "print(missing_data(data_2012_2[c]))"
   ]
  },
  {
   "cell_type": "code",
   "execution_count": 192,
   "metadata": {
    "collapsed": true
   },
   "outputs": [],
   "source": [
    "for i in data_2012_2[c].value_counts().sort_index().index:\n",
    "    if i < 0:\n",
    "        data_2012_2[c] = data_2012_2[c].replace(i, 0)"
   ]
  },
  {
   "cell_type": "code",
   "execution_count": 193,
   "metadata": {
    "collapsed": false,
    "scrolled": true
   },
   "outputs": [
    {
     "name": "stdout",
     "output_type": "stream",
     "text": [
      "Int64Index([  0,  12,  13,  14,  21,  22,  23,  27,  28,  29,  32,  33,  35,\n",
      "             36,  37,  38,  39,  40,  41,  42,  43,  44,  45,  46,  47,  48,\n",
      "             49,  50,  51,  52,  53,  54,  55,  56,  57,  58,  59,  60,  61,\n",
      "             62,  63,  64,  65,  66,  67,  69,  70,  72,  73,  74,  76,  77,\n",
      "             78,  80,  81,  83,  86,  87,  92,  95,  96,  97, 107, 112],\n",
      "           dtype='int64')\n",
      "0        242\n",
      "12        17\n",
      "13       683\n",
      "14       183\n",
      "21        51\n",
      "22      2571\n",
      "23      1664\n",
      "27      3486\n",
      "28      4463\n",
      "29      5114\n",
      "32      7944\n",
      "33     21166\n",
      "35     13912\n",
      "36     18394\n",
      "37     19088\n",
      "38     20570\n",
      "39     12142\n",
      "40     39904\n",
      "41     25753\n",
      "42     29606\n",
      "43     29136\n",
      "44     28669\n",
      "45     42000\n",
      "46     39600\n",
      "47     12594\n",
      "48     55516\n",
      "49       948\n",
      "50     25657\n",
      "51     24420\n",
      "52     16974\n",
      "       ...  \n",
      "57     12770\n",
      "58       163\n",
      "59      4051\n",
      "60      3933\n",
      "61      2549\n",
      "62      2433\n",
      "63        57\n",
      "64      1478\n",
      "65      1655\n",
      "66       666\n",
      "67      1257\n",
      "69       531\n",
      "70       558\n",
      "72       179\n",
      "73       193\n",
      "74       179\n",
      "76       147\n",
      "77        65\n",
      "78       101\n",
      "80        37\n",
      "81        43\n",
      "83        52\n",
      "86        41\n",
      "87        18\n",
      "92        21\n",
      "95         1\n",
      "96         5\n",
      "97         7\n",
      "107        7\n",
      "112        1\n",
      "Name: PUNT_FISICA, dtype: int64\n",
      "Elementos null/NaN 0\n",
      "__________________\n",
      "Elementos diferentes de null/NaN: 572951\n",
      "__________________\n",
      "(572951,)\n",
      "None\n"
     ]
    }
   ],
   "source": [
    "c = 'PUNT_FISICA'\n",
    "print(data_2012_2[c].value_counts().sort_index().index)\n",
    "print(data_2012_2[c].value_counts().sort_index())\n",
    "print(missing_data(data_2012_2[c]))"
   ]
  },
  {
   "cell_type": "code",
   "execution_count": 194,
   "metadata": {
    "collapsed": true
   },
   "outputs": [],
   "source": [
    "for i in data_2012_2[c].value_counts().sort_index().index:\n",
    "    if i > 100:\n",
    "        data_2012_2[c] = data_2012_2[c].replace(i, 100)"
   ]
  },
  {
   "cell_type": "code",
   "execution_count": 195,
   "metadata": {
    "collapsed": false,
    "scrolled": true
   },
   "outputs": [
    {
     "name": "stdout",
     "output_type": "stream",
     "text": [
      "Int64Index([ -1,   0,   3,   7,  10,  11,  14,  15,  17,  18,  20,  21,  22,\n",
      "             23,  24,  25,  26,  27,  29,  30,  31,  32,  33,  34,  35,  36,\n",
      "             37,  38,  39,  40,  42,  43,  45,  46,  47,  48,  50,  51,  52,\n",
      "             53,  54,  55,  56,  57,  58,  59,  60,  61,  63,  65,  68,  70,\n",
      "             72,  75,  77,  80,  83,  88,  89,  92,  94,  96, 100],\n",
      "           dtype='int64')\n",
      "-1        331\n",
      " 0        226\n",
      " 3        111\n",
      " 7        161\n",
      " 10       141\n",
      " 11        39\n",
      " 14       233\n",
      " 15         7\n",
      " 17       460\n",
      " 18        12\n",
      " 20      1133\n",
      " 21        25\n",
      " 22      1415\n",
      " 23      1105\n",
      " 24        87\n",
      " 25      3068\n",
      " 26      2118\n",
      " 27      5596\n",
      " 29      3511\n",
      " 30      9617\n",
      " 31      5226\n",
      " 32     14762\n",
      " 33      6856\n",
      " 34     20201\n",
      " 35      8950\n",
      " 36     25980\n",
      " 37      9754\n",
      " 38     31615\n",
      " 39     43561\n",
      " 40     44851\n",
      "        ...  \n",
      " 46     25826\n",
      " 47     21850\n",
      " 48     18012\n",
      " 50     15267\n",
      " 51     12835\n",
      " 52     10744\n",
      " 53      9366\n",
      " 54      1374\n",
      " 55      6638\n",
      " 56      6864\n",
      " 57      5939\n",
      " 58      1088\n",
      " 59      5275\n",
      " 60      4739\n",
      " 61      4279\n",
      " 63      4033\n",
      " 65      3905\n",
      " 68      3757\n",
      " 70      3625\n",
      " 72      3407\n",
      " 75      3305\n",
      " 77      3048\n",
      " 80      2622\n",
      " 83      2096\n",
      " 88        28\n",
      " 89      1355\n",
      " 92        15\n",
      " 94       743\n",
      " 96        11\n",
      " 100      206\n",
      "Name: PUNT_INGLES, dtype: int64\n",
      "Elementos null/NaN 0\n",
      "__________________\n",
      "Elementos diferentes de null/NaN: 572951\n",
      "__________________\n",
      "(572951,)\n",
      "None\n"
     ]
    }
   ],
   "source": [
    "c = 'PUNT_INGLES'\n",
    "print(data_2012_2[c].value_counts().sort_index().index)\n",
    "print(data_2012_2[c].value_counts().sort_index())\n",
    "print(missing_data(data_2012_2[c]))"
   ]
  },
  {
   "cell_type": "code",
   "execution_count": 196,
   "metadata": {
    "collapsed": true
   },
   "outputs": [],
   "source": [
    "for i in data_2012_2[c].value_counts().sort_index().index:\n",
    "    if i < 0:\n",
    "        data_2012_2[c] = data_2012_2[c].replace(i, 0)"
   ]
  },
  {
   "cell_type": "code",
   "execution_count": 197,
   "metadata": {
    "collapsed": false
   },
   "outputs": [
    {
     "name": "stdout",
     "output_type": "stream",
     "text": [
      "Index(['A-', 'A1', 'A2', 'B+', 'B1'], dtype='object')\n",
      "A-    324239\n",
      "A1    170663\n",
      "A2     45562\n",
      "B+      4454\n",
      "B1     27702\n",
      "Name: DESEMP_INGLES, dtype: int64\n",
      "Elementos null/NaN 331\n",
      "__________________\n",
      "Elementos diferentes de null/NaN: 572620\n",
      "__________________\n",
      "(572620,)\n",
      "None\n"
     ]
    }
   ],
   "source": [
    "c = 'DESEMP_INGLES'\n",
    "print(data_2012_2[c].value_counts().sort_index().index)\n",
    "print(data_2012_2[c].value_counts().sort_index())\n",
    "print(missing_data(data_2012_2[c]))"
   ]
  },
  {
   "cell_type": "code",
   "execution_count": 198,
   "metadata": {
    "collapsed": false
   },
   "outputs": [
    {
     "name": "stdout",
     "output_type": "stream",
     "text": [
      "cant null antes: 331\n",
      "cant null despues: 0\n"
     ]
    }
   ],
   "source": [
    "Do_resamples(data_2012_2, c, str)"
   ]
  },
  {
   "cell_type": "code",
   "execution_count": 199,
   "metadata": {
    "collapsed": false
   },
   "outputs": [
    {
     "name": "stdout",
     "output_type": "stream",
     "text": [
      "Index(['MEDIO AMBIENTE', 'PROFUNDIZACIÓN EN BIOLOGÍA',\n",
      "       'PROFUNDIZACIÓN EN CIENCIAS SOCIALES', 'PROFUNDIZACIÓN EN LENGUAJE',\n",
      "       'PROFUNDIZACIÓN EN MATEMÁTICA', 'VIOLENCIA Y SOCIEDAD'],\n",
      "      dtype='object')\n",
      "MEDIO AMBIENTE                         201718\n",
      "PROFUNDIZACIÓN EN BIOLOGÍA              63530\n",
      "PROFUNDIZACIÓN EN CIENCIAS SOCIALES     35743\n",
      "PROFUNDIZACIÓN EN LENGUAJE              73072\n",
      "PROFUNDIZACIÓN EN MATEMÁTICA            56652\n",
      "VIOLENCIA Y SOCIEDAD                   142236\n",
      "Name: NOMBRE_COMP_FLEXIBLE, dtype: int64\n",
      "Elementos null/NaN 0\n",
      "__________________\n",
      "Elementos diferentes de null/NaN: 572951\n",
      "__________________\n",
      "(572951,)\n",
      "None\n"
     ]
    }
   ],
   "source": [
    "c = 'NOMBRE_COMP_FLEXIBLE'\n",
    "print(data_2012_2[c].value_counts().sort_index().index)\n",
    "print(data_2012_2[c].value_counts().sort_index())\n",
    "print(missing_data(data_2012_2[c]))"
   ]
  },
  {
   "cell_type": "code",
   "execution_count": 200,
   "metadata": {
    "collapsed": false,
    "scrolled": true
   },
   "outputs": [
    {
     "name": "stdout",
     "output_type": "stream",
     "text": [
      "Int64Index([ 0,  3,  4,  5,  6,  7,  8,  9, 10, 15, 24, 29, 34, 38, 41, 45, 47,\n",
      "            48, 49, 50, 51, 52, 53, 54, 55, 56, 58, 59, 60, 63, 69, 77, 90],\n",
      "           dtype='int64')\n",
      "0       1793\n",
      "3       5044\n",
      "4      44602\n",
      "5     122079\n",
      "6      51560\n",
      "7       4379\n",
      "8        264\n",
      "9         76\n",
      "10         1\n",
      "15      1039\n",
      "24      3281\n",
      "29      6979\n",
      "34     11733\n",
      "38     16124\n",
      "41     19724\n",
      "45     24926\n",
      "47      8590\n",
      "48     21083\n",
      "49     16395\n",
      "50     23472\n",
      "51     55112\n",
      "52     43319\n",
      "53     22319\n",
      "54     17898\n",
      "55     33857\n",
      "56      4579\n",
      "58      1942\n",
      "59      6580\n",
      "60       451\n",
      "63      2820\n",
      "69       788\n",
      "77       131\n",
      "90        11\n",
      "Name: PUNT_COMP_FLEXIBLE, dtype: int64\n",
      "Elementos null/NaN 0\n",
      "__________________\n",
      "Elementos diferentes de null/NaN: 572951\n",
      "__________________\n",
      "(572951,)\n",
      "None\n"
     ]
    }
   ],
   "source": [
    "c = 'PUNT_COMP_FLEXIBLE'\n",
    "print(data_2012_2[c].value_counts().sort_index().index)\n",
    "print(data_2012_2[c].value_counts().sort_index())\n",
    "print(missing_data(data_2012_2[c]))"
   ]
  },
  {
   "cell_type": "code",
   "execution_count": 201,
   "metadata": {
    "collapsed": false
   },
   "outputs": [
    {
     "name": "stdout",
     "output_type": "stream",
     "text": [
      "Index(['GB', 'I', 'II', 'III'], dtype='object')\n",
      "GB      92611\n",
      "I      104983\n",
      "II      28492\n",
      "III      2911\n",
      "Name: DESEMP_COMP_FLEXIBLE, dtype: int64\n",
      "Elementos null/NaN 343954\n",
      "__________________\n",
      "Elementos diferentes de null/NaN: 228997\n",
      "__________________\n",
      "(228997,)\n",
      "None\n"
     ]
    }
   ],
   "source": [
    "c = 'DESEMP_COMP_FLEXIBLE'\n",
    "print(data_2012_2[c].value_counts().sort_index().index)\n",
    "print(data_2012_2[c].value_counts().sort_index())\n",
    "print(missing_data(data_2012_2[c]))"
   ]
  },
  {
   "cell_type": "code",
   "execution_count": 202,
   "metadata": {
    "collapsed": false
   },
   "outputs": [
    {
     "name": "stdout",
     "output_type": "stream",
     "text": [
      "cant null antes: 343954\n",
      "cant null despues: 0\n"
     ]
    }
   ],
   "source": [
    "Do_resamples(data_2012_2, c, str)"
   ]
  },
  {
   "cell_type": "code",
   "execution_count": 203,
   "metadata": {
    "collapsed": false,
    "scrolled": true
   },
   "outputs": [
    {
     "name": "stdout",
     "output_type": "stream",
     "text": [
      "Int64Index([   1,    2,    3,    4,    5,    6,    7,    8,    9,   10,\n",
      "            ...\n",
      "             991,  992,  993,  994,  995,  996,  997,  998,  999, 1000],\n",
      "           dtype='int64', length=1000)\n",
      "1       577\n",
      "2       576\n",
      "3       577\n",
      "4       574\n",
      "5       576\n",
      "6       576\n",
      "7       574\n",
      "8       575\n",
      "9       574\n",
      "10      574\n",
      "11      575\n",
      "12      572\n",
      "13      574\n",
      "14      576\n",
      "15      576\n",
      "16      576\n",
      "17      575\n",
      "18      576\n",
      "19      576\n",
      "20      573\n",
      "21      572\n",
      "22      576\n",
      "23      575\n",
      "24      575\n",
      "25      572\n",
      "26      575\n",
      "27      575\n",
      "28      573\n",
      "29      573\n",
      "30      573\n",
      "       ... \n",
      "971     577\n",
      "972     577\n",
      "973     573\n",
      "974     575\n",
      "975     576\n",
      "976     575\n",
      "977     575\n",
      "978     579\n",
      "979     575\n",
      "980     575\n",
      "981     575\n",
      "982     578\n",
      "983     575\n",
      "984     574\n",
      "985     575\n",
      "986     577\n",
      "987     574\n",
      "988     576\n",
      "989     576\n",
      "990     579\n",
      "991     578\n",
      "992     572\n",
      "993     579\n",
      "994     581\n",
      "995     576\n",
      "996     578\n",
      "997     581\n",
      "998     541\n",
      "999     219\n",
      "1000    186\n",
      "Name: ESTU_PUESTO, dtype: int64\n",
      "Elementos null/NaN 0\n",
      "__________________\n",
      "Elementos diferentes de null/NaN: 572951\n",
      "__________________\n",
      "(572951,)\n",
      "None\n"
     ]
    }
   ],
   "source": [
    "c = 'ESTU_PUESTO'\n",
    "print(data_2012_2[c].value_counts().sort_index().index)\n",
    "print(data_2012_2[c].value_counts().sort_index())\n",
    "print(missing_data(data_2012_2[c]))"
   ]
  },
  {
   "cell_type": "markdown",
   "metadata": {},
   "source": [
    "remaining NaNs"
   ]
  },
  {
   "cell_type": "code",
   "execution_count": 216,
   "metadata": {
    "collapsed": false,
    "scrolled": true
   },
   "outputs": [
    {
     "name": "stdout",
     "output_type": "stream",
     "text": [
      "Float64Index([2006.0, 2005.0, 2004.0, 2007.0, 2003.0, 2002.0, 2001.0, 1985.0,\n",
      "              2000.0, 1999.0, 1995.0, 1996.0, 1997.0, 1998.0, 1990.0, 1994.0,\n",
      "              1991.0, 1993.0, 1992.0, 1989.0, 1986.0, 1988.0, 1987.0],\n",
      "             dtype='float64')\n",
      "2006    32438\n",
      "2005    15416\n",
      "2004     2795\n",
      "2007     2514\n",
      "2003     1146\n",
      "2002      694\n",
      "2001      585\n",
      "1985      576\n",
      "2000      452\n",
      "1999      261\n",
      "1995      252\n",
      "1996      213\n",
      "1997      191\n",
      "1998      178\n",
      "1990      151\n",
      "1994      140\n",
      "1991      120\n",
      "1993      101\n",
      "1992       95\n",
      "1989       88\n",
      "1986       68\n",
      "1988       60\n",
      "1987       58\n",
      "Name: ESTU_ANO_TERMINO_QUINTO, dtype: int64\n",
      "Elementos null/NaN 514359\n",
      "__________________\n",
      "Elementos diferentes de null/NaN: 58592\n",
      "__________________\n",
      "(58592,)\n",
      "None\n"
     ]
    }
   ],
   "source": [
    "print(data_2012_2['ESTU_ANO_TERMINO_QUINTO'].value_counts().index)\n",
    "print(data_2012_2['ESTU_ANO_TERMINO_QUINTO'].value_counts())\n",
    "print(missing_data(data_2012_2['ESTU_ANO_TERMINO_QUINTO']))"
   ]
  },
  {
   "cell_type": "code",
   "execution_count": 217,
   "metadata": {
    "collapsed": false
   },
   "outputs": [
    {
     "name": "stdout",
     "output_type": "stream",
     "text": [
      "cant null antes: 514359\n",
      "cant null despues: 0\n"
     ]
    }
   ],
   "source": [
    "Do_resamples(data_2012_2, 'ESTU_ANO_TERMINO_QUINTO', float)"
   ]
  },
  {
   "cell_type": "code",
   "execution_count": 220,
   "metadata": {
    "collapsed": false,
    "scrolled": true
   },
   "outputs": [
    {
     "name": "stdout",
     "output_type": "stream",
     "text": [
      "Float64Index([21.0, 19.0, 26.0, 14.0, 17.0, 20.0, 18.0, 16.0, 23.0, 15.0,  9.0,\n",
      "              13.0, 22.0,  7.0, 12.0,  5.0, 11.0,  8.0,  2.0,  6.0,  3.0,  1.0,\n",
      "               4.0, 10.0],\n",
      "             dtype='float64')\n",
      "21    185106\n",
      "19    103983\n",
      "26     92806\n",
      "14     36821\n",
      "17     27796\n",
      "20     22677\n",
      "18     20563\n",
      "16     15451\n",
      "23     15352\n",
      "15     10074\n",
      "9       8552\n",
      "13      8156\n",
      "22      7900\n",
      "7       4602\n",
      "12      3723\n",
      "5       2633\n",
      "11      1335\n",
      "8       1099\n",
      "2        736\n",
      "6        693\n",
      "3        420\n",
      "1        404\n",
      "4        371\n",
      "10       273\n",
      "Name: FAMI_OCUPA_PADRE, dtype: int64\n",
      "Elementos null/NaN 1425\n",
      "__________________\n",
      "Elementos diferentes de null/NaN: 571526\n",
      "__________________\n",
      "(571526,)\n",
      "None\n"
     ]
    }
   ],
   "source": [
    "print(data_2012_2['FAMI_OCUPA_PADRE'].value_counts().index)\n",
    "print(data_2012_2['FAMI_OCUPA_PADRE'].value_counts())\n",
    "print(missing_data(data_2012_2['FAMI_OCUPA_PADRE']))"
   ]
  },
  {
   "cell_type": "code",
   "execution_count": 221,
   "metadata": {
    "collapsed": false
   },
   "outputs": [
    {
     "name": "stdout",
     "output_type": "stream",
     "text": [
      "cant null antes: 1425\n",
      "cant null despues: 0\n"
     ]
    }
   ],
   "source": [
    "Do_resamples(data_2012_2, 'FAMI_OCUPA_PADRE', float)"
   ]
  },
  {
   "cell_type": "markdown",
   "metadata": {},
   "source": [
    "Now i can transform the obtained Dataframes in csv files"
   ]
  },
  {
   "cell_type": "code",
   "execution_count": 223,
   "metadata": {
    "collapsed": true
   },
   "outputs": [],
   "source": [
    "data_2012 = label_encoder(data_2012)\n",
    "data_2012_2 = label_encoder(data_2012_2)"
   ]
  },
  {
   "cell_type": "code",
   "execution_count": 224,
   "metadata": {
    "collapsed": true
   },
   "outputs": [],
   "source": [
    "data_2012.to_csv('../DatosFTPICFES/SABER11/SB11-BASES_DE_DATOS/READY/2012_1.csv', sep=';', index=False)\n",
    "data_2012_2.to_csv('../DatosFTPICFES/SABER11/SB11-BASES_DE_DATOS/READY/2012_2.csv', sep=';', index=False)"
   ]
  }
 ],
 "metadata": {
  "kernelspec": {
   "display_name": "Python 3",
   "language": "python",
   "name": "python3"
  },
  "language_info": {
   "codemirror_mode": {
    "name": "ipython",
    "version": 3
   },
   "file_extension": ".py",
   "mimetype": "text/x-python",
   "name": "python",
   "nbconvert_exporter": "python",
   "pygments_lexer": "ipython3",
   "version": "3.4.2"
  }
 },
 "nbformat": 4,
 "nbformat_minor": 0
}
