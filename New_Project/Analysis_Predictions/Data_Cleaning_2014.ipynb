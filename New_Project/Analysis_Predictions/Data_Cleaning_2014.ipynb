{
 "cells": [
  {
   "cell_type": "code",
   "execution_count": 1,
   "metadata": {
    "collapsed": true
   },
   "outputs": [],
   "source": [
    "import pandas as pd\n",
    "import numpy as np\n",
    "%run -i ../tools/functions.py\n",
    "%run -i ../tools/label_encoder.py"
   ]
  },
  {
   "cell_type": "code",
   "execution_count": 372,
   "metadata": {
    "collapsed": false
   },
   "outputs": [
    {
     "name": "stderr",
     "output_type": "stream",
     "text": [
      "/usr/local/lib/python3.4/dist-packages/IPython/core/interactiveshell.py:2902: DtypeWarning: Columns (18,19,20,25,26,27) have mixed types. Specify dtype option on import or set low_memory=False.\n",
      "  interactivity=interactivity, compiler=compiler, result=result)\n"
     ]
    }
   ],
   "source": [
    "data_2014 = pd.read_csv('../DatosFTPICFES/SABER11/SB11-BASES_DE_DATOS/SB11-20141-RGSTRO-CLFCCN-V1-0.txt', delimiter = '|')"
   ]
  },
  {
   "cell_type": "code",
   "execution_count": 373,
   "metadata": {
    "collapsed": false
   },
   "outputs": [
    {
     "data": {
      "text/plain": [
       "(88685, 102)"
      ]
     },
     "execution_count": 373,
     "metadata": {},
     "output_type": "execute_result"
    }
   ],
   "source": [
    "data_2014.shape"
   ]
  },
  {
   "cell_type": "code",
   "execution_count": 374,
   "metadata": {
    "collapsed": false,
    "scrolled": true
   },
   "outputs": [
    {
     "data": {
      "text/html": [
       "<div>\n",
       "<table border=\"1\" class=\"dataframe\">\n",
       "  <thead>\n",
       "    <tr style=\"text-align: right;\">\n",
       "      <th></th>\n",
       "      <th>0</th>\n",
       "      <th>1</th>\n",
       "      <th>2</th>\n",
       "    </tr>\n",
       "  </thead>\n",
       "  <tbody>\n",
       "    <tr>\n",
       "      <th>PERIODO</th>\n",
       "      <td>20141</td>\n",
       "      <td>20141</td>\n",
       "      <td>20141</td>\n",
       "    </tr>\n",
       "    <tr>\n",
       "      <th>ESTU_CONSECUTIVO</th>\n",
       "      <td>SABER1120141000001</td>\n",
       "      <td>SABER1120141000002</td>\n",
       "      <td>SABER1120141000003</td>\n",
       "    </tr>\n",
       "    <tr>\n",
       "      <th>ESTU_GENERO</th>\n",
       "      <td>M</td>\n",
       "      <td>F</td>\n",
       "      <td>F</td>\n",
       "    </tr>\n",
       "    <tr>\n",
       "      <th>ESTU_FECHA_NACIMIENTO</th>\n",
       "      <td>21/10/90</td>\n",
       "      <td>04/11/69</td>\n",
       "      <td>20/02/72</td>\n",
       "    </tr>\n",
       "    <tr>\n",
       "      <th>ESTU_ETNIA</th>\n",
       "      <td>NaN</td>\n",
       "      <td>1</td>\n",
       "      <td>99</td>\n",
       "    </tr>\n",
       "    <tr>\n",
       "      <th>ESTU_LIMITA_COGNITIVA</th>\n",
       "      <td>NaN</td>\n",
       "      <td>NaN</td>\n",
       "      <td>NaN</td>\n",
       "    </tr>\n",
       "    <tr>\n",
       "      <th>ESTU_LIMITA_CONDICIONESPECIAL</th>\n",
       "      <td>-</td>\n",
       "      <td>-</td>\n",
       "      <td>-</td>\n",
       "    </tr>\n",
       "    <tr>\n",
       "      <th>ESTU_LIMITA_MOTRIZ</th>\n",
       "      <td>NaN</td>\n",
       "      <td>NaN</td>\n",
       "      <td>NaN</td>\n",
       "    </tr>\n",
       "    <tr>\n",
       "      <th>ESTU_LIMITA_INVIDENTE</th>\n",
       "      <td>NaN</td>\n",
       "      <td>NaN</td>\n",
       "      <td>NaN</td>\n",
       "    </tr>\n",
       "    <tr>\n",
       "      <th>ESTU_LIMITA_SORDO</th>\n",
       "      <td>-</td>\n",
       "      <td>-</td>\n",
       "      <td>-</td>\n",
       "    </tr>\n",
       "    <tr>\n",
       "      <th>ESTU_LIMITA_SDOWN</th>\n",
       "      <td>-</td>\n",
       "      <td>-</td>\n",
       "      <td>-</td>\n",
       "    </tr>\n",
       "    <tr>\n",
       "      <th>ESTU_LIMITA_AUTISMO</th>\n",
       "      <td>-</td>\n",
       "      <td>-</td>\n",
       "      <td>-</td>\n",
       "    </tr>\n",
       "    <tr>\n",
       "      <th>ESTU_COD_RESIDE_MCPIO</th>\n",
       "      <td>23001</td>\n",
       "      <td>5045</td>\n",
       "      <td>5045</td>\n",
       "    </tr>\n",
       "    <tr>\n",
       "      <th>ESTU_RESIDE_MCPIO</th>\n",
       "      <td>MONTERIA</td>\n",
       "      <td>APARTADO</td>\n",
       "      <td>APARTADO</td>\n",
       "    </tr>\n",
       "    <tr>\n",
       "      <th>ESTU_RESIDE_DEPTO</th>\n",
       "      <td>CÓRDOBA</td>\n",
       "      <td>ANTIOQUIA</td>\n",
       "      <td>ANTIOQUIA</td>\n",
       "    </tr>\n",
       "    <tr>\n",
       "      <th>ESTU_ZONA_RESIDE</th>\n",
       "      <td>10</td>\n",
       "      <td>10</td>\n",
       "      <td>10</td>\n",
       "    </tr>\n",
       "    <tr>\n",
       "      <th>ESTU_AREA_RESIDE</th>\n",
       "      <td>1</td>\n",
       "      <td>NaN</td>\n",
       "      <td>NaN</td>\n",
       "    </tr>\n",
       "    <tr>\n",
       "      <th>COLE_COD_ICFES</th>\n",
       "      <td>131219</td>\n",
       "      <td>131219</td>\n",
       "      <td>131219</td>\n",
       "    </tr>\n",
       "    <tr>\n",
       "      <th>COLE_NOMBRE_SEDE</th>\n",
       "      <td>INSTITUTO CORFERRINI</td>\n",
       "      <td>INSTITUTO CORFERRINI</td>\n",
       "      <td>INSTITUTO CORFERRINI</td>\n",
       "    </tr>\n",
       "    <tr>\n",
       "      <th>COLE_COD_DANE_INSTITUCION</th>\n",
       "      <td>3.05837e+11</td>\n",
       "      <td>3.05837e+11</td>\n",
       "      <td>3.05837e+11</td>\n",
       "    </tr>\n",
       "    <tr>\n",
       "      <th>COLE_JORNADA</th>\n",
       "      <td>SABATINA - DOMINICAL</td>\n",
       "      <td>SABATINA - DOMINICAL</td>\n",
       "      <td>SABATINA - DOMINICAL</td>\n",
       "    </tr>\n",
       "    <tr>\n",
       "      <th>COLE_VALOR_PENSION</th>\n",
       "      <td>NaN</td>\n",
       "      <td>NaN</td>\n",
       "      <td>NaN</td>\n",
       "    </tr>\n",
       "    <tr>\n",
       "      <th>ESTU_CARRDESEADA_TIPO</th>\n",
       "      <td>NaN</td>\n",
       "      <td>NaN</td>\n",
       "      <td>NaN</td>\n",
       "    </tr>\n",
       "    <tr>\n",
       "      <th>ESTU_IES_COD_DESEADA</th>\n",
       "      <td>NaN</td>\n",
       "      <td>NaN</td>\n",
       "      <td>NaN</td>\n",
       "    </tr>\n",
       "    <tr>\n",
       "      <th>ESTU_IES_COD_MPIO_DESEADA</th>\n",
       "      <td>NaN</td>\n",
       "      <td>NaN</td>\n",
       "      <td>NaN</td>\n",
       "    </tr>\n",
       "    <tr>\n",
       "      <th>ESTU_IES_DEPT_DESEADA</th>\n",
       "      <td>NaN</td>\n",
       "      <td>NaN</td>\n",
       "      <td>NaN</td>\n",
       "    </tr>\n",
       "    <tr>\n",
       "      <th>ESTU_IES_DESEADA_NOMBRE</th>\n",
       "      <td>NaN</td>\n",
       "      <td>NaN</td>\n",
       "      <td>NaN</td>\n",
       "    </tr>\n",
       "    <tr>\n",
       "      <th>ESTU_IES_MPIO_DESEADA</th>\n",
       "      <td>NaN</td>\n",
       "      <td>NaN</td>\n",
       "      <td>NaN</td>\n",
       "    </tr>\n",
       "    <tr>\n",
       "      <th>ESTU_TOTAL_ALUMNOS_CURSO</th>\n",
       "      <td>NaN</td>\n",
       "      <td>NaN</td>\n",
       "      <td>NaN</td>\n",
       "    </tr>\n",
       "    <tr>\n",
       "      <th>ESTU_ANO_MATRICULA_PRIMERO</th>\n",
       "      <td>NaN</td>\n",
       "      <td>NaN</td>\n",
       "      <td>NaN</td>\n",
       "    </tr>\n",
       "    <tr>\n",
       "      <th>...</th>\n",
       "      <td>...</td>\n",
       "      <td>...</td>\n",
       "      <td>...</td>\n",
       "    </tr>\n",
       "    <tr>\n",
       "      <th>FAMI_PERSONAS_HOGAR</th>\n",
       "      <td>3</td>\n",
       "      <td>3</td>\n",
       "      <td>6</td>\n",
       "    </tr>\n",
       "    <tr>\n",
       "      <th>FAMI_CUARTOS_HOGAR</th>\n",
       "      <td>3</td>\n",
       "      <td>2</td>\n",
       "      <td>2</td>\n",
       "    </tr>\n",
       "    <tr>\n",
       "      <th>FAMI_PISOSHOGAR</th>\n",
       "      <td>4</td>\n",
       "      <td>2</td>\n",
       "      <td>2</td>\n",
       "    </tr>\n",
       "    <tr>\n",
       "      <th>FAMI_TELEFONO_FIJO</th>\n",
       "      <td>0</td>\n",
       "      <td>0</td>\n",
       "      <td>0</td>\n",
       "    </tr>\n",
       "    <tr>\n",
       "      <th>FAMI_CELULAR</th>\n",
       "      <td>1</td>\n",
       "      <td>1</td>\n",
       "      <td>1</td>\n",
       "    </tr>\n",
       "    <tr>\n",
       "      <th>FAMI_INTERNET</th>\n",
       "      <td>1</td>\n",
       "      <td>0</td>\n",
       "      <td>0</td>\n",
       "    </tr>\n",
       "    <tr>\n",
       "      <th>FAMI_TELEVISOR</th>\n",
       "      <td>1</td>\n",
       "      <td>1</td>\n",
       "      <td>1</td>\n",
       "    </tr>\n",
       "    <tr>\n",
       "      <th>FAMI_COMPUTADOR</th>\n",
       "      <td>1</td>\n",
       "      <td>0</td>\n",
       "      <td>0</td>\n",
       "    </tr>\n",
       "    <tr>\n",
       "      <th>FAMI_DVD</th>\n",
       "      <td>0</td>\n",
       "      <td>0</td>\n",
       "      <td>0</td>\n",
       "    </tr>\n",
       "    <tr>\n",
       "      <th>FAMI_LAVADORA</th>\n",
       "      <td>1</td>\n",
       "      <td>1</td>\n",
       "      <td>1</td>\n",
       "    </tr>\n",
       "    <tr>\n",
       "      <th>FAMI_MICROONDAS</th>\n",
       "      <td>1</td>\n",
       "      <td>0</td>\n",
       "      <td>0</td>\n",
       "    </tr>\n",
       "    <tr>\n",
       "      <th>FAMI_NEVERA</th>\n",
       "      <td>1</td>\n",
       "      <td>1</td>\n",
       "      <td>1</td>\n",
       "    </tr>\n",
       "    <tr>\n",
       "      <th>FAMI_AUTOMOVIL</th>\n",
       "      <td>0</td>\n",
       "      <td>0</td>\n",
       "      <td>0</td>\n",
       "    </tr>\n",
       "    <tr>\n",
       "      <th>FAMI_HORNO</th>\n",
       "      <td>0</td>\n",
       "      <td>0</td>\n",
       "      <td>0</td>\n",
       "    </tr>\n",
       "    <tr>\n",
       "      <th>FAMI_INGRESO_FMILIAR_MENSUAL</th>\n",
       "      <td>4</td>\n",
       "      <td>2</td>\n",
       "      <td>2</td>\n",
       "    </tr>\n",
       "    <tr>\n",
       "      <th>ESTU_TRABAJA</th>\n",
       "      <td>NaN</td>\n",
       "      <td>NaN</td>\n",
       "      <td>NaN</td>\n",
       "    </tr>\n",
       "    <tr>\n",
       "      <th>ESTU_RECIBE_SALARIO</th>\n",
       "      <td>-</td>\n",
       "      <td>-</td>\n",
       "      <td>-</td>\n",
       "    </tr>\n",
       "    <tr>\n",
       "      <th>ESTU_PUESTO</th>\n",
       "      <td>608</td>\n",
       "      <td>871</td>\n",
       "      <td>850</td>\n",
       "    </tr>\n",
       "    <tr>\n",
       "      <th>PUNT_LENGUAJE</th>\n",
       "      <td>51</td>\n",
       "      <td>36</td>\n",
       "      <td>49</td>\n",
       "    </tr>\n",
       "    <tr>\n",
       "      <th>PUNT_MATEMATICAS</th>\n",
       "      <td>43</td>\n",
       "      <td>46</td>\n",
       "      <td>32</td>\n",
       "    </tr>\n",
       "    <tr>\n",
       "      <th>PUNT_C_SOCIALES</th>\n",
       "      <td>32</td>\n",
       "      <td>36</td>\n",
       "      <td>38</td>\n",
       "    </tr>\n",
       "    <tr>\n",
       "      <th>PUNT_FILOSOFIA</th>\n",
       "      <td>40</td>\n",
       "      <td>30</td>\n",
       "      <td>30</td>\n",
       "    </tr>\n",
       "    <tr>\n",
       "      <th>PUNT_BIOLOGIA</th>\n",
       "      <td>47</td>\n",
       "      <td>33</td>\n",
       "      <td>30</td>\n",
       "    </tr>\n",
       "    <tr>\n",
       "      <th>PUNT_QUIMICA</th>\n",
       "      <td>37</td>\n",
       "      <td>37</td>\n",
       "      <td>37</td>\n",
       "    </tr>\n",
       "    <tr>\n",
       "      <th>PUNT_FISICA</th>\n",
       "      <td>38</td>\n",
       "      <td>27</td>\n",
       "      <td>38</td>\n",
       "    </tr>\n",
       "    <tr>\n",
       "      <th>PUNT_INGLES</th>\n",
       "      <td>38</td>\n",
       "      <td>38</td>\n",
       "      <td>34</td>\n",
       "    </tr>\n",
       "    <tr>\n",
       "      <th>DESEMP_INGLES</th>\n",
       "      <td>A-</td>\n",
       "      <td>A-</td>\n",
       "      <td>A-</td>\n",
       "    </tr>\n",
       "    <tr>\n",
       "      <th>NOMBRE_COMP_FLEXIBLE</th>\n",
       "      <td>MEDIO AMBIENTE</td>\n",
       "      <td>PROFUNDIZACIÓN EN CIENCIAS SOCIALES</td>\n",
       "      <td>MEDIO AMBIENTE</td>\n",
       "    </tr>\n",
       "    <tr>\n",
       "      <th>PUNT_COMP_FLEXIBLE</th>\n",
       "      <td>53</td>\n",
       "      <td>4</td>\n",
       "      <td>51</td>\n",
       "    </tr>\n",
       "    <tr>\n",
       "      <th>DESEMP_COMP_FLEXIBLE</th>\n",
       "      <td>NaN</td>\n",
       "      <td>GB</td>\n",
       "      <td>NaN</td>\n",
       "    </tr>\n",
       "  </tbody>\n",
       "</table>\n",
       "<p>102 rows × 3 columns</p>\n",
       "</div>"
      ],
      "text/plain": [
       "                                                  0  \\\n",
       "PERIODO                                       20141   \n",
       "ESTU_CONSECUTIVO                 SABER1120141000001   \n",
       "ESTU_GENERO                                       M   \n",
       "ESTU_FECHA_NACIMIENTO                      21/10/90   \n",
       "ESTU_ETNIA                                      NaN   \n",
       "ESTU_LIMITA_COGNITIVA                           NaN   \n",
       "ESTU_LIMITA_CONDICIONESPECIAL                     -   \n",
       "ESTU_LIMITA_MOTRIZ                              NaN   \n",
       "ESTU_LIMITA_INVIDENTE                           NaN   \n",
       "ESTU_LIMITA_SORDO                                 -   \n",
       "ESTU_LIMITA_SDOWN                                 -   \n",
       "ESTU_LIMITA_AUTISMO                               -   \n",
       "ESTU_COD_RESIDE_MCPIO                         23001   \n",
       "ESTU_RESIDE_MCPIO                          MONTERIA   \n",
       "ESTU_RESIDE_DEPTO                           CÓRDOBA   \n",
       "ESTU_ZONA_RESIDE                                 10   \n",
       "ESTU_AREA_RESIDE                                  1   \n",
       "COLE_COD_ICFES                               131219   \n",
       "COLE_NOMBRE_SEDE               INSTITUTO CORFERRINI   \n",
       "COLE_COD_DANE_INSTITUCION               3.05837e+11   \n",
       "COLE_JORNADA                   SABATINA - DOMINICAL   \n",
       "COLE_VALOR_PENSION                              NaN   \n",
       "ESTU_CARRDESEADA_TIPO                           NaN   \n",
       "ESTU_IES_COD_DESEADA                            NaN   \n",
       "ESTU_IES_COD_MPIO_DESEADA                       NaN   \n",
       "ESTU_IES_DEPT_DESEADA                           NaN   \n",
       "ESTU_IES_DESEADA_NOMBRE                         NaN   \n",
       "ESTU_IES_MPIO_DESEADA                           NaN   \n",
       "ESTU_TOTAL_ALUMNOS_CURSO                        NaN   \n",
       "ESTU_ANO_MATRICULA_PRIMERO                      NaN   \n",
       "...                                             ...   \n",
       "FAMI_PERSONAS_HOGAR                               3   \n",
       "FAMI_CUARTOS_HOGAR                                3   \n",
       "FAMI_PISOSHOGAR                                   4   \n",
       "FAMI_TELEFONO_FIJO                                0   \n",
       "FAMI_CELULAR                                      1   \n",
       "FAMI_INTERNET                                     1   \n",
       "FAMI_TELEVISOR                                    1   \n",
       "FAMI_COMPUTADOR                                   1   \n",
       "FAMI_DVD                                          0   \n",
       "FAMI_LAVADORA                                     1   \n",
       "FAMI_MICROONDAS                                   1   \n",
       "FAMI_NEVERA                                       1   \n",
       "FAMI_AUTOMOVIL                                    0   \n",
       "FAMI_HORNO                                        0   \n",
       "FAMI_INGRESO_FMILIAR_MENSUAL                      4   \n",
       "ESTU_TRABAJA                                    NaN   \n",
       "ESTU_RECIBE_SALARIO                               -   \n",
       "ESTU_PUESTO                                     608   \n",
       "PUNT_LENGUAJE                                    51   \n",
       "PUNT_MATEMATICAS                                 43   \n",
       "PUNT_C_SOCIALES                                  32   \n",
       "PUNT_FILOSOFIA                                   40   \n",
       "PUNT_BIOLOGIA                                    47   \n",
       "PUNT_QUIMICA                                     37   \n",
       "PUNT_FISICA                                      38   \n",
       "PUNT_INGLES                                      38   \n",
       "DESEMP_INGLES                                    A-   \n",
       "NOMBRE_COMP_FLEXIBLE                 MEDIO AMBIENTE   \n",
       "PUNT_COMP_FLEXIBLE                               53   \n",
       "DESEMP_COMP_FLEXIBLE                            NaN   \n",
       "\n",
       "                                                                 1  \\\n",
       "PERIODO                                                      20141   \n",
       "ESTU_CONSECUTIVO                                SABER1120141000002   \n",
       "ESTU_GENERO                                                      F   \n",
       "ESTU_FECHA_NACIMIENTO                                     04/11/69   \n",
       "ESTU_ETNIA                                                       1   \n",
       "ESTU_LIMITA_COGNITIVA                                          NaN   \n",
       "ESTU_LIMITA_CONDICIONESPECIAL                                    -   \n",
       "ESTU_LIMITA_MOTRIZ                                             NaN   \n",
       "ESTU_LIMITA_INVIDENTE                                          NaN   \n",
       "ESTU_LIMITA_SORDO                                                -   \n",
       "ESTU_LIMITA_SDOWN                                                -   \n",
       "ESTU_LIMITA_AUTISMO                                              -   \n",
       "ESTU_COD_RESIDE_MCPIO                                         5045   \n",
       "ESTU_RESIDE_MCPIO                                         APARTADO   \n",
       "ESTU_RESIDE_DEPTO                                        ANTIOQUIA   \n",
       "ESTU_ZONA_RESIDE                                                10   \n",
       "ESTU_AREA_RESIDE                                               NaN   \n",
       "COLE_COD_ICFES                                              131219   \n",
       "COLE_NOMBRE_SEDE                              INSTITUTO CORFERRINI   \n",
       "COLE_COD_DANE_INSTITUCION                              3.05837e+11   \n",
       "COLE_JORNADA                                  SABATINA - DOMINICAL   \n",
       "COLE_VALOR_PENSION                                             NaN   \n",
       "ESTU_CARRDESEADA_TIPO                                          NaN   \n",
       "ESTU_IES_COD_DESEADA                                           NaN   \n",
       "ESTU_IES_COD_MPIO_DESEADA                                      NaN   \n",
       "ESTU_IES_DEPT_DESEADA                                          NaN   \n",
       "ESTU_IES_DESEADA_NOMBRE                                        NaN   \n",
       "ESTU_IES_MPIO_DESEADA                                          NaN   \n",
       "ESTU_TOTAL_ALUMNOS_CURSO                                       NaN   \n",
       "ESTU_ANO_MATRICULA_PRIMERO                                     NaN   \n",
       "...                                                            ...   \n",
       "FAMI_PERSONAS_HOGAR                                              3   \n",
       "FAMI_CUARTOS_HOGAR                                               2   \n",
       "FAMI_PISOSHOGAR                                                  2   \n",
       "FAMI_TELEFONO_FIJO                                               0   \n",
       "FAMI_CELULAR                                                     1   \n",
       "FAMI_INTERNET                                                    0   \n",
       "FAMI_TELEVISOR                                                   1   \n",
       "FAMI_COMPUTADOR                                                  0   \n",
       "FAMI_DVD                                                         0   \n",
       "FAMI_LAVADORA                                                    1   \n",
       "FAMI_MICROONDAS                                                  0   \n",
       "FAMI_NEVERA                                                      1   \n",
       "FAMI_AUTOMOVIL                                                   0   \n",
       "FAMI_HORNO                                                       0   \n",
       "FAMI_INGRESO_FMILIAR_MENSUAL                                     2   \n",
       "ESTU_TRABAJA                                                   NaN   \n",
       "ESTU_RECIBE_SALARIO                                              -   \n",
       "ESTU_PUESTO                                                    871   \n",
       "PUNT_LENGUAJE                                                   36   \n",
       "PUNT_MATEMATICAS                                                46   \n",
       "PUNT_C_SOCIALES                                                 36   \n",
       "PUNT_FILOSOFIA                                                  30   \n",
       "PUNT_BIOLOGIA                                                   33   \n",
       "PUNT_QUIMICA                                                    37   \n",
       "PUNT_FISICA                                                     27   \n",
       "PUNT_INGLES                                                     38   \n",
       "DESEMP_INGLES                                                   A-   \n",
       "NOMBRE_COMP_FLEXIBLE           PROFUNDIZACIÓN EN CIENCIAS SOCIALES   \n",
       "PUNT_COMP_FLEXIBLE                                               4   \n",
       "DESEMP_COMP_FLEXIBLE                                            GB   \n",
       "\n",
       "                                                  2  \n",
       "PERIODO                                       20141  \n",
       "ESTU_CONSECUTIVO                 SABER1120141000003  \n",
       "ESTU_GENERO                                       F  \n",
       "ESTU_FECHA_NACIMIENTO                      20/02/72  \n",
       "ESTU_ETNIA                                       99  \n",
       "ESTU_LIMITA_COGNITIVA                           NaN  \n",
       "ESTU_LIMITA_CONDICIONESPECIAL                     -  \n",
       "ESTU_LIMITA_MOTRIZ                              NaN  \n",
       "ESTU_LIMITA_INVIDENTE                           NaN  \n",
       "ESTU_LIMITA_SORDO                                 -  \n",
       "ESTU_LIMITA_SDOWN                                 -  \n",
       "ESTU_LIMITA_AUTISMO                               -  \n",
       "ESTU_COD_RESIDE_MCPIO                          5045  \n",
       "ESTU_RESIDE_MCPIO                          APARTADO  \n",
       "ESTU_RESIDE_DEPTO                         ANTIOQUIA  \n",
       "ESTU_ZONA_RESIDE                                 10  \n",
       "ESTU_AREA_RESIDE                                NaN  \n",
       "COLE_COD_ICFES                               131219  \n",
       "COLE_NOMBRE_SEDE               INSTITUTO CORFERRINI  \n",
       "COLE_COD_DANE_INSTITUCION               3.05837e+11  \n",
       "COLE_JORNADA                   SABATINA - DOMINICAL  \n",
       "COLE_VALOR_PENSION                              NaN  \n",
       "ESTU_CARRDESEADA_TIPO                           NaN  \n",
       "ESTU_IES_COD_DESEADA                            NaN  \n",
       "ESTU_IES_COD_MPIO_DESEADA                       NaN  \n",
       "ESTU_IES_DEPT_DESEADA                           NaN  \n",
       "ESTU_IES_DESEADA_NOMBRE                         NaN  \n",
       "ESTU_IES_MPIO_DESEADA                           NaN  \n",
       "ESTU_TOTAL_ALUMNOS_CURSO                        NaN  \n",
       "ESTU_ANO_MATRICULA_PRIMERO                      NaN  \n",
       "...                                             ...  \n",
       "FAMI_PERSONAS_HOGAR                               6  \n",
       "FAMI_CUARTOS_HOGAR                                2  \n",
       "FAMI_PISOSHOGAR                                   2  \n",
       "FAMI_TELEFONO_FIJO                                0  \n",
       "FAMI_CELULAR                                      1  \n",
       "FAMI_INTERNET                                     0  \n",
       "FAMI_TELEVISOR                                    1  \n",
       "FAMI_COMPUTADOR                                   0  \n",
       "FAMI_DVD                                          0  \n",
       "FAMI_LAVADORA                                     1  \n",
       "FAMI_MICROONDAS                                   0  \n",
       "FAMI_NEVERA                                       1  \n",
       "FAMI_AUTOMOVIL                                    0  \n",
       "FAMI_HORNO                                        0  \n",
       "FAMI_INGRESO_FMILIAR_MENSUAL                      2  \n",
       "ESTU_TRABAJA                                    NaN  \n",
       "ESTU_RECIBE_SALARIO                               -  \n",
       "ESTU_PUESTO                                     850  \n",
       "PUNT_LENGUAJE                                    49  \n",
       "PUNT_MATEMATICAS                                 32  \n",
       "PUNT_C_SOCIALES                                  38  \n",
       "PUNT_FILOSOFIA                                   30  \n",
       "PUNT_BIOLOGIA                                    30  \n",
       "PUNT_QUIMICA                                     37  \n",
       "PUNT_FISICA                                      38  \n",
       "PUNT_INGLES                                      34  \n",
       "DESEMP_INGLES                                    A-  \n",
       "NOMBRE_COMP_FLEXIBLE                 MEDIO AMBIENTE  \n",
       "PUNT_COMP_FLEXIBLE                               51  \n",
       "DESEMP_COMP_FLEXIBLE                            NaN  \n",
       "\n",
       "[102 rows x 3 columns]"
      ]
     },
     "execution_count": 374,
     "metadata": {},
     "output_type": "execute_result"
    }
   ],
   "source": [
    "data_2014.head(3).T"
   ]
  },
  {
   "cell_type": "code",
   "execution_count": 375,
   "metadata": {
    "collapsed": false
   },
   "outputs": [],
   "source": [
    "data_2014 = data_2014.drop(['PERIODO', 'ESTU_CONSECUTIVO', 'ESTU_COD_RESIDE_MCPIO', 'COLE_NOMBRE_SEDE',\n",
    "                           'ESTU_IES_COD_MPIO_DESEADA', 'ESTU_IES_DESEADA_NOMBRE', 'ESTU_COD_MCPIO_PRESENTACION'], axis=1)"
   ]
  },
  {
   "cell_type": "code",
   "execution_count": 376,
   "metadata": {
    "collapsed": false
   },
   "outputs": [
    {
     "name": "stdout",
     "output_type": "stream",
     "text": [
      "Index(['F', 'M'], dtype='object')\n",
      "F    44695\n",
      "M    42772\n",
      "Name: ESTU_GENERO, dtype: int64\n",
      "Elementos null/NaN 1218\n",
      "__________________\n",
      "Elementos diferentes de null/NaN: 87467\n",
      "__________________\n",
      "(87467,)\n",
      "None\n"
     ]
    }
   ],
   "source": [
    "c = 'ESTU_GENERO'\n",
    "print(data_2014[c].value_counts().sort_index().index)\n",
    "print(data_2014[c].value_counts().sort_index())\n",
    "print(missing_data(data_2014[c]))"
   ]
  },
  {
   "cell_type": "code",
   "execution_count": 377,
   "metadata": {
    "collapsed": false
   },
   "outputs": [
    {
     "name": "stdout",
     "output_type": "stream",
     "text": [
      "cant null antes: 1218\n",
      "cant null despues: 0\n"
     ]
    }
   ],
   "source": [
    "Do_resamples(data_2014, c, str)"
   ]
  },
  {
   "cell_type": "code",
   "execution_count": 378,
   "metadata": {
    "collapsed": false,
    "scrolled": true
   },
   "outputs": [
    {
     "name": "stdout",
     "output_type": "stream",
     "text": [
      "Index(['01/01/00', '01/01/54', '01/01/56', '01/01/61', '01/01/64', '01/01/66',\n",
      "       '01/01/67', '01/01/68', '01/01/71', '01/01/72',\n",
      "       ...\n",
      "       '31/12/89', '31/12/90', '31/12/91', '31/12/92', '31/12/93', '31/12/94',\n",
      "       '31/12/95', '31/12/96', '31/12/97', '31/12/98'],\n",
      "      dtype='object', length=10523)\n",
      "01/01/00     3\n",
      "01/01/54     1\n",
      "01/01/56     1\n",
      "01/01/61     1\n",
      "01/01/64     3\n",
      "01/01/66     1\n",
      "01/01/67     2\n",
      "01/01/68     1\n",
      "01/01/71     2\n",
      "01/01/72     3\n",
      "01/01/74     1\n",
      "01/01/75     2\n",
      "01/01/76     2\n",
      "01/01/77     1\n",
      "01/01/78     2\n",
      "01/01/79     5\n",
      "01/01/80     1\n",
      "01/01/81     1\n",
      "01/01/82     4\n",
      "01/01/83     7\n",
      "01/01/84     7\n",
      "01/01/85     4\n",
      "01/01/86     6\n",
      "01/01/87     2\n",
      "01/01/88     2\n",
      "01/01/89     7\n",
      "01/01/90    10\n",
      "01/01/91    18\n",
      "01/01/92    12\n",
      "01/01/93    16\n",
      "            ..\n",
      "31/10/96    57\n",
      "31/10/97    20\n",
      "31/10/98     1\n",
      "31/12/57     3\n",
      "31/12/62     1\n",
      "31/12/63     1\n",
      "31/12/70     1\n",
      "31/12/73     2\n",
      "31/12/77     2\n",
      "31/12/78     3\n",
      "31/12/79     2\n",
      "31/12/80     3\n",
      "31/12/81     2\n",
      "31/12/82     4\n",
      "31/12/83     2\n",
      "31/12/84     3\n",
      "31/12/85     3\n",
      "31/12/86     3\n",
      "31/12/87     1\n",
      "31/12/88     3\n",
      "31/12/89     7\n",
      "31/12/90     3\n",
      "31/12/91    12\n",
      "31/12/92    13\n",
      "31/12/93    12\n",
      "31/12/94    36\n",
      "31/12/95    26\n",
      "31/12/96    51\n",
      "31/12/97    14\n",
      "31/12/98     1\n",
      "Name: ESTU_FECHA_NACIMIENTO, dtype: int64\n",
      "Elementos null/NaN 1223\n",
      "__________________\n",
      "Elementos diferentes de null/NaN: 87462\n",
      "__________________\n",
      "(87462,)\n",
      "None\n"
     ]
    }
   ],
   "source": [
    "c = 'ESTU_FECHA_NACIMIENTO'\n",
    "print(data_2014[c].value_counts().sort_index().index)\n",
    "print(data_2014[c].value_counts().sort_index())\n",
    "print(missing_data(data_2014[c]))"
   ]
  },
  {
   "cell_type": "code",
   "execution_count": 379,
   "metadata": {
    "collapsed": true
   },
   "outputs": [],
   "source": [
    "idx = data_2014[data_2014[c].isnull()].index\n",
    "data_2014 = data_2014.drop(idx)"
   ]
  },
  {
   "cell_type": "markdown",
   "metadata": {},
   "source": [
    "Way to split the columns into other columns taked from [CODE Q&A](https://code.i-harness.com/es/q/1052e8e)"
   ]
  },
  {
   "cell_type": "code",
   "execution_count": 381,
   "metadata": {
    "collapsed": false
   },
   "outputs": [],
   "source": [
    "Sep_Col = pd.DataFrame(data_2014.ESTU_FECHA_NACIMIENTO.str.split('/').tolist(), columns=['ESTU_NACIMIENTO_DIA', \n",
    "                                                                                         'ESTU_NACIMIENTO_MES',\n",
    "                                                                                         'ESTU_NACIMIENTO_ANNO'])"
   ]
  },
  {
   "cell_type": "code",
   "execution_count": 382,
   "metadata": {
    "collapsed": false
   },
   "outputs": [],
   "source": [
    "data_2014 = pd.concat([data_2014, Sep_Col], axis=1)"
   ]
  },
  {
   "cell_type": "code",
   "execution_count": 383,
   "metadata": {
    "collapsed": false
   },
   "outputs": [],
   "source": [
    "data_2014 = data_2014.drop('ESTU_FECHA_NACIMIENTO', axis=1)"
   ]
  },
  {
   "cell_type": "code",
   "execution_count": 384,
   "metadata": {
    "collapsed": false,
    "scrolled": true
   },
   "outputs": [
    {
     "name": "stdout",
     "output_type": "stream",
     "text": [
      "Float64Index([ 1.0,  2.0,  3.0,  4.0,  5.0,  6.0,  7.0,  8.0,  9.0, 10.0, 11.0,\n",
      "              12.0, 13.0, 14.0, 15.0, 16.0, 17.0, 18.0, 99.0],\n",
      "             dtype='float64')\n",
      "1     3232\n",
      "2       84\n",
      "3      240\n",
      "4       17\n",
      "5      133\n",
      "6      251\n",
      "7       54\n",
      "8      200\n",
      "9      310\n",
      "10     309\n",
      "11    1111\n",
      "12      64\n",
      "13      62\n",
      "14       5\n",
      "15      11\n",
      "16      16\n",
      "17      22\n",
      "18       1\n",
      "99    7298\n",
      "Name: ESTU_ETNIA, dtype: int64\n",
      "Elementos null/NaN 75254\n",
      "__________________\n",
      "Elementos diferentes de null/NaN: 13420\n",
      "__________________\n",
      "(13420,)\n",
      "None\n"
     ]
    }
   ],
   "source": [
    "c = 'ESTU_ETNIA'\n",
    "print(data_2014[c].value_counts().sort_index().index)\n",
    "print(data_2014[c].value_counts().sort_index())\n",
    "print(missing_data(data_2014[c]))"
   ]
  },
  {
   "cell_type": "code",
   "execution_count": 385,
   "metadata": {
    "collapsed": true
   },
   "outputs": [],
   "source": [
    "data_2014[c].fillna(99, inplace=True)"
   ]
  },
  {
   "cell_type": "code",
   "execution_count": 386,
   "metadata": {
    "collapsed": false
   },
   "outputs": [
    {
     "name": "stdout",
     "output_type": "stream",
     "text": [
      "Index(['G'], dtype='object')\n",
      "G    75\n",
      "Name: ESTU_LIMITA_COGNITIVA, dtype: int64\n",
      "Elementos null/NaN 88599\n",
      "__________________\n",
      "Elementos diferentes de null/NaN: 75\n",
      "__________________\n",
      "(75,)\n",
      "None\n"
     ]
    }
   ],
   "source": [
    "c = 'ESTU_LIMITA_COGNITIVA'\n",
    "print(data_2014[c].value_counts().sort_index().index)\n",
    "print(data_2014[c].value_counts().sort_index())\n",
    "print(missing_data(data_2014[c]))"
   ]
  },
  {
   "cell_type": "code",
   "execution_count": 387,
   "metadata": {
    "collapsed": true
   },
   "outputs": [],
   "source": [
    "data_2014 = data_2014.drop(c, axis=1)"
   ]
  },
  {
   "cell_type": "code",
   "execution_count": 389,
   "metadata": {
    "collapsed": false
   },
   "outputs": [
    {
     "name": "stdout",
     "output_type": "stream",
     "text": [
      "Index(['-'], dtype='object')\n",
      "-    87462\n",
      "Name: ESTU_LIMITA_CONDICIONESPECIAL, dtype: int64\n",
      "Elementos null/NaN 1212\n",
      "__________________\n",
      "Elementos diferentes de null/NaN: 87462\n",
      "__________________\n",
      "(87462,)\n",
      "None\n"
     ]
    }
   ],
   "source": [
    "c = 'ESTU_LIMITA_CONDICIONESPECIAL'\n",
    "print(data_2014[c].value_counts().sort_index().index)\n",
    "print(data_2014[c].value_counts().sort_index())\n",
    "print(missing_data(data_2014[c]))"
   ]
  },
  {
   "cell_type": "code",
   "execution_count": 390,
   "metadata": {
    "collapsed": true
   },
   "outputs": [],
   "source": [
    "data_2014 = data_2014.drop(c, axis=1)"
   ]
  },
  {
   "cell_type": "code",
   "execution_count": 391,
   "metadata": {
    "collapsed": false
   },
   "outputs": [
    {
     "name": "stdout",
     "output_type": "stream",
     "text": [
      "Index(['M'], dtype='object')\n",
      "M    125\n",
      "Name: ESTU_LIMITA_MOTRIZ, dtype: int64\n",
      "Elementos null/NaN 88549\n",
      "__________________\n",
      "Elementos diferentes de null/NaN: 125\n",
      "__________________\n",
      "(125,)\n",
      "None\n"
     ]
    }
   ],
   "source": [
    "c = 'ESTU_LIMITA_MOTRIZ'\n",
    "print(data_2014[c].value_counts().sort_index().index)\n",
    "print(data_2014[c].value_counts().sort_index())\n",
    "print(missing_data(data_2014[c]))"
   ]
  },
  {
   "cell_type": "code",
   "execution_count": 392,
   "metadata": {
    "collapsed": true
   },
   "outputs": [],
   "source": [
    "data_2014 = data_2014.drop(c, axis=1)"
   ]
  },
  {
   "cell_type": "code",
   "execution_count": 393,
   "metadata": {
    "collapsed": false
   },
   "outputs": [
    {
     "name": "stdout",
     "output_type": "stream",
     "text": [
      "Index(['I'], dtype='object')\n",
      "I    38\n",
      "Name: ESTU_LIMITA_INVIDENTE, dtype: int64\n",
      "Elementos null/NaN 88636\n",
      "__________________\n",
      "Elementos diferentes de null/NaN: 38\n",
      "__________________\n",
      "(38,)\n",
      "None\n"
     ]
    }
   ],
   "source": [
    "c = 'ESTU_LIMITA_INVIDENTE'\n",
    "print(data_2014[c].value_counts().sort_index().index)\n",
    "print(data_2014[c].value_counts().sort_index())\n",
    "print(missing_data(data_2014[c]))"
   ]
  },
  {
   "cell_type": "code",
   "execution_count": 394,
   "metadata": {
    "collapsed": true
   },
   "outputs": [],
   "source": [
    "data_2014 = data_2014.drop(c, axis=1)"
   ]
  },
  {
   "cell_type": "code",
   "execution_count": 395,
   "metadata": {
    "collapsed": false
   },
   "outputs": [
    {
     "name": "stdout",
     "output_type": "stream",
     "text": [
      "Index(['-'], dtype='object')\n",
      "-    87462\n",
      "Name: ESTU_LIMITA_SORDO, dtype: int64\n",
      "Elementos null/NaN 1212\n",
      "__________________\n",
      "Elementos diferentes de null/NaN: 87462\n",
      "__________________\n",
      "(87462,)\n",
      "None\n"
     ]
    }
   ],
   "source": [
    "c = 'ESTU_LIMITA_SORDO'\n",
    "print(data_2014[c].value_counts().sort_index().index)\n",
    "print(data_2014[c].value_counts().sort_index())\n",
    "print(missing_data(data_2014[c]))"
   ]
  },
  {
   "cell_type": "code",
   "execution_count": 396,
   "metadata": {
    "collapsed": true
   },
   "outputs": [],
   "source": [
    "data_2014 = data_2014.drop(c, axis=1)"
   ]
  },
  {
   "cell_type": "code",
   "execution_count": 397,
   "metadata": {
    "collapsed": false
   },
   "outputs": [
    {
     "name": "stdout",
     "output_type": "stream",
     "text": [
      "Index(['-'], dtype='object')\n",
      "-    87462\n",
      "Name: ESTU_LIMITA_SDOWN, dtype: int64\n",
      "Elementos null/NaN 1212\n",
      "__________________\n",
      "Elementos diferentes de null/NaN: 87462\n",
      "__________________\n",
      "(87462,)\n",
      "None\n"
     ]
    }
   ],
   "source": [
    "c = 'ESTU_LIMITA_SDOWN'\n",
    "print(data_2014[c].value_counts().sort_index().index)\n",
    "print(data_2014[c].value_counts().sort_index())\n",
    "print(missing_data(data_2014[c]))"
   ]
  },
  {
   "cell_type": "code",
   "execution_count": 398,
   "metadata": {
    "collapsed": true
   },
   "outputs": [],
   "source": [
    "data_2014 = data_2014.drop(c, axis=1)"
   ]
  },
  {
   "cell_type": "code",
   "execution_count": 399,
   "metadata": {
    "collapsed": false
   },
   "outputs": [
    {
     "name": "stdout",
     "output_type": "stream",
     "text": [
      "Index(['-'], dtype='object')\n",
      "-    87462\n",
      "Name: ESTU_LIMITA_AUTISMO, dtype: int64\n",
      "Elementos null/NaN 1212\n",
      "__________________\n",
      "Elementos diferentes de null/NaN: 87462\n",
      "__________________\n",
      "(87462,)\n",
      "None\n"
     ]
    }
   ],
   "source": [
    "c = 'ESTU_LIMITA_AUTISMO'\n",
    "print(data_2014[c].value_counts().sort_index().index)\n",
    "print(data_2014[c].value_counts().sort_index())\n",
    "print(missing_data(data_2014[c]))"
   ]
  },
  {
   "cell_type": "code",
   "execution_count": 400,
   "metadata": {
    "collapsed": true
   },
   "outputs": [],
   "source": [
    "data_2014 = data_2014.drop(c, axis=1)"
   ]
  },
  {
   "cell_type": "code",
   "execution_count": 402,
   "metadata": {
    "collapsed": false,
    "scrolled": true
   },
   "outputs": [
    {
     "name": "stdout",
     "output_type": "stream",
     "text": [
      "Index(['ABREGO', 'ACACIAS', 'ACEVEDO', 'AGUA DE DIOS', 'AGUACHICA',\n",
      "       'AGUSTIN CODAZZI', 'ALBAN (SAN JOSE)', 'ALBANIA', 'ALEJANDRIA',\n",
      "       'ALTO BAUDO (PIE DE PATO)',\n",
      "       ...\n",
      "       'VILLANUEVA', 'VILLAPINZON', 'VILLAVICENCIO', 'VITERBO', 'YACUANQUER',\n",
      "       'YOPAL', 'YUMBO', 'ZAPATOCA', 'ZARZAL', 'ZIPAQUIRA'],\n",
      "      dtype='object', length=384)\n",
      "ABREGO                          2\n",
      "ACACIAS                        10\n",
      "ACEVEDO                         1\n",
      "AGUA DE DIOS                    1\n",
      "AGUACHICA                     287\n",
      "AGUSTIN CODAZZI                 1\n",
      "ALBAN (SAN JOSE)                8\n",
      "ALBANIA                       128\n",
      "ALEJANDRIA                      1\n",
      "ALTO BAUDO (PIE DE PATO)        7\n",
      "ALVARADO                        1\n",
      "ANAPOIMA                        1\n",
      "ANCUYA                          2\n",
      "ANDALUCIA                       1\n",
      "ANSERMA                         2\n",
      "APARTADO                      548\n",
      "ARANZAZU                        1\n",
      "ARAUCA                        113\n",
      "ARAUQUITA                       1\n",
      "ARBOLETES                       7\n",
      "ARGELIA                         1\n",
      "ARJONA                          3\n",
      "ARMENIA                       976\n",
      "ARMERO (GUAYABAL)               4\n",
      "ATRATO (YUTO)                   5\n",
      "BAGADO                          2\n",
      "BAHIA SOLANO (MUTIS)            1\n",
      "BAJO BAUDO   (PIZARRO)          1\n",
      "BALBOA                          1\n",
      "BARANOA                         2\n",
      "                             ... \n",
      "TIMBIQUI                        1\n",
      "TOCA                            1\n",
      "TOPAGA                          2\n",
      "TULUA                         577\n",
      "TUMACO                        244\n",
      "TUNJA                        1914\n",
      "TUQUERRES                     235\n",
      "TURBACO                         1\n",
      "TURBO                           6\n",
      "UBATE                           4\n",
      "URIBIA                          4\n",
      "VALLEDUPAR                   1328\n",
      "VELEZ                           7\n",
      "VENADILLO                       1\n",
      "VILLA DE LEYVA                117\n",
      "VILLA DEL ROSARIO               3\n",
      "VILLA GUAMEZ (LA HORMIGA)       3\n",
      "VILLA RICA                      6\n",
      "VILLAHERMOSA                    1\n",
      "VILLAMARIA                      2\n",
      "VILLANUEVA                      5\n",
      "VILLAPINZON                     1\n",
      "VILLAVICENCIO                1520\n",
      "VITERBO                         1\n",
      "YACUANQUER                      1\n",
      "YOPAL                         460\n",
      "YUMBO                           9\n",
      "ZAPATOCA                        1\n",
      "ZARZAL                          3\n",
      "ZIPAQUIRA                     957\n",
      "Name: ESTU_RESIDE_MCPIO, dtype: int64\n",
      "Elementos null/NaN 1212\n",
      "__________________\n",
      "Elementos diferentes de null/NaN: 87462\n",
      "__________________\n",
      "(87462,)\n",
      "None\n"
     ]
    }
   ],
   "source": [
    "c = 'ESTU_RESIDE_MCPIO'\n",
    "print(data_2014[c].value_counts().sort_index().index)\n",
    "print(data_2014[c].value_counts().sort_index())\n",
    "print(missing_data(data_2014[c]))"
   ]
  },
  {
   "cell_type": "code",
   "execution_count": 403,
   "metadata": {
    "collapsed": true
   },
   "outputs": [],
   "source": [
    "data_2014[c].fillna(method='bfill', inplace=True)\n",
    "data_2014[c].fillna(method='ffill', inplace=True)"
   ]
  },
  {
   "cell_type": "code",
   "execution_count": 404,
   "metadata": {
    "collapsed": false,
    "scrolled": true
   },
   "outputs": [
    {
     "name": "stdout",
     "output_type": "stream",
     "text": [
      "Index(['AMAZONAS', 'ANTIOQUIA', 'ARAUCA', 'ATLÁNTICO', 'BOGOTÁ', 'BOLÍVAR',\n",
      "       'BOYACÁ', 'CALDAS', 'CAQUETÁ', 'CASANARE', 'CAUCA', 'CESAR', 'CHOCÓ',\n",
      "       'CUNDINAMARCA', 'CÓRDOBA', 'GUAINÍA', 'GUAVIARE', 'HUILA', 'LA GUAJIRA',\n",
      "       'MAGDALENA', 'META', 'NARIÑO', 'NORTE SANTANDER', 'PUTUMAYO', 'QUINDÍO',\n",
      "       'RISARALDA', 'SAN ANDRÉS', 'SANTANDER', 'SUCRE', 'TOLIMA', 'VALLE',\n",
      "       'VAUPÉS', 'VICHADA'],\n",
      "      dtype='object')\n",
      "AMAZONAS              26\n",
      "ANTIOQUIA           6382\n",
      "ARAUCA               228\n",
      "ATLÁNTICO           2536\n",
      "BOGOTÁ             17283\n",
      "BOLÍVAR             1759\n",
      "BOYACÁ              3801\n",
      "CALDAS              2310\n",
      "CAQUETÁ              570\n",
      "CASANARE             492\n",
      "CAUCA               2867\n",
      "CESAR               1631\n",
      "CHOCÓ                548\n",
      "CUNDINAMARCA        2286\n",
      "CÓRDOBA              996\n",
      "GUAINÍA               35\n",
      "GUAVIARE              72\n",
      "HUILA               3598\n",
      "LA GUAJIRA           657\n",
      "MAGDALENA            684\n",
      "META                1666\n",
      "NARIÑO              6363\n",
      "NORTE SANTANDER     1471\n",
      "PUTUMAYO             610\n",
      "QUINDÍO             1005\n",
      "RISARALDA           1379\n",
      "SAN ANDRÉS            66\n",
      "SANTANDER           6340\n",
      "SUCRE                694\n",
      "TOLIMA              2476\n",
      "VALLE              16601\n",
      "VAUPÉS                10\n",
      "VICHADA               20\n",
      "Name: ESTU_RESIDE_DEPTO, dtype: int64\n",
      "Elementos null/NaN 1212\n",
      "__________________\n",
      "Elementos diferentes de null/NaN: 87462\n",
      "__________________\n",
      "(87462,)\n",
      "None\n"
     ]
    }
   ],
   "source": [
    "c = 'ESTU_RESIDE_DEPTO'\n",
    "print(data_2014[c].value_counts().sort_index().index)\n",
    "print(data_2014[c].value_counts().sort_index())\n",
    "print(missing_data(data_2014[c]))"
   ]
  },
  {
   "cell_type": "code",
   "execution_count": 405,
   "metadata": {
    "collapsed": true
   },
   "outputs": [],
   "source": [
    "data_2014[c].fillna(method='bfill', inplace=True)\n",
    "data_2014[c].fillna(method='ffill', inplace=True)"
   ]
  },
  {
   "cell_type": "code",
   "execution_count": 406,
   "metadata": {
    "collapsed": false
   },
   "outputs": [
    {
     "name": "stdout",
     "output_type": "stream",
     "text": [
      "Float64Index([1.0, 2.0, 3.0, 4.0, 5.0, 6.0, 7.0, 8.0, 9.0, 10.0], dtype='float64')\n",
      "1      9093\n",
      "2      1077\n",
      "3      1908\n",
      "4     13046\n",
      "5      7490\n",
      "6      2674\n",
      "7      1970\n",
      "8      3845\n",
      "9      2723\n",
      "10    43636\n",
      "Name: ESTU_ZONA_RESIDE, dtype: int64\n",
      "Elementos null/NaN 1212\n",
      "__________________\n",
      "Elementos diferentes de null/NaN: 87462\n",
      "__________________\n",
      "(87462,)\n",
      "None\n"
     ]
    }
   ],
   "source": [
    "c = 'ESTU_ZONA_RESIDE'\n",
    "print(data_2014[c].value_counts().sort_index().index)\n",
    "print(data_2014[c].value_counts().sort_index())\n",
    "print(missing_data(data_2014[c]))"
   ]
  },
  {
   "cell_type": "code",
   "execution_count": 407,
   "metadata": {
    "collapsed": false
   },
   "outputs": [
    {
     "name": "stdout",
     "output_type": "stream",
     "text": [
      "cant null antes: 1212\n",
      "cant null despues: 0\n"
     ]
    }
   ],
   "source": [
    "Do_resamples(data_2014, c, float)"
   ]
  },
  {
   "cell_type": "code",
   "execution_count": 409,
   "metadata": {
    "collapsed": false
   },
   "outputs": [
    {
     "name": "stdout",
     "output_type": "stream",
     "text": [
      "Float64Index([1.0, 2.0], dtype='float64')\n",
      "1    11288\n",
      "2     1747\n",
      "Name: ESTU_AREA_RESIDE, dtype: int64\n",
      "Elementos null/NaN 75639\n",
      "__________________\n",
      "Elementos diferentes de null/NaN: 13035\n",
      "__________________\n",
      "(13035,)\n",
      "None\n"
     ]
    }
   ],
   "source": [
    "c = 'ESTU_AREA_RESIDE'\n",
    "print(data_2014[c].value_counts().sort_index().index)\n",
    "print(data_2014[c].value_counts().sort_index())\n",
    "print(missing_data(data_2014[c]))"
   ]
  },
  {
   "cell_type": "code",
   "execution_count": 410,
   "metadata": {
    "collapsed": false
   },
   "outputs": [
    {
     "name": "stdout",
     "output_type": "stream",
     "text": [
      "cant null antes: 75639\n",
      "cant null despues: 0\n"
     ]
    }
   ],
   "source": [
    "Do_resamples(data_2014, c, float)"
   ]
  },
  {
   "cell_type": "code",
   "execution_count": 411,
   "metadata": {
    "collapsed": false,
    "scrolled": true
   },
   "outputs": [
    {
     "name": "stdout",
     "output_type": "stream",
     "text": [
      "Float64Index([       3.0,       34.0,       59.0,       67.0,       75.0,\n",
      "                    91.0,      125.0,      141.0,      182.0,      257.0,\n",
      "              ...\n",
      "                179226.0,   179259.0,   179267.0,   179283.0,   179291.0,\n",
      "                179325.0,   179341.0,   179358.0, 19001993.0, 68547990.0],\n",
      "             dtype='float64', length=8103)\n",
      "3            78\n",
      "34            1\n",
      "59           14\n",
      "67            1\n",
      "75            1\n",
      "91            3\n",
      "125           1\n",
      "141           2\n",
      "182         105\n",
      "257           6\n",
      "265          27\n",
      "315           3\n",
      "380           3\n",
      "430           1\n",
      "455           1\n",
      "596           1\n",
      "638         340\n",
      "661           1\n",
      "687           1\n",
      "711           3\n",
      "760           2\n",
      "786          15\n",
      "810           2\n",
      "844           1\n",
      "927           1\n",
      "935           7\n",
      "968           1\n",
      "984           3\n",
      "992           1\n",
      "1016          5\n",
      "           ... \n",
      "177089       21\n",
      "177196        9\n",
      "177204        3\n",
      "177386        1\n",
      "177469       35\n",
      "177592        1\n",
      "177600       11\n",
      "177618       35\n",
      "177626        1\n",
      "177667        2\n",
      "177691        1\n",
      "177741        1\n",
      "177766       17\n",
      "177816       15\n",
      "177949        2\n",
      "178004        6\n",
      "178038        5\n",
      "178202        8\n",
      "178236       11\n",
      "179184       11\n",
      "179226       30\n",
      "179259        3\n",
      "179267        5\n",
      "179283        1\n",
      "179291        5\n",
      "179325       41\n",
      "179341        1\n",
      "179358       74\n",
      "19001993     17\n",
      "68547990     13\n",
      "Name: COLE_COD_ICFES, dtype: int64\n",
      "Elementos null/NaN 20951\n",
      "__________________\n",
      "Elementos diferentes de null/NaN: 67723\n",
      "__________________\n",
      "(67723,)\n",
      "None\n"
     ]
    }
   ],
   "source": [
    "c = 'COLE_COD_ICFES'\n",
    "print(data_2014[c].value_counts().sort_index().index)\n",
    "print(data_2014[c].value_counts().sort_index())\n",
    "print(missing_data(data_2014[c]))"
   ]
  },
  {
   "cell_type": "code",
   "execution_count": 412,
   "metadata": {
    "collapsed": false
   },
   "outputs": [
    {
     "name": "stdout",
     "output_type": "stream",
     "text": [
      "cant null antes: 83908\n",
      "cant null despues: 0\n"
     ]
    }
   ],
   "source": [
    "for i in data_2014[c].value_counts().sort_index().index:\n",
    "    if len(str(i)) < 4:\n",
    "        data_2014[c] = data_2014[c].replace(i, np.nan)\n",
    "    elif len(str(i)) > 6:\n",
    "        data_2014[c] = data_2014[c].replace(i, np.nan)\n",
    "Do_resamples(data_2014, c, float)"
   ]
  },
  {
   "cell_type": "code",
   "execution_count": 414,
   "metadata": {
    "collapsed": false,
    "scrolled": true
   },
   "outputs": [
    {
     "name": "stdout",
     "output_type": "stream",
     "text": [
      "Index([311001105863.0, 305001022675.0, 305001007861.0, 476248000478.0,\n",
      "       376001028219.0, 152001000785.0, 152001000777.0, 368001007669.0,\n",
      "       376001003461.0, 141001003341.0,\n",
      "       ...\n",
      "       311001050058.0, 125772000194.0, 173547000015.0, 154347000016.0,\n",
      "       311001000891.0, '176109000427', 268307000213.0, 311001000832.0,\n",
      "       170418000115.0, 373001011198.0],\n",
      "      dtype='object', length=6585)\n",
      "311001105863.0    646\n",
      "305001022675.0    340\n",
      "305001007861.0    285\n",
      "476248000478.0    274\n",
      "376001028219.0    240\n",
      "152001000785.0    238\n",
      "152001000777.0    216\n",
      "368001007669.0    195\n",
      "376001003461.0    189\n",
      "141001003341.0    174\n",
      "311001106410      173\n",
      "376001000012.0    170\n",
      "141001000066.0    165\n",
      "115759001887.0    157\n",
      "311001094942.0    155\n",
      "376001000900.0    154\n",
      "311001106177.0    154\n",
      "305001000611.0    153\n",
      "305001019606.0    148\n",
      "376001001116.0    147\n",
      "152001000599.0    145\n",
      "305001017361.0    144\n",
      "152001000661.0    142\n",
      "176001005813.0    135\n",
      "115759000279.0    131\n",
      "311001010820.0    128\n",
      "311001019941.0    127\n",
      "317001001896.0    126\n",
      "168001003591.0    125\n",
      "350001006852.0    123\n",
      "                 ... \n",
      "476520007282        1\n",
      "376001031228.0      1\n",
      "347001000047.0      1\n",
      "308001001587.0      1\n",
      "311001092214.0      1\n",
      "186865004059        1\n",
      "311001099308.0      1\n",
      "311001017387.0      1\n",
      "125317000232.0      1\n",
      "113244000397.0      1\n",
      "252110000285.0      1\n",
      "311001002282.0      1\n",
      "308001001633.0      1\n",
      "176109005836.0      1\n",
      "105138000121.0      1\n",
      "370820066296.0      1\n",
      "276828000441.0      1\n",
      "317873000639.0      1\n",
      "225326000096.0      1\n",
      "308001074126.0      1\n",
      "311001050058.0      1\n",
      "125772000194.0      1\n",
      "173547000015.0      1\n",
      "154347000016.0      1\n",
      "311001000891.0      1\n",
      "176109000427        1\n",
      "268307000213.0      1\n",
      "311001000832.0      1\n",
      "170418000115.0      1\n",
      "373001011198.0      1\n",
      "Name: COLE_COD_DANE_INSTITUCION, dtype: int64\n",
      "Elementos null/NaN 21566\n",
      "__________________\n",
      "Elementos diferentes de null/NaN: 67108\n",
      "__________________\n",
      "(67108,)\n",
      "None\n"
     ]
    }
   ],
   "source": [
    "c = 'COLE_COD_DANE_INSTITUCION'\n",
    "print(data_2014[c].value_counts().index)\n",
    "print(data_2014[c].value_counts())\n",
    "print(missing_data(data_2014[c]))"
   ]
  },
  {
   "cell_type": "code",
   "execution_count": 415,
   "metadata": {
    "collapsed": false
   },
   "outputs": [
    {
     "name": "stdout",
     "output_type": "stream",
     "text": [
      "cant null antes: 21569\n",
      "cant null despues: 0\n"
     ]
    }
   ],
   "source": [
    "data_2014[c] = data_2014[c].replace('PENDIENTE', np.nan)\n",
    "for i in data_2014[c].value_counts().index:\n",
    "    if type(i) == str:\n",
    "        data_2014[c] = data_2014[c].replace(i, float(i))\n",
    "        \n",
    "Do_resamples(data_2014, c, float)"
   ]
  },
  {
   "cell_type": "code",
   "execution_count": 417,
   "metadata": {
    "collapsed": false
   },
   "outputs": [
    {
     "name": "stdout",
     "output_type": "stream",
     "text": [
      "Index(['COMPLETA U ORDINARIA', 'MAÑANA', 'NOCHE', 'SABATINA - DOMINICAL',\n",
      "       'TARDE', 'UNICA'],\n",
      "      dtype='object')\n",
      "COMPLETA U ORDINARIA    15197\n",
      "MAÑANA                  29081\n",
      "NOCHE                    8573\n",
      "SABATINA - DOMINICAL     8374\n",
      "TARDE                    6378\n",
      "UNICA                       4\n",
      "Name: COLE_JORNADA, dtype: int64\n",
      "Elementos null/NaN 21067\n",
      "__________________\n",
      "Elementos diferentes de null/NaN: 67607\n",
      "__________________\n",
      "(67607,)\n",
      "None\n"
     ]
    }
   ],
   "source": [
    "c = 'COLE_JORNADA'\n",
    "print(data_2014[c].value_counts().sort_index().index)\n",
    "print(data_2014[c].value_counts().sort_index())\n",
    "print(missing_data(data_2014[c]))"
   ]
  },
  {
   "cell_type": "code",
   "execution_count": 418,
   "metadata": {
    "collapsed": false
   },
   "outputs": [
    {
     "name": "stdout",
     "output_type": "stream",
     "text": [
      "cant null antes: 21067\n",
      "cant null despues: 1\n",
      "cant null antes: 1\n",
      "cant null despues: 0\n"
     ]
    }
   ],
   "source": [
    "Do_resamples(data_2014, c, str)"
   ]
  },
  {
   "cell_type": "code",
   "execution_count": 419,
   "metadata": {
    "collapsed": false
   },
   "outputs": [
    {
     "name": "stdout",
     "output_type": "stream",
     "text": [
      "Float64Index([0.0, 1.0, 2.0, 3.0, 4.0, 5.0, 6.0, 8.0, 9.0], dtype='float64')\n",
      "0       9\n",
      "1    2704\n",
      "2    6903\n",
      "3    2749\n",
      "4     854\n",
      "5    2110\n",
      "6    8064\n",
      "8       2\n",
      "9       2\n",
      "Name: COLE_VALOR_PENSION, dtype: int64\n",
      "Elementos null/NaN 65277\n",
      "__________________\n",
      "Elementos diferentes de null/NaN: 23397\n",
      "__________________\n",
      "(23397,)\n",
      "None\n"
     ]
    }
   ],
   "source": [
    "c = 'COLE_VALOR_PENSION'\n",
    "print(data_2014[c].value_counts().sort_index().index)\n",
    "print(data_2014[c].value_counts().sort_index())\n",
    "print(missing_data(data_2014[c]))"
   ]
  },
  {
   "cell_type": "code",
   "execution_count": 420,
   "metadata": {
    "collapsed": false
   },
   "outputs": [
    {
     "name": "stdout",
     "output_type": "stream",
     "text": [
      "cant null antes: 65277\n",
      "cant null despues: 0\n"
     ]
    }
   ],
   "source": [
    "Do_resamples(data_2014, c, float)"
   ]
  },
  {
   "cell_type": "code",
   "execution_count": 421,
   "metadata": {
    "collapsed": false
   },
   "outputs": [
    {
     "name": "stdout",
     "output_type": "stream",
     "text": [
      "Float64Index([0.0, 1.0, 2.0, 3.0], dtype='float64')\n",
      "0     10\n",
      "1     24\n",
      "2     13\n",
      "3    325\n",
      "Name: ESTU_CARRDESEADA_TIPO, dtype: int64\n",
      "Elementos null/NaN 88302\n",
      "__________________\n",
      "Elementos diferentes de null/NaN: 372\n",
      "__________________\n",
      "(372,)\n",
      "None\n"
     ]
    }
   ],
   "source": [
    "c = 'ESTU_CARRDESEADA_TIPO'\n",
    "print(data_2014[c].value_counts().sort_index().index)\n",
    "print(data_2014[c].value_counts().sort_index())\n",
    "print(missing_data(data_2014[c]))"
   ]
  },
  {
   "cell_type": "code",
   "execution_count": 422,
   "metadata": {
    "collapsed": false
   },
   "outputs": [
    {
     "name": "stdout",
     "output_type": "stream",
     "text": [
      "cant null antes: 88302\n",
      "cant null despues: 0\n"
     ]
    }
   ],
   "source": [
    "Do_resamples(data_2014, c, float)"
   ]
  },
  {
   "cell_type": "code",
   "execution_count": 423,
   "metadata": {
    "collapsed": false,
    "scrolled": true
   },
   "outputs": [
    {
     "name": "stdout",
     "output_type": "stream",
     "text": [
      "Float64Index([    59.0,   1115.0,   1222.0,   1230.0,   1255.0,   1297.0,\n",
      "                1644.0,   1651.0,   1693.0,   2106.0,\n",
      "              ...\n",
      "              164350.0, 164566.0, 165019.0, 165118.0, 165381.0, 165852.0,\n",
      "              166199.0, 167387.0, 167932.0, 168054.0],\n",
      "             dtype='float64', length=290)\n",
      "59         1\n",
      "1115       1\n",
      "1222      25\n",
      "1230       1\n",
      "1255       2\n",
      "1297       1\n",
      "1644       5\n",
      "1651       5\n",
      "1693       2\n",
      "2106       1\n",
      "5983       4\n",
      "8763       1\n",
      "9103       1\n",
      "9142       1\n",
      "11924      4\n",
      "16907      1\n",
      "17368      2\n",
      "20693      1\n",
      "20743      1\n",
      "20842      6\n",
      "20875      1\n",
      "21121     41\n",
      "21386     61\n",
      "21790      2\n",
      "22988      2\n",
      "23234      2\n",
      "24000      4\n",
      "24018      3\n",
      "25247      1\n",
      "25411      1\n",
      "          ..\n",
      "155689     1\n",
      "156919    14\n",
      "157115     1\n",
      "157669     1\n",
      "158022     2\n",
      "158162     2\n",
      "158295     2\n",
      "158386    64\n",
      "158477     1\n",
      "158790     1\n",
      "159111     3\n",
      "159251     1\n",
      "160077     3\n",
      "160481     3\n",
      "160762     3\n",
      "160838     1\n",
      "161935     5\n",
      "162248     1\n",
      "162768     1\n",
      "163105     1\n",
      "164350     3\n",
      "164566     1\n",
      "165019     4\n",
      "165118     1\n",
      "165381     2\n",
      "165852    24\n",
      "166199     1\n",
      "167387     1\n",
      "167932     1\n",
      "168054     3\n",
      "Name: ESTU_IES_COD_DESEADA, dtype: int64\n",
      "Elementos null/NaN 86355\n",
      "__________________\n",
      "Elementos diferentes de null/NaN: 2319\n",
      "__________________\n",
      "(2319,)\n",
      "None\n"
     ]
    }
   ],
   "source": [
    "c = 'ESTU_IES_COD_DESEADA'\n",
    "print(data_2014[c].value_counts().sort_index().index)\n",
    "print(data_2014[c].value_counts().sort_index())\n",
    "print(missing_data(data_2014[c]))"
   ]
  },
  {
   "cell_type": "code",
   "execution_count": 424,
   "metadata": {
    "collapsed": true
   },
   "outputs": [],
   "source": [
    "for i in data_2014[c].value_counts().sort_index().index:\n",
    "    if len(str(i)) < 4:\n",
    "        data_2014[c] = data_2014[c].replace(i, np.nan)\n",
    "        \n",
    "data_2014[c].fillna(method='bfill', inplace=True)\n",
    "data_2014[c].fillna(method='ffill', inplace=True)"
   ]
  },
  {
   "cell_type": "code",
   "execution_count": 425,
   "metadata": {
    "collapsed": false,
    "scrolled": true
   },
   "outputs": [
    {
     "name": "stdout",
     "output_type": "stream",
     "text": [
      "Index(['AMAZONAS', 'ANTIOQUIA', 'ATLÁNTICO', 'BOGOTÁ', 'BOLÍVAR', 'BOYACÁ',\n",
      "       'CALDAS', 'CAQUETÁ', 'CASANARE', 'CAUCA', 'CESAR', 'CHOCÓ',\n",
      "       'CUNDINAMARCA', 'CÓRDOBA', 'HUILA', 'LA GUAJIRA', 'MAGDALENA', 'META',\n",
      "       'NARIÑO', 'NORTE SANTANDER', 'QUINDÍO', 'RISARALDA', 'SANTANDER',\n",
      "       'SUCRE', 'TOLIMA', 'VALLE'],\n",
      "      dtype='object')\n",
      "AMAZONAS             3\n",
      "ANTIOQUIA          317\n",
      "ATLÁNTICO           33\n",
      "BOGOTÁ             786\n",
      "BOLÍVAR             54\n",
      "BOYACÁ               1\n",
      "CALDAS               8\n",
      "CAQUETÁ              2\n",
      "CASANARE            11\n",
      "CAUCA               18\n",
      "CESAR                3\n",
      "CHOCÓ                2\n",
      "CUNDINAMARCA       442\n",
      "CÓRDOBA             30\n",
      "HUILA               13\n",
      "LA GUAJIRA           4\n",
      "MAGDALENA           14\n",
      "META                 9\n",
      "NARIÑO              29\n",
      "NORTE SANTANDER     10\n",
      "QUINDÍO              1\n",
      "RISARALDA            6\n",
      "SANTANDER          298\n",
      "SUCRE               25\n",
      "TOLIMA              42\n",
      "VALLE              158\n",
      "Name: ESTU_IES_DEPT_DESEADA, dtype: int64\n",
      "Elementos null/NaN 86355\n",
      "__________________\n",
      "Elementos diferentes de null/NaN: 2319\n",
      "__________________\n",
      "(2319,)\n",
      "None\n"
     ]
    }
   ],
   "source": [
    "c = 'ESTU_IES_DEPT_DESEADA'\n",
    "print(data_2014[c].value_counts().sort_index().index)\n",
    "print(data_2014[c].value_counts().sort_index())\n",
    "print(missing_data(data_2014[c]))"
   ]
  },
  {
   "cell_type": "code",
   "execution_count": 426,
   "metadata": {
    "collapsed": true
   },
   "outputs": [],
   "source": [
    "data_2014[c].fillna(method='bfill', inplace=True)\n",
    "data_2014[c].fillna(method='ffill', inplace=True)"
   ]
  },
  {
   "cell_type": "code",
   "execution_count": 427,
   "metadata": {
    "collapsed": false,
    "scrolled": true
   },
   "outputs": [
    {
     "name": "stdout",
     "output_type": "stream",
     "text": [
      "Index(['ABREGO', 'ALBANIA', 'ALGARROBO', 'ALGECIRAS', 'AMAGA', 'AMALFI',\n",
      "       'ANDES', 'ANZOATEGUI', 'APARTADO', 'ARATOCA',\n",
      "       ...\n",
      "       'SOPO', 'TOLUVIEJO', 'TRINIDAD', 'TUMACO', 'VENADILLO', 'VETAS',\n",
      "       'VILLAVICENCIO', 'YOPAL', 'YUMBO', 'ZARAGOZA'],\n",
      "      dtype='object', length=126)\n",
      "ABREGO                         3\n",
      "ALBANIA                        1\n",
      "ALGARROBO                      1\n",
      "ALGECIRAS                      1\n",
      "AMAGA                         25\n",
      "AMALFI                         7\n",
      "ANDES                         14\n",
      "ANZOATEGUI                     2\n",
      "APARTADO                       1\n",
      "ARATOCA                        2\n",
      "ARBOLEDAS                      1\n",
      "ARJONA                         1\n",
      "BARAYA                         1\n",
      "BARRANCABERMEJA                1\n",
      "BARRANCAS                      1\n",
      "BARRANQUILLA                  17\n",
      "BELLO                         72\n",
      "BITUIMA                        1\n",
      "BOGOTÁ D.C.                  786\n",
      "BOLIVAR                        3\n",
      "BUENAVENTURA                   5\n",
      "BUGA                           1\n",
      "CAIMITO                        3\n",
      "CAJICA                        10\n",
      "CALDONO                       13\n",
      "CALI                          90\n",
      "CANDELARIA                     6\n",
      "CAQUEZA                        2\n",
      "CARMEN DEL DARIEN              2\n",
      "CARTAGENA                     51\n",
      "                            ... \n",
      "QUIMBAYA                       1\n",
      "RIONEGRO                      15\n",
      "ROVIRA                         1\n",
      "SABANAS DE SAN ANGEL           6\n",
      "SAN ALBERTO                    3\n",
      "SAN ANTONIO DE TEQUENDAMA      1\n",
      "SAN JUAN DE ARAMA              5\n",
      "SAN PEDRO                      1\n",
      "SAN PEDRO DE URABA             3\n",
      "SAN PELAYO                     4\n",
      "SAN ROQUE                      1\n",
      "SANTA BARBARA DE PINTO         2\n",
      "SANTA HELENA DEL OPON          3\n",
      "SANTA MARTA                    4\n",
      "SANTA ROSA DE OSOS             3\n",
      "SANTAFÉ DE ANTIOQUIA           1\n",
      "SANTO DOMINGO                  2\n",
      "SINCELEJO                      1\n",
      "SOACHA                         4\n",
      "SONSON                         1\n",
      "SOPO                          21\n",
      "TOLUVIEJO                      1\n",
      "TRINIDAD                       1\n",
      "TUMACO                         4\n",
      "VENADILLO                      2\n",
      "VETAS                          2\n",
      "VILLAVICENCIO                  1\n",
      "YOPAL                          2\n",
      "YUMBO                         21\n",
      "ZARAGOZA                       1\n",
      "Name: ESTU_IES_MPIO_DESEADA, dtype: int64\n",
      "Elementos null/NaN 86355\n",
      "__________________\n",
      "Elementos diferentes de null/NaN: 2319\n",
      "__________________\n",
      "(2319,)\n",
      "None\n"
     ]
    }
   ],
   "source": [
    "c = 'ESTU_IES_MPIO_DESEADA'\n",
    "print(data_2014[c].value_counts().sort_index().index)\n",
    "print(data_2014[c].value_counts().sort_index())\n",
    "print(missing_data(data_2014[c]))"
   ]
  },
  {
   "cell_type": "code",
   "execution_count": 428,
   "metadata": {
    "collapsed": true
   },
   "outputs": [],
   "source": [
    "data_2014[c].fillna(method='bfill', inplace=True)\n",
    "data_2014[c].fillna(method='ffill', inplace=True)"
   ]
  },
  {
   "cell_type": "code",
   "execution_count": 429,
   "metadata": {
    "collapsed": false,
    "scrolled": true
   },
   "outputs": [
    {
     "name": "stdout",
     "output_type": "stream",
     "text": [
      "Float64Index([ 1.0,  2.0,  4.0,  5.0,  6.0,  7.0,  8.0,  9.0, 10.0, 11.0, 12.0,\n",
      "              13.0, 14.0, 15.0, 16.0, 17.0, 18.0, 19.0, 20.0, 21.0, 22.0, 23.0,\n",
      "              24.0, 25.0, 26.0, 27.0, 28.0, 29.0, 30.0, 31.0, 32.0, 33.0, 34.0,\n",
      "              35.0, 36.0, 37.0, 38.0, 39.0, 40.0, 41.0, 42.0, 43.0, 44.0, 45.0,\n",
      "              46.0, 47.0, 48.0, 50.0, 51.0, 52.0, 54.0, 57.0, 58.0, 60.0, 62.0,\n",
      "              64.0, 80.0, 89.0, 95.0, 96.0, 98.0, 99.0],\n",
      "             dtype='float64')\n",
      "1       2\n",
      "2       1\n",
      "4       9\n",
      "5      12\n",
      "6      15\n",
      "7      17\n",
      "8      14\n",
      "9      10\n",
      "10     39\n",
      "11     27\n",
      "12     37\n",
      "13     31\n",
      "14     35\n",
      "15     95\n",
      "16     45\n",
      "17     60\n",
      "18     73\n",
      "19     45\n",
      "20    199\n",
      "21     53\n",
      "22     91\n",
      "23     89\n",
      "24     88\n",
      "25    201\n",
      "26     51\n",
      "27     75\n",
      "28     92\n",
      "29     71\n",
      "30    175\n",
      "31     56\n",
      "     ... \n",
      "34     24\n",
      "35    116\n",
      "36     25\n",
      "37     31\n",
      "38     34\n",
      "39     35\n",
      "40     91\n",
      "41     15\n",
      "42     27\n",
      "43     14\n",
      "44     12\n",
      "45     34\n",
      "46     16\n",
      "47      3\n",
      "48      4\n",
      "50      7\n",
      "51     15\n",
      "52      8\n",
      "54      1\n",
      "57      6\n",
      "58      2\n",
      "60     24\n",
      "62      1\n",
      "64      2\n",
      "80      4\n",
      "89      1\n",
      "95      1\n",
      "96      1\n",
      "98      1\n",
      "99      5\n",
      "Name: ESTU_TOTAL_ALUMNOS_CURSO, dtype: int64\n",
      "Elementos null/NaN 86191\n",
      "__________________\n",
      "Elementos diferentes de null/NaN: 2483\n",
      "__________________\n",
      "(2483,)\n",
      "None\n"
     ]
    }
   ],
   "source": [
    "c = 'ESTU_TOTAL_ALUMNOS_CURSO'\n",
    "print(data_2014[c].value_counts().sort_index().index)\n",
    "print(data_2014[c].value_counts().sort_index())\n",
    "print(missing_data(data_2014[c]))"
   ]
  },
  {
   "cell_type": "code",
   "execution_count": 430,
   "metadata": {
    "collapsed": false
   },
   "outputs": [
    {
     "name": "stdout",
     "output_type": "stream",
     "text": [
      "cant null antes: 86191\n",
      "cant null despues: 0\n"
     ]
    }
   ],
   "source": [
    "Do_resamples(data_2014, c, float)"
   ]
  },
  {
   "cell_type": "code",
   "execution_count": 431,
   "metadata": {
    "collapsed": false,
    "scrolled": true
   },
   "outputs": [
    {
     "name": "stdout",
     "output_type": "stream",
     "text": [
      "Float64Index([1985.0, 1986.0, 1987.0, 1988.0, 1989.0, 1990.0, 1991.0, 1992.0,\n",
      "              1993.0, 1994.0, 1995.0, 1996.0, 1997.0, 1998.0, 1999.0, 2000.0,\n",
      "              2001.0, 2002.0],\n",
      "             dtype='float64')\n",
      "1985      94\n",
      "1986      16\n",
      "1987      10\n",
      "1988      13\n",
      "1989       8\n",
      "1990      18\n",
      "1991      10\n",
      "1992      19\n",
      "1993      10\n",
      "1994      18\n",
      "1995      26\n",
      "1996      29\n",
      "1997      69\n",
      "1998      60\n",
      "1999      88\n",
      "2000     261\n",
      "2001     347\n",
      "2002    1387\n",
      "Name: ESTU_ANO_MATRICULA_PRIMERO, dtype: int64\n",
      "Elementos null/NaN 86191\n",
      "__________________\n",
      "Elementos diferentes de null/NaN: 2483\n",
      "__________________\n",
      "(2483,)\n",
      "None\n"
     ]
    }
   ],
   "source": [
    "c = 'ESTU_ANO_MATRICULA_PRIMERO'\n",
    "print(data_2014[c].value_counts().sort_index().index)\n",
    "print(data_2014[c].value_counts().sort_index())\n",
    "print(missing_data(data_2014[c]))"
   ]
  },
  {
   "cell_type": "code",
   "execution_count": 432,
   "metadata": {
    "collapsed": false
   },
   "outputs": [
    {
     "name": "stdout",
     "output_type": "stream",
     "text": [
      "cant null antes: 86191\n",
      "cant null despues: 0\n"
     ]
    }
   ],
   "source": [
    "Do_resamples(data_2014, c, float)"
   ]
  },
  {
   "cell_type": "code",
   "execution_count": 433,
   "metadata": {
    "collapsed": false,
    "scrolled": true
   },
   "outputs": [
    {
     "name": "stdout",
     "output_type": "stream",
     "text": [
      "Float64Index([1986.0, 1987.0, 1988.0, 1989.0, 1990.0, 1991.0, 1992.0, 1993.0,\n",
      "              1994.0, 1995.0, 1996.0, 1997.0, 1998.0, 1999.0, 2000.0, 2001.0,\n",
      "              2002.0, 2003.0, 2004.0, 2005.0, 2006.0, 2007.0],\n",
      "             dtype='float64')\n",
      "1986      52\n",
      "1987       6\n",
      "1988       5\n",
      "1989      10\n",
      "1990      21\n",
      "1991      15\n",
      "1992       9\n",
      "1993       4\n",
      "1994      10\n",
      "1995      17\n",
      "1996      12\n",
      "1997      15\n",
      "1998      13\n",
      "1999      21\n",
      "2000      35\n",
      "2001      38\n",
      "2002      52\n",
      "2003      61\n",
      "2004      61\n",
      "2005     303\n",
      "2006     426\n",
      "2007    1297\n",
      "Name: ESTU_ANO_TERMINO_QUINTO, dtype: int64\n",
      "Elementos null/NaN 86191\n",
      "__________________\n",
      "Elementos diferentes de null/NaN: 2483\n",
      "__________________\n",
      "(2483,)\n",
      "None\n"
     ]
    }
   ],
   "source": [
    "c = 'ESTU_ANO_TERMINO_QUINTO'\n",
    "print(data_2014[c].value_counts().sort_index().index)\n",
    "print(data_2014[c].value_counts().sort_index())\n",
    "print(missing_data(data_2014[c]))"
   ]
  },
  {
   "cell_type": "code",
   "execution_count": 434,
   "metadata": {
    "collapsed": false
   },
   "outputs": [
    {
     "name": "stdout",
     "output_type": "stream",
     "text": [
      "cant null antes: 86191\n",
      "cant null despues: 0\n"
     ]
    }
   ],
   "source": [
    "Do_resamples(data_2014, c, float)"
   ]
  },
  {
   "cell_type": "code",
   "execution_count": 435,
   "metadata": {
    "collapsed": false
   },
   "outputs": [
    {
     "name": "stdout",
     "output_type": "stream",
     "text": [
      "Float64Index([1.0, 2.0, 3.0, 4.0, 5.0, 6.0, 7.0, 8.0], dtype='float64')\n",
      "1    748\n",
      "2    417\n",
      "3    212\n",
      "4    118\n",
      "5     74\n",
      "6    166\n",
      "7    116\n",
      "8    632\n",
      "Name: ESTU_ANOS_COLEGIO_ACTUAL, dtype: int64\n",
      "Elementos null/NaN 86191\n",
      "__________________\n",
      "Elementos diferentes de null/NaN: 2483\n",
      "__________________\n",
      "(2483,)\n",
      "None\n"
     ]
    }
   ],
   "source": [
    "c = 'ESTU_ANOS_COLEGIO_ACTUAL'\n",
    "print(data_2014[c].value_counts().sort_index().index)\n",
    "print(data_2014[c].value_counts().sort_index())\n",
    "print(missing_data(data_2014[c]))"
   ]
  },
  {
   "cell_type": "code",
   "execution_count": 436,
   "metadata": {
    "collapsed": false
   },
   "outputs": [
    {
     "name": "stdout",
     "output_type": "stream",
     "text": [
      "cant null antes: 86191\n",
      "cant null despues: 0\n"
     ]
    }
   ],
   "source": [
    "Do_resamples(data_2014, c, float)"
   ]
  },
  {
   "cell_type": "code",
   "execution_count": 437,
   "metadata": {
    "collapsed": false,
    "scrolled": true
   },
   "outputs": [
    {
     "name": "stdout",
     "output_type": "stream",
     "text": [
      "Float64Index([1987.0, 1988.0, 1989.0, 1990.0, 1991.0, 1992.0, 1993.0, 1994.0,\n",
      "              1995.0, 1996.0, 1997.0, 1998.0, 1999.0, 2000.0, 2001.0, 2002.0,\n",
      "              2003.0, 2004.0, 2005.0, 2006.0, 2007.0, 2008.0],\n",
      "             dtype='float64')\n",
      "1987      35\n",
      "1988       5\n",
      "1989       4\n",
      "1990      11\n",
      "1991      15\n",
      "1992       7\n",
      "1993      10\n",
      "1994       5\n",
      "1995       6\n",
      "1996      13\n",
      "1997      13\n",
      "1998      11\n",
      "1999      10\n",
      "2000      18\n",
      "2001      28\n",
      "2002      32\n",
      "2003      47\n",
      "2004      53\n",
      "2005      58\n",
      "2006     291\n",
      "2007     434\n",
      "2008    1377\n",
      "Name: ESTU_ANO_MATRICULA_SEXTO, dtype: int64\n",
      "Elementos null/NaN 86191\n",
      "__________________\n",
      "Elementos diferentes de null/NaN: 2483\n",
      "__________________\n",
      "(2483,)\n",
      "None\n"
     ]
    }
   ],
   "source": [
    "c = 'ESTU_ANO_MATRICULA_SEXTO'\n",
    "print(data_2014[c].value_counts().sort_index().index)\n",
    "print(data_2014[c].value_counts().sort_index())\n",
    "print(missing_data(data_2014[c]))"
   ]
  },
  {
   "cell_type": "code",
   "execution_count": 438,
   "metadata": {
    "collapsed": false
   },
   "outputs": [
    {
     "name": "stdout",
     "output_type": "stream",
     "text": [
      "cant null antes: 86191\n",
      "cant null despues: 0\n"
     ]
    }
   ],
   "source": [
    "Do_resamples(data_2014, c, float)"
   ]
  },
  {
   "cell_type": "code",
   "execution_count": 439,
   "metadata": {
    "collapsed": false
   },
   "outputs": [
    {
     "name": "stdout",
     "output_type": "stream",
     "text": [
      "Float64Index([0.0, 1.0, 2.0, 3.0], dtype='float64')\n",
      "0    303\n",
      "1    713\n",
      "2    535\n",
      "3    932\n",
      "Name: ESTU_ANOS_PREESCOLAR, dtype: int64\n",
      "Elementos null/NaN 86191\n",
      "__________________\n",
      "Elementos diferentes de null/NaN: 2483\n",
      "__________________\n",
      "(2483,)\n",
      "None\n"
     ]
    }
   ],
   "source": [
    "c = 'ESTU_ANOS_PREESCOLAR'\n",
    "print(data_2014[c].value_counts().sort_index().index)\n",
    "print(data_2014[c].value_counts().sort_index())\n",
    "print(missing_data(data_2014[c]))"
   ]
  },
  {
   "cell_type": "code",
   "execution_count": 440,
   "metadata": {
    "collapsed": false
   },
   "outputs": [
    {
     "name": "stdout",
     "output_type": "stream",
     "text": [
      "cant null antes: 86191\n",
      "cant null despues: 0\n"
     ]
    }
   ],
   "source": [
    "Do_resamples(data_2014, c, float)"
   ]
  },
  {
   "cell_type": "code",
   "execution_count": 441,
   "metadata": {
    "collapsed": false
   },
   "outputs": [
    {
     "name": "stdout",
     "output_type": "stream",
     "text": [
      "Float64Index([1.0, 2.0, 3.0], dtype='float64')\n",
      "1    1556\n",
      "2     572\n",
      "3     355\n",
      "Name: ESTU_CUANTOS_COLE_ESTUDIO, dtype: int64\n",
      "Elementos null/NaN 86191\n",
      "__________________\n",
      "Elementos diferentes de null/NaN: 2483\n",
      "__________________\n",
      "(2483,)\n",
      "None\n"
     ]
    }
   ],
   "source": [
    "c = 'ESTU_CUANTOS_COLE_ESTUDIO'\n",
    "print(data_2014[c].value_counts().sort_index().index)\n",
    "print(data_2014[c].value_counts().sort_index())\n",
    "print(missing_data(data_2014[c]))"
   ]
  },
  {
   "cell_type": "code",
   "execution_count": 442,
   "metadata": {
    "collapsed": false
   },
   "outputs": [
    {
     "name": "stdout",
     "output_type": "stream",
     "text": [
      "cant null antes: 86191\n",
      "cant null despues: 0\n"
     ]
    }
   ],
   "source": [
    "Do_resamples(data_2014, c, float)"
   ]
  },
  {
   "cell_type": "code",
   "execution_count": 443,
   "metadata": {
    "collapsed": false
   },
   "outputs": [
    {
     "name": "stdout",
     "output_type": "stream",
     "text": [
      "Float64Index([], dtype='float64')\n",
      "Series([], Name: ESTU_REPROBO_CUARTO, dtype: int64)\n",
      "Elementos null/NaN 88674\n",
      "__________________\n",
      "Elementos diferentes de null/NaN: 0\n",
      "__________________\n",
      "(0,)\n",
      "None\n"
     ]
    }
   ],
   "source": [
    "c = 'ESTU_REPROBO_CUARTO'\n",
    "print(data_2014[c].value_counts().sort_index().index)\n",
    "print(data_2014[c].value_counts().sort_index())\n",
    "print(missing_data(data_2014[c]))"
   ]
  },
  {
   "cell_type": "code",
   "execution_count": 444,
   "metadata": {
    "collapsed": true
   },
   "outputs": [],
   "source": [
    "data_2014 = data_2014.drop(c, axis=1)"
   ]
  },
  {
   "cell_type": "code",
   "execution_count": 446,
   "metadata": {
    "collapsed": false
   },
   "outputs": [
    {
     "name": "stdout",
     "output_type": "stream",
     "text": [
      "Float64Index([], dtype='float64')\n",
      "Series([], Name: ESTU_REPROBO_DECIMO, dtype: int64)\n",
      "Elementos null/NaN 88674\n",
      "__________________\n",
      "Elementos diferentes de null/NaN: 0\n",
      "__________________\n",
      "(0,)\n",
      "None\n"
     ]
    }
   ],
   "source": [
    "c = 'ESTU_REPROBO_DECIMO'\n",
    "print(data_2014[c].value_counts().sort_index().index)\n",
    "print(data_2014[c].value_counts().sort_index())\n",
    "print(missing_data(data_2014[c]))"
   ]
  },
  {
   "cell_type": "code",
   "execution_count": 447,
   "metadata": {
    "collapsed": true
   },
   "outputs": [],
   "source": [
    "data_2014 = data_2014.drop(c, axis=1)"
   ]
  },
  {
   "cell_type": "code",
   "execution_count": 449,
   "metadata": {
    "collapsed": false
   },
   "outputs": [
    {
     "name": "stdout",
     "output_type": "stream",
     "text": [
      "Float64Index([], dtype='float64')\n",
      "Series([], Name: ESTU_REPROBO_NOVENO, dtype: int64)\n",
      "Elementos null/NaN 88674\n",
      "__________________\n",
      "Elementos diferentes de null/NaN: 0\n",
      "__________________\n",
      "(0,)\n",
      "None\n"
     ]
    }
   ],
   "source": [
    "c = 'ESTU_REPROBO_NOVENO'\n",
    "print(data_2014[c].value_counts().sort_index().index)\n",
    "print(data_2014[c].value_counts().sort_index())\n",
    "print(missing_data(data_2014[c]))"
   ]
  },
  {
   "cell_type": "code",
   "execution_count": 450,
   "metadata": {
    "collapsed": true
   },
   "outputs": [],
   "source": [
    "data_2014 = data_2014.drop(c, axis=1)"
   ]
  },
  {
   "cell_type": "code",
   "execution_count": 451,
   "metadata": {
    "collapsed": false
   },
   "outputs": [
    {
     "name": "stdout",
     "output_type": "stream",
     "text": [
      "Float64Index([], dtype='float64')\n",
      "Series([], Name: ESTU_REPROBO_OCTAVO, dtype: int64)\n",
      "Elementos null/NaN 88674\n",
      "__________________\n",
      "Elementos diferentes de null/NaN: 0\n",
      "__________________\n",
      "(0,)\n",
      "None\n"
     ]
    }
   ],
   "source": [
    "c = 'ESTU_REPROBO_OCTAVO'\n",
    "print(data_2014[c].value_counts().sort_index().index)\n",
    "print(data_2014[c].value_counts().sort_index())\n",
    "print(missing_data(data_2014[c]))"
   ]
  },
  {
   "cell_type": "code",
   "execution_count": 452,
   "metadata": {
    "collapsed": true
   },
   "outputs": [],
   "source": [
    "data_2014 = data_2014.drop(c, axis=1)"
   ]
  },
  {
   "cell_type": "code",
   "execution_count": 453,
   "metadata": {
    "collapsed": false
   },
   "outputs": [
    {
     "name": "stdout",
     "output_type": "stream",
     "text": [
      "Float64Index([], dtype='float64')\n",
      "Series([], Name: ESTU_REPROBO_PRIMERO, dtype: int64)\n",
      "Elementos null/NaN 88674\n",
      "__________________\n",
      "Elementos diferentes de null/NaN: 0\n",
      "__________________\n",
      "(0,)\n",
      "None\n"
     ]
    }
   ],
   "source": [
    "c = 'ESTU_REPROBO_PRIMERO'\n",
    "print(data_2014[c].value_counts().sort_index().index)\n",
    "print(data_2014[c].value_counts().sort_index())\n",
    "print(missing_data(data_2014[c]))"
   ]
  },
  {
   "cell_type": "code",
   "execution_count": 454,
   "metadata": {
    "collapsed": true
   },
   "outputs": [],
   "source": [
    "data_2014 = data_2014.drop(c, axis=1)"
   ]
  },
  {
   "cell_type": "code",
   "execution_count": 455,
   "metadata": {
    "collapsed": false
   },
   "outputs": [
    {
     "name": "stdout",
     "output_type": "stream",
     "text": [
      "Float64Index([], dtype='float64')\n",
      "Series([], Name: ESTU_REPROBO_QUINTO, dtype: int64)\n",
      "Elementos null/NaN 88674\n",
      "__________________\n",
      "Elementos diferentes de null/NaN: 0\n",
      "__________________\n",
      "(0,)\n",
      "None\n"
     ]
    }
   ],
   "source": [
    "c = 'ESTU_REPROBO_QUINTO'\n",
    "print(data_2014[c].value_counts().sort_index().index)\n",
    "print(data_2014[c].value_counts().sort_index())\n",
    "print(missing_data(data_2014[c]))"
   ]
  },
  {
   "cell_type": "code",
   "execution_count": 456,
   "metadata": {
    "collapsed": true
   },
   "outputs": [],
   "source": [
    "data_2014 = data_2014.drop(c, axis=1)"
   ]
  },
  {
   "cell_type": "code",
   "execution_count": 457,
   "metadata": {
    "collapsed": false
   },
   "outputs": [
    {
     "name": "stdout",
     "output_type": "stream",
     "text": [
      "Float64Index([], dtype='float64')\n",
      "Series([], Name: ESTU_REPROBO_SEGUNDO, dtype: int64)\n",
      "Elementos null/NaN 88674\n",
      "__________________\n",
      "Elementos diferentes de null/NaN: 0\n",
      "__________________\n",
      "(0,)\n",
      "None\n"
     ]
    }
   ],
   "source": [
    "c = 'ESTU_REPROBO_SEGUNDO'\n",
    "print(data_2014[c].value_counts().sort_index().index)\n",
    "print(data_2014[c].value_counts().sort_index())\n",
    "print(missing_data(data_2014[c]))"
   ]
  },
  {
   "cell_type": "code",
   "execution_count": 458,
   "metadata": {
    "collapsed": true
   },
   "outputs": [],
   "source": [
    "data_2014 = data_2014.drop(c, axis=1)"
   ]
  },
  {
   "cell_type": "code",
   "execution_count": 459,
   "metadata": {
    "collapsed": false
   },
   "outputs": [
    {
     "name": "stdout",
     "output_type": "stream",
     "text": [
      "Float64Index([], dtype='float64')\n",
      "Series([], Name: ESTU_REPROBO_SEPTIMO, dtype: int64)\n",
      "Elementos null/NaN 88674\n",
      "__________________\n",
      "Elementos diferentes de null/NaN: 0\n",
      "__________________\n",
      "(0,)\n",
      "None\n"
     ]
    }
   ],
   "source": [
    "c = 'ESTU_REPROBO_SEPTIMO'\n",
    "print(data_2014[c].value_counts().sort_index().index)\n",
    "print(data_2014[c].value_counts().sort_index())\n",
    "print(missing_data(data_2014[c]))"
   ]
  },
  {
   "cell_type": "code",
   "execution_count": 460,
   "metadata": {
    "collapsed": true
   },
   "outputs": [],
   "source": [
    "data_2014 = data_2014.drop(c, axis=1)"
   ]
  },
  {
   "cell_type": "code",
   "execution_count": 461,
   "metadata": {
    "collapsed": false
   },
   "outputs": [
    {
     "name": "stdout",
     "output_type": "stream",
     "text": [
      "Float64Index([], dtype='float64')\n",
      "Series([], Name: ESTU_REPROBO_SEXTO, dtype: int64)\n",
      "Elementos null/NaN 88674\n",
      "__________________\n",
      "Elementos diferentes de null/NaN: 0\n",
      "__________________\n",
      "(0,)\n",
      "None\n"
     ]
    }
   ],
   "source": [
    "c = 'ESTU_REPROBO_SEXTO'\n",
    "print(data_2014[c].value_counts().sort_index().index)\n",
    "print(data_2014[c].value_counts().sort_index())\n",
    "print(missing_data(data_2014[c]))"
   ]
  },
  {
   "cell_type": "code",
   "execution_count": 462,
   "metadata": {
    "collapsed": true
   },
   "outputs": [],
   "source": [
    "data_2014 = data_2014.drop(c, axis=1)"
   ]
  },
  {
   "cell_type": "code",
   "execution_count": 463,
   "metadata": {
    "collapsed": false
   },
   "outputs": [
    {
     "name": "stdout",
     "output_type": "stream",
     "text": [
      "Float64Index([], dtype='float64')\n",
      "Series([], Name: ESTU_REPROBO_TERCERO, dtype: int64)\n",
      "Elementos null/NaN 88674\n",
      "__________________\n",
      "Elementos diferentes de null/NaN: 0\n",
      "__________________\n",
      "(0,)\n",
      "None\n"
     ]
    }
   ],
   "source": [
    "c = 'ESTU_REPROBO_TERCERO'\n",
    "print(data_2014[c].value_counts().sort_index().index)\n",
    "print(data_2014[c].value_counts().sort_index())\n",
    "print(missing_data(data_2014[c]))"
   ]
  },
  {
   "cell_type": "code",
   "execution_count": 464,
   "metadata": {
    "collapsed": true
   },
   "outputs": [],
   "source": [
    "data_2014 = data_2014.drop(c, axis=1)"
   ]
  },
  {
   "cell_type": "code",
   "execution_count": 465,
   "metadata": {
    "collapsed": false
   },
   "outputs": [
    {
     "name": "stdout",
     "output_type": "stream",
     "text": [
      "Float64Index([], dtype='float64')\n",
      "Series([], Name: ESTU_REPROBO_ONCE_MAS, dtype: int64)\n",
      "Elementos null/NaN 88674\n",
      "__________________\n",
      "Elementos diferentes de null/NaN: 0\n",
      "__________________\n",
      "(0,)\n",
      "None\n"
     ]
    }
   ],
   "source": [
    "c = 'ESTU_REPROBO_ONCE_MAS'\n",
    "print(data_2014[c].value_counts().sort_index().index)\n",
    "print(data_2014[c].value_counts().sort_index())\n",
    "print(missing_data(data_2014[c]))"
   ]
  },
  {
   "cell_type": "code",
   "execution_count": 466,
   "metadata": {
    "collapsed": true
   },
   "outputs": [],
   "source": [
    "data_2014 = data_2014.drop(c, axis=1)"
   ]
  },
  {
   "cell_type": "code",
   "execution_count": 467,
   "metadata": {
    "collapsed": false
   },
   "outputs": [
    {
     "name": "stdout",
     "output_type": "stream",
     "text": [
      "Index(['-'], dtype='object')\n",
      "-    87462\n",
      "Name: ESTU_POR_MEJORARPOSICIONSOCIAL, dtype: int64\n",
      "Elementos null/NaN 1212\n",
      "__________________\n",
      "Elementos diferentes de null/NaN: 87462\n",
      "__________________\n",
      "(87462,)\n",
      "None\n"
     ]
    }
   ],
   "source": [
    "c = 'ESTU_POR_MEJORARPOSICIONSOCIAL'\n",
    "print(data_2014[c].value_counts().sort_index().index)\n",
    "print(data_2014[c].value_counts().sort_index())\n",
    "print(missing_data(data_2014[c]))"
   ]
  },
  {
   "cell_type": "code",
   "execution_count": 468,
   "metadata": {
    "collapsed": true
   },
   "outputs": [],
   "source": [
    "data_2014 = data_2014.drop(c, axis=1)"
   ]
  },
  {
   "cell_type": "code",
   "execution_count": 469,
   "metadata": {
    "collapsed": false
   },
   "outputs": [
    {
     "name": "stdout",
     "output_type": "stream",
     "text": [
      "Index(['-'], dtype='object')\n",
      "-    87462\n",
      "Name: ESTU_POR_COLOMBIAAPRENDE, dtype: int64\n",
      "Elementos null/NaN 1212\n",
      "__________________\n",
      "Elementos diferentes de null/NaN: 87462\n",
      "__________________\n",
      "(87462,)\n",
      "None\n"
     ]
    }
   ],
   "source": [
    "c = 'ESTU_POR_COLOMBIAAPRENDE'\n",
    "print(data_2014[c].value_counts().sort_index().index)\n",
    "print(data_2014[c].value_counts().sort_index())\n",
    "print(missing_data(data_2014[c]))"
   ]
  },
  {
   "cell_type": "code",
   "execution_count": 470,
   "metadata": {
    "collapsed": true
   },
   "outputs": [],
   "source": [
    "data_2014 = data_2014.drop(c, axis=1)"
   ]
  },
  {
   "cell_type": "code",
   "execution_count": 472,
   "metadata": {
    "collapsed": false
   },
   "outputs": [
    {
     "name": "stdout",
     "output_type": "stream",
     "text": [
      "Float64Index([], dtype='float64')\n",
      "Series([], Name: ESTU_POR_INFLUENCIAALGUIEN, dtype: int64)\n",
      "Elementos null/NaN 88674\n",
      "__________________\n",
      "Elementos diferentes de null/NaN: 0\n",
      "__________________\n",
      "(0,)\n",
      "None\n"
     ]
    }
   ],
   "source": [
    "c = 'ESTU_POR_INFLUENCIAALGUIEN'\n",
    "print(data_2014[c].value_counts().sort_index().index)\n",
    "print(data_2014[c].value_counts().sort_index())\n",
    "print(missing_data(data_2014[c]))"
   ]
  },
  {
   "cell_type": "code",
   "execution_count": 473,
   "metadata": {
    "collapsed": true
   },
   "outputs": [],
   "source": [
    "data_2014 = data_2014.drop(c, axis=1)"
   ]
  },
  {
   "cell_type": "code",
   "execution_count": 475,
   "metadata": {
    "collapsed": false
   },
   "outputs": [
    {
     "name": "stdout",
     "output_type": "stream",
     "text": [
      "Index(['-'], dtype='object')\n",
      "-    87462\n",
      "Name: ESTU_POR_INTERESPERSONAL, dtype: int64\n",
      "Elementos null/NaN 1212\n",
      "__________________\n",
      "Elementos diferentes de null/NaN: 87462\n",
      "__________________\n",
      "(87462,)\n",
      "None\n"
     ]
    }
   ],
   "source": [
    "c = 'ESTU_POR_INTERESPERSONAL'\n",
    "print(data_2014[c].value_counts().sort_index().index)\n",
    "print(data_2014[c].value_counts().sort_index())\n",
    "print(missing_data(data_2014[c]))"
   ]
  },
  {
   "cell_type": "code",
   "execution_count": 476,
   "metadata": {
    "collapsed": true
   },
   "outputs": [],
   "source": [
    "data_2014 = data_2014.drop(c, axis=1)"
   ]
  },
  {
   "cell_type": "code",
   "execution_count": 477,
   "metadata": {
    "collapsed": false
   },
   "outputs": [
    {
     "name": "stdout",
     "output_type": "stream",
     "text": [
      "Index(['-'], dtype='object')\n",
      "-    87462\n",
      "Name: ESTU_POR_BUSCANDOCARRERA, dtype: int64\n",
      "Elementos null/NaN 1212\n",
      "__________________\n",
      "Elementos diferentes de null/NaN: 87462\n",
      "__________________\n",
      "(87462,)\n",
      "None\n"
     ]
    }
   ],
   "source": [
    "c = 'ESTU_POR_BUSCANDOCARRERA'\n",
    "print(data_2014[c].value_counts().sort_index().index)\n",
    "print(data_2014[c].value_counts().sort_index())\n",
    "print(missing_data(data_2014[c]))"
   ]
  },
  {
   "cell_type": "code",
   "execution_count": 478,
   "metadata": {
    "collapsed": true
   },
   "outputs": [],
   "source": [
    "data_2014 = data_2014.drop(c, axis=1)"
   ]
  },
  {
   "cell_type": "code",
   "execution_count": 479,
   "metadata": {
    "collapsed": false
   },
   "outputs": [
    {
     "name": "stdout",
     "output_type": "stream",
     "text": [
      "Float64Index([], dtype='float64')\n",
      "Series([], Name: ESTU_POR_TRADICIONFAMILIAR, dtype: int64)\n",
      "Elementos null/NaN 88674\n",
      "__________________\n",
      "Elementos diferentes de null/NaN: 0\n",
      "__________________\n",
      "(0,)\n",
      "None\n"
     ]
    }
   ],
   "source": [
    "c = 'ESTU_POR_TRADICIONFAMILIAR'\n",
    "print(data_2014[c].value_counts().sort_index().index)\n",
    "print(data_2014[c].value_counts().sort_index())\n",
    "print(missing_data(data_2014[c]))"
   ]
  },
  {
   "cell_type": "code",
   "execution_count": 480,
   "metadata": {
    "collapsed": true
   },
   "outputs": [],
   "source": [
    "data_2014 = data_2014.drop(c, axis=1)"
   ]
  },
  {
   "cell_type": "code",
   "execution_count": 481,
   "metadata": {
    "collapsed": false
   },
   "outputs": [
    {
     "name": "stdout",
     "output_type": "stream",
     "text": [
      "Float64Index([], dtype='float64')\n",
      "Series([], Name: ESTU_POR_ORIENTACIONVOCACIONAL, dtype: int64)\n",
      "Elementos null/NaN 88674\n",
      "__________________\n",
      "Elementos diferentes de null/NaN: 0\n",
      "__________________\n",
      "(0,)\n",
      "None\n"
     ]
    }
   ],
   "source": [
    "c = 'ESTU_POR_ORIENTACIONVOCACIONAL'\n",
    "print(data_2014[c].value_counts().sort_index().index)\n",
    "print(data_2014[c].value_counts().sort_index())\n",
    "print(missing_data(data_2014[c]))"
   ]
  },
  {
   "cell_type": "code",
   "execution_count": 482,
   "metadata": {
    "collapsed": true
   },
   "outputs": [],
   "source": [
    "data_2014 = data_2014.drop(c, axis=1)"
   ]
  },
  {
   "cell_type": "code",
   "execution_count": 483,
   "metadata": {
    "collapsed": false
   },
   "outputs": [
    {
     "name": "stdout",
     "output_type": "stream",
     "text": [
      "Float64Index([], dtype='float64')\n",
      "Series([], Name: ESTU_RAZON_RETIRO, dtype: int64)\n",
      "Elementos null/NaN 88674\n",
      "__________________\n",
      "Elementos diferentes de null/NaN: 0\n",
      "__________________\n",
      "(0,)\n",
      "None\n"
     ]
    }
   ],
   "source": [
    "c = 'ESTU_RAZON_RETIRO'\n",
    "print(data_2014[c].value_counts().sort_index().index)\n",
    "print(data_2014[c].value_counts().sort_index())\n",
    "print(missing_data(data_2014[c]))"
   ]
  },
  {
   "cell_type": "code",
   "execution_count": 484,
   "metadata": {
    "collapsed": true
   },
   "outputs": [],
   "source": [
    "data_2014 = data_2014.drop(c, axis=1)"
   ]
  },
  {
   "cell_type": "code",
   "execution_count": 485,
   "metadata": {
    "collapsed": false
   },
   "outputs": [
    {
     "name": "stdout",
     "output_type": "stream",
     "text": [
      "Float64Index([], dtype='float64')\n",
      "Series([], Name: ESTU_POR_AMIGOSESTUDIANDO, dtype: int64)\n",
      "Elementos null/NaN 88674\n",
      "__________________\n",
      "Elementos diferentes de null/NaN: 0\n",
      "__________________\n",
      "(0,)\n",
      "None\n"
     ]
    }
   ],
   "source": [
    "c = 'ESTU_POR_AMIGOSESTUDIANDO'\n",
    "print(data_2014[c].value_counts().sort_index().index)\n",
    "print(data_2014[c].value_counts().sort_index())\n",
    "print(missing_data(data_2014[c]))"
   ]
  },
  {
   "cell_type": "code",
   "execution_count": 486,
   "metadata": {
    "collapsed": true
   },
   "outputs": [],
   "source": [
    "data_2014 = data_2014.drop(c, axis=1)"
   ]
  },
  {
   "cell_type": "code",
   "execution_count": 487,
   "metadata": {
    "collapsed": false
   },
   "outputs": [
    {
     "name": "stdout",
     "output_type": "stream",
     "text": [
      "Index(['-'], dtype='object')\n",
      "-    87462\n",
      "Name: ESTU_POR_COSTOMATRICULA, dtype: int64\n",
      "Elementos null/NaN 1212\n",
      "__________________\n",
      "Elementos diferentes de null/NaN: 87462\n",
      "__________________\n",
      "(87462,)\n",
      "None\n"
     ]
    }
   ],
   "source": [
    "c = 'ESTU_POR_COSTOMATRICULA'\n",
    "print(data_2014[c].value_counts().sort_index().index)\n",
    "print(data_2014[c].value_counts().sort_index())\n",
    "print(missing_data(data_2014[c]))"
   ]
  },
  {
   "cell_type": "code",
   "execution_count": 488,
   "metadata": {
    "collapsed": true
   },
   "outputs": [],
   "source": [
    "data_2014 = data_2014.drop(c, axis=1)"
   ]
  },
  {
   "cell_type": "code",
   "execution_count": 489,
   "metadata": {
    "collapsed": false
   },
   "outputs": [
    {
     "name": "stdout",
     "output_type": "stream",
     "text": [
      "Index(['-'], dtype='object')\n",
      "-    87462\n",
      "Name: ESTU_POR_OPORTUNIDADES, dtype: int64\n",
      "Elementos null/NaN 1212\n",
      "__________________\n",
      "Elementos diferentes de null/NaN: 87462\n",
      "__________________\n",
      "(87462,)\n",
      "None\n"
     ]
    }
   ],
   "source": [
    "c = 'ESTU_POR_OPORTUNIDADES'\n",
    "print(data_2014[c].value_counts().sort_index().index)\n",
    "print(data_2014[c].value_counts().sort_index())\n",
    "print(missing_data(data_2014[c]))"
   ]
  },
  {
   "cell_type": "code",
   "execution_count": 490,
   "metadata": {
    "collapsed": true
   },
   "outputs": [],
   "source": [
    "data_2014 = data_2014.drop(c, axis=1)"
   ]
  },
  {
   "cell_type": "code",
   "execution_count": 492,
   "metadata": {
    "collapsed": false
   },
   "outputs": [
    {
     "name": "stdout",
     "output_type": "stream",
     "text": [
      "Float64Index([], dtype='float64')\n",
      "Series([], Name: ESTU_POR_OTRARAZON, dtype: int64)\n",
      "Elementos null/NaN 88674\n",
      "__________________\n",
      "Elementos diferentes de null/NaN: 0\n",
      "__________________\n",
      "(0,)\n",
      "None\n"
     ]
    }
   ],
   "source": [
    "c = 'ESTU_POR_OTRARAZON'\n",
    "print(data_2014[c].value_counts().sort_index().index)\n",
    "print(data_2014[c].value_counts().sort_index())\n",
    "print(missing_data(data_2014[c]))"
   ]
  },
  {
   "cell_type": "code",
   "execution_count": 493,
   "metadata": {
    "collapsed": true
   },
   "outputs": [],
   "source": [
    "data_2014 = data_2014.drop(c, axis=1)"
   ]
  },
  {
   "cell_type": "code",
   "execution_count": 494,
   "metadata": {
    "collapsed": false
   },
   "outputs": [
    {
     "name": "stdout",
     "output_type": "stream",
     "text": [
      "Float64Index([], dtype='float64')\n",
      "Series([], Name: ESTU_PRESTIGIOINSTITUCION, dtype: int64)\n",
      "Elementos null/NaN 88674\n",
      "__________________\n",
      "Elementos diferentes de null/NaN: 0\n",
      "__________________\n",
      "(0,)\n",
      "None\n"
     ]
    }
   ],
   "source": [
    "c = 'ESTU_PRESTIGIOINSTITUCION'\n",
    "print(data_2014[c].value_counts().sort_index().index)\n",
    "print(data_2014[c].value_counts().sort_index())\n",
    "print(missing_data(data_2014[c]))"
   ]
  },
  {
   "cell_type": "code",
   "execution_count": 495,
   "metadata": {
    "collapsed": true
   },
   "outputs": [],
   "source": [
    "data_2014 = data_2014.drop(c, axis=1)"
   ]
  },
  {
   "cell_type": "code",
   "execution_count": 496,
   "metadata": {
    "collapsed": false
   },
   "outputs": [
    {
     "name": "stdout",
     "output_type": "stream",
     "text": [
      "Float64Index([], dtype='float64')\n",
      "Series([], Name: ESTU_POR_UBICACION, dtype: int64)\n",
      "Elementos null/NaN 88674\n",
      "__________________\n",
      "Elementos diferentes de null/NaN: 0\n",
      "__________________\n",
      "(0,)\n",
      "None\n"
     ]
    }
   ],
   "source": [
    "c = 'ESTU_POR_UBICACION'\n",
    "print(data_2014[c].value_counts().sort_index().index)\n",
    "print(data_2014[c].value_counts().sort_index())\n",
    "print(missing_data(data_2014[c]))"
   ]
  },
  {
   "cell_type": "code",
   "execution_count": 497,
   "metadata": {
    "collapsed": true
   },
   "outputs": [],
   "source": [
    "data_2014 = data_2014.drop(c, axis=1)"
   ]
  },
  {
   "cell_type": "code",
   "execution_count": 498,
   "metadata": {
    "collapsed": false
   },
   "outputs": [
    {
     "name": "stdout",
     "output_type": "stream",
     "text": [
      "Float64Index([], dtype='float64')\n",
      "Series([], Name: ESTU_POR_UNICAQUEOFRECE, dtype: int64)\n",
      "Elementos null/NaN 88674\n",
      "__________________\n",
      "Elementos diferentes de null/NaN: 0\n",
      "__________________\n",
      "(0,)\n",
      "None\n"
     ]
    }
   ],
   "source": [
    "c = 'ESTU_POR_UNICAQUEOFRECE'\n",
    "print(data_2014[c].value_counts().sort_index().index)\n",
    "print(data_2014[c].value_counts().sort_index())\n",
    "print(missing_data(data_2014[c]))"
   ]
  },
  {
   "cell_type": "code",
   "execution_count": 499,
   "metadata": {
    "collapsed": true
   },
   "outputs": [],
   "source": [
    "data_2014 = data_2014.drop(c, axis=1)"
   ]
  },
  {
   "cell_type": "code",
   "execution_count": 501,
   "metadata": {
    "collapsed": false
   },
   "outputs": [
    {
     "name": "stdout",
     "output_type": "stream",
     "text": [
      "Index(['-'], dtype='object')\n",
      "-    87462\n",
      "Name: ESTU_RETIRARSE_COLEGIO, dtype: int64\n",
      "Elementos null/NaN 1212\n",
      "__________________\n",
      "Elementos diferentes de null/NaN: 87462\n",
      "__________________\n",
      "(87462,)\n",
      "None\n"
     ]
    }
   ],
   "source": [
    "c = 'ESTU_RETIRARSE_COLEGIO'\n",
    "print(data_2014[c].value_counts().sort_index().index)\n",
    "print(data_2014[c].value_counts().sort_index())\n",
    "print(missing_data(data_2014[c]))"
   ]
  },
  {
   "cell_type": "code",
   "execution_count": 502,
   "metadata": {
    "collapsed": true
   },
   "outputs": [],
   "source": [
    "data_2014 = data_2014.drop(c, axis=1)"
   ]
  },
  {
   "cell_type": "code",
   "execution_count": 504,
   "metadata": {
    "collapsed": false
   },
   "outputs": [
    {
     "name": "stdout",
     "output_type": "stream",
     "text": [
      "Float64Index([0.0, 1.0, 2.0, 3.0, 4.0], dtype='float64')\n",
      "0       14\n",
      "1    29689\n",
      "2    23289\n",
      "3     6586\n",
      "4     3458\n",
      "Name: ESTU_VECES_ESTADO, dtype: int64\n",
      "Elementos null/NaN 25638\n",
      "__________________\n",
      "Elementos diferentes de null/NaN: 63036\n",
      "__________________\n",
      "(63036,)\n",
      "None\n"
     ]
    }
   ],
   "source": [
    "c = 'ESTU_VECES_ESTADO'\n",
    "print(data_2014[c].value_counts().sort_index().index)\n",
    "print(data_2014[c].value_counts().sort_index())\n",
    "print(missing_data(data_2014[c]))"
   ]
  },
  {
   "cell_type": "code",
   "execution_count": 505,
   "metadata": {
    "collapsed": false
   },
   "outputs": [
    {
     "name": "stdout",
     "output_type": "stream",
     "text": [
      "cant null antes: 25638\n",
      "cant null despues: 0\n"
     ]
    }
   ],
   "source": [
    "Do_resamples(data_2014, c, float)"
   ]
  },
  {
   "cell_type": "code",
   "execution_count": 506,
   "metadata": {
    "collapsed": false,
    "scrolled": true
   },
   "outputs": [
    {
     "name": "stdout",
     "output_type": "stream",
     "text": [
      "Index(['AGUACHICA', 'ALBANIA', 'APARTADO', 'ARAUCA', 'ARMENIA', 'BARBOSA',\n",
      "       'BARRANCABERMEJA', 'BARRANQUILLA', 'BOGOTÁ D.C.', 'BUCARAMANGA',\n",
      "       'BUENAVENTURA', 'BUGA', 'CALI', 'CARTAGENA', 'CARTAGO', 'CAUCASIA',\n",
      "       'CHAPARRAL', 'CHOCONTA', 'CUCUTA', 'EL DONCELLO', 'FACATATIVA',\n",
      "       'FLORENCIA', 'FUSAGASUGA', 'GIRARDOT', 'GRANADA', 'IBAGUE', 'INIRIDA',\n",
      "       'IPIALES', 'ITSMINA', 'JURADO', 'LA DORADA', 'LA PLATA', 'LETICIA',\n",
      "       'MAGANGUE', 'MAICAO', 'MALAGA', 'MANIZALES', 'MEDELLIN', 'MITU',\n",
      "       'MOCOA', 'MONTELIBANO', 'MONTERIA', 'NEIVA', 'OCAÑA', 'ORITO',\n",
      "       'PALMIRA', 'PAMPLONA', 'PASTO', 'PATIA(EL BORDO)', 'PAZ DE ARIPORO',\n",
      "       'PEREIRA', 'PIEDECUESTA', 'POPAYAN', 'PUERTO ASIS', 'PUERTO CARREÑO',\n",
      "       'QUIBDO', 'RIOHACHA', 'RIONEGRO', 'ROLDANILLO', 'SAN ANDRES', 'SAN GIL',\n",
      "       'SAN JOSE DEL GUAVIARE', 'SANTA MARTA', 'SANTANDER DE QUILICHAO',\n",
      "       'SEVILLA', 'SIBUNDOY', 'SINCELEJO', 'SOGAMOSO', 'SONSON', 'TAME',\n",
      "       'TULUA', 'TUMACO', 'TUNJA', 'TUQUERRES', 'VALLEDUPAR', 'VILLA DE LEYVA',\n",
      "       'VILLAVICENCIO', 'YOPAL', 'ZIPAQUIRA'],\n",
      "      dtype='object')\n",
      "AGUACHICA                   287\n",
      "ALBANIA                     134\n",
      "APARTADO                    575\n",
      "ARAUCA                      113\n",
      "ARMENIA                    1009\n",
      "BARBOSA                     226\n",
      "BARRANCABERMEJA             568\n",
      "BARRANQUILLA               2519\n",
      "BOGOTÁ D.C.               17318\n",
      "BUCARAMANGA                5213\n",
      "BUENAVENTURA                471\n",
      "BUGA                        770\n",
      "CALI                      12224\n",
      "CARTAGENA                  1602\n",
      "CARTAGO                     331\n",
      "CAUCASIA                     71\n",
      "CHAPARRAL                   138\n",
      "CHOCONTA                     37\n",
      "CUCUTA                     1116\n",
      "EL DONCELLO                  52\n",
      "FACATATIVA                  652\n",
      "FLORENCIA                   533\n",
      "FUSAGASUGA                  248\n",
      "GIRARDOT                    324\n",
      "GRANADA                     138\n",
      "IBAGUE                     2300\n",
      "INIRIDA                      35\n",
      "IPIALES                     815\n",
      "ITSMINA                      47\n",
      "JURADO                       34\n",
      "                          ...  \n",
      "PAZ DE ARIPORO               27\n",
      "PEREIRA                    1373\n",
      "PIEDECUESTA                  13\n",
      "POPAYAN                    2033\n",
      "PUERTO ASIS                 164\n",
      "PUERTO CARREÑO               20\n",
      "QUIBDO                      463\n",
      "RIOHACHA                    342\n",
      "RIONEGRO                    393\n",
      "ROLDANILLO                  163\n",
      "SAN ANDRES                   66\n",
      "SAN GIL                     281\n",
      "SAN JOSE DEL GUAVIARE        73\n",
      "SANTA MARTA                 690\n",
      "SANTANDER DE QUILICHAO      687\n",
      "SEVILLA                      50\n",
      "SIBUNDOY                    135\n",
      "SINCELEJO                   696\n",
      "SOGAMOSO                   1734\n",
      "SONSON                        2\n",
      "TAME                        113\n",
      "TULUA                       568\n",
      "TUMACO                      246\n",
      "TUNJA                      1941\n",
      "TUQUERRES                   231\n",
      "VALLEDUPAR                 1344\n",
      "VILLA DE LEYVA              123\n",
      "VILLAVICENCIO              1523\n",
      "YOPAL                       467\n",
      "ZIPAQUIRA                   981\n",
      "Name: ESTU_MCPIO_PRESENTACION, dtype: int64\n",
      "Elementos null/NaN 1212\n",
      "__________________\n",
      "Elementos diferentes de null/NaN: 87462\n",
      "__________________\n",
      "(87462,)\n",
      "None\n"
     ]
    }
   ],
   "source": [
    "c = 'ESTU_MCPIO_PRESENTACION'\n",
    "print(data_2014[c].value_counts().sort_index().index)\n",
    "print(data_2014[c].value_counts().sort_index())\n",
    "print(missing_data(data_2014[c]))"
   ]
  },
  {
   "cell_type": "code",
   "execution_count": 507,
   "metadata": {
    "collapsed": false,
    "scrolled": true
   },
   "outputs": [
    {
     "name": "stdout",
     "output_type": "stream",
     "text": [
      "Index(['AMAZONAS', 'ANTIOQUIA', 'ARAUCA', 'ATLÁNTICO', 'BOGOTÁ', 'BOLÍVAR',\n",
      "       'BOYACÁ', 'CALDAS', 'CAQUETÁ', 'CASANARE', 'CAUCA', 'CESAR', 'CHOCÓ',\n",
      "       'CUNDINAMARCA', 'CÓRDOBA', 'GUAINÍA', 'GUAVIARE', 'HUILA', 'LA GUAJIRA',\n",
      "       'MAGDALENA', 'META', 'NARIÑO', 'NORTE SANTANDER', 'PUTUMAYO', 'QUINDÍO',\n",
      "       'RISARALDA', 'SAN ANDRÉS', 'SANTANDER', 'SUCRE', 'TOLIMA', 'VALLE',\n",
      "       'VAUPÉS', 'VICHADA'],\n",
      "      dtype='object')\n",
      "AMAZONAS              25\n",
      "ANTIOQUIA           6337\n",
      "ARAUCA               226\n",
      "ATLÁNTICO           2519\n",
      "BOGOTÁ             17318\n",
      "BOLÍVAR             1760\n",
      "BOYACÁ              3798\n",
      "CALDAS              2296\n",
      "CAQUETÁ              585\n",
      "CASANARE             494\n",
      "CAUCA               2810\n",
      "CESAR               1631\n",
      "CHOCÓ                544\n",
      "CUNDINAMARCA        2242\n",
      "CÓRDOBA             1000\n",
      "GUAINÍA               35\n",
      "GUAVIARE              73\n",
      "HUILA               3630\n",
      "LA GUAJIRA           659\n",
      "MAGDALENA            690\n",
      "META                1661\n",
      "NARIÑO              6397\n",
      "NORTE SANTANDER     1436\n",
      "PUTUMAYO             627\n",
      "QUINDÍO             1009\n",
      "RISARALDA           1373\n",
      "SAN ANDRÉS            66\n",
      "SANTANDER           6406\n",
      "SUCRE                696\n",
      "TOLIMA              2438\n",
      "VALLE              16652\n",
      "VAUPÉS                 9\n",
      "VICHADA               20\n",
      "Name: ESTU_DEPTO_PRESENTACION, dtype: int64\n",
      "Elementos null/NaN 1212\n",
      "__________________\n",
      "Elementos diferentes de null/NaN: 87462\n",
      "__________________\n",
      "(87462,)\n",
      "None\n"
     ]
    }
   ],
   "source": [
    "c = 'ESTU_DEPTO_PRESENTACION'\n",
    "print(data_2014[c].value_counts().sort_index().index)\n",
    "print(data_2014[c].value_counts().sort_index())\n",
    "print(missing_data(data_2014[c]))"
   ]
  },
  {
   "cell_type": "code",
   "execution_count": 508,
   "metadata": {
    "collapsed": false,
    "scrolled": true
   },
   "outputs": [
    {
     "name": "stdout",
     "output_type": "stream",
     "text": [
      "Float64Index([ 0.0,  1.0,  2.0,  3.0,  4.0,  5.0,  6.0,  7.0,  8.0,  9.0, 10.0,\n",
      "              11.0, 12.0, 13.0, 14.0, 15.0, 16.0, 17.0, 99.0],\n",
      "             dtype='float64')\n",
      "0       287\n",
      "1      4257\n",
      "2     13203\n",
      "3     10991\n",
      "4      9519\n",
      "5     18444\n",
      "6      1569\n",
      "7      5411\n",
      "8      1509\n",
      "9     11608\n",
      "10     5205\n",
      "11     3162\n",
      "12      760\n",
      "13       62\n",
      "14      191\n",
      "15       57\n",
      "16      187\n",
      "17       49\n",
      "99        1\n",
      "Name: FAMI_EDUCA_PADRE, dtype: int64\n",
      "Elementos null/NaN 2202\n",
      "__________________\n",
      "Elementos diferentes de null/NaN: 86472\n",
      "__________________\n",
      "(86472,)\n",
      "None\n"
     ]
    }
   ],
   "source": [
    "c = 'FAMI_EDUCA_PADRE'\n",
    "print(data_2014[c].value_counts().sort_index().index)\n",
    "print(data_2014[c].value_counts().sort_index())\n",
    "print(missing_data(data_2014[c]))"
   ]
  },
  {
   "cell_type": "code",
   "execution_count": 509,
   "metadata": {
    "collapsed": false
   },
   "outputs": [
    {
     "name": "stdout",
     "output_type": "stream",
     "text": [
      "cant null antes: 2202\n",
      "cant null despues: 0\n"
     ]
    }
   ],
   "source": [
    "Do_resamples(data_2014, c, float)"
   ]
  },
  {
   "cell_type": "code",
   "execution_count": 510,
   "metadata": {
    "collapsed": false,
    "scrolled": true
   },
   "outputs": [
    {
     "name": "stdout",
     "output_type": "stream",
     "text": [
      "Float64Index([ 0.0,  1.0,  2.0,  3.0,  4.0,  5.0,  6.0,  7.0,  8.0,  9.0, 10.0,\n",
      "              11.0, 12.0, 13.0, 14.0, 15.0, 16.0, 17.0, 99.0],\n",
      "             dtype='float64')\n",
      "0       152\n",
      "1      2372\n",
      "2     11776\n",
      "3     10593\n",
      "4     10991\n",
      "5     20425\n",
      "6      1781\n",
      "7      7087\n",
      "8      1716\n",
      "9     11806\n",
      "10     4751\n",
      "11     1571\n",
      "12      870\n",
      "13       71\n",
      "14      226\n",
      "15       41\n",
      "16      187\n",
      "17       47\n",
      "99        9\n",
      "Name: FAMI_EDUCA_MADRE, dtype: int64\n",
      "Elementos null/NaN 2202\n",
      "__________________\n",
      "Elementos diferentes de null/NaN: 86472\n",
      "__________________\n",
      "(86472,)\n",
      "None\n"
     ]
    }
   ],
   "source": [
    "c = 'FAMI_EDUCA_MADRE'\n",
    "print(data_2014[c].value_counts().sort_index().index)\n",
    "print(data_2014[c].value_counts().sort_index())\n",
    "print(missing_data(data_2014[c]))"
   ]
  },
  {
   "cell_type": "code",
   "execution_count": 511,
   "metadata": {
    "collapsed": false
   },
   "outputs": [
    {
     "name": "stdout",
     "output_type": "stream",
     "text": [
      "cant null antes: 2202\n",
      "cant null despues: 0\n"
     ]
    }
   ],
   "source": [
    "Do_resamples(data_2014, c, float)"
   ]
  },
  {
   "cell_type": "code",
   "execution_count": 512,
   "metadata": {
    "collapsed": false,
    "scrolled": true
   },
   "outputs": [
    {
     "name": "stdout",
     "output_type": "stream",
     "text": [
      "Float64Index([ 1.0,  2.0,  3.0,  4.0,  5.0,  6.0,  7.0,  8.0,  9.0, 10.0, 11.0,\n",
      "              12.0, 13.0, 14.0, 15.0, 16.0, 17.0, 18.0, 19.0, 20.0, 21.0, 22.0,\n",
      "              23.0, 26.0],\n",
      "             dtype='float64')\n",
      "1      3032\n",
      "2      2270\n",
      "3      2544\n",
      "4      1222\n",
      "5      7248\n",
      "6      1599\n",
      "7     14395\n",
      "8      3857\n",
      "9     27725\n",
      "10     1491\n",
      "11     4679\n",
      "12    12808\n",
      "13       69\n",
      "14      290\n",
      "15       45\n",
      "16       62\n",
      "17      161\n",
      "18      148\n",
      "19      586\n",
      "20      154\n",
      "21     1121\n",
      "22      104\n",
      "23      229\n",
      "26      633\n",
      "Name: FAMI_OCUPA_PADRE, dtype: int64\n",
      "Elementos null/NaN 2202\n",
      "__________________\n",
      "Elementos diferentes de null/NaN: 86472\n",
      "__________________\n",
      "(86472,)\n",
      "None\n"
     ]
    }
   ],
   "source": [
    "c = 'FAMI_OCUPA_PADRE'\n",
    "print(data_2014[c].value_counts().sort_index().index)\n",
    "print(data_2014[c].value_counts().sort_index())\n",
    "print(missing_data(data_2014[c]))"
   ]
  },
  {
   "cell_type": "code",
   "execution_count": 513,
   "metadata": {
    "collapsed": false
   },
   "outputs": [
    {
     "name": "stdout",
     "output_type": "stream",
     "text": [
      "cant null antes: 2202\n",
      "cant null despues: 0\n"
     ]
    }
   ],
   "source": [
    "Do_resamples(data_2014, c, float)"
   ]
  },
  {
   "cell_type": "code",
   "execution_count": 514,
   "metadata": {
    "collapsed": false,
    "scrolled": true
   },
   "outputs": [
    {
     "name": "stdout",
     "output_type": "stream",
     "text": [
      "Float64Index([ 1.0,  2.0,  3.0,  4.0,  5.0,  6.0,  7.0,  8.0,  9.0, 10.0, 11.0,\n",
      "              12.0, 13.0, 14.0, 15.0, 16.0, 17.0, 18.0, 19.0, 20.0, 21.0, 22.0,\n",
      "              23.0, 26.0],\n",
      "             dtype='float64')\n",
      "1      1286\n",
      "2      2195\n",
      "3      1410\n",
      "4      1558\n",
      "5      6567\n",
      "6      4303\n",
      "7      4646\n",
      "8      3526\n",
      "9     10070\n",
      "10    38905\n",
      "11     1702\n",
      "12     6702\n",
      "13       33\n",
      "14      115\n",
      "15       42\n",
      "16       86\n",
      "17      142\n",
      "18      115\n",
      "19      290\n",
      "20       90\n",
      "21      457\n",
      "22     1786\n",
      "23      100\n",
      "26      346\n",
      "Name: FAMI_OCUPA_MADRE, dtype: int64\n",
      "Elementos null/NaN 2202\n",
      "__________________\n",
      "Elementos diferentes de null/NaN: 86472\n",
      "__________________\n",
      "(86472,)\n",
      "None\n"
     ]
    }
   ],
   "source": [
    "c = 'FAMI_OCUPA_MADRE'\n",
    "print(data_2014[c].value_counts().sort_index().index)\n",
    "print(data_2014[c].value_counts().sort_index())\n",
    "print(missing_data(data_2014[c]))"
   ]
  },
  {
   "cell_type": "code",
   "execution_count": 515,
   "metadata": {
    "collapsed": true
   },
   "outputs": [],
   "source": [
    "idx = data_2014[data_2014[c].isnull()].index\n",
    "data_2014 = data_2014.drop(idx)"
   ]
  },
  {
   "cell_type": "code",
   "execution_count": 517,
   "metadata": {
    "collapsed": false
   },
   "outputs": [
    {
     "name": "stdout",
     "output_type": "stream",
     "text": [
      "Float64Index([1.0, 2.0, 3.0, 4.0, 5.0, 6.0, 8.0], dtype='float64')\n",
      "1    22365\n",
      "2    31194\n",
      "3    20226\n",
      "4     6211\n",
      "5     3598\n",
      "6     2867\n",
      "8        7\n",
      "Name: FAMI_ESTRATO_VIVIENDA, dtype: int64\n",
      "Elementos null/NaN 4\n",
      "__________________\n",
      "Elementos diferentes de null/NaN: 86468\n",
      "__________________\n",
      "(86468,)\n",
      "None\n"
     ]
    }
   ],
   "source": [
    "c = 'FAMI_ESTRATO_VIVIENDA'\n",
    "print(data_2014[c].value_counts().sort_index().index)\n",
    "print(data_2014[c].value_counts().sort_index())\n",
    "print(missing_data(data_2014[c]))"
   ]
  },
  {
   "cell_type": "code",
   "execution_count": 518,
   "metadata": {
    "collapsed": false
   },
   "outputs": [
    {
     "name": "stdout",
     "output_type": "stream",
     "text": [
      "cant null antes: 4\n",
      "cant null despues: 0\n"
     ]
    }
   ],
   "source": [
    "data_2014[c] = data_2014[c].replace(8, 6)\n",
    "Do_resamples(data_2014, c, float)"
   ]
  },
  {
   "cell_type": "code",
   "execution_count": 519,
   "metadata": {
    "collapsed": false
   },
   "outputs": [
    {
     "name": "stdout",
     "output_type": "stream",
     "text": [
      "Float64Index([1.0, 2.0, 3.0, 4.0, 5.0], dtype='float64')\n",
      "1    27953\n",
      "2    17800\n",
      "3     3533\n",
      "4      858\n",
      "5    36328\n",
      "Name: FAMI_NIVEL_SISBEN, dtype: int64\n",
      "Elementos null/NaN 0\n",
      "__________________\n",
      "Elementos diferentes de null/NaN: 86472\n",
      "__________________\n",
      "(86472,)\n",
      "None\n"
     ]
    }
   ],
   "source": [
    "c = 'FAMI_NIVEL_SISBEN'\n",
    "print(data_2014[c].value_counts().sort_index().index)\n",
    "print(data_2014[c].value_counts().sort_index())\n",
    "print(missing_data(data_2014[c]))"
   ]
  },
  {
   "cell_type": "code",
   "execution_count": 522,
   "metadata": {
    "collapsed": false
   },
   "outputs": [
    {
     "name": "stdout",
     "output_type": "stream",
     "text": [
      "Float64Index([1.0, 2.0, 3.0, 4.0, 5.0, 6.0, 7.0, 8.0, 9.0, 10.0, 11.0, 12.0], dtype='float64')\n",
      "1       987\n",
      "2      6421\n",
      "3     18209\n",
      "4     28685\n",
      "5     18379\n",
      "6      7538\n",
      "7      3146\n",
      "8      1611\n",
      "9       601\n",
      "10      393\n",
      "11      148\n",
      "12      354\n",
      "Name: FAMI_PERSONAS_HOGAR, dtype: int64\n",
      "Elementos null/NaN 0\n",
      "__________________\n",
      "Elementos diferentes de null/NaN: 86472\n",
      "__________________\n",
      "(86472,)\n",
      "None\n"
     ]
    }
   ],
   "source": [
    "c = 'FAMI_PERSONAS_HOGAR'\n",
    "print(data_2014[c].value_counts().sort_index().index)\n",
    "print(data_2014[c].value_counts().sort_index())\n",
    "print(missing_data(data_2014[c]))"
   ]
  },
  {
   "cell_type": "code",
   "execution_count": 524,
   "metadata": {
    "collapsed": false
   },
   "outputs": [
    {
     "name": "stdout",
     "output_type": "stream",
     "text": [
      "Float64Index([1.0, 2.0, 3.0, 4.0, 5.0, 6.0, 7.0, 8.0, 9.0, 10.0], dtype='float64')\n",
      "1      4459\n",
      "2     26880\n",
      "3     36766\n",
      "4     12257\n",
      "5      3265\n",
      "6       948\n",
      "7       309\n",
      "8       150\n",
      "9        48\n",
      "10       96\n",
      "Name: FAMI_CUARTOS_HOGAR, dtype: int64\n",
      "Elementos null/NaN 1294\n",
      "__________________\n",
      "Elementos diferentes de null/NaN: 85178\n",
      "__________________\n",
      "(85178,)\n",
      "None\n"
     ]
    }
   ],
   "source": [
    "c = 'FAMI_CUARTOS_HOGAR'\n",
    "print(data_2014[c].value_counts().sort_index().index)\n",
    "print(data_2014[c].value_counts().sort_index())\n",
    "print(missing_data(data_2014[c]))"
   ]
  },
  {
   "cell_type": "code",
   "execution_count": 525,
   "metadata": {
    "collapsed": false
   },
   "outputs": [
    {
     "name": "stdout",
     "output_type": "stream",
     "text": [
      "cant null antes: 1294\n",
      "cant null despues: 0\n"
     ]
    }
   ],
   "source": [
    "Do_resamples(data_2014, c, float)"
   ]
  },
  {
   "cell_type": "code",
   "execution_count": 526,
   "metadata": {
    "collapsed": false
   },
   "outputs": [
    {
     "name": "stdout",
     "output_type": "stream",
     "text": [
      "Float64Index([1.0, 2.0, 3.0, 4.0, 5.0], dtype='float64')\n",
      "1     2709\n",
      "2    32985\n",
      "3     5111\n",
      "4    45599\n",
      "5       68\n",
      "Name: FAMI_PISOSHOGAR, dtype: int64\n",
      "Elementos null/NaN 0\n",
      "__________________\n",
      "Elementos diferentes de null/NaN: 86472\n",
      "__________________\n",
      "(86472,)\n",
      "None\n"
     ]
    }
   ],
   "source": [
    "c = 'FAMI_PISOSHOGAR'\n",
    "print(data_2014[c].value_counts().sort_index().index)\n",
    "print(data_2014[c].value_counts().sort_index())\n",
    "print(missing_data(data_2014[c]))"
   ]
  },
  {
   "cell_type": "code",
   "execution_count": 527,
   "metadata": {
    "collapsed": false
   },
   "outputs": [
    {
     "name": "stdout",
     "output_type": "stream",
     "text": [
      "Float64Index([0.0, 1.0], dtype='float64')\n",
      "0    36068\n",
      "1    50403\n",
      "Name: FAMI_TELEFONO_FIJO, dtype: int64\n",
      "Elementos null/NaN 1\n",
      "__________________\n",
      "Elementos diferentes de null/NaN: 86471\n",
      "__________________\n",
      "(86471,)\n",
      "None\n"
     ]
    }
   ],
   "source": [
    "c = 'FAMI_TELEFONO_FIJO'\n",
    "print(data_2014[c].value_counts().sort_index().index)\n",
    "print(data_2014[c].value_counts().sort_index())\n",
    "print(missing_data(data_2014[c]))"
   ]
  },
  {
   "cell_type": "code",
   "execution_count": 528,
   "metadata": {
    "collapsed": false
   },
   "outputs": [
    {
     "name": "stdout",
     "output_type": "stream",
     "text": [
      "cant null antes: 1\n",
      "cant null despues: 0\n"
     ]
    }
   ],
   "source": [
    "Do_resamples(data_2014, c, float)"
   ]
  },
  {
   "cell_type": "code",
   "execution_count": 529,
   "metadata": {
    "collapsed": false
   },
   "outputs": [
    {
     "name": "stdout",
     "output_type": "stream",
     "text": [
      "Float64Index([0.0, 1.0], dtype='float64')\n",
      "0     4337\n",
      "1    82117\n",
      "Name: FAMI_CELULAR, dtype: int64\n",
      "Elementos null/NaN 18\n",
      "__________________\n",
      "Elementos diferentes de null/NaN: 86454\n",
      "__________________\n",
      "(86454,)\n",
      "None\n"
     ]
    }
   ],
   "source": [
    "c = 'FAMI_CELULAR'\n",
    "print(data_2014[c].value_counts().sort_index().index)\n",
    "print(data_2014[c].value_counts().sort_index())\n",
    "print(missing_data(data_2014[c]))"
   ]
  },
  {
   "cell_type": "code",
   "execution_count": 530,
   "metadata": {
    "collapsed": false
   },
   "outputs": [
    {
     "name": "stdout",
     "output_type": "stream",
     "text": [
      "cant null antes: 18\n",
      "cant null despues: 0\n"
     ]
    }
   ],
   "source": [
    "Do_resamples(data_2014, c, float)"
   ]
  },
  {
   "cell_type": "code",
   "execution_count": 531,
   "metadata": {
    "collapsed": false
   },
   "outputs": [
    {
     "name": "stdout",
     "output_type": "stream",
     "text": [
      "Float64Index([0.0, 1.0], dtype='float64')\n",
      "0    34715\n",
      "1    51756\n",
      "Name: FAMI_INTERNET, dtype: int64\n",
      "Elementos null/NaN 1\n",
      "__________________\n",
      "Elementos diferentes de null/NaN: 86471\n",
      "__________________\n",
      "(86471,)\n",
      "None\n"
     ]
    }
   ],
   "source": [
    "c = 'FAMI_INTERNET'\n",
    "print(data_2014[c].value_counts().sort_index().index)\n",
    "print(data_2014[c].value_counts().sort_index())\n",
    "print(missing_data(data_2014[c]))"
   ]
  },
  {
   "cell_type": "code",
   "execution_count": 532,
   "metadata": {
    "collapsed": false
   },
   "outputs": [
    {
     "name": "stdout",
     "output_type": "stream",
     "text": [
      "cant null antes: 1\n",
      "cant null despues: 0\n"
     ]
    }
   ],
   "source": [
    "Do_resamples(data_2014, c, float)"
   ]
  },
  {
   "cell_type": "code",
   "execution_count": 533,
   "metadata": {
    "collapsed": false
   },
   "outputs": [
    {
     "name": "stdout",
     "output_type": "stream",
     "text": [
      "Float64Index([0.0, 1.0], dtype='float64')\n",
      "0    25717\n",
      "1    59460\n",
      "Name: FAMI_TELEVISOR, dtype: int64\n",
      "Elementos null/NaN 1295\n",
      "__________________\n",
      "Elementos diferentes de null/NaN: 85177\n",
      "__________________\n",
      "(85177,)\n",
      "None\n"
     ]
    }
   ],
   "source": [
    "c = 'FAMI_TELEVISOR'\n",
    "print(data_2014[c].value_counts().sort_index().index)\n",
    "print(data_2014[c].value_counts().sort_index())\n",
    "print(missing_data(data_2014[c]))"
   ]
  },
  {
   "cell_type": "code",
   "execution_count": 534,
   "metadata": {
    "collapsed": false
   },
   "outputs": [
    {
     "name": "stdout",
     "output_type": "stream",
     "text": [
      "cant null antes: 1295\n",
      "cant null despues: 0\n"
     ]
    }
   ],
   "source": [
    "Do_resamples(data_2014, c, float)"
   ]
  },
  {
   "cell_type": "code",
   "execution_count": 535,
   "metadata": {
    "collapsed": false
   },
   "outputs": [
    {
     "name": "stdout",
     "output_type": "stream",
     "text": [
      "Float64Index([0.0, 1.0, 3.0], dtype='float64')\n",
      "0    25047\n",
      "1    58931\n",
      "3     2494\n",
      "Name: FAMI_COMPUTADOR, dtype: int64\n",
      "Elementos null/NaN 0\n",
      "__________________\n",
      "Elementos diferentes de null/NaN: 86472\n",
      "__________________\n",
      "(86472,)\n",
      "None\n"
     ]
    }
   ],
   "source": [
    "c = 'FAMI_COMPUTADOR'\n",
    "print(data_2014[c].value_counts().sort_index().index)\n",
    "print(data_2014[c].value_counts().sort_index())\n",
    "print(missing_data(data_2014[c]))"
   ]
  },
  {
   "cell_type": "code",
   "execution_count": 537,
   "metadata": {
    "collapsed": false
   },
   "outputs": [
    {
     "name": "stdout",
     "output_type": "stream",
     "text": [
      "Float64Index([0.0, 1.0], dtype='float64')\n",
      "0    30772\n",
      "1    55699\n",
      "Name: FAMI_DVD, dtype: int64\n",
      "Elementos null/NaN 1\n",
      "__________________\n",
      "Elementos diferentes de null/NaN: 86471\n",
      "__________________\n",
      "(86471,)\n",
      "None\n"
     ]
    }
   ],
   "source": [
    "c = 'FAMI_DVD'\n",
    "print(data_2014[c].value_counts().sort_index().index)\n",
    "print(data_2014[c].value_counts().sort_index())\n",
    "print(missing_data(data_2014[c]))"
   ]
  },
  {
   "cell_type": "code",
   "execution_count": 538,
   "metadata": {
    "collapsed": false
   },
   "outputs": [
    {
     "name": "stdout",
     "output_type": "stream",
     "text": [
      "cant null antes: 1\n",
      "cant null despues: 0\n"
     ]
    }
   ],
   "source": [
    "Do_resamples(data_2014, c, float)"
   ]
  },
  {
   "cell_type": "code",
   "execution_count": 539,
   "metadata": {
    "collapsed": false
   },
   "outputs": [
    {
     "name": "stdout",
     "output_type": "stream",
     "text": [
      "Float64Index([0.0, 1.0], dtype='float64')\n",
      "0    25910\n",
      "1    60561\n",
      "Name: FAMI_LAVADORA, dtype: int64\n",
      "Elementos null/NaN 1\n",
      "__________________\n",
      "Elementos diferentes de null/NaN: 86471\n",
      "__________________\n",
      "(86471,)\n",
      "None\n"
     ]
    }
   ],
   "source": [
    "c = 'FAMI_LAVADORA'\n",
    "print(data_2014[c].value_counts().sort_index().index)\n",
    "print(data_2014[c].value_counts().sort_index())\n",
    "print(missing_data(data_2014[c]))"
   ]
  },
  {
   "cell_type": "code",
   "execution_count": 540,
   "metadata": {
    "collapsed": false
   },
   "outputs": [
    {
     "name": "stdout",
     "output_type": "stream",
     "text": [
      "cant null antes: 1\n",
      "cant null despues: 0\n"
     ]
    }
   ],
   "source": [
    "Do_resamples(data_2014, c, float)"
   ]
  },
  {
   "cell_type": "code",
   "execution_count": 541,
   "metadata": {
    "collapsed": false
   },
   "outputs": [
    {
     "name": "stdout",
     "output_type": "stream",
     "text": [
      "Float64Index([0.0, 1.0], dtype='float64')\n",
      "0    56404\n",
      "1    30067\n",
      "Name: FAMI_MICROONDAS, dtype: int64\n",
      "Elementos null/NaN 1\n",
      "__________________\n",
      "Elementos diferentes de null/NaN: 86471\n",
      "__________________\n",
      "(86471,)\n",
      "None\n"
     ]
    }
   ],
   "source": [
    "c = 'FAMI_MICROONDAS'\n",
    "print(data_2014[c].value_counts().sort_index().index)\n",
    "print(data_2014[c].value_counts().sort_index())\n",
    "print(missing_data(data_2014[c]))"
   ]
  },
  {
   "cell_type": "code",
   "execution_count": 542,
   "metadata": {
    "collapsed": false
   },
   "outputs": [
    {
     "name": "stdout",
     "output_type": "stream",
     "text": [
      "cant null antes: 1\n",
      "cant null despues: 0\n"
     ]
    }
   ],
   "source": [
    "Do_resamples(data_2014, c, float)"
   ]
  },
  {
   "cell_type": "code",
   "execution_count": 543,
   "metadata": {
    "collapsed": false
   },
   "outputs": [
    {
     "name": "stdout",
     "output_type": "stream",
     "text": [
      "Float64Index([0.0, 1.0], dtype='float64')\n",
      "0     7672\n",
      "1    78784\n",
      "Name: FAMI_NEVERA, dtype: int64\n",
      "Elementos null/NaN 16\n",
      "__________________\n",
      "Elementos diferentes de null/NaN: 86456\n",
      "__________________\n",
      "(86456,)\n",
      "None\n"
     ]
    }
   ],
   "source": [
    "c = 'FAMI_NEVERA'\n",
    "print(data_2014[c].value_counts().sort_index().index)\n",
    "print(data_2014[c].value_counts().sort_index())\n",
    "print(missing_data(data_2014[c]))"
   ]
  },
  {
   "cell_type": "code",
   "execution_count": 544,
   "metadata": {
    "collapsed": false
   },
   "outputs": [
    {
     "name": "stdout",
     "output_type": "stream",
     "text": [
      "cant null antes: 16\n",
      "cant null despues: 0\n"
     ]
    }
   ],
   "source": [
    "Do_resamples(data_2014, c, float)"
   ]
  },
  {
   "cell_type": "code",
   "execution_count": 545,
   "metadata": {
    "collapsed": false
   },
   "outputs": [
    {
     "name": "stdout",
     "output_type": "stream",
     "text": [
      "Float64Index([0.0, 1.0], dtype='float64')\n",
      "0    63161\n",
      "1    23310\n",
      "Name: FAMI_AUTOMOVIL, dtype: int64\n",
      "Elementos null/NaN 1\n",
      "__________________\n",
      "Elementos diferentes de null/NaN: 86471\n",
      "__________________\n",
      "(86471,)\n",
      "None\n"
     ]
    }
   ],
   "source": [
    "c = 'FAMI_AUTOMOVIL'\n",
    "print(data_2014[c].value_counts().sort_index().index)\n",
    "print(data_2014[c].value_counts().sort_index())\n",
    "print(missing_data(data_2014[c]))"
   ]
  },
  {
   "cell_type": "code",
   "execution_count": 546,
   "metadata": {
    "collapsed": false
   },
   "outputs": [
    {
     "name": "stdout",
     "output_type": "stream",
     "text": [
      "cant null antes: 1\n",
      "cant null despues: 0\n"
     ]
    }
   ],
   "source": [
    "Do_resamples(data_2014, c, float)"
   ]
  },
  {
   "cell_type": "code",
   "execution_count": 547,
   "metadata": {
    "collapsed": false
   },
   "outputs": [
    {
     "name": "stdout",
     "output_type": "stream",
     "text": [
      "Float64Index([0.0, 1.0], dtype='float64')\n",
      "0    46265\n",
      "1    40206\n",
      "Name: FAMI_HORNO, dtype: int64\n",
      "Elementos null/NaN 1\n",
      "__________________\n",
      "Elementos diferentes de null/NaN: 86471\n",
      "__________________\n",
      "(86471,)\n",
      "None\n"
     ]
    }
   ],
   "source": [
    "c = 'FAMI_HORNO'\n",
    "print(data_2014[c].value_counts().sort_index().index)\n",
    "print(data_2014[c].value_counts().sort_index())\n",
    "print(missing_data(data_2014[c]))"
   ]
  },
  {
   "cell_type": "code",
   "execution_count": 548,
   "metadata": {
    "collapsed": false
   },
   "outputs": [
    {
     "name": "stdout",
     "output_type": "stream",
     "text": [
      "cant null antes: 1\n",
      "cant null despues: 0\n"
     ]
    }
   ],
   "source": [
    "Do_resamples(data_2014, c, float)"
   ]
  },
  {
   "cell_type": "code",
   "execution_count": 549,
   "metadata": {
    "collapsed": false
   },
   "outputs": [
    {
     "name": "stdout",
     "output_type": "stream",
     "text": [
      "Float64Index([1.0, 2.0, 3.0, 4.0, 5.0, 6.0, 7.0], dtype='float64')\n",
      "1    15353\n",
      "2    38257\n",
      "3    15553\n",
      "4     7877\n",
      "5     2947\n",
      "6     2055\n",
      "7     4430\n",
      "Name: FAMI_INGRESO_FMILIAR_MENSUAL, dtype: int64\n",
      "Elementos null/NaN 0\n",
      "__________________\n",
      "Elementos diferentes de null/NaN: 86472\n",
      "__________________\n",
      "(86472,)\n",
      "None\n"
     ]
    }
   ],
   "source": [
    "c = 'FAMI_INGRESO_FMILIAR_MENSUAL'\n",
    "print(data_2014[c].value_counts().sort_index().index)\n",
    "print(data_2014[c].value_counts().sort_index())\n",
    "print(missing_data(data_2014[c]))"
   ]
  },
  {
   "cell_type": "code",
   "execution_count": 551,
   "metadata": {
    "collapsed": false
   },
   "outputs": [
    {
     "name": "stdout",
     "output_type": "stream",
     "text": [
      "Float64Index([0.0, 1.0, 2.0, 3.0, 4.0, 5.0, 6.0, 7.0], dtype='float64')\n",
      "0     1851\n",
      "1    19991\n",
      "2     1248\n",
      "3     2768\n",
      "4      398\n",
      "5      505\n",
      "6        1\n",
      "7        1\n",
      "Name: ESTU_TRABAJA, dtype: int64\n",
      "Elementos null/NaN 59709\n",
      "__________________\n",
      "Elementos diferentes de null/NaN: 26763\n",
      "__________________\n",
      "(26763,)\n",
      "None\n"
     ]
    }
   ],
   "source": [
    "c = 'ESTU_TRABAJA'\n",
    "print(data_2014[c].value_counts().sort_index().index)\n",
    "print(data_2014[c].value_counts().sort_index())\n",
    "print(missing_data(data_2014[c]))"
   ]
  },
  {
   "cell_type": "code",
   "execution_count": 552,
   "metadata": {
    "collapsed": false
   },
   "outputs": [
    {
     "name": "stdout",
     "output_type": "stream",
     "text": [
      "cant null antes: 59709\n",
      "cant null despues: 1\n",
      "cant null antes: 1\n",
      "cant null despues: 0\n"
     ]
    }
   ],
   "source": [
    "Do_resamples(data_2014, c, float)"
   ]
  },
  {
   "cell_type": "code",
   "execution_count": 553,
   "metadata": {
    "collapsed": false
   },
   "outputs": [
    {
     "name": "stdout",
     "output_type": "stream",
     "text": [
      "Index(['-'], dtype='object')\n",
      "-    86472\n",
      "Name: ESTU_RECIBE_SALARIO, dtype: int64\n",
      "Elementos null/NaN 0\n",
      "__________________\n",
      "Elementos diferentes de null/NaN: 86472\n",
      "__________________\n",
      "(86472,)\n",
      "None\n"
     ]
    }
   ],
   "source": [
    "c = 'ESTU_RECIBE_SALARIO'\n",
    "print(data_2014[c].value_counts().sort_index().index)\n",
    "print(data_2014[c].value_counts().sort_index())\n",
    "print(missing_data(data_2014[c]))"
   ]
  },
  {
   "cell_type": "code",
   "execution_count": 554,
   "metadata": {
    "collapsed": true
   },
   "outputs": [],
   "source": [
    "data_2014 = data_2014.drop(c, axis=1)"
   ]
  },
  {
   "cell_type": "markdown",
   "metadata": {},
   "source": [
    "## TARGETS"
   ]
  },
  {
   "cell_type": "code",
   "execution_count": 556,
   "metadata": {
    "collapsed": false,
    "scrolled": true
   },
   "outputs": [
    {
     "name": "stdout",
     "output_type": "stream",
     "text": [
      "Float64Index([   1.0,    2.0,    3.0,    4.0,    5.0,    6.0,    7.0,    8.0,\n",
      "                 9.0,   10.0,\n",
      "              ...\n",
      "               991.0,  992.0,  993.0,  994.0,  995.0,  996.0,  997.0,  998.0,\n",
      "               999.0, 1000.0],\n",
      "             dtype='float64', length=1000)\n",
      "1       88\n",
      "2       88\n",
      "3       82\n",
      "4       87\n",
      "5       84\n",
      "6       88\n",
      "7       86\n",
      "8       87\n",
      "9       87\n",
      "10      84\n",
      "11      87\n",
      "12      89\n",
      "13      87\n",
      "14      86\n",
      "15      85\n",
      "16      86\n",
      "17      86\n",
      "18      87\n",
      "19      87\n",
      "20      88\n",
      "21      89\n",
      "22      88\n",
      "23      85\n",
      "24      85\n",
      "25      88\n",
      "26      87\n",
      "27      88\n",
      "28      86\n",
      "29      84\n",
      "30      86\n",
      "        ..\n",
      "971     88\n",
      "972     88\n",
      "973     88\n",
      "974     89\n",
      "975     87\n",
      "976     86\n",
      "977     88\n",
      "978     88\n",
      "979     89\n",
      "980     87\n",
      "981     89\n",
      "982     89\n",
      "983     88\n",
      "984     89\n",
      "985     87\n",
      "986     88\n",
      "987     89\n",
      "988     85\n",
      "989     88\n",
      "990     88\n",
      "991     88\n",
      "992     87\n",
      "993     84\n",
      "994     83\n",
      "995     61\n",
      "996     24\n",
      "997     25\n",
      "998     60\n",
      "999     19\n",
      "1000    31\n",
      "Name: ESTU_PUESTO, dtype: int64\n",
      "Elementos null/NaN 0\n",
      "__________________\n",
      "Elementos diferentes de null/NaN: 86472\n",
      "__________________\n",
      "(86472,)\n",
      "None\n"
     ]
    }
   ],
   "source": [
    "c = 'ESTU_PUESTO'\n",
    "print(data_2014[c].value_counts().sort_index().index)\n",
    "print(data_2014[c].value_counts().sort_index())\n",
    "print(missing_data(data_2014[c]))"
   ]
  },
  {
   "cell_type": "code",
   "execution_count": 557,
   "metadata": {
    "collapsed": false,
    "scrolled": true
   },
   "outputs": [
    {
     "name": "stdout",
     "output_type": "stream",
     "text": [
      "Float64Index([  0.0,  15.0,  17.0,  18.0,  19.0,  20.0,  23.0,  25.0,  26.0,\n",
      "               27.0,  28.0,  31.0,  32.0,  33.0,  35.0,  36.0,  38.0,  39.0,\n",
      "               41.0,  42.0,  43.0,  44.0,  45.0,  46.0,  47.0,  48.0,  49.0,\n",
      "               50.0,  51.0,  52.0,  53.0,  54.0,  55.0,  56.0,  57.0,  58.0,\n",
      "               59.0,  60.0,  61.0,  62.0,  63.0,  65.0,  66.0,  67.0,  68.0,\n",
      "               69.0,  71.0,  72.0,  73.0,  74.0,  75.0,  76.0,  77.0,  78.0,\n",
      "               80.0,  81.0,  82.0,  83.0,  85.0,  91.0, 104.0],\n",
      "             dtype='float64')\n",
      "0       118\n",
      "15        4\n",
      "17       18\n",
      "18       14\n",
      "19       18\n",
      "20      163\n",
      "23       14\n",
      "25       44\n",
      "26       55\n",
      "27       78\n",
      "28      583\n",
      "31      258\n",
      "32      211\n",
      "33     1422\n",
      "35      560\n",
      "36     3059\n",
      "38      450\n",
      "39     5110\n",
      "41      613\n",
      "42     7111\n",
      "43      218\n",
      "44      907\n",
      "45     7867\n",
      "46      218\n",
      "47     9198\n",
      "48      269\n",
      "49     9141\n",
      "50      271\n",
      "51     8224\n",
      "52      333\n",
      "       ... \n",
      "54      745\n",
      "55     4924\n",
      "56     1219\n",
      "57     3620\n",
      "58     1509\n",
      "59     2803\n",
      "60      926\n",
      "61     2038\n",
      "62      697\n",
      "63     1660\n",
      "65      492\n",
      "66     1025\n",
      "67      125\n",
      "68      635\n",
      "69       74\n",
      "71      308\n",
      "72       70\n",
      "73       25\n",
      "74       83\n",
      "75       32\n",
      "76        7\n",
      "77       20\n",
      "78       24\n",
      "80        8\n",
      "81        3\n",
      "82        1\n",
      "83        6\n",
      "85        2\n",
      "91        1\n",
      "104       1\n",
      "Name: PUNT_LENGUAJE, dtype: int64\n",
      "Elementos null/NaN 0\n",
      "__________________\n",
      "Elementos diferentes de null/NaN: 86472\n",
      "__________________\n",
      "(86472,)\n",
      "None\n"
     ]
    }
   ],
   "source": [
    "c = 'PUNT_LENGUAJE'\n",
    "print(data_2014[c].value_counts().sort_index().index)\n",
    "print(data_2014[c].value_counts().sort_index())\n",
    "print(missing_data(data_2014[c]))"
   ]
  },
  {
   "cell_type": "code",
   "execution_count": 558,
   "metadata": {
    "collapsed": false,
    "scrolled": true
   },
   "outputs": [],
   "source": [
    "for i in data_2014[c].value_counts().sort_index().index:\n",
    "    if i > 100:\n",
    "        data_2014[c] = data_2014[c].replace(i, 100)"
   ]
  },
  {
   "cell_type": "code",
   "execution_count": 559,
   "metadata": {
    "collapsed": false,
    "scrolled": true
   },
   "outputs": [
    {
     "name": "stdout",
     "output_type": "stream",
     "text": [
      "Float64Index([  0.0,   9.0,  10.0,  11.0,  16.0,  19.0,  20.0,  25.0,  26.0,\n",
      "               30.0,  32.0,  34.0,  36.0,  37.0,  38.0,  40.0,  43.0,  45.0,\n",
      "               46.0,  48.0,  49.0,  50.0,  51.0,  52.0,  53.0,  54.0,  55.0,\n",
      "               56.0,  57.0,  58.0,  60.0,  61.0,  63.0,  65.0,  66.0,  68.0,\n",
      "               69.0,  71.0,  72.0,  73.0,  74.0,  77.0,  78.0,  81.0,  82.0,\n",
      "               83.0,  84.0,  87.0,  91.0,  92.0,  93.0,  94.0,  96.0, 106.0,\n",
      "              107.0, 108.0, 109.0, 111.0],\n",
      "             dtype='float64')\n",
      "0        120\n",
      "9          6\n",
      "10        15\n",
      "11         4\n",
      "16       377\n",
      "19        57\n",
      "20        52\n",
      "25       192\n",
      "26      1598\n",
      "30       758\n",
      "32      3450\n",
      "34      1296\n",
      "36      5951\n",
      "37      1433\n",
      "38       421\n",
      "40     10384\n",
      "43     11398\n",
      "45       470\n",
      "46     10024\n",
      "48      1669\n",
      "49      7104\n",
      "50       382\n",
      "51      6177\n",
      "52       236\n",
      "53      1153\n",
      "54      3820\n",
      "55       790\n",
      "56      2796\n",
      "57       160\n",
      "58      2946\n",
      "60       837\n",
      "61      1635\n",
      "63      2106\n",
      "65       876\n",
      "66       909\n",
      "68       652\n",
      "69       788\n",
      "71       509\n",
      "72       152\n",
      "73       482\n",
      "74       340\n",
      "77       606\n",
      "78       179\n",
      "81       204\n",
      "82        92\n",
      "83       223\n",
      "84        56\n",
      "87       141\n",
      "91        44\n",
      "92        93\n",
      "93        48\n",
      "94        29\n",
      "96       102\n",
      "106       33\n",
      "107       21\n",
      "108       16\n",
      "109       10\n",
      "111       50\n",
      "Name: PUNT_MATEMATICAS, dtype: int64\n",
      "Elementos null/NaN 0\n",
      "__________________\n",
      "Elementos diferentes de null/NaN: 86472\n",
      "__________________\n",
      "(86472,)\n",
      "None\n"
     ]
    }
   ],
   "source": [
    "c = 'PUNT_MATEMATICAS'\n",
    "print(data_2014[c].value_counts().sort_index().index)\n",
    "print(data_2014[c].value_counts().sort_index())\n",
    "print(missing_data(data_2014[c]))"
   ]
  },
  {
   "cell_type": "code",
   "execution_count": 560,
   "metadata": {
    "collapsed": true
   },
   "outputs": [],
   "source": [
    "for i in data_2014[c].value_counts().sort_index().index:\n",
    "    if i > 100:\n",
    "        data_2014[c] = data_2014[c].replace(i, 100)"
   ]
  },
  {
   "cell_type": "code",
   "execution_count": 561,
   "metadata": {
    "collapsed": false,
    "scrolled": true
   },
   "outputs": [
    {
     "name": "stdout",
     "output_type": "stream",
     "text": [
      "Float64Index([  0.0,   2.0,  10.0,  11.0,  12.0,  16.0,  17.0,  18.0,  21.0,\n",
      "               22.0,  23.0,  24.0,  25.0,  26.0,  27.0,  29.0,  30.0,  31.0,\n",
      "               32.0,  34.0,  35.0,  36.0,  37.0,  38.0,  39.0,  40.0,  41.0,\n",
      "               42.0,  43.0,  44.0,  45.0,  46.0,  47.0,  48.0,  49.0,  50.0,\n",
      "               51.0,  52.0,  53.0,  54.0,  55.0,  56.0,  57.0,  58.0,  59.0,\n",
      "               60.0,  61.0,  62.0,  63.0,  64.0,  65.0,  66.0,  67.0,  68.0,\n",
      "               69.0,  70.0,  72.0,  73.0,  74.0,  77.0,  79.0,  80.0,  83.0,\n",
      "               86.0,  88.0,  89.0,  92.0, 101.0, 103.0, 104.0],\n",
      "             dtype='float64')\n",
      "0       158\n",
      "2        35\n",
      "10       14\n",
      "11       84\n",
      "12       18\n",
      "16        5\n",
      "17      266\n",
      "18       39\n",
      "21      574\n",
      "22      101\n",
      "23       55\n",
      "24      953\n",
      "25      237\n",
      "26      209\n",
      "27     1534\n",
      "29      714\n",
      "30     2172\n",
      "31      196\n",
      "32     3574\n",
      "34     4169\n",
      "35      457\n",
      "36     4044\n",
      "37     1237\n",
      "38     4043\n",
      "39     1067\n",
      "40     4897\n",
      "41     1130\n",
      "42     5019\n",
      "43      718\n",
      "44     5464\n",
      "       ... \n",
      "55      777\n",
      "56     3555\n",
      "57      725\n",
      "58      526\n",
      "59     2706\n",
      "60      479\n",
      "61     2038\n",
      "62      522\n",
      "63      395\n",
      "64     1374\n",
      "65      312\n",
      "66      280\n",
      "67       79\n",
      "68      865\n",
      "69      247\n",
      "70      299\n",
      "72      442\n",
      "73      181\n",
      "74      119\n",
      "77      223\n",
      "79       74\n",
      "80       53\n",
      "83       14\n",
      "86       81\n",
      "88       29\n",
      "89        8\n",
      "92        4\n",
      "101      12\n",
      "103       3\n",
      "104       1\n",
      "Name: PUNT_C_SOCIALES, dtype: int64\n",
      "Elementos null/NaN 0\n",
      "__________________\n",
      "Elementos diferentes de null/NaN: 86472\n",
      "__________________\n",
      "(86472,)\n",
      "None\n"
     ]
    }
   ],
   "source": [
    "c = 'PUNT_C_SOCIALES'\n",
    "print(data_2014[c].value_counts().sort_index().index)\n",
    "print(data_2014[c].value_counts().sort_index())\n",
    "print(missing_data(data_2014[c]))"
   ]
  },
  {
   "cell_type": "code",
   "execution_count": 562,
   "metadata": {
    "collapsed": true
   },
   "outputs": [],
   "source": [
    "for i in data_2014[c].value_counts().sort_index().index:\n",
    "    if i > 100:\n",
    "        data_2014[c] = data_2014[c].replace(i, 100)"
   ]
  },
  {
   "cell_type": "code",
   "execution_count": 563,
   "metadata": {
    "collapsed": false,
    "scrolled": true
   },
   "outputs": [
    {
     "name": "stdout",
     "output_type": "stream",
     "text": [
      "Float64Index([  0.0,   4.0,   8.0,   9.0,  10.0,  14.0,  17.0,  19.0,  22.0,\n",
      "               23.0,  24.0,  26.0,  27.0,  28.0,  30.0,  31.0,  32.0,  33.0,\n",
      "               34.0,  35.0,  36.0,  37.0,  38.0,  39.0,  40.0,  41.0,  42.0,\n",
      "               43.0,  44.0,  46.0,  47.0,  48.0,  49.0,  50.0,  51.0,  52.0,\n",
      "               53.0,  54.0,  55.0,  56.0,  58.0,  59.0,  61.0,  62.0,  63.0,\n",
      "               65.0,  67.0,  69.0,  70.0,  72.0,  73.0,  75.0,  78.0,  81.0,\n",
      "               83.0,  84.0,  85.0,  92.0,  95.0,  98.0, 100.0],\n",
      "             dtype='float64')\n",
      "0        74\n",
      "4         2\n",
      "8        23\n",
      "9       223\n",
      "10       31\n",
      "14        9\n",
      "17      877\n",
      "19      145\n",
      "22      126\n",
      "23     2026\n",
      "24      379\n",
      "26     3492\n",
      "27      460\n",
      "28      639\n",
      "30     5447\n",
      "31      913\n",
      "32     5751\n",
      "33      809\n",
      "34     1111\n",
      "35     6147\n",
      "36      965\n",
      "37     7152\n",
      "38      439\n",
      "39     1691\n",
      "40     5696\n",
      "41     1299\n",
      "42     5912\n",
      "43      799\n",
      "44     5787\n",
      "46     5574\n",
      "       ... \n",
      "48     4582\n",
      "49      615\n",
      "50     3207\n",
      "51     1008\n",
      "52      260\n",
      "53     3386\n",
      "54      294\n",
      "55     2334\n",
      "56      797\n",
      "58     1721\n",
      "59      616\n",
      "61     1209\n",
      "62      327\n",
      "63      135\n",
      "65      814\n",
      "67      178\n",
      "69       98\n",
      "70      346\n",
      "72       45\n",
      "73       50\n",
      "75       55\n",
      "78       91\n",
      "81       20\n",
      "83        3\n",
      "84        2\n",
      "85        5\n",
      "92       17\n",
      "95        3\n",
      "98        1\n",
      "100       2\n",
      "Name: PUNT_FILOSOFIA, dtype: int64\n",
      "Elementos null/NaN 0\n",
      "__________________\n",
      "Elementos diferentes de null/NaN: 86472\n",
      "__________________\n",
      "(86472,)\n",
      "None\n"
     ]
    }
   ],
   "source": [
    "c = 'PUNT_FILOSOFIA'\n",
    "print(data_2014[c].value_counts().sort_index().index)\n",
    "print(data_2014[c].value_counts().sort_index())\n",
    "print(missing_data(data_2014[c]))"
   ]
  },
  {
   "cell_type": "code",
   "execution_count": 564,
   "metadata": {
    "collapsed": false,
    "scrolled": true
   },
   "outputs": [
    {
     "name": "stdout",
     "output_type": "stream",
     "text": [
      "Float64Index([ 0.0,  9.0, 14.0, 15.0, 16.0, 17.0, 22.0, 23.0, 27.0, 28.0, 30.0,\n",
      "              31.0, 32.0, 33.0, 34.0, 35.0, 36.0, 37.0, 38.0, 39.0, 40.0, 41.0,\n",
      "              42.0, 43.0, 44.0, 45.0, 46.0, 47.0, 48.0, 49.0, 50.0, 51.0, 52.0,\n",
      "              53.0, 54.0, 55.0, 56.0, 57.0, 58.0, 59.0, 60.0, 61.0, 62.0, 63.0,\n",
      "              64.0, 66.0, 67.0, 69.0, 70.0, 71.0, 73.0, 74.0, 75.0, 78.0, 81.0,\n",
      "              82.0, 83.0, 86.0, 94.0, 95.0, 98.0],\n",
      "             dtype='float64')\n",
      "0       26\n",
      "9        3\n",
      "14      48\n",
      "15      17\n",
      "16       4\n",
      "17       8\n",
      "22     190\n",
      "23     154\n",
      "27     779\n",
      "28     298\n",
      "30    1542\n",
      "31     490\n",
      "32     412\n",
      "33    3226\n",
      "34     821\n",
      "35     674\n",
      "36    4864\n",
      "37    1545\n",
      "38     500\n",
      "39    8130\n",
      "40     764\n",
      "41    7920\n",
      "42    1476\n",
      "43    8237\n",
      "44    1316\n",
      "45    8228\n",
      "46     382\n",
      "47    6744\n",
      "48    5284\n",
      "49     841\n",
      "      ... \n",
      "51     810\n",
      "52    3025\n",
      "53     995\n",
      "54    2275\n",
      "55    1172\n",
      "56    1548\n",
      "57    1037\n",
      "58    1124\n",
      "59     803\n",
      "60     950\n",
      "61     526\n",
      "62     131\n",
      "63     689\n",
      "64     563\n",
      "66     464\n",
      "67     362\n",
      "69     278\n",
      "70     191\n",
      "71      52\n",
      "73      15\n",
      "74     108\n",
      "75     127\n",
      "78      18\n",
      "81      57\n",
      "82      21\n",
      "83      18\n",
      "86       1\n",
      "94       8\n",
      "95       5\n",
      "98       1\n",
      "Name: PUNT_BIOLOGIA, dtype: int64\n",
      "Elementos null/NaN 0\n",
      "__________________\n",
      "Elementos diferentes de null/NaN: 86472\n",
      "__________________\n",
      "(86472,)\n",
      "None\n"
     ]
    }
   ],
   "source": [
    "c = 'PUNT_BIOLOGIA'\n",
    "print(data_2014[c].value_counts().sort_index().index)\n",
    "print(data_2014[c].value_counts().sort_index())\n",
    "print(missing_data(data_2014[c]))"
   ]
  },
  {
   "cell_type": "code",
   "execution_count": 565,
   "metadata": {
    "collapsed": false,
    "scrolled": true
   },
   "outputs": [
    {
     "name": "stdout",
     "output_type": "stream",
     "text": [
      "Float64Index([ 0.0, 15.0, 16.0, 17.0, 18.0, 22.0, 23.0, 24.0, 25.0, 27.0, 28.0,\n",
      "              29.0, 30.0, 31.0, 33.0, 34.0, 35.0, 36.0, 37.0, 38.0, 39.0, 40.0,\n",
      "              41.0, 42.0, 43.0, 44.0, 45.0, 46.0, 47.0, 48.0, 49.0, 50.0, 51.0,\n",
      "              52.0, 53.0, 54.0, 55.0, 56.0, 57.0, 58.0, 59.0, 60.0, 61.0, 62.0,\n",
      "              63.0, 64.0, 65.0, 66.0, 67.0, 70.0, 71.0, 76.0, 77.0, 78.0, 87.0,\n",
      "              88.0, 89.0],\n",
      "             dtype='float64')\n",
      "0       47\n",
      "15       3\n",
      "16       8\n",
      "17      24\n",
      "18     134\n",
      "22      29\n",
      "23      29\n",
      "24      62\n",
      "25     539\n",
      "27     162\n",
      "28     188\n",
      "29    1416\n",
      "30     223\n",
      "31     524\n",
      "33    3599\n",
      "34     557\n",
      "35    5057\n",
      "36    1094\n",
      "37    6573\n",
      "38    1241\n",
      "39     651\n",
      "40    7681\n",
      "41    7253\n",
      "42    1183\n",
      "43    6691\n",
      "44     866\n",
      "45    5996\n",
      "46     405\n",
      "47    4917\n",
      "48    4001\n",
      "49     383\n",
      "50    3700\n",
      "51    2405\n",
      "52     700\n",
      "53    2273\n",
      "54     567\n",
      "55    2016\n",
      "56     590\n",
      "57    1728\n",
      "58     764\n",
      "59    1383\n",
      "60     984\n",
      "61    1177\n",
      "62     393\n",
      "63     580\n",
      "64    1025\n",
      "65     206\n",
      "66     698\n",
      "67     949\n",
      "70     680\n",
      "71     736\n",
      "76     244\n",
      "77     215\n",
      "78     525\n",
      "87      44\n",
      "88      95\n",
      "89     259\n",
      "Name: PUNT_QUIMICA, dtype: int64\n",
      "Elementos null/NaN 0\n",
      "__________________\n",
      "Elementos diferentes de null/NaN: 86472\n",
      "__________________\n",
      "(86472,)\n",
      "None\n"
     ]
    }
   ],
   "source": [
    "c = 'PUNT_QUIMICA'\n",
    "print(data_2014[c].value_counts().sort_index().index)\n",
    "print(data_2014[c].value_counts().sort_index())\n",
    "print(missing_data(data_2014[c]))"
   ]
  },
  {
   "cell_type": "code",
   "execution_count": 566,
   "metadata": {
    "collapsed": false,
    "scrolled": true
   },
   "outputs": [
    {
     "name": "stdout",
     "output_type": "stream",
     "text": [
      "Float64Index([  0.0,   6.0,   8.0,   9.0,  11.0,  15.0,  16.0,  17.0,  20.0,\n",
      "               21.0,  23.0,  24.0,  25.0,  27.0,  28.0,  29.0,  31.0,  32.0,\n",
      "               34.0,  35.0,  36.0,  37.0,  38.0,  39.0,  40.0,  41.0,  42.0,\n",
      "               43.0,  44.0,  45.0,  46.0,  47.0,  48.0,  49.0,  50.0,  51.0,\n",
      "               52.0,  53.0,  54.0,  55.0,  56.0,  57.0,  58.0,  59.0,  60.0,\n",
      "               61.0,  62.0,  63.0,  64.0,  65.0,  66.0,  68.0,  69.0,  71.0,\n",
      "               72.0,  73.0,  74.0,  76.0,  77.0,  79.0,  80.0,  81.0,  82.0,\n",
      "               83.0,  84.0,  89.0,  90.0,  91.0,  93.0,  94.0, 106.0, 107.0,\n",
      "              108.0, 110.0, 111.0],\n",
      "             dtype='float64')\n",
      "0        80\n",
      "6       164\n",
      "8        15\n",
      "9        56\n",
      "11       23\n",
      "15      140\n",
      "16      782\n",
      "17       45\n",
      "20      330\n",
      "21      141\n",
      "23     2112\n",
      "24      370\n",
      "25      420\n",
      "27     3926\n",
      "28      854\n",
      "29      318\n",
      "31     7047\n",
      "32      393\n",
      "34     1363\n",
      "35     7309\n",
      "36      393\n",
      "37      810\n",
      "38     8031\n",
      "39      384\n",
      "40      770\n",
      "41     7477\n",
      "42      725\n",
      "43     6531\n",
      "44      668\n",
      "45      674\n",
      "       ... \n",
      "61      435\n",
      "62     1410\n",
      "63      420\n",
      "64      397\n",
      "65     1306\n",
      "66      194\n",
      "68     1412\n",
      "69      168\n",
      "71      149\n",
      "72      893\n",
      "73      130\n",
      "74      135\n",
      "76      103\n",
      "77      630\n",
      "79      111\n",
      "80      100\n",
      "81      106\n",
      "82       75\n",
      "83      368\n",
      "84       45\n",
      "89       69\n",
      "90       64\n",
      "91       54\n",
      "93      254\n",
      "94       30\n",
      "106      26\n",
      "107      22\n",
      "108      27\n",
      "110      75\n",
      "111      34\n",
      "Name: PUNT_FISICA, dtype: int64\n",
      "Elementos null/NaN 0\n",
      "__________________\n",
      "Elementos diferentes de null/NaN: 86472\n",
      "__________________\n",
      "(86472,)\n",
      "None\n"
     ]
    }
   ],
   "source": [
    "c = 'PUNT_FISICA'\n",
    "print(data_2014[c].value_counts().sort_index().index)\n",
    "print(data_2014[c].value_counts().sort_index())\n",
    "print(missing_data(data_2014[c]))"
   ]
  },
  {
   "cell_type": "code",
   "execution_count": 567,
   "metadata": {
    "collapsed": true
   },
   "outputs": [],
   "source": [
    "for i in data_2014[c].value_counts().sort_index().index:\n",
    "    if i > 100:\n",
    "        data_2014[c] = data_2014[c].replace(i, 100)"
   ]
  },
  {
   "cell_type": "code",
   "execution_count": 568,
   "metadata": {
    "collapsed": false,
    "scrolled": true
   },
   "outputs": [
    {
     "name": "stdout",
     "output_type": "stream",
     "text": [
      "Float64Index([  0.0,   3.0,   7.0,   8.0,  10.0,  11.0,  12.0,  14.0,  16.0,\n",
      "               17.0,  19.0,  20.0,  21.0,  23.0,  24.0,  26.0,  29.0,  31.0,\n",
      "               33.0,  34.0,  35.0,  36.0,  37.0,  38.0,  39.0,  40.0,  41.0,\n",
      "               42.0,  43.0,  45.0,  46.0,  47.0,  48.0,  49.0,  50.0,  51.0,\n",
      "               52.0,  53.0,  54.0,  55.0,  56.0,  57.0,  58.0,  59.0,  60.0,\n",
      "               61.0,  63.0,  65.0,  66.0,  67.0,  68.0,  69.0,  70.0,  71.0,\n",
      "               72.0,  73.0,  74.0,  75.0,  77.0,  80.0,  83.0,  89.0,  92.0,\n",
      "               94.0, 100.0],\n",
      "             dtype='float64')\n",
      "0         69\n",
      "3         29\n",
      "7          5\n",
      "8         33\n",
      "10         1\n",
      "11         6\n",
      "12        34\n",
      "14         8\n",
      "16        81\n",
      "17        18\n",
      "19       181\n",
      "20        41\n",
      "21         7\n",
      "23       538\n",
      "24        11\n",
      "26      1050\n",
      "29      1927\n",
      "31      3067\n",
      "33       762\n",
      "34      3249\n",
      "35      1019\n",
      "36      4282\n",
      "37      1049\n",
      "38      4840\n",
      "39      1317\n",
      "40      6011\n",
      "41      4859\n",
      "42      1262\n",
      "43     10037\n",
      "45      3930\n",
      "       ...  \n",
      "51      1642\n",
      "52      1486\n",
      "53      1300\n",
      "54      1021\n",
      "55       256\n",
      "56      1162\n",
      "57      1092\n",
      "58       789\n",
      "59      1043\n",
      "60       956\n",
      "61       940\n",
      "63       960\n",
      "65       855\n",
      "66        38\n",
      "67       580\n",
      "68       388\n",
      "69       521\n",
      "70       387\n",
      "71       577\n",
      "72       503\n",
      "73       450\n",
      "74        87\n",
      "75       991\n",
      "77      1177\n",
      "80      1200\n",
      "83      1225\n",
      "89      1016\n",
      "92        65\n",
      "94       806\n",
      "100      375\n",
      "Name: PUNT_INGLES, dtype: int64\n",
      "Elementos null/NaN 0\n",
      "__________________\n",
      "Elementos diferentes de null/NaN: 86472\n",
      "__________________\n",
      "(86472,)\n",
      "None\n"
     ]
    }
   ],
   "source": [
    "c = 'PUNT_INGLES'\n",
    "print(data_2014[c].value_counts().sort_index().index)\n",
    "print(data_2014[c].value_counts().sort_index())\n",
    "print(missing_data(data_2014[c]))"
   ]
  },
  {
   "cell_type": "code",
   "execution_count": 569,
   "metadata": {
    "collapsed": false
   },
   "outputs": [
    {
     "name": "stdout",
     "output_type": "stream",
     "text": [
      "Index(['A-', 'A1', 'A2', 'B+', 'B1'], dtype='object')\n",
      "A-    41171\n",
      "A1    24541\n",
      "A2     8559\n",
      "B+     3487\n",
      "B1     8714\n",
      "Name: DESEMP_INGLES, dtype: int64\n",
      "Elementos null/NaN 0\n",
      "__________________\n",
      "Elementos diferentes de null/NaN: 86472\n",
      "__________________\n",
      "(86472,)\n",
      "None\n"
     ]
    }
   ],
   "source": [
    "c = 'DESEMP_INGLES'\n",
    "print(data_2014[c].value_counts().sort_index().index)\n",
    "print(data_2014[c].value_counts().sort_index())\n",
    "print(missing_data(data_2014[c]))"
   ]
  },
  {
   "cell_type": "code",
   "execution_count": 570,
   "metadata": {
    "collapsed": false
   },
   "outputs": [
    {
     "name": "stdout",
     "output_type": "stream",
     "text": [
      "Index(['MEDIO AMBIENTE', 'PROFUNDIZACIÓN EN BIOLOGÍA',\n",
      "       'PROFUNDIZACIÓN EN CIENCIAS SOCIALES', 'PROFUNDIZACIÓN EN LENGUAJE',\n",
      "       'PROFUNDIZACIÓN EN MATEMÁTICA', 'VIOLENCIA Y SOCIEDAD'],\n",
      "      dtype='object')\n",
      "MEDIO AMBIENTE                         25290\n",
      "PROFUNDIZACIÓN EN BIOLOGÍA             11688\n",
      "PROFUNDIZACIÓN EN CIENCIAS SOCIALES     5293\n",
      "PROFUNDIZACIÓN EN LENGUAJE              9609\n",
      "PROFUNDIZACIÓN EN MATEMÁTICA           10622\n",
      "VIOLENCIA Y SOCIEDAD                   23970\n",
      "Name: NOMBRE_COMP_FLEXIBLE, dtype: int64\n",
      "Elementos null/NaN 0\n",
      "__________________\n",
      "Elementos diferentes de null/NaN: 86472\n",
      "__________________\n",
      "(86472,)\n",
      "None\n"
     ]
    }
   ],
   "source": [
    "c = 'NOMBRE_COMP_FLEXIBLE'\n",
    "print(data_2014[c].value_counts().sort_index().index)\n",
    "print(data_2014[c].value_counts().sort_index())\n",
    "print(missing_data(data_2014[c]))"
   ]
  },
  {
   "cell_type": "code",
   "execution_count": 571,
   "metadata": {
    "collapsed": false,
    "scrolled": true
   },
   "outputs": [
    {
     "name": "stdout",
     "output_type": "stream",
     "text": [
      "Float64Index([ 0.0,  3.0,  4.0,  5.0,  6.0,  7.0,  8.0,  9.0, 11.0, 18.0, 21.0,\n",
      "              22.0, 25.0, 28.0, 29.0, 32.0, 33.0, 35.0, 36.0, 37.0, 38.0, 40.0,\n",
      "              41.0, 43.0, 44.0, 45.0, 46.0, 47.0, 48.0, 49.0, 50.0, 51.0, 52.0,\n",
      "              53.0, 54.0, 55.0, 56.0, 57.0, 59.0, 60.0, 65.0, 66.0, 72.0, 76.0,\n",
      "              77.0, 83.0],\n",
      "             dtype='float64')\n",
      "0       462\n",
      "3       342\n",
      "4      8304\n",
      "5     20633\n",
      "6      6753\n",
      "7       692\n",
      "8       116\n",
      "9        29\n",
      "11        2\n",
      "18      111\n",
      "21        5\n",
      "22      104\n",
      "25      325\n",
      "28       14\n",
      "29      921\n",
      "32       35\n",
      "33     1591\n",
      "35       47\n",
      "36     1274\n",
      "37      763\n",
      "38     1584\n",
      "40      976\n",
      "41     1686\n",
      "43     1023\n",
      "44     1911\n",
      "45      908\n",
      "46     2195\n",
      "47      859\n",
      "48     2142\n",
      "49     4010\n",
      "50     2545\n",
      "51     5930\n",
      "52     6683\n",
      "53     2777\n",
      "54     3036\n",
      "55     2516\n",
      "56      741\n",
      "57      571\n",
      "59      120\n",
      "60     1088\n",
      "65      164\n",
      "66      318\n",
      "72       82\n",
      "76        2\n",
      "77       73\n",
      "83        9\n",
      "Name: PUNT_COMP_FLEXIBLE, dtype: int64\n",
      "Elementos null/NaN 0\n",
      "__________________\n",
      "Elementos diferentes de null/NaN: 86472\n",
      "__________________\n",
      "(86472,)\n",
      "None\n"
     ]
    }
   ],
   "source": [
    "c = 'PUNT_COMP_FLEXIBLE'\n",
    "print(data_2014[c].value_counts().sort_index().index)\n",
    "print(data_2014[c].value_counts().sort_index())\n",
    "print(missing_data(data_2014[c]))"
   ]
  },
  {
   "cell_type": "code",
   "execution_count": 572,
   "metadata": {
    "collapsed": false
   },
   "outputs": [
    {
     "name": "stdout",
     "output_type": "stream",
     "text": [
      "Index(['GB', 'I', 'II', 'III'], dtype='object')\n",
      "GB     22886\n",
      "I      11702\n",
      "II      2365\n",
      "III      259\n",
      "Name: DESEMP_COMP_FLEXIBLE, dtype: int64\n",
      "Elementos null/NaN 49260\n",
      "__________________\n",
      "Elementos diferentes de null/NaN: 37212\n",
      "__________________\n",
      "(37212,)\n",
      "None\n"
     ]
    }
   ],
   "source": [
    "c = 'DESEMP_COMP_FLEXIBLE'\n",
    "print(data_2014[c].value_counts().sort_index().index)\n",
    "print(data_2014[c].value_counts().sort_index())\n",
    "print(missing_data(data_2014[c]))"
   ]
  },
  {
   "cell_type": "code",
   "execution_count": 573,
   "metadata": {
    "collapsed": false
   },
   "outputs": [
    {
     "name": "stdout",
     "output_type": "stream",
     "text": [
      "cant null antes: 49260\n",
      "cant null despues: 0\n"
     ]
    }
   ],
   "source": [
    "Do_resamples(data_2014, c, str)"
   ]
  },
  {
   "cell_type": "markdown",
   "metadata": {},
   "source": [
    "___"
   ]
  },
  {
   "cell_type": "markdown",
   "metadata": {},
   "source": [
    "___"
   ]
  },
  {
   "cell_type": "markdown",
   "metadata": {},
   "source": [
    "___"
   ]
  },
  {
   "cell_type": "markdown",
   "metadata": {},
   "source": [
    "___"
   ]
  },
  {
   "cell_type": "markdown",
   "metadata": {},
   "source": [
    "___"
   ]
  },
  {
   "cell_type": "markdown",
   "metadata": {},
   "source": [
    "___"
   ]
  },
  {
   "cell_type": "markdown",
   "metadata": {},
   "source": [
    "___"
   ]
  },
  {
   "cell_type": "markdown",
   "metadata": {},
   "source": [
    "## FILE 2: 2014_2"
   ]
  },
  {
   "cell_type": "code",
   "execution_count": 232,
   "metadata": {
    "collapsed": false
   },
   "outputs": [
    {
     "name": "stderr",
     "output_type": "stream",
     "text": [
      "/usr/local/lib/python3.4/dist-packages/IPython/core/interactiveshell.py:2902: DtypeWarning: Columns (9,10,11,12,13,14,114) have mixed types. Specify dtype option on import or set low_memory=False.\n",
      "  interactivity=interactivity, compiler=compiler, result=result)\n"
     ]
    }
   ],
   "source": [
    "data_2014_2 = pd.read_csv('../DatosFTPICFES/SABER11/SB11-BASES_DE_DATOS/SB11-20142-RGSTRO-CLFCCN-V3-0.txt', delimiter='|')"
   ]
  },
  {
   "cell_type": "code",
   "execution_count": 233,
   "metadata": {
    "collapsed": false
   },
   "outputs": [
    {
     "data": {
      "text/plain": [
       "(574395, 136)"
      ]
     },
     "execution_count": 233,
     "metadata": {},
     "output_type": "execute_result"
    }
   ],
   "source": [
    "data_2014_2.shape"
   ]
  },
  {
   "cell_type": "code",
   "execution_count": 234,
   "metadata": {
    "collapsed": false,
    "scrolled": true
   },
   "outputs": [
    {
     "data": {
      "text/html": [
       "<div>\n",
       "<table border=\"1\" class=\"dataframe\">\n",
       "  <thead>\n",
       "    <tr style=\"text-align: right;\">\n",
       "      <th></th>\n",
       "      <th>0</th>\n",
       "      <th>1</th>\n",
       "      <th>2</th>\n",
       "    </tr>\n",
       "  </thead>\n",
       "  <tbody>\n",
       "    <tr>\n",
       "      <th>PERIODO</th>\n",
       "      <td>20142</td>\n",
       "      <td>20142</td>\n",
       "      <td>20142</td>\n",
       "    </tr>\n",
       "    <tr>\n",
       "      <th>ESTU_CONSECUTIVO</th>\n",
       "      <td>SABER1120142000001</td>\n",
       "      <td>SABER1120142000002</td>\n",
       "      <td>SABER1120142000003</td>\n",
       "    </tr>\n",
       "    <tr>\n",
       "      <th>ESTU_ESTUDIANTE</th>\n",
       "      <td>ESTUDIANTE</td>\n",
       "      <td>ESTUDIANTE</td>\n",
       "      <td>ESTUDIANTE</td>\n",
       "    </tr>\n",
       "    <tr>\n",
       "      <th>ESTU_EDAD</th>\n",
       "      <td>17</td>\n",
       "      <td>17</td>\n",
       "      <td>17</td>\n",
       "    </tr>\n",
       "    <tr>\n",
       "      <th>ESTU_TIPO_DOCUMENTO</th>\n",
       "      <td>TI</td>\n",
       "      <td>TI</td>\n",
       "      <td>TI</td>\n",
       "    </tr>\n",
       "    <tr>\n",
       "      <th>ESTU_PAIS_RESIDE</th>\n",
       "      <td>1</td>\n",
       "      <td>1</td>\n",
       "      <td>1</td>\n",
       "    </tr>\n",
       "    <tr>\n",
       "      <th>ESTU_GENERO</th>\n",
       "      <td>M</td>\n",
       "      <td>M</td>\n",
       "      <td>F</td>\n",
       "    </tr>\n",
       "    <tr>\n",
       "      <th>ESTU_FECHA_NACIMIENTO</th>\n",
       "      <td>15/11/1996</td>\n",
       "      <td>06/12/1996</td>\n",
       "      <td>03/07/1997</td>\n",
       "    </tr>\n",
       "    <tr>\n",
       "      <th>ESTU_ETNIA</th>\n",
       "      <td>100</td>\n",
       "      <td>100</td>\n",
       "      <td>1</td>\n",
       "    </tr>\n",
       "    <tr>\n",
       "      <th>ESTU_LIMITA_MOTRIZ</th>\n",
       "      <td>NaN</td>\n",
       "      <td>NaN</td>\n",
       "      <td>NaN</td>\n",
       "    </tr>\n",
       "    <tr>\n",
       "      <th>ESTU_LIMITA_INVIDENTE</th>\n",
       "      <td>NaN</td>\n",
       "      <td>NaN</td>\n",
       "      <td>NaN</td>\n",
       "    </tr>\n",
       "    <tr>\n",
       "      <th>ESTU_LIMITA_CONDICIONESPECIAL</th>\n",
       "      <td>NaN</td>\n",
       "      <td>NaN</td>\n",
       "      <td>NaN</td>\n",
       "    </tr>\n",
       "    <tr>\n",
       "      <th>ESTU_LIMITA_SORDO</th>\n",
       "      <td>NaN</td>\n",
       "      <td>NaN</td>\n",
       "      <td>NaN</td>\n",
       "    </tr>\n",
       "    <tr>\n",
       "      <th>ESTU_LIMITA_SDOWN</th>\n",
       "      <td>NaN</td>\n",
       "      <td>NaN</td>\n",
       "      <td>NaN</td>\n",
       "    </tr>\n",
       "    <tr>\n",
       "      <th>ESTU_LIMITA_AUTISMO</th>\n",
       "      <td>NaN</td>\n",
       "      <td>NaN</td>\n",
       "      <td>NaN</td>\n",
       "    </tr>\n",
       "    <tr>\n",
       "      <th>COLE_COD_MCPIO_UBICACION</th>\n",
       "      <td>5001</td>\n",
       "      <td>5051</td>\n",
       "      <td>76109</td>\n",
       "    </tr>\n",
       "    <tr>\n",
       "      <th>ESTU_RESIDE_MCPIO</th>\n",
       "      <td>MEDELLIN</td>\n",
       "      <td>ARBOLETES</td>\n",
       "      <td>BUENAVENTURA</td>\n",
       "    </tr>\n",
       "    <tr>\n",
       "      <th>ESTU_RESIDE_DEPTO</th>\n",
       "      <td>ANTIOQUIA</td>\n",
       "      <td>ANTIOQUIA</td>\n",
       "      <td>VALLE</td>\n",
       "    </tr>\n",
       "    <tr>\n",
       "      <th>ESTU_COD_RESIDE_MCPIO</th>\n",
       "      <td>5001</td>\n",
       "      <td>5051</td>\n",
       "      <td>76109</td>\n",
       "    </tr>\n",
       "    <tr>\n",
       "      <th>ESTU_ZONA_RESIDE</th>\n",
       "      <td>6</td>\n",
       "      <td>10</td>\n",
       "      <td>10</td>\n",
       "    </tr>\n",
       "    <tr>\n",
       "      <th>COLE_COD_DANE_INSTITUCION</th>\n",
       "      <td>1.05001e+11</td>\n",
       "      <td>1.05051e+11</td>\n",
       "      <td>1.76109e+11</td>\n",
       "    </tr>\n",
       "    <tr>\n",
       "      <th>COLE_COD_ICFES</th>\n",
       "      <td>113324</td>\n",
       "      <td>38992</td>\n",
       "      <td>62232</td>\n",
       "    </tr>\n",
       "    <tr>\n",
       "      <th>COLE_NOMBRE_SEDE</th>\n",
       "      <td>INST EDUC FE Y ALEGRIA GRANIZAL</td>\n",
       "      <td>I. E. MIGUEL VICENTE GARRIDO ORTIZ</td>\n",
       "      <td>JOSE MARIA CABAL</td>\n",
       "    </tr>\n",
       "    <tr>\n",
       "      <th>COLE_JORNADA</th>\n",
       "      <td>M</td>\n",
       "      <td>M</td>\n",
       "      <td>M</td>\n",
       "    </tr>\n",
       "    <tr>\n",
       "      <th>COLE_GENERO</th>\n",
       "      <td>MIXTO</td>\n",
       "      <td>MIXTO</td>\n",
       "      <td>MIXTO</td>\n",
       "    </tr>\n",
       "    <tr>\n",
       "      <th>COLE_CARACTER</th>\n",
       "      <td>TÉCNICO/ACADÉMICO</td>\n",
       "      <td>TÉCNICO/ACADÉMICO</td>\n",
       "      <td>ACADÉMICO</td>\n",
       "    </tr>\n",
       "    <tr>\n",
       "      <th>COLE_NATURALEZA</th>\n",
       "      <td>OFICIAL</td>\n",
       "      <td>OFICIAL</td>\n",
       "      <td>OFICIAL</td>\n",
       "    </tr>\n",
       "    <tr>\n",
       "      <th>COLE_BILINGUE</th>\n",
       "      <td>N</td>\n",
       "      <td>N</td>\n",
       "      <td>N</td>\n",
       "    </tr>\n",
       "    <tr>\n",
       "      <th>COLE_CALENDARIO</th>\n",
       "      <td>A</td>\n",
       "      <td>A</td>\n",
       "      <td>A</td>\n",
       "    </tr>\n",
       "    <tr>\n",
       "      <th>ESTU_AREA_RESIDE</th>\n",
       "      <td>U</td>\n",
       "      <td>U</td>\n",
       "      <td>U</td>\n",
       "    </tr>\n",
       "    <tr>\n",
       "      <th>...</th>\n",
       "      <td>...</td>\n",
       "      <td>...</td>\n",
       "      <td>...</td>\n",
       "    </tr>\n",
       "    <tr>\n",
       "      <th>FAMI_AUTOMOVIL</th>\n",
       "      <td>N</td>\n",
       "      <td>N</td>\n",
       "      <td>N</td>\n",
       "    </tr>\n",
       "    <tr>\n",
       "      <th>FAMI_CELULAR</th>\n",
       "      <td>S</td>\n",
       "      <td>S</td>\n",
       "      <td>S</td>\n",
       "    </tr>\n",
       "    <tr>\n",
       "      <th>FAMI_NEVERA</th>\n",
       "      <td>S</td>\n",
       "      <td>S</td>\n",
       "      <td>S</td>\n",
       "    </tr>\n",
       "    <tr>\n",
       "      <th>FAMI_HORNO</th>\n",
       "      <td>S</td>\n",
       "      <td>N</td>\n",
       "      <td>S</td>\n",
       "    </tr>\n",
       "    <tr>\n",
       "      <th>FAMI_INGRESO_FMILIAR_MENSUAL</th>\n",
       "      <td>2</td>\n",
       "      <td>1</td>\n",
       "      <td>2</td>\n",
       "    </tr>\n",
       "    <tr>\n",
       "      <th>ESTU_TRABAJA</th>\n",
       "      <td>1</td>\n",
       "      <td>1</td>\n",
       "      <td>1</td>\n",
       "    </tr>\n",
       "    <tr>\n",
       "      <th>ESTU_RECIBE_SALARIO</th>\n",
       "      <td>NaN</td>\n",
       "      <td>NaN</td>\n",
       "      <td>NaN</td>\n",
       "    </tr>\n",
       "    <tr>\n",
       "      <th>ESTU_VECES_ESTADO</th>\n",
       "      <td>NaN</td>\n",
       "      <td>NaN</td>\n",
       "      <td>NaN</td>\n",
       "    </tr>\n",
       "    <tr>\n",
       "      <th>ESTU_COD_PLANTEL</th>\n",
       "      <td>NaN</td>\n",
       "      <td>NaN</td>\n",
       "      <td>NaN</td>\n",
       "    </tr>\n",
       "    <tr>\n",
       "      <th>ESTU_COD_DEPTO_PRESENTACION</th>\n",
       "      <td>5</td>\n",
       "      <td>5</td>\n",
       "      <td>76</td>\n",
       "    </tr>\n",
       "    <tr>\n",
       "      <th>ESTU_COD_MCPIO_PRESENTACION</th>\n",
       "      <td>5001</td>\n",
       "      <td>5051</td>\n",
       "      <td>76109</td>\n",
       "    </tr>\n",
       "    <tr>\n",
       "      <th>ESTU_MCPIO_PRESENTACION</th>\n",
       "      <td>MEDELLIN</td>\n",
       "      <td>ARBOLETES</td>\n",
       "      <td>BUENAVENTURA</td>\n",
       "    </tr>\n",
       "    <tr>\n",
       "      <th>ESTU_DEPTO_PRESENTACION</th>\n",
       "      <td>ANTIOQUIA</td>\n",
       "      <td>ANTIOQUIA</td>\n",
       "      <td>VALLE</td>\n",
       "    </tr>\n",
       "    <tr>\n",
       "      <th>DECIL_LECTURA_CRITICA</th>\n",
       "      <td>D09</td>\n",
       "      <td>D04</td>\n",
       "      <td>D09</td>\n",
       "    </tr>\n",
       "    <tr>\n",
       "      <th>PUNT_LECTURA_CRITICA</th>\n",
       "      <td>60</td>\n",
       "      <td>45</td>\n",
       "      <td>62</td>\n",
       "    </tr>\n",
       "    <tr>\n",
       "      <th>DECIL_MATEMATICAS</th>\n",
       "      <td>D08</td>\n",
       "      <td>D04</td>\n",
       "      <td>D05</td>\n",
       "    </tr>\n",
       "    <tr>\n",
       "      <th>PUNT_MATEMATICAS</th>\n",
       "      <td>58</td>\n",
       "      <td>47</td>\n",
       "      <td>49</td>\n",
       "    </tr>\n",
       "    <tr>\n",
       "      <th>DECIL_C_NATURALES</th>\n",
       "      <td>D08</td>\n",
       "      <td>D03</td>\n",
       "      <td>D08</td>\n",
       "    </tr>\n",
       "    <tr>\n",
       "      <th>PUNT_C_NATURALES</th>\n",
       "      <td>58</td>\n",
       "      <td>44</td>\n",
       "      <td>56</td>\n",
       "    </tr>\n",
       "    <tr>\n",
       "      <th>DECIL_SOCIALES_CIUDADANAS</th>\n",
       "      <td>D08</td>\n",
       "      <td>D07</td>\n",
       "      <td>D09</td>\n",
       "    </tr>\n",
       "    <tr>\n",
       "      <th>PUNT_SOCIALES_CIUDADANAS</th>\n",
       "      <td>59</td>\n",
       "      <td>54</td>\n",
       "      <td>62</td>\n",
       "    </tr>\n",
       "    <tr>\n",
       "      <th>DECIL_INGLES</th>\n",
       "      <td>D08</td>\n",
       "      <td>D03</td>\n",
       "      <td>D01</td>\n",
       "    </tr>\n",
       "    <tr>\n",
       "      <th>DESEMP_INGLES</th>\n",
       "      <td>A1</td>\n",
       "      <td>A-</td>\n",
       "      <td>A-</td>\n",
       "    </tr>\n",
       "    <tr>\n",
       "      <th>PUNT_INGLES</th>\n",
       "      <td>53</td>\n",
       "      <td>45</td>\n",
       "      <td>39</td>\n",
       "    </tr>\n",
       "    <tr>\n",
       "      <th>DECIL_RAZONA_CUANT</th>\n",
       "      <td>D10</td>\n",
       "      <td>D05</td>\n",
       "      <td>D03</td>\n",
       "    </tr>\n",
       "    <tr>\n",
       "      <th>PUNT_RAZONA_CUANT</th>\n",
       "      <td>65</td>\n",
       "      <td>49</td>\n",
       "      <td>44</td>\n",
       "    </tr>\n",
       "    <tr>\n",
       "      <th>DECIL_COMP_CIUDADANA</th>\n",
       "      <td>D07</td>\n",
       "      <td>D07</td>\n",
       "      <td>D09</td>\n",
       "    </tr>\n",
       "    <tr>\n",
       "      <th>PUNT_COMP_CIUDADANA</th>\n",
       "      <td>56</td>\n",
       "      <td>56</td>\n",
       "      <td>62</td>\n",
       "    </tr>\n",
       "    <tr>\n",
       "      <th>PUNT_GLOBAL</th>\n",
       "      <td>292</td>\n",
       "      <td>237</td>\n",
       "      <td>279</td>\n",
       "    </tr>\n",
       "    <tr>\n",
       "      <th>ESTU_PUESTO</th>\n",
       "      <td>164</td>\n",
       "      <td>589</td>\n",
       "      <td>233</td>\n",
       "    </tr>\n",
       "  </tbody>\n",
       "</table>\n",
       "<p>136 rows × 3 columns</p>\n",
       "</div>"
      ],
      "text/plain": [
       "                                                             0  \\\n",
       "PERIODO                                                  20142   \n",
       "ESTU_CONSECUTIVO                            SABER1120142000001   \n",
       "ESTU_ESTUDIANTE                                     ESTUDIANTE   \n",
       "ESTU_EDAD                                                   17   \n",
       "ESTU_TIPO_DOCUMENTO                                         TI   \n",
       "ESTU_PAIS_RESIDE                                             1   \n",
       "ESTU_GENERO                                                  M   \n",
       "ESTU_FECHA_NACIMIENTO                               15/11/1996   \n",
       "ESTU_ETNIA                                                 100   \n",
       "ESTU_LIMITA_MOTRIZ                                         NaN   \n",
       "ESTU_LIMITA_INVIDENTE                                      NaN   \n",
       "ESTU_LIMITA_CONDICIONESPECIAL                              NaN   \n",
       "ESTU_LIMITA_SORDO                                          NaN   \n",
       "ESTU_LIMITA_SDOWN                                          NaN   \n",
       "ESTU_LIMITA_AUTISMO                                        NaN   \n",
       "COLE_COD_MCPIO_UBICACION                                  5001   \n",
       "ESTU_RESIDE_MCPIO                                     MEDELLIN   \n",
       "ESTU_RESIDE_DEPTO                                    ANTIOQUIA   \n",
       "ESTU_COD_RESIDE_MCPIO                                     5001   \n",
       "ESTU_ZONA_RESIDE                                             6   \n",
       "COLE_COD_DANE_INSTITUCION                          1.05001e+11   \n",
       "COLE_COD_ICFES                                          113324   \n",
       "COLE_NOMBRE_SEDE               INST EDUC FE Y ALEGRIA GRANIZAL   \n",
       "COLE_JORNADA                                                 M   \n",
       "COLE_GENERO                                              MIXTO   \n",
       "COLE_CARACTER                                TÉCNICO/ACADÉMICO   \n",
       "COLE_NATURALEZA                                        OFICIAL   \n",
       "COLE_BILINGUE                                                N   \n",
       "COLE_CALENDARIO                                              A   \n",
       "ESTU_AREA_RESIDE                                             U   \n",
       "...                                                        ...   \n",
       "FAMI_AUTOMOVIL                                               N   \n",
       "FAMI_CELULAR                                                 S   \n",
       "FAMI_NEVERA                                                  S   \n",
       "FAMI_HORNO                                                   S   \n",
       "FAMI_INGRESO_FMILIAR_MENSUAL                                 2   \n",
       "ESTU_TRABAJA                                                 1   \n",
       "ESTU_RECIBE_SALARIO                                        NaN   \n",
       "ESTU_VECES_ESTADO                                          NaN   \n",
       "ESTU_COD_PLANTEL                                           NaN   \n",
       "ESTU_COD_DEPTO_PRESENTACION                                  5   \n",
       "ESTU_COD_MCPIO_PRESENTACION                               5001   \n",
       "ESTU_MCPIO_PRESENTACION                               MEDELLIN   \n",
       "ESTU_DEPTO_PRESENTACION                              ANTIOQUIA   \n",
       "DECIL_LECTURA_CRITICA                                      D09   \n",
       "PUNT_LECTURA_CRITICA                                        60   \n",
       "DECIL_MATEMATICAS                                          D08   \n",
       "PUNT_MATEMATICAS                                            58   \n",
       "DECIL_C_NATURALES                                          D08   \n",
       "PUNT_C_NATURALES                                            58   \n",
       "DECIL_SOCIALES_CIUDADANAS                                  D08   \n",
       "PUNT_SOCIALES_CIUDADANAS                                    59   \n",
       "DECIL_INGLES                                               D08   \n",
       "DESEMP_INGLES                                               A1   \n",
       "PUNT_INGLES                                                 53   \n",
       "DECIL_RAZONA_CUANT                                         D10   \n",
       "PUNT_RAZONA_CUANT                                           65   \n",
       "DECIL_COMP_CIUDADANA                                       D07   \n",
       "PUNT_COMP_CIUDADANA                                         56   \n",
       "PUNT_GLOBAL                                                292   \n",
       "ESTU_PUESTO                                                164   \n",
       "\n",
       "                                                                1  \\\n",
       "PERIODO                                                     20142   \n",
       "ESTU_CONSECUTIVO                               SABER1120142000002   \n",
       "ESTU_ESTUDIANTE                                        ESTUDIANTE   \n",
       "ESTU_EDAD                                                      17   \n",
       "ESTU_TIPO_DOCUMENTO                                            TI   \n",
       "ESTU_PAIS_RESIDE                                                1   \n",
       "ESTU_GENERO                                                     M   \n",
       "ESTU_FECHA_NACIMIENTO                                  06/12/1996   \n",
       "ESTU_ETNIA                                                    100   \n",
       "ESTU_LIMITA_MOTRIZ                                            NaN   \n",
       "ESTU_LIMITA_INVIDENTE                                         NaN   \n",
       "ESTU_LIMITA_CONDICIONESPECIAL                                 NaN   \n",
       "ESTU_LIMITA_SORDO                                             NaN   \n",
       "ESTU_LIMITA_SDOWN                                             NaN   \n",
       "ESTU_LIMITA_AUTISMO                                           NaN   \n",
       "COLE_COD_MCPIO_UBICACION                                     5051   \n",
       "ESTU_RESIDE_MCPIO                                       ARBOLETES   \n",
       "ESTU_RESIDE_DEPTO                                       ANTIOQUIA   \n",
       "ESTU_COD_RESIDE_MCPIO                                        5051   \n",
       "ESTU_ZONA_RESIDE                                               10   \n",
       "COLE_COD_DANE_INSTITUCION                             1.05051e+11   \n",
       "COLE_COD_ICFES                                              38992   \n",
       "COLE_NOMBRE_SEDE               I. E. MIGUEL VICENTE GARRIDO ORTIZ   \n",
       "COLE_JORNADA                                                    M   \n",
       "COLE_GENERO                                                 MIXTO   \n",
       "COLE_CARACTER                                   TÉCNICO/ACADÉMICO   \n",
       "COLE_NATURALEZA                                           OFICIAL   \n",
       "COLE_BILINGUE                                                   N   \n",
       "COLE_CALENDARIO                                                 A   \n",
       "ESTU_AREA_RESIDE                                                U   \n",
       "...                                                           ...   \n",
       "FAMI_AUTOMOVIL                                                  N   \n",
       "FAMI_CELULAR                                                    S   \n",
       "FAMI_NEVERA                                                     S   \n",
       "FAMI_HORNO                                                      N   \n",
       "FAMI_INGRESO_FMILIAR_MENSUAL                                    1   \n",
       "ESTU_TRABAJA                                                    1   \n",
       "ESTU_RECIBE_SALARIO                                           NaN   \n",
       "ESTU_VECES_ESTADO                                             NaN   \n",
       "ESTU_COD_PLANTEL                                              NaN   \n",
       "ESTU_COD_DEPTO_PRESENTACION                                     5   \n",
       "ESTU_COD_MCPIO_PRESENTACION                                  5051   \n",
       "ESTU_MCPIO_PRESENTACION                                 ARBOLETES   \n",
       "ESTU_DEPTO_PRESENTACION                                 ANTIOQUIA   \n",
       "DECIL_LECTURA_CRITICA                                         D04   \n",
       "PUNT_LECTURA_CRITICA                                           45   \n",
       "DECIL_MATEMATICAS                                             D04   \n",
       "PUNT_MATEMATICAS                                               47   \n",
       "DECIL_C_NATURALES                                             D03   \n",
       "PUNT_C_NATURALES                                               44   \n",
       "DECIL_SOCIALES_CIUDADANAS                                     D07   \n",
       "PUNT_SOCIALES_CIUDADANAS                                       54   \n",
       "DECIL_INGLES                                                  D03   \n",
       "DESEMP_INGLES                                                  A-   \n",
       "PUNT_INGLES                                                    45   \n",
       "DECIL_RAZONA_CUANT                                            D05   \n",
       "PUNT_RAZONA_CUANT                                              49   \n",
       "DECIL_COMP_CIUDADANA                                          D07   \n",
       "PUNT_COMP_CIUDADANA                                            56   \n",
       "PUNT_GLOBAL                                                   237   \n",
       "ESTU_PUESTO                                                   589   \n",
       "\n",
       "                                                2  \n",
       "PERIODO                                     20142  \n",
       "ESTU_CONSECUTIVO               SABER1120142000003  \n",
       "ESTU_ESTUDIANTE                        ESTUDIANTE  \n",
       "ESTU_EDAD                                      17  \n",
       "ESTU_TIPO_DOCUMENTO                            TI  \n",
       "ESTU_PAIS_RESIDE                                1  \n",
       "ESTU_GENERO                                     F  \n",
       "ESTU_FECHA_NACIMIENTO                  03/07/1997  \n",
       "ESTU_ETNIA                                      1  \n",
       "ESTU_LIMITA_MOTRIZ                            NaN  \n",
       "ESTU_LIMITA_INVIDENTE                         NaN  \n",
       "ESTU_LIMITA_CONDICIONESPECIAL                 NaN  \n",
       "ESTU_LIMITA_SORDO                             NaN  \n",
       "ESTU_LIMITA_SDOWN                             NaN  \n",
       "ESTU_LIMITA_AUTISMO                           NaN  \n",
       "COLE_COD_MCPIO_UBICACION                    76109  \n",
       "ESTU_RESIDE_MCPIO                    BUENAVENTURA  \n",
       "ESTU_RESIDE_DEPTO                           VALLE  \n",
       "ESTU_COD_RESIDE_MCPIO                       76109  \n",
       "ESTU_ZONA_RESIDE                               10  \n",
       "COLE_COD_DANE_INSTITUCION             1.76109e+11  \n",
       "COLE_COD_ICFES                              62232  \n",
       "COLE_NOMBRE_SEDE                 JOSE MARIA CABAL  \n",
       "COLE_JORNADA                                    M  \n",
       "COLE_GENERO                                 MIXTO  \n",
       "COLE_CARACTER                           ACADÉMICO  \n",
       "COLE_NATURALEZA                           OFICIAL  \n",
       "COLE_BILINGUE                                   N  \n",
       "COLE_CALENDARIO                                 A  \n",
       "ESTU_AREA_RESIDE                                U  \n",
       "...                                           ...  \n",
       "FAMI_AUTOMOVIL                                  N  \n",
       "FAMI_CELULAR                                    S  \n",
       "FAMI_NEVERA                                     S  \n",
       "FAMI_HORNO                                      S  \n",
       "FAMI_INGRESO_FMILIAR_MENSUAL                    2  \n",
       "ESTU_TRABAJA                                    1  \n",
       "ESTU_RECIBE_SALARIO                           NaN  \n",
       "ESTU_VECES_ESTADO                             NaN  \n",
       "ESTU_COD_PLANTEL                              NaN  \n",
       "ESTU_COD_DEPTO_PRESENTACION                    76  \n",
       "ESTU_COD_MCPIO_PRESENTACION                 76109  \n",
       "ESTU_MCPIO_PRESENTACION              BUENAVENTURA  \n",
       "ESTU_DEPTO_PRESENTACION                     VALLE  \n",
       "DECIL_LECTURA_CRITICA                         D09  \n",
       "PUNT_LECTURA_CRITICA                           62  \n",
       "DECIL_MATEMATICAS                             D05  \n",
       "PUNT_MATEMATICAS                               49  \n",
       "DECIL_C_NATURALES                             D08  \n",
       "PUNT_C_NATURALES                               56  \n",
       "DECIL_SOCIALES_CIUDADANAS                     D09  \n",
       "PUNT_SOCIALES_CIUDADANAS                       62  \n",
       "DECIL_INGLES                                  D01  \n",
       "DESEMP_INGLES                                  A-  \n",
       "PUNT_INGLES                                    39  \n",
       "DECIL_RAZONA_CUANT                            D03  \n",
       "PUNT_RAZONA_CUANT                              44  \n",
       "DECIL_COMP_CIUDADANA                          D09  \n",
       "PUNT_COMP_CIUDADANA                            62  \n",
       "PUNT_GLOBAL                                   279  \n",
       "ESTU_PUESTO                                   233  \n",
       "\n",
       "[136 rows x 3 columns]"
      ]
     },
     "execution_count": 234,
     "metadata": {},
     "output_type": "execute_result"
    }
   ],
   "source": [
    "data_2014_2.head(3).T"
   ]
  },
  {
   "cell_type": "code",
   "execution_count": 235,
   "metadata": {
    "collapsed": true
   },
   "outputs": [],
   "source": [
    "data_2014_2 = data_2014_2.drop(['PERIODO', 'ESTU_CONSECUTIVO', 'ESTU_TIPO_DOCUMENTO', 'COLE_NOMBRE_SEDE',\n",
    "                               'ESTU_IES_DESEADA_NOMBRE', 'ESTU_IES_COD_MPIO_DESEADA', 'ESTU_COD_MCPIO_PRESENTACION',\n",
    "                               'ESTU_COD_DEPTO_PRESENTACION'], axis=1)"
   ]
  },
  {
   "cell_type": "code",
   "execution_count": 236,
   "metadata": {
    "collapsed": false
   },
   "outputs": [
    {
     "name": "stdout",
     "output_type": "stream",
     "text": [
      "Index(['ESTUDIANTE', 'INDIVIDUAL'], dtype='object')\n",
      "ESTUDIANTE    549772\n",
      "INDIVIDUAL     24623\n",
      "Name: ESTU_ESTUDIANTE, dtype: int64\n",
      "Elementos null/NaN 0\n",
      "__________________\n",
      "Elementos diferentes de null/NaN: 574395\n",
      "__________________\n",
      "(574395,)\n",
      "None\n"
     ]
    }
   ],
   "source": [
    "c = 'ESTU_ESTUDIANTE'\n",
    "print(data_2014_2[c].value_counts().sort_index().index)\n",
    "print(data_2014_2[c].value_counts().sort_index())\n",
    "print(missing_data(data_2014_2[c]))"
   ]
  },
  {
   "cell_type": "code",
   "execution_count": 237,
   "metadata": {
    "collapsed": false,
    "scrolled": true
   },
   "outputs": [
    {
     "name": "stdout",
     "output_type": "stream",
     "text": [
      "Float64Index([  0.0,   1.0,   2.0,   3.0,   4.0,   5.0,   6.0,   7.0,   8.0,\n",
      "                9.0,  10.0,  11.0,  12.0,  13.0,  14.0,  15.0,  16.0,  17.0,\n",
      "               18.0,  19.0,  20.0,  21.0,  22.0,  23.0,  24.0,  25.0,  26.0,\n",
      "               27.0,  28.0,  29.0,  30.0,  31.0,  32.0,  33.0,  34.0,  35.0,\n",
      "               36.0,  37.0,  38.0,  39.0,  40.0,  41.0,  42.0,  43.0,  44.0,\n",
      "               45.0,  46.0,  47.0,  48.0,  49.0,  50.0,  51.0,  52.0,  53.0,\n",
      "               54.0,  55.0,  56.0,  57.0,  58.0,  59.0,  60.0,  61.0,  62.0,\n",
      "               63.0,  64.0,  65.0,  66.0,  67.0,  68.0,  69.0,  70.0,  71.0,\n",
      "               72.0,  73.0,  74.0,  75.0,  76.0,  77.0,  78.0,  79.0,  83.0,\n",
      "               84.0,  88.0,  95.0,  97.0,  98.0,  99.0, 100.0],\n",
      "             dtype='float64')\n",
      "0        1820\n",
      "1         156\n",
      "2          14\n",
      "3          10\n",
      "4          24\n",
      "5          20\n",
      "6          64\n",
      "7          75\n",
      "8          53\n",
      "9          35\n",
      "10         18\n",
      "11         14\n",
      "12         16\n",
      "13         45\n",
      "14       1138\n",
      "15      28187\n",
      "16     198211\n",
      "17     163326\n",
      "18      84092\n",
      "19      34964\n",
      "20      14209\n",
      "21       7421\n",
      "22       4703\n",
      "23       3613\n",
      "24       2796\n",
      "25       2553\n",
      "26       2172\n",
      "27       2021\n",
      "28       1853\n",
      "29       1795\n",
      "        ...  \n",
      "58        105\n",
      "59         64\n",
      "60         61\n",
      "61         57\n",
      "62         39\n",
      "63         42\n",
      "64         39\n",
      "65         22\n",
      "66         15\n",
      "67         21\n",
      "68         17\n",
      "69          7\n",
      "70         11\n",
      "71          5\n",
      "72          2\n",
      "73          3\n",
      "74          3\n",
      "75          1\n",
      "76          2\n",
      "77          1\n",
      "78          1\n",
      "79          2\n",
      "83          1\n",
      "84          1\n",
      "88          1\n",
      "95          1\n",
      "97          1\n",
      "98          2\n",
      "99          5\n",
      "100         1\n",
      "Name: ESTU_EDAD, dtype: int64\n",
      "Elementos null/NaN 16\n",
      "__________________\n",
      "Elementos diferentes de null/NaN: 574379\n",
      "__________________\n",
      "(574379,)\n",
      "None\n"
     ]
    }
   ],
   "source": [
    "c = 'ESTU_EDAD'\n",
    "print(data_2014_2[c].value_counts().sort_index().index)\n",
    "print(data_2014_2[c].value_counts().sort_index())\n",
    "print(missing_data(data_2014_2[c]))"
   ]
  },
  {
   "cell_type": "code",
   "execution_count": 238,
   "metadata": {
    "collapsed": false
   },
   "outputs": [],
   "source": [
    "for i in data_2014_2[c].value_counts().sort_index().index:\n",
    "    if i < 9:\n",
    "        data_2014_2[c] = data_2014_2[c].replace(i, np.nan)\n",
    "    elif i > 80:\n",
    "        data_2014_2[c] = data_2014_2[c].replace(i, np.nan)\n",
    "        \n",
    "data_2014_2[c].fillna(int(np.mean(data_2014_2[c])), inplace=True)"
   ]
  },
  {
   "cell_type": "code",
   "execution_count": 239,
   "metadata": {
    "collapsed": false,
    "scrolled": true
   },
   "outputs": [
    {
     "name": "stdout",
     "output_type": "stream",
     "text": [
      "Int64Index([  1,  12,  33,  42,  46,  47,  50,  54,  57,  64,  65,  99, 104,\n",
      "            110, 112, 119, 124, 144, 166, 167, 174, 175, 178, 183, 206, 209,\n",
      "            236, 238, 241],\n",
      "           dtype='int64')\n",
      "1      574269\n",
      "12          8\n",
      "33          2\n",
      "42          1\n",
      "46          2\n",
      "47          1\n",
      "50          1\n",
      "54          1\n",
      "57          1\n",
      "64          2\n",
      "65         11\n",
      "99          1\n",
      "104         1\n",
      "110         2\n",
      "112         2\n",
      "119         1\n",
      "124         1\n",
      "144         5\n",
      "166         1\n",
      "167         1\n",
      "174        15\n",
      "175         1\n",
      "178         2\n",
      "183         2\n",
      "206         1\n",
      "209        10\n",
      "236         6\n",
      "238         1\n",
      "241        43\n",
      "Name: ESTU_PAIS_RESIDE, dtype: int64\n",
      "Elementos null/NaN 0\n",
      "__________________\n",
      "Elementos diferentes de null/NaN: 574395\n",
      "__________________\n",
      "(574395,)\n",
      "None\n"
     ]
    }
   ],
   "source": [
    "c = 'ESTU_PAIS_RESIDE'\n",
    "print(data_2014_2[c].value_counts().sort_index().index)\n",
    "print(data_2014_2[c].value_counts().sort_index())\n",
    "print(missing_data(data_2014_2[c]))"
   ]
  },
  {
   "cell_type": "code",
   "execution_count": 240,
   "metadata": {
    "collapsed": false
   },
   "outputs": [
    {
     "name": "stdout",
     "output_type": "stream",
     "text": [
      "cant null antes: 0\n",
      "cant null despues: 0\n"
     ]
    }
   ],
   "source": [
    "Do_resamples(data_2014_2, c, int)"
   ]
  },
  {
   "cell_type": "code",
   "execution_count": 241,
   "metadata": {
    "collapsed": false
   },
   "outputs": [
    {
     "name": "stdout",
     "output_type": "stream",
     "text": [
      "Index(['F', 'M'], dtype='object')\n",
      "F    314147\n",
      "M    259713\n",
      "Name: ESTU_GENERO, dtype: int64\n",
      "Elementos null/NaN 535\n",
      "__________________\n",
      "Elementos diferentes de null/NaN: 573860\n",
      "__________________\n",
      "(573860,)\n",
      "None\n"
     ]
    }
   ],
   "source": [
    "c = 'ESTU_GENERO'\n",
    "print(data_2014_2[c].value_counts().sort_index().index)\n",
    "print(data_2014_2[c].value_counts().sort_index())\n",
    "print(missing_data(data_2014_2[c]))"
   ]
  },
  {
   "cell_type": "code",
   "execution_count": 242,
   "metadata": {
    "collapsed": false
   },
   "outputs": [
    {
     "name": "stdout",
     "output_type": "stream",
     "text": [
      "cant null antes: 535\n",
      "cant null despues: 0\n"
     ]
    }
   ],
   "source": [
    "Do_resamples(data_2014_2, c, str)"
   ]
  },
  {
   "cell_type": "code",
   "execution_count": 243,
   "metadata": {
    "collapsed": false,
    "scrolled": true
   },
   "outputs": [
    {
     "name": "stdout",
     "output_type": "stream",
     "text": [
      "Index(['01/01/1953', '01/01/1956', '01/01/1959', '01/01/1960', '01/01/1961',\n",
      "       '01/01/1962', '01/01/1963', '01/01/1964', '01/01/1966', '01/01/1968',\n",
      "       ...\n",
      "       '31/12/1992', '31/12/1993', '31/12/1994', '31/12/1995', '31/12/1996',\n",
      "       '31/12/1997', '31/12/1998', '31/12/1999', '31/12/2005', '31/12/2013'],\n",
      "      dtype='object', length=14258)\n",
      "01/01/1953      1\n",
      "01/01/1956      1\n",
      "01/01/1959      2\n",
      "01/01/1960      1\n",
      "01/01/1961      1\n",
      "01/01/1962      4\n",
      "01/01/1963      1\n",
      "01/01/1964      1\n",
      "01/01/1966      1\n",
      "01/01/1968      1\n",
      "01/01/1969      2\n",
      "01/01/1970      1\n",
      "01/01/1971      1\n",
      "01/01/1972      2\n",
      "01/01/1973      1\n",
      "01/01/1974      6\n",
      "01/01/1975      3\n",
      "01/01/1976      5\n",
      "01/01/1977     12\n",
      "01/01/1978      5\n",
      "01/01/1979      6\n",
      "01/01/1980     12\n",
      "01/01/1981      4\n",
      "01/01/1982      5\n",
      "01/01/1983      5\n",
      "01/01/1984      5\n",
      "01/01/1985     16\n",
      "01/01/1986      8\n",
      "01/01/1987     14\n",
      "01/01/1988      6\n",
      "             ... \n",
      "31/12/1969      1\n",
      "31/12/1972      2\n",
      "31/12/1973      1\n",
      "31/12/1974      6\n",
      "31/12/1975      1\n",
      "31/12/1976      7\n",
      "31/12/1977      6\n",
      "31/12/1978      1\n",
      "31/12/1979      2\n",
      "31/12/1980      2\n",
      "31/12/1981      4\n",
      "31/12/1983      3\n",
      "31/12/1984     10\n",
      "31/12/1985      4\n",
      "31/12/1986      6\n",
      "31/12/1987      6\n",
      "31/12/1988      3\n",
      "31/12/1989      6\n",
      "31/12/1990     11\n",
      "31/12/1991     18\n",
      "31/12/1992     10\n",
      "31/12/1993     22\n",
      "31/12/1994     84\n",
      "31/12/1995    166\n",
      "31/12/1996    351\n",
      "31/12/1997    587\n",
      "31/12/1998     83\n",
      "31/12/1999      2\n",
      "31/12/2005      1\n",
      "31/12/2013      2\n",
      "Name: ESTU_FECHA_NACIMIENTO, dtype: int64\n",
      "Elementos null/NaN 0\n",
      "__________________\n",
      "Elementos diferentes de null/NaN: 574395\n",
      "__________________\n",
      "(574395,)\n",
      "None\n"
     ]
    }
   ],
   "source": [
    "c = 'ESTU_FECHA_NACIMIENTO'\n",
    "print(data_2014_2[c].value_counts().sort_index().index)\n",
    "print(data_2014_2[c].value_counts().sort_index())\n",
    "print(missing_data(data_2014_2[c]))"
   ]
  },
  {
   "cell_type": "code",
   "execution_count": 244,
   "metadata": {
    "collapsed": true
   },
   "outputs": [],
   "source": [
    "Sep_Col = pd.DataFrame(data_2014_2.ESTU_FECHA_NACIMIENTO.str.split('/').tolist(), columns=['ESTU_NACIMIENTO_DIA', \n",
    "                                                                                         'ESTU_NACIMIENTO_MES',\n",
    "                                                                                         'ESTU_NACIMIENTO_ANNO'])\n",
    "data_2014_2 = pd.concat([data_2014_2, Sep_Col], axis=1)\n",
    "data_2014_2 = data_2014_2.drop(c, axis=1)"
   ]
  },
  {
   "cell_type": "code",
   "execution_count": 245,
   "metadata": {
    "collapsed": false,
    "scrolled": true
   },
   "outputs": [
    {
     "name": "stdout",
     "output_type": "stream",
     "text": [
      "Float64Index([  1.0,   2.0,   3.0,   4.0,   5.0,   6.0,   7.0,   8.0,   9.0,\n",
      "               10.0,  11.0,  12.0,  13.0,  14.0,  16.0,  17.0,  18.0,  19.0,\n",
      "              100.0],\n",
      "             dtype='float64')\n",
      "1       29257\n",
      "2         285\n",
      "3        1528\n",
      "4         405\n",
      "5          80\n",
      "6        1258\n",
      "7        2574\n",
      "8         378\n",
      "9         163\n",
      "10        146\n",
      "11          1\n",
      "12        377\n",
      "13        298\n",
      "14        221\n",
      "16       2172\n",
      "17       1969\n",
      "18       4480\n",
      "19      30234\n",
      "100    484184\n",
      "Name: ESTU_ETNIA, dtype: int64\n",
      "Elementos null/NaN 14385\n",
      "__________________\n",
      "Elementos diferentes de null/NaN: 560010\n",
      "__________________\n",
      "(560010,)\n",
      "None\n"
     ]
    }
   ],
   "source": [
    "c = 'ESTU_ETNIA'\n",
    "print(data_2014_2[c].value_counts().sort_index().index)\n",
    "print(data_2014_2[c].value_counts().sort_index())\n",
    "print(missing_data(data_2014_2[c]))"
   ]
  },
  {
   "cell_type": "code",
   "execution_count": 246,
   "metadata": {
    "collapsed": true
   },
   "outputs": [],
   "source": [
    "data_2014_2[c].fillna(100, inplace=True)"
   ]
  },
  {
   "cell_type": "code",
   "execution_count": 247,
   "metadata": {
    "collapsed": false
   },
   "outputs": [
    {
     "name": "stdout",
     "output_type": "stream",
     "text": [
      "Index(['MOT'], dtype='object')\n",
      "MOT    520\n",
      "Name: ESTU_LIMITA_MOTRIZ, dtype: int64\n",
      "Elementos null/NaN 573875\n",
      "__________________\n",
      "Elementos diferentes de null/NaN: 520\n",
      "__________________\n",
      "(520,)\n",
      "None\n"
     ]
    }
   ],
   "source": [
    "c = 'ESTU_LIMITA_MOTRIZ'\n",
    "print(data_2014_2[c].value_counts().sort_index().index)\n",
    "print(data_2014_2[c].value_counts().sort_index())\n",
    "print(missing_data(data_2014_2[c]))"
   ]
  },
  {
   "cell_type": "code",
   "execution_count": 248,
   "metadata": {
    "collapsed": true
   },
   "outputs": [],
   "source": [
    "data_2014_2 = data_2014_2.drop(c, axis=1)"
   ]
  },
  {
   "cell_type": "code",
   "execution_count": 249,
   "metadata": {
    "collapsed": false
   },
   "outputs": [
    {
     "name": "stdout",
     "output_type": "stream",
     "text": [
      "Index(['VIS'], dtype='object')\n",
      "VIS    172\n",
      "Name: ESTU_LIMITA_INVIDENTE, dtype: int64\n",
      "Elementos null/NaN 574223\n",
      "__________________\n",
      "Elementos diferentes de null/NaN: 172\n",
      "__________________\n",
      "(172,)\n",
      "None\n"
     ]
    }
   ],
   "source": [
    "c = 'ESTU_LIMITA_INVIDENTE'\n",
    "print(data_2014_2[c].value_counts().sort_index().index)\n",
    "print(data_2014_2[c].value_counts().sort_index())\n",
    "print(missing_data(data_2014_2[c]))"
   ]
  },
  {
   "cell_type": "code",
   "execution_count": 250,
   "metadata": {
    "collapsed": true
   },
   "outputs": [],
   "source": [
    "data_2014_2 = data_2014_2.drop(c, axis=1)"
   ]
  },
  {
   "cell_type": "code",
   "execution_count": 251,
   "metadata": {
    "collapsed": false
   },
   "outputs": [
    {
     "name": "stdout",
     "output_type": "stream",
     "text": [
      "Index(['CE'], dtype='object')\n",
      "CE    337\n",
      "Name: ESTU_LIMITA_CONDICIONESPECIAL, dtype: int64\n",
      "Elementos null/NaN 574058\n",
      "__________________\n",
      "Elementos diferentes de null/NaN: 337\n",
      "__________________\n",
      "(337,)\n",
      "None\n"
     ]
    }
   ],
   "source": [
    "c = 'ESTU_LIMITA_CONDICIONESPECIAL'\n",
    "print(data_2014_2[c].value_counts().sort_index().index)\n",
    "print(data_2014_2[c].value_counts().sort_index())\n",
    "print(missing_data(data_2014_2[c]))"
   ]
  },
  {
   "cell_type": "code",
   "execution_count": 252,
   "metadata": {
    "collapsed": true
   },
   "outputs": [],
   "source": [
    "data_2014_2 = data_2014_2.drop(c, axis=1)"
   ]
  },
  {
   "cell_type": "code",
   "execution_count": 253,
   "metadata": {
    "collapsed": false
   },
   "outputs": [
    {
     "name": "stdout",
     "output_type": "stream",
     "text": [
      "Index(['AUD'], dtype='object')\n",
      "AUD    136\n",
      "Name: ESTU_LIMITA_SORDO, dtype: int64\n",
      "Elementos null/NaN 574259\n",
      "__________________\n",
      "Elementos diferentes de null/NaN: 136\n",
      "__________________\n",
      "(136,)\n",
      "None\n"
     ]
    }
   ],
   "source": [
    "c = 'ESTU_LIMITA_SORDO'\n",
    "print(data_2014_2[c].value_counts().sort_index().index)\n",
    "print(data_2014_2[c].value_counts().sort_index())\n",
    "print(missing_data(data_2014_2[c]))"
   ]
  },
  {
   "cell_type": "code",
   "execution_count": 254,
   "metadata": {
    "collapsed": true
   },
   "outputs": [],
   "source": [
    "data_2014_2 = data_2014_2.drop(c, axis=1)"
   ]
  },
  {
   "cell_type": "code",
   "execution_count": 255,
   "metadata": {
    "collapsed": false
   },
   "outputs": [
    {
     "name": "stdout",
     "output_type": "stream",
     "text": [
      "Index(['SD'], dtype='object')\n",
      "SD    33\n",
      "Name: ESTU_LIMITA_SDOWN, dtype: int64\n",
      "Elementos null/NaN 574362\n",
      "__________________\n",
      "Elementos diferentes de null/NaN: 33\n",
      "__________________\n",
      "(33,)\n",
      "None\n"
     ]
    }
   ],
   "source": [
    "c = 'ESTU_LIMITA_SDOWN'\n",
    "print(data_2014_2[c].value_counts().sort_index().index)\n",
    "print(data_2014_2[c].value_counts().sort_index())\n",
    "print(missing_data(data_2014_2[c]))"
   ]
  },
  {
   "cell_type": "code",
   "execution_count": 256,
   "metadata": {
    "collapsed": true
   },
   "outputs": [],
   "source": [
    "data_2014_2 = data_2014_2.drop(c, axis=1)"
   ]
  },
  {
   "cell_type": "code",
   "execution_count": 257,
   "metadata": {
    "collapsed": false
   },
   "outputs": [
    {
     "name": "stdout",
     "output_type": "stream",
     "text": [
      "Index(['AA'], dtype='object')\n",
      "AA    123\n",
      "Name: ESTU_LIMITA_AUTISMO, dtype: int64\n",
      "Elementos null/NaN 574272\n",
      "__________________\n",
      "Elementos diferentes de null/NaN: 123\n",
      "__________________\n",
      "(123,)\n",
      "None\n"
     ]
    }
   ],
   "source": [
    "c = 'ESTU_LIMITA_AUTISMO'\n",
    "print(data_2014_2[c].value_counts().sort_index().index)\n",
    "print(data_2014_2[c].value_counts().sort_index())\n",
    "print(missing_data(data_2014_2[c]))"
   ]
  },
  {
   "cell_type": "code",
   "execution_count": 258,
   "metadata": {
    "collapsed": true
   },
   "outputs": [],
   "source": [
    "data_2014_2 = data_2014_2.drop(c, axis=1)"
   ]
  },
  {
   "cell_type": "code",
   "execution_count": 259,
   "metadata": {
    "collapsed": false,
    "scrolled": true
   },
   "outputs": [
    {
     "name": "stdout",
     "output_type": "stream",
     "text": [
      "Float64Index([ 5001.0,  5002.0,  5004.0,  5021.0,  5030.0,  5031.0,  5034.0,\n",
      "               5036.0,  5038.0,  5040.0,\n",
      "              ...\n",
      "              95001.0, 95015.0, 95025.0, 95200.0, 97001.0, 97889.0, 99001.0,\n",
      "              99524.0, 99624.0, 99773.0],\n",
      "             dtype='float64', length=1105)\n",
      "5001     30218\n",
      "5002       138\n",
      "5004        32\n",
      "5021        39\n",
      "5030       330\n",
      "5031       277\n",
      "5034       481\n",
      "5036        56\n",
      "5038       110\n",
      "5040        88\n",
      "5042       304\n",
      "5044        56\n",
      "5045      1336\n",
      "5051       387\n",
      "5055        91\n",
      "5059        66\n",
      "5079       541\n",
      "5086        55\n",
      "5088      5463\n",
      "5091        92\n",
      "5093       118\n",
      "5101       283\n",
      "5107        64\n",
      "5113        40\n",
      "5120       191\n",
      "5125        63\n",
      "5129       765\n",
      "5134        46\n",
      "5138       253\n",
      "5142        58\n",
      "         ...  \n",
      "86571      109\n",
      "86573      186\n",
      "86749      304\n",
      "86755       87\n",
      "86757      177\n",
      "86760       76\n",
      "86865      472\n",
      "86885      340\n",
      "88001      600\n",
      "88564       43\n",
      "91001      582\n",
      "91263       20\n",
      "91407       26\n",
      "91540       86\n",
      "91669        7\n",
      "91798       23\n",
      "94001      193\n",
      "94343       32\n",
      "94663       24\n",
      "94883       11\n",
      "95001      723\n",
      "95015       63\n",
      "95025      136\n",
      "95200       27\n",
      "97001      324\n",
      "97889        8\n",
      "99001      215\n",
      "99524      105\n",
      "99624       23\n",
      "99773      125\n",
      "Name: COLE_COD_MCPIO_UBICACION, dtype: int64\n",
      "Elementos null/NaN 24623\n",
      "__________________\n",
      "Elementos diferentes de null/NaN: 549772\n",
      "__________________\n",
      "(549772,)\n",
      "None\n"
     ]
    }
   ],
   "source": [
    "c = 'COLE_COD_MCPIO_UBICACION'\n",
    "print(data_2014_2[c].value_counts().sort_index().index)\n",
    "print(data_2014_2[c].value_counts().sort_index())\n",
    "print(missing_data(data_2014_2[c]))"
   ]
  },
  {
   "cell_type": "code",
   "execution_count": 260,
   "metadata": {
    "collapsed": true
   },
   "outputs": [],
   "source": [
    "data_2014_2[c].fillna(method='bfill', inplace=True)\n",
    "data_2014_2[c].fillna(method='ffill', inplace=True)"
   ]
  },
  {
   "cell_type": "code",
   "execution_count": 261,
   "metadata": {
    "collapsed": false,
    "scrolled": true
   },
   "outputs": [
    {
     "name": "stdout",
     "output_type": "stream",
     "text": [
      "Float64Index([ 5001.0,  5002.0,  5004.0,  5021.0,  5030.0,  5031.0,  5034.0,\n",
      "               5036.0,  5038.0,  5040.0,\n",
      "              ...\n",
      "              95200.0, 97001.0, 97161.0, 97666.0, 97889.0, 99001.0, 99524.0,\n",
      "              99624.0, 99773.0, 99999.0],\n",
      "             dtype='float64', length=1111)\n",
      "5001     30512\n",
      "5002       214\n",
      "5004        34\n",
      "5021        39\n",
      "5030       345\n",
      "5031       283\n",
      "5034       525\n",
      "5036        57\n",
      "5038       155\n",
      "5040       140\n",
      "5042       316\n",
      "5044        57\n",
      "5045      1409\n",
      "5051       424\n",
      "5055        91\n",
      "5059        69\n",
      "5079       612\n",
      "5086        62\n",
      "5088      5756\n",
      "5091       106\n",
      "5093       171\n",
      "5101       295\n",
      "5107        69\n",
      "5113        55\n",
      "5120       220\n",
      "5125        98\n",
      "5129       842\n",
      "5134        66\n",
      "5138       255\n",
      "5142        68\n",
      "         ...  \n",
      "86757      227\n",
      "86760       95\n",
      "86865      503\n",
      "86885      363\n",
      "88001      611\n",
      "88564       49\n",
      "91001      607\n",
      "91263       19\n",
      "91407       16\n",
      "91460       11\n",
      "91540       86\n",
      "91669       10\n",
      "91798       23\n",
      "94001      213\n",
      "94343       33\n",
      "94663       24\n",
      "94883       11\n",
      "95001      731\n",
      "95015       64\n",
      "95025      142\n",
      "95200       28\n",
      "97001      301\n",
      "97161       30\n",
      "97666       13\n",
      "97889        8\n",
      "99001      225\n",
      "99524      109\n",
      "99624       23\n",
      "99773      134\n",
      "99999        7\n",
      "Name: ESTU_COD_RESIDE_MCPIO, dtype: int64\n",
      "Elementos null/NaN 155\n",
      "__________________\n",
      "Elementos diferentes de null/NaN: 574240\n",
      "__________________\n",
      "(574240,)\n",
      "None\n"
     ]
    }
   ],
   "source": [
    "c = 'ESTU_COD_RESIDE_MCPIO'\n",
    "print(data_2014_2[c].value_counts().sort_index().index)\n",
    "print(data_2014_2[c].value_counts().sort_index())\n",
    "print(missing_data(data_2014_2[c]))"
   ]
  },
  {
   "cell_type": "code",
   "execution_count": 262,
   "metadata": {
    "collapsed": true
   },
   "outputs": [],
   "source": [
    "data_2014_2 = data_2014_2.drop(c, axis=1)"
   ]
  },
  {
   "cell_type": "code",
   "execution_count": 263,
   "metadata": {
    "collapsed": false,
    "scrolled": true
   },
   "outputs": [
    {
     "name": "stdout",
     "output_type": "stream",
     "text": [
      "Index(['ABEJORRAL', 'ABREGO', 'ABRIAQUI', 'ACACIAS', 'ACANDI', 'ACEVEDO',\n",
      "       'ACHI', 'AGRADO', 'AGUA DE DIOS', 'AGUACHICA',\n",
      "       ...\n",
      "       'YUMBO', 'ZAMBRANO', 'ZAPATOCA', 'ZAPAYAN', 'ZARAGOZA', 'ZARZAL',\n",
      "       'ZETAQUIRA', 'ZIPACON', 'ZIPAQUIRA', 'ZONA BANANERA'],\n",
      "      dtype='object', length=1028)\n",
      "ABEJORRAL                    214\n",
      "ABREGO                       245\n",
      "ABRIAQUI                      34\n",
      "ACACIAS                     1205\n",
      "ACANDI                       108\n",
      "ACEVEDO                      277\n",
      "ACHI                         318\n",
      "AGRADO                       127\n",
      "AGUA DE DIOS                 153\n",
      "AGUACHICA                   1162\n",
      "AGUADA                        20\n",
      "AGUADAS                      309\n",
      "AGUAZUL                      677\n",
      "AGUSTIN CODAZZI              692\n",
      "AIPE                         235\n",
      "ALBAN                         94\n",
      "ALBAN (SAN JOSE)             161\n",
      "ALBANIA                      315\n",
      "ALCALA                       148\n",
      "ALDANA                       103\n",
      "ALEJANDRIA                    39\n",
      "ALGARROBO                    167\n",
      "ALGECIRAS                    263\n",
      "ALMAGUER                     165\n",
      "ALMEIDA                       24\n",
      "ALPUJARRA                     49\n",
      "ALTAMIRA                      57\n",
      "ALTO BAUDO (PIE DE PATO)      40\n",
      "ALTOS DEL ROSARIO             45\n",
      "ALVARADO                      84\n",
      "                            ... \n",
      "VILLANUEVA                  1022\n",
      "VILLAPINZON                  301\n",
      "VILLARRICA                    76\n",
      "VILLAVICENCIO               6445\n",
      "VILLAVIEJA                    36\n",
      "VILLETA                      391\n",
      "VIOTA                        193\n",
      "VIRACACHA                     29\n",
      "VISTA HERMOSA                161\n",
      "VITERBO                      268\n",
      "YACOPI                       168\n",
      "YACUANQUER                   153\n",
      "YAGUARA                      106\n",
      "YALI                          74\n",
      "YARUMAL                      652\n",
      "YAVARATE                       8\n",
      "YOLOMBO                      261\n",
      "YONDO (CASABE)               153\n",
      "YOPAL                       2720\n",
      "YOTOCO                       152\n",
      "YUMBO                       1297\n",
      "ZAMBRANO                     177\n",
      "ZAPATOCA                     150\n",
      "ZAPAYAN                       54\n",
      "ZARAGOZA                     209\n",
      "ZARZAL                       558\n",
      "ZETAQUIRA                     66\n",
      "ZIPACON                       65\n",
      "ZIPAQUIRA                   1896\n",
      "ZONA BANANERA                846\n",
      "Name: ESTU_RESIDE_MCPIO, dtype: int64\n",
      "Elementos null/NaN 155\n",
      "__________________\n",
      "Elementos diferentes de null/NaN: 574240\n",
      "__________________\n",
      "(574240,)\n",
      "None\n"
     ]
    }
   ],
   "source": [
    "c = 'ESTU_RESIDE_MCPIO'\n",
    "print(data_2014_2[c].value_counts().sort_index().index)\n",
    "print(data_2014_2[c].value_counts().sort_index())\n",
    "print(missing_data(data_2014_2[c]))"
   ]
  },
  {
   "cell_type": "code",
   "execution_count": 264,
   "metadata": {
    "collapsed": true
   },
   "outputs": [],
   "source": [
    "data_2014_2[c].fillna(method='bfill', inplace=True)\n",
    "data_2014_2[c].fillna(method='ffill', inplace=True)"
   ]
  },
  {
   "cell_type": "code",
   "execution_count": 265,
   "metadata": {
    "collapsed": false,
    "scrolled": true
   },
   "outputs": [
    {
     "name": "stdout",
     "output_type": "stream",
     "text": [
      "Index(['AMAZONAS', 'ANTIOQUIA', 'ARAUCA', 'ATLANTICO', 'BOGOTA', 'BOLIVAR',\n",
      "       'BOYACA', 'CALDAS', 'CAQUETA', 'CASANARE', 'CAUCA', 'CESAR', 'CHOCO',\n",
      "       'CORDOBA', 'CUNDINAMARCA', 'EXTRANJERO', 'GUAINIA', 'GUAVIARE', 'HUILA',\n",
      "       'LA GUAJIRA', 'MAGDALENA', 'META', 'NARIÑO', 'NORTE SANTANDER',\n",
      "       'PUTUMAYO', 'QUINDIO', 'RISARALDA', 'SAN ANDRES', 'SANTANDER', 'SUCRE',\n",
      "       'TOLIMA', 'VALLE', 'VAUPES', 'VICHADA'],\n",
      "      dtype='object')\n",
      "AMAZONAS             772\n",
      "ANTIOQUIA          76448\n",
      "ARAUCA              2888\n",
      "ATLANTICO          28824\n",
      "BOGOTA             96469\n",
      "BOLIVAR            25395\n",
      "BOYACA             18385\n",
      "CALDAS             12528\n",
      "CAQUETA             4156\n",
      "CASANARE            6043\n",
      "CAUCA              14823\n",
      "CESAR              12612\n",
      "CHOCO               4216\n",
      "CORDOBA            19040\n",
      "CUNDINAMARCA       36660\n",
      "EXTRANJERO             7\n",
      "GUAINIA              281\n",
      "GUAVIARE             965\n",
      "HUILA              15239\n",
      "LA GUAJIRA          7264\n",
      "MAGDALENA          15385\n",
      "META               11896\n",
      "NARIÑO             19370\n",
      "NORTE SANTANDER    16391\n",
      "PUTUMAYO            4259\n",
      "QUINDIO             7570\n",
      "RISARALDA          11190\n",
      "SAN ANDRES           660\n",
      "SANTANDER          28816\n",
      "SUCRE              11267\n",
      "TOLIMA             17906\n",
      "VALLE              45672\n",
      "VAUPES               352\n",
      "VICHADA              491\n",
      "Name: ESTU_RESIDE_DEPTO, dtype: int64\n",
      "Elementos null/NaN 155\n",
      "__________________\n",
      "Elementos diferentes de null/NaN: 574240\n",
      "__________________\n",
      "(574240,)\n",
      "None\n"
     ]
    }
   ],
   "source": [
    "c = 'ESTU_RESIDE_DEPTO'\n",
    "print(data_2014_2[c].value_counts().sort_index().index)\n",
    "print(data_2014_2[c].value_counts().sort_index())\n",
    "print(missing_data(data_2014_2[c]))"
   ]
  },
  {
   "cell_type": "code",
   "execution_count": 266,
   "metadata": {
    "collapsed": true
   },
   "outputs": [],
   "source": [
    "data_2014_2[c].fillna(method='bfill', inplace=True)\n",
    "data_2014_2[c].fillna(method='ffill', inplace=True)"
   ]
  },
  {
   "cell_type": "code",
   "execution_count": 267,
   "metadata": {
    "collapsed": false
   },
   "outputs": [
    {
     "name": "stdout",
     "output_type": "stream",
     "text": [
      "Int64Index([1, 2, 3, 4, 5, 6, 7, 8, 9, 10], dtype='int64')\n",
      "1      24223\n",
      "2       5894\n",
      "3      12130\n",
      "4      40018\n",
      "5      26420\n",
      "6      12253\n",
      "7      13879\n",
      "8      27753\n",
      "9      25883\n",
      "10    385942\n",
      "Name: ESTU_ZONA_RESIDE, dtype: int64\n",
      "Elementos null/NaN 0\n",
      "__________________\n",
      "Elementos diferentes de null/NaN: 574395\n",
      "__________________\n",
      "(574395,)\n",
      "None\n"
     ]
    }
   ],
   "source": [
    "c = 'ESTU_ZONA_RESIDE'\n",
    "print(data_2014_2[c].value_counts().sort_index().index)\n",
    "print(data_2014_2[c].value_counts().sort_index())\n",
    "print(missing_data(data_2014_2[c]))"
   ]
  },
  {
   "cell_type": "code",
   "execution_count": 268,
   "metadata": {
    "collapsed": false,
    "scrolled": true
   },
   "outputs": [
    {
     "name": "stdout",
     "output_type": "stream",
     "text": [
      "Float64Index([105001000001.0, 105001000043.0, 105001000108.0, 105001000132.0,\n",
      "              105001000141.0, 105001000167.0, 105001000175.0, 105001000205.0,\n",
      "              105001000256.0, 105001000353.0,\n",
      "              ...\n",
      "              813430000003.0, 818001100011.0, 818001100022.0, 818001100027.0,\n",
      "              818001100040.0, 847001000005.0, 847001000023.0, 847001000027.0,\n",
      "              847001000035.0, 854874000001.0],\n",
      "             dtype='float64', length=9754)\n",
      "1.050010e+11      24\n",
      "1.050010e+11      76\n",
      "1.050010e+11    1002\n",
      "1.050010e+11      77\n",
      "1.050010e+11      23\n",
      "1.050010e+11      39\n",
      "1.050010e+11      89\n",
      "1.050010e+11      43\n",
      "1.050010e+11     166\n",
      "1.050010e+11      52\n",
      "1.050010e+11     157\n",
      "1.050010e+11     121\n",
      "1.050010e+11     110\n",
      "1.050010e+11      76\n",
      "1.050010e+11     116\n",
      "1.050010e+11     119\n",
      "1.050010e+11      58\n",
      "1.050010e+11      65\n",
      "1.050010e+11      22\n",
      "1.050010e+11      60\n",
      "1.050010e+11     176\n",
      "1.050010e+11     227\n",
      "1.050010e+11     126\n",
      "1.050010e+11      61\n",
      "1.050010e+11     161\n",
      "1.050010e+11      89\n",
      "1.050010e+11      29\n",
      "1.050010e+11      48\n",
      "1.050010e+11      43\n",
      "1.050010e+11      62\n",
      "                ... \n",
      "5.540013e+11      74\n",
      "5.680010e+11       6\n",
      "5.680010e+11      18\n",
      "5.684320e+11      11\n",
      "5.684320e+11      10\n",
      "6.252430e+11      12\n",
      "6.252690e+11      64\n",
      "6.252690e+11      13\n",
      "6.252690e+11      63\n",
      "6.252690e+11      62\n",
      "6.252690e+11      66\n",
      "6.252690e+11      17\n",
      "6.254300e+11      21\n",
      "6.257400e+11       9\n",
      "6.257450e+11      15\n",
      "6.257690e+11      22\n",
      "6.257990e+11       6\n",
      "6.258170e+11      63\n",
      "6.258860e+11      13\n",
      "6.258990e+11      99\n",
      "8.134300e+11      48\n",
      "8.180011e+11      35\n",
      "8.180011e+11      82\n",
      "8.180011e+11      56\n",
      "8.180011e+11      21\n",
      "8.470010e+11     193\n",
      "8.470010e+11      46\n",
      "8.470010e+11      59\n",
      "8.470010e+11      22\n",
      "8.548740e+11       1\n",
      "Name: COLE_COD_DANE_INSTITUCION, dtype: int64\n",
      "Elementos null/NaN 24623\n",
      "__________________\n",
      "Elementos diferentes de null/NaN: 549772\n",
      "__________________\n",
      "(549772,)\n",
      "None\n"
     ]
    }
   ],
   "source": [
    "c = 'COLE_COD_DANE_INSTITUCION'\n",
    "print(data_2014_2[c].value_counts().sort_index().index)\n",
    "print(data_2014_2[c].value_counts().sort_index())\n",
    "print(missing_data(data_2014_2[c]))"
   ]
  },
  {
   "cell_type": "code",
   "execution_count": 269,
   "metadata": {
    "collapsed": true
   },
   "outputs": [],
   "source": [
    "data_2014_2[c].fillna(method='bfill', inplace=True)\n",
    "data_2014_2[c].fillna(method='ffill', inplace=True)"
   ]
  },
  {
   "cell_type": "code",
   "execution_count": 270,
   "metadata": {
    "collapsed": false,
    "scrolled": true
   },
   "outputs": [
    {
     "name": "stdout",
     "output_type": "stream",
     "text": [
      "Float64Index([    18.0,     59.0,     75.0,     83.0,     91.0,    125.0,\n",
      "                 141.0,    174.0,    190.0,    208.0,\n",
      "              ...\n",
      "              190512.0, 190546.0, 190553.0, 190587.0, 190629.0, 190637.0,\n",
      "              190645.0, 190652.0, 190660.0, 190686.0],\n",
      "             dtype='float64', length=11907)\n",
      "18          12\n",
      "59        1002\n",
      "75          53\n",
      "83          28\n",
      "91          80\n",
      "125         76\n",
      "141        104\n",
      "174        102\n",
      "190         78\n",
      "208         75\n",
      "216         18\n",
      "232         44\n",
      "240         11\n",
      "257         52\n",
      "265        208\n",
      "281         62\n",
      "315        114\n",
      "349         10\n",
      "356         39\n",
      "364         57\n",
      "372         56\n",
      "380         91\n",
      "398         32\n",
      "406         26\n",
      "422         17\n",
      "430         74\n",
      "448         23\n",
      "455         99\n",
      "463        126\n",
      "471        103\n",
      "          ... \n",
      "189878      19\n",
      "189951       5\n",
      "189969       3\n",
      "190009      30\n",
      "190017      13\n",
      "190025      46\n",
      "190132       6\n",
      "190181       5\n",
      "190199       6\n",
      "190207       8\n",
      "190249      16\n",
      "190272      25\n",
      "190280       9\n",
      "190314      18\n",
      "190355       5\n",
      "190371      19\n",
      "190421       7\n",
      "190488      17\n",
      "190496      41\n",
      "190504       3\n",
      "190512       6\n",
      "190546       1\n",
      "190553      17\n",
      "190587      11\n",
      "190629       5\n",
      "190637       5\n",
      "190645       4\n",
      "190652      16\n",
      "190660      39\n",
      "190686      11\n",
      "Name: COLE_COD_ICFES, dtype: int64\n",
      "Elementos null/NaN 24623\n",
      "__________________\n",
      "Elementos diferentes de null/NaN: 549772\n",
      "__________________\n",
      "(549772,)\n",
      "None\n"
     ]
    }
   ],
   "source": [
    "c = 'COLE_COD_ICFES'\n",
    "print(data_2014_2[c].value_counts().sort_index().index)\n",
    "print(data_2014_2[c].value_counts().sort_index())\n",
    "print(missing_data(data_2014_2[c]))"
   ]
  },
  {
   "cell_type": "code",
   "execution_count": 271,
   "metadata": {
    "collapsed": true
   },
   "outputs": [],
   "source": [
    "for i in data_2014_2[c].value_counts().sort_index().index:\n",
    "    if len(str(i)) < 4:\n",
    "        data_2014_2[c] = data_2014_2[c].replace(i, np.nan)\n",
    "        \n",
    "data_2014_2[c].fillna(method='bfill', inplace=True)\n",
    "data_2014_2[c].fillna(method='ffill', inplace=True)"
   ]
  },
  {
   "cell_type": "code",
   "execution_count": 272,
   "metadata": {
    "collapsed": false
   },
   "outputs": [
    {
     "name": "stdout",
     "output_type": "stream",
     "text": [
      "Index(['C', 'M', 'N', 'S', 'T', 'U'], dtype='object')\n",
      "C    107954\n",
      "M    282303\n",
      "N     38254\n",
      "S     35427\n",
      "T     85728\n",
      "U       106\n",
      "Name: COLE_JORNADA, dtype: int64\n",
      "Elementos null/NaN 24623\n",
      "__________________\n",
      "Elementos diferentes de null/NaN: 549772\n",
      "__________________\n",
      "(549772,)\n",
      "None\n"
     ]
    }
   ],
   "source": [
    "c = 'COLE_JORNADA'\n",
    "print(data_2014_2[c].value_counts().sort_index().index)\n",
    "print(data_2014_2[c].value_counts().sort_index())\n",
    "print(missing_data(data_2014_2[c]))"
   ]
  },
  {
   "cell_type": "code",
   "execution_count": 273,
   "metadata": {
    "collapsed": false
   },
   "outputs": [
    {
     "name": "stdout",
     "output_type": "stream",
     "text": [
      "cant null antes: 24623\n",
      "cant null despues: 0\n"
     ]
    }
   ],
   "source": [
    "Do_resamples(data_2014_2, c, str)"
   ]
  },
  {
   "cell_type": "code",
   "execution_count": 274,
   "metadata": {
    "collapsed": false
   },
   "outputs": [
    {
     "name": "stdout",
     "output_type": "stream",
     "text": [
      "Index(['FEMENINO', 'MASCULINO', 'MIXTO'], dtype='object')\n",
      "FEMENINO      16040\n",
      "MASCULINO      5034\n",
      "MIXTO        528698\n",
      "Name: COLE_GENERO, dtype: int64\n",
      "Elementos null/NaN 24623\n",
      "__________________\n",
      "Elementos diferentes de null/NaN: 549772\n",
      "__________________\n",
      "(549772,)\n",
      "None\n"
     ]
    }
   ],
   "source": [
    "c = 'COLE_GENERO'\n",
    "print(data_2014_2[c].value_counts().sort_index().index)\n",
    "print(data_2014_2[c].value_counts().sort_index())\n",
    "print(missing_data(data_2014_2[c]))"
   ]
  },
  {
   "cell_type": "code",
   "execution_count": 275,
   "metadata": {
    "collapsed": false
   },
   "outputs": [
    {
     "name": "stdout",
     "output_type": "stream",
     "text": [
      "cant null antes: 24623\n",
      "cant null despues: 1\n",
      "cant null antes: 1\n",
      "cant null despues: 0\n"
     ]
    }
   ],
   "source": [
    "Do_resamples(data_2014_2, c, str)"
   ]
  },
  {
   "cell_type": "code",
   "execution_count": 276,
   "metadata": {
    "collapsed": false
   },
   "outputs": [
    {
     "name": "stdout",
     "output_type": "stream",
     "text": [
      "Index(['ACADÉMICO', 'NO_APLICA', 'TÉCNICO', 'TÉCNICO/ACADÉMICO'], dtype='object')\n",
      "ACADÉMICO            295481\n",
      "NO_APLICA              1269\n",
      "TÉCNICO               59169\n",
      "TÉCNICO/ACADÉMICO    191939\n",
      "Name: COLE_CARACTER, dtype: int64\n",
      "Elementos null/NaN 26537\n",
      "__________________\n",
      "Elementos diferentes de null/NaN: 547858\n",
      "__________________\n",
      "(547858,)\n",
      "None\n"
     ]
    }
   ],
   "source": [
    "c = 'COLE_CARACTER'\n",
    "print(data_2014_2[c].value_counts().sort_index().index)\n",
    "print(data_2014_2[c].value_counts().sort_index())\n",
    "print(missing_data(data_2014_2[c]))"
   ]
  },
  {
   "cell_type": "code",
   "execution_count": 277,
   "metadata": {
    "collapsed": false
   },
   "outputs": [
    {
     "name": "stdout",
     "output_type": "stream",
     "text": [
      "cant null antes: 26537\n",
      "cant null despues: 1\n",
      "cant null antes: 1\n",
      "cant null despues: 0\n"
     ]
    }
   ],
   "source": [
    "Do_resamples(data_2014_2, c, str)"
   ]
  },
  {
   "cell_type": "code",
   "execution_count": 278,
   "metadata": {
    "collapsed": false
   },
   "outputs": [
    {
     "name": "stdout",
     "output_type": "stream",
     "text": [
      "Index(['NO OFICIAL', 'OFICIAL', 'OTRO'], dtype='object')\n",
      "NO OFICIAL    139416\n",
      "OFICIAL       410356\n",
      "OTRO           24623\n",
      "Name: COLE_NATURALEZA, dtype: int64\n",
      "Elementos null/NaN 0\n",
      "__________________\n",
      "Elementos diferentes de null/NaN: 574395\n",
      "__________________\n",
      "(574395,)\n",
      "None\n"
     ]
    }
   ],
   "source": [
    "c = 'COLE_NATURALEZA'\n",
    "print(data_2014_2[c].value_counts().sort_index().index)\n",
    "print(data_2014_2[c].value_counts().sort_index())\n",
    "print(missing_data(data_2014_2[c]))"
   ]
  },
  {
   "cell_type": "code",
   "execution_count": 279,
   "metadata": {
    "collapsed": false
   },
   "outputs": [
    {
     "name": "stdout",
     "output_type": "stream",
     "text": [
      "Index(['N', 'S'], dtype='object')\n",
      "N    482269\n",
      "S      5668\n",
      "Name: COLE_BILINGUE, dtype: int64\n",
      "Elementos null/NaN 86458\n",
      "__________________\n",
      "Elementos diferentes de null/NaN: 487937\n",
      "__________________\n",
      "(487937,)\n",
      "None\n"
     ]
    }
   ],
   "source": [
    "c = 'COLE_BILINGUE'\n",
    "print(data_2014_2[c].value_counts().sort_index().index)\n",
    "print(data_2014_2[c].value_counts().sort_index())\n",
    "print(missing_data(data_2014_2[c]))"
   ]
  },
  {
   "cell_type": "code",
   "execution_count": 280,
   "metadata": {
    "collapsed": false
   },
   "outputs": [
    {
     "name": "stdout",
     "output_type": "stream",
     "text": [
      "cant null antes: 86458\n",
      "cant null despues: 0\n"
     ]
    }
   ],
   "source": [
    "Do_resamples(data_2014_2, c, str)"
   ]
  },
  {
   "cell_type": "code",
   "execution_count": 281,
   "metadata": {
    "collapsed": false
   },
   "outputs": [
    {
     "name": "stdout",
     "output_type": "stream",
     "text": [
      "Index(['A', 'B', 'O'], dtype='object')\n",
      "A    545462\n",
      "B      1942\n",
      "O      2368\n",
      "Name: COLE_CALENDARIO, dtype: int64\n",
      "Elementos null/NaN 24623\n",
      "__________________\n",
      "Elementos diferentes de null/NaN: 549772\n",
      "__________________\n",
      "(549772,)\n",
      "None\n"
     ]
    }
   ],
   "source": [
    "c = 'COLE_CALENDARIO'\n",
    "print(data_2014_2[c].value_counts().sort_index().index)\n",
    "print(data_2014_2[c].value_counts().sort_index())\n",
    "print(missing_data(data_2014_2[c]))"
   ]
  },
  {
   "cell_type": "code",
   "execution_count": 282,
   "metadata": {
    "collapsed": false
   },
   "outputs": [
    {
     "name": "stdout",
     "output_type": "stream",
     "text": [
      "cant null antes: 24623\n",
      "cant null despues: 0\n"
     ]
    }
   ],
   "source": [
    "Do_resamples(data_2014_2, c, str)"
   ]
  },
  {
   "cell_type": "code",
   "execution_count": 283,
   "metadata": {
    "collapsed": false
   },
   "outputs": [
    {
     "name": "stdout",
     "output_type": "stream",
     "text": [
      "Index(['R', 'U'], dtype='object')\n",
      "R    113071\n",
      "U    457667\n",
      "Name: ESTU_AREA_RESIDE, dtype: int64\n",
      "Elementos null/NaN 3657\n",
      "__________________\n",
      "Elementos diferentes de null/NaN: 570738\n",
      "__________________\n",
      "(570738,)\n",
      "None\n"
     ]
    }
   ],
   "source": [
    "c = 'ESTU_AREA_RESIDE'\n",
    "print(data_2014_2[c].value_counts().sort_index().index)\n",
    "print(data_2014_2[c].value_counts().sort_index())\n",
    "print(missing_data(data_2014_2[c]))"
   ]
  },
  {
   "cell_type": "code",
   "execution_count": 284,
   "metadata": {
    "collapsed": false
   },
   "outputs": [
    {
     "name": "stdout",
     "output_type": "stream",
     "text": [
      "cant null antes: 3657\n",
      "cant null despues: 0\n"
     ]
    }
   ],
   "source": [
    "Do_resamples(data_2014_2, c, str)"
   ]
  },
  {
   "cell_type": "code",
   "execution_count": 285,
   "metadata": {
    "collapsed": false
   },
   "outputs": [
    {
     "name": "stdout",
     "output_type": "stream",
     "text": [
      "Index(['R', 'U'], dtype='object')\n",
      "R     76264\n",
      "U    473491\n",
      "Name: COLE_AREA_UBICACION, dtype: int64\n",
      "Elementos null/NaN 24640\n",
      "__________________\n",
      "Elementos diferentes de null/NaN: 549755\n",
      "__________________\n",
      "(549755,)\n",
      "None\n"
     ]
    }
   ],
   "source": [
    "c = 'COLE_AREA_UBICACION'\n",
    "print(data_2014_2[c].value_counts().sort_index().index)\n",
    "print(data_2014_2[c].value_counts().sort_index())\n",
    "print(missing_data(data_2014_2[c]))"
   ]
  },
  {
   "cell_type": "code",
   "execution_count": 286,
   "metadata": {
    "collapsed": false
   },
   "outputs": [
    {
     "name": "stdout",
     "output_type": "stream",
     "text": [
      "cant null antes: 24640\n",
      "cant null despues: 0\n"
     ]
    }
   ],
   "source": [
    "Do_resamples(data_2014_2, c, str)"
   ]
  },
  {
   "cell_type": "code",
   "execution_count": 287,
   "metadata": {
    "collapsed": false,
    "scrolled": true
   },
   "outputs": [
    {
     "name": "stdout",
     "output_type": "stream",
     "text": [
      "Index(['AMAZONAS', 'ANTIOQUIA', 'ARAUCA', 'ATLANTICO', 'BOGOTA', 'BOLIVAR',\n",
      "       'BOYACA', 'CALDAS', 'CAQUETA', 'CASANARE', 'CAUCA', 'CESAR', 'CHOCO',\n",
      "       'CORDOBA', 'CUNDINAMARCA', 'GUAINIA', 'GUAVIARE', 'HUILA', 'LA GUAJIRA',\n",
      "       'MAGDALENA', 'META', 'NARIÑO', 'NORTE SANTANDER', 'PUTUMAYO', 'QUINDIO',\n",
      "       'RISARALDA', 'SAN ANDRES', 'SANTANDER', 'SUCRE', 'TOLIMA', 'VALLE',\n",
      "       'VAUPES', 'VICHADA'],\n",
      "      dtype='object')\n",
      "AMAZONAS             744\n",
      "ANTIOQUIA          74141\n",
      "ARAUCA              2745\n",
      "ATLANTICO          28068\n",
      "BOGOTA             92898\n",
      "BOLIVAR            24695\n",
      "BOYACA             17542\n",
      "CALDAS             11803\n",
      "CAQUETA             3949\n",
      "CASANARE            5834\n",
      "CAUCA              13922\n",
      "CESAR              12182\n",
      "CHOCO               3891\n",
      "CORDOBA            18579\n",
      "CUNDINAMARCA       36434\n",
      "GUAINIA              260\n",
      "GUAVIARE             949\n",
      "HUILA              14231\n",
      "LA GUAJIRA          6985\n",
      "MAGDALENA          15079\n",
      "META               11471\n",
      "NARIÑO             17383\n",
      "NORTE SANTANDER    15707\n",
      "PUTUMAYO            4004\n",
      "QUINDIO             7257\n",
      "RISARALDA          10704\n",
      "SAN ANDRES           643\n",
      "SANTANDER          27319\n",
      "SUCRE              11072\n",
      "TOLIMA             17000\n",
      "VALLE              41481\n",
      "VAUPES               332\n",
      "VICHADA              468\n",
      "Name: COLE_DEPTO_UBICACION, dtype: int64\n",
      "Elementos null/NaN 24623\n",
      "__________________\n",
      "Elementos diferentes de null/NaN: 549772\n",
      "__________________\n",
      "(549772,)\n",
      "None\n"
     ]
    }
   ],
   "source": [
    "c = 'COLE_DEPTO_UBICACION'\n",
    "print(data_2014_2[c].value_counts().sort_index().index)\n",
    "print(data_2014_2[c].value_counts().sort_index())\n",
    "print(missing_data(data_2014_2[c]))"
   ]
  },
  {
   "cell_type": "code",
   "execution_count": 288,
   "metadata": {
    "collapsed": true
   },
   "outputs": [],
   "source": [
    "data_2014_2[c].fillna(method='bfill', inplace=True)\n",
    "data_2014_2[c].fillna(method='ffill', inplace=True)"
   ]
  },
  {
   "cell_type": "code",
   "execution_count": 289,
   "metadata": {
    "collapsed": false,
    "scrolled": true
   },
   "outputs": [
    {
     "name": "stdout",
     "output_type": "stream",
     "text": [
      "Index(['ABEJORRAL', 'ABREGO', 'ABRIAQUI', 'ACACIAS', 'ACANDI', 'ACEVEDO',\n",
      "       'ACHI', 'AGRADO', 'AGUA DE DIOS', 'AGUACHICA',\n",
      "       ...\n",
      "       'YUMBO', 'ZAMBRANO', 'ZAPATOCA', 'ZAPAYAN', 'ZARAGOZA', 'ZARZAL',\n",
      "       'ZETAQUIRA', 'ZIPACON', 'ZIPAQUIRA', 'ZONA BANANERA'],\n",
      "      dtype='object', length=1024)\n",
      "ABEJORRAL                    138\n",
      "ABREGO                       229\n",
      "ABRIAQUI                      32\n",
      "ACACIAS                     1070\n",
      "ACANDI                        99\n",
      "ACEVEDO                      267\n",
      "ACHI                         331\n",
      "AGRADO                       140\n",
      "AGUA DE DIOS                 138\n",
      "AGUACHICA                   1158\n",
      "AGUADA                        20\n",
      "AGUADAS                      303\n",
      "AGUAZUL                      653\n",
      "AGUSTIN CODAZZI              663\n",
      "AIPE                         216\n",
      "ALBAN                         79\n",
      "ALBAN (SAN JOSE)             154\n",
      "ALBANIA                      297\n",
      "ALCALA                       138\n",
      "ALDANA                        96\n",
      "ALEJANDRIA                    39\n",
      "ALGARROBO                    192\n",
      "ALGECIRAS                    243\n",
      "ALMAGUER                     164\n",
      "ALMEIDA                       22\n",
      "ALPUJARRA                     62\n",
      "ALTAMIRA                      45\n",
      "ALTO BAUDO (PIE DE PATO)      37\n",
      "ALTOS DEL ROSARIO             46\n",
      "ALVARADO                      84\n",
      "                            ... \n",
      "VILLANUEVA                   967\n",
      "VILLAPINZON                  352\n",
      "VILLARRICA                    71\n",
      "VILLAVICENCIO               6218\n",
      "VILLAVIEJA                    48\n",
      "VILLETA                      366\n",
      "VIOTA                        188\n",
      "VIRACACHA                     29\n",
      "VISTA HERMOSA                137\n",
      "VITERBO                      211\n",
      "YACOPI                       163\n",
      "YACUANQUER                   133\n",
      "YAGUARA                      101\n",
      "YALI                          60\n",
      "YARUMAL                      748\n",
      "YAVARATE                       8\n",
      "YOLOMBO                      568\n",
      "YONDO (CASABE)               153\n",
      "YOPAL                       2619\n",
      "YOTOCO                       136\n",
      "YUMBO                       1244\n",
      "ZAMBRANO                     180\n",
      "ZAPATOCA                     141\n",
      "ZAPAYAN                       63\n",
      "ZARAGOZA                     199\n",
      "ZARZAL                       465\n",
      "ZETAQUIRA                     69\n",
      "ZIPACON                       68\n",
      "ZIPAQUIRA                   1752\n",
      "ZONA BANANERA                841\n",
      "Name: COLE_MCPIO_UBICACION, dtype: int64\n",
      "Elementos null/NaN 24623\n",
      "__________________\n",
      "Elementos diferentes de null/NaN: 549772\n",
      "__________________\n",
      "(549772,)\n",
      "None\n"
     ]
    }
   ],
   "source": [
    "c = 'COLE_MCPIO_UBICACION'\n",
    "print(data_2014_2[c].value_counts().sort_index().index)\n",
    "print(data_2014_2[c].value_counts().sort_index())\n",
    "print(missing_data(data_2014_2[c]))"
   ]
  },
  {
   "cell_type": "code",
   "execution_count": 290,
   "metadata": {
    "collapsed": true
   },
   "outputs": [],
   "source": [
    "data_2014_2[c].fillna(method='bfill', inplace=True)\n",
    "data_2014_2[c].fillna(method='ffill', inplace=True)"
   ]
  },
  {
   "cell_type": "code",
   "execution_count": 291,
   "metadata": {
    "collapsed": false,
    "scrolled": true
   },
   "outputs": [
    {
     "name": "stdout",
     "output_type": "stream",
     "text": [
      "Float64Index([    5.0,     8.0,    11.0,    13.0,    15.0,    17.0,    18.0,\n",
      "                 19.0,    20.0,    23.0,    25.0,    27.0,    41.0,    44.0,\n",
      "                 47.0,    50.0,    52.0,    54.0,    63.0,    66.0,    68.0,\n",
      "                 70.0,    73.0,    76.0,    81.0,    85.0,    86.0,    88.0,\n",
      "                 91.0,    94.0,    95.0,    97.0,    99.0, 99999.0],\n",
      "             dtype='float64')\n",
      "5        76448\n",
      "8        28824\n",
      "11       96469\n",
      "13       25395\n",
      "15       18385\n",
      "17       12528\n",
      "18        4156\n",
      "19       14823\n",
      "20       12612\n",
      "23       19040\n",
      "25       36660\n",
      "27        4216\n",
      "41       15239\n",
      "44        7264\n",
      "47       15385\n",
      "50       11896\n",
      "52       19370\n",
      "54       16391\n",
      "63        7570\n",
      "66       11190\n",
      "68       28816\n",
      "70       11267\n",
      "73       17906\n",
      "76       45672\n",
      "81        2888\n",
      "85        6043\n",
      "86        4259\n",
      "88         660\n",
      "91         772\n",
      "94         281\n",
      "95         965\n",
      "97         352\n",
      "99         491\n",
      "99999        7\n",
      "Name: ESTU_COD_RESIDE_DEPTO, dtype: int64\n",
      "Elementos null/NaN 155\n",
      "__________________\n",
      "Elementos diferentes de null/NaN: 574240\n",
      "__________________\n",
      "(574240,)\n",
      "None\n"
     ]
    }
   ],
   "source": [
    "c = 'ESTU_COD_RESIDE_DEPTO'\n",
    "print(data_2014_2[c].value_counts().sort_index().index)\n",
    "print(data_2014_2[c].value_counts().sort_index())\n",
    "print(missing_data(data_2014_2[c]))"
   ]
  },
  {
   "cell_type": "code",
   "execution_count": 292,
   "metadata": {
    "collapsed": true
   },
   "outputs": [],
   "source": [
    "data_2014_2[c].fillna(method='bfill', inplace=True)\n",
    "data_2014_2[c].fillna(method='ffill', inplace=True)"
   ]
  },
  {
   "cell_type": "code",
   "execution_count": 293,
   "metadata": {
    "collapsed": false
   },
   "outputs": [
    {
     "name": "stdout",
     "output_type": "stream",
     "text": [
      "Index(['NO', 'SI'], dtype='object')\n",
      "NO    517958\n",
      "SI     56437\n",
      "Name: ESTU_PRESENTO_ANTECEDENTES, dtype: int64\n",
      "Elementos null/NaN 0\n",
      "__________________\n",
      "Elementos diferentes de null/NaN: 574395\n",
      "__________________\n",
      "(574395,)\n",
      "None\n"
     ]
    }
   ],
   "source": [
    "c = 'ESTU_PRESENTO_ANTECEDENTES'\n",
    "print(data_2014_2[c].value_counts().sort_index().index)\n",
    "print(data_2014_2[c].value_counts().sort_index())\n",
    "print(missing_data(data_2014_2[c]))"
   ]
  },
  {
   "cell_type": "code",
   "execution_count": 294,
   "metadata": {
    "collapsed": false
   },
   "outputs": [
    {
     "name": "stdout",
     "output_type": "stream",
     "text": [
      "Index(['N', 'S'], dtype='object')\n",
      "N    53714\n",
      "S     2723\n",
      "Name: ESTU_REPROBO_PRIMERO, dtype: int64\n",
      "Elementos null/NaN 517958\n",
      "__________________\n",
      "Elementos diferentes de null/NaN: 56437\n",
      "__________________\n",
      "(56437,)\n",
      "None\n"
     ]
    }
   ],
   "source": [
    "c = 'ESTU_REPROBO_PRIMERO'\n",
    "print(data_2014_2[c].value_counts().sort_index().index)\n",
    "print(data_2014_2[c].value_counts().sort_index())\n",
    "print(missing_data(data_2014_2[c]))"
   ]
  },
  {
   "cell_type": "code",
   "execution_count": 295,
   "metadata": {
    "collapsed": false
   },
   "outputs": [
    {
     "name": "stdout",
     "output_type": "stream",
     "text": [
      "cant null antes: 517958\n",
      "cant null despues: 0\n"
     ]
    }
   ],
   "source": [
    "Do_resamples(data_2014_2, c, str)"
   ]
  },
  {
   "cell_type": "code",
   "execution_count": 296,
   "metadata": {
    "collapsed": false
   },
   "outputs": [
    {
     "name": "stdout",
     "output_type": "stream",
     "text": [
      "Index(['N', 'S'], dtype='object')\n",
      "N    54503\n",
      "S     1933\n",
      "Name: ESTU_REPROBO_SEGUNDO, dtype: int64\n",
      "Elementos null/NaN 517959\n",
      "__________________\n",
      "Elementos diferentes de null/NaN: 56436\n",
      "__________________\n",
      "(56436,)\n",
      "None\n"
     ]
    }
   ],
   "source": [
    "c = 'ESTU_REPROBO_SEGUNDO'\n",
    "print(data_2014_2[c].value_counts().sort_index().index)\n",
    "print(data_2014_2[c].value_counts().sort_index())\n",
    "print(missing_data(data_2014_2[c]))"
   ]
  },
  {
   "cell_type": "code",
   "execution_count": 297,
   "metadata": {
    "collapsed": false
   },
   "outputs": [
    {
     "name": "stdout",
     "output_type": "stream",
     "text": [
      "cant null antes: 517959\n",
      "cant null despues: 0\n"
     ]
    }
   ],
   "source": [
    "Do_resamples(data_2014_2, c, str)"
   ]
  },
  {
   "cell_type": "code",
   "execution_count": 298,
   "metadata": {
    "collapsed": false
   },
   "outputs": [
    {
     "name": "stdout",
     "output_type": "stream",
     "text": [
      "Index(['N', 'S'], dtype='object')\n",
      "N    54177\n",
      "S     2260\n",
      "Name: ESTU_REPROBO_TERCERO, dtype: int64\n",
      "Elementos null/NaN 517958\n",
      "__________________\n",
      "Elementos diferentes de null/NaN: 56437\n",
      "__________________\n",
      "(56437,)\n",
      "None\n"
     ]
    }
   ],
   "source": [
    "c = 'ESTU_REPROBO_TERCERO'\n",
    "print(data_2014_2[c].value_counts().sort_index().index)\n",
    "print(data_2014_2[c].value_counts().sort_index())\n",
    "print(missing_data(data_2014_2[c]))"
   ]
  },
  {
   "cell_type": "code",
   "execution_count": 299,
   "metadata": {
    "collapsed": false
   },
   "outputs": [
    {
     "name": "stdout",
     "output_type": "stream",
     "text": [
      "cant null antes: 517958\n",
      "cant null despues: 0\n"
     ]
    }
   ],
   "source": [
    "Do_resamples(data_2014_2, c, str)"
   ]
  },
  {
   "cell_type": "code",
   "execution_count": 300,
   "metadata": {
    "collapsed": false
   },
   "outputs": [
    {
     "name": "stdout",
     "output_type": "stream",
     "text": [
      "Index(['N', 'S'], dtype='object')\n",
      "N    54819\n",
      "S     1617\n",
      "Name: ESTU_REPROBO_CUARTO, dtype: int64\n",
      "Elementos null/NaN 517959\n",
      "__________________\n",
      "Elementos diferentes de null/NaN: 56436\n",
      "__________________\n",
      "(56436,)\n",
      "None\n"
     ]
    }
   ],
   "source": [
    "c = 'ESTU_REPROBO_CUARTO'\n",
    "print(data_2014_2[c].value_counts().sort_index().index)\n",
    "print(data_2014_2[c].value_counts().sort_index())\n",
    "print(missing_data(data_2014_2[c]))"
   ]
  },
  {
   "cell_type": "code",
   "execution_count": 301,
   "metadata": {
    "collapsed": false
   },
   "outputs": [
    {
     "name": "stdout",
     "output_type": "stream",
     "text": [
      "cant null antes: 517959\n",
      "cant null despues: 0\n"
     ]
    }
   ],
   "source": [
    "Do_resamples(data_2014_2, c, str)"
   ]
  },
  {
   "cell_type": "code",
   "execution_count": 302,
   "metadata": {
    "collapsed": false
   },
   "outputs": [
    {
     "name": "stdout",
     "output_type": "stream",
     "text": [
      "Index(['N', 'S'], dtype='object')\n",
      "N    54821\n",
      "S     1616\n",
      "Name: ESTU_REPROBO_QUINTO, dtype: int64\n",
      "Elementos null/NaN 517958\n",
      "__________________\n",
      "Elementos diferentes de null/NaN: 56437\n",
      "__________________\n",
      "(56437,)\n",
      "None\n"
     ]
    }
   ],
   "source": [
    "c = 'ESTU_REPROBO_QUINTO'\n",
    "print(data_2014_2[c].value_counts().sort_index().index)\n",
    "print(data_2014_2[c].value_counts().sort_index())\n",
    "print(missing_data(data_2014_2[c]))"
   ]
  },
  {
   "cell_type": "code",
   "execution_count": 303,
   "metadata": {
    "collapsed": false
   },
   "outputs": [
    {
     "name": "stdout",
     "output_type": "stream",
     "text": [
      "cant null antes: 517958\n",
      "cant null despues: 0\n"
     ]
    }
   ],
   "source": [
    "Do_resamples(data_2014_2, c, str)"
   ]
  },
  {
   "cell_type": "code",
   "execution_count": 304,
   "metadata": {
    "collapsed": false
   },
   "outputs": [
    {
     "name": "stdout",
     "output_type": "stream",
     "text": [
      "Index(['N', 'S'], dtype='object')\n",
      "N    53579\n",
      "S     2857\n",
      "Name: ESTU_REPROBO_SEXTO, dtype: int64\n",
      "Elementos null/NaN 517959\n",
      "__________________\n",
      "Elementos diferentes de null/NaN: 56436\n",
      "__________________\n",
      "(56436,)\n",
      "None\n"
     ]
    }
   ],
   "source": [
    "c = 'ESTU_REPROBO_SEXTO'\n",
    "print(data_2014_2[c].value_counts().sort_index().index)\n",
    "print(data_2014_2[c].value_counts().sort_index())\n",
    "print(missing_data(data_2014_2[c]))"
   ]
  },
  {
   "cell_type": "code",
   "execution_count": 305,
   "metadata": {
    "collapsed": false
   },
   "outputs": [
    {
     "name": "stdout",
     "output_type": "stream",
     "text": [
      "cant null antes: 517959\n",
      "cant null despues: 0\n"
     ]
    }
   ],
   "source": [
    "Do_resamples(data_2014_2, c, str)"
   ]
  },
  {
   "cell_type": "code",
   "execution_count": 306,
   "metadata": {
    "collapsed": false
   },
   "outputs": [
    {
     "name": "stdout",
     "output_type": "stream",
     "text": [
      "Index(['N', 'S'], dtype='object')\n",
      "N    53640\n",
      "S     2797\n",
      "Name: ESTU_REPROBO_SEPTIMO, dtype: int64\n",
      "Elementos null/NaN 517958\n",
      "__________________\n",
      "Elementos diferentes de null/NaN: 56437\n",
      "__________________\n",
      "(56437,)\n",
      "None\n"
     ]
    }
   ],
   "source": [
    "c = 'ESTU_REPROBO_SEPTIMO'\n",
    "print(data_2014_2[c].value_counts().sort_index().index)\n",
    "print(data_2014_2[c].value_counts().sort_index())\n",
    "print(missing_data(data_2014_2[c]))"
   ]
  },
  {
   "cell_type": "code",
   "execution_count": 307,
   "metadata": {
    "collapsed": false
   },
   "outputs": [
    {
     "name": "stdout",
     "output_type": "stream",
     "text": [
      "cant null antes: 517958\n",
      "cant null despues: 0\n"
     ]
    }
   ],
   "source": [
    "Do_resamples(data_2014_2, c, str)"
   ]
  },
  {
   "cell_type": "code",
   "execution_count": 308,
   "metadata": {
    "collapsed": false
   },
   "outputs": [
    {
     "name": "stdout",
     "output_type": "stream",
     "text": [
      "Index(['N', 'S'], dtype='object')\n",
      "N    52540\n",
      "S     3897\n",
      "Name: ESTU_REPROBO_OCTAVO, dtype: int64\n",
      "Elementos null/NaN 517958\n",
      "__________________\n",
      "Elementos diferentes de null/NaN: 56437\n",
      "__________________\n",
      "(56437,)\n",
      "None\n"
     ]
    }
   ],
   "source": [
    "c = 'ESTU_REPROBO_OCTAVO'\n",
    "print(data_2014_2[c].value_counts().sort_index().index)\n",
    "print(data_2014_2[c].value_counts().sort_index())\n",
    "print(missing_data(data_2014_2[c]))"
   ]
  },
  {
   "cell_type": "code",
   "execution_count": 309,
   "metadata": {
    "collapsed": false
   },
   "outputs": [
    {
     "name": "stdout",
     "output_type": "stream",
     "text": [
      "cant null antes: 517958\n",
      "cant null despues: 0\n"
     ]
    }
   ],
   "source": [
    "Do_resamples(data_2014_2, c, str)"
   ]
  },
  {
   "cell_type": "code",
   "execution_count": 310,
   "metadata": {
    "collapsed": false
   },
   "outputs": [
    {
     "name": "stdout",
     "output_type": "stream",
     "text": [
      "Index(['N', 'S'], dtype='object')\n",
      "N    52486\n",
      "S     3951\n",
      "Name: ESTU_REPROBO_NOVENO, dtype: int64\n",
      "Elementos null/NaN 517958\n",
      "__________________\n",
      "Elementos diferentes de null/NaN: 56437\n",
      "__________________\n",
      "(56437,)\n",
      "None\n"
     ]
    }
   ],
   "source": [
    "c = 'ESTU_REPROBO_NOVENO'\n",
    "print(data_2014_2[c].value_counts().sort_index().index)\n",
    "print(data_2014_2[c].value_counts().sort_index())\n",
    "print(missing_data(data_2014_2[c]))"
   ]
  },
  {
   "cell_type": "code",
   "execution_count": 311,
   "metadata": {
    "collapsed": false
   },
   "outputs": [
    {
     "name": "stdout",
     "output_type": "stream",
     "text": [
      "cant null antes: 517958\n",
      "cant null despues: 0\n"
     ]
    }
   ],
   "source": [
    "Do_resamples(data_2014_2, c, str)"
   ]
  },
  {
   "cell_type": "code",
   "execution_count": 312,
   "metadata": {
    "collapsed": false
   },
   "outputs": [
    {
     "name": "stdout",
     "output_type": "stream",
     "text": [
      "Index(['N', 'S'], dtype='object')\n",
      "N    52301\n",
      "S     4136\n",
      "Name: ESTU_REPROBO_DECIMO, dtype: int64\n",
      "Elementos null/NaN 517958\n",
      "__________________\n",
      "Elementos diferentes de null/NaN: 56437\n",
      "__________________\n",
      "(56437,)\n",
      "None\n"
     ]
    }
   ],
   "source": [
    "c = 'ESTU_REPROBO_DECIMO'\n",
    "print(data_2014_2[c].value_counts().sort_index().index)\n",
    "print(data_2014_2[c].value_counts().sort_index())\n",
    "print(missing_data(data_2014_2[c]))"
   ]
  },
  {
   "cell_type": "code",
   "execution_count": 313,
   "metadata": {
    "collapsed": false
   },
   "outputs": [
    {
     "name": "stdout",
     "output_type": "stream",
     "text": [
      "cant null antes: 517958\n",
      "cant null despues: 0\n"
     ]
    }
   ],
   "source": [
    "Do_resamples(data_2014_2, c, str)"
   ]
  },
  {
   "cell_type": "code",
   "execution_count": 314,
   "metadata": {
    "collapsed": false
   },
   "outputs": [
    {
     "name": "stdout",
     "output_type": "stream",
     "text": [
      "Index(['N', 'S'], dtype='object')\n",
      "N    55190\n",
      "S     1247\n",
      "Name: ESTU_REPROBO_ONCE_MAS, dtype: int64\n",
      "Elementos null/NaN 517958\n",
      "__________________\n",
      "Elementos diferentes de null/NaN: 56437\n",
      "__________________\n",
      "(56437,)\n",
      "None\n"
     ]
    }
   ],
   "source": [
    "c = 'ESTU_REPROBO_ONCE_MAS'\n",
    "print(data_2014_2[c].value_counts().sort_index().index)\n",
    "print(data_2014_2[c].value_counts().sort_index())\n",
    "print(missing_data(data_2014_2[c]))"
   ]
  },
  {
   "cell_type": "code",
   "execution_count": 315,
   "metadata": {
    "collapsed": false
   },
   "outputs": [
    {
     "name": "stdout",
     "output_type": "stream",
     "text": [
      "cant null antes: 517958\n",
      "cant null despues: 0\n"
     ]
    }
   ],
   "source": [
    "Do_resamples(data_2014_2, c, str)"
   ]
  },
  {
   "cell_type": "code",
   "execution_count": 316,
   "metadata": {
    "collapsed": false
   },
   "outputs": [
    {
     "name": "stdout",
     "output_type": "stream",
     "text": [
      "Float64Index([0.0, 1.0, 2.0, 3.0], dtype='float64')\n",
      "0     7544\n",
      "1    31974\n",
      "2     8267\n",
      "3     8652\n",
      "Name: ESTU_ANOS_PREESCOLAR, dtype: int64\n",
      "Elementos null/NaN 517958\n",
      "__________________\n",
      "Elementos diferentes de null/NaN: 56437\n",
      "__________________\n",
      "(56437,)\n",
      "None\n"
     ]
    }
   ],
   "source": [
    "c = 'ESTU_ANOS_PREESCOLAR'\n",
    "print(data_2014_2[c].value_counts().sort_index().index)\n",
    "print(data_2014_2[c].value_counts().sort_index())\n",
    "print(missing_data(data_2014_2[c]))"
   ]
  },
  {
   "cell_type": "code",
   "execution_count": 317,
   "metadata": {
    "collapsed": false
   },
   "outputs": [
    {
     "name": "stdout",
     "output_type": "stream",
     "text": [
      "cant null antes: 517958\n",
      "cant null despues: 0\n"
     ]
    }
   ],
   "source": [
    "Do_resamples(data_2014_2, c, float)"
   ]
  },
  {
   "cell_type": "code",
   "execution_count": 318,
   "metadata": {
    "collapsed": false,
    "scrolled": true
   },
   "outputs": [
    {
     "name": "stdout",
     "output_type": "stream",
     "text": [
      "Float64Index([1985.0, 1986.0, 1987.0, 1988.0, 1989.0, 1990.0, 1991.0, 1992.0,\n",
      "              1993.0, 1994.0, 1995.0, 1996.0, 1997.0, 1998.0, 1999.0, 2000.0,\n",
      "              2001.0, 2002.0, 2003.0, 2004.0],\n",
      "             dtype='float64')\n",
      "1985     1002\n",
      "1986      208\n",
      "1987      150\n",
      "1988      131\n",
      "1989      147\n",
      "1990      212\n",
      "1991      149\n",
      "1992      160\n",
      "1993      205\n",
      "1994      208\n",
      "1995      200\n",
      "1996      267\n",
      "1997      305\n",
      "1998      435\n",
      "1999      764\n",
      "2000     2331\n",
      "2001     4412\n",
      "2002    17583\n",
      "2003    11184\n",
      "2004    16391\n",
      "Name: ESTU_ANO_MATRICULA_PRIMERO, dtype: int64\n",
      "Elementos null/NaN 517951\n",
      "__________________\n",
      "Elementos diferentes de null/NaN: 56444\n",
      "__________________\n",
      "(56444,)\n",
      "None\n"
     ]
    }
   ],
   "source": [
    "c = 'ESTU_ANO_MATRICULA_PRIMERO'\n",
    "print(data_2014_2[c].value_counts().sort_index().index)\n",
    "print(data_2014_2[c].value_counts().sort_index())\n",
    "print(missing_data(data_2014_2[c]))"
   ]
  },
  {
   "cell_type": "code",
   "execution_count": 319,
   "metadata": {
    "collapsed": false
   },
   "outputs": [
    {
     "name": "stdout",
     "output_type": "stream",
     "text": [
      "cant null antes: 517951\n",
      "cant null despues: 0\n"
     ]
    }
   ],
   "source": [
    "Do_resamples(data_2014_2, c, float)"
   ]
  },
  {
   "cell_type": "code",
   "execution_count": 320,
   "metadata": {
    "collapsed": false,
    "scrolled": true
   },
   "outputs": [
    {
     "name": "stdout",
     "output_type": "stream",
     "text": [
      "Float64Index([1985.0, 1986.0, 1987.0, 1988.0, 1989.0, 1990.0, 1991.0, 1992.0,\n",
      "              1993.0, 1994.0, 1995.0, 1996.0, 1997.0, 1998.0, 1999.0, 2000.0,\n",
      "              2001.0, 2002.0, 2003.0, 2004.0, 2005.0, 2006.0, 2007.0, 2008.0],\n",
      "             dtype='float64')\n",
      "1985      465\n",
      "1986       91\n",
      "1987       92\n",
      "1988       80\n",
      "1989      102\n",
      "1990      187\n",
      "1991      160\n",
      "1992      129\n",
      "1993       92\n",
      "1994       99\n",
      "1995      199\n",
      "1996      153\n",
      "1997      168\n",
      "1998      195\n",
      "1999      178\n",
      "2000      254\n",
      "2001      281\n",
      "2002      348\n",
      "2003      472\n",
      "2004      713\n",
      "2005     3038\n",
      "2006     5579\n",
      "2007    23352\n",
      "2008    20017\n",
      "Name: ESTU_ANO_TERMINO_QUINTO, dtype: int64\n",
      "Elementos null/NaN 517951\n",
      "__________________\n",
      "Elementos diferentes de null/NaN: 56444\n",
      "__________________\n",
      "(56444,)\n",
      "None\n"
     ]
    }
   ],
   "source": [
    "c = 'ESTU_ANO_TERMINO_QUINTO'\n",
    "print(data_2014_2[c].value_counts().sort_index().index)\n",
    "print(data_2014_2[c].value_counts().sort_index())\n",
    "print(missing_data(data_2014_2[c]))"
   ]
  },
  {
   "cell_type": "code",
   "execution_count": 321,
   "metadata": {
    "collapsed": false
   },
   "outputs": [
    {
     "name": "stdout",
     "output_type": "stream",
     "text": [
      "cant null antes: 517951\n",
      "cant null despues: 1\n",
      "cant null antes: 1\n",
      "cant null despues: 0\n"
     ]
    }
   ],
   "source": [
    "Do_resamples(data_2014_2, c, float)"
   ]
  },
  {
   "cell_type": "code",
   "execution_count": 322,
   "metadata": {
    "collapsed": false,
    "scrolled": true
   },
   "outputs": [
    {
     "name": "stdout",
     "output_type": "stream",
     "text": [
      "Float64Index([1985.0, 1986.0, 1987.0, 1988.0, 1989.0, 1990.0, 1991.0, 1992.0,\n",
      "              1993.0, 1994.0, 1995.0, 1996.0, 1997.0, 1998.0, 1999.0, 2000.0,\n",
      "              2001.0, 2002.0, 2003.0, 2004.0, 2005.0, 2006.0, 2007.0, 2008.0,\n",
      "              2009.0],\n",
      "             dtype='float64')\n",
      "1985      261\n",
      "1986       60\n",
      "1987       64\n",
      "1988       59\n",
      "1989       53\n",
      "1990      105\n",
      "1991      114\n",
      "1992      137\n",
      "1993      101\n",
      "1994       68\n",
      "1995       89\n",
      "1996      150\n",
      "1997      147\n",
      "1998      144\n",
      "1999      173\n",
      "2000      178\n",
      "2001      216\n",
      "2002      246\n",
      "2003      316\n",
      "2004      416\n",
      "2005      651\n",
      "2006     3025\n",
      "2007     5626\n",
      "2008    23940\n",
      "2009    20098\n",
      "Name: ESTU_ANO_MATRICULA_SEXTO, dtype: int64\n",
      "Elementos null/NaN 517958\n",
      "__________________\n",
      "Elementos diferentes de null/NaN: 56437\n",
      "__________________\n",
      "(56437,)\n",
      "None\n"
     ]
    }
   ],
   "source": [
    "c = 'ESTU_ANO_MATRICULA_SEXTO'\n",
    "print(data_2014_2[c].value_counts().sort_index().index)\n",
    "print(data_2014_2[c].value_counts().sort_index())\n",
    "print(missing_data(data_2014_2[c]))"
   ]
  },
  {
   "cell_type": "code",
   "execution_count": 323,
   "metadata": {
    "collapsed": false
   },
   "outputs": [
    {
     "name": "stdout",
     "output_type": "stream",
     "text": [
      "cant null antes: 517958\n",
      "cant null despues: 0\n"
     ]
    }
   ],
   "source": [
    "Do_resamples(data_2014_2, c, float)"
   ]
  },
  {
   "cell_type": "code",
   "execution_count": 324,
   "metadata": {
    "collapsed": false,
    "scrolled": true
   },
   "outputs": [
    {
     "name": "stdout",
     "output_type": "stream",
     "text": [
      "Float64Index([1980.0, 1981.0, 1982.0, 1983.0, 1984.0, 1985.0, 1986.0, 1987.0,\n",
      "              1988.0, 1989.0, 1990.0, 1991.0, 1992.0, 1993.0, 1994.0, 1995.0,\n",
      "              1996.0, 1997.0, 1998.0, 1999.0, 2000.0, 2001.0, 2002.0, 2003.0,\n",
      "              2004.0, 2005.0, 2006.0, 2007.0, 2008.0, 2009.0, 2010.0, 2011.0,\n",
      "              2012.0, 2013.0, 2014.0],\n",
      "             dtype='float64')\n",
      "1980     154\n",
      "1981      24\n",
      "1982      30\n",
      "1983      43\n",
      "1984      43\n",
      "1985      54\n",
      "1986      47\n",
      "1987      49\n",
      "1988      66\n",
      "1989      48\n",
      "1990      65\n",
      "1991      58\n",
      "1992      63\n",
      "1993      83\n",
      "1994      89\n",
      "1995      99\n",
      "1996     134\n",
      "1997     174\n",
      "1998     194\n",
      "1999     276\n",
      "2000     279\n",
      "2001     288\n",
      "2002     323\n",
      "2003     393\n",
      "2004     467\n",
      "2005     446\n",
      "2006     536\n",
      "2007     693\n",
      "2008     864\n",
      "2009    1092\n",
      "2010    1317\n",
      "2011    2083\n",
      "2012    3380\n",
      "2013    8629\n",
      "2014      93\n",
      "Name: ESTU_ANO_TERMINO_BACHILL, dtype: int64\n",
      "Elementos null/NaN 551719\n",
      "__________________\n",
      "Elementos diferentes de null/NaN: 22676\n",
      "__________________\n",
      "(22676,)\n",
      "None\n"
     ]
    }
   ],
   "source": [
    "c = 'ESTU_ANO_TERMINO_BACHILL'\n",
    "print(data_2014_2[c].value_counts().sort_index().index)\n",
    "print(data_2014_2[c].value_counts().sort_index())\n",
    "print(missing_data(data_2014_2[c]))"
   ]
  },
  {
   "cell_type": "code",
   "execution_count": 325,
   "metadata": {
    "collapsed": false
   },
   "outputs": [
    {
     "name": "stdout",
     "output_type": "stream",
     "text": [
      "cant null antes: 551719\n",
      "cant null despues: 2\n",
      "cant null antes: 2\n",
      "cant null despues: 0\n"
     ]
    }
   ],
   "source": [
    "Do_resamples(data_2014_2, c, float)"
   ]
  },
  {
   "cell_type": "code",
   "execution_count": 326,
   "metadata": {
    "collapsed": false
   },
   "outputs": [
    {
     "name": "stdout",
     "output_type": "stream",
     "text": [
      "Float64Index([1.0, 2.0, 3.0], dtype='float64')\n",
      "1    39306\n",
      "2    10503\n",
      "3     6628\n",
      "Name: ESTU_CUANTOS_COLE_ESTUDIO, dtype: int64\n",
      "Elementos null/NaN 517958\n",
      "__________________\n",
      "Elementos diferentes de null/NaN: 56437\n",
      "__________________\n",
      "(56437,)\n",
      "None\n"
     ]
    }
   ],
   "source": [
    "c = 'ESTU_CUANTOS_COLE_ESTUDIO'\n",
    "print(data_2014_2[c].value_counts().sort_index().index)\n",
    "print(data_2014_2[c].value_counts().sort_index())\n",
    "print(missing_data(data_2014_2[c]))"
   ]
  },
  {
   "cell_type": "code",
   "execution_count": 327,
   "metadata": {
    "collapsed": false
   },
   "outputs": [
    {
     "name": "stdout",
     "output_type": "stream",
     "text": [
      "cant null antes: 517958\n",
      "cant null despues: 0\n"
     ]
    }
   ],
   "source": [
    "Do_resamples(data_2014_2, c, float)"
   ]
  },
  {
   "cell_type": "code",
   "execution_count": 328,
   "metadata": {
    "collapsed": false
   },
   "outputs": [
    {
     "name": "stdout",
     "output_type": "stream",
     "text": [
      "Float64Index([1.0, 2.0, 3.0, 4.0, 5.0, 6.0, 7.0, 8.0, 9.0, 10.0, 11.0, 12.0], dtype='float64')\n",
      "1        84\n",
      "2       174\n",
      "3       169\n",
      "4       216\n",
      "5       103\n",
      "6      1301\n",
      "7      2105\n",
      "8       401\n",
      "9       285\n",
      "10      221\n",
      "11     5678\n",
      "12    11937\n",
      "Name: ESTU_MES_TERMINO_BACHILL, dtype: int64\n",
      "Elementos null/NaN 551721\n",
      "__________________\n",
      "Elementos diferentes de null/NaN: 22674\n",
      "__________________\n",
      "(22674,)\n",
      "None\n"
     ]
    }
   ],
   "source": [
    "c = 'ESTU_MES_TERMINO_BACHILL'\n",
    "print(data_2014_2[c].value_counts().sort_index().index)\n",
    "print(data_2014_2[c].value_counts().sort_index())\n",
    "print(missing_data(data_2014_2[c]))"
   ]
  },
  {
   "cell_type": "code",
   "execution_count": 329,
   "metadata": {
    "collapsed": false
   },
   "outputs": [
    {
     "name": "stdout",
     "output_type": "stream",
     "text": [
      "cant null antes: 551721\n",
      "cant null despues: 1\n",
      "cant null antes: 1\n",
      "cant null despues: 0\n"
     ]
    }
   ],
   "source": [
    "Do_resamples(data_2014_2, c, float)"
   ]
  },
  {
   "cell_type": "code",
   "execution_count": 330,
   "metadata": {
    "collapsed": false
   },
   "outputs": [
    {
     "name": "stdout",
     "output_type": "stream",
     "text": [
      "Float64Index([1.0, 2.0, 3.0, 4.0, 5.0, 6.0, 7.0, 8.0, 9.0], dtype='float64')\n",
      "1     251\n",
      "2     578\n",
      "3    2471\n",
      "4    1050\n",
      "5     834\n",
      "6     476\n",
      "7     192\n",
      "8     144\n",
      "9    3716\n",
      "Name: ESTU_RAZON_RETIRO, dtype: int64\n",
      "Elementos null/NaN 564683\n",
      "__________________\n",
      "Elementos diferentes de null/NaN: 9712\n",
      "__________________\n",
      "(9712,)\n",
      "None\n"
     ]
    }
   ],
   "source": [
    "c = 'ESTU_RAZON_RETIRO'\n",
    "print(data_2014_2[c].value_counts().sort_index().index)\n",
    "print(data_2014_2[c].value_counts().sort_index())\n",
    "print(missing_data(data_2014_2[c]))"
   ]
  },
  {
   "cell_type": "code",
   "execution_count": 331,
   "metadata": {
    "collapsed": false
   },
   "outputs": [
    {
     "name": "stdout",
     "output_type": "stream",
     "text": [
      "cant null antes: 564683\n",
      "cant null despues: 0\n"
     ]
    }
   ],
   "source": [
    "Do_resamples(data_2014_2, c, float)"
   ]
  },
  {
   "cell_type": "code",
   "execution_count": 332,
   "metadata": {
    "collapsed": false
   },
   "outputs": [
    {
     "name": "stdout",
     "output_type": "stream",
     "text": [
      "Float64Index([1.0, 2.0, 3.0, 4.0], dtype='float64')\n",
      "1    46767\n",
      "2     3253\n",
      "3     3379\n",
      "4     3045\n",
      "Name: ESTU_RETIRARSE_COLEGIO, dtype: int64\n",
      "Elementos null/NaN 517951\n",
      "__________________\n",
      "Elementos diferentes de null/NaN: 56444\n",
      "__________________\n",
      "(56444,)\n",
      "None\n"
     ]
    }
   ],
   "source": [
    "c = 'ESTU_RETIRARSE_COLEGIO'\n",
    "print(data_2014_2[c].value_counts().sort_index().index)\n",
    "print(data_2014_2[c].value_counts().sort_index())\n",
    "print(missing_data(data_2014_2[c]))"
   ]
  },
  {
   "cell_type": "code",
   "execution_count": 333,
   "metadata": {
    "collapsed": false
   },
   "outputs": [
    {
     "name": "stdout",
     "output_type": "stream",
     "text": [
      "cant null antes: 517951\n",
      "cant null despues: 0\n"
     ]
    }
   ],
   "source": [
    "Do_resamples(data_2014_2, c, float)"
   ]
  },
  {
   "cell_type": "code",
   "execution_count": 334,
   "metadata": {
    "collapsed": false
   },
   "outputs": [
    {
     "name": "stdout",
     "output_type": "stream",
     "text": [
      "Float64Index([1.0, 2.0, 3.0, 4.0], dtype='float64')\n",
      "1     6853\n",
      "2     4590\n",
      "3    42982\n",
      "4     2019\n",
      "Name: ESTU_TIPO_CARRERA_DESEADA, dtype: int64\n",
      "Elementos null/NaN 517951\n",
      "__________________\n",
      "Elementos diferentes de null/NaN: 56444\n",
      "__________________\n",
      "(56444,)\n",
      "None\n"
     ]
    }
   ],
   "source": [
    "c = 'ESTU_TIPO_CARRERA_DESEADA'\n",
    "print(data_2014_2[c].value_counts().sort_index().index)\n",
    "print(data_2014_2[c].value_counts().sort_index())\n",
    "print(missing_data(data_2014_2[c]))"
   ]
  },
  {
   "cell_type": "code",
   "execution_count": 335,
   "metadata": {
    "collapsed": false
   },
   "outputs": [
    {
     "name": "stdout",
     "output_type": "stream",
     "text": [
      "cant null antes: 517951\n",
      "cant null despues: 0\n"
     ]
    }
   ],
   "source": [
    "Do_resamples(data_2014_2, c, float)"
   ]
  },
  {
   "cell_type": "code",
   "execution_count": 336,
   "metadata": {
    "collapsed": false,
    "scrolled": true
   },
   "outputs": [
    {
     "name": "stdout",
     "output_type": "stream",
     "text": [
      "Index(['10009', '10013', '10052', '10055', '10086', '10139', '10143', '10151',\n",
      "       '10158', '10177',\n",
      "       ...\n",
      "       '9609', '9645', '9646', '965', '9786', '9788', '995', '9958', '99999',\n",
      "       'Otro'],\n",
      "      dtype='object', length=1098)\n",
      "10009        3\n",
      "10013        1\n",
      "10052        9\n",
      "10055        1\n",
      "10086        1\n",
      "10139        4\n",
      "10143        4\n",
      "10151        1\n",
      "10158        4\n",
      "10177       27\n",
      "10187        1\n",
      "10199        3\n",
      "10220        1\n",
      "10241        3\n",
      "10251        3\n",
      "10260       40\n",
      "1027         1\n",
      "10281        2\n",
      "10282        3\n",
      "10296        1\n",
      "10302        7\n",
      "10306        1\n",
      "10319        4\n",
      "10342        2\n",
      "10354        2\n",
      "10357        1\n",
      "1038         1\n",
      "10380        1\n",
      "10396        1\n",
      "1041         2\n",
      "         ...  \n",
      "9249         3\n",
      "9250        42\n",
      "9258         4\n",
      "9264         2\n",
      "9268         1\n",
      "9275         1\n",
      "9284         2\n",
      "9296         8\n",
      "9298         1\n",
      "9312         1\n",
      "938          1\n",
      "9445         1\n",
      "9448         1\n",
      "9480         8\n",
      "949          1\n",
      "9490         7\n",
      "9521         4\n",
      "9582         1\n",
      "9607         3\n",
      "9608         1\n",
      "9609         1\n",
      "9645         7\n",
      "9646        12\n",
      "965          7\n",
      "9786         5\n",
      "9788         1\n",
      "995          3\n",
      "9958         1\n",
      "99999       25\n",
      "Otro     12158\n",
      "Name: ESTU_IES_COD_DESEADA, dtype: int64\n",
      "Elementos null/NaN 519852\n",
      "__________________\n",
      "Elementos diferentes de null/NaN: 54543\n",
      "__________________\n",
      "(54543,)\n",
      "None\n"
     ]
    }
   ],
   "source": [
    "c = 'ESTU_IES_COD_DESEADA'\n",
    "print(data_2014_2[c].value_counts().sort_index().index)\n",
    "print(data_2014_2[c].value_counts().sort_index())\n",
    "print(missing_data(data_2014_2[c]))"
   ]
  },
  {
   "cell_type": "code",
   "execution_count": 337,
   "metadata": {
    "collapsed": true
   },
   "outputs": [],
   "source": [
    "data_2014_2[c] = data_2014_2[c].replace('Otro', np.nan)\n",
    "for i in data_2014_2[c].value_counts().sort_index().index:\n",
    "    if len(str(i)) < 4:\n",
    "        data_2014_2[c] = data_2014_2[c].replace(i, np.nan)\n",
    "data_2014_2[c].fillna(method='bfill', inplace=True)\n",
    "data_2014_2[c].fillna(method='ffill', inplace=True)"
   ]
  },
  {
   "cell_type": "code",
   "execution_count": 338,
   "metadata": {
    "collapsed": false,
    "scrolled": true
   },
   "outputs": [
    {
     "name": "stdout",
     "output_type": "stream",
     "text": [
      "Float64Index([    1.0,     2.0,     4.0,     5.0,     6.0,     7.0,     8.0,\n",
      "                  9.0,    10.0,    11.0,\n",
      "              ...\n",
      "               1092.0,  1093.0,  1094.0,  1104.0,  1113.0,  1117.0,  1123.0,\n",
      "               1124.0,  1127.0, 99999.0],\n",
      "             dtype='float64', length=532)\n",
      "1        6712\n",
      "2           4\n",
      "4           1\n",
      "5           6\n",
      "6          16\n",
      "7          55\n",
      "8           1\n",
      "9           2\n",
      "10          2\n",
      "11         44\n",
      "12          1\n",
      "13        145\n",
      "14          8\n",
      "17         13\n",
      "19        123\n",
      "21          2\n",
      "22          3\n",
      "25          4\n",
      "26          1\n",
      "27         38\n",
      "29          6\n",
      "32          2\n",
      "33         65\n",
      "35        100\n",
      "36         15\n",
      "38          1\n",
      "40          2\n",
      "41          7\n",
      "42          5\n",
      "43          8\n",
      "         ... \n",
      "1057       19\n",
      "1058       11\n",
      "1059      269\n",
      "1060        7\n",
      "1065        6\n",
      "1067        1\n",
      "1068        9\n",
      "1075        4\n",
      "1076        4\n",
      "1077        2\n",
      "1078       73\n",
      "1079        1\n",
      "1080        2\n",
      "1081       18\n",
      "1084        4\n",
      "1085        5\n",
      "1087        1\n",
      "1089        4\n",
      "1090        4\n",
      "1091       16\n",
      "1092        2\n",
      "1093       63\n",
      "1094        2\n",
      "1104        9\n",
      "1113       25\n",
      "1117       15\n",
      "1123       10\n",
      "1124        1\n",
      "1127        2\n",
      "99999      95\n",
      "Name: ESTU_IES_MPIO_DESEADA, dtype: int64\n",
      "Elementos null/NaN 519718\n",
      "__________________\n",
      "Elementos diferentes de null/NaN: 54677\n",
      "__________________\n",
      "(54677,)\n",
      "None\n"
     ]
    }
   ],
   "source": [
    "c = 'ESTU_IES_MPIO_DESEADA'\n",
    "print(data_2014_2[c].value_counts().sort_index().index)\n",
    "print(data_2014_2[c].value_counts().sort_index())\n",
    "print(missing_data(data_2014_2[c]))"
   ]
  },
  {
   "cell_type": "code",
   "execution_count": 339,
   "metadata": {
    "collapsed": true
   },
   "outputs": [],
   "source": [
    "data_2014_2[c].fillna(method='bfill', inplace=True)\n",
    "data_2014_2[c].fillna(method='ffill', inplace=True)"
   ]
  },
  {
   "cell_type": "code",
   "execution_count": 340,
   "metadata": {
    "collapsed": false
   },
   "outputs": [
    {
     "name": "stdout",
     "output_type": "stream",
     "text": [
      "Index(['N', 'S'], dtype='object')\n",
      "N    18550\n",
      "S    37886\n",
      "Name: ESTU_POR_OPORTUNIDADES, dtype: int64\n",
      "Elementos null/NaN 517959\n",
      "__________________\n",
      "Elementos diferentes de null/NaN: 56436\n",
      "__________________\n",
      "(56436,)\n",
      "None\n"
     ]
    }
   ],
   "source": [
    "c = 'ESTU_POR_OPORTUNIDADES'\n",
    "print(data_2014_2[c].value_counts().sort_index().index)\n",
    "print(data_2014_2[c].value_counts().sort_index())\n",
    "print(missing_data(data_2014_2[c]))"
   ]
  },
  {
   "cell_type": "code",
   "execution_count": 341,
   "metadata": {
    "collapsed": false
   },
   "outputs": [
    {
     "name": "stdout",
     "output_type": "stream",
     "text": [
      "cant null antes: 517959\n",
      "cant null despues: 0\n"
     ]
    }
   ],
   "source": [
    "Do_resamples(data_2014_2, c, str)"
   ]
  },
  {
   "cell_type": "code",
   "execution_count": 342,
   "metadata": {
    "collapsed": false
   },
   "outputs": [
    {
     "name": "stdout",
     "output_type": "stream",
     "text": [
      "Index(['N', 'S'], dtype='object')\n",
      "N    41350\n",
      "S    15086\n",
      "Name: ESTU_POR_AMIGOSESTUDIANDO, dtype: int64\n",
      "Elementos null/NaN 517959\n",
      "__________________\n",
      "Elementos diferentes de null/NaN: 56436\n",
      "__________________\n",
      "(56436,)\n",
      "None\n"
     ]
    }
   ],
   "source": [
    "c = 'ESTU_POR_AMIGOSESTUDIANDO'\n",
    "print(data_2014_2[c].value_counts().sort_index().index)\n",
    "print(data_2014_2[c].value_counts().sort_index())\n",
    "print(missing_data(data_2014_2[c]))"
   ]
  },
  {
   "cell_type": "code",
   "execution_count": 343,
   "metadata": {
    "collapsed": false
   },
   "outputs": [
    {
     "name": "stdout",
     "output_type": "stream",
     "text": [
      "cant null antes: 517959\n",
      "cant null despues: 0\n"
     ]
    }
   ],
   "source": [
    "Do_resamples(data_2014_2, c, str)"
   ]
  },
  {
   "cell_type": "code",
   "execution_count": 344,
   "metadata": {
    "collapsed": false
   },
   "outputs": [
    {
     "name": "stdout",
     "output_type": "stream",
     "text": [
      "Index(['NO', 'SI'], dtype='object')\n",
      "NO    35492\n",
      "SI    10021\n",
      "Name: ESTU_POR_BUSCANDOCARRERA, dtype: int64\n",
      "Elementos null/NaN 528882\n",
      "__________________\n",
      "Elementos diferentes de null/NaN: 45513\n",
      "__________________\n",
      "(45513,)\n",
      "None\n"
     ]
    }
   ],
   "source": [
    "c = 'ESTU_POR_BUSCANDOCARRERA'\n",
    "print(data_2014_2[c].value_counts().sort_index().index)\n",
    "print(data_2014_2[c].value_counts().sort_index())\n",
    "print(missing_data(data_2014_2[c]))"
   ]
  },
  {
   "cell_type": "code",
   "execution_count": 345,
   "metadata": {
    "collapsed": false
   },
   "outputs": [
    {
     "name": "stdout",
     "output_type": "stream",
     "text": [
      "cant null antes: 528882\n",
      "cant null despues: 0\n"
     ]
    }
   ],
   "source": [
    "Do_resamples(data_2014_2, c, str)"
   ]
  },
  {
   "cell_type": "code",
   "execution_count": 346,
   "metadata": {
    "collapsed": false
   },
   "outputs": [
    {
     "name": "stdout",
     "output_type": "stream",
     "text": [
      "Index(['NO', 'SI'], dtype='object')\n",
      "NO    31194\n",
      "SI    14494\n",
      "Name: ESTU_POR_COLOMBIAAPRENDE, dtype: int64\n",
      "Elementos null/NaN 528707\n",
      "__________________\n",
      "Elementos diferentes de null/NaN: 45688\n",
      "__________________\n",
      "(45688,)\n",
      "None\n"
     ]
    }
   ],
   "source": [
    "c = 'ESTU_POR_COLOMBIAAPRENDE'\n",
    "print(data_2014_2[c].value_counts().sort_index().index)\n",
    "print(data_2014_2[c].value_counts().sort_index())\n",
    "print(missing_data(data_2014_2[c]))"
   ]
  },
  {
   "cell_type": "code",
   "execution_count": 347,
   "metadata": {
    "collapsed": false
   },
   "outputs": [
    {
     "name": "stdout",
     "output_type": "stream",
     "text": [
      "cant null antes: 528707\n",
      "cant null despues: 0\n"
     ]
    }
   ],
   "source": [
    "Do_resamples(data_2014_2, c, str)"
   ]
  },
  {
   "cell_type": "code",
   "execution_count": 348,
   "metadata": {
    "collapsed": false
   },
   "outputs": [
    {
     "name": "stdout",
     "output_type": "stream",
     "text": [
      "Index(['N', 'S'], dtype='object')\n",
      "N    18390\n",
      "S    38046\n",
      "Name: ESTU_POR_COSTOMATRICULA, dtype: int64\n",
      "Elementos null/NaN 517959\n",
      "__________________\n",
      "Elementos diferentes de null/NaN: 56436\n",
      "__________________\n",
      "(56436,)\n",
      "None\n"
     ]
    }
   ],
   "source": [
    "c = 'ESTU_POR_COSTOMATRICULA'\n",
    "print(data_2014_2[c].value_counts().sort_index().index)\n",
    "print(data_2014_2[c].value_counts().sort_index())\n",
    "print(missing_data(data_2014_2[c]))"
   ]
  },
  {
   "cell_type": "code",
   "execution_count": 349,
   "metadata": {
    "collapsed": false
   },
   "outputs": [
    {
     "name": "stdout",
     "output_type": "stream",
     "text": [
      "cant null antes: 517959\n",
      "cant null despues: 0\n"
     ]
    }
   ],
   "source": [
    "Do_resamples(data_2014_2, c, str)"
   ]
  },
  {
   "cell_type": "code",
   "execution_count": 350,
   "metadata": {
    "collapsed": false
   },
   "outputs": [
    {
     "name": "stdout",
     "output_type": "stream",
     "text": [
      "Index(['N', 'S'], dtype='object')\n",
      "N    41693\n",
      "S    14743\n",
      "Name: ESTU_POR_INFLUENCIAALGUIEN, dtype: int64\n",
      "Elementos null/NaN 517959\n",
      "__________________\n",
      "Elementos diferentes de null/NaN: 56436\n",
      "__________________\n",
      "(56436,)\n",
      "None\n"
     ]
    }
   ],
   "source": [
    "c = 'ESTU_POR_INFLUENCIAALGUIEN'\n",
    "print(data_2014_2[c].value_counts().sort_index().index)\n",
    "print(data_2014_2[c].value_counts().sort_index())\n",
    "print(missing_data(data_2014_2[c]))"
   ]
  },
  {
   "cell_type": "code",
   "execution_count": 351,
   "metadata": {
    "collapsed": false
   },
   "outputs": [
    {
     "name": "stdout",
     "output_type": "stream",
     "text": [
      "cant null antes: 517959\n",
      "cant null despues: 0\n"
     ]
    }
   ],
   "source": [
    "Do_resamples(data_2014_2, c, str)"
   ]
  },
  {
   "cell_type": "code",
   "execution_count": 352,
   "metadata": {
    "collapsed": false
   },
   "outputs": [
    {
     "name": "stdout",
     "output_type": "stream",
     "text": [
      "Index(['N', 'S'], dtype='object')\n",
      "N     4322\n",
      "S    52114\n",
      "Name: ESTU_POR_INTERESPERSONAL, dtype: int64\n",
      "Elementos null/NaN 517959\n",
      "__________________\n",
      "Elementos diferentes de null/NaN: 56436\n",
      "__________________\n",
      "(56436,)\n",
      "None\n"
     ]
    }
   ],
   "source": [
    "c = 'ESTU_POR_INTERESPERSONAL'\n",
    "print(data_2014_2[c].value_counts().sort_index().index)\n",
    "print(data_2014_2[c].value_counts().sort_index())\n",
    "print(missing_data(data_2014_2[c]))"
   ]
  },
  {
   "cell_type": "code",
   "execution_count": 353,
   "metadata": {
    "collapsed": false
   },
   "outputs": [
    {
     "name": "stdout",
     "output_type": "stream",
     "text": [
      "cant null antes: 517959\n",
      "cant null despues: 0\n"
     ]
    }
   ],
   "source": [
    "Do_resamples(data_2014_2, c, str)"
   ]
  },
  {
   "cell_type": "code",
   "execution_count": 354,
   "metadata": {
    "collapsed": false
   },
   "outputs": [
    {
     "name": "stdout",
     "output_type": "stream",
     "text": [
      "Index(['N', 'S'], dtype='object')\n",
      "N    16255\n",
      "S    40181\n",
      "Name: ESTU_POR_MEJORARPOSICIONSOCIAL, dtype: int64\n",
      "Elementos null/NaN 517959\n",
      "__________________\n",
      "Elementos diferentes de null/NaN: 56436\n",
      "__________________\n",
      "(56436,)\n",
      "None\n"
     ]
    }
   ],
   "source": [
    "c = 'ESTU_POR_MEJORARPOSICIONSOCIAL'\n",
    "print(data_2014_2[c].value_counts().sort_index().index)\n",
    "print(data_2014_2[c].value_counts().sort_index())\n",
    "print(missing_data(data_2014_2[c]))"
   ]
  },
  {
   "cell_type": "code",
   "execution_count": 355,
   "metadata": {
    "collapsed": false
   },
   "outputs": [
    {
     "name": "stdout",
     "output_type": "stream",
     "text": [
      "cant null antes: 517959\n",
      "cant null despues: 0\n"
     ]
    }
   ],
   "source": [
    "Do_resamples(data_2014_2, c, str)"
   ]
  },
  {
   "cell_type": "code",
   "execution_count": 356,
   "metadata": {
    "collapsed": false
   },
   "outputs": [
    {
     "name": "stdout",
     "output_type": "stream",
     "text": [
      "Index(['NO', 'SI'], dtype='object')\n",
      "NO    20525\n",
      "SI    28787\n",
      "Name: ESTU_POR_ORIENTACIONVOCACIONAL, dtype: int64\n",
      "Elementos null/NaN 525083\n",
      "__________________\n",
      "Elementos diferentes de null/NaN: 49312\n",
      "__________________\n",
      "(49312,)\n",
      "None\n"
     ]
    }
   ],
   "source": [
    "c = 'ESTU_POR_ORIENTACIONVOCACIONAL'\n",
    "print(data_2014_2[c].value_counts().sort_index().index)\n",
    "print(data_2014_2[c].value_counts().sort_index())\n",
    "print(missing_data(data_2014_2[c]))"
   ]
  },
  {
   "cell_type": "code",
   "execution_count": 357,
   "metadata": {
    "collapsed": false
   },
   "outputs": [
    {
     "name": "stdout",
     "output_type": "stream",
     "text": [
      "cant null antes: 525083\n",
      "cant null despues: 0\n"
     ]
    }
   ],
   "source": [
    "Do_resamples(data_2014_2, c, str)"
   ]
  },
  {
   "cell_type": "code",
   "execution_count": 358,
   "metadata": {
    "collapsed": false
   },
   "outputs": [
    {
     "name": "stdout",
     "output_type": "stream",
     "text": [
      "Index(['N', 'S'], dtype='object')\n",
      "N    42611\n",
      "S    13825\n",
      "Name: ESTU_POR_OTRARAZON, dtype: int64\n",
      "Elementos null/NaN 517959\n",
      "__________________\n",
      "Elementos diferentes de null/NaN: 56436\n",
      "__________________\n",
      "(56436,)\n",
      "None\n"
     ]
    }
   ],
   "source": [
    "c = 'ESTU_POR_OTRARAZON'\n",
    "print(data_2014_2[c].value_counts().sort_index().index)\n",
    "print(data_2014_2[c].value_counts().sort_index())\n",
    "print(missing_data(data_2014_2[c]))"
   ]
  },
  {
   "cell_type": "code",
   "execution_count": 359,
   "metadata": {
    "collapsed": false
   },
   "outputs": [
    {
     "name": "stdout",
     "output_type": "stream",
     "text": [
      "cant null antes: 517959\n",
      "cant null despues: 0\n"
     ]
    }
   ],
   "source": [
    "Do_resamples(data_2014_2, c, str)"
   ]
  },
  {
   "cell_type": "code",
   "execution_count": 360,
   "metadata": {
    "collapsed": false
   },
   "outputs": [
    {
     "name": "stdout",
     "output_type": "stream",
     "text": [
      "Index(['N', 'S'], dtype='object')\n",
      "N    48637\n",
      "S     7799\n",
      "Name: ESTU_POR_TRADICIONFAMILIAR, dtype: int64\n",
      "Elementos null/NaN 517959\n",
      "__________________\n",
      "Elementos diferentes de null/NaN: 56436\n",
      "__________________\n",
      "(56436,)\n",
      "None\n"
     ]
    }
   ],
   "source": [
    "c = 'ESTU_POR_TRADICIONFAMILIAR'\n",
    "print(data_2014_2[c].value_counts().sort_index().index)\n",
    "print(data_2014_2[c].value_counts().sort_index())\n",
    "print(missing_data(data_2014_2[c]))"
   ]
  },
  {
   "cell_type": "code",
   "execution_count": 361,
   "metadata": {
    "collapsed": false
   },
   "outputs": [
    {
     "name": "stdout",
     "output_type": "stream",
     "text": [
      "cant null antes: 517959\n",
      "cant null despues: 0\n"
     ]
    }
   ],
   "source": [
    "Do_resamples(data_2014_2, c, str)"
   ]
  },
  {
   "cell_type": "code",
   "execution_count": 362,
   "metadata": {
    "collapsed": false
   },
   "outputs": [
    {
     "name": "stdout",
     "output_type": "stream",
     "text": [
      "Index(['N', 'S'], dtype='object')\n",
      "N    25010\n",
      "S    31426\n",
      "Name: ESTU_POR_UBICACION, dtype: int64\n",
      "Elementos null/NaN 517959\n",
      "__________________\n",
      "Elementos diferentes de null/NaN: 56436\n",
      "__________________\n",
      "(56436,)\n",
      "None\n"
     ]
    }
   ],
   "source": [
    "c = 'ESTU_POR_UBICACION'\n",
    "print(data_2014_2[c].value_counts().sort_index().index)\n",
    "print(data_2014_2[c].value_counts().sort_index())\n",
    "print(missing_data(data_2014_2[c]))"
   ]
  },
  {
   "cell_type": "code",
   "execution_count": 363,
   "metadata": {
    "collapsed": false
   },
   "outputs": [
    {
     "name": "stdout",
     "output_type": "stream",
     "text": [
      "cant null antes: 517959\n",
      "cant null despues: 0\n"
     ]
    }
   ],
   "source": [
    "Do_resamples(data_2014_2, c, str)"
   ]
  },
  {
   "cell_type": "code",
   "execution_count": 364,
   "metadata": {
    "collapsed": false
   },
   "outputs": [
    {
     "name": "stdout",
     "output_type": "stream",
     "text": [
      "Index(['N', 'S'], dtype='object')\n",
      "N    44634\n",
      "S    11802\n",
      "Name: ESTU_POR_UNICAQUEOFRECE, dtype: int64\n",
      "Elementos null/NaN 517959\n",
      "__________________\n",
      "Elementos diferentes de null/NaN: 56436\n",
      "__________________\n",
      "(56436,)\n",
      "None\n"
     ]
    }
   ],
   "source": [
    "c = 'ESTU_POR_UNICAQUEOFRECE'\n",
    "print(data_2014_2[c].value_counts().sort_index().index)\n",
    "print(data_2014_2[c].value_counts().sort_index())\n",
    "print(missing_data(data_2014_2[c]))"
   ]
  },
  {
   "cell_type": "code",
   "execution_count": 365,
   "metadata": {
    "collapsed": false
   },
   "outputs": [
    {
     "name": "stdout",
     "output_type": "stream",
     "text": [
      "cant null antes: 517959\n",
      "cant null despues: 0\n"
     ]
    }
   ],
   "source": [
    "Do_resamples(data_2014_2, c, str)"
   ]
  },
  {
   "cell_type": "code",
   "execution_count": 366,
   "metadata": {
    "collapsed": false
   },
   "outputs": [
    {
     "name": "stdout",
     "output_type": "stream",
     "text": [
      "Index(['N', 'S'], dtype='object')\n",
      "N    15701\n",
      "S    40735\n",
      "Name: ESTU_PRESTIGIOINSTITUCION, dtype: int64\n",
      "Elementos null/NaN 517959\n",
      "__________________\n",
      "Elementos diferentes de null/NaN: 56436\n",
      "__________________\n",
      "(56436,)\n",
      "None\n"
     ]
    }
   ],
   "source": [
    "c = 'ESTU_PRESTIGIOINSTITUCION'\n",
    "print(data_2014_2[c].value_counts().sort_index().index)\n",
    "print(data_2014_2[c].value_counts().sort_index())\n",
    "print(missing_data(data_2014_2[c]))"
   ]
  },
  {
   "cell_type": "code",
   "execution_count": 367,
   "metadata": {
    "collapsed": false
   },
   "outputs": [
    {
     "name": "stdout",
     "output_type": "stream",
     "text": [
      "cant null antes: 517959\n",
      "cant null despues: 0\n"
     ]
    }
   ],
   "source": [
    "Do_resamples(data_2014_2, c, str)"
   ]
  },
  {
   "cell_type": "code",
   "execution_count": 368,
   "metadata": {
    "collapsed": false,
    "scrolled": true
   },
   "outputs": [
    {
     "name": "stdout",
     "output_type": "stream",
     "text": [
      "Float64Index([ 1.0,  2.0,  3.0,  4.0,  5.0,  6.0,  7.0,  8.0,  9.0, 11.0, 12.0,\n",
      "              13.0, 18.0, 19.0, 20.0, 21.0, 22.0, 23.0, 24.0, 25.0, 26.0, 27.0,\n",
      "              28.0, 29.0, 30.0, 31.0, 32.0, 33.0, 34.0, 35.0, 36.0, 37.0, 39.0,\n",
      "              40.0, 41.0, 42.0, 44.0, 45.0, 46.0, 47.0, 48.0, 50.0, 53.0, 55.0,\n",
      "              56.0, 57.0, 58.0, 59.0, 61.0, 62.0, 64.0, 66.0, 68.0, 69.0, 70.0,\n",
      "              99.0],\n",
      "             dtype='float64')\n",
      "1     1424\n",
      "2      566\n",
      "3      691\n",
      "4      585\n",
      "5      195\n",
      "6      285\n",
      "7     1643\n",
      "8      503\n",
      "9     7548\n",
      "11     564\n",
      "12    1564\n",
      "13    1199\n",
      "18    1606\n",
      "19     105\n",
      "20    1331\n",
      "21     453\n",
      "22     321\n",
      "23     410\n",
      "24     165\n",
      "25    1844\n",
      "26     554\n",
      "27    2307\n",
      "28     487\n",
      "29     802\n",
      "30    1353\n",
      "31    1698\n",
      "32     449\n",
      "33     782\n",
      "34     391\n",
      "35     160\n",
      "36     213\n",
      "37     167\n",
      "39     193\n",
      "40     490\n",
      "41    2566\n",
      "42     278\n",
      "44      91\n",
      "45    5031\n",
      "46     274\n",
      "47     895\n",
      "48     117\n",
      "50     534\n",
      "53     150\n",
      "55      48\n",
      "56     460\n",
      "57    1418\n",
      "58    1022\n",
      "59    2038\n",
      "61     686\n",
      "62     121\n",
      "64     969\n",
      "66    2601\n",
      "68     166\n",
      "69     502\n",
      "70     158\n",
      "99    3264\n",
      "Name: ESTU_PROGRAMA_ACADEMICODESEADO, dtype: int64\n",
      "Elementos null/NaN 517958\n",
      "__________________\n",
      "Elementos diferentes de null/NaN: 56437\n",
      "__________________\n",
      "(56437,)\n",
      "None\n"
     ]
    }
   ],
   "source": [
    "c = 'ESTU_PROGRAMA_ACADEMICODESEADO'\n",
    "print(data_2014_2[c].value_counts().sort_index().index)\n",
    "print(data_2014_2[c].value_counts().sort_index())\n",
    "print(missing_data(data_2014_2[c]))"
   ]
  },
  {
   "cell_type": "code",
   "execution_count": 369,
   "metadata": {
    "collapsed": false
   },
   "outputs": [
    {
     "name": "stdout",
     "output_type": "stream",
     "text": [
      "cant null antes: 517958\n",
      "cant null despues: 0\n"
     ]
    }
   ],
   "source": [
    "Do_resamples(data_2014_2, c, float)"
   ]
  },
  {
   "cell_type": "code",
   "execution_count": 370,
   "metadata": {
    "collapsed": false,
    "scrolled": true
   },
   "outputs": [
    {
     "name": "stdout",
     "output_type": "stream",
     "text": [
      "Index([' ', ' BACHILLERATO EN PROMOCION SOCIAL P', ' COLEGIO EUGENIA RAVASCO ',\n",
      "       ' I.E.ALFONZO LOPEZ', ' INSTITUCION  EDUCATIVA EDUARDO  SANTOS',\n",
      "       ' INSTITUCION EDUCATIVA ALVARO ECHEVERRY ', ' ITEC',\n",
      "       ' Nuevo instituto san miguel', ' PEDRONEL DURANGO',\n",
      "       ' SANTA ISABEL DE HUNGRIA SEDE SAN LUIS',\n",
      "       ...\n",
      "       'universidad la gran colombia',\n",
      "       'universidad nacional abierta y distancia', 'uribesco',\n",
      "       'valentin manjarez', 'validacion', 'victor ramirez arevalo',\n",
      "       'villa de las palmas', 'villa de los andes', 'villa de los andes ',\n",
      "       'villa margarita'],\n",
      "      dtype='object', length=5465)\n",
      "                                            1\n",
      " BACHILLERATO EN PROMOCION SOCIAL P         1\n",
      " COLEGIO EUGENIA RAVASCO                    1\n",
      " I.E.ALFONZO LOPEZ                          1\n",
      " INSTITUCION  EDUCATIVA EDUARDO  SANTOS     1\n",
      " INSTITUCION EDUCATIVA ALVARO ECHEVERRY     1\n",
      " ITEC                                       1\n",
      " Nuevo instituto san miguel                 1\n",
      " PEDRONEL DURANGO                           1\n",
      " SANTA ISABEL DE HUNGRIA SEDE SAN LUIS      1\n",
      " TECNICA AGROPECUARIA SAN RAFAEL            1\n",
      " colegio guillermo cote  bautista           1\n",
      " colegio la paz                             1\n",
      " colegio tecnisistemas                      1\n",
      " esperanza amor y paz                       1\n",
      " fundacion simon maestro                    1\n",
      " instituto tecnico la esperanza             1\n",
      " juana de caicedo y cuero                   1\n",
      " la corporacion general santander           1\n",
      " nuestra señora del perpetuo socorro        1\n",
      " san agustin jornada nocturna               1\n",
      "(ceo) centro ocupacional los patios         1\n",
      "004788                                      1\n",
      "024810                                      1\n",
      "054460                                      1\n",
      "101422198827052009                          1\n",
      "1022390709                                  1\n",
      "1048209287                                  1\n",
      "1114060462                                  1\n",
      "111781                                      1\n",
      "                                           ..\n",
      "teresita montes                             1\n",
      "terminal maritimo                           1\n",
      "terminal maritimo santa marta               1\n",
      "tomas cipriano de mosquera                  1\n",
      "tomas cipriano de mosquera nocturno         1\n",
      "trinidad camacho pinzon                     1\n",
      "tulio arbelaez zuluaga                      1\n",
      "ucc                                         1\n",
      "ucc secciòn bachillerato                    1\n",
      "unad univrsidad nacional abierta y dista    1\n",
      "unibercidad nacional abierta y adistanci    1\n",
      "unidad bàsica ciudad de bogota              1\n",
      "unidad docente antonio nariño               1\n",
      "unidad educativa municipal Carlos Lozano    1\n",
      "unitecnicas                                 1\n",
      "universidad catolica de oriente             2\n",
      "universidad catolica del norte              1\n",
      "universidad catolica del oriente            1\n",
      "universidad de ibague                       1\n",
      "universidad javeriana                       1\n",
      "universidad la gran colombia                1\n",
      "universidad nacional abierta y distancia    1\n",
      "uribesco                                    1\n",
      "valentin manjarez                           1\n",
      "validacion                                  1\n",
      "victor ramirez arevalo                      1\n",
      "villa de las palmas                         1\n",
      "villa de los andes                          2\n",
      "villa de los andes                          1\n",
      "villa margarita                             1\n",
      "Name: ESTU_OTRO_PLANTEL, dtype: int64\n",
      "Elementos null/NaN 567308\n",
      "__________________\n",
      "Elementos diferentes de null/NaN: 7087\n",
      "__________________\n",
      "(7087,)\n",
      "None\n"
     ]
    }
   ],
   "source": [
    "c = 'ESTU_OTRO_PLANTEL'\n",
    "print(data_2014_2[c].value_counts().sort_index().index)\n",
    "print(data_2014_2[c].value_counts().sort_index())\n",
    "print(missing_data(data_2014_2[c]))"
   ]
  },
  {
   "cell_type": "code",
   "execution_count": 371,
   "metadata": {
    "collapsed": true
   },
   "outputs": [],
   "source": [
    "data_2014_2 = data_2014_2.drop(c, axis=1)"
   ]
  },
  {
   "cell_type": "code",
   "execution_count": 372,
   "metadata": {
    "collapsed": false,
    "scrolled": true
   },
   "outputs": [
    {
     "name": "stdout",
     "output_type": "stream",
     "text": [
      "Float64Index([  1.0,  12.0,  13.0,  16.0,  26.0,  28.0,  33.0,  39.0,  41.0,\n",
      "               42.0,  46.0,  50.0,  54.0,  65.0,  67.0,  76.0,  91.0,  98.0,\n",
      "               99.0, 104.0, 116.0, 118.0, 119.0, 122.0, 144.0, 145.0, 151.0,\n",
      "              157.0, 171.0, 173.0, 174.0, 201.0, 209.0, 236.0, 238.0, 241.0],\n",
      "             dtype='float64')\n",
      "1      22652\n",
      "12         8\n",
      "13         1\n",
      "16         1\n",
      "26         1\n",
      "28         4\n",
      "33         7\n",
      "39         1\n",
      "41         4\n",
      "42         5\n",
      "46         2\n",
      "50         6\n",
      "54         1\n",
      "65        22\n",
      "67         2\n",
      "76         1\n",
      "91         3\n",
      "98         1\n",
      "99         1\n",
      "104        1\n",
      "116        1\n",
      "118        2\n",
      "119        1\n",
      "122        1\n",
      "144        4\n",
      "145        1\n",
      "151        1\n",
      "157        1\n",
      "171        4\n",
      "173        1\n",
      "174       20\n",
      "201        1\n",
      "209       22\n",
      "236       45\n",
      "238        1\n",
      "241       66\n",
      "Name: ESTU_COD_OTRO_PAIS_PLANTEL, dtype: int64\n",
      "Elementos null/NaN 551499\n",
      "__________________\n",
      "Elementos diferentes de null/NaN: 22896\n",
      "__________________\n",
      "(22896,)\n",
      "None\n"
     ]
    }
   ],
   "source": [
    "c = 'ESTU_COD_OTRO_PAIS_PLANTEL'\n",
    "print(data_2014_2[c].value_counts().sort_index().index)\n",
    "print(data_2014_2[c].value_counts().sort_index())\n",
    "print(missing_data(data_2014_2[c]))"
   ]
  },
  {
   "cell_type": "code",
   "execution_count": 373,
   "metadata": {
    "collapsed": false
   },
   "outputs": [
    {
     "name": "stdout",
     "output_type": "stream",
     "text": [
      "cant null antes: 551499\n",
      "cant null despues: 2\n",
      "cant null antes: 2\n",
      "cant null despues: 0\n"
     ]
    }
   ],
   "source": [
    "Do_resamples(data_2014_2, c, float)"
   ]
  },
  {
   "cell_type": "code",
   "execution_count": 374,
   "metadata": {
    "collapsed": false,
    "scrolled": true
   },
   "outputs": [
    {
     "name": "stdout",
     "output_type": "stream",
     "text": [
      "Float64Index([ 1.0,  2.0,  3.0,  4.0,  5.0,  6.0,  7.0,  8.0,  9.0, 10.0, 11.0,\n",
      "              12.0, 13.0, 14.0, 15.0, 16.0, 17.0, 18.0, 19.0, 20.0, 21.0, 22.0,\n",
      "              23.0, 24.0, 25.0, 26.0, 27.0, 28.0, 29.0, 30.0, 31.0, 32.0, 33.0,\n",
      "              34.0, 35.0, 36.0, 37.0, 38.0, 39.0, 40.0, 41.0, 42.0, 43.0, 44.0,\n",
      "              45.0, 46.0, 47.0, 48.0, 49.0, 50.0, 51.0, 52.0, 53.0, 54.0, 55.0,\n",
      "              56.0, 57.0, 58.0, 59.0, 60.0, 61.0, 62.0, 63.0, 64.0, 65.0, 66.0,\n",
      "              67.0, 68.0, 69.0, 70.0, 72.0, 73.0, 74.0, 75.0, 77.0, 79.0, 80.0,\n",
      "              82.0, 83.0, 84.0, 85.0, 86.0, 90.0, 92.0, 97.0, 99.0],\n",
      "             dtype='float64')\n",
      "1        7\n",
      "2       20\n",
      "3       34\n",
      "4       92\n",
      "5      145\n",
      "6      162\n",
      "7      166\n",
      "8      185\n",
      "9      181\n",
      "10     274\n",
      "11     225\n",
      "12     297\n",
      "13     268\n",
      "14     487\n",
      "15     712\n",
      "16     592\n",
      "17     569\n",
      "18     731\n",
      "19     674\n",
      "20    1203\n",
      "21     898\n",
      "22    1124\n",
      "23    1209\n",
      "24    1449\n",
      "25    2192\n",
      "26    1575\n",
      "27    1873\n",
      "28    2360\n",
      "29    1860\n",
      "30    3334\n",
      "      ... \n",
      "57      39\n",
      "58      38\n",
      "59      26\n",
      "60      33\n",
      "61      14\n",
      "62       9\n",
      "63      25\n",
      "64       2\n",
      "65      19\n",
      "66      19\n",
      "67      12\n",
      "68      10\n",
      "69       6\n",
      "70      31\n",
      "72       6\n",
      "73       6\n",
      "74       1\n",
      "75       1\n",
      "77       8\n",
      "79       3\n",
      "80      25\n",
      "82       4\n",
      "83       5\n",
      "84       7\n",
      "85       7\n",
      "86       8\n",
      "90       6\n",
      "92       2\n",
      "97       1\n",
      "99       9\n",
      "Name: ESTU_TOTAL_ALUMNOS_CURSO, dtype: int64\n",
      "Elementos null/NaN 517958\n",
      "__________________\n",
      "Elementos diferentes de null/NaN: 56437\n",
      "__________________\n",
      "(56437,)\n",
      "None\n"
     ]
    }
   ],
   "source": [
    "c = 'ESTU_TOTAL_ALUMNOS_CURSO'\n",
    "print(data_2014_2[c].value_counts().sort_index().index)\n",
    "print(data_2014_2[c].value_counts().sort_index())\n",
    "print(missing_data(data_2014_2[c]))"
   ]
  },
  {
   "cell_type": "code",
   "execution_count": 375,
   "metadata": {
    "collapsed": false
   },
   "outputs": [
    {
     "name": "stdout",
     "output_type": "stream",
     "text": [
      "cant null antes: 517958\n",
      "cant null despues: 1\n",
      "cant null antes: 1\n",
      "cant null despues: 0\n"
     ]
    }
   ],
   "source": [
    "Do_resamples(data_2014_2, c, float)"
   ]
  },
  {
   "cell_type": "code",
   "execution_count": 376,
   "metadata": {
    "collapsed": false
   },
   "outputs": [
    {
     "name": "stdout",
     "output_type": "stream",
     "text": [
      "Float64Index([1.0, 2.0, 3.0, 4.0, 5.0, 6.0, 7.0, 8.0], dtype='float64')\n",
      "1     6209\n",
      "2     6450\n",
      "3     5189\n",
      "4     3322\n",
      "5     3669\n",
      "6    11398\n",
      "7     5074\n",
      "8    15126\n",
      "Name: ESTU_ANOS_COLEGIO_ACTUAL, dtype: int64\n",
      "Elementos null/NaN 517958\n",
      "__________________\n",
      "Elementos diferentes de null/NaN: 56437\n",
      "__________________\n",
      "(56437,)\n",
      "None\n"
     ]
    }
   ],
   "source": [
    "c = 'ESTU_ANOS_COLEGIO_ACTUAL'\n",
    "print(data_2014_2[c].value_counts().sort_index().index)\n",
    "print(data_2014_2[c].value_counts().sort_index())\n",
    "print(missing_data(data_2014_2[c]))"
   ]
  },
  {
   "cell_type": "code",
   "execution_count": 377,
   "metadata": {
    "collapsed": false
   },
   "outputs": [
    {
     "name": "stdout",
     "output_type": "stream",
     "text": [
      "cant null antes: 517958\n",
      "cant null despues: 0\n"
     ]
    }
   ],
   "source": [
    "Do_resamples(data_2014_2, c, float)"
   ]
  },
  {
   "cell_type": "code",
   "execution_count": 378,
   "metadata": {
    "collapsed": false
   },
   "outputs": [
    {
     "name": "stdout",
     "output_type": "stream",
     "text": [
      "Float64Index([1.0, 2.0, 3.0, 4.0, 5.0, 6.0], dtype='float64')\n",
      "1    429006\n",
      "2     41874\n",
      "3     17597\n",
      "4     12494\n",
      "5     22969\n",
      "6     23900\n",
      "Name: COLE_VALOR_PENSION, dtype: int64\n",
      "Elementos null/NaN 26555\n",
      "__________________\n",
      "Elementos diferentes de null/NaN: 547840\n",
      "__________________\n",
      "(547840,)\n",
      "None\n"
     ]
    }
   ],
   "source": [
    "c = 'COLE_VALOR_PENSION'\n",
    "print(data_2014_2[c].value_counts().sort_index().index)\n",
    "print(data_2014_2[c].value_counts().sort_index())\n",
    "print(missing_data(data_2014_2[c]))"
   ]
  },
  {
   "cell_type": "code",
   "execution_count": 379,
   "metadata": {
    "collapsed": false
   },
   "outputs": [
    {
     "name": "stdout",
     "output_type": "stream",
     "text": [
      "cant null antes: 26555\n",
      "cant null despues: 0\n"
     ]
    }
   ],
   "source": [
    "Do_resamples(data_2014_2, c, float)"
   ]
  },
  {
   "cell_type": "code",
   "execution_count": 380,
   "metadata": {
    "collapsed": false
   },
   "outputs": [
    {
     "name": "stdout",
     "output_type": "stream",
     "text": [
      "Float64Index([1.0, 2.0, 3.0, 4.0], dtype='float64')\n",
      "1    537206\n",
      "2      9337\n",
      "3       919\n",
      "4       378\n",
      "Name: ESTU_VECES_ESTADO_ESTUDIANTIL, dtype: int64\n",
      "Elementos null/NaN 26555\n",
      "__________________\n",
      "Elementos diferentes de null/NaN: 547840\n",
      "__________________\n",
      "(547840,)\n",
      "None\n"
     ]
    }
   ],
   "source": [
    "c = 'ESTU_VECES_ESTADO_ESTUDIANTIL'\n",
    "print(data_2014_2[c].value_counts().sort_index().index)\n",
    "print(data_2014_2[c].value_counts().sort_index())\n",
    "print(missing_data(data_2014_2[c]))"
   ]
  },
  {
   "cell_type": "code",
   "execution_count": 381,
   "metadata": {
    "collapsed": false
   },
   "outputs": [
    {
     "name": "stdout",
     "output_type": "stream",
     "text": [
      "cant null antes: 26555\n",
      "cant null despues: 0\n"
     ]
    }
   ],
   "source": [
    "Do_resamples(data_2014_2, c, float)"
   ]
  },
  {
   "cell_type": "code",
   "execution_count": 382,
   "metadata": {
    "collapsed": false
   },
   "outputs": [
    {
     "name": "stdout",
     "output_type": "stream",
     "text": [
      "Index(['NO', 'SI'], dtype='object')\n",
      "NO    518898\n",
      "SI     55497\n",
      "Name: ESTU_PRESENTO_EXPECTATIVAS, dtype: int64\n",
      "Elementos null/NaN 0\n",
      "__________________\n",
      "Elementos diferentes de null/NaN: 574395\n",
      "__________________\n",
      "(574395,)\n",
      "None\n"
     ]
    }
   ],
   "source": [
    "c = 'ESTU_PRESENTO_EXPECTATIVAS'\n",
    "print(data_2014_2[c].value_counts().sort_index().index)\n",
    "print(data_2014_2[c].value_counts().sort_index())\n",
    "print(missing_data(data_2014_2[c]))"
   ]
  },
  {
   "cell_type": "code",
   "execution_count": 383,
   "metadata": {
    "collapsed": false
   },
   "outputs": [
    {
     "name": "stdout",
     "output_type": "stream",
     "text": [
      "Float64Index([1.0, 2.0, 3.0, 4.0], dtype='float64')\n",
      "1     1860\n",
      "2     8454\n",
      "3    28901\n",
      "4    16282\n",
      "Name: ESTU_INGRESO_CARRERA, dtype: int64\n",
      "Elementos null/NaN 518898\n",
      "__________________\n",
      "Elementos diferentes de null/NaN: 55497\n",
      "__________________\n",
      "(55497,)\n",
      "None\n"
     ]
    }
   ],
   "source": [
    "c = 'ESTU_INGRESO_CARRERA'\n",
    "print(data_2014_2[c].value_counts().sort_index().index)\n",
    "print(data_2014_2[c].value_counts().sort_index())\n",
    "print(missing_data(data_2014_2[c]))"
   ]
  },
  {
   "cell_type": "code",
   "execution_count": 384,
   "metadata": {
    "collapsed": false
   },
   "outputs": [
    {
     "name": "stdout",
     "output_type": "stream",
     "text": [
      "cant null antes: 518898\n",
      "cant null despues: 0\n"
     ]
    }
   ],
   "source": [
    "Do_resamples(data_2014_2, c, float)"
   ]
  },
  {
   "cell_type": "code",
   "execution_count": 385,
   "metadata": {
    "collapsed": false
   },
   "outputs": [
    {
     "name": "stdout",
     "output_type": "stream",
     "text": [
      "Float64Index([1.0, 2.0, 3.0, 4.0], dtype='float64')\n",
      "1     1769\n",
      "2    11628\n",
      "3    32984\n",
      "4     9116\n",
      "Name: ESTU_PUNT_ESPERADO_MATEMATICAS, dtype: int64\n",
      "Elementos null/NaN 518898\n",
      "__________________\n",
      "Elementos diferentes de null/NaN: 55497\n",
      "__________________\n",
      "(55497,)\n",
      "None\n"
     ]
    }
   ],
   "source": [
    "c = 'ESTU_PUNT_ESPERADO_MATEMATICAS'\n",
    "print(data_2014_2[c].value_counts().sort_index().index)\n",
    "print(data_2014_2[c].value_counts().sort_index())\n",
    "print(missing_data(data_2014_2[c]))"
   ]
  },
  {
   "cell_type": "code",
   "execution_count": 386,
   "metadata": {
    "collapsed": false
   },
   "outputs": [
    {
     "name": "stdout",
     "output_type": "stream",
     "text": [
      "cant null antes: 518898\n",
      "cant null despues: 0\n"
     ]
    }
   ],
   "source": [
    "Do_resamples(data_2014_2, c, float)"
   ]
  },
  {
   "cell_type": "code",
   "execution_count": 387,
   "metadata": {
    "collapsed": false
   },
   "outputs": [
    {
     "name": "stdout",
     "output_type": "stream",
     "text": [
      "Float64Index([1.0, 2.0, 3.0, 4.0], dtype='float64')\n",
      "1      547\n",
      "2     6095\n",
      "3    32380\n",
      "4    16475\n",
      "Name: ESTU_PUNT_ESPERADO_LENGUAJE, dtype: int64\n",
      "Elementos null/NaN 518898\n",
      "__________________\n",
      "Elementos diferentes de null/NaN: 55497\n",
      "__________________\n",
      "(55497,)\n",
      "None\n"
     ]
    }
   ],
   "source": [
    "c = 'ESTU_PUNT_ESPERADO_LENGUAJE'\n",
    "print(data_2014_2[c].value_counts().sort_index().index)\n",
    "print(data_2014_2[c].value_counts().sort_index())\n",
    "print(missing_data(data_2014_2[c]))"
   ]
  },
  {
   "cell_type": "code",
   "execution_count": 388,
   "metadata": {
    "collapsed": false
   },
   "outputs": [
    {
     "name": "stdout",
     "output_type": "stream",
     "text": [
      "cant null antes: 518898\n",
      "cant null despues: 0\n"
     ]
    }
   ],
   "source": [
    "Do_resamples(data_2014_2, c, float)"
   ]
  },
  {
   "cell_type": "code",
   "execution_count": 389,
   "metadata": {
    "collapsed": false
   },
   "outputs": [
    {
     "name": "stdout",
     "output_type": "stream",
     "text": [
      "Float64Index([1.0, 2.0, 3.0, 4.0], dtype='float64')\n",
      "1     2568\n",
      "2    13889\n",
      "3    28432\n",
      "4    10608\n",
      "Name: ESTU_PUNT_ESPERADO_INGLES, dtype: int64\n",
      "Elementos null/NaN 518898\n",
      "__________________\n",
      "Elementos diferentes de null/NaN: 55497\n",
      "__________________\n",
      "(55497,)\n",
      "None\n"
     ]
    }
   ],
   "source": [
    "c = 'ESTU_PUNT_ESPERADO_INGLES'\n",
    "print(data_2014_2[c].value_counts().sort_index().index)\n",
    "print(data_2014_2[c].value_counts().sort_index())\n",
    "print(missing_data(data_2014_2[c]))"
   ]
  },
  {
   "cell_type": "code",
   "execution_count": 390,
   "metadata": {
    "collapsed": false
   },
   "outputs": [
    {
     "name": "stdout",
     "output_type": "stream",
     "text": [
      "cant null antes: 518898\n",
      "cant null despues: 0\n"
     ]
    }
   ],
   "source": [
    "Do_resamples(data_2014_2, c, float)"
   ]
  },
  {
   "cell_type": "code",
   "execution_count": 391,
   "metadata": {
    "collapsed": false
   },
   "outputs": [
    {
     "name": "stdout",
     "output_type": "stream",
     "text": [
      "Float64Index([1.0, 2.0, 3.0, 4.0, 5.0, 6.0], dtype='float64')\n",
      "1    27865\n",
      "2    21828\n",
      "3     3496\n",
      "4     1130\n",
      "5      351\n",
      "6      827\n",
      "Name: ESTU_SALARIO_ESPERADO_BACH, dtype: int64\n",
      "Elementos null/NaN 518898\n",
      "__________________\n",
      "Elementos diferentes de null/NaN: 55497\n",
      "__________________\n",
      "(55497,)\n",
      "None\n"
     ]
    }
   ],
   "source": [
    "c = 'ESTU_SALARIO_ESPERADO_BACH'\n",
    "print(data_2014_2[c].value_counts().sort_index().index)\n",
    "print(data_2014_2[c].value_counts().sort_index())\n",
    "print(missing_data(data_2014_2[c]))"
   ]
  },
  {
   "cell_type": "code",
   "execution_count": 392,
   "metadata": {
    "collapsed": false
   },
   "outputs": [
    {
     "name": "stdout",
     "output_type": "stream",
     "text": [
      "cant null antes: 518898\n",
      "cant null despues: 0\n"
     ]
    }
   ],
   "source": [
    "Do_resamples(data_2014_2, c, float)"
   ]
  },
  {
   "cell_type": "code",
   "execution_count": 393,
   "metadata": {
    "collapsed": false
   },
   "outputs": [
    {
     "name": "stdout",
     "output_type": "stream",
     "text": [
      "Float64Index([1.0, 2.0, 3.0, 4.0, 5.0, 6.0], dtype='float64')\n",
      "1     4047\n",
      "2    27922\n",
      "3    18223\n",
      "4     3968\n",
      "5      862\n",
      "6      475\n",
      "Name: ESTU_SALARIO_ESPERADO_TECNICO, dtype: int64\n",
      "Elementos null/NaN 518898\n",
      "__________________\n",
      "Elementos diferentes de null/NaN: 55497\n",
      "__________________\n",
      "(55497,)\n",
      "None\n"
     ]
    }
   ],
   "source": [
    "c = 'ESTU_SALARIO_ESPERADO_TECNICO'\n",
    "print(data_2014_2[c].value_counts().sort_index().index)\n",
    "print(data_2014_2[c].value_counts().sort_index())\n",
    "print(missing_data(data_2014_2[c]))"
   ]
  },
  {
   "cell_type": "code",
   "execution_count": 394,
   "metadata": {
    "collapsed": false
   },
   "outputs": [
    {
     "name": "stdout",
     "output_type": "stream",
     "text": [
      "cant null antes: 518898\n",
      "cant null despues: 0\n"
     ]
    }
   ],
   "source": [
    "Do_resamples(data_2014_2, c, float)"
   ]
  },
  {
   "cell_type": "code",
   "execution_count": 395,
   "metadata": {
    "collapsed": false
   },
   "outputs": [
    {
     "name": "stdout",
     "output_type": "stream",
     "text": [
      "Float64Index([1.0, 2.0, 3.0, 4.0, 5.0, 6.0], dtype='float64')\n",
      "1     2784\n",
      "2     6566\n",
      "3    20548\n",
      "4    15250\n",
      "5     6729\n",
      "6     3620\n",
      "Name: ESTU_SALARIO_ESPERADO_PROFES, dtype: int64\n",
      "Elementos null/NaN 518898\n",
      "__________________\n",
      "Elementos diferentes de null/NaN: 55497\n",
      "__________________\n",
      "(55497,)\n",
      "None\n"
     ]
    }
   ],
   "source": [
    "c = 'ESTU_SALARIO_ESPERADO_PROFES'\n",
    "print(data_2014_2[c].value_counts().sort_index().index)\n",
    "print(data_2014_2[c].value_counts().sort_index())\n",
    "print(missing_data(data_2014_2[c]))"
   ]
  },
  {
   "cell_type": "code",
   "execution_count": 396,
   "metadata": {
    "collapsed": false
   },
   "outputs": [
    {
     "name": "stdout",
     "output_type": "stream",
     "text": [
      "cant null antes: 518898\n",
      "cant null despues: 1\n",
      "cant null antes: 1\n",
      "cant null despues: 0\n"
     ]
    }
   ],
   "source": [
    "Do_resamples(data_2014_2, c, float)"
   ]
  },
  {
   "cell_type": "code",
   "execution_count": 397,
   "metadata": {
    "collapsed": false
   },
   "outputs": [
    {
     "name": "stdout",
     "output_type": "stream",
     "text": [
      "Index(['N', 'S'], dtype='object')\n",
      "N    572585\n",
      "S      1810\n",
      "Name: ESTU_PRIVADO_LIBERTAD, dtype: int64\n",
      "Elementos null/NaN 0\n",
      "__________________\n",
      "Elementos diferentes de null/NaN: 574395\n",
      "__________________\n",
      "(574395,)\n",
      "None\n"
     ]
    }
   ],
   "source": [
    "c = 'ESTU_PRIVADO_LIBERTAD'\n",
    "print(data_2014_2[c].value_counts().sort_index().index)\n",
    "print(data_2014_2[c].value_counts().sort_index())\n",
    "print(missing_data(data_2014_2[c]))"
   ]
  },
  {
   "cell_type": "code",
   "execution_count": 398,
   "metadata": {
    "collapsed": false
   },
   "outputs": [
    {
     "name": "stdout",
     "output_type": "stream",
     "text": [
      "Float64Index([1.0, 2.0, 3.0, 4.0, 5.0, 6.0, 7.0, 8.0, 9.0, 10.0, 11.0], dtype='float64')\n",
      "1      28656\n",
      "2     115038\n",
      "3      93720\n",
      "4      80738\n",
      "5     129748\n",
      "6       9405\n",
      "7      30149\n",
      "8       7073\n",
      "9      43338\n",
      "10      9557\n",
      "11     23328\n",
      "Name: FAMI_EDUCA_PADRE, dtype: int64\n",
      "Elementos null/NaN 3645\n",
      "__________________\n",
      "Elementos diferentes de null/NaN: 570750\n",
      "__________________\n",
      "(570750,)\n",
      "None\n"
     ]
    }
   ],
   "source": [
    "c = 'FAMI_EDUCA_PADRE'\n",
    "print(data_2014_2[c].value_counts().sort_index().index)\n",
    "print(data_2014_2[c].value_counts().sort_index())\n",
    "print(missing_data(data_2014_2[c]))"
   ]
  },
  {
   "cell_type": "code",
   "execution_count": 399,
   "metadata": {
    "collapsed": false
   },
   "outputs": [
    {
     "name": "stdout",
     "output_type": "stream",
     "text": [
      "cant null antes: 3645\n",
      "cant null despues: 0\n"
     ]
    }
   ],
   "source": [
    "Do_resamples(data_2014_2, c, float)"
   ]
  },
  {
   "cell_type": "code",
   "execution_count": 400,
   "metadata": {
    "collapsed": false
   },
   "outputs": [
    {
     "name": "stdout",
     "output_type": "stream",
     "text": [
      "Float64Index([1.0, 2.0, 3.0, 4.0, 5.0, 6.0, 7.0, 8.0, 9.0, 10.0, 11.0], dtype='float64')\n",
      "1      14607\n",
      "2     100454\n",
      "3      92317\n",
      "4      93515\n",
      "5     148628\n",
      "6      11379\n",
      "7      39376\n",
      "8       8007\n",
      "9      43942\n",
      "10      9780\n",
      "11      8745\n",
      "Name: FAMI_EDUCA_MADRE, dtype: int64\n",
      "Elementos null/NaN 3645\n",
      "__________________\n",
      "Elementos diferentes de null/NaN: 570750\n",
      "__________________\n",
      "(570750,)\n",
      "None\n"
     ]
    }
   ],
   "source": [
    "c = 'FAMI_EDUCA_MADRE'\n",
    "print(data_2014_2[c].value_counts().sort_index().index)\n",
    "print(data_2014_2[c].value_counts().sort_index())\n",
    "print(missing_data(data_2014_2[c]))"
   ]
  },
  {
   "cell_type": "code",
   "execution_count": 401,
   "metadata": {
    "collapsed": false
   },
   "outputs": [
    {
     "name": "stdout",
     "output_type": "stream",
     "text": [
      "cant null antes: 3645\n",
      "cant null despues: 0\n"
     ]
    }
   ],
   "source": [
    "Do_resamples(data_2014_2, c, float)"
   ]
  },
  {
   "cell_type": "code",
   "execution_count": 402,
   "metadata": {
    "collapsed": false
   },
   "outputs": [
    {
     "name": "stdout",
     "output_type": "stream",
     "text": [
      "Float64Index([1.0, 2.0, 3.0, 4.0, 5.0, 6.0, 7.0, 8.0, 9.0, 10.0, 11.0, 12.0], dtype='float64')\n",
      "1      10562\n",
      "2      12033\n",
      "3      10071\n",
      "4       5457\n",
      "5      41400\n",
      "6      10884\n",
      "7     129060\n",
      "8      14450\n",
      "9     217324\n",
      "10      6310\n",
      "11     18555\n",
      "12     94644\n",
      "Name: FAMI_OCUPA_PADRE, dtype: int64\n",
      "Elementos null/NaN 3645\n",
      "__________________\n",
      "Elementos diferentes de null/NaN: 570750\n",
      "__________________\n",
      "(570750,)\n",
      "None\n"
     ]
    }
   ],
   "source": [
    "c = 'FAMI_OCUPA_PADRE'\n",
    "print(data_2014_2[c].value_counts().sort_index().index)\n",
    "print(data_2014_2[c].value_counts().sort_index())\n",
    "print(missing_data(data_2014_2[c]))"
   ]
  },
  {
   "cell_type": "code",
   "execution_count": 403,
   "metadata": {
    "collapsed": false
   },
   "outputs": [
    {
     "name": "stdout",
     "output_type": "stream",
     "text": [
      "cant null antes: 3645\n",
      "cant null despues: 2\n",
      "cant null antes: 2\n",
      "cant null despues: 0\n"
     ]
    }
   ],
   "source": [
    "Do_resamples(data_2014_2, c, float)"
   ]
  },
  {
   "cell_type": "code",
   "execution_count": 404,
   "metadata": {
    "collapsed": false
   },
   "outputs": [
    {
     "name": "stdout",
     "output_type": "stream",
     "text": [
      "Float64Index([1.0, 2.0, 3.0, 4.0, 5.0, 6.0, 7.0, 8.0, 9.0, 10.0, 11.0, 12.0], dtype='float64')\n",
      "1       4759\n",
      "2      10755\n",
      "3       5173\n",
      "4       6480\n",
      "5      33319\n",
      "6      25965\n",
      "7      40100\n",
      "8      13463\n",
      "9      68669\n",
      "10    305728\n",
      "11      5780\n",
      "12     50558\n",
      "Name: FAMI_OCUPA_MADRE, dtype: int64\n",
      "Elementos null/NaN 3646\n",
      "__________________\n",
      "Elementos diferentes de null/NaN: 570749\n",
      "__________________\n",
      "(570749,)\n",
      "None\n"
     ]
    }
   ],
   "source": [
    "c = 'FAMI_OCUPA_MADRE'\n",
    "print(data_2014_2[c].value_counts().sort_index().index)\n",
    "print(data_2014_2[c].value_counts().sort_index())\n",
    "print(missing_data(data_2014_2[c]))"
   ]
  },
  {
   "cell_type": "code",
   "execution_count": 405,
   "metadata": {
    "collapsed": false
   },
   "outputs": [
    {
     "name": "stdout",
     "output_type": "stream",
     "text": [
      "cant null antes: 3646\n",
      "cant null despues: 0\n"
     ]
    }
   ],
   "source": [
    "Do_resamples(data_2014_2, c, float)"
   ]
  },
  {
   "cell_type": "code",
   "execution_count": 406,
   "metadata": {
    "collapsed": false
   },
   "outputs": [
    {
     "name": "stdout",
     "output_type": "stream",
     "text": [
      "Float64Index([1.0, 2.0, 3.0, 4.0, 5.0, 6.0], dtype='float64')\n",
      "1    241974\n",
      "2    199461\n",
      "3    100954\n",
      "4     20257\n",
      "5      5844\n",
      "6      2260\n",
      "Name: FAMI_ESTRATO_VIVIENDA, dtype: int64\n",
      "Elementos null/NaN 3645\n",
      "__________________\n",
      "Elementos diferentes de null/NaN: 570750\n",
      "__________________\n",
      "(570750,)\n",
      "None\n"
     ]
    }
   ],
   "source": [
    "c = 'FAMI_ESTRATO_VIVIENDA'\n",
    "print(data_2014_2[c].value_counts().sort_index().index)\n",
    "print(data_2014_2[c].value_counts().sort_index())\n",
    "print(missing_data(data_2014_2[c]))"
   ]
  },
  {
   "cell_type": "code",
   "execution_count": 407,
   "metadata": {
    "collapsed": false
   },
   "outputs": [
    {
     "name": "stdout",
     "output_type": "stream",
     "text": [
      "cant null antes: 3645\n",
      "cant null despues: 1\n",
      "cant null antes: 1\n",
      "cant null despues: 0\n"
     ]
    }
   ],
   "source": [
    "Do_resamples(data_2014_2, c, float)"
   ]
  },
  {
   "cell_type": "code",
   "execution_count": 408,
   "metadata": {
    "collapsed": false
   },
   "outputs": [
    {
     "name": "stdout",
     "output_type": "stream",
     "text": [
      "Float64Index([1.0, 2.0, 3.0, 4.0, 5.0], dtype='float64')\n",
      "1    265292\n",
      "2    126469\n",
      "3     22517\n",
      "4      4592\n",
      "5    151880\n",
      "Name: FAMI_NIVEL_SISBEN, dtype: int64\n",
      "Elementos null/NaN 3645\n",
      "__________________\n",
      "Elementos diferentes de null/NaN: 570750\n",
      "__________________\n",
      "(570750,)\n",
      "None\n"
     ]
    }
   ],
   "source": [
    "c = 'FAMI_NIVEL_SISBEN'\n",
    "print(data_2014_2[c].value_counts().sort_index().index)\n",
    "print(data_2014_2[c].value_counts().sort_index())\n",
    "print(missing_data(data_2014_2[c]))"
   ]
  },
  {
   "cell_type": "code",
   "execution_count": 409,
   "metadata": {
    "collapsed": false
   },
   "outputs": [
    {
     "name": "stdout",
     "output_type": "stream",
     "text": [
      "cant null antes: 3645\n",
      "cant null despues: 0\n"
     ]
    }
   ],
   "source": [
    "Do_resamples(data_2014_2, c, float)"
   ]
  },
  {
   "cell_type": "code",
   "execution_count": 410,
   "metadata": {
    "collapsed": false
   },
   "outputs": [
    {
     "name": "stdout",
     "output_type": "stream",
     "text": [
      "Float64Index([1.0, 2.0, 3.0, 4.0, 5.0, 6.0, 7.0, 8.0, 9.0, 10.0, 11.0, 12.0], dtype='float64')\n",
      "1       2717\n",
      "2      27940\n",
      "3      95655\n",
      "4     173236\n",
      "5     134489\n",
      "6      68313\n",
      "7      31943\n",
      "8      17795\n",
      "9       7431\n",
      "10      5131\n",
      "11      2233\n",
      "12      3867\n",
      "Name: FAMI_PERSONAS_HOGAR, dtype: int64\n",
      "Elementos null/NaN 3645\n",
      "__________________\n",
      "Elementos diferentes de null/NaN: 570750\n",
      "__________________\n",
      "(570750,)\n",
      "None\n"
     ]
    }
   ],
   "source": [
    "c = 'FAMI_PERSONAS_HOGAR'\n",
    "print(data_2014_2[c].value_counts().sort_index().index)\n",
    "print(data_2014_2[c].value_counts().sort_index())\n",
    "print(missing_data(data_2014_2[c]))"
   ]
  },
  {
   "cell_type": "code",
   "execution_count": 411,
   "metadata": {
    "collapsed": false
   },
   "outputs": [
    {
     "name": "stdout",
     "output_type": "stream",
     "text": [
      "cant null antes: 3645\n",
      "cant null despues: 1\n",
      "cant null antes: 1\n",
      "cant null despues: 0\n"
     ]
    }
   ],
   "source": [
    "Do_resamples(data_2014_2, c, float)"
   ]
  },
  {
   "cell_type": "code",
   "execution_count": 412,
   "metadata": {
    "collapsed": false
   },
   "outputs": [
    {
     "name": "stdout",
     "output_type": "stream",
     "text": [
      "Float64Index([1.0, 2.0, 3.0, 4.0, 5.0, 6.0, 7.0, 8.0, 9.0, 10.0], dtype='float64')\n",
      "1      24728\n",
      "2     203788\n",
      "3     234524\n",
      "4      75491\n",
      "5      20741\n",
      "6       6750\n",
      "7       2390\n",
      "8       1235\n",
      "9        435\n",
      "10       668\n",
      "Name: FAMI_CUARTOS_HOGAR, dtype: int64\n",
      "Elementos null/NaN 3645\n",
      "__________________\n",
      "Elementos diferentes de null/NaN: 570750\n",
      "__________________\n",
      "(570750,)\n",
      "None\n"
     ]
    }
   ],
   "source": [
    "c = 'FAMI_CUARTOS_HOGAR'\n",
    "print(data_2014_2[c].value_counts().sort_index().index)\n",
    "print(data_2014_2[c].value_counts().sort_index())\n",
    "print(missing_data(data_2014_2[c]))"
   ]
  },
  {
   "cell_type": "code",
   "execution_count": 413,
   "metadata": {
    "collapsed": false
   },
   "outputs": [
    {
     "name": "stdout",
     "output_type": "stream",
     "text": [
      "cant null antes: 3645\n",
      "cant null despues: 1\n",
      "cant null antes: 1\n",
      "cant null despues: 0\n"
     ]
    }
   ],
   "source": [
    "Do_resamples(data_2014_2, c, float)"
   ]
  },
  {
   "cell_type": "code",
   "execution_count": 414,
   "metadata": {
    "collapsed": false
   },
   "outputs": [
    {
     "name": "stdout",
     "output_type": "stream",
     "text": [
      "Float64Index([1.0, 2.0, 3.0, 4.0], dtype='float64')\n",
      "1     32274\n",
      "2    258629\n",
      "3     30253\n",
      "4    249594\n",
      "Name: FAMI_PISOSHOGAR, dtype: int64\n",
      "Elementos null/NaN 3645\n",
      "__________________\n",
      "Elementos diferentes de null/NaN: 570750\n",
      "__________________\n",
      "(570750,)\n",
      "None\n"
     ]
    }
   ],
   "source": [
    "c = 'FAMI_PISOSHOGAR'\n",
    "print(data_2014_2[c].value_counts().sort_index().index)\n",
    "print(data_2014_2[c].value_counts().sort_index())\n",
    "print(missing_data(data_2014_2[c]))"
   ]
  },
  {
   "cell_type": "code",
   "execution_count": 415,
   "metadata": {
    "collapsed": true
   },
   "outputs": [],
   "source": [
    "idx = data_2014_2[data_2014_2[c].isnull()].index\n",
    "data_2014_2 = data_2014_2.drop(idx)"
   ]
  },
  {
   "cell_type": "code",
   "execution_count": null,
   "metadata": {
    "collapsed": true
   },
   "outputs": [],
   "source": []
  },
  {
   "cell_type": "code",
   "execution_count": null,
   "metadata": {
    "collapsed": true
   },
   "outputs": [],
   "source": []
  },
  {
   "cell_type": "code",
   "execution_count": null,
   "metadata": {
    "collapsed": true
   },
   "outputs": [],
   "source": []
  },
  {
   "cell_type": "code",
   "execution_count": null,
   "metadata": {
    "collapsed": true
   },
   "outputs": [],
   "source": []
  },
  {
   "cell_type": "code",
   "execution_count": null,
   "metadata": {
    "collapsed": true
   },
   "outputs": [],
   "source": []
  },
  {
   "cell_type": "code",
   "execution_count": null,
   "metadata": {
    "collapsed": true
   },
   "outputs": [],
   "source": []
  },
  {
   "cell_type": "code",
   "execution_count": null,
   "metadata": {
    "collapsed": true
   },
   "outputs": [],
   "source": []
  },
  {
   "cell_type": "code",
   "execution_count": null,
   "metadata": {
    "collapsed": true
   },
   "outputs": [],
   "source": []
  },
  {
   "cell_type": "code",
   "execution_count": null,
   "metadata": {
    "collapsed": true
   },
   "outputs": [],
   "source": []
  },
  {
   "cell_type": "code",
   "execution_count": null,
   "metadata": {
    "collapsed": true
   },
   "outputs": [],
   "source": []
  },
  {
   "cell_type": "code",
   "execution_count": null,
   "metadata": {
    "collapsed": true
   },
   "outputs": [],
   "source": []
  },
  {
   "cell_type": "code",
   "execution_count": null,
   "metadata": {
    "collapsed": true
   },
   "outputs": [],
   "source": []
  },
  {
   "cell_type": "code",
   "execution_count": 416,
   "metadata": {
    "collapsed": false
   },
   "outputs": [
    {
     "name": "stdout",
     "output_type": "stream",
     "text": [
      "Index(['N', 'S'], dtype='object')\n",
      "N    310553\n",
      "S    260197\n",
      "Name: FAMI_TELEFONO_FIJO, dtype: int64\n",
      "Elementos null/NaN 0\n",
      "__________________\n",
      "Elementos diferentes de null/NaN: 570750\n",
      "__________________\n",
      "(570750,)\n",
      "None\n"
     ]
    }
   ],
   "source": [
    "c = 'FAMI_TELEFONO_FIJO'\n",
    "print(data_2014_2[c].value_counts().sort_index().index)\n",
    "print(data_2014_2[c].value_counts().sort_index())\n",
    "print(missing_data(data_2014_2[c]))"
   ]
  },
  {
   "cell_type": "code",
   "execution_count": 417,
   "metadata": {
    "collapsed": false
   },
   "outputs": [
    {
     "name": "stdout",
     "output_type": "stream",
     "text": [
      "Index(['N', 'S'], dtype='object')\n",
      "N    282027\n",
      "S    288723\n",
      "Name: FAMI_INTERNET, dtype: int64\n",
      "Elementos null/NaN 0\n",
      "__________________\n",
      "Elementos diferentes de null/NaN: 570750\n",
      "__________________\n",
      "(570750,)\n",
      "None\n"
     ]
    }
   ],
   "source": [
    "c = 'FAMI_INTERNET'\n",
    "print(data_2014_2[c].value_counts().sort_index().index)\n",
    "print(data_2014_2[c].value_counts().sort_index())\n",
    "print(missing_data(data_2014_2[c]))"
   ]
  },
  {
   "cell_type": "code",
   "execution_count": 418,
   "metadata": {
    "collapsed": false
   },
   "outputs": [
    {
     "name": "stdout",
     "output_type": "stream",
     "text": [
      "Index(['N', 'S'], dtype='object')\n",
      "N    200903\n",
      "S    369847\n",
      "Name: FAMI_SERVICIO_TELEVISION, dtype: int64\n",
      "Elementos null/NaN 0\n",
      "__________________\n",
      "Elementos diferentes de null/NaN: 570750\n",
      "__________________\n",
      "(570750,)\n",
      "None\n"
     ]
    }
   ],
   "source": [
    "c = 'FAMI_SERVICIO_TELEVISION'\n",
    "print(data_2014_2[c].value_counts().sort_index().index)\n",
    "print(data_2014_2[c].value_counts().sort_index())\n",
    "print(missing_data(data_2014_2[c]))"
   ]
  },
  {
   "cell_type": "code",
   "execution_count": 419,
   "metadata": {
    "collapsed": false
   },
   "outputs": [
    {
     "name": "stdout",
     "output_type": "stream",
     "text": [
      "Index(['N', 'S'], dtype='object')\n",
      "N    218995\n",
      "S    351755\n",
      "Name: FAMI_COMPUTADOR, dtype: int64\n",
      "Elementos null/NaN 0\n",
      "__________________\n",
      "Elementos diferentes de null/NaN: 570750\n",
      "__________________\n",
      "(570750,)\n",
      "None\n"
     ]
    }
   ],
   "source": [
    "c = 'FAMI_COMPUTADOR'\n",
    "print(data_2014_2[c].value_counts().sort_index().index)\n",
    "print(data_2014_2[c].value_counts().sort_index())\n",
    "print(missing_data(data_2014_2[c]))"
   ]
  },
  {
   "cell_type": "code",
   "execution_count": 420,
   "metadata": {
    "collapsed": false
   },
   "outputs": [
    {
     "name": "stdout",
     "output_type": "stream",
     "text": [
      "Index(['N', 'S'], dtype='object')\n",
      "N    200868\n",
      "S    369882\n",
      "Name: FAMI_DVD, dtype: int64\n",
      "Elementos null/NaN 0\n",
      "__________________\n",
      "Elementos diferentes de null/NaN: 570750\n",
      "__________________\n",
      "(570750,)\n",
      "None\n"
     ]
    }
   ],
   "source": [
    "c = 'FAMI_DVD'\n",
    "print(data_2014_2[c].value_counts().sort_index().index)\n",
    "print(data_2014_2[c].value_counts().sort_index())\n",
    "print(missing_data(data_2014_2[c]))"
   ]
  },
  {
   "cell_type": "code",
   "execution_count": 421,
   "metadata": {
    "collapsed": false
   },
   "outputs": [
    {
     "name": "stdout",
     "output_type": "stream",
     "text": [
      "Index(['N', 'S'], dtype='object')\n",
      "N    192327\n",
      "S    378423\n",
      "Name: FAMI_LAVADORA, dtype: int64\n",
      "Elementos null/NaN 0\n",
      "__________________\n",
      "Elementos diferentes de null/NaN: 570750\n",
      "__________________\n",
      "(570750,)\n",
      "None\n"
     ]
    }
   ],
   "source": [
    "c = 'FAMI_LAVADORA'\n",
    "print(data_2014_2[c].value_counts().sort_index().index)\n",
    "print(data_2014_2[c].value_counts().sort_index())\n",
    "print(missing_data(data_2014_2[c]))"
   ]
  },
  {
   "cell_type": "code",
   "execution_count": 422,
   "metadata": {
    "collapsed": false
   },
   "outputs": [
    {
     "name": "stdout",
     "output_type": "stream",
     "text": [
      "Index(['N', 'S'], dtype='object')\n",
      "N    405824\n",
      "S    164926\n",
      "Name: FAMI_MICROONDAS, dtype: int64\n",
      "Elementos null/NaN 0\n",
      "__________________\n",
      "Elementos diferentes de null/NaN: 570750\n",
      "__________________\n",
      "(570750,)\n",
      "None\n"
     ]
    }
   ],
   "source": [
    "c = 'FAMI_MICROONDAS'\n",
    "print(data_2014_2[c].value_counts().sort_index().index)\n",
    "print(data_2014_2[c].value_counts().sort_index())\n",
    "print(missing_data(data_2014_2[c]))"
   ]
  },
  {
   "cell_type": "code",
   "execution_count": 423,
   "metadata": {
    "collapsed": false
   },
   "outputs": [
    {
     "name": "stdout",
     "output_type": "stream",
     "text": [
      "Index(['N', 'S'], dtype='object')\n",
      "N    454311\n",
      "S    116439\n",
      "Name: FAMI_AUTOMOVIL, dtype: int64\n",
      "Elementos null/NaN 0\n",
      "__________________\n",
      "Elementos diferentes de null/NaN: 570750\n",
      "__________________\n",
      "(570750,)\n",
      "None\n"
     ]
    }
   ],
   "source": [
    "c = 'FAMI_AUTOMOVIL'\n",
    "print(data_2014_2[c].value_counts().sort_index().index)\n",
    "print(data_2014_2[c].value_counts().sort_index())\n",
    "print(missing_data(data_2014_2[c]))"
   ]
  },
  {
   "cell_type": "code",
   "execution_count": 424,
   "metadata": {
    "collapsed": false
   },
   "outputs": [
    {
     "name": "stdout",
     "output_type": "stream",
     "text": [
      "Index(['N', 'S'], dtype='object')\n",
      "N     32296\n",
      "S    538454\n",
      "Name: FAMI_CELULAR, dtype: int64\n",
      "Elementos null/NaN 0\n",
      "__________________\n",
      "Elementos diferentes de null/NaN: 570750\n",
      "__________________\n",
      "(570750,)\n",
      "None\n"
     ]
    }
   ],
   "source": [
    "c = 'FAMI_CELULAR'\n",
    "print(data_2014_2[c].value_counts().sort_index().index)\n",
    "print(data_2014_2[c].value_counts().sort_index())\n",
    "print(missing_data(data_2014_2[c]))"
   ]
  },
  {
   "cell_type": "code",
   "execution_count": 425,
   "metadata": {
    "collapsed": false
   },
   "outputs": [
    {
     "name": "stdout",
     "output_type": "stream",
     "text": [
      "Index(['N', 'S'], dtype='object')\n",
      "N     70616\n",
      "S    500134\n",
      "Name: FAMI_NEVERA, dtype: int64\n",
      "Elementos null/NaN 0\n",
      "__________________\n",
      "Elementos diferentes de null/NaN: 570750\n",
      "__________________\n",
      "(570750,)\n",
      "None\n"
     ]
    }
   ],
   "source": [
    "c = 'FAMI_NEVERA'\n",
    "print(data_2014_2[c].value_counts().sort_index().index)\n",
    "print(data_2014_2[c].value_counts().sort_index())\n",
    "print(missing_data(data_2014_2[c]))"
   ]
  },
  {
   "cell_type": "code",
   "execution_count": 426,
   "metadata": {
    "collapsed": false
   },
   "outputs": [
    {
     "name": "stdout",
     "output_type": "stream",
     "text": [
      "Index(['N', 'S'], dtype='object')\n",
      "N    324301\n",
      "S    246449\n",
      "Name: FAMI_HORNO, dtype: int64\n",
      "Elementos null/NaN 0\n",
      "__________________\n",
      "Elementos diferentes de null/NaN: 570750\n",
      "__________________\n",
      "(570750,)\n",
      "None\n"
     ]
    }
   ],
   "source": [
    "c = 'FAMI_HORNO'\n",
    "print(data_2014_2[c].value_counts().sort_index().index)\n",
    "print(data_2014_2[c].value_counts().sort_index())\n",
    "print(missing_data(data_2014_2[c]))"
   ]
  },
  {
   "cell_type": "code",
   "execution_count": 427,
   "metadata": {
    "collapsed": false
   },
   "outputs": [
    {
     "name": "stdout",
     "output_type": "stream",
     "text": [
      "Float64Index([1.0, 2.0, 3.0, 4.0, 5.0, 6.0, 7.0], dtype='float64')\n",
      "1    173529\n",
      "2    251026\n",
      "3     85566\n",
      "4     37400\n",
      "5     11808\n",
      "6      6184\n",
      "7      5237\n",
      "Name: FAMI_INGRESO_FMILIAR_MENSUAL, dtype: int64\n",
      "Elementos null/NaN 0\n",
      "__________________\n",
      "Elementos diferentes de null/NaN: 570750\n",
      "__________________\n",
      "(570750,)\n",
      "None\n"
     ]
    }
   ],
   "source": [
    "c = 'FAMI_INGRESO_FMILIAR_MENSUAL'\n",
    "print(data_2014_2[c].value_counts().sort_index().index)\n",
    "print(data_2014_2[c].value_counts().sort_index())\n",
    "print(missing_data(data_2014_2[c]))"
   ]
  },
  {
   "cell_type": "code",
   "execution_count": 428,
   "metadata": {
    "collapsed": false
   },
   "outputs": [
    {
     "name": "stdout",
     "output_type": "stream",
     "text": [
      "Float64Index([1.0, 2.0, 3.0], dtype='float64')\n",
      "1    496068\n",
      "2     30879\n",
      "3     20907\n",
      "Name: ESTU_TRABAJA, dtype: int64\n",
      "Elementos null/NaN 22896\n",
      "__________________\n",
      "Elementos diferentes de null/NaN: 547854\n",
      "__________________\n",
      "(547854,)\n",
      "None\n"
     ]
    }
   ],
   "source": [
    "c = 'ESTU_TRABAJA'\n",
    "print(data_2014_2[c].value_counts().sort_index().index)\n",
    "print(data_2014_2[c].value_counts().sort_index())\n",
    "print(missing_data(data_2014_2[c]))"
   ]
  },
  {
   "cell_type": "code",
   "execution_count": 429,
   "metadata": {
    "collapsed": false
   },
   "outputs": [
    {
     "name": "stdout",
     "output_type": "stream",
     "text": [
      "cant null antes: 22896\n",
      "cant null despues: 0\n"
     ]
    }
   ],
   "source": [
    "Do_resamples(data_2014_2, c, float)"
   ]
  },
  {
   "cell_type": "code",
   "execution_count": 430,
   "metadata": {
    "collapsed": false
   },
   "outputs": [
    {
     "name": "stdout",
     "output_type": "stream",
     "text": [
      "Index(['N', 'S'], dtype='object')\n",
      "N     2929\n",
      "S    48749\n",
      "Name: ESTU_RECIBE_SALARIO, dtype: int64\n",
      "Elementos null/NaN 519072\n",
      "__________________\n",
      "Elementos diferentes de null/NaN: 51678\n",
      "__________________\n",
      "(51678,)\n",
      "None\n"
     ]
    }
   ],
   "source": [
    "c = 'ESTU_RECIBE_SALARIO'\n",
    "print(data_2014_2[c].value_counts().sort_index().index)\n",
    "print(data_2014_2[c].value_counts().sort_index())\n",
    "print(missing_data(data_2014_2[c]))"
   ]
  },
  {
   "cell_type": "code",
   "execution_count": 431,
   "metadata": {
    "collapsed": false
   },
   "outputs": [
    {
     "name": "stdout",
     "output_type": "stream",
     "text": [
      "cant null antes: 519072\n",
      "cant null despues: 0\n"
     ]
    }
   ],
   "source": [
    "Do_resamples(data_2014_2, c, str)"
   ]
  },
  {
   "cell_type": "code",
   "execution_count": 432,
   "metadata": {
    "collapsed": false
   },
   "outputs": [
    {
     "name": "stdout",
     "output_type": "stream",
     "text": [
      "Float64Index([1.0, 2.0, 3.0, 4.0], dtype='float64')\n",
      "1    13447\n",
      "2     6264\n",
      "3     1961\n",
      "4     1223\n",
      "Name: ESTU_VECES_ESTADO, dtype: int64\n",
      "Elementos null/NaN 547855\n",
      "__________________\n",
      "Elementos diferentes de null/NaN: 22895\n",
      "__________________\n",
      "(22895,)\n",
      "None\n"
     ]
    }
   ],
   "source": [
    "c = 'ESTU_VECES_ESTADO'\n",
    "print(data_2014_2[c].value_counts().sort_index().index)\n",
    "print(data_2014_2[c].value_counts().sort_index())\n",
    "print(missing_data(data_2014_2[c]))"
   ]
  },
  {
   "cell_type": "code",
   "execution_count": 433,
   "metadata": {
    "collapsed": false
   },
   "outputs": [
    {
     "name": "stdout",
     "output_type": "stream",
     "text": [
      "cant null antes: 547855\n",
      "cant null despues: 0\n"
     ]
    }
   ],
   "source": [
    "Do_resamples(data_2014_2, c, float)"
   ]
  },
  {
   "cell_type": "code",
   "execution_count": 434,
   "metadata": {
    "collapsed": false,
    "scrolled": true
   },
   "outputs": [
    {
     "name": "stdout",
     "output_type": "stream",
     "text": [
      "Index([    '0',     0.0,  '3005',  '3429',  '5127',  '4200',  '2067', '19765',\n",
      "       '11129', '17567',\n",
      "       ...\n",
      "        '8358',  '3120', '10829',  '4757', 18157.0, 18152.0, 18132.0, '20038',\n",
      "       '21328',  '6516'],\n",
      "      dtype='object', length=6518)\n",
      "0                          1184\n",
      "0.0                         248\n",
      "3005                         50\n",
      "3429                         47\n",
      "5127                         38\n",
      "4200                         37\n",
      "2067                         35\n",
      "19765                        33\n",
      "11129                        31\n",
      "17567                        28\n",
      "20294                        27\n",
      "1210                         27\n",
      "16212                        27\n",
      "6847                         26\n",
      "7480                         26\n",
      "17360                        26\n",
      "5912                         23\n",
      "7998                         23\n",
      "5963                         23\n",
      "19261                        23\n",
      "13053                        23\n",
      "5135                         22\n",
      "19027                        22\n",
      "3427                         22\n",
      "10982                        21\n",
      "11610                        20\n",
      "15253                        20\n",
      "3428                         20\n",
      "2827                         19\n",
      "986                          19\n",
      "                           ... \n",
      "18314.0                       1\n",
      "9750                          1\n",
      "18313.0                       1\n",
      "5692                          1\n",
      "17851                         1\n",
      "305                           1\n",
      "escuela GASTON FARUDO P       1\n",
      "6552                          1\n",
      "475                           1\n",
      "9004                          1\n",
      "1484                          1\n",
      "4919                          1\n",
      "18234.0                       1\n",
      "2607                          1\n",
      "1708                          1\n",
      "18226.0                       1\n",
      "18222.0                       1\n",
      "7364                          1\n",
      "20243                         1\n",
      "18202.0                       1\n",
      "8358                          1\n",
      "3120                          1\n",
      "10829                         1\n",
      "4757                          1\n",
      "18157.0                       1\n",
      "18152.0                       1\n",
      "18132.0                       1\n",
      "20038                         1\n",
      "21328                         1\n",
      "6516                          1\n",
      "Name: ESTU_COD_PLANTEL, dtype: int64\n",
      "Elementos null/NaN 555098\n",
      "__________________\n",
      "Elementos diferentes de null/NaN: 15652\n",
      "__________________\n",
      "(15652,)\n",
      "None\n"
     ]
    }
   ],
   "source": [
    "c = 'ESTU_COD_PLANTEL'\n",
    "print(data_2014_2[c].value_counts().index)\n",
    "print(data_2014_2[c].value_counts())\n",
    "print(missing_data(data_2014_2[c]))"
   ]
  },
  {
   "cell_type": "code",
   "execution_count": 435,
   "metadata": {
    "collapsed": false
   },
   "outputs": [
    {
     "name": "stdout",
     "output_type": "stream",
     "text": [
      "cant null antes: 557640\n",
      "cant null despues: 0\n"
     ]
    }
   ],
   "source": [
    "data_2014_2[c] =data_2014_2[c].replace('0', np.nan)\n",
    "data_2014_2[c] =data_2014_2[c].replace('gamor', np.nan)\n",
    "data_2014_2[c] =data_2014_2[c].replace(0, np.nan)\n",
    "for i in data_2014_2[c].value_counts().index:\n",
    "    if ' ' in str(i):\n",
    "        data_2014_2[c] =data_2014_2[c].replace(i, np.nan)\n",
    "    elif 'a' in str(i) or 'e' in str(i):\n",
    "        data_2014_2[c] =data_2014_2[c].replace(i, np.nan)\n",
    "    elif len(str(i)) < 4:\n",
    "        data_2014_2[c] =data_2014_2[c].replace(i, np.nan)\n",
    "    elif type(i) == str:\n",
    "        data_2014_2[c] =data_2014_2[c].replace(i, float(i))\n",
    "        \n",
    "Do_resamples(data_2014_2, c, float)"
   ]
  },
  {
   "cell_type": "code",
   "execution_count": 436,
   "metadata": {
    "collapsed": false,
    "scrolled": true
   },
   "outputs": [
    {
     "name": "stdout",
     "output_type": "stream",
     "text": [
      "Index(['ABEJORRAL', 'ABREGO', 'ACACIAS', 'ACANDI', 'ACHI', 'AGUACHICA',\n",
      "       'AGUADAS', 'AGUAZUL', 'AGUSTIN CODAZZI', 'AIPE',\n",
      "       ...\n",
      "       'VILLETA', 'VIOTA', 'YARUMAL', 'YOLOMBO', 'YOPAL', 'YUMBO', 'ZAPATOCA',\n",
      "       'ZARAGOZA', 'ZARZAL', 'ZIPAQUIRA'],\n",
      "      dtype='object', length=439)\n",
      "ABEJORRAL                     209\n",
      "ABREGO                        246\n",
      "ACACIAS                      1504\n",
      "ACANDI                        108\n",
      "ACHI                          367\n",
      "AGUACHICA                    1452\n",
      "AGUADAS                       307\n",
      "AGUAZUL                       723\n",
      "AGUSTIN CODAZZI               695\n",
      "AIPE                          175\n",
      "ALBAN                          78\n",
      "ALBAN (SAN JOSE)              261\n",
      "ALCALA                        199\n",
      "ALTO BAUDO (PIE DE PATO)       25\n",
      "AMAGA                         784\n",
      "AMALFI                        377\n",
      "ANDALUCIA                     205\n",
      "ANDES                         902\n",
      "ANOLAIMA                      235\n",
      "ANSERMA                       789\n",
      "ANSERMANUEVO                  211\n",
      "APARTADO                     1679\n",
      "APIA                          251\n",
      "ARACATACA                     466\n",
      "ARAUCA                       1104\n",
      "ARAUQUITA                     318\n",
      "ARBELAEZ                      169\n",
      "ARBOLEDAS                     288\n",
      "ARBOLETES                     556\n",
      "ARIGUANI (EL DIFICIL)         319\n",
      "                             ... \n",
      "TURBO                        1289\n",
      "TURMEQUE                      351\n",
      "TUTA                          146\n",
      "UBATE                        1269\n",
      "UNGUIA                         77\n",
      "URIBIA                        616\n",
      "URRAO                         751\n",
      "VALLEDUPAR                   5957\n",
      "VALPARAISO                    157\n",
      "VEGACHI                       249\n",
      "VELEZ                         844\n",
      "VENADILLO                     183\n",
      "VENTAQUEMADA                  184\n",
      "VIGIA DEL FUERTE              110\n",
      "VILLA DE LEYVA                348\n",
      "VILLA DEL ROSARIO             876\n",
      "VILLA GUAMEZ (LA HORMIGA)     722\n",
      "VILLAGARZON                   353\n",
      "VILLANUEVA                    988\n",
      "VILLAVICENCIO                6877\n",
      "VILLETA                       564\n",
      "VIOTA                         189\n",
      "YARUMAL                      1066\n",
      "YOLOMBO                       237\n",
      "YOPAL                        2950\n",
      "YUMBO                        1454\n",
      "ZAPATOCA                      163\n",
      "ZARAGOZA                      201\n",
      "ZARZAL                        567\n",
      "ZIPAQUIRA                    3342\n",
      "Name: ESTU_MCPIO_PRESENTACION, dtype: int64\n",
      "Elementos null/NaN 0\n",
      "__________________\n",
      "Elementos diferentes de null/NaN: 570750\n",
      "__________________\n",
      "(570750,)\n",
      "None\n"
     ]
    }
   ],
   "source": [
    "c = 'ESTU_MCPIO_PRESENTACION'\n",
    "print(data_2014_2[c].value_counts().sort_index().index)\n",
    "print(data_2014_2[c].value_counts().sort_index())\n",
    "print(missing_data(data_2014_2[c]))"
   ]
  },
  {
   "cell_type": "code",
   "execution_count": 437,
   "metadata": {
    "collapsed": false,
    "scrolled": true
   },
   "outputs": [
    {
     "name": "stdout",
     "output_type": "stream",
     "text": [
      "Index(['AMAZONAS', 'ANTIOQUIA', 'ARAUCA', 'ATLANTICO', 'BOGOTA', 'BOLIVAR',\n",
      "       'BOYACA', 'CALDAS', 'CAQUETA', 'CASANARE', 'CAUCA', 'CESAR', 'CHOCO',\n",
      "       'CORDOBA', 'CUNDINAMARCA', 'GUAINIA', 'GUAVIARE', 'HUILA', 'LA GUAJIRA',\n",
      "       'MAGDALENA', 'META', 'NARIÑO', 'NORTE SANTANDER', 'PUTUMAYO', 'QUINDIO',\n",
      "       'RISARALDA', 'SAN ANDRES', 'SANTANDER', 'SUCRE', 'TOLIMA', 'VALLE',\n",
      "       'VAUPES', 'VICHADA'],\n",
      "      dtype='object')\n",
      "AMAZONAS             769\n",
      "ANTIOQUIA          75989\n",
      "ARAUCA              2999\n",
      "ATLANTICO          29460\n",
      "BOGOTA             96212\n",
      "BOLIVAR            24505\n",
      "BOYACA             18740\n",
      "CALDAS             12820\n",
      "CAQUETA             4206\n",
      "CASANARE            6103\n",
      "CAUCA              14591\n",
      "CESAR              12779\n",
      "CHOCO               4168\n",
      "CORDOBA            18865\n",
      "CUNDINAMARCA       35282\n",
      "GUAINIA              279\n",
      "GUAVIARE            1022\n",
      "HUILA              15279\n",
      "LA GUAJIRA          7241\n",
      "MAGDALENA          15118\n",
      "META               11909\n",
      "NARIÑO             19301\n",
      "NORTE SANTANDER    16457\n",
      "PUTUMAYO            4263\n",
      "QUINDIO             7425\n",
      "RISARALDA          11103\n",
      "SAN ANDRES           661\n",
      "SANTANDER          28764\n",
      "SUCRE              11217\n",
      "TOLIMA             17269\n",
      "VALLE              45112\n",
      "VAUPES               347\n",
      "VICHADA              495\n",
      "Name: ESTU_DEPTO_PRESENTACION, dtype: int64\n",
      "Elementos null/NaN 0\n",
      "__________________\n",
      "Elementos diferentes de null/NaN: 570750\n",
      "__________________\n",
      "(570750,)\n",
      "None\n"
     ]
    }
   ],
   "source": [
    "c = 'ESTU_DEPTO_PRESENTACION'\n",
    "print(data_2014_2[c].value_counts().sort_index().index)\n",
    "print(data_2014_2[c].value_counts().sort_index())\n",
    "print(missing_data(data_2014_2[c]))"
   ]
  },
  {
   "cell_type": "markdown",
   "metadata": {},
   "source": [
    "## TARGETS"
   ]
  },
  {
   "cell_type": "code",
   "execution_count": 438,
   "metadata": {
    "collapsed": false
   },
   "outputs": [
    {
     "name": "stdout",
     "output_type": "stream",
     "text": [
      "Index(['D01', 'D02', 'D03', 'D04', 'D05', 'D06', 'D07', 'D08', 'D09', 'D10'], dtype='object')\n",
      "D01    72777\n",
      "D02    46295\n",
      "D03    54402\n",
      "D04    59592\n",
      "D05    63226\n",
      "D06    60606\n",
      "D07    58199\n",
      "D08    52022\n",
      "D09    57991\n",
      "D10    45640\n",
      "Name: DECIL_LECTURA_CRITICA, dtype: int64\n",
      "Elementos null/NaN 0\n",
      "__________________\n",
      "Elementos diferentes de null/NaN: 570750\n",
      "__________________\n",
      "(570750,)\n",
      "None\n"
     ]
    }
   ],
   "source": [
    "c = 'DECIL_LECTURA_CRITICA'\n",
    "print(data_2014_2[c].value_counts().sort_index().index)\n",
    "print(data_2014_2[c].value_counts().sort_index())\n",
    "print(missing_data(data_2014_2[c]))"
   ]
  },
  {
   "cell_type": "code",
   "execution_count": 439,
   "metadata": {
    "collapsed": false,
    "scrolled": true
   },
   "outputs": [
    {
     "name": "stdout",
     "output_type": "stream",
     "text": [
      "Int64Index([  0,   6,   7,   9,  12,  13,  14,  15,  17,  18,  19,  20,  22,\n",
      "             23,  25,  26,  28,  29,  31,  32,  33,  34,  35,  36,  37,  38,\n",
      "             39,  40,  41,  42,  43,  44,  45,  46,  47,  48,  49,  50,  51,\n",
      "             52,  53,  54,  55,  56,  57,  58,  59,  60,  61,  62,  63,  64,\n",
      "             65,  66,  67,  68,  69,  70,  71,  72,  73,  74,  75,  76,  77,\n",
      "             78,  79,  80,  82,  83,  84,  91,  92,  98, 100],\n",
      "           dtype='int64')\n",
      "0        359\n",
      "6         11\n",
      "7         41\n",
      "9         10\n",
      "12         2\n",
      "13         1\n",
      "14        45\n",
      "15       120\n",
      "17        31\n",
      "18         2\n",
      "19       179\n",
      "20       165\n",
      "22        47\n",
      "23       961\n",
      "25        31\n",
      "26      2148\n",
      "28      1899\n",
      "29      2144\n",
      "31      6609\n",
      "32        44\n",
      "33      9811\n",
      "34        47\n",
      "35     13108\n",
      "36     15620\n",
      "37      1003\n",
      "38     18339\n",
      "39      1222\n",
      "40     21833\n",
      "41     23240\n",
      "42      7502\n",
      "       ...  \n",
      "58     24292\n",
      "59        14\n",
      "60     21941\n",
      "61     14803\n",
      "62      4691\n",
      "63     16542\n",
      "64         5\n",
      "65     13446\n",
      "66       494\n",
      "67     10053\n",
      "68       430\n",
      "69      5933\n",
      "70      1961\n",
      "71       305\n",
      "72      5503\n",
      "73       209\n",
      "74        30\n",
      "75      3454\n",
      "76       130\n",
      "77        37\n",
      "78      1106\n",
      "79      1000\n",
      "80        91\n",
      "82         2\n",
      "83       492\n",
      "84       526\n",
      "91       183\n",
      "92       179\n",
      "98         4\n",
      "100       67\n",
      "Name: PUNT_LECTURA_CRITICA, dtype: int64\n",
      "Elementos null/NaN 0\n",
      "__________________\n",
      "Elementos diferentes de null/NaN: 570750\n",
      "__________________\n",
      "(570750,)\n",
      "None\n"
     ]
    }
   ],
   "source": [
    "c = 'PUNT_LECTURA_CRITICA'\n",
    "print(data_2014_2[c].value_counts().sort_index().index)\n",
    "print(data_2014_2[c].value_counts().sort_index())\n",
    "print(missing_data(data_2014_2[c]))"
   ]
  },
  {
   "cell_type": "code",
   "execution_count": 440,
   "metadata": {
    "collapsed": false
   },
   "outputs": [
    {
     "name": "stdout",
     "output_type": "stream",
     "text": [
      "Index(['D01', 'D02', 'D03', 'D04', 'D05', 'D06', 'D07', 'D08', 'D09', 'D10'], dtype='object')\n",
      "D01    60788\n",
      "D02    60649\n",
      "D03    77595\n",
      "D04    44539\n",
      "D05    42524\n",
      "D06    78444\n",
      "D07    62690\n",
      "D08    46117\n",
      "D09    44962\n",
      "D10    52442\n",
      "Name: DECIL_MATEMATICAS, dtype: int64\n",
      "Elementos null/NaN 0\n",
      "__________________\n",
      "Elementos diferentes de null/NaN: 570750\n",
      "__________________\n",
      "(570750,)\n",
      "None\n"
     ]
    }
   ],
   "source": [
    "c = 'DECIL_MATEMATICAS'\n",
    "print(data_2014_2[c].value_counts().sort_index().index)\n",
    "print(data_2014_2[c].value_counts().sort_index())\n",
    "print(missing_data(data_2014_2[c]))"
   ]
  },
  {
   "cell_type": "code",
   "execution_count": 441,
   "metadata": {
    "collapsed": false,
    "scrolled": true
   },
   "outputs": [
    {
     "name": "stdout",
     "output_type": "stream",
     "text": [
      "Int64Index([  0,   1,   6,   7,   8,  12,  13,  16,  17,  18,  19,  20,  21,\n",
      "             22,  23,  24,  26,  27,  28,  29,  31,  32,  33,  34,  35,  36,\n",
      "             37,  38,  39,  40,  41,  42,  43,  44,  45,  46,  47,  48,  49,\n",
      "             50,  51,  52,  53,  54,  55,  56,  57,  58,  59,  60,  61,  62,\n",
      "             63,  64,  65,  66,  67,  68,  69,  70,  71,  72,  73,  74,  75,\n",
      "             76,  77,  78,  79,  80,  81,  82,  83,  84,  85,  86,  87,  88,\n",
      "             89,  90,  91,  92,  93,  94,  95,  96,  97,  99, 100],\n",
      "           dtype='int64')\n",
      "0        184\n",
      "1         22\n",
      "6         12\n",
      "7         23\n",
      "8         23\n",
      "12        33\n",
      "13        60\n",
      "16        93\n",
      "17       100\n",
      "18        14\n",
      "19         1\n",
      "20       193\n",
      "21       212\n",
      "22        18\n",
      "23       410\n",
      "24       507\n",
      "26       929\n",
      "27      1083\n",
      "28       800\n",
      "29      2875\n",
      "31      2990\n",
      "32      3434\n",
      "33      4640\n",
      "34      5633\n",
      "35      3299\n",
      "36     12141\n",
      "37      4649\n",
      "38     16410\n",
      "39      6045\n",
      "40     21374\n",
      "       ...  \n",
      "70      4149\n",
      "71       183\n",
      "72      3688\n",
      "73        36\n",
      "74      2925\n",
      "75      2305\n",
      "76       107\n",
      "77      1895\n",
      "78        14\n",
      "79      1477\n",
      "80        76\n",
      "81      1154\n",
      "82        74\n",
      "83       925\n",
      "84        63\n",
      "85       734\n",
      "86        47\n",
      "87       501\n",
      "88        47\n",
      "89       160\n",
      "90       213\n",
      "91         4\n",
      "92       230\n",
      "93        23\n",
      "94         1\n",
      "95       189\n",
      "96        18\n",
      "97         2\n",
      "99       116\n",
      "100      133\n",
      "Name: PUNT_MATEMATICAS, dtype: int64\n",
      "Elementos null/NaN 0\n",
      "__________________\n",
      "Elementos diferentes de null/NaN: 570750\n",
      "__________________\n",
      "(570750,)\n",
      "None\n"
     ]
    }
   ],
   "source": [
    "c = 'PUNT_MATEMATICAS'\n",
    "print(data_2014_2[c].value_counts().sort_index().index)\n",
    "print(data_2014_2[c].value_counts().sort_index())\n",
    "print(missing_data(data_2014_2[c]))"
   ]
  },
  {
   "cell_type": "code",
   "execution_count": 442,
   "metadata": {
    "collapsed": false
   },
   "outputs": [
    {
     "name": "stdout",
     "output_type": "stream",
     "text": [
      "Index(['D01', 'D02', 'D03', 'D04', 'D05', 'D06', 'D07', 'D08', 'D09', 'D10'], dtype='object')\n",
      "D01    66683\n",
      "D02    63932\n",
      "D03    64247\n",
      "D04    47577\n",
      "D05    51807\n",
      "D06    62844\n",
      "D07    42406\n",
      "D08    62013\n",
      "D09    53762\n",
      "D10    55479\n",
      "Name: DECIL_C_NATURALES, dtype: int64\n",
      "Elementos null/NaN 0\n",
      "__________________\n",
      "Elementos diferentes de null/NaN: 570750\n",
      "__________________\n",
      "(570750,)\n",
      "None\n"
     ]
    }
   ],
   "source": [
    "c = 'DECIL_C_NATURALES'\n",
    "print(data_2014_2[c].value_counts().sort_index().index)\n",
    "print(data_2014_2[c].value_counts().sort_index())\n",
    "print(missing_data(data_2014_2[c]))"
   ]
  },
  {
   "cell_type": "code",
   "execution_count": 443,
   "metadata": {
    "collapsed": false,
    "scrolled": true
   },
   "outputs": [
    {
     "name": "stdout",
     "output_type": "stream",
     "text": [
      "Int64Index([  0,  15,  16,  17,  18,  19,  20,  21,  22,  23,  24,  25,  26,\n",
      "             27,  28,  29,  30,  31,  32,  33,  34,  35,  36,  37,  38,  39,\n",
      "             40,  41,  42,  43,  44,  45,  46,  47,  48,  49,  50,  51,  52,\n",
      "             53,  54,  55,  56,  57,  58,  59,  60,  61,  62,  63,  64,  65,\n",
      "             66,  67,  68,  69,  70,  71,  72,  73,  74,  75,  76,  77,  78,\n",
      "             79,  80,  81,  82,  83,  84,  85,  86,  87,  88,  89,  90,  91,\n",
      "             93,  95,  96,  98, 100],\n",
      "           dtype='int64')\n",
      "0        188\n",
      "15        33\n",
      "16        59\n",
      "17        85\n",
      "18       121\n",
      "19       150\n",
      "20       120\n",
      "21       252\n",
      "22       445\n",
      "23       219\n",
      "24       479\n",
      "25       520\n",
      "26       956\n",
      "27       542\n",
      "28      1774\n",
      "29      2010\n",
      "30      1166\n",
      "31      2858\n",
      "32      3994\n",
      "33      4565\n",
      "34      5873\n",
      "35      6574\n",
      "36      8541\n",
      "37      9049\n",
      "38     16110\n",
      "39     12925\n",
      "40     12682\n",
      "41     22096\n",
      "42     16229\n",
      "43     22725\n",
      "       ...  \n",
      "67      5424\n",
      "68      3764\n",
      "69      4355\n",
      "70      3713\n",
      "71      3187\n",
      "72      1972\n",
      "73      2414\n",
      "74      1687\n",
      "75      1526\n",
      "76      1331\n",
      "77       963\n",
      "78       929\n",
      "79       828\n",
      "80       426\n",
      "81       588\n",
      "82       282\n",
      "83       287\n",
      "84       249\n",
      "85       159\n",
      "86       179\n",
      "87       119\n",
      "88        48\n",
      "89        50\n",
      "90        60\n",
      "91        30\n",
      "93        44\n",
      "95        12\n",
      "96         9\n",
      "98         8\n",
      "100        9\n",
      "Name: PUNT_C_NATURALES, dtype: int64\n",
      "Elementos null/NaN 0\n",
      "__________________\n",
      "Elementos diferentes de null/NaN: 570750\n",
      "__________________\n",
      "(570750,)\n",
      "None\n"
     ]
    }
   ],
   "source": [
    "c = 'PUNT_C_NATURALES'\n",
    "print(data_2014_2[c].value_counts().sort_index().index)\n",
    "print(data_2014_2[c].value_counts().sort_index())\n",
    "print(missing_data(data_2014_2[c]))"
   ]
  },
  {
   "cell_type": "code",
   "execution_count": 444,
   "metadata": {
    "collapsed": false
   },
   "outputs": [
    {
     "name": "stdout",
     "output_type": "stream",
     "text": [
      "Index(['D01', 'D02', 'D03', 'D04', 'D05', 'D06', 'D07', 'D08', 'D09', 'D10'], dtype='object')\n",
      "D01    57650\n",
      "D02    78550\n",
      "D03    38452\n",
      "D04    66705\n",
      "D05    66207\n",
      "D06    64644\n",
      "D07    29690\n",
      "D08    75315\n",
      "D09    37279\n",
      "D10    56258\n",
      "Name: DECIL_SOCIALES_CIUDADANAS, dtype: int64\n",
      "Elementos null/NaN 0\n",
      "__________________\n",
      "Elementos diferentes de null/NaN: 570750\n",
      "__________________\n",
      "(570750,)\n",
      "None\n"
     ]
    }
   ],
   "source": [
    "c = 'DECIL_SOCIALES_CIUDADANAS'\n",
    "print(data_2014_2[c].value_counts().sort_index().index)\n",
    "print(data_2014_2[c].value_counts().sort_index())\n",
    "print(missing_data(data_2014_2[c]))"
   ]
  },
  {
   "cell_type": "code",
   "execution_count": 445,
   "metadata": {
    "collapsed": false,
    "scrolled": true
   },
   "outputs": [
    {
     "name": "stdout",
     "output_type": "stream",
     "text": [
      "Int64Index([  0,   1,   2,   8,  10,  11,  14,  15,  16,  17,  18,  19,  20,\n",
      "             21,  22,  23,  24,  25,  26,  27,  28,  29,  30,  31,  32,  33,\n",
      "             34,  35,  36,  37,  38,  39,  40,  41,  42,  43,  44,  45,  46,\n",
      "             47,  48,  49,  50,  51,  52,  53,  54,  55,  56,  57,  58,  59,\n",
      "             60,  61,  62,  63,  64,  65,  66,  67,  68,  69,  70,  71,  72,\n",
      "             73,  75,  76,  77,  78,  80,  81,  82,  83,  84,  86,  87,  88,\n",
      "             91,  93,  94, 100],\n",
      "           dtype='int64')\n",
      "0        185\n",
      "1         21\n",
      "2         23\n",
      "8          1\n",
      "10        64\n",
      "11        36\n",
      "14         7\n",
      "15        73\n",
      "16       155\n",
      "17       118\n",
      "18         4\n",
      "19         2\n",
      "20       488\n",
      "21       258\n",
      "22        12\n",
      "23       320\n",
      "24      1316\n",
      "25        24\n",
      "26       614\n",
      "27      2605\n",
      "28        48\n",
      "29      2484\n",
      "30      3161\n",
      "31      3827\n",
      "32      5080\n",
      "33      2821\n",
      "34      6895\n",
      "35      7472\n",
      "36      9061\n",
      "37     10475\n",
      "       ...  \n",
      "60      5208\n",
      "61     15004\n",
      "62     17067\n",
      "63      3481\n",
      "64     10782\n",
      "65      9180\n",
      "66      2620\n",
      "67      9010\n",
      "68        14\n",
      "69      7022\n",
      "70      1219\n",
      "71      3801\n",
      "72       888\n",
      "73      2665\n",
      "75      2222\n",
      "76       163\n",
      "77       707\n",
      "78       813\n",
      "80       625\n",
      "81       238\n",
      "82        63\n",
      "83       206\n",
      "84       204\n",
      "86        26\n",
      "87        84\n",
      "88        97\n",
      "91        21\n",
      "93        75\n",
      "94         1\n",
      "100       31\n",
      "Name: PUNT_SOCIALES_CIUDADANAS, dtype: int64\n",
      "Elementos null/NaN 0\n",
      "__________________\n",
      "Elementos diferentes de null/NaN: 570750\n",
      "__________________\n",
      "(570750,)\n",
      "None\n"
     ]
    }
   ],
   "source": [
    "c = 'PUNT_SOCIALES_CIUDADANAS'\n",
    "print(data_2014_2[c].value_counts().sort_index().index)\n",
    "print(data_2014_2[c].value_counts().sort_index())\n",
    "print(missing_data(data_2014_2[c]))"
   ]
  },
  {
   "cell_type": "code",
   "execution_count": 446,
   "metadata": {
    "collapsed": false
   },
   "outputs": [
    {
     "name": "stdout",
     "output_type": "stream",
     "text": [
      "Index(['D01', 'D02', 'D03', 'D04', 'D05', 'D06', 'D07', 'D08', 'D09', 'D10'], dtype='object')\n",
      "D01    77476\n",
      "D02    76970\n",
      "D03    46918\n",
      "D04    49033\n",
      "D05    47513\n",
      "D06    64833\n",
      "D07    50964\n",
      "D08    46461\n",
      "D09    58058\n",
      "D10    52524\n",
      "Name: DECIL_INGLES, dtype: int64\n",
      "Elementos null/NaN 0\n",
      "__________________\n",
      "Elementos diferentes de null/NaN: 570750\n",
      "__________________\n",
      "(570750,)\n",
      "None\n"
     ]
    }
   ],
   "source": [
    "c = 'DECIL_INGLES'\n",
    "print(data_2014_2[c].value_counts().sort_index().index)\n",
    "print(data_2014_2[c].value_counts().sort_index())\n",
    "print(missing_data(data_2014_2[c]))"
   ]
  },
  {
   "cell_type": "code",
   "execution_count": 447,
   "metadata": {
    "collapsed": false
   },
   "outputs": [
    {
     "name": "stdout",
     "output_type": "stream",
     "text": [
      "Index(['A-', 'A1', 'A2', 'B+', 'B1'], dtype='object')\n",
      "A-    297951\n",
      "A1    200438\n",
      "A2     40801\n",
      "B+      9835\n",
      "B1     21725\n",
      "Name: DESEMP_INGLES, dtype: int64\n",
      "Elementos null/NaN 0\n",
      "__________________\n",
      "Elementos diferentes de null/NaN: 570750\n",
      "__________________\n",
      "(570750,)\n",
      "None\n"
     ]
    }
   ],
   "source": [
    "c = 'DESEMP_INGLES'\n",
    "print(data_2014_2[c].value_counts().sort_index().index)\n",
    "print(data_2014_2[c].value_counts().sort_index())\n",
    "print(missing_data(data_2014_2[c]))"
   ]
  },
  {
   "cell_type": "code",
   "execution_count": 448,
   "metadata": {
    "collapsed": false,
    "scrolled": true
   },
   "outputs": [
    {
     "name": "stdout",
     "output_type": "stream",
     "text": [
      "Int64Index([  0,   6,  15,  16,  19,  20,  22,  24,  26,  27,  28,  29,  30,\n",
      "             31,  32,  34,  36,  38,  39,  40,  41,  42,  43,  44,  45,  46,\n",
      "             47,  48,  49,  50,  51,  52,  53,  54,  55,  56,  57,  58,  59,\n",
      "             60,  61,  62,  63,  64,  65,  66,  67,  68,  69,  70,  71,  72,\n",
      "             73,  74,  75,  76,  77,  78,  79,  80,  81,  82,  84,  85,  87,\n",
      "             88,  89,  93,  94, 100],\n",
      "           dtype='int64')\n",
      "0        454\n",
      "6         43\n",
      "15        53\n",
      "16         1\n",
      "19         2\n",
      "20        90\n",
      "22         1\n",
      "24       170\n",
      "26         2\n",
      "27       401\n",
      "28         7\n",
      "29         8\n",
      "30      1021\n",
      "31        12\n",
      "32      2281\n",
      "34      4440\n",
      "36      8085\n",
      "38     13373\n",
      "39      9971\n",
      "40      9704\n",
      "41     27357\n",
      "42     18053\n",
      "43     17237\n",
      "44     41680\n",
      "45     46918\n",
      "46       595\n",
      "47     48438\n",
      "48     47513\n",
      "49     44449\n",
      "50     20384\n",
      "       ...  \n",
      "61      5644\n",
      "62      2654\n",
      "63      2525\n",
      "64      4319\n",
      "65      4189\n",
      "66      1982\n",
      "67      1769\n",
      "68      3526\n",
      "69      1864\n",
      "70      1623\n",
      "71      3232\n",
      "72       196\n",
      "73      2946\n",
      "74       156\n",
      "75      2875\n",
      "76       153\n",
      "77      2798\n",
      "78       163\n",
      "79      2789\n",
      "80        39\n",
      "81      1532\n",
      "82      1389\n",
      "84      1507\n",
      "85      1383\n",
      "87         1\n",
      "88      2786\n",
      "89        22\n",
      "93      2261\n",
      "94        22\n",
      "100     1823\n",
      "Name: PUNT_INGLES, dtype: int64\n",
      "Elementos null/NaN 0\n",
      "__________________\n",
      "Elementos diferentes de null/NaN: 570750\n",
      "__________________\n",
      "(570750,)\n",
      "None\n"
     ]
    }
   ],
   "source": [
    "c = 'PUNT_INGLES'\n",
    "print(data_2014_2[c].value_counts().sort_index().index)\n",
    "print(data_2014_2[c].value_counts().sort_index())\n",
    "print(missing_data(data_2014_2[c]))"
   ]
  },
  {
   "cell_type": "code",
   "execution_count": 449,
   "metadata": {
    "collapsed": false
   },
   "outputs": [
    {
     "name": "stdout",
     "output_type": "stream",
     "text": [
      "Index(['D01', 'D02', 'D03', 'D04', 'D05', 'D06', 'D07', 'D08', 'D09', 'D10'], dtype='object')\n",
      "D01    65575\n",
      "D02    53028\n",
      "D03    57140\n",
      "D04    64195\n",
      "D05    64927\n",
      "D06    62102\n",
      "D07    40514\n",
      "D08    55563\n",
      "D09    57270\n",
      "D10    50436\n",
      "Name: DECIL_RAZONA_CUANT, dtype: int64\n",
      "Elementos null/NaN 0\n",
      "__________________\n",
      "Elementos diferentes de null/NaN: 570750\n",
      "__________________\n",
      "(570750,)\n",
      "None\n"
     ]
    }
   ],
   "source": [
    "c = 'DECIL_RAZONA_CUANT'\n",
    "print(data_2014_2[c].value_counts().sort_index().index)\n",
    "print(data_2014_2[c].value_counts().sort_index())\n",
    "print(missing_data(data_2014_2[c]))"
   ]
  },
  {
   "cell_type": "code",
   "execution_count": 450,
   "metadata": {
    "collapsed": false,
    "scrolled": true
   },
   "outputs": [
    {
     "name": "stdout",
     "output_type": "stream",
     "text": [
      "Int64Index([  0,   2,   3,   4,   8,  10,  12,  13,  14,  17,  18,  19,  20,\n",
      "             23,  24,  25,  27,  28,  29,  31,  32,  33,  34,  35,  36,  37,\n",
      "             38,  39,  40,  41,  42,  43,  44,  46,  47,  49,  50,  51,  52,\n",
      "             53,  54,  55,  56,  57,  58,  59,  60,  62,  63,  65,  67,  68,\n",
      "             69,  70,  71,  73,  74,  76,  77,  79,  80,  81,  82,  83,  84,\n",
      "             85,  87,  88,  91,  92,  93,  94,  98,  99, 100],\n",
      "           dtype='int64')\n",
      "0        186\n",
      "2         17\n",
      "3         34\n",
      "4         25\n",
      "8         19\n",
      "10         2\n",
      "12       156\n",
      "13        76\n",
      "14        96\n",
      "17        36\n",
      "18       188\n",
      "19       451\n",
      "20       268\n",
      "23       622\n",
      "24      1166\n",
      "25       699\n",
      "27      1304\n",
      "28      2928\n",
      "29      1578\n",
      "31      5193\n",
      "32      3164\n",
      "33      3074\n",
      "34      4387\n",
      "35     10564\n",
      "36      5341\n",
      "37        62\n",
      "38     23939\n",
      "39      8444\n",
      "40     10000\n",
      "41     23226\n",
      "       ...  \n",
      "59     23896\n",
      "60      8603\n",
      "62     23346\n",
      "63       755\n",
      "65     16955\n",
      "67      2873\n",
      "68      8868\n",
      "69         9\n",
      "70       374\n",
      "71      7401\n",
      "73       274\n",
      "74      4937\n",
      "76       163\n",
      "77      3153\n",
      "79       125\n",
      "80      1034\n",
      "81      1021\n",
      "82        17\n",
      "83        77\n",
      "84      1162\n",
      "85         2\n",
      "87        45\n",
      "88       710\n",
      "91        28\n",
      "92         4\n",
      "93        75\n",
      "94       250\n",
      "98         1\n",
      "99        10\n",
      "100      113\n",
      "Name: PUNT_RAZONA_CUANT, dtype: int64\n",
      "Elementos null/NaN 0\n",
      "__________________\n",
      "Elementos diferentes de null/NaN: 570750\n",
      "__________________\n",
      "(570750,)\n",
      "None\n"
     ]
    }
   ],
   "source": [
    "c = 'PUNT_RAZONA_CUANT'\n",
    "print(data_2014_2[c].value_counts().sort_index().index)\n",
    "print(data_2014_2[c].value_counts().sort_index())\n",
    "print(missing_data(data_2014_2[c]))"
   ]
  },
  {
   "cell_type": "code",
   "execution_count": 451,
   "metadata": {
    "collapsed": false
   },
   "outputs": [
    {
     "name": "stdout",
     "output_type": "stream",
     "text": [
      "Index(['D01', 'D02', 'D03', 'D04', 'D05', 'D06', 'D07', 'D08', 'D09', 'D10'], dtype='object')\n",
      "D01    72024\n",
      "D02    45252\n",
      "D03    81498\n",
      "D04    38536\n",
      "D05    69683\n",
      "D06    47824\n",
      "D07    73879\n",
      "D08    33998\n",
      "D09    56082\n",
      "D10    51974\n",
      "Name: DECIL_COMP_CIUDADANA, dtype: int64\n",
      "Elementos null/NaN 0\n",
      "__________________\n",
      "Elementos diferentes de null/NaN: 570750\n",
      "__________________\n",
      "(570750,)\n",
      "None\n"
     ]
    }
   ],
   "source": [
    "c = 'DECIL_COMP_CIUDADANA'\n",
    "print(data_2014_2[c].value_counts().sort_index().index)\n",
    "print(data_2014_2[c].value_counts().sort_index())\n",
    "print(missing_data(data_2014_2[c]))"
   ]
  },
  {
   "cell_type": "code",
   "execution_count": 452,
   "metadata": {
    "collapsed": false,
    "scrolled": true
   },
   "outputs": [
    {
     "name": "stdout",
     "output_type": "stream",
     "text": [
      "Int64Index([  0,  11,  12,  15,  17,  19,  20,  22,  24,  25,  26,  27,  28,\n",
      "             29,  30,  31,  32,  33,  34,  35,  36,  37,  38,  39,  40,  41,\n",
      "             42,  43,  44,  45,  46,  47,  48,  49,  50,  51,  52,  53,  54,\n",
      "             55,  56,  57,  58,  59,  60,  61,  62,  63,  64,  65,  66,  67,\n",
      "             68,  70,  71,  72,  74,  75,  76,  77,  78,  82,  83,  84,  85,\n",
      "            100],\n",
      "           dtype='int64')\n",
      "0        210\n",
      "11        81\n",
      "12        80\n",
      "15        15\n",
      "17        10\n",
      "19       486\n",
      "20       208\n",
      "22        58\n",
      "24      1403\n",
      "25       580\n",
      "26        41\n",
      "27      1065\n",
      "28      3619\n",
      "29       104\n",
      "30      2200\n",
      "31      6847\n",
      "32       178\n",
      "33      6995\n",
      "34      7647\n",
      "35      4707\n",
      "36     15923\n",
      "37       229\n",
      "38     19338\n",
      "39      6902\n",
      "40     22599\n",
      "41     15751\n",
      "42     17776\n",
      "43     18402\n",
      "44     17179\n",
      "45     28141\n",
      "       ...  \n",
      "52     38325\n",
      "53       533\n",
      "54     37417\n",
      "55      1814\n",
      "56     34115\n",
      "57      1747\n",
      "58     32251\n",
      "59      1253\n",
      "60     29197\n",
      "61       989\n",
      "62     24643\n",
      "63        13\n",
      "64      5973\n",
      "65     15110\n",
      "66       672\n",
      "67      7435\n",
      "68      7026\n",
      "70       393\n",
      "71      8947\n",
      "72        68\n",
      "74       189\n",
      "75      1150\n",
      "76      3163\n",
      "77        35\n",
      "78         3\n",
      "82        69\n",
      "83      1086\n",
      "84       345\n",
      "85        12\n",
      "100      285\n",
      "Name: PUNT_COMP_CIUDADANA, dtype: int64\n",
      "Elementos null/NaN 0\n",
      "__________________\n",
      "Elementos diferentes de null/NaN: 570750\n",
      "__________________\n",
      "(570750,)\n",
      "None\n"
     ]
    }
   ],
   "source": [
    "c = 'PUNT_COMP_CIUDADANA'\n",
    "print(data_2014_2[c].value_counts().sort_index().index)\n",
    "print(data_2014_2[c].value_counts().sort_index())\n",
    "print(missing_data(data_2014_2[c]))"
   ]
  },
  {
   "cell_type": "code",
   "execution_count": 453,
   "metadata": {
    "collapsed": false,
    "scrolled": true
   },
   "outputs": [
    {
     "name": "stdout",
     "output_type": "stream",
     "text": [
      "Int64Index([  0,   1,   2,   6,   7,   8,   9,  13,  14,  15,\n",
      "            ...\n",
      "            457, 458, 460, 462, 463, 465, 466, 471, 472, 482],\n",
      "           dtype='int64', length=447)\n",
      "0      78\n",
      "1       1\n",
      "2       3\n",
      "6       1\n",
      "7       1\n",
      "8       2\n",
      "9       1\n",
      "13      3\n",
      "14      2\n",
      "15      1\n",
      "16      3\n",
      "17      6\n",
      "18      5\n",
      "19      1\n",
      "20      7\n",
      "21      1\n",
      "22      1\n",
      "23      1\n",
      "25      1\n",
      "27      3\n",
      "28      3\n",
      "29      4\n",
      "30      2\n",
      "32      4\n",
      "33      2\n",
      "34      1\n",
      "35      3\n",
      "37      1\n",
      "38      4\n",
      "39      2\n",
      "       ..\n",
      "435     6\n",
      "436     4\n",
      "437    11\n",
      "438    12\n",
      "439     2\n",
      "440    10\n",
      "441     7\n",
      "442     5\n",
      "443     2\n",
      "445     5\n",
      "446     3\n",
      "447     2\n",
      "448     9\n",
      "449     1\n",
      "450     1\n",
      "452     7\n",
      "453     1\n",
      "454     1\n",
      "455     2\n",
      "456     4\n",
      "457     3\n",
      "458     2\n",
      "460     2\n",
      "462     2\n",
      "463     1\n",
      "465     1\n",
      "466     1\n",
      "471     1\n",
      "472     1\n",
      "482     1\n",
      "Name: PUNT_GLOBAL, dtype: int64\n",
      "Elementos null/NaN 0\n",
      "__________________\n",
      "Elementos diferentes de null/NaN: 570750\n",
      "__________________\n",
      "(570750,)\n",
      "None\n"
     ]
    }
   ],
   "source": [
    "c = 'PUNT_GLOBAL'\n",
    "print(data_2014_2[c].value_counts().sort_index().index)\n",
    "print(data_2014_2[c].value_counts().sort_index())\n",
    "print(missing_data(data_2014_2[c]))"
   ]
  },
  {
   "cell_type": "code",
   "execution_count": 454,
   "metadata": {
    "collapsed": false,
    "scrolled": true
   },
   "outputs": [
    {
     "name": "stdout",
     "output_type": "stream",
     "text": [
      "Float64Index([   1.0,    2.0,    3.0,    4.0,    5.0,    6.0,    7.0,    8.0,\n",
      "                 9.0,   10.0,\n",
      "              ...\n",
      "               991.0,  992.0,  993.0,  994.0,  995.0,  996.0,  997.0,  998.0,\n",
      "               999.0, 1000.0],\n",
      "             dtype='float64', length=451)\n",
      "1        547\n",
      "2        574\n",
      "3        545\n",
      "4        605\n",
      "5        538\n",
      "6        614\n",
      "7        514\n",
      "8        592\n",
      "9        608\n",
      "10       552\n",
      "11       596\n",
      "12       517\n",
      "13       665\n",
      "14       584\n",
      "15       579\n",
      "16       444\n",
      "17       626\n",
      "18       616\n",
      "19       594\n",
      "20       557\n",
      "21       580\n",
      "22       488\n",
      "23       605\n",
      "24       622\n",
      "25       622\n",
      "26       455\n",
      "27       668\n",
      "28       419\n",
      "29       752\n",
      "30       502\n",
      "        ... \n",
      "970      645\n",
      "972     1079\n",
      "973      546\n",
      "974      604\n",
      "975      313\n",
      "976      558\n",
      "977      892\n",
      "978      476\n",
      "979      537\n",
      "980      672\n",
      "981      523\n",
      "982      651\n",
      "983      451\n",
      "984      622\n",
      "985      627\n",
      "986      351\n",
      "987      817\n",
      "988      511\n",
      "989      583\n",
      "990      386\n",
      "991      617\n",
      "992      738\n",
      "993      496\n",
      "994      644\n",
      "995      529\n",
      "996      530\n",
      "997      588\n",
      "998      609\n",
      "999      603\n",
      "1000     652\n",
      "Name: ESTU_PUESTO, dtype: int64\n",
      "Elementos null/NaN 0\n",
      "__________________\n",
      "Elementos diferentes de null/NaN: 570750\n",
      "__________________\n",
      "(570750,)\n",
      "None\n"
     ]
    }
   ],
   "source": [
    "c = 'ESTU_PUESTO'\n",
    "print(data_2014_2[c].value_counts().sort_index().index)\n",
    "print(data_2014_2[c].value_counts().sort_index())\n",
    "print(missing_data(data_2014_2[c]))"
   ]
  },
  {
   "cell_type": "markdown",
   "metadata": {},
   "source": [
    "Now i can transform the obtained Dataframes in csv files"
   ]
  },
  {
   "cell_type": "code",
   "execution_count": 458,
   "metadata": {
    "collapsed": true
   },
   "outputs": [],
   "source": [
    "data_2014 = label_encoder(data_2014)\n",
    "data_2014_2 = label_encoder(data_2014_2)"
   ]
  },
  {
   "cell_type": "code",
   "execution_count": 460,
   "metadata": {
    "collapsed": false
   },
   "outputs": [],
   "source": [
    "data_2014.to_csv('../DatosFTPICFES/SABER11/SB11-BASES_DE_DATOS/READY/2014_1.csv', sep=';', index=False)\n",
    "data_2014_2.to_csv('../DatosFTPICFES/SABER11/SB11-BASES_DE_DATOS/READY/2014_2.csv', sep=';', index=False)"
   ]
  }
 ],
 "metadata": {
  "kernelspec": {
   "display_name": "Python 3",
   "language": "python",
   "name": "python3"
  },
  "language_info": {
   "codemirror_mode": {
    "name": "ipython",
    "version": 3
   },
   "file_extension": ".py",
   "mimetype": "text/x-python",
   "name": "python",
   "nbconvert_exporter": "python",
   "pygments_lexer": "ipython3",
   "version": "3.4.2"
  }
 },
 "nbformat": 4,
 "nbformat_minor": 0
}
