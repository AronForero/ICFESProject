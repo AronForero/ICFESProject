{
 "cells": [
  {
   "cell_type": "code",
   "execution_count": 1,
   "metadata": {
    "collapsed": true
   },
   "outputs": [],
   "source": [
    "import pandas as pd\n",
    "import numpy as np\n",
    "%run -i ../tools/functions.py\n",
    "%run -i ../tools/label_encoder.py"
   ]
  },
  {
   "cell_type": "code",
   "execution_count": 2,
   "metadata": {
    "collapsed": false
   },
   "outputs": [
    {
     "name": "stderr",
     "output_type": "stream",
     "text": [
      "/usr/local/lib/python3.4/dist-packages/IPython/core/interactiveshell.py:2902: DtypeWarning: Columns (54) have mixed types. Specify dtype option on import or set low_memory=False.\n",
      "  interactivity=interactivity, compiler=compiler, result=result)\n"
     ]
    }
   ],
   "source": [
    "data_2017 = pd.read_csv('../DatosFTPICFES/SABER11/SB11-BASES_DE_DATOS/SB11-20171-RGSTRO-CLFCCN-V1-0.txt', delimiter = '|')"
   ]
  },
  {
   "cell_type": "code",
   "execution_count": 3,
   "metadata": {
    "collapsed": false
   },
   "outputs": [
    {
     "data": {
      "text/plain": [
       "(12993, 80)"
      ]
     },
     "execution_count": 3,
     "metadata": {},
     "output_type": "execute_result"
    }
   ],
   "source": [
    "data_2017.shape"
   ]
  },
  {
   "cell_type": "code",
   "execution_count": 4,
   "metadata": {
    "collapsed": false,
    "scrolled": true
   },
   "outputs": [
    {
     "data": {
      "text/html": [
       "<div>\n",
       "<table border=\"1\" class=\"dataframe\">\n",
       "  <thead>\n",
       "    <tr style=\"text-align: right;\">\n",
       "      <th></th>\n",
       "      <th>0</th>\n",
       "      <th>1</th>\n",
       "      <th>2</th>\n",
       "    </tr>\n",
       "  </thead>\n",
       "  <tbody>\n",
       "    <tr>\n",
       "      <th>ESTU_TIPODOCUMENTO</th>\n",
       "      <td>CC</td>\n",
       "      <td>CC</td>\n",
       "      <td>CC</td>\n",
       "    </tr>\n",
       "    <tr>\n",
       "      <th>ESTU_NACIONALIDAD</th>\n",
       "      <td>COLOMBIA</td>\n",
       "      <td>COLOMBIA</td>\n",
       "      <td>COLOMBIA</td>\n",
       "    </tr>\n",
       "    <tr>\n",
       "      <th>ESTU_GENERO</th>\n",
       "      <td>Masculino</td>\n",
       "      <td>Femenino</td>\n",
       "      <td>Masculino</td>\n",
       "    </tr>\n",
       "    <tr>\n",
       "      <th>ESTU_FECHANACIMIENTO</th>\n",
       "      <td>18/08/1998</td>\n",
       "      <td>07/06/1998</td>\n",
       "      <td>30/03/1998</td>\n",
       "    </tr>\n",
       "    <tr>\n",
       "      <th>PERIODO</th>\n",
       "      <td>20171</td>\n",
       "      <td>20171</td>\n",
       "      <td>20171</td>\n",
       "    </tr>\n",
       "    <tr>\n",
       "      <th>ESTU_CONSECUTIVO</th>\n",
       "      <td>SB11201710017249</td>\n",
       "      <td>SB11201710014556</td>\n",
       "      <td>SB11201710001800</td>\n",
       "    </tr>\n",
       "    <tr>\n",
       "      <th>ESTU_ESTUDIANTE</th>\n",
       "      <td>ESTUDIANTE</td>\n",
       "      <td>ESTUDIANTE</td>\n",
       "      <td>ESTUDIANTE</td>\n",
       "    </tr>\n",
       "    <tr>\n",
       "      <th>ESTU_TIENEETNIA</th>\n",
       "      <td>NO</td>\n",
       "      <td>NO</td>\n",
       "      <td>NO</td>\n",
       "    </tr>\n",
       "    <tr>\n",
       "      <th>ESTU_ETNIA</th>\n",
       "      <td>NaN</td>\n",
       "      <td>NaN</td>\n",
       "      <td>NaN</td>\n",
       "    </tr>\n",
       "    <tr>\n",
       "      <th>ESTU_PAIS_RESIDE</th>\n",
       "      <td>COLOMBIA</td>\n",
       "      <td>COLOMBIA</td>\n",
       "      <td>COLOMBIA</td>\n",
       "    </tr>\n",
       "    <tr>\n",
       "      <th>ESTU_DEPTO_RESIDE</th>\n",
       "      <td>VALLE</td>\n",
       "      <td>CAUCA</td>\n",
       "      <td>VALLE</td>\n",
       "    </tr>\n",
       "    <tr>\n",
       "      <th>ESTU_COD_RESIDE_DEPTO</th>\n",
       "      <td>76</td>\n",
       "      <td>19</td>\n",
       "      <td>76</td>\n",
       "    </tr>\n",
       "    <tr>\n",
       "      <th>ESTU_MCPIO_RESIDE</th>\n",
       "      <td>CALI</td>\n",
       "      <td>POPAYAN</td>\n",
       "      <td>CALI</td>\n",
       "    </tr>\n",
       "    <tr>\n",
       "      <th>ESTU_COD_RESIDE_MCPIO</th>\n",
       "      <td>76001</td>\n",
       "      <td>19001</td>\n",
       "      <td>76001</td>\n",
       "    </tr>\n",
       "    <tr>\n",
       "      <th>ESTU_HORASSEMANATRABAJA</th>\n",
       "      <td>0</td>\n",
       "      <td>0</td>\n",
       "      <td>NaN</td>\n",
       "    </tr>\n",
       "    <tr>\n",
       "      <th>FAMI_EDUCACIONPADRE</th>\n",
       "      <td>Educación Profesional Completa</td>\n",
       "      <td>Educación Profesional Completa</td>\n",
       "      <td>NaN</td>\n",
       "    </tr>\n",
       "    <tr>\n",
       "      <th>FAMI_EDUCACIONMADRE</th>\n",
       "      <td>Educación Técnica o Tecnológica Completa</td>\n",
       "      <td>Educación Profesional Completa</td>\n",
       "      <td>NaN</td>\n",
       "    </tr>\n",
       "    <tr>\n",
       "      <th>FAMI_ESTRATOVIVIENDA</th>\n",
       "      <td>Estrato 3</td>\n",
       "      <td>Estrato 3</td>\n",
       "      <td>NaN</td>\n",
       "    </tr>\n",
       "    <tr>\n",
       "      <th>FAMI_TIENEINTERNET</th>\n",
       "      <td>SI</td>\n",
       "      <td>SI</td>\n",
       "      <td>NaN</td>\n",
       "    </tr>\n",
       "    <tr>\n",
       "      <th>FAMI_TIENE_SERVICIOTV</th>\n",
       "      <td>SI</td>\n",
       "      <td>SI</td>\n",
       "      <td>NaN</td>\n",
       "    </tr>\n",
       "    <tr>\n",
       "      <th>FAMI_TIENECOMPUTADOR</th>\n",
       "      <td>SI</td>\n",
       "      <td>SI</td>\n",
       "      <td>NaN</td>\n",
       "    </tr>\n",
       "    <tr>\n",
       "      <th>FAMI_TIENELAVADORA</th>\n",
       "      <td>SI</td>\n",
       "      <td>SI</td>\n",
       "      <td>NaN</td>\n",
       "    </tr>\n",
       "    <tr>\n",
       "      <th>FAMI_TIENEHORNOMICROOGAS</th>\n",
       "      <td>SI</td>\n",
       "      <td>SI</td>\n",
       "      <td>NaN</td>\n",
       "    </tr>\n",
       "    <tr>\n",
       "      <th>FAMI_TIENEAUTOMOVIL</th>\n",
       "      <td>NO</td>\n",
       "      <td>SI</td>\n",
       "      <td>NaN</td>\n",
       "    </tr>\n",
       "    <tr>\n",
       "      <th>FAMI_TIENEMOTOCICLETA</th>\n",
       "      <td>NO</td>\n",
       "      <td>NO</td>\n",
       "      <td>NaN</td>\n",
       "    </tr>\n",
       "    <tr>\n",
       "      <th>FAMI_TIENE_CONSOLAVIDEOJUEGOS</th>\n",
       "      <td>NO</td>\n",
       "      <td>SI</td>\n",
       "      <td>NaN</td>\n",
       "    </tr>\n",
       "    <tr>\n",
       "      <th>FAMI_NUMLIBROS</th>\n",
       "      <td>26 A 100 LIBROS</td>\n",
       "      <td>26 A 100 LIBROS</td>\n",
       "      <td>NaN</td>\n",
       "    </tr>\n",
       "    <tr>\n",
       "      <th>ESTU_DEDICACIONLECTURADIARIA</th>\n",
       "      <td>Entre 30 y 60 minutos</td>\n",
       "      <td>30 minutos o menos</td>\n",
       "      <td>NaN</td>\n",
       "    </tr>\n",
       "    <tr>\n",
       "      <th>FAMI_COME_LECHEDERIVADOS</th>\n",
       "      <td>3 a 5 veces por semana</td>\n",
       "      <td>Todos o casi todos los días</td>\n",
       "      <td>NaN</td>\n",
       "    </tr>\n",
       "    <tr>\n",
       "      <th>FAMI_COME_CARNEPESCADOHUEVO</th>\n",
       "      <td>3 a 5 veces por semana</td>\n",
       "      <td>Todos o casi todos los dias</td>\n",
       "      <td>NaN</td>\n",
       "    </tr>\n",
       "    <tr>\n",
       "      <th>...</th>\n",
       "      <td>...</td>\n",
       "      <td>...</td>\n",
       "      <td>...</td>\n",
       "    </tr>\n",
       "    <tr>\n",
       "      <th>COLE_COD_MCPIO_UBICACION</th>\n",
       "      <td>76001</td>\n",
       "      <td>19001</td>\n",
       "      <td>76001</td>\n",
       "    </tr>\n",
       "    <tr>\n",
       "      <th>COLE_MCPIO_UBICACION</th>\n",
       "      <td>CALI</td>\n",
       "      <td>POPAYAN</td>\n",
       "      <td>CALI</td>\n",
       "    </tr>\n",
       "    <tr>\n",
       "      <th>COLE_COD_DEPTO_UBICACION</th>\n",
       "      <td>76</td>\n",
       "      <td>19</td>\n",
       "      <td>76</td>\n",
       "    </tr>\n",
       "    <tr>\n",
       "      <th>COLE_DEPTO_UBICACION</th>\n",
       "      <td>VALLE</td>\n",
       "      <td>CAUCA</td>\n",
       "      <td>VALLE</td>\n",
       "    </tr>\n",
       "    <tr>\n",
       "      <th>ESTU_PRIVADO_LIBERTAD</th>\n",
       "      <td>NaN</td>\n",
       "      <td>NaN</td>\n",
       "      <td>NaN</td>\n",
       "    </tr>\n",
       "    <tr>\n",
       "      <th>ESTU_COD_MCPIO_PRESENTACION</th>\n",
       "      <td>76001</td>\n",
       "      <td>19001</td>\n",
       "      <td>76001</td>\n",
       "    </tr>\n",
       "    <tr>\n",
       "      <th>ESTU_MCPIO_PRESENTACION</th>\n",
       "      <td>CALI</td>\n",
       "      <td>POPAYAN</td>\n",
       "      <td>CALI</td>\n",
       "    </tr>\n",
       "    <tr>\n",
       "      <th>ESTU_DEPTO_PRESENTACION</th>\n",
       "      <td>VALLE</td>\n",
       "      <td>CAUCA</td>\n",
       "      <td>VALLE</td>\n",
       "    </tr>\n",
       "    <tr>\n",
       "      <th>ESTU_COD_DEPTO_PRESENTACION</th>\n",
       "      <td>76</td>\n",
       "      <td>19</td>\n",
       "      <td>76</td>\n",
       "    </tr>\n",
       "    <tr>\n",
       "      <th>PUNT_MATEMATICAS</th>\n",
       "      <td>31</td>\n",
       "      <td>61</td>\n",
       "      <td>86</td>\n",
       "    </tr>\n",
       "    <tr>\n",
       "      <th>DESEMP_MATEMATICAS</th>\n",
       "      <td>1</td>\n",
       "      <td>3</td>\n",
       "      <td>4</td>\n",
       "    </tr>\n",
       "    <tr>\n",
       "      <th>PERCENTIL_MATEMATICAS</th>\n",
       "      <td>4</td>\n",
       "      <td>62</td>\n",
       "      <td>99</td>\n",
       "    </tr>\n",
       "    <tr>\n",
       "      <th>PUNT_INGLES</th>\n",
       "      <td>45</td>\n",
       "      <td>55</td>\n",
       "      <td>100</td>\n",
       "    </tr>\n",
       "    <tr>\n",
       "      <th>PERCENTIL_INGLES</th>\n",
       "      <td>26</td>\n",
       "      <td>43</td>\n",
       "      <td>100</td>\n",
       "    </tr>\n",
       "    <tr>\n",
       "      <th>DESEMP_INGLES</th>\n",
       "      <td>A-</td>\n",
       "      <td>A1</td>\n",
       "      <td>B+</td>\n",
       "    </tr>\n",
       "    <tr>\n",
       "      <th>PUNT_C_NATURALES</th>\n",
       "      <td>35</td>\n",
       "      <td>66</td>\n",
       "      <td>70</td>\n",
       "    </tr>\n",
       "    <tr>\n",
       "      <th>DESEMP_C_NATURALES</th>\n",
       "      <td>1</td>\n",
       "      <td>3</td>\n",
       "      <td>3</td>\n",
       "    </tr>\n",
       "    <tr>\n",
       "      <th>PERCENTIL_C_NATURALES</th>\n",
       "      <td>5</td>\n",
       "      <td>75</td>\n",
       "      <td>84</td>\n",
       "    </tr>\n",
       "    <tr>\n",
       "      <th>PUNT_LECTURA_CRITICA</th>\n",
       "      <td>44</td>\n",
       "      <td>67</td>\n",
       "      <td>72</td>\n",
       "    </tr>\n",
       "    <tr>\n",
       "      <th>DESEMP_LECTURA_CRITICA</th>\n",
       "      <td>2</td>\n",
       "      <td>4</td>\n",
       "      <td>4</td>\n",
       "    </tr>\n",
       "    <tr>\n",
       "      <th>PERCENTIL_LECTURA_CRITICA</th>\n",
       "      <td>15</td>\n",
       "      <td>78</td>\n",
       "      <td>91</td>\n",
       "    </tr>\n",
       "    <tr>\n",
       "      <th>DESEMP_SOCIALES_CIUDADANAS</th>\n",
       "      <td>1</td>\n",
       "      <td>3</td>\n",
       "      <td>3</td>\n",
       "    </tr>\n",
       "    <tr>\n",
       "      <th>PUNT_SOCIALES_CIUDADANAS</th>\n",
       "      <td>28</td>\n",
       "      <td>70</td>\n",
       "      <td>66</td>\n",
       "    </tr>\n",
       "    <tr>\n",
       "      <th>PERCENTIL_SOCIALES_CIUDADANAS</th>\n",
       "      <td>1</td>\n",
       "      <td>85</td>\n",
       "      <td>76</td>\n",
       "    </tr>\n",
       "    <tr>\n",
       "      <th>PUNT_GLOBAL</th>\n",
       "      <td>177</td>\n",
       "      <td>326</td>\n",
       "      <td>378</td>\n",
       "    </tr>\n",
       "    <tr>\n",
       "      <th>PERCENTIL_GLOBAL</th>\n",
       "      <td>4</td>\n",
       "      <td>71</td>\n",
       "      <td>94</td>\n",
       "    </tr>\n",
       "    <tr>\n",
       "      <th>ESTU_INSE_INDIVIDUAL</th>\n",
       "      <td>59.2052</td>\n",
       "      <td>72.972</td>\n",
       "      <td>NaN</td>\n",
       "    </tr>\n",
       "    <tr>\n",
       "      <th>ESTU_NSE_INDIVIDUAL</th>\n",
       "      <td>NSE3</td>\n",
       "      <td>NSE4</td>\n",
       "      <td>NaN</td>\n",
       "    </tr>\n",
       "    <tr>\n",
       "      <th>ESTU_NSE_ESTABLECIMIENTO</th>\n",
       "      <td>3</td>\n",
       "      <td>3</td>\n",
       "      <td>4</td>\n",
       "    </tr>\n",
       "    <tr>\n",
       "      <th>ESTU_ESTADOINVESTIGACION</th>\n",
       "      <td>Publicar</td>\n",
       "      <td>Publicar</td>\n",
       "      <td>Publicar</td>\n",
       "    </tr>\n",
       "  </tbody>\n",
       "</table>\n",
       "<p>80 rows × 3 columns</p>\n",
       "</div>"
      ],
      "text/plain": [
       "                                                                      0  \\\n",
       "ESTU_TIPODOCUMENTO                                                   CC   \n",
       "ESTU_NACIONALIDAD                                              COLOMBIA   \n",
       "ESTU_GENERO                                                   Masculino   \n",
       "ESTU_FECHANACIMIENTO                                         18/08/1998   \n",
       "PERIODO                                                           20171   \n",
       "ESTU_CONSECUTIVO                                       SB11201710017249   \n",
       "ESTU_ESTUDIANTE                                              ESTUDIANTE   \n",
       "ESTU_TIENEETNIA                                                      NO   \n",
       "ESTU_ETNIA                                                          NaN   \n",
       "ESTU_PAIS_RESIDE                                               COLOMBIA   \n",
       "ESTU_DEPTO_RESIDE                                                 VALLE   \n",
       "ESTU_COD_RESIDE_DEPTO                                                76   \n",
       "ESTU_MCPIO_RESIDE                                                  CALI   \n",
       "ESTU_COD_RESIDE_MCPIO                                             76001   \n",
       "ESTU_HORASSEMANATRABAJA                                               0   \n",
       "FAMI_EDUCACIONPADRE                      Educación Profesional Completa   \n",
       "FAMI_EDUCACIONMADRE            Educación Técnica o Tecnológica Completa   \n",
       "FAMI_ESTRATOVIVIENDA                                          Estrato 3   \n",
       "FAMI_TIENEINTERNET                                                   SI   \n",
       "FAMI_TIENE_SERVICIOTV                                                SI   \n",
       "FAMI_TIENECOMPUTADOR                                                 SI   \n",
       "FAMI_TIENELAVADORA                                                   SI   \n",
       "FAMI_TIENEHORNOMICROOGAS                                             SI   \n",
       "FAMI_TIENEAUTOMOVIL                                                  NO   \n",
       "FAMI_TIENEMOTOCICLETA                                                NO   \n",
       "FAMI_TIENE_CONSOLAVIDEOJUEGOS                                        NO   \n",
       "FAMI_NUMLIBROS                                          26 A 100 LIBROS   \n",
       "ESTU_DEDICACIONLECTURADIARIA                      Entre 30 y 60 minutos   \n",
       "FAMI_COME_LECHEDERIVADOS                         3 a 5 veces por semana   \n",
       "FAMI_COME_CARNEPESCADOHUEVO                      3 a 5 veces por semana   \n",
       "...                                                                 ...   \n",
       "COLE_COD_MCPIO_UBICACION                                          76001   \n",
       "COLE_MCPIO_UBICACION                                               CALI   \n",
       "COLE_COD_DEPTO_UBICACION                                             76   \n",
       "COLE_DEPTO_UBICACION                                              VALLE   \n",
       "ESTU_PRIVADO_LIBERTAD                                               NaN   \n",
       "ESTU_COD_MCPIO_PRESENTACION                                       76001   \n",
       "ESTU_MCPIO_PRESENTACION                                            CALI   \n",
       "ESTU_DEPTO_PRESENTACION                                           VALLE   \n",
       "ESTU_COD_DEPTO_PRESENTACION                                          76   \n",
       "PUNT_MATEMATICAS                                                     31   \n",
       "DESEMP_MATEMATICAS                                                    1   \n",
       "PERCENTIL_MATEMATICAS                                                 4   \n",
       "PUNT_INGLES                                                          45   \n",
       "PERCENTIL_INGLES                                                     26   \n",
       "DESEMP_INGLES                                                        A-   \n",
       "PUNT_C_NATURALES                                                     35   \n",
       "DESEMP_C_NATURALES                                                    1   \n",
       "PERCENTIL_C_NATURALES                                                 5   \n",
       "PUNT_LECTURA_CRITICA                                                 44   \n",
       "DESEMP_LECTURA_CRITICA                                                2   \n",
       "PERCENTIL_LECTURA_CRITICA                                            15   \n",
       "DESEMP_SOCIALES_CIUDADANAS                                            1   \n",
       "PUNT_SOCIALES_CIUDADANAS                                             28   \n",
       "PERCENTIL_SOCIALES_CIUDADANAS                                         1   \n",
       "PUNT_GLOBAL                                                         177   \n",
       "PERCENTIL_GLOBAL                                                      4   \n",
       "ESTU_INSE_INDIVIDUAL                                            59.2052   \n",
       "ESTU_NSE_INDIVIDUAL                                                NSE3   \n",
       "ESTU_NSE_ESTABLECIMIENTO                                              3   \n",
       "ESTU_ESTADOINVESTIGACION                                       Publicar   \n",
       "\n",
       "                                                            1  \\\n",
       "ESTU_TIPODOCUMENTO                                         CC   \n",
       "ESTU_NACIONALIDAD                                    COLOMBIA   \n",
       "ESTU_GENERO                                          Femenino   \n",
       "ESTU_FECHANACIMIENTO                               07/06/1998   \n",
       "PERIODO                                                 20171   \n",
       "ESTU_CONSECUTIVO                             SB11201710014556   \n",
       "ESTU_ESTUDIANTE                                    ESTUDIANTE   \n",
       "ESTU_TIENEETNIA                                            NO   \n",
       "ESTU_ETNIA                                                NaN   \n",
       "ESTU_PAIS_RESIDE                                     COLOMBIA   \n",
       "ESTU_DEPTO_RESIDE                                       CAUCA   \n",
       "ESTU_COD_RESIDE_DEPTO                                      19   \n",
       "ESTU_MCPIO_RESIDE                                     POPAYAN   \n",
       "ESTU_COD_RESIDE_MCPIO                                   19001   \n",
       "ESTU_HORASSEMANATRABAJA                                     0   \n",
       "FAMI_EDUCACIONPADRE            Educación Profesional Completa   \n",
       "FAMI_EDUCACIONMADRE            Educación Profesional Completa   \n",
       "FAMI_ESTRATOVIVIENDA                                Estrato 3   \n",
       "FAMI_TIENEINTERNET                                         SI   \n",
       "FAMI_TIENE_SERVICIOTV                                      SI   \n",
       "FAMI_TIENECOMPUTADOR                                       SI   \n",
       "FAMI_TIENELAVADORA                                         SI   \n",
       "FAMI_TIENEHORNOMICROOGAS                                   SI   \n",
       "FAMI_TIENEAUTOMOVIL                                        SI   \n",
       "FAMI_TIENEMOTOCICLETA                                      NO   \n",
       "FAMI_TIENE_CONSOLAVIDEOJUEGOS                              SI   \n",
       "FAMI_NUMLIBROS                                26 A 100 LIBROS   \n",
       "ESTU_DEDICACIONLECTURADIARIA               30 minutos o menos   \n",
       "FAMI_COME_LECHEDERIVADOS          Todos o casi todos los días   \n",
       "FAMI_COME_CARNEPESCADOHUEVO       Todos o casi todos los dias   \n",
       "...                                                       ...   \n",
       "COLE_COD_MCPIO_UBICACION                                19001   \n",
       "COLE_MCPIO_UBICACION                                  POPAYAN   \n",
       "COLE_COD_DEPTO_UBICACION                                   19   \n",
       "COLE_DEPTO_UBICACION                                    CAUCA   \n",
       "ESTU_PRIVADO_LIBERTAD                                     NaN   \n",
       "ESTU_COD_MCPIO_PRESENTACION                             19001   \n",
       "ESTU_MCPIO_PRESENTACION                               POPAYAN   \n",
       "ESTU_DEPTO_PRESENTACION                                 CAUCA   \n",
       "ESTU_COD_DEPTO_PRESENTACION                                19   \n",
       "PUNT_MATEMATICAS                                           61   \n",
       "DESEMP_MATEMATICAS                                          3   \n",
       "PERCENTIL_MATEMATICAS                                      62   \n",
       "PUNT_INGLES                                                55   \n",
       "PERCENTIL_INGLES                                           43   \n",
       "DESEMP_INGLES                                              A1   \n",
       "PUNT_C_NATURALES                                           66   \n",
       "DESEMP_C_NATURALES                                          3   \n",
       "PERCENTIL_C_NATURALES                                      75   \n",
       "PUNT_LECTURA_CRITICA                                       67   \n",
       "DESEMP_LECTURA_CRITICA                                      4   \n",
       "PERCENTIL_LECTURA_CRITICA                                  78   \n",
       "DESEMP_SOCIALES_CIUDADANAS                                  3   \n",
       "PUNT_SOCIALES_CIUDADANAS                                   70   \n",
       "PERCENTIL_SOCIALES_CIUDADANAS                              85   \n",
       "PUNT_GLOBAL                                               326   \n",
       "PERCENTIL_GLOBAL                                           71   \n",
       "ESTU_INSE_INDIVIDUAL                                   72.972   \n",
       "ESTU_NSE_INDIVIDUAL                                      NSE4   \n",
       "ESTU_NSE_ESTABLECIMIENTO                                    3   \n",
       "ESTU_ESTADOINVESTIGACION                             Publicar   \n",
       "\n",
       "                                              2  \n",
       "ESTU_TIPODOCUMENTO                           CC  \n",
       "ESTU_NACIONALIDAD                      COLOMBIA  \n",
       "ESTU_GENERO                           Masculino  \n",
       "ESTU_FECHANACIMIENTO                 30/03/1998  \n",
       "PERIODO                                   20171  \n",
       "ESTU_CONSECUTIVO               SB11201710001800  \n",
       "ESTU_ESTUDIANTE                      ESTUDIANTE  \n",
       "ESTU_TIENEETNIA                              NO  \n",
       "ESTU_ETNIA                                  NaN  \n",
       "ESTU_PAIS_RESIDE                       COLOMBIA  \n",
       "ESTU_DEPTO_RESIDE                         VALLE  \n",
       "ESTU_COD_RESIDE_DEPTO                        76  \n",
       "ESTU_MCPIO_RESIDE                          CALI  \n",
       "ESTU_COD_RESIDE_MCPIO                     76001  \n",
       "ESTU_HORASSEMANATRABAJA                     NaN  \n",
       "FAMI_EDUCACIONPADRE                         NaN  \n",
       "FAMI_EDUCACIONMADRE                         NaN  \n",
       "FAMI_ESTRATOVIVIENDA                        NaN  \n",
       "FAMI_TIENEINTERNET                          NaN  \n",
       "FAMI_TIENE_SERVICIOTV                       NaN  \n",
       "FAMI_TIENECOMPUTADOR                        NaN  \n",
       "FAMI_TIENELAVADORA                          NaN  \n",
       "FAMI_TIENEHORNOMICROOGAS                    NaN  \n",
       "FAMI_TIENEAUTOMOVIL                         NaN  \n",
       "FAMI_TIENEMOTOCICLETA                       NaN  \n",
       "FAMI_TIENE_CONSOLAVIDEOJUEGOS               NaN  \n",
       "FAMI_NUMLIBROS                              NaN  \n",
       "ESTU_DEDICACIONLECTURADIARIA                NaN  \n",
       "FAMI_COME_LECHEDERIVADOS                    NaN  \n",
       "FAMI_COME_CARNEPESCADOHUEVO                 NaN  \n",
       "...                                         ...  \n",
       "COLE_COD_MCPIO_UBICACION                  76001  \n",
       "COLE_MCPIO_UBICACION                       CALI  \n",
       "COLE_COD_DEPTO_UBICACION                     76  \n",
       "COLE_DEPTO_UBICACION                      VALLE  \n",
       "ESTU_PRIVADO_LIBERTAD                       NaN  \n",
       "ESTU_COD_MCPIO_PRESENTACION               76001  \n",
       "ESTU_MCPIO_PRESENTACION                    CALI  \n",
       "ESTU_DEPTO_PRESENTACION                   VALLE  \n",
       "ESTU_COD_DEPTO_PRESENTACION                  76  \n",
       "PUNT_MATEMATICAS                             86  \n",
       "DESEMP_MATEMATICAS                            4  \n",
       "PERCENTIL_MATEMATICAS                        99  \n",
       "PUNT_INGLES                                 100  \n",
       "PERCENTIL_INGLES                            100  \n",
       "DESEMP_INGLES                                B+  \n",
       "PUNT_C_NATURALES                             70  \n",
       "DESEMP_C_NATURALES                            3  \n",
       "PERCENTIL_C_NATURALES                        84  \n",
       "PUNT_LECTURA_CRITICA                         72  \n",
       "DESEMP_LECTURA_CRITICA                        4  \n",
       "PERCENTIL_LECTURA_CRITICA                    91  \n",
       "DESEMP_SOCIALES_CIUDADANAS                    3  \n",
       "PUNT_SOCIALES_CIUDADANAS                     66  \n",
       "PERCENTIL_SOCIALES_CIUDADANAS                76  \n",
       "PUNT_GLOBAL                                 378  \n",
       "PERCENTIL_GLOBAL                             94  \n",
       "ESTU_INSE_INDIVIDUAL                        NaN  \n",
       "ESTU_NSE_INDIVIDUAL                         NaN  \n",
       "ESTU_NSE_ESTABLECIMIENTO                      4  \n",
       "ESTU_ESTADOINVESTIGACION               Publicar  \n",
       "\n",
       "[80 rows x 3 columns]"
      ]
     },
     "execution_count": 4,
     "metadata": {},
     "output_type": "execute_result"
    }
   ],
   "source": [
    "data_2017.head(3).T"
   ]
  },
  {
   "cell_type": "code",
   "execution_count": null,
   "metadata": {
    "collapsed": true
   },
   "outputs": [],
   "source": [
    "c = 'ESTU_NACIONALIDAD'\n",
    "print(data_2017[c].value_counts().sort_index().index)\n",
    "print(data_2017[c].value_counts().sort_index())\n",
    "print(missing_data(data_2017[c]))"
   ]
  },
  {
   "cell_type": "code",
   "execution_count": null,
   "metadata": {
    "collapsed": true
   },
   "outputs": [],
   "source": [
    "c = 'ESTU_GENERO'\n",
    "print(data_2017[c].value_counts().sort_index().index)\n",
    "print(data_2017[c].value_counts().sort_index())\n",
    "print(missing_data(data_2017[c]))"
   ]
  },
  {
   "cell_type": "code",
   "execution_count": null,
   "metadata": {
    "collapsed": true
   },
   "outputs": [],
   "source": [
    "c = 'ESTU_FECHANACIMIENTO'\n",
    "print(data_2017[c].value_counts().sort_index().index)\n",
    "print(data_2017[c].value_counts().sort_index())\n",
    "print(missing_data(data_2017[c]))"
   ]
  },
  {
   "cell_type": "code",
   "execution_count": null,
   "metadata": {
    "collapsed": true
   },
   "outputs": [],
   "source": [
    "c = 'PERIODO'\n",
    "print(data_2017[c].value_counts().sort_index().index)\n",
    "print(data_2017[c].value_counts().sort_index())\n",
    "print(missing_data(data_2017[c]))"
   ]
  },
  {
   "cell_type": "code",
   "execution_count": null,
   "metadata": {
    "collapsed": true
   },
   "outputs": [],
   "source": [
    "c = 'ESTU_CONSECUTIVO'\n",
    "print(data_2017[c].value_counts().sort_index().index)\n",
    "print(data_2017[c].value_counts().sort_index())\n",
    "print(missing_data(data_2017[c]))"
   ]
  },
  {
   "cell_type": "code",
   "execution_count": null,
   "metadata": {
    "collapsed": true
   },
   "outputs": [],
   "source": [
    "c = 'ESTU_ESTUDIANTE'\n",
    "print(data_2017[c].value_counts().sort_index().index)\n",
    "print(data_2017[c].value_counts().sort_index())\n",
    "print(missing_data(data_2017[c]))"
   ]
  },
  {
   "cell_type": "code",
   "execution_count": null,
   "metadata": {
    "collapsed": true
   },
   "outputs": [],
   "source": [
    "c = 'ESTU_TIENEETNIA'\n",
    "print(data_2017[c].value_counts().sort_index().index)\n",
    "print(data_2017[c].value_counts().sort_index())\n",
    "print(missing_data(data_2017[c]))"
   ]
  },
  {
   "cell_type": "code",
   "execution_count": null,
   "metadata": {
    "collapsed": true
   },
   "outputs": [],
   "source": [
    "c = 'ESTU_ETNIA'\n",
    "print(data_2017[c].value_counts().sort_index().index)\n",
    "print(data_2017[c].value_counts().sort_index())\n",
    "print(missing_data(data_2017[c]))"
   ]
  },
  {
   "cell_type": "code",
   "execution_count": null,
   "metadata": {
    "collapsed": true
   },
   "outputs": [],
   "source": [
    "c = 'ESTU_PAIS_RESIDE'\n",
    "print(data_2017[c].value_counts().sort_index().index)\n",
    "print(data_2017[c].value_counts().sort_index())\n",
    "print(missing_data(data_2017[c]))"
   ]
  },
  {
   "cell_type": "code",
   "execution_count": null,
   "metadata": {
    "collapsed": true
   },
   "outputs": [],
   "source": [
    "c = 'ESTU_DEPTO_RESIDE'\n",
    "print(data_2017[c].value_counts().sort_index().index)\n",
    "print(data_2017[c].value_counts().sort_index())\n",
    "print(missing_data(data_2017[c]))"
   ]
  },
  {
   "cell_type": "code",
   "execution_count": null,
   "metadata": {
    "collapsed": true
   },
   "outputs": [],
   "source": [
    "c = 'ESTU_COD_RESIDE_DEPTO'\n",
    "print(data_2017[c].value_counts().sort_index().index)\n",
    "print(data_2017[c].value_counts().sort_index())\n",
    "print(missing_data(data_2017[c]))"
   ]
  },
  {
   "cell_type": "code",
   "execution_count": null,
   "metadata": {
    "collapsed": true
   },
   "outputs": [],
   "source": [
    "c = 'ESTU_MCPIO_RESIDE'\n",
    "print(data_2017[c].value_counts().sort_index().index)\n",
    "print(data_2017[c].value_counts().sort_index())\n",
    "print(missing_data(data_2017[c]))"
   ]
  },
  {
   "cell_type": "code",
   "execution_count": null,
   "metadata": {
    "collapsed": true
   },
   "outputs": [],
   "source": [
    "c = 'ESTU_COD_RESIDE_MCPIO'\n",
    "print(data_2017[c].value_counts().sort_index().index)\n",
    "print(data_2017[c].value_counts().sort_index())\n",
    "print(missing_data(data_2017[c]))"
   ]
  },
  {
   "cell_type": "code",
   "execution_count": null,
   "metadata": {
    "collapsed": true
   },
   "outputs": [],
   "source": [
    "c = 'ESTU_HORASSEMANATRABAJA'\n",
    "print(data_2017[c].value_counts().sort_index().index)\n",
    "print(data_2017[c].value_counts().sort_index())\n",
    "print(missing_data(data_2017[c]))"
   ]
  },
  {
   "cell_type": "code",
   "execution_count": null,
   "metadata": {
    "collapsed": true
   },
   "outputs": [],
   "source": [
    "c = 'FAMI_EDUCACIONPADRE'\n",
    "print(data_2017[c].value_counts().sort_index().index)\n",
    "print(data_2017[c].value_counts().sort_index())\n",
    "print(missing_data(data_2017[c]))"
   ]
  },
  {
   "cell_type": "code",
   "execution_count": null,
   "metadata": {
    "collapsed": true
   },
   "outputs": [],
   "source": [
    "c = 'FAMI_EDUCACIONMADRE'\n",
    "print(data_2017[c].value_counts().sort_index().index)\n",
    "print(data_2017[c].value_counts().sort_index())\n",
    "print(missing_data(data_2017[c]))"
   ]
  },
  {
   "cell_type": "code",
   "execution_count": null,
   "metadata": {
    "collapsed": true
   },
   "outputs": [],
   "source": [
    "c = 'FAMI_ESTRATOVIVIENDA'\n",
    "print(data_2017[c].value_counts().sort_index().index)\n",
    "print(data_2017[c].value_counts().sort_index())\n",
    "print(missing_data(data_2017[c]))"
   ]
  },
  {
   "cell_type": "code",
   "execution_count": null,
   "metadata": {
    "collapsed": true
   },
   "outputs": [],
   "source": [
    "c = 'FAMI_TIENEINTERNET'\n",
    "print(data_2017[c].value_counts().sort_index().index)\n",
    "print(data_2017[c].value_counts().sort_index())\n",
    "print(missing_data(data_2017[c]))"
   ]
  },
  {
   "cell_type": "code",
   "execution_count": null,
   "metadata": {
    "collapsed": true
   },
   "outputs": [],
   "source": [
    "c = 'FAMI_TIENE_SERVICIOTV'\n",
    "print(data_2017[c].value_counts().sort_index().index)\n",
    "print(data_2017[c].value_counts().sort_index())\n",
    "print(missing_data(data_2017[c]))"
   ]
  },
  {
   "cell_type": "code",
   "execution_count": null,
   "metadata": {
    "collapsed": true
   },
   "outputs": [],
   "source": [
    "c = 'FAMI_TIENECOMPUTADOR'\n",
    "print(data_2017[c].value_counts().sort_index().index)\n",
    "print(data_2017[c].value_counts().sort_index())\n",
    "print(missing_data(data_2017[c]))"
   ]
  },
  {
   "cell_type": "code",
   "execution_count": null,
   "metadata": {
    "collapsed": true
   },
   "outputs": [],
   "source": [
    "c = 'FAMI_TIENELAVADORA'\n",
    "print(data_2017[c].value_counts().sort_index().index)\n",
    "print(data_2017[c].value_counts().sort_index())\n",
    "print(missing_data(data_2017[c]))"
   ]
  },
  {
   "cell_type": "code",
   "execution_count": null,
   "metadata": {
    "collapsed": true
   },
   "outputs": [],
   "source": [
    "c = 'FAMI_TIENEHORNOMICROOGAS'\n",
    "print(data_2017[c].value_counts().sort_index().index)\n",
    "print(data_2017[c].value_counts().sort_index())\n",
    "print(missing_data(data_2017[c]))"
   ]
  },
  {
   "cell_type": "code",
   "execution_count": null,
   "metadata": {
    "collapsed": true
   },
   "outputs": [],
   "source": [
    "c = 'FAMI_TIENEAUTOMOVIL'\n",
    "print(data_2017[c].value_counts().sort_index().index)\n",
    "print(data_2017[c].value_counts().sort_index())\n",
    "print(missing_data(data_2017[c]))"
   ]
  },
  {
   "cell_type": "code",
   "execution_count": null,
   "metadata": {
    "collapsed": true
   },
   "outputs": [],
   "source": [
    "c = 'FAMI_TIENEMOTOCICLETA'\n",
    "print(data_2017[c].value_counts().sort_index().index)\n",
    "print(data_2017[c].value_counts().sort_index())\n",
    "print(missing_data(data_2017[c]))"
   ]
  },
  {
   "cell_type": "code",
   "execution_count": null,
   "metadata": {
    "collapsed": true
   },
   "outputs": [],
   "source": [
    "c = 'FAMI_TIENE_CONSOLAVIDEOJUEGOS'\n",
    "print(data_2017[c].value_counts().sort_index().index)\n",
    "print(data_2017[c].value_counts().sort_index())\n",
    "print(missing_data(data_2017[c]))"
   ]
  },
  {
   "cell_type": "code",
   "execution_count": null,
   "metadata": {
    "collapsed": true
   },
   "outputs": [],
   "source": [
    "c = 'FAMI_NUMLIBROS'\n",
    "print(data_2017[c].value_counts().sort_index().index)\n",
    "print(data_2017[c].value_counts().sort_index())\n",
    "print(missing_data(data_2017[c]))"
   ]
  },
  {
   "cell_type": "code",
   "execution_count": null,
   "metadata": {
    "collapsed": true
   },
   "outputs": [],
   "source": [
    "c = 'ESTU_DEDICACIONLECTURADIARIA'\n",
    "print(data_2017[c].value_counts().sort_index().index)\n",
    "print(data_2017[c].value_counts().sort_index())\n",
    "print(missing_data(data_2017[c]))"
   ]
  },
  {
   "cell_type": "code",
   "execution_count": null,
   "metadata": {
    "collapsed": true
   },
   "outputs": [],
   "source": [
    "c = 'FAMI_COME_LECHEDERIVADOS'\n",
    "print(data_2017[c].value_counts().sort_index().index)\n",
    "print(data_2017[c].value_counts().sort_index())\n",
    "print(missing_data(data_2017[c]))"
   ]
  },
  {
   "cell_type": "code",
   "execution_count": null,
   "metadata": {
    "collapsed": true
   },
   "outputs": [],
   "source": [
    "c = 'FAMI_COME_CARNEPESCADOHUEVO'\n",
    "print(data_2017[c].value_counts().sort_index().index)\n",
    "print(data_2017[c].value_counts().sort_index())\n",
    "print(missing_data(data_2017[c]))"
   ]
  },
  {
   "cell_type": "code",
   "execution_count": null,
   "metadata": {
    "collapsed": true
   },
   "outputs": [],
   "source": [
    "c = 'FAMI_COME_CEREALFRUTOSLEGUMBRE'\n",
    "print(data_2017[c].value_counts().sort_index().index)\n",
    "print(data_2017[c].value_counts().sort_index())\n",
    "print(missing_data(data_2017[c]))"
   ]
  },
  {
   "cell_type": "code",
   "execution_count": null,
   "metadata": {
    "collapsed": true
   },
   "outputs": [],
   "source": [
    "c = 'FAMI_TRABAJOLABOR_PADRE'\n",
    "print(data_2017[c].value_counts().sort_index().index)\n",
    "print(data_2017[c].value_counts().sort_index())\n",
    "print(missing_data(data_2017[c]))"
   ]
  },
  {
   "cell_type": "code",
   "execution_count": null,
   "metadata": {
    "collapsed": true
   },
   "outputs": [],
   "source": [
    "c = 'FAMI_TRABAJOLABOR_MADRE'\n",
    "print(data_2017[c].value_counts().sort_index().index)\n",
    "print(data_2017[c].value_counts().sort_index())\n",
    "print(missing_data(data_2017[c]))"
   ]
  },
  {
   "cell_type": "code",
   "execution_count": null,
   "metadata": {
    "collapsed": true
   },
   "outputs": [],
   "source": [
    "c = 'FAMI_PERSONASHOGAR'\n",
    "print(data_2017[c].value_counts().sort_index().index)\n",
    "print(data_2017[c].value_counts().sort_index())\n",
    "print(missing_data(data_2017[c]))"
   ]
  },
  {
   "cell_type": "code",
   "execution_count": null,
   "metadata": {
    "collapsed": true
   },
   "outputs": [],
   "source": [
    "c = 'FAMI_CUARTOSHOGAR'\n",
    "print(data_2017[c].value_counts().sort_index().index)\n",
    "print(data_2017[c].value_counts().sort_index())\n",
    "print(missing_data(data_2017[c]))"
   ]
  },
  {
   "cell_type": "code",
   "execution_count": null,
   "metadata": {
    "collapsed": true
   },
   "outputs": [],
   "source": [
    "c = 'ESTU_DEDICACIONINTERNET'\n",
    "print(data_2017[c].value_counts().sort_index().index)\n",
    "print(data_2017[c].value_counts().sort_index())\n",
    "print(missing_data(data_2017[c]))"
   ]
  },
  {
   "cell_type": "code",
   "execution_count": null,
   "metadata": {
    "collapsed": true
   },
   "outputs": [],
   "source": [
    "c = 'ESTU_TIPOREMUNERACION'\n",
    "print(data_2017[c].value_counts().sort_index().index)\n",
    "print(data_2017[c].value_counts().sort_index())\n",
    "print(missing_data(data_2017[c]))"
   ]
  },
  {
   "cell_type": "code",
   "execution_count": null,
   "metadata": {
    "collapsed": true
   },
   "outputs": [],
   "source": [
    "c = 'FAMI_SITUACION_ECONOMICA'\n",
    "print(data_2017[c].value_counts().sort_index().index)\n",
    "print(data_2017[c].value_counts().sort_index())\n",
    "print(missing_data(data_2017[c]))"
   ]
  },
  {
   "cell_type": "code",
   "execution_count": null,
   "metadata": {
    "collapsed": true
   },
   "outputs": [],
   "source": [
    "c = 'COLE_COD_DANE_ESTABLECIMIENTO'\n",
    "print(data_2017[c].value_counts().sort_index().index)\n",
    "print(data_2017[c].value_counts().sort_index())\n",
    "print(missing_data(data_2017[c]))"
   ]
  },
  {
   "cell_type": "code",
   "execution_count": null,
   "metadata": {
    "collapsed": true
   },
   "outputs": [],
   "source": [
    "c = 'COLE_CODIGO_ICFES'\n",
    "print(data_2017[c].value_counts().sort_index().index)\n",
    "print(data_2017[c].value_counts().sort_index())\n",
    "print(missing_data(data_2017[c]))"
   ]
  },
  {
   "cell_type": "code",
   "execution_count": null,
   "metadata": {
    "collapsed": true
   },
   "outputs": [],
   "source": [
    "c = 'COLE_NOMBRE_ESTABLECIMIENTO'\n",
    "print(data_2017[c].value_counts().sort_index().index)\n",
    "print(data_2017[c].value_counts().sort_index())\n",
    "print(missing_data(data_2017[c]))"
   ]
  },
  {
   "cell_type": "code",
   "execution_count": null,
   "metadata": {
    "collapsed": true
   },
   "outputs": [],
   "source": [
    "c = 'COLE_GENERO'\n",
    "print(data_2017[c].value_counts().sort_index().index)\n",
    "print(data_2017[c].value_counts().sort_index())\n",
    "print(missing_data(data_2017[c]))"
   ]
  },
  {
   "cell_type": "code",
   "execution_count": null,
   "metadata": {
    "collapsed": true
   },
   "outputs": [],
   "source": [
    "c = 'COLE_NATURALEZA'\n",
    "print(data_2017[c].value_counts().sort_index().index)\n",
    "print(data_2017[c].value_counts().sort_index())\n",
    "print(missing_data(data_2017[c]))"
   ]
  },
  {
   "cell_type": "code",
   "execution_count": null,
   "metadata": {
    "collapsed": true
   },
   "outputs": [],
   "source": [
    "c = 'COLE_CALENDARIO'\n",
    "print(data_2017[c].value_counts().sort_index().index)\n",
    "print(data_2017[c].value_counts().sort_index())\n",
    "print(missing_data(data_2017[c]))"
   ]
  },
  {
   "cell_type": "code",
   "execution_count": null,
   "metadata": {
    "collapsed": true
   },
   "outputs": [],
   "source": [
    "c = 'COLE_BILINGUE'\n",
    "print(data_2017[c].value_counts().sort_index().index)\n",
    "print(data_2017[c].value_counts().sort_index())\n",
    "print(missing_data(data_2017[c]))"
   ]
  },
  {
   "cell_type": "code",
   "execution_count": null,
   "metadata": {
    "collapsed": true
   },
   "outputs": [],
   "source": [
    "c = 'COLE_CARACTER'\n",
    "print(data_2017[c].value_counts().sort_index().index)\n",
    "print(data_2017[c].value_counts().sort_index())\n",
    "print(missing_data(data_2017[c]))"
   ]
  },
  {
   "cell_type": "code",
   "execution_count": null,
   "metadata": {
    "collapsed": true
   },
   "outputs": [],
   "source": [
    "c = 'COLE_COD_DANE_SEDE'\n",
    "print(data_2017[c].value_counts().sort_index().index)\n",
    "print(data_2017[c].value_counts().sort_index())\n",
    "print(missing_data(data_2017[c]))"
   ]
  },
  {
   "cell_type": "code",
   "execution_count": null,
   "metadata": {
    "collapsed": true
   },
   "outputs": [],
   "source": [
    "c = 'COLE_SEDE_PRINCIPAL'\n",
    "print(data_2017[c].value_counts().sort_index().index)\n",
    "print(data_2017[c].value_counts().sort_index())\n",
    "print(missing_data(data_2017[c]))"
   ]
  },
  {
   "cell_type": "code",
   "execution_count": null,
   "metadata": {
    "collapsed": true
   },
   "outputs": [],
   "source": [
    "c = 'COLE_AREA_UBICACION'\n",
    "print(data_2017[c].value_counts().sort_index().index)\n",
    "print(data_2017[c].value_counts().sort_index())\n",
    "print(missing_data(data_2017[c]))"
   ]
  },
  {
   "cell_type": "code",
   "execution_count": null,
   "metadata": {
    "collapsed": true
   },
   "outputs": [],
   "source": [
    "c = 'COLE_COD_MCPIO_UBICACION'\n",
    "print(data_2017[c].value_counts().sort_index().index)\n",
    "print(data_2017[c].value_counts().sort_index())\n",
    "print(missing_data(data_2017[c]))"
   ]
  },
  {
   "cell_type": "code",
   "execution_count": null,
   "metadata": {
    "collapsed": true
   },
   "outputs": [],
   "source": [
    "c = 'COLE_MCPIO_UBICACION'\n",
    "print(data_2017[c].value_counts().sort_index().index)\n",
    "print(data_2017[c].value_counts().sort_index())\n",
    "print(missing_data(data_2017[c]))"
   ]
  },
  {
   "cell_type": "code",
   "execution_count": null,
   "metadata": {
    "collapsed": true
   },
   "outputs": [],
   "source": [
    "c = 'COLE_COD_DEPTO_UBICACION'\n",
    "print(data_2017[c].value_counts().sort_index().index)\n",
    "print(data_2017[c].value_counts().sort_index())\n",
    "print(missing_data(data_2017[c]))"
   ]
  },
  {
   "cell_type": "code",
   "execution_count": null,
   "metadata": {
    "collapsed": true
   },
   "outputs": [],
   "source": [
    "c = 'COLE_DEPTO_UBICACION'\n",
    "print(data_2017[c].value_counts().sort_index().index)\n",
    "print(data_2017[c].value_counts().sort_index())\n",
    "print(missing_data(data_2017[c]))"
   ]
  },
  {
   "cell_type": "code",
   "execution_count": null,
   "metadata": {
    "collapsed": true
   },
   "outputs": [],
   "source": [
    "c = 'ESTU_PRIVADO_LIBERTAD'\n",
    "print(data_2017[c].value_counts().sort_index().index)\n",
    "print(data_2017[c].value_counts().sort_index())\n",
    "print(missing_data(data_2017[c]))"
   ]
  },
  {
   "cell_type": "code",
   "execution_count": null,
   "metadata": {
    "collapsed": true
   },
   "outputs": [],
   "source": [
    "c = 'ESTU_COD_MCPIO_PRESENTACION'\n",
    "print(data_2017[c].value_counts().sort_index().index)\n",
    "print(data_2017[c].value_counts().sort_index())\n",
    "print(missing_data(data_2017[c]))"
   ]
  },
  {
   "cell_type": "code",
   "execution_count": null,
   "metadata": {
    "collapsed": true
   },
   "outputs": [],
   "source": [
    "c = 'ESTU_MCPIO_PRESENTACION'\n",
    "print(data_2017[c].value_counts().sort_index().index)\n",
    "print(data_2017[c].value_counts().sort_index())\n",
    "print(missing_data(data_2017[c]))"
   ]
  },
  {
   "cell_type": "code",
   "execution_count": null,
   "metadata": {
    "collapsed": true
   },
   "outputs": [],
   "source": [
    "c = 'ESTU_DEPTO_PRESENTACION'\n",
    "print(data_2017[c].value_counts().sort_index().index)\n",
    "print(data_2017[c].value_counts().sort_index())\n",
    "print(missing_data(data_2017[c]))"
   ]
  },
  {
   "cell_type": "code",
   "execution_count": null,
   "metadata": {
    "collapsed": true
   },
   "outputs": [],
   "source": [
    "c = 'ESTU_COD_DEPTO_PRESENTACION'\n",
    "print(data_2017[c].value_counts().sort_index().index)\n",
    "print(data_2017[c].value_counts().sort_index())\n",
    "print(missing_data(data_2017[c]))"
   ]
  },
  {
   "cell_type": "code",
   "execution_count": null,
   "metadata": {
    "collapsed": true
   },
   "outputs": [],
   "source": [
    "c = 'PUNT_MATEMATICAS'\n",
    "print(data_2017[c].value_counts().sort_index().index)\n",
    "print(data_2017[c].value_counts().sort_index())\n",
    "print(missing_data(data_2017[c]))"
   ]
  },
  {
   "cell_type": "code",
   "execution_count": null,
   "metadata": {
    "collapsed": true
   },
   "outputs": [],
   "source": [
    "c = 'DESEMP_MATEMATICAS'\n",
    "print(data_2017[c].value_counts().sort_index().index)\n",
    "print(data_2017[c].value_counts().sort_index())\n",
    "print(missing_data(data_2017[c]))"
   ]
  },
  {
   "cell_type": "code",
   "execution_count": null,
   "metadata": {
    "collapsed": true
   },
   "outputs": [],
   "source": [
    "c = 'PERCENTIL_MATEMATICAS'\n",
    "print(data_2017[c].value_counts().sort_index().index)\n",
    "print(data_2017[c].value_counts().sort_index())\n",
    "print(missing_data(data_2017[c]))"
   ]
  },
  {
   "cell_type": "code",
   "execution_count": null,
   "metadata": {
    "collapsed": true
   },
   "outputs": [],
   "source": [
    "c = 'PUNT_INGLES'\n",
    "print(data_2017[c].value_counts().sort_index().index)\n",
    "print(data_2017[c].value_counts().sort_index())\n",
    "print(missing_data(data_2017[c]))"
   ]
  },
  {
   "cell_type": "code",
   "execution_count": null,
   "metadata": {
    "collapsed": true
   },
   "outputs": [],
   "source": [
    "c = 'PERCENTIL_INGLES'\n",
    "print(data_2017[c].value_counts().sort_index().index)\n",
    "print(data_2017[c].value_counts().sort_index())\n",
    "print(missing_data(data_2017[c]))"
   ]
  },
  {
   "cell_type": "code",
   "execution_count": null,
   "metadata": {
    "collapsed": true
   },
   "outputs": [],
   "source": [
    "c = 'DESEMP_INGLES'\n",
    "print(data_2017[c].value_counts().sort_index().index)\n",
    "print(data_2017[c].value_counts().sort_index())\n",
    "print(missing_data(data_2017[c]))"
   ]
  },
  {
   "cell_type": "code",
   "execution_count": null,
   "metadata": {
    "collapsed": true
   },
   "outputs": [],
   "source": [
    "c = 'PUNT_C_NATURALES'\n",
    "print(data_2017[c].value_counts().sort_index().index)\n",
    "print(data_2017[c].value_counts().sort_index())\n",
    "print(missing_data(data_2017[c]))"
   ]
  },
  {
   "cell_type": "code",
   "execution_count": null,
   "metadata": {
    "collapsed": true
   },
   "outputs": [],
   "source": [
    "c = 'DESEMP_C_NATURALES'\n",
    "print(data_2017[c].value_counts().sort_index().index)\n",
    "print(data_2017[c].value_counts().sort_index())\n",
    "print(missing_data(data_2017[c]))"
   ]
  },
  {
   "cell_type": "code",
   "execution_count": null,
   "metadata": {
    "collapsed": true
   },
   "outputs": [],
   "source": [
    "c = 'PERCENTIL_C_NATURALES'\n",
    "print(data_2017[c].value_counts().sort_index().index)\n",
    "print(data_2017[c].value_counts().sort_index())\n",
    "print(missing_data(data_2017[c]))"
   ]
  },
  {
   "cell_type": "code",
   "execution_count": null,
   "metadata": {
    "collapsed": true
   },
   "outputs": [],
   "source": [
    "c = 'PUNT_LECTURA_CRITICA'\n",
    "print(data_2017[c].value_counts().sort_index().index)\n",
    "print(data_2017[c].value_counts().sort_index())\n",
    "print(missing_data(data_2017[c]))"
   ]
  },
  {
   "cell_type": "code",
   "execution_count": null,
   "metadata": {
    "collapsed": true
   },
   "outputs": [],
   "source": [
    "c = 'DESEMP_LECTURA_CRITICA'\n",
    "print(data_2017[c].value_counts().sort_index().index)\n",
    "print(data_2017[c].value_counts().sort_index())\n",
    "print(missing_data(data_2017[c]))"
   ]
  },
  {
   "cell_type": "code",
   "execution_count": null,
   "metadata": {
    "collapsed": true
   },
   "outputs": [],
   "source": [
    "c = 'PERCENTIL_LECTURA_CRITICA'\n",
    "print(data_2017[c].value_counts().sort_index().index)\n",
    "print(data_2017[c].value_counts().sort_index())\n",
    "print(missing_data(data_2017[c]))"
   ]
  },
  {
   "cell_type": "code",
   "execution_count": null,
   "metadata": {
    "collapsed": true
   },
   "outputs": [],
   "source": [
    "c = 'DESEMP_SOCIALES_CIUDADANAS'\n",
    "print(data_2017[c].value_counts().sort_index().index)\n",
    "print(data_2017[c].value_counts().sort_index())\n",
    "print(missing_data(data_2017[c]))"
   ]
  },
  {
   "cell_type": "code",
   "execution_count": null,
   "metadata": {
    "collapsed": true
   },
   "outputs": [],
   "source": [
    "c = 'PUNT_SOCIALES_CIUDADANAS'\n",
    "print(data_2017[c].value_counts().sort_index().index)\n",
    "print(data_2017[c].value_counts().sort_index())\n",
    "print(missing_data(data_2017[c]))"
   ]
  },
  {
   "cell_type": "code",
   "execution_count": null,
   "metadata": {
    "collapsed": true
   },
   "outputs": [],
   "source": [
    "c = 'PERCENTIL_SOCIALES_CIUDADANAS'\n",
    "print(data_2017[c].value_counts().sort_index().index)\n",
    "print(data_2017[c].value_counts().sort_index())\n",
    "print(missing_data(data_2017[c]))"
   ]
  },
  {
   "cell_type": "code",
   "execution_count": null,
   "metadata": {
    "collapsed": true
   },
   "outputs": [],
   "source": [
    "c = 'PUNT_GLOBAL'\n",
    "print(data_2017[c].value_counts().sort_index().index)\n",
    "print(data_2017[c].value_counts().sort_index())\n",
    "print(missing_data(data_2017[c]))"
   ]
  },
  {
   "cell_type": "code",
   "execution_count": null,
   "metadata": {
    "collapsed": true
   },
   "outputs": [],
   "source": [
    "c = 'PERCENTIL_GLOBAL'\n",
    "print(data_2017[c].value_counts().sort_index().index)\n",
    "print(data_2017[c].value_counts().sort_index())\n",
    "print(missing_data(data_2017[c]))"
   ]
  },
  {
   "cell_type": "code",
   "execution_count": null,
   "metadata": {
    "collapsed": true
   },
   "outputs": [],
   "source": [
    "c = 'ESTU_INSE_INDIVIDUAL'\n",
    "print(data_2017[c].value_counts().sort_index().index)\n",
    "print(data_2017[c].value_counts().sort_index())\n",
    "print(missing_data(data_2017[c]))"
   ]
  },
  {
   "cell_type": "code",
   "execution_count": null,
   "metadata": {
    "collapsed": true
   },
   "outputs": [],
   "source": [
    "c = 'ESTU_NSE_INDIVIDUAL'\n",
    "print(data_2017[c].value_counts().sort_index().index)\n",
    "print(data_2017[c].value_counts().sort_index())\n",
    "print(missing_data(data_2017[c]))"
   ]
  },
  {
   "cell_type": "code",
   "execution_count": null,
   "metadata": {
    "collapsed": true
   },
   "outputs": [],
   "source": [
    "c = 'ESTU_NSE_ESTABLECIMIENTO'\n",
    "print(data_2017[c].value_counts().sort_index().index)\n",
    "print(data_2017[c].value_counts().sort_index())\n",
    "print(missing_data(data_2017[c]))"
   ]
  },
  {
   "cell_type": "code",
   "execution_count": null,
   "metadata": {
    "collapsed": true
   },
   "outputs": [],
   "source": [
    "c = 'ESTU_ESTADOINVESTIGACION'\n",
    "print(data_2017[c].value_counts().sort_index().index)\n",
    "print(data_2017[c].value_counts().sort_index())\n",
    "print(missing_data(data_2017[c]))"
   ]
  },
  {
   "cell_type": "code",
   "execution_count": null,
   "metadata": {
    "collapsed": true
   },
   "outputs": [],
   "source": []
  },
  {
   "cell_type": "code",
   "execution_count": 6,
   "metadata": {
    "collapsed": false
   },
   "outputs": [
    {
     "data": {
      "text/plain": [
       "'ESTU_TIPODOCUMENTOCOLE_NOMBRE_SEDE'"
      ]
     },
     "execution_count": 6,
     "metadata": {},
     "output_type": "execute_result"
    }
   ],
   "source": [
    "'ESTU_TIPODOCUMENTO' 'COLE_NOMBRE_SEDE'"
   ]
  },
  {
   "cell_type": "markdown",
   "metadata": {},
   "source": [
    "Here i encode the DataFrame and transform it into .csv files"
   ]
  },
  {
   "cell_type": "code",
   "execution_count": null,
   "metadata": {
    "collapsed": true
   },
   "outputs": [],
   "source": []
  },
  {
   "cell_type": "code",
   "execution_count": null,
   "metadata": {
    "collapsed": true
   },
   "outputs": [],
   "source": []
  }
 ],
 "metadata": {
  "kernelspec": {
   "display_name": "Python 3",
   "language": "python",
   "name": "python3"
  },
  "language_info": {
   "codemirror_mode": {
    "name": "ipython",
    "version": 3
   },
   "file_extension": ".py",
   "mimetype": "text/x-python",
   "name": "python",
   "nbconvert_exporter": "python",
   "pygments_lexer": "ipython3",
   "version": "3.4.2"
  }
 },
 "nbformat": 4,
 "nbformat_minor": 0
}
