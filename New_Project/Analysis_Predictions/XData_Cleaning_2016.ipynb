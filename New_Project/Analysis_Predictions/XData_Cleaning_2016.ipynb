{
 "cells": [
  {
   "cell_type": "code",
   "execution_count": 1,
   "metadata": {
    "collapsed": true
   },
   "outputs": [],
   "source": [
    "import pandas as pd\n",
    "import numpy as np\n",
    "%run -i ../tools/functions.py\n",
    "%run -i ../tools/label_encoder.py"
   ]
  },
  {
   "cell_type": "code",
   "execution_count": 2,
   "metadata": {
    "collapsed": false
   },
   "outputs": [
    {
     "name": "stderr",
     "output_type": "stream",
     "text": [
      "/usr/local/lib/python3.4/dist-packages/IPython/core/interactiveshell.py:2902: DtypeWarning: Columns (11,12,13,14) have mixed types. Specify dtype option on import or set low_memory=False.\n",
      "  interactivity=interactivity, compiler=compiler, result=result)\n"
     ]
    }
   ],
   "source": [
    "data_2016 = pd.read_csv('../DatosFTPICFES/SABER11/SB11-BASES_DE_DATOS/SB11-20161-RGSTRO-CLFCCN-V1-0.txt', delimiter = '|')"
   ]
  },
  {
   "cell_type": "code",
   "execution_count": 4,
   "metadata": {
    "collapsed": false
   },
   "outputs": [
    {
     "data": {
      "text/plain": [
       "(74129, 64)"
      ]
     },
     "execution_count": 4,
     "metadata": {},
     "output_type": "execute_result"
    }
   ],
   "source": [
    "data_2016.shape"
   ]
  },
  {
   "cell_type": "code",
   "execution_count": 5,
   "metadata": {
    "collapsed": false,
    "scrolled": true
   },
   "outputs": [
    {
     "data": {
      "text/html": [
       "<div>\n",
       "<table border=\"1\" class=\"dataframe\">\n",
       "  <thead>\n",
       "    <tr style=\"text-align: right;\">\n",
       "      <th></th>\n",
       "      <th>0</th>\n",
       "      <th>1</th>\n",
       "      <th>2</th>\n",
       "    </tr>\n",
       "  </thead>\n",
       "  <tbody>\n",
       "    <tr>\n",
       "      <th>PERIODO</th>\n",
       "      <td>20161</td>\n",
       "      <td>20161</td>\n",
       "      <td>20161</td>\n",
       "    </tr>\n",
       "    <tr>\n",
       "      <th>ESTU_CONSECUTIVO</th>\n",
       "      <td>SABER11201611</td>\n",
       "      <td>SABER11201612</td>\n",
       "      <td>SABER11201613</td>\n",
       "    </tr>\n",
       "    <tr>\n",
       "      <th>ESTU_EDAD</th>\n",
       "      <td>38</td>\n",
       "      <td>36</td>\n",
       "      <td>26</td>\n",
       "    </tr>\n",
       "    <tr>\n",
       "      <th>ESTU_TIPO_DOCUMENTO</th>\n",
       "      <td>CC</td>\n",
       "      <td>CC</td>\n",
       "      <td>CC</td>\n",
       "    </tr>\n",
       "    <tr>\n",
       "      <th>ESTU_PAIS_RESIDE</th>\n",
       "      <td>1</td>\n",
       "      <td>1</td>\n",
       "      <td>1</td>\n",
       "    </tr>\n",
       "    <tr>\n",
       "      <th>ESTU_GENERO</th>\n",
       "      <td>M</td>\n",
       "      <td>M</td>\n",
       "      <td>M</td>\n",
       "    </tr>\n",
       "    <tr>\n",
       "      <th>ESTU_FECHA_NACIMIENTO</th>\n",
       "      <td>08/02/1978</td>\n",
       "      <td>30/01/1980</td>\n",
       "      <td>05/04/1989</td>\n",
       "    </tr>\n",
       "    <tr>\n",
       "      <th>ESTU_ETNIA</th>\n",
       "      <td>NaN</td>\n",
       "      <td>NaN</td>\n",
       "      <td>NaN</td>\n",
       "    </tr>\n",
       "    <tr>\n",
       "      <th>ESTU_LIMITA_COGNITIVA</th>\n",
       "      <td>NaN</td>\n",
       "      <td>NaN</td>\n",
       "      <td>NaN</td>\n",
       "    </tr>\n",
       "    <tr>\n",
       "      <th>ESTU_LIMITA_MOTRIZ</th>\n",
       "      <td>NaN</td>\n",
       "      <td>NaN</td>\n",
       "      <td>NaN</td>\n",
       "    </tr>\n",
       "    <tr>\n",
       "      <th>ESTU_LIMITA_INVIDENTE</th>\n",
       "      <td>NaN</td>\n",
       "      <td>NaN</td>\n",
       "      <td>NaN</td>\n",
       "    </tr>\n",
       "    <tr>\n",
       "      <th>ESTU_LIMITA_CONDICIONESPECIAL</th>\n",
       "      <td>NaN</td>\n",
       "      <td>NaN</td>\n",
       "      <td>NaN</td>\n",
       "    </tr>\n",
       "    <tr>\n",
       "      <th>ESTU_LIMITA_SORDO</th>\n",
       "      <td>NaN</td>\n",
       "      <td>NaN</td>\n",
       "      <td>NaN</td>\n",
       "    </tr>\n",
       "    <tr>\n",
       "      <th>ESTU_LIMITA_SDOWN</th>\n",
       "      <td>NaN</td>\n",
       "      <td>NaN</td>\n",
       "      <td>NaN</td>\n",
       "    </tr>\n",
       "    <tr>\n",
       "      <th>ESTU_LIMITA_AUTISMO</th>\n",
       "      <td>NaN</td>\n",
       "      <td>NaN</td>\n",
       "      <td>NaN</td>\n",
       "    </tr>\n",
       "    <tr>\n",
       "      <th>ESTU_AREA_RESIDE</th>\n",
       "      <td>U</td>\n",
       "      <td>U</td>\n",
       "      <td>U</td>\n",
       "    </tr>\n",
       "    <tr>\n",
       "      <th>COLE_COD_MCPIO_UBICACION</th>\n",
       "      <td>52001</td>\n",
       "      <td>11001</td>\n",
       "      <td>11001</td>\n",
       "    </tr>\n",
       "    <tr>\n",
       "      <th>ESTU_RESIDE_MCPIO</th>\n",
       "      <td>PASTO</td>\n",
       "      <td>BOGOTÁ D.C.</td>\n",
       "      <td>BOGOTÁ D.C.</td>\n",
       "    </tr>\n",
       "    <tr>\n",
       "      <th>ESTU_RESIDE_DEPTO</th>\n",
       "      <td>NARIÑO</td>\n",
       "      <td>BOGOTA</td>\n",
       "      <td>BOGOTA</td>\n",
       "    </tr>\n",
       "    <tr>\n",
       "      <th>ESTU_ZONA_RESIDE</th>\n",
       "      <td>10</td>\n",
       "      <td>1</td>\n",
       "      <td>4</td>\n",
       "    </tr>\n",
       "    <tr>\n",
       "      <th>COLE_COD_DANE_INSTITUCION</th>\n",
       "      <td>NaN</td>\n",
       "      <td>NaN</td>\n",
       "      <td>NaN</td>\n",
       "    </tr>\n",
       "    <tr>\n",
       "      <th>COLE_COD_ICFES</th>\n",
       "      <td>NaN</td>\n",
       "      <td>NaN</td>\n",
       "      <td>NaN</td>\n",
       "    </tr>\n",
       "    <tr>\n",
       "      <th>COLE_NOMBRE_SEDE</th>\n",
       "      <td>NaN</td>\n",
       "      <td>NaN</td>\n",
       "      <td>NaN</td>\n",
       "    </tr>\n",
       "    <tr>\n",
       "      <th>COLE_JORNADA</th>\n",
       "      <td>NaN</td>\n",
       "      <td>NaN</td>\n",
       "      <td>NaN</td>\n",
       "    </tr>\n",
       "    <tr>\n",
       "      <th>ESTU_PRIVADO_LIBERTAD</th>\n",
       "      <td>N</td>\n",
       "      <td>N</td>\n",
       "      <td>N</td>\n",
       "    </tr>\n",
       "    <tr>\n",
       "      <th>ESTU_ANO_TERMINO_BACHILL</th>\n",
       "      <td>1997</td>\n",
       "      <td>1998</td>\n",
       "      <td>2008</td>\n",
       "    </tr>\n",
       "    <tr>\n",
       "      <th>ESTU_MES_TERMINO_BACHILL</th>\n",
       "      <td>7</td>\n",
       "      <td>10</td>\n",
       "      <td>11</td>\n",
       "    </tr>\n",
       "    <tr>\n",
       "      <th>ESTU_NUMERO_LIBROS</th>\n",
       "      <td>0 A 10 LIBROS</td>\n",
       "      <td>MÁS DE 100 LIBROS</td>\n",
       "      <td>0 A 10 LIBROS</td>\n",
       "    </tr>\n",
       "    <tr>\n",
       "      <th>ESTU_OTRO_PLANTEL</th>\n",
       "      <td>COLEGIO ANTONIO NARIÑO</td>\n",
       "      <td>NaN</td>\n",
       "      <td>NaN</td>\n",
       "    </tr>\n",
       "    <tr>\n",
       "      <th>ESTU_COD_OTRO_PAIS_PLANTEL</th>\n",
       "      <td>1</td>\n",
       "      <td>1</td>\n",
       "      <td>1</td>\n",
       "    </tr>\n",
       "    <tr>\n",
       "      <th>...</th>\n",
       "      <td>...</td>\n",
       "      <td>...</td>\n",
       "      <td>...</td>\n",
       "    </tr>\n",
       "    <tr>\n",
       "      <th>ESTU_DEPTO_PRESENTACION</th>\n",
       "      <td>NARIÑO</td>\n",
       "      <td>BOGOTA</td>\n",
       "      <td>BOGOTA</td>\n",
       "    </tr>\n",
       "    <tr>\n",
       "      <th>FAMI_EDUCA_PADRE</th>\n",
       "      <td>4</td>\n",
       "      <td>8</td>\n",
       "      <td>3</td>\n",
       "    </tr>\n",
       "    <tr>\n",
       "      <th>FAMI_EDUCA_MADRE</th>\n",
       "      <td>4</td>\n",
       "      <td>4</td>\n",
       "      <td>2</td>\n",
       "    </tr>\n",
       "    <tr>\n",
       "      <th>FAMI_OCUPA_PADRE</th>\n",
       "      <td>9</td>\n",
       "      <td>12</td>\n",
       "      <td>9</td>\n",
       "    </tr>\n",
       "    <tr>\n",
       "      <th>FAMI_OCUPA_MADRE</th>\n",
       "      <td>10</td>\n",
       "      <td>12</td>\n",
       "      <td>8</td>\n",
       "    </tr>\n",
       "    <tr>\n",
       "      <th>FAMI_NUM_HERMANOS</th>\n",
       "      <td>3</td>\n",
       "      <td>1</td>\n",
       "      <td>6</td>\n",
       "    </tr>\n",
       "    <tr>\n",
       "      <th>FAMI_ESTRATO_VIVIENDA</th>\n",
       "      <td>2</td>\n",
       "      <td>5</td>\n",
       "      <td>2</td>\n",
       "    </tr>\n",
       "    <tr>\n",
       "      <th>FAMI_NIVEL_SISBEN</th>\n",
       "      <td>5</td>\n",
       "      <td>5</td>\n",
       "      <td>2</td>\n",
       "    </tr>\n",
       "    <tr>\n",
       "      <th>FAMI_PERSONAS_HOGAR</th>\n",
       "      <td>4</td>\n",
       "      <td>1</td>\n",
       "      <td>2</td>\n",
       "    </tr>\n",
       "    <tr>\n",
       "      <th>FAMI_CUARTOS_HOGAR</th>\n",
       "      <td>2</td>\n",
       "      <td>1</td>\n",
       "      <td>2</td>\n",
       "    </tr>\n",
       "    <tr>\n",
       "      <th>FAMI_PISOSHOGAR</th>\n",
       "      <td>2</td>\n",
       "      <td>4</td>\n",
       "      <td>2</td>\n",
       "    </tr>\n",
       "    <tr>\n",
       "      <th>FAMI_TELEFONO_FIJO</th>\n",
       "      <td>N</td>\n",
       "      <td>S</td>\n",
       "      <td>N</td>\n",
       "    </tr>\n",
       "    <tr>\n",
       "      <th>FAMI_INTERNET</th>\n",
       "      <td>S</td>\n",
       "      <td>S</td>\n",
       "      <td>N</td>\n",
       "    </tr>\n",
       "    <tr>\n",
       "      <th>FAMI_TELEVISOR</th>\n",
       "      <td>S</td>\n",
       "      <td>N</td>\n",
       "      <td>S</td>\n",
       "    </tr>\n",
       "    <tr>\n",
       "      <th>FAMI_COMPUTADOR</th>\n",
       "      <td>S</td>\n",
       "      <td>S</td>\n",
       "      <td>N</td>\n",
       "    </tr>\n",
       "    <tr>\n",
       "      <th>FAMI_DVD</th>\n",
       "      <td>S</td>\n",
       "      <td>S</td>\n",
       "      <td>S</td>\n",
       "    </tr>\n",
       "    <tr>\n",
       "      <th>FAMI_LAVADORA</th>\n",
       "      <td>N</td>\n",
       "      <td>N</td>\n",
       "      <td>N</td>\n",
       "    </tr>\n",
       "    <tr>\n",
       "      <th>FAMI_MICROONDAS</th>\n",
       "      <td>S</td>\n",
       "      <td>N</td>\n",
       "      <td>N</td>\n",
       "    </tr>\n",
       "    <tr>\n",
       "      <th>FAMI_AUTOMOVIL</th>\n",
       "      <td>N</td>\n",
       "      <td>N</td>\n",
       "      <td>N</td>\n",
       "    </tr>\n",
       "    <tr>\n",
       "      <th>FAMI_HORNO</th>\n",
       "      <td>N</td>\n",
       "      <td>S</td>\n",
       "      <td>N</td>\n",
       "    </tr>\n",
       "    <tr>\n",
       "      <th>FAMI_INGRESO_FMILIAR_MENSUAL</th>\n",
       "      <td>2</td>\n",
       "      <td>5</td>\n",
       "      <td>2</td>\n",
       "    </tr>\n",
       "    <tr>\n",
       "      <th>ESTU_TRABAJA</th>\n",
       "      <td>NaN</td>\n",
       "      <td>NaN</td>\n",
       "      <td>NaN</td>\n",
       "    </tr>\n",
       "    <tr>\n",
       "      <th>ESTU_RECIBE_SALARIO</th>\n",
       "      <td>NaN</td>\n",
       "      <td>NaN</td>\n",
       "      <td>NaN</td>\n",
       "    </tr>\n",
       "    <tr>\n",
       "      <th>ESTU_VECES_ESTADO_ESTUDIANTIL</th>\n",
       "      <td>4</td>\n",
       "      <td>2</td>\n",
       "      <td>1</td>\n",
       "    </tr>\n",
       "    <tr>\n",
       "      <th>PUNT_LECTURA_CRITICA</th>\n",
       "      <td>57</td>\n",
       "      <td>85</td>\n",
       "      <td>39</td>\n",
       "    </tr>\n",
       "    <tr>\n",
       "      <th>PUNT_MATEMATICAS</th>\n",
       "      <td>61</td>\n",
       "      <td>67</td>\n",
       "      <td>57</td>\n",
       "    </tr>\n",
       "    <tr>\n",
       "      <th>PUNT_C_NATURALES</th>\n",
       "      <td>61</td>\n",
       "      <td>55</td>\n",
       "      <td>51</td>\n",
       "    </tr>\n",
       "    <tr>\n",
       "      <th>PUNT_SOCIALES_CIUDADANAS</th>\n",
       "      <td>64</td>\n",
       "      <td>77</td>\n",
       "      <td>47</td>\n",
       "    </tr>\n",
       "    <tr>\n",
       "      <th>PUNT_INGLES</th>\n",
       "      <td>55</td>\n",
       "      <td>100</td>\n",
       "      <td>46</td>\n",
       "    </tr>\n",
       "    <tr>\n",
       "      <th>DESEMP_INGLES</th>\n",
       "      <td>A1</td>\n",
       "      <td>B+</td>\n",
       "      <td>A-</td>\n",
       "    </tr>\n",
       "  </tbody>\n",
       "</table>\n",
       "<p>64 rows × 3 columns</p>\n",
       "</div>"
      ],
      "text/plain": [
       "                                                    0                  1  \\\n",
       "PERIODO                                         20161              20161   \n",
       "ESTU_CONSECUTIVO                        SABER11201611      SABER11201612   \n",
       "ESTU_EDAD                                          38                 36   \n",
       "ESTU_TIPO_DOCUMENTO                                CC                 CC   \n",
       "ESTU_PAIS_RESIDE                                    1                  1   \n",
       "ESTU_GENERO                                         M                  M   \n",
       "ESTU_FECHA_NACIMIENTO                      08/02/1978         30/01/1980   \n",
       "ESTU_ETNIA                                        NaN                NaN   \n",
       "ESTU_LIMITA_COGNITIVA                             NaN                NaN   \n",
       "ESTU_LIMITA_MOTRIZ                                NaN                NaN   \n",
       "ESTU_LIMITA_INVIDENTE                             NaN                NaN   \n",
       "ESTU_LIMITA_CONDICIONESPECIAL                     NaN                NaN   \n",
       "ESTU_LIMITA_SORDO                                 NaN                NaN   \n",
       "ESTU_LIMITA_SDOWN                                 NaN                NaN   \n",
       "ESTU_LIMITA_AUTISMO                               NaN                NaN   \n",
       "ESTU_AREA_RESIDE                                    U                  U   \n",
       "COLE_COD_MCPIO_UBICACION                        52001              11001   \n",
       "ESTU_RESIDE_MCPIO                               PASTO        BOGOTÁ D.C.   \n",
       "ESTU_RESIDE_DEPTO                              NARIÑO             BOGOTA   \n",
       "ESTU_ZONA_RESIDE                                   10                  1   \n",
       "COLE_COD_DANE_INSTITUCION                         NaN                NaN   \n",
       "COLE_COD_ICFES                                    NaN                NaN   \n",
       "COLE_NOMBRE_SEDE                                  NaN                NaN   \n",
       "COLE_JORNADA                                      NaN                NaN   \n",
       "ESTU_PRIVADO_LIBERTAD                               N                  N   \n",
       "ESTU_ANO_TERMINO_BACHILL                         1997               1998   \n",
       "ESTU_MES_TERMINO_BACHILL                            7                 10   \n",
       "ESTU_NUMERO_LIBROS                      0 A 10 LIBROS  MÁS DE 100 LIBROS   \n",
       "ESTU_OTRO_PLANTEL              COLEGIO ANTONIO NARIÑO                NaN   \n",
       "ESTU_COD_OTRO_PAIS_PLANTEL                          1                  1   \n",
       "...                                               ...                ...   \n",
       "ESTU_DEPTO_PRESENTACION                        NARIÑO             BOGOTA   \n",
       "FAMI_EDUCA_PADRE                                    4                  8   \n",
       "FAMI_EDUCA_MADRE                                    4                  4   \n",
       "FAMI_OCUPA_PADRE                                    9                 12   \n",
       "FAMI_OCUPA_MADRE                                   10                 12   \n",
       "FAMI_NUM_HERMANOS                                   3                  1   \n",
       "FAMI_ESTRATO_VIVIENDA                               2                  5   \n",
       "FAMI_NIVEL_SISBEN                                   5                  5   \n",
       "FAMI_PERSONAS_HOGAR                                 4                  1   \n",
       "FAMI_CUARTOS_HOGAR                                  2                  1   \n",
       "FAMI_PISOSHOGAR                                     2                  4   \n",
       "FAMI_TELEFONO_FIJO                                  N                  S   \n",
       "FAMI_INTERNET                                       S                  S   \n",
       "FAMI_TELEVISOR                                      S                  N   \n",
       "FAMI_COMPUTADOR                                     S                  S   \n",
       "FAMI_DVD                                            S                  S   \n",
       "FAMI_LAVADORA                                       N                  N   \n",
       "FAMI_MICROONDAS                                     S                  N   \n",
       "FAMI_AUTOMOVIL                                      N                  N   \n",
       "FAMI_HORNO                                          N                  S   \n",
       "FAMI_INGRESO_FMILIAR_MENSUAL                        2                  5   \n",
       "ESTU_TRABAJA                                      NaN                NaN   \n",
       "ESTU_RECIBE_SALARIO                               NaN                NaN   \n",
       "ESTU_VECES_ESTADO_ESTUDIANTIL                       4                  2   \n",
       "PUNT_LECTURA_CRITICA                               57                 85   \n",
       "PUNT_MATEMATICAS                                   61                 67   \n",
       "PUNT_C_NATURALES                                   61                 55   \n",
       "PUNT_SOCIALES_CIUDADANAS                           64                 77   \n",
       "PUNT_INGLES                                        55                100   \n",
       "DESEMP_INGLES                                      A1                 B+   \n",
       "\n",
       "                                           2  \n",
       "PERIODO                                20161  \n",
       "ESTU_CONSECUTIVO               SABER11201613  \n",
       "ESTU_EDAD                                 26  \n",
       "ESTU_TIPO_DOCUMENTO                       CC  \n",
       "ESTU_PAIS_RESIDE                           1  \n",
       "ESTU_GENERO                                M  \n",
       "ESTU_FECHA_NACIMIENTO             05/04/1989  \n",
       "ESTU_ETNIA                               NaN  \n",
       "ESTU_LIMITA_COGNITIVA                    NaN  \n",
       "ESTU_LIMITA_MOTRIZ                       NaN  \n",
       "ESTU_LIMITA_INVIDENTE                    NaN  \n",
       "ESTU_LIMITA_CONDICIONESPECIAL            NaN  \n",
       "ESTU_LIMITA_SORDO                        NaN  \n",
       "ESTU_LIMITA_SDOWN                        NaN  \n",
       "ESTU_LIMITA_AUTISMO                      NaN  \n",
       "ESTU_AREA_RESIDE                           U  \n",
       "COLE_COD_MCPIO_UBICACION               11001  \n",
       "ESTU_RESIDE_MCPIO                BOGOTÁ D.C.  \n",
       "ESTU_RESIDE_DEPTO                     BOGOTA  \n",
       "ESTU_ZONA_RESIDE                           4  \n",
       "COLE_COD_DANE_INSTITUCION                NaN  \n",
       "COLE_COD_ICFES                           NaN  \n",
       "COLE_NOMBRE_SEDE                         NaN  \n",
       "COLE_JORNADA                             NaN  \n",
       "ESTU_PRIVADO_LIBERTAD                      N  \n",
       "ESTU_ANO_TERMINO_BACHILL                2008  \n",
       "ESTU_MES_TERMINO_BACHILL                  11  \n",
       "ESTU_NUMERO_LIBROS             0 A 10 LIBROS  \n",
       "ESTU_OTRO_PLANTEL                        NaN  \n",
       "ESTU_COD_OTRO_PAIS_PLANTEL                 1  \n",
       "...                                      ...  \n",
       "ESTU_DEPTO_PRESENTACION               BOGOTA  \n",
       "FAMI_EDUCA_PADRE                           3  \n",
       "FAMI_EDUCA_MADRE                           2  \n",
       "FAMI_OCUPA_PADRE                           9  \n",
       "FAMI_OCUPA_MADRE                           8  \n",
       "FAMI_NUM_HERMANOS                          6  \n",
       "FAMI_ESTRATO_VIVIENDA                      2  \n",
       "FAMI_NIVEL_SISBEN                          2  \n",
       "FAMI_PERSONAS_HOGAR                        2  \n",
       "FAMI_CUARTOS_HOGAR                         2  \n",
       "FAMI_PISOSHOGAR                            2  \n",
       "FAMI_TELEFONO_FIJO                         N  \n",
       "FAMI_INTERNET                              N  \n",
       "FAMI_TELEVISOR                             S  \n",
       "FAMI_COMPUTADOR                            N  \n",
       "FAMI_DVD                                   S  \n",
       "FAMI_LAVADORA                              N  \n",
       "FAMI_MICROONDAS                            N  \n",
       "FAMI_AUTOMOVIL                             N  \n",
       "FAMI_HORNO                                 N  \n",
       "FAMI_INGRESO_FMILIAR_MENSUAL               2  \n",
       "ESTU_TRABAJA                             NaN  \n",
       "ESTU_RECIBE_SALARIO                      NaN  \n",
       "ESTU_VECES_ESTADO_ESTUDIANTIL              1  \n",
       "PUNT_LECTURA_CRITICA                      39  \n",
       "PUNT_MATEMATICAS                          57  \n",
       "PUNT_C_NATURALES                          51  \n",
       "PUNT_SOCIALES_CIUDADANAS                  47  \n",
       "PUNT_INGLES                               46  \n",
       "DESEMP_INGLES                             A-  \n",
       "\n",
       "[64 rows x 3 columns]"
      ]
     },
     "execution_count": 5,
     "metadata": {},
     "output_type": "execute_result"
    }
   ],
   "source": [
    "data_2016.head(3).T"
   ]
  },
  {
   "cell_type": "code",
   "execution_count": null,
   "metadata": {
    "collapsed": true
   },
   "outputs": [],
   "source": [
    "c = 'ESTU_CONSECUTIVO'\n",
    "print(data_2016[c].value_counts().sort_index().index)\n",
    "print(data_2016[c].value_counts().sort_index())\n",
    "print(missing_data(data_2016[c]))"
   ]
  },
  {
   "cell_type": "code",
   "execution_count": null,
   "metadata": {
    "collapsed": true
   },
   "outputs": [],
   "source": [
    "c = 'PERIODO'\n",
    "print(data_2016[c].value_counts().sort_index().index)\n",
    "print(data_2016[c].value_counts().sort_index())\n",
    "print(missing_data(data_2016[c]))"
   ]
  },
  {
   "cell_type": "code",
   "execution_count": null,
   "metadata": {
    "collapsed": true
   },
   "outputs": [],
   "source": [
    "c = 'ESTU_EDAD'\n",
    "print(data_2016[c].value_counts().sort_index().index)\n",
    "print(data_2016[c].value_counts().sort_index())\n",
    "print(missing_data(data_2016[c]))"
   ]
  },
  {
   "cell_type": "code",
   "execution_count": null,
   "metadata": {
    "collapsed": true
   },
   "outputs": [],
   "source": [
    "c = 'ESTU_TIPO_DOCUMENTO'\n",
    "print(data_2016[c].value_counts().sort_index().index)\n",
    "print(data_2016[c].value_counts().sort_index())\n",
    "print(missing_data(data_2016[c]))"
   ]
  },
  {
   "cell_type": "code",
   "execution_count": null,
   "metadata": {
    "collapsed": true
   },
   "outputs": [],
   "source": [
    "c = 'ESTU_PAIS_RESIDE'\n",
    "print(data_2016[c].value_counts().sort_index().index)\n",
    "print(data_2016[c].value_counts().sort_index())\n",
    "print(missing_data(data_2016[c]))"
   ]
  },
  {
   "cell_type": "code",
   "execution_count": null,
   "metadata": {
    "collapsed": true
   },
   "outputs": [],
   "source": [
    "c = 'ESTU_GENERO'\n",
    "print(data_2016[c].value_counts().sort_index().index)\n",
    "print(data_2016[c].value_counts().sort_index())\n",
    "print(missing_data(data_2016[c]))"
   ]
  },
  {
   "cell_type": "code",
   "execution_count": null,
   "metadata": {
    "collapsed": true
   },
   "outputs": [],
   "source": [
    "c = 'ESTU_FECHA_NACIMIENTO'\n",
    "print(data_2016[c].value_counts().sort_index().index)\n",
    "print(data_2016[c].value_counts().sort_index())\n",
    "print(missing_data(data_2016[c]))"
   ]
  },
  {
   "cell_type": "code",
   "execution_count": null,
   "metadata": {
    "collapsed": true
   },
   "outputs": [],
   "source": [
    "c = 'ESTU_ETNIA'\n",
    "print(data_2016[c].value_counts().sort_index().index)\n",
    "print(data_2016[c].value_counts().sort_index())\n",
    "print(missing_data(data_2016[c]))"
   ]
  },
  {
   "cell_type": "code",
   "execution_count": null,
   "metadata": {
    "collapsed": true
   },
   "outputs": [],
   "source": [
    "c = 'ESTU_LIMITA_COGNITIVA'\n",
    "print(data_2016[c].value_counts().sort_index().index)\n",
    "print(data_2016[c].value_counts().sort_index())\n",
    "print(missing_data(data_2016[c]))"
   ]
  },
  {
   "cell_type": "code",
   "execution_count": null,
   "metadata": {
    "collapsed": true
   },
   "outputs": [],
   "source": [
    "c = 'ESTU_LIMITA_MOTRIZ'\n",
    "print(data_2016[c].value_counts().sort_index().index)\n",
    "print(data_2016[c].value_counts().sort_index())\n",
    "print(missing_data(data_2016[c]))"
   ]
  },
  {
   "cell_type": "code",
   "execution_count": null,
   "metadata": {
    "collapsed": true
   },
   "outputs": [],
   "source": [
    "c = 'ESTU_LIMITA_INVIDENTE'\n",
    "print(data_2016[c].value_counts().sort_index().index)\n",
    "print(data_2016[c].value_counts().sort_index())\n",
    "print(missing_data(data_2016[c]))"
   ]
  },
  {
   "cell_type": "code",
   "execution_count": null,
   "metadata": {
    "collapsed": true
   },
   "outputs": [],
   "source": [
    "c = 'ESTU_LIMITA_CONDICIONESPECIAL'\n",
    "print(data_2016[c].value_counts().sort_index().index)\n",
    "print(data_2016[c].value_counts().sort_index())\n",
    "print(missing_data(data_2016[c]))"
   ]
  },
  {
   "cell_type": "code",
   "execution_count": null,
   "metadata": {
    "collapsed": true
   },
   "outputs": [],
   "source": [
    "c = 'ESTU_LIMITA_SORDO'\n",
    "print(data_2016[c].value_counts().sort_index().index)\n",
    "print(data_2016[c].value_counts().sort_index())\n",
    "print(missing_data(data_2016[c]))"
   ]
  },
  {
   "cell_type": "code",
   "execution_count": null,
   "metadata": {
    "collapsed": true
   },
   "outputs": [],
   "source": [
    "c = 'ESTU_LIMITA_SDOWN'\n",
    "print(data_2016[c].value_counts().sort_index().index)\n",
    "print(data_2016[c].value_counts().sort_index())\n",
    "print(missing_data(data_2016[c]))"
   ]
  },
  {
   "cell_type": "code",
   "execution_count": null,
   "metadata": {
    "collapsed": true
   },
   "outputs": [],
   "source": [
    "c = 'ESTU_LIMITA_AUTISMO'\n",
    "print(data_2016[c].value_counts().sort_index().index)\n",
    "print(data_2016[c].value_counts().sort_index())\n",
    "print(missing_data(data_2016[c]))"
   ]
  },
  {
   "cell_type": "code",
   "execution_count": null,
   "metadata": {
    "collapsed": true
   },
   "outputs": [],
   "source": [
    "c = 'ESTU_AREA_RESIDE'\n",
    "print(data_2016[c].value_counts().sort_index().index)\n",
    "print(data_2016[c].value_counts().sort_index())\n",
    "print(missing_data(data_2016[c]))"
   ]
  },
  {
   "cell_type": "code",
   "execution_count": null,
   "metadata": {
    "collapsed": true
   },
   "outputs": [],
   "source": [
    "c = 'COLE_COD_MCPIO_UBICACION'\n",
    "print(data_2016[c].value_counts().sort_index().index)\n",
    "print(data_2016[c].value_counts().sort_index())\n",
    "print(missing_data(data_2016[c]))"
   ]
  },
  {
   "cell_type": "code",
   "execution_count": null,
   "metadata": {
    "collapsed": true
   },
   "outputs": [],
   "source": [
    "c = 'ESTU_RESIDE_MCPIO'\n",
    "print(data_2016[c].value_counts().sort_index().index)\n",
    "print(data_2016[c].value_counts().sort_index())\n",
    "print(missing_data(data_2016[c]))"
   ]
  },
  {
   "cell_type": "code",
   "execution_count": null,
   "metadata": {
    "collapsed": true
   },
   "outputs": [],
   "source": [
    "c = 'ESTU_RESIDE_DEPTO'\n",
    "print(data_2016[c].value_counts().sort_index().index)\n",
    "print(data_2016[c].value_counts().sort_index())\n",
    "print(missing_data(data_2016[c]))"
   ]
  },
  {
   "cell_type": "code",
   "execution_count": null,
   "metadata": {
    "collapsed": true
   },
   "outputs": [],
   "source": [
    "c = 'ESTU_ZONA_RESIDE'\n",
    "print(data_2016[c].value_counts().sort_index().index)\n",
    "print(data_2016[c].value_counts().sort_index())\n",
    "print(missing_data(data_2016[c]))"
   ]
  },
  {
   "cell_type": "code",
   "execution_count": null,
   "metadata": {
    "collapsed": true
   },
   "outputs": [],
   "source": [
    "c = 'COLE_COD_DANE_INSTITUCION'\n",
    "print(data_2016[c].value_counts().sort_index().index)\n",
    "print(data_2016[c].value_counts().sort_index())\n",
    "print(missing_data(data_2016[c]))"
   ]
  },
  {
   "cell_type": "code",
   "execution_count": null,
   "metadata": {
    "collapsed": true
   },
   "outputs": [],
   "source": [
    "c = 'COLE_COD_ICFES'\n",
    "print(data_2016[c].value_counts().sort_index().index)\n",
    "print(data_2016[c].value_counts().sort_index())\n",
    "print(missing_data(data_2016[c]))"
   ]
  },
  {
   "cell_type": "code",
   "execution_count": null,
   "metadata": {
    "collapsed": true
   },
   "outputs": [],
   "source": [
    "c = 'COLE_NOMBRE_SEDE'\n",
    "print(data_2016[c].value_counts().sort_index().index)\n",
    "print(data_2016[c].value_counts().sort_index())\n",
    "print(missing_data(data_2016[c]))"
   ]
  },
  {
   "cell_type": "code",
   "execution_count": null,
   "metadata": {
    "collapsed": true
   },
   "outputs": [],
   "source": [
    "c = 'COLE_JORNADA'\n",
    "print(data_2016[c].value_counts().sort_index().index)\n",
    "print(data_2016[c].value_counts().sort_index())\n",
    "print(missing_data(data_2016[c]))"
   ]
  },
  {
   "cell_type": "code",
   "execution_count": null,
   "metadata": {
    "collapsed": true
   },
   "outputs": [],
   "source": [
    "c = 'ESTU_PRIVADO_LIBERTAD'\n",
    "print(data_2016[c].value_counts().sort_index().index)\n",
    "print(data_2016[c].value_counts().sort_index())\n",
    "print(missing_data(data_2016[c]))"
   ]
  },
  {
   "cell_type": "code",
   "execution_count": null,
   "metadata": {
    "collapsed": true
   },
   "outputs": [],
   "source": [
    "c = 'ESTU_ANO_TERMINO_BACHILL'\n",
    "print(data_2016[c].value_counts().sort_index().index)\n",
    "print(data_2016[c].value_counts().sort_index())\n",
    "print(missing_data(data_2016[c]))"
   ]
  },
  {
   "cell_type": "code",
   "execution_count": null,
   "metadata": {
    "collapsed": true
   },
   "outputs": [],
   "source": [
    "c = 'ESTU_MES_TERMINO_BACHILL'\n",
    "print(data_2016[c].value_counts().sort_index().index)\n",
    "print(data_2016[c].value_counts().sort_index())\n",
    "print(missing_data(data_2016[c]))"
   ]
  },
  {
   "cell_type": "code",
   "execution_count": null,
   "metadata": {
    "collapsed": true
   },
   "outputs": [],
   "source": [
    "c = 'ESTU_NUMERO_LIBROS'\n",
    "print(data_2016[c].value_counts().sort_index().index)\n",
    "print(data_2016[c].value_counts().sort_index())\n",
    "print(missing_data(data_2016[c]))"
   ]
  },
  {
   "cell_type": "code",
   "execution_count": null,
   "metadata": {
    "collapsed": true
   },
   "outputs": [],
   "source": [
    "c = 'ESTU_OTRO_PLANTEL'\n",
    "print(data_2016[c].value_counts().sort_index().index)\n",
    "print(data_2016[c].value_counts().sort_index())\n",
    "print(missing_data(data_2016[c]))"
   ]
  },
  {
   "cell_type": "code",
   "execution_count": null,
   "metadata": {
    "collapsed": true
   },
   "outputs": [],
   "source": [
    "c = 'ESTU_COD_OTRO_PAIS_PLANTEL'\n",
    "print(data_2016[c].value_counts().sort_index().index)\n",
    "print(data_2016[c].value_counts().sort_index())\n",
    "print(missing_data(data_2016[c]))"
   ]
  },
  {
   "cell_type": "code",
   "execution_count": null,
   "metadata": {
    "collapsed": true
   },
   "outputs": [],
   "source": [
    "c = 'COLE_VALOR_PENSION'\n",
    "print(data_2016[c].value_counts().sort_index().index)\n",
    "print(data_2016[c].value_counts().sort_index())\n",
    "print(missing_data(data_2016[c]))"
   ]
  },
  {
   "cell_type": "code",
   "execution_count": null,
   "metadata": {
    "collapsed": true
   },
   "outputs": [],
   "source": [
    "c = 'ESTU_VECES_ESTADO'\n",
    "print(data_2016[c].value_counts().sort_index().index)\n",
    "print(data_2016[c].value_counts().sort_index())\n",
    "print(missing_data(data_2016[c]))"
   ]
  },
  {
   "cell_type": "code",
   "execution_count": null,
   "metadata": {
    "collapsed": true
   },
   "outputs": [],
   "source": [
    "c = 'ESTU_COD_MCPIO_PRESENTACION'\n",
    "print(data_2016[c].value_counts().sort_index().index)\n",
    "print(data_2016[c].value_counts().sort_index())\n",
    "print(missing_data(data_2016[c]))"
   ]
  },
  {
   "cell_type": "code",
   "execution_count": null,
   "metadata": {
    "collapsed": true
   },
   "outputs": [],
   "source": [
    "c = 'ESTU_MCPIO_PRESENTACION'\n",
    "print(data_2016[c].value_counts().sort_index().index)\n",
    "print(data_2016[c].value_counts().sort_index())\n",
    "print(missing_data(data_2016[c]))"
   ]
  },
  {
   "cell_type": "code",
   "execution_count": null,
   "metadata": {
    "collapsed": true
   },
   "outputs": [],
   "source": [
    "c = 'ESTU_DEPTO_PRESENTACION'\n",
    "print(data_2016[c].value_counts().sort_index().index)\n",
    "print(data_2016[c].value_counts().sort_index())\n",
    "print(missing_data(data_2016[c]))"
   ]
  },
  {
   "cell_type": "code",
   "execution_count": null,
   "metadata": {
    "collapsed": true
   },
   "outputs": [],
   "source": [
    "c = 'FAMI_EDUCA_PADRE'\n",
    "print(data_2016[c].value_counts().sort_index().index)\n",
    "print(data_2016[c].value_counts().sort_index())\n",
    "print(missing_data(data_2016[c]))"
   ]
  },
  {
   "cell_type": "code",
   "execution_count": null,
   "metadata": {
    "collapsed": true
   },
   "outputs": [],
   "source": [
    "c = 'FAMI_EDUCA_MADRE'\n",
    "print(data_2016[c].value_counts().sort_index().index)\n",
    "print(data_2016[c].value_counts().sort_index())\n",
    "print(missing_data(data_2016[c]))"
   ]
  },
  {
   "cell_type": "code",
   "execution_count": null,
   "metadata": {
    "collapsed": true
   },
   "outputs": [],
   "source": [
    "c = 'FAMI_OCUPA_PADRE'\n",
    "print(data_2016[c].value_counts().sort_index().index)\n",
    "print(data_2016[c].value_counts().sort_index())\n",
    "print(missing_data(data_2016[c]))"
   ]
  },
  {
   "cell_type": "code",
   "execution_count": null,
   "metadata": {
    "collapsed": true
   },
   "outputs": [],
   "source": [
    "c = 'FAMI_OCUPA_MADRE'\n",
    "print(data_2016[c].value_counts().sort_index().index)\n",
    "print(data_2016[c].value_counts().sort_index())\n",
    "print(missing_data(data_2016[c]))"
   ]
  },
  {
   "cell_type": "code",
   "execution_count": null,
   "metadata": {
    "collapsed": true
   },
   "outputs": [],
   "source": [
    "c = 'FAMI_NUM_HERMANOS'\n",
    "print(data_2016[c].value_counts().sort_index().index)\n",
    "print(data_2016[c].value_counts().sort_index())\n",
    "print(missing_data(data_2016[c]))"
   ]
  },
  {
   "cell_type": "code",
   "execution_count": null,
   "metadata": {
    "collapsed": true
   },
   "outputs": [],
   "source": [
    "c = 'FAMI_ESTRATO_VIVIENDA'\n",
    "print(data_2016[c].value_counts().sort_index().index)\n",
    "print(data_2016[c].value_counts().sort_index())\n",
    "print(missing_data(data_2016[c]))"
   ]
  },
  {
   "cell_type": "code",
   "execution_count": null,
   "metadata": {
    "collapsed": true
   },
   "outputs": [],
   "source": [
    "c = 'FAMI_NIVEL_SISBEN'\n",
    "print(data_2016[c].value_counts().sort_index().index)\n",
    "print(data_2016[c].value_counts().sort_index())\n",
    "print(missing_data(data_2016[c]))"
   ]
  },
  {
   "cell_type": "code",
   "execution_count": null,
   "metadata": {
    "collapsed": true
   },
   "outputs": [],
   "source": [
    "c = 'FAMI_PERSONAS_HOGAR'\n",
    "print(data_2016[c].value_counts().sort_index().index)\n",
    "print(data_2016[c].value_counts().sort_index())\n",
    "print(missing_data(data_2016[c]))"
   ]
  },
  {
   "cell_type": "code",
   "execution_count": null,
   "metadata": {
    "collapsed": true
   },
   "outputs": [],
   "source": [
    "c = 'FAMI_CUARTOS_HOGAR'\n",
    "print(data_2016[c].value_counts().sort_index().index)\n",
    "print(data_2016[c].value_counts().sort_index())\n",
    "print(missing_data(data_2016[c]))"
   ]
  },
  {
   "cell_type": "code",
   "execution_count": null,
   "metadata": {
    "collapsed": true
   },
   "outputs": [],
   "source": [
    "c = 'FAMI_PISOSHOGAR'\n",
    "print(data_2016[c].value_counts().sort_index().index)\n",
    "print(data_2016[c].value_counts().sort_index())\n",
    "print(missing_data(data_2016[c]))"
   ]
  },
  {
   "cell_type": "code",
   "execution_count": null,
   "metadata": {
    "collapsed": true
   },
   "outputs": [],
   "source": [
    "c = 'FAMI_TELEFONO_FIJO'\n",
    "print(data_2016[c].value_counts().sort_index().index)\n",
    "print(data_2016[c].value_counts().sort_index())\n",
    "print(missing_data(data_2016[c]))"
   ]
  },
  {
   "cell_type": "code",
   "execution_count": null,
   "metadata": {
    "collapsed": true
   },
   "outputs": [],
   "source": [
    "c = 'FAMI_INTERNET'\n",
    "print(data_2016[c].value_counts().sort_index().index)\n",
    "print(data_2016[c].value_counts().sort_index())\n",
    "print(missing_data(data_2016[c]))"
   ]
  },
  {
   "cell_type": "code",
   "execution_count": null,
   "metadata": {
    "collapsed": true
   },
   "outputs": [],
   "source": [
    "c = 'FAMI_TELEVISOR'\n",
    "print(data_2016[c].value_counts().sort_index().index)\n",
    "print(data_2016[c].value_counts().sort_index())\n",
    "print(missing_data(data_2016[c]))"
   ]
  },
  {
   "cell_type": "code",
   "execution_count": null,
   "metadata": {
    "collapsed": true
   },
   "outputs": [],
   "source": [
    "c = 'FAMI_COMPUTADOR'\n",
    "print(data_2016[c].value_counts().sort_index().index)\n",
    "print(data_2016[c].value_counts().sort_index())\n",
    "print(missing_data(data_2016[c]))"
   ]
  },
  {
   "cell_type": "code",
   "execution_count": null,
   "metadata": {
    "collapsed": true
   },
   "outputs": [],
   "source": [
    "c = 'FAMI_DVD'\n",
    "print(data_2016[c].value_counts().sort_index().index)\n",
    "print(data_2016[c].value_counts().sort_index())\n",
    "print(missing_data(data_2016[c]))"
   ]
  },
  {
   "cell_type": "code",
   "execution_count": null,
   "metadata": {
    "collapsed": true
   },
   "outputs": [],
   "source": [
    "c = 'FAMI_LAVADORA'\n",
    "print(data_2016[c].value_counts().sort_index().index)\n",
    "print(data_2016[c].value_counts().sort_index())\n",
    "print(missing_data(data_2016[c]))"
   ]
  },
  {
   "cell_type": "code",
   "execution_count": null,
   "metadata": {
    "collapsed": true
   },
   "outputs": [],
   "source": [
    "c = 'FAMI_MICROONDAS'\n",
    "print(data_2016[c].value_counts().sort_index().index)\n",
    "print(data_2016[c].value_counts().sort_index())\n",
    "print(missing_data(data_2016[c]))"
   ]
  },
  {
   "cell_type": "code",
   "execution_count": null,
   "metadata": {
    "collapsed": true
   },
   "outputs": [],
   "source": [
    "c = 'FAMI_AUTOMOVIL'\n",
    "print(data_2016[c].value_counts().sort_index().index)\n",
    "print(data_2016[c].value_counts().sort_index())\n",
    "print(missing_data(data_2016[c]))"
   ]
  },
  {
   "cell_type": "code",
   "execution_count": null,
   "metadata": {
    "collapsed": true
   },
   "outputs": [],
   "source": [
    "c = 'FAMI_HORNO'\n",
    "print(data_2016[c].value_counts().sort_index().index)\n",
    "print(data_2016[c].value_counts().sort_index())\n",
    "print(missing_data(data_2016[c]))"
   ]
  },
  {
   "cell_type": "code",
   "execution_count": null,
   "metadata": {
    "collapsed": true
   },
   "outputs": [],
   "source": [
    "c = 'FAMI_INGRESO_FMILIAR_MENSUAL'\n",
    "print(data_2016[c].value_counts().sort_index().index)\n",
    "print(data_2016[c].value_counts().sort_index())\n",
    "print(missing_data(data_2016[c]))"
   ]
  },
  {
   "cell_type": "code",
   "execution_count": null,
   "metadata": {
    "collapsed": true
   },
   "outputs": [],
   "source": [
    "c = 'ESTU_TRABAJA'\n",
    "print(data_2016[c].value_counts().sort_index().index)\n",
    "print(data_2016[c].value_counts().sort_index())\n",
    "print(missing_data(data_2016[c]))"
   ]
  },
  {
   "cell_type": "code",
   "execution_count": null,
   "metadata": {
    "collapsed": true
   },
   "outputs": [],
   "source": [
    "c = 'ESTU_RECIBE_SALARIO'\n",
    "print(data_2016[c].value_counts().sort_index().index)\n",
    "print(data_2016[c].value_counts().sort_index())\n",
    "print(missing_data(data_2016[c]))"
   ]
  },
  {
   "cell_type": "code",
   "execution_count": null,
   "metadata": {
    "collapsed": true
   },
   "outputs": [],
   "source": [
    "c = 'ESTU_VECES_ESTADO_ESTUDIANTIL'\n",
    "print(data_2016[c].value_counts().sort_index().index)\n",
    "print(data_2016[c].value_counts().sort_index())\n",
    "print(missing_data(data_2016[c]))"
   ]
  },
  {
   "cell_type": "code",
   "execution_count": null,
   "metadata": {
    "collapsed": true
   },
   "outputs": [],
   "source": [
    "c = 'PUNT_LECTURA_CRITICA'\n",
    "print(data_2016[c].value_counts().sort_index().index)\n",
    "print(data_2016[c].value_counts().sort_index())\n",
    "print(missing_data(data_2016[c]))"
   ]
  },
  {
   "cell_type": "code",
   "execution_count": null,
   "metadata": {
    "collapsed": true
   },
   "outputs": [],
   "source": [
    "c = 'PUNT_MATEMATICAS'\n",
    "print(data_2016[c].value_counts().sort_index().index)\n",
    "print(data_2016[c].value_counts().sort_index())\n",
    "print(missing_data(data_2016[c]))"
   ]
  },
  {
   "cell_type": "code",
   "execution_count": null,
   "metadata": {
    "collapsed": true
   },
   "outputs": [],
   "source": [
    "c = 'PUNT_C_NATURALES'\n",
    "print(data_2016[c].value_counts().sort_index().index)\n",
    "print(data_2016[c].value_counts().sort_index())\n",
    "print(missing_data(data_2016[c]))"
   ]
  },
  {
   "cell_type": "code",
   "execution_count": null,
   "metadata": {
    "collapsed": true
   },
   "outputs": [],
   "source": [
    "c = 'PUNT_SOCIALES_CIUDADANAS'\n",
    "print(data_2016[c].value_counts().sort_index().index)\n",
    "print(data_2016[c].value_counts().sort_index())\n",
    "print(missing_data(data_2016[c]))"
   ]
  },
  {
   "cell_type": "code",
   "execution_count": null,
   "metadata": {
    "collapsed": true
   },
   "outputs": [],
   "source": [
    "c = 'PUNT_INGLES'\n",
    "print(data_2016[c].value_counts().sort_index().index)\n",
    "print(data_2016[c].value_counts().sort_index())\n",
    "print(missing_data(data_2016[c]))"
   ]
  },
  {
   "cell_type": "code",
   "execution_count": null,
   "metadata": {
    "collapsed": true
   },
   "outputs": [],
   "source": [
    "c = 'DESEMP_INGLES'\n",
    "print(data_2016[c].value_counts().sort_index().index)\n",
    "print(data_2016[c].value_counts().sort_index())\n",
    "print(missing_data(data_2016[c]))"
   ]
  },
  {
   "cell_type": "markdown",
   "metadata": {},
   "source": [
    "___"
   ]
  },
  {
   "cell_type": "markdown",
   "metadata": {},
   "source": [
    "___"
   ]
  },
  {
   "cell_type": "markdown",
   "metadata": {},
   "source": [
    "___"
   ]
  },
  {
   "cell_type": "markdown",
   "metadata": {},
   "source": [
    "___"
   ]
  },
  {
   "cell_type": "markdown",
   "metadata": {},
   "source": [
    "___"
   ]
  },
  {
   "cell_type": "markdown",
   "metadata": {},
   "source": [
    "# YEAR 2016, Semester 1, V3"
   ]
  },
  {
   "cell_type": "code",
   "execution_count": 2,
   "metadata": {
    "collapsed": false
   },
   "outputs": [
    {
     "name": "stderr",
     "output_type": "stream",
     "text": [
      "/usr/local/lib/python3.4/dist-packages/IPython/core/interactiveshell.py:2902: DtypeWarning: Columns (11,12,13,14) have mixed types. Specify dtype option on import or set low_memory=False.\n",
      "  interactivity=interactivity, compiler=compiler, result=result)\n"
     ]
    }
   ],
   "source": [
    "data_2016_1_V2 = pd.read_csv('../DatosFTPICFES/SABER11/SB11-BASES_DE_DATOS/SB11-20161-RGSTRO-CLFCCN-V3-0.txt', delimiter = '|')"
   ]
  },
  {
   "cell_type": "code",
   "execution_count": 3,
   "metadata": {
    "collapsed": false
   },
   "outputs": [
    {
     "data": {
      "text/plain": [
       "(74127, 83)"
      ]
     },
     "execution_count": 3,
     "metadata": {},
     "output_type": "execute_result"
    }
   ],
   "source": [
    "data_2016_1_V2.shape"
   ]
  },
  {
   "cell_type": "code",
   "execution_count": null,
   "metadata": {
    "collapsed": true
   },
   "outputs": [],
   "source": [
    "c = 'PERIODO'\n",
    "print(data_2016_1_V2[c].value_counts().sort_index().index)\n",
    "print(data_2016_1_V2[c].value_counts().sort_index())\n",
    "print(missing_data(data_2016_1_V2[c]))"
   ]
  },
  {
   "cell_type": "code",
   "execution_count": null,
   "metadata": {
    "collapsed": true
   },
   "outputs": [],
   "source": [
    "c = 'ESTU_CONSECUTIVO'\n",
    "print(data_2016_1_V2[c].value_counts().sort_index().index)\n",
    "print(data_2016_1_V2[c].value_counts().sort_index())\n",
    "print(missing_data(data_2016_1_V2[c]))"
   ]
  },
  {
   "cell_type": "code",
   "execution_count": null,
   "metadata": {
    "collapsed": true
   },
   "outputs": [],
   "source": [
    "c = 'ESTU_ESTUDIANTE'\n",
    "print(data_2016_1_V2[c].value_counts().sort_index().index)\n",
    "print(data_2016_1_V2[c].value_counts().sort_index())\n",
    "print(missing_data(data_2016_1_V2[c]))"
   ]
  },
  {
   "cell_type": "code",
   "execution_count": null,
   "metadata": {
    "collapsed": true
   },
   "outputs": [],
   "source": [
    "c = 'ESTU_EDAD'\n",
    "print(data_2016_1_V2[c].value_counts().sort_index().index)\n",
    "print(data_2016_1_V2[c].value_counts().sort_index())\n",
    "print(missing_data(data_2016_1_V2[c]))"
   ]
  },
  {
   "cell_type": "code",
   "execution_count": null,
   "metadata": {
    "collapsed": true
   },
   "outputs": [],
   "source": [
    "c = 'ESTU_TIPO_DOCUMENTO'\n",
    "print(data_2016_1_V2[c].value_counts().sort_index().index)\n",
    "print(data_2016_1_V2[c].value_counts().sort_index())\n",
    "print(missing_data(data_2016_1_V2[c]))"
   ]
  },
  {
   "cell_type": "code",
   "execution_count": null,
   "metadata": {
    "collapsed": true
   },
   "outputs": [],
   "source": [
    "c = 'ESTU_PAIS_RESIDE'\n",
    "print(data_2016_1_V2[c].value_counts().sort_index().index)\n",
    "print(data_2016_1_V2[c].value_counts().sort_index())\n",
    "print(missing_data(data_2016_1_V2[c]))"
   ]
  },
  {
   "cell_type": "code",
   "execution_count": null,
   "metadata": {
    "collapsed": true
   },
   "outputs": [],
   "source": [
    "c = 'ESTU_GENERO'\n",
    "print(data_2016_1_V2[c].value_counts().sort_index().index)\n",
    "print(data_2016_1_V2[c].value_counts().sort_index())\n",
    "print(missing_data(data_2016_1_V2[c]))"
   ]
  },
  {
   "cell_type": "code",
   "execution_count": null,
   "metadata": {
    "collapsed": true
   },
   "outputs": [],
   "source": [
    "c = 'ESTU_FECHA_NACIMIENTO'\n",
    "print(data_2016_1_V2[c].value_counts().sort_index().index)\n",
    "print(data_2016_1_V2[c].value_counts().sort_index())\n",
    "print(missing_data(data_2016_1_V2[c]))"
   ]
  },
  {
   "cell_type": "code",
   "execution_count": null,
   "metadata": {
    "collapsed": true
   },
   "outputs": [],
   "source": [
    "c = 'ESTU_ETNIA'\n",
    "print(data_2016_1_V2[c].value_counts().sort_index().index)\n",
    "print(data_2016_1_V2[c].value_counts().sort_index())\n",
    "print(missing_data(data_2016_1_V2[c]))"
   ]
  },
  {
   "cell_type": "code",
   "execution_count": null,
   "metadata": {
    "collapsed": true
   },
   "outputs": [],
   "source": [
    "c = 'ESTU_LIMITA_MOTRIZ'\n",
    "print(data_2016_1_V2[c].value_counts().sort_index().index)\n",
    "print(data_2016_1_V2[c].value_counts().sort_index())\n",
    "print(missing_data(data_2016_1_V2[c]))"
   ]
  },
  {
   "cell_type": "code",
   "execution_count": null,
   "metadata": {
    "collapsed": true
   },
   "outputs": [],
   "source": [
    "c = 'ESTU_LIMITA_INVIDENTE'\n",
    "print(data_2016_1_V2[c].value_counts().sort_index().index)\n",
    "print(data_2016_1_V2[c].value_counts().sort_index())\n",
    "print(missing_data(data_2016_1_V2[c]))"
   ]
  },
  {
   "cell_type": "code",
   "execution_count": null,
   "metadata": {
    "collapsed": true
   },
   "outputs": [],
   "source": [
    "c = 'ESTU_LIMITA_CONDICIONESPECIAL'\n",
    "print(data_2016_1_V2[c].value_counts().sort_index().index)\n",
    "print(data_2016_1_V2[c].value_counts().sort_index())\n",
    "print(missing_data(data_2016_1_V2[c]))"
   ]
  },
  {
   "cell_type": "code",
   "execution_count": null,
   "metadata": {
    "collapsed": true
   },
   "outputs": [],
   "source": [
    "c = 'ESTU_LIMITA_SORDO'\n",
    "print(data_2016_1_V2[c].value_counts().sort_index().index)\n",
    "print(data_2016_1_V2[c].value_counts().sort_index())\n",
    "print(missing_data(data_2016_1_V2[c]))"
   ]
  },
  {
   "cell_type": "code",
   "execution_count": null,
   "metadata": {
    "collapsed": true
   },
   "outputs": [],
   "source": [
    "c = 'ESTU_LIMITA_SDOWN'\n",
    "print(data_2016_1_V2[c].value_counts().sort_index().index)\n",
    "print(data_2016_1_V2[c].value_counts().sort_index())\n",
    "print(missing_data(data_2016_1_V2[c]))"
   ]
  },
  {
   "cell_type": "code",
   "execution_count": null,
   "metadata": {
    "collapsed": true
   },
   "outputs": [],
   "source": [
    "c = 'ESTU_LIMITA_AUTISMO'\n",
    "print(data_2016_1_V2[c].value_counts().sort_index().index)\n",
    "print(data_2016_1_V2[c].value_counts().sort_index())\n",
    "print(missing_data(data_2016_1_V2[c]))"
   ]
  },
  {
   "cell_type": "code",
   "execution_count": null,
   "metadata": {
    "collapsed": true
   },
   "outputs": [],
   "source": [
    "c = 'ESTU_AREA_RESIDE'\n",
    "print(data_2016_1_V2[c].value_counts().sort_index().index)\n",
    "print(data_2016_1_V2[c].value_counts().sort_index())\n",
    "print(missing_data(data_2016_1_V2[c]))"
   ]
  },
  {
   "cell_type": "code",
   "execution_count": null,
   "metadata": {
    "collapsed": true
   },
   "outputs": [],
   "source": [
    "c = 'COLE_COD_MCPIO_UBICACION'\n",
    "print(data_2016_1_V2[c].value_counts().sort_index().index)\n",
    "print(data_2016_1_V2[c].value_counts().sort_index())\n",
    "print(missing_data(data_2016_1_V2[c]))"
   ]
  },
  {
   "cell_type": "code",
   "execution_count": null,
   "metadata": {
    "collapsed": true
   },
   "outputs": [],
   "source": [
    "c = 'ESTU_RESIDE_MCPIO'\n",
    "print(data_2016_1_V2[c].value_counts().sort_index().index)\n",
    "print(data_2016_1_V2[c].value_counts().sort_index())\n",
    "print(missing_data(data_2016_1_V2[c]))"
   ]
  },
  {
   "cell_type": "code",
   "execution_count": null,
   "metadata": {
    "collapsed": true
   },
   "outputs": [],
   "source": [
    "c = 'ESTU_COD_RESIDE_DEPTO'\n",
    "print(data_2016_1_V2[c].value_counts().sort_index().index)\n",
    "print(data_2016_1_V2[c].value_counts().sort_index())\n",
    "print(missing_data(data_2016_1_V2[c]))"
   ]
  },
  {
   "cell_type": "code",
   "execution_count": null,
   "metadata": {
    "collapsed": true
   },
   "outputs": [],
   "source": [
    "c = 'ESTU_RESIDE_DEPTO'\n",
    "print(data_2016_1_V2[c].value_counts().sort_index().index)\n",
    "print(data_2016_1_V2[c].value_counts().sort_index())\n",
    "print(missing_data(data_2016_1_V2[c]))"
   ]
  },
  {
   "cell_type": "code",
   "execution_count": null,
   "metadata": {
    "collapsed": true
   },
   "outputs": [],
   "source": [
    "c = 'ESTU_COD_RESIDE_MCPIO'\n",
    "print(data_2016_1_V2[c].value_counts().sort_index().index)\n",
    "print(data_2016_1_V2[c].value_counts().sort_index())\n",
    "print(missing_data(data_2016_1_V2[c]))"
   ]
  },
  {
   "cell_type": "code",
   "execution_count": null,
   "metadata": {
    "collapsed": true
   },
   "outputs": [],
   "source": [
    "c = 'ESTU_ZONA_RESIDE'\n",
    "print(data_2016_1_V2[c].value_counts().sort_index().index)\n",
    "print(data_2016_1_V2[c].value_counts().sort_index())\n",
    "print(missing_data(data_2016_1_V2[c]))"
   ]
  },
  {
   "cell_type": "code",
   "execution_count": null,
   "metadata": {
    "collapsed": true
   },
   "outputs": [],
   "source": [
    "c = 'COLE_COD_DANE_INSTITUCION'\n",
    "print(data_2016_1_V2[c].value_counts().sort_index().index)\n",
    "print(data_2016_1_V2[c].value_counts().sort_index())\n",
    "print(missing_data(data_2016_1_V2[c]))"
   ]
  },
  {
   "cell_type": "code",
   "execution_count": null,
   "metadata": {
    "collapsed": true
   },
   "outputs": [],
   "source": [
    "c = 'COLE_COD_ICFES'\n",
    "print(data_2016_1_V2[c].value_counts().sort_index().index)\n",
    "print(data_2016_1_V2[c].value_counts().sort_index())\n",
    "print(missing_data(data_2016_1_V2[c]))"
   ]
  },
  {
   "cell_type": "code",
   "execution_count": null,
   "metadata": {
    "collapsed": true
   },
   "outputs": [],
   "source": [
    "c = 'COLE_NOMBRE_SEDE'\n",
    "print(data_2016_1_V2[c].value_counts().sort_index().index)\n",
    "print(data_2016_1_V2[c].value_counts().sort_index())\n",
    "print(missing_data(data_2016_1_V2[c]))"
   ]
  },
  {
   "cell_type": "code",
   "execution_count": null,
   "metadata": {
    "collapsed": true
   },
   "outputs": [],
   "source": [
    "c = 'COLE_JORNADA'\n",
    "print(data_2016_1_V2[c].value_counts().sort_index().index)\n",
    "print(data_2016_1_V2[c].value_counts().sort_index())\n",
    "print(missing_data(data_2016_1_V2[c]))"
   ]
  },
  {
   "cell_type": "code",
   "execution_count": null,
   "metadata": {
    "collapsed": true
   },
   "outputs": [],
   "source": [
    "c = 'COLE_GENERO'\n",
    "print(data_2016_1_V2[c].value_counts().sort_index().index)\n",
    "print(data_2016_1_V2[c].value_counts().sort_index())\n",
    "print(missing_data(data_2016_1_V2[c]))"
   ]
  },
  {
   "cell_type": "code",
   "execution_count": null,
   "metadata": {
    "collapsed": true
   },
   "outputs": [],
   "source": [
    "c = 'COLE_CARACTER'\n",
    "print(data_2016_1_V2[c].value_counts().sort_index().index)\n",
    "print(data_2016_1_V2[c].value_counts().sort_index())\n",
    "print(missing_data(data_2016_1_V2[c]))"
   ]
  },
  {
   "cell_type": "code",
   "execution_count": null,
   "metadata": {
    "collapsed": true
   },
   "outputs": [],
   "source": [
    "c = 'COLE_NATURALEZA'\n",
    "print(data_2016_1_V2[c].value_counts().sort_index().index)\n",
    "print(data_2016_1_V2[c].value_counts().sort_index())\n",
    "print(missing_data(data_2016_1_V2[c]))"
   ]
  },
  {
   "cell_type": "code",
   "execution_count": null,
   "metadata": {
    "collapsed": true
   },
   "outputs": [],
   "source": [
    "c = 'COLE_CALENDARIO'\n",
    "print(data_2016_1_V2[c].value_counts().sort_index().index)\n",
    "print(data_2016_1_V2[c].value_counts().sort_index())\n",
    "print(missing_data(data_2016_1_V2[c]))"
   ]
  },
  {
   "cell_type": "code",
   "execution_count": null,
   "metadata": {
    "collapsed": true
   },
   "outputs": [],
   "source": [
    "c = 'COLE_AREA_UBICACION'\n",
    "print(data_2016_1_V2[c].value_counts().sort_index().index)\n",
    "print(data_2016_1_V2[c].value_counts().sort_index())\n",
    "print(missing_data(data_2016_1_V2[c]))"
   ]
  },
  {
   "cell_type": "code",
   "execution_count": null,
   "metadata": {
    "collapsed": true
   },
   "outputs": [],
   "source": [
    "c = 'ESTU_PRIVADO_LIBERTAD'\n",
    "print(data_2016_1_V2[c].value_counts().sort_index().index)\n",
    "print(data_2016_1_V2[c].value_counts().sort_index())\n",
    "print(missing_data(data_2016_1_V2[c]))"
   ]
  },
  {
   "cell_type": "code",
   "execution_count": null,
   "metadata": {
    "collapsed": true
   },
   "outputs": [],
   "source": [
    "c = 'ESTU_ANO_TERMINO_BACHILL'\n",
    "print(data_2016_1_V2[c].value_counts().sort_index().index)\n",
    "print(data_2016_1_V2[c].value_counts().sort_index())\n",
    "print(missing_data(data_2016_1_V2[c]))"
   ]
  },
  {
   "cell_type": "code",
   "execution_count": null,
   "metadata": {
    "collapsed": true
   },
   "outputs": [],
   "source": [
    "c = 'ESTU_MES_TERMINO_BACHILL'\n",
    "print(data_2016_1_V2[c].value_counts().sort_index().index)\n",
    "print(data_2016_1_V2[c].value_counts().sort_index())\n",
    "print(missing_data(data_2016_1_V2[c]))"
   ]
  },
  {
   "cell_type": "code",
   "execution_count": null,
   "metadata": {
    "collapsed": true
   },
   "outputs": [],
   "source": [
    "c = 'ESTU_NUMERO_LIBROS'\n",
    "print(data_2016_1_V2[c].value_counts().sort_index().index)\n",
    "print(data_2016_1_V2[c].value_counts().sort_index())\n",
    "print(missing_data(data_2016_1_V2[c]))"
   ]
  },
  {
   "cell_type": "code",
   "execution_count": null,
   "metadata": {
    "collapsed": true
   },
   "outputs": [],
   "source": [
    "c = 'ESTU_OTRO_PLANTEL'\n",
    "print(data_2016_1_V2[c].value_counts().sort_index().index)\n",
    "print(data_2016_1_V2[c].value_counts().sort_index())\n",
    "print(missing_data(data_2016_1_V2[c]))"
   ]
  },
  {
   "cell_type": "code",
   "execution_count": null,
   "metadata": {
    "collapsed": true
   },
   "outputs": [],
   "source": [
    "c = 'ESTU_COD_OTRO_PAIS_PLANTEL'\n",
    "print(data_2016_1_V2[c].value_counts().sort_index().index)\n",
    "print(data_2016_1_V2[c].value_counts().sort_index())\n",
    "print(missing_data(data_2016_1_V2[c]))"
   ]
  },
  {
   "cell_type": "code",
   "execution_count": null,
   "metadata": {
    "collapsed": true
   },
   "outputs": [],
   "source": [
    "c = 'COLE_VALOR_PENSION'\n",
    "print(data_2016_1_V2[c].value_counts().sort_index().index)\n",
    "print(data_2016_1_V2[c].value_counts().sort_index())\n",
    "print(missing_data(data_2016_1_V2[c]))"
   ]
  },
  {
   "cell_type": "code",
   "execution_count": null,
   "metadata": {
    "collapsed": true
   },
   "outputs": [],
   "source": [
    "c = 'ESTU_VECES_ESTADO_ESTUDIANTIL'\n",
    "print(data_2016_1_V2[c].value_counts().sort_index().index)\n",
    "print(data_2016_1_V2[c].value_counts().sort_index())\n",
    "print(missing_data(data_2016_1_V2[c]))"
   ]
  },
  {
   "cell_type": "code",
   "execution_count": null,
   "metadata": {
    "collapsed": true
   },
   "outputs": [],
   "source": [
    "c = 'ESTU_COD_MCPIO_PRESENTACION'\n",
    "print(data_2016_1_V2[c].value_counts().sort_index().index)\n",
    "print(data_2016_1_V2[c].value_counts().sort_index())\n",
    "print(missing_data(data_2016_1_V2[c]))"
   ]
  },
  {
   "cell_type": "code",
   "execution_count": null,
   "metadata": {
    "collapsed": true
   },
   "outputs": [],
   "source": [
    "c = 'ESTU_MCPIO_PRESENTACION'\n",
    "print(data_2016_1_V2[c].value_counts().sort_index().index)\n",
    "print(data_2016_1_V2[c].value_counts().sort_index())\n",
    "print(missing_data(data_2016_1_V2[c]))"
   ]
  },
  {
   "cell_type": "code",
   "execution_count": null,
   "metadata": {
    "collapsed": true
   },
   "outputs": [],
   "source": [
    "c = 'ESTU_DEPTO_PRESENTACION'\n",
    "print(data_2016_1_V2[c].value_counts().sort_index().index)\n",
    "print(data_2016_1_V2[c].value_counts().sort_index())\n",
    "print(missing_data(data_2016_1_V2[c]))"
   ]
  },
  {
   "cell_type": "code",
   "execution_count": null,
   "metadata": {
    "collapsed": true
   },
   "outputs": [],
   "source": [
    "c = 'ESTU_COD_DEPTO_PRESENTACION'\n",
    "print(data_2016_1_V2[c].value_counts().sort_index().index)\n",
    "print(data_2016_1_V2[c].value_counts().sort_index())\n",
    "print(missing_data(data_2016_1_V2[c]))"
   ]
  },
  {
   "cell_type": "code",
   "execution_count": null,
   "metadata": {
    "collapsed": true
   },
   "outputs": [],
   "source": [
    "c = 'FAMI_EDUCA_PADRE'\n",
    "print(data_2016_1_V2[c].value_counts().sort_index().index)\n",
    "print(data_2016_1_V2[c].value_counts().sort_index())\n",
    "print(missing_data(data_2016_1_V2[c]))"
   ]
  },
  {
   "cell_type": "code",
   "execution_count": null,
   "metadata": {
    "collapsed": true
   },
   "outputs": [],
   "source": [
    "c = 'FAMI_EDUCA_MADRE'\n",
    "print(data_2016_1_V2[c].value_counts().sort_index().index)\n",
    "print(data_2016_1_V2[c].value_counts().sort_index())\n",
    "print(missing_data(data_2016_1_V2[c]))"
   ]
  },
  {
   "cell_type": "code",
   "execution_count": null,
   "metadata": {
    "collapsed": true
   },
   "outputs": [],
   "source": [
    "c = 'FAMI_OCUPA_PADRE'\n",
    "print(data_2016_1_V2[c].value_counts().sort_index().index)\n",
    "print(data_2016_1_V2[c].value_counts().sort_index())\n",
    "print(missing_data(data_2016_1_V2[c]))"
   ]
  },
  {
   "cell_type": "code",
   "execution_count": null,
   "metadata": {
    "collapsed": true
   },
   "outputs": [],
   "source": [
    "c = 'FAMI_OCUPA_MADRE'\n",
    "print(data_2016_1_V2[c].value_counts().sort_index().index)\n",
    "print(data_2016_1_V2[c].value_counts().sort_index())\n",
    "print(missing_data(data_2016_1_V2[c]))"
   ]
  },
  {
   "cell_type": "code",
   "execution_count": null,
   "metadata": {
    "collapsed": true
   },
   "outputs": [],
   "source": [
    "c = 'FAMI_NUM_HERMANOS'\n",
    "print(data_2016_1_V2[c].value_counts().sort_index().index)\n",
    "print(data_2016_1_V2[c].value_counts().sort_index())\n",
    "print(missing_data(data_2016_1_V2[c]))"
   ]
  },
  {
   "cell_type": "code",
   "execution_count": null,
   "metadata": {
    "collapsed": true
   },
   "outputs": [],
   "source": [
    "c = 'FAMI_ESTRATO_VIVIENDA'\n",
    "print(data_2016_1_V2[c].value_counts().sort_index().index)\n",
    "print(data_2016_1_V2[c].value_counts().sort_index())\n",
    "print(missing_data(data_2016_1_V2[c]))"
   ]
  },
  {
   "cell_type": "code",
   "execution_count": null,
   "metadata": {
    "collapsed": true
   },
   "outputs": [],
   "source": [
    "c = 'FAMI_NIVEL_SISBEN'\n",
    "print(data_2016_1_V2[c].value_counts().sort_index().index)\n",
    "print(data_2016_1_V2[c].value_counts().sort_index())\n",
    "print(missing_data(data_2016_1_V2[c]))"
   ]
  },
  {
   "cell_type": "code",
   "execution_count": null,
   "metadata": {
    "collapsed": true
   },
   "outputs": [],
   "source": [
    "c = 'FAMI_PERSONAS_HOGAR'\n",
    "print(data_2016_1_V2[c].value_counts().sort_index().index)\n",
    "print(data_2016_1_V2[c].value_counts().sort_index())\n",
    "print(missing_data(data_2016_1_V2[c]))"
   ]
  },
  {
   "cell_type": "code",
   "execution_count": null,
   "metadata": {
    "collapsed": true
   },
   "outputs": [],
   "source": [
    "c = 'FAMI_CUARTOS_HOGAR'\n",
    "print(data_2016_1_V2[c].value_counts().sort_index().index)\n",
    "print(data_2016_1_V2[c].value_counts().sort_index())\n",
    "print(missing_data(data_2016_1_V2[c]))"
   ]
  },
  {
   "cell_type": "code",
   "execution_count": null,
   "metadata": {
    "collapsed": true
   },
   "outputs": [],
   "source": [
    "c = 'FAMI_PISOSHOGAR'\n",
    "print(data_2016_1_V2[c].value_counts().sort_index().index)\n",
    "print(data_2016_1_V2[c].value_counts().sort_index())\n",
    "print(missing_data(data_2016_1_V2[c]))"
   ]
  },
  {
   "cell_type": "code",
   "execution_count": null,
   "metadata": {
    "collapsed": true
   },
   "outputs": [],
   "source": [
    "c = 'FAMI_TELEFONO_FIJO'\n",
    "print(data_2016_1_V2[c].value_counts().sort_index().index)\n",
    "print(data_2016_1_V2[c].value_counts().sort_index())\n",
    "print(missing_data(data_2016_1_V2[c]))"
   ]
  },
  {
   "cell_type": "code",
   "execution_count": null,
   "metadata": {
    "collapsed": true
   },
   "outputs": [],
   "source": [
    "c = 'FAMI_INTERNET'\n",
    "print(data_2016_1_V2[c].value_counts().sort_index().index)\n",
    "print(data_2016_1_V2[c].value_counts().sort_index())\n",
    "print(missing_data(data_2016_1_V2[c]))"
   ]
  },
  {
   "cell_type": "code",
   "execution_count": null,
   "metadata": {
    "collapsed": true
   },
   "outputs": [],
   "source": [
    "c = 'FAMI_SERVICIO_TELEVISION'\n",
    "print(data_2016_1_V2[c].value_counts().sort_index().index)\n",
    "print(data_2016_1_V2[c].value_counts().sort_index())\n",
    "print(missing_data(data_2016_1_V2[c]))"
   ]
  },
  {
   "cell_type": "code",
   "execution_count": null,
   "metadata": {
    "collapsed": true
   },
   "outputs": [],
   "source": [
    "c = 'FAMI_COMPUTADOR'\n",
    "print(data_2016_1_V2[c].value_counts().sort_index().index)\n",
    "print(data_2016_1_V2[c].value_counts().sort_index())\n",
    "print(missing_data(data_2016_1_V2[c]))"
   ]
  },
  {
   "cell_type": "code",
   "execution_count": null,
   "metadata": {
    "collapsed": true
   },
   "outputs": [],
   "source": [
    "c = 'FAMI_DVD'\n",
    "print(data_2016_1_V2[c].value_counts().sort_index().index)\n",
    "print(data_2016_1_V2[c].value_counts().sort_index())\n",
    "print(missing_data(data_2016_1_V2[c]))"
   ]
  },
  {
   "cell_type": "code",
   "execution_count": null,
   "metadata": {
    "collapsed": true
   },
   "outputs": [],
   "source": [
    "c = 'FAMI_LAVADORA'\n",
    "print(data_2016_1_V2[c].value_counts().sort_index().index)\n",
    "print(data_2016_1_V2[c].value_counts().sort_index())\n",
    "print(missing_data(data_2016_1_V2[c]))"
   ]
  },
  {
   "cell_type": "code",
   "execution_count": null,
   "metadata": {
    "collapsed": true
   },
   "outputs": [],
   "source": [
    "c = 'FAMI_MICROONDAS'\n",
    "print(data_2016_1_V2[c].value_counts().sort_index().index)\n",
    "print(data_2016_1_V2[c].value_counts().sort_index())\n",
    "print(missing_data(data_2016_1_V2[c]))"
   ]
  },
  {
   "cell_type": "code",
   "execution_count": null,
   "metadata": {
    "collapsed": true
   },
   "outputs": [],
   "source": [
    "c = 'FAMI_AUTOMOVIL'\n",
    "print(data_2016_1_V2[c].value_counts().sort_index().index)\n",
    "print(data_2016_1_V2[c].value_counts().sort_index())\n",
    "print(missing_data(data_2016_1_V2[c]))"
   ]
  },
  {
   "cell_type": "code",
   "execution_count": null,
   "metadata": {
    "collapsed": true
   },
   "outputs": [],
   "source": [
    "c = 'FAMI_HORNO'\n",
    "print(data_2016_1_V2[c].value_counts().sort_index().index)\n",
    "print(data_2016_1_V2[c].value_counts().sort_index())\n",
    "print(missing_data(data_2016_1_V2[c]))"
   ]
  },
  {
   "cell_type": "code",
   "execution_count": null,
   "metadata": {
    "collapsed": true
   },
   "outputs": [],
   "source": [
    "c = 'FAMI_INGRESO_FMILIAR_MENSUAL'\n",
    "print(data_2016_1_V2[c].value_counts().sort_index().index)\n",
    "print(data_2016_1_V2[c].value_counts().sort_index())\n",
    "print(missing_data(data_2016_1_V2[c]))"
   ]
  },
  {
   "cell_type": "code",
   "execution_count": null,
   "metadata": {
    "collapsed": true
   },
   "outputs": [],
   "source": [
    "c = 'ESTU_TRABAJA'\n",
    "print(data_2016_1_V2[c].value_counts().sort_index().index)\n",
    "print(data_2016_1_V2[c].value_counts().sort_index())\n",
    "print(missing_data(data_2016_1_V2[c]))"
   ]
  },
  {
   "cell_type": "code",
   "execution_count": null,
   "metadata": {
    "collapsed": true
   },
   "outputs": [],
   "source": [
    "c = 'ESTU_RECIBE_SALARIO'\n",
    "print(data_2016_1_V2[c].value_counts().sort_index().index)\n",
    "print(data_2016_1_V2[c].value_counts().sort_index())\n",
    "print(missing_data(data_2016_1_V2[c]))"
   ]
  },
  {
   "cell_type": "code",
   "execution_count": null,
   "metadata": {
    "collapsed": true
   },
   "outputs": [],
   "source": [
    "c = 'ESTU_VECES_ESTADO'\n",
    "print(data_2016_1_V2[c].value_counts().sort_index().index)\n",
    "print(data_2016_1_V2[c].value_counts().sort_index())\n",
    "print(missing_data(data_2016_1_V2[c]))"
   ]
  },
  {
   "cell_type": "code",
   "execution_count": null,
   "metadata": {
    "collapsed": true
   },
   "outputs": [],
   "source": [
    "c = 'PUNT_LECTURA_CRITICA'\n",
    "print(data_2016_1_V2[c].value_counts().sort_index().index)\n",
    "print(data_2016_1_V2[c].value_counts().sort_index())\n",
    "print(missing_data(data_2016_1_V2[c]))"
   ]
  },
  {
   "cell_type": "code",
   "execution_count": null,
   "metadata": {
    "collapsed": true
   },
   "outputs": [],
   "source": [
    "c = 'DESEMP_LECTURA_CRITICA'\n",
    "print(data_2016_1_V2[c].value_counts().sort_index().index)\n",
    "print(data_2016_1_V2[c].value_counts().sort_index())\n",
    "print(missing_data(data_2016_1_V2[c]))"
   ]
  },
  {
   "cell_type": "code",
   "execution_count": null,
   "metadata": {
    "collapsed": true
   },
   "outputs": [],
   "source": [
    "c = 'PERCENTIL_LECTURA_CRITICA'\n",
    "print(data_2016_1_V2[c].value_counts().sort_index().index)\n",
    "print(data_2016_1_V2[c].value_counts().sort_index())\n",
    "print(missing_data(data_2016_1_V2[c]))"
   ]
  },
  {
   "cell_type": "code",
   "execution_count": null,
   "metadata": {
    "collapsed": true
   },
   "outputs": [],
   "source": [
    "c = 'PUNT_MATEMATICAS'\n",
    "print(data_2016_1_V2[c].value_counts().sort_index().index)\n",
    "print(data_2016_1_V2[c].value_counts().sort_index())\n",
    "print(missing_data(data_2016_1_V2[c]))"
   ]
  },
  {
   "cell_type": "code",
   "execution_count": null,
   "metadata": {
    "collapsed": true
   },
   "outputs": [],
   "source": [
    "c = 'DESEMP_MATEMATICAS'\n",
    "print(data_2016_1_V2[c].value_counts().sort_index().index)\n",
    "print(data_2016_1_V2[c].value_counts().sort_index())\n",
    "print(missing_data(data_2016_1_V2[c]))"
   ]
  },
  {
   "cell_type": "code",
   "execution_count": null,
   "metadata": {
    "collapsed": true
   },
   "outputs": [],
   "source": [
    "c = 'PERCENTIL_MATEMATICAS'\n",
    "print(data_2016_1_V2[c].value_counts().sort_index().index)\n",
    "print(data_2016_1_V2[c].value_counts().sort_index())\n",
    "print(missing_data(data_2016_1_V2[c]))"
   ]
  },
  {
   "cell_type": "code",
   "execution_count": null,
   "metadata": {
    "collapsed": true
   },
   "outputs": [],
   "source": [
    "c = 'PUNT_C_NATURALES'\n",
    "print(data_2016_1_V2[c].value_counts().sort_index().index)\n",
    "print(data_2016_1_V2[c].value_counts().sort_index())\n",
    "print(missing_data(data_2016_1_V2[c]))"
   ]
  },
  {
   "cell_type": "code",
   "execution_count": null,
   "metadata": {
    "collapsed": true
   },
   "outputs": [],
   "source": [
    "c = 'DESEMP_C_NATURALES'\n",
    "print(data_2016_1_V2[c].value_counts().sort_index().index)\n",
    "print(data_2016_1_V2[c].value_counts().sort_index())\n",
    "print(missing_data(data_2016_1_V2[c]))"
   ]
  },
  {
   "cell_type": "code",
   "execution_count": null,
   "metadata": {
    "collapsed": true
   },
   "outputs": [],
   "source": [
    "c = 'PERCENTIL_C_NATURALES'\n",
    "print(data_2016_1_V2[c].value_counts().sort_index().index)\n",
    "print(data_2016_1_V2[c].value_counts().sort_index())\n",
    "print(missing_data(data_2016_1_V2[c]))"
   ]
  },
  {
   "cell_type": "code",
   "execution_count": null,
   "metadata": {
    "collapsed": true
   },
   "outputs": [],
   "source": [
    "c = 'PUNT_SOCIALES_CIUDADANAS'\n",
    "print(data_2016_1_V2[c].value_counts().sort_index().index)\n",
    "print(data_2016_1_V2[c].value_counts().sort_index())\n",
    "print(missing_data(data_2016_1_V2[c]))"
   ]
  },
  {
   "cell_type": "code",
   "execution_count": null,
   "metadata": {
    "collapsed": true
   },
   "outputs": [],
   "source": [
    "c = 'DESEMP_SOCIALES_CIUDADANAS'\n",
    "print(data_2016_1_V2[c].value_counts().sort_index().index)\n",
    "print(data_2016_1_V2[c].value_counts().sort_index())\n",
    "print(missing_data(data_2016_1_V2[c]))"
   ]
  },
  {
   "cell_type": "code",
   "execution_count": null,
   "metadata": {
    "collapsed": true
   },
   "outputs": [],
   "source": [
    "c = 'PERCENTIL_SOCIALES_CIUDADANAS'\n",
    "print(data_2016_1_V2[c].value_counts().sort_index().index)\n",
    "print(data_2016_1_V2[c].value_counts().sort_index())\n",
    "print(missing_data(data_2016_1_V2[c]))"
   ]
  },
  {
   "cell_type": "code",
   "execution_count": null,
   "metadata": {
    "collapsed": true
   },
   "outputs": [],
   "source": [
    "c = 'PUNT_INGLES'\n",
    "print(data_2016_1_V2[c].value_counts().sort_index().index)\n",
    "print(data_2016_1_V2[c].value_counts().sort_index())\n",
    "print(missing_data(data_2016_1_V2[c]))"
   ]
  },
  {
   "cell_type": "code",
   "execution_count": null,
   "metadata": {
    "collapsed": true
   },
   "outputs": [],
   "source": [
    "c = 'DESEMP_INGLES'\n",
    "print(data_2016_1_V2[c].value_counts().sort_index().index)\n",
    "print(data_2016_1_V2[c].value_counts().sort_index())\n",
    "print(missing_data(data_2016_1_V2[c]))"
   ]
  },
  {
   "cell_type": "code",
   "execution_count": null,
   "metadata": {
    "collapsed": true
   },
   "outputs": [],
   "source": [
    "c = 'PERCENTIL_INGLES'\n",
    "print(data_2016_1_V2[c].value_counts().sort_index().index)\n",
    "print(data_2016_1_V2[c].value_counts().sort_index())\n",
    "print(missing_data(data_2016_1_V2[c]))"
   ]
  },
  {
   "cell_type": "code",
   "execution_count": null,
   "metadata": {
    "collapsed": true
   },
   "outputs": [],
   "source": [
    "c = 'PUNT_GLOBAL'\n",
    "print(data_2016_1_V2[c].value_counts().sort_index().index)\n",
    "print(data_2016_1_V2[c].value_counts().sort_index())\n",
    "print(missing_data(data_2016_1_V2[c]))"
   ]
  },
  {
   "cell_type": "code",
   "execution_count": null,
   "metadata": {
    "collapsed": true
   },
   "outputs": [],
   "source": [
    "c = 'PERCENTIL_GLOBAL'\n",
    "print(data_2016_1_V2[c].value_counts().sort_index().index)\n",
    "print(data_2016_1_V2[c].value_counts().sort_index())\n",
    "print(missing_data(data_2016_1_V2[c]))"
   ]
  },
  {
   "cell_type": "markdown",
   "metadata": {},
   "source": [
    "___"
   ]
  },
  {
   "cell_type": "markdown",
   "metadata": {},
   "source": [
    "___"
   ]
  },
  {
   "cell_type": "markdown",
   "metadata": {},
   "source": [
    "___"
   ]
  },
  {
   "cell_type": "markdown",
   "metadata": {},
   "source": [
    "___"
   ]
  },
  {
   "cell_type": "markdown",
   "metadata": {},
   "source": [
    "# YEAR 2016, Semester 2"
   ]
  },
  {
   "cell_type": "code",
   "execution_count": 2,
   "metadata": {
    "collapsed": false
   },
   "outputs": [
    {
     "name": "stderr",
     "output_type": "stream",
     "text": [
      "/usr/local/lib/python3.4/dist-packages/IPython/core/interactiveshell.py:2902: DtypeWarning: Columns (10,11,12,13) have mixed types. Specify dtype option on import or set low_memory=False.\n",
      "  interactivity=interactivity, compiler=compiler, result=result)\n"
     ]
    }
   ],
   "source": [
    "data_2016_2 = pd.read_csv('../DatosFTPICFES/SABER11/SB11-BASES_DE_DATOS/SB11-20162-RGSTRO-CLFCCN-V1-0.txt', delimiter = '|')"
   ]
  },
  {
   "cell_type": "code",
   "execution_count": 3,
   "metadata": {
    "collapsed": false
   },
   "outputs": [
    {
     "data": {
      "text/plain": [
       "(605982, 81)"
      ]
     },
     "execution_count": 3,
     "metadata": {},
     "output_type": "execute_result"
    }
   ],
   "source": [
    "data_2016_2.shape"
   ]
  },
  {
   "cell_type": "code",
   "execution_count": 4,
   "metadata": {
    "collapsed": false,
    "scrolled": true
   },
   "outputs": [
    {
     "data": {
      "text/html": [
       "<div>\n",
       "<table border=\"1\" class=\"dataframe\">\n",
       "  <thead>\n",
       "    <tr style=\"text-align: right;\">\n",
       "      <th></th>\n",
       "      <th>0</th>\n",
       "      <th>1</th>\n",
       "      <th>2</th>\n",
       "    </tr>\n",
       "  </thead>\n",
       "  <tbody>\n",
       "    <tr>\n",
       "      <th>PERIODO</th>\n",
       "      <td>20162</td>\n",
       "      <td>20162</td>\n",
       "      <td>20162</td>\n",
       "    </tr>\n",
       "    <tr>\n",
       "      <th>ESTU_CONSECUTIVO</th>\n",
       "      <td>SABER1120162000001</td>\n",
       "      <td>SABER1120162000002</td>\n",
       "      <td>SABER1120162000003</td>\n",
       "    </tr>\n",
       "    <tr>\n",
       "      <th>ESTU_ESTUDIANTE</th>\n",
       "      <td>ESTUDIANTE</td>\n",
       "      <td>ESTUDIANTE</td>\n",
       "      <td>INDIVIDUAL</td>\n",
       "    </tr>\n",
       "    <tr>\n",
       "      <th>ESTU_EDAD</th>\n",
       "      <td>18</td>\n",
       "      <td>16</td>\n",
       "      <td>19</td>\n",
       "    </tr>\n",
       "    <tr>\n",
       "      <th>ESTU_TIPO_DOCUMENTO</th>\n",
       "      <td>CC</td>\n",
       "      <td>TI</td>\n",
       "      <td>CC</td>\n",
       "    </tr>\n",
       "    <tr>\n",
       "      <th>ESTU_PAIS_RESIDE</th>\n",
       "      <td>1</td>\n",
       "      <td>1</td>\n",
       "      <td>1</td>\n",
       "    </tr>\n",
       "    <tr>\n",
       "      <th>ESTU_GENERO</th>\n",
       "      <td>M</td>\n",
       "      <td>M</td>\n",
       "      <td>M</td>\n",
       "    </tr>\n",
       "    <tr>\n",
       "      <th>ESTU_FECHA_NACIMIENTO</th>\n",
       "      <td>25/03/1998</td>\n",
       "      <td>22/12/1999</td>\n",
       "      <td>29/10/1997</td>\n",
       "    </tr>\n",
       "    <tr>\n",
       "      <th>ESTU_ETNIA</th>\n",
       "      <td>NaN</td>\n",
       "      <td>NaN</td>\n",
       "      <td>NaN</td>\n",
       "    </tr>\n",
       "    <tr>\n",
       "      <th>ESTU_LIMITA_MOTRIZ</th>\n",
       "      <td>NaN</td>\n",
       "      <td>NaN</td>\n",
       "      <td>NaN</td>\n",
       "    </tr>\n",
       "    <tr>\n",
       "      <th>ESTU_LIMITA_INVIDENTE</th>\n",
       "      <td>NaN</td>\n",
       "      <td>NaN</td>\n",
       "      <td>NaN</td>\n",
       "    </tr>\n",
       "    <tr>\n",
       "      <th>ESTU_LIMITA_CONDICIONESPECIAL</th>\n",
       "      <td>NaN</td>\n",
       "      <td>NaN</td>\n",
       "      <td>NaN</td>\n",
       "    </tr>\n",
       "    <tr>\n",
       "      <th>ESTU_LIMITA_SORDO</th>\n",
       "      <td>NaN</td>\n",
       "      <td>NaN</td>\n",
       "      <td>NaN</td>\n",
       "    </tr>\n",
       "    <tr>\n",
       "      <th>ESTU_LIMITA_SDOWN</th>\n",
       "      <td>NaN</td>\n",
       "      <td>NaN</td>\n",
       "      <td>NaN</td>\n",
       "    </tr>\n",
       "    <tr>\n",
       "      <th>ESTU_LIMITA_AUTISMO</th>\n",
       "      <td>NaN</td>\n",
       "      <td>NaN</td>\n",
       "      <td>NaN</td>\n",
       "    </tr>\n",
       "    <tr>\n",
       "      <th>ESTU_AREA_RESIDE</th>\n",
       "      <td>R</td>\n",
       "      <td>R</td>\n",
       "      <td>U</td>\n",
       "    </tr>\n",
       "    <tr>\n",
       "      <th>COLE_COD_MCPIO_UBICACION</th>\n",
       "      <td>5380</td>\n",
       "      <td>5380</td>\n",
       "      <td>NaN</td>\n",
       "    </tr>\n",
       "    <tr>\n",
       "      <th>ESTU_RESIDE_MCPIO</th>\n",
       "      <td>LA ESTRELLA</td>\n",
       "      <td>LA ESTRELLA</td>\n",
       "      <td>BOGOTÁ D.C.</td>\n",
       "    </tr>\n",
       "    <tr>\n",
       "      <th>ESTU_COD_RESIDE_DEPTO</th>\n",
       "      <td>5</td>\n",
       "      <td>5</td>\n",
       "      <td>11</td>\n",
       "    </tr>\n",
       "    <tr>\n",
       "      <th>ESTU_RESIDE_DEPTO</th>\n",
       "      <td>ANTIOQUIA</td>\n",
       "      <td>ANTIOQUIA</td>\n",
       "      <td>BOGOTA</td>\n",
       "    </tr>\n",
       "    <tr>\n",
       "      <th>ESTU_COD_RESIDE_MCPIO</th>\n",
       "      <td>5380</td>\n",
       "      <td>5380</td>\n",
       "      <td>11001</td>\n",
       "    </tr>\n",
       "    <tr>\n",
       "      <th>ESTU_ZONA_RESIDE</th>\n",
       "      <td>10</td>\n",
       "      <td>10</td>\n",
       "      <td>5</td>\n",
       "    </tr>\n",
       "    <tr>\n",
       "      <th>COLE_COD_DANE_INSTITUCION</th>\n",
       "      <td>4.0538e+11</td>\n",
       "      <td>4.0538e+11</td>\n",
       "      <td>NaN</td>\n",
       "    </tr>\n",
       "    <tr>\n",
       "      <th>COLE_COD_ICFES</th>\n",
       "      <td>2204</td>\n",
       "      <td>2204</td>\n",
       "      <td>NaN</td>\n",
       "    </tr>\n",
       "    <tr>\n",
       "      <th>COLE_NOMBRE_SEDE</th>\n",
       "      <td>COLEGIO DIVINO SALVADOR( ANTES SEMINARIO DIVIN...</td>\n",
       "      <td>COLEGIO DIVINO SALVADOR( ANTES SEMINARIO DIVIN...</td>\n",
       "      <td>NaN</td>\n",
       "    </tr>\n",
       "    <tr>\n",
       "      <th>COLE_JORNADA</th>\n",
       "      <td>C</td>\n",
       "      <td>C</td>\n",
       "      <td>NaN</td>\n",
       "    </tr>\n",
       "    <tr>\n",
       "      <th>COLE_GENERO</th>\n",
       "      <td>MIXTO</td>\n",
       "      <td>MIXTO</td>\n",
       "      <td>NaN</td>\n",
       "    </tr>\n",
       "    <tr>\n",
       "      <th>COLE_CARACTER</th>\n",
       "      <td>ACADÉMICO</td>\n",
       "      <td>ACADÉMICO</td>\n",
       "      <td>NaN</td>\n",
       "    </tr>\n",
       "    <tr>\n",
       "      <th>COLE_NATURALEZA</th>\n",
       "      <td>NO OFICIAL</td>\n",
       "      <td>NO OFICIAL</td>\n",
       "      <td>OTRO</td>\n",
       "    </tr>\n",
       "    <tr>\n",
       "      <th>COLE_CALENDARIO</th>\n",
       "      <td>A</td>\n",
       "      <td>A</td>\n",
       "      <td>NaN</td>\n",
       "    </tr>\n",
       "    <tr>\n",
       "      <th>...</th>\n",
       "      <td>...</td>\n",
       "      <td>...</td>\n",
       "      <td>...</td>\n",
       "    </tr>\n",
       "    <tr>\n",
       "      <th>FAMI_PISOSHOGAR</th>\n",
       "      <td>4</td>\n",
       "      <td>4</td>\n",
       "      <td>4</td>\n",
       "    </tr>\n",
       "    <tr>\n",
       "      <th>FAMI_DVD</th>\n",
       "      <td>N</td>\n",
       "      <td>S</td>\n",
       "      <td>S</td>\n",
       "    </tr>\n",
       "    <tr>\n",
       "      <th>FAMI_TELEFONO_FIJO</th>\n",
       "      <td>S</td>\n",
       "      <td>S</td>\n",
       "      <td>S</td>\n",
       "    </tr>\n",
       "    <tr>\n",
       "      <th>FAMI_INTERNET</th>\n",
       "      <td>S</td>\n",
       "      <td>S</td>\n",
       "      <td>N</td>\n",
       "    </tr>\n",
       "    <tr>\n",
       "      <th>FAMI_SERVICIO_TELEVISION</th>\n",
       "      <td>S</td>\n",
       "      <td>S</td>\n",
       "      <td>S</td>\n",
       "    </tr>\n",
       "    <tr>\n",
       "      <th>FAMI_COMPUTADOR</th>\n",
       "      <td>S</td>\n",
       "      <td>S</td>\n",
       "      <td>S</td>\n",
       "    </tr>\n",
       "    <tr>\n",
       "      <th>FAMI_LAVADORA</th>\n",
       "      <td>S</td>\n",
       "      <td>S</td>\n",
       "      <td>S</td>\n",
       "    </tr>\n",
       "    <tr>\n",
       "      <th>FAMI_MICROONDAS</th>\n",
       "      <td>S</td>\n",
       "      <td>S</td>\n",
       "      <td>S</td>\n",
       "    </tr>\n",
       "    <tr>\n",
       "      <th>FAMI_HORNO</th>\n",
       "      <td>S</td>\n",
       "      <td>S</td>\n",
       "      <td>N</td>\n",
       "    </tr>\n",
       "    <tr>\n",
       "      <th>FAMI_AUTOMOVIL</th>\n",
       "      <td>N</td>\n",
       "      <td>S</td>\n",
       "      <td>N</td>\n",
       "    </tr>\n",
       "    <tr>\n",
       "      <th>ESTU_NUMERO_LIBROS</th>\n",
       "      <td>11 A 25 LIBROS</td>\n",
       "      <td>11 A 25 LIBROS</td>\n",
       "      <td>0 A 10 LIBROS</td>\n",
       "    </tr>\n",
       "    <tr>\n",
       "      <th>FAMI_INGRESO_FMILIAR_MENSUAL</th>\n",
       "      <td>3</td>\n",
       "      <td>6</td>\n",
       "      <td>3</td>\n",
       "    </tr>\n",
       "    <tr>\n",
       "      <th>ESTU_RECIBE_SALARIO</th>\n",
       "      <td>NaN</td>\n",
       "      <td>NaN</td>\n",
       "      <td>NaN</td>\n",
       "    </tr>\n",
       "    <tr>\n",
       "      <th>PUNT_LECTURA_CRITICA</th>\n",
       "      <td>66</td>\n",
       "      <td>60</td>\n",
       "      <td>45</td>\n",
       "    </tr>\n",
       "    <tr>\n",
       "      <th>PERCENTIL_LECTURA_CRITICA</th>\n",
       "      <td>92</td>\n",
       "      <td>76</td>\n",
       "      <td>25</td>\n",
       "    </tr>\n",
       "    <tr>\n",
       "      <th>DESEMP_LECTURA_CRITICA</th>\n",
       "      <td>4</td>\n",
       "      <td>3</td>\n",
       "      <td>2</td>\n",
       "    </tr>\n",
       "    <tr>\n",
       "      <th>PUNT_MATEMATICAS</th>\n",
       "      <td>64</td>\n",
       "      <td>58</td>\n",
       "      <td>40</td>\n",
       "    </tr>\n",
       "    <tr>\n",
       "      <th>PERCENTIL_MATEMATICAS</th>\n",
       "      <td>86</td>\n",
       "      <td>73</td>\n",
       "      <td>19</td>\n",
       "    </tr>\n",
       "    <tr>\n",
       "      <th>DESEMP_MATEMATICAS</th>\n",
       "      <td>3</td>\n",
       "      <td>3</td>\n",
       "      <td>2</td>\n",
       "    </tr>\n",
       "    <tr>\n",
       "      <th>PUNT_C_NATURALES</th>\n",
       "      <td>63</td>\n",
       "      <td>57</td>\n",
       "      <td>36</td>\n",
       "    </tr>\n",
       "    <tr>\n",
       "      <th>PERCENTIL_C_NATURALES</th>\n",
       "      <td>85</td>\n",
       "      <td>69</td>\n",
       "      <td>5</td>\n",
       "    </tr>\n",
       "    <tr>\n",
       "      <th>DESEMP_C_NATURALES</th>\n",
       "      <td>3</td>\n",
       "      <td>3</td>\n",
       "      <td>1</td>\n",
       "    </tr>\n",
       "    <tr>\n",
       "      <th>PUNT_SOCIALES_CIUDADANAS</th>\n",
       "      <td>63</td>\n",
       "      <td>51</td>\n",
       "      <td>36</td>\n",
       "    </tr>\n",
       "    <tr>\n",
       "      <th>PERCENTIL_SOCIALES_CIUDADANAS</th>\n",
       "      <td>88</td>\n",
       "      <td>53</td>\n",
       "      <td>9</td>\n",
       "    </tr>\n",
       "    <tr>\n",
       "      <th>DESEMP_SOCIALES_CIUDADANAS</th>\n",
       "      <td>3</td>\n",
       "      <td>2</td>\n",
       "      <td>1</td>\n",
       "    </tr>\n",
       "    <tr>\n",
       "      <th>PUNT_INGLES</th>\n",
       "      <td>51</td>\n",
       "      <td>67</td>\n",
       "      <td>0</td>\n",
       "    </tr>\n",
       "    <tr>\n",
       "      <th>PERCENTIL_INGLES</th>\n",
       "      <td>50</td>\n",
       "      <td>89</td>\n",
       "      <td>1</td>\n",
       "    </tr>\n",
       "    <tr>\n",
       "      <th>DESEMP_INGLES</th>\n",
       "      <td>A1</td>\n",
       "      <td>A2</td>\n",
       "      <td>A-</td>\n",
       "    </tr>\n",
       "    <tr>\n",
       "      <th>PUNT_GLOBAL</th>\n",
       "      <td>315</td>\n",
       "      <td>287</td>\n",
       "      <td>181</td>\n",
       "    </tr>\n",
       "    <tr>\n",
       "      <th>PERCENTIL_GLOBAL</th>\n",
       "      <td>88</td>\n",
       "      <td>73</td>\n",
       "      <td>5</td>\n",
       "    </tr>\n",
       "  </tbody>\n",
       "</table>\n",
       "<p>81 rows × 3 columns</p>\n",
       "</div>"
      ],
      "text/plain": [
       "                                                                               0  \\\n",
       "PERIODO                                                                    20162   \n",
       "ESTU_CONSECUTIVO                                              SABER1120162000001   \n",
       "ESTU_ESTUDIANTE                                                       ESTUDIANTE   \n",
       "ESTU_EDAD                                                                     18   \n",
       "ESTU_TIPO_DOCUMENTO                                                           CC   \n",
       "ESTU_PAIS_RESIDE                                                               1   \n",
       "ESTU_GENERO                                                                    M   \n",
       "ESTU_FECHA_NACIMIENTO                                                 25/03/1998   \n",
       "ESTU_ETNIA                                                                   NaN   \n",
       "ESTU_LIMITA_MOTRIZ                                                           NaN   \n",
       "ESTU_LIMITA_INVIDENTE                                                        NaN   \n",
       "ESTU_LIMITA_CONDICIONESPECIAL                                                NaN   \n",
       "ESTU_LIMITA_SORDO                                                            NaN   \n",
       "ESTU_LIMITA_SDOWN                                                            NaN   \n",
       "ESTU_LIMITA_AUTISMO                                                          NaN   \n",
       "ESTU_AREA_RESIDE                                                               R   \n",
       "COLE_COD_MCPIO_UBICACION                                                    5380   \n",
       "ESTU_RESIDE_MCPIO                                                    LA ESTRELLA   \n",
       "ESTU_COD_RESIDE_DEPTO                                                          5   \n",
       "ESTU_RESIDE_DEPTO                                                      ANTIOQUIA   \n",
       "ESTU_COD_RESIDE_MCPIO                                                       5380   \n",
       "ESTU_ZONA_RESIDE                                                              10   \n",
       "COLE_COD_DANE_INSTITUCION                                             4.0538e+11   \n",
       "COLE_COD_ICFES                                                              2204   \n",
       "COLE_NOMBRE_SEDE               COLEGIO DIVINO SALVADOR( ANTES SEMINARIO DIVIN...   \n",
       "COLE_JORNADA                                                                   C   \n",
       "COLE_GENERO                                                                MIXTO   \n",
       "COLE_CARACTER                                                          ACADÉMICO   \n",
       "COLE_NATURALEZA                                                       NO OFICIAL   \n",
       "COLE_CALENDARIO                                                                A   \n",
       "...                                                                          ...   \n",
       "FAMI_PISOSHOGAR                                                                4   \n",
       "FAMI_DVD                                                                       N   \n",
       "FAMI_TELEFONO_FIJO                                                             S   \n",
       "FAMI_INTERNET                                                                  S   \n",
       "FAMI_SERVICIO_TELEVISION                                                       S   \n",
       "FAMI_COMPUTADOR                                                                S   \n",
       "FAMI_LAVADORA                                                                  S   \n",
       "FAMI_MICROONDAS                                                                S   \n",
       "FAMI_HORNO                                                                     S   \n",
       "FAMI_AUTOMOVIL                                                                 N   \n",
       "ESTU_NUMERO_LIBROS                                                11 A 25 LIBROS   \n",
       "FAMI_INGRESO_FMILIAR_MENSUAL                                                   3   \n",
       "ESTU_RECIBE_SALARIO                                                          NaN   \n",
       "PUNT_LECTURA_CRITICA                                                          66   \n",
       "PERCENTIL_LECTURA_CRITICA                                                     92   \n",
       "DESEMP_LECTURA_CRITICA                                                         4   \n",
       "PUNT_MATEMATICAS                                                              64   \n",
       "PERCENTIL_MATEMATICAS                                                         86   \n",
       "DESEMP_MATEMATICAS                                                             3   \n",
       "PUNT_C_NATURALES                                                              63   \n",
       "PERCENTIL_C_NATURALES                                                         85   \n",
       "DESEMP_C_NATURALES                                                             3   \n",
       "PUNT_SOCIALES_CIUDADANAS                                                      63   \n",
       "PERCENTIL_SOCIALES_CIUDADANAS                                                 88   \n",
       "DESEMP_SOCIALES_CIUDADANAS                                                     3   \n",
       "PUNT_INGLES                                                                   51   \n",
       "PERCENTIL_INGLES                                                              50   \n",
       "DESEMP_INGLES                                                                 A1   \n",
       "PUNT_GLOBAL                                                                  315   \n",
       "PERCENTIL_GLOBAL                                                              88   \n",
       "\n",
       "                                                                               1  \\\n",
       "PERIODO                                                                    20162   \n",
       "ESTU_CONSECUTIVO                                              SABER1120162000002   \n",
       "ESTU_ESTUDIANTE                                                       ESTUDIANTE   \n",
       "ESTU_EDAD                                                                     16   \n",
       "ESTU_TIPO_DOCUMENTO                                                           TI   \n",
       "ESTU_PAIS_RESIDE                                                               1   \n",
       "ESTU_GENERO                                                                    M   \n",
       "ESTU_FECHA_NACIMIENTO                                                 22/12/1999   \n",
       "ESTU_ETNIA                                                                   NaN   \n",
       "ESTU_LIMITA_MOTRIZ                                                           NaN   \n",
       "ESTU_LIMITA_INVIDENTE                                                        NaN   \n",
       "ESTU_LIMITA_CONDICIONESPECIAL                                                NaN   \n",
       "ESTU_LIMITA_SORDO                                                            NaN   \n",
       "ESTU_LIMITA_SDOWN                                                            NaN   \n",
       "ESTU_LIMITA_AUTISMO                                                          NaN   \n",
       "ESTU_AREA_RESIDE                                                               R   \n",
       "COLE_COD_MCPIO_UBICACION                                                    5380   \n",
       "ESTU_RESIDE_MCPIO                                                    LA ESTRELLA   \n",
       "ESTU_COD_RESIDE_DEPTO                                                          5   \n",
       "ESTU_RESIDE_DEPTO                                                      ANTIOQUIA   \n",
       "ESTU_COD_RESIDE_MCPIO                                                       5380   \n",
       "ESTU_ZONA_RESIDE                                                              10   \n",
       "COLE_COD_DANE_INSTITUCION                                             4.0538e+11   \n",
       "COLE_COD_ICFES                                                              2204   \n",
       "COLE_NOMBRE_SEDE               COLEGIO DIVINO SALVADOR( ANTES SEMINARIO DIVIN...   \n",
       "COLE_JORNADA                                                                   C   \n",
       "COLE_GENERO                                                                MIXTO   \n",
       "COLE_CARACTER                                                          ACADÉMICO   \n",
       "COLE_NATURALEZA                                                       NO OFICIAL   \n",
       "COLE_CALENDARIO                                                                A   \n",
       "...                                                                          ...   \n",
       "FAMI_PISOSHOGAR                                                                4   \n",
       "FAMI_DVD                                                                       S   \n",
       "FAMI_TELEFONO_FIJO                                                             S   \n",
       "FAMI_INTERNET                                                                  S   \n",
       "FAMI_SERVICIO_TELEVISION                                                       S   \n",
       "FAMI_COMPUTADOR                                                                S   \n",
       "FAMI_LAVADORA                                                                  S   \n",
       "FAMI_MICROONDAS                                                                S   \n",
       "FAMI_HORNO                                                                     S   \n",
       "FAMI_AUTOMOVIL                                                                 S   \n",
       "ESTU_NUMERO_LIBROS                                                11 A 25 LIBROS   \n",
       "FAMI_INGRESO_FMILIAR_MENSUAL                                                   6   \n",
       "ESTU_RECIBE_SALARIO                                                          NaN   \n",
       "PUNT_LECTURA_CRITICA                                                          60   \n",
       "PERCENTIL_LECTURA_CRITICA                                                     76   \n",
       "DESEMP_LECTURA_CRITICA                                                         3   \n",
       "PUNT_MATEMATICAS                                                              58   \n",
       "PERCENTIL_MATEMATICAS                                                         73   \n",
       "DESEMP_MATEMATICAS                                                             3   \n",
       "PUNT_C_NATURALES                                                              57   \n",
       "PERCENTIL_C_NATURALES                                                         69   \n",
       "DESEMP_C_NATURALES                                                             3   \n",
       "PUNT_SOCIALES_CIUDADANAS                                                      51   \n",
       "PERCENTIL_SOCIALES_CIUDADANAS                                                 53   \n",
       "DESEMP_SOCIALES_CIUDADANAS                                                     2   \n",
       "PUNT_INGLES                                                                   67   \n",
       "PERCENTIL_INGLES                                                              89   \n",
       "DESEMP_INGLES                                                                 A2   \n",
       "PUNT_GLOBAL                                                                  287   \n",
       "PERCENTIL_GLOBAL                                                              73   \n",
       "\n",
       "                                                2  \n",
       "PERIODO                                     20162  \n",
       "ESTU_CONSECUTIVO               SABER1120162000003  \n",
       "ESTU_ESTUDIANTE                        INDIVIDUAL  \n",
       "ESTU_EDAD                                      19  \n",
       "ESTU_TIPO_DOCUMENTO                            CC  \n",
       "ESTU_PAIS_RESIDE                                1  \n",
       "ESTU_GENERO                                     M  \n",
       "ESTU_FECHA_NACIMIENTO                  29/10/1997  \n",
       "ESTU_ETNIA                                    NaN  \n",
       "ESTU_LIMITA_MOTRIZ                            NaN  \n",
       "ESTU_LIMITA_INVIDENTE                         NaN  \n",
       "ESTU_LIMITA_CONDICIONESPECIAL                 NaN  \n",
       "ESTU_LIMITA_SORDO                             NaN  \n",
       "ESTU_LIMITA_SDOWN                             NaN  \n",
       "ESTU_LIMITA_AUTISMO                           NaN  \n",
       "ESTU_AREA_RESIDE                                U  \n",
       "COLE_COD_MCPIO_UBICACION                      NaN  \n",
       "ESTU_RESIDE_MCPIO                     BOGOTÁ D.C.  \n",
       "ESTU_COD_RESIDE_DEPTO                          11  \n",
       "ESTU_RESIDE_DEPTO                          BOGOTA  \n",
       "ESTU_COD_RESIDE_MCPIO                       11001  \n",
       "ESTU_ZONA_RESIDE                                5  \n",
       "COLE_COD_DANE_INSTITUCION                     NaN  \n",
       "COLE_COD_ICFES                                NaN  \n",
       "COLE_NOMBRE_SEDE                              NaN  \n",
       "COLE_JORNADA                                  NaN  \n",
       "COLE_GENERO                                   NaN  \n",
       "COLE_CARACTER                                 NaN  \n",
       "COLE_NATURALEZA                              OTRO  \n",
       "COLE_CALENDARIO                               NaN  \n",
       "...                                           ...  \n",
       "FAMI_PISOSHOGAR                                 4  \n",
       "FAMI_DVD                                        S  \n",
       "FAMI_TELEFONO_FIJO                              S  \n",
       "FAMI_INTERNET                                   N  \n",
       "FAMI_SERVICIO_TELEVISION                        S  \n",
       "FAMI_COMPUTADOR                                 S  \n",
       "FAMI_LAVADORA                                   S  \n",
       "FAMI_MICROONDAS                                 S  \n",
       "FAMI_HORNO                                      N  \n",
       "FAMI_AUTOMOVIL                                  N  \n",
       "ESTU_NUMERO_LIBROS                  0 A 10 LIBROS  \n",
       "FAMI_INGRESO_FMILIAR_MENSUAL                    3  \n",
       "ESTU_RECIBE_SALARIO                           NaN  \n",
       "PUNT_LECTURA_CRITICA                           45  \n",
       "PERCENTIL_LECTURA_CRITICA                      25  \n",
       "DESEMP_LECTURA_CRITICA                          2  \n",
       "PUNT_MATEMATICAS                               40  \n",
       "PERCENTIL_MATEMATICAS                          19  \n",
       "DESEMP_MATEMATICAS                              2  \n",
       "PUNT_C_NATURALES                               36  \n",
       "PERCENTIL_C_NATURALES                           5  \n",
       "DESEMP_C_NATURALES                              1  \n",
       "PUNT_SOCIALES_CIUDADANAS                       36  \n",
       "PERCENTIL_SOCIALES_CIUDADANAS                   9  \n",
       "DESEMP_SOCIALES_CIUDADANAS                      1  \n",
       "PUNT_INGLES                                     0  \n",
       "PERCENTIL_INGLES                                1  \n",
       "DESEMP_INGLES                                  A-  \n",
       "PUNT_GLOBAL                                   181  \n",
       "PERCENTIL_GLOBAL                                5  \n",
       "\n",
       "[81 rows x 3 columns]"
      ]
     },
     "execution_count": 4,
     "metadata": {},
     "output_type": "execute_result"
    }
   ],
   "source": [
    "data_2016_2.head(3).T"
   ]
  },
  {
   "cell_type": "code",
   "execution_count": null,
   "metadata": {
    "collapsed": true
   },
   "outputs": [],
   "source": [
    "c = 'PERIODO'\n",
    "print(data_2016_2[c].value_counts().sort_index().index)\n",
    "print(data_2016_2[c].value_counts().sort_index())\n",
    "print(missing_data(data_2016_2[c]))"
   ]
  },
  {
   "cell_type": "code",
   "execution_count": null,
   "metadata": {
    "collapsed": true
   },
   "outputs": [],
   "source": [
    "c = 'ESTU_CONSECUTIVO'\n",
    "print(data_2016_2[c].value_counts().sort_index().index)\n",
    "print(data_2016_2[c].value_counts().sort_index())\n",
    "print(missing_data(data_2016_2[c]))"
   ]
  },
  {
   "cell_type": "code",
   "execution_count": null,
   "metadata": {
    "collapsed": true
   },
   "outputs": [],
   "source": [
    "c = 'ESTU_ESTUDIANTE'\n",
    "print(data_2016_2[c].value_counts().sort_index().index)\n",
    "print(data_2016_2[c].value_counts().sort_index())\n",
    "print(missing_data(data_2016_2[c]))"
   ]
  },
  {
   "cell_type": "code",
   "execution_count": null,
   "metadata": {
    "collapsed": true
   },
   "outputs": [],
   "source": [
    "c = 'ESTU_EDAD'\n",
    "print(data_2016_2[c].value_counts().sort_index().index)\n",
    "print(data_2016_2[c].value_counts().sort_index())\n",
    "print(missing_data(data_2016_2[c]))"
   ]
  },
  {
   "cell_type": "code",
   "execution_count": null,
   "metadata": {
    "collapsed": true
   },
   "outputs": [],
   "source": [
    "c = 'ESTU_TIPO_DOCUMENTO'\n",
    "print(data_2016_2[c].value_counts().sort_index().index)\n",
    "print(data_2016_2[c].value_counts().sort_index())\n",
    "print(missing_data(data_2016_2[c]))"
   ]
  },
  {
   "cell_type": "code",
   "execution_count": null,
   "metadata": {
    "collapsed": true
   },
   "outputs": [],
   "source": [
    "c = 'ESTU_PAIS_RESIDE'\n",
    "print(data_2016_2[c].value_counts().sort_index().index)\n",
    "print(data_2016_2[c].value_counts().sort_index())\n",
    "print(missing_data(data_2016_2[c]))"
   ]
  },
  {
   "cell_type": "code",
   "execution_count": null,
   "metadata": {
    "collapsed": true
   },
   "outputs": [],
   "source": [
    "c = 'ESTU_GENERO'\n",
    "print(data_2016_2[c].value_counts().sort_index().index)\n",
    "print(data_2016_2[c].value_counts().sort_index())\n",
    "print(missing_data(data_2016_2[c]))"
   ]
  },
  {
   "cell_type": "code",
   "execution_count": null,
   "metadata": {
    "collapsed": true
   },
   "outputs": [],
   "source": [
    "c = 'ESTU_FECHA_NACIMIENTO'\n",
    "print(data_2016_2[c].value_counts().sort_index().index)\n",
    "print(data_2016_2[c].value_counts().sort_index())\n",
    "print(missing_data(data_2016_2[c]))"
   ]
  },
  {
   "cell_type": "code",
   "execution_count": null,
   "metadata": {
    "collapsed": true
   },
   "outputs": [],
   "source": [
    "c = 'ESTU_ETNIA'\n",
    "print(data_2016_2[c].value_counts().sort_index().index)\n",
    "print(data_2016_2[c].value_counts().sort_index())\n",
    "print(missing_data(data_2016_2[c]))"
   ]
  },
  {
   "cell_type": "code",
   "execution_count": null,
   "metadata": {
    "collapsed": true
   },
   "outputs": [],
   "source": [
    "c = 'ESTU_LIMITA_MOTRIZ'\n",
    "print(data_2016_2[c].value_counts().sort_index().index)\n",
    "print(data_2016_2[c].value_counts().sort_index())\n",
    "print(missing_data(data_2016_2[c]))"
   ]
  },
  {
   "cell_type": "code",
   "execution_count": null,
   "metadata": {
    "collapsed": true
   },
   "outputs": [],
   "source": [
    "c = 'ESTU_LIMITA_INVIDENTE'\n",
    "print(data_2016_2[c].value_counts().sort_index().index)\n",
    "print(data_2016_2[c].value_counts().sort_index())\n",
    "print(missing_data(data_2016_2[c]))"
   ]
  },
  {
   "cell_type": "code",
   "execution_count": null,
   "metadata": {
    "collapsed": true
   },
   "outputs": [],
   "source": [
    "c = 'ESTU_LIMITA_CONDICIONESPECIAL'\n",
    "print(data_2016_2[c].value_counts().sort_index().index)\n",
    "print(data_2016_2[c].value_counts().sort_index())\n",
    "print(missing_data(data_2016_2[c]))"
   ]
  },
  {
   "cell_type": "code",
   "execution_count": null,
   "metadata": {
    "collapsed": true
   },
   "outputs": [],
   "source": [
    "c = 'ESTU_LIMITA_SORDO'\n",
    "print(data_2016_2[c].value_counts().sort_index().index)\n",
    "print(data_2016_2[c].value_counts().sort_index())\n",
    "print(missing_data(data_2016_2[c]))"
   ]
  },
  {
   "cell_type": "code",
   "execution_count": null,
   "metadata": {
    "collapsed": true
   },
   "outputs": [],
   "source": [
    "c = 'ESTU_LIMITA_SDOWN'\n",
    "print(data_2016_2[c].value_counts().sort_index().index)\n",
    "print(data_2016_2[c].value_counts().sort_index())\n",
    "print(missing_data(data_2016_2[c]))"
   ]
  },
  {
   "cell_type": "code",
   "execution_count": null,
   "metadata": {
    "collapsed": true
   },
   "outputs": [],
   "source": [
    "c = 'ESTU_LIMITA_AUTISMO'\n",
    "print(data_2016_2[c].value_counts().sort_index().index)\n",
    "print(data_2016_2[c].value_counts().sort_index())\n",
    "print(missing_data(data_2016_2[c]))"
   ]
  },
  {
   "cell_type": "code",
   "execution_count": null,
   "metadata": {
    "collapsed": true
   },
   "outputs": [],
   "source": [
    "c = 'ESTU_AREA_RESIDE'\n",
    "print(data_2016_2[c].value_counts().sort_index().index)\n",
    "print(data_2016_2[c].value_counts().sort_index())\n",
    "print(missing_data(data_2016_2[c]))"
   ]
  },
  {
   "cell_type": "code",
   "execution_count": null,
   "metadata": {
    "collapsed": true
   },
   "outputs": [],
   "source": [
    "c = 'COLE_COD_MCPIO_UBICACION'\n",
    "print(data_2016_2[c].value_counts().sort_index().index)\n",
    "print(data_2016_2[c].value_counts().sort_index())\n",
    "print(missing_data(data_2016_2[c]))"
   ]
  },
  {
   "cell_type": "code",
   "execution_count": null,
   "metadata": {
    "collapsed": true
   },
   "outputs": [],
   "source": [
    "c = 'ESTU_RESIDE_MCPIO'\n",
    "print(data_2016_2[c].value_counts().sort_index().index)\n",
    "print(data_2016_2[c].value_counts().sort_index())\n",
    "print(missing_data(data_2016_2[c]))"
   ]
  },
  {
   "cell_type": "code",
   "execution_count": null,
   "metadata": {
    "collapsed": true
   },
   "outputs": [],
   "source": [
    "c = 'ESTU_COD_RESIDE_DEPTO'\n",
    "print(data_2016_2[c].value_counts().sort_index().index)\n",
    "print(data_2016_2[c].value_counts().sort_index())\n",
    "print(missing_data(data_2016_2[c]))"
   ]
  },
  {
   "cell_type": "code",
   "execution_count": null,
   "metadata": {
    "collapsed": true
   },
   "outputs": [],
   "source": [
    "c = 'ESTU_RESIDE_DEPTO'\n",
    "print(data_2016_2[c].value_counts().sort_index().index)\n",
    "print(data_2016_2[c].value_counts().sort_index())\n",
    "print(missing_data(data_2016_2[c]))"
   ]
  },
  {
   "cell_type": "code",
   "execution_count": null,
   "metadata": {
    "collapsed": true
   },
   "outputs": [],
   "source": [
    "c = 'ESTU_COD_RESIDE_MCPIO'\n",
    "print(data_2016_2[c].value_counts().sort_index().index)\n",
    "print(data_2016_2[c].value_counts().sort_index())\n",
    "print(missing_data(data_2016_2[c]))"
   ]
  },
  {
   "cell_type": "code",
   "execution_count": null,
   "metadata": {
    "collapsed": true
   },
   "outputs": [],
   "source": [
    "c = 'ESTU_ZONA_RESIDE'\n",
    "print(data_2016_2[c].value_counts().sort_index().index)\n",
    "print(data_2016_2[c].value_counts().sort_index())\n",
    "print(missing_data(data_2016_2[c]))"
   ]
  },
  {
   "cell_type": "code",
   "execution_count": null,
   "metadata": {
    "collapsed": true
   },
   "outputs": [],
   "source": [
    "c = 'COLE_COD_DANE_INSTITUCION'\n",
    "print(data_2016_2[c].value_counts().sort_index().index)\n",
    "print(data_2016_2[c].value_counts().sort_index())\n",
    "print(missing_data(data_2016_2[c]))"
   ]
  },
  {
   "cell_type": "code",
   "execution_count": null,
   "metadata": {
    "collapsed": true
   },
   "outputs": [],
   "source": [
    "c = 'COLE_COD_ICFES'\n",
    "print(data_2016_2[c].value_counts().sort_index().index)\n",
    "print(data_2016_2[c].value_counts().sort_index())\n",
    "print(missing_data(data_2016_2[c]))"
   ]
  },
  {
   "cell_type": "code",
   "execution_count": null,
   "metadata": {
    "collapsed": true
   },
   "outputs": [],
   "source": [
    "c = 'COLE_NOMBRE_SEDE'\n",
    "print(data_2016_2[c].value_counts().sort_index().index)\n",
    "print(data_2016_2[c].value_counts().sort_index())\n",
    "print(missing_data(data_2016_2[c]))"
   ]
  },
  {
   "cell_type": "code",
   "execution_count": null,
   "metadata": {
    "collapsed": true
   },
   "outputs": [],
   "source": [
    "c = 'COLE_JORNADA'\n",
    "print(data_2016_2[c].value_counts().sort_index().index)\n",
    "print(data_2016_2[c].value_counts().sort_index())\n",
    "print(missing_data(data_2016_2[c]))"
   ]
  },
  {
   "cell_type": "code",
   "execution_count": null,
   "metadata": {
    "collapsed": true
   },
   "outputs": [],
   "source": [
    "c = 'COLE_GENERO'\n",
    "print(data_2016_2[c].value_counts().sort_index().index)\n",
    "print(data_2016_2[c].value_counts().sort_index())\n",
    "print(missing_data(data_2016_2[c]))"
   ]
  },
  {
   "cell_type": "code",
   "execution_count": null,
   "metadata": {
    "collapsed": true
   },
   "outputs": [],
   "source": [
    "c = 'COLE_CARACTER'\n",
    "print(data_2016_2[c].value_counts().sort_index().index)\n",
    "print(data_2016_2[c].value_counts().sort_index())\n",
    "print(missing_data(data_2016_2[c]))"
   ]
  },
  {
   "cell_type": "code",
   "execution_count": null,
   "metadata": {
    "collapsed": true
   },
   "outputs": [],
   "source": [
    "c = 'COLE_NATURALEZA'\n",
    "print(data_2016_2[c].value_counts().sort_index().index)\n",
    "print(data_2016_2[c].value_counts().sort_index())\n",
    "print(missing_data(data_2016_2[c]))"
   ]
  },
  {
   "cell_type": "code",
   "execution_count": null,
   "metadata": {
    "collapsed": true
   },
   "outputs": [],
   "source": [
    "c = 'COLE_CALENDARIO'\n",
    "print(data_2016_2[c].value_counts().sort_index().index)\n",
    "print(data_2016_2[c].value_counts().sort_index())\n",
    "print(missing_data(data_2016_2[c]))"
   ]
  },
  {
   "cell_type": "code",
   "execution_count": null,
   "metadata": {
    "collapsed": true
   },
   "outputs": [],
   "source": [
    "c = 'COLE_AREA_UBICACION'\n",
    "print(data_2016_2[c].value_counts().sort_index().index)\n",
    "print(data_2016_2[c].value_counts().sort_index())\n",
    "print(missing_data(data_2016_2[c]))"
   ]
  },
  {
   "cell_type": "code",
   "execution_count": null,
   "metadata": {
    "collapsed": true
   },
   "outputs": [],
   "source": [
    "c = 'ESTU_ANO_TERMINO_BACHILL'\n",
    "print(data_2016_2[c].value_counts().sort_index().index)\n",
    "print(data_2016_2[c].value_counts().sort_index())\n",
    "print(missing_data(data_2016_2[c]))"
   ]
  },
  {
   "cell_type": "code",
   "execution_count": null,
   "metadata": {
    "collapsed": true
   },
   "outputs": [],
   "source": [
    "c = 'ESTU_MES_TERMINO_BACHILL'\n",
    "print(data_2016_2[c].value_counts().sort_index().index)\n",
    "print(data_2016_2[c].value_counts().sort_index())\n",
    "print(missing_data(data_2016_2[c]))"
   ]
  },
  {
   "cell_type": "code",
   "execution_count": null,
   "metadata": {
    "collapsed": true
   },
   "outputs": [],
   "source": [
    "c = 'COLE_VALOR_PENSION'\n",
    "print(data_2016_2[c].value_counts().sort_index().index)\n",
    "print(data_2016_2[c].value_counts().sort_index())\n",
    "print(missing_data(data_2016_2[c]))"
   ]
  },
  {
   "cell_type": "code",
   "execution_count": null,
   "metadata": {
    "collapsed": true
   },
   "outputs": [],
   "source": [
    "c = 'ESTU_VECES_ESTADO'\n",
    "print(data_2016_2[c].value_counts().sort_index().index)\n",
    "print(data_2016_2[c].value_counts().sort_index())\n",
    "print(missing_data(data_2016_2[c]))"
   ]
  },
  {
   "cell_type": "code",
   "execution_count": null,
   "metadata": {
    "collapsed": true
   },
   "outputs": [],
   "source": [
    "c = 'ESTU_COD_MCPIO_PRESENTACION'\n",
    "print(data_2016_2[c].value_counts().sort_index().index)\n",
    "print(data_2016_2[c].value_counts().sort_index())\n",
    "print(missing_data(data_2016_2[c]))"
   ]
  },
  {
   "cell_type": "code",
   "execution_count": null,
   "metadata": {
    "collapsed": true
   },
   "outputs": [],
   "source": [
    "c = 'ESTU_MCPIO_PRESENTACION'\n",
    "print(data_2016_2[c].value_counts().sort_index().index)\n",
    "print(data_2016_2[c].value_counts().sort_index())\n",
    "print(missing_data(data_2016_2[c]))"
   ]
  },
  {
   "cell_type": "code",
   "execution_count": null,
   "metadata": {
    "collapsed": true
   },
   "outputs": [],
   "source": [
    "c = 'ESTU_DEPTO_PRESENTACION'\n",
    "print(data_2016_2[c].value_counts().sort_index().index)\n",
    "print(data_2016_2[c].value_counts().sort_index())\n",
    "print(missing_data(data_2016_2[c]))"
   ]
  },
  {
   "cell_type": "code",
   "execution_count": null,
   "metadata": {
    "collapsed": true
   },
   "outputs": [],
   "source": [
    "c = 'ESTU_COD_DEPTO_PRESENTACION'\n",
    "print(data_2016_2[c].value_counts().sort_index().index)\n",
    "print(data_2016_2[c].value_counts().sort_index())\n",
    "print(missing_data(data_2016_2[c]))"
   ]
  },
  {
   "cell_type": "code",
   "execution_count": null,
   "metadata": {
    "collapsed": true
   },
   "outputs": [],
   "source": [
    "c = 'ESTU_TRABAJA'\n",
    "print(data_2016_2[c].value_counts().sort_index().index)\n",
    "print(data_2016_2[c].value_counts().sort_index())\n",
    "print(missing_data(data_2016_2[c]))"
   ]
  },
  {
   "cell_type": "code",
   "execution_count": null,
   "metadata": {
    "collapsed": true
   },
   "outputs": [],
   "source": [
    "c = 'ESTU_VECES_ESTADO_ESTUDIANTIL'\n",
    "print(data_2016_2[c].value_counts().sort_index().index)\n",
    "print(data_2016_2[c].value_counts().sort_index())\n",
    "print(missing_data(data_2016_2[c]))"
   ]
  },
  {
   "cell_type": "code",
   "execution_count": null,
   "metadata": {
    "collapsed": true
   },
   "outputs": [],
   "source": [
    "c = 'ESTU_PRIVADO_LIBERTAD'\n",
    "print(data_2016_2[c].value_counts().sort_index().index)\n",
    "print(data_2016_2[c].value_counts().sort_index())\n",
    "print(missing_data(data_2016_2[c]))"
   ]
  },
  {
   "cell_type": "code",
   "execution_count": null,
   "metadata": {
    "collapsed": true
   },
   "outputs": [],
   "source": [
    "c = 'FAMI_EDUCA_PADRE'\n",
    "print(data_2016_2[c].value_counts().sort_index().index)\n",
    "print(data_2016_2[c].value_counts().sort_index())\n",
    "print(missing_data(data_2016_2[c]))"
   ]
  },
  {
   "cell_type": "code",
   "execution_count": null,
   "metadata": {
    "collapsed": true
   },
   "outputs": [],
   "source": [
    "c = 'FAMI_EDUCA_MADRE'\n",
    "print(data_2016_2[c].value_counts().sort_index().index)\n",
    "print(data_2016_2[c].value_counts().sort_index())\n",
    "print(missing_data(data_2016_2[c]))"
   ]
  },
  {
   "cell_type": "code",
   "execution_count": null,
   "metadata": {
    "collapsed": true
   },
   "outputs": [],
   "source": [
    "c = 'FAMI_OCUPA_PADRE'\n",
    "print(data_2016_2[c].value_counts().sort_index().index)\n",
    "print(data_2016_2[c].value_counts().sort_index())\n",
    "print(missing_data(data_2016_2[c]))"
   ]
  },
  {
   "cell_type": "code",
   "execution_count": null,
   "metadata": {
    "collapsed": true
   },
   "outputs": [],
   "source": [
    "c = 'FAMI_OCUPA_MADRE'\n",
    "print(data_2016_2[c].value_counts().sort_index().index)\n",
    "print(data_2016_2[c].value_counts().sort_index())\n",
    "print(missing_data(data_2016_2[c]))"
   ]
  },
  {
   "cell_type": "code",
   "execution_count": null,
   "metadata": {
    "collapsed": true
   },
   "outputs": [],
   "source": [
    "c = 'FAMI_NUM_HERMANOS'\n",
    "print(data_2016_2[c].value_counts().sort_index().index)\n",
    "print(data_2016_2[c].value_counts().sort_index())\n",
    "print(missing_data(data_2016_2[c]))"
   ]
  },
  {
   "cell_type": "code",
   "execution_count": null,
   "metadata": {
    "collapsed": true
   },
   "outputs": [],
   "source": [
    "c = 'FAMI_ESTRATO_VIVIENDA'\n",
    "print(data_2016_2[c].value_counts().sort_index().index)\n",
    "print(data_2016_2[c].value_counts().sort_index())\n",
    "print(missing_data(data_2016_2[c]))"
   ]
  },
  {
   "cell_type": "code",
   "execution_count": null,
   "metadata": {
    "collapsed": true
   },
   "outputs": [],
   "source": [
    "c = 'FAMI_NIVEL_SISBEN'\n",
    "print(data_2016_2[c].value_counts().sort_index().index)\n",
    "print(data_2016_2[c].value_counts().sort_index())\n",
    "print(missing_data(data_2016_2[c]))"
   ]
  },
  {
   "cell_type": "code",
   "execution_count": null,
   "metadata": {
    "collapsed": true
   },
   "outputs": [],
   "source": [
    "c = 'FAMI_PERSONAS_HOGAR'\n",
    "print(data_2016_2[c].value_counts().sort_index().index)\n",
    "print(data_2016_2[c].value_counts().sort_index())\n",
    "print(missing_data(data_2016_2[c]))"
   ]
  },
  {
   "cell_type": "code",
   "execution_count": null,
   "metadata": {
    "collapsed": true
   },
   "outputs": [],
   "source": [
    "c = 'FAMI_CUARTOS_HOGAR'\n",
    "print(data_2016_2[c].value_counts().sort_index().index)\n",
    "print(data_2016_2[c].value_counts().sort_index())\n",
    "print(missing_data(data_2016_2[c]))"
   ]
  },
  {
   "cell_type": "code",
   "execution_count": null,
   "metadata": {
    "collapsed": true
   },
   "outputs": [],
   "source": [
    "c = 'FAMI_PISOSHOGAR'\n",
    "print(data_2016_2[c].value_counts().sort_index().index)\n",
    "print(data_2016_2[c].value_counts().sort_index())\n",
    "print(missing_data(data_2016_2[c]))"
   ]
  },
  {
   "cell_type": "code",
   "execution_count": null,
   "metadata": {
    "collapsed": true
   },
   "outputs": [],
   "source": [
    "c = 'FAMI_DVD'\n",
    "print(data_2016_2[c].value_counts().sort_index().index)\n",
    "print(data_2016_2[c].value_counts().sort_index())\n",
    "print(missing_data(data_2016_2[c]))"
   ]
  },
  {
   "cell_type": "code",
   "execution_count": null,
   "metadata": {
    "collapsed": true
   },
   "outputs": [],
   "source": [
    "c = 'FAMI_TELEFONO_FIJO'\n",
    "print(data_2016_2[c].value_counts().sort_index().index)\n",
    "print(data_2016_2[c].value_counts().sort_index())\n",
    "print(missing_data(data_2016_2[c]))"
   ]
  },
  {
   "cell_type": "code",
   "execution_count": null,
   "metadata": {
    "collapsed": true
   },
   "outputs": [],
   "source": [
    "c = 'FAMI_INTERNET'\n",
    "print(data_2016_2[c].value_counts().sort_index().index)\n",
    "print(data_2016_2[c].value_counts().sort_index())\n",
    "print(missing_data(data_2016_2[c]))"
   ]
  },
  {
   "cell_type": "code",
   "execution_count": null,
   "metadata": {
    "collapsed": true
   },
   "outputs": [],
   "source": [
    "c = 'FAMI_SERVICIO_TELEVISION'\n",
    "print(data_2016_2[c].value_counts().sort_index().index)\n",
    "print(data_2016_2[c].value_counts().sort_index())\n",
    "print(missing_data(data_2016_2[c]))"
   ]
  },
  {
   "cell_type": "code",
   "execution_count": null,
   "metadata": {
    "collapsed": true
   },
   "outputs": [],
   "source": [
    "c = 'FAMI_COMPUTADOR'\n",
    "print(data_2016_2[c].value_counts().sort_index().index)\n",
    "print(data_2016_2[c].value_counts().sort_index())\n",
    "print(missing_data(data_2016_2[c]))"
   ]
  },
  {
   "cell_type": "code",
   "execution_count": null,
   "metadata": {
    "collapsed": true
   },
   "outputs": [],
   "source": [
    "c = 'FAMI_LAVADORA'\n",
    "print(data_2016_2[c].value_counts().sort_index().index)\n",
    "print(data_2016_2[c].value_counts().sort_index())\n",
    "print(missing_data(data_2016_2[c]))"
   ]
  },
  {
   "cell_type": "code",
   "execution_count": null,
   "metadata": {
    "collapsed": true
   },
   "outputs": [],
   "source": [
    "c = 'FAMI_MICROONDAS'\n",
    "print(data_2016_2[c].value_counts().sort_index().index)\n",
    "print(data_2016_2[c].value_counts().sort_index())\n",
    "print(missing_data(data_2016_2[c]))"
   ]
  },
  {
   "cell_type": "code",
   "execution_count": null,
   "metadata": {
    "collapsed": true
   },
   "outputs": [],
   "source": [
    "c = 'FAMI_HORNO'\n",
    "print(data_2016_2[c].value_counts().sort_index().index)\n",
    "print(data_2016_2[c].value_counts().sort_index())\n",
    "print(missing_data(data_2016_2[c]))"
   ]
  },
  {
   "cell_type": "code",
   "execution_count": null,
   "metadata": {
    "collapsed": true
   },
   "outputs": [],
   "source": [
    "c = 'FAMI_AUTOMOVIL'\n",
    "print(data_2016_2[c].value_counts().sort_index().index)\n",
    "print(data_2016_2[c].value_counts().sort_index())\n",
    "print(missing_data(data_2016_2[c]))"
   ]
  },
  {
   "cell_type": "code",
   "execution_count": null,
   "metadata": {
    "collapsed": true
   },
   "outputs": [],
   "source": [
    "c = 'ESTU_NUMERO_LIBROS'\n",
    "print(data_2016_2[c].value_counts().sort_index().index)\n",
    "print(data_2016_2[c].value_counts().sort_index())\n",
    "print(missing_data(data_2016_2[c]))"
   ]
  },
  {
   "cell_type": "code",
   "execution_count": null,
   "metadata": {
    "collapsed": true
   },
   "outputs": [],
   "source": [
    "c = 'FAMI_INGRESO_FMILIAR_MENSUAL'\n",
    "print(data_2016_2[c].value_counts().sort_index().index)\n",
    "print(data_2016_2[c].value_counts().sort_index())\n",
    "print(missing_data(data_2016_2[c]))"
   ]
  },
  {
   "cell_type": "code",
   "execution_count": null,
   "metadata": {
    "collapsed": true
   },
   "outputs": [],
   "source": [
    "c = 'ESTU_RECIBE_SALARIO'\n",
    "print(data_2016_2[c].value_counts().sort_index().index)\n",
    "print(data_2016_2[c].value_counts().sort_index())\n",
    "print(missing_data(data_2016_2[c]))"
   ]
  },
  {
   "cell_type": "code",
   "execution_count": null,
   "metadata": {
    "collapsed": true
   },
   "outputs": [],
   "source": [
    "c = 'PUNT_LECTURA_CRITICA'\n",
    "print(data_2016_2[c].value_counts().sort_index().index)\n",
    "print(data_2016_2[c].value_counts().sort_index())\n",
    "print(missing_data(data_2016_2[c]))"
   ]
  },
  {
   "cell_type": "code",
   "execution_count": null,
   "metadata": {
    "collapsed": true
   },
   "outputs": [],
   "source": [
    "c = 'PERCENTIL_LECTURA_CRITICA'\n",
    "print(data_2016_2[c].value_counts().sort_index().index)\n",
    "print(data_2016_2[c].value_counts().sort_index())\n",
    "print(missing_data(data_2016_2[c]))"
   ]
  },
  {
   "cell_type": "code",
   "execution_count": null,
   "metadata": {
    "collapsed": true
   },
   "outputs": [],
   "source": [
    "c = 'DESEMP_LECTURA_CRITICA'\n",
    "print(data_2016_2[c].value_counts().sort_index().index)\n",
    "print(data_2016_2[c].value_counts().sort_index())\n",
    "print(missing_data(data_2016_2[c]))"
   ]
  },
  {
   "cell_type": "code",
   "execution_count": null,
   "metadata": {
    "collapsed": true
   },
   "outputs": [],
   "source": [
    "c = 'PUNT_MATEMATICAS'\n",
    "print(data_2016_2[c].value_counts().sort_index().index)\n",
    "print(data_2016_2[c].value_counts().sort_index())\n",
    "print(missing_data(data_2016_2[c]))"
   ]
  },
  {
   "cell_type": "code",
   "execution_count": null,
   "metadata": {
    "collapsed": true
   },
   "outputs": [],
   "source": [
    "c = 'PERCENTIL_MATEMATICAS'\n",
    "print(data_2016_2[c].value_counts().sort_index().index)\n",
    "print(data_2016_2[c].value_counts().sort_index())\n",
    "print(missing_data(data_2016_2[c]))"
   ]
  },
  {
   "cell_type": "code",
   "execution_count": null,
   "metadata": {
    "collapsed": true
   },
   "outputs": [],
   "source": [
    "c = 'DESEMP_MATEMATICAS'\n",
    "print(data_2016_2[c].value_counts().sort_index().index)\n",
    "print(data_2016_2[c].value_counts().sort_index())\n",
    "print(missing_data(data_2016_2[c]))"
   ]
  },
  {
   "cell_type": "code",
   "execution_count": null,
   "metadata": {
    "collapsed": true
   },
   "outputs": [],
   "source": [
    "c = 'PUNT_C_NATURALES'\n",
    "print(data_2016_2[c].value_counts().sort_index().index)\n",
    "print(data_2016_2[c].value_counts().sort_index())\n",
    "print(missing_data(data_2016_2[c]))"
   ]
  },
  {
   "cell_type": "code",
   "execution_count": null,
   "metadata": {
    "collapsed": true
   },
   "outputs": [],
   "source": [
    "c = 'PERCENTIL_C_NATURALES'\n",
    "print(data_2016_2[c].value_counts().sort_index().index)\n",
    "print(data_2016_2[c].value_counts().sort_index())\n",
    "print(missing_data(data_2016_2[c]))"
   ]
  },
  {
   "cell_type": "code",
   "execution_count": null,
   "metadata": {
    "collapsed": true
   },
   "outputs": [],
   "source": [
    "c = 'DESEMP_C_NATURALES'\n",
    "print(data_2016_2[c].value_counts().sort_index().index)\n",
    "print(data_2016_2[c].value_counts().sort_index())\n",
    "print(missing_data(data_2016_2[c]))"
   ]
  },
  {
   "cell_type": "code",
   "execution_count": null,
   "metadata": {
    "collapsed": true
   },
   "outputs": [],
   "source": [
    "c = 'PUNT_SOCIALES_CIUDADANAS'\n",
    "print(data_2016_2[c].value_counts().sort_index().index)\n",
    "print(data_2016_2[c].value_counts().sort_index())\n",
    "print(missing_data(data_2016_2[c]))"
   ]
  },
  {
   "cell_type": "code",
   "execution_count": null,
   "metadata": {
    "collapsed": true
   },
   "outputs": [],
   "source": [
    "c = 'PERCENTIL_SOCIALES_CIUDADANAS'\n",
    "print(data_2016_2[c].value_counts().sort_index().index)\n",
    "print(data_2016_2[c].value_counts().sort_index())\n",
    "print(missing_data(data_2016_2[c]))"
   ]
  },
  {
   "cell_type": "code",
   "execution_count": null,
   "metadata": {
    "collapsed": true
   },
   "outputs": [],
   "source": [
    "c = 'DESEMP_SOCIALES_CIUDADANAS'\n",
    "print(data_2016_2[c].value_counts().sort_index().index)\n",
    "print(data_2016_2[c].value_counts().sort_index())\n",
    "print(missing_data(data_2016_2[c]))"
   ]
  },
  {
   "cell_type": "code",
   "execution_count": null,
   "metadata": {
    "collapsed": true
   },
   "outputs": [],
   "source": [
    "c = 'PUNT_INGLES'\n",
    "print(data_2016_2[c].value_counts().sort_index().index)\n",
    "print(data_2016_2[c].value_counts().sort_index())\n",
    "print(missing_data(data_2016_2[c]))"
   ]
  },
  {
   "cell_type": "code",
   "execution_count": null,
   "metadata": {
    "collapsed": true
   },
   "outputs": [],
   "source": [
    "c = 'PERCENTIL_INGLES'\n",
    "print(data_2016_2[c].value_counts().sort_index().index)\n",
    "print(data_2016_2[c].value_counts().sort_index())\n",
    "print(missing_data(data_2016_2[c]))"
   ]
  },
  {
   "cell_type": "code",
   "execution_count": null,
   "metadata": {
    "collapsed": true
   },
   "outputs": [],
   "source": [
    "c = 'DESEMP_INGLES'\n",
    "print(data_2016_2[c].value_counts().sort_index().index)\n",
    "print(data_2016_2[c].value_counts().sort_index())\n",
    "print(missing_data(data_2016_2[c]))"
   ]
  },
  {
   "cell_type": "code",
   "execution_count": null,
   "metadata": {
    "collapsed": true
   },
   "outputs": [],
   "source": [
    "c = 'PUNT_GLOBAL'\n",
    "print(data_2016_2[c].value_counts().sort_index().index)\n",
    "print(data_2016_2[c].value_counts().sort_index())\n",
    "print(missing_data(data_2016_2[c]))"
   ]
  },
  {
   "cell_type": "code",
   "execution_count": null,
   "metadata": {
    "collapsed": true
   },
   "outputs": [],
   "source": [
    "c = 'PERCENTIL_GLOBAL'\n",
    "print(data_2016_2[c].value_counts().sort_index().index)\n",
    "print(data_2016_2[c].value_counts().sort_index())\n",
    "print(missing_data(data_2016_2[c]))"
   ]
  },
  {
   "cell_type": "markdown",
   "metadata": {},
   "source": [
    "Here i encod"
   ]
  }
 ],
 "metadata": {
  "kernelspec": {
   "display_name": "Python 3",
   "language": "python",
   "name": "python3"
  },
  "language_info": {
   "codemirror_mode": {
    "name": "ipython",
    "version": 3
   },
   "file_extension": ".py",
   "mimetype": "text/x-python",
   "name": "python",
   "nbconvert_exporter": "python",
   "pygments_lexer": "ipython3",
   "version": "3.4.2"
  }
 },
 "nbformat": 4,
 "nbformat_minor": 0
}
