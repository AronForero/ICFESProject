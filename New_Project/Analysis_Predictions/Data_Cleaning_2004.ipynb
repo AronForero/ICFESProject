{
 "cells": [
  {
   "cell_type": "code",
   "execution_count": 1,
   "metadata": {
    "collapsed": true
   },
   "outputs": [],
   "source": [
    "import pandas as pd\n",
    "import numpy as np\n",
    "%run -i ../tools/functions.py\n",
    "%run -i ../tools/label_encoder.py"
   ]
  },
  {
   "cell_type": "code",
   "execution_count": 2,
   "metadata": {
    "collapsed": false
   },
   "outputs": [
    {
     "name": "stderr",
     "output_type": "stream",
     "text": [
      "/usr/local/anaconda3/lib/python3.5/site-packages/IPython/core/interactiveshell.py:2723: DtypeWarning: Columns (3,12,13,14,15,16,19,20,22,23) have mixed types. Specify dtype option on import or set low_memory=False.\n",
      "  interactivity=interactivity, compiler=compiler, result=result)\n"
     ]
    }
   ],
   "source": [
    "data_2004 = pd.read_csv('../DatosFTPICFES/SABER11/SB11-BASES_DE_DATOS/SB11-20041-RGSTRO-CLFCCN-V1-0.txt', delimiter = '|',\n",
    "                       encoding = \"iso-8859-1\")"
   ]
  },
  {
   "cell_type": "code",
   "execution_count": 3,
   "metadata": {
    "collapsed": false
   },
   "outputs": [
    {
     "data": {
      "text/plain": [
       "(64779, 58)"
      ]
     },
     "execution_count": 3,
     "metadata": {},
     "output_type": "execute_result"
    }
   ],
   "source": [
    "data_2004.shape"
   ]
  },
  {
   "cell_type": "code",
   "execution_count": 4,
   "metadata": {
    "collapsed": false,
    "scrolled": true
   },
   "outputs": [
    {
     "data": {
      "text/html": [
       "<div>\n",
       "<table border=\"1\" class=\"dataframe\">\n",
       "  <thead>\n",
       "    <tr style=\"text-align: right;\">\n",
       "      <th></th>\n",
       "      <th>0</th>\n",
       "      <th>1</th>\n",
       "      <th>2</th>\n",
       "    </tr>\n",
       "  </thead>\n",
       "  <tbody>\n",
       "    <tr>\n",
       "      <th>ESTU_CONSECUTIVO</th>\n",
       "      <td>SB11200410000001</td>\n",
       "      <td>SB11200410000002</td>\n",
       "      <td>SB11200410000003</td>\n",
       "    </tr>\n",
       "    <tr>\n",
       "      <th>COLE_COD_ICFES</th>\n",
       "      <td>66191</td>\n",
       "      <td>18036</td>\n",
       "      <td>50716</td>\n",
       "    </tr>\n",
       "    <tr>\n",
       "      <th>COLE_NOMBRE_SEDE</th>\n",
       "      <td>COLEGIO PATRICIO SYMES</td>\n",
       "      <td>INSTITUTO COMERCIAL TEOFILO ROBERTO POTES</td>\n",
       "      <td>CENTRO DOCENTE FRANCISCO JOSE DE CALDAS</td>\n",
       "    </tr>\n",
       "    <tr>\n",
       "      <th>IND_ANNO_TERMINO_BACHILLERATO</th>\n",
       "      <td>2004</td>\n",
       "      <td>2004</td>\n",
       "      <td>2004</td>\n",
       "    </tr>\n",
       "    <tr>\n",
       "      <th>COLE_JORNADA</th>\n",
       "      <td>M</td>\n",
       "      <td>C</td>\n",
       "      <td>M</td>\n",
       "    </tr>\n",
       "    <tr>\n",
       "      <th>COLE_VALOR_PENSION</th>\n",
       "      <td>5</td>\n",
       "      <td>1</td>\n",
       "      <td>1</td>\n",
       "    </tr>\n",
       "    <tr>\n",
       "      <th>ESTU_GENERO</th>\n",
       "      <td>M</td>\n",
       "      <td>M</td>\n",
       "      <td>M</td>\n",
       "    </tr>\n",
       "    <tr>\n",
       "      <th>ESTU_NACIMIENTO_DIA</th>\n",
       "      <td>8</td>\n",
       "      <td>12</td>\n",
       "      <td>5</td>\n",
       "    </tr>\n",
       "    <tr>\n",
       "      <th>ESTU_NACIMIENTO_MES</th>\n",
       "      <td>1</td>\n",
       "      <td>5</td>\n",
       "      <td>1</td>\n",
       "    </tr>\n",
       "    <tr>\n",
       "      <th>ESTU_NACIMIENTO_ANNO</th>\n",
       "      <td>1988</td>\n",
       "      <td>1986</td>\n",
       "      <td>1987</td>\n",
       "    </tr>\n",
       "    <tr>\n",
       "      <th>ESTU_DEPTO_PRESENTACION</th>\n",
       "      <td>VALLE</td>\n",
       "      <td>VALLE</td>\n",
       "      <td>VALLE</td>\n",
       "    </tr>\n",
       "    <tr>\n",
       "      <th>ESTU_MCPIO_PRESENTACION</th>\n",
       "      <td>BUENAVENTURA</td>\n",
       "      <td>BUENAVENTURA</td>\n",
       "      <td>BUENAVENTURA</td>\n",
       "    </tr>\n",
       "    <tr>\n",
       "      <th>ESTU_LIMITA_INVIDENTE</th>\n",
       "      <td>NaN</td>\n",
       "      <td>NaN</td>\n",
       "      <td>NaN</td>\n",
       "    </tr>\n",
       "    <tr>\n",
       "      <th>ESTU_LIMITA_SORDOINTERPRETE</th>\n",
       "      <td>NaN</td>\n",
       "      <td>NaN</td>\n",
       "      <td>NaN</td>\n",
       "    </tr>\n",
       "    <tr>\n",
       "      <th>ESTU_LIMITA_SORDONOINTERPRETE</th>\n",
       "      <td>NaN</td>\n",
       "      <td>NaN</td>\n",
       "      <td>NaN</td>\n",
       "    </tr>\n",
       "    <tr>\n",
       "      <th>ESTU_LIMITA_MOTRIZ</th>\n",
       "      <td>NaN</td>\n",
       "      <td>NaN</td>\n",
       "      <td>NaN</td>\n",
       "    </tr>\n",
       "    <tr>\n",
       "      <th>PUNT_BIOLOGIA</th>\n",
       "      <td>49.9</td>\n",
       "      <td>40.6</td>\n",
       "      <td>43.5</td>\n",
       "    </tr>\n",
       "    <tr>\n",
       "      <th>PUNT_MATEMATICAS</th>\n",
       "      <td>47.1</td>\n",
       "      <td>42.8</td>\n",
       "      <td>42.8</td>\n",
       "    </tr>\n",
       "    <tr>\n",
       "      <th>PUNT_FILOSOFIA</th>\n",
       "      <td>49.9</td>\n",
       "      <td>44.6</td>\n",
       "      <td>49.9</td>\n",
       "    </tr>\n",
       "    <tr>\n",
       "      <th>PUNT_FISICA</th>\n",
       "      <td>47.8</td>\n",
       "      <td>41.9</td>\n",
       "      <td>46</td>\n",
       "    </tr>\n",
       "    <tr>\n",
       "      <th>PUNT_HISTORIA</th>\n",
       "      <td>38</td>\n",
       "      <td>40.8</td>\n",
       "      <td>38</td>\n",
       "    </tr>\n",
       "    <tr>\n",
       "      <th>PUNT_QUIMICA</th>\n",
       "      <td>47.2</td>\n",
       "      <td>43.2</td>\n",
       "      <td>31.8</td>\n",
       "    </tr>\n",
       "    <tr>\n",
       "      <th>PUNT_LENGUAJE</th>\n",
       "      <td>47.1</td>\n",
       "      <td>47.1</td>\n",
       "      <td>53</td>\n",
       "    </tr>\n",
       "    <tr>\n",
       "      <th>PUNT_GEOGRAFIA</th>\n",
       "      <td>39.3</td>\n",
       "      <td>43.8</td>\n",
       "      <td>45.1</td>\n",
       "    </tr>\n",
       "    <tr>\n",
       "      <th>COD_INTERDISCIPLINAR</th>\n",
       "      <td>43</td>\n",
       "      <td>43</td>\n",
       "      <td>43</td>\n",
       "    </tr>\n",
       "    <tr>\n",
       "      <th>PUNT_INTERDISCIPLINAR</th>\n",
       "      <td>45.8</td>\n",
       "      <td>45.8</td>\n",
       "      <td>56.9</td>\n",
       "    </tr>\n",
       "    <tr>\n",
       "      <th>COD_IDIOMA</th>\n",
       "      <td>52</td>\n",
       "      <td>52</td>\n",
       "      <td>53</td>\n",
       "    </tr>\n",
       "    <tr>\n",
       "      <th>PUNT_IDIOMA</th>\n",
       "      <td>45.3</td>\n",
       "      <td>30.2</td>\n",
       "      <td>40.7</td>\n",
       "    </tr>\n",
       "    <tr>\n",
       "      <th>ESTU_IES_COD_DESEADA</th>\n",
       "      <td>1203</td>\n",
       "      <td>NaN</td>\n",
       "      <td>NaN</td>\n",
       "    </tr>\n",
       "    <tr>\n",
       "      <th>ESTU_RAZONINSTITUTO</th>\n",
       "      <td>2</td>\n",
       "      <td>NaN</td>\n",
       "      <td>NaN</td>\n",
       "    </tr>\n",
       "    <tr>\n",
       "      <th>ESTU_CARRDESEADA_COD</th>\n",
       "      <td>213</td>\n",
       "      <td>NaN</td>\n",
       "      <td>NaN</td>\n",
       "    </tr>\n",
       "    <tr>\n",
       "      <th>ESTU_CARRDESEADA_RAZON</th>\n",
       "      <td>3</td>\n",
       "      <td>NaN</td>\n",
       "      <td>5</td>\n",
       "    </tr>\n",
       "    <tr>\n",
       "      <th>FAMI_PERSONAS_HOGAR</th>\n",
       "      <td>7</td>\n",
       "      <td>6</td>\n",
       "      <td>6</td>\n",
       "    </tr>\n",
       "    <tr>\n",
       "      <th>FAMI_VIVIENDA_PROPIA</th>\n",
       "      <td>N</td>\n",
       "      <td>S</td>\n",
       "      <td>S</td>\n",
       "    </tr>\n",
       "    <tr>\n",
       "      <th>FAMI_DEUDA_VIVIENDA</th>\n",
       "      <td>N</td>\n",
       "      <td>N</td>\n",
       "      <td>N</td>\n",
       "    </tr>\n",
       "    <tr>\n",
       "      <th>FAMI_APORTANTES</th>\n",
       "      <td>2</td>\n",
       "      <td>2</td>\n",
       "      <td>1</td>\n",
       "    </tr>\n",
       "    <tr>\n",
       "      <th>FAMI_INGRESO_FMILIAR_MENSUAL</th>\n",
       "      <td>2</td>\n",
       "      <td>NaN</td>\n",
       "      <td>0</td>\n",
       "    </tr>\n",
       "    <tr>\n",
       "      <th>FAMI_LEE_ESCRIBE_PADRE</th>\n",
       "      <td>S</td>\n",
       "      <td>S</td>\n",
       "      <td>S</td>\n",
       "    </tr>\n",
       "    <tr>\n",
       "      <th>FAMI_LEE_ESCRIBE_MADRE</th>\n",
       "      <td>S</td>\n",
       "      <td>S</td>\n",
       "      <td>S</td>\n",
       "    </tr>\n",
       "    <tr>\n",
       "      <th>FAMI_EDUCA_PADRE</th>\n",
       "      <td>5</td>\n",
       "      <td>2</td>\n",
       "      <td>4</td>\n",
       "    </tr>\n",
       "    <tr>\n",
       "      <th>FAMI_EDUCA_MADRE</th>\n",
       "      <td>4</td>\n",
       "      <td>7</td>\n",
       "      <td>3</td>\n",
       "    </tr>\n",
       "    <tr>\n",
       "      <th>FAMI_OCUPA_PADRE</th>\n",
       "      <td>4</td>\n",
       "      <td>8</td>\n",
       "      <td>6</td>\n",
       "    </tr>\n",
       "    <tr>\n",
       "      <th>FAMI_OCUPA_MADRE</th>\n",
       "      <td>10</td>\n",
       "      <td>3</td>\n",
       "      <td>10</td>\n",
       "    </tr>\n",
       "    <tr>\n",
       "      <th>FAMI_NUM_HERMANOS</th>\n",
       "      <td>7</td>\n",
       "      <td>3</td>\n",
       "      <td>5</td>\n",
       "    </tr>\n",
       "    <tr>\n",
       "      <th>FAMI_NUM_HERMANOS_EDUSUPERIOR</th>\n",
       "      <td>NaN</td>\n",
       "      <td>NaN</td>\n",
       "      <td>3</td>\n",
       "    </tr>\n",
       "    <tr>\n",
       "      <th>FAMI_POSICION_HERMANOS</th>\n",
       "      <td>4</td>\n",
       "      <td>2</td>\n",
       "      <td>NaN</td>\n",
       "    </tr>\n",
       "    <tr>\n",
       "      <th>FAMI_SOST_PERSONAL</th>\n",
       "      <td>T</td>\n",
       "      <td>T</td>\n",
       "      <td>T</td>\n",
       "    </tr>\n",
       "    <tr>\n",
       "      <th>ESTU_TRABAJA</th>\n",
       "      <td>N</td>\n",
       "      <td>N</td>\n",
       "      <td>N</td>\n",
       "    </tr>\n",
       "    <tr>\n",
       "      <th>ESTU_ACT_PROX_ANNO</th>\n",
       "      <td>3</td>\n",
       "      <td>1</td>\n",
       "      <td>1</td>\n",
       "    </tr>\n",
       "    <tr>\n",
       "      <th>FAMI_ESTRATO_VIVIENDA</th>\n",
       "      <td>3</td>\n",
       "      <td>1</td>\n",
       "      <td>1</td>\n",
       "    </tr>\n",
       "    <tr>\n",
       "      <th>COLE_CALENDARIO</th>\n",
       "      <td>B</td>\n",
       "      <td>B</td>\n",
       "      <td>B</td>\n",
       "    </tr>\n",
       "    <tr>\n",
       "      <th>COLE_BILINGUE</th>\n",
       "      <td>NaN</td>\n",
       "      <td>NaN</td>\n",
       "      <td>NaN</td>\n",
       "    </tr>\n",
       "    <tr>\n",
       "      <th>COLE_CARACTER</th>\n",
       "      <td>TECNICO</td>\n",
       "      <td>TECNICO</td>\n",
       "      <td>ACADEMICO</td>\n",
       "    </tr>\n",
       "    <tr>\n",
       "      <th>COLE_DEPTO_UBICACION</th>\n",
       "      <td>VALLE</td>\n",
       "      <td>VALLE</td>\n",
       "      <td>VALLE</td>\n",
       "    </tr>\n",
       "    <tr>\n",
       "      <th>COLE_MCPIO_UBICACION</th>\n",
       "      <td>BUENAVENTURA</td>\n",
       "      <td>BUENAVENTURA</td>\n",
       "      <td>BUENAVENTURA</td>\n",
       "    </tr>\n",
       "    <tr>\n",
       "      <th>ESTU_RESIDE_DEPTO</th>\n",
       "      <td>VALLE</td>\n",
       "      <td>VALLE</td>\n",
       "      <td>VALLE</td>\n",
       "    </tr>\n",
       "    <tr>\n",
       "      <th>ESTU_RESIDE_MCPIO</th>\n",
       "      <td>BUENAVENTURA</td>\n",
       "      <td>BUENAVENTURA</td>\n",
       "      <td>BUENAVENTURA</td>\n",
       "    </tr>\n",
       "    <tr>\n",
       "      <th>ESTU_TIPO_DOCUMENTO</th>\n",
       "      <td>R</td>\n",
       "      <td>T</td>\n",
       "      <td>R</td>\n",
       "    </tr>\n",
       "  </tbody>\n",
       "</table>\n",
       "</div>"
      ],
      "text/plain": [
       "                                                    0  \\\n",
       "ESTU_CONSECUTIVO                     SB11200410000001   \n",
       "COLE_COD_ICFES                                  66191   \n",
       "COLE_NOMBRE_SEDE               COLEGIO PATRICIO SYMES   \n",
       "IND_ANNO_TERMINO_BACHILLERATO                    2004   \n",
       "COLE_JORNADA                                        M   \n",
       "COLE_VALOR_PENSION                                  5   \n",
       "ESTU_GENERO                                         M   \n",
       "ESTU_NACIMIENTO_DIA                                 8   \n",
       "ESTU_NACIMIENTO_MES                                 1   \n",
       "ESTU_NACIMIENTO_ANNO                             1988   \n",
       "ESTU_DEPTO_PRESENTACION                         VALLE   \n",
       "ESTU_MCPIO_PRESENTACION                  BUENAVENTURA   \n",
       "ESTU_LIMITA_INVIDENTE                             NaN   \n",
       "ESTU_LIMITA_SORDOINTERPRETE                       NaN   \n",
       "ESTU_LIMITA_SORDONOINTERPRETE                     NaN   \n",
       "ESTU_LIMITA_MOTRIZ                                NaN   \n",
       "PUNT_BIOLOGIA                                    49.9   \n",
       "PUNT_MATEMATICAS                                 47.1   \n",
       "PUNT_FILOSOFIA                                   49.9   \n",
       "PUNT_FISICA                                      47.8   \n",
       "PUNT_HISTORIA                                      38   \n",
       "PUNT_QUIMICA                                     47.2   \n",
       "PUNT_LENGUAJE                                    47.1   \n",
       "PUNT_GEOGRAFIA                                   39.3   \n",
       "COD_INTERDISCIPLINAR                               43   \n",
       "PUNT_INTERDISCIPLINAR                            45.8   \n",
       "COD_IDIOMA                                         52   \n",
       "PUNT_IDIOMA                                      45.3   \n",
       "ESTU_IES_COD_DESEADA                             1203   \n",
       "ESTU_RAZONINSTITUTO                                 2   \n",
       "ESTU_CARRDESEADA_COD                              213   \n",
       "ESTU_CARRDESEADA_RAZON                              3   \n",
       "FAMI_PERSONAS_HOGAR                                 7   \n",
       "FAMI_VIVIENDA_PROPIA                                N   \n",
       "FAMI_DEUDA_VIVIENDA                                 N   \n",
       "FAMI_APORTANTES                                     2   \n",
       "FAMI_INGRESO_FMILIAR_MENSUAL                        2   \n",
       "FAMI_LEE_ESCRIBE_PADRE                              S   \n",
       "FAMI_LEE_ESCRIBE_MADRE                              S   \n",
       "FAMI_EDUCA_PADRE                                    5   \n",
       "FAMI_EDUCA_MADRE                                    4   \n",
       "FAMI_OCUPA_PADRE                                    4   \n",
       "FAMI_OCUPA_MADRE                                   10   \n",
       "FAMI_NUM_HERMANOS                                   7   \n",
       "FAMI_NUM_HERMANOS_EDUSUPERIOR                     NaN   \n",
       "FAMI_POSICION_HERMANOS                              4   \n",
       "FAMI_SOST_PERSONAL                                  T   \n",
       "ESTU_TRABAJA                                        N   \n",
       "ESTU_ACT_PROX_ANNO                                  3   \n",
       "FAMI_ESTRATO_VIVIENDA                               3   \n",
       "COLE_CALENDARIO                                     B   \n",
       "COLE_BILINGUE                                     NaN   \n",
       "COLE_CARACTER                                 TECNICO   \n",
       "COLE_DEPTO_UBICACION                            VALLE   \n",
       "COLE_MCPIO_UBICACION                     BUENAVENTURA   \n",
       "ESTU_RESIDE_DEPTO                               VALLE   \n",
       "ESTU_RESIDE_MCPIO                        BUENAVENTURA   \n",
       "ESTU_TIPO_DOCUMENTO                                 R   \n",
       "\n",
       "                                                                       1  \\\n",
       "ESTU_CONSECUTIVO                                        SB11200410000002   \n",
       "COLE_COD_ICFES                                                     18036   \n",
       "COLE_NOMBRE_SEDE               INSTITUTO COMERCIAL TEOFILO ROBERTO POTES   \n",
       "IND_ANNO_TERMINO_BACHILLERATO                                       2004   \n",
       "COLE_JORNADA                                                           C   \n",
       "COLE_VALOR_PENSION                                                     1   \n",
       "ESTU_GENERO                                                            M   \n",
       "ESTU_NACIMIENTO_DIA                                                   12   \n",
       "ESTU_NACIMIENTO_MES                                                    5   \n",
       "ESTU_NACIMIENTO_ANNO                                                1986   \n",
       "ESTU_DEPTO_PRESENTACION                                            VALLE   \n",
       "ESTU_MCPIO_PRESENTACION                                     BUENAVENTURA   \n",
       "ESTU_LIMITA_INVIDENTE                                                NaN   \n",
       "ESTU_LIMITA_SORDOINTERPRETE                                          NaN   \n",
       "ESTU_LIMITA_SORDONOINTERPRETE                                        NaN   \n",
       "ESTU_LIMITA_MOTRIZ                                                   NaN   \n",
       "PUNT_BIOLOGIA                                                       40.6   \n",
       "PUNT_MATEMATICAS                                                    42.8   \n",
       "PUNT_FILOSOFIA                                                      44.6   \n",
       "PUNT_FISICA                                                         41.9   \n",
       "PUNT_HISTORIA                                                       40.8   \n",
       "PUNT_QUIMICA                                                        43.2   \n",
       "PUNT_LENGUAJE                                                       47.1   \n",
       "PUNT_GEOGRAFIA                                                      43.8   \n",
       "COD_INTERDISCIPLINAR                                                  43   \n",
       "PUNT_INTERDISCIPLINAR                                               45.8   \n",
       "COD_IDIOMA                                                            52   \n",
       "PUNT_IDIOMA                                                         30.2   \n",
       "ESTU_IES_COD_DESEADA                                                 NaN   \n",
       "ESTU_RAZONINSTITUTO                                                  NaN   \n",
       "ESTU_CARRDESEADA_COD                                                 NaN   \n",
       "ESTU_CARRDESEADA_RAZON                                               NaN   \n",
       "FAMI_PERSONAS_HOGAR                                                    6   \n",
       "FAMI_VIVIENDA_PROPIA                                                   S   \n",
       "FAMI_DEUDA_VIVIENDA                                                    N   \n",
       "FAMI_APORTANTES                                                        2   \n",
       "FAMI_INGRESO_FMILIAR_MENSUAL                                         NaN   \n",
       "FAMI_LEE_ESCRIBE_PADRE                                                 S   \n",
       "FAMI_LEE_ESCRIBE_MADRE                                                 S   \n",
       "FAMI_EDUCA_PADRE                                                       2   \n",
       "FAMI_EDUCA_MADRE                                                       7   \n",
       "FAMI_OCUPA_PADRE                                                       8   \n",
       "FAMI_OCUPA_MADRE                                                       3   \n",
       "FAMI_NUM_HERMANOS                                                      3   \n",
       "FAMI_NUM_HERMANOS_EDUSUPERIOR                                        NaN   \n",
       "FAMI_POSICION_HERMANOS                                                 2   \n",
       "FAMI_SOST_PERSONAL                                                     T   \n",
       "ESTU_TRABAJA                                                           N   \n",
       "ESTU_ACT_PROX_ANNO                                                     1   \n",
       "FAMI_ESTRATO_VIVIENDA                                                  1   \n",
       "COLE_CALENDARIO                                                        B   \n",
       "COLE_BILINGUE                                                        NaN   \n",
       "COLE_CARACTER                                                    TECNICO   \n",
       "COLE_DEPTO_UBICACION                                               VALLE   \n",
       "COLE_MCPIO_UBICACION                                        BUENAVENTURA   \n",
       "ESTU_RESIDE_DEPTO                                                  VALLE   \n",
       "ESTU_RESIDE_MCPIO                                           BUENAVENTURA   \n",
       "ESTU_TIPO_DOCUMENTO                                                    T   \n",
       "\n",
       "                                                                     2  \n",
       "ESTU_CONSECUTIVO                                      SB11200410000003  \n",
       "COLE_COD_ICFES                                                   50716  \n",
       "COLE_NOMBRE_SEDE               CENTRO DOCENTE FRANCISCO JOSE DE CALDAS  \n",
       "IND_ANNO_TERMINO_BACHILLERATO                                     2004  \n",
       "COLE_JORNADA                                                         M  \n",
       "COLE_VALOR_PENSION                                                   1  \n",
       "ESTU_GENERO                                                          M  \n",
       "ESTU_NACIMIENTO_DIA                                                  5  \n",
       "ESTU_NACIMIENTO_MES                                                  1  \n",
       "ESTU_NACIMIENTO_ANNO                                              1987  \n",
       "ESTU_DEPTO_PRESENTACION                                          VALLE  \n",
       "ESTU_MCPIO_PRESENTACION                                   BUENAVENTURA  \n",
       "ESTU_LIMITA_INVIDENTE                                              NaN  \n",
       "ESTU_LIMITA_SORDOINTERPRETE                                        NaN  \n",
       "ESTU_LIMITA_SORDONOINTERPRETE                                      NaN  \n",
       "ESTU_LIMITA_MOTRIZ                                                 NaN  \n",
       "PUNT_BIOLOGIA                                                     43.5  \n",
       "PUNT_MATEMATICAS                                                  42.8  \n",
       "PUNT_FILOSOFIA                                                    49.9  \n",
       "PUNT_FISICA                                                         46  \n",
       "PUNT_HISTORIA                                                       38  \n",
       "PUNT_QUIMICA                                                      31.8  \n",
       "PUNT_LENGUAJE                                                       53  \n",
       "PUNT_GEOGRAFIA                                                    45.1  \n",
       "COD_INTERDISCIPLINAR                                                43  \n",
       "PUNT_INTERDISCIPLINAR                                             56.9  \n",
       "COD_IDIOMA                                                          53  \n",
       "PUNT_IDIOMA                                                       40.7  \n",
       "ESTU_IES_COD_DESEADA                                               NaN  \n",
       "ESTU_RAZONINSTITUTO                                                NaN  \n",
       "ESTU_CARRDESEADA_COD                                               NaN  \n",
       "ESTU_CARRDESEADA_RAZON                                               5  \n",
       "FAMI_PERSONAS_HOGAR                                                  6  \n",
       "FAMI_VIVIENDA_PROPIA                                                 S  \n",
       "FAMI_DEUDA_VIVIENDA                                                  N  \n",
       "FAMI_APORTANTES                                                      1  \n",
       "FAMI_INGRESO_FMILIAR_MENSUAL                                         0  \n",
       "FAMI_LEE_ESCRIBE_PADRE                                               S  \n",
       "FAMI_LEE_ESCRIBE_MADRE                                               S  \n",
       "FAMI_EDUCA_PADRE                                                     4  \n",
       "FAMI_EDUCA_MADRE                                                     3  \n",
       "FAMI_OCUPA_PADRE                                                     6  \n",
       "FAMI_OCUPA_MADRE                                                    10  \n",
       "FAMI_NUM_HERMANOS                                                    5  \n",
       "FAMI_NUM_HERMANOS_EDUSUPERIOR                                        3  \n",
       "FAMI_POSICION_HERMANOS                                             NaN  \n",
       "FAMI_SOST_PERSONAL                                                   T  \n",
       "ESTU_TRABAJA                                                         N  \n",
       "ESTU_ACT_PROX_ANNO                                                   1  \n",
       "FAMI_ESTRATO_VIVIENDA                                                1  \n",
       "COLE_CALENDARIO                                                      B  \n",
       "COLE_BILINGUE                                                      NaN  \n",
       "COLE_CARACTER                                                ACADEMICO  \n",
       "COLE_DEPTO_UBICACION                                             VALLE  \n",
       "COLE_MCPIO_UBICACION                                      BUENAVENTURA  \n",
       "ESTU_RESIDE_DEPTO                                                VALLE  \n",
       "ESTU_RESIDE_MCPIO                                         BUENAVENTURA  \n",
       "ESTU_TIPO_DOCUMENTO                                                  R  "
      ]
     },
     "execution_count": 4,
     "metadata": {},
     "output_type": "execute_result"
    }
   ],
   "source": [
    "data_2004.head(3).T"
   ]
  },
  {
   "cell_type": "markdown",
   "metadata": {},
   "source": [
    "The first like always is delete the columns that won't contribute to the work"
   ]
  },
  {
   "cell_type": "code",
   "execution_count": 5,
   "metadata": {
    "collapsed": false
   },
   "outputs": [],
   "source": [
    "data_2004 = data_2004.drop(['ESTU_CONSECUTIVO', 'COLE_NOMBRE_SEDE', 'ESTU_TIPO_DOCUMENTO'], axis=1)"
   ]
  },
  {
   "cell_type": "code",
   "execution_count": 6,
   "metadata": {
    "collapsed": false,
    "scrolled": true
   },
   "outputs": [
    {
     "name": "stdout",
     "output_type": "stream",
     "text": [
      "Int64Index([   182,    265,    638,   1024,   1503,   2998,   3145,   3327,\n",
      "              3418,   3459,\n",
      "            ...\n",
      "            112466, 112474, 112482, 112508, 112516, 112532, 112557, 112607,\n",
      "            112623, 112706],\n",
      "           dtype='int64', length=1795)\n",
      "182        58\n",
      "265       193\n",
      "638        53\n",
      "1024       33\n",
      "1503       66\n",
      "2998       29\n",
      "3145       27\n",
      "3327       12\n",
      "3418       43\n",
      "3459       71\n",
      "3483       21\n",
      "4234       42\n",
      "5629       37\n",
      "6775       11\n",
      "6981       24\n",
      "7013       70\n",
      "7054       28\n",
      "7070      152\n",
      "7088       53\n",
      "7732        2\n",
      "7872        2\n",
      "8086       12\n",
      "8581      112\n",
      "9589       19\n",
      "9696       25\n",
      "9985       17\n",
      "10199       7\n",
      "10298     137\n",
      "10967      35\n",
      "11130      19\n",
      "         ... \n",
      "112003     25\n",
      "112011     93\n",
      "112029      2\n",
      "112037     16\n",
      "112060      4\n",
      "112078      9\n",
      "112102      1\n",
      "112110      7\n",
      "112136      8\n",
      "112169     16\n",
      "112177      6\n",
      "112219     17\n",
      "112227     14\n",
      "112235     11\n",
      "112243     10\n",
      "112250     14\n",
      "112268     17\n",
      "112276     18\n",
      "112284     21\n",
      "112300      2\n",
      "112466     22\n",
      "112474     12\n",
      "112482      9\n",
      "112508     33\n",
      "112516      7\n",
      "112532      7\n",
      "112557      9\n",
      "112607     25\n",
      "112623     14\n",
      "112706      7\n",
      "Name: COLE_COD_ICFES, dtype: int64\n",
      "Elementos null/NaN 0\n",
      "__________________\n",
      "Elementos diferentes de null/NaN: 64779\n",
      "__________________\n",
      "(64779,)\n",
      "None\n"
     ]
    }
   ],
   "source": [
    "print(data_2004['COLE_COD_ICFES'].value_counts().sort_index().index)\n",
    "print(data_2004['COLE_COD_ICFES'].value_counts().sort_index())\n",
    "print(missing_data(data_2004['COLE_COD_ICFES']))"
   ]
  },
  {
   "cell_type": "code",
   "execution_count": 7,
   "metadata": {
    "collapsed": false,
    "scrolled": true
   },
   "outputs": [
    {
     "name": "stdout",
     "output_type": "stream",
     "text": [
      "Index([2004.0, '2004', 2003.0, '2003', 2002.0, 2001.0, 2000.0, '2002', '2001',\n",
      "       1999.0, '1999', '1998', 1995.0, 1998.0, 1997.0, '2000', '1997', 1996.0,\n",
      "       1993.0, '1995', 1992.0, 1990.0, 1950.0, 1983.0, 1987.0, 1984.0, '1993',\n",
      "       1973.0, 1974.0, 1976.0, '1996', 1989.0, 1991.0, 1994.0, '1990', '1992',\n",
      "       '1979', 'D019', '1978', '1994'],\n",
      "      dtype='object')\n",
      "2004.0    37647\n",
      "2004       9356\n",
      "2003.0     7454\n",
      "2003       5162\n",
      "2002.0       96\n",
      "2001.0       61\n",
      "2000.0       47\n",
      "2002         39\n",
      "2001         27\n",
      "1999.0       19\n",
      "1999         12\n",
      "1998         12\n",
      "1995.0       10\n",
      "1998.0       10\n",
      "1997.0       10\n",
      "2000         10\n",
      "1997          7\n",
      "1996.0        6\n",
      "1993.0        5\n",
      "1995          3\n",
      "1992.0        3\n",
      "1990.0        2\n",
      "1950.0        2\n",
      "1983.0        2\n",
      "1987.0        2\n",
      "1984.0        1\n",
      "1993          1\n",
      "1973.0        1\n",
      "1974.0        1\n",
      "1976.0        1\n",
      "1996          1\n",
      "1989.0        1\n",
      "1991.0        1\n",
      "1994.0        1\n",
      "1990          1\n",
      "1992          1\n",
      "1979          1\n",
      "D019          1\n",
      "1978          1\n",
      "1994          1\n",
      "Name: IND_ANNO_TERMINO_BACHILLERATO, dtype: int64\n",
      "Elementos null/NaN 4760\n",
      "__________________\n",
      "Elementos diferentes de null/NaN: 60019\n",
      "__________________\n",
      "(60019,)\n",
      "None\n"
     ]
    }
   ],
   "source": [
    "print(data_2004['IND_ANNO_TERMINO_BACHILLERATO'].value_counts().index)\n",
    "print(data_2004['IND_ANNO_TERMINO_BACHILLERATO'].value_counts())\n",
    "print(missing_data(data_2004['IND_ANNO_TERMINO_BACHILLERATO']))"
   ]
  },
  {
   "cell_type": "code",
   "execution_count": 8,
   "metadata": {
    "collapsed": true
   },
   "outputs": [],
   "source": [
    "data_2004['IND_ANNO_TERMINO_BACHILLERATO'] = data_2004['IND_ANNO_TERMINO_BACHILLERATO'].replace('D019', np.nan)\n",
    "for i in data_2004['IND_ANNO_TERMINO_BACHILLERATO'].value_counts().index:\n",
    "    if type(i) == str:\n",
    "        data_2004['IND_ANNO_TERMINO_BACHILLERATO'] = data_2004['IND_ANNO_TERMINO_BACHILLERATO'].replace(i, float(i))"
   ]
  },
  {
   "cell_type": "code",
   "execution_count": 9,
   "metadata": {
    "collapsed": false,
    "scrolled": true
   },
   "outputs": [
    {
     "name": "stdout",
     "output_type": "stream",
     "text": [
      "cant null antes: 4761\n",
      "cant null despues: 0\n"
     ]
    }
   ],
   "source": [
    "Do_resamples(data_2004, 'IND_ANNO_TERMINO_BACHILLERATO', float)"
   ]
  },
  {
   "cell_type": "code",
   "execution_count": 10,
   "metadata": {
    "collapsed": false
   },
   "outputs": [
    {
     "name": "stdout",
     "output_type": "stream",
     "text": [
      "Index(['C', 'M', 'N', 'S', 'T'], dtype='object')\n",
      "C    16028\n",
      "M    28164\n",
      "N    11674\n",
      "S     1323\n",
      "T     7590\n",
      "Name: COLE_JORNADA, dtype: int64\n",
      "Elementos null/NaN 0\n",
      "__________________\n",
      "Elementos diferentes de null/NaN: 64779\n",
      "__________________\n",
      "(64779,)\n",
      "None\n"
     ]
    }
   ],
   "source": [
    "print(data_2004['COLE_JORNADA'].value_counts().sort_index().index)\n",
    "print(data_2004['COLE_JORNADA'].value_counts().sort_index())\n",
    "print(missing_data(data_2004['COLE_JORNADA']))"
   ]
  },
  {
   "cell_type": "code",
   "execution_count": 11,
   "metadata": {
    "collapsed": false
   },
   "outputs": [
    {
     "name": "stdout",
     "output_type": "stream",
     "text": [
      "Float64Index([1.0, 2.0, 3.0, 4.0, 5.0, 6.0, 7.0, 8.0], dtype='float64')\n",
      "1.0    15057\n",
      "2.0     8142\n",
      "3.0     5107\n",
      "4.0     3767\n",
      "5.0     3661\n",
      "6.0     2202\n",
      "7.0     4194\n",
      "8.0    17850\n",
      "Name: COLE_VALOR_PENSION, dtype: int64\n",
      "Elementos null/NaN 4799\n",
      "__________________\n",
      "Elementos diferentes de null/NaN: 59980\n",
      "__________________\n",
      "(59980,)\n",
      "None\n"
     ]
    }
   ],
   "source": [
    "print(data_2004['COLE_VALOR_PENSION'].value_counts().sort_index().index)\n",
    "print(data_2004['COLE_VALOR_PENSION'].value_counts().sort_index())\n",
    "print(missing_data(data_2004['COLE_VALOR_PENSION']))"
   ]
  },
  {
   "cell_type": "code",
   "execution_count": 12,
   "metadata": {
    "collapsed": false
   },
   "outputs": [
    {
     "name": "stdout",
     "output_type": "stream",
     "text": [
      "cant null antes: 4799\n",
      "cant null despues: 0\n"
     ]
    }
   ],
   "source": [
    "Do_resamples(data_2004, 'COLE_VALOR_PENSION', float)"
   ]
  },
  {
   "cell_type": "code",
   "execution_count": 13,
   "metadata": {
    "collapsed": false
   },
   "outputs": [
    {
     "name": "stdout",
     "output_type": "stream",
     "text": [
      "Index(['F', 'M'], dtype='object')\n",
      "F    35129\n",
      "M    29650\n",
      "Name: ESTU_GENERO, dtype: int64\n",
      "Elementos null/NaN 0\n",
      "__________________\n",
      "Elementos diferentes de null/NaN: 64779\n",
      "__________________\n",
      "(64779,)\n",
      "None\n"
     ]
    }
   ],
   "source": [
    "print(data_2004['ESTU_GENERO'].value_counts().sort_index().index)\n",
    "print(data_2004['ESTU_GENERO'].value_counts().sort_index())\n",
    "print(missing_data(data_2004['ESTU_GENERO']))"
   ]
  },
  {
   "cell_type": "code",
   "execution_count": 14,
   "metadata": {
    "collapsed": false,
    "scrolled": true
   },
   "outputs": [
    {
     "name": "stdout",
     "output_type": "stream",
     "text": [
      "Float64Index([ 1.0,  2.0,  3.0,  4.0,  5.0,  6.0,  7.0,  8.0,  9.0, 10.0, 11.0,\n",
      "              12.0, 13.0, 14.0, 15.0, 16.0, 17.0, 18.0, 19.0, 20.0, 21.0, 22.0,\n",
      "              23.0, 24.0, 25.0, 26.0, 27.0, 28.0, 29.0, 30.0, 31.0],\n",
      "             dtype='float64')\n",
      "1.0     2081\n",
      "2.0     1970\n",
      "3.0     1972\n",
      "4.0     2032\n",
      "5.0     2126\n",
      "6.0     1928\n",
      "7.0     1989\n",
      "8.0     2046\n",
      "9.0     1983\n",
      "10.0    2068\n",
      "11.0    1984\n",
      "12.0    2097\n",
      "13.0    1982\n",
      "14.0    1912\n",
      "15.0    2175\n",
      "16.0    1962\n",
      "17.0    1968\n",
      "18.0    1946\n",
      "19.0    1949\n",
      "20.0    2157\n",
      "21.0    1892\n",
      "22.0    1991\n",
      "23.0    2031\n",
      "24.0    1987\n",
      "25.0    2004\n",
      "26.0    1962\n",
      "27.0    1910\n",
      "28.0    2067\n",
      "29.0    1773\n",
      "30.0    1773\n",
      "31.0    1023\n",
      "Name: ESTU_NACIMIENTO_DIA, dtype: int64\n",
      "Elementos null/NaN 4039\n",
      "__________________\n",
      "Elementos diferentes de null/NaN: 60740\n",
      "__________________\n",
      "(60740,)\n",
      "None\n"
     ]
    }
   ],
   "source": [
    "print(data_2004['ESTU_NACIMIENTO_DIA'].value_counts().sort_index().index)\n",
    "print(data_2004['ESTU_NACIMIENTO_DIA'].value_counts().sort_index())\n",
    "print(missing_data(data_2004['ESTU_NACIMIENTO_DIA']))"
   ]
  },
  {
   "cell_type": "code",
   "execution_count": 15,
   "metadata": {
    "collapsed": false,
    "scrolled": true
   },
   "outputs": [
    {
     "name": "stdout",
     "output_type": "stream",
     "text": [
      "Float64Index([ 1.0,  2.0,  3.0,  4.0,  5.0,  6.0,  7.0,  8.0,  9.0, 10.0, 11.0,\n",
      "              12.0, 16.0, 18.0, 19.0, 22.0],\n",
      "             dtype='float64')\n",
      "1.0     4925\n",
      "2.0     4575\n",
      "3.0     5112\n",
      "4.0     4964\n",
      "5.0     5091\n",
      "6.0     5000\n",
      "7.0     5173\n",
      "8.0     5174\n",
      "9.0     5370\n",
      "10.0    5258\n",
      "11.0    4944\n",
      "12.0    5147\n",
      "16.0       1\n",
      "18.0       2\n",
      "19.0       2\n",
      "22.0       1\n",
      "Name: ESTU_NACIMIENTO_MES, dtype: int64\n",
      "Elementos null/NaN 4040\n",
      "__________________\n",
      "Elementos diferentes de null/NaN: 60739\n",
      "__________________\n",
      "(60739,)\n",
      "None\n"
     ]
    }
   ],
   "source": [
    "print(data_2004['ESTU_NACIMIENTO_MES'].value_counts().sort_index().index)\n",
    "print(data_2004['ESTU_NACIMIENTO_MES'].value_counts().sort_index())\n",
    "print(missing_data(data_2004['ESTU_NACIMIENTO_MES']))"
   ]
  },
  {
   "cell_type": "code",
   "execution_count": 16,
   "metadata": {
    "collapsed": true
   },
   "outputs": [],
   "source": [
    "data_2004['ESTU_NACIMIENTO_MES'] = data_2004['ESTU_NACIMIENTO_MES'].replace(16.0, np.nan)\n",
    "data_2004['ESTU_NACIMIENTO_MES'] = data_2004['ESTU_NACIMIENTO_MES'].replace(18.0, np.nan)\n",
    "data_2004['ESTU_NACIMIENTO_MES'] = data_2004['ESTU_NACIMIENTO_MES'].replace(19.0, np.nan)\n",
    "data_2004['ESTU_NACIMIENTO_MES'] = data_2004['ESTU_NACIMIENTO_MES'].replace(22.0, np.nan)"
   ]
  },
  {
   "cell_type": "code",
   "execution_count": 17,
   "metadata": {
    "collapsed": false,
    "scrolled": true
   },
   "outputs": [
    {
     "name": "stdout",
     "output_type": "stream",
     "text": [
      "Float64Index([  82.0,   86.0,   88.0,  183.0,  186.0,  984.0,  985.0, 1659.0,\n",
      "              1920.0, 1923.0, 1925.0, 1928.0, 1936.0, 1937.0, 1938.0, 1939.0,\n",
      "              1940.0, 1941.0, 1942.0, 1943.0, 1944.0, 1945.0, 1946.0, 1947.0,\n",
      "              1948.0, 1949.0, 1950.0, 1951.0, 1952.0, 1953.0, 1954.0, 1955.0,\n",
      "              1956.0, 1957.0, 1958.0, 1959.0, 1960.0, 1961.0, 1962.0, 1963.0,\n",
      "              1964.0, 1965.0, 1966.0, 1967.0, 1968.0, 1969.0, 1970.0, 1971.0,\n",
      "              1972.0, 1973.0, 1974.0, 1975.0, 1976.0, 1977.0, 1978.0, 1979.0,\n",
      "              1980.0, 1981.0, 1982.0, 1983.0, 1984.0, 1985.0, 1986.0, 1987.0,\n",
      "              1988.0, 1989.0, 1990.0, 1991.0, 1992.0, 1993.0, 1994.0, 1995.0,\n",
      "              1998.0],\n",
      "             dtype='float64')\n",
      "82.0          1\n",
      "86.0          1\n",
      "88.0          1\n",
      "183.0         1\n",
      "186.0         1\n",
      "984.0         1\n",
      "985.0         2\n",
      "1659.0        1\n",
      "1920.0        2\n",
      "1923.0        1\n",
      "1925.0        1\n",
      "1928.0        1\n",
      "1936.0        1\n",
      "1937.0        1\n",
      "1938.0        2\n",
      "1939.0        1\n",
      "1940.0        3\n",
      "1941.0        4\n",
      "1942.0        1\n",
      "1943.0        4\n",
      "1944.0        3\n",
      "1945.0        5\n",
      "1946.0        7\n",
      "1947.0        9\n",
      "1948.0        9\n",
      "1949.0       13\n",
      "1950.0       16\n",
      "1951.0       18\n",
      "1952.0       18\n",
      "1953.0       21\n",
      "          ...  \n",
      "1967.0      190\n",
      "1968.0      178\n",
      "1969.0      194\n",
      "1970.0      197\n",
      "1971.0      201\n",
      "1972.0      222\n",
      "1973.0      221\n",
      "1974.0      237\n",
      "1975.0      265\n",
      "1976.0      313\n",
      "1977.0      351\n",
      "1978.0      424\n",
      "1979.0      570\n",
      "1980.0      637\n",
      "1981.0      820\n",
      "1982.0     1203\n",
      "1983.0     1883\n",
      "1984.0     3866\n",
      "1985.0     8120\n",
      "1986.0    14162\n",
      "1987.0    18728\n",
      "1988.0     5695\n",
      "1989.0      427\n",
      "1990.0      100\n",
      "1991.0       51\n",
      "1992.0       46\n",
      "1993.0       52\n",
      "1994.0       40\n",
      "1995.0      125\n",
      "1998.0        1\n",
      "Name: ESTU_NACIMIENTO_ANNO, dtype: int64\n",
      "Elementos null/NaN 4040\n",
      "__________________\n",
      "Elementos diferentes de null/NaN: 60739\n",
      "__________________\n",
      "(60739,)\n",
      "None\n"
     ]
    }
   ],
   "source": [
    "print(data_2004['ESTU_NACIMIENTO_ANNO'].value_counts().sort_index().index)\n",
    "print(data_2004['ESTU_NACIMIENTO_ANNO'].value_counts().sort_index())\n",
    "print(missing_data(data_2004['ESTU_NACIMIENTO_ANNO']))"
   ]
  },
  {
   "cell_type": "code",
   "execution_count": 18,
   "metadata": {
    "collapsed": true
   },
   "outputs": [],
   "source": [
    "for i in data_2004['ESTU_NACIMIENTO_ANNO'].value_counts().sort_index().index:\n",
    "    if i < 1900:\n",
    "        data_2004['ESTU_NACIMIENTO_ANNO'] = data_2004['ESTU_NACIMIENTO_ANNO'].replace(i, np.nan)"
   ]
  },
  {
   "cell_type": "code",
   "execution_count": 19,
   "metadata": {
    "collapsed": false
   },
   "outputs": [],
   "source": [
    "anno = data_2004[data_2004['ESTU_NACIMIENTO_ANNO'].isnull()].index\n",
    "data_2004 = data_2004.drop(anno)\n",
    "mes = data_2004[data_2004['ESTU_NACIMIENTO_MES'].isnull()].index\n",
    "data_2004 = data_2004.drop(mes)"
   ]
  },
  {
   "cell_type": "code",
   "execution_count": 20,
   "metadata": {
    "collapsed": false,
    "scrolled": true
   },
   "outputs": [
    {
     "name": "stdout",
     "output_type": "stream",
     "text": [
      "Index(['ANTIOQUIA', 'ARAUCA', 'ATLANTICO', 'BOGOTA', 'BOLIVAR', 'BOYACA',\n",
      "       'CALDAS', 'CAQUETA', 'CASANARE', 'CAUCA', 'CESAR', 'CHOCO', 'CORDOBA',\n",
      "       'CUNDINAMARCA', 'HUILA', 'LA GUAJIRA', 'MAGDALENA', 'META', 'NARIÑO',\n",
      "       'NORTE SANTANDER', 'PUTUMAYO', 'QUINDIO', 'RISARALDA', 'SANTANDER',\n",
      "       'SUCRE', 'TOLIMA', 'VALLE'],\n",
      "      dtype='object')\n",
      "ANTIOQUIA           2633\n",
      "ARAUCA                15\n",
      "ATLANTICO            464\n",
      "BOGOTA              6560\n",
      "BOLIVAR              267\n",
      "BOYACA               421\n",
      "CALDAS               367\n",
      "CAQUETA               75\n",
      "CASANARE             132\n",
      "CAUCA               1105\n",
      "CESAR                 89\n",
      "CHOCO                  1\n",
      "CORDOBA              127\n",
      "CUNDINAMARCA        1276\n",
      "HUILA                339\n",
      "LA GUAJIRA           200\n",
      "MAGDALENA             39\n",
      "META                 271\n",
      "NARIÑO             11405\n",
      "NORTE SANTANDER      516\n",
      "PUTUMAYO              30\n",
      "QUINDIO              423\n",
      "RISARALDA            224\n",
      "SANTANDER            603\n",
      "SUCRE                  9\n",
      "TOLIMA               493\n",
      "VALLE              32639\n",
      "Name: ESTU_DEPTO_PRESENTACION, dtype: int64\n",
      "Elementos null/NaN 0\n",
      "__________________\n",
      "Elementos diferentes de null/NaN: 60723\n",
      "__________________\n",
      "(60723,)\n",
      "None\n"
     ]
    }
   ],
   "source": [
    "print(data_2004['ESTU_DEPTO_PRESENTACION'].value_counts().sort_index().index)\n",
    "print(data_2004['ESTU_DEPTO_PRESENTACION'].value_counts().sort_index())\n",
    "print(missing_data(data_2004['ESTU_DEPTO_PRESENTACION']))"
   ]
  },
  {
   "cell_type": "code",
   "execution_count": 21,
   "metadata": {
    "collapsed": false,
    "scrolled": true
   },
   "outputs": [
    {
     "name": "stdout",
     "output_type": "stream",
     "text": [
      "Index(['ACACIAS', 'AGUACHICA', 'ALBANIA', 'ALCALA', 'ANDALUCIA',\n",
      "       'ANSERMANUEVO', 'APARTADO', 'ARAUCA', 'ARMENIA', 'BARBACOAS',\n",
      "       ...\n",
      "       'TUQUERRES', 'UBATE', 'VALLEDUPAR', 'VELEZ', 'VILLAVICENCIO', 'YOLOMBO',\n",
      "       'YOPAL', 'YUMBO', 'ZARZAL', 'ZIPAQUIRA'],\n",
      "      dtype='object', length=115)\n",
      "ACACIAS                       7\n",
      "AGUACHICA                    27\n",
      "ALBANIA                      41\n",
      "ALCALA                      106\n",
      "ANDALUCIA                   166\n",
      "ANSERMANUEVO                 69\n",
      "APARTADO                     91\n",
      "ARAUCA                       15\n",
      "ARMENIA                     349\n",
      "BARBACOAS                    76\n",
      "BARRANCABERMEJA              28\n",
      "BARRANQUILLA                464\n",
      "BELLO                       254\n",
      "BOGOTA D.C.                6560\n",
      "BOLIVAR                      44\n",
      "BUCARAMANGA                 521\n",
      "BUENAVENTURA               2052\n",
      "BUESACO                     196\n",
      "BUGA                       1346\n",
      "BUGALAGRANDE                198\n",
      "CAICEDONIA                  252\n",
      "CALI                      16624\n",
      "CALIMA (DARIEN)              90\n",
      "CAMPOALEGRE                   3\n",
      "CANDELARIA                  640\n",
      "CARTAGENA                   257\n",
      "CARTAGO                    1147\n",
      "CAUCASIA                    169\n",
      "CHAPARRAL                    78\n",
      "CHIA                        198\n",
      "                          ...  \n",
      "SAMANIEGO                   197\n",
      "SAN GIL                      15\n",
      "SAN MARTIN                   15\n",
      "SAN PABLO                   140\n",
      "SANDONA                     227\n",
      "SANTA MARTA                  39\n",
      "SANTA ROSA DE OSOS           15\n",
      "SANTANDER DE QUILICHAO       58\n",
      "SEVILLA                     298\n",
      "SINCELEJO                     9\n",
      "SOACHA                      328\n",
      "SOGAMOSO                    135\n",
      "TAMINANGO                   134\n",
      "TANGUA                       63\n",
      "TIERRALTA                    15\n",
      "TORO                        118\n",
      "TRUJILLO                    120\n",
      "TULUA                      1981\n",
      "TUMACO                      860\n",
      "TUNJA                       286\n",
      "TUQUERRES                   502\n",
      "UBATE                        47\n",
      "VALLEDUPAR                   62\n",
      "VELEZ                        21\n",
      "VILLAVICENCIO               208\n",
      "YOLOMBO                       7\n",
      "YOPAL                       132\n",
      "YUMBO                       887\n",
      "ZARZAL                      369\n",
      "ZIPAQUIRA                    83\n",
      "Name: ESTU_MCPIO_PRESENTACION, dtype: int64\n",
      "Elementos null/NaN 0\n",
      "__________________\n",
      "Elementos diferentes de null/NaN: 60723\n",
      "__________________\n",
      "(60723,)\n",
      "None\n"
     ]
    }
   ],
   "source": [
    "print(data_2004['ESTU_MCPIO_PRESENTACION'].value_counts().sort_index().index)\n",
    "print(data_2004['ESTU_MCPIO_PRESENTACION'].value_counts().sort_index())\n",
    "print(missing_data(data_2004['ESTU_MCPIO_PRESENTACION']))"
   ]
  },
  {
   "cell_type": "code",
   "execution_count": 22,
   "metadata": {
    "collapsed": false
   },
   "outputs": [
    {
     "name": "stdout",
     "output_type": "stream",
     "text": [
      "Index(['I'], dtype='object')\n",
      "I    5\n",
      "Name: ESTU_LIMITA_INVIDENTE, dtype: int64\n",
      "Elementos null/NaN 60718\n",
      "__________________\n",
      "Elementos diferentes de null/NaN: 5\n",
      "__________________\n",
      "(5,)\n",
      "None\n"
     ]
    }
   ],
   "source": [
    "print(data_2004['ESTU_LIMITA_INVIDENTE'].value_counts().sort_index().index)\n",
    "print(data_2004['ESTU_LIMITA_INVIDENTE'].value_counts().sort_index())\n",
    "print(missing_data(data_2004['ESTU_LIMITA_INVIDENTE']))"
   ]
  },
  {
   "cell_type": "code",
   "execution_count": 23,
   "metadata": {
    "collapsed": true
   },
   "outputs": [],
   "source": [
    "data_2004 = data_2004.drop(['ESTU_LIMITA_INVIDENTE'], axis=1)"
   ]
  },
  {
   "cell_type": "code",
   "execution_count": 24,
   "metadata": {
    "collapsed": false,
    "scrolled": true
   },
   "outputs": [
    {
     "name": "stdout",
     "output_type": "stream",
     "text": [
      "Index(['R'], dtype='object')\n",
      "R    10\n",
      "Name: ESTU_LIMITA_SORDOINTERPRETE, dtype: int64\n",
      "Elementos null/NaN 60713\n",
      "__________________\n",
      "Elementos diferentes de null/NaN: 10\n",
      "__________________\n",
      "(10,)\n",
      "None\n"
     ]
    }
   ],
   "source": [
    "print(data_2004['ESTU_LIMITA_SORDOINTERPRETE'].value_counts().sort_index().index)\n",
    "print(data_2004['ESTU_LIMITA_SORDOINTERPRETE'].value_counts().sort_index())\n",
    "print(missing_data(data_2004['ESTU_LIMITA_SORDOINTERPRETE']))"
   ]
  },
  {
   "cell_type": "code",
   "execution_count": 25,
   "metadata": {
    "collapsed": true
   },
   "outputs": [],
   "source": [
    "data_2004 = data_2004.drop(['ESTU_LIMITA_SORDOINTERPRETE'], axis=1)"
   ]
  },
  {
   "cell_type": "code",
   "execution_count": 26,
   "metadata": {
    "collapsed": false
   },
   "outputs": [
    {
     "name": "stdout",
     "output_type": "stream",
     "text": [
      "Index(['S'], dtype='object')\n",
      "S    1\n",
      "Name: ESTU_LIMITA_SORDONOINTERPRETE, dtype: int64\n",
      "Elementos null/NaN 60722\n",
      "__________________\n",
      "Elementos diferentes de null/NaN: 1\n",
      "__________________\n",
      "(1,)\n",
      "None\n"
     ]
    }
   ],
   "source": [
    "print(data_2004['ESTU_LIMITA_SORDONOINTERPRETE'].value_counts().sort_index().index)\n",
    "print(data_2004['ESTU_LIMITA_SORDONOINTERPRETE'].value_counts().sort_index())\n",
    "print(missing_data(data_2004['ESTU_LIMITA_SORDONOINTERPRETE']))"
   ]
  },
  {
   "cell_type": "code",
   "execution_count": 27,
   "metadata": {
    "collapsed": true
   },
   "outputs": [],
   "source": [
    "\"\"\"Since the column is almost empy i will just delete the column.\"\"\"\n",
    "data_2004 = data_2004.drop(['ESTU_LIMITA_SORDONOINTERPRETE'], axis=1)"
   ]
  },
  {
   "cell_type": "code",
   "execution_count": 28,
   "metadata": {
    "collapsed": false
   },
   "outputs": [
    {
     "name": "stdout",
     "output_type": "stream",
     "text": [
      "Index(['M'], dtype='object')\n",
      "M    4\n",
      "Name: ESTU_LIMITA_MOTRIZ, dtype: int64\n",
      "Elementos null/NaN 60719\n",
      "__________________\n",
      "Elementos diferentes de null/NaN: 4\n",
      "__________________\n",
      "(4,)\n",
      "None\n"
     ]
    }
   ],
   "source": [
    "print(data_2004['ESTU_LIMITA_MOTRIZ'].value_counts().sort_index().index)\n",
    "print(data_2004['ESTU_LIMITA_MOTRIZ'].value_counts().sort_index())\n",
    "print(missing_data(data_2004['ESTU_LIMITA_MOTRIZ']))"
   ]
  },
  {
   "cell_type": "code",
   "execution_count": 29,
   "metadata": {
    "collapsed": true
   },
   "outputs": [],
   "source": [
    "data_2004 = data_2004.drop(['ESTU_LIMITA_MOTRIZ'], axis=1)"
   ]
  },
  {
   "cell_type": "code",
   "execution_count": 30,
   "metadata": {
    "collapsed": false,
    "scrolled": true
   },
   "outputs": [
    {
     "name": "stdout",
     "output_type": "stream",
     "text": [
      "Float64Index([1101.0, 1102.0, 1103.0, 1104.0, 1106.0, 1107.0, 1108.0, 1110.0,\n",
      "              1111.0, 1112.0,\n",
      "              ...\n",
      "              2830.0, 2831.0, 2832.0, 2833.0, 2837.0, 2839.0, 9103.0, 9104.0,\n",
      "              9105.0, 9107.0],\n",
      "             dtype='float64', length=151)\n",
      "1101.0     3489\n",
      "1102.0      309\n",
      "1103.0      173\n",
      "1104.0      379\n",
      "1106.0      211\n",
      "1107.0        3\n",
      "1108.0       39\n",
      "1110.0     1710\n",
      "1111.0      288\n",
      "1112.0      348\n",
      "1113.0       32\n",
      "1114.0       88\n",
      "1115.0       12\n",
      "1117.0       96\n",
      "1118.0        5\n",
      "1119.0       83\n",
      "1120.0        9\n",
      "1121.0        6\n",
      "1122.0      127\n",
      "1201.0     1524\n",
      "1202.0       34\n",
      "1203.0    17568\n",
      "1204.0      245\n",
      "1205.0       18\n",
      "1206.0     3283\n",
      "1207.0      134\n",
      "1208.0      180\n",
      "1209.0      167\n",
      "1210.0        2\n",
      "1212.0      115\n",
      "          ...  \n",
      "2737.0       28\n",
      "2741.0        6\n",
      "2801.0      426\n",
      "2805.0       47\n",
      "2806.0       30\n",
      "2809.0       14\n",
      "2810.0       21\n",
      "2811.0       64\n",
      "2812.0        5\n",
      "2813.0       82\n",
      "2817.0       49\n",
      "2818.0       16\n",
      "2819.0       38\n",
      "2820.0        8\n",
      "2823.0        4\n",
      "2824.0       28\n",
      "2825.0       19\n",
      "2827.0       53\n",
      "2828.0       17\n",
      "2829.0       24\n",
      "2830.0       25\n",
      "2831.0       52\n",
      "2832.0      137\n",
      "2833.0       83\n",
      "2837.0       15\n",
      "2839.0       11\n",
      "9103.0       50\n",
      "9104.0      102\n",
      "9105.0        9\n",
      "9107.0       20\n",
      "Name: ESTU_IES_COD_DESEADA, dtype: int64\n",
      "Elementos null/NaN 15455\n",
      "__________________\n",
      "Elementos diferentes de null/NaN: 45268\n",
      "__________________\n",
      "(45268,)\n",
      "None\n"
     ]
    }
   ],
   "source": [
    "print(data_2004['ESTU_IES_COD_DESEADA'].value_counts().sort_index().index)\n",
    "print(data_2004['ESTU_IES_COD_DESEADA'].value_counts().sort_index())\n",
    "print(missing_data(data_2004['ESTU_IES_COD_DESEADA']))"
   ]
  },
  {
   "cell_type": "code",
   "execution_count": 31,
   "metadata": {
    "collapsed": true
   },
   "outputs": [],
   "source": [
    "data_2004['ESTU_IES_COD_DESEADA'].fillna(method='bfill', inplace=True)"
   ]
  },
  {
   "cell_type": "code",
   "execution_count": 32,
   "metadata": {
    "collapsed": false
   },
   "outputs": [
    {
     "name": "stdout",
     "output_type": "stream",
     "text": [
      "Float64Index([1.0, 2.0, 3.0, 4.0, 5.0, 6.0, 7.0, 8.0], dtype='float64')\n",
      "1.0      965\n",
      "2.0    21993\n",
      "3.0     4893\n",
      "4.0     3061\n",
      "5.0     8124\n",
      "6.0     3345\n",
      "7.0     3054\n",
      "8.0     1749\n",
      "Name: ESTU_RAZONINSTITUTO, dtype: int64\n",
      "Elementos null/NaN 13539\n",
      "__________________\n",
      "Elementos diferentes de null/NaN: 47184\n",
      "__________________\n",
      "(47184,)\n",
      "None\n"
     ]
    }
   ],
   "source": [
    "print(data_2004['ESTU_RAZONINSTITUTO'].value_counts().sort_index().index)\n",
    "print(data_2004['ESTU_RAZONINSTITUTO'].value_counts().sort_index())\n",
    "print(missing_data(data_2004['ESTU_RAZONINSTITUTO']))"
   ]
  },
  {
   "cell_type": "code",
   "execution_count": 33,
   "metadata": {
    "collapsed": false
   },
   "outputs": [
    {
     "name": "stdout",
     "output_type": "stream",
     "text": [
      "cant null antes: 13539\n",
      "cant null despues: 0\n"
     ]
    }
   ],
   "source": [
    "Do_resamples(data_2004, 'ESTU_RAZONINSTITUTO', float)"
   ]
  },
  {
   "cell_type": "code",
   "execution_count": 34,
   "metadata": {
    "collapsed": false,
    "scrolled": true
   },
   "outputs": [
    {
     "name": "stdout",
     "output_type": "stream",
     "text": [
      "Float64Index([201.0, 202.0, 203.0, 204.0, 205.0, 206.0, 207.0, 208.0, 209.0,\n",
      "              210.0, 211.0, 212.0, 213.0, 214.0, 215.0, 216.0, 217.0, 218.0,\n",
      "              219.0, 220.0, 221.0, 222.0, 223.0, 224.0, 225.0, 226.0],\n",
      "             dtype='float64')\n",
      "201.0    3305\n",
      "202.0     992\n",
      "203.0     210\n",
      "204.0    8886\n",
      "205.0     279\n",
      "206.0    2426\n",
      "207.0      57\n",
      "208.0     337\n",
      "209.0    2038\n",
      "210.0     712\n",
      "211.0    1261\n",
      "212.0     502\n",
      "213.0    2288\n",
      "214.0     858\n",
      "215.0    2695\n",
      "216.0    7701\n",
      "217.0    1744\n",
      "218.0      73\n",
      "219.0     665\n",
      "220.0     732\n",
      "221.0      66\n",
      "222.0     118\n",
      "223.0     267\n",
      "224.0    3984\n",
      "225.0    4403\n",
      "226.0     965\n",
      "Name: ESTU_CARRDESEADA_COD, dtype: int64\n",
      "Elementos null/NaN 13159\n",
      "__________________\n",
      "Elementos diferentes de null/NaN: 47564\n",
      "__________________\n",
      "(47564,)\n",
      "None\n"
     ]
    }
   ],
   "source": [
    "print(data_2004['ESTU_CARRDESEADA_COD'].value_counts().sort_index().index)\n",
    "print(data_2004['ESTU_CARRDESEADA_COD'].value_counts().sort_index())\n",
    "print(missing_data(data_2004['ESTU_CARRDESEADA_COD']))"
   ]
  },
  {
   "cell_type": "code",
   "execution_count": 35,
   "metadata": {
    "collapsed": false
   },
   "outputs": [
    {
     "name": "stdout",
     "output_type": "stream",
     "text": [
      "cant null antes: 13159\n",
      "cant null despues: 1\n",
      "cant null antes: 1\n",
      "cant null despues: 0\n"
     ]
    }
   ],
   "source": [
    "Do_resamples(data_2004, 'ESTU_CARRDESEADA_COD', float)"
   ]
  },
  {
   "cell_type": "code",
   "execution_count": 36,
   "metadata": {
    "collapsed": false
   },
   "outputs": [
    {
     "name": "stdout",
     "output_type": "stream",
     "text": [
      "Float64Index([1.0, 2.0, 3.0, 4.0, 5.0, 6.0], dtype='float64')\n",
      "1.0    17192\n",
      "2.0    13883\n",
      "3.0     5098\n",
      "4.0     4097\n",
      "5.0     3797\n",
      "6.0     1163\n",
      "Name: ESTU_CARRDESEADA_RAZON, dtype: int64\n",
      "Elementos null/NaN 15493\n",
      "__________________\n",
      "Elementos diferentes de null/NaN: 45230\n",
      "__________________\n",
      "(45230,)\n",
      "None\n"
     ]
    }
   ],
   "source": [
    "print(data_2004['ESTU_CARRDESEADA_RAZON'].value_counts().sort_index().index)\n",
    "print(data_2004['ESTU_CARRDESEADA_RAZON'].value_counts().sort_index())\n",
    "print(missing_data(data_2004['ESTU_CARRDESEADA_RAZON']))"
   ]
  },
  {
   "cell_type": "code",
   "execution_count": 37,
   "metadata": {
    "collapsed": false
   },
   "outputs": [
    {
     "name": "stdout",
     "output_type": "stream",
     "text": [
      "cant null antes: 15493\n",
      "cant null despues: 1\n",
      "cant null antes: 1\n",
      "cant null despues: 0\n"
     ]
    }
   ],
   "source": [
    "Do_resamples(data_2004, 'ESTU_CARRDESEADA_RAZON', float)"
   ]
  },
  {
   "cell_type": "code",
   "execution_count": 38,
   "metadata": {
    "collapsed": false
   },
   "outputs": [
    {
     "name": "stdout",
     "output_type": "stream",
     "text": [
      "Index(['+', '1', '2', '3', '4', '5', '6', '7', '8', '9'], dtype='object')\n",
      "+     1500\n",
      "1      325\n",
      "2     2402\n",
      "3     8092\n",
      "4    16490\n",
      "5    14403\n",
      "6     7615\n",
      "7     3763\n",
      "8     2166\n",
      "9     1131\n",
      "Name: FAMI_PERSONAS_HOGAR, dtype: int64\n",
      "Elementos null/NaN 2836\n",
      "__________________\n",
      "Elementos diferentes de null/NaN: 57887\n",
      "__________________\n",
      "(57887,)\n",
      "None\n"
     ]
    }
   ],
   "source": [
    "print(data_2004['FAMI_PERSONAS_HOGAR'].value_counts().sort_index().index)\n",
    "print(data_2004['FAMI_PERSONAS_HOGAR'].value_counts().sort_index())\n",
    "print(missing_data(data_2004['FAMI_PERSONAS_HOGAR']))"
   ]
  },
  {
   "cell_type": "code",
   "execution_count": 39,
   "metadata": {
    "collapsed": true
   },
   "outputs": [],
   "source": [
    "data_2004['FAMI_PERSONAS_HOGAR'] = data_2004['FAMI_PERSONAS_HOGAR'].replace('+', '+9')"
   ]
  },
  {
   "cell_type": "code",
   "execution_count": 40,
   "metadata": {
    "collapsed": false
   },
   "outputs": [
    {
     "name": "stdout",
     "output_type": "stream",
     "text": [
      "cant null antes: 2836\n",
      "cant null despues: 1\n",
      "cant null antes: 1\n",
      "cant null despues: 0\n"
     ]
    }
   ],
   "source": [
    "Do_resamples(data_2004, 'FAMI_PERSONAS_HOGAR', str)"
   ]
  },
  {
   "cell_type": "code",
   "execution_count": 41,
   "metadata": {
    "collapsed": false
   },
   "outputs": [
    {
     "name": "stdout",
     "output_type": "stream",
     "text": [
      "Index(['N', 'S'], dtype='object')\n",
      "N    17942\n",
      "S    39825\n",
      "Name: FAMI_VIVIENDA_PROPIA, dtype: int64\n",
      "Elementos null/NaN 2956\n",
      "__________________\n",
      "Elementos diferentes de null/NaN: 57767\n",
      "__________________\n",
      "(57767,)\n",
      "None\n"
     ]
    }
   ],
   "source": [
    "print(data_2004['FAMI_VIVIENDA_PROPIA'].value_counts().sort_index().index)\n",
    "print(data_2004['FAMI_VIVIENDA_PROPIA'].value_counts().sort_index())\n",
    "print(missing_data(data_2004['FAMI_VIVIENDA_PROPIA']))"
   ]
  },
  {
   "cell_type": "code",
   "execution_count": 42,
   "metadata": {
    "collapsed": false
   },
   "outputs": [
    {
     "name": "stdout",
     "output_type": "stream",
     "text": [
      "cant null antes: 2956\n",
      "cant null despues: 0\n"
     ]
    }
   ],
   "source": [
    "Do_resamples(data_2004, 'FAMI_VIVIENDA_PROPIA', str)"
   ]
  },
  {
   "cell_type": "code",
   "execution_count": 43,
   "metadata": {
    "collapsed": false
   },
   "outputs": [
    {
     "name": "stdout",
     "output_type": "stream",
     "text": [
      "Index(['N', 'S'], dtype='object')\n",
      "N    49713\n",
      "S     8054\n",
      "Name: FAMI_DEUDA_VIVIENDA, dtype: int64\n",
      "Elementos null/NaN 2956\n",
      "__________________\n",
      "Elementos diferentes de null/NaN: 57767\n",
      "__________________\n",
      "(57767,)\n",
      "None\n"
     ]
    }
   ],
   "source": [
    "print(data_2004['FAMI_DEUDA_VIVIENDA'].value_counts().sort_index().index)\n",
    "print(data_2004['FAMI_DEUDA_VIVIENDA'].value_counts().sort_index())\n",
    "print(missing_data(data_2004['FAMI_DEUDA_VIVIENDA']))"
   ]
  },
  {
   "cell_type": "code",
   "execution_count": 44,
   "metadata": {
    "collapsed": false
   },
   "outputs": [
    {
     "name": "stdout",
     "output_type": "stream",
     "text": [
      "cant null antes: 2956\n",
      "cant null despues: 0\n"
     ]
    }
   ],
   "source": [
    "Do_resamples(data_2004, 'FAMI_DEUDA_VIVIENDA', str)"
   ]
  },
  {
   "cell_type": "code",
   "execution_count": 45,
   "metadata": {
    "collapsed": false
   },
   "outputs": [
    {
     "name": "stdout",
     "output_type": "stream",
     "text": [
      "Index(['+', '1', '2', '3', '4', '5', '6', '7', '8', '9'], dtype='object')\n",
      "+       34\n",
      "1    29666\n",
      "2    22218\n",
      "3     4084\n",
      "4     1119\n",
      "5      359\n",
      "6      119\n",
      "7       52\n",
      "8       25\n",
      "9       16\n",
      "Name: FAMI_APORTANTES, dtype: int64\n",
      "Elementos null/NaN 3031\n",
      "__________________\n",
      "Elementos diferentes de null/NaN: 57692\n",
      "__________________\n",
      "(57692,)\n",
      "None\n"
     ]
    }
   ],
   "source": [
    "print(data_2004['FAMI_APORTANTES'].value_counts().sort_index().index)\n",
    "print(data_2004['FAMI_APORTANTES'].value_counts().sort_index())\n",
    "print(missing_data(data_2004['FAMI_APORTANTES']))"
   ]
  },
  {
   "cell_type": "code",
   "execution_count": 46,
   "metadata": {
    "collapsed": true
   },
   "outputs": [],
   "source": [
    "data_2004['FAMI_APORTANTES'] = data_2004['FAMI_APORTANTES'].replace('+', '+9')"
   ]
  },
  {
   "cell_type": "code",
   "execution_count": 47,
   "metadata": {
    "collapsed": false
   },
   "outputs": [
    {
     "name": "stdout",
     "output_type": "stream",
     "text": [
      "cant null antes: 3031\n",
      "cant null despues: 0\n"
     ]
    }
   ],
   "source": [
    "Do_resamples(data_2004, 'FAMI_APORTANTES', str)"
   ]
  },
  {
   "cell_type": "code",
   "execution_count": 48,
   "metadata": {
    "collapsed": false
   },
   "outputs": [
    {
     "name": "stdout",
     "output_type": "stream",
     "text": [
      "Float64Index([0.0, 1.0, 2.0, 3.0, 4.0, 5.0, 6.0, 7.0, 8.0, 9.0], dtype='float64')\n",
      "0.0    10573\n",
      "1.0    23846\n",
      "2.0     9707\n",
      "3.0     4824\n",
      "4.0     1767\n",
      "5.0      854\n",
      "6.0      923\n",
      "7.0      469\n",
      "8.0      475\n",
      "9.0     1296\n",
      "Name: FAMI_INGRESO_FMILIAR_MENSUAL, dtype: int64\n",
      "Elementos null/NaN 5989\n",
      "__________________\n",
      "Elementos diferentes de null/NaN: 54734\n",
      "__________________\n",
      "(54734,)\n",
      "None\n"
     ]
    }
   ],
   "source": [
    "print(data_2004['FAMI_INGRESO_FMILIAR_MENSUAL'].value_counts().sort_index().index)\n",
    "print(data_2004['FAMI_INGRESO_FMILIAR_MENSUAL'].value_counts().sort_index())\n",
    "print(missing_data(data_2004['FAMI_INGRESO_FMILIAR_MENSUAL']))"
   ]
  },
  {
   "cell_type": "code",
   "execution_count": 49,
   "metadata": {
    "collapsed": false
   },
   "outputs": [
    {
     "name": "stdout",
     "output_type": "stream",
     "text": [
      "cant null antes: 5989\n",
      "cant null despues: 1\n",
      "cant null antes: 1\n",
      "cant null despues: 0\n"
     ]
    }
   ],
   "source": [
    "Do_resamples(data_2004, 'FAMI_INGRESO_FMILIAR_MENSUAL', float)"
   ]
  },
  {
   "cell_type": "code",
   "execution_count": 50,
   "metadata": {
    "collapsed": false
   },
   "outputs": [
    {
     "name": "stdout",
     "output_type": "stream",
     "text": [
      "Index(['N', 'S'], dtype='object')\n",
      "N     1483\n",
      "S    50972\n",
      "Name: FAMI_LEE_ESCRIBE_PADRE, dtype: int64\n",
      "Elementos null/NaN 8268\n",
      "__________________\n",
      "Elementos diferentes de null/NaN: 52455\n",
      "__________________\n",
      "(52455,)\n",
      "None\n"
     ]
    }
   ],
   "source": [
    "print(data_2004['FAMI_LEE_ESCRIBE_PADRE'].value_counts().sort_index().index)\n",
    "print(data_2004['FAMI_LEE_ESCRIBE_PADRE'].value_counts().sort_index())\n",
    "print(missing_data(data_2004['FAMI_LEE_ESCRIBE_PADRE']))"
   ]
  },
  {
   "cell_type": "code",
   "execution_count": 51,
   "metadata": {
    "collapsed": false
   },
   "outputs": [
    {
     "name": "stdout",
     "output_type": "stream",
     "text": [
      "cant null antes: 8268\n",
      "cant null despues: 0\n"
     ]
    }
   ],
   "source": [
    "Do_resamples(data_2004, 'FAMI_LEE_ESCRIBE_PADRE', str)"
   ]
  },
  {
   "cell_type": "code",
   "execution_count": 52,
   "metadata": {
    "collapsed": false
   },
   "outputs": [
    {
     "name": "stdout",
     "output_type": "stream",
     "text": [
      "Index(['N', 'S'], dtype='object')\n",
      "N     1552\n",
      "S    53706\n",
      "Name: FAMI_LEE_ESCRIBE_MADRE, dtype: int64\n",
      "Elementos null/NaN 5465\n",
      "__________________\n",
      "Elementos diferentes de null/NaN: 55258\n",
      "__________________\n",
      "(55258,)\n",
      "None\n"
     ]
    }
   ],
   "source": [
    "print(data_2004['FAMI_LEE_ESCRIBE_MADRE'].value_counts().sort_index().index)\n",
    "print(data_2004['FAMI_LEE_ESCRIBE_MADRE'].value_counts().sort_index())\n",
    "print(missing_data(data_2004['FAMI_LEE_ESCRIBE_MADRE']))"
   ]
  },
  {
   "cell_type": "code",
   "execution_count": 53,
   "metadata": {
    "collapsed": false
   },
   "outputs": [
    {
     "name": "stdout",
     "output_type": "stream",
     "text": [
      "cant null antes: 5465\n",
      "cant null despues: 0\n"
     ]
    }
   ],
   "source": [
    "Do_resamples(data_2004, 'FAMI_LEE_ESCRIBE_MADRE', str)"
   ]
  },
  {
   "cell_type": "code",
   "execution_count": 54,
   "metadata": {
    "collapsed": false
   },
   "outputs": [
    {
     "name": "stdout",
     "output_type": "stream",
     "text": [
      "Float64Index([1.0, 2.0, 3.0, 4.0, 5.0, 6.0, 7.0, 8.0], dtype='float64')\n",
      "1.0     1653\n",
      "2.0      400\n",
      "3.0    20047\n",
      "4.0    12788\n",
      "5.0     3404\n",
      "6.0     2569\n",
      "7.0     5612\n",
      "8.0     3117\n",
      "Name: FAMI_EDUCA_PADRE, dtype: int64\n",
      "Elementos null/NaN 11133\n",
      "__________________\n",
      "Elementos diferentes de null/NaN: 49590\n",
      "__________________\n",
      "(49590,)\n",
      "None\n"
     ]
    }
   ],
   "source": [
    "print(data_2004['FAMI_EDUCA_PADRE'].value_counts().sort_index().index)\n",
    "print(data_2004['FAMI_EDUCA_PADRE'].value_counts().sort_index())\n",
    "print(missing_data(data_2004['FAMI_EDUCA_PADRE']))"
   ]
  },
  {
   "cell_type": "code",
   "execution_count": 55,
   "metadata": {
    "collapsed": false
   },
   "outputs": [
    {
     "name": "stdout",
     "output_type": "stream",
     "text": [
      "cant null antes: 11133\n",
      "cant null despues: 0\n"
     ]
    }
   ],
   "source": [
    "Do_resamples(data_2004, 'FAMI_EDUCA_PADRE', float)"
   ]
  },
  {
   "cell_type": "code",
   "execution_count": 56,
   "metadata": {
    "collapsed": false
   },
   "outputs": [
    {
     "name": "stdout",
     "output_type": "stream",
     "text": [
      "Float64Index([1.0, 2.0, 3.0, 4.0, 5.0, 6.0, 7.0, 8.0], dtype='float64')\n",
      "1.0     1671\n",
      "2.0      452\n",
      "3.0    21757\n",
      "4.0    15011\n",
      "5.0     4171\n",
      "6.0     2177\n",
      "7.0     5324\n",
      "8.0     2371\n",
      "Name: FAMI_EDUCA_MADRE, dtype: int64\n",
      "Elementos null/NaN 7789\n",
      "__________________\n",
      "Elementos diferentes de null/NaN: 52934\n",
      "__________________\n",
      "(52934,)\n",
      "None\n"
     ]
    }
   ],
   "source": [
    "print(data_2004['FAMI_EDUCA_MADRE'].value_counts().sort_index().index)\n",
    "print(data_2004['FAMI_EDUCA_MADRE'].value_counts().sort_index())\n",
    "print(missing_data(data_2004['FAMI_EDUCA_MADRE']))"
   ]
  },
  {
   "cell_type": "code",
   "execution_count": 57,
   "metadata": {
    "collapsed": false
   },
   "outputs": [
    {
     "name": "stdout",
     "output_type": "stream",
     "text": [
      "cant null antes: 7789\n",
      "cant null despues: 0\n"
     ]
    }
   ],
   "source": [
    "Do_resamples(data_2004, 'FAMI_EDUCA_MADRE', float)"
   ]
  },
  {
   "cell_type": "code",
   "execution_count": 58,
   "metadata": {
    "collapsed": false
   },
   "outputs": [
    {
     "name": "stdout",
     "output_type": "stream",
     "text": [
      "Float64Index([1.0, 2.0, 3.0, 4.0, 5.0, 6.0, 7.0, 8.0, 9.0, 10.0, 11.0, 12.0], dtype='float64')\n",
      "1.0      1131\n",
      "2.0      1539\n",
      "3.0      3353\n",
      "4.0      4002\n",
      "5.0     14572\n",
      "6.0      7501\n",
      "7.0       403\n",
      "8.0     11587\n",
      "9.0      2953\n",
      "10.0      822\n",
      "11.0       58\n",
      "12.0     1812\n",
      "Name: FAMI_OCUPA_PADRE, dtype: int64\n",
      "Elementos null/NaN 10990\n",
      "__________________\n",
      "Elementos diferentes de null/NaN: 49733\n",
      "__________________\n",
      "(49733,)\n",
      "None\n"
     ]
    }
   ],
   "source": [
    "print(data_2004['FAMI_OCUPA_PADRE'].value_counts().sort_index().index)\n",
    "print(data_2004['FAMI_OCUPA_PADRE'].value_counts().sort_index())\n",
    "print(missing_data(data_2004['FAMI_OCUPA_PADRE']))"
   ]
  },
  {
   "cell_type": "code",
   "execution_count": 59,
   "metadata": {
    "collapsed": false
   },
   "outputs": [
    {
     "name": "stdout",
     "output_type": "stream",
     "text": [
      "cant null antes: 10990\n",
      "cant null despues: 0\n"
     ]
    }
   ],
   "source": [
    "Do_resamples(data_2004, 'FAMI_OCUPA_PADRE', float)"
   ]
  },
  {
   "cell_type": "code",
   "execution_count": 60,
   "metadata": {
    "collapsed": false
   },
   "outputs": [
    {
     "name": "stdout",
     "output_type": "stream",
     "text": [
      "Float64Index([1.0, 2.0, 3.0, 4.0, 5.0, 6.0, 7.0, 8.0, 9.0, 10.0, 11.0, 12.0], dtype='float64')\n",
      "1.0       459\n",
      "2.0       944\n",
      "3.0      1720\n",
      "4.0      4413\n",
      "5.0      6774\n",
      "6.0      5224\n",
      "7.0       433\n",
      "8.0      3657\n",
      "9.0      1037\n",
      "10.0    26917\n",
      "11.0      215\n",
      "12.0     1152\n",
      "Name: FAMI_OCUPA_MADRE, dtype: int64\n",
      "Elementos null/NaN 7778\n",
      "__________________\n",
      "Elementos diferentes de null/NaN: 52945\n",
      "__________________\n",
      "(52945,)\n",
      "None\n"
     ]
    }
   ],
   "source": [
    "print(data_2004['FAMI_OCUPA_MADRE'].value_counts().sort_index().index)\n",
    "print(data_2004['FAMI_OCUPA_MADRE'].value_counts().sort_index())\n",
    "print(missing_data(data_2004['FAMI_OCUPA_MADRE']))"
   ]
  },
  {
   "cell_type": "code",
   "execution_count": 61,
   "metadata": {
    "collapsed": false
   },
   "outputs": [
    {
     "name": "stdout",
     "output_type": "stream",
     "text": [
      "cant null antes: 7778\n",
      "cant null despues: 1\n",
      "cant null antes: 1\n",
      "cant null despues: 0\n"
     ]
    }
   ],
   "source": [
    "Do_resamples(data_2004, 'FAMI_OCUPA_MADRE', float)"
   ]
  },
  {
   "cell_type": "code",
   "execution_count": 62,
   "metadata": {
    "collapsed": false
   },
   "outputs": [
    {
     "name": "stdout",
     "output_type": "stream",
     "text": [
      "Index(['+', '1', '2', '3', '4', '5', '6', '7', '8', '9'], dtype='object')\n",
      "+      924\n",
      "1    14443\n",
      "2    15646\n",
      "3     9110\n",
      "4     5309\n",
      "5     3120\n",
      "6     1904\n",
      "7     1317\n",
      "8      899\n",
      "9      520\n",
      "Name: FAMI_NUM_HERMANOS, dtype: int64\n",
      "Elementos null/NaN 7531\n",
      "__________________\n",
      "Elementos diferentes de null/NaN: 53192\n",
      "__________________\n",
      "(53192,)\n",
      "None\n"
     ]
    }
   ],
   "source": [
    "print(data_2004['FAMI_NUM_HERMANOS'].value_counts().sort_index().index)\n",
    "print(data_2004['FAMI_NUM_HERMANOS'].value_counts().sort_index())\n",
    "print(missing_data(data_2004['FAMI_NUM_HERMANOS']))"
   ]
  },
  {
   "cell_type": "code",
   "execution_count": 63,
   "metadata": {
    "collapsed": true
   },
   "outputs": [],
   "source": [
    "data_2004['FAMI_NUM_HERMANOS'] = data_2004['FAMI_NUM_HERMANOS'].replace('+', '+9')"
   ]
  },
  {
   "cell_type": "code",
   "execution_count": 64,
   "metadata": {
    "collapsed": false
   },
   "outputs": [
    {
     "name": "stdout",
     "output_type": "stream",
     "text": [
      "cant null antes: 7531\n",
      "cant null despues: 0\n"
     ]
    }
   ],
   "source": [
    "Do_resamples(data_2004, 'FAMI_NUM_HERMANOS', str)"
   ]
  },
  {
   "cell_type": "code",
   "execution_count": 65,
   "metadata": {
    "collapsed": false,
    "scrolled": true
   },
   "outputs": [
    {
     "name": "stdout",
     "output_type": "stream",
     "text": [
      "Index(['+', '1', '2', '3', '4', '5', '6', '7', '8', '9'], dtype='object')\n",
      "+       34\n",
      "1    15123\n",
      "2     5168\n",
      "3     1503\n",
      "4      447\n",
      "5      197\n",
      "6       78\n",
      "7       55\n",
      "8       28\n",
      "9       17\n",
      "Name: FAMI_NUM_HERMANOS_EDUSUPERIOR, dtype: int64\n",
      "Elementos null/NaN 38073\n",
      "__________________\n",
      "Elementos diferentes de null/NaN: 22650\n",
      "__________________\n",
      "(22650,)\n",
      "None\n"
     ]
    }
   ],
   "source": [
    "print(data_2004['FAMI_NUM_HERMANOS_EDUSUPERIOR'].value_counts().sort_index().index)\n",
    "print(data_2004['FAMI_NUM_HERMANOS_EDUSUPERIOR'].value_counts().sort_index())\n",
    "print(missing_data(data_2004['FAMI_NUM_HERMANOS_EDUSUPERIOR']))"
   ]
  },
  {
   "cell_type": "code",
   "execution_count": 66,
   "metadata": {
    "collapsed": true
   },
   "outputs": [],
   "source": [
    "data_2004['FAMI_NUM_HERMANOS_EDUSUPERIOR'] = data_2004['FAMI_NUM_HERMANOS_EDUSUPERIOR'].replace('+', '+9')"
   ]
  },
  {
   "cell_type": "code",
   "execution_count": 67,
   "metadata": {
    "collapsed": false
   },
   "outputs": [
    {
     "name": "stdout",
     "output_type": "stream",
     "text": [
      "cant null antes: 38073\n",
      "cant null despues: 1\n",
      "cant null antes: 1\n",
      "cant null despues: 0\n"
     ]
    }
   ],
   "source": [
    "Do_resamples(data_2004, 'FAMI_NUM_HERMANOS_EDUSUPERIOR', str)"
   ]
  },
  {
   "cell_type": "code",
   "execution_count": 68,
   "metadata": {
    "collapsed": false,
    "scrolled": true
   },
   "outputs": [
    {
     "name": "stdout",
     "output_type": "stream",
     "text": [
      "Index(['+', '1', '2', '3', '4', '5', '6', '7', '8', '9'], dtype='object')\n",
      "+      377\n",
      "1    19959\n",
      "2    16357\n",
      "3     9175\n",
      "4     4184\n",
      "5     2206\n",
      "6     1282\n",
      "7      727\n",
      "8      513\n",
      "9      299\n",
      "Name: FAMI_POSICION_HERMANOS, dtype: int64\n",
      "Elementos null/NaN 5644\n",
      "__________________\n",
      "Elementos diferentes de null/NaN: 55079\n",
      "__________________\n",
      "(55079,)\n",
      "None\n"
     ]
    }
   ],
   "source": [
    "print(data_2004['FAMI_POSICION_HERMANOS'].value_counts().sort_index().index)\n",
    "print(data_2004['FAMI_POSICION_HERMANOS'].value_counts().sort_index())\n",
    "print(missing_data(data_2004['FAMI_POSICION_HERMANOS']))"
   ]
  },
  {
   "cell_type": "code",
   "execution_count": 69,
   "metadata": {
    "collapsed": true
   },
   "outputs": [],
   "source": [
    "data_2004['FAMI_POSICION_HERMANOS'] = data_2004['FAMI_POSICION_HERMANOS'].replace('+', '+9')"
   ]
  },
  {
   "cell_type": "code",
   "execution_count": 70,
   "metadata": {
    "collapsed": false
   },
   "outputs": [
    {
     "name": "stdout",
     "output_type": "stream",
     "text": [
      "cant null antes: 5644\n",
      "cant null despues: 0\n"
     ]
    }
   ],
   "source": [
    "Do_resamples(data_2004, 'FAMI_POSICION_HERMANOS', str)"
   ]
  },
  {
   "cell_type": "code",
   "execution_count": 71,
   "metadata": {
    "collapsed": false
   },
   "outputs": [
    {
     "name": "stdout",
     "output_type": "stream",
     "text": [
      "Index(['N', 'P', 'T'], dtype='object')\n",
      "N     4661\n",
      "P     3511\n",
      "T    49116\n",
      "Name: FAMI_SOST_PERSONAL, dtype: int64\n",
      "Elementos null/NaN 3435\n",
      "__________________\n",
      "Elementos diferentes de null/NaN: 57288\n",
      "__________________\n",
      "(57288,)\n",
      "None\n"
     ]
    }
   ],
   "source": [
    "print(data_2004['FAMI_SOST_PERSONAL'].value_counts().sort_index().index)\n",
    "print(data_2004['FAMI_SOST_PERSONAL'].value_counts().sort_index())\n",
    "print(missing_data(data_2004['FAMI_SOST_PERSONAL']))"
   ]
  },
  {
   "cell_type": "code",
   "execution_count": 72,
   "metadata": {
    "collapsed": false
   },
   "outputs": [
    {
     "name": "stdout",
     "output_type": "stream",
     "text": [
      "cant null antes: 3435\n",
      "cant null despues: 0\n"
     ]
    }
   ],
   "source": [
    "Do_resamples(data_2004, 'FAMI_SOST_PERSONAL', str)"
   ]
  },
  {
   "cell_type": "code",
   "execution_count": 73,
   "metadata": {
    "collapsed": false
   },
   "outputs": [
    {
     "name": "stdout",
     "output_type": "stream",
     "text": [
      "Index(['N', 'S'], dtype='object')\n",
      "N    49654\n",
      "S     7485\n",
      "Name: ESTU_TRABAJA, dtype: int64\n",
      "Elementos null/NaN 3584\n",
      "__________________\n",
      "Elementos diferentes de null/NaN: 57139\n",
      "__________________\n",
      "(57139,)\n",
      "None\n"
     ]
    }
   ],
   "source": [
    "print(data_2004['ESTU_TRABAJA'].value_counts().sort_index().index)\n",
    "print(data_2004['ESTU_TRABAJA'].value_counts().sort_index())\n",
    "print(missing_data(data_2004['ESTU_TRABAJA']))"
   ]
  },
  {
   "cell_type": "code",
   "execution_count": 74,
   "metadata": {
    "collapsed": false
   },
   "outputs": [
    {
     "name": "stdout",
     "output_type": "stream",
     "text": [
      "cant null antes: 3584\n",
      "cant null despues: 0\n"
     ]
    }
   ],
   "source": [
    "Do_resamples(data_2004, 'ESTU_TRABAJA', str)"
   ]
  },
  {
   "cell_type": "code",
   "execution_count": 75,
   "metadata": {
    "collapsed": false
   },
   "outputs": [
    {
     "name": "stdout",
     "output_type": "stream",
     "text": [
      "Float64Index([1.0, 2.0, 3.0], dtype='float64')\n",
      "1.0    33476\n",
      "2.0     1919\n",
      "3.0    22215\n",
      "Name: ESTU_ACT_PROX_ANNO, dtype: int64\n",
      "Elementos null/NaN 3113\n",
      "__________________\n",
      "Elementos diferentes de null/NaN: 57610\n",
      "__________________\n",
      "(57610,)\n",
      "None\n"
     ]
    }
   ],
   "source": [
    "print(data_2004['ESTU_ACT_PROX_ANNO'].value_counts().sort_index().index)\n",
    "print(data_2004['ESTU_ACT_PROX_ANNO'].value_counts().sort_index())\n",
    "print(missing_data(data_2004['ESTU_ACT_PROX_ANNO']))"
   ]
  },
  {
   "cell_type": "code",
   "execution_count": 76,
   "metadata": {
    "collapsed": false
   },
   "outputs": [
    {
     "name": "stdout",
     "output_type": "stream",
     "text": [
      "cant null antes: 3113\n",
      "cant null despues: 0\n"
     ]
    }
   ],
   "source": [
    "Do_resamples(data_2004, 'ESTU_ACT_PROX_ANNO', float)"
   ]
  },
  {
   "cell_type": "code",
   "execution_count": 77,
   "metadata": {
    "collapsed": false
   },
   "outputs": [
    {
     "name": "stdout",
     "output_type": "stream",
     "text": [
      "Float64Index([1.0, 2.0, 3.0, 4.0, 5.0, 6.0], dtype='float64')\n",
      "1.0    13419\n",
      "2.0    22293\n",
      "3.0    14864\n",
      "4.0     3271\n",
      "5.0     2418\n",
      "6.0     1804\n",
      "Name: FAMI_ESTRATO_VIVIENDA, dtype: int64\n",
      "Elementos null/NaN 2654\n",
      "__________________\n",
      "Elementos diferentes de null/NaN: 58069\n",
      "__________________\n",
      "(58069,)\n",
      "None\n"
     ]
    }
   ],
   "source": [
    "print(data_2004['FAMI_ESTRATO_VIVIENDA'].value_counts().sort_index().index)\n",
    "print(data_2004['FAMI_ESTRATO_VIVIENDA'].value_counts().sort_index())\n",
    "print(missing_data(data_2004['FAMI_ESTRATO_VIVIENDA']))"
   ]
  },
  {
   "cell_type": "code",
   "execution_count": 78,
   "metadata": {
    "collapsed": false
   },
   "outputs": [
    {
     "name": "stdout",
     "output_type": "stream",
     "text": [
      "cant null antes: 2654\n",
      "cant null despues: 1\n",
      "cant null antes: 1\n",
      "cant null despues: 0\n"
     ]
    }
   ],
   "source": [
    "Do_resamples(data_2004, 'FAMI_ESTRATO_VIVIENDA', float)"
   ]
  },
  {
   "cell_type": "code",
   "execution_count": 79,
   "metadata": {
    "collapsed": false
   },
   "outputs": [
    {
     "name": "stdout",
     "output_type": "stream",
     "text": [
      "Index(['A', 'B', 'F'], dtype='object')\n",
      "A      429\n",
      "B    45161\n",
      "F    15133\n",
      "Name: COLE_CALENDARIO, dtype: int64\n",
      "Elementos null/NaN 0\n",
      "__________________\n",
      "Elementos diferentes de null/NaN: 60723\n",
      "__________________\n",
      "(60723,)\n",
      "None\n"
     ]
    }
   ],
   "source": [
    "print(data_2004['COLE_CALENDARIO'].value_counts().sort_index().index)\n",
    "print(data_2004['COLE_CALENDARIO'].value_counts().sort_index())\n",
    "print(missing_data(data_2004['COLE_CALENDARIO']))"
   ]
  },
  {
   "cell_type": "code",
   "execution_count": 80,
   "metadata": {
    "collapsed": false
   },
   "outputs": [
    {
     "name": "stdout",
     "output_type": "stream",
     "text": [
      "Float64Index([1.0, 2.0], dtype='float64')\n",
      "1.0    2037\n",
      "2.0     213\n",
      "Name: COLE_BILINGUE, dtype: int64\n",
      "Elementos null/NaN 58473\n",
      "__________________\n",
      "Elementos diferentes de null/NaN: 2250\n",
      "__________________\n",
      "(2250,)\n",
      "None\n"
     ]
    }
   ],
   "source": [
    "print(data_2004['COLE_BILINGUE'].value_counts().sort_index().index)\n",
    "print(data_2004['COLE_BILINGUE'].value_counts().sort_index())\n",
    "print(missing_data(data_2004['COLE_BILINGUE']))"
   ]
  },
  {
   "cell_type": "code",
   "execution_count": 81,
   "metadata": {
    "collapsed": false
   },
   "outputs": [
    {
     "name": "stdout",
     "output_type": "stream",
     "text": [
      "cant null antes: 58473\n",
      "cant null despues: 0\n"
     ]
    }
   ],
   "source": [
    "Do_resamples(data_2004, 'COLE_BILINGUE', float)"
   ]
  },
  {
   "cell_type": "code",
   "execution_count": 82,
   "metadata": {
    "collapsed": false
   },
   "outputs": [
    {
     "name": "stdout",
     "output_type": "stream",
     "text": [
      "Index(['ACADEMICO', 'ACADEMICO Y TECNICO', 'NORMALISTA', 'TECNICO'], dtype='object')\n",
      "ACADEMICO              31523\n",
      "ACADEMICO Y TECNICO    12358\n",
      "NORMALISTA               906\n",
      "TECNICO                15936\n",
      "Name: COLE_CARACTER, dtype: int64\n",
      "Elementos null/NaN 0\n",
      "__________________\n",
      "Elementos diferentes de null/NaN: 60723\n",
      "__________________\n",
      "(60723,)\n",
      "None\n"
     ]
    }
   ],
   "source": [
    "print(data_2004['COLE_CARACTER'].value_counts().sort_index().index)\n",
    "print(data_2004['COLE_CARACTER'].value_counts().sort_index())\n",
    "print(missing_data(data_2004['COLE_CARACTER']))"
   ]
  },
  {
   "cell_type": "code",
   "execution_count": 83,
   "metadata": {
    "collapsed": false,
    "scrolled": true
   },
   "outputs": [
    {
     "name": "stdout",
     "output_type": "stream",
     "text": [
      "Index(['ANTIOQUIA', 'ARAUCA', 'ATLANTICO', 'BOGOTA', 'BOLIVAR', 'BOYACA',\n",
      "       'CALDAS', 'CAQUETA', 'CASANARE', 'CAUCA', 'CESAR', 'CORDOBA',\n",
      "       'CUNDINAMARCA', 'HUILA', 'LA GUAJIRA', 'MAGDALENA', 'META', 'NARIÑO',\n",
      "       'NORTE SANTANDER', 'PUTUMAYO', 'QUINDIO', 'RISARALDA', 'SANTANDER',\n",
      "       'SUCRE', 'TOLIMA', 'VALLE'],\n",
      "      dtype='object')\n",
      "ANTIOQUIA           2636\n",
      "ARAUCA                14\n",
      "ATLANTICO            462\n",
      "BOGOTA              6143\n",
      "BOLIVAR              290\n",
      "BOYACA               433\n",
      "CALDAS               346\n",
      "CAQUETA               75\n",
      "CASANARE             127\n",
      "CAUCA               1094\n",
      "CESAR                 68\n",
      "CORDOBA              123\n",
      "CUNDINAMARCA        1544\n",
      "HUILA                340\n",
      "LA GUAJIRA           215\n",
      "MAGDALENA             39\n",
      "META                 282\n",
      "NARIÑO             11407\n",
      "NORTE SANTANDER      516\n",
      "PUTUMAYO              29\n",
      "QUINDIO              423\n",
      "RISARALDA            218\n",
      "SANTANDER            596\n",
      "SUCRE                  9\n",
      "TOLIMA               606\n",
      "VALLE              32688\n",
      "Name: COLE_DEPTO_UBICACION, dtype: int64\n",
      "Elementos null/NaN 0\n",
      "__________________\n",
      "Elementos diferentes de null/NaN: 60723\n",
      "__________________\n",
      "(60723,)\n",
      "None\n"
     ]
    }
   ],
   "source": [
    "print(data_2004['COLE_DEPTO_UBICACION'].value_counts().sort_index().index)\n",
    "print(data_2004['COLE_DEPTO_UBICACION'].value_counts().sort_index())\n",
    "print(missing_data(data_2004['COLE_DEPTO_UBICACION']))"
   ]
  },
  {
   "cell_type": "code",
   "execution_count": 84,
   "metadata": {
    "collapsed": false,
    "scrolled": true
   },
   "outputs": [
    {
     "name": "stdout",
     "output_type": "stream",
     "text": [
      "Index(['AGUACHICA', 'AGUAZUL', 'ALBAN (SAN JOSE)', 'ALBANIA', 'ALCALA',\n",
      "       'ALDANA', 'ANCUYA', 'ANDALUCIA', 'ANSERMANUEVO', 'ANTIOQUIA',\n",
      "       ...\n",
      "       'VERSALLES', 'VILLAVICENCIO', 'VILLETA', 'YACUANQUER', 'YAGUARA',\n",
      "       'YOPAL', 'YOTOCO', 'YUMBO', 'ZARZAL', 'ZIPAQUIRA'],\n",
      "      dtype='object', length=236)\n",
      "AGUACHICA                  2\n",
      "AGUAZUL                   12\n",
      "ALBAN (SAN JOSE)          94\n",
      "ALBANIA                   41\n",
      "ALCALA                    79\n",
      "ALDANA                    84\n",
      "ANCUYA                    86\n",
      "ANDALUCIA                180\n",
      "ANSERMANUEVO              69\n",
      "ANTIOQUIA                 17\n",
      "APARTADO                  94\n",
      "APIA                      53\n",
      "ARAUCA                    14\n",
      "ARBOLEDA (BERRUECOS)      45\n",
      "ARGELIA                   35\n",
      "ARMENIA                  252\n",
      "AYAPEL                     5\n",
      "BARBACOAS                 63\n",
      "BARBOSA                   23\n",
      "BARRANCABERMEJA           22\n",
      "BARRANQUILLA             413\n",
      "BELEN                     76\n",
      "BELLO                    160\n",
      "BOGOTÁ D.C.             6143\n",
      "BOLIVAR                   56\n",
      "BUCARAMANGA              360\n",
      "BUENAVENTURA            2056\n",
      "BUESACO                  113\n",
      "BUGA                    1052\n",
      "BUGALAGRANDE             199\n",
      "                        ... \n",
      "TANGUA                    83\n",
      "TARQUI                    24\n",
      "TAURAMENA                 24\n",
      "TENA                       7\n",
      "TENJO                      5\n",
      "TIBU                      11\n",
      "TOCAIMA                    3\n",
      "TORO                     118\n",
      "TRUJILLO                 135\n",
      "TULUA                   1810\n",
      "TUMACO                   799\n",
      "TUNJA                    196\n",
      "TUQUERRES                404\n",
      "TURBACO                   17\n",
      "TUTA                      19\n",
      "UBATE                     33\n",
      "ULLOA                     32\n",
      "VALENCIA                  42\n",
      "VALLEDUPAR                46\n",
      "VELEZ                     13\n",
      "VERSALLES                 60\n",
      "VILLAVICENCIO            208\n",
      "VILLETA                   86\n",
      "YACUANQUER               117\n",
      "YAGUARA                   13\n",
      "YOPAL                     91\n",
      "YOTOCO                    96\n",
      "YUMBO                    923\n",
      "ZARZAL                   327\n",
      "ZIPAQUIRA                 49\n",
      "Name: COLE_MCPIO_UBICACION, dtype: int64\n",
      "Elementos null/NaN 0\n",
      "__________________\n",
      "Elementos diferentes de null/NaN: 60723\n",
      "__________________\n",
      "(60723,)\n",
      "None\n"
     ]
    }
   ],
   "source": [
    "print(data_2004['COLE_MCPIO_UBICACION'].value_counts().sort_index().index)\n",
    "print(data_2004['COLE_MCPIO_UBICACION'].value_counts().sort_index())\n",
    "print(missing_data(data_2004['COLE_MCPIO_UBICACION']))"
   ]
  },
  {
   "cell_type": "code",
   "execution_count": 85,
   "metadata": {
    "collapsed": false,
    "scrolled": true
   },
   "outputs": [
    {
     "name": "stdout",
     "output_type": "stream",
     "text": [
      "Index(['ANTIOQUIA', 'ARAUCA', 'ATLANTICO', 'BOGOTA', 'BOLIVAR', 'BOYACA',\n",
      "       'CALDAS', 'CAQUETA', 'CASANARE', 'CAUCA', 'CESAR', 'CHOCO', 'CORDOBA',\n",
      "       'CUNDINAMARCA', 'HUILA', 'LA GUAJIRA', 'MAGDALENA', 'META', 'NARIÑO',\n",
      "       'NORTE SANTANDER', 'PUTUMAYO', 'QUINDIO', 'RISARALDA', 'SANTANDER',\n",
      "       'SUCRE', 'TOLIMA', 'VALLE'],\n",
      "      dtype='object')\n",
      "ANTIOQUIA           2633\n",
      "ARAUCA                15\n",
      "ATLANTICO            464\n",
      "BOGOTA              6560\n",
      "BOLIVAR              267\n",
      "BOYACA               421\n",
      "CALDAS               367\n",
      "CAQUETA               75\n",
      "CASANARE             132\n",
      "CAUCA               1105\n",
      "CESAR                 89\n",
      "CHOCO                  1\n",
      "CORDOBA              127\n",
      "CUNDINAMARCA        1276\n",
      "HUILA                339\n",
      "LA GUAJIRA           200\n",
      "MAGDALENA             39\n",
      "META                 271\n",
      "NARIÑO             11405\n",
      "NORTE SANTANDER      516\n",
      "PUTUMAYO              30\n",
      "QUINDIO              423\n",
      "RISARALDA            224\n",
      "SANTANDER            603\n",
      "SUCRE                  9\n",
      "TOLIMA               493\n",
      "VALLE              32639\n",
      "Name: ESTU_RESIDE_DEPTO, dtype: int64\n",
      "Elementos null/NaN 0\n",
      "__________________\n",
      "Elementos diferentes de null/NaN: 60723\n",
      "__________________\n",
      "(60723,)\n",
      "None\n"
     ]
    }
   ],
   "source": [
    "print(data_2004['ESTU_RESIDE_DEPTO'].value_counts().sort_index().index)\n",
    "print(data_2004['ESTU_RESIDE_DEPTO'].value_counts().sort_index())\n",
    "print(missing_data(data_2004['ESTU_RESIDE_DEPTO']))"
   ]
  },
  {
   "cell_type": "code",
   "execution_count": 86,
   "metadata": {
    "collapsed": false,
    "scrolled": true
   },
   "outputs": [
    {
     "name": "stdout",
     "output_type": "stream",
     "text": [
      "Index(['ACACIAS', 'ACEVEDO', 'AGUA DE DIOS', 'AGUACHICA', 'AGUAZUL', 'ALBAN',\n",
      "       'ALBAN (SAN JOSE)', 'ALBANIA', 'ALCALA', 'ALDANA',\n",
      "       ...\n",
      "       'YACOPI', 'YACUANQUER', 'YAGUARA', 'YARUMAL', 'YOLOMBO', 'YOPAL',\n",
      "       'YOTOCO', 'YUMBO', 'ZARZAL', 'ZIPAQUIRA'],\n",
      "      dtype='object', length=377)\n",
      "ACACIAS                        4\n",
      "ACEVEDO                        1\n",
      "AGUA DE DIOS                   5\n",
      "AGUACHICA                      2\n",
      "AGUAZUL                        7\n",
      "ALBAN                          1\n",
      "ALBAN (SAN JOSE)              93\n",
      "ALBANIA                       41\n",
      "ALCALA                        81\n",
      "ALDANA                        68\n",
      "ANAPOIMA                       1\n",
      "ANCUYA                        78\n",
      "ANDALUCIA                    172\n",
      "ANDES                         15\n",
      "ANGOSTURA                      2\n",
      "ANSERMANUEVO                  70\n",
      "ANTIOQUIA                     32\n",
      "APARTADO                      66\n",
      "ARAUCA                        15\n",
      "ARBOLEDA (BERRUECOS)          44\n",
      "ARGELIA                       39\n",
      "ARMENIA                      247\n",
      "AYAPEL                         5\n",
      "BALBOA                         1\n",
      "BARANOA                        1\n",
      "BARBACOAS                     58\n",
      "BARBOSA                       28\n",
      "BARRANCABERMEJA               21\n",
      "BARRANQUILLA                 436\n",
      "BELEN                         74\n",
      "                            ... \n",
      "ULLOA                         34\n",
      "URRAO                          1\n",
      "VALDIVIA                       2\n",
      "VALENCIA                      42\n",
      "VALLEDUPAR                    45\n",
      "VELEZ                          6\n",
      "VENADILLO                      3\n",
      "VENECIA                       15\n",
      "VENTAQUEMADA                   2\n",
      "VERSALLES                     61\n",
      "VILLA DE LEYVA                 2\n",
      "VILLA DEL ROSARIO              1\n",
      "VILLA GUAMEZ (LA HORMIGA)      1\n",
      "VILLA RICA                     1\n",
      "VILLAMARIA                     5\n",
      "VILLANUEVA                    16\n",
      "VILLAPINZON                    1\n",
      "VILLAVICENCIO                154\n",
      "VILLETA                       86\n",
      "VIRACACHA                      1\n",
      "YACOPI                         2\n",
      "YACUANQUER                   108\n",
      "YAGUARA                        8\n",
      "YARUMAL                       10\n",
      "YOLOMBO                        7\n",
      "YOPAL                         94\n",
      "YOTOCO                       103\n",
      "YUMBO                        806\n",
      "ZARZAL                       344\n",
      "ZIPAQUIRA                     74\n",
      "Name: ESTU_RESIDE_MCPIO, dtype: int64\n",
      "Elementos null/NaN 0\n",
      "__________________\n",
      "Elementos diferentes de null/NaN: 60723\n",
      "__________________\n",
      "(60723,)\n",
      "None\n"
     ]
    }
   ],
   "source": [
    "print(data_2004['ESTU_RESIDE_MCPIO'].value_counts().sort_index().index)\n",
    "print(data_2004['ESTU_RESIDE_MCPIO'].value_counts().sort_index())\n",
    "print(missing_data(data_2004['ESTU_RESIDE_MCPIO']))"
   ]
  },
  {
   "cell_type": "code",
   "execution_count": 87,
   "metadata": {
    "collapsed": true
   },
   "outputs": [],
   "source": [
    "data_2004 = data_2004.drop(data_2004[data_2004['ESTU_RESIDE_MCPIO'].isnull()].index)"
   ]
  },
  {
   "cell_type": "markdown",
   "metadata": {},
   "source": [
    "### TARGETS"
   ]
  },
  {
   "cell_type": "code",
   "execution_count": 88,
   "metadata": {
    "collapsed": false,
    "scrolled": true
   },
   "outputs": [
    {
     "name": "stdout",
     "output_type": "stream",
     "text": [
      "Index([  43.5,   42.1,   44.9,   40.6,   46.2,   39.0,   47.5,   48.7,   37.2,\n",
      "         49.9, '42.1', '43.5',   51.2, '40.6', '44.9',   35.2,   '39',   52.4,\n",
      "       '46.2',   53.6, '47.5', '37.2',   54.7, '48.7',   33.0,   56.0,   57.3,\n",
      "       '35.2', '49.9',   58.6, '51.2',   60.0,   '33', '52.4',   61.3,   30.4,\n",
      "         62.8, '53.6', '54.7',   64.4, '30.4',   '56',   66.2, '57.3',   27.2,\n",
      "       '58.6',   68.1,   '60', '61.3',   70.3, '62.8', '27.2', '64.4',   72.9,\n",
      "         22.7, '66.2', '68.1',   76.1, '22.7', '70.3',   80.4,   15.6,   87.6,\n",
      "       '76.1', '15.6',    '0', '72.9', '87.6',  '---', '80.4',   99.7,    0.0],\n",
      "      dtype='object')\n",
      "43.5    4662\n",
      "42.1    4542\n",
      "44.9    4355\n",
      "40.6    4083\n",
      "46.2    3750\n",
      "39.0    3418\n",
      "47.5    3162\n",
      "48.7    2642\n",
      "37.2    2347\n",
      "49.9    2051\n",
      "42.1    1808\n",
      "43.5    1657\n",
      "51.2    1582\n",
      "40.6    1570\n",
      "44.9    1512\n",
      "35.2    1340\n",
      "39      1338\n",
      "52.4    1256\n",
      "46.2    1233\n",
      "53.6    1056\n",
      "47.5     988\n",
      "37.2     972\n",
      "54.7     896\n",
      "48.7     801\n",
      "33.0     726\n",
      "56.0     682\n",
      "57.3     608\n",
      "35.2     602\n",
      "49.9     539\n",
      "58.6     463\n",
      "        ... \n",
      "66.2     129\n",
      "57.3     115\n",
      "27.2      91\n",
      "58.6      90\n",
      "68.1      86\n",
      "60        82\n",
      "61.3      68\n",
      "70.3      47\n",
      "62.8      47\n",
      "27.2      47\n",
      "64.4      40\n",
      "72.9      36\n",
      "22.7      33\n",
      "66.2      31\n",
      "68.1      24\n",
      "76.1      16\n",
      "22.7      16\n",
      "70.3      11\n",
      "80.4      10\n",
      "15.6       7\n",
      "87.6       5\n",
      "76.1       5\n",
      "15.6       5\n",
      "0          5\n",
      "72.9       3\n",
      "87.6       2\n",
      "---        1\n",
      "80.4       1\n",
      "99.7       1\n",
      "0.0        1\n",
      "Name: PUNT_BIOLOGIA, dtype: int64\n",
      "Elementos null/NaN 0\n",
      "__________________\n",
      "Elementos diferentes de null/NaN: 60723\n",
      "__________________\n",
      "(60723,)\n",
      "None\n"
     ]
    }
   ],
   "source": [
    "print(data_2004['PUNT_BIOLOGIA'].value_counts().index)\n",
    "print(data_2004['PUNT_BIOLOGIA'].value_counts())\n",
    "print(missing_data(data_2004['PUNT_BIOLOGIA']))"
   ]
  },
  {
   "cell_type": "code",
   "execution_count": 89,
   "metadata": {
    "collapsed": true
   },
   "outputs": [],
   "source": [
    "data_2004['PUNT_BIOLOGIA'] = data_2004['PUNT_BIOLOGIA'].replace('---', np.nan)\n",
    "for i in data_2004['PUNT_BIOLOGIA'].value_counts().index:\n",
    "    if type(i) == str:\n",
    "        data_2004['PUNT_BIOLOGIA'] = data_2004['PUNT_BIOLOGIA'].replace(i, float(i))"
   ]
  },
  {
   "cell_type": "code",
   "execution_count": 90,
   "metadata": {
    "collapsed": true
   },
   "outputs": [],
   "source": [
    "data_2004['PUNT_BIOLOGIA'].fillna(int(np.mean(data_2004['PUNT_BIOLOGIA'])), inplace=True)"
   ]
  },
  {
   "cell_type": "code",
   "execution_count": 91,
   "metadata": {
    "collapsed": false,
    "scrolled": true
   },
   "outputs": [
    {
     "name": "stdout",
     "output_type": "stream",
     "text": [
      "Index(['---', '0', '1', '13.4', '20', '24.8', '28.9', '32.3', '35.2', '38',\n",
      "       '40.5', '42.8', '45', '47.1', '49.1', '51.2', '53.1', '55.1', '57.1',\n",
      "       '59', '60.9', '62.9', '65', '67', '69.2', '71.4', '73.8', '76.2',\n",
      "       '78.9', '81.8', '85', '98.2'],\n",
      "      dtype='object')\n",
      "---       13\n",
      "0          7\n",
      "1         29\n",
      "13.4      88\n",
      "20       278\n",
      "24.8     827\n",
      "28.9    1779\n",
      "32.3    3427\n",
      "35.2    5492\n",
      "38      7318\n",
      "40.5    8341\n",
      "42.8    8508\n",
      "45      7317\n",
      "47.1    5942\n",
      "49.1    4259\n",
      "51.2    2679\n",
      "53.1    1723\n",
      "55.1     997\n",
      "57.1     608\n",
      "59       387\n",
      "60.9     241\n",
      "62.9     156\n",
      "65       107\n",
      "67        70\n",
      "69.2      40\n",
      "71.4      33\n",
      "73.8      33\n",
      "76.2      10\n",
      "78.9       7\n",
      "81.8       3\n",
      "85         3\n",
      "98.2       1\n",
      "Name: PUNT_MATEMATICAS, dtype: int64\n",
      "Elementos null/NaN 0\n",
      "__________________\n",
      "Elementos diferentes de null/NaN: 60723\n",
      "__________________\n",
      "(60723,)\n",
      "None\n"
     ]
    }
   ],
   "source": [
    "print(data_2004['PUNT_MATEMATICAS'].value_counts().sort_index().index)\n",
    "print(data_2004['PUNT_MATEMATICAS'].value_counts().sort_index())\n",
    "print(missing_data(data_2004['PUNT_MATEMATICAS']))"
   ]
  },
  {
   "cell_type": "code",
   "execution_count": 92,
   "metadata": {
    "collapsed": true
   },
   "outputs": [],
   "source": [
    "data_2004['PUNT_MATEMATICAS'] = data_2004['PUNT_MATEMATICAS'].replace('---', np.nan)\n",
    "for i in data_2004['PUNT_MATEMATICAS'].value_counts().index:\n",
    "    if type(i) == str:\n",
    "        data_2004['PUNT_MATEMATICAS'] = data_2004['PUNT_MATEMATICAS'].replace(i, float(i))"
   ]
  },
  {
   "cell_type": "code",
   "execution_count": 93,
   "metadata": {
    "collapsed": true
   },
   "outputs": [],
   "source": [
    "data_2004['PUNT_MATEMATICAS'].fillna(int(np.mean(data_2004['PUNT_MATEMATICAS'])), inplace=True)"
   ]
  },
  {
   "cell_type": "code",
   "execution_count": 94,
   "metadata": {
    "collapsed": false,
    "scrolled": true
   },
   "outputs": [
    {
     "name": "stdout",
     "output_type": "stream",
     "text": [
      "Index(['---', '0', '102.3', '11.7', '20.5', '26', '29.9', '33.2', '35.9',\n",
      "       '38.4', '40.7', '42.7', '44.6', '46.4', '48.2', '49.9', '51.5', '53.1',\n",
      "       '54.6', '56.2', '57.7', '59.4', '60.9', '62.5', '64.1', '65.8', '67.6',\n",
      "       '69.3', '71.3', '73.4', '75.5', '78', '80.8', '84.1', '88', '93.5'],\n",
      "      dtype='object')\n",
      "---        50\n",
      "0          16\n",
      "102.3       1\n",
      "11.7       25\n",
      "20.5       50\n",
      "26        125\n",
      "29.9      336\n",
      "33.2      665\n",
      "35.9     1388\n",
      "38.4     2250\n",
      "40.7     3281\n",
      "42.7     4252\n",
      "44.6     4705\n",
      "46.4     5185\n",
      "48.2     4901\n",
      "49.9     4819\n",
      "51.5     4375\n",
      "53.1     3836\n",
      "54.6     3278\n",
      "56.2     2907\n",
      "57.7     2439\n",
      "59.4     2239\n",
      "60.9     1806\n",
      "62.5     1654\n",
      "64.1     1303\n",
      "65.8     1135\n",
      "67.6      982\n",
      "69.3      803\n",
      "71.3      688\n",
      "73.4      482\n",
      "75.5      335\n",
      "78        234\n",
      "80.8      103\n",
      "84.1       58\n",
      "88         12\n",
      "93.5        5\n",
      "Name: PUNT_FILOSOFIA, dtype: int64\n",
      "Elementos null/NaN 0\n",
      "__________________\n",
      "Elementos diferentes de null/NaN: 60723\n",
      "__________________\n",
      "(60723,)\n",
      "None\n"
     ]
    }
   ],
   "source": [
    "print(data_2004['PUNT_FILOSOFIA'].value_counts().sort_index().index)\n",
    "print(data_2004['PUNT_FILOSOFIA'].value_counts().sort_index())\n",
    "print(missing_data(data_2004['PUNT_FILOSOFIA']))"
   ]
  },
  {
   "cell_type": "code",
   "execution_count": 95,
   "metadata": {
    "collapsed": true
   },
   "outputs": [],
   "source": [
    "data_2004['PUNT_FILOSOFIA'] = data_2004['PUNT_FILOSOFIA'].replace('---', np.nan)\n",
    "for i in data_2004['PUNT_FILOSOFIA'].value_counts().index:\n",
    "    if type(i) == str:\n",
    "        data_2004['PUNT_FILOSOFIA'] = data_2004['PUNT_FILOSOFIA'].replace(i, float(i))\n",
    "for i in data_2004['PUNT_FILOSOFIA'].value_counts().index:\n",
    "    if i > 100:\n",
    "        data_2004['PUNT_FILOSOFIA'] = data_2004['PUNT_FILOSOFIA'].replace(i, 100)"
   ]
  },
  {
   "cell_type": "code",
   "execution_count": 96,
   "metadata": {
    "collapsed": true
   },
   "outputs": [],
   "source": [
    "data_2004['PUNT_FILOSOFIA'].fillna(int(np.mean(data_2004['PUNT_FILOSOFIA'])), inplace=True)"
   ]
  },
  {
   "cell_type": "code",
   "execution_count": 97,
   "metadata": {
    "collapsed": false,
    "scrolled": true
   },
   "outputs": [
    {
     "name": "stdout",
     "output_type": "stream",
     "text": [
      "Index([   '44',    '46',  '41.9',  '47.8',  '39.5',  '49.5',  '37.1',  '51.3',\n",
      "          44.0,    46.0,    41.9,  '34.2',  '52.9',    47.8,    39.5,    49.5,\n",
      "        '54.5',    37.1,  '30.8',    51.3,  '56.1',    52.9,    34.2,    54.5,\n",
      "        '26.7',  '57.7',    30.8,    56.1,  '59.3',    57.7,  '60.9',    59.3,\n",
      "          '21',    60.9,    26.7,  '62.4',    '64',    62.4,  '65.7',    64.0,\n",
      "          21.0,  '67.5',    65.7,    67.5,  '69.2',    '71',    69.2,  '11.9',\n",
      "          77.3,    75.0,    71.0,    '75',    72.9,  '72.9',    82.6,   '---',\n",
      "          11.9,  '77.3',    90.1,    95.6,    86.0,    79.8,    '86',  '82.6',\n",
      "       '104.8',  '79.8',     '0',     0.0],\n",
      "      dtype='object')\n",
      "44       6431\n",
      "46       6069\n",
      "41.9     6025\n",
      "47.8     5077\n",
      "39.5     4850\n",
      "49.5     3796\n",
      "37.1     3440\n",
      "51.3     2671\n",
      "44.0     1949\n",
      "46.0     1902\n",
      "41.9     1885\n",
      "34.2     1878\n",
      "52.9     1707\n",
      "47.8     1635\n",
      "39.5     1498\n",
      "49.5     1225\n",
      "54.5     1061\n",
      "37.1     1007\n",
      "30.8      927\n",
      "51.3      915\n",
      "56.1      624\n",
      "52.9      571\n",
      "34.2      567\n",
      "54.5      386\n",
      "26.7      361\n",
      "57.7      355\n",
      "30.8      269\n",
      "56.1      240\n",
      "59.3      191\n",
      "57.7      188\n",
      "         ... \n",
      "65.7       43\n",
      "64.0       38\n",
      "21.0       36\n",
      "67.5       34\n",
      "65.7       27\n",
      "67.5       18\n",
      "69.2       18\n",
      "71         17\n",
      "69.2       17\n",
      "11.9       16\n",
      "77.3        9\n",
      "75.0        7\n",
      "71.0        7\n",
      "75          6\n",
      "72.9        5\n",
      "72.9        4\n",
      "82.6        4\n",
      "---         4\n",
      "11.9        3\n",
      "77.3        2\n",
      "90.1        2\n",
      "95.6        2\n",
      "86.0        1\n",
      "79.8        1\n",
      "86          1\n",
      "82.6        1\n",
      "104.8       1\n",
      "79.8        1\n",
      "0           1\n",
      "0.0         1\n",
      "Name: PUNT_FISICA, dtype: int64\n",
      "Elementos null/NaN 0\n",
      "__________________\n",
      "Elementos diferentes de null/NaN: 60723\n",
      "__________________\n",
      "(60723,)\n",
      "None\n"
     ]
    }
   ],
   "source": [
    "print(data_2004['PUNT_FISICA'].value_counts().index)\n",
    "print(data_2004['PUNT_FISICA'].value_counts())\n",
    "print(missing_data(data_2004['PUNT_FISICA']))"
   ]
  },
  {
   "cell_type": "code",
   "execution_count": 98,
   "metadata": {
    "collapsed": true
   },
   "outputs": [],
   "source": [
    "data_2004['PUNT_FISICA'] = data_2004['PUNT_FISICA'].replace('---', np.nan)\n",
    "for i in data_2004['PUNT_FISICA'].value_counts().index:\n",
    "    if type(i) == str:\n",
    "        data_2004['PUNT_FISICA'] = data_2004['PUNT_FISICA'].replace(i, float(i))\n",
    "for i in data_2004['PUNT_FISICA'].value_counts().index:\n",
    "    if i > 100:\n",
    "        data_2004['PUNT_FISICA'] = data_2004['PUNT_FISICA'].replace(i, 100)"
   ]
  },
  {
   "cell_type": "code",
   "execution_count": 99,
   "metadata": {
    "collapsed": true
   },
   "outputs": [],
   "source": [
    "data_2004['PUNT_FISICA'].fillna(int(np.mean(data_2004['PUNT_FISICA'])), inplace=True)"
   ]
  },
  {
   "cell_type": "code",
   "execution_count": 100,
   "metadata": {
    "collapsed": false,
    "scrolled": true
   },
   "outputs": [
    {
     "name": "stdout",
     "output_type": "stream",
     "text": [
      "Index([  40.8,   42.2, '40.8', '42.2',   39.5,   43.5, '39.5',   '38', '43.5',\n",
      "         38.0,   44.7, '44.7', '36.5',   45.9,   36.5, '45.9',   47.1, '34.8',\n",
      "         34.8, '47.1',   48.4, '48.4', '33.1',   33.1,   49.6, '49.6', '31.1',\n",
      "         31.1,   50.8, '50.8',   52.1, '28.9', '52.1',   28.9,   53.3, '53.3',\n",
      "       '26.3',   26.3, '54.6',   54.6,   '23', '56.1',   23.0,   56.1,   57.4,\n",
      "       '57.4', '18.6',   '59',   18.6,   59.0,    '0',   60.6,  '---',   11.6,\n",
      "         62.4, '11.6', '62.4', '60.6'],\n",
      "      dtype='object')\n",
      "40.8    3307\n",
      "42.2    3235\n",
      "40.8    3224\n",
      "42.2    3131\n",
      "39.5    3131\n",
      "43.5    2966\n",
      "39.5    2945\n",
      "38      2859\n",
      "43.5    2810\n",
      "38.0    2673\n",
      "44.7    2605\n",
      "44.7    2485\n",
      "36.5    2218\n",
      "45.9    2150\n",
      "36.5    2072\n",
      "45.9    2012\n",
      "47.1    1728\n",
      "34.8    1613\n",
      "34.8    1557\n",
      "47.1    1530\n",
      "48.4    1196\n",
      "48.4    1150\n",
      "33.1    1059\n",
      "33.1     990\n",
      "49.6     840\n",
      "49.6     823\n",
      "31.1     584\n",
      "31.1     574\n",
      "50.8     530\n",
      "50.8     503\n",
      "52.1     331\n",
      "28.9     322\n",
      "52.1     300\n",
      "28.9     289\n",
      "53.3     198\n",
      "53.3     170\n",
      "26.3     115\n",
      "26.3     110\n",
      "54.6      89\n",
      "54.6      82\n",
      "23        41\n",
      "56.1      39\n",
      "23.0      35\n",
      "56.1      32\n",
      "57.4      20\n",
      "57.4      11\n",
      "18.6       8\n",
      "59         8\n",
      "18.6       5\n",
      "59.0       5\n",
      "0          3\n",
      "60.6       2\n",
      "---        2\n",
      "11.6       2\n",
      "62.4       1\n",
      "11.6       1\n",
      "62.4       1\n",
      "60.6       1\n",
      "Name: PUNT_HISTORIA, dtype: int64\n",
      "Elementos null/NaN 0\n",
      "__________________\n",
      "Elementos diferentes de null/NaN: 60723\n",
      "__________________\n",
      "(60723,)\n",
      "None\n"
     ]
    }
   ],
   "source": [
    "print(data_2004['PUNT_HISTORIA'].value_counts().index)\n",
    "print(data_2004['PUNT_HISTORIA'].value_counts())\n",
    "print(missing_data(data_2004['PUNT_HISTORIA']))"
   ]
  },
  {
   "cell_type": "code",
   "execution_count": 101,
   "metadata": {
    "collapsed": true
   },
   "outputs": [],
   "source": [
    "data_2004['PUNT_HISTORIA'] = data_2004['PUNT_HISTORIA'].replace('---', np.nan)\n",
    "for i in data_2004['PUNT_HISTORIA'].value_counts().index:\n",
    "    if type(i) == str:\n",
    "        data_2004['PUNT_HISTORIA'] = data_2004['PUNT_HISTORIA'].replace(i, float(i))"
   ]
  },
  {
   "cell_type": "code",
   "execution_count": 102,
   "metadata": {
    "collapsed": true
   },
   "outputs": [],
   "source": [
    "data_2004['PUNT_HISTORIA'].fillna(int(np.mean(data_2004['PUNT_HISTORIA'])), inplace=True)"
   ]
  },
  {
   "cell_type": "code",
   "execution_count": 103,
   "metadata": {
    "collapsed": false,
    "scrolled": true
   },
   "outputs": [
    {
     "name": "stdout",
     "output_type": "stream",
     "text": [
      "Float64Index([ 0.0, 17.4, 24.4, 28.7, 31.8, 34.3, 36.5, 38.4, 40.1, 41.6, 43.2,\n",
      "              44.5, 45.8, 47.2, 48.4, 49.7, 50.9, 52.0, 53.3, 54.5, 55.8, 57.0,\n",
      "              58.3, 59.7, 61.1, 62.5, 64.2, 65.9, 67.8, 70.0, 72.6, 75.7, 80.0,\n",
      "              87.1, 98.8],\n",
      "             dtype='float64')\n",
      "0.0        1\n",
      "17.4      16\n",
      "24.4      60\n",
      "28.7     212\n",
      "31.8     640\n",
      "34.3    1642\n",
      "36.5    2868\n",
      "38.4    4472\n",
      "40.1    5879\n",
      "41.6    7097\n",
      "43.2    7035\n",
      "44.5    6461\n",
      "45.8    5428\n",
      "47.2    4442\n",
      "48.4    3280\n",
      "49.7    2450\n",
      "50.9    1862\n",
      "52.0    1340\n",
      "53.3    1099\n",
      "54.5     808\n",
      "55.8     721\n",
      "57.0     572\n",
      "58.3     501\n",
      "59.7     374\n",
      "61.1     343\n",
      "62.5     260\n",
      "64.2     230\n",
      "65.9     153\n",
      "67.8     135\n",
      "70.0     150\n",
      "72.6      76\n",
      "75.7      52\n",
      "80.0      34\n",
      "87.1      23\n",
      "98.8       7\n",
      "Name: PUNT_QUIMICA, dtype: int64\n",
      "Elementos null/NaN 0\n",
      "__________________\n",
      "Elementos diferentes de null/NaN: 60723\n",
      "__________________\n",
      "(60723,)\n",
      "None\n"
     ]
    }
   ],
   "source": [
    "print(data_2004['PUNT_QUIMICA'].value_counts().sort_index().index)\n",
    "print(data_2004['PUNT_QUIMICA'].value_counts().sort_index())\n",
    "print(missing_data(data_2004['PUNT_QUIMICA']))"
   ]
  },
  {
   "cell_type": "code",
   "execution_count": 104,
   "metadata": {
    "collapsed": false,
    "scrolled": true
   },
   "outputs": [
    {
     "name": "stdout",
     "output_type": "stream",
     "text": [
      "Index([   47.1,    48.7,    45.7,    50.1,    44.1,    51.5,    53.0,    42.6,\n",
      "          54.4,    56.0,    40.9,    57.5,    59.1,    39.3,    60.7,  '47.1',\n",
      "          62.5,  '45.7',  '44.1',  '48.7',    64.4,  '50.1',    37.4,  '42.6',\n",
      "        '51.5',    66.4,  '40.9',    68.6,    '53',  '39.3',  '54.4',    71.1,\n",
      "          '56',    35.4,    74.1,  '57.5',  '37.4',    77.6,  '59.1',  '60.7',\n",
      "          33.3,  '62.5',    82.4,  '35.4',  '64.4',  '66.4',  '68.6',  '33.3',\n",
      "          30.9,    90.2,  '71.1',  '74.1',  '77.6',  '30.9',  '82.4',    28.0,\n",
      "         103.1,  '90.2',    '28',   104.6, '103.1',  '24.5',    24.5,  '19.8',\n",
      "          12.2,  '12.2',    19.8, '104.6',     '0',   '---'],\n",
      "      dtype='object')\n",
      "47.1     3360\n",
      "48.7     3348\n",
      "45.7     3232\n",
      "50.1     3148\n",
      "44.1     2921\n",
      "51.5     2789\n",
      "53.0     2726\n",
      "42.6     2563\n",
      "54.4     2376\n",
      "56.0     2136\n",
      "40.9     2061\n",
      "57.5     1784\n",
      "59.1     1598\n",
      "39.3     1459\n",
      "60.7     1400\n",
      "47.1     1327\n",
      "62.5     1288\n",
      "45.7     1275\n",
      "44.1     1160\n",
      "48.7     1138\n",
      "64.4     1118\n",
      "50.1     1055\n",
      "37.4     1050\n",
      "42.6     1040\n",
      "51.5      967\n",
      "66.4      937\n",
      "40.9      866\n",
      "68.6      838\n",
      "53        764\n",
      "39.3      710\n",
      "         ... \n",
      "33.3      309\n",
      "62.5      302\n",
      "82.4      294\n",
      "35.4      275\n",
      "64.4      246\n",
      "66.4      223\n",
      "68.6      183\n",
      "33.3      159\n",
      "30.9      144\n",
      "90.2      129\n",
      "71.1      129\n",
      "74.1      126\n",
      "77.6       98\n",
      "30.9       73\n",
      "82.4       64\n",
      "28.0       56\n",
      "103.1      47\n",
      "90.2       33\n",
      "28         16\n",
      "104.6      16\n",
      "103.1      15\n",
      "24.5       14\n",
      "24.5       11\n",
      "19.8        4\n",
      "12.2        4\n",
      "12.2        3\n",
      "19.8        3\n",
      "104.6       2\n",
      "0           1\n",
      "---         1\n",
      "Name: PUNT_LENGUAJE, dtype: int64\n",
      "Elementos null/NaN 0\n",
      "__________________\n",
      "Elementos diferentes de null/NaN: 60723\n",
      "__________________\n",
      "(60723,)\n",
      "None\n"
     ]
    }
   ],
   "source": [
    "print(data_2004['PUNT_LENGUAJE'].value_counts().index)\n",
    "print(data_2004['PUNT_LENGUAJE'].value_counts())\n",
    "print(missing_data(data_2004['PUNT_LENGUAJE']))"
   ]
  },
  {
   "cell_type": "code",
   "execution_count": 105,
   "metadata": {
    "collapsed": true
   },
   "outputs": [],
   "source": [
    "data_2004['PUNT_LENGUAJE'] = data_2004['PUNT_LENGUAJE'].replace('---', np.nan)\n",
    "for i in data_2004['PUNT_LENGUAJE'].value_counts().index:\n",
    "    if type(i) == str:\n",
    "        data_2004['PUNT_LENGUAJE'] = data_2004['PUNT_LENGUAJE'].replace(i, float(i))\n",
    "for i in data_2004['PUNT_LENGUAJE'].value_counts().index:\n",
    "    if i > 100:\n",
    "        data_2004['PUNT_LENGUAJE'] = data_2004['PUNT_LENGUAJE'].replace(i, 100)"
   ]
  },
  {
   "cell_type": "code",
   "execution_count": 106,
   "metadata": {
    "collapsed": true
   },
   "outputs": [],
   "source": [
    "data_2004['PUNT_LENGUAJE'].fillna(int(np.mean(data_2004['PUNT_LENGUAJE'])), inplace=True)"
   ]
  },
  {
   "cell_type": "code",
   "execution_count": 107,
   "metadata": {
    "collapsed": false,
    "scrolled": true
   },
   "outputs": [
    {
     "name": "stdout",
     "output_type": "stream",
     "text": [
      "Index(['42.3', '43.8', '40.9', '45.1', '39.3', '46.5', '37.7', '47.7', '48.9',\n",
      "       '35.8', '50.2', '51.4',   42.3,   43.8,   40.9, '52.7',   45.1, '33.9',\n",
      "         46.5,   39.3, '53.9',   47.7,   37.7,   48.9, '55.2',   50.2,   35.8,\n",
      "       '56.5', '31.6',   51.4, '57.8',   52.7,   33.9, '59.3',   53.9, '60.7',\n",
      "         55.2, '28.8',   56.5,   31.6,   57.8, '62.3',   59.3, '63.9', '25.5',\n",
      "         28.8,   60.7, '65.8',   62.3, '67.7',   25.5, '20.9',   63.9,   65.8,\n",
      "         20.9,   '70', '13.4',   67.7, '72.7',   70.0,    '0',  '---',   76.1,\n",
      "          0.0],\n",
      "      dtype='object')\n",
      "42.3    4396\n",
      "43.8    4192\n",
      "40.9    4069\n",
      "45.1    3827\n",
      "39.3    3600\n",
      "46.5    3474\n",
      "37.7    2861\n",
      "47.7    2842\n",
      "48.9    2386\n",
      "35.8    2065\n",
      "50.2    2027\n",
      "51.4    1663\n",
      "42.3    1489\n",
      "43.8    1447\n",
      "40.9    1437\n",
      "52.7    1414\n",
      "45.1    1366\n",
      "33.9    1254\n",
      "46.5    1228\n",
      "39.3    1212\n",
      "53.9    1071\n",
      "47.7    1030\n",
      "37.7     989\n",
      "48.9     897\n",
      "55.2     867\n",
      "50.2     738\n",
      "35.8     679\n",
      "56.5     658\n",
      "31.6     619\n",
      "51.4     566\n",
      "        ... \n",
      "53.9     332\n",
      "60.7     288\n",
      "55.2     282\n",
      "28.8     250\n",
      "56.5     227\n",
      "31.6     189\n",
      "57.8     152\n",
      "62.3     133\n",
      "59.3     100\n",
      "63.9      96\n",
      "25.5      91\n",
      "28.8      85\n",
      "60.7      79\n",
      "65.8      60\n",
      "62.3      45\n",
      "67.7      34\n",
      "25.5      25\n",
      "20.9      23\n",
      "63.9      19\n",
      "65.8      16\n",
      "20.9      13\n",
      "70        13\n",
      "13.4      10\n",
      "67.7       6\n",
      "72.7       5\n",
      "70.0       5\n",
      "0          4\n",
      "---        4\n",
      "76.1       1\n",
      "0.0        1\n",
      "Name: PUNT_GEOGRAFIA, dtype: int64\n",
      "Elementos null/NaN 0\n",
      "__________________\n",
      "Elementos diferentes de null/NaN: 60723\n",
      "__________________\n",
      "(60723,)\n",
      "None\n"
     ]
    }
   ],
   "source": [
    "print(data_2004['PUNT_GEOGRAFIA'].value_counts().index)\n",
    "print(data_2004['PUNT_GEOGRAFIA'].value_counts())\n",
    "print(missing_data(data_2004['PUNT_GEOGRAFIA']))"
   ]
  },
  {
   "cell_type": "code",
   "execution_count": 108,
   "metadata": {
    "collapsed": true
   },
   "outputs": [],
   "source": [
    "data_2004['PUNT_GEOGRAFIA'] = data_2004['PUNT_GEOGRAFIA'].replace('---', np.nan)\n",
    "for i in data_2004['PUNT_GEOGRAFIA'].value_counts().index:\n",
    "    if type(i) == str:\n",
    "        data_2004['PUNT_GEOGRAFIA'] = data_2004['PUNT_GEOGRAFIA'].replace(i, float(i))"
   ]
  },
  {
   "cell_type": "code",
   "execution_count": 109,
   "metadata": {
    "collapsed": true
   },
   "outputs": [],
   "source": [
    "data_2004['PUNT_GEOGRAFIA'].fillna(int(np.mean(data_2004['PUNT_GEOGRAFIA'])), inplace=True)"
   ]
  },
  {
   "cell_type": "code",
   "execution_count": 110,
   "metadata": {
    "collapsed": false
   },
   "outputs": [
    {
     "name": "stdout",
     "output_type": "stream",
     "text": [
      "Int64Index([43, 44, 45], dtype='int64')\n",
      "43    31090\n",
      "44    21927\n",
      "45     7706\n",
      "Name: COD_INTERDISCIPLINAR, dtype: int64\n",
      "Elementos null/NaN 0\n",
      "__________________\n",
      "Elementos diferentes de null/NaN: 60723\n",
      "__________________\n",
      "(60723,)\n",
      "None\n"
     ]
    }
   ],
   "source": [
    "print(data_2004['COD_INTERDISCIPLINAR'].value_counts().sort_index().index)\n",
    "print(data_2004['COD_INTERDISCIPLINAR'].value_counts().sort_index())\n",
    "print(missing_data(data_2004['COD_INTERDISCIPLINAR']))"
   ]
  },
  {
   "cell_type": "code",
   "execution_count": 111,
   "metadata": {
    "collapsed": false,
    "scrolled": true
   },
   "outputs": [
    {
     "name": "stdout",
     "output_type": "stream",
     "text": [
      "Index(['---', '0', '103', '109.4', '18.2', '25.3', '25.7', '31.7', '33.3',\n",
      "       '36.9', '38.4', '38.5', '40.6', '41.6', '42.4', '45.8', '46.2', '48.9',\n",
      "       '50', '50.8', '51.8', '53.6', '54.6', '55.3', '56.9', '57.5', '6.8',\n",
      "       '60', '60.3', '60.5', '63', '63.9', '65.5', '66.1', '67.8', '69.3',\n",
      "       '71.7', '72.8', '72.9', '77', '79.4', '80.6', '82.2', '90.2', '91'],\n",
      "      dtype='object')\n",
      "---       123\n",
      "0         233\n",
      "103         2\n",
      "109.4       8\n",
      "18.2      495\n",
      "25.3      531\n",
      "25.7      816\n",
      "31.7     1010\n",
      "33.3     1513\n",
      "36.9     1086\n",
      "38.4     2777\n",
      "38.5      476\n",
      "40.6     1434\n",
      "41.6      952\n",
      "42.4     3725\n",
      "45.8     6719\n",
      "46.2      779\n",
      "48.9     3271\n",
      "50       4181\n",
      "50.8      668\n",
      "51.8     2522\n",
      "53.6     5177\n",
      "54.6     1563\n",
      "55.3      569\n",
      "56.9     5239\n",
      "57.5      958\n",
      "6.8       187\n",
      "60       4472\n",
      "60.3      412\n",
      "60.5      565\n",
      "63       3292\n",
      "63.9      263\n",
      "65.5      270\n",
      "66.1     2045\n",
      "67.8       96\n",
      "69.3     1074\n",
      "71.7      217\n",
      "72.8       48\n",
      "72.9      492\n",
      "77        194\n",
      "79.4      135\n",
      "80.6       11\n",
      "82.2       57\n",
      "90.2       10\n",
      "91         56\n",
      "Name: PUNT_INTERDISCIPLINAR, dtype: int64\n",
      "Elementos null/NaN 0\n",
      "__________________\n",
      "Elementos diferentes de null/NaN: 60723\n",
      "__________________\n",
      "(60723,)\n",
      "None\n"
     ]
    }
   ],
   "source": [
    "print(data_2004['PUNT_INTERDISCIPLINAR'].value_counts().sort_index().index)\n",
    "print(data_2004['PUNT_INTERDISCIPLINAR'].value_counts().sort_index())\n",
    "print(missing_data(data_2004['PUNT_INTERDISCIPLINAR']))"
   ]
  },
  {
   "cell_type": "code",
   "execution_count": 112,
   "metadata": {
    "collapsed": true
   },
   "outputs": [],
   "source": [
    "data_2004['PUNT_INTERDISCIPLINAR'] = data_2004['PUNT_INTERDISCIPLINAR'].replace('---', np.nan)\n",
    "for i in data_2004['PUNT_INTERDISCIPLINAR'].value_counts().index:\n",
    "    if type(i) == str:\n",
    "        data_2004['PUNT_INTERDISCIPLINAR'] = data_2004['PUNT_INTERDISCIPLINAR'].replace(i, float(i))\n",
    "for i in data_2004['PUNT_INTERDISCIPLINAR'].value_counts().index:\n",
    "    if i > 100:\n",
    "        data_2004['PUNT_INTERDISCIPLINAR'] = data_2004['PUNT_INTERDISCIPLINAR'].replace(i, 100)"
   ]
  },
  {
   "cell_type": "code",
   "execution_count": 113,
   "metadata": {
    "collapsed": true
   },
   "outputs": [],
   "source": [
    "data_2004['PUNT_INTERDISCIPLINAR'].fillna(int(np.mean(data_2004['PUNT_INTERDISCIPLINAR'])), inplace=True)"
   ]
  },
  {
   "cell_type": "code",
   "execution_count": 114,
   "metadata": {
    "collapsed": false
   },
   "outputs": [
    {
     "name": "stdout",
     "output_type": "stream",
     "text": [
      "Int64Index([51, 52, 53, 99], dtype='int64')\n",
      "51    60220\n",
      "52      415\n",
      "53       77\n",
      "99       11\n",
      "Name: COD_IDIOMA, dtype: int64\n",
      "Elementos null/NaN 0\n",
      "__________________\n",
      "Elementos diferentes de null/NaN: 60723\n",
      "__________________\n",
      "(60723,)\n",
      "None\n"
     ]
    }
   ],
   "source": [
    "print(data_2004['COD_IDIOMA'].value_counts().sort_index().index)\n",
    "print(data_2004['COD_IDIOMA'].value_counts().sort_index())\n",
    "print(missing_data(data_2004['COD_IDIOMA']))"
   ]
  },
  {
   "cell_type": "code",
   "execution_count": 115,
   "metadata": {
    "collapsed": false,
    "scrolled": true
   },
   "outputs": [
    {
     "name": "stdout",
     "output_type": "stream",
     "text": [
      "Index(['*', '---', '0', '13.9', '21.2', '22.1', '25.6', '26.7', '28.9', '29.9',\n",
      "       '30.2', '31.5', '32.7', '32.9', '33.7', '35', '35.3', '35.7', '37.1',\n",
      "       '37.3', '37.5', '38.9', '39.1', '39.2', '40.6', '40.7', '40.9', '42',\n",
      "       '42.2', '42.4', '43.4', '43.7', '43.9', '44.7', '45.1', '45.3', '45.9',\n",
      "       '46.5', '46.7', '47.2', '48', '48.4', '49.3', '49.6', '50.5', '50.8',\n",
      "       '51.6', '51.8', '52', '53', '53.2', '54.1', '54.3', '54.5', '55.5',\n",
      "       '55.7', '56.8', '57', '58', '58.1', '58.4', '59.3', '59.4', '59.8',\n",
      "       '60.7', '60.8', '61.3', '62.2', '62.9', '63.7', '64.7', '65.3', '65.4',\n",
      "       '66.7', '67.1', '68.9', '69.1', '71.3', '71.5', '73.9', '74.1', '74.8',\n",
      "       '77.2', '79.2', '81.6', '81.8', '86.5', '88.9', '98.8'],\n",
      "      dtype='object')\n",
      "*         11\n",
      "---       13\n",
      "0          7\n",
      "13.9      24\n",
      "21.2     101\n",
      "22.1       1\n",
      "25.6     342\n",
      "26.7       2\n",
      "28.9    1108\n",
      "29.9       4\n",
      "30.2       8\n",
      "31.5    2270\n",
      "32.7       8\n",
      "32.9       9\n",
      "33.7    4021\n",
      "35         3\n",
      "35.3      18\n",
      "35.7    5939\n",
      "37.1       9\n",
      "37.3      30\n",
      "37.5    7259\n",
      "38.9       9\n",
      "39.1    7753\n",
      "39.2      25\n",
      "40.6    7560\n",
      "40.7       8\n",
      "40.9      27\n",
      "42      6268\n",
      "42.2       5\n",
      "42.4      30\n",
      "        ... \n",
      "58.1       7\n",
      "58.4     309\n",
      "59.3       1\n",
      "59.4       7\n",
      "59.8     302\n",
      "60.7       3\n",
      "60.8      11\n",
      "61.3     322\n",
      "62.2      16\n",
      "62.9     305\n",
      "63.7      23\n",
      "64.7     338\n",
      "65.3      21\n",
      "65.4       1\n",
      "66.7     345\n",
      "67.1      14\n",
      "68.9     339\n",
      "69.1      22\n",
      "71.3      20\n",
      "71.5     315\n",
      "73.9      27\n",
      "74.1       3\n",
      "74.8     276\n",
      "77.2      14\n",
      "79.2     207\n",
      "81.6       8\n",
      "81.8       1\n",
      "86.5     120\n",
      "88.9       1\n",
      "98.8      32\n",
      "Name: PUNT_IDIOMA, dtype: int64\n",
      "Elementos null/NaN 0\n",
      "__________________\n",
      "Elementos diferentes de null/NaN: 60723\n",
      "__________________\n",
      "(60723,)\n",
      "None\n"
     ]
    }
   ],
   "source": [
    "print(data_2004['PUNT_IDIOMA'].value_counts().sort_index().index)\n",
    "print(data_2004['PUNT_IDIOMA'].value_counts().sort_index())\n",
    "print(missing_data(data_2004['PUNT_IDIOMA']))"
   ]
  },
  {
   "cell_type": "code",
   "execution_count": 116,
   "metadata": {
    "collapsed": false
   },
   "outputs": [],
   "source": [
    "data_2004['PUNT_IDIOMA'] = data_2004['PUNT_IDIOMA'].replace('---', np.nan)\n",
    "data_2004['PUNT_IDIOMA'] = data_2004['PUNT_IDIOMA'].replace('*', np.nan)\n",
    "for i in data_2004['PUNT_IDIOMA'].value_counts().index:\n",
    "    if type(i) == str:\n",
    "        data_2004['PUNT_IDIOMA'] = data_2004['PUNT_IDIOMA'].replace(i, float(i))"
   ]
  },
  {
   "cell_type": "code",
   "execution_count": 117,
   "metadata": {
    "collapsed": false,
    "scrolled": true
   },
   "outputs": [],
   "source": [
    "data_2004['PUNT_IDIOMA'].fillna(int(np.mean(data_2004['PUNT_IDIOMA'])), inplace=True)"
   ]
  },
  {
   "cell_type": "code",
   "execution_count": null,
   "metadata": {
    "collapsed": true
   },
   "outputs": [],
   "source": []
  },
  {
   "cell_type": "code",
   "execution_count": null,
   "metadata": {
    "collapsed": true
   },
   "outputs": [],
   "source": []
  },
  {
   "cell_type": "code",
   "execution_count": null,
   "metadata": {
    "collapsed": true
   },
   "outputs": [],
   "source": []
  },
  {
   "cell_type": "code",
   "execution_count": null,
   "metadata": {
    "collapsed": true
   },
   "outputs": [],
   "source": []
  },
  {
   "cell_type": "markdown",
   "metadata": {},
   "source": [
    "# FILE 2 -> 2004_2"
   ]
  },
  {
   "cell_type": "code",
   "execution_count": 118,
   "metadata": {
    "collapsed": false
   },
   "outputs": [
    {
     "name": "stderr",
     "output_type": "stream",
     "text": [
      "/usr/local/anaconda3/lib/python3.5/site-packages/IPython/core/interactiveshell.py:2723: DtypeWarning: Columns (12,13,14,15,16,17,19,20,21,22,23,27,28) have mixed types. Specify dtype option on import or set low_memory=False.\n",
      "  interactivity=interactivity, compiler=compiler, result=result)\n"
     ]
    }
   ],
   "source": [
    "data_2004_2 = pd.read_csv('../DatosFTPICFES/SABER11/SB11-BASES_DE_DATOS/SB11-20042-RGSTRO-CLFCCN-V1-0.txt', delimiter = '|',\n",
    "                         encoding = \"iso-8859-1\")"
   ]
  },
  {
   "cell_type": "code",
   "execution_count": 119,
   "metadata": {
    "collapsed": false
   },
   "outputs": [
    {
     "data": {
      "text/plain": [
       "(366549, 40)"
      ]
     },
     "execution_count": 119,
     "metadata": {},
     "output_type": "execute_result"
    }
   ],
   "source": [
    "data_2004_2.shape"
   ]
  },
  {
   "cell_type": "code",
   "execution_count": 120,
   "metadata": {
    "collapsed": false,
    "scrolled": true
   },
   "outputs": [
    {
     "data": {
      "text/html": [
       "<div>\n",
       "<table border=\"1\" class=\"dataframe\">\n",
       "  <thead>\n",
       "    <tr style=\"text-align: right;\">\n",
       "      <th></th>\n",
       "      <th>0</th>\n",
       "      <th>1</th>\n",
       "      <th>2</th>\n",
       "    </tr>\n",
       "  </thead>\n",
       "  <tbody>\n",
       "    <tr>\n",
       "      <th>ESTU_CONSECUTIVO</th>\n",
       "      <td>SB11200420000001</td>\n",
       "      <td>SB11200420000002</td>\n",
       "      <td>SB11200420000003</td>\n",
       "    </tr>\n",
       "    <tr>\n",
       "      <th>COLE_COD_ICFES</th>\n",
       "      <td>68601</td>\n",
       "      <td>68601</td>\n",
       "      <td>68601</td>\n",
       "    </tr>\n",
       "    <tr>\n",
       "      <th>COLE_NOMBRE_SEDE</th>\n",
       "      <td>CENTRO DE EDUCACION DE JOVENES Y ADULTOS EDUCA...</td>\n",
       "      <td>CENTRO DE EDUCACION DE JOVENES Y ADULTOS EDUCA...</td>\n",
       "      <td>CENTRO DE EDUCACION DE JOVENES Y ADULTOS EDUCA...</td>\n",
       "    </tr>\n",
       "    <tr>\n",
       "      <th>IND_ANNO_TERMINO_BACHILLERATO</th>\n",
       "      <td>2004</td>\n",
       "      <td>2004</td>\n",
       "      <td>2004</td>\n",
       "    </tr>\n",
       "    <tr>\n",
       "      <th>COLE_JORNADA</th>\n",
       "      <td>N</td>\n",
       "      <td>N</td>\n",
       "      <td>N</td>\n",
       "    </tr>\n",
       "    <tr>\n",
       "      <th>COLE_VALOR_PENSION</th>\n",
       "      <td>0</td>\n",
       "      <td>0</td>\n",
       "      <td>0</td>\n",
       "    </tr>\n",
       "    <tr>\n",
       "      <th>ESTU_GENERO</th>\n",
       "      <td>F</td>\n",
       "      <td>M</td>\n",
       "      <td>M</td>\n",
       "    </tr>\n",
       "    <tr>\n",
       "      <th>ESTU_NACIMIENTO_DIA</th>\n",
       "      <td>10</td>\n",
       "      <td>6</td>\n",
       "      <td>17</td>\n",
       "    </tr>\n",
       "    <tr>\n",
       "      <th>ESTU_NACIMIENTO_MES</th>\n",
       "      <td>2</td>\n",
       "      <td>6</td>\n",
       "      <td>4</td>\n",
       "    </tr>\n",
       "    <tr>\n",
       "      <th>ESTU_NACIMIENTO_ANNO</th>\n",
       "      <td>1988</td>\n",
       "      <td>1988</td>\n",
       "      <td>1988</td>\n",
       "    </tr>\n",
       "    <tr>\n",
       "      <th>ESTU_DEPTO_PRESENTACION</th>\n",
       "      <td>RISARALDA</td>\n",
       "      <td>RISARALDA</td>\n",
       "      <td>RISARALDA</td>\n",
       "    </tr>\n",
       "    <tr>\n",
       "      <th>ESTU_MCPIO_PRESENTACION</th>\n",
       "      <td>PEREIRA</td>\n",
       "      <td>PEREIRA</td>\n",
       "      <td>PEREIRA</td>\n",
       "    </tr>\n",
       "    <tr>\n",
       "      <th>ESTU_LIMITA_INVIDENTE</th>\n",
       "      <td>NaN</td>\n",
       "      <td>NaN</td>\n",
       "      <td>NaN</td>\n",
       "    </tr>\n",
       "    <tr>\n",
       "      <th>ESTU_LIMITA_SORDOINTERPRETE</th>\n",
       "      <td>NaN</td>\n",
       "      <td>NaN</td>\n",
       "      <td>NaN</td>\n",
       "    </tr>\n",
       "    <tr>\n",
       "      <th>ESTU_LIMITA_SORDONOINTERPRETE</th>\n",
       "      <td>NaN</td>\n",
       "      <td>NaN</td>\n",
       "      <td>NaN</td>\n",
       "    </tr>\n",
       "    <tr>\n",
       "      <th>ESTU_LIMITA_MOTRIZ</th>\n",
       "      <td>NaN</td>\n",
       "      <td>NaN</td>\n",
       "      <td>NaN</td>\n",
       "    </tr>\n",
       "    <tr>\n",
       "      <th>PUNT_BIOLOGIA</th>\n",
       "      <td>45.79</td>\n",
       "      <td>42.86</td>\n",
       "      <td>52.54</td>\n",
       "    </tr>\n",
       "    <tr>\n",
       "      <th>PUNT_MATEMATICAS</th>\n",
       "      <td>48.19</td>\n",
       "      <td>49.87</td>\n",
       "      <td>44.85</td>\n",
       "    </tr>\n",
       "    <tr>\n",
       "      <th>PUNT_FILOSOFIA</th>\n",
       "      <td>46.6</td>\n",
       "      <td>37.25</td>\n",
       "      <td>44.94</td>\n",
       "    </tr>\n",
       "    <tr>\n",
       "      <th>PUNT_FISICA</th>\n",
       "      <td>37.52</td>\n",
       "      <td>34.59</td>\n",
       "      <td>46.63</td>\n",
       "    </tr>\n",
       "    <tr>\n",
       "      <th>PUNT_HISTORIA</th>\n",
       "      <td>45.16</td>\n",
       "      <td>36.42</td>\n",
       "      <td>41.17</td>\n",
       "    </tr>\n",
       "    <tr>\n",
       "      <th>PUNT_QUIMICA</th>\n",
       "      <td>42.23</td>\n",
       "      <td>45.98</td>\n",
       "      <td>48.33</td>\n",
       "    </tr>\n",
       "    <tr>\n",
       "      <th>PUNT_LENGUAJE</th>\n",
       "      <td>50.08</td>\n",
       "      <td>50.08</td>\n",
       "      <td>48.55</td>\n",
       "    </tr>\n",
       "    <tr>\n",
       "      <th>PUNT_GEOGRAFIA</th>\n",
       "      <td>46.81</td>\n",
       "      <td>45.35</td>\n",
       "      <td>49.61</td>\n",
       "    </tr>\n",
       "    <tr>\n",
       "      <th>COD_INTERDISCIPLINAR</th>\n",
       "      <td>43</td>\n",
       "      <td>43</td>\n",
       "      <td>43</td>\n",
       "    </tr>\n",
       "    <tr>\n",
       "      <th>PUNT_INTERDISCIPLINAR</th>\n",
       "      <td>56.61</td>\n",
       "      <td>56.61</td>\n",
       "      <td>59.77</td>\n",
       "    </tr>\n",
       "    <tr>\n",
       "      <th>COD_IDIOMA</th>\n",
       "      <td>51</td>\n",
       "      <td>51</td>\n",
       "      <td>51</td>\n",
       "    </tr>\n",
       "    <tr>\n",
       "      <th>PUNT_IDIOMA</th>\n",
       "      <td>47.70</td>\n",
       "      <td>36.79</td>\n",
       "      <td>30.84</td>\n",
       "    </tr>\n",
       "    <tr>\n",
       "      <th>ESTU_IES_COD_DESEADA</th>\n",
       "      <td>2711</td>\n",
       "      <td>1111</td>\n",
       "      <td>1111</td>\n",
       "    </tr>\n",
       "    <tr>\n",
       "      <th>ESTU_RAZONINSTITUTO</th>\n",
       "      <td>NaN</td>\n",
       "      <td>6</td>\n",
       "      <td>NaN</td>\n",
       "    </tr>\n",
       "    <tr>\n",
       "      <th>ESTU_CARRDESEADA_COD</th>\n",
       "      <td>4158</td>\n",
       "      <td>267</td>\n",
       "      <td>269</td>\n",
       "    </tr>\n",
       "    <tr>\n",
       "      <th>ESTU_CARRDESEADA_RAZON</th>\n",
       "      <td>2</td>\n",
       "      <td>1</td>\n",
       "      <td>2</td>\n",
       "    </tr>\n",
       "    <tr>\n",
       "      <th>COLE_CALENDARIO</th>\n",
       "      <td>A</td>\n",
       "      <td>A</td>\n",
       "      <td>A</td>\n",
       "    </tr>\n",
       "    <tr>\n",
       "      <th>COLE_BILINGUE</th>\n",
       "      <td>NaN</td>\n",
       "      <td>NaN</td>\n",
       "      <td>NaN</td>\n",
       "    </tr>\n",
       "    <tr>\n",
       "      <th>COLE_CARACTER</th>\n",
       "      <td>ACADEMICO</td>\n",
       "      <td>ACADEMICO</td>\n",
       "      <td>ACADEMICO</td>\n",
       "    </tr>\n",
       "    <tr>\n",
       "      <th>COLE_DEPTO_UBICACION</th>\n",
       "      <td>RISARALDA</td>\n",
       "      <td>RISARALDA</td>\n",
       "      <td>RISARALDA</td>\n",
       "    </tr>\n",
       "    <tr>\n",
       "      <th>COLE_MCPIO_UBICACION</th>\n",
       "      <td>PEREIRA</td>\n",
       "      <td>PEREIRA</td>\n",
       "      <td>PEREIRA</td>\n",
       "    </tr>\n",
       "    <tr>\n",
       "      <th>ESTU_TIPO_DOCUMENTO</th>\n",
       "      <td>T</td>\n",
       "      <td>T</td>\n",
       "      <td>T</td>\n",
       "    </tr>\n",
       "    <tr>\n",
       "      <th>ESTU_RESIDE_DEPTO</th>\n",
       "      <td>RISARALDA</td>\n",
       "      <td>RISARALDA</td>\n",
       "      <td>RISARALDA</td>\n",
       "    </tr>\n",
       "    <tr>\n",
       "      <th>ESTU_RESIDE_MCPIO</th>\n",
       "      <td>PEREIRA</td>\n",
       "      <td>PEREIRA</td>\n",
       "      <td>PEREIRA</td>\n",
       "    </tr>\n",
       "  </tbody>\n",
       "</table>\n",
       "</div>"
      ],
      "text/plain": [
       "                                                                               0  \\\n",
       "ESTU_CONSECUTIVO                                                SB11200420000001   \n",
       "COLE_COD_ICFES                                                             68601   \n",
       "COLE_NOMBRE_SEDE               CENTRO DE EDUCACION DE JOVENES Y ADULTOS EDUCA...   \n",
       "IND_ANNO_TERMINO_BACHILLERATO                                               2004   \n",
       "COLE_JORNADA                                                                   N   \n",
       "COLE_VALOR_PENSION                                                             0   \n",
       "ESTU_GENERO                                                                    F   \n",
       "ESTU_NACIMIENTO_DIA                                                           10   \n",
       "ESTU_NACIMIENTO_MES                                                            2   \n",
       "ESTU_NACIMIENTO_ANNO                                                        1988   \n",
       "ESTU_DEPTO_PRESENTACION                                                RISARALDA   \n",
       "ESTU_MCPIO_PRESENTACION                                                  PEREIRA   \n",
       "ESTU_LIMITA_INVIDENTE                                                        NaN   \n",
       "ESTU_LIMITA_SORDOINTERPRETE                                                  NaN   \n",
       "ESTU_LIMITA_SORDONOINTERPRETE                                                NaN   \n",
       "ESTU_LIMITA_MOTRIZ                                                           NaN   \n",
       "PUNT_BIOLOGIA                                                              45.79   \n",
       "PUNT_MATEMATICAS                                                           48.19   \n",
       "PUNT_FILOSOFIA                                                              46.6   \n",
       "PUNT_FISICA                                                                37.52   \n",
       "PUNT_HISTORIA                                                              45.16   \n",
       "PUNT_QUIMICA                                                               42.23   \n",
       "PUNT_LENGUAJE                                                              50.08   \n",
       "PUNT_GEOGRAFIA                                                             46.81   \n",
       "COD_INTERDISCIPLINAR                                                          43   \n",
       "PUNT_INTERDISCIPLINAR                                                      56.61   \n",
       "COD_IDIOMA                                                                    51   \n",
       "PUNT_IDIOMA                                                                47.70   \n",
       "ESTU_IES_COD_DESEADA                                                        2711   \n",
       "ESTU_RAZONINSTITUTO                                                          NaN   \n",
       "ESTU_CARRDESEADA_COD                                                        4158   \n",
       "ESTU_CARRDESEADA_RAZON                                                         2   \n",
       "COLE_CALENDARIO                                                                A   \n",
       "COLE_BILINGUE                                                                NaN   \n",
       "COLE_CARACTER                                                          ACADEMICO   \n",
       "COLE_DEPTO_UBICACION                                                   RISARALDA   \n",
       "COLE_MCPIO_UBICACION                                                     PEREIRA   \n",
       "ESTU_TIPO_DOCUMENTO                                                            T   \n",
       "ESTU_RESIDE_DEPTO                                                      RISARALDA   \n",
       "ESTU_RESIDE_MCPIO                                                        PEREIRA   \n",
       "\n",
       "                                                                               1  \\\n",
       "ESTU_CONSECUTIVO                                                SB11200420000002   \n",
       "COLE_COD_ICFES                                                             68601   \n",
       "COLE_NOMBRE_SEDE               CENTRO DE EDUCACION DE JOVENES Y ADULTOS EDUCA...   \n",
       "IND_ANNO_TERMINO_BACHILLERATO                                               2004   \n",
       "COLE_JORNADA                                                                   N   \n",
       "COLE_VALOR_PENSION                                                             0   \n",
       "ESTU_GENERO                                                                    M   \n",
       "ESTU_NACIMIENTO_DIA                                                            6   \n",
       "ESTU_NACIMIENTO_MES                                                            6   \n",
       "ESTU_NACIMIENTO_ANNO                                                        1988   \n",
       "ESTU_DEPTO_PRESENTACION                                                RISARALDA   \n",
       "ESTU_MCPIO_PRESENTACION                                                  PEREIRA   \n",
       "ESTU_LIMITA_INVIDENTE                                                        NaN   \n",
       "ESTU_LIMITA_SORDOINTERPRETE                                                  NaN   \n",
       "ESTU_LIMITA_SORDONOINTERPRETE                                                NaN   \n",
       "ESTU_LIMITA_MOTRIZ                                                           NaN   \n",
       "PUNT_BIOLOGIA                                                              42.86   \n",
       "PUNT_MATEMATICAS                                                           49.87   \n",
       "PUNT_FILOSOFIA                                                             37.25   \n",
       "PUNT_FISICA                                                                34.59   \n",
       "PUNT_HISTORIA                                                              36.42   \n",
       "PUNT_QUIMICA                                                               45.98   \n",
       "PUNT_LENGUAJE                                                              50.08   \n",
       "PUNT_GEOGRAFIA                                                             45.35   \n",
       "COD_INTERDISCIPLINAR                                                          43   \n",
       "PUNT_INTERDISCIPLINAR                                                      56.61   \n",
       "COD_IDIOMA                                                                    51   \n",
       "PUNT_IDIOMA                                                                36.79   \n",
       "ESTU_IES_COD_DESEADA                                                        1111   \n",
       "ESTU_RAZONINSTITUTO                                                            6   \n",
       "ESTU_CARRDESEADA_COD                                                         267   \n",
       "ESTU_CARRDESEADA_RAZON                                                         1   \n",
       "COLE_CALENDARIO                                                                A   \n",
       "COLE_BILINGUE                                                                NaN   \n",
       "COLE_CARACTER                                                          ACADEMICO   \n",
       "COLE_DEPTO_UBICACION                                                   RISARALDA   \n",
       "COLE_MCPIO_UBICACION                                                     PEREIRA   \n",
       "ESTU_TIPO_DOCUMENTO                                                            T   \n",
       "ESTU_RESIDE_DEPTO                                                      RISARALDA   \n",
       "ESTU_RESIDE_MCPIO                                                        PEREIRA   \n",
       "\n",
       "                                                                               2  \n",
       "ESTU_CONSECUTIVO                                                SB11200420000003  \n",
       "COLE_COD_ICFES                                                             68601  \n",
       "COLE_NOMBRE_SEDE               CENTRO DE EDUCACION DE JOVENES Y ADULTOS EDUCA...  \n",
       "IND_ANNO_TERMINO_BACHILLERATO                                               2004  \n",
       "COLE_JORNADA                                                                   N  \n",
       "COLE_VALOR_PENSION                                                             0  \n",
       "ESTU_GENERO                                                                    M  \n",
       "ESTU_NACIMIENTO_DIA                                                           17  \n",
       "ESTU_NACIMIENTO_MES                                                            4  \n",
       "ESTU_NACIMIENTO_ANNO                                                        1988  \n",
       "ESTU_DEPTO_PRESENTACION                                                RISARALDA  \n",
       "ESTU_MCPIO_PRESENTACION                                                  PEREIRA  \n",
       "ESTU_LIMITA_INVIDENTE                                                        NaN  \n",
       "ESTU_LIMITA_SORDOINTERPRETE                                                  NaN  \n",
       "ESTU_LIMITA_SORDONOINTERPRETE                                                NaN  \n",
       "ESTU_LIMITA_MOTRIZ                                                           NaN  \n",
       "PUNT_BIOLOGIA                                                              52.54  \n",
       "PUNT_MATEMATICAS                                                           44.85  \n",
       "PUNT_FILOSOFIA                                                             44.94  \n",
       "PUNT_FISICA                                                                46.63  \n",
       "PUNT_HISTORIA                                                              41.17  \n",
       "PUNT_QUIMICA                                                               48.33  \n",
       "PUNT_LENGUAJE                                                              48.55  \n",
       "PUNT_GEOGRAFIA                                                             49.61  \n",
       "COD_INTERDISCIPLINAR                                                          43  \n",
       "PUNT_INTERDISCIPLINAR                                                      59.77  \n",
       "COD_IDIOMA                                                                    51  \n",
       "PUNT_IDIOMA                                                                30.84  \n",
       "ESTU_IES_COD_DESEADA                                                        1111  \n",
       "ESTU_RAZONINSTITUTO                                                          NaN  \n",
       "ESTU_CARRDESEADA_COD                                                         269  \n",
       "ESTU_CARRDESEADA_RAZON                                                         2  \n",
       "COLE_CALENDARIO                                                                A  \n",
       "COLE_BILINGUE                                                                NaN  \n",
       "COLE_CARACTER                                                          ACADEMICO  \n",
       "COLE_DEPTO_UBICACION                                                   RISARALDA  \n",
       "COLE_MCPIO_UBICACION                                                     PEREIRA  \n",
       "ESTU_TIPO_DOCUMENTO                                                            T  \n",
       "ESTU_RESIDE_DEPTO                                                      RISARALDA  \n",
       "ESTU_RESIDE_MCPIO                                                        PEREIRA  "
      ]
     },
     "execution_count": 120,
     "metadata": {},
     "output_type": "execute_result"
    }
   ],
   "source": [
    "data_2004_2.head(3).T"
   ]
  },
  {
   "cell_type": "markdown",
   "metadata": {},
   "source": [
    "The first is delete the columns that won't contribute with the work"
   ]
  },
  {
   "cell_type": "code",
   "execution_count": 121,
   "metadata": {
    "collapsed": false
   },
   "outputs": [],
   "source": [
    "data_2004_2 = data_2004_2.drop(['ESTU_CONSECUTIVO', 'COLE_NOMBRE_SEDE', 'ESTU_TIPO_DOCUMENTO'], axis=1)"
   ]
  },
  {
   "cell_type": "code",
   "execution_count": 122,
   "metadata": {
    "collapsed": false,
    "scrolled": true
   },
   "outputs": [
    {
     "name": "stdout",
     "output_type": "stream",
     "text": [
      "Float64Index([    18.0,     59.0,     75.0,     83.0,     91.0,    125.0,\n",
      "                 141.0,    174.0,    190.0,    208.0,\n",
      "              ...\n",
      "              117630.0, 117648.0, 117655.0, 117705.0, 117721.0, 117739.0,\n",
      "              117747.0, 117754.0, 117762.0, 117820.0],\n",
      "             dtype='float64', length=7610)\n",
      "18.0          11\n",
      "59.0        1259\n",
      "75.0          54\n",
      "83.0          37\n",
      "91.0         113\n",
      "125.0         71\n",
      "141.0        108\n",
      "174.0        113\n",
      "190.0         88\n",
      "208.0         97\n",
      "216.0         30\n",
      "232.0         30\n",
      "240.0        117\n",
      "257.0         68\n",
      "265.0        144\n",
      "273.0         73\n",
      "281.0         79\n",
      "315.0        167\n",
      "349.0         22\n",
      "356.0         29\n",
      "364.0         44\n",
      "372.0         62\n",
      "380.0        204\n",
      "398.0         31\n",
      "406.0         53\n",
      "422.0         27\n",
      "430.0         80\n",
      "448.0         26\n",
      "455.0         87\n",
      "463.0        130\n",
      "            ... \n",
      "117366.0       4\n",
      "117382.0      35\n",
      "117390.0      17\n",
      "117432.0      45\n",
      "117465.0      27\n",
      "117473.0      18\n",
      "117481.0      49\n",
      "117499.0      51\n",
      "117507.0       9\n",
      "117515.0      11\n",
      "117523.0       9\n",
      "117549.0       8\n",
      "117556.0       8\n",
      "117564.0      30\n",
      "117572.0      18\n",
      "117580.0      19\n",
      "117598.0      29\n",
      "117606.0       3\n",
      "117614.0      17\n",
      "117622.0       6\n",
      "117630.0       3\n",
      "117648.0      18\n",
      "117655.0      11\n",
      "117705.0      11\n",
      "117721.0      11\n",
      "117739.0      19\n",
      "117747.0      32\n",
      "117754.0      55\n",
      "117762.0      27\n",
      "117820.0      26\n",
      "Name: COLE_COD_ICFES, dtype: int64\n",
      "Elementos null/NaN 213\n",
      "__________________\n",
      "Elementos diferentes de null/NaN: 366336\n",
      "__________________\n",
      "(366336,)\n",
      "None\n"
     ]
    }
   ],
   "source": [
    "print(data_2004_2['COLE_COD_ICFES'].value_counts().sort_index().index)\n",
    "print(data_2004_2['COLE_COD_ICFES'].value_counts().sort_index())\n",
    "print(missing_data(data_2004_2['COLE_COD_ICFES']))"
   ]
  },
  {
   "cell_type": "code",
   "execution_count": 123,
   "metadata": {
    "collapsed": false,
    "scrolled": true
   },
   "outputs": [
    {
     "name": "stdout",
     "output_type": "stream",
     "text": [
      "cant null antes: 213\n",
      "cant null despues: 0\n"
     ]
    }
   ],
   "source": [
    "Do_resamples(data_2004_2, 'COLE_COD_ICFES', float)"
   ]
  },
  {
   "cell_type": "code",
   "execution_count": 124,
   "metadata": {
    "collapsed": false,
    "scrolled": true
   },
   "outputs": [
    {
     "name": "stdout",
     "output_type": "stream",
     "text": [
      "Float64Index([1950.0, 1951.0, 1952.0, 1953.0, 1954.0, 1955.0, 1956.0, 1957.0,\n",
      "              1958.0, 1959.0, 1960.0, 1961.0, 1962.0, 1963.0, 1964.0, 1965.0,\n",
      "              1966.0, 1968.0, 1969.0, 1970.0, 1971.0, 1972.0, 1973.0, 1974.0,\n",
      "              1975.0, 1976.0, 1977.0, 1978.0, 1979.0, 1980.0, 1981.0, 1982.0,\n",
      "              1983.0, 1984.0, 1985.0, 1986.0, 1987.0, 1988.0, 1989.0, 1990.0,\n",
      "              1991.0, 1992.0, 1993.0, 1994.0, 1995.0, 1996.0, 1997.0, 1998.0,\n",
      "              1999.0, 2000.0, 2001.0, 2002.0, 2003.0, 2004.0],\n",
      "             dtype='float64')\n",
      "1950.0        72\n",
      "1951.0         7\n",
      "1952.0         2\n",
      "1953.0         2\n",
      "1954.0         4\n",
      "1955.0         3\n",
      "1956.0         2\n",
      "1957.0         5\n",
      "1958.0         3\n",
      "1959.0         1\n",
      "1960.0         6\n",
      "1961.0         7\n",
      "1962.0         2\n",
      "1963.0         2\n",
      "1964.0         7\n",
      "1965.0         9\n",
      "1966.0         7\n",
      "1968.0         6\n",
      "1969.0         3\n",
      "1970.0         7\n",
      "1971.0         9\n",
      "1972.0        13\n",
      "1973.0         5\n",
      "1974.0        24\n",
      "1975.0        31\n",
      "1976.0        10\n",
      "1977.0        18\n",
      "1978.0        16\n",
      "1979.0        25\n",
      "1980.0        26\n",
      "1981.0        23\n",
      "1982.0        38\n",
      "1983.0        27\n",
      "1984.0        82\n",
      "1985.0        55\n",
      "1986.0        62\n",
      "1987.0        71\n",
      "1988.0        86\n",
      "1989.0        84\n",
      "1990.0        91\n",
      "1991.0       135\n",
      "1992.0       162\n",
      "1993.0       188\n",
      "1994.0       358\n",
      "1995.0       300\n",
      "1996.0       396\n",
      "1997.0       529\n",
      "1998.0       793\n",
      "1999.0       985\n",
      "2000.0      1596\n",
      "2001.0      2067\n",
      "2002.0      2203\n",
      "2003.0      1923\n",
      "2004.0    352557\n",
      "Name: IND_ANNO_TERMINO_BACHILLERATO, dtype: int64\n",
      "Elementos null/NaN 1404\n",
      "__________________\n",
      "Elementos diferentes de null/NaN: 365145\n",
      "__________________\n",
      "(365145,)\n",
      "None\n"
     ]
    }
   ],
   "source": [
    "print(data_2004_2['IND_ANNO_TERMINO_BACHILLERATO'].value_counts().sort_index().index)\n",
    "print(data_2004_2['IND_ANNO_TERMINO_BACHILLERATO'].value_counts().sort_index())\n",
    "print(missing_data(data_2004_2['IND_ANNO_TERMINO_BACHILLERATO']))"
   ]
  },
  {
   "cell_type": "code",
   "execution_count": 125,
   "metadata": {
    "collapsed": false
   },
   "outputs": [
    {
     "name": "stdout",
     "output_type": "stream",
     "text": [
      "cant null antes: 1404\n",
      "cant null despues: 0\n"
     ]
    }
   ],
   "source": [
    "Do_resamples(data_2004_2, 'IND_ANNO_TERMINO_BACHILLERATO', float)"
   ]
  },
  {
   "cell_type": "code",
   "execution_count": 126,
   "metadata": {
    "collapsed": false
   },
   "outputs": [
    {
     "name": "stdout",
     "output_type": "stream",
     "text": [
      "Index(['C', 'M', 'N', 'S', 'T'], dtype='object')\n",
      "C     88005\n",
      "M    164662\n",
      "N     28232\n",
      "S      2987\n",
      "T     82444\n",
      "Name: COLE_JORNADA, dtype: int64\n",
      "Elementos null/NaN 219\n",
      "__________________\n",
      "Elementos diferentes de null/NaN: 366330\n",
      "__________________\n",
      "(366330,)\n",
      "None\n"
     ]
    }
   ],
   "source": [
    "print(data_2004_2['COLE_JORNADA'].value_counts().sort_index().index)\n",
    "print(data_2004_2['COLE_JORNADA'].value_counts().sort_index())\n",
    "print(missing_data(data_2004_2['COLE_JORNADA']))"
   ]
  },
  {
   "cell_type": "code",
   "execution_count": 127,
   "metadata": {
    "collapsed": false
   },
   "outputs": [
    {
     "name": "stdout",
     "output_type": "stream",
     "text": [
      "cant null antes: 219\n",
      "cant null despues: 0\n"
     ]
    }
   ],
   "source": [
    "Do_resamples(data_2004_2, 'COLE_JORNADA', str)"
   ]
  },
  {
   "cell_type": "code",
   "execution_count": 128,
   "metadata": {
    "collapsed": false
   },
   "outputs": [
    {
     "name": "stdout",
     "output_type": "stream",
     "text": [
      "Float64Index([0.0, 1.0, 2.0, 3.0, 4.0, 5.0, 6.0, 7.0], dtype='float64')\n",
      "0.0    169810\n",
      "1.0    107221\n",
      "2.0     17367\n",
      "3.0     14735\n",
      "4.0     17576\n",
      "5.0     17974\n",
      "6.0     14593\n",
      "7.0      5869\n",
      "Name: COLE_VALOR_PENSION, dtype: int64\n",
      "Elementos null/NaN 1404\n",
      "__________________\n",
      "Elementos diferentes de null/NaN: 365145\n",
      "__________________\n",
      "(365145,)\n",
      "None\n"
     ]
    }
   ],
   "source": [
    "print(data_2004_2['COLE_VALOR_PENSION'].value_counts().sort_index().index)\n",
    "print(data_2004_2['COLE_VALOR_PENSION'].value_counts().sort_index())\n",
    "print(missing_data(data_2004_2['COLE_VALOR_PENSION']))"
   ]
  },
  {
   "cell_type": "code",
   "execution_count": 129,
   "metadata": {
    "collapsed": false
   },
   "outputs": [
    {
     "name": "stdout",
     "output_type": "stream",
     "text": [
      "cant null antes: 1404\n",
      "cant null despues: 0\n"
     ]
    }
   ],
   "source": [
    "Do_resamples(data_2004_2, 'COLE_VALOR_PENSION', float)"
   ]
  },
  {
   "cell_type": "code",
   "execution_count": 130,
   "metadata": {
    "collapsed": false
   },
   "outputs": [
    {
     "name": "stdout",
     "output_type": "stream",
     "text": [
      "Index(['F', 'M'], dtype='object')\n",
      "F    198164\n",
      "M    168384\n",
      "Name: ESTU_GENERO, dtype: int64\n",
      "Elementos null/NaN 1\n",
      "__________________\n",
      "Elementos diferentes de null/NaN: 366548\n",
      "__________________\n",
      "(366548,)\n",
      "None\n"
     ]
    }
   ],
   "source": [
    "print(data_2004_2['ESTU_GENERO'].value_counts().sort_index().index)\n",
    "print(data_2004_2['ESTU_GENERO'].value_counts().sort_index())\n",
    "print(missing_data(data_2004_2['ESTU_GENERO']))"
   ]
  },
  {
   "cell_type": "code",
   "execution_count": 131,
   "metadata": {
    "collapsed": false
   },
   "outputs": [],
   "source": [
    "data_2004_2['ESTU_GENERO'].fillna(method='bfill', inplace=True)"
   ]
  },
  {
   "cell_type": "code",
   "execution_count": 132,
   "metadata": {
    "collapsed": false,
    "scrolled": true
   },
   "outputs": [
    {
     "name": "stdout",
     "output_type": "stream",
     "text": [
      "Float64Index([ 1.0,  2.0,  3.0,  4.0,  5.0,  6.0,  7.0,  8.0,  9.0, 10.0, 11.0,\n",
      "              12.0, 13.0, 14.0, 15.0, 16.0, 17.0, 18.0, 19.0, 20.0, 21.0, 22.0,\n",
      "              23.0, 24.0, 25.0, 26.0, 27.0, 28.0, 29.0, 30.0, 31.0],\n",
      "             dtype='float64')\n",
      "1.0     12152\n",
      "2.0     12086\n",
      "3.0     12011\n",
      "4.0     11913\n",
      "5.0     12117\n",
      "6.0     12038\n",
      "7.0     12149\n",
      "8.0     12057\n",
      "9.0     11878\n",
      "10.0    12495\n",
      "11.0    11881\n",
      "12.0    11948\n",
      "13.0    11700\n",
      "14.0    12009\n",
      "15.0    12273\n",
      "16.0    12075\n",
      "17.0    11986\n",
      "18.0    12040\n",
      "19.0    11775\n",
      "20.0    12391\n",
      "21.0    11461\n",
      "22.0    11883\n",
      "23.0    11997\n",
      "24.0    11874\n",
      "25.0    12151\n",
      "26.0    12016\n",
      "27.0    12028\n",
      "28.0    12127\n",
      "29.0    11074\n",
      "30.0    10885\n",
      "31.0     6678\n",
      "Name: ESTU_NACIMIENTO_DIA, dtype: int64\n",
      "Elementos null/NaN 1401\n",
      "__________________\n",
      "Elementos diferentes de null/NaN: 365148\n",
      "__________________\n",
      "(365148,)\n",
      "None\n"
     ]
    }
   ],
   "source": [
    "print(data_2004_2['ESTU_NACIMIENTO_DIA'].value_counts().sort_index().index)\n",
    "print(data_2004_2['ESTU_NACIMIENTO_DIA'].value_counts().sort_index())\n",
    "print(missing_data(data_2004_2['ESTU_NACIMIENTO_DIA']))"
   ]
  },
  {
   "cell_type": "code",
   "execution_count": 133,
   "metadata": {
    "collapsed": false
   },
   "outputs": [
    {
     "name": "stdout",
     "output_type": "stream",
     "text": [
      "Float64Index([1.0, 2.0, 3.0, 4.0, 5.0, 6.0, 7.0, 8.0, 9.0, 10.0, 11.0, 12.0], dtype='float64')\n",
      "1.0     29602\n",
      "2.0     27372\n",
      "3.0     30068\n",
      "4.0     29387\n",
      "5.0     30625\n",
      "6.0     29493\n",
      "7.0     30718\n",
      "8.0     30675\n",
      "9.0     32731\n",
      "10.0    32356\n",
      "11.0    31066\n",
      "12.0    31055\n",
      "Name: ESTU_NACIMIENTO_MES, dtype: int64\n",
      "Elementos null/NaN 1401\n",
      "__________________\n",
      "Elementos diferentes de null/NaN: 365148\n",
      "__________________\n",
      "(365148,)\n",
      "None\n"
     ]
    }
   ],
   "source": [
    "print(data_2004_2['ESTU_NACIMIENTO_MES'].value_counts().sort_index().index)\n",
    "print(data_2004_2['ESTU_NACIMIENTO_MES'].value_counts().sort_index())\n",
    "print(missing_data(data_2004_2['ESTU_NACIMIENTO_MES']))"
   ]
  },
  {
   "cell_type": "code",
   "execution_count": 134,
   "metadata": {
    "collapsed": false,
    "scrolled": true
   },
   "outputs": [
    {
     "name": "stdout",
     "output_type": "stream",
     "text": [
      "Float64Index([1940.0, 1941.0, 1946.0, 1947.0, 1948.0, 1949.0, 1950.0, 1951.0,\n",
      "              1952.0, 1953.0, 1954.0, 1955.0, 1956.0, 1957.0, 1958.0, 1959.0,\n",
      "              1960.0, 1961.0, 1962.0, 1963.0, 1964.0, 1965.0, 1966.0, 1967.0,\n",
      "              1968.0, 1969.0, 1970.0, 1971.0, 1972.0, 1973.0, 1974.0, 1975.0,\n",
      "              1976.0, 1977.0, 1978.0, 1979.0, 1980.0, 1981.0, 1982.0, 1983.0,\n",
      "              1984.0, 1985.0, 1986.0, 1987.0, 1988.0, 1989.0, 1990.0, 1991.0,\n",
      "              1992.0, 1993.0, 1994.0, 2040.0, 2041.0, 2042.0, 2043.0, 2044.0,\n",
      "              2045.0, 2046.0, 2047.0, 2048.0, 2049.0],\n",
      "             dtype='float64')\n",
      "1940.0         1\n",
      "1941.0         1\n",
      "1946.0         1\n",
      "1947.0         1\n",
      "1948.0         1\n",
      "1949.0         1\n",
      "1950.0        19\n",
      "1951.0        23\n",
      "1952.0        31\n",
      "1953.0        54\n",
      "1954.0        46\n",
      "1955.0        73\n",
      "1956.0        75\n",
      "1957.0        85\n",
      "1958.0       109\n",
      "1959.0       108\n",
      "1960.0       140\n",
      "1961.0       154\n",
      "1962.0       193\n",
      "1963.0       246\n",
      "1964.0       293\n",
      "1965.0       482\n",
      "1966.0       635\n",
      "1967.0       850\n",
      "1968.0       646\n",
      "1969.0       435\n",
      "1970.0       502\n",
      "1971.0       472\n",
      "1972.0       505\n",
      "1973.0       550\n",
      "           ...  \n",
      "1975.0       679\n",
      "1976.0       772\n",
      "1977.0       814\n",
      "1978.0      1026\n",
      "1979.0      1252\n",
      "1980.0      1724\n",
      "1981.0      2329\n",
      "1982.0      3746\n",
      "1983.0      6500\n",
      "1984.0     15520\n",
      "1985.0     35938\n",
      "1986.0     71175\n",
      "1987.0    123407\n",
      "1988.0     80561\n",
      "1989.0      8244\n",
      "1990.0      1120\n",
      "1991.0       706\n",
      "1992.0       504\n",
      "1993.0       359\n",
      "1994.0      1266\n",
      "2040.0        18\n",
      "2041.0         2\n",
      "2042.0         6\n",
      "2043.0         1\n",
      "2044.0         6\n",
      "2045.0        15\n",
      "2046.0        18\n",
      "2047.0        13\n",
      "2048.0        19\n",
      "2049.0        24\n",
      "Name: ESTU_NACIMIENTO_ANNO, dtype: int64\n",
      "Elementos null/NaN 1401\n",
      "__________________\n",
      "Elementos diferentes de null/NaN: 365148\n",
      "__________________\n",
      "(365148,)\n",
      "None\n"
     ]
    }
   ],
   "source": [
    "print(data_2004_2['ESTU_NACIMIENTO_ANNO'].value_counts().sort_index().index)\n",
    "print(data_2004_2['ESTU_NACIMIENTO_ANNO'].value_counts().sort_index())\n",
    "print(missing_data(data_2004_2['ESTU_NACIMIENTO_ANNO']))"
   ]
  },
  {
   "cell_type": "code",
   "execution_count": 135,
   "metadata": {
    "collapsed": true
   },
   "outputs": [],
   "source": [
    "for i in data_2004_2['ESTU_NACIMIENTO_ANNO'].value_counts().sort_index().index:\n",
    "    if i > 1994:\n",
    "        data_2004_2['ESTU_NACIMIENTO_ANNO'] = data_2004_2['ESTU_NACIMIENTO_ANNO'].replace(i, np.nan)"
   ]
  },
  {
   "cell_type": "code",
   "execution_count": 136,
   "metadata": {
    "collapsed": true
   },
   "outputs": [],
   "source": [
    "data_2004_2 = data_2004_2.drop(anno)"
   ]
  },
  {
   "cell_type": "code",
   "execution_count": 137,
   "metadata": {
    "collapsed": false,
    "scrolled": true
   },
   "outputs": [
    {
     "name": "stdout",
     "output_type": "stream",
     "text": [
      "Index(['AMAZONAS', 'ANTIOQUIA', 'ARAUCA', 'ATLANTICO', 'BOGOTA', 'BOLIVAR',\n",
      "       'BOYACA', 'CALDAS', 'CAQUETA', 'CASANARE', 'CAUCA', 'CESAR', 'CHOCO',\n",
      "       'CORDOBA', 'CUNDINAMARCA', 'GUAINIA', 'GUAVIARE', 'HUILA', 'LA GUAJIRA',\n",
      "       'MAGDALENA', 'META', 'NARIÑO', 'NORTE SANTANDER', 'PUTUMAYO', 'QUINDIO',\n",
      "       'RISARALDA', 'SAN ANDRES', 'SANTANDER', 'SUCRE', 'TOLIMA', 'VALLE',\n",
      "       'VAUPES', 'VICHADA'],\n",
      "      dtype='object')\n",
      "AMAZONAS             631\n",
      "ANTIOQUIA          52684\n",
      "ARAUCA              1749\n",
      "ATLANTICO          24386\n",
      "BOGOTA             77485\n",
      "BOLIVAR            17882\n",
      "BOYACA             14566\n",
      "CALDAS             10263\n",
      "CAQUETA             2362\n",
      "CASANARE            2588\n",
      "CAUCA               7181\n",
      "CESAR               7649\n",
      "CHOCO               3505\n",
      "CORDOBA            12757\n",
      "CUNDINAMARCA       23071\n",
      "GUAINIA               97\n",
      "GUAVIARE             468\n",
      "HUILA               8514\n",
      "LA GUAJIRA          4564\n",
      "MAGDALENA           9947\n",
      "META                6887\n",
      "NARIÑO               511\n",
      "NORTE SANTANDER    12169\n",
      "PUTUMAYO            1716\n",
      "QUINDIO             5308\n",
      "RISARALDA           8254\n",
      "SAN ANDRES           698\n",
      "SANTANDER          21409\n",
      "SUCRE               7642\n",
      "TOLIMA             12664\n",
      "VALLE               2483\n",
      "VAUPES               110\n",
      "VICHADA              299\n",
      "Name: ESTU_DEPTO_PRESENTACION, dtype: int64\n",
      "Elementos null/NaN 1\n",
      "__________________\n",
      "Elementos diferentes de null/NaN: 362499\n",
      "__________________\n",
      "(362499,)\n",
      "None\n"
     ]
    }
   ],
   "source": [
    "print(data_2004_2['ESTU_DEPTO_PRESENTACION'].value_counts().sort_index().index)\n",
    "print(data_2004_2['ESTU_DEPTO_PRESENTACION'].value_counts().sort_index())\n",
    "print(missing_data(data_2004_2['ESTU_DEPTO_PRESENTACION']))"
   ]
  },
  {
   "cell_type": "code",
   "execution_count": 138,
   "metadata": {
    "collapsed": false,
    "scrolled": true
   },
   "outputs": [
    {
     "name": "stdout",
     "output_type": "stream",
     "text": [
      "Index(['ABEJORRAL', 'ABREGO', 'ACACIAS', 'ACANDI', 'ACHI', 'AGUACHICA',\n",
      "       'AGUADAS', 'AGUAZUL', 'AGUSTIN CODAZZI', 'AIPE',\n",
      "       ...\n",
      "       'VILLAVICENCIO', 'VILLETA', 'VIOTA', 'YARUMAL', 'YAVARATE', 'YOLOMBO',\n",
      "       'YOPAL', 'ZAPATOCA', 'ZARAGOZA', 'ZIPAQUIRA'],\n",
      "      dtype='object', length=343)\n",
      "ABEJORRAL                     96\n",
      "ABREGO                        85\n",
      "ACACIAS                      692\n",
      "ACANDI                        38\n",
      "ACHI                         115\n",
      "AGUACHICA                    995\n",
      "AGUADAS                      259\n",
      "AGUAZUL                      311\n",
      "AGUSTIN CODAZZI              385\n",
      "AIPE                         134\n",
      "ALTO BAUDO (PIE DE PATO)      28\n",
      "AMAGA                        524\n",
      "AMALFI                       246\n",
      "ANDES                        448\n",
      "ANOLAIMA                     167\n",
      "ANSERMA                      484\n",
      "ANTIOQUIA                    596\n",
      "APARTADO                    1270\n",
      "ARACATACA                    265\n",
      "ARAUCA                       737\n",
      "ARAUQUITA                    165\n",
      "ARBELAEZ                     193\n",
      "ARBOLEDAS                     33\n",
      "ARBOLETES                    340\n",
      "ARIGUANI (EL DIFICIL)        292\n",
      "ARJONA                       581\n",
      "ARMENIA                     3606\n",
      "ASTREA                       118\n",
      "ATRATO (YUTO)                 33\n",
      "AYAPEL                       286\n",
      "                            ... \n",
      "TULUA                        204\n",
      "TUMACO                       100\n",
      "TUNJA                       3575\n",
      "TURBACO                      719\n",
      "TURBO                        906\n",
      "TURMEQUE                     221\n",
      "TUTA                         123\n",
      "UBATE                        970\n",
      "UNGUIA                        67\n",
      "URRAO                        325\n",
      "VALLEDUPAR                  4493\n",
      "VELEZ                        410\n",
      "VENADILLO                    196\n",
      "VENTAQUEMADA                 143\n",
      "VIGIA DEL FUERTE              36\n",
      "VILLA DE LEYVA               262\n",
      "VILLA DEL ROSARIO            574\n",
      "VILLAGARZON                   91\n",
      "VILLAMARIA                   238\n",
      "VILLANUEVA                   630\n",
      "VILLAVICENCIO               4875\n",
      "VILLETA                      662\n",
      "VIOTA                         60\n",
      "YARUMAL                      633\n",
      "YAVARATE                       1\n",
      "YOLOMBO                      167\n",
      "YOPAL                       1212\n",
      "ZAPATOCA                     146\n",
      "ZARAGOZA                     153\n",
      "ZIPAQUIRA                   1886\n",
      "Name: ESTU_MCPIO_PRESENTACION, dtype: int64\n",
      "Elementos null/NaN 1\n",
      "__________________\n",
      "Elementos diferentes de null/NaN: 362499\n",
      "__________________\n",
      "(362499,)\n",
      "None\n"
     ]
    }
   ],
   "source": [
    "print(data_2004_2['ESTU_MCPIO_PRESENTACION'].value_counts().sort_index().index)\n",
    "print(data_2004_2['ESTU_MCPIO_PRESENTACION'].value_counts().sort_index())\n",
    "print(missing_data(data_2004_2['ESTU_MCPIO_PRESENTACION']))"
   ]
  },
  {
   "cell_type": "code",
   "execution_count": 139,
   "metadata": {
    "collapsed": false
   },
   "outputs": [],
   "source": [
    "dpto = data_2004_2[data_2004_2['ESTU_DEPTO_PRESENTACION'].isnull()].index\n",
    "mpio = data_2004_2[data_2004_2['ESTU_MCPIO_PRESENTACION'].isnull()].index"
   ]
  },
  {
   "cell_type": "code",
   "execution_count": 140,
   "metadata": {
    "collapsed": true
   },
   "outputs": [],
   "source": [
    "data_2004_2 = data_2004_2.drop(mpio)"
   ]
  },
  {
   "cell_type": "code",
   "execution_count": 141,
   "metadata": {
    "collapsed": false
   },
   "outputs": [
    {
     "name": "stdout",
     "output_type": "stream",
     "text": [
      "Index(['I'], dtype='object')\n",
      "I    53\n",
      "Name: ESTU_LIMITA_INVIDENTE, dtype: int64\n",
      "Elementos null/NaN 362446\n",
      "__________________\n",
      "Elementos diferentes de null/NaN: 53\n",
      "__________________\n",
      "(53,)\n",
      "None\n"
     ]
    }
   ],
   "source": [
    "print(data_2004_2['ESTU_LIMITA_INVIDENTE'].value_counts().sort_index().index)\n",
    "print(data_2004_2['ESTU_LIMITA_INVIDENTE'].value_counts().sort_index())\n",
    "print(missing_data(data_2004_2['ESTU_LIMITA_INVIDENTE']))"
   ]
  },
  {
   "cell_type": "code",
   "execution_count": 142,
   "metadata": {
    "collapsed": true
   },
   "outputs": [],
   "source": [
    "data_2004_2 = data_2004_2.drop(['ESTU_LIMITA_INVIDENTE'], axis=1)"
   ]
  },
  {
   "cell_type": "code",
   "execution_count": 143,
   "metadata": {
    "collapsed": false
   },
   "outputs": [
    {
     "name": "stdout",
     "output_type": "stream",
     "text": [
      "Index(['R'], dtype='object')\n",
      "R    131\n",
      "Name: ESTU_LIMITA_SORDOINTERPRETE, dtype: int64\n",
      "Elementos null/NaN 362368\n",
      "__________________\n",
      "Elementos diferentes de null/NaN: 131\n",
      "__________________\n",
      "(131,)\n",
      "None\n"
     ]
    }
   ],
   "source": [
    "print(data_2004_2['ESTU_LIMITA_SORDOINTERPRETE'].value_counts().sort_index().index)\n",
    "print(data_2004_2['ESTU_LIMITA_SORDOINTERPRETE'].value_counts().sort_index())\n",
    "print(missing_data(data_2004_2['ESTU_LIMITA_SORDOINTERPRETE']))"
   ]
  },
  {
   "cell_type": "code",
   "execution_count": 144,
   "metadata": {
    "collapsed": true
   },
   "outputs": [],
   "source": [
    "data_2004_2 = data_2004_2.drop(['ESTU_LIMITA_SORDOINTERPRETE'], axis=1)"
   ]
  },
  {
   "cell_type": "code",
   "execution_count": 145,
   "metadata": {
    "collapsed": false
   },
   "outputs": [
    {
     "name": "stdout",
     "output_type": "stream",
     "text": [
      "Index(['S'], dtype='object')\n",
      "S    24\n",
      "Name: ESTU_LIMITA_SORDONOINTERPRETE, dtype: int64\n",
      "Elementos null/NaN 362475\n",
      "__________________\n",
      "Elementos diferentes de null/NaN: 24\n",
      "__________________\n",
      "(24,)\n",
      "None\n"
     ]
    }
   ],
   "source": [
    "print(data_2004_2['ESTU_LIMITA_SORDONOINTERPRETE'].value_counts().sort_index().index)\n",
    "print(data_2004_2['ESTU_LIMITA_SORDONOINTERPRETE'].value_counts().sort_index())\n",
    "print(missing_data(data_2004_2['ESTU_LIMITA_SORDONOINTERPRETE']))"
   ]
  },
  {
   "cell_type": "code",
   "execution_count": 146,
   "metadata": {
    "collapsed": true
   },
   "outputs": [],
   "source": [
    "data_2004_2 = data_2004_2.drop(['ESTU_LIMITA_SORDONOINTERPRETE'], axis=1)"
   ]
  },
  {
   "cell_type": "code",
   "execution_count": 147,
   "metadata": {
    "collapsed": false
   },
   "outputs": [
    {
     "name": "stdout",
     "output_type": "stream",
     "text": [
      "Index(['M'], dtype='object')\n",
      "M    102\n",
      "Name: ESTU_LIMITA_MOTRIZ, dtype: int64\n",
      "Elementos null/NaN 362397\n",
      "__________________\n",
      "Elementos diferentes de null/NaN: 102\n",
      "__________________\n",
      "(102,)\n",
      "None\n"
     ]
    }
   ],
   "source": [
    "print(data_2004_2['ESTU_LIMITA_MOTRIZ'].value_counts().sort_index().index)\n",
    "print(data_2004_2['ESTU_LIMITA_MOTRIZ'].value_counts().sort_index())\n",
    "print(missing_data(data_2004_2['ESTU_LIMITA_MOTRIZ']))"
   ]
  },
  {
   "cell_type": "code",
   "execution_count": 148,
   "metadata": {
    "collapsed": true
   },
   "outputs": [],
   "source": [
    "data_2004_2 = data_2004_2.drop(['ESTU_LIMITA_MOTRIZ'], axis=1)"
   ]
  },
  {
   "cell_type": "code",
   "execution_count": 149,
   "metadata": {
    "collapsed": false,
    "scrolled": true
   },
   "outputs": [
    {
     "name": "stdout",
     "output_type": "stream",
     "text": [
      "Index([1101.0, 1201.0, 1204.0, '1201', 1205.0, 1202.0, 9110.0, '1101', 2106.0,\n",
      "       1113.0,\n",
      "       ...\n",
      "       '2746', '1730', '2715', '4109', 'YYYY', '4106', '2730', '3715', '2744',\n",
      "       '2836'],\n",
      "      dtype='object', length=651)\n",
      "1101.0    49174\n",
      "1201.0    26892\n",
      "1204.0    10708\n",
      "1201       7745\n",
      "1205.0     7265\n",
      "1202.0     7079\n",
      "9110.0     6715\n",
      "1101       6529\n",
      "2106.0     6160\n",
      "1113.0     4813\n",
      "1301.0     4774\n",
      "1213.0     4729\n",
      "1207.0     4379\n",
      "9104.0     4052\n",
      "1106.0     3964\n",
      "1110.0     3902\n",
      "1701.0     3861\n",
      "1114.0     3836\n",
      "1112.0     3668\n",
      "1111.0     3542\n",
      "1105.0     3336\n",
      "1212.0     3299\n",
      "2905.0     3162\n",
      "1804.0     2939\n",
      "1209.0     2847\n",
      "1203.0     2653\n",
      "1813.0     2404\n",
      "1102.0     2358\n",
      "1120.0     2296\n",
      "1824.0     2242\n",
      "          ...  \n",
      "4723          3\n",
      "3724          3\n",
      "4107          3\n",
      "2716          3\n",
      "9115          3\n",
      "2732          3\n",
      "4705          3\n",
      "2822.0        2\n",
      "3723          2\n",
      "2903          2\n",
      "2849          2\n",
      "4726          2\n",
      "3832          2\n",
      "4101          2\n",
      "3831          2\n",
      "2822          2\n",
      "4704          2\n",
      "2904          2\n",
      "2841          2\n",
      "3706          2\n",
      "2746          2\n",
      "1730          1\n",
      "2715          1\n",
      "4109          1\n",
      "YYYY          1\n",
      "4106          1\n",
      "2730          1\n",
      "3715          1\n",
      "2744          1\n",
      "2836          1\n",
      "Name: ESTU_IES_COD_DESEADA, dtype: int64\n",
      "Elementos null/NaN 40112\n",
      "__________________\n",
      "Elementos diferentes de null/NaN: 322387\n",
      "__________________\n",
      "(322387,)\n",
      "None\n"
     ]
    }
   ],
   "source": [
    "print(data_2004_2['ESTU_IES_COD_DESEADA'].value_counts().index)\n",
    "print(data_2004_2['ESTU_IES_COD_DESEADA'].value_counts())\n",
    "print(missing_data(data_2004_2['ESTU_IES_COD_DESEADA']))"
   ]
  },
  {
   "cell_type": "code",
   "execution_count": 150,
   "metadata": {
    "collapsed": true
   },
   "outputs": [],
   "source": [
    "data_2004_2['ESTU_IES_COD_DESEADA'] = data_2004_2['ESTU_IES_COD_DESEADA'].replace('YYYY', np.nan)\n",
    "data_2004_2['ESTU_IES_COD_DESEADA'] = data_2004_2['ESTU_IES_COD_DESEADA'].replace('ZZZZ', np.nan)\n",
    "for i in data_2004_2['ESTU_IES_COD_DESEADA'].value_counts().index:\n",
    "    if type(i) == str:\n",
    "        data_2004_2['ESTU_IES_COD_DESEADA'] = data_2004_2['ESTU_IES_COD_DESEADA'].replace(i, float(i))"
   ]
  },
  {
   "cell_type": "code",
   "execution_count": 151,
   "metadata": {
    "collapsed": false
   },
   "outputs": [
    {
     "name": "stdout",
     "output_type": "stream",
     "text": [
      "cant null antes: 40117\n",
      "cant null despues: 2\n",
      "cant null antes: 2\n",
      "cant null despues: 0\n"
     ]
    }
   ],
   "source": [
    "Do_resamples(data_2004_2, 'ESTU_IES_COD_DESEADA', float)"
   ]
  },
  {
   "cell_type": "code",
   "execution_count": 152,
   "metadata": {
    "collapsed": false
   },
   "outputs": [
    {
     "name": "stdout",
     "output_type": "stream",
     "text": [
      "Float64Index([1.0, 2.0, 3.0, 4.0, 5.0, 6.0, 7.0, 8.0], dtype='float64')\n",
      "1.0      6727\n",
      "2.0     42432\n",
      "3.0    128468\n",
      "4.0     30030\n",
      "5.0     26863\n",
      "6.0     18090\n",
      "7.0     21419\n",
      "8.0     19233\n",
      "Name: ESTU_RAZONINSTITUTO, dtype: int64\n",
      "Elementos null/NaN 69237\n",
      "__________________\n",
      "Elementos diferentes de null/NaN: 293262\n",
      "__________________\n",
      "(293262,)\n",
      "None\n"
     ]
    }
   ],
   "source": [
    "print(data_2004_2['ESTU_RAZONINSTITUTO'].value_counts().sort_index().index)\n",
    "print(data_2004_2['ESTU_RAZONINSTITUTO'].value_counts().sort_index())\n",
    "print(missing_data(data_2004_2['ESTU_RAZONINSTITUTO']))"
   ]
  },
  {
   "cell_type": "code",
   "execution_count": 153,
   "metadata": {
    "collapsed": false
   },
   "outputs": [
    {
     "name": "stdout",
     "output_type": "stream",
     "text": [
      "cant null antes: 69237\n",
      "cant null despues: 0\n"
     ]
    }
   ],
   "source": [
    "Do_resamples(data_2004_2, 'ESTU_RAZONINSTITUTO', float)"
   ]
  },
  {
   "cell_type": "code",
   "execution_count": 154,
   "metadata": {
    "collapsed": false,
    "scrolled": true
   },
   "outputs": [
    {
     "name": "stdout",
     "output_type": "stream",
     "text": [
      "Float64Index([    1.0,     2.0,     3.0,     4.0,     5.0,     6.0,     7.0,\n",
      "                  8.0,     9.0,    10.0,\n",
      "              ...\n",
      "              19599.0, 19600.0, 19607.0, 19609.0, 19612.0, 19629.0, 19634.0,\n",
      "              19642.0, 19647.0, 19653.0],\n",
      "             dtype='float64', length=3764)\n",
      "1.0          525\n",
      "2.0         1743\n",
      "3.0          525\n",
      "4.0         2031\n",
      "5.0          765\n",
      "6.0          917\n",
      "7.0         1833\n",
      "8.0          234\n",
      "9.0        10839\n",
      "10.0         209\n",
      "11.0        1474\n",
      "12.0         127\n",
      "13.0         302\n",
      "14.0        3184\n",
      "15.0         522\n",
      "16.0         326\n",
      "17.0        2326\n",
      "18.0         818\n",
      "19.0        2512\n",
      "20.0         409\n",
      "21.0         112\n",
      "22.0         182\n",
      "23.0         740\n",
      "24.0         242\n",
      "25.0        1263\n",
      "26.0        4717\n",
      "27.0         258\n",
      "28.0        1932\n",
      "29.0        1178\n",
      "30.0        1672\n",
      "           ...  \n",
      "19534.0        7\n",
      "19535.0       11\n",
      "19537.0       23\n",
      "19548.0        6\n",
      "19556.0        4\n",
      "19562.0       11\n",
      "19567.0        2\n",
      "19568.0        1\n",
      "19571.0        1\n",
      "19572.0        5\n",
      "19573.0        4\n",
      "19575.0        3\n",
      "19576.0        1\n",
      "19577.0        2\n",
      "19580.0       12\n",
      "19585.0        1\n",
      "19589.0        2\n",
      "19592.0        2\n",
      "19596.0        2\n",
      "19598.0       59\n",
      "19599.0       12\n",
      "19600.0        4\n",
      "19607.0        1\n",
      "19609.0       23\n",
      "19612.0      334\n",
      "19629.0      847\n",
      "19634.0       51\n",
      "19642.0       48\n",
      "19647.0      126\n",
      "19653.0        5\n",
      "Name: ESTU_CARRDESEADA_COD, dtype: int64\n",
      "Elementos null/NaN 47242\n",
      "__________________\n",
      "Elementos diferentes de null/NaN: 315257\n",
      "__________________\n",
      "(315257,)\n",
      "None\n"
     ]
    }
   ],
   "source": [
    "print(data_2004_2['ESTU_CARRDESEADA_COD'].value_counts().sort_index().index)\n",
    "print(data_2004_2['ESTU_CARRDESEADA_COD'].value_counts().sort_index())\n",
    "print(missing_data(data_2004_2['ESTU_CARRDESEADA_COD']))"
   ]
  },
  {
   "cell_type": "code",
   "execution_count": 155,
   "metadata": {
    "collapsed": true
   },
   "outputs": [],
   "source": [
    "data_2004_2['ESTU_CARRDESEADA_COD'].fillna(method='bfill', inplace=True)"
   ]
  },
  {
   "cell_type": "code",
   "execution_count": 156,
   "metadata": {
    "collapsed": false
   },
   "outputs": [
    {
     "name": "stdout",
     "output_type": "stream",
     "text": [
      "Float64Index([1.0, 2.0, 3.0, 4.0, 5.0, 6.0], dtype='float64')\n",
      "1.0    100418\n",
      "2.0    103348\n",
      "3.0     41982\n",
      "4.0     26847\n",
      "5.0     23899\n",
      "6.0      7145\n",
      "Name: ESTU_CARRDESEADA_RAZON, dtype: int64\n",
      "Elementos null/NaN 58860\n",
      "__________________\n",
      "Elementos diferentes de null/NaN: 303639\n",
      "__________________\n",
      "(303639,)\n",
      "None\n"
     ]
    }
   ],
   "source": [
    "print(data_2004_2['ESTU_CARRDESEADA_RAZON'].value_counts().sort_index().index)\n",
    "print(data_2004_2['ESTU_CARRDESEADA_RAZON'].value_counts().sort_index())\n",
    "print(missing_data(data_2004_2['ESTU_CARRDESEADA_RAZON']))"
   ]
  },
  {
   "cell_type": "code",
   "execution_count": 157,
   "metadata": {
    "collapsed": false
   },
   "outputs": [
    {
     "name": "stdout",
     "output_type": "stream",
     "text": [
      "cant null antes: 58860\n",
      "cant null despues: 0\n"
     ]
    }
   ],
   "source": [
    "Do_resamples(data_2004_2, 'ESTU_CARRDESEADA_RAZON', float)"
   ]
  },
  {
   "cell_type": "code",
   "execution_count": 158,
   "metadata": {
    "collapsed": false
   },
   "outputs": [
    {
     "name": "stdout",
     "output_type": "stream",
     "text": [
      "Index(['A', 'B', 'F'], dtype='object')\n",
      "A    335165\n",
      "B       521\n",
      "F     26593\n",
      "Name: COLE_CALENDARIO, dtype: int64\n",
      "Elementos null/NaN 220\n",
      "__________________\n",
      "Elementos diferentes de null/NaN: 362279\n",
      "__________________\n",
      "(362279,)\n",
      "None\n"
     ]
    }
   ],
   "source": [
    "print(data_2004_2['COLE_CALENDARIO'].value_counts().sort_index().index)\n",
    "print(data_2004_2['COLE_CALENDARIO'].value_counts().sort_index())\n",
    "print(missing_data(data_2004_2['COLE_CALENDARIO']))"
   ]
  },
  {
   "cell_type": "code",
   "execution_count": 159,
   "metadata": {
    "collapsed": false
   },
   "outputs": [
    {
     "name": "stdout",
     "output_type": "stream",
     "text": [
      "cant null antes: 220\n",
      "cant null despues: 0\n"
     ]
    }
   ],
   "source": [
    "Do_resamples(data_2004_2, 'COLE_CALENDARIO', str)"
   ]
  },
  {
   "cell_type": "code",
   "execution_count": 160,
   "metadata": {
    "collapsed": false
   },
   "outputs": [
    {
     "name": "stdout",
     "output_type": "stream",
     "text": [
      "Float64Index([1.0, 2.0], dtype='float64')\n",
      "1.0    1639\n",
      "2.0     145\n",
      "Name: COLE_BILINGUE, dtype: int64\n",
      "Elementos null/NaN 360715\n",
      "__________________\n",
      "Elementos diferentes de null/NaN: 1784\n",
      "__________________\n",
      "(1784,)\n",
      "None\n"
     ]
    }
   ],
   "source": [
    "print(data_2004_2['COLE_BILINGUE'].value_counts().sort_index().index)\n",
    "print(data_2004_2['COLE_BILINGUE'].value_counts().sort_index())\n",
    "print(missing_data(data_2004_2['COLE_BILINGUE']))"
   ]
  },
  {
   "cell_type": "code",
   "execution_count": 161,
   "metadata": {
    "collapsed": false
   },
   "outputs": [
    {
     "name": "stdout",
     "output_type": "stream",
     "text": [
      "cant null antes: 360715\n",
      "cant null despues: 0\n"
     ]
    }
   ],
   "source": [
    "Do_resamples(data_2004_2, 'COLE_BILINGUE', float)"
   ]
  },
  {
   "cell_type": "code",
   "execution_count": 162,
   "metadata": {
    "collapsed": false
   },
   "outputs": [
    {
     "name": "stdout",
     "output_type": "stream",
     "text": [
      "Index(['ACADEMICO', 'ACADEMICO Y TECNICO', 'NORMALISTA', 'TECNICO'], dtype='object')\n",
      "ACADEMICO              201715\n",
      "ACADEMICO Y TECNICO     95734\n",
      "NORMALISTA               7094\n",
      "TECNICO                 57736\n",
      "Name: COLE_CARACTER, dtype: int64\n",
      "Elementos null/NaN 220\n",
      "__________________\n",
      "Elementos diferentes de null/NaN: 362279\n",
      "__________________\n",
      "(362279,)\n",
      "None\n"
     ]
    }
   ],
   "source": [
    "print(data_2004_2['COLE_CARACTER'].value_counts().sort_index().index)\n",
    "print(data_2004_2['COLE_CARACTER'].value_counts().sort_index())\n",
    "print(missing_data(data_2004_2['COLE_CARACTER']))"
   ]
  },
  {
   "cell_type": "code",
   "execution_count": 163,
   "metadata": {
    "collapsed": false
   },
   "outputs": [
    {
     "name": "stdout",
     "output_type": "stream",
     "text": [
      "cant null antes: 220\n",
      "cant null despues: 1\n",
      "cant null antes: 1\n",
      "cant null despues: 0\n"
     ]
    }
   ],
   "source": [
    "Do_resamples(data_2004_2, 'COLE_CARACTER', str)"
   ]
  },
  {
   "cell_type": "code",
   "execution_count": 164,
   "metadata": {
    "collapsed": false,
    "scrolled": true
   },
   "outputs": [
    {
     "name": "stdout",
     "output_type": "stream",
     "text": [
      "Index(['AMAZONAS', 'ANTIOQUIA', 'ARAUCA', 'ATLANTICO', 'BOGOTA', 'BOLIVAR',\n",
      "       'BOYACA', 'CALDAS', 'CAQUETA', 'CASANARE', 'CAUCA', 'CESAR', 'CHOCO',\n",
      "       'CORDOBA', 'CUNDINAMARCA', 'GUAINIA', 'GUAVIARE', 'HUILA', 'LA GUAJIRA',\n",
      "       'MAGDALENA', 'META', 'NARIÑO', 'NORTE SANTANDER', 'PUTUMAYO', 'QUINDIO',\n",
      "       'RISARALDA', 'SAN ANDRES', 'SANTANDER', 'SUCRE', 'TOLIMA', 'VALLE',\n",
      "       'VAUPES', 'VICHADA'],\n",
      "      dtype='object')\n",
      "AMAZONAS             631\n",
      "ANTIOQUIA          52802\n",
      "ARAUCA              1704\n",
      "ATLANTICO          23659\n",
      "BOGOTA             76916\n",
      "BOLIVAR            18427\n",
      "BOYACA             14165\n",
      "CALDAS              9911\n",
      "CAQUETA             2371\n",
      "CASANARE            2600\n",
      "CAUCA               7232\n",
      "CESAR               7583\n",
      "CHOCO               3442\n",
      "CORDOBA            12713\n",
      "CUNDINAMARCA       23971\n",
      "GUAINIA               95\n",
      "GUAVIARE             445\n",
      "HUILA               8461\n",
      "LA GUAJIRA          4591\n",
      "MAGDALENA          10197\n",
      "META                6785\n",
      "NARIÑO               506\n",
      "NORTE SANTANDER    12128\n",
      "PUTUMAYO            1707\n",
      "QUINDIO             5248\n",
      "RISARALDA           8259\n",
      "SAN ANDRES           698\n",
      "SANTANDER          21240\n",
      "SUCRE               7748\n",
      "TOLIMA             13153\n",
      "VALLE               2507\n",
      "VAUPES               109\n",
      "VICHADA              275\n",
      "Name: COLE_DEPTO_UBICACION, dtype: int64\n",
      "Elementos null/NaN 220\n",
      "__________________\n",
      "Elementos diferentes de null/NaN: 362279\n",
      "__________________\n",
      "(362279,)\n",
      "None\n"
     ]
    }
   ],
   "source": [
    "print(data_2004_2['COLE_DEPTO_UBICACION'].value_counts().sort_index().index)\n",
    "print(data_2004_2['COLE_DEPTO_UBICACION'].value_counts().sort_index())\n",
    "print(missing_data(data_2004_2['COLE_DEPTO_UBICACION']))"
   ]
  },
  {
   "cell_type": "code",
   "execution_count": 165,
   "metadata": {
    "collapsed": false,
    "scrolled": true
   },
   "outputs": [
    {
     "name": "stdout",
     "output_type": "stream",
     "text": [
      "Index(['ABEJORRAL', 'ABREGO', 'ABRIAQUI', 'ACACIAS', 'ACANDI', 'ACEVEDO',\n",
      "       'ACHI', 'AGRADO', 'AGUA DE DIOS', 'AGUACHICA',\n",
      "       ...\n",
      "       'YOPAL', 'YUMBO', 'ZAMBRANO', 'ZAPATOCA', 'ZAPAYAN', 'ZARAGOZA',\n",
      "       'ZETAQUIRA', 'ZIPACON', 'ZIPAQUIRA', 'ZONA BANANERA'],\n",
      "      dtype='object', length=941)\n",
      "ABEJORRAL                     82\n",
      "ABREGO                        65\n",
      "ABRIAQUI                      17\n",
      "ACACIAS                      562\n",
      "ACANDI                        38\n",
      "ACEVEDO                       64\n",
      "ACHI                          97\n",
      "AGRADO                        47\n",
      "AGUA DE DIOS                 117\n",
      "AGUACHICA                    675\n",
      "AGUADA                        24\n",
      "AGUADAS                      258\n",
      "AGUAZUL                      330\n",
      "AGUSTIN CODAZZI              387\n",
      "AIPE                         132\n",
      "ALBAN                         38\n",
      "ALBANIA                      102\n",
      "ALEJANDRIA                    39\n",
      "ALGARROBO                     68\n",
      "ALGECIRAS                     92\n",
      "ALMAGUER                      73\n",
      "ALMEIDA                       20\n",
      "ALPUJARRA                     40\n",
      "ALTAMIRA                      18\n",
      "ALTO BAUDO (PIE DE PATO)      89\n",
      "ALTOS DEL ROSARIO             29\n",
      "ALVARADO                      83\n",
      "AMAGA                        204\n",
      "AMALFI                       141\n",
      "AMBALEMA                     103\n",
      "                            ... \n",
      "VILLAHERMOSA                  57\n",
      "VILLAMARIA                   410\n",
      "VILLANUEVA                   677\n",
      "VILLAPINZON                  192\n",
      "VILLARRICA                    57\n",
      "VILLAVICENCIO               4374\n",
      "VILLAVIEJA                    63\n",
      "VILLETA                      333\n",
      "VIOTA                         97\n",
      "VIRACACHA                     31\n",
      "VISTA HERMOSA                 30\n",
      "VITERBO                      160\n",
      "YACOPI                        81\n",
      "YACUANQUER                     5\n",
      "YAGUARA                      105\n",
      "YALI                          38\n",
      "YARUMAL                      396\n",
      "YAVARATE                       4\n",
      "YOLOMBO                       87\n",
      "YONDO (CASABE)                83\n",
      "YOPAL                       1039\n",
      "YUMBO                         46\n",
      "ZAMBRANO                      81\n",
      "ZAPATOCA                      92\n",
      "ZAPAYAN                       29\n",
      "ZARAGOZA                     151\n",
      "ZETAQUIRA                     45\n",
      "ZIPACON                       14\n",
      "ZIPAQUIRA                   1088\n",
      "ZONA BANANERA                351\n",
      "Name: COLE_MCPIO_UBICACION, dtype: int64\n",
      "Elementos null/NaN 220\n",
      "__________________\n",
      "Elementos diferentes de null/NaN: 362279\n",
      "__________________\n",
      "(362279,)\n",
      "None\n"
     ]
    }
   ],
   "source": [
    "print(data_2004_2['COLE_MCPIO_UBICACION'].value_counts().sort_index().index)\n",
    "print(data_2004_2['COLE_MCPIO_UBICACION'].value_counts().sort_index())\n",
    "print(missing_data(data_2004_2['COLE_MCPIO_UBICACION']))"
   ]
  },
  {
   "cell_type": "code",
   "execution_count": 166,
   "metadata": {
    "collapsed": false
   },
   "outputs": [
    {
     "data": {
      "text/plain": [
       "Index([], dtype='object')"
      ]
     },
     "execution_count": 166,
     "metadata": {},
     "output_type": "execute_result"
    }
   ],
   "source": [
    "dpto = data_2004_2[data_2004_2['COLE_DEPTO_UBICACION'].isnull()].index\n",
    "mpio = data_2004_2[data_2004_2['COLE_MCPIO_UBICACION'].isnull()].index\n",
    "mpio.difference(dpto)"
   ]
  },
  {
   "cell_type": "code",
   "execution_count": 167,
   "metadata": {
    "collapsed": true
   },
   "outputs": [],
   "source": [
    "data_2004_2 = data_2004_2.drop(mpio)"
   ]
  },
  {
   "cell_type": "code",
   "execution_count": 168,
   "metadata": {
    "collapsed": false,
    "scrolled": true
   },
   "outputs": [
    {
     "name": "stdout",
     "output_type": "stream",
     "text": [
      "Index(['AMAZONAS', 'ANTIOQUIA', 'ARAUCA', 'ATLANTICO', 'BOGOTA', 'BOLIVAR',\n",
      "       'BOYACA', 'CALDAS', 'CAQUETA', 'CASANARE', 'CAUCA', 'CESAR', 'CHOCO',\n",
      "       'CORDOBA', 'CUNDINAMARCA', 'GUAINIA', 'GUAVIARE', 'HUILA', 'LA GUAJIRA',\n",
      "       'MAGDALENA', 'META', 'NARIÑO', 'NORTE SANTANDER', 'PUTUMAYO', 'QUINDIO',\n",
      "       'RISARALDA', 'SAN ANDRES', 'SANTANDER', 'SUCRE', 'TOLIMA', 'VALLE',\n",
      "       'VAUPES', 'VICHADA'],\n",
      "      dtype='object')\n",
      "AMAZONAS             631\n",
      "ANTIOQUIA          52684\n",
      "ARAUCA              1749\n",
      "ATLANTICO          24281\n",
      "BOGOTA             77484\n",
      "BOLIVAR            17881\n",
      "BOYACA             14566\n",
      "CALDAS             10263\n",
      "CAQUETA             2362\n",
      "CASANARE            2588\n",
      "CAUCA               7181\n",
      "CESAR               7649\n",
      "CHOCO               3505\n",
      "CORDOBA            12734\n",
      "CUNDINAMARCA       23059\n",
      "GUAINIA               97\n",
      "GUAVIARE             468\n",
      "HUILA               8508\n",
      "LA GUAJIRA          4564\n",
      "MAGDALENA           9901\n",
      "META                6886\n",
      "NARIÑO               511\n",
      "NORTE SANTANDER    12169\n",
      "PUTUMAYO            1716\n",
      "QUINDIO             5308\n",
      "RISARALDA           8254\n",
      "SAN ANDRES           698\n",
      "SANTANDER          21409\n",
      "SUCRE               7642\n",
      "TOLIMA             12664\n",
      "VALLE               2483\n",
      "VAUPES               110\n",
      "VICHADA              274\n",
      "Name: ESTU_RESIDE_DEPTO, dtype: int64\n",
      "Elementos null/NaN 0\n",
      "__________________\n",
      "Elementos diferentes de null/NaN: 362279\n",
      "__________________\n",
      "(362279,)\n",
      "None\n"
     ]
    }
   ],
   "source": [
    "print(data_2004_2['ESTU_RESIDE_DEPTO'].value_counts().sort_index().index)\n",
    "print(data_2004_2['ESTU_RESIDE_DEPTO'].value_counts().sort_index())\n",
    "print(missing_data(data_2004_2['ESTU_RESIDE_DEPTO']))"
   ]
  },
  {
   "cell_type": "code",
   "execution_count": 169,
   "metadata": {
    "collapsed": false,
    "scrolled": true
   },
   "outputs": [
    {
     "name": "stdout",
     "output_type": "stream",
     "text": [
      "Index(['ABEJORRAL', 'ABREGO', 'ABRIAQUI', 'ACACIAS', 'ACANDI', 'ACEVEDO',\n",
      "       'ACHI', 'AGRADO', 'AGUA DE DIOS', 'AGUACHICA',\n",
      "       ...\n",
      "       'YUMBO', 'ZAMBRANO', 'ZAPATOCA', 'ZAPAYAN', 'ZARAGOZA', 'ZARZAL',\n",
      "       'ZETAQUIRA', 'ZIPACON', 'ZIPAQUIRA', 'ZONA BANANERA'],\n",
      "      dtype='object', length=951)\n",
      "ABEJORRAL                     85\n",
      "ABREGO                        81\n",
      "ABRIAQUI                      18\n",
      "ACACIAS                      646\n",
      "ACANDI                        38\n",
      "ACEVEDO                       57\n",
      "ACHI                          99\n",
      "AGRADO                        51\n",
      "AGUA DE DIOS                 122\n",
      "AGUACHICA                    669\n",
      "AGUADA                        47\n",
      "AGUADAS                      259\n",
      "AGUAZUL                      324\n",
      "AGUSTIN CODAZZI              387\n",
      "AIPE                         133\n",
      "ALBAN                         47\n",
      "ALBANIA                      104\n",
      "ALEJANDRIA                    39\n",
      "ALGARROBO                     66\n",
      "ALGECIRAS                     94\n",
      "ALMAGUER                      71\n",
      "ALMEIDA                       20\n",
      "ALPUJARRA                     41\n",
      "ALTAMIRA                      18\n",
      "ALTO BAUDO (PIE DE PATO)      20\n",
      "ALTOS DEL ROSARIO             29\n",
      "ALVARADO                      80\n",
      "AMAGA                        206\n",
      "AMALFI                       144\n",
      "AMBALEMA                     101\n",
      "                            ... \n",
      "VILLAMARIA                   383\n",
      "VILLANUEVA                   680\n",
      "VILLAPINZON                  175\n",
      "VILLARRICA                    57\n",
      "VILLAVICENCIO               4344\n",
      "VILLAVIEJA                    55\n",
      "VILLETA                      330\n",
      "VIOTA                        100\n",
      "VIRACACHA                     33\n",
      "VISTA HERMOSA                 31\n",
      "VITERBO                      160\n",
      "YACOPI                        73\n",
      "YACUANQUER                     5\n",
      "YAGUARA                       95\n",
      "YALI                          36\n",
      "YARUMAL                      409\n",
      "YAVARATE                       1\n",
      "YOLOMBO                      115\n",
      "YONDO (CASABE)                84\n",
      "YOPAL                       1047\n",
      "YUMBO                         49\n",
      "ZAMBRANO                      81\n",
      "ZAPATOCA                      91\n",
      "ZAPAYAN                       24\n",
      "ZARAGOZA                     151\n",
      "ZARZAL                        15\n",
      "ZETAQUIRA                     44\n",
      "ZIPACON                       27\n",
      "ZIPAQUIRA                   1161\n",
      "ZONA BANANERA                294\n",
      "Name: ESTU_RESIDE_MCPIO, dtype: int64\n",
      "Elementos null/NaN 0\n",
      "__________________\n",
      "Elementos diferentes de null/NaN: 362279\n",
      "__________________\n",
      "(362279,)\n",
      "None\n"
     ]
    }
   ],
   "source": [
    "print(data_2004_2['ESTU_RESIDE_MCPIO'].value_counts().sort_index().index)\n",
    "print(data_2004_2['ESTU_RESIDE_MCPIO'].value_counts().sort_index())\n",
    "print(missing_data(data_2004_2['ESTU_RESIDE_MCPIO']))"
   ]
  },
  {
   "cell_type": "code",
   "execution_count": 170,
   "metadata": {
    "collapsed": false
   },
   "outputs": [
    {
     "data": {
      "text/plain": [
       "Index([], dtype='object')"
      ]
     },
     "execution_count": 170,
     "metadata": {},
     "output_type": "execute_result"
    }
   ],
   "source": [
    "dpto = data_2004_2[data_2004_2['COLE_DEPTO_UBICACION'].isnull()].index\n",
    "mpio = data_2004_2[data_2004_2['COLE_MCPIO_UBICACION'].isnull()].index\n",
    "mpio.difference(dpto)"
   ]
  },
  {
   "cell_type": "code",
   "execution_count": 171,
   "metadata": {
    "collapsed": true
   },
   "outputs": [],
   "source": [
    "data_2004_2 = data_2004_2.drop(mpio)"
   ]
  },
  {
   "cell_type": "markdown",
   "metadata": {},
   "source": [
    "### TARGETS"
   ]
  },
  {
   "cell_type": "code",
   "execution_count": 172,
   "metadata": {
    "collapsed": false,
    "scrolled": true
   },
   "outputs": [
    {
     "name": "stdout",
     "output_type": "stream",
     "text": [
      "Index([  45.79,   44.36,   47.18,   42.86,   48.54,    41.3,   49.88,   51.21,\n",
      "       '44.36', '45.79',   39.62, '42.86', '47.18',  '41.3',   52.54, '48.54',\n",
      "       '39.62',    37.8, '49.88',   53.88, '51.21',  '37.8',   55.25,   35.79,\n",
      "       '52.54',   56.64, '35.79', '53.88',   58.08,   33.52, '55.25', '33.52',\n",
      "         59.58, '56.64',   30.85, '58.08',   61.17, '30.85', '59.58',   62.86,\n",
      "       '61.17',   27.55, '27.55',   64.68, '62.86',   66.71, '64.68',   23.09,\n",
      "       '23.09',   68.99, '66.71',   15.76, '15.76', '68.99',   71.68,   '---',\n",
      "           '0', '71.68',     0.0,    75.0,   79.48,    '75'],\n",
      "      dtype='object')\n",
      "45.79    24022\n",
      "44.36    23808\n",
      "47.18    22859\n",
      "42.86    21394\n",
      "48.54    20797\n",
      "41.3     18000\n",
      "49.88    17740\n",
      "51.21    14166\n",
      "44.36    14102\n",
      "45.79    13909\n",
      "39.62    13470\n",
      "42.86    13447\n",
      "47.18    12611\n",
      "41.3     11784\n",
      "52.54    11272\n",
      "48.54    10622\n",
      "39.62     9205\n",
      "37.8      8877\n",
      "49.88     8752\n",
      "53.88     8683\n",
      "51.21     6724\n",
      "37.8      6427\n",
      "55.25     6262\n",
      "35.79     5391\n",
      "52.54     4922\n",
      "56.64     4202\n",
      "35.79     3886\n",
      "53.88     3563\n",
      "58.08     2906\n",
      "33.52     2591\n",
      "         ...  \n",
      "59.58     1797\n",
      "56.64     1696\n",
      "30.85     1079\n",
      "58.08     1068\n",
      "61.17     1061\n",
      "30.85      928\n",
      "59.58      676\n",
      "62.86      621\n",
      "61.17      394\n",
      "27.55      382\n",
      "27.55      350\n",
      "64.68      303\n",
      "62.86      221\n",
      "66.71      166\n",
      "64.68      118\n",
      "23.09      100\n",
      "23.09       89\n",
      "68.99       58\n",
      "66.71       49\n",
      "15.76       37\n",
      "15.76       33\n",
      "68.99       26\n",
      "71.68       25\n",
      "---         13\n",
      "0           13\n",
      "71.68       10\n",
      "0.0          8\n",
      "75.0         7\n",
      "79.48        5\n",
      "75           2\n",
      "Name: PUNT_BIOLOGIA, dtype: int64\n",
      "Elementos null/NaN 0\n",
      "__________________\n",
      "Elementos diferentes de null/NaN: 362279\n",
      "__________________\n",
      "(362279,)\n",
      "None\n"
     ]
    }
   ],
   "source": [
    "print(data_2004_2['PUNT_BIOLOGIA'].value_counts().index)\n",
    "print(data_2004_2['PUNT_BIOLOGIA'].value_counts())\n",
    "print(missing_data(data_2004_2['PUNT_BIOLOGIA']))"
   ]
  },
  {
   "cell_type": "code",
   "execution_count": 173,
   "metadata": {
    "collapsed": true
   },
   "outputs": [],
   "source": [
    "data_2004_2['PUNT_BIOLOGIA'] = data_2004_2['PUNT_BIOLOGIA'].replace('---', np.nan)\n",
    "for i in data_2004_2['PUNT_BIOLOGIA'].value_counts().index:\n",
    "    if type(i) == str:\n",
    "        data_2004_2['PUNT_BIOLOGIA'] = data_2004_2['PUNT_BIOLOGIA'].replace(i, float(i))"
   ]
  },
  {
   "cell_type": "code",
   "execution_count": 174,
   "metadata": {
    "collapsed": true
   },
   "outputs": [],
   "source": [
    "data_2004_2['PUNT_BIOLOGIA'].fillna(np.mean(data_2004_2['PUNT_BIOLOGIA']), inplace=True)"
   ]
  },
  {
   "cell_type": "code",
   "execution_count": 175,
   "metadata": {
    "collapsed": false,
    "scrolled": true
   },
   "outputs": [
    {
     "name": "stdout",
     "output_type": "stream",
     "text": [
      "Index(['39.73', '41.46', '37.95', '43.17', '36.11', '44.85', '46.52', '34.19',\n",
      "         41.46,   39.73, '48.19',   43.17, '32.16',   37.95,   44.85,   36.11,\n",
      "       '49.87',   46.52, '29.99',   34.19,   48.19, '51.57',   32.16,   49.87,\n",
      "       '27.65', '53.31',   29.99,   51.57, '25.06', '55.09',   53.31,   27.65,\n",
      "         55.09, '56.93', '22.14',   25.06,   56.93, '58.86',   58.86, '60.89',\n",
      "       '18.71',   22.14, '63.05',   60.89, '14.48',   18.71,   63.05,  '65.4',\n",
      "           '0',  '8.79',   '---',    65.4, '67.99',   14.48,     0.0, '70.92',\n",
      "         67.99,    8.79,   70.92, '74.34', '78.57',   74.34, '84.27'],\n",
      "      dtype='object')\n",
      "39.73    32364\n",
      "41.46    31789\n",
      "37.95    29404\n",
      "43.17    28377\n",
      "36.11    24039\n",
      "44.85    23456\n",
      "46.52    17803\n",
      "34.19    17638\n",
      "41.46    12630\n",
      "39.73    12295\n",
      "48.19    12060\n",
      "43.17    11597\n",
      "32.16    11349\n",
      "37.95    11165\n",
      "44.85     9595\n",
      "36.11     8822\n",
      "49.87     7770\n",
      "46.52     7641\n",
      "29.99     6581\n",
      "34.19     6315\n",
      "48.19     5433\n",
      "51.57     4720\n",
      "32.16     4127\n",
      "49.87     3650\n",
      "27.65     3488\n",
      "53.31     2646\n",
      "29.99     2313\n",
      "51.57     2263\n",
      "25.06     1553\n",
      "55.09     1506\n",
      "         ...  \n",
      "56.93      772\n",
      "22.14      643\n",
      "25.06      518\n",
      "56.93      443\n",
      "58.86      385\n",
      "58.86      245\n",
      "60.89      244\n",
      "18.71      234\n",
      "22.14      200\n",
      "63.05      125\n",
      "60.89      123\n",
      "14.48       96\n",
      "18.71       88\n",
      "63.05       81\n",
      "65.4        63\n",
      "0           62\n",
      "8.79        54\n",
      "---         40\n",
      "65.4        29\n",
      "67.99       24\n",
      "14.48       24\n",
      "0.0         20\n",
      "70.92       16\n",
      "67.99       15\n",
      "8.79        12\n",
      "70.92        8\n",
      "74.34        5\n",
      "78.57        4\n",
      "74.34        2\n",
      "84.27        1\n",
      "Name: PUNT_MATEMATICAS, dtype: int64\n",
      "Elementos null/NaN 0\n",
      "__________________\n",
      "Elementos diferentes de null/NaN: 362279\n",
      "__________________\n",
      "(362279,)\n",
      "None\n"
     ]
    }
   ],
   "source": [
    "print(data_2004_2['PUNT_MATEMATICAS'].value_counts().index)\n",
    "print(data_2004_2['PUNT_MATEMATICAS'].value_counts())\n",
    "print(missing_data(data_2004_2['PUNT_MATEMATICAS']))"
   ]
  },
  {
   "cell_type": "code",
   "execution_count": 176,
   "metadata": {
    "collapsed": true
   },
   "outputs": [],
   "source": [
    "c = \"PUNT_MATEMATICAS\"\n",
    "data_2004_2[c] = data_2004_2[c].replace('---', np.nan)\n",
    "for i in data_2004_2[c].value_counts().index:\n",
    "    if type(i) == str:\n",
    "        data_2004_2[c] = data_2004_2[c].replace(i, float(i))"
   ]
  },
  {
   "cell_type": "code",
   "execution_count": 177,
   "metadata": {
    "collapsed": true
   },
   "outputs": [],
   "source": [
    "data_2004_2['PUNT_MATEMATICAS'].fillna(np.mean(data_2004_2['PUNT_MATEMATICAS']), inplace=True)"
   ]
  },
  {
   "cell_type": "code",
   "execution_count": 178,
   "metadata": {
    "collapsed": false,
    "scrolled": true
   },
   "outputs": [
    {
     "name": "stdout",
     "output_type": "stream",
     "text": [
      "Index(['---', '0', '10.99', '19.73', '25.06', '28.99', '32.17', '34.87',\n",
      "       '37.25', '39.39', '41.37', '43.2', '44.94', '46.6', '48.19', '49.74',\n",
      "       '51.25', '52.74', '54.21', '55.68', '57.15', '58.63', '60.14', '61.68',\n",
      "       '63.26', '64.91', '66.63'],\n",
      "      dtype='object')\n",
      "---        164\n",
      "0           35\n",
      "10.99      113\n",
      "19.73      291\n",
      "25.06      910\n",
      "28.99     2616\n",
      "32.17     6173\n",
      "34.87    12241\n",
      "37.25    20749\n",
      "39.39    31167\n",
      "41.37    40295\n",
      "43.2     46627\n",
      "44.94    47923\n",
      "46.6     44431\n",
      "48.19    36915\n",
      "49.74    27960\n",
      "51.25    19299\n",
      "52.74    11690\n",
      "54.21     6675\n",
      "55.68     3416\n",
      "57.15     1607\n",
      "58.63      626\n",
      "60.14      265\n",
      "61.68       71\n",
      "63.26       14\n",
      "64.91        5\n",
      "66.63        1\n",
      "Name: PUNT_FILOSOFIA, dtype: int64\n",
      "Elementos null/NaN 0\n",
      "__________________\n",
      "Elementos diferentes de null/NaN: 362279\n",
      "__________________\n",
      "(362279,)\n",
      "None\n"
     ]
    }
   ],
   "source": [
    "print(data_2004_2['PUNT_FILOSOFIA'].value_counts().sort_index().index)\n",
    "print(data_2004_2['PUNT_FILOSOFIA'].value_counts().sort_index())\n",
    "print(missing_data(data_2004_2['PUNT_FILOSOFIA']))"
   ]
  },
  {
   "cell_type": "code",
   "execution_count": 179,
   "metadata": {
    "collapsed": true
   },
   "outputs": [],
   "source": [
    "c = \"PUNT_FILOSOFIA\"\n",
    "data_2004_2[c] = data_2004_2[c].replace('---', np.nan)\n",
    "for i in data_2004_2[c].value_counts().index:\n",
    "    if type(i) == str:\n",
    "        data_2004_2[c] = data_2004_2[c].replace(i, float(i))"
   ]
  },
  {
   "cell_type": "code",
   "execution_count": 180,
   "metadata": {
    "collapsed": true
   },
   "outputs": [],
   "source": [
    "data_2004_2['PUNT_FILOSOFIA'].fillna(np.mean(data_2004_2['PUNT_FILOSOFIA']), inplace=True)"
   ]
  },
  {
   "cell_type": "code",
   "execution_count": 181,
   "metadata": {
    "collapsed": false,
    "scrolled": true
   },
   "outputs": [
    {
     "name": "stdout",
     "output_type": "stream",
     "text": [
      "Index([  42.45,   40.12,   44.61,   37.52,   46.63,   48.54,   34.59,   50.36,\n",
      "         31.14,   52.12, '42.45', '40.12', '44.61',   53.83, '37.52',   26.87,\n",
      "       '46.63', '34.59', '48.54',    55.5, '31.14', '50.36',   57.14,   21.11,\n",
      "       '52.12', '26.87',   58.78, '53.83',   60.41,  '55.5',   11.65, '21.11',\n",
      "         62.04, '57.14',   63.69,   65.36, '58.78',   67.08, '11.65',   68.84,\n",
      "       '60.41',     0.0,   70.67,   72.58, '63.69', '62.04',   74.61,   76.78,\n",
      "         79.13,   81.73, '67.08',     '0', '65.36',   '---',   84.68, '74.61',\n",
      "       '70.67', '68.84', '92.43', '79.13',   98.21, '81.73', '72.58'],\n",
      "      dtype='object')\n",
      "42.45    46194\n",
      "40.12    43283\n",
      "44.61    42745\n",
      "37.52    34862\n",
      "46.63    34817\n",
      "48.54    25502\n",
      "34.59    23753\n",
      "50.36    16938\n",
      "31.14    12867\n",
      "52.12    10541\n",
      "42.45     7267\n",
      "40.12     7192\n",
      "44.61     6650\n",
      "53.83     6182\n",
      "37.52     5952\n",
      "26.87     5651\n",
      "46.63     5317\n",
      "34.59     4213\n",
      "48.54     3661\n",
      "55.5      3444\n",
      "31.14     2335\n",
      "50.36     2282\n",
      "57.14     1782\n",
      "21.11     1777\n",
      "52.12     1341\n",
      "26.87     1051\n",
      "58.78      994\n",
      "53.83      689\n",
      "60.41      567\n",
      "55.5       382\n",
      "         ...  \n",
      "57.14      192\n",
      "63.69      161\n",
      "65.36      107\n",
      "58.78      104\n",
      "67.08       87\n",
      "11.65       62\n",
      "68.84       61\n",
      "60.41       47\n",
      "0.0         37\n",
      "70.67       27\n",
      "72.58       25\n",
      "63.69       21\n",
      "62.04       19\n",
      "74.61       14\n",
      "76.78       13\n",
      "79.13        8\n",
      "81.73        6\n",
      "67.08        6\n",
      "0            6\n",
      "65.36        6\n",
      "---          5\n",
      "84.68        5\n",
      "74.61        4\n",
      "70.67        2\n",
      "68.84        2\n",
      "92.43        2\n",
      "79.13        1\n",
      "98.21        1\n",
      "81.73        1\n",
      "72.58        1\n",
      "Name: PUNT_FISICA, dtype: int64\n",
      "Elementos null/NaN 0\n",
      "__________________\n",
      "Elementos diferentes de null/NaN: 362279\n",
      "__________________\n",
      "(362279,)\n",
      "None\n"
     ]
    }
   ],
   "source": [
    "print(data_2004_2['PUNT_FISICA'].value_counts().index)\n",
    "print(data_2004_2['PUNT_FISICA'].value_counts())\n",
    "print(missing_data(data_2004_2['PUNT_FISICA']))"
   ]
  },
  {
   "cell_type": "code",
   "execution_count": 182,
   "metadata": {
    "collapsed": true
   },
   "outputs": [],
   "source": [
    "c = \"PUNT_FISICA\"\n",
    "data_2004_2[c] = data_2004_2[c].replace('---', np.nan)\n",
    "for i in data_2004_2[c].value_counts().index:\n",
    "    if type(i) == str:\n",
    "        data_2004_2[c] = data_2004_2[c].replace(i, float(i))"
   ]
  },
  {
   "cell_type": "code",
   "execution_count": 183,
   "metadata": {
    "collapsed": true
   },
   "outputs": [],
   "source": [
    "data_2004_2['PUNT_FISICA'].fillna(np.mean(data_2004_2['PUNT_FISICA']), inplace=True)"
   ]
  },
  {
   "cell_type": "code",
   "execution_count": 184,
   "metadata": {
    "collapsed": false,
    "scrolled": true
   },
   "outputs": [
    {
     "name": "stdout",
     "output_type": "stream",
     "text": [
      "Index([  42.56,   43.89,   41.17,   45.16,   46.39,   39.71,    47.6,   38.14,\n",
      "          48.8,   49.98,   36.42,   51.16,   52.34,   34.52,   53.53,   54.75,\n",
      "       '41.17', '42.56', '39.71', '43.89',   32.36,   55.99, '45.16', '38.14',\n",
      "       '46.39',   57.27,  '47.6', '36.42',  '48.8',   58.61, '49.98',   29.82,\n",
      "       '34.52', '51.16',    60.0, '52.34', '32.36', '53.53',   61.49, '54.75',\n",
      "         26.66, '55.99', '29.82',   63.07, '57.27', '58.61', '26.66',   22.36,\n",
      "          64.8,    '60', '61.49',   66.72, '22.36',   15.29, '63.07', '15.29',\n",
      "        '64.8',   '---',   68.91,     0.0,   71.48, '68.91', '66.72'],\n",
      "      dtype='object')\n",
      "42.56    29020\n",
      "43.89    28626\n",
      "41.17    27746\n",
      "45.16    27061\n",
      "46.39    24728\n",
      "39.71    24165\n",
      "47.6     21705\n",
      "38.14    19347\n",
      "48.8     18648\n",
      "49.98    15446\n",
      "36.42    13486\n",
      "51.16    12696\n",
      "52.34     9944\n",
      "34.52     8373\n",
      "53.53     7848\n",
      "54.75     5956\n",
      "41.17     4984\n",
      "42.56     4898\n",
      "39.71     4677\n",
      "43.89     4589\n",
      "32.36     4287\n",
      "55.99     4193\n",
      "45.16     4079\n",
      "38.14     3843\n",
      "46.39     3461\n",
      "57.27     2965\n",
      "47.6      2926\n",
      "36.42     2892\n",
      "48.8      2351\n",
      "58.61     1975\n",
      "         ...  \n",
      "51.16     1425\n",
      "60.0      1136\n",
      "52.34     1076\n",
      "32.36     1016\n",
      "53.53      848\n",
      "61.49      662\n",
      "54.75      620\n",
      "26.66      612\n",
      "55.99      447\n",
      "29.82      404\n",
      "63.07      282\n",
      "57.27      276\n",
      "58.61      174\n",
      "26.66      166\n",
      "22.36      163\n",
      "64.8       123\n",
      "60         108\n",
      "61.49       44\n",
      "66.72       42\n",
      "22.36       37\n",
      "15.29       36\n",
      "63.07       25\n",
      "15.29       14\n",
      "64.8         9\n",
      "---          6\n",
      "68.91        4\n",
      "0.0          3\n",
      "71.48        2\n",
      "68.91        1\n",
      "66.72        1\n",
      "Name: PUNT_HISTORIA, dtype: int64\n",
      "Elementos null/NaN 0\n",
      "__________________\n",
      "Elementos diferentes de null/NaN: 362279\n",
      "__________________\n",
      "(362279,)\n",
      "None\n"
     ]
    }
   ],
   "source": [
    "print(data_2004_2['PUNT_HISTORIA'].value_counts().index)\n",
    "print(data_2004_2['PUNT_HISTORIA'].value_counts())\n",
    "print(missing_data(data_2004_2['PUNT_HISTORIA']))"
   ]
  },
  {
   "cell_type": "code",
   "execution_count": 185,
   "metadata": {
    "collapsed": true
   },
   "outputs": [],
   "source": [
    "c = \"PUNT_HISTORIA\"\n",
    "data_2004_2[c] = data_2004_2[c].replace('---', np.nan)\n",
    "for i in data_2004_2[c].value_counts().index:\n",
    "    if type(i) == str:\n",
    "        data_2004_2[c] = data_2004_2[c].replace(i, float(i))"
   ]
  },
  {
   "cell_type": "code",
   "execution_count": 186,
   "metadata": {
    "collapsed": true
   },
   "outputs": [],
   "source": [
    "data_2004_2['PUNT_HISTORIA'].fillna(np.mean(data_2004_2['PUNT_HISTORIA']), inplace=True)"
   ]
  },
  {
   "cell_type": "code",
   "execution_count": 187,
   "metadata": {
    "collapsed": false,
    "scrolled": true
   },
   "outputs": [
    {
     "name": "stdout",
     "output_type": "stream",
     "text": [
      "Index([  40.87,   42.23,   39.44,   43.52,   37.91,   44.77,   36.25,   45.98,\n",
      "         47.16,   34.41,   48.33,   49.49,   32.33, '39.44', '40.87', '37.91',\n",
      "         50.65, '42.23', '36.25', '43.52',    51.8, '44.77', '34.41',   29.89,\n",
      "         52.97, '45.98',   54.16, '32.33',   55.38, '47.16',   56.63,   26.87,\n",
      "       '48.33', '29.89',   57.93, '49.49',   59.29, '50.65',   60.73, '26.87',\n",
      "         62.27,  '51.8',   22.81, '52.97',   63.95, '54.16',    65.8, '55.38',\n",
      "       '56.63',   67.91, '22.81', '57.93',   16.16,   70.38, '59.29', '16.16',\n",
      "       '60.73',   73.42, '62.27', '63.95',     0.0,  '65.8', '67.91',   77.54,\n",
      "         '---', '70.38', '73.42',     '0',   84.24],\n",
      "      dtype='object')\n",
      "40.87    37410\n",
      "42.23    35901\n",
      "39.44    34518\n",
      "43.52    31850\n",
      "37.91    29250\n",
      "44.77    25736\n",
      "36.25    21391\n",
      "45.98    20070\n",
      "47.16    14714\n",
      "34.41    13281\n",
      "48.33    10707\n",
      "49.49     7687\n",
      "32.33     6955\n",
      "39.44     6390\n",
      "40.87     6330\n",
      "37.91     5665\n",
      "50.65     5412\n",
      "42.23     5364\n",
      "36.25     4720\n",
      "43.52     4489\n",
      "51.8      3845\n",
      "44.77     3264\n",
      "34.41     3161\n",
      "29.89     3141\n",
      "52.97     2787\n",
      "45.98     2259\n",
      "54.16     2010\n",
      "32.33     1734\n",
      "55.38     1497\n",
      "47.16     1468\n",
      "         ...  \n",
      "26.87      307\n",
      "62.27      290\n",
      "51.8       279\n",
      "22.81      271\n",
      "52.97      227\n",
      "63.95      184\n",
      "54.16      136\n",
      "65.8       131\n",
      "55.38      110\n",
      "56.63       84\n",
      "67.91       80\n",
      "22.81       79\n",
      "57.93       54\n",
      "16.16       52\n",
      "70.38       37\n",
      "59.29       28\n",
      "16.16       28\n",
      "60.73       22\n",
      "73.42       21\n",
      "62.27       19\n",
      "63.95       12\n",
      "0.0          8\n",
      "65.8         7\n",
      "67.91        6\n",
      "77.54        4\n",
      "---          4\n",
      "70.38        2\n",
      "73.42        2\n",
      "0            2\n",
      "84.24        2\n",
      "Name: PUNT_QUIMICA, dtype: int64\n",
      "Elementos null/NaN 0\n",
      "__________________\n",
      "Elementos diferentes de null/NaN: 362279\n",
      "__________________\n",
      "(362279,)\n",
      "None\n"
     ]
    }
   ],
   "source": [
    "print(data_2004_2['PUNT_QUIMICA'].value_counts().index)\n",
    "print(data_2004_2['PUNT_QUIMICA'].value_counts())\n",
    "print(missing_data(data_2004_2['PUNT_QUIMICA']))"
   ]
  },
  {
   "cell_type": "code",
   "execution_count": 188,
   "metadata": {
    "collapsed": true
   },
   "outputs": [],
   "source": [
    "c = \"PUNT_QUIMICA\"\n",
    "data_2004_2[c] = data_2004_2[c].replace('---', np.nan)\n",
    "for i in data_2004_2[c].value_counts().index:\n",
    "    if type(i) == str:\n",
    "        data_2004_2[c] = data_2004_2[c].replace(i, float(i))"
   ]
  },
  {
   "cell_type": "code",
   "execution_count": 189,
   "metadata": {
    "collapsed": true
   },
   "outputs": [],
   "source": [
    "data_2004_2['PUNT_QUIMICA'].fillna(np.mean(data_2004_2['PUNT_QUIMICA']), inplace=True)"
   ]
  },
  {
   "cell_type": "code",
   "execution_count": 190,
   "metadata": {
    "collapsed": false,
    "scrolled": true
   },
   "outputs": [
    {
     "name": "stdout",
     "output_type": "stream",
     "text": [
      "Index([  53.12,    51.6,   50.08,   54.64,   48.55,   56.17,    47.0,   57.73,\n",
      "         45.42,   59.31,   43.79,   60.94,   42.11,   62.62,   64.36,   40.36,\n",
      "          66.2,   38.51,   68.15,   36.54, '50.08',  '51.6', '48.55', '53.12',\n",
      "          '47', '54.64',   70.25, '45.42', '56.17', '43.79', '57.73', '59.31',\n",
      "       '42.11',   34.41,   72.56, '60.94', '40.36', '62.62', '38.51',   75.15,\n",
      "         32.07, '64.36',  '66.2', '36.54',   78.15, '68.15',   29.43, '34.41',\n",
      "       '70.25',   81.81, '32.07',   26.35, '72.56', '75.15', '29.43',   86.69,\n",
      "       '78.15',   22.59, '26.35', '81.81',   94.53,   17.58, '22.59', '86.69',\n",
      "       '17.58',    9.56,  '9.56',   '---',     0.0,   97.07, '97.07'],\n",
      "      dtype='object')\n",
      "53.12    23939\n",
      "51.6     23740\n",
      "50.08    23164\n",
      "54.64    22487\n",
      "48.55    21998\n",
      "56.17    21149\n",
      "47.0     20371\n",
      "57.73    19173\n",
      "45.42    17541\n",
      "59.31    16671\n",
      "43.79    14913\n",
      "60.94    14167\n",
      "42.11    11611\n",
      "62.62    11358\n",
      "64.36     8801\n",
      "40.36     8728\n",
      "66.2      6584\n",
      "38.51     5937\n",
      "68.15     4800\n",
      "36.54     3997\n",
      "50.08     3781\n",
      "51.6      3746\n",
      "48.55     3660\n",
      "53.12     3595\n",
      "47        3550\n",
      "54.64     3388\n",
      "70.25     3316\n",
      "45.42     3169\n",
      "56.17     2976\n",
      "43.79     2673\n",
      "         ...  \n",
      "64.36     1113\n",
      "66.2       855\n",
      "36.54      847\n",
      "78.15      667\n",
      "68.15      585\n",
      "29.43      550\n",
      "34.41      446\n",
      "70.25      383\n",
      "81.81      307\n",
      "32.07      264\n",
      "26.35      217\n",
      "72.56      210\n",
      "75.15      140\n",
      "29.43      121\n",
      "86.69       79\n",
      "78.15       72\n",
      "22.59       66\n",
      "26.35       44\n",
      "81.81       37\n",
      "94.53       26\n",
      "17.58       23\n",
      "22.59       18\n",
      "86.69       11\n",
      "17.58        6\n",
      "9.56         6\n",
      "9.56         5\n",
      "---          5\n",
      "0.0          5\n",
      "97.07        1\n",
      "97.07        1\n",
      "Name: PUNT_LENGUAJE, dtype: int64\n",
      "Elementos null/NaN 0\n",
      "__________________\n",
      "Elementos diferentes de null/NaN: 362279\n",
      "__________________\n",
      "(362279,)\n",
      "None\n"
     ]
    }
   ],
   "source": [
    "print(data_2004_2['PUNT_LENGUAJE'].value_counts().index)\n",
    "print(data_2004_2['PUNT_LENGUAJE'].value_counts())\n",
    "print(missing_data(data_2004_2['PUNT_LENGUAJE']))"
   ]
  },
  {
   "cell_type": "code",
   "execution_count": 191,
   "metadata": {
    "collapsed": true
   },
   "outputs": [],
   "source": [
    "c = \"PUNT_LENGUAJE\"\n",
    "data_2004_2[c] = data_2004_2[c].replace('---', np.nan)\n",
    "for i in data_2004_2[c].value_counts().index:\n",
    "    if type(i) == str:\n",
    "        data_2004_2[c] = data_2004_2[c].replace(i, float(i))"
   ]
  },
  {
   "cell_type": "code",
   "execution_count": 192,
   "metadata": {
    "collapsed": true
   },
   "outputs": [],
   "source": [
    "data_2004_2['PUNT_LENGUAJE'].fillna(np.mean(data_2004_2['PUNT_LENGUAJE']), inplace=True)"
   ]
  },
  {
   "cell_type": "code",
   "execution_count": 193,
   "metadata": {
    "collapsed": false,
    "scrolled": true
   },
   "outputs": [
    {
     "name": "stdout",
     "output_type": "stream",
     "text": [
      "Index([  49.61,   50.98,   52.33,   48.23,   53.68,   46.81,   55.04,   45.35,\n",
      "          56.4,   43.84,   57.79,   42.26,    59.2, '48.23', '49.61', '46.81',\n",
      "         40.59, '50.98', '45.35', '52.33', '43.84', '53.68',   60.66, '55.04',\n",
      "       '42.26',    38.8,  '56.4',   62.17, '40.59', '57.79',   36.87,   63.75,\n",
      "        '38.8',  '59.2', '60.66',   65.42, '36.87',   34.72, '62.17',    67.2,\n",
      "       '34.72', '63.75',    32.3,   69.14, '65.42',  '32.3',   29.46,  '67.2',\n",
      "         71.27, '29.46', '69.14',    73.7,   25.95, '71.27', '25.95',   76.54,\n",
      "         21.21,  '73.7', '21.21', '76.54',   '---',   80.04,   13.45, '13.45',\n",
      "           0.0, '80.04',     '0', '84.78'],\n",
      "      dtype='object')\n",
      "49.61    19220\n",
      "50.98    19117\n",
      "52.33    18943\n",
      "48.23    18749\n",
      "53.68    17779\n",
      "46.81    17531\n",
      "55.04    16268\n",
      "45.35    15789\n",
      "56.4     14194\n",
      "43.84    13849\n",
      "57.79    11937\n",
      "42.26    11512\n",
      "59.2      9564\n",
      "48.23     9377\n",
      "49.61     9298\n",
      "46.81     8936\n",
      "40.59     8835\n",
      "50.98     8606\n",
      "45.35     8418\n",
      "52.33     8126\n",
      "43.84     7553\n",
      "53.68     7490\n",
      "60.66     7450\n",
      "55.04     6396\n",
      "42.26     6152\n",
      "38.8      6043\n",
      "56.4      5499\n",
      "62.17     5427\n",
      "40.59     5121\n",
      "57.79     4411\n",
      "         ...  \n",
      "62.17     1703\n",
      "67.2      1438\n",
      "34.72     1361\n",
      "63.75     1108\n",
      "32.3      1106\n",
      "69.14      713\n",
      "65.42      686\n",
      "32.3       627\n",
      "29.46      439\n",
      "67.2       382\n",
      "71.27      349\n",
      "29.46      246\n",
      "69.14      180\n",
      "73.7       155\n",
      "25.95      140\n",
      "71.27       96\n",
      "25.95       88\n",
      "76.54       48\n",
      "21.21       46\n",
      "73.7        34\n",
      "21.21       21\n",
      "76.54       14\n",
      "---         14\n",
      "80.04       14\n",
      "13.45       10\n",
      "13.45        8\n",
      "0.0          6\n",
      "80.04        4\n",
      "0            2\n",
      "84.78        1\n",
      "Name: PUNT_GEOGRAFIA, dtype: int64\n",
      "Elementos null/NaN 0\n",
      "__________________\n",
      "Elementos diferentes de null/NaN: 362279\n",
      "__________________\n",
      "(362279,)\n",
      "None\n"
     ]
    }
   ],
   "source": [
    "print(data_2004_2['PUNT_GEOGRAFIA'].value_counts().index)\n",
    "print(data_2004_2['PUNT_GEOGRAFIA'].value_counts())\n",
    "print(missing_data(data_2004_2['PUNT_GEOGRAFIA']))"
   ]
  },
  {
   "cell_type": "code",
   "execution_count": 194,
   "metadata": {
    "collapsed": true
   },
   "outputs": [],
   "source": [
    "c = \"PUNT_GEOGRAFIA\"\n",
    "data_2004_2[c] = data_2004_2[c].replace('---', np.nan)\n",
    "for i in data_2004_2[c].value_counts().index:\n",
    "    if type(i) == str:\n",
    "        data_2004_2[c] = data_2004_2[c].replace(i, float(i))"
   ]
  },
  {
   "cell_type": "code",
   "execution_count": 195,
   "metadata": {
    "collapsed": true
   },
   "outputs": [],
   "source": [
    "data_2004_2['PUNT_GEOGRAFIA'].fillna(np.mean(data_2004_2['PUNT_GEOGRAFIA']), inplace=True)"
   ]
  },
  {
   "cell_type": "code",
   "execution_count": 196,
   "metadata": {
    "collapsed": false
   },
   "outputs": [
    {
     "name": "stdout",
     "output_type": "stream",
     "text": [
      "Int64Index([43, 44, 45], dtype='int64')\n",
      "43    181232\n",
      "44    138452\n",
      "45     42595\n",
      "Name: COD_INTERDISCIPLINAR, dtype: int64\n",
      "Elementos null/NaN 0\n",
      "__________________\n",
      "Elementos diferentes de null/NaN: 362279\n",
      "__________________\n",
      "(362279,)\n",
      "None\n"
     ]
    }
   ],
   "source": [
    "print(data_2004_2['COD_INTERDISCIPLINAR'].value_counts().sort_index().index)\n",
    "print(data_2004_2['COD_INTERDISCIPLINAR'].value_counts().sort_index())\n",
    "print(missing_data(data_2004_2['COD_INTERDISCIPLINAR']))"
   ]
  },
  {
   "cell_type": "code",
   "execution_count": 197,
   "metadata": {
    "collapsed": false,
    "scrolled": true
   },
   "outputs": [
    {
     "name": "stdout",
     "output_type": "stream",
     "text": [
      "Index(['---', '0', '22.06', '23.24', '31.01', '32.26', '33.15', '35.96',\n",
      "       '39.81', '40.24', '40.3', '43.1', '45.55', '45.76', '46.08', '48.9',\n",
      "       '49.7', '50.49', '51.68', '53.3', '54.52', '54.77', '56.61', '57.51',\n",
      "       '58.84', '59.77', '60.81', '62.83', '62.91', '64.68', '66.12', '66.89',\n",
      "       '69.53', '69.66', '71.18', '73.3', '75.9', '77.47', '77.7', '81.42',\n",
      "       '81.43', '83.33', '88.5', '91.93', '96.32', '99.58'],\n",
      "      dtype='object')\n",
      "---       2186\n",
      "0         2078\n",
      "22.06     1279\n",
      "23.24     4540\n",
      "31.01    11375\n",
      "32.26     4938\n",
      "33.15     3396\n",
      "35.96    18767\n",
      "39.81    23081\n",
      "40.24     6019\n",
      "40.3     13284\n",
      "43.1     22653\n",
      "45.55    23314\n",
      "45.76     7548\n",
      "46.08    18997\n",
      "48.9     13929\n",
      "49.7     31066\n",
      "50.49     7667\n",
      "51.68     9668\n",
      "53.3     32896\n",
      "54.52     6346\n",
      "54.77     6257\n",
      "56.61    29040\n",
      "57.51     3806\n",
      "58.84     4439\n",
      "59.77    21641\n",
      "60.81     2175\n",
      "62.83     2771\n",
      "62.91    13074\n",
      "64.68     1076\n",
      "66.12     6450\n",
      "66.89     1527\n",
      "69.53     2439\n",
      "69.66      413\n",
      "71.18      739\n",
      "73.3       677\n",
      "75.9       299\n",
      "77.47       87\n",
      "77.7       146\n",
      "81.42      114\n",
      "81.43       15\n",
      "83.33       23\n",
      "88.5        29\n",
      "91.93        2\n",
      "96.32        1\n",
      "99.58       12\n",
      "Name: PUNT_INTERDISCIPLINAR, dtype: int64\n",
      "Elementos null/NaN 0\n",
      "__________________\n",
      "Elementos diferentes de null/NaN: 362279\n",
      "__________________\n",
      "(362279,)\n",
      "None\n"
     ]
    }
   ],
   "source": [
    "print(data_2004_2['PUNT_INTERDISCIPLINAR'].value_counts().sort_index().index)\n",
    "print(data_2004_2['PUNT_INTERDISCIPLINAR'].value_counts().sort_index())\n",
    "print(missing_data(data_2004_2['PUNT_INTERDISCIPLINAR']))"
   ]
  },
  {
   "cell_type": "code",
   "execution_count": 198,
   "metadata": {
    "collapsed": true
   },
   "outputs": [],
   "source": [
    "c = \"PUNT_INTERDISCIPLINAR\"\n",
    "data_2004_2[c] = data_2004_2[c].replace('---', np.nan)\n",
    "for i in data_2004_2[c].value_counts().index:\n",
    "    if type(i) == str:\n",
    "        data_2004_2[c] = data_2004_2[c].replace(i, float(i))"
   ]
  },
  {
   "cell_type": "code",
   "execution_count": 199,
   "metadata": {
    "collapsed": true
   },
   "outputs": [],
   "source": [
    "data_2004_2['PUNT_INTERDISCIPLINAR'].fillna(np.mean(data_2004_2['PUNT_INTERDISCIPLINAR']), inplace=True)"
   ]
  },
  {
   "cell_type": "code",
   "execution_count": 200,
   "metadata": {
    "collapsed": false
   },
   "outputs": [
    {
     "name": "stdout",
     "output_type": "stream",
     "text": [
      "Int64Index([51, 52, 53, 99], dtype='int64')\n",
      "51    359880\n",
      "52      1717\n",
      "53       292\n",
      "99       390\n",
      "Name: COD_IDIOMA, dtype: int64\n",
      "Elementos null/NaN 0\n",
      "__________________\n",
      "Elementos diferentes de null/NaN: 362279\n",
      "__________________\n",
      "(362279,)\n",
      "None\n"
     ]
    }
   ],
   "source": [
    "print(data_2004_2['COD_IDIOMA'].value_counts().sort_index().index)\n",
    "print(data_2004_2['COD_IDIOMA'].value_counts().sort_index())\n",
    "print(missing_data(data_2004_2['COD_IDIOMA']))"
   ]
  },
  {
   "cell_type": "code",
   "execution_count": 201,
   "metadata": {
    "collapsed": false,
    "scrolled": true
   },
   "outputs": [
    {
     "name": "stdout",
     "output_type": "stream",
     "text": [
      "Index(['38.40', '36.79', '39.90', '35.02', '41.31', '33.06', '42.66', '43.97',\n",
      "       '30.84', '45.24',\n",
      "       ...\n",
      "          24.2,   49.86,   77.01,   86.98,   126.2,  '48.9',   44.02,   54.77,\n",
      "         59.15,   13.25],\n",
      "      dtype='object', length=163)\n",
      "38.40    47228\n",
      "36.79    45622\n",
      "39.90    42628\n",
      "35.02    38232\n",
      "41.31    35476\n",
      "33.06    27718\n",
      "42.66    26181\n",
      "43.97    18071\n",
      "30.84    16638\n",
      "45.24    11878\n",
      "28.22     8110\n",
      "46.47     7628\n",
      "47.70     4962\n",
      "48.90     3396\n",
      "24.96     3255\n",
      "50.09     2414\n",
      "51.29     1930\n",
      "52.52     1637\n",
      "53.75     1350\n",
      "55.02     1110\n",
      "56.31     1040\n",
      "20.54      908\n",
      "57.66      894\n",
      "59.09      864\n",
      "60.59      795\n",
      "62.20      740\n",
      "38.4       660\n",
      "39.9       629\n",
      "63.95      616\n",
      "36.79      611\n",
      "         ...  \n",
      "105.6        3\n",
      "67.04        3\n",
      "70.83        3\n",
      "60.27        3\n",
      "99.40        3\n",
      "36.38        3\n",
      "72.73        2\n",
      "108.7        2\n",
      "85.69        2\n",
      "24.97        2\n",
      "103.5        2\n",
      "114.8        2\n",
      "33.07        2\n",
      "16.97        1\n",
      "51.3         1\n",
      "87.84        1\n",
      "68.94        1\n",
      "41.32        1\n",
      "46.48        1\n",
      "120.1        1\n",
      "24.2         1\n",
      "49.86        1\n",
      "77.01        1\n",
      "86.98        1\n",
      "126.2        1\n",
      "48.9         1\n",
      "44.02        1\n",
      "54.77        1\n",
      "59.15        1\n",
      "13.25        1\n",
      "Name: PUNT_IDIOMA, dtype: int64\n",
      "Elementos null/NaN 0\n",
      "__________________\n",
      "Elementos diferentes de null/NaN: 362279\n",
      "__________________\n",
      "(362279,)\n",
      "None\n"
     ]
    }
   ],
   "source": [
    "print(data_2004_2['PUNT_IDIOMA'].value_counts().index)\n",
    "print(data_2004_2['PUNT_IDIOMA'].value_counts())\n",
    "print(missing_data(data_2004_2['PUNT_IDIOMA']))"
   ]
  },
  {
   "cell_type": "code",
   "execution_count": 202,
   "metadata": {
    "collapsed": false
   },
   "outputs": [],
   "source": [
    "c = \"PUNT_IDIOMA\"\n",
    "data_2004_2[c] = data_2004_2[c].replace('---', np.nan)\n",
    "data_2004_2[c] = data_2004_2[c].replace('*', np.nan)\n",
    "for i in data_2004_2[c].value_counts().index:\n",
    "    if type(i) == str:\n",
    "        data_2004_2[c] = data_2004_2[c].replace(i, float(i))"
   ]
  },
  {
   "cell_type": "code",
   "execution_count": 203,
   "metadata": {
    "collapsed": true
   },
   "outputs": [],
   "source": [
    "data_2004_2['PUNT_IDIOMA'].fillna(np.mean(data_2004_2['PUNT_IDIOMA']), inplace=True)"
   ]
  },
  {
   "cell_type": "code",
   "execution_count": 209,
   "metadata": {
    "collapsed": true
   },
   "outputs": [],
   "source": [
    "idx = data_2004_2[data_2004_2['ESTU_NACIMIENTO_ANNO'].isnull()].index\n",
    "data_2004_2 = data_2004_2.drop(idx)"
   ]
  },
  {
   "cell_type": "markdown",
   "metadata": {},
   "source": [
    "Now i can transform the DataFrame in csv files"
   ]
  },
  {
   "cell_type": "code",
   "execution_count": 204,
   "metadata": {
    "collapsed": true
   },
   "outputs": [],
   "source": [
    "data_2004 = label_encoder(data_2004)\n",
    "data_2004_2 = label_encoder(data_2004_2)"
   ]
  },
  {
   "cell_type": "code",
   "execution_count": 214,
   "metadata": {
    "collapsed": true
   },
   "outputs": [],
   "source": [
    "#data_2004.to_csv('../DatosFTPICFES/SABER11/SB11-BASES_DE_DATOS/READY/2004_1.csv', sep = ';', index = False)\n",
    "data_2004_2.to_csv('../DatosFTPICFES/SABER11/SB11-BASES_DE_DATOS/READY/2004_2.csv', sep = ';', index = False)"
   ]
  }
 ],
 "metadata": {
  "kernelspec": {
   "display_name": "Python 3 + Anaconda",
   "language": "python",
   "name": "pyconda3"
  },
  "language_info": {
   "codemirror_mode": {
    "name": "ipython",
    "version": 3
   },
   "file_extension": ".py",
   "mimetype": "text/x-python",
   "name": "python",
   "nbconvert_exporter": "python",
   "pygments_lexer": "ipython3",
   "version": "3.5.1"
  }
 },
 "nbformat": 4,
 "nbformat_minor": 0
}
