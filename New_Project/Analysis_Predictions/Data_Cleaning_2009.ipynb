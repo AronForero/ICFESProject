{
 "cells": [
  {
   "cell_type": "code",
   "execution_count": 1,
   "metadata": {
    "collapsed": true
   },
   "outputs": [],
   "source": [
    "import pandas as pd\n",
    "import numpy as np\n",
    "%run -i ../tools/functions.py\n",
    "%run -i ../tools/label_encoder.py"
   ]
  },
  {
   "cell_type": "code",
   "execution_count": 2,
   "metadata": {
    "collapsed": true
   },
   "outputs": [],
   "source": [
    "data_2009 = pd.read_csv('../DatosFTPICFES/SABER11/SB11-BASES_DE_DATOS/SB11-20091-RGSTRO-CLFCCN-V1-0.txt', delimiter='|')"
   ]
  },
  {
   "cell_type": "code",
   "execution_count": 3,
   "metadata": {
    "collapsed": false
   },
   "outputs": [
    {
     "data": {
      "text/plain": [
       "(69743, 97)"
      ]
     },
     "execution_count": 3,
     "metadata": {},
     "output_type": "execute_result"
    }
   ],
   "source": [
    "data_2009.shape"
   ]
  },
  {
   "cell_type": "code",
   "execution_count": 4,
   "metadata": {
    "collapsed": false,
    "scrolled": true
   },
   "outputs": [
    {
     "data": {
      "text/html": [
       "<div>\n",
       "<table border=\"1\" class=\"dataframe\">\n",
       "  <thead>\n",
       "    <tr style=\"text-align: right;\">\n",
       "      <th></th>\n",
       "      <th>0</th>\n",
       "      <th>1</th>\n",
       "      <th>2</th>\n",
       "    </tr>\n",
       "  </thead>\n",
       "  <tbody>\n",
       "    <tr>\n",
       "      <th>ESTU_CONSECUTIVO</th>\n",
       "      <td>SB20091000001</td>\n",
       "      <td>SB20091000002</td>\n",
       "      <td>SB20091000003</td>\n",
       "    </tr>\n",
       "    <tr>\n",
       "      <th>PERIODO</th>\n",
       "      <td>20091</td>\n",
       "      <td>20091</td>\n",
       "      <td>20091</td>\n",
       "    </tr>\n",
       "    <tr>\n",
       "      <th>ESTU_TIPO_DOCUMENTO</th>\n",
       "      <td>T</td>\n",
       "      <td>T</td>\n",
       "      <td>T</td>\n",
       "    </tr>\n",
       "    <tr>\n",
       "      <th>ESTU_PAIS_RESIDE</th>\n",
       "      <td>CO</td>\n",
       "      <td>CO</td>\n",
       "      <td>CO</td>\n",
       "    </tr>\n",
       "    <tr>\n",
       "      <th>ESTU_GENERO</th>\n",
       "      <td>F</td>\n",
       "      <td>M</td>\n",
       "      <td>M</td>\n",
       "    </tr>\n",
       "    <tr>\n",
       "      <th>ESTU_NACIMIENTO_DIA</th>\n",
       "      <td>16</td>\n",
       "      <td>6</td>\n",
       "      <td>13</td>\n",
       "    </tr>\n",
       "    <tr>\n",
       "      <th>ESTU_NACIMIENTO_MES</th>\n",
       "      <td>5</td>\n",
       "      <td>11</td>\n",
       "      <td>12</td>\n",
       "    </tr>\n",
       "    <tr>\n",
       "      <th>ESTU_NACIMIENTO_ANNO</th>\n",
       "      <td>1992</td>\n",
       "      <td>1991</td>\n",
       "      <td>1991</td>\n",
       "    </tr>\n",
       "    <tr>\n",
       "      <th>ESTU_EDAD</th>\n",
       "      <td>16</td>\n",
       "      <td>17</td>\n",
       "      <td>17</td>\n",
       "    </tr>\n",
       "    <tr>\n",
       "      <th>ESTU_LIMITA_BAJAVISION</th>\n",
       "      <td>NaN</td>\n",
       "      <td>NaN</td>\n",
       "      <td>NaN</td>\n",
       "    </tr>\n",
       "    <tr>\n",
       "      <th>ESTU_LIMITA_SORDOCEGUERA</th>\n",
       "      <td>NaN</td>\n",
       "      <td>NaN</td>\n",
       "      <td>NaN</td>\n",
       "    </tr>\n",
       "    <tr>\n",
       "      <th>ESTU_LIMITA_COGNITIVA</th>\n",
       "      <td>NaN</td>\n",
       "      <td>NaN</td>\n",
       "      <td>NaN</td>\n",
       "    </tr>\n",
       "    <tr>\n",
       "      <th>ESTU_LIMITA_INVIDENTE</th>\n",
       "      <td>NaN</td>\n",
       "      <td>NaN</td>\n",
       "      <td>NaN</td>\n",
       "    </tr>\n",
       "    <tr>\n",
       "      <th>ESTU_LIMITA_MOTRIZ</th>\n",
       "      <td>NaN</td>\n",
       "      <td>NaN</td>\n",
       "      <td>NaN</td>\n",
       "    </tr>\n",
       "    <tr>\n",
       "      <th>ESTU_LIMITA_SORDOINTERPRETE</th>\n",
       "      <td>NaN</td>\n",
       "      <td>NaN</td>\n",
       "      <td>NaN</td>\n",
       "    </tr>\n",
       "    <tr>\n",
       "      <th>ESTU_LIMITA_SORDONOINTERPRETE</th>\n",
       "      <td>NaN</td>\n",
       "      <td>NaN</td>\n",
       "      <td>NaN</td>\n",
       "    </tr>\n",
       "    <tr>\n",
       "      <th>ESTU_ETNIA</th>\n",
       "      <td>NaN</td>\n",
       "      <td>NaN</td>\n",
       "      <td>NaN</td>\n",
       "    </tr>\n",
       "    <tr>\n",
       "      <th>ESTU_COD_RESIDE_MCPIO</th>\n",
       "      <td>76892</td>\n",
       "      <td>76892</td>\n",
       "      <td>76892</td>\n",
       "    </tr>\n",
       "    <tr>\n",
       "      <th>ESTU_RESIDE_MCPIO</th>\n",
       "      <td>YUMBO</td>\n",
       "      <td>YUMBO</td>\n",
       "      <td>YUMBO</td>\n",
       "    </tr>\n",
       "    <tr>\n",
       "      <th>ESTU_RESIDE_DEPTO</th>\n",
       "      <td>VALLE</td>\n",
       "      <td>VALLE</td>\n",
       "      <td>VALLE</td>\n",
       "    </tr>\n",
       "    <tr>\n",
       "      <th>ESTU_ZONA_RESIDE</th>\n",
       "      <td>10</td>\n",
       "      <td>10</td>\n",
       "      <td>10</td>\n",
       "    </tr>\n",
       "    <tr>\n",
       "      <th>ESTU_AREA_RESIDE</th>\n",
       "      <td>2</td>\n",
       "      <td>2</td>\n",
       "      <td>2</td>\n",
       "    </tr>\n",
       "    <tr>\n",
       "      <th>FAMI_EDUCA_PADRE</th>\n",
       "      <td>10</td>\n",
       "      <td>0</td>\n",
       "      <td>9</td>\n",
       "    </tr>\n",
       "    <tr>\n",
       "      <th>FAMI_EDUCA_MADRE</th>\n",
       "      <td>11</td>\n",
       "      <td>13</td>\n",
       "      <td>9</td>\n",
       "    </tr>\n",
       "    <tr>\n",
       "      <th>FAMI_OCUPA_PADRE</th>\n",
       "      <td>14</td>\n",
       "      <td>21</td>\n",
       "      <td>19</td>\n",
       "    </tr>\n",
       "    <tr>\n",
       "      <th>FAMI_OCUPA_MADRE</th>\n",
       "      <td>22</td>\n",
       "      <td>18</td>\n",
       "      <td>22</td>\n",
       "    </tr>\n",
       "    <tr>\n",
       "      <th>FAMI_EDUCA_HERMANO</th>\n",
       "      <td>88</td>\n",
       "      <td>NaN</td>\n",
       "      <td>88</td>\n",
       "    </tr>\n",
       "    <tr>\n",
       "      <th>FAMI_ESTRATO_VIVIENDA</th>\n",
       "      <td>2</td>\n",
       "      <td>1</td>\n",
       "      <td>2</td>\n",
       "    </tr>\n",
       "    <tr>\n",
       "      <th>FAMI_NIVEL_SISBEN</th>\n",
       "      <td>4</td>\n",
       "      <td>1</td>\n",
       "      <td>5</td>\n",
       "    </tr>\n",
       "    <tr>\n",
       "      <th>FAMI_PERSONAS_HOGAR</th>\n",
       "      <td>4</td>\n",
       "      <td>4</td>\n",
       "      <td>3</td>\n",
       "    </tr>\n",
       "    <tr>\n",
       "      <th>...</th>\n",
       "      <td>...</td>\n",
       "      <td>...</td>\n",
       "      <td>...</td>\n",
       "    </tr>\n",
       "    <tr>\n",
       "      <th>ESTU_VECES_ESTADO</th>\n",
       "      <td>0</td>\n",
       "      <td>1</td>\n",
       "      <td>0</td>\n",
       "    </tr>\n",
       "    <tr>\n",
       "      <th>ESTU_CARRDESEADA_TIPO</th>\n",
       "      <td>3</td>\n",
       "      <td>NaN</td>\n",
       "      <td>3</td>\n",
       "    </tr>\n",
       "    <tr>\n",
       "      <th>ESTU_CARRDESEADA_NUCLEO</th>\n",
       "      <td>42</td>\n",
       "      <td>NaN</td>\n",
       "      <td>41</td>\n",
       "    </tr>\n",
       "    <tr>\n",
       "      <th>ESTU_IES_COD_DESEADA</th>\n",
       "      <td>1203</td>\n",
       "      <td>1203</td>\n",
       "      <td>1203</td>\n",
       "    </tr>\n",
       "    <tr>\n",
       "      <th>ESTU_IES_DESEADA_NOMBRE</th>\n",
       "      <td>UNIVERSIDAD DEL VALLE</td>\n",
       "      <td>UNIVERSIDAD DEL VALLE</td>\n",
       "      <td>UNIVERSIDAD DEL VALLE</td>\n",
       "    </tr>\n",
       "    <tr>\n",
       "      <th>ESTU_IES_COD_MPIO_DESEADA</th>\n",
       "      <td>76001</td>\n",
       "      <td>76001</td>\n",
       "      <td>76001</td>\n",
       "    </tr>\n",
       "    <tr>\n",
       "      <th>ESTU_IES_MPIO_DESEADA</th>\n",
       "      <td>CALI</td>\n",
       "      <td>CALI</td>\n",
       "      <td>CALI</td>\n",
       "    </tr>\n",
       "    <tr>\n",
       "      <th>ESTU_IES_DEPT_DESEADA</th>\n",
       "      <td>VALLE</td>\n",
       "      <td>VALLE</td>\n",
       "      <td>VALLE</td>\n",
       "    </tr>\n",
       "    <tr>\n",
       "      <th>ESTU_RAZONINSTITUTO</th>\n",
       "      <td>2</td>\n",
       "      <td>3</td>\n",
       "      <td>2</td>\n",
       "    </tr>\n",
       "    <tr>\n",
       "      <th>ESTU_CARRDESEADA_COD</th>\n",
       "      <td>NaN</td>\n",
       "      <td>NaN</td>\n",
       "      <td>NaN</td>\n",
       "    </tr>\n",
       "    <tr>\n",
       "      <th>ESTU_CARRDESEADA_RAZON</th>\n",
       "      <td>3</td>\n",
       "      <td>7</td>\n",
       "      <td>1</td>\n",
       "    </tr>\n",
       "    <tr>\n",
       "      <th>ESTU_COD_MCPIO_PRESENTACION</th>\n",
       "      <td>76892</td>\n",
       "      <td>76892</td>\n",
       "      <td>76892</td>\n",
       "    </tr>\n",
       "    <tr>\n",
       "      <th>ESTU_MCPIO_PRESENTACION</th>\n",
       "      <td>YUMBO</td>\n",
       "      <td>YUMBO</td>\n",
       "      <td>YUMBO</td>\n",
       "    </tr>\n",
       "    <tr>\n",
       "      <th>ESTU_DEPTO_PRESENTACION</th>\n",
       "      <td>VALLE</td>\n",
       "      <td>VALLE</td>\n",
       "      <td>VALLE</td>\n",
       "    </tr>\n",
       "    <tr>\n",
       "      <th>ESTU_EXAM_NOMBREEXAMEN</th>\n",
       "      <td>EXAMEN DE ESTADO (ICFES)</td>\n",
       "      <td>EXAMEN DE ESTADO (ICFES)</td>\n",
       "      <td>EXAMEN DE ESTADO (ICFES)</td>\n",
       "    </tr>\n",
       "    <tr>\n",
       "      <th>PUNT_LENGUAJE</th>\n",
       "      <td>38,41</td>\n",
       "      <td>62,59</td>\n",
       "      <td>40,79</td>\n",
       "    </tr>\n",
       "    <tr>\n",
       "      <th>PUNT_MATEMATICAS</th>\n",
       "      <td>36,84</td>\n",
       "      <td>50,65</td>\n",
       "      <td>33,44</td>\n",
       "    </tr>\n",
       "    <tr>\n",
       "      <th>PUNT_C_SOCIALES</th>\n",
       "      <td>48,05</td>\n",
       "      <td>57,75</td>\n",
       "      <td>44,14</td>\n",
       "    </tr>\n",
       "    <tr>\n",
       "      <th>PUNT_FILOSOFIA</th>\n",
       "      <td>44,77</td>\n",
       "      <td>39,25</td>\n",
       "      <td>39,54</td>\n",
       "    </tr>\n",
       "    <tr>\n",
       "      <th>PUNT_BIOLOGIA</th>\n",
       "      <td>34,61</td>\n",
       "      <td>44</td>\n",
       "      <td>27,68</td>\n",
       "    </tr>\n",
       "    <tr>\n",
       "      <th>PUNT_QUIMICA</th>\n",
       "      <td>45,27</td>\n",
       "      <td>49,97</td>\n",
       "      <td>43,56</td>\n",
       "    </tr>\n",
       "    <tr>\n",
       "      <th>PUNT_FISICA</th>\n",
       "      <td>38,62</td>\n",
       "      <td>31,11</td>\n",
       "      <td>34,84</td>\n",
       "    </tr>\n",
       "    <tr>\n",
       "      <th>PUNT_INGLES</th>\n",
       "      <td>40,5</td>\n",
       "      <td>40,5</td>\n",
       "      <td>41,6</td>\n",
       "    </tr>\n",
       "    <tr>\n",
       "      <th>DESEMP_INGLES</th>\n",
       "      <td>A-</td>\n",
       "      <td>A-</td>\n",
       "      <td>A-</td>\n",
       "    </tr>\n",
       "    <tr>\n",
       "      <th>NOMBRE_PROFUNDIZACION</th>\n",
       "      <td>PROFUNDIZACIÓN EN LENGUAJE</td>\n",
       "      <td>PROFUNDIZACIÓN EN LENGUAJE</td>\n",
       "      <td>PROFUNDIZACIÓN EN BIOLOGÍA</td>\n",
       "    </tr>\n",
       "    <tr>\n",
       "      <th>PUNT_PROFUNDIZACION</th>\n",
       "      <td>4,38</td>\n",
       "      <td>4,38</td>\n",
       "      <td>4,17</td>\n",
       "    </tr>\n",
       "    <tr>\n",
       "      <th>DESEMP_PROFUNDIZACION</th>\n",
       "      <td>GB</td>\n",
       "      <td>GB</td>\n",
       "      <td>GB</td>\n",
       "    </tr>\n",
       "    <tr>\n",
       "      <th>NOMBRE_INTERDISCIPLINAR</th>\n",
       "      <td>MEDIO AMBIENTE</td>\n",
       "      <td>MEDIO AMBIENTE</td>\n",
       "      <td>VIOLENCIA Y SOCIEDAD</td>\n",
       "    </tr>\n",
       "    <tr>\n",
       "      <th>PUNT_INTERDISCIPLINAR</th>\n",
       "      <td>51,14</td>\n",
       "      <td>50,17</td>\n",
       "      <td>45,24</td>\n",
       "    </tr>\n",
       "    <tr>\n",
       "      <th>ESTU_PUESTO</th>\n",
       "      <td>794</td>\n",
       "      <td>309</td>\n",
       "      <td>893</td>\n",
       "    </tr>\n",
       "  </tbody>\n",
       "</table>\n",
       "<p>97 rows × 3 columns</p>\n",
       "</div>"
      ],
      "text/plain": [
       "                                                        0  \\\n",
       "ESTU_CONSECUTIVO                            SB20091000001   \n",
       "PERIODO                                             20091   \n",
       "ESTU_TIPO_DOCUMENTO                                     T   \n",
       "ESTU_PAIS_RESIDE                                       CO   \n",
       "ESTU_GENERO                                             F   \n",
       "ESTU_NACIMIENTO_DIA                                    16   \n",
       "ESTU_NACIMIENTO_MES                                     5   \n",
       "ESTU_NACIMIENTO_ANNO                                 1992   \n",
       "ESTU_EDAD                                              16   \n",
       "ESTU_LIMITA_BAJAVISION                                NaN   \n",
       "ESTU_LIMITA_SORDOCEGUERA                              NaN   \n",
       "ESTU_LIMITA_COGNITIVA                                 NaN   \n",
       "ESTU_LIMITA_INVIDENTE                                 NaN   \n",
       "ESTU_LIMITA_MOTRIZ                                    NaN   \n",
       "ESTU_LIMITA_SORDOINTERPRETE                           NaN   \n",
       "ESTU_LIMITA_SORDONOINTERPRETE                         NaN   \n",
       "ESTU_ETNIA                                            NaN   \n",
       "ESTU_COD_RESIDE_MCPIO                               76892   \n",
       "ESTU_RESIDE_MCPIO                                   YUMBO   \n",
       "ESTU_RESIDE_DEPTO                                   VALLE   \n",
       "ESTU_ZONA_RESIDE                                       10   \n",
       "ESTU_AREA_RESIDE                                        2   \n",
       "FAMI_EDUCA_PADRE                                       10   \n",
       "FAMI_EDUCA_MADRE                                       11   \n",
       "FAMI_OCUPA_PADRE                                       14   \n",
       "FAMI_OCUPA_MADRE                                       22   \n",
       "FAMI_EDUCA_HERMANO                                     88   \n",
       "FAMI_ESTRATO_VIVIENDA                                   2   \n",
       "FAMI_NIVEL_SISBEN                                       4   \n",
       "FAMI_PERSONAS_HOGAR                                     4   \n",
       "...                                                   ...   \n",
       "ESTU_VECES_ESTADO                                       0   \n",
       "ESTU_CARRDESEADA_TIPO                                   3   \n",
       "ESTU_CARRDESEADA_NUCLEO                                42   \n",
       "ESTU_IES_COD_DESEADA                                 1203   \n",
       "ESTU_IES_DESEADA_NOMBRE             UNIVERSIDAD DEL VALLE   \n",
       "ESTU_IES_COD_MPIO_DESEADA                           76001   \n",
       "ESTU_IES_MPIO_DESEADA                                CALI   \n",
       "ESTU_IES_DEPT_DESEADA                               VALLE   \n",
       "ESTU_RAZONINSTITUTO                                     2   \n",
       "ESTU_CARRDESEADA_COD                                  NaN   \n",
       "ESTU_CARRDESEADA_RAZON                                  3   \n",
       "ESTU_COD_MCPIO_PRESENTACION                         76892   \n",
       "ESTU_MCPIO_PRESENTACION                             YUMBO   \n",
       "ESTU_DEPTO_PRESENTACION                             VALLE   \n",
       "ESTU_EXAM_NOMBREEXAMEN           EXAMEN DE ESTADO (ICFES)   \n",
       "PUNT_LENGUAJE                                       38,41   \n",
       "PUNT_MATEMATICAS                                    36,84   \n",
       "PUNT_C_SOCIALES                                     48,05   \n",
       "PUNT_FILOSOFIA                                      44,77   \n",
       "PUNT_BIOLOGIA                                       34,61   \n",
       "PUNT_QUIMICA                                        45,27   \n",
       "PUNT_FISICA                                         38,62   \n",
       "PUNT_INGLES                                          40,5   \n",
       "DESEMP_INGLES                                         A-    \n",
       "NOMBRE_PROFUNDIZACION          PROFUNDIZACIÓN EN LENGUAJE   \n",
       "PUNT_PROFUNDIZACION                                  4,38   \n",
       "DESEMP_PROFUNDIZACION                                  GB   \n",
       "NOMBRE_INTERDISCIPLINAR                    MEDIO AMBIENTE   \n",
       "PUNT_INTERDISCIPLINAR                               51,14   \n",
       "ESTU_PUESTO                                           794   \n",
       "\n",
       "                                                        1  \\\n",
       "ESTU_CONSECUTIVO                            SB20091000002   \n",
       "PERIODO                                             20091   \n",
       "ESTU_TIPO_DOCUMENTO                                     T   \n",
       "ESTU_PAIS_RESIDE                                       CO   \n",
       "ESTU_GENERO                                             M   \n",
       "ESTU_NACIMIENTO_DIA                                     6   \n",
       "ESTU_NACIMIENTO_MES                                    11   \n",
       "ESTU_NACIMIENTO_ANNO                                 1991   \n",
       "ESTU_EDAD                                              17   \n",
       "ESTU_LIMITA_BAJAVISION                                NaN   \n",
       "ESTU_LIMITA_SORDOCEGUERA                              NaN   \n",
       "ESTU_LIMITA_COGNITIVA                                 NaN   \n",
       "ESTU_LIMITA_INVIDENTE                                 NaN   \n",
       "ESTU_LIMITA_MOTRIZ                                    NaN   \n",
       "ESTU_LIMITA_SORDOINTERPRETE                           NaN   \n",
       "ESTU_LIMITA_SORDONOINTERPRETE                         NaN   \n",
       "ESTU_ETNIA                                            NaN   \n",
       "ESTU_COD_RESIDE_MCPIO                               76892   \n",
       "ESTU_RESIDE_MCPIO                                   YUMBO   \n",
       "ESTU_RESIDE_DEPTO                                   VALLE   \n",
       "ESTU_ZONA_RESIDE                                       10   \n",
       "ESTU_AREA_RESIDE                                        2   \n",
       "FAMI_EDUCA_PADRE                                        0   \n",
       "FAMI_EDUCA_MADRE                                       13   \n",
       "FAMI_OCUPA_PADRE                                       21   \n",
       "FAMI_OCUPA_MADRE                                       18   \n",
       "FAMI_EDUCA_HERMANO                                    NaN   \n",
       "FAMI_ESTRATO_VIVIENDA                                   1   \n",
       "FAMI_NIVEL_SISBEN                                       1   \n",
       "FAMI_PERSONAS_HOGAR                                     4   \n",
       "...                                                   ...   \n",
       "ESTU_VECES_ESTADO                                       1   \n",
       "ESTU_CARRDESEADA_TIPO                                 NaN   \n",
       "ESTU_CARRDESEADA_NUCLEO                               NaN   \n",
       "ESTU_IES_COD_DESEADA                                 1203   \n",
       "ESTU_IES_DESEADA_NOMBRE             UNIVERSIDAD DEL VALLE   \n",
       "ESTU_IES_COD_MPIO_DESEADA                           76001   \n",
       "ESTU_IES_MPIO_DESEADA                                CALI   \n",
       "ESTU_IES_DEPT_DESEADA                               VALLE   \n",
       "ESTU_RAZONINSTITUTO                                     3   \n",
       "ESTU_CARRDESEADA_COD                                  NaN   \n",
       "ESTU_CARRDESEADA_RAZON                                  7   \n",
       "ESTU_COD_MCPIO_PRESENTACION                         76892   \n",
       "ESTU_MCPIO_PRESENTACION                             YUMBO   \n",
       "ESTU_DEPTO_PRESENTACION                             VALLE   \n",
       "ESTU_EXAM_NOMBREEXAMEN           EXAMEN DE ESTADO (ICFES)   \n",
       "PUNT_LENGUAJE                                       62,59   \n",
       "PUNT_MATEMATICAS                                    50,65   \n",
       "PUNT_C_SOCIALES                                     57,75   \n",
       "PUNT_FILOSOFIA                                      39,25   \n",
       "PUNT_BIOLOGIA                                          44   \n",
       "PUNT_QUIMICA                                        49,97   \n",
       "PUNT_FISICA                                         31,11   \n",
       "PUNT_INGLES                                          40,5   \n",
       "DESEMP_INGLES                                         A-    \n",
       "NOMBRE_PROFUNDIZACION          PROFUNDIZACIÓN EN LENGUAJE   \n",
       "PUNT_PROFUNDIZACION                                  4,38   \n",
       "DESEMP_PROFUNDIZACION                                  GB   \n",
       "NOMBRE_INTERDISCIPLINAR                    MEDIO AMBIENTE   \n",
       "PUNT_INTERDISCIPLINAR                               50,17   \n",
       "ESTU_PUESTO                                           309   \n",
       "\n",
       "                                                        2  \n",
       "ESTU_CONSECUTIVO                            SB20091000003  \n",
       "PERIODO                                             20091  \n",
       "ESTU_TIPO_DOCUMENTO                                     T  \n",
       "ESTU_PAIS_RESIDE                                       CO  \n",
       "ESTU_GENERO                                             M  \n",
       "ESTU_NACIMIENTO_DIA                                    13  \n",
       "ESTU_NACIMIENTO_MES                                    12  \n",
       "ESTU_NACIMIENTO_ANNO                                 1991  \n",
       "ESTU_EDAD                                              17  \n",
       "ESTU_LIMITA_BAJAVISION                                NaN  \n",
       "ESTU_LIMITA_SORDOCEGUERA                              NaN  \n",
       "ESTU_LIMITA_COGNITIVA                                 NaN  \n",
       "ESTU_LIMITA_INVIDENTE                                 NaN  \n",
       "ESTU_LIMITA_MOTRIZ                                    NaN  \n",
       "ESTU_LIMITA_SORDOINTERPRETE                           NaN  \n",
       "ESTU_LIMITA_SORDONOINTERPRETE                         NaN  \n",
       "ESTU_ETNIA                                            NaN  \n",
       "ESTU_COD_RESIDE_MCPIO                               76892  \n",
       "ESTU_RESIDE_MCPIO                                   YUMBO  \n",
       "ESTU_RESIDE_DEPTO                                   VALLE  \n",
       "ESTU_ZONA_RESIDE                                       10  \n",
       "ESTU_AREA_RESIDE                                        2  \n",
       "FAMI_EDUCA_PADRE                                        9  \n",
       "FAMI_EDUCA_MADRE                                        9  \n",
       "FAMI_OCUPA_PADRE                                       19  \n",
       "FAMI_OCUPA_MADRE                                       22  \n",
       "FAMI_EDUCA_HERMANO                                     88  \n",
       "FAMI_ESTRATO_VIVIENDA                                   2  \n",
       "FAMI_NIVEL_SISBEN                                       5  \n",
       "FAMI_PERSONAS_HOGAR                                     3  \n",
       "...                                                   ...  \n",
       "ESTU_VECES_ESTADO                                       0  \n",
       "ESTU_CARRDESEADA_TIPO                                   3  \n",
       "ESTU_CARRDESEADA_NUCLEO                                41  \n",
       "ESTU_IES_COD_DESEADA                                 1203  \n",
       "ESTU_IES_DESEADA_NOMBRE             UNIVERSIDAD DEL VALLE  \n",
       "ESTU_IES_COD_MPIO_DESEADA                           76001  \n",
       "ESTU_IES_MPIO_DESEADA                                CALI  \n",
       "ESTU_IES_DEPT_DESEADA                               VALLE  \n",
       "ESTU_RAZONINSTITUTO                                     2  \n",
       "ESTU_CARRDESEADA_COD                                  NaN  \n",
       "ESTU_CARRDESEADA_RAZON                                  1  \n",
       "ESTU_COD_MCPIO_PRESENTACION                         76892  \n",
       "ESTU_MCPIO_PRESENTACION                             YUMBO  \n",
       "ESTU_DEPTO_PRESENTACION                             VALLE  \n",
       "ESTU_EXAM_NOMBREEXAMEN           EXAMEN DE ESTADO (ICFES)  \n",
       "PUNT_LENGUAJE                                       40,79  \n",
       "PUNT_MATEMATICAS                                    33,44  \n",
       "PUNT_C_SOCIALES                                     44,14  \n",
       "PUNT_FILOSOFIA                                      39,54  \n",
       "PUNT_BIOLOGIA                                       27,68  \n",
       "PUNT_QUIMICA                                        43,56  \n",
       "PUNT_FISICA                                         34,84  \n",
       "PUNT_INGLES                                          41,6  \n",
       "DESEMP_INGLES                                         A-   \n",
       "NOMBRE_PROFUNDIZACION          PROFUNDIZACIÓN EN BIOLOGÍA  \n",
       "PUNT_PROFUNDIZACION                                  4,17  \n",
       "DESEMP_PROFUNDIZACION                                  GB  \n",
       "NOMBRE_INTERDISCIPLINAR              VIOLENCIA Y SOCIEDAD  \n",
       "PUNT_INTERDISCIPLINAR                               45,24  \n",
       "ESTU_PUESTO                                           893  \n",
       "\n",
       "[97 rows x 3 columns]"
      ]
     },
     "execution_count": 4,
     "metadata": {},
     "output_type": "execute_result"
    }
   ],
   "source": [
    "data_2009.head(3).T"
   ]
  },
  {
   "cell_type": "code",
   "execution_count": 5,
   "metadata": {
    "collapsed": true
   },
   "outputs": [],
   "source": [
    "data_2009 = data_2009.drop(['ESTU_CONSECUTIVO', 'PERIODO', 'ESTU_TIPO_DOCUMENTO', 'ESTU_COD_RESIDE_MCPIO',\n",
    "                           'COLE_NOMBRE_SEDE', 'ESTU_IES_DESEADA_NOMBRE', 'ESTU_IES_COD_MPIO_DESEADA',\n",
    "                           'ESTU_COD_MCPIO_PRESENTACION', 'ESTU_EXAM_NOMBREEXAMEN'], axis=1)"
   ]
  },
  {
   "cell_type": "code",
   "execution_count": 6,
   "metadata": {
    "collapsed": false,
    "scrolled": true
   },
   "outputs": [
    {
     "name": "stdout",
     "output_type": "stream",
     "text": [
      "Index(['AR', 'BR', 'CN', 'CO', 'CU', 'DE', 'DO', 'EC', 'ES', 'FR', 'IT', 'JP',\n",
      "       'PE', 'RO', 'TW', 'US', 'VE'],\n",
      "      dtype='object')\n",
      "AR        2\n",
      "BR        2\n",
      "CN        1\n",
      "CO    69629\n",
      "CU        3\n",
      "DE        1\n",
      "DO        1\n",
      "EC        3\n",
      "ES        3\n",
      "FR        1\n",
      "IT        1\n",
      "JP        1\n",
      "PE        2\n",
      "RO        1\n",
      "TW        1\n",
      "US        5\n",
      "VE        5\n",
      "Name: ESTU_PAIS_RESIDE, dtype: int64\n",
      "Elementos null/NaN 81\n",
      "__________________\n",
      "Elementos diferentes de null/NaN: 69662\n",
      "__________________\n",
      "(69662,)\n",
      "None\n"
     ]
    }
   ],
   "source": [
    "c = 'ESTU_PAIS_RESIDE'\n",
    "print(data_2009[c].value_counts().sort_index().index)\n",
    "print(data_2009[c].value_counts().sort_index())\n",
    "print(missing_data(data_2009[c]))"
   ]
  },
  {
   "cell_type": "code",
   "execution_count": 7,
   "metadata": {
    "collapsed": false
   },
   "outputs": [
    {
     "name": "stdout",
     "output_type": "stream",
     "text": [
      "Index(['F', 'M'], dtype='object')\n",
      "F    37773\n",
      "M    31952\n",
      "Name: ESTU_GENERO, dtype: int64\n",
      "Elementos null/NaN 18\n",
      "__________________\n",
      "Elementos diferentes de null/NaN: 69725\n",
      "__________________\n",
      "(69725,)\n",
      "None\n"
     ]
    }
   ],
   "source": [
    "c = 'ESTU_GENERO'\n",
    "print(data_2009[c].value_counts().sort_index().index)\n",
    "print(data_2009[c].value_counts().sort_index())\n",
    "print(missing_data(data_2009[c]))"
   ]
  },
  {
   "cell_type": "code",
   "execution_count": 8,
   "metadata": {
    "collapsed": false,
    "scrolled": true
   },
   "outputs": [
    {
     "name": "stdout",
     "output_type": "stream",
     "text": [
      "Float64Index([ 1.0,  2.0,  3.0,  4.0,  5.0,  6.0,  7.0,  8.0,  9.0, 10.0, 11.0,\n",
      "              12.0, 13.0, 14.0, 15.0, 16.0, 17.0, 18.0, 19.0, 20.0, 21.0, 22.0,\n",
      "              23.0, 24.0, 25.0, 26.0, 27.0, 28.0, 29.0, 30.0, 31.0],\n",
      "             dtype='float64')\n",
      "1     2401\n",
      "2     2246\n",
      "3     2375\n",
      "4     2295\n",
      "5     2279\n",
      "6     2273\n",
      "7     2317\n",
      "8     2259\n",
      "9     2269\n",
      "10    2328\n",
      "11    2340\n",
      "12    2307\n",
      "13    2204\n",
      "14    2237\n",
      "15    2327\n",
      "16    2261\n",
      "17    2333\n",
      "18    2334\n",
      "19    2274\n",
      "20    2399\n",
      "21    2246\n",
      "22    2254\n",
      "23    2321\n",
      "24    2329\n",
      "25    2307\n",
      "26    2219\n",
      "27    2316\n",
      "28    2309\n",
      "29    2095\n",
      "30    2007\n",
      "31    1257\n",
      "Name: ESTU_NACIMIENTO_DIA, dtype: int64\n",
      "Elementos null/NaN 25\n",
      "__________________\n",
      "Elementos diferentes de null/NaN: 69718\n",
      "__________________\n",
      "(69718,)\n",
      "None\n"
     ]
    }
   ],
   "source": [
    "c = 'ESTU_NACIMIENTO_DIA'\n",
    "print(data_2009[c].value_counts().sort_index().index)\n",
    "print(data_2009[c].value_counts().sort_index())\n",
    "print(missing_data(data_2009[c]))"
   ]
  },
  {
   "cell_type": "code",
   "execution_count": 9,
   "metadata": {
    "collapsed": false
   },
   "outputs": [
    {
     "name": "stdout",
     "output_type": "stream",
     "text": [
      "Float64Index([1.0, 2.0, 3.0, 4.0, 5.0, 6.0, 7.0, 8.0, 9.0, 10.0, 11.0, 12.0], dtype='float64')\n",
      "1     5508\n",
      "2     5212\n",
      "3     5805\n",
      "4     5543\n",
      "5     5899\n",
      "6     5647\n",
      "7     6049\n",
      "8     6025\n",
      "9     6284\n",
      "10    5921\n",
      "11    5618\n",
      "12    6207\n",
      "Name: ESTU_NACIMIENTO_MES, dtype: int64\n",
      "Elementos null/NaN 25\n",
      "__________________\n",
      "Elementos diferentes de null/NaN: 69718\n",
      "__________________\n",
      "(69718,)\n",
      "None\n"
     ]
    }
   ],
   "source": [
    "c = 'ESTU_NACIMIENTO_MES'\n",
    "print(data_2009[c].value_counts().sort_index().index)\n",
    "print(data_2009[c].value_counts().sort_index())\n",
    "print(missing_data(data_2009[c]))"
   ]
  },
  {
   "cell_type": "code",
   "execution_count": 10,
   "metadata": {
    "collapsed": false,
    "scrolled": true
   },
   "outputs": [
    {
     "name": "stdout",
     "output_type": "stream",
     "text": [
      "Float64Index([1930.0, 1941.0, 1942.0, 1944.0, 1945.0, 1946.0, 1947.0, 1948.0,\n",
      "              1949.0, 1950.0, 1951.0, 1952.0, 1953.0, 1954.0, 1955.0, 1956.0,\n",
      "              1957.0, 1958.0, 1959.0, 1960.0, 1961.0, 1962.0, 1963.0, 1964.0,\n",
      "              1965.0, 1966.0, 1967.0, 1968.0, 1969.0, 1970.0, 1971.0, 1972.0,\n",
      "              1973.0, 1974.0, 1975.0, 1976.0, 1977.0, 1978.0, 1979.0, 1980.0,\n",
      "              1981.0, 1982.0, 1983.0, 1984.0, 1985.0, 1986.0, 1987.0, 1988.0,\n",
      "              1989.0, 1990.0, 1991.0, 1992.0, 1993.0, 1994.0, 1995.0, 1996.0,\n",
      "              1999.0, 2000.0, 2001.0, 2002.0],\n",
      "             dtype='float64')\n",
      "1930        2\n",
      "1941        1\n",
      "1942        3\n",
      "1944        2\n",
      "1945        1\n",
      "1946        4\n",
      "1947        2\n",
      "1948        5\n",
      "1949        3\n",
      "1950       10\n",
      "1951        5\n",
      "1952       11\n",
      "1953       16\n",
      "1954       14\n",
      "1955       20\n",
      "1956       18\n",
      "1957       23\n",
      "1958       25\n",
      "1959       28\n",
      "1960       42\n",
      "1961       40\n",
      "1962       50\n",
      "1963       61\n",
      "1964       71\n",
      "1965       60\n",
      "1966       68\n",
      "1967       69\n",
      "1968       84\n",
      "1969       97\n",
      "1970      106\n",
      "1971       94\n",
      "1972      127\n",
      "1973      110\n",
      "1974      129\n",
      "1975      121\n",
      "1976      131\n",
      "1977      160\n",
      "1978      146\n",
      "1979      197\n",
      "1980      233\n",
      "1981      210\n",
      "1982      282\n",
      "1983      315\n",
      "1984      342\n",
      "1985      445\n",
      "1986      552\n",
      "1987      835\n",
      "1988     1425\n",
      "1989     3100\n",
      "1990     7806\n",
      "1991    17010\n",
      "1992    27076\n",
      "1993     7436\n",
      "1994      437\n",
      "1995       34\n",
      "1996        2\n",
      "1999        1\n",
      "2000       10\n",
      "2001        8\n",
      "2002        3\n",
      "Name: ESTU_NACIMIENTO_ANNO, dtype: int64\n",
      "Elementos null/NaN 25\n",
      "__________________\n",
      "Elementos diferentes de null/NaN: 69718\n",
      "__________________\n",
      "(69718,)\n",
      "None\n"
     ]
    }
   ],
   "source": [
    "c = 'ESTU_NACIMIENTO_ANNO'\n",
    "print(data_2009[c].value_counts().sort_index().index)\n",
    "print(data_2009[c].value_counts().sort_index())\n",
    "print(missing_data(data_2009[c]))"
   ]
  },
  {
   "cell_type": "code",
   "execution_count": 11,
   "metadata": {
    "collapsed": false
   },
   "outputs": [],
   "source": [
    "for i in data_2009[c].value_counts().sort_index().index:\n",
    "    if i < 1931:\n",
    "        data_2009[c] = data_2009[c].replace(i, np.nan)\n",
    "    elif i > 1996:\n",
    "        data_2009[c] = data_2009[c].replace(i, np.nan)"
   ]
  },
  {
   "cell_type": "code",
   "execution_count": 12,
   "metadata": {
    "collapsed": false,
    "scrolled": true
   },
   "outputs": [
    {
     "name": "stdout",
     "output_type": "stream",
     "text": [
      "Int64Index([13, 14, 15, 16, 17, 18, 19, 20, 21, 22, 23, 24, 25, 26, 27, 28, 29,\n",
      "            30, 31, 32, 33, 34, 35, 36, 37, 38, 39, 40, 41, 42, 43, 44, 45, 46,\n",
      "            47, 48, 49, 50, 51, 52, 53, 54, 55, 56, 57, 58, 59, 60, 61, 62, 63,\n",
      "            64, 65, 66, 67, 78],\n",
      "           dtype='int64')\n",
      "13       23\n",
      "14      267\n",
      "15     4549\n",
      "16    25553\n",
      "17    18920\n",
      "18     9488\n",
      "19     3696\n",
      "20     1625\n",
      "21      902\n",
      "22      631\n",
      "23      452\n",
      "24      365\n",
      "25      326\n",
      "26      295\n",
      "27      216\n",
      "28      244\n",
      "29      201\n",
      "30      144\n",
      "31      158\n",
      "32      132\n",
      "33      135\n",
      "34      119\n",
      "35      121\n",
      "36      123\n",
      "37       99\n",
      "38      104\n",
      "39      101\n",
      "40       88\n",
      "41       72\n",
      "42       68\n",
      "43       60\n",
      "44       69\n",
      "45       65\n",
      "46       51\n",
      "47       43\n",
      "48       38\n",
      "49       35\n",
      "50       24\n",
      "51       20\n",
      "52       19\n",
      "53       22\n",
      "54       12\n",
      "55       18\n",
      "56        9\n",
      "57        7\n",
      "58        9\n",
      "59        5\n",
      "60        4\n",
      "61        3\n",
      "62        3\n",
      "63        2\n",
      "64        1\n",
      "65        1\n",
      "66        3\n",
      "67        1\n",
      "78        2\n",
      "Name: ESTU_EDAD, dtype: int64\n",
      "Elementos null/NaN 0\n",
      "__________________\n",
      "Elementos diferentes de null/NaN: 69743\n",
      "__________________\n",
      "(69743,)\n",
      "None\n"
     ]
    }
   ],
   "source": [
    "c = 'ESTU_EDAD'\n",
    "print(data_2009[c].value_counts().sort_index().index)\n",
    "print(data_2009[c].value_counts().sort_index())\n",
    "print(missing_data(data_2009[c]))"
   ]
  },
  {
   "cell_type": "code",
   "execution_count": 13,
   "metadata": {
    "collapsed": false
   },
   "outputs": [
    {
     "name": "stdout",
     "output_type": "stream",
     "text": [
      "Float64Index([], dtype='float64')\n",
      "Series([], Name: ESTU_LIMITA_BAJAVISION, dtype: int64)\n",
      "Elementos null/NaN 69743\n",
      "__________________\n",
      "Elementos diferentes de null/NaN: 0\n",
      "__________________\n",
      "(0,)\n",
      "None\n"
     ]
    }
   ],
   "source": [
    "c = 'ESTU_LIMITA_BAJAVISION'\n",
    "print(data_2009[c].value_counts().sort_index().index)\n",
    "print(data_2009[c].value_counts().sort_index())\n",
    "print(missing_data(data_2009[c]))"
   ]
  },
  {
   "cell_type": "code",
   "execution_count": 14,
   "metadata": {
    "collapsed": true
   },
   "outputs": [],
   "source": [
    "data_2009 = data_2009.drop([c], axis=1)"
   ]
  },
  {
   "cell_type": "code",
   "execution_count": 15,
   "metadata": {
    "collapsed": false
   },
   "outputs": [
    {
     "name": "stdout",
     "output_type": "stream",
     "text": [
      "Float64Index([], dtype='float64')\n",
      "Series([], Name: ESTU_LIMITA_SORDOCEGUERA, dtype: int64)\n",
      "Elementos null/NaN 69743\n",
      "__________________\n",
      "Elementos diferentes de null/NaN: 0\n",
      "__________________\n",
      "(0,)\n",
      "None\n"
     ]
    }
   ],
   "source": [
    "c = 'ESTU_LIMITA_SORDOCEGUERA'\n",
    "print(data_2009[c].value_counts().sort_index().index)\n",
    "print(data_2009[c].value_counts().sort_index())\n",
    "print(missing_data(data_2009[c]))"
   ]
  },
  {
   "cell_type": "code",
   "execution_count": 16,
   "metadata": {
    "collapsed": true
   },
   "outputs": [],
   "source": [
    "data_2009 = data_2009.drop([c], axis=1)"
   ]
  },
  {
   "cell_type": "code",
   "execution_count": 17,
   "metadata": {
    "collapsed": false
   },
   "outputs": [
    {
     "name": "stdout",
     "output_type": "stream",
     "text": [
      "Float64Index([], dtype='float64')\n",
      "Series([], Name: ESTU_LIMITA_COGNITIVA, dtype: int64)\n",
      "Elementos null/NaN 69743\n",
      "__________________\n",
      "Elementos diferentes de null/NaN: 0\n",
      "__________________\n",
      "(0,)\n",
      "None\n"
     ]
    }
   ],
   "source": [
    "c = 'ESTU_LIMITA_COGNITIVA'\n",
    "print(data_2009[c].value_counts().sort_index().index)\n",
    "print(data_2009[c].value_counts().sort_index())\n",
    "print(missing_data(data_2009[c]))"
   ]
  },
  {
   "cell_type": "code",
   "execution_count": 18,
   "metadata": {
    "collapsed": true
   },
   "outputs": [],
   "source": [
    "data_2009 = data_2009.drop([c], axis=1)"
   ]
  },
  {
   "cell_type": "code",
   "execution_count": 19,
   "metadata": {
    "collapsed": false
   },
   "outputs": [
    {
     "name": "stdout",
     "output_type": "stream",
     "text": [
      "Float64Index([], dtype='float64')\n",
      "Series([], Name: ESTU_LIMITA_INVIDENTE, dtype: int64)\n",
      "Elementos null/NaN 69743\n",
      "__________________\n",
      "Elementos diferentes de null/NaN: 0\n",
      "__________________\n",
      "(0,)\n",
      "None\n"
     ]
    }
   ],
   "source": [
    "c = 'ESTU_LIMITA_INVIDENTE'\n",
    "print(data_2009[c].value_counts().sort_index().index)\n",
    "print(data_2009[c].value_counts().sort_index())\n",
    "print(missing_data(data_2009[c]))"
   ]
  },
  {
   "cell_type": "code",
   "execution_count": 20,
   "metadata": {
    "collapsed": true
   },
   "outputs": [],
   "source": [
    "data_2009 = data_2009.drop([c], axis=1)"
   ]
  },
  {
   "cell_type": "code",
   "execution_count": 21,
   "metadata": {
    "collapsed": false
   },
   "outputs": [
    {
     "name": "stdout",
     "output_type": "stream",
     "text": [
      "Float64Index([], dtype='float64')\n",
      "Series([], Name: ESTU_LIMITA_MOTRIZ, dtype: int64)\n",
      "Elementos null/NaN 69743\n",
      "__________________\n",
      "Elementos diferentes de null/NaN: 0\n",
      "__________________\n",
      "(0,)\n",
      "None\n"
     ]
    }
   ],
   "source": [
    "c = 'ESTU_LIMITA_MOTRIZ'\n",
    "print(data_2009[c].value_counts().sort_index().index)\n",
    "print(data_2009[c].value_counts().sort_index())\n",
    "print(missing_data(data_2009[c]))"
   ]
  },
  {
   "cell_type": "code",
   "execution_count": 22,
   "metadata": {
    "collapsed": true
   },
   "outputs": [],
   "source": [
    "data_2009 = data_2009.drop([c], axis=1)"
   ]
  },
  {
   "cell_type": "code",
   "execution_count": 23,
   "metadata": {
    "collapsed": false
   },
   "outputs": [
    {
     "name": "stdout",
     "output_type": "stream",
     "text": [
      "Float64Index([], dtype='float64')\n",
      "Series([], Name: ESTU_LIMITA_SORDOINTERPRETE, dtype: int64)\n",
      "Elementos null/NaN 69743\n",
      "__________________\n",
      "Elementos diferentes de null/NaN: 0\n",
      "__________________\n",
      "(0,)\n",
      "None\n"
     ]
    }
   ],
   "source": [
    "c = 'ESTU_LIMITA_SORDOINTERPRETE'\n",
    "print(data_2009[c].value_counts().sort_index().index)\n",
    "print(data_2009[c].value_counts().sort_index())\n",
    "print(missing_data(data_2009[c]))"
   ]
  },
  {
   "cell_type": "code",
   "execution_count": 24,
   "metadata": {
    "collapsed": true
   },
   "outputs": [],
   "source": [
    "data_2009 = data_2009.drop([c], axis=1)"
   ]
  },
  {
   "cell_type": "code",
   "execution_count": 25,
   "metadata": {
    "collapsed": false
   },
   "outputs": [
    {
     "name": "stdout",
     "output_type": "stream",
     "text": [
      "Float64Index([], dtype='float64')\n",
      "Series([], Name: ESTU_LIMITA_SORDONOINTERPRETE, dtype: int64)\n",
      "Elementos null/NaN 69743\n",
      "__________________\n",
      "Elementos diferentes de null/NaN: 0\n",
      "__________________\n",
      "(0,)\n",
      "None\n"
     ]
    }
   ],
   "source": [
    "c = 'ESTU_LIMITA_SORDONOINTERPRETE'\n",
    "print(data_2009[c].value_counts().sort_index().index)\n",
    "print(data_2009[c].value_counts().sort_index())\n",
    "print(missing_data(data_2009[c]))"
   ]
  },
  {
   "cell_type": "code",
   "execution_count": 26,
   "metadata": {
    "collapsed": true
   },
   "outputs": [],
   "source": [
    "data_2009 = data_2009.drop([c], axis=1)"
   ]
  },
  {
   "cell_type": "code",
   "execution_count": 27,
   "metadata": {
    "collapsed": false,
    "scrolled": true
   },
   "outputs": [
    {
     "name": "stdout",
     "output_type": "stream",
     "text": [
      "Float64Index([ 1.0,  2.0,  3.0,  4.0,  5.0,  6.0,  7.0,  8.0,  9.0, 10.0, 11.0,\n",
      "              12.0, 13.0, 14.0, 15.0, 16.0, 17.0, 99.0],\n",
      "             dtype='float64')\n",
      "1     2758\n",
      "2       46\n",
      "3       69\n",
      "4       12\n",
      "5       10\n",
      "6       16\n",
      "7        6\n",
      "8        7\n",
      "9       12\n",
      "10       1\n",
      "11     996\n",
      "12       2\n",
      "13      24\n",
      "14       2\n",
      "15       2\n",
      "16       2\n",
      "17       3\n",
      "99    1369\n",
      "Name: ESTU_ETNIA, dtype: int64\n",
      "Elementos null/NaN 64406\n",
      "__________________\n",
      "Elementos diferentes de null/NaN: 5337\n",
      "__________________\n",
      "(5337,)\n",
      "None\n"
     ]
    }
   ],
   "source": [
    "c = 'ESTU_ETNIA'\n",
    "print(data_2009[c].value_counts().sort_index().index)\n",
    "print(data_2009[c].value_counts().sort_index())\n",
    "print(missing_data(data_2009[c]))"
   ]
  },
  {
   "cell_type": "code",
   "execution_count": 28,
   "metadata": {
    "collapsed": false,
    "scrolled": true
   },
   "outputs": [
    {
     "name": "stdout",
     "output_type": "stream",
     "text": [
      "Index(['ABEJORRAL', 'ACACIAS', 'ACEVEDO', 'AGUACHICA', 'AGUAZUL',\n",
      "       'AGUSTIN CODAZZI', 'AIPE', 'ALBAN', 'ALBAN (SAN JOSE)', 'ALBANIA',\n",
      "       ...\n",
      "       'VITERBO', 'YACUANQUER', 'YARUMAL', 'YOPAL', 'YOTOCO', 'YUMBO',\n",
      "       'ZARAGOZA', 'ZARZAL', 'ZIPACON', 'ZIPAQUIRA'],\n",
      "      dtype='object', length=413)\n",
      "ABEJORRAL                      5\n",
      "ACACIAS                        7\n",
      "ACEVEDO                        1\n",
      "AGUACHICA                     33\n",
      "AGUAZUL                       14\n",
      "AGUSTIN CODAZZI               11\n",
      "AIPE                           1\n",
      "ALBAN                          3\n",
      "ALBAN (SAN JOSE)              88\n",
      "ALBANIA                       83\n",
      "ALCALA                        86\n",
      "ALDANA                        80\n",
      "ALGARROBO                      1\n",
      "AMAGA                          1\n",
      "ANCUYA                        97\n",
      "ANDALUCIA                    196\n",
      "ANDES                          2\n",
      "ANGELOPOLIS                   25\n",
      "ANORI                          2\n",
      "ANSERMANUEVO                 148\n",
      "APARTADO                      24\n",
      "ARAUCA                        47\n",
      "ARAUQUITA                     15\n",
      "ARBOLEDA (BERRUECOS)          51\n",
      "ARBOLETES                      2\n",
      "ARCABUCO                       1\n",
      "ARGELIA                       45\n",
      "ARJONA                         2\n",
      "ARMENIA                      145\n",
      "ATACO                          1\n",
      "                            ... \n",
      "TUNJA                         72\n",
      "TUQUERRES                    413\n",
      "TURBACO                       27\n",
      "TURBO                         22\n",
      "UBATE                          8\n",
      "ULLOA                          1\n",
      "UNE                            4\n",
      "VALDIVIA                       4\n",
      "VALENCIA                       8\n",
      "VALLEDUPAR                    66\n",
      "VENECIA (OSPINA PEREZ)         1\n",
      "VENTAQUEMADA                   1\n",
      "VERSALLES                     75\n",
      "VIJES                         80\n",
      "VILLA GUAMEZ (LA HORMIGA)      7\n",
      "VILLA RICA                     9\n",
      "VILLAGARZON                    2\n",
      "VILLAMARIA                     6\n",
      "VILLAVICENCIO                248\n",
      "VILLETA                       21\n",
      "VITERBO                        1\n",
      "YACUANQUER                   113\n",
      "YARUMAL                       18\n",
      "YOPAL                        110\n",
      "YOTOCO                       110\n",
      "YUMBO                        978\n",
      "ZARAGOZA                      69\n",
      "ZARZAL                       484\n",
      "ZIPACON                        3\n",
      "ZIPAQUIRA                     91\n",
      "Name: ESTU_RESIDE_MCPIO, dtype: int64\n",
      "Elementos null/NaN 18\n",
      "__________________\n",
      "Elementos diferentes de null/NaN: 69725\n",
      "__________________\n",
      "(69725,)\n",
      "None\n"
     ]
    }
   ],
   "source": [
    "c = 'ESTU_RESIDE_MCPIO'\n",
    "print(data_2009[c].value_counts().sort_index().index)\n",
    "print(data_2009[c].value_counts().sort_index())\n",
    "print(missing_data(data_2009[c]))"
   ]
  },
  {
   "cell_type": "code",
   "execution_count": 29,
   "metadata": {
    "collapsed": false,
    "scrolled": true
   },
   "outputs": [
    {
     "name": "stdout",
     "output_type": "stream",
     "text": [
      "Index(['AMAZONAS', 'ANTIOQUIA', 'ARAUCA', 'ATLÁNTICO', 'BOGOTÁ', 'BOLÍVAR',\n",
      "       'BOYACÁ', 'CALDAS', 'CAQUETÁ', 'CASANARE', 'CAUCA', 'CESAR', 'CHOCÓ',\n",
      "       'CUNDINAMARCA', 'CÓRDOBA', 'HUILA', 'LA GUAJIRA', 'MAGDALENA', 'META',\n",
      "       'NARIÑO', 'NORTE SANTANDER', 'PUTUMAYO', 'QUINDÍO', 'RISARALDA',\n",
      "       'SANTANDER', 'SUCRE', 'TOLIMA', 'VALLE', 'VICHADA'],\n",
      "      dtype='object')\n",
      "AMAZONAS               1\n",
      "ANTIOQUIA           3131\n",
      "ARAUCA                89\n",
      "ATLÁNTICO            694\n",
      "BOGOTÁ              6254\n",
      "BOLÍVAR              283\n",
      "BOYACÁ               258\n",
      "CALDAS               394\n",
      "CAQUETÁ               66\n",
      "CASANARE             194\n",
      "CAUCA               1100\n",
      "CESAR                115\n",
      "CHOCÓ                  4\n",
      "CUNDINAMARCA        1094\n",
      "CÓRDOBA               59\n",
      "HUILA                281\n",
      "LA GUAJIRA           108\n",
      "MAGDALENA             63\n",
      "META                 275\n",
      "NARIÑO             12229\n",
      "NORTE SANTANDER      173\n",
      "PUTUMAYO              92\n",
      "QUINDÍO              189\n",
      "RISARALDA            277\n",
      "SANTANDER            589\n",
      "SUCRE                 11\n",
      "TOLIMA               351\n",
      "VALLE              41345\n",
      "VICHADA                6\n",
      "Name: ESTU_RESIDE_DEPTO, dtype: int64\n",
      "Elementos null/NaN 18\n",
      "__________________\n",
      "Elementos diferentes de null/NaN: 69725\n",
      "__________________\n",
      "(69725,)\n",
      "None\n"
     ]
    }
   ],
   "source": [
    "c = 'ESTU_RESIDE_DEPTO'\n",
    "print(data_2009[c].value_counts().sort_index().index)\n",
    "print(data_2009[c].value_counts().sort_index())\n",
    "print(missing_data(data_2009[c]))"
   ]
  },
  {
   "cell_type": "code",
   "execution_count": 30,
   "metadata": {
    "collapsed": false
   },
   "outputs": [
    {
     "name": "stdout",
     "output_type": "stream",
     "text": [
      "Float64Index([1.0, 2.0, 3.0, 4.0, 5.0, 6.0, 7.0, 8.0, 9.0, 10.0], dtype='float64')\n",
      "1      6726\n",
      "2      3338\n",
      "3      1208\n",
      "4      6240\n",
      "5      1993\n",
      "6      3791\n",
      "7      3891\n",
      "8      1699\n",
      "9      1769\n",
      "10    39011\n",
      "Name: ESTU_ZONA_RESIDE, dtype: int64\n",
      "Elementos null/NaN 77\n",
      "__________________\n",
      "Elementos diferentes de null/NaN: 69666\n",
      "__________________\n",
      "(69666,)\n",
      "None\n"
     ]
    }
   ],
   "source": [
    "c = 'ESTU_ZONA_RESIDE'\n",
    "print(data_2009[c].value_counts().sort_index().index)\n",
    "print(data_2009[c].value_counts().sort_index())\n",
    "print(missing_data(data_2009[c]))"
   ]
  },
  {
   "cell_type": "code",
   "execution_count": 31,
   "metadata": {
    "collapsed": false
   },
   "outputs": [
    {
     "name": "stdout",
     "output_type": "stream",
     "text": [
      "Float64Index([1.0, 2.0], dtype='float64')\n",
      "1    56659\n",
      "2    13077\n",
      "Name: ESTU_AREA_RESIDE, dtype: int64\n",
      "Elementos null/NaN 7\n",
      "__________________\n",
      "Elementos diferentes de null/NaN: 69736\n",
      "__________________\n",
      "(69736,)\n",
      "None\n"
     ]
    }
   ],
   "source": [
    "c = 'ESTU_AREA_RESIDE'\n",
    "print(data_2009[c].value_counts().sort_index().index)\n",
    "print(data_2009[c].value_counts().sort_index())\n",
    "print(missing_data(data_2009[c]))"
   ]
  },
  {
   "cell_type": "code",
   "execution_count": 32,
   "metadata": {
    "collapsed": false,
    "scrolled": true
   },
   "outputs": [
    {
     "name": "stdout",
     "output_type": "stream",
     "text": [
      "Float64Index([ 0.0,  1.0,  2.0,  3.0,  4.0,  5.0,  6.0,  7.0,  8.0,  9.0, 10.0,\n",
      "              11.0, 12.0, 13.0, 14.0, 15.0, 16.0, 17.0, 99.0],\n",
      "             dtype='float64')\n",
      "0      1976\n",
      "1         2\n",
      "2        19\n",
      "3         9\n",
      "4         8\n",
      "5        13\n",
      "6         2\n",
      "7         3\n",
      "8         1\n",
      "9     10644\n",
      "10    11669\n",
      "11     8795\n",
      "12    16574\n",
      "13      792\n",
      "14     2660\n",
      "15     1171\n",
      "16     7790\n",
      "17     2815\n",
      "99     4785\n",
      "Name: FAMI_EDUCA_PADRE, dtype: int64\n",
      "Elementos null/NaN 15\n",
      "__________________\n",
      "Elementos diferentes de null/NaN: 69728\n",
      "__________________\n",
      "(69728,)\n",
      "None\n"
     ]
    }
   ],
   "source": [
    "c = 'FAMI_EDUCA_PADRE'\n",
    "print(data_2009[c].value_counts().sort_index().index)\n",
    "print(data_2009[c].value_counts().sort_index())\n",
    "print(missing_data(data_2009[c]))"
   ]
  },
  {
   "cell_type": "code",
   "execution_count": 33,
   "metadata": {
    "collapsed": false,
    "scrolled": true
   },
   "outputs": [
    {
     "name": "stdout",
     "output_type": "stream",
     "text": [
      "Float64Index([ 0.0,  1.0,  2.0,  3.0,  4.0,  5.0,  6.0,  7.0,  8.0,  9.0, 10.0,\n",
      "              11.0, 12.0, 13.0, 14.0, 15.0, 16.0, 17.0, 99.0],\n",
      "             dtype='float64')\n",
      "0      1171\n",
      "1         4\n",
      "2        15\n",
      "3         9\n",
      "4         9\n",
      "5        19\n",
      "6         1\n",
      "7         2\n",
      "8         1\n",
      "9     10235\n",
      "10    12133\n",
      "11    10621\n",
      "12    17597\n",
      "13     1040\n",
      "14     3029\n",
      "15     1269\n",
      "16     7679\n",
      "17     2271\n",
      "99     2623\n",
      "Name: FAMI_EDUCA_MADRE, dtype: int64\n",
      "Elementos null/NaN 15\n",
      "__________________\n",
      "Elementos diferentes de null/NaN: 69728\n",
      "__________________\n",
      "(69728,)\n",
      "None\n"
     ]
    }
   ],
   "source": [
    "c = 'FAMI_EDUCA_MADRE'\n",
    "print(data_2009[c].value_counts().sort_index().index)\n",
    "print(data_2009[c].value_counts().sort_index())\n",
    "print(missing_data(data_2009[c]))"
   ]
  },
  {
   "cell_type": "code",
   "execution_count": 34,
   "metadata": {
    "collapsed": false,
    "scrolled": true
   },
   "outputs": [
    {
     "name": "stdout",
     "output_type": "stream",
     "text": [
      "Float64Index([ 1.0,  3.0,  5.0,  7.0,  9.0, 10.0, 11.0, 12.0, 13.0, 14.0, 15.0,\n",
      "              16.0, 17.0, 18.0, 19.0, 20.0, 21.0, 22.0, 23.0, 26.0],\n",
      "             dtype='float64')\n",
      "1         4\n",
      "3         3\n",
      "5         6\n",
      "7         7\n",
      "9        23\n",
      "10        2\n",
      "11        8\n",
      "12       11\n",
      "13     2426\n",
      "14     4812\n",
      "15     2171\n",
      "16     2330\n",
      "17     3746\n",
      "18     2678\n",
      "19    13431\n",
      "20     3989\n",
      "21    19128\n",
      "22      838\n",
      "23     2589\n",
      "26    11526\n",
      "Name: FAMI_OCUPA_PADRE, dtype: int64\n",
      "Elementos null/NaN 15\n",
      "__________________\n",
      "Elementos diferentes de null/NaN: 69728\n",
      "__________________\n",
      "(69728,)\n",
      "None\n"
     ]
    }
   ],
   "source": [
    "c = 'FAMI_OCUPA_PADRE'\n",
    "print(data_2009[c].value_counts().sort_index().index)\n",
    "print(data_2009[c].value_counts().sort_index())\n",
    "print(missing_data(data_2009[c]))"
   ]
  },
  {
   "cell_type": "code",
   "execution_count": 35,
   "metadata": {
    "collapsed": false,
    "scrolled": true
   },
   "outputs": [
    {
     "name": "stdout",
     "output_type": "stream",
     "text": [
      "Float64Index([ 5.0,  6.0,  7.0,  8.0,  9.0, 10.0, 11.0, 12.0, 13.0, 14.0, 15.0,\n",
      "              16.0, 17.0, 18.0, 19.0, 20.0, 21.0, 22.0, 23.0, 26.0],\n",
      "             dtype='float64')\n",
      "5         3\n",
      "6         3\n",
      "7         3\n",
      "8         2\n",
      "9        10\n",
      "10       36\n",
      "11        2\n",
      "12        5\n",
      "13     1043\n",
      "14     2295\n",
      "15     1208\n",
      "16     2100\n",
      "17     2822\n",
      "18     2262\n",
      "19     6160\n",
      "20     2489\n",
      "21     7088\n",
      "22    36032\n",
      "23      901\n",
      "26     5264\n",
      "Name: FAMI_OCUPA_MADRE, dtype: int64\n",
      "Elementos null/NaN 15\n",
      "__________________\n",
      "Elementos diferentes de null/NaN: 69728\n",
      "__________________\n",
      "(69728,)\n",
      "None\n"
     ]
    }
   ],
   "source": [
    "c = 'FAMI_OCUPA_MADRE'\n",
    "print(data_2009[c].value_counts().sort_index().index)\n",
    "print(data_2009[c].value_counts().sort_index())\n",
    "print(missing_data(data_2009[c]))"
   ]
  },
  {
   "cell_type": "code",
   "execution_count": 36,
   "metadata": {
    "collapsed": false,
    "scrolled": true
   },
   "outputs": [
    {
     "name": "stdout",
     "output_type": "stream",
     "text": [
      "Float64Index([1.0, 2.0, 3.0, 4.0, 5.0, 6.0, 7.0, 8.0, 9.0, 88.0, 99.0], dtype='float64')\n",
      "1       906\n",
      "2      2019\n",
      "3      2993\n",
      "4      9244\n",
      "5       834\n",
      "6      1681\n",
      "7      1328\n",
      "8      3600\n",
      "9       545\n",
      "88    34648\n",
      "99     3600\n",
      "Name: FAMI_EDUCA_HERMANO, dtype: int64\n",
      "Elementos null/NaN 8345\n",
      "__________________\n",
      "Elementos diferentes de null/NaN: 61398\n",
      "__________________\n",
      "(61398,)\n",
      "None\n"
     ]
    }
   ],
   "source": [
    "c = 'FAMI_EDUCA_HERMANO'\n",
    "print(data_2009[c].value_counts().sort_index().index)\n",
    "print(data_2009[c].value_counts().sort_index())\n",
    "print(missing_data(data_2009[c]))"
   ]
  },
  {
   "cell_type": "code",
   "execution_count": 37,
   "metadata": {
    "collapsed": false
   },
   "outputs": [
    {
     "name": "stdout",
     "output_type": "stream",
     "text": [
      "Float64Index([1.0, 2.0, 3.0, 4.0, 5.0, 6.0, 8.0], dtype='float64')\n",
      "1    20403\n",
      "2    24710\n",
      "3    14901\n",
      "4     3890\n",
      "5     2880\n",
      "6     2339\n",
      "8      341\n",
      "Name: FAMI_ESTRATO_VIVIENDA, dtype: int64\n",
      "Elementos null/NaN 279\n",
      "__________________\n",
      "Elementos diferentes de null/NaN: 69464\n",
      "__________________\n",
      "(69464,)\n",
      "None\n"
     ]
    }
   ],
   "source": [
    "c = 'FAMI_ESTRATO_VIVIENDA'\n",
    "print(data_2009[c].value_counts().sort_index().index)\n",
    "print(data_2009[c].value_counts().sort_index())\n",
    "print(missing_data(data_2009[c]))"
   ]
  },
  {
   "cell_type": "code",
   "execution_count": 38,
   "metadata": {
    "collapsed": true
   },
   "outputs": [],
   "source": [
    "data_2009[c] = data_2009[c].replace(8.0, np.nan)"
   ]
  },
  {
   "cell_type": "code",
   "execution_count": 39,
   "metadata": {
    "collapsed": false
   },
   "outputs": [
    {
     "name": "stdout",
     "output_type": "stream",
     "text": [
      "Float64Index([1.0, 2.0, 3.0, 4.0, 5.0], dtype='float64')\n",
      "1    21821\n",
      "2    15526\n",
      "3     2268\n",
      "4      914\n",
      "5    29199\n",
      "Name: FAMI_NIVEL_SISBEN, dtype: int64\n",
      "Elementos null/NaN 15\n",
      "__________________\n",
      "Elementos diferentes de null/NaN: 69728\n",
      "__________________\n",
      "(69728,)\n",
      "None\n"
     ]
    }
   ],
   "source": [
    "c = 'FAMI_NIVEL_SISBEN'\n",
    "print(data_2009[c].value_counts().sort_index().index)\n",
    "print(data_2009[c].value_counts().sort_index())\n",
    "print(missing_data(data_2009[c]))"
   ]
  },
  {
   "cell_type": "code",
   "execution_count": 40,
   "metadata": {
    "collapsed": false,
    "scrolled": true
   },
   "outputs": [
    {
     "name": "stdout",
     "output_type": "stream",
     "text": [
      "Float64Index([1.0, 2.0, 3.0, 4.0, 5.0, 6.0, 7.0, 8.0, 9.0, 10.0, 11.0, 12.0], dtype='float64')\n",
      "1       443\n",
      "2      3287\n",
      "3     11697\n",
      "4     21489\n",
      "5     16090\n",
      "6      7903\n",
      "7      3781\n",
      "8      2185\n",
      "9      1073\n",
      "10      770\n",
      "11      315\n",
      "12      694\n",
      "Name: FAMI_PERSONAS_HOGAR, dtype: int64\n",
      "Elementos null/NaN 16\n",
      "__________________\n",
      "Elementos diferentes de null/NaN: 69727\n",
      "__________________\n",
      "(69727,)\n",
      "None\n"
     ]
    }
   ],
   "source": [
    "c = 'FAMI_PERSONAS_HOGAR'\n",
    "print(data_2009[c].value_counts().sort_index().index)\n",
    "print(data_2009[c].value_counts().sort_index())\n",
    "print(missing_data(data_2009[c]))"
   ]
  },
  {
   "cell_type": "code",
   "execution_count": 41,
   "metadata": {
    "collapsed": false
   },
   "outputs": [
    {
     "name": "stdout",
     "output_type": "stream",
     "text": [
      "Float64Index([1.0, 2.0, 3.0, 4.0, 5.0, 6.0, 7.0, 8.0, 9.0, 10.0], dtype='float64')\n",
      "1       671\n",
      "2      4715\n",
      "3     12910\n",
      "4     16854\n",
      "5     14052\n",
      "6      7927\n",
      "7      3669\n",
      "8      2026\n",
      "9       840\n",
      "10     1067\n",
      "Name: FAMI_CUARTOS_HOGAR, dtype: int64\n",
      "Elementos null/NaN 5012\n",
      "__________________\n",
      "Elementos diferentes de null/NaN: 64731\n",
      "__________________\n",
      "(64731,)\n",
      "None\n"
     ]
    }
   ],
   "source": [
    "c = 'FAMI_CUARTOS_HOGAR'\n",
    "print(data_2009[c].value_counts().sort_index().index)\n",
    "print(data_2009[c].value_counts().sort_index())\n",
    "print(missing_data(data_2009[c]))"
   ]
  },
  {
   "cell_type": "code",
   "execution_count": 42,
   "metadata": {
    "collapsed": false
   },
   "outputs": [
    {
     "name": "stdout",
     "output_type": "stream",
     "text": [
      "Float64Index([1.0, 2.0, 3.0, 4.0, 5.0, 6.0, 7.0, 8.0, 9.0, 10.0], dtype='float64')\n",
      "1      3361\n",
      "2     23328\n",
      "3     28311\n",
      "4     10627\n",
      "5      2737\n",
      "6       858\n",
      "7       284\n",
      "8       110\n",
      "9        45\n",
      "10       67\n",
      "Name: FAMI_DORMITORIOS_HOGAR, dtype: int64\n",
      "Elementos null/NaN 15\n",
      "__________________\n",
      "Elementos diferentes de null/NaN: 69728\n",
      "__________________\n",
      "(69728,)\n",
      "None\n"
     ]
    }
   ],
   "source": [
    "c = 'FAMI_DORMITORIOS_HOGAR'\n",
    "print(data_2009[c].value_counts().sort_index().index)\n",
    "print(data_2009[c].value_counts().sort_index())\n",
    "print(missing_data(data_2009[c]))"
   ]
  },
  {
   "cell_type": "code",
   "execution_count": 43,
   "metadata": {
    "collapsed": false
   },
   "outputs": [
    {
     "name": "stdout",
     "output_type": "stream",
     "text": [
      "Float64Index([1.0, 2.0, 3.0, 4.0, 5.0], dtype='float64')\n",
      "1     1960\n",
      "2    26501\n",
      "3     3621\n",
      "4    37273\n",
      "5      373\n",
      "Name: FAMI_PISOSHOGAR, dtype: int64\n",
      "Elementos null/NaN 15\n",
      "__________________\n",
      "Elementos diferentes de null/NaN: 69728\n",
      "__________________\n",
      "(69728,)\n",
      "None\n"
     ]
    }
   ],
   "source": [
    "c = 'FAMI_PISOSHOGAR'\n",
    "print(data_2009[c].value_counts().sort_index().index)\n",
    "print(data_2009[c].value_counts().sort_index())\n",
    "print(missing_data(data_2009[c]))"
   ]
  },
  {
   "cell_type": "code",
   "execution_count": 44,
   "metadata": {
    "collapsed": false
   },
   "outputs": [
    {
     "name": "stdout",
     "output_type": "stream",
     "text": [
      "Float64Index([0.0, 1.0, 2.0, 3.0, 4.0], dtype='float64')\n",
      "0      432\n",
      "1    60818\n",
      "2     1241\n",
      "3      118\n",
      "4     3183\n",
      "Name: FAMI_SANITARIO, dtype: int64\n",
      "Elementos null/NaN 3951\n",
      "__________________\n",
      "Elementos diferentes de null/NaN: 65792\n",
      "__________________\n",
      "(65792,)\n",
      "None\n"
     ]
    }
   ],
   "source": [
    "c = 'FAMI_SANITARIO'\n",
    "print(data_2009[c].value_counts().sort_index().index)\n",
    "print(data_2009[c].value_counts().sort_index())\n",
    "print(missing_data(data_2009[c]))"
   ]
  },
  {
   "cell_type": "code",
   "execution_count": 45,
   "metadata": {
    "collapsed": false
   },
   "outputs": [
    {
     "name": "stdout",
     "output_type": "stream",
     "text": [
      "Float64Index([0.0, 1.0], dtype='float64')\n",
      "0     3086\n",
      "1    58973\n",
      "Name: FAMI_CONEXION_SANITARIO, dtype: int64\n",
      "Elementos null/NaN 7684\n",
      "__________________\n",
      "Elementos diferentes de null/NaN: 62059\n",
      "__________________\n",
      "(62059,)\n",
      "None\n"
     ]
    }
   ],
   "source": [
    "c = 'FAMI_CONEXION_SANITARIO'\n",
    "print(data_2009[c].value_counts().sort_index().index)\n",
    "print(data_2009[c].value_counts().sort_index())\n",
    "print(missing_data(data_2009[c]))"
   ]
  },
  {
   "cell_type": "code",
   "execution_count": 46,
   "metadata": {
    "collapsed": false
   },
   "outputs": [
    {
     "name": "stdout",
     "output_type": "stream",
     "text": [
      "Float64Index([0.0, 1.0], dtype='float64')\n",
      "0      419\n",
      "1    60896\n",
      "Name: FAMI_ELECTRICIDAD, dtype: int64\n",
      "Elementos null/NaN 8428\n",
      "__________________\n",
      "Elementos diferentes de null/NaN: 61315\n",
      "__________________\n",
      "(61315,)\n",
      "None\n"
     ]
    }
   ],
   "source": [
    "c = 'FAMI_ELECTRICIDAD'\n",
    "print(data_2009[c].value_counts().sort_index().index)\n",
    "print(data_2009[c].value_counts().sort_index())\n",
    "print(missing_data(data_2009[c]))"
   ]
  },
  {
   "cell_type": "code",
   "execution_count": 47,
   "metadata": {
    "collapsed": false
   },
   "outputs": [
    {
     "name": "stdout",
     "output_type": "stream",
     "text": [
      "Float64Index([0.0, 1.0], dtype='float64')\n",
      "0     2341\n",
      "1    58974\n",
      "Name: FAMI_ACUEDUCTO, dtype: int64\n",
      "Elementos null/NaN 8428\n",
      "__________________\n",
      "Elementos diferentes de null/NaN: 61315\n",
      "__________________\n",
      "(61315,)\n",
      "None\n"
     ]
    }
   ],
   "source": [
    "c = 'FAMI_ACUEDUCTO'\n",
    "print(data_2009[c].value_counts().sort_index().index)\n",
    "print(data_2009[c].value_counts().sort_index())\n",
    "print(missing_data(data_2009[c]))"
   ]
  },
  {
   "cell_type": "code",
   "execution_count": 48,
   "metadata": {
    "collapsed": false
   },
   "outputs": [
    {
     "name": "stdout",
     "output_type": "stream",
     "text": [
      "Float64Index([0.0, 1.0], dtype='float64')\n",
      "0     5770\n",
      "1    55545\n",
      "Name: FAMI_ALCANTARILLADO, dtype: int64\n",
      "Elementos null/NaN 8428\n",
      "__________________\n",
      "Elementos diferentes de null/NaN: 61315\n",
      "__________________\n",
      "(61315,)\n",
      "None\n"
     ]
    }
   ],
   "source": [
    "c = 'FAMI_ALCANTARILLADO'\n",
    "print(data_2009[c].value_counts().sort_index().index)\n",
    "print(data_2009[c].value_counts().sort_index())\n",
    "print(missing_data(data_2009[c]))"
   ]
  },
  {
   "cell_type": "code",
   "execution_count": 49,
   "metadata": {
    "collapsed": false
   },
   "outputs": [
    {
     "name": "stdout",
     "output_type": "stream",
     "text": [
      "Float64Index([0.0, 1.0], dtype='float64')\n",
      "0    25662\n",
      "1    44066\n",
      "Name: FAMI_TELEFONO_FIJO, dtype: int64\n",
      "Elementos null/NaN 15\n",
      "__________________\n",
      "Elementos diferentes de null/NaN: 69728\n",
      "__________________\n",
      "(69728,)\n",
      "None\n"
     ]
    }
   ],
   "source": [
    "c = 'FAMI_TELEFONO_FIJO'\n",
    "print(data_2009[c].value_counts().sort_index().index)\n",
    "print(data_2009[c].value_counts().sort_index())\n",
    "print(missing_data(data_2009[c]))"
   ]
  },
  {
   "cell_type": "code",
   "execution_count": 50,
   "metadata": {
    "collapsed": false
   },
   "outputs": [
    {
     "name": "stdout",
     "output_type": "stream",
     "text": [
      "Float64Index([0.0, 1.0], dtype='float64')\n",
      "0     7458\n",
      "1    53857\n",
      "Name: FAMI_ASEO, dtype: int64\n",
      "Elementos null/NaN 8428\n",
      "__________________\n",
      "Elementos diferentes de null/NaN: 61315\n",
      "__________________\n",
      "(61315,)\n",
      "None\n"
     ]
    }
   ],
   "source": [
    "c = 'FAMI_ASEO'\n",
    "print(data_2009[c].value_counts().sort_index().index)\n",
    "print(data_2009[c].value_counts().sort_index())\n",
    "print(missing_data(data_2009[c]))"
   ]
  },
  {
   "cell_type": "code",
   "execution_count": 51,
   "metadata": {
    "collapsed": false
   },
   "outputs": [
    {
     "name": "stdout",
     "output_type": "stream",
     "text": [
      "Float64Index([0.0, 1.0], dtype='float64')\n",
      "0    48739\n",
      "1    20989\n",
      "Name: FAMI_INTERNET, dtype: int64\n",
      "Elementos null/NaN 15\n",
      "__________________\n",
      "Elementos diferentes de null/NaN: 69728\n",
      "__________________\n",
      "(69728,)\n",
      "None\n"
     ]
    }
   ],
   "source": [
    "c = 'FAMI_INTERNET'\n",
    "print(data_2009[c].value_counts().sort_index().index)\n",
    "print(data_2009[c].value_counts().sort_index())\n",
    "print(missing_data(data_2009[c]))"
   ]
  },
  {
   "cell_type": "code",
   "execution_count": 52,
   "metadata": {
    "collapsed": false
   },
   "outputs": [
    {
     "name": "stdout",
     "output_type": "stream",
     "text": [
      "Float64Index([0.0, 1.0], dtype='float64')\n",
      "0    23388\n",
      "1    46340\n",
      "Name: FAMI_SERVICIO_TELEVISION, dtype: int64\n",
      "Elementos null/NaN 15\n",
      "__________________\n",
      "Elementos diferentes de null/NaN: 69728\n",
      "__________________\n",
      "(69728,)\n",
      "None\n"
     ]
    }
   ],
   "source": [
    "c = 'FAMI_SERVICIO_TELEVISION'\n",
    "print(data_2009[c].value_counts().sort_index().index)\n",
    "print(data_2009[c].value_counts().sort_index())\n",
    "print(missing_data(data_2009[c]))"
   ]
  },
  {
   "cell_type": "code",
   "execution_count": 53,
   "metadata": {
    "collapsed": false
   },
   "outputs": [
    {
     "name": "stdout",
     "output_type": "stream",
     "text": [
      "Float64Index([0.0, 1.0, 3.0], dtype='float64')\n",
      "0    35899\n",
      "1       38\n",
      "3    33791\n",
      "Name: FAMI_COMPUTADOR, dtype: int64\n",
      "Elementos null/NaN 15\n",
      "__________________\n",
      "Elementos diferentes de null/NaN: 69728\n",
      "__________________\n",
      "(69728,)\n",
      "None\n"
     ]
    }
   ],
   "source": [
    "c = 'FAMI_COMPUTADOR'\n",
    "print(data_2009[c].value_counts().sort_index().index)\n",
    "print(data_2009[c].value_counts().sort_index())\n",
    "print(missing_data(data_2009[c]))"
   ]
  },
  {
   "cell_type": "code",
   "execution_count": 54,
   "metadata": {
    "collapsed": false
   },
   "outputs": [
    {
     "name": "stdout",
     "output_type": "stream",
     "text": [
      "Float64Index([0.0, 1.0], dtype='float64')\n",
      "0     1659\n",
      "1    59770\n",
      "Name: FAMI_TELEVISOR, dtype: int64\n",
      "Elementos null/NaN 8314\n",
      "__________________\n",
      "Elementos diferentes de null/NaN: 61429\n",
      "__________________\n",
      "(61429,)\n",
      "None\n"
     ]
    }
   ],
   "source": [
    "c = 'FAMI_TELEVISOR'\n",
    "print(data_2009[c].value_counts().sort_index().index)\n",
    "print(data_2009[c].value_counts().sort_index())\n",
    "print(missing_data(data_2009[c]))"
   ]
  },
  {
   "cell_type": "code",
   "execution_count": 55,
   "metadata": {
    "collapsed": false
   },
   "outputs": [
    {
     "name": "stdout",
     "output_type": "stream",
     "text": [
      "Float64Index([0.0, 1.0], dtype='float64')\n",
      "0    21451\n",
      "1    48277\n",
      "Name: FAMI_DVD, dtype: int64\n",
      "Elementos null/NaN 15\n",
      "__________________\n",
      "Elementos diferentes de null/NaN: 69728\n",
      "__________________\n",
      "(69728,)\n",
      "None\n"
     ]
    }
   ],
   "source": [
    "c = 'FAMI_DVD'\n",
    "print(data_2009[c].value_counts().sort_index().index)\n",
    "print(data_2009[c].value_counts().sort_index())\n",
    "print(missing_data(data_2009[c]))"
   ]
  },
  {
   "cell_type": "code",
   "execution_count": 56,
   "metadata": {
    "collapsed": false
   },
   "outputs": [
    {
     "name": "stdout",
     "output_type": "stream",
     "text": [
      "Float64Index([0.0, 1.0], dtype='float64')\n",
      "0    53104\n",
      "1    16624\n",
      "Name: FAMI_AUTOMOVIL, dtype: int64\n",
      "Elementos null/NaN 15\n",
      "__________________\n",
      "Elementos diferentes de null/NaN: 69728\n",
      "__________________\n",
      "(69728,)\n",
      "None\n"
     ]
    }
   ],
   "source": [
    "c = 'FAMI_AUTOMOVIL'\n",
    "print(data_2009[c].value_counts().sort_index().index)\n",
    "print(data_2009[c].value_counts().sort_index())\n",
    "print(missing_data(data_2009[c]))"
   ]
  },
  {
   "cell_type": "code",
   "execution_count": 57,
   "metadata": {
    "collapsed": false
   },
   "outputs": [
    {
     "name": "stdout",
     "output_type": "stream",
     "text": [
      "Float64Index([0.0, 1.0], dtype='float64')\n",
      "0    32296\n",
      "1    37432\n",
      "Name: FAMI_LAVADORA, dtype: int64\n",
      "Elementos null/NaN 15\n",
      "__________________\n",
      "Elementos diferentes de null/NaN: 69728\n",
      "__________________\n",
      "(69728,)\n",
      "None\n"
     ]
    }
   ],
   "source": [
    "c = 'FAMI_LAVADORA'\n",
    "print(data_2009[c].value_counts().sort_index().index)\n",
    "print(data_2009[c].value_counts().sort_index())\n",
    "print(missing_data(data_2009[c]))"
   ]
  },
  {
   "cell_type": "code",
   "execution_count": 58,
   "metadata": {
    "collapsed": false
   },
   "outputs": [
    {
     "name": "stdout",
     "output_type": "stream",
     "text": [
      "Float64Index([0.0, 1.0], dtype='float64')\n",
      "0    44515\n",
      "1    25213\n",
      "Name: FAMI_HORNO, dtype: int64\n",
      "Elementos null/NaN 15\n",
      "__________________\n",
      "Elementos diferentes de null/NaN: 69728\n",
      "__________________\n",
      "(69728,)\n",
      "None\n"
     ]
    }
   ],
   "source": [
    "c = 'FAMI_HORNO'\n",
    "print(data_2009[c].value_counts().sort_index().index)\n",
    "print(data_2009[c].value_counts().sort_index())\n",
    "print(missing_data(data_2009[c]))"
   ]
  },
  {
   "cell_type": "code",
   "execution_count": 59,
   "metadata": {
    "collapsed": false
   },
   "outputs": [
    {
     "name": "stdout",
     "output_type": "stream",
     "text": [
      "Float64Index([0.0, 1.0], dtype='float64')\n",
      "0    49209\n",
      "1    20519\n",
      "Name: FAMI_MICROONDAS, dtype: int64\n",
      "Elementos null/NaN 15\n",
      "__________________\n",
      "Elementos diferentes de null/NaN: 69728\n",
      "__________________\n",
      "(69728,)\n",
      "None\n"
     ]
    }
   ],
   "source": [
    "c = 'FAMI_MICROONDAS'\n",
    "print(data_2009[c].value_counts().sort_index().index)\n",
    "print(data_2009[c].value_counts().sort_index())\n",
    "print(missing_data(data_2009[c]))"
   ]
  },
  {
   "cell_type": "code",
   "execution_count": 60,
   "metadata": {
    "collapsed": false
   },
   "outputs": [
    {
     "name": "stdout",
     "output_type": "stream",
     "text": [
      "Float64Index([0.0, 1.0], dtype='float64')\n",
      "0     8558\n",
      "1    61170\n",
      "Name: FAMI_NEVERA, dtype: int64\n",
      "Elementos null/NaN 15\n",
      "__________________\n",
      "Elementos diferentes de null/NaN: 69728\n",
      "__________________\n",
      "(69728,)\n",
      "None\n"
     ]
    }
   ],
   "source": [
    "c = 'FAMI_NEVERA'\n",
    "print(data_2009[c].value_counts().sort_index().index)\n",
    "print(data_2009[c].value_counts().sort_index())\n",
    "print(missing_data(data_2009[c]))"
   ]
  },
  {
   "cell_type": "code",
   "execution_count": 61,
   "metadata": {
    "collapsed": false
   },
   "outputs": [
    {
     "name": "stdout",
     "output_type": "stream",
     "text": [
      "Float64Index([0.0, 1.0], dtype='float64')\n",
      "0     3563\n",
      "1    57752\n",
      "Name: FAMI_ESTUFA, dtype: int64\n",
      "Elementos null/NaN 8428\n",
      "__________________\n",
      "Elementos diferentes de null/NaN: 61315\n",
      "__________________\n",
      "(61315,)\n",
      "None\n"
     ]
    }
   ],
   "source": [
    "c = 'FAMI_ESTUFA'\n",
    "print(data_2009[c].value_counts().sort_index().index)\n",
    "print(data_2009[c].value_counts().sort_index())\n",
    "print(missing_data(data_2009[c]))"
   ]
  },
  {
   "cell_type": "code",
   "execution_count": 62,
   "metadata": {
    "collapsed": false
   },
   "outputs": [
    {
     "name": "stdout",
     "output_type": "stream",
     "text": [
      "Float64Index([1.0, 2.0, 3.0, 4.0, 5.0, 6.0, 7.0], dtype='float64')\n",
      "1    17327\n",
      "2    30439\n",
      "3    10503\n",
      "4     4758\n",
      "5     1995\n",
      "6     1392\n",
      "7     3314\n",
      "Name: FAMI_INGRESO_FMILIAR_MENSUAL, dtype: int64\n",
      "Elementos null/NaN 15\n",
      "__________________\n",
      "Elementos diferentes de null/NaN: 69728\n",
      "__________________\n",
      "(69728,)\n",
      "None\n"
     ]
    }
   ],
   "source": [
    "c = 'FAMI_INGRESO_FMILIAR_MENSUAL'\n",
    "print(data_2009[c].value_counts().sort_index().index)\n",
    "print(data_2009[c].value_counts().sort_index())\n",
    "print(missing_data(data_2009[c]))"
   ]
  },
  {
   "cell_type": "code",
   "execution_count": 63,
   "metadata": {
    "collapsed": false
   },
   "outputs": [
    {
     "name": "stdout",
     "output_type": "stream",
     "text": [
      "Float64Index([0.0, 1.0, 2.0, 3.0, 4.0, 5.0, 6.0, 7.0], dtype='float64')\n",
      "0    62215\n",
      "1     5615\n",
      "2     1270\n",
      "3      185\n",
      "4      138\n",
      "5      152\n",
      "6       29\n",
      "7       37\n",
      "Name: ESTU_TRABAJA, dtype: int64\n",
      "Elementos null/NaN 102\n",
      "__________________\n",
      "Elementos diferentes de null/NaN: 69641\n",
      "__________________\n",
      "(69641,)\n",
      "None\n"
     ]
    }
   ],
   "source": [
    "c = 'ESTU_TRABAJA'\n",
    "print(data_2009[c].value_counts().sort_index().index)\n",
    "print(data_2009[c].value_counts().sort_index())\n",
    "print(missing_data(data_2009[c]))"
   ]
  },
  {
   "cell_type": "code",
   "execution_count": 64,
   "metadata": {
    "collapsed": false,
    "scrolled": true
   },
   "outputs": [
    {
     "name": "stdout",
     "output_type": "stream",
     "text": [
      "Float64Index([ 0.0,  1.0,  2.0,  3.0,  4.0,  5.0,  6.0,  7.0,  8.0,  9.0, 10.0,\n",
      "              11.0, 12.0, 13.0, 14.0, 15.0, 16.0, 17.0, 18.0, 19.0, 20.0],\n",
      "             dtype='float64')\n",
      "0       21\n",
      "1       24\n",
      "2       63\n",
      "3      116\n",
      "4      275\n",
      "5      211\n",
      "6      264\n",
      "7      104\n",
      "8      724\n",
      "9      137\n",
      "10     321\n",
      "11      55\n",
      "12     238\n",
      "13      29\n",
      "14      97\n",
      "15     160\n",
      "16     149\n",
      "17      20\n",
      "18     110\n",
      "19      51\n",
      "20    4166\n",
      "Name: ESTU_HORAS_TRABAJA, dtype: int64\n",
      "Elementos null/NaN 62408\n",
      "__________________\n",
      "Elementos diferentes de null/NaN: 7335\n",
      "__________________\n",
      "(7335,)\n",
      "None\n"
     ]
    }
   ],
   "source": [
    "c = 'ESTU_HORAS_TRABAJA'\n",
    "print(data_2009[c].value_counts().sort_index().index)\n",
    "print(data_2009[c].value_counts().sort_index())\n",
    "print(missing_data(data_2009[c]))"
   ]
  },
  {
   "cell_type": "code",
   "execution_count": 65,
   "metadata": {
    "collapsed": false
   },
   "outputs": [
    {
     "name": "stdout",
     "output_type": "stream",
     "text": [
      "Float64Index([0.0, 1.0, 8.0, 9.0, 10.0, 11.0, 12.0], dtype='float64')\n",
      "0     41267\n",
      "1         4\n",
      "8     14038\n",
      "9      3363\n",
      "10     1610\n",
      "11     3201\n",
      "12     6238\n",
      "Name: COLE_VALOR_PENSION, dtype: int64\n",
      "Elementos null/NaN 22\n",
      "__________________\n",
      "Elementos diferentes de null/NaN: 69721\n",
      "__________________\n",
      "(69721,)\n",
      "None\n"
     ]
    }
   ],
   "source": [
    "c = 'COLE_VALOR_PENSION'\n",
    "print(data_2009[c].value_counts().sort_index().index)\n",
    "print(data_2009[c].value_counts().sort_index())\n",
    "print(missing_data(data_2009[c]))"
   ]
  },
  {
   "cell_type": "code",
   "execution_count": 66,
   "metadata": {
    "collapsed": false
   },
   "outputs": [
    {
     "name": "stdout",
     "output_type": "stream",
     "text": [
      "Float64Index([1981.0, 1984.0, 1994.0, 1998.0, 2001.0, 2004.0, 2005.0, 2006.0,\n",
      "              2007.0, 2008.0, 2009.0, 2010.0, 2011.0, 9999.0],\n",
      "             dtype='float64')\n",
      "1981        1\n",
      "1984        1\n",
      "1994        1\n",
      "1998        1\n",
      "2001        1\n",
      "2004        1\n",
      "2005        1\n",
      "2006        2\n",
      "2007        2\n",
      "2008       24\n",
      "2009    69455\n",
      "2010      237\n",
      "2011        5\n",
      "9999        2\n",
      "Name: IND_ANNO_TERMINO_BACHILLERATO, dtype: int64\n",
      "Elementos null/NaN 9\n",
      "__________________\n",
      "Elementos diferentes de null/NaN: 69734\n",
      "__________________\n",
      "(69734,)\n",
      "None\n"
     ]
    }
   ],
   "source": [
    "c = 'IND_ANNO_TERMINO_BACHILLERATO'\n",
    "print(data_2009[c].value_counts().sort_index().index)\n",
    "print(data_2009[c].value_counts().sort_index())\n",
    "print(missing_data(data_2009[c]))"
   ]
  },
  {
   "cell_type": "code",
   "execution_count": 67,
   "metadata": {
    "collapsed": true
   },
   "outputs": [],
   "source": [
    "data_2009[c] = data_2009[c].replace(9999.0, np.nan)"
   ]
  },
  {
   "cell_type": "code",
   "execution_count": 68,
   "metadata": {
    "collapsed": false
   },
   "outputs": [
    {
     "name": "stdout",
     "output_type": "stream",
     "text": [
      "Float64Index([0.0, 1.0], dtype='float64')\n",
      "0      34\n",
      "1    3459\n",
      "Name: IND_TERMINO_BACHILLERATO, dtype: int64\n",
      "Elementos null/NaN 66250\n",
      "__________________\n",
      "Elementos diferentes de null/NaN: 3493\n",
      "__________________\n",
      "(3493,)\n",
      "None\n"
     ]
    }
   ],
   "source": [
    "c = 'IND_TERMINO_BACHILLERATO'\n",
    "print(data_2009[c].value_counts().sort_index().index)\n",
    "print(data_2009[c].value_counts().sort_index())\n",
    "print(missing_data(data_2009[c]))"
   ]
  },
  {
   "cell_type": "code",
   "execution_count": 69,
   "metadata": {
    "collapsed": false,
    "scrolled": true
   },
   "outputs": [
    {
     "name": "stdout",
     "output_type": "stream",
     "text": [
      "Float64Index([     2.0,      3.0,    182.0,    638.0,   2816.0,   3046.0,\n",
      "                3327.0,   3418.0,   3459.0,   3525.0,\n",
      "              ...\n",
      "              169664.0, 169748.0, 170399.0, 174524.0, 174862.0, 175190.0,\n",
      "              175208.0, 175703.0, 175745.0, 999999.0],\n",
      "             dtype='float64', length=1973)\n",
      "2           1\n",
      "3          72\n",
      "182        94\n",
      "638        76\n",
      "2816        1\n",
      "3046       55\n",
      "3327       18\n",
      "3418       40\n",
      "3459       68\n",
      "3525       85\n",
      "4234       42\n",
      "5108        1\n",
      "6023      114\n",
      "6114        1\n",
      "6775       14\n",
      "7013       58\n",
      "7070       78\n",
      "7088       50\n",
      "7377        2\n",
      "8904        1\n",
      "9110      261\n",
      "9795        1\n",
      "9845        1\n",
      "9878        1\n",
      "9993        5\n",
      "11072       1\n",
      "11213     261\n",
      "11239      74\n",
      "11254      33\n",
      "11262      54\n",
      "         ... \n",
      "150326      1\n",
      "150342      1\n",
      "150474      1\n",
      "150557      1\n",
      "151498      1\n",
      "151878      5\n",
      "151977      1\n",
      "152173      2\n",
      "153692      2\n",
      "155911      1\n",
      "155994      1\n",
      "156190      1\n",
      "156216      1\n",
      "156802      1\n",
      "158436      1\n",
      "159491      1\n",
      "160952      1\n",
      "162180      1\n",
      "164186      1\n",
      "168237      1\n",
      "169664      1\n",
      "169748      2\n",
      "170399      1\n",
      "174524      1\n",
      "174862      1\n",
      "175190      1\n",
      "175208      1\n",
      "175703      1\n",
      "175745      1\n",
      "999999    194\n",
      "Name: IND_COD_ICFES_TERMINO, dtype: int64\n",
      "Elementos null/NaN 220\n",
      "__________________\n",
      "Elementos diferentes de null/NaN: 69523\n",
      "__________________\n",
      "(69523,)\n",
      "None\n"
     ]
    }
   ],
   "source": [
    "c = 'IND_COD_ICFES_TERMINO'\n",
    "print(data_2009[c].value_counts().sort_index().index)\n",
    "print(data_2009[c].value_counts().sort_index())\n",
    "print(missing_data(data_2009[c]))"
   ]
  },
  {
   "cell_type": "code",
   "execution_count": 70,
   "metadata": {
    "collapsed": false,
    "scrolled": true
   },
   "outputs": [
    {
     "name": "stdout",
     "output_type": "stream",
     "text": [
      "Int64Index([   182,    638,   3046,   3327,   3418,   3459,   3525,   4234,\n",
      "              6023,   6775,\n",
      "            ...\n",
      "            143677, 143735, 143776, 143818, 143826, 144006, 144014, 144022,\n",
      "            144071, 144212],\n",
      "           dtype='int64', length=1807)\n",
      "182        94\n",
      "638        78\n",
      "3046       55\n",
      "3327       18\n",
      "3418       41\n",
      "3459       68\n",
      "3525       85\n",
      "4234       42\n",
      "6023      114\n",
      "6775       14\n",
      "7013       58\n",
      "7070       80\n",
      "7088       51\n",
      "11213     268\n",
      "11239      73\n",
      "11254      32\n",
      "11262      54\n",
      "11270      85\n",
      "11288      69\n",
      "11296     334\n",
      "11312     139\n",
      "11320     121\n",
      "11338     381\n",
      "11379      23\n",
      "11395      43\n",
      "11403      35\n",
      "11411      98\n",
      "11429      59\n",
      "11437     116\n",
      "11445      70\n",
      "         ... \n",
      "143016     25\n",
      "143024      6\n",
      "143032     25\n",
      "143065     25\n",
      "143099      3\n",
      "143149     43\n",
      "143198      5\n",
      "143230     22\n",
      "143255     61\n",
      "143263     16\n",
      "143271      9\n",
      "143396      6\n",
      "143479      8\n",
      "143495     17\n",
      "143503     33\n",
      "143578      7\n",
      "143594      4\n",
      "143636      7\n",
      "143651     70\n",
      "143669     32\n",
      "143677      7\n",
      "143735     13\n",
      "143776     15\n",
      "143818      5\n",
      "143826     38\n",
      "144006      5\n",
      "144014     11\n",
      "144022      4\n",
      "144071     14\n",
      "144212     16\n",
      "Name: COLE_COD_ICFES, dtype: int64\n",
      "Elementos null/NaN 0\n",
      "__________________\n",
      "Elementos diferentes de null/NaN: 69743\n",
      "__________________\n",
      "(69743,)\n",
      "None\n"
     ]
    }
   ],
   "source": [
    "c = 'COLE_COD_ICFES'\n",
    "print(data_2009[c].value_counts().sort_index().index)\n",
    "print(data_2009[c].value_counts().sort_index())\n",
    "print(missing_data(data_2009[c]))"
   ]
  },
  {
   "cell_type": "code",
   "execution_count": 71,
   "metadata": {
    "collapsed": true
   },
   "outputs": [],
   "source": [
    "data_2009[c] = data_2009[c].replace(182, np.nan)\n",
    "data_2009[c] = data_2009[c].replace(638, np.nan)"
   ]
  },
  {
   "cell_type": "code",
   "execution_count": 72,
   "metadata": {
    "collapsed": false,
    "scrolled": true
   },
   "outputs": [
    {
     "name": "stdout",
     "output_type": "stream",
     "text": [
      "Index(['            ', '010500103391', '034100105808', '051100116867',\n",
      "       '105001000175', '105001000566', '105001003387', '105001003395',\n",
      "       '105001003425', '105001014397',\n",
      "       ...\n",
      "       '576001091472', '576622134546', '625214000001', '625269000075',\n",
      "       '625269000078', '625269000082', '625269000084', '625286000041',\n",
      "       '625899000017', '818001100015'],\n",
      "      dtype='object', length=1601)\n",
      "                807\n",
      "010500103391     41\n",
      "034100105808     14\n",
      "051100116867      6\n",
      "105001000175     13\n",
      "105001000566     22\n",
      "105001003387     17\n",
      "105001003395     42\n",
      "105001003425     16\n",
      "105001014397      8\n",
      "105001024571    216\n",
      "105088001512     35\n",
      "105088003175     15\n",
      "111001009971     14\n",
      "111001010031     37\n",
      "111001010251     13\n",
      "111001010839     31\n",
      "111001011011      3\n",
      "111001011029      9\n",
      "111001012360     18\n",
      "111001013129     17\n",
      "111001030856     18\n",
      "111001034134     23\n",
      "111001036781     33\n",
      "111001092410     36\n",
      "111001098876     11\n",
      "111001098884     44\n",
      "111001098892     35\n",
      "111001098965     20\n",
      "111001102148      6\n",
      "               ... \n",
      "476126000418     16\n",
      "476130000571     47\n",
      "476130000902      9\n",
      "476130000961      9\n",
      "476130001186     18\n",
      "476130001208     16\n",
      "476233002003      8\n",
      "476248000648      8\n",
      "476248032012     54\n",
      "476520003791     22\n",
      "476520006324     12\n",
      "476520007207    102\n",
      "476892001183     12\n",
      "476892099710     20\n",
      "476895000382     31\n",
      "519001000002     25\n",
      "525899000016     23\n",
      "537610908071     26\n",
      "541548000100      5\n",
      "568001009690     27\n",
      "576001091472     21\n",
      "576622134546     22\n",
      "625214000001     25\n",
      "625269000075     10\n",
      "625269000078     36\n",
      "625269000082     19\n",
      "625269000084     10\n",
      "625286000041     69\n",
      "625899000017     35\n",
      "818001100015      5\n",
      "Name: COLE_COD_DANE_INSTITUCION, dtype: int64\n",
      "Elementos null/NaN 18\n",
      "__________________\n",
      "Elementos diferentes de null/NaN: 69725\n",
      "__________________\n",
      "(69725,)\n",
      "None\n"
     ]
    }
   ],
   "source": [
    "c = 'COLE_COD_DANE_INSTITUCION'\n",
    "print(data_2009[c].value_counts().sort_index().index)\n",
    "print(data_2009[c].value_counts().sort_index())\n",
    "print(missing_data(data_2009[c]))"
   ]
  },
  {
   "cell_type": "code",
   "execution_count": 73,
   "metadata": {
    "collapsed": true
   },
   "outputs": [],
   "source": [
    "data_2009[c] = data_2009[c].replace('            ', np.nan)"
   ]
  },
  {
   "cell_type": "code",
   "execution_count": 74,
   "metadata": {
    "collapsed": false
   },
   "outputs": [
    {
     "name": "stdout",
     "output_type": "stream",
     "text": [
      "Index(['A', 'B', 'F'], dtype='object')\n",
      "A    41957\n",
      "B    12913\n",
      "F    14873\n",
      "Name: COLE_CALENDARIO, dtype: int64\n",
      "Elementos null/NaN 0\n",
      "__________________\n",
      "Elementos diferentes de null/NaN: 69743\n",
      "__________________\n",
      "(69743,)\n",
      "None\n"
     ]
    }
   ],
   "source": [
    "c = 'COLE_CALENDARIO'\n",
    "print(data_2009[c].value_counts().sort_index().index)\n",
    "print(data_2009[c].value_counts().sort_index())\n",
    "print(missing_data(data_2009[c]))"
   ]
  },
  {
   "cell_type": "code",
   "execution_count": 75,
   "metadata": {
    "collapsed": false
   },
   "outputs": [
    {
     "name": "stdout",
     "output_type": "stream",
     "text": [
      "Index(['F', 'M', 'X'], dtype='object')\n",
      "F     4083\n",
      "M     1065\n",
      "X    64595\n",
      "Name: COLE_GENERO, dtype: int64\n",
      "Elementos null/NaN 0\n",
      "__________________\n",
      "Elementos diferentes de null/NaN: 69743\n",
      "__________________\n",
      "(69743,)\n",
      "None\n"
     ]
    }
   ],
   "source": [
    "c = 'COLE_GENERO'\n",
    "print(data_2009[c].value_counts().sort_index().index)\n",
    "print(data_2009[c].value_counts().sort_index())\n",
    "print(missing_data(data_2009[c]))"
   ]
  },
  {
   "cell_type": "code",
   "execution_count": 76,
   "metadata": {
    "collapsed": false
   },
   "outputs": [
    {
     "name": "stdout",
     "output_type": "stream",
     "text": [
      "Index(['N', 'O'], dtype='object')\n",
      "N    31189\n",
      "O    38554\n",
      "Name: COLE_NATURALEZA, dtype: int64\n",
      "Elementos null/NaN 0\n",
      "__________________\n",
      "Elementos diferentes de null/NaN: 69743\n",
      "__________________\n",
      "(69743,)\n",
      "None\n"
     ]
    }
   ],
   "source": [
    "c = 'COLE_NATURALEZA'\n",
    "print(data_2009[c].value_counts().sort_index().index)\n",
    "print(data_2009[c].value_counts().sort_index())\n",
    "print(missing_data(data_2009[c]))"
   ]
  },
  {
   "cell_type": "code",
   "execution_count": 77,
   "metadata": {
    "collapsed": false
   },
   "outputs": [
    {
     "name": "stdout",
     "output_type": "stream",
     "text": [
      "Float64Index([0.0, 1.0], dtype='float64')\n",
      "0    58502\n",
      "1     4107\n",
      "Name: COLE_BILINGUE, dtype: int64\n",
      "Elementos null/NaN 7134\n",
      "__________________\n",
      "Elementos diferentes de null/NaN: 62609\n",
      "__________________\n",
      "(62609,)\n",
      "None\n"
     ]
    }
   ],
   "source": [
    "c = 'COLE_BILINGUE'\n",
    "print(data_2009[c].value_counts().sort_index().index)\n",
    "print(data_2009[c].value_counts().sort_index())\n",
    "print(missing_data(data_2009[c]))"
   ]
  },
  {
   "cell_type": "code",
   "execution_count": 78,
   "metadata": {
    "collapsed": false
   },
   "outputs": [
    {
     "name": "stdout",
     "output_type": "stream",
     "text": [
      "Index(['COMPLETA U ORDINARIA', 'MAÑANA', 'NOCHE', 'SABATINA - DOMINICAL',\n",
      "       'TARDE'],\n",
      "      dtype='object')\n",
      "COMPLETA U ORDINARIA    10201\n",
      "MAÑANA                  41429\n",
      "NOCHE                    5776\n",
      "SABATINA - DOMINICAL     4685\n",
      "TARDE                    7652\n",
      "Name: COLE_JORNADA, dtype: int64\n",
      "Elementos null/NaN 0\n",
      "__________________\n",
      "Elementos diferentes de null/NaN: 69743\n",
      "__________________\n",
      "(69743,)\n",
      "None\n"
     ]
    }
   ],
   "source": [
    "c = 'COLE_JORNADA'\n",
    "print(data_2009[c].value_counts().sort_index().index)\n",
    "print(data_2009[c].value_counts().sort_index())\n",
    "print(missing_data(data_2009[c]))"
   ]
  },
  {
   "cell_type": "code",
   "execution_count": 79,
   "metadata": {
    "collapsed": false
   },
   "outputs": [
    {
     "name": "stdout",
     "output_type": "stream",
     "text": [
      "Index(['ACADEMICO', 'ACADEMICO Y TECNICO', 'NORMALISTA', 'TECNICO'], dtype='object')\n",
      "ACADEMICO              38205\n",
      "ACADEMICO Y TECNICO    11354\n",
      "NORMALISTA              1585\n",
      "TECNICO                18599\n",
      "Name: COLE_CARACTER, dtype: int64\n",
      "Elementos null/NaN 0\n",
      "__________________\n",
      "Elementos diferentes de null/NaN: 69743\n",
      "__________________\n",
      "(69743,)\n",
      "None\n"
     ]
    }
   ],
   "source": [
    "c = 'COLE_CARACTER'\n",
    "print(data_2009[c].value_counts().sort_index().index)\n",
    "print(data_2009[c].value_counts().sort_index())\n",
    "print(missing_data(data_2009[c]))"
   ]
  },
  {
   "cell_type": "code",
   "execution_count": 80,
   "metadata": {
    "collapsed": false
   },
   "outputs": [
    {
     "name": "stdout",
     "output_type": "stream",
     "text": [
      "Float64Index([0.0, 1.0, 2.0, 3.0, 4.0], dtype='float64')\n",
      "0    56292\n",
      "1    10566\n",
      "2     2212\n",
      "3      659\n",
      "4        7\n",
      "Name: ESTU_VECES_ESTADO, dtype: int64\n",
      "Elementos null/NaN 7\n",
      "__________________\n",
      "Elementos diferentes de null/NaN: 69736\n",
      "__________________\n",
      "(69736,)\n",
      "None\n"
     ]
    }
   ],
   "source": [
    "c = 'ESTU_VECES_ESTADO'\n",
    "print(data_2009[c].value_counts().sort_index().index)\n",
    "print(data_2009[c].value_counts().sort_index())\n",
    "print(missing_data(data_2009[c]))"
   ]
  },
  {
   "cell_type": "code",
   "execution_count": 81,
   "metadata": {
    "collapsed": false
   },
   "outputs": [
    {
     "name": "stdout",
     "output_type": "stream",
     "text": [
      "Float64Index([0.0, 1.0, 2.0, 3.0], dtype='float64')\n",
      "0     4332\n",
      "1     6264\n",
      "2     5157\n",
      "3    46752\n",
      "Name: ESTU_CARRDESEADA_TIPO, dtype: int64\n",
      "Elementos null/NaN 7238\n",
      "__________________\n",
      "Elementos diferentes de null/NaN: 62505\n",
      "__________________\n",
      "(62505,)\n",
      "None\n"
     ]
    }
   ],
   "source": [
    "c = 'ESTU_CARRDESEADA_TIPO'\n",
    "print(data_2009[c].value_counts().sort_index().index)\n",
    "print(data_2009[c].value_counts().sort_index())\n",
    "print(missing_data(data_2009[c]))"
   ]
  },
  {
   "cell_type": "code",
   "execution_count": 82,
   "metadata": {
    "collapsed": false,
    "scrolled": true
   },
   "outputs": [
    {
     "name": "stdout",
     "output_type": "stream",
     "text": [
      "Float64Index([  1.0,   2.0,   3.0,   4.0,   5.0,   6.0,   7.0,   8.0,   9.0,\n",
      "               11.0,  12.0,  13.0,  18.0,  19.0,  20.0,  21.0,  22.0,  23.0,\n",
      "               24.0,  25.0,  26.0,  27.0,  28.0,  29.0,  30.0,  31.0,  32.0,\n",
      "               33.0,  34.0,  35.0,  36.0,  37.0,  39.0,  40.0,  41.0,  42.0,\n",
      "               44.0,  45.0,  46.0,  47.0,  48.0,  50.0,  53.0,  55.0,  56.0,\n",
      "               57.0,  58.0,  59.0,  61.0,  62.0,  64.0,  66.0,  68.0,  69.0,\n",
      "               70.0,  99.0, 122.0],\n",
      "             dtype='float64')\n",
      "1       774\n",
      "2       480\n",
      "3       638\n",
      "4       456\n",
      "5       139\n",
      "6       433\n",
      "7      2597\n",
      "8       457\n",
      "9      5868\n",
      "11     1525\n",
      "12     2134\n",
      "13     1197\n",
      "18     1287\n",
      "19      154\n",
      "20      829\n",
      "21      551\n",
      "22      345\n",
      "23      641\n",
      "24      343\n",
      "25      939\n",
      "26      127\n",
      "27     4466\n",
      "28      537\n",
      "29     1096\n",
      "30     1747\n",
      "31     1724\n",
      "32      377\n",
      "33      328\n",
      "34      490\n",
      "35      174\n",
      "36      102\n",
      "37      204\n",
      "39      171\n",
      "40      404\n",
      "41     3389\n",
      "42      393\n",
      "44      105\n",
      "45     5200\n",
      "46      179\n",
      "47     2084\n",
      "48      127\n",
      "50      194\n",
      "53      127\n",
      "55       85\n",
      "56      651\n",
      "57     1867\n",
      "58      551\n",
      "59     2535\n",
      "61     1247\n",
      "62      170\n",
      "64      713\n",
      "66     2064\n",
      "68      278\n",
      "69      414\n",
      "70       65\n",
      "99     2005\n",
      "122       1\n",
      "Name: ESTU_CARRDESEADA_NUCLEO, dtype: int64\n",
      "Elementos null/NaN 11565\n",
      "__________________\n",
      "Elementos diferentes de null/NaN: 58178\n",
      "__________________\n",
      "(58178,)\n",
      "None\n"
     ]
    }
   ],
   "source": [
    "c = 'ESTU_CARRDESEADA_NUCLEO'\n",
    "print(data_2009[c].value_counts().sort_index().index)\n",
    "print(data_2009[c].value_counts().sort_index())\n",
    "print(missing_data(data_2009[c]))"
   ]
  },
  {
   "cell_type": "code",
   "execution_count": 83,
   "metadata": {
    "collapsed": false,
    "scrolled": true
   },
   "outputs": [
    {
     "name": "stdout",
     "output_type": "stream",
     "text": [
      "Float64Index([1101.0, 1102.0, 1103.0, 1104.0, 1105.0, 1106.0, 1108.0, 1109.0,\n",
      "              1110.0, 1111.0,\n",
      "              ...\n",
      "              9103.0, 9104.0, 9105.0, 9107.0, 9110.0, 9111.0, 9112.0, 9113.0,\n",
      "              9114.0, 9115.0],\n",
      "             dtype='float64', length=304)\n",
      "1101     2063\n",
      "1102      166\n",
      "1103      172\n",
      "1104      652\n",
      "1105      149\n",
      "1106      104\n",
      "1108       26\n",
      "1109        8\n",
      "1110     1183\n",
      "1111      770\n",
      "1112      278\n",
      "1113       36\n",
      "1114       81\n",
      "1115       49\n",
      "1117       70\n",
      "1118        7\n",
      "1119      147\n",
      "1120       52\n",
      "1121       23\n",
      "1122      562\n",
      "1124        8\n",
      "1125        1\n",
      "1201     1029\n",
      "1202       40\n",
      "1203    25022\n",
      "1204      190\n",
      "1205       65\n",
      "1206     6529\n",
      "1207      172\n",
      "1208      461\n",
      "        ...  \n",
      "4810       26\n",
      "4811       46\n",
      "4812       11\n",
      "4813       88\n",
      "4814      105\n",
      "4817        9\n",
      "4818        5\n",
      "4822       26\n",
      "4825        1\n",
      "4826        3\n",
      "4827        4\n",
      "4829        3\n",
      "4832        9\n",
      "4835       22\n",
      "4836        1\n",
      "4837        2\n",
      "5801        4\n",
      "5802       66\n",
      "9101       69\n",
      "9102        4\n",
      "9103      523\n",
      "9104      251\n",
      "9105       50\n",
      "9107       27\n",
      "9110      381\n",
      "9111     1633\n",
      "9112      237\n",
      "9113       29\n",
      "9114       47\n",
      "9115      346\n",
      "Name: ESTU_IES_COD_DESEADA, dtype: int64\n",
      "Elementos null/NaN 4640\n",
      "__________________\n",
      "Elementos diferentes de null/NaN: 65103\n",
      "__________________\n",
      "(65103,)\n",
      "None\n"
     ]
    }
   ],
   "source": [
    "c = 'ESTU_IES_COD_DESEADA'\n",
    "print(data_2009[c].value_counts().sort_index().index)\n",
    "print(data_2009[c].value_counts().sort_index())\n",
    "print(missing_data(data_2009[c]))"
   ]
  },
  {
   "cell_type": "code",
   "execution_count": 84,
   "metadata": {
    "collapsed": false,
    "scrolled": true
   },
   "outputs": [
    {
     "name": "stdout",
     "output_type": "stream",
     "text": [
      "Index(['ANDES', 'ARAUCA', 'ARMENIA', 'BARRANCABERMEJA', 'BARRANQUILLA',\n",
      "       'BELLO', 'BOGOTÁ D.C.', 'BUCARAMANGA', 'BUENAVENTURA', 'BUGA', 'CALDAS',\n",
      "       'CALI', 'CARMEN DE VIBORAL', 'CARTAGENA', 'CARTAGO', 'CAUCASIA', 'CHIA',\n",
      "       'CHIQUINQUIRA', 'CUCUTA', 'ENVIGADO', 'ESPINAL', 'FACATATIVA',\n",
      "       'FLORENCIA', 'FUSAGASUGA', 'GIRARDOT', 'HONDA', 'IBAGUE', 'LETICIA',\n",
      "       'MADRID', 'MANIZALES', 'MEDELLIN', 'MOCOA', 'MONTERIA', 'MOSQUERA',\n",
      "       'NEIVA', 'NILO', 'OCAÑA', 'PALMIRA', 'PAMPLONA', 'PASTO', 'PEREIRA',\n",
      "       'POPAYAN', 'QUIBDO', 'RIOHACHA', 'RIONEGRO', 'ROLDANILLO', 'SABANETA',\n",
      "       'SAN ANDRES', 'SAN GIL', 'SANTA MARTA', 'SANTA ROSA DE CABAL',\n",
      "       'SANTA ROSA DE OSOS', 'SANTAFÉ DE ANTIOQUIA', 'SEVILLA', 'SINCELEJO',\n",
      "       'SOCORRO', 'SOGAMOSO', 'TULUA', 'TUNJA', 'TURBO', 'UBATE', 'VALLEDUPAR',\n",
      "       'VILLAVICENCIO', 'YOPAL'],\n",
      "      dtype='object')\n",
      "ANDES                       6\n",
      "ARAUCA                      8\n",
      "ARMENIA                   550\n",
      "BARRANCABERMEJA            11\n",
      "BARRANQUILLA              503\n",
      "BELLO                     551\n",
      "BOGOTÁ D.C.             11317\n",
      "BUCARAMANGA               459\n",
      "BUENAVENTURA              562\n",
      "BUGA                      398\n",
      "CALDAS                     17\n",
      "CALI                    33250\n",
      "CARMEN DE VIBORAL           1\n",
      "CARTAGENA                 154\n",
      "CARTAGO                   128\n",
      "CAUCASIA                   22\n",
      "CHIA                      363\n",
      "CHIQUINQUIRA                8\n",
      "CUCUTA                    119\n",
      "ENVIGADO                   22\n",
      "ESPINAL                    39\n",
      "FACATATIVA                  9\n",
      "FLORENCIA                  49\n",
      "FUSAGASUGA                129\n",
      "GIRARDOT                   19\n",
      "HONDA                      10\n",
      "IBAGUE                    182\n",
      "LETICIA                     1\n",
      "MADRID                     15\n",
      "MANIZALES                 683\n",
      "                        ...  \n",
      "NEIVA                      92\n",
      "NILO                        1\n",
      "OCAÑA                       2\n",
      "PALMIRA                   763\n",
      "PAMPLONA                   60\n",
      "PASTO                    7392\n",
      "PEREIRA                   927\n",
      "POPAYAN                  1287\n",
      "QUIBDO                      7\n",
      "RIOHACHA                   48\n",
      "RIONEGRO                    6\n",
      "ROLDANILLO                199\n",
      "SABANETA                   12\n",
      "SAN ANDRES                  1\n",
      "SAN GIL                    56\n",
      "SANTA MARTA                64\n",
      "SANTA ROSA DE CABAL        33\n",
      "SANTA ROSA DE OSOS         93\n",
      "SANTAFÉ DE ANTIOQUIA        9\n",
      "SEVILLA                     6\n",
      "SINCELEJO                  11\n",
      "SOCORRO                     2\n",
      "SOGAMOSO                   26\n",
      "TULUA                     999\n",
      "TUNJA                     132\n",
      "TURBO                       1\n",
      "UBATE                      14\n",
      "VALLEDUPAR                 52\n",
      "VILLAVICENCIO             187\n",
      "YOPAL                      41\n",
      "Name: ESTU_IES_MPIO_DESEADA, dtype: int64\n",
      "Elementos null/NaN 4640\n",
      "__________________\n",
      "Elementos diferentes de null/NaN: 65103\n",
      "__________________\n",
      "(65103,)\n",
      "None\n"
     ]
    }
   ],
   "source": [
    "c = 'ESTU_IES_MPIO_DESEADA'\n",
    "print(data_2009[c].value_counts().sort_index().index)\n",
    "print(data_2009[c].value_counts().sort_index())\n",
    "print(missing_data(data_2009[c]))"
   ]
  },
  {
   "cell_type": "code",
   "execution_count": 85,
   "metadata": {
    "collapsed": false,
    "scrolled": true
   },
   "outputs": [
    {
     "name": "stdout",
     "output_type": "stream",
     "text": [
      "Index(['AMAZONAS', 'ANTIOQUIA', 'ARAUCA', 'ATLÁNTICO', 'BOGOTÁ', 'BOLÍVAR',\n",
      "       'BOYACÁ', 'CALDAS', 'CAQUETÁ', 'CASANARE', 'CAUCA', 'CESAR', 'CHOCÓ',\n",
      "       'CUNDINAMARCA', 'CÓRDOBA', 'HUILA', 'LA GUAJIRA', 'MAGDALENA', 'META',\n",
      "       'NARIÑO', 'NORTE SANTANDER', 'PUTUMAYO', 'QUINDÍO', 'RISARALDA',\n",
      "       'SAN ANDRÉS', 'SANTANDER', 'SUCRE', 'TOLIMA', 'VALLE'],\n",
      "      dtype='object')\n",
      "AMAZONAS               1\n",
      "ANTIOQUIA           3660\n",
      "ARAUCA                 8\n",
      "ATLÁNTICO            503\n",
      "BOGOTÁ             11317\n",
      "BOLÍVAR              154\n",
      "BOYACÁ               166\n",
      "CALDAS               683\n",
      "CAQUETÁ               49\n",
      "CASANARE              41\n",
      "CAUCA               1287\n",
      "CESAR                 52\n",
      "CHOCÓ                  7\n",
      "CUNDINAMARCA         579\n",
      "CÓRDOBA               40\n",
      "HUILA                 92\n",
      "LA GUAJIRA            48\n",
      "MAGDALENA             64\n",
      "META                 187\n",
      "NARIÑO              7392\n",
      "NORTE SANTANDER      181\n",
      "PUTUMAYO               6\n",
      "QUINDÍO              550\n",
      "RISARALDA            960\n",
      "SAN ANDRÉS             1\n",
      "SANTANDER            528\n",
      "SUCRE                 11\n",
      "TOLIMA               231\n",
      "VALLE              36305\n",
      "Name: ESTU_IES_DEPT_DESEADA, dtype: int64\n",
      "Elementos null/NaN 4640\n",
      "__________________\n",
      "Elementos diferentes de null/NaN: 65103\n",
      "__________________\n",
      "(65103,)\n",
      "None\n"
     ]
    }
   ],
   "source": [
    "c = 'ESTU_IES_DEPT_DESEADA'\n",
    "print(data_2009[c].value_counts().sort_index().index)\n",
    "print(data_2009[c].value_counts().sort_index())\n",
    "print(missing_data(data_2009[c]))"
   ]
  },
  {
   "cell_type": "code",
   "execution_count": 86,
   "metadata": {
    "collapsed": false
   },
   "outputs": [
    {
     "name": "stdout",
     "output_type": "stream",
     "text": [
      "Float64Index([1.0, 2.0, 3.0, 4.0, 5.0, 6.0, 7.0, 8.0], dtype='float64')\n",
      "1     1645\n",
      "2    15504\n",
      "3    29570\n",
      "4     7022\n",
      "5     5212\n",
      "6     2471\n",
      "7     2049\n",
      "8     1644\n",
      "Name: ESTU_RAZONINSTITUTO, dtype: int64\n",
      "Elementos null/NaN 4626\n",
      "__________________\n",
      "Elementos diferentes de null/NaN: 65117\n",
      "__________________\n",
      "(65117,)\n",
      "None\n"
     ]
    }
   ],
   "source": [
    "c = 'ESTU_RAZONINSTITUTO'\n",
    "print(data_2009[c].value_counts().sort_index().index)\n",
    "print(data_2009[c].value_counts().sort_index())\n",
    "print(missing_data(data_2009[c]))"
   ]
  },
  {
   "cell_type": "code",
   "execution_count": 87,
   "metadata": {
    "collapsed": false,
    "scrolled": true
   },
   "outputs": [
    {
     "name": "stdout",
     "output_type": "stream",
     "text": [
      "Float64Index([  621.0,   643.0,  1820.0,  1869.0,  1870.0,  1882.0,  3647.0,\n",
      "               4752.0,  4999.0,  6136.0,\n",
      "              ...\n",
      "              18129.0, 18548.0, 19902.0, 19918.0, 20143.0, 20146.0, 21612.0,\n",
      "              21889.0, 22468.0, 22567.0],\n",
      "             dtype='float64', length=122)\n",
      "621       1\n",
      "643       1\n",
      "1820      1\n",
      "1869      1\n",
      "1870      1\n",
      "1882      1\n",
      "3647      1\n",
      "4752      1\n",
      "4999      1\n",
      "6136      1\n",
      "7343      2\n",
      "7355      1\n",
      "7387      1\n",
      "8046      1\n",
      "8145      3\n",
      "8411      1\n",
      "8651      1\n",
      "8755      1\n",
      "8803      1\n",
      "9076      1\n",
      "9390      3\n",
      "9579     10\n",
      "9718      1\n",
      "9845      1\n",
      "10082     3\n",
      "10083     3\n",
      "10132     3\n",
      "10392     2\n",
      "10742     4\n",
      "10755     1\n",
      "         ..\n",
      "15312     2\n",
      "15468     1\n",
      "15570     1\n",
      "15601     1\n",
      "15650     1\n",
      "15819     2\n",
      "15955     2\n",
      "15956     1\n",
      "16058     3\n",
      "16153     1\n",
      "16242     1\n",
      "16248     1\n",
      "16307     1\n",
      "16359     1\n",
      "16552     1\n",
      "16627     1\n",
      "17527     1\n",
      "17699     1\n",
      "18004     1\n",
      "18038     1\n",
      "18129     1\n",
      "18548     1\n",
      "19902     1\n",
      "19918     1\n",
      "20143     7\n",
      "20146     3\n",
      "21612     1\n",
      "21889     1\n",
      "22468     1\n",
      "22567     1\n",
      "Name: ESTU_CARRDESEADA_COD, dtype: int64\n",
      "Elementos null/NaN 69562\n",
      "__________________\n",
      "Elementos diferentes de null/NaN: 181\n",
      "__________________\n",
      "(181,)\n",
      "None\n"
     ]
    }
   ],
   "source": [
    "c = 'ESTU_CARRDESEADA_COD'\n",
    "print(data_2009[c].value_counts().sort_index().index)\n",
    "print(data_2009[c].value_counts().sort_index())\n",
    "print(missing_data(data_2009[c]))"
   ]
  },
  {
   "cell_type": "code",
   "execution_count": 88,
   "metadata": {
    "collapsed": false
   },
   "outputs": [
    {
     "name": "stdout",
     "output_type": "stream",
     "text": [
      "Float64Index([1.0, 2.0, 3.0, 4.0, 6.0, 7.0], dtype='float64')\n",
      "1    13378\n",
      "2    28910\n",
      "3     9644\n",
      "4     7541\n",
      "6      536\n",
      "7     5108\n",
      "Name: ESTU_CARRDESEADA_RAZON, dtype: int64\n",
      "Elementos null/NaN 4626\n",
      "__________________\n",
      "Elementos diferentes de null/NaN: 65117\n",
      "__________________\n",
      "(65117,)\n",
      "None\n"
     ]
    }
   ],
   "source": [
    "c = 'ESTU_CARRDESEADA_RAZON'\n",
    "print(data_2009[c].value_counts().sort_index().index)\n",
    "print(data_2009[c].value_counts().sort_index())\n",
    "print(missing_data(data_2009[c]))"
   ]
  },
  {
   "cell_type": "code",
   "execution_count": 89,
   "metadata": {
    "collapsed": false,
    "scrolled": true
   },
   "outputs": [
    {
     "name": "stdout",
     "output_type": "stream",
     "text": [
      "Index(['AGUACHICA', 'ALBAN (SAN JOSE)', 'ALBANIA', 'ALCALA', 'ANDALUCIA',\n",
      "       'ANSERMANUEVO', 'APARTADO', 'ARAUCA', 'ARMENIA', 'BARBACOAS',\n",
      "       ...\n",
      "       'TUMACO', 'TUNJA', 'TUQUERRES', 'VALLEDUPAR', 'VELEZ', 'VILLAVICENCIO',\n",
      "       'YOPAL', 'YUMBO', 'ZARZAL', 'ZIPAQUIRA'],\n",
      "      dtype='object', length=113)\n",
      "AGUACHICA                    33\n",
      "ALBAN (SAN JOSE)            148\n",
      "ALBANIA                      42\n",
      "ALCALA                       92\n",
      "ANDALUCIA                   189\n",
      "ANSERMANUEVO                145\n",
      "APARTADO                     50\n",
      "ARAUCA                       61\n",
      "ARMENIA                     175\n",
      "BARBACOAS                   231\n",
      "BARRANCABERMEJA              44\n",
      "BARRANQUILLA                694\n",
      "BELLO                       230\n",
      "BOGOTÁ D.C.                6223\n",
      "BOLIVAR                      88\n",
      "BUCARAMANGA                 526\n",
      "BUENAVENTURA               2259\n",
      "BUESACO                     191\n",
      "BUGA                       1410\n",
      "BUGALAGRANDE                248\n",
      "CAICEDONIA                  277\n",
      "CALI                      21698\n",
      "CALIMA (DARIEN)             199\n",
      "CANDELARIA                  648\n",
      "CARTAGENA                   291\n",
      "CARTAGO                    1548\n",
      "CAUCASIA                    156\n",
      "CHAPARRAL                    80\n",
      "CHIA                        409\n",
      "CONSACA                      95\n",
      "                          ...  \n",
      "RIONEGRO                     20\n",
      "ROLDANILLO                  553\n",
      "SAMANIEGO                   330\n",
      "SAN PABLO                   229\n",
      "SANDONA                     299\n",
      "SANTA MARTA                  62\n",
      "SANTA ROSA DE OSOS          281\n",
      "SANTANDER DE QUILICHAO      117\n",
      "SEVILLA                     412\n",
      "SILVIA                        8\n",
      "SINCELEJO                     9\n",
      "SOACHA                      175\n",
      "SOCORRO                       3\n",
      "SOGAMOSO                    134\n",
      "TAME                         29\n",
      "TAMINANGO                   243\n",
      "TANGUA                       67\n",
      "TORO                        120\n",
      "TRUJILLO                    198\n",
      "TULUA                      2702\n",
      "TUMACO                       13\n",
      "TUNJA                       121\n",
      "TUQUERRES                   560\n",
      "VALLEDUPAR                   85\n",
      "VELEZ                         9\n",
      "VILLAVICENCIO               255\n",
      "YOPAL                       174\n",
      "YUMBO                      1120\n",
      "ZARZAL                      517\n",
      "ZIPAQUIRA                   155\n",
      "Name: ESTU_MCPIO_PRESENTACION, dtype: int64\n",
      "Elementos null/NaN 0\n",
      "__________________\n",
      "Elementos diferentes de null/NaN: 69743\n",
      "__________________\n",
      "(69743,)\n",
      "None\n"
     ]
    }
   ],
   "source": [
    "c = 'ESTU_MCPIO_PRESENTACION'\n",
    "print(data_2009[c].value_counts().sort_index().index)\n",
    "print(data_2009[c].value_counts().sort_index())\n",
    "print(missing_data(data_2009[c]))"
   ]
  },
  {
   "cell_type": "code",
   "execution_count": 90,
   "metadata": {
    "collapsed": false,
    "scrolled": true
   },
   "outputs": [
    {
     "name": "stdout",
     "output_type": "stream",
     "text": [
      "Index(['ANTIOQUIA', 'ARAUCA', 'ATLÁNTICO', 'BOGOTÁ', 'BOLÍVAR', 'BOYACÁ',\n",
      "       'CALDAS', 'CAQUETÁ', 'CASANARE', 'CAUCA', 'CESAR', 'CHOCÓ',\n",
      "       'CUNDINAMARCA', 'CÓRDOBA', 'HUILA', 'LA GUAJIRA', 'MAGDALENA', 'META',\n",
      "       'NARIÑO', 'NORTE SANTANDER', 'PUTUMAYO', 'QUINDÍO', 'RISARALDA',\n",
      "       'SANTANDER', 'SUCRE', 'TOLIMA', 'VALLE', 'VICHADA'],\n",
      "      dtype='object')\n",
      "ANTIOQUIA           3122\n",
      "ARAUCA                90\n",
      "ATLÁNTICO            694\n",
      "BOGOTÁ              6223\n",
      "BOLÍVAR              292\n",
      "BOYACÁ               255\n",
      "CALDAS               409\n",
      "CAQUETÁ               64\n",
      "CASANARE             196\n",
      "CAUCA               1043\n",
      "CESAR                118\n",
      "CHOCÓ                  1\n",
      "CUNDINAMARCA        1045\n",
      "CÓRDOBA               58\n",
      "HUILA                277\n",
      "LA GUAJIRA           110\n",
      "MAGDALENA             62\n",
      "META                 271\n",
      "NARIÑO             12335\n",
      "NORTE SANTANDER      176\n",
      "PUTUMAYO              88\n",
      "QUINDÍO              175\n",
      "RISARALDA            261\n",
      "SANTANDER            582\n",
      "SUCRE                  9\n",
      "TOLIMA               322\n",
      "VALLE              41459\n",
      "VICHADA                6\n",
      "Name: ESTU_DEPTO_PRESENTACION, dtype: int64\n",
      "Elementos null/NaN 0\n",
      "__________________\n",
      "Elementos diferentes de null/NaN: 69743\n",
      "__________________\n",
      "(69743,)\n",
      "None\n"
     ]
    }
   ],
   "source": [
    "c = 'ESTU_DEPTO_PRESENTACION'\n",
    "print(data_2009[c].value_counts().sort_index().index)\n",
    "print(data_2009[c].value_counts().sort_index())\n",
    "print(missing_data(data_2009[c]))"
   ]
  },
  {
   "cell_type": "markdown",
   "metadata": {},
   "source": [
    "## TARGETS"
   ]
  },
  {
   "cell_type": "code",
   "execution_count": 91,
   "metadata": {
    "collapsed": false,
    "scrolled": true
   },
   "outputs": [
    {
     "name": "stdout",
     "output_type": "stream",
     "text": [
      "Index(['0', '11,97', '11,98', '20,26', '20,35', '25,49', '25,65', '29,46',\n",
      "       '29,66', '32,73', '32,96', '35,58', '35,83', '38,15', '38,41', '40,52',\n",
      "       '40,79', '42,75', '43,03', '44,9', '45,18', '47', '47,28', '49,07',\n",
      "       '49,34', '51,14', '51,41', '53,24', '53,5', '55,4', '55,65', '57,65',\n",
      "       '57,88', '60,02', '60,24', '62,59', '62,78', '65,43', '65,59', '68,67',\n",
      "       '68,8', '72,56', '72,67', '77,66', '77,73', '85,72', '85,76', '98,78'],\n",
      "      dtype='object')\n",
      "0           8\n",
      "11,97       8\n",
      "11,98      16\n",
      "20,26      50\n",
      "20,35      35\n",
      "25,49     149\n",
      "25,65     129\n",
      "29,46     316\n",
      "29,66     309\n",
      "32,73     687\n",
      "32,96     742\n",
      "35,58    1180\n",
      "35,83    1192\n",
      "38,15    1807\n",
      "38,41    1761\n",
      "40,52    2397\n",
      "40,79    2463\n",
      "42,75    2833\n",
      "43,03    3091\n",
      "44,9     3382\n",
      "45,18    3477\n",
      "47       3556\n",
      "47,28    3689\n",
      "49,07    3757\n",
      "49,34    3727\n",
      "51,14    3465\n",
      "51,41    3546\n",
      "53,24    3125\n",
      "53,5     3058\n",
      "55,4     2604\n",
      "55,65    2442\n",
      "57,65    1965\n",
      "57,88    1933\n",
      "60,02    1457\n",
      "60,24    1337\n",
      "62,59     944\n",
      "62,78     944\n",
      "65,43     622\n",
      "65,59     549\n",
      "68,67     323\n",
      "68,8      284\n",
      "72,56     136\n",
      "72,67     129\n",
      "77,66      44\n",
      "77,73      55\n",
      "85,72      13\n",
      "85,76       6\n",
      "98,78       1\n",
      "Name: PUNT_LENGUAJE, dtype: int64\n",
      "Elementos null/NaN 0\n",
      "__________________\n",
      "Elementos diferentes de null/NaN: 69743\n",
      "__________________\n",
      "(69743,)\n",
      "None\n"
     ]
    }
   ],
   "source": [
    "c = 'PUNT_LENGUAJE'\n",
    "print(data_2009[c].value_counts().sort_index().index)\n",
    "print(data_2009[c].value_counts().sort_index())\n",
    "print(missing_data(data_2009[c]))"
   ]
  },
  {
   "cell_type": "code",
   "execution_count": 92,
   "metadata": {
    "collapsed": true
   },
   "outputs": [],
   "source": [
    "clean_target(data_2009, c)"
   ]
  },
  {
   "cell_type": "code",
   "execution_count": 93,
   "metadata": {
    "collapsed": false,
    "scrolled": true
   },
   "outputs": [
    {
     "name": "stdout",
     "output_type": "stream",
     "text": [
      "Index(['0', '110,73', '111,15', '111,37', '18,64', '19,03', '19,12', '24,84',\n",
      "       '25,18', '25,28', '29,55', '29,84', '29,94', '33,44', '33,69', '33,8',\n",
      "       '36,84', '37,04', '37,17', '39,9', '40,08', '40,21', '42,74', '42,89',\n",
      "       '43,03', '45,43', '45,56', '45,71', '48,03', '48,13', '48,29', '50,56',\n",
      "       '50,65', '50,83', '53,09', '53,16', '53,35', '55,63', '55,7', '55,9',\n",
      "       '58,22', '58,3', '58,5', '60,92', '61', '61,22', '63,76', '63,86',\n",
      "       '64,09', '66,83', '66,96', '67,19', '70,23', '70,38', '70,62', '74,12',\n",
      "       '74,32', '74,56', '78,81', '79,06', '79,3', '8,77', '84,99', '85,29',\n",
      "       '85,53', '9,23', '9,31', '94,79', '94,8', '95,17', '95,4'],\n",
      "      dtype='object')\n",
      "0           25\n",
      "110,73      36\n",
      "111,15      14\n",
      "111,37      14\n",
      "18,64      314\n",
      "19,03      156\n",
      "19,12      150\n",
      "24,84      809\n",
      "25,18      438\n",
      "25,28      470\n",
      "29,55     1796\n",
      "29,84      896\n",
      "29,94      921\n",
      "33,44     2825\n",
      "33,69     1441\n",
      "33,8      1460\n",
      "36,84     3832\n",
      "37,04     1888\n",
      "37,17     1848\n",
      "39,9      4115\n",
      "40,08     2102\n",
      "40,21     2110\n",
      "42,74     3971\n",
      "42,89     2037\n",
      "43,03     1996\n",
      "45,43     3576\n",
      "45,56     1787\n",
      "45,71     1730\n",
      "48,03     2909\n",
      "48,13     1390\n",
      "          ... \n",
      "58,3       564\n",
      "58,5       617\n",
      "60,92      973\n",
      "61         449\n",
      "61,22      483\n",
      "63,76      840\n",
      "63,86      372\n",
      "64,09      405\n",
      "66,83      671\n",
      "66,96      348\n",
      "67,19      315\n",
      "70,23      532\n",
      "70,38      283\n",
      "70,62      274\n",
      "74,12      440\n",
      "74,32      215\n",
      "74,56      210\n",
      "78,81      324\n",
      "79,06      151\n",
      "79,3       178\n",
      "8,77        70\n",
      "84,99      198\n",
      "85,29       96\n",
      "85,53       89\n",
      "9,23        37\n",
      "9,31        39\n",
      "94,79       47\n",
      "94,8        52\n",
      "95,17       29\n",
      "95,4        40\n",
      "Name: PUNT_MATEMATICAS, dtype: int64\n",
      "Elementos null/NaN 0\n",
      "__________________\n",
      "Elementos diferentes de null/NaN: 69743\n",
      "__________________\n",
      "(69743,)\n",
      "None\n"
     ]
    }
   ],
   "source": [
    "c = 'PUNT_MATEMATICAS'\n",
    "print(data_2009[c].value_counts().sort_index().index)\n",
    "print(data_2009[c].value_counts().sort_index())\n",
    "print(missing_data(data_2009[c]))"
   ]
  },
  {
   "cell_type": "code",
   "execution_count": 94,
   "metadata": {
    "collapsed": true
   },
   "outputs": [],
   "source": [
    "clean_target(data_2009, c)"
   ]
  },
  {
   "cell_type": "code",
   "execution_count": 95,
   "metadata": {
    "collapsed": false,
    "scrolled": true
   },
   "outputs": [
    {
     "name": "stdout",
     "output_type": "stream",
     "text": [
      "Index(['0', '13,5', '13,56', '19,3', '19,33', '23,66', '23,67', '27,22',\n",
      "       '27,23', '30,28', '30,3', '33,02', '33,03', '35,51', '35,53', '37,83',\n",
      "       '37,85', '4,15', '4,26', '40,03', '40,04', '42,12', '42,13', '44,14',\n",
      "       '46,11', '48,04', '48,05', '49,96', '51,87', '51,88', '53,79', '53,8',\n",
      "       '55,75', '57,75', '59,82', '61,97', '64,26', '66,7', '66,71', '69,38',\n",
      "       '69,39', '72,38', '72,4', '75,87', '75,89', '80,16'],\n",
      "      dtype='object')\n",
      "0           2\n",
      "13,5       11\n",
      "13,56      17\n",
      "19,3       44\n",
      "19,33      64\n",
      "23,66     121\n",
      "23,67     208\n",
      "27,22     430\n",
      "27,23     310\n",
      "30,28     890\n",
      "30,3      587\n",
      "33,02    1387\n",
      "33,03    1094\n",
      "35,51    2119\n",
      "35,53    1617\n",
      "37,83    2869\n",
      "37,85    2137\n",
      "4,15        2\n",
      "4,26        4\n",
      "40,03    3456\n",
      "40,04    2747\n",
      "42,12    3675\n",
      "42,13    3201\n",
      "44,14    7231\n",
      "46,11    7350\n",
      "48,04    3111\n",
      "48,05    3529\n",
      "49,96    5754\n",
      "51,87    2415\n",
      "51,88    2525\n",
      "53,79    1880\n",
      "53,8     1811\n",
      "55,75    2713\n",
      "57,75    1872\n",
      "59,82    1206\n",
      "61,97     714\n",
      "64,26     380\n",
      "66,7       67\n",
      "66,71     107\n",
      "69,38      23\n",
      "69,39      36\n",
      "72,38      11\n",
      "72,4       10\n",
      "75,87       2\n",
      "75,89       3\n",
      "80,16       1\n",
      "Name: PUNT_C_SOCIALES, dtype: int64\n",
      "Elementos null/NaN 0\n",
      "__________________\n",
      "Elementos diferentes de null/NaN: 69743\n",
      "__________________\n",
      "(69743,)\n",
      "None\n"
     ]
    }
   ],
   "source": [
    "c = 'PUNT_C_SOCIALES'\n",
    "print(data_2009[c].value_counts().sort_index().index)\n",
    "print(data_2009[c].value_counts().sort_index())\n",
    "print(missing_data(data_2009[c]))"
   ]
  },
  {
   "cell_type": "code",
   "execution_count": 96,
   "metadata": {
    "collapsed": true
   },
   "outputs": [],
   "source": [
    "clean_target(data_2009, c)"
   ]
  },
  {
   "cell_type": "code",
   "execution_count": 97,
   "metadata": {
    "collapsed": false,
    "scrolled": true
   },
   "outputs": [
    {
     "name": "stdout",
     "output_type": "stream",
     "text": [
      "Index(['0', '13,25', '13,62', '17,21', '22,38', '22,73', '26,41', '28,11',\n",
      "       '28,44', '32,22', '32,47', '32,78', '36,08', '36,39', '36,66', '39,25',\n",
      "       '39,54', '40,37', '42,11', '42,4', '43,64', '44,77', '45,07', '46,63',\n",
      "       '47,29', '47,61', '49,44', '49,72', '50,07', '52,09', '52,13', '52,48',\n",
      "       '54,45', '54,78', '54,89', '56,81', '57,33', '57,41', '59,21', '59,84',\n",
      "       '60,08', '61,69', '62,46', '62,84', '64,28', '65,24', '65,73', '67,02',\n",
      "       '68,25', '68,84', '70,01', '71,6', '72,28', '73,32', '75,46', '76,19',\n",
      "       '80,13', '80,88'],\n",
      "      dtype='object')\n",
      "0          36\n",
      "13,25      59\n",
      "13,62      17\n",
      "17,21     112\n",
      "22,38     285\n",
      "22,73     104\n",
      "26,41     441\n",
      "28,11     833\n",
      "28,44     271\n",
      "32,22    1032\n",
      "32,47    1795\n",
      "32,78     628\n",
      "36,08    3016\n",
      "36,39    1044\n",
      "36,66    1985\n",
      "39,25    4367\n",
      "39,54    1406\n",
      "40,37    2836\n",
      "42,11    5054\n",
      "42,4     1811\n",
      "43,64    3313\n",
      "44,77    5477\n",
      "45,07    1839\n",
      "46,63    3290\n",
      "47,29    5103\n",
      "47,61    1523\n",
      "49,44    2775\n",
      "49,72    4034\n",
      "50,07    1269\n",
      "52,09    2991\n",
      "52,13    2074\n",
      "52,48     852\n",
      "54,45    1889\n",
      "54,78    1218\n",
      "54,89     593\n",
      "56,81    1131\n",
      "57,33     355\n",
      "57,41     684\n",
      "59,21     646\n",
      "59,84     219\n",
      "60,08     371\n",
      "61,69     279\n",
      "62,46     108\n",
      "62,84     169\n",
      "64,28     135\n",
      "65,24      49\n",
      "65,73      66\n",
      "67,02      68\n",
      "68,25      14\n",
      "68,84      21\n",
      "70,01      21\n",
      "71,6        5\n",
      "72,28      13\n",
      "73,32       8\n",
      "75,46       3\n",
      "76,19       3\n",
      "80,13       1\n",
      "80,88       2\n",
      "Name: PUNT_FILOSOFIA, dtype: int64\n",
      "Elementos null/NaN 0\n",
      "__________________\n",
      "Elementos diferentes de null/NaN: 69743\n",
      "__________________\n",
      "(69743,)\n",
      "None\n"
     ]
    }
   ],
   "source": [
    "c = 'PUNT_FILOSOFIA'\n",
    "print(data_2009[c].value_counts().sort_index().index)\n",
    "print(data_2009[c].value_counts().sort_index())\n",
    "print(missing_data(data_2009[c]))"
   ]
  },
  {
   "cell_type": "code",
   "execution_count": 98,
   "metadata": {
    "collapsed": true
   },
   "outputs": [],
   "source": [
    "clean_target(data_2009, c)"
   ]
  },
  {
   "cell_type": "code",
   "execution_count": 99,
   "metadata": {
    "collapsed": false,
    "scrolled": true
   },
   "outputs": [
    {
     "name": "stdout",
     "output_type": "stream",
     "text": [
      "Index(['0', '14,89', '14,99', '22,6', '22,76', '27,45', '27,68', '31,17',\n",
      "       '31,45', '34,26', '34,61', '36,99', '37,4', '39,47', '39,93', '41,79',\n",
      "       '42,3', '44', '44,56', '46,13', '46,74', '48,23', '48,87', '50,31',\n",
      "       '50,99', '52,41', '53,11', '54,55', '55,27', '56,75', '57,49', '59,08',\n",
      "       '59,82', '61,56', '62,31', '64,3', '65,04', '67,41', '68,14', '71,14',\n",
      "       '71,85', '76,02', '76,71', '83,75', '84,42', '96,34', '96,99'],\n",
      "      dtype='object')\n",
      "0          21\n",
      "14,89      41\n",
      "14,99      74\n",
      "22,6      228\n",
      "22,76     260\n",
      "27,45     587\n",
      "27,68     674\n",
      "31,17    1239\n",
      "31,45    1380\n",
      "34,26    2230\n",
      "34,61    2363\n",
      "36,99    2991\n",
      "37,4     3122\n",
      "39,47    3535\n",
      "39,93    3771\n",
      "41,79    4011\n",
      "42,3     4104\n",
      "44       3896\n",
      "44,56    3798\n",
      "46,13    3546\n",
      "46,74    3475\n",
      "48,23    3106\n",
      "48,87    2957\n",
      "50,31    2474\n",
      "50,99    2446\n",
      "52,41    1974\n",
      "53,11    1929\n",
      "54,55    1611\n",
      "55,27    1416\n",
      "56,75    1212\n",
      "57,49    1057\n",
      "59,08     890\n",
      "59,82     786\n",
      "61,56     589\n",
      "62,31     557\n",
      "64,3      350\n",
      "65,04     362\n",
      "67,41     167\n",
      "68,14     213\n",
      "71,14      94\n",
      "71,85     101\n",
      "76,02      35\n",
      "76,71      40\n",
      "83,75      10\n",
      "84,42      17\n",
      "96,34       3\n",
      "96,99       1\n",
      "Name: PUNT_BIOLOGIA, dtype: int64\n",
      "Elementos null/NaN 0\n",
      "__________________\n",
      "Elementos diferentes de null/NaN: 69743\n",
      "__________________\n",
      "(69743,)\n",
      "None\n"
     ]
    }
   ],
   "source": [
    "c = 'PUNT_BIOLOGIA'\n",
    "print(data_2009[c].value_counts().sort_index().index)\n",
    "print(data_2009[c].value_counts().sort_index())\n",
    "print(missing_data(data_2009[c]))"
   ]
  },
  {
   "cell_type": "code",
   "execution_count": 100,
   "metadata": {
    "collapsed": true
   },
   "outputs": [],
   "source": [
    "clean_target(data_2009, c)"
   ]
  },
  {
   "cell_type": "code",
   "execution_count": 101,
   "metadata": {
    "collapsed": false,
    "scrolled": true
   },
   "outputs": [
    {
     "name": "stdout",
     "output_type": "stream",
     "text": [
      "Index(['0', '18,39', '18,56', '25,21', '25,4', '29,46', '29,66', '32,65',\n",
      "       '32,87', '35,28', '35,51', '37,57', '37,8', '39,62', '39,86', '41,52',\n",
      "       '41,77', '43,3', '43,56', '45,02', '45,27', '46,68', '46,94', '48,33',\n",
      "       '48,59', '49,97', '50,23', '51,64', '51,89', '53,36', '53,59', '55,14',\n",
      "       '55,37', '57,04', '57,25', '59,09', '59,28', '61,37', '61,54', '64',\n",
      "       '64,14', '67,2', '67,3', '71,44', '71,51', '78,26', '78,28', '89,49',\n",
      "       '89,5'],\n",
      "      dtype='object')\n",
      "0          96\n",
      "18,39      44\n",
      "18,56      66\n",
      "25,21     155\n",
      "25,4      252\n",
      "29,46     449\n",
      "29,66     641\n",
      "32,65    1118\n",
      "32,87    1327\n",
      "35,28    2029\n",
      "35,51    2227\n",
      "37,57    2994\n",
      "37,8     3073\n",
      "39,62    3729\n",
      "39,86    3785\n",
      "41,52    4086\n",
      "41,77    4164\n",
      "43,3     4003\n",
      "43,56    3827\n",
      "45,02    3570\n",
      "45,27    3300\n",
      "46,68    3005\n",
      "46,94    2873\n",
      "48,33    2385\n",
      "48,59    2313\n",
      "49,97    1900\n",
      "50,23    1761\n",
      "51,64    1392\n",
      "51,89    1378\n",
      "53,36    1104\n",
      "53,59    1094\n",
      "55,14     823\n",
      "55,37     829\n",
      "57,04     667\n",
      "57,25     604\n",
      "59,09     490\n",
      "59,28     470\n",
      "61,37     360\n",
      "61,54     358\n",
      "64        229\n",
      "64,14     245\n",
      "67,2      145\n",
      "67,3      151\n",
      "71,44      75\n",
      "71,51      75\n",
      "78,26      26\n",
      "78,28      31\n",
      "89,49      13\n",
      "89,5       12\n",
      "Name: PUNT_QUIMICA, dtype: int64\n",
      "Elementos null/NaN 0\n",
      "__________________\n",
      "Elementos diferentes de null/NaN: 69743\n",
      "__________________\n",
      "(69743,)\n",
      "None\n"
     ]
    }
   ],
   "source": [
    "c = 'PUNT_QUIMICA'\n",
    "print(data_2009[c].value_counts().sort_index().index)\n",
    "print(data_2009[c].value_counts().sort_index())\n",
    "print(missing_data(data_2009[c]))"
   ]
  },
  {
   "cell_type": "code",
   "execution_count": 102,
   "metadata": {
    "collapsed": true
   },
   "outputs": [],
   "source": [
    "clean_target(data_2009, c)"
   ]
  },
  {
   "cell_type": "code",
   "execution_count": 103,
   "metadata": {
    "collapsed": false,
    "scrolled": true
   },
   "outputs": [
    {
     "name": "stdout",
     "output_type": "stream",
     "text": [
      "Index(['0', '102,75', '14,43', '15,26', '24,18', '25,03', '30,26', '31,11',\n",
      "       '34,84', '35,7', '38,62', '39,49', '41,91', '42,78', '44,88', '45,75',\n",
      "       '47,62', '48,49', '50,22', '51,08', '52,72', '53,57', '55,16', '56',\n",
      "       '57,57', '58,4', '60', '60,81', '62,46', '63,27', '65', '65,79',\n",
      "       '67,66', '68,44', '70,49', '71,25', '73,56', '74,31', '76,99', '77,71',\n",
      "       '80,93', '81,64', '85,72', '86,41', '92,05', '92,71'],\n",
      "      dtype='object')\n",
      "0          325\n",
      "102,75       1\n",
      "14,43      178\n",
      "15,26      223\n",
      "24,18      663\n",
      "25,03      900\n",
      "30,26     1807\n",
      "31,11     2253\n",
      "34,84     3381\n",
      "35,7      4353\n",
      "38,62     5104\n",
      "39,49     5617\n",
      "41,91     6115\n",
      "42,78     6363\n",
      "44,88     5705\n",
      "45,75     5268\n",
      "47,62     4368\n",
      "48,49     3860\n",
      "50,22     3145\n",
      "51,08     2491\n",
      "52,72     1812\n",
      "53,57     1465\n",
      "55,16     1061\n",
      "56         831\n",
      "57,57      590\n",
      "58,4       444\n",
      "60         334\n",
      "60,81      239\n",
      "62,46      212\n",
      "63,27      135\n",
      "65         115\n",
      "65,79       99\n",
      "67,66       79\n",
      "68,44       58\n",
      "70,49       39\n",
      "71,25       32\n",
      "73,56       20\n",
      "74,31       11\n",
      "76,99       14\n",
      "77,71        9\n",
      "80,93        7\n",
      "81,64        8\n",
      "85,72        2\n",
      "86,41        4\n",
      "92,05        2\n",
      "92,71        1\n",
      "Name: PUNT_FISICA, dtype: int64\n",
      "Elementos null/NaN 0\n",
      "__________________\n",
      "Elementos diferentes de null/NaN: 69743\n",
      "__________________\n",
      "(69743,)\n",
      "None\n"
     ]
    }
   ],
   "source": [
    "c = 'PUNT_FISICA'\n",
    "print(data_2009[c].value_counts().sort_index().index)\n",
    "print(data_2009[c].value_counts().sort_index())\n",
    "print(missing_data(data_2009[c]))"
   ]
  },
  {
   "cell_type": "code",
   "execution_count": 104,
   "metadata": {
    "collapsed": true
   },
   "outputs": [],
   "source": [
    "clean_target(data_2009, c)"
   ]
  },
  {
   "cell_type": "code",
   "execution_count": 105,
   "metadata": {
    "collapsed": false,
    "scrolled": true
   },
   "outputs": [
    {
     "name": "stdout",
     "output_type": "stream",
     "text": [
      "Index(['0', '10,66', '100', '13,98', '17,17', '20,24', '23,16', '25,94',\n",
      "       '28,58', '3,67', '31,05', '33,35', '35,47', '37,38', '39,07', '40,5',\n",
      "       '41,6', '42,2', '43,48', '44,34', '45,2', '46,06', '46,92', '47,79',\n",
      "       '48,65', '49,51', '50,37', '51,23', '52,09', '53,32', '54,64', '55,95',\n",
      "       '57,27', '58,59', '59,9', '61,22', '62,69', '66,91', '7,22', '71,12',\n",
      "       '75,34', '79,55', '83,41', '87,56', '91,71', '95,85'],\n",
      "      dtype='object')\n",
      "0           7\n",
      "10,66       9\n",
      "100         8\n",
      "13,98      17\n",
      "17,17      45\n",
      "20,24     160\n",
      "23,16     376\n",
      "25,94     885\n",
      "28,58    1542\n",
      "3,67        1\n",
      "31,05    2527\n",
      "33,35    3598\n",
      "35,47    4566\n",
      "37,38    5426\n",
      "39,07    5809\n",
      "40,5     5760\n",
      "41,6     5284\n",
      "42,2     4663\n",
      "43,48    4041\n",
      "44,34    3219\n",
      "45,2     2670\n",
      "46,06    2216\n",
      "46,92    1821\n",
      "47,79    1498\n",
      "48,65    1199\n",
      "49,51    1044\n",
      "50,37     873\n",
      "51,23     767\n",
      "52,09     655\n",
      "53,32     561\n",
      "54,64     540\n",
      "55,95     501\n",
      "57,27     505\n",
      "58,59     450\n",
      "59,9      442\n",
      "61,22     484\n",
      "62,69     527\n",
      "66,91     531\n",
      "7,22        4\n",
      "71,12     641\n",
      "75,34     722\n",
      "79,55     779\n",
      "83,41     835\n",
      "87,56     795\n",
      "91,71     542\n",
      "95,85     198\n",
      "Name: PUNT_INGLES, dtype: int64\n",
      "Elementos null/NaN 0\n",
      "__________________\n",
      "Elementos diferentes de null/NaN: 69743\n",
      "__________________\n",
      "(69743,)\n",
      "None\n"
     ]
    }
   ],
   "source": [
    "c = 'PUNT_INGLES'\n",
    "print(data_2009[c].value_counts().sort_index().index)\n",
    "print(data_2009[c].value_counts().sort_index())\n",
    "print(missing_data(data_2009[c]))"
   ]
  },
  {
   "cell_type": "code",
   "execution_count": 106,
   "metadata": {
    "collapsed": true
   },
   "outputs": [],
   "source": [
    "clean_target(data_2009, c)"
   ]
  },
  {
   "cell_type": "code",
   "execution_count": 107,
   "metadata": {
    "collapsed": false
   },
   "outputs": [
    {
     "name": "stdout",
     "output_type": "stream",
     "text": [
      "Index(['A- ', 'A1 ', 'A2 ', 'B+ ', 'B1', 'B1 '], dtype='object')\n",
      "A-     40679\n",
      "A1     20003\n",
      "A2      3483\n",
      "B+      2378\n",
      "B1         1\n",
      "B1      3199\n",
      "Name: DESEMP_INGLES, dtype: int64\n",
      "Elementos null/NaN 0\n",
      "__________________\n",
      "Elementos diferentes de null/NaN: 69743\n",
      "__________________\n",
      "(69743,)\n",
      "None\n"
     ]
    }
   ],
   "source": [
    "c = 'DESEMP_INGLES'\n",
    "print(data_2009[c].value_counts().sort_index().index)\n",
    "print(data_2009[c].value_counts().sort_index())\n",
    "print(missing_data(data_2009[c]))"
   ]
  },
  {
   "cell_type": "code",
   "execution_count": 108,
   "metadata": {
    "collapsed": false
   },
   "outputs": [
    {
     "name": "stdout",
     "output_type": "stream",
     "text": [
      "Index(['PROFUNDIZACIÓN EN BIOLOGÍA', 'PROFUNDIZACIÓN EN CIENCIAS SOCIALES',\n",
      "       'PROFUNDIZACIÓN EN LENGUAJE', 'PROFUNDIZACIÓN EN MATEMÁTICA'],\n",
      "      dtype='object')\n",
      "PROFUNDIZACIÓN EN BIOLOGÍA             21347\n",
      "PROFUNDIZACIÓN EN CIENCIAS SOCIALES    13190\n",
      "PROFUNDIZACIÓN EN LENGUAJE             22133\n",
      "PROFUNDIZACIÓN EN MATEMÁTICA           13073\n",
      "Name: NOMBRE_PROFUNDIZACION, dtype: int64\n",
      "Elementos null/NaN 0\n",
      "__________________\n",
      "Elementos diferentes de null/NaN: 69743\n",
      "__________________\n",
      "(69743,)\n",
      "None\n"
     ]
    }
   ],
   "source": [
    "c = 'NOMBRE_PROFUNDIZACION'\n",
    "print(data_2009[c].value_counts().sort_index().index)\n",
    "print(data_2009[c].value_counts().sort_index())\n",
    "print(missing_data(data_2009[c]))"
   ]
  },
  {
   "cell_type": "code",
   "execution_count": 109,
   "metadata": {
    "collapsed": false,
    "scrolled": true
   },
   "outputs": [
    {
     "name": "stdout",
     "output_type": "stream",
     "text": [
      "Index(['0', '10', '2,51', '3,11', '3,37', '3,38', '3,4', '3,92', '3,94',\n",
      "       '4,17', '4,36', '4,38', '4,46', '4,68', '4,73', '4,75', '4,88', '5,07',\n",
      "       '5,08', '5,09', '5,23', '5,39', '5,41', '5,43', '5,56', '5,7', '5,72',\n",
      "       '5,75', '5,86', '6,03', '6,04', '6,16', '6,33', '6,37', '6,38', '6,46',\n",
      "       '6,62', '6,74', '6,75', '6,77', '6,92', '7,11', '7,18', '7,19', '7,25',\n",
      "       '7,5', '7,63', '7,74', '8', '8,1', '8,61', '8,77', '8,83'],\n",
      "      dtype='object')\n",
      "0        379\n",
      "10         9\n",
      "2,51     695\n",
      "3,11     512\n",
      "3,37     713\n",
      "3,38    1350\n",
      "3,4      474\n",
      "3,92    2901\n",
      "3,94    2522\n",
      "4,17    1611\n",
      "4,36    1918\n",
      "4,38    3614\n",
      "4,46    2282\n",
      "4,68    3136\n",
      "4,73    2089\n",
      "4,75    3935\n",
      "4,88    2476\n",
      "5,07    1888\n",
      "5,08    4352\n",
      "5,09    3428\n",
      "5,23    2141\n",
      "5,39    1519\n",
      "5,41    2563\n",
      "5,43    4338\n",
      "5,56    1596\n",
      "5,7     1124\n",
      "5,72    1775\n",
      "5,75    3259\n",
      "5,86    1028\n",
      "6,03     900\n",
      "6,04    3169\n",
      "6,16     628\n",
      "6,33    1089\n",
      "6,37     580\n",
      "6,38     664\n",
      "6,46     348\n",
      "6,62     479\n",
      "6,74     412\n",
      "6,75     378\n",
      "6,77     204\n",
      "6,92     245\n",
      "7,11     124\n",
      "7,18     215\n",
      "7,19     154\n",
      "7,25     105\n",
      "7,5       77\n",
      "7,63      53\n",
      "7,74     149\n",
      "8         44\n",
      "8,1       27\n",
      "8,61      46\n",
      "8,77      14\n",
      "8,83      12\n",
      "Name: PUNT_PROFUNDIZACION, dtype: int64\n",
      "Elementos null/NaN 0\n",
      "__________________\n",
      "Elementos diferentes de null/NaN: 69743\n",
      "__________________\n",
      "(69743,)\n",
      "None\n"
     ]
    }
   ],
   "source": [
    "c = 'PUNT_PROFUNDIZACION'\n",
    "print(data_2009[c].value_counts().sort_index().index)\n",
    "print(data_2009[c].value_counts().sort_index())\n",
    "print(missing_data(data_2009[c]))"
   ]
  },
  {
   "cell_type": "code",
   "execution_count": 110,
   "metadata": {
    "collapsed": true
   },
   "outputs": [],
   "source": [
    "clean_target(data_2009, c)"
   ]
  },
  {
   "cell_type": "code",
   "execution_count": 111,
   "metadata": {
    "collapsed": false
   },
   "outputs": [
    {
     "name": "stdout",
     "output_type": "stream",
     "text": [
      "Index(['GB', 'I', 'II', 'III'], dtype='object')\n",
      "GB     28548\n",
      "I      33021\n",
      "II      7360\n",
      "III      814\n",
      "Name: DESEMP_PROFUNDIZACION, dtype: int64\n",
      "Elementos null/NaN 0\n",
      "__________________\n",
      "Elementos diferentes de null/NaN: 69743\n",
      "__________________\n",
      "(69743,)\n",
      "None\n"
     ]
    }
   ],
   "source": [
    "c = 'DESEMP_PROFUNDIZACION'\n",
    "print(data_2009[c].value_counts().sort_index().index)\n",
    "print(data_2009[c].value_counts().sort_index())\n",
    "print(missing_data(data_2009[c]))"
   ]
  },
  {
   "cell_type": "code",
   "execution_count": 112,
   "metadata": {
    "collapsed": false
   },
   "outputs": [
    {
     "name": "stdout",
     "output_type": "stream",
     "text": [
      "Index(['MEDIO AMBIENTE', 'VIOLENCIA Y SOCIEDAD'], dtype='object')\n",
      "MEDIO AMBIENTE          37211\n",
      "VIOLENCIA Y SOCIEDAD    32532\n",
      "Name: NOMBRE_INTERDISCIPLINAR, dtype: int64\n",
      "Elementos null/NaN 0\n",
      "__________________\n",
      "Elementos diferentes de null/NaN: 69743\n",
      "__________________\n",
      "(69743,)\n",
      "None\n"
     ]
    }
   ],
   "source": [
    "c = 'NOMBRE_INTERDISCIPLINAR'\n",
    "print(data_2009[c].value_counts().sort_index().index)\n",
    "print(data_2009[c].value_counts().sort_index())\n",
    "print(missing_data(data_2009[c]))"
   ]
  },
  {
   "cell_type": "code",
   "execution_count": 113,
   "metadata": {
    "collapsed": false,
    "scrolled": true
   },
   "outputs": [
    {
     "name": "stdout",
     "output_type": "stream",
     "text": [
      "Index(['0', '20,95', '28,17', '32,86', '36,54', '39,69', '42,55', '45,24',\n",
      "       '45,43', '47,62', '47,87', '49,05', '50,17', '50,53', '51,14', '52,02',\n",
      "       '52,86', '53,32', '53,67', '54,5', '55,37', '56,32', '56,36', '57,42',\n",
      "       '58,82', '59,9', '60,97', '64,4', '64,41', '71,4', '82,63'],\n",
      "      dtype='object')\n",
      "0         305\n",
      "20,95     402\n",
      "28,17    1211\n",
      "32,86    2437\n",
      "36,54    3513\n",
      "39,69    4209\n",
      "42,55    4137\n",
      "45,24    3848\n",
      "45,43     679\n",
      "47,62    2020\n",
      "47,87    3290\n",
      "49,05    3750\n",
      "50,17    5404\n",
      "50,53    2844\n",
      "51,14    5927\n",
      "52,02    5861\n",
      "52,86    4895\n",
      "53,32    2402\n",
      "53,67    3609\n",
      "54,5     2333\n",
      "55,37    1377\n",
      "56,32     717\n",
      "56,36    1901\n",
      "57,42     291\n",
      "58,82     112\n",
      "59,9     1289\n",
      "60,97      40\n",
      "64,4        4\n",
      "64,41     687\n",
      "71,4      219\n",
      "82,63      30\n",
      "Name: PUNT_INTERDISCIPLINAR, dtype: int64\n",
      "Elementos null/NaN 0\n",
      "__________________\n",
      "Elementos diferentes de null/NaN: 69743\n",
      "__________________\n",
      "(69743,)\n",
      "None\n"
     ]
    }
   ],
   "source": [
    "c = 'PUNT_INTERDISCIPLINAR'\n",
    "print(data_2009[c].value_counts().sort_index().index)\n",
    "print(data_2009[c].value_counts().sort_index())\n",
    "print(missing_data(data_2009[c]))"
   ]
  },
  {
   "cell_type": "code",
   "execution_count": 114,
   "metadata": {
    "collapsed": true
   },
   "outputs": [],
   "source": [
    "clean_target(data_2009, c)"
   ]
  },
  {
   "cell_type": "code",
   "execution_count": 115,
   "metadata": {
    "collapsed": false,
    "scrolled": true
   },
   "outputs": [
    {
     "name": "stdout",
     "output_type": "stream",
     "text": [
      "Int64Index([   1,    2,    3,    4,    5,    6,    7,    8,    9,   10,\n",
      "            ...\n",
      "             991,  992,  993,  994,  995,  996,  997,  998,  999, 1000],\n",
      "           dtype='int64', length=1000)\n",
      "1       107\n",
      "2       103\n",
      "3       116\n",
      "4        84\n",
      "5        90\n",
      "6        82\n",
      "7        84\n",
      "8        76\n",
      "9        92\n",
      "10       83\n",
      "11       82\n",
      "12       82\n",
      "13       82\n",
      "14       76\n",
      "15       72\n",
      "16       75\n",
      "17       69\n",
      "18       79\n",
      "19       78\n",
      "20       67\n",
      "21       66\n",
      "22       73\n",
      "23       75\n",
      "24       72\n",
      "25       69\n",
      "26       64\n",
      "27       70\n",
      "28       65\n",
      "29       73\n",
      "30       71\n",
      "       ... \n",
      "971      86\n",
      "972      79\n",
      "973      86\n",
      "974      94\n",
      "975      94\n",
      "976      86\n",
      "977      85\n",
      "978      88\n",
      "979      86\n",
      "980      86\n",
      "981      91\n",
      "982      97\n",
      "983      89\n",
      "984      85\n",
      "985      94\n",
      "986      86\n",
      "987      86\n",
      "988      87\n",
      "989      92\n",
      "990      81\n",
      "991      89\n",
      "992      79\n",
      "993      76\n",
      "994      94\n",
      "995      97\n",
      "996      88\n",
      "997      83\n",
      "998      70\n",
      "999      17\n",
      "1000      6\n",
      "Name: ESTU_PUESTO, dtype: int64\n",
      "Elementos null/NaN 0\n",
      "__________________\n",
      "Elementos diferentes de null/NaN: 69743\n",
      "__________________\n",
      "(69743,)\n",
      "None\n"
     ]
    }
   ],
   "source": [
    "c = 'ESTU_PUESTO'\n",
    "print(data_2009[c].value_counts().sort_index().index)\n",
    "print(data_2009[c].value_counts().sort_index())\n",
    "print(missing_data(data_2009[c]))"
   ]
  },
  {
   "cell_type": "markdown",
   "metadata": {},
   "source": [
    "# FILE 2: 2009_2"
   ]
  },
  {
   "cell_type": "code",
   "execution_count": 116,
   "metadata": {
    "collapsed": false
   },
   "outputs": [
    {
     "name": "stderr",
     "output_type": "stream",
     "text": [
      "/usr/local/lib/python3.4/dist-packages/IPython/core/interactiveshell.py:2902: DtypeWarning: Columns (51) have mixed types. Specify dtype option on import or set low_memory=False.\n",
      "  interactivity=interactivity, compiler=compiler, result=result)\n"
     ]
    }
   ],
   "source": [
    "data_2009_2 = pd.read_csv('../DatosFTPICFES/SABER11/SB11-BASES_DE_DATOS/SB11-20092-RGSTRO-CLFCCN-V1-0.txt', delimiter='|')"
   ]
  },
  {
   "cell_type": "code",
   "execution_count": 117,
   "metadata": {
    "collapsed": false
   },
   "outputs": [
    {
     "data": {
      "text/plain": [
       "(518220, 121)"
      ]
     },
     "execution_count": 117,
     "metadata": {},
     "output_type": "execute_result"
    }
   ],
   "source": [
    "data_2009_2.shape"
   ]
  },
  {
   "cell_type": "code",
   "execution_count": 118,
   "metadata": {
    "collapsed": false,
    "scrolled": true
   },
   "outputs": [
    {
     "data": {
      "text/html": [
       "<div>\n",
       "<table border=\"1\" class=\"dataframe\">\n",
       "  <thead>\n",
       "    <tr style=\"text-align: right;\">\n",
       "      <th></th>\n",
       "      <th>0</th>\n",
       "      <th>1</th>\n",
       "      <th>2</th>\n",
       "    </tr>\n",
       "  </thead>\n",
       "  <tbody>\n",
       "    <tr>\n",
       "      <th>ESTU_CONSECUTIVO</th>\n",
       "      <td>SABER1120092000001</td>\n",
       "      <td>SABER1120092000002</td>\n",
       "      <td>SABER1120092000003</td>\n",
       "    </tr>\n",
       "    <tr>\n",
       "      <th>PERIODO</th>\n",
       "      <td>20092</td>\n",
       "      <td>20092</td>\n",
       "      <td>20092</td>\n",
       "    </tr>\n",
       "    <tr>\n",
       "      <th>ESTU_TIPO_DOCUMENTO</th>\n",
       "      <td>T</td>\n",
       "      <td>T</td>\n",
       "      <td>T</td>\n",
       "    </tr>\n",
       "    <tr>\n",
       "      <th>ESTU_PAIS_RESIDE</th>\n",
       "      <td>CO</td>\n",
       "      <td>CO</td>\n",
       "      <td>CO</td>\n",
       "    </tr>\n",
       "    <tr>\n",
       "      <th>ESTU_GENERO</th>\n",
       "      <td>F</td>\n",
       "      <td>F</td>\n",
       "      <td>F</td>\n",
       "    </tr>\n",
       "    <tr>\n",
       "      <th>ESTU_NACIMIENTO_DIA</th>\n",
       "      <td>4</td>\n",
       "      <td>25</td>\n",
       "      <td>16</td>\n",
       "    </tr>\n",
       "    <tr>\n",
       "      <th>ESTU_NACIMIENTO_MES</th>\n",
       "      <td>9</td>\n",
       "      <td>3</td>\n",
       "      <td>12</td>\n",
       "    </tr>\n",
       "    <tr>\n",
       "      <th>ESTU_NACIMIENTO_ANNO</th>\n",
       "      <td>1991</td>\n",
       "      <td>1992</td>\n",
       "      <td>1992</td>\n",
       "    </tr>\n",
       "    <tr>\n",
       "      <th>ESTU_EDAD</th>\n",
       "      <td>17</td>\n",
       "      <td>17</td>\n",
       "      <td>16</td>\n",
       "    </tr>\n",
       "    <tr>\n",
       "      <th>ESTU_LIMITA_BAJAVISION</th>\n",
       "      <td>NaN</td>\n",
       "      <td>NaN</td>\n",
       "      <td>NaN</td>\n",
       "    </tr>\n",
       "    <tr>\n",
       "      <th>ESTU_LIMITA_SORDOCEGUERA</th>\n",
       "      <td>NaN</td>\n",
       "      <td>NaN</td>\n",
       "      <td>NaN</td>\n",
       "    </tr>\n",
       "    <tr>\n",
       "      <th>ESTU_LIMITA_COGNITIVA</th>\n",
       "      <td>NaN</td>\n",
       "      <td>NaN</td>\n",
       "      <td>NaN</td>\n",
       "    </tr>\n",
       "    <tr>\n",
       "      <th>ESTU_LIMITA_INVIDENTE</th>\n",
       "      <td>NaN</td>\n",
       "      <td>NaN</td>\n",
       "      <td>NaN</td>\n",
       "    </tr>\n",
       "    <tr>\n",
       "      <th>ESTU_LIMITA_MOTRIZ</th>\n",
       "      <td>NaN</td>\n",
       "      <td>NaN</td>\n",
       "      <td>NaN</td>\n",
       "    </tr>\n",
       "    <tr>\n",
       "      <th>ESTU_LIMITA_SORDOINTERPRETE</th>\n",
       "      <td>NaN</td>\n",
       "      <td>NaN</td>\n",
       "      <td>NaN</td>\n",
       "    </tr>\n",
       "    <tr>\n",
       "      <th>ESTU_LIMITA_SORDONOINTERPRETE</th>\n",
       "      <td>NaN</td>\n",
       "      <td>NaN</td>\n",
       "      <td>NaN</td>\n",
       "    </tr>\n",
       "    <tr>\n",
       "      <th>ESTU_ETNIA</th>\n",
       "      <td>NaN</td>\n",
       "      <td>NaN</td>\n",
       "      <td>NaN</td>\n",
       "    </tr>\n",
       "    <tr>\n",
       "      <th>ESTU_COD_RESIDE_MCPIO</th>\n",
       "      <td>5736</td>\n",
       "      <td>11001</td>\n",
       "      <td>54001</td>\n",
       "    </tr>\n",
       "    <tr>\n",
       "      <th>ESTU_RESIDE_MCPIO</th>\n",
       "      <td>SEGOVIA</td>\n",
       "      <td>BOGOTÁ D.C.</td>\n",
       "      <td>CUCUTA</td>\n",
       "    </tr>\n",
       "    <tr>\n",
       "      <th>ESTU_RESIDE_DEPTO</th>\n",
       "      <td>ANTIOQUIA</td>\n",
       "      <td>BOGOTÁ</td>\n",
       "      <td>NORTE SANTANDER</td>\n",
       "    </tr>\n",
       "    <tr>\n",
       "      <th>ESTU_ZONA_RESIDE</th>\n",
       "      <td>10</td>\n",
       "      <td>8</td>\n",
       "      <td>10</td>\n",
       "    </tr>\n",
       "    <tr>\n",
       "      <th>ESTU_AREA_RESIDE</th>\n",
       "      <td>2</td>\n",
       "      <td>1</td>\n",
       "      <td>1</td>\n",
       "    </tr>\n",
       "    <tr>\n",
       "      <th>FAMI_EDUCA_PADRE</th>\n",
       "      <td>10</td>\n",
       "      <td>12</td>\n",
       "      <td>99</td>\n",
       "    </tr>\n",
       "    <tr>\n",
       "      <th>FAMI_EDUCA_MADRE</th>\n",
       "      <td>10</td>\n",
       "      <td>12</td>\n",
       "      <td>99</td>\n",
       "    </tr>\n",
       "    <tr>\n",
       "      <th>FAMI_OCUPA_PADRE</th>\n",
       "      <td>21</td>\n",
       "      <td>20</td>\n",
       "      <td>26</td>\n",
       "    </tr>\n",
       "    <tr>\n",
       "      <th>FAMI_OCUPA_MADRE</th>\n",
       "      <td>22</td>\n",
       "      <td>19</td>\n",
       "      <td>26</td>\n",
       "    </tr>\n",
       "    <tr>\n",
       "      <th>FAMI_ESTRATO_VIVIENDA</th>\n",
       "      <td>2</td>\n",
       "      <td>2</td>\n",
       "      <td>3</td>\n",
       "    </tr>\n",
       "    <tr>\n",
       "      <th>FAMI_NIVEL_SISBEN</th>\n",
       "      <td>1</td>\n",
       "      <td>1</td>\n",
       "      <td>5</td>\n",
       "    </tr>\n",
       "    <tr>\n",
       "      <th>FAMI_PERSONAS_HOGAR</th>\n",
       "      <td>6</td>\n",
       "      <td>4</td>\n",
       "      <td>4</td>\n",
       "    </tr>\n",
       "    <tr>\n",
       "      <th>FAMI_CUARTOS_HOGAR</th>\n",
       "      <td>3</td>\n",
       "      <td>4</td>\n",
       "      <td>5</td>\n",
       "    </tr>\n",
       "    <tr>\n",
       "      <th>...</th>\n",
       "      <td>...</td>\n",
       "      <td>...</td>\n",
       "      <td>...</td>\n",
       "    </tr>\n",
       "    <tr>\n",
       "      <th>ESTU_POR_AMIGOSESTUDIANDO</th>\n",
       "      <td>0</td>\n",
       "      <td>1</td>\n",
       "      <td>1</td>\n",
       "    </tr>\n",
       "    <tr>\n",
       "      <th>ESTU_POR_COSTOMATRICULA</th>\n",
       "      <td>-</td>\n",
       "      <td>-</td>\n",
       "      <td>-</td>\n",
       "    </tr>\n",
       "    <tr>\n",
       "      <th>ESTU_POR_OPORTUNIDADES</th>\n",
       "      <td>-</td>\n",
       "      <td>-</td>\n",
       "      <td>-</td>\n",
       "    </tr>\n",
       "    <tr>\n",
       "      <th>ESTU_POR_OTRARAZON</th>\n",
       "      <td>0</td>\n",
       "      <td>1</td>\n",
       "      <td>0</td>\n",
       "    </tr>\n",
       "    <tr>\n",
       "      <th>ESTU_PRESTIGIOINSTITUCION</th>\n",
       "      <td>0</td>\n",
       "      <td>1</td>\n",
       "      <td>1</td>\n",
       "    </tr>\n",
       "    <tr>\n",
       "      <th>ESTU_POR_UBICACION</th>\n",
       "      <td>0</td>\n",
       "      <td>1</td>\n",
       "      <td>1</td>\n",
       "    </tr>\n",
       "    <tr>\n",
       "      <th>ESTU_POR_UNICAQUEOFRECE</th>\n",
       "      <td>0</td>\n",
       "      <td>1</td>\n",
       "      <td>0</td>\n",
       "    </tr>\n",
       "    <tr>\n",
       "      <th>ESTU_RETIRARSE_COLEGIO</th>\n",
       "      <td>-</td>\n",
       "      <td>-</td>\n",
       "      <td>-</td>\n",
       "    </tr>\n",
       "    <tr>\n",
       "      <th>ESTU_PROGRAMA_ACADEMICODESEADO</th>\n",
       "      <td>-</td>\n",
       "      <td>-</td>\n",
       "      <td>-</td>\n",
       "    </tr>\n",
       "    <tr>\n",
       "      <th>ESTU_VECES_ESTADO</th>\n",
       "      <td>0</td>\n",
       "      <td>0</td>\n",
       "      <td>1</td>\n",
       "    </tr>\n",
       "    <tr>\n",
       "      <th>ESTU_CARRDESEADA_RAZON</th>\n",
       "      <td>NaN</td>\n",
       "      <td>NaN</td>\n",
       "      <td>NaN</td>\n",
       "    </tr>\n",
       "    <tr>\n",
       "      <th>ESTU_MCPIO_PRESENTACION</th>\n",
       "      <td>REMEDIOS</td>\n",
       "      <td>BOGOTÁ D.C.</td>\n",
       "      <td>CUCUTA</td>\n",
       "    </tr>\n",
       "    <tr>\n",
       "      <th>ESTU_COD_MCPIO_PRESENTACION</th>\n",
       "      <td>5604</td>\n",
       "      <td>11001</td>\n",
       "      <td>54001</td>\n",
       "    </tr>\n",
       "    <tr>\n",
       "      <th>ESTU_DEPTO_PRESENTACION</th>\n",
       "      <td>ANTIOQUIA</td>\n",
       "      <td>BOGOTÁ</td>\n",
       "      <td>NORTE SANTANDER</td>\n",
       "    </tr>\n",
       "    <tr>\n",
       "      <th>ESTU_EXAM_NOMBREEXAMEN</th>\n",
       "      <td>EXAMEN DE ESTADO (ICFES)</td>\n",
       "      <td>EXAMEN DE ESTADO (ICFES)</td>\n",
       "      <td>EXAMEN DE ESTADO (ICFES)</td>\n",
       "    </tr>\n",
       "    <tr>\n",
       "      <th>PUNT_LENGUAJE</th>\n",
       "      <td>41,63</td>\n",
       "      <td>43,99</td>\n",
       "      <td>43,85</td>\n",
       "    </tr>\n",
       "    <tr>\n",
       "      <th>PUNT_MATEMATICAS</th>\n",
       "      <td>34,91</td>\n",
       "      <td>49,14</td>\n",
       "      <td>51,6</td>\n",
       "    </tr>\n",
       "    <tr>\n",
       "      <th>PUNT_C_SOCIALES</th>\n",
       "      <td>53,33</td>\n",
       "      <td>55,22</td>\n",
       "      <td>41,83</td>\n",
       "    </tr>\n",
       "    <tr>\n",
       "      <th>PUNT_FILOSOFIA</th>\n",
       "      <td>44,51</td>\n",
       "      <td>51,28</td>\n",
       "      <td>49,02</td>\n",
       "    </tr>\n",
       "    <tr>\n",
       "      <th>PUNT_BIOLOGIA</th>\n",
       "      <td>37,73</td>\n",
       "      <td>48,79</td>\n",
       "      <td>50,78</td>\n",
       "    </tr>\n",
       "    <tr>\n",
       "      <th>PUNT_QUIMICA</th>\n",
       "      <td>50,85</td>\n",
       "      <td>50,85</td>\n",
       "      <td>50,85</td>\n",
       "    </tr>\n",
       "    <tr>\n",
       "      <th>PUNT_FISICA</th>\n",
       "      <td>42,59</td>\n",
       "      <td>45,57</td>\n",
       "      <td>50,94</td>\n",
       "    </tr>\n",
       "    <tr>\n",
       "      <th>PUNT_INGLES</th>\n",
       "      <td>42,76</td>\n",
       "      <td>58,06</td>\n",
       "      <td>49,63</td>\n",
       "    </tr>\n",
       "    <tr>\n",
       "      <th>DESEMP_INGLES</th>\n",
       "      <td>A-</td>\n",
       "      <td>A2</td>\n",
       "      <td>A1</td>\n",
       "    </tr>\n",
       "    <tr>\n",
       "      <th>NOMBRE_PROFUNDIZACION</th>\n",
       "      <td>PROFUNDIZACIÓN EN CIENCIAS SOCIALES</td>\n",
       "      <td>PROFUNDIZACIÓN EN CIENCIAS SOCIALES</td>\n",
       "      <td>PROFUNDIZACIÓN EN MATEMÁTICA</td>\n",
       "    </tr>\n",
       "    <tr>\n",
       "      <th>PUNT_PROFUNDIZACION</th>\n",
       "      <td>4,9</td>\n",
       "      <td>6,8</td>\n",
       "      <td>4,1</td>\n",
       "    </tr>\n",
       "    <tr>\n",
       "      <th>DESEMP_PROFUNDIZACION</th>\n",
       "      <td>I</td>\n",
       "      <td>II</td>\n",
       "      <td>GB</td>\n",
       "    </tr>\n",
       "    <tr>\n",
       "      <th>NOMBRE_INTERDISCIPLINAR</th>\n",
       "      <td>MEDIO AMBIENTE</td>\n",
       "      <td>VIOLENCIA Y SOCIEDAD</td>\n",
       "      <td>MEDIO AMBIENTE</td>\n",
       "    </tr>\n",
       "    <tr>\n",
       "      <th>PUNT_INTERDISCIPLINAR</th>\n",
       "      <td>56,55</td>\n",
       "      <td>67,71</td>\n",
       "      <td>55,56</td>\n",
       "    </tr>\n",
       "    <tr>\n",
       "      <th>ESTU_PUESTO</th>\n",
       "      <td>648</td>\n",
       "      <td>173</td>\n",
       "      <td>238</td>\n",
       "    </tr>\n",
       "  </tbody>\n",
       "</table>\n",
       "<p>121 rows × 3 columns</p>\n",
       "</div>"
      ],
      "text/plain": [
       "                                                                  0  \\\n",
       "ESTU_CONSECUTIVO                                 SABER1120092000001   \n",
       "PERIODO                                                       20092   \n",
       "ESTU_TIPO_DOCUMENTO                                               T   \n",
       "ESTU_PAIS_RESIDE                                                 CO   \n",
       "ESTU_GENERO                                                       F   \n",
       "ESTU_NACIMIENTO_DIA                                               4   \n",
       "ESTU_NACIMIENTO_MES                                               9   \n",
       "ESTU_NACIMIENTO_ANNO                                           1991   \n",
       "ESTU_EDAD                                                        17   \n",
       "ESTU_LIMITA_BAJAVISION                                          NaN   \n",
       "ESTU_LIMITA_SORDOCEGUERA                                        NaN   \n",
       "ESTU_LIMITA_COGNITIVA                                           NaN   \n",
       "ESTU_LIMITA_INVIDENTE                                           NaN   \n",
       "ESTU_LIMITA_MOTRIZ                                              NaN   \n",
       "ESTU_LIMITA_SORDOINTERPRETE                                     NaN   \n",
       "ESTU_LIMITA_SORDONOINTERPRETE                                   NaN   \n",
       "ESTU_ETNIA                                                      NaN   \n",
       "ESTU_COD_RESIDE_MCPIO                                          5736   \n",
       "ESTU_RESIDE_MCPIO                                           SEGOVIA   \n",
       "ESTU_RESIDE_DEPTO                                         ANTIOQUIA   \n",
       "ESTU_ZONA_RESIDE                                                 10   \n",
       "ESTU_AREA_RESIDE                                                  2   \n",
       "FAMI_EDUCA_PADRE                                                 10   \n",
       "FAMI_EDUCA_MADRE                                                 10   \n",
       "FAMI_OCUPA_PADRE                                                 21   \n",
       "FAMI_OCUPA_MADRE                                                 22   \n",
       "FAMI_ESTRATO_VIVIENDA                                             2   \n",
       "FAMI_NIVEL_SISBEN                                                 1   \n",
       "FAMI_PERSONAS_HOGAR                                               6   \n",
       "FAMI_CUARTOS_HOGAR                                                3   \n",
       "...                                                             ...   \n",
       "ESTU_POR_AMIGOSESTUDIANDO                                         0   \n",
       "ESTU_POR_COSTOMATRICULA                                           -   \n",
       "ESTU_POR_OPORTUNIDADES                                            -   \n",
       "ESTU_POR_OTRARAZON                                                0   \n",
       "ESTU_PRESTIGIOINSTITUCION                                         0   \n",
       "ESTU_POR_UBICACION                                                0   \n",
       "ESTU_POR_UNICAQUEOFRECE                                           0   \n",
       "ESTU_RETIRARSE_COLEGIO                                            -   \n",
       "ESTU_PROGRAMA_ACADEMICODESEADO                                    -   \n",
       "ESTU_VECES_ESTADO                                                 0   \n",
       "ESTU_CARRDESEADA_RAZON                                          NaN   \n",
       "ESTU_MCPIO_PRESENTACION                                    REMEDIOS   \n",
       "ESTU_COD_MCPIO_PRESENTACION                                    5604   \n",
       "ESTU_DEPTO_PRESENTACION                                   ANTIOQUIA   \n",
       "ESTU_EXAM_NOMBREEXAMEN                     EXAMEN DE ESTADO (ICFES)   \n",
       "PUNT_LENGUAJE                                                 41,63   \n",
       "PUNT_MATEMATICAS                                              34,91   \n",
       "PUNT_C_SOCIALES                                               53,33   \n",
       "PUNT_FILOSOFIA                                                44,51   \n",
       "PUNT_BIOLOGIA                                                 37,73   \n",
       "PUNT_QUIMICA                                                  50,85   \n",
       "PUNT_FISICA                                                   42,59   \n",
       "PUNT_INGLES                                                   42,76   \n",
       "DESEMP_INGLES                                                    A-   \n",
       "NOMBRE_PROFUNDIZACION           PROFUNDIZACIÓN EN CIENCIAS SOCIALES   \n",
       "PUNT_PROFUNDIZACION                                             4,9   \n",
       "DESEMP_PROFUNDIZACION                                             I   \n",
       "NOMBRE_INTERDISCIPLINAR                              MEDIO AMBIENTE   \n",
       "PUNT_INTERDISCIPLINAR                                         56,55   \n",
       "ESTU_PUESTO                                                     648   \n",
       "\n",
       "                                                                  1  \\\n",
       "ESTU_CONSECUTIVO                                 SABER1120092000002   \n",
       "PERIODO                                                       20092   \n",
       "ESTU_TIPO_DOCUMENTO                                               T   \n",
       "ESTU_PAIS_RESIDE                                                 CO   \n",
       "ESTU_GENERO                                                       F   \n",
       "ESTU_NACIMIENTO_DIA                                              25   \n",
       "ESTU_NACIMIENTO_MES                                               3   \n",
       "ESTU_NACIMIENTO_ANNO                                           1992   \n",
       "ESTU_EDAD                                                        17   \n",
       "ESTU_LIMITA_BAJAVISION                                          NaN   \n",
       "ESTU_LIMITA_SORDOCEGUERA                                        NaN   \n",
       "ESTU_LIMITA_COGNITIVA                                           NaN   \n",
       "ESTU_LIMITA_INVIDENTE                                           NaN   \n",
       "ESTU_LIMITA_MOTRIZ                                              NaN   \n",
       "ESTU_LIMITA_SORDOINTERPRETE                                     NaN   \n",
       "ESTU_LIMITA_SORDONOINTERPRETE                                   NaN   \n",
       "ESTU_ETNIA                                                      NaN   \n",
       "ESTU_COD_RESIDE_MCPIO                                         11001   \n",
       "ESTU_RESIDE_MCPIO                                       BOGOTÁ D.C.   \n",
       "ESTU_RESIDE_DEPTO                                            BOGOTÁ   \n",
       "ESTU_ZONA_RESIDE                                                  8   \n",
       "ESTU_AREA_RESIDE                                                  1   \n",
       "FAMI_EDUCA_PADRE                                                 12   \n",
       "FAMI_EDUCA_MADRE                                                 12   \n",
       "FAMI_OCUPA_PADRE                                                 20   \n",
       "FAMI_OCUPA_MADRE                                                 19   \n",
       "FAMI_ESTRATO_VIVIENDA                                             2   \n",
       "FAMI_NIVEL_SISBEN                                                 1   \n",
       "FAMI_PERSONAS_HOGAR                                               4   \n",
       "FAMI_CUARTOS_HOGAR                                                4   \n",
       "...                                                             ...   \n",
       "ESTU_POR_AMIGOSESTUDIANDO                                         1   \n",
       "ESTU_POR_COSTOMATRICULA                                           -   \n",
       "ESTU_POR_OPORTUNIDADES                                            -   \n",
       "ESTU_POR_OTRARAZON                                                1   \n",
       "ESTU_PRESTIGIOINSTITUCION                                         1   \n",
       "ESTU_POR_UBICACION                                                1   \n",
       "ESTU_POR_UNICAQUEOFRECE                                           1   \n",
       "ESTU_RETIRARSE_COLEGIO                                            -   \n",
       "ESTU_PROGRAMA_ACADEMICODESEADO                                    -   \n",
       "ESTU_VECES_ESTADO                                                 0   \n",
       "ESTU_CARRDESEADA_RAZON                                          NaN   \n",
       "ESTU_MCPIO_PRESENTACION                                 BOGOTÁ D.C.   \n",
       "ESTU_COD_MCPIO_PRESENTACION                                   11001   \n",
       "ESTU_DEPTO_PRESENTACION                                      BOGOTÁ   \n",
       "ESTU_EXAM_NOMBREEXAMEN                     EXAMEN DE ESTADO (ICFES)   \n",
       "PUNT_LENGUAJE                                                 43,99   \n",
       "PUNT_MATEMATICAS                                              49,14   \n",
       "PUNT_C_SOCIALES                                               55,22   \n",
       "PUNT_FILOSOFIA                                                51,28   \n",
       "PUNT_BIOLOGIA                                                 48,79   \n",
       "PUNT_QUIMICA                                                  50,85   \n",
       "PUNT_FISICA                                                   45,57   \n",
       "PUNT_INGLES                                                   58,06   \n",
       "DESEMP_INGLES                                                    A2   \n",
       "NOMBRE_PROFUNDIZACION           PROFUNDIZACIÓN EN CIENCIAS SOCIALES   \n",
       "PUNT_PROFUNDIZACION                                             6,8   \n",
       "DESEMP_PROFUNDIZACION                                            II   \n",
       "NOMBRE_INTERDISCIPLINAR                        VIOLENCIA Y SOCIEDAD   \n",
       "PUNT_INTERDISCIPLINAR                                         67,71   \n",
       "ESTU_PUESTO                                                     173   \n",
       "\n",
       "                                                           2  \n",
       "ESTU_CONSECUTIVO                          SABER1120092000003  \n",
       "PERIODO                                                20092  \n",
       "ESTU_TIPO_DOCUMENTO                                        T  \n",
       "ESTU_PAIS_RESIDE                                          CO  \n",
       "ESTU_GENERO                                                F  \n",
       "ESTU_NACIMIENTO_DIA                                       16  \n",
       "ESTU_NACIMIENTO_MES                                       12  \n",
       "ESTU_NACIMIENTO_ANNO                                    1992  \n",
       "ESTU_EDAD                                                 16  \n",
       "ESTU_LIMITA_BAJAVISION                                   NaN  \n",
       "ESTU_LIMITA_SORDOCEGUERA                                 NaN  \n",
       "ESTU_LIMITA_COGNITIVA                                    NaN  \n",
       "ESTU_LIMITA_INVIDENTE                                    NaN  \n",
       "ESTU_LIMITA_MOTRIZ                                       NaN  \n",
       "ESTU_LIMITA_SORDOINTERPRETE                              NaN  \n",
       "ESTU_LIMITA_SORDONOINTERPRETE                            NaN  \n",
       "ESTU_ETNIA                                               NaN  \n",
       "ESTU_COD_RESIDE_MCPIO                                  54001  \n",
       "ESTU_RESIDE_MCPIO                                     CUCUTA  \n",
       "ESTU_RESIDE_DEPTO                            NORTE SANTANDER  \n",
       "ESTU_ZONA_RESIDE                                          10  \n",
       "ESTU_AREA_RESIDE                                           1  \n",
       "FAMI_EDUCA_PADRE                                          99  \n",
       "FAMI_EDUCA_MADRE                                          99  \n",
       "FAMI_OCUPA_PADRE                                          26  \n",
       "FAMI_OCUPA_MADRE                                          26  \n",
       "FAMI_ESTRATO_VIVIENDA                                      3  \n",
       "FAMI_NIVEL_SISBEN                                          5  \n",
       "FAMI_PERSONAS_HOGAR                                        4  \n",
       "FAMI_CUARTOS_HOGAR                                         5  \n",
       "...                                                      ...  \n",
       "ESTU_POR_AMIGOSESTUDIANDO                                  1  \n",
       "ESTU_POR_COSTOMATRICULA                                    -  \n",
       "ESTU_POR_OPORTUNIDADES                                     -  \n",
       "ESTU_POR_OTRARAZON                                         0  \n",
       "ESTU_PRESTIGIOINSTITUCION                                  1  \n",
       "ESTU_POR_UBICACION                                         1  \n",
       "ESTU_POR_UNICAQUEOFRECE                                    0  \n",
       "ESTU_RETIRARSE_COLEGIO                                     -  \n",
       "ESTU_PROGRAMA_ACADEMICODESEADO                             -  \n",
       "ESTU_VECES_ESTADO                                          1  \n",
       "ESTU_CARRDESEADA_RAZON                                   NaN  \n",
       "ESTU_MCPIO_PRESENTACION                               CUCUTA  \n",
       "ESTU_COD_MCPIO_PRESENTACION                            54001  \n",
       "ESTU_DEPTO_PRESENTACION                      NORTE SANTANDER  \n",
       "ESTU_EXAM_NOMBREEXAMEN              EXAMEN DE ESTADO (ICFES)  \n",
       "PUNT_LENGUAJE                                          43,85  \n",
       "PUNT_MATEMATICAS                                        51,6  \n",
       "PUNT_C_SOCIALES                                        41,83  \n",
       "PUNT_FILOSOFIA                                         49,02  \n",
       "PUNT_BIOLOGIA                                          50,78  \n",
       "PUNT_QUIMICA                                           50,85  \n",
       "PUNT_FISICA                                            50,94  \n",
       "PUNT_INGLES                                            49,63  \n",
       "DESEMP_INGLES                                             A1  \n",
       "NOMBRE_PROFUNDIZACION           PROFUNDIZACIÓN EN MATEMÁTICA  \n",
       "PUNT_PROFUNDIZACION                                      4,1  \n",
       "DESEMP_PROFUNDIZACION                                     GB  \n",
       "NOMBRE_INTERDISCIPLINAR                       MEDIO AMBIENTE  \n",
       "PUNT_INTERDISCIPLINAR                                  55,56  \n",
       "ESTU_PUESTO                                              238  \n",
       "\n",
       "[121 rows x 3 columns]"
      ]
     },
     "execution_count": 118,
     "metadata": {},
     "output_type": "execute_result"
    }
   ],
   "source": [
    "data_2009_2.head(3).T"
   ]
  },
  {
   "cell_type": "code",
   "execution_count": 119,
   "metadata": {
    "collapsed": true
   },
   "outputs": [],
   "source": [
    "data_2009_2 = data_2009_2.drop(['ESTU_CONSECUTIVO', 'PERIODO', 'ESTU_TIPO_DOCUMENTO', 'ESTU_COD_RESIDE_MCPIO',\n",
    "                               'COLE_NOMBRE_SEDE', 'ESTU_IES_DESEADA_NOMBRE', 'ESTU_IES_COD_MPIO_DESEADA',\n",
    "                               'ESTU_COD_MCPIO_PRESENTACION'], axis=1)"
   ]
  },
  {
   "cell_type": "code",
   "execution_count": 120,
   "metadata": {
    "collapsed": false,
    "scrolled": true
   },
   "outputs": [
    {
     "name": "stdout",
     "output_type": "stream",
     "text": [
      "Index(['AR', 'AT', 'AU', 'BO', 'BR', 'CL', 'CN', 'CO', 'CU', 'DE', 'EC', 'ES',\n",
      "       'FR', 'IT', 'JP', 'KP', 'KR', 'LT', 'MX', 'NL', 'PA', 'PE', 'PY', 'RU',\n",
      "       'US', 'VE'],\n",
      "      dtype='object')\n",
      "AR         7\n",
      "AT         1\n",
      "AU         1\n",
      "BO         3\n",
      "BR         5\n",
      "CL         4\n",
      "CN         2\n",
      "CO    517946\n",
      "CU         4\n",
      "DE         2\n",
      "EC         9\n",
      "ES         3\n",
      "FR         1\n",
      "IT         2\n",
      "JP         2\n",
      "KP         1\n",
      "KR         2\n",
      "LT         1\n",
      "MX         5\n",
      "NL         1\n",
      "PA         3\n",
      "PE         9\n",
      "PY         1\n",
      "RU         1\n",
      "US        11\n",
      "VE        35\n",
      "Name: ESTU_PAIS_RESIDE, dtype: int64\n",
      "Elementos null/NaN 158\n",
      "__________________\n",
      "Elementos diferentes de null/NaN: 518062\n",
      "__________________\n",
      "(518062,)\n",
      "None\n"
     ]
    }
   ],
   "source": [
    "c = 'ESTU_PAIS_RESIDE'\n",
    "print(data_2009_2[c].value_counts().sort_index().index)\n",
    "print(data_2009_2[c].value_counts().sort_index())\n",
    "print(missing_data(data_2009_2[c]))"
   ]
  },
  {
   "cell_type": "code",
   "execution_count": 121,
   "metadata": {
    "collapsed": false
   },
   "outputs": [
    {
     "name": "stdout",
     "output_type": "stream",
     "text": [
      "Index(['F', 'M'], dtype='object')\n",
      "F    279064\n",
      "M    235694\n",
      "Name: ESTU_GENERO, dtype: int64\n",
      "Elementos null/NaN 3462\n",
      "__________________\n",
      "Elementos diferentes de null/NaN: 514758\n",
      "__________________\n",
      "(514758,)\n",
      "None\n"
     ]
    }
   ],
   "source": [
    "c = 'ESTU_GENERO'\n",
    "print(data_2009_2[c].value_counts().sort_index().index)\n",
    "print(data_2009_2[c].value_counts().sort_index())\n",
    "print(missing_data(data_2009_2[c]))"
   ]
  },
  {
   "cell_type": "code",
   "execution_count": 122,
   "metadata": {
    "collapsed": false,
    "scrolled": true
   },
   "outputs": [
    {
     "name": "stdout",
     "output_type": "stream",
     "text": [
      "Float64Index([ 1.0,  2.0,  3.0,  4.0,  5.0,  6.0,  7.0,  8.0,  9.0, 10.0, 11.0,\n",
      "              12.0, 13.0, 14.0, 15.0, 16.0, 17.0, 18.0, 19.0, 20.0, 21.0, 22.0,\n",
      "              23.0, 24.0, 25.0, 26.0, 27.0, 28.0, 29.0, 30.0, 31.0],\n",
      "             dtype='float64')\n",
      "1     17259\n",
      "2     17104\n",
      "3     16957\n",
      "4     17158\n",
      "5     17068\n",
      "6     16681\n",
      "7     17091\n",
      "8     16965\n",
      "9     16619\n",
      "10    17537\n",
      "11    16927\n",
      "12    16987\n",
      "13    16899\n",
      "14    16751\n",
      "15    17196\n",
      "16    17245\n",
      "17    16712\n",
      "18    17012\n",
      "19    16652\n",
      "20    17460\n",
      "21    16662\n",
      "22    17065\n",
      "23    16777\n",
      "24    16834\n",
      "25    16830\n",
      "26    16777\n",
      "27    16800\n",
      "28    16843\n",
      "29    15461\n",
      "30    15065\n",
      "31     9299\n",
      "Name: ESTU_NACIMIENTO_DIA, dtype: int64\n",
      "Elementos null/NaN 3527\n",
      "__________________\n",
      "Elementos diferentes de null/NaN: 514693\n",
      "__________________\n",
      "(514693,)\n",
      "None\n"
     ]
    }
   ],
   "source": [
    "c = 'ESTU_NACIMIENTO_DIA'\n",
    "print(data_2009_2[c].value_counts().sort_index().index)\n",
    "print(data_2009_2[c].value_counts().sort_index())\n",
    "print(missing_data(data_2009_2[c]))"
   ]
  },
  {
   "cell_type": "code",
   "execution_count": 123,
   "metadata": {
    "collapsed": false,
    "scrolled": true
   },
   "outputs": [
    {
     "name": "stdout",
     "output_type": "stream",
     "text": [
      "Float64Index([1.0, 2.0, 3.0, 4.0, 5.0, 6.0, 7.0, 8.0, 9.0, 10.0, 11.0, 12.0], dtype='float64')\n",
      "1     41657\n",
      "2     37759\n",
      "3     42179\n",
      "4     40433\n",
      "5     42402\n",
      "6     40507\n",
      "7     43106\n",
      "8     43779\n",
      "9     45883\n",
      "10    44816\n",
      "11    43004\n",
      "12    49168\n",
      "Name: ESTU_NACIMIENTO_MES, dtype: int64\n",
      "Elementos null/NaN 3527\n",
      "__________________\n",
      "Elementos diferentes de null/NaN: 514693\n",
      "__________________\n",
      "(514693,)\n",
      "None\n"
     ]
    }
   ],
   "source": [
    "c = 'ESTU_NACIMIENTO_MES'\n",
    "print(data_2009_2[c].value_counts().sort_index().index)\n",
    "print(data_2009_2[c].value_counts().sort_index())\n",
    "print(missing_data(data_2009_2[c]))"
   ]
  },
  {
   "cell_type": "code",
   "execution_count": 124,
   "metadata": {
    "collapsed": false,
    "scrolled": true
   },
   "outputs": [
    {
     "name": "stdout",
     "output_type": "stream",
     "text": [
      "Float64Index([  90.0, 1930.0, 1931.0, 1933.0, 1934.0, 1935.0, 1936.0, 1937.0,\n",
      "              1938.0, 1939.0, 1940.0, 1941.0, 1942.0, 1943.0, 1944.0, 1945.0,\n",
      "              1946.0, 1947.0, 1948.0, 1949.0, 1950.0, 1951.0, 1952.0, 1953.0,\n",
      "              1954.0, 1955.0, 1956.0, 1957.0, 1958.0, 1959.0, 1960.0, 1961.0,\n",
      "              1962.0, 1963.0, 1964.0, 1965.0, 1966.0, 1967.0, 1968.0, 1969.0,\n",
      "              1970.0, 1971.0, 1972.0, 1973.0, 1974.0, 1975.0, 1976.0, 1977.0,\n",
      "              1978.0, 1979.0, 1980.0, 1981.0, 1982.0, 1983.0, 1984.0, 1985.0,\n",
      "              1986.0, 1987.0, 1988.0, 1989.0, 1990.0, 1991.0, 1992.0, 1993.0,\n",
      "              1994.0, 1995.0, 1996.0, 1997.0, 1998.0, 1999.0, 2000.0, 2001.0,\n",
      "              2002.0, 2003.0, 2004.0, 2015.0, 2093.0],\n",
      "             dtype='float64')\n",
      "90           1\n",
      "1930         7\n",
      "1931         3\n",
      "1933         5\n",
      "1934         4\n",
      "1935         1\n",
      "1936         1\n",
      "1937         4\n",
      "1938         3\n",
      "1939         3\n",
      "1940         4\n",
      "1941         2\n",
      "1942         9\n",
      "1943         6\n",
      "1944         9\n",
      "1945        16\n",
      "1946        16\n",
      "1947        25\n",
      "1948        29\n",
      "1949        30\n",
      "1950        52\n",
      "1951        60\n",
      "1952        64\n",
      "1953        94\n",
      "1954        99\n",
      "1955       115\n",
      "1956       125\n",
      "1957       152\n",
      "1958       197\n",
      "1959       210\n",
      "         ...  \n",
      "1977      1317\n",
      "1978      1415\n",
      "1979      1713\n",
      "1980      1863\n",
      "1981      2034\n",
      "1982      2456\n",
      "1983      2581\n",
      "1984      2877\n",
      "1985      3531\n",
      "1986      4463\n",
      "1987      6116\n",
      "1988      9469\n",
      "1989     18839\n",
      "1990     42068\n",
      "1991     92509\n",
      "1992    180818\n",
      "1993    114712\n",
      "1994     12117\n",
      "1995       901\n",
      "1996        34\n",
      "1997         8\n",
      "1998        14\n",
      "1999         9\n",
      "2000       146\n",
      "2001        49\n",
      "2002        18\n",
      "2003        25\n",
      "2004        18\n",
      "2015         1\n",
      "2093         1\n",
      "Name: ESTU_NACIMIENTO_ANNO, dtype: int64\n",
      "Elementos null/NaN 3527\n",
      "__________________\n",
      "Elementos diferentes de null/NaN: 514693\n",
      "__________________\n",
      "(514693,)\n",
      "None\n"
     ]
    }
   ],
   "source": [
    "c = 'ESTU_NACIMIENTO_ANNO'\n",
    "print(data_2009_2[c].value_counts().sort_index().index)\n",
    "print(data_2009_2[c].value_counts().sort_index())\n",
    "print(missing_data(data_2009_2[c]))"
   ]
  },
  {
   "cell_type": "code",
   "execution_count": 125,
   "metadata": {
    "collapsed": false
   },
   "outputs": [],
   "source": [
    "for i in data_2009_2[c].value_counts().sort_index().index:\n",
    "    if i < 1930:\n",
    "        data_2009_2[c] = data_2009_2[c].replace(i, np.nan)\n",
    "    elif i > 1996:\n",
    "        data_2009_2[c] = data_2009_2[c].replace(i, np.nan)"
   ]
  },
  {
   "cell_type": "code",
   "execution_count": 126,
   "metadata": {
    "collapsed": false,
    "scrolled": true
   },
   "outputs": [
    {
     "name": "stdout",
     "output_type": "stream",
     "text": [
      "Float64Index([13.0, 14.0, 15.0, 16.0, 17.0, 18.0, 19.0, 20.0, 21.0, 22.0, 23.0,\n",
      "              24.0, 25.0, 26.0, 27.0, 28.0, 29.0, 30.0, 31.0, 32.0, 33.0, 34.0,\n",
      "              35.0, 36.0, 37.0, 38.0, 39.0, 40.0, 41.0, 42.0, 43.0, 44.0, 45.0,\n",
      "              46.0, 47.0, 48.0, 49.0, 50.0, 51.0, 52.0, 53.0, 54.0, 55.0, 56.0,\n",
      "              57.0, 58.0, 59.0, 60.0, 61.0, 62.0, 63.0, 64.0, 65.0, 66.0, 67.0,\n",
      "              68.0, 69.0, 70.0, 71.0, 72.0, 73.0, 74.0, 75.0, 76.0, 78.0,\n",
      "              79.0],\n",
      "             dtype='float64')\n",
      "13       171\n",
      "14      2710\n",
      "15     36002\n",
      "16    182686\n",
      "17    136565\n",
      "18     67229\n",
      "19     30228\n",
      "20     14147\n",
      "21      7803\n",
      "22      5418\n",
      "23      4094\n",
      "24      3374\n",
      "25      2677\n",
      "26      2583\n",
      "27      2315\n",
      "28      1950\n",
      "29      1871\n",
      "30      1577\n",
      "31      1367\n",
      "32      1286\n",
      "33      1145\n",
      "34      1138\n",
      "35      1015\n",
      "36       910\n",
      "37       864\n",
      "38       774\n",
      "39       754\n",
      "40       669\n",
      "41       582\n",
      "42       514\n",
      "       ...  \n",
      "49       260\n",
      "50       200\n",
      "51       192\n",
      "52       137\n",
      "53       128\n",
      "54       111\n",
      "55        86\n",
      "56        82\n",
      "57        61\n",
      "58        68\n",
      "59        35\n",
      "60        28\n",
      "61        27\n",
      "62        22\n",
      "63        17\n",
      "64        14\n",
      "65         9\n",
      "66         6\n",
      "67         7\n",
      "68         3\n",
      "69         4\n",
      "70         5\n",
      "71         3\n",
      "72         3\n",
      "73         1\n",
      "74         3\n",
      "75         3\n",
      "76         4\n",
      "78         5\n",
      "79         6\n",
      "Name: ESTU_EDAD, dtype: int64\n",
      "Elementos null/NaN 2\n",
      "__________________\n",
      "Elementos diferentes de null/NaN: 518218\n",
      "__________________\n",
      "(518218,)\n",
      "None\n"
     ]
    }
   ],
   "source": [
    "c = 'ESTU_EDAD'\n",
    "print(data_2009_2[c].value_counts().sort_index().index)\n",
    "print(data_2009_2[c].value_counts().sort_index())\n",
    "print(missing_data(data_2009_2[c]))"
   ]
  },
  {
   "cell_type": "code",
   "execution_count": 127,
   "metadata": {
    "collapsed": false,
    "scrolled": true
   },
   "outputs": [
    {
     "name": "stdout",
     "output_type": "stream",
     "text": [
      "Float64Index([], dtype='float64')\n",
      "Series([], Name: ESTU_LIMITA_BAJAVISION, dtype: int64)\n",
      "Elementos null/NaN 518220\n",
      "__________________\n",
      "Elementos diferentes de null/NaN: 0\n",
      "__________________\n",
      "(0,)\n",
      "None\n"
     ]
    }
   ],
   "source": [
    "c = 'ESTU_LIMITA_BAJAVISION'\n",
    "print(data_2009_2[c].value_counts().sort_index().index)\n",
    "print(data_2009_2[c].value_counts().sort_index())\n",
    "print(missing_data(data_2009_2[c]))"
   ]
  },
  {
   "cell_type": "code",
   "execution_count": 128,
   "metadata": {
    "collapsed": true
   },
   "outputs": [],
   "source": [
    "data_2009_2 = data_2009_2.drop([c], axis=1)"
   ]
  },
  {
   "cell_type": "code",
   "execution_count": 129,
   "metadata": {
    "collapsed": false
   },
   "outputs": [
    {
     "name": "stdout",
     "output_type": "stream",
     "text": [
      "Float64Index([], dtype='float64')\n",
      "Series([], Name: ESTU_LIMITA_SORDOCEGUERA, dtype: int64)\n",
      "Elementos null/NaN 518220\n",
      "__________________\n",
      "Elementos diferentes de null/NaN: 0\n",
      "__________________\n",
      "(0,)\n",
      "None\n"
     ]
    }
   ],
   "source": [
    "c = 'ESTU_LIMITA_SORDOCEGUERA'\n",
    "print(data_2009_2[c].value_counts().sort_index().index)\n",
    "print(data_2009_2[c].value_counts().sort_index())\n",
    "print(missing_data(data_2009_2[c]))"
   ]
  },
  {
   "cell_type": "code",
   "execution_count": 130,
   "metadata": {
    "collapsed": true
   },
   "outputs": [],
   "source": [
    "data_2009_2 = data_2009_2.drop([c], axis=1)"
   ]
  },
  {
   "cell_type": "code",
   "execution_count": 131,
   "metadata": {
    "collapsed": false
   },
   "outputs": [
    {
     "name": "stdout",
     "output_type": "stream",
     "text": [
      "Float64Index([], dtype='float64')\n",
      "Series([], Name: ESTU_LIMITA_COGNITIVA, dtype: int64)\n",
      "Elementos null/NaN 518220\n",
      "__________________\n",
      "Elementos diferentes de null/NaN: 0\n",
      "__________________\n",
      "(0,)\n",
      "None\n"
     ]
    }
   ],
   "source": [
    "c = 'ESTU_LIMITA_COGNITIVA'\n",
    "print(data_2009_2[c].value_counts().sort_index().index)\n",
    "print(data_2009_2[c].value_counts().sort_index())\n",
    "print(missing_data(data_2009_2[c]))"
   ]
  },
  {
   "cell_type": "code",
   "execution_count": 132,
   "metadata": {
    "collapsed": true
   },
   "outputs": [],
   "source": [
    "data_2009_2 = data_2009_2.drop([c], axis=1)"
   ]
  },
  {
   "cell_type": "code",
   "execution_count": 133,
   "metadata": {
    "collapsed": false,
    "scrolled": true
   },
   "outputs": [
    {
     "name": "stdout",
     "output_type": "stream",
     "text": [
      "Float64Index([], dtype='float64')\n",
      "Series([], Name: ESTU_LIMITA_INVIDENTE, dtype: int64)\n",
      "Elementos null/NaN 518220\n",
      "__________________\n",
      "Elementos diferentes de null/NaN: 0\n",
      "__________________\n",
      "(0,)\n",
      "None\n"
     ]
    }
   ],
   "source": [
    "c = 'ESTU_LIMITA_INVIDENTE'\n",
    "print(data_2009_2[c].value_counts().sort_index().index)\n",
    "print(data_2009_2[c].value_counts().sort_index())\n",
    "print(missing_data(data_2009_2[c]))"
   ]
  },
  {
   "cell_type": "code",
   "execution_count": 134,
   "metadata": {
    "collapsed": false
   },
   "outputs": [],
   "source": [
    "data_2009_2 = data_2009_2.drop([c], axis=1)"
   ]
  },
  {
   "cell_type": "code",
   "execution_count": 135,
   "metadata": {
    "collapsed": false
   },
   "outputs": [
    {
     "name": "stdout",
     "output_type": "stream",
     "text": [
      "Float64Index([], dtype='float64')\n",
      "Series([], Name: ESTU_LIMITA_MOTRIZ, dtype: int64)\n",
      "Elementos null/NaN 518220\n",
      "__________________\n",
      "Elementos diferentes de null/NaN: 0\n",
      "__________________\n",
      "(0,)\n",
      "None\n"
     ]
    }
   ],
   "source": [
    "c = 'ESTU_LIMITA_MOTRIZ'\n",
    "print(data_2009_2[c].value_counts().sort_index().index)\n",
    "print(data_2009_2[c].value_counts().sort_index())\n",
    "print(missing_data(data_2009_2[c]))"
   ]
  },
  {
   "cell_type": "code",
   "execution_count": 136,
   "metadata": {
    "collapsed": true
   },
   "outputs": [],
   "source": [
    "data_2009_2 = data_2009_2.drop([c], axis=1)"
   ]
  },
  {
   "cell_type": "code",
   "execution_count": 137,
   "metadata": {
    "collapsed": false
   },
   "outputs": [
    {
     "name": "stdout",
     "output_type": "stream",
     "text": [
      "Float64Index([], dtype='float64')\n",
      "Series([], Name: ESTU_LIMITA_SORDOINTERPRETE, dtype: int64)\n",
      "Elementos null/NaN 518220\n",
      "__________________\n",
      "Elementos diferentes de null/NaN: 0\n",
      "__________________\n",
      "(0,)\n",
      "None\n"
     ]
    }
   ],
   "source": [
    "c = 'ESTU_LIMITA_SORDOINTERPRETE'\n",
    "print(data_2009_2[c].value_counts().sort_index().index)\n",
    "print(data_2009_2[c].value_counts().sort_index())\n",
    "print(missing_data(data_2009_2[c]))"
   ]
  },
  {
   "cell_type": "code",
   "execution_count": 138,
   "metadata": {
    "collapsed": true
   },
   "outputs": [],
   "source": [
    "data_2009_2 = data_2009_2.drop([c], axis=1)"
   ]
  },
  {
   "cell_type": "code",
   "execution_count": 139,
   "metadata": {
    "collapsed": false,
    "scrolled": true
   },
   "outputs": [
    {
     "name": "stdout",
     "output_type": "stream",
     "text": [
      "Float64Index([], dtype='float64')\n",
      "Series([], Name: ESTU_LIMITA_SORDONOINTERPRETE, dtype: int64)\n",
      "Elementos null/NaN 518220\n",
      "__________________\n",
      "Elementos diferentes de null/NaN: 0\n",
      "__________________\n",
      "(0,)\n",
      "None\n"
     ]
    }
   ],
   "source": [
    "c = 'ESTU_LIMITA_SORDONOINTERPRETE'\n",
    "print(data_2009_2[c].value_counts().sort_index().index)\n",
    "print(data_2009_2[c].value_counts().sort_index())\n",
    "print(missing_data(data_2009_2[c]))"
   ]
  },
  {
   "cell_type": "code",
   "execution_count": 140,
   "metadata": {
    "collapsed": true
   },
   "outputs": [],
   "source": [
    "data_2009_2 = data_2009_2.drop([c], axis=1)"
   ]
  },
  {
   "cell_type": "code",
   "execution_count": 141,
   "metadata": {
    "collapsed": false,
    "scrolled": true
   },
   "outputs": [
    {
     "name": "stdout",
     "output_type": "stream",
     "text": [
      "Float64Index([ 1.0,  2.0,  3.0,  4.0,  5.0,  6.0,  7.0,  8.0,  9.0, 10.0, 11.0,\n",
      "              12.0, 13.0, 14.0, 15.0, 16.0, 17.0, 99.0],\n",
      "             dtype='float64')\n",
      "1     13254\n",
      "2       753\n",
      "3      1407\n",
      "4       163\n",
      "5       111\n",
      "6       686\n",
      "7       176\n",
      "8       608\n",
      "9      1147\n",
      "10     2256\n",
      "11      509\n",
      "12      225\n",
      "13      172\n",
      "14       63\n",
      "15       93\n",
      "16      102\n",
      "17       24\n",
      "99     6377\n",
      "Name: ESTU_ETNIA, dtype: int64\n",
      "Elementos null/NaN 490094\n",
      "__________________\n",
      "Elementos diferentes de null/NaN: 28126\n",
      "__________________\n",
      "(28126,)\n",
      "None\n"
     ]
    }
   ],
   "source": [
    "c = 'ESTU_ETNIA'\n",
    "print(data_2009_2[c].value_counts().sort_index().index)\n",
    "print(data_2009_2[c].value_counts().sort_index())\n",
    "print(missing_data(data_2009_2[c]))"
   ]
  },
  {
   "cell_type": "code",
   "execution_count": 142,
   "metadata": {
    "collapsed": false,
    "scrolled": true
   },
   "outputs": [
    {
     "name": "stdout",
     "output_type": "stream",
     "text": [
      "Index(['ABEJORRAL', 'ABREGO', 'ABRIAQUI', 'ACACIAS', 'ACANDI', 'ACEVEDO',\n",
      "       'ACHI', 'AGRADO', 'AGUA DE DIOS', 'AGUACHICA',\n",
      "       ...\n",
      "       'YUMBO', 'ZAMBRANO', 'ZAPATOCA', 'ZAPAYAN', 'ZARAGOZA', 'ZARZAL',\n",
      "       'ZETAQUIRA', 'ZIPACON', 'ZIPAQUIRA', 'ZONA BANANERA'],\n",
      "      dtype='object', length=1026)\n",
      "ABEJORRAL                    188\n",
      "ABREGO                       182\n",
      "ABRIAQUI                      24\n",
      "ACACIAS                     1095\n",
      "ACANDI                        72\n",
      "ACEVEDO                      163\n",
      "ACHI                         206\n",
      "AGRADO                       106\n",
      "AGUA DE DIOS                 145\n",
      "AGUACHICA                   1069\n",
      "AGUADA                        20\n",
      "AGUADAS                      231\n",
      "AGUAZUL                      499\n",
      "AGUSTIN CODAZZI              558\n",
      "AIPE                         212\n",
      "ALBAN                         92\n",
      "ALBAN (SAN JOSE)              23\n",
      "ALBANIA                      336\n",
      "ALCALA                        11\n",
      "ALDANA                        27\n",
      "ALEJANDRIA                    34\n",
      "ALGARROBO                    153\n",
      "ALGECIRAS                    286\n",
      "ALMAGUER                     106\n",
      "ALMEIDA                       25\n",
      "ALPUJARRA                     54\n",
      "ALTAMIRA                      56\n",
      "ALTO BAUDO (PIE DE PATO)      35\n",
      "ALTOS DEL ROSARIO             57\n",
      "ALVARADO                     106\n",
      "                            ... \n",
      "VILLANUEVA                   975\n",
      "VILLAPINZON                  286\n",
      "VILLARRICA                    83\n",
      "VILLAVICENCIO               6065\n",
      "VILLAVIEJA                    83\n",
      "VILLETA                      406\n",
      "VIOTA                        159\n",
      "VIRACACHA                     41\n",
      "VISTA HERMOSA                 98\n",
      "VITERBO                      223\n",
      "YACOPI                       104\n",
      "YACUANQUER                    30\n",
      "YAGUARA                      139\n",
      "YALI                          42\n",
      "YARUMAL                      551\n",
      "YAVARATE                      23\n",
      "YOLOMBO                      237\n",
      "YONDO (CASABE)               108\n",
      "YOPAL                       2020\n",
      "YOTOCO                        12\n",
      "YUMBO                        383\n",
      "ZAMBRANO                     131\n",
      "ZAPATOCA                     133\n",
      "ZAPAYAN                       57\n",
      "ZARAGOZA                     212\n",
      "ZARZAL                        54\n",
      "ZETAQUIRA                     73\n",
      "ZIPACON                       74\n",
      "ZIPAQUIRA                   1586\n",
      "ZONA BANANERA                601\n",
      "Name: ESTU_RESIDE_MCPIO, dtype: int64\n",
      "Elementos null/NaN 3110\n",
      "__________________\n",
      "Elementos diferentes de null/NaN: 515110\n",
      "__________________\n",
      "(515110,)\n",
      "None\n"
     ]
    }
   ],
   "source": [
    "c = 'ESTU_RESIDE_MCPIO'\n",
    "print(data_2009_2[c].value_counts().sort_index().index)\n",
    "print(data_2009_2[c].value_counts().sort_index())\n",
    "print(missing_data(data_2009_2[c]))"
   ]
  },
  {
   "cell_type": "code",
   "execution_count": 143,
   "metadata": {
    "collapsed": false,
    "scrolled": true
   },
   "outputs": [
    {
     "name": "stdout",
     "output_type": "stream",
     "text": [
      "Index(['AMAZONAS', 'ANTIOQUIA', 'ARAUCA', 'ATLÁNTICO', 'BOGOTÁ', 'BOLÍVAR',\n",
      "       'BOYACÁ', 'CALDAS', 'CAQUETÁ', 'CASANARE', 'CAUCA', 'CESAR', 'CHOCÓ',\n",
      "       'CUNDINAMARCA', 'CÓRDOBA', 'GUAINÍA', 'GUAVIARE', 'HUILA', 'LA GUAJIRA',\n",
      "       'MAGDALENA', 'META', 'NARIÑO', 'NORTE SANTANDER', 'PUTUMAYO', 'QUINDÍO',\n",
      "       'RISARALDA', 'SAN ANDRÉS', 'SANTANDER', 'SUCRE', 'TOLIMA', 'VALLE',\n",
      "       'VAUPÉS', 'VICHADA'],\n",
      "      dtype='object')\n",
      "AMAZONAS              779\n",
      "ANTIOQUIA           71919\n",
      "ARAUCA               3081\n",
      "ATLÁNTICO           27887\n",
      "BOGOTÁ             101580\n",
      "BOLÍVAR             24885\n",
      "BOYACÁ              19373\n",
      "CALDAS              12783\n",
      "CAQUETÁ              4300\n",
      "CASANARE             4772\n",
      "CAUCA               12394\n",
      "CESAR               11990\n",
      "CHOCÓ                4246\n",
      "CUNDINAMARCA        33804\n",
      "CÓRDOBA             17420\n",
      "GUAINÍA               165\n",
      "GUAVIARE              794\n",
      "HUILA               15480\n",
      "LA GUAJIRA           7075\n",
      "MAGDALENA           13845\n",
      "META                10744\n",
      "NARIÑO               7740\n",
      "NORTE SANTANDER     16566\n",
      "PUTUMAYO             3205\n",
      "QUINDÍO              7425\n",
      "RISARALDA           11564\n",
      "SAN ANDRÉS            812\n",
      "SANTANDER           28142\n",
      "SUCRE               10544\n",
      "TOLIMA              17685\n",
      "VALLE               11420\n",
      "VAUPÉS                262\n",
      "VICHADA               429\n",
      "Name: ESTU_RESIDE_DEPTO, dtype: int64\n",
      "Elementos null/NaN 3110\n",
      "__________________\n",
      "Elementos diferentes de null/NaN: 515110\n",
      "__________________\n",
      "(515110,)\n",
      "None\n"
     ]
    }
   ],
   "source": [
    "c = 'ESTU_RESIDE_DEPTO'\n",
    "print(data_2009_2[c].value_counts().sort_index().index)\n",
    "print(data_2009_2[c].value_counts().sort_index())\n",
    "print(missing_data(data_2009_2[c]))"
   ]
  },
  {
   "cell_type": "code",
   "execution_count": 144,
   "metadata": {
    "collapsed": false
   },
   "outputs": [
    {
     "name": "stdout",
     "output_type": "stream",
     "text": [
      "Float64Index([1.0, 2.0, 3.0, 4.0, 5.0, 6.0, 7.0, 8.0, 9.0, 10.0], dtype='float64')\n",
      "1      21862\n",
      "2       3662\n",
      "3      13891\n",
      "4      47638\n",
      "5      19105\n",
      "6      10194\n",
      "7      11450\n",
      "8      26972\n",
      "9      21283\n",
      "10    338075\n",
      "Name: ESTU_ZONA_RESIDE, dtype: int64\n",
      "Elementos null/NaN 4088\n",
      "__________________\n",
      "Elementos diferentes de null/NaN: 514132\n",
      "__________________\n",
      "(514132,)\n",
      "None\n"
     ]
    }
   ],
   "source": [
    "c = 'ESTU_ZONA_RESIDE'\n",
    "print(data_2009_2[c].value_counts().sort_index().index)\n",
    "print(data_2009_2[c].value_counts().sort_index())\n",
    "print(missing_data(data_2009_2[c]))"
   ]
  },
  {
   "cell_type": "code",
   "execution_count": 145,
   "metadata": {
    "collapsed": false
   },
   "outputs": [
    {
     "name": "stdout",
     "output_type": "stream",
     "text": [
      "Float64Index([1.0, 2.0], dtype='float64')\n",
      "1    410309\n",
      "2    107783\n",
      "Name: ESTU_AREA_RESIDE, dtype: int64\n",
      "Elementos null/NaN 128\n",
      "__________________\n",
      "Elementos diferentes de null/NaN: 518092\n",
      "__________________\n",
      "(518092,)\n",
      "None\n"
     ]
    }
   ],
   "source": [
    "c = 'ESTU_AREA_RESIDE'\n",
    "print(data_2009_2[c].value_counts().sort_index().index)\n",
    "print(data_2009_2[c].value_counts().sort_index())\n",
    "print(missing_data(data_2009_2[c]))"
   ]
  },
  {
   "cell_type": "code",
   "execution_count": 146,
   "metadata": {
    "collapsed": false,
    "scrolled": true
   },
   "outputs": [
    {
     "name": "stdout",
     "output_type": "stream",
     "text": [
      "Float64Index([ 0.0,  1.0,  2.0,  3.0,  4.0,  5.0,  6.0,  7.0,  8.0,  9.0, 10.0,\n",
      "              11.0, 12.0, 13.0, 14.0, 15.0, 16.0, 17.0, 99.0],\n",
      "             dtype='float64')\n",
      "0      21038\n",
      "1         61\n",
      "2        282\n",
      "3        172\n",
      "4        152\n",
      "5        247\n",
      "6         26\n",
      "7         57\n",
      "8         14\n",
      "9     101683\n",
      "10     94800\n",
      "11     74918\n",
      "12    108268\n",
      "13      5848\n",
      "14     19841\n",
      "15      8117\n",
      "16     44036\n",
      "17     10505\n",
      "99     27328\n",
      "Name: FAMI_EDUCA_PADRE, dtype: int64\n",
      "Elementos null/NaN 827\n",
      "__________________\n",
      "Elementos diferentes de null/NaN: 517393\n",
      "__________________\n",
      "(517393,)\n",
      "None\n"
     ]
    }
   ],
   "source": [
    "c = 'FAMI_EDUCA_PADRE'\n",
    "print(data_2009_2[c].value_counts().sort_index().index)\n",
    "print(data_2009_2[c].value_counts().sort_index())\n",
    "print(missing_data(data_2009_2[c]))"
   ]
  },
  {
   "cell_type": "code",
   "execution_count": 147,
   "metadata": {
    "collapsed": false,
    "scrolled": true
   },
   "outputs": [
    {
     "name": "stdout",
     "output_type": "stream",
     "text": [
      "Float64Index([ 0.0,  1.0,  2.0,  3.0,  4.0,  5.0,  6.0,  7.0,  8.0,  9.0, 10.0,\n",
      "              11.0, 12.0, 13.0, 14.0, 15.0, 16.0, 17.0, 99.0],\n",
      "             dtype='float64')\n",
      "0      12287\n",
      "1         35\n",
      "2        277\n",
      "3        188\n",
      "4        176\n",
      "5        282\n",
      "6         24\n",
      "7         72\n",
      "8         15\n",
      "9      90329\n",
      "10     96244\n",
      "11     90498\n",
      "12    120599\n",
      "13      7858\n",
      "14     24778\n",
      "15      8819\n",
      "16     42239\n",
      "17     10225\n",
      "99     12448\n",
      "Name: FAMI_EDUCA_MADRE, dtype: int64\n",
      "Elementos null/NaN 827\n",
      "__________________\n",
      "Elementos diferentes de null/NaN: 517393\n",
      "__________________\n",
      "(517393,)\n",
      "None\n"
     ]
    }
   ],
   "source": [
    "c = 'FAMI_EDUCA_MADRE'\n",
    "print(data_2009_2[c].value_counts().sort_index().index)\n",
    "print(data_2009_2[c].value_counts().sort_index())\n",
    "print(missing_data(data_2009_2[c]))"
   ]
  },
  {
   "cell_type": "code",
   "execution_count": 148,
   "metadata": {
    "collapsed": false,
    "scrolled": true
   },
   "outputs": [
    {
     "name": "stdout",
     "output_type": "stream",
     "text": [
      "Float64Index([ 1.0,  2.0,  3.0,  4.0,  5.0,  6.0,  7.0,  8.0,  9.0, 10.0, 11.0,\n",
      "              12.0, 13.0, 14.0, 15.0, 16.0, 17.0, 18.0, 19.0, 20.0, 21.0, 22.0,\n",
      "              23.0, 26.0],\n",
      "             dtype='float64')\n",
      "1         15\n",
      "2         31\n",
      "3          8\n",
      "4          6\n",
      "5         80\n",
      "6         11\n",
      "7        192\n",
      "8         29\n",
      "9        437\n",
      "10        35\n",
      "11       116\n",
      "12       222\n",
      "13      9665\n",
      "14     39225\n",
      "15     11063\n",
      "16     15437\n",
      "17     27055\n",
      "18     19922\n",
      "19     89508\n",
      "20     25412\n",
      "21    167480\n",
      "22      8376\n",
      "23     17448\n",
      "26     85620\n",
      "Name: FAMI_OCUPA_PADRE, dtype: int64\n",
      "Elementos null/NaN 827\n",
      "__________________\n",
      "Elementos diferentes de null/NaN: 517393\n",
      "__________________\n",
      "(517393,)\n",
      "None\n"
     ]
    }
   ],
   "source": [
    "c = 'FAMI_OCUPA_PADRE'\n",
    "print(data_2009_2[c].value_counts().sort_index().index)\n",
    "print(data_2009_2[c].value_counts().sort_index())\n",
    "print(missing_data(data_2009_2[c]))"
   ]
  },
  {
   "cell_type": "code",
   "execution_count": 149,
   "metadata": {
    "collapsed": false,
    "scrolled": true
   },
   "outputs": [
    {
     "name": "stdout",
     "output_type": "stream",
     "text": [
      "Float64Index([ 1.0,  2.0,  3.0,  4.0,  5.0,  6.0,  7.0,  8.0,  9.0, 10.0, 11.0,\n",
      "              12.0, 13.0, 14.0, 15.0, 16.0, 17.0, 18.0, 19.0, 20.0, 21.0, 22.0,\n",
      "              23.0, 26.0],\n",
      "             dtype='float64')\n",
      "1         15\n",
      "2         22\n",
      "3          4\n",
      "4         12\n",
      "5         62\n",
      "6         35\n",
      "7         57\n",
      "8         19\n",
      "9        147\n",
      "10       658\n",
      "11        48\n",
      "12       103\n",
      "13      4667\n",
      "14     15054\n",
      "15      6443\n",
      "16     14228\n",
      "17     21069\n",
      "18     17614\n",
      "19     47120\n",
      "20     13835\n",
      "21     54876\n",
      "22    276769\n",
      "23      6522\n",
      "26     38014\n",
      "Name: FAMI_OCUPA_MADRE, dtype: int64\n",
      "Elementos null/NaN 827\n",
      "__________________\n",
      "Elementos diferentes de null/NaN: 517393\n",
      "__________________\n",
      "(517393,)\n",
      "None\n"
     ]
    }
   ],
   "source": [
    "c = 'FAMI_OCUPA_MADRE'\n",
    "print(data_2009_2[c].value_counts().sort_index().index)\n",
    "print(data_2009_2[c].value_counts().sort_index())\n",
    "print(missing_data(data_2009_2[c]))"
   ]
  },
  {
   "cell_type": "code",
   "execution_count": 150,
   "metadata": {
    "collapsed": false
   },
   "outputs": [
    {
     "name": "stdout",
     "output_type": "stream",
     "text": [
      "Float64Index([1.0, 2.0, 3.0, 4.0, 5.0, 6.0, 8.0], dtype='float64')\n",
      "1    176720\n",
      "2    195360\n",
      "3    105307\n",
      "4     22125\n",
      "5      7255\n",
      "6      3780\n",
      "8      2944\n",
      "Name: FAMI_ESTRATO_VIVIENDA, dtype: int64\n",
      "Elementos null/NaN 4729\n",
      "__________________\n",
      "Elementos diferentes de null/NaN: 513491\n",
      "__________________\n",
      "(513491,)\n",
      "None\n"
     ]
    }
   ],
   "source": [
    "c = 'FAMI_ESTRATO_VIVIENDA'\n",
    "print(data_2009_2[c].value_counts().sort_index().index)\n",
    "print(data_2009_2[c].value_counts().sort_index())\n",
    "print(missing_data(data_2009_2[c]))"
   ]
  },
  {
   "cell_type": "code",
   "execution_count": 151,
   "metadata": {
    "collapsed": true
   },
   "outputs": [],
   "source": [
    "data_2009_2[c] = data_2009_2[c].replace(8.0, np.nan)"
   ]
  },
  {
   "cell_type": "code",
   "execution_count": 152,
   "metadata": {
    "collapsed": false
   },
   "outputs": [
    {
     "name": "stdout",
     "output_type": "stream",
     "text": [
      "Float64Index([1.0, 2.0, 3.0, 4.0, 5.0], dtype='float64')\n",
      "1    200133\n",
      "2    129746\n",
      "3     25128\n",
      "4      5648\n",
      "5    156738\n",
      "Name: FAMI_NIVEL_SISBEN, dtype: int64\n",
      "Elementos null/NaN 827\n",
      "__________________\n",
      "Elementos diferentes de null/NaN: 517393\n",
      "__________________\n",
      "(517393,)\n",
      "None\n"
     ]
    }
   ],
   "source": [
    "c = 'FAMI_NIVEL_SISBEN'\n",
    "print(data_2009_2[c].value_counts().sort_index().index)\n",
    "print(data_2009_2[c].value_counts().sort_index())\n",
    "print(missing_data(data_2009_2[c]))"
   ]
  },
  {
   "cell_type": "code",
   "execution_count": 153,
   "metadata": {
    "collapsed": false
   },
   "outputs": [
    {
     "name": "stdout",
     "output_type": "stream",
     "text": [
      "Float64Index([1.0, 2.0, 3.0, 4.0, 5.0, 6.0, 7.0, 8.0, 9.0, 10.0, 11.0, 12.0], dtype='float64')\n",
      "1       3674\n",
      "2      23146\n",
      "3      75181\n",
      "4     141577\n",
      "5     125583\n",
      "6      69561\n",
      "7      34627\n",
      "8      19281\n",
      "9       9376\n",
      "10      6605\n",
      "11      3006\n",
      "12      5755\n",
      "Name: FAMI_PERSONAS_HOGAR, dtype: int64\n",
      "Elementos null/NaN 848\n",
      "__________________\n",
      "Elementos diferentes de null/NaN: 517372\n",
      "__________________\n",
      "(517372,)\n",
      "None\n"
     ]
    }
   ],
   "source": [
    "c = 'FAMI_PERSONAS_HOGAR'\n",
    "print(data_2009_2[c].value_counts().sort_index().index)\n",
    "print(data_2009_2[c].value_counts().sort_index())\n",
    "print(missing_data(data_2009_2[c]))"
   ]
  },
  {
   "cell_type": "code",
   "execution_count": 154,
   "metadata": {
    "collapsed": false
   },
   "outputs": [
    {
     "name": "stdout",
     "output_type": "stream",
     "text": [
      "Float64Index([1.0, 2.0, 3.0, 4.0, 5.0, 6.0, 7.0, 8.0, 9.0, 10.0], dtype='float64')\n",
      "1       7199\n",
      "2      45985\n",
      "3     105685\n",
      "4     125791\n",
      "5      96442\n",
      "6      48026\n",
      "7      20087\n",
      "8      10123\n",
      "9       4393\n",
      "10      5435\n",
      "Name: FAMI_CUARTOS_HOGAR, dtype: int64\n",
      "Elementos null/NaN 49054\n",
      "__________________\n",
      "Elementos diferentes de null/NaN: 469166\n",
      "__________________\n",
      "(469166,)\n",
      "None\n"
     ]
    }
   ],
   "source": [
    "c = 'FAMI_CUARTOS_HOGAR'\n",
    "print(data_2009_2[c].value_counts().sort_index().index)\n",
    "print(data_2009_2[c].value_counts().sort_index())\n",
    "print(missing_data(data_2009_2[c]))"
   ]
  },
  {
   "cell_type": "code",
   "execution_count": 155,
   "metadata": {
    "collapsed": false
   },
   "outputs": [
    {
     "name": "stdout",
     "output_type": "stream",
     "text": [
      "Float64Index([1.0, 2.0, 3.0, 4.0, 5.0], dtype='float64')\n",
      "1     23349\n",
      "2    229190\n",
      "3     25991\n",
      "4    237734\n",
      "5      1129\n",
      "Name: FAMI_PISOSHOGAR, dtype: int64\n",
      "Elementos null/NaN 827\n",
      "__________________\n",
      "Elementos diferentes de null/NaN: 517393\n",
      "__________________\n",
      "(517393,)\n",
      "None\n"
     ]
    }
   ],
   "source": [
    "c = 'FAMI_PISOSHOGAR'\n",
    "print(data_2009_2[c].value_counts().sort_index().index)\n",
    "print(data_2009_2[c].value_counts().sort_index())\n",
    "print(missing_data(data_2009_2[c]))"
   ]
  },
  {
   "cell_type": "code",
   "execution_count": 156,
   "metadata": {
    "collapsed": false
   },
   "outputs": [
    {
     "name": "stdout",
     "output_type": "stream",
     "text": [
      "Float64Index([0.0, 1.0], dtype='float64')\n",
      "0    236639\n",
      "1    280755\n",
      "Name: FAMI_TELEFONO_FIJO, dtype: int64\n",
      "Elementos null/NaN 826\n",
      "__________________\n",
      "Elementos diferentes de null/NaN: 517394\n",
      "__________________\n",
      "(517394,)\n",
      "None\n"
     ]
    }
   ],
   "source": [
    "c = 'FAMI_TELEFONO_FIJO'\n",
    "print(data_2009_2[c].value_counts().sort_index().index)\n",
    "print(data_2009_2[c].value_counts().sort_index())\n",
    "print(missing_data(data_2009_2[c]))"
   ]
  },
  {
   "cell_type": "code",
   "execution_count": 157,
   "metadata": {
    "collapsed": false
   },
   "outputs": [
    {
     "name": "stdout",
     "output_type": "stream",
     "text": [
      "Float64Index([0.0, 1.0], dtype='float64')\n",
      "0     73106\n",
      "1    444102\n",
      "Name: FAMI_CELULAR, dtype: int64\n",
      "Elementos null/NaN 1012\n",
      "__________________\n",
      "Elementos diferentes de null/NaN: 517208\n",
      "__________________\n",
      "(517208,)\n",
      "None\n"
     ]
    }
   ],
   "source": [
    "c = 'FAMI_CELULAR'\n",
    "print(data_2009_2[c].value_counts().sort_index().index)\n",
    "print(data_2009_2[c].value_counts().sort_index())\n",
    "print(missing_data(data_2009_2[c]))"
   ]
  },
  {
   "cell_type": "code",
   "execution_count": 158,
   "metadata": {
    "collapsed": false
   },
   "outputs": [
    {
     "name": "stdout",
     "output_type": "stream",
     "text": [
      "Float64Index([0.0, 1.0], dtype='float64')\n",
      "0    365373\n",
      "1    152023\n",
      "Name: FAMI_INTERNET, dtype: int64\n",
      "Elementos null/NaN 824\n",
      "__________________\n",
      "Elementos diferentes de null/NaN: 517396\n",
      "__________________\n",
      "(517396,)\n",
      "None\n"
     ]
    }
   ],
   "source": [
    "c = 'FAMI_INTERNET'\n",
    "print(data_2009_2[c].value_counts().sort_index().index)\n",
    "print(data_2009_2[c].value_counts().sort_index())\n",
    "print(missing_data(data_2009_2[c]))"
   ]
  },
  {
   "cell_type": "code",
   "execution_count": 159,
   "metadata": {
    "collapsed": false
   },
   "outputs": [
    {
     "name": "stdout",
     "output_type": "stream",
     "text": [
      "Float64Index([0.0, 1.0], dtype='float64')\n",
      "0    217621\n",
      "1    299775\n",
      "Name: FAMI_SERVICIO_TELEVISION, dtype: int64\n",
      "Elementos null/NaN 824\n",
      "__________________\n",
      "Elementos diferentes de null/NaN: 517396\n",
      "__________________\n",
      "(517396,)\n",
      "None\n"
     ]
    }
   ],
   "source": [
    "c = 'FAMI_SERVICIO_TELEVISION'\n",
    "print(data_2009_2[c].value_counts().sort_index().index)\n",
    "print(data_2009_2[c].value_counts().sort_index())\n",
    "print(missing_data(data_2009_2[c]))"
   ]
  },
  {
   "cell_type": "code",
   "execution_count": 160,
   "metadata": {
    "collapsed": false
   },
   "outputs": [
    {
     "name": "stdout",
     "output_type": "stream",
     "text": [
      "Float64Index([0.0, 1.0, 3.0], dtype='float64')\n",
      "0    291429\n",
      "1       772\n",
      "3    225195\n",
      "Name: FAMI_COMPUTADOR, dtype: int64\n",
      "Elementos null/NaN 824\n",
      "__________________\n",
      "Elementos diferentes de null/NaN: 517396\n",
      "__________________\n",
      "(517396,)\n",
      "None\n"
     ]
    }
   ],
   "source": [
    "c = 'FAMI_COMPUTADOR'\n",
    "print(data_2009_2[c].value_counts().sort_index().index)\n",
    "print(data_2009_2[c].value_counts().sort_index())\n",
    "print(missing_data(data_2009_2[c]))"
   ]
  },
  {
   "cell_type": "code",
   "execution_count": 161,
   "metadata": {
    "collapsed": false
   },
   "outputs": [
    {
     "name": "stdout",
     "output_type": "stream",
     "text": [
      "Float64Index([0.0, 1.0], dtype='float64')\n",
      "0    224540\n",
      "1    292854\n",
      "Name: FAMI_LAVADORA, dtype: int64\n",
      "Elementos null/NaN 826\n",
      "__________________\n",
      "Elementos diferentes de null/NaN: 517394\n",
      "__________________\n",
      "(517394,)\n",
      "None\n"
     ]
    }
   ],
   "source": [
    "c = 'FAMI_LAVADORA'\n",
    "print(data_2009_2[c].value_counts().sort_index().index)\n",
    "print(data_2009_2[c].value_counts().sort_index())\n",
    "print(missing_data(data_2009_2[c]))"
   ]
  },
  {
   "cell_type": "code",
   "execution_count": 162,
   "metadata": {
    "collapsed": false
   },
   "outputs": [
    {
     "name": "stdout",
     "output_type": "stream",
     "text": [
      "Float64Index([0.0, 1.0], dtype='float64')\n",
      "0     66841\n",
      "1    450655\n",
      "Name: FAMI_NEVERA, dtype: int64\n",
      "Elementos null/NaN 724\n",
      "__________________\n",
      "Elementos diferentes de null/NaN: 517496\n",
      "__________________\n",
      "(517496,)\n",
      "None\n"
     ]
    }
   ],
   "source": [
    "c = 'FAMI_NEVERA'\n",
    "print(data_2009_2[c].value_counts().sort_index().index)\n",
    "print(data_2009_2[c].value_counts().sort_index())\n",
    "print(missing_data(data_2009_2[c]))"
   ]
  },
  {
   "cell_type": "code",
   "execution_count": 163,
   "metadata": {
    "collapsed": false
   },
   "outputs": [
    {
     "name": "stdout",
     "output_type": "stream",
     "text": [
      "Float64Index([0.0, 1.0], dtype='float64')\n",
      "0    298255\n",
      "1    219139\n",
      "Name: FAMI_HORNO, dtype: int64\n",
      "Elementos null/NaN 826\n",
      "__________________\n",
      "Elementos diferentes de null/NaN: 517394\n",
      "__________________\n",
      "(517394,)\n",
      "None\n"
     ]
    }
   ],
   "source": [
    "c = 'FAMI_HORNO'\n",
    "print(data_2009_2[c].value_counts().sort_index().index)\n",
    "print(data_2009_2[c].value_counts().sort_index())\n",
    "print(missing_data(data_2009_2[c]))"
   ]
  },
  {
   "cell_type": "code",
   "execution_count": 164,
   "metadata": {
    "collapsed": false
   },
   "outputs": [
    {
     "name": "stdout",
     "output_type": "stream",
     "text": [
      "Float64Index([0.0, 1.0], dtype='float64')\n",
      "0    193474\n",
      "1    323922\n",
      "Name: FAMI_DVD, dtype: int64\n",
      "Elementos null/NaN 824\n",
      "__________________\n",
      "Elementos diferentes de null/NaN: 517396\n",
      "__________________\n",
      "(517396,)\n",
      "None\n"
     ]
    }
   ],
   "source": [
    "c = 'FAMI_DVD'\n",
    "print(data_2009_2[c].value_counts().sort_index().index)\n",
    "print(data_2009_2[c].value_counts().sort_index())\n",
    "print(missing_data(data_2009_2[c]))"
   ]
  },
  {
   "cell_type": "code",
   "execution_count": 165,
   "metadata": {
    "collapsed": false
   },
   "outputs": [
    {
     "name": "stdout",
     "output_type": "stream",
     "text": [
      "Float64Index([0.0, 1.0], dtype='float64')\n",
      "0    390857\n",
      "1    126537\n",
      "Name: FAMI_MICROONDAS, dtype: int64\n",
      "Elementos null/NaN 826\n",
      "__________________\n",
      "Elementos diferentes de null/NaN: 517394\n",
      "__________________\n",
      "(517394,)\n",
      "None\n"
     ]
    }
   ],
   "source": [
    "c = 'FAMI_MICROONDAS'\n",
    "print(data_2009_2[c].value_counts().sort_index().index)\n",
    "print(data_2009_2[c].value_counts().sort_index())\n",
    "print(missing_data(data_2009_2[c]))"
   ]
  },
  {
   "cell_type": "code",
   "execution_count": 166,
   "metadata": {
    "collapsed": false
   },
   "outputs": [
    {
     "name": "stdout",
     "output_type": "stream",
     "text": [
      "Float64Index([0.0, 1.0], dtype='float64')\n",
      "0    423148\n",
      "1     94248\n",
      "Name: FAMI_AUTOMOVIL, dtype: int64\n",
      "Elementos null/NaN 824\n",
      "__________________\n",
      "Elementos diferentes de null/NaN: 517396\n",
      "__________________\n",
      "(517396,)\n",
      "None\n"
     ]
    }
   ],
   "source": [
    "c = 'FAMI_AUTOMOVIL'\n",
    "print(data_2009_2[c].value_counts().sort_index().index)\n",
    "print(data_2009_2[c].value_counts().sort_index())\n",
    "print(missing_data(data_2009_2[c]))"
   ]
  },
  {
   "cell_type": "code",
   "execution_count": 167,
   "metadata": {
    "collapsed": false
   },
   "outputs": [
    {
     "name": "stdout",
     "output_type": "stream",
     "text": [
      "Float64Index([1.0, 2.0, 3.0, 4.0, 5.0, 6.0, 7.0], dtype='float64')\n",
      "1    149752\n",
      "2    223377\n",
      "3     81115\n",
      "4     38819\n",
      "5     12323\n",
      "6      5919\n",
      "7      6088\n",
      "Name: FAMI_INGRESO_FMILIAR_MENSUAL, dtype: int64\n",
      "Elementos null/NaN 827\n",
      "__________________\n",
      "Elementos diferentes de null/NaN: 517393\n",
      "__________________\n",
      "(517393,)\n",
      "None\n"
     ]
    }
   ],
   "source": [
    "c = 'FAMI_INGRESO_FMILIAR_MENSUAL'\n",
    "print(data_2009_2[c].value_counts().sort_index().index)\n",
    "print(data_2009_2[c].value_counts().sort_index())\n",
    "print(missing_data(data_2009_2[c]))"
   ]
  },
  {
   "cell_type": "code",
   "execution_count": 168,
   "metadata": {
    "collapsed": false
   },
   "outputs": [
    {
     "name": "stdout",
     "output_type": "stream",
     "text": [
      "Float64Index([0.0, 1.0, 2.0, 3.0, 4.0, 5.0, 6.0, 7.0], dtype='float64')\n",
      "0    419924\n",
      "1       444\n",
      "2       160\n",
      "3      5532\n",
      "4      1747\n",
      "5      2451\n",
      "6     28581\n",
      "7     20978\n",
      "Name: ESTU_TRABAJA, dtype: int64\n",
      "Elementos null/NaN 38403\n",
      "__________________\n",
      "Elementos diferentes de null/NaN: 479817\n",
      "__________________\n",
      "(479817,)\n",
      "None\n"
     ]
    }
   ],
   "source": [
    "c = 'ESTU_TRABAJA'\n",
    "print(data_2009_2[c].value_counts().sort_index().index)\n",
    "print(data_2009_2[c].value_counts().sort_index())\n",
    "print(missing_data(data_2009_2[c]))"
   ]
  },
  {
   "cell_type": "code",
   "execution_count": 169,
   "metadata": {
    "collapsed": false,
    "scrolled": true
   },
   "outputs": [
    {
     "name": "stdout",
     "output_type": "stream",
     "text": [
      "Float64Index([ 0.0,  1.0,  2.0,  3.0,  4.0,  5.0,  6.0,  7.0,  8.0,  9.0, 10.0,\n",
      "              11.0, 12.0, 13.0, 14.0, 15.0, 16.0, 17.0, 18.0, 19.0, 20.0],\n",
      "             dtype='float64')\n",
      "0       18\n",
      "1       13\n",
      "2       36\n",
      "3       55\n",
      "4      170\n",
      "5      137\n",
      "6      185\n",
      "7       68\n",
      "8      844\n",
      "9      164\n",
      "10     342\n",
      "11      26\n",
      "12     194\n",
      "13      23\n",
      "14      53\n",
      "15     139\n",
      "16     182\n",
      "17      21\n",
      "18     157\n",
      "19      53\n",
      "20    6910\n",
      "Name: ESTU_HORAS_TRABAJA, dtype: int64\n",
      "Elementos null/NaN 508430\n",
      "__________________\n",
      "Elementos diferentes de null/NaN: 9790\n",
      "__________________\n",
      "(9790,)\n",
      "None\n"
     ]
    }
   ],
   "source": [
    "c = 'ESTU_HORAS_TRABAJA'\n",
    "print(data_2009_2[c].value_counts().sort_index().index)\n",
    "print(data_2009_2[c].value_counts().sort_index())\n",
    "print(missing_data(data_2009_2[c]))"
   ]
  },
  {
   "cell_type": "code",
   "execution_count": 170,
   "metadata": {
    "collapsed": false
   },
   "outputs": [
    {
     "name": "stdout",
     "output_type": "stream",
     "text": [
      "Float64Index([0.0, 1.0, 2.0, 3.0, 4.0, 5.0, 6.0, 7.0, 8.0, 9.0, 10.0, 11.0,\n",
      "              12.0],\n",
      "             dtype='float64')\n",
      "0     321960\n",
      "1        412\n",
      "2        126\n",
      "3         95\n",
      "4         85\n",
      "5         63\n",
      "6         40\n",
      "7         30\n",
      "8      80856\n",
      "9      19436\n",
      "10     13540\n",
      "11     18858\n",
      "12     17659\n",
      "Name: COLE_VALOR_PENSION, dtype: int64\n",
      "Elementos null/NaN 45060\n",
      "__________________\n",
      "Elementos diferentes de null/NaN: 473160\n",
      "__________________\n",
      "(473160,)\n",
      "None\n"
     ]
    }
   ],
   "source": [
    "c = 'COLE_VALOR_PENSION'\n",
    "print(data_2009_2[c].value_counts().sort_index().index)\n",
    "print(data_2009_2[c].value_counts().sort_index())\n",
    "print(missing_data(data_2009_2[c]))"
   ]
  },
  {
   "cell_type": "code",
   "execution_count": 171,
   "metadata": {
    "collapsed": false,
    "scrolled": true
   },
   "outputs": [
    {
     "name": "stdout",
     "output_type": "stream",
     "text": [
      "Float64Index([1980.0, 1981.0, 1982.0, 1983.0, 1984.0, 1985.0, 1986.0, 1987.0,\n",
      "              1988.0, 1989.0, 1990.0, 1991.0, 1992.0, 1993.0, 1994.0, 1995.0,\n",
      "              1996.0, 1997.0, 1998.0, 1999.0, 2000.0, 2001.0, 2002.0, 2003.0,\n",
      "              2004.0, 2005.0, 2006.0, 2007.0, 2008.0, 2009.0, 2010.0, 2011.0,\n",
      "              2012.0, 2013.0, 2014.0, 2015.0, 9999.0],\n",
      "             dtype='float64')\n",
      "1980        15\n",
      "1981         6\n",
      "1982         5\n",
      "1983         8\n",
      "1984         2\n",
      "1985         4\n",
      "1986         8\n",
      "1987         4\n",
      "1988        11\n",
      "1989        10\n",
      "1990       129\n",
      "1991       158\n",
      "1992       184\n",
      "1993       185\n",
      "1994       245\n",
      "1995       287\n",
      "1996       378\n",
      "1997       473\n",
      "1998       569\n",
      "1999       673\n",
      "2000       786\n",
      "2001       814\n",
      "2002      1089\n",
      "2003      1286\n",
      "2004      1577\n",
      "2005      1941\n",
      "2006      2742\n",
      "2007      4707\n",
      "2008     11153\n",
      "2009    475462\n",
      "2010     11648\n",
      "2011       547\n",
      "2012        25\n",
      "2013        12\n",
      "2014         4\n",
      "2015         3\n",
      "9999       730\n",
      "Name: IND_ANNO_TERMINO_BACHILLERATO, dtype: int64\n",
      "Elementos null/NaN 340\n",
      "__________________\n",
      "Elementos diferentes de null/NaN: 517880\n",
      "__________________\n",
      "(517880,)\n",
      "None\n"
     ]
    }
   ],
   "source": [
    "c = 'IND_ANNO_TERMINO_BACHILLERATO'\n",
    "print(data_2009_2[c].value_counts().sort_index().index)\n",
    "print(data_2009_2[c].value_counts().sort_index())\n",
    "print(missing_data(data_2009_2[c]))"
   ]
  },
  {
   "cell_type": "code",
   "execution_count": 172,
   "metadata": {
    "collapsed": false
   },
   "outputs": [
    {
     "name": "stdout",
     "output_type": "stream",
     "text": [
      "Float64Index([1.0, 2.0, 3.0, 4.0, 5.0, 6.0, 7.0, 8.0, 9.0, 10.0, 11.0, 12.0], dtype='float64')\n",
      "1        233\n",
      "2        360\n",
      "3        475\n",
      "4        668\n",
      "5        413\n",
      "6       7825\n",
      "7       8265\n",
      "8       2286\n",
      "9       4047\n",
      "10      2744\n",
      "11    226337\n",
      "12    253753\n",
      "Name: IND_MES_TERMINO_BACHILLERATO, dtype: int64\n",
      "Elementos null/NaN 10814\n",
      "__________________\n",
      "Elementos diferentes de null/NaN: 507406\n",
      "__________________\n",
      "(507406,)\n",
      "None\n"
     ]
    }
   ],
   "source": [
    "c = 'IND_MES_TERMINO_BACHILLERATO'\n",
    "print(data_2009_2[c].value_counts().sort_index().index)\n",
    "print(data_2009_2[c].value_counts().sort_index())\n",
    "print(missing_data(data_2009_2[c]))"
   ]
  },
  {
   "cell_type": "code",
   "execution_count": 173,
   "metadata": {
    "collapsed": false
   },
   "outputs": [
    {
     "name": "stdout",
     "output_type": "stream",
     "text": [
      "Float64Index([0.0, 1.0], dtype='float64')\n",
      "0      368\n",
      "1    22418\n",
      "Name: IND_TERMINO_BACHILLERATO, dtype: int64\n",
      "Elementos null/NaN 495434\n",
      "__________________\n",
      "Elementos diferentes de null/NaN: 22786\n",
      "__________________\n",
      "(22786,)\n",
      "None\n"
     ]
    }
   ],
   "source": [
    "c = 'IND_TERMINO_BACHILLERATO'\n",
    "print(data_2009_2[c].value_counts().sort_index().index)\n",
    "print(data_2009_2[c].value_counts().sort_index())\n",
    "print(missing_data(data_2009_2[c]))"
   ]
  },
  {
   "cell_type": "code",
   "execution_count": 174,
   "metadata": {
    "collapsed": false,
    "scrolled": true
   },
   "outputs": [
    {
     "name": "stdout",
     "output_type": "stream",
     "text": [
      "Float64Index([     0.0,      2.0,      3.0,     18.0,     28.0,     34.0,\n",
      "                  42.0,     55.0,     58.0,     59.0,\n",
      "              ...\n",
      "              526848.0, 555193.0, 596874.0, 601138.0, 620369.0, 622977.0,\n",
      "              631754.0, 633743.0, 638833.0, 999999.0],\n",
      "             dtype='float64', length=12977)\n",
      "0           27\n",
      "2          317\n",
      "3         1861\n",
      "18          18\n",
      "28           1\n",
      "34           1\n",
      "42           2\n",
      "55           1\n",
      "58           1\n",
      "59        1052\n",
      "67          23\n",
      "75          57\n",
      "83          33\n",
      "90           1\n",
      "91         117\n",
      "123          1\n",
      "125         59\n",
      "141        100\n",
      "174         86\n",
      "182          1\n",
      "190         79\n",
      "208         98\n",
      "216         27\n",
      "226          1\n",
      "232         37\n",
      "240        222\n",
      "252          1\n",
      "257        152\n",
      "265        110\n",
      "273         71\n",
      "          ... \n",
      "255380       1\n",
      "258541       1\n",
      "260455       1\n",
      "260836       1\n",
      "261222       1\n",
      "274704       1\n",
      "275156       1\n",
      "279992       1\n",
      "280495       1\n",
      "292847       1\n",
      "300640       1\n",
      "319533       1\n",
      "358911       1\n",
      "390856       1\n",
      "404921       1\n",
      "406116       1\n",
      "456103       1\n",
      "483214       1\n",
      "496364       1\n",
      "515205       1\n",
      "526848       1\n",
      "555193       1\n",
      "596874       1\n",
      "601138       1\n",
      "620369       1\n",
      "622977       1\n",
      "631754       1\n",
      "633743       1\n",
      "638833       1\n",
      "999999    3177\n",
      "Name: IND_COD_ICFES_TERMINO, dtype: int64\n",
      "Elementos null/NaN 6725\n",
      "__________________\n",
      "Elementos diferentes de null/NaN: 511495\n",
      "__________________\n",
      "(511495,)\n",
      "None\n"
     ]
    }
   ],
   "source": [
    "c = 'IND_COD_ICFES_TERMINO'\n",
    "print(data_2009_2[c].value_counts().sort_index().index)\n",
    "print(data_2009_2[c].value_counts().sort_index())\n",
    "print(missing_data(data_2009_2[c]))"
   ]
  },
  {
   "cell_type": "code",
   "execution_count": 175,
   "metadata": {
    "collapsed": false,
    "scrolled": true
   },
   "outputs": [
    {
     "name": "stdout",
     "output_type": "stream",
     "text": [
      "Float64Index([     2.0,     18.0,     34.0,     42.0,     59.0,     67.0,\n",
      "                  75.0,     83.0,     91.0,    125.0,\n",
      "              ...\n",
      "              149179.0, 149187.0, 149195.0, 149278.0, 149286.0, 149302.0,\n",
      "              149328.0, 149336.0, 149369.0, 999999.0],\n",
      "             dtype='float64', length=12000)\n",
      "2          401\n",
      "18          18\n",
      "34           1\n",
      "42           2\n",
      "59        1073\n",
      "67          15\n",
      "75          57\n",
      "83          33\n",
      "91         117\n",
      "125         59\n",
      "141         99\n",
      "174         86\n",
      "182          1\n",
      "190         79\n",
      "208         98\n",
      "216         27\n",
      "232         37\n",
      "240        233\n",
      "257        163\n",
      "265        119\n",
      "273         71\n",
      "281         72\n",
      "315        154\n",
      "349         30\n",
      "356         32\n",
      "364         55\n",
      "372        109\n",
      "380        124\n",
      "398         23\n",
      "406         39\n",
      "          ... \n",
      "148940       6\n",
      "148957      30\n",
      "148965      11\n",
      "148973      13\n",
      "148981      17\n",
      "148999      33\n",
      "149005      21\n",
      "149013       6\n",
      "149021       4\n",
      "149039      33\n",
      "149047      34\n",
      "149070       4\n",
      "149088      10\n",
      "149096       7\n",
      "149104      10\n",
      "149112       2\n",
      "149120      13\n",
      "149138       1\n",
      "149146       3\n",
      "149153       2\n",
      "149179       7\n",
      "149187      24\n",
      "149195       3\n",
      "149278       7\n",
      "149286      28\n",
      "149302      13\n",
      "149328       1\n",
      "149336      37\n",
      "149369      37\n",
      "999999    3438\n",
      "Name: COLE_COD_ICFES, dtype: int64\n",
      "Elementos null/NaN 3\n",
      "__________________\n",
      "Elementos diferentes de null/NaN: 518217\n",
      "__________________\n",
      "(518217,)\n",
      "None\n"
     ]
    }
   ],
   "source": [
    "c = 'COLE_COD_ICFES'\n",
    "print(data_2009_2[c].value_counts().sort_index().index)\n",
    "print(data_2009_2[c].value_counts().sort_index())\n",
    "print(missing_data(data_2009_2[c]))"
   ]
  },
  {
   "cell_type": "code",
   "execution_count": 176,
   "metadata": {
    "collapsed": true
   },
   "outputs": [],
   "source": [
    "for i in data_2009_2[c].value_counts().sort_index().index:\n",
    "    if len(str(i))<4:\n",
    "        data_2009_2[c] = data_2009_2[c].replace(i, np.nan)"
   ]
  },
  {
   "cell_type": "code",
   "execution_count": 177,
   "metadata": {
    "collapsed": false,
    "scrolled": true
   },
   "outputs": [
    {
     "name": "stdout",
     "output_type": "stream",
     "text": [
      "Index([105001000108.0, 168001003591.0, 325754005072.0, 105001013340.0,\n",
      "       311001105391.0, 354001000027.0, 111001019411.0, 111001024732.0,\n",
      "       105154000301.0, 305001003963.0,\n",
      "       ...\n",
      "       '217442000122', 305001025461.0, 376001023918.0, '223672000148',\n",
      "       '311001039992', 311001004048.0, '250287000401', '311001104956',\n",
      "       376275001529.0, '311001108196'],\n",
      "      dtype='object', length=16990)\n",
      "105001000108.0    827\n",
      "168001003591.0    706\n",
      "325754005072.0    702\n",
      "105001013340.0    695\n",
      "311001105391.0    622\n",
      "354001000027.0    608\n",
      "111001019411.0    599\n",
      "111001024732.0    593\n",
      "105154000301.0    585\n",
      "305001003963.0    525\n",
      "111102000753.0    508\n",
      "313001029264.0    506\n",
      "141001003341.0    502\n",
      "111001011819.0    498\n",
      "313001006701.0    488\n",
      "305001004293.0    466\n",
      "166001002339.0    461\n",
      "111001083011.0    458\n",
      "113001003274.0    450\n",
      "108758000015.0    443\n",
      "111001010910.0    432\n",
      "163001002941.0    430\n",
      "311001004820.0    425\n",
      "117001001536.0    420\n",
      "173001000308.0    417\n",
      "173001001053.0    411\n",
      "141001000066.0    408\n",
      "305001022178.0    403\n",
      "305001011761.0    400\n",
      "111001006122.0    397\n",
      "                 ... \n",
      "311001019720        1\n",
      "441396001809        1\n",
      "176130000356        1\n",
      "205034000299        1\n",
      "252215000469        1\n",
      "268575000706        1\n",
      "217433000578        1\n",
      "252001004904        1\n",
      "276100000542        1\n",
      "476892099710.0      1\n",
      "219473000107        1\n",
      "276400000609.0      1\n",
      "317001001896        1\n",
      "176001037600        1\n",
      "308001001587        1\n",
      "223001000518        1\n",
      "325799000284        1\n",
      "376001038320        1\n",
      "176001008642        1\n",
      "347001051105        1\n",
      "217442000122        1\n",
      "305001025461.0      1\n",
      "376001023918.0      1\n",
      "223672000148        1\n",
      "311001039992        1\n",
      "311001004048.0      1\n",
      "250287000401        1\n",
      "311001104956        1\n",
      "376275001529.0      1\n",
      "311001108196        1\n",
      "Name: COLE_COD_DANE_INSTITUCION, dtype: int64\n",
      "Elementos null/NaN 11763\n",
      "__________________\n",
      "Elementos diferentes de null/NaN: 506457\n",
      "__________________\n",
      "(506457,)\n",
      "None\n"
     ]
    }
   ],
   "source": [
    "c = 'COLE_COD_DANE_INSTITUCION'\n",
    "print(data_2009_2[c].value_counts().index)\n",
    "print(data_2009_2[c].value_counts())\n",
    "print(missing_data(data_2009_2[c]))"
   ]
  },
  {
   "cell_type": "code",
   "execution_count": 178,
   "metadata": {
    "collapsed": false
   },
   "outputs": [],
   "source": [
    "for i in data_2009_2[c].value_counts().index:\n",
    "    if ' ' in str(i):\n",
    "        data_2009_2[c] = data_2009_2[c].replace(i, np.nan)\n",
    "    elif type(i) == str:\n",
    "        data_2009_2[c] = data_2009_2[c].replace(i, float(i))"
   ]
  },
  {
   "cell_type": "code",
   "execution_count": 179,
   "metadata": {
    "collapsed": false
   },
   "outputs": [
    {
     "name": "stdout",
     "output_type": "stream",
     "text": [
      "Index(['A', 'B', 'F'], dtype='object')\n",
      "A    436058\n",
      "B      4512\n",
      "F     74209\n",
      "Name: COLE_CALENDARIO, dtype: int64\n",
      "Elementos null/NaN 3441\n",
      "__________________\n",
      "Elementos diferentes de null/NaN: 514779\n",
      "__________________\n",
      "(514779,)\n",
      "None\n"
     ]
    }
   ],
   "source": [
    "c = 'COLE_CALENDARIO'\n",
    "print(data_2009_2[c].value_counts().sort_index().index)\n",
    "print(data_2009_2[c].value_counts().sort_index())\n",
    "print(missing_data(data_2009_2[c]))"
   ]
  },
  {
   "cell_type": "code",
   "execution_count": 180,
   "metadata": {
    "collapsed": false
   },
   "outputs": [
    {
     "name": "stdout",
     "output_type": "stream",
     "text": [
      "Index(['F', 'M', 'X'], dtype='object')\n",
      "F     28486\n",
      "M      7303\n",
      "X    478589\n",
      "Name: COLE_GENERO, dtype: int64\n",
      "Elementos null/NaN 3842\n",
      "__________________\n",
      "Elementos diferentes de null/NaN: 514378\n",
      "__________________\n",
      "(514378,)\n",
      "None\n"
     ]
    }
   ],
   "source": [
    "c = 'COLE_GENERO'\n",
    "print(data_2009_2[c].value_counts().sort_index().index)\n",
    "print(data_2009_2[c].value_counts().sort_index())\n",
    "print(missing_data(data_2009_2[c]))"
   ]
  },
  {
   "cell_type": "code",
   "execution_count": 181,
   "metadata": {
    "collapsed": false
   },
   "outputs": [
    {
     "name": "stdout",
     "output_type": "stream",
     "text": [
      "Index(['N', 'O'], dtype='object')\n",
      "N    140074\n",
      "O    374304\n",
      "Name: COLE_NATURALEZA, dtype: int64\n",
      "Elementos null/NaN 3842\n",
      "__________________\n",
      "Elementos diferentes de null/NaN: 514378\n",
      "__________________\n",
      "(514378,)\n",
      "None\n"
     ]
    }
   ],
   "source": [
    "c = 'COLE_NATURALEZA'\n",
    "print(data_2009_2[c].value_counts().sort_index().index)\n",
    "print(data_2009_2[c].value_counts().sort_index())\n",
    "print(missing_data(data_2009_2[c]))"
   ]
  },
  {
   "cell_type": "code",
   "execution_count": 182,
   "metadata": {
    "collapsed": false
   },
   "outputs": [
    {
     "name": "stdout",
     "output_type": "stream",
     "text": [
      "Float64Index([0.0, 1.0], dtype='float64')\n",
      "0    450678\n",
      "1      5309\n",
      "Name: COLE_BILINGUE, dtype: int64\n",
      "Elementos null/NaN 62233\n",
      "__________________\n",
      "Elementos diferentes de null/NaN: 455987\n",
      "__________________\n",
      "(455987,)\n",
      "None\n"
     ]
    }
   ],
   "source": [
    "c = 'COLE_BILINGUE'\n",
    "print(data_2009_2[c].value_counts().sort_index().index)\n",
    "print(data_2009_2[c].value_counts().sort_index())\n",
    "print(missing_data(data_2009_2[c]))"
   ]
  },
  {
   "cell_type": "code",
   "execution_count": 183,
   "metadata": {
    "collapsed": false
   },
   "outputs": [
    {
     "name": "stdout",
     "output_type": "stream",
     "text": [
      "Index(['COMPLETA U ORDINARIA', 'MAÑANA', 'NOCHE', 'SABATINA - DOMINICAL',\n",
      "       'TARDE', 'UNICA'],\n",
      "      dtype='object')\n",
      "COMPLETA U ORDINARIA    108016\n",
      "MAÑANA                  254477\n",
      "NOCHE                    38855\n",
      "SABATINA - DOMINICAL     25652\n",
      "TARDE                    90725\n",
      "UNICA                       91\n",
      "Name: COLE_JORNADA, dtype: int64\n",
      "Elementos null/NaN 404\n",
      "__________________\n",
      "Elementos diferentes de null/NaN: 517816\n",
      "__________________\n",
      "(517816,)\n",
      "None\n"
     ]
    }
   ],
   "source": [
    "c = 'COLE_JORNADA'\n",
    "print(data_2009_2[c].value_counts().sort_index().index)\n",
    "print(data_2009_2[c].value_counts().sort_index())\n",
    "print(missing_data(data_2009_2[c]))"
   ]
  },
  {
   "cell_type": "code",
   "execution_count": 184,
   "metadata": {
    "collapsed": false
   },
   "outputs": [
    {
     "name": "stdout",
     "output_type": "stream",
     "text": [
      "Index(['ACADEMICO', 'ACADEMICO Y TECNICO', 'DESCONOCIDO', 'NORMALISTA',\n",
      "       'TECNICO'],\n",
      "      dtype='object')\n",
      "ACADEMICO              322418\n",
      "ACADEMICO Y TECNICO     92259\n",
      "DESCONOCIDO               312\n",
      "NORMALISTA              12382\n",
      "TECNICO                 87007\n",
      "Name: COLE_CARACTER, dtype: int64\n",
      "Elementos null/NaN 3842\n",
      "__________________\n",
      "Elementos diferentes de null/NaN: 514378\n",
      "__________________\n",
      "(514378,)\n",
      "None\n"
     ]
    }
   ],
   "source": [
    "c = 'COLE_CARACTER'\n",
    "print(data_2009_2[c].value_counts().sort_index().index)\n",
    "print(data_2009_2[c].value_counts().sort_index())\n",
    "print(missing_data(data_2009_2[c]))"
   ]
  },
  {
   "cell_type": "code",
   "execution_count": 185,
   "metadata": {
    "collapsed": false
   },
   "outputs": [
    {
     "name": "stdout",
     "output_type": "stream",
     "text": [
      "Float64Index([0.0, 1.0, 2.0, 3.0], dtype='float64')\n",
      "0     1550\n",
      "1     6116\n",
      "2     3701\n",
      "3    35847\n",
      "Name: ESTU_CARRDESEADA_TIPO, dtype: int64\n",
      "Elementos null/NaN 471006\n",
      "__________________\n",
      "Elementos diferentes de null/NaN: 47214\n",
      "__________________\n",
      "(47214,)\n",
      "None\n"
     ]
    }
   ],
   "source": [
    "c = 'ESTU_CARRDESEADA_TIPO'\n",
    "print(data_2009_2[c].value_counts().sort_index().index)\n",
    "print(data_2009_2[c].value_counts().sort_index())\n",
    "print(missing_data(data_2009_2[c]))"
   ]
  },
  {
   "cell_type": "code",
   "execution_count": 186,
   "metadata": {
    "collapsed": false,
    "scrolled": true
   },
   "outputs": [
    {
     "name": "stdout",
     "output_type": "stream",
     "text": [
      "Float64Index([  1101.0,   1102.0,   1103.0,   1104.0,   1105.0,   1106.0,\n",
      "                1107.0,   1108.0,   1109.0,   1110.0,\n",
      "              ...\n",
      "                9114.0,   9115.0,   9120.0,   9122.0,   9129.0,  19539.0,\n",
      "               36681.0,  49122.0, 115956.0, 122853.0],\n",
      "             dtype='float64', length=334)\n",
      "1101      5925\n",
      "1102       463\n",
      "1103       229\n",
      "1104        80\n",
      "1105       549\n",
      "1106       632\n",
      "1107        64\n",
      "1108       330\n",
      "1109        55\n",
      "1110       972\n",
      "1111       844\n",
      "1112       741\n",
      "1113      1138\n",
      "1114      1080\n",
      "1115       281\n",
      "1117       195\n",
      "1118       261\n",
      "1119       504\n",
      "1120       725\n",
      "1121        71\n",
      "1122        10\n",
      "1123        51\n",
      "1124        42\n",
      "1125        23\n",
      "1201      4155\n",
      "1202      1298\n",
      "1203      2500\n",
      "1204      1627\n",
      "1205      1550\n",
      "1206      1321\n",
      "          ... \n",
      "4826        49\n",
      "4827         9\n",
      "4829        18\n",
      "4832        12\n",
      "4835        26\n",
      "4836         1\n",
      "4837        17\n",
      "4838        16\n",
      "5801         7\n",
      "5802        41\n",
      "9101       114\n",
      "9102        29\n",
      "9103       129\n",
      "9104       272\n",
      "9105        82\n",
      "9107        55\n",
      "9110       797\n",
      "9111        37\n",
      "9112       359\n",
      "9113        52\n",
      "9114        75\n",
      "9115         8\n",
      "9120         2\n",
      "9122         1\n",
      "9129         1\n",
      "19539        1\n",
      "36681        1\n",
      "49122        1\n",
      "115956       1\n",
      "122853       1\n",
      "Name: ESTU_IES_COD_DESEADA, dtype: int64\n",
      "Elementos null/NaN 464124\n",
      "__________________\n",
      "Elementos diferentes de null/NaN: 54096\n",
      "__________________\n",
      "(54096,)\n",
      "None\n"
     ]
    }
   ],
   "source": [
    "c = 'ESTU_IES_COD_DESEADA'\n",
    "print(data_2009_2[c].value_counts().sort_index().index)\n",
    "print(data_2009_2[c].value_counts().sort_index())\n",
    "print(missing_data(data_2009_2[c]))"
   ]
  },
  {
   "cell_type": "code",
   "execution_count": 187,
   "metadata": {
    "collapsed": false,
    "scrolled": true
   },
   "outputs": [
    {
     "name": "stdout",
     "output_type": "stream",
     "text": [
      "Index(['AMAZONAS', 'ANTIOQUIA', 'ARAUCA', 'ATLÁNTICO', 'BOGOTÁ', 'BOLÍVAR',\n",
      "       'BOYACÁ', 'CALDAS', 'CAQUETÁ', 'CASANARE', 'CAUCA', 'CESAR', 'CHOCÓ',\n",
      "       'CUNDINAMARCA', 'CÓRDOBA', 'HUILA', 'LA GUAJIRA', 'MAGDALENA', 'META',\n",
      "       'NARIÑO', 'NORTE SANTANDER', 'PUTUMAYO', 'QUINDÍO', 'RISARALDA',\n",
      "       'SAN ANDRÉS', 'SANTANDER', 'SUCRE', 'TOLIMA', 'VALLE'],\n",
      "      dtype='object')\n",
      "AMAZONAS              23\n",
      "ANTIOQUIA           8329\n",
      "ARAUCA                42\n",
      "ATLÁNTICO           3226\n",
      "BOGOTÁ             16888\n",
      "BOLÍVAR             2234\n",
      "BOYACÁ              1241\n",
      "CALDAS              1200\n",
      "CAQUETÁ              281\n",
      "CASANARE              66\n",
      "CAUCA               1111\n",
      "CESAR                776\n",
      "CHOCÓ                261\n",
      "CUNDINAMARCA        1056\n",
      "CÓRDOBA             1310\n",
      "HUILA               1129\n",
      "LA GUAJIRA           342\n",
      "MAGDALENA           1130\n",
      "META                 587\n",
      "NARIÑO              1431\n",
      "NORTE SANTANDER     1405\n",
      "PUTUMAYO              51\n",
      "QUINDÍO              670\n",
      "RISARALDA           1022\n",
      "SAN ANDRÉS            16\n",
      "SANTANDER           3076\n",
      "SUCRE                692\n",
      "TOLIMA              1279\n",
      "VALLE               3222\n",
      "Name: ESTU_IES_DEPT_DESEADA, dtype: int64\n",
      "Elementos null/NaN 464124\n",
      "__________________\n",
      "Elementos diferentes de null/NaN: 54096\n",
      "__________________\n",
      "(54096,)\n",
      "None\n"
     ]
    }
   ],
   "source": [
    "c = 'ESTU_IES_DEPT_DESEADA'\n",
    "print(data_2009_2[c].value_counts().sort_index().index)\n",
    "print(data_2009_2[c].value_counts().sort_index())\n",
    "print(missing_data(data_2009_2[c]))"
   ]
  },
  {
   "cell_type": "code",
   "execution_count": 188,
   "metadata": {
    "collapsed": false,
    "scrolled": true
   },
   "outputs": [
    {
     "name": "stdout",
     "output_type": "stream",
     "text": [
      "Index(['AGUACHICA', 'ANDES', 'APARTADO', 'ARAUCA', 'ARMENIA',\n",
      "       'BARRANCABERMEJA', 'BARRANQUILLA', 'BELLO', 'BOGOTÁ D.C.',\n",
      "       'BUCARAMANGA', 'BUENAVENTURA', 'BUGA', 'CALDAS', 'CALI',\n",
      "       'CARMEN DE VIBORAL', 'CARTAGENA', 'CARTAGO', 'CAUCASIA', 'CERETE',\n",
      "       'CHIA', 'CHIQUINQUIRA', 'CIENAGA', 'COPACABANA', 'CUCUTA', 'DUITAMA',\n",
      "       'EL BAGRE', 'ENVIGADO', 'ESPINAL', 'FACATATIVA', 'FLORENCIA',\n",
      "       'FUSAGASUGA', 'GIRARDOT', 'HONDA', 'IBAGUE', 'LETICIA', 'MADRID',\n",
      "       'MALAGA', 'MANIZALES', 'MEDELLIN', 'MOCOA', 'MONTERIA', 'MOSQUERA',\n",
      "       'NEIVA', 'NILO', 'OCAÑA', 'PALMIRA', 'PAMPLONA', 'PASTO', 'PENSILVANIA',\n",
      "       'PEREIRA', 'POPAYAN', 'PUERTO BERRIO', 'PUERTO TEJADA', 'QUIBDO',\n",
      "       'RIOHACHA', 'RIONEGRO', 'ROLDANILLO', 'SABANETA', 'SAN ANDRES',\n",
      "       'SAN GIL', 'SAN JUAN DEL CESAR', 'SANTA MARTA', 'SANTA ROSA DE CABAL',\n",
      "       'SANTA ROSA DE OSOS', 'SANTAFÉ DE ANTIOQUIA', 'SEVILLA', 'SINCELEJO',\n",
      "       'SOCORRO', 'SOGAMOSO', 'SOLEDAD', 'TULUA', 'TUNJA', 'TURBO', 'UBATE',\n",
      "       'VALLEDUPAR', 'VILLAVICENCIO', 'YOPAL'],\n",
      "      dtype='object')\n",
      "AGUACHICA                  51\n",
      "ANDES                      17\n",
      "APARTADO                   13\n",
      "ARAUCA                     42\n",
      "ARMENIA                   670\n",
      "BARRANCABERMEJA           142\n",
      "BARRANQUILLA             3182\n",
      "BELLO                     542\n",
      "BOGOTÁ D.C.             16888\n",
      "BUCARAMANGA              2696\n",
      "BUENAVENTURA               10\n",
      "BUGA                       10\n",
      "CALDAS                     24\n",
      "CALI                     3045\n",
      "CARMEN DE VIBORAL          26\n",
      "CARTAGENA                2234\n",
      "CARTAGO                     9\n",
      "CAUCASIA                   65\n",
      "CERETE                      9\n",
      "CHIA                      298\n",
      "CHIQUINQUIRA               55\n",
      "CIENAGA                    39\n",
      "COPACABANA                  2\n",
      "CUCUTA                    922\n",
      "DUITAMA                    64\n",
      "EL BAGRE                    1\n",
      "ENVIGADO                   30\n",
      "ESPINAL                    85\n",
      "FACATATIVA                 15\n",
      "FLORENCIA                 281\n",
      "                        ...  \n",
      "PASTO                    1431\n",
      "PENSILVANIA                12\n",
      "PEREIRA                   999\n",
      "POPAYAN                  1107\n",
      "PUERTO BERRIO               5\n",
      "PUERTO TEJADA               4\n",
      "QUIBDO                    261\n",
      "RIOHACHA                  324\n",
      "RIONEGRO                  105\n",
      "ROLDANILLO                  3\n",
      "SABANETA                    4\n",
      "SAN ANDRES                 16\n",
      "SAN GIL                   174\n",
      "SAN JUAN DEL CESAR         18\n",
      "SANTA MARTA              1091\n",
      "SANTA ROSA DE CABAL        23\n",
      "SANTA ROSA DE OSOS          5\n",
      "SANTAFÉ DE ANTIOQUIA        4\n",
      "SEVILLA                     2\n",
      "SINCELEJO                 692\n",
      "SOCORRO                    58\n",
      "SOGAMOSO                  330\n",
      "SOLEDAD                    44\n",
      "TULUA                      55\n",
      "TUNJA                     792\n",
      "TURBO                      17\n",
      "UBATE                      38\n",
      "VALLEDUPAR                725\n",
      "VILLAVICENCIO             587\n",
      "YOPAL                      66\n",
      "Name: ESTU_IES_MPIO_DESEADA, dtype: int64\n",
      "Elementos null/NaN 464124\n",
      "__________________\n",
      "Elementos diferentes de null/NaN: 54096\n",
      "__________________\n",
      "(54096,)\n",
      "None\n"
     ]
    }
   ],
   "source": [
    "c = 'ESTU_IES_MPIO_DESEADA'\n",
    "print(data_2009_2[c].value_counts().sort_index().index)\n",
    "print(data_2009_2[c].value_counts().sort_index())\n",
    "print(missing_data(data_2009_2[c]))"
   ]
  },
  {
   "cell_type": "code",
   "execution_count": 189,
   "metadata": {
    "collapsed": false,
    "scrolled": true
   },
   "outputs": [
    {
     "name": "stdout",
     "output_type": "stream",
     "text": [
      "Float64Index([ 0.0,  1.0,  2.0,  3.0,  4.0,  5.0,  6.0,  7.0,  8.0,  9.0, 10.0,\n",
      "              11.0, 12.0, 13.0, 14.0, 15.0, 16.0, 17.0, 18.0, 19.0, 20.0, 21.0,\n",
      "              22.0, 23.0, 24.0, 25.0, 26.0, 27.0, 28.0, 29.0, 30.0, 31.0, 32.0,\n",
      "              33.0, 34.0, 35.0, 36.0, 37.0, 38.0, 39.0, 40.0, 41.0, 42.0, 43.0,\n",
      "              44.0, 45.0, 46.0, 47.0, 48.0, 49.0, 50.0, 51.0, 52.0, 53.0, 54.0,\n",
      "              55.0, 56.0, 57.0, 58.0, 59.0, 60.0, 61.0, 62.0, 63.0, 64.0, 65.0,\n",
      "              67.0, 68.0, 69.0, 70.0, 72.0, 73.0, 74.0, 75.0, 76.0, 77.0, 78.0,\n",
      "              80.0, 81.0, 82.0, 86.0, 87.0, 90.0, 92.0, 93.0, 95.0, 96.0, 97.0,\n",
      "              98.0, 99.0],\n",
      "             dtype='float64')\n",
      "0        6\n",
      "1       11\n",
      "2       28\n",
      "3       43\n",
      "4       57\n",
      "5       73\n",
      "6      102\n",
      "7      100\n",
      "8      150\n",
      "9      125\n",
      "10     253\n",
      "11     173\n",
      "12     348\n",
      "13     279\n",
      "14     323\n",
      "15     536\n",
      "16     349\n",
      "17     410\n",
      "18     434\n",
      "19     412\n",
      "20     730\n",
      "21     518\n",
      "22     862\n",
      "23     986\n",
      "24     938\n",
      "25    1504\n",
      "26    1244\n",
      "27    1188\n",
      "28    1632\n",
      "29    1389\n",
      "      ... \n",
      "60      40\n",
      "61       3\n",
      "62      13\n",
      "63      35\n",
      "64      19\n",
      "65      24\n",
      "67       4\n",
      "68       3\n",
      "69      19\n",
      "70      18\n",
      "72       9\n",
      "73       5\n",
      "74       1\n",
      "75       5\n",
      "76       4\n",
      "77       3\n",
      "78      24\n",
      "80       6\n",
      "81       2\n",
      "82       2\n",
      "86       2\n",
      "87      15\n",
      "90      11\n",
      "92       6\n",
      "93       1\n",
      "95       2\n",
      "96       6\n",
      "97      11\n",
      "98       5\n",
      "99       1\n",
      "Name: ESTU_TOTAL_ALUMNOS_CURSO, dtype: int64\n",
      "Elementos null/NaN 469903\n",
      "__________________\n",
      "Elementos diferentes de null/NaN: 48317\n",
      "__________________\n",
      "(48317,)\n",
      "None\n"
     ]
    }
   ],
   "source": [
    "c = 'ESTU_TOTAL_ALUMNOS_CURSO'\n",
    "print(data_2009_2[c].value_counts().sort_index().index)\n",
    "print(data_2009_2[c].value_counts().sort_index())\n",
    "print(missing_data(data_2009_2[c]))"
   ]
  },
  {
   "cell_type": "code",
   "execution_count": 190,
   "metadata": {
    "collapsed": false,
    "scrolled": true
   },
   "outputs": [
    {
     "name": "stdout",
     "output_type": "stream",
     "text": [
      "Float64Index([1985.0, 1986.0, 1987.0, 1988.0, 1989.0, 1990.0, 1991.0, 1992.0,\n",
      "              1993.0, 1994.0, 1995.0, 1996.0, 1997.0, 1998.0, 1999.0],\n",
      "             dtype='float64')\n",
      "1985     1242\n",
      "1986      172\n",
      "1987      182\n",
      "1988      219\n",
      "1989      215\n",
      "1990      247\n",
      "1991      292\n",
      "1992      290\n",
      "1993      488\n",
      "1994      735\n",
      "1995     1638\n",
      "1996     3009\n",
      "1997     5970\n",
      "1998    12794\n",
      "1999    20824\n",
      "Name: ESTU_ANO_MATRICULA_PRIMERO, dtype: int64\n",
      "Elementos null/NaN 469903\n",
      "__________________\n",
      "Elementos diferentes de null/NaN: 48317\n",
      "__________________\n",
      "(48317,)\n",
      "None\n"
     ]
    }
   ],
   "source": [
    "c = 'ESTU_ANO_MATRICULA_PRIMERO'\n",
    "print(data_2009_2[c].value_counts().sort_index().index)\n",
    "print(data_2009_2[c].value_counts().sort_index())\n",
    "print(missing_data(data_2009_2[c]))"
   ]
  },
  {
   "cell_type": "code",
   "execution_count": 191,
   "metadata": {
    "collapsed": false,
    "scrolled": true
   },
   "outputs": [
    {
     "name": "stdout",
     "output_type": "stream",
     "text": [
      "Float64Index([1985.0, 1986.0, 1987.0, 1988.0, 1989.0, 1990.0, 1991.0, 1992.0,\n",
      "              1993.0, 1994.0, 1995.0, 1996.0, 1997.0, 1998.0, 1999.0, 2000.0,\n",
      "              2001.0, 2002.0, 2003.0],\n",
      "             dtype='float64')\n",
      "1985      662\n",
      "1986       76\n",
      "1987       60\n",
      "1988       49\n",
      "1989       84\n",
      "1990      171\n",
      "1991      148\n",
      "1992      137\n",
      "1993      189\n",
      "1994      180\n",
      "1995      263\n",
      "1996      244\n",
      "1997      346\n",
      "1998      443\n",
      "1999      684\n",
      "2000     1532\n",
      "2001     2725\n",
      "2002     7760\n",
      "2003    32564\n",
      "Name: ESTU_ANO_TERMINO_QUINTO, dtype: int64\n",
      "Elementos null/NaN 469903\n",
      "__________________\n",
      "Elementos diferentes de null/NaN: 48317\n",
      "__________________\n",
      "(48317,)\n",
      "None\n"
     ]
    }
   ],
   "source": [
    "c = 'ESTU_ANO_TERMINO_QUINTO'\n",
    "print(data_2009_2[c].value_counts().sort_index().index)\n",
    "print(data_2009_2[c].value_counts().sort_index())\n",
    "print(missing_data(data_2009_2[c]))"
   ]
  },
  {
   "cell_type": "code",
   "execution_count": 192,
   "metadata": {
    "collapsed": false
   },
   "outputs": [
    {
     "name": "stdout",
     "output_type": "stream",
     "text": [
      "Float64Index([1.0, 2.0, 3.0, 4.0, 5.0, 6.0, 7.0, 8.0, 9.0, 10.0, 11.0], dtype='float64')\n",
      "1      4477\n",
      "2      5228\n",
      "3      4070\n",
      "4      2888\n",
      "5      3027\n",
      "6     12700\n",
      "7      2787\n",
      "8      1259\n",
      "9      1087\n",
      "10     1397\n",
      "11     9397\n",
      "Name: ESTU_ANOS_COLEGIO_ACTUAL, dtype: int64\n",
      "Elementos null/NaN 469903\n",
      "__________________\n",
      "Elementos diferentes de null/NaN: 48317\n",
      "__________________\n",
      "(48317,)\n",
      "None\n"
     ]
    }
   ],
   "source": [
    "c = 'ESTU_ANOS_COLEGIO_ACTUAL'\n",
    "print(data_2009_2[c].value_counts().sort_index().index)\n",
    "print(data_2009_2[c].value_counts().sort_index())\n",
    "print(missing_data(data_2009_2[c]))"
   ]
  },
  {
   "cell_type": "code",
   "execution_count": 193,
   "metadata": {
    "collapsed": false,
    "scrolled": true
   },
   "outputs": [
    {
     "name": "stdout",
     "output_type": "stream",
     "text": [
      "Float64Index([1985.0, 1986.0, 1987.0, 1988.0, 1989.0, 1990.0, 1991.0, 1992.0,\n",
      "              1993.0, 1994.0, 1995.0, 1996.0, 1997.0, 1998.0, 1999.0, 2000.0,\n",
      "              2001.0, 2002.0, 2003.0, 2004.0],\n",
      "             dtype='float64')\n",
      "1985      404\n",
      "1986       87\n",
      "1987       59\n",
      "1988       58\n",
      "1989       52\n",
      "1990       69\n",
      "1991      133\n",
      "1992       95\n",
      "1993      133\n",
      "1994      186\n",
      "1995      159\n",
      "1996      229\n",
      "1997      229\n",
      "1998      292\n",
      "1999      368\n",
      "2000      650\n",
      "2001     1500\n",
      "2002     2726\n",
      "2003     7999\n",
      "2004    32889\n",
      "Name: ESTU_ANO_MATRICULA_SEXTO, dtype: int64\n",
      "Elementos null/NaN 469903\n",
      "__________________\n",
      "Elementos diferentes de null/NaN: 48317\n",
      "__________________\n",
      "(48317,)\n",
      "None\n"
     ]
    }
   ],
   "source": [
    "c = 'ESTU_ANO_MATRICULA_SEXTO'\n",
    "print(data_2009_2[c].value_counts().sort_index().index)\n",
    "print(data_2009_2[c].value_counts().sort_index())\n",
    "print(missing_data(data_2009_2[c]))"
   ]
  },
  {
   "cell_type": "code",
   "execution_count": 194,
   "metadata": {
    "collapsed": false
   },
   "outputs": [
    {
     "name": "stdout",
     "output_type": "stream",
     "text": [
      "Float64Index([0.0, 1.0, 2.0, 3.0], dtype='float64')\n",
      "0     8223\n",
      "1    23371\n",
      "2     8877\n",
      "3     7846\n",
      "Name: ESTU_ANOS_PREESCOLAR, dtype: int64\n",
      "Elementos null/NaN 469903\n",
      "__________________\n",
      "Elementos diferentes de null/NaN: 48317\n",
      "__________________\n",
      "(48317,)\n",
      "None\n"
     ]
    }
   ],
   "source": [
    "c = 'ESTU_ANOS_PREESCOLAR'\n",
    "print(data_2009_2[c].value_counts().sort_index().index)\n",
    "print(data_2009_2[c].value_counts().sort_index())\n",
    "print(missing_data(data_2009_2[c]))"
   ]
  },
  {
   "cell_type": "code",
   "execution_count": 195,
   "metadata": {
    "collapsed": false
   },
   "outputs": [
    {
     "name": "stdout",
     "output_type": "stream",
     "text": [
      "Float64Index([1.0, 2.0, 3.0], dtype='float64')\n",
      "1    24420\n",
      "2     9128\n",
      "3     5514\n",
      "Name: ESTU_CUANTOS_COLE_ESTUDIO, dtype: int64\n",
      "Elementos null/NaN 479158\n",
      "__________________\n",
      "Elementos diferentes de null/NaN: 39062\n",
      "__________________\n",
      "(39062,)\n",
      "None\n"
     ]
    }
   ],
   "source": [
    "c = 'ESTU_CUANTOS_COLE_ESTUDIO'\n",
    "print(data_2009_2[c].value_counts().sort_index().index)\n",
    "print(data_2009_2[c].value_counts().sort_index())\n",
    "print(missing_data(data_2009_2[c]))"
   ]
  },
  {
   "cell_type": "code",
   "execution_count": 196,
   "metadata": {
    "collapsed": false
   },
   "outputs": [
    {
     "name": "stdout",
     "output_type": "stream",
     "text": [
      "Float64Index([0.0, 1.0], dtype='float64')\n",
      "0    46558\n",
      "1     1759\n",
      "Name: ESTU_REPROBO_CUARTO, dtype: int64\n",
      "Elementos null/NaN 469903\n",
      "__________________\n",
      "Elementos diferentes de null/NaN: 48317\n",
      "__________________\n",
      "(48317,)\n",
      "None\n"
     ]
    }
   ],
   "source": [
    "c = 'ESTU_REPROBO_CUARTO'\n",
    "print(data_2009_2[c].value_counts().sort_index().index)\n",
    "print(data_2009_2[c].value_counts().sort_index())\n",
    "print(missing_data(data_2009_2[c]))"
   ]
  },
  {
   "cell_type": "code",
   "execution_count": 197,
   "metadata": {
    "collapsed": false
   },
   "outputs": [
    {
     "name": "stdout",
     "output_type": "stream",
     "text": [
      "Float64Index([0.0, 1.0], dtype='float64')\n",
      "0    45767\n",
      "1     2550\n",
      "Name: ESTU_REPROBO_DECIMO, dtype: int64\n",
      "Elementos null/NaN 469903\n",
      "__________________\n",
      "Elementos diferentes de null/NaN: 48317\n",
      "__________________\n",
      "(48317,)\n",
      "None\n"
     ]
    }
   ],
   "source": [
    "c = 'ESTU_REPROBO_DECIMO'\n",
    "print(data_2009_2[c].value_counts().sort_index().index)\n",
    "print(data_2009_2[c].value_counts().sort_index())\n",
    "print(missing_data(data_2009_2[c]))"
   ]
  },
  {
   "cell_type": "code",
   "execution_count": 198,
   "metadata": {
    "collapsed": false
   },
   "outputs": [
    {
     "name": "stdout",
     "output_type": "stream",
     "text": [
      "Float64Index([0.0, 1.0], dtype='float64')\n",
      "0    46312\n",
      "1     2005\n",
      "Name: ESTU_REPROBO_NOVENO, dtype: int64\n",
      "Elementos null/NaN 469903\n",
      "__________________\n",
      "Elementos diferentes de null/NaN: 48317\n",
      "__________________\n",
      "(48317,)\n",
      "None\n"
     ]
    }
   ],
   "source": [
    "c = 'ESTU_REPROBO_NOVENO'\n",
    "print(data_2009_2[c].value_counts().sort_index().index)\n",
    "print(data_2009_2[c].value_counts().sort_index())\n",
    "print(missing_data(data_2009_2[c]))"
   ]
  },
  {
   "cell_type": "code",
   "execution_count": 199,
   "metadata": {
    "collapsed": false
   },
   "outputs": [
    {
     "name": "stdout",
     "output_type": "stream",
     "text": [
      "Float64Index([0.0, 1.0], dtype='float64')\n",
      "0    45977\n",
      "1     2340\n",
      "Name: ESTU_REPROBO_OCTAVO, dtype: int64\n",
      "Elementos null/NaN 469903\n",
      "__________________\n",
      "Elementos diferentes de null/NaN: 48317\n",
      "__________________\n",
      "(48317,)\n",
      "None\n"
     ]
    }
   ],
   "source": [
    "c = 'ESTU_REPROBO_OCTAVO'\n",
    "print(data_2009_2[c].value_counts().sort_index().index)\n",
    "print(data_2009_2[c].value_counts().sort_index())\n",
    "print(missing_data(data_2009_2[c]))"
   ]
  },
  {
   "cell_type": "code",
   "execution_count": 200,
   "metadata": {
    "collapsed": false
   },
   "outputs": [
    {
     "name": "stdout",
     "output_type": "stream",
     "text": [
      "Float64Index([0.0, 1.0], dtype='float64')\n",
      "0    45458\n",
      "1     2859\n",
      "Name: ESTU_REPROBO_PRIMERO, dtype: int64\n",
      "Elementos null/NaN 469903\n",
      "__________________\n",
      "Elementos diferentes de null/NaN: 48317\n",
      "__________________\n",
      "(48317,)\n",
      "None\n"
     ]
    }
   ],
   "source": [
    "c = 'ESTU_REPROBO_PRIMERO'\n",
    "print(data_2009_2[c].value_counts().sort_index().index)\n",
    "print(data_2009_2[c].value_counts().sort_index())\n",
    "print(missing_data(data_2009_2[c]))"
   ]
  },
  {
   "cell_type": "code",
   "execution_count": 201,
   "metadata": {
    "collapsed": false
   },
   "outputs": [
    {
     "name": "stdout",
     "output_type": "stream",
     "text": [
      "Float64Index([0.0, 1.0], dtype='float64')\n",
      "0    46885\n",
      "1     1432\n",
      "Name: ESTU_REPROBO_QUINTO, dtype: int64\n",
      "Elementos null/NaN 469903\n",
      "__________________\n",
      "Elementos diferentes de null/NaN: 48317\n",
      "__________________\n",
      "(48317,)\n",
      "None\n"
     ]
    }
   ],
   "source": [
    "c = 'ESTU_REPROBO_QUINTO'\n",
    "print(data_2009_2[c].value_counts().sort_index().index)\n",
    "print(data_2009_2[c].value_counts().sort_index())\n",
    "print(missing_data(data_2009_2[c]))"
   ]
  },
  {
   "cell_type": "code",
   "execution_count": 202,
   "metadata": {
    "collapsed": false
   },
   "outputs": [
    {
     "name": "stdout",
     "output_type": "stream",
     "text": [
      "Float64Index([0.0, 1.0], dtype='float64')\n",
      "0    46278\n",
      "1     2039\n",
      "Name: ESTU_REPROBO_SEGUNDO, dtype: int64\n",
      "Elementos null/NaN 469903\n",
      "__________________\n",
      "Elementos diferentes de null/NaN: 48317\n",
      "__________________\n",
      "(48317,)\n",
      "None\n"
     ]
    }
   ],
   "source": [
    "c = 'ESTU_REPROBO_SEGUNDO'\n",
    "print(data_2009_2[c].value_counts().sort_index().index)\n",
    "print(data_2009_2[c].value_counts().sort_index())\n",
    "print(missing_data(data_2009_2[c]))"
   ]
  },
  {
   "cell_type": "code",
   "execution_count": 203,
   "metadata": {
    "collapsed": false
   },
   "outputs": [
    {
     "name": "stdout",
     "output_type": "stream",
     "text": [
      "Float64Index([0.0, 1.0], dtype='float64')\n",
      "0    46052\n",
      "1     2265\n",
      "Name: ESTU_REPROBO_SEPTIMO, dtype: int64\n",
      "Elementos null/NaN 469903\n",
      "__________________\n",
      "Elementos diferentes de null/NaN: 48317\n",
      "__________________\n",
      "(48317,)\n",
      "None\n"
     ]
    }
   ],
   "source": [
    "c = 'ESTU_REPROBO_SEPTIMO'\n",
    "print(data_2009_2[c].value_counts().sort_index().index)\n",
    "print(data_2009_2[c].value_counts().sort_index())\n",
    "print(missing_data(data_2009_2[c]))"
   ]
  },
  {
   "cell_type": "code",
   "execution_count": 204,
   "metadata": {
    "collapsed": false
   },
   "outputs": [
    {
     "name": "stdout",
     "output_type": "stream",
     "text": [
      "Float64Index([0.0, 1.0], dtype='float64')\n",
      "0    45909\n",
      "1     2408\n",
      "Name: ESTU_REPROBO_SEXTO, dtype: int64\n",
      "Elementos null/NaN 469903\n",
      "__________________\n",
      "Elementos diferentes de null/NaN: 48317\n",
      "__________________\n",
      "(48317,)\n",
      "None\n"
     ]
    }
   ],
   "source": [
    "c = 'ESTU_REPROBO_SEXTO'\n",
    "print(data_2009_2[c].value_counts().sort_index().index)\n",
    "print(data_2009_2[c].value_counts().sort_index())\n",
    "print(missing_data(data_2009_2[c]))"
   ]
  },
  {
   "cell_type": "code",
   "execution_count": 205,
   "metadata": {
    "collapsed": false
   },
   "outputs": [
    {
     "name": "stdout",
     "output_type": "stream",
     "text": [
      "Float64Index([0.0, 1.0], dtype='float64')\n",
      "0    45945\n",
      "1     2372\n",
      "Name: ESTU_REPROBO_TERCERO, dtype: int64\n",
      "Elementos null/NaN 469903\n",
      "__________________\n",
      "Elementos diferentes de null/NaN: 48317\n",
      "__________________\n",
      "(48317,)\n",
      "None\n"
     ]
    }
   ],
   "source": [
    "c = 'ESTU_REPROBO_TERCERO'\n",
    "print(data_2009_2[c].value_counts().sort_index().index)\n",
    "print(data_2009_2[c].value_counts().sort_index())\n",
    "print(missing_data(data_2009_2[c]))"
   ]
  },
  {
   "cell_type": "code",
   "execution_count": 206,
   "metadata": {
    "collapsed": false
   },
   "outputs": [
    {
     "name": "stdout",
     "output_type": "stream",
     "text": [
      "Float64Index([0.0, 1.0], dtype='float64')\n",
      "0    47158\n",
      "1     1159\n",
      "Name: ESTU_REPROBO_ONCE_MAS, dtype: int64\n",
      "Elementos null/NaN 469903\n",
      "__________________\n",
      "Elementos diferentes de null/NaN: 48317\n",
      "__________________\n",
      "(48317,)\n",
      "None\n"
     ]
    }
   ],
   "source": [
    "c = 'ESTU_REPROBO_ONCE_MAS'\n",
    "print(data_2009_2[c].value_counts().sort_index().index)\n",
    "print(data_2009_2[c].value_counts().sort_index())\n",
    "print(missing_data(data_2009_2[c]))"
   ]
  },
  {
   "cell_type": "code",
   "execution_count": 207,
   "metadata": {
    "collapsed": false
   },
   "outputs": [
    {
     "name": "stdout",
     "output_type": "stream",
     "text": [
      "Index(['-'], dtype='object')\n",
      "-    518220\n",
      "Name: ESTU_POR_MEJORARPOSICIONSOCIAL, dtype: int64\n",
      "Elementos null/NaN 0\n",
      "__________________\n",
      "Elementos diferentes de null/NaN: 518220\n",
      "__________________\n",
      "(518220,)\n",
      "None\n"
     ]
    }
   ],
   "source": [
    "c = 'ESTU_POR_MEJORARPOSICIONSOCIAL'\n",
    "print(data_2009_2[c].value_counts().sort_index().index)\n",
    "print(data_2009_2[c].value_counts().sort_index())\n",
    "print(missing_data(data_2009_2[c]))"
   ]
  },
  {
   "cell_type": "code",
   "execution_count": 208,
   "metadata": {
    "collapsed": true
   },
   "outputs": [],
   "source": [
    "data_2009_2 = data_2009_2.drop([c], axis=1)"
   ]
  },
  {
   "cell_type": "code",
   "execution_count": 209,
   "metadata": {
    "collapsed": false
   },
   "outputs": [
    {
     "name": "stdout",
     "output_type": "stream",
     "text": [
      "Index(['-'], dtype='object')\n",
      "-    518220\n",
      "Name: ESTU_POR_COLOMBIAAPRENDE, dtype: int64\n",
      "Elementos null/NaN 0\n",
      "__________________\n",
      "Elementos diferentes de null/NaN: 518220\n",
      "__________________\n",
      "(518220,)\n",
      "None\n"
     ]
    }
   ],
   "source": [
    "c = 'ESTU_POR_COLOMBIAAPRENDE'\n",
    "print(data_2009_2[c].value_counts().sort_index().index)\n",
    "print(data_2009_2[c].value_counts().sort_index())\n",
    "print(missing_data(data_2009_2[c]))"
   ]
  },
  {
   "cell_type": "code",
   "execution_count": 210,
   "metadata": {
    "collapsed": true
   },
   "outputs": [],
   "source": [
    "data_2009_2 = data_2009_2.drop([c], axis=1)"
   ]
  },
  {
   "cell_type": "code",
   "execution_count": 211,
   "metadata": {
    "collapsed": false
   },
   "outputs": [
    {
     "name": "stdout",
     "output_type": "stream",
     "text": [
      "Float64Index([0.0, 1.0], dtype='float64')\n",
      "0    34581\n",
      "1    12175\n",
      "Name: ESTU_POR_INFLUENCIAALGUIEN, dtype: int64\n",
      "Elementos null/NaN 471464\n",
      "__________________\n",
      "Elementos diferentes de null/NaN: 46756\n",
      "__________________\n",
      "(46756,)\n",
      "None\n"
     ]
    }
   ],
   "source": [
    "c = 'ESTU_POR_INFLUENCIAALGUIEN'\n",
    "print(data_2009_2[c].value_counts().sort_index().index)\n",
    "print(data_2009_2[c].value_counts().sort_index())\n",
    "print(missing_data(data_2009_2[c]))"
   ]
  },
  {
   "cell_type": "code",
   "execution_count": 212,
   "metadata": {
    "collapsed": false
   },
   "outputs": [
    {
     "name": "stdout",
     "output_type": "stream",
     "text": [
      "Index(['-'], dtype='object')\n",
      "-    518220\n",
      "Name: ESTU_POR_INTERESPERSONAL, dtype: int64\n",
      "Elementos null/NaN 0\n",
      "__________________\n",
      "Elementos diferentes de null/NaN: 518220\n",
      "__________________\n",
      "(518220,)\n",
      "None\n"
     ]
    }
   ],
   "source": [
    "c = 'ESTU_POR_INTERESPERSONAL'\n",
    "print(data_2009_2[c].value_counts().sort_index().index)\n",
    "print(data_2009_2[c].value_counts().sort_index())\n",
    "print(missing_data(data_2009_2[c]))"
   ]
  },
  {
   "cell_type": "code",
   "execution_count": 213,
   "metadata": {
    "collapsed": true
   },
   "outputs": [],
   "source": [
    "data_2009_2 = data_2009_2.drop([c], axis=1)"
   ]
  },
  {
   "cell_type": "code",
   "execution_count": 214,
   "metadata": {
    "collapsed": false
   },
   "outputs": [
    {
     "name": "stdout",
     "output_type": "stream",
     "text": [
      "Index(['-'], dtype='object')\n",
      "-    518220\n",
      "Name: ESTU_POR_BUSCANDOCARRERA, dtype: int64\n",
      "Elementos null/NaN 0\n",
      "__________________\n",
      "Elementos diferentes de null/NaN: 518220\n",
      "__________________\n",
      "(518220,)\n",
      "None\n"
     ]
    }
   ],
   "source": [
    "c = 'ESTU_POR_BUSCANDOCARRERA'\n",
    "print(data_2009_2[c].value_counts().sort_index().index)\n",
    "print(data_2009_2[c].value_counts().sort_index())\n",
    "print(missing_data(data_2009_2[c]))"
   ]
  },
  {
   "cell_type": "code",
   "execution_count": 215,
   "metadata": {
    "collapsed": true
   },
   "outputs": [],
   "source": [
    "data_2009_2 = data_2009_2.drop([c], axis=1)"
   ]
  },
  {
   "cell_type": "code",
   "execution_count": 216,
   "metadata": {
    "collapsed": false
   },
   "outputs": [
    {
     "name": "stdout",
     "output_type": "stream",
     "text": [
      "Float64Index([0.0, 1.0], dtype='float64')\n",
      "0    39463\n",
      "1     7293\n",
      "Name: ESTU_POR_TRADICIONFAMILIAR, dtype: int64\n",
      "Elementos null/NaN 471464\n",
      "__________________\n",
      "Elementos diferentes de null/NaN: 46756\n",
      "__________________\n",
      "(46756,)\n",
      "None\n"
     ]
    }
   ],
   "source": [
    "c = 'ESTU_POR_TRADICIONFAMILIAR'\n",
    "print(data_2009_2[c].value_counts().sort_index().index)\n",
    "print(data_2009_2[c].value_counts().sort_index())\n",
    "print(missing_data(data_2009_2[c]))"
   ]
  },
  {
   "cell_type": "code",
   "execution_count": 217,
   "metadata": {
    "collapsed": false
   },
   "outputs": [
    {
     "name": "stdout",
     "output_type": "stream",
     "text": [
      "Float64Index([0.0, 1.0, 2.0], dtype='float64')\n",
      "0    20884\n",
      "1    21855\n",
      "2     4019\n",
      "Name: ESTU_POR_ORIENTACIONVOCACIONAL, dtype: int64\n",
      "Elementos null/NaN 471462\n",
      "__________________\n",
      "Elementos diferentes de null/NaN: 46758\n",
      "__________________\n",
      "(46758,)\n",
      "None\n"
     ]
    }
   ],
   "source": [
    "c = 'ESTU_POR_ORIENTACIONVOCACIONAL'\n",
    "print(data_2009_2[c].value_counts().sort_index().index)\n",
    "print(data_2009_2[c].value_counts().sort_index())\n",
    "print(missing_data(data_2009_2[c]))"
   ]
  },
  {
   "cell_type": "code",
   "execution_count": 218,
   "metadata": {
    "collapsed": false
   },
   "outputs": [
    {
     "name": "stdout",
     "output_type": "stream",
     "text": [
      "Float64Index([1.0, 2.0, 3.0, 4.0, 5.0, 6.0, 7.0, 8.0, 9.0], dtype='float64')\n",
      "1     190\n",
      "2     381\n",
      "3    2547\n",
      "4     773\n",
      "5     548\n",
      "6     274\n",
      "7     116\n",
      "8     105\n",
      "9    2964\n",
      "Name: ESTU_RAZON_RETIRO, dtype: int64\n",
      "Elementos null/NaN 510322\n",
      "__________________\n",
      "Elementos diferentes de null/NaN: 7898\n",
      "__________________\n",
      "(7898,)\n",
      "None\n"
     ]
    }
   ],
   "source": [
    "c = 'ESTU_RAZON_RETIRO'\n",
    "print(data_2009_2[c].value_counts().sort_index().index)\n",
    "print(data_2009_2[c].value_counts().sort_index())\n",
    "print(missing_data(data_2009_2[c]))"
   ]
  },
  {
   "cell_type": "code",
   "execution_count": 219,
   "metadata": {
    "collapsed": false
   },
   "outputs": [
    {
     "name": "stdout",
     "output_type": "stream",
     "text": [
      "Float64Index([0.0, 1.0], dtype='float64')\n",
      "0    34435\n",
      "1    12323\n",
      "Name: ESTU_POR_AMIGOSESTUDIANDO, dtype: int64\n",
      "Elementos null/NaN 471462\n",
      "__________________\n",
      "Elementos diferentes de null/NaN: 46758\n",
      "__________________\n",
      "(46758,)\n",
      "None\n"
     ]
    }
   ],
   "source": [
    "c = 'ESTU_POR_AMIGOSESTUDIANDO'\n",
    "print(data_2009_2[c].value_counts().sort_index().index)\n",
    "print(data_2009_2[c].value_counts().sort_index())\n",
    "print(missing_data(data_2009_2[c]))"
   ]
  },
  {
   "cell_type": "code",
   "execution_count": 220,
   "metadata": {
    "collapsed": false
   },
   "outputs": [
    {
     "name": "stdout",
     "output_type": "stream",
     "text": [
      "Index(['-'], dtype='object')\n",
      "-    518220\n",
      "Name: ESTU_POR_COSTOMATRICULA, dtype: int64\n",
      "Elementos null/NaN 0\n",
      "__________________\n",
      "Elementos diferentes de null/NaN: 518220\n",
      "__________________\n",
      "(518220,)\n",
      "None\n"
     ]
    }
   ],
   "source": [
    "c = 'ESTU_POR_COSTOMATRICULA'\n",
    "print(data_2009_2[c].value_counts().sort_index().index)\n",
    "print(data_2009_2[c].value_counts().sort_index())\n",
    "print(missing_data(data_2009_2[c]))"
   ]
  },
  {
   "cell_type": "code",
   "execution_count": 221,
   "metadata": {
    "collapsed": true
   },
   "outputs": [],
   "source": [
    "data_2009_2 = data_2009_2.drop([c], axis=1)"
   ]
  },
  {
   "cell_type": "code",
   "execution_count": 222,
   "metadata": {
    "collapsed": false
   },
   "outputs": [
    {
     "name": "stdout",
     "output_type": "stream",
     "text": [
      "Index(['-'], dtype='object')\n",
      "-    518220\n",
      "Name: ESTU_POR_OPORTUNIDADES, dtype: int64\n",
      "Elementos null/NaN 0\n",
      "__________________\n",
      "Elementos diferentes de null/NaN: 518220\n",
      "__________________\n",
      "(518220,)\n",
      "None\n"
     ]
    }
   ],
   "source": [
    "c = 'ESTU_POR_OPORTUNIDADES'\n",
    "print(data_2009_2[c].value_counts().sort_index().index)\n",
    "print(data_2009_2[c].value_counts().sort_index())\n",
    "print(missing_data(data_2009_2[c]))"
   ]
  },
  {
   "cell_type": "code",
   "execution_count": 223,
   "metadata": {
    "collapsed": true
   },
   "outputs": [],
   "source": [
    "data_2009_2 = data_2009_2.drop([c], axis=1)"
   ]
  },
  {
   "cell_type": "code",
   "execution_count": 224,
   "metadata": {
    "collapsed": false
   },
   "outputs": [
    {
     "name": "stdout",
     "output_type": "stream",
     "text": [
      "Float64Index([0.0, 1.0], dtype='float64')\n",
      "0    33934\n",
      "1    12824\n",
      "Name: ESTU_POR_OTRARAZON, dtype: int64\n",
      "Elementos null/NaN 471462\n",
      "__________________\n",
      "Elementos diferentes de null/NaN: 46758\n",
      "__________________\n",
      "(46758,)\n",
      "None\n"
     ]
    }
   ],
   "source": [
    "c = 'ESTU_POR_OTRARAZON'\n",
    "print(data_2009_2[c].value_counts().sort_index().index)\n",
    "print(data_2009_2[c].value_counts().sort_index())\n",
    "print(missing_data(data_2009_2[c]))"
   ]
  },
  {
   "cell_type": "code",
   "execution_count": 225,
   "metadata": {
    "collapsed": false
   },
   "outputs": [
    {
     "name": "stdout",
     "output_type": "stream",
     "text": [
      "Float64Index([0.0, 1.0], dtype='float64')\n",
      "0    11508\n",
      "1    35251\n",
      "Name: ESTU_PRESTIGIOINSTITUCION, dtype: int64\n",
      "Elementos null/NaN 471461\n",
      "__________________\n",
      "Elementos diferentes de null/NaN: 46759\n",
      "__________________\n",
      "(46759,)\n",
      "None\n"
     ]
    }
   ],
   "source": [
    "c = 'ESTU_PRESTIGIOINSTITUCION'\n",
    "print(data_2009_2[c].value_counts().sort_index().index)\n",
    "print(data_2009_2[c].value_counts().sort_index())\n",
    "print(missing_data(data_2009_2[c]))"
   ]
  },
  {
   "cell_type": "code",
   "execution_count": 226,
   "metadata": {
    "collapsed": false
   },
   "outputs": [
    {
     "name": "stdout",
     "output_type": "stream",
     "text": [
      "Float64Index([0.0, 1.0], dtype='float64')\n",
      "0    21895\n",
      "1    24863\n",
      "Name: ESTU_POR_UBICACION, dtype: int64\n",
      "Elementos null/NaN 471462\n",
      "__________________\n",
      "Elementos diferentes de null/NaN: 46758\n",
      "__________________\n",
      "(46758,)\n",
      "None\n"
     ]
    }
   ],
   "source": [
    "c = 'ESTU_POR_UBICACION'\n",
    "print(data_2009_2[c].value_counts().sort_index().index)\n",
    "print(data_2009_2[c].value_counts().sort_index())\n",
    "print(missing_data(data_2009_2[c]))"
   ]
  },
  {
   "cell_type": "code",
   "execution_count": 227,
   "metadata": {
    "collapsed": false
   },
   "outputs": [
    {
     "name": "stdout",
     "output_type": "stream",
     "text": [
      "Float64Index([0.0, 1.0], dtype='float64')\n",
      "0    35938\n",
      "1    10820\n",
      "Name: ESTU_POR_UNICAQUEOFRECE, dtype: int64\n",
      "Elementos null/NaN 471462\n",
      "__________________\n",
      "Elementos diferentes de null/NaN: 46758\n",
      "__________________\n",
      "(46758,)\n",
      "None\n"
     ]
    }
   ],
   "source": [
    "c = 'ESTU_POR_UNICAQUEOFRECE'\n",
    "print(data_2009_2[c].value_counts().sort_index().index)\n",
    "print(data_2009_2[c].value_counts().sort_index())\n",
    "print(missing_data(data_2009_2[c]))"
   ]
  },
  {
   "cell_type": "code",
   "execution_count": 228,
   "metadata": {
    "collapsed": false
   },
   "outputs": [
    {
     "name": "stdout",
     "output_type": "stream",
     "text": [
      "Index(['-'], dtype='object')\n",
      "-    518220\n",
      "Name: ESTU_RETIRARSE_COLEGIO, dtype: int64\n",
      "Elementos null/NaN 0\n",
      "__________________\n",
      "Elementos diferentes de null/NaN: 518220\n",
      "__________________\n",
      "(518220,)\n",
      "None\n"
     ]
    }
   ],
   "source": [
    "c = 'ESTU_RETIRARSE_COLEGIO'\n",
    "print(data_2009_2[c].value_counts().sort_index().index)\n",
    "print(data_2009_2[c].value_counts().sort_index())\n",
    "print(missing_data(data_2009_2[c]))"
   ]
  },
  {
   "cell_type": "code",
   "execution_count": 229,
   "metadata": {
    "collapsed": true
   },
   "outputs": [],
   "source": [
    "data_2009_2 = data_2009_2.drop([c], axis=1)"
   ]
  },
  {
   "cell_type": "code",
   "execution_count": 230,
   "metadata": {
    "collapsed": false
   },
   "outputs": [
    {
     "name": "stdout",
     "output_type": "stream",
     "text": [
      "Index(['-'], dtype='object')\n",
      "-    518220\n",
      "Name: ESTU_PROGRAMA_ACADEMICODESEADO, dtype: int64\n",
      "Elementos null/NaN 0\n",
      "__________________\n",
      "Elementos diferentes de null/NaN: 518220\n",
      "__________________\n",
      "(518220,)\n",
      "None\n"
     ]
    }
   ],
   "source": [
    "c = 'ESTU_PROGRAMA_ACADEMICODESEADO'\n",
    "print(data_2009_2[c].value_counts().sort_index().index)\n",
    "print(data_2009_2[c].value_counts().sort_index())\n",
    "print(missing_data(data_2009_2[c]))"
   ]
  },
  {
   "cell_type": "code",
   "execution_count": 231,
   "metadata": {
    "collapsed": true
   },
   "outputs": [],
   "source": [
    "data_2009_2 = data_2009_2.drop([c], axis=1)"
   ]
  },
  {
   "cell_type": "code",
   "execution_count": 232,
   "metadata": {
    "collapsed": false
   },
   "outputs": [
    {
     "name": "stdout",
     "output_type": "stream",
     "text": [
      "Float64Index([0.0, 1.0, 2.0, 3.0, 4.0], dtype='float64')\n",
      "0    432835\n",
      "1     60763\n",
      "2     16191\n",
      "3      7180\n",
      "4       499\n",
      "Name: ESTU_VECES_ESTADO, dtype: int64\n",
      "Elementos null/NaN 752\n",
      "__________________\n",
      "Elementos diferentes de null/NaN: 517468\n",
      "__________________\n",
      "(517468,)\n",
      "None\n"
     ]
    }
   ],
   "source": [
    "c = 'ESTU_VECES_ESTADO'\n",
    "print(data_2009_2[c].value_counts().sort_index().index)\n",
    "print(data_2009_2[c].value_counts().sort_index())\n",
    "print(missing_data(data_2009_2[c]))"
   ]
  },
  {
   "cell_type": "code",
   "execution_count": 233,
   "metadata": {
    "collapsed": false
   },
   "outputs": [
    {
     "name": "stdout",
     "output_type": "stream",
     "text": [
      "Float64Index([1.0, 2.0, 3.0, 4.0, 5.0, 6.0, 7.0], dtype='float64')\n",
      "1    1969\n",
      "2    2599\n",
      "3     875\n",
      "4     477\n",
      "5     177\n",
      "6      52\n",
      "7     287\n",
      "Name: ESTU_CARRDESEADA_RAZON, dtype: int64\n",
      "Elementos null/NaN 511784\n",
      "__________________\n",
      "Elementos diferentes de null/NaN: 6436\n",
      "__________________\n",
      "(6436,)\n",
      "None\n"
     ]
    }
   ],
   "source": [
    "c = 'ESTU_CARRDESEADA_RAZON'\n",
    "print(data_2009_2[c].value_counts().sort_index().index)\n",
    "print(data_2009_2[c].value_counts().sort_index())\n",
    "print(missing_data(data_2009_2[c]))"
   ]
  },
  {
   "cell_type": "code",
   "execution_count": 234,
   "metadata": {
    "collapsed": false,
    "scrolled": true
   },
   "outputs": [
    {
     "name": "stdout",
     "output_type": "stream",
     "text": [
      "Index(['ABEJORRAL', 'ABREGO', 'ACACIAS', 'ACANDI', 'ACHI', 'AGUACHICA',\n",
      "       'AGUADAS', 'AGUAZUL', 'AGUSTIN CODAZZI', 'AIPE',\n",
      "       ...\n",
      "       'VILLAVICENCIO', 'VILLETA', 'VIOTA', 'YARUMAL', 'YAVARATE', 'YOLOMBO',\n",
      "       'YOPAL', 'ZAPATOCA', 'ZARAGOZA', 'ZIPAQUIRA'],\n",
      "      dtype='object', length=380)\n",
      "ABEJORRAL                     190\n",
      "ABREGO                        187\n",
      "ACACIAS                      1461\n",
      "ACANDI                         70\n",
      "ACHI                          276\n",
      "AGUACHICA                    1360\n",
      "AGUADAS                       240\n",
      "AGUAZUL                       499\n",
      "AGUSTIN CODAZZI               564\n",
      "AIPE                          217\n",
      "ALTO BAUDO (PIE DE PATO)       29\n",
      "AMAGA                         809\n",
      "AMALFI                        286\n",
      "ANDES                         810\n",
      "ANOLAIMA                      273\n",
      "ANSERMA                       802\n",
      "APARTADO                     1963\n",
      "APIA                          182\n",
      "ARACATACA                     372\n",
      "ARAUCA                       1246\n",
      "ARAUQUITA                     323\n",
      "ARBELAEZ                      252\n",
      "ARBOLEDAS                     155\n",
      "ARBOLETES                     390\n",
      "ARIGUANI (EL DIFICIL)         350\n",
      "ARJONA                        839\n",
      "ARMENIA                      5284\n",
      "ASTREA                        241\n",
      "ATRATO (YUTO)                 137\n",
      "AYAPEL                        388\n",
      "                             ... \n",
      "TUNJA                        5029\n",
      "TURBACO                       963\n",
      "TURBO                        1356\n",
      "TURMEQUE                      256\n",
      "TUTA                          132\n",
      "UBATE                        1085\n",
      "UNGUIA                         91\n",
      "URRAO                         509\n",
      "VALLEDUPAR                   6014\n",
      "VALPARAISO                    237\n",
      "VEGACHI                       183\n",
      "VELEZ                         688\n",
      "VENADILLO                     268\n",
      "VENTAQUEMADA                  159\n",
      "VIGIA DEL FUERTE               91\n",
      "VILLA DE LEYVA                335\n",
      "VILLA DEL ROSARIO             818\n",
      "VILLA GUAMEZ (LA HORMIGA)     552\n",
      "VILLAGARZON                   260\n",
      "VILLANUEVA                   1004\n",
      "VILLAVICENCIO                6663\n",
      "VILLETA                       632\n",
      "VIOTA                         114\n",
      "YARUMAL                       954\n",
      "YAVARATE                       26\n",
      "YOLOMBO                       233\n",
      "YOPAL                        2410\n",
      "ZAPATOCA                      171\n",
      "ZARAGOZA                      209\n",
      "ZIPAQUIRA                    2792\n",
      "Name: ESTU_MCPIO_PRESENTACION, dtype: int64\n",
      "Elementos null/NaN 0\n",
      "__________________\n",
      "Elementos diferentes de null/NaN: 518220\n",
      "__________________\n",
      "(518220,)\n",
      "None\n"
     ]
    }
   ],
   "source": [
    "c = 'ESTU_MCPIO_PRESENTACION'\n",
    "print(data_2009_2[c].value_counts().sort_index().index)\n",
    "print(data_2009_2[c].value_counts().sort_index())\n",
    "print(missing_data(data_2009_2[c]))"
   ]
  },
  {
   "cell_type": "code",
   "execution_count": 235,
   "metadata": {
    "collapsed": false,
    "scrolled": true
   },
   "outputs": [
    {
     "name": "stdout",
     "output_type": "stream",
     "text": [
      "Index(['AMAZONAS', 'ANTIOQUIA', 'ARAUCA', 'ATLÁNTICO', 'BOGOTÁ', 'BOLÍVAR',\n",
      "       'BOYACÁ', 'CALDAS', 'CAQUETÁ', 'CASANARE', 'CAUCA', 'CESAR', 'CHOCÓ',\n",
      "       'CUNDINAMARCA', 'CÓRDOBA', 'GUAINÍA', 'GUAVIARE', 'HUILA', 'LA GUAJIRA',\n",
      "       'MAGDALENA', 'META', 'NARIÑO', 'NORTE SANTANDER', 'PUTUMAYO', 'QUINDÍO',\n",
      "       'RISARALDA', 'SAN ANDRÉS', 'SANTANDER', 'SUCRE', 'TOLIMA', 'VALLE',\n",
      "       'VAUPÉS', 'VICHADA'],\n",
      "      dtype='object')\n",
      "AMAZONAS              793\n",
      "ANTIOQUIA           72035\n",
      "ARAUCA               3225\n",
      "ATLÁNTICO           28660\n",
      "BOGOTÁ             102586\n",
      "BOLÍVAR             24438\n",
      "BOYACÁ              20210\n",
      "CALDAS              13286\n",
      "CAQUETÁ              4361\n",
      "CASANARE             4916\n",
      "CAUCA               12797\n",
      "CESAR               12285\n",
      "CHOCÓ                4265\n",
      "CUNDINAMARCA        32678\n",
      "CÓRDOBA             17435\n",
      "GUAINÍA               181\n",
      "GUAVIARE              860\n",
      "HUILA               15796\n",
      "LA GUAJIRA           7156\n",
      "MAGDALENA           13629\n",
      "META                10891\n",
      "NARIÑO               7568\n",
      "NORTE SANTANDER     16755\n",
      "PUTUMAYO             3349\n",
      "QUINDÍO              7723\n",
      "RISARALDA           11573\n",
      "SAN ANDRÉS            849\n",
      "SANTANDER           28401\n",
      "SUCRE               10637\n",
      "TOLIMA              17301\n",
      "VALLE               10853\n",
      "VAUPÉS                277\n",
      "VICHADA               451\n",
      "Name: ESTU_DEPTO_PRESENTACION, dtype: int64\n",
      "Elementos null/NaN 0\n",
      "__________________\n",
      "Elementos diferentes de null/NaN: 518220\n",
      "__________________\n",
      "(518220,)\n",
      "None\n"
     ]
    }
   ],
   "source": [
    "c = 'ESTU_DEPTO_PRESENTACION'\n",
    "print(data_2009_2[c].value_counts().sort_index().index)\n",
    "print(data_2009_2[c].value_counts().sort_index())\n",
    "print(missing_data(data_2009_2[c]))"
   ]
  },
  {
   "cell_type": "code",
   "execution_count": 236,
   "metadata": {
    "collapsed": false
   },
   "outputs": [
    {
     "name": "stdout",
     "output_type": "stream",
     "text": [
      "Index(['EXAMEN DE ESTADO (ICFES)'], dtype='object')\n",
      "EXAMEN DE ESTADO (ICFES)    518220\n",
      "Name: ESTU_EXAM_NOMBREEXAMEN, dtype: int64\n",
      "Elementos null/NaN 0\n",
      "__________________\n",
      "Elementos diferentes de null/NaN: 518220\n",
      "__________________\n",
      "(518220,)\n",
      "None\n"
     ]
    }
   ],
   "source": [
    "c = 'ESTU_EXAM_NOMBREEXAMEN'\n",
    "print(data_2009_2[c].value_counts().sort_index().index)\n",
    "print(data_2009_2[c].value_counts().sort_index())\n",
    "print(missing_data(data_2009_2[c]))"
   ]
  },
  {
   "cell_type": "code",
   "execution_count": 237,
   "metadata": {
    "collapsed": true
   },
   "outputs": [],
   "source": [
    "data_2009_2 = data_2009_2.drop([c], axis=1)"
   ]
  },
  {
   "cell_type": "markdown",
   "metadata": {},
   "source": [
    "## TARGETS"
   ]
  },
  {
   "cell_type": "code",
   "execution_count": 238,
   "metadata": {
    "collapsed": false,
    "scrolled": true
   },
   "outputs": [
    {
     "name": "stdout",
     "output_type": "stream",
     "text": [
      "Index(['0', '15,91', '15,99', '23,94', '24,07', '29,01', '29,16', '32,88',\n",
      "       '33,04', '36,1', '36,27', '38,92', '39,08', '41,48', '41,63', '43,85',\n",
      "       '43,99', '46,1', '46,23', '48,26', '48,37', '50,37', '50,47', '52,45',\n",
      "       '52,54', '54,54', '54,6', '56,64', '56,7', '58,8', '58,84', '61,03',\n",
      "       '61,07', '63,4', '63,42', '65,94', '65,96', '68,74', '68,76', '71,94',\n",
      "       '71,96', '75,79', '75,81', '80,84', '80,86', '88,84'],\n",
      "      dtype='object')\n",
      "0           63\n",
      "15,91      134\n",
      "15,99      236\n",
      "23,94      743\n",
      "24,07     1013\n",
      "29,01     2342\n",
      "29,16     3150\n",
      "32,88     5472\n",
      "33,04     7664\n",
      "36,1     10541\n",
      "36,27    14437\n",
      "38,92    17790\n",
      "39,08    23108\n",
      "41,48    24777\n",
      "41,63    32143\n",
      "43,85    30770\n",
      "43,99    38303\n",
      "46,1     33040\n",
      "46,23    40730\n",
      "48,26    31701\n",
      "48,37    38058\n",
      "50,37    26683\n",
      "50,47    31069\n",
      "52,45    19886\n",
      "52,54    22646\n",
      "54,54    13168\n",
      "54,6     14934\n",
      "56,64     7880\n",
      "56,7      8773\n",
      "58,8      4377\n",
      "58,84     4663\n",
      "61,03     2187\n",
      "61,07     2294\n",
      "63,4      1026\n",
      "63,42     1045\n",
      "65,94      438\n",
      "65,96      428\n",
      "68,74      173\n",
      "68,76      175\n",
      "71,94       68\n",
      "71,96       52\n",
      "75,79       19\n",
      "75,81       13\n",
      "80,84        4\n",
      "80,86        3\n",
      "88,84        1\n",
      "Name: PUNT_LENGUAJE, dtype: int64\n",
      "Elementos null/NaN 0\n",
      "__________________\n",
      "Elementos diferentes de null/NaN: 518220\n",
      "__________________\n",
      "(518220,)\n",
      "None\n"
     ]
    }
   ],
   "source": [
    "c = 'PUNT_LENGUAJE'\n",
    "print(data_2009_2[c].value_counts().sort_index().index)\n",
    "print(data_2009_2[c].value_counts().sort_index())\n",
    "print(missing_data(data_2009_2[c]))"
   ]
  },
  {
   "cell_type": "code",
   "execution_count": 239,
   "metadata": {
    "collapsed": true
   },
   "outputs": [],
   "source": [
    "clean_target(data_2009_2, c)"
   ]
  },
  {
   "cell_type": "code",
   "execution_count": 240,
   "metadata": {
    "collapsed": false,
    "scrolled": true
   },
   "outputs": [
    {
     "name": "stdout",
     "output_type": "stream",
     "text": [
      "Index(['0', '10,51', '10,77', '115,34', '115,59', '20,18', '20,44', '26,24',\n",
      "       '26,51', '30,84', '31,11', '34,66', '34,91', '37,99', '38,23', '41,01',\n",
      "       '41,23', '43,8', '44', '46,45', '46,62', '49', '49,14', '51,49', '51,6',\n",
      "       '53,95', '54,03', '56,43', '56,46', '58,94', '61,49', '61,53', '64,16',\n",
      "       '64,24', '67,01', '67,13', '70,11', '70,26', '73,57', '73,76', '77,58',\n",
      "       '77,8', '82,45', '82,69', '88,88', '89,15', '99,07', '99,33'],\n",
      "      dtype='object')\n",
      "0           207\n",
      "10,51       458\n",
      "10,77       651\n",
      "115,34       27\n",
      "115,59       19\n",
      "20,18      2307\n",
      "20,44      2688\n",
      "26,24      6671\n",
      "26,51      7666\n",
      "30,84     14575\n",
      "31,11     16111\n",
      "34,66     23781\n",
      "34,91     25372\n",
      "37,99     31713\n",
      "38,23     32262\n",
      "41,01     34657\n",
      "41,23     34892\n",
      "43,8      33470\n",
      "44        32881\n",
      "46,45     28594\n",
      "46,62     27609\n",
      "49        22612\n",
      "49,14     21649\n",
      "51,49     17289\n",
      "51,6      16252\n",
      "53,95     12748\n",
      "54,03     12008\n",
      "56,43      9188\n",
      "56,46      8664\n",
      "58,94     13378\n",
      "61,49      4699\n",
      "61,53      4870\n",
      "64,16      3302\n",
      "64,24      3529\n",
      "67,01      2136\n",
      "67,13      2308\n",
      "70,11      1435\n",
      "70,26      1504\n",
      "73,57       943\n",
      "73,76       951\n",
      "77,58       552\n",
      "77,8        573\n",
      "82,45       267\n",
      "82,69       281\n",
      "88,88       161\n",
      "89,15       169\n",
      "99,07        56\n",
      "99,33        85\n",
      "Name: PUNT_MATEMATICAS, dtype: int64\n",
      "Elementos null/NaN 0\n",
      "__________________\n",
      "Elementos diferentes de null/NaN: 518220\n",
      "__________________\n",
      "(518220,)\n",
      "None\n"
     ]
    }
   ],
   "source": [
    "c = 'PUNT_MATEMATICAS'\n",
    "print(data_2009_2[c].value_counts().sort_index().index)\n",
    "print(data_2009_2[c].value_counts().sort_index())\n",
    "print(missing_data(data_2009_2[c]))"
   ]
  },
  {
   "cell_type": "code",
   "execution_count": 241,
   "metadata": {
    "collapsed": true
   },
   "outputs": [],
   "source": [
    "clean_target(data_2009_2, c)"
   ]
  },
  {
   "cell_type": "code",
   "execution_count": 242,
   "metadata": {
    "collapsed": false,
    "scrolled": true
   },
   "outputs": [
    {
     "name": "stdout",
     "output_type": "stream",
     "text": [
      "Index(['0', '112,93', '15,92', '15,93', '21,61', '25,86', '25,87', '29,33',\n",
      "       '29,35', '32,32', '32,34', '34,98', '35,01', '37,41', '37,44', '39,66',\n",
      "       '39,7', '41,79', '41,83', '43,82', '43,86', '45,79', '45,83', '47,71',\n",
      "       '47,75', '49,59', '49,63', '51,46', '51,5', '53,33', '53,38', '55,22',\n",
      "       '55,26', '57,14', '57,18', '59,12', '59,16', '6,71', '6,72', '61,16',\n",
      "       '61,2', '63,31', '63,35', '65,6', '65,63', '68,06', '68,09', '70,78',\n",
      "       '70,81', '73,85', '73,88', '77,45', '77,47', '81,87', '81,89', '87,79',\n",
      "       '87,81', '97,35', '97,36'],\n",
      "      dtype='object')\n",
      "0            65\n",
      "112,93        1\n",
      "15,92       260\n",
      "15,93       410\n",
      "21,61      2254\n",
      "25,86      3630\n",
      "25,87      2385\n",
      "29,33      7218\n",
      "29,35      5326\n",
      "32,32     11921\n",
      "32,34      8997\n",
      "34,98     17140\n",
      "35,01     13825\n",
      "37,41     21555\n",
      "37,44     17893\n",
      "39,66     24919\n",
      "39,7      20983\n",
      "41,79     26495\n",
      "41,83     22278\n",
      "43,82     26398\n",
      "43,86     21940\n",
      "45,79     25202\n",
      "45,83     21064\n",
      "47,71     23009\n",
      "47,75     19023\n",
      "49,59     20807\n",
      "49,63     16483\n",
      "51,46     17723\n",
      "51,5      14340\n",
      "53,33     15118\n",
      "53,38     11711\n",
      "55,22     12077\n",
      "55,26      9861\n",
      "57,14      9476\n",
      "57,18      7950\n",
      "59,12      7184\n",
      "59,16      6155\n",
      "6,71         58\n",
      "6,72         84\n",
      "61,16      5159\n",
      "61,2       4454\n",
      "63,31      3471\n",
      "63,35      3114\n",
      "65,6       2203\n",
      "65,63      1977\n",
      "68,06      1241\n",
      "68,09      1150\n",
      "70,78       645\n",
      "70,81       629\n",
      "73,85       300\n",
      "73,88       312\n",
      "77,45       126\n",
      "77,47       116\n",
      "81,87        35\n",
      "81,89        46\n",
      "87,79         7\n",
      "87,81        11\n",
      "97,35         3\n",
      "97,36         3\n",
      "Name: PUNT_C_SOCIALES, dtype: int64\n",
      "Elementos null/NaN 0\n",
      "__________________\n",
      "Elementos diferentes de null/NaN: 518220\n",
      "__________________\n",
      "(518220,)\n",
      "None\n"
     ]
    }
   ],
   "source": [
    "c = 'PUNT_C_SOCIALES'\n",
    "print(data_2009_2[c].value_counts().sort_index().index)\n",
    "print(data_2009_2[c].value_counts().sort_index())\n",
    "print(missing_data(data_2009_2[c]))"
   ]
  },
  {
   "cell_type": "code",
   "execution_count": 243,
   "metadata": {
    "collapsed": true
   },
   "outputs": [],
   "source": [
    "clean_target(data_2009_2, c)"
   ]
  },
  {
   "cell_type": "code",
   "execution_count": 244,
   "metadata": {
    "collapsed": false,
    "scrolled": true
   },
   "outputs": [
    {
     "name": "stdout",
     "output_type": "stream",
     "text": [
      "Index(['0', '17,7', '18,12', '23,34', '23,73', '27,6', '27,97', '31,12',\n",
      "       '31,46', '34,19', '34,5', '36,95', '37,24', '39,52', '39,79', '41,95',\n",
      "       '42,19', '44,29', '44,51', '46,59', '46,77', '48,86', '49,02', '51,14',\n",
      "       '51,28', '53,46', '53,59', '55,86', '55,96', '58,36', '58,46', '61,03',\n",
      "       '61,12', '63,91', '64,01', '67,12', '67,23', '70,79', '70,94', '75,23',\n",
      "       '75,43', '8,66', '9,1'],\n",
      "      dtype='object')\n",
      "0         1234\n",
      "17,7      1536\n",
      "18,12     2114\n",
      "23,34     4482\n",
      "23,73     5518\n",
      "27,6      9731\n",
      "27,97    11088\n",
      "31,12    17372\n",
      "31,46    18317\n",
      "34,19    24925\n",
      "34,5     25847\n",
      "36,95    31165\n",
      "37,24    31847\n",
      "39,52    34237\n",
      "39,79    34023\n",
      "41,95    33220\n",
      "42,19    32575\n",
      "44,29    29667\n",
      "44,51    28922\n",
      "46,59    24257\n",
      "46,77    23333\n",
      "48,86    18291\n",
      "49,02    17443\n",
      "51,14    12776\n",
      "51,28    11971\n",
      "53,46     8321\n",
      "53,59     7371\n",
      "55,86     4599\n",
      "55,96     4140\n",
      "58,36     2282\n",
      "58,46     2003\n",
      "61,03      956\n",
      "61,12      843\n",
      "63,91      339\n",
      "64,01      289\n",
      "67,12       94\n",
      "67,23       71\n",
      "70,79       25\n",
      "70,94       22\n",
      "75,23        5\n",
      "75,43        6\n",
      "8,66       414\n",
      "9,1        549\n",
      "Name: PUNT_FILOSOFIA, dtype: int64\n",
      "Elementos null/NaN 0\n",
      "__________________\n",
      "Elementos diferentes de null/NaN: 518220\n",
      "__________________\n",
      "(518220,)\n",
      "None\n"
     ]
    }
   ],
   "source": [
    "c = 'PUNT_FILOSOFIA'\n",
    "print(data_2009_2[c].value_counts().sort_index().index)\n",
    "print(data_2009_2[c].value_counts().sort_index())\n",
    "print(missing_data(data_2009_2[c]))"
   ]
  },
  {
   "cell_type": "code",
   "execution_count": 245,
   "metadata": {
    "collapsed": true
   },
   "outputs": [],
   "source": [
    "clean_target(data_2009_2, c)"
   ]
  },
  {
   "cell_type": "code",
   "execution_count": 246,
   "metadata": {
    "collapsed": false,
    "scrolled": true
   },
   "outputs": [
    {
     "name": "stdout",
     "output_type": "stream",
     "text": [
      "Index(['0', '15,34', '15,43', '23,14', '23,25', '28,08', '28,2', '31,85',\n",
      "       '31,98', '34,98', '35,13', '37,73', '37,89', '40,21', '40,39', '42,51',\n",
      "       '42,7', '44,68', '44,9', '46,76', '47', '48,79', '49,05', '50,78',\n",
      "       '51,06', '52,77', '53,07', '54,77', '55,09', '56,82', '57,16', '58,93',\n",
      "       '59,3', '61,16', '61,56', '63,55', '63,98', '66,19', '66,64', '69,2',\n",
      "       '69,68', '72,82', '73,34', '77,6', '78,14', '85,22', '85,8', '97,73'],\n",
      "      dtype='object')\n",
      "0           90\n",
      "15,34       97\n",
      "15,43      127\n",
      "23,14      460\n",
      "23,25      602\n",
      "28,08     1825\n",
      "28,2      2110\n",
      "31,85     4590\n",
      "31,98     5283\n",
      "34,98     9941\n",
      "35,13    10810\n",
      "37,73    17019\n",
      "37,89    18290\n",
      "40,21    25450\n",
      "40,39    26142\n",
      "42,51    32697\n",
      "42,7     32934\n",
      "44,68    36701\n",
      "44,9     35945\n",
      "46,76    36570\n",
      "47       35606\n",
      "48,79    31770\n",
      "49,05    30886\n",
      "50,78    24102\n",
      "51,06    23708\n",
      "52,77    16668\n",
      "53,07    16130\n",
      "54,77     9838\n",
      "55,09     9778\n",
      "56,82     5518\n",
      "57,16     5352\n",
      "58,93     2863\n",
      "59,3      2703\n",
      "61,16     1419\n",
      "61,56     1438\n",
      "63,55      714\n",
      "63,98      751\n",
      "66,19      357\n",
      "66,64      382\n",
      "69,2       166\n",
      "69,68      169\n",
      "72,82       82\n",
      "73,34       80\n",
      "77,6        23\n",
      "78,14       21\n",
      "85,22        4\n",
      "85,8         8\n",
      "97,73        1\n",
      "Name: PUNT_BIOLOGIA, dtype: int64\n",
      "Elementos null/NaN 0\n",
      "__________________\n",
      "Elementos diferentes de null/NaN: 518220\n",
      "__________________\n",
      "(518220,)\n",
      "None\n"
     ]
    }
   ],
   "source": [
    "c = 'PUNT_BIOLOGIA'\n",
    "print(data_2009_2[c].value_counts().sort_index().index)\n",
    "print(data_2009_2[c].value_counts().sort_index())\n",
    "print(missing_data(data_2009_2[c]))"
   ]
  },
  {
   "cell_type": "code",
   "execution_count": 247,
   "metadata": {
    "collapsed": true
   },
   "outputs": [],
   "source": [
    "clean_target(data_2009_2, c)"
   ]
  },
  {
   "cell_type": "code",
   "execution_count": 248,
   "metadata": {
    "collapsed": false,
    "scrolled": true
   },
   "outputs": [
    {
     "name": "stdout",
     "output_type": "stream",
     "text": [
      "Index(['0', '20,01', '20,45', '26,92', '27,32', '31,24', '31,61', '34,52',\n",
      "       '34,86', '37,23', '37,54', '39,6', '39,89', '41,74', '42,01', '43,72',\n",
      "       '43,97', '45,59', '45,83', '47,38', '47,62', '49,12', '49,37', '50,85',\n",
      "       '51,1', '52,57', '52,83', '54,3', '54,59', '56,08', '56,4', '57,93',\n",
      "       '58,28', '59,89', '60,27', '62', '62,42', '64,33', '64,8', '67',\n",
      "       '67,52', '70,24', '70,81', '74,51', '75,13', '81,36', '82,04', '92,61',\n",
      "       '93,33'],\n",
      "      dtype='object')\n",
      "0          207\n",
      "20,01      304\n",
      "20,45      355\n",
      "26,92     1293\n",
      "27,32     1428\n",
      "31,24     3918\n",
      "31,61     4192\n",
      "34,52     8740\n",
      "34,86     9497\n",
      "37,23    15855\n",
      "37,54    16802\n",
      "39,6     23459\n",
      "39,89    23900\n",
      "41,74    30108\n",
      "42,01    30549\n",
      "43,72    33354\n",
      "43,97    33222\n",
      "45,59    32753\n",
      "45,83    32990\n",
      "47,38    29484\n",
      "47,62    28625\n",
      "49,12    24106\n",
      "49,37    23807\n",
      "50,85    18295\n",
      "51,1     17889\n",
      "52,57    12963\n",
      "52,83    12715\n",
      "54,3      8961\n",
      "54,59     8633\n",
      "56,08     5960\n",
      "56,4      5601\n",
      "57,93     3694\n",
      "58,28     3627\n",
      "59,89     2272\n",
      "60,27     2208\n",
      "62        1391\n",
      "62,42     1352\n",
      "64,33      856\n",
      "64,8       799\n",
      "67         492\n",
      "67,52      459\n",
      "70,24      291\n",
      "70,81      264\n",
      "74,51      170\n",
      "75,13      160\n",
      "81,36       73\n",
      "82,04       94\n",
      "92,61       30\n",
      "93,33       23\n",
      "Name: PUNT_QUIMICA, dtype: int64\n",
      "Elementos null/NaN 0\n",
      "__________________\n",
      "Elementos diferentes de null/NaN: 518220\n",
      "__________________\n",
      "(518220,)\n",
      "None\n"
     ]
    }
   ],
   "source": [
    "c = 'PUNT_QUIMICA'\n",
    "print(data_2009_2[c].value_counts().sort_index().index)\n",
    "print(data_2009_2[c].value_counts().sort_index())\n",
    "print(missing_data(data_2009_2[c]))"
   ]
  },
  {
   "cell_type": "code",
   "execution_count": 249,
   "metadata": {
    "collapsed": true
   },
   "outputs": [],
   "source": [
    "clean_target(data_2009_2, c)"
   ]
  },
  {
   "cell_type": "code",
   "execution_count": 250,
   "metadata": {
    "collapsed": false,
    "scrolled": true
   },
   "outputs": [
    {
     "name": "stdout",
     "output_type": "stream",
     "text": [
      "Index(['0', '14,18', '14,98', '24,05', '24,77', '30,24', '30,87', '34,91',\n",
      "       '35,48', '38,77', '39,28', '42,13', '42,59', '45,15', '45,57', '47,95',\n",
      "       '48,33', '50,58', '50,94', '53,11', '53,43', '55,56', '55,86', '57,99',\n",
      "       '58,27', '60,41', '60,67', '62,86', '63,1', '65,37', '65,6', '67,99',\n",
      "       '68,2', '70,76', '70,96', '73,76', '73,95', '77,08', '77,27', '80,91',\n",
      "       '81,08', '85,54', '85,71', '91,68'],\n",
      "      dtype='object')\n",
      "0          573\n",
      "14,18      795\n",
      "14,98     1025\n",
      "24,05     3858\n",
      "24,77     4525\n",
      "30,24    11171\n",
      "30,87    12230\n",
      "34,91    23345\n",
      "35,48    24826\n",
      "38,77    36372\n",
      "39,28    37735\n",
      "42,13    44506\n",
      "42,59    45198\n",
      "45,15    44687\n",
      "45,57    44391\n",
      "47,95    37324\n",
      "48,33    36108\n",
      "50,58    26188\n",
      "50,94    24771\n",
      "53,11    15771\n",
      "53,43    14605\n",
      "55,56     8419\n",
      "55,86     7442\n",
      "57,99     3816\n",
      "58,27     3411\n",
      "60,41     1657\n",
      "60,67     1419\n",
      "62,86      625\n",
      "63,1       509\n",
      "65,37      243\n",
      "65,6       227\n",
      "67,99      123\n",
      "68,2        83\n",
      "70,76       59\n",
      "70,96       52\n",
      "73,76       45\n",
      "73,95       38\n",
      "77,08       13\n",
      "77,27       10\n",
      "80,91        7\n",
      "81,08        5\n",
      "85,54        6\n",
      "85,71        4\n",
      "91,68        3\n",
      "Name: PUNT_FISICA, dtype: int64\n",
      "Elementos null/NaN 0\n",
      "__________________\n",
      "Elementos diferentes de null/NaN: 518220\n",
      "__________________\n",
      "(518220,)\n",
      "None\n"
     ]
    }
   ],
   "source": [
    "c = 'PUNT_FISICA'\n",
    "print(data_2009_2[c].value_counts().sort_index().index)\n",
    "print(data_2009_2[c].value_counts().sort_index())\n",
    "print(missing_data(data_2009_2[c]))"
   ]
  },
  {
   "cell_type": "code",
   "execution_count": 251,
   "metadata": {
    "collapsed": true
   },
   "outputs": [],
   "source": [
    "clean_target(data_2009_2, c)"
   ]
  },
  {
   "cell_type": "code",
   "execution_count": 252,
   "metadata": {
    "collapsed": false,
    "scrolled": true
   },
   "outputs": [
    {
     "name": "stdout",
     "output_type": "stream",
     "text": [
      "Index(['-1', '0', '10,3', '100', '13,54', '16,64', '19,57', '22,36', '24,99',\n",
      "       '27,46', '29,78', '3,34', '31,94', '33,95', '35,81', '37,51', '39,05',\n",
      "       '40,45', '41,68', '42,76', '43,48', '44,71', '45,94', '47,17', '48,4',\n",
      "       '49,63', '50,86', '52,09', '53,32', '54,9', '56,48', '58,06', '59,64',\n",
      "       '6,9', '61,22', '62,69', '65,1', '67,51', '69,92', '72,32', '74,73',\n",
      "       '77,14', '79,55', '83,41', '88,94', '94,47'],\n",
      "      dtype='object')\n",
      "-1         224\n",
      "0           31\n",
      "10,3        28\n",
      "100         66\n",
      "13,54       55\n",
      "16,64      184\n",
      "19,57      440\n",
      "22,36     1071\n",
      "24,99     2249\n",
      "27,46     4559\n",
      "29,78     7756\n",
      "3,34        12\n",
      "31,94    12744\n",
      "33,95    18885\n",
      "35,81    25581\n",
      "37,51    32723\n",
      "39,05    38704\n",
      "40,45    42967\n",
      "41,68    44627\n",
      "42,76    43331\n",
      "43,48    40086\n",
      "44,71    34773\n",
      "45,94    28785\n",
      "47,17    23573\n",
      "48,4     18331\n",
      "49,63    14417\n",
      "50,86    11326\n",
      "52,09     9262\n",
      "53,32     7488\n",
      "54,9      6298\n",
      "56,48     5481\n",
      "58,06     4808\n",
      "59,64     4282\n",
      "6,9         15\n",
      "61,22     3896\n",
      "62,69     3517\n",
      "65,1      3513\n",
      "67,51     3256\n",
      "69,92     3026\n",
      "72,32     3139\n",
      "74,73     3052\n",
      "77,14     2783\n",
      "79,55     2541\n",
      "83,41     2092\n",
      "88,94     1580\n",
      "94,47      663\n",
      "Name: PUNT_INGLES, dtype: int64\n",
      "Elementos null/NaN 0\n",
      "__________________\n",
      "Elementos diferentes de null/NaN: 518220\n",
      "__________________\n",
      "(518220,)\n",
      "None\n"
     ]
    }
   ],
   "source": [
    "c = 'PUNT_INGLES'\n",
    "print(data_2009_2[c].value_counts().sort_index().index)\n",
    "print(data_2009_2[c].value_counts().sort_index())\n",
    "print(missing_data(data_2009_2[c]))"
   ]
  },
  {
   "cell_type": "code",
   "execution_count": 253,
   "metadata": {
    "collapsed": true
   },
   "outputs": [],
   "source": [
    "clean_target(data_2009_2, c)"
   ]
  },
  {
   "cell_type": "code",
   "execution_count": 254,
   "metadata": {
    "collapsed": false
   },
   "outputs": [
    {
     "name": "stdout",
     "output_type": "stream",
     "text": [
      "Index(['-1', 'A-', 'A- ', 'A1', 'A1 ', 'A2', 'A2 ', 'B+', 'B1', 'B1 '], dtype='object')\n",
      "-1        224\n",
      "A-     275960\n",
      "A-          2\n",
      "A1     180550\n",
      "A1          3\n",
      "A2      32251\n",
      "A2          2\n",
      "B+       4401\n",
      "B1      24826\n",
      "B1          1\n",
      "Name: DESEMP_INGLES, dtype: int64\n",
      "Elementos null/NaN 0\n",
      "__________________\n",
      "Elementos diferentes de null/NaN: 518220\n",
      "__________________\n",
      "(518220,)\n",
      "None\n"
     ]
    }
   ],
   "source": [
    "c = 'DESEMP_INGLES'\n",
    "print(data_2009_2[c].value_counts().sort_index().index)\n",
    "print(data_2009_2[c].value_counts().sort_index())\n",
    "print(missing_data(data_2009_2[c]))"
   ]
  },
  {
   "cell_type": "code",
   "execution_count": 255,
   "metadata": {
    "collapsed": true
   },
   "outputs": [],
   "source": [
    "data_2009_2[c] = data_2009_2[c].replace('A- ', 'A-')\n",
    "data_2009_2[c] = data_2009_2[c].replace('A1 ', 'A1')\n",
    "data_2009_2[c] = data_2009_2[c].replace('A2 ', 'A2')\n",
    "data_2009_2[c] = data_2009_2[c].replace('B1 ', 'B1')"
   ]
  },
  {
   "cell_type": "code",
   "execution_count": 256,
   "metadata": {
    "collapsed": false
   },
   "outputs": [
    {
     "name": "stdout",
     "output_type": "stream",
     "text": [
      "Index(['PROFUNDIZACIÓN EN BIOLOGÍA', 'PROFUNDIZACIÓN EN CIENCIAS SOCIALES',\n",
      "       'PROFUNDIZACIÓN EN LENGUAJE', 'PROFUNDIZACIÓN EN MATEMÁTICA'],\n",
      "      dtype='object')\n",
      "PROFUNDIZACIÓN EN BIOLOGÍA             153228\n",
      "PROFUNDIZACIÓN EN CIENCIAS SOCIALES    109242\n",
      "PROFUNDIZACIÓN EN LENGUAJE             175729\n",
      "PROFUNDIZACIÓN EN MATEMÁTICA            80021\n",
      "Name: NOMBRE_PROFUNDIZACION, dtype: int64\n",
      "Elementos null/NaN 0\n",
      "__________________\n",
      "Elementos diferentes de null/NaN: 518220\n",
      "__________________\n",
      "(518220,)\n",
      "None\n"
     ]
    }
   ],
   "source": [
    "c = 'NOMBRE_PROFUNDIZACION'\n",
    "print(data_2009_2[c].value_counts().sort_index().index)\n",
    "print(data_2009_2[c].value_counts().sort_index())\n",
    "print(missing_data(data_2009_2[c]))"
   ]
  },
  {
   "cell_type": "code",
   "execution_count": 257,
   "metadata": {
    "collapsed": false,
    "scrolled": true
   },
   "outputs": [
    {
     "name": "stdout",
     "output_type": "stream",
     "text": [
      "Index(['0', '10', '3', '3,4', '3,9', '4,1', '4,4', '4,5', '4,6', '4,7', '4,9',\n",
      "       '5', '5,2', '5,3', '5,4', '5,5', '5,6', '5,8', '5,9', '6', '6,2', '6,3',\n",
      "       '6,5', '6,6', '6,8', '7', '7,1', '7,3', '7,4', '7,5', '7,7', '7,9', '8',\n",
      "       '8,2', '8,3', '8,7', '8,9'],\n",
      "      dtype='object')\n",
      "0      12672\n",
      "10         3\n",
      "3       3855\n",
      "3,4     9918\n",
      "3,9    10768\n",
      "4,1    34436\n",
      "4,4    20585\n",
      "4,5    18879\n",
      "4,6    33808\n",
      "4,7    18423\n",
      "4,9    59805\n",
      "5      35031\n",
      "5,2    48188\n",
      "5,3    21469\n",
      "5,4    36437\n",
      "5,5    33744\n",
      "5,6    15467\n",
      "5,8    46312\n",
      "5,9     8803\n",
      "6      24661\n",
      "6,2     3984\n",
      "6,3    11326\n",
      "6,5     4893\n",
      "6,6     1068\n",
      "6,8     1738\n",
      "7        961\n",
      "7,1      194\n",
      "7,3      238\n",
      "7,4      230\n",
      "7,5      124\n",
      "7,7       32\n",
      "7,9       94\n",
      "8          2\n",
      "8,2       20\n",
      "8,3       29\n",
      "8,7       11\n",
      "8,9       12\n",
      "Name: PUNT_PROFUNDIZACION, dtype: int64\n",
      "Elementos null/NaN 0\n",
      "__________________\n",
      "Elementos diferentes de null/NaN: 518220\n",
      "__________________\n",
      "(518220,)\n",
      "None\n"
     ]
    }
   ],
   "source": [
    "c = 'PUNT_PROFUNDIZACION'\n",
    "print(data_2009_2[c].value_counts().sort_index().index)\n",
    "print(data_2009_2[c].value_counts().sort_index())\n",
    "print(missing_data(data_2009_2[c]))"
   ]
  },
  {
   "cell_type": "code",
   "execution_count": 258,
   "metadata": {
    "collapsed": true
   },
   "outputs": [],
   "source": [
    "clean_target(data_2009_2, c)"
   ]
  },
  {
   "cell_type": "code",
   "execution_count": 259,
   "metadata": {
    "collapsed": false
   },
   "outputs": [
    {
     "name": "stdout",
     "output_type": "stream",
     "text": [
      "Index(['GB', 'GB ', 'I', 'I  ', 'II', 'II ', 'III'], dtype='object')\n",
      "GB     179949\n",
      "GB          3\n",
      "I      285183\n",
      "I           6\n",
      "II      50864\n",
      "II          1\n",
      "III      2214\n",
      "Name: DESEMP_PROFUNDIZACION, dtype: int64\n",
      "Elementos null/NaN 0\n",
      "__________________\n",
      "Elementos diferentes de null/NaN: 518220\n",
      "__________________\n",
      "(518220,)\n",
      "None\n"
     ]
    }
   ],
   "source": [
    "c = 'DESEMP_PROFUNDIZACION'\n",
    "print(data_2009_2[c].value_counts().sort_index().index)\n",
    "print(data_2009_2[c].value_counts().sort_index())\n",
    "print(missing_data(data_2009_2[c]))"
   ]
  },
  {
   "cell_type": "code",
   "execution_count": 260,
   "metadata": {
    "collapsed": true
   },
   "outputs": [],
   "source": [
    "data_2009_2[c] = data_2009_2[c].replace('GB ', 'GB')\n",
    "data_2009_2[c] = data_2009_2[c].replace('I ', 'I')\n",
    "data_2009_2[c] = data_2009_2[c].replace('II ', 'II')"
   ]
  },
  {
   "cell_type": "code",
   "execution_count": 261,
   "metadata": {
    "collapsed": false
   },
   "outputs": [
    {
     "name": "stdout",
     "output_type": "stream",
     "text": [
      "Index(['MEDIO AMBIENTE', 'VIOLENCIA Y SOCIEDAD'], dtype='object')\n",
      "MEDIO AMBIENTE          286296\n",
      "VIOLENCIA Y SOCIEDAD    231924\n",
      "Name: NOMBRE_INTERDISCIPLINAR, dtype: int64\n",
      "Elementos null/NaN 0\n",
      "__________________\n",
      "Elementos diferentes de null/NaN: 518220\n",
      "__________________\n",
      "(518220,)\n",
      "None\n"
     ]
    }
   ],
   "source": [
    "c = 'NOMBRE_INTERDISCIPLINAR'\n",
    "print(data_2009_2[c].value_counts().sort_index().index)\n",
    "print(data_2009_2[c].value_counts().sort_index())\n",
    "print(missing_data(data_2009_2[c]))"
   ]
  },
  {
   "cell_type": "code",
   "execution_count": 262,
   "metadata": {
    "collapsed": false,
    "scrolled": true
   },
   "outputs": [
    {
     "name": "stdout",
     "output_type": "stream",
     "text": [
      "Index(['0', '23,81', '31,88', '37,05', '41,09', '44,57', '45,49', '47,69',\n",
      "       '47,74', '49,13', '50,25', '50,76', '51,23', '52,12', '52,97', '53,75',\n",
      "       '53,81', '54,66', '55,56', '56,55', '56,79', '57,69', '59,14', '60,01',\n",
      "       '61,35', '63,56', '64,83', '67,71', '73', '81,21', '94,32'],\n",
      "      dtype='object')\n",
      "0         2990\n",
      "23,81     6755\n",
      "31,88    18653\n",
      "37,05    32004\n",
      "41,09    39252\n",
      "44,57    37492\n",
      "45,49     5893\n",
      "47,69    16635\n",
      "47,74    30662\n",
      "49,13    30948\n",
      "50,25    41483\n",
      "50,76    22844\n",
      "51,23    45835\n",
      "52,12    43779\n",
      "52,97    36327\n",
      "53,75    15915\n",
      "53,81    26984\n",
      "54,66    17683\n",
      "55,56    10512\n",
      "56,55     5161\n",
      "56,79    11088\n",
      "57,69     2486\n",
      "59,14      848\n",
      "60,01     7545\n",
      "61,35      258\n",
      "63,56     4553\n",
      "64,83       32\n",
      "67,71     2385\n",
      "73         950\n",
      "81,21      241\n",
      "94,32       27\n",
      "Name: PUNT_INTERDISCIPLINAR, dtype: int64\n",
      "Elementos null/NaN 0\n",
      "__________________\n",
      "Elementos diferentes de null/NaN: 518220\n",
      "__________________\n",
      "(518220,)\n",
      "None\n"
     ]
    }
   ],
   "source": [
    "c = 'PUNT_INTERDISCIPLINAR'\n",
    "print(data_2009_2[c].value_counts().sort_index().index)\n",
    "print(data_2009_2[c].value_counts().sort_index())\n",
    "print(missing_data(data_2009_2[c]))"
   ]
  },
  {
   "cell_type": "code",
   "execution_count": 263,
   "metadata": {
    "collapsed": true
   },
   "outputs": [],
   "source": [
    "clean_target(data_2009_2, c)"
   ]
  },
  {
   "cell_type": "code",
   "execution_count": 264,
   "metadata": {
    "collapsed": false,
    "scrolled": true
   },
   "outputs": [
    {
     "name": "stdout",
     "output_type": "stream",
     "text": [
      "Int64Index([   1,    2,    3,    4,    5,    6,    7,    8,    9,   10,\n",
      "            ...\n",
      "             991,  992,  993,  994,  995,  996,  997,  998,  999, 1000],\n",
      "           dtype='int64', length=1000)\n",
      "1       519\n",
      "2       519\n",
      "3       519\n",
      "4       519\n",
      "5       518\n",
      "6       519\n",
      "7       519\n",
      "8       520\n",
      "9       518\n",
      "10      519\n",
      "11      519\n",
      "12      519\n",
      "13      518\n",
      "14      517\n",
      "15      519\n",
      "16      519\n",
      "17      517\n",
      "18      518\n",
      "19      518\n",
      "20      519\n",
      "21      519\n",
      "22      519\n",
      "23      517\n",
      "24      518\n",
      "25      516\n",
      "26      518\n",
      "27      518\n",
      "28      519\n",
      "29      519\n",
      "30      519\n",
      "       ... \n",
      "971     520\n",
      "972     519\n",
      "973     518\n",
      "974     518\n",
      "975     518\n",
      "976     520\n",
      "977     518\n",
      "978     518\n",
      "979     518\n",
      "980     519\n",
      "981     518\n",
      "982     519\n",
      "983     517\n",
      "984     519\n",
      "985     518\n",
      "986     518\n",
      "987     518\n",
      "988     519\n",
      "989     519\n",
      "990     518\n",
      "991     518\n",
      "992     518\n",
      "993     519\n",
      "994     518\n",
      "995     520\n",
      "996     518\n",
      "997     518\n",
      "998     519\n",
      "999     519\n",
      "1000    146\n",
      "Name: ESTU_PUESTO, dtype: int64\n",
      "Elementos null/NaN 0\n",
      "__________________\n",
      "Elementos diferentes de null/NaN: 518220\n",
      "__________________\n",
      "(518220,)\n",
      "None\n"
     ]
    }
   ],
   "source": [
    "c = 'ESTU_PUESTO'\n",
    "print(data_2009_2[c].value_counts().sort_index().index)\n",
    "print(data_2009_2[c].value_counts().sort_index())\n",
    "print(missing_data(data_2009_2[c]))"
   ]
  },
  {
   "cell_type": "markdown",
   "metadata": {},
   "source": [
    "Now i can transform the obtained Dataframes in csv files"
   ]
  },
  {
   "cell_type": "code",
   "execution_count": 266,
   "metadata": {
    "collapsed": false
   },
   "outputs": [],
   "source": [
    "data_2009.to_csv('../DatosFTPICFES/SABER11/SB11-BASES_DE_DATOS/READY/2009_1.csv', sep=';', index=False)\n",
    "data_2009_2.to_csv('../DatosFTPICFES/SABER11/SB11-BASES_DE_DATOS/READY/2009_2.csv', sep=';', index=False)"
   ]
  }
 ],
 "metadata": {
  "kernelspec": {
   "display_name": "Python 3",
   "language": "python",
   "name": "python3"
  },
  "language_info": {
   "codemirror_mode": {
    "name": "ipython",
    "version": 3
   },
   "file_extension": ".py",
   "mimetype": "text/x-python",
   "name": "python",
   "nbconvert_exporter": "python",
   "pygments_lexer": "ipython3",
   "version": "3.4.2"
  }
 },
 "nbformat": 4,
 "nbformat_minor": 0
}
