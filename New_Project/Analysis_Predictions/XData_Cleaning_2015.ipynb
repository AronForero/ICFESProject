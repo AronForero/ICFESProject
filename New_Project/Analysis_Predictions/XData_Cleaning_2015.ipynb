{
 "cells": [
  {
   "cell_type": "code",
   "execution_count": 1,
   "metadata": {
    "collapsed": true
   },
   "outputs": [],
   "source": [
    "import pandas as pd\n",
    "import numpy as np\n",
    "%run -i ../tools/functions.py\n",
    "%run -i ../tools/label_encoder.py"
   ]
  },
  {
   "cell_type": "code",
   "execution_count": 2,
   "metadata": {
    "collapsed": false
   },
   "outputs": [
    {
     "name": "stderr",
     "output_type": "stream",
     "text": [
      "/usr/local/lib/python3.4/dist-packages/IPython/core/interactiveshell.py:2902: DtypeWarning: Columns (9,10,11,12,13,14,27,104,110) have mixed types. Specify dtype option on import or set low_memory=False.\n",
      "  interactivity=interactivity, compiler=compiler, result=result)\n"
     ]
    }
   ],
   "source": [
    "data_2015 = pd.read_csv('../DatosFTPICFES/SABER11/SB11-BASES_DE_DATOS/SB11-20151-RGSTRO-CLFCCN-V3-0.txt', delimiter = '|')"
   ]
  },
  {
   "cell_type": "code",
   "execution_count": 3,
   "metadata": {
    "collapsed": false
   },
   "outputs": [
    {
     "data": {
      "text/plain": [
       "(106540, 128)"
      ]
     },
     "execution_count": 3,
     "metadata": {},
     "output_type": "execute_result"
    }
   ],
   "source": [
    "data_2015.shape"
   ]
  },
  {
   "cell_type": "code",
   "execution_count": 4,
   "metadata": {
    "collapsed": false,
    "scrolled": true
   },
   "outputs": [
    {
     "data": {
      "text/html": [
       "<div>\n",
       "<table border=\"1\" class=\"dataframe\">\n",
       "  <thead>\n",
       "    <tr style=\"text-align: right;\">\n",
       "      <th></th>\n",
       "      <th>0</th>\n",
       "      <th>1</th>\n",
       "      <th>2</th>\n",
       "    </tr>\n",
       "  </thead>\n",
       "  <tbody>\n",
       "    <tr>\n",
       "      <th>PERIODO</th>\n",
       "      <td>20151</td>\n",
       "      <td>20151</td>\n",
       "      <td>20151</td>\n",
       "    </tr>\n",
       "    <tr>\n",
       "      <th>ESTU_CONSECUTIVO</th>\n",
       "      <td>SABER1120151000001</td>\n",
       "      <td>SABER1120151000002</td>\n",
       "      <td>SABER1120151000003</td>\n",
       "    </tr>\n",
       "    <tr>\n",
       "      <th>ESTU_ESTUDIANTE</th>\n",
       "      <td>INDIVIDUAL</td>\n",
       "      <td>ESTUDIANTE</td>\n",
       "      <td>INDIVIDUAL</td>\n",
       "    </tr>\n",
       "    <tr>\n",
       "      <th>ESTU_EDAD</th>\n",
       "      <td>26</td>\n",
       "      <td>28</td>\n",
       "      <td>41</td>\n",
       "    </tr>\n",
       "    <tr>\n",
       "      <th>ESTU_TIPO_DOCUMENTO</th>\n",
       "      <td>CC</td>\n",
       "      <td>CC</td>\n",
       "      <td>CC</td>\n",
       "    </tr>\n",
       "    <tr>\n",
       "      <th>ESTU_PAIS_RESIDE</th>\n",
       "      <td>1</td>\n",
       "      <td>1</td>\n",
       "      <td>1</td>\n",
       "    </tr>\n",
       "    <tr>\n",
       "      <th>ESTU_GENERO</th>\n",
       "      <td>M</td>\n",
       "      <td>F</td>\n",
       "      <td>F</td>\n",
       "    </tr>\n",
       "    <tr>\n",
       "      <th>ESTU_FECHA_NACIMIENTO</th>\n",
       "      <td>29/10/1988</td>\n",
       "      <td>09/09/1986</td>\n",
       "      <td>11/10/1973</td>\n",
       "    </tr>\n",
       "    <tr>\n",
       "      <th>ESTU_ETNIA</th>\n",
       "      <td>NaN</td>\n",
       "      <td>100</td>\n",
       "      <td>100</td>\n",
       "    </tr>\n",
       "    <tr>\n",
       "      <th>ESTU_LIMITA_MOTRIZ</th>\n",
       "      <td>NaN</td>\n",
       "      <td>NaN</td>\n",
       "      <td>NaN</td>\n",
       "    </tr>\n",
       "    <tr>\n",
       "      <th>ESTU_LIMITA_INVIDENTE</th>\n",
       "      <td>NaN</td>\n",
       "      <td>NaN</td>\n",
       "      <td>NaN</td>\n",
       "    </tr>\n",
       "    <tr>\n",
       "      <th>ESTU_LIMITA_CONDICIONESPECIAL</th>\n",
       "      <td>NaN</td>\n",
       "      <td>NaN</td>\n",
       "      <td>NaN</td>\n",
       "    </tr>\n",
       "    <tr>\n",
       "      <th>ESTU_LIMITA_SORDO</th>\n",
       "      <td>NaN</td>\n",
       "      <td>NaN</td>\n",
       "      <td>NaN</td>\n",
       "    </tr>\n",
       "    <tr>\n",
       "      <th>ESTU_LIMITA_SDOWN</th>\n",
       "      <td>NaN</td>\n",
       "      <td>NaN</td>\n",
       "      <td>NaN</td>\n",
       "    </tr>\n",
       "    <tr>\n",
       "      <th>ESTU_LIMITA_AUTISMO</th>\n",
       "      <td>NaN</td>\n",
       "      <td>NaN</td>\n",
       "      <td>NaN</td>\n",
       "    </tr>\n",
       "    <tr>\n",
       "      <th>COLE_COD_MCPIO_UBICACION</th>\n",
       "      <td>NaN</td>\n",
       "      <td>20011</td>\n",
       "      <td>NaN</td>\n",
       "    </tr>\n",
       "    <tr>\n",
       "      <th>ESTU_RESIDE_MCPIO</th>\n",
       "      <td>CALI</td>\n",
       "      <td>AGUACHICA</td>\n",
       "      <td>PUERTO LOPEZ</td>\n",
       "    </tr>\n",
       "    <tr>\n",
       "      <th>ESTU_RESIDE_DEPTO</th>\n",
       "      <td>VALLE</td>\n",
       "      <td>CESAR</td>\n",
       "      <td>META</td>\n",
       "    </tr>\n",
       "    <tr>\n",
       "      <th>ESTU_COD_RESIDE_MCPIO</th>\n",
       "      <td>76001</td>\n",
       "      <td>20011</td>\n",
       "      <td>50573</td>\n",
       "    </tr>\n",
       "    <tr>\n",
       "      <th>ESTU_ZONA_RESIDE</th>\n",
       "      <td>1</td>\n",
       "      <td>10</td>\n",
       "      <td>10</td>\n",
       "    </tr>\n",
       "    <tr>\n",
       "      <th>COLE_COD_DANE_INSTITUCION</th>\n",
       "      <td>NaN</td>\n",
       "      <td>3.20011e+11</td>\n",
       "      <td>NaN</td>\n",
       "    </tr>\n",
       "    <tr>\n",
       "      <th>COLE_COD_ICFES</th>\n",
       "      <td>NaN</td>\n",
       "      <td>143503</td>\n",
       "      <td>NaN</td>\n",
       "    </tr>\n",
       "    <tr>\n",
       "      <th>COLE_NOMBRE_SEDE</th>\n",
       "      <td>NaN</td>\n",
       "      <td>CORPORACION DE EDUCACION TECNICA DEL ORIENTE -...</td>\n",
       "      <td>NaN</td>\n",
       "    </tr>\n",
       "    <tr>\n",
       "      <th>COLE_JORNADA</th>\n",
       "      <td>NaN</td>\n",
       "      <td>S</td>\n",
       "      <td>NaN</td>\n",
       "    </tr>\n",
       "    <tr>\n",
       "      <th>COLE_GENERO</th>\n",
       "      <td>NaN</td>\n",
       "      <td>MIXTO</td>\n",
       "      <td>NaN</td>\n",
       "    </tr>\n",
       "    <tr>\n",
       "      <th>COLE_CARACTER</th>\n",
       "      <td>NaN</td>\n",
       "      <td>ACADÉMICO</td>\n",
       "      <td>NaN</td>\n",
       "    </tr>\n",
       "    <tr>\n",
       "      <th>COLE_NATURALEZA</th>\n",
       "      <td>OTRO</td>\n",
       "      <td>NO OFICIAL</td>\n",
       "      <td>OTRO</td>\n",
       "    </tr>\n",
       "    <tr>\n",
       "      <th>COLE_BILINGUE</th>\n",
       "      <td>NaN</td>\n",
       "      <td>NaN</td>\n",
       "      <td>NaN</td>\n",
       "    </tr>\n",
       "    <tr>\n",
       "      <th>COLE_CALENDARIO</th>\n",
       "      <td>NaN</td>\n",
       "      <td>A</td>\n",
       "      <td>NaN</td>\n",
       "    </tr>\n",
       "    <tr>\n",
       "      <th>ESTU_AREA_RESIDE</th>\n",
       "      <td>U</td>\n",
       "      <td>U</td>\n",
       "      <td>U</td>\n",
       "    </tr>\n",
       "    <tr>\n",
       "      <th>...</th>\n",
       "      <td>...</td>\n",
       "      <td>...</td>\n",
       "      <td>...</td>\n",
       "    </tr>\n",
       "    <tr>\n",
       "      <th>FAMI_LAVADORA</th>\n",
       "      <td>S</td>\n",
       "      <td>S</td>\n",
       "      <td>S</td>\n",
       "    </tr>\n",
       "    <tr>\n",
       "      <th>FAMI_MICROONDAS</th>\n",
       "      <td>S</td>\n",
       "      <td>S</td>\n",
       "      <td>N</td>\n",
       "    </tr>\n",
       "    <tr>\n",
       "      <th>FAMI_AUTOMOVIL</th>\n",
       "      <td>S</td>\n",
       "      <td>S</td>\n",
       "      <td>N</td>\n",
       "    </tr>\n",
       "    <tr>\n",
       "      <th>FAMI_HORNO</th>\n",
       "      <td>S</td>\n",
       "      <td>S</td>\n",
       "      <td>N</td>\n",
       "    </tr>\n",
       "    <tr>\n",
       "      <th>FAMI_INGRESO_FMILIAR_MENSUAL</th>\n",
       "      <td>4</td>\n",
       "      <td>2</td>\n",
       "      <td>3</td>\n",
       "    </tr>\n",
       "    <tr>\n",
       "      <th>ESTU_TRABAJA</th>\n",
       "      <td>NaN</td>\n",
       "      <td>1</td>\n",
       "      <td>NaN</td>\n",
       "    </tr>\n",
       "    <tr>\n",
       "      <th>ESTU_RECIBE_SALARIO</th>\n",
       "      <td>NaN</td>\n",
       "      <td>NaN</td>\n",
       "      <td>NaN</td>\n",
       "    </tr>\n",
       "    <tr>\n",
       "      <th>ESTU_VECES_ESTADO</th>\n",
       "      <td>4</td>\n",
       "      <td>NaN</td>\n",
       "      <td>4</td>\n",
       "    </tr>\n",
       "    <tr>\n",
       "      <th>ESTU_COD_DEPTO_PRESENTACION</th>\n",
       "      <td>76</td>\n",
       "      <td>20</td>\n",
       "      <td>50</td>\n",
       "    </tr>\n",
       "    <tr>\n",
       "      <th>ESTU_COD_MCPIO_PRESENTACION</th>\n",
       "      <td>76001</td>\n",
       "      <td>20011</td>\n",
       "      <td>50001</td>\n",
       "    </tr>\n",
       "    <tr>\n",
       "      <th>ESTU_MCPIO_PRESENTACION</th>\n",
       "      <td>CALI</td>\n",
       "      <td>AGUACHICA</td>\n",
       "      <td>VILLAVICENCIO</td>\n",
       "    </tr>\n",
       "    <tr>\n",
       "      <th>ESTU_DEPTO_PRESENTACION</th>\n",
       "      <td>VALLE</td>\n",
       "      <td>CESAR</td>\n",
       "      <td>META</td>\n",
       "    </tr>\n",
       "    <tr>\n",
       "      <th>ESTU_COD_PLANTEL</th>\n",
       "      <td>1015</td>\n",
       "      <td>NaN</td>\n",
       "      <td>NaN</td>\n",
       "    </tr>\n",
       "    <tr>\n",
       "      <th>DECIL_LECTURA_CRITICA</th>\n",
       "      <td>D06</td>\n",
       "      <td>D01</td>\n",
       "      <td>D06</td>\n",
       "    </tr>\n",
       "    <tr>\n",
       "      <th>PUNT_LECTURA_CRITICA</th>\n",
       "      <td>53</td>\n",
       "      <td>37</td>\n",
       "      <td>55</td>\n",
       "    </tr>\n",
       "    <tr>\n",
       "      <th>DECIL_MATEMATICAS</th>\n",
       "      <td>D10</td>\n",
       "      <td>D03</td>\n",
       "      <td>D09</td>\n",
       "    </tr>\n",
       "    <tr>\n",
       "      <th>PUNT_MATEMATICAS</th>\n",
       "      <td>83</td>\n",
       "      <td>45</td>\n",
       "      <td>71</td>\n",
       "    </tr>\n",
       "    <tr>\n",
       "      <th>DECIL_C_NATURALES</th>\n",
       "      <td>D06</td>\n",
       "      <td>D01</td>\n",
       "      <td>D08</td>\n",
       "    </tr>\n",
       "    <tr>\n",
       "      <th>PUNT_C_NATURALES</th>\n",
       "      <td>57</td>\n",
       "      <td>32</td>\n",
       "      <td>69</td>\n",
       "    </tr>\n",
       "    <tr>\n",
       "      <th>DECIL_SOCIALES_CIUDADANAS</th>\n",
       "      <td>D09</td>\n",
       "      <td>D01</td>\n",
       "      <td>D07</td>\n",
       "    </tr>\n",
       "    <tr>\n",
       "      <th>PUNT_SOCIALES_CIUDADANAS</th>\n",
       "      <td>74</td>\n",
       "      <td>34</td>\n",
       "      <td>60</td>\n",
       "    </tr>\n",
       "    <tr>\n",
       "      <th>DECIL_INGLES</th>\n",
       "      <td>D10</td>\n",
       "      <td>D04</td>\n",
       "      <td>D07</td>\n",
       "    </tr>\n",
       "    <tr>\n",
       "      <th>DESEMP_INGLES</th>\n",
       "      <td>B+</td>\n",
       "      <td>A-</td>\n",
       "      <td>A2</td>\n",
       "    </tr>\n",
       "    <tr>\n",
       "      <th>PUNT_INGLES</th>\n",
       "      <td>95</td>\n",
       "      <td>49</td>\n",
       "      <td>59</td>\n",
       "    </tr>\n",
       "    <tr>\n",
       "      <th>DECIL_RAZONA_CUANT</th>\n",
       "      <td>D09</td>\n",
       "      <td>D05</td>\n",
       "      <td>D09</td>\n",
       "    </tr>\n",
       "    <tr>\n",
       "      <th>PUNT_RAZONA_CUANT</th>\n",
       "      <td>73</td>\n",
       "      <td>52</td>\n",
       "      <td>73</td>\n",
       "    </tr>\n",
       "    <tr>\n",
       "      <th>DECIL_COMP_CIUDADANA</th>\n",
       "      <td>D08</td>\n",
       "      <td>D01</td>\n",
       "      <td>D07</td>\n",
       "    </tr>\n",
       "    <tr>\n",
       "      <th>PUNT_COMP_CIUDADANA</th>\n",
       "      <td>66</td>\n",
       "      <td>30</td>\n",
       "      <td>58</td>\n",
       "    </tr>\n",
       "    <tr>\n",
       "      <th>PUNT_GLOBAL</th>\n",
       "      <td>345</td>\n",
       "      <td>190</td>\n",
       "      <td>317</td>\n",
       "    </tr>\n",
       "    <tr>\n",
       "      <th>ESTU_PUESTO</th>\n",
       "      <td>188</td>\n",
       "      <td>906</td>\n",
       "      <td>286</td>\n",
       "    </tr>\n",
       "  </tbody>\n",
       "</table>\n",
       "<p>128 rows × 3 columns</p>\n",
       "</div>"
      ],
      "text/plain": [
       "                                                0  \\\n",
       "PERIODO                                     20151   \n",
       "ESTU_CONSECUTIVO               SABER1120151000001   \n",
       "ESTU_ESTUDIANTE                        INDIVIDUAL   \n",
       "ESTU_EDAD                                      26   \n",
       "ESTU_TIPO_DOCUMENTO                            CC   \n",
       "ESTU_PAIS_RESIDE                                1   \n",
       "ESTU_GENERO                                     M   \n",
       "ESTU_FECHA_NACIMIENTO                  29/10/1988   \n",
       "ESTU_ETNIA                                    NaN   \n",
       "ESTU_LIMITA_MOTRIZ                            NaN   \n",
       "ESTU_LIMITA_INVIDENTE                         NaN   \n",
       "ESTU_LIMITA_CONDICIONESPECIAL                 NaN   \n",
       "ESTU_LIMITA_SORDO                             NaN   \n",
       "ESTU_LIMITA_SDOWN                             NaN   \n",
       "ESTU_LIMITA_AUTISMO                           NaN   \n",
       "COLE_COD_MCPIO_UBICACION                      NaN   \n",
       "ESTU_RESIDE_MCPIO                            CALI   \n",
       "ESTU_RESIDE_DEPTO                           VALLE   \n",
       "ESTU_COD_RESIDE_MCPIO                       76001   \n",
       "ESTU_ZONA_RESIDE                                1   \n",
       "COLE_COD_DANE_INSTITUCION                     NaN   \n",
       "COLE_COD_ICFES                                NaN   \n",
       "COLE_NOMBRE_SEDE                              NaN   \n",
       "COLE_JORNADA                                  NaN   \n",
       "COLE_GENERO                                   NaN   \n",
       "COLE_CARACTER                                 NaN   \n",
       "COLE_NATURALEZA                              OTRO   \n",
       "COLE_BILINGUE                                 NaN   \n",
       "COLE_CALENDARIO                               NaN   \n",
       "ESTU_AREA_RESIDE                                U   \n",
       "...                                           ...   \n",
       "FAMI_LAVADORA                                   S   \n",
       "FAMI_MICROONDAS                                 S   \n",
       "FAMI_AUTOMOVIL                                  S   \n",
       "FAMI_HORNO                                      S   \n",
       "FAMI_INGRESO_FMILIAR_MENSUAL                    4   \n",
       "ESTU_TRABAJA                                  NaN   \n",
       "ESTU_RECIBE_SALARIO                           NaN   \n",
       "ESTU_VECES_ESTADO                               4   \n",
       "ESTU_COD_DEPTO_PRESENTACION                    76   \n",
       "ESTU_COD_MCPIO_PRESENTACION                 76001   \n",
       "ESTU_MCPIO_PRESENTACION                      CALI   \n",
       "ESTU_DEPTO_PRESENTACION                     VALLE   \n",
       "ESTU_COD_PLANTEL                             1015   \n",
       "DECIL_LECTURA_CRITICA                         D06   \n",
       "PUNT_LECTURA_CRITICA                           53   \n",
       "DECIL_MATEMATICAS                             D10   \n",
       "PUNT_MATEMATICAS                               83   \n",
       "DECIL_C_NATURALES                             D06   \n",
       "PUNT_C_NATURALES                               57   \n",
       "DECIL_SOCIALES_CIUDADANAS                     D09   \n",
       "PUNT_SOCIALES_CIUDADANAS                       74   \n",
       "DECIL_INGLES                                  D10   \n",
       "DESEMP_INGLES                                  B+   \n",
       "PUNT_INGLES                                    95   \n",
       "DECIL_RAZONA_CUANT                            D09   \n",
       "PUNT_RAZONA_CUANT                              73   \n",
       "DECIL_COMP_CIUDADANA                          D08   \n",
       "PUNT_COMP_CIUDADANA                            66   \n",
       "PUNT_GLOBAL                                   345   \n",
       "ESTU_PUESTO                                   188   \n",
       "\n",
       "                                                                               1  \\\n",
       "PERIODO                                                                    20151   \n",
       "ESTU_CONSECUTIVO                                              SABER1120151000002   \n",
       "ESTU_ESTUDIANTE                                                       ESTUDIANTE   \n",
       "ESTU_EDAD                                                                     28   \n",
       "ESTU_TIPO_DOCUMENTO                                                           CC   \n",
       "ESTU_PAIS_RESIDE                                                               1   \n",
       "ESTU_GENERO                                                                    F   \n",
       "ESTU_FECHA_NACIMIENTO                                                 09/09/1986   \n",
       "ESTU_ETNIA                                                                   100   \n",
       "ESTU_LIMITA_MOTRIZ                                                           NaN   \n",
       "ESTU_LIMITA_INVIDENTE                                                        NaN   \n",
       "ESTU_LIMITA_CONDICIONESPECIAL                                                NaN   \n",
       "ESTU_LIMITA_SORDO                                                            NaN   \n",
       "ESTU_LIMITA_SDOWN                                                            NaN   \n",
       "ESTU_LIMITA_AUTISMO                                                          NaN   \n",
       "COLE_COD_MCPIO_UBICACION                                                   20011   \n",
       "ESTU_RESIDE_MCPIO                                                      AGUACHICA   \n",
       "ESTU_RESIDE_DEPTO                                                          CESAR   \n",
       "ESTU_COD_RESIDE_MCPIO                                                      20011   \n",
       "ESTU_ZONA_RESIDE                                                              10   \n",
       "COLE_COD_DANE_INSTITUCION                                            3.20011e+11   \n",
       "COLE_COD_ICFES                                                            143503   \n",
       "COLE_NOMBRE_SEDE               CORPORACION DE EDUCACION TECNICA DEL ORIENTE -...   \n",
       "COLE_JORNADA                                                                   S   \n",
       "COLE_GENERO                                                                MIXTO   \n",
       "COLE_CARACTER                                                          ACADÉMICO   \n",
       "COLE_NATURALEZA                                                       NO OFICIAL   \n",
       "COLE_BILINGUE                                                                NaN   \n",
       "COLE_CALENDARIO                                                                A   \n",
       "ESTU_AREA_RESIDE                                                               U   \n",
       "...                                                                          ...   \n",
       "FAMI_LAVADORA                                                                  S   \n",
       "FAMI_MICROONDAS                                                                S   \n",
       "FAMI_AUTOMOVIL                                                                 S   \n",
       "FAMI_HORNO                                                                     S   \n",
       "FAMI_INGRESO_FMILIAR_MENSUAL                                                   2   \n",
       "ESTU_TRABAJA                                                                   1   \n",
       "ESTU_RECIBE_SALARIO                                                          NaN   \n",
       "ESTU_VECES_ESTADO                                                            NaN   \n",
       "ESTU_COD_DEPTO_PRESENTACION                                                   20   \n",
       "ESTU_COD_MCPIO_PRESENTACION                                                20011   \n",
       "ESTU_MCPIO_PRESENTACION                                                AGUACHICA   \n",
       "ESTU_DEPTO_PRESENTACION                                                    CESAR   \n",
       "ESTU_COD_PLANTEL                                                             NaN   \n",
       "DECIL_LECTURA_CRITICA                                                        D01   \n",
       "PUNT_LECTURA_CRITICA                                                          37   \n",
       "DECIL_MATEMATICAS                                                            D03   \n",
       "PUNT_MATEMATICAS                                                              45   \n",
       "DECIL_C_NATURALES                                                            D01   \n",
       "PUNT_C_NATURALES                                                              32   \n",
       "DECIL_SOCIALES_CIUDADANAS                                                    D01   \n",
       "PUNT_SOCIALES_CIUDADANAS                                                      34   \n",
       "DECIL_INGLES                                                                 D04   \n",
       "DESEMP_INGLES                                                                 A-   \n",
       "PUNT_INGLES                                                                   49   \n",
       "DECIL_RAZONA_CUANT                                                           D05   \n",
       "PUNT_RAZONA_CUANT                                                             52   \n",
       "DECIL_COMP_CIUDADANA                                                         D01   \n",
       "PUNT_COMP_CIUDADANA                                                           30   \n",
       "PUNT_GLOBAL                                                                  190   \n",
       "ESTU_PUESTO                                                                  906   \n",
       "\n",
       "                                                2  \n",
       "PERIODO                                     20151  \n",
       "ESTU_CONSECUTIVO               SABER1120151000003  \n",
       "ESTU_ESTUDIANTE                        INDIVIDUAL  \n",
       "ESTU_EDAD                                      41  \n",
       "ESTU_TIPO_DOCUMENTO                            CC  \n",
       "ESTU_PAIS_RESIDE                                1  \n",
       "ESTU_GENERO                                     F  \n",
       "ESTU_FECHA_NACIMIENTO                  11/10/1973  \n",
       "ESTU_ETNIA                                    100  \n",
       "ESTU_LIMITA_MOTRIZ                            NaN  \n",
       "ESTU_LIMITA_INVIDENTE                         NaN  \n",
       "ESTU_LIMITA_CONDICIONESPECIAL                 NaN  \n",
       "ESTU_LIMITA_SORDO                             NaN  \n",
       "ESTU_LIMITA_SDOWN                             NaN  \n",
       "ESTU_LIMITA_AUTISMO                           NaN  \n",
       "COLE_COD_MCPIO_UBICACION                      NaN  \n",
       "ESTU_RESIDE_MCPIO                    PUERTO LOPEZ  \n",
       "ESTU_RESIDE_DEPTO                            META  \n",
       "ESTU_COD_RESIDE_MCPIO                       50573  \n",
       "ESTU_ZONA_RESIDE                               10  \n",
       "COLE_COD_DANE_INSTITUCION                     NaN  \n",
       "COLE_COD_ICFES                                NaN  \n",
       "COLE_NOMBRE_SEDE                              NaN  \n",
       "COLE_JORNADA                                  NaN  \n",
       "COLE_GENERO                                   NaN  \n",
       "COLE_CARACTER                                 NaN  \n",
       "COLE_NATURALEZA                              OTRO  \n",
       "COLE_BILINGUE                                 NaN  \n",
       "COLE_CALENDARIO                               NaN  \n",
       "ESTU_AREA_RESIDE                                U  \n",
       "...                                           ...  \n",
       "FAMI_LAVADORA                                   S  \n",
       "FAMI_MICROONDAS                                 N  \n",
       "FAMI_AUTOMOVIL                                  N  \n",
       "FAMI_HORNO                                      N  \n",
       "FAMI_INGRESO_FMILIAR_MENSUAL                    3  \n",
       "ESTU_TRABAJA                                  NaN  \n",
       "ESTU_RECIBE_SALARIO                           NaN  \n",
       "ESTU_VECES_ESTADO                               4  \n",
       "ESTU_COD_DEPTO_PRESENTACION                    50  \n",
       "ESTU_COD_MCPIO_PRESENTACION                 50001  \n",
       "ESTU_MCPIO_PRESENTACION             VILLAVICENCIO  \n",
       "ESTU_DEPTO_PRESENTACION                      META  \n",
       "ESTU_COD_PLANTEL                              NaN  \n",
       "DECIL_LECTURA_CRITICA                         D06  \n",
       "PUNT_LECTURA_CRITICA                           55  \n",
       "DECIL_MATEMATICAS                             D09  \n",
       "PUNT_MATEMATICAS                               71  \n",
       "DECIL_C_NATURALES                             D08  \n",
       "PUNT_C_NATURALES                               69  \n",
       "DECIL_SOCIALES_CIUDADANAS                     D07  \n",
       "PUNT_SOCIALES_CIUDADANAS                       60  \n",
       "DECIL_INGLES                                  D07  \n",
       "DESEMP_INGLES                                  A2  \n",
       "PUNT_INGLES                                    59  \n",
       "DECIL_RAZONA_CUANT                            D09  \n",
       "PUNT_RAZONA_CUANT                              73  \n",
       "DECIL_COMP_CIUDADANA                          D07  \n",
       "PUNT_COMP_CIUDADANA                            58  \n",
       "PUNT_GLOBAL                                   317  \n",
       "ESTU_PUESTO                                   286  \n",
       "\n",
       "[128 rows x 3 columns]"
      ]
     },
     "execution_count": 4,
     "metadata": {},
     "output_type": "execute_result"
    }
   ],
   "source": [
    "data_2015.head(3).T"
   ]
  },
  {
   "cell_type": "code",
   "execution_count": null,
   "metadata": {
    "collapsed": true
   },
   "outputs": [],
   "source": [
    "c = 'PERIODO'\n",
    "print(data_2015[c].value_counts().sort_index().index)\n",
    "print(data_2015[c].value_counts().sort_index())\n",
    "print(missing_data(data_2015[c]))"
   ]
  },
  {
   "cell_type": "code",
   "execution_count": null,
   "metadata": {
    "collapsed": true
   },
   "outputs": [],
   "source": [
    "c = 'ESTU_CONSECUTIVO'\n",
    "print(data_2015[c].value_counts().sort_index().index)\n",
    "print(data_2015[c].value_counts().sort_index())\n",
    "print(missing_data(data_2015[c]))"
   ]
  },
  {
   "cell_type": "code",
   "execution_count": null,
   "metadata": {
    "collapsed": true
   },
   "outputs": [],
   "source": [
    "c = 'ESTU_ESTUDIANTE'\n",
    "print(data_2015[c].value_counts().sort_index().index)\n",
    "print(data_2015[c].value_counts().sort_index())\n",
    "print(missing_data(data_2015[c]))"
   ]
  },
  {
   "cell_type": "code",
   "execution_count": null,
   "metadata": {
    "collapsed": true
   },
   "outputs": [],
   "source": [
    "c = 'ESTU_EDAD'\n",
    "print(data_2015[c].value_counts().sort_index().index)\n",
    "print(data_2015[c].value_counts().sort_index())\n",
    "print(missing_data(data_2015[c]))"
   ]
  },
  {
   "cell_type": "code",
   "execution_count": null,
   "metadata": {
    "collapsed": true
   },
   "outputs": [],
   "source": [
    "c = 'ESTU_TIPO_DOCUMENTO'\n",
    "print(data_2015[c].value_counts().sort_index().index)\n",
    "print(data_2015[c].value_counts().sort_index())\n",
    "print(missing_data(data_2015[c]))"
   ]
  },
  {
   "cell_type": "code",
   "execution_count": null,
   "metadata": {
    "collapsed": true
   },
   "outputs": [],
   "source": [
    "c = 'ESTU_PAIS_RESIDE'\n",
    "print(data_2015[c].value_counts().sort_index().index)\n",
    "print(data_2015[c].value_counts().sort_index())\n",
    "print(missing_data(data_2015[c]))"
   ]
  },
  {
   "cell_type": "code",
   "execution_count": null,
   "metadata": {
    "collapsed": true
   },
   "outputs": [],
   "source": [
    "c = 'ESTU_GENERO'\n",
    "print(data_2015[c].value_counts().sort_index().index)\n",
    "print(data_2015[c].value_counts().sort_index())\n",
    "print(missing_data(data_2015[c]))"
   ]
  },
  {
   "cell_type": "code",
   "execution_count": null,
   "metadata": {
    "collapsed": true
   },
   "outputs": [],
   "source": [
    "c = 'ESTU_FECHA_NACIMIENTO'\n",
    "print(data_2015[c].value_counts().sort_index().index)\n",
    "print(data_2015[c].value_counts().sort_index())\n",
    "print(missing_data(data_2015[c]))"
   ]
  },
  {
   "cell_type": "code",
   "execution_count": null,
   "metadata": {
    "collapsed": true
   },
   "outputs": [],
   "source": [
    "c = 'ESTU_ETNIA'\n",
    "print(data_2015[c].value_counts().sort_index().index)\n",
    "print(data_2015[c].value_counts().sort_index())\n",
    "print(missing_data(data_2015[c]))"
   ]
  },
  {
   "cell_type": "code",
   "execution_count": null,
   "metadata": {
    "collapsed": true
   },
   "outputs": [],
   "source": [
    "c = 'ESTU_LIMITA_MOTRIZ'\n",
    "print(data_2015[c].value_counts().sort_index().index)\n",
    "print(data_2015[c].value_counts().sort_index())\n",
    "print(missing_data(data_2015[c]))"
   ]
  },
  {
   "cell_type": "code",
   "execution_count": null,
   "metadata": {
    "collapsed": true
   },
   "outputs": [],
   "source": [
    "c = 'ESTU_LIMITA_INVIDENTE'\n",
    "print(data_2015[c].value_counts().sort_index().index)\n",
    "print(data_2015[c].value_counts().sort_index())\n",
    "print(missing_data(data_2015[c]))"
   ]
  },
  {
   "cell_type": "code",
   "execution_count": null,
   "metadata": {
    "collapsed": true
   },
   "outputs": [],
   "source": [
    "c = 'ESTU_LIMITA_CONDICIONESPECIAL'\n",
    "print(data_2015[c].value_counts().sort_index().index)\n",
    "print(data_2015[c].value_counts().sort_index())\n",
    "print(missing_data(data_2015[c]))"
   ]
  },
  {
   "cell_type": "code",
   "execution_count": null,
   "metadata": {
    "collapsed": true
   },
   "outputs": [],
   "source": [
    "c = 'ESTU_LIMITA_SORDO'\n",
    "print(data_2015[c].value_counts().sort_index().index)\n",
    "print(data_2015[c].value_counts().sort_index())\n",
    "print(missing_data(data_2015[c]))"
   ]
  },
  {
   "cell_type": "code",
   "execution_count": null,
   "metadata": {
    "collapsed": true
   },
   "outputs": [],
   "source": [
    "c = 'ESTU_LIMITA_SDOWN'\n",
    "print(data_2015[c].value_counts().sort_index().index)\n",
    "print(data_2015[c].value_counts().sort_index())\n",
    "print(missing_data(data_2015[c]))"
   ]
  },
  {
   "cell_type": "code",
   "execution_count": null,
   "metadata": {
    "collapsed": true
   },
   "outputs": [],
   "source": [
    "c = 'ESTU_LIMITA_AUTISMO'\n",
    "print(data_2015[c].value_counts().sort_index().index)\n",
    "print(data_2015[c].value_counts().sort_index())\n",
    "print(missing_data(data_2015[c]))"
   ]
  },
  {
   "cell_type": "code",
   "execution_count": null,
   "metadata": {
    "collapsed": true
   },
   "outputs": [],
   "source": [
    "c = 'COLE_COD_MCPIO_UBICACION'\n",
    "print(data_2015[c].value_counts().sort_index().index)\n",
    "print(data_2015[c].value_counts().sort_index())\n",
    "print(missing_data(data_2015[c]))"
   ]
  },
  {
   "cell_type": "code",
   "execution_count": null,
   "metadata": {
    "collapsed": true
   },
   "outputs": [],
   "source": [
    "c = 'ESTU_RESIDE_MCPIO'\n",
    "print(data_2015[c].value_counts().sort_index().index)\n",
    "print(data_2015[c].value_counts().sort_index())\n",
    "print(missing_data(data_2015[c]))"
   ]
  },
  {
   "cell_type": "code",
   "execution_count": null,
   "metadata": {
    "collapsed": true
   },
   "outputs": [],
   "source": [
    "c = 'ESTU_RESIDE_DEPTO'\n",
    "print(data_2015[c].value_counts().sort_index().index)\n",
    "print(data_2015[c].value_counts().sort_index())\n",
    "print(missing_data(data_2015[c]))"
   ]
  },
  {
   "cell_type": "code",
   "execution_count": null,
   "metadata": {
    "collapsed": true
   },
   "outputs": [],
   "source": [
    "c = 'ESTU_COD_RESIDE_MCPIO'\n",
    "print(data_2015[c].value_counts().sort_index().index)\n",
    "print(data_2015[c].value_counts().sort_index())\n",
    "print(missing_data(data_2015[c]))"
   ]
  },
  {
   "cell_type": "code",
   "execution_count": null,
   "metadata": {
    "collapsed": true
   },
   "outputs": [],
   "source": [
    "c = 'ESTU_ZONA_RESIDE'\n",
    "print(data_2015[c].value_counts().sort_index().index)\n",
    "print(data_2015[c].value_counts().sort_index())\n",
    "print(missing_data(data_2015[c]))"
   ]
  },
  {
   "cell_type": "code",
   "execution_count": null,
   "metadata": {
    "collapsed": true
   },
   "outputs": [],
   "source": [
    "c = 'COLE_COD_DANE_INSTITUCION'\n",
    "print(data_2015[c].value_counts().sort_index().index)\n",
    "print(data_2015[c].value_counts().sort_index())\n",
    "print(missing_data(data_2015[c]))"
   ]
  },
  {
   "cell_type": "code",
   "execution_count": null,
   "metadata": {
    "collapsed": true
   },
   "outputs": [],
   "source": [
    "c = 'COLE_COD_ICFES'\n",
    "print(data_2015[c].value_counts().sort_index().index)\n",
    "print(data_2015[c].value_counts().sort_index())\n",
    "print(missing_data(data_2015[c]))"
   ]
  },
  {
   "cell_type": "code",
   "execution_count": null,
   "metadata": {
    "collapsed": true
   },
   "outputs": [],
   "source": [
    "c = 'COLE_NOMBRE_SEDE'\n",
    "print(data_2015[c].value_counts().sort_index().index)\n",
    "print(data_2015[c].value_counts().sort_index())\n",
    "print(missing_data(data_2015[c]))"
   ]
  },
  {
   "cell_type": "code",
   "execution_count": null,
   "metadata": {
    "collapsed": true
   },
   "outputs": [],
   "source": [
    "c = 'COLE_JORNADA'\n",
    "print(data_2015[c].value_counts().sort_index().index)\n",
    "print(data_2015[c].value_counts().sort_index())\n",
    "print(missing_data(data_2015[c]))"
   ]
  },
  {
   "cell_type": "code",
   "execution_count": null,
   "metadata": {
    "collapsed": true
   },
   "outputs": [],
   "source": [
    "c = 'COLE_GENERO'\n",
    "print(data_2015[c].value_counts().sort_index().index)\n",
    "print(data_2015[c].value_counts().sort_index())\n",
    "print(missing_data(data_2015[c]))"
   ]
  },
  {
   "cell_type": "code",
   "execution_count": null,
   "metadata": {
    "collapsed": true
   },
   "outputs": [],
   "source": [
    "c = 'COLE_CARACTER'\n",
    "print(data_2015[c].value_counts().sort_index().index)\n",
    "print(data_2015[c].value_counts().sort_index())\n",
    "print(missing_data(data_2015[c]))"
   ]
  },
  {
   "cell_type": "code",
   "execution_count": null,
   "metadata": {
    "collapsed": true
   },
   "outputs": [],
   "source": [
    "c = 'COLE_NATURALEZA'\n",
    "print(data_2015[c].value_counts().sort_index().index)\n",
    "print(data_2015[c].value_counts().sort_index())\n",
    "print(missing_data(data_2015[c]))"
   ]
  },
  {
   "cell_type": "code",
   "execution_count": null,
   "metadata": {
    "collapsed": true
   },
   "outputs": [],
   "source": [
    "c = 'COLE_BILINGUE'\n",
    "print(data_2015[c].value_counts().sort_index().index)\n",
    "print(data_2015[c].value_counts().sort_index())\n",
    "print(missing_data(data_2015[c]))"
   ]
  },
  {
   "cell_type": "code",
   "execution_count": null,
   "metadata": {
    "collapsed": true
   },
   "outputs": [],
   "source": [
    "c = 'COLE_CALENDARIO'\n",
    "print(data_2015[c].value_counts().sort_index().index)\n",
    "print(data_2015[c].value_counts().sort_index())\n",
    "print(missing_data(data_2015[c]))"
   ]
  },
  {
   "cell_type": "code",
   "execution_count": null,
   "metadata": {
    "collapsed": true
   },
   "outputs": [],
   "source": [
    "c = 'ESTU_AREA_RESIDE'\n",
    "print(data_2015[c].value_counts().sort_index().index)\n",
    "print(data_2015[c].value_counts().sort_index())\n",
    "print(missing_data(data_2015[c]))"
   ]
  },
  {
   "cell_type": "code",
   "execution_count": null,
   "metadata": {
    "collapsed": true
   },
   "outputs": [],
   "source": [
    "c = 'COLE_AREA_UBICACION'\n",
    "print(data_2015[c].value_counts().sort_index().index)\n",
    "print(data_2015[c].value_counts().sort_index())\n",
    "print(missing_data(data_2015[c]))"
   ]
  },
  {
   "cell_type": "code",
   "execution_count": null,
   "metadata": {
    "collapsed": true
   },
   "outputs": [],
   "source": [
    "c = 'COLE_DEPTO_UBICACION'\n",
    "print(data_2015[c].value_counts().sort_index().index)\n",
    "print(data_2015[c].value_counts().sort_index())\n",
    "print(missing_data(data_2015[c]))"
   ]
  },
  {
   "cell_type": "code",
   "execution_count": null,
   "metadata": {
    "collapsed": true
   },
   "outputs": [],
   "source": [
    "c = 'COLE_MCPIO_UBICACION'\n",
    "print(data_2015[c].value_counts().sort_index().index)\n",
    "print(data_2015[c].value_counts().sort_index())\n",
    "print(missing_data(data_2015[c]))"
   ]
  },
  {
   "cell_type": "code",
   "execution_count": null,
   "metadata": {
    "collapsed": true
   },
   "outputs": [],
   "source": [
    "c = 'ESTU_COD_RESIDE_DEPTO'\n",
    "print(data_2015[c].value_counts().sort_index().index)\n",
    "print(data_2015[c].value_counts().sort_index())\n",
    "print(missing_data(data_2015[c]))"
   ]
  },
  {
   "cell_type": "code",
   "execution_count": null,
   "metadata": {
    "collapsed": true
   },
   "outputs": [],
   "source": [
    "c = 'ESTU_PRESENTO_ANTECEDENTES'\n",
    "print(data_2015[c].value_counts().sort_index().index)\n",
    "print(data_2015[c].value_counts().sort_index())\n",
    "print(missing_data(data_2015[c]))"
   ]
  },
  {
   "cell_type": "code",
   "execution_count": null,
   "metadata": {
    "collapsed": true
   },
   "outputs": [],
   "source": [
    "c = 'ESTU_PRIVADO_LIBERTAD'\n",
    "print(data_2015[c].value_counts().sort_index().index)\n",
    "print(data_2015[c].value_counts().sort_index())\n",
    "print(missing_data(data_2015[c]))"
   ]
  },
  {
   "cell_type": "code",
   "execution_count": null,
   "metadata": {
    "collapsed": true
   },
   "outputs": [],
   "source": [
    "c = 'ESTU_REPROBO_PRIMERO'\n",
    "print(data_2015[c].value_counts().sort_index().index)\n",
    "print(data_2015[c].value_counts().sort_index())\n",
    "print(missing_data(data_2015[c]))"
   ]
  },
  {
   "cell_type": "code",
   "execution_count": null,
   "metadata": {
    "collapsed": true
   },
   "outputs": [],
   "source": [
    "c = 'ESTU_REPROBO_SEGUNDO'\n",
    "print(data_2015[c].value_counts().sort_index().index)\n",
    "print(data_2015[c].value_counts().sort_index())\n",
    "print(missing_data(data_2015[c]))"
   ]
  },
  {
   "cell_type": "code",
   "execution_count": null,
   "metadata": {
    "collapsed": true
   },
   "outputs": [],
   "source": [
    "c = 'ESTU_REPROBO_TERCERO'\n",
    "print(data_2015[c].value_counts().sort_index().index)\n",
    "print(data_2015[c].value_counts().sort_index())\n",
    "print(missing_data(data_2015[c]))"
   ]
  },
  {
   "cell_type": "code",
   "execution_count": null,
   "metadata": {
    "collapsed": true
   },
   "outputs": [],
   "source": [
    "c = 'ESTU_REPROBO_CUARTO'\n",
    "print(data_2015[c].value_counts().sort_index().index)\n",
    "print(data_2015[c].value_counts().sort_index())\n",
    "print(missing_data(data_2015[c]))"
   ]
  },
  {
   "cell_type": "code",
   "execution_count": null,
   "metadata": {
    "collapsed": true
   },
   "outputs": [],
   "source": [
    "c = 'ESTU_REPROBO_QUINTO'\n",
    "print(data_2015[c].value_counts().sort_index().index)\n",
    "print(data_2015[c].value_counts().sort_index())\n",
    "print(missing_data(data_2015[c]))"
   ]
  },
  {
   "cell_type": "code",
   "execution_count": null,
   "metadata": {
    "collapsed": true
   },
   "outputs": [],
   "source": [
    "c = 'ESTU_REPROBO_SEXTO'\n",
    "print(data_2015[c].value_counts().sort_index().index)\n",
    "print(data_2015[c].value_counts().sort_index())\n",
    "print(missing_data(data_2015[c]))"
   ]
  },
  {
   "cell_type": "code",
   "execution_count": null,
   "metadata": {
    "collapsed": true
   },
   "outputs": [],
   "source": [
    "c = 'ESTU_REPROBO_SEPTIMO'\n",
    "print(data_2015[c].value_counts().sort_index().index)\n",
    "print(data_2015[c].value_counts().sort_index())\n",
    "print(missing_data(data_2015[c]))"
   ]
  },
  {
   "cell_type": "code",
   "execution_count": null,
   "metadata": {
    "collapsed": true
   },
   "outputs": [],
   "source": [
    "c = 'ESTU_REPROBO_OCTAVO'\n",
    "print(data_2015[c].value_counts().sort_index().index)\n",
    "print(data_2015[c].value_counts().sort_index())\n",
    "print(missing_data(data_2015[c]))"
   ]
  },
  {
   "cell_type": "code",
   "execution_count": null,
   "metadata": {
    "collapsed": true
   },
   "outputs": [],
   "source": [
    "c = 'ESTU_REPROBO_NOVENO'\n",
    "print(data_2015[c].value_counts().sort_index().index)\n",
    "print(data_2015[c].value_counts().sort_index())\n",
    "print(missing_data(data_2015[c]))"
   ]
  },
  {
   "cell_type": "code",
   "execution_count": null,
   "metadata": {
    "collapsed": true
   },
   "outputs": [],
   "source": [
    "c = 'ESTU_REPROBO_DECIMO'\n",
    "print(data_2015[c].value_counts().sort_index().index)\n",
    "print(data_2015[c].value_counts().sort_index())\n",
    "print(missing_data(data_2015[c]))"
   ]
  },
  {
   "cell_type": "code",
   "execution_count": null,
   "metadata": {
    "collapsed": true
   },
   "outputs": [],
   "source": [
    "c = 'ESTU_REPROBO_ONCE_MAS'\n",
    "print(data_2015[c].value_counts().sort_index().index)\n",
    "print(data_2015[c].value_counts().sort_index())\n",
    "print(missing_data(data_2015[c]))"
   ]
  },
  {
   "cell_type": "code",
   "execution_count": null,
   "metadata": {
    "collapsed": true
   },
   "outputs": [],
   "source": [
    "c = 'ESTU_ANOS_PREESCOLAR'\n",
    "print(data_2015[c].value_counts().sort_index().index)\n",
    "print(data_2015[c].value_counts().sort_index())\n",
    "print(missing_data(data_2015[c]))"
   ]
  },
  {
   "cell_type": "code",
   "execution_count": null,
   "metadata": {
    "collapsed": true
   },
   "outputs": [],
   "source": [
    "c = 'ESTU_ANO_MATRICULA_PRIMERO'\n",
    "print(data_2015[c].value_counts().sort_index().index)\n",
    "print(data_2015[c].value_counts().sort_index())\n",
    "print(missing_data(data_2015[c]))"
   ]
  },
  {
   "cell_type": "code",
   "execution_count": null,
   "metadata": {
    "collapsed": true
   },
   "outputs": [],
   "source": [
    "c = 'ESTU_ANO_TERMINO_QUINTO'\n",
    "print(data_2015[c].value_counts().sort_index().index)\n",
    "print(data_2015[c].value_counts().sort_index())\n",
    "print(missing_data(data_2015[c]))"
   ]
  },
  {
   "cell_type": "code",
   "execution_count": null,
   "metadata": {
    "collapsed": true
   },
   "outputs": [],
   "source": [
    "c = 'ESTU_ANO_MATRICULA_SEXTO'\n",
    "print(data_2015[c].value_counts().sort_index().index)\n",
    "print(data_2015[c].value_counts().sort_index())\n",
    "print(missing_data(data_2015[c]))"
   ]
  },
  {
   "cell_type": "code",
   "execution_count": null,
   "metadata": {
    "collapsed": true
   },
   "outputs": [],
   "source": [
    "c = 'ESTU_ANO_TERMINO_BACHILL'\n",
    "print(data_2015[c].value_counts().sort_index().index)\n",
    "print(data_2015[c].value_counts().sort_index())\n",
    "print(missing_data(data_2015[c]))"
   ]
  },
  {
   "cell_type": "code",
   "execution_count": null,
   "metadata": {
    "collapsed": true
   },
   "outputs": [],
   "source": [
    "c = 'ESTU_CUANTO_FALTO_COLEGIO'\n",
    "print(data_2015[c].value_counts().sort_index().index)\n",
    "print(data_2015[c].value_counts().sort_index())\n",
    "print(missing_data(data_2015[c]))"
   ]
  },
  {
   "cell_type": "code",
   "execution_count": null,
   "metadata": {
    "collapsed": true
   },
   "outputs": [],
   "source": [
    "c = 'ESTU_CUANTOS_COLE_ESTUDIO'\n",
    "print(data_2015[c].value_counts().sort_index().index)\n",
    "print(data_2015[c].value_counts().sort_index())\n",
    "print(missing_data(data_2015[c]))"
   ]
  },
  {
   "cell_type": "code",
   "execution_count": null,
   "metadata": {
    "collapsed": true
   },
   "outputs": [],
   "source": [
    "c = 'ESTU_MES_TERMINO_BACHILL'\n",
    "print(data_2015[c].value_counts().sort_index().index)\n",
    "print(data_2015[c].value_counts().sort_index())\n",
    "print(missing_data(data_2015[c]))"
   ]
  },
  {
   "cell_type": "code",
   "execution_count": null,
   "metadata": {
    "collapsed": true
   },
   "outputs": [],
   "source": [
    "c = 'ESTU_RAZON_RETIRO'\n",
    "print(data_2015[c].value_counts().sort_index().index)\n",
    "print(data_2015[c].value_counts().sort_index())\n",
    "print(missing_data(data_2015[c]))"
   ]
  },
  {
   "cell_type": "code",
   "execution_count": null,
   "metadata": {
    "collapsed": true
   },
   "outputs": [],
   "source": [
    "c = 'ESTU_RETIRARSE_COLEGIO'\n",
    "print(data_2015[c].value_counts().sort_index().index)\n",
    "print(data_2015[c].value_counts().sort_index())\n",
    "print(missing_data(data_2015[c]))"
   ]
  },
  {
   "cell_type": "code",
   "execution_count": null,
   "metadata": {
    "collapsed": true
   },
   "outputs": [],
   "source": [
    "c = 'ESTU_NUMERO_LIBROS'\n",
    "print(data_2015[c].value_counts().sort_index().index)\n",
    "print(data_2015[c].value_counts().sort_index())\n",
    "print(missing_data(data_2015[c]))"
   ]
  },
  {
   "cell_type": "code",
   "execution_count": null,
   "metadata": {
    "collapsed": true
   },
   "outputs": [],
   "source": [
    "c = 'ESTU_TIPO_CARRERA_DESEADA'\n",
    "print(data_2015[c].value_counts().sort_index().index)\n",
    "print(data_2015[c].value_counts().sort_index())\n",
    "print(missing_data(data_2015[c]))"
   ]
  },
  {
   "cell_type": "code",
   "execution_count": null,
   "metadata": {
    "collapsed": true
   },
   "outputs": [],
   "source": [
    "c = 'ESTU_IES_COD_DESEADA'\n",
    "print(data_2015[c].value_counts().sort_index().index)\n",
    "print(data_2015[c].value_counts().sort_index())\n",
    "print(missing_data(data_2015[c]))"
   ]
  },
  {
   "cell_type": "code",
   "execution_count": null,
   "metadata": {
    "collapsed": true
   },
   "outputs": [],
   "source": [
    "c = 'ESTU_IES_MCPIO_INST_DESEADA'\n",
    "print(data_2015[c].value_counts().sort_index().index)\n",
    "print(data_2015[c].value_counts().sort_index())\n",
    "print(missing_data(data_2015[c]))"
   ]
  },
  {
   "cell_type": "code",
   "execution_count": null,
   "metadata": {
    "collapsed": true
   },
   "outputs": [],
   "source": [
    "c = 'ESTU_POR_OPORTUNIDADES'\n",
    "print(data_2015[c].value_counts().sort_index().index)\n",
    "print(data_2015[c].value_counts().sort_index())\n",
    "print(missing_data(data_2015[c]))"
   ]
  },
  {
   "cell_type": "code",
   "execution_count": null,
   "metadata": {
    "collapsed": true
   },
   "outputs": [],
   "source": [
    "c = 'ESTU_POR_AMIGOSESTUDIANDO'\n",
    "print(data_2015[c].value_counts().sort_index().index)\n",
    "print(data_2015[c].value_counts().sort_index())\n",
    "print(missing_data(data_2015[c]))"
   ]
  },
  {
   "cell_type": "code",
   "execution_count": null,
   "metadata": {
    "collapsed": true
   },
   "outputs": [],
   "source": [
    "c = 'ESTU_POR_BUSCANDOCARRERA'\n",
    "print(data_2015[c].value_counts().sort_index().index)\n",
    "print(data_2015[c].value_counts().sort_index())\n",
    "print(missing_data(data_2015[c]))"
   ]
  },
  {
   "cell_type": "code",
   "execution_count": null,
   "metadata": {
    "collapsed": true
   },
   "outputs": [],
   "source": [
    "c = 'ESTU_POR_COLOMBIAAPRENDE'\n",
    "print(data_2015[c].value_counts().sort_index().index)\n",
    "print(data_2015[c].value_counts().sort_index())\n",
    "print(missing_data(data_2015[c]))"
   ]
  },
  {
   "cell_type": "code",
   "execution_count": null,
   "metadata": {
    "collapsed": true
   },
   "outputs": [],
   "source": [
    "c = 'ESTU_POR_COSTOMATRICULA'\n",
    "print(data_2015[c].value_counts().sort_index().index)\n",
    "print(data_2015[c].value_counts().sort_index())\n",
    "print(missing_data(data_2015[c]))"
   ]
  },
  {
   "cell_type": "code",
   "execution_count": null,
   "metadata": {
    "collapsed": true
   },
   "outputs": [],
   "source": [
    "c = 'ESTU_POR_INFLUENCIAALGUIEN'\n",
    "print(data_2015[c].value_counts().sort_index().index)\n",
    "print(data_2015[c].value_counts().sort_index())\n",
    "print(missing_data(data_2015[c]))"
   ]
  },
  {
   "cell_type": "code",
   "execution_count": null,
   "metadata": {
    "collapsed": true
   },
   "outputs": [],
   "source": [
    "c = 'ESTU_POR_INTERESPERSONAL'\n",
    "print(data_2015[c].value_counts().sort_index().index)\n",
    "print(data_2015[c].value_counts().sort_index())\n",
    "print(missing_data(data_2015[c]))"
   ]
  },
  {
   "cell_type": "code",
   "execution_count": null,
   "metadata": {
    "collapsed": true
   },
   "outputs": [],
   "source": [
    "c = 'ESTU_POR_MEJORARPOSICIONSOCIAL'\n",
    "print(data_2015[c].value_counts().sort_index().index)\n",
    "print(data_2015[c].value_counts().sort_index())\n",
    "print(missing_data(data_2015[c]))"
   ]
  },
  {
   "cell_type": "code",
   "execution_count": null,
   "metadata": {
    "collapsed": true
   },
   "outputs": [],
   "source": [
    "c = 'ESTU_POR_ORIENTACIONVOCACIONAL'\n",
    "print(data_2015[c].value_counts().sort_index().index)\n",
    "print(data_2015[c].value_counts().sort_index())\n",
    "print(missing_data(data_2015[c]))"
   ]
  },
  {
   "cell_type": "code",
   "execution_count": null,
   "metadata": {
    "collapsed": true
   },
   "outputs": [],
   "source": [
    "c = 'ESTU_POR_OTRARAZON'\n",
    "print(data_2015[c].value_counts().sort_index().index)\n",
    "print(data_2015[c].value_counts().sort_index())\n",
    "print(missing_data(data_2015[c]))"
   ]
  },
  {
   "cell_type": "code",
   "execution_count": null,
   "metadata": {
    "collapsed": true
   },
   "outputs": [],
   "source": [
    "c = 'ESTU_POR_TRADICIONFAMILIAR'\n",
    "print(data_2015[c].value_counts().sort_index().index)\n",
    "print(data_2015[c].value_counts().sort_index())\n",
    "print(missing_data(data_2015[c]))"
   ]
  },
  {
   "cell_type": "code",
   "execution_count": null,
   "metadata": {
    "collapsed": true
   },
   "outputs": [],
   "source": [
    "c = 'ESTU_POR_UBICACION'\n",
    "print(data_2015[c].value_counts().sort_index().index)\n",
    "print(data_2015[c].value_counts().sort_index())\n",
    "print(missing_data(data_2015[c]))"
   ]
  },
  {
   "cell_type": "code",
   "execution_count": null,
   "metadata": {
    "collapsed": true
   },
   "outputs": [],
   "source": [
    "c = 'ESTU_POR_UNICAQUEOFRECE'\n",
    "print(data_2015[c].value_counts().sort_index().index)\n",
    "print(data_2015[c].value_counts().sort_index())\n",
    "print(missing_data(data_2015[c]))"
   ]
  },
  {
   "cell_type": "code",
   "execution_count": null,
   "metadata": {
    "collapsed": true
   },
   "outputs": [],
   "source": [
    "c = 'ESTU_PRESTIGIOINSTITUCION'\n",
    "print(data_2015[c].value_counts().sort_index().index)\n",
    "print(data_2015[c].value_counts().sort_index())\n",
    "print(missing_data(data_2015[c]))"
   ]
  },
  {
   "cell_type": "code",
   "execution_count": null,
   "metadata": {
    "collapsed": true
   },
   "outputs": [],
   "source": [
    "c = 'ESTU_PROGRAMA_ACADEMICODESEADO'\n",
    "print(data_2015[c].value_counts().sort_index().index)\n",
    "print(data_2015[c].value_counts().sort_index())\n",
    "print(missing_data(data_2015[c]))"
   ]
  },
  {
   "cell_type": "code",
   "execution_count": null,
   "metadata": {
    "collapsed": true
   },
   "outputs": [],
   "source": [
    "c = 'ESTU_OTRO_PLANTEL'\n",
    "print(data_2015[c].value_counts().sort_index().index)\n",
    "print(data_2015[c].value_counts().sort_index())\n",
    "print(missing_data(data_2015[c]))"
   ]
  },
  {
   "cell_type": "code",
   "execution_count": null,
   "metadata": {
    "collapsed": true
   },
   "outputs": [],
   "source": [
    "c = 'ESTU_COD_OTRO_PAIS_PLANTEL'\n",
    "print(data_2015[c].value_counts().sort_index().index)\n",
    "print(data_2015[c].value_counts().sort_index())\n",
    "print(missing_data(data_2015[c]))"
   ]
  },
  {
   "cell_type": "code",
   "execution_count": null,
   "metadata": {
    "collapsed": true
   },
   "outputs": [],
   "source": [
    "c = 'ESTU_PROMEDIO_SALON'\n",
    "print(data_2015[c].value_counts().sort_index().index)\n",
    "print(data_2015[c].value_counts().sort_index())\n",
    "print(missing_data(data_2015[c]))"
   ]
  },
  {
   "cell_type": "code",
   "execution_count": null,
   "metadata": {
    "collapsed": true
   },
   "outputs": [],
   "source": [
    "c = 'ESTU_TOTAL_ALUMNOS_CURSO'\n",
    "print(data_2015[c].value_counts().sort_index().index)\n",
    "print(data_2015[c].value_counts().sort_index())\n",
    "print(missing_data(data_2015[c]))"
   ]
  },
  {
   "cell_type": "code",
   "execution_count": null,
   "metadata": {
    "collapsed": true
   },
   "outputs": [],
   "source": [
    "c = 'ESTU_ANOS_COLEGIO_ACTUAL'\n",
    "print(data_2015[c].value_counts().sort_index().index)\n",
    "print(data_2015[c].value_counts().sort_index())\n",
    "print(missing_data(data_2015[c]))"
   ]
  },
  {
   "cell_type": "code",
   "execution_count": null,
   "metadata": {
    "collapsed": true
   },
   "outputs": [],
   "source": [
    "c = 'COLE_VALOR_PENSION'\n",
    "print(data_2015[c].value_counts().sort_index().index)\n",
    "print(data_2015[c].value_counts().sort_index())\n",
    "print(missing_data(data_2015[c]))"
   ]
  },
  {
   "cell_type": "code",
   "execution_count": null,
   "metadata": {
    "collapsed": true
   },
   "outputs": [],
   "source": [
    "c = 'ESTU_VECES_ESTADO_ESTUDIANTIL'\n",
    "print(data_2015[c].value_counts().sort_index().index)\n",
    "print(data_2015[c].value_counts().sort_index())\n",
    "print(missing_data(data_2015[c]))"
   ]
  },
  {
   "cell_type": "code",
   "execution_count": null,
   "metadata": {
    "collapsed": true
   },
   "outputs": [],
   "source": [
    "c = 'FAMI_EDUCA_PADRE'\n",
    "print(data_2015[c].value_counts().sort_index().index)\n",
    "print(data_2015[c].value_counts().sort_index())\n",
    "print(missing_data(data_2015[c]))"
   ]
  },
  {
   "cell_type": "code",
   "execution_count": null,
   "metadata": {
    "collapsed": true
   },
   "outputs": [],
   "source": [
    "c = 'FAMI_EDUCA_MADRE'\n",
    "print(data_2015[c].value_counts().sort_index().index)\n",
    "print(data_2015[c].value_counts().sort_index())\n",
    "print(missing_data(data_2015[c]))"
   ]
  },
  {
   "cell_type": "code",
   "execution_count": null,
   "metadata": {
    "collapsed": true
   },
   "outputs": [],
   "source": [
    "c = 'FAMI_OCUPA_PADRE'\n",
    "print(data_2015[c].value_counts().sort_index().index)\n",
    "print(data_2015[c].value_counts().sort_index())\n",
    "print(missing_data(data_2015[c]))"
   ]
  },
  {
   "cell_type": "code",
   "execution_count": null,
   "metadata": {
    "collapsed": true
   },
   "outputs": [],
   "source": [
    "c = 'FAMI_OCUPA_MADRE'\n",
    "print(data_2015[c].value_counts().sort_index().index)\n",
    "print(data_2015[c].value_counts().sort_index())\n",
    "print(missing_data(data_2015[c]))"
   ]
  },
  {
   "cell_type": "code",
   "execution_count": null,
   "metadata": {
    "collapsed": true
   },
   "outputs": [],
   "source": [
    "c = 'FAMI_NUM_HERMANOS'\n",
    "print(data_2015[c].value_counts().sort_index().index)\n",
    "print(data_2015[c].value_counts().sort_index())\n",
    "print(missing_data(data_2015[c]))"
   ]
  },
  {
   "cell_type": "code",
   "execution_count": null,
   "metadata": {
    "collapsed": true
   },
   "outputs": [],
   "source": [
    "c = 'FAMI_ESTRATO_VIVIENDA'\n",
    "print(data_2015[c].value_counts().sort_index().index)\n",
    "print(data_2015[c].value_counts().sort_index())\n",
    "print(missing_data(data_2015[c]))"
   ]
  },
  {
   "cell_type": "code",
   "execution_count": null,
   "metadata": {
    "collapsed": true
   },
   "outputs": [],
   "source": [
    "c = 'FAMI_NIVEL_SISBEN'\n",
    "print(data_2015[c].value_counts().sort_index().index)\n",
    "print(data_2015[c].value_counts().sort_index())\n",
    "print(missing_data(data_2015[c]))"
   ]
  },
  {
   "cell_type": "code",
   "execution_count": null,
   "metadata": {
    "collapsed": true
   },
   "outputs": [],
   "source": [
    "c = 'FAMI_PERSONAS_HOGAR'\n",
    "print(data_2015[c].value_counts().sort_index().index)\n",
    "print(data_2015[c].value_counts().sort_index())\n",
    "print(missing_data(data_2015[c]))"
   ]
  },
  {
   "cell_type": "code",
   "execution_count": null,
   "metadata": {
    "collapsed": true
   },
   "outputs": [],
   "source": [
    "c = 'FAMI_CUARTOS_HOGAR'\n",
    "print(data_2015[c].value_counts().sort_index().index)\n",
    "print(data_2015[c].value_counts().sort_index())\n",
    "print(missing_data(data_2015[c]))"
   ]
  },
  {
   "cell_type": "code",
   "execution_count": null,
   "metadata": {
    "collapsed": true
   },
   "outputs": [],
   "source": [
    "c = 'FAMI_PISOSHOGAR'\n",
    "print(data_2015[c].value_counts().sort_index().index)\n",
    "print(data_2015[c].value_counts().sort_index())\n",
    "print(missing_data(data_2015[c]))"
   ]
  },
  {
   "cell_type": "code",
   "execution_count": null,
   "metadata": {
    "collapsed": true
   },
   "outputs": [],
   "source": [
    "c = 'FAMI_TELEFONO_FIJO'\n",
    "print(data_2015[c].value_counts().sort_index().index)\n",
    "print(data_2015[c].value_counts().sort_index())\n",
    "print(missing_data(data_2015[c]))"
   ]
  },
  {
   "cell_type": "code",
   "execution_count": null,
   "metadata": {
    "collapsed": true
   },
   "outputs": [],
   "source": [
    "c = 'FAMI_INTERNET'\n",
    "print(data_2015[c].value_counts().sort_index().index)\n",
    "print(data_2015[c].value_counts().sort_index())\n",
    "print(missing_data(data_2015[c]))"
   ]
  },
  {
   "cell_type": "code",
   "execution_count": null,
   "metadata": {
    "collapsed": true
   },
   "outputs": [],
   "source": [
    "c = 'FAMI_TELEVISOR'\n",
    "print(data_2015[c].value_counts().sort_index().index)\n",
    "print(data_2015[c].value_counts().sort_index())\n",
    "print(missing_data(data_2015[c]))"
   ]
  },
  {
   "cell_type": "code",
   "execution_count": null,
   "metadata": {
    "collapsed": true
   },
   "outputs": [],
   "source": [
    "c = 'FAMI_COMPUTADOR'\n",
    "print(data_2015[c].value_counts().sort_index().index)\n",
    "print(data_2015[c].value_counts().sort_index())\n",
    "print(missing_data(data_2015[c]))"
   ]
  },
  {
   "cell_type": "code",
   "execution_count": null,
   "metadata": {
    "collapsed": true
   },
   "outputs": [],
   "source": [
    "c = 'FAMI_DVD'\n",
    "print(data_2015[c].value_counts().sort_index().index)\n",
    "print(data_2015[c].value_counts().sort_index())\n",
    "print(missing_data(data_2015[c]))"
   ]
  },
  {
   "cell_type": "code",
   "execution_count": null,
   "metadata": {
    "collapsed": true
   },
   "outputs": [],
   "source": [
    "c = 'FAMI_LAVADORA'\n",
    "print(data_2015[c].value_counts().sort_index().index)\n",
    "print(data_2015[c].value_counts().sort_index())\n",
    "print(missing_data(data_2015[c]))"
   ]
  },
  {
   "cell_type": "code",
   "execution_count": null,
   "metadata": {
    "collapsed": true
   },
   "outputs": [],
   "source": [
    "c = 'FAMI_MICROONDAS'\n",
    "print(data_2015[c].value_counts().sort_index().index)\n",
    "print(data_2015[c].value_counts().sort_index())\n",
    "print(missing_data(data_2015[c]))"
   ]
  },
  {
   "cell_type": "code",
   "execution_count": null,
   "metadata": {
    "collapsed": true
   },
   "outputs": [],
   "source": [
    "c = 'FAMI_AUTOMOVIL'\n",
    "print(data_2015[c].value_counts().sort_index().index)\n",
    "print(data_2015[c].value_counts().sort_index())\n",
    "print(missing_data(data_2015[c]))"
   ]
  },
  {
   "cell_type": "code",
   "execution_count": null,
   "metadata": {
    "collapsed": true
   },
   "outputs": [],
   "source": [
    "c = 'FAMI_HORNO'\n",
    "print(data_2015[c].value_counts().sort_index().index)\n",
    "print(data_2015[c].value_counts().sort_index())\n",
    "print(missing_data(data_2015[c]))"
   ]
  },
  {
   "cell_type": "code",
   "execution_count": null,
   "metadata": {
    "collapsed": true
   },
   "outputs": [],
   "source": [
    "c = 'FAMI_INGRESO_FMILIAR_MENSUAL'\n",
    "print(data_2015[c].value_counts().sort_index().index)\n",
    "print(data_2015[c].value_counts().sort_index())\n",
    "print(missing_data(data_2015[c]))"
   ]
  },
  {
   "cell_type": "code",
   "execution_count": null,
   "metadata": {
    "collapsed": true
   },
   "outputs": [],
   "source": [
    "c = 'ESTU_TRABAJA'\n",
    "print(data_2015[c].value_counts().sort_index().index)\n",
    "print(data_2015[c].value_counts().sort_index())\n",
    "print(missing_data(data_2015[c]))"
   ]
  },
  {
   "cell_type": "code",
   "execution_count": null,
   "metadata": {
    "collapsed": true
   },
   "outputs": [],
   "source": [
    "c = 'ESTU_RECIBE_SALARIO'\n",
    "print(data_2015[c].value_counts().sort_index().index)\n",
    "print(data_2015[c].value_counts().sort_index())\n",
    "print(missing_data(data_2015[c]))"
   ]
  },
  {
   "cell_type": "code",
   "execution_count": null,
   "metadata": {
    "collapsed": true
   },
   "outputs": [],
   "source": [
    "c = 'ESTU_VECES_ESTADO'\n",
    "print(data_2015[c].value_counts().sort_index().index)\n",
    "print(data_2015[c].value_counts().sort_index())\n",
    "print(missing_data(data_2015[c]))"
   ]
  },
  {
   "cell_type": "code",
   "execution_count": null,
   "metadata": {
    "collapsed": true
   },
   "outputs": [],
   "source": [
    "c = 'ESTU_COD_DEPTO_PRESENTACION'\n",
    "print(data_2015[c].value_counts().sort_index().index)\n",
    "print(data_2015[c].value_counts().sort_index())\n",
    "print(missing_data(data_2015[c]))"
   ]
  },
  {
   "cell_type": "code",
   "execution_count": null,
   "metadata": {
    "collapsed": true
   },
   "outputs": [],
   "source": [
    "c = 'ESTU_COD_MCPIO_PRESENTACION'\n",
    "print(data_2015[c].value_counts().sort_index().index)\n",
    "print(data_2015[c].value_counts().sort_index())\n",
    "print(missing_data(data_2015[c]))"
   ]
  },
  {
   "cell_type": "code",
   "execution_count": null,
   "metadata": {
    "collapsed": true
   },
   "outputs": [],
   "source": [
    "c = 'ESTU_MCPIO_PRESENTACION'\n",
    "print(data_2015[c].value_counts().sort_index().index)\n",
    "print(data_2015[c].value_counts().sort_index())\n",
    "print(missing_data(data_2015[c]))"
   ]
  },
  {
   "cell_type": "code",
   "execution_count": null,
   "metadata": {
    "collapsed": true
   },
   "outputs": [],
   "source": [
    "c = 'ESTU_DEPTO_PRESENTACION'\n",
    "print(data_2015[c].value_counts().sort_index().index)\n",
    "print(data_2015[c].value_counts().sort_index())\n",
    "print(missing_data(data_2015[c]))"
   ]
  },
  {
   "cell_type": "code",
   "execution_count": null,
   "metadata": {
    "collapsed": true
   },
   "outputs": [],
   "source": [
    "c = 'ESTU_COD_PLANTEL'\n",
    "print(data_2015[c].value_counts().sort_index().index)\n",
    "print(data_2015[c].value_counts().sort_index())\n",
    "print(missing_data(data_2015[c]))"
   ]
  },
  {
   "cell_type": "code",
   "execution_count": null,
   "metadata": {
    "collapsed": true
   },
   "outputs": [],
   "source": [
    "c = 'DECIL_LECTURA_CRITICA'\n",
    "print(data_2015[c].value_counts().sort_index().index)\n",
    "print(data_2015[c].value_counts().sort_index())\n",
    "print(missing_data(data_2015[c]))"
   ]
  },
  {
   "cell_type": "code",
   "execution_count": null,
   "metadata": {
    "collapsed": true
   },
   "outputs": [],
   "source": [
    "c = 'PUNT_LECTURA_CRITICA'\n",
    "print(data_2015[c].value_counts().sort_index().index)\n",
    "print(data_2015[c].value_counts().sort_index())\n",
    "print(missing_data(data_2015[c]))"
   ]
  },
  {
   "cell_type": "code",
   "execution_count": null,
   "metadata": {
    "collapsed": true
   },
   "outputs": [],
   "source": [
    "c = 'DECIL_MATEMATICAS'\n",
    "print(data_2015[c].value_counts().sort_index().index)\n",
    "print(data_2015[c].value_counts().sort_index())\n",
    "print(missing_data(data_2015[c]))"
   ]
  },
  {
   "cell_type": "code",
   "execution_count": null,
   "metadata": {
    "collapsed": true
   },
   "outputs": [],
   "source": [
    "c = 'PUNT_MATEMATICAS'\n",
    "print(data_2015[c].value_counts().sort_index().index)\n",
    "print(data_2015[c].value_counts().sort_index())\n",
    "print(missing_data(data_2015[c]))"
   ]
  },
  {
   "cell_type": "code",
   "execution_count": null,
   "metadata": {
    "collapsed": true
   },
   "outputs": [],
   "source": [
    "c = 'DECIL_C_NATURALES'\n",
    "print(data_2015[c].value_counts().sort_index().index)\n",
    "print(data_2015[c].value_counts().sort_index())\n",
    "print(missing_data(data_2015[c]))"
   ]
  },
  {
   "cell_type": "code",
   "execution_count": null,
   "metadata": {
    "collapsed": true
   },
   "outputs": [],
   "source": [
    "c = 'PUNT_C_NATURALES'\n",
    "print(data_2015[c].value_counts().sort_index().index)\n",
    "print(data_2015[c].value_counts().sort_index())\n",
    "print(missing_data(data_2015[c]))"
   ]
  },
  {
   "cell_type": "code",
   "execution_count": null,
   "metadata": {
    "collapsed": true
   },
   "outputs": [],
   "source": [
    "c = 'DECIL_SOCIALES_CIUDADANAS'\n",
    "print(data_2015[c].value_counts().sort_index().index)\n",
    "print(data_2015[c].value_counts().sort_index())\n",
    "print(missing_data(data_2015[c]))"
   ]
  },
  {
   "cell_type": "code",
   "execution_count": null,
   "metadata": {
    "collapsed": true
   },
   "outputs": [],
   "source": [
    "c = 'PUNT_SOCIALES_CIUDADANAS'\n",
    "print(data_2015[c].value_counts().sort_index().index)\n",
    "print(data_2015[c].value_counts().sort_index())\n",
    "print(missing_data(data_2015[c]))"
   ]
  },
  {
   "cell_type": "code",
   "execution_count": null,
   "metadata": {
    "collapsed": true
   },
   "outputs": [],
   "source": [
    "c = 'DECIL_INGLES'\n",
    "print(data_2015[c].value_counts().sort_index().index)\n",
    "print(data_2015[c].value_counts().sort_index())\n",
    "print(missing_data(data_2015[c]))"
   ]
  },
  {
   "cell_type": "code",
   "execution_count": null,
   "metadata": {
    "collapsed": true
   },
   "outputs": [],
   "source": [
    "c = 'DESEMP_INGLES'\n",
    "print(data_2015[c].value_counts().sort_index().index)\n",
    "print(data_2015[c].value_counts().sort_index())\n",
    "print(missing_data(data_2015[c]))"
   ]
  },
  {
   "cell_type": "code",
   "execution_count": null,
   "metadata": {
    "collapsed": true
   },
   "outputs": [],
   "source": [
    "c = 'PUNT_INGLES'\n",
    "print(data_2015[c].value_counts().sort_index().index)\n",
    "print(data_2015[c].value_counts().sort_index())\n",
    "print(missing_data(data_2015[c]))"
   ]
  },
  {
   "cell_type": "code",
   "execution_count": null,
   "metadata": {
    "collapsed": true
   },
   "outputs": [],
   "source": [
    "c = 'DECIL_RAZONA_CUANT'\n",
    "print(data_2015[c].value_counts().sort_index().index)\n",
    "print(data_2015[c].value_counts().sort_index())\n",
    "print(missing_data(data_2015[c]))"
   ]
  },
  {
   "cell_type": "code",
   "execution_count": null,
   "metadata": {
    "collapsed": true
   },
   "outputs": [],
   "source": [
    "c = 'PUNT_RAZONA_CUANT'\n",
    "print(data_2015[c].value_counts().sort_index().index)\n",
    "print(data_2015[c].value_counts().sort_index())\n",
    "print(missing_data(data_2015[c]))"
   ]
  },
  {
   "cell_type": "code",
   "execution_count": null,
   "metadata": {
    "collapsed": true
   },
   "outputs": [],
   "source": [
    "c = 'DECIL_COMP_CIUDADANA'\n",
    "print(data_2015[c].value_counts().sort_index().index)\n",
    "print(data_2015[c].value_counts().sort_index())\n",
    "print(missing_data(data_2015[c]))"
   ]
  },
  {
   "cell_type": "code",
   "execution_count": null,
   "metadata": {
    "collapsed": true
   },
   "outputs": [],
   "source": [
    "c = 'PUNT_COMP_CIUDADANA'\n",
    "print(data_2015[c].value_counts().sort_index().index)\n",
    "print(data_2015[c].value_counts().sort_index())\n",
    "print(missing_data(data_2015[c]))"
   ]
  },
  {
   "cell_type": "code",
   "execution_count": null,
   "metadata": {
    "collapsed": true
   },
   "outputs": [],
   "source": [
    "c = 'PUNT_GLOBAL'\n",
    "print(data_2015[c].value_counts().sort_index().index)\n",
    "print(data_2015[c].value_counts().sort_index())\n",
    "print(missing_data(data_2015[c]))"
   ]
  },
  {
   "cell_type": "code",
   "execution_count": null,
   "metadata": {
    "collapsed": true
   },
   "outputs": [],
   "source": [
    "c = 'ESTU_PUESTO'\n",
    "print(data_2015[c].value_counts().sort_index().index)\n",
    "print(data_2015[c].value_counts().sort_index())\n",
    "print(missing_data(data_2015[c]))"
   ]
  },
  {
   "cell_type": "markdown",
   "metadata": {},
   "source": [
    "___"
   ]
  },
  {
   "cell_type": "markdown",
   "metadata": {},
   "source": [
    "___"
   ]
  },
  {
   "cell_type": "markdown",
   "metadata": {},
   "source": [
    "___"
   ]
  },
  {
   "cell_type": "markdown",
   "metadata": {},
   "source": [
    "___"
   ]
  },
  {
   "cell_type": "markdown",
   "metadata": {},
   "source": [
    "___"
   ]
  },
  {
   "cell_type": "markdown",
   "metadata": {},
   "source": [
    "# YEAR 2015, Semester 2"
   ]
  },
  {
   "cell_type": "code",
   "execution_count": 2,
   "metadata": {
    "collapsed": false
   },
   "outputs": [
    {
     "name": "stderr",
     "output_type": "stream",
     "text": [
      "/usr/local/lib/python3.4/dist-packages/IPython/core/interactiveshell.py:2902: DtypeWarning: Columns (10,12,13,14,64) have mixed types. Specify dtype option on import or set low_memory=False.\n",
      "  interactivity=interactivity, compiler=compiler, result=result)\n"
     ]
    }
   ],
   "source": [
    "data_2015_2 = pd.read_csv('../DatosFTPICFES/SABER11/SB11-BASES_DE_DATOS/SB11-20152-RGSTRO-CLFCCN-V3-0.txt', delimiter = '|')"
   ]
  },
  {
   "cell_type": "code",
   "execution_count": 4,
   "metadata": {
    "collapsed": false
   },
   "outputs": [
    {
     "data": {
      "text/plain": [
       "(573128, 86)"
      ]
     },
     "execution_count": 4,
     "metadata": {},
     "output_type": "execute_result"
    }
   ],
   "source": [
    "data_2015_2.shape"
   ]
  },
  {
   "cell_type": "code",
   "execution_count": 5,
   "metadata": {
    "collapsed": false,
    "scrolled": true
   },
   "outputs": [
    {
     "data": {
      "text/html": [
       "<div>\n",
       "<table border=\"1\" class=\"dataframe\">\n",
       "  <thead>\n",
       "    <tr style=\"text-align: right;\">\n",
       "      <th></th>\n",
       "      <th>0</th>\n",
       "      <th>1</th>\n",
       "      <th>2</th>\n",
       "    </tr>\n",
       "  </thead>\n",
       "  <tbody>\n",
       "    <tr>\n",
       "      <th>PERIODO</th>\n",
       "      <td>20152</td>\n",
       "      <td>20152</td>\n",
       "      <td>20152</td>\n",
       "    </tr>\n",
       "    <tr>\n",
       "      <th>ESTU_CONSECUTIVO</th>\n",
       "      <td>SABER1120152000001</td>\n",
       "      <td>SABER1120152000002</td>\n",
       "      <td>SABER1120152000003</td>\n",
       "    </tr>\n",
       "    <tr>\n",
       "      <th>ESTU_ESTUDIANTE</th>\n",
       "      <td>INDIVIDUAL</td>\n",
       "      <td>INDIVIDUAL</td>\n",
       "      <td>ESTUDIANTE</td>\n",
       "    </tr>\n",
       "    <tr>\n",
       "      <th>ESTU_EDAD</th>\n",
       "      <td>18</td>\n",
       "      <td>20</td>\n",
       "      <td>16</td>\n",
       "    </tr>\n",
       "    <tr>\n",
       "      <th>ESTU_TIPO_DOCUMENTO</th>\n",
       "      <td>CC</td>\n",
       "      <td>CC</td>\n",
       "      <td>TI</td>\n",
       "    </tr>\n",
       "    <tr>\n",
       "      <th>ESTU_PAIS_RESIDE</th>\n",
       "      <td>1</td>\n",
       "      <td>1</td>\n",
       "      <td>1</td>\n",
       "    </tr>\n",
       "    <tr>\n",
       "      <th>ESTU_GENERO</th>\n",
       "      <td>M</td>\n",
       "      <td>F</td>\n",
       "      <td>M</td>\n",
       "    </tr>\n",
       "    <tr>\n",
       "      <th>ESTU_FECHA_NACIMIENTO</th>\n",
       "      <td>27/02/1997</td>\n",
       "      <td>27/10/1994</td>\n",
       "      <td>11/01/1999</td>\n",
       "    </tr>\n",
       "    <tr>\n",
       "      <th>ESTU_ETNIA</th>\n",
       "      <td>NaN</td>\n",
       "      <td>NaN</td>\n",
       "      <td>NaN</td>\n",
       "    </tr>\n",
       "    <tr>\n",
       "      <th>ESTU_LIMITA_MOTRIZ</th>\n",
       "      <td>NaN</td>\n",
       "      <td>NaN</td>\n",
       "      <td>NaN</td>\n",
       "    </tr>\n",
       "    <tr>\n",
       "      <th>ESTU_LIMITA_INVIDENTE</th>\n",
       "      <td>NaN</td>\n",
       "      <td>NaN</td>\n",
       "      <td>NaN</td>\n",
       "    </tr>\n",
       "    <tr>\n",
       "      <th>ESTU_LIMITA_CONDICIONESPECIAL</th>\n",
       "      <td>NaN</td>\n",
       "      <td>NaN</td>\n",
       "      <td>NaN</td>\n",
       "    </tr>\n",
       "    <tr>\n",
       "      <th>ESTU_LIMITA_SORDO</th>\n",
       "      <td>NaN</td>\n",
       "      <td>NaN</td>\n",
       "      <td>NaN</td>\n",
       "    </tr>\n",
       "    <tr>\n",
       "      <th>ESTU_LIMITA_SDOWN</th>\n",
       "      <td>NaN</td>\n",
       "      <td>NaN</td>\n",
       "      <td>NaN</td>\n",
       "    </tr>\n",
       "    <tr>\n",
       "      <th>ESTU_LIMITA_AUTISMO</th>\n",
       "      <td>NaN</td>\n",
       "      <td>NaN</td>\n",
       "      <td>NaN</td>\n",
       "    </tr>\n",
       "    <tr>\n",
       "      <th>COLE_COD_MCPIO_UBICACION</th>\n",
       "      <td>NaN</td>\n",
       "      <td>NaN</td>\n",
       "      <td>5120</td>\n",
       "    </tr>\n",
       "    <tr>\n",
       "      <th>ESTU_RESIDE_MCPIO</th>\n",
       "      <td>SUPIA</td>\n",
       "      <td>PEREIRA</td>\n",
       "      <td>CACERES</td>\n",
       "    </tr>\n",
       "    <tr>\n",
       "      <th>ESTU_RESIDE_DEPTO</th>\n",
       "      <td>CALDAS</td>\n",
       "      <td>RISARALDA</td>\n",
       "      <td>ANTIOQUIA</td>\n",
       "    </tr>\n",
       "    <tr>\n",
       "      <th>ESTU_COD_RESIDE_MCPIO</th>\n",
       "      <td>17777</td>\n",
       "      <td>66001</td>\n",
       "      <td>5120</td>\n",
       "    </tr>\n",
       "    <tr>\n",
       "      <th>ESTU_ZONA_RESIDE</th>\n",
       "      <td>10</td>\n",
       "      <td>10</td>\n",
       "      <td>10</td>\n",
       "    </tr>\n",
       "    <tr>\n",
       "      <th>COLE_COD_DANE_INSTITUCION</th>\n",
       "      <td>NaN</td>\n",
       "      <td>NaN</td>\n",
       "      <td>1.0512e+11</td>\n",
       "    </tr>\n",
       "    <tr>\n",
       "      <th>COLE_COD_ICFES</th>\n",
       "      <td>NaN</td>\n",
       "      <td>NaN</td>\n",
       "      <td>1487</td>\n",
       "    </tr>\n",
       "    <tr>\n",
       "      <th>COLE_NOMBRE_SEDE</th>\n",
       "      <td>NaN</td>\n",
       "      <td>NaN</td>\n",
       "      <td>LICEO CACERES</td>\n",
       "    </tr>\n",
       "    <tr>\n",
       "      <th>COLE_JORNADA</th>\n",
       "      <td>NaN</td>\n",
       "      <td>NaN</td>\n",
       "      <td>C</td>\n",
       "    </tr>\n",
       "    <tr>\n",
       "      <th>COLE_GENERO</th>\n",
       "      <td>NaN</td>\n",
       "      <td>NaN</td>\n",
       "      <td>MIXTO</td>\n",
       "    </tr>\n",
       "    <tr>\n",
       "      <th>COLE_CARACTER</th>\n",
       "      <td>NaN</td>\n",
       "      <td>NaN</td>\n",
       "      <td>ACADÉMICO</td>\n",
       "    </tr>\n",
       "    <tr>\n",
       "      <th>COLE_NATURALEZA</th>\n",
       "      <td>OTRO</td>\n",
       "      <td>OTRO</td>\n",
       "      <td>OFICIAL</td>\n",
       "    </tr>\n",
       "    <tr>\n",
       "      <th>COLE_BILINGUE</th>\n",
       "      <td>NaN</td>\n",
       "      <td>NaN</td>\n",
       "      <td>N</td>\n",
       "    </tr>\n",
       "    <tr>\n",
       "      <th>COLE_CALENDARIO</th>\n",
       "      <td>NaN</td>\n",
       "      <td>NaN</td>\n",
       "      <td>A</td>\n",
       "    </tr>\n",
       "    <tr>\n",
       "      <th>ESTU_AREA_RESIDE</th>\n",
       "      <td>U</td>\n",
       "      <td>U</td>\n",
       "      <td>U</td>\n",
       "    </tr>\n",
       "    <tr>\n",
       "      <th>...</th>\n",
       "      <td>...</td>\n",
       "      <td>...</td>\n",
       "      <td>...</td>\n",
       "    </tr>\n",
       "    <tr>\n",
       "      <th>FAMI_LAVADORA</th>\n",
       "      <td>S</td>\n",
       "      <td>S</td>\n",
       "      <td>N</td>\n",
       "    </tr>\n",
       "    <tr>\n",
       "      <th>FAMI_MICROONDAS</th>\n",
       "      <td>S</td>\n",
       "      <td>N</td>\n",
       "      <td>N</td>\n",
       "    </tr>\n",
       "    <tr>\n",
       "      <th>FAMI_AUTOMOVIL</th>\n",
       "      <td>N</td>\n",
       "      <td>S</td>\n",
       "      <td>N</td>\n",
       "    </tr>\n",
       "    <tr>\n",
       "      <th>FAMI_HORNO</th>\n",
       "      <td>S</td>\n",
       "      <td>S</td>\n",
       "      <td>N</td>\n",
       "    </tr>\n",
       "    <tr>\n",
       "      <th>FAMI_INGRESO_FMILIAR_MENSUAL</th>\n",
       "      <td>2</td>\n",
       "      <td>2</td>\n",
       "      <td>3</td>\n",
       "    </tr>\n",
       "    <tr>\n",
       "      <th>ESTU_TRABAJA</th>\n",
       "      <td>NaN</td>\n",
       "      <td>NaN</td>\n",
       "      <td>1</td>\n",
       "    </tr>\n",
       "    <tr>\n",
       "      <th>ESTU_RECIBE_SALARIO</th>\n",
       "      <td>NaN</td>\n",
       "      <td>NaN</td>\n",
       "      <td>NaN</td>\n",
       "    </tr>\n",
       "    <tr>\n",
       "      <th>ESTU_VECES_ESTADO</th>\n",
       "      <td>2</td>\n",
       "      <td>1</td>\n",
       "      <td>NaN</td>\n",
       "    </tr>\n",
       "    <tr>\n",
       "      <th>ESTU_COD_PLANTEL</th>\n",
       "      <td>NaN</td>\n",
       "      <td>NaN</td>\n",
       "      <td>NaN</td>\n",
       "    </tr>\n",
       "    <tr>\n",
       "      <th>ESTU_COD_DEPTO_PRESENTACION</th>\n",
       "      <td>66</td>\n",
       "      <td>66</td>\n",
       "      <td>5</td>\n",
       "    </tr>\n",
       "    <tr>\n",
       "      <th>ESTU_COD_MCPIO_PRESENTACION</th>\n",
       "      <td>66001</td>\n",
       "      <td>66001</td>\n",
       "      <td>5120</td>\n",
       "    </tr>\n",
       "    <tr>\n",
       "      <th>ESTU_MCPIO_PRESENTACION</th>\n",
       "      <td>PEREIRA</td>\n",
       "      <td>PEREIRA</td>\n",
       "      <td>CACERES</td>\n",
       "    </tr>\n",
       "    <tr>\n",
       "      <th>ESTU_DEPTO_PRESENTACION</th>\n",
       "      <td>RISARALDA</td>\n",
       "      <td>RISARALDA</td>\n",
       "      <td>ANTIOQUIA</td>\n",
       "    </tr>\n",
       "    <tr>\n",
       "      <th>DECIL_LECTURA_CRITICA</th>\n",
       "      <td>D09</td>\n",
       "      <td>D04</td>\n",
       "      <td>D07</td>\n",
       "    </tr>\n",
       "    <tr>\n",
       "      <th>PUNT_LECTURA_CRITICA</th>\n",
       "      <td>61</td>\n",
       "      <td>45</td>\n",
       "      <td>54</td>\n",
       "    </tr>\n",
       "    <tr>\n",
       "      <th>DECIL_MATEMATICAS</th>\n",
       "      <td>D10</td>\n",
       "      <td>D03</td>\n",
       "      <td>D08</td>\n",
       "    </tr>\n",
       "    <tr>\n",
       "      <th>PUNT_MATEMATICAS</th>\n",
       "      <td>69</td>\n",
       "      <td>43</td>\n",
       "      <td>57</td>\n",
       "    </tr>\n",
       "    <tr>\n",
       "      <th>DECIL_C_NATURALES</th>\n",
       "      <td>D09</td>\n",
       "      <td>D01</td>\n",
       "      <td>D10</td>\n",
       "    </tr>\n",
       "    <tr>\n",
       "      <th>PUNT_C_NATURALES</th>\n",
       "      <td>59</td>\n",
       "      <td>38</td>\n",
       "      <td>65</td>\n",
       "    </tr>\n",
       "    <tr>\n",
       "      <th>DECIL_SOCIALES_CIUDADANAS</th>\n",
       "      <td>D08</td>\n",
       "      <td>D02</td>\n",
       "      <td>D10</td>\n",
       "    </tr>\n",
       "    <tr>\n",
       "      <th>PUNT_SOCIALES_CIUDADANAS</th>\n",
       "      <td>58</td>\n",
       "      <td>39</td>\n",
       "      <td>74</td>\n",
       "    </tr>\n",
       "    <tr>\n",
       "      <th>DECIL_INGLES</th>\n",
       "      <td>D06</td>\n",
       "      <td>D05</td>\n",
       "      <td>D10</td>\n",
       "    </tr>\n",
       "    <tr>\n",
       "      <th>DESEMP_INGLES</th>\n",
       "      <td>A1</td>\n",
       "      <td>A1</td>\n",
       "      <td>B1</td>\n",
       "    </tr>\n",
       "    <tr>\n",
       "      <th>PUNT_INGLES</th>\n",
       "      <td>50</td>\n",
       "      <td>49</td>\n",
       "      <td>73</td>\n",
       "    </tr>\n",
       "    <tr>\n",
       "      <th>DECIL_RAZONA_CUANT</th>\n",
       "      <td>D10</td>\n",
       "      <td>D02</td>\n",
       "      <td>D08</td>\n",
       "    </tr>\n",
       "    <tr>\n",
       "      <th>PUNT_RAZONA_CUANT</th>\n",
       "      <td>73</td>\n",
       "      <td>39</td>\n",
       "      <td>61</td>\n",
       "    </tr>\n",
       "    <tr>\n",
       "      <th>DECIL_COMP_CIUDADANA</th>\n",
       "      <td>D08</td>\n",
       "      <td>D03</td>\n",
       "      <td>D10</td>\n",
       "    </tr>\n",
       "    <tr>\n",
       "      <th>PUNT_COMP_CIUDADANA</th>\n",
       "      <td>56</td>\n",
       "      <td>44</td>\n",
       "      <td>71</td>\n",
       "    </tr>\n",
       "    <tr>\n",
       "      <th>PUNT_GLOBAL</th>\n",
       "      <td>304</td>\n",
       "      <td>209</td>\n",
       "      <td>317</td>\n",
       "    </tr>\n",
       "    <tr>\n",
       "      <th>ESTU_PUESTO</th>\n",
       "      <td>124</td>\n",
       "      <td>801</td>\n",
       "      <td>87</td>\n",
       "    </tr>\n",
       "  </tbody>\n",
       "</table>\n",
       "<p>86 rows × 3 columns</p>\n",
       "</div>"
      ],
      "text/plain": [
       "                                                0                   1  \\\n",
       "PERIODO                                     20152               20152   \n",
       "ESTU_CONSECUTIVO               SABER1120152000001  SABER1120152000002   \n",
       "ESTU_ESTUDIANTE                        INDIVIDUAL          INDIVIDUAL   \n",
       "ESTU_EDAD                                      18                  20   \n",
       "ESTU_TIPO_DOCUMENTO                            CC                  CC   \n",
       "ESTU_PAIS_RESIDE                                1                   1   \n",
       "ESTU_GENERO                                     M                   F   \n",
       "ESTU_FECHA_NACIMIENTO                  27/02/1997          27/10/1994   \n",
       "ESTU_ETNIA                                    NaN                 NaN   \n",
       "ESTU_LIMITA_MOTRIZ                            NaN                 NaN   \n",
       "ESTU_LIMITA_INVIDENTE                         NaN                 NaN   \n",
       "ESTU_LIMITA_CONDICIONESPECIAL                 NaN                 NaN   \n",
       "ESTU_LIMITA_SORDO                             NaN                 NaN   \n",
       "ESTU_LIMITA_SDOWN                             NaN                 NaN   \n",
       "ESTU_LIMITA_AUTISMO                           NaN                 NaN   \n",
       "COLE_COD_MCPIO_UBICACION                      NaN                 NaN   \n",
       "ESTU_RESIDE_MCPIO                           SUPIA             PEREIRA   \n",
       "ESTU_RESIDE_DEPTO                          CALDAS           RISARALDA   \n",
       "ESTU_COD_RESIDE_MCPIO                       17777               66001   \n",
       "ESTU_ZONA_RESIDE                               10                  10   \n",
       "COLE_COD_DANE_INSTITUCION                     NaN                 NaN   \n",
       "COLE_COD_ICFES                                NaN                 NaN   \n",
       "COLE_NOMBRE_SEDE                              NaN                 NaN   \n",
       "COLE_JORNADA                                  NaN                 NaN   \n",
       "COLE_GENERO                                   NaN                 NaN   \n",
       "COLE_CARACTER                                 NaN                 NaN   \n",
       "COLE_NATURALEZA                              OTRO                OTRO   \n",
       "COLE_BILINGUE                                 NaN                 NaN   \n",
       "COLE_CALENDARIO                               NaN                 NaN   \n",
       "ESTU_AREA_RESIDE                                U                   U   \n",
       "...                                           ...                 ...   \n",
       "FAMI_LAVADORA                                   S                   S   \n",
       "FAMI_MICROONDAS                                 S                   N   \n",
       "FAMI_AUTOMOVIL                                  N                   S   \n",
       "FAMI_HORNO                                      S                   S   \n",
       "FAMI_INGRESO_FMILIAR_MENSUAL                    2                   2   \n",
       "ESTU_TRABAJA                                  NaN                 NaN   \n",
       "ESTU_RECIBE_SALARIO                           NaN                 NaN   \n",
       "ESTU_VECES_ESTADO                               2                   1   \n",
       "ESTU_COD_PLANTEL                              NaN                 NaN   \n",
       "ESTU_COD_DEPTO_PRESENTACION                    66                  66   \n",
       "ESTU_COD_MCPIO_PRESENTACION                 66001               66001   \n",
       "ESTU_MCPIO_PRESENTACION                   PEREIRA             PEREIRA   \n",
       "ESTU_DEPTO_PRESENTACION                 RISARALDA           RISARALDA   \n",
       "DECIL_LECTURA_CRITICA                         D09                 D04   \n",
       "PUNT_LECTURA_CRITICA                           61                  45   \n",
       "DECIL_MATEMATICAS                             D10                 D03   \n",
       "PUNT_MATEMATICAS                               69                  43   \n",
       "DECIL_C_NATURALES                             D09                 D01   \n",
       "PUNT_C_NATURALES                               59                  38   \n",
       "DECIL_SOCIALES_CIUDADANAS                     D08                 D02   \n",
       "PUNT_SOCIALES_CIUDADANAS                       58                  39   \n",
       "DECIL_INGLES                                  D06                 D05   \n",
       "DESEMP_INGLES                                  A1                  A1   \n",
       "PUNT_INGLES                                    50                  49   \n",
       "DECIL_RAZONA_CUANT                            D10                 D02   \n",
       "PUNT_RAZONA_CUANT                              73                  39   \n",
       "DECIL_COMP_CIUDADANA                          D08                 D03   \n",
       "PUNT_COMP_CIUDADANA                            56                  44   \n",
       "PUNT_GLOBAL                                   304                 209   \n",
       "ESTU_PUESTO                                   124                 801   \n",
       "\n",
       "                                                2  \n",
       "PERIODO                                     20152  \n",
       "ESTU_CONSECUTIVO               SABER1120152000003  \n",
       "ESTU_ESTUDIANTE                        ESTUDIANTE  \n",
       "ESTU_EDAD                                      16  \n",
       "ESTU_TIPO_DOCUMENTO                            TI  \n",
       "ESTU_PAIS_RESIDE                                1  \n",
       "ESTU_GENERO                                     M  \n",
       "ESTU_FECHA_NACIMIENTO                  11/01/1999  \n",
       "ESTU_ETNIA                                    NaN  \n",
       "ESTU_LIMITA_MOTRIZ                            NaN  \n",
       "ESTU_LIMITA_INVIDENTE                         NaN  \n",
       "ESTU_LIMITA_CONDICIONESPECIAL                 NaN  \n",
       "ESTU_LIMITA_SORDO                             NaN  \n",
       "ESTU_LIMITA_SDOWN                             NaN  \n",
       "ESTU_LIMITA_AUTISMO                           NaN  \n",
       "COLE_COD_MCPIO_UBICACION                     5120  \n",
       "ESTU_RESIDE_MCPIO                         CACERES  \n",
       "ESTU_RESIDE_DEPTO                       ANTIOQUIA  \n",
       "ESTU_COD_RESIDE_MCPIO                        5120  \n",
       "ESTU_ZONA_RESIDE                               10  \n",
       "COLE_COD_DANE_INSTITUCION              1.0512e+11  \n",
       "COLE_COD_ICFES                               1487  \n",
       "COLE_NOMBRE_SEDE                    LICEO CACERES  \n",
       "COLE_JORNADA                                    C  \n",
       "COLE_GENERO                                 MIXTO  \n",
       "COLE_CARACTER                           ACADÉMICO  \n",
       "COLE_NATURALEZA                           OFICIAL  \n",
       "COLE_BILINGUE                                   N  \n",
       "COLE_CALENDARIO                                 A  \n",
       "ESTU_AREA_RESIDE                                U  \n",
       "...                                           ...  \n",
       "FAMI_LAVADORA                                   N  \n",
       "FAMI_MICROONDAS                                 N  \n",
       "FAMI_AUTOMOVIL                                  N  \n",
       "FAMI_HORNO                                      N  \n",
       "FAMI_INGRESO_FMILIAR_MENSUAL                    3  \n",
       "ESTU_TRABAJA                                    1  \n",
       "ESTU_RECIBE_SALARIO                           NaN  \n",
       "ESTU_VECES_ESTADO                             NaN  \n",
       "ESTU_COD_PLANTEL                              NaN  \n",
       "ESTU_COD_DEPTO_PRESENTACION                     5  \n",
       "ESTU_COD_MCPIO_PRESENTACION                  5120  \n",
       "ESTU_MCPIO_PRESENTACION                   CACERES  \n",
       "ESTU_DEPTO_PRESENTACION                 ANTIOQUIA  \n",
       "DECIL_LECTURA_CRITICA                         D07  \n",
       "PUNT_LECTURA_CRITICA                           54  \n",
       "DECIL_MATEMATICAS                             D08  \n",
       "PUNT_MATEMATICAS                               57  \n",
       "DECIL_C_NATURALES                             D10  \n",
       "PUNT_C_NATURALES                               65  \n",
       "DECIL_SOCIALES_CIUDADANAS                     D10  \n",
       "PUNT_SOCIALES_CIUDADANAS                       74  \n",
       "DECIL_INGLES                                  D10  \n",
       "DESEMP_INGLES                                  B1  \n",
       "PUNT_INGLES                                    73  \n",
       "DECIL_RAZONA_CUANT                            D08  \n",
       "PUNT_RAZONA_CUANT                              61  \n",
       "DECIL_COMP_CIUDADANA                          D10  \n",
       "PUNT_COMP_CIUDADANA                            71  \n",
       "PUNT_GLOBAL                                   317  \n",
       "ESTU_PUESTO                                    87  \n",
       "\n",
       "[86 rows x 3 columns]"
      ]
     },
     "execution_count": 5,
     "metadata": {},
     "output_type": "execute_result"
    }
   ],
   "source": [
    "data_2015_2.head(3).T"
   ]
  },
  {
   "cell_type": "code",
   "execution_count": null,
   "metadata": {
    "collapsed": true
   },
   "outputs": [],
   "source": [
    "c = 'PERIODO'\n",
    "print(data_2015_2[c].value_counts().sort_index().index)\n",
    "print(data_2015_2[c].value_counts().sort_index())\n",
    "print(missing_data(data_2015_2[c]))"
   ]
  },
  {
   "cell_type": "code",
   "execution_count": null,
   "metadata": {
    "collapsed": true
   },
   "outputs": [],
   "source": [
    "c = 'ESTU_CONSECUTIVO'\n",
    "print(data_2015_2[c].value_counts().sort_index().index)\n",
    "print(data_2015_2[c].value_counts().sort_index())\n",
    "print(missing_data(data_2015_2[c]))"
   ]
  },
  {
   "cell_type": "code",
   "execution_count": null,
   "metadata": {
    "collapsed": true
   },
   "outputs": [],
   "source": [
    "c = 'ESTU_ESTUDIANTE'\n",
    "print(data_2015_2[c].value_counts().sort_index().index)\n",
    "print(data_2015_2[c].value_counts().sort_index())\n",
    "print(missing_data(data_2015_2[c]))"
   ]
  },
  {
   "cell_type": "code",
   "execution_count": null,
   "metadata": {
    "collapsed": true
   },
   "outputs": [],
   "source": [
    "c = 'ESTU_EDAD'\n",
    "print(data_2015_2[c].value_counts().sort_index().index)\n",
    "print(data_2015_2[c].value_counts().sort_index())\n",
    "print(missing_data(data_2015_2[c]))"
   ]
  },
  {
   "cell_type": "code",
   "execution_count": null,
   "metadata": {
    "collapsed": true
   },
   "outputs": [],
   "source": [
    "c = 'ESTU_TIPO_DOCUMENTO'\n",
    "print(data_2015_2[c].value_counts().sort_index().index)\n",
    "print(data_2015_2[c].value_counts().sort_index())\n",
    "print(missing_data(data_2015_2[c]))"
   ]
  },
  {
   "cell_type": "code",
   "execution_count": null,
   "metadata": {
    "collapsed": true
   },
   "outputs": [],
   "source": [
    "c = 'ESTU_PAIS_RESIDE'\n",
    "print(data_2015_2[c].value_counts().sort_index().index)\n",
    "print(data_2015_2[c].value_counts().sort_index())\n",
    "print(missing_data(data_2015_2[c]))"
   ]
  },
  {
   "cell_type": "code",
   "execution_count": null,
   "metadata": {
    "collapsed": true
   },
   "outputs": [],
   "source": [
    "c = 'ESTU_GENERO'\n",
    "print(data_2015_2[c].value_counts().sort_index().index)\n",
    "print(data_2015_2[c].value_counts().sort_index())\n",
    "print(missing_data(data_2015_2[c]))"
   ]
  },
  {
   "cell_type": "code",
   "execution_count": null,
   "metadata": {
    "collapsed": true
   },
   "outputs": [],
   "source": [
    "c = 'ESTU_FECHA_NACIMIENTO'\n",
    "print(data_2015_2[c].value_counts().sort_index().index)\n",
    "print(data_2015_2[c].value_counts().sort_index())\n",
    "print(missing_data(data_2015_2[c]))"
   ]
  },
  {
   "cell_type": "code",
   "execution_count": null,
   "metadata": {
    "collapsed": true
   },
   "outputs": [],
   "source": [
    "c = 'ESTU_ETNIA'\n",
    "print(data_2015_2[c].value_counts().sort_index().index)\n",
    "print(data_2015_2[c].value_counts().sort_index())\n",
    "print(missing_data(data_2015_2[c]))"
   ]
  },
  {
   "cell_type": "code",
   "execution_count": null,
   "metadata": {
    "collapsed": true
   },
   "outputs": [],
   "source": [
    "c = 'ESTU_LIMITA_MOTRIZ'\n",
    "print(data_2015_2[c].value_counts().sort_index().index)\n",
    "print(data_2015_2[c].value_counts().sort_index())\n",
    "print(missing_data(data_2015_2[c]))"
   ]
  },
  {
   "cell_type": "code",
   "execution_count": null,
   "metadata": {
    "collapsed": true
   },
   "outputs": [],
   "source": [
    "c = 'ESTU_LIMITA_INVIDENTE'\n",
    "print(data_2015_2[c].value_counts().sort_index().index)\n",
    "print(data_2015_2[c].value_counts().sort_index())\n",
    "print(missing_data(data_2015_2[c]))"
   ]
  },
  {
   "cell_type": "code",
   "execution_count": null,
   "metadata": {
    "collapsed": true
   },
   "outputs": [],
   "source": [
    "c = 'ESTU_LIMITA_CONDICIONESPECIAL'\n",
    "print(data_2015_2[c].value_counts().sort_index().index)\n",
    "print(data_2015_2[c].value_counts().sort_index())\n",
    "print(missing_data(data_2015_2[c]))"
   ]
  },
  {
   "cell_type": "code",
   "execution_count": null,
   "metadata": {
    "collapsed": true
   },
   "outputs": [],
   "source": [
    "c = 'ESTU_LIMITA_SORDO'\n",
    "print(data_2015_2[c].value_counts().sort_index().index)\n",
    "print(data_2015_2[c].value_counts().sort_index())\n",
    "print(missing_data(data_2015_2[c]))"
   ]
  },
  {
   "cell_type": "code",
   "execution_count": null,
   "metadata": {
    "collapsed": true
   },
   "outputs": [],
   "source": [
    "c = 'ESTU_LIMITA_SDOWN'\n",
    "print(data_2015_2[c].value_counts().sort_index().index)\n",
    "print(data_2015_2[c].value_counts().sort_index())\n",
    "print(missing_data(data_2015_2[c]))"
   ]
  },
  {
   "cell_type": "code",
   "execution_count": null,
   "metadata": {
    "collapsed": true
   },
   "outputs": [],
   "source": [
    "c = 'ESTU_LIMITA_AUTISMO'\n",
    "print(data_2015_2[c].value_counts().sort_index().index)\n",
    "print(data_2015_2[c].value_counts().sort_index())\n",
    "print(missing_data(data_2015_2[c]))"
   ]
  },
  {
   "cell_type": "code",
   "execution_count": null,
   "metadata": {
    "collapsed": true
   },
   "outputs": [],
   "source": [
    "c = 'COLE_COD_MCPIO_UBICACION'\n",
    "print(data_2015_2[c].value_counts().sort_index().index)\n",
    "print(data_2015_2[c].value_counts().sort_index())\n",
    "print(missing_data(data_2015_2[c]))"
   ]
  },
  {
   "cell_type": "code",
   "execution_count": null,
   "metadata": {
    "collapsed": true
   },
   "outputs": [],
   "source": [
    "c = 'ESTU_RESIDE_MCPIO'\n",
    "print(data_2015_2[c].value_counts().sort_index().index)\n",
    "print(data_2015_2[c].value_counts().sort_index())\n",
    "print(missing_data(data_2015_2[c]))"
   ]
  },
  {
   "cell_type": "code",
   "execution_count": null,
   "metadata": {
    "collapsed": true
   },
   "outputs": [],
   "source": [
    "c = 'ESTU_RESIDE_DEPTO'\n",
    "print(data_2015_2[c].value_counts().sort_index().index)\n",
    "print(data_2015_2[c].value_counts().sort_index())\n",
    "print(missing_data(data_2015_2[c]))"
   ]
  },
  {
   "cell_type": "code",
   "execution_count": null,
   "metadata": {
    "collapsed": true
   },
   "outputs": [],
   "source": [
    "c = 'ESTU_COD_RESIDE_MCPIO'\n",
    "print(data_2015_2[c].value_counts().sort_index().index)\n",
    "print(data_2015_2[c].value_counts().sort_index())\n",
    "print(missing_data(data_2015_2[c]))"
   ]
  },
  {
   "cell_type": "code",
   "execution_count": null,
   "metadata": {
    "collapsed": true
   },
   "outputs": [],
   "source": [
    "c = 'ESTU_ZONA_RESIDE'\n",
    "print(data_2015_2[c].value_counts().sort_index().index)\n",
    "print(data_2015_2[c].value_counts().sort_index())\n",
    "print(missing_data(data_2015_2[c]))"
   ]
  },
  {
   "cell_type": "code",
   "execution_count": null,
   "metadata": {
    "collapsed": true
   },
   "outputs": [],
   "source": [
    "c = 'COLE_COD_DANE_INSTITUCION'\n",
    "print(data_2015_2[c].value_counts().sort_index().index)\n",
    "print(data_2015_2[c].value_counts().sort_index())\n",
    "print(missing_data(data_2015_2[c]))"
   ]
  },
  {
   "cell_type": "code",
   "execution_count": null,
   "metadata": {
    "collapsed": true
   },
   "outputs": [],
   "source": [
    "c = 'COLE_COD_ICFES'\n",
    "print(data_2015_2[c].value_counts().sort_index().index)\n",
    "print(data_2015_2[c].value_counts().sort_index())\n",
    "print(missing_data(data_2015_2[c]))"
   ]
  },
  {
   "cell_type": "code",
   "execution_count": null,
   "metadata": {
    "collapsed": true
   },
   "outputs": [],
   "source": [
    "c = 'COLE_NOMBRE_SEDE'\n",
    "print(data_2015_2[c].value_counts().sort_index().index)\n",
    "print(data_2015_2[c].value_counts().sort_index())\n",
    "print(missing_data(data_2015_2[c]))"
   ]
  },
  {
   "cell_type": "code",
   "execution_count": null,
   "metadata": {
    "collapsed": true
   },
   "outputs": [],
   "source": [
    "c = 'COLE_JORNADA'\n",
    "print(data_2015_2[c].value_counts().sort_index().index)\n",
    "print(data_2015_2[c].value_counts().sort_index())\n",
    "print(missing_data(data_2015_2[c]))"
   ]
  },
  {
   "cell_type": "code",
   "execution_count": null,
   "metadata": {
    "collapsed": true
   },
   "outputs": [],
   "source": [
    "c = 'COLE_GENERO'\n",
    "print(data_2015_2[c].value_counts().sort_index().index)\n",
    "print(data_2015_2[c].value_counts().sort_index())\n",
    "print(missing_data(data_2015_2[c]))"
   ]
  },
  {
   "cell_type": "code",
   "execution_count": null,
   "metadata": {
    "collapsed": true
   },
   "outputs": [],
   "source": [
    "c = 'COLE_CARACTER'\n",
    "print(data_2015_2[c].value_counts().sort_index().index)\n",
    "print(data_2015_2[c].value_counts().sort_index())\n",
    "print(missing_data(data_2015_2[c]))"
   ]
  },
  {
   "cell_type": "code",
   "execution_count": null,
   "metadata": {
    "collapsed": true
   },
   "outputs": [],
   "source": [
    "c = 'COLE_NATURALEZA'\n",
    "print(data_2015_2[c].value_counts().sort_index().index)\n",
    "print(data_2015_2[c].value_counts().sort_index())\n",
    "print(missing_data(data_2015_2[c]))"
   ]
  },
  {
   "cell_type": "code",
   "execution_count": null,
   "metadata": {
    "collapsed": true
   },
   "outputs": [],
   "source": [
    "c = 'COLE_BILINGUE'\n",
    "print(data_2015_2[c].value_counts().sort_index().index)\n",
    "print(data_2015_2[c].value_counts().sort_index())\n",
    "print(missing_data(data_2015_2[c]))"
   ]
  },
  {
   "cell_type": "code",
   "execution_count": null,
   "metadata": {
    "collapsed": true
   },
   "outputs": [],
   "source": [
    "c = 'COLE_CALENDARIO'\n",
    "print(data_2015_2[c].value_counts().sort_index().index)\n",
    "print(data_2015_2[c].value_counts().sort_index())\n",
    "print(missing_data(data_2015_2[c]))"
   ]
  },
  {
   "cell_type": "code",
   "execution_count": null,
   "metadata": {
    "collapsed": true
   },
   "outputs": [],
   "source": [
    "c = 'ESTU_AREA_RESIDE'\n",
    "print(data_2015_2[c].value_counts().sort_index().index)\n",
    "print(data_2015_2[c].value_counts().sort_index())\n",
    "print(missing_data(data_2015_2[c]))"
   ]
  },
  {
   "cell_type": "code",
   "execution_count": null,
   "metadata": {
    "collapsed": true
   },
   "outputs": [],
   "source": [
    "c = 'COLE_AREA_UBICACION'\n",
    "print(data_2015_2[c].value_counts().sort_index().index)\n",
    "print(data_2015_2[c].value_counts().sort_index())\n",
    "print(missing_data(data_2015_2[c]))"
   ]
  },
  {
   "cell_type": "code",
   "execution_count": null,
   "metadata": {
    "collapsed": true
   },
   "outputs": [],
   "source": [
    "c = 'COLE_DEPTO_UBICACION'\n",
    "print(data_2015_2[c].value_counts().sort_index().index)\n",
    "print(data_2015_2[c].value_counts().sort_index())\n",
    "print(missing_data(data_2015_2[c]))"
   ]
  },
  {
   "cell_type": "code",
   "execution_count": null,
   "metadata": {
    "collapsed": true
   },
   "outputs": [],
   "source": [
    "c = 'COLE_MCPIO_UBICACION'\n",
    "print(data_2015_2[c].value_counts().sort_index().index)\n",
    "print(data_2015_2[c].value_counts().sort_index())\n",
    "print(missing_data(data_2015_2[c]))"
   ]
  },
  {
   "cell_type": "code",
   "execution_count": null,
   "metadata": {
    "collapsed": true
   },
   "outputs": [],
   "source": [
    "c = 'ESTU_COD_RESIDE_DEPTO'\n",
    "print(data_2015_2[c].value_counts().sort_index().index)\n",
    "print(data_2015_2[c].value_counts().sort_index())\n",
    "print(missing_data(data_2015_2[c]))"
   ]
  },
  {
   "cell_type": "code",
   "execution_count": null,
   "metadata": {
    "collapsed": true
   },
   "outputs": [],
   "source": [
    "c = 'ESTU_PRIVADO_LIBERTAD'\n",
    "print(data_2015_2[c].value_counts().sort_index().index)\n",
    "print(data_2015_2[c].value_counts().sort_index())\n",
    "print(missing_data(data_2015_2[c]))"
   ]
  },
  {
   "cell_type": "code",
   "execution_count": null,
   "metadata": {
    "collapsed": true
   },
   "outputs": [],
   "source": [
    "c = 'ESTU_ANO_TERMINO_BACHILL'\n",
    "print(data_2015_2[c].value_counts().sort_index().index)\n",
    "print(data_2015_2[c].value_counts().sort_index())\n",
    "print(missing_data(data_2015_2[c]))"
   ]
  },
  {
   "cell_type": "code",
   "execution_count": null,
   "metadata": {
    "collapsed": true
   },
   "outputs": [],
   "source": [
    "c = 'ESTU_MES_TERMINO_BACHILL'\n",
    "print(data_2015_2[c].value_counts().sort_index().index)\n",
    "print(data_2015_2[c].value_counts().sort_index())\n",
    "print(missing_data(data_2015_2[c]))"
   ]
  },
  {
   "cell_type": "code",
   "execution_count": null,
   "metadata": {
    "collapsed": true
   },
   "outputs": [],
   "source": [
    "c = 'ESTU_NUMERO_LIBROS'\n",
    "print(data_2015_2[c].value_counts().sort_index().index)\n",
    "print(data_2015_2[c].value_counts().sort_index())\n",
    "print(missing_data(data_2015_2[c]))"
   ]
  },
  {
   "cell_type": "code",
   "execution_count": null,
   "metadata": {
    "collapsed": true
   },
   "outputs": [],
   "source": [
    "c = 'ESTU_OTRO_PLANTEL'\n",
    "print(data_2015_2[c].value_counts().sort_index().index)\n",
    "print(data_2015_2[c].value_counts().sort_index())\n",
    "print(missing_data(data_2015_2[c]))"
   ]
  },
  {
   "cell_type": "code",
   "execution_count": null,
   "metadata": {
    "collapsed": true
   },
   "outputs": [],
   "source": [
    "c = 'ESTU_COD_OTRO_PAIS_PLANTEL'\n",
    "print(data_2015_2[c].value_counts().sort_index().index)\n",
    "print(data_2015_2[c].value_counts().sort_index())\n",
    "print(missing_data(data_2015_2[c]))"
   ]
  },
  {
   "cell_type": "code",
   "execution_count": null,
   "metadata": {
    "collapsed": true
   },
   "outputs": [],
   "source": [
    "c = 'COLE_VALOR_PENSION'\n",
    "print(data_2015_2[c].value_counts().sort_index().index)\n",
    "print(data_2015_2[c].value_counts().sort_index())\n",
    "print(missing_data(data_2015_2[c]))"
   ]
  },
  {
   "cell_type": "code",
   "execution_count": null,
   "metadata": {
    "collapsed": true
   },
   "outputs": [],
   "source": [
    "c = 'ESTU_VECES_ESTADO_ESTUDIANTIL'\n",
    "print(data_2015_2[c].value_counts().sort_index().index)\n",
    "print(data_2015_2[c].value_counts().sort_index())\n",
    "print(missing_data(data_2015_2[c]))"
   ]
  },
  {
   "cell_type": "code",
   "execution_count": null,
   "metadata": {
    "collapsed": true
   },
   "outputs": [],
   "source": [
    "c = 'FAMI_EDUCA_PADRE'\n",
    "print(data_2015_2[c].value_counts().sort_index().index)\n",
    "print(data_2015_2[c].value_counts().sort_index())\n",
    "print(missing_data(data_2015_2[c]))"
   ]
  },
  {
   "cell_type": "code",
   "execution_count": null,
   "metadata": {
    "collapsed": true
   },
   "outputs": [],
   "source": [
    "c = 'FAMI_EDUCA_MADRE'\n",
    "print(data_2015_2[c].value_counts().sort_index().index)\n",
    "print(data_2015_2[c].value_counts().sort_index())\n",
    "print(missing_data(data_2015_2[c]))"
   ]
  },
  {
   "cell_type": "code",
   "execution_count": null,
   "metadata": {
    "collapsed": true
   },
   "outputs": [],
   "source": [
    "c = 'FAMI_OCUPA_PADRE'\n",
    "print(data_2015_2[c].value_counts().sort_index().index)\n",
    "print(data_2015_2[c].value_counts().sort_index())\n",
    "print(missing_data(data_2015_2[c]))"
   ]
  },
  {
   "cell_type": "code",
   "execution_count": null,
   "metadata": {
    "collapsed": true
   },
   "outputs": [],
   "source": [
    "c = 'FAMI_OCUPA_MADRE'\n",
    "print(data_2015_2[c].value_counts().sort_index().index)\n",
    "print(data_2015_2[c].value_counts().sort_index())\n",
    "print(missing_data(data_2015_2[c]))"
   ]
  },
  {
   "cell_type": "code",
   "execution_count": null,
   "metadata": {
    "collapsed": true
   },
   "outputs": [],
   "source": [
    "c = 'FAMI_ESTRATO_VIVIENDA'\n",
    "print(data_2015_2[c].value_counts().sort_index().index)\n",
    "print(data_2015_2[c].value_counts().sort_index())\n",
    "print(missing_data(data_2015_2[c]))"
   ]
  },
  {
   "cell_type": "code",
   "execution_count": null,
   "metadata": {
    "collapsed": true
   },
   "outputs": [],
   "source": [
    "c = 'FAMI_NIVEL_SISBEN'\n",
    "print(data_2015_2[c].value_counts().sort_index().index)\n",
    "print(data_2015_2[c].value_counts().sort_index())\n",
    "print(missing_data(data_2015_2[c]))"
   ]
  },
  {
   "cell_type": "code",
   "execution_count": null,
   "metadata": {
    "collapsed": true
   },
   "outputs": [],
   "source": [
    "c = 'FAMI_PERSONAS_HOGAR'\n",
    "print(data_2015_2[c].value_counts().sort_index().index)\n",
    "print(data_2015_2[c].value_counts().sort_index())\n",
    "print(missing_data(data_2015_2[c]))"
   ]
  },
  {
   "cell_type": "code",
   "execution_count": null,
   "metadata": {
    "collapsed": true
   },
   "outputs": [],
   "source": [
    "c = 'FAMI_CUARTOS_HOGAR'\n",
    "print(data_2015_2[c].value_counts().sort_index().index)\n",
    "print(data_2015_2[c].value_counts().sort_index())\n",
    "print(missing_data(data_2015_2[c]))"
   ]
  },
  {
   "cell_type": "code",
   "execution_count": null,
   "metadata": {
    "collapsed": true
   },
   "outputs": [],
   "source": [
    "c = 'FAMI_PISOSHOGAR'\n",
    "print(data_2015_2[c].value_counts().sort_index().index)\n",
    "print(data_2015_2[c].value_counts().sort_index())\n",
    "print(missing_data(data_2015_2[c]))"
   ]
  },
  {
   "cell_type": "code",
   "execution_count": null,
   "metadata": {
    "collapsed": true
   },
   "outputs": [],
   "source": [
    "c = 'FAMI_TELEFONO_FIJO'\n",
    "print(data_2015_2[c].value_counts().sort_index().index)\n",
    "print(data_2015_2[c].value_counts().sort_index())\n",
    "print(missing_data(data_2015_2[c]))"
   ]
  },
  {
   "cell_type": "code",
   "execution_count": null,
   "metadata": {
    "collapsed": true
   },
   "outputs": [],
   "source": [
    "c = 'FAMI_INTERNET'\n",
    "print(data_2015_2[c].value_counts().sort_index().index)\n",
    "print(data_2015_2[c].value_counts().sort_index())\n",
    "print(missing_data(data_2015_2[c]))"
   ]
  },
  {
   "cell_type": "code",
   "execution_count": null,
   "metadata": {
    "collapsed": true
   },
   "outputs": [],
   "source": [
    "c = 'FAMI_SERVICIO_TELEVISION'\n",
    "print(data_2015_2[c].value_counts().sort_index().index)\n",
    "print(data_2015_2[c].value_counts().sort_index())\n",
    "print(missing_data(data_2015_2[c]))"
   ]
  },
  {
   "cell_type": "code",
   "execution_count": null,
   "metadata": {
    "collapsed": true
   },
   "outputs": [],
   "source": [
    "c = 'FAMI_COMPUTADOR'\n",
    "print(data_2015_2[c].value_counts().sort_index().index)\n",
    "print(data_2015_2[c].value_counts().sort_index())\n",
    "print(missing_data(data_2015_2[c]))"
   ]
  },
  {
   "cell_type": "code",
   "execution_count": null,
   "metadata": {
    "collapsed": true
   },
   "outputs": [],
   "source": [
    "c = 'FAMI_DVD'\n",
    "print(data_2015_2[c].value_counts().sort_index().index)\n",
    "print(data_2015_2[c].value_counts().sort_index())\n",
    "print(missing_data(data_2015_2[c]))"
   ]
  },
  {
   "cell_type": "code",
   "execution_count": null,
   "metadata": {
    "collapsed": true
   },
   "outputs": [],
   "source": [
    "c = 'FAMI_LAVADORA'\n",
    "print(data_2015_2[c].value_counts().sort_index().index)\n",
    "print(data_2015_2[c].value_counts().sort_index())\n",
    "print(missing_data(data_2015_2[c]))"
   ]
  },
  {
   "cell_type": "code",
   "execution_count": null,
   "metadata": {
    "collapsed": true
   },
   "outputs": [],
   "source": [
    "c = 'FAMI_MICROONDAS'\n",
    "print(data_2015_2[c].value_counts().sort_index().index)\n",
    "print(data_2015_2[c].value_counts().sort_index())\n",
    "print(missing_data(data_2015_2[c]))"
   ]
  },
  {
   "cell_type": "code",
   "execution_count": null,
   "metadata": {
    "collapsed": true
   },
   "outputs": [],
   "source": [
    "c = 'FAMI_AUTOMOVIL'\n",
    "print(data_2015_2[c].value_counts().sort_index().index)\n",
    "print(data_2015_2[c].value_counts().sort_index())\n",
    "print(missing_data(data_2015_2[c]))"
   ]
  },
  {
   "cell_type": "code",
   "execution_count": null,
   "metadata": {
    "collapsed": true
   },
   "outputs": [],
   "source": [
    "c = 'FAMI_HORNO'\n",
    "print(data_2015_2[c].value_counts().sort_index().index)\n",
    "print(data_2015_2[c].value_counts().sort_index())\n",
    "print(missing_data(data_2015_2[c]))"
   ]
  },
  {
   "cell_type": "code",
   "execution_count": null,
   "metadata": {
    "collapsed": true
   },
   "outputs": [],
   "source": [
    "c = 'FAMI_INGRESO_FMILIAR_MENSUAL'\n",
    "print(data_2015_2[c].value_counts().sort_index().index)\n",
    "print(data_2015_2[c].value_counts().sort_index())\n",
    "print(missing_data(data_2015_2[c]))"
   ]
  },
  {
   "cell_type": "code",
   "execution_count": null,
   "metadata": {
    "collapsed": true
   },
   "outputs": [],
   "source": [
    "c = 'ESTU_TRABAJA'\n",
    "print(data_2015_2[c].value_counts().sort_index().index)\n",
    "print(data_2015_2[c].value_counts().sort_index())\n",
    "print(missing_data(data_2015_2[c]))"
   ]
  },
  {
   "cell_type": "code",
   "execution_count": null,
   "metadata": {
    "collapsed": true
   },
   "outputs": [],
   "source": [
    "c = 'ESTU_RECIBE_SALARIO'\n",
    "print(data_2015_2[c].value_counts().sort_index().index)\n",
    "print(data_2015_2[c].value_counts().sort_index())\n",
    "print(missing_data(data_2015_2[c]))"
   ]
  },
  {
   "cell_type": "code",
   "execution_count": null,
   "metadata": {
    "collapsed": true
   },
   "outputs": [],
   "source": [
    "c = 'ESTU_VECES_ESTADO'\n",
    "print(data_2015_2[c].value_counts().sort_index().index)\n",
    "print(data_2015_2[c].value_counts().sort_index())\n",
    "print(missing_data(data_2015_2[c]))"
   ]
  },
  {
   "cell_type": "code",
   "execution_count": null,
   "metadata": {
    "collapsed": true
   },
   "outputs": [],
   "source": [
    "c = 'ESTU_COD_PLANTEL'\n",
    "print(data_2015_2[c].value_counts().sort_index().index)\n",
    "print(data_2015_2[c].value_counts().sort_index())\n",
    "print(missing_data(data_2015_2[c]))"
   ]
  },
  {
   "cell_type": "code",
   "execution_count": null,
   "metadata": {
    "collapsed": true
   },
   "outputs": [],
   "source": [
    "c = 'ESTU_COD_DEPTO_PRESENTACION'\n",
    "print(data_2015_2[c].value_counts().sort_index().index)\n",
    "print(data_2015_2[c].value_counts().sort_index())\n",
    "print(missing_data(data_2015_2[c]))"
   ]
  },
  {
   "cell_type": "code",
   "execution_count": null,
   "metadata": {
    "collapsed": true
   },
   "outputs": [],
   "source": [
    "c = 'ESTU_COD_MCPIO_PRESENTACION'\n",
    "print(data_2015_2[c].value_counts().sort_index().index)\n",
    "print(data_2015_2[c].value_counts().sort_index())\n",
    "print(missing_data(data_2015_2[c]))"
   ]
  },
  {
   "cell_type": "code",
   "execution_count": null,
   "metadata": {
    "collapsed": true
   },
   "outputs": [],
   "source": [
    "c = 'ESTU_MCPIO_PRESENTACION'\n",
    "print(data_2015_2[c].value_counts().sort_index().index)\n",
    "print(data_2015_2[c].value_counts().sort_index())\n",
    "print(missing_data(data_2015_2[c]))"
   ]
  },
  {
   "cell_type": "code",
   "execution_count": null,
   "metadata": {
    "collapsed": true
   },
   "outputs": [],
   "source": [
    "c = 'ESTU_DEPTO_PRESENTACION'\n",
    "print(data_2015_2[c].value_counts().sort_index().index)\n",
    "print(data_2015_2[c].value_counts().sort_index())\n",
    "print(missing_data(data_2015_2[c]))"
   ]
  },
  {
   "cell_type": "code",
   "execution_count": null,
   "metadata": {
    "collapsed": true
   },
   "outputs": [],
   "source": [
    "c = 'DECIL_LECTURA_CRITICA'\n",
    "print(data_2015_2[c].value_counts().sort_index().index)\n",
    "print(data_2015_2[c].value_counts().sort_index())\n",
    "print(missing_data(data_2015_2[c]))"
   ]
  },
  {
   "cell_type": "code",
   "execution_count": null,
   "metadata": {
    "collapsed": true
   },
   "outputs": [],
   "source": [
    "c = 'PUNT_LECTURA_CRITICA'\n",
    "print(data_2015_2[c].value_counts().sort_index().index)\n",
    "print(data_2015_2[c].value_counts().sort_index())\n",
    "print(missing_data(data_2015_2[c]))"
   ]
  },
  {
   "cell_type": "code",
   "execution_count": null,
   "metadata": {
    "collapsed": true
   },
   "outputs": [],
   "source": [
    "c = 'DECIL_MATEMATICAS'\n",
    "print(data_2015_2[c].value_counts().sort_index().index)\n",
    "print(data_2015_2[c].value_counts().sort_index())\n",
    "print(missing_data(data_2015_2[c]))"
   ]
  },
  {
   "cell_type": "code",
   "execution_count": null,
   "metadata": {
    "collapsed": true
   },
   "outputs": [],
   "source": [
    "c = 'PUNT_MATEMATICAS'\n",
    "print(data_2015_2[c].value_counts().sort_index().index)\n",
    "print(data_2015_2[c].value_counts().sort_index())\n",
    "print(missing_data(data_2015_2[c]))"
   ]
  },
  {
   "cell_type": "code",
   "execution_count": null,
   "metadata": {
    "collapsed": true
   },
   "outputs": [],
   "source": [
    "c = 'DECIL_C_NATURALES'\n",
    "print(data_2015_2[c].value_counts().sort_index().index)\n",
    "print(data_2015_2[c].value_counts().sort_index())\n",
    "print(missing_data(data_2015_2[c]))"
   ]
  },
  {
   "cell_type": "code",
   "execution_count": null,
   "metadata": {
    "collapsed": true
   },
   "outputs": [],
   "source": [
    "c = 'PUNT_C_NATURALES'\n",
    "print(data_2015_2[c].value_counts().sort_index().index)\n",
    "print(data_2015_2[c].value_counts().sort_index())\n",
    "print(missing_data(data_2015_2[c]))"
   ]
  },
  {
   "cell_type": "code",
   "execution_count": null,
   "metadata": {
    "collapsed": true
   },
   "outputs": [],
   "source": [
    "c = 'DECIL_SOCIALES_CIUDADANAS'\n",
    "print(data_2015_2[c].value_counts().sort_index().index)\n",
    "print(data_2015_2[c].value_counts().sort_index())\n",
    "print(missing_data(data_2015_2[c]))"
   ]
  },
  {
   "cell_type": "code",
   "execution_count": null,
   "metadata": {
    "collapsed": true
   },
   "outputs": [],
   "source": [
    "c = 'PUNT_SOCIALES_CIUDADANAS'\n",
    "print(data_2015_2[c].value_counts().sort_index().index)\n",
    "print(data_2015_2[c].value_counts().sort_index())\n",
    "print(missing_data(data_2015_2[c]))"
   ]
  },
  {
   "cell_type": "code",
   "execution_count": null,
   "metadata": {
    "collapsed": true
   },
   "outputs": [],
   "source": [
    "c = 'DECIL_INGLES'\n",
    "print(data_2015_2[c].value_counts().sort_index().index)\n",
    "print(data_2015_2[c].value_counts().sort_index())\n",
    "print(missing_data(data_2015_2[c]))"
   ]
  },
  {
   "cell_type": "code",
   "execution_count": null,
   "metadata": {
    "collapsed": true
   },
   "outputs": [],
   "source": [
    "c = 'DESEMP_INGLES'\n",
    "print(data_2015_2[c].value_counts().sort_index().index)\n",
    "print(data_2015_2[c].value_counts().sort_index())\n",
    "print(missing_data(data_2015_2[c]))"
   ]
  },
  {
   "cell_type": "code",
   "execution_count": null,
   "metadata": {
    "collapsed": true
   },
   "outputs": [],
   "source": [
    "c = 'PUNT_INGLES'\n",
    "print(data_2015_2[c].value_counts().sort_index().index)\n",
    "print(data_2015_2[c].value_counts().sort_index())\n",
    "print(missing_data(data_2015_2[c]))"
   ]
  },
  {
   "cell_type": "code",
   "execution_count": null,
   "metadata": {
    "collapsed": true
   },
   "outputs": [],
   "source": [
    "c = 'DECIL_RAZONA_CUANT'\n",
    "print(data_2015_2[c].value_counts().sort_index().index)\n",
    "print(data_2015_2[c].value_counts().sort_index())\n",
    "print(missing_data(data_2015_2[c]))"
   ]
  },
  {
   "cell_type": "code",
   "execution_count": null,
   "metadata": {
    "collapsed": true
   },
   "outputs": [],
   "source": [
    "c = 'PUNT_RAZONA_CUANT'\n",
    "print(data_2015_2[c].value_counts().sort_index().index)\n",
    "print(data_2015_2[c].value_counts().sort_index())\n",
    "print(missing_data(data_2015_2[c]))"
   ]
  },
  {
   "cell_type": "code",
   "execution_count": null,
   "metadata": {
    "collapsed": true
   },
   "outputs": [],
   "source": [
    "c = 'DECIL_COMP_CIUDADANA'\n",
    "print(data_2015_2[c].value_counts().sort_index().index)\n",
    "print(data_2015_2[c].value_counts().sort_index())\n",
    "print(missing_data(data_2015_2[c]))"
   ]
  },
  {
   "cell_type": "code",
   "execution_count": null,
   "metadata": {
    "collapsed": true
   },
   "outputs": [],
   "source": [
    "c = 'PUNT_COMP_CIUDADANA'\n",
    "print(data_2015_2[c].value_counts().sort_index().index)\n",
    "print(data_2015_2[c].value_counts().sort_index())\n",
    "print(missing_data(data_2015_2[c]))"
   ]
  },
  {
   "cell_type": "code",
   "execution_count": null,
   "metadata": {
    "collapsed": true
   },
   "outputs": [],
   "source": [
    "c = 'PUNT_GLOBAL'\n",
    "print(data_2015_2[c].value_counts().sort_index().index)\n",
    "print(data_2015_2[c].value_counts().sort_index())\n",
    "print(missing_data(data_2015_2[c]))"
   ]
  },
  {
   "cell_type": "code",
   "execution_count": null,
   "metadata": {
    "collapsed": true
   },
   "outputs": [],
   "source": [
    "c = 'ESTU_PUESTO'\n",
    "print(data_2015_2[c].value_counts().sort_index().index)\n",
    "print(data_2015_2[c].value_counts().sort_index())\n",
    "print(missing_data(data_2015_2[c]))"
   ]
  },
  {
   "cell_type": "markdown",
   "metadata": {},
   "source": [
    "Now here i enconde the Dataframes and tranform it into .csv files"
   ]
  },
  {
   "cell_type": "code",
   "execution_count": null,
   "metadata": {
    "collapsed": true
   },
   "outputs": [],
   "source": []
  },
  {
   "cell_type": "code",
   "execution_count": null,
   "metadata": {
    "collapsed": true
   },
   "outputs": [],
   "source": []
  }
 ],
 "metadata": {
  "kernelspec": {
   "display_name": "Python 3",
   "language": "python",
   "name": "python3"
  },
  "language_info": {
   "codemirror_mode": {
    "name": "ipython",
    "version": 3
   },
   "file_extension": ".py",
   "mimetype": "text/x-python",
   "name": "python",
   "nbconvert_exporter": "python",
   "pygments_lexer": "ipython3",
   "version": "3.4.2"
  }
 },
 "nbformat": 4,
 "nbformat_minor": 0
}
