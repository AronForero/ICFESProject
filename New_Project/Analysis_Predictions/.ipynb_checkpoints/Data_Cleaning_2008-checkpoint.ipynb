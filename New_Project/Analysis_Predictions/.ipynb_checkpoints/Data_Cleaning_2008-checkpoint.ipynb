{
 "cells": [
  {
   "cell_type": "code",
   "execution_count": 1,
   "metadata": {
    "collapsed": true
   },
   "outputs": [],
   "source": [
    "import pandas as pd\n",
    "import numpy as np\n",
    "%run -i ../tools/functions.py\n",
    "%run -i ../tools/label_encoder.py"
   ]
  },
  {
   "cell_type": "code",
   "execution_count": 2,
   "metadata": {
    "collapsed": true
   },
   "outputs": [],
   "source": [
    "data_2008 = pd.read_csv('../DatosFTPICFES/SABER11/SB11-BASES_DE_DATOS/SB11-20081-RGSTRO-CLFCCN-V1-0.txt', delimiter='|')"
   ]
  },
  {
   "cell_type": "code",
   "execution_count": 3,
   "metadata": {
    "collapsed": false
   },
   "outputs": [
    {
     "data": {
      "text/plain": [
       "(68941, 83)"
      ]
     },
     "execution_count": 3,
     "metadata": {},
     "output_type": "execute_result"
    }
   ],
   "source": [
    "data_2008.shape"
   ]
  },
  {
   "cell_type": "code",
   "execution_count": 4,
   "metadata": {
    "collapsed": false,
    "scrolled": true
   },
   "outputs": [
    {
     "data": {
      "text/html": [
       "<div>\n",
       "<table border=\"1\" class=\"dataframe\">\n",
       "  <thead>\n",
       "    <tr style=\"text-align: right;\">\n",
       "      <th></th>\n",
       "      <th>0</th>\n",
       "      <th>1</th>\n",
       "      <th>2</th>\n",
       "    </tr>\n",
       "  </thead>\n",
       "  <tbody>\n",
       "    <tr>\n",
       "      <th>ESTU_CONSECUTIVO</th>\n",
       "      <td>SB11200810000760</td>\n",
       "      <td>SB11200810000771</td>\n",
       "      <td>SB11200810000831</td>\n",
       "    </tr>\n",
       "    <tr>\n",
       "      <th>PERIODO</th>\n",
       "      <td>20081</td>\n",
       "      <td>20081</td>\n",
       "      <td>20081</td>\n",
       "    </tr>\n",
       "    <tr>\n",
       "      <th>ESTU_TIPO_DOCUMENTO</th>\n",
       "      <td>T</td>\n",
       "      <td>T</td>\n",
       "      <td>T</td>\n",
       "    </tr>\n",
       "    <tr>\n",
       "      <th>ESTU_PAIS_RESIDE</th>\n",
       "      <td>CO</td>\n",
       "      <td>CO</td>\n",
       "      <td>CO</td>\n",
       "    </tr>\n",
       "    <tr>\n",
       "      <th>ESTU_GENERO</th>\n",
       "      <td>M</td>\n",
       "      <td>F</td>\n",
       "      <td>F</td>\n",
       "    </tr>\n",
       "    <tr>\n",
       "      <th>ESTU_NACIMIENTO_DIA</th>\n",
       "      <td>28</td>\n",
       "      <td>1</td>\n",
       "      <td>13</td>\n",
       "    </tr>\n",
       "    <tr>\n",
       "      <th>ESTU_NACIMIENTO_MES</th>\n",
       "      <td>11</td>\n",
       "      <td>12</td>\n",
       "      <td>3</td>\n",
       "    </tr>\n",
       "    <tr>\n",
       "      <th>ESTU_NACIMIENTO_ANNO</th>\n",
       "      <td>1991</td>\n",
       "      <td>1991</td>\n",
       "      <td>1990</td>\n",
       "    </tr>\n",
       "    <tr>\n",
       "      <th>ESTU_EDAD</th>\n",
       "      <td>16</td>\n",
       "      <td>16</td>\n",
       "      <td>17</td>\n",
       "    </tr>\n",
       "    <tr>\n",
       "      <th>ESTU_LIMITA_BAJAVISION</th>\n",
       "      <td>NaN</td>\n",
       "      <td>NaN</td>\n",
       "      <td>NaN</td>\n",
       "    </tr>\n",
       "    <tr>\n",
       "      <th>ESTU_LIMITA_SORDOCEGUERA</th>\n",
       "      <td>NaN</td>\n",
       "      <td>NaN</td>\n",
       "      <td>NaN</td>\n",
       "    </tr>\n",
       "    <tr>\n",
       "      <th>ESTU_LIMITA_COGNITIVA</th>\n",
       "      <td>NaN</td>\n",
       "      <td>NaN</td>\n",
       "      <td>NaN</td>\n",
       "    </tr>\n",
       "    <tr>\n",
       "      <th>ESTU_LIMITA_INVIDENTE</th>\n",
       "      <td>NaN</td>\n",
       "      <td>NaN</td>\n",
       "      <td>NaN</td>\n",
       "    </tr>\n",
       "    <tr>\n",
       "      <th>ESTU_LIMITA_MOTRIZ</th>\n",
       "      <td>NaN</td>\n",
       "      <td>NaN</td>\n",
       "      <td>NaN</td>\n",
       "    </tr>\n",
       "    <tr>\n",
       "      <th>ESTU_LIMITA_SORDOINTERPRETE</th>\n",
       "      <td>NaN</td>\n",
       "      <td>NaN</td>\n",
       "      <td>NaN</td>\n",
       "    </tr>\n",
       "    <tr>\n",
       "      <th>ESTU_LIMITA_SORDONOINTERPRETE</th>\n",
       "      <td>NaN</td>\n",
       "      <td>NaN</td>\n",
       "      <td>NaN</td>\n",
       "    </tr>\n",
       "    <tr>\n",
       "      <th>ESTU_ETNIA</th>\n",
       "      <td>NaN</td>\n",
       "      <td>NaN</td>\n",
       "      <td>NaN</td>\n",
       "    </tr>\n",
       "    <tr>\n",
       "      <th>ESTU_COD_RESIDE_MCPIO</th>\n",
       "      <td>76892</td>\n",
       "      <td>76892</td>\n",
       "      <td>76892</td>\n",
       "    </tr>\n",
       "    <tr>\n",
       "      <th>ESTU_RESIDE_MCPIO</th>\n",
       "      <td>YUMBO</td>\n",
       "      <td>YUMBO</td>\n",
       "      <td>YUMBO</td>\n",
       "    </tr>\n",
       "    <tr>\n",
       "      <th>ESTU_RESIDE_DEPTO</th>\n",
       "      <td>VALLE</td>\n",
       "      <td>VALLE</td>\n",
       "      <td>VALLE</td>\n",
       "    </tr>\n",
       "    <tr>\n",
       "      <th>ESTU_ZONA_RESIDE</th>\n",
       "      <td>10</td>\n",
       "      <td>10</td>\n",
       "      <td>10</td>\n",
       "    </tr>\n",
       "    <tr>\n",
       "      <th>ESTU_AREA_RESIDE</th>\n",
       "      <td>1</td>\n",
       "      <td>1</td>\n",
       "      <td>1</td>\n",
       "    </tr>\n",
       "    <tr>\n",
       "      <th>FAMI_LEE_ESCRIBE_PADRE</th>\n",
       "      <td>1</td>\n",
       "      <td>1</td>\n",
       "      <td>1</td>\n",
       "    </tr>\n",
       "    <tr>\n",
       "      <th>FAMI_LEE_ESCRIBE_MADRE</th>\n",
       "      <td>1</td>\n",
       "      <td>1</td>\n",
       "      <td>1</td>\n",
       "    </tr>\n",
       "    <tr>\n",
       "      <th>FAMI_EDUCA_PADRE</th>\n",
       "      <td>16</td>\n",
       "      <td>12</td>\n",
       "      <td>12</td>\n",
       "    </tr>\n",
       "    <tr>\n",
       "      <th>FAMI_EDUCA_MADRE</th>\n",
       "      <td>16</td>\n",
       "      <td>12</td>\n",
       "      <td>12</td>\n",
       "    </tr>\n",
       "    <tr>\n",
       "      <th>FAMI_OCUPA_PADRE</th>\n",
       "      <td>21</td>\n",
       "      <td>21</td>\n",
       "      <td>21</td>\n",
       "    </tr>\n",
       "    <tr>\n",
       "      <th>FAMI_OCUPA_MADRE</th>\n",
       "      <td>21</td>\n",
       "      <td>19</td>\n",
       "      <td>22</td>\n",
       "    </tr>\n",
       "    <tr>\n",
       "      <th>FAMI_NUM_HERMANOS</th>\n",
       "      <td>3</td>\n",
       "      <td>4</td>\n",
       "      <td>3</td>\n",
       "    </tr>\n",
       "    <tr>\n",
       "      <th>FAMI_EDUCA_HERMANO</th>\n",
       "      <td>8</td>\n",
       "      <td>7</td>\n",
       "      <td>6</td>\n",
       "    </tr>\n",
       "    <tr>\n",
       "      <th>...</th>\n",
       "      <td>...</td>\n",
       "      <td>...</td>\n",
       "      <td>...</td>\n",
       "    </tr>\n",
       "    <tr>\n",
       "      <th>COLE_CARACTER</th>\n",
       "      <td>ACADEMICO Y TECNICO</td>\n",
       "      <td>ACADEMICO Y TECNICO</td>\n",
       "      <td>ACADEMICO Y TECNICO</td>\n",
       "    </tr>\n",
       "    <tr>\n",
       "      <th>ESTU_COD_MCPIO_PRESENTACION</th>\n",
       "      <td>76892</td>\n",
       "      <td>76892</td>\n",
       "      <td>76892</td>\n",
       "    </tr>\n",
       "    <tr>\n",
       "      <th>ESTU_MCPIO_PRESENTACION</th>\n",
       "      <td>YUMBO</td>\n",
       "      <td>YUMBO</td>\n",
       "      <td>YUMBO</td>\n",
       "    </tr>\n",
       "    <tr>\n",
       "      <th>ESTU_DEPTO_PRESENTACION</th>\n",
       "      <td>VALLE</td>\n",
       "      <td>VALLE</td>\n",
       "      <td>VALLE</td>\n",
       "    </tr>\n",
       "    <tr>\n",
       "      <th>ESTU_EXAM_NOMBREEXAMEN</th>\n",
       "      <td>EXAMEN DE ESTADO 2008-1</td>\n",
       "      <td>EXAMEN DE ESTADO 2008-1</td>\n",
       "      <td>EXAMEN DE ESTADO 2008-1</td>\n",
       "    </tr>\n",
       "    <tr>\n",
       "      <th>ESTU_CARRDESEADA_TIPO</th>\n",
       "      <td>NaN</td>\n",
       "      <td>NaN</td>\n",
       "      <td>NaN</td>\n",
       "    </tr>\n",
       "    <tr>\n",
       "      <th>ESTU_CARRDESEADA_NUCLEO</th>\n",
       "      <td>NaN</td>\n",
       "      <td>NaN</td>\n",
       "      <td>NaN</td>\n",
       "    </tr>\n",
       "    <tr>\n",
       "      <th>ESTU_IES_COD_DESEADA</th>\n",
       "      <td>NaN</td>\n",
       "      <td>NaN</td>\n",
       "      <td>NaN</td>\n",
       "    </tr>\n",
       "    <tr>\n",
       "      <th>ESTU_IES_DESEADA_NOMBRE</th>\n",
       "      <td>NaN</td>\n",
       "      <td>NaN</td>\n",
       "      <td>NaN</td>\n",
       "    </tr>\n",
       "    <tr>\n",
       "      <th>ESTU_IES_COD_MPIO_DESEADA</th>\n",
       "      <td>NaN</td>\n",
       "      <td>NaN</td>\n",
       "      <td>NaN</td>\n",
       "    </tr>\n",
       "    <tr>\n",
       "      <th>ESTU_IES_MPIO_DESEADA</th>\n",
       "      <td>NaN</td>\n",
       "      <td>NaN</td>\n",
       "      <td>NaN</td>\n",
       "    </tr>\n",
       "    <tr>\n",
       "      <th>ESTU_IES_DEPT_DESEADA</th>\n",
       "      <td>NaN</td>\n",
       "      <td>NaN</td>\n",
       "      <td>NaN</td>\n",
       "    </tr>\n",
       "    <tr>\n",
       "      <th>ESTU_RAZONINSTITUTO</th>\n",
       "      <td>NaN</td>\n",
       "      <td>NaN</td>\n",
       "      <td>NaN</td>\n",
       "    </tr>\n",
       "    <tr>\n",
       "      <th>ESTU_CARRDESEADA_COD</th>\n",
       "      <td>NaN</td>\n",
       "      <td>NaN</td>\n",
       "      <td>NaN</td>\n",
       "    </tr>\n",
       "    <tr>\n",
       "      <th>ESTU_CARRDESEADA_RAZON</th>\n",
       "      <td>NaN</td>\n",
       "      <td>NaN</td>\n",
       "      <td>NaN</td>\n",
       "    </tr>\n",
       "    <tr>\n",
       "      <th>PUNT_LENGUAJE</th>\n",
       "      <td>51,1</td>\n",
       "      <td>42,26</td>\n",
       "      <td>42,26</td>\n",
       "    </tr>\n",
       "    <tr>\n",
       "      <th>PUNT_MATEMATICAS</th>\n",
       "      <td>70,5</td>\n",
       "      <td>35,35</td>\n",
       "      <td>35,35</td>\n",
       "    </tr>\n",
       "    <tr>\n",
       "      <th>PUNT_C_SOCIALES</th>\n",
       "      <td>47,26</td>\n",
       "      <td>47,26</td>\n",
       "      <td>30,78</td>\n",
       "    </tr>\n",
       "    <tr>\n",
       "      <th>PUNT_FILOSOFIA</th>\n",
       "      <td>49,11</td>\n",
       "      <td>40,9</td>\n",
       "      <td>37,83</td>\n",
       "    </tr>\n",
       "    <tr>\n",
       "      <th>PUNT_BIOLOGIA</th>\n",
       "      <td>45,62</td>\n",
       "      <td>0</td>\n",
       "      <td>42</td>\n",
       "    </tr>\n",
       "    <tr>\n",
       "      <th>PUNT_QUIMICA</th>\n",
       "      <td>45,74</td>\n",
       "      <td>32,49</td>\n",
       "      <td>36,6</td>\n",
       "    </tr>\n",
       "    <tr>\n",
       "      <th>PUNT_FISICA</th>\n",
       "      <td>46,55</td>\n",
       "      <td>33,75</td>\n",
       "      <td>40,91</td>\n",
       "    </tr>\n",
       "    <tr>\n",
       "      <th>PUNT_INGLES</th>\n",
       "      <td>46,06</td>\n",
       "      <td>37,38</td>\n",
       "      <td>35,47</td>\n",
       "    </tr>\n",
       "    <tr>\n",
       "      <th>DESEMP_INGLES</th>\n",
       "      <td>A1</td>\n",
       "      <td>A-</td>\n",
       "      <td>A-</td>\n",
       "    </tr>\n",
       "    <tr>\n",
       "      <th>NOMBRE_PROFUNDIZACION</th>\n",
       "      <td>PROFUNDIZACIÓN EN MATEMÁTICA</td>\n",
       "      <td>PROFUNDIZACIÓN EN BIOLOGÍA</td>\n",
       "      <td>PROFUNDIZACIÓN EN LENGUAJE</td>\n",
       "    </tr>\n",
       "    <tr>\n",
       "      <th>PUNT_PROFUNDIZACION</th>\n",
       "      <td>4,95</td>\n",
       "      <td>5,81</td>\n",
       "      <td>4,33</td>\n",
       "    </tr>\n",
       "    <tr>\n",
       "      <th>DESEMP_PROFUNDIZACION</th>\n",
       "      <td>I</td>\n",
       "      <td>I</td>\n",
       "      <td>GB</td>\n",
       "    </tr>\n",
       "    <tr>\n",
       "      <th>NOMBRE_INTERDISCIPLINAR</th>\n",
       "      <td>VIOLENCIA Y SOCIEDAD</td>\n",
       "      <td>MEDIO AMBIENTE</td>\n",
       "      <td>VIOLENCIA Y SOCIEDAD</td>\n",
       "    </tr>\n",
       "    <tr>\n",
       "      <th>PUNT_INTERDISCIPLINAR</th>\n",
       "      <td>42,36</td>\n",
       "      <td>52,17</td>\n",
       "      <td>35,09</td>\n",
       "    </tr>\n",
       "    <tr>\n",
       "      <th>ESTU_PUESTO</th>\n",
       "      <td>204</td>\n",
       "      <td>964</td>\n",
       "      <td>911</td>\n",
       "    </tr>\n",
       "  </tbody>\n",
       "</table>\n",
       "<p>83 rows × 3 columns</p>\n",
       "</div>"
      ],
      "text/plain": [
       "                                                          0  \\\n",
       "ESTU_CONSECUTIVO                           SB11200810000760   \n",
       "PERIODO                                               20081   \n",
       "ESTU_TIPO_DOCUMENTO                                       T   \n",
       "ESTU_PAIS_RESIDE                                         CO   \n",
       "ESTU_GENERO                                               M   \n",
       "ESTU_NACIMIENTO_DIA                                      28   \n",
       "ESTU_NACIMIENTO_MES                                      11   \n",
       "ESTU_NACIMIENTO_ANNO                                   1991   \n",
       "ESTU_EDAD                                                16   \n",
       "ESTU_LIMITA_BAJAVISION                                  NaN   \n",
       "ESTU_LIMITA_SORDOCEGUERA                                NaN   \n",
       "ESTU_LIMITA_COGNITIVA                                   NaN   \n",
       "ESTU_LIMITA_INVIDENTE                                   NaN   \n",
       "ESTU_LIMITA_MOTRIZ                                      NaN   \n",
       "ESTU_LIMITA_SORDOINTERPRETE                             NaN   \n",
       "ESTU_LIMITA_SORDONOINTERPRETE                           NaN   \n",
       "ESTU_ETNIA                                              NaN   \n",
       "ESTU_COD_RESIDE_MCPIO                                 76892   \n",
       "ESTU_RESIDE_MCPIO                                     YUMBO   \n",
       "ESTU_RESIDE_DEPTO                                     VALLE   \n",
       "ESTU_ZONA_RESIDE                                         10   \n",
       "ESTU_AREA_RESIDE                                          1   \n",
       "FAMI_LEE_ESCRIBE_PADRE                                    1   \n",
       "FAMI_LEE_ESCRIBE_MADRE                                    1   \n",
       "FAMI_EDUCA_PADRE                                         16   \n",
       "FAMI_EDUCA_MADRE                                         16   \n",
       "FAMI_OCUPA_PADRE                                         21   \n",
       "FAMI_OCUPA_MADRE                                         21   \n",
       "FAMI_NUM_HERMANOS                                         3   \n",
       "FAMI_EDUCA_HERMANO                                        8   \n",
       "...                                                     ...   \n",
       "COLE_CARACTER                           ACADEMICO Y TECNICO   \n",
       "ESTU_COD_MCPIO_PRESENTACION                           76892   \n",
       "ESTU_MCPIO_PRESENTACION                               YUMBO   \n",
       "ESTU_DEPTO_PRESENTACION                               VALLE   \n",
       "ESTU_EXAM_NOMBREEXAMEN              EXAMEN DE ESTADO 2008-1   \n",
       "ESTU_CARRDESEADA_TIPO                                   NaN   \n",
       "ESTU_CARRDESEADA_NUCLEO                                 NaN   \n",
       "ESTU_IES_COD_DESEADA                                    NaN   \n",
       "ESTU_IES_DESEADA_NOMBRE                                 NaN   \n",
       "ESTU_IES_COD_MPIO_DESEADA                               NaN   \n",
       "ESTU_IES_MPIO_DESEADA                                   NaN   \n",
       "ESTU_IES_DEPT_DESEADA                                   NaN   \n",
       "ESTU_RAZONINSTITUTO                                     NaN   \n",
       "ESTU_CARRDESEADA_COD                                    NaN   \n",
       "ESTU_CARRDESEADA_RAZON                                  NaN   \n",
       "PUNT_LENGUAJE                                          51,1   \n",
       "PUNT_MATEMATICAS                                       70,5   \n",
       "PUNT_C_SOCIALES                                       47,26   \n",
       "PUNT_FILOSOFIA                                        49,11   \n",
       "PUNT_BIOLOGIA                                         45,62   \n",
       "PUNT_QUIMICA                                          45,74   \n",
       "PUNT_FISICA                                           46,55   \n",
       "PUNT_INGLES                                           46,06   \n",
       "DESEMP_INGLES                                            A1   \n",
       "NOMBRE_PROFUNDIZACION          PROFUNDIZACIÓN EN MATEMÁTICA   \n",
       "PUNT_PROFUNDIZACION                                    4,95   \n",
       "DESEMP_PROFUNDIZACION                                     I   \n",
       "NOMBRE_INTERDISCIPLINAR                VIOLENCIA Y SOCIEDAD   \n",
       "PUNT_INTERDISCIPLINAR                                 42,36   \n",
       "ESTU_PUESTO                                             204   \n",
       "\n",
       "                                                        1  \\\n",
       "ESTU_CONSECUTIVO                         SB11200810000771   \n",
       "PERIODO                                             20081   \n",
       "ESTU_TIPO_DOCUMENTO                                     T   \n",
       "ESTU_PAIS_RESIDE                                       CO   \n",
       "ESTU_GENERO                                             F   \n",
       "ESTU_NACIMIENTO_DIA                                     1   \n",
       "ESTU_NACIMIENTO_MES                                    12   \n",
       "ESTU_NACIMIENTO_ANNO                                 1991   \n",
       "ESTU_EDAD                                              16   \n",
       "ESTU_LIMITA_BAJAVISION                                NaN   \n",
       "ESTU_LIMITA_SORDOCEGUERA                              NaN   \n",
       "ESTU_LIMITA_COGNITIVA                                 NaN   \n",
       "ESTU_LIMITA_INVIDENTE                                 NaN   \n",
       "ESTU_LIMITA_MOTRIZ                                    NaN   \n",
       "ESTU_LIMITA_SORDOINTERPRETE                           NaN   \n",
       "ESTU_LIMITA_SORDONOINTERPRETE                         NaN   \n",
       "ESTU_ETNIA                                            NaN   \n",
       "ESTU_COD_RESIDE_MCPIO                               76892   \n",
       "ESTU_RESIDE_MCPIO                                   YUMBO   \n",
       "ESTU_RESIDE_DEPTO                                   VALLE   \n",
       "ESTU_ZONA_RESIDE                                       10   \n",
       "ESTU_AREA_RESIDE                                        1   \n",
       "FAMI_LEE_ESCRIBE_PADRE                                  1   \n",
       "FAMI_LEE_ESCRIBE_MADRE                                  1   \n",
       "FAMI_EDUCA_PADRE                                       12   \n",
       "FAMI_EDUCA_MADRE                                       12   \n",
       "FAMI_OCUPA_PADRE                                       21   \n",
       "FAMI_OCUPA_MADRE                                       19   \n",
       "FAMI_NUM_HERMANOS                                       4   \n",
       "FAMI_EDUCA_HERMANO                                      7   \n",
       "...                                                   ...   \n",
       "COLE_CARACTER                         ACADEMICO Y TECNICO   \n",
       "ESTU_COD_MCPIO_PRESENTACION                         76892   \n",
       "ESTU_MCPIO_PRESENTACION                             YUMBO   \n",
       "ESTU_DEPTO_PRESENTACION                             VALLE   \n",
       "ESTU_EXAM_NOMBREEXAMEN            EXAMEN DE ESTADO 2008-1   \n",
       "ESTU_CARRDESEADA_TIPO                                 NaN   \n",
       "ESTU_CARRDESEADA_NUCLEO                               NaN   \n",
       "ESTU_IES_COD_DESEADA                                  NaN   \n",
       "ESTU_IES_DESEADA_NOMBRE                               NaN   \n",
       "ESTU_IES_COD_MPIO_DESEADA                             NaN   \n",
       "ESTU_IES_MPIO_DESEADA                                 NaN   \n",
       "ESTU_IES_DEPT_DESEADA                                 NaN   \n",
       "ESTU_RAZONINSTITUTO                                   NaN   \n",
       "ESTU_CARRDESEADA_COD                                  NaN   \n",
       "ESTU_CARRDESEADA_RAZON                                NaN   \n",
       "PUNT_LENGUAJE                                       42,26   \n",
       "PUNT_MATEMATICAS                                    35,35   \n",
       "PUNT_C_SOCIALES                                     47,26   \n",
       "PUNT_FILOSOFIA                                       40,9   \n",
       "PUNT_BIOLOGIA                                           0   \n",
       "PUNT_QUIMICA                                        32,49   \n",
       "PUNT_FISICA                                         33,75   \n",
       "PUNT_INGLES                                         37,38   \n",
       "DESEMP_INGLES                                          A-   \n",
       "NOMBRE_PROFUNDIZACION          PROFUNDIZACIÓN EN BIOLOGÍA   \n",
       "PUNT_PROFUNDIZACION                                  5,81   \n",
       "DESEMP_PROFUNDIZACION                                   I   \n",
       "NOMBRE_INTERDISCIPLINAR                    MEDIO AMBIENTE   \n",
       "PUNT_INTERDISCIPLINAR                               52,17   \n",
       "ESTU_PUESTO                                           964   \n",
       "\n",
       "                                                        2  \n",
       "ESTU_CONSECUTIVO                         SB11200810000831  \n",
       "PERIODO                                             20081  \n",
       "ESTU_TIPO_DOCUMENTO                                     T  \n",
       "ESTU_PAIS_RESIDE                                       CO  \n",
       "ESTU_GENERO                                             F  \n",
       "ESTU_NACIMIENTO_DIA                                    13  \n",
       "ESTU_NACIMIENTO_MES                                     3  \n",
       "ESTU_NACIMIENTO_ANNO                                 1990  \n",
       "ESTU_EDAD                                              17  \n",
       "ESTU_LIMITA_BAJAVISION                                NaN  \n",
       "ESTU_LIMITA_SORDOCEGUERA                              NaN  \n",
       "ESTU_LIMITA_COGNITIVA                                 NaN  \n",
       "ESTU_LIMITA_INVIDENTE                                 NaN  \n",
       "ESTU_LIMITA_MOTRIZ                                    NaN  \n",
       "ESTU_LIMITA_SORDOINTERPRETE                           NaN  \n",
       "ESTU_LIMITA_SORDONOINTERPRETE                         NaN  \n",
       "ESTU_ETNIA                                            NaN  \n",
       "ESTU_COD_RESIDE_MCPIO                               76892  \n",
       "ESTU_RESIDE_MCPIO                                   YUMBO  \n",
       "ESTU_RESIDE_DEPTO                                   VALLE  \n",
       "ESTU_ZONA_RESIDE                                       10  \n",
       "ESTU_AREA_RESIDE                                        1  \n",
       "FAMI_LEE_ESCRIBE_PADRE                                  1  \n",
       "FAMI_LEE_ESCRIBE_MADRE                                  1  \n",
       "FAMI_EDUCA_PADRE                                       12  \n",
       "FAMI_EDUCA_MADRE                                       12  \n",
       "FAMI_OCUPA_PADRE                                       21  \n",
       "FAMI_OCUPA_MADRE                                       22  \n",
       "FAMI_NUM_HERMANOS                                       3  \n",
       "FAMI_EDUCA_HERMANO                                      6  \n",
       "...                                                   ...  \n",
       "COLE_CARACTER                         ACADEMICO Y TECNICO  \n",
       "ESTU_COD_MCPIO_PRESENTACION                         76892  \n",
       "ESTU_MCPIO_PRESENTACION                             YUMBO  \n",
       "ESTU_DEPTO_PRESENTACION                             VALLE  \n",
       "ESTU_EXAM_NOMBREEXAMEN            EXAMEN DE ESTADO 2008-1  \n",
       "ESTU_CARRDESEADA_TIPO                                 NaN  \n",
       "ESTU_CARRDESEADA_NUCLEO                               NaN  \n",
       "ESTU_IES_COD_DESEADA                                  NaN  \n",
       "ESTU_IES_DESEADA_NOMBRE                               NaN  \n",
       "ESTU_IES_COD_MPIO_DESEADA                             NaN  \n",
       "ESTU_IES_MPIO_DESEADA                                 NaN  \n",
       "ESTU_IES_DEPT_DESEADA                                 NaN  \n",
       "ESTU_RAZONINSTITUTO                                   NaN  \n",
       "ESTU_CARRDESEADA_COD                                  NaN  \n",
       "ESTU_CARRDESEADA_RAZON                                NaN  \n",
       "PUNT_LENGUAJE                                       42,26  \n",
       "PUNT_MATEMATICAS                                    35,35  \n",
       "PUNT_C_SOCIALES                                     30,78  \n",
       "PUNT_FILOSOFIA                                      37,83  \n",
       "PUNT_BIOLOGIA                                          42  \n",
       "PUNT_QUIMICA                                         36,6  \n",
       "PUNT_FISICA                                         40,91  \n",
       "PUNT_INGLES                                         35,47  \n",
       "DESEMP_INGLES                                          A-  \n",
       "NOMBRE_PROFUNDIZACION          PROFUNDIZACIÓN EN LENGUAJE  \n",
       "PUNT_PROFUNDIZACION                                  4,33  \n",
       "DESEMP_PROFUNDIZACION                                  GB  \n",
       "NOMBRE_INTERDISCIPLINAR              VIOLENCIA Y SOCIEDAD  \n",
       "PUNT_INTERDISCIPLINAR                               35,09  \n",
       "ESTU_PUESTO                                           911  \n",
       "\n",
       "[83 rows x 3 columns]"
      ]
     },
     "execution_count": 4,
     "metadata": {},
     "output_type": "execute_result"
    }
   ],
   "source": [
    "data_2008.head(3).T"
   ]
  },
  {
   "cell_type": "code",
   "execution_count": 5,
   "metadata": {
    "collapsed": false
   },
   "outputs": [],
   "source": [
    "data_2008 = data_2008.drop(['ESTU_CONSECUTIVO', 'PERIODO', 'ESTU_TIPO_DOCUMENTO', 'ESTU_COD_RESIDE_MCPIO', \n",
    "                'ESTU_COD_MCPIO_PRESENTACION', 'ESTU_IES_DESEADA_NOMBRE', 'ESTU_IES_COD_MPIO_DESEADA'], axis=1)"
   ]
  },
  {
   "cell_type": "code",
   "execution_count": 6,
   "metadata": {
    "collapsed": false,
    "scrolled": true
   },
   "outputs": [
    {
     "name": "stdout",
     "output_type": "stream",
     "text": [
      "Index(['AR', 'CO', 'DE', 'EC', 'ES', 'NI', 'PA', 'PE', 'TW', 'US', 'VE'], dtype='object')\n",
      "AR        1\n",
      "CO    68867\n",
      "DE        1\n",
      "EC        2\n",
      "ES        3\n",
      "NI        1\n",
      "PA        1\n",
      "PE        2\n",
      "TW        3\n",
      "US       10\n",
      "VE        4\n",
      "Name: ESTU_PAIS_RESIDE, dtype: int64\n",
      "Elementos null/NaN 46\n",
      "__________________\n",
      "Elementos diferentes de null/NaN: 68895\n",
      "__________________\n",
      "(68895,)\n",
      "None\n"
     ]
    }
   ],
   "source": [
    "c = 'ESTU_PAIS_RESIDE'\n",
    "print(data_2008[c].value_counts().sort_index().index)\n",
    "print(data_2008[c].value_counts().sort_index())\n",
    "print(missing_data(data_2008[c]))"
   ]
  },
  {
   "cell_type": "code",
   "execution_count": 8,
   "metadata": {
    "collapsed": false
   },
   "outputs": [
    {
     "name": "stdout",
     "output_type": "stream",
     "text": [
      "cant null antes: 46\n",
      "cant null despues: 0\n"
     ]
    }
   ],
   "source": [
    "Do_resamples(data_2008, c, str)"
   ]
  },
  {
   "cell_type": "code",
   "execution_count": 9,
   "metadata": {
    "collapsed": false
   },
   "outputs": [
    {
     "name": "stdout",
     "output_type": "stream",
     "text": [
      "Index(['F', 'M'], dtype='object')\n",
      "F    37603\n",
      "M    31316\n",
      "Name: ESTU_GENERO, dtype: int64\n",
      "Elementos null/NaN 22\n",
      "__________________\n",
      "Elementos diferentes de null/NaN: 68919\n",
      "__________________\n",
      "(68919,)\n",
      "None\n"
     ]
    }
   ],
   "source": [
    "c = 'ESTU_GENERO'\n",
    "print(data_2008[c].value_counts().sort_index().index)\n",
    "print(data_2008[c].value_counts().sort_index())\n",
    "print(missing_data(data_2008[c]))"
   ]
  },
  {
   "cell_type": "code",
   "execution_count": 10,
   "metadata": {
    "collapsed": false
   },
   "outputs": [
    {
     "name": "stdout",
     "output_type": "stream",
     "text": [
      "cant null antes: 22\n",
      "cant null despues: 0\n"
     ]
    }
   ],
   "source": [
    "Do_resamples(data_2008, c, str)"
   ]
  },
  {
   "cell_type": "code",
   "execution_count": 11,
   "metadata": {
    "collapsed": false,
    "scrolled": true
   },
   "outputs": [
    {
     "name": "stdout",
     "output_type": "stream",
     "text": [
      "Float64Index([ 1.0,  2.0,  3.0,  4.0,  5.0,  6.0,  7.0,  8.0,  9.0, 10.0, 11.0,\n",
      "              12.0, 13.0, 14.0, 15.0, 16.0, 17.0, 18.0, 19.0, 20.0, 21.0, 22.0,\n",
      "              23.0, 24.0, 25.0, 26.0, 27.0, 28.0, 29.0, 30.0, 31.0],\n",
      "             dtype='float64')\n",
      "1     2307\n",
      "2     2224\n",
      "3     2383\n",
      "4     2310\n",
      "5     2282\n",
      "6     2213\n",
      "7     2198\n",
      "8     2204\n",
      "9     2240\n",
      "10    2441\n",
      "11    2283\n",
      "12    2325\n",
      "13    2182\n",
      "14    2178\n",
      "15    2375\n",
      "16    2203\n",
      "17    2268\n",
      "18    2228\n",
      "19    2226\n",
      "20    2405\n",
      "21    2190\n",
      "22    2268\n",
      "23    2240\n",
      "24    2293\n",
      "25    2223\n",
      "26    2279\n",
      "27    2247\n",
      "28    2286\n",
      "29    2141\n",
      "30    1985\n",
      "31    1241\n",
      "Name: ESTU_NACIMIENTO_DIA, dtype: int64\n",
      "Elementos null/NaN 73\n",
      "__________________\n",
      "Elementos diferentes de null/NaN: 68868\n",
      "__________________\n",
      "(68868,)\n",
      "None\n"
     ]
    }
   ],
   "source": [
    "c = 'ESTU_NACIMIENTO_DIA'\n",
    "print(data_2008[c].value_counts().sort_index().index)\n",
    "print(data_2008[c].value_counts().sort_index())\n",
    "print(missing_data(data_2008[c]))"
   ]
  },
  {
   "cell_type": "code",
   "execution_count": 12,
   "metadata": {
    "collapsed": false
   },
   "outputs": [
    {
     "name": "stdout",
     "output_type": "stream",
     "text": [
      "Float64Index([1.0, 2.0, 3.0, 4.0, 5.0, 6.0, 7.0, 8.0, 9.0, 10.0, 11.0, 12.0], dtype='float64')\n",
      "1     5587\n",
      "2     5238\n",
      "3     5749\n",
      "4     5740\n",
      "5     5947\n",
      "6     5557\n",
      "7     5902\n",
      "8     5809\n",
      "9     5987\n",
      "10    5826\n",
      "11    5462\n",
      "12    6064\n",
      "Name: ESTU_NACIMIENTO_MES, dtype: int64\n",
      "Elementos null/NaN 73\n",
      "__________________\n",
      "Elementos diferentes de null/NaN: 68868\n",
      "__________________\n",
      "(68868,)\n",
      "None\n"
     ]
    }
   ],
   "source": [
    "c = 'ESTU_NACIMIENTO_MES'\n",
    "print(data_2008[c].value_counts().sort_index().index)\n",
    "print(data_2008[c].value_counts().sort_index())\n",
    "print(missing_data(data_2008[c]))"
   ]
  },
  {
   "cell_type": "code",
   "execution_count": 17,
   "metadata": {
    "collapsed": false,
    "scrolled": true
   },
   "outputs": [
    {
     "name": "stdout",
     "output_type": "stream",
     "text": [
      "Float64Index([1930.0, 1931.0, 1939.0, 1940.0, 1941.0, 1942.0, 1943.0, 1944.0,\n",
      "              1945.0, 1946.0, 1947.0, 1948.0, 1949.0, 1950.0, 1951.0, 1952.0,\n",
      "              1953.0, 1954.0, 1955.0, 1956.0, 1957.0, 1958.0, 1959.0, 1960.0,\n",
      "              1961.0, 1962.0, 1963.0, 1964.0, 1965.0, 1966.0, 1967.0, 1968.0,\n",
      "              1969.0, 1970.0, 1971.0, 1972.0, 1973.0, 1974.0, 1975.0, 1976.0,\n",
      "              1977.0, 1978.0, 1979.0, 1980.0, 1981.0, 1982.0, 1983.0, 1984.0,\n",
      "              1985.0, 1986.0, 1987.0, 1988.0, 1989.0, 1990.0, 1991.0, 1992.0,\n",
      "              1993.0, 1994.0, 1995.0, 1997.0, 1998.0, 2000.0, 2001.0, 2002.0],\n",
      "             dtype='float64')\n",
      "1930        3\n",
      "1931        1\n",
      "1939        3\n",
      "1940        2\n",
      "1941        1\n",
      "1942        2\n",
      "1943        3\n",
      "1944        3\n",
      "1945        6\n",
      "1946        4\n",
      "1947        3\n",
      "1948        7\n",
      "1949        5\n",
      "1950       10\n",
      "1951        9\n",
      "1952        8\n",
      "1953       18\n",
      "1954        7\n",
      "1955       16\n",
      "1956       30\n",
      "1957       30\n",
      "1958       29\n",
      "1959       34\n",
      "1960       42\n",
      "1961       52\n",
      "1962       52\n",
      "1963       75\n",
      "1964       59\n",
      "1965       78\n",
      "1966       87\n",
      "        ...  \n",
      "1971      119\n",
      "1972      122\n",
      "1973      131\n",
      "1974      156\n",
      "1975      168\n",
      "1976      162\n",
      "1977      171\n",
      "1978      193\n",
      "1979      259\n",
      "1980      260\n",
      "1981      282\n",
      "1982      346\n",
      "1983      383\n",
      "1984      444\n",
      "1985      527\n",
      "1986      797\n",
      "1987     1432\n",
      "1988     3241\n",
      "1989     8006\n",
      "1990    16227\n",
      "1991    26140\n",
      "1992     7423\n",
      "1993      471\n",
      "1994       96\n",
      "1995      203\n",
      "1997        1\n",
      "1998        2\n",
      "2000        2\n",
      "2001        2\n",
      "2002        5\n",
      "Name: ESTU_NACIMIENTO_ANNO, dtype: int64\n",
      "Elementos null/NaN 73\n",
      "__________________\n",
      "Elementos diferentes de null/NaN: 68868\n",
      "__________________\n",
      "(68868,)\n",
      "None\n"
     ]
    }
   ],
   "source": [
    "c = 'ESTU_NACIMIENTO_ANNO'\n",
    "print(data_2008[c].value_counts().sort_index().index)\n",
    "print(data_2008[c].value_counts().sort_index())\n",
    "print(missing_data(data_2008[c]))"
   ]
  },
  {
   "cell_type": "code",
   "execution_count": 18,
   "metadata": {
    "collapsed": false
   },
   "outputs": [],
   "source": [
    "for i in data_2008[c].value_counts().sort_index().index:\n",
    "    if i < 1931:\n",
    "        data_2008[c] = data_2008[c].replace(i, np.nan)\n",
    "    elif i > 1996:\n",
    "        data_2008[c] = data_2008[c].replace(i, np.nan)"
   ]
  },
  {
   "cell_type": "code",
   "execution_count": 19,
   "metadata": {
    "collapsed": true
   },
   "outputs": [],
   "source": [
    "anno = data_2008[data_2008[c].isnull()].index\n",
    "data_2008 = data_2008.drop(anno)"
   ]
  },
  {
   "cell_type": "code",
   "execution_count": 24,
   "metadata": {
    "collapsed": false,
    "scrolled": true
   },
   "outputs": [
    {
     "name": "stdout",
     "output_type": "stream",
     "text": [
      "Float64Index([12.0, 13.0, 14.0, 15.0, 16.0, 17.0, 18.0, 19.0, 20.0, 21.0, 22.0,\n",
      "              23.0, 24.0, 25.0, 26.0, 27.0, 28.0, 29.0, 30.0, 31.0, 32.0, 33.0,\n",
      "              34.0, 35.0, 36.0, 37.0, 38.0, 39.0, 40.0, 41.0, 42.0, 43.0, 44.0,\n",
      "              45.0, 46.0, 47.0, 48.0, 49.0, 50.0, 51.0, 52.0, 53.0, 54.0, 55.0,\n",
      "              56.0, 57.0, 58.0, 59.0, 60.0, 61.0, 62.0, 63.0, 64.0, 65.0, 66.0,\n",
      "              67.0, 68.0, 76.0],\n",
      "             dtype='float64')\n",
      "12      172\n",
      "13      137\n",
      "14      310\n",
      "15     4453\n",
      "16    24569\n",
      "17    18271\n",
      "18     9507\n",
      "19     3918\n",
      "20     1658\n",
      "21      897\n",
      "22      560\n",
      "23      460\n",
      "24      395\n",
      "25      356\n",
      "26      307\n",
      "27      253\n",
      "28      281\n",
      "29      187\n",
      "30      183\n",
      "31      147\n",
      "32      175\n",
      "33      160\n",
      "34      130\n",
      "35      127\n",
      "36      128\n",
      "37      103\n",
      "38      113\n",
      "39      103\n",
      "40      101\n",
      "41       87\n",
      "42       81\n",
      "43       56\n",
      "44       73\n",
      "45       56\n",
      "46       61\n",
      "47       43\n",
      "48       31\n",
      "49       29\n",
      "50       30\n",
      "51       30\n",
      "52       16\n",
      "53       10\n",
      "54       19\n",
      "55        7\n",
      "56        9\n",
      "57       10\n",
      "58        8\n",
      "59        5\n",
      "60        4\n",
      "61        4\n",
      "62        6\n",
      "63        3\n",
      "64        2\n",
      "65        3\n",
      "66        2\n",
      "67        2\n",
      "68        3\n",
      "76        1\n",
      "Name: ESTU_EDAD, dtype: int64\n",
      "Elementos null/NaN 1\n",
      "__________________\n",
      "Elementos diferentes de null/NaN: 68852\n",
      "__________________\n",
      "(68852,)\n",
      "None\n"
     ]
    }
   ],
   "source": [
    "c = 'ESTU_EDAD'\n",
    "print(data_2008[c].value_counts().sort_index().index)\n",
    "print(data_2008[c].value_counts().sort_index())\n",
    "print(missing_data(data_2008[c]))"
   ]
  },
  {
   "cell_type": "code",
   "execution_count": 25,
   "metadata": {
    "collapsed": true
   },
   "outputs": [],
   "source": [
    "data_2008[c].fillna(method='bfill', inplace=True)"
   ]
  },
  {
   "cell_type": "code",
   "execution_count": 27,
   "metadata": {
    "collapsed": false
   },
   "outputs": [
    {
     "name": "stdout",
     "output_type": "stream",
     "text": [
      "Float64Index([], dtype='float64')\n",
      "Series([], Name: ESTU_LIMITA_BAJAVISION, dtype: int64)\n",
      "Elementos null/NaN 68853\n",
      "__________________\n",
      "Elementos diferentes de null/NaN: 0\n",
      "__________________\n",
      "(0,)\n",
      "None\n"
     ]
    }
   ],
   "source": [
    "c = 'ESTU_LIMITA_BAJAVISION'\n",
    "print(data_2008[c].value_counts().sort_index().index)\n",
    "print(data_2008[c].value_counts().sort_index())\n",
    "print(missing_data(data_2008[c]))"
   ]
  },
  {
   "cell_type": "code",
   "execution_count": 28,
   "metadata": {
    "collapsed": true
   },
   "outputs": [],
   "source": [
    "data_2008 = data_2008.drop([c], axis=1)"
   ]
  },
  {
   "cell_type": "code",
   "execution_count": 29,
   "metadata": {
    "collapsed": false,
    "scrolled": true
   },
   "outputs": [
    {
     "name": "stdout",
     "output_type": "stream",
     "text": [
      "Float64Index([], dtype='float64')\n",
      "Series([], Name: ESTU_LIMITA_SORDOCEGUERA, dtype: int64)\n",
      "Elementos null/NaN 68853\n",
      "__________________\n",
      "Elementos diferentes de null/NaN: 0\n",
      "__________________\n",
      "(0,)\n",
      "None\n"
     ]
    }
   ],
   "source": [
    "c = 'ESTU_LIMITA_SORDOCEGUERA'\n",
    "print(data_2008[c].value_counts().sort_index().index)\n",
    "print(data_2008[c].value_counts().sort_index())\n",
    "print(missing_data(data_2008[c]))"
   ]
  },
  {
   "cell_type": "code",
   "execution_count": 30,
   "metadata": {
    "collapsed": true
   },
   "outputs": [],
   "source": [
    "data_2008 = data_2008.drop([c], axis=1)"
   ]
  },
  {
   "cell_type": "code",
   "execution_count": 31,
   "metadata": {
    "collapsed": false
   },
   "outputs": [
    {
     "name": "stdout",
     "output_type": "stream",
     "text": [
      "Float64Index([], dtype='float64')\n",
      "Series([], Name: ESTU_LIMITA_COGNITIVA, dtype: int64)\n",
      "Elementos null/NaN 68853\n",
      "__________________\n",
      "Elementos diferentes de null/NaN: 0\n",
      "__________________\n",
      "(0,)\n",
      "None\n"
     ]
    }
   ],
   "source": [
    "c = 'ESTU_LIMITA_COGNITIVA'\n",
    "print(data_2008[c].value_counts().sort_index().index)\n",
    "print(data_2008[c].value_counts().sort_index())\n",
    "print(missing_data(data_2008[c]))"
   ]
  },
  {
   "cell_type": "code",
   "execution_count": 32,
   "metadata": {
    "collapsed": true
   },
   "outputs": [],
   "source": [
    "data_2008 = data_2008.drop([c], axis=1)"
   ]
  },
  {
   "cell_type": "code",
   "execution_count": 33,
   "metadata": {
    "collapsed": false
   },
   "outputs": [
    {
     "name": "stdout",
     "output_type": "stream",
     "text": [
      "Float64Index([], dtype='float64')\n",
      "Series([], Name: ESTU_LIMITA_INVIDENTE, dtype: int64)\n",
      "Elementos null/NaN 68853\n",
      "__________________\n",
      "Elementos diferentes de null/NaN: 0\n",
      "__________________\n",
      "(0,)\n",
      "None\n"
     ]
    }
   ],
   "source": [
    "c = 'ESTU_LIMITA_INVIDENTE'\n",
    "print(data_2008[c].value_counts().sort_index().index)\n",
    "print(data_2008[c].value_counts().sort_index())\n",
    "print(missing_data(data_2008[c]))"
   ]
  },
  {
   "cell_type": "code",
   "execution_count": 34,
   "metadata": {
    "collapsed": true
   },
   "outputs": [],
   "source": [
    "data_2008 = data_2008.drop([c], axis=1)"
   ]
  },
  {
   "cell_type": "code",
   "execution_count": 35,
   "metadata": {
    "collapsed": false
   },
   "outputs": [
    {
     "name": "stdout",
     "output_type": "stream",
     "text": [
      "Float64Index([], dtype='float64')\n",
      "Series([], Name: ESTU_LIMITA_MOTRIZ, dtype: int64)\n",
      "Elementos null/NaN 68853\n",
      "__________________\n",
      "Elementos diferentes de null/NaN: 0\n",
      "__________________\n",
      "(0,)\n",
      "None\n"
     ]
    }
   ],
   "source": [
    "c = 'ESTU_LIMITA_MOTRIZ'\n",
    "print(data_2008[c].value_counts().sort_index().index)\n",
    "print(data_2008[c].value_counts().sort_index())\n",
    "print(missing_data(data_2008[c]))"
   ]
  },
  {
   "cell_type": "code",
   "execution_count": 36,
   "metadata": {
    "collapsed": true
   },
   "outputs": [],
   "source": [
    "data_2008 = data_2008.drop([c], axis=1)"
   ]
  },
  {
   "cell_type": "code",
   "execution_count": 37,
   "metadata": {
    "collapsed": false
   },
   "outputs": [
    {
     "name": "stdout",
     "output_type": "stream",
     "text": [
      "Float64Index([], dtype='float64')\n",
      "Series([], Name: ESTU_LIMITA_SORDOINTERPRETE, dtype: int64)\n",
      "Elementos null/NaN 68853\n",
      "__________________\n",
      "Elementos diferentes de null/NaN: 0\n",
      "__________________\n",
      "(0,)\n",
      "None\n"
     ]
    }
   ],
   "source": [
    "c = 'ESTU_LIMITA_SORDOINTERPRETE'\n",
    "print(data_2008[c].value_counts().sort_index().index)\n",
    "print(data_2008[c].value_counts().sort_index())\n",
    "print(missing_data(data_2008[c]))"
   ]
  },
  {
   "cell_type": "code",
   "execution_count": 38,
   "metadata": {
    "collapsed": true
   },
   "outputs": [],
   "source": [
    "data_2008 = data_2008.drop([c], axis=1)"
   ]
  },
  {
   "cell_type": "code",
   "execution_count": 39,
   "metadata": {
    "collapsed": false
   },
   "outputs": [
    {
     "name": "stdout",
     "output_type": "stream",
     "text": [
      "Float64Index([], dtype='float64')\n",
      "Series([], Name: ESTU_LIMITA_SORDONOINTERPRETE, dtype: int64)\n",
      "Elementos null/NaN 68853\n",
      "__________________\n",
      "Elementos diferentes de null/NaN: 0\n",
      "__________________\n",
      "(0,)\n",
      "None\n"
     ]
    }
   ],
   "source": [
    "c = 'ESTU_LIMITA_SORDONOINTERPRETE'\n",
    "print(data_2008[c].value_counts().sort_index().index)\n",
    "print(data_2008[c].value_counts().sort_index())\n",
    "print(missing_data(data_2008[c]))"
   ]
  },
  {
   "cell_type": "code",
   "execution_count": 40,
   "metadata": {
    "collapsed": true
   },
   "outputs": [],
   "source": [
    "data_2008 = data_2008.drop([c], axis=1)"
   ]
  },
  {
   "cell_type": "code",
   "execution_count": 41,
   "metadata": {
    "collapsed": false,
    "scrolled": true
   },
   "outputs": [
    {
     "name": "stdout",
     "output_type": "stream",
     "text": [
      "Float64Index([ 1.0,  2.0,  3.0,  4.0,  5.0,  6.0,  7.0,  8.0,  9.0, 10.0, 11.0,\n",
      "              12.0, 13.0, 14.0, 15.0, 16.0, 99.0],\n",
      "             dtype='float64')\n",
      "1     2427\n",
      "2       50\n",
      "3       54\n",
      "4        9\n",
      "5        8\n",
      "6       17\n",
      "7        5\n",
      "8       14\n",
      "9       12\n",
      "10       6\n",
      "11    1042\n",
      "12       6\n",
      "13      31\n",
      "14       3\n",
      "15       3\n",
      "16       1\n",
      "99     851\n",
      "Name: ESTU_ETNIA, dtype: int64\n",
      "Elementos null/NaN 64314\n",
      "__________________\n",
      "Elementos diferentes de null/NaN: 4539\n",
      "__________________\n",
      "(4539,)\n",
      "None\n"
     ]
    }
   ],
   "source": [
    "c = 'ESTU_ETNIA'\n",
    "print(data_2008[c].value_counts().sort_index().index)\n",
    "print(data_2008[c].value_counts().sort_index())\n",
    "print(missing_data(data_2008[c]))"
   ]
  },
  {
   "cell_type": "code",
   "execution_count": 42,
   "metadata": {
    "collapsed": true
   },
   "outputs": [],
   "source": [
    "data_2008[c].fillna(99, inplace=True)"
   ]
  },
  {
   "cell_type": "code",
   "execution_count": 43,
   "metadata": {
    "collapsed": false,
    "scrolled": true
   },
   "outputs": [
    {
     "name": "stdout",
     "output_type": "stream",
     "text": [
      "Index(['ABEJORRAL', 'ACACIAS', 'AGUAZUL', 'AGUSTIN CODAZZI', 'AIPE', 'ALBAN',\n",
      "       'ALBAN (SAN JOSE)', 'ALBANIA', 'ALCALA', 'ALDANA',\n",
      "       ...\n",
      "       'YAGUARA', 'YALI', 'YARUMAL', 'YOLOMBO', 'YOPAL', 'YOTOCO', 'YUMBO',\n",
      "       'ZARZAL', 'ZIPACON', 'ZIPAQUIRA'],\n",
      "      dtype='object', length=387)\n",
      "ABEJORRAL                       3\n",
      "ACACIAS                        12\n",
      "AGUAZUL                        11\n",
      "AGUSTIN CODAZZI                17\n",
      "AIPE                            1\n",
      "ALBAN                           2\n",
      "ALBAN (SAN JOSE)               65\n",
      "ALBANIA                        73\n",
      "ALCALA                        102\n",
      "ALDANA                         83\n",
      "ALTAMIRA                        2\n",
      "AMBALEMA                        1\n",
      "ANCUYA                         85\n",
      "ANDALUCIA                     194\n",
      "ANGELOPOLIS                    26\n",
      "ANSERMA                         1\n",
      "ANSERMANUEVO                  137\n",
      "APARTADO                       63\n",
      "ARAUCA                         24\n",
      "ARAUQUITA                      12\n",
      "ARBOLEDA (BERRUECOS)           59\n",
      "ARGELIA                        41\n",
      "ARJONA                          1\n",
      "ARMENIA                       140\n",
      "ARMERO (GUAYABAL)               2\n",
      "ATACO                           1\n",
      "ATRATO (YUTO)                   2\n",
      "BALBOA                         15\n",
      "BARANOA                         2\n",
      "BARBACOAS                     120\n",
      "                             ... \n",
      "ULLOA                          55\n",
      "UMBITA                          1\n",
      "UNE                             6\n",
      "URAMITA                         3\n",
      "VALENCIA                       15\n",
      "VALLE DE SAN JOSE               1\n",
      "VALLEDUPAR                    146\n",
      "VALPARAISO                     16\n",
      "VERGARA                         5\n",
      "VERSALLES                      79\n",
      "VIJES                          81\n",
      "VILLA DEL ROSARIO               2\n",
      "VILLA GUAMEZ (LA HORMIGA)      14\n",
      "VILLA RICA                     15\n",
      "VILLAMARIA                      3\n",
      "VILLANUEVA                      2\n",
      "VILLAVICENCIO                 240\n",
      "VILLETA                        15\n",
      "VISTA HERMOSA                   1\n",
      "YACUANQUER                    108\n",
      "YAGUARA                         1\n",
      "YALI                            1\n",
      "YARUMAL                        13\n",
      "YOLOMBO                        11\n",
      "YOPAL                         168\n",
      "YOTOCO                        130\n",
      "YUMBO                        1030\n",
      "ZARZAL                        447\n",
      "ZIPACON                         1\n",
      "ZIPAQUIRA                      87\n",
      "Name: ESTU_RESIDE_MCPIO, dtype: int64\n",
      "Elementos null/NaN 0\n",
      "__________________\n",
      "Elementos diferentes de null/NaN: 68853\n",
      "__________________\n",
      "(68853,)\n",
      "None\n"
     ]
    }
   ],
   "source": [
    "c = 'ESTU_RESIDE_MCPIO'\n",
    "print(data_2008[c].value_counts().sort_index().index)\n",
    "print(data_2008[c].value_counts().sort_index())\n",
    "print(missing_data(data_2008[c]))"
   ]
  },
  {
   "cell_type": "code",
   "execution_count": 44,
   "metadata": {
    "collapsed": false,
    "scrolled": true
   },
   "outputs": [
    {
     "name": "stdout",
     "output_type": "stream",
     "text": [
      "Index(['ANTIOQUIA', 'ARAUCA', 'ATLÁNTICO', 'BOGOTÁ', 'BOLÍVAR', 'BOYACÁ',\n",
      "       'CALDAS', 'CAQUETÁ', 'CASANARE', 'CAUCA', 'CESAR', 'CHOCÓ',\n",
      "       'CUNDINAMARCA', 'CÓRDOBA', 'GUAINÍA', 'GUAVIARE', 'HUILA', 'LA GUAJIRA',\n",
      "       'MAGDALENA', 'META', 'NARIÑO', 'NORTE SANTANDER', 'PUTUMAYO', 'QUINDÍO',\n",
      "       'RISARALDA', 'SAN ANDRÉS', 'SANTANDER', 'SUCRE', 'TOLIMA', 'VALLE'],\n",
      "      dtype='object')\n",
      "ANTIOQUIA           3010\n",
      "ARAUCA                49\n",
      "ATLÁNTICO            700\n",
      "BOGOTÁ              6367\n",
      "BOLÍVAR              204\n",
      "BOYACÁ               227\n",
      "CALDAS               469\n",
      "CAQUETÁ              123\n",
      "CASANARE             182\n",
      "CAUCA               1183\n",
      "CESAR                163\n",
      "CHOCÓ                  8\n",
      "CUNDINAMARCA        1046\n",
      "CÓRDOBA               77\n",
      "GUAINÍA               13\n",
      "GUAVIARE               1\n",
      "HUILA                275\n",
      "LA GUAJIRA            99\n",
      "MAGDALENA             89\n",
      "META                 271\n",
      "NARIÑO             11353\n",
      "NORTE SANTANDER      115\n",
      "PUTUMAYO             116\n",
      "QUINDÍO              159\n",
      "RISARALDA            278\n",
      "SAN ANDRÉS             1\n",
      "SANTANDER            511\n",
      "SUCRE                  9\n",
      "TOLIMA               392\n",
      "VALLE              41363\n",
      "Name: ESTU_RESIDE_DEPTO, dtype: int64\n",
      "Elementos null/NaN 0\n",
      "__________________\n",
      "Elementos diferentes de null/NaN: 68853\n",
      "__________________\n",
      "(68853,)\n",
      "None\n"
     ]
    }
   ],
   "source": [
    "c = 'ESTU_RESIDE_DEPTO'\n",
    "print(data_2008[c].value_counts().sort_index().index)\n",
    "print(data_2008[c].value_counts().sort_index())\n",
    "print(missing_data(data_2008[c]))"
   ]
  },
  {
   "cell_type": "code",
   "execution_count": 45,
   "metadata": {
    "collapsed": false
   },
   "outputs": [
    {
     "name": "stdout",
     "output_type": "stream",
     "text": [
      "Float64Index([1.0, 2.0, 3.0, 4.0, 5.0, 6.0, 7.0, 8.0, 9.0, 10.0], dtype='float64')\n",
      "1      6139\n",
      "2      2548\n",
      "3      1187\n",
      "4      6751\n",
      "5      1874\n",
      "6      4450\n",
      "7      3947\n",
      "8      1676\n",
      "9      1418\n",
      "10    38849\n",
      "Name: ESTU_ZONA_RESIDE, dtype: int64\n",
      "Elementos null/NaN 14\n",
      "__________________\n",
      "Elementos diferentes de null/NaN: 68839\n",
      "__________________\n",
      "(68839,)\n",
      "None\n"
     ]
    }
   ],
   "source": [
    "c = 'ESTU_ZONA_RESIDE'\n",
    "print(data_2008[c].value_counts().sort_index().index)\n",
    "print(data_2008[c].value_counts().sort_index())\n",
    "print(missing_data(data_2008[c]))"
   ]
  },
  {
   "cell_type": "code",
   "execution_count": 46,
   "metadata": {
    "collapsed": false
   },
   "outputs": [
    {
     "name": "stdout",
     "output_type": "stream",
     "text": [
      "cant null antes: 14\n",
      "cant null despues: 0\n"
     ]
    }
   ],
   "source": [
    "Do_resamples(data_2008, c, float)"
   ]
  },
  {
   "cell_type": "code",
   "execution_count": 47,
   "metadata": {
    "collapsed": false
   },
   "outputs": [
    {
     "name": "stdout",
     "output_type": "stream",
     "text": [
      "Float64Index([1.0, 2.0], dtype='float64')\n",
      "1    56370\n",
      "2    12401\n",
      "Name: ESTU_AREA_RESIDE, dtype: int64\n",
      "Elementos null/NaN 82\n",
      "__________________\n",
      "Elementos diferentes de null/NaN: 68771\n",
      "__________________\n",
      "(68771,)\n",
      "None\n"
     ]
    }
   ],
   "source": [
    "c = 'ESTU_AREA_RESIDE'\n",
    "print(data_2008[c].value_counts().sort_index().index)\n",
    "print(data_2008[c].value_counts().sort_index())\n",
    "print(missing_data(data_2008[c]))"
   ]
  },
  {
   "cell_type": "code",
   "execution_count": 48,
   "metadata": {
    "collapsed": false
   },
   "outputs": [
    {
     "name": "stdout",
     "output_type": "stream",
     "text": [
      "cant null antes: 82\n",
      "cant null despues: 0\n"
     ]
    }
   ],
   "source": [
    "Do_resamples(data_2008, c, float)"
   ]
  },
  {
   "cell_type": "code",
   "execution_count": 49,
   "metadata": {
    "collapsed": false
   },
   "outputs": [
    {
     "name": "stdout",
     "output_type": "stream",
     "text": [
      "Float64Index([0.0, 1.0], dtype='float64')\n",
      "0     2587\n",
      "1    61303\n",
      "Name: FAMI_LEE_ESCRIBE_PADRE, dtype: int64\n",
      "Elementos null/NaN 4963\n",
      "__________________\n",
      "Elementos diferentes de null/NaN: 63890\n",
      "__________________\n",
      "(63890,)\n",
      "None\n"
     ]
    }
   ],
   "source": [
    "c = 'FAMI_LEE_ESCRIBE_PADRE'\n",
    "print(data_2008[c].value_counts().sort_index().index)\n",
    "print(data_2008[c].value_counts().sort_index())\n",
    "print(missing_data(data_2008[c]))"
   ]
  },
  {
   "cell_type": "code",
   "execution_count": 50,
   "metadata": {
    "collapsed": false
   },
   "outputs": [
    {
     "name": "stdout",
     "output_type": "stream",
     "text": [
      "cant null antes: 4963\n",
      "cant null despues: 0\n"
     ]
    }
   ],
   "source": [
    "Do_resamples(data_2008, c, float)"
   ]
  },
  {
   "cell_type": "code",
   "execution_count": 51,
   "metadata": {
    "collapsed": false
   },
   "outputs": [
    {
     "name": "stdout",
     "output_type": "stream",
     "text": [
      "Float64Index([0.0, 1.0], dtype='float64')\n",
      "0     2307\n",
      "1    61583\n",
      "Name: FAMI_LEE_ESCRIBE_MADRE, dtype: int64\n",
      "Elementos null/NaN 4963\n",
      "__________________\n",
      "Elementos diferentes de null/NaN: 63890\n",
      "__________________\n",
      "(63890,)\n",
      "None\n"
     ]
    }
   ],
   "source": [
    "c = 'FAMI_LEE_ESCRIBE_MADRE'\n",
    "print(data_2008[c].value_counts().sort_index().index)\n",
    "print(data_2008[c].value_counts().sort_index())\n",
    "print(missing_data(data_2008[c]))"
   ]
  },
  {
   "cell_type": "code",
   "execution_count": 52,
   "metadata": {
    "collapsed": false
   },
   "outputs": [
    {
     "name": "stdout",
     "output_type": "stream",
     "text": [
      "cant null antes: 4963\n",
      "cant null despues: 0\n"
     ]
    }
   ],
   "source": [
    "Do_resamples(data_2008, c, float)"
   ]
  },
  {
   "cell_type": "code",
   "execution_count": 53,
   "metadata": {
    "collapsed": false,
    "scrolled": true
   },
   "outputs": [
    {
     "name": "stdout",
     "output_type": "stream",
     "text": [
      "Float64Index([ 0.0,  1.0,  2.0,  3.0,  4.0,  5.0,  7.0,  9.0, 10.0, 11.0, 12.0,\n",
      "              13.0, 14.0, 15.0, 16.0, 17.0, 99.0],\n",
      "             dtype='float64')\n",
      "0      1826\n",
      "1         4\n",
      "2        13\n",
      "3         8\n",
      "4         5\n",
      "5         8\n",
      "7         3\n",
      "9      8665\n",
      "10    12001\n",
      "11     8885\n",
      "12    16931\n",
      "13     1031\n",
      "14     2693\n",
      "15     1039\n",
      "16     7703\n",
      "17     2856\n",
      "99     5105\n",
      "Name: FAMI_EDUCA_PADRE, dtype: int64\n",
      "Elementos null/NaN 77\n",
      "__________________\n",
      "Elementos diferentes de null/NaN: 68776\n",
      "__________________\n",
      "(68776,)\n",
      "None\n"
     ]
    }
   ],
   "source": [
    "c = 'FAMI_EDUCA_PADRE'\n",
    "print(data_2008[c].value_counts().sort_index().index)\n",
    "print(data_2008[c].value_counts().sort_index())\n",
    "print(missing_data(data_2008[c]))"
   ]
  },
  {
   "cell_type": "code",
   "execution_count": 54,
   "metadata": {
    "collapsed": false
   },
   "outputs": [
    {
     "name": "stdout",
     "output_type": "stream",
     "text": [
      "cant null antes: 77\n",
      "cant null despues: 0\n"
     ]
    }
   ],
   "source": [
    "Do_resamples(data_2008, c, float)"
   ]
  },
  {
   "cell_type": "code",
   "execution_count": 55,
   "metadata": {
    "collapsed": false,
    "scrolled": true
   },
   "outputs": [
    {
     "name": "stdout",
     "output_type": "stream",
     "text": [
      "Float64Index([ 0.0,  1.0,  2.0,  3.0,  4.0,  5.0,  7.0,  9.0, 10.0, 11.0, 12.0,\n",
      "              13.0, 14.0, 15.0, 16.0, 17.0, 99.0],\n",
      "             dtype='float64')\n",
      "0      1459\n",
      "1         2\n",
      "2        14\n",
      "3        10\n",
      "4         6\n",
      "5         7\n",
      "7         4\n",
      "9      8485\n",
      "10    12064\n",
      "11    10486\n",
      "12    17354\n",
      "13     1296\n",
      "14     2843\n",
      "15     1363\n",
      "16     7449\n",
      "17     2211\n",
      "99     3723\n",
      "Name: FAMI_EDUCA_MADRE, dtype: int64\n",
      "Elementos null/NaN 77\n",
      "__________________\n",
      "Elementos diferentes de null/NaN: 68776\n",
      "__________________\n",
      "(68776,)\n",
      "None\n"
     ]
    }
   ],
   "source": [
    "c = 'FAMI_EDUCA_MADRE'\n",
    "print(data_2008[c].value_counts().sort_index().index)\n",
    "print(data_2008[c].value_counts().sort_index())\n",
    "print(missing_data(data_2008[c]))"
   ]
  },
  {
   "cell_type": "code",
   "execution_count": 56,
   "metadata": {
    "collapsed": false
   },
   "outputs": [
    {
     "name": "stdout",
     "output_type": "stream",
     "text": [
      "cant null antes: 77\n",
      "cant null despues: 0\n"
     ]
    }
   ],
   "source": [
    "Do_resamples(data_2008, c, float)"
   ]
  },
  {
   "cell_type": "code",
   "execution_count": 57,
   "metadata": {
    "collapsed": false,
    "scrolled": true
   },
   "outputs": [
    {
     "name": "stdout",
     "output_type": "stream",
     "text": [
      "Float64Index([ 1.0,  3.0,  5.0,  6.0,  7.0,  9.0, 10.0, 11.0, 12.0, 13.0, 14.0,\n",
      "              15.0, 16.0, 17.0, 18.0, 19.0, 20.0, 21.0, 22.0, 23.0, 24.0, 25.0,\n",
      "              26.0, 99.0],\n",
      "             dtype='float64')\n",
      "1         2\n",
      "3         1\n",
      "5         1\n",
      "6         2\n",
      "7         2\n",
      "9        22\n",
      "10        1\n",
      "11        3\n",
      "12       13\n",
      "13     2294\n",
      "14     3953\n",
      "15     1832\n",
      "16     2120\n",
      "17     3375\n",
      "18     2742\n",
      "19    12330\n",
      "20     3845\n",
      "21    19716\n",
      "22      586\n",
      "23     2164\n",
      "24      149\n",
      "25       34\n",
      "26     6269\n",
      "99     7320\n",
      "Name: FAMI_OCUPA_PADRE, dtype: int64\n",
      "Elementos null/NaN 77\n",
      "__________________\n",
      "Elementos diferentes de null/NaN: 68776\n",
      "__________________\n",
      "(68776,)\n",
      "None\n"
     ]
    }
   ],
   "source": [
    "c = 'FAMI_OCUPA_PADRE'\n",
    "print(data_2008[c].value_counts().sort_index().index)\n",
    "print(data_2008[c].value_counts().sort_index())\n",
    "print(missing_data(data_2008[c]))"
   ]
  },
  {
   "cell_type": "code",
   "execution_count": 58,
   "metadata": {
    "collapsed": false
   },
   "outputs": [
    {
     "name": "stdout",
     "output_type": "stream",
     "text": [
      "cant null antes: 77\n",
      "cant null despues: 0\n"
     ]
    }
   ],
   "source": [
    "Do_resamples(data_2008, c, float)"
   ]
  },
  {
   "cell_type": "code",
   "execution_count": 59,
   "metadata": {
    "collapsed": false,
    "scrolled": true
   },
   "outputs": [
    {
     "name": "stdout",
     "output_type": "stream",
     "text": [
      "Float64Index([ 2.0,  3.0,  5.0,  6.0,  7.0,  8.0,  9.0, 10.0, 11.0, 12.0, 13.0,\n",
      "              14.0, 15.0, 16.0, 17.0, 18.0, 19.0, 20.0, 21.0, 22.0, 23.0, 24.0,\n",
      "              25.0, 26.0, 99.0],\n",
      "             dtype='float64')\n",
      "2         1\n",
      "3         1\n",
      "5         1\n",
      "6         1\n",
      "7         1\n",
      "8         1\n",
      "9         9\n",
      "10       27\n",
      "11        1\n",
      "12        4\n",
      "13     1133\n",
      "14     2932\n",
      "15      987\n",
      "16     1559\n",
      "17     2790\n",
      "18     2507\n",
      "19     3531\n",
      "20     1692\n",
      "21     8270\n",
      "22    34152\n",
      "23      727\n",
      "24      189\n",
      "25      178\n",
      "26     4435\n",
      "99     3647\n",
      "Name: FAMI_OCUPA_MADRE, dtype: int64\n",
      "Elementos null/NaN 77\n",
      "__________________\n",
      "Elementos diferentes de null/NaN: 68776\n",
      "__________________\n",
      "(68776,)\n",
      "None\n"
     ]
    }
   ],
   "source": [
    "c = 'FAMI_OCUPA_MADRE'\n",
    "print(data_2008[c].value_counts().sort_index().index)\n",
    "print(data_2008[c].value_counts().sort_index())\n",
    "print(missing_data(data_2008[c]))"
   ]
  },
  {
   "cell_type": "code",
   "execution_count": 60,
   "metadata": {
    "collapsed": false
   },
   "outputs": [
    {
     "name": "stdout",
     "output_type": "stream",
     "text": [
      "cant null antes: 77\n",
      "cant null despues: 0\n"
     ]
    }
   ],
   "source": [
    "Do_resamples(data_2008, c, float)"
   ]
  },
  {
   "cell_type": "code",
   "execution_count": 62,
   "metadata": {
    "collapsed": false
   },
   "outputs": [
    {
     "name": "stdout",
     "output_type": "stream",
     "text": [
      "Float64Index([0.0, 1.0, 2.0, 3.0, 4.0, 5.0, 6.0, 7.0, 8.0, 9.0, 10.0], dtype='float64')\n",
      "0     11585\n",
      "1     18128\n",
      "2     17275\n",
      "3      9034\n",
      "4      4396\n",
      "5      2226\n",
      "6      1177\n",
      "7       701\n",
      "8       410\n",
      "9       294\n",
      "10      394\n",
      "Name: FAMI_NUM_HERMANOS, dtype: int64\n",
      "Elementos null/NaN 3233\n",
      "__________________\n",
      "Elementos diferentes de null/NaN: 65620\n",
      "__________________\n",
      "(65620,)\n",
      "None\n"
     ]
    }
   ],
   "source": [
    "c = 'FAMI_NUM_HERMANOS'\n",
    "print(data_2008[c].value_counts().sort_index().index)\n",
    "print(data_2008[c].value_counts().sort_index())\n",
    "print(missing_data(data_2008[c]))"
   ]
  },
  {
   "cell_type": "code",
   "execution_count": 63,
   "metadata": {
    "collapsed": false
   },
   "outputs": [
    {
     "name": "stdout",
     "output_type": "stream",
     "text": [
      "cant null antes: 3233\n",
      "cant null despues: 0\n"
     ]
    }
   ],
   "source": [
    "Do_resamples(data_2008, c, float)"
   ]
  },
  {
   "cell_type": "code",
   "execution_count": 64,
   "metadata": {
    "collapsed": false,
    "scrolled": true
   },
   "outputs": [
    {
     "name": "stdout",
     "output_type": "stream",
     "text": [
      "Float64Index([1.0, 2.0, 3.0, 4.0, 5.0, 6.0, 7.0, 8.0, 9.0, 88.0, 99.0], dtype='float64')\n",
      "1      1992\n",
      "2      3568\n",
      "3      7673\n",
      "4     15258\n",
      "5      1395\n",
      "6      2331\n",
      "7      3316\n",
      "8      4837\n",
      "9       633\n",
      "88    11765\n",
      "99     1890\n",
      "Name: FAMI_EDUCA_HERMANO, dtype: int64\n",
      "Elementos null/NaN 14195\n",
      "__________________\n",
      "Elementos diferentes de null/NaN: 54658\n",
      "__________________\n",
      "(54658,)\n",
      "None\n"
     ]
    }
   ],
   "source": [
    "c = 'FAMI_EDUCA_HERMANO'\n",
    "print(data_2008[c].value_counts().sort_index().index)\n",
    "print(data_2008[c].value_counts().sort_index())\n",
    "print(missing_data(data_2008[c]))"
   ]
  },
  {
   "cell_type": "code",
   "execution_count": 65,
   "metadata": {
    "collapsed": false
   },
   "outputs": [
    {
     "name": "stdout",
     "output_type": "stream",
     "text": [
      "cant null antes: 14195\n",
      "cant null despues: 1\n",
      "cant null antes: 1\n",
      "cant null despues: 0\n"
     ]
    }
   ],
   "source": [
    "Do_resamples(data_2008, c, float)"
   ]
  },
  {
   "cell_type": "code",
   "execution_count": 66,
   "metadata": {
    "collapsed": false
   },
   "outputs": [
    {
     "name": "stdout",
     "output_type": "stream",
     "text": [
      "Float64Index([1.0, 2.0, 88.0], dtype='float64')\n",
      "1     29901\n",
      "2      4718\n",
      "88    19422\n",
      "Name: FAMI_HERMANOS_ESTUDIAN, dtype: int64\n",
      "Elementos null/NaN 14812\n",
      "__________________\n",
      "Elementos diferentes de null/NaN: 54041\n",
      "__________________\n",
      "(54041,)\n",
      "None\n"
     ]
    }
   ],
   "source": [
    "c = 'FAMI_HERMANOS_ESTUDIAN'\n",
    "print(data_2008[c].value_counts().sort_index().index)\n",
    "print(data_2008[c].value_counts().sort_index())\n",
    "print(missing_data(data_2008[c]))"
   ]
  },
  {
   "cell_type": "code",
   "execution_count": 67,
   "metadata": {
    "collapsed": false
   },
   "outputs": [
    {
     "name": "stdout",
     "output_type": "stream",
     "text": [
      "cant null antes: 14812\n",
      "cant null despues: 0\n"
     ]
    }
   ],
   "source": [
    "Do_resamples(data_2008, c, float)"
   ]
  },
  {
   "cell_type": "code",
   "execution_count": 68,
   "metadata": {
    "collapsed": false
   },
   "outputs": [
    {
     "name": "stdout",
     "output_type": "stream",
     "text": [
      "Float64Index([1.0, 2.0, 3.0, 4.0, 5.0, 6.0, 8.0], dtype='float64')\n",
      "1    18656\n",
      "2    25125\n",
      "3    15255\n",
      "4     3723\n",
      "5     2963\n",
      "6     2389\n",
      "8      464\n",
      "Name: FAMI_ESTRATO_VIVIENDA, dtype: int64\n",
      "Elementos null/NaN 278\n",
      "__________________\n",
      "Elementos diferentes de null/NaN: 68575\n",
      "__________________\n",
      "(68575,)\n",
      "None\n"
     ]
    }
   ],
   "source": [
    "c = 'FAMI_ESTRATO_VIVIENDA'\n",
    "print(data_2008[c].value_counts().sort_index().index)\n",
    "print(data_2008[c].value_counts().sort_index())\n",
    "print(missing_data(data_2008[c]))"
   ]
  },
  {
   "cell_type": "code",
   "execution_count": 70,
   "metadata": {
    "collapsed": true
   },
   "outputs": [],
   "source": [
    "data_2008[c] = data_2008[c].replace(8.0, np.nan)"
   ]
  },
  {
   "cell_type": "code",
   "execution_count": 71,
   "metadata": {
    "collapsed": false
   },
   "outputs": [
    {
     "name": "stdout",
     "output_type": "stream",
     "text": [
      "cant null antes: 465\n",
      "cant null despues: 1\n",
      "cant null antes: 1\n",
      "cant null despues: 0\n"
     ]
    }
   ],
   "source": [
    "Do_resamples(data_2008, c, float)"
   ]
  },
  {
   "cell_type": "code",
   "execution_count": 72,
   "metadata": {
    "collapsed": false
   },
   "outputs": [
    {
     "name": "stdout",
     "output_type": "stream",
     "text": [
      "Float64Index([1.0, 2.0, 3.0, 4.0, 5.0], dtype='float64')\n",
      "1    20023\n",
      "2    15993\n",
      "3     2944\n",
      "4     1497\n",
      "5    28319\n",
      "Name: FAMI_NIVEL_SISBEN, dtype: int64\n",
      "Elementos null/NaN 77\n",
      "__________________\n",
      "Elementos diferentes de null/NaN: 68776\n",
      "__________________\n",
      "(68776,)\n",
      "None\n"
     ]
    }
   ],
   "source": [
    "c = 'FAMI_NIVEL_SISBEN'\n",
    "print(data_2008[c].value_counts().sort_index().index)\n",
    "print(data_2008[c].value_counts().sort_index())\n",
    "print(missing_data(data_2008[c]))"
   ]
  },
  {
   "cell_type": "code",
   "execution_count": 73,
   "metadata": {
    "collapsed": false
   },
   "outputs": [
    {
     "name": "stdout",
     "output_type": "stream",
     "text": [
      "cant null antes: 77\n",
      "cant null despues: 0\n"
     ]
    }
   ],
   "source": [
    "Do_resamples(data_2008, c, float)"
   ]
  },
  {
   "cell_type": "code",
   "execution_count": 74,
   "metadata": {
    "collapsed": false
   },
   "outputs": [
    {
     "name": "stdout",
     "output_type": "stream",
     "text": [
      "Float64Index([1.0, 2.0, 3.0, 4.0, 5.0, 6.0, 7.0, 8.0, 9.0, 10.0, 11.0, 12.0], dtype='float64')\n",
      "1       872\n",
      "2      3563\n",
      "3     13361\n",
      "4     20908\n",
      "5     15432\n",
      "6      7202\n",
      "7      3285\n",
      "8      1813\n",
      "9       895\n",
      "10      625\n",
      "11      293\n",
      "12      527\n",
      "Name: FAMI_PERSONAS_HOGAR, dtype: int64\n",
      "Elementos null/NaN 77\n",
      "__________________\n",
      "Elementos diferentes de null/NaN: 68776\n",
      "__________________\n",
      "(68776,)\n",
      "None\n"
     ]
    }
   ],
   "source": [
    "c = 'FAMI_PERSONAS_HOGAR'\n",
    "print(data_2008[c].value_counts().sort_index().index)\n",
    "print(data_2008[c].value_counts().sort_index())\n",
    "print(missing_data(data_2008[c]))"
   ]
  },
  {
   "cell_type": "code",
   "execution_count": 75,
   "metadata": {
    "collapsed": false
   },
   "outputs": [
    {
     "name": "stdout",
     "output_type": "stream",
     "text": [
      "cant null antes: 77\n",
      "cant null despues: 0\n"
     ]
    }
   ],
   "source": [
    "Do_resamples(data_2008, c, float)"
   ]
  },
  {
   "cell_type": "code",
   "execution_count": 76,
   "metadata": {
    "collapsed": false
   },
   "outputs": [
    {
     "name": "stdout",
     "output_type": "stream",
     "text": [
      "Float64Index([1.0, 2.0, 3.0, 4.0, 5.0], dtype='float64')\n",
      "1     1984\n",
      "2    28839\n",
      "3     3823\n",
      "4    33532\n",
      "5      598\n",
      "Name: FAMI_PISOSHOGAR, dtype: int64\n",
      "Elementos null/NaN 77\n",
      "__________________\n",
      "Elementos diferentes de null/NaN: 68776\n",
      "__________________\n",
      "(68776,)\n",
      "None\n"
     ]
    }
   ],
   "source": [
    "c = 'FAMI_PISOSHOGAR'\n",
    "print(data_2008[c].value_counts().sort_index().index)\n",
    "print(data_2008[c].value_counts().sort_index())\n",
    "print(missing_data(data_2008[c]))"
   ]
  },
  {
   "cell_type": "code",
   "execution_count": 77,
   "metadata": {
    "collapsed": false
   },
   "outputs": [
    {
     "name": "stdout",
     "output_type": "stream",
     "text": [
      "cant null antes: 77\n",
      "cant null despues: 0\n"
     ]
    }
   ],
   "source": [
    "Do_resamples(data_2008, c, float)"
   ]
  },
  {
   "cell_type": "code",
   "execution_count": 78,
   "metadata": {
    "collapsed": false
   },
   "outputs": [
    {
     "name": "stdout",
     "output_type": "stream",
     "text": [
      "Float64Index([1.0, 2.0, 3.0, 4.0, 5.0, 6.0, 7.0, 8.0, 9.0, 10.0], dtype='float64')\n",
      "1       987\n",
      "2      5140\n",
      "3     14561\n",
      "4     17735\n",
      "5     13861\n",
      "6      7442\n",
      "7      3241\n",
      "8      1815\n",
      "9       779\n",
      "10      976\n",
      "Name: FAMI_CUARTOS_HOGAR, dtype: int64\n",
      "Elementos null/NaN 2316\n",
      "__________________\n",
      "Elementos diferentes de null/NaN: 66537\n",
      "__________________\n",
      "(66537,)\n",
      "None\n"
     ]
    }
   ],
   "source": [
    "c = 'FAMI_CUARTOS_HOGAR'\n",
    "print(data_2008[c].value_counts().sort_index().index)\n",
    "print(data_2008[c].value_counts().sort_index())\n",
    "print(missing_data(data_2008[c]))"
   ]
  },
  {
   "cell_type": "code",
   "execution_count": 79,
   "metadata": {
    "collapsed": false
   },
   "outputs": [
    {
     "name": "stdout",
     "output_type": "stream",
     "text": [
      "cant null antes: 2316\n",
      "cant null despues: 1\n",
      "cant null antes: 1\n",
      "cant null despues: 0\n"
     ]
    }
   ],
   "source": [
    "Do_resamples(data_2008, c, float)"
   ]
  },
  {
   "cell_type": "code",
   "execution_count": 80,
   "metadata": {
    "collapsed": false
   },
   "outputs": [
    {
     "name": "stdout",
     "output_type": "stream",
     "text": [
      "Float64Index([1.0, 2.0, 3.0, 4.0, 5.0, 6.0, 7.0, 8.0, 9.0, 10.0], dtype='float64')\n",
      "1      3503\n",
      "2     23259\n",
      "3     27555\n",
      "4     10362\n",
      "5      2686\n",
      "6       835\n",
      "7       298\n",
      "8       138\n",
      "9        50\n",
      "10       90\n",
      "Name: FAMI_DORMITORIOS_HOGAR, dtype: int64\n",
      "Elementos null/NaN 77\n",
      "__________________\n",
      "Elementos diferentes de null/NaN: 68776\n",
      "__________________\n",
      "(68776,)\n",
      "None\n"
     ]
    }
   ],
   "source": [
    "c = 'FAMI_DORMITORIOS_HOGAR'\n",
    "print(data_2008[c].value_counts().sort_index().index)\n",
    "print(data_2008[c].value_counts().sort_index())\n",
    "print(missing_data(data_2008[c]))"
   ]
  },
  {
   "cell_type": "code",
   "execution_count": 81,
   "metadata": {
    "collapsed": false
   },
   "outputs": [
    {
     "name": "stdout",
     "output_type": "stream",
     "text": [
      "cant null antes: 77\n",
      "cant null despues: 0\n"
     ]
    }
   ],
   "source": [
    "Do_resamples(data_2008, c, float)"
   ]
  },
  {
   "cell_type": "code",
   "execution_count": 82,
   "metadata": {
    "collapsed": false
   },
   "outputs": [
    {
     "name": "stdout",
     "output_type": "stream",
     "text": [
      "Float64Index([0.0, 1.0, 2.0, 3.0, 4.0], dtype='float64')\n",
      "0    39533\n",
      "1    12960\n",
      "2    10982\n",
      "3     5117\n",
      "4      184\n",
      "Name: FAMI_COMPUTADOR, dtype: int64\n",
      "Elementos null/NaN 77\n",
      "__________________\n",
      "Elementos diferentes de null/NaN: 68776\n",
      "__________________\n",
      "(68776,)\n",
      "None\n"
     ]
    }
   ],
   "source": [
    "c = 'FAMI_COMPUTADOR'\n",
    "print(data_2008[c].value_counts().sort_index().index)\n",
    "print(data_2008[c].value_counts().sort_index())\n",
    "print(missing_data(data_2008[c]))"
   ]
  },
  {
   "cell_type": "code",
   "execution_count": 83,
   "metadata": {
    "collapsed": false
   },
   "outputs": [
    {
     "name": "stdout",
     "output_type": "stream",
     "text": [
      "cant null antes: 77\n",
      "cant null despues: 0\n"
     ]
    }
   ],
   "source": [
    "Do_resamples(data_2008, c, float)"
   ]
  },
  {
   "cell_type": "code",
   "execution_count": 84,
   "metadata": {
    "collapsed": false
   },
   "outputs": [
    {
     "name": "stdout",
     "output_type": "stream",
     "text": [
      "Float64Index([1.0, 2.0, 3.0, 4.0, 5.0, 6.0, 7.0], dtype='float64')\n",
      "1    15829\n",
      "2    30661\n",
      "3    10766\n",
      "4     5083\n",
      "5     1903\n",
      "6     1460\n",
      "7     3074\n",
      "Name: FAMI_INGRESO_FMILIAR_MENSUAL, dtype: int64\n",
      "Elementos null/NaN 77\n",
      "__________________\n",
      "Elementos diferentes de null/NaN: 68776\n",
      "__________________\n",
      "(68776,)\n",
      "None\n"
     ]
    }
   ],
   "source": [
    "c = 'FAMI_INGRESO_FMILIAR_MENSUAL'\n",
    "print(data_2008[c].value_counts().sort_index().index)\n",
    "print(data_2008[c].value_counts().sort_index())\n",
    "print(missing_data(data_2008[c]))"
   ]
  },
  {
   "cell_type": "code",
   "execution_count": 85,
   "metadata": {
    "collapsed": false
   },
   "outputs": [
    {
     "name": "stdout",
     "output_type": "stream",
     "text": [
      "cant null antes: 77\n",
      "cant null despues: 0\n"
     ]
    }
   ],
   "source": [
    "Do_resamples(data_2008, c, float)"
   ]
  },
  {
   "cell_type": "code",
   "execution_count": 86,
   "metadata": {
    "collapsed": false
   },
   "outputs": [
    {
     "name": "stdout",
     "output_type": "stream",
     "text": [
      "Float64Index([0.0, 1.0, 2.0, 3.0, 4.0, 5.0, 6.0, 7.0], dtype='float64')\n",
      "0    60770\n",
      "1     5876\n",
      "2     1293\n",
      "3      326\n",
      "4      172\n",
      "5      267\n",
      "6        7\n",
      "7        8\n",
      "Name: ESTU_TRABAJA, dtype: int64\n",
      "Elementos null/NaN 134\n",
      "__________________\n",
      "Elementos diferentes de null/NaN: 68719\n",
      "__________________\n",
      "(68719,)\n",
      "None\n"
     ]
    }
   ],
   "source": [
    "c = 'ESTU_TRABAJA'\n",
    "print(data_2008[c].value_counts().sort_index().index)\n",
    "print(data_2008[c].value_counts().sort_index())\n",
    "print(missing_data(data_2008[c]))"
   ]
  },
  {
   "cell_type": "code",
   "execution_count": 87,
   "metadata": {
    "collapsed": false
   },
   "outputs": [
    {
     "name": "stdout",
     "output_type": "stream",
     "text": [
      "cant null antes: 134\n",
      "cant null despues: 0\n"
     ]
    }
   ],
   "source": [
    "Do_resamples(data_2008, c, float)"
   ]
  },
  {
   "cell_type": "code",
   "execution_count": 88,
   "metadata": {
    "collapsed": false,
    "scrolled": true
   },
   "outputs": [
    {
     "name": "stdout",
     "output_type": "stream",
     "text": [
      "Float64Index([ 0.0,  1.0,  2.0,  3.0,  4.0,  5.0,  6.0,  7.0,  8.0,  9.0, 10.0,\n",
      "              11.0, 12.0, 13.0, 14.0, 15.0, 16.0, 17.0, 18.0, 19.0, 20.0],\n",
      "             dtype='float64')\n",
      "0       24\n",
      "1       34\n",
      "2       74\n",
      "3      126\n",
      "4      254\n",
      "5      179\n",
      "6      220\n",
      "7      105\n",
      "8      850\n",
      "9      105\n",
      "10     303\n",
      "11      45\n",
      "12     204\n",
      "13      33\n",
      "14      69\n",
      "15     202\n",
      "16     143\n",
      "17      25\n",
      "18      91\n",
      "19      65\n",
      "20    4780\n",
      "Name: ESTU_HORAS_TRABAJA, dtype: int64\n",
      "Elementos null/NaN 60922\n",
      "__________________\n",
      "Elementos diferentes de null/NaN: 7931\n",
      "__________________\n",
      "(7931,)\n",
      "None\n"
     ]
    }
   ],
   "source": [
    "c = 'ESTU_HORAS_TRABAJA'\n",
    "print(data_2008[c].value_counts().sort_index().index)\n",
    "print(data_2008[c].value_counts().sort_index())\n",
    "print(missing_data(data_2008[c]))"
   ]
  },
  {
   "cell_type": "code",
   "execution_count": 89,
   "metadata": {
    "collapsed": false
   },
   "outputs": [
    {
     "name": "stdout",
     "output_type": "stream",
     "text": [
      "cant null antes: 60922\n",
      "cant null despues: 1\n",
      "cant null antes: 1\n",
      "cant null despues: 0\n"
     ]
    }
   ],
   "source": [
    "Do_resamples(data_2008, c, float)"
   ]
  },
  {
   "cell_type": "code",
   "execution_count": 90,
   "metadata": {
    "collapsed": false
   },
   "outputs": [
    {
     "name": "stdout",
     "output_type": "stream",
     "text": [
      "Float64Index([0.0, 1.0, 8.0, 9.0, 10.0, 11.0, 12.0], dtype='float64')\n",
      "0     36957\n",
      "1         2\n",
      "8     18495\n",
      "9      2538\n",
      "10     1697\n",
      "11     3167\n",
      "12     5968\n",
      "Name: COLE_VALOR_PENSION, dtype: int64\n",
      "Elementos null/NaN 29\n",
      "__________________\n",
      "Elementos diferentes de null/NaN: 68824\n",
      "__________________\n",
      "(68824,)\n",
      "None\n"
     ]
    }
   ],
   "source": [
    "c = 'COLE_VALOR_PENSION'\n",
    "print(data_2008[c].value_counts().sort_index().index)\n",
    "print(data_2008[c].value_counts().sort_index())\n",
    "print(missing_data(data_2008[c]))"
   ]
  },
  {
   "cell_type": "code",
   "execution_count": 91,
   "metadata": {
    "collapsed": false
   },
   "outputs": [
    {
     "name": "stdout",
     "output_type": "stream",
     "text": [
      "cant null antes: 29\n",
      "cant null despues: 0\n"
     ]
    }
   ],
   "source": [
    "Do_resamples(data_2008, c, float)"
   ]
  },
  {
   "cell_type": "code",
   "execution_count": 92,
   "metadata": {
    "collapsed": false
   },
   "outputs": [
    {
     "name": "stdout",
     "output_type": "stream",
     "text": [
      "Float64Index([2002.0, 2003.0, 2005.0, 2006.0, 2007.0, 2008.0, 2009.0, 2010.0,\n",
      "              2011.0, 2013.0],\n",
      "             dtype='float64')\n",
      "2002        1\n",
      "2003        1\n",
      "2005        4\n",
      "2006        3\n",
      "2007       48\n",
      "2008    68449\n",
      "2009      316\n",
      "2010       19\n",
      "2011        1\n",
      "2013        1\n",
      "Name: IND_ANNO_TERMINO_BACHILLERATO, dtype: int64\n",
      "Elementos null/NaN 10\n",
      "__________________\n",
      "Elementos diferentes de null/NaN: 68843\n",
      "__________________\n",
      "(68843,)\n",
      "None\n"
     ]
    }
   ],
   "source": [
    "c = 'IND_ANNO_TERMINO_BACHILLERATO'\n",
    "print(data_2008[c].value_counts().sort_index().index)\n",
    "print(data_2008[c].value_counts().sort_index())\n",
    "print(missing_data(data_2008[c]))"
   ]
  },
  {
   "cell_type": "code",
   "execution_count": 93,
   "metadata": {
    "collapsed": false
   },
   "outputs": [
    {
     "name": "stdout",
     "output_type": "stream",
     "text": [
      "cant null antes: 10\n",
      "cant null despues: 0\n"
     ]
    }
   ],
   "source": [
    "Do_resamples(data_2008, c, float)"
   ]
  },
  {
   "cell_type": "code",
   "execution_count": 94,
   "metadata": {
    "collapsed": false
   },
   "outputs": [
    {
     "name": "stdout",
     "output_type": "stream",
     "text": [
      "Float64Index([1.0], dtype='float64')\n",
      "1    533\n",
      "Name: IND_TERMINO_BACHILLERATO, dtype: int64\n",
      "Elementos null/NaN 68320\n",
      "__________________\n",
      "Elementos diferentes de null/NaN: 533\n",
      "__________________\n",
      "(533,)\n",
      "None\n"
     ]
    }
   ],
   "source": [
    "c = 'IND_TERMINO_BACHILLERATO'\n",
    "print(data_2008[c].value_counts().sort_index().index)\n",
    "print(data_2008[c].value_counts().sort_index())\n",
    "print(missing_data(data_2008[c]))"
   ]
  },
  {
   "cell_type": "code",
   "execution_count": 95,
   "metadata": {
    "collapsed": true
   },
   "outputs": [],
   "source": [
    "data_2008 = data_2008.drop([c], axis=1)"
   ]
  },
  {
   "cell_type": "code",
   "execution_count": 96,
   "metadata": {
    "collapsed": false,
    "scrolled": true
   },
   "outputs": [
    {
     "name": "stdout",
     "output_type": "stream",
     "text": [
      "Float64Index([     3.0,     42.0,    182.0,    265.0,    638.0,   1503.0,\n",
      "                3046.0,   3327.0,   3418.0,   3459.0,\n",
      "              ...\n",
      "              161612.0, 162099.0, 165274.0, 168237.0, 169268.0, 169698.0,\n",
      "              170217.0, 170803.0, 175703.0, 999999.0],\n",
      "             dtype='float64', length=1945)\n",
      "3          97\n",
      "42          1\n",
      "182        96\n",
      "265        10\n",
      "638        32\n",
      "1503       43\n",
      "3046       60\n",
      "3327       12\n",
      "3418       42\n",
      "3459       74\n",
      "3483        1\n",
      "3525      113\n",
      "4234       43\n",
      "4788        1\n",
      "4804        1\n",
      "5413       27\n",
      "6023      140\n",
      "6775       25\n",
      "6981        8\n",
      "7013       58\n",
      "7054       15\n",
      "7070      103\n",
      "7088       51\n",
      "7096        1\n",
      "7138        1\n",
      "7278        1\n",
      "7419        1\n",
      "7427        1\n",
      "7484        1\n",
      "7518        1\n",
      "         ... \n",
      "143651      1\n",
      "143826      1\n",
      "143842      2\n",
      "145334      1\n",
      "146688      1\n",
      "149377      3\n",
      "150169      1\n",
      "150300      2\n",
      "150318      1\n",
      "150474      1\n",
      "151373      1\n",
      "152744      1\n",
      "154674      1\n",
      "155390      1\n",
      "155614      1\n",
      "155911      1\n",
      "156448      1\n",
      "158436      1\n",
      "160739      1\n",
      "160952      1\n",
      "161612      1\n",
      "162099      1\n",
      "165274      3\n",
      "168237      1\n",
      "169268      1\n",
      "169698      1\n",
      "170217      1\n",
      "170803      1\n",
      "175703      1\n",
      "999999    185\n",
      "Name: IND_COD_ICFES_TERMINO, dtype: int64\n",
      "Elementos null/NaN 237\n",
      "__________________\n",
      "Elementos diferentes de null/NaN: 68616\n",
      "__________________\n",
      "(68616,)\n",
      "None\n"
     ]
    }
   ],
   "source": [
    "c = 'IND_COD_ICFES_TERMINO'\n",
    "print(data_2008[c].value_counts().sort_index().index)\n",
    "print(data_2008[c].value_counts().sort_index())\n",
    "print(missing_data(data_2008[c]))"
   ]
  },
  {
   "cell_type": "code",
   "execution_count": 97,
   "metadata": {
    "collapsed": false
   },
   "outputs": [
    {
     "name": "stdout",
     "output_type": "stream",
     "text": [
      "cant null antes: 237\n",
      "cant null despues: 0\n"
     ]
    }
   ],
   "source": [
    "Do_resamples(data_2008, c, float)"
   ]
  },
  {
   "cell_type": "code",
   "execution_count": 98,
   "metadata": {
    "collapsed": false,
    "scrolled": true
   },
   "outputs": [
    {
     "name": "stdout",
     "output_type": "stream",
     "text": [
      "Int64Index([   182,    265,    638,   1503,   3046,   3327,   3418,   3459,\n",
      "              3483,   3525,\n",
      "            ...\n",
      "            137042, 137067, 137075, 137091, 137109, 137125, 137133, 137158,\n",
      "            137174, 137182],\n",
      "           dtype='int64', length=1794)\n",
      "182        97\n",
      "265        10\n",
      "638        32\n",
      "1503       43\n",
      "3046       60\n",
      "3327       12\n",
      "3418       43\n",
      "3459       75\n",
      "3483        1\n",
      "3525      113\n",
      "4234       43\n",
      "6023      140\n",
      "6775       25\n",
      "6981       20\n",
      "7013       58\n",
      "7054       18\n",
      "7070      104\n",
      "7088       52\n",
      "9985        3\n",
      "11213     207\n",
      "11239      69\n",
      "11254      22\n",
      "11262      49\n",
      "11270      88\n",
      "11288     115\n",
      "11296     283\n",
      "11312     155\n",
      "11320     114\n",
      "11338     312\n",
      "11379      19\n",
      "         ... \n",
      "136614     14\n",
      "136630     19\n",
      "136689      8\n",
      "136713      3\n",
      "136747     25\n",
      "136754     13\n",
      "136796     19\n",
      "136812      6\n",
      "136853      6\n",
      "136887      9\n",
      "136903    167\n",
      "136911      6\n",
      "136929     19\n",
      "136937     27\n",
      "136952     27\n",
      "136960      4\n",
      "136994     98\n",
      "137000     10\n",
      "137018     22\n",
      "137034     19\n",
      "137042      4\n",
      "137067      9\n",
      "137075     21\n",
      "137091     10\n",
      "137109      8\n",
      "137125      7\n",
      "137133     13\n",
      "137158      8\n",
      "137174      3\n",
      "137182      7\n",
      "Name: COLE_COD_ICFES, dtype: int64\n",
      "Elementos null/NaN 0\n",
      "__________________\n",
      "Elementos diferentes de null/NaN: 68853\n",
      "__________________\n",
      "(68853,)\n",
      "None\n"
     ]
    }
   ],
   "source": [
    "c = 'COLE_COD_ICFES'\n",
    "print(data_2008[c].value_counts().sort_index().index)\n",
    "print(data_2008[c].value_counts().sort_index())\n",
    "print(missing_data(data_2008[c]))"
   ]
  },
  {
   "cell_type": "code",
   "execution_count": 99,
   "metadata": {
    "collapsed": true
   },
   "outputs": [],
   "source": [
    "for i in data_2008[c].value_counts().sort_index().index:\n",
    "    if len(str(i))<4:\n",
    "        data_2008[c] = data_2008[c].replace(i, np.nan)"
   ]
  },
  {
   "cell_type": "code",
   "execution_count": 100,
   "metadata": {
    "collapsed": true
   },
   "outputs": [],
   "source": [
    "data_2008[c].fillna(method='bfill', inplace=True)\n",
    "data_2008[c].fillna(method='ffill', inplace=True)"
   ]
  },
  {
   "cell_type": "code",
   "execution_count": 101,
   "metadata": {
    "collapsed": false,
    "scrolled": true
   },
   "outputs": [
    {
     "name": "stdout",
     "output_type": "stream",
     "text": [
      "Index(['            ', '010500103391', '034100105808', '051100116867',\n",
      "       '105001000566', '105001000876', '105001003387', '105001003395',\n",
      "       '105001003425', '105001012106',\n",
      "       ...\n",
      "       '576001091472', '576622134546', '625214000001', '625269000075',\n",
      "       '625269000078', '625269000084', '625286000041', '625843000124',\n",
      "       '625899000017', '818001100015'],\n",
      "      dtype='object', length=1605)\n",
      "                917\n",
      "010500103391     28\n",
      "034100105808     18\n",
      "051100116867      5\n",
      "105001000566     22\n",
      "105001000876     11\n",
      "105001003387     13\n",
      "105001003395     43\n",
      "105001003425     10\n",
      "105001012106      8\n",
      "105001014397     18\n",
      "105001024571    232\n",
      "105088000532     12\n",
      "105088001512     36\n",
      "105088002993      8\n",
      "105129000534     43\n",
      "105376000440      9\n",
      "105440000131      8\n",
      "108001003289      6\n",
      "108001004617      1\n",
      "111001001538     21\n",
      "111001009971     20\n",
      "111001010031     85\n",
      "111001010251     23\n",
      "111001010839      9\n",
      "111001011029      7\n",
      "111001030856     29\n",
      "111001034134      2\n",
      "111001036781     33\n",
      "111001075515     10\n",
      "               ... \n",
      "476130001186     12\n",
      "476130001208     21\n",
      "476233002003     11\n",
      "476248000478     79\n",
      "476248000648      5\n",
      "476248000877      5\n",
      "476248032012     33\n",
      "476520003791     16\n",
      "476520003813     20\n",
      "476520006324      4\n",
      "476520007207     86\n",
      "476892001183     10\n",
      "476892099710     17\n",
      "476892099728      5\n",
      "476895000382     32\n",
      "519001000002     25\n",
      "525899000016     34\n",
      "541548000100      7\n",
      "552356000068     26\n",
      "568001009690     37\n",
      "576001091472     27\n",
      "576622134546     18\n",
      "625214000001     20\n",
      "625269000075     17\n",
      "625269000078     54\n",
      "625269000084      7\n",
      "625286000041     75\n",
      "625843000124      2\n",
      "625899000017     28\n",
      "818001100015      9\n",
      "Name: COLE_COD_DANE_INSTITUCION, dtype: int64\n",
      "Elementos null/NaN 0\n",
      "__________________\n",
      "Elementos diferentes de null/NaN: 68853\n",
      "__________________\n",
      "(68853,)\n",
      "None\n"
     ]
    }
   ],
   "source": [
    "c = 'COLE_COD_DANE_INSTITUCION'\n",
    "print(data_2008[c].value_counts().sort_index().index)\n",
    "print(data_2008[c].value_counts().sort_index())\n",
    "print(missing_data(data_2008[c]))"
   ]
  },
  {
   "cell_type": "code",
   "execution_count": 102,
   "metadata": {
    "collapsed": true
   },
   "outputs": [],
   "source": [
    "data_2008[c] = data_2008[c].replace('            ', np.nan)"
   ]
  },
  {
   "cell_type": "code",
   "execution_count": 103,
   "metadata": {
    "collapsed": true
   },
   "outputs": [],
   "source": [
    "data_2008[c].fillna(method='bfill', inplace=True)\n",
    "data_2008[c].fillna(method='ffill', inplace=True)"
   ]
  },
  {
   "cell_type": "code",
   "execution_count": 104,
   "metadata": {
    "collapsed": false,
    "scrolled": true
   },
   "outputs": [
    {
     "name": "stdout",
     "output_type": "stream",
     "text": [
      "Index([' COL FUND STA ISABEL DE HUNGRIA', ' ESCUELA URBANA JOSE ANTONIO GALAN',\n",
      "       ' FUND COL PAR SAN PEDRO CLAVER',\n",
      "       '07/01 INSTITUCION EDUCATIVA JORGE ISAACS INEM',\n",
      "       '20/01 INSTITUCION EDUCATIVA, SIETE DE AGOSTO',\n",
      "       '28/01 INSTITUCIÓN EDUCATIVA SANTA FE',\n",
      "       '32/01 INSTITUCION EDUCATIVA NORMAL SUPERIOR SANTIAGO DE CALI',\n",
      "       '38/01 INSTITUCION EDUCATIVA AGUSTIN NIETO CABALLERO',\n",
      "       '41/01 INSTITUCION EDUCATIVA VILLA DEL SUR',\n",
      "       '44/01 INSTITUCIÓN EDUCATIVA COMERCIAL CIUDAD DE CALI',\n",
      "       ...\n",
      "       'SUSANA LOPEZ DE VALENCIA', 'TABLONES',\n",
      "       'TECNOLÓGICO EN INFORMATICA Y COMERCIO DE BUENAVENTURA INCOMEB',\n",
      "       'TERESA CALDERÓN DE LASSO',\n",
      "       'TÉCNICO INDUSTRIAL GERARDO VALENCIA CANO - SEDE PRINCIPAL',\n",
      "       'UNAD UNIVERSIDAD NACIONAL ABIERTA Y A DISTANCIA',\n",
      "       'UNIDAD TECNOLOGICA DE OCCIDENTE',\n",
      "       'UNIVERSIDAD NACIONAL ABIERTA Y A DISTANCIA', 'VERNOT SCHOOL',\n",
      "       'XINSTITUTO TECNICO COMERCIAL PILOTO'],\n",
      "      dtype='object', length=1619)\n",
      " COL FUND STA ISABEL DE HUNGRIA                                                                         318\n",
      " ESCUELA URBANA JOSE ANTONIO GALAN                                                                       18\n",
      " FUND COL PAR SAN PEDRO CLAVER                                                                           71\n",
      "07/01 INSTITUCION EDUCATIVA JORGE ISAACS INEM                                                           552\n",
      "20/01 INSTITUCION EDUCATIVA, SIETE DE AGOSTO                                                            106\n",
      "28/01 INSTITUCIÓN EDUCATIVA SANTA FE                                                                     91\n",
      "32/01 INSTITUCION EDUCATIVA NORMAL SUPERIOR SANTIAGO DE CALI                                            222\n",
      "38/01 INSTITUCION EDUCATIVA AGUSTIN NIETO CABALLERO                                                     109\n",
      "41/01 INSTITUCION EDUCATIVA VILLA DEL SUR                                                               128\n",
      "44/01 INSTITUCIÓN EDUCATIVA COMERCIAL CIUDAD DE CALI                                                    234\n",
      "58/01 INSTITUCION EDUCATIVA GABRIELA MISTRAL                                                            117\n",
      "69/01 INSTITUCION EDUCATIVA LA ESPERANZA                                                                 31\n",
      "74/01 INSTITUCION EDUCATIVA JUANA DE CAICEDO Y CUERO                                                     64\n",
      "80/01 INSTITUCIÓN EDUCATIVA PANCE                                                                        21\n",
      "81/02 INSTITUCION EDUCATIVA LA BUITRERA JOSE MARIA GARCIA DE TOLED                                       42\n",
      "84/04  JOSE HOLGUIN GARCES                                                                               13\n",
      "85/02 SAT JOSE HOLGUIN GARCES                                                                            19\n",
      "86/02 INSTITUCION EDUCATIVA LA LEONERA  ITA FARALLONES                                                    9\n",
      "ABSALON TORRES CAMACHO                                                                                  135\n",
      "ACAD AMERICANA DE SISTEMAS Y COMERCIO                                                                    24\n",
      "ACAD CENTRAL DE SISTEMAS ACSI                                                                            19\n",
      "ACADE MILIT JOAQUÍN DE CAICEDO Y CUERO                                                                   19\n",
      "ACADEMIA ACADEMIA SAM                                                                                    14\n",
      "ACADEMIA COLOMBIANA DE ENSEÑANZA                                                                         19\n",
      "ACADEMIA COMERCIAL REAL                                                                                  30\n",
      "ACADEMIA DE CIENCIAS DE COLOMBIA AKADEMOS                                                                25\n",
      "ACADEMIA MILIT CORONEL MIGUEL CABAL BARONA                                                               14\n",
      "ACADEMIA MILITAR GENERAL CUSTODIO GARCIA ROVIRA                                                          23\n",
      "ACADEMIA MILITAR GENERAL JOSÉ MARÍA CABAL                                                                31\n",
      "AGRICOLA CAMPOALEGRE                                                                                     38\n",
      "                                                                                                       ... \n",
      "SEDE PRINCIPAL AGUACLARA                                                                                 54\n",
      "SEDE PRINCIPAL CONCENTRACIÓN DE DESARROLLO RURAL                                                         34\n",
      "SEDE PRINCIPAL GIMNASIO DEL PACIFICO CENTRAL                                                            276\n",
      "SEDE PRINCIPAL INSTITUTO JULIA RESTREPO                                                                 320\n",
      "SEDE PRINCIPAL INSTITUTO TEC.  INDUSTRIAL C.S.L.                                                        192\n",
      "SEDE PRINCIPAL LA GRACIELA                                                                              134\n",
      "SEDE PRINCIPAL LICEO MODERNO                                                                            170\n",
      "SEDE PRINCIPAL NO. 7 MARIA ANTONIA RUIZ                                                                  73\n",
      "SEDE PRINCIPAL UNIDAD DOCENTE JOVITA SANTA COLOMA                                                        48\n",
      "SEM DE CRISTO SACERDOTE                                                                                  39\n",
      "SEMILLA DE LA ESPERANZA                                                                                  31\n",
      "SEMINARIO MENOR ARQUIDIOCESANO                                                                           67\n",
      "SERVICIO EDUCATIVO NAL DE ADULTOS SENDAS                                                                 91\n",
      "SEVILLA                                                                                                 184\n",
      "SIMON BOLIVAR                                                                                           148\n",
      "SIMON RODRIGUEZ                                                                                          54\n",
      "SIXTO MARIA ROJAS                                                                                        39\n",
      "SOC ESCUELA KARL C PARRISH                                                                               43\n",
      "SOR MARIA JULIANA                                                                                       129\n",
      "STUDIO SISTEMAS AGENCIA CRISTIANA DE SERVICIO Y EDUCACION                                               122\n",
      "SUSANA LOPEZ DE VALENCIA                                                                                 60\n",
      "TABLONES                                                                                                 29\n",
      "TECNOLÓGICO EN INFORMATICA Y COMERCIO DE BUENAVENTURA INCOMEB                                            20\n",
      "TERESA CALDERÓN DE LASSO                                                                                 25\n",
      "TÉCNICO INDUSTRIAL GERARDO VALENCIA CANO - SEDE PRINCIPAL                                               185\n",
      "UNAD UNIVERSIDAD NACIONAL ABIERTA Y A DISTANCIA                                                           5\n",
      "UNIDAD TECNOLOGICA DE OCCIDENTE                                                                           7\n",
      "UNIVERSIDAD NACIONAL ABIERTA Y A DISTANCIA                                                               34\n",
      "VERNOT SCHOOL                                                                                             6\n",
      "XINSTITUTO TECNICO COMERCIAL PILOTO                                                                       4\n",
      "Name: COLE_NOMBRE_SEDE, dtype: int64\n",
      "Elementos null/NaN 0\n",
      "__________________\n",
      "Elementos diferentes de null/NaN: 68853\n",
      "__________________\n",
      "(68853,)\n",
      "None\n"
     ]
    }
   ],
   "source": [
    "c = 'COLE_NOMBRE_SEDE'\n",
    "print(data_2008[c].value_counts().sort_index().index)\n",
    "print(data_2008[c].value_counts().sort_index())\n",
    "print(missing_data(data_2008[c]))"
   ]
  },
  {
   "cell_type": "code",
   "execution_count": 105,
   "metadata": {
    "collapsed": true
   },
   "outputs": [],
   "source": [
    "data_2008 = data_2008.drop([c], axis=1)"
   ]
  },
  {
   "cell_type": "code",
   "execution_count": 106,
   "metadata": {
    "collapsed": false
   },
   "outputs": [
    {
     "name": "stdout",
     "output_type": "stream",
     "text": [
      "Index(['A', 'B', 'F'], dtype='object')\n",
      "A    40714\n",
      "B    13162\n",
      "F    14977\n",
      "Name: COLE_CALENDARIO, dtype: int64\n",
      "Elementos null/NaN 0\n",
      "__________________\n",
      "Elementos diferentes de null/NaN: 68853\n",
      "__________________\n",
      "(68853,)\n",
      "None\n"
     ]
    }
   ],
   "source": [
    "c = 'COLE_CALENDARIO'\n",
    "print(data_2008[c].value_counts().sort_index().index)\n",
    "print(data_2008[c].value_counts().sort_index())\n",
    "print(missing_data(data_2008[c]))"
   ]
  },
  {
   "cell_type": "code",
   "execution_count": 107,
   "metadata": {
    "collapsed": false
   },
   "outputs": [
    {
     "name": "stdout",
     "output_type": "stream",
     "text": [
      "Index(['F', 'M', 'X'], dtype='object')\n",
      "F     4010\n",
      "M     1176\n",
      "X    63667\n",
      "Name: COLE_GENERO, dtype: int64\n",
      "Elementos null/NaN 0\n",
      "__________________\n",
      "Elementos diferentes de null/NaN: 68853\n",
      "__________________\n",
      "(68853,)\n",
      "None\n"
     ]
    }
   ],
   "source": [
    "c = 'COLE_GENERO'\n",
    "print(data_2008[c].value_counts().sort_index().index)\n",
    "print(data_2008[c].value_counts().sort_index())\n",
    "print(missing_data(data_2008[c]))"
   ]
  },
  {
   "cell_type": "code",
   "execution_count": 108,
   "metadata": {
    "collapsed": false
   },
   "outputs": [
    {
     "name": "stdout",
     "output_type": "stream",
     "text": [
      "Index(['N', 'O'], dtype='object')\n",
      "N    30874\n",
      "O    37979\n",
      "Name: COLE_NATURALEZA, dtype: int64\n",
      "Elementos null/NaN 0\n",
      "__________________\n",
      "Elementos diferentes de null/NaN: 68853\n",
      "__________________\n",
      "(68853,)\n",
      "None\n"
     ]
    }
   ],
   "source": [
    "c = 'COLE_NATURALEZA'\n",
    "print(data_2008[c].value_counts().sort_index().index)\n",
    "print(data_2008[c].value_counts().sort_index())\n",
    "print(missing_data(data_2008[c]))"
   ]
  },
  {
   "cell_type": "code",
   "execution_count": 109,
   "metadata": {
    "collapsed": false
   },
   "outputs": [
    {
     "name": "stdout",
     "output_type": "stream",
     "text": [
      "Float64Index([0.0, 1.0], dtype='float64')\n",
      "0    59244\n",
      "1     3951\n",
      "Name: COLE_BILINGUE, dtype: int64\n",
      "Elementos null/NaN 5658\n",
      "__________________\n",
      "Elementos diferentes de null/NaN: 63195\n",
      "__________________\n",
      "(63195,)\n",
      "None\n"
     ]
    }
   ],
   "source": [
    "c = 'COLE_BILINGUE'\n",
    "print(data_2008[c].value_counts().sort_index().index)\n",
    "print(data_2008[c].value_counts().sort_index())\n",
    "print(missing_data(data_2008[c]))"
   ]
  },
  {
   "cell_type": "code",
   "execution_count": 110,
   "metadata": {
    "collapsed": false
   },
   "outputs": [
    {
     "name": "stdout",
     "output_type": "stream",
     "text": [
      "cant null antes: 5658\n",
      "cant null despues: 0\n"
     ]
    }
   ],
   "source": [
    "Do_resamples(data_2008, c, float)"
   ]
  },
  {
   "cell_type": "code",
   "execution_count": 111,
   "metadata": {
    "collapsed": false
   },
   "outputs": [
    {
     "name": "stdout",
     "output_type": "stream",
     "text": [
      "Index(['COMPLETA U ORDINARIA', 'MAÑANA', 'NOCHE', 'SABATINA - DOMINICAL',\n",
      "       'TARDE'],\n",
      "      dtype='object')\n",
      "COMPLETA U ORDINARIA    10255\n",
      "MAÑANA                  41107\n",
      "NOCHE                    6215\n",
      "SABATINA - DOMINICAL     4036\n",
      "TARDE                    7240\n",
      "Name: COLE_JORNADA, dtype: int64\n",
      "Elementos null/NaN 0\n",
      "__________________\n",
      "Elementos diferentes de null/NaN: 68853\n",
      "__________________\n",
      "(68853,)\n",
      "None\n"
     ]
    }
   ],
   "source": [
    "c = 'COLE_JORNADA'\n",
    "print(data_2008[c].value_counts().sort_index().index)\n",
    "print(data_2008[c].value_counts().sort_index())\n",
    "print(missing_data(data_2008[c]))"
   ]
  },
  {
   "cell_type": "code",
   "execution_count": 112,
   "metadata": {
    "collapsed": false
   },
   "outputs": [
    {
     "name": "stdout",
     "output_type": "stream",
     "text": [
      "Index(['ACADEMICO', 'ACADEMICO Y TECNICO', 'NORMALISTA', 'TECNICO'], dtype='object')\n",
      "ACADEMICO              37340\n",
      "ACADEMICO Y TECNICO    11352\n",
      "NORMALISTA              1419\n",
      "TECNICO                18742\n",
      "Name: COLE_CARACTER, dtype: int64\n",
      "Elementos null/NaN 0\n",
      "__________________\n",
      "Elementos diferentes de null/NaN: 68853\n",
      "__________________\n",
      "(68853,)\n",
      "None\n"
     ]
    }
   ],
   "source": [
    "c = 'COLE_CARACTER'\n",
    "print(data_2008[c].value_counts().sort_index().index)\n",
    "print(data_2008[c].value_counts().sort_index())\n",
    "print(missing_data(data_2008[c]))"
   ]
  },
  {
   "cell_type": "code",
   "execution_count": 113,
   "metadata": {
    "collapsed": false,
    "scrolled": true
   },
   "outputs": [
    {
     "name": "stdout",
     "output_type": "stream",
     "text": [
      "Index(['ALBANIA', 'ALCALA', 'ANDALUCIA', 'ANSERMANUEVO', 'APARTADO', 'ARAUCA',\n",
      "       'ARMENIA', 'BARBACOAS', 'BARRANCABERMEJA', 'BARRANQUILLA',\n",
      "       ...\n",
      "       'TUMACO', 'TUNJA', 'TUQUERRES', 'VALLEDUPAR', 'VELEZ', 'VILLAVICENCIO',\n",
      "       'YOPAL', 'YUMBO', 'ZARZAL', 'ZIPAQUIRA'],\n",
      "      dtype='object', length=112)\n",
      "ALBANIA                      60\n",
      "ALCALA                      155\n",
      "ANDALUCIA                   186\n",
      "ANSERMANUEVO                129\n",
      "APARTADO                    158\n",
      "ARAUCA                       36\n",
      "ARMENIA                     145\n",
      "BARBACOAS                   153\n",
      "BARRANCABERMEJA               4\n",
      "BARRANQUILLA                712\n",
      "BELLO                       473\n",
      "BOGOTÁ D.C.                6260\n",
      "BOLIVAR                     105\n",
      "BUCARAMANGA                 499\n",
      "BUENAVENTURA               2396\n",
      "BUESACO                     207\n",
      "BUGA                       1561\n",
      "BUGALAGRANDE                249\n",
      "CAICEDONIA                  277\n",
      "CALI                      20818\n",
      "CALIMA (DARIEN)             167\n",
      "CANDELARIA                  652\n",
      "CARTAGENA                   197\n",
      "CARTAGO                    1608\n",
      "CAUCASIA                     37\n",
      "CHAPARRAL                    60\n",
      "CHIA                        285\n",
      "CONSACA                      75\n",
      "CUCUTA                       87\n",
      "CUMBAL                      328\n",
      "                          ...  \n",
      "RIONEGRO                     74\n",
      "ROLDANILLO                  571\n",
      "SAMANIEGO                   263\n",
      "SAN GIL                      10\n",
      "SAN PABLO                   180\n",
      "SANDONA                     289\n",
      "SANTA MARTA                  90\n",
      "SANTA ROSA DE OSOS          169\n",
      "SANTANDER DE QUILICHAO      114\n",
      "SEVILLA                     394\n",
      "SILVIA                        4\n",
      "SINCELEJO                     7\n",
      "SOACHA                      248\n",
      "SOGAMOSO                     88\n",
      "TAME                         14\n",
      "TAMINANGO                   234\n",
      "TANGUA                       48\n",
      "TORO                        180\n",
      "TRUJILLO                    229\n",
      "TULUA                      2574\n",
      "TUMACO                       63\n",
      "TUNJA                       143\n",
      "TUQUERRES                   469\n",
      "VALLEDUPAR                  175\n",
      "VELEZ                        13\n",
      "VILLAVICENCIO               274\n",
      "YOPAL                       186\n",
      "YUMBO                      1222\n",
      "ZARZAL                      459\n",
      "ZIPAQUIRA                   142\n",
      "Name: ESTU_MCPIO_PRESENTACION, dtype: int64\n",
      "Elementos null/NaN 0\n",
      "__________________\n",
      "Elementos diferentes de null/NaN: 68853\n",
      "__________________\n",
      "(68853,)\n",
      "None\n"
     ]
    }
   ],
   "source": [
    "c = 'ESTU_MCPIO_PRESENTACION'\n",
    "print(data_2008[c].value_counts().sort_index().index)\n",
    "print(data_2008[c].value_counts().sort_index())\n",
    "print(missing_data(data_2008[c]))"
   ]
  },
  {
   "cell_type": "code",
   "execution_count": 114,
   "metadata": {
    "collapsed": false,
    "scrolled": true
   },
   "outputs": [
    {
     "name": "stdout",
     "output_type": "stream",
     "text": [
      "Index(['ANTIOQUIA', 'ARAUCA', 'ATLÁNTICO', 'BOGOTÁ', 'BOLÍVAR', 'BOYACÁ',\n",
      "       'CALDAS', 'CAQUETÁ', 'CASANARE', 'CAUCA', 'CESAR', 'CHOCÓ',\n",
      "       'CUNDINAMARCA', 'CÓRDOBA', 'GUAINÍA', 'HUILA', 'LA GUAJIRA',\n",
      "       'MAGDALENA', 'META', 'NARIÑO', 'NORTE SANTANDER', 'PUTUMAYO', 'QUINDÍO',\n",
      "       'RISARALDA', 'SANTANDER', 'SUCRE', 'TOLIMA', 'VALLE'],\n",
      "      dtype='object')\n",
      "ANTIOQUIA           3044\n",
      "ARAUCA                50\n",
      "ATLÁNTICO            712\n",
      "BOGOTÁ              6260\n",
      "BOLÍVAR              212\n",
      "BOYACÁ               231\n",
      "CALDAS               492\n",
      "CAQUETÁ              118\n",
      "CASANARE             187\n",
      "CAUCA               1113\n",
      "CESAR                175\n",
      "CHOCÓ                  1\n",
      "CUNDINAMARCA         981\n",
      "CÓRDOBA               77\n",
      "GUAINÍA               13\n",
      "HUILA                272\n",
      "LA GUAJIRA            92\n",
      "MAGDALENA             90\n",
      "META                 281\n",
      "NARIÑO             11432\n",
      "NORTE SANTANDER       99\n",
      "PUTUMAYO             114\n",
      "QUINDÍO              145\n",
      "RISARALDA            262\n",
      "SANTANDER            526\n",
      "SUCRE                  7\n",
      "TOLIMA               352\n",
      "VALLE              41515\n",
      "Name: ESTU_DEPTO_PRESENTACION, dtype: int64\n",
      "Elementos null/NaN 0\n",
      "__________________\n",
      "Elementos diferentes de null/NaN: 68853\n",
      "__________________\n",
      "(68853,)\n",
      "None\n"
     ]
    }
   ],
   "source": [
    "c = 'ESTU_DEPTO_PRESENTACION'\n",
    "print(data_2008[c].value_counts().sort_index().index)\n",
    "print(data_2008[c].value_counts().sort_index())\n",
    "print(missing_data(data_2008[c]))"
   ]
  },
  {
   "cell_type": "code",
   "execution_count": 115,
   "metadata": {
    "collapsed": false
   },
   "outputs": [
    {
     "name": "stdout",
     "output_type": "stream",
     "text": [
      "Index(['EXAMEN DE ESTADO 2008-1'], dtype='object')\n",
      "EXAMEN DE ESTADO 2008-1    68853\n",
      "Name: ESTU_EXAM_NOMBREEXAMEN, dtype: int64\n",
      "Elementos null/NaN 0\n",
      "__________________\n",
      "Elementos diferentes de null/NaN: 68853\n",
      "__________________\n",
      "(68853,)\n",
      "None\n"
     ]
    }
   ],
   "source": [
    "c = 'ESTU_EXAM_NOMBREEXAMEN'\n",
    "print(data_2008[c].value_counts().sort_index().index)\n",
    "print(data_2008[c].value_counts().sort_index())\n",
    "print(missing_data(data_2008[c]))"
   ]
  },
  {
   "cell_type": "code",
   "execution_count": 116,
   "metadata": {
    "collapsed": true
   },
   "outputs": [],
   "source": [
    "data_2008 = data_2008.drop([c], axis=1)"
   ]
  },
  {
   "cell_type": "code",
   "execution_count": 117,
   "metadata": {
    "collapsed": false
   },
   "outputs": [
    {
     "name": "stdout",
     "output_type": "stream",
     "text": [
      "Float64Index([0.0, 1.0, 2.0, 3.0], dtype='float64')\n",
      "0     10\n",
      "1     19\n",
      "2     22\n",
      "3    198\n",
      "Name: ESTU_CARRDESEADA_TIPO, dtype: int64\n",
      "Elementos null/NaN 68604\n",
      "__________________\n",
      "Elementos diferentes de null/NaN: 249\n",
      "__________________\n",
      "(249,)\n",
      "None\n"
     ]
    }
   ],
   "source": [
    "c = 'ESTU_CARRDESEADA_TIPO'\n",
    "print(data_2008[c].value_counts().sort_index().index)\n",
    "print(data_2008[c].value_counts().sort_index())\n",
    "print(missing_data(data_2008[c]))"
   ]
  },
  {
   "cell_type": "code",
   "execution_count": 118,
   "metadata": {
    "collapsed": true
   },
   "outputs": [],
   "source": [
    "data_2008 = data_2008.drop([c], axis=1)"
   ]
  },
  {
   "cell_type": "code",
   "execution_count": 119,
   "metadata": {
    "collapsed": false,
    "scrolled": true
   },
   "outputs": [
    {
     "name": "stdout",
     "output_type": "stream",
     "text": [
      "Float64Index([ 1.0,  2.0,  3.0,  4.0,  5.0,  6.0,  7.0,  9.0, 11.0, 12.0, 13.0,\n",
      "              18.0, 20.0, 21.0, 22.0, 23.0, 24.0, 25.0, 27.0, 28.0, 29.0, 30.0,\n",
      "              31.0, 32.0, 33.0, 34.0, 35.0, 40.0, 41.0, 42.0, 45.0, 46.0, 47.0,\n",
      "              48.0, 56.0, 57.0, 58.0, 59.0, 61.0, 62.0, 64.0, 66.0, 70.0,\n",
      "              99.0],\n",
      "             dtype='float64')\n",
      "1      4\n",
      "2      2\n",
      "3      5\n",
      "4      1\n",
      "5      1\n",
      "6      4\n",
      "7     13\n",
      "9     15\n",
      "11     3\n",
      "12    10\n",
      "13     5\n",
      "18     7\n",
      "20     1\n",
      "21     3\n",
      "22     6\n",
      "23     5\n",
      "24     2\n",
      "25     4\n",
      "27    24\n",
      "28     1\n",
      "29     9\n",
      "30     5\n",
      "31     4\n",
      "32     3\n",
      "33     2\n",
      "34     1\n",
      "35     2\n",
      "40     1\n",
      "41    10\n",
      "42     3\n",
      "45    21\n",
      "46     1\n",
      "47     1\n",
      "48     2\n",
      "56     3\n",
      "57     8\n",
      "58     3\n",
      "59    13\n",
      "61     8\n",
      "62     4\n",
      "64     5\n",
      "66     7\n",
      "70     1\n",
      "99     6\n",
      "Name: ESTU_CARRDESEADA_NUCLEO, dtype: int64\n",
      "Elementos null/NaN 68614\n",
      "__________________\n",
      "Elementos diferentes de null/NaN: 239\n",
      "__________________\n",
      "(239,)\n",
      "None\n"
     ]
    }
   ],
   "source": [
    "c = 'ESTU_CARRDESEADA_NUCLEO'\n",
    "print(data_2008[c].value_counts().sort_index().index)\n",
    "print(data_2008[c].value_counts().sort_index())\n",
    "print(missing_data(data_2008[c]))"
   ]
  },
  {
   "cell_type": "code",
   "execution_count": 120,
   "metadata": {
    "collapsed": false
   },
   "outputs": [
    {
     "name": "stdout",
     "output_type": "stream",
     "text": [
      "cant null antes: 68614\n",
      "cant null despues: 5\n",
      "cant null antes: 5\n",
      "cant null despues: 0\n"
     ]
    }
   ],
   "source": [
    "Do_resamples(data_2008, c, float)"
   ]
  },
  {
   "cell_type": "code",
   "execution_count": 121,
   "metadata": {
    "collapsed": false,
    "scrolled": true
   },
   "outputs": [
    {
     "name": "stdout",
     "output_type": "stream",
     "text": [
      "Float64Index([1101.0, 1102.0, 1103.0, 1104.0, 1105.0, 1106.0, 1107.0, 1108.0,\n",
      "              1110.0, 1111.0,\n",
      "              ...\n",
      "              9102.0, 9103.0, 9104.0, 9105.0, 9109.0, 9110.0, 9111.0, 9112.0,\n",
      "              9114.0, 9115.0],\n",
      "             dtype='float64', length=162)\n",
      "1101    295\n",
      "1102     22\n",
      "1103     35\n",
      "1104     17\n",
      "1105      5\n",
      "1106     12\n",
      "1107      1\n",
      "1108      2\n",
      "1110    146\n",
      "1111     31\n",
      "1112     36\n",
      "1114     18\n",
      "1115      4\n",
      "1117      4\n",
      "1118      1\n",
      "1119     12\n",
      "1122      3\n",
      "1201     70\n",
      "1203    814\n",
      "1204     19\n",
      "1205      2\n",
      "1206    625\n",
      "1207     10\n",
      "1208     14\n",
      "1209      2\n",
      "1212      4\n",
      "1213      1\n",
      "1214      3\n",
      "1215      1\n",
      "1218      1\n",
      "       ... \n",
      "3902      4\n",
      "4101      1\n",
      "4108      1\n",
      "4112      1\n",
      "4701      4\n",
      "4803      1\n",
      "4806      1\n",
      "4808      3\n",
      "4809      2\n",
      "4811      5\n",
      "4812      1\n",
      "4813      4\n",
      "4814      2\n",
      "4822      1\n",
      "4823      3\n",
      "4825      1\n",
      "4827      1\n",
      "4828      1\n",
      "4835      2\n",
      "9101      5\n",
      "9102      2\n",
      "9103     25\n",
      "9104      8\n",
      "9105      3\n",
      "9109      1\n",
      "9110     15\n",
      "9111     11\n",
      "9112      3\n",
      "9114      1\n",
      "9115      2\n",
      "Name: ESTU_IES_COD_DESEADA, dtype: int64\n",
      "Elementos null/NaN 65258\n",
      "__________________\n",
      "Elementos diferentes de null/NaN: 3595\n",
      "__________________\n",
      "(3595,)\n",
      "None\n"
     ]
    }
   ],
   "source": [
    "c = 'ESTU_IES_COD_DESEADA'\n",
    "print(data_2008[c].value_counts().sort_index().index)\n",
    "print(data_2008[c].value_counts().sort_index())\n",
    "print(missing_data(data_2008[c]))"
   ]
  },
  {
   "cell_type": "code",
   "execution_count": 122,
   "metadata": {
    "collapsed": true
   },
   "outputs": [],
   "source": [
    "data_2008[c].fillna(method='bfill', inplace=True)\n",
    "data_2008[c].fillna(method='ffill', inplace=True)"
   ]
  },
  {
   "cell_type": "code",
   "execution_count": 123,
   "metadata": {
    "collapsed": false,
    "scrolled": true
   },
   "outputs": [
    {
     "name": "stdout",
     "output_type": "stream",
     "text": [
      "Index(['ARMENIA', 'BARRANQUILLA', 'BELLO', 'BOGOTÁ D.C.', 'BUCARAMANGA',\n",
      "       'BUENAVENTURA', 'BUGA', 'CALI', 'CARTAGENA', 'CHIA', 'CUCUTA',\n",
      "       'DUITAMA', 'FLORENCIA', 'FUSAGASUGA', 'GIRARDOT', 'HONDA', 'IBAGUE',\n",
      "       'MADRID', 'MANIZALES', 'MEDELLIN', 'MOCOA', 'NEIVA', 'NILO', 'PALMIRA',\n",
      "       'PAMPLONA', 'PASTO', 'PENSILVANIA', 'PEREIRA', 'POPAYAN', 'QUIBDO',\n",
      "       'RIOHACHA', 'ROLDANILLO', 'SAN GIL', 'SANTA MARTA',\n",
      "       'SANTAFÉ DE ANTIOQUIA', 'SOGAMOSO', 'TULUA', 'TUNJA', 'TURBO',\n",
      "       'VILLAVICENCIO'],\n",
      "      dtype='object')\n",
      "ARMENIA                   17\n",
      "BARRANQUILLA               9\n",
      "BELLO                      2\n",
      "BOGOTÁ D.C.             1100\n",
      "BUCARAMANGA               34\n",
      "BUENAVENTURA               3\n",
      "BUGA                       2\n",
      "CALI                    1143\n",
      "CARTAGENA                  8\n",
      "CHIA                      32\n",
      "CUCUTA                     3\n",
      "DUITAMA                    1\n",
      "FLORENCIA                  4\n",
      "FUSAGASUGA                 3\n",
      "GIRARDOT                   1\n",
      "HONDA                      1\n",
      "IBAGUE                    12\n",
      "MADRID                     3\n",
      "MANIZALES                105\n",
      "MEDELLIN                 162\n",
      "MOCOA                      1\n",
      "NEIVA                     19\n",
      "NILO                       4\n",
      "PALMIRA                   20\n",
      "PAMPLONA                   4\n",
      "PASTO                    654\n",
      "PENSILVANIA                1\n",
      "PEREIRA                   40\n",
      "POPAYAN                  149\n",
      "QUIBDO                     1\n",
      "RIOHACHA                   1\n",
      "ROLDANILLO                 1\n",
      "SAN GIL                    1\n",
      "SANTA MARTA                1\n",
      "SANTAFÉ DE ANTIOQUIA       1\n",
      "SOGAMOSO                   2\n",
      "TULUA                     22\n",
      "TUNJA                     14\n",
      "TURBO                      1\n",
      "VILLAVICENCIO             13\n",
      "Name: ESTU_IES_MPIO_DESEADA, dtype: int64\n",
      "Elementos null/NaN 65258\n",
      "__________________\n",
      "Elementos diferentes de null/NaN: 3595\n",
      "__________________\n",
      "(3595,)\n",
      "None\n"
     ]
    }
   ],
   "source": [
    "c = 'ESTU_IES_MPIO_DESEADA'\n",
    "print(data_2008[c].value_counts().sort_index().index)\n",
    "print(data_2008[c].value_counts().sort_index())\n",
    "print(missing_data(data_2008[c]))"
   ]
  },
  {
   "cell_type": "code",
   "execution_count": 124,
   "metadata": {
    "collapsed": false
   },
   "outputs": [
    {
     "name": "stdout",
     "output_type": "stream",
     "text": [
      "cant null antes: 65258\n",
      "cant null despues: 3\n",
      "cant null antes: 3\n",
      "cant null despues: 0\n"
     ]
    }
   ],
   "source": [
    "Do_resamples(data_2008, c, str)"
   ]
  },
  {
   "cell_type": "code",
   "execution_count": 125,
   "metadata": {
    "collapsed": false,
    "scrolled": true
   },
   "outputs": [
    {
     "name": "stdout",
     "output_type": "stream",
     "text": [
      "Index(['ANTIOQUIA', 'ATLÁNTICO', 'BOGOTÁ', 'BOLÍVAR', 'BOYACÁ', 'CALDAS',\n",
      "       'CAQUETÁ', 'CAUCA', 'CHOCÓ', 'CUNDINAMARCA', 'HUILA', 'LA GUAJIRA',\n",
      "       'MAGDALENA', 'META', 'NARIÑO', 'NORTE SANTANDER', 'PUTUMAYO', 'QUINDÍO',\n",
      "       'RISARALDA', 'SANTANDER', 'TOLIMA', 'VALLE'],\n",
      "      dtype='object')\n",
      "ANTIOQUIA           166\n",
      "ATLÁNTICO             9\n",
      "BOGOTÁ             1100\n",
      "BOLÍVAR               8\n",
      "BOYACÁ               17\n",
      "CALDAS              106\n",
      "CAQUETÁ               4\n",
      "CAUCA               149\n",
      "CHOCÓ                 1\n",
      "CUNDINAMARCA         43\n",
      "HUILA                19\n",
      "LA GUAJIRA            1\n",
      "MAGDALENA             1\n",
      "META                 13\n",
      "NARIÑO              654\n",
      "NORTE SANTANDER       7\n",
      "PUTUMAYO              1\n",
      "QUINDÍO              17\n",
      "RISARALDA            40\n",
      "SANTANDER            35\n",
      "TOLIMA               13\n",
      "VALLE              1191\n",
      "Name: ESTU_IES_DEPT_DESEADA, dtype: int64\n",
      "Elementos null/NaN 65258\n",
      "__________________\n",
      "Elementos diferentes de null/NaN: 3595\n",
      "__________________\n",
      "(3595,)\n",
      "None\n"
     ]
    }
   ],
   "source": [
    "c = 'ESTU_IES_DEPT_DESEADA'\n",
    "print(data_2008[c].value_counts().sort_index().index)\n",
    "print(data_2008[c].value_counts().sort_index())\n",
    "print(missing_data(data_2008[c]))"
   ]
  },
  {
   "cell_type": "code",
   "execution_count": 126,
   "metadata": {
    "collapsed": false
   },
   "outputs": [
    {
     "name": "stdout",
     "output_type": "stream",
     "text": [
      "cant null antes: 65258\n",
      "cant null despues: 0\n"
     ]
    }
   ],
   "source": [
    "Do_resamples(data_2008, c, str)"
   ]
  },
  {
   "cell_type": "code",
   "execution_count": 127,
   "metadata": {
    "collapsed": false
   },
   "outputs": [
    {
     "name": "stdout",
     "output_type": "stream",
     "text": [
      "Float64Index([1.0, 2.0, 3.0, 4.0, 5.0, 6.0, 7.0, 8.0], dtype='float64')\n",
      "1      61\n",
      "2     323\n",
      "3    2176\n",
      "4     286\n",
      "5     221\n",
      "6     220\n",
      "7      80\n",
      "8     228\n",
      "Name: ESTU_RAZONINSTITUTO, dtype: int64\n",
      "Elementos null/NaN 65258\n",
      "__________________\n",
      "Elementos diferentes de null/NaN: 3595\n",
      "__________________\n",
      "(3595,)\n",
      "None\n"
     ]
    }
   ],
   "source": [
    "c = 'ESTU_RAZONINSTITUTO'\n",
    "print(data_2008[c].value_counts().sort_index().index)\n",
    "print(data_2008[c].value_counts().sort_index())\n",
    "print(missing_data(data_2008[c]))"
   ]
  },
  {
   "cell_type": "code",
   "execution_count": 128,
   "metadata": {
    "collapsed": false
   },
   "outputs": [
    {
     "name": "stdout",
     "output_type": "stream",
     "text": [
      "cant null antes: 65258\n",
      "cant null despues: 0\n"
     ]
    }
   ],
   "source": [
    "Do_resamples(data_2008, c, float)"
   ]
  },
  {
   "cell_type": "code",
   "execution_count": 129,
   "metadata": {
    "collapsed": false,
    "scrolled": true
   },
   "outputs": [
    {
     "name": "stdout",
     "output_type": "stream",
     "text": [
      "Float64Index([   74.0,   108.0,   109.0,   116.0,   122.0,   152.0,   171.0,\n",
      "                413.0,   460.0,   621.0,\n",
      "              ...\n",
      "              22594.0, 22658.0, 22662.0, 22680.0, 22683.0, 22803.0, 22901.0,\n",
      "              22941.0, 22970.0, 24642.0],\n",
      "             dtype='float64', length=701)\n",
      "74        1\n",
      "108       1\n",
      "109       1\n",
      "116       2\n",
      "122       1\n",
      "152       1\n",
      "171       1\n",
      "413       1\n",
      "460       1\n",
      "621       1\n",
      "865       1\n",
      "1774      1\n",
      "1797      1\n",
      "1807      1\n",
      "1810      2\n",
      "1815      1\n",
      "1820      1\n",
      "1847      1\n",
      "1848      2\n",
      "1867      1\n",
      "1868      2\n",
      "1869      1\n",
      "1870      3\n",
      "1882     10\n",
      "1883      2\n",
      "1891     11\n",
      "1966      2\n",
      "1973      1\n",
      "1985      3\n",
      "1998      1\n",
      "         ..\n",
      "21798     3\n",
      "21799     4\n",
      "21800     3\n",
      "21805     1\n",
      "21807     1\n",
      "21809     1\n",
      "22043     3\n",
      "22046     3\n",
      "22047     7\n",
      "22049     7\n",
      "22050     5\n",
      "22051     3\n",
      "22052     6\n",
      "22053     6\n",
      "22090     1\n",
      "22408     1\n",
      "22435     1\n",
      "22441     1\n",
      "22468     1\n",
      "22588     1\n",
      "22594     1\n",
      "22658     1\n",
      "22662     1\n",
      "22680     1\n",
      "22683     1\n",
      "22803     1\n",
      "22901     1\n",
      "22941     2\n",
      "22970     1\n",
      "24642     2\n",
      "Name: ESTU_CARRDESEADA_COD, dtype: int64\n",
      "Elementos null/NaN 65611\n",
      "__________________\n",
      "Elementos diferentes de null/NaN: 3242\n",
      "__________________\n",
      "(3242,)\n",
      "None\n"
     ]
    }
   ],
   "source": [
    "c = 'ESTU_CARRDESEADA_COD'\n",
    "print(data_2008[c].value_counts().sort_index().index)\n",
    "print(data_2008[c].value_counts().sort_index())\n",
    "print(missing_data(data_2008[c]))"
   ]
  },
  {
   "cell_type": "code",
   "execution_count": 130,
   "metadata": {
    "collapsed": false
   },
   "outputs": [
    {
     "name": "stdout",
     "output_type": "stream",
     "text": [
      "cant null antes: 65611\n",
      "cant null despues: 124\n",
      "cant null antes: 124\n",
      "cant null despues: 0\n"
     ]
    }
   ],
   "source": [
    "Do_resamples(data_2008, c, float)"
   ]
  },
  {
   "cell_type": "code",
   "execution_count": 131,
   "metadata": {
    "collapsed": false
   },
   "outputs": [
    {
     "name": "stdout",
     "output_type": "stream",
     "text": [
      "Float64Index([1.0, 2.0, 3.0, 4.0, 5.0, 6.0, 7.0], dtype='float64')\n",
      "1     973\n",
      "2    1557\n",
      "3     631\n",
      "4     186\n",
      "5     204\n",
      "6      39\n",
      "7      25\n",
      "Name: ESTU_CARRDESEADA_RAZON, dtype: int64\n",
      "Elementos null/NaN 65238\n",
      "__________________\n",
      "Elementos diferentes de null/NaN: 3615\n",
      "__________________\n",
      "(3615,)\n",
      "None\n"
     ]
    }
   ],
   "source": [
    "c = 'ESTU_CARRDESEADA_RAZON'\n",
    "print(data_2008[c].value_counts().sort_index().index)\n",
    "print(data_2008[c].value_counts().sort_index())\n",
    "print(missing_data(data_2008[c]))"
   ]
  },
  {
   "cell_type": "code",
   "execution_count": 132,
   "metadata": {
    "collapsed": false
   },
   "outputs": [
    {
     "name": "stdout",
     "output_type": "stream",
     "text": [
      "cant null antes: 65238\n",
      "cant null despues: 1\n",
      "cant null antes: 1\n",
      "cant null despues: 0\n"
     ]
    }
   ],
   "source": [
    "Do_resamples(data_2008, c, float)"
   ]
  },
  {
   "cell_type": "markdown",
   "metadata": {},
   "source": [
    "## TARGETS"
   ]
  },
  {
   "cell_type": "code",
   "execution_count": 133,
   "metadata": {
    "collapsed": false,
    "scrolled": true
   },
   "outputs": [
    {
     "name": "stdout",
     "output_type": "stream",
     "text": [
      "Index(['0', '15,44', '15,62', '23,72', '23,92', '28,98', '29,22', '33,01',\n",
      "       '33,27', '36,36', '36,65', '39,29', '39,6', '41,94', '42,26', '44,39',\n",
      "       '44,72', '46,7', '47,04', '48,93', '49,27', '51,1', '51,43', '53,24',\n",
      "       '53,57', '55,39', '55,7', '57,57', '57,87', '59,82', '60,1', '62,18',\n",
      "       '62,45', '64,72', '64,95', '67,5', '67,71', '70,67', '70,86', '74,49',\n",
      "       '74,64', '79,49', '79,61', '87,44', '87,53'],\n",
      "      dtype='object')\n",
      "0          18\n",
      "15,44      32\n",
      "15,62      42\n",
      "23,72     138\n",
      "23,92     169\n",
      "28,98     426\n",
      "29,22     469\n",
      "33,01     931\n",
      "33,27    1095\n",
      "36,36    1714\n",
      "36,65    1759\n",
      "39,29    2383\n",
      "39,6     2568\n",
      "41,94    3159\n",
      "42,26    3280\n",
      "44,39    3732\n",
      "44,72    3697\n",
      "46,7     3891\n",
      "47,04    3977\n",
      "48,93    3782\n",
      "49,27    3844\n",
      "51,1     3575\n",
      "51,43    3395\n",
      "53,24    3088\n",
      "53,57    2869\n",
      "55,39    2473\n",
      "55,7     2422\n",
      "57,57    1846\n",
      "57,87    1819\n",
      "59,82    1290\n",
      "60,1     1176\n",
      "62,18     859\n",
      "62,45     801\n",
      "64,72     563\n",
      "64,95     505\n",
      "67,5      312\n",
      "67,71     323\n",
      "70,67     148\n",
      "70,86     144\n",
      "74,49      50\n",
      "74,64      61\n",
      "79,49      12\n",
      "79,61      12\n",
      "87,44       1\n",
      "87,53       3\n",
      "Name: PUNT_LENGUAJE, dtype: int64\n",
      "Elementos null/NaN 0\n",
      "__________________\n",
      "Elementos diferentes de null/NaN: 68853\n",
      "__________________\n",
      "(68853,)\n",
      "None\n"
     ]
    }
   ],
   "source": [
    "c = 'PUNT_LENGUAJE'\n",
    "print(data_2008[c].value_counts().sort_index().index)\n",
    "print(data_2008[c].value_counts().sort_index())\n",
    "print(missing_data(data_2008[c]))"
   ]
  },
  {
   "cell_type": "code",
   "execution_count": 134,
   "metadata": {
    "collapsed": true
   },
   "outputs": [],
   "source": [
    "clean_target(data_2008, c)"
   ]
  },
  {
   "cell_type": "code",
   "execution_count": 136,
   "metadata": {
    "collapsed": false,
    "scrolled": true
   },
   "outputs": [
    {
     "name": "stdout",
     "output_type": "stream",
     "text": [
      "Index(['0', '111,01', '111,02', '16,1', '16,39', '22,63', '22,94', '27,61',\n",
      "       '27,92', '31,75', '32,05', '35,35', '35,65', '38,62', '38,91', '41,64',\n",
      "       '41,92', '44,5', '44,76', '47,26', '47,5', '49,95', '5,81', '50,18',\n",
      "       '52,61', '52,82', '55,29', '55,48', '58,01', '58,18', '6,08', '60,82',\n",
      "       '60,97', '63,78', '63,9', '66,94', '67,05', '70,42', '70,5', '74,38',\n",
      "       '74,44', '79,12', '79,16', '85,32', '85,34', '95,12'],\n",
      "      dtype='object')\n",
      "0           18\n",
      "111,01      18\n",
      "111,02      27\n",
      "16,1       217\n",
      "16,39      244\n",
      "22,63      685\n",
      "22,94      727\n",
      "27,61     1420\n",
      "27,92     1437\n",
      "31,75     2361\n",
      "32,05     2434\n",
      "35,35     3335\n",
      "35,65     3176\n",
      "38,62     3883\n",
      "38,91     3805\n",
      "41,64     4000\n",
      "41,92     4032\n",
      "44,5      3803\n",
      "44,76     3812\n",
      "47,26     3356\n",
      "47,5      3429\n",
      "49,95     2826\n",
      "5,81        50\n",
      "50,18     2830\n",
      "52,61     2209\n",
      "52,82     2149\n",
      "55,29     1570\n",
      "55,48     1674\n",
      "58,01     1262\n",
      "58,18     1170\n",
      "6,08        66\n",
      "60,82      938\n",
      "60,97      889\n",
      "63,78      722\n",
      "63,9       701\n",
      "66,94      568\n",
      "67,05      522\n",
      "70,42      401\n",
      "70,5       447\n",
      "74,38      319\n",
      "74,44      356\n",
      "79,12      234\n",
      "79,16      236\n",
      "85,32      151\n",
      "85,34      156\n",
      "95,12      188\n",
      "Name: PUNT_MATEMATICAS, dtype: int64\n",
      "Elementos null/NaN 0\n",
      "__________________\n",
      "Elementos diferentes de null/NaN: 68853\n",
      "__________________\n",
      "(68853,)\n",
      "None\n"
     ]
    }
   ],
   "source": [
    "c = 'PUNT_MATEMATICAS'\n",
    "print(data_2008[c].value_counts().sort_index().index)\n",
    "print(data_2008[c].value_counts().sort_index())\n",
    "print(missing_data(data_2008[c]))"
   ]
  },
  {
   "cell_type": "code",
   "execution_count": 137,
   "metadata": {
    "collapsed": true
   },
   "outputs": [],
   "source": [
    "clean_target(data_2008, c)"
   ]
  },
  {
   "cell_type": "code",
   "execution_count": 138,
   "metadata": {
    "collapsed": false,
    "scrolled": true
   },
   "outputs": [
    {
     "name": "stdout",
     "output_type": "stream",
     "text": [
      "Index(['0', '13,87', '13,93', '19,69', '19,72', '24,08', '24,09', '27,67',\n",
      "       '27,69', '30,78', '30,83', '33,56', '33,63', '36,11', '36,21', '38,49',\n",
      "       '38,61', '4,53', '4,62', '40,74', '40,9', '42,9', '43,08', '45', '45,2',\n",
      "       '47,04', '47,26', '49,06', '49,3', '51,06', '51,31', '53,06', '53,33',\n",
      "       '55,08', '55,36', '57,13', '57,42', '59,23', '59,52', '61,4', '61,69',\n",
      "       '63,66', '63,95', '66,05', '66,33', '68,61', '68,88', '71,4', '71,65',\n",
      "       '74,51', '74,74', '78,11'],\n",
      "      dtype='object')\n",
      "0           2\n",
      "13,87      22\n",
      "13,93      19\n",
      "19,69      68\n",
      "19,72      81\n",
      "24,08     202\n",
      "24,09     266\n",
      "27,67     601\n",
      "27,69     511\n",
      "30,78    1119\n",
      "30,83     981\n",
      "33,56    1796\n",
      "33,63    1547\n",
      "36,11    2647\n",
      "36,21    2195\n",
      "38,49    3367\n",
      "38,61    2820\n",
      "4,53        1\n",
      "4,62        1\n",
      "40,74    3743\n",
      "40,9     3260\n",
      "42,9     4038\n",
      "43,08    3451\n",
      "45       3973\n",
      "45,2     3345\n",
      "47,04    3657\n",
      "47,26    3190\n",
      "49,06    3083\n",
      "49,3     2719\n",
      "51,06    2708\n",
      "51,31    2191\n",
      "53,06    2177\n",
      "53,33    1734\n",
      "55,08    1514\n",
      "55,36    1229\n",
      "57,13    1101\n",
      "57,42     807\n",
      "59,23     731\n",
      "59,52     501\n",
      "61,4      438\n",
      "61,69     283\n",
      "63,66     245\n",
      "63,95     162\n",
      "66,05     102\n",
      "66,33      91\n",
      "68,61      65\n",
      "68,88      27\n",
      "71,4       24\n",
      "71,65       9\n",
      "74,51       7\n",
      "74,74       1\n",
      "78,11       1\n",
      "Name: PUNT_C_SOCIALES, dtype: int64\n",
      "Elementos null/NaN 0\n",
      "__________________\n",
      "Elementos diferentes de null/NaN: 68853\n",
      "__________________\n",
      "(68853,)\n",
      "None\n"
     ]
    }
   ],
   "source": [
    "c = 'PUNT_C_SOCIALES'\n",
    "print(data_2008[c].value_counts().sort_index().index)\n",
    "print(data_2008[c].value_counts().sort_index())\n",
    "print(missing_data(data_2008[c]))"
   ]
  },
  {
   "cell_type": "code",
   "execution_count": 139,
   "metadata": {
    "collapsed": true
   },
   "outputs": [],
   "source": [
    "clean_target(data_2008, c)"
   ]
  },
  {
   "cell_type": "code",
   "execution_count": 140,
   "metadata": {
    "collapsed": false,
    "scrolled": true
   },
   "outputs": [
    {
     "name": "stdout",
     "output_type": "stream",
     "text": [
      "Index(['0', '10,99', '11,06', '20,28', '20,35', '26,18', '26,25', '30,7',\n",
      "       '30,76', '34,49', '34,54', '37,83', '37,86', '40,89', '40,9', '43,75',\n",
      "       '43,77', '46,47', '46,52', '49,11', '49,2', '51,72', '51,85', '54,32',\n",
      "       '54,5', '56,96', '57,18', '59,65', '59,93', '62,45', '62,79', '65,4',\n",
      "       '65,81', '68,58', '69,05', '72,07', '72,61', '76,05', '76,66', '80,8',\n",
      "       '81,47', '86,96', '87,7', '97,35'],\n",
      "      dtype='object')\n",
      "0          13\n",
      "10,99      65\n",
      "11,06      67\n",
      "20,28     283\n",
      "20,35     250\n",
      "26,18     874\n",
      "26,25     736\n",
      "30,7     1819\n",
      "30,76    1605\n",
      "34,49    3068\n",
      "34,54    2593\n",
      "37,83    4161\n",
      "37,86    3480\n",
      "40,89    4709\n",
      "40,9     4122\n",
      "43,75    4145\n",
      "43,77    4899\n",
      "46,47    3718\n",
      "46,52    4527\n",
      "49,11    3067\n",
      "49,2     3824\n",
      "51,72    2371\n",
      "51,85    3024\n",
      "54,32    1785\n",
      "54,5     2259\n",
      "56,96    1316\n",
      "57,18    1552\n",
      "59,65     837\n",
      "59,93    1056\n",
      "62,45     563\n",
      "62,79     671\n",
      "65,4      352\n",
      "65,81     360\n",
      "68,58     186\n",
      "69,05     213\n",
      "72,07      84\n",
      "72,61      90\n",
      "76,05      44\n",
      "76,66      33\n",
      "80,8       16\n",
      "81,47      10\n",
      "86,96       3\n",
      "87,7        2\n",
      "97,35       1\n",
      "Name: PUNT_FILOSOFIA, dtype: int64\n",
      "Elementos null/NaN 0\n",
      "__________________\n",
      "Elementos diferentes de null/NaN: 68853\n",
      "__________________\n",
      "(68853,)\n",
      "None\n"
     ]
    }
   ],
   "source": [
    "c = 'PUNT_FILOSOFIA'\n",
    "print(data_2008[c].value_counts().sort_index().index)\n",
    "print(data_2008[c].value_counts().sort_index())\n",
    "print(missing_data(data_2008[c]))"
   ]
  },
  {
   "cell_type": "code",
   "execution_count": 141,
   "metadata": {
    "collapsed": true
   },
   "outputs": [],
   "source": [
    "clean_target(data_2008, c)"
   ]
  },
  {
   "cell_type": "code",
   "execution_count": 142,
   "metadata": {
    "collapsed": false,
    "scrolled": true
   },
   "outputs": [
    {
     "name": "stdout",
     "output_type": "stream",
     "text": [
      "Index(['0', '19,34', '20,17', '26,99', '27,86', '31,79', '32,68', '35,42',\n",
      "       '36,34', '38,43', '39,36', '41,06', '42', '43,43', '44,37', '45,62',\n",
      "       '46,57', '47,7', '48,64', '49,7', '50,63', '51,64', '52,56', '53,57',\n",
      "       '54,46', '55,49', '56,37', '57,44', '58,29', '59,44', '60,27', '61,53',\n",
      "       '62,33', '63,75', '64,51', '66,14', '66,87', '68,8', '69,49', '71,85',\n",
      "       '72,49', '75,53', '76,14', '80,39', '80,95', '88,13', '88,64'],\n",
      "      dtype='object')\n",
      "0         201\n",
      "19,34      84\n",
      "20,17     152\n",
      "26,99     306\n",
      "27,86     475\n",
      "31,79     851\n",
      "32,68    1230\n",
      "35,42    1932\n",
      "36,34    2364\n",
      "38,43    3092\n",
      "39,36    3594\n",
      "41,06    4063\n",
      "42       4765\n",
      "43,43    4780\n",
      "44,37    4792\n",
      "45,62    4779\n",
      "46,57    4500\n",
      "47,7     4058\n",
      "48,64    3603\n",
      "49,7     3280\n",
      "50,63    2776\n",
      "51,64    2347\n",
      "52,56    1971\n",
      "53,57    1575\n",
      "54,46    1339\n",
      "55,49    1122\n",
      "56,37     920\n",
      "57,44     677\n",
      "58,29     654\n",
      "59,44     460\n",
      "60,27     378\n",
      "61,53     344\n",
      "62,33     287\n",
      "63,75     203\n",
      "64,51     242\n",
      "66,14     145\n",
      "66,87     139\n",
      "68,8      111\n",
      "69,49      73\n",
      "71,85      59\n",
      "72,49      51\n",
      "75,53      27\n",
      "76,14      25\n",
      "80,39      13\n",
      "80,95       6\n",
      "88,13       4\n",
      "88,64       4\n",
      "Name: PUNT_BIOLOGIA, dtype: int64\n",
      "Elementos null/NaN 0\n",
      "__________________\n",
      "Elementos diferentes de null/NaN: 68853\n",
      "__________________\n",
      "(68853,)\n",
      "None\n"
     ]
    }
   ],
   "source": [
    "c = 'PUNT_BIOLOGIA'\n",
    "print(data_2008[c].value_counts().sort_index().index)\n",
    "print(data_2008[c].value_counts().sort_index())\n",
    "print(missing_data(data_2008[c]))"
   ]
  },
  {
   "cell_type": "code",
   "execution_count": 143,
   "metadata": {
    "collapsed": true
   },
   "outputs": [],
   "source": [
    "clean_target(data_2008, c)"
   ]
  },
  {
   "cell_type": "code",
   "execution_count": 144,
   "metadata": {
    "collapsed": false,
    "scrolled": true
   },
   "outputs": [
    {
     "name": "stdout",
     "output_type": "stream",
     "text": [
      "Index(['0', '17,47', '17,57', '18,16', '24,28', '24,38', '25,01', '28,51',\n",
      "       '28,61', '29,27', '31,7', '31,79', '32,49', '34,32', '34,41', '35,15',\n",
      "       '36,6', '36,68', '37,46', '38,65', '38,72', '39,55', '40,54', '40,6',\n",
      "       '41,48', '42,33', '42,38', '43,31', '44,04', '44,08', '45,07', '45,71',\n",
      "       '45,74', '46,8', '47,36', '47,37', '48,52', '49', '49,01', '50,24',\n",
      "       '50,66', '50,68', '52,01', '52,36', '52,4', '53,85', '54,13', '54,2',\n",
      "       '55,79', '56,01', '56,1', '57,89', '58,05', '58,17', '60,21', '60,31',\n",
      "       '60,46', '62,88', '62,92', '63,1', '66,09', '66,11', '66,31', '70,3',\n",
      "       '70,38', '70,56', '77,07', '77,23', '77,39', '88,28', '88,48', '88,63'],\n",
      "      dtype='object')\n",
      "0          13\n",
      "17,47      13\n",
      "17,57      42\n",
      "18,16      21\n",
      "24,28      56\n",
      "24,38     111\n",
      "25,01     102\n",
      "28,51     175\n",
      "28,61     362\n",
      "29,27     269\n",
      "31,7      400\n",
      "31,79     879\n",
      "32,49     602\n",
      "34,32     726\n",
      "34,41    1573\n",
      "35,15    1038\n",
      "36,6     1153\n",
      "36,68    2415\n",
      "37,46    1407\n",
      "38,65    1494\n",
      "38,72    2992\n",
      "39,55    1792\n",
      "40,54    1711\n",
      "40,6     3490\n",
      "41,48    1886\n",
      "42,33    1758\n",
      "42,38    3513\n",
      "43,31    1886\n",
      "44,04    1737\n",
      "44,08    3498\n",
      "         ... \n",
      "52,01     799\n",
      "52,36    1549\n",
      "52,4      796\n",
      "53,85     629\n",
      "54,13    1202\n",
      "54,2      681\n",
      "55,79     486\n",
      "56,01     992\n",
      "56,1      484\n",
      "57,89     344\n",
      "58,05     709\n",
      "58,17     355\n",
      "60,21     254\n",
      "60,31     524\n",
      "60,46     237\n",
      "62,88     175\n",
      "62,92     290\n",
      "63,1      146\n",
      "66,09     185\n",
      "66,11     110\n",
      "66,31     106\n",
      "70,3      100\n",
      "70,38      45\n",
      "70,56      55\n",
      "77,07      33\n",
      "77,23      16\n",
      "77,39      15\n",
      "88,28      10\n",
      "88,48       5\n",
      "88,63      10\n",
      "Name: PUNT_QUIMICA, dtype: int64\n",
      "Elementos null/NaN 0\n",
      "__________________\n",
      "Elementos diferentes de null/NaN: 68853\n",
      "__________________\n",
      "(68853,)\n",
      "None\n"
     ]
    }
   ],
   "source": [
    "c = 'PUNT_QUIMICA'\n",
    "print(data_2008[c].value_counts().sort_index().index)\n",
    "print(data_2008[c].value_counts().sort_index())\n",
    "print(missing_data(data_2008[c]))"
   ]
  },
  {
   "cell_type": "code",
   "execution_count": 145,
   "metadata": {
    "collapsed": true
   },
   "outputs": [],
   "source": [
    "clean_target(data_2008, c)"
   ]
  },
  {
   "cell_type": "code",
   "execution_count": 146,
   "metadata": {
    "collapsed": false,
    "scrolled": true
   },
   "outputs": [
    {
     "name": "stdout",
     "output_type": "stream",
     "text": [
      "Index(['0', '102,82', '12,71', '13,22', '22,57', '23,01', '28,74', '29,13',\n",
      "       '33,42', '33,75', '37,29', '37,58', '40,67', '40,91', '43,72', '43,91',\n",
      "       '46,55', '46,7', '49,23', '49,33', '51,8', '51,86', '54,31', '54,33',\n",
      "       '56,78', '56,8', '59,23', '59,29', '61,71', '61,82', '64,28', '64,43',\n",
      "       '66,96', '67,15', '69,81', '70,06', '72,9', '73,22', '76,34', '76,74',\n",
      "       '80,32', '80,82', '85,16', '85,79', '91,55', '92,37'],\n",
      "      dtype='object')\n",
      "0           73\n",
      "102,82       1\n",
      "12,71       70\n",
      "13,22      107\n",
      "22,57      332\n",
      "23,01      414\n",
      "28,74     1079\n",
      "29,13     1389\n",
      "33,42     2444\n",
      "33,75     2650\n",
      "37,29     4106\n",
      "37,58     4244\n",
      "40,67     5355\n",
      "40,91     5487\n",
      "43,72     5860\n",
      "43,91     5684\n",
      "46,55     5042\n",
      "46,7      4943\n",
      "49,23     3778\n",
      "49,33     3697\n",
      "51,8      2574\n",
      "51,86     2367\n",
      "54,31     1579\n",
      "54,33     1418\n",
      "56,78      901\n",
      "56,8       908\n",
      "59,23      477\n",
      "59,29      538\n",
      "61,71      282\n",
      "61,82      329\n",
      "64,28      156\n",
      "64,43      169\n",
      "66,96       88\n",
      "67,15       99\n",
      "69,81       54\n",
      "70,06       59\n",
      "72,9        25\n",
      "73,22       29\n",
      "76,34       11\n",
      "76,74       15\n",
      "80,32        4\n",
      "80,82        9\n",
      "85,16        2\n",
      "85,79        1\n",
      "91,55        3\n",
      "92,37        1\n",
      "Name: PUNT_FISICA, dtype: int64\n",
      "Elementos null/NaN 0\n",
      "__________________\n",
      "Elementos diferentes de null/NaN: 68853\n",
      "__________________\n",
      "(68853,)\n",
      "None\n"
     ]
    }
   ],
   "source": [
    "c = 'PUNT_FISICA'\n",
    "print(data_2008[c].value_counts().sort_index().index)\n",
    "print(data_2008[c].value_counts().sort_index())\n",
    "print(missing_data(data_2008[c]))"
   ]
  },
  {
   "cell_type": "code",
   "execution_count": 147,
   "metadata": {
    "collapsed": true
   },
   "outputs": [],
   "source": [
    "clean_target(data_2008, c)"
   ]
  },
  {
   "cell_type": "code",
   "execution_count": 148,
   "metadata": {
    "collapsed": false,
    "scrolled": true
   },
   "outputs": [
    {
     "name": "stdout",
     "output_type": "stream",
     "text": [
      "Index(['0', '10,66', '100', '13,98', '17,17', '20,24', '23,16', '25,94',\n",
      "       '28,58', '3,67', '31,05', '33,35', '35,47', '37,38', '39,07', '40,5',\n",
      "       '41,6', '42,2', '43,48', '44,34', '45,2', '46,06', '46,92', '47,79',\n",
      "       '48,65', '49,51', '50,37', '51,23', '52,09', '53,32', '54,31', '55,3',\n",
      "       '56,28', '57,27', '58,26', '59,25', '60,23', '61,22', '62,69', '66,91',\n",
      "       '7,22', '71,12', '75,34', '79,55', '83,41', '91,71'],\n",
      "      dtype='object')\n",
      "0          10\n",
      "10,66       7\n",
      "100       548\n",
      "13,98      11\n",
      "17,17      39\n",
      "20,24     109\n",
      "23,16     249\n",
      "25,94     575\n",
      "28,58    1070\n",
      "3,67        2\n",
      "31,05    1859\n",
      "33,35    2820\n",
      "35,47    3786\n",
      "37,38    4746\n",
      "39,07    5472\n",
      "40,5     5847\n",
      "41,6     5737\n",
      "42,2     5453\n",
      "43,48    4697\n",
      "44,34    3987\n",
      "45,2     3197\n",
      "46,06    2471\n",
      "46,92    1901\n",
      "47,79    1469\n",
      "48,65    1194\n",
      "49,51     922\n",
      "50,37     779\n",
      "51,23     683\n",
      "52,09     574\n",
      "53,32     507\n",
      "54,31     484\n",
      "55,3      479\n",
      "56,28     428\n",
      "57,27     425\n",
      "58,26     392\n",
      "59,25     411\n",
      "60,23     451\n",
      "61,22     477\n",
      "62,69     459\n",
      "66,91     539\n",
      "7,22        3\n",
      "71,12     614\n",
      "75,34     647\n",
      "79,55     720\n",
      "83,41     837\n",
      "91,71     766\n",
      "Name: PUNT_INGLES, dtype: int64\n",
      "Elementos null/NaN 0\n",
      "__________________\n",
      "Elementos diferentes de null/NaN: 68853\n",
      "__________________\n",
      "(68853,)\n",
      "None\n"
     ]
    }
   ],
   "source": [
    "c = 'PUNT_INGLES'\n",
    "print(data_2008[c].value_counts().sort_index().index)\n",
    "print(data_2008[c].value_counts().sort_index())\n",
    "print(missing_data(data_2008[c]))"
   ]
  },
  {
   "cell_type": "code",
   "execution_count": 149,
   "metadata": {
    "collapsed": true
   },
   "outputs": [],
   "source": [
    "clean_target(data_2008, c)"
   ]
  },
  {
   "cell_type": "code",
   "execution_count": 150,
   "metadata": {
    "collapsed": false
   },
   "outputs": [
    {
     "name": "stdout",
     "output_type": "stream",
     "text": [
      "Index(['A-', 'A1', 'A2', 'B+', 'B1'], dtype='object')\n",
      "A-    37795\n",
      "A1    21874\n",
      "A2     4054\n",
      "B+     2151\n",
      "B1     2979\n",
      "Name: DESEMP_INGLES, dtype: int64\n",
      "Elementos null/NaN 0\n",
      "__________________\n",
      "Elementos diferentes de null/NaN: 68853\n",
      "__________________\n",
      "(68853,)\n",
      "None\n"
     ]
    }
   ],
   "source": [
    "c = 'DESEMP_INGLES'\n",
    "print(data_2008[c].value_counts().sort_index().index)\n",
    "print(data_2008[c].value_counts().sort_index())\n",
    "print(missing_data(data_2008[c]))"
   ]
  },
  {
   "cell_type": "code",
   "execution_count": 151,
   "metadata": {
    "collapsed": false
   },
   "outputs": [
    {
     "name": "stdout",
     "output_type": "stream",
     "text": [
      "Index(['PROFUNDIZACIÓN EN BIOLOGÍA', 'PROFUNDIZACIÓN EN CIENCIAS SOCIALES',\n",
      "       'PROFUNDIZACIÓN EN LENGUAJE', 'PROFUNDIZACIÓN EN MATEMÁTICA'],\n",
      "      dtype='object')\n",
      "PROFUNDIZACIÓN EN BIOLOGÍA             20159\n",
      "PROFUNDIZACIÓN EN CIENCIAS SOCIALES    12541\n",
      "PROFUNDIZACIÓN EN LENGUAJE             24964\n",
      "PROFUNDIZACIÓN EN MATEMÁTICA           11189\n",
      "Name: NOMBRE_PROFUNDIZACION, dtype: int64\n",
      "Elementos null/NaN 0\n",
      "__________________\n",
      "Elementos diferentes de null/NaN: 68853\n",
      "__________________\n",
      "(68853,)\n",
      "None\n"
     ]
    }
   ],
   "source": [
    "c = 'NOMBRE_PROFUNDIZACION'\n",
    "print(data_2008[c].value_counts().sort_index().index)\n",
    "print(data_2008[c].value_counts().sort_index())\n",
    "print(missing_data(data_2008[c]))"
   ]
  },
  {
   "cell_type": "code",
   "execution_count": 152,
   "metadata": {
    "collapsed": false,
    "scrolled": true
   },
   "outputs": [
    {
     "name": "stdout",
     "output_type": "stream",
     "text": [
      "Index(['0', '10', '2,99', '3,15', '3,19', '3,41', '3,8', '3,94', '3,99',\n",
      "       '4,13', '4,33', '4,45', '4,49', '4,59', '4,74', '4,84', '4,88', '4,95',\n",
      "       '5,08', '5,18', '5,22', '5,27', '5,4', '5,49', '5,52', '5,56', '5,7',\n",
      "       '5,78', '5,81', '5,84', '5,99', '6,06', '6,1', '6,12', '6,29', '6,35',\n",
      "       '6,39', '6,42', '6,6', '6,66', '6,69', '6,73', '6,95', '7', '7,03',\n",
      "       '7,08', '7,36', '7,4', '7,42', '7,49', '7,88', '7,91', '7,93', '8,01',\n",
      "       '8,72', '8,8'],\n",
      "      dtype='object')\n",
      "0        602\n",
      "10        17\n",
      "2,99     948\n",
      "3,15     700\n",
      "3,19     640\n",
      "3,41     788\n",
      "3,8     2715\n",
      "3,94    1619\n",
      "3,99    1580\n",
      "4,13    1702\n",
      "4,33    4504\n",
      "4,45    2296\n",
      "4,49    2593\n",
      "4,59    2238\n",
      "4,74    5500\n",
      "4,84    2433\n",
      "4,88    3351\n",
      "4,95    2076\n",
      "5,08    4964\n",
      "5,18    1955\n",
      "5,22    3216\n",
      "5,27    1612\n",
      "5,4     3300\n",
      "5,49    1417\n",
      "5,52    2849\n",
      "5,56    1002\n",
      "5,7     1696\n",
      "5,78     886\n",
      "5,81    2142\n",
      "5,84     603\n",
      "5,99     749\n",
      "6,06     575\n",
      "6,1     1493\n",
      "6,12     359\n",
      "6,29     290\n",
      "6,35     307\n",
      "6,39     965\n",
      "6,42     224\n",
      "6,6       82\n",
      "6,66     141\n",
      "6,69     565\n",
      "6,73     154\n",
      "6,95      36\n",
      "7         52\n",
      "7,03     338\n",
      "7,08     103\n",
      "7,36      14\n",
      "7,4       12\n",
      "7,42     201\n",
      "7,49      68\n",
      "7,88       4\n",
      "7,91       3\n",
      "7,93      81\n",
      "8,01      47\n",
      "8,72      19\n",
      "8,8       27\n",
      "Name: PUNT_PROFUNDIZACION, dtype: int64\n",
      "Elementos null/NaN 0\n",
      "__________________\n",
      "Elementos diferentes de null/NaN: 68853\n",
      "__________________\n",
      "(68853,)\n",
      "None\n"
     ]
    }
   ],
   "source": [
    "c = 'PUNT_PROFUNDIZACION'\n",
    "print(data_2008[c].value_counts().sort_index().index)\n",
    "print(data_2008[c].value_counts().sort_index())\n",
    "print(missing_data(data_2008[c]))"
   ]
  },
  {
   "cell_type": "code",
   "execution_count": 153,
   "metadata": {
    "collapsed": true
   },
   "outputs": [],
   "source": [
    "clean_target(data_2008, c)"
   ]
  },
  {
   "cell_type": "code",
   "execution_count": 154,
   "metadata": {
    "collapsed": false
   },
   "outputs": [
    {
     "name": "stdout",
     "output_type": "stream",
     "text": [
      "Index(['GB', 'I', 'II', 'III'], dtype='object')\n",
      "GB     31925\n",
      "I      29196\n",
      "II      6812\n",
      "III      920\n",
      "Name: DESEMP_PROFUNDIZACION, dtype: int64\n",
      "Elementos null/NaN 0\n",
      "__________________\n",
      "Elementos diferentes de null/NaN: 68853\n",
      "__________________\n",
      "(68853,)\n",
      "None\n"
     ]
    }
   ],
   "source": [
    "c = 'DESEMP_PROFUNDIZACION'\n",
    "print(data_2008[c].value_counts().sort_index().index)\n",
    "print(data_2008[c].value_counts().sort_index())\n",
    "print(missing_data(data_2008[c]))"
   ]
  },
  {
   "cell_type": "code",
   "execution_count": 155,
   "metadata": {
    "collapsed": false
   },
   "outputs": [
    {
     "name": "stdout",
     "output_type": "stream",
     "text": [
      "Index(['MEDIO AMBIENTE', 'VIOLENCIA Y SOCIEDAD'], dtype='object')\n",
      "MEDIO AMBIENTE          34043\n",
      "VIOLENCIA Y SOCIEDAD    34810\n",
      "Name: NOMBRE_INTERDISCIPLINAR, dtype: int64\n",
      "Elementos null/NaN 0\n",
      "__________________\n",
      "Elementos diferentes de null/NaN: 68853\n",
      "__________________\n",
      "(68853,)\n",
      "None\n"
     ]
    }
   ],
   "source": [
    "c = 'NOMBRE_INTERDISCIPLINAR'\n",
    "print(data_2008[c].value_counts().sort_index().index)\n",
    "print(data_2008[c].value_counts().sort_index())\n",
    "print(missing_data(data_2008[c]))"
   ]
  },
  {
   "cell_type": "code",
   "execution_count": 156,
   "metadata": {
    "collapsed": false,
    "scrolled": true
   },
   "outputs": [
    {
     "name": "stdout",
     "output_type": "stream",
     "text": [
      "Index(['0', '22,3', '30,09', '35,09', '39', '42,36', '43,93', '45,41', '46,63',\n",
      "       '48,31', '48,4', '49,81', '51,04', '51,16', '52,17', '53,26', '54,06',\n",
      "       '54,35', '55,48', '56,71', '57,11', '58,11', '59,84', '60,48', '62,35',\n",
      "       '64,39', '69,41', '77,21', '89,75'],\n",
      "      dtype='object')\n",
      "0         583\n",
      "22,3     1478\n",
      "30,09    3245\n",
      "35,09    4697\n",
      "39       5185\n",
      "42,36    4801\n",
      "43,93     818\n",
      "45,41    3809\n",
      "46,63    2227\n",
      "48,31    2990\n",
      "48,4     3933\n",
      "49,81    5445\n",
      "51,04    6167\n",
      "51,16    2262\n",
      "52,17    5830\n",
      "53,26    4399\n",
      "54,06    1785\n",
      "54,35    2725\n",
      "55,48    1411\n",
      "56,71     597\n",
      "57,11    1385\n",
      "58,11     193\n",
      "59,84      72\n",
      "60,48    1117\n",
      "62,35      16\n",
      "64,39     815\n",
      "69,41     518\n",
      "77,21     260\n",
      "89,75      90\n",
      "Name: PUNT_INTERDISCIPLINAR, dtype: int64\n",
      "Elementos null/NaN 0\n",
      "__________________\n",
      "Elementos diferentes de null/NaN: 68853\n",
      "__________________\n",
      "(68853,)\n",
      "None\n"
     ]
    }
   ],
   "source": [
    "c = 'PUNT_INTERDISCIPLINAR'\n",
    "print(data_2008[c].value_counts().sort_index().index)\n",
    "print(data_2008[c].value_counts().sort_index())\n",
    "print(missing_data(data_2008[c]))"
   ]
  },
  {
   "cell_type": "code",
   "execution_count": 157,
   "metadata": {
    "collapsed": true
   },
   "outputs": [],
   "source": [
    "clean_target(data_2008, c)"
   ]
  },
  {
   "cell_type": "code",
   "execution_count": 158,
   "metadata": {
    "collapsed": false,
    "scrolled": true
   },
   "outputs": [
    {
     "name": "stdout",
     "output_type": "stream",
     "text": [
      "Int64Index([  0,   1,   2,   3,   4,   5,   6,   7,   8,   9,\n",
      "            ...\n",
      "            962, 963, 964, 965, 966, 967, 968, 969, 970, 971],\n",
      "           dtype='int64', length=972)\n",
      "0        1\n",
      "1      131\n",
      "2      127\n",
      "3      111\n",
      "4      116\n",
      "5      118\n",
      "6      101\n",
      "7       98\n",
      "8       94\n",
      "9       95\n",
      "10      90\n",
      "11      97\n",
      "12      88\n",
      "13      85\n",
      "14      95\n",
      "15      72\n",
      "16      91\n",
      "17      86\n",
      "18      75\n",
      "19      86\n",
      "20      89\n",
      "21      89\n",
      "22      80\n",
      "23      87\n",
      "24      77\n",
      "25      67\n",
      "26      86\n",
      "27      73\n",
      "28      71\n",
      "29      72\n",
      "      ... \n",
      "942     85\n",
      "943     82\n",
      "944     93\n",
      "945     84\n",
      "946     95\n",
      "947     90\n",
      "948     71\n",
      "949     92\n",
      "950     96\n",
      "951     92\n",
      "952     88\n",
      "953     91\n",
      "954     85\n",
      "955     99\n",
      "956     89\n",
      "957     85\n",
      "958     89\n",
      "959     91\n",
      "960     99\n",
      "961    100\n",
      "962     93\n",
      "963     88\n",
      "964     92\n",
      "965     91\n",
      "966     81\n",
      "967     76\n",
      "968     65\n",
      "969     45\n",
      "970     18\n",
      "971      7\n",
      "Name: ESTU_PUESTO, dtype: int64\n",
      "Elementos null/NaN 0\n",
      "__________________\n",
      "Elementos diferentes de null/NaN: 68853\n",
      "__________________\n",
      "(68853,)\n",
      "None\n"
     ]
    }
   ],
   "source": [
    "c = 'ESTU_PUESTO'\n",
    "print(data_2008[c].value_counts().sort_index().index)\n",
    "print(data_2008[c].value_counts().sort_index())\n",
    "print(missing_data(data_2008[c]))"
   ]
  },
  {
   "cell_type": "markdown",
   "metadata": {},
   "source": [
    "____"
   ]
  },
  {
   "cell_type": "markdown",
   "metadata": {},
   "source": [
    "____"
   ]
  },
  {
   "cell_type": "markdown",
   "metadata": {},
   "source": [
    "____"
   ]
  },
  {
   "cell_type": "markdown",
   "metadata": {},
   "source": [
    "# FILE 2: 2008_2"
   ]
  },
  {
   "cell_type": "code",
   "execution_count": 2,
   "metadata": {
    "collapsed": false
   },
   "outputs": [
    {
     "name": "stderr",
     "output_type": "stream",
     "text": [
      "/usr/local/lib/python3.4/dist-packages/IPython/core/interactiveshell.py:2902: DtypeWarning: Columns (53) have mixed types. Specify dtype option on import or set low_memory=False.\n",
      "  interactivity=interactivity, compiler=compiler, result=result)\n"
     ]
    }
   ],
   "source": [
    "data_2008_2 = pd.read_csv('../DatosFTPICFES/SABER11/SB11-BASES_DE_DATOS/SB11-20082-RGSTRO-CLFCCN-V1-0.txt', delimiter = '|')"
   ]
  },
  {
   "cell_type": "code",
   "execution_count": 3,
   "metadata": {
    "collapsed": false
   },
   "outputs": [
    {
     "data": {
      "text/plain": [
       "(437532, 91)"
      ]
     },
     "execution_count": 3,
     "metadata": {},
     "output_type": "execute_result"
    }
   ],
   "source": [
    "data_2008_2.shape"
   ]
  },
  {
   "cell_type": "code",
   "execution_count": 4,
   "metadata": {
    "collapsed": false,
    "scrolled": true
   },
   "outputs": [
    {
     "data": {
      "text/html": [
       "<div>\n",
       "<table border=\"1\" class=\"dataframe\">\n",
       "  <thead>\n",
       "    <tr style=\"text-align: right;\">\n",
       "      <th></th>\n",
       "      <th>0</th>\n",
       "      <th>1</th>\n",
       "      <th>2</th>\n",
       "    </tr>\n",
       "  </thead>\n",
       "  <tbody>\n",
       "    <tr>\n",
       "      <th>ESTU_CONSECUTIVO</th>\n",
       "      <td>SABER1120082000001</td>\n",
       "      <td>SABER1120082000002</td>\n",
       "      <td>SABER1120082000003</td>\n",
       "    </tr>\n",
       "    <tr>\n",
       "      <th>PERIODO</th>\n",
       "      <td>20082</td>\n",
       "      <td>20082</td>\n",
       "      <td>20082</td>\n",
       "    </tr>\n",
       "    <tr>\n",
       "      <th>ESTU_TIPO_DOCUMENTO</th>\n",
       "      <td>T</td>\n",
       "      <td>C</td>\n",
       "      <td>C</td>\n",
       "    </tr>\n",
       "    <tr>\n",
       "      <th>ESTU_PAIS_RESIDE</th>\n",
       "      <td>CO</td>\n",
       "      <td>CO</td>\n",
       "      <td>CO</td>\n",
       "    </tr>\n",
       "    <tr>\n",
       "      <th>ESTU_GENERO</th>\n",
       "      <td>F</td>\n",
       "      <td>M</td>\n",
       "      <td>M</td>\n",
       "    </tr>\n",
       "    <tr>\n",
       "      <th>ESTU_NACIMIENTO_DIA</th>\n",
       "      <td>23</td>\n",
       "      <td>1</td>\n",
       "      <td>4</td>\n",
       "    </tr>\n",
       "    <tr>\n",
       "      <th>ESTU_NACIMIENTO_MES</th>\n",
       "      <td>3</td>\n",
       "      <td>6</td>\n",
       "      <td>12</td>\n",
       "    </tr>\n",
       "    <tr>\n",
       "      <th>ESTU_NACIMIENTO_ANNO</th>\n",
       "      <td>1991</td>\n",
       "      <td>1986</td>\n",
       "      <td>1989</td>\n",
       "    </tr>\n",
       "    <tr>\n",
       "      <th>ESTU_EDAD</th>\n",
       "      <td>17</td>\n",
       "      <td>22</td>\n",
       "      <td>18</td>\n",
       "    </tr>\n",
       "    <tr>\n",
       "      <th>ESTU_LIMITA_BAJAVISION</th>\n",
       "      <td>NaN</td>\n",
       "      <td>NaN</td>\n",
       "      <td>NaN</td>\n",
       "    </tr>\n",
       "    <tr>\n",
       "      <th>ESTU_LIMITA_SORDOCEGUERA</th>\n",
       "      <td>NaN</td>\n",
       "      <td>NaN</td>\n",
       "      <td>NaN</td>\n",
       "    </tr>\n",
       "    <tr>\n",
       "      <th>ESTU_LIMITA_COGNITIVA</th>\n",
       "      <td>NaN</td>\n",
       "      <td>NaN</td>\n",
       "      <td>NaN</td>\n",
       "    </tr>\n",
       "    <tr>\n",
       "      <th>ESTU_LIMITA_INVIDENTE</th>\n",
       "      <td>NaN</td>\n",
       "      <td>NaN</td>\n",
       "      <td>NaN</td>\n",
       "    </tr>\n",
       "    <tr>\n",
       "      <th>ESTU_LIMITA_MOTRIZ</th>\n",
       "      <td>NaN</td>\n",
       "      <td>NaN</td>\n",
       "      <td>NaN</td>\n",
       "    </tr>\n",
       "    <tr>\n",
       "      <th>ESTU_LIMITA_SORDOINTERPRETE</th>\n",
       "      <td>NaN</td>\n",
       "      <td>NaN</td>\n",
       "      <td>NaN</td>\n",
       "    </tr>\n",
       "    <tr>\n",
       "      <th>ESTU_LIMITA_SORDONOINTERPRETE</th>\n",
       "      <td>NaN</td>\n",
       "      <td>NaN</td>\n",
       "      <td>NaN</td>\n",
       "    </tr>\n",
       "    <tr>\n",
       "      <th>ESTU_ETNIA</th>\n",
       "      <td>NaN</td>\n",
       "      <td>NaN</td>\n",
       "      <td>NaN</td>\n",
       "    </tr>\n",
       "    <tr>\n",
       "      <th>ESTU_COD_RESIDE_MCPIO</th>\n",
       "      <td>5376</td>\n",
       "      <td>17001</td>\n",
       "      <td>17001</td>\n",
       "    </tr>\n",
       "    <tr>\n",
       "      <th>ESTU_RESIDE_MCPIO</th>\n",
       "      <td>LA CEJA</td>\n",
       "      <td>MANIZALES</td>\n",
       "      <td>MANIZALES</td>\n",
       "    </tr>\n",
       "    <tr>\n",
       "      <th>ESTU_RESIDE_DEPTO</th>\n",
       "      <td>ANTIOQUIA</td>\n",
       "      <td>CALDAS</td>\n",
       "      <td>CALDAS</td>\n",
       "    </tr>\n",
       "    <tr>\n",
       "      <th>ESTU_ZONA_RESIDE</th>\n",
       "      <td>10</td>\n",
       "      <td>10</td>\n",
       "      <td>10</td>\n",
       "    </tr>\n",
       "    <tr>\n",
       "      <th>ESTU_AREA_RESIDE</th>\n",
       "      <td>1</td>\n",
       "      <td>1</td>\n",
       "      <td>2</td>\n",
       "    </tr>\n",
       "    <tr>\n",
       "      <th>FAMI_LEE_ESCRIBE_PADRE</th>\n",
       "      <td>1</td>\n",
       "      <td>1</td>\n",
       "      <td>0</td>\n",
       "    </tr>\n",
       "    <tr>\n",
       "      <th>FAMI_LEE_ESCRIBE_MADRE</th>\n",
       "      <td>1</td>\n",
       "      <td>1</td>\n",
       "      <td>1</td>\n",
       "    </tr>\n",
       "    <tr>\n",
       "      <th>FAMI_EDUCA_PADRE</th>\n",
       "      <td>12</td>\n",
       "      <td>11</td>\n",
       "      <td>9</td>\n",
       "    </tr>\n",
       "    <tr>\n",
       "      <th>FAMI_EDUCA_MADRE</th>\n",
       "      <td>14</td>\n",
       "      <td>10</td>\n",
       "      <td>9</td>\n",
       "    </tr>\n",
       "    <tr>\n",
       "      <th>FAMI_OCUPA_PADRE</th>\n",
       "      <td>21</td>\n",
       "      <td>14</td>\n",
       "      <td>26</td>\n",
       "    </tr>\n",
       "    <tr>\n",
       "      <th>FAMI_OCUPA_MADRE</th>\n",
       "      <td>17</td>\n",
       "      <td>22</td>\n",
       "      <td>22</td>\n",
       "    </tr>\n",
       "    <tr>\n",
       "      <th>FAMI_NUM_HERMANOS</th>\n",
       "      <td>1</td>\n",
       "      <td>6</td>\n",
       "      <td>5</td>\n",
       "    </tr>\n",
       "    <tr>\n",
       "      <th>FAMI_EDUCA_HERMANO</th>\n",
       "      <td>8</td>\n",
       "      <td>8</td>\n",
       "      <td>2</td>\n",
       "    </tr>\n",
       "    <tr>\n",
       "      <th>...</th>\n",
       "      <td>...</td>\n",
       "      <td>...</td>\n",
       "      <td>...</td>\n",
       "    </tr>\n",
       "    <tr>\n",
       "      <th>ESTU_VECES_ESTADO</th>\n",
       "      <td>0</td>\n",
       "      <td>0</td>\n",
       "      <td>0</td>\n",
       "    </tr>\n",
       "    <tr>\n",
       "      <th>ESTU_COD_MCPIO_PRESENTACION</th>\n",
       "      <td>5376</td>\n",
       "      <td>17001</td>\n",
       "      <td>17001</td>\n",
       "    </tr>\n",
       "    <tr>\n",
       "      <th>ESTU_MCPIO_PRESENTACION</th>\n",
       "      <td>LA CEJA</td>\n",
       "      <td>MANIZALES</td>\n",
       "      <td>MANIZALES</td>\n",
       "    </tr>\n",
       "    <tr>\n",
       "      <th>ESTU_DEPTO_PRESENTACION</th>\n",
       "      <td>ANTIOQUIA</td>\n",
       "      <td>CALDAS</td>\n",
       "      <td>CALDAS</td>\n",
       "    </tr>\n",
       "    <tr>\n",
       "      <th>ESTU_EXAM_NOMBREEXAMEN</th>\n",
       "      <td>EXAMEN DE ESTADO (ICFES)</td>\n",
       "      <td>EXAMEN DE ESTADO (ICFES)</td>\n",
       "      <td>EXAMEN DE ESTADO (ICFES)</td>\n",
       "    </tr>\n",
       "    <tr>\n",
       "      <th>ESTU_CARRDESEADA_TIPO</th>\n",
       "      <td>NaN</td>\n",
       "      <td>NaN</td>\n",
       "      <td>NaN</td>\n",
       "    </tr>\n",
       "    <tr>\n",
       "      <th>ESTU_CARRDESEADA_NUCLEO</th>\n",
       "      <td>NaN</td>\n",
       "      <td>NaN</td>\n",
       "      <td>NaN</td>\n",
       "    </tr>\n",
       "    <tr>\n",
       "      <th>ESTU_IES_COD_DESEADA</th>\n",
       "      <td>NaN</td>\n",
       "      <td>NaN</td>\n",
       "      <td>NaN</td>\n",
       "    </tr>\n",
       "    <tr>\n",
       "      <th>ESTU_IES_DESEADA_NOMBRE</th>\n",
       "      <td>NaN</td>\n",
       "      <td>NaN</td>\n",
       "      <td>NaN</td>\n",
       "    </tr>\n",
       "    <tr>\n",
       "      <th>ESTU_IES_COD_MPIO_DESEADA</th>\n",
       "      <td>NaN</td>\n",
       "      <td>NaN</td>\n",
       "      <td>NaN</td>\n",
       "    </tr>\n",
       "    <tr>\n",
       "      <th>ESTU_IES_MPIO_DESEADA</th>\n",
       "      <td>NaN</td>\n",
       "      <td>NaN</td>\n",
       "      <td>NaN</td>\n",
       "    </tr>\n",
       "    <tr>\n",
       "      <th>ESTU_IES_DEPT_DESEADA</th>\n",
       "      <td>NaN</td>\n",
       "      <td>NaN</td>\n",
       "      <td>NaN</td>\n",
       "    </tr>\n",
       "    <tr>\n",
       "      <th>ESTU_RAZONINSTITUTO</th>\n",
       "      <td>NaN</td>\n",
       "      <td>NaN</td>\n",
       "      <td>NaN</td>\n",
       "    </tr>\n",
       "    <tr>\n",
       "      <th>ESTU_CARRDESEADA_COD</th>\n",
       "      <td>NaN</td>\n",
       "      <td>NaN</td>\n",
       "      <td>NaN</td>\n",
       "    </tr>\n",
       "    <tr>\n",
       "      <th>ESTU_CARRDESEADA_RAZON</th>\n",
       "      <td>NaN</td>\n",
       "      <td>NaN</td>\n",
       "      <td>NaN</td>\n",
       "    </tr>\n",
       "    <tr>\n",
       "      <th>PUNT_LENGUAJE</th>\n",
       "      <td>42,72</td>\n",
       "      <td>34,68</td>\n",
       "      <td>52,97</td>\n",
       "    </tr>\n",
       "    <tr>\n",
       "      <th>PUNT_MATEMATICAS</th>\n",
       "      <td>49,77</td>\n",
       "      <td>28,43</td>\n",
       "      <td>28,38</td>\n",
       "    </tr>\n",
       "    <tr>\n",
       "      <th>PUNT_C_SOCIALES</th>\n",
       "      <td>60,35</td>\n",
       "      <td>41,43</td>\n",
       "      <td>54,06</td>\n",
       "    </tr>\n",
       "    <tr>\n",
       "      <th>PUNT_FILOSOFIA</th>\n",
       "      <td>51,65</td>\n",
       "      <td>51,25</td>\n",
       "      <td>46,69</td>\n",
       "    </tr>\n",
       "    <tr>\n",
       "      <th>PUNT_BIOLOGIA</th>\n",
       "      <td>55,8</td>\n",
       "      <td>46,34</td>\n",
       "      <td>53,84</td>\n",
       "    </tr>\n",
       "    <tr>\n",
       "      <th>PUNT_QUIMICA</th>\n",
       "      <td>52,59</td>\n",
       "      <td>30,34</td>\n",
       "      <td>57,36</td>\n",
       "    </tr>\n",
       "    <tr>\n",
       "      <th>PUNT_FISICA</th>\n",
       "      <td>52,53</td>\n",
       "      <td>50,09</td>\n",
       "      <td>35,72</td>\n",
       "    </tr>\n",
       "    <tr>\n",
       "      <th>PUNT_INGLES</th>\n",
       "      <td>35,21</td>\n",
       "      <td>42,2</td>\n",
       "      <td>47,21</td>\n",
       "    </tr>\n",
       "    <tr>\n",
       "      <th>DESEMP_INGLES</th>\n",
       "      <td>A-</td>\n",
       "      <td>A1</td>\n",
       "      <td>A1</td>\n",
       "    </tr>\n",
       "    <tr>\n",
       "      <th>NOMBRE_PROFUNDIZACION</th>\n",
       "      <td>PROFUNDIZACIÓN EN LENGUAJE</td>\n",
       "      <td>PROFUNDIZACIÓN EN CIENCIAS SOCIALES</td>\n",
       "      <td>PROFUNDIZACIÓN EN CIENCIAS SOCIALES</td>\n",
       "    </tr>\n",
       "    <tr>\n",
       "      <th>PUNT_PROFUNDIZACION</th>\n",
       "      <td>5,3</td>\n",
       "      <td>3,5</td>\n",
       "      <td>6</td>\n",
       "    </tr>\n",
       "    <tr>\n",
       "      <th>DESEMP_PROFUNDIZACION</th>\n",
       "      <td>I</td>\n",
       "      <td>GB</td>\n",
       "      <td>I</td>\n",
       "    </tr>\n",
       "    <tr>\n",
       "      <th>NOMBRE_INTERDISCIPLINAR</th>\n",
       "      <td>MEDIO AMBIENTE</td>\n",
       "      <td>VIOLENCIA Y SOCIEDAD</td>\n",
       "      <td>VIOLENCIA Y SOCIEDAD</td>\n",
       "    </tr>\n",
       "    <tr>\n",
       "      <th>PUNT_INTERDISCIPLINAR</th>\n",
       "      <td>53,13</td>\n",
       "      <td>36,02</td>\n",
       "      <td>53,66</td>\n",
       "    </tr>\n",
       "    <tr>\n",
       "      <th>ESTU_PUESTO</th>\n",
       "      <td>114</td>\n",
       "      <td>723</td>\n",
       "      <td>229</td>\n",
       "    </tr>\n",
       "  </tbody>\n",
       "</table>\n",
       "<p>91 rows × 3 columns</p>\n",
       "</div>"
      ],
      "text/plain": [
       "                                                        0  \\\n",
       "ESTU_CONSECUTIVO                       SABER1120082000001   \n",
       "PERIODO                                             20082   \n",
       "ESTU_TIPO_DOCUMENTO                                     T   \n",
       "ESTU_PAIS_RESIDE                                       CO   \n",
       "ESTU_GENERO                                             F   \n",
       "ESTU_NACIMIENTO_DIA                                    23   \n",
       "ESTU_NACIMIENTO_MES                                     3   \n",
       "ESTU_NACIMIENTO_ANNO                                 1991   \n",
       "ESTU_EDAD                                              17   \n",
       "ESTU_LIMITA_BAJAVISION                                NaN   \n",
       "ESTU_LIMITA_SORDOCEGUERA                              NaN   \n",
       "ESTU_LIMITA_COGNITIVA                                 NaN   \n",
       "ESTU_LIMITA_INVIDENTE                                 NaN   \n",
       "ESTU_LIMITA_MOTRIZ                                    NaN   \n",
       "ESTU_LIMITA_SORDOINTERPRETE                           NaN   \n",
       "ESTU_LIMITA_SORDONOINTERPRETE                         NaN   \n",
       "ESTU_ETNIA                                            NaN   \n",
       "ESTU_COD_RESIDE_MCPIO                                5376   \n",
       "ESTU_RESIDE_MCPIO                                 LA CEJA   \n",
       "ESTU_RESIDE_DEPTO                               ANTIOQUIA   \n",
       "ESTU_ZONA_RESIDE                                       10   \n",
       "ESTU_AREA_RESIDE                                        1   \n",
       "FAMI_LEE_ESCRIBE_PADRE                                  1   \n",
       "FAMI_LEE_ESCRIBE_MADRE                                  1   \n",
       "FAMI_EDUCA_PADRE                                       12   \n",
       "FAMI_EDUCA_MADRE                                       14   \n",
       "FAMI_OCUPA_PADRE                                       21   \n",
       "FAMI_OCUPA_MADRE                                       17   \n",
       "FAMI_NUM_HERMANOS                                       1   \n",
       "FAMI_EDUCA_HERMANO                                      8   \n",
       "...                                                   ...   \n",
       "ESTU_VECES_ESTADO                                       0   \n",
       "ESTU_COD_MCPIO_PRESENTACION                          5376   \n",
       "ESTU_MCPIO_PRESENTACION                           LA CEJA   \n",
       "ESTU_DEPTO_PRESENTACION                         ANTIOQUIA   \n",
       "ESTU_EXAM_NOMBREEXAMEN           EXAMEN DE ESTADO (ICFES)   \n",
       "ESTU_CARRDESEADA_TIPO                                 NaN   \n",
       "ESTU_CARRDESEADA_NUCLEO                               NaN   \n",
       "ESTU_IES_COD_DESEADA                                  NaN   \n",
       "ESTU_IES_DESEADA_NOMBRE                               NaN   \n",
       "ESTU_IES_COD_MPIO_DESEADA                             NaN   \n",
       "ESTU_IES_MPIO_DESEADA                                 NaN   \n",
       "ESTU_IES_DEPT_DESEADA                                 NaN   \n",
       "ESTU_RAZONINSTITUTO                                   NaN   \n",
       "ESTU_CARRDESEADA_COD                                  NaN   \n",
       "ESTU_CARRDESEADA_RAZON                                NaN   \n",
       "PUNT_LENGUAJE                                       42,72   \n",
       "PUNT_MATEMATICAS                                    49,77   \n",
       "PUNT_C_SOCIALES                                     60,35   \n",
       "PUNT_FILOSOFIA                                      51,65   \n",
       "PUNT_BIOLOGIA                                        55,8   \n",
       "PUNT_QUIMICA                                        52,59   \n",
       "PUNT_FISICA                                         52,53   \n",
       "PUNT_INGLES                                         35,21   \n",
       "DESEMP_INGLES                                          A-   \n",
       "NOMBRE_PROFUNDIZACION          PROFUNDIZACIÓN EN LENGUAJE   \n",
       "PUNT_PROFUNDIZACION                                   5,3   \n",
       "DESEMP_PROFUNDIZACION                                   I   \n",
       "NOMBRE_INTERDISCIPLINAR                    MEDIO AMBIENTE   \n",
       "PUNT_INTERDISCIPLINAR                               53,13   \n",
       "ESTU_PUESTO                                           114   \n",
       "\n",
       "                                                                 1  \\\n",
       "ESTU_CONSECUTIVO                                SABER1120082000002   \n",
       "PERIODO                                                      20082   \n",
       "ESTU_TIPO_DOCUMENTO                                              C   \n",
       "ESTU_PAIS_RESIDE                                                CO   \n",
       "ESTU_GENERO                                                      M   \n",
       "ESTU_NACIMIENTO_DIA                                              1   \n",
       "ESTU_NACIMIENTO_MES                                              6   \n",
       "ESTU_NACIMIENTO_ANNO                                          1986   \n",
       "ESTU_EDAD                                                       22   \n",
       "ESTU_LIMITA_BAJAVISION                                         NaN   \n",
       "ESTU_LIMITA_SORDOCEGUERA                                       NaN   \n",
       "ESTU_LIMITA_COGNITIVA                                          NaN   \n",
       "ESTU_LIMITA_INVIDENTE                                          NaN   \n",
       "ESTU_LIMITA_MOTRIZ                                             NaN   \n",
       "ESTU_LIMITA_SORDOINTERPRETE                                    NaN   \n",
       "ESTU_LIMITA_SORDONOINTERPRETE                                  NaN   \n",
       "ESTU_ETNIA                                                     NaN   \n",
       "ESTU_COD_RESIDE_MCPIO                                        17001   \n",
       "ESTU_RESIDE_MCPIO                                        MANIZALES   \n",
       "ESTU_RESIDE_DEPTO                                           CALDAS   \n",
       "ESTU_ZONA_RESIDE                                                10   \n",
       "ESTU_AREA_RESIDE                                                 1   \n",
       "FAMI_LEE_ESCRIBE_PADRE                                           1   \n",
       "FAMI_LEE_ESCRIBE_MADRE                                           1   \n",
       "FAMI_EDUCA_PADRE                                                11   \n",
       "FAMI_EDUCA_MADRE                                                10   \n",
       "FAMI_OCUPA_PADRE                                                14   \n",
       "FAMI_OCUPA_MADRE                                                22   \n",
       "FAMI_NUM_HERMANOS                                                6   \n",
       "FAMI_EDUCA_HERMANO                                               8   \n",
       "...                                                            ...   \n",
       "ESTU_VECES_ESTADO                                                0   \n",
       "ESTU_COD_MCPIO_PRESENTACION                                  17001   \n",
       "ESTU_MCPIO_PRESENTACION                                  MANIZALES   \n",
       "ESTU_DEPTO_PRESENTACION                                     CALDAS   \n",
       "ESTU_EXAM_NOMBREEXAMEN                    EXAMEN DE ESTADO (ICFES)   \n",
       "ESTU_CARRDESEADA_TIPO                                          NaN   \n",
       "ESTU_CARRDESEADA_NUCLEO                                        NaN   \n",
       "ESTU_IES_COD_DESEADA                                           NaN   \n",
       "ESTU_IES_DESEADA_NOMBRE                                        NaN   \n",
       "ESTU_IES_COD_MPIO_DESEADA                                      NaN   \n",
       "ESTU_IES_MPIO_DESEADA                                          NaN   \n",
       "ESTU_IES_DEPT_DESEADA                                          NaN   \n",
       "ESTU_RAZONINSTITUTO                                            NaN   \n",
       "ESTU_CARRDESEADA_COD                                           NaN   \n",
       "ESTU_CARRDESEADA_RAZON                                         NaN   \n",
       "PUNT_LENGUAJE                                                34,68   \n",
       "PUNT_MATEMATICAS                                             28,43   \n",
       "PUNT_C_SOCIALES                                              41,43   \n",
       "PUNT_FILOSOFIA                                               51,25   \n",
       "PUNT_BIOLOGIA                                                46,34   \n",
       "PUNT_QUIMICA                                                 30,34   \n",
       "PUNT_FISICA                                                  50,09   \n",
       "PUNT_INGLES                                                   42,2   \n",
       "DESEMP_INGLES                                                   A1   \n",
       "NOMBRE_PROFUNDIZACION          PROFUNDIZACIÓN EN CIENCIAS SOCIALES   \n",
       "PUNT_PROFUNDIZACION                                            3,5   \n",
       "DESEMP_PROFUNDIZACION                                           GB   \n",
       "NOMBRE_INTERDISCIPLINAR                       VIOLENCIA Y SOCIEDAD   \n",
       "PUNT_INTERDISCIPLINAR                                        36,02   \n",
       "ESTU_PUESTO                                                    723   \n",
       "\n",
       "                                                                 2  \n",
       "ESTU_CONSECUTIVO                                SABER1120082000003  \n",
       "PERIODO                                                      20082  \n",
       "ESTU_TIPO_DOCUMENTO                                              C  \n",
       "ESTU_PAIS_RESIDE                                                CO  \n",
       "ESTU_GENERO                                                      M  \n",
       "ESTU_NACIMIENTO_DIA                                              4  \n",
       "ESTU_NACIMIENTO_MES                                             12  \n",
       "ESTU_NACIMIENTO_ANNO                                          1989  \n",
       "ESTU_EDAD                                                       18  \n",
       "ESTU_LIMITA_BAJAVISION                                         NaN  \n",
       "ESTU_LIMITA_SORDOCEGUERA                                       NaN  \n",
       "ESTU_LIMITA_COGNITIVA                                          NaN  \n",
       "ESTU_LIMITA_INVIDENTE                                          NaN  \n",
       "ESTU_LIMITA_MOTRIZ                                             NaN  \n",
       "ESTU_LIMITA_SORDOINTERPRETE                                    NaN  \n",
       "ESTU_LIMITA_SORDONOINTERPRETE                                  NaN  \n",
       "ESTU_ETNIA                                                     NaN  \n",
       "ESTU_COD_RESIDE_MCPIO                                        17001  \n",
       "ESTU_RESIDE_MCPIO                                        MANIZALES  \n",
       "ESTU_RESIDE_DEPTO                                           CALDAS  \n",
       "ESTU_ZONA_RESIDE                                                10  \n",
       "ESTU_AREA_RESIDE                                                 2  \n",
       "FAMI_LEE_ESCRIBE_PADRE                                           0  \n",
       "FAMI_LEE_ESCRIBE_MADRE                                           1  \n",
       "FAMI_EDUCA_PADRE                                                 9  \n",
       "FAMI_EDUCA_MADRE                                                 9  \n",
       "FAMI_OCUPA_PADRE                                                26  \n",
       "FAMI_OCUPA_MADRE                                                22  \n",
       "FAMI_NUM_HERMANOS                                                5  \n",
       "FAMI_EDUCA_HERMANO                                               2  \n",
       "...                                                            ...  \n",
       "ESTU_VECES_ESTADO                                                0  \n",
       "ESTU_COD_MCPIO_PRESENTACION                                  17001  \n",
       "ESTU_MCPIO_PRESENTACION                                  MANIZALES  \n",
       "ESTU_DEPTO_PRESENTACION                                     CALDAS  \n",
       "ESTU_EXAM_NOMBREEXAMEN                    EXAMEN DE ESTADO (ICFES)  \n",
       "ESTU_CARRDESEADA_TIPO                                          NaN  \n",
       "ESTU_CARRDESEADA_NUCLEO                                        NaN  \n",
       "ESTU_IES_COD_DESEADA                                           NaN  \n",
       "ESTU_IES_DESEADA_NOMBRE                                        NaN  \n",
       "ESTU_IES_COD_MPIO_DESEADA                                      NaN  \n",
       "ESTU_IES_MPIO_DESEADA                                          NaN  \n",
       "ESTU_IES_DEPT_DESEADA                                          NaN  \n",
       "ESTU_RAZONINSTITUTO                                            NaN  \n",
       "ESTU_CARRDESEADA_COD                                           NaN  \n",
       "ESTU_CARRDESEADA_RAZON                                         NaN  \n",
       "PUNT_LENGUAJE                                                52,97  \n",
       "PUNT_MATEMATICAS                                             28,38  \n",
       "PUNT_C_SOCIALES                                              54,06  \n",
       "PUNT_FILOSOFIA                                               46,69  \n",
       "PUNT_BIOLOGIA                                                53,84  \n",
       "PUNT_QUIMICA                                                 57,36  \n",
       "PUNT_FISICA                                                  35,72  \n",
       "PUNT_INGLES                                                  47,21  \n",
       "DESEMP_INGLES                                                   A1  \n",
       "NOMBRE_PROFUNDIZACION          PROFUNDIZACIÓN EN CIENCIAS SOCIALES  \n",
       "PUNT_PROFUNDIZACION                                              6  \n",
       "DESEMP_PROFUNDIZACION                                            I  \n",
       "NOMBRE_INTERDISCIPLINAR                       VIOLENCIA Y SOCIEDAD  \n",
       "PUNT_INTERDISCIPLINAR                                        53,66  \n",
       "ESTU_PUESTO                                                    229  \n",
       "\n",
       "[91 rows x 3 columns]"
      ]
     },
     "execution_count": 4,
     "metadata": {},
     "output_type": "execute_result"
    }
   ],
   "source": [
    "data_2008_2.head(3).T"
   ]
  },
  {
   "cell_type": "code",
   "execution_count": 5,
   "metadata": {
    "collapsed": true
   },
   "outputs": [],
   "source": [
    "data_2008_2 = data_2008_2.drop(['ESTU_CONSECUTIVO', 'PERIODO', 'ESTU_TIPO_DOCUMENTO', 'ESTU_COD_RESIDE_MCPIO',\n",
    "                               'ESTU_COD_MCPIO_PRESENTACION', 'ESTU_EXAM_NOMBREEXAMEN', 'ESTU_IES_DESEADA_NOMBRE'], axis=1)"
   ]
  },
  {
   "cell_type": "code",
   "execution_count": 6,
   "metadata": {
    "collapsed": false,
    "scrolled": true
   },
   "outputs": [
    {
     "name": "stdout",
     "output_type": "stream",
     "text": [
      "Index(['AR', 'BO', 'BR', 'CL', 'CN', 'CO', 'CU', 'DE', 'EC', 'FR', 'GT', 'HN',\n",
      "       'IL', 'IR', 'JP', 'KM', 'MX', 'PA', 'PE', 'RU', 'US', 'VE'],\n",
      "      dtype='object')\n",
      "AR         1\n",
      "BO         1\n",
      "BR         1\n",
      "CL         1\n",
      "CN         2\n",
      "CO    437233\n",
      "CU         4\n",
      "DE         1\n",
      "EC         3\n",
      "FR         1\n",
      "GT         1\n",
      "HN         1\n",
      "IL         1\n",
      "IR         1\n",
      "JP         1\n",
      "KM         1\n",
      "MX         2\n",
      "PA         1\n",
      "PE         6\n",
      "RU         1\n",
      "US        11\n",
      "VE        14\n",
      "Name: ESTU_PAIS_RESIDE, dtype: int64\n",
      "Elementos null/NaN 243\n",
      "__________________\n",
      "Elementos diferentes de null/NaN: 437289\n",
      "__________________\n",
      "(437289,)\n",
      "None\n"
     ]
    }
   ],
   "source": [
    "c = 'ESTU_PAIS_RESIDE'\n",
    "print(data_2008_2[c].value_counts().sort_index().index)\n",
    "print(data_2008_2[c].value_counts().sort_index())\n",
    "print(missing_data(data_2008_2[c]))"
   ]
  },
  {
   "cell_type": "code",
   "execution_count": 7,
   "metadata": {
    "collapsed": false
   },
   "outputs": [
    {
     "name": "stdout",
     "output_type": "stream",
     "text": [
      "cant null antes: 243\n",
      "cant null despues: 0\n"
     ]
    }
   ],
   "source": [
    "Do_resamples(data_2008_2, c, str)"
   ]
  },
  {
   "cell_type": "code",
   "execution_count": 8,
   "metadata": {
    "collapsed": false
   },
   "outputs": [
    {
     "name": "stdout",
     "output_type": "stream",
     "text": [
      "Index(['F', 'M'], dtype='object')\n",
      "F    237817\n",
      "M    199530\n",
      "Name: ESTU_GENERO, dtype: int64\n",
      "Elementos null/NaN 185\n",
      "__________________\n",
      "Elementos diferentes de null/NaN: 437347\n",
      "__________________\n",
      "(437347,)\n",
      "None\n"
     ]
    }
   ],
   "source": [
    "c = 'ESTU_GENERO'\n",
    "print(data_2008_2[c].value_counts().sort_index().index)\n",
    "print(data_2008_2[c].value_counts().sort_index())\n",
    "print(missing_data(data_2008_2[c]))"
   ]
  },
  {
   "cell_type": "code",
   "execution_count": 9,
   "metadata": {
    "collapsed": false
   },
   "outputs": [
    {
     "name": "stdout",
     "output_type": "stream",
     "text": [
      "cant null antes: 185\n",
      "cant null despues: 0\n"
     ]
    }
   ],
   "source": [
    "Do_resamples(data_2008_2, c, str)"
   ]
  },
  {
   "cell_type": "code",
   "execution_count": 10,
   "metadata": {
    "collapsed": false,
    "scrolled": true
   },
   "outputs": [
    {
     "name": "stdout",
     "output_type": "stream",
     "text": [
      "Float64Index([ 1.0,  2.0,  3.0,  4.0,  5.0,  6.0,  7.0,  8.0,  9.0, 10.0, 11.0,\n",
      "              12.0, 13.0, 14.0, 15.0, 16.0, 17.0, 18.0, 19.0, 20.0, 21.0, 22.0,\n",
      "              23.0, 24.0, 25.0, 26.0, 27.0, 28.0, 29.0, 30.0, 31.0],\n",
      "             dtype='float64')\n",
      "1     14642\n",
      "2     14319\n",
      "3     14368\n",
      "4     14345\n",
      "5     14515\n",
      "6     14345\n",
      "7     14286\n",
      "8     14347\n",
      "9     14279\n",
      "10    14762\n",
      "11    14304\n",
      "12    14612\n",
      "13    14049\n",
      "14    14457\n",
      "15    14637\n",
      "16    14318\n",
      "17    14355\n",
      "18    14444\n",
      "19    14434\n",
      "20    14797\n",
      "21    14269\n",
      "22    14185\n",
      "23    14405\n",
      "24    14417\n",
      "25    14278\n",
      "26    14268\n",
      "27    14285\n",
      "28    14417\n",
      "29    13356\n",
      "30    12877\n",
      "31     7936\n",
      "Name: ESTU_NACIMIENTO_DIA, dtype: int64\n",
      "Elementos null/NaN 224\n",
      "__________________\n",
      "Elementos diferentes de null/NaN: 437308\n",
      "__________________\n",
      "(437308,)\n",
      "None\n"
     ]
    }
   ],
   "source": [
    "c = 'ESTU_NACIMIENTO_DIA'\n",
    "print(data_2008_2[c].value_counts().sort_index().index)\n",
    "print(data_2008_2[c].value_counts().sort_index())\n",
    "print(missing_data(data_2008_2[c]))"
   ]
  },
  {
   "cell_type": "code",
   "execution_count": 11,
   "metadata": {
    "collapsed": false
   },
   "outputs": [
    {
     "name": "stdout",
     "output_type": "stream",
     "text": [
      "Float64Index([1.0, 2.0, 3.0, 4.0, 5.0, 6.0, 7.0, 8.0, 9.0, 10.0, 11.0, 12.0], dtype='float64')\n",
      "1     35571\n",
      "2     32434\n",
      "3     35367\n",
      "4     34654\n",
      "5     35710\n",
      "6     34499\n",
      "7     36132\n",
      "8     37186\n",
      "9     38683\n",
      "10    38463\n",
      "11    36286\n",
      "12    42323\n",
      "Name: ESTU_NACIMIENTO_MES, dtype: int64\n",
      "Elementos null/NaN 224\n",
      "__________________\n",
      "Elementos diferentes de null/NaN: 437308\n",
      "__________________\n",
      "(437308,)\n",
      "None\n"
     ]
    }
   ],
   "source": [
    "c = 'ESTU_NACIMIENTO_MES'\n",
    "print(data_2008_2[c].value_counts().sort_index().index)\n",
    "print(data_2008_2[c].value_counts().sort_index())\n",
    "print(missing_data(data_2008_2[c]))"
   ]
  },
  {
   "cell_type": "code",
   "execution_count": 12,
   "metadata": {
    "collapsed": false,
    "scrolled": true
   },
   "outputs": [
    {
     "name": "stdout",
     "output_type": "stream",
     "text": [
      "Float64Index([1924.0, 1930.0, 1933.0, 1934.0, 1935.0, 1937.0, 1938.0, 1939.0,\n",
      "              1940.0, 1941.0, 1942.0, 1943.0, 1944.0, 1945.0, 1946.0, 1947.0,\n",
      "              1948.0, 1949.0, 1950.0, 1951.0, 1952.0, 1953.0, 1954.0, 1955.0,\n",
      "              1956.0, 1957.0, 1958.0, 1959.0, 1960.0, 1961.0, 1962.0, 1963.0,\n",
      "              1964.0, 1965.0, 1966.0, 1967.0, 1968.0, 1969.0, 1970.0, 1971.0,\n",
      "              1972.0, 1973.0, 1974.0, 1975.0, 1976.0, 1977.0, 1978.0, 1979.0,\n",
      "              1980.0, 1981.0, 1982.0, 1983.0, 1984.0, 1985.0, 1986.0, 1987.0,\n",
      "              1988.0, 1989.0, 1990.0, 1991.0, 1992.0, 1993.0, 1994.0, 1995.0,\n",
      "              1996.0, 1998.0, 1999.0, 2000.0, 2001.0, 2002.0, 2009.0],\n",
      "             dtype='float64')\n",
      "1924         2\n",
      "1930         2\n",
      "1933         1\n",
      "1934         2\n",
      "1935         3\n",
      "1937         2\n",
      "1938         4\n",
      "1939         2\n",
      "1940         4\n",
      "1941         2\n",
      "1942         4\n",
      "1943         9\n",
      "1944        12\n",
      "1945        15\n",
      "1946         6\n",
      "1947        12\n",
      "1948        25\n",
      "1949        19\n",
      "1950        24\n",
      "1951        34\n",
      "1952        34\n",
      "1953        57\n",
      "1954        56\n",
      "1955        59\n",
      "1956        82\n",
      "1957        76\n",
      "1958       125\n",
      "1959       132\n",
      "1960       148\n",
      "1961       183\n",
      "         ...  \n",
      "1973       626\n",
      "1974       657\n",
      "1975       700\n",
      "1976       721\n",
      "1977       810\n",
      "1978       840\n",
      "1979      1032\n",
      "1980      1185\n",
      "1981      1320\n",
      "1982      1527\n",
      "1983      1606\n",
      "1984      2023\n",
      "1985      2690\n",
      "1986      3920\n",
      "1987      6742\n",
      "1988     15256\n",
      "1989     36280\n",
      "1990     79021\n",
      "1991    162136\n",
      "1992    104010\n",
      "1993      8370\n",
      "1994       369\n",
      "1995        95\n",
      "1996         2\n",
      "1998        13\n",
      "1999         2\n",
      "2000        19\n",
      "2001         4\n",
      "2002        14\n",
      "2009         1\n",
      "Name: ESTU_NACIMIENTO_ANNO, dtype: int64\n",
      "Elementos null/NaN 224\n",
      "__________________\n",
      "Elementos diferentes de null/NaN: 437308\n",
      "__________________\n",
      "(437308,)\n",
      "None\n"
     ]
    }
   ],
   "source": [
    "c = 'ESTU_NACIMIENTO_ANNO'\n",
    "print(data_2008_2[c].value_counts().sort_index().index)\n",
    "print(data_2008_2[c].value_counts().sort_index())\n",
    "print(missing_data(data_2008_2[c]))"
   ]
  },
  {
   "cell_type": "code",
   "execution_count": 13,
   "metadata": {
    "collapsed": false
   },
   "outputs": [],
   "source": [
    "for i in data_2008_2[c].value_counts().sort_index().index:\n",
    "    if i < 1930:\n",
    "        data_2008_2[c] = data_2008_2[c].replace(i, np.nan)\n",
    "    elif i > 1996:\n",
    "        data_2008_2[c] = data_2008_2[c].replace(i, np.nan)"
   ]
  },
  {
   "cell_type": "code",
   "execution_count": 14,
   "metadata": {
    "collapsed": true
   },
   "outputs": [],
   "source": [
    "anno = data_2008_2[data_2008_2[c].isnull()].index\n",
    "data_2008_2 = data_2008_2.drop(anno)"
   ]
  },
  {
   "cell_type": "code",
   "execution_count": 18,
   "metadata": {
    "collapsed": false,
    "scrolled": true
   },
   "outputs": [
    {
     "name": "stdout",
     "output_type": "stream",
     "text": [
      "Float64Index([12.0, 13.0, 14.0, 15.0, 16.0, 17.0, 18.0, 19.0, 20.0, 21.0, 22.0,\n",
      "              23.0, 24.0, 25.0, 26.0, 27.0, 28.0, 29.0, 30.0, 31.0, 32.0, 33.0,\n",
      "              34.0, 35.0, 36.0, 37.0, 38.0, 39.0, 40.0, 41.0, 42.0, 43.0, 44.0,\n",
      "              45.0, 46.0, 47.0, 48.0, 49.0, 50.0, 51.0, 52.0, 53.0, 54.0, 55.0,\n",
      "              56.0, 57.0, 58.0, 59.0, 60.0, 61.0, 62.0, 63.0, 64.0, 65.0, 66.0,\n",
      "              67.0, 68.0, 69.0, 70.0, 72.0, 73.0, 74.0, 75.0, 78.0],\n",
      "             dtype='float64')\n",
      "12        26\n",
      "13       127\n",
      "14      1333\n",
      "15     28682\n",
      "16    163187\n",
      "17    121084\n",
      "18     57828\n",
      "19     25596\n",
      "20     10732\n",
      "21      5416\n",
      "22      3282\n",
      "23      2417\n",
      "24      1859\n",
      "25      1522\n",
      "26      1484\n",
      "27      1240\n",
      "28      1145\n",
      "29       948\n",
      "30       831\n",
      "31       799\n",
      "32       707\n",
      "33       681\n",
      "34       627\n",
      "35       620\n",
      "36       529\n",
      "37       501\n",
      "38       510\n",
      "39       460\n",
      "40       406\n",
      "41       358\n",
      "       ...  \n",
      "46       182\n",
      "47       173\n",
      "48       149\n",
      "49       126\n",
      "50       102\n",
      "51        82\n",
      "52        71\n",
      "53        56\n",
      "54        57\n",
      "55        52\n",
      "56        29\n",
      "57        30\n",
      "58        23\n",
      "59        19\n",
      "60        24\n",
      "61         6\n",
      "62        11\n",
      "63         9\n",
      "64        12\n",
      "65         8\n",
      "66         4\n",
      "67         2\n",
      "68         3\n",
      "69         4\n",
      "70         2\n",
      "72         1\n",
      "73         2\n",
      "74         2\n",
      "75         1\n",
      "78         2\n",
      "Name: ESTU_EDAD, dtype: int64\n",
      "Elementos null/NaN 2\n",
      "__________________\n",
      "Elementos diferentes de null/NaN: 437251\n",
      "__________________\n",
      "(437251,)\n",
      "None\n"
     ]
    }
   ],
   "source": [
    "c = 'ESTU_EDAD'\n",
    "print(data_2008_2[c].value_counts().sort_index().index)\n",
    "print(data_2008_2[c].value_counts().sort_index())\n",
    "print(missing_data(data_2008_2[c]))"
   ]
  },
  {
   "cell_type": "code",
   "execution_count": 19,
   "metadata": {
    "collapsed": false
   },
   "outputs": [
    {
     "name": "stdout",
     "output_type": "stream",
     "text": [
      "cant null antes: 2\n",
      "cant null despues: 0\n"
     ]
    }
   ],
   "source": [
    "Do_resamples(data_2008_2, c, float)"
   ]
  },
  {
   "cell_type": "code",
   "execution_count": 20,
   "metadata": {
    "collapsed": false,
    "scrolled": true
   },
   "outputs": [
    {
     "name": "stdout",
     "output_type": "stream",
     "text": [
      "Float64Index([], dtype='float64')\n",
      "Series([], Name: ESTU_LIMITA_BAJAVISION, dtype: int64)\n",
      "Elementos null/NaN 437253\n",
      "__________________\n",
      "Elementos diferentes de null/NaN: 0\n",
      "__________________\n",
      "(0,)\n",
      "None\n"
     ]
    }
   ],
   "source": [
    "c = 'ESTU_LIMITA_BAJAVISION'\n",
    "print(data_2008_2[c].value_counts().sort_index().index)\n",
    "print(data_2008_2[c].value_counts().sort_index())\n",
    "print(missing_data(data_2008_2[c]))"
   ]
  },
  {
   "cell_type": "code",
   "execution_count": 21,
   "metadata": {
    "collapsed": true
   },
   "outputs": [],
   "source": [
    "data_2008_2 = data_2008_2.drop([c], axis=1)"
   ]
  },
  {
   "cell_type": "code",
   "execution_count": 22,
   "metadata": {
    "collapsed": false
   },
   "outputs": [
    {
     "name": "stdout",
     "output_type": "stream",
     "text": [
      "Float64Index([], dtype='float64')\n",
      "Series([], Name: ESTU_LIMITA_SORDOCEGUERA, dtype: int64)\n",
      "Elementos null/NaN 437253\n",
      "__________________\n",
      "Elementos diferentes de null/NaN: 0\n",
      "__________________\n",
      "(0,)\n",
      "None\n"
     ]
    }
   ],
   "source": [
    "c = 'ESTU_LIMITA_SORDOCEGUERA'\n",
    "print(data_2008_2[c].value_counts().sort_index().index)\n",
    "print(data_2008_2[c].value_counts().sort_index())\n",
    "print(missing_data(data_2008_2[c]))"
   ]
  },
  {
   "cell_type": "code",
   "execution_count": 23,
   "metadata": {
    "collapsed": true
   },
   "outputs": [],
   "source": [
    "data_2008_2 = data_2008_2.drop([c], axis=1)"
   ]
  },
  {
   "cell_type": "code",
   "execution_count": 24,
   "metadata": {
    "collapsed": false
   },
   "outputs": [
    {
     "name": "stdout",
     "output_type": "stream",
     "text": [
      "Float64Index([], dtype='float64')\n",
      "Series([], Name: ESTU_LIMITA_COGNITIVA, dtype: int64)\n",
      "Elementos null/NaN 437253\n",
      "__________________\n",
      "Elementos diferentes de null/NaN: 0\n",
      "__________________\n",
      "(0,)\n",
      "None\n"
     ]
    }
   ],
   "source": [
    "c = 'ESTU_LIMITA_COGNITIVA'\n",
    "print(data_2008_2[c].value_counts().sort_index().index)\n",
    "print(data_2008_2[c].value_counts().sort_index())\n",
    "print(missing_data(data_2008_2[c]))"
   ]
  },
  {
   "cell_type": "code",
   "execution_count": 25,
   "metadata": {
    "collapsed": true
   },
   "outputs": [],
   "source": [
    "data_2008_2 = data_2008_2.drop([c], axis=1)"
   ]
  },
  {
   "cell_type": "code",
   "execution_count": 26,
   "metadata": {
    "collapsed": false
   },
   "outputs": [
    {
     "name": "stdout",
     "output_type": "stream",
     "text": [
      "Float64Index([], dtype='float64')\n",
      "Series([], Name: ESTU_LIMITA_INVIDENTE, dtype: int64)\n",
      "Elementos null/NaN 437253\n",
      "__________________\n",
      "Elementos diferentes de null/NaN: 0\n",
      "__________________\n",
      "(0,)\n",
      "None\n"
     ]
    }
   ],
   "source": [
    "c = 'ESTU_LIMITA_INVIDENTE'\n",
    "print(data_2008_2[c].value_counts().sort_index().index)\n",
    "print(data_2008_2[c].value_counts().sort_index())\n",
    "print(missing_data(data_2008_2[c]))"
   ]
  },
  {
   "cell_type": "code",
   "execution_count": 27,
   "metadata": {
    "collapsed": true
   },
   "outputs": [],
   "source": [
    "data_2008_2 = data_2008_2.drop([c], axis=1)"
   ]
  },
  {
   "cell_type": "code",
   "execution_count": 28,
   "metadata": {
    "collapsed": false
   },
   "outputs": [
    {
     "name": "stdout",
     "output_type": "stream",
     "text": [
      "Float64Index([], dtype='float64')\n",
      "Series([], Name: ESTU_LIMITA_MOTRIZ, dtype: int64)\n",
      "Elementos null/NaN 437253\n",
      "__________________\n",
      "Elementos diferentes de null/NaN: 0\n",
      "__________________\n",
      "(0,)\n",
      "None\n"
     ]
    }
   ],
   "source": [
    "c = 'ESTU_LIMITA_MOTRIZ'\n",
    "print(data_2008_2[c].value_counts().sort_index().index)\n",
    "print(data_2008_2[c].value_counts().sort_index())\n",
    "print(missing_data(data_2008_2[c]))"
   ]
  },
  {
   "cell_type": "code",
   "execution_count": 29,
   "metadata": {
    "collapsed": true
   },
   "outputs": [],
   "source": [
    "data_2008_2 = data_2008_2.drop([c], axis=1)"
   ]
  },
  {
   "cell_type": "code",
   "execution_count": 30,
   "metadata": {
    "collapsed": false
   },
   "outputs": [
    {
     "name": "stdout",
     "output_type": "stream",
     "text": [
      "Float64Index([], dtype='float64')\n",
      "Series([], Name: ESTU_LIMITA_SORDOINTERPRETE, dtype: int64)\n",
      "Elementos null/NaN 437253\n",
      "__________________\n",
      "Elementos diferentes de null/NaN: 0\n",
      "__________________\n",
      "(0,)\n",
      "None\n"
     ]
    }
   ],
   "source": [
    "c = 'ESTU_LIMITA_SORDOINTERPRETE'\n",
    "print(data_2008_2[c].value_counts().sort_index().index)\n",
    "print(data_2008_2[c].value_counts().sort_index())\n",
    "print(missing_data(data_2008_2[c]))"
   ]
  },
  {
   "cell_type": "code",
   "execution_count": 31,
   "metadata": {
    "collapsed": true
   },
   "outputs": [],
   "source": [
    "data_2008_2 = data_2008_2.drop([c], axis=1)"
   ]
  },
  {
   "cell_type": "code",
   "execution_count": 32,
   "metadata": {
    "collapsed": false
   },
   "outputs": [
    {
     "name": "stdout",
     "output_type": "stream",
     "text": [
      "Float64Index([], dtype='float64')\n",
      "Series([], Name: ESTU_LIMITA_SORDONOINTERPRETE, dtype: int64)\n",
      "Elementos null/NaN 437253\n",
      "__________________\n",
      "Elementos diferentes de null/NaN: 0\n",
      "__________________\n",
      "(0,)\n",
      "None\n"
     ]
    }
   ],
   "source": [
    "c = 'ESTU_LIMITA_SORDONOINTERPRETE'\n",
    "print(data_2008_2[c].value_counts().sort_index().index)\n",
    "print(data_2008_2[c].value_counts().sort_index())\n",
    "print(missing_data(data_2008_2[c]))"
   ]
  },
  {
   "cell_type": "code",
   "execution_count": 33,
   "metadata": {
    "collapsed": true
   },
   "outputs": [],
   "source": [
    "data_2008_2 = data_2008_2.drop([c], axis=1)"
   ]
  },
  {
   "cell_type": "code",
   "execution_count": 34,
   "metadata": {
    "collapsed": false,
    "scrolled": true
   },
   "outputs": [
    {
     "name": "stdout",
     "output_type": "stream",
     "text": [
      "Float64Index([ 1.0,  2.0,  3.0,  4.0,  5.0,  6.0,  7.0,  8.0,  9.0, 10.0, 11.0,\n",
      "              12.0, 13.0, 14.0, 15.0, 16.0, 17.0, 99.0],\n",
      "             dtype='float64')\n",
      "1     11360\n",
      "2       602\n",
      "3      1012\n",
      "4       201\n",
      "5        85\n",
      "6       545\n",
      "7       151\n",
      "8       408\n",
      "9       926\n",
      "10     2103\n",
      "11       83\n",
      "12      154\n",
      "13       78\n",
      "14       34\n",
      "15       84\n",
      "16       71\n",
      "17        4\n",
      "99     7747\n",
      "Name: ESTU_ETNIA, dtype: int64\n",
      "Elementos null/NaN 411605\n",
      "__________________\n",
      "Elementos diferentes de null/NaN: 25648\n",
      "__________________\n",
      "(25648,)\n",
      "None\n"
     ]
    }
   ],
   "source": [
    "c = 'ESTU_ETNIA'\n",
    "print(data_2008_2[c].value_counts().sort_index().index)\n",
    "print(data_2008_2[c].value_counts().sort_index())\n",
    "print(missing_data(data_2008_2[c]))"
   ]
  },
  {
   "cell_type": "code",
   "execution_count": 35,
   "metadata": {
    "collapsed": true
   },
   "outputs": [],
   "source": [
    "data_2008_2[c].fillna(99, inplace=True)"
   ]
  },
  {
   "cell_type": "code",
   "execution_count": 36,
   "metadata": {
    "collapsed": false,
    "scrolled": true
   },
   "outputs": [
    {
     "name": "stdout",
     "output_type": "stream",
     "text": [
      "Index(['ABEJORRAL', 'ABREGO', 'ABRIAQUI', 'ACACIAS', 'ACANDI', 'ACEVEDO',\n",
      "       'ACHI', 'AGRADO', 'AGUA DE DIOS', 'AGUACHICA',\n",
      "       ...\n",
      "       'YOTOCO', 'YUMBO', 'ZAMBRANO', 'ZAPATOCA', 'ZAPAYAN', 'ZARAGOZA',\n",
      "       'ZETAQUIRA', 'ZIPACON', 'ZIPAQUIRA', 'ZONA BANANERA'],\n",
      "      dtype='object', length=978)\n",
      "ABEJORRAL                    167\n",
      "ABREGO                        90\n",
      "ABRIAQUI                      33\n",
      "ACACIAS                      883\n",
      "ACANDI                        69\n",
      "ACEVEDO                      128\n",
      "ACHI                         137\n",
      "AGRADO                        86\n",
      "AGUA DE DIOS                 174\n",
      "AGUACHICA                    805\n",
      "AGUADA                        17\n",
      "AGUADAS                      253\n",
      "AGUAZUL                      466\n",
      "AGUSTIN CODAZZI              547\n",
      "AIPE                         167\n",
      "ALBAN                         69\n",
      "ALBANIA                      265\n",
      "ALCALA                         2\n",
      "ALEJANDRIA                    54\n",
      "ALGARROBO                    125\n",
      "ALGECIRAS                    147\n",
      "ALMAGUER                      68\n",
      "ALMEIDA                       28\n",
      "ALPUJARRA                     54\n",
      "ALTAMIRA                      42\n",
      "ALTO BAUDO (PIE DE PATO)      31\n",
      "ALTOS DEL ROSARIO             74\n",
      "ALVARADO                      59\n",
      "AMAGA                        323\n",
      "AMALFI                       233\n",
      "                            ... \n",
      "VILLAHERMOSA                  79\n",
      "VILLAMARIA                   496\n",
      "VILLANUEVA                   829\n",
      "VILLAPINZON                  238\n",
      "VILLARRICA                    66\n",
      "VILLAVICENCIO               4946\n",
      "VILLAVIEJA                    61\n",
      "VILLETA                      355\n",
      "VIOTA                        149\n",
      "VIRACACHA                     31\n",
      "VISTA HERMOSA                112\n",
      "VITERBO                      188\n",
      "YACOPI                       173\n",
      "YAGUARA                      146\n",
      "YALI                          79\n",
      "YARUMAL                      481\n",
      "YAVARATE                      13\n",
      "YOLOMBO                      215\n",
      "YONDO (CASABE)                97\n",
      "YOPAL                       1693\n",
      "YOTOCO                         1\n",
      "YUMBO                        137\n",
      "ZAMBRANO                      79\n",
      "ZAPATOCA                     149\n",
      "ZAPAYAN                       30\n",
      "ZARAGOZA                     209\n",
      "ZETAQUIRA                    107\n",
      "ZIPACON                       63\n",
      "ZIPAQUIRA                   1319\n",
      "ZONA BANANERA                621\n",
      "Name: ESTU_RESIDE_MCPIO, dtype: int64\n",
      "Elementos null/NaN 2\n",
      "__________________\n",
      "Elementos diferentes de null/NaN: 437251\n",
      "__________________\n",
      "(437251,)\n",
      "None\n"
     ]
    }
   ],
   "source": [
    "c = 'ESTU_RESIDE_MCPIO'\n",
    "print(data_2008_2[c].value_counts().sort_index().index)\n",
    "print(data_2008_2[c].value_counts().sort_index())\n",
    "print(missing_data(data_2008_2[c]))"
   ]
  },
  {
   "cell_type": "code",
   "execution_count": 37,
   "metadata": {
    "collapsed": true
   },
   "outputs": [],
   "source": [
    "data_2008_2[c].fillna(method='bfill', inplace=True)\n",
    "data_2008_2[c].fillna(method='ffill', inplace=True)"
   ]
  },
  {
   "cell_type": "code",
   "execution_count": 38,
   "metadata": {
    "collapsed": false,
    "scrolled": true
   },
   "outputs": [
    {
     "name": "stdout",
     "output_type": "stream",
     "text": [
      "Index(['AMAZONAS', 'ANTIOQUIA', 'ARAUCA', 'ATLÁNTICO', 'BOGOTÁ', 'BOLÍVAR',\n",
      "       'BOYACÁ', 'CALDAS', 'CAQUETÁ', 'CASANARE', 'CAUCA', 'CESAR', 'CHOCÓ',\n",
      "       'CUNDINAMARCA', 'CÓRDOBA', 'GUAINÍA', 'GUAVIARE', 'HUILA', 'LA GUAJIRA',\n",
      "       'MAGDALENA', 'META', 'NARIÑO', 'NORTE SANTANDER', 'PUTUMAYO', 'QUINDÍO',\n",
      "       'RISARALDA', 'SAN ANDRÉS', 'SANTANDER', 'SUCRE', 'TOLIMA', 'VALLE',\n",
      "       'VAUPÉS', 'VICHADA'],\n",
      "      dtype='object')\n",
      "AMAZONAS             703\n",
      "ANTIOQUIA          66373\n",
      "ARAUCA              2472\n",
      "ATLÁNTICO          27064\n",
      "BOGOTÁ             90229\n",
      "BOLÍVAR            22444\n",
      "BOYACÁ             15807\n",
      "CALDAS             10651\n",
      "CAQUETÁ             3194\n",
      "CASANARE            3922\n",
      "CAUCA               9515\n",
      "CESAR              10060\n",
      "CHOCÓ               3671\n",
      "CUNDINAMARCA       30905\n",
      "CÓRDOBA            15654\n",
      "GUAINÍA              146\n",
      "GUAVIARE             591\n",
      "HUILA               9758\n",
      "LA GUAJIRA          6112\n",
      "MAGDALENA          12934\n",
      "META                8852\n",
      "NARIÑO              1860\n",
      "NORTE SANTANDER    14761\n",
      "PUTUMAYO            2223\n",
      "QUINDÍO             6067\n",
      "RISARALDA           9753\n",
      "SAN ANDRÉS           751\n",
      "SANTANDER          23075\n",
      "SUCRE              10203\n",
      "TOLIMA             15037\n",
      "VALLE               1832\n",
      "VAUPÉS               199\n",
      "VICHADA              430\n",
      "Name: ESTU_RESIDE_DEPTO, dtype: int64\n",
      "Elementos null/NaN 5\n",
      "__________________\n",
      "Elementos diferentes de null/NaN: 437248\n",
      "__________________\n",
      "(437248,)\n",
      "None\n"
     ]
    }
   ],
   "source": [
    "c = 'ESTU_RESIDE_DEPTO'\n",
    "print(data_2008_2[c].value_counts().sort_index().index)\n",
    "print(data_2008_2[c].value_counts().sort_index())\n",
    "print(missing_data(data_2008_2[c]))"
   ]
  },
  {
   "cell_type": "code",
   "execution_count": 39,
   "metadata": {
    "collapsed": true
   },
   "outputs": [],
   "source": [
    "data_2008_2[c].fillna(method='bfill', inplace=True)\n",
    "data_2008_2[c].fillna(method='ffill', inplace=True)"
   ]
  },
  {
   "cell_type": "code",
   "execution_count": 40,
   "metadata": {
    "collapsed": false,
    "scrolled": true
   },
   "outputs": [
    {
     "name": "stdout",
     "output_type": "stream",
     "text": [
      "Float64Index([1.0, 2.0, 3.0, 4.0, 5.0, 6.0, 7.0, 8.0, 9.0, 10.0], dtype='float64')\n",
      "1      18110\n",
      "2       3016\n",
      "3      11981\n",
      "4      40677\n",
      "5      16040\n",
      "6       9095\n",
      "7      10573\n",
      "8      24687\n",
      "9      18325\n",
      "10    284616\n",
      "Name: ESTU_ZONA_RESIDE, dtype: int64\n",
      "Elementos null/NaN 133\n",
      "__________________\n",
      "Elementos diferentes de null/NaN: 437120\n",
      "__________________\n",
      "(437120,)\n",
      "None\n"
     ]
    }
   ],
   "source": [
    "c = 'ESTU_ZONA_RESIDE'\n",
    "print(data_2008_2[c].value_counts().sort_index().index)\n",
    "print(data_2008_2[c].value_counts().sort_index())\n",
    "print(missing_data(data_2008_2[c]))"
   ]
  },
  {
   "cell_type": "code",
   "execution_count": 41,
   "metadata": {
    "collapsed": false
   },
   "outputs": [
    {
     "name": "stdout",
     "output_type": "stream",
     "text": [
      "cant null antes: 133\n",
      "cant null despues: 0\n"
     ]
    }
   ],
   "source": [
    "Do_resamples(data_2008_2, c, float)"
   ]
  },
  {
   "cell_type": "code",
   "execution_count": 42,
   "metadata": {
    "collapsed": false
   },
   "outputs": [
    {
     "name": "stdout",
     "output_type": "stream",
     "text": [
      "Float64Index([1.0, 2.0], dtype='float64')\n",
      "1    348127\n",
      "2     89107\n",
      "Name: ESTU_AREA_RESIDE, dtype: int64\n",
      "Elementos null/NaN 19\n",
      "__________________\n",
      "Elementos diferentes de null/NaN: 437234\n",
      "__________________\n",
      "(437234,)\n",
      "None\n"
     ]
    }
   ],
   "source": [
    "c = 'ESTU_AREA_RESIDE'\n",
    "print(data_2008_2[c].value_counts().sort_index().index)\n",
    "print(data_2008_2[c].value_counts().sort_index())\n",
    "print(missing_data(data_2008_2[c]))"
   ]
  },
  {
   "cell_type": "code",
   "execution_count": 43,
   "metadata": {
    "collapsed": false
   },
   "outputs": [
    {
     "name": "stdout",
     "output_type": "stream",
     "text": [
      "cant null antes: 19\n",
      "cant null despues: 0\n"
     ]
    }
   ],
   "source": [
    "Do_resamples(data_2008_2, c, float)"
   ]
  },
  {
   "cell_type": "code",
   "execution_count": 44,
   "metadata": {
    "collapsed": false
   },
   "outputs": [
    {
     "name": "stdout",
     "output_type": "stream",
     "text": [
      "Float64Index([0.0, 1.0], dtype='float64')\n",
      "0     19484\n",
      "1    393954\n",
      "Name: FAMI_LEE_ESCRIBE_PADRE, dtype: int64\n",
      "Elementos null/NaN 23815\n",
      "__________________\n",
      "Elementos diferentes de null/NaN: 413438\n",
      "__________________\n",
      "(413438,)\n",
      "None\n"
     ]
    }
   ],
   "source": [
    "c = 'FAMI_LEE_ESCRIBE_PADRE'\n",
    "print(data_2008_2[c].value_counts().sort_index().index)\n",
    "print(data_2008_2[c].value_counts().sort_index())\n",
    "print(missing_data(data_2008_2[c]))"
   ]
  },
  {
   "cell_type": "code",
   "execution_count": 45,
   "metadata": {
    "collapsed": false
   },
   "outputs": [
    {
     "name": "stdout",
     "output_type": "stream",
     "text": [
      "cant null antes: 23815\n",
      "cant null despues: 0\n"
     ]
    }
   ],
   "source": [
    "Do_resamples(data_2008_2, c, float)"
   ]
  },
  {
   "cell_type": "code",
   "execution_count": 46,
   "metadata": {
    "collapsed": false
   },
   "outputs": [
    {
     "name": "stdout",
     "output_type": "stream",
     "text": [
      "Float64Index([0.0, 1.0], dtype='float64')\n",
      "0     14070\n",
      "1    399368\n",
      "Name: FAMI_LEE_ESCRIBE_MADRE, dtype: int64\n",
      "Elementos null/NaN 23815\n",
      "__________________\n",
      "Elementos diferentes de null/NaN: 413438\n",
      "__________________\n",
      "(413438,)\n",
      "None\n"
     ]
    }
   ],
   "source": [
    "c = 'FAMI_LEE_ESCRIBE_MADRE'\n",
    "print(data_2008_2[c].value_counts().sort_index().index)\n",
    "print(data_2008_2[c].value_counts().sort_index())\n",
    "print(missing_data(data_2008_2[c]))"
   ]
  },
  {
   "cell_type": "code",
   "execution_count": 47,
   "metadata": {
    "collapsed": false
   },
   "outputs": [
    {
     "name": "stdout",
     "output_type": "stream",
     "text": [
      "cant null antes: 23815\n",
      "cant null despues: 0\n"
     ]
    }
   ],
   "source": [
    "Do_resamples(data_2008_2, c, float)"
   ]
  },
  {
   "cell_type": "code",
   "execution_count": 48,
   "metadata": {
    "collapsed": false,
    "scrolled": true
   },
   "outputs": [
    {
     "name": "stdout",
     "output_type": "stream",
     "text": [
      "Float64Index([ 0.0,  1.0,  2.0,  3.0,  4.0,  5.0,  7.0,  9.0, 10.0, 11.0, 12.0,\n",
      "              13.0, 14.0, 15.0, 16.0, 17.0, 99.0],\n",
      "             dtype='float64')\n",
      "0     16375\n",
      "1         8\n",
      "2        42\n",
      "3        21\n",
      "4        19\n",
      "5        25\n",
      "7         3\n",
      "9     78779\n",
      "10    84090\n",
      "11    67297\n",
      "12    94771\n",
      "13     5239\n",
      "14    16875\n",
      "15     7332\n",
      "16    36168\n",
      "17     7889\n",
      "99    22303\n",
      "Name: FAMI_EDUCA_PADRE, dtype: int64\n",
      "Elementos null/NaN 17\n",
      "__________________\n",
      "Elementos diferentes de null/NaN: 437236\n",
      "__________________\n",
      "(437236,)\n",
      "None\n"
     ]
    }
   ],
   "source": [
    "c = 'FAMI_EDUCA_PADRE'\n",
    "print(data_2008_2[c].value_counts().sort_index().index)\n",
    "print(data_2008_2[c].value_counts().sort_index())\n",
    "print(missing_data(data_2008_2[c]))"
   ]
  },
  {
   "cell_type": "code",
   "execution_count": 49,
   "metadata": {
    "collapsed": false
   },
   "outputs": [
    {
     "name": "stdout",
     "output_type": "stream",
     "text": [
      "cant null antes: 17\n",
      "cant null despues: 0\n"
     ]
    }
   ],
   "source": [
    "Do_resamples(data_2008_2, c, float)"
   ]
  },
  {
   "cell_type": "code",
   "execution_count": 50,
   "metadata": {
    "collapsed": false,
    "scrolled": true
   },
   "outputs": [
    {
     "name": "stdout",
     "output_type": "stream",
     "text": [
      "Float64Index([ 0.0,  1.0,  2.0,  3.0,  4.0,  5.0,  6.0,  7.0,  9.0, 10.0, 11.0,\n",
      "              12.0, 13.0, 14.0, 15.0, 16.0, 17.0, 99.0],\n",
      "             dtype='float64')\n",
      "0      11436\n",
      "1          3\n",
      "2         35\n",
      "3         26\n",
      "4         24\n",
      "5         28\n",
      "6          1\n",
      "7          1\n",
      "9      70846\n",
      "10     84657\n",
      "11     79073\n",
      "12    101532\n",
      "13      7560\n",
      "14     20485\n",
      "15      8492\n",
      "16     33251\n",
      "17      7880\n",
      "99     11906\n",
      "Name: FAMI_EDUCA_MADRE, dtype: int64\n",
      "Elementos null/NaN 17\n",
      "__________________\n",
      "Elementos diferentes de null/NaN: 437236\n",
      "__________________\n",
      "(437236,)\n",
      "None\n"
     ]
    }
   ],
   "source": [
    "c = 'FAMI_EDUCA_MADRE'\n",
    "print(data_2008_2[c].value_counts().sort_index().index)\n",
    "print(data_2008_2[c].value_counts().sort_index())\n",
    "print(missing_data(data_2008_2[c]))"
   ]
  },
  {
   "cell_type": "code",
   "execution_count": 51,
   "metadata": {
    "collapsed": false
   },
   "outputs": [
    {
     "name": "stdout",
     "output_type": "stream",
     "text": [
      "cant null antes: 17\n",
      "cant null despues: 0\n"
     ]
    }
   ],
   "source": [
    "Do_resamples(data_2008_2, c, float)"
   ]
  },
  {
   "cell_type": "code",
   "execution_count": 52,
   "metadata": {
    "collapsed": false,
    "scrolled": true
   },
   "outputs": [
    {
     "name": "stdout",
     "output_type": "stream",
     "text": [
      "Float64Index([ 1.0,  2.0,  3.0,  4.0,  5.0,  7.0,  9.0, 10.0, 11.0, 12.0, 13.0,\n",
      "              14.0, 15.0, 16.0, 17.0, 18.0, 19.0, 20.0, 21.0, 22.0, 23.0, 24.0,\n",
      "              25.0, 26.0, 99.0],\n",
      "             dtype='float64')\n",
      "1          3\n",
      "2          1\n",
      "3          1\n",
      "4          1\n",
      "5          5\n",
      "7         24\n",
      "9         56\n",
      "10         2\n",
      "11         9\n",
      "12        27\n",
      "13      7495\n",
      "14     30332\n",
      "15      7253\n",
      "16     11637\n",
      "17     23167\n",
      "18     16261\n",
      "19     72366\n",
      "20     23127\n",
      "21    149115\n",
      "22      4919\n",
      "23     13432\n",
      "24      1188\n",
      "25       265\n",
      "26     38275\n",
      "99     38275\n",
      "Name: FAMI_OCUPA_PADRE, dtype: int64\n",
      "Elementos null/NaN 17\n",
      "__________________\n",
      "Elementos diferentes de null/NaN: 437236\n",
      "__________________\n",
      "(437236,)\n",
      "None\n"
     ]
    }
   ],
   "source": [
    "c = 'FAMI_OCUPA_PADRE'\n",
    "print(data_2008_2[c].value_counts().sort_index().index)\n",
    "print(data_2008_2[c].value_counts().sort_index())\n",
    "print(missing_data(data_2008_2[c]))"
   ]
  },
  {
   "cell_type": "code",
   "execution_count": 53,
   "metadata": {
    "collapsed": false
   },
   "outputs": [
    {
     "name": "stdout",
     "output_type": "stream",
     "text": [
      "cant null antes: 17\n",
      "cant null despues: 0\n"
     ]
    }
   ],
   "source": [
    "Do_resamples(data_2008_2, c, float)"
   ]
  },
  {
   "cell_type": "code",
   "execution_count": 54,
   "metadata": {
    "collapsed": false,
    "scrolled": true
   },
   "outputs": [
    {
     "name": "stdout",
     "output_type": "stream",
     "text": [
      "Float64Index([ 1.0,  2.0,  4.0,  5.0,  6.0,  7.0,  8.0,  9.0, 10.0, 11.0, 12.0,\n",
      "              13.0, 14.0, 15.0, 16.0, 17.0, 18.0, 19.0, 20.0, 21.0, 22.0, 23.0,\n",
      "              24.0, 25.0, 26.0, 99.0],\n",
      "             dtype='float64')\n",
      "1          1\n",
      "2          1\n",
      "4          1\n",
      "5          5\n",
      "6          3\n",
      "7          6\n",
      "8          1\n",
      "9         20\n",
      "10        74\n",
      "11         3\n",
      "12        14\n",
      "13      4324\n",
      "14     19735\n",
      "15      3770\n",
      "16      7139\n",
      "17     18692\n",
      "18     17580\n",
      "19     26510\n",
      "20      7587\n",
      "21     48495\n",
      "22    242448\n",
      "23      4142\n",
      "24      1140\n",
      "25      1042\n",
      "26     23596\n",
      "99     10907\n",
      "Name: FAMI_OCUPA_MADRE, dtype: int64\n",
      "Elementos null/NaN 17\n",
      "__________________\n",
      "Elementos diferentes de null/NaN: 437236\n",
      "__________________\n",
      "(437236,)\n",
      "None\n"
     ]
    }
   ],
   "source": [
    "c = 'FAMI_OCUPA_MADRE'\n",
    "print(data_2008_2[c].value_counts().sort_index().index)\n",
    "print(data_2008_2[c].value_counts().sort_index())\n",
    "print(missing_data(data_2008_2[c]))"
   ]
  },
  {
   "cell_type": "code",
   "execution_count": 55,
   "metadata": {
    "collapsed": false
   },
   "outputs": [
    {
     "name": "stdout",
     "output_type": "stream",
     "text": [
      "cant null antes: 17\n",
      "cant null despues: 0\n"
     ]
    }
   ],
   "source": [
    "Do_resamples(data_2008_2, c, float)"
   ]
  },
  {
   "cell_type": "code",
   "execution_count": 56,
   "metadata": {
    "collapsed": false,
    "scrolled": true
   },
   "outputs": [
    {
     "name": "stdout",
     "output_type": "stream",
     "text": [
      "Float64Index([0.0, 1.0, 2.0, 3.0, 4.0, 5.0, 6.0, 7.0, 8.0, 9.0, 10.0], dtype='float64')\n",
      "0      36829\n",
      "1      94743\n",
      "2     113345\n",
      "3      73189\n",
      "4      40800\n",
      "5      23645\n",
      "6      13671\n",
      "7       8713\n",
      "8       5462\n",
      "9       3600\n",
      "10      5439\n",
      "Name: FAMI_NUM_HERMANOS, dtype: int64\n",
      "Elementos null/NaN 17817\n",
      "__________________\n",
      "Elementos diferentes de null/NaN: 419436\n",
      "__________________\n",
      "(419436,)\n",
      "None\n"
     ]
    }
   ],
   "source": [
    "c = 'FAMI_NUM_HERMANOS'\n",
    "print(data_2008_2[c].value_counts().sort_index().index)\n",
    "print(data_2008_2[c].value_counts().sort_index())\n",
    "print(missing_data(data_2008_2[c]))"
   ]
  },
  {
   "cell_type": "code",
   "execution_count": 57,
   "metadata": {
    "collapsed": false
   },
   "outputs": [
    {
     "name": "stdout",
     "output_type": "stream",
     "text": [
      "cant null antes: 17817\n",
      "cant null despues: 0\n"
     ]
    }
   ],
   "source": [
    "Do_resamples(data_2008_2, c, float)"
   ]
  },
  {
   "cell_type": "code",
   "execution_count": 58,
   "metadata": {
    "collapsed": false
   },
   "outputs": [
    {
     "name": "stdout",
     "output_type": "stream",
     "text": [
      "Float64Index([1.0, 2.0, 3.0, 4.0, 5.0, 6.0, 7.0, 8.0, 9.0, 88.0, 99.0], dtype='float64')\n",
      "1      11801\n",
      "2      18189\n",
      "3      52994\n",
      "4     109950\n",
      "5      12735\n",
      "6      21323\n",
      "7      28135\n",
      "8      32573\n",
      "9       2739\n",
      "88     86229\n",
      "99      9594\n",
      "Name: FAMI_EDUCA_HERMANO, dtype: int64\n",
      "Elementos null/NaN 50991\n",
      "__________________\n",
      "Elementos diferentes de null/NaN: 386262\n",
      "__________________\n",
      "(386262,)\n",
      "None\n"
     ]
    }
   ],
   "source": [
    "c = 'FAMI_EDUCA_HERMANO'\n",
    "print(data_2008_2[c].value_counts().sort_index().index)\n",
    "print(data_2008_2[c].value_counts().sort_index())\n",
    "print(missing_data(data_2008_2[c]))"
   ]
  },
  {
   "cell_type": "code",
   "execution_count": 59,
   "metadata": {
    "collapsed": false
   },
   "outputs": [
    {
     "name": "stdout",
     "output_type": "stream",
     "text": [
      "cant null antes: 50991\n",
      "cant null despues: 0\n"
     ]
    }
   ],
   "source": [
    "Do_resamples(data_2008_2, c, float)"
   ]
  },
  {
   "cell_type": "code",
   "execution_count": 60,
   "metadata": {
    "collapsed": false
   },
   "outputs": [
    {
     "name": "stdout",
     "output_type": "stream",
     "text": [
      "Float64Index([1.0, 2.0, 88.0], dtype='float64')\n",
      "1     220077\n",
      "2      30981\n",
      "88    131559\n",
      "Name: FAMI_HERMANOS_ESTUDIAN, dtype: int64\n",
      "Elementos null/NaN 54636\n",
      "__________________\n",
      "Elementos diferentes de null/NaN: 382617\n",
      "__________________\n",
      "(382617,)\n",
      "None\n"
     ]
    }
   ],
   "source": [
    "c = 'FAMI_HERMANOS_ESTUDIAN'\n",
    "print(data_2008_2[c].value_counts().sort_index().index)\n",
    "print(data_2008_2[c].value_counts().sort_index())\n",
    "print(missing_data(data_2008_2[c]))"
   ]
  },
  {
   "cell_type": "code",
   "execution_count": 61,
   "metadata": {
    "collapsed": false
   },
   "outputs": [
    {
     "name": "stdout",
     "output_type": "stream",
     "text": [
      "cant null antes: 54636\n",
      "cant null despues: 0\n"
     ]
    }
   ],
   "source": [
    "Do_resamples(data_2008_2, c, float)"
   ]
  },
  {
   "cell_type": "code",
   "execution_count": 63,
   "metadata": {
    "collapsed": false
   },
   "outputs": [
    {
     "name": "stdout",
     "output_type": "stream",
     "text": [
      "Float64Index([1.0, 2.0, 3.0, 4.0, 5.0, 6.0, 8.0], dtype='float64')\n",
      "1    141746\n",
      "2    173398\n",
      "3     90971\n",
      "4     18038\n",
      "5      5660\n",
      "6      2486\n",
      "8      2487\n",
      "Name: FAMI_ESTRATO_VIVIENDA, dtype: int64\n",
      "Elementos null/NaN 2467\n",
      "__________________\n",
      "Elementos diferentes de null/NaN: 434786\n",
      "__________________\n",
      "(434786,)\n",
      "None\n"
     ]
    }
   ],
   "source": [
    "c = 'FAMI_ESTRATO_VIVIENDA'\n",
    "print(data_2008_2[c].value_counts().sort_index().index)\n",
    "print(data_2008_2[c].value_counts().sort_index())\n",
    "print(missing_data(data_2008_2[c]))"
   ]
  },
  {
   "cell_type": "code",
   "execution_count": 65,
   "metadata": {
    "collapsed": true
   },
   "outputs": [],
   "source": [
    "data_2008_2[c] = data_2008_2[c].replace(8.0, np.nan)"
   ]
  },
  {
   "cell_type": "code",
   "execution_count": 66,
   "metadata": {
    "collapsed": false
   },
   "outputs": [
    {
     "name": "stdout",
     "output_type": "stream",
     "text": [
      "cant null antes: 2487\n",
      "cant null despues: 0\n"
     ]
    }
   ],
   "source": [
    "Do_resamples(data_2008_2, c, float)"
   ]
  },
  {
   "cell_type": "code",
   "execution_count": 67,
   "metadata": {
    "collapsed": false
   },
   "outputs": [
    {
     "name": "stdout",
     "output_type": "stream",
     "text": [
      "Float64Index([1.0, 2.0, 3.0, 4.0, 5.0], dtype='float64')\n",
      "1    157936\n",
      "2    115687\n",
      "3     21508\n",
      "4      5662\n",
      "5    136442\n",
      "Name: FAMI_NIVEL_SISBEN, dtype: int64\n",
      "Elementos null/NaN 18\n",
      "__________________\n",
      "Elementos diferentes de null/NaN: 437235\n",
      "__________________\n",
      "(437235,)\n",
      "None\n"
     ]
    }
   ],
   "source": [
    "c = 'FAMI_NIVEL_SISBEN'\n",
    "print(data_2008_2[c].value_counts().sort_index().index)\n",
    "print(data_2008_2[c].value_counts().sort_index())\n",
    "print(missing_data(data_2008_2[c]))"
   ]
  },
  {
   "cell_type": "code",
   "execution_count": 68,
   "metadata": {
    "collapsed": false
   },
   "outputs": [
    {
     "name": "stdout",
     "output_type": "stream",
     "text": [
      "cant null antes: 18\n",
      "cant null despues: 0\n"
     ]
    }
   ],
   "source": [
    "Do_resamples(data_2008_2, c, float)"
   ]
  },
  {
   "cell_type": "code",
   "execution_count": 69,
   "metadata": {
    "collapsed": false
   },
   "outputs": [
    {
     "name": "stdout",
     "output_type": "stream",
     "text": [
      "Float64Index([1.0, 2.0, 3.0, 4.0, 5.0, 6.0, 7.0, 8.0, 9.0, 10.0, 11.0, 12.0], dtype='float64')\n",
      "1       3321\n",
      "2      18437\n",
      "3      61506\n",
      "4     114905\n",
      "5     105821\n",
      "6      60835\n",
      "7      30775\n",
      "8      17741\n",
      "9       8927\n",
      "10      6160\n",
      "11      2947\n",
      "12      5861\n",
      "Name: FAMI_PERSONAS_HOGAR, dtype: int64\n",
      "Elementos null/NaN 17\n",
      "__________________\n",
      "Elementos diferentes de null/NaN: 437236\n",
      "__________________\n",
      "(437236,)\n",
      "None\n"
     ]
    }
   ],
   "source": [
    "c = 'FAMI_PERSONAS_HOGAR'\n",
    "print(data_2008_2[c].value_counts().sort_index().index)\n",
    "print(data_2008_2[c].value_counts().sort_index())\n",
    "print(missing_data(data_2008_2[c]))"
   ]
  },
  {
   "cell_type": "code",
   "execution_count": 70,
   "metadata": {
    "collapsed": false
   },
   "outputs": [
    {
     "name": "stdout",
     "output_type": "stream",
     "text": [
      "cant null antes: 17\n",
      "cant null despues: 0\n"
     ]
    }
   ],
   "source": [
    "Do_resamples(data_2008_2, c, float)"
   ]
  },
  {
   "cell_type": "code",
   "execution_count": 71,
   "metadata": {
    "collapsed": false
   },
   "outputs": [
    {
     "name": "stdout",
     "output_type": "stream",
     "text": [
      "Float64Index([1.0, 2.0, 3.0, 4.0, 5.0], dtype='float64')\n",
      "1     21220\n",
      "2    203461\n",
      "3     21580\n",
      "4    190510\n",
      "5       464\n",
      "Name: FAMI_PISOSHOGAR, dtype: int64\n",
      "Elementos null/NaN 18\n",
      "__________________\n",
      "Elementos diferentes de null/NaN: 437235\n",
      "__________________\n",
      "(437235,)\n",
      "None\n"
     ]
    }
   ],
   "source": [
    "c = 'FAMI_PISOSHOGAR'\n",
    "print(data_2008_2[c].value_counts().sort_index().index)\n",
    "print(data_2008_2[c].value_counts().sort_index())\n",
    "print(missing_data(data_2008_2[c]))"
   ]
  },
  {
   "cell_type": "code",
   "execution_count": 72,
   "metadata": {
    "collapsed": false
   },
   "outputs": [
    {
     "name": "stdout",
     "output_type": "stream",
     "text": [
      "cant null antes: 18\n",
      "cant null despues: 0\n"
     ]
    }
   ],
   "source": [
    "Do_resamples(data_2008_2, c, float)"
   ]
  },
  {
   "cell_type": "code",
   "execution_count": 73,
   "metadata": {
    "collapsed": false
   },
   "outputs": [
    {
     "name": "stdout",
     "output_type": "stream",
     "text": [
      "Float64Index([1.0, 2.0, 3.0, 4.0, 5.0, 6.0, 7.0, 8.0, 9.0, 10.0], dtype='float64')\n",
      "1       7239\n",
      "2      40445\n",
      "3      94385\n",
      "4     114882\n",
      "5      88984\n",
      "6      44612\n",
      "7      18630\n",
      "8       9560\n",
      "9       4145\n",
      "10      5534\n",
      "Name: FAMI_CUARTOS_HOGAR, dtype: int64\n",
      "Elementos null/NaN 8837\n",
      "__________________\n",
      "Elementos diferentes de null/NaN: 428416\n",
      "__________________\n",
      "(428416,)\n",
      "None\n"
     ]
    }
   ],
   "source": [
    "c = 'FAMI_CUARTOS_HOGAR'\n",
    "print(data_2008_2[c].value_counts().sort_index().index)\n",
    "print(data_2008_2[c].value_counts().sort_index())\n",
    "print(missing_data(data_2008_2[c]))"
   ]
  },
  {
   "cell_type": "code",
   "execution_count": 74,
   "metadata": {
    "collapsed": false
   },
   "outputs": [
    {
     "name": "stdout",
     "output_type": "stream",
     "text": [
      "cant null antes: 8837\n",
      "cant null despues: 2\n",
      "cant null antes: 2\n",
      "cant null despues: 0\n"
     ]
    }
   ],
   "source": [
    "Do_resamples(data_2008_2, c, float)"
   ]
  },
  {
   "cell_type": "code",
   "execution_count": 75,
   "metadata": {
    "collapsed": false
   },
   "outputs": [
    {
     "name": "stdout",
     "output_type": "stream",
     "text": [
      "Float64Index([1.0, 2.0, 3.0, 4.0, 5.0, 6.0, 7.0, 8.0, 9.0, 10.0], dtype='float64')\n",
      "1      24774\n",
      "2     166702\n",
      "3     169039\n",
      "4      51876\n",
      "5      15049\n",
      "6       5471\n",
      "7       2033\n",
      "8       1101\n",
      "9        474\n",
      "10       716\n",
      "Name: FAMI_DORMITORIOS_HOGAR, dtype: int64\n",
      "Elementos null/NaN 18\n",
      "__________________\n",
      "Elementos diferentes de null/NaN: 437235\n",
      "__________________\n",
      "(437235,)\n",
      "None\n"
     ]
    }
   ],
   "source": [
    "c = 'FAMI_DORMITORIOS_HOGAR'\n",
    "print(data_2008_2[c].value_counts().sort_index().index)\n",
    "print(data_2008_2[c].value_counts().sort_index())\n",
    "print(missing_data(data_2008_2[c]))"
   ]
  },
  {
   "cell_type": "code",
   "execution_count": 76,
   "metadata": {
    "collapsed": false
   },
   "outputs": [
    {
     "name": "stdout",
     "output_type": "stream",
     "text": [
      "cant null antes: 18\n",
      "cant null despues: 0\n"
     ]
    }
   ],
   "source": [
    "Do_resamples(data_2008_2, c, float)"
   ]
  },
  {
   "cell_type": "code",
   "execution_count": 77,
   "metadata": {
    "collapsed": false
   },
   "outputs": [
    {
     "name": "stdout",
     "output_type": "stream",
     "text": [
      "Float64Index([0.0, 1.0, 3.0, 4.0], dtype='float64')\n",
      "0    270079\n",
      "1        69\n",
      "3    151141\n",
      "4     15946\n",
      "Name: FAMI_COMPUTADOR, dtype: int64\n",
      "Elementos null/NaN 18\n",
      "__________________\n",
      "Elementos diferentes de null/NaN: 437235\n",
      "__________________\n",
      "(437235,)\n",
      "None\n"
     ]
    }
   ],
   "source": [
    "c = 'FAMI_COMPUTADOR'\n",
    "print(data_2008_2[c].value_counts().sort_index().index)\n",
    "print(data_2008_2[c].value_counts().sort_index())\n",
    "print(missing_data(data_2008_2[c]))"
   ]
  },
  {
   "cell_type": "code",
   "execution_count": 78,
   "metadata": {
    "collapsed": false
   },
   "outputs": [
    {
     "name": "stdout",
     "output_type": "stream",
     "text": [
      "cant null antes: 18\n",
      "cant null despues: 0\n"
     ]
    }
   ],
   "source": [
    "Do_resamples(data_2008_2, c, float)"
   ]
  },
  {
   "cell_type": "code",
   "execution_count": 79,
   "metadata": {
    "collapsed": false
   },
   "outputs": [
    {
     "name": "stdout",
     "output_type": "stream",
     "text": [
      "Float64Index([0.0, 1.0, 2.0], dtype='float64')\n",
      "0     19022\n",
      "1    253233\n",
      "2    150363\n",
      "Name: FAMI_TELEVISOR, dtype: int64\n",
      "Elementos null/NaN 14635\n",
      "__________________\n",
      "Elementos diferentes de null/NaN: 422618\n",
      "__________________\n",
      "(422618,)\n",
      "None\n"
     ]
    }
   ],
   "source": [
    "c = 'FAMI_TELEVISOR'\n",
    "print(data_2008_2[c].value_counts().sort_index().index)\n",
    "print(data_2008_2[c].value_counts().sort_index())\n",
    "print(missing_data(data_2008_2[c]))"
   ]
  },
  {
   "cell_type": "code",
   "execution_count": 80,
   "metadata": {
    "collapsed": false
   },
   "outputs": [
    {
     "name": "stdout",
     "output_type": "stream",
     "text": [
      "cant null antes: 14635\n",
      "cant null despues: 0\n"
     ]
    }
   ],
   "source": [
    "Do_resamples(data_2008_2, c, float)"
   ]
  },
  {
   "cell_type": "code",
   "execution_count": 81,
   "metadata": {
    "collapsed": false
   },
   "outputs": [
    {
     "name": "stdout",
     "output_type": "stream",
     "text": [
      "Float64Index([0.0, 1.0, 2.0], dtype='float64')\n",
      "0    183712\n",
      "1    221289\n",
      "2     32234\n",
      "Name: FAMI_DVD, dtype: int64\n",
      "Elementos null/NaN 18\n",
      "__________________\n",
      "Elementos diferentes de null/NaN: 437235\n",
      "__________________\n",
      "(437235,)\n",
      "None\n"
     ]
    }
   ],
   "source": [
    "c = 'FAMI_DVD'\n",
    "print(data_2008_2[c].value_counts().sort_index().index)\n",
    "print(data_2008_2[c].value_counts().sort_index())\n",
    "print(missing_data(data_2008_2[c]))"
   ]
  },
  {
   "cell_type": "code",
   "execution_count": 82,
   "metadata": {
    "collapsed": false
   },
   "outputs": [
    {
     "name": "stdout",
     "output_type": "stream",
     "text": [
      "cant null antes: 18\n",
      "cant null despues: 0\n"
     ]
    }
   ],
   "source": [
    "Do_resamples(data_2008_2, c, float)"
   ]
  },
  {
   "cell_type": "code",
   "execution_count": 83,
   "metadata": {
    "collapsed": false
   },
   "outputs": [
    {
     "name": "stdout",
     "output_type": "stream",
     "text": [
      "Float64Index([0.0, 1.0, 2.0], dtype='float64')\n",
      "0    367221\n",
      "1     59777\n",
      "2     10237\n",
      "Name: FAMI_AUTOMOVIL, dtype: int64\n",
      "Elementos null/NaN 18\n",
      "__________________\n",
      "Elementos diferentes de null/NaN: 437235\n",
      "__________________\n",
      "(437235,)\n",
      "None\n"
     ]
    }
   ],
   "source": [
    "c = 'FAMI_AUTOMOVIL'\n",
    "print(data_2008_2[c].value_counts().sort_index().index)\n",
    "print(data_2008_2[c].value_counts().sort_index())\n",
    "print(missing_data(data_2008_2[c]))"
   ]
  },
  {
   "cell_type": "code",
   "execution_count": 84,
   "metadata": {
    "collapsed": false
   },
   "outputs": [
    {
     "name": "stdout",
     "output_type": "stream",
     "text": [
      "cant null antes: 18\n",
      "cant null despues: 0\n"
     ]
    }
   ],
   "source": [
    "Do_resamples(data_2008_2, c, float)"
   ]
  },
  {
   "cell_type": "code",
   "execution_count": 85,
   "metadata": {
    "collapsed": false
   },
   "outputs": [
    {
     "name": "stdout",
     "output_type": "stream",
     "text": [
      "Float64Index([0.0, 1.0, 2.0], dtype='float64')\n",
      "0    340848\n",
      "1     64331\n",
      "2      8258\n",
      "Name: FAMI_MOTOCICLETA, dtype: int64\n",
      "Elementos null/NaN 23816\n",
      "__________________\n",
      "Elementos diferentes de null/NaN: 413437\n",
      "__________________\n",
      "(413437,)\n",
      "None\n"
     ]
    }
   ],
   "source": [
    "c = 'FAMI_MOTOCICLETA'\n",
    "print(data_2008_2[c].value_counts().sort_index().index)\n",
    "print(data_2008_2[c].value_counts().sort_index())\n",
    "print(missing_data(data_2008_2[c]))"
   ]
  },
  {
   "cell_type": "code",
   "execution_count": 86,
   "metadata": {
    "collapsed": false
   },
   "outputs": [
    {
     "name": "stdout",
     "output_type": "stream",
     "text": [
      "cant null antes: 23816\n",
      "cant null despues: 0\n"
     ]
    }
   ],
   "source": [
    "Do_resamples(data_2008_2, c, float)"
   ]
  },
  {
   "cell_type": "code",
   "execution_count": 87,
   "metadata": {
    "collapsed": false
   },
   "outputs": [
    {
     "name": "stdout",
     "output_type": "stream",
     "text": [
      "Float64Index([0.0, 1.0, 2.0], dtype='float64')\n",
      "0     31497\n",
      "1    147533\n",
      "2    249076\n",
      "Name: FAMI_CELULAR, dtype: int64\n",
      "Elementos null/NaN 9147\n",
      "__________________\n",
      "Elementos diferentes de null/NaN: 428106\n",
      "__________________\n",
      "(428106,)\n",
      "None\n"
     ]
    }
   ],
   "source": [
    "c = 'FAMI_CELULAR'\n",
    "print(data_2008_2[c].value_counts().sort_index().index)\n",
    "print(data_2008_2[c].value_counts().sort_index())\n",
    "print(missing_data(data_2008_2[c]))"
   ]
  },
  {
   "cell_type": "code",
   "execution_count": 88,
   "metadata": {
    "collapsed": false
   },
   "outputs": [
    {
     "name": "stdout",
     "output_type": "stream",
     "text": [
      "cant null antes: 9147\n",
      "cant null despues: 0\n"
     ]
    }
   ],
   "source": [
    "Do_resamples(data_2008_2, c, float)"
   ]
  },
  {
   "cell_type": "code",
   "execution_count": 89,
   "metadata": {
    "collapsed": false
   },
   "outputs": [
    {
     "name": "stdout",
     "output_type": "stream",
     "text": [
      "Float64Index([0.0, 1.0], dtype='float64')\n",
      "0    342183\n",
      "1     95052\n",
      "Name: FAMI_INTERNET, dtype: int64\n",
      "Elementos null/NaN 18\n",
      "__________________\n",
      "Elementos diferentes de null/NaN: 437235\n",
      "__________________\n",
      "(437235,)\n",
      "None\n"
     ]
    }
   ],
   "source": [
    "c = 'FAMI_INTERNET'\n",
    "print(data_2008_2[c].value_counts().sort_index().index)\n",
    "print(data_2008_2[c].value_counts().sort_index())\n",
    "print(missing_data(data_2008_2[c]))"
   ]
  },
  {
   "cell_type": "code",
   "execution_count": 90,
   "metadata": {
    "collapsed": false
   },
   "outputs": [
    {
     "name": "stdout",
     "output_type": "stream",
     "text": [
      "cant null antes: 18\n",
      "cant null despues: 0\n"
     ]
    }
   ],
   "source": [
    "Do_resamples(data_2008_2, c, float)"
   ]
  },
  {
   "cell_type": "code",
   "execution_count": 91,
   "metadata": {
    "collapsed": false
   },
   "outputs": [
    {
     "name": "stdout",
     "output_type": "stream",
     "text": [
      "Float64Index([0.0, 1.0], dtype='float64')\n",
      "0    206721\n",
      "1    230514\n",
      "Name: FAMI_SERVICIO_TELEVISION, dtype: int64\n",
      "Elementos null/NaN 18\n",
      "__________________\n",
      "Elementos diferentes de null/NaN: 437235\n",
      "__________________\n",
      "(437235,)\n",
      "None\n"
     ]
    }
   ],
   "source": [
    "c = 'FAMI_SERVICIO_TELEVISION'\n",
    "print(data_2008_2[c].value_counts().sort_index().index)\n",
    "print(data_2008_2[c].value_counts().sort_index())\n",
    "print(missing_data(data_2008_2[c]))"
   ]
  },
  {
   "cell_type": "code",
   "execution_count": 92,
   "metadata": {
    "collapsed": true
   },
   "outputs": [],
   "source": [
    "idx = data_2008_2[data_2008_2[c].isnull()].index\n",
    "data_2008_2 = data_2008_2.drop(idx)"
   ]
  },
  {
   "cell_type": "code",
   "execution_count": 93,
   "metadata": {
    "collapsed": false
   },
   "outputs": [
    {
     "name": "stdout",
     "output_type": "stream",
     "text": [
      "Float64Index([1.0, 2.0, 3.0, 4.0, 5.0, 6.0, 7.0], dtype='float64')\n",
      "1    121719\n",
      "2    191445\n",
      "3     71264\n",
      "4     33387\n",
      "5     10150\n",
      "6      4882\n",
      "7      4388\n",
      "Name: FAMI_INGRESO_FMILIAR_MENSUAL, dtype: int64\n",
      "Elementos null/NaN 0\n",
      "__________________\n",
      "Elementos diferentes de null/NaN: 437235\n",
      "__________________\n",
      "(437235,)\n",
      "None\n"
     ]
    }
   ],
   "source": [
    "c = 'FAMI_INGRESO_FMILIAR_MENSUAL'\n",
    "print(data_2008_2[c].value_counts().sort_index().index)\n",
    "print(data_2008_2[c].value_counts().sort_index())\n",
    "print(missing_data(data_2008_2[c]))"
   ]
  },
  {
   "cell_type": "code",
   "execution_count": 94,
   "metadata": {
    "collapsed": false
   },
   "outputs": [
    {
     "name": "stdout",
     "output_type": "stream",
     "text": [
      "Float64Index([0.0, 1.0, 2.0, 3.0, 4.0, 5.0, 6.0, 7.0], dtype='float64')\n",
      "0    387044\n",
      "1     36958\n",
      "2     10305\n",
      "3      1238\n",
      "4       515\n",
      "5       651\n",
      "6       214\n",
      "7       135\n",
      "Name: ESTU_TRABAJA, dtype: int64\n",
      "Elementos null/NaN 175\n",
      "__________________\n",
      "Elementos diferentes de null/NaN: 437060\n",
      "__________________\n",
      "(437060,)\n",
      "None\n"
     ]
    }
   ],
   "source": [
    "c = 'ESTU_TRABAJA'\n",
    "print(data_2008_2[c].value_counts().sort_index().index)\n",
    "print(data_2008_2[c].value_counts().sort_index())\n",
    "print(missing_data(data_2008_2[c]))"
   ]
  },
  {
   "cell_type": "code",
   "execution_count": 95,
   "metadata": {
    "collapsed": false
   },
   "outputs": [
    {
     "name": "stdout",
     "output_type": "stream",
     "text": [
      "cant null antes: 175\n",
      "cant null despues: 0\n"
     ]
    }
   ],
   "source": [
    "Do_resamples(data_2008_2, c, float)"
   ]
  },
  {
   "cell_type": "code",
   "execution_count": 96,
   "metadata": {
    "collapsed": false,
    "scrolled": true
   },
   "outputs": [
    {
     "name": "stdout",
     "output_type": "stream",
     "text": [
      "Float64Index([ 0.0,  1.0,  2.0,  3.0,  4.0,  5.0,  6.0,  7.0,  8.0,  9.0, 10.0,\n",
      "              11.0, 12.0, 13.0, 14.0, 15.0, 16.0, 17.0, 18.0, 19.0, 20.0],\n",
      "             dtype='float64')\n",
      "0       187\n",
      "1       222\n",
      "2       627\n",
      "3       926\n",
      "4      1771\n",
      "5      1438\n",
      "6      1694\n",
      "7       786\n",
      "8      4210\n",
      "9       885\n",
      "10     2897\n",
      "11      390\n",
      "12     2409\n",
      "13      301\n",
      "14      628\n",
      "15     1387\n",
      "16     1353\n",
      "17      199\n",
      "18      933\n",
      "19      532\n",
      "20    25799\n",
      "Name: ESTU_HORAS_TRABAJA, dtype: int64\n",
      "Elementos null/NaN 387661\n",
      "__________________\n",
      "Elementos diferentes de null/NaN: 49574\n",
      "__________________\n",
      "(49574,)\n",
      "None\n"
     ]
    }
   ],
   "source": [
    "c = 'ESTU_HORAS_TRABAJA'\n",
    "print(data_2008_2[c].value_counts().sort_index().index)\n",
    "print(data_2008_2[c].value_counts().sort_index())\n",
    "print(missing_data(data_2008_2[c]))"
   ]
  },
  {
   "cell_type": "code",
   "execution_count": 97,
   "metadata": {
    "collapsed": false
   },
   "outputs": [
    {
     "name": "stdout",
     "output_type": "stream",
     "text": [
      "cant null antes: 387661\n",
      "cant null despues: 0\n"
     ]
    }
   ],
   "source": [
    "Do_resamples(data_2008_2, c, float)"
   ]
  },
  {
   "cell_type": "code",
   "execution_count": 98,
   "metadata": {
    "collapsed": false
   },
   "outputs": [
    {
     "name": "stdout",
     "output_type": "stream",
     "text": [
      "Float64Index([0.0, 1.0, 2.0, 4.0, 8.0, 9.0, 10.0, 11.0, 12.0], dtype='float64')\n",
      "0     284187\n",
      "1         12\n",
      "2          3\n",
      "4          1\n",
      "8      93609\n",
      "9      17323\n",
      "10     12788\n",
      "11     16105\n",
      "12     13163\n",
      "Name: COLE_VALOR_PENSION, dtype: int64\n",
      "Elementos null/NaN 44\n",
      "__________________\n",
      "Elementos diferentes de null/NaN: 437191\n",
      "__________________\n",
      "(437191,)\n",
      "None\n"
     ]
    }
   ],
   "source": [
    "c = 'COLE_VALOR_PENSION'\n",
    "print(data_2008_2[c].value_counts().sort_index().index)\n",
    "print(data_2008_2[c].value_counts().sort_index())\n",
    "print(missing_data(data_2008_2[c]))"
   ]
  },
  {
   "cell_type": "code",
   "execution_count": 99,
   "metadata": {
    "collapsed": false
   },
   "outputs": [
    {
     "name": "stdout",
     "output_type": "stream",
     "text": [
      "cant null antes: 44\n",
      "cant null despues: 0\n"
     ]
    }
   ],
   "source": [
    "Do_resamples(data_2008_2, c, float)"
   ]
  },
  {
   "cell_type": "code",
   "execution_count": 100,
   "metadata": {
    "collapsed": false,
    "scrolled": true
   },
   "outputs": [
    {
     "name": "stdout",
     "output_type": "stream",
     "text": [
      "Float64Index([1989.0, 1990.0, 1991.0, 1992.0, 1993.0, 1997.0, 2001.0, 2002.0,\n",
      "              2004.0, 2005.0, 2006.0, 2007.0, 2008.0, 2009.0, 2010.0, 2011.0,\n",
      "              2012.0, 2013.0],\n",
      "             dtype='float64')\n",
      "1989         1\n",
      "1990         1\n",
      "1991         1\n",
      "1992         2\n",
      "1993         1\n",
      "1997         1\n",
      "2001         1\n",
      "2002         1\n",
      "2004         3\n",
      "2005         2\n",
      "2006         2\n",
      "2007        22\n",
      "2008    434295\n",
      "2009      2786\n",
      "2010        72\n",
      "2011         6\n",
      "2012         4\n",
      "2013         1\n",
      "Name: IND_ANNO_TERMINO_BACHILLERATO, dtype: int64\n",
      "Elementos null/NaN 33\n",
      "__________________\n",
      "Elementos diferentes de null/NaN: 437202\n",
      "__________________\n",
      "(437202,)\n",
      "None\n"
     ]
    }
   ],
   "source": [
    "c = 'IND_ANNO_TERMINO_BACHILLERATO'\n",
    "print(data_2008_2[c].value_counts().sort_index().index)\n",
    "print(data_2008_2[c].value_counts().sort_index())\n",
    "print(missing_data(data_2008_2[c]))"
   ]
  },
  {
   "cell_type": "code",
   "execution_count": 101,
   "metadata": {
    "collapsed": false
   },
   "outputs": [
    {
     "name": "stdout",
     "output_type": "stream",
     "text": [
      "cant null antes: 33\n",
      "cant null despues: 0\n"
     ]
    }
   ],
   "source": [
    "Do_resamples(data_2008_2, c, float)"
   ]
  },
  {
   "cell_type": "code",
   "execution_count": 102,
   "metadata": {
    "collapsed": false
   },
   "outputs": [
    {
     "name": "stdout",
     "output_type": "stream",
     "text": [
      "Float64Index([0.0, 1.0], dtype='float64')\n",
      "0      12\n",
      "1    2525\n",
      "Name: IND_TERMINO_BACHILLERATO, dtype: int64\n",
      "Elementos null/NaN 434698\n",
      "__________________\n",
      "Elementos diferentes de null/NaN: 2537\n",
      "__________________\n",
      "(2537,)\n",
      "None\n"
     ]
    }
   ],
   "source": [
    "c = 'IND_TERMINO_BACHILLERATO'\n",
    "print(data_2008_2[c].value_counts().sort_index().index)\n",
    "print(data_2008_2[c].value_counts().sort_index())\n",
    "print(missing_data(data_2008_2[c]))"
   ]
  },
  {
   "cell_type": "code",
   "execution_count": 103,
   "metadata": {
    "collapsed": true
   },
   "outputs": [],
   "source": [
    "data_2008_2 = data_2008_2.drop([c], axis=1)"
   ]
  },
  {
   "cell_type": "code",
   "execution_count": 104,
   "metadata": {
    "collapsed": false,
    "scrolled": true
   },
   "outputs": [
    {
     "name": "stdout",
     "output_type": "stream",
     "text": [
      "Float64Index([     2.0,      3.0,     18.0,     59.0,     67.0,     75.0,\n",
      "                  83.0,     91.0,    125.0,    141.0,\n",
      "              ...\n",
      "              173260.0, 173609.0, 174730.0, 174755.0, 175166.0, 175562.0,\n",
      "              175828.0, 176008.0, 176198.0, 999999.0],\n",
      "             dtype='float64', length=9192)\n",
      "2            1\n",
      "3          383\n",
      "18          22\n",
      "59        1145\n",
      "67           1\n",
      "75          60\n",
      "83          38\n",
      "91          85\n",
      "125         73\n",
      "141        128\n",
      "174         71\n",
      "190         77\n",
      "208         92\n",
      "216         33\n",
      "232         28\n",
      "240         24\n",
      "257         25\n",
      "265         13\n",
      "273         42\n",
      "281         68\n",
      "315        162\n",
      "349         22\n",
      "356         21\n",
      "364         54\n",
      "372         56\n",
      "380        112\n",
      "398         23\n",
      "406         28\n",
      "422         14\n",
      "430        110\n",
      "          ... \n",
      "166645       1\n",
      "166777       4\n",
      "167205       2\n",
      "167551       1\n",
      "168369       1\n",
      "168500       1\n",
      "168534       1\n",
      "169508       1\n",
      "169607       2\n",
      "169698       2\n",
      "169748       1\n",
      "169904       2\n",
      "170258       1\n",
      "170365       2\n",
      "170449       1\n",
      "170472       1\n",
      "170480       3\n",
      "172478       1\n",
      "172940       1\n",
      "173179       1\n",
      "173260       1\n",
      "173609       1\n",
      "174730       1\n",
      "174755       1\n",
      "175166       1\n",
      "175562       1\n",
      "175828       1\n",
      "176008       1\n",
      "176198       1\n",
      "999999     615\n",
      "Name: IND_COD_ICFES_TERMINO, dtype: int64\n",
      "Elementos null/NaN 730\n",
      "__________________\n",
      "Elementos diferentes de null/NaN: 436505\n",
      "__________________\n",
      "(436505,)\n",
      "None\n"
     ]
    }
   ],
   "source": [
    "c = 'IND_COD_ICFES_TERMINO'\n",
    "print(data_2008_2[c].value_counts().sort_index().index)\n",
    "print(data_2008_2[c].value_counts().sort_index())\n",
    "print(missing_data(data_2008_2[c]))"
   ]
  },
  {
   "cell_type": "code",
   "execution_count": 105,
   "metadata": {
    "collapsed": true
   },
   "outputs": [],
   "source": [
    "data_2008_2 = data_2008_2.drop([c], axis=1)"
   ]
  },
  {
   "cell_type": "code",
   "execution_count": 106,
   "metadata": {
    "collapsed": false,
    "scrolled": true
   },
   "outputs": [
    {
     "name": "stdout",
     "output_type": "stream",
     "text": [
      "Int64Index([    18,     59,     75,     83,     91,    125,    141,    174,\n",
      "               190,    208,\n",
      "            ...\n",
      "            142364, 142372, 142406, 142414, 142430, 142448, 142463, 142489,\n",
      "            142539, 142554],\n",
      "           dtype='int64', length=8820)\n",
      "18          22\n",
      "59        1156\n",
      "75          60\n",
      "83          38\n",
      "91          85\n",
      "125         73\n",
      "141        128\n",
      "174         71\n",
      "190         77\n",
      "208         92\n",
      "216         33\n",
      "232         28\n",
      "240         22\n",
      "257         23\n",
      "265         13\n",
      "273         42\n",
      "281         68\n",
      "315        162\n",
      "349         23\n",
      "356         21\n",
      "364         54\n",
      "372         57\n",
      "380        112\n",
      "398         23\n",
      "406         28\n",
      "422         14\n",
      "430        110\n",
      "448         23\n",
      "455         95\n",
      "463        122\n",
      "          ... \n",
      "142042       6\n",
      "142075      23\n",
      "142083      16\n",
      "142109       8\n",
      "142117      10\n",
      "142125      49\n",
      "142133      28\n",
      "142141      12\n",
      "142166      15\n",
      "142190      29\n",
      "142208      11\n",
      "142216      63\n",
      "142240      11\n",
      "142257      12\n",
      "142265       8\n",
      "142273      12\n",
      "142281      43\n",
      "142299      23\n",
      "142315      11\n",
      "142323      10\n",
      "142364      12\n",
      "142372       5\n",
      "142406      14\n",
      "142414       8\n",
      "142430      13\n",
      "142448      10\n",
      "142463       1\n",
      "142489       5\n",
      "142539      44\n",
      "142554      16\n",
      "Name: COLE_COD_ICFES, dtype: int64\n",
      "Elementos null/NaN 0\n",
      "__________________\n",
      "Elementos diferentes de null/NaN: 437235\n",
      "__________________\n",
      "(437235,)\n",
      "None\n"
     ]
    }
   ],
   "source": [
    "c = 'COLE_COD_ICFES'\n",
    "print(data_2008_2[c].value_counts().sort_index().index)\n",
    "print(data_2008_2[c].value_counts().sort_index())\n",
    "print(missing_data(data_2008_2[c]))"
   ]
  },
  {
   "cell_type": "code",
   "execution_count": 107,
   "metadata": {
    "collapsed": true
   },
   "outputs": [],
   "source": [
    "for i in data_2008_2[c].value_counts().sort_index().index:\n",
    "    if len(str(i))<4:\n",
    "        data_2008_2[c] = data_2008_2[c].replace(i, np.nan)"
   ]
  },
  {
   "cell_type": "code",
   "execution_count": 108,
   "metadata": {
    "collapsed": true
   },
   "outputs": [],
   "source": [
    "data_2008_2[c].fillna(method='bfill', inplace=True)\n",
    "data_2008_2[c].fillna(method='ffill', inplace=True)"
   ]
  },
  {
   "cell_type": "code",
   "execution_count": 109,
   "metadata": {
    "collapsed": false,
    "scrolled": true
   },
   "outputs": [
    {
     "name": "stdout",
     "output_type": "stream",
     "text": [
      "Index(['            ',   105001000108, '111001024732', '105001013340',\n",
      "       '168001003591', '111001019411', '313001006701', '111102000753',\n",
      "       '354001000027', '166001002339',\n",
      "       ...\n",
      "         219760000177, '376109007552',   170215000284,   173001001088,\n",
      "         111001107069, '273001002844', '173168003562',   166170000256,\n",
      "         325754001841,   315001002237],\n",
      "      dtype='object', length=8462)\n",
      "                1888\n",
      "105001000108     899\n",
      "111001024732     852\n",
      "105001013340     836\n",
      "168001003591     761\n",
      "111001019411     656\n",
      "313001006701     561\n",
      "111102000753     529\n",
      "354001000027     505\n",
      "166001002339     500\n",
      "111001011819     495\n",
      "311001105391     482\n",
      "311001004820     481\n",
      "368001005488     480\n",
      "170001000180     479\n",
      "111001006122     470\n",
      "173001001053     467\n",
      "113001000852     463\n",
      "105154000301     462\n",
      "113001003274     459\n",
      "150001000979     453\n",
      "111001010910     452\n",
      "105001024073     439\n",
      "185001000268     437\n",
      "115001000367     414\n",
      "154001000079     410\n",
      "111001010839     402\n",
      "111279000362     400\n",
      "111001010031     394\n",
      "113001002057     393\n",
      "                ... \n",
      "105172000220       1\n",
      "320001067341       1\n",
      "168264000295       1\n",
      "113001001972       1\n",
      "352835000242       1\n",
      "211850000876       1\n",
      "411848001058       1\n",
      "352835004477       1\n",
      "305001015287       1\n",
      "117001006180       1\n",
      "315001000293       1\n",
      "288001000148       1\n",
      "305001003521       1\n",
      "313001008500       1\n",
      "217873000308       1\n",
      "173030000066       1\n",
      "183256000633       1\n",
      "241306000958       1\n",
      "283765000671       1\n",
      "308758001878       1\n",
      "219760000177       1\n",
      "376109007552       1\n",
      "170215000284       1\n",
      "173001001088       1\n",
      "111001107069       1\n",
      "273001002844       1\n",
      "173168003562       1\n",
      "166170000256       1\n",
      "325754001841       1\n",
      "315001002237       1\n",
      "Name: COLE_COD_DANE_INSTITUCION, dtype: int64\n",
      "Elementos null/NaN 0\n",
      "__________________\n",
      "Elementos diferentes de null/NaN: 437235\n",
      "__________________\n",
      "(437235,)\n",
      "None\n"
     ]
    }
   ],
   "source": [
    "c = 'COLE_COD_DANE_INSTITUCION'\n",
    "print(data_2008_2[c].value_counts().index)\n",
    "print(data_2008_2[c].value_counts())\n",
    "print(missing_data(data_2008_2[c]))"
   ]
  },
  {
   "cell_type": "code",
   "execution_count": 110,
   "metadata": {
    "collapsed": false
   },
   "outputs": [],
   "source": [
    "data_2008_2[c] = data_2008_2[c].replace('            ', np.nan)\n",
    "for i in data_2008_2[c].value_counts().index:\n",
    "    if type(i) == str:\n",
    "        data_2008_2[c] = data_2008_2[c].replace(i, float(i))"
   ]
  },
  {
   "cell_type": "code",
   "execution_count": 111,
   "metadata": {
    "collapsed": true
   },
   "outputs": [],
   "source": [
    "data_2008_2[c].fillna(method='bfill', inplace=True)\n",
    "data_2008_2[c].fillna(method='ffill', inplace=True)"
   ]
  },
  {
   "cell_type": "code",
   "execution_count": 112,
   "metadata": {
    "collapsed": false,
    "scrolled": true
   },
   "outputs": [
    {
     "name": "stdout",
     "output_type": "stream",
     "text": [
      "Index([' COLEGIO MARYLAND', ' ESCUELA URBANA JOSE ANTONIO GALAN',\n",
      "       ' I.E. AGRICOLA DE MACANAL - SEDE PRINCIPAL',\n",
      "       ' I.E. LA CANDELARIA - SEDE PRINCIPAL',\n",
      "       ' I.E. MARCO AURELIO BERNAL - SEDE PRINCIPAL',\n",
      "       ' I.E.T. SAN DIEGO DE ALCALA - SEDE PRINCIPAL',\n",
      "       ' I.E.T. SERGIO CAMARGO - SEDE PRINCIPAL',\n",
      "       ' IE JUAN PABLO II - SEDE PRINCIPAL', ' IE NTRA SRA DE FATIMA',\n",
      "       ' INSTITUCION EDUCATIVA DEPARTAMENTAL TAPIAS',\n",
      "       ...\n",
      "       'UNIVERSIDAD NACIONAL ABIERTA Y A DISTANCIA',\n",
      "       'UNIVERSIDAD NACIONAL ABIERTA Y A DISTANCIA  UNAD - SEDE PRINCIPAL',\n",
      "       'VALSALICE', 'VENTIUN ANGELES (INST EDUC DIST)', 'VERDE AMAZONICO',\n",
      "       'VILLA CECILIA SEDE', 'VILLA CORELCA', 'VILLA DE LOS ANDES',\n",
      "       'VILLALOSADA',\n",
      "       'ZION SCHOOL                                                 '],\n",
      "      dtype='object', length=7317)\n",
      " COLEGIO MARYLAND                                                                                        12\n",
      " ESCUELA URBANA JOSE ANTONIO GALAN                                                                       13\n",
      " I.E. AGRICOLA DE MACANAL - SEDE PRINCIPAL                                                               56\n",
      " I.E. LA CANDELARIA - SEDE PRINCIPAL                                                                     30\n",
      " I.E. MARCO AURELIO BERNAL - SEDE PRINCIPAL                                                             105\n",
      " I.E.T. SAN DIEGO DE ALCALA - SEDE PRINCIPAL                                                             23\n",
      " I.E.T. SERGIO CAMARGO - SEDE PRINCIPAL                                                                  22\n",
      " IE JUAN PABLO II - SEDE PRINCIPAL                                                                        7\n",
      " IE NTRA SRA DE FATIMA                                                                                   14\n",
      " INSTITUCION EDUCATIVA DEPARTAMENTAL TAPIAS                                                              15\n",
      " JOSÉ CELESTINO MUTIS                                                                                    13\n",
      "ACAD AMERICANA DE SISTEMAS Y COMERCIO                                                                    24\n",
      "ACAD CENTRAL DE SISTEMAS ACSI                                                                            47\n",
      "ACAD MILIT MARISCAL SUCRE                                                                                66\n",
      "ACAD MILIT NAL HEROES GRANADINOS                                                                         35\n",
      "ACAD PANTANO DE VARGAS                                                                                   40\n",
      "ACAD. MILITAR GRAL. CUSTODIO GARCIA R.                                                                   25\n",
      "ACADEMIA CIAL DE LOS ANDES                                                                               37\n",
      "ACADEMIA COLOMBIANA DE ENSEÑANZA                                                                          6\n",
      "ACADEMIA DE CIENCIAS DE COLOMBIA AKADEMOS                                                                12\n",
      "ACADEMIA E INSTITUTO CAMPAÑA LIBERTADORA                                                                  3\n",
      "ACADEMIA GRAN COLOMBIA                                                                                   46\n",
      "ACADEMIA GUSTAVO ROJAS PINILLAS                                                                          38\n",
      "ACADEMIA LA SALLE SAN BENILDO                                                                            85\n",
      "ACADEMIA LEGION BRITANICA                                                                                16\n",
      "ACADEMIA MILITAR GENERAL JOSE ANTONIO ANZOATEGUI                                                         23\n",
      "ACADEMIA MILITAR GRAL TOMAS CIPRIANO DE MOSQUERA                                                         32\n",
      "ACADEMIA MILITAR JOSE ANTONIO PAEZ                                                                       42\n",
      "ACADEMIA MILITAR MARISCAL SUCRE                                                                          71\n",
      "ACADEMIA POLITECNICA INTERACTIVA - SEDE PRINCIPAL                                                         6\n",
      "                                                                                                       ... \n",
      "TÉCNICO INDUSTRIAL RAFAEL POMBO                                                                         203\n",
      "U. EDUCATIVA FELICIDAD BARRIOS H.                                                                         8\n",
      "UNAD  BACHILLERATO DIVERSIFICADO A DISTANCIA PARA ADULTOS                                               128\n",
      "UNAD UNIVERSIDAD NACIONAL ABIERTA Y A DISTANCIA                                                           2\n",
      "UNID EDUC BAHIA SOLANO                                                                                   32\n",
      "UNID EDUC JEAN PIAGET                                                                                    69\n",
      "UNID EDUC PRADOS DE ALAMEDA                                                                              16\n",
      "UNID EDUC SAN ANTONIO DEL ARIARI                                                                         51\n",
      "UNID PEDAGOGICA BILINGÜE PIERRE DE FERMAT                                                                29\n",
      "UNIDAD BASICA LAGUNA                                                                                      9\n",
      "UNIDAD BASICA RURAL SOATAMA                                                                               8\n",
      "UNIDAD EDUCATIVA                                                                                         26\n",
      "UNIDAD EDUCATIVA CABUYARO                                                                                38\n",
      "UNIDAD EDUCATIVA SAN MARCOS                                                                             148\n",
      "UNIDAD EDUCATIVA SANTA TERESA DE PACHAQUIARO                                                             25\n",
      "UNIDAD EDUCATIVA TECNICO AGROPECURIO                                                                     45\n",
      "UNIDAD EDUCATIVA URBANA                                                                                  40\n",
      "UNIDAD TECNOLOGICA DE OCCIDENTE                                                                           8\n",
      "UNION PROFESIONAL PARA LA EDUCACION Y EL TRABAJO UPET                                                     4\n",
      "UNION SINDICAL OBRERA  USO                                                                               32\n",
      "UNIVERSIDAD NACIONAL ABIERTA Y A DISTANCIA                                                              169\n",
      "UNIVERSIDAD NACIONAL ABIERTA Y A DISTANCIA  UNAD - SEDE PRINCIPAL                                       257\n",
      "VALSALICE                                                                                                59\n",
      "VENTIUN ANGELES (INST EDUC DIST)                                                                         94\n",
      "VERDE AMAZONICO                                                                                          19\n",
      "VILLA CECILIA SEDE                                                                                       15\n",
      "VILLA CORELCA                                                                                            24\n",
      "VILLA DE LOS ANDES                                                                                       45\n",
      "VILLALOSADA                                                                                              11\n",
      "ZION SCHOOL                                                                                              12\n",
      "Name: COLE_NOMBRE_SEDE, dtype: int64\n",
      "Elementos null/NaN 0\n",
      "__________________\n",
      "Elementos diferentes de null/NaN: 437235\n",
      "__________________\n",
      "(437235,)\n",
      "None\n"
     ]
    }
   ],
   "source": [
    "c = 'COLE_NOMBRE_SEDE'\n",
    "print(data_2008_2[c].value_counts().sort_index().index)\n",
    "print(data_2008_2[c].value_counts().sort_index())\n",
    "print(missing_data(data_2008_2[c]))"
   ]
  },
  {
   "cell_type": "code",
   "execution_count": 113,
   "metadata": {
    "collapsed": true
   },
   "outputs": [],
   "source": [
    "data_2008_2 = data_2008_2.drop([c], axis=1)"
   ]
  },
  {
   "cell_type": "code",
   "execution_count": 114,
   "metadata": {
    "collapsed": false
   },
   "outputs": [
    {
     "name": "stdout",
     "output_type": "stream",
     "text": [
      "Index(['A', 'B', 'F'], dtype='object')\n",
      "A    381412\n",
      "B       275\n",
      "F     55548\n",
      "Name: COLE_CALENDARIO, dtype: int64\n",
      "Elementos null/NaN 0\n",
      "__________________\n",
      "Elementos diferentes de null/NaN: 437235\n",
      "__________________\n",
      "(437235,)\n",
      "None\n"
     ]
    }
   ],
   "source": [
    "c = 'COLE_CALENDARIO'\n",
    "print(data_2008_2[c].value_counts().sort_index().index)\n",
    "print(data_2008_2[c].value_counts().sort_index())\n",
    "print(missing_data(data_2008_2[c]))"
   ]
  },
  {
   "cell_type": "code",
   "execution_count": 115,
   "metadata": {
    "collapsed": false
   },
   "outputs": [
    {
     "name": "stdout",
     "output_type": "stream",
     "text": [
      "Index(['F', 'M', 'X'], dtype='object')\n",
      "F     25320\n",
      "M      6493\n",
      "X    405422\n",
      "Name: COLE_GENERO, dtype: int64\n",
      "Elementos null/NaN 0\n",
      "__________________\n",
      "Elementos diferentes de null/NaN: 437235\n",
      "__________________\n",
      "(437235,)\n",
      "None\n"
     ]
    }
   ],
   "source": [
    "c = 'COLE_GENERO'\n",
    "print(data_2008_2[c].value_counts().sort_index().index)\n",
    "print(data_2008_2[c].value_counts().sort_index())\n",
    "print(missing_data(data_2008_2[c]))"
   ]
  },
  {
   "cell_type": "code",
   "execution_count": 116,
   "metadata": {
    "collapsed": false
   },
   "outputs": [
    {
     "name": "stdout",
     "output_type": "stream",
     "text": [
      "Index(['N', 'O'], dtype='object')\n",
      "N    112159\n",
      "O    325076\n",
      "Name: COLE_NATURALEZA, dtype: int64\n",
      "Elementos null/NaN 0\n",
      "__________________\n",
      "Elementos diferentes de null/NaN: 437235\n",
      "__________________\n",
      "(437235,)\n",
      "None\n"
     ]
    }
   ],
   "source": [
    "c = 'COLE_NATURALEZA'\n",
    "print(data_2008_2[c].value_counts().sort_index().index)\n",
    "print(data_2008_2[c].value_counts().sort_index())\n",
    "print(missing_data(data_2008_2[c]))"
   ]
  },
  {
   "cell_type": "code",
   "execution_count": 117,
   "metadata": {
    "collapsed": false
   },
   "outputs": [
    {
     "name": "stdout",
     "output_type": "stream",
     "text": [
      "Float64Index([0.0, 1.0], dtype='float64')\n",
      "0    395907\n",
      "1      3191\n",
      "Name: COLE_BILINGUE, dtype: int64\n",
      "Elementos null/NaN 38137\n",
      "__________________\n",
      "Elementos diferentes de null/NaN: 399098\n",
      "__________________\n",
      "(399098,)\n",
      "None\n"
     ]
    }
   ],
   "source": [
    "c = 'COLE_BILINGUE'\n",
    "print(data_2008_2[c].value_counts().sort_index().index)\n",
    "print(data_2008_2[c].value_counts().sort_index())\n",
    "print(missing_data(data_2008_2[c]))"
   ]
  },
  {
   "cell_type": "code",
   "execution_count": 118,
   "metadata": {
    "collapsed": false
   },
   "outputs": [
    {
     "name": "stdout",
     "output_type": "stream",
     "text": [
      "cant null antes: 38137\n",
      "cant null despues: 0\n"
     ]
    }
   ],
   "source": [
    "Do_resamples(data_2008_2, c, float)"
   ]
  },
  {
   "cell_type": "code",
   "execution_count": 119,
   "metadata": {
    "collapsed": false
   },
   "outputs": [
    {
     "name": "stdout",
     "output_type": "stream",
     "text": [
      "Index(['COMPLETA U ORDINARIA', 'MAÑANA', 'NOCHE', 'SABATINA - DOMINICAL',\n",
      "       'TARDE'],\n",
      "      dtype='object')\n",
      "COMPLETA U ORDINARIA     89167\n",
      "MAÑANA                  220359\n",
      "NOCHE                    29041\n",
      "SABATINA - DOMINICAL     15520\n",
      "TARDE                    83148\n",
      "Name: COLE_JORNADA, dtype: int64\n",
      "Elementos null/NaN 0\n",
      "__________________\n",
      "Elementos diferentes de null/NaN: 437235\n",
      "__________________\n",
      "(437235,)\n",
      "None\n"
     ]
    }
   ],
   "source": [
    "c = 'COLE_JORNADA'\n",
    "print(data_2008_2[c].value_counts().sort_index().index)\n",
    "print(data_2008_2[c].value_counts().sort_index())\n",
    "print(missing_data(data_2008_2[c]))"
   ]
  },
  {
   "cell_type": "code",
   "execution_count": 120,
   "metadata": {
    "collapsed": false
   },
   "outputs": [
    {
     "name": "stdout",
     "output_type": "stream",
     "text": [
      "Index(['ACADEMICO', 'ACADEMICO Y TECNICO', 'DESCONOCIDO', 'NORMALISTA',\n",
      "       'TECNICO'],\n",
      "      dtype='object')\n",
      "ACADEMICO              268429\n",
      "ACADEMICO Y TECNICO     82438\n",
      "DESCONOCIDO               234\n",
      "NORMALISTA              10663\n",
      "TECNICO                 75471\n",
      "Name: COLE_CARACTER, dtype: int64\n",
      "Elementos null/NaN 0\n",
      "__________________\n",
      "Elementos diferentes de null/NaN: 437235\n",
      "__________________\n",
      "(437235,)\n",
      "None\n"
     ]
    }
   ],
   "source": [
    "c = 'COLE_CARACTER'\n",
    "print(data_2008_2[c].value_counts().sort_index().index)\n",
    "print(data_2008_2[c].value_counts().sort_index())\n",
    "print(missing_data(data_2008_2[c]))"
   ]
  },
  {
   "cell_type": "code",
   "execution_count": 121,
   "metadata": {
    "collapsed": false
   },
   "outputs": [
    {
     "name": "stdout",
     "output_type": "stream",
     "text": [
      "Float64Index([0.0, 1.0, 2.0, 3.0, 4.0], dtype='float64')\n",
      "0    396862\n",
      "1     33325\n",
      "2      5512\n",
      "3      1500\n",
      "4         4\n",
      "Name: ESTU_VECES_ESTADO, dtype: int64\n",
      "Elementos null/NaN 32\n",
      "__________________\n",
      "Elementos diferentes de null/NaN: 437203\n",
      "__________________\n",
      "(437203,)\n",
      "None\n"
     ]
    }
   ],
   "source": [
    "c = 'ESTU_VECES_ESTADO'\n",
    "print(data_2008_2[c].value_counts().sort_index().index)\n",
    "print(data_2008_2[c].value_counts().sort_index())\n",
    "print(missing_data(data_2008_2[c]))"
   ]
  },
  {
   "cell_type": "code",
   "execution_count": 122,
   "metadata": {
    "collapsed": false
   },
   "outputs": [
    {
     "name": "stdout",
     "output_type": "stream",
     "text": [
      "cant null antes: 32\n",
      "cant null despues: 0\n"
     ]
    }
   ],
   "source": [
    "Do_resamples(data_2008_2, c, float)"
   ]
  },
  {
   "cell_type": "code",
   "execution_count": 123,
   "metadata": {
    "collapsed": false,
    "scrolled": true
   },
   "outputs": [
    {
     "name": "stdout",
     "output_type": "stream",
     "text": [
      "Index(['ABEJORRAL', 'ABREGO', 'ACACIAS', 'ACANDI', 'ACHI', 'AGUACHICA',\n",
      "       'AGUADAS', 'AGUAZUL', 'AGUSTIN CODAZZI', 'AIPE',\n",
      "       ...\n",
      "       'VILLAVICENCIO', 'VILLETA', 'VIOTA', 'YARUMAL', 'YAVARATE', 'YOLOMBO',\n",
      "       'YOPAL', 'ZAPATOCA', 'ZARAGOZA', 'ZIPAQUIRA'],\n",
      "      dtype='object', length=370)\n",
      "ABEJORRAL                     176\n",
      "ABREGO                         90\n",
      "ACACIAS                      1114\n",
      "ACANDI                         72\n",
      "ACHI                          187\n",
      "AGUACHICA                    1041\n",
      "AGUADAS                       255\n",
      "AGUAZUL                       464\n",
      "AGUSTIN CODAZZI               554\n",
      "AIPE                          168\n",
      "ALTO BAUDO (PIE DE PATO)       24\n",
      "AMAGA                         753\n",
      "AMALFI                        348\n",
      "ANDES                         685\n",
      "ANOLAIMA                      206\n",
      "ANSERMA                       682\n",
      "APARTADO                     2064\n",
      "APIA                          155\n",
      "ARACATACA                     334\n",
      "ARAUCA                        958\n",
      "ARAUQUITA                     260\n",
      "ARBELAEZ                      258\n",
      "ARBOLEDAS                     137\n",
      "ARBOLETES                     338\n",
      "ARIGUANI (EL DIFICIL)         313\n",
      "ARJONA                        810\n",
      "ARMENIA                      4186\n",
      "ASTREA                        221\n",
      "ATRATO (YUTO)                 116\n",
      "AYAPEL                        407\n",
      "                             ... \n",
      "TUNJA                        3869\n",
      "TURBACO                       953\n",
      "TURBO                        1100\n",
      "TURMEQUE                      191\n",
      "TUTA                           90\n",
      "UBATE                        1045\n",
      "UNGUIA                         94\n",
      "URRAO                         503\n",
      "VALLEDUPAR                   4804\n",
      "VALPARAISO                    175\n",
      "VEGACHI                       204\n",
      "VELEZ                         584\n",
      "VENADILLO                     202\n",
      "VENTAQUEMADA                  142\n",
      "VIGIA DEL FUERTE               88\n",
      "VILLA DE LEYVA                305\n",
      "VILLA DEL ROSARIO             758\n",
      "VILLA GUAMEZ (LA HORMIGA)     404\n",
      "VILLAGARZON                   113\n",
      "VILLANUEVA                    838\n",
      "VILLAVICENCIO                5650\n",
      "VILLETA                       726\n",
      "VIOTA                         111\n",
      "YARUMAL                       687\n",
      "YAVARATE                       24\n",
      "YOLOMBO                       206\n",
      "YOPAL                        1875\n",
      "ZAPATOCA                      167\n",
      "ZARAGOZA                      195\n",
      "ZIPAQUIRA                    2550\n",
      "Name: ESTU_MCPIO_PRESENTACION, dtype: int64\n",
      "Elementos null/NaN 0\n",
      "__________________\n",
      "Elementos diferentes de null/NaN: 437235\n",
      "__________________\n",
      "(437235,)\n",
      "None\n"
     ]
    }
   ],
   "source": [
    "c = 'ESTU_MCPIO_PRESENTACION'\n",
    "print(data_2008_2[c].value_counts().sort_index().index)\n",
    "print(data_2008_2[c].value_counts().sort_index())\n",
    "print(missing_data(data_2008_2[c]))"
   ]
  },
  {
   "cell_type": "code",
   "execution_count": 124,
   "metadata": {
    "collapsed": false,
    "scrolled": true
   },
   "outputs": [
    {
     "name": "stdout",
     "output_type": "stream",
     "text": [
      "Index(['AMAZONAS', 'ANTIOQUIA', 'ARAUCA', 'ATLÁNTICO', 'BOGOTÁ', 'BOLÍVAR',\n",
      "       'BOYACÁ', 'CALDAS', 'CAQUETÁ', 'CASANARE', 'CAUCA', 'CESAR', 'CHOCÓ',\n",
      "       'CUNDINAMARCA', 'CÓRDOBA', 'GUAINÍA', 'GUAVIARE', 'HUILA', 'LA GUAJIRA',\n",
      "       'MAGDALENA', 'META', 'NARIÑO', 'NORTE SANTANDER', 'PUTUMAYO', 'QUINDÍO',\n",
      "       'RISARALDA', 'SAN ANDRÉS', 'SANTANDER', 'SUCRE', 'TOLIMA', 'VALLE',\n",
      "       'VAUPÉS', 'VICHADA'],\n",
      "      dtype='object')\n",
      "AMAZONAS             678\n",
      "ANTIOQUIA          66036\n",
      "ARAUCA              2577\n",
      "ATLÁNTICO          27708\n",
      "BOGOTÁ             90430\n",
      "BOLÍVAR            21943\n",
      "BOYACÁ             16380\n",
      "CALDAS             11074\n",
      "CAQUETÁ             3201\n",
      "CASANARE            3948\n",
      "CAUCA               9533\n",
      "CESAR              10224\n",
      "CHOCÓ               3680\n",
      "CUNDINAMARCA       29639\n",
      "CÓRDOBA            15710\n",
      "GUAINÍA              148\n",
      "GUAVIARE             632\n",
      "HUILA               9868\n",
      "LA GUAJIRA          6117\n",
      "MAGDALENA          12628\n",
      "META                8994\n",
      "NARIÑO              1823\n",
      "NORTE SANTANDER    14856\n",
      "PUTUMAYO            2315\n",
      "QUINDÍO             6062\n",
      "RISARALDA           9724\n",
      "SAN ANDRÉS           757\n",
      "SANTANDER          23279\n",
      "SUCRE              10173\n",
      "TOLIMA             14764\n",
      "VALLE               1692\n",
      "VAUPÉS               202\n",
      "VICHADA              440\n",
      "Name: ESTU_DEPTO_PRESENTACION, dtype: int64\n",
      "Elementos null/NaN 0\n",
      "__________________\n",
      "Elementos diferentes de null/NaN: 437235\n",
      "__________________\n",
      "(437235,)\n",
      "None\n"
     ]
    }
   ],
   "source": [
    "c = 'ESTU_DEPTO_PRESENTACION'\n",
    "print(data_2008_2[c].value_counts().sort_index().index)\n",
    "print(data_2008_2[c].value_counts().sort_index())\n",
    "print(missing_data(data_2008_2[c]))"
   ]
  },
  {
   "cell_type": "code",
   "execution_count": 125,
   "metadata": {
    "collapsed": false
   },
   "outputs": [
    {
     "name": "stdout",
     "output_type": "stream",
     "text": [
      "Float64Index([0.0, 1.0, 2.0, 3.0], dtype='float64')\n",
      "0     38\n",
      "1     68\n",
      "2     46\n",
      "3    405\n",
      "Name: ESTU_CARRDESEADA_TIPO, dtype: int64\n",
      "Elementos null/NaN 436678\n",
      "__________________\n",
      "Elementos diferentes de null/NaN: 557\n",
      "__________________\n",
      "(557,)\n",
      "None\n"
     ]
    }
   ],
   "source": [
    "c = 'ESTU_CARRDESEADA_TIPO'\n",
    "print(data_2008_2[c].value_counts().sort_index().index)\n",
    "print(data_2008_2[c].value_counts().sort_index())\n",
    "print(missing_data(data_2008_2[c]))"
   ]
  },
  {
   "cell_type": "code",
   "execution_count": 126,
   "metadata": {
    "collapsed": true
   },
   "outputs": [],
   "source": [
    "data_2008_2 = data_2008_2.drop([c], axis=1)"
   ]
  },
  {
   "cell_type": "code",
   "execution_count": 127,
   "metadata": {
    "collapsed": false,
    "scrolled": true
   },
   "outputs": [
    {
     "name": "stdout",
     "output_type": "stream",
     "text": [
      "Float64Index([  1.0,   2.0,   3.0,   4.0,   5.0,   6.0,   7.0,   8.0,   9.0,\n",
      "               11.0,  12.0,  13.0,  18.0,  19.0,  20.0,  21.0,  22.0,  23.0,\n",
      "               24.0,  25.0,  26.0,  27.0,  28.0,  29.0,  30.0,  31.0,  32.0,\n",
      "               33.0,  34.0,  35.0,  36.0,  37.0,  40.0,  41.0,  42.0,  44.0,\n",
      "               45.0,  46.0,  47.0,  48.0,  50.0,  53.0,  55.0,  56.0,  57.0,\n",
      "               58.0,  59.0,  61.0,  62.0,  64.0,  66.0,  68.0,  69.0,  70.0,\n",
      "               99.0, 179.0],\n",
      "             dtype='float64')\n",
      "1      12\n",
      "2       4\n",
      "3       4\n",
      "4       4\n",
      "5       2\n",
      "6       3\n",
      "7      26\n",
      "8       5\n",
      "9      47\n",
      "11     16\n",
      "12     12\n",
      "13     14\n",
      "18     13\n",
      "19      3\n",
      "20     10\n",
      "21      8\n",
      "22      5\n",
      "23      6\n",
      "24      3\n",
      "25      9\n",
      "26      3\n",
      "27     35\n",
      "28      4\n",
      "29     20\n",
      "30     14\n",
      "31     11\n",
      "32      4\n",
      "33      3\n",
      "34      3\n",
      "35      2\n",
      "36      3\n",
      "37      1\n",
      "40      3\n",
      "41     24\n",
      "42      1\n",
      "44      1\n",
      "45     36\n",
      "46      4\n",
      "47     10\n",
      "48      3\n",
      "50      3\n",
      "53      2\n",
      "55      1\n",
      "56      6\n",
      "57     12\n",
      "58     12\n",
      "59     28\n",
      "61      9\n",
      "62      1\n",
      "64      9\n",
      "66     13\n",
      "68      7\n",
      "69      7\n",
      "70      2\n",
      "99     15\n",
      "179     1\n",
      "Name: ESTU_CARRDESEADA_NUCLEO, dtype: int64\n",
      "Elementos null/NaN 436716\n",
      "__________________\n",
      "Elementos diferentes de null/NaN: 519\n",
      "__________________\n",
      "(519,)\n",
      "None\n"
     ]
    }
   ],
   "source": [
    "c = 'ESTU_CARRDESEADA_NUCLEO'\n",
    "print(data_2008_2[c].value_counts().sort_index().index)\n",
    "print(data_2008_2[c].value_counts().sort_index())\n",
    "print(missing_data(data_2008_2[c]))"
   ]
  },
  {
   "cell_type": "code",
   "execution_count": 128,
   "metadata": {
    "collapsed": true
   },
   "outputs": [],
   "source": [
    "data_2008_2 = data_2008_2.drop([c], axis=1)"
   ]
  },
  {
   "cell_type": "code",
   "execution_count": 129,
   "metadata": {
    "collapsed": false,
    "scrolled": true
   },
   "outputs": [
    {
     "name": "stdout",
     "output_type": "stream",
     "text": [
      "Float64Index([1101.0, 1102.0, 1103.0, 1104.0, 1105.0, 1106.0, 1107.0, 1108.0,\n",
      "              1109.0, 1110.0,\n",
      "              ...\n",
      "              9101.0, 9102.0, 9103.0, 9104.0, 9105.0, 9107.0, 9110.0, 9111.0,\n",
      "              9112.0, 9114.0],\n",
      "             dtype='float64', length=255)\n",
      "1101    1011\n",
      "1102      28\n",
      "1103      22\n",
      "1104       4\n",
      "1105      57\n",
      "1106      88\n",
      "1107       1\n",
      "1108      14\n",
      "1109       5\n",
      "1110     236\n",
      "1111      63\n",
      "1112      71\n",
      "1113      28\n",
      "1114     373\n",
      "1115      36\n",
      "1117      27\n",
      "1118       4\n",
      "1119      36\n",
      "1120      12\n",
      "1121       9\n",
      "1123       3\n",
      "1125       1\n",
      "1201     168\n",
      "1202      20\n",
      "1203     125\n",
      "1204     305\n",
      "1205      54\n",
      "1206      29\n",
      "1207      89\n",
      "1208      68\n",
      "        ... \n",
      "4804       3\n",
      "4805       5\n",
      "4806       6\n",
      "4808       3\n",
      "4809       1\n",
      "4810       7\n",
      "4811       2\n",
      "4812       1\n",
      "4813      11\n",
      "4814       1\n",
      "4822       2\n",
      "4825       3\n",
      "4826       2\n",
      "4827       5\n",
      "4828       1\n",
      "4832       1\n",
      "4835       3\n",
      "4838       4\n",
      "5801       1\n",
      "5802       3\n",
      "9101      18\n",
      "9102      11\n",
      "9103      30\n",
      "9104      45\n",
      "9105       8\n",
      "9107       2\n",
      "9110     104\n",
      "9111       3\n",
      "9112       9\n",
      "9114       8\n",
      "Name: ESTU_IES_COD_DESEADA, dtype: int64\n",
      "Elementos null/NaN 432194\n",
      "__________________\n",
      "Elementos diferentes de null/NaN: 5041\n",
      "__________________\n",
      "(5041,)\n",
      "None\n"
     ]
    }
   ],
   "source": [
    "c = 'ESTU_IES_COD_DESEADA'\n",
    "print(data_2008_2[c].value_counts().sort_index().index)\n",
    "print(data_2008_2[c].value_counts().sort_index())\n",
    "print(missing_data(data_2008_2[c]))"
   ]
  },
  {
   "cell_type": "code",
   "execution_count": 130,
   "metadata": {
    "collapsed": false
   },
   "outputs": [
    {
     "name": "stdout",
     "output_type": "stream",
     "text": [
      "cant null antes: 432194\n",
      "cant null despues: 6\n",
      "cant null antes: 6\n",
      "cant null despues: 0\n"
     ]
    }
   ],
   "source": [
    "Do_resamples(data_2008_2, c, float)"
   ]
  },
  {
   "cell_type": "code",
   "execution_count": 131,
   "metadata": {
    "collapsed": false,
    "scrolled": true
   },
   "outputs": [
    {
     "name": "stdout",
     "output_type": "stream",
     "text": [
      "Float64Index([ 5001.0,  5034.0,  5042.0,  5088.0,  5129.0,  5148.0,  5154.0,\n",
      "               5615.0,  5631.0,  8001.0, 11001.0, 13001.0, 15001.0, 15176.0,\n",
      "              15238.0, 15759.0, 17001.0, 17541.0, 18001.0, 19001.0, 20001.0,\n",
      "              20011.0, 23001.0, 25175.0, 25269.0, 25290.0, 25307.0, 25430.0,\n",
      "              25488.0, 25843.0, 27001.0, 41001.0, 44001.0, 47001.0, 50001.0,\n",
      "              52001.0, 54001.0, 54498.0, 54518.0, 63001.0, 66001.0, 66682.0,\n",
      "              68001.0, 68081.0, 68679.0, 68755.0, 70001.0, 70820.0, 73001.0,\n",
      "              73349.0, 76001.0, 76147.0, 76520.0, 76736.0, 76834.0, 85001.0,\n",
      "              86001.0, 86749.0, 88001.0, 91001.0],\n",
      "             dtype='float64')\n",
      "5001      334\n",
      "5034        2\n",
      "5042        1\n",
      "5088        4\n",
      "5129        1\n",
      "5148        1\n",
      "5154        3\n",
      "5615        2\n",
      "5631        2\n",
      "8001       52\n",
      "11001    2262\n",
      "13001      93\n",
      "15001     111\n",
      "15176       5\n",
      "15238       1\n",
      "15759      14\n",
      "17001     132\n",
      "17541       1\n",
      "18001      36\n",
      "19001     257\n",
      "20001      12\n",
      "20011       3\n",
      "23001      36\n",
      "25175      48\n",
      "25269       1\n",
      "25290      25\n",
      "25307       3\n",
      "25430      14\n",
      "25488       7\n",
      "25843       1\n",
      "27001       4\n",
      "41001     381\n",
      "44001      11\n",
      "47001      38\n",
      "50001      41\n",
      "52001      32\n",
      "54001      36\n",
      "54498       3\n",
      "54518      44\n",
      "63001      84\n",
      "66001      80\n",
      "66682       1\n",
      "68001     421\n",
      "68081       3\n",
      "68679       4\n",
      "68755       4\n",
      "70001      19\n",
      "70820       2\n",
      "73001     116\n",
      "73349       3\n",
      "76001     215\n",
      "76147       2\n",
      "76520       4\n",
      "76736       1\n",
      "76834       3\n",
      "85001      14\n",
      "86001       4\n",
      "86749       1\n",
      "88001       5\n",
      "91001       1\n",
      "Name: ESTU_IES_COD_MPIO_DESEADA, dtype: int64\n",
      "Elementos null/NaN 432194\n",
      "__________________\n",
      "Elementos diferentes de null/NaN: 5041\n",
      "__________________\n",
      "(5041,)\n",
      "None\n"
     ]
    }
   ],
   "source": [
    "c = 'ESTU_IES_COD_MPIO_DESEADA'\n",
    "print(data_2008_2[c].value_counts().sort_index().index)\n",
    "print(data_2008_2[c].value_counts().sort_index())\n",
    "print(missing_data(data_2008_2[c]))"
   ]
  },
  {
   "cell_type": "code",
   "execution_count": 132,
   "metadata": {
    "collapsed": true
   },
   "outputs": [],
   "source": [
    "data_2008_2 = data_2008_2.drop([c], axis=1)"
   ]
  },
  {
   "cell_type": "code",
   "execution_count": 133,
   "metadata": {
    "collapsed": false,
    "scrolled": true
   },
   "outputs": [
    {
     "name": "stdout",
     "output_type": "stream",
     "text": [
      "Index(['AGUACHICA', 'ANDES', 'ARMENIA', 'BARRANCABERMEJA', 'BARRANQUILLA',\n",
      "       'BELLO', 'BOGOTÁ D.C.', 'BUCARAMANGA', 'CALDAS', 'CALI',\n",
      "       'CARMEN DE VIBORAL', 'CARTAGENA', 'CARTAGO', 'CAUCASIA', 'CHIA',\n",
      "       'CHIQUINQUIRA', 'CUCUTA', 'DUITAMA', 'FACATATIVA', 'FLORENCIA',\n",
      "       'FUSAGASUGA', 'GIRARDOT', 'HONDA', 'IBAGUE', 'LETICIA', 'MADRID',\n",
      "       'MANIZALES', 'MEDELLIN', 'MOCOA', 'MONTERIA', 'NEIVA', 'NILO', 'OCAÑA',\n",
      "       'PALMIRA', 'PAMPLONA', 'PASTO', 'PENSILVANIA', 'PEREIRA', 'POPAYAN',\n",
      "       'QUIBDO', 'RIOHACHA', 'RIONEGRO', 'SABANETA', 'SAN ANDRES', 'SAN GIL',\n",
      "       'SANTA MARTA', 'SANTA ROSA DE CABAL', 'SANTAFÉ DE ANTIOQUIA', 'SEVILLA',\n",
      "       'SIBUNDOY', 'SINCELEJO', 'SOCORRO', 'SOGAMOSO', 'TOLU', 'TULUA',\n",
      "       'TUNJA', 'UBATE', 'VALLEDUPAR', 'VILLAVICENCIO', 'YOPAL'],\n",
      "      dtype='object')\n",
      "AGUACHICA                  3\n",
      "ANDES                      2\n",
      "ARMENIA                   84\n",
      "BARRANCABERMEJA            3\n",
      "BARRANQUILLA              52\n",
      "BELLO                      4\n",
      "BOGOTÁ D.C.             2262\n",
      "BUCARAMANGA              421\n",
      "CALDAS                     1\n",
      "CALI                     215\n",
      "CARMEN DE VIBORAL          1\n",
      "CARTAGENA                 93\n",
      "CARTAGO                    2\n",
      "CAUCASIA                   3\n",
      "CHIA                      48\n",
      "CHIQUINQUIRA               5\n",
      "CUCUTA                    36\n",
      "DUITAMA                    1\n",
      "FACATATIVA                 1\n",
      "FLORENCIA                 36\n",
      "FUSAGASUGA                25\n",
      "GIRARDOT                   3\n",
      "HONDA                      3\n",
      "IBAGUE                   116\n",
      "LETICIA                    1\n",
      "MADRID                    14\n",
      "MANIZALES                132\n",
      "MEDELLIN                 334\n",
      "MOCOA                      4\n",
      "MONTERIA                  36\n",
      "NEIVA                    381\n",
      "NILO                       7\n",
      "OCAÑA                      3\n",
      "PALMIRA                    4\n",
      "PAMPLONA                  44\n",
      "PASTO                     32\n",
      "PENSILVANIA                1\n",
      "PEREIRA                   80\n",
      "POPAYAN                  257\n",
      "QUIBDO                     4\n",
      "RIOHACHA                  11\n",
      "RIONEGRO                   2\n",
      "SABANETA                   2\n",
      "SAN ANDRES                 5\n",
      "SAN GIL                    4\n",
      "SANTA MARTA               38\n",
      "SANTA ROSA DE CABAL        1\n",
      "SANTAFÉ DE ANTIOQUIA       1\n",
      "SEVILLA                    1\n",
      "SIBUNDOY                   1\n",
      "SINCELEJO                 19\n",
      "SOCORRO                    4\n",
      "SOGAMOSO                  14\n",
      "TOLU                       2\n",
      "TULUA                      3\n",
      "TUNJA                    111\n",
      "UBATE                      1\n",
      "VALLEDUPAR                12\n",
      "VILLAVICENCIO             41\n",
      "YOPAL                     14\n",
      "Name: ESTU_IES_MPIO_DESEADA, dtype: int64\n",
      "Elementos null/NaN 432194\n",
      "__________________\n",
      "Elementos diferentes de null/NaN: 5041\n",
      "__________________\n",
      "(5041,)\n",
      "None\n"
     ]
    }
   ],
   "source": [
    "c = 'ESTU_IES_MPIO_DESEADA'\n",
    "print(data_2008_2[c].value_counts().sort_index().index)\n",
    "print(data_2008_2[c].value_counts().sort_index())\n",
    "print(missing_data(data_2008_2[c]))"
   ]
  },
  {
   "cell_type": "code",
   "execution_count": 134,
   "metadata": {
    "collapsed": false
   },
   "outputs": [
    {
     "name": "stdout",
     "output_type": "stream",
     "text": [
      "cant null antes: 432194\n",
      "cant null despues: 4\n",
      "cant null antes: 4\n",
      "cant null despues: 0\n"
     ]
    }
   ],
   "source": [
    "Do_resamples(data_2008_2, c, str)"
   ]
  },
  {
   "cell_type": "code",
   "execution_count": 135,
   "metadata": {
    "collapsed": false,
    "scrolled": true
   },
   "outputs": [
    {
     "name": "stdout",
     "output_type": "stream",
     "text": [
      "Index(['AMAZONAS', 'ANTIOQUIA', 'ATLÁNTICO', 'BOGOTÁ', 'BOLÍVAR', 'BOYACÁ',\n",
      "       'CALDAS', 'CAQUETÁ', 'CASANARE', 'CAUCA', 'CESAR', 'CHOCÓ',\n",
      "       'CUNDINAMARCA', 'CÓRDOBA', 'HUILA', 'LA GUAJIRA', 'MAGDALENA', 'META',\n",
      "       'NARIÑO', 'NORTE SANTANDER', 'PUTUMAYO', 'QUINDÍO', 'RISARALDA',\n",
      "       'SAN ANDRÉS', 'SANTANDER', 'SUCRE', 'TOLIMA', 'VALLE'],\n",
      "      dtype='object')\n",
      "AMAZONAS              1\n",
      "ANTIOQUIA           350\n",
      "ATLÁNTICO            52\n",
      "BOGOTÁ             2262\n",
      "BOLÍVAR              93\n",
      "BOYACÁ              131\n",
      "CALDAS              133\n",
      "CAQUETÁ              36\n",
      "CASANARE             14\n",
      "CAUCA               257\n",
      "CESAR                15\n",
      "CHOCÓ                 4\n",
      "CUNDINAMARCA         99\n",
      "CÓRDOBA              36\n",
      "HUILA               381\n",
      "LA GUAJIRA           11\n",
      "MAGDALENA            38\n",
      "META                 41\n",
      "NARIÑO               32\n",
      "NORTE SANTANDER      83\n",
      "PUTUMAYO              5\n",
      "QUINDÍO              84\n",
      "RISARALDA            81\n",
      "SAN ANDRÉS            5\n",
      "SANTANDER           432\n",
      "SUCRE                21\n",
      "TOLIMA              119\n",
      "VALLE               225\n",
      "Name: ESTU_IES_DEPT_DESEADA, dtype: int64\n",
      "Elementos null/NaN 432194\n",
      "__________________\n",
      "Elementos diferentes de null/NaN: 5041\n",
      "__________________\n",
      "(5041,)\n",
      "None\n"
     ]
    }
   ],
   "source": [
    "c = 'ESTU_IES_DEPT_DESEADA'\n",
    "print(data_2008_2[c].value_counts().sort_index().index)\n",
    "print(data_2008_2[c].value_counts().sort_index())\n",
    "print(missing_data(data_2008_2[c]))"
   ]
  },
  {
   "cell_type": "code",
   "execution_count": 136,
   "metadata": {
    "collapsed": false
   },
   "outputs": [
    {
     "name": "stdout",
     "output_type": "stream",
     "text": [
      "cant null antes: 432194\n",
      "cant null despues: 0\n"
     ]
    }
   ],
   "source": [
    "Do_resamples(data_2008_2, c, str)"
   ]
  },
  {
   "cell_type": "code",
   "execution_count": 137,
   "metadata": {
    "collapsed": false
   },
   "outputs": [
    {
     "name": "stdout",
     "output_type": "stream",
     "text": [
      "Float64Index([1.0, 2.0, 3.0, 4.0, 5.0, 6.0, 7.0, 8.0], dtype='float64')\n",
      "1     145\n",
      "2     516\n",
      "3    2406\n",
      "4     443\n",
      "5     460\n",
      "6     303\n",
      "7     189\n",
      "8     314\n",
      "Name: ESTU_RAZONINSTITUTO, dtype: int64\n",
      "Elementos null/NaN 432459\n",
      "__________________\n",
      "Elementos diferentes de null/NaN: 4776\n",
      "__________________\n",
      "(4776,)\n",
      "None\n"
     ]
    }
   ],
   "source": [
    "c = 'ESTU_RAZONINSTITUTO'\n",
    "print(data_2008_2[c].value_counts().sort_index().index)\n",
    "print(data_2008_2[c].value_counts().sort_index())\n",
    "print(missing_data(data_2008_2[c]))"
   ]
  },
  {
   "cell_type": "code",
   "execution_count": 138,
   "metadata": {
    "collapsed": false
   },
   "outputs": [
    {
     "name": "stdout",
     "output_type": "stream",
     "text": [
      "cant null antes: 432459\n",
      "cant null despues: 0\n"
     ]
    }
   ],
   "source": [
    "Do_resamples(data_2008_2, c, float)"
   ]
  },
  {
   "cell_type": "code",
   "execution_count": 141,
   "metadata": {
    "collapsed": false,
    "scrolled": true
   },
   "outputs": [
    {
     "name": "stdout",
     "output_type": "stream",
     "text": [
      "Float64Index([    4.0,     5.0,    36.0,    63.0,    87.0,   102.0,   103.0,\n",
      "                108.0,   109.0,   122.0,\n",
      "              ...\n",
      "              22869.0, 22879.0, 22892.0, 22901.0, 22918.0, 22919.0, 22934.0,\n",
      "              22954.0, 22967.0, 23001.0],\n",
      "             dtype='float64', length=1325)\n",
      "4         1\n",
      "5        18\n",
      "36        1\n",
      "63        2\n",
      "87        2\n",
      "102       1\n",
      "103       1\n",
      "108       3\n",
      "109       1\n",
      "122       1\n",
      "125       1\n",
      "147       1\n",
      "225       1\n",
      "306       1\n",
      "314       1\n",
      "410       1\n",
      "460       1\n",
      "491       2\n",
      "522       1\n",
      "643       1\n",
      "656       1\n",
      "657       2\n",
      "703       1\n",
      "727       1\n",
      "728       1\n",
      "869       2\n",
      "1331      1\n",
      "1409      3\n",
      "1703      1\n",
      "1774      1\n",
      "         ..\n",
      "22489     1\n",
      "22497     3\n",
      "22515     1\n",
      "22537     2\n",
      "22546     1\n",
      "22567     2\n",
      "22610     1\n",
      "22658     1\n",
      "22680     1\n",
      "22682     1\n",
      "22696     2\n",
      "22698     3\n",
      "22705     2\n",
      "22707     1\n",
      "22715     1\n",
      "22739     2\n",
      "22755     1\n",
      "22764     1\n",
      "22776     1\n",
      "22852     1\n",
      "22869     1\n",
      "22879     8\n",
      "22892     4\n",
      "22901     1\n",
      "22918     1\n",
      "22919     1\n",
      "22934     2\n",
      "22954     1\n",
      "22967    14\n",
      "23001     1\n",
      "Name: ESTU_CARRDESEADA_COD, dtype: int64\n",
      "Elementos null/NaN 432853\n",
      "__________________\n",
      "Elementos diferentes de null/NaN: 4382\n",
      "__________________\n",
      "(4382,)\n",
      "None\n"
     ]
    }
   ],
   "source": [
    "c = 'ESTU_CARRDESEADA_COD'\n",
    "print(data_2008_2[c].value_counts().sort_index().index)\n",
    "print(data_2008_2[c].value_counts().sort_index())\n",
    "print(missing_data(data_2008_2[c]))"
   ]
  },
  {
   "cell_type": "code",
   "execution_count": 142,
   "metadata": {
    "collapsed": false
   },
   "outputs": [
    {
     "name": "stdout",
     "output_type": "stream",
     "text": [
      "cant null antes: 432853\n",
      "cant null despues: 0\n"
     ]
    }
   ],
   "source": [
    "Do_resamples(data_2008_2, c, float)"
   ]
  },
  {
   "cell_type": "code",
   "execution_count": 143,
   "metadata": {
    "collapsed": false
   },
   "outputs": [
    {
     "name": "stdout",
     "output_type": "stream",
     "text": [
      "Float64Index([1.0, 2.0, 3.0, 4.0, 5.0, 6.0, 7.0], dtype='float64')\n",
      "1    1265\n",
      "2    1675\n",
      "3     972\n",
      "4     334\n",
      "5     376\n",
      "6      95\n",
      "7      27\n",
      "Name: ESTU_CARRDESEADA_RAZON, dtype: int64\n",
      "Elementos null/NaN 432491\n",
      "__________________\n",
      "Elementos diferentes de null/NaN: 4744\n",
      "__________________\n",
      "(4744,)\n",
      "None\n"
     ]
    }
   ],
   "source": [
    "c = 'ESTU_CARRDESEADA_RAZON'\n",
    "print(data_2008_2[c].value_counts().sort_index().index)\n",
    "print(data_2008_2[c].value_counts().sort_index())\n",
    "print(missing_data(data_2008_2[c]))"
   ]
  },
  {
   "cell_type": "code",
   "execution_count": 144,
   "metadata": {
    "collapsed": false
   },
   "outputs": [
    {
     "name": "stdout",
     "output_type": "stream",
     "text": [
      "cant null antes: 432491\n",
      "cant null despues: 1\n",
      "cant null antes: 1\n",
      "cant null despues: 0\n"
     ]
    }
   ],
   "source": [
    "Do_resamples(data_2008_2, c, float)"
   ]
  },
  {
   "cell_type": "markdown",
   "metadata": {},
   "source": [
    "## TARGETS"
   ]
  },
  {
   "cell_type": "code",
   "execution_count": 145,
   "metadata": {
    "collapsed": false,
    "scrolled": true
   },
   "outputs": [
    {
     "name": "stdout",
     "output_type": "stream",
     "text": [
      "Index(['0', '18,33', '18,63', '26,14', '26,43', '31,01', '31,28', '34,68',\n",
      "       '34,94', '37,71', '37,95', '40,34', '40,57', '42,72', '42,93', '44,91',\n",
      "       '45,12', '46,97', '47,18', '48,95', '49,15', '50,87', '51,08', '52,77',\n",
      "       '52,97', '54,66', '54,87', '56,57', '56,79', '58,52', '58,76', '60,56',\n",
      "       '60,8', '62,71', '62,97', '65,04', '65,32', '67,62', '67,92', '70,59',\n",
      "       '70,92', '74,19', '74,56', '78,98', '79,38', '86,73', '87,16'],\n",
      "      dtype='object')\n",
      "0          140\n",
      "18,33      379\n",
      "18,63      384\n",
      "26,14     1856\n",
      "26,43     1772\n",
      "31,01     5159\n",
      "31,28     5290\n",
      "34,68    10834\n",
      "34,94    11197\n",
      "37,71    17845\n",
      "37,95    18526\n",
      "40,34    24272\n",
      "40,57    24922\n",
      "42,72    27969\n",
      "42,93    28765\n",
      "44,91    28137\n",
      "45,12    28619\n",
      "46,97    25798\n",
      "47,18    25897\n",
      "48,95    21797\n",
      "49,15    21744\n",
      "50,87    17302\n",
      "51,08    16628\n",
      "52,77    12865\n",
      "52,97    12576\n",
      "54,66     9350\n",
      "54,87     8765\n",
      "56,57     6291\n",
      "56,79     5831\n",
      "58,52     3974\n",
      "58,76     3585\n",
      "60,56     2321\n",
      "60,8      2161\n",
      "62,71     1288\n",
      "62,97     1082\n",
      "65,04      580\n",
      "65,32      582\n",
      "67,62      261\n",
      "67,92      241\n",
      "70,59      107\n",
      "70,92       89\n",
      "74,19       20\n",
      "74,56       20\n",
      "78,98        6\n",
      "79,38        5\n",
      "86,73        2\n",
      "87,16        1\n",
      "Name: PUNT_LENGUAJE, dtype: int64\n",
      "Elementos null/NaN 0\n",
      "__________________\n",
      "Elementos diferentes de null/NaN: 437235\n",
      "__________________\n",
      "(437235,)\n",
      "None\n"
     ]
    }
   ],
   "source": [
    "c = 'PUNT_LENGUAJE'\n",
    "print(data_2008_2[c].value_counts().sort_index().index)\n",
    "print(data_2008_2[c].value_counts().sort_index())\n",
    "print(missing_data(data_2008_2[c]))"
   ]
  },
  {
   "cell_type": "code",
   "execution_count": 146,
   "metadata": {
    "collapsed": true
   },
   "outputs": [],
   "source": [
    "clean_target(data_2008_2, c)"
   ]
  },
  {
   "cell_type": "code",
   "execution_count": 147,
   "metadata": {
    "collapsed": false,
    "scrolled": true
   },
   "outputs": [
    {
     "name": "stdout",
     "output_type": "stream",
     "text": [
      "Index(['0', '13,06', '13,16', '22,52', '22,6', '28,38', '28,43', '32,79',\n",
      "       '32,82', '36,42', '39,55', '39,56', '42,36', '42,39', '44,96', '45,01',\n",
      "       '47,41', '47,48', '49,77', '49,84', '52,06', '52,15', '54,33', '54,43',\n",
      "       '56,59', '56,71', '58,89', '59,02', '61,26', '61,4', '63,73', '63,87',\n",
      "       '66,35', '66,5', '69,18', '69,34', '72,34', '72,5', '75,98', '76,15',\n",
      "       '80,4', '80,57', '86,27', '86,45', '95,75', '95,93'],\n",
      "      dtype='object')\n",
      "0          151\n",
      "13,06      634\n",
      "13,16      416\n",
      "22,52     2523\n",
      "22,6      1867\n",
      "28,38     6872\n",
      "28,43     5376\n",
      "32,79    13874\n",
      "32,82    11498\n",
      "36,42    41396\n",
      "39,55    26730\n",
      "39,56    28148\n",
      "42,36    30433\n",
      "42,39    30945\n",
      "44,96    30207\n",
      "45,01    29706\n",
      "47,41    26822\n",
      "47,48    25432\n",
      "49,77    21252\n",
      "49,84    19624\n",
      "52,06    15559\n",
      "52,15    14011\n",
      "54,33    10597\n",
      "54,43     9295\n",
      "56,59     6872\n",
      "56,71     6108\n",
      "58,89     4372\n",
      "59,02     3713\n",
      "61,26     2669\n",
      "61,4      2409\n",
      "63,73     1618\n",
      "63,87     1560\n",
      "66,35     1018\n",
      "66,5       943\n",
      "69,18      633\n",
      "69,34      589\n",
      "72,34      387\n",
      "72,5       304\n",
      "75,98      200\n",
      "76,15      177\n",
      "80,4       113\n",
      "80,57       95\n",
      "86,27       41\n",
      "86,45       35\n",
      "95,75        7\n",
      "95,93        4\n",
      "Name: PUNT_MATEMATICAS, dtype: int64\n",
      "Elementos null/NaN 0\n",
      "__________________\n",
      "Elementos diferentes de null/NaN: 437235\n",
      "__________________\n",
      "(437235,)\n",
      "None\n"
     ]
    }
   ],
   "source": [
    "c = 'PUNT_MATEMATICAS'\n",
    "print(data_2008_2[c].value_counts().sort_index().index)\n",
    "print(data_2008_2[c].value_counts().sort_index())\n",
    "print(missing_data(data_2008_2[c]))"
   ]
  },
  {
   "cell_type": "code",
   "execution_count": 148,
   "metadata": {
    "collapsed": true
   },
   "outputs": [],
   "source": [
    "clean_target(data_2008_2, c)"
   ]
  },
  {
   "cell_type": "code",
   "execution_count": 149,
   "metadata": {
    "collapsed": false,
    "scrolled": true
   },
   "outputs": [
    {
     "name": "stdout",
     "output_type": "stream",
     "text": [
      "Index(['0', '16,84', '16,97', '22,63', '22,77', '27', '27,15', '30,59',\n",
      "       '30,76', '33,7', '33,88', '36,49', '36,68', '39,05', '39,24', '41,43',\n",
      "       '41,64', '43,7', '43,91', '45,87', '46,09', '47,97', '48,2', '50,02',\n",
      "       '50,26', '52,05', '52,28', '54,06', '54,29', '56,07', '56,29', '58,1',\n",
      "       '58,3', '60,17', '60,35', '62,29', '62,44', '64,48', '64,6', '66,78',\n",
      "       '66,85', '69,22', '69,23', '7,53', '7,65', '71,78', '71,85', '74,56',\n",
      "       '74,73', '77,68', '77,97', '81,29', '81,73'],\n",
      "      dtype='object')\n",
      "0           25\n",
      "16,84      204\n",
      "16,97      405\n",
      "22,63      660\n",
      "22,77     1368\n",
      "27        1970\n",
      "27,15     3833\n",
      "30,59     4344\n",
      "30,76     7790\n",
      "33,7      7883\n",
      "33,88    12699\n",
      "36,49    12009\n",
      "36,68    18399\n",
      "39,05    16558\n",
      "39,24    23197\n",
      "41,43    19624\n",
      "41,64    25931\n",
      "43,7     21610\n",
      "43,91    26561\n",
      "45,87    21639\n",
      "46,09    25409\n",
      "47,97    20504\n",
      "48,2     22902\n",
      "50,02    18796\n",
      "50,26    19243\n",
      "52,05    15554\n",
      "52,28    15610\n",
      "54,06    12405\n",
      "54,29    11647\n",
      "56,07     9150\n",
      "56,29     8508\n",
      "58,1      6684\n",
      "58,3      5771\n",
      "60,17     4391\n",
      "60,35     3691\n",
      "62,29     2581\n",
      "62,44     2221\n",
      "64,48     1509\n",
      "64,6      1215\n",
      "66,78      843\n",
      "66,85      624\n",
      "69,22      401\n",
      "69,23      291\n",
      "7,53        46\n",
      "7,65        58\n",
      "71,78      135\n",
      "71,85      171\n",
      "74,56       55\n",
      "74,73       60\n",
      "77,68       16\n",
      "77,97       27\n",
      "81,29        1\n",
      "81,73        7\n",
      "Name: PUNT_C_SOCIALES, dtype: int64\n",
      "Elementos null/NaN 0\n",
      "__________________\n",
      "Elementos diferentes de null/NaN: 437235\n",
      "__________________\n",
      "(437235,)\n",
      "None\n"
     ]
    }
   ],
   "source": [
    "c = 'PUNT_C_SOCIALES'\n",
    "print(data_2008_2[c].value_counts().sort_index().index)\n",
    "print(data_2008_2[c].value_counts().sort_index())\n",
    "print(missing_data(data_2008_2[c]))"
   ]
  },
  {
   "cell_type": "code",
   "execution_count": 150,
   "metadata": {
    "collapsed": true
   },
   "outputs": [],
   "source": [
    "clean_target(data_2008_2, c)"
   ]
  },
  {
   "cell_type": "code",
   "execution_count": 151,
   "metadata": {
    "collapsed": false,
    "scrolled": true
   },
   "outputs": [
    {
     "name": "stdout",
     "output_type": "stream",
     "text": [
      "Index(['0', '10,53', '10,87', '19,66', '20,02', '25,39', '25,75', '29,73',\n",
      "       '30,1', '33,32', '33,69', '36,44', '36,82', '39,26', '39,64', '41,86',\n",
      "       '42,25', '44,33', '44,72', '46,69', '47,08', '48,98', '49,38', '51,25',\n",
      "       '51,65', '53,52', '53,92', '55,82', '56,21', '58,18', '58,57', '60,63',\n",
      "       '61,02', '63,23', '63,62', '66,04', '66,43', '69,15', '69,53', '72,72'],\n",
      "      dtype='object')\n",
      "0           96\n",
      "10,53      208\n",
      "10,87      428\n",
      "19,66     1098\n",
      "20,02     1868\n",
      "25,39     3561\n",
      "25,75     5691\n",
      "29,73     8454\n",
      "30,1     12469\n",
      "33,32    15537\n",
      "33,69    21597\n",
      "36,44    23404\n",
      "36,82    30734\n",
      "39,26    29499\n",
      "39,64    35883\n",
      "41,86    31639\n",
      "42,25    36733\n",
      "44,33    28920\n",
      "44,72    32267\n",
      "46,69    22755\n",
      "47,08    24722\n",
      "48,98    16105\n",
      "49,38    16737\n",
      "51,25     9702\n",
      "51,65     9889\n",
      "53,52     5064\n",
      "53,92     5059\n",
      "55,82     2281\n",
      "56,21     2227\n",
      "58,18      944\n",
      "58,57      863\n",
      "60,63      301\n",
      "61,02      271\n",
      "63,23       97\n",
      "63,62       76\n",
      "66,04       22\n",
      "66,43       23\n",
      "69,15        5\n",
      "69,53        4\n",
      "72,72        2\n",
      "Name: PUNT_FILOSOFIA, dtype: int64\n",
      "Elementos null/NaN 0\n",
      "__________________\n",
      "Elementos diferentes de null/NaN: 437235\n",
      "__________________\n",
      "(437235,)\n",
      "None\n"
     ]
    }
   ],
   "source": [
    "c = 'PUNT_FILOSOFIA'\n",
    "print(data_2008_2[c].value_counts().sort_index().index)\n",
    "print(data_2008_2[c].value_counts().sort_index())\n",
    "print(missing_data(data_2008_2[c]))"
   ]
  },
  {
   "cell_type": "code",
   "execution_count": 152,
   "metadata": {
    "collapsed": true
   },
   "outputs": [],
   "source": [
    "clean_target(data_2008_2, c)"
   ]
  },
  {
   "cell_type": "code",
   "execution_count": 153,
   "metadata": {
    "collapsed": false,
    "scrolled": true
   },
   "outputs": [
    {
     "name": "stdout",
     "output_type": "stream",
     "text": [
      "Index(['0', '16,56', '16,64', '24,14', '24,21', '28,87', '28,92', '32,43',\n",
      "       '32,48', '35,37', '35,42', '37,93', '37,97', '40,23', '40,27', '42,37',\n",
      "       '42,4', '44,38', '44,41', '46,32', '46,34', '48,2', '48,23', '50,07',\n",
      "       '50,09', '51,94', '51,96', '53,84', '53,85', '55,79', '55,8', '57,84',\n",
      "       '60', '60,01', '62,35', '62,36', '64,97', '64,99', '67,99', '68,01',\n",
      "       '71,66', '71,69', '76,52', '76,56', '84,29', '84,33', '96,94', '96,98'],\n",
      "      dtype='object')\n",
      "0           72\n",
      "16,56      104\n",
      "16,64      141\n",
      "24,14      670\n",
      "24,21      567\n",
      "28,87     2071\n",
      "28,92     2045\n",
      "32,43     5322\n",
      "32,48     5241\n",
      "35,37    10237\n",
      "35,42    10324\n",
      "37,93    16788\n",
      "37,97    16927\n",
      "40,23    22603\n",
      "40,27    22832\n",
      "42,37    26581\n",
      "42,4     26757\n",
      "44,38    27374\n",
      "44,41    27922\n",
      "46,32    25993\n",
      "46,34    25840\n",
      "48,2     22325\n",
      "48,23    22057\n",
      "50,07    17754\n",
      "50,09    17577\n",
      "51,94    13513\n",
      "51,96    13325\n",
      "53,84     9891\n",
      "53,85     9429\n",
      "55,79     6629\n",
      "55,8      6692\n",
      "57,84     8896\n",
      "60        2863\n",
      "60,01     2900\n",
      "62,35     1691\n",
      "62,36     1644\n",
      "64,97      980\n",
      "64,99      963\n",
      "67,99      516\n",
      "68,01      525\n",
      "71,66      223\n",
      "71,69      220\n",
      "76,52       81\n",
      "76,56       84\n",
      "84,29       16\n",
      "84,33       25\n",
      "96,94        2\n",
      "96,98        3\n",
      "Name: PUNT_BIOLOGIA, dtype: int64\n",
      "Elementos null/NaN 0\n",
      "__________________\n",
      "Elementos diferentes de null/NaN: 437235\n",
      "__________________\n",
      "(437235,)\n",
      "None\n"
     ]
    }
   ],
   "source": [
    "c = 'PUNT_BIOLOGIA'\n",
    "print(data_2008_2[c].value_counts().sort_index().index)\n",
    "print(data_2008_2[c].value_counts().sort_index())\n",
    "print(missing_data(data_2008_2[c]))"
   ]
  },
  {
   "cell_type": "code",
   "execution_count": 154,
   "metadata": {
    "collapsed": true
   },
   "outputs": [],
   "source": [
    "clean_target(data_2008_2, c)"
   ]
  },
  {
   "cell_type": "code",
   "execution_count": 155,
   "metadata": {
    "collapsed": false,
    "scrolled": true
   },
   "outputs": [
    {
     "name": "stdout",
     "output_type": "stream",
     "text": [
      "Index(['0', '19,2', '20', '26,06', '26,9', '30,34', '31,22', '33,56', '34,48',\n",
      "       '36,21', '37,18', '38,52', '39,51', '40,58', '41,62', '42,49', '43,56',\n",
      "       '44,28', '45,38', '46', '47,13', '47,67', '48,83', '49,3', '50,5',\n",
      "       '50,94', '52,16', '52,59', '53,84', '54,29', '55,57', '56,05', '57,36',\n",
      "       '57,92', '59,25', '59,94', '61,3', '62,19', '63,57', '64,78', '66,18',\n",
      "       '67,93', '69,35', '72,11', '73,56', '78,87', '80,33', '90,06', '91,53'],\n",
      "      dtype='object')\n",
      "0          455\n",
      "19,2       304\n",
      "20         701\n",
      "26,06     1238\n",
      "26,9      2253\n",
      "30,34     3300\n",
      "31,22     5805\n",
      "33,56     6957\n",
      "34,48    10818\n",
      "36,21    11931\n",
      "37,18    16473\n",
      "38,52    17303\n",
      "39,51    21093\n",
      "40,58    22084\n",
      "41,62    24470\n",
      "42,49    25018\n",
      "43,56    25334\n",
      "44,28    25494\n",
      "45,38    24274\n",
      "46       23715\n",
      "47,13    21193\n",
      "47,67    20733\n",
      "48,83    17768\n",
      "49,3     17079\n",
      "50,5     14528\n",
      "50,94    13378\n",
      "52,16    10868\n",
      "52,59    10052\n",
      "53,84     7827\n",
      "54,29     7192\n",
      "55,57     5612\n",
      "56,05     4846\n",
      "57,36     3678\n",
      "57,92     3252\n",
      "59,25     2476\n",
      "59,94     2077\n",
      "61,3      1536\n",
      "62,19     1133\n",
      "63,57      898\n",
      "64,78      674\n",
      "66,18      511\n",
      "67,93      314\n",
      "69,35      242\n",
      "72,11      136\n",
      "73,56      107\n",
      "78,87       58\n",
      "80,33       30\n",
      "90,06        8\n",
      "91,53        9\n",
      "Name: PUNT_QUIMICA, dtype: int64\n",
      "Elementos null/NaN 0\n",
      "__________________\n",
      "Elementos diferentes de null/NaN: 437235\n",
      "__________________\n",
      "(437235,)\n",
      "None\n"
     ]
    }
   ],
   "source": [
    "c = 'PUNT_QUIMICA'\n",
    "print(data_2008_2[c].value_counts().sort_index().index)\n",
    "print(data_2008_2[c].value_counts().sort_index())\n",
    "print(missing_data(data_2008_2[c]))"
   ]
  },
  {
   "cell_type": "code",
   "execution_count": 156,
   "metadata": {
    "collapsed": true
   },
   "outputs": [],
   "source": [
    "clean_target(data_2008_2, c)"
   ]
  },
  {
   "cell_type": "code",
   "execution_count": 158,
   "metadata": {
    "collapsed": false,
    "scrolled": true
   },
   "outputs": [
    {
     "name": "stdout",
     "output_type": "stream",
     "text": [
      "Index(['0', '14,67', '15,39', '24,37', '25,11', '30,4', '31,16', '34,94',\n",
      "       '35,72', '38,68', '39,48', '41,92', '42,75', '44,84', '45,69', '47,54',\n",
      "       '48,41', '50,09', '50,98', '52,53', '53,45', '54,91', '55,85', '57,26',\n",
      "       '58,23', '59,61', '60,61', '61,99', '63,02', '64,43', '65,49', '66,98',\n",
      "       '68,07', '69,68', '70,81', '72,61', '73,76', '75,87', '77,05', '79,62',\n",
      "       '80,82'],\n",
      "      dtype='object')\n",
      "0         1453\n",
      "14,67      759\n",
      "15,39     1096\n",
      "24,37     3201\n",
      "25,11     4226\n",
      "30,4      8847\n",
      "31,16    11183\n",
      "34,94    18488\n",
      "35,72    21487\n",
      "38,68    29291\n",
      "39,48    31811\n",
      "41,92    36904\n",
      "42,75    37846\n",
      "44,84    37591\n",
      "45,69    36841\n",
      "47,54    32158\n",
      "48,41    29616\n",
      "50,09    22885\n",
      "50,98    20552\n",
      "52,53    14274\n",
      "53,45    11949\n",
      "54,91     7467\n",
      "55,85     6387\n",
      "57,26     3580\n",
      "58,23     2997\n",
      "59,61     1417\n",
      "60,61     1249\n",
      "61,99      567\n",
      "63,02      481\n",
      "64,43      193\n",
      "65,49      186\n",
      "66,98       84\n",
      "68,07       71\n",
      "69,68       36\n",
      "70,81       33\n",
      "72,61        6\n",
      "73,76        8\n",
      "75,87        3\n",
      "77,05        6\n",
      "79,62        3\n",
      "80,82        3\n",
      "Name: PUNT_FISICA, dtype: int64\n",
      "Elementos null/NaN 0\n",
      "__________________\n",
      "Elementos diferentes de null/NaN: 437235\n",
      "__________________\n",
      "(437235,)\n",
      "None\n"
     ]
    }
   ],
   "source": [
    "c = 'PUNT_FISICA'\n",
    "print(data_2008_2[c].value_counts().sort_index().index)\n",
    "print(data_2008_2[c].value_counts().sort_index())\n",
    "print(missing_data(data_2008_2[c]))"
   ]
  },
  {
   "cell_type": "code",
   "execution_count": 159,
   "metadata": {
    "collapsed": true
   },
   "outputs": [],
   "source": [
    "clean_target(data_2008_2, c)"
   ]
  },
  {
   "cell_type": "code",
   "execution_count": 160,
   "metadata": {
    "collapsed": false,
    "scrolled": true
   },
   "outputs": [
    {
     "name": "stdout",
     "output_type": "stream",
     "text": [
      "Index(['0', '100,34', '111,94', '13,96', '17,91', '21,08', '23,77', '26,13',\n",
      "       '28,24', '30,17', '31,96', '33,63', '35,21', '36,71', '37,51', '38,31',\n",
      "       '39,11', '40,89', '42,2', '43,48', '44,74', '45,98', '47,21', '48,43',\n",
      "       '49,65', '5', '52,09', '53,32', '54,57', '55,84', '57,13', '58,45',\n",
      "       '59,81', '65,86', '67,6', '69,48', '71,53', '73,83', '76,45', '79,55',\n",
      "       '8,61', '80,55', '81,05', '83,41', '88,67', '97,34'],\n",
      "      dtype='object')\n",
      "0           277\n",
      "100,34      444\n",
      "111,94      133\n",
      "13,96        62\n",
      "17,91       243\n",
      "21,08       741\n",
      "23,77      1920\n",
      "26,13      4309\n",
      "28,24      8742\n",
      "30,17     14659\n",
      "31,96     21971\n",
      "33,63     29770\n",
      "35,21     35920\n",
      "36,71     39516\n",
      "37,51     40160\n",
      "38,31     37871\n",
      "39,11     33579\n",
      "40,89     28284\n",
      "42,2      23346\n",
      "43,48     18278\n",
      "44,74     14713\n",
      "45,98     11773\n",
      "47,21      9479\n",
      "48,43      7909\n",
      "49,65      6755\n",
      "5             9\n",
      "52,09      5767\n",
      "53,32      5097\n",
      "54,57      4375\n",
      "55,84      3926\n",
      "57,13      3478\n",
      "58,45      3078\n",
      "59,81      2697\n",
      "65,86      2506\n",
      "67,6       2255\n",
      "69,48      1975\n",
      "71,53      1751\n",
      "73,83      1688\n",
      "76,45      1535\n",
      "79,55      1319\n",
      "8,61         19\n",
      "80,55      1251\n",
      "81,05      1170\n",
      "83,41       978\n",
      "88,67       823\n",
      "97,34       684\n",
      "Name: PUNT_INGLES, dtype: int64\n",
      "Elementos null/NaN 0\n",
      "__________________\n",
      "Elementos diferentes de null/NaN: 437235\n",
      "__________________\n",
      "(437235,)\n",
      "None\n"
     ]
    }
   ],
   "source": [
    "c = 'PUNT_INGLES'\n",
    "print(data_2008_2[c].value_counts().sort_index().index)\n",
    "print(data_2008_2[c].value_counts().sort_index())\n",
    "print(missing_data(data_2008_2[c]))"
   ]
  },
  {
   "cell_type": "code",
   "execution_count": 161,
   "metadata": {
    "collapsed": true
   },
   "outputs": [],
   "source": [
    "clean_target(data_2008_2, c)"
   ]
  },
  {
   "cell_type": "code",
   "execution_count": 162,
   "metadata": {
    "collapsed": false
   },
   "outputs": [
    {
     "name": "stdout",
     "output_type": "stream",
     "text": [
      "Index(['A-', 'A1', 'A1 ', 'A2', 'A2 ', 'B+', 'B1'], dtype='object')\n",
      "A-     269768\n",
      "A1     120536\n",
      "A1          1\n",
      "A2      28417\n",
      "A2          1\n",
      "B+       3062\n",
      "B1      15450\n",
      "Name: DESEMP_INGLES, dtype: int64\n",
      "Elementos null/NaN 0\n",
      "__________________\n",
      "Elementos diferentes de null/NaN: 437235\n",
      "__________________\n",
      "(437235,)\n",
      "None\n"
     ]
    }
   ],
   "source": [
    "c = 'DESEMP_INGLES'\n",
    "print(data_2008_2[c].value_counts().sort_index().index)\n",
    "print(data_2008_2[c].value_counts().sort_index())\n",
    "print(missing_data(data_2008_2[c]))"
   ]
  },
  {
   "cell_type": "code",
   "execution_count": 163,
   "metadata": {
    "collapsed": true
   },
   "outputs": [],
   "source": [
    "data_2008_2[c] = data_2008_2[c].replace('A1 ', 'A1')\n",
    "data_2008_2[c] = data_2008_2[c].replace('A2 ', 'A2')"
   ]
  },
  {
   "cell_type": "code",
   "execution_count": 164,
   "metadata": {
    "collapsed": false
   },
   "outputs": [
    {
     "name": "stdout",
     "output_type": "stream",
     "text": [
      "Index(['PROFUNDIZACIÓN EN BIOLOGÍA', 'PROFUNDIZACIÓN EN CIENCIAS SOCIALES',\n",
      "       'PROFUNDIZACIÓN EN LENGUAJE', 'PROFUNDIZACIÓN EN MATEMÁTICA'],\n",
      "      dtype='object')\n",
      "PROFUNDIZACIÓN EN BIOLOGÍA             125864\n",
      "PROFUNDIZACIÓN EN CIENCIAS SOCIALES     90224\n",
      "PROFUNDIZACIÓN EN LENGUAJE             157293\n",
      "PROFUNDIZACIÓN EN MATEMÁTICA            63854\n",
      "Name: NOMBRE_PROFUNDIZACION, dtype: int64\n",
      "Elementos null/NaN 0\n",
      "__________________\n",
      "Elementos diferentes de null/NaN: 437235\n",
      "__________________\n",
      "(437235,)\n",
      "None\n"
     ]
    }
   ],
   "source": [
    "c = 'NOMBRE_PROFUNDIZACION'\n",
    "print(data_2008_2[c].value_counts().sort_index().index)\n",
    "print(data_2008_2[c].value_counts().sort_index())\n",
    "print(missing_data(data_2008_2[c]))"
   ]
  },
  {
   "cell_type": "code",
   "execution_count": 165,
   "metadata": {
    "collapsed": false,
    "scrolled": true
   },
   "outputs": [
    {
     "name": "stdout",
     "output_type": "stream",
     "text": [
      "Index(['0', '0,9', '10', '2,1', '2,3', '2,4', '2,9', '3,1', '3,2', '3,5',\n",
      "       '3,7', '3,8', '4', '4,1', '4,2', '4,4', '4,5', '4,6', '4,7', '4,8', '5',\n",
      "       '5,2', '5,3', '5,4', '5,5', '5,6', '5,8', '5,9', '6', '6,2', '6,3',\n",
      "       '6,4', '6,5', '6,6', '6,7', '6,8', '6,9', '7', '7,1', '7,5', '7,7', '8',\n",
      "       '8,5', '8,6'],\n",
      "      dtype='object')\n",
      "0       1753\n",
      "0,9      754\n",
      "10       255\n",
      "2,1     2126\n",
      "2,3      529\n",
      "2,4     2945\n",
      "2,9     4111\n",
      "3,1     1953\n",
      "3,2     9429\n",
      "3,5    10742\n",
      "3,7     4210\n",
      "3,8    18392\n",
      "4       8632\n",
      "4,1     6800\n",
      "4,2    37996\n",
      "4,4    10596\n",
      "4,5     8863\n",
      "4,6    26941\n",
      "4,7    22227\n",
      "4,8    22026\n",
      "5      51155\n",
      "5,2    22091\n",
      "5,3    18294\n",
      "5,4    25197\n",
      "5,5     7788\n",
      "5,6    42757\n",
      "5,8     5620\n",
      "5,9    18284\n",
      "6       9481\n",
      "6,2     7989\n",
      "6,3     5340\n",
      "6,4     6151\n",
      "6,5     1517\n",
      "6,6     2343\n",
      "6,7     2677\n",
      "6,8      532\n",
      "6,9     3132\n",
      "7       1339\n",
      "7,1     1112\n",
      "7,5     1181\n",
      "7,7     1141\n",
      "8          4\n",
      "8,5      293\n",
      "8,6      537\n",
      "Name: PUNT_PROFUNDIZACION, dtype: int64\n",
      "Elementos null/NaN 0\n",
      "__________________\n",
      "Elementos diferentes de null/NaN: 437235\n",
      "__________________\n",
      "(437235,)\n",
      "None\n"
     ]
    }
   ],
   "source": [
    "c = 'PUNT_PROFUNDIZACION'\n",
    "print(data_2008_2[c].value_counts().sort_index().index)\n",
    "print(data_2008_2[c].value_counts().sort_index())\n",
    "print(missing_data(data_2008_2[c]))"
   ]
  },
  {
   "cell_type": "code",
   "execution_count": 166,
   "metadata": {
    "collapsed": true
   },
   "outputs": [],
   "source": [
    "clean_target(data_2008_2, c)"
   ]
  },
  {
   "cell_type": "code",
   "execution_count": 167,
   "metadata": {
    "collapsed": false
   },
   "outputs": [
    {
     "name": "stdout",
     "output_type": "stream",
     "text": [
      "Index(['GB', 'I', 'I  ', 'II', 'II ', 'III'], dtype='object')\n",
      "GB     218829\n",
      "I      168250\n",
      "I           1\n",
      "II      43760\n",
      "II          1\n",
      "III      6394\n",
      "Name: DESEMP_PROFUNDIZACION, dtype: int64\n",
      "Elementos null/NaN 0\n",
      "__________________\n",
      "Elementos diferentes de null/NaN: 437235\n",
      "__________________\n",
      "(437235,)\n",
      "None\n"
     ]
    }
   ],
   "source": [
    "c = 'DESEMP_PROFUNDIZACION'\n",
    "print(data_2008_2[c].value_counts().sort_index().index)\n",
    "print(data_2008_2[c].value_counts().sort_index())\n",
    "print(missing_data(data_2008_2[c]))"
   ]
  },
  {
   "cell_type": "code",
   "execution_count": 168,
   "metadata": {
    "collapsed": true
   },
   "outputs": [],
   "source": [
    "data_2008_2[c] = data_2008_2[c].replace('I  ', 'I')\n",
    "data_2008_2[c] = data_2008_2[c].replace('II ', 'II')"
   ]
  },
  {
   "cell_type": "code",
   "execution_count": 169,
   "metadata": {
    "collapsed": false
   },
   "outputs": [
    {
     "name": "stdout",
     "output_type": "stream",
     "text": [
      "Index(['MEDIO AMBIENTE', 'VIOLENCIA Y SOCIEDAD'], dtype='object')\n",
      "MEDIO AMBIENTE          237598\n",
      "VIOLENCIA Y SOCIEDAD    199637\n",
      "Name: NOMBRE_INTERDISCIPLINAR, dtype: int64\n",
      "Elementos null/NaN 0\n",
      "__________________\n",
      "Elementos diferentes de null/NaN: 437235\n",
      "__________________\n",
      "(437235,)\n",
      "None\n"
     ]
    }
   ],
   "source": [
    "c = 'NOMBRE_INTERDISCIPLINAR'\n",
    "print(data_2008_2[c].value_counts().sort_index().index)\n",
    "print(data_2008_2[c].value_counts().sort_index())\n",
    "print(missing_data(data_2008_2[c]))"
   ]
  },
  {
   "cell_type": "code",
   "execution_count": 170,
   "metadata": {
    "collapsed": false,
    "scrolled": true
   },
   "outputs": [
    {
     "name": "stdout",
     "output_type": "stream",
     "text": [
      "Index(['0', '15,94', '25,32', '31,34', '36,02', '40', '43,59', '43,97', '46,7',\n",
      "       '46,98', '48,46', '49,84', '50,3', '51,02', '52,11', '53,13', '53,66',\n",
      "       '54,15', '55,18', '56,27', '57,2', '57,47', '58,87', '60,66', '61,08',\n",
      "       '63,4', '65,62', '67,74', '71,45', '80,55', '95,26'],\n",
      "      dtype='object')\n",
      "0         2136\n",
      "15,94     3427\n",
      "25,32     9878\n",
      "31,34    18175\n",
      "36,02    26051\n",
      "40       29708\n",
      "43,59    29033\n",
      "43,97     6014\n",
      "46,7     17063\n",
      "46,98    25471\n",
      "48,46    30546\n",
      "49,84    40625\n",
      "50,3     20524\n",
      "51,02    42589\n",
      "52,11    36622\n",
      "53,13    27021\n",
      "53,66    15311\n",
      "54,15    17365\n",
      "55,18     9763\n",
      "56,27     5252\n",
      "57,2     10496\n",
      "57,47     2251\n",
      "58,87      834\n",
      "60,66      253\n",
      "61,08     6231\n",
      "63,4        59\n",
      "65,62     3084\n",
      "67,74        6\n",
      "71,45     1130\n",
      "80,55      279\n",
      "95,26       38\n",
      "Name: PUNT_INTERDISCIPLINAR, dtype: int64\n",
      "Elementos null/NaN 0\n",
      "__________________\n",
      "Elementos diferentes de null/NaN: 437235\n",
      "__________________\n",
      "(437235,)\n",
      "None\n"
     ]
    }
   ],
   "source": [
    "c = 'PUNT_INTERDISCIPLINAR'\n",
    "print(data_2008_2[c].value_counts().sort_index().index)\n",
    "print(data_2008_2[c].value_counts().sort_index())\n",
    "print(missing_data(data_2008_2[c]))"
   ]
  },
  {
   "cell_type": "code",
   "execution_count": 171,
   "metadata": {
    "collapsed": true
   },
   "outputs": [],
   "source": [
    "clean_target(data_2008_2, c)"
   ]
  },
  {
   "cell_type": "code",
   "execution_count": 172,
   "metadata": {
    "collapsed": false,
    "scrolled": true
   },
   "outputs": [
    {
     "name": "stdout",
     "output_type": "stream",
     "text": [
      "Int64Index([  1,   2,   3,   4,   5,   6,   7,   8,   9,  10,\n",
      "            ...\n",
      "            954, 955, 956, 957, 958, 959, 960, 961, 962, 963],\n",
      "           dtype='int64', length=963)\n",
      "1      402\n",
      "2      392\n",
      "3      368\n",
      "4      388\n",
      "5      376\n",
      "6      380\n",
      "7      375\n",
      "8      378\n",
      "9      380\n",
      "10     372\n",
      "11     369\n",
      "12     399\n",
      "13     387\n",
      "14     395\n",
      "15     387\n",
      "16     404\n",
      "17     409\n",
      "18     390\n",
      "19     386\n",
      "20     399\n",
      "21     372\n",
      "22     400\n",
      "23     389\n",
      "24     403\n",
      "25     393\n",
      "26     406\n",
      "27     405\n",
      "28     413\n",
      "29     384\n",
      "30     401\n",
      "      ... \n",
      "934    451\n",
      "935    442\n",
      "936    440\n",
      "937    444\n",
      "938    446\n",
      "939    437\n",
      "940    454\n",
      "941    433\n",
      "942    439\n",
      "943    444\n",
      "944    438\n",
      "945    445\n",
      "946    447\n",
      "947    445\n",
      "948    436\n",
      "949    442\n",
      "950    449\n",
      "951    437\n",
      "952    440\n",
      "953    420\n",
      "954    429\n",
      "955    437\n",
      "956    428\n",
      "957    434\n",
      "958    419\n",
      "959    426\n",
      "960    396\n",
      "961    284\n",
      "962    115\n",
      "963     13\n",
      "Name: ESTU_PUESTO, dtype: int64\n",
      "Elementos null/NaN 0\n",
      "__________________\n",
      "Elementos diferentes de null/NaN: 437235\n",
      "__________________\n",
      "(437235,)\n",
      "None\n"
     ]
    }
   ],
   "source": [
    "c = 'ESTU_PUESTO'\n",
    "print(data_2008_2[c].value_counts().sort_index().index)\n",
    "print(data_2008_2[c].value_counts().sort_index())\n",
    "print(missing_data(data_2008_2[c]))"
   ]
  },
  {
   "cell_type": "markdown",
   "metadata": {},
   "source": [
    "Now i can transform the Obtained dataframes in csv files"
   ]
  },
  {
   "cell_type": "code",
   "execution_count": 173,
   "metadata": {
    "collapsed": true
   },
   "outputs": [],
   "source": [
    "data_2008 = label_encoder(data_2008)\n",
    "data_2008_2 = label_encoder(data_2008_2)"
   ]
  },
  {
   "cell_type": "code",
   "execution_count": 174,
   "metadata": {
    "collapsed": false
   },
   "outputs": [],
   "source": [
    "data_2008.to_csv('../DatosFTPICFES/SABER11/SB11-BASES_DE_DATOS/READY/2008_1.csv', sep=';', index=False)\n",
    "data_2008_2.to_csv('../DatosFTPICFES/SABER11/SB11-BASES_DE_DATOS/READY/2008_2.csv', sep=';', index=False)"
   ]
  }
 ],
 "metadata": {
  "kernelspec": {
   "display_name": "Python 3",
   "language": "python",
   "name": "python3"
  },
  "language_info": {
   "codemirror_mode": {
    "name": "ipython",
    "version": 3
   },
   "file_extension": ".py",
   "mimetype": "text/x-python",
   "name": "python",
   "nbconvert_exporter": "python",
   "pygments_lexer": "ipython3",
   "version": "3.4.2"
  }
 },
 "nbformat": 4,
 "nbformat_minor": 0
}
