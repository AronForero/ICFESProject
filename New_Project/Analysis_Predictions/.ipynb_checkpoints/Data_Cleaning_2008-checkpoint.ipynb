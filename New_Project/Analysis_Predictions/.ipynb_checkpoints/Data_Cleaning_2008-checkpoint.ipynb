{
 "cells": [
  {
   "cell_type": "code",
   "execution_count": 1,
   "metadata": {
    "collapsed": true
   },
   "outputs": [],
   "source": [
    "import pandas as pd\n",
    "import numpy as np\n",
    "%run -i ../tools/functions.py"
   ]
  },
  {
   "cell_type": "code",
   "execution_count": 2,
   "metadata": {
    "collapsed": true
   },
   "outputs": [],
   "source": [
    "data_2008 = pd.read_csv('../DatosFTPICFES/SABER11/SB11-BASES_DE_DATOS/SB11-20081-RGSTRO-CLFCCN-V1-0.txt', delimiter='|')"
   ]
  },
  {
   "cell_type": "code",
   "execution_count": 3,
   "metadata": {
    "collapsed": false
   },
   "outputs": [
    {
     "data": {
      "text/plain": [
       "(68941, 83)"
      ]
     },
     "execution_count": 3,
     "metadata": {},
     "output_type": "execute_result"
    }
   ],
   "source": [
    "data_2008.shape"
   ]
  },
  {
   "cell_type": "code",
   "execution_count": 4,
   "metadata": {
    "collapsed": false,
    "scrolled": true
   },
   "outputs": [
    {
     "data": {
      "text/html": [
       "<div>\n",
       "<table border=\"1\" class=\"dataframe\">\n",
       "  <thead>\n",
       "    <tr style=\"text-align: right;\">\n",
       "      <th></th>\n",
       "      <th>0</th>\n",
       "      <th>1</th>\n",
       "      <th>2</th>\n",
       "    </tr>\n",
       "  </thead>\n",
       "  <tbody>\n",
       "    <tr>\n",
       "      <th>ESTU_CONSECUTIVO</th>\n",
       "      <td>SB11200810000760</td>\n",
       "      <td>SB11200810000771</td>\n",
       "      <td>SB11200810000831</td>\n",
       "    </tr>\n",
       "    <tr>\n",
       "      <th>PERIODO</th>\n",
       "      <td>20081</td>\n",
       "      <td>20081</td>\n",
       "      <td>20081</td>\n",
       "    </tr>\n",
       "    <tr>\n",
       "      <th>ESTU_TIPO_DOCUMENTO</th>\n",
       "      <td>T</td>\n",
       "      <td>T</td>\n",
       "      <td>T</td>\n",
       "    </tr>\n",
       "    <tr>\n",
       "      <th>ESTU_PAIS_RESIDE</th>\n",
       "      <td>CO</td>\n",
       "      <td>CO</td>\n",
       "      <td>CO</td>\n",
       "    </tr>\n",
       "    <tr>\n",
       "      <th>ESTU_GENERO</th>\n",
       "      <td>M</td>\n",
       "      <td>F</td>\n",
       "      <td>F</td>\n",
       "    </tr>\n",
       "    <tr>\n",
       "      <th>ESTU_NACIMIENTO_DIA</th>\n",
       "      <td>28</td>\n",
       "      <td>1</td>\n",
       "      <td>13</td>\n",
       "    </tr>\n",
       "    <tr>\n",
       "      <th>ESTU_NACIMIENTO_MES</th>\n",
       "      <td>11</td>\n",
       "      <td>12</td>\n",
       "      <td>3</td>\n",
       "    </tr>\n",
       "    <tr>\n",
       "      <th>ESTU_NACIMIENTO_ANNO</th>\n",
       "      <td>1991</td>\n",
       "      <td>1991</td>\n",
       "      <td>1990</td>\n",
       "    </tr>\n",
       "    <tr>\n",
       "      <th>ESTU_EDAD</th>\n",
       "      <td>16</td>\n",
       "      <td>16</td>\n",
       "      <td>17</td>\n",
       "    </tr>\n",
       "    <tr>\n",
       "      <th>ESTU_LIMITA_BAJAVISION</th>\n",
       "      <td>NaN</td>\n",
       "      <td>NaN</td>\n",
       "      <td>NaN</td>\n",
       "    </tr>\n",
       "    <tr>\n",
       "      <th>ESTU_LIMITA_SORDOCEGUERA</th>\n",
       "      <td>NaN</td>\n",
       "      <td>NaN</td>\n",
       "      <td>NaN</td>\n",
       "    </tr>\n",
       "    <tr>\n",
       "      <th>ESTU_LIMITA_COGNITIVA</th>\n",
       "      <td>NaN</td>\n",
       "      <td>NaN</td>\n",
       "      <td>NaN</td>\n",
       "    </tr>\n",
       "    <tr>\n",
       "      <th>ESTU_LIMITA_INVIDENTE</th>\n",
       "      <td>NaN</td>\n",
       "      <td>NaN</td>\n",
       "      <td>NaN</td>\n",
       "    </tr>\n",
       "    <tr>\n",
       "      <th>ESTU_LIMITA_MOTRIZ</th>\n",
       "      <td>NaN</td>\n",
       "      <td>NaN</td>\n",
       "      <td>NaN</td>\n",
       "    </tr>\n",
       "    <tr>\n",
       "      <th>ESTU_LIMITA_SORDOINTERPRETE</th>\n",
       "      <td>NaN</td>\n",
       "      <td>NaN</td>\n",
       "      <td>NaN</td>\n",
       "    </tr>\n",
       "    <tr>\n",
       "      <th>ESTU_LIMITA_SORDONOINTERPRETE</th>\n",
       "      <td>NaN</td>\n",
       "      <td>NaN</td>\n",
       "      <td>NaN</td>\n",
       "    </tr>\n",
       "    <tr>\n",
       "      <th>ESTU_ETNIA</th>\n",
       "      <td>NaN</td>\n",
       "      <td>NaN</td>\n",
       "      <td>NaN</td>\n",
       "    </tr>\n",
       "    <tr>\n",
       "      <th>ESTU_COD_RESIDE_MCPIO</th>\n",
       "      <td>76892</td>\n",
       "      <td>76892</td>\n",
       "      <td>76892</td>\n",
       "    </tr>\n",
       "    <tr>\n",
       "      <th>ESTU_RESIDE_MCPIO</th>\n",
       "      <td>YUMBO</td>\n",
       "      <td>YUMBO</td>\n",
       "      <td>YUMBO</td>\n",
       "    </tr>\n",
       "    <tr>\n",
       "      <th>ESTU_RESIDE_DEPTO</th>\n",
       "      <td>VALLE</td>\n",
       "      <td>VALLE</td>\n",
       "      <td>VALLE</td>\n",
       "    </tr>\n",
       "    <tr>\n",
       "      <th>ESTU_ZONA_RESIDE</th>\n",
       "      <td>10</td>\n",
       "      <td>10</td>\n",
       "      <td>10</td>\n",
       "    </tr>\n",
       "    <tr>\n",
       "      <th>ESTU_AREA_RESIDE</th>\n",
       "      <td>1</td>\n",
       "      <td>1</td>\n",
       "      <td>1</td>\n",
       "    </tr>\n",
       "    <tr>\n",
       "      <th>FAMI_LEE_ESCRIBE_PADRE</th>\n",
       "      <td>1</td>\n",
       "      <td>1</td>\n",
       "      <td>1</td>\n",
       "    </tr>\n",
       "    <tr>\n",
       "      <th>FAMI_LEE_ESCRIBE_MADRE</th>\n",
       "      <td>1</td>\n",
       "      <td>1</td>\n",
       "      <td>1</td>\n",
       "    </tr>\n",
       "    <tr>\n",
       "      <th>FAMI_EDUCA_PADRE</th>\n",
       "      <td>16</td>\n",
       "      <td>12</td>\n",
       "      <td>12</td>\n",
       "    </tr>\n",
       "    <tr>\n",
       "      <th>FAMI_EDUCA_MADRE</th>\n",
       "      <td>16</td>\n",
       "      <td>12</td>\n",
       "      <td>12</td>\n",
       "    </tr>\n",
       "    <tr>\n",
       "      <th>FAMI_OCUPA_PADRE</th>\n",
       "      <td>21</td>\n",
       "      <td>21</td>\n",
       "      <td>21</td>\n",
       "    </tr>\n",
       "    <tr>\n",
       "      <th>FAMI_OCUPA_MADRE</th>\n",
       "      <td>21</td>\n",
       "      <td>19</td>\n",
       "      <td>22</td>\n",
       "    </tr>\n",
       "    <tr>\n",
       "      <th>FAMI_NUM_HERMANOS</th>\n",
       "      <td>3</td>\n",
       "      <td>4</td>\n",
       "      <td>3</td>\n",
       "    </tr>\n",
       "    <tr>\n",
       "      <th>FAMI_EDUCA_HERMANO</th>\n",
       "      <td>8</td>\n",
       "      <td>7</td>\n",
       "      <td>6</td>\n",
       "    </tr>\n",
       "    <tr>\n",
       "      <th>...</th>\n",
       "      <td>...</td>\n",
       "      <td>...</td>\n",
       "      <td>...</td>\n",
       "    </tr>\n",
       "    <tr>\n",
       "      <th>COLE_CARACTER</th>\n",
       "      <td>ACADEMICO Y TECNICO</td>\n",
       "      <td>ACADEMICO Y TECNICO</td>\n",
       "      <td>ACADEMICO Y TECNICO</td>\n",
       "    </tr>\n",
       "    <tr>\n",
       "      <th>ESTU_COD_MCPIO_PRESENTACION</th>\n",
       "      <td>76892</td>\n",
       "      <td>76892</td>\n",
       "      <td>76892</td>\n",
       "    </tr>\n",
       "    <tr>\n",
       "      <th>ESTU_MCPIO_PRESENTACION</th>\n",
       "      <td>YUMBO</td>\n",
       "      <td>YUMBO</td>\n",
       "      <td>YUMBO</td>\n",
       "    </tr>\n",
       "    <tr>\n",
       "      <th>ESTU_DEPTO_PRESENTACION</th>\n",
       "      <td>VALLE</td>\n",
       "      <td>VALLE</td>\n",
       "      <td>VALLE</td>\n",
       "    </tr>\n",
       "    <tr>\n",
       "      <th>ESTU_EXAM_NOMBREEXAMEN</th>\n",
       "      <td>EXAMEN DE ESTADO 2008-1</td>\n",
       "      <td>EXAMEN DE ESTADO 2008-1</td>\n",
       "      <td>EXAMEN DE ESTADO 2008-1</td>\n",
       "    </tr>\n",
       "    <tr>\n",
       "      <th>ESTU_CARRDESEADA_TIPO</th>\n",
       "      <td>NaN</td>\n",
       "      <td>NaN</td>\n",
       "      <td>NaN</td>\n",
       "    </tr>\n",
       "    <tr>\n",
       "      <th>ESTU_CARRDESEADA_NUCLEO</th>\n",
       "      <td>NaN</td>\n",
       "      <td>NaN</td>\n",
       "      <td>NaN</td>\n",
       "    </tr>\n",
       "    <tr>\n",
       "      <th>ESTU_IES_COD_DESEADA</th>\n",
       "      <td>NaN</td>\n",
       "      <td>NaN</td>\n",
       "      <td>NaN</td>\n",
       "    </tr>\n",
       "    <tr>\n",
       "      <th>ESTU_IES_DESEADA_NOMBRE</th>\n",
       "      <td>NaN</td>\n",
       "      <td>NaN</td>\n",
       "      <td>NaN</td>\n",
       "    </tr>\n",
       "    <tr>\n",
       "      <th>ESTU_IES_COD_MPIO_DESEADA</th>\n",
       "      <td>NaN</td>\n",
       "      <td>NaN</td>\n",
       "      <td>NaN</td>\n",
       "    </tr>\n",
       "    <tr>\n",
       "      <th>ESTU_IES_MPIO_DESEADA</th>\n",
       "      <td>NaN</td>\n",
       "      <td>NaN</td>\n",
       "      <td>NaN</td>\n",
       "    </tr>\n",
       "    <tr>\n",
       "      <th>ESTU_IES_DEPT_DESEADA</th>\n",
       "      <td>NaN</td>\n",
       "      <td>NaN</td>\n",
       "      <td>NaN</td>\n",
       "    </tr>\n",
       "    <tr>\n",
       "      <th>ESTU_RAZONINSTITUTO</th>\n",
       "      <td>NaN</td>\n",
       "      <td>NaN</td>\n",
       "      <td>NaN</td>\n",
       "    </tr>\n",
       "    <tr>\n",
       "      <th>ESTU_CARRDESEADA_COD</th>\n",
       "      <td>NaN</td>\n",
       "      <td>NaN</td>\n",
       "      <td>NaN</td>\n",
       "    </tr>\n",
       "    <tr>\n",
       "      <th>ESTU_CARRDESEADA_RAZON</th>\n",
       "      <td>NaN</td>\n",
       "      <td>NaN</td>\n",
       "      <td>NaN</td>\n",
       "    </tr>\n",
       "    <tr>\n",
       "      <th>PUNT_LENGUAJE</th>\n",
       "      <td>51,1</td>\n",
       "      <td>42,26</td>\n",
       "      <td>42,26</td>\n",
       "    </tr>\n",
       "    <tr>\n",
       "      <th>PUNT_MATEMATICAS</th>\n",
       "      <td>70,5</td>\n",
       "      <td>35,35</td>\n",
       "      <td>35,35</td>\n",
       "    </tr>\n",
       "    <tr>\n",
       "      <th>PUNT_C_SOCIALES</th>\n",
       "      <td>47,26</td>\n",
       "      <td>47,26</td>\n",
       "      <td>30,78</td>\n",
       "    </tr>\n",
       "    <tr>\n",
       "      <th>PUNT_FILOSOFIA</th>\n",
       "      <td>49,11</td>\n",
       "      <td>40,9</td>\n",
       "      <td>37,83</td>\n",
       "    </tr>\n",
       "    <tr>\n",
       "      <th>PUNT_BIOLOGIA</th>\n",
       "      <td>45,62</td>\n",
       "      <td>0</td>\n",
       "      <td>42</td>\n",
       "    </tr>\n",
       "    <tr>\n",
       "      <th>PUNT_QUIMICA</th>\n",
       "      <td>45,74</td>\n",
       "      <td>32,49</td>\n",
       "      <td>36,6</td>\n",
       "    </tr>\n",
       "    <tr>\n",
       "      <th>PUNT_FISICA</th>\n",
       "      <td>46,55</td>\n",
       "      <td>33,75</td>\n",
       "      <td>40,91</td>\n",
       "    </tr>\n",
       "    <tr>\n",
       "      <th>PUNT_INGLES</th>\n",
       "      <td>46,06</td>\n",
       "      <td>37,38</td>\n",
       "      <td>35,47</td>\n",
       "    </tr>\n",
       "    <tr>\n",
       "      <th>DESEMP_INGLES</th>\n",
       "      <td>A1</td>\n",
       "      <td>A-</td>\n",
       "      <td>A-</td>\n",
       "    </tr>\n",
       "    <tr>\n",
       "      <th>NOMBRE_PROFUNDIZACION</th>\n",
       "      <td>PROFUNDIZACIÓN EN MATEMÁTICA</td>\n",
       "      <td>PROFUNDIZACIÓN EN BIOLOGÍA</td>\n",
       "      <td>PROFUNDIZACIÓN EN LENGUAJE</td>\n",
       "    </tr>\n",
       "    <tr>\n",
       "      <th>PUNT_PROFUNDIZACION</th>\n",
       "      <td>4,95</td>\n",
       "      <td>5,81</td>\n",
       "      <td>4,33</td>\n",
       "    </tr>\n",
       "    <tr>\n",
       "      <th>DESEMP_PROFUNDIZACION</th>\n",
       "      <td>I</td>\n",
       "      <td>I</td>\n",
       "      <td>GB</td>\n",
       "    </tr>\n",
       "    <tr>\n",
       "      <th>NOMBRE_INTERDISCIPLINAR</th>\n",
       "      <td>VIOLENCIA Y SOCIEDAD</td>\n",
       "      <td>MEDIO AMBIENTE</td>\n",
       "      <td>VIOLENCIA Y SOCIEDAD</td>\n",
       "    </tr>\n",
       "    <tr>\n",
       "      <th>PUNT_INTERDISCIPLINAR</th>\n",
       "      <td>42,36</td>\n",
       "      <td>52,17</td>\n",
       "      <td>35,09</td>\n",
       "    </tr>\n",
       "    <tr>\n",
       "      <th>ESTU_PUESTO</th>\n",
       "      <td>204</td>\n",
       "      <td>964</td>\n",
       "      <td>911</td>\n",
       "    </tr>\n",
       "  </tbody>\n",
       "</table>\n",
       "<p>83 rows × 3 columns</p>\n",
       "</div>"
      ],
      "text/plain": [
       "                                                          0  \\\n",
       "ESTU_CONSECUTIVO                           SB11200810000760   \n",
       "PERIODO                                               20081   \n",
       "ESTU_TIPO_DOCUMENTO                                       T   \n",
       "ESTU_PAIS_RESIDE                                         CO   \n",
       "ESTU_GENERO                                               M   \n",
       "ESTU_NACIMIENTO_DIA                                      28   \n",
       "ESTU_NACIMIENTO_MES                                      11   \n",
       "ESTU_NACIMIENTO_ANNO                                   1991   \n",
       "ESTU_EDAD                                                16   \n",
       "ESTU_LIMITA_BAJAVISION                                  NaN   \n",
       "ESTU_LIMITA_SORDOCEGUERA                                NaN   \n",
       "ESTU_LIMITA_COGNITIVA                                   NaN   \n",
       "ESTU_LIMITA_INVIDENTE                                   NaN   \n",
       "ESTU_LIMITA_MOTRIZ                                      NaN   \n",
       "ESTU_LIMITA_SORDOINTERPRETE                             NaN   \n",
       "ESTU_LIMITA_SORDONOINTERPRETE                           NaN   \n",
       "ESTU_ETNIA                                              NaN   \n",
       "ESTU_COD_RESIDE_MCPIO                                 76892   \n",
       "ESTU_RESIDE_MCPIO                                     YUMBO   \n",
       "ESTU_RESIDE_DEPTO                                     VALLE   \n",
       "ESTU_ZONA_RESIDE                                         10   \n",
       "ESTU_AREA_RESIDE                                          1   \n",
       "FAMI_LEE_ESCRIBE_PADRE                                    1   \n",
       "FAMI_LEE_ESCRIBE_MADRE                                    1   \n",
       "FAMI_EDUCA_PADRE                                         16   \n",
       "FAMI_EDUCA_MADRE                                         16   \n",
       "FAMI_OCUPA_PADRE                                         21   \n",
       "FAMI_OCUPA_MADRE                                         21   \n",
       "FAMI_NUM_HERMANOS                                         3   \n",
       "FAMI_EDUCA_HERMANO                                        8   \n",
       "...                                                     ...   \n",
       "COLE_CARACTER                           ACADEMICO Y TECNICO   \n",
       "ESTU_COD_MCPIO_PRESENTACION                           76892   \n",
       "ESTU_MCPIO_PRESENTACION                               YUMBO   \n",
       "ESTU_DEPTO_PRESENTACION                               VALLE   \n",
       "ESTU_EXAM_NOMBREEXAMEN              EXAMEN DE ESTADO 2008-1   \n",
       "ESTU_CARRDESEADA_TIPO                                   NaN   \n",
       "ESTU_CARRDESEADA_NUCLEO                                 NaN   \n",
       "ESTU_IES_COD_DESEADA                                    NaN   \n",
       "ESTU_IES_DESEADA_NOMBRE                                 NaN   \n",
       "ESTU_IES_COD_MPIO_DESEADA                               NaN   \n",
       "ESTU_IES_MPIO_DESEADA                                   NaN   \n",
       "ESTU_IES_DEPT_DESEADA                                   NaN   \n",
       "ESTU_RAZONINSTITUTO                                     NaN   \n",
       "ESTU_CARRDESEADA_COD                                    NaN   \n",
       "ESTU_CARRDESEADA_RAZON                                  NaN   \n",
       "PUNT_LENGUAJE                                          51,1   \n",
       "PUNT_MATEMATICAS                                       70,5   \n",
       "PUNT_C_SOCIALES                                       47,26   \n",
       "PUNT_FILOSOFIA                                        49,11   \n",
       "PUNT_BIOLOGIA                                         45,62   \n",
       "PUNT_QUIMICA                                          45,74   \n",
       "PUNT_FISICA                                           46,55   \n",
       "PUNT_INGLES                                           46,06   \n",
       "DESEMP_INGLES                                            A1   \n",
       "NOMBRE_PROFUNDIZACION          PROFUNDIZACIÓN EN MATEMÁTICA   \n",
       "PUNT_PROFUNDIZACION                                    4,95   \n",
       "DESEMP_PROFUNDIZACION                                     I   \n",
       "NOMBRE_INTERDISCIPLINAR                VIOLENCIA Y SOCIEDAD   \n",
       "PUNT_INTERDISCIPLINAR                                 42,36   \n",
       "ESTU_PUESTO                                             204   \n",
       "\n",
       "                                                        1  \\\n",
       "ESTU_CONSECUTIVO                         SB11200810000771   \n",
       "PERIODO                                             20081   \n",
       "ESTU_TIPO_DOCUMENTO                                     T   \n",
       "ESTU_PAIS_RESIDE                                       CO   \n",
       "ESTU_GENERO                                             F   \n",
       "ESTU_NACIMIENTO_DIA                                     1   \n",
       "ESTU_NACIMIENTO_MES                                    12   \n",
       "ESTU_NACIMIENTO_ANNO                                 1991   \n",
       "ESTU_EDAD                                              16   \n",
       "ESTU_LIMITA_BAJAVISION                                NaN   \n",
       "ESTU_LIMITA_SORDOCEGUERA                              NaN   \n",
       "ESTU_LIMITA_COGNITIVA                                 NaN   \n",
       "ESTU_LIMITA_INVIDENTE                                 NaN   \n",
       "ESTU_LIMITA_MOTRIZ                                    NaN   \n",
       "ESTU_LIMITA_SORDOINTERPRETE                           NaN   \n",
       "ESTU_LIMITA_SORDONOINTERPRETE                         NaN   \n",
       "ESTU_ETNIA                                            NaN   \n",
       "ESTU_COD_RESIDE_MCPIO                               76892   \n",
       "ESTU_RESIDE_MCPIO                                   YUMBO   \n",
       "ESTU_RESIDE_DEPTO                                   VALLE   \n",
       "ESTU_ZONA_RESIDE                                       10   \n",
       "ESTU_AREA_RESIDE                                        1   \n",
       "FAMI_LEE_ESCRIBE_PADRE                                  1   \n",
       "FAMI_LEE_ESCRIBE_MADRE                                  1   \n",
       "FAMI_EDUCA_PADRE                                       12   \n",
       "FAMI_EDUCA_MADRE                                       12   \n",
       "FAMI_OCUPA_PADRE                                       21   \n",
       "FAMI_OCUPA_MADRE                                       19   \n",
       "FAMI_NUM_HERMANOS                                       4   \n",
       "FAMI_EDUCA_HERMANO                                      7   \n",
       "...                                                   ...   \n",
       "COLE_CARACTER                         ACADEMICO Y TECNICO   \n",
       "ESTU_COD_MCPIO_PRESENTACION                         76892   \n",
       "ESTU_MCPIO_PRESENTACION                             YUMBO   \n",
       "ESTU_DEPTO_PRESENTACION                             VALLE   \n",
       "ESTU_EXAM_NOMBREEXAMEN            EXAMEN DE ESTADO 2008-1   \n",
       "ESTU_CARRDESEADA_TIPO                                 NaN   \n",
       "ESTU_CARRDESEADA_NUCLEO                               NaN   \n",
       "ESTU_IES_COD_DESEADA                                  NaN   \n",
       "ESTU_IES_DESEADA_NOMBRE                               NaN   \n",
       "ESTU_IES_COD_MPIO_DESEADA                             NaN   \n",
       "ESTU_IES_MPIO_DESEADA                                 NaN   \n",
       "ESTU_IES_DEPT_DESEADA                                 NaN   \n",
       "ESTU_RAZONINSTITUTO                                   NaN   \n",
       "ESTU_CARRDESEADA_COD                                  NaN   \n",
       "ESTU_CARRDESEADA_RAZON                                NaN   \n",
       "PUNT_LENGUAJE                                       42,26   \n",
       "PUNT_MATEMATICAS                                    35,35   \n",
       "PUNT_C_SOCIALES                                     47,26   \n",
       "PUNT_FILOSOFIA                                       40,9   \n",
       "PUNT_BIOLOGIA                                           0   \n",
       "PUNT_QUIMICA                                        32,49   \n",
       "PUNT_FISICA                                         33,75   \n",
       "PUNT_INGLES                                         37,38   \n",
       "DESEMP_INGLES                                          A-   \n",
       "NOMBRE_PROFUNDIZACION          PROFUNDIZACIÓN EN BIOLOGÍA   \n",
       "PUNT_PROFUNDIZACION                                  5,81   \n",
       "DESEMP_PROFUNDIZACION                                   I   \n",
       "NOMBRE_INTERDISCIPLINAR                    MEDIO AMBIENTE   \n",
       "PUNT_INTERDISCIPLINAR                               52,17   \n",
       "ESTU_PUESTO                                           964   \n",
       "\n",
       "                                                        2  \n",
       "ESTU_CONSECUTIVO                         SB11200810000831  \n",
       "PERIODO                                             20081  \n",
       "ESTU_TIPO_DOCUMENTO                                     T  \n",
       "ESTU_PAIS_RESIDE                                       CO  \n",
       "ESTU_GENERO                                             F  \n",
       "ESTU_NACIMIENTO_DIA                                    13  \n",
       "ESTU_NACIMIENTO_MES                                     3  \n",
       "ESTU_NACIMIENTO_ANNO                                 1990  \n",
       "ESTU_EDAD                                              17  \n",
       "ESTU_LIMITA_BAJAVISION                                NaN  \n",
       "ESTU_LIMITA_SORDOCEGUERA                              NaN  \n",
       "ESTU_LIMITA_COGNITIVA                                 NaN  \n",
       "ESTU_LIMITA_INVIDENTE                                 NaN  \n",
       "ESTU_LIMITA_MOTRIZ                                    NaN  \n",
       "ESTU_LIMITA_SORDOINTERPRETE                           NaN  \n",
       "ESTU_LIMITA_SORDONOINTERPRETE                         NaN  \n",
       "ESTU_ETNIA                                            NaN  \n",
       "ESTU_COD_RESIDE_MCPIO                               76892  \n",
       "ESTU_RESIDE_MCPIO                                   YUMBO  \n",
       "ESTU_RESIDE_DEPTO                                   VALLE  \n",
       "ESTU_ZONA_RESIDE                                       10  \n",
       "ESTU_AREA_RESIDE                                        1  \n",
       "FAMI_LEE_ESCRIBE_PADRE                                  1  \n",
       "FAMI_LEE_ESCRIBE_MADRE                                  1  \n",
       "FAMI_EDUCA_PADRE                                       12  \n",
       "FAMI_EDUCA_MADRE                                       12  \n",
       "FAMI_OCUPA_PADRE                                       21  \n",
       "FAMI_OCUPA_MADRE                                       22  \n",
       "FAMI_NUM_HERMANOS                                       3  \n",
       "FAMI_EDUCA_HERMANO                                      6  \n",
       "...                                                   ...  \n",
       "COLE_CARACTER                         ACADEMICO Y TECNICO  \n",
       "ESTU_COD_MCPIO_PRESENTACION                         76892  \n",
       "ESTU_MCPIO_PRESENTACION                             YUMBO  \n",
       "ESTU_DEPTO_PRESENTACION                             VALLE  \n",
       "ESTU_EXAM_NOMBREEXAMEN            EXAMEN DE ESTADO 2008-1  \n",
       "ESTU_CARRDESEADA_TIPO                                 NaN  \n",
       "ESTU_CARRDESEADA_NUCLEO                               NaN  \n",
       "ESTU_IES_COD_DESEADA                                  NaN  \n",
       "ESTU_IES_DESEADA_NOMBRE                               NaN  \n",
       "ESTU_IES_COD_MPIO_DESEADA                             NaN  \n",
       "ESTU_IES_MPIO_DESEADA                                 NaN  \n",
       "ESTU_IES_DEPT_DESEADA                                 NaN  \n",
       "ESTU_RAZONINSTITUTO                                   NaN  \n",
       "ESTU_CARRDESEADA_COD                                  NaN  \n",
       "ESTU_CARRDESEADA_RAZON                                NaN  \n",
       "PUNT_LENGUAJE                                       42,26  \n",
       "PUNT_MATEMATICAS                                    35,35  \n",
       "PUNT_C_SOCIALES                                     30,78  \n",
       "PUNT_FILOSOFIA                                      37,83  \n",
       "PUNT_BIOLOGIA                                          42  \n",
       "PUNT_QUIMICA                                         36,6  \n",
       "PUNT_FISICA                                         40,91  \n",
       "PUNT_INGLES                                         35,47  \n",
       "DESEMP_INGLES                                          A-  \n",
       "NOMBRE_PROFUNDIZACION          PROFUNDIZACIÓN EN LENGUAJE  \n",
       "PUNT_PROFUNDIZACION                                  4,33  \n",
       "DESEMP_PROFUNDIZACION                                  GB  \n",
       "NOMBRE_INTERDISCIPLINAR              VIOLENCIA Y SOCIEDAD  \n",
       "PUNT_INTERDISCIPLINAR                               35,09  \n",
       "ESTU_PUESTO                                           911  \n",
       "\n",
       "[83 rows x 3 columns]"
      ]
     },
     "execution_count": 4,
     "metadata": {},
     "output_type": "execute_result"
    }
   ],
   "source": [
    "data_2008.head(3).T"
   ]
  },
  {
   "cell_type": "code",
   "execution_count": 5,
   "metadata": {
    "collapsed": false
   },
   "outputs": [],
   "source": [
    "data_2008 = data_2008.drop(['ESTU_CONSECUTIVO', 'PERIODO', 'ESTU_TIPO_DOCUMENTO', 'ESTU_COD_RESIDE_MCPIO', \n",
    "                'ESTU_COD_MCPIO_PRESENTACION', 'ESTU_IES_DESEADA_NOMBRE', 'ESTU_IES_COD_MPIO_DESEADA'], axis=1)"
   ]
  },
  {
   "cell_type": "code",
   "execution_count": 6,
   "metadata": {
    "collapsed": false,
    "scrolled": true
   },
   "outputs": [
    {
     "name": "stdout",
     "output_type": "stream",
     "text": [
      "Index(['AR', 'CO', 'DE', 'EC', 'ES', 'NI', 'PA', 'PE', 'TW', 'US', 'VE'], dtype='object')\n",
      "AR        1\n",
      "CO    68867\n",
      "DE        1\n",
      "EC        2\n",
      "ES        3\n",
      "NI        1\n",
      "PA        1\n",
      "PE        2\n",
      "TW        3\n",
      "US       10\n",
      "VE        4\n",
      "Name: ESTU_PAIS_RESIDE, dtype: int64\n",
      "Elementos null/NaN 46\n",
      "__________________\n",
      "Elementos diferentes de null/NaN: 68895\n",
      "__________________\n",
      "(68895,)\n",
      "None\n"
     ]
    }
   ],
   "source": [
    "c = 'ESTU_PAIS_RESIDE'\n",
    "print(data_2008[c].value_counts().sort_index().index)\n",
    "print(data_2008[c].value_counts().sort_index())\n",
    "print(missing_data(data_2008[c]))"
   ]
  },
  {
   "cell_type": "code",
   "execution_count": 7,
   "metadata": {
    "collapsed": false
   },
   "outputs": [
    {
     "name": "stdout",
     "output_type": "stream",
     "text": [
      "Index(['F', 'M'], dtype='object')\n",
      "F    37603\n",
      "M    31316\n",
      "Name: ESTU_GENERO, dtype: int64\n",
      "Elementos null/NaN 22\n",
      "__________________\n",
      "Elementos diferentes de null/NaN: 68919\n",
      "__________________\n",
      "(68919,)\n",
      "None\n"
     ]
    }
   ],
   "source": [
    "c = 'ESTU_GENERO'\n",
    "print(data_2008[c].value_counts().sort_index().index)\n",
    "print(data_2008[c].value_counts().sort_index())\n",
    "print(missing_data(data_2008[c]))"
   ]
  },
  {
   "cell_type": "code",
   "execution_count": 8,
   "metadata": {
    "collapsed": false,
    "scrolled": true
   },
   "outputs": [
    {
     "name": "stdout",
     "output_type": "stream",
     "text": [
      "Float64Index([ 1.0,  2.0,  3.0,  4.0,  5.0,  6.0,  7.0,  8.0,  9.0, 10.0, 11.0,\n",
      "              12.0, 13.0, 14.0, 15.0, 16.0, 17.0, 18.0, 19.0, 20.0, 21.0, 22.0,\n",
      "              23.0, 24.0, 25.0, 26.0, 27.0, 28.0, 29.0, 30.0, 31.0],\n",
      "             dtype='float64')\n",
      "1     2307\n",
      "2     2224\n",
      "3     2383\n",
      "4     2310\n",
      "5     2282\n",
      "6     2213\n",
      "7     2198\n",
      "8     2204\n",
      "9     2240\n",
      "10    2441\n",
      "11    2283\n",
      "12    2325\n",
      "13    2182\n",
      "14    2178\n",
      "15    2375\n",
      "16    2203\n",
      "17    2268\n",
      "18    2228\n",
      "19    2226\n",
      "20    2405\n",
      "21    2190\n",
      "22    2268\n",
      "23    2240\n",
      "24    2293\n",
      "25    2223\n",
      "26    2279\n",
      "27    2247\n",
      "28    2286\n",
      "29    2141\n",
      "30    1985\n",
      "31    1241\n",
      "Name: ESTU_NACIMIENTO_DIA, dtype: int64\n",
      "Elementos null/NaN 73\n",
      "__________________\n",
      "Elementos diferentes de null/NaN: 68868\n",
      "__________________\n",
      "(68868,)\n",
      "None\n"
     ]
    }
   ],
   "source": [
    "c = 'ESTU_NACIMIENTO_DIA'\n",
    "print(data_2008[c].value_counts().sort_index().index)\n",
    "print(data_2008[c].value_counts().sort_index())\n",
    "print(missing_data(data_2008[c]))"
   ]
  },
  {
   "cell_type": "code",
   "execution_count": 9,
   "metadata": {
    "collapsed": false
   },
   "outputs": [
    {
     "name": "stdout",
     "output_type": "stream",
     "text": [
      "Float64Index([1.0, 2.0, 3.0, 4.0, 5.0, 6.0, 7.0, 8.0, 9.0, 10.0, 11.0, 12.0], dtype='float64')\n",
      "1     5587\n",
      "2     5238\n",
      "3     5749\n",
      "4     5740\n",
      "5     5947\n",
      "6     5557\n",
      "7     5902\n",
      "8     5809\n",
      "9     5987\n",
      "10    5826\n",
      "11    5462\n",
      "12    6064\n",
      "Name: ESTU_NACIMIENTO_MES, dtype: int64\n",
      "Elementos null/NaN 73\n",
      "__________________\n",
      "Elementos diferentes de null/NaN: 68868\n",
      "__________________\n",
      "(68868,)\n",
      "None\n"
     ]
    }
   ],
   "source": [
    "c = 'ESTU_NACIMIENTO_MES'\n",
    "print(data_2008[c].value_counts().sort_index().index)\n",
    "print(data_2008[c].value_counts().sort_index())\n",
    "print(missing_data(data_2008[c]))"
   ]
  },
  {
   "cell_type": "code",
   "execution_count": 10,
   "metadata": {
    "collapsed": false,
    "scrolled": true
   },
   "outputs": [
    {
     "name": "stdout",
     "output_type": "stream",
     "text": [
      "Float64Index([1930.0, 1931.0, 1939.0, 1940.0, 1941.0, 1942.0, 1943.0, 1944.0,\n",
      "              1945.0, 1946.0, 1947.0, 1948.0, 1949.0, 1950.0, 1951.0, 1952.0,\n",
      "              1953.0, 1954.0, 1955.0, 1956.0, 1957.0, 1958.0, 1959.0, 1960.0,\n",
      "              1961.0, 1962.0, 1963.0, 1964.0, 1965.0, 1966.0, 1967.0, 1968.0,\n",
      "              1969.0, 1970.0, 1971.0, 1972.0, 1973.0, 1974.0, 1975.0, 1976.0,\n",
      "              1977.0, 1978.0, 1979.0, 1980.0, 1981.0, 1982.0, 1983.0, 1984.0,\n",
      "              1985.0, 1986.0, 1987.0, 1988.0, 1989.0, 1990.0, 1991.0, 1992.0,\n",
      "              1993.0, 1994.0, 1995.0, 1997.0, 1998.0, 2000.0, 2001.0, 2002.0],\n",
      "             dtype='float64')\n",
      "1930        3\n",
      "1931        1\n",
      "1939        3\n",
      "1940        2\n",
      "1941        1\n",
      "1942        2\n",
      "1943        3\n",
      "1944        3\n",
      "1945        6\n",
      "1946        4\n",
      "1947        3\n",
      "1948        7\n",
      "1949        5\n",
      "1950       10\n",
      "1951        9\n",
      "1952        8\n",
      "1953       18\n",
      "1954        7\n",
      "1955       16\n",
      "1956       30\n",
      "1957       30\n",
      "1958       29\n",
      "1959       34\n",
      "1960       42\n",
      "1961       52\n",
      "1962       52\n",
      "1963       75\n",
      "1964       59\n",
      "1965       78\n",
      "1966       87\n",
      "        ...  \n",
      "1971      119\n",
      "1972      122\n",
      "1973      131\n",
      "1974      156\n",
      "1975      168\n",
      "1976      162\n",
      "1977      171\n",
      "1978      193\n",
      "1979      259\n",
      "1980      260\n",
      "1981      282\n",
      "1982      346\n",
      "1983      383\n",
      "1984      444\n",
      "1985      527\n",
      "1986      797\n",
      "1987     1432\n",
      "1988     3241\n",
      "1989     8006\n",
      "1990    16227\n",
      "1991    26140\n",
      "1992     7423\n",
      "1993      471\n",
      "1994       96\n",
      "1995      203\n",
      "1997        1\n",
      "1998        2\n",
      "2000        2\n",
      "2001        2\n",
      "2002        5\n",
      "Name: ESTU_NACIMIENTO_ANNO, dtype: int64\n",
      "Elementos null/NaN 73\n",
      "__________________\n",
      "Elementos diferentes de null/NaN: 68868\n",
      "__________________\n",
      "(68868,)\n",
      "None\n"
     ]
    }
   ],
   "source": [
    "c = 'ESTU_NACIMIENTO_ANNO'\n",
    "print(data_2008[c].value_counts().sort_index().index)\n",
    "print(data_2008[c].value_counts().sort_index())\n",
    "print(missing_data(data_2008[c]))"
   ]
  },
  {
   "cell_type": "code",
   "execution_count": 11,
   "metadata": {
    "collapsed": false
   },
   "outputs": [],
   "source": [
    "for i in data_2008[c].value_counts().sort_index().index:\n",
    "    if i < 31:\n",
    "        data_2008[c] = data_2008[c].replace(i, np.nan)\n",
    "    elif i > 96:\n",
    "        data_2008[c] = data_2008[c].replace(i, np.nan)"
   ]
  },
  {
   "cell_type": "code",
   "execution_count": 12,
   "metadata": {
    "collapsed": false,
    "scrolled": true
   },
   "outputs": [
    {
     "name": "stdout",
     "output_type": "stream",
     "text": [
      "Float64Index([12.0, 13.0, 14.0, 15.0, 16.0, 17.0, 18.0, 19.0, 20.0, 21.0, 22.0,\n",
      "              23.0, 24.0, 25.0, 26.0, 27.0, 28.0, 29.0, 30.0, 31.0, 32.0, 33.0,\n",
      "              34.0, 35.0, 36.0, 37.0, 38.0, 39.0, 40.0, 41.0, 42.0, 43.0, 44.0,\n",
      "              45.0, 46.0, 47.0, 48.0, 49.0, 50.0, 51.0, 52.0, 53.0, 54.0, 55.0,\n",
      "              56.0, 57.0, 58.0, 59.0, 60.0, 61.0, 62.0, 63.0, 64.0, 65.0, 66.0,\n",
      "              67.0, 68.0, 76.0, 77.0],\n",
      "             dtype='float64')\n",
      "12      173\n",
      "13      137\n",
      "14      310\n",
      "15     4457\n",
      "16    24593\n",
      "17    18278\n",
      "18     9527\n",
      "19     3925\n",
      "20     1661\n",
      "21      902\n",
      "22      561\n",
      "23      460\n",
      "24      395\n",
      "25      357\n",
      "26      307\n",
      "27      255\n",
      "28      281\n",
      "29      188\n",
      "30      183\n",
      "31      148\n",
      "32      178\n",
      "33      161\n",
      "34      130\n",
      "35      127\n",
      "36      128\n",
      "37      103\n",
      "38      113\n",
      "39      104\n",
      "40      101\n",
      "41       88\n",
      "42       81\n",
      "43       58\n",
      "44       73\n",
      "45       56\n",
      "46       61\n",
      "47       43\n",
      "48       31\n",
      "49       29\n",
      "50       30\n",
      "51       30\n",
      "52       16\n",
      "53       10\n",
      "54       19\n",
      "55        7\n",
      "56        9\n",
      "57       10\n",
      "58        8\n",
      "59        5\n",
      "60        4\n",
      "61        4\n",
      "62        6\n",
      "63        3\n",
      "64        2\n",
      "65        3\n",
      "66        2\n",
      "67        2\n",
      "68        3\n",
      "76        1\n",
      "77        3\n",
      "Name: ESTU_EDAD, dtype: int64\n",
      "Elementos null/NaN 1\n",
      "__________________\n",
      "Elementos diferentes de null/NaN: 68940\n",
      "__________________\n",
      "(68940,)\n",
      "None\n"
     ]
    }
   ],
   "source": [
    "c = 'ESTU_EDAD'\n",
    "print(data_2008[c].value_counts().sort_index().index)\n",
    "print(data_2008[c].value_counts().sort_index())\n",
    "print(missing_data(data_2008[c]))"
   ]
  },
  {
   "cell_type": "code",
   "execution_count": 13,
   "metadata": {
    "collapsed": false
   },
   "outputs": [
    {
     "name": "stdout",
     "output_type": "stream",
     "text": [
      "Float64Index([], dtype='float64')\n",
      "Series([], Name: ESTU_LIMITA_BAJAVISION, dtype: int64)\n",
      "Elementos null/NaN 68941\n",
      "__________________\n",
      "Elementos diferentes de null/NaN: 0\n",
      "__________________\n",
      "(0,)\n",
      "None\n"
     ]
    }
   ],
   "source": [
    "c = 'ESTU_LIMITA_BAJAVISION'\n",
    "print(data_2008[c].value_counts().sort_index().index)\n",
    "print(data_2008[c].value_counts().sort_index())\n",
    "print(missing_data(data_2008[c]))"
   ]
  },
  {
   "cell_type": "code",
   "execution_count": 14,
   "metadata": {
    "collapsed": true
   },
   "outputs": [],
   "source": [
    "data_2008 = data_2008.drop([c], axis=1)"
   ]
  },
  {
   "cell_type": "code",
   "execution_count": 15,
   "metadata": {
    "collapsed": false,
    "scrolled": true
   },
   "outputs": [
    {
     "name": "stdout",
     "output_type": "stream",
     "text": [
      "Float64Index([], dtype='float64')\n",
      "Series([], Name: ESTU_LIMITA_SORDOCEGUERA, dtype: int64)\n",
      "Elementos null/NaN 68941\n",
      "__________________\n",
      "Elementos diferentes de null/NaN: 0\n",
      "__________________\n",
      "(0,)\n",
      "None\n"
     ]
    }
   ],
   "source": [
    "c = 'ESTU_LIMITA_SORDOCEGUERA'\n",
    "print(data_2008[c].value_counts().sort_index().index)\n",
    "print(data_2008[c].value_counts().sort_index())\n",
    "print(missing_data(data_2008[c]))"
   ]
  },
  {
   "cell_type": "code",
   "execution_count": 16,
   "metadata": {
    "collapsed": true
   },
   "outputs": [],
   "source": [
    "data_2008 = data_2008.drop([c], axis=1)"
   ]
  },
  {
   "cell_type": "code",
   "execution_count": 17,
   "metadata": {
    "collapsed": false
   },
   "outputs": [
    {
     "name": "stdout",
     "output_type": "stream",
     "text": [
      "Float64Index([], dtype='float64')\n",
      "Series([], Name: ESTU_LIMITA_COGNITIVA, dtype: int64)\n",
      "Elementos null/NaN 68941\n",
      "__________________\n",
      "Elementos diferentes de null/NaN: 0\n",
      "__________________\n",
      "(0,)\n",
      "None\n"
     ]
    }
   ],
   "source": [
    "c = 'ESTU_LIMITA_COGNITIVA'\n",
    "print(data_2008[c].value_counts().sort_index().index)\n",
    "print(data_2008[c].value_counts().sort_index())\n",
    "print(missing_data(data_2008[c]))"
   ]
  },
  {
   "cell_type": "code",
   "execution_count": 18,
   "metadata": {
    "collapsed": true
   },
   "outputs": [],
   "source": [
    "data_2008 = data_2008.drop([c], axis=1)"
   ]
  },
  {
   "cell_type": "code",
   "execution_count": 19,
   "metadata": {
    "collapsed": false
   },
   "outputs": [
    {
     "name": "stdout",
     "output_type": "stream",
     "text": [
      "Float64Index([], dtype='float64')\n",
      "Series([], Name: ESTU_LIMITA_INVIDENTE, dtype: int64)\n",
      "Elementos null/NaN 68941\n",
      "__________________\n",
      "Elementos diferentes de null/NaN: 0\n",
      "__________________\n",
      "(0,)\n",
      "None\n"
     ]
    }
   ],
   "source": [
    "c = 'ESTU_LIMITA_INVIDENTE'\n",
    "print(data_2008[c].value_counts().sort_index().index)\n",
    "print(data_2008[c].value_counts().sort_index())\n",
    "print(missing_data(data_2008[c]))"
   ]
  },
  {
   "cell_type": "code",
   "execution_count": 20,
   "metadata": {
    "collapsed": true
   },
   "outputs": [],
   "source": [
    "data_2008 = data_2008.drop([c], axis=1)"
   ]
  },
  {
   "cell_type": "code",
   "execution_count": 21,
   "metadata": {
    "collapsed": false
   },
   "outputs": [
    {
     "name": "stdout",
     "output_type": "stream",
     "text": [
      "Float64Index([], dtype='float64')\n",
      "Series([], Name: ESTU_LIMITA_MOTRIZ, dtype: int64)\n",
      "Elementos null/NaN 68941\n",
      "__________________\n",
      "Elementos diferentes de null/NaN: 0\n",
      "__________________\n",
      "(0,)\n",
      "None\n"
     ]
    }
   ],
   "source": [
    "c = 'ESTU_LIMITA_MOTRIZ'\n",
    "print(data_2008[c].value_counts().sort_index().index)\n",
    "print(data_2008[c].value_counts().sort_index())\n",
    "print(missing_data(data_2008[c]))"
   ]
  },
  {
   "cell_type": "code",
   "execution_count": 22,
   "metadata": {
    "collapsed": true
   },
   "outputs": [],
   "source": [
    "data_2008 = data_2008.drop([c], axis=1)"
   ]
  },
  {
   "cell_type": "code",
   "execution_count": 23,
   "metadata": {
    "collapsed": false
   },
   "outputs": [
    {
     "name": "stdout",
     "output_type": "stream",
     "text": [
      "Float64Index([], dtype='float64')\n",
      "Series([], Name: ESTU_LIMITA_SORDOINTERPRETE, dtype: int64)\n",
      "Elementos null/NaN 68941\n",
      "__________________\n",
      "Elementos diferentes de null/NaN: 0\n",
      "__________________\n",
      "(0,)\n",
      "None\n"
     ]
    }
   ],
   "source": [
    "c = 'ESTU_LIMITA_SORDOINTERPRETE'\n",
    "print(data_2008[c].value_counts().sort_index().index)\n",
    "print(data_2008[c].value_counts().sort_index())\n",
    "print(missing_data(data_2008[c]))"
   ]
  },
  {
   "cell_type": "code",
   "execution_count": 24,
   "metadata": {
    "collapsed": true
   },
   "outputs": [],
   "source": [
    "data_2008 = data_2008.drop([c], axis=1)"
   ]
  },
  {
   "cell_type": "code",
   "execution_count": 25,
   "metadata": {
    "collapsed": false
   },
   "outputs": [
    {
     "name": "stdout",
     "output_type": "stream",
     "text": [
      "Float64Index([], dtype='float64')\n",
      "Series([], Name: ESTU_LIMITA_SORDONOINTERPRETE, dtype: int64)\n",
      "Elementos null/NaN 68941\n",
      "__________________\n",
      "Elementos diferentes de null/NaN: 0\n",
      "__________________\n",
      "(0,)\n",
      "None\n"
     ]
    }
   ],
   "source": [
    "c = 'ESTU_LIMITA_SORDONOINTERPRETE'\n",
    "print(data_2008[c].value_counts().sort_index().index)\n",
    "print(data_2008[c].value_counts().sort_index())\n",
    "print(missing_data(data_2008[c]))"
   ]
  },
  {
   "cell_type": "code",
   "execution_count": 26,
   "metadata": {
    "collapsed": true
   },
   "outputs": [],
   "source": [
    "data_2008 = data_2008.drop([c], axis=1)"
   ]
  },
  {
   "cell_type": "code",
   "execution_count": 27,
   "metadata": {
    "collapsed": false,
    "scrolled": true
   },
   "outputs": [
    {
     "name": "stdout",
     "output_type": "stream",
     "text": [
      "Float64Index([ 1.0,  2.0,  3.0,  4.0,  5.0,  6.0,  7.0,  8.0,  9.0, 10.0, 11.0,\n",
      "              12.0, 13.0, 14.0, 15.0, 16.0, 99.0],\n",
      "             dtype='float64')\n",
      "1     2428\n",
      "2       50\n",
      "3       54\n",
      "4        9\n",
      "5        8\n",
      "6       17\n",
      "7        6\n",
      "8       14\n",
      "9       12\n",
      "10       6\n",
      "11    1042\n",
      "12       6\n",
      "13      31\n",
      "14       3\n",
      "15       3\n",
      "16       1\n",
      "99     852\n",
      "Name: ESTU_ETNIA, dtype: int64\n",
      "Elementos null/NaN 64399\n",
      "__________________\n",
      "Elementos diferentes de null/NaN: 4542\n",
      "__________________\n",
      "(4542,)\n",
      "None\n"
     ]
    }
   ],
   "source": [
    "c = 'ESTU_ETNIA'\n",
    "print(data_2008[c].value_counts().sort_index().index)\n",
    "print(data_2008[c].value_counts().sort_index())\n",
    "print(missing_data(data_2008[c]))"
   ]
  },
  {
   "cell_type": "code",
   "execution_count": 28,
   "metadata": {
    "collapsed": false,
    "scrolled": true
   },
   "outputs": [
    {
     "name": "stdout",
     "output_type": "stream",
     "text": [
      "Index(['ABEJORRAL', 'ACACIAS', 'AGUAZUL', 'AGUSTIN CODAZZI', 'AIPE', 'ALBAN',\n",
      "       'ALBAN (SAN JOSE)', 'ALBANIA', 'ALCALA', 'ALDANA',\n",
      "       ...\n",
      "       'YAGUARA', 'YALI', 'YARUMAL', 'YOLOMBO', 'YOPAL', 'YOTOCO', 'YUMBO',\n",
      "       'ZARZAL', 'ZIPACON', 'ZIPAQUIRA'],\n",
      "      dtype='object', length=388)\n",
      "ABEJORRAL                       3\n",
      "ACACIAS                        12\n",
      "AGUAZUL                        11\n",
      "AGUSTIN CODAZZI                17\n",
      "AIPE                            1\n",
      "ALBAN                           2\n",
      "ALBAN (SAN JOSE)               65\n",
      "ALBANIA                        73\n",
      "ALCALA                        102\n",
      "ALDANA                         83\n",
      "ALTAMIRA                        2\n",
      "AMBALEMA                        1\n",
      "ANCUYA                         85\n",
      "ANDALUCIA                     194\n",
      "ANGELOPOLIS                    26\n",
      "ANSERMA                         1\n",
      "ANSERMANUEVO                  137\n",
      "APARTADO                       63\n",
      "ARAUCA                         24\n",
      "ARAUQUITA                      12\n",
      "ARBOLEDA (BERRUECOS)           59\n",
      "ARGELIA                        41\n",
      "ARJONA                          1\n",
      "ARMENIA                       140\n",
      "ARMERO (GUAYABAL)               2\n",
      "ATACO                           1\n",
      "ATRATO (YUTO)                   2\n",
      "BALBOA                         15\n",
      "BARANOA                         2\n",
      "BARBACOAS                     120\n",
      "                             ... \n",
      "ULLOA                          55\n",
      "UMBITA                          1\n",
      "UNE                             6\n",
      "URAMITA                         3\n",
      "VALENCIA                       15\n",
      "VALLE DE SAN JOSE               1\n",
      "VALLEDUPAR                    147\n",
      "VALPARAISO                     16\n",
      "VERGARA                         5\n",
      "VERSALLES                      79\n",
      "VIJES                          81\n",
      "VILLA DEL ROSARIO               2\n",
      "VILLA GUAMEZ (LA HORMIGA)      14\n",
      "VILLA RICA                     15\n",
      "VILLAMARIA                      3\n",
      "VILLANUEVA                      2\n",
      "VILLAVICENCIO                 240\n",
      "VILLETA                        15\n",
      "VISTA HERMOSA                   1\n",
      "YACUANQUER                    108\n",
      "YAGUARA                         1\n",
      "YALI                            1\n",
      "YARUMAL                        13\n",
      "YOLOMBO                        11\n",
      "YOPAL                         169\n",
      "YOTOCO                        130\n",
      "YUMBO                        1031\n",
      "ZARZAL                        448\n",
      "ZIPACON                         1\n",
      "ZIPAQUIRA                      87\n",
      "Name: ESTU_RESIDE_MCPIO, dtype: int64\n",
      "Elementos null/NaN 22\n",
      "__________________\n",
      "Elementos diferentes de null/NaN: 68919\n",
      "__________________\n",
      "(68919,)\n",
      "None\n"
     ]
    }
   ],
   "source": [
    "c = 'ESTU_RESIDE_MCPIO'\n",
    "print(data_2008[c].value_counts().sort_index().index)\n",
    "print(data_2008[c].value_counts().sort_index())\n",
    "print(missing_data(data_2008[c]))"
   ]
  },
  {
   "cell_type": "code",
   "execution_count": 29,
   "metadata": {
    "collapsed": false,
    "scrolled": true
   },
   "outputs": [
    {
     "name": "stdout",
     "output_type": "stream",
     "text": [
      "Index(['ANTIOQUIA', 'ARAUCA', 'ATLÁNTICO', 'BOGOTÁ', 'BOLÍVAR', 'BOYACÁ',\n",
      "       'CALDAS', 'CAQUETÁ', 'CASANARE', 'CAUCA', 'CESAR', 'CHOCÓ',\n",
      "       'CUNDINAMARCA', 'CÓRDOBA', 'GUAINÍA', 'GUAVIARE', 'HUILA', 'LA GUAJIRA',\n",
      "       'MAGDALENA', 'META', 'NARIÑO', 'NORTE SANTANDER', 'PUTUMAYO', 'QUINDÍO',\n",
      "       'RISARALDA', 'SAN ANDRÉS', 'SANTANDER', 'SUCRE', 'TOLIMA', 'VALLE'],\n",
      "      dtype='object')\n",
      "ANTIOQUIA           3014\n",
      "ARAUCA                49\n",
      "ATLÁNTICO            700\n",
      "BOGOTÁ              6374\n",
      "BOLÍVAR              205\n",
      "BOYACÁ               228\n",
      "CALDAS               469\n",
      "CAQUETÁ              123\n",
      "CASANARE             183\n",
      "CAUCA               1185\n",
      "CESAR                164\n",
      "CHOCÓ                  8\n",
      "CUNDINAMARCA        1047\n",
      "CÓRDOBA               77\n",
      "GUAINÍA               13\n",
      "GUAVIARE               1\n",
      "HUILA                275\n",
      "LA GUAJIRA            99\n",
      "MAGDALENA             89\n",
      "META                 271\n",
      "NARIÑO             11361\n",
      "NORTE SANTANDER      115\n",
      "PUTUMAYO             116\n",
      "QUINDÍO              159\n",
      "RISARALDA            278\n",
      "SAN ANDRÉS             1\n",
      "SANTANDER            511\n",
      "SUCRE                  9\n",
      "TOLIMA               392\n",
      "VALLE              41403\n",
      "Name: ESTU_RESIDE_DEPTO, dtype: int64\n",
      "Elementos null/NaN 22\n",
      "__________________\n",
      "Elementos diferentes de null/NaN: 68919\n",
      "__________________\n",
      "(68919,)\n",
      "None\n"
     ]
    }
   ],
   "source": [
    "c = 'ESTU_RESIDE_DEPTO'\n",
    "print(data_2008[c].value_counts().sort_index().index)\n",
    "print(data_2008[c].value_counts().sort_index())\n",
    "print(missing_data(data_2008[c]))"
   ]
  },
  {
   "cell_type": "code",
   "execution_count": 30,
   "metadata": {
    "collapsed": false
   },
   "outputs": [
    {
     "name": "stdout",
     "output_type": "stream",
     "text": [
      "Float64Index([1.0, 2.0, 3.0, 4.0, 5.0, 6.0, 7.0, 8.0, 9.0, 10.0], dtype='float64')\n",
      "1      6147\n",
      "2      2553\n",
      "3      1189\n",
      "4      6754\n",
      "5      1877\n",
      "6      4452\n",
      "7      3961\n",
      "8      1677\n",
      "9      1420\n",
      "10    38887\n",
      "Name: ESTU_ZONA_RESIDE, dtype: int64\n",
      "Elementos null/NaN 24\n",
      "__________________\n",
      "Elementos diferentes de null/NaN: 68917\n",
      "__________________\n",
      "(68917,)\n",
      "None\n"
     ]
    }
   ],
   "source": [
    "c = 'ESTU_ZONA_RESIDE'\n",
    "print(data_2008[c].value_counts().sort_index().index)\n",
    "print(data_2008[c].value_counts().sort_index())\n",
    "print(missing_data(data_2008[c]))"
   ]
  },
  {
   "cell_type": "code",
   "execution_count": 31,
   "metadata": {
    "collapsed": false
   },
   "outputs": [
    {
     "name": "stdout",
     "output_type": "stream",
     "text": [
      "Float64Index([1.0, 2.0], dtype='float64')\n",
      "1    56441\n",
      "2    12413\n",
      "Name: ESTU_AREA_RESIDE, dtype: int64\n",
      "Elementos null/NaN 87\n",
      "__________________\n",
      "Elementos diferentes de null/NaN: 68854\n",
      "__________________\n",
      "(68854,)\n",
      "None\n"
     ]
    }
   ],
   "source": [
    "c = 'ESTU_AREA_RESIDE'\n",
    "print(data_2008[c].value_counts().sort_index().index)\n",
    "print(data_2008[c].value_counts().sort_index())\n",
    "print(missing_data(data_2008[c]))"
   ]
  },
  {
   "cell_type": "code",
   "execution_count": 32,
   "metadata": {
    "collapsed": false
   },
   "outputs": [
    {
     "name": "stdout",
     "output_type": "stream",
     "text": [
      "Float64Index([0.0, 1.0], dtype='float64')\n",
      "0     2591\n",
      "1    61360\n",
      "Name: FAMI_LEE_ESCRIBE_PADRE, dtype: int64\n",
      "Elementos null/NaN 4990\n",
      "__________________\n",
      "Elementos diferentes de null/NaN: 63951\n",
      "__________________\n",
      "(63951,)\n",
      "None\n"
     ]
    }
   ],
   "source": [
    "c = 'FAMI_LEE_ESCRIBE_PADRE'\n",
    "print(data_2008[c].value_counts().sort_index().index)\n",
    "print(data_2008[c].value_counts().sort_index())\n",
    "print(missing_data(data_2008[c]))"
   ]
  },
  {
   "cell_type": "code",
   "execution_count": 33,
   "metadata": {
    "collapsed": false
   },
   "outputs": [
    {
     "name": "stdout",
     "output_type": "stream",
     "text": [
      "Float64Index([0.0, 1.0], dtype='float64')\n",
      "0     2311\n",
      "1    61640\n",
      "Name: FAMI_LEE_ESCRIBE_MADRE, dtype: int64\n",
      "Elementos null/NaN 4990\n",
      "__________________\n",
      "Elementos diferentes de null/NaN: 63951\n",
      "__________________\n",
      "(63951,)\n",
      "None\n"
     ]
    }
   ],
   "source": [
    "c = 'FAMI_LEE_ESCRIBE_MADRE'\n",
    "print(data_2008[c].value_counts().sort_index().index)\n",
    "print(data_2008[c].value_counts().sort_index())\n",
    "print(missing_data(data_2008[c]))"
   ]
  },
  {
   "cell_type": "code",
   "execution_count": 34,
   "metadata": {
    "collapsed": false,
    "scrolled": true
   },
   "outputs": [
    {
     "name": "stdout",
     "output_type": "stream",
     "text": [
      "Float64Index([ 0.0,  1.0,  2.0,  3.0,  4.0,  5.0,  7.0,  9.0, 10.0, 11.0, 12.0,\n",
      "              13.0, 14.0, 15.0, 16.0, 17.0, 99.0],\n",
      "             dtype='float64')\n",
      "0      1829\n",
      "1         4\n",
      "2        13\n",
      "3         9\n",
      "4         5\n",
      "5         8\n",
      "7         3\n",
      "9      8675\n",
      "10    12015\n",
      "11     8898\n",
      "12    16945\n",
      "13     1034\n",
      "14     2695\n",
      "15     1039\n",
      "16     7707\n",
      "17     2858\n",
      "99     5112\n",
      "Name: FAMI_EDUCA_PADRE, dtype: int64\n",
      "Elementos null/NaN 92\n",
      "__________________\n",
      "Elementos diferentes de null/NaN: 68849\n",
      "__________________\n",
      "(68849,)\n",
      "None\n"
     ]
    }
   ],
   "source": [
    "c = 'FAMI_EDUCA_PADRE'\n",
    "print(data_2008[c].value_counts().sort_index().index)\n",
    "print(data_2008[c].value_counts().sort_index())\n",
    "print(missing_data(data_2008[c]))"
   ]
  },
  {
   "cell_type": "code",
   "execution_count": 35,
   "metadata": {
    "collapsed": false,
    "scrolled": true
   },
   "outputs": [
    {
     "name": "stdout",
     "output_type": "stream",
     "text": [
      "Float64Index([ 0.0,  1.0,  2.0,  3.0,  4.0,  5.0,  7.0,  9.0, 10.0, 11.0, 12.0,\n",
      "              13.0, 14.0, 15.0, 16.0, 17.0, 99.0],\n",
      "             dtype='float64')\n",
      "0      1460\n",
      "1         2\n",
      "2        14\n",
      "3        11\n",
      "4         6\n",
      "5         7\n",
      "7         4\n",
      "9      8496\n",
      "10    12080\n",
      "11    10502\n",
      "12    17367\n",
      "13     1298\n",
      "14     2845\n",
      "15     1363\n",
      "16     7453\n",
      "17     2211\n",
      "99     3730\n",
      "Name: FAMI_EDUCA_MADRE, dtype: int64\n",
      "Elementos null/NaN 92\n",
      "__________________\n",
      "Elementos diferentes de null/NaN: 68849\n",
      "__________________\n",
      "(68849,)\n",
      "None\n"
     ]
    }
   ],
   "source": [
    "c = 'FAMI_EDUCA_MADRE'\n",
    "print(data_2008[c].value_counts().sort_index().index)\n",
    "print(data_2008[c].value_counts().sort_index())\n",
    "print(missing_data(data_2008[c]))"
   ]
  },
  {
   "cell_type": "code",
   "execution_count": 36,
   "metadata": {
    "collapsed": false,
    "scrolled": true
   },
   "outputs": [
    {
     "name": "stdout",
     "output_type": "stream",
     "text": [
      "Float64Index([ 1.0,  3.0,  5.0,  6.0,  7.0,  9.0, 10.0, 11.0, 12.0, 13.0, 14.0,\n",
      "              15.0, 16.0, 17.0, 18.0, 19.0, 20.0, 21.0, 22.0, 23.0, 24.0, 25.0,\n",
      "              26.0, 99.0],\n",
      "             dtype='float64')\n",
      "1         2\n",
      "3         1\n",
      "5         2\n",
      "6         2\n",
      "7         2\n",
      "9        22\n",
      "10        1\n",
      "11        3\n",
      "12       13\n",
      "13     2297\n",
      "14     3955\n",
      "15     1833\n",
      "16     2123\n",
      "17     3377\n",
      "18     2745\n",
      "19    12345\n",
      "20     3849\n",
      "21    19731\n",
      "22      589\n",
      "23     2164\n",
      "24      149\n",
      "25       35\n",
      "26     6275\n",
      "99     7334\n",
      "Name: FAMI_OCUPA_PADRE, dtype: int64\n",
      "Elementos null/NaN 92\n",
      "__________________\n",
      "Elementos diferentes de null/NaN: 68849\n",
      "__________________\n",
      "(68849,)\n",
      "None\n"
     ]
    }
   ],
   "source": [
    "c = 'FAMI_OCUPA_PADRE'\n",
    "print(data_2008[c].value_counts().sort_index().index)\n",
    "print(data_2008[c].value_counts().sort_index())\n",
    "print(missing_data(data_2008[c]))"
   ]
  },
  {
   "cell_type": "code",
   "execution_count": 37,
   "metadata": {
    "collapsed": false,
    "scrolled": true
   },
   "outputs": [
    {
     "name": "stdout",
     "output_type": "stream",
     "text": [
      "Float64Index([ 2.0,  3.0,  5.0,  6.0,  7.0,  8.0,  9.0, 10.0, 11.0, 12.0, 13.0,\n",
      "              14.0, 15.0, 16.0, 17.0, 18.0, 19.0, 20.0, 21.0, 22.0, 23.0, 24.0,\n",
      "              25.0, 26.0, 99.0],\n",
      "             dtype='float64')\n",
      "2         1\n",
      "3         1\n",
      "5         1\n",
      "6         1\n",
      "7         1\n",
      "8         1\n",
      "9        10\n",
      "10       27\n",
      "11        1\n",
      "12        4\n",
      "13     1134\n",
      "14     2936\n",
      "15      988\n",
      "16     1560\n",
      "17     2790\n",
      "18     2510\n",
      "19     3533\n",
      "20     1695\n",
      "21     8277\n",
      "22    34184\n",
      "23      728\n",
      "24      189\n",
      "25      178\n",
      "26     4438\n",
      "99     3661\n",
      "Name: FAMI_OCUPA_MADRE, dtype: int64\n",
      "Elementos null/NaN 92\n",
      "__________________\n",
      "Elementos diferentes de null/NaN: 68849\n",
      "__________________\n",
      "(68849,)\n",
      "None\n"
     ]
    }
   ],
   "source": [
    "c = 'FAMI_OCUPA_MADRE'\n",
    "print(data_2008[c].value_counts().sort_index().index)\n",
    "print(data_2008[c].value_counts().sort_index())\n",
    "print(missing_data(data_2008[c]))"
   ]
  },
  {
   "cell_type": "code",
   "execution_count": 38,
   "metadata": {
    "collapsed": false
   },
   "outputs": [
    {
     "name": "stdout",
     "output_type": "stream",
     "text": [
      "Float64Index([0.0, 1.0, 2.0, 3.0, 4.0, 5.0, 6.0, 7.0, 8.0, 9.0, 10.0], dtype='float64')\n",
      "0     11608\n",
      "1     18146\n",
      "2     17297\n",
      "3      9041\n",
      "4      4401\n",
      "5      2229\n",
      "6      1177\n",
      "7       702\n",
      "8       410\n",
      "9       294\n",
      "10      394\n",
      "Name: FAMI_NUM_HERMANOS, dtype: int64\n",
      "Elementos null/NaN 3242\n",
      "__________________\n",
      "Elementos diferentes de null/NaN: 65699\n",
      "__________________\n",
      "(65699,)\n",
      "None\n"
     ]
    }
   ],
   "source": [
    "c = 'FAMI_NUM_HERMANOS'\n",
    "print(data_2008[c].value_counts().sort_index().index)\n",
    "print(data_2008[c].value_counts().sort_index())\n",
    "print(missing_data(data_2008[c]))"
   ]
  },
  {
   "cell_type": "code",
   "execution_count": 39,
   "metadata": {
    "collapsed": false,
    "scrolled": true
   },
   "outputs": [
    {
     "name": "stdout",
     "output_type": "stream",
     "text": [
      "Float64Index([1.0, 2.0, 3.0, 4.0, 5.0, 6.0, 7.0, 8.0, 9.0, 88.0, 99.0], dtype='float64')\n",
      "1      1993\n",
      "2      3572\n",
      "3      7677\n",
      "4     15271\n",
      "5      1397\n",
      "6      2332\n",
      "7      3318\n",
      "8      4839\n",
      "9       634\n",
      "88    11775\n",
      "99     1893\n",
      "Name: FAMI_EDUCA_HERMANO, dtype: int64\n",
      "Elementos null/NaN 14240\n",
      "__________________\n",
      "Elementos diferentes de null/NaN: 54701\n",
      "__________________\n",
      "(54701,)\n",
      "None\n"
     ]
    }
   ],
   "source": [
    "c = 'FAMI_EDUCA_HERMANO'\n",
    "print(data_2008[c].value_counts().sort_index().index)\n",
    "print(data_2008[c].value_counts().sort_index())\n",
    "print(missing_data(data_2008[c]))"
   ]
  },
  {
   "cell_type": "code",
   "execution_count": 40,
   "metadata": {
    "collapsed": false
   },
   "outputs": [
    {
     "name": "stdout",
     "output_type": "stream",
     "text": [
      "Float64Index([1.0, 2.0, 88.0], dtype='float64')\n",
      "1     29931\n",
      "2      4722\n",
      "88    19444\n",
      "Name: FAMI_HERMANOS_ESTUDIAN, dtype: int64\n",
      "Elementos null/NaN 14844\n",
      "__________________\n",
      "Elementos diferentes de null/NaN: 54097\n",
      "__________________\n",
      "(54097,)\n",
      "None\n"
     ]
    }
   ],
   "source": [
    "c = 'FAMI_HERMANOS_ESTUDIAN'\n",
    "print(data_2008[c].value_counts().sort_index().index)\n",
    "print(data_2008[c].value_counts().sort_index())\n",
    "print(missing_data(data_2008[c]))"
   ]
  },
  {
   "cell_type": "code",
   "execution_count": 41,
   "metadata": {
    "collapsed": false
   },
   "outputs": [
    {
     "name": "stdout",
     "output_type": "stream",
     "text": [
      "Float64Index([1.0, 2.0, 3.0, 4.0, 5.0, 6.0, 8.0], dtype='float64')\n",
      "1    18688\n",
      "2    25141\n",
      "3    15264\n",
      "4     3726\n",
      "5     2964\n",
      "6     2390\n",
      "8      464\n",
      "Name: FAMI_ESTRATO_VIVIENDA, dtype: int64\n",
      "Elementos null/NaN 304\n",
      "__________________\n",
      "Elementos diferentes de null/NaN: 68637\n",
      "__________________\n",
      "(68637,)\n",
      "None\n"
     ]
    }
   ],
   "source": [
    "c = 'FAMI_ESTRATO_VIVIENDA'\n",
    "print(data_2008[c].value_counts().sort_index().index)\n",
    "print(data_2008[c].value_counts().sort_index())\n",
    "print(missing_data(data_2008[c]))"
   ]
  },
  {
   "cell_type": "code",
   "execution_count": 42,
   "metadata": {
    "collapsed": true
   },
   "outputs": [],
   "source": [
    "data_2008[c] = data_2008[c].replace(8.0, np.nan)"
   ]
  },
  {
   "cell_type": "code",
   "execution_count": 43,
   "metadata": {
    "collapsed": false
   },
   "outputs": [
    {
     "name": "stdout",
     "output_type": "stream",
     "text": [
      "Float64Index([1.0, 2.0, 3.0, 4.0, 5.0], dtype='float64')\n",
      "1    20060\n",
      "2    16006\n",
      "3     2947\n",
      "4     1497\n",
      "5    28339\n",
      "Name: FAMI_NIVEL_SISBEN, dtype: int64\n",
      "Elementos null/NaN 92\n",
      "__________________\n",
      "Elementos diferentes de null/NaN: 68849\n",
      "__________________\n",
      "(68849,)\n",
      "None\n"
     ]
    }
   ],
   "source": [
    "c = 'FAMI_NIVEL_SISBEN'\n",
    "print(data_2008[c].value_counts().sort_index().index)\n",
    "print(data_2008[c].value_counts().sort_index())\n",
    "print(missing_data(data_2008[c]))"
   ]
  },
  {
   "cell_type": "code",
   "execution_count": 44,
   "metadata": {
    "collapsed": false
   },
   "outputs": [
    {
     "name": "stdout",
     "output_type": "stream",
     "text": [
      "Float64Index([1.0, 2.0, 3.0, 4.0, 5.0, 6.0, 7.0, 8.0, 9.0, 10.0, 11.0, 12.0], dtype='float64')\n",
      "1       874\n",
      "2      3567\n",
      "3     13373\n",
      "4     20926\n",
      "5     15453\n",
      "6      7211\n",
      "7      3286\n",
      "8      1816\n",
      "9       897\n",
      "10      625\n",
      "11      293\n",
      "12      528\n",
      "Name: FAMI_PERSONAS_HOGAR, dtype: int64\n",
      "Elementos null/NaN 92\n",
      "__________________\n",
      "Elementos diferentes de null/NaN: 68849\n",
      "__________________\n",
      "(68849,)\n",
      "None\n"
     ]
    }
   ],
   "source": [
    "c = 'FAMI_PERSONAS_HOGAR'\n",
    "print(data_2008[c].value_counts().sort_index().index)\n",
    "print(data_2008[c].value_counts().sort_index())\n",
    "print(missing_data(data_2008[c]))"
   ]
  },
  {
   "cell_type": "code",
   "execution_count": 45,
   "metadata": {
    "collapsed": false
   },
   "outputs": [
    {
     "name": "stdout",
     "output_type": "stream",
     "text": [
      "Float64Index([1.0, 2.0, 3.0, 4.0, 5.0], dtype='float64')\n",
      "1     1991\n",
      "2    28877\n",
      "3     3827\n",
      "4    33556\n",
      "5      598\n",
      "Name: FAMI_PISOSHOGAR, dtype: int64\n",
      "Elementos null/NaN 92\n",
      "__________________\n",
      "Elementos diferentes de null/NaN: 68849\n",
      "__________________\n",
      "(68849,)\n",
      "None\n"
     ]
    }
   ],
   "source": [
    "c = 'FAMI_PISOSHOGAR'\n",
    "print(data_2008[c].value_counts().sort_index().index)\n",
    "print(data_2008[c].value_counts().sort_index())\n",
    "print(missing_data(data_2008[c]))"
   ]
  },
  {
   "cell_type": "code",
   "execution_count": 46,
   "metadata": {
    "collapsed": false
   },
   "outputs": [
    {
     "name": "stdout",
     "output_type": "stream",
     "text": [
      "Float64Index([1.0, 2.0, 3.0, 4.0, 5.0, 6.0, 7.0, 8.0, 9.0, 10.0], dtype='float64')\n",
      "1       988\n",
      "2      5145\n",
      "3     14578\n",
      "4     17751\n",
      "5     13866\n",
      "6      7448\n",
      "7      3247\n",
      "8      1819\n",
      "9       782\n",
      "10      977\n",
      "Name: FAMI_CUARTOS_HOGAR, dtype: int64\n",
      "Elementos null/NaN 2340\n",
      "__________________\n",
      "Elementos diferentes de null/NaN: 66601\n",
      "__________________\n",
      "(66601,)\n",
      "None\n"
     ]
    }
   ],
   "source": [
    "c = 'FAMI_CUARTOS_HOGAR'\n",
    "print(data_2008[c].value_counts().sort_index().index)\n",
    "print(data_2008[c].value_counts().sort_index())\n",
    "print(missing_data(data_2008[c]))"
   ]
  },
  {
   "cell_type": "code",
   "execution_count": 47,
   "metadata": {
    "collapsed": false
   },
   "outputs": [
    {
     "name": "stdout",
     "output_type": "stream",
     "text": [
      "Float64Index([1.0, 2.0, 3.0, 4.0, 5.0, 6.0, 7.0, 8.0, 9.0, 10.0], dtype='float64')\n",
      "1      3508\n",
      "2     23282\n",
      "3     27578\n",
      "4     10377\n",
      "5      2691\n",
      "6       836\n",
      "7       299\n",
      "8       138\n",
      "9        50\n",
      "10       90\n",
      "Name: FAMI_DORMITORIOS_HOGAR, dtype: int64\n",
      "Elementos null/NaN 92\n",
      "__________________\n",
      "Elementos diferentes de null/NaN: 68849\n",
      "__________________\n",
      "(68849,)\n",
      "None\n"
     ]
    }
   ],
   "source": [
    "c = 'FAMI_DORMITORIOS_HOGAR'\n",
    "print(data_2008[c].value_counts().sort_index().index)\n",
    "print(data_2008[c].value_counts().sort_index())\n",
    "print(missing_data(data_2008[c]))"
   ]
  },
  {
   "cell_type": "code",
   "execution_count": 48,
   "metadata": {
    "collapsed": false
   },
   "outputs": [
    {
     "name": "stdout",
     "output_type": "stream",
     "text": [
      "Float64Index([0.0, 1.0, 2.0, 3.0, 4.0], dtype='float64')\n",
      "0    39577\n",
      "1    12969\n",
      "2    10992\n",
      "3     5127\n",
      "4      184\n",
      "Name: FAMI_COMPUTADOR, dtype: int64\n",
      "Elementos null/NaN 92\n",
      "__________________\n",
      "Elementos diferentes de null/NaN: 68849\n",
      "__________________\n",
      "(68849,)\n",
      "None\n"
     ]
    }
   ],
   "source": [
    "c = 'FAMI_COMPUTADOR'\n",
    "print(data_2008[c].value_counts().sort_index().index)\n",
    "print(data_2008[c].value_counts().sort_index())\n",
    "print(missing_data(data_2008[c]))"
   ]
  },
  {
   "cell_type": "code",
   "execution_count": 49,
   "metadata": {
    "collapsed": false
   },
   "outputs": [
    {
     "name": "stdout",
     "output_type": "stream",
     "text": [
      "Float64Index([1.0, 2.0, 3.0, 4.0, 5.0, 6.0, 7.0], dtype='float64')\n",
      "1    15846\n",
      "2    30705\n",
      "3    10773\n",
      "4     5084\n",
      "5     1904\n",
      "6     1461\n",
      "7     3076\n",
      "Name: FAMI_INGRESO_FMILIAR_MENSUAL, dtype: int64\n",
      "Elementos null/NaN 92\n",
      "__________________\n",
      "Elementos diferentes de null/NaN: 68849\n",
      "__________________\n",
      "(68849,)\n",
      "None\n"
     ]
    }
   ],
   "source": [
    "c = 'FAMI_INGRESO_FMILIAR_MENSUAL'\n",
    "print(data_2008[c].value_counts().sort_index().index)\n",
    "print(data_2008[c].value_counts().sort_index())\n",
    "print(missing_data(data_2008[c]))"
   ]
  },
  {
   "cell_type": "code",
   "execution_count": 50,
   "metadata": {
    "collapsed": false
   },
   "outputs": [
    {
     "name": "stdout",
     "output_type": "stream",
     "text": [
      "Float64Index([0.0, 1.0, 2.0, 3.0, 4.0, 5.0, 6.0, 7.0], dtype='float64')\n",
      "0    60832\n",
      "1     5881\n",
      "2     1293\n",
      "3      328\n",
      "4      174\n",
      "5      269\n",
      "6        7\n",
      "7        8\n",
      "Name: ESTU_TRABAJA, dtype: int64\n",
      "Elementos null/NaN 149\n",
      "__________________\n",
      "Elementos diferentes de null/NaN: 68792\n",
      "__________________\n",
      "(68792,)\n",
      "None\n"
     ]
    }
   ],
   "source": [
    "c = 'ESTU_TRABAJA'\n",
    "print(data_2008[c].value_counts().sort_index().index)\n",
    "print(data_2008[c].value_counts().sort_index())\n",
    "print(missing_data(data_2008[c]))"
   ]
  },
  {
   "cell_type": "code",
   "execution_count": 51,
   "metadata": {
    "collapsed": false,
    "scrolled": true
   },
   "outputs": [
    {
     "name": "stdout",
     "output_type": "stream",
     "text": [
      "Float64Index([ 0.0,  1.0,  2.0,  3.0,  4.0,  5.0,  6.0,  7.0,  8.0,  9.0, 10.0,\n",
      "              11.0, 12.0, 13.0, 14.0, 15.0, 16.0, 17.0, 18.0, 19.0, 20.0],\n",
      "             dtype='float64')\n",
      "0       24\n",
      "1       34\n",
      "2       74\n",
      "3      126\n",
      "4      254\n",
      "5      179\n",
      "6      220\n",
      "7      106\n",
      "8      850\n",
      "9      105\n",
      "10     304\n",
      "11      45\n",
      "12     205\n",
      "13      33\n",
      "14      69\n",
      "15     203\n",
      "16     143\n",
      "17      25\n",
      "18      91\n",
      "19      65\n",
      "20    4788\n",
      "Name: ESTU_HORAS_TRABAJA, dtype: int64\n",
      "Elementos null/NaN 60998\n",
      "__________________\n",
      "Elementos diferentes de null/NaN: 7943\n",
      "__________________\n",
      "(7943,)\n",
      "None\n"
     ]
    }
   ],
   "source": [
    "c = 'ESTU_HORAS_TRABAJA'\n",
    "print(data_2008[c].value_counts().sort_index().index)\n",
    "print(data_2008[c].value_counts().sort_index())\n",
    "print(missing_data(data_2008[c]))"
   ]
  },
  {
   "cell_type": "code",
   "execution_count": 52,
   "metadata": {
    "collapsed": false
   },
   "outputs": [
    {
     "name": "stdout",
     "output_type": "stream",
     "text": [
      "Float64Index([0.0, 1.0, 8.0, 9.0, 10.0, 11.0, 12.0], dtype='float64')\n",
      "0     36990\n",
      "1         2\n",
      "8     18535\n",
      "9      2543\n",
      "10     1698\n",
      "11     3170\n",
      "12     5974\n",
      "Name: COLE_VALOR_PENSION, dtype: int64\n",
      "Elementos null/NaN 29\n",
      "__________________\n",
      "Elementos diferentes de null/NaN: 68912\n",
      "__________________\n",
      "(68912,)\n",
      "None\n"
     ]
    }
   ],
   "source": [
    "c = 'COLE_VALOR_PENSION'\n",
    "print(data_2008[c].value_counts().sort_index().index)\n",
    "print(data_2008[c].value_counts().sort_index())\n",
    "print(missing_data(data_2008[c]))"
   ]
  },
  {
   "cell_type": "code",
   "execution_count": 53,
   "metadata": {
    "collapsed": false
   },
   "outputs": [
    {
     "name": "stdout",
     "output_type": "stream",
     "text": [
      "Float64Index([2002.0, 2003.0, 2005.0, 2006.0, 2007.0, 2008.0, 2009.0, 2010.0,\n",
      "              2011.0, 2013.0],\n",
      "             dtype='float64')\n",
      "2002        1\n",
      "2003        1\n",
      "2005        4\n",
      "2006        3\n",
      "2007       48\n",
      "2008    68537\n",
      "2009      316\n",
      "2010       19\n",
      "2011        1\n",
      "2013        1\n",
      "Name: IND_ANNO_TERMINO_BACHILLERATO, dtype: int64\n",
      "Elementos null/NaN 10\n",
      "__________________\n",
      "Elementos diferentes de null/NaN: 68931\n",
      "__________________\n",
      "(68931,)\n",
      "None\n"
     ]
    }
   ],
   "source": [
    "c = 'IND_ANNO_TERMINO_BACHILLERATO'\n",
    "print(data_2008[c].value_counts().sort_index().index)\n",
    "print(data_2008[c].value_counts().sort_index())\n",
    "print(missing_data(data_2008[c]))"
   ]
  },
  {
   "cell_type": "code",
   "execution_count": 54,
   "metadata": {
    "collapsed": false
   },
   "outputs": [
    {
     "name": "stdout",
     "output_type": "stream",
     "text": [
      "Float64Index([1.0], dtype='float64')\n",
      "1    535\n",
      "Name: IND_TERMINO_BACHILLERATO, dtype: int64\n",
      "Elementos null/NaN 68406\n",
      "__________________\n",
      "Elementos diferentes de null/NaN: 535\n",
      "__________________\n",
      "(535,)\n",
      "None\n"
     ]
    }
   ],
   "source": [
    "c = 'IND_TERMINO_BACHILLERATO'\n",
    "print(data_2008[c].value_counts().sort_index().index)\n",
    "print(data_2008[c].value_counts().sort_index())\n",
    "print(missing_data(data_2008[c]))"
   ]
  },
  {
   "cell_type": "code",
   "execution_count": 55,
   "metadata": {
    "collapsed": false,
    "scrolled": true
   },
   "outputs": [
    {
     "name": "stdout",
     "output_type": "stream",
     "text": [
      "Float64Index([     3.0,     42.0,    182.0,    265.0,    638.0,   1503.0,\n",
      "                3046.0,   3327.0,   3418.0,   3459.0,\n",
      "              ...\n",
      "              161612.0, 162099.0, 165274.0, 168237.0, 169268.0, 169698.0,\n",
      "              170217.0, 170803.0, 175703.0, 999999.0],\n",
      "             dtype='float64', length=1950)\n",
      "3          97\n",
      "42          1\n",
      "182        97\n",
      "265        10\n",
      "638        32\n",
      "1503       43\n",
      "3046       60\n",
      "3327       12\n",
      "3418       42\n",
      "3459       74\n",
      "3483        1\n",
      "3525      113\n",
      "4234       43\n",
      "4788        1\n",
      "4804        1\n",
      "5397        1\n",
      "5413       27\n",
      "6023      140\n",
      "6775       25\n",
      "6981        8\n",
      "7013       58\n",
      "7054       15\n",
      "7070      103\n",
      "7088       51\n",
      "7096        1\n",
      "7138        1\n",
      "7278        1\n",
      "7419        1\n",
      "7427        1\n",
      "7484        1\n",
      "         ... \n",
      "143651      1\n",
      "143826      1\n",
      "143842      2\n",
      "145334      1\n",
      "146688      1\n",
      "149377      3\n",
      "150169      1\n",
      "150300      2\n",
      "150318      1\n",
      "150474      1\n",
      "151373      1\n",
      "152744      1\n",
      "154674      1\n",
      "155390      1\n",
      "155614      1\n",
      "155911      1\n",
      "156448      1\n",
      "158436      1\n",
      "160739      1\n",
      "160952      1\n",
      "161612      1\n",
      "162099      1\n",
      "165274      3\n",
      "168237      1\n",
      "169268      1\n",
      "169698      1\n",
      "170217      1\n",
      "170803      1\n",
      "175703      1\n",
      "999999    185\n",
      "Name: IND_COD_ICFES_TERMINO, dtype: int64\n",
      "Elementos null/NaN 259\n",
      "__________________\n",
      "Elementos diferentes de null/NaN: 68682\n",
      "__________________\n",
      "(68682,)\n",
      "None\n"
     ]
    }
   ],
   "source": [
    "c = 'IND_COD_ICFES_TERMINO'\n",
    "print(data_2008[c].value_counts().sort_index().index)\n",
    "print(data_2008[c].value_counts().sort_index())\n",
    "print(missing_data(data_2008[c]))"
   ]
  },
  {
   "cell_type": "code",
   "execution_count": 56,
   "metadata": {
    "collapsed": false,
    "scrolled": true
   },
   "outputs": [
    {
     "name": "stdout",
     "output_type": "stream",
     "text": [
      "Int64Index([   182,    265,    638,   1503,   3046,   3327,   3418,   3459,\n",
      "              3483,   3525,\n",
      "            ...\n",
      "            137042, 137067, 137075, 137091, 137109, 137125, 137133, 137158,\n",
      "            137174, 137182],\n",
      "           dtype='int64', length=1794)\n",
      "182        98\n",
      "265        10\n",
      "638        32\n",
      "1503       43\n",
      "3046       60\n",
      "3327       12\n",
      "3418       43\n",
      "3459       75\n",
      "3483        1\n",
      "3525      113\n",
      "4234       43\n",
      "6023      140\n",
      "6775       25\n",
      "6981       20\n",
      "7013       58\n",
      "7054       18\n",
      "7070      104\n",
      "7088       52\n",
      "9985        3\n",
      "11213     208\n",
      "11239      69\n",
      "11254      22\n",
      "11262      49\n",
      "11270      88\n",
      "11288     115\n",
      "11296     283\n",
      "11312     155\n",
      "11320     114\n",
      "11338     312\n",
      "11379      19\n",
      "         ... \n",
      "136614     14\n",
      "136630     19\n",
      "136689      8\n",
      "136713      3\n",
      "136747     25\n",
      "136754     13\n",
      "136796     19\n",
      "136812      6\n",
      "136853      6\n",
      "136887      9\n",
      "136903    167\n",
      "136911      6\n",
      "136929     19\n",
      "136937     27\n",
      "136952     27\n",
      "136960      4\n",
      "136994     98\n",
      "137000     10\n",
      "137018     22\n",
      "137034     19\n",
      "137042      4\n",
      "137067      9\n",
      "137075     21\n",
      "137091     10\n",
      "137109      8\n",
      "137125      7\n",
      "137133     13\n",
      "137158      8\n",
      "137174      3\n",
      "137182      7\n",
      "Name: COLE_COD_ICFES, dtype: int64\n",
      "Elementos null/NaN 0\n",
      "__________________\n",
      "Elementos diferentes de null/NaN: 68941\n",
      "__________________\n",
      "(68941,)\n",
      "None\n"
     ]
    }
   ],
   "source": [
    "c = 'COLE_COD_ICFES'\n",
    "print(data_2008[c].value_counts().sort_index().index)\n",
    "print(data_2008[c].value_counts().sort_index())\n",
    "print(missing_data(data_2008[c]))"
   ]
  },
  {
   "cell_type": "code",
   "execution_count": 57,
   "metadata": {
    "collapsed": true
   },
   "outputs": [],
   "source": [
    "for i in data_2008[c].value_counts().sort_index().index:\n",
    "    if len(str(i))<4:\n",
    "        data_2008[c] = data_2008[c].replace(i, np.nan)"
   ]
  },
  {
   "cell_type": "code",
   "execution_count": 58,
   "metadata": {
    "collapsed": false,
    "scrolled": true
   },
   "outputs": [
    {
     "name": "stdout",
     "output_type": "stream",
     "text": [
      "Index(['            ', '010500103391', '034100105808', '051100116867',\n",
      "       '105001000566', '105001000876', '105001003387', '105001003395',\n",
      "       '105001003425', '105001012106',\n",
      "       ...\n",
      "       '576001091472', '576622134546', '625214000001', '625269000075',\n",
      "       '625269000078', '625269000084', '625286000041', '625843000124',\n",
      "       '625899000017', '818001100015'],\n",
      "      dtype='object', length=1605)\n",
      "                920\n",
      "010500103391     28\n",
      "034100105808     18\n",
      "051100116867      5\n",
      "105001000566     22\n",
      "105001000876     12\n",
      "105001003387     13\n",
      "105001003395     43\n",
      "105001003425     10\n",
      "105001012106      8\n",
      "105001014397     18\n",
      "105001024571    233\n",
      "105088000532     12\n",
      "105088001512     36\n",
      "105088002993      8\n",
      "105129000534     43\n",
      "105376000440      9\n",
      "105440000131      8\n",
      "108001003289      6\n",
      "108001004617      1\n",
      "111001001538     21\n",
      "111001009971     20\n",
      "111001010031     85\n",
      "111001010251     23\n",
      "111001010839      9\n",
      "111001011029      7\n",
      "111001030856     29\n",
      "111001034134      2\n",
      "111001036781     33\n",
      "111001075515     10\n",
      "               ... \n",
      "476130001186     12\n",
      "476130001208     21\n",
      "476233002003     11\n",
      "476248000478     79\n",
      "476248000648      5\n",
      "476248000877      5\n",
      "476248032012     33\n",
      "476520003791     16\n",
      "476520003813     20\n",
      "476520006324      4\n",
      "476520007207     86\n",
      "476892001183     10\n",
      "476892099710     17\n",
      "476892099728      5\n",
      "476895000382     32\n",
      "519001000002     26\n",
      "525899000016     34\n",
      "541548000100      7\n",
      "552356000068     26\n",
      "568001009690     37\n",
      "576001091472     27\n",
      "576622134546     18\n",
      "625214000001     20\n",
      "625269000075     17\n",
      "625269000078     54\n",
      "625269000084      7\n",
      "625286000041     75\n",
      "625843000124      2\n",
      "625899000017     28\n",
      "818001100015      9\n",
      "Name: COLE_COD_DANE_INSTITUCION, dtype: int64\n",
      "Elementos null/NaN 0\n",
      "__________________\n",
      "Elementos diferentes de null/NaN: 68941\n",
      "__________________\n",
      "(68941,)\n",
      "None\n"
     ]
    }
   ],
   "source": [
    "c = 'COLE_COD_DANE_INSTITUCION'\n",
    "print(data_2008[c].value_counts().sort_index().index)\n",
    "print(data_2008[c].value_counts().sort_index())\n",
    "print(missing_data(data_2008[c]))"
   ]
  },
  {
   "cell_type": "code",
   "execution_count": 59,
   "metadata": {
    "collapsed": true
   },
   "outputs": [],
   "source": [
    "data_2008[c] = data_2008[c].replace('            ', np.nan)"
   ]
  },
  {
   "cell_type": "code",
   "execution_count": 60,
   "metadata": {
    "collapsed": false,
    "scrolled": true
   },
   "outputs": [
    {
     "name": "stdout",
     "output_type": "stream",
     "text": [
      "Index([' COL FUND STA ISABEL DE HUNGRIA', ' ESCUELA URBANA JOSE ANTONIO GALAN',\n",
      "       ' FUND COL PAR SAN PEDRO CLAVER',\n",
      "       '07/01 INSTITUCION EDUCATIVA JORGE ISAACS INEM',\n",
      "       '20/01 INSTITUCION EDUCATIVA, SIETE DE AGOSTO',\n",
      "       '28/01 INSTITUCIÓN EDUCATIVA SANTA FE',\n",
      "       '32/01 INSTITUCION EDUCATIVA NORMAL SUPERIOR SANTIAGO DE CALI',\n",
      "       '38/01 INSTITUCION EDUCATIVA AGUSTIN NIETO CABALLERO',\n",
      "       '41/01 INSTITUCION EDUCATIVA VILLA DEL SUR',\n",
      "       '44/01 INSTITUCIÓN EDUCATIVA COMERCIAL CIUDAD DE CALI',\n",
      "       ...\n",
      "       'SUSANA LOPEZ DE VALENCIA', 'TABLONES',\n",
      "       'TECNOLÓGICO EN INFORMATICA Y COMERCIO DE BUENAVENTURA INCOMEB',\n",
      "       'TERESA CALDERÓN DE LASSO',\n",
      "       'TÉCNICO INDUSTRIAL GERARDO VALENCIA CANO - SEDE PRINCIPAL',\n",
      "       'UNAD UNIVERSIDAD NACIONAL ABIERTA Y A DISTANCIA',\n",
      "       'UNIDAD TECNOLOGICA DE OCCIDENTE',\n",
      "       'UNIVERSIDAD NACIONAL ABIERTA Y A DISTANCIA', 'VERNOT SCHOOL',\n",
      "       'XINSTITUTO TECNICO COMERCIAL PILOTO'],\n",
      "      dtype='object', length=1619)\n",
      " COL FUND STA ISABEL DE HUNGRIA                                                                         318\n",
      " ESCUELA URBANA JOSE ANTONIO GALAN                                                                       18\n",
      " FUND COL PAR SAN PEDRO CLAVER                                                                           71\n",
      "07/01 INSTITUCION EDUCATIVA JORGE ISAACS INEM                                                           553\n",
      "20/01 INSTITUCION EDUCATIVA, SIETE DE AGOSTO                                                            106\n",
      "28/01 INSTITUCIÓN EDUCATIVA SANTA FE                                                                     91\n",
      "32/01 INSTITUCION EDUCATIVA NORMAL SUPERIOR SANTIAGO DE CALI                                            223\n",
      "38/01 INSTITUCION EDUCATIVA AGUSTIN NIETO CABALLERO                                                     109\n",
      "41/01 INSTITUCION EDUCATIVA VILLA DEL SUR                                                               128\n",
      "44/01 INSTITUCIÓN EDUCATIVA COMERCIAL CIUDAD DE CALI                                                    234\n",
      "58/01 INSTITUCION EDUCATIVA GABRIELA MISTRAL                                                            117\n",
      "69/01 INSTITUCION EDUCATIVA LA ESPERANZA                                                                 31\n",
      "74/01 INSTITUCION EDUCATIVA JUANA DE CAICEDO Y CUERO                                                     64\n",
      "80/01 INSTITUCIÓN EDUCATIVA PANCE                                                                        21\n",
      "81/02 INSTITUCION EDUCATIVA LA BUITRERA JOSE MARIA GARCIA DE TOLED                                       42\n",
      "84/04  JOSE HOLGUIN GARCES                                                                               13\n",
      "85/02 SAT JOSE HOLGUIN GARCES                                                                            19\n",
      "86/02 INSTITUCION EDUCATIVA LA LEONERA  ITA FARALLONES                                                    9\n",
      "ABSALON TORRES CAMACHO                                                                                  135\n",
      "ACAD AMERICANA DE SISTEMAS Y COMERCIO                                                                    24\n",
      "ACAD CENTRAL DE SISTEMAS ACSI                                                                            19\n",
      "ACADE MILIT JOAQUÍN DE CAICEDO Y CUERO                                                                   19\n",
      "ACADEMIA ACADEMIA SAM                                                                                    14\n",
      "ACADEMIA COLOMBIANA DE ENSEÑANZA                                                                         19\n",
      "ACADEMIA COMERCIAL REAL                                                                                  30\n",
      "ACADEMIA DE CIENCIAS DE COLOMBIA AKADEMOS                                                                25\n",
      "ACADEMIA MILIT CORONEL MIGUEL CABAL BARONA                                                               14\n",
      "ACADEMIA MILITAR GENERAL CUSTODIO GARCIA ROVIRA                                                          23\n",
      "ACADEMIA MILITAR GENERAL JOSÉ MARÍA CABAL                                                                31\n",
      "AGRICOLA CAMPOALEGRE                                                                                     38\n",
      "                                                                                                       ... \n",
      "SEDE PRINCIPAL AGUACLARA                                                                                 54\n",
      "SEDE PRINCIPAL CONCENTRACIÓN DE DESARROLLO RURAL                                                         34\n",
      "SEDE PRINCIPAL GIMNASIO DEL PACIFICO CENTRAL                                                            276\n",
      "SEDE PRINCIPAL INSTITUTO JULIA RESTREPO                                                                 320\n",
      "SEDE PRINCIPAL INSTITUTO TEC.  INDUSTRIAL C.S.L.                                                        192\n",
      "SEDE PRINCIPAL LA GRACIELA                                                                              134\n",
      "SEDE PRINCIPAL LICEO MODERNO                                                                            171\n",
      "SEDE PRINCIPAL NO. 7 MARIA ANTONIA RUIZ                                                                  73\n",
      "SEDE PRINCIPAL UNIDAD DOCENTE JOVITA SANTA COLOMA                                                        48\n",
      "SEM DE CRISTO SACERDOTE                                                                                  39\n",
      "SEMILLA DE LA ESPERANZA                                                                                  31\n",
      "SEMINARIO MENOR ARQUIDIOCESANO                                                                           67\n",
      "SERVICIO EDUCATIVO NAL DE ADULTOS SENDAS                                                                 91\n",
      "SEVILLA                                                                                                 184\n",
      "SIMON BOLIVAR                                                                                           148\n",
      "SIMON RODRIGUEZ                                                                                          54\n",
      "SIXTO MARIA ROJAS                                                                                        39\n",
      "SOC ESCUELA KARL C PARRISH                                                                               43\n",
      "SOR MARIA JULIANA                                                                                       129\n",
      "STUDIO SISTEMAS AGENCIA CRISTIANA DE SERVICIO Y EDUCACION                                               122\n",
      "SUSANA LOPEZ DE VALENCIA                                                                                 60\n",
      "TABLONES                                                                                                 29\n",
      "TECNOLÓGICO EN INFORMATICA Y COMERCIO DE BUENAVENTURA INCOMEB                                            20\n",
      "TERESA CALDERÓN DE LASSO                                                                                 25\n",
      "TÉCNICO INDUSTRIAL GERARDO VALENCIA CANO - SEDE PRINCIPAL                                               185\n",
      "UNAD UNIVERSIDAD NACIONAL ABIERTA Y A DISTANCIA                                                           5\n",
      "UNIDAD TECNOLOGICA DE OCCIDENTE                                                                           7\n",
      "UNIVERSIDAD NACIONAL ABIERTA Y A DISTANCIA                                                               34\n",
      "VERNOT SCHOOL                                                                                             6\n",
      "XINSTITUTO TECNICO COMERCIAL PILOTO                                                                       4\n",
      "Name: COLE_NOMBRE_SEDE, dtype: int64\n",
      "Elementos null/NaN 0\n",
      "__________________\n",
      "Elementos diferentes de null/NaN: 68941\n",
      "__________________\n",
      "(68941,)\n",
      "None\n"
     ]
    }
   ],
   "source": [
    "c = 'COLE_NOMBRE_SEDE'\n",
    "print(data_2008[c].value_counts().sort_index().index)\n",
    "print(data_2008[c].value_counts().sort_index())\n",
    "print(missing_data(data_2008[c]))"
   ]
  },
  {
   "cell_type": "code",
   "execution_count": 61,
   "metadata": {
    "collapsed": true
   },
   "outputs": [],
   "source": [
    "data_2008 = data_2008.drop([c], axis=1)"
   ]
  },
  {
   "cell_type": "code",
   "execution_count": 62,
   "metadata": {
    "collapsed": false
   },
   "outputs": [
    {
     "name": "stdout",
     "output_type": "stream",
     "text": [
      "Index(['A', 'B', 'F'], dtype='object')\n",
      "A    40756\n",
      "B    13174\n",
      "F    15011\n",
      "Name: COLE_CALENDARIO, dtype: int64\n",
      "Elementos null/NaN 0\n",
      "__________________\n",
      "Elementos diferentes de null/NaN: 68941\n",
      "__________________\n",
      "(68941,)\n",
      "None\n"
     ]
    }
   ],
   "source": [
    "c = 'COLE_CALENDARIO'\n",
    "print(data_2008[c].value_counts().sort_index().index)\n",
    "print(data_2008[c].value_counts().sort_index())\n",
    "print(missing_data(data_2008[c]))"
   ]
  },
  {
   "cell_type": "code",
   "execution_count": 63,
   "metadata": {
    "collapsed": false
   },
   "outputs": [
    {
     "name": "stdout",
     "output_type": "stream",
     "text": [
      "Index(['F', 'M', 'X'], dtype='object')\n",
      "F     4011\n",
      "M     1176\n",
      "X    63754\n",
      "Name: COLE_GENERO, dtype: int64\n",
      "Elementos null/NaN 0\n",
      "__________________\n",
      "Elementos diferentes de null/NaN: 68941\n",
      "__________________\n",
      "(68941,)\n",
      "None\n"
     ]
    }
   ],
   "source": [
    "c = 'COLE_GENERO'\n",
    "print(data_2008[c].value_counts().sort_index().index)\n",
    "print(data_2008[c].value_counts().sort_index())\n",
    "print(missing_data(data_2008[c]))"
   ]
  },
  {
   "cell_type": "code",
   "execution_count": 64,
   "metadata": {
    "collapsed": false
   },
   "outputs": [
    {
     "name": "stdout",
     "output_type": "stream",
     "text": [
      "Index(['N', 'O'], dtype='object')\n",
      "N    30917\n",
      "O    38024\n",
      "Name: COLE_NATURALEZA, dtype: int64\n",
      "Elementos null/NaN 0\n",
      "__________________\n",
      "Elementos diferentes de null/NaN: 68941\n",
      "__________________\n",
      "(68941,)\n",
      "None\n"
     ]
    }
   ],
   "source": [
    "c = 'COLE_NATURALEZA'\n",
    "print(data_2008[c].value_counts().sort_index().index)\n",
    "print(data_2008[c].value_counts().sort_index())\n",
    "print(missing_data(data_2008[c]))"
   ]
  },
  {
   "cell_type": "code",
   "execution_count": 65,
   "metadata": {
    "collapsed": false
   },
   "outputs": [
    {
     "name": "stdout",
     "output_type": "stream",
     "text": [
      "Float64Index([0.0, 1.0], dtype='float64')\n",
      "0    59322\n",
      "1     3955\n",
      "Name: COLE_BILINGUE, dtype: int64\n",
      "Elementos null/NaN 5664\n",
      "__________________\n",
      "Elementos diferentes de null/NaN: 63277\n",
      "__________________\n",
      "(63277,)\n",
      "None\n"
     ]
    }
   ],
   "source": [
    "c = 'COLE_BILINGUE'\n",
    "print(data_2008[c].value_counts().sort_index().index)\n",
    "print(data_2008[c].value_counts().sort_index())\n",
    "print(missing_data(data_2008[c]))"
   ]
  },
  {
   "cell_type": "code",
   "execution_count": 66,
   "metadata": {
    "collapsed": false
   },
   "outputs": [
    {
     "name": "stdout",
     "output_type": "stream",
     "text": [
      "Index(['COMPLETA U ORDINARIA', 'MAÑANA', 'NOCHE', 'SABATINA - DOMINICAL',\n",
      "       'TARDE'],\n",
      "      dtype='object')\n",
      "COMPLETA U ORDINARIA    10264\n",
      "MAÑANA                  41159\n",
      "NOCHE                    6229\n",
      "SABATINA - DOMINICAL     4044\n",
      "TARDE                    7245\n",
      "Name: COLE_JORNADA, dtype: int64\n",
      "Elementos null/NaN 0\n",
      "__________________\n",
      "Elementos diferentes de null/NaN: 68941\n",
      "__________________\n",
      "(68941,)\n",
      "None\n"
     ]
    }
   ],
   "source": [
    "c = 'COLE_JORNADA'\n",
    "print(data_2008[c].value_counts().sort_index().index)\n",
    "print(data_2008[c].value_counts().sort_index())\n",
    "print(missing_data(data_2008[c]))"
   ]
  },
  {
   "cell_type": "code",
   "execution_count": 67,
   "metadata": {
    "collapsed": false
   },
   "outputs": [
    {
     "name": "stdout",
     "output_type": "stream",
     "text": [
      "Index(['ACADEMICO', 'ACADEMICO Y TECNICO', 'NORMALISTA', 'TECNICO'], dtype='object')\n",
      "ACADEMICO              37383\n",
      "ACADEMICO Y TECNICO    11362\n",
      "NORMALISTA              1420\n",
      "TECNICO                18776\n",
      "Name: COLE_CARACTER, dtype: int64\n",
      "Elementos null/NaN 0\n",
      "__________________\n",
      "Elementos diferentes de null/NaN: 68941\n",
      "__________________\n",
      "(68941,)\n",
      "None\n"
     ]
    }
   ],
   "source": [
    "c = 'COLE_CARACTER'\n",
    "print(data_2008[c].value_counts().sort_index().index)\n",
    "print(data_2008[c].value_counts().sort_index())\n",
    "print(missing_data(data_2008[c]))"
   ]
  },
  {
   "cell_type": "code",
   "execution_count": 68,
   "metadata": {
    "collapsed": false,
    "scrolled": true
   },
   "outputs": [
    {
     "name": "stdout",
     "output_type": "stream",
     "text": [
      "Index(['ALBANIA', 'ALCALA', 'ANDALUCIA', 'ANSERMANUEVO', 'APARTADO', 'ARAUCA',\n",
      "       'ARMENIA', 'BARBACOAS', 'BARRANCABERMEJA', 'BARRANQUILLA',\n",
      "       ...\n",
      "       'TUMACO', 'TUNJA', 'TUQUERRES', 'VALLEDUPAR', 'VELEZ', 'VILLAVICENCIO',\n",
      "       'YOPAL', 'YUMBO', 'ZARZAL', 'ZIPAQUIRA'],\n",
      "      dtype='object', length=112)\n",
      "ALBANIA                      60\n",
      "ALCALA                      155\n",
      "ANDALUCIA                   186\n",
      "ANSERMANUEVO                129\n",
      "APARTADO                    160\n",
      "ARAUCA                       36\n",
      "ARMENIA                     145\n",
      "BARBACOAS                   153\n",
      "BARRANCABERMEJA               4\n",
      "BARRANQUILLA                712\n",
      "BELLO                       473\n",
      "BOGOTÁ D.C.                6271\n",
      "BOLIVAR                     105\n",
      "BUCARAMANGA                 499\n",
      "BUENAVENTURA               2398\n",
      "BUESACO                     208\n",
      "BUGA                       1562\n",
      "BUGALAGRANDE                250\n",
      "CAICEDONIA                  277\n",
      "CALI                      20853\n",
      "CALIMA (DARIEN)             167\n",
      "CANDELARIA                  652\n",
      "CARTAGENA                   198\n",
      "CARTAGO                    1609\n",
      "CAUCASIA                     37\n",
      "CHAPARRAL                    60\n",
      "CHIA                        285\n",
      "CONSACA                      75\n",
      "CUCUTA                       87\n",
      "CUMBAL                      328\n",
      "                          ...  \n",
      "RIONEGRO                     74\n",
      "ROLDANILLO                  571\n",
      "SAMANIEGO                   264\n",
      "SAN GIL                      10\n",
      "SAN PABLO                   180\n",
      "SANDONA                     289\n",
      "SANTA MARTA                  90\n",
      "SANTA ROSA DE OSOS          169\n",
      "SANTANDER DE QUILICHAO      115\n",
      "SEVILLA                     394\n",
      "SILVIA                        4\n",
      "SINCELEJO                     7\n",
      "SOACHA                      249\n",
      "SOGAMOSO                     89\n",
      "TAME                         14\n",
      "TAMINANGO                   234\n",
      "TANGUA                       48\n",
      "TORO                        180\n",
      "TRUJILLO                    229\n",
      "TULUA                      2575\n",
      "TUMACO                       63\n",
      "TUNJA                       143\n",
      "TUQUERRES                   469\n",
      "VALLEDUPAR                  176\n",
      "VELEZ                        13\n",
      "VILLAVICENCIO               274\n",
      "YOPAL                       187\n",
      "YUMBO                      1223\n",
      "ZARZAL                      460\n",
      "ZIPAQUIRA                   142\n",
      "Name: ESTU_MCPIO_PRESENTACION, dtype: int64\n",
      "Elementos null/NaN 0\n",
      "__________________\n",
      "Elementos diferentes de null/NaN: 68941\n",
      "__________________\n",
      "(68941,)\n",
      "None\n"
     ]
    }
   ],
   "source": [
    "c = 'ESTU_MCPIO_PRESENTACION'\n",
    "print(data_2008[c].value_counts().sort_index().index)\n",
    "print(data_2008[c].value_counts().sort_index())\n",
    "print(missing_data(data_2008[c]))"
   ]
  },
  {
   "cell_type": "code",
   "execution_count": 69,
   "metadata": {
    "collapsed": false,
    "scrolled": true
   },
   "outputs": [
    {
     "name": "stdout",
     "output_type": "stream",
     "text": [
      "Index(['ANTIOQUIA', 'ARAUCA', 'ATLÁNTICO', 'BOGOTÁ', 'BOLÍVAR', 'BOYACÁ',\n",
      "       'CALDAS', 'CAQUETÁ', 'CASANARE', 'CAUCA', 'CESAR', 'CHOCÓ',\n",
      "       'CUNDINAMARCA', 'CÓRDOBA', 'GUAINÍA', 'HUILA', 'LA GUAJIRA',\n",
      "       'MAGDALENA', 'META', 'NARIÑO', 'NORTE SANTANDER', 'PUTUMAYO', 'QUINDÍO',\n",
      "       'RISARALDA', 'SANTANDER', 'SUCRE', 'TOLIMA', 'VALLE'],\n",
      "      dtype='object')\n",
      "ANTIOQUIA           3052\n",
      "ARAUCA                50\n",
      "ATLÁNTICO            712\n",
      "BOGOTÁ              6271\n",
      "BOLÍVAR              213\n",
      "BOYACÁ               232\n",
      "CALDAS               492\n",
      "CAQUETÁ              118\n",
      "CASANARE             188\n",
      "CAUCA               1116\n",
      "CESAR                176\n",
      "CHOCÓ                  1\n",
      "CUNDINAMARCA         982\n",
      "CÓRDOBA               77\n",
      "GUAINÍA               13\n",
      "HUILA                273\n",
      "LA GUAJIRA            92\n",
      "MAGDALENA             90\n",
      "META                 281\n",
      "NARIÑO             11444\n",
      "NORTE SANTANDER       99\n",
      "PUTUMAYO             114\n",
      "QUINDÍO              145\n",
      "RISARALDA            262\n",
      "SANTANDER            526\n",
      "SUCRE                  7\n",
      "TOLIMA               352\n",
      "VALLE              41563\n",
      "Name: ESTU_DEPTO_PRESENTACION, dtype: int64\n",
      "Elementos null/NaN 0\n",
      "__________________\n",
      "Elementos diferentes de null/NaN: 68941\n",
      "__________________\n",
      "(68941,)\n",
      "None\n"
     ]
    }
   ],
   "source": [
    "c = 'ESTU_DEPTO_PRESENTACION'\n",
    "print(data_2008[c].value_counts().sort_index().index)\n",
    "print(data_2008[c].value_counts().sort_index())\n",
    "print(missing_data(data_2008[c]))"
   ]
  },
  {
   "cell_type": "code",
   "execution_count": 70,
   "metadata": {
    "collapsed": false
   },
   "outputs": [
    {
     "name": "stdout",
     "output_type": "stream",
     "text": [
      "Index(['EXAMEN DE ESTADO 2008-1'], dtype='object')\n",
      "EXAMEN DE ESTADO 2008-1    68941\n",
      "Name: ESTU_EXAM_NOMBREEXAMEN, dtype: int64\n",
      "Elementos null/NaN 0\n",
      "__________________\n",
      "Elementos diferentes de null/NaN: 68941\n",
      "__________________\n",
      "(68941,)\n",
      "None\n"
     ]
    }
   ],
   "source": [
    "c = 'ESTU_EXAM_NOMBREEXAMEN'\n",
    "print(data_2008[c].value_counts().sort_index().index)\n",
    "print(data_2008[c].value_counts().sort_index())\n",
    "print(missing_data(data_2008[c]))"
   ]
  },
  {
   "cell_type": "code",
   "execution_count": 71,
   "metadata": {
    "collapsed": true
   },
   "outputs": [],
   "source": [
    "data_2008 = data_2008.drop([c], axis=1)"
   ]
  },
  {
   "cell_type": "code",
   "execution_count": 72,
   "metadata": {
    "collapsed": false
   },
   "outputs": [
    {
     "name": "stdout",
     "output_type": "stream",
     "text": [
      "Float64Index([0.0, 1.0, 2.0, 3.0], dtype='float64')\n",
      "0     10\n",
      "1     19\n",
      "2     22\n",
      "3    198\n",
      "Name: ESTU_CARRDESEADA_TIPO, dtype: int64\n",
      "Elementos null/NaN 68692\n",
      "__________________\n",
      "Elementos diferentes de null/NaN: 249\n",
      "__________________\n",
      "(249,)\n",
      "None\n"
     ]
    }
   ],
   "source": [
    "c = 'ESTU_CARRDESEADA_TIPO'\n",
    "print(data_2008[c].value_counts().sort_index().index)\n",
    "print(data_2008[c].value_counts().sort_index())\n",
    "print(missing_data(data_2008[c]))"
   ]
  },
  {
   "cell_type": "code",
   "execution_count": 73,
   "metadata": {
    "collapsed": false,
    "scrolled": true
   },
   "outputs": [
    {
     "name": "stdout",
     "output_type": "stream",
     "text": [
      "Float64Index([ 1.0,  2.0,  3.0,  4.0,  5.0,  6.0,  7.0,  9.0, 11.0, 12.0, 13.0,\n",
      "              18.0, 20.0, 21.0, 22.0, 23.0, 24.0, 25.0, 27.0, 28.0, 29.0, 30.0,\n",
      "              31.0, 32.0, 33.0, 34.0, 35.0, 40.0, 41.0, 42.0, 45.0, 46.0, 47.0,\n",
      "              48.0, 56.0, 57.0, 58.0, 59.0, 61.0, 62.0, 64.0, 66.0, 70.0,\n",
      "              99.0],\n",
      "             dtype='float64')\n",
      "1      4\n",
      "2      2\n",
      "3      5\n",
      "4      1\n",
      "5      1\n",
      "6      4\n",
      "7     13\n",
      "9     15\n",
      "11     3\n",
      "12    10\n",
      "13     5\n",
      "18     7\n",
      "20     1\n",
      "21     3\n",
      "22     6\n",
      "23     5\n",
      "24     2\n",
      "25     4\n",
      "27    24\n",
      "28     1\n",
      "29     9\n",
      "30     5\n",
      "31     4\n",
      "32     3\n",
      "33     2\n",
      "34     1\n",
      "35     2\n",
      "40     1\n",
      "41    10\n",
      "42     3\n",
      "45    21\n",
      "46     1\n",
      "47     1\n",
      "48     2\n",
      "56     3\n",
      "57     8\n",
      "58     3\n",
      "59    13\n",
      "61     8\n",
      "62     4\n",
      "64     5\n",
      "66     7\n",
      "70     1\n",
      "99     6\n",
      "Name: ESTU_CARRDESEADA_NUCLEO, dtype: int64\n",
      "Elementos null/NaN 68702\n",
      "__________________\n",
      "Elementos diferentes de null/NaN: 239\n",
      "__________________\n",
      "(239,)\n",
      "None\n"
     ]
    }
   ],
   "source": [
    "c = 'ESTU_CARRDESEADA_NUCLEO'\n",
    "print(data_2008[c].value_counts().sort_index().index)\n",
    "print(data_2008[c].value_counts().sort_index())\n",
    "print(missing_data(data_2008[c]))"
   ]
  },
  {
   "cell_type": "code",
   "execution_count": 74,
   "metadata": {
    "collapsed": false,
    "scrolled": true
   },
   "outputs": [
    {
     "name": "stdout",
     "output_type": "stream",
     "text": [
      "Float64Index([1101.0, 1102.0, 1103.0, 1104.0, 1105.0, 1106.0, 1107.0, 1108.0,\n",
      "              1110.0, 1111.0,\n",
      "              ...\n",
      "              9102.0, 9103.0, 9104.0, 9105.0, 9109.0, 9110.0, 9111.0, 9112.0,\n",
      "              9114.0, 9115.0],\n",
      "             dtype='float64', length=162)\n",
      "1101    296\n",
      "1102     22\n",
      "1103     35\n",
      "1104     17\n",
      "1105      5\n",
      "1106     12\n",
      "1107      1\n",
      "1108      2\n",
      "1110    146\n",
      "1111     31\n",
      "1112     36\n",
      "1114     18\n",
      "1115      4\n",
      "1117      4\n",
      "1118      1\n",
      "1119     12\n",
      "1122      3\n",
      "1201     70\n",
      "1203    814\n",
      "1204     19\n",
      "1205      2\n",
      "1206    625\n",
      "1207     10\n",
      "1208     14\n",
      "1209      2\n",
      "1212      4\n",
      "1213      1\n",
      "1214      3\n",
      "1215      1\n",
      "1218      1\n",
      "       ... \n",
      "3902      4\n",
      "4101      1\n",
      "4108      1\n",
      "4112      1\n",
      "4701      4\n",
      "4803      1\n",
      "4806      1\n",
      "4808      3\n",
      "4809      2\n",
      "4811      5\n",
      "4812      1\n",
      "4813      4\n",
      "4814      2\n",
      "4822      1\n",
      "4823      3\n",
      "4825      1\n",
      "4827      1\n",
      "4828      1\n",
      "4835      2\n",
      "9101      5\n",
      "9102      2\n",
      "9103     25\n",
      "9104      8\n",
      "9105      3\n",
      "9109      1\n",
      "9110     15\n",
      "9111     11\n",
      "9112      3\n",
      "9114      1\n",
      "9115      2\n",
      "Name: ESTU_IES_COD_DESEADA, dtype: int64\n",
      "Elementos null/NaN 65345\n",
      "__________________\n",
      "Elementos diferentes de null/NaN: 3596\n",
      "__________________\n",
      "(3596,)\n",
      "None\n"
     ]
    }
   ],
   "source": [
    "c = 'ESTU_IES_COD_DESEADA'\n",
    "print(data_2008[c].value_counts().sort_index().index)\n",
    "print(data_2008[c].value_counts().sort_index())\n",
    "print(missing_data(data_2008[c]))"
   ]
  },
  {
   "cell_type": "code",
   "execution_count": 75,
   "metadata": {
    "collapsed": false,
    "scrolled": true
   },
   "outputs": [
    {
     "name": "stdout",
     "output_type": "stream",
     "text": [
      "Index(['ARMENIA', 'BARRANQUILLA', 'BELLO', 'BOGOTÁ D.C.', 'BUCARAMANGA',\n",
      "       'BUENAVENTURA', 'BUGA', 'CALI', 'CARTAGENA', 'CHIA', 'CUCUTA',\n",
      "       'DUITAMA', 'FLORENCIA', 'FUSAGASUGA', 'GIRARDOT', 'HONDA', 'IBAGUE',\n",
      "       'MADRID', 'MANIZALES', 'MEDELLIN', 'MOCOA', 'NEIVA', 'NILO', 'PALMIRA',\n",
      "       'PAMPLONA', 'PASTO', 'PENSILVANIA', 'PEREIRA', 'POPAYAN', 'QUIBDO',\n",
      "       'RIOHACHA', 'ROLDANILLO', 'SAN GIL', 'SANTA MARTA',\n",
      "       'SANTAFÉ DE ANTIOQUIA', 'SOGAMOSO', 'TULUA', 'TUNJA', 'TURBO',\n",
      "       'VILLAVICENCIO'],\n",
      "      dtype='object')\n",
      "ARMENIA                   17\n",
      "BARRANQUILLA               9\n",
      "BELLO                      2\n",
      "BOGOTÁ D.C.             1101\n",
      "BUCARAMANGA               34\n",
      "BUENAVENTURA               3\n",
      "BUGA                       2\n",
      "CALI                    1143\n",
      "CARTAGENA                  8\n",
      "CHIA                      32\n",
      "CUCUTA                     3\n",
      "DUITAMA                    1\n",
      "FLORENCIA                  4\n",
      "FUSAGASUGA                 3\n",
      "GIRARDOT                   1\n",
      "HONDA                      1\n",
      "IBAGUE                    12\n",
      "MADRID                     3\n",
      "MANIZALES                105\n",
      "MEDELLIN                 162\n",
      "MOCOA                      1\n",
      "NEIVA                     19\n",
      "NILO                       4\n",
      "PALMIRA                   20\n",
      "PAMPLONA                   4\n",
      "PASTO                    654\n",
      "PENSILVANIA                1\n",
      "PEREIRA                   40\n",
      "POPAYAN                  149\n",
      "QUIBDO                     1\n",
      "RIOHACHA                   1\n",
      "ROLDANILLO                 1\n",
      "SAN GIL                    1\n",
      "SANTA MARTA                1\n",
      "SANTAFÉ DE ANTIOQUIA       1\n",
      "SOGAMOSO                   2\n",
      "TULUA                     22\n",
      "TUNJA                     14\n",
      "TURBO                      1\n",
      "VILLAVICENCIO             13\n",
      "Name: ESTU_IES_MPIO_DESEADA, dtype: int64\n",
      "Elementos null/NaN 65345\n",
      "__________________\n",
      "Elementos diferentes de null/NaN: 3596\n",
      "__________________\n",
      "(3596,)\n",
      "None\n"
     ]
    }
   ],
   "source": [
    "c = 'ESTU_IES_MPIO_DESEADA'\n",
    "print(data_2008[c].value_counts().sort_index().index)\n",
    "print(data_2008[c].value_counts().sort_index())\n",
    "print(missing_data(data_2008[c]))"
   ]
  },
  {
   "cell_type": "code",
   "execution_count": 76,
   "metadata": {
    "collapsed": false,
    "scrolled": true
   },
   "outputs": [
    {
     "name": "stdout",
     "output_type": "stream",
     "text": [
      "Index(['ANTIOQUIA', 'ATLÁNTICO', 'BOGOTÁ', 'BOLÍVAR', 'BOYACÁ', 'CALDAS',\n",
      "       'CAQUETÁ', 'CAUCA', 'CHOCÓ', 'CUNDINAMARCA', 'HUILA', 'LA GUAJIRA',\n",
      "       'MAGDALENA', 'META', 'NARIÑO', 'NORTE SANTANDER', 'PUTUMAYO', 'QUINDÍO',\n",
      "       'RISARALDA', 'SANTANDER', 'TOLIMA', 'VALLE'],\n",
      "      dtype='object')\n",
      "ANTIOQUIA           166\n",
      "ATLÁNTICO             9\n",
      "BOGOTÁ             1101\n",
      "BOLÍVAR               8\n",
      "BOYACÁ               17\n",
      "CALDAS              106\n",
      "CAQUETÁ               4\n",
      "CAUCA               149\n",
      "CHOCÓ                 1\n",
      "CUNDINAMARCA         43\n",
      "HUILA                19\n",
      "LA GUAJIRA            1\n",
      "MAGDALENA             1\n",
      "META                 13\n",
      "NARIÑO              654\n",
      "NORTE SANTANDER       7\n",
      "PUTUMAYO              1\n",
      "QUINDÍO              17\n",
      "RISARALDA            40\n",
      "SANTANDER            35\n",
      "TOLIMA               13\n",
      "VALLE              1191\n",
      "Name: ESTU_IES_DEPT_DESEADA, dtype: int64\n",
      "Elementos null/NaN 65345\n",
      "__________________\n",
      "Elementos diferentes de null/NaN: 3596\n",
      "__________________\n",
      "(3596,)\n",
      "None\n"
     ]
    }
   ],
   "source": [
    "c = 'ESTU_IES_DEPT_DESEADA'\n",
    "print(data_2008[c].value_counts().sort_index().index)\n",
    "print(data_2008[c].value_counts().sort_index())\n",
    "print(missing_data(data_2008[c]))"
   ]
  },
  {
   "cell_type": "code",
   "execution_count": 77,
   "metadata": {
    "collapsed": false
   },
   "outputs": [
    {
     "name": "stdout",
     "output_type": "stream",
     "text": [
      "Float64Index([1.0, 2.0, 3.0, 4.0, 5.0, 6.0, 7.0, 8.0], dtype='float64')\n",
      "1      61\n",
      "2     323\n",
      "3    2177\n",
      "4     286\n",
      "5     221\n",
      "6     220\n",
      "7      80\n",
      "8     228\n",
      "Name: ESTU_RAZONINSTITUTO, dtype: int64\n",
      "Elementos null/NaN 65345\n",
      "__________________\n",
      "Elementos diferentes de null/NaN: 3596\n",
      "__________________\n",
      "(3596,)\n",
      "None\n"
     ]
    }
   ],
   "source": [
    "c = 'ESTU_RAZONINSTITUTO'\n",
    "print(data_2008[c].value_counts().sort_index().index)\n",
    "print(data_2008[c].value_counts().sort_index())\n",
    "print(missing_data(data_2008[c]))"
   ]
  },
  {
   "cell_type": "code",
   "execution_count": 78,
   "metadata": {
    "collapsed": false,
    "scrolled": true
   },
   "outputs": [
    {
     "name": "stdout",
     "output_type": "stream",
     "text": [
      "Float64Index([   74.0,   108.0,   109.0,   116.0,   122.0,   152.0,   171.0,\n",
      "                413.0,   460.0,   621.0,\n",
      "              ...\n",
      "              22594.0, 22658.0, 22662.0, 22680.0, 22683.0, 22803.0, 22901.0,\n",
      "              22941.0, 22970.0, 24642.0],\n",
      "             dtype='float64', length=701)\n",
      "74        1\n",
      "108       1\n",
      "109       1\n",
      "116       2\n",
      "122       1\n",
      "152       1\n",
      "171       1\n",
      "413       1\n",
      "460       1\n",
      "621       1\n",
      "865       1\n",
      "1774      1\n",
      "1797      1\n",
      "1807      1\n",
      "1810      2\n",
      "1815      1\n",
      "1820      1\n",
      "1847      1\n",
      "1848      2\n",
      "1867      1\n",
      "1868      2\n",
      "1869      1\n",
      "1870      3\n",
      "1882     10\n",
      "1883      2\n",
      "1891     11\n",
      "1966      2\n",
      "1973      1\n",
      "1985      3\n",
      "1998      1\n",
      "         ..\n",
      "21798     3\n",
      "21799     4\n",
      "21800     3\n",
      "21805     1\n",
      "21807     1\n",
      "21809     1\n",
      "22043     3\n",
      "22046     3\n",
      "22047     7\n",
      "22049     7\n",
      "22050     5\n",
      "22051     3\n",
      "22052     6\n",
      "22053     6\n",
      "22090     1\n",
      "22408     1\n",
      "22435     1\n",
      "22441     1\n",
      "22468     1\n",
      "22588     1\n",
      "22594     1\n",
      "22658     1\n",
      "22662     1\n",
      "22680     1\n",
      "22683     1\n",
      "22803     1\n",
      "22901     1\n",
      "22941     2\n",
      "22970     1\n",
      "24642     2\n",
      "Name: ESTU_CARRDESEADA_COD, dtype: int64\n",
      "Elementos null/NaN 65698\n",
      "__________________\n",
      "Elementos diferentes de null/NaN: 3243\n",
      "__________________\n",
      "(3243,)\n",
      "None\n"
     ]
    }
   ],
   "source": [
    "c = 'ESTU_CARRDESEADA_COD'\n",
    "print(data_2008[c].value_counts().sort_index().index)\n",
    "print(data_2008[c].value_counts().sort_index())\n",
    "print(missing_data(data_2008[c]))"
   ]
  },
  {
   "cell_type": "code",
   "execution_count": 79,
   "metadata": {
    "collapsed": false
   },
   "outputs": [
    {
     "name": "stdout",
     "output_type": "stream",
     "text": [
      "Float64Index([1.0, 2.0, 3.0, 4.0, 5.0, 6.0, 7.0], dtype='float64')\n",
      "1     973\n",
      "2    1558\n",
      "3     631\n",
      "4     186\n",
      "5     204\n",
      "6      39\n",
      "7      25\n",
      "Name: ESTU_CARRDESEADA_RAZON, dtype: int64\n",
      "Elementos null/NaN 65325\n",
      "__________________\n",
      "Elementos diferentes de null/NaN: 3616\n",
      "__________________\n",
      "(3616,)\n",
      "None\n"
     ]
    }
   ],
   "source": [
    "c = 'ESTU_CARRDESEADA_RAZON'\n",
    "print(data_2008[c].value_counts().sort_index().index)\n",
    "print(data_2008[c].value_counts().sort_index())\n",
    "print(missing_data(data_2008[c]))"
   ]
  },
  {
   "cell_type": "markdown",
   "metadata": {},
   "source": [
    "## TARGETS"
   ]
  },
  {
   "cell_type": "code",
   "execution_count": 80,
   "metadata": {
    "collapsed": false,
    "scrolled": true
   },
   "outputs": [
    {
     "name": "stdout",
     "output_type": "stream",
     "text": [
      "Index(['0', '15,44', '15,62', '23,72', '23,92', '28,98', '29,22', '33,01',\n",
      "       '33,27', '36,36', '36,65', '39,29', '39,6', '41,94', '42,26', '44,39',\n",
      "       '44,72', '46,7', '47,04', '48,93', '49,27', '51,1', '51,43', '53,24',\n",
      "       '53,57', '55,39', '55,7', '57,57', '57,87', '59,82', '60,1', '62,18',\n",
      "       '62,45', '64,72', '64,95', '67,5', '67,71', '70,67', '70,86', '74,49',\n",
      "       '74,64', '79,49', '79,61', '87,44', '87,53'],\n",
      "      dtype='object')\n",
      "0          18\n",
      "15,44      32\n",
      "15,62      42\n",
      "23,72     139\n",
      "23,92     169\n",
      "28,98     426\n",
      "29,22     469\n",
      "33,01     934\n",
      "33,27    1098\n",
      "36,36    1716\n",
      "36,65    1762\n",
      "39,29    2387\n",
      "39,6     2572\n",
      "41,94    3165\n",
      "42,26    3286\n",
      "44,39    3738\n",
      "44,72    3703\n",
      "46,7     3897\n",
      "47,04    3981\n",
      "48,93    3788\n",
      "49,27    3846\n",
      "51,1     3581\n",
      "51,43    3400\n",
      "53,24    3089\n",
      "53,57    2871\n",
      "55,39    2476\n",
      "55,7     2425\n",
      "57,57    1846\n",
      "57,87    1821\n",
      "59,82    1291\n",
      "60,1     1176\n",
      "62,18     860\n",
      "62,45     801\n",
      "64,72     563\n",
      "64,95     507\n",
      "67,5      312\n",
      "67,71     323\n",
      "70,67     148\n",
      "70,86     144\n",
      "74,49      50\n",
      "74,64      61\n",
      "79,49      12\n",
      "79,61      12\n",
      "87,44       1\n",
      "87,53       3\n",
      "Name: PUNT_LENGUAJE, dtype: int64\n",
      "Elementos null/NaN 0\n",
      "__________________\n",
      "Elementos diferentes de null/NaN: 68941\n",
      "__________________\n",
      "(68941,)\n",
      "None\n"
     ]
    }
   ],
   "source": [
    "c = 'PUNT_LENGUAJE'\n",
    "print(data_2008[c].value_counts().sort_index().index)\n",
    "print(data_2008[c].value_counts().sort_index())\n",
    "print(missing_data(data_2008[c]))"
   ]
  },
  {
   "cell_type": "code",
   "execution_count": 81,
   "metadata": {
    "collapsed": true
   },
   "outputs": [],
   "source": [
    "clean_target(data_2008, c)"
   ]
  },
  {
   "cell_type": "code",
   "execution_count": 82,
   "metadata": {
    "collapsed": false,
    "scrolled": true
   },
   "outputs": [
    {
     "name": "stdout",
     "output_type": "stream",
     "text": [
      "Index(['0', '111,01', '111,02', '16,1', '16,39', '22,63', '22,94', '27,61',\n",
      "       '27,92', '31,75', '32,05', '35,35', '35,65', '38,62', '38,91', '41,64',\n",
      "       '41,92', '44,5', '44,76', '47,26', '47,5', '49,95', '5,81', '50,18',\n",
      "       '52,61', '52,82', '55,29', '55,48', '58,01', '58,18', '6,08', '60,82',\n",
      "       '60,97', '63,78', '63,9', '66,94', '67,05', '70,42', '70,5', '74,38',\n",
      "       '74,44', '79,12', '79,16', '85,32', '85,34', '95,12'],\n",
      "      dtype='object')\n",
      "0           18\n",
      "111,01      18\n",
      "111,02      27\n",
      "16,1       218\n",
      "16,39      244\n",
      "22,63      686\n",
      "22,94      728\n",
      "27,61     1424\n",
      "27,92     1438\n",
      "31,75     2363\n",
      "32,05     2438\n",
      "35,35     3340\n",
      "35,65     3181\n",
      "38,62     3889\n",
      "38,91     3813\n",
      "41,64     4010\n",
      "41,92     4040\n",
      "44,5      3811\n",
      "44,76     3816\n",
      "47,26     3357\n",
      "47,5      3434\n",
      "49,95     2828\n",
      "5,81        50\n",
      "50,18     2832\n",
      "52,61     2210\n",
      "52,82     2152\n",
      "55,29     1570\n",
      "55,48     1677\n",
      "58,01     1263\n",
      "58,18     1170\n",
      "6,08        66\n",
      "60,82      938\n",
      "60,97      889\n",
      "63,78      722\n",
      "63,9       702\n",
      "66,94      568\n",
      "67,05      523\n",
      "70,42      401\n",
      "70,5       447\n",
      "74,38      319\n",
      "74,44      356\n",
      "79,12      234\n",
      "79,16      236\n",
      "85,32      151\n",
      "85,34      156\n",
      "95,12      188\n",
      "Name: PUNT_MATEMATICAS, dtype: int64\n",
      "Elementos null/NaN 0\n",
      "__________________\n",
      "Elementos diferentes de null/NaN: 68941\n",
      "__________________\n",
      "(68941,)\n",
      "None\n"
     ]
    }
   ],
   "source": [
    "c = 'PUNT_MATEMATICAS'\n",
    "print(data_2008[c].value_counts().sort_index().index)\n",
    "print(data_2008[c].value_counts().sort_index())\n",
    "print(missing_data(data_2008[c]))"
   ]
  },
  {
   "cell_type": "code",
   "execution_count": 83,
   "metadata": {
    "collapsed": true
   },
   "outputs": [],
   "source": [
    "clean_target(data_2008, c)"
   ]
  },
  {
   "cell_type": "code",
   "execution_count": 84,
   "metadata": {
    "collapsed": false,
    "scrolled": true
   },
   "outputs": [
    {
     "name": "stdout",
     "output_type": "stream",
     "text": [
      "Index(['0', '13,87', '13,93', '19,69', '19,72', '24,08', '24,09', '27,67',\n",
      "       '27,69', '30,78', '30,83', '33,56', '33,63', '36,11', '36,21', '38,49',\n",
      "       '38,61', '4,53', '4,62', '40,74', '40,9', '42,9', '43,08', '45', '45,2',\n",
      "       '47,04', '47,26', '49,06', '49,3', '51,06', '51,31', '53,06', '53,33',\n",
      "       '55,08', '55,36', '57,13', '57,42', '59,23', '59,52', '61,4', '61,69',\n",
      "       '63,66', '63,95', '66,05', '66,33', '68,61', '68,88', '71,4', '71,65',\n",
      "       '74,51', '74,74', '78,11'],\n",
      "      dtype='object')\n",
      "0           2\n",
      "13,87      22\n",
      "13,93      19\n",
      "19,69      68\n",
      "19,72      81\n",
      "24,08     203\n",
      "24,09     267\n",
      "27,67     602\n",
      "27,69     511\n",
      "30,78    1121\n",
      "30,83     981\n",
      "33,56    1798\n",
      "33,63    1549\n",
      "36,11    2651\n",
      "36,21    2199\n",
      "38,49    3376\n",
      "38,61    2827\n",
      "4,53        1\n",
      "4,62        1\n",
      "40,74    3747\n",
      "40,9     3264\n",
      "42,9     4048\n",
      "43,08    3454\n",
      "45       3977\n",
      "45,2     3349\n",
      "47,04    3661\n",
      "47,26    3191\n",
      "49,06    3086\n",
      "49,3     2720\n",
      "51,06    2709\n",
      "51,31    2194\n",
      "53,06    2181\n",
      "53,33    1735\n",
      "55,08    1518\n",
      "55,36    1231\n",
      "57,13    1101\n",
      "57,42     808\n",
      "59,23     732\n",
      "59,52     501\n",
      "61,4      438\n",
      "61,69     283\n",
      "63,66     245\n",
      "63,95     162\n",
      "66,05     102\n",
      "66,33      91\n",
      "68,61      65\n",
      "68,88      27\n",
      "71,4       24\n",
      "71,65       9\n",
      "74,51       7\n",
      "74,74       1\n",
      "78,11       1\n",
      "Name: PUNT_C_SOCIALES, dtype: int64\n",
      "Elementos null/NaN 0\n",
      "__________________\n",
      "Elementos diferentes de null/NaN: 68941\n",
      "__________________\n",
      "(68941,)\n",
      "None\n"
     ]
    }
   ],
   "source": [
    "c = 'PUNT_C_SOCIALES'\n",
    "print(data_2008[c].value_counts().sort_index().index)\n",
    "print(data_2008[c].value_counts().sort_index())\n",
    "print(missing_data(data_2008[c]))"
   ]
  },
  {
   "cell_type": "code",
   "execution_count": 85,
   "metadata": {
    "collapsed": true
   },
   "outputs": [],
   "source": [
    "clean_target(data_2008, c)"
   ]
  },
  {
   "cell_type": "code",
   "execution_count": 86,
   "metadata": {
    "collapsed": false,
    "scrolled": true
   },
   "outputs": [
    {
     "name": "stdout",
     "output_type": "stream",
     "text": [
      "Index(['0', '10,99', '11,06', '20,28', '20,35', '26,18', '26,25', '30,7',\n",
      "       '30,76', '34,49', '34,54', '37,83', '37,86', '40,89', '40,9', '43,75',\n",
      "       '43,77', '46,47', '46,52', '49,11', '49,2', '51,72', '51,85', '54,32',\n",
      "       '54,5', '56,96', '57,18', '59,65', '59,93', '62,45', '62,79', '65,4',\n",
      "       '65,81', '68,58', '69,05', '72,07', '72,61', '76,05', '76,66', '80,8',\n",
      "       '81,47', '86,96', '87,7', '97,35'],\n",
      "      dtype='object')\n",
      "0          13\n",
      "10,99      65\n",
      "11,06      67\n",
      "20,28     283\n",
      "20,35     250\n",
      "26,18     876\n",
      "26,25     737\n",
      "30,7     1825\n",
      "30,76    1606\n",
      "34,49    3072\n",
      "34,54    2600\n",
      "37,83    4167\n",
      "37,86    3485\n",
      "40,89    4718\n",
      "40,9     4124\n",
      "43,75    4150\n",
      "43,77    4905\n",
      "46,47    3723\n",
      "46,52    4532\n",
      "49,11    3069\n",
      "49,2     3830\n",
      "51,72    2373\n",
      "51,85    3029\n",
      "54,32    1787\n",
      "54,5     2260\n",
      "56,96    1318\n",
      "57,18    1554\n",
      "59,65     837\n",
      "59,93    1058\n",
      "62,45     563\n",
      "62,79     671\n",
      "65,4      352\n",
      "65,81     360\n",
      "68,58     186\n",
      "69,05     213\n",
      "72,07      84\n",
      "72,61      90\n",
      "76,05      44\n",
      "76,66      33\n",
      "80,8       16\n",
      "81,47      10\n",
      "86,96       3\n",
      "87,7        2\n",
      "97,35       1\n",
      "Name: PUNT_FILOSOFIA, dtype: int64\n",
      "Elementos null/NaN 0\n",
      "__________________\n",
      "Elementos diferentes de null/NaN: 68941\n",
      "__________________\n",
      "(68941,)\n",
      "None\n"
     ]
    }
   ],
   "source": [
    "c = 'PUNT_FILOSOFIA'\n",
    "print(data_2008[c].value_counts().sort_index().index)\n",
    "print(data_2008[c].value_counts().sort_index())\n",
    "print(missing_data(data_2008[c]))"
   ]
  },
  {
   "cell_type": "code",
   "execution_count": 87,
   "metadata": {
    "collapsed": true
   },
   "outputs": [],
   "source": [
    "clean_target(data_2008, c)"
   ]
  },
  {
   "cell_type": "code",
   "execution_count": 88,
   "metadata": {
    "collapsed": false,
    "scrolled": true
   },
   "outputs": [
    {
     "name": "stdout",
     "output_type": "stream",
     "text": [
      "Index(['0', '19,34', '20,17', '26,99', '27,86', '31,79', '32,68', '35,42',\n",
      "       '36,34', '38,43', '39,36', '41,06', '42', '43,43', '44,37', '45,62',\n",
      "       '46,57', '47,7', '48,64', '49,7', '50,63', '51,64', '52,56', '53,57',\n",
      "       '54,46', '55,49', '56,37', '57,44', '58,29', '59,44', '60,27', '61,53',\n",
      "       '62,33', '63,75', '64,51', '66,14', '66,87', '68,8', '69,49', '71,85',\n",
      "       '72,49', '75,53', '76,14', '80,39', '80,95', '88,13', '88,64'],\n",
      "      dtype='object')\n",
      "0         204\n",
      "19,34      84\n",
      "20,17     152\n",
      "26,99     306\n",
      "27,86     476\n",
      "31,79     851\n",
      "32,68    1232\n",
      "35,42    1936\n",
      "36,34    2370\n",
      "38,43    3094\n",
      "39,36    3599\n",
      "41,06    4066\n",
      "42       4774\n",
      "43,43    4786\n",
      "44,37    4799\n",
      "45,62    4786\n",
      "46,57    4503\n",
      "47,7     4064\n",
      "48,64    3606\n",
      "49,7     3287\n",
      "50,63    2780\n",
      "51,64    2350\n",
      "52,56    1971\n",
      "53,57    1578\n",
      "54,46    1341\n",
      "55,49    1123\n",
      "56,37     920\n",
      "57,44     677\n",
      "58,29     654\n",
      "59,44     460\n",
      "60,27     378\n",
      "61,53     344\n",
      "62,33     287\n",
      "63,75     203\n",
      "64,51     242\n",
      "66,14     146\n",
      "66,87     139\n",
      "68,8      111\n",
      "69,49      73\n",
      "71,85      59\n",
      "72,49      51\n",
      "75,53      27\n",
      "76,14      25\n",
      "80,39      13\n",
      "80,95       6\n",
      "88,13       4\n",
      "88,64       4\n",
      "Name: PUNT_BIOLOGIA, dtype: int64\n",
      "Elementos null/NaN 0\n",
      "__________________\n",
      "Elementos diferentes de null/NaN: 68941\n",
      "__________________\n",
      "(68941,)\n",
      "None\n"
     ]
    }
   ],
   "source": [
    "c = 'PUNT_BIOLOGIA'\n",
    "print(data_2008[c].value_counts().sort_index().index)\n",
    "print(data_2008[c].value_counts().sort_index())\n",
    "print(missing_data(data_2008[c]))"
   ]
  },
  {
   "cell_type": "code",
   "execution_count": 89,
   "metadata": {
    "collapsed": true
   },
   "outputs": [],
   "source": [
    "clean_target(data_2008, c)"
   ]
  },
  {
   "cell_type": "code",
   "execution_count": 90,
   "metadata": {
    "collapsed": false,
    "scrolled": true
   },
   "outputs": [
    {
     "name": "stdout",
     "output_type": "stream",
     "text": [
      "Index(['0', '17,47', '17,57', '18,16', '24,28', '24,38', '25,01', '28,51',\n",
      "       '28,61', '29,27', '31,7', '31,79', '32,49', '34,32', '34,41', '35,15',\n",
      "       '36,6', '36,68', '37,46', '38,65', '38,72', '39,55', '40,54', '40,6',\n",
      "       '41,48', '42,33', '42,38', '43,31', '44,04', '44,08', '45,07', '45,71',\n",
      "       '45,74', '46,8', '47,36', '47,37', '48,52', '49', '49,01', '50,24',\n",
      "       '50,66', '50,68', '52,01', '52,36', '52,4', '53,85', '54,13', '54,2',\n",
      "       '55,79', '56,01', '56,1', '57,89', '58,05', '58,17', '60,21', '60,31',\n",
      "       '60,46', '62,88', '62,92', '63,1', '66,09', '66,11', '66,31', '70,3',\n",
      "       '70,38', '70,56', '77,07', '77,23', '77,39', '88,28', '88,48', '88,63'],\n",
      "      dtype='object')\n",
      "0          13\n",
      "17,47      13\n",
      "17,57      42\n",
      "18,16      21\n",
      "24,28      56\n",
      "24,38     111\n",
      "25,01     102\n",
      "28,51     176\n",
      "28,61     363\n",
      "29,27     269\n",
      "31,7      401\n",
      "31,79     879\n",
      "32,49     604\n",
      "34,32     728\n",
      "34,41    1573\n",
      "35,15    1039\n",
      "36,6     1155\n",
      "36,68    2418\n",
      "37,46    1408\n",
      "38,65    1495\n",
      "38,72    2997\n",
      "39,55    1798\n",
      "40,54    1714\n",
      "40,6     3496\n",
      "41,48    1888\n",
      "42,33    1761\n",
      "42,38    3518\n",
      "43,31    1892\n",
      "44,04    1738\n",
      "44,08    3508\n",
      "         ... \n",
      "52,01     799\n",
      "52,36    1554\n",
      "52,4      796\n",
      "53,85     629\n",
      "54,13    1202\n",
      "54,2      681\n",
      "55,79     487\n",
      "56,01     992\n",
      "56,1      484\n",
      "57,89     344\n",
      "58,05     709\n",
      "58,17     355\n",
      "60,21     254\n",
      "60,31     525\n",
      "60,46     237\n",
      "62,88     175\n",
      "62,92     290\n",
      "63,1      146\n",
      "66,09     185\n",
      "66,11     110\n",
      "66,31     106\n",
      "70,3      100\n",
      "70,38      45\n",
      "70,56      55\n",
      "77,07      33\n",
      "77,23      16\n",
      "77,39      15\n",
      "88,28      10\n",
      "88,48       5\n",
      "88,63      10\n",
      "Name: PUNT_QUIMICA, dtype: int64\n",
      "Elementos null/NaN 0\n",
      "__________________\n",
      "Elementos diferentes de null/NaN: 68941\n",
      "__________________\n",
      "(68941,)\n",
      "None\n"
     ]
    }
   ],
   "source": [
    "c = 'PUNT_QUIMICA'\n",
    "print(data_2008[c].value_counts().sort_index().index)\n",
    "print(data_2008[c].value_counts().sort_index())\n",
    "print(missing_data(data_2008[c]))"
   ]
  },
  {
   "cell_type": "code",
   "execution_count": 91,
   "metadata": {
    "collapsed": true
   },
   "outputs": [],
   "source": [
    "clean_target(data_2008, c)"
   ]
  },
  {
   "cell_type": "code",
   "execution_count": 92,
   "metadata": {
    "collapsed": false,
    "scrolled": true
   },
   "outputs": [
    {
     "name": "stdout",
     "output_type": "stream",
     "text": [
      "Index(['0', '102,82', '12,71', '13,22', '22,57', '23,01', '28,74', '29,13',\n",
      "       '33,42', '33,75', '37,29', '37,58', '40,67', '40,91', '43,72', '43,91',\n",
      "       '46,55', '46,7', '49,23', '49,33', '51,8', '51,86', '54,31', '54,33',\n",
      "       '56,78', '56,8', '59,23', '59,29', '61,71', '61,82', '64,28', '64,43',\n",
      "       '66,96', '67,15', '69,81', '70,06', '72,9', '73,22', '76,34', '76,74',\n",
      "       '80,32', '80,82', '85,16', '85,79', '91,55', '92,37'],\n",
      "      dtype='object')\n",
      "0           74\n",
      "102,82       1\n",
      "12,71       71\n",
      "13,22      107\n",
      "22,57      332\n",
      "23,01      416\n",
      "28,74     1079\n",
      "29,13     1389\n",
      "33,42     2449\n",
      "33,75     2653\n",
      "37,29     4112\n",
      "37,58     4250\n",
      "40,67     5360\n",
      "40,91     5495\n",
      "43,72     5871\n",
      "43,91     5691\n",
      "46,55     5049\n",
      "46,7      4950\n",
      "49,23     3783\n",
      "49,33     3701\n",
      "51,8      2576\n",
      "51,86     2370\n",
      "54,31     1580\n",
      "54,33     1419\n",
      "56,78      901\n",
      "56,8       909\n",
      "59,23      478\n",
      "59,29      538\n",
      "61,71      282\n",
      "61,82      330\n",
      "64,28      156\n",
      "64,43      169\n",
      "66,96       88\n",
      "67,15       99\n",
      "69,81       54\n",
      "70,06       59\n",
      "72,9        25\n",
      "73,22       29\n",
      "76,34       11\n",
      "76,74       15\n",
      "80,32        4\n",
      "80,82        9\n",
      "85,16        2\n",
      "85,79        1\n",
      "91,55        3\n",
      "92,37        1\n",
      "Name: PUNT_FISICA, dtype: int64\n",
      "Elementos null/NaN 0\n",
      "__________________\n",
      "Elementos diferentes de null/NaN: 68941\n",
      "__________________\n",
      "(68941,)\n",
      "None\n"
     ]
    }
   ],
   "source": [
    "c = 'PUNT_FISICA'\n",
    "print(data_2008[c].value_counts().sort_index().index)\n",
    "print(data_2008[c].value_counts().sort_index())\n",
    "print(missing_data(data_2008[c]))"
   ]
  },
  {
   "cell_type": "code",
   "execution_count": 93,
   "metadata": {
    "collapsed": true
   },
   "outputs": [],
   "source": [
    "clean_target(data_2008, c)"
   ]
  },
  {
   "cell_type": "code",
   "execution_count": 94,
   "metadata": {
    "collapsed": false,
    "scrolled": true
   },
   "outputs": [
    {
     "name": "stdout",
     "output_type": "stream",
     "text": [
      "Index(['0', '10,66', '100', '13,98', '17,17', '20,24', '23,16', '25,94',\n",
      "       '28,58', '3,67', '31,05', '33,35', '35,47', '37,38', '39,07', '40,5',\n",
      "       '41,6', '42,2', '43,48', '44,34', '45,2', '46,06', '46,92', '47,79',\n",
      "       '48,65', '49,51', '50,37', '51,23', '52,09', '53,32', '54,31', '55,3',\n",
      "       '56,28', '57,27', '58,26', '59,25', '60,23', '61,22', '62,69', '66,91',\n",
      "       '7,22', '71,12', '75,34', '79,55', '83,41', '91,71'],\n",
      "      dtype='object')\n",
      "0          12\n",
      "10,66       7\n",
      "100       549\n",
      "13,98      11\n",
      "17,17      39\n",
      "20,24     110\n",
      "23,16     250\n",
      "25,94     577\n",
      "28,58    1071\n",
      "3,67        2\n",
      "31,05    1862\n",
      "33,35    2823\n",
      "35,47    3793\n",
      "37,38    4755\n",
      "39,07    5482\n",
      "40,5     5855\n",
      "41,6     5745\n",
      "42,2     5455\n",
      "43,48    4700\n",
      "44,34    3996\n",
      "45,2     3201\n",
      "46,06    2475\n",
      "46,92    1901\n",
      "47,79    1471\n",
      "48,65    1194\n",
      "49,51     922\n",
      "50,37     779\n",
      "51,23     685\n",
      "52,09     575\n",
      "53,32     507\n",
      "54,31     484\n",
      "55,3      479\n",
      "56,28     428\n",
      "57,27     425\n",
      "58,26     392\n",
      "59,25     411\n",
      "60,23     451\n",
      "61,22     477\n",
      "62,69     460\n",
      "66,91     540\n",
      "7,22        3\n",
      "71,12     614\n",
      "75,34     648\n",
      "79,55     721\n",
      "83,41     838\n",
      "91,71     766\n",
      "Name: PUNT_INGLES, dtype: int64\n",
      "Elementos null/NaN 0\n",
      "__________________\n",
      "Elementos diferentes de null/NaN: 68941\n",
      "__________________\n",
      "(68941,)\n",
      "None\n"
     ]
    }
   ],
   "source": [
    "c = 'PUNT_INGLES'\n",
    "print(data_2008[c].value_counts().sort_index().index)\n",
    "print(data_2008[c].value_counts().sort_index())\n",
    "print(missing_data(data_2008[c]))"
   ]
  },
  {
   "cell_type": "code",
   "execution_count": 95,
   "metadata": {
    "collapsed": true
   },
   "outputs": [],
   "source": [
    "clean_target(data_2008, c)"
   ]
  },
  {
   "cell_type": "code",
   "execution_count": 96,
   "metadata": {
    "collapsed": false
   },
   "outputs": [
    {
     "name": "stdout",
     "output_type": "stream",
     "text": [
      "Index(['A-', 'A1', 'A2', 'B+', 'B1'], dtype='object')\n",
      "A-    37852\n",
      "A1    21899\n",
      "A2     4054\n",
      "B+     2153\n",
      "B1     2983\n",
      "Name: DESEMP_INGLES, dtype: int64\n",
      "Elementos null/NaN 0\n",
      "__________________\n",
      "Elementos diferentes de null/NaN: 68941\n",
      "__________________\n",
      "(68941,)\n",
      "None\n"
     ]
    }
   ],
   "source": [
    "c = 'DESEMP_INGLES'\n",
    "print(data_2008[c].value_counts().sort_index().index)\n",
    "print(data_2008[c].value_counts().sort_index())\n",
    "print(missing_data(data_2008[c]))"
   ]
  },
  {
   "cell_type": "code",
   "execution_count": 97,
   "metadata": {
    "collapsed": false
   },
   "outputs": [
    {
     "name": "stdout",
     "output_type": "stream",
     "text": [
      "Index(['PROFUNDIZACIÓN EN BIOLOGÍA', 'PROFUNDIZACIÓN EN CIENCIAS SOCIALES',\n",
      "       'PROFUNDIZACIÓN EN LENGUAJE', 'PROFUNDIZACIÓN EN MATEMÁTICA'],\n",
      "      dtype='object')\n",
      "PROFUNDIZACIÓN EN BIOLOGÍA             20183\n",
      "PROFUNDIZACIÓN EN CIENCIAS SOCIALES    12555\n",
      "PROFUNDIZACIÓN EN LENGUAJE             25004\n",
      "PROFUNDIZACIÓN EN MATEMÁTICA           11199\n",
      "Name: NOMBRE_PROFUNDIZACION, dtype: int64\n",
      "Elementos null/NaN 0\n",
      "__________________\n",
      "Elementos diferentes de null/NaN: 68941\n",
      "__________________\n",
      "(68941,)\n",
      "None\n"
     ]
    }
   ],
   "source": [
    "c = 'NOMBRE_PROFUNDIZACION'\n",
    "print(data_2008[c].value_counts().sort_index().index)\n",
    "print(data_2008[c].value_counts().sort_index())\n",
    "print(missing_data(data_2008[c]))"
   ]
  },
  {
   "cell_type": "code",
   "execution_count": 98,
   "metadata": {
    "collapsed": false,
    "scrolled": true
   },
   "outputs": [
    {
     "name": "stdout",
     "output_type": "stream",
     "text": [
      "Index(['0', '10', '2,99', '3,15', '3,19', '3,41', '3,8', '3,94', '3,99',\n",
      "       '4,13', '4,33', '4,45', '4,49', '4,59', '4,74', '4,84', '4,88', '4,95',\n",
      "       '5,08', '5,18', '5,22', '5,27', '5,4', '5,49', '5,52', '5,56', '5,7',\n",
      "       '5,78', '5,81', '5,84', '5,99', '6,06', '6,1', '6,12', '6,29', '6,35',\n",
      "       '6,39', '6,42', '6,6', '6,66', '6,69', '6,73', '6,95', '7', '7,03',\n",
      "       '7,08', '7,36', '7,4', '7,42', '7,49', '7,88', '7,91', '7,93', '8,01',\n",
      "       '8,72', '8,8'],\n",
      "      dtype='object')\n",
      "0        602\n",
      "10        17\n",
      "2,99     950\n",
      "3,15     701\n",
      "3,19     640\n",
      "3,41     789\n",
      "3,8     2719\n",
      "3,94    1621\n",
      "3,99    1581\n",
      "4,13    1704\n",
      "4,33    4514\n",
      "4,45    2298\n",
      "4,49    2598\n",
      "4,59    2239\n",
      "4,74    5508\n",
      "4,84    2434\n",
      "4,88    3356\n",
      "4,95    2080\n",
      "5,08    4973\n",
      "5,18    1957\n",
      "5,22    3218\n",
      "5,27    1613\n",
      "5,4     3304\n",
      "5,49    1418\n",
      "5,52    2854\n",
      "5,56    1002\n",
      "5,7     1698\n",
      "5,78     890\n",
      "5,81    2144\n",
      "5,84     603\n",
      "5,99     750\n",
      "6,06     576\n",
      "6,1     1496\n",
      "6,12     359\n",
      "6,29     290\n",
      "6,35     307\n",
      "6,39     965\n",
      "6,42     225\n",
      "6,6       82\n",
      "6,66     141\n",
      "6,69     565\n",
      "6,73     154\n",
      "6,95      36\n",
      "7         52\n",
      "7,03     339\n",
      "7,08     103\n",
      "7,36      14\n",
      "7,4       12\n",
      "7,42     201\n",
      "7,49      68\n",
      "7,88       4\n",
      "7,91       3\n",
      "7,93      81\n",
      "8,01      47\n",
      "8,72      19\n",
      "8,8       27\n",
      "Name: PUNT_PROFUNDIZACION, dtype: int64\n",
      "Elementos null/NaN 0\n",
      "__________________\n",
      "Elementos diferentes de null/NaN: 68941\n",
      "__________________\n",
      "(68941,)\n",
      "None\n"
     ]
    }
   ],
   "source": [
    "c = 'PUNT_PROFUNDIZACION'\n",
    "print(data_2008[c].value_counts().sort_index().index)\n",
    "print(data_2008[c].value_counts().sort_index())\n",
    "print(missing_data(data_2008[c]))"
   ]
  },
  {
   "cell_type": "code",
   "execution_count": 99,
   "metadata": {
    "collapsed": true
   },
   "outputs": [],
   "source": [
    "clean_target(data_2008, c)"
   ]
  },
  {
   "cell_type": "code",
   "execution_count": 100,
   "metadata": {
    "collapsed": false
   },
   "outputs": [
    {
     "name": "stdout",
     "output_type": "stream",
     "text": [
      "Index(['GB', 'I', 'II', 'III'], dtype='object')\n",
      "GB     31964\n",
      "I      29239\n",
      "II      6818\n",
      "III      920\n",
      "Name: DESEMP_PROFUNDIZACION, dtype: int64\n",
      "Elementos null/NaN 0\n",
      "__________________\n",
      "Elementos diferentes de null/NaN: 68941\n",
      "__________________\n",
      "(68941,)\n",
      "None\n"
     ]
    }
   ],
   "source": [
    "c = 'DESEMP_PROFUNDIZACION'\n",
    "print(data_2008[c].value_counts().sort_index().index)\n",
    "print(data_2008[c].value_counts().sort_index())\n",
    "print(missing_data(data_2008[c]))"
   ]
  },
  {
   "cell_type": "code",
   "execution_count": 101,
   "metadata": {
    "collapsed": false
   },
   "outputs": [
    {
     "name": "stdout",
     "output_type": "stream",
     "text": [
      "Index(['MEDIO AMBIENTE', 'VIOLENCIA Y SOCIEDAD'], dtype='object')\n",
      "MEDIO AMBIENTE          34088\n",
      "VIOLENCIA Y SOCIEDAD    34853\n",
      "Name: NOMBRE_INTERDISCIPLINAR, dtype: int64\n",
      "Elementos null/NaN 0\n",
      "__________________\n",
      "Elementos diferentes de null/NaN: 68941\n",
      "__________________\n",
      "(68941,)\n",
      "None\n"
     ]
    }
   ],
   "source": [
    "c = 'NOMBRE_INTERDISCIPLINAR'\n",
    "print(data_2008[c].value_counts().sort_index().index)\n",
    "print(data_2008[c].value_counts().sort_index())\n",
    "print(missing_data(data_2008[c]))"
   ]
  },
  {
   "cell_type": "code",
   "execution_count": 102,
   "metadata": {
    "collapsed": false,
    "scrolled": true
   },
   "outputs": [
    {
     "name": "stdout",
     "output_type": "stream",
     "text": [
      "Index(['0', '22,3', '30,09', '35,09', '39', '42,36', '43,93', '45,41', '46,63',\n",
      "       '48,31', '48,4', '49,81', '51,04', '51,16', '52,17', '53,26', '54,06',\n",
      "       '54,35', '55,48', '56,71', '57,11', '58,11', '59,84', '60,48', '62,35',\n",
      "       '64,39', '69,41', '77,21', '89,75'],\n",
      "      dtype='object')\n",
      "0         583\n",
      "22,3     1479\n",
      "30,09    3249\n",
      "35,09    4706\n",
      "39       5193\n",
      "42,36    4808\n",
      "43,93     820\n",
      "45,41    3813\n",
      "46,63    2228\n",
      "48,31    2992\n",
      "48,4     3941\n",
      "49,81    5447\n",
      "51,04    6177\n",
      "51,16    2265\n",
      "52,17    5841\n",
      "53,26    4405\n",
      "54,06    1787\n",
      "54,35    2729\n",
      "55,48    1412\n",
      "56,71     597\n",
      "57,11    1386\n",
      "58,11     193\n",
      "59,84      72\n",
      "60,48    1117\n",
      "62,35      16\n",
      "64,39     816\n",
      "69,41     519\n",
      "77,21     260\n",
      "89,75      90\n",
      "Name: PUNT_INTERDISCIPLINAR, dtype: int64\n",
      "Elementos null/NaN 0\n",
      "__________________\n",
      "Elementos diferentes de null/NaN: 68941\n",
      "__________________\n",
      "(68941,)\n",
      "None\n"
     ]
    }
   ],
   "source": [
    "c = 'PUNT_INTERDISCIPLINAR'\n",
    "print(data_2008[c].value_counts().sort_index().index)\n",
    "print(data_2008[c].value_counts().sort_index())\n",
    "print(missing_data(data_2008[c]))"
   ]
  },
  {
   "cell_type": "code",
   "execution_count": 103,
   "metadata": {
    "collapsed": true
   },
   "outputs": [],
   "source": [
    "clean_target(data_2008, c)"
   ]
  },
  {
   "cell_type": "code",
   "execution_count": 104,
   "metadata": {
    "collapsed": false,
    "scrolled": true
   },
   "outputs": [
    {
     "name": "stdout",
     "output_type": "stream",
     "text": [
      "Int64Index([  0,   1,   2,   3,   4,   5,   6,   7,   8,   9,\n",
      "            ...\n",
      "            962, 963, 964, 965, 966, 967, 968, 969, 970, 971],\n",
      "           dtype='int64', length=972)\n",
      "0        1\n",
      "1      131\n",
      "2      127\n",
      "3      111\n",
      "4      116\n",
      "5      118\n",
      "6      101\n",
      "7       98\n",
      "8       94\n",
      "9       95\n",
      "10      90\n",
      "11      97\n",
      "12      88\n",
      "13      85\n",
      "14      95\n",
      "15      72\n",
      "16      91\n",
      "17      86\n",
      "18      75\n",
      "19      86\n",
      "20      89\n",
      "21      89\n",
      "22      80\n",
      "23      87\n",
      "24      77\n",
      "25      67\n",
      "26      86\n",
      "27      73\n",
      "28      71\n",
      "29      73\n",
      "      ... \n",
      "942     85\n",
      "943     82\n",
      "944     93\n",
      "945     84\n",
      "946     95\n",
      "947     90\n",
      "948     72\n",
      "949     92\n",
      "950     96\n",
      "951     93\n",
      "952     88\n",
      "953     92\n",
      "954     85\n",
      "955     99\n",
      "956     90\n",
      "957     85\n",
      "958     89\n",
      "959     91\n",
      "960     99\n",
      "961    101\n",
      "962     93\n",
      "963     89\n",
      "964     92\n",
      "965     91\n",
      "966     81\n",
      "967     78\n",
      "968     67\n",
      "969     45\n",
      "970     18\n",
      "971      7\n",
      "Name: ESTU_PUESTO, dtype: int64\n",
      "Elementos null/NaN 0\n",
      "__________________\n",
      "Elementos diferentes de null/NaN: 68941\n",
      "__________________\n",
      "(68941,)\n",
      "None\n"
     ]
    }
   ],
   "source": [
    "c = 'ESTU_PUESTO'\n",
    "print(data_2008[c].value_counts().sort_index().index)\n",
    "print(data_2008[c].value_counts().sort_index())\n",
    "print(missing_data(data_2008[c]))"
   ]
  },
  {
   "cell_type": "markdown",
   "metadata": {},
   "source": [
    "# FILE 2: 2008_2"
   ]
  },
  {
   "cell_type": "code",
   "execution_count": 105,
   "metadata": {
    "collapsed": false
   },
   "outputs": [
    {
     "name": "stderr",
     "output_type": "stream",
     "text": [
      "/usr/local/lib/python3.4/dist-packages/IPython/core/interactiveshell.py:2902: DtypeWarning: Columns (53) have mixed types. Specify dtype option on import or set low_memory=False.\n",
      "  interactivity=interactivity, compiler=compiler, result=result)\n"
     ]
    }
   ],
   "source": [
    "data_2008_2 = pd.read_csv('../DatosFTPICFES/SABER11/SB11-BASES_DE_DATOS/SB11-20082-RGSTRO-CLFCCN-V1-0.txt', delimiter = '|')"
   ]
  },
  {
   "cell_type": "code",
   "execution_count": 106,
   "metadata": {
    "collapsed": false
   },
   "outputs": [
    {
     "data": {
      "text/plain": [
       "(437532, 91)"
      ]
     },
     "execution_count": 106,
     "metadata": {},
     "output_type": "execute_result"
    }
   ],
   "source": [
    "data_2008_2.shape"
   ]
  },
  {
   "cell_type": "code",
   "execution_count": 107,
   "metadata": {
    "collapsed": false,
    "scrolled": true
   },
   "outputs": [
    {
     "data": {
      "text/html": [
       "<div>\n",
       "<table border=\"1\" class=\"dataframe\">\n",
       "  <thead>\n",
       "    <tr style=\"text-align: right;\">\n",
       "      <th></th>\n",
       "      <th>0</th>\n",
       "      <th>1</th>\n",
       "      <th>2</th>\n",
       "    </tr>\n",
       "  </thead>\n",
       "  <tbody>\n",
       "    <tr>\n",
       "      <th>ESTU_CONSECUTIVO</th>\n",
       "      <td>SABER1120082000001</td>\n",
       "      <td>SABER1120082000002</td>\n",
       "      <td>SABER1120082000003</td>\n",
       "    </tr>\n",
       "    <tr>\n",
       "      <th>PERIODO</th>\n",
       "      <td>20082</td>\n",
       "      <td>20082</td>\n",
       "      <td>20082</td>\n",
       "    </tr>\n",
       "    <tr>\n",
       "      <th>ESTU_TIPO_DOCUMENTO</th>\n",
       "      <td>T</td>\n",
       "      <td>C</td>\n",
       "      <td>C</td>\n",
       "    </tr>\n",
       "    <tr>\n",
       "      <th>ESTU_PAIS_RESIDE</th>\n",
       "      <td>CO</td>\n",
       "      <td>CO</td>\n",
       "      <td>CO</td>\n",
       "    </tr>\n",
       "    <tr>\n",
       "      <th>ESTU_GENERO</th>\n",
       "      <td>F</td>\n",
       "      <td>M</td>\n",
       "      <td>M</td>\n",
       "    </tr>\n",
       "    <tr>\n",
       "      <th>ESTU_NACIMIENTO_DIA</th>\n",
       "      <td>23</td>\n",
       "      <td>1</td>\n",
       "      <td>4</td>\n",
       "    </tr>\n",
       "    <tr>\n",
       "      <th>ESTU_NACIMIENTO_MES</th>\n",
       "      <td>3</td>\n",
       "      <td>6</td>\n",
       "      <td>12</td>\n",
       "    </tr>\n",
       "    <tr>\n",
       "      <th>ESTU_NACIMIENTO_ANNO</th>\n",
       "      <td>1991</td>\n",
       "      <td>1986</td>\n",
       "      <td>1989</td>\n",
       "    </tr>\n",
       "    <tr>\n",
       "      <th>ESTU_EDAD</th>\n",
       "      <td>17</td>\n",
       "      <td>22</td>\n",
       "      <td>18</td>\n",
       "    </tr>\n",
       "    <tr>\n",
       "      <th>ESTU_LIMITA_BAJAVISION</th>\n",
       "      <td>NaN</td>\n",
       "      <td>NaN</td>\n",
       "      <td>NaN</td>\n",
       "    </tr>\n",
       "    <tr>\n",
       "      <th>ESTU_LIMITA_SORDOCEGUERA</th>\n",
       "      <td>NaN</td>\n",
       "      <td>NaN</td>\n",
       "      <td>NaN</td>\n",
       "    </tr>\n",
       "    <tr>\n",
       "      <th>ESTU_LIMITA_COGNITIVA</th>\n",
       "      <td>NaN</td>\n",
       "      <td>NaN</td>\n",
       "      <td>NaN</td>\n",
       "    </tr>\n",
       "    <tr>\n",
       "      <th>ESTU_LIMITA_INVIDENTE</th>\n",
       "      <td>NaN</td>\n",
       "      <td>NaN</td>\n",
       "      <td>NaN</td>\n",
       "    </tr>\n",
       "    <tr>\n",
       "      <th>ESTU_LIMITA_MOTRIZ</th>\n",
       "      <td>NaN</td>\n",
       "      <td>NaN</td>\n",
       "      <td>NaN</td>\n",
       "    </tr>\n",
       "    <tr>\n",
       "      <th>ESTU_LIMITA_SORDOINTERPRETE</th>\n",
       "      <td>NaN</td>\n",
       "      <td>NaN</td>\n",
       "      <td>NaN</td>\n",
       "    </tr>\n",
       "    <tr>\n",
       "      <th>ESTU_LIMITA_SORDONOINTERPRETE</th>\n",
       "      <td>NaN</td>\n",
       "      <td>NaN</td>\n",
       "      <td>NaN</td>\n",
       "    </tr>\n",
       "    <tr>\n",
       "      <th>ESTU_ETNIA</th>\n",
       "      <td>NaN</td>\n",
       "      <td>NaN</td>\n",
       "      <td>NaN</td>\n",
       "    </tr>\n",
       "    <tr>\n",
       "      <th>ESTU_COD_RESIDE_MCPIO</th>\n",
       "      <td>5376</td>\n",
       "      <td>17001</td>\n",
       "      <td>17001</td>\n",
       "    </tr>\n",
       "    <tr>\n",
       "      <th>ESTU_RESIDE_MCPIO</th>\n",
       "      <td>LA CEJA</td>\n",
       "      <td>MANIZALES</td>\n",
       "      <td>MANIZALES</td>\n",
       "    </tr>\n",
       "    <tr>\n",
       "      <th>ESTU_RESIDE_DEPTO</th>\n",
       "      <td>ANTIOQUIA</td>\n",
       "      <td>CALDAS</td>\n",
       "      <td>CALDAS</td>\n",
       "    </tr>\n",
       "    <tr>\n",
       "      <th>ESTU_ZONA_RESIDE</th>\n",
       "      <td>10</td>\n",
       "      <td>10</td>\n",
       "      <td>10</td>\n",
       "    </tr>\n",
       "    <tr>\n",
       "      <th>ESTU_AREA_RESIDE</th>\n",
       "      <td>1</td>\n",
       "      <td>1</td>\n",
       "      <td>2</td>\n",
       "    </tr>\n",
       "    <tr>\n",
       "      <th>FAMI_LEE_ESCRIBE_PADRE</th>\n",
       "      <td>1</td>\n",
       "      <td>1</td>\n",
       "      <td>0</td>\n",
       "    </tr>\n",
       "    <tr>\n",
       "      <th>FAMI_LEE_ESCRIBE_MADRE</th>\n",
       "      <td>1</td>\n",
       "      <td>1</td>\n",
       "      <td>1</td>\n",
       "    </tr>\n",
       "    <tr>\n",
       "      <th>FAMI_EDUCA_PADRE</th>\n",
       "      <td>12</td>\n",
       "      <td>11</td>\n",
       "      <td>9</td>\n",
       "    </tr>\n",
       "    <tr>\n",
       "      <th>FAMI_EDUCA_MADRE</th>\n",
       "      <td>14</td>\n",
       "      <td>10</td>\n",
       "      <td>9</td>\n",
       "    </tr>\n",
       "    <tr>\n",
       "      <th>FAMI_OCUPA_PADRE</th>\n",
       "      <td>21</td>\n",
       "      <td>14</td>\n",
       "      <td>26</td>\n",
       "    </tr>\n",
       "    <tr>\n",
       "      <th>FAMI_OCUPA_MADRE</th>\n",
       "      <td>17</td>\n",
       "      <td>22</td>\n",
       "      <td>22</td>\n",
       "    </tr>\n",
       "    <tr>\n",
       "      <th>FAMI_NUM_HERMANOS</th>\n",
       "      <td>1</td>\n",
       "      <td>6</td>\n",
       "      <td>5</td>\n",
       "    </tr>\n",
       "    <tr>\n",
       "      <th>FAMI_EDUCA_HERMANO</th>\n",
       "      <td>8</td>\n",
       "      <td>8</td>\n",
       "      <td>2</td>\n",
       "    </tr>\n",
       "    <tr>\n",
       "      <th>...</th>\n",
       "      <td>...</td>\n",
       "      <td>...</td>\n",
       "      <td>...</td>\n",
       "    </tr>\n",
       "    <tr>\n",
       "      <th>ESTU_VECES_ESTADO</th>\n",
       "      <td>0</td>\n",
       "      <td>0</td>\n",
       "      <td>0</td>\n",
       "    </tr>\n",
       "    <tr>\n",
       "      <th>ESTU_COD_MCPIO_PRESENTACION</th>\n",
       "      <td>5376</td>\n",
       "      <td>17001</td>\n",
       "      <td>17001</td>\n",
       "    </tr>\n",
       "    <tr>\n",
       "      <th>ESTU_MCPIO_PRESENTACION</th>\n",
       "      <td>LA CEJA</td>\n",
       "      <td>MANIZALES</td>\n",
       "      <td>MANIZALES</td>\n",
       "    </tr>\n",
       "    <tr>\n",
       "      <th>ESTU_DEPTO_PRESENTACION</th>\n",
       "      <td>ANTIOQUIA</td>\n",
       "      <td>CALDAS</td>\n",
       "      <td>CALDAS</td>\n",
       "    </tr>\n",
       "    <tr>\n",
       "      <th>ESTU_EXAM_NOMBREEXAMEN</th>\n",
       "      <td>EXAMEN DE ESTADO (ICFES)</td>\n",
       "      <td>EXAMEN DE ESTADO (ICFES)</td>\n",
       "      <td>EXAMEN DE ESTADO (ICFES)</td>\n",
       "    </tr>\n",
       "    <tr>\n",
       "      <th>ESTU_CARRDESEADA_TIPO</th>\n",
       "      <td>NaN</td>\n",
       "      <td>NaN</td>\n",
       "      <td>NaN</td>\n",
       "    </tr>\n",
       "    <tr>\n",
       "      <th>ESTU_CARRDESEADA_NUCLEO</th>\n",
       "      <td>NaN</td>\n",
       "      <td>NaN</td>\n",
       "      <td>NaN</td>\n",
       "    </tr>\n",
       "    <tr>\n",
       "      <th>ESTU_IES_COD_DESEADA</th>\n",
       "      <td>NaN</td>\n",
       "      <td>NaN</td>\n",
       "      <td>NaN</td>\n",
       "    </tr>\n",
       "    <tr>\n",
       "      <th>ESTU_IES_DESEADA_NOMBRE</th>\n",
       "      <td>NaN</td>\n",
       "      <td>NaN</td>\n",
       "      <td>NaN</td>\n",
       "    </tr>\n",
       "    <tr>\n",
       "      <th>ESTU_IES_COD_MPIO_DESEADA</th>\n",
       "      <td>NaN</td>\n",
       "      <td>NaN</td>\n",
       "      <td>NaN</td>\n",
       "    </tr>\n",
       "    <tr>\n",
       "      <th>ESTU_IES_MPIO_DESEADA</th>\n",
       "      <td>NaN</td>\n",
       "      <td>NaN</td>\n",
       "      <td>NaN</td>\n",
       "    </tr>\n",
       "    <tr>\n",
       "      <th>ESTU_IES_DEPT_DESEADA</th>\n",
       "      <td>NaN</td>\n",
       "      <td>NaN</td>\n",
       "      <td>NaN</td>\n",
       "    </tr>\n",
       "    <tr>\n",
       "      <th>ESTU_RAZONINSTITUTO</th>\n",
       "      <td>NaN</td>\n",
       "      <td>NaN</td>\n",
       "      <td>NaN</td>\n",
       "    </tr>\n",
       "    <tr>\n",
       "      <th>ESTU_CARRDESEADA_COD</th>\n",
       "      <td>NaN</td>\n",
       "      <td>NaN</td>\n",
       "      <td>NaN</td>\n",
       "    </tr>\n",
       "    <tr>\n",
       "      <th>ESTU_CARRDESEADA_RAZON</th>\n",
       "      <td>NaN</td>\n",
       "      <td>NaN</td>\n",
       "      <td>NaN</td>\n",
       "    </tr>\n",
       "    <tr>\n",
       "      <th>PUNT_LENGUAJE</th>\n",
       "      <td>42,72</td>\n",
       "      <td>34,68</td>\n",
       "      <td>52,97</td>\n",
       "    </tr>\n",
       "    <tr>\n",
       "      <th>PUNT_MATEMATICAS</th>\n",
       "      <td>49,77</td>\n",
       "      <td>28,43</td>\n",
       "      <td>28,38</td>\n",
       "    </tr>\n",
       "    <tr>\n",
       "      <th>PUNT_C_SOCIALES</th>\n",
       "      <td>60,35</td>\n",
       "      <td>41,43</td>\n",
       "      <td>54,06</td>\n",
       "    </tr>\n",
       "    <tr>\n",
       "      <th>PUNT_FILOSOFIA</th>\n",
       "      <td>51,65</td>\n",
       "      <td>51,25</td>\n",
       "      <td>46,69</td>\n",
       "    </tr>\n",
       "    <tr>\n",
       "      <th>PUNT_BIOLOGIA</th>\n",
       "      <td>55,8</td>\n",
       "      <td>46,34</td>\n",
       "      <td>53,84</td>\n",
       "    </tr>\n",
       "    <tr>\n",
       "      <th>PUNT_QUIMICA</th>\n",
       "      <td>52,59</td>\n",
       "      <td>30,34</td>\n",
       "      <td>57,36</td>\n",
       "    </tr>\n",
       "    <tr>\n",
       "      <th>PUNT_FISICA</th>\n",
       "      <td>52,53</td>\n",
       "      <td>50,09</td>\n",
       "      <td>35,72</td>\n",
       "    </tr>\n",
       "    <tr>\n",
       "      <th>PUNT_INGLES</th>\n",
       "      <td>35,21</td>\n",
       "      <td>42,2</td>\n",
       "      <td>47,21</td>\n",
       "    </tr>\n",
       "    <tr>\n",
       "      <th>DESEMP_INGLES</th>\n",
       "      <td>A-</td>\n",
       "      <td>A1</td>\n",
       "      <td>A1</td>\n",
       "    </tr>\n",
       "    <tr>\n",
       "      <th>NOMBRE_PROFUNDIZACION</th>\n",
       "      <td>PROFUNDIZACIÓN EN LENGUAJE</td>\n",
       "      <td>PROFUNDIZACIÓN EN CIENCIAS SOCIALES</td>\n",
       "      <td>PROFUNDIZACIÓN EN CIENCIAS SOCIALES</td>\n",
       "    </tr>\n",
       "    <tr>\n",
       "      <th>PUNT_PROFUNDIZACION</th>\n",
       "      <td>5,3</td>\n",
       "      <td>3,5</td>\n",
       "      <td>6</td>\n",
       "    </tr>\n",
       "    <tr>\n",
       "      <th>DESEMP_PROFUNDIZACION</th>\n",
       "      <td>I</td>\n",
       "      <td>GB</td>\n",
       "      <td>I</td>\n",
       "    </tr>\n",
       "    <tr>\n",
       "      <th>NOMBRE_INTERDISCIPLINAR</th>\n",
       "      <td>MEDIO AMBIENTE</td>\n",
       "      <td>VIOLENCIA Y SOCIEDAD</td>\n",
       "      <td>VIOLENCIA Y SOCIEDAD</td>\n",
       "    </tr>\n",
       "    <tr>\n",
       "      <th>PUNT_INTERDISCIPLINAR</th>\n",
       "      <td>53,13</td>\n",
       "      <td>36,02</td>\n",
       "      <td>53,66</td>\n",
       "    </tr>\n",
       "    <tr>\n",
       "      <th>ESTU_PUESTO</th>\n",
       "      <td>114</td>\n",
       "      <td>723</td>\n",
       "      <td>229</td>\n",
       "    </tr>\n",
       "  </tbody>\n",
       "</table>\n",
       "<p>91 rows × 3 columns</p>\n",
       "</div>"
      ],
      "text/plain": [
       "                                                        0  \\\n",
       "ESTU_CONSECUTIVO                       SABER1120082000001   \n",
       "PERIODO                                             20082   \n",
       "ESTU_TIPO_DOCUMENTO                                     T   \n",
       "ESTU_PAIS_RESIDE                                       CO   \n",
       "ESTU_GENERO                                             F   \n",
       "ESTU_NACIMIENTO_DIA                                    23   \n",
       "ESTU_NACIMIENTO_MES                                     3   \n",
       "ESTU_NACIMIENTO_ANNO                                 1991   \n",
       "ESTU_EDAD                                              17   \n",
       "ESTU_LIMITA_BAJAVISION                                NaN   \n",
       "ESTU_LIMITA_SORDOCEGUERA                              NaN   \n",
       "ESTU_LIMITA_COGNITIVA                                 NaN   \n",
       "ESTU_LIMITA_INVIDENTE                                 NaN   \n",
       "ESTU_LIMITA_MOTRIZ                                    NaN   \n",
       "ESTU_LIMITA_SORDOINTERPRETE                           NaN   \n",
       "ESTU_LIMITA_SORDONOINTERPRETE                         NaN   \n",
       "ESTU_ETNIA                                            NaN   \n",
       "ESTU_COD_RESIDE_MCPIO                                5376   \n",
       "ESTU_RESIDE_MCPIO                                 LA CEJA   \n",
       "ESTU_RESIDE_DEPTO                               ANTIOQUIA   \n",
       "ESTU_ZONA_RESIDE                                       10   \n",
       "ESTU_AREA_RESIDE                                        1   \n",
       "FAMI_LEE_ESCRIBE_PADRE                                  1   \n",
       "FAMI_LEE_ESCRIBE_MADRE                                  1   \n",
       "FAMI_EDUCA_PADRE                                       12   \n",
       "FAMI_EDUCA_MADRE                                       14   \n",
       "FAMI_OCUPA_PADRE                                       21   \n",
       "FAMI_OCUPA_MADRE                                       17   \n",
       "FAMI_NUM_HERMANOS                                       1   \n",
       "FAMI_EDUCA_HERMANO                                      8   \n",
       "...                                                   ...   \n",
       "ESTU_VECES_ESTADO                                       0   \n",
       "ESTU_COD_MCPIO_PRESENTACION                          5376   \n",
       "ESTU_MCPIO_PRESENTACION                           LA CEJA   \n",
       "ESTU_DEPTO_PRESENTACION                         ANTIOQUIA   \n",
       "ESTU_EXAM_NOMBREEXAMEN           EXAMEN DE ESTADO (ICFES)   \n",
       "ESTU_CARRDESEADA_TIPO                                 NaN   \n",
       "ESTU_CARRDESEADA_NUCLEO                               NaN   \n",
       "ESTU_IES_COD_DESEADA                                  NaN   \n",
       "ESTU_IES_DESEADA_NOMBRE                               NaN   \n",
       "ESTU_IES_COD_MPIO_DESEADA                             NaN   \n",
       "ESTU_IES_MPIO_DESEADA                                 NaN   \n",
       "ESTU_IES_DEPT_DESEADA                                 NaN   \n",
       "ESTU_RAZONINSTITUTO                                   NaN   \n",
       "ESTU_CARRDESEADA_COD                                  NaN   \n",
       "ESTU_CARRDESEADA_RAZON                                NaN   \n",
       "PUNT_LENGUAJE                                       42,72   \n",
       "PUNT_MATEMATICAS                                    49,77   \n",
       "PUNT_C_SOCIALES                                     60,35   \n",
       "PUNT_FILOSOFIA                                      51,65   \n",
       "PUNT_BIOLOGIA                                        55,8   \n",
       "PUNT_QUIMICA                                        52,59   \n",
       "PUNT_FISICA                                         52,53   \n",
       "PUNT_INGLES                                         35,21   \n",
       "DESEMP_INGLES                                          A-   \n",
       "NOMBRE_PROFUNDIZACION          PROFUNDIZACIÓN EN LENGUAJE   \n",
       "PUNT_PROFUNDIZACION                                   5,3   \n",
       "DESEMP_PROFUNDIZACION                                   I   \n",
       "NOMBRE_INTERDISCIPLINAR                    MEDIO AMBIENTE   \n",
       "PUNT_INTERDISCIPLINAR                               53,13   \n",
       "ESTU_PUESTO                                           114   \n",
       "\n",
       "                                                                 1  \\\n",
       "ESTU_CONSECUTIVO                                SABER1120082000002   \n",
       "PERIODO                                                      20082   \n",
       "ESTU_TIPO_DOCUMENTO                                              C   \n",
       "ESTU_PAIS_RESIDE                                                CO   \n",
       "ESTU_GENERO                                                      M   \n",
       "ESTU_NACIMIENTO_DIA                                              1   \n",
       "ESTU_NACIMIENTO_MES                                              6   \n",
       "ESTU_NACIMIENTO_ANNO                                          1986   \n",
       "ESTU_EDAD                                                       22   \n",
       "ESTU_LIMITA_BAJAVISION                                         NaN   \n",
       "ESTU_LIMITA_SORDOCEGUERA                                       NaN   \n",
       "ESTU_LIMITA_COGNITIVA                                          NaN   \n",
       "ESTU_LIMITA_INVIDENTE                                          NaN   \n",
       "ESTU_LIMITA_MOTRIZ                                             NaN   \n",
       "ESTU_LIMITA_SORDOINTERPRETE                                    NaN   \n",
       "ESTU_LIMITA_SORDONOINTERPRETE                                  NaN   \n",
       "ESTU_ETNIA                                                     NaN   \n",
       "ESTU_COD_RESIDE_MCPIO                                        17001   \n",
       "ESTU_RESIDE_MCPIO                                        MANIZALES   \n",
       "ESTU_RESIDE_DEPTO                                           CALDAS   \n",
       "ESTU_ZONA_RESIDE                                                10   \n",
       "ESTU_AREA_RESIDE                                                 1   \n",
       "FAMI_LEE_ESCRIBE_PADRE                                           1   \n",
       "FAMI_LEE_ESCRIBE_MADRE                                           1   \n",
       "FAMI_EDUCA_PADRE                                                11   \n",
       "FAMI_EDUCA_MADRE                                                10   \n",
       "FAMI_OCUPA_PADRE                                                14   \n",
       "FAMI_OCUPA_MADRE                                                22   \n",
       "FAMI_NUM_HERMANOS                                                6   \n",
       "FAMI_EDUCA_HERMANO                                               8   \n",
       "...                                                            ...   \n",
       "ESTU_VECES_ESTADO                                                0   \n",
       "ESTU_COD_MCPIO_PRESENTACION                                  17001   \n",
       "ESTU_MCPIO_PRESENTACION                                  MANIZALES   \n",
       "ESTU_DEPTO_PRESENTACION                                     CALDAS   \n",
       "ESTU_EXAM_NOMBREEXAMEN                    EXAMEN DE ESTADO (ICFES)   \n",
       "ESTU_CARRDESEADA_TIPO                                          NaN   \n",
       "ESTU_CARRDESEADA_NUCLEO                                        NaN   \n",
       "ESTU_IES_COD_DESEADA                                           NaN   \n",
       "ESTU_IES_DESEADA_NOMBRE                                        NaN   \n",
       "ESTU_IES_COD_MPIO_DESEADA                                      NaN   \n",
       "ESTU_IES_MPIO_DESEADA                                          NaN   \n",
       "ESTU_IES_DEPT_DESEADA                                          NaN   \n",
       "ESTU_RAZONINSTITUTO                                            NaN   \n",
       "ESTU_CARRDESEADA_COD                                           NaN   \n",
       "ESTU_CARRDESEADA_RAZON                                         NaN   \n",
       "PUNT_LENGUAJE                                                34,68   \n",
       "PUNT_MATEMATICAS                                             28,43   \n",
       "PUNT_C_SOCIALES                                              41,43   \n",
       "PUNT_FILOSOFIA                                               51,25   \n",
       "PUNT_BIOLOGIA                                                46,34   \n",
       "PUNT_QUIMICA                                                 30,34   \n",
       "PUNT_FISICA                                                  50,09   \n",
       "PUNT_INGLES                                                   42,2   \n",
       "DESEMP_INGLES                                                   A1   \n",
       "NOMBRE_PROFUNDIZACION          PROFUNDIZACIÓN EN CIENCIAS SOCIALES   \n",
       "PUNT_PROFUNDIZACION                                            3,5   \n",
       "DESEMP_PROFUNDIZACION                                           GB   \n",
       "NOMBRE_INTERDISCIPLINAR                       VIOLENCIA Y SOCIEDAD   \n",
       "PUNT_INTERDISCIPLINAR                                        36,02   \n",
       "ESTU_PUESTO                                                    723   \n",
       "\n",
       "                                                                 2  \n",
       "ESTU_CONSECUTIVO                                SABER1120082000003  \n",
       "PERIODO                                                      20082  \n",
       "ESTU_TIPO_DOCUMENTO                                              C  \n",
       "ESTU_PAIS_RESIDE                                                CO  \n",
       "ESTU_GENERO                                                      M  \n",
       "ESTU_NACIMIENTO_DIA                                              4  \n",
       "ESTU_NACIMIENTO_MES                                             12  \n",
       "ESTU_NACIMIENTO_ANNO                                          1989  \n",
       "ESTU_EDAD                                                       18  \n",
       "ESTU_LIMITA_BAJAVISION                                         NaN  \n",
       "ESTU_LIMITA_SORDOCEGUERA                                       NaN  \n",
       "ESTU_LIMITA_COGNITIVA                                          NaN  \n",
       "ESTU_LIMITA_INVIDENTE                                          NaN  \n",
       "ESTU_LIMITA_MOTRIZ                                             NaN  \n",
       "ESTU_LIMITA_SORDOINTERPRETE                                    NaN  \n",
       "ESTU_LIMITA_SORDONOINTERPRETE                                  NaN  \n",
       "ESTU_ETNIA                                                     NaN  \n",
       "ESTU_COD_RESIDE_MCPIO                                        17001  \n",
       "ESTU_RESIDE_MCPIO                                        MANIZALES  \n",
       "ESTU_RESIDE_DEPTO                                           CALDAS  \n",
       "ESTU_ZONA_RESIDE                                                10  \n",
       "ESTU_AREA_RESIDE                                                 2  \n",
       "FAMI_LEE_ESCRIBE_PADRE                                           0  \n",
       "FAMI_LEE_ESCRIBE_MADRE                                           1  \n",
       "FAMI_EDUCA_PADRE                                                 9  \n",
       "FAMI_EDUCA_MADRE                                                 9  \n",
       "FAMI_OCUPA_PADRE                                                26  \n",
       "FAMI_OCUPA_MADRE                                                22  \n",
       "FAMI_NUM_HERMANOS                                                5  \n",
       "FAMI_EDUCA_HERMANO                                               2  \n",
       "...                                                            ...  \n",
       "ESTU_VECES_ESTADO                                                0  \n",
       "ESTU_COD_MCPIO_PRESENTACION                                  17001  \n",
       "ESTU_MCPIO_PRESENTACION                                  MANIZALES  \n",
       "ESTU_DEPTO_PRESENTACION                                     CALDAS  \n",
       "ESTU_EXAM_NOMBREEXAMEN                    EXAMEN DE ESTADO (ICFES)  \n",
       "ESTU_CARRDESEADA_TIPO                                          NaN  \n",
       "ESTU_CARRDESEADA_NUCLEO                                        NaN  \n",
       "ESTU_IES_COD_DESEADA                                           NaN  \n",
       "ESTU_IES_DESEADA_NOMBRE                                        NaN  \n",
       "ESTU_IES_COD_MPIO_DESEADA                                      NaN  \n",
       "ESTU_IES_MPIO_DESEADA                                          NaN  \n",
       "ESTU_IES_DEPT_DESEADA                                          NaN  \n",
       "ESTU_RAZONINSTITUTO                                            NaN  \n",
       "ESTU_CARRDESEADA_COD                                           NaN  \n",
       "ESTU_CARRDESEADA_RAZON                                         NaN  \n",
       "PUNT_LENGUAJE                                                52,97  \n",
       "PUNT_MATEMATICAS                                             28,38  \n",
       "PUNT_C_SOCIALES                                              54,06  \n",
       "PUNT_FILOSOFIA                                               46,69  \n",
       "PUNT_BIOLOGIA                                                53,84  \n",
       "PUNT_QUIMICA                                                 57,36  \n",
       "PUNT_FISICA                                                  35,72  \n",
       "PUNT_INGLES                                                  47,21  \n",
       "DESEMP_INGLES                                                   A1  \n",
       "NOMBRE_PROFUNDIZACION          PROFUNDIZACIÓN EN CIENCIAS SOCIALES  \n",
       "PUNT_PROFUNDIZACION                                              6  \n",
       "DESEMP_PROFUNDIZACION                                            I  \n",
       "NOMBRE_INTERDISCIPLINAR                       VIOLENCIA Y SOCIEDAD  \n",
       "PUNT_INTERDISCIPLINAR                                        53,66  \n",
       "ESTU_PUESTO                                                    229  \n",
       "\n",
       "[91 rows x 3 columns]"
      ]
     },
     "execution_count": 107,
     "metadata": {},
     "output_type": "execute_result"
    }
   ],
   "source": [
    "data_2008_2.head(3).T"
   ]
  },
  {
   "cell_type": "code",
   "execution_count": 108,
   "metadata": {
    "collapsed": true
   },
   "outputs": [],
   "source": [
    "data_2008_2 = data_2008_2.drop(['ESTU_CONSECUTIVO', 'PERIODO', 'ESTU_TIPO_DOCUMENTO', 'ESTU_COD_RESIDE_MCPIO',\n",
    "                               'ESTU_COD_MCPIO_PRESENTACION', 'ESTU_EXAM_NOMBREEXAMEN', 'ESTU_IES_DESEADA_NOMBRE'], axis=1)"
   ]
  },
  {
   "cell_type": "code",
   "execution_count": 109,
   "metadata": {
    "collapsed": false,
    "scrolled": true
   },
   "outputs": [
    {
     "name": "stdout",
     "output_type": "stream",
     "text": [
      "Index(['AR', 'BO', 'BR', 'CL', 'CN', 'CO', 'CU', 'DE', 'EC', 'FR', 'GT', 'HN',\n",
      "       'IL', 'IR', 'JP', 'KM', 'MX', 'PA', 'PE', 'RU', 'US', 'VE'],\n",
      "      dtype='object')\n",
      "AR         1\n",
      "BO         1\n",
      "BR         1\n",
      "CL         1\n",
      "CN         2\n",
      "CO    437233\n",
      "CU         4\n",
      "DE         1\n",
      "EC         3\n",
      "FR         1\n",
      "GT         1\n",
      "HN         1\n",
      "IL         1\n",
      "IR         1\n",
      "JP         1\n",
      "KM         1\n",
      "MX         2\n",
      "PA         1\n",
      "PE         6\n",
      "RU         1\n",
      "US        11\n",
      "VE        14\n",
      "Name: ESTU_PAIS_RESIDE, dtype: int64\n",
      "Elementos null/NaN 243\n",
      "__________________\n",
      "Elementos diferentes de null/NaN: 437289\n",
      "__________________\n",
      "(437289,)\n",
      "None\n"
     ]
    }
   ],
   "source": [
    "c = 'ESTU_PAIS_RESIDE'\n",
    "print(data_2008_2[c].value_counts().sort_index().index)\n",
    "print(data_2008_2[c].value_counts().sort_index())\n",
    "print(missing_data(data_2008_2[c]))"
   ]
  },
  {
   "cell_type": "code",
   "execution_count": 110,
   "metadata": {
    "collapsed": false
   },
   "outputs": [
    {
     "name": "stdout",
     "output_type": "stream",
     "text": [
      "Index(['F', 'M'], dtype='object')\n",
      "F    237817\n",
      "M    199530\n",
      "Name: ESTU_GENERO, dtype: int64\n",
      "Elementos null/NaN 185\n",
      "__________________\n",
      "Elementos diferentes de null/NaN: 437347\n",
      "__________________\n",
      "(437347,)\n",
      "None\n"
     ]
    }
   ],
   "source": [
    "c = 'ESTU_GENERO'\n",
    "print(data_2008_2[c].value_counts().sort_index().index)\n",
    "print(data_2008_2[c].value_counts().sort_index())\n",
    "print(missing_data(data_2008_2[c]))"
   ]
  },
  {
   "cell_type": "code",
   "execution_count": 111,
   "metadata": {
    "collapsed": false,
    "scrolled": true
   },
   "outputs": [
    {
     "name": "stdout",
     "output_type": "stream",
     "text": [
      "Float64Index([ 1.0,  2.0,  3.0,  4.0,  5.0,  6.0,  7.0,  8.0,  9.0, 10.0, 11.0,\n",
      "              12.0, 13.0, 14.0, 15.0, 16.0, 17.0, 18.0, 19.0, 20.0, 21.0, 22.0,\n",
      "              23.0, 24.0, 25.0, 26.0, 27.0, 28.0, 29.0, 30.0, 31.0],\n",
      "             dtype='float64')\n",
      "1     14642\n",
      "2     14319\n",
      "3     14368\n",
      "4     14345\n",
      "5     14515\n",
      "6     14345\n",
      "7     14286\n",
      "8     14347\n",
      "9     14279\n",
      "10    14762\n",
      "11    14304\n",
      "12    14612\n",
      "13    14049\n",
      "14    14457\n",
      "15    14637\n",
      "16    14318\n",
      "17    14355\n",
      "18    14444\n",
      "19    14434\n",
      "20    14797\n",
      "21    14269\n",
      "22    14185\n",
      "23    14405\n",
      "24    14417\n",
      "25    14278\n",
      "26    14268\n",
      "27    14285\n",
      "28    14417\n",
      "29    13356\n",
      "30    12877\n",
      "31     7936\n",
      "Name: ESTU_NACIMIENTO_DIA, dtype: int64\n",
      "Elementos null/NaN 224\n",
      "__________________\n",
      "Elementos diferentes de null/NaN: 437308\n",
      "__________________\n",
      "(437308,)\n",
      "None\n"
     ]
    }
   ],
   "source": [
    "c = 'ESTU_NACIMIENTO_DIA'\n",
    "print(data_2008_2[c].value_counts().sort_index().index)\n",
    "print(data_2008_2[c].value_counts().sort_index())\n",
    "print(missing_data(data_2008_2[c]))"
   ]
  },
  {
   "cell_type": "code",
   "execution_count": 112,
   "metadata": {
    "collapsed": false
   },
   "outputs": [
    {
     "name": "stdout",
     "output_type": "stream",
     "text": [
      "Float64Index([1.0, 2.0, 3.0, 4.0, 5.0, 6.0, 7.0, 8.0, 9.0, 10.0, 11.0, 12.0], dtype='float64')\n",
      "1     35571\n",
      "2     32434\n",
      "3     35367\n",
      "4     34654\n",
      "5     35710\n",
      "6     34499\n",
      "7     36132\n",
      "8     37186\n",
      "9     38683\n",
      "10    38463\n",
      "11    36286\n",
      "12    42323\n",
      "Name: ESTU_NACIMIENTO_MES, dtype: int64\n",
      "Elementos null/NaN 224\n",
      "__________________\n",
      "Elementos diferentes de null/NaN: 437308\n",
      "__________________\n",
      "(437308,)\n",
      "None\n"
     ]
    }
   ],
   "source": [
    "c = 'ESTU_NACIMIENTO_MES'\n",
    "print(data_2008_2[c].value_counts().sort_index().index)\n",
    "print(data_2008_2[c].value_counts().sort_index())\n",
    "print(missing_data(data_2008_2[c]))"
   ]
  },
  {
   "cell_type": "code",
   "execution_count": 113,
   "metadata": {
    "collapsed": false,
    "scrolled": true
   },
   "outputs": [
    {
     "name": "stdout",
     "output_type": "stream",
     "text": [
      "Float64Index([1924.0, 1930.0, 1933.0, 1934.0, 1935.0, 1937.0, 1938.0, 1939.0,\n",
      "              1940.0, 1941.0, 1942.0, 1943.0, 1944.0, 1945.0, 1946.0, 1947.0,\n",
      "              1948.0, 1949.0, 1950.0, 1951.0, 1952.0, 1953.0, 1954.0, 1955.0,\n",
      "              1956.0, 1957.0, 1958.0, 1959.0, 1960.0, 1961.0, 1962.0, 1963.0,\n",
      "              1964.0, 1965.0, 1966.0, 1967.0, 1968.0, 1969.0, 1970.0, 1971.0,\n",
      "              1972.0, 1973.0, 1974.0, 1975.0, 1976.0, 1977.0, 1978.0, 1979.0,\n",
      "              1980.0, 1981.0, 1982.0, 1983.0, 1984.0, 1985.0, 1986.0, 1987.0,\n",
      "              1988.0, 1989.0, 1990.0, 1991.0, 1992.0, 1993.0, 1994.0, 1995.0,\n",
      "              1996.0, 1998.0, 1999.0, 2000.0, 2001.0, 2002.0, 2009.0],\n",
      "             dtype='float64')\n",
      "1924         2\n",
      "1930         2\n",
      "1933         1\n",
      "1934         2\n",
      "1935         3\n",
      "1937         2\n",
      "1938         4\n",
      "1939         2\n",
      "1940         4\n",
      "1941         2\n",
      "1942         4\n",
      "1943         9\n",
      "1944        12\n",
      "1945        15\n",
      "1946         6\n",
      "1947        12\n",
      "1948        25\n",
      "1949        19\n",
      "1950        24\n",
      "1951        34\n",
      "1952        34\n",
      "1953        57\n",
      "1954        56\n",
      "1955        59\n",
      "1956        82\n",
      "1957        76\n",
      "1958       125\n",
      "1959       132\n",
      "1960       148\n",
      "1961       183\n",
      "         ...  \n",
      "1973       626\n",
      "1974       657\n",
      "1975       700\n",
      "1976       721\n",
      "1977       810\n",
      "1978       840\n",
      "1979      1032\n",
      "1980      1185\n",
      "1981      1320\n",
      "1982      1527\n",
      "1983      1606\n",
      "1984      2023\n",
      "1985      2690\n",
      "1986      3920\n",
      "1987      6742\n",
      "1988     15256\n",
      "1989     36280\n",
      "1990     79021\n",
      "1991    162136\n",
      "1992    104010\n",
      "1993      8370\n",
      "1994       369\n",
      "1995        95\n",
      "1996         2\n",
      "1998        13\n",
      "1999         2\n",
      "2000        19\n",
      "2001         4\n",
      "2002        14\n",
      "2009         1\n",
      "Name: ESTU_NACIMIENTO_ANNO, dtype: int64\n",
      "Elementos null/NaN 224\n",
      "__________________\n",
      "Elementos diferentes de null/NaN: 437308\n",
      "__________________\n",
      "(437308,)\n",
      "None\n"
     ]
    }
   ],
   "source": [
    "c = 'ESTU_NACIMIENTO_ANNO'\n",
    "print(data_2008_2[c].value_counts().sort_index().index)\n",
    "print(data_2008_2[c].value_counts().sort_index())\n",
    "print(missing_data(data_2008_2[c]))"
   ]
  },
  {
   "cell_type": "code",
   "execution_count": 114,
   "metadata": {
    "collapsed": false
   },
   "outputs": [],
   "source": [
    "for i in data_2008_2[c].value_counts().sort_index().index:\n",
    "    if i < 1930:\n",
    "        data_2008_2[c] = data_2008_2[c].replace(i, np.nan)\n",
    "    elif i > 1996:\n",
    "        data_2008_2[c] = data_2008_2[c].replace(i, np.nan)"
   ]
  },
  {
   "cell_type": "code",
   "execution_count": 115,
   "metadata": {
    "collapsed": false,
    "scrolled": true
   },
   "outputs": [
    {
     "name": "stdout",
     "output_type": "stream",
     "text": [
      "Float64Index([12.0, 13.0, 14.0, 15.0, 16.0, 17.0, 18.0, 19.0, 20.0, 21.0, 22.0,\n",
      "              23.0, 24.0, 25.0, 26.0, 27.0, 28.0, 29.0, 30.0, 31.0, 32.0, 33.0,\n",
      "              34.0, 35.0, 36.0, 37.0, 38.0, 39.0, 40.0, 41.0, 42.0, 43.0, 44.0,\n",
      "              45.0, 46.0, 47.0, 48.0, 49.0, 50.0, 51.0, 52.0, 53.0, 54.0, 55.0,\n",
      "              56.0, 57.0, 58.0, 59.0, 60.0, 61.0, 62.0, 63.0, 64.0, 65.0, 66.0,\n",
      "              67.0, 68.0, 69.0, 70.0, 72.0, 73.0, 74.0, 75.0, 78.0],\n",
      "             dtype='float64')\n",
      "12        26\n",
      "13       127\n",
      "14      1333\n",
      "15     28706\n",
      "16    163231\n",
      "17    121095\n",
      "18     57920\n",
      "19     25644\n",
      "20     10759\n",
      "21      5424\n",
      "22      3285\n",
      "23      2418\n",
      "24      1860\n",
      "25      1525\n",
      "26      1488\n",
      "27      1240\n",
      "28      1145\n",
      "29       949\n",
      "30       831\n",
      "31       800\n",
      "32       709\n",
      "33       682\n",
      "34       627\n",
      "35       622\n",
      "36       530\n",
      "37       501\n",
      "38       510\n",
      "39       461\n",
      "40       407\n",
      "41       358\n",
      "       ...  \n",
      "46       183\n",
      "47       173\n",
      "48       149\n",
      "49       126\n",
      "50       102\n",
      "51        82\n",
      "52        71\n",
      "53        56\n",
      "54        57\n",
      "55        52\n",
      "56        29\n",
      "57        30\n",
      "58        23\n",
      "59        19\n",
      "60        24\n",
      "61         6\n",
      "62        11\n",
      "63         9\n",
      "64        12\n",
      "65         8\n",
      "66         4\n",
      "67         2\n",
      "68         3\n",
      "69         4\n",
      "70         2\n",
      "72         1\n",
      "73         2\n",
      "74         2\n",
      "75         1\n",
      "78         2\n",
      "Name: ESTU_EDAD, dtype: int64\n",
      "Elementos null/NaN 4\n",
      "__________________\n",
      "Elementos diferentes de null/NaN: 437528\n",
      "__________________\n",
      "(437528,)\n",
      "None\n"
     ]
    }
   ],
   "source": [
    "c = 'ESTU_EDAD'\n",
    "print(data_2008_2[c].value_counts().sort_index().index)\n",
    "print(data_2008_2[c].value_counts().sort_index())\n",
    "print(missing_data(data_2008_2[c]))"
   ]
  },
  {
   "cell_type": "code",
   "execution_count": 116,
   "metadata": {
    "collapsed": false,
    "scrolled": true
   },
   "outputs": [
    {
     "name": "stdout",
     "output_type": "stream",
     "text": [
      "Float64Index([], dtype='float64')\n",
      "Series([], Name: ESTU_LIMITA_BAJAVISION, dtype: int64)\n",
      "Elementos null/NaN 437532\n",
      "__________________\n",
      "Elementos diferentes de null/NaN: 0\n",
      "__________________\n",
      "(0,)\n",
      "None\n"
     ]
    }
   ],
   "source": [
    "c = 'ESTU_LIMITA_BAJAVISION'\n",
    "print(data_2008_2[c].value_counts().sort_index().index)\n",
    "print(data_2008_2[c].value_counts().sort_index())\n",
    "print(missing_data(data_2008_2[c]))"
   ]
  },
  {
   "cell_type": "code",
   "execution_count": 117,
   "metadata": {
    "collapsed": true
   },
   "outputs": [],
   "source": [
    "data_2008_2 = data_2008_2.drop([c], axis=1)"
   ]
  },
  {
   "cell_type": "code",
   "execution_count": 118,
   "metadata": {
    "collapsed": false
   },
   "outputs": [
    {
     "name": "stdout",
     "output_type": "stream",
     "text": [
      "Float64Index([], dtype='float64')\n",
      "Series([], Name: ESTU_LIMITA_SORDOCEGUERA, dtype: int64)\n",
      "Elementos null/NaN 437532\n",
      "__________________\n",
      "Elementos diferentes de null/NaN: 0\n",
      "__________________\n",
      "(0,)\n",
      "None\n"
     ]
    }
   ],
   "source": [
    "c = 'ESTU_LIMITA_SORDOCEGUERA'\n",
    "print(data_2008_2[c].value_counts().sort_index().index)\n",
    "print(data_2008_2[c].value_counts().sort_index())\n",
    "print(missing_data(data_2008_2[c]))"
   ]
  },
  {
   "cell_type": "code",
   "execution_count": 119,
   "metadata": {
    "collapsed": true
   },
   "outputs": [],
   "source": [
    "data_2008_2 = data_2008_2.drop([c], axis=1)"
   ]
  },
  {
   "cell_type": "code",
   "execution_count": 120,
   "metadata": {
    "collapsed": false
   },
   "outputs": [
    {
     "name": "stdout",
     "output_type": "stream",
     "text": [
      "Float64Index([], dtype='float64')\n",
      "Series([], Name: ESTU_LIMITA_COGNITIVA, dtype: int64)\n",
      "Elementos null/NaN 437532\n",
      "__________________\n",
      "Elementos diferentes de null/NaN: 0\n",
      "__________________\n",
      "(0,)\n",
      "None\n"
     ]
    }
   ],
   "source": [
    "c = 'ESTU_LIMITA_COGNITIVA'\n",
    "print(data_2008_2[c].value_counts().sort_index().index)\n",
    "print(data_2008_2[c].value_counts().sort_index())\n",
    "print(missing_data(data_2008_2[c]))"
   ]
  },
  {
   "cell_type": "code",
   "execution_count": 121,
   "metadata": {
    "collapsed": true
   },
   "outputs": [],
   "source": [
    "data_2008_2 = data_2008_2.drop([c], axis=1)"
   ]
  },
  {
   "cell_type": "code",
   "execution_count": 122,
   "metadata": {
    "collapsed": false
   },
   "outputs": [
    {
     "name": "stdout",
     "output_type": "stream",
     "text": [
      "Float64Index([], dtype='float64')\n",
      "Series([], Name: ESTU_LIMITA_INVIDENTE, dtype: int64)\n",
      "Elementos null/NaN 437532\n",
      "__________________\n",
      "Elementos diferentes de null/NaN: 0\n",
      "__________________\n",
      "(0,)\n",
      "None\n"
     ]
    }
   ],
   "source": [
    "c = 'ESTU_LIMITA_INVIDENTE'\n",
    "print(data_2008_2[c].value_counts().sort_index().index)\n",
    "print(data_2008_2[c].value_counts().sort_index())\n",
    "print(missing_data(data_2008_2[c]))"
   ]
  },
  {
   "cell_type": "code",
   "execution_count": 123,
   "metadata": {
    "collapsed": true
   },
   "outputs": [],
   "source": [
    "data_2008_2 = data_2008_2.drop([c], axis=1)"
   ]
  },
  {
   "cell_type": "code",
   "execution_count": 124,
   "metadata": {
    "collapsed": false
   },
   "outputs": [
    {
     "name": "stdout",
     "output_type": "stream",
     "text": [
      "Float64Index([], dtype='float64')\n",
      "Series([], Name: ESTU_LIMITA_MOTRIZ, dtype: int64)\n",
      "Elementos null/NaN 437532\n",
      "__________________\n",
      "Elementos diferentes de null/NaN: 0\n",
      "__________________\n",
      "(0,)\n",
      "None\n"
     ]
    }
   ],
   "source": [
    "c = 'ESTU_LIMITA_MOTRIZ'\n",
    "print(data_2008_2[c].value_counts().sort_index().index)\n",
    "print(data_2008_2[c].value_counts().sort_index())\n",
    "print(missing_data(data_2008_2[c]))"
   ]
  },
  {
   "cell_type": "code",
   "execution_count": 125,
   "metadata": {
    "collapsed": true
   },
   "outputs": [],
   "source": [
    "data_2008_2 = data_2008_2.drop([c], axis=1)"
   ]
  },
  {
   "cell_type": "code",
   "execution_count": 126,
   "metadata": {
    "collapsed": false
   },
   "outputs": [
    {
     "name": "stdout",
     "output_type": "stream",
     "text": [
      "Float64Index([], dtype='float64')\n",
      "Series([], Name: ESTU_LIMITA_SORDOINTERPRETE, dtype: int64)\n",
      "Elementos null/NaN 437532\n",
      "__________________\n",
      "Elementos diferentes de null/NaN: 0\n",
      "__________________\n",
      "(0,)\n",
      "None\n"
     ]
    }
   ],
   "source": [
    "c = 'ESTU_LIMITA_SORDOINTERPRETE'\n",
    "print(data_2008_2[c].value_counts().sort_index().index)\n",
    "print(data_2008_2[c].value_counts().sort_index())\n",
    "print(missing_data(data_2008_2[c]))"
   ]
  },
  {
   "cell_type": "code",
   "execution_count": 127,
   "metadata": {
    "collapsed": true
   },
   "outputs": [],
   "source": [
    "data_2008_2 = data_2008_2.drop([c], axis=1)"
   ]
  },
  {
   "cell_type": "code",
   "execution_count": 128,
   "metadata": {
    "collapsed": false
   },
   "outputs": [
    {
     "name": "stdout",
     "output_type": "stream",
     "text": [
      "Float64Index([], dtype='float64')\n",
      "Series([], Name: ESTU_LIMITA_SORDONOINTERPRETE, dtype: int64)\n",
      "Elementos null/NaN 437532\n",
      "__________________\n",
      "Elementos diferentes de null/NaN: 0\n",
      "__________________\n",
      "(0,)\n",
      "None\n"
     ]
    }
   ],
   "source": [
    "c = 'ESTU_LIMITA_SORDONOINTERPRETE'\n",
    "print(data_2008_2[c].value_counts().sort_index().index)\n",
    "print(data_2008_2[c].value_counts().sort_index())\n",
    "print(missing_data(data_2008_2[c]))"
   ]
  },
  {
   "cell_type": "code",
   "execution_count": 129,
   "metadata": {
    "collapsed": true
   },
   "outputs": [],
   "source": [
    "data_2008_2 = data_2008_2.drop([c], axis=1)"
   ]
  },
  {
   "cell_type": "code",
   "execution_count": 130,
   "metadata": {
    "collapsed": false,
    "scrolled": true
   },
   "outputs": [
    {
     "name": "stdout",
     "output_type": "stream",
     "text": [
      "Float64Index([ 1.0,  2.0,  3.0,  4.0,  5.0,  6.0,  7.0,  8.0,  9.0, 10.0, 11.0,\n",
      "              12.0, 13.0, 14.0, 15.0, 16.0, 17.0, 99.0],\n",
      "             dtype='float64')\n",
      "1     11371\n",
      "2       602\n",
      "3      1013\n",
      "4       201\n",
      "5        85\n",
      "6       545\n",
      "7       151\n",
      "8       408\n",
      "9       927\n",
      "10     2104\n",
      "11       83\n",
      "12      154\n",
      "13       78\n",
      "14       34\n",
      "15       84\n",
      "16       71\n",
      "17        4\n",
      "99     7751\n",
      "Name: ESTU_ETNIA, dtype: int64\n",
      "Elementos null/NaN 411866\n",
      "__________________\n",
      "Elementos diferentes de null/NaN: 25666\n",
      "__________________\n",
      "(25666,)\n",
      "None\n"
     ]
    }
   ],
   "source": [
    "c = 'ESTU_ETNIA'\n",
    "print(data_2008_2[c].value_counts().sort_index().index)\n",
    "print(data_2008_2[c].value_counts().sort_index())\n",
    "print(missing_data(data_2008_2[c]))"
   ]
  },
  {
   "cell_type": "code",
   "execution_count": 131,
   "metadata": {
    "collapsed": false,
    "scrolled": true
   },
   "outputs": [
    {
     "name": "stdout",
     "output_type": "stream",
     "text": [
      "Index(['ABEJORRAL', 'ABREGO', 'ABRIAQUI', 'ACACIAS', 'ACANDI', 'ACEVEDO',\n",
      "       'ACHI', 'AGRADO', 'AGUA DE DIOS', 'AGUACHICA',\n",
      "       ...\n",
      "       'YOTOCO', 'YUMBO', 'ZAMBRANO', 'ZAPATOCA', 'ZAPAYAN', 'ZARAGOZA',\n",
      "       'ZETAQUIRA', 'ZIPACON', 'ZIPAQUIRA', 'ZONA BANANERA'],\n",
      "      dtype='object', length=978)\n",
      "ABEJORRAL                    168\n",
      "ABREGO                        90\n",
      "ABRIAQUI                      33\n",
      "ACACIAS                      883\n",
      "ACANDI                        69\n",
      "ACEVEDO                      128\n",
      "ACHI                         137\n",
      "AGRADO                        86\n",
      "AGUA DE DIOS                 174\n",
      "AGUACHICA                    805\n",
      "AGUADA                        17\n",
      "AGUADAS                      253\n",
      "AGUAZUL                      466\n",
      "AGUSTIN CODAZZI              547\n",
      "AIPE                         167\n",
      "ALBAN                         69\n",
      "ALBANIA                      265\n",
      "ALCALA                         2\n",
      "ALEJANDRIA                    54\n",
      "ALGARROBO                    125\n",
      "ALGECIRAS                    147\n",
      "ALMAGUER                      68\n",
      "ALMEIDA                       28\n",
      "ALPUJARRA                     54\n",
      "ALTAMIRA                      42\n",
      "ALTO BAUDO (PIE DE PATO)      31\n",
      "ALTOS DEL ROSARIO             74\n",
      "ALVARADO                      59\n",
      "AMAGA                        323\n",
      "AMALFI                       233\n",
      "                            ... \n",
      "VILLAHERMOSA                  79\n",
      "VILLAMARIA                   497\n",
      "VILLANUEVA                   830\n",
      "VILLAPINZON                  238\n",
      "VILLARRICA                    66\n",
      "VILLAVICENCIO               4948\n",
      "VILLAVIEJA                    61\n",
      "VILLETA                      355\n",
      "VIOTA                        149\n",
      "VIRACACHA                     31\n",
      "VISTA HERMOSA                112\n",
      "VITERBO                      188\n",
      "YACOPI                       173\n",
      "YAGUARA                      146\n",
      "YALI                          79\n",
      "YARUMAL                      481\n",
      "YAVARATE                      13\n",
      "YOLOMBO                      215\n",
      "YONDO (CASABE)                97\n",
      "YOPAL                       1694\n",
      "YOTOCO                         1\n",
      "YUMBO                        137\n",
      "ZAMBRANO                      79\n",
      "ZAPATOCA                     149\n",
      "ZAPAYAN                       30\n",
      "ZARAGOZA                     209\n",
      "ZETAQUIRA                    107\n",
      "ZIPACON                       63\n",
      "ZIPAQUIRA                   1319\n",
      "ZONA BANANERA                621\n",
      "Name: ESTU_RESIDE_MCPIO, dtype: int64\n",
      "Elementos null/NaN 185\n",
      "__________________\n",
      "Elementos diferentes de null/NaN: 437347\n",
      "__________________\n",
      "(437347,)\n",
      "None\n"
     ]
    }
   ],
   "source": [
    "c = 'ESTU_RESIDE_MCPIO'\n",
    "print(data_2008_2[c].value_counts().sort_index().index)\n",
    "print(data_2008_2[c].value_counts().sort_index())\n",
    "print(missing_data(data_2008_2[c]))"
   ]
  },
  {
   "cell_type": "code",
   "execution_count": 132,
   "metadata": {
    "collapsed": false,
    "scrolled": true
   },
   "outputs": [
    {
     "name": "stdout",
     "output_type": "stream",
     "text": [
      "Index(['AMAZONAS', 'ANTIOQUIA', 'ARAUCA', 'ATLÁNTICO', 'BOGOTÁ', 'BOLÍVAR',\n",
      "       'BOYACÁ', 'CALDAS', 'CAQUETÁ', 'CASANARE', 'CAUCA', 'CESAR', 'CHOCÓ',\n",
      "       'CUNDINAMARCA', 'CÓRDOBA', 'GUAINÍA', 'GUAVIARE', 'HUILA', 'LA GUAJIRA',\n",
      "       'MAGDALENA', 'META', 'NARIÑO', 'NORTE SANTANDER', 'PUTUMAYO', 'QUINDÍO',\n",
      "       'RISARALDA', 'SAN ANDRÉS', 'SANTANDER', 'SUCRE', 'TOLIMA', 'VALLE',\n",
      "       'VAUPÉS', 'VICHADA'],\n",
      "      dtype='object')\n",
      "AMAZONAS             703\n",
      "ANTIOQUIA          66384\n",
      "ARAUCA              2473\n",
      "ATLÁNTICO          27066\n",
      "BOGOTÁ             90254\n",
      "BOLÍVAR            22450\n",
      "BOYACÁ             15809\n",
      "CALDAS             10653\n",
      "CAQUETÁ             3195\n",
      "CASANARE            3923\n",
      "CAUCA               9516\n",
      "CESAR              10061\n",
      "CHOCÓ               3673\n",
      "CUNDINAMARCA       30910\n",
      "CÓRDOBA            15656\n",
      "GUAINÍA              146\n",
      "GUAVIARE             591\n",
      "HUILA               9762\n",
      "LA GUAJIRA          6113\n",
      "MAGDALENA          12939\n",
      "META                8854\n",
      "NARIÑO              1862\n",
      "NORTE SANTANDER    14765\n",
      "PUTUMAYO            2223\n",
      "QUINDÍO             6068\n",
      "RISARALDA           9754\n",
      "SAN ANDRÉS           751\n",
      "SANTANDER          23083\n",
      "SUCRE              10203\n",
      "TOLIMA             15041\n",
      "VALLE               1834\n",
      "VAUPÉS               199\n",
      "VICHADA              430\n",
      "Name: ESTU_RESIDE_DEPTO, dtype: int64\n",
      "Elementos null/NaN 188\n",
      "__________________\n",
      "Elementos diferentes de null/NaN: 437344\n",
      "__________________\n",
      "(437344,)\n",
      "None\n"
     ]
    }
   ],
   "source": [
    "c = 'ESTU_RESIDE_DEPTO'\n",
    "print(data_2008_2[c].value_counts().sort_index().index)\n",
    "print(data_2008_2[c].value_counts().sort_index())\n",
    "print(missing_data(data_2008_2[c]))"
   ]
  },
  {
   "cell_type": "code",
   "execution_count": 133,
   "metadata": {
    "collapsed": false,
    "scrolled": true
   },
   "outputs": [
    {
     "name": "stdout",
     "output_type": "stream",
     "text": [
      "Float64Index([1.0, 2.0, 3.0, 4.0, 5.0, 6.0, 7.0, 8.0, 9.0, 10.0], dtype='float64')\n",
      "1      18116\n",
      "2       3016\n",
      "3      11982\n",
      "4      40695\n",
      "5      16045\n",
      "6       9096\n",
      "7      10574\n",
      "8      24689\n",
      "9      18328\n",
      "10    284763\n",
      "Name: ESTU_ZONA_RESIDE, dtype: int64\n",
      "Elementos null/NaN 228\n",
      "__________________\n",
      "Elementos diferentes de null/NaN: 437304\n",
      "__________________\n",
      "(437304,)\n",
      "None\n"
     ]
    }
   ],
   "source": [
    "c = 'ESTU_ZONA_RESIDE'\n",
    "print(data_2008_2[c].value_counts().sort_index().index)\n",
    "print(data_2008_2[c].value_counts().sort_index())\n",
    "print(missing_data(data_2008_2[c]))"
   ]
  },
  {
   "cell_type": "code",
   "execution_count": 134,
   "metadata": {
    "collapsed": false
   },
   "outputs": [
    {
     "name": "stdout",
     "output_type": "stream",
     "text": [
      "Float64Index([1.0, 2.0], dtype='float64')\n",
      "1    348325\n",
      "2     89158\n",
      "Name: ESTU_AREA_RESIDE, dtype: int64\n",
      "Elementos null/NaN 49\n",
      "__________________\n",
      "Elementos diferentes de null/NaN: 437483\n",
      "__________________\n",
      "(437483,)\n",
      "None\n"
     ]
    }
   ],
   "source": [
    "c = 'ESTU_AREA_RESIDE'\n",
    "print(data_2008_2[c].value_counts().sort_index().index)\n",
    "print(data_2008_2[c].value_counts().sort_index())\n",
    "print(missing_data(data_2008_2[c]))"
   ]
  },
  {
   "cell_type": "code",
   "execution_count": 135,
   "metadata": {
    "collapsed": false
   },
   "outputs": [
    {
     "name": "stdout",
     "output_type": "stream",
     "text": [
      "Float64Index([0.0, 1.0], dtype='float64')\n",
      "0     19498\n",
      "1    394036\n",
      "Name: FAMI_LEE_ESCRIBE_PADRE, dtype: int64\n",
      "Elementos null/NaN 23998\n",
      "__________________\n",
      "Elementos diferentes de null/NaN: 413534\n",
      "__________________\n",
      "(413534,)\n",
      "None\n"
     ]
    }
   ],
   "source": [
    "c = 'FAMI_LEE_ESCRIBE_PADRE'\n",
    "print(data_2008_2[c].value_counts().sort_index().index)\n",
    "print(data_2008_2[c].value_counts().sort_index())\n",
    "print(missing_data(data_2008_2[c]))"
   ]
  },
  {
   "cell_type": "code",
   "execution_count": 136,
   "metadata": {
    "collapsed": false
   },
   "outputs": [
    {
     "name": "stdout",
     "output_type": "stream",
     "text": [
      "Float64Index([0.0, 1.0], dtype='float64')\n",
      "0     14078\n",
      "1    399456\n",
      "Name: FAMI_LEE_ESCRIBE_MADRE, dtype: int64\n",
      "Elementos null/NaN 23998\n",
      "__________________\n",
      "Elementos diferentes de null/NaN: 413534\n",
      "__________________\n",
      "(413534,)\n",
      "None\n"
     ]
    }
   ],
   "source": [
    "c = 'FAMI_LEE_ESCRIBE_MADRE'\n",
    "print(data_2008_2[c].value_counts().sort_index().index)\n",
    "print(data_2008_2[c].value_counts().sort_index())\n",
    "print(missing_data(data_2008_2[c]))"
   ]
  },
  {
   "cell_type": "code",
   "execution_count": 137,
   "metadata": {
    "collapsed": false,
    "scrolled": true
   },
   "outputs": [
    {
     "name": "stdout",
     "output_type": "stream",
     "text": [
      "Float64Index([ 0.0,  1.0,  2.0,  3.0,  4.0,  5.0,  7.0,  9.0, 10.0, 11.0, 12.0,\n",
      "              13.0, 14.0, 15.0, 16.0, 17.0, 99.0],\n",
      "             dtype='float64')\n",
      "0     16389\n",
      "1         8\n",
      "2        42\n",
      "3        21\n",
      "4        19\n",
      "5        25\n",
      "7         3\n",
      "9     78820\n",
      "10    84121\n",
      "11    67319\n",
      "12    94800\n",
      "13     5242\n",
      "14    16880\n",
      "15     7333\n",
      "16    36174\n",
      "17     7891\n",
      "99    22308\n",
      "Name: FAMI_EDUCA_PADRE, dtype: int64\n",
      "Elementos null/NaN 137\n",
      "__________________\n",
      "Elementos diferentes de null/NaN: 437395\n",
      "__________________\n",
      "(437395,)\n",
      "None\n"
     ]
    }
   ],
   "source": [
    "c = 'FAMI_EDUCA_PADRE'\n",
    "print(data_2008_2[c].value_counts().sort_index().index)\n",
    "print(data_2008_2[c].value_counts().sort_index())\n",
    "print(missing_data(data_2008_2[c]))"
   ]
  },
  {
   "cell_type": "code",
   "execution_count": 138,
   "metadata": {
    "collapsed": false,
    "scrolled": true
   },
   "outputs": [
    {
     "name": "stdout",
     "output_type": "stream",
     "text": [
      "Float64Index([ 0.0,  1.0,  2.0,  3.0,  4.0,  5.0,  6.0,  7.0,  9.0, 10.0, 11.0,\n",
      "              12.0, 13.0, 14.0, 15.0, 16.0, 17.0, 99.0],\n",
      "             dtype='float64')\n",
      "0      11440\n",
      "1          3\n",
      "2         35\n",
      "3         26\n",
      "4         24\n",
      "5         28\n",
      "6          1\n",
      "7          1\n",
      "9      70879\n",
      "10     84691\n",
      "11     79111\n",
      "12    101567\n",
      "13      7560\n",
      "14     20492\n",
      "15      8493\n",
      "16     33255\n",
      "17      7881\n",
      "99     11908\n",
      "Name: FAMI_EDUCA_MADRE, dtype: int64\n",
      "Elementos null/NaN 137\n",
      "__________________\n",
      "Elementos diferentes de null/NaN: 437395\n",
      "__________________\n",
      "(437395,)\n",
      "None\n"
     ]
    }
   ],
   "source": [
    "c = 'FAMI_EDUCA_MADRE'\n",
    "print(data_2008_2[c].value_counts().sort_index().index)\n",
    "print(data_2008_2[c].value_counts().sort_index())\n",
    "print(missing_data(data_2008_2[c]))"
   ]
  },
  {
   "cell_type": "code",
   "execution_count": 139,
   "metadata": {
    "collapsed": false,
    "scrolled": true
   },
   "outputs": [
    {
     "name": "stdout",
     "output_type": "stream",
     "text": [
      "Float64Index([ 1.0,  2.0,  3.0,  4.0,  5.0,  7.0,  9.0, 10.0, 11.0, 12.0, 13.0,\n",
      "              14.0, 15.0, 16.0, 17.0, 18.0, 19.0, 20.0, 21.0, 22.0, 23.0, 24.0,\n",
      "              25.0, 26.0, 99.0],\n",
      "             dtype='float64')\n",
      "1          3\n",
      "2          1\n",
      "3          1\n",
      "4          1\n",
      "5          5\n",
      "7         24\n",
      "9         56\n",
      "10         2\n",
      "11         9\n",
      "12        27\n",
      "13      7498\n",
      "14     30341\n",
      "15      7255\n",
      "16     11643\n",
      "17     23170\n",
      "18     16268\n",
      "19     72397\n",
      "20     23136\n",
      "21    149165\n",
      "22      4923\n",
      "23     13440\n",
      "24      1188\n",
      "25       265\n",
      "26     38296\n",
      "99     38281\n",
      "Name: FAMI_OCUPA_PADRE, dtype: int64\n",
      "Elementos null/NaN 137\n",
      "__________________\n",
      "Elementos diferentes de null/NaN: 437395\n",
      "__________________\n",
      "(437395,)\n",
      "None\n"
     ]
    }
   ],
   "source": [
    "c = 'FAMI_OCUPA_PADRE'\n",
    "print(data_2008_2[c].value_counts().sort_index().index)\n",
    "print(data_2008_2[c].value_counts().sort_index())\n",
    "print(missing_data(data_2008_2[c]))"
   ]
  },
  {
   "cell_type": "code",
   "execution_count": 140,
   "metadata": {
    "collapsed": false,
    "scrolled": true
   },
   "outputs": [
    {
     "name": "stdout",
     "output_type": "stream",
     "text": [
      "Float64Index([ 1.0,  2.0,  4.0,  5.0,  6.0,  7.0,  8.0,  9.0, 10.0, 11.0, 12.0,\n",
      "              13.0, 14.0, 15.0, 16.0, 17.0, 18.0, 19.0, 20.0, 21.0, 22.0, 23.0,\n",
      "              24.0, 25.0, 26.0, 99.0],\n",
      "             dtype='float64')\n",
      "1          1\n",
      "2          1\n",
      "4          1\n",
      "5          5\n",
      "6          3\n",
      "7          6\n",
      "8          1\n",
      "9         20\n",
      "10        74\n",
      "11         3\n",
      "12        14\n",
      "13      4325\n",
      "14     19748\n",
      "15      3771\n",
      "16      7140\n",
      "17     18693\n",
      "18     17584\n",
      "19     26525\n",
      "20      7589\n",
      "21     48518\n",
      "22    242527\n",
      "23      4144\n",
      "24      1140\n",
      "25      1042\n",
      "26     23612\n",
      "99     10908\n",
      "Name: FAMI_OCUPA_MADRE, dtype: int64\n",
      "Elementos null/NaN 137\n",
      "__________________\n",
      "Elementos diferentes de null/NaN: 437395\n",
      "__________________\n",
      "(437395,)\n",
      "None\n"
     ]
    }
   ],
   "source": [
    "c = 'FAMI_OCUPA_MADRE'\n",
    "print(data_2008_2[c].value_counts().sort_index().index)\n",
    "print(data_2008_2[c].value_counts().sort_index())\n",
    "print(missing_data(data_2008_2[c]))"
   ]
  },
  {
   "cell_type": "code",
   "execution_count": 141,
   "metadata": {
    "collapsed": false,
    "scrolled": true
   },
   "outputs": [
    {
     "name": "stdout",
     "output_type": "stream",
     "text": [
      "Float64Index([0.0, 1.0, 2.0, 3.0, 4.0, 5.0, 6.0, 7.0, 8.0, 9.0, 10.0], dtype='float64')\n",
      "0      36842\n",
      "1      94788\n",
      "2     113406\n",
      "3      73227\n",
      "4      40826\n",
      "5      23657\n",
      "6      13683\n",
      "7       8723\n",
      "8       5464\n",
      "9       3604\n",
      "10      5441\n",
      "Name: FAMI_NUM_HERMANOS, dtype: int64\n",
      "Elementos null/NaN 17871\n",
      "__________________\n",
      "Elementos diferentes de null/NaN: 419661\n",
      "__________________\n",
      "(419661,)\n",
      "None\n"
     ]
    }
   ],
   "source": [
    "c = 'FAMI_NUM_HERMANOS'\n",
    "print(data_2008_2[c].value_counts().sort_index().index)\n",
    "print(data_2008_2[c].value_counts().sort_index())\n",
    "print(missing_data(data_2008_2[c]))"
   ]
  },
  {
   "cell_type": "code",
   "execution_count": 142,
   "metadata": {
    "collapsed": false
   },
   "outputs": [
    {
     "name": "stdout",
     "output_type": "stream",
     "text": [
      "Float64Index([1.0, 2.0, 3.0, 4.0, 5.0, 6.0, 7.0, 8.0, 9.0, 88.0, 99.0], dtype='float64')\n",
      "1      11809\n",
      "2      18194\n",
      "3      53005\n",
      "4     109977\n",
      "5      12740\n",
      "6      21333\n",
      "7      28139\n",
      "8      32579\n",
      "9       2739\n",
      "88     86245\n",
      "99      9597\n",
      "Name: FAMI_EDUCA_HERMANO, dtype: int64\n",
      "Elementos null/NaN 51175\n",
      "__________________\n",
      "Elementos diferentes de null/NaN: 386357\n",
      "__________________\n",
      "(386357,)\n",
      "None\n"
     ]
    }
   ],
   "source": [
    "c = 'FAMI_EDUCA_HERMANO'\n",
    "print(data_2008_2[c].value_counts().sort_index().index)\n",
    "print(data_2008_2[c].value_counts().sort_index())\n",
    "print(missing_data(data_2008_2[c]))"
   ]
  },
  {
   "cell_type": "code",
   "execution_count": 143,
   "metadata": {
    "collapsed": false
   },
   "outputs": [
    {
     "name": "stdout",
     "output_type": "stream",
     "text": [
      "Float64Index([1.0, 2.0, 88.0], dtype='float64')\n",
      "1     220200\n",
      "2      30991\n",
      "88    131638\n",
      "Name: FAMI_HERMANOS_ESTUDIAN, dtype: int64\n",
      "Elementos null/NaN 54703\n",
      "__________________\n",
      "Elementos diferentes de null/NaN: 382829\n",
      "__________________\n",
      "(382829,)\n",
      "None\n"
     ]
    }
   ],
   "source": [
    "c = 'FAMI_HERMANOS_ESTUDIAN'\n",
    "print(data_2008_2[c].value_counts().sort_index().index)\n",
    "print(data_2008_2[c].value_counts().sort_index())\n",
    "print(missing_data(data_2008_2[c]))"
   ]
  },
  {
   "cell_type": "code",
   "execution_count": 144,
   "metadata": {
    "collapsed": false
   },
   "outputs": [
    {
     "name": "stdout",
     "output_type": "stream",
     "text": [
      "Float64Index([1.0, 2.0, 3.0, 4.0, 5.0, 6.0, 8.0], dtype='float64')\n",
      "1    141769\n",
      "2    173443\n",
      "3     90986\n",
      "4     18040\n",
      "5      5661\n",
      "6      2486\n",
      "8      2487\n",
      "Name: FAMI_ESTRATO_VIVIENDA, dtype: int64\n",
      "Elementos null/NaN 2660\n",
      "__________________\n",
      "Elementos diferentes de null/NaN: 434872\n",
      "__________________\n",
      "(434872,)\n",
      "None\n"
     ]
    }
   ],
   "source": [
    "c = 'FAMI_ESTRATO_VIVIENDA'\n",
    "print(data_2008_2[c].value_counts().sort_index().index)\n",
    "print(data_2008_2[c].value_counts().sort_index())\n",
    "print(missing_data(data_2008_2[c]))"
   ]
  },
  {
   "cell_type": "code",
   "execution_count": 145,
   "metadata": {
    "collapsed": true
   },
   "outputs": [],
   "source": [
    "data_2008_2[c] = data_2008_2[c].replace(8.0, np.nan)"
   ]
  },
  {
   "cell_type": "code",
   "execution_count": 146,
   "metadata": {
    "collapsed": false
   },
   "outputs": [
    {
     "name": "stdout",
     "output_type": "stream",
     "text": [
      "Float64Index([1.0, 2.0, 3.0, 4.0, 5.0], dtype='float64')\n",
      "1    158011\n",
      "2    115735\n",
      "3     21517\n",
      "4      5662\n",
      "5    136469\n",
      "Name: FAMI_NIVEL_SISBEN, dtype: int64\n",
      "Elementos null/NaN 138\n",
      "__________________\n",
      "Elementos diferentes de null/NaN: 437394\n",
      "__________________\n",
      "(437394,)\n",
      "None\n"
     ]
    }
   ],
   "source": [
    "c = 'FAMI_NIVEL_SISBEN'\n",
    "print(data_2008_2[c].value_counts().sort_index().index)\n",
    "print(data_2008_2[c].value_counts().sort_index())\n",
    "print(missing_data(data_2008_2[c]))"
   ]
  },
  {
   "cell_type": "code",
   "execution_count": 147,
   "metadata": {
    "collapsed": false
   },
   "outputs": [
    {
     "name": "stdout",
     "output_type": "stream",
     "text": [
      "Float64Index([1.0, 2.0, 3.0, 4.0, 5.0, 6.0, 7.0, 8.0, 9.0, 10.0, 11.0, 12.0], dtype='float64')\n",
      "1       3324\n",
      "2      18449\n",
      "3      61536\n",
      "4     114944\n",
      "5     105849\n",
      "6      60853\n",
      "7      30782\n",
      "8      17750\n",
      "9       8928\n",
      "10      6160\n",
      "11      2949\n",
      "12      5863\n",
      "Name: FAMI_PERSONAS_HOGAR, dtype: int64\n",
      "Elementos null/NaN 145\n",
      "__________________\n",
      "Elementos diferentes de null/NaN: 437387\n",
      "__________________\n",
      "(437387,)\n",
      "None\n"
     ]
    }
   ],
   "source": [
    "c = 'FAMI_PERSONAS_HOGAR'\n",
    "print(data_2008_2[c].value_counts().sort_index().index)\n",
    "print(data_2008_2[c].value_counts().sort_index())\n",
    "print(missing_data(data_2008_2[c]))"
   ]
  },
  {
   "cell_type": "code",
   "execution_count": 148,
   "metadata": {
    "collapsed": false
   },
   "outputs": [
    {
     "name": "stdout",
     "output_type": "stream",
     "text": [
      "Float64Index([1.0, 2.0, 3.0, 4.0, 5.0], dtype='float64')\n",
      "1     21231\n",
      "2    203537\n",
      "3     21587\n",
      "4    190572\n",
      "5       467\n",
      "Name: FAMI_PISOSHOGAR, dtype: int64\n",
      "Elementos null/NaN 138\n",
      "__________________\n",
      "Elementos diferentes de null/NaN: 437394\n",
      "__________________\n",
      "(437394,)\n",
      "None\n"
     ]
    }
   ],
   "source": [
    "c = 'FAMI_PISOSHOGAR'\n",
    "print(data_2008_2[c].value_counts().sort_index().index)\n",
    "print(data_2008_2[c].value_counts().sort_index())\n",
    "print(missing_data(data_2008_2[c]))"
   ]
  },
  {
   "cell_type": "code",
   "execution_count": 149,
   "metadata": {
    "collapsed": false
   },
   "outputs": [
    {
     "name": "stdout",
     "output_type": "stream",
     "text": [
      "Float64Index([1.0, 2.0, 3.0, 4.0, 5.0, 6.0, 7.0, 8.0, 9.0, 10.0], dtype='float64')\n",
      "1       7239\n",
      "2      40463\n",
      "3      94404\n",
      "4     114903\n",
      "5      89008\n",
      "6      44625\n",
      "7      18633\n",
      "8       9560\n",
      "9       4147\n",
      "10      5535\n",
      "Name: FAMI_CUARTOS_HOGAR, dtype: int64\n",
      "Elementos null/NaN 9015\n",
      "__________________\n",
      "Elementos diferentes de null/NaN: 428517\n",
      "__________________\n",
      "(428517,)\n",
      "None\n"
     ]
    }
   ],
   "source": [
    "c = 'FAMI_CUARTOS_HOGAR'\n",
    "print(data_2008_2[c].value_counts().sort_index().index)\n",
    "print(data_2008_2[c].value_counts().sort_index())\n",
    "print(missing_data(data_2008_2[c]))"
   ]
  },
  {
   "cell_type": "code",
   "execution_count": 150,
   "metadata": {
    "collapsed": false
   },
   "outputs": [
    {
     "name": "stdout",
     "output_type": "stream",
     "text": [
      "Float64Index([1.0, 2.0, 3.0, 4.0, 5.0, 6.0, 7.0, 8.0, 9.0, 10.0], dtype='float64')\n",
      "1      24787\n",
      "2     166763\n",
      "3     169099\n",
      "4      51893\n",
      "5      15055\n",
      "6       5471\n",
      "7       2034\n",
      "8       1101\n",
      "9        475\n",
      "10       716\n",
      "Name: FAMI_DORMITORIOS_HOGAR, dtype: int64\n",
      "Elementos null/NaN 138\n",
      "__________________\n",
      "Elementos diferentes de null/NaN: 437394\n",
      "__________________\n",
      "(437394,)\n",
      "None\n"
     ]
    }
   ],
   "source": [
    "c = 'FAMI_DORMITORIOS_HOGAR'\n",
    "print(data_2008_2[c].value_counts().sort_index().index)\n",
    "print(data_2008_2[c].value_counts().sort_index())\n",
    "print(missing_data(data_2008_2[c]))"
   ]
  },
  {
   "cell_type": "code",
   "execution_count": 151,
   "metadata": {
    "collapsed": false
   },
   "outputs": [
    {
     "name": "stdout",
     "output_type": "stream",
     "text": [
      "Float64Index([0.0, 1.0, 3.0, 4.0], dtype='float64')\n",
      "0    270169\n",
      "1        69\n",
      "3    151210\n",
      "4     15946\n",
      "Name: FAMI_COMPUTADOR, dtype: int64\n",
      "Elementos null/NaN 138\n",
      "__________________\n",
      "Elementos diferentes de null/NaN: 437394\n",
      "__________________\n",
      "(437394,)\n",
      "None\n"
     ]
    }
   ],
   "source": [
    "c = 'FAMI_COMPUTADOR'\n",
    "print(data_2008_2[c].value_counts().sort_index().index)\n",
    "print(data_2008_2[c].value_counts().sort_index())\n",
    "print(missing_data(data_2008_2[c]))"
   ]
  },
  {
   "cell_type": "code",
   "execution_count": 152,
   "metadata": {
    "collapsed": false
   },
   "outputs": [
    {
     "name": "stdout",
     "output_type": "stream",
     "text": [
      "Float64Index([0.0, 1.0, 2.0], dtype='float64')\n",
      "0     19029\n",
      "1    253303\n",
      "2    150385\n",
      "Name: FAMI_TELEVISOR, dtype: int64\n",
      "Elementos null/NaN 14815\n",
      "__________________\n",
      "Elementos diferentes de null/NaN: 422717\n",
      "__________________\n",
      "(422717,)\n",
      "None\n"
     ]
    }
   ],
   "source": [
    "c = 'FAMI_TELEVISOR'\n",
    "print(data_2008_2[c].value_counts().sort_index().index)\n",
    "print(data_2008_2[c].value_counts().sort_index())\n",
    "print(missing_data(data_2008_2[c]))"
   ]
  },
  {
   "cell_type": "code",
   "execution_count": 153,
   "metadata": {
    "collapsed": false
   },
   "outputs": [
    {
     "name": "stdout",
     "output_type": "stream",
     "text": [
      "Float64Index([0.0, 1.0, 2.0], dtype='float64')\n",
      "0    183784\n",
      "1    221372\n",
      "2     32238\n",
      "Name: FAMI_DVD, dtype: int64\n",
      "Elementos null/NaN 138\n",
      "__________________\n",
      "Elementos diferentes de null/NaN: 437394\n",
      "__________________\n",
      "(437394,)\n",
      "None\n"
     ]
    }
   ],
   "source": [
    "c = 'FAMI_DVD'\n",
    "print(data_2008_2[c].value_counts().sort_index().index)\n",
    "print(data_2008_2[c].value_counts().sort_index())\n",
    "print(missing_data(data_2008_2[c]))"
   ]
  },
  {
   "cell_type": "code",
   "execution_count": 154,
   "metadata": {
    "collapsed": false
   },
   "outputs": [
    {
     "name": "stdout",
     "output_type": "stream",
     "text": [
      "Float64Index([0.0, 1.0, 2.0], dtype='float64')\n",
      "0    367364\n",
      "1     59792\n",
      "2     10238\n",
      "Name: FAMI_AUTOMOVIL, dtype: int64\n",
      "Elementos null/NaN 138\n",
      "__________________\n",
      "Elementos diferentes de null/NaN: 437394\n",
      "__________________\n",
      "(437394,)\n",
      "None\n"
     ]
    }
   ],
   "source": [
    "c = 'FAMI_AUTOMOVIL'\n",
    "print(data_2008_2[c].value_counts().sort_index().index)\n",
    "print(data_2008_2[c].value_counts().sort_index())\n",
    "print(missing_data(data_2008_2[c]))"
   ]
  },
  {
   "cell_type": "code",
   "execution_count": 155,
   "metadata": {
    "collapsed": false
   },
   "outputs": [
    {
     "name": "stdout",
     "output_type": "stream",
     "text": [
      "Float64Index([0.0, 1.0, 2.0], dtype='float64')\n",
      "0    340931\n",
      "1     64341\n",
      "2      8261\n",
      "Name: FAMI_MOTOCICLETA, dtype: int64\n",
      "Elementos null/NaN 23999\n",
      "__________________\n",
      "Elementos diferentes de null/NaN: 413533\n",
      "__________________\n",
      "(413533,)\n",
      "None\n"
     ]
    }
   ],
   "source": [
    "c = 'FAMI_MOTOCICLETA'\n",
    "print(data_2008_2[c].value_counts().sort_index().index)\n",
    "print(data_2008_2[c].value_counts().sort_index())\n",
    "print(missing_data(data_2008_2[c]))"
   ]
  },
  {
   "cell_type": "code",
   "execution_count": 156,
   "metadata": {
    "collapsed": false
   },
   "outputs": [
    {
     "name": "stdout",
     "output_type": "stream",
     "text": [
      "Float64Index([0.0, 1.0, 2.0], dtype='float64')\n",
      "0     31512\n",
      "1    147654\n",
      "2    249097\n",
      "Name: FAMI_CELULAR, dtype: int64\n",
      "Elementos null/NaN 9269\n",
      "__________________\n",
      "Elementos diferentes de null/NaN: 428263\n",
      "__________________\n",
      "(428263,)\n",
      "None\n"
     ]
    }
   ],
   "source": [
    "c = 'FAMI_CELULAR'\n",
    "print(data_2008_2[c].value_counts().sort_index().index)\n",
    "print(data_2008_2[c].value_counts().sort_index())\n",
    "print(missing_data(data_2008_2[c]))"
   ]
  },
  {
   "cell_type": "code",
   "execution_count": 157,
   "metadata": {
    "collapsed": false
   },
   "outputs": [
    {
     "name": "stdout",
     "output_type": "stream",
     "text": [
      "Float64Index([0.0, 1.0], dtype='float64')\n",
      "0    342302\n",
      "1     95092\n",
      "Name: FAMI_INTERNET, dtype: int64\n",
      "Elementos null/NaN 138\n",
      "__________________\n",
      "Elementos diferentes de null/NaN: 437394\n",
      "__________________\n",
      "(437394,)\n",
      "None\n"
     ]
    }
   ],
   "source": [
    "c = 'FAMI_INTERNET'\n",
    "print(data_2008_2[c].value_counts().sort_index().index)\n",
    "print(data_2008_2[c].value_counts().sort_index())\n",
    "print(missing_data(data_2008_2[c]))"
   ]
  },
  {
   "cell_type": "code",
   "execution_count": 158,
   "metadata": {
    "collapsed": false
   },
   "outputs": [
    {
     "name": "stdout",
     "output_type": "stream",
     "text": [
      "Float64Index([0.0, 1.0], dtype='float64')\n",
      "0    206812\n",
      "1    230582\n",
      "Name: FAMI_SERVICIO_TELEVISION, dtype: int64\n",
      "Elementos null/NaN 138\n",
      "__________________\n",
      "Elementos diferentes de null/NaN: 437394\n",
      "__________________\n",
      "(437394,)\n",
      "None\n"
     ]
    }
   ],
   "source": [
    "c = 'FAMI_SERVICIO_TELEVISION'\n",
    "print(data_2008_2[c].value_counts().sort_index().index)\n",
    "print(data_2008_2[c].value_counts().sort_index())\n",
    "print(missing_data(data_2008_2[c]))"
   ]
  },
  {
   "cell_type": "code",
   "execution_count": 159,
   "metadata": {
    "collapsed": false
   },
   "outputs": [
    {
     "name": "stdout",
     "output_type": "stream",
     "text": [
      "Float64Index([1.0, 2.0, 3.0, 4.0, 5.0, 6.0, 7.0], dtype='float64')\n",
      "1    121775\n",
      "2    191523\n",
      "3     71281\n",
      "4     33393\n",
      "5     10153\n",
      "6      4882\n",
      "7      4388\n",
      "Name: FAMI_INGRESO_FMILIAR_MENSUAL, dtype: int64\n",
      "Elementos null/NaN 137\n",
      "__________________\n",
      "Elementos diferentes de null/NaN: 437395\n",
      "__________________\n",
      "(437395,)\n",
      "None\n"
     ]
    }
   ],
   "source": [
    "c = 'FAMI_INGRESO_FMILIAR_MENSUAL'\n",
    "print(data_2008_2[c].value_counts().sort_index().index)\n",
    "print(data_2008_2[c].value_counts().sort_index())\n",
    "print(missing_data(data_2008_2[c]))"
   ]
  },
  {
   "cell_type": "code",
   "execution_count": 160,
   "metadata": {
    "collapsed": false
   },
   "outputs": [
    {
     "name": "stdout",
     "output_type": "stream",
     "text": [
      "Float64Index([0.0, 1.0, 2.0, 3.0, 4.0, 5.0, 6.0, 7.0], dtype='float64')\n",
      "0    387163\n",
      "1     36967\n",
      "2     10306\n",
      "3      1250\n",
      "4       523\n",
      "5       659\n",
      "6       214\n",
      "7       135\n",
      "Name: ESTU_TRABAJA, dtype: int64\n",
      "Elementos null/NaN 315\n",
      "__________________\n",
      "Elementos diferentes de null/NaN: 437217\n",
      "__________________\n",
      "(437217,)\n",
      "None\n"
     ]
    }
   ],
   "source": [
    "c = 'ESTU_TRABAJA'\n",
    "print(data_2008_2[c].value_counts().sort_index().index)\n",
    "print(data_2008_2[c].value_counts().sort_index())\n",
    "print(missing_data(data_2008_2[c]))"
   ]
  },
  {
   "cell_type": "code",
   "execution_count": 161,
   "metadata": {
    "collapsed": false,
    "scrolled": true
   },
   "outputs": [
    {
     "name": "stdout",
     "output_type": "stream",
     "text": [
      "Float64Index([ 0.0,  1.0,  2.0,  3.0,  4.0,  5.0,  6.0,  7.0,  8.0,  9.0, 10.0,\n",
      "              11.0, 12.0, 13.0, 14.0, 15.0, 16.0, 17.0, 18.0, 19.0, 20.0],\n",
      "             dtype='float64')\n",
      "0       187\n",
      "1       223\n",
      "2       627\n",
      "3       927\n",
      "4      1772\n",
      "5      1439\n",
      "6      1694\n",
      "7       787\n",
      "8      4217\n",
      "9       885\n",
      "10     2899\n",
      "11      390\n",
      "12     2411\n",
      "13      301\n",
      "14      629\n",
      "15     1387\n",
      "16     1353\n",
      "17      200\n",
      "18      933\n",
      "19      532\n",
      "20    25814\n",
      "Name: ESTU_HORAS_TRABAJA, dtype: int64\n",
      "Elementos null/NaN 387925\n",
      "__________________\n",
      "Elementos diferentes de null/NaN: 49607\n",
      "__________________\n",
      "(49607,)\n",
      "None\n"
     ]
    }
   ],
   "source": [
    "c = 'ESTU_HORAS_TRABAJA'\n",
    "print(data_2008_2[c].value_counts().sort_index().index)\n",
    "print(data_2008_2[c].value_counts().sort_index())\n",
    "print(missing_data(data_2008_2[c]))"
   ]
  },
  {
   "cell_type": "code",
   "execution_count": 162,
   "metadata": {
    "collapsed": false
   },
   "outputs": [
    {
     "name": "stdout",
     "output_type": "stream",
     "text": [
      "Float64Index([0.0, 1.0, 2.0, 4.0, 8.0, 9.0, 10.0, 11.0, 12.0], dtype='float64')\n",
      "0     284391\n",
      "1         12\n",
      "2          3\n",
      "4          1\n",
      "8      93674\n",
      "9      17330\n",
      "10     12792\n",
      "11     16110\n",
      "12     13168\n",
      "Name: COLE_VALOR_PENSION, dtype: int64\n",
      "Elementos null/NaN 51\n",
      "__________________\n",
      "Elementos diferentes de null/NaN: 437481\n",
      "__________________\n",
      "(437481,)\n",
      "None\n"
     ]
    }
   ],
   "source": [
    "c = 'COLE_VALOR_PENSION'\n",
    "print(data_2008_2[c].value_counts().sort_index().index)\n",
    "print(data_2008_2[c].value_counts().sort_index())\n",
    "print(missing_data(data_2008_2[c]))"
   ]
  },
  {
   "cell_type": "code",
   "execution_count": 163,
   "metadata": {
    "collapsed": false,
    "scrolled": true
   },
   "outputs": [
    {
     "name": "stdout",
     "output_type": "stream",
     "text": [
      "Float64Index([1989.0, 1990.0, 1991.0, 1992.0, 1993.0, 1997.0, 2001.0, 2002.0,\n",
      "              2004.0, 2005.0, 2006.0, 2007.0, 2008.0, 2009.0, 2010.0, 2011.0,\n",
      "              2012.0, 2013.0],\n",
      "             dtype='float64')\n",
      "1989         1\n",
      "1990         1\n",
      "1991         1\n",
      "1992         2\n",
      "1993         1\n",
      "1997         1\n",
      "2001         1\n",
      "2002         1\n",
      "2004         3\n",
      "2005         2\n",
      "2006         4\n",
      "2007        22\n",
      "2008    434578\n",
      "2009      2787\n",
      "2010        73\n",
      "2011         8\n",
      "2012         4\n",
      "2013         1\n",
      "Name: IND_ANNO_TERMINO_BACHILLERATO, dtype: int64\n",
      "Elementos null/NaN 41\n",
      "__________________\n",
      "Elementos diferentes de null/NaN: 437491\n",
      "__________________\n",
      "(437491,)\n",
      "None\n"
     ]
    }
   ],
   "source": [
    "c = 'IND_ANNO_TERMINO_BACHILLERATO'\n",
    "print(data_2008_2[c].value_counts().sort_index().index)\n",
    "print(data_2008_2[c].value_counts().sort_index())\n",
    "print(missing_data(data_2008_2[c]))"
   ]
  },
  {
   "cell_type": "code",
   "execution_count": 164,
   "metadata": {
    "collapsed": false
   },
   "outputs": [
    {
     "name": "stdout",
     "output_type": "stream",
     "text": [
      "Float64Index([0.0, 1.0], dtype='float64')\n",
      "0      12\n",
      "1    2541\n",
      "Name: IND_TERMINO_BACHILLERATO, dtype: int64\n",
      "Elementos null/NaN 434979\n",
      "__________________\n",
      "Elementos diferentes de null/NaN: 2553\n",
      "__________________\n",
      "(2553,)\n",
      "None\n"
     ]
    }
   ],
   "source": [
    "c = 'IND_TERMINO_BACHILLERATO'\n",
    "print(data_2008_2[c].value_counts().sort_index().index)\n",
    "print(data_2008_2[c].value_counts().sort_index())\n",
    "print(missing_data(data_2008_2[c]))"
   ]
  },
  {
   "cell_type": "code",
   "execution_count": 165,
   "metadata": {
    "collapsed": false,
    "scrolled": true
   },
   "outputs": [
    {
     "name": "stdout",
     "output_type": "stream",
     "text": [
      "Float64Index([     2.0,      3.0,     18.0,     59.0,     67.0,     75.0,\n",
      "                  83.0,     91.0,    125.0,    141.0,\n",
      "              ...\n",
      "              173260.0, 173609.0, 174730.0, 174755.0, 175166.0, 175562.0,\n",
      "              175828.0, 176008.0, 176198.0, 999999.0],\n",
      "             dtype='float64', length=9199)\n",
      "2            1\n",
      "3          386\n",
      "18          22\n",
      "59        1145\n",
      "67           1\n",
      "75          60\n",
      "83          38\n",
      "91          86\n",
      "125         73\n",
      "141        128\n",
      "174         71\n",
      "190         77\n",
      "208         92\n",
      "216         34\n",
      "232         28\n",
      "240         24\n",
      "257         25\n",
      "265         13\n",
      "273         42\n",
      "281         68\n",
      "315        162\n",
      "349         22\n",
      "356         21\n",
      "364         54\n",
      "372         56\n",
      "380        112\n",
      "398         23\n",
      "406         28\n",
      "422         14\n",
      "430        110\n",
      "          ... \n",
      "166645       1\n",
      "166777       4\n",
      "167205       2\n",
      "167551       1\n",
      "168369       1\n",
      "168500       1\n",
      "168534       1\n",
      "169508       1\n",
      "169607       2\n",
      "169698       2\n",
      "169748       1\n",
      "169904       2\n",
      "170258       1\n",
      "170365       2\n",
      "170449       1\n",
      "170472       1\n",
      "170480       3\n",
      "172478       1\n",
      "172940       1\n",
      "173179       1\n",
      "173260       1\n",
      "173609       1\n",
      "174730       1\n",
      "174755       1\n",
      "175166       1\n",
      "175562       1\n",
      "175828       1\n",
      "176008       1\n",
      "176198       1\n",
      "999999     617\n",
      "Name: IND_COD_ICFES_TERMINO, dtype: int64\n",
      "Elementos null/NaN 883\n",
      "__________________\n",
      "Elementos diferentes de null/NaN: 436649\n",
      "__________________\n",
      "(436649,)\n",
      "None\n"
     ]
    }
   ],
   "source": [
    "c = 'IND_COD_ICFES_TERMINO'\n",
    "print(data_2008_2[c].value_counts().sort_index().index)\n",
    "print(data_2008_2[c].value_counts().sort_index())\n",
    "print(missing_data(data_2008_2[c]))"
   ]
  },
  {
   "cell_type": "code",
   "execution_count": 166,
   "metadata": {
    "collapsed": false,
    "scrolled": true
   },
   "outputs": [
    {
     "name": "stdout",
     "output_type": "stream",
     "text": [
      "Int64Index([    18,     59,     75,     83,     91,    125,    141,    174,\n",
      "               190,    208,\n",
      "            ...\n",
      "            142364, 142372, 142406, 142414, 142430, 142448, 142463, 142489,\n",
      "            142539, 142554],\n",
      "           dtype='int64', length=8820)\n",
      "18          22\n",
      "59        1156\n",
      "75          60\n",
      "83          38\n",
      "91          86\n",
      "125         73\n",
      "141        128\n",
      "174         71\n",
      "190         77\n",
      "208         92\n",
      "216         34\n",
      "232         28\n",
      "240         22\n",
      "257         23\n",
      "265         13\n",
      "273         42\n",
      "281         68\n",
      "315        162\n",
      "349         23\n",
      "356         21\n",
      "364         54\n",
      "372         57\n",
      "380        112\n",
      "398         23\n",
      "406         28\n",
      "422         14\n",
      "430        111\n",
      "448         23\n",
      "455         95\n",
      "463        122\n",
      "          ... \n",
      "142042       6\n",
      "142075      23\n",
      "142083      16\n",
      "142109       8\n",
      "142117      11\n",
      "142125      49\n",
      "142133      28\n",
      "142141      12\n",
      "142166      15\n",
      "142190      29\n",
      "142208      11\n",
      "142216      65\n",
      "142240      11\n",
      "142257      12\n",
      "142265       8\n",
      "142273      12\n",
      "142281      43\n",
      "142299      23\n",
      "142315      11\n",
      "142323      10\n",
      "142364      12\n",
      "142372       5\n",
      "142406      14\n",
      "142414       8\n",
      "142430      13\n",
      "142448      10\n",
      "142463       1\n",
      "142489       5\n",
      "142539      44\n",
      "142554      16\n",
      "Name: COLE_COD_ICFES, dtype: int64\n",
      "Elementos null/NaN 0\n",
      "__________________\n",
      "Elementos diferentes de null/NaN: 437532\n",
      "__________________\n",
      "(437532,)\n",
      "None\n"
     ]
    }
   ],
   "source": [
    "c = 'COLE_COD_ICFES'\n",
    "print(data_2008_2[c].value_counts().sort_index().index)\n",
    "print(data_2008_2[c].value_counts().sort_index())\n",
    "print(missing_data(data_2008_2[c]))"
   ]
  },
  {
   "cell_type": "code",
   "execution_count": 167,
   "metadata": {
    "collapsed": true
   },
   "outputs": [],
   "source": [
    "for i in data_2008_2[c].value_counts().sort_index().index:\n",
    "    if len(str(i))<4:\n",
    "        data_2008_2[c] = data_2008_2[c].replace(i, np.nan)"
   ]
  },
  {
   "cell_type": "code",
   "execution_count": 168,
   "metadata": {
    "collapsed": false,
    "scrolled": true
   },
   "outputs": [
    {
     "name": "stdout",
     "output_type": "stream",
     "text": [
      "Index(['            ',   105001000108, '111001024732', '105001013340',\n",
      "       '168001003591', '111001019411', '313001006701', '111102000753',\n",
      "       '354001000027', '166001002339',\n",
      "       ...\n",
      "       '105266001203',   266440000088,   325754001841,   117001006287,\n",
      "       '305250000656', '268615002359', '376109007552', '352835000242',\n",
      "         625799000114, '205059000072'],\n",
      "      dtype='object', length=8462)\n",
      "                1890\n",
      "105001000108     899\n",
      "111001024732     852\n",
      "105001013340     836\n",
      "168001003591     761\n",
      "111001019411     657\n",
      "313001006701     561\n",
      "111102000753     529\n",
      "354001000027     505\n",
      "166001002339     500\n",
      "111001011819     495\n",
      "311001004820     482\n",
      "311001105391     482\n",
      "368001005488     480\n",
      "170001000180     479\n",
      "111001006122     471\n",
      "173001001053     467\n",
      "113001000852     463\n",
      "105154000301     462\n",
      "113001003274     459\n",
      "150001000979     454\n",
      "111001010910     453\n",
      "105001024073     439\n",
      "185001000268     437\n",
      "115001000367     415\n",
      "154001000079     410\n",
      "111001010839     404\n",
      "111279000362     400\n",
      "111001010031     394\n",
      "113001002057     393\n",
      "                ... \n",
      "173001008945       1\n",
      "115814000011       1\n",
      "311001002321       1\n",
      "352835004477       1\n",
      "311769000823       1\n",
      "325320000561       1\n",
      "105887000600       1\n",
      "313001008500       1\n",
      "113001003771       1\n",
      "305264000225       1\n",
      "311001000450       1\n",
      "320001067341       1\n",
      "213549002319       1\n",
      "227077002078       1\n",
      "111001086665       1\n",
      "166170000256       1\n",
      "288001000148       1\n",
      "347001006797       1\n",
      "241306000958       1\n",
      "113052000024       1\n",
      "105266001203       1\n",
      "266440000088       1\n",
      "325754001841       1\n",
      "117001006287       1\n",
      "305250000656       1\n",
      "268615002359       1\n",
      "376109007552       1\n",
      "352835000242       1\n",
      "625799000114       1\n",
      "205059000072       1\n",
      "Name: COLE_COD_DANE_INSTITUCION, dtype: int64\n",
      "Elementos null/NaN 0\n",
      "__________________\n",
      "Elementos diferentes de null/NaN: 437532\n",
      "__________________\n",
      "(437532,)\n",
      "None\n"
     ]
    }
   ],
   "source": [
    "c = 'COLE_COD_DANE_INSTITUCION'\n",
    "print(data_2008_2[c].value_counts().index)\n",
    "print(data_2008_2[c].value_counts())\n",
    "print(missing_data(data_2008_2[c]))"
   ]
  },
  {
   "cell_type": "code",
   "execution_count": 169,
   "metadata": {
    "collapsed": false
   },
   "outputs": [],
   "source": [
    "data_2008_2[c] = data_2008_2[c].replace('            ', np.nan)\n",
    "for i in data_2008_2[c].value_counts().index:\n",
    "    if type(i) == str:\n",
    "        data_2008_2[c] = data_2008_2[c].replace(i, float(i))"
   ]
  },
  {
   "cell_type": "code",
   "execution_count": 170,
   "metadata": {
    "collapsed": false,
    "scrolled": true
   },
   "outputs": [
    {
     "name": "stdout",
     "output_type": "stream",
     "text": [
      "Index([' COLEGIO MARYLAND', ' ESCUELA URBANA JOSE ANTONIO GALAN',\n",
      "       ' I.E. AGRICOLA DE MACANAL - SEDE PRINCIPAL',\n",
      "       ' I.E. LA CANDELARIA - SEDE PRINCIPAL',\n",
      "       ' I.E. MARCO AURELIO BERNAL - SEDE PRINCIPAL',\n",
      "       ' I.E.T. SAN DIEGO DE ALCALA - SEDE PRINCIPAL',\n",
      "       ' I.E.T. SERGIO CAMARGO - SEDE PRINCIPAL',\n",
      "       ' IE JUAN PABLO II - SEDE PRINCIPAL', ' IE NTRA SRA DE FATIMA',\n",
      "       ' INSTITUCION EDUCATIVA DEPARTAMENTAL TAPIAS',\n",
      "       ...\n",
      "       'UNIVERSIDAD NACIONAL ABIERTA Y A DISTANCIA',\n",
      "       'UNIVERSIDAD NACIONAL ABIERTA Y A DISTANCIA  UNAD - SEDE PRINCIPAL',\n",
      "       'VALSALICE', 'VENTIUN ANGELES (INST EDUC DIST)', 'VERDE AMAZONICO',\n",
      "       'VILLA CECILIA SEDE', 'VILLA CORELCA', 'VILLA DE LOS ANDES',\n",
      "       'VILLALOSADA',\n",
      "       'ZION SCHOOL                                                 '],\n",
      "      dtype='object', length=7317)\n",
      " COLEGIO MARYLAND                                                                                        12\n",
      " ESCUELA URBANA JOSE ANTONIO GALAN                                                                       13\n",
      " I.E. AGRICOLA DE MACANAL - SEDE PRINCIPAL                                                               56\n",
      " I.E. LA CANDELARIA - SEDE PRINCIPAL                                                                     30\n",
      " I.E. MARCO AURELIO BERNAL - SEDE PRINCIPAL                                                             105\n",
      " I.E.T. SAN DIEGO DE ALCALA - SEDE PRINCIPAL                                                             23\n",
      " I.E.T. SERGIO CAMARGO - SEDE PRINCIPAL                                                                  22\n",
      " IE JUAN PABLO II - SEDE PRINCIPAL                                                                        7\n",
      " IE NTRA SRA DE FATIMA                                                                                   14\n",
      " INSTITUCION EDUCATIVA DEPARTAMENTAL TAPIAS                                                              15\n",
      " JOSÉ CELESTINO MUTIS                                                                                    13\n",
      "ACAD AMERICANA DE SISTEMAS Y COMERCIO                                                                    24\n",
      "ACAD CENTRAL DE SISTEMAS ACSI                                                                            47\n",
      "ACAD MILIT MARISCAL SUCRE                                                                                66\n",
      "ACAD MILIT NAL HEROES GRANADINOS                                                                         35\n",
      "ACAD PANTANO DE VARGAS                                                                                   40\n",
      "ACAD. MILITAR GRAL. CUSTODIO GARCIA R.                                                                   25\n",
      "ACADEMIA CIAL DE LOS ANDES                                                                               37\n",
      "ACADEMIA COLOMBIANA DE ENSEÑANZA                                                                          6\n",
      "ACADEMIA DE CIENCIAS DE COLOMBIA AKADEMOS                                                                12\n",
      "ACADEMIA E INSTITUTO CAMPAÑA LIBERTADORA                                                                  3\n",
      "ACADEMIA GRAN COLOMBIA                                                                                   46\n",
      "ACADEMIA GUSTAVO ROJAS PINILLAS                                                                          38\n",
      "ACADEMIA LA SALLE SAN BENILDO                                                                            85\n",
      "ACADEMIA LEGION BRITANICA                                                                                16\n",
      "ACADEMIA MILITAR GENERAL JOSE ANTONIO ANZOATEGUI                                                         23\n",
      "ACADEMIA MILITAR GRAL TOMAS CIPRIANO DE MOSQUERA                                                         32\n",
      "ACADEMIA MILITAR JOSE ANTONIO PAEZ                                                                       42\n",
      "ACADEMIA MILITAR MARISCAL SUCRE                                                                          71\n",
      "ACADEMIA POLITECNICA INTERACTIVA - SEDE PRINCIPAL                                                         6\n",
      "                                                                                                       ... \n",
      "TÉCNICO INDUSTRIAL RAFAEL POMBO                                                                         203\n",
      "U. EDUCATIVA FELICIDAD BARRIOS H.                                                                         8\n",
      "UNAD  BACHILLERATO DIVERSIFICADO A DISTANCIA PARA ADULTOS                                               128\n",
      "UNAD UNIVERSIDAD NACIONAL ABIERTA Y A DISTANCIA                                                           2\n",
      "UNID EDUC BAHIA SOLANO                                                                                   32\n",
      "UNID EDUC JEAN PIAGET                                                                                    70\n",
      "UNID EDUC PRADOS DE ALAMEDA                                                                              16\n",
      "UNID EDUC SAN ANTONIO DEL ARIARI                                                                         51\n",
      "UNID PEDAGOGICA BILINGÜE PIERRE DE FERMAT                                                                29\n",
      "UNIDAD BASICA LAGUNA                                                                                      9\n",
      "UNIDAD BASICA RURAL SOATAMA                                                                               8\n",
      "UNIDAD EDUCATIVA                                                                                         26\n",
      "UNIDAD EDUCATIVA CABUYARO                                                                                38\n",
      "UNIDAD EDUCATIVA SAN MARCOS                                                                             148\n",
      "UNIDAD EDUCATIVA SANTA TERESA DE PACHAQUIARO                                                             25\n",
      "UNIDAD EDUCATIVA TECNICO AGROPECURIO                                                                     45\n",
      "UNIDAD EDUCATIVA URBANA                                                                                  40\n",
      "UNIDAD TECNOLOGICA DE OCCIDENTE                                                                           8\n",
      "UNION PROFESIONAL PARA LA EDUCACION Y EL TRABAJO UPET                                                     4\n",
      "UNION SINDICAL OBRERA  USO                                                                               32\n",
      "UNIVERSIDAD NACIONAL ABIERTA Y A DISTANCIA                                                              169\n",
      "UNIVERSIDAD NACIONAL ABIERTA Y A DISTANCIA  UNAD - SEDE PRINCIPAL                                       258\n",
      "VALSALICE                                                                                                59\n",
      "VENTIUN ANGELES (INST EDUC DIST)                                                                         94\n",
      "VERDE AMAZONICO                                                                                          19\n",
      "VILLA CECILIA SEDE                                                                                       15\n",
      "VILLA CORELCA                                                                                            24\n",
      "VILLA DE LOS ANDES                                                                                       45\n",
      "VILLALOSADA                                                                                              11\n",
      "ZION SCHOOL                                                                                              12\n",
      "Name: COLE_NOMBRE_SEDE, dtype: int64\n",
      "Elementos null/NaN 0\n",
      "__________________\n",
      "Elementos diferentes de null/NaN: 437532\n",
      "__________________\n",
      "(437532,)\n",
      "None\n"
     ]
    }
   ],
   "source": [
    "c = 'COLE_NOMBRE_SEDE'\n",
    "print(data_2008_2[c].value_counts().sort_index().index)\n",
    "print(data_2008_2[c].value_counts().sort_index())\n",
    "print(missing_data(data_2008_2[c]))"
   ]
  },
  {
   "cell_type": "code",
   "execution_count": 171,
   "metadata": {
    "collapsed": true
   },
   "outputs": [],
   "source": [
    "data_2008_2 = data_2008_2.drop([c], axis=1)"
   ]
  },
  {
   "cell_type": "code",
   "execution_count": 172,
   "metadata": {
    "collapsed": false
   },
   "outputs": [
    {
     "name": "stdout",
     "output_type": "stream",
     "text": [
      "Index(['A', 'B', 'F'], dtype='object')\n",
      "A    381645\n",
      "B       275\n",
      "F     55612\n",
      "Name: COLE_CALENDARIO, dtype: int64\n",
      "Elementos null/NaN 0\n",
      "__________________\n",
      "Elementos diferentes de null/NaN: 437532\n",
      "__________________\n",
      "(437532,)\n",
      "None\n"
     ]
    }
   ],
   "source": [
    "c = 'COLE_CALENDARIO'\n",
    "print(data_2008_2[c].value_counts().sort_index().index)\n",
    "print(data_2008_2[c].value_counts().sort_index())\n",
    "print(missing_data(data_2008_2[c]))"
   ]
  },
  {
   "cell_type": "code",
   "execution_count": 173,
   "metadata": {
    "collapsed": false
   },
   "outputs": [
    {
     "name": "stdout",
     "output_type": "stream",
     "text": [
      "Index(['F', 'M', 'X'], dtype='object')\n",
      "F     25331\n",
      "M      6494\n",
      "X    405707\n",
      "Name: COLE_GENERO, dtype: int64\n",
      "Elementos null/NaN 0\n",
      "__________________\n",
      "Elementos diferentes de null/NaN: 437532\n",
      "__________________\n",
      "(437532,)\n",
      "None\n"
     ]
    }
   ],
   "source": [
    "c = 'COLE_GENERO'\n",
    "print(data_2008_2[c].value_counts().sort_index().index)\n",
    "print(data_2008_2[c].value_counts().sort_index())\n",
    "print(missing_data(data_2008_2[c]))"
   ]
  },
  {
   "cell_type": "code",
   "execution_count": 174,
   "metadata": {
    "collapsed": false
   },
   "outputs": [
    {
     "name": "stdout",
     "output_type": "stream",
     "text": [
      "Index(['N', 'O'], dtype='object')\n",
      "N    112234\n",
      "O    325298\n",
      "Name: COLE_NATURALEZA, dtype: int64\n",
      "Elementos null/NaN 0\n",
      "__________________\n",
      "Elementos diferentes de null/NaN: 437532\n",
      "__________________\n",
      "(437532,)\n",
      "None\n"
     ]
    }
   ],
   "source": [
    "c = 'COLE_NATURALEZA'\n",
    "print(data_2008_2[c].value_counts().sort_index().index)\n",
    "print(data_2008_2[c].value_counts().sort_index())\n",
    "print(missing_data(data_2008_2[c]))"
   ]
  },
  {
   "cell_type": "code",
   "execution_count": 175,
   "metadata": {
    "collapsed": false
   },
   "outputs": [
    {
     "name": "stdout",
     "output_type": "stream",
     "text": [
      "Float64Index([0.0, 1.0], dtype='float64')\n",
      "0    396175\n",
      "1      3193\n",
      "Name: COLE_BILINGUE, dtype: int64\n",
      "Elementos null/NaN 38164\n",
      "__________________\n",
      "Elementos diferentes de null/NaN: 399368\n",
      "__________________\n",
      "(399368,)\n",
      "None\n"
     ]
    }
   ],
   "source": [
    "c = 'COLE_BILINGUE'\n",
    "print(data_2008_2[c].value_counts().sort_index().index)\n",
    "print(data_2008_2[c].value_counts().sort_index())\n",
    "print(missing_data(data_2008_2[c]))"
   ]
  },
  {
   "cell_type": "code",
   "execution_count": 176,
   "metadata": {
    "collapsed": false
   },
   "outputs": [
    {
     "name": "stdout",
     "output_type": "stream",
     "text": [
      "Index(['COMPLETA U ORDINARIA', 'MAÑANA', 'NOCHE', 'SABATINA - DOMINICAL',\n",
      "       'TARDE'],\n",
      "      dtype='object')\n",
      "COMPLETA U ORDINARIA     89214\n",
      "MAÑANA                  220501\n",
      "NOCHE                    29070\n",
      "SABATINA - DOMINICAL     15540\n",
      "TARDE                    83207\n",
      "Name: COLE_JORNADA, dtype: int64\n",
      "Elementos null/NaN 0\n",
      "__________________\n",
      "Elementos diferentes de null/NaN: 437532\n",
      "__________________\n",
      "(437532,)\n",
      "None\n"
     ]
    }
   ],
   "source": [
    "c = 'COLE_JORNADA'\n",
    "print(data_2008_2[c].value_counts().sort_index().index)\n",
    "print(data_2008_2[c].value_counts().sort_index())\n",
    "print(missing_data(data_2008_2[c]))"
   ]
  },
  {
   "cell_type": "code",
   "execution_count": 177,
   "metadata": {
    "collapsed": false
   },
   "outputs": [
    {
     "name": "stdout",
     "output_type": "stream",
     "text": [
      "Index(['ACADEMICO', 'ACADEMICO Y TECNICO', 'DESCONOCIDO', 'NORMALISTA',\n",
      "       'TECNICO'],\n",
      "      dtype='object')\n",
      "ACADEMICO              268613\n",
      "ACADEMICO Y TECNICO     82490\n",
      "DESCONOCIDO               234\n",
      "NORMALISTA              10671\n",
      "TECNICO                 75524\n",
      "Name: COLE_CARACTER, dtype: int64\n",
      "Elementos null/NaN 0\n",
      "__________________\n",
      "Elementos diferentes de null/NaN: 437532\n",
      "__________________\n",
      "(437532,)\n",
      "None\n"
     ]
    }
   ],
   "source": [
    "c = 'COLE_CARACTER'\n",
    "print(data_2008_2[c].value_counts().sort_index().index)\n",
    "print(data_2008_2[c].value_counts().sort_index())\n",
    "print(missing_data(data_2008_2[c]))"
   ]
  },
  {
   "cell_type": "code",
   "execution_count": 178,
   "metadata": {
    "collapsed": false
   },
   "outputs": [
    {
     "name": "stdout",
     "output_type": "stream",
     "text": [
      "Float64Index([0.0, 1.0, 2.0, 3.0, 4.0], dtype='float64')\n",
      "0    397110\n",
      "1     33348\n",
      "2      5518\n",
      "3      1502\n",
      "4         4\n",
      "Name: ESTU_VECES_ESTADO, dtype: int64\n",
      "Elementos null/NaN 50\n",
      "__________________\n",
      "Elementos diferentes de null/NaN: 437482\n",
      "__________________\n",
      "(437482,)\n",
      "None\n"
     ]
    }
   ],
   "source": [
    "c = 'ESTU_VECES_ESTADO'\n",
    "print(data_2008_2[c].value_counts().sort_index().index)\n",
    "print(data_2008_2[c].value_counts().sort_index())\n",
    "print(missing_data(data_2008_2[c]))"
   ]
  },
  {
   "cell_type": "code",
   "execution_count": 179,
   "metadata": {
    "collapsed": false,
    "scrolled": true
   },
   "outputs": [
    {
     "name": "stdout",
     "output_type": "stream",
     "text": [
      "Index(['ABEJORRAL', 'ABREGO', 'ACACIAS', 'ACANDI', 'ACHI', 'AGUACHICA',\n",
      "       'AGUADAS', 'AGUAZUL', 'AGUSTIN CODAZZI', 'AIPE',\n",
      "       ...\n",
      "       'VILLAVICENCIO', 'VILLETA', 'VIOTA', 'YARUMAL', 'YAVARATE', 'YOLOMBO',\n",
      "       'YOPAL', 'ZAPATOCA', 'ZARAGOZA', 'ZIPAQUIRA'],\n",
      "      dtype='object', length=370)\n",
      "ABEJORRAL                     177\n",
      "ABREGO                         90\n",
      "ACACIAS                      1114\n",
      "ACANDI                         72\n",
      "ACHI                          187\n",
      "AGUACHICA                    1041\n",
      "AGUADAS                       255\n",
      "AGUAZUL                       464\n",
      "AGUSTIN CODAZZI               554\n",
      "AIPE                          168\n",
      "ALTO BAUDO (PIE DE PATO)       24\n",
      "AMAGA                         753\n",
      "AMALFI                        348\n",
      "ANDES                         685\n",
      "ANOLAIMA                      206\n",
      "ANSERMA                       682\n",
      "APARTADO                     2068\n",
      "APIA                          156\n",
      "ARACATACA                     334\n",
      "ARAUCA                        961\n",
      "ARAUQUITA                     260\n",
      "ARBELAEZ                      258\n",
      "ARBOLEDAS                     137\n",
      "ARBOLETES                     339\n",
      "ARIGUANI (EL DIFICIL)         314\n",
      "ARJONA                        811\n",
      "ARMENIA                      4187\n",
      "ASTREA                        221\n",
      "ATRATO (YUTO)                 116\n",
      "AYAPEL                        407\n",
      "                             ... \n",
      "TUNJA                        3871\n",
      "TURBACO                       953\n",
      "TURBO                        1106\n",
      "TURMEQUE                      191\n",
      "TUTA                           90\n",
      "UBATE                        1045\n",
      "UNGUIA                         94\n",
      "URRAO                         503\n",
      "VALLEDUPAR                   4805\n",
      "VALPARAISO                    175\n",
      "VEGACHI                       204\n",
      "VELEZ                         584\n",
      "VENADILLO                     202\n",
      "VENTAQUEMADA                  142\n",
      "VIGIA DEL FUERTE               88\n",
      "VILLA DE LEYVA                305\n",
      "VILLA DEL ROSARIO             758\n",
      "VILLA GUAMEZ (LA HORMIGA)     404\n",
      "VILLAGARZON                   113\n",
      "VILLANUEVA                    838\n",
      "VILLAVICENCIO                5654\n",
      "VILLETA                       726\n",
      "VIOTA                         111\n",
      "YARUMAL                       687\n",
      "YAVARATE                       24\n",
      "YOLOMBO                       206\n",
      "YOPAL                        1879\n",
      "ZAPATOCA                      167\n",
      "ZARAGOZA                      195\n",
      "ZIPAQUIRA                    2552\n",
      "Name: ESTU_MCPIO_PRESENTACION, dtype: int64\n",
      "Elementos null/NaN 0\n",
      "__________________\n",
      "Elementos diferentes de null/NaN: 437532\n",
      "__________________\n",
      "(437532,)\n",
      "None\n"
     ]
    }
   ],
   "source": [
    "c = 'ESTU_MCPIO_PRESENTACION'\n",
    "print(data_2008_2[c].value_counts().sort_index().index)\n",
    "print(data_2008_2[c].value_counts().sort_index())\n",
    "print(missing_data(data_2008_2[c]))"
   ]
  },
  {
   "cell_type": "code",
   "execution_count": 180,
   "metadata": {
    "collapsed": false,
    "scrolled": true
   },
   "outputs": [
    {
     "name": "stdout",
     "output_type": "stream",
     "text": [
      "Index(['AMAZONAS', 'ANTIOQUIA', 'ARAUCA', 'ATLÁNTICO', 'BOGOTÁ', 'BOLÍVAR',\n",
      "       'BOYACÁ', 'CALDAS', 'CAQUETÁ', 'CASANARE', 'CAUCA', 'CESAR', 'CHOCÓ',\n",
      "       'CUNDINAMARCA', 'CÓRDOBA', 'GUAINÍA', 'GUAVIARE', 'HUILA', 'LA GUAJIRA',\n",
      "       'MAGDALENA', 'META', 'NARIÑO', 'NORTE SANTANDER', 'PUTUMAYO', 'QUINDÍO',\n",
      "       'RISARALDA', 'SAN ANDRÉS', 'SANTANDER', 'SUCRE', 'TOLIMA', 'VALLE',\n",
      "       'VAUPÉS', 'VICHADA'],\n",
      "      dtype='object')\n",
      "AMAZONAS             678\n",
      "ANTIOQUIA          66083\n",
      "ARAUCA              2581\n",
      "ATLÁNTICO          27721\n",
      "BOGOTÁ             90491\n",
      "BOLÍVAR            21963\n",
      "BOYACÁ             16396\n",
      "CALDAS             11076\n",
      "CAQUETÁ             3203\n",
      "CASANARE            3952\n",
      "CAUCA               9537\n",
      "CESAR              10227\n",
      "CHOCÓ               3685\n",
      "CUNDINAMARCA       29658\n",
      "CÓRDOBA            15714\n",
      "GUAINÍA              148\n",
      "GUAVIARE             632\n",
      "HUILA               9880\n",
      "LA GUAJIRA          6119\n",
      "MAGDALENA          12636\n",
      "META                8999\n",
      "NARIÑO              1829\n",
      "NORTE SANTANDER    14866\n",
      "PUTUMAYO            2318\n",
      "QUINDÍO             6064\n",
      "RISARALDA           9732\n",
      "SAN ANDRÉS           757\n",
      "SANTANDER          23300\n",
      "SUCRE              10176\n",
      "TOLIMA             14773\n",
      "VALLE               1693\n",
      "VAUPÉS               202\n",
      "VICHADA              443\n",
      "Name: ESTU_DEPTO_PRESENTACION, dtype: int64\n",
      "Elementos null/NaN 0\n",
      "__________________\n",
      "Elementos diferentes de null/NaN: 437532\n",
      "__________________\n",
      "(437532,)\n",
      "None\n"
     ]
    }
   ],
   "source": [
    "c = 'ESTU_DEPTO_PRESENTACION'\n",
    "print(data_2008_2[c].value_counts().sort_index().index)\n",
    "print(data_2008_2[c].value_counts().sort_index())\n",
    "print(missing_data(data_2008_2[c]))"
   ]
  },
  {
   "cell_type": "code",
   "execution_count": 181,
   "metadata": {
    "collapsed": false
   },
   "outputs": [
    {
     "name": "stdout",
     "output_type": "stream",
     "text": [
      "Float64Index([0.0, 1.0, 2.0, 3.0], dtype='float64')\n",
      "0     38\n",
      "1     68\n",
      "2     46\n",
      "3    405\n",
      "Name: ESTU_CARRDESEADA_TIPO, dtype: int64\n",
      "Elementos null/NaN 436975\n",
      "__________________\n",
      "Elementos diferentes de null/NaN: 557\n",
      "__________________\n",
      "(557,)\n",
      "None\n"
     ]
    }
   ],
   "source": [
    "c = 'ESTU_CARRDESEADA_TIPO'\n",
    "print(data_2008_2[c].value_counts().sort_index().index)\n",
    "print(data_2008_2[c].value_counts().sort_index())\n",
    "print(missing_data(data_2008_2[c]))"
   ]
  },
  {
   "cell_type": "code",
   "execution_count": 182,
   "metadata": {
    "collapsed": false,
    "scrolled": true
   },
   "outputs": [
    {
     "name": "stdout",
     "output_type": "stream",
     "text": [
      "Float64Index([  1.0,   2.0,   3.0,   4.0,   5.0,   6.0,   7.0,   8.0,   9.0,\n",
      "               11.0,  12.0,  13.0,  18.0,  19.0,  20.0,  21.0,  22.0,  23.0,\n",
      "               24.0,  25.0,  26.0,  27.0,  28.0,  29.0,  30.0,  31.0,  32.0,\n",
      "               33.0,  34.0,  35.0,  36.0,  37.0,  40.0,  41.0,  42.0,  44.0,\n",
      "               45.0,  46.0,  47.0,  48.0,  50.0,  53.0,  55.0,  56.0,  57.0,\n",
      "               58.0,  59.0,  61.0,  62.0,  64.0,  66.0,  68.0,  69.0,  70.0,\n",
      "               99.0, 179.0],\n",
      "             dtype='float64')\n",
      "1      12\n",
      "2       4\n",
      "3       4\n",
      "4       4\n",
      "5       2\n",
      "6       3\n",
      "7      26\n",
      "8       5\n",
      "9      47\n",
      "11     16\n",
      "12     12\n",
      "13     14\n",
      "18     13\n",
      "19      3\n",
      "20     10\n",
      "21      8\n",
      "22      5\n",
      "23      6\n",
      "24      3\n",
      "25      9\n",
      "26      3\n",
      "27     35\n",
      "28      4\n",
      "29     20\n",
      "30     14\n",
      "31     11\n",
      "32      4\n",
      "33      3\n",
      "34      3\n",
      "35      2\n",
      "36      3\n",
      "37      1\n",
      "40      3\n",
      "41     24\n",
      "42      1\n",
      "44      1\n",
      "45     36\n",
      "46      4\n",
      "47     10\n",
      "48      3\n",
      "50      3\n",
      "53      2\n",
      "55      1\n",
      "56      6\n",
      "57     12\n",
      "58     12\n",
      "59     28\n",
      "61      9\n",
      "62      1\n",
      "64      9\n",
      "66     13\n",
      "68      7\n",
      "69      7\n",
      "70      2\n",
      "99     15\n",
      "179     1\n",
      "Name: ESTU_CARRDESEADA_NUCLEO, dtype: int64\n",
      "Elementos null/NaN 437013\n",
      "__________________\n",
      "Elementos diferentes de null/NaN: 519\n",
      "__________________\n",
      "(519,)\n",
      "None\n"
     ]
    }
   ],
   "source": [
    "c = 'ESTU_CARRDESEADA_NUCLEO'\n",
    "print(data_2008_2[c].value_counts().sort_index().index)\n",
    "print(data_2008_2[c].value_counts().sort_index())\n",
    "print(missing_data(data_2008_2[c]))"
   ]
  },
  {
   "cell_type": "code",
   "execution_count": 183,
   "metadata": {
    "collapsed": false,
    "scrolled": true
   },
   "outputs": [
    {
     "name": "stdout",
     "output_type": "stream",
     "text": [
      "Float64Index([1101.0, 1102.0, 1103.0, 1104.0, 1105.0, 1106.0, 1107.0, 1108.0,\n",
      "              1109.0, 1110.0,\n",
      "              ...\n",
      "              9101.0, 9102.0, 9103.0, 9104.0, 9105.0, 9107.0, 9110.0, 9111.0,\n",
      "              9112.0, 9114.0],\n",
      "             dtype='float64', length=255)\n",
      "1101    1011\n",
      "1102      28\n",
      "1103      22\n",
      "1104       4\n",
      "1105      57\n",
      "1106      88\n",
      "1107       1\n",
      "1108      14\n",
      "1109       5\n",
      "1110     236\n",
      "1111      63\n",
      "1112      71\n",
      "1113      28\n",
      "1114     373\n",
      "1115      36\n",
      "1117      27\n",
      "1118       4\n",
      "1119      36\n",
      "1120      12\n",
      "1121       9\n",
      "1123       3\n",
      "1125       1\n",
      "1201     168\n",
      "1202      20\n",
      "1203     125\n",
      "1204     305\n",
      "1205      54\n",
      "1206      29\n",
      "1207      89\n",
      "1208      68\n",
      "        ... \n",
      "4804       3\n",
      "4805       5\n",
      "4806       6\n",
      "4808       3\n",
      "4809       1\n",
      "4810       7\n",
      "4811       2\n",
      "4812       1\n",
      "4813      11\n",
      "4814       1\n",
      "4822       2\n",
      "4825       3\n",
      "4826       2\n",
      "4827       5\n",
      "4828       1\n",
      "4832       1\n",
      "4835       3\n",
      "4838       4\n",
      "5801       1\n",
      "5802       3\n",
      "9101      18\n",
      "9102      11\n",
      "9103      30\n",
      "9104      45\n",
      "9105       8\n",
      "9107       2\n",
      "9110     104\n",
      "9111       3\n",
      "9112       9\n",
      "9114       8\n",
      "Name: ESTU_IES_COD_DESEADA, dtype: int64\n",
      "Elementos null/NaN 432487\n",
      "__________________\n",
      "Elementos diferentes de null/NaN: 5045\n",
      "__________________\n",
      "(5045,)\n",
      "None\n"
     ]
    }
   ],
   "source": [
    "c = 'ESTU_IES_COD_DESEADA'\n",
    "print(data_2008_2[c].value_counts().sort_index().index)\n",
    "print(data_2008_2[c].value_counts().sort_index())\n",
    "print(missing_data(data_2008_2[c]))"
   ]
  },
  {
   "cell_type": "code",
   "execution_count": 184,
   "metadata": {
    "collapsed": false,
    "scrolled": true
   },
   "outputs": [
    {
     "name": "stdout",
     "output_type": "stream",
     "text": [
      "Float64Index([ 5001.0,  5034.0,  5042.0,  5088.0,  5129.0,  5148.0,  5154.0,\n",
      "               5615.0,  5631.0,  8001.0, 11001.0, 13001.0, 15001.0, 15176.0,\n",
      "              15238.0, 15759.0, 17001.0, 17541.0, 18001.0, 19001.0, 20001.0,\n",
      "              20011.0, 23001.0, 25175.0, 25269.0, 25290.0, 25307.0, 25430.0,\n",
      "              25488.0, 25843.0, 27001.0, 41001.0, 44001.0, 47001.0, 50001.0,\n",
      "              52001.0, 54001.0, 54498.0, 54518.0, 63001.0, 66001.0, 66682.0,\n",
      "              68001.0, 68081.0, 68679.0, 68755.0, 70001.0, 70820.0, 73001.0,\n",
      "              73349.0, 76001.0, 76147.0, 76520.0, 76736.0, 76834.0, 85001.0,\n",
      "              86001.0, 86749.0, 88001.0, 91001.0],\n",
      "             dtype='float64')\n",
      "5001      334\n",
      "5034        2\n",
      "5042        1\n",
      "5088        4\n",
      "5129        1\n",
      "5148        1\n",
      "5154        3\n",
      "5615        2\n",
      "5631        2\n",
      "8001       52\n",
      "11001    2263\n",
      "13001      93\n",
      "15001     111\n",
      "15176       5\n",
      "15238       1\n",
      "15759      14\n",
      "17001     132\n",
      "17541       1\n",
      "18001      36\n",
      "19001     257\n",
      "20001      12\n",
      "20011       3\n",
      "23001      36\n",
      "25175      48\n",
      "25269       1\n",
      "25290      25\n",
      "25307       3\n",
      "25430      14\n",
      "25488       7\n",
      "25843       1\n",
      "27001       4\n",
      "41001     381\n",
      "44001      11\n",
      "47001      39\n",
      "50001      41\n",
      "52001      32\n",
      "54001      36\n",
      "54498       3\n",
      "54518      44\n",
      "63001      84\n",
      "66001      80\n",
      "66682       1\n",
      "68001     421\n",
      "68081       3\n",
      "68679       4\n",
      "68755       4\n",
      "70001      19\n",
      "70820       2\n",
      "73001     116\n",
      "73349       3\n",
      "76001     216\n",
      "76147       2\n",
      "76520       4\n",
      "76736       1\n",
      "76834       3\n",
      "85001      15\n",
      "86001       4\n",
      "86749       1\n",
      "88001       5\n",
      "91001       1\n",
      "Name: ESTU_IES_COD_MPIO_DESEADA, dtype: int64\n",
      "Elementos null/NaN 432487\n",
      "__________________\n",
      "Elementos diferentes de null/NaN: 5045\n",
      "__________________\n",
      "(5045,)\n",
      "None\n"
     ]
    }
   ],
   "source": [
    "c = 'ESTU_IES_COD_MPIO_DESEADA'\n",
    "print(data_2008_2[c].value_counts().sort_index().index)\n",
    "print(data_2008_2[c].value_counts().sort_index())\n",
    "print(missing_data(data_2008_2[c]))"
   ]
  },
  {
   "cell_type": "code",
   "execution_count": 185,
   "metadata": {
    "collapsed": true
   },
   "outputs": [],
   "source": [
    "data_2008_2 = data_2008_2.drop([c], axis=1)"
   ]
  },
  {
   "cell_type": "code",
   "execution_count": 186,
   "metadata": {
    "collapsed": false,
    "scrolled": true
   },
   "outputs": [
    {
     "name": "stdout",
     "output_type": "stream",
     "text": [
      "Index(['AGUACHICA', 'ANDES', 'ARMENIA', 'BARRANCABERMEJA', 'BARRANQUILLA',\n",
      "       'BELLO', 'BOGOTÁ D.C.', 'BUCARAMANGA', 'CALDAS', 'CALI',\n",
      "       'CARMEN DE VIBORAL', 'CARTAGENA', 'CARTAGO', 'CAUCASIA', 'CHIA',\n",
      "       'CHIQUINQUIRA', 'CUCUTA', 'DUITAMA', 'FACATATIVA', 'FLORENCIA',\n",
      "       'FUSAGASUGA', 'GIRARDOT', 'HONDA', 'IBAGUE', 'LETICIA', 'MADRID',\n",
      "       'MANIZALES', 'MEDELLIN', 'MOCOA', 'MONTERIA', 'NEIVA', 'NILO', 'OCAÑA',\n",
      "       'PALMIRA', 'PAMPLONA', 'PASTO', 'PENSILVANIA', 'PEREIRA', 'POPAYAN',\n",
      "       'QUIBDO', 'RIOHACHA', 'RIONEGRO', 'SABANETA', 'SAN ANDRES', 'SAN GIL',\n",
      "       'SANTA MARTA', 'SANTA ROSA DE CABAL', 'SANTAFÉ DE ANTIOQUIA', 'SEVILLA',\n",
      "       'SIBUNDOY', 'SINCELEJO', 'SOCORRO', 'SOGAMOSO', 'TOLU', 'TULUA',\n",
      "       'TUNJA', 'UBATE', 'VALLEDUPAR', 'VILLAVICENCIO', 'YOPAL'],\n",
      "      dtype='object')\n",
      "AGUACHICA                  3\n",
      "ANDES                      2\n",
      "ARMENIA                   84\n",
      "BARRANCABERMEJA            3\n",
      "BARRANQUILLA              52\n",
      "BELLO                      4\n",
      "BOGOTÁ D.C.             2263\n",
      "BUCARAMANGA              421\n",
      "CALDAS                     1\n",
      "CALI                     216\n",
      "CARMEN DE VIBORAL          1\n",
      "CARTAGENA                 93\n",
      "CARTAGO                    2\n",
      "CAUCASIA                   3\n",
      "CHIA                      48\n",
      "CHIQUINQUIRA               5\n",
      "CUCUTA                    36\n",
      "DUITAMA                    1\n",
      "FACATATIVA                 1\n",
      "FLORENCIA                 36\n",
      "FUSAGASUGA                25\n",
      "GIRARDOT                   3\n",
      "HONDA                      3\n",
      "IBAGUE                   116\n",
      "LETICIA                    1\n",
      "MADRID                    14\n",
      "MANIZALES                132\n",
      "MEDELLIN                 334\n",
      "MOCOA                      4\n",
      "MONTERIA                  36\n",
      "NEIVA                    381\n",
      "NILO                       7\n",
      "OCAÑA                      3\n",
      "PALMIRA                    4\n",
      "PAMPLONA                  44\n",
      "PASTO                     32\n",
      "PENSILVANIA                1\n",
      "PEREIRA                   80\n",
      "POPAYAN                  257\n",
      "QUIBDO                     4\n",
      "RIOHACHA                  11\n",
      "RIONEGRO                   2\n",
      "SABANETA                   2\n",
      "SAN ANDRES                 5\n",
      "SAN GIL                    4\n",
      "SANTA MARTA               39\n",
      "SANTA ROSA DE CABAL        1\n",
      "SANTAFÉ DE ANTIOQUIA       1\n",
      "SEVILLA                    1\n",
      "SIBUNDOY                   1\n",
      "SINCELEJO                 19\n",
      "SOCORRO                    4\n",
      "SOGAMOSO                  14\n",
      "TOLU                       2\n",
      "TULUA                      3\n",
      "TUNJA                    111\n",
      "UBATE                      1\n",
      "VALLEDUPAR                12\n",
      "VILLAVICENCIO             41\n",
      "YOPAL                     15\n",
      "Name: ESTU_IES_MPIO_DESEADA, dtype: int64\n",
      "Elementos null/NaN 432487\n",
      "__________________\n",
      "Elementos diferentes de null/NaN: 5045\n",
      "__________________\n",
      "(5045,)\n",
      "None\n"
     ]
    }
   ],
   "source": [
    "c = 'ESTU_IES_MPIO_DESEADA'\n",
    "print(data_2008_2[c].value_counts().sort_index().index)\n",
    "print(data_2008_2[c].value_counts().sort_index())\n",
    "print(missing_data(data_2008_2[c]))"
   ]
  },
  {
   "cell_type": "code",
   "execution_count": 187,
   "metadata": {
    "collapsed": false,
    "scrolled": true
   },
   "outputs": [
    {
     "name": "stdout",
     "output_type": "stream",
     "text": [
      "Index(['AMAZONAS', 'ANTIOQUIA', 'ATLÁNTICO', 'BOGOTÁ', 'BOLÍVAR', 'BOYACÁ',\n",
      "       'CALDAS', 'CAQUETÁ', 'CASANARE', 'CAUCA', 'CESAR', 'CHOCÓ',\n",
      "       'CUNDINAMARCA', 'CÓRDOBA', 'HUILA', 'LA GUAJIRA', 'MAGDALENA', 'META',\n",
      "       'NARIÑO', 'NORTE SANTANDER', 'PUTUMAYO', 'QUINDÍO', 'RISARALDA',\n",
      "       'SAN ANDRÉS', 'SANTANDER', 'SUCRE', 'TOLIMA', 'VALLE'],\n",
      "      dtype='object')\n",
      "AMAZONAS              1\n",
      "ANTIOQUIA           350\n",
      "ATLÁNTICO            52\n",
      "BOGOTÁ             2263\n",
      "BOLÍVAR              93\n",
      "BOYACÁ              131\n",
      "CALDAS              133\n",
      "CAQUETÁ              36\n",
      "CASANARE             15\n",
      "CAUCA               257\n",
      "CESAR                15\n",
      "CHOCÓ                 4\n",
      "CUNDINAMARCA         99\n",
      "CÓRDOBA              36\n",
      "HUILA               381\n",
      "LA GUAJIRA           11\n",
      "MAGDALENA            39\n",
      "META                 41\n",
      "NARIÑO               32\n",
      "NORTE SANTANDER      83\n",
      "PUTUMAYO              5\n",
      "QUINDÍO              84\n",
      "RISARALDA            81\n",
      "SAN ANDRÉS            5\n",
      "SANTANDER           432\n",
      "SUCRE                21\n",
      "TOLIMA              119\n",
      "VALLE               226\n",
      "Name: ESTU_IES_DEPT_DESEADA, dtype: int64\n",
      "Elementos null/NaN 432487\n",
      "__________________\n",
      "Elementos diferentes de null/NaN: 5045\n",
      "__________________\n",
      "(5045,)\n",
      "None\n"
     ]
    }
   ],
   "source": [
    "c = 'ESTU_IES_DEPT_DESEADA'\n",
    "print(data_2008_2[c].value_counts().sort_index().index)\n",
    "print(data_2008_2[c].value_counts().sort_index())\n",
    "print(missing_data(data_2008_2[c]))"
   ]
  },
  {
   "cell_type": "code",
   "execution_count": 188,
   "metadata": {
    "collapsed": false
   },
   "outputs": [
    {
     "name": "stdout",
     "output_type": "stream",
     "text": [
      "Float64Index([1.0, 2.0, 3.0, 4.0, 5.0, 6.0, 7.0, 8.0], dtype='float64')\n",
      "1     145\n",
      "2     516\n",
      "3    2409\n",
      "4     443\n",
      "5     461\n",
      "6     303\n",
      "7     189\n",
      "8     314\n",
      "Name: ESTU_RAZONINSTITUTO, dtype: int64\n",
      "Elementos null/NaN 432752\n",
      "__________________\n",
      "Elementos diferentes de null/NaN: 4780\n",
      "__________________\n",
      "(4780,)\n",
      "None\n"
     ]
    }
   ],
   "source": [
    "c = 'ESTU_RAZONINSTITUTO'\n",
    "print(data_2008_2[c].value_counts().sort_index().index)\n",
    "print(data_2008_2[c].value_counts().sort_index())\n",
    "print(missing_data(data_2008_2[c]))"
   ]
  },
  {
   "cell_type": "code",
   "execution_count": 189,
   "metadata": {
    "collapsed": false,
    "scrolled": true
   },
   "outputs": [
    {
     "name": "stdout",
     "output_type": "stream",
     "text": [
      "Float64Index([    4.0,     5.0,    36.0,    63.0,    87.0,   102.0,   103.0,\n",
      "                108.0,   109.0,   122.0,\n",
      "              ...\n",
      "              22869.0, 22879.0, 22892.0, 22901.0, 22918.0, 22919.0, 22934.0,\n",
      "              22954.0, 22967.0, 23001.0],\n",
      "             dtype='float64', length=1327)\n",
      "4         1\n",
      "5        18\n",
      "36        1\n",
      "63        2\n",
      "87        2\n",
      "102       1\n",
      "103       1\n",
      "108       3\n",
      "109       1\n",
      "122       1\n",
      "125       1\n",
      "147       1\n",
      "225       1\n",
      "306       1\n",
      "314       1\n",
      "410       1\n",
      "460       1\n",
      "491       2\n",
      "522       1\n",
      "643       1\n",
      "656       1\n",
      "657       2\n",
      "703       1\n",
      "727       1\n",
      "728       1\n",
      "869       2\n",
      "1331      1\n",
      "1409      3\n",
      "1703      1\n",
      "1774      1\n",
      "         ..\n",
      "22497     3\n",
      "22515     1\n",
      "22537     2\n",
      "22546     1\n",
      "22567     2\n",
      "22610     1\n",
      "22658     1\n",
      "22680     1\n",
      "22682     1\n",
      "22683     1\n",
      "22696     2\n",
      "22698     3\n",
      "22705     2\n",
      "22707     1\n",
      "22715     1\n",
      "22739     2\n",
      "22755     1\n",
      "22764     1\n",
      "22776     1\n",
      "22852     1\n",
      "22869     1\n",
      "22879     9\n",
      "22892     4\n",
      "22901     1\n",
      "22918     1\n",
      "22919     1\n",
      "22934     2\n",
      "22954     1\n",
      "22967    14\n",
      "23001     1\n",
      "Name: ESTU_CARRDESEADA_COD, dtype: int64\n",
      "Elementos null/NaN 433146\n",
      "__________________\n",
      "Elementos diferentes de null/NaN: 4386\n",
      "__________________\n",
      "(4386,)\n",
      "None\n"
     ]
    }
   ],
   "source": [
    "c = 'ESTU_CARRDESEADA_COD'\n",
    "print(data_2008_2[c].value_counts().sort_index().index)\n",
    "print(data_2008_2[c].value_counts().sort_index())\n",
    "print(missing_data(data_2008_2[c]))"
   ]
  },
  {
   "cell_type": "code",
   "execution_count": 190,
   "metadata": {
    "collapsed": false
   },
   "outputs": [
    {
     "name": "stdout",
     "output_type": "stream",
     "text": [
      "Float64Index([1.0, 2.0, 3.0, 4.0, 5.0, 6.0, 7.0], dtype='float64')\n",
      "1    1265\n",
      "2    1679\n",
      "3     972\n",
      "4     334\n",
      "5     376\n",
      "6      95\n",
      "7      27\n",
      "Name: ESTU_CARRDESEADA_RAZON, dtype: int64\n",
      "Elementos null/NaN 432784\n",
      "__________________\n",
      "Elementos diferentes de null/NaN: 4748\n",
      "__________________\n",
      "(4748,)\n",
      "None\n"
     ]
    }
   ],
   "source": [
    "c = 'ESTU_CARRDESEADA_RAZON'\n",
    "print(data_2008_2[c].value_counts().sort_index().index)\n",
    "print(data_2008_2[c].value_counts().sort_index())\n",
    "print(missing_data(data_2008_2[c]))"
   ]
  },
  {
   "cell_type": "markdown",
   "metadata": {},
   "source": [
    "## TARGETS"
   ]
  },
  {
   "cell_type": "code",
   "execution_count": 191,
   "metadata": {
    "collapsed": false,
    "scrolled": true
   },
   "outputs": [
    {
     "name": "stdout",
     "output_type": "stream",
     "text": [
      "Index(['0', '18,33', '18,63', '26,14', '26,43', '31,01', '31,28', '34,68',\n",
      "       '34,94', '37,71', '37,95', '40,34', '40,57', '42,72', '42,93', '44,91',\n",
      "       '45,12', '46,97', '47,18', '48,95', '49,15', '50,87', '51,08', '52,77',\n",
      "       '52,97', '54,66', '54,87', '56,57', '56,79', '58,52', '58,76', '60,56',\n",
      "       '60,8', '62,71', '62,97', '65,04', '65,32', '67,62', '67,92', '70,59',\n",
      "       '70,92', '74,19', '74,56', '78,98', '79,38', '86,73', '87,16'],\n",
      "      dtype='object')\n",
      "0          142\n",
      "18,33      379\n",
      "18,63      385\n",
      "26,14     1857\n",
      "26,43     1773\n",
      "31,01     5160\n",
      "31,28     5295\n",
      "34,68    10841\n",
      "34,94    11214\n",
      "37,71    17860\n",
      "37,95    18536\n",
      "40,34    24293\n",
      "40,57    24947\n",
      "42,72    27989\n",
      "42,93    28793\n",
      "44,91    28154\n",
      "45,12    28646\n",
      "46,97    25812\n",
      "47,18    25913\n",
      "48,95    21810\n",
      "49,15    21752\n",
      "50,87    17310\n",
      "51,08    16634\n",
      "52,77    12874\n",
      "52,97    12585\n",
      "54,66     9356\n",
      "54,87     8768\n",
      "56,57     6292\n",
      "56,79     5832\n",
      "58,52     3974\n",
      "58,76     3588\n",
      "60,56     2322\n",
      "60,8      2162\n",
      "62,71     1288\n",
      "62,97     1082\n",
      "65,04      580\n",
      "65,32      582\n",
      "67,62      261\n",
      "67,92      241\n",
      "70,59      107\n",
      "70,92       89\n",
      "74,19       20\n",
      "74,56       20\n",
      "78,98        6\n",
      "79,38        5\n",
      "86,73        2\n",
      "87,16        1\n",
      "Name: PUNT_LENGUAJE, dtype: int64\n",
      "Elementos null/NaN 0\n",
      "__________________\n",
      "Elementos diferentes de null/NaN: 437532\n",
      "__________________\n",
      "(437532,)\n",
      "None\n"
     ]
    }
   ],
   "source": [
    "c = 'PUNT_LENGUAJE'\n",
    "print(data_2008_2[c].value_counts().sort_index().index)\n",
    "print(data_2008_2[c].value_counts().sort_index())\n",
    "print(missing_data(data_2008_2[c]))"
   ]
  },
  {
   "cell_type": "code",
   "execution_count": 192,
   "metadata": {
    "collapsed": true
   },
   "outputs": [],
   "source": [
    "clean_target(data_2008_2, c)"
   ]
  },
  {
   "cell_type": "code",
   "execution_count": 193,
   "metadata": {
    "collapsed": false,
    "scrolled": true
   },
   "outputs": [
    {
     "name": "stdout",
     "output_type": "stream",
     "text": [
      "Index(['0', '13,06', '13,16', '22,52', '22,6', '28,38', '28,43', '32,79',\n",
      "       '32,82', '36,42', '39,55', '39,56', '42,36', '42,39', '44,96', '45,01',\n",
      "       '47,41', '47,48', '49,77', '49,84', '52,06', '52,15', '54,33', '54,43',\n",
      "       '56,59', '56,71', '58,89', '59,02', '61,26', '61,4', '63,73', '63,87',\n",
      "       '66,35', '66,5', '69,18', '69,34', '72,34', '72,5', '75,98', '76,15',\n",
      "       '80,4', '80,57', '86,27', '86,45', '95,75', '95,93'],\n",
      "      dtype='object')\n",
      "0          151\n",
      "13,06      634\n",
      "13,16      416\n",
      "22,52     2524\n",
      "22,6      1867\n",
      "28,38     6879\n",
      "28,43     5381\n",
      "32,79    13890\n",
      "32,82    11510\n",
      "36,42    41426\n",
      "39,55    26752\n",
      "39,56    28170\n",
      "42,36    30463\n",
      "42,39    30969\n",
      "44,96    30224\n",
      "45,01    29728\n",
      "47,41    26839\n",
      "47,48    25451\n",
      "49,77    21257\n",
      "49,84    19633\n",
      "52,06    15563\n",
      "52,15    14024\n",
      "54,33    10603\n",
      "54,43     9298\n",
      "56,59     6873\n",
      "56,71     6114\n",
      "58,89     4375\n",
      "59,02     3714\n",
      "61,26     2669\n",
      "61,4      2409\n",
      "63,73     1619\n",
      "63,87     1560\n",
      "66,35     1018\n",
      "66,5       944\n",
      "69,18      633\n",
      "69,34      589\n",
      "72,34      387\n",
      "72,5       304\n",
      "75,98      200\n",
      "76,15      177\n",
      "80,4       113\n",
      "80,57       95\n",
      "86,27       41\n",
      "86,45       35\n",
      "95,75        7\n",
      "95,93        4\n",
      "Name: PUNT_MATEMATICAS, dtype: int64\n",
      "Elementos null/NaN 0\n",
      "__________________\n",
      "Elementos diferentes de null/NaN: 437532\n",
      "__________________\n",
      "(437532,)\n",
      "None\n"
     ]
    }
   ],
   "source": [
    "c = 'PUNT_MATEMATICAS'\n",
    "print(data_2008_2[c].value_counts().sort_index().index)\n",
    "print(data_2008_2[c].value_counts().sort_index())\n",
    "print(missing_data(data_2008_2[c]))"
   ]
  },
  {
   "cell_type": "code",
   "execution_count": 194,
   "metadata": {
    "collapsed": true
   },
   "outputs": [],
   "source": [
    "clean_target(data_2008_2, c)"
   ]
  },
  {
   "cell_type": "code",
   "execution_count": 195,
   "metadata": {
    "collapsed": false,
    "scrolled": true
   },
   "outputs": [
    {
     "name": "stdout",
     "output_type": "stream",
     "text": [
      "Index(['0', '16,84', '16,97', '22,63', '22,77', '27', '27,15', '30,59',\n",
      "       '30,76', '33,7', '33,88', '36,49', '36,68', '39,05', '39,24', '41,43',\n",
      "       '41,64', '43,7', '43,91', '45,87', '46,09', '47,97', '48,2', '50,02',\n",
      "       '50,26', '52,05', '52,28', '54,06', '54,29', '56,07', '56,29', '58,1',\n",
      "       '58,3', '60,17', '60,35', '62,29', '62,44', '64,48', '64,6', '66,78',\n",
      "       '66,85', '69,22', '69,23', '7,53', '7,65', '71,78', '71,85', '74,56',\n",
      "       '74,73', '77,68', '77,97', '81,29', '81,73'],\n",
      "      dtype='object')\n",
      "0           25\n",
      "16,84      204\n",
      "16,97      406\n",
      "22,63      661\n",
      "22,77     1369\n",
      "27        1972\n",
      "27,15     3834\n",
      "30,59     4346\n",
      "30,76     7795\n",
      "33,7      7889\n",
      "33,88    12712\n",
      "36,49    12023\n",
      "36,68    18411\n",
      "39,05    16573\n",
      "39,24    23216\n",
      "41,43    19639\n",
      "41,64    25950\n",
      "43,7     21627\n",
      "43,91    26579\n",
      "45,87    21655\n",
      "46,09    25424\n",
      "47,97    20521\n",
      "48,2     22912\n",
      "50,02    18808\n",
      "50,26    19259\n",
      "52,05    15561\n",
      "52,28    15617\n",
      "54,06    12411\n",
      "54,29    11655\n",
      "56,07     9154\n",
      "56,29     8514\n",
      "58,1      6690\n",
      "58,3      5772\n",
      "60,17     4392\n",
      "60,35     3694\n",
      "62,29     2582\n",
      "62,44     2221\n",
      "64,48     1509\n",
      "64,6      1215\n",
      "66,78      843\n",
      "66,85      624\n",
      "69,22      401\n",
      "69,23      291\n",
      "7,53        46\n",
      "7,65        58\n",
      "71,78      135\n",
      "71,85      171\n",
      "74,56       55\n",
      "74,73       60\n",
      "77,68       16\n",
      "77,97       27\n",
      "81,29        1\n",
      "81,73        7\n",
      "Name: PUNT_C_SOCIALES, dtype: int64\n",
      "Elementos null/NaN 0\n",
      "__________________\n",
      "Elementos diferentes de null/NaN: 437532\n",
      "__________________\n",
      "(437532,)\n",
      "None\n"
     ]
    }
   ],
   "source": [
    "c = 'PUNT_C_SOCIALES'\n",
    "print(data_2008_2[c].value_counts().sort_index().index)\n",
    "print(data_2008_2[c].value_counts().sort_index())\n",
    "print(missing_data(data_2008_2[c]))"
   ]
  },
  {
   "cell_type": "code",
   "execution_count": 196,
   "metadata": {
    "collapsed": true
   },
   "outputs": [],
   "source": [
    "clean_target(data_2008_2, c)"
   ]
  },
  {
   "cell_type": "code",
   "execution_count": 197,
   "metadata": {
    "collapsed": false,
    "scrolled": true
   },
   "outputs": [
    {
     "name": "stdout",
     "output_type": "stream",
     "text": [
      "Index(['0', '10,53', '10,87', '19,66', '20,02', '25,39', '25,75', '29,73',\n",
      "       '30,1', '33,32', '33,69', '36,44', '36,82', '39,26', '39,64', '41,86',\n",
      "       '42,25', '44,33', '44,72', '46,69', '47,08', '48,98', '49,38', '51,25',\n",
      "       '51,65', '53,52', '53,92', '55,82', '56,21', '58,18', '58,57', '60,63',\n",
      "       '61,02', '63,23', '63,62', '66,04', '66,43', '69,15', '69,53', '72,72'],\n",
      "      dtype='object')\n",
      "0           96\n",
      "10,53      208\n",
      "10,87      429\n",
      "19,66     1100\n",
      "20,02     1868\n",
      "25,39     3566\n",
      "25,75     5698\n",
      "29,73     8464\n",
      "30,1     12477\n",
      "33,32    15549\n",
      "33,69    21610\n",
      "36,44    23426\n",
      "36,82    30752\n",
      "39,26    29521\n",
      "39,64    35902\n",
      "41,86    31663\n",
      "42,25    36763\n",
      "44,33    28938\n",
      "44,72    32292\n",
      "46,69    22763\n",
      "47,08    24745\n",
      "48,98    16112\n",
      "49,38    16741\n",
      "51,25     9705\n",
      "51,65     9891\n",
      "53,52     5069\n",
      "53,92     5064\n",
      "55,82     2284\n",
      "56,21     2227\n",
      "58,18      944\n",
      "58,57      863\n",
      "60,63      302\n",
      "61,02      271\n",
      "63,23       97\n",
      "63,62       76\n",
      "66,04       22\n",
      "66,43       23\n",
      "69,15        5\n",
      "69,53        4\n",
      "72,72        2\n",
      "Name: PUNT_FILOSOFIA, dtype: int64\n",
      "Elementos null/NaN 0\n",
      "__________________\n",
      "Elementos diferentes de null/NaN: 437532\n",
      "__________________\n",
      "(437532,)\n",
      "None\n"
     ]
    }
   ],
   "source": [
    "c = 'PUNT_FILOSOFIA'\n",
    "print(data_2008_2[c].value_counts().sort_index().index)\n",
    "print(data_2008_2[c].value_counts().sort_index())\n",
    "print(missing_data(data_2008_2[c]))"
   ]
  },
  {
   "cell_type": "code",
   "execution_count": 198,
   "metadata": {
    "collapsed": true
   },
   "outputs": [],
   "source": [
    "clean_target(data_2008_2, c)"
   ]
  },
  {
   "cell_type": "code",
   "execution_count": 199,
   "metadata": {
    "collapsed": false,
    "scrolled": true
   },
   "outputs": [
    {
     "name": "stdout",
     "output_type": "stream",
     "text": [
      "Index(['0', '16,56', '16,64', '24,14', '24,21', '28,87', '28,92', '32,43',\n",
      "       '32,48', '35,37', '35,42', '37,93', '37,97', '40,23', '40,27', '42,37',\n",
      "       '42,4', '44,38', '44,41', '46,32', '46,34', '48,2', '48,23', '50,07',\n",
      "       '50,09', '51,94', '51,96', '53,84', '53,85', '55,79', '55,8', '57,84',\n",
      "       '60', '60,01', '62,35', '62,36', '64,97', '64,99', '67,99', '68,01',\n",
      "       '71,66', '71,69', '76,52', '76,56', '84,29', '84,33', '96,94', '96,98'],\n",
      "      dtype='object')\n",
      "0           72\n",
      "16,56      104\n",
      "16,64      141\n",
      "24,14      670\n",
      "24,21      568\n",
      "28,87     2073\n",
      "28,92     2047\n",
      "32,43     5326\n",
      "32,48     5246\n",
      "35,37    10250\n",
      "35,42    10334\n",
      "37,93    16807\n",
      "37,97    16936\n",
      "40,23    22625\n",
      "40,27    22851\n",
      "42,37    26605\n",
      "42,4     26779\n",
      "44,38    27393\n",
      "44,41    27938\n",
      "46,32    26011\n",
      "46,34    25857\n",
      "48,2     22339\n",
      "48,23    22069\n",
      "50,07    17762\n",
      "50,09    17584\n",
      "51,94    13522\n",
      "51,96    13333\n",
      "53,84     9897\n",
      "53,85     9433\n",
      "55,79     6631\n",
      "55,8      6694\n",
      "57,84     8897\n",
      "60        2863\n",
      "60,01     2902\n",
      "62,35     1691\n",
      "62,36     1644\n",
      "64,97      980\n",
      "64,99      963\n",
      "67,99      516\n",
      "68,01      525\n",
      "71,66      223\n",
      "71,69      220\n",
      "76,52       81\n",
      "76,56       84\n",
      "84,29       16\n",
      "84,33       25\n",
      "96,94        2\n",
      "96,98        3\n",
      "Name: PUNT_BIOLOGIA, dtype: int64\n",
      "Elementos null/NaN 0\n",
      "__________________\n",
      "Elementos diferentes de null/NaN: 437532\n",
      "__________________\n",
      "(437532,)\n",
      "None\n"
     ]
    }
   ],
   "source": [
    "c = 'PUNT_BIOLOGIA'\n",
    "print(data_2008_2[c].value_counts().sort_index().index)\n",
    "print(data_2008_2[c].value_counts().sort_index())\n",
    "print(missing_data(data_2008_2[c]))"
   ]
  },
  {
   "cell_type": "code",
   "execution_count": 200,
   "metadata": {
    "collapsed": true
   },
   "outputs": [],
   "source": [
    "clean_target(data_2008_2, c)"
   ]
  },
  {
   "cell_type": "code",
   "execution_count": 201,
   "metadata": {
    "collapsed": false,
    "scrolled": true
   },
   "outputs": [
    {
     "name": "stdout",
     "output_type": "stream",
     "text": [
      "Index(['0', '19,2', '20', '26,06', '26,9', '30,34', '31,22', '33,56', '34,48',\n",
      "       '36,21', '37,18', '38,52', '39,51', '40,58', '41,62', '42,49', '43,56',\n",
      "       '44,28', '45,38', '46', '47,13', '47,67', '48,83', '49,3', '50,5',\n",
      "       '50,94', '52,16', '52,59', '53,84', '54,29', '55,57', '56,05', '57,36',\n",
      "       '57,92', '59,25', '59,94', '61,3', '62,19', '63,57', '64,78', '66,18',\n",
      "       '67,93', '69,35', '72,11', '73,56', '78,87', '80,33', '90,06', '91,53'],\n",
      "      dtype='object')\n",
      "0          455\n",
      "19,2       304\n",
      "20         701\n",
      "26,06     1240\n",
      "26,9      2255\n",
      "30,34     3303\n",
      "31,22     5812\n",
      "33,56     6967\n",
      "34,48    10831\n",
      "36,21    11942\n",
      "37,18    16494\n",
      "38,52    17316\n",
      "39,51    21109\n",
      "40,58    22097\n",
      "41,62    24483\n",
      "42,49    25030\n",
      "43,56    25360\n",
      "44,28    25520\n",
      "45,38    24291\n",
      "46       23727\n",
      "47,13    21211\n",
      "47,67    20743\n",
      "48,83    17783\n",
      "49,3     17084\n",
      "50,5     14535\n",
      "50,94    13385\n",
      "52,16    10869\n",
      "52,59    10058\n",
      "53,84     7828\n",
      "54,29     7195\n",
      "55,57     5614\n",
      "56,05     4847\n",
      "57,36     3680\n",
      "57,92     3252\n",
      "59,25     2476\n",
      "59,94     2077\n",
      "61,3      1537\n",
      "62,19     1133\n",
      "63,57      898\n",
      "64,78      674\n",
      "66,18      512\n",
      "67,93      314\n",
      "69,35      242\n",
      "72,11      136\n",
      "73,56      107\n",
      "78,87       58\n",
      "80,33       30\n",
      "90,06        8\n",
      "91,53        9\n",
      "Name: PUNT_QUIMICA, dtype: int64\n",
      "Elementos null/NaN 0\n",
      "__________________\n",
      "Elementos diferentes de null/NaN: 437532\n",
      "__________________\n",
      "(437532,)\n",
      "None\n"
     ]
    }
   ],
   "source": [
    "c = 'PUNT_QUIMICA'\n",
    "print(data_2008_2[c].value_counts().sort_index().index)\n",
    "print(data_2008_2[c].value_counts().sort_index())\n",
    "print(missing_data(data_2008_2[c]))"
   ]
  },
  {
   "cell_type": "code",
   "execution_count": 202,
   "metadata": {
    "collapsed": true
   },
   "outputs": [],
   "source": [
    "clean_target(data_2008_2, c)"
   ]
  },
  {
   "cell_type": "code",
   "execution_count": 203,
   "metadata": {
    "collapsed": false,
    "scrolled": true
   },
   "outputs": [
    {
     "name": "stdout",
     "output_type": "stream",
     "text": [
      "Index(['0', '14,67', '15,39', '24,37', '25,11', '30,4', '31,16', '34,94',\n",
      "       '35,72', '38,68', '39,48', '41,92', '42,75', '44,84', '45,69', '47,54',\n",
      "       '48,41', '50,09', '50,98', '52,53', '53,45', '54,91', '55,85', '57,26',\n",
      "       '58,23', '59,61', '60,61', '61,99', '63,02', '64,43', '65,49', '66,98',\n",
      "       '68,07', '69,68', '70,81', '72,61', '73,76', '75,87', '77,05', '79,62',\n",
      "       '80,82'],\n",
      "      dtype='object')\n",
      "0         1456\n",
      "14,67      759\n",
      "15,39     1096\n",
      "24,37     3203\n",
      "25,11     4226\n",
      "30,4      8850\n",
      "31,16    11193\n",
      "34,94    18500\n",
      "35,72    21505\n",
      "38,68    29310\n",
      "39,48    31843\n",
      "41,92    36931\n",
      "42,75    37871\n",
      "44,84    37622\n",
      "45,69    36873\n",
      "47,54    32169\n",
      "48,41    29629\n",
      "50,09    22899\n",
      "50,98    20569\n",
      "52,53    14280\n",
      "53,45    11957\n",
      "54,91     7470\n",
      "55,85     6391\n",
      "57,26     3584\n",
      "58,23     3000\n",
      "59,61     1417\n",
      "60,61     1249\n",
      "61,99      567\n",
      "63,02      481\n",
      "64,43      193\n",
      "65,49      186\n",
      "66,98       84\n",
      "68,07       71\n",
      "69,68       36\n",
      "70,81       33\n",
      "72,61        6\n",
      "73,76        8\n",
      "75,87        3\n",
      "77,05        6\n",
      "79,62        3\n",
      "80,82        3\n",
      "Name: PUNT_FISICA, dtype: int64\n",
      "Elementos null/NaN 0\n",
      "__________________\n",
      "Elementos diferentes de null/NaN: 437532\n",
      "__________________\n",
      "(437532,)\n",
      "None\n"
     ]
    }
   ],
   "source": [
    "c = 'PUNT_FISICA'\n",
    "print(data_2008_2[c].value_counts().sort_index().index)\n",
    "print(data_2008_2[c].value_counts().sort_index())\n",
    "print(missing_data(data_2008_2[c]))"
   ]
  },
  {
   "cell_type": "code",
   "execution_count": 204,
   "metadata": {
    "collapsed": true
   },
   "outputs": [],
   "source": [
    "clean_target(data_2008_2, c)"
   ]
  },
  {
   "cell_type": "code",
   "execution_count": 205,
   "metadata": {
    "collapsed": false,
    "scrolled": true
   },
   "outputs": [
    {
     "name": "stdout",
     "output_type": "stream",
     "text": [
      "Index(['0', '100,34', '111,94', '13,96', '17,91', '21,08', '23,77', '26,13',\n",
      "       '28,24', '30,17', '31,96', '33,63', '35,21', '36,71', '37,51', '38,31',\n",
      "       '39,11', '40,89', '42,2', '43,48', '44,74', '45,98', '47,21', '48,43',\n",
      "       '49,65', '5', '52,09', '53,32', '54,57', '55,84', '57,13', '58,45',\n",
      "       '59,81', '65,86', '67,6', '69,48', '71,53', '73,83', '76,45', '79,55',\n",
      "       '8,61', '80,55', '81,05', '83,41', '88,67', '97,34'],\n",
      "      dtype='object')\n",
      "0           279\n",
      "100,34      444\n",
      "111,94      133\n",
      "13,96        62\n",
      "17,91       243\n",
      "21,08       741\n",
      "23,77      1921\n",
      "26,13      4312\n",
      "28,24      8752\n",
      "30,17     14676\n",
      "31,96     22002\n",
      "33,63     29789\n",
      "35,21     35943\n",
      "36,71     39547\n",
      "37,51     40190\n",
      "38,31     37899\n",
      "39,11     33597\n",
      "40,89     28305\n",
      "42,2      23364\n",
      "43,48     18287\n",
      "44,74     14716\n",
      "45,98     11779\n",
      "47,21      9483\n",
      "48,43      7914\n",
      "49,65      6758\n",
      "5             9\n",
      "52,09      5771\n",
      "53,32      5101\n",
      "54,57      4375\n",
      "55,84      3927\n",
      "57,13      3479\n",
      "58,45      3078\n",
      "59,81      2697\n",
      "65,86      2506\n",
      "67,6       2257\n",
      "69,48      1976\n",
      "71,53      1752\n",
      "73,83      1688\n",
      "76,45      1535\n",
      "79,55      1319\n",
      "8,61         19\n",
      "80,55      1251\n",
      "81,05      1170\n",
      "83,41       978\n",
      "88,67       824\n",
      "97,34       684\n",
      "Name: PUNT_INGLES, dtype: int64\n",
      "Elementos null/NaN 0\n",
      "__________________\n",
      "Elementos diferentes de null/NaN: 437532\n",
      "__________________\n",
      "(437532,)\n",
      "None\n"
     ]
    }
   ],
   "source": [
    "c = 'PUNT_INGLES'\n",
    "print(data_2008_2[c].value_counts().sort_index().index)\n",
    "print(data_2008_2[c].value_counts().sort_index())\n",
    "print(missing_data(data_2008_2[c]))"
   ]
  },
  {
   "cell_type": "code",
   "execution_count": 206,
   "metadata": {
    "collapsed": true
   },
   "outputs": [],
   "source": [
    "clean_target(data_2008_2, c)"
   ]
  },
  {
   "cell_type": "code",
   "execution_count": 207,
   "metadata": {
    "collapsed": false
   },
   "outputs": [
    {
     "name": "stdout",
     "output_type": "stream",
     "text": [
      "Index(['A-', 'A1', 'A1 ', 'A2', 'A2 ', 'B+', 'B1'], dtype='object')\n",
      "A-     269981\n",
      "A1     120605\n",
      "A1          1\n",
      "A2      28427\n",
      "A2          1\n",
      "B+       3063\n",
      "B1      15454\n",
      "Name: DESEMP_INGLES, dtype: int64\n",
      "Elementos null/NaN 0\n",
      "__________________\n",
      "Elementos diferentes de null/NaN: 437532\n",
      "__________________\n",
      "(437532,)\n",
      "None\n"
     ]
    }
   ],
   "source": [
    "c = 'DESEMP_INGLES'\n",
    "print(data_2008_2[c].value_counts().sort_index().index)\n",
    "print(data_2008_2[c].value_counts().sort_index())\n",
    "print(missing_data(data_2008_2[c]))"
   ]
  },
  {
   "cell_type": "code",
   "execution_count": 208,
   "metadata": {
    "collapsed": false
   },
   "outputs": [
    {
     "name": "stdout",
     "output_type": "stream",
     "text": [
      "Index(['PROFUNDIZACIÓN EN BIOLOGÍA', 'PROFUNDIZACIÓN EN CIENCIAS SOCIALES',\n",
      "       'PROFUNDIZACIÓN EN LENGUAJE', 'PROFUNDIZACIÓN EN MATEMÁTICA'],\n",
      "      dtype='object')\n",
      "PROFUNDIZACIÓN EN BIOLOGÍA             125948\n",
      "PROFUNDIZACIÓN EN CIENCIAS SOCIALES     90303\n",
      "PROFUNDIZACIÓN EN LENGUAJE             157385\n",
      "PROFUNDIZACIÓN EN MATEMÁTICA            63896\n",
      "Name: NOMBRE_PROFUNDIZACION, dtype: int64\n",
      "Elementos null/NaN 0\n",
      "__________________\n",
      "Elementos diferentes de null/NaN: 437532\n",
      "__________________\n",
      "(437532,)\n",
      "None\n"
     ]
    }
   ],
   "source": [
    "c = 'NOMBRE_PROFUNDIZACION'\n",
    "print(data_2008_2[c].value_counts().sort_index().index)\n",
    "print(data_2008_2[c].value_counts().sort_index())\n",
    "print(missing_data(data_2008_2[c]))"
   ]
  },
  {
   "cell_type": "code",
   "execution_count": 209,
   "metadata": {
    "collapsed": false,
    "scrolled": true
   },
   "outputs": [
    {
     "name": "stdout",
     "output_type": "stream",
     "text": [
      "Index(['0', '0,9', '10', '2,1', '2,3', '2,4', '2,9', '3,1', '3,2', '3,5',\n",
      "       '3,7', '3,8', '4', '4,1', '4,2', '4,4', '4,5', '4,6', '4,7', '4,8', '5',\n",
      "       '5,2', '5,3', '5,4', '5,5', '5,6', '5,8', '5,9', '6', '6,2', '6,3',\n",
      "       '6,4', '6,5', '6,6', '6,7', '6,8', '6,9', '7', '7,1', '7,5', '7,7', '8',\n",
      "       '8,5', '8,6'],\n",
      "      dtype='object')\n",
      "0       1753\n",
      "0,9      754\n",
      "10       255\n",
      "2,1     2131\n",
      "2,3      529\n",
      "2,4     2947\n",
      "2,9     4114\n",
      "3,1     1956\n",
      "3,2     9431\n",
      "3,5    10748\n",
      "3,7     4217\n",
      "3,8    18405\n",
      "4       8642\n",
      "4,1     6805\n",
      "4,2    38021\n",
      "4,4    10607\n",
      "4,5     8875\n",
      "4,6    26953\n",
      "4,7    22244\n",
      "4,8    22042\n",
      "5      51194\n",
      "5,2    22101\n",
      "5,3    18305\n",
      "5,4    25210\n",
      "5,5     7793\n",
      "5,6    42788\n",
      "5,8     5624\n",
      "5,9    18296\n",
      "6       9491\n",
      "6,2     7995\n",
      "6,3     5342\n",
      "6,4     6155\n",
      "6,5     1517\n",
      "6,6     2343\n",
      "6,7     2677\n",
      "6,8      532\n",
      "6,9     3132\n",
      "7       1339\n",
      "7,1     1112\n",
      "7,5     1181\n",
      "7,7     1141\n",
      "8          4\n",
      "8,5      294\n",
      "8,6      537\n",
      "Name: PUNT_PROFUNDIZACION, dtype: int64\n",
      "Elementos null/NaN 0\n",
      "__________________\n",
      "Elementos diferentes de null/NaN: 437532\n",
      "__________________\n",
      "(437532,)\n",
      "None\n"
     ]
    }
   ],
   "source": [
    "c = 'PUNT_PROFUNDIZACION'\n",
    "print(data_2008_2[c].value_counts().sort_index().index)\n",
    "print(data_2008_2[c].value_counts().sort_index())\n",
    "print(missing_data(data_2008_2[c]))"
   ]
  },
  {
   "cell_type": "code",
   "execution_count": 210,
   "metadata": {
    "collapsed": true
   },
   "outputs": [],
   "source": [
    "clean_target(data_2008_2, c)"
   ]
  },
  {
   "cell_type": "code",
   "execution_count": 211,
   "metadata": {
    "collapsed": false
   },
   "outputs": [
    {
     "name": "stdout",
     "output_type": "stream",
     "text": [
      "Index(['GB', 'I', 'I  ', 'II', 'II ', 'III'], dtype='object')\n",
      "GB     218997\n",
      "I      168354\n",
      "I           1\n",
      "II      43784\n",
      "II          1\n",
      "III      6395\n",
      "Name: DESEMP_PROFUNDIZACION, dtype: int64\n",
      "Elementos null/NaN 0\n",
      "__________________\n",
      "Elementos diferentes de null/NaN: 437532\n",
      "__________________\n",
      "(437532,)\n",
      "None\n"
     ]
    }
   ],
   "source": [
    "c = 'DESEMP_PROFUNDIZACION'\n",
    "print(data_2008_2[c].value_counts().sort_index().index)\n",
    "print(data_2008_2[c].value_counts().sort_index())\n",
    "print(missing_data(data_2008_2[c]))"
   ]
  },
  {
   "cell_type": "code",
   "execution_count": 212,
   "metadata": {
    "collapsed": true
   },
   "outputs": [],
   "source": [
    "data_2008_2[c] = data_2008_2[c].replace('I  ', 'I')\n",
    "data_2008_2[c] = data_2008_2[c].replace('II ', 'II')"
   ]
  },
  {
   "cell_type": "code",
   "execution_count": 213,
   "metadata": {
    "collapsed": false
   },
   "outputs": [
    {
     "name": "stdout",
     "output_type": "stream",
     "text": [
      "Index(['MEDIO AMBIENTE', 'VIOLENCIA Y SOCIEDAD'], dtype='object')\n",
      "MEDIO AMBIENTE          237753\n",
      "VIOLENCIA Y SOCIEDAD    199779\n",
      "Name: NOMBRE_INTERDISCIPLINAR, dtype: int64\n",
      "Elementos null/NaN 0\n",
      "__________________\n",
      "Elementos diferentes de null/NaN: 437532\n",
      "__________________\n",
      "(437532,)\n",
      "None\n"
     ]
    }
   ],
   "source": [
    "c = 'NOMBRE_INTERDISCIPLINAR'\n",
    "print(data_2008_2[c].value_counts().sort_index().index)\n",
    "print(data_2008_2[c].value_counts().sort_index())\n",
    "print(missing_data(data_2008_2[c]))"
   ]
  },
  {
   "cell_type": "code",
   "execution_count": 214,
   "metadata": {
    "collapsed": false,
    "scrolled": true
   },
   "outputs": [
    {
     "name": "stdout",
     "output_type": "stream",
     "text": [
      "Index(['0', '15,94', '25,32', '31,34', '36,02', '40', '43,59', '43,97', '46,7',\n",
      "       '46,98', '48,46', '49,84', '50,3', '51,02', '52,11', '53,13', '53,66',\n",
      "       '54,15', '55,18', '56,27', '57,2', '57,47', '58,87', '60,66', '61,08',\n",
      "       '63,4', '65,62', '67,74', '71,45', '80,55', '95,26'],\n",
      "      dtype='object')\n",
      "0         2137\n",
      "15,94     3428\n",
      "25,32     9887\n",
      "31,34    18190\n",
      "36,02    26070\n",
      "40       29728\n",
      "43,59    29059\n",
      "43,97     6022\n",
      "46,7     17080\n",
      "46,98    25488\n",
      "48,46    30559\n",
      "49,84    40657\n",
      "50,3     20534\n",
      "51,02    42614\n",
      "52,11    36648\n",
      "53,13    27037\n",
      "53,66    15326\n",
      "54,15    17378\n",
      "55,18     9767\n",
      "56,27     5253\n",
      "57,2     10502\n",
      "57,47     2251\n",
      "58,87      834\n",
      "60,66      253\n",
      "61,08     6233\n",
      "63,4        59\n",
      "65,62     3085\n",
      "67,74        6\n",
      "71,45     1130\n",
      "80,55      279\n",
      "95,26       38\n",
      "Name: PUNT_INTERDISCIPLINAR, dtype: int64\n",
      "Elementos null/NaN 0\n",
      "__________________\n",
      "Elementos diferentes de null/NaN: 437532\n",
      "__________________\n",
      "(437532,)\n",
      "None\n"
     ]
    }
   ],
   "source": [
    "c = 'PUNT_INTERDISCIPLINAR'\n",
    "print(data_2008_2[c].value_counts().sort_index().index)\n",
    "print(data_2008_2[c].value_counts().sort_index())\n",
    "print(missing_data(data_2008_2[c]))"
   ]
  },
  {
   "cell_type": "code",
   "execution_count": 215,
   "metadata": {
    "collapsed": true
   },
   "outputs": [],
   "source": [
    "clean_target(data_2008_2, c)"
   ]
  },
  {
   "cell_type": "code",
   "execution_count": 216,
   "metadata": {
    "collapsed": false,
    "scrolled": true
   },
   "outputs": [
    {
     "name": "stdout",
     "output_type": "stream",
     "text": [
      "Int64Index([  1,   2,   3,   4,   5,   6,   7,   8,   9,  10,\n",
      "            ...\n",
      "            954, 955, 956, 957, 958, 959, 960, 961, 962, 963],\n",
      "           dtype='int64', length=963)\n",
      "1      402\n",
      "2      392\n",
      "3      368\n",
      "4      388\n",
      "5      376\n",
      "6      380\n",
      "7      375\n",
      "8      379\n",
      "9      380\n",
      "10     372\n",
      "11     369\n",
      "12     399\n",
      "13     387\n",
      "14     395\n",
      "15     387\n",
      "16     404\n",
      "17     410\n",
      "18     390\n",
      "19     386\n",
      "20     399\n",
      "21     372\n",
      "22     400\n",
      "23     389\n",
      "24     403\n",
      "25     393\n",
      "26     406\n",
      "27     405\n",
      "28     413\n",
      "29     384\n",
      "30     401\n",
      "      ... \n",
      "934    451\n",
      "935    442\n",
      "936    441\n",
      "937    444\n",
      "938    446\n",
      "939    438\n",
      "940    454\n",
      "941    434\n",
      "942    439\n",
      "943    445\n",
      "944    439\n",
      "945    446\n",
      "946    448\n",
      "947    447\n",
      "948    440\n",
      "949    443\n",
      "950    451\n",
      "951    437\n",
      "952    440\n",
      "953    421\n",
      "954    429\n",
      "955    438\n",
      "956    428\n",
      "957    434\n",
      "958    419\n",
      "959    426\n",
      "960    396\n",
      "961    285\n",
      "962    115\n",
      "963     13\n",
      "Name: ESTU_PUESTO, dtype: int64\n",
      "Elementos null/NaN 0\n",
      "__________________\n",
      "Elementos diferentes de null/NaN: 437532\n",
      "__________________\n",
      "(437532,)\n",
      "None\n"
     ]
    }
   ],
   "source": [
    "c = 'ESTU_PUESTO'\n",
    "print(data_2008_2[c].value_counts().sort_index().index)\n",
    "print(data_2008_2[c].value_counts().sort_index())\n",
    "print(missing_data(data_2008_2[c]))"
   ]
  },
  {
   "cell_type": "markdown",
   "metadata": {},
   "source": [
    "Now i can transform the Obtained dataframes in csv files"
   ]
  },
  {
   "cell_type": "code",
   "execution_count": 219,
   "metadata": {
    "collapsed": false
   },
   "outputs": [],
   "source": [
    "data_2008.to_csv('../DatosFTPICFES/SABER11/SB11-BASES_DE_DATOS/READY/2008_1.csv', sep=';', index=False)\n",
    "data_2008_2.to_csv('../DatosFTPICFES/SABER11/SB11-BASES_DE_DATOS/READY/2008_2.csv', sep=';', index=False)"
   ]
  }
 ],
 "metadata": {
  "kernelspec": {
   "display_name": "Python 3",
   "language": "python",
   "name": "python3"
  },
  "language_info": {
   "codemirror_mode": {
    "name": "ipython",
    "version": 3
   },
   "file_extension": ".py",
   "mimetype": "text/x-python",
   "name": "python",
   "nbconvert_exporter": "python",
   "pygments_lexer": "ipython3",
   "version": "3.4.2"
  }
 },
 "nbformat": 4,
 "nbformat_minor": 0
}
