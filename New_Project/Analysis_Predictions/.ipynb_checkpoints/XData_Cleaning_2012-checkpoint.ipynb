{
 "cells": [
  {
   "cell_type": "code",
   "execution_count": 1,
   "metadata": {
    "collapsed": true
   },
   "outputs": [],
   "source": [
    "import pandas as pd\n",
    "import numpy as np\n",
    "%run -i ../tools/functions.py\n",
    "%run -i ../tools/label_encoder.py"
   ]
  },
  {
   "cell_type": "code",
   "execution_count": 2,
   "metadata": {
    "collapsed": false
   },
   "outputs": [
    {
     "name": "stderr",
     "output_type": "stream",
     "text": [
      "/usr/local/lib/python3.4/dist-packages/IPython/core/interactiveshell.py:2902: DtypeWarning: Columns (10,11,14,15) have mixed types. Specify dtype option on import or set low_memory=False.\n",
      "  interactivity=interactivity, compiler=compiler, result=result)\n"
     ]
    }
   ],
   "source": [
    "data_2012 = pd.read_csv('../DatosFTPICFES/SABER11/SB11-BASES_DE_DATOS/SB11-20121-RGSTRO-CLFCCN-V1-0.txt', delimiter='|')"
   ]
  },
  {
   "cell_type": "code",
   "execution_count": 3,
   "metadata": {
    "collapsed": false
   },
   "outputs": [
    {
     "data": {
      "text/plain": [
       "(95946, 114)"
      ]
     },
     "execution_count": 3,
     "metadata": {},
     "output_type": "execute_result"
    }
   ],
   "source": [
    "data_2012.shape"
   ]
  },
  {
   "cell_type": "code",
   "execution_count": 4,
   "metadata": {
    "collapsed": false,
    "scrolled": true
   },
   "outputs": [
    {
     "data": {
      "text/html": [
       "<div>\n",
       "<table border=\"1\" class=\"dataframe\">\n",
       "  <thead>\n",
       "    <tr style=\"text-align: right;\">\n",
       "      <th></th>\n",
       "      <th>0</th>\n",
       "      <th>1</th>\n",
       "      <th>2</th>\n",
       "    </tr>\n",
       "  </thead>\n",
       "  <tbody>\n",
       "    <tr>\n",
       "      <th>ESTU_CONSECUTIVO</th>\n",
       "      <td>SABER1120121000001</td>\n",
       "      <td>SABER1120121000002</td>\n",
       "      <td>SABER1120121000003</td>\n",
       "    </tr>\n",
       "    <tr>\n",
       "      <th>PERIODO</th>\n",
       "      <td>20121</td>\n",
       "      <td>20121</td>\n",
       "      <td>20121</td>\n",
       "    </tr>\n",
       "    <tr>\n",
       "      <th>ESTU_TIPO_DOCUMENTO</th>\n",
       "      <td>C</td>\n",
       "      <td>C</td>\n",
       "      <td>R</td>\n",
       "    </tr>\n",
       "    <tr>\n",
       "      <th>ESTU_PAIS_RESIDE</th>\n",
       "      <td>CO</td>\n",
       "      <td>CO</td>\n",
       "      <td>CO</td>\n",
       "    </tr>\n",
       "    <tr>\n",
       "      <th>ESTU_GENERO</th>\n",
       "      <td>M</td>\n",
       "      <td>M</td>\n",
       "      <td>F</td>\n",
       "    </tr>\n",
       "    <tr>\n",
       "      <th>ESTU_NACIMIENTO_DIA</th>\n",
       "      <td>25</td>\n",
       "      <td>5</td>\n",
       "      <td>3</td>\n",
       "    </tr>\n",
       "    <tr>\n",
       "      <th>ESTU_NACIMIENTO_MES</th>\n",
       "      <td>8</td>\n",
       "      <td>7</td>\n",
       "      <td>1</td>\n",
       "    </tr>\n",
       "    <tr>\n",
       "      <th>ESTU_NACIMIENTO_ANNO</th>\n",
       "      <td>1992</td>\n",
       "      <td>1970</td>\n",
       "      <td>1994</td>\n",
       "    </tr>\n",
       "    <tr>\n",
       "      <th>ESTU_EDAD</th>\n",
       "      <td>19</td>\n",
       "      <td>41</td>\n",
       "      <td>18</td>\n",
       "    </tr>\n",
       "    <tr>\n",
       "      <th>ESTU_LIMITA_BAJAVISION</th>\n",
       "      <td>NaN</td>\n",
       "      <td>NaN</td>\n",
       "      <td>NaN</td>\n",
       "    </tr>\n",
       "    <tr>\n",
       "      <th>ESTU_LIMITA_SORDOCEGUERA</th>\n",
       "      <td>NaN</td>\n",
       "      <td>NaN</td>\n",
       "      <td>NaN</td>\n",
       "    </tr>\n",
       "    <tr>\n",
       "      <th>ESTU_LIMITA_COGNITIVA</th>\n",
       "      <td>NaN</td>\n",
       "      <td>NaN</td>\n",
       "      <td>NaN</td>\n",
       "    </tr>\n",
       "    <tr>\n",
       "      <th>ESTU_LIMITA_INVIDENTE</th>\n",
       "      <td>NaN</td>\n",
       "      <td>NaN</td>\n",
       "      <td>NaN</td>\n",
       "    </tr>\n",
       "    <tr>\n",
       "      <th>ESTU_LIMITA_MOTRIZ</th>\n",
       "      <td>NaN</td>\n",
       "      <td>NaN</td>\n",
       "      <td>NaN</td>\n",
       "    </tr>\n",
       "    <tr>\n",
       "      <th>ESTU_LIMITA_SORDOINTERPRETE</th>\n",
       "      <td>NaN</td>\n",
       "      <td>NaN</td>\n",
       "      <td>NaN</td>\n",
       "    </tr>\n",
       "    <tr>\n",
       "      <th>ESTU_LIMITA_SORDONOINTERPRETE</th>\n",
       "      <td>NaN</td>\n",
       "      <td>NaN</td>\n",
       "      <td>NaN</td>\n",
       "    </tr>\n",
       "    <tr>\n",
       "      <th>ESTU_ETNIA</th>\n",
       "      <td>NaN</td>\n",
       "      <td>NaN</td>\n",
       "      <td>1</td>\n",
       "    </tr>\n",
       "    <tr>\n",
       "      <th>ESTU_COD_RESIDE_MCPIO</th>\n",
       "      <td>5837</td>\n",
       "      <td>5837</td>\n",
       "      <td>5837</td>\n",
       "    </tr>\n",
       "    <tr>\n",
       "      <th>ESTU_RESIDE_MCPIO</th>\n",
       "      <td>TURBO</td>\n",
       "      <td>TURBO</td>\n",
       "      <td>TURBO</td>\n",
       "    </tr>\n",
       "    <tr>\n",
       "      <th>ESTU_RESIDE_DEPTO</th>\n",
       "      <td>ANTIOQUIA</td>\n",
       "      <td>ANTIOQUIA</td>\n",
       "      <td>ANTIOQUIA</td>\n",
       "    </tr>\n",
       "    <tr>\n",
       "      <th>ESTU_ZONA_RESIDE</th>\n",
       "      <td>10</td>\n",
       "      <td>10</td>\n",
       "      <td>10</td>\n",
       "    </tr>\n",
       "    <tr>\n",
       "      <th>ESTU_AREA_RESIDE</th>\n",
       "      <td>1</td>\n",
       "      <td>1</td>\n",
       "      <td>1</td>\n",
       "    </tr>\n",
       "    <tr>\n",
       "      <th>IND_COD_ICFES_TERMINO</th>\n",
       "      <td>128306</td>\n",
       "      <td>128306</td>\n",
       "      <td>128306</td>\n",
       "    </tr>\n",
       "    <tr>\n",
       "      <th>COLE_COD_ICFES</th>\n",
       "      <td>128306</td>\n",
       "      <td>128306</td>\n",
       "      <td>128306</td>\n",
       "    </tr>\n",
       "    <tr>\n",
       "      <th>COLE_COD_DANE_INSTITUCION</th>\n",
       "      <td>2.05837e+11</td>\n",
       "      <td>2.05837e+11</td>\n",
       "      <td>2.05837e+11</td>\n",
       "    </tr>\n",
       "    <tr>\n",
       "      <th>COLE_NOMBRE_SEDE</th>\n",
       "      <td>I.E. VEINTICUATRO DE DICIEMBRE</td>\n",
       "      <td>I.E. VEINTICUATRO DE DICIEMBRE</td>\n",
       "      <td>I.E. VEINTICUATRO DE DICIEMBRE</td>\n",
       "    </tr>\n",
       "    <tr>\n",
       "      <th>COLE_CALENDARIO</th>\n",
       "      <td>A</td>\n",
       "      <td>A</td>\n",
       "      <td>A</td>\n",
       "    </tr>\n",
       "    <tr>\n",
       "      <th>COLE_GENERO</th>\n",
       "      <td>X</td>\n",
       "      <td>X</td>\n",
       "      <td>X</td>\n",
       "    </tr>\n",
       "    <tr>\n",
       "      <th>COLE_NATURALEZA</th>\n",
       "      <td>O</td>\n",
       "      <td>O</td>\n",
       "      <td>O</td>\n",
       "    </tr>\n",
       "    <tr>\n",
       "      <th>COLE_BILINGUE</th>\n",
       "      <td>NaN</td>\n",
       "      <td>NaN</td>\n",
       "      <td>NaN</td>\n",
       "    </tr>\n",
       "    <tr>\n",
       "      <th>...</th>\n",
       "      <td>...</td>\n",
       "      <td>...</td>\n",
       "      <td>...</td>\n",
       "    </tr>\n",
       "    <tr>\n",
       "      <th>FAMI_PERSONAS_HOGAR</th>\n",
       "      <td>5</td>\n",
       "      <td>4</td>\n",
       "      <td>7</td>\n",
       "    </tr>\n",
       "    <tr>\n",
       "      <th>FAMI_CUARTOS_HOGAR</th>\n",
       "      <td>NaN</td>\n",
       "      <td>NaN</td>\n",
       "      <td>NaN</td>\n",
       "    </tr>\n",
       "    <tr>\n",
       "      <th>FAMI_PISOSHOGAR</th>\n",
       "      <td>4</td>\n",
       "      <td>4</td>\n",
       "      <td>2</td>\n",
       "    </tr>\n",
       "    <tr>\n",
       "      <th>FAMI_TELEFONO_FIJO</th>\n",
       "      <td>0</td>\n",
       "      <td>1</td>\n",
       "      <td>0</td>\n",
       "    </tr>\n",
       "    <tr>\n",
       "      <th>FAMI_CELULAR</th>\n",
       "      <td>1</td>\n",
       "      <td>1</td>\n",
       "      <td>1</td>\n",
       "    </tr>\n",
       "    <tr>\n",
       "      <th>FAMI_INTERNET</th>\n",
       "      <td>0</td>\n",
       "      <td>1</td>\n",
       "      <td>0</td>\n",
       "    </tr>\n",
       "    <tr>\n",
       "      <th>FAMI_SERVICIO_TELEVISION</th>\n",
       "      <td>1</td>\n",
       "      <td>1</td>\n",
       "      <td>0</td>\n",
       "    </tr>\n",
       "    <tr>\n",
       "      <th>FAMI_COMPUTADOR</th>\n",
       "      <td>3</td>\n",
       "      <td>3</td>\n",
       "      <td>0</td>\n",
       "    </tr>\n",
       "    <tr>\n",
       "      <th>FAMI_LAVADORA</th>\n",
       "      <td>0</td>\n",
       "      <td>1</td>\n",
       "      <td>1</td>\n",
       "    </tr>\n",
       "    <tr>\n",
       "      <th>FAMI_NEVERA</th>\n",
       "      <td>1</td>\n",
       "      <td>1</td>\n",
       "      <td>1</td>\n",
       "    </tr>\n",
       "    <tr>\n",
       "      <th>FAMI_HORNO</th>\n",
       "      <td>0</td>\n",
       "      <td>1</td>\n",
       "      <td>0</td>\n",
       "    </tr>\n",
       "    <tr>\n",
       "      <th>FAMI_DVD</th>\n",
       "      <td>1</td>\n",
       "      <td>1</td>\n",
       "      <td>1</td>\n",
       "    </tr>\n",
       "    <tr>\n",
       "      <th>FAMI_MICROONDAS</th>\n",
       "      <td>0</td>\n",
       "      <td>1</td>\n",
       "      <td>0</td>\n",
       "    </tr>\n",
       "    <tr>\n",
       "      <th>FAMI_AUTOMOVIL</th>\n",
       "      <td>0</td>\n",
       "      <td>1</td>\n",
       "      <td>0</td>\n",
       "    </tr>\n",
       "    <tr>\n",
       "      <th>FAMI_INGRESO_FMILIAR_MENSUAL</th>\n",
       "      <td>1</td>\n",
       "      <td>2</td>\n",
       "      <td>1</td>\n",
       "    </tr>\n",
       "    <tr>\n",
       "      <th>ESTU_TRABAJA</th>\n",
       "      <td>NaN</td>\n",
       "      <td>NaN</td>\n",
       "      <td>NaN</td>\n",
       "    </tr>\n",
       "    <tr>\n",
       "      <th>ESTU_HORAS_TRABAJA</th>\n",
       "      <td>NaN</td>\n",
       "      <td>NaN</td>\n",
       "      <td>NaN</td>\n",
       "    </tr>\n",
       "    <tr>\n",
       "      <th>PUNT_LENGUAJE</th>\n",
       "      <td>39</td>\n",
       "      <td>31</td>\n",
       "      <td>46</td>\n",
       "    </tr>\n",
       "    <tr>\n",
       "      <th>PUNT_MATEMATICAS</th>\n",
       "      <td>37</td>\n",
       "      <td>37</td>\n",
       "      <td>34</td>\n",
       "    </tr>\n",
       "    <tr>\n",
       "      <th>PUNT_C_SOCIALES</th>\n",
       "      <td>33</td>\n",
       "      <td>28</td>\n",
       "      <td>40</td>\n",
       "    </tr>\n",
       "    <tr>\n",
       "      <th>PUNT_FILOSOFIA</th>\n",
       "      <td>45</td>\n",
       "      <td>29</td>\n",
       "      <td>43</td>\n",
       "    </tr>\n",
       "    <tr>\n",
       "      <th>PUNT_BIOLOGIA</th>\n",
       "      <td>30</td>\n",
       "      <td>29</td>\n",
       "      <td>46</td>\n",
       "    </tr>\n",
       "    <tr>\n",
       "      <th>PUNT_QUIMICA</th>\n",
       "      <td>35</td>\n",
       "      <td>41</td>\n",
       "      <td>33</td>\n",
       "    </tr>\n",
       "    <tr>\n",
       "      <th>PUNT_FISICA</th>\n",
       "      <td>46</td>\n",
       "      <td>32</td>\n",
       "      <td>25</td>\n",
       "    </tr>\n",
       "    <tr>\n",
       "      <th>PUNT_INGLES</th>\n",
       "      <td>40</td>\n",
       "      <td>37</td>\n",
       "      <td>33</td>\n",
       "    </tr>\n",
       "    <tr>\n",
       "      <th>DESEMP_INGLES</th>\n",
       "      <td>A-</td>\n",
       "      <td>A-</td>\n",
       "      <td>A-</td>\n",
       "    </tr>\n",
       "    <tr>\n",
       "      <th>NOMBRE_COMP_FLEXIBLE</th>\n",
       "      <td>PROFUNDIZACIÓN EN CIENCIAS SOCIALES</td>\n",
       "      <td>VIOLENCIA Y SOCIEDAD</td>\n",
       "      <td>PROFUNDIZACIÓN EN CIENCIAS SOCIALES</td>\n",
       "    </tr>\n",
       "    <tr>\n",
       "      <th>PUNT_COMP_FLEXIBLE</th>\n",
       "      <td>5</td>\n",
       "      <td>40</td>\n",
       "      <td>5</td>\n",
       "    </tr>\n",
       "    <tr>\n",
       "      <th>DESEMP_COMP_FLEXIBLE</th>\n",
       "      <td>GB</td>\n",
       "      <td>NaN</td>\n",
       "      <td>I</td>\n",
       "    </tr>\n",
       "    <tr>\n",
       "      <th>ESTU_PUESTO</th>\n",
       "      <td>961</td>\n",
       "      <td>989</td>\n",
       "      <td>905</td>\n",
       "    </tr>\n",
       "  </tbody>\n",
       "</table>\n",
       "<p>114 rows × 3 columns</p>\n",
       "</div>"
      ],
      "text/plain": [
       "                                                                 0  \\\n",
       "ESTU_CONSECUTIVO                                SABER1120121000001   \n",
       "PERIODO                                                      20121   \n",
       "ESTU_TIPO_DOCUMENTO                                              C   \n",
       "ESTU_PAIS_RESIDE                                                CO   \n",
       "ESTU_GENERO                                                      M   \n",
       "ESTU_NACIMIENTO_DIA                                             25   \n",
       "ESTU_NACIMIENTO_MES                                              8   \n",
       "ESTU_NACIMIENTO_ANNO                                          1992   \n",
       "ESTU_EDAD                                                       19   \n",
       "ESTU_LIMITA_BAJAVISION                                         NaN   \n",
       "ESTU_LIMITA_SORDOCEGUERA                                       NaN   \n",
       "ESTU_LIMITA_COGNITIVA                                          NaN   \n",
       "ESTU_LIMITA_INVIDENTE                                          NaN   \n",
       "ESTU_LIMITA_MOTRIZ                                             NaN   \n",
       "ESTU_LIMITA_SORDOINTERPRETE                                    NaN   \n",
       "ESTU_LIMITA_SORDONOINTERPRETE                                  NaN   \n",
       "ESTU_ETNIA                                                     NaN   \n",
       "ESTU_COD_RESIDE_MCPIO                                         5837   \n",
       "ESTU_RESIDE_MCPIO                                            TURBO   \n",
       "ESTU_RESIDE_DEPTO                                        ANTIOQUIA   \n",
       "ESTU_ZONA_RESIDE                                                10   \n",
       "ESTU_AREA_RESIDE                                                 1   \n",
       "IND_COD_ICFES_TERMINO                                       128306   \n",
       "COLE_COD_ICFES                                              128306   \n",
       "COLE_COD_DANE_INSTITUCION                              2.05837e+11   \n",
       "COLE_NOMBRE_SEDE                    I.E. VEINTICUATRO DE DICIEMBRE   \n",
       "COLE_CALENDARIO                                                  A   \n",
       "COLE_GENERO                                                      X   \n",
       "COLE_NATURALEZA                                                  O   \n",
       "COLE_BILINGUE                                                  NaN   \n",
       "...                                                            ...   \n",
       "FAMI_PERSONAS_HOGAR                                              5   \n",
       "FAMI_CUARTOS_HOGAR                                             NaN   \n",
       "FAMI_PISOSHOGAR                                                  4   \n",
       "FAMI_TELEFONO_FIJO                                               0   \n",
       "FAMI_CELULAR                                                     1   \n",
       "FAMI_INTERNET                                                    0   \n",
       "FAMI_SERVICIO_TELEVISION                                         1   \n",
       "FAMI_COMPUTADOR                                                  3   \n",
       "FAMI_LAVADORA                                                    0   \n",
       "FAMI_NEVERA                                                      1   \n",
       "FAMI_HORNO                                                       0   \n",
       "FAMI_DVD                                                         1   \n",
       "FAMI_MICROONDAS                                                  0   \n",
       "FAMI_AUTOMOVIL                                                   0   \n",
       "FAMI_INGRESO_FMILIAR_MENSUAL                                     1   \n",
       "ESTU_TRABAJA                                                   NaN   \n",
       "ESTU_HORAS_TRABAJA                                             NaN   \n",
       "PUNT_LENGUAJE                                                   39   \n",
       "PUNT_MATEMATICAS                                                37   \n",
       "PUNT_C_SOCIALES                                                 33   \n",
       "PUNT_FILOSOFIA                                                  45   \n",
       "PUNT_BIOLOGIA                                                   30   \n",
       "PUNT_QUIMICA                                                    35   \n",
       "PUNT_FISICA                                                     46   \n",
       "PUNT_INGLES                                                     40   \n",
       "DESEMP_INGLES                                                   A-   \n",
       "NOMBRE_COMP_FLEXIBLE           PROFUNDIZACIÓN EN CIENCIAS SOCIALES   \n",
       "PUNT_COMP_FLEXIBLE                                               5   \n",
       "DESEMP_COMP_FLEXIBLE                                            GB   \n",
       "ESTU_PUESTO                                                    961   \n",
       "\n",
       "                                                            1  \\\n",
       "ESTU_CONSECUTIVO                           SABER1120121000002   \n",
       "PERIODO                                                 20121   \n",
       "ESTU_TIPO_DOCUMENTO                                         C   \n",
       "ESTU_PAIS_RESIDE                                           CO   \n",
       "ESTU_GENERO                                                 M   \n",
       "ESTU_NACIMIENTO_DIA                                         5   \n",
       "ESTU_NACIMIENTO_MES                                         7   \n",
       "ESTU_NACIMIENTO_ANNO                                     1970   \n",
       "ESTU_EDAD                                                  41   \n",
       "ESTU_LIMITA_BAJAVISION                                    NaN   \n",
       "ESTU_LIMITA_SORDOCEGUERA                                  NaN   \n",
       "ESTU_LIMITA_COGNITIVA                                     NaN   \n",
       "ESTU_LIMITA_INVIDENTE                                     NaN   \n",
       "ESTU_LIMITA_MOTRIZ                                        NaN   \n",
       "ESTU_LIMITA_SORDOINTERPRETE                               NaN   \n",
       "ESTU_LIMITA_SORDONOINTERPRETE                             NaN   \n",
       "ESTU_ETNIA                                                NaN   \n",
       "ESTU_COD_RESIDE_MCPIO                                    5837   \n",
       "ESTU_RESIDE_MCPIO                                       TURBO   \n",
       "ESTU_RESIDE_DEPTO                                   ANTIOQUIA   \n",
       "ESTU_ZONA_RESIDE                                           10   \n",
       "ESTU_AREA_RESIDE                                            1   \n",
       "IND_COD_ICFES_TERMINO                                  128306   \n",
       "COLE_COD_ICFES                                         128306   \n",
       "COLE_COD_DANE_INSTITUCION                         2.05837e+11   \n",
       "COLE_NOMBRE_SEDE               I.E. VEINTICUATRO DE DICIEMBRE   \n",
       "COLE_CALENDARIO                                             A   \n",
       "COLE_GENERO                                                 X   \n",
       "COLE_NATURALEZA                                             O   \n",
       "COLE_BILINGUE                                             NaN   \n",
       "...                                                       ...   \n",
       "FAMI_PERSONAS_HOGAR                                         4   \n",
       "FAMI_CUARTOS_HOGAR                                        NaN   \n",
       "FAMI_PISOSHOGAR                                             4   \n",
       "FAMI_TELEFONO_FIJO                                          1   \n",
       "FAMI_CELULAR                                                1   \n",
       "FAMI_INTERNET                                               1   \n",
       "FAMI_SERVICIO_TELEVISION                                    1   \n",
       "FAMI_COMPUTADOR                                             3   \n",
       "FAMI_LAVADORA                                               1   \n",
       "FAMI_NEVERA                                                 1   \n",
       "FAMI_HORNO                                                  1   \n",
       "FAMI_DVD                                                    1   \n",
       "FAMI_MICROONDAS                                             1   \n",
       "FAMI_AUTOMOVIL                                              1   \n",
       "FAMI_INGRESO_FMILIAR_MENSUAL                                2   \n",
       "ESTU_TRABAJA                                              NaN   \n",
       "ESTU_HORAS_TRABAJA                                        NaN   \n",
       "PUNT_LENGUAJE                                              31   \n",
       "PUNT_MATEMATICAS                                           37   \n",
       "PUNT_C_SOCIALES                                            28   \n",
       "PUNT_FILOSOFIA                                             29   \n",
       "PUNT_BIOLOGIA                                              29   \n",
       "PUNT_QUIMICA                                               41   \n",
       "PUNT_FISICA                                                32   \n",
       "PUNT_INGLES                                                37   \n",
       "DESEMP_INGLES                                              A-   \n",
       "NOMBRE_COMP_FLEXIBLE                     VIOLENCIA Y SOCIEDAD   \n",
       "PUNT_COMP_FLEXIBLE                                         40   \n",
       "DESEMP_COMP_FLEXIBLE                                      NaN   \n",
       "ESTU_PUESTO                                               989   \n",
       "\n",
       "                                                                 2  \n",
       "ESTU_CONSECUTIVO                                SABER1120121000003  \n",
       "PERIODO                                                      20121  \n",
       "ESTU_TIPO_DOCUMENTO                                              R  \n",
       "ESTU_PAIS_RESIDE                                                CO  \n",
       "ESTU_GENERO                                                      F  \n",
       "ESTU_NACIMIENTO_DIA                                              3  \n",
       "ESTU_NACIMIENTO_MES                                              1  \n",
       "ESTU_NACIMIENTO_ANNO                                          1994  \n",
       "ESTU_EDAD                                                       18  \n",
       "ESTU_LIMITA_BAJAVISION                                         NaN  \n",
       "ESTU_LIMITA_SORDOCEGUERA                                       NaN  \n",
       "ESTU_LIMITA_COGNITIVA                                          NaN  \n",
       "ESTU_LIMITA_INVIDENTE                                          NaN  \n",
       "ESTU_LIMITA_MOTRIZ                                             NaN  \n",
       "ESTU_LIMITA_SORDOINTERPRETE                                    NaN  \n",
       "ESTU_LIMITA_SORDONOINTERPRETE                                  NaN  \n",
       "ESTU_ETNIA                                                       1  \n",
       "ESTU_COD_RESIDE_MCPIO                                         5837  \n",
       "ESTU_RESIDE_MCPIO                                            TURBO  \n",
       "ESTU_RESIDE_DEPTO                                        ANTIOQUIA  \n",
       "ESTU_ZONA_RESIDE                                                10  \n",
       "ESTU_AREA_RESIDE                                                 1  \n",
       "IND_COD_ICFES_TERMINO                                       128306  \n",
       "COLE_COD_ICFES                                              128306  \n",
       "COLE_COD_DANE_INSTITUCION                              2.05837e+11  \n",
       "COLE_NOMBRE_SEDE                    I.E. VEINTICUATRO DE DICIEMBRE  \n",
       "COLE_CALENDARIO                                                  A  \n",
       "COLE_GENERO                                                      X  \n",
       "COLE_NATURALEZA                                                  O  \n",
       "COLE_BILINGUE                                                  NaN  \n",
       "...                                                            ...  \n",
       "FAMI_PERSONAS_HOGAR                                              7  \n",
       "FAMI_CUARTOS_HOGAR                                             NaN  \n",
       "FAMI_PISOSHOGAR                                                  2  \n",
       "FAMI_TELEFONO_FIJO                                               0  \n",
       "FAMI_CELULAR                                                     1  \n",
       "FAMI_INTERNET                                                    0  \n",
       "FAMI_SERVICIO_TELEVISION                                         0  \n",
       "FAMI_COMPUTADOR                                                  0  \n",
       "FAMI_LAVADORA                                                    1  \n",
       "FAMI_NEVERA                                                      1  \n",
       "FAMI_HORNO                                                       0  \n",
       "FAMI_DVD                                                         1  \n",
       "FAMI_MICROONDAS                                                  0  \n",
       "FAMI_AUTOMOVIL                                                   0  \n",
       "FAMI_INGRESO_FMILIAR_MENSUAL                                     1  \n",
       "ESTU_TRABAJA                                                   NaN  \n",
       "ESTU_HORAS_TRABAJA                                             NaN  \n",
       "PUNT_LENGUAJE                                                   46  \n",
       "PUNT_MATEMATICAS                                                34  \n",
       "PUNT_C_SOCIALES                                                 40  \n",
       "PUNT_FILOSOFIA                                                  43  \n",
       "PUNT_BIOLOGIA                                                   46  \n",
       "PUNT_QUIMICA                                                    33  \n",
       "PUNT_FISICA                                                     25  \n",
       "PUNT_INGLES                                                     33  \n",
       "DESEMP_INGLES                                                   A-  \n",
       "NOMBRE_COMP_FLEXIBLE           PROFUNDIZACIÓN EN CIENCIAS SOCIALES  \n",
       "PUNT_COMP_FLEXIBLE                                               5  \n",
       "DESEMP_COMP_FLEXIBLE                                             I  \n",
       "ESTU_PUESTO                                                    905  \n",
       "\n",
       "[114 rows x 3 columns]"
      ]
     },
     "execution_count": 4,
     "metadata": {},
     "output_type": "execute_result"
    }
   ],
   "source": [
    "data_2012.head(3).T"
   ]
  },
  {
   "cell_type": "code",
   "execution_count": 6,
   "metadata": {
    "collapsed": true
   },
   "outputs": [],
   "source": [
    "data_2012 = data_2012.drop(['ESTU_CONSECUTIVO', 'PERIODO', 'ESTU_TIPO_DOCUMENTO', 'ESTU_COD_RESIDE_MCPIO',\n",
    "                           'ESTU_IES_COD_MPIO_DESEADA', 'ESTU_IES_DESEADA_NOMBRE', 'ESTU_COD_MCPIO_PRESENTACION',\n",
    "                           'ESTU_EXAM_NOMBREEXAMEN', 'COLE_NOMBRE_SEDE'], axis=1)"
   ]
  },
  {
   "cell_type": "code",
   "execution_count": null,
   "metadata": {
    "collapsed": true
   },
   "outputs": [],
   "source": [
    "c = 'ESTU_PAIS_RESIDE'\n",
    "data_2012[c].value_counts().sort_index().index\n",
    "data_2012[c].value_counts().sort_index()\n",
    "missing_data(data_2012[c])"
   ]
  },
  {
   "cell_type": "code",
   "execution_count": null,
   "metadata": {
    "collapsed": true
   },
   "outputs": [],
   "source": [
    "c = 'ESTU_GENERO'\n",
    "data_2012[c].value_counts().sort_index().index\n",
    "data_2012[c].value_counts().sort_index()\n",
    "missing_data(data_2012[c])"
   ]
  },
  {
   "cell_type": "code",
   "execution_count": null,
   "metadata": {
    "collapsed": true
   },
   "outputs": [],
   "source": [
    "c = 'ESTU_NACIMIENTO_DIA'\n",
    "data_2012[c].value_counts().sort_index().index\n",
    "data_2012[c].value_counts().sort_index()\n",
    "missing_data(data_2012[c])"
   ]
  },
  {
   "cell_type": "code",
   "execution_count": null,
   "metadata": {
    "collapsed": true
   },
   "outputs": [],
   "source": [
    "c = 'ESTU_NACIMIENTO_MES'\n",
    "data_2012[c].value_counts().sort_index().index\n",
    "data_2012[c].value_counts().sort_index()\n",
    "missing_data(data_2012[c])"
   ]
  },
  {
   "cell_type": "code",
   "execution_count": null,
   "metadata": {
    "collapsed": true
   },
   "outputs": [],
   "source": [
    "c = 'ESTU_NACIMIENTO_ANNO'\n",
    "data_2012[c].value_counts().sort_index().index\n",
    "data_2012[c].value_counts().sort_index()\n",
    "missing_data(data_2012[c])"
   ]
  },
  {
   "cell_type": "code",
   "execution_count": null,
   "metadata": {
    "collapsed": true
   },
   "outputs": [],
   "source": [
    "c = 'ESTU_EDAD'\n",
    "data_2012[c].value_counts().sort_index().index\n",
    "data_2012[c].value_counts().sort_index()\n",
    "missing_data(data_2012[c])"
   ]
  },
  {
   "cell_type": "code",
   "execution_count": null,
   "metadata": {
    "collapsed": true
   },
   "outputs": [],
   "source": [
    "c = 'ESTU_LIMITA_BAJAVISION'\n",
    "data_2012[c].value_counts().sort_index().index\n",
    "data_2012[c].value_counts().sort_index()\n",
    "missing_data(data_2012[c])"
   ]
  },
  {
   "cell_type": "code",
   "execution_count": null,
   "metadata": {
    "collapsed": true
   },
   "outputs": [],
   "source": [
    "c = 'ESTU_LIMITA_SORDOCEGUERA'\n",
    "data_2012[c].value_counts().sort_index().index\n",
    "data_2012[c].value_counts().sort_index()\n",
    "missing_data(data_2012[c])"
   ]
  },
  {
   "cell_type": "code",
   "execution_count": null,
   "metadata": {
    "collapsed": true
   },
   "outputs": [],
   "source": [
    "c = 'ESTU_LIMITA_COGNITIVA'\n",
    "data_2012[c].value_counts().sort_index().index\n",
    "data_2012[c].value_counts().sort_index()\n",
    "missing_data(data_2012[c])"
   ]
  },
  {
   "cell_type": "code",
   "execution_count": null,
   "metadata": {
    "collapsed": true
   },
   "outputs": [],
   "source": [
    "c = 'ESTU_LIMITA_INVIDENTE'\n",
    "data_2012[c].value_counts().sort_index().index\n",
    "data_2012[c].value_counts().sort_index()\n",
    "missing_data(data_2012[c])"
   ]
  },
  {
   "cell_type": "code",
   "execution_count": null,
   "metadata": {
    "collapsed": true
   },
   "outputs": [],
   "source": [
    "c = 'ESTU_LIMITA_MOTRIZ'\n",
    "data_2012[c].value_counts().sort_index().index\n",
    "data_2012[c].value_counts().sort_index()\n",
    "missing_data(data_2012[c])"
   ]
  },
  {
   "cell_type": "code",
   "execution_count": null,
   "metadata": {
    "collapsed": true
   },
   "outputs": [],
   "source": [
    "c = 'ESTU_LIMITA_SORDOINTERPRETE'\n",
    "data_2012[c].value_counts().sort_index().index\n",
    "data_2012[c].value_counts().sort_index()\n",
    "missing_data(data_2012[c])"
   ]
  },
  {
   "cell_type": "code",
   "execution_count": null,
   "metadata": {
    "collapsed": true
   },
   "outputs": [],
   "source": [
    "c = 'ESTU_LIMITA_SORDONOINTERPRETE'\n",
    "data_2012[c].value_counts().sort_index().index\n",
    "data_2012[c].value_counts().sort_index()\n",
    "missing_data(data_2012[c])"
   ]
  },
  {
   "cell_type": "code",
   "execution_count": null,
   "metadata": {
    "collapsed": true
   },
   "outputs": [],
   "source": [
    "c = 'ESTU_ETNIA'\n",
    "data_2012[c].value_counts().sort_index().index\n",
    "data_2012[c].value_counts().sort_index()\n",
    "missing_data(data_2012[c])"
   ]
  },
  {
   "cell_type": "code",
   "execution_count": null,
   "metadata": {
    "collapsed": true
   },
   "outputs": [],
   "source": [
    "c = 'ESTU_RESIDE_MCPIO'\n",
    "data_2012[c].value_counts().sort_index().index\n",
    "data_2012[c].value_counts().sort_index()\n",
    "missing_data(data_2012[c])"
   ]
  },
  {
   "cell_type": "code",
   "execution_count": null,
   "metadata": {
    "collapsed": true
   },
   "outputs": [],
   "source": [
    "c = 'ESTU_RESIDE_DEPTO'\n",
    "data_2012[c].value_counts().sort_index().index\n",
    "data_2012[c].value_counts().sort_index()\n",
    "missing_data(data_2012[c])"
   ]
  },
  {
   "cell_type": "code",
   "execution_count": null,
   "metadata": {
    "collapsed": true
   },
   "outputs": [],
   "source": [
    "c = 'ESTU_ZONA_RESIDE'\n",
    "data_2012[c].value_counts().sort_index().index\n",
    "data_2012[c].value_counts().sort_index()\n",
    "missing_data(data_2012[c])"
   ]
  },
  {
   "cell_type": "code",
   "execution_count": null,
   "metadata": {
    "collapsed": true
   },
   "outputs": [],
   "source": [
    "c = 'ESTU_AREA_RESIDE'\n",
    "data_2012[c].value_counts().sort_index().index\n",
    "data_2012[c].value_counts().sort_index()\n",
    "missing_data(data_2012[c])"
   ]
  },
  {
   "cell_type": "code",
   "execution_count": null,
   "metadata": {
    "collapsed": true
   },
   "outputs": [],
   "source": [
    "c = 'IND_COD_ICFES_TERMINO'\n",
    "data_2012[c].value_counts().sort_index().index\n",
    "data_2012[c].value_counts().sort_index()\n",
    "missing_data(data_2012[c])"
   ]
  },
  {
   "cell_type": "code",
   "execution_count": null,
   "metadata": {
    "collapsed": true
   },
   "outputs": [],
   "source": [
    "c = 'COLE_COD_ICFES'\n",
    "data_2012[c].value_counts().sort_index().index\n",
    "data_2012[c].value_counts().sort_index()\n",
    "missing_data(data_2012[c])"
   ]
  },
  {
   "cell_type": "code",
   "execution_count": null,
   "metadata": {
    "collapsed": true
   },
   "outputs": [],
   "source": [
    "c = 'COLE_COD_DANE_INSTITUCION'\n",
    "data_2012[c].value_counts().sort_index().index\n",
    "data_2012[c].value_counts().sort_index()\n",
    "missing_data(data_2012[c])"
   ]
  },
  {
   "cell_type": "code",
   "execution_count": null,
   "metadata": {
    "collapsed": true
   },
   "outputs": [],
   "source": [
    "c = 'COLE_CALENDARIO'\n",
    "data_2012[c].value_counts().sort_index().index\n",
    "data_2012[c].value_counts().sort_index()\n",
    "missing_data(data_2012[c])"
   ]
  },
  {
   "cell_type": "code",
   "execution_count": null,
   "metadata": {
    "collapsed": true
   },
   "outputs": [],
   "source": [
    "c = 'COLE_GENERO'\n",
    "data_2012[c].value_counts().sort_index().index\n",
    "data_2012[c].value_counts().sort_index()\n",
    "missing_data(data_2012[c])"
   ]
  },
  {
   "cell_type": "code",
   "execution_count": null,
   "metadata": {
    "collapsed": true
   },
   "outputs": [],
   "source": [
    "c = 'COLE_NATURALEZA'\n",
    "data_2012[c].value_counts().sort_index().index\n",
    "data_2012[c].value_counts().sort_index()\n",
    "missing_data(data_2012[c])"
   ]
  },
  {
   "cell_type": "code",
   "execution_count": null,
   "metadata": {
    "collapsed": true
   },
   "outputs": [],
   "source": [
    "c = 'COLE_BILINGUE'\n",
    "data_2012[c].value_counts().sort_index().index\n",
    "data_2012[c].value_counts().sort_index()\n",
    "missing_data(data_2012[c])"
   ]
  },
  {
   "cell_type": "code",
   "execution_count": null,
   "metadata": {
    "collapsed": true
   },
   "outputs": [],
   "source": [
    "c = 'COLE_JORNADA'\n",
    "data_2012[c].value_counts().sort_index().index\n",
    "data_2012[c].value_counts().sort_index()\n",
    "missing_data(data_2012[c])"
   ]
  },
  {
   "cell_type": "code",
   "execution_count": null,
   "metadata": {
    "collapsed": true
   },
   "outputs": [],
   "source": [
    "c = 'COLE_CARACTER'\n",
    "data_2012[c].value_counts().sort_index().index\n",
    "data_2012[c].value_counts().sort_index()\n",
    "missing_data(data_2012[c])"
   ]
  },
  {
   "cell_type": "code",
   "execution_count": null,
   "metadata": {
    "collapsed": true
   },
   "outputs": [],
   "source": [
    "c = 'COLE_VALOR_PENSION'\n",
    "data_2012[c].value_counts().sort_index().index\n",
    "data_2012[c].value_counts().sort_index()\n",
    "missing_data(data_2012[c])"
   ]
  },
  {
   "cell_type": "code",
   "execution_count": null,
   "metadata": {
    "collapsed": true
   },
   "outputs": [],
   "source": [
    "c = 'ESTU_VECES_ESTADO'\n",
    "data_2012[c].value_counts().sort_index().index\n",
    "data_2012[c].value_counts().sort_index()\n",
    "missing_data(data_2012[c])"
   ]
  },
  {
   "cell_type": "code",
   "execution_count": null,
   "metadata": {
    "collapsed": true
   },
   "outputs": [],
   "source": [
    "c = 'ESTU_CARRDESEADA_TIPO'\n",
    "data_2012[c].value_counts().sort_index().index\n",
    "data_2012[c].value_counts().sort_index()\n",
    "missing_data(data_2012[c])"
   ]
  },
  {
   "cell_type": "code",
   "execution_count": null,
   "metadata": {
    "collapsed": true
   },
   "outputs": [],
   "source": [
    "c = 'ESTU_IES_COD_DESEADA'\n",
    "data_2012[c].value_counts().sort_index().index\n",
    "data_2012[c].value_counts().sort_index()\n",
    "missing_data(data_2012[c])"
   ]
  },
  {
   "cell_type": "code",
   "execution_count": null,
   "metadata": {
    "collapsed": true
   },
   "outputs": [],
   "source": [
    "c = 'ESTU_IES_DEPT_DESEADA'\n",
    "data_2012[c].value_counts().sort_index().index\n",
    "data_2012[c].value_counts().sort_index()\n",
    "missing_data(data_2012[c])"
   ]
  },
  {
   "cell_type": "code",
   "execution_count": null,
   "metadata": {
    "collapsed": true
   },
   "outputs": [],
   "source": [
    "c = 'ESTU_IES_MPIO_DESEADA'\n",
    "data_2012[c].value_counts().sort_index().index\n",
    "data_2012[c].value_counts().sort_index()\n",
    "missing_data(data_2012[c])"
   ]
  },
  {
   "cell_type": "code",
   "execution_count": null,
   "metadata": {
    "collapsed": true
   },
   "outputs": [],
   "source": [
    "c = 'ESTU_TOTAL_ALUMNOS_CURSO'\n",
    "data_2012[c].value_counts().sort_index().index\n",
    "data_2012[c].value_counts().sort_index()\n",
    "missing_data(data_2012[c])"
   ]
  },
  {
   "cell_type": "code",
   "execution_count": null,
   "metadata": {
    "collapsed": true
   },
   "outputs": [],
   "source": [
    "c = 'ESTU_ANO_MATRICULA_PRIMERO'\n",
    "data_2012[c].value_counts().sort_index().index\n",
    "data_2012[c].value_counts().sort_index()\n",
    "missing_data(data_2012[c])"
   ]
  },
  {
   "cell_type": "code",
   "execution_count": null,
   "metadata": {
    "collapsed": true
   },
   "outputs": [],
   "source": [
    "c = 'ESTU_ANO_TERMINO_QUINTO'\n",
    "data_2012[c].value_counts().sort_index().index\n",
    "data_2012[c].value_counts().sort_index()\n",
    "missing_data(data_2012[c])"
   ]
  },
  {
   "cell_type": "code",
   "execution_count": null,
   "metadata": {
    "collapsed": true
   },
   "outputs": [],
   "source": [
    "c = 'ESTU_ANOS_COLEGIO_ACTUAL'\n",
    "data_2012[c].value_counts().sort_index().index\n",
    "data_2012[c].value_counts().sort_index()\n",
    "missing_data(data_2012[c])"
   ]
  },
  {
   "cell_type": "code",
   "execution_count": null,
   "metadata": {
    "collapsed": true
   },
   "outputs": [],
   "source": [
    "c = 'ESTU_ANO_MATRICULA_SEXTO'\n",
    "data_2012[c].value_counts().sort_index().index\n",
    "data_2012[c].value_counts().sort_index()\n",
    "missing_data(data_2012[c])"
   ]
  },
  {
   "cell_type": "code",
   "execution_count": null,
   "metadata": {
    "collapsed": true
   },
   "outputs": [],
   "source": [
    "c = 'ESTU_ANOS_PREESCOLAR'\n",
    "data_2012[c].value_counts().sort_index().index\n",
    "data_2012[c].value_counts().sort_index()\n",
    "missing_data(data_2012[c])"
   ]
  },
  {
   "cell_type": "code",
   "execution_count": null,
   "metadata": {
    "collapsed": true
   },
   "outputs": [],
   "source": [
    "c = 'ESTU_CUANTOS_COLE_ESTUDIO'\n",
    "data_2012[c].value_counts().sort_index().index\n",
    "data_2012[c].value_counts().sort_index()\n",
    "missing_data(data_2012[c])"
   ]
  },
  {
   "cell_type": "code",
   "execution_count": null,
   "metadata": {
    "collapsed": true
   },
   "outputs": [],
   "source": [
    "c = 'ESTU_REPROBO_CUARTO'\n",
    "data_2012[c].value_counts().sort_index().index\n",
    "data_2012[c].value_counts().sort_index()\n",
    "missing_data(data_2012[c])"
   ]
  },
  {
   "cell_type": "code",
   "execution_count": null,
   "metadata": {
    "collapsed": true
   },
   "outputs": [],
   "source": [
    "c = 'ESTU_REPROBO_DECIMO'\n",
    "data_2012[c].value_counts().sort_index().index\n",
    "data_2012[c].value_counts().sort_index()\n",
    "missing_data(data_2012[c])"
   ]
  },
  {
   "cell_type": "code",
   "execution_count": null,
   "metadata": {
    "collapsed": true
   },
   "outputs": [],
   "source": [
    "c = 'ESTU_REPROBO_NOVENO'\n",
    "data_2012[c].value_counts().sort_index().index\n",
    "data_2012[c].value_counts().sort_index()\n",
    "missing_data(data_2012[c])"
   ]
  },
  {
   "cell_type": "code",
   "execution_count": null,
   "metadata": {
    "collapsed": true
   },
   "outputs": [],
   "source": [
    "c = 'ESTU_REPROBO_OCTAVO'\n",
    "data_2012[c].value_counts().sort_index().index\n",
    "data_2012[c].value_counts().sort_index()\n",
    "missing_data(data_2012[c])"
   ]
  },
  {
   "cell_type": "code",
   "execution_count": null,
   "metadata": {
    "collapsed": true
   },
   "outputs": [],
   "source": [
    "c = 'ESTU_REPROBO_PRIMERO'\n",
    "data_2012[c].value_counts().sort_index().index\n",
    "data_2012[c].value_counts().sort_index()\n",
    "missing_data(data_2012[c])"
   ]
  },
  {
   "cell_type": "code",
   "execution_count": null,
   "metadata": {
    "collapsed": true
   },
   "outputs": [],
   "source": [
    "c = 'ESTU_REPROBO_QUINTO'\n",
    "data_2012[c].value_counts().sort_index().index\n",
    "data_2012[c].value_counts().sort_index()\n",
    "missing_data(data_2012[c])"
   ]
  },
  {
   "cell_type": "code",
   "execution_count": null,
   "metadata": {
    "collapsed": true
   },
   "outputs": [],
   "source": [
    "c = 'ESTU_REPROBO_SEGUNDO'\n",
    "data_2012[c].value_counts().sort_index().index\n",
    "data_2012[c].value_counts().sort_index()\n",
    "missing_data(data_2012[c])"
   ]
  },
  {
   "cell_type": "code",
   "execution_count": null,
   "metadata": {
    "collapsed": true
   },
   "outputs": [],
   "source": [
    "c = 'ESTU_REPROBO_SEPTIMO'\n",
    "data_2012[c].value_counts().sort_index().index\n",
    "data_2012[c].value_counts().sort_index()\n",
    "missing_data(data_2012[c])"
   ]
  },
  {
   "cell_type": "code",
   "execution_count": null,
   "metadata": {
    "collapsed": true
   },
   "outputs": [],
   "source": [
    "c = 'ESTU_REPROBO_SEXTO'\n",
    "data_2012[c].value_counts().sort_index().index\n",
    "data_2012[c].value_counts().sort_index()\n",
    "missing_data(data_2012[c])"
   ]
  },
  {
   "cell_type": "code",
   "execution_count": null,
   "metadata": {
    "collapsed": true
   },
   "outputs": [],
   "source": [
    "c = 'ESTU_REPROBO_TERCERO'\n",
    "data_2012[c].value_counts().sort_index().index\n",
    "data_2012[c].value_counts().sort_index()\n",
    "missing_data(data_2012[c])"
   ]
  },
  {
   "cell_type": "code",
   "execution_count": null,
   "metadata": {
    "collapsed": true
   },
   "outputs": [],
   "source": [
    "c = 'ESTU_REPROBO_ONCE_MAS'\n",
    "data_2012[c].value_counts().sort_index().index\n",
    "data_2012[c].value_counts().sort_index()\n",
    "missing_data(data_2012[c])"
   ]
  },
  {
   "cell_type": "code",
   "execution_count": null,
   "metadata": {
    "collapsed": true
   },
   "outputs": [],
   "source": [
    "c = 'ESTU_POR_MEJORARPOSICIONSOCIAL'\n",
    "data_2012[c].value_counts().sort_index().index\n",
    "data_2012[c].value_counts().sort_index()\n",
    "missing_data(data_2012[c])"
   ]
  },
  {
   "cell_type": "code",
   "execution_count": null,
   "metadata": {
    "collapsed": true
   },
   "outputs": [],
   "source": [
    "c = 'ESTU_POR_COLOMBIAAPRENDE'\n",
    "data_2012[c].value_counts().sort_index().index\n",
    "data_2012[c].value_counts().sort_index()\n",
    "missing_data(data_2012[c])"
   ]
  },
  {
   "cell_type": "code",
   "execution_count": null,
   "metadata": {
    "collapsed": true
   },
   "outputs": [],
   "source": [
    "c = 'ESTU_POR_INFLUENCIAALGUIEN'\n",
    "data_2012[c].value_counts().sort_index().index\n",
    "data_2012[c].value_counts().sort_index()\n",
    "missing_data(data_2012[c])"
   ]
  },
  {
   "cell_type": "code",
   "execution_count": null,
   "metadata": {
    "collapsed": true
   },
   "outputs": [],
   "source": [
    "c = 'ESTU_POR_INTERESPERSONAL'\n",
    "data_2012[c].value_counts().sort_index().index\n",
    "data_2012[c].value_counts().sort_index()\n",
    "missing_data(data_2012[c])"
   ]
  },
  {
   "cell_type": "code",
   "execution_count": null,
   "metadata": {
    "collapsed": true
   },
   "outputs": [],
   "source": [
    "c = 'ESTU_POR_BUSCANDOCARRERA'\n",
    "data_2012[c].value_counts().sort_index().index\n",
    "data_2012[c].value_counts().sort_index()\n",
    "missing_data(data_2012[c])"
   ]
  },
  {
   "cell_type": "code",
   "execution_count": null,
   "metadata": {
    "collapsed": true
   },
   "outputs": [],
   "source": [
    "c = 'ESTU_POR_TRADICIONFAMILIAR'\n",
    "data_2012[c].value_counts().sort_index().index\n",
    "data_2012[c].value_counts().sort_index()\n",
    "missing_data(data_2012[c])"
   ]
  },
  {
   "cell_type": "code",
   "execution_count": null,
   "metadata": {
    "collapsed": true
   },
   "outputs": [],
   "source": [
    "c = 'ESTU_POR_ORIENTACIONVOCACIONAL'\n",
    "data_2012[c].value_counts().sort_index().index\n",
    "data_2012[c].value_counts().sort_index()\n",
    "missing_data(data_2012[c])"
   ]
  },
  {
   "cell_type": "code",
   "execution_count": null,
   "metadata": {
    "collapsed": true
   },
   "outputs": [],
   "source": [
    "c = 'ESTU_RAZON_RETIRO'\n",
    "data_2012[c].value_counts().sort_index().index\n",
    "data_2012[c].value_counts().sort_index()\n",
    "missing_data(data_2012[c])"
   ]
  },
  {
   "cell_type": "code",
   "execution_count": null,
   "metadata": {
    "collapsed": true
   },
   "outputs": [],
   "source": [
    "c = 'ESTU_POR_AMIGOSESTUDIANDO'\n",
    "data_2012[c].value_counts().sort_index().index\n",
    "data_2012[c].value_counts().sort_index()\n",
    "missing_data(data_2012[c])"
   ]
  },
  {
   "cell_type": "code",
   "execution_count": null,
   "metadata": {
    "collapsed": true
   },
   "outputs": [],
   "source": [
    "c = 'ESTU_POR_COSTOMATRICULA'\n",
    "data_2012[c].value_counts().sort_index().index\n",
    "data_2012[c].value_counts().sort_index()\n",
    "missing_data(data_2012[c])"
   ]
  },
  {
   "cell_type": "code",
   "execution_count": null,
   "metadata": {
    "collapsed": true
   },
   "outputs": [],
   "source": [
    "c = 'ESTU_POR_OPORTUNIDADES'\n",
    "data_2012[c].value_counts().sort_index().index\n",
    "data_2012[c].value_counts().sort_index()\n",
    "missing_data(data_2012[c])"
   ]
  },
  {
   "cell_type": "code",
   "execution_count": null,
   "metadata": {
    "collapsed": true
   },
   "outputs": [],
   "source": [
    "c = 'ESTU_POR_OTRARAZON'\n",
    "data_2012[c].value_counts().sort_index().index\n",
    "data_2012[c].value_counts().sort_index()\n",
    "missing_data(data_2012[c])"
   ]
  },
  {
   "cell_type": "code",
   "execution_count": null,
   "metadata": {
    "collapsed": true
   },
   "outputs": [],
   "source": [
    "c = 'ESTU_PRESTIGIOINSTITUCION'\n",
    "data_2012[c].value_counts().sort_index().index\n",
    "data_2012[c].value_counts().sort_index()\n",
    "missing_data(data_2012[c])"
   ]
  },
  {
   "cell_type": "code",
   "execution_count": null,
   "metadata": {
    "collapsed": true
   },
   "outputs": [],
   "source": [
    "c = 'ESTU_POR_UBICACION'\n",
    "data_2012[c].value_counts().sort_index().index\n",
    "data_2012[c].value_counts().sort_index()\n",
    "missing_data(data_2012[c])"
   ]
  },
  {
   "cell_type": "code",
   "execution_count": null,
   "metadata": {
    "collapsed": true
   },
   "outputs": [],
   "source": [
    "c = 'ESTU_POR_UNICAQUEOFRECE'\n",
    "data_2012[c].value_counts().sort_index().index\n",
    "data_2012[c].value_counts().sort_index()\n",
    "missing_data(data_2012[c])"
   ]
  },
  {
   "cell_type": "code",
   "execution_count": null,
   "metadata": {
    "collapsed": true
   },
   "outputs": [],
   "source": [
    "c = 'ESTU_RETIRARSE_COLEGIO'\n",
    "data_2012[c].value_counts().sort_index().index\n",
    "data_2012[c].value_counts().sort_index()\n",
    "missing_data(data_2012[c])"
   ]
  },
  {
   "cell_type": "code",
   "execution_count": null,
   "metadata": {
    "collapsed": true
   },
   "outputs": [],
   "source": [
    "c = 'ESTU_MCPIO_PRESENTACION'\n",
    "data_2012[c].value_counts().sort_index().index\n",
    "data_2012[c].value_counts().sort_index()\n",
    "missing_data(data_2012[c])"
   ]
  },
  {
   "cell_type": "code",
   "execution_count": null,
   "metadata": {
    "collapsed": true
   },
   "outputs": [],
   "source": [
    "c = 'ESTU_DEPTO_PRESENTACION'\n",
    "data_2012[c].value_counts().sort_index().index\n",
    "data_2012[c].value_counts().sort_index()\n",
    "missing_data(data_2012[c])"
   ]
  },
  {
   "cell_type": "code",
   "execution_count": null,
   "metadata": {
    "collapsed": true
   },
   "outputs": [],
   "source": [
    "c = 'FAMI_EDUCA_PADRE'\n",
    "data_2012[c].value_counts().sort_index().index\n",
    "data_2012[c].value_counts().sort_index()\n",
    "missing_data(data_2012[c])"
   ]
  },
  {
   "cell_type": "code",
   "execution_count": null,
   "metadata": {
    "collapsed": true
   },
   "outputs": [],
   "source": [
    "c = 'FAMI_EDUCA_MADRE'\n",
    "data_2012[c].value_counts().sort_index().index\n",
    "data_2012[c].value_counts().sort_index()\n",
    "missing_data(data_2012[c])"
   ]
  },
  {
   "cell_type": "code",
   "execution_count": null,
   "metadata": {
    "collapsed": true
   },
   "outputs": [],
   "source": [
    "c = 'FAMI_OCUPA_PADRE'\n",
    "data_2012[c].value_counts().sort_index().index\n",
    "data_2012[c].value_counts().sort_index()\n",
    "missing_data(data_2012[c])"
   ]
  },
  {
   "cell_type": "code",
   "execution_count": null,
   "metadata": {
    "collapsed": true
   },
   "outputs": [],
   "source": [
    "c = 'FAMI_ESTRATO_VIVIENDA'\n",
    "data_2012[c].value_counts().sort_index().index\n",
    "data_2012[c].value_counts().sort_index()\n",
    "missing_data(data_2012[c])"
   ]
  },
  {
   "cell_type": "code",
   "execution_count": null,
   "metadata": {
    "collapsed": true
   },
   "outputs": [],
   "source": [
    "c = 'FAMI_OCUPA_MADRE'\n",
    "data_2012[c].value_counts().sort_index().index\n",
    "data_2012[c].value_counts().sort_index()\n",
    "missing_data(data_2012[c])"
   ]
  },
  {
   "cell_type": "code",
   "execution_count": null,
   "metadata": {
    "collapsed": true
   },
   "outputs": [],
   "source": [
    "c = 'FAMI_NIVEL_SISBEN'\n",
    "data_2012[c].value_counts().sort_index().index\n",
    "data_2012[c].value_counts().sort_index()\n",
    "missing_data(data_2012[c])"
   ]
  },
  {
   "cell_type": "code",
   "execution_count": null,
   "metadata": {
    "collapsed": true
   },
   "outputs": [],
   "source": [
    "c = 'FAMI_PERSONAS_HOGAR'\n",
    "data_2012[c].value_counts().sort_index().index\n",
    "data_2012[c].value_counts().sort_index()\n",
    "missing_data(data_2012[c])"
   ]
  },
  {
   "cell_type": "code",
   "execution_count": null,
   "metadata": {
    "collapsed": true
   },
   "outputs": [],
   "source": [
    "c = 'FAMI_CUARTOS_HOGAR'\n",
    "data_2012[c].value_counts().sort_index().index\n",
    "data_2012[c].value_counts().sort_index()\n",
    "missing_data(data_2012[c])"
   ]
  },
  {
   "cell_type": "code",
   "execution_count": null,
   "metadata": {
    "collapsed": true
   },
   "outputs": [],
   "source": [
    "c = 'FAMI_PISOSHOGAR'\n",
    "data_2012[c].value_counts().sort_index().index\n",
    "data_2012[c].value_counts().sort_index()\n",
    "missing_data(data_2012[c])"
   ]
  },
  {
   "cell_type": "code",
   "execution_count": null,
   "metadata": {
    "collapsed": true
   },
   "outputs": [],
   "source": [
    "c = 'FAMI_TELEFONO_FIJO'\n",
    "data_2012[c].value_counts().sort_index().index\n",
    "data_2012[c].value_counts().sort_index()\n",
    "missing_data(data_2012[c])"
   ]
  },
  {
   "cell_type": "code",
   "execution_count": null,
   "metadata": {
    "collapsed": true
   },
   "outputs": [],
   "source": [
    "c = 'FAMI_CELULAR'\n",
    "data_2012[c].value_counts().sort_index().index\n",
    "data_2012[c].value_counts().sort_index()\n",
    "missing_data(data_2012[c])"
   ]
  },
  {
   "cell_type": "code",
   "execution_count": null,
   "metadata": {
    "collapsed": true
   },
   "outputs": [],
   "source": [
    "c = 'FAMI_INTERNET'\n",
    "data_2012[c].value_counts().sort_index().index\n",
    "data_2012[c].value_counts().sort_index()\n",
    "missing_data(data_2012[c])"
   ]
  },
  {
   "cell_type": "code",
   "execution_count": null,
   "metadata": {
    "collapsed": true
   },
   "outputs": [],
   "source": [
    "c = 'FAMI_SERVICIO_TELEVISION'\n",
    "data_2012[c].value_counts().sort_index().index\n",
    "data_2012[c].value_counts().sort_index()\n",
    "missing_data(data_2012[c])"
   ]
  },
  {
   "cell_type": "code",
   "execution_count": null,
   "metadata": {
    "collapsed": true
   },
   "outputs": [],
   "source": [
    "c = 'FAMI_COMPUTADOR'\n",
    "data_2012[c].value_counts().sort_index().index\n",
    "data_2012[c].value_counts().sort_index()\n",
    "missing_data(data_2012[c])"
   ]
  },
  {
   "cell_type": "code",
   "execution_count": null,
   "metadata": {
    "collapsed": true
   },
   "outputs": [],
   "source": [
    "c = 'FAMI_LAVADORA'\n",
    "data_2012[c].value_counts().sort_index().index\n",
    "data_2012[c].value_counts().sort_index()\n",
    "missing_data(data_2012[c])"
   ]
  },
  {
   "cell_type": "code",
   "execution_count": null,
   "metadata": {
    "collapsed": true
   },
   "outputs": [],
   "source": [
    "c = 'FAMI_NEVERA'\n",
    "data_2012[c].value_counts().sort_index().index\n",
    "data_2012[c].value_counts().sort_index()\n",
    "missing_data(data_2012[c])"
   ]
  },
  {
   "cell_type": "code",
   "execution_count": null,
   "metadata": {
    "collapsed": true
   },
   "outputs": [],
   "source": [
    "c = 'FAMI_HORNO'\n",
    "data_2012[c].value_counts().sort_index().index\n",
    "data_2012[c].value_counts().sort_index()\n",
    "missing_data(data_2012[c])"
   ]
  },
  {
   "cell_type": "code",
   "execution_count": null,
   "metadata": {
    "collapsed": true
   },
   "outputs": [],
   "source": [
    "c = 'FAMI_DVD'\n",
    "data_2012[c].value_counts().sort_index().index\n",
    "data_2012[c].value_counts().sort_index()\n",
    "missing_data(data_2012[c])"
   ]
  },
  {
   "cell_type": "code",
   "execution_count": null,
   "metadata": {
    "collapsed": true
   },
   "outputs": [],
   "source": [
    "c = 'FAMI_MICROONDAS'\n",
    "data_2012[c].value_counts().sort_index().index\n",
    "data_2012[c].value_counts().sort_index()\n",
    "missing_data(data_2012[c])"
   ]
  },
  {
   "cell_type": "code",
   "execution_count": null,
   "metadata": {
    "collapsed": true
   },
   "outputs": [],
   "source": [
    "c = 'FAMI_AUTOMOVIL'\n",
    "data_2012[c].value_counts().sort_index().index\n",
    "data_2012[c].value_counts().sort_index()\n",
    "missing_data(data_2012[c])"
   ]
  },
  {
   "cell_type": "code",
   "execution_count": null,
   "metadata": {
    "collapsed": true
   },
   "outputs": [],
   "source": [
    "c = 'FAMI_INGRESO_FMILIAR_MENSUAL'\n",
    "data_2012[c].value_counts().sort_index().index\n",
    "data_2012[c].value_counts().sort_index()\n",
    "missing_data(data_2012[c])"
   ]
  },
  {
   "cell_type": "code",
   "execution_count": null,
   "metadata": {
    "collapsed": true
   },
   "outputs": [],
   "source": [
    "c = 'ESTU_TRABAJA'\n",
    "data_2012[c].value_counts().sort_index().index\n",
    "data_2012[c].value_counts().sort_index()\n",
    "missing_data(data_2012[c])"
   ]
  },
  {
   "cell_type": "code",
   "execution_count": null,
   "metadata": {
    "collapsed": true
   },
   "outputs": [],
   "source": [
    "c = 'ESTU_HORAS_TRABAJA'\n",
    "data_2012[c].value_counts().sort_index().index\n",
    "data_2012[c].value_counts().sort_index()\n",
    "missing_data(data_2012[c])"
   ]
  },
  {
   "cell_type": "markdown",
   "metadata": {},
   "source": [
    "## TARGETS"
   ]
  },
  {
   "cell_type": "code",
   "execution_count": null,
   "metadata": {
    "collapsed": true
   },
   "outputs": [],
   "source": [
    "c = 'PUNT_LENGUAJE'\n",
    "data_2012[c].value_counts().sort_index().index\n",
    "data_2012[c].value_counts().sort_index()\n",
    "missing_data(data_2012[c])"
   ]
  },
  {
   "cell_type": "code",
   "execution_count": null,
   "metadata": {
    "collapsed": true
   },
   "outputs": [],
   "source": [
    "c = 'PUNT_MATEMATICAS'\n",
    "data_2012[c].value_counts().sort_index().index\n",
    "data_2012[c].value_counts().sort_index()\n",
    "missing_data(data_2012[c])"
   ]
  },
  {
   "cell_type": "code",
   "execution_count": null,
   "metadata": {
    "collapsed": true
   },
   "outputs": [],
   "source": [
    "c = 'PUNT_C_SOCIALES'\n",
    "data_2012[c].value_counts().sort_index().index\n",
    "data_2012[c].value_counts().sort_index()\n",
    "missing_data(data_2012[c])"
   ]
  },
  {
   "cell_type": "code",
   "execution_count": null,
   "metadata": {
    "collapsed": true
   },
   "outputs": [],
   "source": [
    "c = 'PUNT_FILOSOFIA'\n",
    "data_2012[c].value_counts().sort_index().index\n",
    "data_2012[c].value_counts().sort_index()\n",
    "missing_data(data_2012[c])"
   ]
  },
  {
   "cell_type": "code",
   "execution_count": null,
   "metadata": {
    "collapsed": true
   },
   "outputs": [],
   "source": [
    "c = 'PUNT_BIOLOGIA'\n",
    "data_2012[c].value_counts().sort_index().index\n",
    "data_2012[c].value_counts().sort_index()\n",
    "missing_data(data_2012[c])"
   ]
  },
  {
   "cell_type": "code",
   "execution_count": null,
   "metadata": {
    "collapsed": true
   },
   "outputs": [],
   "source": [
    "c = 'PUNT_QUIMICA'\n",
    "data_2012[c].value_counts().sort_index().index\n",
    "data_2012[c].value_counts().sort_index()\n",
    "missing_data(data_2012[c])"
   ]
  },
  {
   "cell_type": "code",
   "execution_count": null,
   "metadata": {
    "collapsed": true
   },
   "outputs": [],
   "source": [
    "c = 'PUNT_FISICA'\n",
    "data_2012[c].value_counts().sort_index().index\n",
    "data_2012[c].value_counts().sort_index()\n",
    "missing_data(data_2012[c])"
   ]
  },
  {
   "cell_type": "code",
   "execution_count": null,
   "metadata": {
    "collapsed": true
   },
   "outputs": [],
   "source": [
    "c = 'PUNT_INGLES'\n",
    "data_2012[c].value_counts().sort_index().index\n",
    "data_2012[c].value_counts().sort_index()\n",
    "missing_data(data_2012[c])"
   ]
  },
  {
   "cell_type": "code",
   "execution_count": null,
   "metadata": {
    "collapsed": true
   },
   "outputs": [],
   "source": [
    "c = 'DESEMP_INGLES'\n",
    "data_2012[c].value_counts().sort_index().index\n",
    "data_2012[c].value_counts().sort_index()\n",
    "missing_data(data_2012[c])"
   ]
  },
  {
   "cell_type": "code",
   "execution_count": null,
   "metadata": {
    "collapsed": true
   },
   "outputs": [],
   "source": [
    "c = 'NOMBRE_COMP_FLEXIBLE'\n",
    "data_2012[c].value_counts().sort_index().index\n",
    "data_2012[c].value_counts().sort_index()\n",
    "missing_data(data_2012[c])"
   ]
  },
  {
   "cell_type": "code",
   "execution_count": null,
   "metadata": {
    "collapsed": true
   },
   "outputs": [],
   "source": [
    "c = 'PUNT_COMP_FLEXIBLE'\n",
    "data_2012[c].value_counts().sort_index().index\n",
    "data_2012[c].value_counts().sort_index()\n",
    "missing_data(data_2012[c])"
   ]
  },
  {
   "cell_type": "code",
   "execution_count": null,
   "metadata": {
    "collapsed": true
   },
   "outputs": [],
   "source": [
    "c = 'DESEMP_COMP_FLEXIBLE'\n",
    "data_2012[c].value_counts().sort_index().index\n",
    "data_2012[c].value_counts().sort_index()\n",
    "missing_data(data_2012[c])"
   ]
  },
  {
   "cell_type": "code",
   "execution_count": null,
   "metadata": {
    "collapsed": false
   },
   "outputs": [],
   "source": [
    "c = 'ESTU_PUESTO'\n",
    "data_2012[c].value_counts().sort_index().index\n",
    "data_2012[c].value_counts().sort_index()\n",
    "missing_data(data_2012[c])"
   ]
  },
  {
   "cell_type": "markdown",
   "metadata": {},
   "source": [
    "## FILE 2: 2012_2"
   ]
  },
  {
   "cell_type": "code",
   "execution_count": 2,
   "metadata": {
    "collapsed": false
   },
   "outputs": [
    {
     "name": "stderr",
     "output_type": "stream",
     "text": [
      "/usr/local/lib/python3.4/dist-packages/IPython/core/interactiveshell.py:2902: DtypeWarning: Columns (11,12,13,14,15,16,24) have mixed types. Specify dtype option on import or set low_memory=False.\n",
      "  interactivity=interactivity, compiler=compiler, result=result)\n"
     ]
    }
   ],
   "source": [
    "data_2012_2 = pd.read_csv('../DatosFTPICFES/SABER11/SB11-BASES_DE_DATOS/SB11-20122-RGSTRO-CLFCCN-V1-0.txt', delimiter='|')"
   ]
  },
  {
   "cell_type": "code",
   "execution_count": 3,
   "metadata": {
    "collapsed": false
   },
   "outputs": [
    {
     "data": {
      "text/plain": [
       "(575646, 114)"
      ]
     },
     "execution_count": 3,
     "metadata": {},
     "output_type": "execute_result"
    }
   ],
   "source": [
    "data_2012_2.shape"
   ]
  },
  {
   "cell_type": "code",
   "execution_count": 4,
   "metadata": {
    "collapsed": false,
    "scrolled": true
   },
   "outputs": [
    {
     "data": {
      "text/html": [
       "<div>\n",
       "<table border=\"1\" class=\"dataframe\">\n",
       "  <thead>\n",
       "    <tr style=\"text-align: right;\">\n",
       "      <th></th>\n",
       "      <th>0</th>\n",
       "      <th>1</th>\n",
       "      <th>2</th>\n",
       "    </tr>\n",
       "  </thead>\n",
       "  <tbody>\n",
       "    <tr>\n",
       "      <th>ESTU_CONSECUTIVO</th>\n",
       "      <td>SABER1120122000001</td>\n",
       "      <td>SABER1120122000002</td>\n",
       "      <td>SABER1120122000003</td>\n",
       "    </tr>\n",
       "    <tr>\n",
       "      <th>PERIODO</th>\n",
       "      <td>20122</td>\n",
       "      <td>20122</td>\n",
       "      <td>20122</td>\n",
       "    </tr>\n",
       "    <tr>\n",
       "      <th>ESTU_EDAD</th>\n",
       "      <td>18</td>\n",
       "      <td>18</td>\n",
       "      <td>17</td>\n",
       "    </tr>\n",
       "    <tr>\n",
       "      <th>ESTU_TIPO_DOCUMENTO</th>\n",
       "      <td>C</td>\n",
       "      <td>T</td>\n",
       "      <td>T</td>\n",
       "    </tr>\n",
       "    <tr>\n",
       "      <th>ESTU_PAIS_RESIDE</th>\n",
       "      <td>CO</td>\n",
       "      <td>CO</td>\n",
       "      <td>CO</td>\n",
       "    </tr>\n",
       "    <tr>\n",
       "      <th>ESTU_GENERO</th>\n",
       "      <td>F</td>\n",
       "      <td>F</td>\n",
       "      <td>F</td>\n",
       "    </tr>\n",
       "    <tr>\n",
       "      <th>ESTU_NACIMIENTO_DIA</th>\n",
       "      <td>4</td>\n",
       "      <td>11</td>\n",
       "      <td>30</td>\n",
       "    </tr>\n",
       "    <tr>\n",
       "      <th>ESTU_NACIMIENTO_MES</th>\n",
       "      <td>1</td>\n",
       "      <td>6</td>\n",
       "      <td>11</td>\n",
       "    </tr>\n",
       "    <tr>\n",
       "      <th>ESTU_NACIMIENTO_ANNO</th>\n",
       "      <td>1994</td>\n",
       "      <td>1994</td>\n",
       "      <td>1994</td>\n",
       "    </tr>\n",
       "    <tr>\n",
       "      <th>ESTU_ETNIA</th>\n",
       "      <td>99</td>\n",
       "      <td>99</td>\n",
       "      <td>99</td>\n",
       "    </tr>\n",
       "    <tr>\n",
       "      <th>ESTU_LIMITA_BAJAVISION</th>\n",
       "      <td>NaN</td>\n",
       "      <td>NaN</td>\n",
       "      <td>NaN</td>\n",
       "    </tr>\n",
       "    <tr>\n",
       "      <th>ESTU_LIMITA_SORDOCEGUERA</th>\n",
       "      <td>NaN</td>\n",
       "      <td>NaN</td>\n",
       "      <td>NaN</td>\n",
       "    </tr>\n",
       "    <tr>\n",
       "      <th>ESTU_LIMITA_COGNITIVA</th>\n",
       "      <td>NaN</td>\n",
       "      <td>NaN</td>\n",
       "      <td>NaN</td>\n",
       "    </tr>\n",
       "    <tr>\n",
       "      <th>ESTU_LIMITA_INVIDENTE</th>\n",
       "      <td>NaN</td>\n",
       "      <td>NaN</td>\n",
       "      <td>NaN</td>\n",
       "    </tr>\n",
       "    <tr>\n",
       "      <th>ESTU_LIMITA_MOTRIZ</th>\n",
       "      <td>NaN</td>\n",
       "      <td>NaN</td>\n",
       "      <td>NaN</td>\n",
       "    </tr>\n",
       "    <tr>\n",
       "      <th>ESTU_LIMITA_SORDOINTERPRETE</th>\n",
       "      <td>NaN</td>\n",
       "      <td>NaN</td>\n",
       "      <td>NaN</td>\n",
       "    </tr>\n",
       "    <tr>\n",
       "      <th>ESTU_LIMITA_SORDONOINTERPRETE</th>\n",
       "      <td>NaN</td>\n",
       "      <td>NaN</td>\n",
       "      <td>NaN</td>\n",
       "    </tr>\n",
       "    <tr>\n",
       "      <th>ESTU_COD_RESIDE_MCPIO</th>\n",
       "      <td>5001</td>\n",
       "      <td>5001</td>\n",
       "      <td>5001</td>\n",
       "    </tr>\n",
       "    <tr>\n",
       "      <th>ESTU_RESIDE_MCPIO</th>\n",
       "      <td>MEDELLIN</td>\n",
       "      <td>MEDELLIN</td>\n",
       "      <td>MEDELLIN</td>\n",
       "    </tr>\n",
       "    <tr>\n",
       "      <th>ESTU_RESIDE_DEPTO</th>\n",
       "      <td>ANTIOQUIA</td>\n",
       "      <td>ANTIOQUIA</td>\n",
       "      <td>ANTIOQUIA</td>\n",
       "    </tr>\n",
       "    <tr>\n",
       "      <th>ESTU_ZONA_RESIDE</th>\n",
       "      <td>6</td>\n",
       "      <td>6</td>\n",
       "      <td>6</td>\n",
       "    </tr>\n",
       "    <tr>\n",
       "      <th>ESTU_AREA_RESIDE</th>\n",
       "      <td>NaN</td>\n",
       "      <td>NaN</td>\n",
       "      <td>NaN</td>\n",
       "    </tr>\n",
       "    <tr>\n",
       "      <th>IND_COD_ICFES_TERMINO</th>\n",
       "      <td>46912</td>\n",
       "      <td>46912</td>\n",
       "      <td>46912</td>\n",
       "    </tr>\n",
       "    <tr>\n",
       "      <th>COLE_COD_ICFES</th>\n",
       "      <td>46912</td>\n",
       "      <td>46912</td>\n",
       "      <td>46912</td>\n",
       "    </tr>\n",
       "    <tr>\n",
       "      <th>COLE_COD_DANE_INSTITUCION</th>\n",
       "      <td>1.05001e+11</td>\n",
       "      <td>1.05001e+11</td>\n",
       "      <td>1.05001e+11</td>\n",
       "    </tr>\n",
       "    <tr>\n",
       "      <th>COLE_NOMBRE_SEDE</th>\n",
       "      <td>INST EDUC SAN PABLO</td>\n",
       "      <td>INST EDUC SAN PABLO</td>\n",
       "      <td>INST EDUC SAN PABLO</td>\n",
       "    </tr>\n",
       "    <tr>\n",
       "      <th>COLE_CALENDARIO</th>\n",
       "      <td>A</td>\n",
       "      <td>A</td>\n",
       "      <td>A</td>\n",
       "    </tr>\n",
       "    <tr>\n",
       "      <th>COLE_GENERO</th>\n",
       "      <td>X</td>\n",
       "      <td>X</td>\n",
       "      <td>X</td>\n",
       "    </tr>\n",
       "    <tr>\n",
       "      <th>COLE_NATURALEZA</th>\n",
       "      <td>O</td>\n",
       "      <td>O</td>\n",
       "      <td>O</td>\n",
       "    </tr>\n",
       "    <tr>\n",
       "      <th>COLE_BILINGUE</th>\n",
       "      <td>0</td>\n",
       "      <td>0</td>\n",
       "      <td>0</td>\n",
       "    </tr>\n",
       "    <tr>\n",
       "      <th>...</th>\n",
       "      <td>...</td>\n",
       "      <td>...</td>\n",
       "      <td>...</td>\n",
       "    </tr>\n",
       "    <tr>\n",
       "      <th>FAMI_NIVEL_SISBEN</th>\n",
       "      <td>NaN</td>\n",
       "      <td>NaN</td>\n",
       "      <td>NaN</td>\n",
       "    </tr>\n",
       "    <tr>\n",
       "      <th>FAMI_PISOSHOGAR</th>\n",
       "      <td>NaN</td>\n",
       "      <td>NaN</td>\n",
       "      <td>NaN</td>\n",
       "    </tr>\n",
       "    <tr>\n",
       "      <th>FAMI_PERSONAS_HOGAR</th>\n",
       "      <td>NaN</td>\n",
       "      <td>NaN</td>\n",
       "      <td>NaN</td>\n",
       "    </tr>\n",
       "    <tr>\n",
       "      <th>FAMI_TELEFONO_FIJO</th>\n",
       "      <td>NaN</td>\n",
       "      <td>NaN</td>\n",
       "      <td>NaN</td>\n",
       "    </tr>\n",
       "    <tr>\n",
       "      <th>FAMI_CELULAR</th>\n",
       "      <td>NaN</td>\n",
       "      <td>NaN</td>\n",
       "      <td>NaN</td>\n",
       "    </tr>\n",
       "    <tr>\n",
       "      <th>FAMI_INTERNET</th>\n",
       "      <td>NaN</td>\n",
       "      <td>NaN</td>\n",
       "      <td>NaN</td>\n",
       "    </tr>\n",
       "    <tr>\n",
       "      <th>FAMI_SERVICIO_TELEVISION</th>\n",
       "      <td>NaN</td>\n",
       "      <td>NaN</td>\n",
       "      <td>NaN</td>\n",
       "    </tr>\n",
       "    <tr>\n",
       "      <th>FAMI_COMPUTADOR</th>\n",
       "      <td>NaN</td>\n",
       "      <td>NaN</td>\n",
       "      <td>NaN</td>\n",
       "    </tr>\n",
       "    <tr>\n",
       "      <th>FAMI_LAVADORA</th>\n",
       "      <td>NaN</td>\n",
       "      <td>NaN</td>\n",
       "      <td>NaN</td>\n",
       "    </tr>\n",
       "    <tr>\n",
       "      <th>FAMI_NEVERA</th>\n",
       "      <td>NaN</td>\n",
       "      <td>NaN</td>\n",
       "      <td>NaN</td>\n",
       "    </tr>\n",
       "    <tr>\n",
       "      <th>FAMI_HORNO</th>\n",
       "      <td>NaN</td>\n",
       "      <td>NaN</td>\n",
       "      <td>NaN</td>\n",
       "    </tr>\n",
       "    <tr>\n",
       "      <th>FAMI_DVD</th>\n",
       "      <td>NaN</td>\n",
       "      <td>NaN</td>\n",
       "      <td>NaN</td>\n",
       "    </tr>\n",
       "    <tr>\n",
       "      <th>FAMI_MICROONDAS</th>\n",
       "      <td>NaN</td>\n",
       "      <td>NaN</td>\n",
       "      <td>NaN</td>\n",
       "    </tr>\n",
       "    <tr>\n",
       "      <th>FAMI_AUTOMOVIL</th>\n",
       "      <td>NaN</td>\n",
       "      <td>NaN</td>\n",
       "      <td>NaN</td>\n",
       "    </tr>\n",
       "    <tr>\n",
       "      <th>FAMI_INGRESO_FMILIAR_MENSUAL</th>\n",
       "      <td>NaN</td>\n",
       "      <td>NaN</td>\n",
       "      <td>NaN</td>\n",
       "    </tr>\n",
       "    <tr>\n",
       "      <th>ESTU_TRABAJA</th>\n",
       "      <td>NaN</td>\n",
       "      <td>NaN</td>\n",
       "      <td>NaN</td>\n",
       "    </tr>\n",
       "    <tr>\n",
       "      <th>ESTU_HORAS_TRABAJA</th>\n",
       "      <td>NaN</td>\n",
       "      <td>NaN</td>\n",
       "      <td>NaN</td>\n",
       "    </tr>\n",
       "    <tr>\n",
       "      <th>PUNT_LENGUAJE</th>\n",
       "      <td>44</td>\n",
       "      <td>42</td>\n",
       "      <td>42</td>\n",
       "    </tr>\n",
       "    <tr>\n",
       "      <th>PUNT_MATEMATICAS</th>\n",
       "      <td>20</td>\n",
       "      <td>26</td>\n",
       "      <td>45</td>\n",
       "    </tr>\n",
       "    <tr>\n",
       "      <th>PUNT_C_SOCIALES</th>\n",
       "      <td>43</td>\n",
       "      <td>29</td>\n",
       "      <td>29</td>\n",
       "    </tr>\n",
       "    <tr>\n",
       "      <th>PUNT_FILOSOFIA</th>\n",
       "      <td>32</td>\n",
       "      <td>25</td>\n",
       "      <td>35</td>\n",
       "    </tr>\n",
       "    <tr>\n",
       "      <th>PUNT_BIOLOGIA</th>\n",
       "      <td>43</td>\n",
       "      <td>36</td>\n",
       "      <td>31</td>\n",
       "    </tr>\n",
       "    <tr>\n",
       "      <th>PUNT_QUIMICA</th>\n",
       "      <td>35</td>\n",
       "      <td>40</td>\n",
       "      <td>45</td>\n",
       "    </tr>\n",
       "    <tr>\n",
       "      <th>PUNT_FISICA</th>\n",
       "      <td>27</td>\n",
       "      <td>44</td>\n",
       "      <td>44</td>\n",
       "    </tr>\n",
       "    <tr>\n",
       "      <th>PUNT_INGLES</th>\n",
       "      <td>38</td>\n",
       "      <td>27</td>\n",
       "      <td>27</td>\n",
       "    </tr>\n",
       "    <tr>\n",
       "      <th>DESEMP_INGLES</th>\n",
       "      <td>A-</td>\n",
       "      <td>A-</td>\n",
       "      <td>A-</td>\n",
       "    </tr>\n",
       "    <tr>\n",
       "      <th>NOMBRE_COMP_FLEXIBLE</th>\n",
       "      <td>PROFUNDIZACIÓN EN LENGUAJE</td>\n",
       "      <td>VIOLENCIA Y SOCIEDAD</td>\n",
       "      <td>VIOLENCIA Y SOCIEDAD</td>\n",
       "    </tr>\n",
       "    <tr>\n",
       "      <th>PUNT_COMP_FLEXIBLE</th>\n",
       "      <td>5</td>\n",
       "      <td>48</td>\n",
       "      <td>34</td>\n",
       "    </tr>\n",
       "    <tr>\n",
       "      <th>DESEMP_COMP_FLEXIBLE</th>\n",
       "      <td>I</td>\n",
       "      <td>NaN</td>\n",
       "      <td>NaN</td>\n",
       "    </tr>\n",
       "    <tr>\n",
       "      <th>ESTU_PUESTO</th>\n",
       "      <td>959</td>\n",
       "      <td>965</td>\n",
       "      <td>860</td>\n",
       "    </tr>\n",
       "  </tbody>\n",
       "</table>\n",
       "<p>114 rows × 3 columns</p>\n",
       "</div>"
      ],
      "text/plain": [
       "                                                        0  \\\n",
       "ESTU_CONSECUTIVO                       SABER1120122000001   \n",
       "PERIODO                                             20122   \n",
       "ESTU_EDAD                                              18   \n",
       "ESTU_TIPO_DOCUMENTO                                     C   \n",
       "ESTU_PAIS_RESIDE                                       CO   \n",
       "ESTU_GENERO                                             F   \n",
       "ESTU_NACIMIENTO_DIA                                     4   \n",
       "ESTU_NACIMIENTO_MES                                     1   \n",
       "ESTU_NACIMIENTO_ANNO                                 1994   \n",
       "ESTU_ETNIA                                             99   \n",
       "ESTU_LIMITA_BAJAVISION                                NaN   \n",
       "ESTU_LIMITA_SORDOCEGUERA                              NaN   \n",
       "ESTU_LIMITA_COGNITIVA                                 NaN   \n",
       "ESTU_LIMITA_INVIDENTE                                 NaN   \n",
       "ESTU_LIMITA_MOTRIZ                                    NaN   \n",
       "ESTU_LIMITA_SORDOINTERPRETE                           NaN   \n",
       "ESTU_LIMITA_SORDONOINTERPRETE                         NaN   \n",
       "ESTU_COD_RESIDE_MCPIO                                5001   \n",
       "ESTU_RESIDE_MCPIO                                MEDELLIN   \n",
       "ESTU_RESIDE_DEPTO                               ANTIOQUIA   \n",
       "ESTU_ZONA_RESIDE                                        6   \n",
       "ESTU_AREA_RESIDE                                      NaN   \n",
       "IND_COD_ICFES_TERMINO                               46912   \n",
       "COLE_COD_ICFES                                      46912   \n",
       "COLE_COD_DANE_INSTITUCION                     1.05001e+11   \n",
       "COLE_NOMBRE_SEDE                      INST EDUC SAN PABLO   \n",
       "COLE_CALENDARIO                                         A   \n",
       "COLE_GENERO                                             X   \n",
       "COLE_NATURALEZA                                         O   \n",
       "COLE_BILINGUE                                           0   \n",
       "...                                                   ...   \n",
       "FAMI_NIVEL_SISBEN                                     NaN   \n",
       "FAMI_PISOSHOGAR                                       NaN   \n",
       "FAMI_PERSONAS_HOGAR                                   NaN   \n",
       "FAMI_TELEFONO_FIJO                                    NaN   \n",
       "FAMI_CELULAR                                          NaN   \n",
       "FAMI_INTERNET                                         NaN   \n",
       "FAMI_SERVICIO_TELEVISION                              NaN   \n",
       "FAMI_COMPUTADOR                                       NaN   \n",
       "FAMI_LAVADORA                                         NaN   \n",
       "FAMI_NEVERA                                           NaN   \n",
       "FAMI_HORNO                                            NaN   \n",
       "FAMI_DVD                                              NaN   \n",
       "FAMI_MICROONDAS                                       NaN   \n",
       "FAMI_AUTOMOVIL                                        NaN   \n",
       "FAMI_INGRESO_FMILIAR_MENSUAL                          NaN   \n",
       "ESTU_TRABAJA                                          NaN   \n",
       "ESTU_HORAS_TRABAJA                                    NaN   \n",
       "PUNT_LENGUAJE                                          44   \n",
       "PUNT_MATEMATICAS                                       20   \n",
       "PUNT_C_SOCIALES                                        43   \n",
       "PUNT_FILOSOFIA                                         32   \n",
       "PUNT_BIOLOGIA                                          43   \n",
       "PUNT_QUIMICA                                           35   \n",
       "PUNT_FISICA                                            27   \n",
       "PUNT_INGLES                                            38   \n",
       "DESEMP_INGLES                                          A-   \n",
       "NOMBRE_COMP_FLEXIBLE           PROFUNDIZACIÓN EN LENGUAJE   \n",
       "PUNT_COMP_FLEXIBLE                                      5   \n",
       "DESEMP_COMP_FLEXIBLE                                    I   \n",
       "ESTU_PUESTO                                           959   \n",
       "\n",
       "                                                  1                     2  \n",
       "ESTU_CONSECUTIVO                 SABER1120122000002    SABER1120122000003  \n",
       "PERIODO                                       20122                 20122  \n",
       "ESTU_EDAD                                        18                    17  \n",
       "ESTU_TIPO_DOCUMENTO                               T                     T  \n",
       "ESTU_PAIS_RESIDE                                 CO                    CO  \n",
       "ESTU_GENERO                                       F                     F  \n",
       "ESTU_NACIMIENTO_DIA                              11                    30  \n",
       "ESTU_NACIMIENTO_MES                               6                    11  \n",
       "ESTU_NACIMIENTO_ANNO                           1994                  1994  \n",
       "ESTU_ETNIA                                       99                    99  \n",
       "ESTU_LIMITA_BAJAVISION                          NaN                   NaN  \n",
       "ESTU_LIMITA_SORDOCEGUERA                        NaN                   NaN  \n",
       "ESTU_LIMITA_COGNITIVA                           NaN                   NaN  \n",
       "ESTU_LIMITA_INVIDENTE                           NaN                   NaN  \n",
       "ESTU_LIMITA_MOTRIZ                              NaN                   NaN  \n",
       "ESTU_LIMITA_SORDOINTERPRETE                     NaN                   NaN  \n",
       "ESTU_LIMITA_SORDONOINTERPRETE                   NaN                   NaN  \n",
       "ESTU_COD_RESIDE_MCPIO                          5001                  5001  \n",
       "ESTU_RESIDE_MCPIO                          MEDELLIN              MEDELLIN  \n",
       "ESTU_RESIDE_DEPTO                         ANTIOQUIA             ANTIOQUIA  \n",
       "ESTU_ZONA_RESIDE                                  6                     6  \n",
       "ESTU_AREA_RESIDE                                NaN                   NaN  \n",
       "IND_COD_ICFES_TERMINO                         46912                 46912  \n",
       "COLE_COD_ICFES                                46912                 46912  \n",
       "COLE_COD_DANE_INSTITUCION               1.05001e+11           1.05001e+11  \n",
       "COLE_NOMBRE_SEDE                INST EDUC SAN PABLO   INST EDUC SAN PABLO  \n",
       "COLE_CALENDARIO                                   A                     A  \n",
       "COLE_GENERO                                       X                     X  \n",
       "COLE_NATURALEZA                                   O                     O  \n",
       "COLE_BILINGUE                                     0                     0  \n",
       "...                                             ...                   ...  \n",
       "FAMI_NIVEL_SISBEN                               NaN                   NaN  \n",
       "FAMI_PISOSHOGAR                                 NaN                   NaN  \n",
       "FAMI_PERSONAS_HOGAR                             NaN                   NaN  \n",
       "FAMI_TELEFONO_FIJO                              NaN                   NaN  \n",
       "FAMI_CELULAR                                    NaN                   NaN  \n",
       "FAMI_INTERNET                                   NaN                   NaN  \n",
       "FAMI_SERVICIO_TELEVISION                        NaN                   NaN  \n",
       "FAMI_COMPUTADOR                                 NaN                   NaN  \n",
       "FAMI_LAVADORA                                   NaN                   NaN  \n",
       "FAMI_NEVERA                                     NaN                   NaN  \n",
       "FAMI_HORNO                                      NaN                   NaN  \n",
       "FAMI_DVD                                        NaN                   NaN  \n",
       "FAMI_MICROONDAS                                 NaN                   NaN  \n",
       "FAMI_AUTOMOVIL                                  NaN                   NaN  \n",
       "FAMI_INGRESO_FMILIAR_MENSUAL                    NaN                   NaN  \n",
       "ESTU_TRABAJA                                    NaN                   NaN  \n",
       "ESTU_HORAS_TRABAJA                              NaN                   NaN  \n",
       "PUNT_LENGUAJE                                    42                    42  \n",
       "PUNT_MATEMATICAS                                 26                    45  \n",
       "PUNT_C_SOCIALES                                  29                    29  \n",
       "PUNT_FILOSOFIA                                   25                    35  \n",
       "PUNT_BIOLOGIA                                    36                    31  \n",
       "PUNT_QUIMICA                                     40                    45  \n",
       "PUNT_FISICA                                      44                    44  \n",
       "PUNT_INGLES                                      27                    27  \n",
       "DESEMP_INGLES                                    A-                    A-  \n",
       "NOMBRE_COMP_FLEXIBLE           VIOLENCIA Y SOCIEDAD  VIOLENCIA Y SOCIEDAD  \n",
       "PUNT_COMP_FLEXIBLE                               48                    34  \n",
       "DESEMP_COMP_FLEXIBLE                            NaN                   NaN  \n",
       "ESTU_PUESTO                                     965                   860  \n",
       "\n",
       "[114 rows x 3 columns]"
      ]
     },
     "execution_count": 4,
     "metadata": {},
     "output_type": "execute_result"
    }
   ],
   "source": [
    "data_2012_2.head(3).T"
   ]
  },
  {
   "cell_type": "code",
   "execution_count": 6,
   "metadata": {
    "collapsed": true
   },
   "outputs": [],
   "source": [
    "data_2012_2 = data_2012_2.drop(['ESTU_CONSECUTIVO', 'PERIODO', 'ESTU_TIPO_DOCUMENTO', 'ESTU_COD_RESIDE_MCPIO',\n",
    "                               'COLE_NOMBRE_SEDE', 'ESTU_IES_COD_MPIO_DESEADA', 'ESTU_IES_DESEADA_NOMBRE', \n",
    "                                'ESTU_COD_MCPIO_PRESENTACION', 'ESTU_EXAM_NOMBREEXAMEN'], axis=1)"
   ]
  },
  {
   "cell_type": "code",
   "execution_count": null,
   "metadata": {
    "collapsed": true
   },
   "outputs": [],
   "source": [
    "c = 'ESTU_EDAD'\n",
    "data_2012_2[c].value_counts().sort_index().index\n",
    "data_2012_2[c].value_counts().sort_index()\n",
    "missing_data(data_2012_2[c])"
   ]
  },
  {
   "cell_type": "code",
   "execution_count": null,
   "metadata": {
    "collapsed": true
   },
   "outputs": [],
   "source": [
    "c = 'ESTU_PAIS_RESIDE'\n",
    "data_2012_2[c].value_counts().sort_index().index\n",
    "data_2012_2[c].value_counts().sort_index()\n",
    "missing_data(data_2012_2[c])"
   ]
  },
  {
   "cell_type": "code",
   "execution_count": null,
   "metadata": {
    "collapsed": true
   },
   "outputs": [],
   "source": [
    "c = 'ESTU_GENERO'\n",
    "data_2012_2[c].value_counts().sort_index().index\n",
    "data_2012_2[c].value_counts().sort_index()\n",
    "missing_data(data_2012_2[c])"
   ]
  },
  {
   "cell_type": "code",
   "execution_count": null,
   "metadata": {
    "collapsed": true
   },
   "outputs": [],
   "source": [
    "c = 'ESTU_NACIMIENTO_DIA'\n",
    "data_2012_2[c].value_counts().sort_index().index\n",
    "data_2012_2[c].value_counts().sort_index()\n",
    "missing_data(data_2012_2[c])"
   ]
  },
  {
   "cell_type": "code",
   "execution_count": null,
   "metadata": {
    "collapsed": true
   },
   "outputs": [],
   "source": [
    "c = 'ESTU_NACIMIENTO_MES'\n",
    "data_2012_2[c].value_counts().sort_index().index\n",
    "data_2012_2[c].value_counts().sort_index()\n",
    "missing_data(data_2012_2[c])"
   ]
  },
  {
   "cell_type": "code",
   "execution_count": null,
   "metadata": {
    "collapsed": true
   },
   "outputs": [],
   "source": [
    "c = 'ESTU_NACIMIENTO_ANNO'\n",
    "data_2012_2[c].value_counts().sort_index().index\n",
    "data_2012_2[c].value_counts().sort_index()\n",
    "missing_data(data_2012_2[c])"
   ]
  },
  {
   "cell_type": "code",
   "execution_count": null,
   "metadata": {
    "collapsed": true
   },
   "outputs": [],
   "source": [
    "c = 'ESTU_ETNIA'\n",
    "data_2012_2[c].value_counts().sort_index().index\n",
    "data_2012_2[c].value_counts().sort_index()\n",
    "missing_data(data_2012_2[c])"
   ]
  },
  {
   "cell_type": "code",
   "execution_count": null,
   "metadata": {
    "collapsed": true
   },
   "outputs": [],
   "source": [
    "c = 'ESTU_LIMITA_BAJAVISION'\n",
    "data_2012_2[c].value_counts().sort_index().index\n",
    "data_2012_2[c].value_counts().sort_index()\n",
    "missing_data(data_2012_2[c])"
   ]
  },
  {
   "cell_type": "code",
   "execution_count": null,
   "metadata": {
    "collapsed": true
   },
   "outputs": [],
   "source": [
    "c = 'ESTU_LIMITA_SORDOCEGUERA'\n",
    "data_2012_2[c].value_counts().sort_index().index\n",
    "data_2012_2[c].value_counts().sort_index()\n",
    "missing_data(data_2012_2[c])"
   ]
  },
  {
   "cell_type": "code",
   "execution_count": null,
   "metadata": {
    "collapsed": true
   },
   "outputs": [],
   "source": [
    "c = 'ESTU_LIMITA_COGNITIVA'\n",
    "data_2012_2[c].value_counts().sort_index().index\n",
    "data_2012_2[c].value_counts().sort_index()\n",
    "missing_data(data_2012_2[c])"
   ]
  },
  {
   "cell_type": "code",
   "execution_count": null,
   "metadata": {
    "collapsed": true
   },
   "outputs": [],
   "source": [
    "c = 'ESTU_LIMITA_INVIDENTE'\n",
    "data_2012_2[c].value_counts().sort_index().index\n",
    "data_2012_2[c].value_counts().sort_index()\n",
    "missing_data(data_2012_2[c])"
   ]
  },
  {
   "cell_type": "code",
   "execution_count": null,
   "metadata": {
    "collapsed": true
   },
   "outputs": [],
   "source": [
    "c = 'ESTU_LIMITA_MOTRIZ'\n",
    "data_2012_2[c].value_counts().sort_index().index\n",
    "data_2012_2[c].value_counts().sort_index()\n",
    "missing_data(data_2012_2[c])"
   ]
  },
  {
   "cell_type": "code",
   "execution_count": null,
   "metadata": {
    "collapsed": true
   },
   "outputs": [],
   "source": [
    "c = 'ESTU_LIMITA_SORDOINTERPRETE'\n",
    "data_2012_2[c].value_counts().sort_index().index\n",
    "data_2012_2[c].value_counts().sort_index()\n",
    "missing_data(data_2012_2[c])"
   ]
  },
  {
   "cell_type": "code",
   "execution_count": null,
   "metadata": {
    "collapsed": true
   },
   "outputs": [],
   "source": [
    "c = 'ESTU_LIMITA_SORDONOINTERPRETE'\n",
    "data_2012_2[c].value_counts().sort_index().index\n",
    "data_2012_2[c].value_counts().sort_index()\n",
    "missing_data(data_2012_2[c])"
   ]
  },
  {
   "cell_type": "code",
   "execution_count": null,
   "metadata": {
    "collapsed": true
   },
   "outputs": [],
   "source": [
    "c = 'ESTU_RESIDE_MCPIO'\n",
    "data_2012_2[c].value_counts().sort_index().index\n",
    "data_2012_2[c].value_counts().sort_index()\n",
    "missing_data(data_2012_2[c])"
   ]
  },
  {
   "cell_type": "code",
   "execution_count": null,
   "metadata": {
    "collapsed": true
   },
   "outputs": [],
   "source": [
    "c = 'ESTU_RESIDE_DEPTO'\n",
    "data_2012_2[c].value_counts().sort_index().index\n",
    "data_2012_2[c].value_counts().sort_index()\n",
    "missing_data(data_2012_2[c])"
   ]
  },
  {
   "cell_type": "code",
   "execution_count": null,
   "metadata": {
    "collapsed": true
   },
   "outputs": [],
   "source": [
    "c = 'ESTU_ZONA_RESIDE'\n",
    "data_2012_2[c].value_counts().sort_index().index\n",
    "data_2012_2[c].value_counts().sort_index()\n",
    "missing_data(data_2012_2[c])"
   ]
  },
  {
   "cell_type": "code",
   "execution_count": null,
   "metadata": {
    "collapsed": true
   },
   "outputs": [],
   "source": [
    "c = 'ESTU_AREA_RESIDE'\n",
    "data_2012_2[c].value_counts().sort_index().index\n",
    "data_2012_2[c].value_counts().sort_index()\n",
    "missing_data(data_2012_2[c])"
   ]
  },
  {
   "cell_type": "code",
   "execution_count": null,
   "metadata": {
    "collapsed": true
   },
   "outputs": [],
   "source": [
    "c = 'IND_COD_ICFES_TERMINO'\n",
    "data_2012_2[c].value_counts().sort_index().index\n",
    "data_2012_2[c].value_counts().sort_index()\n",
    "missing_data(data_2012_2[c])"
   ]
  },
  {
   "cell_type": "code",
   "execution_count": null,
   "metadata": {
    "collapsed": true
   },
   "outputs": [],
   "source": [
    "c = 'COLE_COD_ICFES'\n",
    "data_2012_2[c].value_counts().sort_index().index\n",
    "data_2012_2[c].value_counts().sort_index()\n",
    "missing_data(data_2012_2[c])"
   ]
  },
  {
   "cell_type": "code",
   "execution_count": null,
   "metadata": {
    "collapsed": true
   },
   "outputs": [],
   "source": [
    "c = 'COLE_COD_DANE_INSTITUCION'\n",
    "data_2012_2[c].value_counts().sort_index().index\n",
    "data_2012_2[c].value_counts().sort_index()\n",
    "missing_data(data_2012_2[c])"
   ]
  },
  {
   "cell_type": "code",
   "execution_count": null,
   "metadata": {
    "collapsed": true
   },
   "outputs": [],
   "source": [
    "c = 'COLE_CALENDARIO'\n",
    "data_2012_2[c].value_counts().sort_index().index\n",
    "data_2012_2[c].value_counts().sort_index()\n",
    "missing_data(data_2012_2[c])"
   ]
  },
  {
   "cell_type": "code",
   "execution_count": null,
   "metadata": {
    "collapsed": true
   },
   "outputs": [],
   "source": [
    "c = 'COLE_GENERO'\n",
    "data_2012_2[c].value_counts().sort_index().index\n",
    "data_2012_2[c].value_counts().sort_index()\n",
    "missing_data(data_2012_2[c])"
   ]
  },
  {
   "cell_type": "code",
   "execution_count": null,
   "metadata": {
    "collapsed": true
   },
   "outputs": [],
   "source": [
    "c = 'COLE_NATURALEZA'\n",
    "data_2012_2[c].value_counts().sort_index().index\n",
    "data_2012_2[c].value_counts().sort_index()\n",
    "missing_data(data_2012_2[c])"
   ]
  },
  {
   "cell_type": "code",
   "execution_count": null,
   "metadata": {
    "collapsed": true
   },
   "outputs": [],
   "source": [
    "c = 'COLE_BILINGUE'\n",
    "data_2012_2[c].value_counts().sort_index().index\n",
    "data_2012_2[c].value_counts().sort_index()\n",
    "missing_data(data_2012_2[c])"
   ]
  },
  {
   "cell_type": "code",
   "execution_count": null,
   "metadata": {
    "collapsed": true
   },
   "outputs": [],
   "source": [
    "c = 'COLE_JORNADA'\n",
    "data_2012_2[c].value_counts().sort_index().index\n",
    "data_2012_2[c].value_counts().sort_index()\n",
    "missing_data(data_2012_2[c])"
   ]
  },
  {
   "cell_type": "code",
   "execution_count": null,
   "metadata": {
    "collapsed": true
   },
   "outputs": [],
   "source": [
    "c = 'COLE_CARACTER'\n",
    "data_2012_2[c].value_counts().sort_index().index\n",
    "data_2012_2[c].value_counts().sort_index()\n",
    "missing_data(data_2012_2[c])"
   ]
  },
  {
   "cell_type": "code",
   "execution_count": null,
   "metadata": {
    "collapsed": true
   },
   "outputs": [],
   "source": [
    "c = 'COLE_VALOR_PENSION'\n",
    "data_2012_2[c].value_counts().sort_index().index\n",
    "data_2012_2[c].value_counts().sort_index()\n",
    "missing_data(data_2012_2[c])"
   ]
  },
  {
   "cell_type": "code",
   "execution_count": null,
   "metadata": {
    "collapsed": true
   },
   "outputs": [],
   "source": [
    "c = 'ESTU_CARRDESEADA_TIPO'\n",
    "data_2012_2[c].value_counts().sort_index().index\n",
    "data_2012_2[c].value_counts().sort_index()\n",
    "missing_data(data_2012_2[c])"
   ]
  },
  {
   "cell_type": "code",
   "execution_count": null,
   "metadata": {
    "collapsed": true
   },
   "outputs": [],
   "source": [
    "c = 'ESTU_IES_COD_DESEADA'\n",
    "data_2012_2[c].value_counts().sort_index().index\n",
    "data_2012_2[c].value_counts().sort_index()\n",
    "missing_data(data_2012_2[c])"
   ]
  },
  {
   "cell_type": "code",
   "execution_count": null,
   "metadata": {
    "collapsed": true
   },
   "outputs": [],
   "source": [
    "c = 'ESTU_IES_DEPT_DESEADA'\n",
    "data_2012_2[c].value_counts().sort_index().index\n",
    "data_2012_2[c].value_counts().sort_index()\n",
    "missing_data(data_2012_2[c])"
   ]
  },
  {
   "cell_type": "code",
   "execution_count": null,
   "metadata": {
    "collapsed": true
   },
   "outputs": [],
   "source": [
    "c = 'ESTU_IES_MPIO_DESEADA'\n",
    "data_2012_2[c].value_counts().sort_index().index\n",
    "data_2012_2[c].value_counts().sort_index()\n",
    "missing_data(data_2012_2[c])"
   ]
  },
  {
   "cell_type": "code",
   "execution_count": null,
   "metadata": {
    "collapsed": true
   },
   "outputs": [],
   "source": [
    "c = 'ESTU_TOTAL_ALUMNOS_CURSO'\n",
    "data_2012_2[c].value_counts().sort_index().index\n",
    "data_2012_2[c].value_counts().sort_index()\n",
    "missing_data(data_2012_2[c])"
   ]
  },
  {
   "cell_type": "code",
   "execution_count": null,
   "metadata": {
    "collapsed": true
   },
   "outputs": [],
   "source": [
    "c = 'ESTU_ANO_MATRICULA_PRIMERO'\n",
    "data_2012_2[c].value_counts().sort_index().index\n",
    "data_2012_2[c].value_counts().sort_index()\n",
    "missing_data(data_2012_2[c])"
   ]
  },
  {
   "cell_type": "code",
   "execution_count": null,
   "metadata": {
    "collapsed": true
   },
   "outputs": [],
   "source": [
    "c = 'ESTU_ANOS_COLEGIO_ACTUAL'\n",
    "data_2012_2[c].value_counts().sort_index().index\n",
    "data_2012_2[c].value_counts().sort_index()\n",
    "missing_data(data_2012_2[c])"
   ]
  },
  {
   "cell_type": "code",
   "execution_count": null,
   "metadata": {
    "collapsed": true
   },
   "outputs": [],
   "source": [
    "c = 'ESTU_ANO_MATRICULA_SEXTO'\n",
    "data_2012_2[c].value_counts().sort_index().index\n",
    "data_2012_2[c].value_counts().sort_index()\n",
    "missing_data(data_2012_2[c])"
   ]
  },
  {
   "cell_type": "code",
   "execution_count": null,
   "metadata": {
    "collapsed": true
   },
   "outputs": [],
   "source": [
    "c = 'ESTU_ANOS_PREESCOLAR'\n",
    "data_2012_2[c].value_counts().sort_index().index\n",
    "data_2012_2[c].value_counts().sort_index()\n",
    "missing_data(data_2012_2[c])"
   ]
  },
  {
   "cell_type": "code",
   "execution_count": null,
   "metadata": {
    "collapsed": true
   },
   "outputs": [],
   "source": [
    "c = 'ESTU_CUANTOS_COLE_ESTUDIO'\n",
    "data_2012_2[c].value_counts().sort_index().index\n",
    "data_2012_2[c].value_counts().sort_index()\n",
    "missing_data(data_2012_2[c])"
   ]
  },
  {
   "cell_type": "code",
   "execution_count": null,
   "metadata": {
    "collapsed": true
   },
   "outputs": [],
   "source": [
    "c = 'ESTU_REPROBO_CUARTO'\n",
    "data_2012_2[c].value_counts().sort_index().index\n",
    "data_2012_2[c].value_counts().sort_index()\n",
    "missing_data(data_2012_2[c])"
   ]
  },
  {
   "cell_type": "code",
   "execution_count": null,
   "metadata": {
    "collapsed": true
   },
   "outputs": [],
   "source": [
    "c = 'ESTU_REPROBO_DECIMO'\n",
    "data_2012_2[c].value_counts().sort_index().index\n",
    "data_2012_2[c].value_counts().sort_index()\n",
    "missing_data(data_2012_2[c])"
   ]
  },
  {
   "cell_type": "code",
   "execution_count": null,
   "metadata": {
    "collapsed": true
   },
   "outputs": [],
   "source": [
    "c = 'ESTU_REPROBO_NOVENO'\n",
    "data_2012_2[c].value_counts().sort_index().index\n",
    "data_2012_2[c].value_counts().sort_index()\n",
    "missing_data(data_2012_2[c])"
   ]
  },
  {
   "cell_type": "code",
   "execution_count": null,
   "metadata": {
    "collapsed": true
   },
   "outputs": [],
   "source": [
    "c = 'ESTU_REPROBO_OCTAVO'\n",
    "data_2012_2[c].value_counts().sort_index().index\n",
    "data_2012_2[c].value_counts().sort_index()\n",
    "missing_data(data_2012_2[c])"
   ]
  },
  {
   "cell_type": "code",
   "execution_count": null,
   "metadata": {
    "collapsed": true
   },
   "outputs": [],
   "source": [
    "c = 'ESTU_REPROBO_PRIMERO'\n",
    "data_2012_2[c].value_counts().sort_index().index\n",
    "data_2012_2[c].value_counts().sort_index()\n",
    "missing_data(data_2012_2[c])"
   ]
  },
  {
   "cell_type": "code",
   "execution_count": null,
   "metadata": {
    "collapsed": true
   },
   "outputs": [],
   "source": [
    "c = 'ESTU_REPROBO_QUINTO'\n",
    "data_2012_2[c].value_counts().sort_index().index\n",
    "data_2012_2[c].value_counts().sort_index()\n",
    "missing_data(data_2012_2[c])"
   ]
  },
  {
   "cell_type": "code",
   "execution_count": null,
   "metadata": {
    "collapsed": true
   },
   "outputs": [],
   "source": [
    "c = 'ESTU_REPROBO_SEGUNDO'\n",
    "data_2012_2[c].value_counts().sort_index().index\n",
    "data_2012_2[c].value_counts().sort_index()\n",
    "missing_data(data_2012_2[c])"
   ]
  },
  {
   "cell_type": "code",
   "execution_count": null,
   "metadata": {
    "collapsed": true
   },
   "outputs": [],
   "source": [
    "c = 'ESTU_REPROBO_SEPTIMO'\n",
    "data_2012_2[c].value_counts().sort_index().index\n",
    "data_2012_2[c].value_counts().sort_index()\n",
    "missing_data(data_2012_2[c])"
   ]
  },
  {
   "cell_type": "code",
   "execution_count": null,
   "metadata": {
    "collapsed": true
   },
   "outputs": [],
   "source": [
    "c = 'ESTU_REPROBO_SEXTO'\n",
    "data_2012_2[c].value_counts().sort_index().index\n",
    "data_2012_2[c].value_counts().sort_index()\n",
    "missing_data(data_2012_2[c])"
   ]
  },
  {
   "cell_type": "code",
   "execution_count": null,
   "metadata": {
    "collapsed": true
   },
   "outputs": [],
   "source": [
    "c = 'ESTU_REPROBO_TERCERO'\n",
    "data_2012_2[c].value_counts().sort_index().index\n",
    "data_2012_2[c].value_counts().sort_index()\n",
    "missing_data(data_2012_2[c])"
   ]
  },
  {
   "cell_type": "code",
   "execution_count": null,
   "metadata": {
    "collapsed": true
   },
   "outputs": [],
   "source": [
    "c = 'ESTU_REPROBO_ONCE_MAS'\n",
    "data_2012_2[c].value_counts().sort_index().index\n",
    "data_2012_2[c].value_counts().sort_index()\n",
    "missing_data(data_2012_2[c])"
   ]
  },
  {
   "cell_type": "code",
   "execution_count": null,
   "metadata": {
    "collapsed": true
   },
   "outputs": [],
   "source": [
    "c = 'ESTU_POR_MEJORARPOSICIONSOCIAL'\n",
    "data_2012_2[c].value_counts().sort_index().index\n",
    "data_2012_2[c].value_counts().sort_index()\n",
    "missing_data(data_2012_2[c])"
   ]
  },
  {
   "cell_type": "code",
   "execution_count": null,
   "metadata": {
    "collapsed": true
   },
   "outputs": [],
   "source": [
    "c = 'ESTU_POR_COLOMBIAAPRENDE'\n",
    "data_2012_2[c].value_counts().sort_index().index\n",
    "data_2012_2[c].value_counts().sort_index()\n",
    "missing_data(data_2012_2[c])"
   ]
  },
  {
   "cell_type": "code",
   "execution_count": null,
   "metadata": {
    "collapsed": true
   },
   "outputs": [],
   "source": [
    "c = 'ESTU_POR_INFLUENCIAALGUIEN'\n",
    "data_2012_2[c].value_counts().sort_index().index\n",
    "data_2012_2[c].value_counts().sort_index()\n",
    "missing_data(data_2012_2[c])"
   ]
  },
  {
   "cell_type": "code",
   "execution_count": null,
   "metadata": {
    "collapsed": true
   },
   "outputs": [],
   "source": [
    "c = 'ESTU_POR_INTERESPERSONAL'\n",
    "data_2012_2[c].value_counts().sort_index().index\n",
    "data_2012_2[c].value_counts().sort_index()\n",
    "missing_data(data_2012_2[c])"
   ]
  },
  {
   "cell_type": "code",
   "execution_count": null,
   "metadata": {
    "collapsed": true
   },
   "outputs": [],
   "source": [
    "c = 'ESTU_POR_BUSCANDOCARRERA'\n",
    "data_2012_2[c].value_counts().sort_index().index\n",
    "data_2012_2[c].value_counts().sort_index()\n",
    "missing_data(data_2012_2[c])"
   ]
  },
  {
   "cell_type": "code",
   "execution_count": null,
   "metadata": {
    "collapsed": true
   },
   "outputs": [],
   "source": [
    "c = 'ESTU_POR_TRADICIONFAMILIAR'\n",
    "data_2012_2[c].value_counts().sort_index().index\n",
    "data_2012_2[c].value_counts().sort_index()\n",
    "missing_data(data_2012_2[c])"
   ]
  },
  {
   "cell_type": "code",
   "execution_count": null,
   "metadata": {
    "collapsed": true
   },
   "outputs": [],
   "source": [
    "c = 'ESTU_POR_ORIENTACIONVOCACIONAL'\n",
    "data_2012_2[c].value_counts().sort_index().index\n",
    "data_2012_2[c].value_counts().sort_index()\n",
    "missing_data(data_2012_2[c])"
   ]
  },
  {
   "cell_type": "code",
   "execution_count": null,
   "metadata": {
    "collapsed": true
   },
   "outputs": [],
   "source": [
    "c = 'ESTU_RAZON_RETIRO'\n",
    "data_2012_2[c].value_counts().sort_index().index\n",
    "data_2012_2[c].value_counts().sort_index()\n",
    "missing_data(data_2012_2[c])"
   ]
  },
  {
   "cell_type": "code",
   "execution_count": null,
   "metadata": {
    "collapsed": true
   },
   "outputs": [],
   "source": [
    "c = 'ESTU_POR_AMIGOSESTUDIANDO'\n",
    "data_2012_2[c].value_counts().sort_index().index\n",
    "data_2012_2[c].value_counts().sort_index()\n",
    "missing_data(data_2012_2[c])"
   ]
  },
  {
   "cell_type": "code",
   "execution_count": null,
   "metadata": {
    "collapsed": true
   },
   "outputs": [],
   "source": [
    "c = 'ESTU_POR_COSTOMATRICULA'\n",
    "data_2012_2[c].value_counts().sort_index().index\n",
    "data_2012_2[c].value_counts().sort_index()\n",
    "missing_data(data_2012_2[c])"
   ]
  },
  {
   "cell_type": "code",
   "execution_count": null,
   "metadata": {
    "collapsed": true
   },
   "outputs": [],
   "source": [
    "c = 'ESTU_POR_OPORTUNIDADES'\n",
    "data_2012_2[c].value_counts().sort_index().index\n",
    "data_2012_2[c].value_counts().sort_index()\n",
    "missing_data(data_2012_2[c])"
   ]
  },
  {
   "cell_type": "code",
   "execution_count": null,
   "metadata": {
    "collapsed": true
   },
   "outputs": [],
   "source": [
    "c = 'ESTU_POR_OTRARAZON'\n",
    "data_2012_2[c].value_counts().sort_index().index\n",
    "data_2012_2[c].value_counts().sort_index()\n",
    "missing_data(data_2012_2[c])"
   ]
  },
  {
   "cell_type": "code",
   "execution_count": null,
   "metadata": {
    "collapsed": true
   },
   "outputs": [],
   "source": [
    "c = 'ESTU_PRESTIGIOINSTITUCION'\n",
    "data_2012_2[c].value_counts().sort_index().index\n",
    "data_2012_2[c].value_counts().sort_index()\n",
    "missing_data(data_2012_2[c])"
   ]
  },
  {
   "cell_type": "code",
   "execution_count": null,
   "metadata": {
    "collapsed": true
   },
   "outputs": [],
   "source": [
    "c = 'ESTU_POR_UBICACION'\n",
    "data_2012_2[c].value_counts().sort_index().index\n",
    "data_2012_2[c].value_counts().sort_index()\n",
    "missing_data(data_2012_2[c])"
   ]
  },
  {
   "cell_type": "code",
   "execution_count": null,
   "metadata": {
    "collapsed": true
   },
   "outputs": [],
   "source": [
    "c = 'ESTU_POR_UNICAQUEOFRECE'\n",
    "data_2012_2[c].value_counts().sort_index().index\n",
    "data_2012_2[c].value_counts().sort_index()\n",
    "missing_data(data_2012_2[c])"
   ]
  },
  {
   "cell_type": "code",
   "execution_count": null,
   "metadata": {
    "collapsed": true
   },
   "outputs": [],
   "source": [
    "c = 'ESTU_RETIRARSE_COLEGIO'\n",
    "data_2012_2[c].value_counts().sort_index().index\n",
    "data_2012_2[c].value_counts().sort_index()\n",
    "missing_data(data_2012_2[c])"
   ]
  },
  {
   "cell_type": "code",
   "execution_count": null,
   "metadata": {
    "collapsed": true
   },
   "outputs": [],
   "source": [
    "c = 'ESTU_VECES_ESTADO'\n",
    "data_2012_2[c].value_counts().sort_index().index\n",
    "data_2012_2[c].value_counts().sort_index()\n",
    "missing_data(data_2012_2[c])"
   ]
  },
  {
   "cell_type": "code",
   "execution_count": null,
   "metadata": {
    "collapsed": true
   },
   "outputs": [],
   "source": [
    "c = 'ESTU_MCPIO_PRESENTACION'\n",
    "data_2012_2[c].value_counts().sort_index().index\n",
    "data_2012_2[c].value_counts().sort_index()\n",
    "missing_data(data_2012_2[c])"
   ]
  },
  {
   "cell_type": "code",
   "execution_count": null,
   "metadata": {
    "collapsed": true
   },
   "outputs": [],
   "source": [
    "c = 'ESTU_DEPTO_PRESENTACION'\n",
    "data_2012_2[c].value_counts().sort_index().index\n",
    "data_2012_2[c].value_counts().sort_index()\n",
    "missing_data(data_2012_2[c])"
   ]
  },
  {
   "cell_type": "code",
   "execution_count": null,
   "metadata": {
    "collapsed": true
   },
   "outputs": [],
   "source": [
    "c = 'FAMI_EDUCA_PADRE'\n",
    "data_2012_2[c].value_counts().sort_index().index\n",
    "data_2012_2[c].value_counts().sort_index()\n",
    "missing_data(data_2012_2[c])"
   ]
  },
  {
   "cell_type": "code",
   "execution_count": null,
   "metadata": {
    "collapsed": true
   },
   "outputs": [],
   "source": [
    "c = 'FAMI_EDUCA_MADRE'\n",
    "data_2012_2[c].value_counts().sort_index().index\n",
    "data_2012_2[c].value_counts().sort_index()\n",
    "missing_data(data_2012_2[c])"
   ]
  },
  {
   "cell_type": "code",
   "execution_count": null,
   "metadata": {
    "collapsed": true
   },
   "outputs": [],
   "source": [
    "c = 'FAMI_OCUPA_PADRE'\n",
    "data_2012_2[c].value_counts().sort_index().index\n",
    "data_2012_2[c].value_counts().sort_index()\n",
    "missing_data(data_2012_2[c])"
   ]
  },
  {
   "cell_type": "code",
   "execution_count": null,
   "metadata": {
    "collapsed": true
   },
   "outputs": [],
   "source": [
    "c = 'FAMI_OCUPA_MADRE'\n",
    "data_2012_2[c].value_counts().sort_index().index\n",
    "data_2012_2[c].value_counts().sort_index()\n",
    "missing_data(data_2012_2[c])"
   ]
  },
  {
   "cell_type": "code",
   "execution_count": null,
   "metadata": {
    "collapsed": true
   },
   "outputs": [],
   "source": [
    "c = 'FAMI_ESTRATO_VIVIENDA'\n",
    "data_2012_2[c].value_counts().sort_index().index\n",
    "data_2012_2[c].value_counts().sort_index()\n",
    "missing_data(data_2012_2[c])"
   ]
  },
  {
   "cell_type": "code",
   "execution_count": null,
   "metadata": {
    "collapsed": true
   },
   "outputs": [],
   "source": [
    "c = 'FAMI_CUARTOS_HOGAR'\n",
    "data_2012_2[c].value_counts().sort_index().index\n",
    "data_2012_2[c].value_counts().sort_index()\n",
    "missing_data(data_2012_2[c])"
   ]
  },
  {
   "cell_type": "code",
   "execution_count": null,
   "metadata": {
    "collapsed": true
   },
   "outputs": [],
   "source": [
    "c = 'FAMI_NIVEL_SISBEN'\n",
    "data_2012_2[c].value_counts().sort_index().index\n",
    "data_2012_2[c].value_counts().sort_index()\n",
    "missing_data(data_2012_2[c])"
   ]
  },
  {
   "cell_type": "code",
   "execution_count": null,
   "metadata": {
    "collapsed": true
   },
   "outputs": [],
   "source": [
    "c = 'FAMI_PISOSHOGAR'\n",
    "data_2012_2[c].value_counts().sort_index().index\n",
    "data_2012_2[c].value_counts().sort_index()\n",
    "missing_data(data_2012_2[c])"
   ]
  },
  {
   "cell_type": "code",
   "execution_count": null,
   "metadata": {
    "collapsed": true
   },
   "outputs": [],
   "source": [
    "c = 'FAMI_PERSONAS_HOGAR'\n",
    "data_2012_2[c].value_counts().sort_index().index\n",
    "data_2012_2[c].value_counts().sort_index()\n",
    "missing_data(data_2012_2[c])"
   ]
  },
  {
   "cell_type": "code",
   "execution_count": null,
   "metadata": {
    "collapsed": true
   },
   "outputs": [],
   "source": [
    "c = 'FAMI_TELEFONO_FIJO'\n",
    "data_2012_2[c].value_counts().sort_index().index\n",
    "data_2012_2[c].value_counts().sort_index()\n",
    "missing_data(data_2012_2[c])"
   ]
  },
  {
   "cell_type": "code",
   "execution_count": null,
   "metadata": {
    "collapsed": true
   },
   "outputs": [],
   "source": [
    "c = 'FAMI_CELULAR'\n",
    "data_2012_2[c].value_counts().sort_index().index\n",
    "data_2012_2[c].value_counts().sort_index()\n",
    "missing_data(data_2012_2[c])"
   ]
  },
  {
   "cell_type": "code",
   "execution_count": null,
   "metadata": {
    "collapsed": true
   },
   "outputs": [],
   "source": [
    "c = 'FAMI_INTERNET'\n",
    "data_2012_2[c].value_counts().sort_index().index\n",
    "data_2012_2[c].value_counts().sort_index()\n",
    "missing_data(data_2012_2[c])"
   ]
  },
  {
   "cell_type": "code",
   "execution_count": null,
   "metadata": {
    "collapsed": true
   },
   "outputs": [],
   "source": [
    "c = 'FAMI_SERVICIO_TELEVISION'\n",
    "data_2012_2[c].value_counts().sort_index().index\n",
    "data_2012_2[c].value_counts().sort_index()\n",
    "missing_data(data_2012_2[c])"
   ]
  },
  {
   "cell_type": "code",
   "execution_count": null,
   "metadata": {
    "collapsed": true
   },
   "outputs": [],
   "source": [
    "c = 'FAMI_COMPUTADOR'\n",
    "data_2012_2[c].value_counts().sort_index().index\n",
    "data_2012_2[c].value_counts().sort_index()\n",
    "missing_data(data_2012_2[c])"
   ]
  },
  {
   "cell_type": "code",
   "execution_count": null,
   "metadata": {
    "collapsed": true
   },
   "outputs": [],
   "source": [
    "c = 'FAMI_LAVADORA'\n",
    "data_2012_2[c].value_counts().sort_index().index\n",
    "data_2012_2[c].value_counts().sort_index()\n",
    "missing_data(data_2012_2[c])"
   ]
  },
  {
   "cell_type": "code",
   "execution_count": null,
   "metadata": {
    "collapsed": true
   },
   "outputs": [],
   "source": [
    "c = 'FAMI_NEVERA'\n",
    "data_2012_2[c].value_counts().sort_index().index\n",
    "data_2012_2[c].value_counts().sort_index()\n",
    "missing_data(data_2012_2[c])"
   ]
  },
  {
   "cell_type": "code",
   "execution_count": null,
   "metadata": {
    "collapsed": true
   },
   "outputs": [],
   "source": [
    "c = 'FAMI_HORNO'\n",
    "data_2012_2[c].value_counts().sort_index().index\n",
    "data_2012_2[c].value_counts().sort_index()\n",
    "missing_data(data_2012_2[c])"
   ]
  },
  {
   "cell_type": "code",
   "execution_count": null,
   "metadata": {
    "collapsed": true
   },
   "outputs": [],
   "source": [
    "c = 'FAMI_DVD'\n",
    "data_2012_2[c].value_counts().sort_index().index\n",
    "data_2012_2[c].value_counts().sort_index()\n",
    "missing_data(data_2012_2[c])"
   ]
  },
  {
   "cell_type": "code",
   "execution_count": null,
   "metadata": {
    "collapsed": true
   },
   "outputs": [],
   "source": [
    "c = 'FAMI_MICROONDAS'\n",
    "data_2012_2[c].value_counts().sort_index().index\n",
    "data_2012_2[c].value_counts().sort_index()\n",
    "missing_data(data_2012_2[c])"
   ]
  },
  {
   "cell_type": "code",
   "execution_count": null,
   "metadata": {
    "collapsed": true
   },
   "outputs": [],
   "source": [
    "c = 'FAMI_AUTOMOVIL'\n",
    "data_2012_2[c].value_counts().sort_index().index\n",
    "data_2012_2[c].value_counts().sort_index()\n",
    "missing_data(data_2012_2[c])"
   ]
  },
  {
   "cell_type": "code",
   "execution_count": null,
   "metadata": {
    "collapsed": true
   },
   "outputs": [],
   "source": [
    "c = 'FAMI_INGRESO_FMILIAR_MENSUAL'\n",
    "data_2012_2[c].value_counts().sort_index().index\n",
    "data_2012_2[c].value_counts().sort_index()\n",
    "missing_data(data_2012_2[c])"
   ]
  },
  {
   "cell_type": "code",
   "execution_count": null,
   "metadata": {
    "collapsed": true
   },
   "outputs": [],
   "source": [
    "c = 'ESTU_TRABAJA'\n",
    "data_2012_2[c].value_counts().sort_index().index\n",
    "data_2012_2[c].value_counts().sort_index()\n",
    "missing_data(data_2012_2[c])"
   ]
  },
  {
   "cell_type": "code",
   "execution_count": null,
   "metadata": {
    "collapsed": true
   },
   "outputs": [],
   "source": [
    "c = 'ESTU_HORAS_TRABAJA'\n",
    "data_2012_2[c].value_counts().sort_index().index\n",
    "data_2012_2[c].value_counts().sort_index()\n",
    "missing_data(data_2012_2[c])"
   ]
  },
  {
   "cell_type": "markdown",
   "metadata": {},
   "source": [
    "## TARGETS"
   ]
  },
  {
   "cell_type": "code",
   "execution_count": null,
   "metadata": {
    "collapsed": true
   },
   "outputs": [],
   "source": [
    "c = 'PUNT_LENGUAJE'\n",
    "data_2012_2[c].value_counts().sort_index().index\n",
    "data_2012_2[c].value_counts().sort_index()\n",
    "missing_data(data_2012_2[c])"
   ]
  },
  {
   "cell_type": "code",
   "execution_count": null,
   "metadata": {
    "collapsed": true
   },
   "outputs": [],
   "source": [
    "c = 'PUNT_MATEMATICAS'\n",
    "data_2012_2[c].value_counts().sort_index().index\n",
    "data_2012_2[c].value_counts().sort_index()\n",
    "missing_data(data_2012_2[c])"
   ]
  },
  {
   "cell_type": "code",
   "execution_count": null,
   "metadata": {
    "collapsed": true
   },
   "outputs": [],
   "source": [
    "c = 'PUNT_C_SOCIALES'\n",
    "data_2012_2[c].value_counts().sort_index().index\n",
    "data_2012_2[c].value_counts().sort_index()\n",
    "missing_data(data_2012_2[c])"
   ]
  },
  {
   "cell_type": "code",
   "execution_count": null,
   "metadata": {
    "collapsed": true
   },
   "outputs": [],
   "source": [
    "c = 'PUNT_FILOSOFIA'\n",
    "data_2012_2[c].value_counts().sort_index().index\n",
    "data_2012_2[c].value_counts().sort_index()\n",
    "missing_data(data_2012_2[c])"
   ]
  },
  {
   "cell_type": "code",
   "execution_count": null,
   "metadata": {
    "collapsed": true
   },
   "outputs": [],
   "source": [
    "c = 'PUNT_BIOLOGIA'\n",
    "data_2012_2[c].value_counts().sort_index().index\n",
    "data_2012_2[c].value_counts().sort_index()\n",
    "missing_data(data_2012_2[c])"
   ]
  },
  {
   "cell_type": "code",
   "execution_count": null,
   "metadata": {
    "collapsed": true
   },
   "outputs": [],
   "source": [
    "c = 'PUNT_QUIMICA'\n",
    "data_2012_2[c].value_counts().sort_index().index\n",
    "data_2012_2[c].value_counts().sort_index()\n",
    "missing_data(data_2012_2[c])"
   ]
  },
  {
   "cell_type": "code",
   "execution_count": null,
   "metadata": {
    "collapsed": true
   },
   "outputs": [],
   "source": [
    "c = 'PUNT_FISICA'\n",
    "data_2012_2[c].value_counts().sort_index().index\n",
    "data_2012_2[c].value_counts().sort_index()\n",
    "missing_data(data_2012_2[c])"
   ]
  },
  {
   "cell_type": "code",
   "execution_count": null,
   "metadata": {
    "collapsed": true
   },
   "outputs": [],
   "source": [
    "c = 'PUNT_INGLES'\n",
    "data_2012_2[c].value_counts().sort_index().index\n",
    "data_2012_2[c].value_counts().sort_index()\n",
    "missing_data(data_2012_2[c])"
   ]
  },
  {
   "cell_type": "code",
   "execution_count": null,
   "metadata": {
    "collapsed": true
   },
   "outputs": [],
   "source": [
    "c = 'DESEMP_INGLES'\n",
    "data_2012_2[c].value_counts().sort_index().index\n",
    "data_2012_2[c].value_counts().sort_index()\n",
    "missing_data(data_2012_2[c])"
   ]
  },
  {
   "cell_type": "code",
   "execution_count": null,
   "metadata": {
    "collapsed": true
   },
   "outputs": [],
   "source": [
    "c = 'NOMBRE_COMP_FLEXIBLE'\n",
    "data_2012_2[c].value_counts().sort_index().index\n",
    "data_2012_2[c].value_counts().sort_index()\n",
    "missing_data(data_2012_2[c])"
   ]
  },
  {
   "cell_type": "code",
   "execution_count": null,
   "metadata": {
    "collapsed": true
   },
   "outputs": [],
   "source": [
    "c = 'PUNT_COMP_FLEXIBLE'\n",
    "data_2012_2[c].value_counts().sort_index().index\n",
    "data_2012_2[c].value_counts().sort_index()\n",
    "missing_data(data_2012_2[c])"
   ]
  },
  {
   "cell_type": "code",
   "execution_count": null,
   "metadata": {
    "collapsed": true
   },
   "outputs": [],
   "source": [
    "c = 'DESEMP_COMP_FLEXIBLE'\n",
    "data_2012_2[c].value_counts().sort_index().index\n",
    "data_2012_2[c].value_counts().sort_index()\n",
    "missing_data(data_2012_2[c])"
   ]
  },
  {
   "cell_type": "code",
   "execution_count": null,
   "metadata": {
    "collapsed": false,
    "scrolled": true
   },
   "outputs": [],
   "source": [
    "c = 'ESTU_PUESTO'\n",
    "data_2012_2[c].value_counts().sort_index().index\n",
    "data_2012_2[c].value_counts().sort_index()\n",
    "missing_data(data_2012_2[c])"
   ]
  },
  {
   "cell_type": "markdown",
   "metadata": {},
   "source": [
    "Now i can transform the obtained Dataframes in csv files"
   ]
  },
  {
   "cell_type": "code",
   "execution_count": null,
   "metadata": {
    "collapsed": true
   },
   "outputs": [],
   "source": []
  }
 ],
 "metadata": {
  "kernelspec": {
   "display_name": "Python 3",
   "language": "python",
   "name": "python3"
  },
  "language_info": {
   "codemirror_mode": {
    "name": "ipython",
    "version": 3
   },
   "file_extension": ".py",
   "mimetype": "text/x-python",
   "name": "python",
   "nbconvert_exporter": "python",
   "pygments_lexer": "ipython3",
   "version": "3.4.2"
  }
 },
 "nbformat": 4,
 "nbformat_minor": 0
}
