{
 "cells": [
  {
   "cell_type": "code",
   "execution_count": 1,
   "metadata": {
    "collapsed": true
   },
   "outputs": [],
   "source": [
    "import pandas as pd\n",
    "import numpy as np\n",
    "%run -i ../tools/functions.py\n",
    "%run -i ../tools/label_encoder.py"
   ]
  },
  {
   "cell_type": "code",
   "execution_count": 58,
   "metadata": {
    "collapsed": false
   },
   "outputs": [
    {
     "name": "stderr",
     "output_type": "stream",
     "text": [
      "/usr/local/lib/python3.4/dist-packages/IPython/core/interactiveshell.py:2902: DtypeWarning: Columns (10,12,14,24) have mixed types. Specify dtype option on import or set low_memory=False.\n",
      "  interactivity=interactivity, compiler=compiler, result=result)\n"
     ]
    }
   ],
   "source": [
    "data_2011 = pd.read_csv('../DatosFTPICFES/SABER11/SB11-BASES_DE_DATOS/SB11-20111-RGSTRO-CLFCCN-V1-0.txt', delimiter = '|')"
   ]
  },
  {
   "cell_type": "code",
   "execution_count": 59,
   "metadata": {
    "collapsed": false
   },
   "outputs": [
    {
     "data": {
      "text/plain": [
       "(86674, 114)"
      ]
     },
     "execution_count": 59,
     "metadata": {},
     "output_type": "execute_result"
    }
   ],
   "source": [
    "data_2011.shape"
   ]
  },
  {
   "cell_type": "code",
   "execution_count": 60,
   "metadata": {
    "collapsed": false,
    "scrolled": true
   },
   "outputs": [
    {
     "data": {
      "text/html": [
       "<div>\n",
       "<table border=\"1\" class=\"dataframe\">\n",
       "  <thead>\n",
       "    <tr style=\"text-align: right;\">\n",
       "      <th></th>\n",
       "      <th>0</th>\n",
       "      <th>1</th>\n",
       "      <th>2</th>\n",
       "    </tr>\n",
       "  </thead>\n",
       "  <tbody>\n",
       "    <tr>\n",
       "      <th>ESTU_CONSECUTIVO</th>\n",
       "      <td>SABER1120111000001</td>\n",
       "      <td>SABER1120111000002</td>\n",
       "      <td>SABER1120111000003</td>\n",
       "    </tr>\n",
       "    <tr>\n",
       "      <th>PERIODO</th>\n",
       "      <td>20111</td>\n",
       "      <td>20111</td>\n",
       "      <td>20111</td>\n",
       "    </tr>\n",
       "    <tr>\n",
       "      <th>ESTU_TIPO_DOCUMENTO</th>\n",
       "      <td>C</td>\n",
       "      <td>C</td>\n",
       "      <td>C</td>\n",
       "    </tr>\n",
       "    <tr>\n",
       "      <th>ESTU_PAIS_RESIDE</th>\n",
       "      <td>CO</td>\n",
       "      <td>CO</td>\n",
       "      <td>CO</td>\n",
       "    </tr>\n",
       "    <tr>\n",
       "      <th>ESTU_GENERO</th>\n",
       "      <td>M</td>\n",
       "      <td>F</td>\n",
       "      <td>M</td>\n",
       "    </tr>\n",
       "    <tr>\n",
       "      <th>ESTU_NACIMIENTO_DIA</th>\n",
       "      <td>20</td>\n",
       "      <td>3</td>\n",
       "      <td>5</td>\n",
       "    </tr>\n",
       "    <tr>\n",
       "      <th>ESTU_NACIMIENTO_MES</th>\n",
       "      <td>4</td>\n",
       "      <td>10</td>\n",
       "      <td>11</td>\n",
       "    </tr>\n",
       "    <tr>\n",
       "      <th>ESTU_NACIMIENTO_ANNO</th>\n",
       "      <td>1988</td>\n",
       "      <td>1990</td>\n",
       "      <td>1991</td>\n",
       "    </tr>\n",
       "    <tr>\n",
       "      <th>ESTU_EDAD</th>\n",
       "      <td>22</td>\n",
       "      <td>20</td>\n",
       "      <td>19</td>\n",
       "    </tr>\n",
       "    <tr>\n",
       "      <th>ESTU_LIMITA_BAJAVISION</th>\n",
       "      <td>NaN</td>\n",
       "      <td>NaN</td>\n",
       "      <td>NaN</td>\n",
       "    </tr>\n",
       "    <tr>\n",
       "      <th>ESTU_LIMITA_SORDOCEGUERA</th>\n",
       "      <td>NaN</td>\n",
       "      <td>NaN</td>\n",
       "      <td>NaN</td>\n",
       "    </tr>\n",
       "    <tr>\n",
       "      <th>ESTU_LIMITA_COGNITIVA</th>\n",
       "      <td>NaN</td>\n",
       "      <td>NaN</td>\n",
       "      <td>NaN</td>\n",
       "    </tr>\n",
       "    <tr>\n",
       "      <th>ESTU_LIMITA_INVIDENTE</th>\n",
       "      <td>NaN</td>\n",
       "      <td>NaN</td>\n",
       "      <td>NaN</td>\n",
       "    </tr>\n",
       "    <tr>\n",
       "      <th>ESTU_LIMITA_MOTRIZ</th>\n",
       "      <td>NaN</td>\n",
       "      <td>NaN</td>\n",
       "      <td>NaN</td>\n",
       "    </tr>\n",
       "    <tr>\n",
       "      <th>ESTU_LIMITA_SORDOINTERPRETE</th>\n",
       "      <td>NaN</td>\n",
       "      <td>NaN</td>\n",
       "      <td>NaN</td>\n",
       "    </tr>\n",
       "    <tr>\n",
       "      <th>ESTU_LIMITA_SORDONOINTERPRETE</th>\n",
       "      <td>NaN</td>\n",
       "      <td>NaN</td>\n",
       "      <td>NaN</td>\n",
       "    </tr>\n",
       "    <tr>\n",
       "      <th>ESTU_ETNIA</th>\n",
       "      <td>NaN</td>\n",
       "      <td>NaN</td>\n",
       "      <td>NaN</td>\n",
       "    </tr>\n",
       "    <tr>\n",
       "      <th>ESTU_COD_RESIDE_MCPIO</th>\n",
       "      <td>5837</td>\n",
       "      <td>5045</td>\n",
       "      <td>5837</td>\n",
       "    </tr>\n",
       "    <tr>\n",
       "      <th>ESTU_RESIDE_MCPIO</th>\n",
       "      <td>TURBO</td>\n",
       "      <td>APARTADO</td>\n",
       "      <td>TURBO</td>\n",
       "    </tr>\n",
       "    <tr>\n",
       "      <th>ESTU_RESIDE_DEPTO</th>\n",
       "      <td>ANTIOQUIA</td>\n",
       "      <td>ANTIOQUIA</td>\n",
       "      <td>ANTIOQUIA</td>\n",
       "    </tr>\n",
       "    <tr>\n",
       "      <th>ESTU_ZONA_RESIDE</th>\n",
       "      <td>10</td>\n",
       "      <td>10</td>\n",
       "      <td>10</td>\n",
       "    </tr>\n",
       "    <tr>\n",
       "      <th>ESTU_AREA_RESIDE</th>\n",
       "      <td>2</td>\n",
       "      <td>2</td>\n",
       "      <td>1</td>\n",
       "    </tr>\n",
       "    <tr>\n",
       "      <th>IND_COD_ICFES_TERMINO</th>\n",
       "      <td>128306</td>\n",
       "      <td>128306</td>\n",
       "      <td>NaN</td>\n",
       "    </tr>\n",
       "    <tr>\n",
       "      <th>COLE_COD_ICFES</th>\n",
       "      <td>128306</td>\n",
       "      <td>128306</td>\n",
       "      <td>131219</td>\n",
       "    </tr>\n",
       "    <tr>\n",
       "      <th>COLE_COD_DANE_INSTITUCION</th>\n",
       "      <td>2.05837e+11</td>\n",
       "      <td>2.05837e+11</td>\n",
       "      <td>3.05837e+11</td>\n",
       "    </tr>\n",
       "    <tr>\n",
       "      <th>COLE_NOMBRE_SEDE</th>\n",
       "      <td>I.E. VEINTICUATRO DE DICIEMBRE</td>\n",
       "      <td>I.E. VEINTICUATRO DE DICIEMBRE</td>\n",
       "      <td>INSTITUTO CORFERRINI</td>\n",
       "    </tr>\n",
       "    <tr>\n",
       "      <th>COLE_CALENDARIO</th>\n",
       "      <td>A</td>\n",
       "      <td>A</td>\n",
       "      <td>F</td>\n",
       "    </tr>\n",
       "    <tr>\n",
       "      <th>COLE_GENERO</th>\n",
       "      <td>X</td>\n",
       "      <td>X</td>\n",
       "      <td>X</td>\n",
       "    </tr>\n",
       "    <tr>\n",
       "      <th>COLE_NATURALEZA</th>\n",
       "      <td>O</td>\n",
       "      <td>O</td>\n",
       "      <td>N</td>\n",
       "    </tr>\n",
       "    <tr>\n",
       "      <th>COLE_BILINGUE</th>\n",
       "      <td>NaN</td>\n",
       "      <td>NaN</td>\n",
       "      <td>NaN</td>\n",
       "    </tr>\n",
       "    <tr>\n",
       "      <th>...</th>\n",
       "      <td>...</td>\n",
       "      <td>...</td>\n",
       "      <td>...</td>\n",
       "    </tr>\n",
       "    <tr>\n",
       "      <th>FAMI_PERSONAS_HOGAR</th>\n",
       "      <td>7</td>\n",
       "      <td>3</td>\n",
       "      <td>3</td>\n",
       "    </tr>\n",
       "    <tr>\n",
       "      <th>FAMI_CUARTOS_HOGAR</th>\n",
       "      <td>NaN</td>\n",
       "      <td>NaN</td>\n",
       "      <td>NaN</td>\n",
       "    </tr>\n",
       "    <tr>\n",
       "      <th>FAMI_PISOSHOGAR</th>\n",
       "      <td>2</td>\n",
       "      <td>4</td>\n",
       "      <td>4</td>\n",
       "    </tr>\n",
       "    <tr>\n",
       "      <th>FAMI_TELEFONO_FIJO</th>\n",
       "      <td>0</td>\n",
       "      <td>0</td>\n",
       "      <td>1</td>\n",
       "    </tr>\n",
       "    <tr>\n",
       "      <th>FAMI_CELULAR</th>\n",
       "      <td>1</td>\n",
       "      <td>1</td>\n",
       "      <td>1</td>\n",
       "    </tr>\n",
       "    <tr>\n",
       "      <th>FAMI_INTERNET</th>\n",
       "      <td>0</td>\n",
       "      <td>1</td>\n",
       "      <td>0</td>\n",
       "    </tr>\n",
       "    <tr>\n",
       "      <th>FAMI_SERVICIO_TELEVISION</th>\n",
       "      <td>1</td>\n",
       "      <td>0</td>\n",
       "      <td>1</td>\n",
       "    </tr>\n",
       "    <tr>\n",
       "      <th>FAMI_COMPUTADOR</th>\n",
       "      <td>0</td>\n",
       "      <td>3</td>\n",
       "      <td>3</td>\n",
       "    </tr>\n",
       "    <tr>\n",
       "      <th>FAMI_LAVADORA</th>\n",
       "      <td>1</td>\n",
       "      <td>0</td>\n",
       "      <td>1</td>\n",
       "    </tr>\n",
       "    <tr>\n",
       "      <th>FAMI_NEVERA</th>\n",
       "      <td>1</td>\n",
       "      <td>1</td>\n",
       "      <td>1</td>\n",
       "    </tr>\n",
       "    <tr>\n",
       "      <th>FAMI_HORNO</th>\n",
       "      <td>0</td>\n",
       "      <td>0</td>\n",
       "      <td>0</td>\n",
       "    </tr>\n",
       "    <tr>\n",
       "      <th>FAMI_DVD</th>\n",
       "      <td>1</td>\n",
       "      <td>0</td>\n",
       "      <td>1</td>\n",
       "    </tr>\n",
       "    <tr>\n",
       "      <th>FAMI_MICROONDAS</th>\n",
       "      <td>1</td>\n",
       "      <td>0</td>\n",
       "      <td>1</td>\n",
       "    </tr>\n",
       "    <tr>\n",
       "      <th>FAMI_AUTOMOVIL</th>\n",
       "      <td>0</td>\n",
       "      <td>0</td>\n",
       "      <td>0</td>\n",
       "    </tr>\n",
       "    <tr>\n",
       "      <th>FAMI_INGRESO_FMILIAR_MENSUAL</th>\n",
       "      <td>2</td>\n",
       "      <td>2</td>\n",
       "      <td>2</td>\n",
       "    </tr>\n",
       "    <tr>\n",
       "      <th>ESTU_TRABAJA</th>\n",
       "      <td>NaN</td>\n",
       "      <td>0</td>\n",
       "      <td>0</td>\n",
       "    </tr>\n",
       "    <tr>\n",
       "      <th>ESTU_HORAS_TRABAJA</th>\n",
       "      <td>NaN</td>\n",
       "      <td>NaN</td>\n",
       "      <td>NaN</td>\n",
       "    </tr>\n",
       "    <tr>\n",
       "      <th>PUNT_LENGUAJE</th>\n",
       "      <td>48,55</td>\n",
       "      <td>43,04</td>\n",
       "      <td>49,71</td>\n",
       "    </tr>\n",
       "    <tr>\n",
       "      <th>PUNT_MATEMATICAS</th>\n",
       "      <td>32,42</td>\n",
       "      <td>36,11</td>\n",
       "      <td>32,42</td>\n",
       "    </tr>\n",
       "    <tr>\n",
       "      <th>PUNT_C_SOCIALES</th>\n",
       "      <td>35,56</td>\n",
       "      <td>31,76</td>\n",
       "      <td>36,48</td>\n",
       "    </tr>\n",
       "    <tr>\n",
       "      <th>PUNT_FILOSOFIA</th>\n",
       "      <td>26,28</td>\n",
       "      <td>29</td>\n",
       "      <td>21,42</td>\n",
       "    </tr>\n",
       "    <tr>\n",
       "      <th>PUNT_BIOLOGIA</th>\n",
       "      <td>43,3</td>\n",
       "      <td>45,4</td>\n",
       "      <td>38,84</td>\n",
       "    </tr>\n",
       "    <tr>\n",
       "      <th>PUNT_QUIMICA</th>\n",
       "      <td>41,62</td>\n",
       "      <td>42,1</td>\n",
       "      <td>25,14</td>\n",
       "    </tr>\n",
       "    <tr>\n",
       "      <th>PUNT_FISICA</th>\n",
       "      <td>48,41</td>\n",
       "      <td>43,04</td>\n",
       "      <td>35,03</td>\n",
       "    </tr>\n",
       "    <tr>\n",
       "      <th>PUNT_INGLES</th>\n",
       "      <td>38,08</td>\n",
       "      <td>39,87</td>\n",
       "      <td>42,76</td>\n",
       "    </tr>\n",
       "    <tr>\n",
       "      <th>DESEMP_INGLES</th>\n",
       "      <td>A-</td>\n",
       "      <td>A-</td>\n",
       "      <td>A-</td>\n",
       "    </tr>\n",
       "    <tr>\n",
       "      <th>NOMBRE_COMP_FLEXIBLE</th>\n",
       "      <td>MEDIO AMBIENTE</td>\n",
       "      <td>VIOLENCIA Y SOCIEDAD</td>\n",
       "      <td>VIOLENCIA Y SOCIEDAD</td>\n",
       "    </tr>\n",
       "    <tr>\n",
       "      <th>PUNT_COMP_FLEXIBLE</th>\n",
       "      <td>50,23</td>\n",
       "      <td>45,58</td>\n",
       "      <td>32,5</td>\n",
       "    </tr>\n",
       "    <tr>\n",
       "      <th>DESEMP_COMP_FLEXIBLE</th>\n",
       "      <td>NaN</td>\n",
       "      <td>NaN</td>\n",
       "      <td>NaN</td>\n",
       "    </tr>\n",
       "    <tr>\n",
       "      <th>ESTU_PUESTO</th>\n",
       "      <td>845</td>\n",
       "      <td>873</td>\n",
       "      <td>951</td>\n",
       "    </tr>\n",
       "  </tbody>\n",
       "</table>\n",
       "<p>114 rows × 3 columns</p>\n",
       "</div>"
      ],
      "text/plain": [
       "                                                            0  \\\n",
       "ESTU_CONSECUTIVO                           SABER1120111000001   \n",
       "PERIODO                                                 20111   \n",
       "ESTU_TIPO_DOCUMENTO                                         C   \n",
       "ESTU_PAIS_RESIDE                                           CO   \n",
       "ESTU_GENERO                                                 M   \n",
       "ESTU_NACIMIENTO_DIA                                        20   \n",
       "ESTU_NACIMIENTO_MES                                         4   \n",
       "ESTU_NACIMIENTO_ANNO                                     1988   \n",
       "ESTU_EDAD                                                  22   \n",
       "ESTU_LIMITA_BAJAVISION                                    NaN   \n",
       "ESTU_LIMITA_SORDOCEGUERA                                  NaN   \n",
       "ESTU_LIMITA_COGNITIVA                                     NaN   \n",
       "ESTU_LIMITA_INVIDENTE                                     NaN   \n",
       "ESTU_LIMITA_MOTRIZ                                        NaN   \n",
       "ESTU_LIMITA_SORDOINTERPRETE                               NaN   \n",
       "ESTU_LIMITA_SORDONOINTERPRETE                             NaN   \n",
       "ESTU_ETNIA                                                NaN   \n",
       "ESTU_COD_RESIDE_MCPIO                                    5837   \n",
       "ESTU_RESIDE_MCPIO                                       TURBO   \n",
       "ESTU_RESIDE_DEPTO                                   ANTIOQUIA   \n",
       "ESTU_ZONA_RESIDE                                           10   \n",
       "ESTU_AREA_RESIDE                                            2   \n",
       "IND_COD_ICFES_TERMINO                                  128306   \n",
       "COLE_COD_ICFES                                         128306   \n",
       "COLE_COD_DANE_INSTITUCION                         2.05837e+11   \n",
       "COLE_NOMBRE_SEDE               I.E. VEINTICUATRO DE DICIEMBRE   \n",
       "COLE_CALENDARIO                                             A   \n",
       "COLE_GENERO                                                 X   \n",
       "COLE_NATURALEZA                                             O   \n",
       "COLE_BILINGUE                                             NaN   \n",
       "...                                                       ...   \n",
       "FAMI_PERSONAS_HOGAR                                         7   \n",
       "FAMI_CUARTOS_HOGAR                                        NaN   \n",
       "FAMI_PISOSHOGAR                                             2   \n",
       "FAMI_TELEFONO_FIJO                                          0   \n",
       "FAMI_CELULAR                                                1   \n",
       "FAMI_INTERNET                                               0   \n",
       "FAMI_SERVICIO_TELEVISION                                    1   \n",
       "FAMI_COMPUTADOR                                             0   \n",
       "FAMI_LAVADORA                                               1   \n",
       "FAMI_NEVERA                                                 1   \n",
       "FAMI_HORNO                                                  0   \n",
       "FAMI_DVD                                                    1   \n",
       "FAMI_MICROONDAS                                             1   \n",
       "FAMI_AUTOMOVIL                                              0   \n",
       "FAMI_INGRESO_FMILIAR_MENSUAL                                2   \n",
       "ESTU_TRABAJA                                              NaN   \n",
       "ESTU_HORAS_TRABAJA                                        NaN   \n",
       "PUNT_LENGUAJE                                           48,55   \n",
       "PUNT_MATEMATICAS                                        32,42   \n",
       "PUNT_C_SOCIALES                                         35,56   \n",
       "PUNT_FILOSOFIA                                          26,28   \n",
       "PUNT_BIOLOGIA                                            43,3   \n",
       "PUNT_QUIMICA                                            41,62   \n",
       "PUNT_FISICA                                             48,41   \n",
       "PUNT_INGLES                                             38,08   \n",
       "DESEMP_INGLES                                              A-   \n",
       "NOMBRE_COMP_FLEXIBLE                           MEDIO AMBIENTE   \n",
       "PUNT_COMP_FLEXIBLE                                      50,23   \n",
       "DESEMP_COMP_FLEXIBLE                                      NaN   \n",
       "ESTU_PUESTO                                               845   \n",
       "\n",
       "                                                            1  \\\n",
       "ESTU_CONSECUTIVO                           SABER1120111000002   \n",
       "PERIODO                                                 20111   \n",
       "ESTU_TIPO_DOCUMENTO                                         C   \n",
       "ESTU_PAIS_RESIDE                                           CO   \n",
       "ESTU_GENERO                                                 F   \n",
       "ESTU_NACIMIENTO_DIA                                         3   \n",
       "ESTU_NACIMIENTO_MES                                        10   \n",
       "ESTU_NACIMIENTO_ANNO                                     1990   \n",
       "ESTU_EDAD                                                  20   \n",
       "ESTU_LIMITA_BAJAVISION                                    NaN   \n",
       "ESTU_LIMITA_SORDOCEGUERA                                  NaN   \n",
       "ESTU_LIMITA_COGNITIVA                                     NaN   \n",
       "ESTU_LIMITA_INVIDENTE                                     NaN   \n",
       "ESTU_LIMITA_MOTRIZ                                        NaN   \n",
       "ESTU_LIMITA_SORDOINTERPRETE                               NaN   \n",
       "ESTU_LIMITA_SORDONOINTERPRETE                             NaN   \n",
       "ESTU_ETNIA                                                NaN   \n",
       "ESTU_COD_RESIDE_MCPIO                                    5045   \n",
       "ESTU_RESIDE_MCPIO                                    APARTADO   \n",
       "ESTU_RESIDE_DEPTO                                   ANTIOQUIA   \n",
       "ESTU_ZONA_RESIDE                                           10   \n",
       "ESTU_AREA_RESIDE                                            2   \n",
       "IND_COD_ICFES_TERMINO                                  128306   \n",
       "COLE_COD_ICFES                                         128306   \n",
       "COLE_COD_DANE_INSTITUCION                         2.05837e+11   \n",
       "COLE_NOMBRE_SEDE               I.E. VEINTICUATRO DE DICIEMBRE   \n",
       "COLE_CALENDARIO                                             A   \n",
       "COLE_GENERO                                                 X   \n",
       "COLE_NATURALEZA                                             O   \n",
       "COLE_BILINGUE                                             NaN   \n",
       "...                                                       ...   \n",
       "FAMI_PERSONAS_HOGAR                                         3   \n",
       "FAMI_CUARTOS_HOGAR                                        NaN   \n",
       "FAMI_PISOSHOGAR                                             4   \n",
       "FAMI_TELEFONO_FIJO                                          0   \n",
       "FAMI_CELULAR                                                1   \n",
       "FAMI_INTERNET                                               1   \n",
       "FAMI_SERVICIO_TELEVISION                                    0   \n",
       "FAMI_COMPUTADOR                                             3   \n",
       "FAMI_LAVADORA                                               0   \n",
       "FAMI_NEVERA                                                 1   \n",
       "FAMI_HORNO                                                  0   \n",
       "FAMI_DVD                                                    0   \n",
       "FAMI_MICROONDAS                                             0   \n",
       "FAMI_AUTOMOVIL                                              0   \n",
       "FAMI_INGRESO_FMILIAR_MENSUAL                                2   \n",
       "ESTU_TRABAJA                                                0   \n",
       "ESTU_HORAS_TRABAJA                                        NaN   \n",
       "PUNT_LENGUAJE                                           43,04   \n",
       "PUNT_MATEMATICAS                                        36,11   \n",
       "PUNT_C_SOCIALES                                         31,76   \n",
       "PUNT_FILOSOFIA                                             29   \n",
       "PUNT_BIOLOGIA                                            45,4   \n",
       "PUNT_QUIMICA                                             42,1   \n",
       "PUNT_FISICA                                             43,04   \n",
       "PUNT_INGLES                                             39,87   \n",
       "DESEMP_INGLES                                              A-   \n",
       "NOMBRE_COMP_FLEXIBLE                     VIOLENCIA Y SOCIEDAD   \n",
       "PUNT_COMP_FLEXIBLE                                      45,58   \n",
       "DESEMP_COMP_FLEXIBLE                                      NaN   \n",
       "ESTU_PUESTO                                               873   \n",
       "\n",
       "                                                  2  \n",
       "ESTU_CONSECUTIVO                 SABER1120111000003  \n",
       "PERIODO                                       20111  \n",
       "ESTU_TIPO_DOCUMENTO                               C  \n",
       "ESTU_PAIS_RESIDE                                 CO  \n",
       "ESTU_GENERO                                       M  \n",
       "ESTU_NACIMIENTO_DIA                               5  \n",
       "ESTU_NACIMIENTO_MES                              11  \n",
       "ESTU_NACIMIENTO_ANNO                           1991  \n",
       "ESTU_EDAD                                        19  \n",
       "ESTU_LIMITA_BAJAVISION                          NaN  \n",
       "ESTU_LIMITA_SORDOCEGUERA                        NaN  \n",
       "ESTU_LIMITA_COGNITIVA                           NaN  \n",
       "ESTU_LIMITA_INVIDENTE                           NaN  \n",
       "ESTU_LIMITA_MOTRIZ                              NaN  \n",
       "ESTU_LIMITA_SORDOINTERPRETE                     NaN  \n",
       "ESTU_LIMITA_SORDONOINTERPRETE                   NaN  \n",
       "ESTU_ETNIA                                      NaN  \n",
       "ESTU_COD_RESIDE_MCPIO                          5837  \n",
       "ESTU_RESIDE_MCPIO                             TURBO  \n",
       "ESTU_RESIDE_DEPTO                         ANTIOQUIA  \n",
       "ESTU_ZONA_RESIDE                                 10  \n",
       "ESTU_AREA_RESIDE                                  1  \n",
       "IND_COD_ICFES_TERMINO                           NaN  \n",
       "COLE_COD_ICFES                               131219  \n",
       "COLE_COD_DANE_INSTITUCION               3.05837e+11  \n",
       "COLE_NOMBRE_SEDE               INSTITUTO CORFERRINI  \n",
       "COLE_CALENDARIO                                   F  \n",
       "COLE_GENERO                                       X  \n",
       "COLE_NATURALEZA                                   N  \n",
       "COLE_BILINGUE                                   NaN  \n",
       "...                                             ...  \n",
       "FAMI_PERSONAS_HOGAR                               3  \n",
       "FAMI_CUARTOS_HOGAR                              NaN  \n",
       "FAMI_PISOSHOGAR                                   4  \n",
       "FAMI_TELEFONO_FIJO                                1  \n",
       "FAMI_CELULAR                                      1  \n",
       "FAMI_INTERNET                                     0  \n",
       "FAMI_SERVICIO_TELEVISION                          1  \n",
       "FAMI_COMPUTADOR                                   3  \n",
       "FAMI_LAVADORA                                     1  \n",
       "FAMI_NEVERA                                       1  \n",
       "FAMI_HORNO                                        0  \n",
       "FAMI_DVD                                          1  \n",
       "FAMI_MICROONDAS                                   1  \n",
       "FAMI_AUTOMOVIL                                    0  \n",
       "FAMI_INGRESO_FMILIAR_MENSUAL                      2  \n",
       "ESTU_TRABAJA                                      0  \n",
       "ESTU_HORAS_TRABAJA                              NaN  \n",
       "PUNT_LENGUAJE                                 49,71  \n",
       "PUNT_MATEMATICAS                              32,42  \n",
       "PUNT_C_SOCIALES                               36,48  \n",
       "PUNT_FILOSOFIA                                21,42  \n",
       "PUNT_BIOLOGIA                                 38,84  \n",
       "PUNT_QUIMICA                                  25,14  \n",
       "PUNT_FISICA                                   35,03  \n",
       "PUNT_INGLES                                   42,76  \n",
       "DESEMP_INGLES                                    A-  \n",
       "NOMBRE_COMP_FLEXIBLE           VIOLENCIA Y SOCIEDAD  \n",
       "PUNT_COMP_FLEXIBLE                             32,5  \n",
       "DESEMP_COMP_FLEXIBLE                            NaN  \n",
       "ESTU_PUESTO                                     951  \n",
       "\n",
       "[114 rows x 3 columns]"
      ]
     },
     "execution_count": 60,
     "metadata": {},
     "output_type": "execute_result"
    }
   ],
   "source": [
    "data_2011.head(3).T"
   ]
  },
  {
   "cell_type": "code",
   "execution_count": 61,
   "metadata": {
    "collapsed": true
   },
   "outputs": [],
   "source": [
    "data_2011 = data_2011.drop(['ESTU_CONSECUTIVO', 'PERIODO', 'ESTU_TIPO_DOCUMENTO', 'ESTU_COD_RESIDE_MCPIO',\n",
    "                           'ESTU_COD_MCPIO_PRESENTACION'], axis=1)"
   ]
  },
  {
   "cell_type": "code",
   "execution_count": 62,
   "metadata": {
    "collapsed": false,
    "scrolled": true
   },
   "outputs": [
    {
     "name": "stdout",
     "output_type": "stream",
     "text": [
      "Index(['AR', 'AW', 'BR', 'CL', 'CO', 'CU', 'DE', 'DK', 'EC', 'ES', 'FR', 'HN',\n",
      "       'MX', 'PE', 'RU', 'US', 'VE'],\n",
      "      dtype='object')\n",
      "AR        1\n",
      "AW        1\n",
      "BR        2\n",
      "CL        3\n",
      "CO    86510\n",
      "CU        1\n",
      "DE        2\n",
      "DK        1\n",
      "EC        6\n",
      "ES        1\n",
      "FR        2\n",
      "HN        1\n",
      "MX        4\n",
      "PE        7\n",
      "RU        1\n",
      "US        7\n",
      "VE       40\n",
      "Name: ESTU_PAIS_RESIDE, dtype: int64\n",
      "Elementos null/NaN 84\n",
      "__________________\n",
      "Elementos diferentes de null/NaN: 86590\n",
      "__________________\n",
      "(86590,)\n",
      "None\n"
     ]
    }
   ],
   "source": [
    "c = 'ESTU_PAIS_RESIDE'\n",
    "print(data_2011[c].value_counts().sort_index().index)\n",
    "print(data_2011[c].value_counts().sort_index())\n",
    "print(missing_data(data_2011[c]))"
   ]
  },
  {
   "cell_type": "code",
   "execution_count": 63,
   "metadata": {
    "collapsed": false
   },
   "outputs": [
    {
     "name": "stdout",
     "output_type": "stream",
     "text": [
      "cant null antes: 84\n",
      "cant null despues: 0\n"
     ]
    }
   ],
   "source": [
    "Do_resamples(data_2011, c, str)"
   ]
  },
  {
   "cell_type": "code",
   "execution_count": 64,
   "metadata": {
    "collapsed": false
   },
   "outputs": [
    {
     "name": "stdout",
     "output_type": "stream",
     "text": [
      "Index(['F', 'M'], dtype='object')\n",
      "F    44404\n",
      "M    41663\n",
      "Name: ESTU_GENERO, dtype: int64\n",
      "Elementos null/NaN 607\n",
      "__________________\n",
      "Elementos diferentes de null/NaN: 86067\n",
      "__________________\n",
      "(86067,)\n",
      "None\n"
     ]
    }
   ],
   "source": [
    "c = 'ESTU_GENERO'\n",
    "print(data_2011[c].value_counts().sort_index().index)\n",
    "print(data_2011[c].value_counts().sort_index())\n",
    "print(missing_data(data_2011[c]))"
   ]
  },
  {
   "cell_type": "code",
   "execution_count": 65,
   "metadata": {
    "collapsed": false
   },
   "outputs": [
    {
     "name": "stdout",
     "output_type": "stream",
     "text": [
      "cant null antes: 607\n",
      "cant null despues: 0\n"
     ]
    }
   ],
   "source": [
    "Do_resamples(data_2011, c, str)"
   ]
  },
  {
   "cell_type": "code",
   "execution_count": 66,
   "metadata": {
    "collapsed": false,
    "scrolled": true
   },
   "outputs": [
    {
     "name": "stdout",
     "output_type": "stream",
     "text": [
      "Float64Index([ 1.0,  2.0,  3.0,  4.0,  5.0,  6.0,  7.0,  8.0,  9.0, 10.0, 11.0,\n",
      "              12.0, 13.0, 14.0, 15.0, 16.0, 17.0, 18.0, 19.0, 20.0, 21.0, 22.0,\n",
      "              23.0, 24.0, 25.0, 26.0, 27.0, 28.0, 29.0, 30.0, 31.0],\n",
      "             dtype='float64')\n",
      "1     2853\n",
      "2     2840\n",
      "3     2920\n",
      "4     2956\n",
      "5     2891\n",
      "6     2761\n",
      "7     2842\n",
      "8     2941\n",
      "9     2879\n",
      "10    2919\n",
      "11    2805\n",
      "12    2871\n",
      "13    2739\n",
      "14    2771\n",
      "15    2944\n",
      "16    2804\n",
      "17    2812\n",
      "18    2810\n",
      "19    2768\n",
      "20    2833\n",
      "21    2801\n",
      "22    2779\n",
      "23    2823\n",
      "24    2794\n",
      "25    2839\n",
      "26    2721\n",
      "27    2806\n",
      "28    2963\n",
      "29    2589\n",
      "30    2506\n",
      "31    1471\n",
      "Name: ESTU_NACIMIENTO_DIA, dtype: int64\n",
      "Elementos null/NaN 623\n",
      "__________________\n",
      "Elementos diferentes de null/NaN: 86051\n",
      "__________________\n",
      "(86051,)\n",
      "None\n"
     ]
    }
   ],
   "source": [
    "c = 'ESTU_NACIMIENTO_DIA'\n",
    "print(data_2011[c].value_counts().sort_index().index)\n",
    "print(data_2011[c].value_counts().sort_index())\n",
    "print(missing_data(data_2011[c]))"
   ]
  },
  {
   "cell_type": "code",
   "execution_count": 67,
   "metadata": {
    "collapsed": false
   },
   "outputs": [
    {
     "name": "stdout",
     "output_type": "stream",
     "text": [
      "Float64Index([1.0, 2.0, 3.0, 4.0, 5.0, 6.0, 7.0, 8.0, 9.0, 10.0, 11.0, 12.0], dtype='float64')\n",
      "1     6956\n",
      "2     6335\n",
      "3     7237\n",
      "4     7004\n",
      "5     7239\n",
      "6     6912\n",
      "7     7341\n",
      "8     7236\n",
      "9     7621\n",
      "10    7475\n",
      "11    6940\n",
      "12    7755\n",
      "Name: ESTU_NACIMIENTO_MES, dtype: int64\n",
      "Elementos null/NaN 623\n",
      "__________________\n",
      "Elementos diferentes de null/NaN: 86051\n",
      "__________________\n",
      "(86051,)\n",
      "None\n"
     ]
    }
   ],
   "source": [
    "c = 'ESTU_NACIMIENTO_MES'\n",
    "print(data_2011[c].value_counts().sort_index().index)\n",
    "print(data_2011[c].value_counts().sort_index())\n",
    "print(missing_data(data_2011[c]))"
   ]
  },
  {
   "cell_type": "code",
   "execution_count": 68,
   "metadata": {
    "collapsed": false,
    "scrolled": true
   },
   "outputs": [
    {
     "name": "stdout",
     "output_type": "stream",
     "text": [
      "Float64Index([  22.0, 1933.0, 1938.0, 1940.0, 1941.0, 1942.0, 1943.0, 1944.0,\n",
      "              1945.0, 1946.0, 1947.0, 1948.0, 1949.0, 1950.0, 1951.0, 1952.0,\n",
      "              1953.0, 1954.0, 1955.0, 1956.0, 1957.0, 1958.0, 1959.0, 1960.0,\n",
      "              1961.0, 1962.0, 1963.0, 1964.0, 1965.0, 1966.0, 1967.0, 1968.0,\n",
      "              1969.0, 1970.0, 1971.0, 1972.0, 1973.0, 1974.0, 1975.0, 1976.0,\n",
      "              1977.0, 1978.0, 1979.0, 1980.0, 1981.0, 1982.0, 1983.0, 1984.0,\n",
      "              1985.0, 1986.0, 1987.0, 1988.0, 1989.0, 1990.0, 1991.0, 1992.0,\n",
      "              1993.0, 1994.0, 1995.0, 1996.0, 1997.0, 1998.0, 1999.0, 2000.0,\n",
      "              2001.0, 2002.0, 2003.0, 2004.0],\n",
      "             dtype='float64')\n",
      "22          1\n",
      "1933        1\n",
      "1938        1\n",
      "1940        2\n",
      "1941        1\n",
      "1942        2\n",
      "1943        1\n",
      "1944        4\n",
      "1945        1\n",
      "1946        6\n",
      "1947        7\n",
      "1948       13\n",
      "1949       13\n",
      "1950       19\n",
      "1951       21\n",
      "1952       30\n",
      "1953       32\n",
      "1954       39\n",
      "1955       38\n",
      "1956       50\n",
      "1957       77\n",
      "1958       71\n",
      "1959       91\n",
      "1960       88\n",
      "1961      111\n",
      "1962      122\n",
      "1963      144\n",
      "1964      147\n",
      "1965      163\n",
      "1966      174\n",
      "        ...  \n",
      "1975      404\n",
      "1976      441\n",
      "1977      479\n",
      "1978      570\n",
      "1979      666\n",
      "1980      674\n",
      "1981      793\n",
      "1982      912\n",
      "1983      973\n",
      "1984     1111\n",
      "1985     1428\n",
      "1986     1629\n",
      "1987     1918\n",
      "1988     2598\n",
      "1989     3407\n",
      "1990     4872\n",
      "1991     7237\n",
      "1992    12723\n",
      "1993    20531\n",
      "1994    15201\n",
      "1995     2732\n",
      "1996      157\n",
      "1997       33\n",
      "1998       32\n",
      "1999       14\n",
      "2000        7\n",
      "2001      870\n",
      "2002       63\n",
      "2003       14\n",
      "2004       16\n",
      "Name: ESTU_NACIMIENTO_ANNO, dtype: int64\n",
      "Elementos null/NaN 623\n",
      "__________________\n",
      "Elementos diferentes de null/NaN: 86051\n",
      "__________________\n",
      "(86051,)\n",
      "None\n"
     ]
    }
   ],
   "source": [
    "c = 'ESTU_NACIMIENTO_ANNO'\n",
    "print(data_2011[c].value_counts().sort_index().index)\n",
    "print(data_2011[c].value_counts().sort_index())\n",
    "print(missing_data(data_2011[c]))"
   ]
  },
  {
   "cell_type": "code",
   "execution_count": 69,
   "metadata": {
    "collapsed": true
   },
   "outputs": [],
   "source": [
    "for i in data_2011[c].value_counts().sort_index().index:\n",
    "    if i > 2002:\n",
    "        data_2011[c] = data_2011[c].replace(i, np.nan)\n",
    "    elif i < 1934:\n",
    "        data_2011[c] = data_2011[c].replace(i, np.nan)"
   ]
  },
  {
   "cell_type": "code",
   "execution_count": 71,
   "metadata": {
    "collapsed": false
   },
   "outputs": [],
   "source": [
    "anno = data_2011[data_2011[c].isnull()].index\n",
    "data_2011 = data_2011.drop(anno)"
   ]
  },
  {
   "cell_type": "code",
   "execution_count": 73,
   "metadata": {
    "collapsed": false,
    "scrolled": true
   },
   "outputs": [
    {
     "name": "stdout",
     "output_type": "stream",
     "text": [
      "Int64Index([ 9, 10, 11, 12, 13, 14, 15, 16, 17, 18, 19, 20, 21, 22, 23, 24, 25,\n",
      "            26, 27, 28, 29, 30, 31, 32, 33, 34, 35, 36, 37, 38, 39, 40, 41, 42,\n",
      "            43, 44, 45, 46, 47, 48, 49, 50, 51, 52, 53, 54, 55, 56, 57, 58, 59,\n",
      "            60, 61, 62, 63, 64, 65, 66, 67, 68, 69, 70, 71, 72],\n",
      "           dtype='int64')\n",
      "9       961\n",
      "10       97\n",
      "11       14\n",
      "12       33\n",
      "13       36\n",
      "14      121\n",
      "15     1901\n",
      "16    13302\n",
      "17    20984\n",
      "18    13679\n",
      "19     7723\n",
      "20     5106\n",
      "21     3538\n",
      "22     2709\n",
      "23     1970\n",
      "24     1660\n",
      "25     1458\n",
      "26     1123\n",
      "27     1013\n",
      "28      914\n",
      "29      805\n",
      "30      681\n",
      "31      664\n",
      "32      585\n",
      "33      502\n",
      "34      439\n",
      "35      419\n",
      "36      339\n",
      "37      314\n",
      "38      296\n",
      "      ...  \n",
      "43      180\n",
      "44      182\n",
      "45      154\n",
      "46      157\n",
      "47      144\n",
      "48      124\n",
      "49      107\n",
      "50       94\n",
      "51       97\n",
      "52       77\n",
      "53       68\n",
      "54       55\n",
      "55       42\n",
      "56       36\n",
      "57       34\n",
      "58       30\n",
      "59       21\n",
      "60       20\n",
      "61       15\n",
      "62        9\n",
      "63        9\n",
      "64        4\n",
      "65        4\n",
      "66        3\n",
      "67        1\n",
      "68        3\n",
      "69        1\n",
      "70        1\n",
      "71        1\n",
      "72        2\n",
      "Name: ESTU_EDAD, dtype: int64\n",
      "Elementos null/NaN 0\n",
      "__________________\n",
      "Elementos diferentes de null/NaN: 86019\n",
      "__________________\n",
      "(86019,)\n",
      "None\n"
     ]
    }
   ],
   "source": [
    "c = 'ESTU_EDAD'\n",
    "print(data_2011[c].value_counts().sort_index().index)\n",
    "print(data_2011[c].value_counts().sort_index())\n",
    "print(missing_data(data_2011[c]))"
   ]
  },
  {
   "cell_type": "code",
   "execution_count": 74,
   "metadata": {
    "collapsed": false
   },
   "outputs": [
    {
     "name": "stdout",
     "output_type": "stream",
     "text": [
      "Float64Index([], dtype='float64')\n",
      "Series([], Name: ESTU_LIMITA_BAJAVISION, dtype: int64)\n",
      "Elementos null/NaN 86019\n",
      "__________________\n",
      "Elementos diferentes de null/NaN: 0\n",
      "__________________\n",
      "(0,)\n",
      "None\n"
     ]
    }
   ],
   "source": [
    "c = 'ESTU_LIMITA_BAJAVISION'\n",
    "print(data_2011[c].value_counts().sort_index().index)\n",
    "print(data_2011[c].value_counts().sort_index())\n",
    "print(missing_data(data_2011[c]))"
   ]
  },
  {
   "cell_type": "code",
   "execution_count": 75,
   "metadata": {
    "collapsed": true
   },
   "outputs": [],
   "source": [
    "data_2011 = data_2011.drop([c], axis=1)"
   ]
  },
  {
   "cell_type": "code",
   "execution_count": 77,
   "metadata": {
    "collapsed": false
   },
   "outputs": [
    {
     "name": "stdout",
     "output_type": "stream",
     "text": [
      "Index(['C'], dtype='object')\n",
      "C    2\n",
      "Name: ESTU_LIMITA_SORDOCEGUERA, dtype: int64\n",
      "Elementos null/NaN 86017\n",
      "__________________\n",
      "Elementos diferentes de null/NaN: 2\n",
      "__________________\n",
      "(2,)\n",
      "None\n"
     ]
    }
   ],
   "source": [
    "c = 'ESTU_LIMITA_SORDOCEGUERA'\n",
    "print(data_2011[c].value_counts().sort_index().index)\n",
    "print(data_2011[c].value_counts().sort_index())\n",
    "print(missing_data(data_2011[c]))"
   ]
  },
  {
   "cell_type": "code",
   "execution_count": 78,
   "metadata": {
    "collapsed": true
   },
   "outputs": [],
   "source": [
    "data_2011 = data_2011.drop([c], axis=1)"
   ]
  },
  {
   "cell_type": "code",
   "execution_count": 80,
   "metadata": {
    "collapsed": false
   },
   "outputs": [
    {
     "name": "stdout",
     "output_type": "stream",
     "text": [
      "Index(['G'], dtype='object')\n",
      "G    23\n",
      "Name: ESTU_LIMITA_COGNITIVA, dtype: int64\n",
      "Elementos null/NaN 85996\n",
      "__________________\n",
      "Elementos diferentes de null/NaN: 23\n",
      "__________________\n",
      "(23,)\n",
      "None\n"
     ]
    }
   ],
   "source": [
    "c = 'ESTU_LIMITA_COGNITIVA'\n",
    "print(data_2011[c].value_counts().sort_index().index)\n",
    "print(data_2011[c].value_counts().sort_index())\n",
    "print(missing_data(data_2011[c]))"
   ]
  },
  {
   "cell_type": "code",
   "execution_count": 81,
   "metadata": {
    "collapsed": true
   },
   "outputs": [],
   "source": [
    "data_2011 = data_2011.drop([c], axis=1)"
   ]
  },
  {
   "cell_type": "code",
   "execution_count": 83,
   "metadata": {
    "collapsed": false
   },
   "outputs": [
    {
     "name": "stdout",
     "output_type": "stream",
     "text": [
      "Index(['I'], dtype='object')\n",
      "I    13\n",
      "Name: ESTU_LIMITA_INVIDENTE, dtype: int64\n",
      "Elementos null/NaN 86006\n",
      "__________________\n",
      "Elementos diferentes de null/NaN: 13\n",
      "__________________\n",
      "(13,)\n",
      "None\n"
     ]
    }
   ],
   "source": [
    "c = 'ESTU_LIMITA_INVIDENTE'\n",
    "print(data_2011[c].value_counts().sort_index().index)\n",
    "print(data_2011[c].value_counts().sort_index())\n",
    "print(missing_data(data_2011[c]))"
   ]
  },
  {
   "cell_type": "code",
   "execution_count": 84,
   "metadata": {
    "collapsed": true
   },
   "outputs": [],
   "source": [
    "data_2011 = data_2011.drop([c], axis=1)"
   ]
  },
  {
   "cell_type": "code",
   "execution_count": 85,
   "metadata": {
    "collapsed": false
   },
   "outputs": [
    {
     "name": "stdout",
     "output_type": "stream",
     "text": [
      "Index(['M'], dtype='object')\n",
      "M    105\n",
      "Name: ESTU_LIMITA_MOTRIZ, dtype: int64\n",
      "Elementos null/NaN 85914\n",
      "__________________\n",
      "Elementos diferentes de null/NaN: 105\n",
      "__________________\n",
      "(105,)\n",
      "None\n"
     ]
    }
   ],
   "source": [
    "c = 'ESTU_LIMITA_MOTRIZ'\n",
    "print(data_2011[c].value_counts().sort_index().index)\n",
    "print(data_2011[c].value_counts().sort_index())\n",
    "print(missing_data(data_2011[c]))"
   ]
  },
  {
   "cell_type": "code",
   "execution_count": 86,
   "metadata": {
    "collapsed": true
   },
   "outputs": [],
   "source": [
    "data_2011 = data_2011.drop([c], axis=1)"
   ]
  },
  {
   "cell_type": "code",
   "execution_count": 87,
   "metadata": {
    "collapsed": false
   },
   "outputs": [
    {
     "name": "stdout",
     "output_type": "stream",
     "text": [
      "Index(['R'], dtype='object')\n",
      "R    6\n",
      "Name: ESTU_LIMITA_SORDOINTERPRETE, dtype: int64\n",
      "Elementos null/NaN 86013\n",
      "__________________\n",
      "Elementos diferentes de null/NaN: 6\n",
      "__________________\n",
      "(6,)\n",
      "None\n"
     ]
    }
   ],
   "source": [
    "c = 'ESTU_LIMITA_SORDOINTERPRETE'\n",
    "print(data_2011[c].value_counts().sort_index().index)\n",
    "print(data_2011[c].value_counts().sort_index())\n",
    "print(missing_data(data_2011[c]))"
   ]
  },
  {
   "cell_type": "code",
   "execution_count": 88,
   "metadata": {
    "collapsed": true
   },
   "outputs": [],
   "source": [
    "data_2011 = data_2011.drop([c], axis=1)"
   ]
  },
  {
   "cell_type": "code",
   "execution_count": 89,
   "metadata": {
    "collapsed": false
   },
   "outputs": [
    {
     "name": "stdout",
     "output_type": "stream",
     "text": [
      "Index(['S'], dtype='object')\n",
      "S    28\n",
      "Name: ESTU_LIMITA_SORDONOINTERPRETE, dtype: int64\n",
      "Elementos null/NaN 85991\n",
      "__________________\n",
      "Elementos diferentes de null/NaN: 28\n",
      "__________________\n",
      "(28,)\n",
      "None\n"
     ]
    }
   ],
   "source": [
    "c = 'ESTU_LIMITA_SORDONOINTERPRETE'\n",
    "print(data_2011[c].value_counts().sort_index().index)\n",
    "print(data_2011[c].value_counts().sort_index())\n",
    "print(missing_data(data_2011[c]))"
   ]
  },
  {
   "cell_type": "code",
   "execution_count": 90,
   "metadata": {
    "collapsed": true
   },
   "outputs": [],
   "source": [
    "data_2011 = data_2011.drop([c], axis=1)"
   ]
  },
  {
   "cell_type": "code",
   "execution_count": 92,
   "metadata": {
    "collapsed": false,
    "scrolled": true
   },
   "outputs": [
    {
     "name": "stdout",
     "output_type": "stream",
     "text": [
      "Float64Index([ 1.0,  2.0,  3.0,  4.0,  5.0,  6.0,  7.0,  8.0,  9.0, 10.0, 11.0,\n",
      "              12.0, 13.0, 14.0, 15.0, 16.0, 17.0, 99.0],\n",
      "             dtype='float64')\n",
      "1     1743\n",
      "2        5\n",
      "3      213\n",
      "4       10\n",
      "5       23\n",
      "6       77\n",
      "7       36\n",
      "8       81\n",
      "9      134\n",
      "10      71\n",
      "11     428\n",
      "12      14\n",
      "13      47\n",
      "14       2\n",
      "15      10\n",
      "16       5\n",
      "17      38\n",
      "99    1104\n",
      "Name: ESTU_ETNIA, dtype: int64\n",
      "Elementos null/NaN 81978\n",
      "__________________\n",
      "Elementos diferentes de null/NaN: 4041\n",
      "__________________\n",
      "(4041,)\n",
      "None\n"
     ]
    }
   ],
   "source": [
    "c = 'ESTU_ETNIA'\n",
    "print(data_2011[c].value_counts().sort_index().index)\n",
    "print(data_2011[c].value_counts().sort_index())\n",
    "print(missing_data(data_2011[c]))"
   ]
  },
  {
   "cell_type": "code",
   "execution_count": 93,
   "metadata": {
    "collapsed": true
   },
   "outputs": [],
   "source": [
    "data_2011.fillna(99, inplace=True)"
   ]
  },
  {
   "cell_type": "code",
   "execution_count": 94,
   "metadata": {
    "collapsed": false,
    "scrolled": true
   },
   "outputs": [
    {
     "name": "stdout",
     "output_type": "stream",
     "text": [
      "Index(['ABEJORRAL', 'ABREGO', 'ACACIAS', 'ACEVEDO', 'ACHI', 'AGRADO',\n",
      "       'AGUA DE DIOS', 'AGUACHICA', 'AGUADA', 'AGUADAS',\n",
      "       ...\n",
      "       'YOTOCO', 'YUMBO', 'ZAPATOCA', 'ZAPAYAN', 'ZARAGOZA', 'ZARZAL',\n",
      "       'ZETAQUIRA', 'ZIPACON', 'ZIPAQUIRA', 'ZONA BANANERA'],\n",
      "      dtype='object', length=927)\n",
      "ABEJORRAL                     27\n",
      "ABREGO                        15\n",
      "ACACIAS                       79\n",
      "ACEVEDO                       68\n",
      "ACHI                           1\n",
      "AGRADO                        13\n",
      "AGUA DE DIOS                   5\n",
      "AGUACHICA                    128\n",
      "AGUADA                         2\n",
      "AGUADAS                       24\n",
      "AGUAZUL                       56\n",
      "AGUSTIN CODAZZI               45\n",
      "AIPE                          18\n",
      "ALBAN                          2\n",
      "ALBAN (SAN JOSE)              14\n",
      "ALBANIA                       89\n",
      "ALCALA                         7\n",
      "ALDANA                        15\n",
      "ALEJANDRIA                    30\n",
      "ALGECIRAS                     45\n",
      "ALMAGUER                       4\n",
      "ALMEIDA                        2\n",
      "ALPUJARRA                      3\n",
      "ALTAMIRA                       9\n",
      "ALTO BAUDO (PIE DE PATO)       3\n",
      "ALVARADO                       6\n",
      "AMAGA                         11\n",
      "AMALFI                         7\n",
      "AMBALEMA                       5\n",
      "ANAPOIMA                       3\n",
      "                            ... \n",
      "VILLAHERMOSA                   2\n",
      "VILLAMARIA                   135\n",
      "VILLANUEVA                    87\n",
      "VILLAPINZON                   19\n",
      "VILLARRICA                    15\n",
      "VILLAVICENCIO               1117\n",
      "VILLAVIEJA                     5\n",
      "VILLETA                       28\n",
      "VIOTA                          1\n",
      "VIRACACHA                      4\n",
      "VISTA HERMOSA                  8\n",
      "VITERBO                        8\n",
      "YACOPI                         2\n",
      "YACUANQUER                    12\n",
      "YAGUARA                       35\n",
      "YALI                          13\n",
      "YARUMAL                       15\n",
      "YOLOMBO                       16\n",
      "YONDO (CASABE)                10\n",
      "YOPAL                        367\n",
      "YOTOCO                        14\n",
      "YUMBO                        292\n",
      "ZAPATOCA                      10\n",
      "ZAPAYAN                        1\n",
      "ZARAGOZA                       5\n",
      "ZARZAL                        94\n",
      "ZETAQUIRA                     10\n",
      "ZIPACON                        3\n",
      "ZIPAQUIRA                    160\n",
      "ZONA BANANERA                  5\n",
      "Name: ESTU_RESIDE_MCPIO, dtype: int64\n",
      "Elementos null/NaN 0\n",
      "__________________\n",
      "Elementos diferentes de null/NaN: 86019\n",
      "__________________\n",
      "(86019,)\n",
      "None\n"
     ]
    }
   ],
   "source": [
    "c = 'ESTU_RESIDE_MCPIO'\n",
    "print(data_2011[c].value_counts().sort_index().index)\n",
    "print(data_2011[c].value_counts().sort_index())\n",
    "print(missing_data(data_2011[c]))"
   ]
  },
  {
   "cell_type": "code",
   "execution_count": 95,
   "metadata": {
    "collapsed": false,
    "scrolled": true
   },
   "outputs": [
    {
     "name": "stdout",
     "output_type": "stream",
     "text": [
      "Index(['AMAZONAS', 'ANTIOQUIA', 'ARAUCA', 'ATLÁNTICO', 'BOGOTÁ', 'BOLÍVAR',\n",
      "       'BOYACÁ', 'CALDAS', 'CAQUETÁ', 'CASANARE', 'CAUCA', 'CESAR', 'CHOCÓ',\n",
      "       'CUNDINAMARCA', 'CÓRDOBA', 'GUAINÍA', 'GUAVIARE', 'HUILA', 'LA GUAJIRA',\n",
      "       'MAGDALENA', 'META', 'NARIÑO', 'NORTE SANTANDER', 'PUTUMAYO', 'QUINDÍO',\n",
      "       'RISARALDA', 'SAN ANDRÉS', 'SANTANDER', 'SUCRE', 'TOLIMA', 'VALLE',\n",
      "       'VAUPÉS', 'VICHADA'],\n",
      "      dtype='object')\n",
      "AMAZONAS              23\n",
      "ANTIOQUIA           7190\n",
      "ARAUCA               303\n",
      "ATLÁNTICO           1682\n",
      "BOGOTÁ             15460\n",
      "BOLÍVAR             1264\n",
      "BOYACÁ              4014\n",
      "CALDAS              2581\n",
      "CAQUETÁ              564\n",
      "CASANARE             602\n",
      "CAUCA               2710\n",
      "CESAR                886\n",
      "CHOCÓ                422\n",
      "CUNDINAMARCA        3187\n",
      "CÓRDOBA              918\n",
      "GUAINÍA               20\n",
      "GUAVIARE              66\n",
      "HUILA               4119\n",
      "LA GUAJIRA           661\n",
      "MAGDALENA            536\n",
      "META                1382\n",
      "NARIÑO              4995\n",
      "NORTE SANTANDER     1446\n",
      "PUTUMAYO             674\n",
      "QUINDÍO             1066\n",
      "RISARALDA           1558\n",
      "SAN ANDRÉS            25\n",
      "SANTANDER           6102\n",
      "SUCRE                390\n",
      "TOLIMA              3263\n",
      "VALLE              17888\n",
      "VAUPÉS                11\n",
      "VICHADA               11\n",
      "Name: ESTU_RESIDE_DEPTO, dtype: int64\n",
      "Elementos null/NaN 0\n",
      "__________________\n",
      "Elementos diferentes de null/NaN: 86019\n",
      "__________________\n",
      "(86019,)\n",
      "None\n"
     ]
    }
   ],
   "source": [
    "c = 'ESTU_RESIDE_DEPTO'\n",
    "print(data_2011[c].value_counts().sort_index().index)\n",
    "print(data_2011[c].value_counts().sort_index())\n",
    "print(missing_data(data_2011[c]))"
   ]
  },
  {
   "cell_type": "code",
   "execution_count": 96,
   "metadata": {
    "collapsed": false
   },
   "outputs": [
    {
     "name": "stdout",
     "output_type": "stream",
     "text": [
      "Float64Index([1.0, 2.0, 3.0, 4.0, 5.0, 6.0, 7.0, 8.0, 9.0, 10.0, 99.0], dtype='float64')\n",
      "1      7979\n",
      "2      1642\n",
      "3      2146\n",
      "4     10192\n",
      "5      3959\n",
      "6      2692\n",
      "7      2131\n",
      "8      3613\n",
      "9      2445\n",
      "10    49173\n",
      "99       47\n",
      "Name: ESTU_ZONA_RESIDE, dtype: int64\n",
      "Elementos null/NaN 0\n",
      "__________________\n",
      "Elementos diferentes de null/NaN: 86019\n",
      "__________________\n",
      "(86019,)\n",
      "None\n"
     ]
    }
   ],
   "source": [
    "c = 'ESTU_ZONA_RESIDE'\n",
    "print(data_2011[c].value_counts().sort_index().index)\n",
    "print(data_2011[c].value_counts().sort_index())\n",
    "print(missing_data(data_2011[c]))"
   ]
  },
  {
   "cell_type": "code",
   "execution_count": 97,
   "metadata": {
    "collapsed": false
   },
   "outputs": [
    {
     "name": "stdout",
     "output_type": "stream",
     "text": [
      "Float64Index([1.0, 2.0, 99.0], dtype='float64')\n",
      "1     72495\n",
      "2     13491\n",
      "99       33\n",
      "Name: ESTU_AREA_RESIDE, dtype: int64\n",
      "Elementos null/NaN 0\n",
      "__________________\n",
      "Elementos diferentes de null/NaN: 86019\n",
      "__________________\n",
      "(86019,)\n",
      "None\n"
     ]
    }
   ],
   "source": [
    "c = 'ESTU_AREA_RESIDE'\n",
    "print(data_2011[c].value_counts().sort_index().index)\n",
    "print(data_2011[c].value_counts().sort_index())\n",
    "print(missing_data(data_2011[c]))"
   ]
  },
  {
   "cell_type": "code",
   "execution_count": 98,
   "metadata": {
    "collapsed": false,
    "scrolled": true
   },
   "outputs": [
    {
     "name": "stdout",
     "output_type": "stream",
     "text": [
      "Float64Index([     0.0,      2.0,      3.0,     24.0,     26.0,     42.0,\n",
      "                  59.0,     67.0,     90.0,     99.0,\n",
      "              ...\n",
      "              607713.0, 608745.0, 609271.0, 620963.0, 622878.0, 626952.0,\n",
      "              627737.0, 628214.0, 658195.0, 999999.0],\n",
      "             dtype='float64', length=9417)\n",
      "0           32\n",
      "2          323\n",
      "3         3605\n",
      "24           1\n",
      "26           1\n",
      "42           1\n",
      "59           7\n",
      "67           3\n",
      "90           1\n",
      "99        2031\n",
      "117          1\n",
      "125          1\n",
      "141          1\n",
      "182         90\n",
      "207          1\n",
      "208          1\n",
      "223          2\n",
      "224          1\n",
      "226          1\n",
      "237          1\n",
      "240         21\n",
      "257          4\n",
      "265         42\n",
      "282          1\n",
      "294          1\n",
      "315          2\n",
      "346          1\n",
      "349          1\n",
      "350          2\n",
      "364          1\n",
      "          ... \n",
      "235416       1\n",
      "239624       1\n",
      "251207       1\n",
      "255901       1\n",
      "265165       1\n",
      "265876       1\n",
      "267575       1\n",
      "267674       1\n",
      "269324       1\n",
      "273029       1\n",
      "447839       1\n",
      "464735       1\n",
      "473074       1\n",
      "535427       1\n",
      "543728       1\n",
      "555557       1\n",
      "561589       1\n",
      "566380       1\n",
      "593764       1\n",
      "604330       1\n",
      "607713       1\n",
      "608745       1\n",
      "609271       1\n",
      "620963       1\n",
      "622878       1\n",
      "626952       1\n",
      "627737       1\n",
      "628214       1\n",
      "658195       1\n",
      "999999    1448\n",
      "Name: IND_COD_ICFES_TERMINO, dtype: int64\n",
      "Elementos null/NaN 0\n",
      "__________________\n",
      "Elementos diferentes de null/NaN: 86019\n",
      "__________________\n",
      "(86019,)\n",
      "None\n"
     ]
    }
   ],
   "source": [
    "c = 'IND_COD_ICFES_TERMINO'\n",
    "print(data_2011[c].value_counts().sort_index().index)\n",
    "print(data_2011[c].value_counts().sort_index())\n",
    "print(missing_data(data_2011[c]))"
   ]
  },
  {
   "cell_type": "code",
   "execution_count": 99,
   "metadata": {
    "collapsed": false,
    "scrolled": true
   },
   "outputs": [
    {
     "name": "stdout",
     "output_type": "stream",
     "text": [
      "Float64Index([     2.0,      3.0,     42.0,     59.0,     67.0,     99.0,\n",
      "                 117.0,    125.0,    182.0,    208.0,\n",
      "              ...\n",
      "              156794.0, 156802.0, 156828.0, 156851.0, 156893.0, 156927.0,\n",
      "              156943.0, 156976.0, 157321.0, 999999.0],\n",
      "             dtype='float64', length=8746)\n",
      "2          414\n",
      "3         3283\n",
      "42           1\n",
      "59           8\n",
      "67           2\n",
      "99           2\n",
      "117          1\n",
      "125          1\n",
      "182         91\n",
      "208          1\n",
      "240         22\n",
      "257          5\n",
      "265         43\n",
      "315          2\n",
      "364          1\n",
      "372          1\n",
      "380          1\n",
      "422          1\n",
      "455          1\n",
      "471          1\n",
      "489          1\n",
      "497          7\n",
      "588          1\n",
      "638        141\n",
      "653          2\n",
      "661          1\n",
      "687          1\n",
      "737          1\n",
      "786         16\n",
      "794          2\n",
      "          ... \n",
      "156505       3\n",
      "156513       2\n",
      "156521       9\n",
      "156547      28\n",
      "156562       1\n",
      "156588       4\n",
      "156596      13\n",
      "156604      51\n",
      "156612       2\n",
      "156638       6\n",
      "156653      34\n",
      "156679       4\n",
      "156687      34\n",
      "156695      28\n",
      "156711       1\n",
      "156729       7\n",
      "156752      32\n",
      "156760       8\n",
      "156778      37\n",
      "156786      63\n",
      "156794      88\n",
      "156802       3\n",
      "156828       4\n",
      "156851       3\n",
      "156893       1\n",
      "156927       2\n",
      "156943      15\n",
      "156976      35\n",
      "157321       5\n",
      "999999    1786\n",
      "Name: COLE_COD_ICFES, dtype: int64\n",
      "Elementos null/NaN 0\n",
      "__________________\n",
      "Elementos diferentes de null/NaN: 86019\n",
      "__________________\n",
      "(86019,)\n",
      "None\n"
     ]
    }
   ],
   "source": [
    "c = 'COLE_COD_ICFES'\n",
    "print(data_2011[c].value_counts().sort_index().index)\n",
    "print(data_2011[c].value_counts().sort_index())\n",
    "print(missing_data(data_2011[c]))"
   ]
  },
  {
   "cell_type": "code",
   "execution_count": 100,
   "metadata": {
    "collapsed": false
   },
   "outputs": [
    {
     "name": "stdout",
     "output_type": "stream",
     "text": [
      "cant null antes: 3697\n",
      "cant null despues: 0\n"
     ]
    }
   ],
   "source": [
    "for i in data_2011[c].value_counts().sort_index().index:\n",
    "    if len(str(i)) < 4:\n",
    "        data_2011[c] = data_2011[c].replace(i, np.nan)\n",
    "        \n",
    "Do_resamples(data_2011, c, float)"
   ]
  },
  {
   "cell_type": "code",
   "execution_count": 102,
   "metadata": {
    "collapsed": false,
    "scrolled": true
   },
   "outputs": [
    {
     "name": "stdout",
     "output_type": "stream",
     "text": [
      "Index([            99, 473024000490.0, 311001105391.0, 125286000123.0,\n",
      "       311001104786.0, 311001109605.0, 305001020558.0, 105001024571.0,\n",
      "       141001003341.0, '305001024609',\n",
      "       ...\n",
      "       519807000007.0, 311848000961.0, 205001006526.0, 170708000186.0,\n",
      "       154871000252.0, 315001003421.0, 105030000028.0, 325430000264.0,\n",
      "       313001008500.0, 311001047049.0],\n",
      "      dtype='object', length=6692)\n",
      "99                8397\n",
      "473024000490.0     378\n",
      "311001105391.0     288\n",
      "125286000123.0     278\n",
      "311001104786.0     262\n",
      "311001109605.0     259\n",
      "305001020558.0     250\n",
      "105001024571.0     247\n",
      "141001003341.0     232\n",
      "305001024609       227\n",
      "368001005488       226\n",
      "152001000777.0     215\n",
      "305890001390       209\n",
      "376001003461.0     208\n",
      "376001000721.0     201\n",
      "376001028219.0     201\n",
      "311001094942.0     188\n",
      "176001005813.0     172\n",
      "376001026925.0     172\n",
      "141001000066.0     169\n",
      "115001000367.0     169\n",
      "168001003591.0     168\n",
      "152001000599.0     165\n",
      "311001106592.0     161\n",
      "176001001818.0     156\n",
      "311001105863       151\n",
      "341001005440.0     148\n",
      "376001000276.0     146\n",
      "368001007669.0     146\n",
      "163001001325.0     142\n",
      "                  ... \n",
      "454001007921.0       1\n",
      "270235000111.0       1\n",
      "152418000133         1\n",
      "217442000122.0       1\n",
      "311001046263.0       1\n",
      "305761000689.0       1\n",
      "125168000216.0       1\n",
      "105001000141.0       1\n",
      "105001000132.0       1\n",
      "276606000290.0       1\n",
      "225320000884.0       1\n",
      "197001001670         1\n",
      "325754002961.0       1\n",
      "105030000010.0       1\n",
      "266594000374.0       1\n",
      "376001027573.0       1\n",
      "108001074674.0       1\n",
      "105172000238.0       1\n",
      "425377076720         1\n",
      "468077000360.0       1\n",
      "519807000007.0       1\n",
      "311848000961.0       1\n",
      "205001006526.0       1\n",
      "170708000186.0       1\n",
      "154871000252.0       1\n",
      "315001003421.0       1\n",
      "105030000028.0       1\n",
      "325430000264.0       1\n",
      "313001008500.0       1\n",
      "311001047049.0       1\n",
      "Name: COLE_COD_DANE_INSTITUCION, dtype: int64\n",
      "Elementos null/NaN 0\n",
      "__________________\n",
      "Elementos diferentes de null/NaN: 86019\n",
      "__________________\n",
      "(86019,)\n",
      "None\n"
     ]
    }
   ],
   "source": [
    "c = 'COLE_COD_DANE_INSTITUCION'\n",
    "print(data_2011[c].value_counts().index)\n",
    "print(data_2011[c].value_counts())\n",
    "print(missing_data(data_2011[c]))"
   ]
  },
  {
   "cell_type": "code",
   "execution_count": 103,
   "metadata": {
    "collapsed": true
   },
   "outputs": [],
   "source": [
    "data_2011 = data_2011.drop([c], axis=1)"
   ]
  },
  {
   "cell_type": "code",
   "execution_count": 105,
   "metadata": {
    "collapsed": false,
    "scrolled": true
   },
   "outputs": [
    {
     "name": "stdout",
     "output_type": "stream",
     "text": [
      "Index([                                                                           'INSTITUCION NO REGISTRADA',\n",
      "                                                                              'VALIDACION BACHILLERATO ICFES',\n",
      "                                                                  'INSTITUCION DE EDUCACION MEDIA EXTRANJERA',\n",
      "                                                 'BACHILLERATO AGROPECUARIO SAT PROHACIENDO - SEDE PRINCIPAL',\n",
      "       'COL TECNISISTEMAS SEDE SUBA                                                                         ',\n",
      "                                                                  'CONCENTRACION  URBANA MIGUEL ANTONIO CARO',\n",
      "       'COL BRITANICO SEDE TUNJUELITO                                                                       ',\n",
      "                                                                         'INSTITUTO GERWILL - SEDE PRINCIPAL',\n",
      "                                                                                   'COL CREADORES DEL FUTURO',\n",
      "                              'INSTITUTO REGIONAL COREDI                                                    ',\n",
      "       ...\n",
      "                                                                         'INSTITUCIÓN EDUCATIVA RAFAEL NUÑEZ',\n",
      "                                                                                   'COLEGIO ALEJANDRO SUAREZ',\n",
      "                                                              'INSTITUCION EDUCATIVA VICENTE ROYG Y VILLALBA',\n",
      "                                                        'CENTRO EDUCATIVO VICTOR JULIO MIER - SEDE PRINCIPAL',\n",
      "                                                                         'INSTITUTO AGRICOLA  DE ALTO JORDAN',\n",
      "                                                                                      'LICEO CALIMIO DESEPAZ',\n",
      "                                                                                           'COL TEC AGRICOLA',\n",
      "                                                                     'LICEO COOPERATIVO JERONIMO LUIS TEJELO',\n",
      "                                                                    'INSTITUTO DOCENTE ABEL BETANCOURTH RUIZ',\n",
      "                                                                  'INSTITUCION EDUCATIVA COMERCIAL DE PALMAR'],\n",
      "      dtype='object', length=7064)\n",
      "INSTITUCION NO REGISTRADA                                                                               3283\n",
      "VALIDACION BACHILLERATO ICFES                                                                           1786\n",
      "INSTITUCION DE EDUCACION MEDIA EXTRANJERA                                                                414\n",
      "BACHILLERATO AGROPECUARIO SAT PROHACIENDO - SEDE PRINCIPAL                                               378\n",
      "COL TECNISISTEMAS SEDE SUBA                                                                              288\n",
      "CONCENTRACION  URBANA MIGUEL ANTONIO CARO                                                                278\n",
      "COL BRITANICO SEDE TUNJUELITO                                                                            262\n",
      "INSTITUTO GERWILL - SEDE PRINCIPAL                                                                       259\n",
      "COL CREADORES DEL FUTURO                                                                                 250\n",
      "INSTITUTO REGIONAL COREDI                                                                                248\n",
      "COL VIDA Y PAZ SEDE CENTRO                                                                               247\n",
      "INSTITUCION EDUCATIVA MUNICIPAL INEM LUIS DELFIN INSUASTY RODRIGUEZ                                      234\n",
      "I.E. INEM JULIAN MOTTA SALAS                                                                             232\n",
      "COL COMPUSOCIAL                                                                                          227\n",
      "COL  COLOMBO VENEZOLANO                                                                                  226\n",
      "I.E.M. CIUDAD DE PASTO - SEDE PRINCIPAL                                                                  215\n",
      "INSTITUTO CODESARROLLO - SEDE PRINCIPAL                                                                  209\n",
      "COLEGIO SAN ANTONIO MARIA CLARET                                                                         208\n",
      "COLEGIO COLOMBIANO DE BACHILLERATO                                                                       207\n",
      "COLEGIO FRANCISCANO DE FRAY DAMIAN GONZALEZ                                                              201\n",
      "COLEGIO COMFANDI EL PRADO                                                                                201\n",
      "INSTITUTO REGIONAL COREDI - SEDE PRINCIPAL                                                               189\n",
      "CENT DE EDUC FORMAL ROBERT HOOKE                                                                         188\n",
      "07/01 INSTITUCION EDUCATIVA JORGE ISAACS INEM                                                            172\n",
      "COMFANDI MIRAFLORES                                                                                      172\n",
      "CARLOS ARTURO TORRES SEDE CENTRAL                                                                        169\n",
      "IE LICEO DE SANTA LIBRADA                                                                                169\n",
      "I.E.M. MARIA GORETTI - SEDE PRINCIPAL                                                                    165\n",
      "COL HEISENBERG SEDE KENNEDY                                                                              161\n",
      "COL DE BTO. TECNICO EN COMERCIO Y SISTEMAS HEISENBERG                                                    156\n",
      "                                                                                                        ... \n",
      "INSTITUTO TECNICO INDUSTRIAL FELIX TIBERIO GUZMAN                                                          1\n",
      "COLEGIO FEMENINO DE SANTA HELENA                                                                           1\n",
      "CONCENTRACION EDUCATIVA RAFAEL NUÑEZ                                                                       1\n",
      "COLEGIO INTEGRADO ROEL Y VELASCO                                                                           1\n",
      "COL MARIA AUXILIADORA                                                                                      1\n",
      "CENTRO EDUCATIVO GENERAL VICTOR ALBERTO DELGADO MALLARINO                                                  1\n",
      "INSTITUCION  EDUCATIVA DEPARTAMENTAL PUERTO BOGOTA                                                         1\n",
      "COL MONSERRATE                                                                                             1\n",
      "COL NUEVO GIMN                                                                                             1\n",
      "COLEGIO BILINGÜE SAN JUAN DE ÁVILA - SEDE PRINCIPAL                                                        1\n",
      "COLEGIO ROBLEDO                                                                                            1\n",
      "INST CERROS DEL SUR ICES                                                                                   1\n",
      "INST. EDUC. DIST. CONCENTRACION CEVILLAR (ANT. C.E.B. # 099)                                               1\n",
      "JHON F KENNEDY                                                                                             1\n",
      "LICEO MODERNO DE SOLEDAD                                                                                   1\n",
      "I. E. R. CHURIDO PUEBLO                                                                                    1\n",
      "IE TEC ANTONIO NARIÑO - SEDE PRINCIPAL                                                                     1\n",
      "I.E. AGUACHICA - SEDE PRINCIPAL                                                                            1\n",
      "ESCOLOMBIAS DE CARTAGENA                                                                                   1\n",
      "LICEO  JUVENIL  EL  RODEO                                                                                  1\n",
      "INSTITUCIÓN EDUCATIVA RAFAEL NUÑEZ                                                                         1\n",
      "COLEGIO ALEJANDRO SUAREZ                                                                                   1\n",
      "INSTITUCION EDUCATIVA VICENTE ROYG Y VILLALBA                                                              1\n",
      "CENTRO EDUCATIVO VICTOR JULIO MIER - SEDE PRINCIPAL                                                        1\n",
      "INSTITUTO AGRICOLA  DE ALTO JORDAN                                                                         1\n",
      "LICEO CALIMIO DESEPAZ                                                                                      1\n",
      "COL TEC AGRICOLA                                                                                           1\n",
      "LICEO COOPERATIVO JERONIMO LUIS TEJELO                                                                     1\n",
      "INSTITUTO DOCENTE ABEL BETANCOURTH RUIZ                                                                    1\n",
      "INSTITUCION EDUCATIVA COMERCIAL DE PALMAR                                                                  1\n",
      "Name: COLE_NOMBRE_SEDE, dtype: int64\n",
      "Elementos null/NaN 0\n",
      "__________________\n",
      "Elementos diferentes de null/NaN: 86019\n",
      "__________________\n",
      "(86019,)\n",
      "None\n"
     ]
    }
   ],
   "source": [
    "c = 'COLE_NOMBRE_SEDE'\n",
    "print(data_2011[c].value_counts().index)\n",
    "print(data_2011[c].value_counts())\n",
    "print(missing_data(data_2011[c]))"
   ]
  },
  {
   "cell_type": "code",
   "execution_count": 106,
   "metadata": {
    "collapsed": true
   },
   "outputs": [],
   "source": [
    "data_2011 = data_2011.drop([c], axis=1)"
   ]
  },
  {
   "cell_type": "code",
   "execution_count": 108,
   "metadata": {
    "collapsed": false
   },
   "outputs": [
    {
     "name": "stdout",
     "output_type": "stream",
     "text": [
      "Index(['A', 'F', 'B', 99], dtype='object')\n",
      "A     37891\n",
      "F     31725\n",
      "B     14615\n",
      "99     1788\n",
      "Name: COLE_CALENDARIO, dtype: int64\n",
      "Elementos null/NaN 0\n",
      "__________________\n",
      "Elementos diferentes de null/NaN: 86019\n",
      "__________________\n",
      "(86019,)\n",
      "None\n"
     ]
    }
   ],
   "source": [
    "c = 'COLE_CALENDARIO'\n",
    "print(data_2011[c].value_counts().index)\n",
    "print(data_2011[c].value_counts())\n",
    "print(missing_data(data_2011[c]))"
   ]
  },
  {
   "cell_type": "code",
   "execution_count": 109,
   "metadata": {
    "collapsed": false
   },
   "outputs": [
    {
     "name": "stdout",
     "output_type": "stream",
     "text": [
      "cant null antes: 1788\n",
      "cant null despues: 1\n",
      "cant null antes: 1\n",
      "cant null despues: 0\n"
     ]
    }
   ],
   "source": [
    "data_2011[c] = data_2011[c].replace(99, np.nan)\n",
    "Do_resamples(data_2011, c, str)"
   ]
  },
  {
   "cell_type": "code",
   "execution_count": 111,
   "metadata": {
    "collapsed": false
   },
   "outputs": [
    {
     "name": "stdout",
     "output_type": "stream",
     "text": [
      "Index(['X', 99, 'F', 'M'], dtype='object')\n",
      "X     74240\n",
      "99     5485\n",
      "F      4642\n",
      "M      1652\n",
      "Name: COLE_GENERO, dtype: int64\n",
      "Elementos null/NaN 0\n",
      "__________________\n",
      "Elementos diferentes de null/NaN: 86019\n",
      "__________________\n",
      "(86019,)\n",
      "None\n"
     ]
    }
   ],
   "source": [
    "c = 'COLE_GENERO'\n",
    "print(data_2011[c].value_counts().index)\n",
    "print(data_2011[c].value_counts())\n",
    "print(missing_data(data_2011[c]))"
   ]
  },
  {
   "cell_type": "code",
   "execution_count": 112,
   "metadata": {
    "collapsed": false
   },
   "outputs": [
    {
     "name": "stdout",
     "output_type": "stream",
     "text": [
      "cant null antes: 5485\n",
      "cant null despues: 0\n"
     ]
    }
   ],
   "source": [
    "data_2011[c] = data_2011[c].replace(99, np.nan)\n",
    "Do_resamples(data_2011, c, str)"
   ]
  },
  {
   "cell_type": "code",
   "execution_count": 114,
   "metadata": {
    "collapsed": false
   },
   "outputs": [
    {
     "name": "stdout",
     "output_type": "stream",
     "text": [
      "Index(['N', 'O', 99], dtype='object')\n",
      "N     48175\n",
      "O     32359\n",
      "99     5485\n",
      "Name: COLE_NATURALEZA, dtype: int64\n",
      "Elementos null/NaN 0\n",
      "__________________\n",
      "Elementos diferentes de null/NaN: 86019\n",
      "__________________\n",
      "(86019,)\n",
      "None\n"
     ]
    }
   ],
   "source": [
    "c = 'COLE_NATURALEZA'\n",
    "print(data_2011[c].value_counts().index)\n",
    "print(data_2011[c].value_counts())\n",
    "print(missing_data(data_2011[c]))"
   ]
  },
  {
   "cell_type": "code",
   "execution_count": 115,
   "metadata": {
    "collapsed": false
   },
   "outputs": [
    {
     "name": "stdout",
     "output_type": "stream",
     "text": [
      "cant null antes: 5485\n",
      "cant null despues: 0\n"
     ]
    }
   ],
   "source": [
    "data_2011[c] = data_2011[c].replace(99, np.nan)\n",
    "Do_resamples(data_2011, c, str)"
   ]
  },
  {
   "cell_type": "code",
   "execution_count": 116,
   "metadata": {
    "collapsed": false
   },
   "outputs": [
    {
     "name": "stdout",
     "output_type": "stream",
     "text": [
      "Float64Index([0.0, 1.0, 99.0], dtype='float64')\n",
      "0     66548\n",
      "1      4386\n",
      "99    15085\n",
      "Name: COLE_BILINGUE, dtype: int64\n",
      "Elementos null/NaN 0\n",
      "__________________\n",
      "Elementos diferentes de null/NaN: 86019\n",
      "__________________\n",
      "(86019,)\n",
      "None\n"
     ]
    }
   ],
   "source": [
    "c = 'COLE_BILINGUE'\n",
    "print(data_2011[c].value_counts().sort_index().index)\n",
    "print(data_2011[c].value_counts().sort_index())\n",
    "print(missing_data(data_2011[c]))"
   ]
  },
  {
   "cell_type": "code",
   "execution_count": 117,
   "metadata": {
    "collapsed": false
   },
   "outputs": [
    {
     "name": "stdout",
     "output_type": "stream",
     "text": [
      "cant null antes: 15085\n",
      "cant null despues: 0\n"
     ]
    }
   ],
   "source": [
    "data_2011[c] = data_2011[c].replace(99, np.nan)\n",
    "Do_resamples(data_2011, c, float)"
   ]
  },
  {
   "cell_type": "code",
   "execution_count": 119,
   "metadata": {
    "collapsed": false
   },
   "outputs": [
    {
     "name": "stdout",
     "output_type": "stream",
     "text": [
      "Index([              'MAÑANA', 'COMPLETA U ORDINARIA',                'NOCHE',\n",
      "       'SABATINA - DOMINICAL',                'TARDE',                     99,\n",
      "                      'UNICA'],\n",
      "      dtype='object')\n",
      "MAÑANA                  34514\n",
      "COMPLETA U ORDINARIA    19563\n",
      "NOCHE                   10747\n",
      "SABATINA - DOMINICAL     9979\n",
      "TARDE                    7513\n",
      "99                       3699\n",
      "UNICA                       4\n",
      "Name: COLE_JORNADA, dtype: int64\n",
      "Elementos null/NaN 0\n",
      "__________________\n",
      "Elementos diferentes de null/NaN: 86019\n",
      "__________________\n",
      "(86019,)\n",
      "None\n"
     ]
    }
   ],
   "source": [
    "c = 'COLE_JORNADA'\n",
    "print(data_2011[c].value_counts().index)\n",
    "print(data_2011[c].value_counts())\n",
    "print(missing_data(data_2011[c]))"
   ]
  },
  {
   "cell_type": "code",
   "execution_count": 120,
   "metadata": {
    "collapsed": false
   },
   "outputs": [
    {
     "name": "stdout",
     "output_type": "stream",
     "text": [
      "cant null antes: 3699\n",
      "cant null despues: 0\n"
     ]
    }
   ],
   "source": [
    "data_2011[c] = data_2011[c].replace(99, np.nan)\n",
    "Do_resamples(data_2011, c, str)"
   ]
  },
  {
   "cell_type": "code",
   "execution_count": 122,
   "metadata": {
    "collapsed": false
   },
   "outputs": [
    {
     "name": "stdout",
     "output_type": "stream",
     "text": [
      "Index(['ACADEMICO', 'ACADEMICO Y TECNICO', 'TECNICO', 99, 'NORMALISTA',\n",
      "       'DESCONOCIDO'],\n",
      "      dtype='object')\n",
      "ACADEMICO              55039\n",
      "ACADEMICO Y TECNICO    12338\n",
      "TECNICO                11689\n",
      "99                      5500\n",
      "NORMALISTA              1418\n",
      "DESCONOCIDO               35\n",
      "Name: COLE_CARACTER, dtype: int64\n",
      "Elementos null/NaN 0\n",
      "__________________\n",
      "Elementos diferentes de null/NaN: 86019\n",
      "__________________\n",
      "(86019,)\n",
      "None\n"
     ]
    }
   ],
   "source": [
    "c = 'COLE_CARACTER'\n",
    "print(data_2011[c].value_counts().index)\n",
    "print(data_2011[c].value_counts())\n",
    "print(missing_data(data_2011[c]))"
   ]
  },
  {
   "cell_type": "code",
   "execution_count": 123,
   "metadata": {
    "collapsed": false
   },
   "outputs": [
    {
     "name": "stdout",
     "output_type": "stream",
     "text": [
      "cant null antes: 5500\n",
      "cant null despues: 0\n"
     ]
    }
   ],
   "source": [
    "data_2011[c] = data_2011[c].replace(99, np.nan)\n",
    "Do_resamples(data_2011, c, str)"
   ]
  },
  {
   "cell_type": "code",
   "execution_count": 124,
   "metadata": {
    "collapsed": false
   },
   "outputs": [
    {
     "name": "stdout",
     "output_type": "stream",
     "text": [
      "Float64Index([0.0, 1.0, 2.0, 3.0, 99.0], dtype='float64')\n",
      "0       292\n",
      "1       375\n",
      "2       298\n",
      "3      2356\n",
      "99    82698\n",
      "Name: ESTU_CARRDESEADA_TIPO, dtype: int64\n",
      "Elementos null/NaN 0\n",
      "__________________\n",
      "Elementos diferentes de null/NaN: 86019\n",
      "__________________\n",
      "(86019,)\n",
      "None\n"
     ]
    }
   ],
   "source": [
    "c = 'ESTU_CARRDESEADA_TIPO'\n",
    "print(data_2011[c].value_counts().sort_index().index)\n",
    "print(data_2011[c].value_counts().sort_index())\n",
    "print(missing_data(data_2011[c]))"
   ]
  },
  {
   "cell_type": "code",
   "execution_count": 125,
   "metadata": {
    "collapsed": false,
    "scrolled": true
   },
   "outputs": [
    {
     "name": "stdout",
     "output_type": "stream",
     "text": [
      "Float64Index([    99.0,   1101.0,   1102.0,   1103.0,   1104.0,   1105.0,\n",
      "                1106.0,   1107.0,   1108.0,   1110.0,\n",
      "              ...\n",
      "                9114.0,   9115.0,   9119.0,   9120.0,   9121.0,   9122.0,\n",
      "                9124.0,   9126.0,   9129.0, 110221.0],\n",
      "             dtype='float64', length=283)\n",
      "99        79736\n",
      "1101        540\n",
      "1102         31\n",
      "1103         35\n",
      "1104         14\n",
      "1105         38\n",
      "1106        135\n",
      "1107          7\n",
      "1108         52\n",
      "1110        170\n",
      "1111         80\n",
      "1112        138\n",
      "1113         21\n",
      "1114        237\n",
      "1115         21\n",
      "1117         20\n",
      "1118          2\n",
      "1119         44\n",
      "1120         15\n",
      "1121          7\n",
      "1122          6\n",
      "1123          2\n",
      "1124          2\n",
      "1201        189\n",
      "1202          9\n",
      "1203       1001\n",
      "1204        276\n",
      "1205         23\n",
      "1206        322\n",
      "1207        139\n",
      "          ...  \n",
      "4817          2\n",
      "4822          3\n",
      "4823          3\n",
      "4827          3\n",
      "4828          2\n",
      "4829          4\n",
      "4832          2\n",
      "4835          2\n",
      "4836          1\n",
      "5802          9\n",
      "9101         10\n",
      "9102          1\n",
      "9103         31\n",
      "9104         25\n",
      "9105          4\n",
      "9107          4\n",
      "9110         84\n",
      "9111         20\n",
      "9112         34\n",
      "9113          7\n",
      "9114          3\n",
      "9115          6\n",
      "9119          1\n",
      "9120          2\n",
      "9121          1\n",
      "9122          1\n",
      "9124          7\n",
      "9126          1\n",
      "9129          2\n",
      "110221        1\n",
      "Name: ESTU_IES_COD_DESEADA, dtype: int64\n",
      "Elementos null/NaN 0\n",
      "__________________\n",
      "Elementos diferentes de null/NaN: 86019\n",
      "__________________\n",
      "(86019,)\n",
      "None\n"
     ]
    }
   ],
   "source": [
    "c = 'ESTU_IES_COD_DESEADA'\n",
    "print(data_2011[c].value_counts().sort_index().index)\n",
    "print(data_2011[c].value_counts().sort_index())\n",
    "print(missing_data(data_2011[c]))"
   ]
  },
  {
   "cell_type": "code",
   "execution_count": 127,
   "metadata": {
    "collapsed": false,
    "scrolled": true
   },
   "outputs": [
    {
     "ename": "TypeError",
     "evalue": "unorderable types: float() > str()",
     "output_type": "error",
     "traceback": [
      "\u001b[1;31m---------------------------------------------------------------------------\u001b[0m",
      "\u001b[1;31mTypeError\u001b[0m                                 Traceback (most recent call last)",
      "\u001b[1;32m/home/Foreroo/Proyecto/New_Project/tools/label_encoder.py\u001b[0m in \u001b[0;36m<module>\u001b[1;34m()\u001b[0m\n\u001b[0;32m      1\u001b[0m \u001b[0mdata_2011\u001b[0m\u001b[1;33m[\u001b[0m\u001b[0mc\u001b[0m\u001b[1;33m]\u001b[0m \u001b[1;33m=\u001b[0m \u001b[0mdata_2011\u001b[0m\u001b[1;33m[\u001b[0m\u001b[0mc\u001b[0m\u001b[1;33m]\u001b[0m\u001b[1;33m.\u001b[0m\u001b[0mreplace\u001b[0m\u001b[1;33m(\u001b[0m\u001b[1;36m99\u001b[0m\u001b[1;33m,\u001b[0m \u001b[0mnp\u001b[0m\u001b[1;33m.\u001b[0m\u001b[0mnan\u001b[0m\u001b[1;33m)\u001b[0m\u001b[1;33m\u001b[0m\u001b[0m\n\u001b[1;32m----> 2\u001b[1;33m \u001b[0mDo_resamples\u001b[0m\u001b[1;33m(\u001b[0m\u001b[0mdata_2011\u001b[0m\u001b[1;33m,\u001b[0m \u001b[0mc\u001b[0m\u001b[1;33m,\u001b[0m \u001b[0mfloat\u001b[0m\u001b[1;33m)\u001b[0m\u001b[1;33m\u001b[0m\u001b[0m\n\u001b[0m",
      "\u001b[1;32m/home/Foreroo/Proyecto/New_Project/tools/label_encoder.py\u001b[0m in \u001b[0;36mDo_resamples\u001b[1;34m(df, col, typ)\u001b[0m\n\u001b[0;32m     12\u001b[0m \u001b[1;33m\u001b[0m\u001b[0m\n\u001b[0;32m     13\u001b[0m \u001b[1;32mdef\u001b[0m \u001b[0mDo_resamples\u001b[0m\u001b[1;33m(\u001b[0m\u001b[0mdf\u001b[0m\u001b[1;33m,\u001b[0m \u001b[0mcol\u001b[0m\u001b[1;33m,\u001b[0m \u001b[0mtyp\u001b[0m\u001b[1;33m)\u001b[0m\u001b[1;33m:\u001b[0m\u001b[1;33m\u001b[0m\u001b[0m\n\u001b[1;32m---> 14\u001b[1;33m     \u001b[0mp\u001b[0m \u001b[1;33m=\u001b[0m \u001b[0mget_proportions\u001b[0m\u001b[1;33m(\u001b[0m\u001b[0mdf\u001b[0m\u001b[1;33m,\u001b[0m \u001b[0mcol\u001b[0m\u001b[1;33m)\u001b[0m\u001b[1;33m\u001b[0m\u001b[0m\n\u001b[0m\u001b[0;32m     15\u001b[0m     \u001b[0mdf\u001b[0m\u001b[1;33m,\u001b[0m \u001b[0mr\u001b[0m \u001b[1;33m=\u001b[0m \u001b[0mresample_NaN_proportion\u001b[0m\u001b[1;33m(\u001b[0m\u001b[0mdf\u001b[0m\u001b[1;33m,\u001b[0m \u001b[0mcol\u001b[0m\u001b[1;33m,\u001b[0m \u001b[0mp\u001b[0m\u001b[1;33m,\u001b[0m \u001b[0mtyp\u001b[0m\u001b[1;33m)\u001b[0m\u001b[1;33m\u001b[0m\u001b[0m\n\u001b[0;32m     16\u001b[0m     \u001b[1;32mwhile\u001b[0m\u001b[1;33m(\u001b[0m\u001b[0mr\u001b[0m \u001b[1;33m!=\u001b[0m \u001b[1;36m0\u001b[0m\u001b[1;33m)\u001b[0m\u001b[1;33m:\u001b[0m\u001b[1;33m\u001b[0m\u001b[0m\n",
      "\u001b[1;32m/home/Foreroo/Proyecto/New_Project/tools/label_encoder.py\u001b[0m in \u001b[0;36mget_proportions\u001b[1;34m(df, col)\u001b[0m\n\u001b[0;32m     20\u001b[0m     \u001b[1;34m\"\"\"This function get the proportion of each value found in the DataFramea into a list\"\"\"\u001b[0m\u001b[1;33m\u001b[0m\u001b[0m\n\u001b[0;32m     21\u001b[0m     \u001b[0mp\u001b[0m \u001b[1;33m=\u001b[0m \u001b[1;33m[\u001b[0m\u001b[1;33m]\u001b[0m\u001b[1;33m\u001b[0m\u001b[0m\n\u001b[1;32m---> 22\u001b[1;33m     \u001b[0mTVS\u001b[0m \u001b[1;33m=\u001b[0m \u001b[0mdf\u001b[0m\u001b[1;33m[\u001b[0m\u001b[0mcol\u001b[0m\u001b[1;33m]\u001b[0m\u001b[1;33m.\u001b[0m\u001b[0mvalue_counts\u001b[0m\u001b[1;33m(\u001b[0m\u001b[1;33m)\u001b[0m\u001b[1;33m.\u001b[0m\u001b[0msort_index\u001b[0m\u001b[1;33m(\u001b[0m\u001b[1;33m)\u001b[0m\u001b[1;33m.\u001b[0m\u001b[0mvalues\u001b[0m\u001b[1;33m.\u001b[0m\u001b[0msum\u001b[0m\u001b[1;33m(\u001b[0m\u001b[1;33m)\u001b[0m\u001b[1;33m\u001b[0m\u001b[0m\n\u001b[0m\u001b[0;32m     23\u001b[0m     \u001b[1;32mfor\u001b[0m \u001b[0mj\u001b[0m \u001b[1;32min\u001b[0m \u001b[0mdf\u001b[0m\u001b[1;33m[\u001b[0m\u001b[0mcol\u001b[0m\u001b[1;33m]\u001b[0m\u001b[1;33m.\u001b[0m\u001b[0mvalue_counts\u001b[0m\u001b[1;33m(\u001b[0m\u001b[1;33m)\u001b[0m\u001b[1;33m.\u001b[0m\u001b[0msort_index\u001b[0m\u001b[1;33m(\u001b[0m\u001b[1;33m)\u001b[0m\u001b[1;33m.\u001b[0m\u001b[0mvalues\u001b[0m\u001b[1;33m:\u001b[0m\u001b[1;33m\u001b[0m\u001b[0m\n\u001b[0;32m     24\u001b[0m         \u001b[0mp\u001b[0m\u001b[1;33m.\u001b[0m\u001b[0mappend\u001b[0m\u001b[1;33m(\u001b[0m\u001b[1;33m(\u001b[0m\u001b[0mj\u001b[0m\u001b[1;33m)\u001b[0m\u001b[1;33m/\u001b[0m\u001b[0mTVS\u001b[0m\u001b[1;33m)\u001b[0m\u001b[1;33m\u001b[0m\u001b[0m\n",
      "\u001b[1;32m/usr/local/lib/python3.4/dist-packages/pandas/core/series.py\u001b[0m in \u001b[0;36msort_index\u001b[1;34m(self, axis, level, ascending, inplace, sort_remaining)\u001b[0m\n\u001b[0;32m   1674\u001b[0m         \u001b[1;32melse\u001b[0m\u001b[1;33m:\u001b[0m\u001b[1;33m\u001b[0m\u001b[0m\n\u001b[0;32m   1675\u001b[0m             new_index, indexer = index.sort_values(return_indexer=True,\n\u001b[1;32m-> 1676\u001b[1;33m                                                    ascending=ascending)\n\u001b[0m\u001b[0;32m   1677\u001b[0m \u001b[1;33m\u001b[0m\u001b[0m\n\u001b[0;32m   1678\u001b[0m         \u001b[0mnew_values\u001b[0m \u001b[1;33m=\u001b[0m \u001b[0mself\u001b[0m\u001b[1;33m.\u001b[0m\u001b[0m_values\u001b[0m\u001b[1;33m.\u001b[0m\u001b[0mtake\u001b[0m\u001b[1;33m(\u001b[0m\u001b[0mindexer\u001b[0m\u001b[1;33m)\u001b[0m\u001b[1;33m\u001b[0m\u001b[0m\n",
      "\u001b[1;32m/usr/local/lib/python3.4/dist-packages/pandas/core/index.py\u001b[0m in \u001b[0;36msort_values\u001b[1;34m(self, return_indexer, ascending)\u001b[0m\n\u001b[0;32m   1362\u001b[0m         \u001b[0mReturn\u001b[0m \u001b[0msorted\u001b[0m \u001b[0mcopy\u001b[0m \u001b[0mof\u001b[0m \u001b[0mIndex\u001b[0m\u001b[1;33m\u001b[0m\u001b[0m\n\u001b[0;32m   1363\u001b[0m         \"\"\"\n\u001b[1;32m-> 1364\u001b[1;33m         \u001b[0m_as\u001b[0m \u001b[1;33m=\u001b[0m \u001b[0mself\u001b[0m\u001b[1;33m.\u001b[0m\u001b[0margsort\u001b[0m\u001b[1;33m(\u001b[0m\u001b[1;33m)\u001b[0m\u001b[1;33m\u001b[0m\u001b[0m\n\u001b[0m\u001b[0;32m   1365\u001b[0m         \u001b[1;32mif\u001b[0m \u001b[1;32mnot\u001b[0m \u001b[0mascending\u001b[0m\u001b[1;33m:\u001b[0m\u001b[1;33m\u001b[0m\u001b[0m\n\u001b[0;32m   1366\u001b[0m             \u001b[0m_as\u001b[0m \u001b[1;33m=\u001b[0m \u001b[0m_as\u001b[0m\u001b[1;33m[\u001b[0m\u001b[1;33m:\u001b[0m\u001b[1;33m:\u001b[0m\u001b[1;33m-\u001b[0m\u001b[1;36m1\u001b[0m\u001b[1;33m]\u001b[0m\u001b[1;33m\u001b[0m\u001b[0m\n",
      "\u001b[1;32m/usr/local/lib/python3.4/dist-packages/pandas/core/index.py\u001b[0m in \u001b[0;36margsort\u001b[1;34m(self, *args, **kwargs)\u001b[0m\n\u001b[0;32m   1433\u001b[0m         \u001b[1;32mif\u001b[0m \u001b[0mresult\u001b[0m \u001b[1;32mis\u001b[0m \u001b[1;32mNone\u001b[0m\u001b[1;33m:\u001b[0m\u001b[1;33m\u001b[0m\u001b[0m\n\u001b[0;32m   1434\u001b[0m             \u001b[0mresult\u001b[0m \u001b[1;33m=\u001b[0m \u001b[0mnp\u001b[0m\u001b[1;33m.\u001b[0m\u001b[0marray\u001b[0m\u001b[1;33m(\u001b[0m\u001b[0mself\u001b[0m\u001b[1;33m)\u001b[0m\u001b[1;33m\u001b[0m\u001b[0m\n\u001b[1;32m-> 1435\u001b[1;33m         \u001b[1;32mreturn\u001b[0m \u001b[0mresult\u001b[0m\u001b[1;33m.\u001b[0m\u001b[0margsort\u001b[0m\u001b[1;33m(\u001b[0m\u001b[1;33m*\u001b[0m\u001b[0margs\u001b[0m\u001b[1;33m,\u001b[0m \u001b[1;33m**\u001b[0m\u001b[0mkwargs\u001b[0m\u001b[1;33m)\u001b[0m\u001b[1;33m\u001b[0m\u001b[0m\n\u001b[0m\u001b[0;32m   1436\u001b[0m \u001b[1;33m\u001b[0m\u001b[0m\n\u001b[0;32m   1437\u001b[0m     \u001b[1;32mdef\u001b[0m \u001b[0m__add__\u001b[0m\u001b[1;33m(\u001b[0m\u001b[0mself\u001b[0m\u001b[1;33m,\u001b[0m \u001b[0mother\u001b[0m\u001b[1;33m)\u001b[0m\u001b[1;33m:\u001b[0m\u001b[1;33m\u001b[0m\u001b[0m\n",
      "\u001b[1;31mTypeError\u001b[0m: unorderable types: float() > str()"
     ]
    }
   ],
   "source": [
    "data_2011[c] = data_2011[c].replace(99, np.nan)\n",
    "Do_resamples(data_2011, c, float)"
   ]
  },
  {
   "cell_type": "code",
   "execution_count": 128,
   "metadata": {
    "collapsed": false,
    "scrolled": true
   },
   "outputs": [
    {
     "name": "stdout",
     "output_type": "stream",
     "text": [
      "Float64Index([   99.0,  5001.0,  5034.0,  5088.0,  5129.0,  5148.0,  5212.0,\n",
      "               5266.0,  5440.0,  5615.0,  5686.0,  5837.0,  8001.0, 11001.0,\n",
      "              13001.0, 15001.0, 15238.0, 15759.0, 17001.0, 17541.0, 18001.0,\n",
      "              19001.0, 20001.0, 20011.0, 23001.0, 25175.0, 25290.0, 25307.0,\n",
      "              25430.0, 25473.0, 25488.0, 25843.0, 27001.0, 41001.0, 44001.0,\n",
      "              47001.0, 50001.0, 52001.0, 54001.0, 54498.0, 54518.0, 63001.0,\n",
      "              66001.0, 66682.0, 68001.0, 68081.0, 68679.0, 68755.0, 70001.0,\n",
      "              73001.0, 73268.0, 73349.0, 76001.0, 76109.0, 76111.0, 76147.0,\n",
      "              76520.0, 76622.0, 76834.0, 81001.0, 85001.0, 86001.0, 88001.0],\n",
      "             dtype='float64')\n",
      "99       79736\n",
      "5001       486\n",
      "5034         1\n",
      "5088        29\n",
      "5129         1\n",
      "5148        10\n",
      "5212         1\n",
      "5266         4\n",
      "5440         7\n",
      "5615        14\n",
      "5686         4\n",
      "5837         3\n",
      "8001        84\n",
      "11001     1882\n",
      "13001       37\n",
      "15001      154\n",
      "15238        7\n",
      "15759       52\n",
      "17001      199\n",
      "17541        1\n",
      "18001       21\n",
      "19001      191\n",
      "20001       15\n",
      "20011        2\n",
      "23001       23\n",
      "25175       52\n",
      "25290       24\n",
      "25307       10\n",
      "25430        2\n",
      "25473        7\n",
      "         ...  \n",
      "41001      241\n",
      "44001        7\n",
      "47001       22\n",
      "50001       49\n",
      "52001      351\n",
      "54001       31\n",
      "54498        2\n",
      "54518       23\n",
      "63001       58\n",
      "66001       92\n",
      "66682        2\n",
      "68001      357\n",
      "68081        5\n",
      "68679       18\n",
      "68755        2\n",
      "70001        1\n",
      "73001      154\n",
      "73268       12\n",
      "73349        1\n",
      "76001     1458\n",
      "76109        6\n",
      "76111        7\n",
      "76147        3\n",
      "76520       23\n",
      "76622        1\n",
      "76834       20\n",
      "81001        2\n",
      "85001        2\n",
      "86001        1\n",
      "88001        1\n",
      "Name: ESTU_IES_COD_MPIO_DESEADA, dtype: int64\n",
      "Elementos null/NaN 0\n",
      "__________________\n",
      "Elementos diferentes de null/NaN: 86019\n",
      "__________________\n",
      "(86019,)\n",
      "None\n"
     ]
    }
   ],
   "source": [
    "c = 'ESTU_IES_COD_MPIO_DESEADA'\n",
    "print(data_2011[c].value_counts().sort_index().index)\n",
    "print(data_2011[c].value_counts().sort_index())\n",
    "print(missing_data(data_2011[c]))"
   ]
  },
  {
   "cell_type": "code",
   "execution_count": 129,
   "metadata": {
    "collapsed": true
   },
   "outputs": [],
   "source": [
    "data_2011 = data_2011.drop([c], axis=1)"
   ]
  },
  {
   "cell_type": "code",
   "execution_count": 131,
   "metadata": {
    "collapsed": false,
    "scrolled": true
   },
   "outputs": [
    {
     "name": "stdout",
     "output_type": "stream",
     "text": [
      "Index([               99,          'BOGOTÁ',           'VALLE',\n",
      "             'ANTIOQUIA',       'SANTANDER',          'NARIÑO',\n",
      "                 'HUILA',          'BOYACÁ',          'CALDAS',\n",
      "                 'CAUCA',          'TOLIMA',    'CUNDINAMARCA',\n",
      "             'RISARALDA',       'ATLÁNTICO',         'QUINDÍO',\n",
      "       'NORTE SANTANDER',            'META',         'BOLÍVAR',\n",
      "               'CÓRDOBA',       'MAGDALENA',         'CAQUETÁ',\n",
      "                 'CESAR',      'LA GUAJIRA',        'CASANARE',\n",
      "                 'CHOCÓ',          'ARAUCA',      'SAN ANDRÉS',\n",
      "                 'SUCRE',        'PUTUMAYO'],\n",
      "      dtype='object')\n",
      "99                 79736\n",
      "BOGOTÁ              1882\n",
      "VALLE               1518\n",
      "ANTIOQUIA            560\n",
      "SANTANDER            382\n",
      "NARIÑO               351\n",
      "HUILA                241\n",
      "BOYACÁ               213\n",
      "CALDAS               200\n",
      "CAUCA                191\n",
      "TOLIMA               167\n",
      "CUNDINAMARCA         101\n",
      "RISARALDA             94\n",
      "ATLÁNTICO             84\n",
      "QUINDÍO               58\n",
      "NORTE SANTANDER       56\n",
      "META                  49\n",
      "BOLÍVAR               37\n",
      "CÓRDOBA               23\n",
      "MAGDALENA             22\n",
      "CAQUETÁ               21\n",
      "CESAR                 17\n",
      "LA GUAJIRA             7\n",
      "CASANARE               2\n",
      "CHOCÓ                  2\n",
      "ARAUCA                 2\n",
      "SAN ANDRÉS             1\n",
      "SUCRE                  1\n",
      "PUTUMAYO               1\n",
      "Name: ESTU_IES_DEPT_DESEADA, dtype: int64\n",
      "Elementos null/NaN 0\n",
      "__________________\n",
      "Elementos diferentes de null/NaN: 86019\n",
      "__________________\n",
      "(86019,)\n",
      "None\n"
     ]
    }
   ],
   "source": [
    "c = 'ESTU_IES_DEPT_DESEADA'\n",
    "print(data_2011[c].value_counts().index)\n",
    "print(data_2011[c].value_counts())\n",
    "print(missing_data(data_2011[c]))"
   ]
  },
  {
   "cell_type": "code",
   "execution_count": 132,
   "metadata": {
    "collapsed": false
   },
   "outputs": [
    {
     "name": "stdout",
     "output_type": "stream",
     "text": [
      "cant null antes: 79736\n",
      "cant null despues: 0\n"
     ]
    }
   ],
   "source": [
    "data_2011[c] = data_2011[c].replace(99, np.nan)\n",
    "Do_resamples(data_2011, c, str)"
   ]
  },
  {
   "cell_type": "code",
   "execution_count": 133,
   "metadata": {
    "collapsed": false,
    "scrolled": true
   },
   "outputs": [
    {
     "ename": "TypeError",
     "evalue": "unorderable types: str() > int()",
     "output_type": "error",
     "traceback": [
      "\u001b[1;31m---------------------------------------------------------------------------\u001b[0m",
      "\u001b[1;31mTypeError\u001b[0m                                 Traceback (most recent call last)",
      "\u001b[1;32m/home/Foreroo/Proyecto/New_Project/tools/label_encoder.py\u001b[0m in \u001b[0;36m<module>\u001b[1;34m()\u001b[0m\n\u001b[0;32m      1\u001b[0m \u001b[0mc\u001b[0m \u001b[1;33m=\u001b[0m \u001b[1;34m'ESTU_IES_DESEADA_NOMBRE'\u001b[0m\u001b[1;33m\u001b[0m\u001b[0m\n\u001b[1;32m----> 2\u001b[1;33m \u001b[0mprint\u001b[0m\u001b[1;33m(\u001b[0m\u001b[0mdata_2011\u001b[0m\u001b[1;33m[\u001b[0m\u001b[0mc\u001b[0m\u001b[1;33m]\u001b[0m\u001b[1;33m.\u001b[0m\u001b[0mvalue_counts\u001b[0m\u001b[1;33m(\u001b[0m\u001b[1;33m)\u001b[0m\u001b[1;33m.\u001b[0m\u001b[0msort_index\u001b[0m\u001b[1;33m(\u001b[0m\u001b[1;33m)\u001b[0m\u001b[1;33m.\u001b[0m\u001b[0mindex\u001b[0m\u001b[1;33m)\u001b[0m\u001b[1;33m\u001b[0m\u001b[0m\n\u001b[0m\u001b[0;32m      3\u001b[0m \u001b[0mprint\u001b[0m\u001b[1;33m(\u001b[0m\u001b[0mdata_2011\u001b[0m\u001b[1;33m[\u001b[0m\u001b[0mc\u001b[0m\u001b[1;33m]\u001b[0m\u001b[1;33m.\u001b[0m\u001b[0mvalue_counts\u001b[0m\u001b[1;33m(\u001b[0m\u001b[1;33m)\u001b[0m\u001b[1;33m.\u001b[0m\u001b[0msort_index\u001b[0m\u001b[1;33m(\u001b[0m\u001b[1;33m)\u001b[0m\u001b[1;33m)\u001b[0m\u001b[1;33m\u001b[0m\u001b[0m\n\u001b[0;32m      4\u001b[0m \u001b[0mprint\u001b[0m\u001b[1;33m(\u001b[0m\u001b[0mmissing_data\u001b[0m\u001b[1;33m(\u001b[0m\u001b[0mdata_2011\u001b[0m\u001b[1;33m[\u001b[0m\u001b[0mc\u001b[0m\u001b[1;33m]\u001b[0m\u001b[1;33m)\u001b[0m\u001b[1;33m)\u001b[0m\u001b[1;33m\u001b[0m\u001b[0m\n",
      "\u001b[1;32m/usr/local/lib/python3.4/dist-packages/pandas/core/series.py\u001b[0m in \u001b[0;36msort_index\u001b[1;34m(self, axis, level, ascending, inplace, sort_remaining)\u001b[0m\n\u001b[0;32m   1674\u001b[0m         \u001b[1;32melse\u001b[0m\u001b[1;33m:\u001b[0m\u001b[1;33m\u001b[0m\u001b[0m\n\u001b[0;32m   1675\u001b[0m             new_index, indexer = index.sort_values(return_indexer=True,\n\u001b[1;32m-> 1676\u001b[1;33m                                                    ascending=ascending)\n\u001b[0m\u001b[0;32m   1677\u001b[0m \u001b[1;33m\u001b[0m\u001b[0m\n\u001b[0;32m   1678\u001b[0m         \u001b[0mnew_values\u001b[0m \u001b[1;33m=\u001b[0m \u001b[0mself\u001b[0m\u001b[1;33m.\u001b[0m\u001b[0m_values\u001b[0m\u001b[1;33m.\u001b[0m\u001b[0mtake\u001b[0m\u001b[1;33m(\u001b[0m\u001b[0mindexer\u001b[0m\u001b[1;33m)\u001b[0m\u001b[1;33m\u001b[0m\u001b[0m\n",
      "\u001b[1;32m/usr/local/lib/python3.4/dist-packages/pandas/core/index.py\u001b[0m in \u001b[0;36msort_values\u001b[1;34m(self, return_indexer, ascending)\u001b[0m\n\u001b[0;32m   1362\u001b[0m         \u001b[0mReturn\u001b[0m \u001b[0msorted\u001b[0m \u001b[0mcopy\u001b[0m \u001b[0mof\u001b[0m \u001b[0mIndex\u001b[0m\u001b[1;33m\u001b[0m\u001b[0m\n\u001b[0;32m   1363\u001b[0m         \"\"\"\n\u001b[1;32m-> 1364\u001b[1;33m         \u001b[0m_as\u001b[0m \u001b[1;33m=\u001b[0m \u001b[0mself\u001b[0m\u001b[1;33m.\u001b[0m\u001b[0margsort\u001b[0m\u001b[1;33m(\u001b[0m\u001b[1;33m)\u001b[0m\u001b[1;33m\u001b[0m\u001b[0m\n\u001b[0m\u001b[0;32m   1365\u001b[0m         \u001b[1;32mif\u001b[0m \u001b[1;32mnot\u001b[0m \u001b[0mascending\u001b[0m\u001b[1;33m:\u001b[0m\u001b[1;33m\u001b[0m\u001b[0m\n\u001b[0;32m   1366\u001b[0m             \u001b[0m_as\u001b[0m \u001b[1;33m=\u001b[0m \u001b[0m_as\u001b[0m\u001b[1;33m[\u001b[0m\u001b[1;33m:\u001b[0m\u001b[1;33m:\u001b[0m\u001b[1;33m-\u001b[0m\u001b[1;36m1\u001b[0m\u001b[1;33m]\u001b[0m\u001b[1;33m\u001b[0m\u001b[0m\n",
      "\u001b[1;32m/usr/local/lib/python3.4/dist-packages/pandas/core/index.py\u001b[0m in \u001b[0;36margsort\u001b[1;34m(self, *args, **kwargs)\u001b[0m\n\u001b[0;32m   1433\u001b[0m         \u001b[1;32mif\u001b[0m \u001b[0mresult\u001b[0m \u001b[1;32mis\u001b[0m \u001b[1;32mNone\u001b[0m\u001b[1;33m:\u001b[0m\u001b[1;33m\u001b[0m\u001b[0m\n\u001b[0;32m   1434\u001b[0m             \u001b[0mresult\u001b[0m \u001b[1;33m=\u001b[0m \u001b[0mnp\u001b[0m\u001b[1;33m.\u001b[0m\u001b[0marray\u001b[0m\u001b[1;33m(\u001b[0m\u001b[0mself\u001b[0m\u001b[1;33m)\u001b[0m\u001b[1;33m\u001b[0m\u001b[0m\n\u001b[1;32m-> 1435\u001b[1;33m         \u001b[1;32mreturn\u001b[0m \u001b[0mresult\u001b[0m\u001b[1;33m.\u001b[0m\u001b[0margsort\u001b[0m\u001b[1;33m(\u001b[0m\u001b[1;33m*\u001b[0m\u001b[0margs\u001b[0m\u001b[1;33m,\u001b[0m \u001b[1;33m**\u001b[0m\u001b[0mkwargs\u001b[0m\u001b[1;33m)\u001b[0m\u001b[1;33m\u001b[0m\u001b[0m\n\u001b[0m\u001b[0;32m   1436\u001b[0m \u001b[1;33m\u001b[0m\u001b[0m\n\u001b[0;32m   1437\u001b[0m     \u001b[1;32mdef\u001b[0m \u001b[0m__add__\u001b[0m\u001b[1;33m(\u001b[0m\u001b[0mself\u001b[0m\u001b[1;33m,\u001b[0m \u001b[0mother\u001b[0m\u001b[1;33m)\u001b[0m\u001b[1;33m:\u001b[0m\u001b[1;33m\u001b[0m\u001b[0m\n",
      "\u001b[1;31mTypeError\u001b[0m: unorderable types: str() > int()"
     ]
    }
   ],
   "source": [
    "c = 'ESTU_IES_DESEADA_NOMBRE'\n",
    "print(data_2011[c].value_counts().sort_index().index)\n",
    "print(data_2011[c].value_counts().sort_index())\n",
    "print(missing_data(data_2011[c]))"
   ]
  },
  {
   "cell_type": "code",
   "execution_count": 134,
   "metadata": {
    "collapsed": true
   },
   "outputs": [],
   "source": [
    "data_2011 = data_2011.drop([c], axis=1)"
   ]
  },
  {
   "cell_type": "code",
   "execution_count": 136,
   "metadata": {
    "collapsed": false,
    "scrolled": true
   },
   "outputs": [
    {
     "name": "stdout",
     "output_type": "stream",
     "text": [
      "Index([                   99,         'BOGOTÁ D.C.',                'CALI',\n",
      "                  'MEDELLIN',         'BUCARAMANGA',               'PASTO',\n",
      "                     'NEIVA',           'MANIZALES',             'POPAYAN',\n",
      "                     'TUNJA',              'IBAGUE',             'PEREIRA',\n",
      "              'BARRANQUILLA',             'ARMENIA',            'SOGAMOSO',\n",
      "                      'CHIA',       'VILLAVICENCIO',           'CARTAGENA',\n",
      "                    'CUCUTA',               'BELLO',          'FUSAGASUGA',\n",
      "                  'MONTERIA',            'PAMPLONA',             'PALMIRA',\n",
      "               'SANTA MARTA',           'FLORENCIA',               'TULUA',\n",
      "                   'SAN GIL',          'VALLEDUPAR',            'RIONEGRO',\n",
      "                   'ESPINAL',            'GIRARDOT',   'CARMEN DE VIBORAL',\n",
      "                  'RIOHACHA',            'MOSQUERA',             'DUITAMA',\n",
      "                 'MARINILLA',                'BUGA',        'BUENAVENTURA',\n",
      "           'BARRANCABERMEJA',               'UBATE',  'SANTA ROSA DE OSOS',\n",
      "                  'ENVIGADO',               'TURBO',             'CARTAGO',\n",
      "       'SANTA ROSA DE CABAL',              'MADRID',               'OCAÑA',\n",
      "                    'QUIBDO',               'YOPAL',                'NILO',\n",
      "                 'AGUACHICA',              'ARAUCA',             'SOCORRO',\n",
      "               'PENSILVANIA',               'MOCOA',           'SINCELEJO',\n",
      "                     'HONDA',          'SAN ANDRES',          'ROLDANILLO',\n",
      "                    'CALDAS',          'COPACABANA',               'ANDES'],\n",
      "      dtype='object')\n",
      "99                     79736\n",
      "BOGOTÁ D.C.             1882\n",
      "CALI                    1458\n",
      "MEDELLIN                 486\n",
      "BUCARAMANGA              357\n",
      "PASTO                    351\n",
      "NEIVA                    241\n",
      "MANIZALES                199\n",
      "POPAYAN                  191\n",
      "TUNJA                    154\n",
      "IBAGUE                   154\n",
      "PEREIRA                   92\n",
      "BARRANQUILLA              84\n",
      "ARMENIA                   58\n",
      "SOGAMOSO                  52\n",
      "CHIA                      52\n",
      "VILLAVICENCIO             49\n",
      "CARTAGENA                 37\n",
      "CUCUTA                    31\n",
      "BELLO                     29\n",
      "FUSAGASUGA                24\n",
      "MONTERIA                  23\n",
      "PAMPLONA                  23\n",
      "PALMIRA                   23\n",
      "SANTA MARTA               22\n",
      "FLORENCIA                 21\n",
      "TULUA                     20\n",
      "SAN GIL                   18\n",
      "VALLEDUPAR                15\n",
      "RIONEGRO                  14\n",
      "                       ...  \n",
      "RIOHACHA                   7\n",
      "MOSQUERA                   7\n",
      "DUITAMA                    7\n",
      "MARINILLA                  7\n",
      "BUGA                       7\n",
      "BUENAVENTURA               6\n",
      "BARRANCABERMEJA            5\n",
      "UBATE                      4\n",
      "SANTA ROSA DE OSOS         4\n",
      "ENVIGADO                   4\n",
      "TURBO                      3\n",
      "CARTAGO                    3\n",
      "SANTA ROSA DE CABAL        2\n",
      "MADRID                     2\n",
      "OCAÑA                      2\n",
      "QUIBDO                     2\n",
      "YOPAL                      2\n",
      "NILO                       2\n",
      "AGUACHICA                  2\n",
      "ARAUCA                     2\n",
      "SOCORRO                    2\n",
      "PENSILVANIA                1\n",
      "MOCOA                      1\n",
      "SINCELEJO                  1\n",
      "HONDA                      1\n",
      "SAN ANDRES                 1\n",
      "ROLDANILLO                 1\n",
      "CALDAS                     1\n",
      "COPACABANA                 1\n",
      "ANDES                      1\n",
      "Name: ESTU_IES_MPIO_DESEADA, dtype: int64\n",
      "Elementos null/NaN 0\n",
      "__________________\n",
      "Elementos diferentes de null/NaN: 86019\n",
      "__________________\n",
      "(86019,)\n",
      "None\n"
     ]
    }
   ],
   "source": [
    "c = 'ESTU_IES_MPIO_DESEADA'\n",
    "print(data_2011[c].value_counts().index)\n",
    "print(data_2011[c].value_counts())\n",
    "print(missing_data(data_2011[c]))"
   ]
  },
  {
   "cell_type": "code",
   "execution_count": 137,
   "metadata": {
    "collapsed": false
   },
   "outputs": [
    {
     "name": "stdout",
     "output_type": "stream",
     "text": [
      "cant null antes: 79736\n",
      "cant null despues: 0\n"
     ]
    }
   ],
   "source": [
    "data_2011[c] = data_2011[c].replace(99, np.nan)\n",
    "Do_resamples(data_2011, c, str)"
   ]
  },
  {
   "cell_type": "code",
   "execution_count": 138,
   "metadata": {
    "collapsed": false,
    "scrolled": true
   },
   "outputs": [
    {
     "name": "stdout",
     "output_type": "stream",
     "text": [
      "Float64Index([ 1.0,  2.0,  3.0,  4.0,  5.0,  6.0,  7.0,  8.0,  9.0, 10.0, 11.0,\n",
      "              12.0, 13.0, 14.0, 15.0, 16.0, 17.0, 18.0, 19.0, 20.0, 21.0, 22.0,\n",
      "              23.0, 24.0, 25.0, 26.0, 27.0, 28.0, 29.0, 30.0, 31.0, 32.0, 33.0,\n",
      "              34.0, 35.0, 36.0, 37.0, 38.0, 39.0, 40.0, 41.0, 42.0, 43.0, 44.0,\n",
      "              45.0, 46.0, 47.0, 48.0, 49.0, 50.0, 51.0, 52.0, 53.0, 54.0, 55.0,\n",
      "              56.0, 57.0, 58.0, 59.0, 60.0, 61.0, 62.0, 63.0, 64.0, 65.0, 66.0,\n",
      "              68.0, 70.0, 71.0, 72.0, 74.0, 75.0, 76.0, 82.0, 85.0, 88.0, 90.0,\n",
      "              92.0, 93.0, 95.0, 98.0, 99.0],\n",
      "             dtype='float64')\n",
      "1        10\n",
      "2        21\n",
      "3        29\n",
      "4        33\n",
      "5        30\n",
      "6        38\n",
      "7        21\n",
      "8        30\n",
      "9        29\n",
      "10       49\n",
      "11       33\n",
      "12       81\n",
      "13       58\n",
      "14       46\n",
      "15      103\n",
      "16       77\n",
      "17       85\n",
      "18       89\n",
      "19       67\n",
      "20      167\n",
      "21       90\n",
      "22      106\n",
      "23      106\n",
      "24      100\n",
      "25      156\n",
      "26       72\n",
      "27       84\n",
      "28      121\n",
      "29       70\n",
      "30      215\n",
      "      ...  \n",
      "53       10\n",
      "54        2\n",
      "55        6\n",
      "56       10\n",
      "57        9\n",
      "58        4\n",
      "59        6\n",
      "60        7\n",
      "61        2\n",
      "62        3\n",
      "63        1\n",
      "64        3\n",
      "65        5\n",
      "66        5\n",
      "68        1\n",
      "70       12\n",
      "71        1\n",
      "72        1\n",
      "74        1\n",
      "75        1\n",
      "76        6\n",
      "82        2\n",
      "85        3\n",
      "88        2\n",
      "90        2\n",
      "92        2\n",
      "93        1\n",
      "95        1\n",
      "98        1\n",
      "99    82552\n",
      "Name: ESTU_TOTAL_ALUMNOS_CURSO, dtype: int64\n",
      "Elementos null/NaN 0\n",
      "__________________\n",
      "Elementos diferentes de null/NaN: 86019\n",
      "__________________\n",
      "(86019,)\n",
      "None\n"
     ]
    }
   ],
   "source": [
    "c = 'ESTU_TOTAL_ALUMNOS_CURSO'\n",
    "print(data_2011[c].value_counts().sort_index().index)\n",
    "print(data_2011[c].value_counts().sort_index())\n",
    "print(missing_data(data_2011[c]))"
   ]
  },
  {
   "cell_type": "code",
   "execution_count": 139,
   "metadata": {
    "collapsed": false
   },
   "outputs": [
    {
     "name": "stdout",
     "output_type": "stream",
     "text": [
      "Float64Index([  99.0, 1985.0, 1986.0, 1987.0, 1988.0, 1989.0, 1990.0, 1991.0,\n",
      "              1992.0, 1993.0, 1994.0, 1995.0, 1996.0, 1997.0, 1998.0, 1999.0,\n",
      "              2000.0],\n",
      "             dtype='float64')\n",
      "99      82549\n",
      "1985      245\n",
      "1986       22\n",
      "1987       26\n",
      "1988       12\n",
      "1989       19\n",
      "1990       41\n",
      "1991       31\n",
      "1992       35\n",
      "1993       41\n",
      "1994       55\n",
      "1995       97\n",
      "1996      143\n",
      "1997      225\n",
      "1998      327\n",
      "1999      636\n",
      "2000     1515\n",
      "Name: ESTU_ANO_MATRICULA_PRIMERO, dtype: int64\n",
      "Elementos null/NaN 0\n",
      "__________________\n",
      "Elementos diferentes de null/NaN: 86019\n",
      "__________________\n",
      "(86019,)\n",
      "None\n"
     ]
    }
   ],
   "source": [
    "c = 'ESTU_ANO_MATRICULA_PRIMERO'\n",
    "print(data_2011[c].value_counts().sort_index().index)\n",
    "print(data_2011[c].value_counts().sort_index())\n",
    "print(missing_data(data_2011[c]))"
   ]
  },
  {
   "cell_type": "code",
   "execution_count": 141,
   "metadata": {
    "collapsed": true
   },
   "outputs": [
    {
     "ename": "TypeError",
     "evalue": "unorderable types: float() > str()",
     "output_type": "error",
     "traceback": [
      "\u001b[1;31m---------------------------------------------------------------------------\u001b[0m",
      "\u001b[1;31mTypeError\u001b[0m                                 Traceback (most recent call last)",
      "\u001b[1;32m/home/Foreroo/Proyecto/New_Project/tools/label_encoder.py\u001b[0m in \u001b[0;36m<module>\u001b[1;34m()\u001b[0m\n\u001b[0;32m      1\u001b[0m \u001b[0mdata_2011\u001b[0m\u001b[1;33m[\u001b[0m\u001b[0mc\u001b[0m\u001b[1;33m]\u001b[0m \u001b[1;33m=\u001b[0m \u001b[0mdata_2011\u001b[0m\u001b[1;33m[\u001b[0m\u001b[0mc\u001b[0m\u001b[1;33m]\u001b[0m\u001b[1;33m.\u001b[0m\u001b[0mreplace\u001b[0m\u001b[1;33m(\u001b[0m\u001b[1;36m99\u001b[0m\u001b[1;33m,\u001b[0m \u001b[0mnp\u001b[0m\u001b[1;33m.\u001b[0m\u001b[0mnan\u001b[0m\u001b[1;33m)\u001b[0m\u001b[1;33m\u001b[0m\u001b[0m\n\u001b[1;32m----> 2\u001b[1;33m \u001b[0mDo_resamples\u001b[0m\u001b[1;33m(\u001b[0m\u001b[0mdata_2011\u001b[0m\u001b[1;33m,\u001b[0m \u001b[0mc\u001b[0m\u001b[1;33m,\u001b[0m \u001b[0mfloat\u001b[0m\u001b[1;33m)\u001b[0m\u001b[1;33m\u001b[0m\u001b[0m\n\u001b[0m",
      "\u001b[1;32m/home/Foreroo/Proyecto/New_Project/tools/label_encoder.py\u001b[0m in \u001b[0;36mDo_resamples\u001b[1;34m(df, col, typ)\u001b[0m\n\u001b[0;32m     12\u001b[0m \u001b[1;33m\u001b[0m\u001b[0m\n\u001b[0;32m     13\u001b[0m \u001b[1;32mdef\u001b[0m \u001b[0mDo_resamples\u001b[0m\u001b[1;33m(\u001b[0m\u001b[0mdf\u001b[0m\u001b[1;33m,\u001b[0m \u001b[0mcol\u001b[0m\u001b[1;33m,\u001b[0m \u001b[0mtyp\u001b[0m\u001b[1;33m)\u001b[0m\u001b[1;33m:\u001b[0m\u001b[1;33m\u001b[0m\u001b[0m\n\u001b[1;32m---> 14\u001b[1;33m     \u001b[0mp\u001b[0m \u001b[1;33m=\u001b[0m \u001b[0mget_proportions\u001b[0m\u001b[1;33m(\u001b[0m\u001b[0mdf\u001b[0m\u001b[1;33m,\u001b[0m \u001b[0mcol\u001b[0m\u001b[1;33m)\u001b[0m\u001b[1;33m\u001b[0m\u001b[0m\n\u001b[0m\u001b[0;32m     15\u001b[0m     \u001b[0mdf\u001b[0m\u001b[1;33m,\u001b[0m \u001b[0mr\u001b[0m \u001b[1;33m=\u001b[0m \u001b[0mresample_NaN_proportion\u001b[0m\u001b[1;33m(\u001b[0m\u001b[0mdf\u001b[0m\u001b[1;33m,\u001b[0m \u001b[0mcol\u001b[0m\u001b[1;33m,\u001b[0m \u001b[0mp\u001b[0m\u001b[1;33m,\u001b[0m \u001b[0mtyp\u001b[0m\u001b[1;33m)\u001b[0m\u001b[1;33m\u001b[0m\u001b[0m\n\u001b[0;32m     16\u001b[0m     \u001b[1;32mwhile\u001b[0m\u001b[1;33m(\u001b[0m\u001b[0mr\u001b[0m \u001b[1;33m!=\u001b[0m \u001b[1;36m0\u001b[0m\u001b[1;33m)\u001b[0m\u001b[1;33m:\u001b[0m\u001b[1;33m\u001b[0m\u001b[0m\n",
      "\u001b[1;32m/home/Foreroo/Proyecto/New_Project/tools/label_encoder.py\u001b[0m in \u001b[0;36mget_proportions\u001b[1;34m(df, col)\u001b[0m\n\u001b[0;32m     20\u001b[0m     \u001b[1;34m\"\"\"This function get the proportion of each value found in the DataFramea into a list\"\"\"\u001b[0m\u001b[1;33m\u001b[0m\u001b[0m\n\u001b[0;32m     21\u001b[0m     \u001b[0mp\u001b[0m \u001b[1;33m=\u001b[0m \u001b[1;33m[\u001b[0m\u001b[1;33m]\u001b[0m\u001b[1;33m\u001b[0m\u001b[0m\n\u001b[1;32m---> 22\u001b[1;33m     \u001b[0mTVS\u001b[0m \u001b[1;33m=\u001b[0m \u001b[0mdf\u001b[0m\u001b[1;33m[\u001b[0m\u001b[0mcol\u001b[0m\u001b[1;33m]\u001b[0m\u001b[1;33m.\u001b[0m\u001b[0mvalue_counts\u001b[0m\u001b[1;33m(\u001b[0m\u001b[1;33m)\u001b[0m\u001b[1;33m.\u001b[0m\u001b[0msort_index\u001b[0m\u001b[1;33m(\u001b[0m\u001b[1;33m)\u001b[0m\u001b[1;33m.\u001b[0m\u001b[0mvalues\u001b[0m\u001b[1;33m.\u001b[0m\u001b[0msum\u001b[0m\u001b[1;33m(\u001b[0m\u001b[1;33m)\u001b[0m\u001b[1;33m\u001b[0m\u001b[0m\n\u001b[0m\u001b[0;32m     23\u001b[0m     \u001b[1;32mfor\u001b[0m \u001b[0mj\u001b[0m \u001b[1;32min\u001b[0m \u001b[0mdf\u001b[0m\u001b[1;33m[\u001b[0m\u001b[0mcol\u001b[0m\u001b[1;33m]\u001b[0m\u001b[1;33m.\u001b[0m\u001b[0mvalue_counts\u001b[0m\u001b[1;33m(\u001b[0m\u001b[1;33m)\u001b[0m\u001b[1;33m.\u001b[0m\u001b[0msort_index\u001b[0m\u001b[1;33m(\u001b[0m\u001b[1;33m)\u001b[0m\u001b[1;33m.\u001b[0m\u001b[0mvalues\u001b[0m\u001b[1;33m:\u001b[0m\u001b[1;33m\u001b[0m\u001b[0m\n\u001b[0;32m     24\u001b[0m         \u001b[0mp\u001b[0m\u001b[1;33m.\u001b[0m\u001b[0mappend\u001b[0m\u001b[1;33m(\u001b[0m\u001b[1;33m(\u001b[0m\u001b[0mj\u001b[0m\u001b[1;33m)\u001b[0m\u001b[1;33m/\u001b[0m\u001b[0mTVS\u001b[0m\u001b[1;33m)\u001b[0m\u001b[1;33m\u001b[0m\u001b[0m\n",
      "\u001b[1;32m/usr/local/lib/python3.4/dist-packages/pandas/core/series.py\u001b[0m in \u001b[0;36msort_index\u001b[1;34m(self, axis, level, ascending, inplace, sort_remaining)\u001b[0m\n\u001b[0;32m   1674\u001b[0m         \u001b[1;32melse\u001b[0m\u001b[1;33m:\u001b[0m\u001b[1;33m\u001b[0m\u001b[0m\n\u001b[0;32m   1675\u001b[0m             new_index, indexer = index.sort_values(return_indexer=True,\n\u001b[1;32m-> 1676\u001b[1;33m                                                    ascending=ascending)\n\u001b[0m\u001b[0;32m   1677\u001b[0m \u001b[1;33m\u001b[0m\u001b[0m\n\u001b[0;32m   1678\u001b[0m         \u001b[0mnew_values\u001b[0m \u001b[1;33m=\u001b[0m \u001b[0mself\u001b[0m\u001b[1;33m.\u001b[0m\u001b[0m_values\u001b[0m\u001b[1;33m.\u001b[0m\u001b[0mtake\u001b[0m\u001b[1;33m(\u001b[0m\u001b[0mindexer\u001b[0m\u001b[1;33m)\u001b[0m\u001b[1;33m\u001b[0m\u001b[0m\n",
      "\u001b[1;32m/usr/local/lib/python3.4/dist-packages/pandas/core/index.py\u001b[0m in \u001b[0;36msort_values\u001b[1;34m(self, return_indexer, ascending)\u001b[0m\n\u001b[0;32m   1362\u001b[0m         \u001b[0mReturn\u001b[0m \u001b[0msorted\u001b[0m \u001b[0mcopy\u001b[0m \u001b[0mof\u001b[0m \u001b[0mIndex\u001b[0m\u001b[1;33m\u001b[0m\u001b[0m\n\u001b[0;32m   1363\u001b[0m         \"\"\"\n\u001b[1;32m-> 1364\u001b[1;33m         \u001b[0m_as\u001b[0m \u001b[1;33m=\u001b[0m \u001b[0mself\u001b[0m\u001b[1;33m.\u001b[0m\u001b[0margsort\u001b[0m\u001b[1;33m(\u001b[0m\u001b[1;33m)\u001b[0m\u001b[1;33m\u001b[0m\u001b[0m\n\u001b[0m\u001b[0;32m   1365\u001b[0m         \u001b[1;32mif\u001b[0m \u001b[1;32mnot\u001b[0m \u001b[0mascending\u001b[0m\u001b[1;33m:\u001b[0m\u001b[1;33m\u001b[0m\u001b[0m\n\u001b[0;32m   1366\u001b[0m             \u001b[0m_as\u001b[0m \u001b[1;33m=\u001b[0m \u001b[0m_as\u001b[0m\u001b[1;33m[\u001b[0m\u001b[1;33m:\u001b[0m\u001b[1;33m:\u001b[0m\u001b[1;33m-\u001b[0m\u001b[1;36m1\u001b[0m\u001b[1;33m]\u001b[0m\u001b[1;33m\u001b[0m\u001b[0m\n",
      "\u001b[1;32m/usr/local/lib/python3.4/dist-packages/pandas/core/index.py\u001b[0m in \u001b[0;36margsort\u001b[1;34m(self, *args, **kwargs)\u001b[0m\n\u001b[0;32m   1433\u001b[0m         \u001b[1;32mif\u001b[0m \u001b[0mresult\u001b[0m \u001b[1;32mis\u001b[0m \u001b[1;32mNone\u001b[0m\u001b[1;33m:\u001b[0m\u001b[1;33m\u001b[0m\u001b[0m\n\u001b[0;32m   1434\u001b[0m             \u001b[0mresult\u001b[0m \u001b[1;33m=\u001b[0m \u001b[0mnp\u001b[0m\u001b[1;33m.\u001b[0m\u001b[0marray\u001b[0m\u001b[1;33m(\u001b[0m\u001b[0mself\u001b[0m\u001b[1;33m)\u001b[0m\u001b[1;33m\u001b[0m\u001b[0m\n\u001b[1;32m-> 1435\u001b[1;33m         \u001b[1;32mreturn\u001b[0m \u001b[0mresult\u001b[0m\u001b[1;33m.\u001b[0m\u001b[0margsort\u001b[0m\u001b[1;33m(\u001b[0m\u001b[1;33m*\u001b[0m\u001b[0margs\u001b[0m\u001b[1;33m,\u001b[0m \u001b[1;33m**\u001b[0m\u001b[0mkwargs\u001b[0m\u001b[1;33m)\u001b[0m\u001b[1;33m\u001b[0m\u001b[0m\n\u001b[0m\u001b[0;32m   1436\u001b[0m \u001b[1;33m\u001b[0m\u001b[0m\n\u001b[0;32m   1437\u001b[0m     \u001b[1;32mdef\u001b[0m \u001b[0m__add__\u001b[0m\u001b[1;33m(\u001b[0m\u001b[0mself\u001b[0m\u001b[1;33m,\u001b[0m \u001b[0mother\u001b[0m\u001b[1;33m)\u001b[0m\u001b[1;33m:\u001b[0m\u001b[1;33m\u001b[0m\u001b[0m\n",
      "\u001b[1;31mTypeError\u001b[0m: unorderable types: float() > str()"
     ]
    }
   ],
   "source": [
    "data_2011[c] = data_2011[c].replace(99, np.nan)\n",
    "Do_resamples(data_2011, c, float)"
   ]
  },
  {
   "cell_type": "code",
   "execution_count": 142,
   "metadata": {
    "collapsed": false,
    "scrolled": true
   },
   "outputs": [
    {
     "name": "stdout",
     "output_type": "stream",
     "text": [
      "Float64Index([  99.0, 1985.0, 1986.0, 1987.0, 1988.0, 1989.0, 1990.0, 1991.0,\n",
      "              1992.0, 1993.0, 1994.0, 1995.0, 1996.0, 1997.0, 1998.0, 1999.0,\n",
      "              2000.0, 2001.0, 2002.0, 2003.0, 2004.0, 2005.0],\n",
      "             dtype='float64')\n",
      "99      82549\n",
      "1985      137\n",
      "1986       12\n",
      "1987       11\n",
      "1988       13\n",
      "1989       15\n",
      "1990       25\n",
      "1991       33\n",
      "1992       20\n",
      "1993       16\n",
      "1994       27\n",
      "1995       38\n",
      "1996       31\n",
      "1997       43\n",
      "1998       35\n",
      "1999       57\n",
      "2000      133\n",
      "2001      153\n",
      "2002      203\n",
      "2003      295\n",
      "2004      588\n",
      "2005     1585\n",
      "Name: ESTU_ANO_TERMINO_QUINTO, dtype: int64\n",
      "Elementos null/NaN 0\n",
      "__________________\n",
      "Elementos diferentes de null/NaN: 86019\n",
      "__________________\n",
      "(86019,)\n",
      "None\n"
     ]
    }
   ],
   "source": [
    "c = 'ESTU_ANO_TERMINO_QUINTO'\n",
    "print(data_2011[c].value_counts().sort_index().index)\n",
    "print(data_2011[c].value_counts().sort_index())\n",
    "print(missing_data(data_2011[c]))"
   ]
  },
  {
   "cell_type": "code",
   "execution_count": 143,
   "metadata": {
    "collapsed": false
   },
   "outputs": [
    {
     "name": "stdout",
     "output_type": "stream",
     "text": [
      "cant null antes: 82549\n",
      "cant null despues: 0\n"
     ]
    }
   ],
   "source": [
    "data_2011[c] = data_2011[c].replace(99, np.nan)\n",
    "Do_resamples(data_2011, c, float)"
   ]
  },
  {
   "cell_type": "code",
   "execution_count": 144,
   "metadata": {
    "collapsed": false
   },
   "outputs": [
    {
     "name": "stdout",
     "output_type": "stream",
     "text": [
      "Float64Index([1.0, 2.0, 3.0, 4.0, 5.0, 6.0, 7.0, 8.0, 9.0, 10.0, 11.0, 99.0], dtype='float64')\n",
      "1      1043\n",
      "2       605\n",
      "3       379\n",
      "4       168\n",
      "5       109\n",
      "6       308\n",
      "7        81\n",
      "8        61\n",
      "9        46\n",
      "10       58\n",
      "11      612\n",
      "99    82549\n",
      "Name: ESTU_ANOS_COLEGIO_ACTUAL, dtype: int64\n",
      "Elementos null/NaN 0\n",
      "__________________\n",
      "Elementos diferentes de null/NaN: 86019\n",
      "__________________\n",
      "(86019,)\n",
      "None\n"
     ]
    }
   ],
   "source": [
    "c = 'ESTU_ANOS_COLEGIO_ACTUAL'\n",
    "print(data_2011[c].value_counts().sort_index().index)\n",
    "print(data_2011[c].value_counts().sort_index())\n",
    "print(missing_data(data_2011[c]))"
   ]
  },
  {
   "cell_type": "code",
   "execution_count": 145,
   "metadata": {
    "collapsed": false
   },
   "outputs": [
    {
     "name": "stdout",
     "output_type": "stream",
     "text": [
      "cant null antes: 82549\n",
      "cant null despues: 0\n"
     ]
    }
   ],
   "source": [
    "data_2011[c] = data_2011[c].replace(99, np.nan)\n",
    "Do_resamples(data_2011, c, float)"
   ]
  },
  {
   "cell_type": "code",
   "execution_count": 146,
   "metadata": {
    "collapsed": false,
    "scrolled": true
   },
   "outputs": [
    {
     "name": "stdout",
     "output_type": "stream",
     "text": [
      "Float64Index([  99.0, 1985.0, 1986.0, 1987.0, 1988.0, 1989.0, 1990.0, 1991.0,\n",
      "              1992.0, 1993.0, 1994.0, 1995.0, 1996.0, 1997.0, 1998.0, 1999.0,\n",
      "              2000.0, 2001.0, 2002.0, 2003.0, 2004.0, 2005.0, 2006.0],\n",
      "             dtype='float64')\n",
      "99      82549\n",
      "1985       79\n",
      "1986       11\n",
      "1987       13\n",
      "1988       12\n",
      "1989       10\n",
      "1990       11\n",
      "1991       19\n",
      "1992       22\n",
      "1993       12\n",
      "1994       19\n",
      "1995       25\n",
      "1996       39\n",
      "1997       35\n",
      "1998       33\n",
      "1999       39\n",
      "2000       62\n",
      "2001      116\n",
      "2002      150\n",
      "2003      213\n",
      "2004      391\n",
      "2005     1085\n",
      "2006     1074\n",
      "Name: ESTU_ANO_MATRICULA_SEXTO, dtype: int64\n",
      "Elementos null/NaN 0\n",
      "__________________\n",
      "Elementos diferentes de null/NaN: 86019\n",
      "__________________\n",
      "(86019,)\n",
      "None\n"
     ]
    }
   ],
   "source": [
    "c = 'ESTU_ANO_MATRICULA_SEXTO'\n",
    "print(data_2011[c].value_counts().sort_index().index)\n",
    "print(data_2011[c].value_counts().sort_index())\n",
    "print(missing_data(data_2011[c]))"
   ]
  },
  {
   "cell_type": "code",
   "execution_count": 147,
   "metadata": {
    "collapsed": false
   },
   "outputs": [
    {
     "name": "stdout",
     "output_type": "stream",
     "text": [
      "cant null antes: 82549\n",
      "cant null despues: 0\n"
     ]
    }
   ],
   "source": [
    "data_2011[c] = data_2011[c].replace(99, np.nan)\n",
    "Do_resamples(data_2011, c, float)"
   ]
  },
  {
   "cell_type": "code",
   "execution_count": 148,
   "metadata": {
    "collapsed": false
   },
   "outputs": [
    {
     "name": "stdout",
     "output_type": "stream",
     "text": [
      "Float64Index([0.0, 1.0, 2.0, 3.0, 99.0], dtype='float64')\n",
      "0       658\n",
      "1      1100\n",
      "2       684\n",
      "3      1028\n",
      "99    82549\n",
      "Name: ESTU_ANOS_PREESCOLAR, dtype: int64\n",
      "Elementos null/NaN 0\n",
      "__________________\n",
      "Elementos diferentes de null/NaN: 86019\n",
      "__________________\n",
      "(86019,)\n",
      "None\n"
     ]
    }
   ],
   "source": [
    "c = 'ESTU_ANOS_PREESCOLAR'\n",
    "print(data_2011[c].value_counts().sort_index().index)\n",
    "print(data_2011[c].value_counts().sort_index())\n",
    "print(missing_data(data_2011[c]))"
   ]
  },
  {
   "cell_type": "code",
   "execution_count": 149,
   "metadata": {
    "collapsed": false,
    "scrolled": true
   },
   "outputs": [
    {
     "name": "stdout",
     "output_type": "stream",
     "text": [
      "cant null antes: 82549\n"
     ]
    },
    {
     "name": "stderr",
     "output_type": "stream",
     "text": [
      "/usr/local/lib/python3.4/dist-packages/pandas/core/internals.py:4288: FutureWarning: elementwise comparison failed; returning scalar instead, but in the future will perform elementwise comparison\n",
      "  comp = (nn == nn_at)\n"
     ]
    },
    {
     "ename": "TypeError",
     "evalue": "unorderable types: float() > str()",
     "output_type": "error",
     "traceback": [
      "\u001b[1;31m---------------------------------------------------------------------------\u001b[0m",
      "\u001b[1;31mTypeError\u001b[0m                                 Traceback (most recent call last)",
      "\u001b[1;32m/home/Foreroo/Proyecto/New_Project/tools/label_encoder.py\u001b[0m in \u001b[0;36m<module>\u001b[1;34m()\u001b[0m\n\u001b[0;32m      1\u001b[0m \u001b[0mdata_2011\u001b[0m\u001b[1;33m[\u001b[0m\u001b[0mc\u001b[0m\u001b[1;33m]\u001b[0m \u001b[1;33m=\u001b[0m \u001b[0mdata_2011\u001b[0m\u001b[1;33m[\u001b[0m\u001b[0mc\u001b[0m\u001b[1;33m]\u001b[0m\u001b[1;33m.\u001b[0m\u001b[0mreplace\u001b[0m\u001b[1;33m(\u001b[0m\u001b[1;36m99\u001b[0m\u001b[1;33m,\u001b[0m \u001b[0mnp\u001b[0m\u001b[1;33m.\u001b[0m\u001b[0mnan\u001b[0m\u001b[1;33m)\u001b[0m\u001b[1;33m\u001b[0m\u001b[0m\n\u001b[1;32m----> 2\u001b[1;33m \u001b[0mDo_resamples\u001b[0m\u001b[1;33m(\u001b[0m\u001b[0mdata_2011\u001b[0m\u001b[1;33m,\u001b[0m \u001b[0mc\u001b[0m\u001b[1;33m,\u001b[0m \u001b[0mstr\u001b[0m\u001b[1;33m)\u001b[0m\u001b[1;33m\u001b[0m\u001b[0m\n\u001b[0m",
      "\u001b[1;32m/home/Foreroo/Proyecto/New_Project/tools/label_encoder.py\u001b[0m in \u001b[0;36mDo_resamples\u001b[1;34m(df, col, typ)\u001b[0m\n\u001b[0;32m     13\u001b[0m \u001b[1;32mdef\u001b[0m \u001b[0mDo_resamples\u001b[0m\u001b[1;33m(\u001b[0m\u001b[0mdf\u001b[0m\u001b[1;33m,\u001b[0m \u001b[0mcol\u001b[0m\u001b[1;33m,\u001b[0m \u001b[0mtyp\u001b[0m\u001b[1;33m)\u001b[0m\u001b[1;33m:\u001b[0m\u001b[1;33m\u001b[0m\u001b[0m\n\u001b[0;32m     14\u001b[0m     \u001b[0mp\u001b[0m \u001b[1;33m=\u001b[0m \u001b[0mget_proportions\u001b[0m\u001b[1;33m(\u001b[0m\u001b[0mdf\u001b[0m\u001b[1;33m,\u001b[0m \u001b[0mcol\u001b[0m\u001b[1;33m)\u001b[0m\u001b[1;33m\u001b[0m\u001b[0m\n\u001b[1;32m---> 15\u001b[1;33m     \u001b[0mdf\u001b[0m\u001b[1;33m,\u001b[0m \u001b[0mr\u001b[0m \u001b[1;33m=\u001b[0m \u001b[0mresample_NaN_proportion\u001b[0m\u001b[1;33m(\u001b[0m\u001b[0mdf\u001b[0m\u001b[1;33m,\u001b[0m \u001b[0mcol\u001b[0m\u001b[1;33m,\u001b[0m \u001b[0mp\u001b[0m\u001b[1;33m,\u001b[0m \u001b[0mtyp\u001b[0m\u001b[1;33m)\u001b[0m\u001b[1;33m\u001b[0m\u001b[0m\n\u001b[0m\u001b[0;32m     16\u001b[0m     \u001b[1;32mwhile\u001b[0m\u001b[1;33m(\u001b[0m\u001b[0mr\u001b[0m \u001b[1;33m!=\u001b[0m \u001b[1;36m0\u001b[0m\u001b[1;33m)\u001b[0m\u001b[1;33m:\u001b[0m\u001b[1;33m\u001b[0m\u001b[0m\n\u001b[0;32m     17\u001b[0m         \u001b[0mdf\u001b[0m\u001b[1;33m,\u001b[0m \u001b[0mr\u001b[0m \u001b[1;33m=\u001b[0m \u001b[0mresample_NaN_proportion\u001b[0m\u001b[1;33m(\u001b[0m\u001b[0mdf\u001b[0m\u001b[1;33m,\u001b[0m \u001b[0mcol\u001b[0m\u001b[1;33m,\u001b[0m \u001b[0mp\u001b[0m\u001b[1;33m,\u001b[0m \u001b[0mtyp\u001b[0m\u001b[1;33m)\u001b[0m\u001b[1;33m\u001b[0m\u001b[0m\n",
      "\u001b[1;32m/home/Foreroo/Proyecto/New_Project/tools/label_encoder.py\u001b[0m in \u001b[0;36mresample_NaN_proportion\u001b[1;34m(df, col, p, typ)\u001b[0m\n\u001b[0;32m     34\u001b[0m     \u001b[0mc\u001b[0m \u001b[1;33m=\u001b[0m \u001b[1;36m0\u001b[0m\u001b[1;33m\u001b[0m\u001b[0m\n\u001b[0;32m     35\u001b[0m     \u001b[1;32mfor\u001b[0m \u001b[0mi\u001b[0m \u001b[1;32min\u001b[0m \u001b[0mp\u001b[0m\u001b[1;33m:\u001b[0m\u001b[1;33m\u001b[0m\u001b[0m\n\u001b[1;32m---> 36\u001b[1;33m         \u001b[0mcl\u001b[0m \u001b[1;33m=\u001b[0m \u001b[0mdf\u001b[0m\u001b[1;33m[\u001b[0m\u001b[0mcol\u001b[0m\u001b[1;33m]\u001b[0m\u001b[1;33m.\u001b[0m\u001b[0mvalue_counts\u001b[0m\u001b[1;33m(\u001b[0m\u001b[1;33m)\u001b[0m\u001b[1;33m.\u001b[0m\u001b[0msort_index\u001b[0m\u001b[1;33m(\u001b[0m\u001b[1;33m)\u001b[0m\u001b[1;33m.\u001b[0m\u001b[0mindex\u001b[0m\u001b[1;33m[\u001b[0m\u001b[0mp\u001b[0m\u001b[1;33m.\u001b[0m\u001b[0mindex\u001b[0m\u001b[1;33m(\u001b[0m\u001b[0mi\u001b[0m\u001b[1;33m)\u001b[0m\u001b[1;33m]\u001b[0m\u001b[1;33m\u001b[0m\u001b[0m\n\u001b[0m\u001b[0;32m     37\u001b[0m         \u001b[1;32mif\u001b[0m \u001b[0mint\u001b[0m\u001b[1;33m(\u001b[0m\u001b[0mi\u001b[0m\u001b[1;33m)\u001b[0m\u001b[1;33m!=\u001b[0m\u001b[1;36m0\u001b[0m\u001b[1;33m:\u001b[0m\u001b[1;33m\u001b[0m\u001b[0m\n\u001b[0;32m     38\u001b[0m             \u001b[0mdf\u001b[0m\u001b[1;33m[\u001b[0m\u001b[0mcol\u001b[0m\u001b[1;33m]\u001b[0m\u001b[1;33m.\u001b[0m\u001b[0mfillna\u001b[0m\u001b[1;33m(\u001b[0m\u001b[0mtyp\u001b[0m\u001b[1;33m(\u001b[0m\u001b[0mcl\u001b[0m\u001b[1;33m)\u001b[0m\u001b[1;33m,\u001b[0m \u001b[0mlimit\u001b[0m\u001b[1;33m=\u001b[0m\u001b[0mint\u001b[0m\u001b[1;33m(\u001b[0m\u001b[0mi\u001b[0m\u001b[1;33m)\u001b[0m\u001b[1;33m,\u001b[0m \u001b[0minplace\u001b[0m\u001b[1;33m=\u001b[0m\u001b[1;32mTrue\u001b[0m\u001b[1;33m)\u001b[0m\u001b[1;33m\u001b[0m\u001b[0m\n",
      "\u001b[1;32m/usr/local/lib/python3.4/dist-packages/pandas/core/series.py\u001b[0m in \u001b[0;36msort_index\u001b[1;34m(self, axis, level, ascending, inplace, sort_remaining)\u001b[0m\n\u001b[0;32m   1674\u001b[0m         \u001b[1;32melse\u001b[0m\u001b[1;33m:\u001b[0m\u001b[1;33m\u001b[0m\u001b[0m\n\u001b[0;32m   1675\u001b[0m             new_index, indexer = index.sort_values(return_indexer=True,\n\u001b[1;32m-> 1676\u001b[1;33m                                                    ascending=ascending)\n\u001b[0m\u001b[0;32m   1677\u001b[0m \u001b[1;33m\u001b[0m\u001b[0m\n\u001b[0;32m   1678\u001b[0m         \u001b[0mnew_values\u001b[0m \u001b[1;33m=\u001b[0m \u001b[0mself\u001b[0m\u001b[1;33m.\u001b[0m\u001b[0m_values\u001b[0m\u001b[1;33m.\u001b[0m\u001b[0mtake\u001b[0m\u001b[1;33m(\u001b[0m\u001b[0mindexer\u001b[0m\u001b[1;33m)\u001b[0m\u001b[1;33m\u001b[0m\u001b[0m\n",
      "\u001b[1;32m/usr/local/lib/python3.4/dist-packages/pandas/core/index.py\u001b[0m in \u001b[0;36msort_values\u001b[1;34m(self, return_indexer, ascending)\u001b[0m\n\u001b[0;32m   1362\u001b[0m         \u001b[0mReturn\u001b[0m \u001b[0msorted\u001b[0m \u001b[0mcopy\u001b[0m \u001b[0mof\u001b[0m \u001b[0mIndex\u001b[0m\u001b[1;33m\u001b[0m\u001b[0m\n\u001b[0;32m   1363\u001b[0m         \"\"\"\n\u001b[1;32m-> 1364\u001b[1;33m         \u001b[0m_as\u001b[0m \u001b[1;33m=\u001b[0m \u001b[0mself\u001b[0m\u001b[1;33m.\u001b[0m\u001b[0margsort\u001b[0m\u001b[1;33m(\u001b[0m\u001b[1;33m)\u001b[0m\u001b[1;33m\u001b[0m\u001b[0m\n\u001b[0m\u001b[0;32m   1365\u001b[0m         \u001b[1;32mif\u001b[0m \u001b[1;32mnot\u001b[0m \u001b[0mascending\u001b[0m\u001b[1;33m:\u001b[0m\u001b[1;33m\u001b[0m\u001b[0m\n\u001b[0;32m   1366\u001b[0m             \u001b[0m_as\u001b[0m \u001b[1;33m=\u001b[0m \u001b[0m_as\u001b[0m\u001b[1;33m[\u001b[0m\u001b[1;33m:\u001b[0m\u001b[1;33m:\u001b[0m\u001b[1;33m-\u001b[0m\u001b[1;36m1\u001b[0m\u001b[1;33m]\u001b[0m\u001b[1;33m\u001b[0m\u001b[0m\n",
      "\u001b[1;32m/usr/local/lib/python3.4/dist-packages/pandas/core/index.py\u001b[0m in \u001b[0;36margsort\u001b[1;34m(self, *args, **kwargs)\u001b[0m\n\u001b[0;32m   1433\u001b[0m         \u001b[1;32mif\u001b[0m \u001b[0mresult\u001b[0m \u001b[1;32mis\u001b[0m \u001b[1;32mNone\u001b[0m\u001b[1;33m:\u001b[0m\u001b[1;33m\u001b[0m\u001b[0m\n\u001b[0;32m   1434\u001b[0m             \u001b[0mresult\u001b[0m \u001b[1;33m=\u001b[0m \u001b[0mnp\u001b[0m\u001b[1;33m.\u001b[0m\u001b[0marray\u001b[0m\u001b[1;33m(\u001b[0m\u001b[0mself\u001b[0m\u001b[1;33m)\u001b[0m\u001b[1;33m\u001b[0m\u001b[0m\n\u001b[1;32m-> 1435\u001b[1;33m         \u001b[1;32mreturn\u001b[0m \u001b[0mresult\u001b[0m\u001b[1;33m.\u001b[0m\u001b[0margsort\u001b[0m\u001b[1;33m(\u001b[0m\u001b[1;33m*\u001b[0m\u001b[0margs\u001b[0m\u001b[1;33m,\u001b[0m \u001b[1;33m**\u001b[0m\u001b[0mkwargs\u001b[0m\u001b[1;33m)\u001b[0m\u001b[1;33m\u001b[0m\u001b[0m\n\u001b[0m\u001b[0;32m   1436\u001b[0m \u001b[1;33m\u001b[0m\u001b[0m\n\u001b[0;32m   1437\u001b[0m     \u001b[1;32mdef\u001b[0m \u001b[0m__add__\u001b[0m\u001b[1;33m(\u001b[0m\u001b[0mself\u001b[0m\u001b[1;33m,\u001b[0m \u001b[0mother\u001b[0m\u001b[1;33m)\u001b[0m\u001b[1;33m:\u001b[0m\u001b[1;33m\u001b[0m\u001b[0m\n",
      "\u001b[1;31mTypeError\u001b[0m: unorderable types: float() > str()"
     ]
    }
   ],
   "source": [
    "data_2011[c] = data_2011[c].replace(99, np.nan)\n",
    "Do_resamples(data_2011, c, float)"
   ]
  },
  {
   "cell_type": "code",
   "execution_count": 150,
   "metadata": {
    "collapsed": false
   },
   "outputs": [
    {
     "name": "stdout",
     "output_type": "stream",
     "text": [
      "Float64Index([1.0, 2.0, 3.0, 99.0], dtype='float64')\n",
      "1      1649\n",
      "2       794\n",
      "3       448\n",
      "99    83128\n",
      "Name: ESTU_CUANTOS_COLE_ESTUDIO, dtype: int64\n",
      "Elementos null/NaN 0\n",
      "__________________\n",
      "Elementos diferentes de null/NaN: 86019\n",
      "__________________\n",
      "(86019,)\n",
      "None\n"
     ]
    }
   ],
   "source": [
    "c = 'ESTU_CUANTOS_COLE_ESTUDIO'\n",
    "print(data_2011[c].value_counts().sort_index().index)\n",
    "print(data_2011[c].value_counts().sort_index())\n",
    "print(missing_data(data_2011[c]))"
   ]
  },
  {
   "cell_type": "code",
   "execution_count": 151,
   "metadata": {
    "collapsed": false
   },
   "outputs": [
    {
     "name": "stdout",
     "output_type": "stream",
     "text": [
      "cant null antes: 83128\n",
      "cant null despues: 0\n"
     ]
    }
   ],
   "source": [
    "data_2011[c] = data_2011[c].replace(99, np.nan)\n",
    "Do_resamples(data_2011, c, float)"
   ]
  },
  {
   "cell_type": "code",
   "execution_count": 152,
   "metadata": {
    "collapsed": false
   },
   "outputs": [
    {
     "name": "stdout",
     "output_type": "stream",
     "text": [
      "Float64Index([0.0, 1.0, 99.0], dtype='float64')\n",
      "0      3336\n",
      "1       134\n",
      "99    82549\n",
      "Name: ESTU_REPROBO_CUARTO, dtype: int64\n",
      "Elementos null/NaN 0\n",
      "__________________\n",
      "Elementos diferentes de null/NaN: 86019\n",
      "__________________\n",
      "(86019,)\n",
      "None\n"
     ]
    }
   ],
   "source": [
    "c = 'ESTU_REPROBO_CUARTO'\n",
    "print(data_2011[c].value_counts().sort_index().index)\n",
    "print(data_2011[c].value_counts().sort_index())\n",
    "print(missing_data(data_2011[c]))"
   ]
  },
  {
   "cell_type": "code",
   "execution_count": 153,
   "metadata": {
    "collapsed": false
   },
   "outputs": [
    {
     "name": "stdout",
     "output_type": "stream",
     "text": [
      "cant null antes: 82549\n",
      "cant null despues: 0\n"
     ]
    }
   ],
   "source": [
    "data_2011[c] = data_2011[c].replace(99, np.nan)\n",
    "Do_resamples(data_2011, c, float)"
   ]
  },
  {
   "cell_type": "code",
   "execution_count": 154,
   "metadata": {
    "collapsed": false
   },
   "outputs": [
    {
     "name": "stdout",
     "output_type": "stream",
     "text": [
      "Float64Index([0.0, 1.0, 99.0], dtype='float64')\n",
      "0      3185\n",
      "1       285\n",
      "99    82549\n",
      "Name: ESTU_REPROBO_DECIMO, dtype: int64\n",
      "Elementos null/NaN 0\n",
      "__________________\n",
      "Elementos diferentes de null/NaN: 86019\n",
      "__________________\n",
      "(86019,)\n",
      "None\n"
     ]
    }
   ],
   "source": [
    "c = 'ESTU_REPROBO_DECIMO'\n",
    "print(data_2011[c].value_counts().sort_index().index)\n",
    "print(data_2011[c].value_counts().sort_index())\n",
    "print(missing_data(data_2011[c]))"
   ]
  },
  {
   "cell_type": "code",
   "execution_count": 155,
   "metadata": {
    "collapsed": false
   },
   "outputs": [
    {
     "name": "stdout",
     "output_type": "stream",
     "text": [
      "cant null antes: 82549\n",
      "cant null despues: 0\n"
     ]
    }
   ],
   "source": [
    "data_2011[c] = data_2011[c].replace(99, np.nan)\n",
    "Do_resamples(data_2011, c, float)"
   ]
  },
  {
   "cell_type": "code",
   "execution_count": 156,
   "metadata": {
    "collapsed": false
   },
   "outputs": [
    {
     "name": "stdout",
     "output_type": "stream",
     "text": [
      "Float64Index([0.0, 1.0, 99.0], dtype='float64')\n",
      "0      3192\n",
      "1       278\n",
      "99    82549\n",
      "Name: ESTU_REPROBO_NOVENO, dtype: int64\n",
      "Elementos null/NaN 0\n",
      "__________________\n",
      "Elementos diferentes de null/NaN: 86019\n",
      "__________________\n",
      "(86019,)\n",
      "None\n"
     ]
    }
   ],
   "source": [
    "c = 'ESTU_REPROBO_NOVENO'\n",
    "print(data_2011[c].value_counts().sort_index().index)\n",
    "print(data_2011[c].value_counts().sort_index())\n",
    "print(missing_data(data_2011[c]))"
   ]
  },
  {
   "cell_type": "code",
   "execution_count": 157,
   "metadata": {
    "collapsed": false
   },
   "outputs": [
    {
     "name": "stdout",
     "output_type": "stream",
     "text": [
      "cant null antes: 82549\n",
      "cant null despues: 0\n"
     ]
    }
   ],
   "source": [
    "data_2011[c] = data_2011[c].replace(99, np.nan)\n",
    "Do_resamples(data_2011, c, float)"
   ]
  },
  {
   "cell_type": "code",
   "execution_count": 158,
   "metadata": {
    "collapsed": false
   },
   "outputs": [
    {
     "name": "stdout",
     "output_type": "stream",
     "text": [
      "Float64Index([0.0, 1.0, 99.0], dtype='float64')\n",
      "0      3182\n",
      "1       288\n",
      "99    82549\n",
      "Name: ESTU_REPROBO_OCTAVO, dtype: int64\n",
      "Elementos null/NaN 0\n",
      "__________________\n",
      "Elementos diferentes de null/NaN: 86019\n",
      "__________________\n",
      "(86019,)\n",
      "None\n"
     ]
    }
   ],
   "source": [
    "c = 'ESTU_REPROBO_OCTAVO'\n",
    "print(data_2011[c].value_counts().sort_index().index)\n",
    "print(data_2011[c].value_counts().sort_index())\n",
    "print(missing_data(data_2011[c]))"
   ]
  },
  {
   "cell_type": "code",
   "execution_count": 159,
   "metadata": {
    "collapsed": false
   },
   "outputs": [
    {
     "name": "stdout",
     "output_type": "stream",
     "text": [
      "cant null antes: 82549\n",
      "cant null despues: 0\n"
     ]
    }
   ],
   "source": [
    "data_2011[c] = data_2011[c].replace(99, np.nan)\n",
    "Do_resamples(data_2011, c, float)"
   ]
  },
  {
   "cell_type": "code",
   "execution_count": 160,
   "metadata": {
    "collapsed": false
   },
   "outputs": [
    {
     "name": "stdout",
     "output_type": "stream",
     "text": [
      "Float64Index([0.0, 1.0, 99.0], dtype='float64')\n",
      "0      3302\n",
      "1       168\n",
      "99    82549\n",
      "Name: ESTU_REPROBO_PRIMERO, dtype: int64\n",
      "Elementos null/NaN 0\n",
      "__________________\n",
      "Elementos diferentes de null/NaN: 86019\n",
      "__________________\n",
      "(86019,)\n",
      "None\n"
     ]
    }
   ],
   "source": [
    "c = 'ESTU_REPROBO_PRIMERO'\n",
    "print(data_2011[c].value_counts().sort_index().index)\n",
    "print(data_2011[c].value_counts().sort_index())\n",
    "print(missing_data(data_2011[c]))"
   ]
  },
  {
   "cell_type": "code",
   "execution_count": 161,
   "metadata": {
    "collapsed": false
   },
   "outputs": [
    {
     "name": "stdout",
     "output_type": "stream",
     "text": [
      "cant null antes: 82549\n",
      "cant null despues: 0\n"
     ]
    }
   ],
   "source": [
    "data_2011[c] = data_2011[c].replace(99, np.nan)\n",
    "Do_resamples(data_2011, c, float)"
   ]
  },
  {
   "cell_type": "code",
   "execution_count": 162,
   "metadata": {
    "collapsed": false
   },
   "outputs": [
    {
     "name": "stdout",
     "output_type": "stream",
     "text": [
      "Float64Index([0.0, 1.0, 99.0], dtype='float64')\n",
      "0      3347\n",
      "1       123\n",
      "99    82549\n",
      "Name: ESTU_REPROBO_QUINTO, dtype: int64\n",
      "Elementos null/NaN 0\n",
      "__________________\n",
      "Elementos diferentes de null/NaN: 86019\n",
      "__________________\n",
      "(86019,)\n",
      "None\n"
     ]
    }
   ],
   "source": [
    "c = 'ESTU_REPROBO_QUINTO'\n",
    "print(data_2011[c].value_counts().sort_index().index)\n",
    "print(data_2011[c].value_counts().sort_index())\n",
    "print(missing_data(data_2011[c]))"
   ]
  },
  {
   "cell_type": "code",
   "execution_count": 163,
   "metadata": {
    "collapsed": false
   },
   "outputs": [
    {
     "name": "stdout",
     "output_type": "stream",
     "text": [
      "cant null antes: 82549\n",
      "cant null despues: 0\n"
     ]
    }
   ],
   "source": [
    "data_2011[c] = data_2011[c].replace(99, np.nan)\n",
    "Do_resamples(data_2011, c, float)"
   ]
  },
  {
   "cell_type": "code",
   "execution_count": 164,
   "metadata": {
    "collapsed": false
   },
   "outputs": [
    {
     "name": "stdout",
     "output_type": "stream",
     "text": [
      "Float64Index([0.0, 1.0, 99.0], dtype='float64')\n",
      "0      3331\n",
      "1       139\n",
      "99    82549\n",
      "Name: ESTU_REPROBO_SEGUNDO, dtype: int64\n",
      "Elementos null/NaN 0\n",
      "__________________\n",
      "Elementos diferentes de null/NaN: 86019\n",
      "__________________\n",
      "(86019,)\n",
      "None\n"
     ]
    }
   ],
   "source": [
    "c = 'ESTU_REPROBO_SEGUNDO'\n",
    "print(data_2011[c].value_counts().sort_index().index)\n",
    "print(data_2011[c].value_counts().sort_index())\n",
    "print(missing_data(data_2011[c]))"
   ]
  },
  {
   "cell_type": "code",
   "execution_count": 165,
   "metadata": {
    "collapsed": false
   },
   "outputs": [
    {
     "name": "stdout",
     "output_type": "stream",
     "text": [
      "cant null antes: 82549\n",
      "cant null despues: 0\n"
     ]
    }
   ],
   "source": [
    "data_2011[c] = data_2011[c].replace(99, np.nan)\n",
    "Do_resamples(data_2011, c, float)"
   ]
  },
  {
   "cell_type": "code",
   "execution_count": 166,
   "metadata": {
    "collapsed": false
   },
   "outputs": [
    {
     "name": "stdout",
     "output_type": "stream",
     "text": [
      "Float64Index([0.0, 1.0, 99.0], dtype='float64')\n",
      "0      3201\n",
      "1       269\n",
      "99    82549\n",
      "Name: ESTU_REPROBO_SEPTIMO, dtype: int64\n",
      "Elementos null/NaN 0\n",
      "__________________\n",
      "Elementos diferentes de null/NaN: 86019\n",
      "__________________\n",
      "(86019,)\n",
      "None\n"
     ]
    }
   ],
   "source": [
    "c = 'ESTU_REPROBO_SEPTIMO'\n",
    "print(data_2011[c].value_counts().sort_index().index)\n",
    "print(data_2011[c].value_counts().sort_index())\n",
    "print(missing_data(data_2011[c]))"
   ]
  },
  {
   "cell_type": "code",
   "execution_count": 167,
   "metadata": {
    "collapsed": false
   },
   "outputs": [
    {
     "name": "stdout",
     "output_type": "stream",
     "text": [
      "cant null antes: 82549\n",
      "cant null despues: 0\n"
     ]
    }
   ],
   "source": [
    "data_2011[c] = data_2011[c].replace(99, np.nan)\n",
    "Do_resamples(data_2011, c, float)"
   ]
  },
  {
   "cell_type": "code",
   "execution_count": 168,
   "metadata": {
    "collapsed": false
   },
   "outputs": [
    {
     "name": "stdout",
     "output_type": "stream",
     "text": [
      "Float64Index([0.0, 1.0, 99.0], dtype='float64')\n",
      "0      3194\n",
      "1       276\n",
      "99    82549\n",
      "Name: ESTU_REPROBO_SEXTO, dtype: int64\n",
      "Elementos null/NaN 0\n",
      "__________________\n",
      "Elementos diferentes de null/NaN: 86019\n",
      "__________________\n",
      "(86019,)\n",
      "None\n"
     ]
    }
   ],
   "source": [
    "c = 'ESTU_REPROBO_SEXTO'\n",
    "print(data_2011[c].value_counts().sort_index().index)\n",
    "print(data_2011[c].value_counts().sort_index())\n",
    "print(missing_data(data_2011[c]))"
   ]
  },
  {
   "cell_type": "code",
   "execution_count": 169,
   "metadata": {
    "collapsed": false
   },
   "outputs": [
    {
     "name": "stdout",
     "output_type": "stream",
     "text": [
      "cant null antes: 82549\n",
      "cant null despues: 0\n"
     ]
    }
   ],
   "source": [
    "data_2011[c] = data_2011[c].replace(99, np.nan)\n",
    "Do_resamples(data_2011, c, float)"
   ]
  },
  {
   "cell_type": "code",
   "execution_count": 170,
   "metadata": {
    "collapsed": false
   },
   "outputs": [
    {
     "name": "stdout",
     "output_type": "stream",
     "text": [
      "Float64Index([0.0, 1.0, 99.0], dtype='float64')\n",
      "0      3307\n",
      "1       163\n",
      "99    82549\n",
      "Name: ESTU_REPROBO_TERCERO, dtype: int64\n",
      "Elementos null/NaN 0\n",
      "__________________\n",
      "Elementos diferentes de null/NaN: 86019\n",
      "__________________\n",
      "(86019,)\n",
      "None\n"
     ]
    }
   ],
   "source": [
    "c = 'ESTU_REPROBO_TERCERO'\n",
    "print(data_2011[c].value_counts().sort_index().index)\n",
    "print(data_2011[c].value_counts().sort_index())\n",
    "print(missing_data(data_2011[c]))"
   ]
  },
  {
   "cell_type": "code",
   "execution_count": 171,
   "metadata": {
    "collapsed": false
   },
   "outputs": [
    {
     "name": "stdout",
     "output_type": "stream",
     "text": [
      "cant null antes: 82549\n",
      "cant null despues: 0\n"
     ]
    }
   ],
   "source": [
    "data_2011[c] = data_2011[c].replace(99, np.nan)\n",
    "Do_resamples(data_2011, c, float)"
   ]
  },
  {
   "cell_type": "code",
   "execution_count": 172,
   "metadata": {
    "collapsed": false
   },
   "outputs": [
    {
     "name": "stdout",
     "output_type": "stream",
     "text": [
      "Float64Index([0.0, 1.0, 99.0], dtype='float64')\n",
      "0      3274\n",
      "1       196\n",
      "99    82549\n",
      "Name: ESTU_REPROBO_ONCE_MAS, dtype: int64\n",
      "Elementos null/NaN 0\n",
      "__________________\n",
      "Elementos diferentes de null/NaN: 86019\n",
      "__________________\n",
      "(86019,)\n",
      "None\n"
     ]
    }
   ],
   "source": [
    "c = 'ESTU_REPROBO_ONCE_MAS'\n",
    "print(data_2011[c].value_counts().sort_index().index)\n",
    "print(data_2011[c].value_counts().sort_index())\n",
    "print(missing_data(data_2011[c]))"
   ]
  },
  {
   "cell_type": "code",
   "execution_count": 173,
   "metadata": {
    "collapsed": false
   },
   "outputs": [
    {
     "name": "stdout",
     "output_type": "stream",
     "text": [
      "cant null antes: 82549\n",
      "cant null despues: 0\n"
     ]
    }
   ],
   "source": [
    "data_2011[c] = data_2011[c].replace(99, np.nan)\n",
    "Do_resamples(data_2011, c, float)"
   ]
  },
  {
   "cell_type": "code",
   "execution_count": 174,
   "metadata": {
    "collapsed": false
   },
   "outputs": [
    {
     "name": "stdout",
     "output_type": "stream",
     "text": [
      "Index(['-'], dtype='object')\n",
      "-    86019\n",
      "Name: ESTU_POR_MEJORARPOSICIONSOCIAL, dtype: int64\n",
      "Elementos null/NaN 0\n",
      "__________________\n",
      "Elementos diferentes de null/NaN: 86019\n",
      "__________________\n",
      "(86019,)\n",
      "None\n"
     ]
    }
   ],
   "source": [
    "c = 'ESTU_POR_MEJORARPOSICIONSOCIAL'\n",
    "print(data_2011[c].value_counts().sort_index().index)\n",
    "print(data_2011[c].value_counts().sort_index())\n",
    "print(missing_data(data_2011[c]))"
   ]
  },
  {
   "cell_type": "code",
   "execution_count": 175,
   "metadata": {
    "collapsed": true
   },
   "outputs": [],
   "source": [
    "data_2011 = data_2011.drop([c], axis=1)"
   ]
  },
  {
   "cell_type": "code",
   "execution_count": 176,
   "metadata": {
    "collapsed": false
   },
   "outputs": [
    {
     "name": "stdout",
     "output_type": "stream",
     "text": [
      "Index(['-'], dtype='object')\n",
      "-    86019\n",
      "Name: ESTU_POR_COLOMBIAAPRENDE, dtype: int64\n",
      "Elementos null/NaN 0\n",
      "__________________\n",
      "Elementos diferentes de null/NaN: 86019\n",
      "__________________\n",
      "(86019,)\n",
      "None\n"
     ]
    }
   ],
   "source": [
    "c = 'ESTU_POR_COLOMBIAAPRENDE'\n",
    "print(data_2011[c].value_counts().sort_index().index)\n",
    "print(data_2011[c].value_counts().sort_index())\n",
    "print(missing_data(data_2011[c]))"
   ]
  },
  {
   "cell_type": "code",
   "execution_count": 177,
   "metadata": {
    "collapsed": true
   },
   "outputs": [],
   "source": [
    "data_2011 = data_2011.drop([c], axis=1)"
   ]
  },
  {
   "cell_type": "code",
   "execution_count": 178,
   "metadata": {
    "collapsed": false
   },
   "outputs": [
    {
     "name": "stdout",
     "output_type": "stream",
     "text": [
      "Float64Index([0.0, 1.0, 99.0], dtype='float64')\n",
      "0      2268\n",
      "1       909\n",
      "99    82842\n",
      "Name: ESTU_POR_INFLUENCIAALGUIEN, dtype: int64\n",
      "Elementos null/NaN 0\n",
      "__________________\n",
      "Elementos diferentes de null/NaN: 86019\n",
      "__________________\n",
      "(86019,)\n",
      "None\n"
     ]
    }
   ],
   "source": [
    "c = 'ESTU_POR_INFLUENCIAALGUIEN'\n",
    "print(data_2011[c].value_counts().sort_index().index)\n",
    "print(data_2011[c].value_counts().sort_index())\n",
    "print(missing_data(data_2011[c]))"
   ]
  },
  {
   "cell_type": "code",
   "execution_count": 179,
   "metadata": {
    "collapsed": false
   },
   "outputs": [
    {
     "name": "stdout",
     "output_type": "stream",
     "text": [
      "cant null antes: 82842\n",
      "cant null despues: 0\n"
     ]
    }
   ],
   "source": [
    "data_2011[c] = data_2011[c].replace(99, np.nan)\n",
    "Do_resamples(data_2011, c, float)"
   ]
  },
  {
   "cell_type": "code",
   "execution_count": 180,
   "metadata": {
    "collapsed": false
   },
   "outputs": [
    {
     "name": "stdout",
     "output_type": "stream",
     "text": [
      "Index(['-'], dtype='object')\n",
      "-    86019\n",
      "Name: ESTU_POR_INTERESPERSONAL, dtype: int64\n",
      "Elementos null/NaN 0\n",
      "__________________\n",
      "Elementos diferentes de null/NaN: 86019\n",
      "__________________\n",
      "(86019,)\n",
      "None\n"
     ]
    }
   ],
   "source": [
    "c = 'ESTU_POR_INTERESPERSONAL'\n",
    "print(data_2011[c].value_counts().sort_index().index)\n",
    "print(data_2011[c].value_counts().sort_index())\n",
    "print(missing_data(data_2011[c]))"
   ]
  },
  {
   "cell_type": "code",
   "execution_count": 181,
   "metadata": {
    "collapsed": true
   },
   "outputs": [],
   "source": [
    "data_2011 = data_2011.drop([c], axis=1)"
   ]
  },
  {
   "cell_type": "code",
   "execution_count": 183,
   "metadata": {
    "collapsed": false
   },
   "outputs": [
    {
     "name": "stdout",
     "output_type": "stream",
     "text": [
      "Index(['-'], dtype='object')\n",
      "-    86019\n",
      "Name: ESTU_POR_BUSCANDOCARRERA, dtype: int64\n",
      "Elementos null/NaN 0\n",
      "__________________\n",
      "Elementos diferentes de null/NaN: 86019\n",
      "__________________\n",
      "(86019,)\n",
      "None\n"
     ]
    }
   ],
   "source": [
    "c = 'ESTU_POR_BUSCANDOCARRERA'\n",
    "print(data_2011[c].value_counts().sort_index().index)\n",
    "print(data_2011[c].value_counts().sort_index())\n",
    "print(missing_data(data_2011[c]))"
   ]
  },
  {
   "cell_type": "code",
   "execution_count": 184,
   "metadata": {
    "collapsed": true
   },
   "outputs": [],
   "source": [
    "data_2011 = data_2011.drop([c], axis=1)"
   ]
  },
  {
   "cell_type": "code",
   "execution_count": 185,
   "metadata": {
    "collapsed": false
   },
   "outputs": [
    {
     "name": "stdout",
     "output_type": "stream",
     "text": [
      "Float64Index([0.0, 1.0, 99.0], dtype='float64')\n",
      "0      2487\n",
      "1       690\n",
      "99    82842\n",
      "Name: ESTU_POR_TRADICIONFAMILIAR, dtype: int64\n",
      "Elementos null/NaN 0\n",
      "__________________\n",
      "Elementos diferentes de null/NaN: 86019\n",
      "__________________\n",
      "(86019,)\n",
      "None\n"
     ]
    }
   ],
   "source": [
    "c = 'ESTU_POR_TRADICIONFAMILIAR'\n",
    "print(data_2011[c].value_counts().sort_index().index)\n",
    "print(data_2011[c].value_counts().sort_index())\n",
    "print(missing_data(data_2011[c]))"
   ]
  },
  {
   "cell_type": "code",
   "execution_count": 186,
   "metadata": {
    "collapsed": false
   },
   "outputs": [
    {
     "name": "stdout",
     "output_type": "stream",
     "text": [
      "cant null antes: 82842\n",
      "cant null despues: 0\n"
     ]
    }
   ],
   "source": [
    "data_2011[c] = data_2011[c].replace(99, np.nan)\n",
    "Do_resamples(data_2011, c, float)"
   ]
  },
  {
   "cell_type": "code",
   "execution_count": 187,
   "metadata": {
    "collapsed": false
   },
   "outputs": [
    {
     "name": "stdout",
     "output_type": "stream",
     "text": [
      "Float64Index([0.0, 1.0, 2.0, 99.0], dtype='float64')\n",
      "0      1320\n",
      "1      1598\n",
      "2       259\n",
      "99    82842\n",
      "Name: ESTU_POR_ORIENTACIONVOCACIONAL, dtype: int64\n",
      "Elementos null/NaN 0\n",
      "__________________\n",
      "Elementos diferentes de null/NaN: 86019\n",
      "__________________\n",
      "(86019,)\n",
      "None\n"
     ]
    }
   ],
   "source": [
    "c = 'ESTU_POR_ORIENTACIONVOCACIONAL'\n",
    "print(data_2011[c].value_counts().sort_index().index)\n",
    "print(data_2011[c].value_counts().sort_index())\n",
    "print(missing_data(data_2011[c]))"
   ]
  },
  {
   "cell_type": "code",
   "execution_count": 188,
   "metadata": {
    "collapsed": false
   },
   "outputs": [
    {
     "name": "stdout",
     "output_type": "stream",
     "text": [
      "cant null antes: 82842\n",
      "cant null despues: 0\n"
     ]
    }
   ],
   "source": [
    "data_2011[c] = data_2011[c].replace(99, np.nan)\n",
    "Do_resamples(data_2011, c, float)"
   ]
  },
  {
   "cell_type": "code",
   "execution_count": 189,
   "metadata": {
    "collapsed": false
   },
   "outputs": [
    {
     "name": "stdout",
     "output_type": "stream",
     "text": [
      "Float64Index([1.0, 2.0, 3.0, 4.0, 5.0, 6.0, 7.0, 8.0, 9.0, 99.0], dtype='float64')\n",
      "1        27\n",
      "2        59\n",
      "3       413\n",
      "4        79\n",
      "5       111\n",
      "6        67\n",
      "7        19\n",
      "8        13\n",
      "9       397\n",
      "99    84834\n",
      "Name: ESTU_RAZON_RETIRO, dtype: int64\n",
      "Elementos null/NaN 0\n",
      "__________________\n",
      "Elementos diferentes de null/NaN: 86019\n",
      "__________________\n",
      "(86019,)\n",
      "None\n"
     ]
    }
   ],
   "source": [
    "c = 'ESTU_RAZON_RETIRO'\n",
    "print(data_2011[c].value_counts().sort_index().index)\n",
    "print(data_2011[c].value_counts().sort_index())\n",
    "print(missing_data(data_2011[c]))"
   ]
  },
  {
   "cell_type": "code",
   "execution_count": 190,
   "metadata": {
    "collapsed": false
   },
   "outputs": [
    {
     "name": "stdout",
     "output_type": "stream",
     "text": [
      "cant null antes: 84834\n",
      "cant null despues: 0\n"
     ]
    }
   ],
   "source": [
    "data_2011[c] = data_2011[c].replace(99, np.nan)\n",
    "Do_resamples(data_2011, c, float)"
   ]
  },
  {
   "cell_type": "code",
   "execution_count": 191,
   "metadata": {
    "collapsed": false
   },
   "outputs": [
    {
     "name": "stdout",
     "output_type": "stream",
     "text": [
      "Float64Index([0.0, 1.0, 99.0], dtype='float64')\n",
      "0      2086\n",
      "1      1091\n",
      "99    82842\n",
      "Name: ESTU_POR_AMIGOSESTUDIANDO, dtype: int64\n",
      "Elementos null/NaN 0\n",
      "__________________\n",
      "Elementos diferentes de null/NaN: 86019\n",
      "__________________\n",
      "(86019,)\n",
      "None\n"
     ]
    }
   ],
   "source": [
    "c = 'ESTU_POR_AMIGOSESTUDIANDO'\n",
    "print(data_2011[c].value_counts().sort_index().index)\n",
    "print(data_2011[c].value_counts().sort_index())\n",
    "print(missing_data(data_2011[c]))"
   ]
  },
  {
   "cell_type": "code",
   "execution_count": 192,
   "metadata": {
    "collapsed": false
   },
   "outputs": [
    {
     "name": "stdout",
     "output_type": "stream",
     "text": [
      "cant null antes: 82842\n",
      "cant null despues: 0\n"
     ]
    }
   ],
   "source": [
    "data_2011[c] = data_2011[c].replace(99, np.nan)\n",
    "Do_resamples(data_2011, c, float)"
   ]
  },
  {
   "cell_type": "code",
   "execution_count": 193,
   "metadata": {
    "collapsed": false
   },
   "outputs": [
    {
     "name": "stdout",
     "output_type": "stream",
     "text": [
      "Index(['-'], dtype='object')\n",
      "-    86019\n",
      "Name: ESTU_POR_COSTOMATRICULA, dtype: int64\n",
      "Elementos null/NaN 0\n",
      "__________________\n",
      "Elementos diferentes de null/NaN: 86019\n",
      "__________________\n",
      "(86019,)\n",
      "None\n"
     ]
    }
   ],
   "source": [
    "c = 'ESTU_POR_COSTOMATRICULA'\n",
    "print(data_2011[c].value_counts().sort_index().index)\n",
    "print(data_2011[c].value_counts().sort_index())\n",
    "print(missing_data(data_2011[c]))"
   ]
  },
  {
   "cell_type": "code",
   "execution_count": 194,
   "metadata": {
    "collapsed": true
   },
   "outputs": [],
   "source": [
    "data_2011 = data_2011.drop([c], axis=1)"
   ]
  },
  {
   "cell_type": "code",
   "execution_count": 195,
   "metadata": {
    "collapsed": false
   },
   "outputs": [
    {
     "name": "stdout",
     "output_type": "stream",
     "text": [
      "Index(['-'], dtype='object')\n",
      "-    86019\n",
      "Name: ESTU_POR_OPORTUNIDADES, dtype: int64\n",
      "Elementos null/NaN 0\n",
      "__________________\n",
      "Elementos diferentes de null/NaN: 86019\n",
      "__________________\n",
      "(86019,)\n",
      "None\n"
     ]
    }
   ],
   "source": [
    "c = 'ESTU_POR_OPORTUNIDADES'\n",
    "print(data_2011[c].value_counts().sort_index().index)\n",
    "print(data_2011[c].value_counts().sort_index())\n",
    "print(missing_data(data_2011[c]))"
   ]
  },
  {
   "cell_type": "code",
   "execution_count": 196,
   "metadata": {
    "collapsed": true
   },
   "outputs": [],
   "source": [
    "data_2011 = data_2011.drop([c], axis=1)"
   ]
  },
  {
   "cell_type": "code",
   "execution_count": 197,
   "metadata": {
    "collapsed": false
   },
   "outputs": [
    {
     "name": "stdout",
     "output_type": "stream",
     "text": [
      "Float64Index([0.0, 1.0, 99.0], dtype='float64')\n",
      "0      2104\n",
      "1      1073\n",
      "99    82842\n",
      "Name: ESTU_POR_OTRARAZON, dtype: int64\n",
      "Elementos null/NaN 0\n",
      "__________________\n",
      "Elementos diferentes de null/NaN: 86019\n",
      "__________________\n",
      "(86019,)\n",
      "None\n"
     ]
    }
   ],
   "source": [
    "c = 'ESTU_POR_OTRARAZON'\n",
    "print(data_2011[c].value_counts().sort_index().index)\n",
    "print(data_2011[c].value_counts().sort_index())\n",
    "print(missing_data(data_2011[c]))"
   ]
  },
  {
   "cell_type": "code",
   "execution_count": 198,
   "metadata": {
    "collapsed": false
   },
   "outputs": [
    {
     "name": "stdout",
     "output_type": "stream",
     "text": [
      "cant null antes: 82842\n",
      "cant null despues: 0\n"
     ]
    }
   ],
   "source": [
    "data_2011[c] = data_2011[c].replace(99, np.nan)\n",
    "Do_resamples(data_2011, c, float)"
   ]
  },
  {
   "cell_type": "code",
   "execution_count": 199,
   "metadata": {
    "collapsed": false
   },
   "outputs": [
    {
     "name": "stdout",
     "output_type": "stream",
     "text": [
      "Float64Index([0.0, 1.0, 99.0], dtype='float64')\n",
      "0       556\n",
      "1      2621\n",
      "99    82842\n",
      "Name: ESTU_PRESTIGIOINSTITUCION, dtype: int64\n",
      "Elementos null/NaN 0\n",
      "__________________\n",
      "Elementos diferentes de null/NaN: 86019\n",
      "__________________\n",
      "(86019,)\n",
      "None\n"
     ]
    }
   ],
   "source": [
    "c = 'ESTU_PRESTIGIOINSTITUCION'\n",
    "print(data_2011[c].value_counts().sort_index().index)\n",
    "print(data_2011[c].value_counts().sort_index())\n",
    "print(missing_data(data_2011[c]))"
   ]
  },
  {
   "cell_type": "code",
   "execution_count": 200,
   "metadata": {
    "collapsed": false
   },
   "outputs": [
    {
     "name": "stdout",
     "output_type": "stream",
     "text": [
      "cant null antes: 82842\n",
      "cant null despues: 0\n"
     ]
    }
   ],
   "source": [
    "data_2011[c] = data_2011[c].replace(99, np.nan)\n",
    "Do_resamples(data_2011, c, float)"
   ]
  },
  {
   "cell_type": "code",
   "execution_count": 201,
   "metadata": {
    "collapsed": false
   },
   "outputs": [
    {
     "name": "stdout",
     "output_type": "stream",
     "text": [
      "Float64Index([0.0, 1.0, 99.0], dtype='float64')\n",
      "0      1640\n",
      "1      1537\n",
      "99    82842\n",
      "Name: ESTU_POR_UBICACION, dtype: int64\n",
      "Elementos null/NaN 0\n",
      "__________________\n",
      "Elementos diferentes de null/NaN: 86019\n",
      "__________________\n",
      "(86019,)\n",
      "None\n"
     ]
    }
   ],
   "source": [
    "c = 'ESTU_POR_UBICACION'\n",
    "print(data_2011[c].value_counts().sort_index().index)\n",
    "print(data_2011[c].value_counts().sort_index())\n",
    "print(missing_data(data_2011[c]))"
   ]
  },
  {
   "cell_type": "code",
   "execution_count": 202,
   "metadata": {
    "collapsed": false
   },
   "outputs": [
    {
     "name": "stdout",
     "output_type": "stream",
     "text": [
      "cant null antes: 82842\n",
      "cant null despues: 0\n"
     ]
    }
   ],
   "source": [
    "data_2011[c] = data_2011[c].replace(99, np.nan)\n",
    "Do_resamples(data_2011, c, float)"
   ]
  },
  {
   "cell_type": "code",
   "execution_count": 203,
   "metadata": {
    "collapsed": false
   },
   "outputs": [
    {
     "name": "stdout",
     "output_type": "stream",
     "text": [
      "Float64Index([0.0, 1.0, 99.0], dtype='float64')\n",
      "0      2313\n",
      "1       864\n",
      "99    82842\n",
      "Name: ESTU_POR_UNICAQUEOFRECE, dtype: int64\n",
      "Elementos null/NaN 0\n",
      "__________________\n",
      "Elementos diferentes de null/NaN: 86019\n",
      "__________________\n",
      "(86019,)\n",
      "None\n"
     ]
    }
   ],
   "source": [
    "c = 'ESTU_POR_UNICAQUEOFRECE'\n",
    "print(data_2011[c].value_counts().sort_index().index)\n",
    "print(data_2011[c].value_counts().sort_index())\n",
    "print(missing_data(data_2011[c]))"
   ]
  },
  {
   "cell_type": "code",
   "execution_count": 204,
   "metadata": {
    "collapsed": false
   },
   "outputs": [
    {
     "name": "stdout",
     "output_type": "stream",
     "text": [
      "cant null antes: 82842\n",
      "cant null despues: 0\n"
     ]
    }
   ],
   "source": [
    "data_2011[c] = data_2011[c].replace(99, np.nan)\n",
    "Do_resamples(data_2011, c, float)"
   ]
  },
  {
   "cell_type": "code",
   "execution_count": 205,
   "metadata": {
    "collapsed": false
   },
   "outputs": [
    {
     "name": "stdout",
     "output_type": "stream",
     "text": [
      "Index(['-'], dtype='object')\n",
      "-    86019\n",
      "Name: ESTU_RETIRARSE_COLEGIO, dtype: int64\n",
      "Elementos null/NaN 0\n",
      "__________________\n",
      "Elementos diferentes de null/NaN: 86019\n",
      "__________________\n",
      "(86019,)\n",
      "None\n"
     ]
    }
   ],
   "source": [
    "c = 'ESTU_RETIRARSE_COLEGIO'\n",
    "print(data_2011[c].value_counts().sort_index().index)\n",
    "print(data_2011[c].value_counts().sort_index())\n",
    "print(missing_data(data_2011[c]))"
   ]
  },
  {
   "cell_type": "code",
   "execution_count": 206,
   "metadata": {
    "collapsed": true
   },
   "outputs": [],
   "source": [
    "data_2011 = data_2011.drop([c], axis=1)"
   ]
  },
  {
   "cell_type": "code",
   "execution_count": 207,
   "metadata": {
    "collapsed": false
   },
   "outputs": [
    {
     "name": "stdout",
     "output_type": "stream",
     "text": [
      "Float64Index([0.0, 1.0, 2.0, 3.0, 4.0, 5.0, 6.0, 7.0, 8.0, 9.0, 10.0, 11.0,\n",
      "              12.0, 99.0],\n",
      "             dtype='float64')\n",
      "0     16291\n",
      "1       248\n",
      "2       100\n",
      "3        46\n",
      "4        40\n",
      "5        24\n",
      "6        16\n",
      "7        10\n",
      "8     14899\n",
      "9      3373\n",
      "10     2274\n",
      "11     4010\n",
      "12     8295\n",
      "99    36393\n",
      "Name: COLE_VALOR_PENSION, dtype: int64\n",
      "Elementos null/NaN 0\n",
      "__________________\n",
      "Elementos diferentes de null/NaN: 86019\n",
      "__________________\n",
      "(86019,)\n",
      "None\n"
     ]
    }
   ],
   "source": [
    "c = 'COLE_VALOR_PENSION'\n",
    "print(data_2011[c].value_counts().sort_index().index)\n",
    "print(data_2011[c].value_counts().sort_index())\n",
    "print(missing_data(data_2011[c]))"
   ]
  },
  {
   "cell_type": "code",
   "execution_count": 208,
   "metadata": {
    "collapsed": false
   },
   "outputs": [
    {
     "name": "stdout",
     "output_type": "stream",
     "text": [
      "cant null antes: 36393\n",
      "cant null despues: 0\n"
     ]
    }
   ],
   "source": [
    "data_2011[c] = data_2011[c].replace(99, np.nan)\n",
    "Do_resamples(data_2011, c, float)"
   ]
  },
  {
   "cell_type": "code",
   "execution_count": 209,
   "metadata": {
    "collapsed": false
   },
   "outputs": [
    {
     "name": "stdout",
     "output_type": "stream",
     "text": [
      "Float64Index([0.0, 1.0, 2.0, 3.0, 4.0, 99.0], dtype='float64')\n",
      "0     44440\n",
      "1     23547\n",
      "2     10321\n",
      "3      6245\n",
      "4      1252\n",
      "99      214\n",
      "Name: ESTU_VECES_ESTADO, dtype: int64\n",
      "Elementos null/NaN 0\n",
      "__________________\n",
      "Elementos diferentes de null/NaN: 86019\n",
      "__________________\n",
      "(86019,)\n",
      "None\n"
     ]
    }
   ],
   "source": [
    "c = 'ESTU_VECES_ESTADO'\n",
    "print(data_2011[c].value_counts().sort_index().index)\n",
    "print(data_2011[c].value_counts().sort_index())\n",
    "print(missing_data(data_2011[c]))"
   ]
  },
  {
   "cell_type": "code",
   "execution_count": 210,
   "metadata": {
    "collapsed": false
   },
   "outputs": [
    {
     "name": "stdout",
     "output_type": "stream",
     "text": [
      "cant null antes: 214\n",
      "cant null despues: 0\n"
     ]
    }
   ],
   "source": [
    "data_2011[c] = data_2011[c].replace(99, np.nan)\n",
    "Do_resamples(data_2011, c, float)"
   ]
  },
  {
   "cell_type": "code",
   "execution_count": 211,
   "metadata": {
    "collapsed": false,
    "scrolled": true
   },
   "outputs": [
    {
     "name": "stdout",
     "output_type": "stream",
     "text": [
      "Index(['AGUACHICA', 'ALBANIA', 'APARTADO', 'ARAUCA', 'ARMENIA',\n",
      "       'BARRANCABERMEJA', 'BARRANQUILLA', 'BELLO', 'BOGOTÁ D.C.', 'BOLIVAR',\n",
      "       'BUCARAMANGA', 'BUENAVENTURA', 'BUGA', 'CALI', 'CAMPOALEGRE',\n",
      "       'CARTAGENA', 'CARTAGO', 'CAUCASIA', 'CHAPARRAL', 'CHIA', 'CUCUTA',\n",
      "       'EL DONCELLO', 'ESPINAL', 'FACATATIVA', 'FLORENCIA', 'FUSAGASUGA',\n",
      "       'GARZON', 'GIRARDOT', 'GRANADA', 'GUAMO', 'GUATEQUE', 'IBAGUE',\n",
      "       'INIRIDA', 'IPIALES', 'ITSMINA', 'LA DORADA', 'LA PLATA', 'LETICIA',\n",
      "       'LORICA', 'MAGANGUE', 'MAICAO', 'MALAGA', 'MANIZALES', 'MEDELLIN',\n",
      "       'MITU', 'MOCOA', 'MONIQUIRA', 'MONTELIBANO', 'MONTERIA', 'NEIVA',\n",
      "       'OCAÑA', 'PALMIRA', 'PAMPLONA', 'PASTO', 'PATIA(EL BORDO)',\n",
      "       'PAZ DE ARIPORO', 'PEREIRA', 'PITALITO', 'POPAYAN', 'PUERTO ASIS',\n",
      "       'PUERTO CARREÑO', 'PUERTO TEJADA', 'QUIBDO', 'RIOHACHA', 'RIONEGRO',\n",
      "       'ROLDANILLO', 'SAN ANDRES', 'SAN GIL', 'SAN JOSE DEL GUAVIARE',\n",
      "       'SANTA MARTA', 'SANTA ROSA DE OSOS', 'SANTANDER DE QUILICHAO',\n",
      "       'SEVILLA', 'SIBUNDOY', 'SILVIA', 'SINCELEJO', 'SOACHA', 'SOCORRO',\n",
      "       'SOGAMOSO', 'SONSON', 'TAME', 'TULUA', 'TUMACO', 'TUNJA', 'TURBO',\n",
      "       'VALLEDUPAR', 'VELEZ', 'VILLA DE LEYVA', 'VILLAVICENCIO', 'YOPAL',\n",
      "       'YUMBO', 'ZARZAL', 'ZIPAQUIRA'],\n",
      "      dtype='object')\n",
      "AGUACHICA                   139\n",
      "ALBANIA                      78\n",
      "APARTADO                    333\n",
      "ARAUCA                      182\n",
      "ARMENIA                    1097\n",
      "BARRANCABERMEJA             637\n",
      "BARRANQUILLA               1673\n",
      "BELLO                       697\n",
      "BOGOTÁ D.C.               15867\n",
      "BOLIVAR                      68\n",
      "BUCARAMANGA                5228\n",
      "BUENAVENTURA                442\n",
      "BUGA                        809\n",
      "CALI                      13501\n",
      "CAMPOALEGRE                  94\n",
      "CARTAGENA                  1129\n",
      "CARTAGO                     479\n",
      "CAUCASIA                     70\n",
      "CHAPARRAL                   317\n",
      "CHIA                        700\n",
      "CUCUTA                     1070\n",
      "EL DONCELLO                  62\n",
      "ESPINAL                     212\n",
      "FACATATIVA                  800\n",
      "FLORENCIA                   461\n",
      "FUSAGASUGA                  177\n",
      "GARZON                      287\n",
      "GIRARDOT                    217\n",
      "GRANADA                     102\n",
      "GUAMO                       122\n",
      "                          ...  \n",
      "RIOHACHA                    310\n",
      "RIONEGRO                    870\n",
      "ROLDANILLO                   99\n",
      "SAN ANDRES                   21\n",
      "SAN GIL                     170\n",
      "SAN JOSE DEL GUAVIARE        69\n",
      "SANTA MARTA                 491\n",
      "SANTA ROSA DE OSOS          150\n",
      "SANTANDER DE QUILICHAO      589\n",
      "SEVILLA                      45\n",
      "SIBUNDOY                    125\n",
      "SILVIA                       35\n",
      "SINCELEJO                   413\n",
      "SOACHA                      590\n",
      "SOCORRO                     138\n",
      "SOGAMOSO                   1487\n",
      "SONSON                      195\n",
      "TAME                         84\n",
      "TULUA                       460\n",
      "TUMACO                       89\n",
      "TUNJA                      2320\n",
      "TURBO                        55\n",
      "VALLEDUPAR                  797\n",
      "VELEZ                       153\n",
      "VILLA DE LEYVA               65\n",
      "VILLAVICENCIO              1339\n",
      "YOPAL                       476\n",
      "YUMBO                       316\n",
      "ZARZAL                       98\n",
      "ZIPAQUIRA                   373\n",
      "Name: ESTU_MCPIO_PRESENTACION, dtype: int64\n",
      "Elementos null/NaN 0\n",
      "__________________\n",
      "Elementos diferentes de null/NaN: 86019\n",
      "__________________\n",
      "(86019,)\n",
      "None\n"
     ]
    }
   ],
   "source": [
    "c = 'ESTU_MCPIO_PRESENTACION'\n",
    "print(data_2011[c].value_counts().sort_index().index)\n",
    "print(data_2011[c].value_counts().sort_index())\n",
    "print(missing_data(data_2011[c]))"
   ]
  },
  {
   "cell_type": "code",
   "execution_count": 212,
   "metadata": {
    "collapsed": false,
    "scrolled": true
   },
   "outputs": [
    {
     "name": "stdout",
     "output_type": "stream",
     "text": [
      "Index(['AMAZONAS', 'ANTIOQUIA', 'ARAUCA', 'ATLÁNTICO', 'BOGOTÁ', 'BOLÍVAR',\n",
      "       'BOYACÁ', 'CALDAS', 'CAQUETÁ', 'CASANARE', 'CAUCA', 'CESAR', 'CHOCÓ',\n",
      "       'CUNDINAMARCA', 'CÓRDOBA', 'GUAINÍA', 'GUAVIARE', 'HUILA', 'LA GUAJIRA',\n",
      "       'MAGDALENA', 'META', 'NARIÑO', 'NORTE SANTANDER', 'PUTUMAYO', 'QUINDÍO',\n",
      "       'RISARALDA', 'SAN ANDRÉS', 'SANTANDER', 'SUCRE', 'TOLIMA', 'VALLE',\n",
      "       'VAUPÉS', 'VICHADA'],\n",
      "      dtype='object')\n",
      "AMAZONAS              22\n",
      "ANTIOQUIA           7130\n",
      "ARAUCA               266\n",
      "ATLÁNTICO           1673\n",
      "BOGOTÁ             15867\n",
      "BOLÍVAR             1251\n",
      "BOYACÁ              3982\n",
      "CALDAS              2768\n",
      "CAQUETÁ              523\n",
      "CASANARE             522\n",
      "CAUCA               2784\n",
      "CESAR                936\n",
      "CHOCÓ                409\n",
      "CUNDINAMARCA        2857\n",
      "CÓRDOBA              903\n",
      "GUAINÍA               19\n",
      "GUAVIARE              69\n",
      "HUILA               4119\n",
      "LA GUAJIRA           575\n",
      "MAGDALENA            491\n",
      "META                1441\n",
      "NARIÑO              4894\n",
      "NORTE SANTANDER     1360\n",
      "PUTUMAYO             592\n",
      "QUINDÍO             1097\n",
      "RISARALDA           1566\n",
      "SAN ANDRÉS            21\n",
      "SANTANDER           6390\n",
      "SUCRE                413\n",
      "TOLIMA              3039\n",
      "VALLE              18020\n",
      "VAUPÉS                10\n",
      "VICHADA               10\n",
      "Name: ESTU_DEPTO_PRESENTACION, dtype: int64\n",
      "Elementos null/NaN 0\n",
      "__________________\n",
      "Elementos diferentes de null/NaN: 86019\n",
      "__________________\n",
      "(86019,)\n",
      "None\n"
     ]
    }
   ],
   "source": [
    "c = 'ESTU_DEPTO_PRESENTACION'\n",
    "print(data_2011[c].value_counts().sort_index().index)\n",
    "print(data_2011[c].value_counts().sort_index())\n",
    "print(missing_data(data_2011[c]))"
   ]
  },
  {
   "cell_type": "code",
   "execution_count": 213,
   "metadata": {
    "collapsed": false
   },
   "outputs": [
    {
     "name": "stdout",
     "output_type": "stream",
     "text": [
      "Index(['EXAMEN SABER 11- 2011'], dtype='object')\n",
      "EXAMEN SABER 11- 2011    86019\n",
      "Name: ESTU_EXAM_NOMBREEXAMEN, dtype: int64\n",
      "Elementos null/NaN 0\n",
      "__________________\n",
      "Elementos diferentes de null/NaN: 86019\n",
      "__________________\n",
      "(86019,)\n",
      "None\n"
     ]
    }
   ],
   "source": [
    "c = 'ESTU_EXAM_NOMBREEXAMEN'\n",
    "print(data_2011[c].value_counts().sort_index().index)\n",
    "print(data_2011[c].value_counts().sort_index())\n",
    "print(missing_data(data_2011[c]))"
   ]
  },
  {
   "cell_type": "code",
   "execution_count": 214,
   "metadata": {
    "collapsed": true
   },
   "outputs": [],
   "source": [
    "data_2011 = data_2011.drop([c], axis=1)"
   ]
  },
  {
   "cell_type": "code",
   "execution_count": 215,
   "metadata": {
    "collapsed": false
   },
   "outputs": [
    {
     "name": "stdout",
     "output_type": "stream",
     "text": [
      "Float64Index([ 0.0,  1.0,  2.0,  3.0,  4.0,  5.0,  6.0,  7.0,  8.0,  9.0, 10.0,\n",
      "              11.0, 12.0, 13.0, 14.0, 15.0, 16.0, 17.0, 99.0],\n",
      "             dtype='float64')\n",
      "0      3151\n",
      "1        77\n",
      "2       445\n",
      "3       282\n",
      "4       266\n",
      "5       438\n",
      "6        50\n",
      "7       139\n",
      "8        39\n",
      "9     13820\n",
      "10    11573\n",
      "11    10168\n",
      "12    17772\n",
      "13     1310\n",
      "14     4408\n",
      "15     1851\n",
      "16    10949\n",
      "17     4827\n",
      "99     4454\n",
      "Name: FAMI_EDUCA_PADRE, dtype: int64\n",
      "Elementos null/NaN 0\n",
      "__________________\n",
      "Elementos diferentes de null/NaN: 86019\n",
      "__________________\n",
      "(86019,)\n",
      "None\n"
     ]
    }
   ],
   "source": [
    "c = 'FAMI_EDUCA_PADRE'\n",
    "print(data_2011[c].value_counts().sort_index().index)\n",
    "print(data_2011[c].value_counts().sort_index())\n",
    "print(missing_data(data_2011[c]))"
   ]
  },
  {
   "cell_type": "code",
   "execution_count": 216,
   "metadata": {
    "collapsed": false
   },
   "outputs": [
    {
     "name": "stdout",
     "output_type": "stream",
     "text": [
      "cant null antes: 4454\n",
      "cant null despues: 0\n"
     ]
    }
   ],
   "source": [
    "data_2011[c] = data_2011[c].replace(99, np.nan)\n",
    "Do_resamples(data_2011, c, float)"
   ]
  },
  {
   "cell_type": "code",
   "execution_count": 217,
   "metadata": {
    "collapsed": false,
    "scrolled": true
   },
   "outputs": [
    {
     "name": "stdout",
     "output_type": "stream",
     "text": [
      "Float64Index([ 0.0,  1.0,  2.0,  3.0,  4.0,  5.0,  6.0,  7.0,  8.0,  9.0, 10.0,\n",
      "              11.0, 12.0, 13.0, 14.0, 15.0, 16.0, 17.0, 99.0],\n",
      "             dtype='float64')\n",
      "0      1961\n",
      "1        29\n",
      "2       376\n",
      "3       300\n",
      "4       330\n",
      "5       507\n",
      "6        43\n",
      "7       179\n",
      "8        30\n",
      "9     12052\n",
      "10    11752\n",
      "11    11926\n",
      "12    19605\n",
      "13     1593\n",
      "14     5805\n",
      "15     2022\n",
      "16    11131\n",
      "17     4052\n",
      "99     2326\n",
      "Name: FAMI_EDUCA_MADRE, dtype: int64\n",
      "Elementos null/NaN 0\n",
      "__________________\n",
      "Elementos diferentes de null/NaN: 86019\n",
      "__________________\n",
      "(86019,)\n",
      "None\n"
     ]
    }
   ],
   "source": [
    "c = 'FAMI_EDUCA_MADRE'\n",
    "print(data_2011[c].value_counts().sort_index().index)\n",
    "print(data_2011[c].value_counts().sort_index())\n",
    "print(missing_data(data_2011[c]))"
   ]
  },
  {
   "cell_type": "code",
   "execution_count": 218,
   "metadata": {
    "collapsed": false
   },
   "outputs": [
    {
     "name": "stdout",
     "output_type": "stream",
     "text": [
      "cant null antes: 2326\n",
      "cant null despues: 1\n",
      "cant null antes: 1\n",
      "cant null despues: 0\n"
     ]
    }
   ],
   "source": [
    "data_2011[c] = data_2011[c].replace(99, np.nan)\n",
    "Do_resamples(data_2011, c, float)"
   ]
  },
  {
   "cell_type": "code",
   "execution_count": 219,
   "metadata": {
    "collapsed": false,
    "scrolled": true
   },
   "outputs": [
    {
     "name": "stdout",
     "output_type": "stream",
     "text": [
      "Float64Index([ 1.0,  2.0,  3.0,  4.0,  5.0,  6.0,  7.0,  8.0,  9.0, 10.0, 11.0,\n",
      "              12.0, 13.0, 14.0, 15.0, 16.0, 17.0, 18.0, 19.0, 20.0, 21.0, 22.0,\n",
      "              23.0, 26.0, 99.0],\n",
      "             dtype='float64')\n",
      "1        30\n",
      "2        58\n",
      "3        22\n",
      "4        15\n",
      "5       134\n",
      "6        34\n",
      "7       294\n",
      "8        71\n",
      "9       793\n",
      "10       50\n",
      "11      176\n",
      "12      336\n",
      "13     3005\n",
      "14     8026\n",
      "15     2620\n",
      "16     3248\n",
      "17     5451\n",
      "18     3269\n",
      "19    12423\n",
      "20     5205\n",
      "21    22335\n",
      "22     1636\n",
      "23     4458\n",
      "26    12158\n",
      "99      172\n",
      "Name: FAMI_OCUPA_PADRE, dtype: int64\n",
      "Elementos null/NaN 0\n",
      "__________________\n",
      "Elementos diferentes de null/NaN: 86019\n",
      "__________________\n",
      "(86019,)\n",
      "None\n"
     ]
    }
   ],
   "source": [
    "c = 'FAMI_OCUPA_PADRE'\n",
    "print(data_2011[c].value_counts().sort_index().index)\n",
    "print(data_2011[c].value_counts().sort_index())\n",
    "print(missing_data(data_2011[c]))"
   ]
  },
  {
   "cell_type": "code",
   "execution_count": 220,
   "metadata": {
    "collapsed": false
   },
   "outputs": [
    {
     "name": "stdout",
     "output_type": "stream",
     "text": [
      "cant null antes: 172\n",
      "cant null despues: 0\n"
     ]
    }
   ],
   "source": [
    "data_2011[c] = data_2011[c].replace(99, np.nan)\n",
    "Do_resamples(data_2011, c, float)"
   ]
  },
  {
   "cell_type": "code",
   "execution_count": 221,
   "metadata": {
    "collapsed": false,
    "scrolled": true
   },
   "outputs": [
    {
     "name": "stdout",
     "output_type": "stream",
     "text": [
      "Float64Index([ 1.0,  2.0,  3.0,  4.0,  5.0,  6.0,  7.0,  8.0,  9.0, 10.0, 11.0,\n",
      "              12.0, 13.0, 14.0, 15.0, 16.0, 17.0, 18.0, 19.0, 20.0, 21.0, 22.0,\n",
      "              23.0, 26.0, 99.0],\n",
      "             dtype='float64')\n",
      "1        10\n",
      "2        54\n",
      "3         8\n",
      "4        20\n",
      "5       110\n",
      "6        73\n",
      "7        97\n",
      "8        49\n",
      "9       286\n",
      "10     1092\n",
      "11       78\n",
      "12      136\n",
      "13     1389\n",
      "14     3177\n",
      "15     1573\n",
      "16     3250\n",
      "17     4753\n",
      "18     3312\n",
      "19     7456\n",
      "20     3544\n",
      "21     9201\n",
      "22    38139\n",
      "23     1788\n",
      "26     6252\n",
      "99      172\n",
      "Name: FAMI_OCUPA_MADRE, dtype: int64\n",
      "Elementos null/NaN 0\n",
      "__________________\n",
      "Elementos diferentes de null/NaN: 86019\n",
      "__________________\n",
      "(86019,)\n",
      "None\n"
     ]
    }
   ],
   "source": [
    "c = 'FAMI_OCUPA_MADRE'\n",
    "print(data_2011[c].value_counts().sort_index().index)\n",
    "print(data_2011[c].value_counts().sort_index())\n",
    "print(missing_data(data_2011[c]))"
   ]
  },
  {
   "cell_type": "code",
   "execution_count": 222,
   "metadata": {
    "collapsed": false
   },
   "outputs": [
    {
     "name": "stdout",
     "output_type": "stream",
     "text": [
      "cant null antes: 172\n",
      "cant null despues: 0\n"
     ]
    }
   ],
   "source": [
    "data_2011[c] = data_2011[c].replace(99, np.nan)\n",
    "Do_resamples(data_2011, c, float)"
   ]
  },
  {
   "cell_type": "code",
   "execution_count": 223,
   "metadata": {
    "collapsed": false
   },
   "outputs": [
    {
     "name": "stdout",
     "output_type": "stream",
     "text": [
      "Float64Index([1.0, 2.0, 3.0, 4.0, 5.0, 6.0, 8.0, 99.0], dtype='float64')\n",
      "1     18503\n",
      "2     31313\n",
      "3     21966\n",
      "4      6550\n",
      "5      3653\n",
      "6      2954\n",
      "8        24\n",
      "99     1056\n",
      "Name: FAMI_ESTRATO_VIVIENDA, dtype: int64\n",
      "Elementos null/NaN 0\n",
      "__________________\n",
      "Elementos diferentes de null/NaN: 86019\n",
      "__________________\n",
      "(86019,)\n",
      "None\n"
     ]
    }
   ],
   "source": [
    "c = 'FAMI_ESTRATO_VIVIENDA'\n",
    "print(data_2011[c].value_counts().sort_index().index)\n",
    "print(data_2011[c].value_counts().sort_index())\n",
    "print(missing_data(data_2011[c]))"
   ]
  },
  {
   "cell_type": "code",
   "execution_count": 224,
   "metadata": {
    "collapsed": false
   },
   "outputs": [
    {
     "name": "stdout",
     "output_type": "stream",
     "text": [
      "Float64Index([1.0, 2.0, 3.0, 4.0, 5.0, 99.0], dtype='float64')\n",
      "1     23017\n",
      "2     19597\n",
      "3      3966\n",
      "4       845\n",
      "5     38422\n",
      "99      172\n",
      "Name: FAMI_NIVEL_SISBEN, dtype: int64\n",
      "Elementos null/NaN 0\n",
      "__________________\n",
      "Elementos diferentes de null/NaN: 86019\n",
      "__________________\n",
      "(86019,)\n",
      "None\n"
     ]
    }
   ],
   "source": [
    "c = 'FAMI_NIVEL_SISBEN'\n",
    "print(data_2011[c].value_counts().sort_index().index)\n",
    "print(data_2011[c].value_counts().sort_index())\n",
    "print(missing_data(data_2011[c]))"
   ]
  },
  {
   "cell_type": "code",
   "execution_count": 225,
   "metadata": {
    "collapsed": false
   },
   "outputs": [
    {
     "name": "stdout",
     "output_type": "stream",
     "text": [
      "cant null antes: 172\n",
      "cant null despues: 0\n"
     ]
    }
   ],
   "source": [
    "data_2011[c] = data_2011[c].replace(99, np.nan)\n",
    "Do_resamples(data_2011, c, float)"
   ]
  },
  {
   "cell_type": "code",
   "execution_count": 226,
   "metadata": {
    "collapsed": false,
    "scrolled": true
   },
   "outputs": [
    {
     "name": "stdout",
     "output_type": "stream",
     "text": [
      "Float64Index([1.0, 2.0, 3.0, 4.0, 5.0, 6.0, 7.0, 8.0, 9.0, 10.0, 11.0, 12.0,\n",
      "              99.0],\n",
      "             dtype='float64')\n",
      "1      1064\n",
      "2      6060\n",
      "3     17207\n",
      "4     26980\n",
      "5     18555\n",
      "6      8291\n",
      "7      3690\n",
      "8      1870\n",
      "9       798\n",
      "10      598\n",
      "11      254\n",
      "12      480\n",
      "99      172\n",
      "Name: FAMI_PERSONAS_HOGAR, dtype: int64\n",
      "Elementos null/NaN 0\n",
      "__________________\n",
      "Elementos diferentes de null/NaN: 86019\n",
      "__________________\n",
      "(86019,)\n",
      "None\n"
     ]
    }
   ],
   "source": [
    "c = 'FAMI_PERSONAS_HOGAR'\n",
    "print(data_2011[c].value_counts().sort_index().index)\n",
    "print(data_2011[c].value_counts().sort_index())\n",
    "print(missing_data(data_2011[c]))"
   ]
  },
  {
   "cell_type": "code",
   "execution_count": 227,
   "metadata": {
    "collapsed": false
   },
   "outputs": [
    {
     "name": "stdout",
     "output_type": "stream",
     "text": [
      "cant null antes: 172\n",
      "cant null despues: 0\n"
     ]
    }
   ],
   "source": [
    "data_2011[c] = data_2011[c].replace(99, np.nan)\n",
    "Do_resamples(data_2011, c, float)"
   ]
  },
  {
   "cell_type": "code",
   "execution_count": 228,
   "metadata": {
    "collapsed": false,
    "scrolled": true
   },
   "outputs": [
    {
     "name": "stdout",
     "output_type": "stream",
     "text": [
      "Float64Index([1.0, 2.0, 3.0, 4.0, 5.0, 6.0, 7.0, 8.0, 9.0, 99.0], dtype='float64')\n",
      "1       130\n",
      "2       708\n",
      "3       868\n",
      "4       276\n",
      "5        75\n",
      "6        18\n",
      "7        10\n",
      "8         5\n",
      "9         1\n",
      "99    83928\n",
      "Name: FAMI_CUARTOS_HOGAR, dtype: int64\n",
      "Elementos null/NaN 0\n",
      "__________________\n",
      "Elementos diferentes de null/NaN: 86019\n",
      "__________________\n",
      "(86019,)\n",
      "None\n"
     ]
    }
   ],
   "source": [
    "c = 'FAMI_CUARTOS_HOGAR'\n",
    "print(data_2011[c].value_counts().sort_index().index)\n",
    "print(data_2011[c].value_counts().sort_index())\n",
    "print(missing_data(data_2011[c]))"
   ]
  },
  {
   "cell_type": "code",
   "execution_count": 229,
   "metadata": {
    "collapsed": false
   },
   "outputs": [
    {
     "name": "stdout",
     "output_type": "stream",
     "text": [
      "cant null antes: 83928\n",
      "cant null despues: 0\n"
     ]
    }
   ],
   "source": [
    "data_2011[c] = data_2011[c].replace(99, np.nan)\n",
    "Do_resamples(data_2011, c, float)"
   ]
  },
  {
   "cell_type": "code",
   "execution_count": 230,
   "metadata": {
    "collapsed": false
   },
   "outputs": [
    {
     "name": "stdout",
     "output_type": "stream",
     "text": [
      "Float64Index([1.0, 2.0, 3.0, 4.0, 5.0, 99.0], dtype='float64')\n",
      "1      2189\n",
      "2     30994\n",
      "3      4657\n",
      "4     47368\n",
      "5       639\n",
      "99      172\n",
      "Name: FAMI_PISOSHOGAR, dtype: int64\n",
      "Elementos null/NaN 0\n",
      "__________________\n",
      "Elementos diferentes de null/NaN: 86019\n",
      "__________________\n",
      "(86019,)\n",
      "None\n"
     ]
    }
   ],
   "source": [
    "c = 'FAMI_PISOSHOGAR'\n",
    "print(data_2011[c].value_counts().sort_index().index)\n",
    "print(data_2011[c].value_counts().sort_index())\n",
    "print(missing_data(data_2011[c]))"
   ]
  },
  {
   "cell_type": "code",
   "execution_count": 231,
   "metadata": {
    "collapsed": false
   },
   "outputs": [
    {
     "name": "stdout",
     "output_type": "stream",
     "text": [
      "cant null antes: 172\n",
      "cant null despues: 1\n",
      "cant null antes: 1\n",
      "cant null despues: 0\n"
     ]
    }
   ],
   "source": [
    "data_2011[c] = data_2011[c].replace(99, np.nan)\n",
    "Do_resamples(data_2011, c, float)"
   ]
  },
  {
   "cell_type": "code",
   "execution_count": 232,
   "metadata": {
    "collapsed": false
   },
   "outputs": [
    {
     "name": "stdout",
     "output_type": "stream",
     "text": [
      "Float64Index([0.0, 1.0, 99.0], dtype='float64')\n",
      "0     32410\n",
      "1     53439\n",
      "99      170\n",
      "Name: FAMI_TELEFONO_FIJO, dtype: int64\n",
      "Elementos null/NaN 0\n",
      "__________________\n",
      "Elementos diferentes de null/NaN: 86019\n",
      "__________________\n",
      "(86019,)\n",
      "None\n"
     ]
    }
   ],
   "source": [
    "c = 'FAMI_TELEFONO_FIJO'\n",
    "print(data_2011[c].value_counts().sort_index().index)\n",
    "print(data_2011[c].value_counts().sort_index())\n",
    "print(missing_data(data_2011[c]))"
   ]
  },
  {
   "cell_type": "code",
   "execution_count": 233,
   "metadata": {
    "collapsed": false
   },
   "outputs": [
    {
     "name": "stdout",
     "output_type": "stream",
     "text": [
      "cant null antes: 170\n",
      "cant null despues: 0\n"
     ]
    }
   ],
   "source": [
    "data_2011[c] = data_2011[c].replace(99, np.nan)\n",
    "Do_resamples(data_2011, c, float)"
   ]
  },
  {
   "cell_type": "code",
   "execution_count": 234,
   "metadata": {
    "collapsed": false
   },
   "outputs": [
    {
     "name": "stdout",
     "output_type": "stream",
     "text": [
      "Float64Index([0.0, 1.0, 99.0], dtype='float64')\n",
      "0      6149\n",
      "1     79856\n",
      "99       14\n",
      "Name: FAMI_CELULAR, dtype: int64\n",
      "Elementos null/NaN 0\n",
      "__________________\n",
      "Elementos diferentes de null/NaN: 86019\n",
      "__________________\n",
      "(86019,)\n",
      "None\n"
     ]
    }
   ],
   "source": [
    "c = 'FAMI_CELULAR'\n",
    "print(data_2011[c].value_counts().sort_index().index)\n",
    "print(data_2011[c].value_counts().sort_index())\n",
    "print(missing_data(data_2011[c]))"
   ]
  },
  {
   "cell_type": "code",
   "execution_count": 235,
   "metadata": {
    "collapsed": false
   },
   "outputs": [
    {
     "name": "stdout",
     "output_type": "stream",
     "text": [
      "cant null antes: 14\n",
      "cant null despues: 0\n"
     ]
    }
   ],
   "source": [
    "data_2011[c] = data_2011[c].replace(99, np.nan)\n",
    "Do_resamples(data_2011, c, float)"
   ]
  },
  {
   "cell_type": "code",
   "execution_count": 236,
   "metadata": {
    "collapsed": false
   },
   "outputs": [
    {
     "name": "stdout",
     "output_type": "stream",
     "text": [
      "Float64Index([0.0, 1.0, 99.0], dtype='float64')\n",
      "0     41946\n",
      "1     43903\n",
      "99      170\n",
      "Name: FAMI_INTERNET, dtype: int64\n",
      "Elementos null/NaN 0\n",
      "__________________\n",
      "Elementos diferentes de null/NaN: 86019\n",
      "__________________\n",
      "(86019,)\n",
      "None\n"
     ]
    }
   ],
   "source": [
    "c = 'FAMI_INTERNET'\n",
    "print(data_2011[c].value_counts().sort_index().index)\n",
    "print(data_2011[c].value_counts().sort_index())\n",
    "print(missing_data(data_2011[c]))"
   ]
  },
  {
   "cell_type": "code",
   "execution_count": 237,
   "metadata": {
    "collapsed": false
   },
   "outputs": [
    {
     "name": "stdout",
     "output_type": "stream",
     "text": [
      "cant null antes: 170\n",
      "cant null despues: 0\n"
     ]
    }
   ],
   "source": [
    "data_2011[c] = data_2011[c].replace(99, np.nan)\n",
    "Do_resamples(data_2011, c, float)"
   ]
  },
  {
   "cell_type": "code",
   "execution_count": 238,
   "metadata": {
    "collapsed": false
   },
   "outputs": [
    {
     "name": "stdout",
     "output_type": "stream",
     "text": [
      "Float64Index([0.0, 1.0, 99.0], dtype='float64')\n",
      "0     28294\n",
      "1     57555\n",
      "99      170\n",
      "Name: FAMI_SERVICIO_TELEVISION, dtype: int64\n",
      "Elementos null/NaN 0\n",
      "__________________\n",
      "Elementos diferentes de null/NaN: 86019\n",
      "__________________\n",
      "(86019,)\n",
      "None\n"
     ]
    }
   ],
   "source": [
    "c = 'FAMI_SERVICIO_TELEVISION'\n",
    "print(data_2011[c].value_counts().sort_index().index)\n",
    "print(data_2011[c].value_counts().sort_index())\n",
    "print(missing_data(data_2011[c]))"
   ]
  },
  {
   "cell_type": "code",
   "execution_count": 239,
   "metadata": {
    "collapsed": false
   },
   "outputs": [
    {
     "name": "stdout",
     "output_type": "stream",
     "text": [
      "cant null antes: 170\n",
      "cant null despues: 0\n"
     ]
    }
   ],
   "source": [
    "data_2011[c] = data_2011[c].replace(99, np.nan)\n",
    "Do_resamples(data_2011, c, float)"
   ]
  },
  {
   "cell_type": "code",
   "execution_count": 240,
   "metadata": {
    "collapsed": false
   },
   "outputs": [
    {
     "name": "stdout",
     "output_type": "stream",
     "text": [
      "Float64Index([0.0, 1.0, 3.0, 99.0], dtype='float64')\n",
      "0     30559\n",
      "1      1419\n",
      "3     53871\n",
      "99      170\n",
      "Name: FAMI_COMPUTADOR, dtype: int64\n",
      "Elementos null/NaN 0\n",
      "__________________\n",
      "Elementos diferentes de null/NaN: 86019\n",
      "__________________\n",
      "(86019,)\n",
      "None\n"
     ]
    }
   ],
   "source": [
    "c = 'FAMI_COMPUTADOR'\n",
    "print(data_2011[c].value_counts().sort_index().index)\n",
    "print(data_2011[c].value_counts().sort_index())\n",
    "print(missing_data(data_2011[c]))"
   ]
  },
  {
   "cell_type": "code",
   "execution_count": 241,
   "metadata": {
    "collapsed": false
   },
   "outputs": [
    {
     "name": "stdout",
     "output_type": "stream",
     "text": [
      "cant null antes: 170\n",
      "cant null despues: 0\n"
     ]
    }
   ],
   "source": [
    "data_2011[c] = data_2011[c].replace(99, np.nan)\n",
    "Do_resamples(data_2011, c, float)"
   ]
  },
  {
   "cell_type": "code",
   "execution_count": 242,
   "metadata": {
    "collapsed": false
   },
   "outputs": [
    {
     "name": "stdout",
     "output_type": "stream",
     "text": [
      "Float64Index([0.0, 1.0, 99.0], dtype='float64')\n",
      "0     29419\n",
      "1     56430\n",
      "99      170\n",
      "Name: FAMI_LAVADORA, dtype: int64\n",
      "Elementos null/NaN 0\n",
      "__________________\n",
      "Elementos diferentes de null/NaN: 86019\n",
      "__________________\n",
      "(86019,)\n",
      "None\n"
     ]
    }
   ],
   "source": [
    "c = 'FAMI_LAVADORA'\n",
    "print(data_2011[c].value_counts().sort_index().index)\n",
    "print(data_2011[c].value_counts().sort_index())\n",
    "print(missing_data(data_2011[c]))"
   ]
  },
  {
   "cell_type": "code",
   "execution_count": 243,
   "metadata": {
    "collapsed": false
   },
   "outputs": [
    {
     "name": "stdout",
     "output_type": "stream",
     "text": [
      "cant null antes: 170\n",
      "cant null despues: 0\n"
     ]
    }
   ],
   "source": [
    "data_2011[c] = data_2011[c].replace(99, np.nan)\n",
    "Do_resamples(data_2011, c, float)"
   ]
  },
  {
   "cell_type": "code",
   "execution_count": 244,
   "metadata": {
    "collapsed": false
   },
   "outputs": [
    {
     "name": "stdout",
     "output_type": "stream",
     "text": [
      "Float64Index([0.0, 1.0, 99.0], dtype='float64')\n",
      "0      7417\n",
      "1     78590\n",
      "99       12\n",
      "Name: FAMI_NEVERA, dtype: int64\n",
      "Elementos null/NaN 0\n",
      "__________________\n",
      "Elementos diferentes de null/NaN: 86019\n",
      "__________________\n",
      "(86019,)\n",
      "None\n"
     ]
    }
   ],
   "source": [
    "c = 'FAMI_NEVERA'\n",
    "print(data_2011[c].value_counts().sort_index().index)\n",
    "print(data_2011[c].value_counts().sort_index())\n",
    "print(missing_data(data_2011[c]))"
   ]
  },
  {
   "cell_type": "code",
   "execution_count": 245,
   "metadata": {
    "collapsed": false
   },
   "outputs": [
    {
     "name": "stdout",
     "output_type": "stream",
     "text": [
      "cant null antes: 12\n",
      "cant null despues: 0\n"
     ]
    }
   ],
   "source": [
    "data_2011[c] = data_2011[c].replace(99, np.nan)\n",
    "Do_resamples(data_2011, c, float)"
   ]
  },
  {
   "cell_type": "code",
   "execution_count": 246,
   "metadata": {
    "collapsed": false
   },
   "outputs": [
    {
     "name": "stdout",
     "output_type": "stream",
     "text": [
      "Float64Index([0.0, 1.0, 99.0], dtype='float64')\n",
      "0     44483\n",
      "1     41366\n",
      "99      170\n",
      "Name: FAMI_HORNO, dtype: int64\n",
      "Elementos null/NaN 0\n",
      "__________________\n",
      "Elementos diferentes de null/NaN: 86019\n",
      "__________________\n",
      "(86019,)\n",
      "None\n"
     ]
    }
   ],
   "source": [
    "c = 'FAMI_HORNO'\n",
    "print(data_2011[c].value_counts().sort_index().index)\n",
    "print(data_2011[c].value_counts().sort_index())\n",
    "print(missing_data(data_2011[c]))"
   ]
  },
  {
   "cell_type": "code",
   "execution_count": 247,
   "metadata": {
    "collapsed": false
   },
   "outputs": [
    {
     "name": "stdout",
     "output_type": "stream",
     "text": [
      "cant null antes: 170\n",
      "cant null despues: 0\n"
     ]
    }
   ],
   "source": [
    "data_2011[c] = data_2011[c].replace(99, np.nan)\n",
    "Do_resamples(data_2011, c, float)"
   ]
  },
  {
   "cell_type": "code",
   "execution_count": 248,
   "metadata": {
    "collapsed": false
   },
   "outputs": [
    {
     "name": "stdout",
     "output_type": "stream",
     "text": [
      "Float64Index([0.0, 1.0, 99.0], dtype='float64')\n",
      "0     28982\n",
      "1     56867\n",
      "99      170\n",
      "Name: FAMI_DVD, dtype: int64\n",
      "Elementos null/NaN 0\n",
      "__________________\n",
      "Elementos diferentes de null/NaN: 86019\n",
      "__________________\n",
      "(86019,)\n",
      "None\n"
     ]
    }
   ],
   "source": [
    "c = 'FAMI_DVD'\n",
    "print(data_2011[c].value_counts().sort_index().index)\n",
    "print(data_2011[c].value_counts().sort_index())\n",
    "print(missing_data(data_2011[c]))"
   ]
  },
  {
   "cell_type": "code",
   "execution_count": 249,
   "metadata": {
    "collapsed": false
   },
   "outputs": [
    {
     "name": "stdout",
     "output_type": "stream",
     "text": [
      "cant null antes: 170\n",
      "cant null despues: 0\n"
     ]
    }
   ],
   "source": [
    "data_2011[c] = data_2011[c].replace(99, np.nan)\n",
    "Do_resamples(data_2011, c, float)"
   ]
  },
  {
   "cell_type": "code",
   "execution_count": 250,
   "metadata": {
    "collapsed": false
   },
   "outputs": [
    {
     "name": "stdout",
     "output_type": "stream",
     "text": [
      "Float64Index([0.0, 1.0, 99.0], dtype='float64')\n",
      "0     57086\n",
      "1     28763\n",
      "99      170\n",
      "Name: FAMI_MICROONDAS, dtype: int64\n",
      "Elementos null/NaN 0\n",
      "__________________\n",
      "Elementos diferentes de null/NaN: 86019\n",
      "__________________\n",
      "(86019,)\n",
      "None\n"
     ]
    }
   ],
   "source": [
    "c = 'FAMI_MICROONDAS'\n",
    "print(data_2011[c].value_counts().sort_index().index)\n",
    "print(data_2011[c].value_counts().sort_index())\n",
    "print(missing_data(data_2011[c]))"
   ]
  },
  {
   "cell_type": "code",
   "execution_count": 251,
   "metadata": {
    "collapsed": false
   },
   "outputs": [
    {
     "name": "stdout",
     "output_type": "stream",
     "text": [
      "cant null antes: 170\n",
      "cant null despues: 0\n"
     ]
    }
   ],
   "source": [
    "data_2011[c] = data_2011[c].replace(99, np.nan)\n",
    "Do_resamples(data_2011, c, float)"
   ]
  },
  {
   "cell_type": "code",
   "execution_count": 252,
   "metadata": {
    "collapsed": false
   },
   "outputs": [
    {
     "name": "stdout",
     "output_type": "stream",
     "text": [
      "Float64Index([0.0, 1.0, 99.0], dtype='float64')\n",
      "0     63077\n",
      "1     22772\n",
      "99      170\n",
      "Name: FAMI_AUTOMOVIL, dtype: int64\n",
      "Elementos null/NaN 0\n",
      "__________________\n",
      "Elementos diferentes de null/NaN: 86019\n",
      "__________________\n",
      "(86019,)\n",
      "None\n"
     ]
    }
   ],
   "source": [
    "c = 'FAMI_AUTOMOVIL'\n",
    "print(data_2011[c].value_counts().sort_index().index)\n",
    "print(data_2011[c].value_counts().sort_index())\n",
    "print(missing_data(data_2011[c]))"
   ]
  },
  {
   "cell_type": "code",
   "execution_count": 253,
   "metadata": {
    "collapsed": false
   },
   "outputs": [
    {
     "name": "stdout",
     "output_type": "stream",
     "text": [
      "cant null antes: 170\n",
      "cant null despues: 0\n"
     ]
    }
   ],
   "source": [
    "data_2011[c] = data_2011[c].replace(99, np.nan)\n",
    "Do_resamples(data_2011, c, float)"
   ]
  },
  {
   "cell_type": "code",
   "execution_count": 254,
   "metadata": {
    "collapsed": false
   },
   "outputs": [
    {
     "name": "stdout",
     "output_type": "stream",
     "text": [
      "Float64Index([1.0, 2.0, 3.0, 4.0, 5.0, 6.0, 7.0, 99.0], dtype='float64')\n",
      "1     15607\n",
      "2     37325\n",
      "3     15693\n",
      "4      8077\n",
      "5      2980\n",
      "6      2093\n",
      "7      4072\n",
      "99      172\n",
      "Name: FAMI_INGRESO_FMILIAR_MENSUAL, dtype: int64\n",
      "Elementos null/NaN 0\n",
      "__________________\n",
      "Elementos diferentes de null/NaN: 86019\n",
      "__________________\n",
      "(86019,)\n",
      "None\n"
     ]
    }
   ],
   "source": [
    "c = 'FAMI_INGRESO_FMILIAR_MENSUAL'\n",
    "print(data_2011[c].value_counts().sort_index().index)\n",
    "print(data_2011[c].value_counts().sort_index())\n",
    "print(missing_data(data_2011[c]))"
   ]
  },
  {
   "cell_type": "code",
   "execution_count": 255,
   "metadata": {
    "collapsed": false
   },
   "outputs": [
    {
     "name": "stdout",
     "output_type": "stream",
     "text": [
      "cant null antes: 172\n",
      "cant null despues: 1\n",
      "cant null antes: 1\n",
      "cant null despues: 0\n"
     ]
    }
   ],
   "source": [
    "data_2011[c] = data_2011[c].replace(99, np.nan)\n",
    "Do_resamples(data_2011, c, float)"
   ]
  },
  {
   "cell_type": "code",
   "execution_count": 256,
   "metadata": {
    "collapsed": false
   },
   "outputs": [
    {
     "name": "stdout",
     "output_type": "stream",
     "text": [
      "Float64Index([0.0, 1.0, 2.0, 3.0, 4.0, 5.0, 6.0, 7.0, 99.0], dtype='float64')\n",
      "0     44974\n",
      "1       122\n",
      "2        33\n",
      "3      2796\n",
      "4       779\n",
      "5      1209\n",
      "6      2839\n",
      "7      4041\n",
      "99    29226\n",
      "Name: ESTU_TRABAJA, dtype: int64\n",
      "Elementos null/NaN 0\n",
      "__________________\n",
      "Elementos diferentes de null/NaN: 86019\n",
      "__________________\n",
      "(86019,)\n",
      "None\n"
     ]
    }
   ],
   "source": [
    "c = 'ESTU_TRABAJA'\n",
    "print(data_2011[c].value_counts().sort_index().index)\n",
    "print(data_2011[c].value_counts().sort_index())\n",
    "print(missing_data(data_2011[c]))"
   ]
  },
  {
   "cell_type": "code",
   "execution_count": 257,
   "metadata": {
    "collapsed": false
   },
   "outputs": [
    {
     "name": "stdout",
     "output_type": "stream",
     "text": [
      "cant null antes: 29226\n",
      "cant null despues: 0\n"
     ]
    }
   ],
   "source": [
    "data_2011[c] = data_2011[c].replace(99, np.nan)\n",
    "Do_resamples(data_2011, c, float)"
   ]
  },
  {
   "cell_type": "code",
   "execution_count": 258,
   "metadata": {
    "collapsed": false,
    "scrolled": true
   },
   "outputs": [
    {
     "name": "stdout",
     "output_type": "stream",
     "text": [
      "Float64Index([ 0.0,  1.0,  2.0,  3.0,  4.0,  5.0,  6.0,  7.0,  8.0,  9.0, 10.0,\n",
      "              11.0, 12.0, 13.0, 14.0, 15.0, 16.0, 17.0, 18.0, 19.0, 20.0,\n",
      "              99.0],\n",
      "             dtype='float64')\n",
      "0         5\n",
      "1         5\n",
      "2        16\n",
      "3        24\n",
      "4        86\n",
      "5        61\n",
      "6        91\n",
      "7        38\n",
      "8       387\n",
      "9        78\n",
      "10      161\n",
      "11       17\n",
      "12      125\n",
      "13       11\n",
      "14       21\n",
      "15       72\n",
      "16       96\n",
      "17       13\n",
      "18       74\n",
      "19       26\n",
      "20     3521\n",
      "99    81091\n",
      "Name: ESTU_HORAS_TRABAJA, dtype: int64\n",
      "Elementos null/NaN 0\n",
      "__________________\n",
      "Elementos diferentes de null/NaN: 86019\n",
      "__________________\n",
      "(86019,)\n",
      "None\n"
     ]
    }
   ],
   "source": [
    "c = 'ESTU_HORAS_TRABAJA'\n",
    "print(data_2011[c].value_counts().sort_index().index)\n",
    "print(data_2011[c].value_counts().sort_index())\n",
    "print(missing_data(data_2011[c]))"
   ]
  },
  {
   "cell_type": "code",
   "execution_count": 259,
   "metadata": {
    "collapsed": false
   },
   "outputs": [
    {
     "name": "stdout",
     "output_type": "stream",
     "text": [
      "cant null antes: 81091\n",
      "cant null despues: 0\n"
     ]
    }
   ],
   "source": [
    "data_2011[c] = data_2011[c].replace(99, np.nan)\n",
    "Do_resamples(data_2011, c, float)"
   ]
  },
  {
   "cell_type": "markdown",
   "metadata": {},
   "source": [
    "## TARGETS"
   ]
  },
  {
   "cell_type": "code",
   "execution_count": 260,
   "metadata": {
    "collapsed": false,
    "scrolled": true
   },
   "outputs": [
    {
     "name": "stdout",
     "output_type": "stream",
     "text": [
      "Index(['0', '20,92', '21,02', '22,08', '22,17', '28,77', '28,83', '29,88',\n",
      "       '29,94', '33,65', '33,69', '34,73', '34,76', '37,34', '37,35', '38,38',\n",
      "       '38,39', '40,37', '40,39', '41,37', '41,4', '42,99', '43,04', '43,96',\n",
      "       '44,02', '45,36', '45,43', '46,29', '46,37', '47,55', '47,63', '48,44',\n",
      "       '48,55', '49,61', '49,71', '50,47', '50,6', '51,58', '51,71', '52,42',\n",
      "       '52,56', '53,51', '53,65', '54,32', '54,48', '55,41', '55,57', '56,18',\n",
      "       '56,37', '57,31', '57,48', '58,05', '58,25', '59,23', '59,42', '59,95',\n",
      "       '60,16', '61,2', '61,41', '61,89', '62,12', '63,25', '63,48', '63,91',\n",
      "       '64,17', '65,42', '65,66', '66,06', '66,33', '67,77', '68,03', '68,38',\n",
      "       '68,67', '70,38', '70,65', '70,96', '71,27', '73,38', '73,66', '73,94',\n",
      "       '74,26', '77,01', '77,32', '77,55', '77,89', '81,84', '82,16', '82,36',\n",
      "       '82,71', '89,96'],\n",
      "      dtype='object')\n",
      "0          36\n",
      "20,92      32\n",
      "21,02      39\n",
      "22,08      44\n",
      "22,17      50\n",
      "28,77     128\n",
      "28,83     115\n",
      "29,88     192\n",
      "29,94     196\n",
      "33,65     359\n",
      "33,69     379\n",
      "34,73     422\n",
      "34,76     519\n",
      "37,34     763\n",
      "37,35     725\n",
      "38,38     989\n",
      "38,39     923\n",
      "40,37    1224\n",
      "40,39    1193\n",
      "41,37    1565\n",
      "41,4     1623\n",
      "42,99    1697\n",
      "43,04    1694\n",
      "43,96    2174\n",
      "44,02    2245\n",
      "45,36    2094\n",
      "45,43    2197\n",
      "46,29    2556\n",
      "46,37    2587\n",
      "47,55    2320\n",
      "         ... \n",
      "62,12     622\n",
      "63,25     463\n",
      "63,48     441\n",
      "63,91     461\n",
      "64,17     444\n",
      "65,42     315\n",
      "65,66     296\n",
      "66,06     273\n",
      "66,33     269\n",
      "67,77     177\n",
      "68,03     167\n",
      "68,38     178\n",
      "68,67     160\n",
      "70,38      85\n",
      "70,65      72\n",
      "70,96      79\n",
      "71,27      76\n",
      "73,38      28\n",
      "73,66      24\n",
      "73,94      29\n",
      "74,26      29\n",
      "77,01       9\n",
      "77,32       9\n",
      "77,55       8\n",
      "77,89      10\n",
      "81,84       4\n",
      "82,16       1\n",
      "82,36       2\n",
      "82,71       2\n",
      "89,96       2\n",
      "Name: PUNT_LENGUAJE, dtype: int64\n",
      "Elementos null/NaN 0\n",
      "__________________\n",
      "Elementos diferentes de null/NaN: 86019\n",
      "__________________\n",
      "(86019,)\n",
      "None\n"
     ]
    }
   ],
   "source": [
    "c = 'PUNT_LENGUAJE'\n",
    "print(data_2011[c].value_counts().sort_index().index)\n",
    "print(data_2011[c].value_counts().sort_index())\n",
    "print(missing_data(data_2011[c]))"
   ]
  },
  {
   "cell_type": "code",
   "execution_count": 261,
   "metadata": {
    "collapsed": true
   },
   "outputs": [],
   "source": [
    "clean_target(data_2011, c)"
   ]
  },
  {
   "cell_type": "code",
   "execution_count": 262,
   "metadata": {
    "collapsed": false,
    "scrolled": true
   },
   "outputs": [
    {
     "name": "stdout",
     "output_type": "stream",
     "text": [
      "Index(['0', '112,99', '113,27', '113,48', '113,64', '17,5', '17,7', '17,91',\n",
      "       '18,23', '23,61', '23,84', '23,97', '24,3', '28,27', '28,52', '28,58',\n",
      "       '28,91', '32,15', '32,42', '32,75', '35,55', '35,78', '35,84', '36,11',\n",
      "       '38,64', '38,84', '38,94', '39,16', '41,51', '41,69', '41,82', '42',\n",
      "       '44,23', '44,39', '44,55', '44,69', '46,86', '47,01', '47,19', '47,3',\n",
      "       '49,43', '49,57', '49,77', '49,85', '51,97', '52,11', '52,32', '52,39',\n",
      "       '54,52', '54,67', '54,88', '54,94', '57,11', '57,27', '57,47', '57,53',\n",
      "       '59,77', '59,94', '60,14', '60,2', '62,53', '62,72', '62,92', '62,98',\n",
      "       '65,46', '65,67', '65,86', '65,93', '68,62', '68,85', '69,03', '69,12',\n",
      "       '7,78', '7,95', '72,11', '72,36', '72,53', '72,63', '76,1', '76,37',\n",
      "       '76,53', '76,65', '8,26', '8,57', '80,88', '81,17', '81,33', '81,47',\n",
      "       '87,14', '87,43', '87,61', '87,76', '97,02', '97,31', '97,5', '97,66'],\n",
      "      dtype='object')\n",
      "0           29\n",
      "112,99      49\n",
      "113,27      42\n",
      "113,48      47\n",
      "113,64      32\n",
      "17,5        99\n",
      "17,7        65\n",
      "17,91       72\n",
      "18,23       81\n",
      "23,61      224\n",
      "23,84      225\n",
      "23,97      233\n",
      "24,3       210\n",
      "28,27      489\n",
      "28,52      499\n",
      "28,58      499\n",
      "28,91      491\n",
      "32,15      834\n",
      "32,42     1763\n",
      "32,75      881\n",
      "35,55     1239\n",
      "35,78     1295\n",
      "35,84     1270\n",
      "36,11     1372\n",
      "38,64     1600\n",
      "38,84     1599\n",
      "38,94     1613\n",
      "39,16     1688\n",
      "41,51     1740\n",
      "41,69     1818\n",
      "          ... \n",
      "65,86      728\n",
      "65,93      694\n",
      "68,62      694\n",
      "68,85      611\n",
      "69,03      669\n",
      "69,12      586\n",
      "7,78        22\n",
      "7,95        21\n",
      "72,11      527\n",
      "72,36      502\n",
      "72,53      491\n",
      "72,63      440\n",
      "76,1       400\n",
      "76,37      391\n",
      "76,53      423\n",
      "76,65      352\n",
      "8,26        16\n",
      "8,57        16\n",
      "80,88      305\n",
      "81,17      251\n",
      "81,33      306\n",
      "81,47      302\n",
      "87,14      184\n",
      "87,43      200\n",
      "87,61      176\n",
      "87,76      187\n",
      "97,02      112\n",
      "97,31       90\n",
      "97,5       106\n",
      "97,66      117\n",
      "Name: PUNT_MATEMATICAS, dtype: int64\n",
      "Elementos null/NaN 0\n",
      "__________________\n",
      "Elementos diferentes de null/NaN: 86019\n",
      "__________________\n",
      "(86019,)\n",
      "None\n"
     ]
    }
   ],
   "source": [
    "c = 'PUNT_MATEMATICAS'\n",
    "print(data_2011[c].value_counts().sort_index().index)\n",
    "print(data_2011[c].value_counts().sort_index())\n",
    "print(missing_data(data_2011[c]))"
   ]
  },
  {
   "cell_type": "code",
   "execution_count": 263,
   "metadata": {
    "collapsed": true
   },
   "outputs": [],
   "source": [
    "clean_target(data_2011, c)\n",
    "for i in data_2011[c].value_counts().sort_index().index:\n",
    "    if i < 0:\n",
    "        data_2011[c] = data_2011[c].replace(i, 0)\n",
    "    elif i > 100:\n",
    "        data_2011[c] = data_2011[c].replace(i, 100)"
   ]
  },
  {
   "cell_type": "code",
   "execution_count": 264,
   "metadata": {
    "collapsed": false,
    "scrolled": true
   },
   "outputs": [
    {
     "name": "stdout",
     "output_type": "stream",
     "text": [
      "Index(['0', '1', '1,59', '10,27', '10,93', '108,28', '11,63', '15,18', '16,02',\n",
      "       '16,74',\n",
      "       ...\n",
      "       '78,77', '79,52', '83,75', '84,45', '84,59', '85,31', '9,35', '93',\n",
      "       '93,67', '93,92'],\n",
      "      dtype='object', length=115)\n",
      "0          23\n",
      "1           5\n",
      "1,59        7\n",
      "10,27      12\n",
      "10,93      22\n",
      "108,28      2\n",
      "11,63      14\n",
      "15,18      47\n",
      "16,02      26\n",
      "16,74      47\n",
      "17,39      45\n",
      "19,58     122\n",
      "2,36        2\n",
      "20,35      82\n",
      "21,12     159\n",
      "21,71     122\n",
      "23,21     189\n",
      "23,9      172\n",
      "24,72     321\n",
      "25,26     271\n",
      "26,35     341\n",
      "26,98     384\n",
      "27,84     445\n",
      "28,32     452\n",
      "29,17     482\n",
      "29,73     525\n",
      "30,62     686\n",
      "31,05     685\n",
      "31,76     632\n",
      "32,25     728\n",
      "         ... \n",
      "62,71     567\n",
      "63,13     560\n",
      "64,37     374\n",
      "64,82     360\n",
      "65,19     383\n",
      "65,68     344\n",
      "67,11     231\n",
      "67,63     229\n",
      "67,9      206\n",
      "68,46     186\n",
      "70,17     103\n",
      "70,76      96\n",
      "70,94      97\n",
      "71,57      83\n",
      "73,71      55\n",
      "74,38      52\n",
      "74,45      47\n",
      "75,15      33\n",
      "78,02      24\n",
      "78,73      22\n",
      "78,77      22\n",
      "79,52       9\n",
      "83,75       5\n",
      "84,45       4\n",
      "84,59       5\n",
      "85,31       2\n",
      "9,35       10\n",
      "93          1\n",
      "93,67       1\n",
      "93,92       1\n",
      "Name: PUNT_C_SOCIALES, dtype: int64\n",
      "Elementos null/NaN 0\n",
      "__________________\n",
      "Elementos diferentes de null/NaN: 86019\n",
      "__________________\n",
      "(86019,)\n",
      "None\n"
     ]
    }
   ],
   "source": [
    "c = 'PUNT_C_SOCIALES'\n",
    "print(data_2011[c].value_counts().sort_index().index)\n",
    "print(data_2011[c].value_counts().sort_index())\n",
    "print(missing_data(data_2011[c]))"
   ]
  },
  {
   "cell_type": "code",
   "execution_count": 265,
   "metadata": {
    "collapsed": true
   },
   "outputs": [],
   "source": [
    "clean_target(data_2011, c)\n",
    "for i in data_2011[c].value_counts().sort_index().index:\n",
    "    if i < 0:\n",
    "        data_2011[c] = data_2011[c].replace(i, 0)\n",
    "    elif i > 100:\n",
    "        data_2011[c] = data_2011[c].replace(i, 100)"
   ]
  },
  {
   "cell_type": "code",
   "execution_count": 266,
   "metadata": {
    "collapsed": false,
    "scrolled": true
   },
   "outputs": [
    {
     "name": "stdout",
     "output_type": "stream",
     "text": [
      "Index(['0', '11,37', '12,27', '12,4', '12,77', '17,07', '17,96', '18,05',\n",
      "       '18,43', '2,28', '21,42', '22,29', '22,33', '22,72', '25,04', '25,89',\n",
      "       '26,28', '28,21', '29', '29,04', '29,39', '3,19', '3,35', '3,73',\n",
      "       '31,1', '31,82', '31,91', '32,21', '33,79', '34,45', '34,58', '34,84',\n",
      "       '36,36', '36,94', '37,12', '37,34', '38,84', '39,35', '39,58', '39,75',\n",
      "       '41,27', '41,7', '41,99', '42,11', '43,68', '44,04', '44,38', '44,46',\n",
      "       '46,1', '46,38', '46,79', '46,81', '48,56', '48,76', '49,2', '49,23',\n",
      "       '51,08', '51,21', '51,66', '51,75', '53,71', '53,76', '54,22', '54,37',\n",
      "       '56,47', '56,48', '56,94', '57,15', '59,39', '59,47', '59,87', '60,15',\n",
      "       '62,62', '62,76', '63,12', '63,45', '66,31', '66,51', '66,83', '67,23',\n",
      "       '70,76', '71,01', '71,29', '71,75', '76,59', '77,14', '86,18'],\n",
      "      dtype='object')\n",
      "0         266\n",
      "11,37      54\n",
      "12,27      57\n",
      "12,4       56\n",
      "12,77      76\n",
      "17,07     119\n",
      "17,96     168\n",
      "18,05     158\n",
      "18,43     189\n",
      "2,28       14\n",
      "21,42     251\n",
      "22,29     355\n",
      "22,33     322\n",
      "22,72     394\n",
      "25,04     479\n",
      "25,89    1113\n",
      "26,28     661\n",
      "28,21     677\n",
      "29        866\n",
      "29,04     948\n",
      "29,39     954\n",
      "3,19       20\n",
      "3,35       32\n",
      "3,73       22\n",
      "31,1     1026\n",
      "31,82    1166\n",
      "31,91    1125\n",
      "32,21    1226\n",
      "33,79    1378\n",
      "34,45    1409\n",
      "         ... \n",
      "51,21    1769\n",
      "51,66    1754\n",
      "51,75    1777\n",
      "53,71    1279\n",
      "53,76    1263\n",
      "54,22    1213\n",
      "54,37    1213\n",
      "56,47     741\n",
      "56,48     741\n",
      "56,94     689\n",
      "57,15     697\n",
      "59,39     344\n",
      "59,47     349\n",
      "59,87     357\n",
      "60,15     300\n",
      "62,62     138\n",
      "62,76     124\n",
      "63,12     148\n",
      "63,45     114\n",
      "66,31      33\n",
      "66,51      38\n",
      "66,83      45\n",
      "67,23      36\n",
      "70,76      11\n",
      "71,01       7\n",
      "71,29      10\n",
      "71,75       9\n",
      "76,59       2\n",
      "77,14       1\n",
      "86,18       1\n",
      "Name: PUNT_FILOSOFIA, dtype: int64\n",
      "Elementos null/NaN 0\n",
      "__________________\n",
      "Elementos diferentes de null/NaN: 86019\n",
      "__________________\n",
      "(86019,)\n",
      "None\n"
     ]
    }
   ],
   "source": [
    "c = 'PUNT_FILOSOFIA'\n",
    "print(data_2011[c].value_counts().sort_index().index)\n",
    "print(data_2011[c].value_counts().sort_index())\n",
    "print(missing_data(data_2011[c]))"
   ]
  },
  {
   "cell_type": "code",
   "execution_count": 267,
   "metadata": {
    "collapsed": true
   },
   "outputs": [],
   "source": [
    "clean_target(data_2011, c)"
   ]
  },
  {
   "cell_type": "code",
   "execution_count": 268,
   "metadata": {
    "collapsed": false,
    "scrolled": true
   },
   "outputs": [
    {
     "name": "stdout",
     "output_type": "stream",
     "text": [
      "Index(['0', '13,96', '14,21', '14,25', '14,33', '21,68', '21,9', '21,93',\n",
      "       '22,02', '26,55', '26,74', '26,77', '26,87', '30,27', '30,43', '30,46',\n",
      "       '30,57', '33,38', '33,52', '33,54', '33,65', '36,12', '36,25', '36,26',\n",
      "       '36,36', '38,63', '38,73', '38,74', '38,84', '40,98', '41,07', '41,15',\n",
      "       '43,22', '43,3', '43,36', '45,4', '45,47', '45,5', '47,56', '47,61',\n",
      "       '47,62', '49,71', '49,73', '49,76', '49,77', '51,87', '51,9', '51,93',\n",
      "       '51,95', '54,06', '54,13', '54,16', '54,18', '56,34', '56,46', '56,48',\n",
      "       '56,51', '58,75', '58,91', '58,93', '58,96', '61,35', '61,54', '61,57',\n",
      "       '61,6', '64,2', '64,43', '64,46', '64,5', '67,46', '67,72', '67,75',\n",
      "       '67,79', '71,35', '71,63', '71,66', '71,7', '76,41', '76,71', '76,74',\n",
      "       '76,79', '84,34', '84,66', '84,68', '84,73', '97,07', '97,4', '97,41',\n",
      "       '97,46'],\n",
      "      dtype='object')\n",
      "0         120\n",
      "13,96      15\n",
      "14,21      24\n",
      "14,25      23\n",
      "14,33      22\n",
      "21,68      62\n",
      "21,9       84\n",
      "21,93      78\n",
      "22,02      34\n",
      "26,55     167\n",
      "26,74     233\n",
      "26,77     205\n",
      "26,87     183\n",
      "30,27     432\n",
      "30,43     466\n",
      "30,46     491\n",
      "30,57     463\n",
      "33,38     777\n",
      "33,52     819\n",
      "33,54     808\n",
      "33,65     749\n",
      "36,12    1199\n",
      "36,25    1189\n",
      "36,26    1192\n",
      "36,36    1198\n",
      "38,63    1620\n",
      "38,73    1563\n",
      "38,74    1555\n",
      "38,84    1677\n",
      "40,98    1985\n",
      "         ... \n",
      "58,93     918\n",
      "58,96     921\n",
      "61,35     604\n",
      "61,54     638\n",
      "61,57     651\n",
      "61,6      647\n",
      "64,2      348\n",
      "64,43     379\n",
      "64,46     432\n",
      "64,5      417\n",
      "67,46     174\n",
      "67,72     194\n",
      "67,75     229\n",
      "67,79     208\n",
      "71,35     104\n",
      "71,63     106\n",
      "71,66     114\n",
      "71,7      129\n",
      "76,41      47\n",
      "76,71      37\n",
      "76,74      47\n",
      "76,79      39\n",
      "84,34      10\n",
      "84,66       8\n",
      "84,68      18\n",
      "84,73      19\n",
      "97,07       1\n",
      "97,4        3\n",
      "97,41       4\n",
      "97,46       1\n",
      "Name: PUNT_BIOLOGIA, dtype: int64\n",
      "Elementos null/NaN 0\n",
      "__________________\n",
      "Elementos diferentes de null/NaN: 86019\n",
      "__________________\n",
      "(86019,)\n",
      "None\n"
     ]
    }
   ],
   "source": [
    "c = 'PUNT_BIOLOGIA'\n",
    "print(data_2011[c].value_counts().sort_index().index)\n",
    "print(data_2011[c].value_counts().sort_index())\n",
    "print(missing_data(data_2011[c]))"
   ]
  },
  {
   "cell_type": "code",
   "execution_count": 269,
   "metadata": {
    "collapsed": true
   },
   "outputs": [],
   "source": [
    "clean_target(data_2011, c)"
   ]
  },
  {
   "cell_type": "code",
   "execution_count": 270,
   "metadata": {
    "collapsed": false,
    "scrolled": true
   },
   "outputs": [
    {
     "name": "stdout",
     "output_type": "stream",
     "text": [
      "Index(['0', '17,74', '17,84', '18,25', '18,27', '24,65', '24,73', '25,14',\n",
      "       '25,17', '28,98', '29,05', '29,45', '29,51', '32,28', '32,33', '32,72',\n",
      "       '32,8', '35,02', '35,05', '35,44', '35,53', '37,42', '37,43', '37,81',\n",
      "       '37,92', '39,59', '39,6', '39,96', '40,09', '41,6', '41,62', '41,96',\n",
      "       '42,1', '43,51', '43,54', '43,86', '44,01', '45,36', '45,4', '45,69',\n",
      "       '45,85', '47,17', '47,22', '47,49', '47,66', '48,96', '49,03', '49,27',\n",
      "       '49,45', '50,78', '50,86', '51,07', '51,26', '52,62', '52,72', '52,9',\n",
      "       '53,09', '54,54', '54,64', '54,79', '54,99', '56,55', '56,66', '56,77',\n",
      "       '56,98', '58,69', '58,82', '58,89', '59,1', '61,02', '61,16', '61,2',\n",
      "       '61,4', '63,62', '63,77', '63,97', '66,6', '66,74', '66,78', '66,93',\n",
      "       '70,2', '70,32', '70,4', '70,5', '74,89', '75,02', '75,12', '75,18',\n",
      "       '82,22', '82,36', '82,47', '82,5', '93,83', '94', '94,11', '94,12'],\n",
      "      dtype='object')\n",
      "0          61\n",
      "17,74      18\n",
      "17,84      26\n",
      "18,25      27\n",
      "18,27      14\n",
      "24,65      87\n",
      "24,73      81\n",
      "25,14      89\n",
      "25,17      72\n",
      "28,98     209\n",
      "29,05     260\n",
      "29,45     258\n",
      "29,51     207\n",
      "32,28     505\n",
      "32,33     524\n",
      "32,72     533\n",
      "32,8      496\n",
      "35,02     895\n",
      "35,05     888\n",
      "35,44     989\n",
      "35,53     958\n",
      "37,42    1322\n",
      "37,43    1290\n",
      "37,81    1448\n",
      "37,92    1354\n",
      "39,59    1711\n",
      "39,6     1737\n",
      "39,96    1731\n",
      "40,09    1764\n",
      "41,6     1922\n",
      "         ... \n",
      "58,82     677\n",
      "58,89     723\n",
      "59,1      639\n",
      "61,02     517\n",
      "61,16     488\n",
      "61,2      474\n",
      "61,4      470\n",
      "63,62     332\n",
      "63,77     657\n",
      "63,97     300\n",
      "66,6      226\n",
      "66,74     198\n",
      "66,78     219\n",
      "66,93     181\n",
      "70,2      129\n",
      "70,32     118\n",
      "70,4      118\n",
      "70,5      103\n",
      "74,89      61\n",
      "75,02      45\n",
      "75,12      53\n",
      "75,18      55\n",
      "82,22      18\n",
      "82,36      21\n",
      "82,47      24\n",
      "82,5       23\n",
      "93,83       2\n",
      "94          4\n",
      "94,11       6\n",
      "94,12       5\n",
      "Name: PUNT_QUIMICA, dtype: int64\n",
      "Elementos null/NaN 0\n",
      "__________________\n",
      "Elementos diferentes de null/NaN: 86019\n",
      "__________________\n",
      "(86019,)\n",
      "None\n"
     ]
    }
   ],
   "source": [
    "c = 'PUNT_QUIMICA'\n",
    "print(data_2011[c].value_counts().sort_index().index)\n",
    "print(data_2011[c].value_counts().sort_index())\n",
    "print(missing_data(data_2011[c]))"
   ]
  },
  {
   "cell_type": "code",
   "execution_count": 271,
   "metadata": {
    "collapsed": true
   },
   "outputs": [],
   "source": [
    "clean_target(data_2011, c)"
   ]
  },
  {
   "cell_type": "code",
   "execution_count": 272,
   "metadata": {
    "collapsed": false,
    "scrolled": true
   },
   "outputs": [
    {
     "name": "stdout",
     "output_type": "stream",
     "text": [
      "Index(['0', '109,97', '109,99', '110,32', '110,52', '17,04', '17,13', '17,39',\n",
      "       '17,65', '23,09', '23,24', '23,43', '23,75', '27,66', '27,86', '27,99',\n",
      "       '28,37', '31,43', '31,68', '31,75', '32,18', '34,71', '35,01', '35,03',\n",
      "       '35,5', '37,68', '37,98', '38,01', '38,5', '40,44', '40,73', '40,8',\n",
      "       '41,27', '43,04', '43,32', '43,43', '43,89', '45,54', '45,81', '45,95',\n",
      "       '46,41', '47,99', '48,24', '48,41', '48,85', '50,41', '50,64', '50,84',\n",
      "       '51,27', '52,83', '53,05', '53,27', '53,68', '55,29', '55,49', '55,73',\n",
      "       '56,13', '57,81', '57,99', '58,25', '58,63', '60,45', '60,6', '60,87',\n",
      "       '61,23', '63,23', '63,37', '63,65', '63,99', '66,24', '66,35', '66,65',\n",
      "       '66,97', '69,57', '69,66', '69,97', '7,33', '7,35', '7,68', '7,87',\n",
      "       '70,27', '73,4', '73,47', '73,78', '74,06', '78,02', '78,07', '78,38',\n",
      "       '78,65', '84,13', '84,15', '84,48', '84,72', '93,91', '93,92', '94,25',\n",
      "       '94,47'],\n",
      "      dtype='object')\n",
      "0           62\n",
      "109,97       1\n",
      "109,99       2\n",
      "110,32       3\n",
      "110,52       1\n",
      "17,04       59\n",
      "17,13       74\n",
      "17,39       59\n",
      "17,65       95\n",
      "23,09      194\n",
      "23,24      229\n",
      "23,43      202\n",
      "23,75      255\n",
      "27,66      508\n",
      "27,86      514\n",
      "27,99      481\n",
      "28,37      602\n",
      "31,43      949\n",
      "31,68     1029\n",
      "31,75      926\n",
      "32,18     1074\n",
      "34,71     1449\n",
      "35,01     1527\n",
      "35,03     1543\n",
      "35,5      1521\n",
      "37,68     1916\n",
      "37,98     2058\n",
      "38,01     2104\n",
      "38,5      2082\n",
      "40,44     2294\n",
      "          ... \n",
      "63,65      316\n",
      "63,99      296\n",
      "66,24      200\n",
      "66,35      198\n",
      "66,65      166\n",
      "66,97      181\n",
      "69,57       99\n",
      "69,66      113\n",
      "69,97      104\n",
      "7,33        22\n",
      "7,35        13\n",
      "7,68        12\n",
      "7,87        11\n",
      "70,27      103\n",
      "73,4        52\n",
      "73,47       68\n",
      "73,78       51\n",
      "74,06       40\n",
      "78,02       20\n",
      "78,07       32\n",
      "78,38       36\n",
      "78,65       25\n",
      "84,13       19\n",
      "84,15       10\n",
      "84,48       10\n",
      "84,72       11\n",
      "93,91        9\n",
      "93,92        5\n",
      "94,25        9\n",
      "94,47        5\n",
      "Name: PUNT_FISICA, dtype: int64\n",
      "Elementos null/NaN 0\n",
      "__________________\n",
      "Elementos diferentes de null/NaN: 86019\n",
      "__________________\n",
      "(86019,)\n",
      "None\n"
     ]
    }
   ],
   "source": [
    "c = 'PUNT_FISICA'\n",
    "print(data_2011[c].value_counts().sort_index().index)\n",
    "print(data_2011[c].value_counts().sort_index())\n",
    "print(missing_data(data_2011[c]))"
   ]
  },
  {
   "cell_type": "code",
   "execution_count": 273,
   "metadata": {
    "collapsed": true
   },
   "outputs": [],
   "source": [
    "clean_target(data_2011, c)\n",
    "for i in data_2011[c].value_counts().sort_index().index:\n",
    "    if i < 0:\n",
    "        data_2011[c] = data_2011[c].replace(i, 0)\n",
    "    elif i > 100:\n",
    "        data_2011[c] = data_2011[c].replace(i, 100)"
   ]
  },
  {
   "cell_type": "code",
   "execution_count": 274,
   "metadata": {
    "collapsed": false,
    "scrolled": true
   },
   "outputs": [
    {
     "name": "stdout",
     "output_type": "stream",
     "text": [
      "Index(['-1', '0', '100', '11,71', '15,55', '19,16', '22,55', '25,71', '28,64',\n",
      "       '3,34', '31,34', '33,81', '36,06', '38,08', '39,87', '41,43', '42,76',\n",
      "       '43,48', '44,56', '44,71', '45,63', '45,94', '46,71', '47,17', '47,79',\n",
      "       '48,4', '48,86', '49,63', '49,94', '50,86', '51,01', '52,09', '53,32',\n",
      "       '54,64', '55,95', '57,27', '58,59', '59,9', '61,22', '62,69', '64,56',\n",
      "       '64,8', '66,44', '66,91', '68,31', '69,01', '7,64', '70,18', '71,12',\n",
      "       '72,06', '73,23', '73,93', '75,34', '75,8', '77,44', '77,68', '79,55',\n",
      "       '83,41', '87,56', '91,71', '95,85'],\n",
      "      dtype='object')\n",
      "-1          8\n",
      "0          16\n",
      "100        91\n",
      "11,71      17\n",
      "15,55      68\n",
      "19,16     145\n",
      "22,55     407\n",
      "25,71     891\n",
      "28,64    1688\n",
      "3,34        8\n",
      "31,34    2709\n",
      "33,81    3901\n",
      "36,06    5051\n",
      "38,08    6124\n",
      "39,87    6557\n",
      "41,43    6270\n",
      "42,76    5863\n",
      "43,48    5210\n",
      "44,56    2051\n",
      "44,71    2421\n",
      "45,63    1666\n",
      "45,94    2092\n",
      "46,71    1332\n",
      "47,17    1726\n",
      "47,79    1173\n",
      "48,4     1397\n",
      "48,86    1031\n",
      "49,63    1253\n",
      "49,94     851\n",
      "50,86    1076\n",
      "         ... \n",
      "52,09    1717\n",
      "53,32    1466\n",
      "54,64    1425\n",
      "55,95    1300\n",
      "57,27    1249\n",
      "58,59    1092\n",
      "59,9     1011\n",
      "61,22     976\n",
      "62,69     972\n",
      "64,56     482\n",
      "64,8      407\n",
      "66,44     487\n",
      "66,91     427\n",
      "68,31     439\n",
      "69,01     395\n",
      "7,64        7\n",
      "70,18     449\n",
      "71,12     417\n",
      "72,06     432\n",
      "73,23     407\n",
      "73,93     432\n",
      "75,34     414\n",
      "75,8      456\n",
      "77,44     458\n",
      "77,68     497\n",
      "79,55    1073\n",
      "83,41    1140\n",
      "87,56     993\n",
      "91,71     729\n",
      "95,85     374\n",
      "Name: PUNT_INGLES, dtype: int64\n",
      "Elementos null/NaN 0\n",
      "__________________\n",
      "Elementos diferentes de null/NaN: 86019\n",
      "__________________\n",
      "(86019,)\n",
      "None\n"
     ]
    }
   ],
   "source": [
    "c = 'PUNT_INGLES'\n",
    "print(data_2011[c].value_counts().sort_index().index)\n",
    "print(data_2011[c].value_counts().sort_index())\n",
    "print(missing_data(data_2011[c]))"
   ]
  },
  {
   "cell_type": "code",
   "execution_count": 275,
   "metadata": {
    "collapsed": true
   },
   "outputs": [],
   "source": [
    "clean_target(data_2011, c)\n",
    "for i in data_2011[c].value_counts().sort_index().index:\n",
    "    if i < 0:\n",
    "        data_2011[c] = data_2011[c].replace(i, 0)\n",
    "    elif i > 100:\n",
    "        data_2011[c] = data_2011[c].replace(i, 100)"
   ]
  },
  {
   "cell_type": "code",
   "execution_count": 277,
   "metadata": {
    "collapsed": false
   },
   "outputs": [
    {
     "name": "stdout",
     "output_type": "stream",
     "text": [
      "Index(['A-', 'A1', 'B1', 'A2', 'B+', 99], dtype='object')\n",
      "A-    39722\n",
      "A1    25799\n",
      "B1     8644\n",
      "A2     8519\n",
      "B+     3327\n",
      "99        8\n",
      "Name: DESEMP_INGLES, dtype: int64\n",
      "Elementos null/NaN 0\n",
      "__________________\n",
      "Elementos diferentes de null/NaN: 86019\n",
      "__________________\n",
      "(86019,)\n",
      "None\n"
     ]
    }
   ],
   "source": [
    "c = 'DESEMP_INGLES'\n",
    "print(data_2011[c].value_counts().index)\n",
    "print(data_2011[c].value_counts())\n",
    "print(missing_data(data_2011[c]))"
   ]
  },
  {
   "cell_type": "code",
   "execution_count": 278,
   "metadata": {
    "collapsed": false
   },
   "outputs": [
    {
     "name": "stdout",
     "output_type": "stream",
     "text": [
      "cant null antes: 8\n",
      "cant null despues: 0\n"
     ]
    }
   ],
   "source": [
    "data_2011[c] = data_2011[c].replace(99, np.nan)\n",
    "Do_resamples(data_2011, c, str)"
   ]
  },
  {
   "cell_type": "code",
   "execution_count": 279,
   "metadata": {
    "collapsed": false
   },
   "outputs": [
    {
     "name": "stdout",
     "output_type": "stream",
     "text": [
      "Index(['MEDIO AMBIENTE', 'PROFUNDIZACIÓN EN BIOLOGÍA',\n",
      "       'PROFUNDIZACIÓN EN CIENCIAS SOCIALES', 'PROFUNDIZACIÓN EN LENGUAJE',\n",
      "       'PROFUNDIZACIÓN EN MATEMÁTICA', 'VIOLENCIA Y SOCIEDAD'],\n",
      "      dtype='object')\n",
      "MEDIO AMBIENTE                         24888\n",
      "PROFUNDIZACIÓN EN BIOLOGÍA             13691\n",
      "PROFUNDIZACIÓN EN CIENCIAS SOCIALES     5513\n",
      "PROFUNDIZACIÓN EN LENGUAJE              9905\n",
      "PROFUNDIZACIÓN EN MATEMÁTICA           10957\n",
      "VIOLENCIA Y SOCIEDAD                   21065\n",
      "Name: NOMBRE_COMP_FLEXIBLE, dtype: int64\n",
      "Elementos null/NaN 0\n",
      "__________________\n",
      "Elementos diferentes de null/NaN: 86019\n",
      "__________________\n",
      "(86019,)\n",
      "None\n"
     ]
    }
   ],
   "source": [
    "c = 'NOMBRE_COMP_FLEXIBLE'\n",
    "print(data_2011[c].value_counts().sort_index().index)\n",
    "print(data_2011[c].value_counts().sort_index())\n",
    "print(missing_data(data_2011[c]))"
   ]
  },
  {
   "cell_type": "code",
   "execution_count": 280,
   "metadata": {
    "collapsed": false,
    "scrolled": true
   },
   "outputs": [
    {
     "name": "stdout",
     "output_type": "stream",
     "text": [
      "Index(['0', '10', '15,76', '2,1', '2,3', '23,35', '28,43', '3', '3,1', '3,2',\n",
      "       '3,6', '3,8', '32,5', '36,03', '39,29', '4,1', '4,2', '4,3', '4,5',\n",
      "       '4,6', '4,7', '4,8', '42,42', '45,31', '45,58', '47,58', '48,9',\n",
      "       '49,06', '5', '5,1', '5,3', '5,4', '5,5', '5,6', '5,7', '5,8', '5,9',\n",
      "       '50,23', '51,25', '52,19', '52,58', '53,09', '53,99', '54,91', '55,89',\n",
      "       '56,98', '58,24', '59,82', '6', '6,2', '6,3', '6,5', '6,6', '6,7',\n",
      "       '62,21', '62,79', '7', '7,1', '7,3', '7,4', '7,6', '7,7', '7,9',\n",
      "       '71,35', '8,2', '8,5', '8,6', '8,7', '8,9', '83,28'],\n",
      "      dtype='object')\n",
      "0         834\n",
      "10         11\n",
      "15,76     141\n",
      "2,1       156\n",
      "2,3        86\n",
      "23,35     355\n",
      "28,43     725\n",
      "3         512\n",
      "3,1       238\n",
      "3,2       211\n",
      "3,6       942\n",
      "3,8      2823\n",
      "32,5     1172\n",
      "36,03    1790\n",
      "39,29    2352\n",
      "4,1      1254\n",
      "4,2       674\n",
      "4,3      1106\n",
      "4,5      3817\n",
      "4,6       798\n",
      "4,7      1488\n",
      "4,8      1350\n",
      "42,42    2904\n",
      "45,31     408\n",
      "45,58    3289\n",
      "47,58    1196\n",
      "48,9     3266\n",
      "49,06    2349\n",
      "5        3174\n",
      "5,1      2995\n",
      "         ... \n",
      "52,58    2552\n",
      "53,09    3497\n",
      "53,99    2670\n",
      "54,91    1650\n",
      "55,89     836\n",
      "56,98    1932\n",
      "58,24      81\n",
      "59,82      10\n",
      "6        1997\n",
      "6,2       944\n",
      "6,3      1576\n",
      "6,5       564\n",
      "6,6      1080\n",
      "6,7       252\n",
      "62,21       1\n",
      "62,79     704\n",
      "7         874\n",
      "7,1        44\n",
      "7,3        59\n",
      "7,4       240\n",
      "7,6        53\n",
      "7,7        52\n",
      "7,9        62\n",
      "71,35     149\n",
      "8,2        33\n",
      "8,5        21\n",
      "8,6         2\n",
      "8,7         1\n",
      "8,9        29\n",
      "83,28       7\n",
      "Name: PUNT_COMP_FLEXIBLE, dtype: int64\n",
      "Elementos null/NaN 0\n",
      "__________________\n",
      "Elementos diferentes de null/NaN: 86019\n",
      "__________________\n",
      "(86019,)\n",
      "None\n"
     ]
    }
   ],
   "source": [
    "c = 'PUNT_COMP_FLEXIBLE'\n",
    "print(data_2011[c].value_counts().sort_index().index)\n",
    "print(data_2011[c].value_counts().sort_index())\n",
    "print(missing_data(data_2011[c]))"
   ]
  },
  {
   "cell_type": "code",
   "execution_count": 281,
   "metadata": {
    "collapsed": true
   },
   "outputs": [],
   "source": [
    "clean_target(data_2011, c)\n",
    "for i in data_2011[c].value_counts().sort_index().index:\n",
    "    if i < 0:\n",
    "        data_2011[c] = data_2011[c].replace(i, 0)\n",
    "    elif i > 100:\n",
    "        data_2011[c] = data_2011[c].replace(i, 100)"
   ]
  },
  {
   "cell_type": "code",
   "execution_count": 283,
   "metadata": {
    "collapsed": false
   },
   "outputs": [
    {
     "name": "stdout",
     "output_type": "stream",
     "text": [
      "Index([99, 'I', 'GB', 'II', 'III'], dtype='object')\n",
      "99     45953\n",
      "I      19043\n",
      "GB     15954\n",
      "II      4858\n",
      "III      211\n",
      "Name: DESEMP_COMP_FLEXIBLE, dtype: int64\n",
      "Elementos null/NaN 0\n",
      "__________________\n",
      "Elementos diferentes de null/NaN: 86019\n",
      "__________________\n",
      "(86019,)\n",
      "None\n"
     ]
    }
   ],
   "source": [
    "c = 'DESEMP_COMP_FLEXIBLE'\n",
    "print(data_2011[c].value_counts().index)\n",
    "print(data_2011[c].value_counts())\n",
    "print(missing_data(data_2011[c]))"
   ]
  },
  {
   "cell_type": "code",
   "execution_count": 284,
   "metadata": {
    "collapsed": false
   },
   "outputs": [
    {
     "name": "stdout",
     "output_type": "stream",
     "text": [
      "cant null antes: 45953\n",
      "cant null despues: 0\n"
     ]
    }
   ],
   "source": [
    "data_2011[c] = data_2011[c].replace(99, np.nan)\n",
    "Do_resamples(data_2011, c, str)"
   ]
  },
  {
   "cell_type": "code",
   "execution_count": 285,
   "metadata": {
    "collapsed": false,
    "scrolled": true
   },
   "outputs": [
    {
     "name": "stdout",
     "output_type": "stream",
     "text": [
      "Int64Index([   1,    2,    3,    4,    5,    6,    7,    8,    9,   10,\n",
      "            ...\n",
      "             991,  992,  993,  994,  995,  996,  997,  998,  999, 1000],\n",
      "           dtype='int64', length=1000)\n",
      "1       87\n",
      "2       87\n",
      "3       86\n",
      "4       88\n",
      "5       87\n",
      "6       86\n",
      "7       88\n",
      "8       87\n",
      "9       87\n",
      "10      87\n",
      "11      88\n",
      "12      87\n",
      "13      87\n",
      "14      88\n",
      "15      87\n",
      "16      87\n",
      "17      87\n",
      "18      88\n",
      "19      86\n",
      "20      87\n",
      "21      88\n",
      "22      87\n",
      "23      87\n",
      "24      87\n",
      "25      88\n",
      "26      87\n",
      "27      87\n",
      "28      88\n",
      "29      87\n",
      "30      87\n",
      "        ..\n",
      "971     87\n",
      "972     84\n",
      "973     87\n",
      "974     87\n",
      "975     83\n",
      "976     88\n",
      "977     84\n",
      "978     85\n",
      "979     86\n",
      "980     86\n",
      "981     86\n",
      "982     86\n",
      "983     87\n",
      "984     86\n",
      "985     86\n",
      "986     87\n",
      "987     88\n",
      "988     87\n",
      "989     86\n",
      "990     87\n",
      "991     87\n",
      "992     86\n",
      "993     87\n",
      "994     88\n",
      "995     86\n",
      "996     82\n",
      "997     27\n",
      "998     11\n",
      "999      4\n",
      "1000     6\n",
      "Name: ESTU_PUESTO, dtype: int64\n",
      "Elementos null/NaN 0\n",
      "__________________\n",
      "Elementos diferentes de null/NaN: 86019\n",
      "__________________\n",
      "(86019,)\n",
      "None\n"
     ]
    }
   ],
   "source": [
    "c = 'ESTU_PUESTO'\n",
    "print(data_2011[c].value_counts().sort_index().index)\n",
    "print(data_2011[c].value_counts().sort_index())\n",
    "print(missing_data(data_2011[c]))"
   ]
  },
  {
   "cell_type": "markdown",
   "metadata": {},
   "source": [
    "____"
   ]
  },
  {
   "cell_type": "markdown",
   "metadata": {},
   "source": [
    "____"
   ]
  },
  {
   "cell_type": "markdown",
   "metadata": {},
   "source": [
    "____"
   ]
  },
  {
   "cell_type": "markdown",
   "metadata": {},
   "source": [
    "____"
   ]
  },
  {
   "cell_type": "markdown",
   "metadata": {},
   "source": [
    "____"
   ]
  },
  {
   "cell_type": "markdown",
   "metadata": {},
   "source": [
    "____"
   ]
  },
  {
   "cell_type": "markdown",
   "metadata": {},
   "source": [
    "____"
   ]
  },
  {
   "cell_type": "markdown",
   "metadata": {},
   "source": [
    "____"
   ]
  },
  {
   "cell_type": "markdown",
   "metadata": {},
   "source": [
    "____"
   ]
  },
  {
   "cell_type": "markdown",
   "metadata": {},
   "source": [
    "## FILE 2: 2011_2"
   ]
  },
  {
   "cell_type": "code",
   "execution_count": 3,
   "metadata": {
    "collapsed": false
   },
   "outputs": [
    {
     "name": "stderr",
     "output_type": "stream",
     "text": [
      "/usr/local/lib/python3.4/dist-packages/IPython/core/interactiveshell.py:2902: DtypeWarning: Columns (10,11,12,14,15,24,101,102,103,104,105,106,107,108,111) have mixed types. Specify dtype option on import or set low_memory=False.\n",
      "  interactivity=interactivity, compiler=compiler, result=result)\n"
     ]
    }
   ],
   "source": [
    "data_2011_2 = pd.read_csv('../DatosFTPICFES/SABER11/SB11-BASES_DE_DATOS/SB11-20112-RGSTRO-CLFCCN-V1-0.txt', delimiter='|')"
   ]
  },
  {
   "cell_type": "code",
   "execution_count": 4,
   "metadata": {
    "collapsed": false
   },
   "outputs": [
    {
     "data": {
      "text/plain": [
       "(564171, 114)"
      ]
     },
     "execution_count": 4,
     "metadata": {},
     "output_type": "execute_result"
    }
   ],
   "source": [
    "data_2011_2.shape"
   ]
  },
  {
   "cell_type": "code",
   "execution_count": 5,
   "metadata": {
    "collapsed": false,
    "scrolled": true
   },
   "outputs": [
    {
     "data": {
      "text/html": [
       "<div>\n",
       "<table border=\"1\" class=\"dataframe\">\n",
       "  <thead>\n",
       "    <tr style=\"text-align: right;\">\n",
       "      <th></th>\n",
       "      <th>0</th>\n",
       "      <th>1</th>\n",
       "      <th>2</th>\n",
       "    </tr>\n",
       "  </thead>\n",
       "  <tbody>\n",
       "    <tr>\n",
       "      <th>ESTU_CONSECUTIVO</th>\n",
       "      <td>SABER1120112000001</td>\n",
       "      <td>SABER1120112000002</td>\n",
       "      <td>SABER1120112000003</td>\n",
       "    </tr>\n",
       "    <tr>\n",
       "      <th>PERIODO</th>\n",
       "      <td>20112</td>\n",
       "      <td>20112</td>\n",
       "      <td>20112</td>\n",
       "    </tr>\n",
       "    <tr>\n",
       "      <th>ESTU_TIPO_DOCUMENTO</th>\n",
       "      <td>T</td>\n",
       "      <td>T</td>\n",
       "      <td>T</td>\n",
       "    </tr>\n",
       "    <tr>\n",
       "      <th>ESTU_PAIS_RESIDE</th>\n",
       "      <td>CO</td>\n",
       "      <td>CO</td>\n",
       "      <td>CO</td>\n",
       "    </tr>\n",
       "    <tr>\n",
       "      <th>ESTU_GENERO</th>\n",
       "      <td>F</td>\n",
       "      <td>F</td>\n",
       "      <td>M</td>\n",
       "    </tr>\n",
       "    <tr>\n",
       "      <th>ESTU_NACIMIENTO_DIA</th>\n",
       "      <td>7</td>\n",
       "      <td>18</td>\n",
       "      <td>13</td>\n",
       "    </tr>\n",
       "    <tr>\n",
       "      <th>ESTU_NACIMIENTO_MES</th>\n",
       "      <td>2</td>\n",
       "      <td>3</td>\n",
       "      <td>3</td>\n",
       "    </tr>\n",
       "    <tr>\n",
       "      <th>ESTU_NACIMIENTO_ANNO</th>\n",
       "      <td>1995</td>\n",
       "      <td>2001</td>\n",
       "      <td>1994</td>\n",
       "    </tr>\n",
       "    <tr>\n",
       "      <th>ESTU_EDAD</th>\n",
       "      <td>16</td>\n",
       "      <td>10</td>\n",
       "      <td>17</td>\n",
       "    </tr>\n",
       "    <tr>\n",
       "      <th>ESTU_LIMITA_BAJAVISION</th>\n",
       "      <td>NaN</td>\n",
       "      <td>NaN</td>\n",
       "      <td>NaN</td>\n",
       "    </tr>\n",
       "    <tr>\n",
       "      <th>ESTU_LIMITA_SORDOCEGUERA</th>\n",
       "      <td>NaN</td>\n",
       "      <td>NaN</td>\n",
       "      <td>NaN</td>\n",
       "    </tr>\n",
       "    <tr>\n",
       "      <th>ESTU_LIMITA_COGNITIVA</th>\n",
       "      <td>NaN</td>\n",
       "      <td>NaN</td>\n",
       "      <td>NaN</td>\n",
       "    </tr>\n",
       "    <tr>\n",
       "      <th>ESTU_LIMITA_INVIDENTE</th>\n",
       "      <td>NaN</td>\n",
       "      <td>NaN</td>\n",
       "      <td>NaN</td>\n",
       "    </tr>\n",
       "    <tr>\n",
       "      <th>ESTU_LIMITA_MOTRIZ</th>\n",
       "      <td>NaN</td>\n",
       "      <td>NaN</td>\n",
       "      <td>NaN</td>\n",
       "    </tr>\n",
       "    <tr>\n",
       "      <th>ESTU_LIMITA_SORDOINTERPRETE</th>\n",
       "      <td>NaN</td>\n",
       "      <td>NaN</td>\n",
       "      <td>NaN</td>\n",
       "    </tr>\n",
       "    <tr>\n",
       "      <th>ESTU_LIMITA_SORDONOINTERPRETE</th>\n",
       "      <td>NaN</td>\n",
       "      <td>NaN</td>\n",
       "      <td>NaN</td>\n",
       "    </tr>\n",
       "    <tr>\n",
       "      <th>ESTU_ETNIA</th>\n",
       "      <td>NaN</td>\n",
       "      <td>NaN</td>\n",
       "      <td>NaN</td>\n",
       "    </tr>\n",
       "    <tr>\n",
       "      <th>ESTU_COD_RESIDE_MCPIO</th>\n",
       "      <td>11001</td>\n",
       "      <td>54001</td>\n",
       "      <td>18029</td>\n",
       "    </tr>\n",
       "    <tr>\n",
       "      <th>ESTU_RESIDE_MCPIO</th>\n",
       "      <td>BOGOTÁ D.C.</td>\n",
       "      <td>CUCUTA</td>\n",
       "      <td>ALBANIA</td>\n",
       "    </tr>\n",
       "    <tr>\n",
       "      <th>ESTU_RESIDE_DEPTO</th>\n",
       "      <td>BOGOTÁ</td>\n",
       "      <td>NORTE SANTANDER</td>\n",
       "      <td>CAQUETÁ</td>\n",
       "    </tr>\n",
       "    <tr>\n",
       "      <th>ESTU_ZONA_RESIDE</th>\n",
       "      <td>4</td>\n",
       "      <td>10</td>\n",
       "      <td>10</td>\n",
       "    </tr>\n",
       "    <tr>\n",
       "      <th>ESTU_AREA_RESIDE</th>\n",
       "      <td>1</td>\n",
       "      <td>1</td>\n",
       "      <td>1</td>\n",
       "    </tr>\n",
       "    <tr>\n",
       "      <th>IND_COD_ICFES_TERMINO</th>\n",
       "      <td>109488</td>\n",
       "      <td>92353</td>\n",
       "      <td>45716</td>\n",
       "    </tr>\n",
       "    <tr>\n",
       "      <th>COLE_COD_ICFES</th>\n",
       "      <td>109488</td>\n",
       "      <td>92353</td>\n",
       "      <td>45716</td>\n",
       "    </tr>\n",
       "    <tr>\n",
       "      <th>COLE_COD_DANE_INSTITUCION</th>\n",
       "      <td>1.11001e+11</td>\n",
       "      <td>3.54001e+11</td>\n",
       "      <td>1.83029e+11</td>\n",
       "    </tr>\n",
       "    <tr>\n",
       "      <th>COLE_NOMBRE_SEDE</th>\n",
       "      <td>CENT EDUC DIST ALEJANDRO OBREGON</td>\n",
       "      <td>COL TEC MARIA GORETTI</td>\n",
       "      <td>SAN CARLOS</td>\n",
       "    </tr>\n",
       "    <tr>\n",
       "      <th>COLE_CALENDARIO</th>\n",
       "      <td>A</td>\n",
       "      <td>A</td>\n",
       "      <td>A</td>\n",
       "    </tr>\n",
       "    <tr>\n",
       "      <th>COLE_GENERO</th>\n",
       "      <td>X</td>\n",
       "      <td>X</td>\n",
       "      <td>X</td>\n",
       "    </tr>\n",
       "    <tr>\n",
       "      <th>COLE_NATURALEZA</th>\n",
       "      <td>O</td>\n",
       "      <td>N</td>\n",
       "      <td>O</td>\n",
       "    </tr>\n",
       "    <tr>\n",
       "      <th>COLE_BILINGUE</th>\n",
       "      <td>0</td>\n",
       "      <td>0</td>\n",
       "      <td>1</td>\n",
       "    </tr>\n",
       "    <tr>\n",
       "      <th>...</th>\n",
       "      <td>...</td>\n",
       "      <td>...</td>\n",
       "      <td>...</td>\n",
       "    </tr>\n",
       "    <tr>\n",
       "      <th>FAMI_PERSONAS_HOGAR</th>\n",
       "      <td>7</td>\n",
       "      <td>3</td>\n",
       "      <td>6</td>\n",
       "    </tr>\n",
       "    <tr>\n",
       "      <th>FAMI_CUARTOS_HOGAR</th>\n",
       "      <td>NaN</td>\n",
       "      <td>NaN</td>\n",
       "      <td>NaN</td>\n",
       "    </tr>\n",
       "    <tr>\n",
       "      <th>FAMI_PISOSHOGAR</th>\n",
       "      <td>4</td>\n",
       "      <td>2</td>\n",
       "      <td>2</td>\n",
       "    </tr>\n",
       "    <tr>\n",
       "      <th>FAMI_TELEFONO_FIJO</th>\n",
       "      <td>1</td>\n",
       "      <td>0</td>\n",
       "      <td>0</td>\n",
       "    </tr>\n",
       "    <tr>\n",
       "      <th>FAMI_CELULAR</th>\n",
       "      <td>1</td>\n",
       "      <td>1</td>\n",
       "      <td>1</td>\n",
       "    </tr>\n",
       "    <tr>\n",
       "      <th>FAMI_INTERNET</th>\n",
       "      <td>0</td>\n",
       "      <td>0</td>\n",
       "      <td>0</td>\n",
       "    </tr>\n",
       "    <tr>\n",
       "      <th>FAMI_SERVICIO_TELEVISION</th>\n",
       "      <td>1</td>\n",
       "      <td>0</td>\n",
       "      <td>0</td>\n",
       "    </tr>\n",
       "    <tr>\n",
       "      <th>FAMI_COMPUTADOR</th>\n",
       "      <td>3</td>\n",
       "      <td>0</td>\n",
       "      <td>3</td>\n",
       "    </tr>\n",
       "    <tr>\n",
       "      <th>FAMI_LAVADORA</th>\n",
       "      <td>1</td>\n",
       "      <td>0</td>\n",
       "      <td>1</td>\n",
       "    </tr>\n",
       "    <tr>\n",
       "      <th>FAMI_NEVERA</th>\n",
       "      <td>1</td>\n",
       "      <td>1</td>\n",
       "      <td>1</td>\n",
       "    </tr>\n",
       "    <tr>\n",
       "      <th>FAMI_HORNO</th>\n",
       "      <td>1</td>\n",
       "      <td>0</td>\n",
       "      <td>0</td>\n",
       "    </tr>\n",
       "    <tr>\n",
       "      <th>FAMI_DVD</th>\n",
       "      <td>1</td>\n",
       "      <td>1</td>\n",
       "      <td>0</td>\n",
       "    </tr>\n",
       "    <tr>\n",
       "      <th>FAMI_MICROONDAS</th>\n",
       "      <td>1</td>\n",
       "      <td>0</td>\n",
       "      <td>0</td>\n",
       "    </tr>\n",
       "    <tr>\n",
       "      <th>FAMI_AUTOMOVIL</th>\n",
       "      <td>0</td>\n",
       "      <td>0</td>\n",
       "      <td>0</td>\n",
       "    </tr>\n",
       "    <tr>\n",
       "      <th>FAMI_INGRESO_FMILIAR_MENSUAL</th>\n",
       "      <td>3</td>\n",
       "      <td>1</td>\n",
       "      <td>2</td>\n",
       "    </tr>\n",
       "    <tr>\n",
       "      <th>ESTU_TRABAJA</th>\n",
       "      <td>6</td>\n",
       "      <td>0</td>\n",
       "      <td>0</td>\n",
       "    </tr>\n",
       "    <tr>\n",
       "      <th>ESTU_HORAS_TRABAJA</th>\n",
       "      <td>NaN</td>\n",
       "      <td>NaN</td>\n",
       "      <td>NaN</td>\n",
       "    </tr>\n",
       "    <tr>\n",
       "      <th>PUNT_LENGUAJE</th>\n",
       "      <td>39</td>\n",
       "      <td>33</td>\n",
       "      <td>57</td>\n",
       "    </tr>\n",
       "    <tr>\n",
       "      <th>PUNT_MATEMATICAS</th>\n",
       "      <td>49</td>\n",
       "      <td>31</td>\n",
       "      <td>55</td>\n",
       "    </tr>\n",
       "    <tr>\n",
       "      <th>PUNT_C_SOCIALES</th>\n",
       "      <td>44</td>\n",
       "      <td>25</td>\n",
       "      <td>54</td>\n",
       "    </tr>\n",
       "    <tr>\n",
       "      <th>PUNT_FILOSOFIA</th>\n",
       "      <td>37</td>\n",
       "      <td>33</td>\n",
       "      <td>54</td>\n",
       "    </tr>\n",
       "    <tr>\n",
       "      <th>PUNT_BIOLOGIA</th>\n",
       "      <td>48</td>\n",
       "      <td>41</td>\n",
       "      <td>55</td>\n",
       "    </tr>\n",
       "    <tr>\n",
       "      <th>PUNT_QUIMICA</th>\n",
       "      <td>47</td>\n",
       "      <td>38</td>\n",
       "      <td>41</td>\n",
       "    </tr>\n",
       "    <tr>\n",
       "      <th>PUNT_FISICA</th>\n",
       "      <td>45</td>\n",
       "      <td>45</td>\n",
       "      <td>49</td>\n",
       "    </tr>\n",
       "    <tr>\n",
       "      <th>PUNT_INGLES</th>\n",
       "      <td>41</td>\n",
       "      <td>43</td>\n",
       "      <td>45</td>\n",
       "    </tr>\n",
       "    <tr>\n",
       "      <th>DESEMP_INGLES</th>\n",
       "      <td>A-</td>\n",
       "      <td>A1</td>\n",
       "      <td>A1</td>\n",
       "    </tr>\n",
       "    <tr>\n",
       "      <th>NOMBRE_COMP_FLEXIBLE</th>\n",
       "      <td>PROFUNDIZACIÓN EN LENGUAJE</td>\n",
       "      <td>VIOLENCIA Y SOCIEDAD</td>\n",
       "      <td>VIOLENCIA Y SOCIEDAD</td>\n",
       "    </tr>\n",
       "    <tr>\n",
       "      <th>PUNT_COMP_FLEXIBLE</th>\n",
       "      <td>4</td>\n",
       "      <td>45</td>\n",
       "      <td>45</td>\n",
       "    </tr>\n",
       "    <tr>\n",
       "      <th>DESEMP_COMP_FLEXIBLE</th>\n",
       "      <td>GB</td>\n",
       "      <td>NaN</td>\n",
       "      <td>NaN</td>\n",
       "    </tr>\n",
       "    <tr>\n",
       "      <th>ESTU_PUESTO</th>\n",
       "      <td>427</td>\n",
       "      <td>903</td>\n",
       "      <td>145</td>\n",
       "    </tr>\n",
       "  </tbody>\n",
       "</table>\n",
       "<p>114 rows × 3 columns</p>\n",
       "</div>"
      ],
      "text/plain": [
       "                                                              0  \\\n",
       "ESTU_CONSECUTIVO                             SABER1120112000001   \n",
       "PERIODO                                                   20112   \n",
       "ESTU_TIPO_DOCUMENTO                                           T   \n",
       "ESTU_PAIS_RESIDE                                             CO   \n",
       "ESTU_GENERO                                                   F   \n",
       "ESTU_NACIMIENTO_DIA                                           7   \n",
       "ESTU_NACIMIENTO_MES                                           2   \n",
       "ESTU_NACIMIENTO_ANNO                                       1995   \n",
       "ESTU_EDAD                                                    16   \n",
       "ESTU_LIMITA_BAJAVISION                                      NaN   \n",
       "ESTU_LIMITA_SORDOCEGUERA                                    NaN   \n",
       "ESTU_LIMITA_COGNITIVA                                       NaN   \n",
       "ESTU_LIMITA_INVIDENTE                                       NaN   \n",
       "ESTU_LIMITA_MOTRIZ                                          NaN   \n",
       "ESTU_LIMITA_SORDOINTERPRETE                                 NaN   \n",
       "ESTU_LIMITA_SORDONOINTERPRETE                               NaN   \n",
       "ESTU_ETNIA                                                  NaN   \n",
       "ESTU_COD_RESIDE_MCPIO                                     11001   \n",
       "ESTU_RESIDE_MCPIO                                   BOGOTÁ D.C.   \n",
       "ESTU_RESIDE_DEPTO                                        BOGOTÁ   \n",
       "ESTU_ZONA_RESIDE                                              4   \n",
       "ESTU_AREA_RESIDE                                              1   \n",
       "IND_COD_ICFES_TERMINO                                    109488   \n",
       "COLE_COD_ICFES                                           109488   \n",
       "COLE_COD_DANE_INSTITUCION                           1.11001e+11   \n",
       "COLE_NOMBRE_SEDE               CENT EDUC DIST ALEJANDRO OBREGON   \n",
       "COLE_CALENDARIO                                               A   \n",
       "COLE_GENERO                                                   X   \n",
       "COLE_NATURALEZA                                               O   \n",
       "COLE_BILINGUE                                                 0   \n",
       "...                                                         ...   \n",
       "FAMI_PERSONAS_HOGAR                                           7   \n",
       "FAMI_CUARTOS_HOGAR                                          NaN   \n",
       "FAMI_PISOSHOGAR                                               4   \n",
       "FAMI_TELEFONO_FIJO                                            1   \n",
       "FAMI_CELULAR                                                  1   \n",
       "FAMI_INTERNET                                                 0   \n",
       "FAMI_SERVICIO_TELEVISION                                      1   \n",
       "FAMI_COMPUTADOR                                               3   \n",
       "FAMI_LAVADORA                                                 1   \n",
       "FAMI_NEVERA                                                   1   \n",
       "FAMI_HORNO                                                    1   \n",
       "FAMI_DVD                                                      1   \n",
       "FAMI_MICROONDAS                                               1   \n",
       "FAMI_AUTOMOVIL                                                0   \n",
       "FAMI_INGRESO_FMILIAR_MENSUAL                                  3   \n",
       "ESTU_TRABAJA                                                  6   \n",
       "ESTU_HORAS_TRABAJA                                          NaN   \n",
       "PUNT_LENGUAJE                                                39   \n",
       "PUNT_MATEMATICAS                                             49   \n",
       "PUNT_C_SOCIALES                                              44   \n",
       "PUNT_FILOSOFIA                                               37   \n",
       "PUNT_BIOLOGIA                                                48   \n",
       "PUNT_QUIMICA                                                 47   \n",
       "PUNT_FISICA                                                  45   \n",
       "PUNT_INGLES                                                  41   \n",
       "DESEMP_INGLES                                                A-   \n",
       "NOMBRE_COMP_FLEXIBLE                 PROFUNDIZACIÓN EN LENGUAJE   \n",
       "PUNT_COMP_FLEXIBLE                                            4   \n",
       "DESEMP_COMP_FLEXIBLE                                         GB   \n",
       "ESTU_PUESTO                                                 427   \n",
       "\n",
       "                                                   1                     2  \n",
       "ESTU_CONSECUTIVO                  SABER1120112000002    SABER1120112000003  \n",
       "PERIODO                                        20112                 20112  \n",
       "ESTU_TIPO_DOCUMENTO                                T                     T  \n",
       "ESTU_PAIS_RESIDE                                  CO                    CO  \n",
       "ESTU_GENERO                                        F                     M  \n",
       "ESTU_NACIMIENTO_DIA                               18                    13  \n",
       "ESTU_NACIMIENTO_MES                                3                     3  \n",
       "ESTU_NACIMIENTO_ANNO                            2001                  1994  \n",
       "ESTU_EDAD                                         10                    17  \n",
       "ESTU_LIMITA_BAJAVISION                           NaN                   NaN  \n",
       "ESTU_LIMITA_SORDOCEGUERA                         NaN                   NaN  \n",
       "ESTU_LIMITA_COGNITIVA                            NaN                   NaN  \n",
       "ESTU_LIMITA_INVIDENTE                            NaN                   NaN  \n",
       "ESTU_LIMITA_MOTRIZ                               NaN                   NaN  \n",
       "ESTU_LIMITA_SORDOINTERPRETE                      NaN                   NaN  \n",
       "ESTU_LIMITA_SORDONOINTERPRETE                    NaN                   NaN  \n",
       "ESTU_ETNIA                                       NaN                   NaN  \n",
       "ESTU_COD_RESIDE_MCPIO                          54001                 18029  \n",
       "ESTU_RESIDE_MCPIO                             CUCUTA               ALBANIA  \n",
       "ESTU_RESIDE_DEPTO                    NORTE SANTANDER               CAQUETÁ  \n",
       "ESTU_ZONA_RESIDE                                  10                    10  \n",
       "ESTU_AREA_RESIDE                                   1                     1  \n",
       "IND_COD_ICFES_TERMINO                          92353                 45716  \n",
       "COLE_COD_ICFES                                 92353                 45716  \n",
       "COLE_COD_DANE_INSTITUCION                3.54001e+11           1.83029e+11  \n",
       "COLE_NOMBRE_SEDE               COL TEC MARIA GORETTI            SAN CARLOS  \n",
       "COLE_CALENDARIO                                    A                     A  \n",
       "COLE_GENERO                                        X                     X  \n",
       "COLE_NATURALEZA                                    N                     O  \n",
       "COLE_BILINGUE                                      0                     1  \n",
       "...                                              ...                   ...  \n",
       "FAMI_PERSONAS_HOGAR                                3                     6  \n",
       "FAMI_CUARTOS_HOGAR                               NaN                   NaN  \n",
       "FAMI_PISOSHOGAR                                    2                     2  \n",
       "FAMI_TELEFONO_FIJO                                 0                     0  \n",
       "FAMI_CELULAR                                       1                     1  \n",
       "FAMI_INTERNET                                      0                     0  \n",
       "FAMI_SERVICIO_TELEVISION                           0                     0  \n",
       "FAMI_COMPUTADOR                                    0                     3  \n",
       "FAMI_LAVADORA                                      0                     1  \n",
       "FAMI_NEVERA                                        1                     1  \n",
       "FAMI_HORNO                                         0                     0  \n",
       "FAMI_DVD                                           1                     0  \n",
       "FAMI_MICROONDAS                                    0                     0  \n",
       "FAMI_AUTOMOVIL                                     0                     0  \n",
       "FAMI_INGRESO_FMILIAR_MENSUAL                       1                     2  \n",
       "ESTU_TRABAJA                                       0                     0  \n",
       "ESTU_HORAS_TRABAJA                               NaN                   NaN  \n",
       "PUNT_LENGUAJE                                     33                    57  \n",
       "PUNT_MATEMATICAS                                  31                    55  \n",
       "PUNT_C_SOCIALES                                   25                    54  \n",
       "PUNT_FILOSOFIA                                    33                    54  \n",
       "PUNT_BIOLOGIA                                     41                    55  \n",
       "PUNT_QUIMICA                                      38                    41  \n",
       "PUNT_FISICA                                       45                    49  \n",
       "PUNT_INGLES                                       43                    45  \n",
       "DESEMP_INGLES                                     A1                    A1  \n",
       "NOMBRE_COMP_FLEXIBLE            VIOLENCIA Y SOCIEDAD  VIOLENCIA Y SOCIEDAD  \n",
       "PUNT_COMP_FLEXIBLE                                45                    45  \n",
       "DESEMP_COMP_FLEXIBLE                             NaN                   NaN  \n",
       "ESTU_PUESTO                                      903                   145  \n",
       "\n",
       "[114 rows x 3 columns]"
      ]
     },
     "execution_count": 5,
     "metadata": {},
     "output_type": "execute_result"
    }
   ],
   "source": [
    "data_2011_2.head(3).T"
   ]
  },
  {
   "cell_type": "code",
   "execution_count": 7,
   "metadata": {
    "collapsed": true
   },
   "outputs": [],
   "source": [
    "data_2011_2 = data_2011_2.drop(['ESTU_CONSECUTIVO', 'PERIODO', 'ESTU_TIPO_DOCUMENTO', 'ESTU_COD_RESIDE_MCPIO',\n",
    "                               'ESTU_IES_DESEADA_NOMBRE', 'ESTU_IES_COD_MPIO_DESEADA', 'ESTU_COD_MCPIO_PRESENTACION'], axis=1)"
   ]
  },
  {
   "cell_type": "code",
   "execution_count": null,
   "metadata": {
    "collapsed": true
   },
   "outputs": [],
   "source": [
    "c = 'ESTU_PAIS_RESIDE'\n",
    "data_2011_2[c].value_counts().sort_index().index\n",
    "data_2011_2[c].value_counts().sort_index()\n",
    "missing_data(data_2011_2[c])"
   ]
  },
  {
   "cell_type": "code",
   "execution_count": null,
   "metadata": {
    "collapsed": true
   },
   "outputs": [],
   "source": [
    "c = 'ESTU_GENERO'\n",
    "data_2011_2[c].value_counts().sort_index().index\n",
    "data_2011_2[c].value_counts().sort_index()\n",
    "missing_data(data_2011_2[c])"
   ]
  },
  {
   "cell_type": "code",
   "execution_count": null,
   "metadata": {
    "collapsed": true
   },
   "outputs": [],
   "source": [
    "c = 'ESTU_NACIMIENTO_DIA'\n",
    "data_2011_2[c].value_counts().sort_index().index\n",
    "data_2011_2[c].value_counts().sort_index()\n",
    "missing_data(data_2011_2[c])"
   ]
  },
  {
   "cell_type": "code",
   "execution_count": null,
   "metadata": {
    "collapsed": true
   },
   "outputs": [],
   "source": [
    "c = 'ESTU_NACIMIENTO_MES'\n",
    "data_2011_2[c].value_counts().sort_index().index\n",
    "data_2011_2[c].value_counts().sort_index()\n",
    "missing_data(data_2011_2[c])"
   ]
  },
  {
   "cell_type": "code",
   "execution_count": null,
   "metadata": {
    "collapsed": true
   },
   "outputs": [],
   "source": [
    "c = 'ESTU_NACIMIENTO_ANNO'\n",
    "data_2011_2[c].value_counts().sort_index().index\n",
    "data_2011_2[c].value_counts().sort_index()\n",
    "missing_data(data_2011_2[c])"
   ]
  },
  {
   "cell_type": "code",
   "execution_count": null,
   "metadata": {
    "collapsed": true
   },
   "outputs": [],
   "source": [
    "c = 'ESTU_EDAD'\n",
    "data_2011_2[c].value_counts().sort_index().index\n",
    "data_2011_2[c].value_counts().sort_index()\n",
    "missing_data(data_2011_2[c])"
   ]
  },
  {
   "cell_type": "code",
   "execution_count": null,
   "metadata": {
    "collapsed": true
   },
   "outputs": [],
   "source": [
    "c = 'ESTU_LIMITA_BAJAVISION'\n",
    "data_2011_2[c].value_counts().sort_index().index\n",
    "data_2011_2[c].value_counts().sort_index()\n",
    "missing_data(data_2011_2[c])"
   ]
  },
  {
   "cell_type": "code",
   "execution_count": null,
   "metadata": {
    "collapsed": true
   },
   "outputs": [],
   "source": [
    "c = 'ESTU_LIMITA_SORDOCEGUERA'\n",
    "data_2011_2[c].value_counts().sort_index().index\n",
    "data_2011_2[c].value_counts().sort_index()\n",
    "missing_data(data_2011_2[c])"
   ]
  },
  {
   "cell_type": "code",
   "execution_count": null,
   "metadata": {
    "collapsed": true
   },
   "outputs": [],
   "source": [
    "c = 'ESTU_LIMITA_COGNITIVA'\n",
    "data_2011_2[c].value_counts().sort_index().index\n",
    "data_2011_2[c].value_counts().sort_index()\n",
    "missing_data(data_2011_2[c])"
   ]
  },
  {
   "cell_type": "code",
   "execution_count": null,
   "metadata": {
    "collapsed": true
   },
   "outputs": [],
   "source": [
    "c = 'ESTU_LIMITA_INVIDENTE'\n",
    "data_2011_2[c].value_counts().sort_index().index\n",
    "data_2011_2[c].value_counts().sort_index()\n",
    "missing_data(data_2011_2[c])"
   ]
  },
  {
   "cell_type": "code",
   "execution_count": null,
   "metadata": {
    "collapsed": true
   },
   "outputs": [],
   "source": [
    "c = 'ESTU_LIMITA_MOTRIZ'\n",
    "data_2011_2[c].value_counts().sort_index().index\n",
    "data_2011_2[c].value_counts().sort_index()\n",
    "missing_data(data_2011_2[c])"
   ]
  },
  {
   "cell_type": "code",
   "execution_count": null,
   "metadata": {
    "collapsed": true
   },
   "outputs": [],
   "source": [
    "c = 'ESTU_LIMITA_SORDOINTERPRETE'\n",
    "data_2011_2[c].value_counts().sort_index().index\n",
    "data_2011_2[c].value_counts().sort_index()\n",
    "missing_data(data_2011_2[c])"
   ]
  },
  {
   "cell_type": "code",
   "execution_count": null,
   "metadata": {
    "collapsed": true
   },
   "outputs": [],
   "source": [
    "c = 'ESTU_LIMITA_SORDONOINTERPRETE'\n",
    "data_2011_2[c].value_counts().sort_index().index\n",
    "data_2011_2[c].value_counts().sort_index()\n",
    "missing_data(data_2011_2[c])"
   ]
  },
  {
   "cell_type": "code",
   "execution_count": null,
   "metadata": {
    "collapsed": true
   },
   "outputs": [],
   "source": [
    "c = 'ESTU_ETNIA'\n",
    "data_2011_2[c].value_counts().sort_index().index\n",
    "data_2011_2[c].value_counts().sort_index()\n",
    "missing_data(data_2011_2[c])"
   ]
  },
  {
   "cell_type": "code",
   "execution_count": null,
   "metadata": {
    "collapsed": true
   },
   "outputs": [],
   "source": [
    "c = 'ESTU_RESIDE_MCPIO'\n",
    "data_2011_2[c].value_counts().sort_index().index\n",
    "data_2011_2[c].value_counts().sort_index()\n",
    "missing_data(data_2011_2[c])"
   ]
  },
  {
   "cell_type": "code",
   "execution_count": null,
   "metadata": {
    "collapsed": true
   },
   "outputs": [],
   "source": [
    "c = 'ESTU_RESIDE_DEPTO'\n",
    "data_2011_2[c].value_counts().sort_index().index\n",
    "data_2011_2[c].value_counts().sort_index()\n",
    "missing_data(data_2011_2[c])"
   ]
  },
  {
   "cell_type": "code",
   "execution_count": null,
   "metadata": {
    "collapsed": true
   },
   "outputs": [],
   "source": [
    "c = 'ESTU_ZONA_RESIDE'\n",
    "data_2011_2[c].value_counts().sort_index().index\n",
    "data_2011_2[c].value_counts().sort_index()\n",
    "missing_data(data_2011_2[c])"
   ]
  },
  {
   "cell_type": "code",
   "execution_count": null,
   "metadata": {
    "collapsed": true
   },
   "outputs": [],
   "source": [
    "c = 'ESTU_AREA_RESIDE'\n",
    "data_2011_2[c].value_counts().sort_index().index\n",
    "data_2011_2[c].value_counts().sort_index()\n",
    "missing_data(data_2011_2[c])"
   ]
  },
  {
   "cell_type": "code",
   "execution_count": null,
   "metadata": {
    "collapsed": true
   },
   "outputs": [],
   "source": [
    "c = 'IND_COD_ICFES_TERMINO'\n",
    "data_2011_2[c].value_counts().sort_index().index\n",
    "data_2011_2[c].value_counts().sort_index()\n",
    "missing_data(data_2011_2[c])"
   ]
  },
  {
   "cell_type": "code",
   "execution_count": null,
   "metadata": {
    "collapsed": true
   },
   "outputs": [],
   "source": [
    "c = 'COLE_COD_ICFES'\n",
    "data_2011_2[c].value_counts().sort_index().index\n",
    "data_2011_2[c].value_counts().sort_index()\n",
    "missing_data(data_2011_2[c])"
   ]
  },
  {
   "cell_type": "code",
   "execution_count": null,
   "metadata": {
    "collapsed": true
   },
   "outputs": [],
   "source": [
    "c = 'COLE_COD_DANE_INSTITUCION'\n",
    "data_2011_2[c].value_counts().sort_index().index\n",
    "data_2011_2[c].value_counts().sort_index()\n",
    "missing_data(data_2011_2[c])"
   ]
  },
  {
   "cell_type": "code",
   "execution_count": null,
   "metadata": {
    "collapsed": true
   },
   "outputs": [],
   "source": [
    "c = 'COLE_NOMBRE_SEDE'\n",
    "data_2011_2[c].value_counts().sort_index().index\n",
    "data_2011_2[c].value_counts().sort_index()\n",
    "missing_data(data_2011_2[c])"
   ]
  },
  {
   "cell_type": "code",
   "execution_count": null,
   "metadata": {
    "collapsed": true
   },
   "outputs": [],
   "source": [
    "c = 'COLE_CALENDARIO'\n",
    "data_2011_2[c].value_counts().sort_index().index\n",
    "data_2011_2[c].value_counts().sort_index()\n",
    "missing_data(data_2011_2[c])"
   ]
  },
  {
   "cell_type": "code",
   "execution_count": null,
   "metadata": {
    "collapsed": true
   },
   "outputs": [],
   "source": [
    "c = 'COLE_GENERO'\n",
    "data_2011_2[c].value_counts().sort_index().index\n",
    "data_2011_2[c].value_counts().sort_index()\n",
    "missing_data(data_2011_2[c])"
   ]
  },
  {
   "cell_type": "code",
   "execution_count": null,
   "metadata": {
    "collapsed": true
   },
   "outputs": [],
   "source": [
    "c = 'COLE_NATURALEZA'\n",
    "data_2011_2[c].value_counts().sort_index().index\n",
    "data_2011_2[c].value_counts().sort_index()\n",
    "missing_data(data_2011_2[c])"
   ]
  },
  {
   "cell_type": "code",
   "execution_count": null,
   "metadata": {
    "collapsed": true
   },
   "outputs": [],
   "source": [
    "c = 'COLE_BILINGUE'\n",
    "data_2011_2[c].value_counts().sort_index().index\n",
    "data_2011_2[c].value_counts().sort_index()\n",
    "missing_data(data_2011_2[c])"
   ]
  },
  {
   "cell_type": "code",
   "execution_count": null,
   "metadata": {
    "collapsed": true
   },
   "outputs": [],
   "source": [
    "c = 'COLE_JORNADA'\n",
    "data_2011_2[c].value_counts().sort_index().index\n",
    "data_2011_2[c].value_counts().sort_index()\n",
    "missing_data(data_2011_2[c])"
   ]
  },
  {
   "cell_type": "code",
   "execution_count": null,
   "metadata": {
    "collapsed": true
   },
   "outputs": [],
   "source": [
    "c = 'COLE_CARACTER'\n",
    "data_2011_2[c].value_counts().sort_index().index\n",
    "data_2011_2[c].value_counts().sort_index()\n",
    "missing_data(data_2011_2[c])"
   ]
  },
  {
   "cell_type": "code",
   "execution_count": null,
   "metadata": {
    "collapsed": true
   },
   "outputs": [],
   "source": [
    "c = 'COLE_VALOR_PENSION'\n",
    "data_2011_2[c].value_counts().sort_index().index\n",
    "data_2011_2[c].value_counts().sort_index()\n",
    "missing_data(data_2011_2[c])"
   ]
  },
  {
   "cell_type": "code",
   "execution_count": null,
   "metadata": {
    "collapsed": true
   },
   "outputs": [],
   "source": [
    "c = 'ESTU_CARRDESEADA_TIPO'\n",
    "data_2011_2[c].value_counts().sort_index().index\n",
    "data_2011_2[c].value_counts().sort_index()\n",
    "missing_data(data_2011_2[c])"
   ]
  },
  {
   "cell_type": "code",
   "execution_count": null,
   "metadata": {
    "collapsed": true
   },
   "outputs": [],
   "source": [
    "c = 'ESTU_IES_COD_DESEADA'\n",
    "data_2011_2[c].value_counts().sort_index().index\n",
    "data_2011_2[c].value_counts().sort_index()\n",
    "missing_data(data_2011_2[c])"
   ]
  },
  {
   "cell_type": "code",
   "execution_count": null,
   "metadata": {
    "collapsed": true
   },
   "outputs": [],
   "source": [
    "c = 'ESTU_IES_DEPT_DESEADA'\n",
    "data_2011_2[c].value_counts().sort_index().index\n",
    "data_2011_2[c].value_counts().sort_index()\n",
    "missing_data(data_2011_2[c])"
   ]
  },
  {
   "cell_type": "code",
   "execution_count": null,
   "metadata": {
    "collapsed": true
   },
   "outputs": [],
   "source": [
    "c = 'ESTU_IES_MPIO_DESEADA'\n",
    "data_2011_2[c].value_counts().sort_index().index\n",
    "data_2011_2[c].value_counts().sort_index()\n",
    "missing_data(data_2011_2[c])"
   ]
  },
  {
   "cell_type": "code",
   "execution_count": null,
   "metadata": {
    "collapsed": true
   },
   "outputs": [],
   "source": [
    "c = 'ESTU_TOTAL_ALUMNOS_CURSO'\n",
    "data_2011_2[c].value_counts().sort_index().index\n",
    "data_2011_2[c].value_counts().sort_index()\n",
    "missing_data(data_2011_2[c])"
   ]
  },
  {
   "cell_type": "code",
   "execution_count": null,
   "metadata": {
    "collapsed": true
   },
   "outputs": [],
   "source": [
    "c = 'ESTU_ANO_MATRICULA_PRIMERO'\n",
    "data_2011_2[c].value_counts().sort_index().index\n",
    "data_2011_2[c].value_counts().sort_index()\n",
    "missing_data(data_2011_2[c])"
   ]
  },
  {
   "cell_type": "code",
   "execution_count": null,
   "metadata": {
    "collapsed": true
   },
   "outputs": [],
   "source": [
    "c = 'ESTU_ANO_TERMINO_QUINTO'\n",
    "data_2011_2[c].value_counts().sort_index().index\n",
    "data_2011_2[c].value_counts().sort_index()\n",
    "missing_data(data_2011_2[c])"
   ]
  },
  {
   "cell_type": "code",
   "execution_count": null,
   "metadata": {
    "collapsed": true
   },
   "outputs": [],
   "source": [
    "c = 'ESTU_ANOS_COLEGIO_ACTUAL'\n",
    "data_2011_2[c].value_counts().sort_index().index\n",
    "data_2011_2[c].value_counts().sort_index()\n",
    "missing_data(data_2011_2[c])"
   ]
  },
  {
   "cell_type": "code",
   "execution_count": null,
   "metadata": {
    "collapsed": true
   },
   "outputs": [],
   "source": [
    "c = 'ESTU_ANO_MATRICULA_SEXTO'\n",
    "data_2011_2[c].value_counts().sort_index().index\n",
    "data_2011_2[c].value_counts().sort_index()\n",
    "missing_data(data_2011_2[c])"
   ]
  },
  {
   "cell_type": "code",
   "execution_count": null,
   "metadata": {
    "collapsed": true
   },
   "outputs": [],
   "source": [
    "c = 'ESTU_ANOS_PREESCOLAR'\n",
    "data_2011_2[c].value_counts().sort_index().index\n",
    "data_2011_2[c].value_counts().sort_index()\n",
    "missing_data(data_2011_2[c])"
   ]
  },
  {
   "cell_type": "code",
   "execution_count": null,
   "metadata": {
    "collapsed": true
   },
   "outputs": [],
   "source": [
    "c = 'ESTU_CUANTOS_COLE_ESTUDIO'\n",
    "data_2011_2[c].value_counts().sort_index().index\n",
    "data_2011_2[c].value_counts().sort_index()\n",
    "missing_data(data_2011_2[c])"
   ]
  },
  {
   "cell_type": "code",
   "execution_count": null,
   "metadata": {
    "collapsed": true
   },
   "outputs": [],
   "source": [
    "c = 'ESTU_REPROBO_CUARTO'\n",
    "data_2011_2[c].value_counts().sort_index().index\n",
    "data_2011_2[c].value_counts().sort_index()\n",
    "missing_data(data_2011_2[c])"
   ]
  },
  {
   "cell_type": "code",
   "execution_count": null,
   "metadata": {
    "collapsed": true
   },
   "outputs": [],
   "source": [
    "c = 'ESTU_REPROBO_DECIMO'\n",
    "data_2011_2[c].value_counts().sort_index().index\n",
    "data_2011_2[c].value_counts().sort_index()\n",
    "missing_data(data_2011_2[c])"
   ]
  },
  {
   "cell_type": "code",
   "execution_count": null,
   "metadata": {
    "collapsed": true
   },
   "outputs": [],
   "source": [
    "c = 'ESTU_REPROBO_NOVENO'\n",
    "data_2011_2[c].value_counts().sort_index().index\n",
    "data_2011_2[c].value_counts().sort_index()\n",
    "missing_data(data_2011_2[c])"
   ]
  },
  {
   "cell_type": "code",
   "execution_count": null,
   "metadata": {
    "collapsed": true
   },
   "outputs": [],
   "source": [
    "c = 'ESTU_REPROBO_OCTAVO'\n",
    "data_2011_2[c].value_counts().sort_index().index\n",
    "data_2011_2[c].value_counts().sort_index()\n",
    "missing_data(data_2011_2[c])"
   ]
  },
  {
   "cell_type": "code",
   "execution_count": null,
   "metadata": {
    "collapsed": true
   },
   "outputs": [],
   "source": [
    "c = 'ESTU_REPROBO_PRIMERO'\n",
    "data_2011_2[c].value_counts().sort_index().index\n",
    "data_2011_2[c].value_counts().sort_index()\n",
    "missing_data(data_2011_2[c])"
   ]
  },
  {
   "cell_type": "code",
   "execution_count": null,
   "metadata": {
    "collapsed": true
   },
   "outputs": [],
   "source": [
    "c = 'ESTU_REPROBO_QUINTO'\n",
    "data_2011_2[c].value_counts().sort_index().index\n",
    "data_2011_2[c].value_counts().sort_index()\n",
    "missing_data(data_2011_2[c])"
   ]
  },
  {
   "cell_type": "code",
   "execution_count": null,
   "metadata": {
    "collapsed": true
   },
   "outputs": [],
   "source": [
    "c = 'ESTU_REPROBO_SEGUNDO'\n",
    "data_2011_2[c].value_counts().sort_index().index\n",
    "data_2011_2[c].value_counts().sort_index()\n",
    "missing_data(data_2011_2[c])"
   ]
  },
  {
   "cell_type": "code",
   "execution_count": null,
   "metadata": {
    "collapsed": true
   },
   "outputs": [],
   "source": [
    "c = 'ESTU_REPROBO_SEPTIMO'\n",
    "data_2011_2[c].value_counts().sort_index().index\n",
    "data_2011_2[c].value_counts().sort_index()\n",
    "missing_data(data_2011_2[c])"
   ]
  },
  {
   "cell_type": "code",
   "execution_count": null,
   "metadata": {
    "collapsed": true
   },
   "outputs": [],
   "source": [
    "c = 'ESTU_REPROBO_SEXTO'\n",
    "data_2011_2[c].value_counts().sort_index().index\n",
    "data_2011_2[c].value_counts().sort_index()\n",
    "missing_data(data_2011_2[c])"
   ]
  },
  {
   "cell_type": "code",
   "execution_count": null,
   "metadata": {
    "collapsed": true
   },
   "outputs": [],
   "source": [
    "c = 'ESTU_REPROBO_TERCERO'\n",
    "data_2011_2[c].value_counts().sort_index().index\n",
    "data_2011_2[c].value_counts().sort_index()\n",
    "missing_data(data_2011_2[c])"
   ]
  },
  {
   "cell_type": "code",
   "execution_count": null,
   "metadata": {
    "collapsed": true
   },
   "outputs": [],
   "source": [
    "c = 'ESTU_REPROBO_ONCE_MAS'\n",
    "data_2011_2[c].value_counts().sort_index().index\n",
    "data_2011_2[c].value_counts().sort_index()\n",
    "missing_data(data_2011_2[c])"
   ]
  },
  {
   "cell_type": "code",
   "execution_count": null,
   "metadata": {
    "collapsed": true
   },
   "outputs": [],
   "source": [
    "c = 'ESTU_POR_MEJORARPOSICIONSOCIAL'\n",
    "data_2011_2[c].value_counts().sort_index().index\n",
    "data_2011_2[c].value_counts().sort_index()\n",
    "missing_data(data_2011_2[c])"
   ]
  },
  {
   "cell_type": "code",
   "execution_count": null,
   "metadata": {
    "collapsed": true
   },
   "outputs": [],
   "source": [
    "c = 'ESTU_POR_COLOMBIAAPRENDE'\n",
    "data_2011_2[c].value_counts().sort_index().index\n",
    "data_2011_2[c].value_counts().sort_index()\n",
    "missing_data(data_2011_2[c])"
   ]
  },
  {
   "cell_type": "code",
   "execution_count": null,
   "metadata": {
    "collapsed": true
   },
   "outputs": [],
   "source": [
    "c = 'ESTU_POR_INFLUENCIAALGUIEN'\n",
    "data_2011_2[c].value_counts().sort_index().index\n",
    "data_2011_2[c].value_counts().sort_index()\n",
    "missing_data(data_2011_2[c])"
   ]
  },
  {
   "cell_type": "code",
   "execution_count": null,
   "metadata": {
    "collapsed": true
   },
   "outputs": [],
   "source": [
    "c = 'ESTU_POR_INTERESPERSONAL'\n",
    "data_2011_2[c].value_counts().sort_index().index\n",
    "data_2011_2[c].value_counts().sort_index()\n",
    "missing_data(data_2011_2[c])"
   ]
  },
  {
   "cell_type": "code",
   "execution_count": null,
   "metadata": {
    "collapsed": true
   },
   "outputs": [],
   "source": [
    "c = 'ESTU_POR_BUSCANDOCARRERA'\n",
    "data_2011_2[c].value_counts().sort_index().index\n",
    "data_2011_2[c].value_counts().sort_index()\n",
    "missing_data(data_2011_2[c])"
   ]
  },
  {
   "cell_type": "code",
   "execution_count": null,
   "metadata": {
    "collapsed": true
   },
   "outputs": [],
   "source": [
    "c = 'ESTU_POR_TRADICIONFAMILIAR'\n",
    "data_2011_2[c].value_counts().sort_index().index\n",
    "data_2011_2[c].value_counts().sort_index()\n",
    "missing_data(data_2011_2[c])"
   ]
  },
  {
   "cell_type": "code",
   "execution_count": null,
   "metadata": {
    "collapsed": true
   },
   "outputs": [],
   "source": [
    "c = 'ESTU_POR_ORIENTACIONVOCACIONAL'\n",
    "data_2011_2[c].value_counts().sort_index().index\n",
    "data_2011_2[c].value_counts().sort_index()\n",
    "missing_data(data_2011_2[c])"
   ]
  },
  {
   "cell_type": "code",
   "execution_count": null,
   "metadata": {
    "collapsed": true
   },
   "outputs": [],
   "source": [
    "c = 'ESTU_RAZON_RETIRO'\n",
    "data_2011_2[c].value_counts().sort_index().index\n",
    "data_2011_2[c].value_counts().sort_index()\n",
    "missing_data(data_2011_2[c])"
   ]
  },
  {
   "cell_type": "code",
   "execution_count": null,
   "metadata": {
    "collapsed": true
   },
   "outputs": [],
   "source": [
    "c = 'ESTU_POR_AMIGOSESTUDIANDO'\n",
    "data_2011_2[c].value_counts().sort_index().index\n",
    "data_2011_2[c].value_counts().sort_index()\n",
    "missing_data(data_2011_2[c])"
   ]
  },
  {
   "cell_type": "code",
   "execution_count": null,
   "metadata": {
    "collapsed": true
   },
   "outputs": [],
   "source": [
    "c = 'ESTU_POR_COSTOMATRICULA'\n",
    "data_2011_2[c].value_counts().sort_index().index\n",
    "data_2011_2[c].value_counts().sort_index()\n",
    "missing_data(data_2011_2[c])"
   ]
  },
  {
   "cell_type": "code",
   "execution_count": null,
   "metadata": {
    "collapsed": true
   },
   "outputs": [],
   "source": [
    "c = 'ESTU_POR_OPORTUNIDADES'\n",
    "data_2011_2[c].value_counts().sort_index().index\n",
    "data_2011_2[c].value_counts().sort_index()\n",
    "missing_data(data_2011_2[c])"
   ]
  },
  {
   "cell_type": "code",
   "execution_count": null,
   "metadata": {
    "collapsed": true
   },
   "outputs": [],
   "source": [
    "c = 'ESTU_POR_OTRARAZON'\n",
    "data_2011_2[c].value_counts().sort_index().index\n",
    "data_2011_2[c].value_counts().sort_index()\n",
    "missing_data(data_2011_2[c])"
   ]
  },
  {
   "cell_type": "code",
   "execution_count": null,
   "metadata": {
    "collapsed": true
   },
   "outputs": [],
   "source": [
    "c = 'ESTU_PRESTIGIOINSTITUCION'\n",
    "data_2011_2[c].value_counts().sort_index().index\n",
    "data_2011_2[c].value_counts().sort_index()\n",
    "missing_data(data_2011_2[c])"
   ]
  },
  {
   "cell_type": "code",
   "execution_count": null,
   "metadata": {
    "collapsed": true
   },
   "outputs": [],
   "source": [
    "c = 'ESTU_POR_UBICACION'\n",
    "data_2011_2[c].value_counts().sort_index().index\n",
    "data_2011_2[c].value_counts().sort_index()\n",
    "missing_data(data_2011_2[c])"
   ]
  },
  {
   "cell_type": "code",
   "execution_count": null,
   "metadata": {
    "collapsed": true
   },
   "outputs": [],
   "source": [
    "c = 'ESTU_POR_UNICAQUEOFRECE'\n",
    "data_2011_2[c].value_counts().sort_index().index\n",
    "data_2011_2[c].value_counts().sort_index()\n",
    "missing_data(data_2011_2[c])"
   ]
  },
  {
   "cell_type": "code",
   "execution_count": null,
   "metadata": {
    "collapsed": true
   },
   "outputs": [],
   "source": [
    "c = 'ESTU_RETIRARSE_COLEGIO'\n",
    "data_2011_2[c].value_counts().sort_index().index\n",
    "data_2011_2[c].value_counts().sort_index()\n",
    "missing_data(data_2011_2[c])"
   ]
  },
  {
   "cell_type": "code",
   "execution_count": null,
   "metadata": {
    "collapsed": true
   },
   "outputs": [],
   "source": [
    "c = 'ESTU_VECES_ESTADO'\n",
    "data_2011_2[c].value_counts().sort_index().index\n",
    "data_2011_2[c].value_counts().sort_index()\n",
    "missing_data(data_2011_2[c])"
   ]
  },
  {
   "cell_type": "code",
   "execution_count": null,
   "metadata": {
    "collapsed": true
   },
   "outputs": [],
   "source": [
    "c = 'ESTU_MCPIO_PRESENTACION'\n",
    "data_2011_2[c].value_counts().sort_index().index\n",
    "data_2011_2[c].value_counts().sort_index()\n",
    "missing_data(data_2011_2[c])"
   ]
  },
  {
   "cell_type": "code",
   "execution_count": null,
   "metadata": {
    "collapsed": true
   },
   "outputs": [],
   "source": [
    "c = 'ESTU_DEPTO_PRESENTACION'\n",
    "data_2011_2[c].value_counts().sort_index().index\n",
    "data_2011_2[c].value_counts().sort_index()\n",
    "missing_data(data_2011_2[c])"
   ]
  },
  {
   "cell_type": "code",
   "execution_count": null,
   "metadata": {
    "collapsed": true
   },
   "outputs": [],
   "source": [
    "c = 'ESTU_EXAM_NOMBREEXAMEN'\n",
    "data_2011_2[c].value_counts().sort_index().index\n",
    "data_2011_2[c].value_counts().sort_index()\n",
    "missing_data(data_2011_2[c])"
   ]
  },
  {
   "cell_type": "code",
   "execution_count": null,
   "metadata": {
    "collapsed": true
   },
   "outputs": [],
   "source": [
    "c = 'FAMI_EDUCA_PADRE'\n",
    "data_2011_2[c].value_counts().sort_index().index\n",
    "data_2011_2[c].value_counts().sort_index()\n",
    "missing_data(data_2011_2[c])"
   ]
  },
  {
   "cell_type": "code",
   "execution_count": null,
   "metadata": {
    "collapsed": true
   },
   "outputs": [],
   "source": [
    "c = 'FAMI_EDUCA_MADRE'\n",
    "data_2011_2[c].value_counts().sort_index().index\n",
    "data_2011_2[c].value_counts().sort_index()\n",
    "missing_data(data_2011_2[c])"
   ]
  },
  {
   "cell_type": "code",
   "execution_count": null,
   "metadata": {
    "collapsed": true
   },
   "outputs": [],
   "source": [
    "c = 'FAMI_OCUPA_PADRE'\n",
    "data_2011_2[c].value_counts().sort_index().index\n",
    "data_2011_2[c].value_counts().sort_index()\n",
    "missing_data(data_2011_2[c])"
   ]
  },
  {
   "cell_type": "code",
   "execution_count": null,
   "metadata": {
    "collapsed": true
   },
   "outputs": [],
   "source": [
    "c = 'FAMI_OCUPA_MADRE'\n",
    "data_2011_2[c].value_counts().sort_index().index\n",
    "data_2011_2[c].value_counts().sort_index()\n",
    "missing_data(data_2011_2[c])"
   ]
  },
  {
   "cell_type": "code",
   "execution_count": null,
   "metadata": {
    "collapsed": true
   },
   "outputs": [],
   "source": [
    "c = 'FAMI_ESTRATO_VIVIENDA'\n",
    "data_2011_2[c].value_counts().sort_index().index\n",
    "data_2011_2[c].value_counts().sort_index()\n",
    "missing_data(data_2011_2[c])"
   ]
  },
  {
   "cell_type": "code",
   "execution_count": null,
   "metadata": {
    "collapsed": true
   },
   "outputs": [],
   "source": [
    "c = 'FAMI_NIVEL_SISBEN'\n",
    "data_2011_2[c].value_counts().sort_index().index\n",
    "data_2011_2[c].value_counts().sort_index()\n",
    "missing_data(data_2011_2[c])"
   ]
  },
  {
   "cell_type": "code",
   "execution_count": null,
   "metadata": {
    "collapsed": true
   },
   "outputs": [],
   "source": [
    "c = 'FAMI_PERSONAS_HOGAR'\n",
    "data_2011_2[c].value_counts().sort_index().index\n",
    "data_2011_2[c].value_counts().sort_index()\n",
    "missing_data(data_2011_2[c])"
   ]
  },
  {
   "cell_type": "code",
   "execution_count": null,
   "metadata": {
    "collapsed": true
   },
   "outputs": [],
   "source": [
    "c = 'FAMI_CUARTOS_HOGAR'\n",
    "data_2011_2[c].value_counts().sort_index().index\n",
    "data_2011_2[c].value_counts().sort_index()\n",
    "missing_data(data_2011_2[c])"
   ]
  },
  {
   "cell_type": "code",
   "execution_count": null,
   "metadata": {
    "collapsed": true
   },
   "outputs": [],
   "source": [
    "c = 'FAMI_PISOSHOGAR'\n",
    "data_2011_2[c].value_counts().sort_index().index\n",
    "data_2011_2[c].value_counts().sort_index()\n",
    "missing_data(data_2011_2[c])"
   ]
  },
  {
   "cell_type": "code",
   "execution_count": null,
   "metadata": {
    "collapsed": true
   },
   "outputs": [],
   "source": [
    "c = 'FAMI_TELEFONO_FIJO'\n",
    "data_2011_2[c].value_counts().sort_index().index\n",
    "data_2011_2[c].value_counts().sort_index()\n",
    "missing_data(data_2011_2[c])"
   ]
  },
  {
   "cell_type": "code",
   "execution_count": null,
   "metadata": {
    "collapsed": true
   },
   "outputs": [],
   "source": [
    "c = 'FAMI_CELULAR'\n",
    "data_2011_2[c].value_counts().sort_index().index\n",
    "data_2011_2[c].value_counts().sort_index()\n",
    "missing_data(data_2011_2[c])"
   ]
  },
  {
   "cell_type": "code",
   "execution_count": null,
   "metadata": {
    "collapsed": true
   },
   "outputs": [],
   "source": [
    "c = 'FAMI_INTERNET'\n",
    "data_2011_2[c].value_counts().sort_index().index\n",
    "data_2011_2[c].value_counts().sort_index()\n",
    "missing_data(data_2011_2[c])"
   ]
  },
  {
   "cell_type": "code",
   "execution_count": null,
   "metadata": {
    "collapsed": true
   },
   "outputs": [],
   "source": [
    "c = 'FAMI_SERVICIO_TELEVISION'\n",
    "data_2011_2[c].value_counts().sort_index().index\n",
    "data_2011_2[c].value_counts().sort_index()\n",
    "missing_data(data_2011_2[c])"
   ]
  },
  {
   "cell_type": "code",
   "execution_count": null,
   "metadata": {
    "collapsed": true
   },
   "outputs": [],
   "source": [
    "c = 'FAMI_COMPUTADOR'\n",
    "data_2011_2[c].value_counts().sort_index().index\n",
    "data_2011_2[c].value_counts().sort_index()\n",
    "missing_data(data_2011_2[c])"
   ]
  },
  {
   "cell_type": "code",
   "execution_count": null,
   "metadata": {
    "collapsed": true
   },
   "outputs": [],
   "source": [
    "c = 'FAMI_LAVADORA'\n",
    "data_2011_2[c].value_counts().sort_index().index\n",
    "data_2011_2[c].value_counts().sort_index()\n",
    "missing_data(data_2011_2[c])"
   ]
  },
  {
   "cell_type": "code",
   "execution_count": null,
   "metadata": {
    "collapsed": true
   },
   "outputs": [],
   "source": [
    "c = 'FAMI_NEVERA'\n",
    "data_2011_2[c].value_counts().sort_index().index\n",
    "data_2011_2[c].value_counts().sort_index()\n",
    "missing_data(data_2011_2[c])"
   ]
  },
  {
   "cell_type": "code",
   "execution_count": null,
   "metadata": {
    "collapsed": true
   },
   "outputs": [],
   "source": [
    "c = 'FAMI_HORNO'\n",
    "data_2011_2[c].value_counts().sort_index().index\n",
    "data_2011_2[c].value_counts().sort_index()\n",
    "missing_data(data_2011_2[c])"
   ]
  },
  {
   "cell_type": "code",
   "execution_count": null,
   "metadata": {
    "collapsed": true
   },
   "outputs": [],
   "source": [
    "c = 'FAMI_DVD'\n",
    "data_2011_2[c].value_counts().sort_index().index\n",
    "data_2011_2[c].value_counts().sort_index()\n",
    "missing_data(data_2011_2[c])"
   ]
  },
  {
   "cell_type": "code",
   "execution_count": null,
   "metadata": {
    "collapsed": true
   },
   "outputs": [],
   "source": [
    "c = 'FAMI_MICROONDAS'\n",
    "data_2011_2[c].value_counts().sort_index().index\n",
    "data_2011_2[c].value_counts().sort_index()\n",
    "missing_data(data_2011_2[c])"
   ]
  },
  {
   "cell_type": "code",
   "execution_count": null,
   "metadata": {
    "collapsed": true
   },
   "outputs": [],
   "source": [
    "c = 'FAMI_AUTOMOVIL'\n",
    "data_2011_2[c].value_counts().sort_index().index\n",
    "data_2011_2[c].value_counts().sort_index()\n",
    "missing_data(data_2011_2[c])"
   ]
  },
  {
   "cell_type": "code",
   "execution_count": null,
   "metadata": {
    "collapsed": true
   },
   "outputs": [],
   "source": [
    "c = 'FAMI_INGRESO_FMILIAR_MENSUAL'\n",
    "data_2011_2[c].value_counts().sort_index().index\n",
    "data_2011_2[c].value_counts().sort_index()\n",
    "missing_data(data_2011_2[c])"
   ]
  },
  {
   "cell_type": "code",
   "execution_count": null,
   "metadata": {
    "collapsed": true
   },
   "outputs": [],
   "source": [
    "c = 'ESTU_TRABAJA'\n",
    "data_2011_2[c].value_counts().sort_index().index\n",
    "data_2011_2[c].value_counts().sort_index()\n",
    "missing_data(data_2011_2[c])"
   ]
  },
  {
   "cell_type": "code",
   "execution_count": null,
   "metadata": {
    "collapsed": true
   },
   "outputs": [],
   "source": [
    "c = 'ESTU_HORAS_TRABAJA'\n",
    "data_2011_2[c].value_counts().sort_index().index\n",
    "data_2011_2[c].value_counts().sort_index()\n",
    "missing_data(data_2011_2[c])"
   ]
  },
  {
   "cell_type": "markdown",
   "metadata": {},
   "source": [
    "## TARGETS"
   ]
  },
  {
   "cell_type": "code",
   "execution_count": null,
   "metadata": {
    "collapsed": true
   },
   "outputs": [],
   "source": [
    "c = 'PUNT_LENGUAJE'\n",
    "data_2011_2[c].value_counts().sort_index().index\n",
    "data_2011_2[c].value_counts().sort_index()\n",
    "missing_data(data_2011_2[c])"
   ]
  },
  {
   "cell_type": "code",
   "execution_count": null,
   "metadata": {
    "collapsed": true
   },
   "outputs": [],
   "source": [
    "c = 'PUNT_MATEMATICAS'\n",
    "data_2011_2[c].value_counts().sort_index().index\n",
    "data_2011_2[c].value_counts().sort_index()\n",
    "missing_data(data_2011_2[c])"
   ]
  },
  {
   "cell_type": "code",
   "execution_count": null,
   "metadata": {
    "collapsed": true
   },
   "outputs": [],
   "source": [
    "c = 'PUNT_C_SOCIALES'\n",
    "data_2011_2[c].value_counts().sort_index().index\n",
    "data_2011_2[c].value_counts().sort_index()\n",
    "missing_data(data_2011_2[c])"
   ]
  },
  {
   "cell_type": "code",
   "execution_count": null,
   "metadata": {
    "collapsed": true
   },
   "outputs": [],
   "source": [
    "c = 'PUNT_FILOSOFIA'\n",
    "data_2011_2[c].value_counts().sort_index().index\n",
    "data_2011_2[c].value_counts().sort_index()\n",
    "missing_data(data_2011_2[c])"
   ]
  },
  {
   "cell_type": "code",
   "execution_count": null,
   "metadata": {
    "collapsed": true
   },
   "outputs": [],
   "source": [
    "c = 'PUNT_BIOLOGIA'\n",
    "data_2011_2[c].value_counts().sort_index().index\n",
    "data_2011_2[c].value_counts().sort_index()\n",
    "missing_data(data_2011_2[c])"
   ]
  },
  {
   "cell_type": "code",
   "execution_count": null,
   "metadata": {
    "collapsed": true
   },
   "outputs": [],
   "source": [
    "c = 'PUNT_QUIMICA'\n",
    "data_2011_2[c].value_counts().sort_index().index\n",
    "data_2011_2[c].value_counts().sort_index()\n",
    "missing_data(data_2011_2[c])"
   ]
  },
  {
   "cell_type": "code",
   "execution_count": null,
   "metadata": {
    "collapsed": true
   },
   "outputs": [],
   "source": [
    "c = 'PUNT_FISICA'\n",
    "data_2011_2[c].value_counts().sort_index().index\n",
    "data_2011_2[c].value_counts().sort_index()\n",
    "missing_data(data_2011_2[c])"
   ]
  },
  {
   "cell_type": "code",
   "execution_count": null,
   "metadata": {
    "collapsed": true
   },
   "outputs": [],
   "source": [
    "c = 'PUNT_INGLES'\n",
    "data_2011_2[c].value_counts().sort_index().index\n",
    "data_2011_2[c].value_counts().sort_index()\n",
    "missing_data(data_2011_2[c])"
   ]
  },
  {
   "cell_type": "code",
   "execution_count": null,
   "metadata": {
    "collapsed": true
   },
   "outputs": [],
   "source": [
    "c = 'DESEMP_INGLES'\n",
    "data_2011_2[c].value_counts().sort_index().index\n",
    "data_2011_2[c].value_counts().sort_index()\n",
    "missing_data(data_2011_2[c])"
   ]
  },
  {
   "cell_type": "code",
   "execution_count": null,
   "metadata": {
    "collapsed": true
   },
   "outputs": [],
   "source": [
    "c = 'NOMBRE_COMP_FLEXIBLE'\n",
    "data_2011_2[c].value_counts().sort_index().index\n",
    "data_2011_2[c].value_counts().sort_index()\n",
    "missing_data(data_2011_2[c])"
   ]
  },
  {
   "cell_type": "code",
   "execution_count": null,
   "metadata": {
    "collapsed": true
   },
   "outputs": [],
   "source": [
    "c = 'PUNT_COMP_FLEXIBLE'\n",
    "data_2011_2[c].value_counts().sort_index().index\n",
    "data_2011_2[c].value_counts().sort_index()\n",
    "missing_data(data_2011_2[c])"
   ]
  },
  {
   "cell_type": "code",
   "execution_count": null,
   "metadata": {
    "collapsed": true
   },
   "outputs": [],
   "source": [
    "c = 'DESEMP_COMP_FLEXIBLE'\n",
    "data_2011_2[c].value_counts().sort_index().index\n",
    "data_2011_2[c].value_counts().sort_index()\n",
    "missing_data(data_2011_2[c])"
   ]
  },
  {
   "cell_type": "code",
   "execution_count": null,
   "metadata": {
    "collapsed": false
   },
   "outputs": [],
   "source": [
    "c = 'ESTU_PUESTO'\n",
    "data_2011_2[c].value_counts().sort_index().index\n",
    "data_2011_2[c].value_counts().sort_index()\n",
    "missing_data(data_2011_2[c])"
   ]
  },
  {
   "cell_type": "markdown",
   "metadata": {},
   "source": [
    "Now i can transform the obtained Dataframes in csv files"
   ]
  },
  {
   "cell_type": "code",
   "execution_count": 286,
   "metadata": {
    "collapsed": true
   },
   "outputs": [],
   "source": [
    "data_2011 = label_encoder(data_2011)"
   ]
  },
  {
   "cell_type": "code",
   "execution_count": 287,
   "metadata": {
    "collapsed": true
   },
   "outputs": [],
   "source": [
    "data_2011.to_csv('../DatosFTPICFES/SABER11/SB11-BASES_DE_DATOS/READY/2011_1.csv', sep=';', index=False)"
   ]
  }
 ],
 "metadata": {
  "kernelspec": {
   "display_name": "Python 3",
   "language": "python",
   "name": "python3"
  },
  "language_info": {
   "codemirror_mode": {
    "name": "ipython",
    "version": 3
   },
   "file_extension": ".py",
   "mimetype": "text/x-python",
   "name": "python",
   "nbconvert_exporter": "python",
   "pygments_lexer": "ipython3",
   "version": "3.4.2"
  }
 },
 "nbformat": 4,
 "nbformat_minor": 0
}
