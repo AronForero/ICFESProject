{
 "cells": [
  {
   "cell_type": "code",
   "execution_count": 1,
   "metadata": {
    "collapsed": true
   },
   "outputs": [],
   "source": [
    "import pandas as pd\n",
    "import numpy as np\n",
    "%run -i ../tools/functions.py\n",
    "%run -i ../tools/label_encoder.py"
   ]
  },
  {
   "cell_type": "code",
   "execution_count": 2,
   "metadata": {
    "collapsed": false
   },
   "outputs": [
    {
     "name": "stderr",
     "output_type": "stream",
     "text": [
      "/usr/local/anaconda3/lib/python3.5/site-packages/IPython/core/interactiveshell.py:2723: DtypeWarning: Columns (3,5,8,9,13,14,16,17,19,20,21,23) have mixed types. Specify dtype option on import or set low_memory=False.\n",
      "  interactivity=interactivity, compiler=compiler, result=result)\n"
     ]
    }
   ],
   "source": [
    "data_2003 = pd.read_csv('../DatosFTPICFES/SABER11/SB11-BASES_DE_DATOS/SB11-20031-RGSTRO-CLFCCN-V1-0.txt', delimiter=\"|\",\n",
    "                       encoding = \"iso-8859-1\")"
   ]
  },
  {
   "cell_type": "code",
   "execution_count": 3,
   "metadata": {
    "collapsed": false
   },
   "outputs": [
    {
     "data": {
      "text/plain": [
       "(69735, 57)"
      ]
     },
     "execution_count": 3,
     "metadata": {},
     "output_type": "execute_result"
    }
   ],
   "source": [
    "data_2003.shape"
   ]
  },
  {
   "cell_type": "code",
   "execution_count": 4,
   "metadata": {
    "collapsed": false,
    "scrolled": true
   },
   "outputs": [
    {
     "data": {
      "text/html": [
       "<div>\n",
       "<table border=\"1\" class=\"dataframe\">\n",
       "  <thead>\n",
       "    <tr style=\"text-align: right;\">\n",
       "      <th></th>\n",
       "      <th>0</th>\n",
       "      <th>1</th>\n",
       "      <th>2</th>\n",
       "    </tr>\n",
       "  </thead>\n",
       "  <tbody>\n",
       "    <tr>\n",
       "      <th>ESTU_CONSECUTIVO</th>\n",
       "      <td>SB1200310065481</td>\n",
       "      <td>SB1200310065480</td>\n",
       "      <td>SB1200310065479</td>\n",
       "    </tr>\n",
       "    <tr>\n",
       "      <th>COLE_COD_ICFES</th>\n",
       "      <td>18788</td>\n",
       "      <td>18788</td>\n",
       "      <td>18788</td>\n",
       "    </tr>\n",
       "    <tr>\n",
       "      <th>COLE_NOMBRE_SEDE</th>\n",
       "      <td>INSTITUCION EDUCATIVA BELISARIO PEÑA PIÑEIRO</td>\n",
       "      <td>INSTITUCION EDUCATIVA BELISARIO PEÑA PIÑEIRO</td>\n",
       "      <td>INSTITUCION EDUCATIVA BELISARIO PEÑA PIÑEIRO</td>\n",
       "    </tr>\n",
       "    <tr>\n",
       "      <th>IND_ANNO_TERMINO_BACHILLERATO</th>\n",
       "      <td>2003</td>\n",
       "      <td>2003</td>\n",
       "      <td>2003</td>\n",
       "    </tr>\n",
       "    <tr>\n",
       "      <th>COLE_JORNADA</th>\n",
       "      <td>C</td>\n",
       "      <td>C</td>\n",
       "      <td>C</td>\n",
       "    </tr>\n",
       "    <tr>\n",
       "      <th>COLE_VALOR_PENSION</th>\n",
       "      <td>8</td>\n",
       "      <td>8</td>\n",
       "      <td>NaN</td>\n",
       "    </tr>\n",
       "    <tr>\n",
       "      <th>ESTU_GENERO</th>\n",
       "      <td>M</td>\n",
       "      <td>F</td>\n",
       "      <td>M</td>\n",
       "    </tr>\n",
       "    <tr>\n",
       "      <th>ESTU_NACIMIENTO_DIA</th>\n",
       "      <td>18</td>\n",
       "      <td>4</td>\n",
       "      <td>18</td>\n",
       "    </tr>\n",
       "    <tr>\n",
       "      <th>ESTU_NACIMIENTO_MES</th>\n",
       "      <td>7</td>\n",
       "      <td>3</td>\n",
       "      <td>4</td>\n",
       "    </tr>\n",
       "    <tr>\n",
       "      <th>ESTU_NACIMIENTO_ANNO</th>\n",
       "      <td>1984</td>\n",
       "      <td>1981</td>\n",
       "      <td>1987</td>\n",
       "    </tr>\n",
       "    <tr>\n",
       "      <th>ESTU_DEPTO_PRESENTACION</th>\n",
       "      <td>VALLE</td>\n",
       "      <td>VALLE</td>\n",
       "      <td>VALLE</td>\n",
       "    </tr>\n",
       "    <tr>\n",
       "      <th>ESTU_MCPIO_PRESENTACION</th>\n",
       "      <td>ROLDANILLO</td>\n",
       "      <td>ROLDANILLO</td>\n",
       "      <td>ROLDANILLO</td>\n",
       "    </tr>\n",
       "    <tr>\n",
       "      <th>ESTU_LIMITA_INVIDENTE</th>\n",
       "      <td>NaN</td>\n",
       "      <td>NaN</td>\n",
       "      <td>NaN</td>\n",
       "    </tr>\n",
       "    <tr>\n",
       "      <th>ESTU_LIMITA_SORDOINTERPRETE</th>\n",
       "      <td>NaN</td>\n",
       "      <td>NaN</td>\n",
       "      <td>NaN</td>\n",
       "    </tr>\n",
       "    <tr>\n",
       "      <th>ESTU_LIMITA_SORDONOINTERPRETE</th>\n",
       "      <td>NaN</td>\n",
       "      <td>NaN</td>\n",
       "      <td>NaN</td>\n",
       "    </tr>\n",
       "    <tr>\n",
       "      <th>ESTU_LIMITA_MOTRIZ</th>\n",
       "      <td>NaN</td>\n",
       "      <td>NaN</td>\n",
       "      <td>NaN</td>\n",
       "    </tr>\n",
       "    <tr>\n",
       "      <th>PUNT_BIOLOGIA</th>\n",
       "      <td>46</td>\n",
       "      <td>36</td>\n",
       "      <td>34</td>\n",
       "    </tr>\n",
       "    <tr>\n",
       "      <th>PUNT_MATEMATICAS</th>\n",
       "      <td>32</td>\n",
       "      <td>46</td>\n",
       "      <td>46</td>\n",
       "    </tr>\n",
       "    <tr>\n",
       "      <th>PUNT_FILOSOFIA</th>\n",
       "      <td>48</td>\n",
       "      <td>45</td>\n",
       "      <td>42</td>\n",
       "    </tr>\n",
       "    <tr>\n",
       "      <th>PUNT_FISICA</th>\n",
       "      <td>54</td>\n",
       "      <td>45</td>\n",
       "      <td>39</td>\n",
       "    </tr>\n",
       "    <tr>\n",
       "      <th>PUNT_HISTORIA</th>\n",
       "      <td>35</td>\n",
       "      <td>37</td>\n",
       "      <td>49</td>\n",
       "    </tr>\n",
       "    <tr>\n",
       "      <th>PUNT_QUIMICA</th>\n",
       "      <td>47</td>\n",
       "      <td>43</td>\n",
       "      <td>40</td>\n",
       "    </tr>\n",
       "    <tr>\n",
       "      <th>PUNT_LENGUAJE</th>\n",
       "      <td>46</td>\n",
       "      <td>39</td>\n",
       "      <td>45</td>\n",
       "    </tr>\n",
       "    <tr>\n",
       "      <th>PUNT_GEOGRAFIA</th>\n",
       "      <td>45</td>\n",
       "      <td>37</td>\n",
       "      <td>37</td>\n",
       "    </tr>\n",
       "    <tr>\n",
       "      <th>COD_INTERDISCIPLINAR</th>\n",
       "      <td>43</td>\n",
       "      <td>43</td>\n",
       "      <td>43</td>\n",
       "    </tr>\n",
       "    <tr>\n",
       "      <th>PUNT_INTERDISCIPLINAR</th>\n",
       "      <td>60</td>\n",
       "      <td>59</td>\n",
       "      <td>61</td>\n",
       "    </tr>\n",
       "    <tr>\n",
       "      <th>COD_IDIOMA</th>\n",
       "      <td>51</td>\n",
       "      <td>51</td>\n",
       "      <td>51</td>\n",
       "    </tr>\n",
       "    <tr>\n",
       "      <th>PUNT_IDIOMA</th>\n",
       "      <td>38</td>\n",
       "      <td>41</td>\n",
       "      <td>36</td>\n",
       "    </tr>\n",
       "    <tr>\n",
       "      <th>ESTU_IES_COD_DESEADA</th>\n",
       "      <td>1203</td>\n",
       "      <td>4101</td>\n",
       "      <td>1203</td>\n",
       "    </tr>\n",
       "    <tr>\n",
       "      <th>ESTU_RAZONINSTITUTO</th>\n",
       "      <td>3</td>\n",
       "      <td>3</td>\n",
       "      <td>4</td>\n",
       "    </tr>\n",
       "    <tr>\n",
       "      <th>ESTU_CARRDESEADA_COD</th>\n",
       "      <td>48114</td>\n",
       "      <td>11113</td>\n",
       "      <td>48118</td>\n",
       "    </tr>\n",
       "    <tr>\n",
       "      <th>ESTU_CARRDESEADA_RAZON</th>\n",
       "      <td>1</td>\n",
       "      <td>4</td>\n",
       "      <td>2</td>\n",
       "    </tr>\n",
       "    <tr>\n",
       "      <th>FAMI_PERSONAS_HOGAR</th>\n",
       "      <td>4</td>\n",
       "      <td>6</td>\n",
       "      <td>8</td>\n",
       "    </tr>\n",
       "    <tr>\n",
       "      <th>FAMI_VIVIENDA_PROPIA</th>\n",
       "      <td>S</td>\n",
       "      <td>S</td>\n",
       "      <td>S</td>\n",
       "    </tr>\n",
       "    <tr>\n",
       "      <th>FAMI_DEUDA_VIVIENDA</th>\n",
       "      <td>NaN</td>\n",
       "      <td>N</td>\n",
       "      <td>NaN</td>\n",
       "    </tr>\n",
       "    <tr>\n",
       "      <th>FAMI_APORTANTES</th>\n",
       "      <td>2</td>\n",
       "      <td>3</td>\n",
       "      <td>1</td>\n",
       "    </tr>\n",
       "    <tr>\n",
       "      <th>FAMI_INGRESO_FMILIAR_MENSUAL</th>\n",
       "      <td>0</td>\n",
       "      <td>0</td>\n",
       "      <td>3</td>\n",
       "    </tr>\n",
       "    <tr>\n",
       "      <th>FAMI_LEE_ESCRIBE_PADRE</th>\n",
       "      <td>N</td>\n",
       "      <td>S</td>\n",
       "      <td>S</td>\n",
       "    </tr>\n",
       "    <tr>\n",
       "      <th>FAMI_LEE_ESCRIBE_MADRE</th>\n",
       "      <td>N</td>\n",
       "      <td>S</td>\n",
       "      <td>S</td>\n",
       "    </tr>\n",
       "    <tr>\n",
       "      <th>FAMI_EDUCA_PADRE</th>\n",
       "      <td>NaN</td>\n",
       "      <td>3</td>\n",
       "      <td>6</td>\n",
       "    </tr>\n",
       "    <tr>\n",
       "      <th>FAMI_EDUCA_MADRE</th>\n",
       "      <td>NaN</td>\n",
       "      <td>3</td>\n",
       "      <td>4</td>\n",
       "    </tr>\n",
       "    <tr>\n",
       "      <th>FAMI_OCUPA_PADRE</th>\n",
       "      <td>08</td>\n",
       "      <td>08</td>\n",
       "      <td>03</td>\n",
       "    </tr>\n",
       "    <tr>\n",
       "      <th>FAMI_OCUPA_MADRE</th>\n",
       "      <td>10</td>\n",
       "      <td>10</td>\n",
       "      <td>10</td>\n",
       "    </tr>\n",
       "    <tr>\n",
       "      <th>FAMI_NUM_HERMANOS</th>\n",
       "      <td>3</td>\n",
       "      <td>NaN</td>\n",
       "      <td>4</td>\n",
       "    </tr>\n",
       "    <tr>\n",
       "      <th>FAMI_NUM_HERMANOS_EDUSUPERIOR</th>\n",
       "      <td>0</td>\n",
       "      <td>0</td>\n",
       "      <td>4</td>\n",
       "    </tr>\n",
       "    <tr>\n",
       "      <th>FAMI_POSICION_HERMANOS</th>\n",
       "      <td>3</td>\n",
       "      <td>9</td>\n",
       "      <td>5</td>\n",
       "    </tr>\n",
       "    <tr>\n",
       "      <th>FAMI_SOST_PERSONAL</th>\n",
       "      <td>T</td>\n",
       "      <td>T</td>\n",
       "      <td>T</td>\n",
       "    </tr>\n",
       "    <tr>\n",
       "      <th>ESTU_TRABAJA</th>\n",
       "      <td>N</td>\n",
       "      <td>N</td>\n",
       "      <td>N</td>\n",
       "    </tr>\n",
       "    <tr>\n",
       "      <th>ESTU_ACT_PROX_ANNO</th>\n",
       "      <td>3</td>\n",
       "      <td>3</td>\n",
       "      <td>1</td>\n",
       "    </tr>\n",
       "    <tr>\n",
       "      <th>COLE_CALENDARIO</th>\n",
       "      <td>B</td>\n",
       "      <td>B</td>\n",
       "      <td>B</td>\n",
       "    </tr>\n",
       "    <tr>\n",
       "      <th>COLE_BILINGUE</th>\n",
       "      <td>NaN</td>\n",
       "      <td>NaN</td>\n",
       "      <td>NaN</td>\n",
       "    </tr>\n",
       "    <tr>\n",
       "      <th>COLE_CARACTER</th>\n",
       "      <td>ACADEMICO</td>\n",
       "      <td>ACADEMICO</td>\n",
       "      <td>ACADEMICO</td>\n",
       "    </tr>\n",
       "    <tr>\n",
       "      <th>COLE_DEPTO_UBICACION</th>\n",
       "      <td>VALLE</td>\n",
       "      <td>VALLE</td>\n",
       "      <td>VALLE</td>\n",
       "    </tr>\n",
       "    <tr>\n",
       "      <th>COLE_MCPIO_UBICACION</th>\n",
       "      <td>ROLDANILLO</td>\n",
       "      <td>ROLDANILLO</td>\n",
       "      <td>ROLDANILLO</td>\n",
       "    </tr>\n",
       "    <tr>\n",
       "      <th>ESTU_RESIDE_DEPTO</th>\n",
       "      <td>VALLE</td>\n",
       "      <td>VALLE</td>\n",
       "      <td>VALLE</td>\n",
       "    </tr>\n",
       "    <tr>\n",
       "      <th>ESTU_RESIDE_MCPIO</th>\n",
       "      <td>ROLDANILLO</td>\n",
       "      <td>ROLDANILLO</td>\n",
       "      <td>ROLDANILLO</td>\n",
       "    </tr>\n",
       "    <tr>\n",
       "      <th>ESTU_TIPO_DOCUMENTO</th>\n",
       "      <td>R</td>\n",
       "      <td>C</td>\n",
       "      <td>T</td>\n",
       "    </tr>\n",
       "  </tbody>\n",
       "</table>\n",
       "</div>"
      ],
      "text/plain": [
       "                                                                          0  \\\n",
       "ESTU_CONSECUTIVO                                            SB1200310065481   \n",
       "COLE_COD_ICFES                                                        18788   \n",
       "COLE_NOMBRE_SEDE               INSTITUCION EDUCATIVA BELISARIO PEÑA PIÑEIRO   \n",
       "IND_ANNO_TERMINO_BACHILLERATO                                          2003   \n",
       "COLE_JORNADA                                                              C   \n",
       "COLE_VALOR_PENSION                                                        8   \n",
       "ESTU_GENERO                                                               M   \n",
       "ESTU_NACIMIENTO_DIA                                                      18   \n",
       "ESTU_NACIMIENTO_MES                                                       7   \n",
       "ESTU_NACIMIENTO_ANNO                                                   1984   \n",
       "ESTU_DEPTO_PRESENTACION                                               VALLE   \n",
       "ESTU_MCPIO_PRESENTACION                                          ROLDANILLO   \n",
       "ESTU_LIMITA_INVIDENTE                                                   NaN   \n",
       "ESTU_LIMITA_SORDOINTERPRETE                                             NaN   \n",
       "ESTU_LIMITA_SORDONOINTERPRETE                                           NaN   \n",
       "ESTU_LIMITA_MOTRIZ                                                      NaN   \n",
       "PUNT_BIOLOGIA                                                            46   \n",
       "PUNT_MATEMATICAS                                                         32   \n",
       "PUNT_FILOSOFIA                                                           48   \n",
       "PUNT_FISICA                                                              54   \n",
       "PUNT_HISTORIA                                                            35   \n",
       "PUNT_QUIMICA                                                             47   \n",
       "PUNT_LENGUAJE                                                            46   \n",
       "PUNT_GEOGRAFIA                                                           45   \n",
       "COD_INTERDISCIPLINAR                                                     43   \n",
       "PUNT_INTERDISCIPLINAR                                                    60   \n",
       "COD_IDIOMA                                                               51   \n",
       "PUNT_IDIOMA                                                              38   \n",
       "ESTU_IES_COD_DESEADA                                                   1203   \n",
       "ESTU_RAZONINSTITUTO                                                       3   \n",
       "ESTU_CARRDESEADA_COD                                                  48114   \n",
       "ESTU_CARRDESEADA_RAZON                                                    1   \n",
       "FAMI_PERSONAS_HOGAR                                                       4   \n",
       "FAMI_VIVIENDA_PROPIA                                                      S   \n",
       "FAMI_DEUDA_VIVIENDA                                                     NaN   \n",
       "FAMI_APORTANTES                                                           2   \n",
       "FAMI_INGRESO_FMILIAR_MENSUAL                                              0   \n",
       "FAMI_LEE_ESCRIBE_PADRE                                                    N   \n",
       "FAMI_LEE_ESCRIBE_MADRE                                                    N   \n",
       "FAMI_EDUCA_PADRE                                                        NaN   \n",
       "FAMI_EDUCA_MADRE                                                        NaN   \n",
       "FAMI_OCUPA_PADRE                                                         08   \n",
       "FAMI_OCUPA_MADRE                                                         10   \n",
       "FAMI_NUM_HERMANOS                                                         3   \n",
       "FAMI_NUM_HERMANOS_EDUSUPERIOR                                             0   \n",
       "FAMI_POSICION_HERMANOS                                                    3   \n",
       "FAMI_SOST_PERSONAL                                                        T   \n",
       "ESTU_TRABAJA                                                              N   \n",
       "ESTU_ACT_PROX_ANNO                                                        3   \n",
       "COLE_CALENDARIO                                                           B   \n",
       "COLE_BILINGUE                                                           NaN   \n",
       "COLE_CARACTER                                                     ACADEMICO   \n",
       "COLE_DEPTO_UBICACION                                                  VALLE   \n",
       "COLE_MCPIO_UBICACION                                             ROLDANILLO   \n",
       "ESTU_RESIDE_DEPTO                                                     VALLE   \n",
       "ESTU_RESIDE_MCPIO                                                ROLDANILLO   \n",
       "ESTU_TIPO_DOCUMENTO                                                       R   \n",
       "\n",
       "                                                                          1  \\\n",
       "ESTU_CONSECUTIVO                                            SB1200310065480   \n",
       "COLE_COD_ICFES                                                        18788   \n",
       "COLE_NOMBRE_SEDE               INSTITUCION EDUCATIVA BELISARIO PEÑA PIÑEIRO   \n",
       "IND_ANNO_TERMINO_BACHILLERATO                                          2003   \n",
       "COLE_JORNADA                                                              C   \n",
       "COLE_VALOR_PENSION                                                        8   \n",
       "ESTU_GENERO                                                               F   \n",
       "ESTU_NACIMIENTO_DIA                                                       4   \n",
       "ESTU_NACIMIENTO_MES                                                       3   \n",
       "ESTU_NACIMIENTO_ANNO                                                   1981   \n",
       "ESTU_DEPTO_PRESENTACION                                               VALLE   \n",
       "ESTU_MCPIO_PRESENTACION                                          ROLDANILLO   \n",
       "ESTU_LIMITA_INVIDENTE                                                   NaN   \n",
       "ESTU_LIMITA_SORDOINTERPRETE                                             NaN   \n",
       "ESTU_LIMITA_SORDONOINTERPRETE                                           NaN   \n",
       "ESTU_LIMITA_MOTRIZ                                                      NaN   \n",
       "PUNT_BIOLOGIA                                                            36   \n",
       "PUNT_MATEMATICAS                                                         46   \n",
       "PUNT_FILOSOFIA                                                           45   \n",
       "PUNT_FISICA                                                              45   \n",
       "PUNT_HISTORIA                                                            37   \n",
       "PUNT_QUIMICA                                                             43   \n",
       "PUNT_LENGUAJE                                                            39   \n",
       "PUNT_GEOGRAFIA                                                           37   \n",
       "COD_INTERDISCIPLINAR                                                     43   \n",
       "PUNT_INTERDISCIPLINAR                                                    59   \n",
       "COD_IDIOMA                                                               51   \n",
       "PUNT_IDIOMA                                                              41   \n",
       "ESTU_IES_COD_DESEADA                                                   4101   \n",
       "ESTU_RAZONINSTITUTO                                                       3   \n",
       "ESTU_CARRDESEADA_COD                                                  11113   \n",
       "ESTU_CARRDESEADA_RAZON                                                    4   \n",
       "FAMI_PERSONAS_HOGAR                                                       6   \n",
       "FAMI_VIVIENDA_PROPIA                                                      S   \n",
       "FAMI_DEUDA_VIVIENDA                                                       N   \n",
       "FAMI_APORTANTES                                                           3   \n",
       "FAMI_INGRESO_FMILIAR_MENSUAL                                              0   \n",
       "FAMI_LEE_ESCRIBE_PADRE                                                    S   \n",
       "FAMI_LEE_ESCRIBE_MADRE                                                    S   \n",
       "FAMI_EDUCA_PADRE                                                          3   \n",
       "FAMI_EDUCA_MADRE                                                          3   \n",
       "FAMI_OCUPA_PADRE                                                         08   \n",
       "FAMI_OCUPA_MADRE                                                         10   \n",
       "FAMI_NUM_HERMANOS                                                       NaN   \n",
       "FAMI_NUM_HERMANOS_EDUSUPERIOR                                             0   \n",
       "FAMI_POSICION_HERMANOS                                                    9   \n",
       "FAMI_SOST_PERSONAL                                                        T   \n",
       "ESTU_TRABAJA                                                              N   \n",
       "ESTU_ACT_PROX_ANNO                                                        3   \n",
       "COLE_CALENDARIO                                                           B   \n",
       "COLE_BILINGUE                                                           NaN   \n",
       "COLE_CARACTER                                                     ACADEMICO   \n",
       "COLE_DEPTO_UBICACION                                                  VALLE   \n",
       "COLE_MCPIO_UBICACION                                             ROLDANILLO   \n",
       "ESTU_RESIDE_DEPTO                                                     VALLE   \n",
       "ESTU_RESIDE_MCPIO                                                ROLDANILLO   \n",
       "ESTU_TIPO_DOCUMENTO                                                       C   \n",
       "\n",
       "                                                                          2  \n",
       "ESTU_CONSECUTIVO                                            SB1200310065479  \n",
       "COLE_COD_ICFES                                                        18788  \n",
       "COLE_NOMBRE_SEDE               INSTITUCION EDUCATIVA BELISARIO PEÑA PIÑEIRO  \n",
       "IND_ANNO_TERMINO_BACHILLERATO                                          2003  \n",
       "COLE_JORNADA                                                              C  \n",
       "COLE_VALOR_PENSION                                                      NaN  \n",
       "ESTU_GENERO                                                               M  \n",
       "ESTU_NACIMIENTO_DIA                                                      18  \n",
       "ESTU_NACIMIENTO_MES                                                       4  \n",
       "ESTU_NACIMIENTO_ANNO                                                   1987  \n",
       "ESTU_DEPTO_PRESENTACION                                               VALLE  \n",
       "ESTU_MCPIO_PRESENTACION                                          ROLDANILLO  \n",
       "ESTU_LIMITA_INVIDENTE                                                   NaN  \n",
       "ESTU_LIMITA_SORDOINTERPRETE                                             NaN  \n",
       "ESTU_LIMITA_SORDONOINTERPRETE                                           NaN  \n",
       "ESTU_LIMITA_MOTRIZ                                                      NaN  \n",
       "PUNT_BIOLOGIA                                                            34  \n",
       "PUNT_MATEMATICAS                                                         46  \n",
       "PUNT_FILOSOFIA                                                           42  \n",
       "PUNT_FISICA                                                              39  \n",
       "PUNT_HISTORIA                                                            49  \n",
       "PUNT_QUIMICA                                                             40  \n",
       "PUNT_LENGUAJE                                                            45  \n",
       "PUNT_GEOGRAFIA                                                           37  \n",
       "COD_INTERDISCIPLINAR                                                     43  \n",
       "PUNT_INTERDISCIPLINAR                                                    61  \n",
       "COD_IDIOMA                                                               51  \n",
       "PUNT_IDIOMA                                                              36  \n",
       "ESTU_IES_COD_DESEADA                                                   1203  \n",
       "ESTU_RAZONINSTITUTO                                                       4  \n",
       "ESTU_CARRDESEADA_COD                                                  48118  \n",
       "ESTU_CARRDESEADA_RAZON                                                    2  \n",
       "FAMI_PERSONAS_HOGAR                                                       8  \n",
       "FAMI_VIVIENDA_PROPIA                                                      S  \n",
       "FAMI_DEUDA_VIVIENDA                                                     NaN  \n",
       "FAMI_APORTANTES                                                           1  \n",
       "FAMI_INGRESO_FMILIAR_MENSUAL                                              3  \n",
       "FAMI_LEE_ESCRIBE_PADRE                                                    S  \n",
       "FAMI_LEE_ESCRIBE_MADRE                                                    S  \n",
       "FAMI_EDUCA_PADRE                                                          6  \n",
       "FAMI_EDUCA_MADRE                                                          4  \n",
       "FAMI_OCUPA_PADRE                                                         03  \n",
       "FAMI_OCUPA_MADRE                                                         10  \n",
       "FAMI_NUM_HERMANOS                                                         4  \n",
       "FAMI_NUM_HERMANOS_EDUSUPERIOR                                             4  \n",
       "FAMI_POSICION_HERMANOS                                                    5  \n",
       "FAMI_SOST_PERSONAL                                                        T  \n",
       "ESTU_TRABAJA                                                              N  \n",
       "ESTU_ACT_PROX_ANNO                                                        1  \n",
       "COLE_CALENDARIO                                                           B  \n",
       "COLE_BILINGUE                                                           NaN  \n",
       "COLE_CARACTER                                                     ACADEMICO  \n",
       "COLE_DEPTO_UBICACION                                                  VALLE  \n",
       "COLE_MCPIO_UBICACION                                             ROLDANILLO  \n",
       "ESTU_RESIDE_DEPTO                                                     VALLE  \n",
       "ESTU_RESIDE_MCPIO                                                ROLDANILLO  \n",
       "ESTU_TIPO_DOCUMENTO                                                       T  "
      ]
     },
     "execution_count": 4,
     "metadata": {},
     "output_type": "execute_result"
    }
   ],
   "source": [
    "data_2003.head(3).T"
   ]
  },
  {
   "cell_type": "markdown",
   "metadata": {},
   "source": [
    "The first step is delete the columns that won't contribute to the work"
   ]
  },
  {
   "cell_type": "code",
   "execution_count": 5,
   "metadata": {
    "collapsed": false
   },
   "outputs": [],
   "source": [
    "data_2003 = data_2003.drop(['ESTU_TIPO_DOCUMENTO', 'ESTU_CONSECUTIVO', 'COLE_NOMBRE_SEDE'], axis=1)"
   ]
  },
  {
   "cell_type": "code",
   "execution_count": 6,
   "metadata": {
    "collapsed": false,
    "scrolled": true
   },
   "outputs": [
    {
     "name": "stdout",
     "output_type": "stream",
     "text": [
      "Int64Index([   182,    265,    638,   1362,   1503,   2998,   3145,   3327,\n",
      "              3418,   3459,\n",
      "            ...\n",
      "            106583, 106591, 106609, 106617, 106625, 106633, 106641, 106666,\n",
      "            106682, 106690],\n",
      "           dtype='int64', length=1863)\n",
      "182        70\n",
      "265       173\n",
      "638        10\n",
      "1362       47\n",
      "1503       56\n",
      "2998       37\n",
      "3145       35\n",
      "3327        9\n",
      "3418       46\n",
      "3459       66\n",
      "3483       96\n",
      "4234       39\n",
      "5629       14\n",
      "5843       13\n",
      "6890       13\n",
      "6973        5\n",
      "6999       20\n",
      "7013       72\n",
      "7054       60\n",
      "7070      153\n",
      "7088       44\n",
      "7500        7\n",
      "7732        5\n",
      "8581       69\n",
      "9589       49\n",
      "9696       17\n",
      "9985       34\n",
      "10082       8\n",
      "10199      17\n",
      "10298      34\n",
      "         ... \n",
      "106385     34\n",
      "106393     20\n",
      "106401     36\n",
      "106419      4\n",
      "106427      8\n",
      "106435     11\n",
      "106443     13\n",
      "106450      7\n",
      "106468     17\n",
      "106476      9\n",
      "106484     15\n",
      "106492      6\n",
      "106500     14\n",
      "106518     10\n",
      "106526     14\n",
      "106534     19\n",
      "106542     13\n",
      "106559      4\n",
      "106567      5\n",
      "106575     62\n",
      "106583     15\n",
      "106591      2\n",
      "106609     21\n",
      "106617     45\n",
      "106625     55\n",
      "106633      2\n",
      "106641     69\n",
      "106666     51\n",
      "106682     23\n",
      "106690     15\n",
      "Name: COLE_COD_ICFES, dtype: int64\n",
      "Elementos null/NaN 0\n",
      "__________________\n",
      "Elementos diferentes de null/NaN: 69735\n",
      "__________________\n",
      "(69735,)\n",
      "None\n"
     ]
    }
   ],
   "source": [
    "print(data_2003['COLE_COD_ICFES'].value_counts().sort_index().index)\n",
    "print(data_2003['COLE_COD_ICFES'].value_counts().sort_index())\n",
    "print(missing_data(data_2003['COLE_COD_ICFES']))"
   ]
  },
  {
   "cell_type": "code",
   "execution_count": 7,
   "metadata": {
    "collapsed": false,
    "scrolled": true
   },
   "outputs": [
    {
     "name": "stdout",
     "output_type": "stream",
     "text": [
      "Index(['2003', '2002', 2003.0, 2002.0, '2000', '2001', 2000.0, 2001.0, '2 0@',\n",
      "       '20 2', '2004', '2 02', 2004.0, '2902',  '20@', '2 @0', '20 3', '2903',\n",
      "       '2 03',  '200', '2  2', '2012',    '2', '1995',   '@@',   '20',    '0',\n",
      "       '2005',  '203',    '3', 1992.0, 2903.0, 2005.0, 2006.0,   '02', '2006',\n",
      "       '1999',  '202', '2023',  '19@',  '0 2', '2013', '2009', '2008', '1002',\n",
      "          2.0],\n",
      "      dtype='object')\n",
      "2003      34422\n",
      "2002      18687\n",
      "2003.0    14859\n",
      "2002.0     1472\n",
      "2000         77\n",
      "2001         54\n",
      "2000.0       25\n",
      "2001.0        9\n",
      "2 0@          8\n",
      "20 2          7\n",
      "2004          6\n",
      "2 02          6\n",
      "2004.0        5\n",
      "2902          5\n",
      "20@           5\n",
      "2 @0          4\n",
      "20 3          4\n",
      "2903          4\n",
      "2 03          4\n",
      "200           3\n",
      "2  2          2\n",
      "2012          2\n",
      "2             2\n",
      "1995          2\n",
      "@@            2\n",
      "20            2\n",
      "0             2\n",
      "2005          2\n",
      "203           2\n",
      "3             1\n",
      "1992.0        1\n",
      "2903.0        1\n",
      "2005.0        1\n",
      "2006.0        1\n",
      "02            1\n",
      "2006          1\n",
      "1999          1\n",
      "202           1\n",
      "2023          1\n",
      "19@           1\n",
      "0 2           1\n",
      "2013          1\n",
      "2009          1\n",
      "2008          1\n",
      "1002          1\n",
      "2.0           1\n",
      "Name: IND_ANNO_TERMINO_BACHILLERATO, dtype: int64\n",
      "Elementos null/NaN 34\n",
      "__________________\n",
      "Elementos diferentes de null/NaN: 69701\n",
      "__________________\n",
      "(69701,)\n",
      "None\n"
     ]
    }
   ],
   "source": [
    "print(data_2003['IND_ANNO_TERMINO_BACHILLERATO'].value_counts().index)\n",
    "print(data_2003['IND_ANNO_TERMINO_BACHILLERATO'].value_counts())\n",
    "print(missing_data(data_2003['IND_ANNO_TERMINO_BACHILLERATO']))"
   ]
  },
  {
   "cell_type": "code",
   "execution_count": 99,
   "metadata": {
    "collapsed": true
   },
   "outputs": [],
   "source": [
    "for i in data_2003['IND_ANNO_TERMINO_BACHILLERATO'].value_counts().index:\n",
    "    if type(i) == float:\n",
    "        data_2003['IND_ANNO_TERMINO_BACHILLERATO'] = data_2003['IND_ANNO_TERMINO_BACHILLERATO'].replace(i, str(i)[:-2])\n",
    "\n",
    "for i in data_2003['IND_ANNO_TERMINO_BACHILLERATO'].value_counts().index:\n",
    "    if '@' in i:\n",
    "        data_2003['IND_ANNO_TERMINO_BACHILLERATO'] = data_2003['IND_ANNO_TERMINO_BACHILLERATO'].replace(i, np.nan)\n",
    "    elif ' ' in i:\n",
    "        data_2003['IND_ANNO_TERMINO_BACHILLERATO'] = data_2003['IND_ANNO_TERMINO_BACHILLERATO'].replace(i, np.nan)\n",
    "    elif float(i) == 0:\n",
    "        data_2003['IND_ANNO_TERMINO_BACHILLERATO'] = data_2003['IND_ANNO_TERMINO_BACHILLERATO'].replace(i, np.nan)\n",
    "    elif float(i) > 2006:\n",
    "        data_2003['IND_ANNO_TERMINO_BACHILLERATO'] = data_2003['IND_ANNO_TERMINO_BACHILLERATO'].replace(i, np.nan)\n",
    "    elif float(i) < 1950:\n",
    "        data_2003['IND_ANNO_TERMINO_BACHILLERATO'] = data_2003['IND_ANNO_TERMINO_BACHILLERATO'].replace(i, np.nan)\n",
    "    if len(i)<4:\n",
    "        data_2003['IND_ANNO_TERMINO_BACHILLERATO'] = data_2003['IND_ANNO_TERMINO_BACHILLERATO'].replace(i, np.nan)"
   ]
  },
  {
   "cell_type": "code",
   "execution_count": 101,
   "metadata": {
    "collapsed": false,
    "scrolled": true
   },
   "outputs": [
    {
     "name": "stdout",
     "output_type": "stream",
     "text": [
      "cant null antes: 110\n",
      "cant null despues: 0\n"
     ]
    }
   ],
   "source": [
    "Do_resamples(data_2003, 'IND_ANNO_TERMINO_BACHILLERATO', str)"
   ]
  },
  {
   "cell_type": "code",
   "execution_count": 102,
   "metadata": {
    "collapsed": false
   },
   "outputs": [
    {
     "name": "stdout",
     "output_type": "stream",
     "text": [
      "Index(['C', 'M', 'N', 'S', 'T'], dtype='object')\n",
      "C    16257\n",
      "M    27863\n",
      "N    16745\n",
      "S     1116\n",
      "T     7754\n",
      "Name: COLE_JORNADA, dtype: int64\n",
      "Elementos null/NaN 0\n",
      "__________________\n",
      "Elementos diferentes de null/NaN: 69735\n",
      "__________________\n",
      "(69735,)\n",
      "None\n"
     ]
    }
   ],
   "source": [
    "print(data_2003['COLE_JORNADA'].value_counts().sort_index().index)\n",
    "print(data_2003['COLE_JORNADA'].value_counts().sort_index())\n",
    "print(missing_data(data_2003['COLE_JORNADA']))"
   ]
  },
  {
   "cell_type": "code",
   "execution_count": 10,
   "metadata": {
    "collapsed": false,
    "scrolled": true
   },
   "outputs": [
    {
     "name": "stdout",
     "output_type": "stream",
     "text": [
      "Index(['8', '1', '2', '3', 8.0, '5', '4', 1.0, 7.0, '0', 2.0, '6', 3.0, 4.0,\n",
      "       5.0, '7', 6.0, 0.0, '9', 9.0, '@', '+'],\n",
      "      dtype='object')\n",
      "8      14165\n",
      "1      12090\n",
      "2       7061\n",
      "3       5209\n",
      "8.0     3573\n",
      "5       3344\n",
      "4       3180\n",
      "1.0     3075\n",
      "7.0     2741\n",
      "0       2102\n",
      "2.0     1814\n",
      "6       1631\n",
      "3.0     1144\n",
      "4.0      989\n",
      "5.0      940\n",
      "7        827\n",
      "6.0      779\n",
      "0.0      499\n",
      "9         61\n",
      "9.0       14\n",
      "@         13\n",
      "+          3\n",
      "Name: COLE_VALOR_PENSION, dtype: int64\n",
      "Elementos null/NaN 4481\n",
      "__________________\n",
      "Elementos diferentes de null/NaN: 65254\n",
      "__________________\n",
      "(65254,)\n",
      "None\n"
     ]
    }
   ],
   "source": [
    "print(data_2003['COLE_VALOR_PENSION'].value_counts().index)\n",
    "print(data_2003['COLE_VALOR_PENSION'].value_counts())\n",
    "print(missing_data(data_2003['COLE_VALOR_PENSION']))"
   ]
  },
  {
   "cell_type": "code",
   "execution_count": 11,
   "metadata": {
    "collapsed": true
   },
   "outputs": [],
   "source": [
    "for i in data_2003['COLE_VALOR_PENSION'].value_counts().index:\n",
    "    if type(i) == float:\n",
    "        data_2003['COLE_VALOR_PENSION'] = data_2003['COLE_VALOR_PENSION'].replace(i, str(i)[:-2])\n",
    "\n",
    "data_2003['COLE_VALOR_PENSION'] = data_2003['COLE_VALOR_PENSION'].replace('+', '+9')\n",
    "data_2003['COLE_VALOR_PENSION'] = data_2003['COLE_VALOR_PENSION'].replace('@', np.nan)"
   ]
  },
  {
   "cell_type": "code",
   "execution_count": 104,
   "metadata": {
    "collapsed": false,
    "scrolled": true
   },
   "outputs": [
    {
     "name": "stdout",
     "output_type": "stream",
     "text": [
      "cant null antes: 4494\n",
      "cant null despues: 0\n"
     ]
    }
   ],
   "source": [
    "Do_resamples(data_2003, 'COLE_VALOR_PENSION', str)"
   ]
  },
  {
   "cell_type": "code",
   "execution_count": 12,
   "metadata": {
    "collapsed": false
   },
   "outputs": [
    {
     "name": "stdout",
     "output_type": "stream",
     "text": [
      "Index(['F', 'M'], dtype='object')\n",
      "F    37912\n",
      "M    31823\n",
      "Name: ESTU_GENERO, dtype: int64\n",
      "Elementos null/NaN 0\n",
      "__________________\n",
      "Elementos diferentes de null/NaN: 69735\n",
      "__________________\n",
      "(69735,)\n",
      "None\n"
     ]
    }
   ],
   "source": [
    "print(data_2003['ESTU_GENERO'].value_counts().sort_index().index)\n",
    "print(data_2003['ESTU_GENERO'].value_counts().sort_index())\n",
    "print(missing_data(data_2003['ESTU_GENERO']))"
   ]
  },
  {
   "cell_type": "code",
   "execution_count": 13,
   "metadata": {
    "collapsed": false,
    "scrolled": true
   },
   "outputs": [
    {
     "name": "stdout",
     "output_type": "stream",
     "text": [
      "Float64Index([ 1.0,  2.0,  3.0,  4.0,  5.0,  6.0,  7.0,  8.0,  9.0, 10.0, 11.0,\n",
      "              12.0, 13.0, 14.0, 15.0, 16.0, 17.0, 18.0, 19.0, 20.0, 21.0, 22.0,\n",
      "              23.0, 24.0, 25.0, 26.0, 27.0, 28.0, 29.0, 30.0, 31.0],\n",
      "             dtype='float64')\n",
      "1.0     2622\n",
      "2.0     2316\n",
      "3.0     2288\n",
      "4.0     2335\n",
      "5.0     2311\n",
      "6.0     2251\n",
      "7.0     2214\n",
      "8.0     2367\n",
      "9.0     2210\n",
      "10.0    2396\n",
      "11.0    2318\n",
      "12.0    2255\n",
      "13.0    2197\n",
      "14.0    2263\n",
      "15.0    2473\n",
      "16.0    2292\n",
      "17.0    2273\n",
      "18.0    2274\n",
      "19.0    2237\n",
      "20.0    2300\n",
      "21.0    2226\n",
      "22.0    2261\n",
      "23.0    2266\n",
      "24.0    2224\n",
      "25.0    2275\n",
      "26.0    2263\n",
      "27.0    2242\n",
      "28.0    2361\n",
      "29.0    2106\n",
      "30.0    2080\n",
      "31.0    1235\n",
      "Name: ESTU_NACIMIENTO_DIA, dtype: int64\n",
      "Elementos null/NaN 4\n",
      "__________________\n",
      "Elementos diferentes de null/NaN: 69731\n",
      "__________________\n",
      "(69731,)\n",
      "None\n"
     ]
    }
   ],
   "source": [
    "print(data_2003['ESTU_NACIMIENTO_DIA'].value_counts().sort_index().index)\n",
    "print(data_2003['ESTU_NACIMIENTO_DIA'].value_counts().sort_index())\n",
    "print(missing_data(data_2003['ESTU_NACIMIENTO_DIA']))"
   ]
  },
  {
   "cell_type": "code",
   "execution_count": 14,
   "metadata": {
    "collapsed": false,
    "scrolled": true
   },
   "outputs": [
    {
     "name": "stdout",
     "output_type": "stream",
     "text": [
      "Index([ 9.0,  1.0,  3.0, 10.0, 12.0,  8.0,  5.0, 11.0,  7.0,  6.0,  4.0,  2.0,\n",
      "       '01', '10', '07', '11', '09', '12', '05', '06', '08', '04', '03', '02',\n",
      "        '@'],\n",
      "      dtype='object')\n",
      "9.0     4749\n",
      "1.0     4694\n",
      "3.0     4581\n",
      "10.0    4522\n",
      "12.0    4504\n",
      "8.0     4444\n",
      "5.0     4441\n",
      "11.0    4419\n",
      "7.0     4351\n",
      "6.0     4303\n",
      "4.0     4180\n",
      "2.0     4143\n",
      "01      1465\n",
      "10      1449\n",
      "07      1390\n",
      "11      1385\n",
      "09      1383\n",
      "12      1377\n",
      "05      1367\n",
      "06      1359\n",
      "08      1348\n",
      "04      1343\n",
      "03      1292\n",
      "02      1211\n",
      "@          1\n",
      "Name: ESTU_NACIMIENTO_MES, dtype: int64\n",
      "Elementos null/NaN 34\n",
      "__________________\n",
      "Elementos diferentes de null/NaN: 69701\n",
      "__________________\n",
      "(69701,)\n",
      "None\n"
     ]
    }
   ],
   "source": [
    "print(data_2003['ESTU_NACIMIENTO_MES'].value_counts().index)\n",
    "print(data_2003['ESTU_NACIMIENTO_MES'].value_counts())\n",
    "print(missing_data(data_2003['ESTU_NACIMIENTO_MES']))"
   ]
  },
  {
   "cell_type": "code",
   "execution_count": 15,
   "metadata": {
    "collapsed": true
   },
   "outputs": [],
   "source": [
    "data_2003['ESTU_NACIMIENTO_MES'] = data_2003['ESTU_NACIMIENTO_MES'].replace('@', np.nan)\n",
    "for i in data_2003['ESTU_NACIMIENTO_MES'].value_counts().index:\n",
    "    if type(i) == str:\n",
    "        data_2003['ESTU_NACIMIENTO_MES'] = data_2003['ESTU_NACIMIENTO_MES'].replace(i, float(i))"
   ]
  },
  {
   "cell_type": "code",
   "execution_count": 105,
   "metadata": {
    "collapsed": false,
    "scrolled": true
   },
   "outputs": [
    {
     "name": "stdout",
     "output_type": "stream",
     "text": [
      "Float64Index([1.0, 9.0, 10.0, 12.0, 3.0, 5.0, 11.0, 8.0, 7.0, 6.0, 4.0, 2.0], dtype='float64')\n",
      "1.0     6159\n",
      "9.0     6132\n",
      "10.0    5971\n",
      "12.0    5881\n",
      "3.0     5873\n",
      "5.0     5808\n",
      "11.0    5804\n",
      "8.0     5792\n",
      "7.0     5741\n",
      "6.0     5662\n",
      "4.0     5523\n",
      "2.0     5354\n",
      "Name: ESTU_NACIMIENTO_MES, dtype: int64\n",
      "Elementos null/NaN 35\n",
      "__________________\n",
      "Elementos diferentes de null/NaN: 69700\n",
      "__________________\n",
      "(69700,)\n",
      "None\n"
     ]
    }
   ],
   "source": [
    "print(data_2003['ESTU_NACIMIENTO_MES'].value_counts().index)\n",
    "print(data_2003['ESTU_NACIMIENTO_MES'].value_counts())\n",
    "print(missing_data(data_2003['ESTU_NACIMIENTO_MES']))"
   ]
  },
  {
   "cell_type": "code",
   "execution_count": 16,
   "metadata": {
    "collapsed": false,
    "scrolled": true
   },
   "outputs": [
    {
     "name": "stdout",
     "output_type": "stream",
     "text": [
      "Index([1986.0, 1985.0, '1985', '1986', '1984', 1984.0, 1987.0, '1983', 1983.0,\n",
      "       '1987',\n",
      "       ...\n",
      "        '197', '1940', '198@', 1935.0,  986.0, '1939', 1945.0, '1991',  197.0,\n",
      "       '1992'],\n",
      "      dtype='object', length=112)\n",
      "1986.0    12072\n",
      "1985.0     8614\n",
      "1985       7315\n",
      "1986       7222\n",
      "1984       5076\n",
      "1984.0     4941\n",
      "1987.0     3564\n",
      "1983       2708\n",
      "1983.0     2350\n",
      "1987       1928\n",
      "1982       1605\n",
      "1982.0     1274\n",
      "1981       1025\n",
      "1980        853\n",
      "1981.0      670\n",
      "1979        633\n",
      "1978        496\n",
      "1980.0      471\n",
      "1977        397\n",
      "1979.0      362\n",
      "1976        338\n",
      "1975        299\n",
      "1974        290\n",
      "1978.0      287\n",
      "1972        243\n",
      "1977.0      236\n",
      "1973        228\n",
      "1970        191\n",
      "1971        188\n",
      "1969        178\n",
      "          ...  \n",
      "1947.0        6\n",
      "1945          6\n",
      "1947          5\n",
      "1946          5\n",
      "1949.0        4\n",
      "1948.0        4\n",
      "198.0         3\n",
      "1943          3\n",
      "1938          3\n",
      "1935          3\n",
      "1944          3\n",
      "197@          2\n",
      "1941          2\n",
      "1937          2\n",
      "1941.0        2\n",
      "1942          2\n",
      "1938.0        2\n",
      "1942.0        2\n",
      "1944.0        2\n",
      "1946.0        2\n",
      "197           2\n",
      "1940          1\n",
      "198@          1\n",
      "1935.0        1\n",
      "986.0         1\n",
      "1939          1\n",
      "1945.0        1\n",
      "1991          1\n",
      "197.0         1\n",
      "1992          1\n",
      "Name: ESTU_NACIMIENTO_ANNO, dtype: int64\n",
      "Elementos null/NaN 8\n",
      "__________________\n",
      "Elementos diferentes de null/NaN: 69727\n",
      "__________________\n",
      "(69727,)\n",
      "None\n"
     ]
    }
   ],
   "source": [
    "print(data_2003['ESTU_NACIMIENTO_ANNO'].value_counts().index)\n",
    "print(data_2003['ESTU_NACIMIENTO_ANNO'].value_counts())\n",
    "print(missing_data(data_2003['ESTU_NACIMIENTO_ANNO']))"
   ]
  },
  {
   "cell_type": "code",
   "execution_count": 17,
   "metadata": {
    "collapsed": true
   },
   "outputs": [],
   "source": [
    "for i in data_2003['ESTU_NACIMIENTO_ANNO'].value_counts().index:\n",
    "    if type(i) == float:\n",
    "        data_2003['ESTU_NACIMIENTO_ANNO'] = data_2003['ESTU_NACIMIENTO_ANNO'].replace(i, str(i)[:-2])\n",
    "        \n",
    "for i in data_2003['ESTU_NACIMIENTO_ANNO'].value_counts().index:\n",
    "    if len(str(i)) < 4:\n",
    "        data_2003['ESTU_NACIMIENTO_ANNO'] = data_2003['ESTU_NACIMIENTO_ANNO'].replace(i, np.nan)\n",
    "    elif '@' in i:\n",
    "        data_2003['ESTU_NACIMIENTO_ANNO'] = data_2003['ESTU_NACIMIENTO_ANNO'].replace(i, np.nan)"
   ]
  },
  {
   "cell_type": "code",
   "execution_count": 118,
   "metadata": {
    "collapsed": false,
    "scrolled": true
   },
   "outputs": [],
   "source": [
    "mes = data_2003[data_2003['ESTU_NACIMIENTO_MES'].isnull()].index\n",
    "data_2003 = data_2003.drop(mes)\n",
    "anno = data_2003[data_2003['ESTU_NACIMIENTO_ANNO'].isnull()].index\n",
    "data_2003 = data_2003.drop(anno)"
   ]
  },
  {
   "cell_type": "code",
   "execution_count": 18,
   "metadata": {
    "collapsed": false,
    "scrolled": true
   },
   "outputs": [
    {
     "name": "stdout",
     "output_type": "stream",
     "text": [
      "Index(['ANTIOQUIA', 'ARAUCA', 'ATLANTICO', 'BOGOTA', 'BOLIVAR', 'BOYACA',\n",
      "       'CALDAS', 'CAQUETA', 'CASANARE', 'CAUCA', 'CESAR', 'CHOCO', 'CORDOBA',\n",
      "       'CUNDINAMARCA', 'GUAVIARE', 'HUILA', 'LA GUAJIRA', 'MAGDALENA', 'META',\n",
      "       'NARIÑO', 'NORTE SANTANDER', 'PUTUMAYO', 'QUINDIO', 'RISARALDA',\n",
      "       'SANTANDER', 'SUCRE', 'TOLIMA', 'VALLE'],\n",
      "      dtype='object')\n",
      "ANTIOQUIA           3290\n",
      "ARAUCA                53\n",
      "ATLANTICO            722\n",
      "BOGOTA              8528\n",
      "BOLIVAR              350\n",
      "BOYACA               791\n",
      "CALDAS               464\n",
      "CAQUETA              183\n",
      "CASANARE             165\n",
      "CAUCA               1741\n",
      "CESAR                105\n",
      "CHOCO                 32\n",
      "CORDOBA              215\n",
      "CUNDINAMARCA        1945\n",
      "GUAVIARE              41\n",
      "HUILA                741\n",
      "LA GUAJIRA           136\n",
      "MAGDALENA            128\n",
      "META                 586\n",
      "NARIÑO             12053\n",
      "NORTE SANTANDER      590\n",
      "PUTUMAYO             104\n",
      "QUINDIO              640\n",
      "RISARALDA            523\n",
      "SANTANDER           1175\n",
      "SUCRE                 10\n",
      "TOLIMA               652\n",
      "VALLE              33772\n",
      "Name: ESTU_DEPTO_PRESENTACION, dtype: int64\n",
      "Elementos null/NaN 0\n",
      "__________________\n",
      "Elementos diferentes de null/NaN: 69735\n",
      "__________________\n",
      "(69735,)\n",
      "None\n"
     ]
    }
   ],
   "source": [
    "print(data_2003['ESTU_DEPTO_PRESENTACION'].value_counts().sort_index().index)\n",
    "print(data_2003['ESTU_DEPTO_PRESENTACION'].value_counts().sort_index())\n",
    "print(missing_data(data_2003['ESTU_DEPTO_PRESENTACION']))"
   ]
  },
  {
   "cell_type": "code",
   "execution_count": 19,
   "metadata": {
    "collapsed": false,
    "scrolled": true
   },
   "outputs": [
    {
     "name": "stdout",
     "output_type": "stream",
     "text": [
      "Index(['ACACIAS', 'AGUACHICA', 'ALBANIA', 'ALCALA', 'ANDALUCIA',\n",
      "       'ANSERMANUEVO', 'APARTADO', 'ARAUCA', 'ARMENIA', 'BALBOA',\n",
      "       ...\n",
      "       'TUQUERRES', 'UBATE', 'VALLEDUPAR', 'VELEZ', 'VILLAVICENCIO', 'YOLOMBO',\n",
      "       'YOPAL', 'YUMBO', 'ZARZAL', 'ZIPAQUIRA'],\n",
      "      dtype='object', length=136)\n",
      "ACACIAS                      15\n",
      "AGUACHICA                    15\n",
      "ALBANIA                      37\n",
      "ALCALA                      118\n",
      "ANDALUCIA                   189\n",
      "ANSERMANUEVO                 80\n",
      "APARTADO                     78\n",
      "ARAUCA                       21\n",
      "ARMENIA                     541\n",
      "BALBOA                        2\n",
      "BARBACOAS                   137\n",
      "BARRANCABERMEJA             116\n",
      "BARRANQUILLA                722\n",
      "BELLO                       409\n",
      "BOGOTA D.C.                8528\n",
      "BOLIVAR                      81\n",
      "BOSCONIA                      5\n",
      "BUCARAMANGA                 934\n",
      "BUENAVENTURA               1986\n",
      "BUESACO                     178\n",
      "BUGA                       1395\n",
      "BUGALAGRANDE                210\n",
      "CAICEDONIA                  266\n",
      "CALI                      17415\n",
      "CALIMA (DARIEN)             153\n",
      "CALOTO                       15\n",
      "CAMPOALEGRE                  49\n",
      "CANDELARIA                  595\n",
      "CARTAGENA                   309\n",
      "CARTAGO                    1364\n",
      "                          ...  \n",
      "SANDONA                     234\n",
      "SANTA MARTA                  56\n",
      "SANTA ROSA DE OSOS           76\n",
      "SANTANDER DE QUILICHAO      232\n",
      "SARAVENA                     14\n",
      "SEVILLA                     357\n",
      "SILVIA                        2\n",
      "SINCELEJO                    10\n",
      "SOACHA                      361\n",
      "SOGAMOSO                    269\n",
      "TAME                         18\n",
      "TAMINANGO                   157\n",
      "TANGUA                       46\n",
      "TIERRALTA                    18\n",
      "TIMBIO                       55\n",
      "TORO                        100\n",
      "TRUJILLO                     98\n",
      "TULUA                      1950\n",
      "TUMACO                     1065\n",
      "TUNJA                       469\n",
      "TUQUERRES                   464\n",
      "UBATE                        91\n",
      "VALLEDUPAR                   85\n",
      "VELEZ                        47\n",
      "VILLAVICENCIO               488\n",
      "YOLOMBO                      17\n",
      "YOPAL                       155\n",
      "YUMBO                       811\n",
      "ZARZAL                      398\n",
      "ZIPAQUIRA                   185\n",
      "Name: ESTU_MCPIO_PRESENTACION, dtype: int64\n",
      "Elementos null/NaN 0\n",
      "__________________\n",
      "Elementos diferentes de null/NaN: 69735\n",
      "__________________\n",
      "(69735,)\n",
      "None\n"
     ]
    }
   ],
   "source": [
    "print(data_2003['ESTU_MCPIO_PRESENTACION'].value_counts().sort_index().index)\n",
    "print(data_2003['ESTU_MCPIO_PRESENTACION'].value_counts().sort_index())\n",
    "print(missing_data(data_2003['ESTU_MCPIO_PRESENTACION']))"
   ]
  },
  {
   "cell_type": "code",
   "execution_count": 20,
   "metadata": {
    "collapsed": false
   },
   "outputs": [
    {
     "name": "stdout",
     "output_type": "stream",
     "text": [
      "Index(['I'], dtype='object')\n",
      "I    63\n",
      "Name: ESTU_LIMITA_INVIDENTE, dtype: int64\n",
      "Elementos null/NaN 69672\n",
      "__________________\n",
      "Elementos diferentes de null/NaN: 63\n",
      "__________________\n",
      "(63,)\n",
      "None\n"
     ]
    }
   ],
   "source": [
    "print(data_2003['ESTU_LIMITA_INVIDENTE'].value_counts().sort_index().index)\n",
    "print(data_2003['ESTU_LIMITA_INVIDENTE'].value_counts().sort_index())\n",
    "print(missing_data(data_2003['ESTU_LIMITA_INVIDENTE']))"
   ]
  },
  {
   "cell_type": "code",
   "execution_count": 21,
   "metadata": {
    "collapsed": false
   },
   "outputs": [
    {
     "name": "stdout",
     "output_type": "stream",
     "text": [
      "Index(['R'], dtype='object')\n",
      "R    17\n",
      "Name: ESTU_LIMITA_SORDOINTERPRETE, dtype: int64\n",
      "Elementos null/NaN 69718\n",
      "__________________\n",
      "Elementos diferentes de null/NaN: 17\n",
      "__________________\n",
      "(17,)\n",
      "None\n"
     ]
    }
   ],
   "source": [
    "print(data_2003['ESTU_LIMITA_SORDOINTERPRETE'].value_counts().sort_index().index)\n",
    "print(data_2003['ESTU_LIMITA_SORDOINTERPRETE'].value_counts().sort_index())\n",
    "print(missing_data(data_2003['ESTU_LIMITA_SORDOINTERPRETE']))"
   ]
  },
  {
   "cell_type": "code",
   "execution_count": 22,
   "metadata": {
    "collapsed": false
   },
   "outputs": [
    {
     "name": "stdout",
     "output_type": "stream",
     "text": [
      "Index(['S'], dtype='object')\n",
      "S    27\n",
      "Name: ESTU_LIMITA_SORDONOINTERPRETE, dtype: int64\n",
      "Elementos null/NaN 69708\n",
      "__________________\n",
      "Elementos diferentes de null/NaN: 27\n",
      "__________________\n",
      "(27,)\n",
      "None\n"
     ]
    }
   ],
   "source": [
    "print(data_2003['ESTU_LIMITA_SORDONOINTERPRETE'].value_counts().sort_index().index)\n",
    "print(data_2003['ESTU_LIMITA_SORDONOINTERPRETE'].value_counts().sort_index())\n",
    "print(missing_data(data_2003['ESTU_LIMITA_SORDONOINTERPRETE']))"
   ]
  },
  {
   "cell_type": "code",
   "execution_count": 23,
   "metadata": {
    "collapsed": false
   },
   "outputs": [
    {
     "name": "stdout",
     "output_type": "stream",
     "text": [
      "Index(['M'], dtype='object')\n",
      "M    40\n",
      "Name: ESTU_LIMITA_MOTRIZ, dtype: int64\n",
      "Elementos null/NaN 69695\n",
      "__________________\n",
      "Elementos diferentes de null/NaN: 40\n",
      "__________________\n",
      "(40,)\n",
      "None\n"
     ]
    }
   ],
   "source": [
    "print(data_2003['ESTU_LIMITA_MOTRIZ'].value_counts().sort_index().index)\n",
    "print(data_2003['ESTU_LIMITA_MOTRIZ'].value_counts().sort_index())\n",
    "print(missing_data(data_2003['ESTU_LIMITA_MOTRIZ']))"
   ]
  },
  {
   "cell_type": "code",
   "execution_count": 120,
   "metadata": {
    "collapsed": true
   },
   "outputs": [],
   "source": [
    "data_2003 = data_2003.drop(['ESTU_LIMITA_INVIDENTE', 'ESTU_LIMITA_SORDOINTERPRETE', 'ESTU_LIMITA_SORDONOINTERPRETE',\n",
    "                           'ESTU_LIMITA_MOTRIZ'], axis=1)"
   ]
  },
  {
   "cell_type": "code",
   "execution_count": 24,
   "metadata": {
    "collapsed": false,
    "scrolled": true
   },
   "outputs": [
    {
     "name": "stdout",
     "output_type": "stream",
     "text": [
      "Index(['0', '00 1', '0000', '0001', '001', '0052', '0070', '01', '0128', '017',\n",
      "       ...\n",
      "       '@818', '@819', '@821', '@823', '@85', '@92', '@999', '@@', '@@4',\n",
      "       '@@@@'],\n",
      "      dtype='object', length=719)\n",
      "0        6\n",
      "00 1     1\n",
      "0000     7\n",
      "0001     2\n",
      "001      6\n",
      "0052     1\n",
      "0070     1\n",
      "01       3\n",
      "0128     1\n",
      "017      1\n",
      "0201     3\n",
      "0203    11\n",
      "0204     1\n",
      "0206     3\n",
      "0207     1\n",
      "021      1\n",
      "04       1\n",
      "0414     1\n",
      "05       1\n",
      "0656     2\n",
      "069      1\n",
      "07       1\n",
      "0701     3\n",
      "0702     5\n",
      "0703     1\n",
      "0704     2\n",
      "0706     1\n",
      "0707     1\n",
      "0711     1\n",
      "0720     1\n",
      "        ..\n",
      "@1       3\n",
      "@1 1     1\n",
      "@10      2\n",
      "@101     5\n",
      "@104     1\n",
      "@106     5\n",
      "@11      6\n",
      "@114     1\n",
      "@2       1\n",
      "@2 0     1\n",
      "@203     2\n",
      "@206     1\n",
      "@207     1\n",
      "@208     1\n",
      "@213     1\n",
      "@3       1\n",
      "@710     1\n",
      "@716     1\n",
      "@718     1\n",
      "@8 0     1\n",
      "@818     1\n",
      "@819     1\n",
      "@821     1\n",
      "@823     1\n",
      "@85      1\n",
      "@92      1\n",
      "@999     1\n",
      "@@      15\n",
      "@@4      1\n",
      "@@@@    13\n",
      "Name: ESTU_IES_COD_DESEADA, dtype: int64\n",
      "Elementos null/NaN 5913\n",
      "__________________\n",
      "Elementos diferentes de null/NaN: 63822\n",
      "__________________\n",
      "(63822,)\n",
      "None\n"
     ]
    }
   ],
   "source": [
    "print(data_2003['ESTU_IES_COD_DESEADA'].value_counts().sort_index().index)\n",
    "print(data_2003['ESTU_IES_COD_DESEADA'].value_counts().sort_index())\n",
    "print(missing_data(data_2003['ESTU_IES_COD_DESEADA']))"
   ]
  },
  {
   "cell_type": "code",
   "execution_count": 25,
   "metadata": {
    "collapsed": true
   },
   "outputs": [],
   "source": [
    "for i in data_2003['ESTU_IES_COD_DESEADA'].value_counts().sort_index().index:\n",
    "    if '@' in i:\n",
    "        data_2003['ESTU_IES_COD_DESEADA'] = data_2003['ESTU_IES_COD_DESEADA'].replace(i, np.nan)\n",
    "    elif ' ' in i:\n",
    "        data_2003['ESTU_IES_COD_DESEADA'] = data_2003['ESTU_IES_COD_DESEADA'].replace(i, np.nan)\n",
    "    elif int(i) == 0:\n",
    "        data_2003['ESTU_IES_COD_DESEADA'] = data_2003['ESTU_IES_COD_DESEADA'].replace(i, np.nan)\n",
    "    elif int(i) < 1000:\n",
    "        data_2003['ESTU_IES_COD_DESEADA'] = data_2003['ESTU_IES_COD_DESEADA'].replace(i, np.nan)"
   ]
  },
  {
   "cell_type": "code",
   "execution_count": 123,
   "metadata": {
    "collapsed": false,
    "scrolled": true
   },
   "outputs": [
    {
     "name": "stdout",
     "output_type": "stream",
     "text": [
      "cant null antes: 6481\n",
      "cant null despues: 16\n",
      "cant null antes: 16\n",
      "cant null despues: 0\n"
     ]
    }
   ],
   "source": [
    "Do_resamples(data_2003, 'ESTU_IES_COD_DESEADA', str)"
   ]
  },
  {
   "cell_type": "code",
   "execution_count": 26,
   "metadata": {
    "collapsed": false
   },
   "outputs": [
    {
     "name": "stdout",
     "output_type": "stream",
     "text": [
      "Index(['1', '2', '3', '4', '5', '6', '7', '8', '@'], dtype='object')\n",
      "1     1124\n",
      "2    22773\n",
      "3     8932\n",
      "4     6309\n",
      "5     8935\n",
      "6     5643\n",
      "7     4128\n",
      "8     6603\n",
      "@       43\n",
      "Name: ESTU_RAZONINSTITUTO, dtype: int64\n",
      "Elementos null/NaN 5245\n",
      "__________________\n",
      "Elementos diferentes de null/NaN: 64490\n",
      "__________________\n",
      "(64490,)\n",
      "None\n"
     ]
    }
   ],
   "source": [
    "print(data_2003['ESTU_RAZONINSTITUTO'].value_counts().sort_index().index)\n",
    "print(data_2003['ESTU_RAZONINSTITUTO'].value_counts().sort_index())\n",
    "print(missing_data(data_2003['ESTU_RAZONINSTITUTO']))"
   ]
  },
  {
   "cell_type": "code",
   "execution_count": 27,
   "metadata": {
    "collapsed": true
   },
   "outputs": [],
   "source": [
    "data_2003['ESTU_RAZONINSTITUTO'] = data_2003['ESTU_RAZONINSTITUTO'].replace('@', np.nan)"
   ]
  },
  {
   "cell_type": "code",
   "execution_count": 124,
   "metadata": {
    "collapsed": false
   },
   "outputs": [
    {
     "name": "stdout",
     "output_type": "stream",
     "text": [
      "cant null antes: 5274\n",
      "cant null despues: 1\n",
      "cant null antes: 1\n",
      "cant null despues: 0\n"
     ]
    }
   ],
   "source": [
    "Do_resamples(data_2003, 'ESTU_RAZONINSTITUTO', str)"
   ]
  },
  {
   "cell_type": "code",
   "execution_count": 28,
   "metadata": {
    "collapsed": false,
    "scrolled": true
   },
   "outputs": [
    {
     "name": "stdout",
     "output_type": "stream",
     "text": [
      "Index(['0', '00000', '00009', '01110', '01201', '01815', '03301', '03303',\n",
      "       '04112', '04189',\n",
      "       ...\n",
      "       '@@', '@@  0', '@@  6', '@@  9', '@@ 4', '@@1', '@@106', '@@2', '@@4',\n",
      "       '@@9'],\n",
      "      dtype='object', length=2534)\n",
      "0        5\n",
      "00000    6\n",
      "00009    1\n",
      "01110    1\n",
      "01201    1\n",
      "01815    1\n",
      "03301    1\n",
      "03303    1\n",
      "04112    2\n",
      "04189    1\n",
      "04813    1\n",
      "05114    1\n",
      "05204    1\n",
      "05209    1\n",
      "05223    1\n",
      "05225    1\n",
      "06106    1\n",
      "06209    1\n",
      "06241    1\n",
      "0706     1\n",
      "08038    1\n",
      "08117    1\n",
      "08120    1\n",
      "08151    1\n",
      "08217    2\n",
      "092      1\n",
      "0@6      1\n",
      "1        7\n",
      "1  07    1\n",
      "1  18    1\n",
      "        ..\n",
      "@201     1\n",
      "@212     1\n",
      "@214     1\n",
      "@3310    1\n",
      "@3437    1\n",
      "@4       2\n",
      "@40      1\n",
      "@40 4    1\n",
      "@51 1    1\n",
      "@5201    1\n",
      "@5205    1\n",
      "@553     1\n",
      "@6       1\n",
      "@6241    1\n",
      "@6252    1\n",
      "@6@      1\n",
      "@71 3    1\n",
      "@8109    1\n",
      "@818     1\n",
      "@86      1\n",
      "@@       8\n",
      "@@  0    1\n",
      "@@  6    1\n",
      "@@  9    1\n",
      "@@ 4     1\n",
      "@@1      6\n",
      "@@106    1\n",
      "@@2      1\n",
      "@@4      1\n",
      "@@9      2\n",
      "Name: ESTU_CARRDESEADA_COD, dtype: int64\n",
      "Elementos null/NaN 3802\n",
      "__________________\n",
      "Elementos diferentes de null/NaN: 65933\n",
      "__________________\n",
      "(65933,)\n",
      "None\n"
     ]
    }
   ],
   "source": [
    "print(data_2003['ESTU_CARRDESEADA_COD'].value_counts().sort_index().index)\n",
    "print(data_2003['ESTU_CARRDESEADA_COD'].value_counts().sort_index())\n",
    "print(missing_data(data_2003['ESTU_CARRDESEADA_COD']))"
   ]
  },
  {
   "cell_type": "code",
   "execution_count": 29,
   "metadata": {
    "collapsed": false
   },
   "outputs": [],
   "source": [
    "for i in data_2003['ESTU_CARRDESEADA_COD'].value_counts().sort_index().index:\n",
    "    if '@' in i:\n",
    "        data_2003['ESTU_CARRDESEADA_COD'] = data_2003['ESTU_CARRDESEADA_COD'].replace(i, np.nan)\n",
    "    elif ' ' in i:\n",
    "        data_2003['ESTU_CARRDESEADA_COD'] = data_2003['ESTU_CARRDESEADA_COD'].replace(i, np.nan)\n",
    "    elif int(i) == 0:\n",
    "        data_2003['ESTU_CARRDESEADA_COD'] = data_2003['ESTU_CARRDESEADA_COD'].replace(i, np.nan)"
   ]
  },
  {
   "cell_type": "code",
   "execution_count": 126,
   "metadata": {
    "collapsed": false,
    "scrolled": true
   },
   "outputs": [
    {
     "name": "stdout",
     "output_type": "stream",
     "text": [
      "cant null antes: 4188\n",
      "cant null despues: 130\n",
      "cant null antes: 130\n",
      "cant null despues: 0\n"
     ]
    }
   ],
   "source": [
    "Do_resamples(data_2003, 'ESTU_CARRDESEADA_COD', str)"
   ]
  },
  {
   "cell_type": "code",
   "execution_count": 30,
   "metadata": {
    "collapsed": false
   },
   "outputs": [
    {
     "name": "stdout",
     "output_type": "stream",
     "text": [
      "Index(['1', '2', '3', '4', '5', '6', '@'], dtype='object')\n",
      "1    18380\n",
      "2    18450\n",
      "3    17124\n",
      "4     5197\n",
      "5     5392\n",
      "6     1620\n",
      "@       28\n",
      "Name: ESTU_CARRDESEADA_RAZON, dtype: int64\n",
      "Elementos null/NaN 3544\n",
      "__________________\n",
      "Elementos diferentes de null/NaN: 66191\n",
      "__________________\n",
      "(66191,)\n",
      "None\n"
     ]
    }
   ],
   "source": [
    "print(data_2003['ESTU_CARRDESEADA_RAZON'].value_counts().sort_index().index)\n",
    "print(data_2003['ESTU_CARRDESEADA_RAZON'].value_counts().sort_index())\n",
    "print(missing_data(data_2003['ESTU_CARRDESEADA_RAZON']))"
   ]
  },
  {
   "cell_type": "code",
   "execution_count": 31,
   "metadata": {
    "collapsed": true
   },
   "outputs": [],
   "source": [
    "data_2003['ESTU_CARRDESEADA_RAZON'] = data_2003['ESTU_CARRDESEADA_RAZON'].replace('@', np.nan)"
   ]
  },
  {
   "cell_type": "code",
   "execution_count": 127,
   "metadata": {
    "collapsed": false,
    "scrolled": true
   },
   "outputs": [
    {
     "name": "stdout",
     "output_type": "stream",
     "text": [
      "cant null antes: 3559\n",
      "cant null despues: 1\n",
      "cant null antes: 1\n",
      "cant null despues: 0\n"
     ]
    }
   ],
   "source": [
    "Do_resamples(data_2003, 'ESTU_CARRDESEADA_RAZON', str)"
   ]
  },
  {
   "cell_type": "code",
   "execution_count": 32,
   "metadata": {
    "collapsed": false
   },
   "outputs": [
    {
     "name": "stdout",
     "output_type": "stream",
     "text": [
      "Index(['+', '1', '2', '3', '4', '5', '6', '7', '8', '9', '@'], dtype='object')\n",
      "+     2225\n",
      "1      331\n",
      "2     2828\n",
      "3     9103\n",
      "4    18484\n",
      "5    16680\n",
      "6     9485\n",
      "7     4990\n",
      "8     2876\n",
      "9     1740\n",
      "@      159\n",
      "Name: FAMI_PERSONAS_HOGAR, dtype: int64\n",
      "Elementos null/NaN 834\n",
      "__________________\n",
      "Elementos diferentes de null/NaN: 68901\n",
      "__________________\n",
      "(68901,)\n",
      "None\n"
     ]
    }
   ],
   "source": [
    "print(data_2003['FAMI_PERSONAS_HOGAR'].value_counts().sort_index().index)\n",
    "print(data_2003['FAMI_PERSONAS_HOGAR'].value_counts().sort_index())\n",
    "print(missing_data(data_2003['FAMI_PERSONAS_HOGAR']))"
   ]
  },
  {
   "cell_type": "code",
   "execution_count": 33,
   "metadata": {
    "collapsed": true
   },
   "outputs": [],
   "source": [
    "data_2003['FAMI_PERSONAS_HOGAR'] = data_2003['FAMI_PERSONAS_HOGAR'].replace('+', '+9')\n",
    "data_2003['FAMI_PERSONAS_HOGAR'] = data_2003['FAMI_PERSONAS_HOGAR'].replace('@', np.nan)"
   ]
  },
  {
   "cell_type": "code",
   "execution_count": 128,
   "metadata": {
    "collapsed": false,
    "scrolled": true
   },
   "outputs": [
    {
     "name": "stdout",
     "output_type": "stream",
     "text": [
      "cant null antes: 984\n",
      "cant null despues: 0\n"
     ]
    }
   ],
   "source": [
    "Do_resamples(data_2003, 'FAMI_PERSONAS_HOGAR', str)"
   ]
  },
  {
   "cell_type": "code",
   "execution_count": 34,
   "metadata": {
    "collapsed": false
   },
   "outputs": [
    {
     "name": "stdout",
     "output_type": "stream",
     "text": [
      "Index(['*', 'N', 'S'], dtype='object')\n",
      "*        7\n",
      "N    21236\n",
      "S    46009\n",
      "Name: FAMI_VIVIENDA_PROPIA, dtype: int64\n",
      "Elementos null/NaN 2483\n",
      "__________________\n",
      "Elementos diferentes de null/NaN: 67252\n",
      "__________________\n",
      "(67252,)\n",
      "None\n"
     ]
    }
   ],
   "source": [
    "print(data_2003['FAMI_VIVIENDA_PROPIA'].value_counts().sort_index().index)\n",
    "print(data_2003['FAMI_VIVIENDA_PROPIA'].value_counts().sort_index())\n",
    "print(missing_data(data_2003['FAMI_VIVIENDA_PROPIA']))"
   ]
  },
  {
   "cell_type": "code",
   "execution_count": 35,
   "metadata": {
    "collapsed": true
   },
   "outputs": [],
   "source": [
    "data_2003['FAMI_VIVIENDA_PROPIA'] = data_2003['FAMI_VIVIENDA_PROPIA'].replace('*', np.nan)"
   ]
  },
  {
   "cell_type": "code",
   "execution_count": 129,
   "metadata": {
    "collapsed": false,
    "scrolled": true
   },
   "outputs": [
    {
     "name": "stdout",
     "output_type": "stream",
     "text": [
      "cant null antes: 2481\n",
      "cant null despues: 0\n"
     ]
    }
   ],
   "source": [
    "Do_resamples(data_2003, 'FAMI_VIVIENDA_PROPIA', str)"
   ]
  },
  {
   "cell_type": "code",
   "execution_count": 36,
   "metadata": {
    "collapsed": false
   },
   "outputs": [
    {
     "name": "stdout",
     "output_type": "stream",
     "text": [
      "Index(['*', 'N', 'S'], dtype='object')\n",
      "*        6\n",
      "N    31398\n",
      "S     9553\n",
      "Name: FAMI_DEUDA_VIVIENDA, dtype: int64\n",
      "Elementos null/NaN 28778\n",
      "__________________\n",
      "Elementos diferentes de null/NaN: 40957\n",
      "__________________\n",
      "(40957,)\n",
      "None\n"
     ]
    }
   ],
   "source": [
    "print(data_2003['FAMI_DEUDA_VIVIENDA'].value_counts().sort_index().index)\n",
    "print(data_2003['FAMI_DEUDA_VIVIENDA'].value_counts().sort_index())\n",
    "print(missing_data(data_2003['FAMI_DEUDA_VIVIENDA']))"
   ]
  },
  {
   "cell_type": "code",
   "execution_count": 37,
   "metadata": {
    "collapsed": true
   },
   "outputs": [],
   "source": [
    "data_2003['FAMI_DEUDA_VIVIENDA'] = data_2003['FAMI_DEUDA_VIVIENDA'].replace('*', np.nan)"
   ]
  },
  {
   "cell_type": "code",
   "execution_count": 130,
   "metadata": {
    "collapsed": false,
    "scrolled": true
   },
   "outputs": [
    {
     "name": "stdout",
     "output_type": "stream",
     "text": [
      "cant null antes: 28759\n",
      "cant null despues: 0\n"
     ]
    }
   ],
   "source": [
    "Do_resamples(data_2003, 'FAMI_DEUDA_VIVIENDA', str)"
   ]
  },
  {
   "cell_type": "code",
   "execution_count": 38,
   "metadata": {
    "collapsed": false
   },
   "outputs": [
    {
     "name": "stdout",
     "output_type": "stream",
     "text": [
      "Index(['+', '0', '1', '2', '3', '4', '5', '6', '7', '8', '9', '@'], dtype='object')\n",
      "+       59\n",
      "0      223\n",
      "1    33541\n",
      "2    26563\n",
      "3     5570\n",
      "4     1607\n",
      "5      469\n",
      "6      154\n",
      "7       48\n",
      "8       28\n",
      "9       15\n",
      "@      120\n",
      "Name: FAMI_APORTANTES, dtype: int64\n",
      "Elementos null/NaN 1338\n",
      "__________________\n",
      "Elementos diferentes de null/NaN: 68397\n",
      "__________________\n",
      "(68397,)\n",
      "None\n"
     ]
    }
   ],
   "source": [
    "print(data_2003['FAMI_APORTANTES'].value_counts().sort_index().index)\n",
    "print(data_2003['FAMI_APORTANTES'].value_counts().sort_index())\n",
    "print(missing_data(data_2003['FAMI_APORTANTES']))"
   ]
  },
  {
   "cell_type": "code",
   "execution_count": 39,
   "metadata": {
    "collapsed": true
   },
   "outputs": [],
   "source": [
    "data_2003['FAMI_APORTANTES'] = data_2003['FAMI_APORTANTES'].replace('+', '+9')\n",
    "data_2003['FAMI_APORTANTES'] = data_2003['FAMI_APORTANTES'].replace('@', np.nan)"
   ]
  },
  {
   "cell_type": "code",
   "execution_count": 131,
   "metadata": {
    "collapsed": false,
    "scrolled": true
   },
   "outputs": [
    {
     "name": "stdout",
     "output_type": "stream",
     "text": [
      "cant null antes: 1450\n",
      "cant null despues: 1\n",
      "cant null antes: 1\n",
      "cant null despues: 0\n"
     ]
    }
   ],
   "source": [
    "Do_resamples(data_2003, 'FAMI_APORTANTES', str)"
   ]
  },
  {
   "cell_type": "code",
   "execution_count": 40,
   "metadata": {
    "collapsed": false
   },
   "outputs": [
    {
     "name": "stdout",
     "output_type": "stream",
     "text": [
      "Index(['+', '0', '1', '2', '3', '4', '5', '6', '7', '8', '9', '@'], dtype='object')\n",
      "+     1564\n",
      "0    17364\n",
      "1       62\n",
      "2    27018\n",
      "3    11219\n",
      "4     5681\n",
      "5     2165\n",
      "6      996\n",
      "7      832\n",
      "8      514\n",
      "9      526\n",
      "@       47\n",
      "Name: FAMI_INGRESO_FMILIAR_MENSUAL, dtype: int64\n",
      "Elementos null/NaN 1747\n",
      "__________________\n",
      "Elementos diferentes de null/NaN: 67988\n",
      "__________________\n",
      "(67988,)\n",
      "None\n"
     ]
    }
   ],
   "source": [
    "print(data_2003['FAMI_INGRESO_FMILIAR_MENSUAL'].value_counts().sort_index().index)\n",
    "print(data_2003['FAMI_INGRESO_FMILIAR_MENSUAL'].value_counts().sort_index())\n",
    "print(missing_data(data_2003['FAMI_INGRESO_FMILIAR_MENSUAL']))"
   ]
  },
  {
   "cell_type": "code",
   "execution_count": 41,
   "metadata": {
    "collapsed": true
   },
   "outputs": [],
   "source": [
    "data_2003['FAMI_INGRESO_FMILIAR_MENSUAL'] = data_2003['FAMI_INGRESO_FMILIAR_MENSUAL'].replace('+', '+9')\n",
    "data_2003['FAMI_INGRESO_FMILIAR_MENSUAL'] = data_2003['FAMI_INGRESO_FMILIAR_MENSUAL'].replace('@', np.nan)"
   ]
  },
  {
   "cell_type": "code",
   "execution_count": 132,
   "metadata": {
    "collapsed": false,
    "scrolled": true
   },
   "outputs": [
    {
     "name": "stdout",
     "output_type": "stream",
     "text": [
      "cant null antes: 1786\n",
      "cant null despues: 0\n"
     ]
    }
   ],
   "source": [
    "Do_resamples(data_2003, 'FAMI_INGRESO_FMILIAR_MENSUAL', str)"
   ]
  },
  {
   "cell_type": "code",
   "execution_count": 42,
   "metadata": {
    "collapsed": false
   },
   "outputs": [
    {
     "name": "stdout",
     "output_type": "stream",
     "text": [
      "Index(['*', 'N', 'S'], dtype='object')\n",
      "*       31\n",
      "N     1938\n",
      "S    60673\n",
      "Name: FAMI_LEE_ESCRIBE_PADRE, dtype: int64\n",
      "Elementos null/NaN 7093\n",
      "__________________\n",
      "Elementos diferentes de null/NaN: 62642\n",
      "__________________\n",
      "(62642,)\n",
      "None\n"
     ]
    }
   ],
   "source": [
    "print(data_2003['FAMI_LEE_ESCRIBE_PADRE'].value_counts().sort_index().index)\n",
    "print(data_2003['FAMI_LEE_ESCRIBE_PADRE'].value_counts().sort_index())\n",
    "print(missing_data(data_2003['FAMI_LEE_ESCRIBE_PADRE']))"
   ]
  },
  {
   "cell_type": "code",
   "execution_count": 43,
   "metadata": {
    "collapsed": true
   },
   "outputs": [],
   "source": [
    "data_2003['FAMI_LEE_ESCRIBE_PADRE'] = data_2003['FAMI_LEE_ESCRIBE_PADRE'].replace('*', np.nan)"
   ]
  },
  {
   "cell_type": "code",
   "execution_count": 133,
   "metadata": {
    "collapsed": false,
    "scrolled": true
   },
   "outputs": [
    {
     "name": "stdout",
     "output_type": "stream",
     "text": [
      "cant null antes: 7111\n",
      "cant null despues: 0\n"
     ]
    }
   ],
   "source": [
    "Do_resamples(data_2003, 'FAMI_LEE_ESCRIBE_PADRE', str)"
   ]
  },
  {
   "cell_type": "code",
   "execution_count": 44,
   "metadata": {
    "collapsed": false
   },
   "outputs": [
    {
     "name": "stdout",
     "output_type": "stream",
     "text": [
      "Index(['*', 'N', 'S'], dtype='object')\n",
      "*       37\n",
      "N     2345\n",
      "S    64513\n",
      "Name: FAMI_LEE_ESCRIBE_MADRE, dtype: int64\n",
      "Elementos null/NaN 2840\n",
      "__________________\n",
      "Elementos diferentes de null/NaN: 66895\n",
      "__________________\n",
      "(66895,)\n",
      "None\n"
     ]
    }
   ],
   "source": [
    "print(data_2003['FAMI_LEE_ESCRIBE_MADRE'].value_counts().sort_index().index)\n",
    "print(data_2003['FAMI_LEE_ESCRIBE_MADRE'].value_counts().sort_index())\n",
    "print(missing_data(data_2003['FAMI_LEE_ESCRIBE_MADRE']))"
   ]
  },
  {
   "cell_type": "code",
   "execution_count": 45,
   "metadata": {
    "collapsed": true
   },
   "outputs": [],
   "source": [
    "data_2003['FAMI_LEE_ESCRIBE_MADRE'] = data_2003['FAMI_LEE_ESCRIBE_MADRE'].replace('*', np.nan)"
   ]
  },
  {
   "cell_type": "code",
   "execution_count": 134,
   "metadata": {
    "collapsed": false,
    "scrolled": true
   },
   "outputs": [
    {
     "name": "stdout",
     "output_type": "stream",
     "text": [
      "cant null antes: 2865\n",
      "cant null despues: 0\n"
     ]
    }
   ],
   "source": [
    "Do_resamples(data_2003, 'FAMI_LEE_ESCRIBE_MADRE', str)"
   ]
  },
  {
   "cell_type": "code",
   "execution_count": 46,
   "metadata": {
    "collapsed": false
   },
   "outputs": [
    {
     "name": "stdout",
     "output_type": "stream",
     "text": [
      "Index(['*', '1', '2', '3', '4', '5', '6', '7', '8', '@'], dtype='object')\n",
      "*        2\n",
      "1     2662\n",
      "2      738\n",
      "3    26872\n",
      "4    15169\n",
      "5     3245\n",
      "6     3073\n",
      "7     5963\n",
      "8     3121\n",
      "@      643\n",
      "Name: FAMI_EDUCA_PADRE, dtype: int64\n",
      "Elementos null/NaN 8247\n",
      "__________________\n",
      "Elementos diferentes de null/NaN: 61488\n",
      "__________________\n",
      "(61488,)\n",
      "None\n"
     ]
    }
   ],
   "source": [
    "print(data_2003['FAMI_EDUCA_PADRE'].value_counts().sort_index().index)\n",
    "print(data_2003['FAMI_EDUCA_PADRE'].value_counts().sort_index())\n",
    "print(missing_data(data_2003['FAMI_EDUCA_PADRE']))"
   ]
  },
  {
   "cell_type": "code",
   "execution_count": 47,
   "metadata": {
    "collapsed": true
   },
   "outputs": [],
   "source": [
    "data_2003['FAMI_EDUCA_PADRE'] = data_2003['FAMI_EDUCA_PADRE'].replace('*', np.nan)\n",
    "data_2003['FAMI_EDUCA_PADRE'] = data_2003['FAMI_EDUCA_PADRE'].replace('@', np.nan)"
   ]
  },
  {
   "cell_type": "code",
   "execution_count": 135,
   "metadata": {
    "collapsed": false,
    "scrolled": true
   },
   "outputs": [
    {
     "name": "stdout",
     "output_type": "stream",
     "text": [
      "cant null antes: 8875\n",
      "cant null despues: 2\n",
      "cant null antes: 2\n",
      "cant null despues: 0\n"
     ]
    }
   ],
   "source": [
    "Do_resamples(data_2003, 'FAMI_EDUCA_PADRE', str)"
   ]
  },
  {
   "cell_type": "code",
   "execution_count": 48,
   "metadata": {
    "collapsed": false
   },
   "outputs": [
    {
     "name": "stdout",
     "output_type": "stream",
     "text": [
      "Index(['*', '1', '2', '3', '4', '5', '6', '7', '8', '@'], dtype='object')\n",
      "*        2\n",
      "1     2394\n",
      "2      710\n",
      "3    25848\n",
      "4    16462\n",
      "5     3772\n",
      "6     2518\n",
      "7     5061\n",
      "8     2164\n",
      "@      642\n",
      "Name: FAMI_EDUCA_MADRE, dtype: int64\n",
      "Elementos null/NaN 10162\n",
      "__________________\n",
      "Elementos diferentes de null/NaN: 59573\n",
      "__________________\n",
      "(59573,)\n",
      "None\n"
     ]
    }
   ],
   "source": [
    "print(data_2003['FAMI_EDUCA_MADRE'].value_counts().sort_index().index)\n",
    "print(data_2003['FAMI_EDUCA_MADRE'].value_counts().sort_index())\n",
    "print(missing_data(data_2003['FAMI_EDUCA_MADRE']))"
   ]
  },
  {
   "cell_type": "code",
   "execution_count": 49,
   "metadata": {
    "collapsed": true
   },
   "outputs": [],
   "source": [
    "data_2003['FAMI_EDUCA_MADRE'] = data_2003['FAMI_EDUCA_MADRE'].replace('*', np.nan)\n",
    "data_2003['FAMI_EDUCA_MADRE'] = data_2003['FAMI_EDUCA_MADRE'].replace('@', np.nan)"
   ]
  },
  {
   "cell_type": "code",
   "execution_count": 136,
   "metadata": {
    "collapsed": false,
    "scrolled": true
   },
   "outputs": [
    {
     "name": "stdout",
     "output_type": "stream",
     "text": [
      "cant null antes: 10758\n",
      "cant null despues: 0\n"
     ]
    }
   ],
   "source": [
    "Do_resamples(data_2003, 'FAMI_EDUCA_MADRE', str)"
   ]
  },
  {
   "cell_type": "code",
   "execution_count": 50,
   "metadata": {
    "collapsed": false,
    "scrolled": true
   },
   "outputs": [
    {
     "name": "stdout",
     "output_type": "stream",
     "text": [
      "Index(['01', '02', '03', '04', '05', '06', '07', '08', '09', '1', '10', '11',\n",
      "       '12', '2', '3', '4', '5', '6', '7', '8', '@'],\n",
      "      dtype='object')\n",
      "01     1191\n",
      "02     1643\n",
      "03     3332\n",
      "04     4136\n",
      "05    15671\n",
      "06     7631\n",
      "07      457\n",
      "08    13819\n",
      "09     3455\n",
      "1       315\n",
      "10      800\n",
      "11       27\n",
      "12     1944\n",
      "2       106\n",
      "3      2598\n",
      "4      1245\n",
      "5       217\n",
      "6       116\n",
      "7       235\n",
      "8        90\n",
      "@      1438\n",
      "Name: FAMI_OCUPA_PADRE, dtype: int64\n",
      "Elementos null/NaN 9269\n",
      "__________________\n",
      "Elementos diferentes de null/NaN: 60466\n",
      "__________________\n",
      "(60466,)\n",
      "None\n"
     ]
    }
   ],
   "source": [
    "print(data_2003['FAMI_OCUPA_PADRE'].value_counts().sort_index().index)\n",
    "print(data_2003['FAMI_OCUPA_PADRE'].value_counts().sort_index())\n",
    "print(missing_data(data_2003['FAMI_OCUPA_PADRE']))"
   ]
  },
  {
   "cell_type": "code",
   "execution_count": 51,
   "metadata": {
    "collapsed": true
   },
   "outputs": [],
   "source": [
    "data_2003['FAMI_OCUPA_PADRE'] = data_2003['FAMI_OCUPA_PADRE'].replace('1', '01')\n",
    "data_2003['FAMI_OCUPA_PADRE'] = data_2003['FAMI_OCUPA_PADRE'].replace('2', '02')\n",
    "data_2003['FAMI_OCUPA_PADRE'] = data_2003['FAMI_OCUPA_PADRE'].replace('3', '03')\n",
    "data_2003['FAMI_OCUPA_PADRE'] = data_2003['FAMI_OCUPA_PADRE'].replace('4', '04')\n",
    "data_2003['FAMI_OCUPA_PADRE'] = data_2003['FAMI_OCUPA_PADRE'].replace('5', '05')\n",
    "data_2003['FAMI_OCUPA_PADRE'] = data_2003['FAMI_OCUPA_PADRE'].replace('6', '06')\n",
    "data_2003['FAMI_OCUPA_PADRE'] = data_2003['FAMI_OCUPA_PADRE'].replace('7', '07')\n",
    "data_2003['FAMI_OCUPA_PADRE'] = data_2003['FAMI_OCUPA_PADRE'].replace('8', '08')\n",
    "data_2003['FAMI_OCUPA_PADRE'] = data_2003['FAMI_OCUPA_PADRE'].replace('@', np.nan)"
   ]
  },
  {
   "cell_type": "code",
   "execution_count": 137,
   "metadata": {
    "collapsed": false,
    "scrolled": true
   },
   "outputs": [
    {
     "name": "stdout",
     "output_type": "stream",
     "text": [
      "cant null antes: 10692\n",
      "cant null despues: 0\n"
     ]
    }
   ],
   "source": [
    "Do_resamples(data_2003, 'FAMI_OCUPA_PADRE', str)"
   ]
  },
  {
   "cell_type": "code",
   "execution_count": 52,
   "metadata": {
    "collapsed": false
   },
   "outputs": [
    {
     "name": "stdout",
     "output_type": "stream",
     "text": [
      "Index(['01', '02', '03', '04', '05', '06', '07', '08', '09', '10', '11', '12',\n",
      "       '@'],\n",
      "      dtype='object')\n",
      "01      627\n",
      "02      877\n",
      "03     1890\n",
      "04     3999\n",
      "05     9525\n",
      "06     6528\n",
      "07      502\n",
      "08     5714\n",
      "09     1279\n",
      "10    30342\n",
      "11      258\n",
      "12     1559\n",
      "@      1355\n",
      "Name: FAMI_OCUPA_MADRE, dtype: int64\n",
      "Elementos null/NaN 5280\n",
      "__________________\n",
      "Elementos diferentes de null/NaN: 64455\n",
      "__________________\n",
      "(64455,)\n",
      "None\n"
     ]
    }
   ],
   "source": [
    "print(data_2003['FAMI_OCUPA_MADRE'].value_counts().sort_index().index)\n",
    "print(data_2003['FAMI_OCUPA_MADRE'].value_counts().sort_index())\n",
    "print(missing_data(data_2003['FAMI_OCUPA_MADRE']))"
   ]
  },
  {
   "cell_type": "code",
   "execution_count": 53,
   "metadata": {
    "collapsed": true
   },
   "outputs": [],
   "source": [
    "data_2003['FAMI_OCUPA_MADRE'] = data_2003['FAMI_OCUPA_MADRE'].replace('@', np.nan)"
   ]
  },
  {
   "cell_type": "code",
   "execution_count": 138,
   "metadata": {
    "collapsed": false,
    "scrolled": true
   },
   "outputs": [
    {
     "name": "stdout",
     "output_type": "stream",
     "text": [
      "cant null antes: 6615\n",
      "cant null despues: 0\n"
     ]
    }
   ],
   "source": [
    "Do_resamples(data_2003, 'FAMI_OCUPA_MADRE', str)"
   ]
  },
  {
   "cell_type": "code",
   "execution_count": 54,
   "metadata": {
    "collapsed": false
   },
   "outputs": [
    {
     "name": "stdout",
     "output_type": "stream",
     "text": [
      "Index(['+', '0', '1', '2', '3', '4', '5', '6', '7', '8', '9', '@'], dtype='object')\n",
      "+     1279\n",
      "0     5653\n",
      "1    16793\n",
      "2    15848\n",
      "3     9536\n",
      "4     5716\n",
      "5     3613\n",
      "6     2371\n",
      "7     1581\n",
      "8     1040\n",
      "9      839\n",
      "@      247\n",
      "Name: FAMI_NUM_HERMANOS, dtype: int64\n",
      "Elementos null/NaN 5219\n",
      "__________________\n",
      "Elementos diferentes de null/NaN: 64516\n",
      "__________________\n",
      "(64516,)\n",
      "None\n"
     ]
    }
   ],
   "source": [
    "print(data_2003['FAMI_NUM_HERMANOS'].value_counts().sort_index().index)\n",
    "print(data_2003['FAMI_NUM_HERMANOS'].value_counts().sort_index())\n",
    "print(missing_data(data_2003['FAMI_NUM_HERMANOS']))"
   ]
  },
  {
   "cell_type": "code",
   "execution_count": 55,
   "metadata": {
    "collapsed": true
   },
   "outputs": [],
   "source": [
    "data_2003['FAMI_NUM_HERMANOS'] = data_2003['FAMI_NUM_HERMANOS'].replace('+', '+9')\n",
    "data_2003['FAMI_NUM_HERMANOS'] = data_2003['FAMI_NUM_HERMANOS'].replace('@', np.nan)"
   ]
  },
  {
   "cell_type": "code",
   "execution_count": 139,
   "metadata": {
    "collapsed": false,
    "scrolled": true
   },
   "outputs": [
    {
     "name": "stdout",
     "output_type": "stream",
     "text": [
      "cant null antes: 5443\n",
      "cant null despues: 0\n"
     ]
    }
   ],
   "source": [
    "Do_resamples(data_2003, 'FAMI_NUM_HERMANOS', str)"
   ]
  },
  {
   "cell_type": "code",
   "execution_count": 56,
   "metadata": {
    "collapsed": false
   },
   "outputs": [
    {
     "name": "stdout",
     "output_type": "stream",
     "text": [
      "Index(['+', '0', '1', '2', '3', '4', '5', '6', '7', '8', '9', '@'], dtype='object')\n",
      "+      254\n",
      "0    32480\n",
      "1    16703\n",
      "2     7132\n",
      "3     2588\n",
      "4     1246\n",
      "5      671\n",
      "6      418\n",
      "7      292\n",
      "8      185\n",
      "9      162\n",
      "@       58\n",
      "Name: FAMI_NUM_HERMANOS_EDUSUPERIOR, dtype: int64\n",
      "Elementos null/NaN 7546\n",
      "__________________\n",
      "Elementos diferentes de null/NaN: 62189\n",
      "__________________\n",
      "(62189,)\n",
      "None\n"
     ]
    }
   ],
   "source": [
    "print(data_2003['FAMI_NUM_HERMANOS_EDUSUPERIOR'].value_counts().sort_index().index)\n",
    "print(data_2003['FAMI_NUM_HERMANOS_EDUSUPERIOR'].value_counts().sort_index())\n",
    "print(missing_data(data_2003['FAMI_NUM_HERMANOS_EDUSUPERIOR']))"
   ]
  },
  {
   "cell_type": "code",
   "execution_count": 57,
   "metadata": {
    "collapsed": true
   },
   "outputs": [],
   "source": [
    "data_2003['FAMI_NUM_HERMANOS_EDUSUPERIOR'] = data_2003['FAMI_NUM_HERMANOS_EDUSUPERIOR'].replace('+', '+9')\n",
    "data_2003['FAMI_NUM_HERMANOS_EDUSUPERIOR'] = data_2003['FAMI_NUM_HERMANOS_EDUSUPERIOR'].replace('@', np.nan)"
   ]
  },
  {
   "cell_type": "code",
   "execution_count": 140,
   "metadata": {
    "collapsed": false,
    "scrolled": true
   },
   "outputs": [
    {
     "name": "stdout",
     "output_type": "stream",
     "text": [
      "cant null antes: 7589\n",
      "cant null despues: 1\n",
      "cant null antes: 1\n",
      "cant null despues: 0\n"
     ]
    }
   ],
   "source": [
    "Do_resamples(data_2003, 'FAMI_NUM_HERMANOS_EDUSUPERIOR', str)"
   ]
  },
  {
   "cell_type": "code",
   "execution_count": 58,
   "metadata": {
    "collapsed": false
   },
   "outputs": [
    {
     "name": "stdout",
     "output_type": "stream",
     "text": [
      "Index(['+', '1', '2', '3', '4', '5', '6', '7', '8', '9', '@'], dtype='object')\n",
      "+      543\n",
      "1    22954\n",
      "2    17667\n",
      "3    10470\n",
      "4     5191\n",
      "5     2837\n",
      "6     1695\n",
      "7     1154\n",
      "8     2120\n",
      "9      425\n",
      "@       11\n",
      "Name: FAMI_POSICION_HERMANOS, dtype: int64\n",
      "Elementos null/NaN 4668\n",
      "__________________\n",
      "Elementos diferentes de null/NaN: 65067\n",
      "__________________\n",
      "(65067,)\n",
      "None\n"
     ]
    }
   ],
   "source": [
    "print(data_2003['FAMI_POSICION_HERMANOS'].value_counts().sort_index().index)\n",
    "print(data_2003['FAMI_POSICION_HERMANOS'].value_counts().sort_index())\n",
    "print(missing_data(data_2003['FAMI_POSICION_HERMANOS']))"
   ]
  },
  {
   "cell_type": "code",
   "execution_count": 59,
   "metadata": {
    "collapsed": true
   },
   "outputs": [],
   "source": [
    "data_2003['FAMI_POSICION_HERMANOS'] = data_2003['FAMI_POSICION_HERMANOS'].replace('+', '+9')\n",
    "data_2003['FAMI_POSICION_HERMANOS'] = data_2003['FAMI_POSICION_HERMANOS'].replace('@', np.nan)"
   ]
  },
  {
   "cell_type": "code",
   "execution_count": 141,
   "metadata": {
    "collapsed": false,
    "scrolled": true
   },
   "outputs": [
    {
     "name": "stdout",
     "output_type": "stream",
     "text": [
      "cant null antes: 4669\n",
      "cant null despues: 0\n"
     ]
    }
   ],
   "source": [
    "Do_resamples(data_2003, 'FAMI_POSICION_HERMANOS', str)"
   ]
  },
  {
   "cell_type": "code",
   "execution_count": 60,
   "metadata": {
    "collapsed": false,
    "scrolled": true
   },
   "outputs": [
    {
     "name": "stdout",
     "output_type": "stream",
     "text": [
      "Index(['+', '0', '1', '2', '3', '4', '5', '6', '7', '8', '9', '@', 'N', 'P',\n",
      "       'T'],\n",
      "      dtype='object')\n",
      "+        2\n",
      "0     2669\n",
      "1     1259\n",
      "2      514\n",
      "3      194\n",
      "4       65\n",
      "5       22\n",
      "6       19\n",
      "7       11\n",
      "8        6\n",
      "9        6\n",
      "@        6\n",
      "N     5158\n",
      "P     8437\n",
      "T    47783\n",
      "Name: FAMI_SOST_PERSONAL, dtype: int64\n",
      "Elementos null/NaN 3584\n",
      "__________________\n",
      "Elementos diferentes de null/NaN: 66151\n",
      "__________________\n",
      "(66151,)\n",
      "None\n"
     ]
    }
   ],
   "source": [
    "print(data_2003['FAMI_SOST_PERSONAL'].value_counts().sort_index().index)\n",
    "print(data_2003['FAMI_SOST_PERSONAL'].value_counts().sort_index())\n",
    "print(missing_data(data_2003['FAMI_SOST_PERSONAL']))"
   ]
  },
  {
   "cell_type": "code",
   "execution_count": 61,
   "metadata": {
    "collapsed": true
   },
   "outputs": [],
   "source": [
    "\"\"\"This column must have just 4 type of values (N,P,T,S) and it has numbers\"\"\"\n",
    "data_2003['FAMI_SOST_PERSONAL'] = data_2003['FAMI_SOST_PERSONAL'].replace('+', np.nan)\n",
    "data_2003['FAMI_SOST_PERSONAL'] = data_2003['FAMI_SOST_PERSONAL'].replace('@', np.nan)\n",
    "data_2003['FAMI_SOST_PERSONAL'] = data_2003['FAMI_SOST_PERSONAL'].replace('0', np.nan)\n",
    "data_2003['FAMI_SOST_PERSONAL'] = data_2003['FAMI_SOST_PERSONAL'].replace('1', np.nan)\n",
    "data_2003['FAMI_SOST_PERSONAL'] = data_2003['FAMI_SOST_PERSONAL'].replace('2', np.nan)\n",
    "data_2003['FAMI_SOST_PERSONAL'] = data_2003['FAMI_SOST_PERSONAL'].replace('3', np.nan)\n",
    "data_2003['FAMI_SOST_PERSONAL'] = data_2003['FAMI_SOST_PERSONAL'].replace('4', np.nan)\n",
    "data_2003['FAMI_SOST_PERSONAL'] = data_2003['FAMI_SOST_PERSONAL'].replace('5', np.nan)\n",
    "data_2003['FAMI_SOST_PERSONAL'] = data_2003['FAMI_SOST_PERSONAL'].replace('6', np.nan)\n",
    "data_2003['FAMI_SOST_PERSONAL'] = data_2003['FAMI_SOST_PERSONAL'].replace('7', np.nan)\n",
    "data_2003['FAMI_SOST_PERSONAL'] = data_2003['FAMI_SOST_PERSONAL'].replace('8', np.nan)\n",
    "data_2003['FAMI_SOST_PERSONAL'] = data_2003['FAMI_SOST_PERSONAL'].replace('9', np.nan)"
   ]
  },
  {
   "cell_type": "code",
   "execution_count": 143,
   "metadata": {
    "collapsed": false,
    "scrolled": true
   },
   "outputs": [
    {
     "name": "stdout",
     "output_type": "stream",
     "text": [
      "cant null antes: 8309\n",
      "cant null despues: 0\n"
     ]
    }
   ],
   "source": [
    "Do_resamples(data_2003, 'FAMI_SOST_PERSONAL', str)"
   ]
  },
  {
   "cell_type": "code",
   "execution_count": 62,
   "metadata": {
    "collapsed": false
   },
   "outputs": [
    {
     "name": "stdout",
     "output_type": "stream",
     "text": [
      "Index(['*', '+', '1', '2', '3', '4', '5', '6', '7', '8', '9', '@', 'N', 'S'], dtype='object')\n",
      "*        1\n",
      "+       73\n",
      "1     1573\n",
      "2     1232\n",
      "3      849\n",
      "4      515\n",
      "5      285\n",
      "6      204\n",
      "7      119\n",
      "8       90\n",
      "9       83\n",
      "@        1\n",
      "N    51953\n",
      "S     9455\n",
      "Name: ESTU_TRABAJA, dtype: int64\n",
      "Elementos null/NaN 3302\n",
      "__________________\n",
      "Elementos diferentes de null/NaN: 66433\n",
      "__________________\n",
      "(66433,)\n",
      "None\n"
     ]
    }
   ],
   "source": [
    "print(data_2003['ESTU_TRABAJA'].value_counts().sort_index().index)\n",
    "print(data_2003['ESTU_TRABAJA'].value_counts().sort_index())\n",
    "print(missing_data(data_2003['ESTU_TRABAJA']))"
   ]
  },
  {
   "cell_type": "code",
   "execution_count": 63,
   "metadata": {
    "collapsed": true
   },
   "outputs": [],
   "source": [
    "data_2003['ESTU_TRABAJA'] = data_2003['ESTU_TRABAJA'].replace('*', np.nan)\n",
    "data_2003['ESTU_TRABAJA'] = data_2003['ESTU_TRABAJA'].replace('+', np.nan)\n",
    "data_2003['ESTU_TRABAJA'] = data_2003['ESTU_TRABAJA'].replace('@', np.nan)"
   ]
  },
  {
   "cell_type": "code",
   "execution_count": 144,
   "metadata": {
    "collapsed": false,
    "scrolled": true
   },
   "outputs": [
    {
     "name": "stdout",
     "output_type": "stream",
     "text": [
      "cant null antes: 3361\n",
      "cant null despues: 0\n"
     ]
    }
   ],
   "source": [
    "Do_resamples(data_2003, 'ESTU_TRABAJA', str)"
   ]
  },
  {
   "cell_type": "code",
   "execution_count": 64,
   "metadata": {
    "collapsed": false
   },
   "outputs": [
    {
     "name": "stdout",
     "output_type": "stream",
     "text": [
      "Index(['1', '2', '3', '@', 'N', 'P', 'T'], dtype='object')\n",
      "1    20422\n",
      "2     1293\n",
      "3    41909\n",
      "@       32\n",
      "N      810\n",
      "P     1095\n",
      "T     3265\n",
      "Name: ESTU_ACT_PROX_ANNO, dtype: int64\n",
      "Elementos null/NaN 909\n",
      "__________________\n",
      "Elementos diferentes de null/NaN: 68826\n",
      "__________________\n",
      "(68826,)\n",
      "None\n"
     ]
    }
   ],
   "source": [
    "print(data_2003['ESTU_ACT_PROX_ANNO'].value_counts().sort_index().index)\n",
    "print(data_2003['ESTU_ACT_PROX_ANNO'].value_counts().sort_index())\n",
    "print(missing_data(data_2003['ESTU_ACT_PROX_ANNO']))"
   ]
  },
  {
   "cell_type": "code",
   "execution_count": 65,
   "metadata": {
    "collapsed": true
   },
   "outputs": [],
   "source": [
    "data_2003['ESTU_ACT_PROX_ANNO'] = data_2003['ESTU_ACT_PROX_ANNO'].replace('@', np.nan)\n",
    "data_2003['ESTU_ACT_PROX_ANNO'] = data_2003['ESTU_ACT_PROX_ANNO'].replace('N', np.nan)\n",
    "data_2003['ESTU_ACT_PROX_ANNO'] = data_2003['ESTU_ACT_PROX_ANNO'].replace('P', np.nan)\n",
    "data_2003['ESTU_ACT_PROX_ANNO'] = data_2003['ESTU_ACT_PROX_ANNO'].replace('T', np.nan)"
   ]
  },
  {
   "cell_type": "code",
   "execution_count": 145,
   "metadata": {
    "collapsed": false,
    "scrolled": true
   },
   "outputs": [
    {
     "name": "stdout",
     "output_type": "stream",
     "text": [
      "cant null antes: 6063\n",
      "cant null despues: 0\n"
     ]
    }
   ],
   "source": [
    "Do_resamples(data_2003, 'ESTU_ACT_PROX_ANNO', str)"
   ]
  },
  {
   "cell_type": "code",
   "execution_count": 66,
   "metadata": {
    "collapsed": false
   },
   "outputs": [
    {
     "name": "stdout",
     "output_type": "stream",
     "text": [
      "Index(['A', 'B', 'F'], dtype='object')\n",
      "A      706\n",
      "B    45690\n",
      "F    23339\n",
      "Name: COLE_CALENDARIO, dtype: int64\n",
      "Elementos null/NaN 0\n",
      "__________________\n",
      "Elementos diferentes de null/NaN: 69735\n",
      "__________________\n",
      "(69735,)\n",
      "None\n"
     ]
    }
   ],
   "source": [
    "print(data_2003['COLE_CALENDARIO'].value_counts().sort_index().index)\n",
    "print(data_2003['COLE_CALENDARIO'].value_counts().sort_index())\n",
    "print(missing_data(data_2003['COLE_CALENDARIO']))"
   ]
  },
  {
   "cell_type": "code",
   "execution_count": 67,
   "metadata": {
    "collapsed": false
   },
   "outputs": [
    {
     "name": "stdout",
     "output_type": "stream",
     "text": [
      "Float64Index([1.0, 2.0], dtype='float64')\n",
      "1.0    2079\n",
      "2.0     181\n",
      "Name: COLE_BILINGUE, dtype: int64\n",
      "Elementos null/NaN 67475\n",
      "__________________\n",
      "Elementos diferentes de null/NaN: 2260\n",
      "__________________\n",
      "(2260,)\n",
      "None\n"
     ]
    }
   ],
   "source": [
    "print(data_2003['COLE_BILINGUE'].value_counts().sort_index().index)\n",
    "print(data_2003['COLE_BILINGUE'].value_counts().sort_index())\n",
    "print(missing_data(data_2003['COLE_BILINGUE']))"
   ]
  },
  {
   "cell_type": "code",
   "execution_count": 147,
   "metadata": {
    "collapsed": false,
    "scrolled": true
   },
   "outputs": [
    {
     "ename": "TypeError",
     "evalue": "unorderable types: float() > str()",
     "output_type": "error",
     "traceback": [
      "\u001b[1;31m---------------------------------------------------------------------------\u001b[0m",
      "\u001b[1;31mTypeError\u001b[0m                                 Traceback (most recent call last)",
      "\u001b[1;32m/home/Foreroo/Proyecto/New_Project/tools/label_encoder.py\u001b[0m in \u001b[0;36m<module>\u001b[1;34m()\u001b[0m\n\u001b[1;32m----> 1\u001b[1;33m \u001b[0mDo_resamples\u001b[0m\u001b[1;33m(\u001b[0m\u001b[0mdata_2003\u001b[0m\u001b[1;33m,\u001b[0m \u001b[1;34m'COLE_BILINGUE'\u001b[0m\u001b[1;33m,\u001b[0m \u001b[0mfloat\u001b[0m\u001b[1;33m)\u001b[0m\u001b[1;33m\u001b[0m\u001b[0m\n\u001b[0m",
      "\u001b[1;32m/home/Foreroo/Proyecto/New_Project/tools/label_encoder.py\u001b[0m in \u001b[0;36mDo_resamples\u001b[1;34m(df, col, typ)\u001b[0m\n\u001b[0;32m     12\u001b[0m \u001b[1;33m\u001b[0m\u001b[0m\n\u001b[0;32m     13\u001b[0m \u001b[1;32mdef\u001b[0m \u001b[0mDo_resamples\u001b[0m\u001b[1;33m(\u001b[0m\u001b[0mdf\u001b[0m\u001b[1;33m,\u001b[0m \u001b[0mcol\u001b[0m\u001b[1;33m,\u001b[0m \u001b[0mtyp\u001b[0m\u001b[1;33m)\u001b[0m\u001b[1;33m:\u001b[0m\u001b[1;33m\u001b[0m\u001b[0m\n\u001b[1;32m---> 14\u001b[1;33m     \u001b[0mp\u001b[0m \u001b[1;33m=\u001b[0m \u001b[0mget_proportions\u001b[0m\u001b[1;33m(\u001b[0m\u001b[0mdf\u001b[0m\u001b[1;33m,\u001b[0m \u001b[0mcol\u001b[0m\u001b[1;33m)\u001b[0m\u001b[1;33m\u001b[0m\u001b[0m\n\u001b[0m\u001b[0;32m     15\u001b[0m     \u001b[0mdf\u001b[0m\u001b[1;33m,\u001b[0m \u001b[0mr\u001b[0m \u001b[1;33m=\u001b[0m \u001b[0mresample_NaN_proportion\u001b[0m\u001b[1;33m(\u001b[0m\u001b[0mdf\u001b[0m\u001b[1;33m,\u001b[0m \u001b[0mcol\u001b[0m\u001b[1;33m,\u001b[0m \u001b[0mp\u001b[0m\u001b[1;33m,\u001b[0m \u001b[0mtyp\u001b[0m\u001b[1;33m)\u001b[0m\u001b[1;33m\u001b[0m\u001b[0m\n\u001b[0;32m     16\u001b[0m     \u001b[1;32mwhile\u001b[0m\u001b[1;33m(\u001b[0m\u001b[0mr\u001b[0m \u001b[1;33m!=\u001b[0m \u001b[1;36m0\u001b[0m\u001b[1;33m)\u001b[0m\u001b[1;33m:\u001b[0m\u001b[1;33m\u001b[0m\u001b[0m\n",
      "\u001b[1;32m/home/Foreroo/Proyecto/New_Project/tools/label_encoder.py\u001b[0m in \u001b[0;36mget_proportions\u001b[1;34m(df, col)\u001b[0m\n\u001b[0;32m     20\u001b[0m     \u001b[1;34m\"\"\"This function get the proportion of each value found in the DataFramea into a list\"\"\"\u001b[0m\u001b[1;33m\u001b[0m\u001b[0m\n\u001b[0;32m     21\u001b[0m     \u001b[0mp\u001b[0m \u001b[1;33m=\u001b[0m \u001b[1;33m[\u001b[0m\u001b[1;33m]\u001b[0m\u001b[1;33m\u001b[0m\u001b[0m\n\u001b[1;32m---> 22\u001b[1;33m     \u001b[1;32mfor\u001b[0m \u001b[0mi\u001b[0m\u001b[1;33m,\u001b[0m \u001b[0mj\u001b[0m \u001b[1;32min\u001b[0m \u001b[0menumerate\u001b[0m\u001b[1;33m(\u001b[0m\u001b[0mdf\u001b[0m\u001b[1;33m[\u001b[0m\u001b[0mcol\u001b[0m\u001b[1;33m]\u001b[0m\u001b[1;33m.\u001b[0m\u001b[0mvalue_counts\u001b[0m\u001b[1;33m(\u001b[0m\u001b[1;33m)\u001b[0m\u001b[1;33m.\u001b[0m\u001b[0msort_index\u001b[0m\u001b[1;33m(\u001b[0m\u001b[1;33m)\u001b[0m\u001b[1;33m.\u001b[0m\u001b[0mvalues\u001b[0m\u001b[1;33m,\u001b[0m \u001b[1;36m1\u001b[0m\u001b[1;33m)\u001b[0m\u001b[1;33m:\u001b[0m\u001b[1;33m\u001b[0m\u001b[0m\n\u001b[0m\u001b[0;32m     23\u001b[0m         \u001b[0mp\u001b[0m\u001b[1;33m.\u001b[0m\u001b[0mappend\u001b[0m\u001b[1;33m(\u001b[0m\u001b[1;33m(\u001b[0m\u001b[0mj\u001b[0m\u001b[1;33m)\u001b[0m\u001b[1;33m/\u001b[0m\u001b[0mdf\u001b[0m\u001b[1;33m[\u001b[0m\u001b[0mcol\u001b[0m\u001b[1;33m]\u001b[0m\u001b[1;33m.\u001b[0m\u001b[0mvalue_counts\u001b[0m\u001b[1;33m(\u001b[0m\u001b[1;33m)\u001b[0m\u001b[1;33m.\u001b[0m\u001b[0msort_index\u001b[0m\u001b[1;33m(\u001b[0m\u001b[1;33m)\u001b[0m\u001b[1;33m.\u001b[0m\u001b[0mvalues\u001b[0m\u001b[1;33m.\u001b[0m\u001b[0msum\u001b[0m\u001b[1;33m(\u001b[0m\u001b[1;33m)\u001b[0m\u001b[1;33m)\u001b[0m\u001b[1;33m\u001b[0m\u001b[0m\n\u001b[0;32m     24\u001b[0m     \u001b[0mT\u001b[0m \u001b[1;33m=\u001b[0m \u001b[0mdf\u001b[0m\u001b[1;33m[\u001b[0m\u001b[0mcol\u001b[0m\u001b[1;33m]\u001b[0m\u001b[1;33m.\u001b[0m\u001b[0misnull\u001b[0m\u001b[1;33m(\u001b[0m\u001b[1;33m)\u001b[0m\u001b[1;33m.\u001b[0m\u001b[0msum\u001b[0m\u001b[1;33m(\u001b[0m\u001b[1;33m)\u001b[0m\u001b[1;33m\u001b[0m\u001b[0m\n",
      "\u001b[1;32m/usr/local/anaconda3/lib/python3.5/site-packages/pandas/core/series.py\u001b[0m in \u001b[0;36msort_index\u001b[1;34m(self, axis, level, ascending, inplace, sort_remaining)\u001b[0m\n\u001b[0;32m   1767\u001b[0m         \u001b[1;32melse\u001b[0m\u001b[1;33m:\u001b[0m\u001b[1;33m\u001b[0m\u001b[0m\n\u001b[0;32m   1768\u001b[0m             new_index, indexer = index.sort_values(return_indexer=True,\n\u001b[1;32m-> 1769\u001b[1;33m                                                    ascending=ascending)\n\u001b[0m\u001b[0;32m   1770\u001b[0m \u001b[1;33m\u001b[0m\u001b[0m\n\u001b[0;32m   1771\u001b[0m         \u001b[0mnew_values\u001b[0m \u001b[1;33m=\u001b[0m \u001b[0mself\u001b[0m\u001b[1;33m.\u001b[0m\u001b[0m_values\u001b[0m\u001b[1;33m.\u001b[0m\u001b[0mtake\u001b[0m\u001b[1;33m(\u001b[0m\u001b[0mindexer\u001b[0m\u001b[1;33m)\u001b[0m\u001b[1;33m\u001b[0m\u001b[0m\n",
      "\u001b[1;32m/usr/local/anaconda3/lib/python3.5/site-packages/pandas/indexes/base.py\u001b[0m in \u001b[0;36msort_values\u001b[1;34m(self, return_indexer, ascending)\u001b[0m\n\u001b[0;32m   1518\u001b[0m         \u001b[0mReturn\u001b[0m \u001b[0msorted\u001b[0m \u001b[0mcopy\u001b[0m \u001b[0mof\u001b[0m \u001b[0mIndex\u001b[0m\u001b[1;33m\u001b[0m\u001b[0m\n\u001b[0;32m   1519\u001b[0m         \"\"\"\n\u001b[1;32m-> 1520\u001b[1;33m         \u001b[0m_as\u001b[0m \u001b[1;33m=\u001b[0m \u001b[0mself\u001b[0m\u001b[1;33m.\u001b[0m\u001b[0margsort\u001b[0m\u001b[1;33m(\u001b[0m\u001b[1;33m)\u001b[0m\u001b[1;33m\u001b[0m\u001b[0m\n\u001b[0m\u001b[0;32m   1521\u001b[0m         \u001b[1;32mif\u001b[0m \u001b[1;32mnot\u001b[0m \u001b[0mascending\u001b[0m\u001b[1;33m:\u001b[0m\u001b[1;33m\u001b[0m\u001b[0m\n\u001b[0;32m   1522\u001b[0m             \u001b[0m_as\u001b[0m \u001b[1;33m=\u001b[0m \u001b[0m_as\u001b[0m\u001b[1;33m[\u001b[0m\u001b[1;33m:\u001b[0m\u001b[1;33m:\u001b[0m\u001b[1;33m-\u001b[0m\u001b[1;36m1\u001b[0m\u001b[1;33m]\u001b[0m\u001b[1;33m\u001b[0m\u001b[0m\n",
      "\u001b[1;32m/usr/local/anaconda3/lib/python3.5/site-packages/pandas/indexes/base.py\u001b[0m in \u001b[0;36margsort\u001b[1;34m(self, *args, **kwargs)\u001b[0m\n\u001b[0;32m   1587\u001b[0m         \u001b[1;32mif\u001b[0m \u001b[0mresult\u001b[0m \u001b[1;32mis\u001b[0m \u001b[1;32mNone\u001b[0m\u001b[1;33m:\u001b[0m\u001b[1;33m\u001b[0m\u001b[0m\n\u001b[0;32m   1588\u001b[0m             \u001b[0mresult\u001b[0m \u001b[1;33m=\u001b[0m \u001b[0mnp\u001b[0m\u001b[1;33m.\u001b[0m\u001b[0marray\u001b[0m\u001b[1;33m(\u001b[0m\u001b[0mself\u001b[0m\u001b[1;33m)\u001b[0m\u001b[1;33m\u001b[0m\u001b[0m\n\u001b[1;32m-> 1589\u001b[1;33m         \u001b[1;32mreturn\u001b[0m \u001b[0mresult\u001b[0m\u001b[1;33m.\u001b[0m\u001b[0margsort\u001b[0m\u001b[1;33m(\u001b[0m\u001b[1;33m*\u001b[0m\u001b[0margs\u001b[0m\u001b[1;33m,\u001b[0m \u001b[1;33m**\u001b[0m\u001b[0mkwargs\u001b[0m\u001b[1;33m)\u001b[0m\u001b[1;33m\u001b[0m\u001b[0m\n\u001b[0m\u001b[0;32m   1590\u001b[0m \u001b[1;33m\u001b[0m\u001b[0m\n\u001b[0;32m   1591\u001b[0m     \u001b[1;32mdef\u001b[0m \u001b[0m__add__\u001b[0m\u001b[1;33m(\u001b[0m\u001b[0mself\u001b[0m\u001b[1;33m,\u001b[0m \u001b[0mother\u001b[0m\u001b[1;33m)\u001b[0m\u001b[1;33m:\u001b[0m\u001b[1;33m\u001b[0m\u001b[0m\n",
      "\u001b[1;31mTypeError\u001b[0m: unorderable types: float() > str()"
     ]
    }
   ],
   "source": [
    "Do_resamples(data_2003, 'COLE_BILINGUE', float)"
   ]
  },
  {
   "cell_type": "code",
   "execution_count": 68,
   "metadata": {
    "collapsed": false
   },
   "outputs": [
    {
     "name": "stdout",
     "output_type": "stream",
     "text": [
      "Index(['ACADEMICO', 'ACADEMICO Y TECNICO', 'NORMALISTA', 'TECNICO'], dtype='object')\n",
      "ACADEMICO              37788\n",
      "ACADEMICO Y TECNICO    14076\n",
      "NORMALISTA               942\n",
      "TECNICO                16929\n",
      "Name: COLE_CARACTER, dtype: int64\n",
      "Elementos null/NaN 0\n",
      "__________________\n",
      "Elementos diferentes de null/NaN: 69735\n",
      "__________________\n",
      "(69735,)\n",
      "None\n"
     ]
    }
   ],
   "source": [
    "print(data_2003['COLE_CARACTER'].value_counts().sort_index().index)\n",
    "print(data_2003['COLE_CARACTER'].value_counts().sort_index())\n",
    "print(missing_data(data_2003['COLE_CARACTER']))"
   ]
  },
  {
   "cell_type": "code",
   "execution_count": 69,
   "metadata": {
    "collapsed": false,
    "scrolled": true
   },
   "outputs": [
    {
     "name": "stdout",
     "output_type": "stream",
     "text": [
      "Index(['ANTIOQUIA', 'ARAUCA', 'ATLANTICO', 'BOGOTA', 'BOLIVAR', 'BOYACA',\n",
      "       'CALDAS', 'CAQUETA', 'CASANARE', 'CAUCA', 'CESAR', 'CHOCO', 'CORDOBA',\n",
      "       'CUNDINAMARCA', 'GUAVIARE', 'HUILA', 'LA GUAJIRA', 'MAGDALENA', 'META',\n",
      "       'NARIÑO', 'NORTE SANTANDER', 'PUTUMAYO', 'QUINDIO', 'RISARALDA',\n",
      "       'SANTANDER', 'SUCRE', 'TOLIMA', 'VALLE'],\n",
      "      dtype='object')\n",
      "ANTIOQUIA           3296\n",
      "ARAUCA                52\n",
      "ATLANTICO            722\n",
      "BOGOTA              8062\n",
      "BOLIVAR              359\n",
      "BOYACA               800\n",
      "CALDAS               453\n",
      "CAQUETA              186\n",
      "CASANARE             168\n",
      "CAUCA               1740\n",
      "CESAR                 69\n",
      "CHOCO                 32\n",
      "CORDOBA              225\n",
      "CUNDINAMARCA        2247\n",
      "GUAVIARE              22\n",
      "HUILA                743\n",
      "LA GUAJIRA           171\n",
      "MAGDALENA            128\n",
      "META                 608\n",
      "NARIÑO             12057\n",
      "NORTE SANTANDER      596\n",
      "PUTUMAYO             105\n",
      "QUINDIO              636\n",
      "RISARALDA            518\n",
      "SANTANDER           1187\n",
      "SUCRE                  2\n",
      "TOLIMA               772\n",
      "VALLE              33779\n",
      "Name: COLE_DEPTO_UBICACION, dtype: int64\n",
      "Elementos null/NaN 0\n",
      "__________________\n",
      "Elementos diferentes de null/NaN: 69735\n",
      "__________________\n",
      "(69735,)\n",
      "None\n"
     ]
    }
   ],
   "source": [
    "print(data_2003['COLE_DEPTO_UBICACION'].value_counts().sort_index().index)\n",
    "print(data_2003['COLE_DEPTO_UBICACION'].value_counts().sort_index())\n",
    "print(missing_data(data_2003['COLE_DEPTO_UBICACION']))"
   ]
  },
  {
   "cell_type": "code",
   "execution_count": 70,
   "metadata": {
    "collapsed": false,
    "scrolled": true
   },
   "outputs": [
    {
     "name": "stdout",
     "output_type": "stream",
     "text": [
      "Index(['ACEVEDO', 'AGRADO', 'AGUA DE DIOS', 'AGUACHICA', 'AGUAZUL',\n",
      "       'ALBAN (SAN JOSE)', 'ALBANIA', 'ALCALA', 'ALDANA', 'ALGECIRAS',\n",
      "       ...\n",
      "       'VILLETA', 'YACUANQUER', 'YAGUARA', 'YONDO (CASABE)', 'YOPAL', 'YOTOCO',\n",
      "       'YUMBO', 'ZAPATOCA', 'ZARZAL', 'ZIPAQUIRA'],\n",
      "      dtype='object', length=302)\n",
      "ACEVEDO                     16\n",
      "AGRADO                      11\n",
      "AGUA DE DIOS                34\n",
      "AGUACHICA                   15\n",
      "AGUAZUL                     21\n",
      "ALBAN (SAN JOSE)            56\n",
      "ALBANIA                     37\n",
      "ALCALA                     105\n",
      "ALDANA                      63\n",
      "ALGECIRAS                   12\n",
      "ALMAGUER                     5\n",
      "ANCUYA                      67\n",
      "ANDALUCIA                  200\n",
      "ANDES                       37\n",
      "ANSERMANUEVO                86\n",
      "ANTIOQUIA                   51\n",
      "APARTADO                    52\n",
      "APIA                        61\n",
      "ARANZAZU                    19\n",
      "ARAUCA                      36\n",
      "ARBOLEDA (BERRUECOS)        59\n",
      "ARGELIA                     46\n",
      "ARMENIA                    386\n",
      "BARAYA                       8\n",
      "BARBACOAS                  111\n",
      "BARBOSA                     50\n",
      "BARRANCABERMEJA             53\n",
      "BARRANQUILLA               661\n",
      "BELEN                       74\n",
      "BELEN DE LOS ANDAQUIES      15\n",
      "                          ... \n",
      "TOTORO                      86\n",
      "TRUJILLO                    97\n",
      "TULUA                     1764\n",
      "TUMACO                     990\n",
      "TUNJA                      346\n",
      "TUQUERRES                  323\n",
      "TURBACO                     53\n",
      "TURBO                       23\n",
      "TUTA                         8\n",
      "UBATE                       49\n",
      "ULLOA                       26\n",
      "VALENCIA                    22\n",
      "VALLEDUPAR                  36\n",
      "VALPARAISO                  11\n",
      "VELEZ                       39\n",
      "VERSALLES                   64\n",
      "VIJES                       56\n",
      "VILLAGARZON                 16\n",
      "VILLAMARIA                  13\n",
      "VILLAVICENCIO              472\n",
      "VILLETA                     79\n",
      "YACUANQUER                 105\n",
      "YAGUARA                     15\n",
      "YONDO (CASABE)              17\n",
      "YOPAL                      109\n",
      "YOTOCO                      73\n",
      "YUMBO                      789\n",
      "ZAPATOCA                     8\n",
      "ZARZAL                     371\n",
      "ZIPAQUIRA                  125\n",
      "Name: COLE_MCPIO_UBICACION, dtype: int64\n",
      "Elementos null/NaN 0\n",
      "__________________\n",
      "Elementos diferentes de null/NaN: 69735\n",
      "__________________\n",
      "(69735,)\n",
      "None\n"
     ]
    }
   ],
   "source": [
    "print(data_2003['COLE_MCPIO_UBICACION'].value_counts().sort_index().index)\n",
    "print(data_2003['COLE_MCPIO_UBICACION'].value_counts().sort_index())\n",
    "print(missing_data(data_2003['COLE_MCPIO_UBICACION']))"
   ]
  },
  {
   "cell_type": "code",
   "execution_count": 71,
   "metadata": {
    "collapsed": false,
    "scrolled": true
   },
   "outputs": [
    {
     "name": "stdout",
     "output_type": "stream",
     "text": [
      "Index(['ANTIOQUIA', 'ARAUCA', 'ATLANTICO', 'BOGOTA', 'BOLIVAR', 'BOYACA',\n",
      "       'CALDAS', 'CAQUETA', 'CASANARE', 'CAUCA', 'CESAR', 'CHOCO', 'CORDOBA',\n",
      "       'CUNDINAMARCA', 'GUAVIARE', 'HUILA', 'LA GUAJIRA', 'MAGDALENA', 'META',\n",
      "       'NARIÑO', 'NORTE SANTANDER', 'PUTUMAYO', 'QUINDIO', 'RISARALDA',\n",
      "       'SANTANDER', 'SUCRE', 'TOLIMA', 'VALLE'],\n",
      "      dtype='object')\n",
      "ANTIOQUIA           3290\n",
      "ARAUCA                53\n",
      "ATLANTICO            722\n",
      "BOGOTA              8528\n",
      "BOLIVAR              350\n",
      "BOYACA               791\n",
      "CALDAS               464\n",
      "CAQUETA              183\n",
      "CASANARE             165\n",
      "CAUCA               1741\n",
      "CESAR                105\n",
      "CHOCO                 32\n",
      "CORDOBA              215\n",
      "CUNDINAMARCA        1945\n",
      "GUAVIARE              41\n",
      "HUILA                741\n",
      "LA GUAJIRA           136\n",
      "MAGDALENA            128\n",
      "META                 586\n",
      "NARIÑO             12053\n",
      "NORTE SANTANDER      590\n",
      "PUTUMAYO             104\n",
      "QUINDIO              640\n",
      "RISARALDA            523\n",
      "SANTANDER           1175\n",
      "SUCRE                 10\n",
      "TOLIMA               652\n",
      "VALLE              33772\n",
      "Name: ESTU_RESIDE_DEPTO, dtype: int64\n",
      "Elementos null/NaN 0\n",
      "__________________\n",
      "Elementos diferentes de null/NaN: 69735\n",
      "__________________\n",
      "(69735,)\n",
      "None\n"
     ]
    }
   ],
   "source": [
    "print(data_2003['ESTU_RESIDE_DEPTO'].value_counts().sort_index().index)\n",
    "print(data_2003['ESTU_RESIDE_DEPTO'].value_counts().sort_index())\n",
    "print(missing_data(data_2003['ESTU_RESIDE_DEPTO']))"
   ]
  },
  {
   "cell_type": "code",
   "execution_count": 72,
   "metadata": {
    "collapsed": false,
    "scrolled": true
   },
   "outputs": [
    {
     "name": "stdout",
     "output_type": "stream",
     "text": [
      "Index(['ACACIAS', 'AGUACHICA', 'ALBANIA', 'ALCALA', 'ANDALUCIA',\n",
      "       'ANSERMANUEVO', 'APARTADO', 'ARAUCA', 'ARMENIA', 'BALBOA',\n",
      "       ...\n",
      "       'TUQUERRES', 'UBATE', 'VALLEDUPAR', 'VELEZ', 'VILLAVICENCIO', 'YOLOMBO',\n",
      "       'YOPAL', 'YUMBO', 'ZARZAL', 'ZIPAQUIRA'],\n",
      "      dtype='object', length=136)\n",
      "ACACIAS                      15\n",
      "AGUACHICA                    15\n",
      "ALBANIA                      37\n",
      "ALCALA                      118\n",
      "ANDALUCIA                   189\n",
      "ANSERMANUEVO                 80\n",
      "APARTADO                     78\n",
      "ARAUCA                       21\n",
      "ARMENIA                     541\n",
      "BALBOA                        2\n",
      "BARBACOAS                   137\n",
      "BARRANCABERMEJA             116\n",
      "BARRANQUILLA                722\n",
      "BELLO                       409\n",
      "BOGOTA D.C.                8528\n",
      "BOLIVAR                      81\n",
      "BOSCONIA                      5\n",
      "BUCARAMANGA                 934\n",
      "BUENAVENTURA               1986\n",
      "BUESACO                     178\n",
      "BUGA                       1395\n",
      "BUGALAGRANDE                210\n",
      "CAICEDONIA                  266\n",
      "CALI                      17415\n",
      "CALIMA (DARIEN)             153\n",
      "CALOTO                       15\n",
      "CAMPOALEGRE                  49\n",
      "CANDELARIA                  595\n",
      "CARTAGENA                   309\n",
      "CARTAGO                    1364\n",
      "                          ...  \n",
      "SANDONA                     234\n",
      "SANTA MARTA                  56\n",
      "SANTA ROSA DE OSOS           76\n",
      "SANTANDER DE QUILICHAO      232\n",
      "SARAVENA                     14\n",
      "SEVILLA                     357\n",
      "SILVIA                        2\n",
      "SINCELEJO                    10\n",
      "SOACHA                      361\n",
      "SOGAMOSO                    269\n",
      "TAME                         18\n",
      "TAMINANGO                   157\n",
      "TANGUA                       46\n",
      "TIERRALTA                    18\n",
      "TIMBIO                       55\n",
      "TORO                        100\n",
      "TRUJILLO                     98\n",
      "TULUA                      1950\n",
      "TUMACO                     1065\n",
      "TUNJA                       469\n",
      "TUQUERRES                   464\n",
      "UBATE                        91\n",
      "VALLEDUPAR                   85\n",
      "VELEZ                        47\n",
      "VILLAVICENCIO               488\n",
      "YOLOMBO                      17\n",
      "YOPAL                       155\n",
      "YUMBO                       811\n",
      "ZARZAL                      398\n",
      "ZIPAQUIRA                   185\n",
      "Name: ESTU_RESIDE_MCPIO, dtype: int64\n",
      "Elementos null/NaN 0\n",
      "__________________\n",
      "Elementos diferentes de null/NaN: 69735\n",
      "__________________\n",
      "(69735,)\n",
      "None\n"
     ]
    }
   ],
   "source": [
    "print(data_2003['ESTU_RESIDE_MCPIO'].value_counts().sort_index().index)\n",
    "print(data_2003['ESTU_RESIDE_MCPIO'].value_counts().sort_index())\n",
    "print(missing_data(data_2003['ESTU_RESIDE_MCPIO']))"
   ]
  },
  {
   "cell_type": "markdown",
   "metadata": {},
   "source": [
    "### TARGETS"
   ]
  },
  {
   "cell_type": "code",
   "execution_count": 73,
   "metadata": {
    "collapsed": false,
    "scrolled": true
   },
   "outputs": [
    {
     "name": "stdout",
     "output_type": "stream",
     "text": [
      "Index([ '40',  '42',  '43',  '39',  '44',  '37',  '46',  '47',  '36',  '48',\n",
      "        '49',    43,    42,    40,  '34',    44,    39,    46,  '51',    47,\n",
      "          37,  '52',    48,    49,  '31',  '53',    51,    36,    52,  '54',\n",
      "          53,    34,    54,  '55',  '29',    55,    57,  '57',    58,    31,\n",
      "        '58',    59,    61,  '26',  '59',    29,  '61',    63,  '63',    64,\n",
      "        '21',    26,    66,  '64',  '66',    69,  '14',    21,    71,  '69',\n",
      "       '---',    14,    74,   '0',  '86',    79],\n",
      "      dtype='object')\n",
      "40     4962\n",
      "42     4895\n",
      "43     4732\n",
      "39     4380\n",
      "44     4174\n",
      "37     3631\n",
      "46     3521\n",
      "47     2929\n",
      "36     2753\n",
      "48     2421\n",
      "49     1867\n",
      "43     1756\n",
      "42     1722\n",
      "40     1714\n",
      "34     1690\n",
      "44     1645\n",
      "39     1490\n",
      "46     1455\n",
      "51     1446\n",
      "47     1290\n",
      "37     1218\n",
      "52     1059\n",
      "48     1058\n",
      "49      975\n",
      "31      951\n",
      "53      865\n",
      "51      822\n",
      "36      788\n",
      "52      750\n",
      "54      658\n",
      "       ... \n",
      "57      403\n",
      "57      372\n",
      "58      283\n",
      "31      271\n",
      "58      241\n",
      "59      223\n",
      "61      174\n",
      "26      165\n",
      "59      158\n",
      "29      117\n",
      "61      112\n",
      "63       98\n",
      "63       77\n",
      "64       60\n",
      "21       52\n",
      "26       39\n",
      "66       38\n",
      "64       34\n",
      "66       29\n",
      "69       27\n",
      "14       18\n",
      "21       13\n",
      "71       11\n",
      "69        8\n",
      "---       5\n",
      "14        3\n",
      "74        3\n",
      "0         3\n",
      "86        2\n",
      "79        1\n",
      "Name: PUNT_BIOLOGIA, dtype: int64\n",
      "Elementos null/NaN 0\n",
      "__________________\n",
      "Elementos diferentes de null/NaN: 69735\n",
      "__________________\n",
      "(69735,)\n",
      "None\n"
     ]
    }
   ],
   "source": [
    "print(data_2003['PUNT_BIOLOGIA'].value_counts().index)\n",
    "print(data_2003['PUNT_BIOLOGIA'].value_counts())\n",
    "print(missing_data(data_2003['PUNT_BIOLOGIA']))"
   ]
  },
  {
   "cell_type": "code",
   "execution_count": 74,
   "metadata": {
    "collapsed": false
   },
   "outputs": [],
   "source": [
    "data_2003['PUNT_BIOLOGIA'] = data_2003['PUNT_BIOLOGIA'].replace('---', np.nan)\n",
    "for i in data_2003['PUNT_BIOLOGIA'].value_counts().index:\n",
    "    if type(i) == str:\n",
    "        data_2003['PUNT_BIOLOGIA'] = data_2003['PUNT_BIOLOGIA'].replace(i, int(i))"
   ]
  },
  {
   "cell_type": "code",
   "execution_count": 150,
   "metadata": {
    "collapsed": false,
    "scrolled": true
   },
   "outputs": [],
   "source": [
    "data_2003['PUNT_BIOLOGIA'].fillna(int(np.mean(data_2003['PUNT_BIOLOGIA'])), inplace=True)"
   ]
  },
  {
   "cell_type": "code",
   "execution_count": 153,
   "metadata": {
    "collapsed": false,
    "scrolled": true
   },
   "outputs": [
    {
     "name": "stdout",
     "output_type": "stream",
     "text": [
      "Float64Index([  0.0,   1.0,   4.0,   9.0,  13.0,  17.0,  20.0,  22.0,  24.0,\n",
      "               26.0,  28.0,  30.0,  32.0,  33.0,  35.0,  37.0,  38.0,  40.0,\n",
      "               41.0,  43.0,  45.0,  46.0,  48.0,  49.0,  51.0,  53.0,  55.0,\n",
      "               57.0,  59.0,  62.0,  65.0,  68.0,  73.0,  78.0,  87.0, 100.0],\n",
      "             dtype='float64')\n",
      "41.0     8625\n",
      "43.0     8334\n",
      "40.0     7906\n",
      "45.0     7414\n",
      "38.0     6808\n",
      "46.0     5788\n",
      "37.0     5169\n",
      "48.0     4211\n",
      "35.0     3542\n",
      "49.0     2871\n",
      "33.0     2186\n",
      "51.0     1714\n",
      "32.0     1229\n",
      "53.0     1077\n",
      "30.0      638\n",
      "55.0      595\n",
      "57.0      366\n",
      "28.0      298\n",
      "59.0      210\n",
      "26.0      168\n",
      "62.0      155\n",
      "65.0       96\n",
      "24.0       71\n",
      "68.0       65\n",
      "73.0       32\n",
      "22.0       29\n",
      "20.0       22\n",
      "17.0       19\n",
      "13.0        8\n",
      "0.0         8\n",
      "78.0        8\n",
      "9.0         5\n",
      "87.0        4\n",
      "1.0         4\n",
      "4.0         2\n",
      "100.0       1\n",
      "Name: PUNT_MATEMATICAS, dtype: int64\n",
      "Elementos null/NaN 8\n",
      "__________________\n",
      "Elementos diferentes de null/NaN: 69678\n",
      "__________________\n",
      "(69678,)\n",
      "None\n"
     ]
    }
   ],
   "source": [
    "print(data_2003['PUNT_MATEMATICAS'].value_counts().index)\n",
    "print(data_2003['PUNT_MATEMATICAS'].value_counts())\n",
    "print(missing_data(data_2003['PUNT_MATEMATICAS']))"
   ]
  },
  {
   "cell_type": "code",
   "execution_count": 152,
   "metadata": {
    "collapsed": true
   },
   "outputs": [],
   "source": [
    "data_2003['PUNT_MATEMATICAS'] = data_2003['PUNT_MATEMATICAS'].replace('---', np.nan)\n",
    "for i in data_2003['PUNT_MATEMATICAS'].value_counts().index:\n",
    "    if type(i) == str:\n",
    "        data_2003['PUNT_MATEMATICAS'] = data_2003['PUNT_MATEMATICAS'].replace(i, int(i))\n",
    "for i in data_2003['PUNT_MATEMATICAS'].value_counts().index:\n",
    "    if i > 100:\n",
    "        data_2003['PUNT_MATEMATICAS'] = data_2003['PUNT_MATEMATICAS'].replace(i, 100)"
   ]
  },
  {
   "cell_type": "code",
   "execution_count": 154,
   "metadata": {
    "collapsed": false,
    "scrolled": true
   },
   "outputs": [],
   "source": [
    "data_2003['PUNT_MATEMATICAS'].fillna(int(np.mean(data_2003['PUNT_MATEMATICAS'])), inplace=True)"
   ]
  },
  {
   "cell_type": "code",
   "execution_count": 155,
   "metadata": {
    "collapsed": false,
    "scrolled": true
   },
   "outputs": [
    {
     "name": "stdout",
     "output_type": "stream",
     "text": [
      "Float64Index([ 0.0,  4.0, 13.0, 18.0, 22.0, 25.0, 28.0, 31.0, 33.0, 35.0, 36.0,\n",
      "              38.0, 40.0, 42.0, 43.0, 45.0, 46.0, 48.0, 49.0, 51.0, 52.0, 54.0,\n",
      "              55.0, 57.0, 59.0, 60.0, 62.0, 64.0],\n",
      "             dtype='float64')\n",
      "0.0        9\n",
      "4.0       20\n",
      "13.0      31\n",
      "18.0      52\n",
      "22.0     118\n",
      "25.0     258\n",
      "28.0     628\n",
      "31.0    1274\n",
      "33.0    2322\n",
      "35.0    3817\n",
      "36.0    5172\n",
      "38.0    6401\n",
      "40.0    7473\n",
      "42.0    7925\n",
      "43.0    7823\n",
      "45.0    6993\n",
      "46.0    5842\n",
      "48.0    4452\n",
      "49.0    3404\n",
      "51.0    2335\n",
      "52.0    1543\n",
      "54.0     835\n",
      "55.0     502\n",
      "57.0     244\n",
      "59.0     113\n",
      "60.0      40\n",
      "62.0      16\n",
      "64.0       1\n",
      "Name: PUNT_FILOSOFIA, dtype: int64\n",
      "Elementos null/NaN 43\n",
      "__________________\n",
      "Elementos diferentes de null/NaN: 69643\n",
      "__________________\n",
      "(69643,)\n",
      "None\n"
     ]
    }
   ],
   "source": [
    "print(data_2003['PUNT_FILOSOFIA'].value_counts().sort_index().index)\n",
    "print(data_2003['PUNT_FILOSOFIA'].value_counts().sort_index())\n",
    "print(missing_data(data_2003['PUNT_FILOSOFIA']))"
   ]
  },
  {
   "cell_type": "code",
   "execution_count": 78,
   "metadata": {
    "collapsed": true
   },
   "outputs": [],
   "source": [
    "data_2003['PUNT_FILOSOFIA'] = data_2003['PUNT_FILOSOFIA'].replace('---', np.nan)\n",
    "for i in data_2003['PUNT_FILOSOFIA'].value_counts().sort_index().index:\n",
    "    if type(i) == str:\n",
    "        data_2003['PUNT_FILOSOFIA'] = data_2003['PUNT_FILOSOFIA'].replace(i, int(i))"
   ]
  },
  {
   "cell_type": "code",
   "execution_count": 156,
   "metadata": {
    "collapsed": false,
    "scrolled": true
   },
   "outputs": [],
   "source": [
    "data_2003['PUNT_FILOSOFIA'].fillna(int(np.mean(data_2003['PUNT_FILOSOFIA'])), inplace=True)"
   ]
  },
  {
   "cell_type": "code",
   "execution_count": 158,
   "metadata": {
    "collapsed": false,
    "scrolled": true
   },
   "outputs": [
    {
     "name": "stdout",
     "output_type": "stream",
     "text": [
      "Float64Index([ 9.0, 18.0, 24.0, 28.0, 31.0, 34.0, 37.0, 39.0, 41.0, 43.0, 45.0,\n",
      "              47.0, 49.0, 50.0, 52.0, 54.0, 55.0, 57.0, 58.0, 60.0, 62.0, 63.0,\n",
      "              65.0, 67.0, 69.0, 71.0, 73.0, 75.0, 78.0],\n",
      "             dtype='float64')\n",
      "47.0    9055\n",
      "45.0    8682\n",
      "49.0    8037\n",
      "43.0    7579\n",
      "50.0    6777\n",
      "41.0    5934\n",
      "52.0    5108\n",
      "39.0    4150\n",
      "54.0    3779\n",
      "37.0    2501\n",
      "55.0    2379\n",
      "57.0    1541\n",
      "34.0    1242\n",
      "58.0     926\n",
      "31.0     572\n",
      "60.0     545\n",
      "62.0     278\n",
      "28.0     192\n",
      "63.0     159\n",
      "65.0      81\n",
      "24.0      47\n",
      "67.0      46\n",
      "69.0      27\n",
      "71.0      15\n",
      "18.0      15\n",
      "73.0       7\n",
      "9.0        5\n",
      "75.0       3\n",
      "78.0       2\n",
      "Name: PUNT_FISICA, dtype: int64\n",
      "Elementos null/NaN 2\n",
      "__________________\n",
      "Elementos diferentes de null/NaN: 69684\n",
      "__________________\n",
      "(69684,)\n",
      "None\n"
     ]
    }
   ],
   "source": [
    "print(data_2003['PUNT_FISICA'].value_counts().index)\n",
    "print(data_2003['PUNT_FISICA'].value_counts())\n",
    "print(missing_data(data_2003['PUNT_FISICA']))"
   ]
  },
  {
   "cell_type": "code",
   "execution_count": 80,
   "metadata": {
    "collapsed": true
   },
   "outputs": [],
   "source": [
    "data_2003['PUNT_FISICA'] = data_2003['PUNT_FISICA'].replace('---', np.nan)\n",
    "for i in data_2003['PUNT_FISICA'].value_counts().index:\n",
    "    if type(i) == str:\n",
    "        data_2003['PUNT_FISICA'] = data_2003['PUNT_FISICA'].replace(i, int(i))"
   ]
  },
  {
   "cell_type": "code",
   "execution_count": 159,
   "metadata": {
    "collapsed": false,
    "scrolled": true
   },
   "outputs": [],
   "source": [
    "data_2003['PUNT_FISICA'].fillna(int(np.mean(data_2003['PUNT_FISICA'])), inplace=True)"
   ]
  },
  {
   "cell_type": "code",
   "execution_count": 160,
   "metadata": {
    "collapsed": false,
    "scrolled": true
   },
   "outputs": [
    {
     "name": "stdout",
     "output_type": "stream",
     "text": [
      "Float64Index([ 0.0,  8.0, 16.0, 20.0, 24.0, 27.0, 29.0, 31.0, 33.0, 35.0, 37.0,\n",
      "              38.0, 40.0, 41.0, 43.0, 44.0, 46.0, 47.0, 48.0, 49.0, 51.0, 52.0,\n",
      "              53.0, 55.0, 56.0, 58.0, 59.0, 61.0, 63.0, 65.0, 67.0],\n",
      "             dtype='float64')\n",
      "43.0    7107\n",
      "41.0    6959\n",
      "44.0    6712\n",
      "40.0    6203\n",
      "46.0    6179\n",
      "38.0    5466\n",
      "47.0    5267\n",
      "48.0    4221\n",
      "37.0    4034\n",
      "49.0    3316\n",
      "35.0    2915\n",
      "51.0    2491\n",
      "52.0    1887\n",
      "33.0    1827\n",
      "53.0    1271\n",
      "31.0    1056\n",
      "55.0     844\n",
      "56.0     526\n",
      "29.0     522\n",
      "58.0     315\n",
      "27.0     197\n",
      "59.0     148\n",
      "24.0      81\n",
      "61.0      62\n",
      "63.0      34\n",
      "20.0      19\n",
      "16.0       9\n",
      "65.0       7\n",
      "67.0       5\n",
      "8.0        2\n",
      "0.0        2\n",
      "Name: PUNT_HISTORIA, dtype: int64\n",
      "Elementos null/NaN 2\n",
      "__________________\n",
      "Elementos diferentes de null/NaN: 69684\n",
      "__________________\n",
      "(69684,)\n",
      "None\n"
     ]
    }
   ],
   "source": [
    "print(data_2003['PUNT_HISTORIA'].value_counts().index)\n",
    "print(data_2003['PUNT_HISTORIA'].value_counts())\n",
    "print(missing_data(data_2003['PUNT_HISTORIA']))"
   ]
  },
  {
   "cell_type": "code",
   "execution_count": 82,
   "metadata": {
    "collapsed": true
   },
   "outputs": [],
   "source": [
    "data_2003['PUNT_HISTORIA'] = data_2003['PUNT_HISTORIA'].replace('---', np.nan)\n",
    "for i in data_2003['PUNT_HISTORIA'].value_counts().index:\n",
    "    if type(i) == str:\n",
    "        data_2003['PUNT_HISTORIA'] = data_2003['PUNT_HISTORIA'].replace(i, int(i))"
   ]
  },
  {
   "cell_type": "code",
   "execution_count": 162,
   "metadata": {
    "collapsed": false,
    "scrolled": true
   },
   "outputs": [],
   "source": [
    "data_2003['PUNT_HISTORIA'].fillna(int(np.mean(data_2003['PUNT_HISTORIA'])), inplace=True)"
   ]
  },
  {
   "cell_type": "code",
   "execution_count": 83,
   "metadata": {
    "collapsed": false,
    "scrolled": true
   },
   "outputs": [
    {
     "name": "stdout",
     "output_type": "stream",
     "text": [
      "Index([   42,    43,    41,    44,    46,    40,    47,    38,    48,    37,\n",
      "          49,    50,  '43',  '42',  '44',  '46',  '41',    35,    51,  '47',\n",
      "        '40',  '48',    52,  '49',  '38',    53,  '50',    55,    33,  '51',\n",
      "        '37',    56,  '52',    57,  '53',    59,    31,  '35',  '55',    60,\n",
      "        '56',    62,    63,  '57',  '59',  '33',    65,  '60',    29,  '62',\n",
      "          68,  '63',    71,  '31',  '65',  '68',    75,    26,  '71',  '29',\n",
      "          22,    81,  '81',  '75',    92,  '26', '---',     0],\n",
      "      dtype='object')\n",
      "42     5596\n",
      "43     5510\n",
      "41     5097\n",
      "44     5096\n",
      "46     4317\n",
      "40     4304\n",
      "47     3547\n",
      "38     3181\n",
      "48     2811\n",
      "37     2134\n",
      "49     2113\n",
      "50     1632\n",
      "43     1555\n",
      "42     1529\n",
      "44     1435\n",
      "46     1366\n",
      "41     1364\n",
      "35     1278\n",
      "51     1236\n",
      "47     1218\n",
      "40     1090\n",
      "48     1000\n",
      "52      905\n",
      "49      828\n",
      "38      770\n",
      "53      756\n",
      "50      654\n",
      "55      633\n",
      "33      620\n",
      "51      584\n",
      "       ... \n",
      "55      273\n",
      "60      270\n",
      "56      262\n",
      "62      213\n",
      "63      162\n",
      "57      161\n",
      "59      152\n",
      "33      133\n",
      "65      128\n",
      "60      110\n",
      "29       94\n",
      "62       92\n",
      "68       91\n",
      "63       80\n",
      "71       70\n",
      "31       61\n",
      "65       47\n",
      "68       35\n",
      "75       31\n",
      "26       28\n",
      "71       25\n",
      "29       20\n",
      "22        9\n",
      "81        8\n",
      "81        8\n",
      "75        7\n",
      "92        5\n",
      "26        4\n",
      "---       1\n",
      "0         1\n",
      "Name: PUNT_QUIMICA, dtype: int64\n",
      "Elementos null/NaN 0\n",
      "__________________\n",
      "Elementos diferentes de null/NaN: 69735\n",
      "__________________\n",
      "(69735,)\n",
      "None\n"
     ]
    }
   ],
   "source": [
    "print(data_2003['PUNT_QUIMICA'].value_counts().index)\n",
    "print(data_2003['PUNT_QUIMICA'].value_counts())\n",
    "print(missing_data(data_2003['PUNT_QUIMICA']))"
   ]
  },
  {
   "cell_type": "code",
   "execution_count": 84,
   "metadata": {
    "collapsed": true
   },
   "outputs": [],
   "source": [
    "data_2003['PUNT_QUIMICA'] = data_2003['PUNT_QUIMICA'].replace('---', np.nan)\n",
    "for i in data_2003['PUNT_QUIMICA'].value_counts().index:\n",
    "    if type(i)==str:\n",
    "        data_2003['PUNT_QUIMICA'] = data_2003['PUNT_QUIMICA'].replace(i, int(i))"
   ]
  },
  {
   "cell_type": "code",
   "execution_count": 164,
   "metadata": {
    "collapsed": false,
    "scrolled": true
   },
   "outputs": [],
   "source": [
    "data_2003['PUNT_QUIMICA'].fillna(int(np.mean(data_2003['PUNT_QUIMICA'])), inplace=True)"
   ]
  },
  {
   "cell_type": "code",
   "execution_count": 85,
   "metadata": {
    "collapsed": false,
    "scrolled": true
   },
   "outputs": [
    {
     "name": "stdout",
     "output_type": "stream",
     "text": [
      "Int64Index([ 0, 13, 20, 25, 28, 31, 33, 35, 37, 39, 41, 42, 44, 45, 46, 48, 49,\n",
      "            50, 52, 53, 54, 56, 57, 58, 60, 61, 63, 65, 67, 69, 71, 74, 77],\n",
      "           dtype='int64')\n",
      "0        1\n",
      "13       2\n",
      "20      12\n",
      "25      37\n",
      "28     172\n",
      "31     372\n",
      "33     795\n",
      "35    1503\n",
      "37    2439\n",
      "39    3504\n",
      "41    4570\n",
      "42    5443\n",
      "44    6340\n",
      "45    6729\n",
      "46    6310\n",
      "48    5823\n",
      "49    5315\n",
      "50    4562\n",
      "52    3776\n",
      "53    2994\n",
      "54    2456\n",
      "56    1889\n",
      "57    1448\n",
      "58    1132\n",
      "60     756\n",
      "61     579\n",
      "63     357\n",
      "65     189\n",
      "67     133\n",
      "69      60\n",
      "71      28\n",
      "74       7\n",
      "77       2\n",
      "Name: PUNT_LENGUAJE, dtype: int64\n",
      "Elementos null/NaN 0\n",
      "__________________\n",
      "Elementos diferentes de null/NaN: 69735\n",
      "__________________\n",
      "(69735,)\n",
      "None\n"
     ]
    }
   ],
   "source": [
    "print(data_2003['PUNT_LENGUAJE'].value_counts().sort_index().index)\n",
    "print(data_2003['PUNT_LENGUAJE'].value_counts().sort_index())\n",
    "print(missing_data(data_2003['PUNT_LENGUAJE']))"
   ]
  },
  {
   "cell_type": "code",
   "execution_count": 86,
   "metadata": {
    "collapsed": false,
    "scrolled": true
   },
   "outputs": [
    {
     "name": "stdout",
     "output_type": "stream",
     "text": [
      "Index([   43,    42,    45,    46,    40,    48,    39,    49,    50,    37,\n",
      "          52,    35,    53,    54,  '45',  '43',  '46',    33,  '42',    56,\n",
      "        '48',  '40',  '49',  '50',  '39',  '52',    57,  '37',    31,  '53',\n",
      "          59,  '35',  '54',  '56',    60,    29,  '33',  '57',    62,  '31',\n",
      "        '59',    26,  '60',    64,  '29',  '62',    22,  '26',    66,  '64',\n",
      "        '66',    17,    68,     9,  '22',    70,  '68', '---',     0,    73,\n",
      "         '9',  '70'],\n",
      "      dtype='object')\n",
      "43     4613\n",
      "42     4557\n",
      "45     4517\n",
      "46     4236\n",
      "40     4100\n",
      "48     3791\n",
      "39     3708\n",
      "49     3427\n",
      "50     3039\n",
      "37     2964\n",
      "52     2486\n",
      "35     2169\n",
      "53     2071\n",
      "54     1634\n",
      "45     1467\n",
      "43     1418\n",
      "46     1358\n",
      "33     1313\n",
      "42     1301\n",
      "56     1239\n",
      "48     1233\n",
      "40     1187\n",
      "49     1170\n",
      "50     1030\n",
      "39     1012\n",
      "52      879\n",
      "57      836\n",
      "37      793\n",
      "31      793\n",
      "53      735\n",
      "       ... \n",
      "54      511\n",
      "56      420\n",
      "60      354\n",
      "29      343\n",
      "33      326\n",
      "57      275\n",
      "62      182\n",
      "31      179\n",
      "59      170\n",
      "26      166\n",
      "60      126\n",
      "64       85\n",
      "29       74\n",
      "62       52\n",
      "22       45\n",
      "26       40\n",
      "66       36\n",
      "64       19\n",
      "66       16\n",
      "17       14\n",
      "68       13\n",
      "9         6\n",
      "22        5\n",
      "70        3\n",
      "68        2\n",
      "---       2\n",
      "0         2\n",
      "73        1\n",
      "9         1\n",
      "70        1\n",
      "Name: PUNT_GEOGRAFIA, dtype: int64\n",
      "Elementos null/NaN 0\n",
      "__________________\n",
      "Elementos diferentes de null/NaN: 69735\n",
      "__________________\n",
      "(69735,)\n",
      "None\n"
     ]
    }
   ],
   "source": [
    "print(data_2003['PUNT_GEOGRAFIA'].value_counts().index)\n",
    "print(data_2003['PUNT_GEOGRAFIA'].value_counts())\n",
    "print(missing_data(data_2003['PUNT_GEOGRAFIA']))"
   ]
  },
  {
   "cell_type": "code",
   "execution_count": 87,
   "metadata": {
    "collapsed": true
   },
   "outputs": [],
   "source": [
    "data_2003['PUNT_GEOGRAFIA'] = data_2003['PUNT_GEOGRAFIA'].replace('---', np.nan)\n",
    "for i in data_2003['PUNT_GEOGRAFIA'].value_counts().index:\n",
    "    if type(i) == str:\n",
    "        data_2003['PUNT_GEOGRAFIA'] = data_2003['PUNT_GEOGRAFIA'].replace(i, int(i))"
   ]
  },
  {
   "cell_type": "code",
   "execution_count": 165,
   "metadata": {
    "collapsed": false,
    "scrolled": true
   },
   "outputs": [],
   "source": [
    "data_2003['PUNT_GEOGRAFIA'].fillna(int(np.mean(data_2003['PUNT_GEOGRAFIA'])), inplace=True)"
   ]
  },
  {
   "cell_type": "code",
   "execution_count": 88,
   "metadata": {
    "collapsed": false
   },
   "outputs": [
    {
     "name": "stdout",
     "output_type": "stream",
     "text": [
      "Int64Index([43, 44, 45], dtype='int64')\n",
      "43    34613\n",
      "44    27647\n",
      "45     7475\n",
      "Name: COD_INTERDISCIPLINAR, dtype: int64\n",
      "Elementos null/NaN 0\n",
      "__________________\n",
      "Elementos diferentes de null/NaN: 69735\n",
      "__________________\n",
      "(69735,)\n",
      "None\n"
     ]
    }
   ],
   "source": [
    "print(data_2003['COD_INTERDISCIPLINAR'].value_counts().sort_index().index)\n",
    "print(data_2003['COD_INTERDISCIPLINAR'].value_counts().sort_index())\n",
    "print(missing_data(data_2003['COD_INTERDISCIPLINAR']))"
   ]
  },
  {
   "cell_type": "code",
   "execution_count": 89,
   "metadata": {
    "collapsed": false,
    "scrolled": true
   },
   "outputs": [
    {
     "name": "stdout",
     "output_type": "stream",
     "text": [
      "Index(['---', '0', '20', '21', '29', '31', '35', '38', '39', '42', '44', '45',\n",
      "       '48', '49', '50', '51', '52', '53', '54', '55', '56', '57', '58', '59',\n",
      "       '60', '61', '62', '63', '64', '65', '66', '67', '68', '69', '70', '73',\n",
      "       '74', '75', '80', '87', '98'],\n",
      "      dtype='object')\n",
      "---     120\n",
      "0       161\n",
      "20      191\n",
      "21      578\n",
      "29     1612\n",
      "31      593\n",
      "35     2940\n",
      "38     1037\n",
      "39     3950\n",
      "42     4412\n",
      "44     1345\n",
      "45     4173\n",
      "48     3429\n",
      "49     1440\n",
      "50        1\n",
      "51     2641\n",
      "52       10\n",
      "53     1141\n",
      "54       47\n",
      "55     1866\n",
      "56      268\n",
      "57     1726\n",
      "58     3087\n",
      "59     4492\n",
      "60     5959\n",
      "61     6696\n",
      "62     6987\n",
      "63     4530\n",
      "64     2459\n",
      "65     1039\n",
      "66      178\n",
      "67      305\n",
      "68       28\n",
      "69      144\n",
      "70        6\n",
      "73        1\n",
      "74       48\n",
      "75       61\n",
      "80       22\n",
      "87       11\n",
      "98        1\n",
      "Name: PUNT_INTERDISCIPLINAR, dtype: int64\n",
      "Elementos null/NaN 0\n",
      "__________________\n",
      "Elementos diferentes de null/NaN: 69735\n",
      "__________________\n",
      "(69735,)\n",
      "None\n"
     ]
    }
   ],
   "source": [
    "print(data_2003['PUNT_INTERDISCIPLINAR'].value_counts().sort_index().index)\n",
    "print(data_2003['PUNT_INTERDISCIPLINAR'].value_counts().sort_index())\n",
    "print(missing_data(data_2003['PUNT_INTERDISCIPLINAR']))"
   ]
  },
  {
   "cell_type": "code",
   "execution_count": 90,
   "metadata": {
    "collapsed": true
   },
   "outputs": [],
   "source": [
    "data_2003['PUNT_INTERDISCIPLINAR'] = data_2003['PUNT_INTERDISCIPLINAR'].replace('---', np.nan)\n",
    "for i in data_2003['PUNT_INTERDISCIPLINAR'].value_counts().sort_index().index:\n",
    "    if type(i) == str:\n",
    "        data_2003['PUNT_INTERDISCIPLINAR'] = data_2003['PUNT_INTERDISCIPLINAR'].replace(i, int(i))"
   ]
  },
  {
   "cell_type": "code",
   "execution_count": 166,
   "metadata": {
    "collapsed": false,
    "scrolled": true
   },
   "outputs": [],
   "source": [
    "data_2003['PUNT_INTERDISCIPLINAR'].fillna(int(np.mean(data_2003['PUNT_INTERDISCIPLINAR'])), inplace=True)"
   ]
  },
  {
   "cell_type": "code",
   "execution_count": 91,
   "metadata": {
    "collapsed": false
   },
   "outputs": [
    {
     "name": "stdout",
     "output_type": "stream",
     "text": [
      "Int64Index([51, 52, 53, 99], dtype='int64')\n",
      "51    69058\n",
      "52      473\n",
      "53       57\n",
      "99      147\n",
      "Name: COD_IDIOMA, dtype: int64\n",
      "Elementos null/NaN 0\n",
      "__________________\n",
      "Elementos diferentes de null/NaN: 69735\n",
      "__________________\n",
      "(69735,)\n",
      "None\n"
     ]
    }
   ],
   "source": [
    "print(data_2003['COD_IDIOMA'].value_counts().sort_index().index)\n",
    "print(data_2003['COD_IDIOMA'].value_counts().sort_index())\n",
    "print(missing_data(data_2003['COD_IDIOMA']))"
   ]
  },
  {
   "cell_type": "code",
   "execution_count": 92,
   "metadata": {
    "collapsed": false,
    "scrolled": true
   },
   "outputs": [
    {
     "name": "stdout",
     "output_type": "stream",
     "text": [
      "Index(['*', '---', '0', '14', '22', '26', '28', '29', '31', '32', '33', '34',\n",
      "       '35', '36', '37', '38', '39', '40', '41', '42', '43', '44', '45', '46',\n",
      "       '47', '48', '49', '50', '51', '52', '53', '54', '55', '56', '57', '58',\n",
      "       '59', '60', '61', '62', '63', '64', '65', '66', '67', '68', '69', '70',\n",
      "       '71', '74', '78', '79', '86', '98'],\n",
      "      dtype='object')\n",
      "*       147\n",
      "---      11\n",
      "0         6\n",
      "14       37\n",
      "22      118\n",
      "26      460\n",
      "28        7\n",
      "29     1290\n",
      "31       14\n",
      "32     2739\n",
      "33       14\n",
      "34     4558\n",
      "35       21\n",
      "36     6407\n",
      "37       34\n",
      "38     7870\n",
      "39     8259\n",
      "40       34\n",
      "41     7826\n",
      "42     6298\n",
      "43       33\n",
      "44     4894\n",
      "45     3604\n",
      "46     2617\n",
      "47     1897\n",
      "48     1416\n",
      "49        7\n",
      "50     1119\n",
      "51      894\n",
      "52      785\n",
      "53      713\n",
      "54     1193\n",
      "55        3\n",
      "56      586\n",
      "57        2\n",
      "58      475\n",
      "59        4\n",
      "60      478\n",
      "61      498\n",
      "62        1\n",
      "63      467\n",
      "64      479\n",
      "65        1\n",
      "66      457\n",
      "67        2\n",
      "68       14\n",
      "69      384\n",
      "70        2\n",
      "71      322\n",
      "74      150\n",
      "78       28\n",
      "79       22\n",
      "86       28\n",
      "98       10\n",
      "Name: PUNT_IDIOMA, dtype: int64\n",
      "Elementos null/NaN 0\n",
      "__________________\n",
      "Elementos diferentes de null/NaN: 69735\n",
      "__________________\n",
      "(69735,)\n",
      "None\n"
     ]
    }
   ],
   "source": [
    "print(data_2003['PUNT_IDIOMA'].value_counts().sort_index().index)\n",
    "print(data_2003['PUNT_IDIOMA'].value_counts().sort_index())\n",
    "print(missing_data(data_2003['PUNT_IDIOMA']))"
   ]
  },
  {
   "cell_type": "code",
   "execution_count": 93,
   "metadata": {
    "collapsed": true
   },
   "outputs": [],
   "source": [
    "data_2003['PUNT_IDIOMA'] = data_2003['PUNT_IDIOMA'].replace('*', np.nan)\n",
    "data_2003['PUNT_IDIOMA'] = data_2003['PUNT_IDIOMA'].replace('---', np.nan)\n",
    "for i in data_2003['PUNT_IDIOMA'].value_counts().sort_index().index:\n",
    "    if type(i) == str:\n",
    "        data_2003['PUNT_IDIOMA'] = data_2003['PUNT_IDIOMA'].replace(i, int(i))"
   ]
  },
  {
   "cell_type": "code",
   "execution_count": 167,
   "metadata": {
    "collapsed": false,
    "scrolled": true
   },
   "outputs": [],
   "source": [
    "data_2003['PUNT_IDIOMA'].fillna(int(np.mean(data_2003['PUNT_IDIOMA'])), inplace=True)"
   ]
  },
  {
   "cell_type": "code",
   "execution_count": null,
   "metadata": {
    "collapsed": true
   },
   "outputs": [],
   "source": []
  },
  {
   "cell_type": "code",
   "execution_count": null,
   "metadata": {
    "collapsed": true
   },
   "outputs": [],
   "source": []
  },
  {
   "cell_type": "code",
   "execution_count": null,
   "metadata": {
    "collapsed": true
   },
   "outputs": [],
   "source": []
  },
  {
   "cell_type": "code",
   "execution_count": null,
   "metadata": {
    "collapsed": true
   },
   "outputs": [],
   "source": []
  },
  {
   "cell_type": "code",
   "execution_count": null,
   "metadata": {
    "collapsed": true
   },
   "outputs": [],
   "source": []
  },
  {
   "cell_type": "code",
   "execution_count": null,
   "metadata": {
    "collapsed": true
   },
   "outputs": [],
   "source": []
  },
  {
   "cell_type": "markdown",
   "metadata": {},
   "source": [
    "# FILE 2 -> 2003_2"
   ]
  },
  {
   "cell_type": "code",
   "execution_count": 2,
   "metadata": {
    "collapsed": false
   },
   "outputs": [
    {
     "name": "stderr",
     "output_type": "stream",
     "text": [
      "/usr/local/anaconda3/lib/python3.5/site-packages/IPython/core/interactiveshell.py:2723: DtypeWarning: Columns (3,5,9,12,13,14,15,16,17,19,20,21,22,23,25,27,29,31,36,48) have mixed types. Specify dtype option on import or set low_memory=False.\n",
      "  interactivity=interactivity, compiler=compiler, result=result)\n"
     ]
    }
   ],
   "source": [
    "data_2003_2 = pd.read_csv('../DatosFTPICFES/SABER11/SB11-BASES_DE_DATOS/SB11-20032-RGSTRO-CLFCCN-V1-0.txt', delimiter = '|',\n",
    "                         encoding = \"iso-8859-1\")"
   ]
  },
  {
   "cell_type": "code",
   "execution_count": 3,
   "metadata": {
    "collapsed": false
   },
   "outputs": [
    {
     "data": {
      "text/plain": [
       "(354700, 57)"
      ]
     },
     "execution_count": 3,
     "metadata": {},
     "output_type": "execute_result"
    }
   ],
   "source": [
    "data_2003_2.shape"
   ]
  },
  {
   "cell_type": "code",
   "execution_count": 4,
   "metadata": {
    "collapsed": false,
    "scrolled": true
   },
   "outputs": [
    {
     "data": {
      "text/html": [
       "<div>\n",
       "<table border=\"1\" class=\"dataframe\">\n",
       "  <thead>\n",
       "    <tr style=\"text-align: right;\">\n",
       "      <th></th>\n",
       "      <th>0</th>\n",
       "      <th>1</th>\n",
       "      <th>2</th>\n",
       "    </tr>\n",
       "  </thead>\n",
       "  <tbody>\n",
       "    <tr>\n",
       "      <th>ESTU_CONSECUTIVO</th>\n",
       "      <td>SB11200320000001</td>\n",
       "      <td>SB11200320000002</td>\n",
       "      <td>SB11200320000003</td>\n",
       "    </tr>\n",
       "    <tr>\n",
       "      <th>COLE_COD_ICFES</th>\n",
       "      <td>27714</td>\n",
       "      <td>101865</td>\n",
       "      <td>59</td>\n",
       "    </tr>\n",
       "    <tr>\n",
       "      <th>COLE_NOMBRE_SEDE</th>\n",
       "      <td>INSTITUCION EDUCATIVA EXTERNADO PATRIA</td>\n",
       "      <td>COLEGIO GABRIEL RESTREPO MORENO</td>\n",
       "      <td>CENTRO FORMATIVO DE ANTIOQUIA CEFA</td>\n",
       "    </tr>\n",
       "    <tr>\n",
       "      <th>IND_ANNO_TERMINO_BACHILLERATO</th>\n",
       "      <td>2003</td>\n",
       "      <td>2003</td>\n",
       "      <td>2003</td>\n",
       "    </tr>\n",
       "    <tr>\n",
       "      <th>COLE_JORNADA</th>\n",
       "      <td>M</td>\n",
       "      <td>T</td>\n",
       "      <td>M</td>\n",
       "    </tr>\n",
       "    <tr>\n",
       "      <th>COLE_VALOR_PENSION</th>\n",
       "      <td>8</td>\n",
       "      <td>8</td>\n",
       "      <td>8</td>\n",
       "    </tr>\n",
       "    <tr>\n",
       "      <th>ESTU_GENERO</th>\n",
       "      <td>M</td>\n",
       "      <td>M</td>\n",
       "      <td>F</td>\n",
       "    </tr>\n",
       "    <tr>\n",
       "      <th>ESTU_NACIMIENTO_DIA</th>\n",
       "      <td>11</td>\n",
       "      <td>13</td>\n",
       "      <td>2</td>\n",
       "    </tr>\n",
       "    <tr>\n",
       "      <th>ESTU_NACIMIENTO_MES</th>\n",
       "      <td>5</td>\n",
       "      <td>3</td>\n",
       "      <td>1</td>\n",
       "    </tr>\n",
       "    <tr>\n",
       "      <th>ESTU_NACIMIENTO_ANNO</th>\n",
       "      <td>1986</td>\n",
       "      <td>1984</td>\n",
       "      <td>1985</td>\n",
       "    </tr>\n",
       "    <tr>\n",
       "      <th>ESTU_DEPTO_PRESENTACION</th>\n",
       "      <td>ANTIOQUIA</td>\n",
       "      <td>ANTIOQUIA</td>\n",
       "      <td>ANTIOQUIA</td>\n",
       "    </tr>\n",
       "    <tr>\n",
       "      <th>ESTU_MCPIO_PRESENTACION</th>\n",
       "      <td>MEDELLIN</td>\n",
       "      <td>MEDELLIN</td>\n",
       "      <td>MEDELLIN</td>\n",
       "    </tr>\n",
       "    <tr>\n",
       "      <th>ESTU_LIMITA_INVIDENTE</th>\n",
       "      <td>NaN</td>\n",
       "      <td>NaN</td>\n",
       "      <td>NaN</td>\n",
       "    </tr>\n",
       "    <tr>\n",
       "      <th>ESTU_LIMITA_SORDOINTERPRETE</th>\n",
       "      <td>NaN</td>\n",
       "      <td>NaN</td>\n",
       "      <td>NaN</td>\n",
       "    </tr>\n",
       "    <tr>\n",
       "      <th>ESTU_LIMITA_SORDONOINTERPRETE</th>\n",
       "      <td>NaN</td>\n",
       "      <td>NaN</td>\n",
       "      <td>NaN</td>\n",
       "    </tr>\n",
       "    <tr>\n",
       "      <th>ESTU_LIMITA_MOTRIZ</th>\n",
       "      <td>NaN</td>\n",
       "      <td>NaN</td>\n",
       "      <td>NaN</td>\n",
       "    </tr>\n",
       "    <tr>\n",
       "      <th>PUNT_BIOLOGIA</th>\n",
       "      <td>53</td>\n",
       "      <td>45</td>\n",
       "      <td>56</td>\n",
       "    </tr>\n",
       "    <tr>\n",
       "      <th>PUNT_MATEMATICAS</th>\n",
       "      <td>39</td>\n",
       "      <td>47</td>\n",
       "      <td>44</td>\n",
       "    </tr>\n",
       "    <tr>\n",
       "      <th>PUNT_FILOSOFIA</th>\n",
       "      <td>41</td>\n",
       "      <td>48</td>\n",
       "      <td>45</td>\n",
       "    </tr>\n",
       "    <tr>\n",
       "      <th>PUNT_FISICA</th>\n",
       "      <td>46</td>\n",
       "      <td>48</td>\n",
       "      <td>44</td>\n",
       "    </tr>\n",
       "    <tr>\n",
       "      <th>PUNT_HISTORIA</th>\n",
       "      <td>38</td>\n",
       "      <td>36</td>\n",
       "      <td>52</td>\n",
       "    </tr>\n",
       "    <tr>\n",
       "      <th>PUNT_QUIMICA</th>\n",
       "      <td>38</td>\n",
       "      <td>44</td>\n",
       "      <td>52</td>\n",
       "    </tr>\n",
       "    <tr>\n",
       "      <th>PUNT_LENGUAJE</th>\n",
       "      <td>37</td>\n",
       "      <td>46</td>\n",
       "      <td>58</td>\n",
       "    </tr>\n",
       "    <tr>\n",
       "      <th>PUNT_GEOGRAFIA</th>\n",
       "      <td>32</td>\n",
       "      <td>39</td>\n",
       "      <td>53</td>\n",
       "    </tr>\n",
       "    <tr>\n",
       "      <th>COD_INTERDISCIPLINAR</th>\n",
       "      <td>43</td>\n",
       "      <td>43</td>\n",
       "      <td>43</td>\n",
       "    </tr>\n",
       "    <tr>\n",
       "      <th>PUNT_INTERDISCIPLINAR</th>\n",
       "      <td>55</td>\n",
       "      <td>55</td>\n",
       "      <td>45</td>\n",
       "    </tr>\n",
       "    <tr>\n",
       "      <th>COD_IDIOMA</th>\n",
       "      <td>51</td>\n",
       "      <td>51</td>\n",
       "      <td>51</td>\n",
       "    </tr>\n",
       "    <tr>\n",
       "      <th>PUNT_IDIOMA</th>\n",
       "      <td>41</td>\n",
       "      <td>38</td>\n",
       "      <td>34</td>\n",
       "    </tr>\n",
       "    <tr>\n",
       "      <th>ESTU_IES_COD_DESEADA</th>\n",
       "      <td>1201</td>\n",
       "      <td>1201</td>\n",
       "      <td>1201</td>\n",
       "    </tr>\n",
       "    <tr>\n",
       "      <th>ESTU_RAZONINSTITUTO</th>\n",
       "      <td>7</td>\n",
       "      <td>7</td>\n",
       "      <td>5</td>\n",
       "    </tr>\n",
       "    <tr>\n",
       "      <th>ESTU_CARRDESEADA_COD</th>\n",
       "      <td>41201</td>\n",
       "      <td>43917</td>\n",
       "      <td>44111</td>\n",
       "    </tr>\n",
       "    <tr>\n",
       "      <th>ESTU_CARRDESEADA_RAZON</th>\n",
       "      <td>2</td>\n",
       "      <td>1</td>\n",
       "      <td>2</td>\n",
       "    </tr>\n",
       "    <tr>\n",
       "      <th>FAMI_PERSONAS_HOGAR</th>\n",
       "      <td>8</td>\n",
       "      <td>8</td>\n",
       "      <td>5</td>\n",
       "    </tr>\n",
       "    <tr>\n",
       "      <th>FAMI_VIVIENDA_PROPIA</th>\n",
       "      <td>N</td>\n",
       "      <td>S</td>\n",
       "      <td>N</td>\n",
       "    </tr>\n",
       "    <tr>\n",
       "      <th>FAMI_DEUDA_VIVIENDA</th>\n",
       "      <td>NaN</td>\n",
       "      <td>N</td>\n",
       "      <td>NaN</td>\n",
       "    </tr>\n",
       "    <tr>\n",
       "      <th>FAMI_APORTANTES</th>\n",
       "      <td>3</td>\n",
       "      <td>2</td>\n",
       "      <td>1</td>\n",
       "    </tr>\n",
       "    <tr>\n",
       "      <th>FAMI_INGRESO_FMILIAR_MENSUAL</th>\n",
       "      <td>1</td>\n",
       "      <td>0</td>\n",
       "      <td>1</td>\n",
       "    </tr>\n",
       "    <tr>\n",
       "      <th>FAMI_LEE_ESCRIBE_PADRE</th>\n",
       "      <td>S</td>\n",
       "      <td>NaN</td>\n",
       "      <td>S</td>\n",
       "    </tr>\n",
       "    <tr>\n",
       "      <th>FAMI_LEE_ESCRIBE_MADRE</th>\n",
       "      <td>S</td>\n",
       "      <td>NaN</td>\n",
       "      <td>S</td>\n",
       "    </tr>\n",
       "    <tr>\n",
       "      <th>FAMI_EDUCA_PADRE</th>\n",
       "      <td>3</td>\n",
       "      <td>NaN</td>\n",
       "      <td>4</td>\n",
       "    </tr>\n",
       "    <tr>\n",
       "      <th>FAMI_EDUCA_MADRE</th>\n",
       "      <td>1</td>\n",
       "      <td>NaN</td>\n",
       "      <td>4</td>\n",
       "    </tr>\n",
       "    <tr>\n",
       "      <th>FAMI_OCUPA_PADRE</th>\n",
       "      <td>09</td>\n",
       "      <td>NaN</td>\n",
       "      <td>06</td>\n",
       "    </tr>\n",
       "    <tr>\n",
       "      <th>FAMI_OCUPA_MADRE</th>\n",
       "      <td>10</td>\n",
       "      <td>NaN</td>\n",
       "      <td>05</td>\n",
       "    </tr>\n",
       "    <tr>\n",
       "      <th>FAMI_NUM_HERMANOS</th>\n",
       "      <td>1</td>\n",
       "      <td>3</td>\n",
       "      <td>3</td>\n",
       "    </tr>\n",
       "    <tr>\n",
       "      <th>FAMI_NUM_HERMANOS_EDUSUPERIOR</th>\n",
       "      <td>1</td>\n",
       "      <td>0</td>\n",
       "      <td>0</td>\n",
       "    </tr>\n",
       "    <tr>\n",
       "      <th>FAMI_POSICION_HERMANOS</th>\n",
       "      <td>2</td>\n",
       "      <td>1</td>\n",
       "      <td>3</td>\n",
       "    </tr>\n",
       "    <tr>\n",
       "      <th>FAMI_SOST_PERSONAL</th>\n",
       "      <td>NaN</td>\n",
       "      <td>T</td>\n",
       "      <td>T</td>\n",
       "    </tr>\n",
       "    <tr>\n",
       "      <th>ESTU_TRABAJA</th>\n",
       "      <td>N</td>\n",
       "      <td>S</td>\n",
       "      <td>N</td>\n",
       "    </tr>\n",
       "    <tr>\n",
       "      <th>ESTU_ACT_PROX_ANNO</th>\n",
       "      <td>3</td>\n",
       "      <td>3</td>\n",
       "      <td>1</td>\n",
       "    </tr>\n",
       "    <tr>\n",
       "      <th>COLE_CALENDARIO</th>\n",
       "      <td>A</td>\n",
       "      <td>F</td>\n",
       "      <td>A</td>\n",
       "    </tr>\n",
       "    <tr>\n",
       "      <th>COLE_BILINGUE</th>\n",
       "      <td>NaN</td>\n",
       "      <td>NaN</td>\n",
       "      <td>NaN</td>\n",
       "    </tr>\n",
       "    <tr>\n",
       "      <th>COLE_CARACTER</th>\n",
       "      <td>ACADEMICO</td>\n",
       "      <td>ACADEMICO</td>\n",
       "      <td>ACADEMICO Y TECNICO</td>\n",
       "    </tr>\n",
       "    <tr>\n",
       "      <th>COLE_DEPTO_UBICACION</th>\n",
       "      <td>ANTIOQUIA</td>\n",
       "      <td>ANTIOQUIA</td>\n",
       "      <td>ANTIOQUIA</td>\n",
       "    </tr>\n",
       "    <tr>\n",
       "      <th>COLE_MCPIO_UBICACION</th>\n",
       "      <td>MEDELLIN</td>\n",
       "      <td>MEDELLIN</td>\n",
       "      <td>MEDELLIN</td>\n",
       "    </tr>\n",
       "    <tr>\n",
       "      <th>ESTU_RESIDE_DEPTO</th>\n",
       "      <td>ANTIOQUIA</td>\n",
       "      <td>ANTIOQUIA</td>\n",
       "      <td>ANTIOQUIA</td>\n",
       "    </tr>\n",
       "    <tr>\n",
       "      <th>ESTU_RESIDE_MCPIO</th>\n",
       "      <td>MEDELLIN</td>\n",
       "      <td>MEDELLIN</td>\n",
       "      <td>MEDELLIN</td>\n",
       "    </tr>\n",
       "    <tr>\n",
       "      <th>ESTU_TIPO_DOCUMENTO</th>\n",
       "      <td>T</td>\n",
       "      <td>C</td>\n",
       "      <td>T</td>\n",
       "    </tr>\n",
       "  </tbody>\n",
       "</table>\n",
       "</div>"
      ],
      "text/plain": [
       "                                                                    0  \\\n",
       "ESTU_CONSECUTIVO                                     SB11200320000001   \n",
       "COLE_COD_ICFES                                                  27714   \n",
       "COLE_NOMBRE_SEDE               INSTITUCION EDUCATIVA EXTERNADO PATRIA   \n",
       "IND_ANNO_TERMINO_BACHILLERATO                                    2003   \n",
       "COLE_JORNADA                                                        M   \n",
       "COLE_VALOR_PENSION                                                  8   \n",
       "ESTU_GENERO                                                         M   \n",
       "ESTU_NACIMIENTO_DIA                                                11   \n",
       "ESTU_NACIMIENTO_MES                                                 5   \n",
       "ESTU_NACIMIENTO_ANNO                                             1986   \n",
       "ESTU_DEPTO_PRESENTACION                                     ANTIOQUIA   \n",
       "ESTU_MCPIO_PRESENTACION                                      MEDELLIN   \n",
       "ESTU_LIMITA_INVIDENTE                                             NaN   \n",
       "ESTU_LIMITA_SORDOINTERPRETE                                       NaN   \n",
       "ESTU_LIMITA_SORDONOINTERPRETE                                     NaN   \n",
       "ESTU_LIMITA_MOTRIZ                                                NaN   \n",
       "PUNT_BIOLOGIA                                                      53   \n",
       "PUNT_MATEMATICAS                                                   39   \n",
       "PUNT_FILOSOFIA                                                     41   \n",
       "PUNT_FISICA                                                        46   \n",
       "PUNT_HISTORIA                                                      38   \n",
       "PUNT_QUIMICA                                                       38   \n",
       "PUNT_LENGUAJE                                                      37   \n",
       "PUNT_GEOGRAFIA                                                     32   \n",
       "COD_INTERDISCIPLINAR                                               43   \n",
       "PUNT_INTERDISCIPLINAR                                              55   \n",
       "COD_IDIOMA                                                         51   \n",
       "PUNT_IDIOMA                                                        41   \n",
       "ESTU_IES_COD_DESEADA                                             1201   \n",
       "ESTU_RAZONINSTITUTO                                                 7   \n",
       "ESTU_CARRDESEADA_COD                                            41201   \n",
       "ESTU_CARRDESEADA_RAZON                                              2   \n",
       "FAMI_PERSONAS_HOGAR                                                 8   \n",
       "FAMI_VIVIENDA_PROPIA                                                N   \n",
       "FAMI_DEUDA_VIVIENDA                                               NaN   \n",
       "FAMI_APORTANTES                                                     3   \n",
       "FAMI_INGRESO_FMILIAR_MENSUAL                                        1   \n",
       "FAMI_LEE_ESCRIBE_PADRE                                              S   \n",
       "FAMI_LEE_ESCRIBE_MADRE                                              S   \n",
       "FAMI_EDUCA_PADRE                                                    3   \n",
       "FAMI_EDUCA_MADRE                                                    1   \n",
       "FAMI_OCUPA_PADRE                                                   09   \n",
       "FAMI_OCUPA_MADRE                                                   10   \n",
       "FAMI_NUM_HERMANOS                                                   1   \n",
       "FAMI_NUM_HERMANOS_EDUSUPERIOR                                       1   \n",
       "FAMI_POSICION_HERMANOS                                              2   \n",
       "FAMI_SOST_PERSONAL                                                NaN   \n",
       "ESTU_TRABAJA                                                        N   \n",
       "ESTU_ACT_PROX_ANNO                                                  3   \n",
       "COLE_CALENDARIO                                                     A   \n",
       "COLE_BILINGUE                                                     NaN   \n",
       "COLE_CARACTER                                               ACADEMICO   \n",
       "COLE_DEPTO_UBICACION                                        ANTIOQUIA   \n",
       "COLE_MCPIO_UBICACION                                         MEDELLIN   \n",
       "ESTU_RESIDE_DEPTO                                           ANTIOQUIA   \n",
       "ESTU_RESIDE_MCPIO                                            MEDELLIN   \n",
       "ESTU_TIPO_DOCUMENTO                                                 T   \n",
       "\n",
       "                                                             1  \\\n",
       "ESTU_CONSECUTIVO                              SB11200320000002   \n",
       "COLE_COD_ICFES                                          101865   \n",
       "COLE_NOMBRE_SEDE               COLEGIO GABRIEL RESTREPO MORENO   \n",
       "IND_ANNO_TERMINO_BACHILLERATO                             2003   \n",
       "COLE_JORNADA                                                 T   \n",
       "COLE_VALOR_PENSION                                           8   \n",
       "ESTU_GENERO                                                  M   \n",
       "ESTU_NACIMIENTO_DIA                                         13   \n",
       "ESTU_NACIMIENTO_MES                                          3   \n",
       "ESTU_NACIMIENTO_ANNO                                      1984   \n",
       "ESTU_DEPTO_PRESENTACION                              ANTIOQUIA   \n",
       "ESTU_MCPIO_PRESENTACION                               MEDELLIN   \n",
       "ESTU_LIMITA_INVIDENTE                                      NaN   \n",
       "ESTU_LIMITA_SORDOINTERPRETE                                NaN   \n",
       "ESTU_LIMITA_SORDONOINTERPRETE                              NaN   \n",
       "ESTU_LIMITA_MOTRIZ                                         NaN   \n",
       "PUNT_BIOLOGIA                                               45   \n",
       "PUNT_MATEMATICAS                                            47   \n",
       "PUNT_FILOSOFIA                                              48   \n",
       "PUNT_FISICA                                                 48   \n",
       "PUNT_HISTORIA                                               36   \n",
       "PUNT_QUIMICA                                                44   \n",
       "PUNT_LENGUAJE                                               46   \n",
       "PUNT_GEOGRAFIA                                              39   \n",
       "COD_INTERDISCIPLINAR                                        43   \n",
       "PUNT_INTERDISCIPLINAR                                       55   \n",
       "COD_IDIOMA                                                  51   \n",
       "PUNT_IDIOMA                                                 38   \n",
       "ESTU_IES_COD_DESEADA                                      1201   \n",
       "ESTU_RAZONINSTITUTO                                          7   \n",
       "ESTU_CARRDESEADA_COD                                     43917   \n",
       "ESTU_CARRDESEADA_RAZON                                       1   \n",
       "FAMI_PERSONAS_HOGAR                                          8   \n",
       "FAMI_VIVIENDA_PROPIA                                         S   \n",
       "FAMI_DEUDA_VIVIENDA                                          N   \n",
       "FAMI_APORTANTES                                              2   \n",
       "FAMI_INGRESO_FMILIAR_MENSUAL                                 0   \n",
       "FAMI_LEE_ESCRIBE_PADRE                                     NaN   \n",
       "FAMI_LEE_ESCRIBE_MADRE                                     NaN   \n",
       "FAMI_EDUCA_PADRE                                           NaN   \n",
       "FAMI_EDUCA_MADRE                                           NaN   \n",
       "FAMI_OCUPA_PADRE                                           NaN   \n",
       "FAMI_OCUPA_MADRE                                           NaN   \n",
       "FAMI_NUM_HERMANOS                                            3   \n",
       "FAMI_NUM_HERMANOS_EDUSUPERIOR                                0   \n",
       "FAMI_POSICION_HERMANOS                                       1   \n",
       "FAMI_SOST_PERSONAL                                           T   \n",
       "ESTU_TRABAJA                                                 S   \n",
       "ESTU_ACT_PROX_ANNO                                           3   \n",
       "COLE_CALENDARIO                                              F   \n",
       "COLE_BILINGUE                                              NaN   \n",
       "COLE_CARACTER                                        ACADEMICO   \n",
       "COLE_DEPTO_UBICACION                                 ANTIOQUIA   \n",
       "COLE_MCPIO_UBICACION                                  MEDELLIN   \n",
       "ESTU_RESIDE_DEPTO                                    ANTIOQUIA   \n",
       "ESTU_RESIDE_MCPIO                                     MEDELLIN   \n",
       "ESTU_TIPO_DOCUMENTO                                          C   \n",
       "\n",
       "                                                                2  \n",
       "ESTU_CONSECUTIVO                                 SB11200320000003  \n",
       "COLE_COD_ICFES                                                 59  \n",
       "COLE_NOMBRE_SEDE               CENTRO FORMATIVO DE ANTIOQUIA CEFA  \n",
       "IND_ANNO_TERMINO_BACHILLERATO                                2003  \n",
       "COLE_JORNADA                                                    M  \n",
       "COLE_VALOR_PENSION                                              8  \n",
       "ESTU_GENERO                                                     F  \n",
       "ESTU_NACIMIENTO_DIA                                             2  \n",
       "ESTU_NACIMIENTO_MES                                             1  \n",
       "ESTU_NACIMIENTO_ANNO                                         1985  \n",
       "ESTU_DEPTO_PRESENTACION                                 ANTIOQUIA  \n",
       "ESTU_MCPIO_PRESENTACION                                  MEDELLIN  \n",
       "ESTU_LIMITA_INVIDENTE                                         NaN  \n",
       "ESTU_LIMITA_SORDOINTERPRETE                                   NaN  \n",
       "ESTU_LIMITA_SORDONOINTERPRETE                                 NaN  \n",
       "ESTU_LIMITA_MOTRIZ                                            NaN  \n",
       "PUNT_BIOLOGIA                                                  56  \n",
       "PUNT_MATEMATICAS                                               44  \n",
       "PUNT_FILOSOFIA                                                 45  \n",
       "PUNT_FISICA                                                    44  \n",
       "PUNT_HISTORIA                                                  52  \n",
       "PUNT_QUIMICA                                                   52  \n",
       "PUNT_LENGUAJE                                                  58  \n",
       "PUNT_GEOGRAFIA                                                 53  \n",
       "COD_INTERDISCIPLINAR                                           43  \n",
       "PUNT_INTERDISCIPLINAR                                          45  \n",
       "COD_IDIOMA                                                     51  \n",
       "PUNT_IDIOMA                                                    34  \n",
       "ESTU_IES_COD_DESEADA                                         1201  \n",
       "ESTU_RAZONINSTITUTO                                             5  \n",
       "ESTU_CARRDESEADA_COD                                        44111  \n",
       "ESTU_CARRDESEADA_RAZON                                          2  \n",
       "FAMI_PERSONAS_HOGAR                                             5  \n",
       "FAMI_VIVIENDA_PROPIA                                            N  \n",
       "FAMI_DEUDA_VIVIENDA                                           NaN  \n",
       "FAMI_APORTANTES                                                 1  \n",
       "FAMI_INGRESO_FMILIAR_MENSUAL                                    1  \n",
       "FAMI_LEE_ESCRIBE_PADRE                                          S  \n",
       "FAMI_LEE_ESCRIBE_MADRE                                          S  \n",
       "FAMI_EDUCA_PADRE                                                4  \n",
       "FAMI_EDUCA_MADRE                                                4  \n",
       "FAMI_OCUPA_PADRE                                               06  \n",
       "FAMI_OCUPA_MADRE                                               05  \n",
       "FAMI_NUM_HERMANOS                                               3  \n",
       "FAMI_NUM_HERMANOS_EDUSUPERIOR                                   0  \n",
       "FAMI_POSICION_HERMANOS                                          3  \n",
       "FAMI_SOST_PERSONAL                                              T  \n",
       "ESTU_TRABAJA                                                    N  \n",
       "ESTU_ACT_PROX_ANNO                                              1  \n",
       "COLE_CALENDARIO                                                 A  \n",
       "COLE_BILINGUE                                                 NaN  \n",
       "COLE_CARACTER                                 ACADEMICO Y TECNICO  \n",
       "COLE_DEPTO_UBICACION                                    ANTIOQUIA  \n",
       "COLE_MCPIO_UBICACION                                     MEDELLIN  \n",
       "ESTU_RESIDE_DEPTO                                       ANTIOQUIA  \n",
       "ESTU_RESIDE_MCPIO                                        MEDELLIN  \n",
       "ESTU_TIPO_DOCUMENTO                                             T  "
      ]
     },
     "execution_count": 4,
     "metadata": {},
     "output_type": "execute_result"
    }
   ],
   "source": [
    "data_2003_2.head(3).T"
   ]
  },
  {
   "cell_type": "markdown",
   "metadata": {},
   "source": [
    "The first step is delete the columns that won't contribute to the work"
   ]
  },
  {
   "cell_type": "code",
   "execution_count": 5,
   "metadata": {
    "collapsed": true
   },
   "outputs": [],
   "source": [
    "data_2003_2 = data_2003_2.drop(['ESTU_CONSECUTIVO', 'COLE_NOMBRE_SEDE', 'ESTU_TIPO_DOCUMENTO'], axis=1)"
   ]
  },
  {
   "cell_type": "code",
   "execution_count": 6,
   "metadata": {
    "collapsed": false,
    "scrolled": true
   },
   "outputs": [
    {
     "name": "stdout",
     "output_type": "stream",
     "text": [
      "Int64Index([    18,     59,     75,     83,     91,    125,    141,    158,\n",
      "               174,    190,\n",
      "            ...\n",
      "            110411, 110429, 110460, 110502, 110544, 110742, 110783, 110825,\n",
      "            110866, 110908],\n",
      "           dtype='int64', length=7325)\n",
      "18          23\n",
      "59        1143\n",
      "75          49\n",
      "83          42\n",
      "91         100\n",
      "125         65\n",
      "141        116\n",
      "158         22\n",
      "174         97\n",
      "190         78\n",
      "208         97\n",
      "216         57\n",
      "232         27\n",
      "240        168\n",
      "257         28\n",
      "265        262\n",
      "273         70\n",
      "281         78\n",
      "315        154\n",
      "349         33\n",
      "356         32\n",
      "364         73\n",
      "372         59\n",
      "380        228\n",
      "398         35\n",
      "406         50\n",
      "422         34\n",
      "430         98\n",
      "448         36\n",
      "455        107\n",
      "          ... \n",
      "110189      22\n",
      "110197      18\n",
      "110205      26\n",
      "110213      12\n",
      "110221      16\n",
      "110239      11\n",
      "110247      20\n",
      "110254      21\n",
      "110262      14\n",
      "110270      61\n",
      "110288      62\n",
      "110304      12\n",
      "110312      13\n",
      "110320      53\n",
      "110338      27\n",
      "110346      16\n",
      "110361       7\n",
      "110379      24\n",
      "110387      10\n",
      "110403       4\n",
      "110411       8\n",
      "110429       9\n",
      "110460      18\n",
      "110502      33\n",
      "110544       1\n",
      "110742      56\n",
      "110783      14\n",
      "110825      17\n",
      "110866      21\n",
      "110908      14\n",
      "Name: COLE_COD_ICFES, dtype: int64\n",
      "Elementos null/NaN 0\n",
      "__________________\n",
      "Elementos diferentes de null/NaN: 354700\n",
      "__________________\n",
      "(354700,)\n",
      "None\n"
     ]
    }
   ],
   "source": [
    "print(data_2003_2['COLE_COD_ICFES'].value_counts().sort_index().index)\n",
    "print(data_2003_2['COLE_COD_ICFES'].value_counts().sort_index())\n",
    "print(missing_data(data_2003_2['COLE_COD_ICFES']))"
   ]
  },
  {
   "cell_type": "code",
   "execution_count": 7,
   "metadata": {
    "collapsed": false,
    "scrolled": true
   },
   "outputs": [
    {
     "name": "stdout",
     "output_type": "stream",
     "text": [
      "Index(['2003', 2003.0, '2002', '1980', '20 3', '2000',  '20*', '2 03',  '200',\n",
      "       '2 0*',   '20', '2001',  '203', '2013', '2004', '200*', 2002.0,  '003',\n",
      "        203.0, '20 *',    '2',  '0*3', 1980.0, 2000.0,   '03',  '0 3', '1996',\n",
      "       '1999', '2030',    '0',   20.0],\n",
      "      dtype='object')\n",
      "2003      334523\n",
      "2003.0     16233\n",
      "2002         223\n",
      "1980          37\n",
      "20 3          31\n",
      "2000          27\n",
      "20*           23\n",
      "2 03          22\n",
      "200           18\n",
      "2 0*          17\n",
      "20             7\n",
      "2001           6\n",
      "203            5\n",
      "2013           5\n",
      "2004           3\n",
      "200*           3\n",
      "2002.0         2\n",
      "003            2\n",
      "203.0          2\n",
      "20 *           2\n",
      "2              2\n",
      "0*3            1\n",
      "1980.0         1\n",
      "2000.0         1\n",
      "03             1\n",
      "0 3            1\n",
      "1996           1\n",
      "1999           1\n",
      "2030           1\n",
      "0              1\n",
      "20.0           1\n",
      "Name: IND_ANNO_TERMINO_BACHILLERATO, dtype: int64\n",
      "Elementos null/NaN 3497\n",
      "__________________\n",
      "Elementos diferentes de null/NaN: 351203\n",
      "__________________\n",
      "(351203,)\n",
      "None\n"
     ]
    }
   ],
   "source": [
    "print(data_2003_2['IND_ANNO_TERMINO_BACHILLERATO'].value_counts().index)\n",
    "print(data_2003_2['IND_ANNO_TERMINO_BACHILLERATO'].value_counts())\n",
    "print(missing_data(data_2003_2['IND_ANNO_TERMINO_BACHILLERATO']))"
   ]
  },
  {
   "cell_type": "code",
   "execution_count": 8,
   "metadata": {
    "collapsed": true
   },
   "outputs": [],
   "source": [
    "for i in data_2003_2['IND_ANNO_TERMINO_BACHILLERATO'].value_counts().index:\n",
    "    if type(i) == float:\n",
    "        data_2003_2['IND_ANNO_TERMINO_BACHILLERATO'] = data_2003_2['IND_ANNO_TERMINO_BACHILLERATO'].replace(i, str(i)[:-2])\n",
    "for i in data_2003_2['IND_ANNO_TERMINO_BACHILLERATO'].value_counts().index:\n",
    "    if '*' in i:\n",
    "        data_2003_2['IND_ANNO_TERMINO_BACHILLERATO'] = data_2003_2['IND_ANNO_TERMINO_BACHILLERATO'].replace(i, np.nan)\n",
    "    elif ' ' in i:\n",
    "        data_2003_2['IND_ANNO_TERMINO_BACHILLERATO'] = data_2003_2['IND_ANNO_TERMINO_BACHILLERATO'].replace(i, np.nan)\n",
    "    elif int(i) < 1980:\n",
    "        data_2003_2['IND_ANNO_TERMINO_BACHILLERATO'] = data_2003_2['IND_ANNO_TERMINO_BACHILLERATO'].replace(i, np.nan)\n",
    "    elif int(i) > 2005:\n",
    "        data_2003_2['IND_ANNO_TERMINO_BACHILLERATO'] = data_2003_2['IND_ANNO_TERMINO_BACHILLERATO'].replace(i, np.nan)"
   ]
  },
  {
   "cell_type": "code",
   "execution_count": 97,
   "metadata": {
    "collapsed": false,
    "scrolled": true
   },
   "outputs": [
    {
     "name": "stdout",
     "output_type": "stream",
     "text": [
      "cant null antes: 3642\n",
      "cant null despues: 1\n",
      "cant null antes: 1\n",
      "cant null despues: 0\n"
     ]
    }
   ],
   "source": [
    "Do_resamples(data_2003_2, 'IND_ANNO_TERMINO_BACHILLERATO', str)"
   ]
  },
  {
   "cell_type": "code",
   "execution_count": 9,
   "metadata": {
    "collapsed": false
   },
   "outputs": [
    {
     "name": "stdout",
     "output_type": "stream",
     "text": [
      "Index(['C', 'M', 'N', 'S', 'T'], dtype='object')\n",
      "C     86656\n",
      "M    156056\n",
      "N     30181\n",
      "S      2271\n",
      "T     79536\n",
      "Name: COLE_JORNADA, dtype: int64\n",
      "Elementos null/NaN 0\n",
      "__________________\n",
      "Elementos diferentes de null/NaN: 354700\n",
      "__________________\n",
      "(354700,)\n",
      "None\n"
     ]
    }
   ],
   "source": [
    "print(data_2003_2['COLE_JORNADA'].value_counts().sort_index().index)\n",
    "print(data_2003_2['COLE_JORNADA'].value_counts().sort_index())\n",
    "print(missing_data(data_2003_2['COLE_JORNADA']))"
   ]
  },
  {
   "cell_type": "code",
   "execution_count": 10,
   "metadata": {
    "collapsed": false,
    "scrolled": true
   },
   "outputs": [
    {
     "name": "stdout",
     "output_type": "stream",
     "text": [
      "Index(['8', '1', 8.0, 1.0, '2', '4', '3', '5', 2.0, 4.0, '6', 5.0, 3.0, 6.0,\n",
      "       '7', 7.0, '@'],\n",
      "      dtype='object')\n",
      "8      75365\n",
      "1      74902\n",
      "8.0    48749\n",
      "1.0    36425\n",
      "2      16377\n",
      "4      12967\n",
      "3      11696\n",
      "5      10820\n",
      "2.0     8743\n",
      "4.0     8621\n",
      "6       8118\n",
      "5.0     7813\n",
      "3.0     7615\n",
      "6.0     5340\n",
      "7       3344\n",
      "7.0     2479\n",
      "@         22\n",
      "Name: COLE_VALOR_PENSION, dtype: int64\n",
      "Elementos null/NaN 15304\n",
      "__________________\n",
      "Elementos diferentes de null/NaN: 339396\n",
      "__________________\n",
      "(339396,)\n",
      "None\n"
     ]
    }
   ],
   "source": [
    "print(data_2003_2['COLE_VALOR_PENSION'].value_counts().index)\n",
    "print(data_2003_2['COLE_VALOR_PENSION'].value_counts())\n",
    "print(missing_data(data_2003_2['COLE_VALOR_PENSION']))"
   ]
  },
  {
   "cell_type": "code",
   "execution_count": 11,
   "metadata": {
    "collapsed": true
   },
   "outputs": [],
   "source": [
    "for i in data_2003_2['COLE_VALOR_PENSION'].value_counts().index:\n",
    "    if type(i) == float:\n",
    "        data_2003_2['COLE_VALOR_PENSION'] = data_2003_2['COLE_VALOR_PENSION'].replace(i, str(i)[:-2])\n",
    "data_2003_2['COLE_VALOR_PENSION'] = data_2003_2['COLE_VALOR_PENSION'].replace('@', np.nan)"
   ]
  },
  {
   "cell_type": "code",
   "execution_count": 99,
   "metadata": {
    "collapsed": false,
    "scrolled": true
   },
   "outputs": [
    {
     "name": "stdout",
     "output_type": "stream",
     "text": [
      "cant null antes: 15326\n",
      "cant null despues: 1\n",
      "cant null antes: 1\n",
      "cant null despues: 0\n"
     ]
    }
   ],
   "source": [
    "Do_resamples(data_2003_2, 'COLE_VALOR_PENSION', str)"
   ]
  },
  {
   "cell_type": "code",
   "execution_count": 12,
   "metadata": {
    "collapsed": false
   },
   "outputs": [
    {
     "name": "stdout",
     "output_type": "stream",
     "text": [
      "Index(['F', 'M'], dtype='object')\n",
      "F    190811\n",
      "M    163889\n",
      "Name: ESTU_GENERO, dtype: int64\n",
      "Elementos null/NaN 0\n",
      "__________________\n",
      "Elementos diferentes de null/NaN: 354700\n",
      "__________________\n",
      "(354700,)\n",
      "None\n"
     ]
    }
   ],
   "source": [
    "print(data_2003_2['ESTU_GENERO'].value_counts().sort_index().index)\n",
    "print(data_2003_2['ESTU_GENERO'].value_counts().sort_index())\n",
    "print(missing_data(data_2003_2['ESTU_GENERO']))"
   ]
  },
  {
   "cell_type": "code",
   "execution_count": 13,
   "metadata": {
    "collapsed": false,
    "scrolled": true
   },
   "outputs": [
    {
     "name": "stdout",
     "output_type": "stream",
     "text": [
      "Float64Index([ 0.0,  1.0,  2.0,  3.0,  4.0,  5.0,  6.0,  7.0,  8.0,  9.0, 10.0,\n",
      "              11.0, 12.0, 13.0, 14.0, 15.0, 16.0, 17.0, 18.0, 19.0, 20.0, 21.0,\n",
      "              22.0, 23.0, 24.0, 25.0, 26.0, 27.0, 28.0, 29.0, 30.0, 31.0],\n",
      "             dtype='float64')\n",
      "0.0         2\n",
      "1.0     17245\n",
      "2.0     11459\n",
      "3.0     11582\n",
      "4.0     11512\n",
      "5.0     11838\n",
      "6.0     11416\n",
      "7.0     11539\n",
      "8.0     11392\n",
      "9.0     11227\n",
      "10.0    12006\n",
      "11.0    11376\n",
      "12.0    11842\n",
      "13.0    11096\n",
      "14.0    11257\n",
      "15.0    11712\n",
      "16.0    11607\n",
      "17.0    11482\n",
      "18.0    11323\n",
      "19.0    11139\n",
      "20.0    11887\n",
      "21.0    10921\n",
      "22.0    11486\n",
      "23.0    11280\n",
      "24.0    11560\n",
      "25.0    11418\n",
      "26.0    11321\n",
      "27.0    11419\n",
      "28.0    11670\n",
      "29.0    10434\n",
      "30.0    10310\n",
      "31.0     6282\n",
      "Name: ESTU_NACIMIENTO_DIA, dtype: int64\n",
      "Elementos null/NaN 660\n",
      "__________________\n",
      "Elementos diferentes de null/NaN: 354040\n",
      "__________________\n",
      "(354040,)\n",
      "None\n"
     ]
    }
   ],
   "source": [
    "print(data_2003_2['ESTU_NACIMIENTO_DIA'].value_counts().sort_index().index)\n",
    "print(data_2003_2['ESTU_NACIMIENTO_DIA'].value_counts().sort_index())\n",
    "print(missing_data(data_2003_2['ESTU_NACIMIENTO_DIA']))"
   ]
  },
  {
   "cell_type": "code",
   "execution_count": 14,
   "metadata": {
    "collapsed": true
   },
   "outputs": [],
   "source": [
    "data_2003_2['ESTU_NACIMIENTO_DIA'] = data_2003_2['ESTU_NACIMIENTO_DIA'].replace(0.0, np.nan)"
   ]
  },
  {
   "cell_type": "code",
   "execution_count": 15,
   "metadata": {
    "collapsed": false,
    "scrolled": true
   },
   "outputs": [
    {
     "name": "stdout",
     "output_type": "stream",
     "text": [
      "Float64Index([ 1.0,  2.0,  3.0,  4.0,  5.0,  6.0,  7.0,  8.0,  9.0, 10.0, 11.0,\n",
      "              12.0, 13.0, 14.0, 17.0, 19.0, 21.0, 25.0],\n",
      "             dtype='float64')\n",
      "1.0     31106\n",
      "2.0     26079\n",
      "3.0     29161\n",
      "4.0     28231\n",
      "5.0     29367\n",
      "6.0     28058\n",
      "7.0     29320\n",
      "8.0     29510\n",
      "9.0     31464\n",
      "10.0    31294\n",
      "11.0    30156\n",
      "12.0    30298\n",
      "13.0        1\n",
      "14.0        2\n",
      "17.0        3\n",
      "19.0        2\n",
      "21.0        1\n",
      "25.0        1\n",
      "Name: ESTU_NACIMIENTO_MES, dtype: int64\n",
      "Elementos null/NaN 646\n",
      "__________________\n",
      "Elementos diferentes de null/NaN: 354054\n",
      "__________________\n",
      "(354054,)\n",
      "None\n"
     ]
    }
   ],
   "source": [
    "print(data_2003_2['ESTU_NACIMIENTO_MES'].value_counts().sort_index().index)\n",
    "print(data_2003_2['ESTU_NACIMIENTO_MES'].value_counts().sort_index())\n",
    "print(missing_data(data_2003_2['ESTU_NACIMIENTO_MES']))"
   ]
  },
  {
   "cell_type": "code",
   "execution_count": 16,
   "metadata": {
    "collapsed": true
   },
   "outputs": [],
   "source": [
    "data_2003_2['ESTU_NACIMIENTO_MES'] = data_2003_2['ESTU_NACIMIENTO_MES'].replace(13.0, np.nan)\n",
    "data_2003_2['ESTU_NACIMIENTO_MES'] = data_2003_2['ESTU_NACIMIENTO_MES'].replace(14.0, np.nan)\n",
    "data_2003_2['ESTU_NACIMIENTO_MES'] = data_2003_2['ESTU_NACIMIENTO_MES'].replace(17.0, np.nan)\n",
    "data_2003_2['ESTU_NACIMIENTO_MES'] = data_2003_2['ESTU_NACIMIENTO_MES'].replace(19.0, np.nan)\n",
    "data_2003_2['ESTU_NACIMIENTO_MES'] = data_2003_2['ESTU_NACIMIENTO_MES'].replace(21.0, np.nan)\n",
    "data_2003_2['ESTU_NACIMIENTO_MES'] = data_2003_2['ESTU_NACIMIENTO_MES'].replace(25.0, np.nan)"
   ]
  },
  {
   "cell_type": "code",
   "execution_count": 17,
   "metadata": {
    "collapsed": false,
    "scrolled": true
   },
   "outputs": [
    {
     "name": "stdout",
     "output_type": "stream",
     "text": [
      "Index([1986.0, 1987.0, 1985.0, 1984.0, 1983.0, 1982.0, 1988.0, '1986', 1981.0,\n",
      "       '1987',\n",
      "       ...\n",
      "       '1997', 1991.0, '1940',   '96', '1951', '1941', '2003', '1 0*', '1946',\n",
      "          1.0],\n",
      "      dtype='object', length=121)\n",
      "1986.0    113532\n",
      "1987.0     70634\n",
      "1985.0     69292\n",
      "1984.0     34695\n",
      "1983.0     15112\n",
      "1982.0      7340\n",
      "1988.0      6216\n",
      "1986        5985\n",
      "1981.0      3952\n",
      "1987        3544\n",
      "1985        3364\n",
      "1980.0      2662\n",
      "1979.0      1800\n",
      "1984        1444\n",
      "1978.0      1258\n",
      "1977.0      1102\n",
      "1976.0       892\n",
      "1975.0       795\n",
      "1974.0       715\n",
      "1973.0       679\n",
      "1972.0       652\n",
      "1971.0       564\n",
      "1983         552\n",
      "1970.0       507\n",
      "1969.0       497\n",
      "1968.0       466\n",
      "1967.0       409\n",
      "1966.0       398\n",
      "1965.0       366\n",
      "1964.0       338\n",
      "           ...  \n",
      "1952           3\n",
      "1954           2\n",
      "19             2\n",
      "1942           2\n",
      "197            2\n",
      "1945           2\n",
      "1948           2\n",
      "1949           2\n",
      "1993.0         2\n",
      "1897.0         1\n",
      "1  2           1\n",
      "1947           1\n",
      "1939.0         1\n",
      "988.0          1\n",
      "986.0          1\n",
      "98.0           1\n",
      "84.0           1\n",
      "1937           1\n",
      "1 *6           1\n",
      "**             1\n",
      "1997           1\n",
      "1991.0         1\n",
      "1940           1\n",
      "96             1\n",
      "1951           1\n",
      "1941           1\n",
      "2003           1\n",
      "1 0*           1\n",
      "1946           1\n",
      "1.0            1\n",
      "Name: ESTU_NACIMIENTO_ANNO, dtype: int64\n",
      "Elementos null/NaN 1387\n",
      "__________________\n",
      "Elementos diferentes de null/NaN: 353313\n",
      "__________________\n",
      "(353313,)\n",
      "None\n"
     ]
    }
   ],
   "source": [
    "print(data_2003_2['ESTU_NACIMIENTO_ANNO'].value_counts().index)\n",
    "print(data_2003_2['ESTU_NACIMIENTO_ANNO'].value_counts())\n",
    "print(missing_data(data_2003_2['ESTU_NACIMIENTO_ANNO']))"
   ]
  },
  {
   "cell_type": "code",
   "execution_count": 18,
   "metadata": {
    "collapsed": false
   },
   "outputs": [],
   "source": [
    "for i in data_2003_2['ESTU_NACIMIENTO_ANNO'].value_counts().index:\n",
    "    if type(i) == float:\n",
    "        data_2003_2['ESTU_NACIMIENTO_ANNO'] = data_2003_2['ESTU_NACIMIENTO_ANNO'].replace(i, str(i)[:-2])\n",
    "for i in data_2003_2['ESTU_NACIMIENTO_ANNO'].value_counts().index:\n",
    "    if '*' in i:\n",
    "        data_2003_2['ESTU_NACIMIENTO_ANNO'] = data_2003_2['ESTU_NACIMIENTO_ANNO'].replace(i, np.nan)\n",
    "    elif ' ' in i:\n",
    "        data_2003_2['ESTU_NACIMIENTO_ANNO'] = data_2003_2['ESTU_NACIMIENTO_ANNO'].replace(i, np.nan)\n",
    "    elif int(i) < 1935:\n",
    "        data_2003_2['ESTU_NACIMIENTO_ANNO'] = data_2003_2['ESTU_NACIMIENTO_ANNO'].replace(i, np.nan)"
   ]
  },
  {
   "cell_type": "code",
   "execution_count": 109,
   "metadata": {
    "collapsed": false
   },
   "outputs": [],
   "source": [
    "anno = data_2003_2[data_2003_2['ESTU_NACIMIENTO_ANNO'].isnull()].index\n",
    "data_2003_2 = data_2003_2.drop(anno)\n",
    "dia = data_2003_2[data_2003_2['ESTU_NACIMIENTO_DIA'].isnull()].index\n",
    "data_2003_2 = data_2003_2.drop(dia)\n",
    "mes = data_2003_2[data_2003_2['ESTU_NACIMIENTO_MES'].isnull()].index\n",
    "data_2003_2 = data_2003_2.drop(mes)"
   ]
  },
  {
   "cell_type": "code",
   "execution_count": 19,
   "metadata": {
    "collapsed": false,
    "scrolled": true
   },
   "outputs": [
    {
     "name": "stdout",
     "output_type": "stream",
     "text": [
      "Index(['AMAZONAS', 'ANTIOQUIA', 'ARAUCA', 'ATLANTICO', 'BOGOTA', 'BOLIVAR',\n",
      "       'BOYACA', 'CALDAS', 'CAQUETA', 'CASANARE', 'CAUCA', 'CESAR', 'CHOCO',\n",
      "       'CORDOBA', 'CUNDINAMARCA', 'GUAINIA', 'GUAVIARE', 'HUILA', 'LA GUAJIRA',\n",
      "       'MAGDALENA', 'META', 'NARIÑO', 'NORTE SANTANDER', 'PUTUMAYO', 'QUINDIO',\n",
      "       'RISARALDA', 'SAN ANDRES', 'SANTANDER', 'SUCRE', 'TOLIMA', 'VALLE',\n",
      "       'VAUPES', 'VICHADA'],\n",
      "      dtype='object')\n",
      "AMAZONAS             620\n",
      "ANTIOQUIA          51929\n",
      "ARAUCA              1498\n",
      "ATLANTICO          25107\n",
      "BOGOTA             75516\n",
      "BOLIVAR            17488\n",
      "BOYACA             15063\n",
      "CALDAS              9856\n",
      "CAQUETA             2316\n",
      "CASANARE            2417\n",
      "CAUCA               6681\n",
      "CESAR               7819\n",
      "CHOCO               3165\n",
      "CORDOBA            13004\n",
      "CUNDINAMARCA       22004\n",
      "GUAINIA              125\n",
      "GUAVIARE             501\n",
      "HUILA               7717\n",
      "LA GUAJIRA          4470\n",
      "MAGDALENA           9636\n",
      "META                6533\n",
      "NARIÑO               465\n",
      "NORTE SANTANDER    12291\n",
      "PUTUMAYO            1581\n",
      "QUINDIO             4893\n",
      "RISARALDA           7684\n",
      "SAN ANDRES           590\n",
      "SANTANDER          20515\n",
      "SUCRE               7411\n",
      "TOLIMA             12165\n",
      "VALLE               3245\n",
      "VAUPES               142\n",
      "VICHADA              253\n",
      "Name: ESTU_DEPTO_PRESENTACION, dtype: int64\n",
      "Elementos null/NaN 0\n",
      "__________________\n",
      "Elementos diferentes de null/NaN: 354700\n",
      "__________________\n",
      "(354700,)\n",
      "None\n"
     ]
    }
   ],
   "source": [
    "print(data_2003_2['ESTU_DEPTO_PRESENTACION'].value_counts().sort_index().index)\n",
    "print(data_2003_2['ESTU_DEPTO_PRESENTACION'].value_counts().sort_index())\n",
    "print(missing_data(data_2003_2['ESTU_DEPTO_PRESENTACION']))"
   ]
  },
  {
   "cell_type": "code",
   "execution_count": 20,
   "metadata": {
    "collapsed": false,
    "scrolled": true
   },
   "outputs": [
    {
     "name": "stdout",
     "output_type": "stream",
     "text": [
      "Index(['ABEJORRAL', 'ABREGO', 'ACACIAS', 'ACANDI', 'ACHI', 'AGUACHICA',\n",
      "       'AGUADAS', 'AGUAZUL', 'AGUSTIN CODAZZI', 'AIPE',\n",
      "       ...\n",
      "       'VILLAVICENCIO', 'VILLETA', 'VIOTA', 'YARUMAL', 'YAVARATE', 'YOLOMBO',\n",
      "       'YOPAL', 'ZAPATOCA', 'ZARAGOZA', 'ZIPAQUIRA'],\n",
      "      dtype='object', length=338)\n",
      "ABEJORRAL                    184\n",
      "ABREGO                       108\n",
      "ACACIAS                      695\n",
      "ACANDI                        34\n",
      "ACHI                          96\n",
      "AGUACHICA                   1139\n",
      "AGUADAS                      251\n",
      "AGUAZUL                      303\n",
      "AGUSTIN CODAZZI              415\n",
      "AIPE                         118\n",
      "ALTO BAUDO (PIE DE PATO)      43\n",
      "AMAGA                        521\n",
      "AMALFI                       334\n",
      "ANDES                        539\n",
      "ANSERMA                      516\n",
      "ANTIOQUIA                    582\n",
      "APARTADO                    1195\n",
      "ARACATACA                    263\n",
      "ARAUCA                       573\n",
      "ARAUQUITA                    157\n",
      "ARBELAEZ                     125\n",
      "ARBOLEDAS                     50\n",
      "ARBOLETES                    341\n",
      "ARIGUANI (EL DIFICIL)        279\n",
      "ARJONA                       616\n",
      "ARMENIA                     3403\n",
      "ASTREA                        77\n",
      "AYAPEL                       298\n",
      "BAGADO                        77\n",
      "BAHIA SOLANO (MUTIS)          98\n",
      "                            ... \n",
      "TULUA                        263\n",
      "TUMACO                        90\n",
      "TUNJA                       3576\n",
      "TURBACO                      763\n",
      "TURBO                        879\n",
      "TURMEQUE                     179\n",
      "TUTA                         113\n",
      "UBATE                        837\n",
      "UNGUIA                        54\n",
      "URRAO                        285\n",
      "VALLEDUPAR                  4556\n",
      "VELEZ                        372\n",
      "VENADILLO                    201\n",
      "VENTAQUEMADA                 127\n",
      "VIGIA DEL FUERTE              26\n",
      "VILLA DE LEYVA               238\n",
      "VILLA DEL ROSARIO            628\n",
      "VILLAGARZON                   44\n",
      "VILLAMARIA                   170\n",
      "VILLANUEVA                   665\n",
      "VILLAVICENCIO               4545\n",
      "VILLETA                      429\n",
      "VIOTA                         62\n",
      "YARUMAL                      632\n",
      "YAVARATE                      14\n",
      "YOLOMBO                      177\n",
      "YOPAL                       1181\n",
      "ZAPATOCA                     121\n",
      "ZARAGOZA                     167\n",
      "ZIPAQUIRA                   1883\n",
      "Name: ESTU_MCPIO_PRESENTACION, dtype: int64\n",
      "Elementos null/NaN 0\n",
      "__________________\n",
      "Elementos diferentes de null/NaN: 354700\n",
      "__________________\n",
      "(354700,)\n",
      "None\n"
     ]
    }
   ],
   "source": [
    "print(data_2003_2['ESTU_MCPIO_PRESENTACION'].value_counts().sort_index().index)\n",
    "print(data_2003_2['ESTU_MCPIO_PRESENTACION'].value_counts().sort_index())\n",
    "print(missing_data(data_2003_2['ESTU_MCPIO_PRESENTACION']))"
   ]
  },
  {
   "cell_type": "code",
   "execution_count": 21,
   "metadata": {
    "collapsed": false
   },
   "outputs": [
    {
     "name": "stdout",
     "output_type": "stream",
     "text": [
      "Index(['I'], dtype='object')\n",
      "I    48\n",
      "Name: ESTU_LIMITA_INVIDENTE, dtype: int64\n",
      "Elementos null/NaN 354652\n",
      "__________________\n",
      "Elementos diferentes de null/NaN: 48\n",
      "__________________\n",
      "(48,)\n",
      "None\n"
     ]
    }
   ],
   "source": [
    "print(data_2003_2['ESTU_LIMITA_INVIDENTE'].value_counts().sort_index().index)\n",
    "print(data_2003_2['ESTU_LIMITA_INVIDENTE'].value_counts().sort_index())\n",
    "print(missing_data(data_2003_2['ESTU_LIMITA_INVIDENTE']))"
   ]
  },
  {
   "cell_type": "code",
   "execution_count": 22,
   "metadata": {
    "collapsed": false
   },
   "outputs": [
    {
     "name": "stdout",
     "output_type": "stream",
     "text": [
      "Index(['R'], dtype='object')\n",
      "R    87\n",
      "Name: ESTU_LIMITA_SORDOINTERPRETE, dtype: int64\n",
      "Elementos null/NaN 354613\n",
      "__________________\n",
      "Elementos diferentes de null/NaN: 87\n",
      "__________________\n",
      "(87,)\n",
      "None\n"
     ]
    }
   ],
   "source": [
    "print(data_2003_2['ESTU_LIMITA_SORDOINTERPRETE'].value_counts().sort_index().index)\n",
    "print(data_2003_2['ESTU_LIMITA_SORDOINTERPRETE'].value_counts().sort_index())\n",
    "print(missing_data(data_2003_2['ESTU_LIMITA_SORDOINTERPRETE']))"
   ]
  },
  {
   "cell_type": "code",
   "execution_count": 23,
   "metadata": {
    "collapsed": false
   },
   "outputs": [
    {
     "name": "stdout",
     "output_type": "stream",
     "text": [
      "Index(['S'], dtype='object')\n",
      "S    23\n",
      "Name: ESTU_LIMITA_SORDONOINTERPRETE, dtype: int64\n",
      "Elementos null/NaN 354677\n",
      "__________________\n",
      "Elementos diferentes de null/NaN: 23\n",
      "__________________\n",
      "(23,)\n",
      "None\n"
     ]
    }
   ],
   "source": [
    "print(data_2003_2['ESTU_LIMITA_SORDONOINTERPRETE'].value_counts().sort_index().index)\n",
    "print(data_2003_2['ESTU_LIMITA_SORDONOINTERPRETE'].value_counts().sort_index())\n",
    "print(missing_data(data_2003_2['ESTU_LIMITA_SORDONOINTERPRETE']))"
   ]
  },
  {
   "cell_type": "code",
   "execution_count": 24,
   "metadata": {
    "collapsed": false
   },
   "outputs": [
    {
     "name": "stdout",
     "output_type": "stream",
     "text": [
      "Index(['M'], dtype='object')\n",
      "M    102\n",
      "Name: ESTU_LIMITA_MOTRIZ, dtype: int64\n",
      "Elementos null/NaN 354598\n",
      "__________________\n",
      "Elementos diferentes de null/NaN: 102\n",
      "__________________\n",
      "(102,)\n",
      "None\n"
     ]
    }
   ],
   "source": [
    "print(data_2003_2['ESTU_LIMITA_MOTRIZ'].value_counts().sort_index().index)\n",
    "print(data_2003_2['ESTU_LIMITA_MOTRIZ'].value_counts().sort_index())\n",
    "print(missing_data(data_2003_2['ESTU_LIMITA_MOTRIZ']))"
   ]
  },
  {
   "cell_type": "code",
   "execution_count": 110,
   "metadata": {
    "collapsed": true
   },
   "outputs": [],
   "source": [
    "data_2003_2 = data_2003_2.drop(['ESTU_LIMITA_INVIDENTE', 'ESTU_LIMITA_SORDOINTERPRETE', 'ESTU_LIMITA_SORDONOINTERPRETE',\n",
    "                               'ESTU_LIMITA_MOTRIZ'], axis=1)"
   ]
  },
  {
   "cell_type": "code",
   "execution_count": 25,
   "metadata": {
    "collapsed": false,
    "scrolled": true
   },
   "outputs": [
    {
     "name": "stdout",
     "output_type": "stream",
     "text": [
      "Index(['*', '*  *', '*  4', '* *', '* 0', '* 01', '* 02', '* 04', '* 05',\n",
      "       '* 06',\n",
      "       ...\n",
      "       '9708', '9803', '9813', '9837', '99', '99 9', '9914', '9977', '999',\n",
      "       '9999'],\n",
      "      dtype='object', length=1614)\n",
      "*          32\n",
      "*  *        8\n",
      "*  4        1\n",
      "* *        24\n",
      "* 0         2\n",
      "* 01        1\n",
      "* 02        1\n",
      "* 04        1\n",
      "* 05        2\n",
      "* 06        2\n",
      "* 08        2\n",
      "* 09        1\n",
      "* 1         4\n",
      "* 10        2\n",
      "* 11        1\n",
      "* 12        1\n",
      "* 13        2\n",
      "* 17        3\n",
      "* 20        4\n",
      "* 24        2\n",
      "* 28        1\n",
      "* 5         2\n",
      "* 7         1\n",
      "* 8         1\n",
      "**         44\n",
      "****        8\n",
      "**2*        1\n",
      "**88        1\n",
      "**9*        1\n",
      "*0          3\n",
      "        ...  \n",
      "9112      896\n",
      "9113       84\n",
      "9114      219\n",
      "9115       31\n",
      "9117        1\n",
      "9119        1\n",
      "9121        2\n",
      "9130        1\n",
      "9135        1\n",
      "9190        1\n",
      "9192        2\n",
      "9201        1\n",
      "9204        2\n",
      "9301        2\n",
      "9404        2\n",
      "9501        1\n",
      "9505        1\n",
      "9701        2\n",
      "9702        1\n",
      "9704        1\n",
      "9708        1\n",
      "9803        2\n",
      "9813        1\n",
      "9837        1\n",
      "99         18\n",
      "99 9       25\n",
      "9914        1\n",
      "9977        1\n",
      "999        69\n",
      "9999    17749\n",
      "Name: ESTU_IES_COD_DESEADA, dtype: int64\n",
      "Elementos null/NaN 26900\n",
      "__________________\n",
      "Elementos diferentes de null/NaN: 327800\n",
      "__________________\n",
      "(327800,)\n",
      "None\n"
     ]
    }
   ],
   "source": [
    "print(data_2003_2['ESTU_IES_COD_DESEADA'].value_counts().sort_index().index)\n",
    "print(data_2003_2['ESTU_IES_COD_DESEADA'].value_counts().sort_index())\n",
    "print(missing_data(data_2003_2['ESTU_IES_COD_DESEADA']))"
   ]
  },
  {
   "cell_type": "code",
   "execution_count": 26,
   "metadata": {
    "collapsed": false
   },
   "outputs": [],
   "source": [
    "for i in data_2003_2['ESTU_IES_COD_DESEADA'].value_counts().sort_index().index:\n",
    "    if '*' in i:\n",
    "        data_2003_2['ESTU_IES_COD_DESEADA'] = data_2003_2['ESTU_IES_COD_DESEADA'].replace(i, np.nan)\n",
    "    elif ' ' in i:\n",
    "        data_2003_2['ESTU_IES_COD_DESEADA'] = data_2003_2['ESTU_IES_COD_DESEADA'].replace(i, np.nan)\n",
    "    elif int(i) < 1000:\n",
    "        data_2003_2['ESTU_IES_COD_DESEADA'] = data_2003_2['ESTU_IES_COD_DESEADA'].replace(i, np.nan)"
   ]
  },
  {
   "cell_type": "code",
   "execution_count": 112,
   "metadata": {
    "collapsed": false
   },
   "outputs": [
    {
     "name": "stdout",
     "output_type": "stream",
     "text": [
      "cant null antes: 30028\n",
      "cant null despues: 75\n",
      "cant null antes: 75\n",
      "cant null despues: 0\n"
     ]
    }
   ],
   "source": [
    "Do_resamples(data_2003_2, 'ESTU_IES_COD_DESEADA', str)"
   ]
  },
  {
   "cell_type": "code",
   "execution_count": 27,
   "metadata": {
    "collapsed": false,
    "scrolled": true
   },
   "outputs": [
    {
     "name": "stdout",
     "output_type": "stream",
     "text": [
      "Index(['2', '3', '8', '5', '4', '6', 2.0, '7', 3.0, 5.0, 8.0, 4.0, 6.0, '1',\n",
      "       7.0, 1.0, '*'],\n",
      "      dtype='object')\n",
      "2      88790\n",
      "3      36642\n",
      "8      34526\n",
      "5      34054\n",
      "4      28048\n",
      "6      26065\n",
      "2.0    19647\n",
      "7      17580\n",
      "3.0     8632\n",
      "5.0     7418\n",
      "8.0     7360\n",
      "4.0     7129\n",
      "6.0     6545\n",
      "1       4951\n",
      "7.0     3836\n",
      "1.0     1200\n",
      "*         66\n",
      "Name: ESTU_RAZONINSTITUTO, dtype: int64\n",
      "Elementos null/NaN 22211\n",
      "__________________\n",
      "Elementos diferentes de null/NaN: 332489\n",
      "__________________\n",
      "(332489,)\n",
      "None\n"
     ]
    }
   ],
   "source": [
    "print(data_2003_2['ESTU_RAZONINSTITUTO'].value_counts().index)\n",
    "print(data_2003_2['ESTU_RAZONINSTITUTO'].value_counts())\n",
    "print(missing_data(data_2003_2['ESTU_RAZONINSTITUTO']))"
   ]
  },
  {
   "cell_type": "code",
   "execution_count": 28,
   "metadata": {
    "collapsed": true
   },
   "outputs": [],
   "source": [
    "for i in data_2003_2['ESTU_RAZONINSTITUTO'].value_counts().index:\n",
    "    if type(i) == float:\n",
    "        data_2003_2['ESTU_RAZONINSTITUTO'] = data_2003_2['ESTU_RAZONINSTITUTO'].replace(i, str(i)[:-2])\n",
    "        \n",
    "data_2003_2['ESTU_RAZONINSTITUTO'] = data_2003_2['ESTU_RAZONINSTITUTO'].replace('*', np.nan)"
   ]
  },
  {
   "cell_type": "code",
   "execution_count": 114,
   "metadata": {
    "collapsed": false
   },
   "outputs": [
    {
     "name": "stdout",
     "output_type": "stream",
     "text": [
      "cant null antes: 21523\n",
      "cant null despues: 0\n"
     ]
    }
   ],
   "source": [
    "Do_resamples(data_2003_2, 'ESTU_RAZONINSTITUTO', str)"
   ]
  },
  {
   "cell_type": "code",
   "execution_count": 29,
   "metadata": {
    "collapsed": false,
    "scrolled": true
   },
   "outputs": [
    {
     "name": "stdout",
     "output_type": "stream",
     "text": [
      "Index(['*', '*  8', '* *', '* * 1', '* * 2', '* * 3', '* * 8', '* *0', '* *1',\n",
      "       '* *6',\n",
      "       ...\n",
      "       '99101', '99104', '99105', '99111', '9915', '9947', '999', '999 9',\n",
      "       '9999', '99999'],\n",
      "      dtype='object', length=5891)\n",
      "*            9\n",
      "*  8         1\n",
      "* *         14\n",
      "* * 1        4\n",
      "* * 2        2\n",
      "* * 3        1\n",
      "* * 8        1\n",
      "* *0         2\n",
      "* *1         2\n",
      "* *6         1\n",
      "* *8         2\n",
      "* *9         1\n",
      "* 0 *        1\n",
      "* 05         1\n",
      "* 1          1\n",
      "* 1*         2\n",
      "* 101        1\n",
      "* 109        2\n",
      "* 110        1\n",
      "* 113        1\n",
      "* 118        1\n",
      "* 124        1\n",
      "* 142        1\n",
      "* 2          1\n",
      "* 2 *        2\n",
      "* 2*         3\n",
      "* 202        2\n",
      "* 22         1\n",
      "* 25         1\n",
      "* 29         1\n",
      "         ...  \n",
      "98126        2\n",
      "98131        1\n",
      "98156        1\n",
      "98186        1\n",
      "98197        1\n",
      "98201        1\n",
      "98255        1\n",
      "98257        2\n",
      "98260        1\n",
      "9833         1\n",
      "9840         1\n",
      "9853         1\n",
      "9858         1\n",
      "98756        1\n",
      "9899         1\n",
      "99           9\n",
      "99  9        5\n",
      "99 9         2\n",
      "99 99       10\n",
      "9909         2\n",
      "99101        2\n",
      "99104        1\n",
      "99105        1\n",
      "99111        1\n",
      "9915         1\n",
      "9947         1\n",
      "999         42\n",
      "999 9        8\n",
      "9999       233\n",
      "99999    15325\n",
      "Name: ESTU_CARRDESEADA_COD, dtype: int64\n",
      "Elementos null/NaN 17974\n",
      "__________________\n",
      "Elementos diferentes de null/NaN: 336726\n",
      "__________________\n",
      "(336726,)\n",
      "None\n"
     ]
    }
   ],
   "source": [
    "print(data_2003_2['ESTU_CARRDESEADA_COD'].value_counts().sort_index().index)\n",
    "print(data_2003_2['ESTU_CARRDESEADA_COD'].value_counts().sort_index())\n",
    "print(missing_data(data_2003_2['ESTU_CARRDESEADA_COD']))"
   ]
  },
  {
   "cell_type": "code",
   "execution_count": 30,
   "metadata": {
    "collapsed": true
   },
   "outputs": [],
   "source": [
    "for i in data_2003_2['ESTU_CARRDESEADA_COD'].value_counts().sort_index().index:\n",
    "    if '*' in i:\n",
    "        data_2003_2['ESTU_CARRDESEADA_COD'] = data_2003_2['ESTU_CARRDESEADA_COD'].replace(i, np.nan)\n",
    "    elif ' ' in i:\n",
    "        data_2003_2['ESTU_CARRDESEADA_COD'] = data_2003_2['ESTU_CARRDESEADA_COD'].replace(i, np.nan)"
   ]
  },
  {
   "cell_type": "code",
   "execution_count": 116,
   "metadata": {
    "collapsed": false,
    "scrolled": true
   },
   "outputs": [
    {
     "name": "stdout",
     "output_type": "stream",
     "text": [
      "cant null antes: 20087\n",
      "cant null despues: 280\n",
      "cant null antes: 280\n",
      "cant null despues: 0\n"
     ]
    }
   ],
   "source": [
    "Do_resamples(data_2003_2, 'ESTU_CARRDESEADA_COD', str)"
   ]
  },
  {
   "cell_type": "code",
   "execution_count": 31,
   "metadata": {
    "collapsed": false,
    "scrolled": true
   },
   "outputs": [
    {
     "name": "stdout",
     "output_type": "stream",
     "text": [
      "Index(['3', '2', '1', '4', '5', '6', 1.0, 3.0, 2.0, 4.0, 5.0, 6.0, '*'], dtype='object')\n",
      "3      90526\n",
      "2      86953\n",
      "1      85845\n",
      "4      26651\n",
      "5      25679\n",
      "6       8288\n",
      "1.0     5062\n",
      "3.0     4042\n",
      "2.0     3478\n",
      "4.0     1474\n",
      "5.0     1149\n",
      "6.0      688\n",
      "*         67\n",
      "Name: ESTU_CARRDESEADA_RAZON, dtype: int64\n",
      "Elementos null/NaN 14798\n",
      "__________________\n",
      "Elementos diferentes de null/NaN: 339902\n",
      "__________________\n",
      "(339902,)\n",
      "None\n"
     ]
    }
   ],
   "source": [
    "print(data_2003_2['ESTU_CARRDESEADA_RAZON'].value_counts().index)\n",
    "print(data_2003_2['ESTU_CARRDESEADA_RAZON'].value_counts())\n",
    "print(missing_data(data_2003_2['ESTU_CARRDESEADA_RAZON']))"
   ]
  },
  {
   "cell_type": "code",
   "execution_count": 32,
   "metadata": {
    "collapsed": true
   },
   "outputs": [],
   "source": [
    "for i in data_2003_2['ESTU_CARRDESEADA_RAZON'].value_counts().index:\n",
    "    if type(i) == float:\n",
    "        data_2003_2['ESTU_CARRDESEADA_RAZON'] = data_2003_2['ESTU_CARRDESEADA_RAZON'].replace(i, str(i)[:-2])\n",
    "\n",
    "data_2003_2['ESTU_CARRDESEADA_RAZON'] = data_2003_2['ESTU_CARRDESEADA_RAZON'].replace('*', np.nan)"
   ]
  },
  {
   "cell_type": "code",
   "execution_count": 118,
   "metadata": {
    "collapsed": false,
    "scrolled": true
   },
   "outputs": [
    {
     "name": "stdout",
     "output_type": "stream",
     "text": [
      "cant null antes: 14119\n",
      "cant null despues: 0\n"
     ]
    }
   ],
   "source": [
    "Do_resamples(data_2003_2, 'ESTU_CARRDESEADA_RAZON', str)"
   ]
  },
  {
   "cell_type": "code",
   "execution_count": 33,
   "metadata": {
    "collapsed": false
   },
   "outputs": [
    {
     "name": "stdout",
     "output_type": "stream",
     "text": [
      "Index(['+', '0', '1', '2', '3', '4', '5', '6', '7', '8', '9', '@'], dtype='object')\n",
      "+    12677\n",
      "0       94\n",
      "1      809\n",
      "2    11135\n",
      "3    37633\n",
      "4    83809\n",
      "5    91325\n",
      "6    56118\n",
      "7    29921\n",
      "8    16288\n",
      "9     9277\n",
      "@      434\n",
      "Name: FAMI_PERSONAS_HOGAR, dtype: int64\n",
      "Elementos null/NaN 5180\n",
      "__________________\n",
      "Elementos diferentes de null/NaN: 349520\n",
      "__________________\n",
      "(349520,)\n",
      "None\n"
     ]
    }
   ],
   "source": [
    "print(data_2003_2['FAMI_PERSONAS_HOGAR'].value_counts().sort_index().index)\n",
    "print(data_2003_2['FAMI_PERSONAS_HOGAR'].value_counts().sort_index())\n",
    "print(missing_data(data_2003_2['FAMI_PERSONAS_HOGAR']))"
   ]
  },
  {
   "cell_type": "code",
   "execution_count": 34,
   "metadata": {
    "collapsed": true
   },
   "outputs": [],
   "source": [
    "data_2003_2['FAMI_PERSONAS_HOGAR'] = data_2003_2['FAMI_PERSONAS_HOGAR'].replace('+', '+9')\n",
    "data_2003_2['FAMI_PERSONAS_HOGAR'] = data_2003_2['FAMI_PERSONAS_HOGAR'].replace('@', np.nan)"
   ]
  },
  {
   "cell_type": "code",
   "execution_count": 119,
   "metadata": {
    "collapsed": false
   },
   "outputs": [
    {
     "name": "stdout",
     "output_type": "stream",
     "text": [
      "cant null antes: 4833\n",
      "cant null despues: 1\n",
      "cant null antes: 1\n",
      "cant null despues: 0\n"
     ]
    }
   ],
   "source": [
    "Do_resamples(data_2003_2, 'FAMI_PERSONAS_HOGAR', str)"
   ]
  },
  {
   "cell_type": "code",
   "execution_count": 35,
   "metadata": {
    "collapsed": false
   },
   "outputs": [
    {
     "name": "stdout",
     "output_type": "stream",
     "text": [
      "Index(['*', 'N', 'S'], dtype='object')\n",
      "*        33\n",
      "N    101714\n",
      "S    246038\n",
      "Name: FAMI_VIVIENDA_PROPIA, dtype: int64\n",
      "Elementos null/NaN 6915\n",
      "__________________\n",
      "Elementos diferentes de null/NaN: 347785\n",
      "__________________\n",
      "(347785,)\n",
      "None\n"
     ]
    }
   ],
   "source": [
    "print(data_2003_2['FAMI_VIVIENDA_PROPIA'].value_counts().sort_index().index)\n",
    "print(data_2003_2['FAMI_VIVIENDA_PROPIA'].value_counts().sort_index())\n",
    "print(missing_data(data_2003_2['FAMI_VIVIENDA_PROPIA']))"
   ]
  },
  {
   "cell_type": "code",
   "execution_count": 36,
   "metadata": {
    "collapsed": false
   },
   "outputs": [],
   "source": [
    "data_2003_2['FAMI_VIVIENDA_PROPIA'] = data_2003_2['FAMI_VIVIENDA_PROPIA'].replace('*', np.nan)"
   ]
  },
  {
   "cell_type": "code",
   "execution_count": 120,
   "metadata": {
    "collapsed": false
   },
   "outputs": [
    {
     "name": "stdout",
     "output_type": "stream",
     "text": [
      "cant null antes: 6280\n",
      "cant null despues: 0\n"
     ]
    }
   ],
   "source": [
    "Do_resamples(data_2003_2, 'FAMI_VIVIENDA_PROPIA', str)"
   ]
  },
  {
   "cell_type": "code",
   "execution_count": 37,
   "metadata": {
    "collapsed": false
   },
   "outputs": [
    {
     "name": "stdout",
     "output_type": "stream",
     "text": [
      "Index(['*', 'N', 'S'], dtype='object')\n",
      "*        16\n",
      "N    169841\n",
      "S     53875\n",
      "Name: FAMI_DEUDA_VIVIENDA, dtype: int64\n",
      "Elementos null/NaN 130968\n",
      "__________________\n",
      "Elementos diferentes de null/NaN: 223732\n",
      "__________________\n",
      "(223732,)\n",
      "None\n"
     ]
    }
   ],
   "source": [
    "print(data_2003_2['FAMI_DEUDA_VIVIENDA'].value_counts().sort_index().index)\n",
    "print(data_2003_2['FAMI_DEUDA_VIVIENDA'].value_counts().sort_index())\n",
    "print(missing_data(data_2003_2['FAMI_DEUDA_VIVIENDA']))"
   ]
  },
  {
   "cell_type": "code",
   "execution_count": 38,
   "metadata": {
    "collapsed": true
   },
   "outputs": [],
   "source": [
    "data_2003_2['FAMI_DEUDA_VIVIENDA'] = data_2003_2['FAMI_DEUDA_VIVIENDA'].replace('*', np.nan)"
   ]
  },
  {
   "cell_type": "code",
   "execution_count": 121,
   "metadata": {
    "collapsed": false
   },
   "outputs": [
    {
     "name": "stdout",
     "output_type": "stream",
     "text": [
      "cant null antes: 129948\n",
      "cant null despues: 0\n"
     ]
    }
   ],
   "source": [
    "Do_resamples(data_2003_2, 'FAMI_DEUDA_VIVIENDA', str)"
   ]
  },
  {
   "cell_type": "code",
   "execution_count": 39,
   "metadata": {
    "collapsed": false
   },
   "outputs": [
    {
     "name": "stdout",
     "output_type": "stream",
     "text": [
      "Index(['*', '+', '0', '1', '2', '3', '4', '5', '6', '7', '8', '9'], dtype='object')\n",
      "*       390\n",
      "+       216\n",
      "0      1424\n",
      "1    180572\n",
      "2    133139\n",
      "3     23213\n",
      "4      6214\n",
      "5      1676\n",
      "6       519\n",
      "7       196\n",
      "8       104\n",
      "9        74\n",
      "Name: FAMI_APORTANTES, dtype: int64\n",
      "Elementos null/NaN 6963\n",
      "__________________\n",
      "Elementos diferentes de null/NaN: 347737\n",
      "__________________\n",
      "(347737,)\n",
      "None\n"
     ]
    }
   ],
   "source": [
    "print(data_2003_2['FAMI_APORTANTES'].value_counts().sort_index().index)\n",
    "print(data_2003_2['FAMI_APORTANTES'].value_counts().sort_index())\n",
    "print(missing_data(data_2003_2['FAMI_APORTANTES']))"
   ]
  },
  {
   "cell_type": "code",
   "execution_count": 40,
   "metadata": {
    "collapsed": true
   },
   "outputs": [],
   "source": [
    "data_2003_2['FAMI_APORTANTES'] = data_2003_2['FAMI_APORTANTES'].replace('*', np.nan)\n",
    "data_2003_2['FAMI_APORTANTES'] = data_2003_2['FAMI_APORTANTES'].replace('+', '+9')"
   ]
  },
  {
   "cell_type": "code",
   "execution_count": 122,
   "metadata": {
    "collapsed": false
   },
   "outputs": [
    {
     "name": "stdout",
     "output_type": "stream",
     "text": [
      "cant null antes: 6590\n",
      "cant null despues: 0\n"
     ]
    }
   ],
   "source": [
    "Do_resamples(data_2003_2, 'FAMI_APORTANTES', str)"
   ]
  },
  {
   "cell_type": "code",
   "execution_count": 41,
   "metadata": {
    "collapsed": false,
    "scrolled": true
   },
   "outputs": [
    {
     "name": "stdout",
     "output_type": "stream",
     "text": [
      "Index(['1', '0', '2', 1.0, '3', 0.0, 2.0, '4', 3.0, 4.0, '*', '6', '5', '9',\n",
      "       '7', '8', 5.0, 6.0],\n",
      "      dtype='object')\n",
      "1      112267\n",
      "0       87571\n",
      "2       43227\n",
      "1.0     25352\n",
      "3       22080\n",
      "0.0     14918\n",
      "2.0     11505\n",
      "4        8250\n",
      "3.0      6494\n",
      "4.0      2562\n",
      "*          40\n",
      "6          15\n",
      "5          13\n",
      "9          10\n",
      "7           8\n",
      "8           4\n",
      "5.0         2\n",
      "6.0         1\n",
      "Name: FAMI_INGRESO_FMILIAR_MENSUAL, dtype: int64\n",
      "Elementos null/NaN 20381\n",
      "__________________\n",
      "Elementos diferentes de null/NaN: 334319\n",
      "__________________\n",
      "(334319,)\n",
      "None\n"
     ]
    }
   ],
   "source": [
    "print(data_2003_2['FAMI_INGRESO_FMILIAR_MENSUAL'].value_counts().index)\n",
    "print(data_2003_2['FAMI_INGRESO_FMILIAR_MENSUAL'].value_counts())\n",
    "print(missing_data(data_2003_2['FAMI_INGRESO_FMILIAR_MENSUAL']))"
   ]
  },
  {
   "cell_type": "code",
   "execution_count": 42,
   "metadata": {
    "collapsed": true
   },
   "outputs": [],
   "source": [
    "for i in data_2003_2['FAMI_INGRESO_FMILIAR_MENSUAL'].value_counts().index:\n",
    "    if type(i) == float:\n",
    "        data_2003_2['FAMI_INGRESO_FMILIAR_MENSUAL'] = data_2003_2['FAMI_INGRESO_FMILIAR_MENSUAL'].replace(i, str(i)[:-2])\n",
    "        \n",
    "data_2003_2['FAMI_INGRESO_FMILIAR_MENSUAL'] = data_2003_2['FAMI_INGRESO_FMILIAR_MENSUAL'].replace('*', np.nan)"
   ]
  },
  {
   "cell_type": "code",
   "execution_count": 123,
   "metadata": {
    "collapsed": false
   },
   "outputs": [
    {
     "name": "stdout",
     "output_type": "stream",
     "text": [
      "cant null antes: 19651\n",
      "cant null despues: 0\n"
     ]
    }
   ],
   "source": [
    "Do_resamples(data_2003_2, 'FAMI_INGRESO_FMILIAR_MENSUAL', str)"
   ]
  },
  {
   "cell_type": "code",
   "execution_count": 43,
   "metadata": {
    "collapsed": false
   },
   "outputs": [
    {
     "name": "stdout",
     "output_type": "stream",
     "text": [
      "Index(['*', 'N', 'S'], dtype='object')\n",
      "*       178\n",
      "N     13391\n",
      "S    310889\n",
      "Name: FAMI_LEE_ESCRIBE_PADRE, dtype: int64\n",
      "Elementos null/NaN 30242\n",
      "__________________\n",
      "Elementos diferentes de null/NaN: 324458\n",
      "__________________\n",
      "(324458,)\n",
      "None\n"
     ]
    }
   ],
   "source": [
    "print(data_2003_2['FAMI_LEE_ESCRIBE_PADRE'].value_counts().sort_index().index)\n",
    "print(data_2003_2['FAMI_LEE_ESCRIBE_PADRE'].value_counts().sort_index())\n",
    "print(missing_data(data_2003_2['FAMI_LEE_ESCRIBE_PADRE']))"
   ]
  },
  {
   "cell_type": "code",
   "execution_count": 44,
   "metadata": {
    "collapsed": true
   },
   "outputs": [],
   "source": [
    "data_2003_2['FAMI_LEE_ESCRIBE_PADRE'] = data_2003_2['FAMI_LEE_ESCRIBE_PADRE'].replace('*', np.nan)"
   ]
  },
  {
   "cell_type": "code",
   "execution_count": 124,
   "metadata": {
    "collapsed": false
   },
   "outputs": [
    {
     "name": "stdout",
     "output_type": "stream",
     "text": [
      "cant null antes: 29690\n",
      "cant null despues: 0\n"
     ]
    }
   ],
   "source": [
    "Do_resamples(data_2003_2, 'FAMI_LEE_ESCRIBE_PADRE', str)"
   ]
  },
  {
   "cell_type": "code",
   "execution_count": 45,
   "metadata": {
    "collapsed": false
   },
   "outputs": [
    {
     "name": "stdout",
     "output_type": "stream",
     "text": [
      "Index(['*', 'N', 'S'], dtype='object')\n",
      "*       167\n",
      "N     12162\n",
      "S    330151\n",
      "Name: FAMI_LEE_ESCRIBE_MADRE, dtype: int64\n",
      "Elementos null/NaN 12220\n",
      "__________________\n",
      "Elementos diferentes de null/NaN: 342480\n",
      "__________________\n",
      "(342480,)\n",
      "None\n"
     ]
    }
   ],
   "source": [
    "print(data_2003_2['FAMI_LEE_ESCRIBE_MADRE'].value_counts().sort_index().index)\n",
    "print(data_2003_2['FAMI_LEE_ESCRIBE_MADRE'].value_counts().sort_index())\n",
    "print(missing_data(data_2003_2['FAMI_LEE_ESCRIBE_MADRE']))"
   ]
  },
  {
   "cell_type": "code",
   "execution_count": 46,
   "metadata": {
    "collapsed": true
   },
   "outputs": [],
   "source": [
    "data_2003_2['FAMI_LEE_ESCRIBE_MADRE'] = data_2003_2['FAMI_LEE_ESCRIBE_MADRE'].replace('*', np.nan)"
   ]
  },
  {
   "cell_type": "code",
   "execution_count": 125,
   "metadata": {
    "collapsed": false
   },
   "outputs": [
    {
     "name": "stdout",
     "output_type": "stream",
     "text": [
      "cant null antes: 11700\n",
      "cant null despues: 0\n"
     ]
    }
   ],
   "source": [
    "Do_resamples(data_2003_2, 'FAMI_LEE_ESCRIBE_MADRE', str)"
   ]
  },
  {
   "cell_type": "code",
   "execution_count": 47,
   "metadata": {
    "collapsed": false
   },
   "outputs": [
    {
     "name": "stdout",
     "output_type": "stream",
     "text": [
      "Index(['*', '1', '2', '3', '4', '5', '6', '7', '8', '9'], dtype='object')\n",
      "*      2833\n",
      "1     16689\n",
      "2      3575\n",
      "3    135979\n",
      "4     81397\n",
      "5     20471\n",
      "6     17973\n",
      "7     27836\n",
      "8     11701\n",
      "9        44\n",
      "Name: FAMI_EDUCA_PADRE, dtype: int64\n",
      "Elementos null/NaN 36202\n",
      "__________________\n",
      "Elementos diferentes de null/NaN: 318498\n",
      "__________________\n",
      "(318498,)\n",
      "None\n"
     ]
    }
   ],
   "source": [
    "print(data_2003_2['FAMI_EDUCA_PADRE'].value_counts().sort_index().index)\n",
    "print(data_2003_2['FAMI_EDUCA_PADRE'].value_counts().sort_index())\n",
    "print(missing_data(data_2003_2['FAMI_EDUCA_PADRE']))"
   ]
  },
  {
   "cell_type": "code",
   "execution_count": 48,
   "metadata": {
    "collapsed": true
   },
   "outputs": [],
   "source": [
    "data_2003_2['FAMI_EDUCA_PADRE'] = data_2003_2['FAMI_EDUCA_PADRE'].replace('*', np.nan)"
   ]
  },
  {
   "cell_type": "code",
   "execution_count": 126,
   "metadata": {
    "collapsed": false
   },
   "outputs": [
    {
     "name": "stdout",
     "output_type": "stream",
     "text": [
      "cant null antes: 38188\n",
      "cant null despues: 1\n",
      "cant null antes: 1\n",
      "cant null despues: 0\n"
     ]
    }
   ],
   "source": [
    "Do_resamples(data_2003_2, 'FAMI_EDUCA_PADRE', str)"
   ]
  },
  {
   "cell_type": "code",
   "execution_count": 49,
   "metadata": {
    "collapsed": false
   },
   "outputs": [
    {
     "name": "stdout",
     "output_type": "stream",
     "text": [
      "Index(['*', '1', '2', '3', '4', '5', '6', '7', '8', '9'], dtype='object')\n",
      "*      2954\n",
      "1     13556\n",
      "2      3667\n",
      "3    142131\n",
      "4     95780\n",
      "5     25438\n",
      "6     16095\n",
      "7     22712\n",
      "8     10403\n",
      "9        49\n",
      "Name: FAMI_EDUCA_MADRE, dtype: int64\n",
      "Elementos null/NaN 21915\n",
      "__________________\n",
      "Elementos diferentes de null/NaN: 332785\n",
      "__________________\n",
      "(332785,)\n",
      "None\n"
     ]
    }
   ],
   "source": [
    "print(data_2003_2['FAMI_EDUCA_MADRE'].value_counts().sort_index().index)\n",
    "print(data_2003_2['FAMI_EDUCA_MADRE'].value_counts().sort_index())\n",
    "print(missing_data(data_2003_2['FAMI_EDUCA_MADRE']))"
   ]
  },
  {
   "cell_type": "code",
   "execution_count": 50,
   "metadata": {
    "collapsed": true
   },
   "outputs": [],
   "source": [
    "data_2003_2['FAMI_EDUCA_MADRE'] = data_2003_2['FAMI_EDUCA_MADRE'].replace('*', np.nan)"
   ]
  },
  {
   "cell_type": "code",
   "execution_count": 127,
   "metadata": {
    "collapsed": false
   },
   "outputs": [
    {
     "name": "stdout",
     "output_type": "stream",
     "text": [
      "cant null antes: 24023\n",
      "cant null despues: 0\n"
     ]
    }
   ],
   "source": [
    "Do_resamples(data_2003_2, 'FAMI_EDUCA_MADRE', str)"
   ]
  },
  {
   "cell_type": "code",
   "execution_count": 51,
   "metadata": {
    "collapsed": false,
    "scrolled": true
   },
   "outputs": [
    {
     "name": "stdout",
     "output_type": "stream",
     "text": [
      "Index(['01', '02', '03', '04', '05', '06', '07', '08', '09', '1', '10', '11',\n",
      "       '12', '2', '3', '4', '5', '6', '7', '8', '9', '@'],\n",
      "      dtype='object')\n",
      "01     3896\n",
      "02     6033\n",
      "03    16023\n",
      "04    22586\n",
      "05    99107\n",
      "06    44625\n",
      "07     2518\n",
      "08    78346\n",
      "09    15182\n",
      "1        23\n",
      "10     4026\n",
      "11      186\n",
      "12    13984\n",
      "2        24\n",
      "3        89\n",
      "4       173\n",
      "5       899\n",
      "6       533\n",
      "7        12\n",
      "8       670\n",
      "9       145\n",
      "@      8054\n",
      "Name: FAMI_OCUPA_PADRE, dtype: int64\n",
      "Elementos null/NaN 37566\n",
      "__________________\n",
      "Elementos diferentes de null/NaN: 317134\n",
      "__________________\n",
      "(317134,)\n",
      "None\n"
     ]
    }
   ],
   "source": [
    "print(data_2003_2['FAMI_OCUPA_PADRE'].value_counts().sort_index().index)\n",
    "print(data_2003_2['FAMI_OCUPA_PADRE'].value_counts().sort_index())\n",
    "print(missing_data(data_2003_2['FAMI_OCUPA_PADRE']))"
   ]
  },
  {
   "cell_type": "code",
   "execution_count": 52,
   "metadata": {
    "collapsed": true
   },
   "outputs": [],
   "source": [
    "data_2003_2['FAMI_OCUPA_PADRE'] = data_2003_2['FAMI_OCUPA_PADRE'].replace('1', '01')\n",
    "data_2003_2['FAMI_OCUPA_PADRE'] = data_2003_2['FAMI_OCUPA_PADRE'].replace('2', '02')\n",
    "data_2003_2['FAMI_OCUPA_PADRE'] = data_2003_2['FAMI_OCUPA_PADRE'].replace('3', '03')\n",
    "data_2003_2['FAMI_OCUPA_PADRE'] = data_2003_2['FAMI_OCUPA_PADRE'].replace('4', '04')\n",
    "data_2003_2['FAMI_OCUPA_PADRE'] = data_2003_2['FAMI_OCUPA_PADRE'].replace('5', '05')\n",
    "data_2003_2['FAMI_OCUPA_PADRE'] = data_2003_2['FAMI_OCUPA_PADRE'].replace('6', '06')\n",
    "data_2003_2['FAMI_OCUPA_PADRE'] = data_2003_2['FAMI_OCUPA_PADRE'].replace('7', '07')\n",
    "data_2003_2['FAMI_OCUPA_PADRE'] = data_2003_2['FAMI_OCUPA_PADRE'].replace('8', '08')\n",
    "data_2003_2['FAMI_OCUPA_PADRE'] = data_2003_2['FAMI_OCUPA_PADRE'].replace('9', '09')\n",
    "data_2003_2['FAMI_OCUPA_PADRE'] = data_2003_2['FAMI_OCUPA_PADRE'].replace('@', np.nan)"
   ]
  },
  {
   "cell_type": "code",
   "execution_count": 128,
   "metadata": {
    "collapsed": false
   },
   "outputs": [
    {
     "name": "stdout",
     "output_type": "stream",
     "text": [
      "cant null antes: 44763\n",
      "cant null despues: 0\n"
     ]
    }
   ],
   "source": [
    "Do_resamples(data_2003_2, 'FAMI_OCUPA_PADRE', str)"
   ]
  },
  {
   "cell_type": "code",
   "execution_count": 53,
   "metadata": {
    "collapsed": false,
    "scrolled": true
   },
   "outputs": [
    {
     "name": "stdout",
     "output_type": "stream",
     "text": [
      "Index(['01', '02', '03', '04', '05', '06', '07', '08', '09', '1', '10', '11',\n",
      "       '12', '2', '3', '4', '5', '6', '7', '8', '9', '@'],\n",
      "      dtype='object')\n",
      "01      1702\n",
      "02      3278\n",
      "03      6399\n",
      "04     21124\n",
      "05     41177\n",
      "06     35973\n",
      "07      2235\n",
      "08     24091\n",
      "09      4528\n",
      "1          4\n",
      "10    179556\n",
      "11      1187\n",
      "12      8499\n",
      "2          1\n",
      "3         51\n",
      "4        196\n",
      "5        432\n",
      "6        403\n",
      "7         13\n",
      "8        205\n",
      "9         44\n",
      "@       6328\n",
      "Name: FAMI_OCUPA_MADRE, dtype: int64\n",
      "Elementos null/NaN 17274\n",
      "__________________\n",
      "Elementos diferentes de null/NaN: 337426\n",
      "__________________\n",
      "(337426,)\n",
      "None\n"
     ]
    }
   ],
   "source": [
    "print(data_2003_2['FAMI_OCUPA_MADRE'].value_counts().sort_index().index)\n",
    "print(data_2003_2['FAMI_OCUPA_MADRE'].value_counts().sort_index())\n",
    "print(missing_data(data_2003_2['FAMI_OCUPA_MADRE']))"
   ]
  },
  {
   "cell_type": "code",
   "execution_count": 54,
   "metadata": {
    "collapsed": true
   },
   "outputs": [],
   "source": [
    "data_2003_2['FAMI_OCUPA_MADRE'] = data_2003_2['FAMI_OCUPA_MADRE'].replace('1', '01')\n",
    "data_2003_2['FAMI_OCUPA_MADRE'] = data_2003_2['FAMI_OCUPA_MADRE'].replace('2', '02')\n",
    "data_2003_2['FAMI_OCUPA_MADRE'] = data_2003_2['FAMI_OCUPA_MADRE'].replace('3', '03')\n",
    "data_2003_2['FAMI_OCUPA_MADRE'] = data_2003_2['FAMI_OCUPA_MADRE'].replace('4', '04')\n",
    "data_2003_2['FAMI_OCUPA_MADRE'] = data_2003_2['FAMI_OCUPA_MADRE'].replace('5', '05')\n",
    "data_2003_2['FAMI_OCUPA_MADRE'] = data_2003_2['FAMI_OCUPA_MADRE'].replace('6', '06')\n",
    "data_2003_2['FAMI_OCUPA_MADRE'] = data_2003_2['FAMI_OCUPA_MADRE'].replace('7', '07')\n",
    "data_2003_2['FAMI_OCUPA_MADRE'] = data_2003_2['FAMI_OCUPA_MADRE'].replace('8', '08')\n",
    "data_2003_2['FAMI_OCUPA_MADRE'] = data_2003_2['FAMI_OCUPA_MADRE'].replace('9', '09')\n",
    "data_2003_2['FAMI_OCUPA_MADRE'] = data_2003_2['FAMI_OCUPA_MADRE'].replace('@', np.nan)"
   ]
  },
  {
   "cell_type": "code",
   "execution_count": 129,
   "metadata": {
    "collapsed": false
   },
   "outputs": [
    {
     "name": "stdout",
     "output_type": "stream",
     "text": [
      "cant null antes: 22770\n",
      "cant null despues: 0\n"
     ]
    }
   ],
   "source": [
    "Do_resamples(data_2003_2, 'FAMI_OCUPA_MADRE', str)"
   ]
  },
  {
   "cell_type": "code",
   "execution_count": 55,
   "metadata": {
    "collapsed": false
   },
   "outputs": [
    {
     "name": "stdout",
     "output_type": "stream",
     "text": [
      "Index(['*', '+', '0', '1', '2', '3', '4', '5', '6', '7', '8', '9'], dtype='object')\n",
      "*      466\n",
      "+     6754\n",
      "0    16213\n",
      "1    68282\n",
      "2    89110\n",
      "3    60006\n",
      "4    35128\n",
      "5    21086\n",
      "6    13142\n",
      "7     8514\n",
      "8     5792\n",
      "9     3929\n",
      "Name: FAMI_NUM_HERMANOS, dtype: int64\n",
      "Elementos null/NaN 26278\n",
      "__________________\n",
      "Elementos diferentes de null/NaN: 328422\n",
      "__________________\n",
      "(328422,)\n",
      "None\n"
     ]
    }
   ],
   "source": [
    "print(data_2003_2['FAMI_NUM_HERMANOS'].value_counts().sort_index().index)\n",
    "print(data_2003_2['FAMI_NUM_HERMANOS'].value_counts().sort_index())\n",
    "print(missing_data(data_2003_2['FAMI_NUM_HERMANOS']))"
   ]
  },
  {
   "cell_type": "code",
   "execution_count": 56,
   "metadata": {
    "collapsed": true
   },
   "outputs": [],
   "source": [
    "data_2003_2['FAMI_NUM_HERMANOS'] = data_2003_2['FAMI_NUM_HERMANOS'].replace('+', '+9')\n",
    "data_2003_2['FAMI_NUM_HERMANOS'] = data_2003_2['FAMI_NUM_HERMANOS'].replace('*', np.nan)"
   ]
  },
  {
   "cell_type": "code",
   "execution_count": 130,
   "metadata": {
    "collapsed": false
   },
   "outputs": [
    {
     "name": "stdout",
     "output_type": "stream",
     "text": [
      "cant null antes: 25910\n",
      "cant null despues: 1\n",
      "cant null antes: 1\n",
      "cant null despues: 0\n"
     ]
    }
   ],
   "source": [
    "Do_resamples(data_2003_2, 'FAMI_NUM_HERMANOS', str)"
   ]
  },
  {
   "cell_type": "code",
   "execution_count": 57,
   "metadata": {
    "collapsed": false
   },
   "outputs": [
    {
     "name": "stdout",
     "output_type": "stream",
     "text": [
      "Index(['*', '+', '0', '1', '2', '3', '4', '5', '6', '7', '8', '9'], dtype='object')\n",
      "*       212\n",
      "+       172\n",
      "0    174444\n",
      "1     90146\n",
      "2     36526\n",
      "3     11504\n",
      "4      3687\n",
      "5      1386\n",
      "6       569\n",
      "7       267\n",
      "8       133\n",
      "9        86\n",
      "Name: FAMI_NUM_HERMANOS_EDUSUPERIOR, dtype: int64\n",
      "Elementos null/NaN 35568\n",
      "__________________\n",
      "Elementos diferentes de null/NaN: 319132\n",
      "__________________\n",
      "(319132,)\n",
      "None\n"
     ]
    }
   ],
   "source": [
    "print(data_2003_2['FAMI_NUM_HERMANOS_EDUSUPERIOR'].value_counts().sort_index().index)\n",
    "print(data_2003_2['FAMI_NUM_HERMANOS_EDUSUPERIOR'].value_counts().sort_index())\n",
    "print(missing_data(data_2003_2['FAMI_NUM_HERMANOS_EDUSUPERIOR']))"
   ]
  },
  {
   "cell_type": "code",
   "execution_count": 58,
   "metadata": {
    "collapsed": true
   },
   "outputs": [],
   "source": [
    "data_2003_2['FAMI_NUM_HERMANOS_EDUSUPERIOR'] = data_2003_2['FAMI_NUM_HERMANOS_EDUSUPERIOR'].replace('+', '+9')\n",
    "data_2003_2['FAMI_NUM_HERMANOS_EDUSUPERIOR'] = data_2003_2['FAMI_NUM_HERMANOS_EDUSUPERIOR'].replace('*', np.nan)"
   ]
  },
  {
   "cell_type": "code",
   "execution_count": 131,
   "metadata": {
    "collapsed": false
   },
   "outputs": [
    {
     "name": "stdout",
     "output_type": "stream",
     "text": [
      "cant null antes: 34919\n",
      "cant null despues: 1\n",
      "cant null antes: 1\n",
      "cant null despues: 0\n"
     ]
    }
   ],
   "source": [
    "Do_resamples(data_2003_2, 'FAMI_NUM_HERMANOS_EDUSUPERIOR', str)"
   ]
  },
  {
   "cell_type": "code",
   "execution_count": 59,
   "metadata": {
    "collapsed": false
   },
   "outputs": [
    {
     "name": "stdout",
     "output_type": "stream",
     "text": [
      "Index(['+', '0', '1', '2', '3', '4', '5', '6', '7', '8', '9', '@'], dtype='object')\n",
      "+      3157\n",
      "0        30\n",
      "1    116607\n",
      "2     91391\n",
      "3     57324\n",
      "4     29644\n",
      "5     15620\n",
      "6      8838\n",
      "7      5583\n",
      "8      3463\n",
      "9      2380\n",
      "@        35\n",
      "Name: FAMI_POSICION_HERMANOS, dtype: int64\n",
      "Elementos null/NaN 20628\n",
      "__________________\n",
      "Elementos diferentes de null/NaN: 334072\n",
      "__________________\n",
      "(334072,)\n",
      "None\n"
     ]
    }
   ],
   "source": [
    "print(data_2003_2['FAMI_POSICION_HERMANOS'].value_counts().sort_index().index)\n",
    "print(data_2003_2['FAMI_POSICION_HERMANOS'].value_counts().sort_index())\n",
    "print(missing_data(data_2003_2['FAMI_POSICION_HERMANOS']))"
   ]
  },
  {
   "cell_type": "code",
   "execution_count": 60,
   "metadata": {
    "collapsed": true
   },
   "outputs": [],
   "source": [
    "data_2003_2['FAMI_POSICION_HERMANOS'] = data_2003_2['FAMI_POSICION_HERMANOS'].replace('0', np.nan)\n",
    "data_2003_2['FAMI_POSICION_HERMANOS'] = data_2003_2['FAMI_POSICION_HERMANOS'].replace('+', '+9')\n",
    "data_2003_2['FAMI_POSICION_HERMANOS'] = data_2003_2['FAMI_POSICION_HERMANOS'].replace('@', np.nan)"
   ]
  },
  {
   "cell_type": "code",
   "execution_count": 132,
   "metadata": {
    "collapsed": false
   },
   "outputs": [
    {
     "name": "stdout",
     "output_type": "stream",
     "text": [
      "cant null antes: 19877\n",
      "cant null despues: 1\n",
      "cant null antes: 1\n",
      "cant null despues: 0\n"
     ]
    }
   ],
   "source": [
    "Do_resamples(data_2003_2, 'FAMI_POSICION_HERMANOS', str)"
   ]
  },
  {
   "cell_type": "code",
   "execution_count": 61,
   "metadata": {
    "collapsed": false
   },
   "outputs": [
    {
     "name": "stdout",
     "output_type": "stream",
     "text": [
      "Index(['*', 'N', 'P', 'T'], dtype='object')\n",
      "*        20\n",
      "N     13466\n",
      "P     35460\n",
      "T    291361\n",
      "Name: FAMI_SOST_PERSONAL, dtype: int64\n",
      "Elementos null/NaN 14393\n",
      "__________________\n",
      "Elementos diferentes de null/NaN: 340307\n",
      "__________________\n",
      "(340307,)\n",
      "None\n"
     ]
    }
   ],
   "source": [
    "print(data_2003_2['FAMI_SOST_PERSONAL'].value_counts().sort_index().index)\n",
    "print(data_2003_2['FAMI_SOST_PERSONAL'].value_counts().sort_index())\n",
    "print(missing_data(data_2003_2['FAMI_SOST_PERSONAL']))"
   ]
  },
  {
   "cell_type": "code",
   "execution_count": 62,
   "metadata": {
    "collapsed": true
   },
   "outputs": [],
   "source": [
    "data_2003_2['FAMI_SOST_PERSONAL'] = data_2003_2['FAMI_SOST_PERSONAL'].replace('*', np.nan)"
   ]
  },
  {
   "cell_type": "code",
   "execution_count": 133,
   "metadata": {
    "collapsed": false
   },
   "outputs": [
    {
     "name": "stdout",
     "output_type": "stream",
     "text": [
      "cant null antes: 13610\n",
      "cant null despues: 0\n"
     ]
    }
   ],
   "source": [
    "Do_resamples(data_2003_2, 'FAMI_SOST_PERSONAL', str)"
   ]
  },
  {
   "cell_type": "code",
   "execution_count": 63,
   "metadata": {
    "collapsed": false
   },
   "outputs": [
    {
     "name": "stdout",
     "output_type": "stream",
     "text": [
      "Index(['*', 'N', 'S'], dtype='object')\n",
      "*        12\n",
      "N    311031\n",
      "S     30789\n",
      "Name: ESTU_TRABAJA, dtype: int64\n",
      "Elementos null/NaN 12868\n",
      "__________________\n",
      "Elementos diferentes de null/NaN: 341832\n",
      "__________________\n",
      "(341832,)\n",
      "None\n"
     ]
    }
   ],
   "source": [
    "print(data_2003_2['ESTU_TRABAJA'].value_counts().sort_index().index)\n",
    "print(data_2003_2['ESTU_TRABAJA'].value_counts().sort_index())\n",
    "print(missing_data(data_2003_2['ESTU_TRABAJA']))"
   ]
  },
  {
   "cell_type": "code",
   "execution_count": 64,
   "metadata": {
    "collapsed": true
   },
   "outputs": [],
   "source": [
    "data_2003_2['ESTU_TRABAJA'] = data_2003_2['ESTU_TRABAJA'].replace('*', np.nan)"
   ]
  },
  {
   "cell_type": "code",
   "execution_count": 134,
   "metadata": {
    "collapsed": false
   },
   "outputs": [
    {
     "name": "stdout",
     "output_type": "stream",
     "text": [
      "cant null antes: 12120\n",
      "cant null despues: 0\n"
     ]
    }
   ],
   "source": [
    "Do_resamples(data_2003_2, 'ESTU_TRABAJA', str)"
   ]
  },
  {
   "cell_type": "code",
   "execution_count": 65,
   "metadata": {
    "collapsed": false
   },
   "outputs": [
    {
     "name": "stdout",
     "output_type": "stream",
     "text": [
      "Index(['3', '1', 3.0, '2', 1.0, 2.0, '*'], dtype='object')\n",
      "3      213138\n",
      "1      115680\n",
      "3.0     10587\n",
      "2        6088\n",
      "1.0      5287\n",
      "2.0       363\n",
      "*          74\n",
      "Name: ESTU_ACT_PROX_ANNO, dtype: int64\n",
      "Elementos null/NaN 3483\n",
      "__________________\n",
      "Elementos diferentes de null/NaN: 351217\n",
      "__________________\n",
      "(351217,)\n",
      "None\n"
     ]
    }
   ],
   "source": [
    "print(data_2003_2['ESTU_ACT_PROX_ANNO'].value_counts().index)\n",
    "print(data_2003_2['ESTU_ACT_PROX_ANNO'].value_counts())\n",
    "print(missing_data(data_2003_2['ESTU_ACT_PROX_ANNO']))"
   ]
  },
  {
   "cell_type": "code",
   "execution_count": 66,
   "metadata": {
    "collapsed": true
   },
   "outputs": [],
   "source": [
    "data_2003_2['ESTU_ACT_PROX_ANNO'] = data_2003_2['ESTU_ACT_PROX_ANNO'].replace(3.0, str(3.0)[:-2])\n",
    "data_2003_2['ESTU_ACT_PROX_ANNO'] = data_2003_2['ESTU_ACT_PROX_ANNO'].replace(2.0, str(2.0)[:-2])\n",
    "data_2003_2['ESTU_ACT_PROX_ANNO'] = data_2003_2['ESTU_ACT_PROX_ANNO'].replace(1.0, str(1.0)[:-2])\n",
    "data_2003_2['ESTU_ACT_PROX_ANNO'] = data_2003_2['ESTU_ACT_PROX_ANNO'].replace('*', np.nan)"
   ]
  },
  {
   "cell_type": "code",
   "execution_count": null,
   "metadata": {
    "collapsed": false
   },
   "outputs": [
    {
     "name": "stdout",
     "output_type": "stream",
     "text": [
      "cant null antes: 2833\n",
      "cant null despues: 0\n"
     ]
    }
   ],
   "source": [
    "Do_resamples(data_2003_2, 'ESTU_ACT_PROX_ANNO', str)"
   ]
  },
  {
   "cell_type": "code",
   "execution_count": 67,
   "metadata": {
    "collapsed": false
   },
   "outputs": [
    {
     "name": "stdout",
     "output_type": "stream",
     "text": [
      "Index(['A', 'B', 'F'], dtype='object')\n",
      "A    327373\n",
      "B       918\n",
      "F     26409\n",
      "Name: COLE_CALENDARIO, dtype: int64\n",
      "Elementos null/NaN 0\n",
      "__________________\n",
      "Elementos diferentes de null/NaN: 354700\n",
      "__________________\n",
      "(354700,)\n",
      "None\n"
     ]
    }
   ],
   "source": [
    "print(data_2003_2['COLE_CALENDARIO'].value_counts().sort_index().index)\n",
    "print(data_2003_2['COLE_CALENDARIO'].value_counts().sort_index())\n",
    "print(missing_data(data_2003_2['COLE_CALENDARIO']))"
   ]
  },
  {
   "cell_type": "code",
   "execution_count": 68,
   "metadata": {
    "collapsed": false
   },
   "outputs": [
    {
     "name": "stdout",
     "output_type": "stream",
     "text": [
      "Float64Index([1.0, 2.0], dtype='float64')\n",
      "1.0    1650\n",
      "2.0     124\n",
      "Name: COLE_BILINGUE, dtype: int64\n",
      "Elementos null/NaN 352926\n",
      "__________________\n",
      "Elementos diferentes de null/NaN: 1774\n",
      "__________________\n",
      "(1774,)\n",
      "None\n"
     ]
    }
   ],
   "source": [
    "print(data_2003_2['COLE_BILINGUE'].value_counts().sort_index().index)\n",
    "print(data_2003_2['COLE_BILINGUE'].value_counts().sort_index())\n",
    "print(missing_data(data_2003_2['COLE_BILINGUE']))"
   ]
  },
  {
   "cell_type": "code",
   "execution_count": null,
   "metadata": {
    "collapsed": false
   },
   "outputs": [
    {
     "name": "stdout",
     "output_type": "stream",
     "text": [
      "cant null antes: 351488\n"
     ]
    }
   ],
   "source": [
    "Do_resamples(data_2003_2, 'COLE_BILINGUE', float)"
   ]
  },
  {
   "cell_type": "code",
   "execution_count": 69,
   "metadata": {
    "collapsed": false
   },
   "outputs": [
    {
     "name": "stdout",
     "output_type": "stream",
     "text": [
      "Index(['ACADEMICO', 'ACADEMICO Y TECNICO', 'NORMALISTA', 'TECNICO'], dtype='object')\n",
      "ACADEMICO              195494\n",
      "ACADEMICO Y TECNICO     97346\n",
      "NORMALISTA               7021\n",
      "TECNICO                 54839\n",
      "Name: COLE_CARACTER, dtype: int64\n",
      "Elementos null/NaN 0\n",
      "__________________\n",
      "Elementos diferentes de null/NaN: 354700\n",
      "__________________\n",
      "(354700,)\n",
      "None\n"
     ]
    }
   ],
   "source": [
    "print(data_2003_2['COLE_CARACTER'].value_counts().sort_index().index)\n",
    "print(data_2003_2['COLE_CARACTER'].value_counts().sort_index())\n",
    "print(missing_data(data_2003_2['COLE_CARACTER']))"
   ]
  },
  {
   "cell_type": "code",
   "execution_count": 70,
   "metadata": {
    "collapsed": false,
    "scrolled": true
   },
   "outputs": [
    {
     "name": "stdout",
     "output_type": "stream",
     "text": [
      "Index(['AMAZONAS', 'ANTIOQUIA', 'ARAUCA', 'ATLANTICO', 'BOGOTA', 'BOLIVAR',\n",
      "       'BOYACA', 'CALDAS', 'CAQUETA', 'CASANARE', 'CAUCA', 'CESAR', 'CHOCO',\n",
      "       'CORDOBA', 'CUNDINAMARCA', 'GUAINIA', 'GUAVIARE', 'HUILA', 'LA GUAJIRA',\n",
      "       'MAGDALENA', 'META', 'NARIÑO', 'NORTE SANTANDER', 'PUTUMAYO', 'QUINDIO',\n",
      "       'RISARALDA', 'SAN ANDRES', 'SANTANDER', 'SUCRE', 'TOLIMA', 'VALLE',\n",
      "       'VAUPES', 'VICHADA'],\n",
      "      dtype='object')\n",
      "AMAZONAS             620\n",
      "ANTIOQUIA          52038\n",
      "ARAUCA              1487\n",
      "ATLANTICO          24407\n",
      "BOGOTA             74308\n",
      "BOLIVAR            18116\n",
      "BOYACA             14744\n",
      "CALDAS              9511\n",
      "CAQUETA             2320\n",
      "CASANARE            2420\n",
      "CAUCA               6755\n",
      "CESAR               7730\n",
      "CHOCO               3180\n",
      "CORDOBA            12943\n",
      "CUNDINAMARCA       23530\n",
      "GUAINIA              125\n",
      "GUAVIARE             412\n",
      "HUILA               7665\n",
      "LA GUAJIRA          4487\n",
      "MAGDALENA           9978\n",
      "META                6487\n",
      "NARIÑO               465\n",
      "NORTE SANTANDER    12243\n",
      "PUTUMAYO            1581\n",
      "QUINDIO             4869\n",
      "RISARALDA           7734\n",
      "SAN ANDRES           589\n",
      "SANTANDER          20244\n",
      "SUCRE               7524\n",
      "TOLIMA             12551\n",
      "VALLE               3237\n",
      "VAUPES               142\n",
      "VICHADA              258\n",
      "Name: COLE_DEPTO_UBICACION, dtype: int64\n",
      "Elementos null/NaN 0\n",
      "__________________\n",
      "Elementos diferentes de null/NaN: 354700\n",
      "__________________\n",
      "(354700,)\n",
      "None\n"
     ]
    }
   ],
   "source": [
    "print(data_2003_2['COLE_DEPTO_UBICACION'].value_counts().sort_index().index)\n",
    "print(data_2003_2['COLE_DEPTO_UBICACION'].value_counts().sort_index())\n",
    "print(missing_data(data_2003_2['COLE_DEPTO_UBICACION']))"
   ]
  },
  {
   "cell_type": "code",
   "execution_count": 71,
   "metadata": {
    "collapsed": false,
    "scrolled": true
   },
   "outputs": [
    {
     "name": "stdout",
     "output_type": "stream",
     "text": [
      "Index(['ABEJORRAL', 'ABREGO', 'ABRIAQUI', 'ACACIAS', 'ACANDI', 'ACEVEDO',\n",
      "       'ACHI', 'AGRADO', 'AGUA DE DIOS', 'AGUACHICA',\n",
      "       ...\n",
      "       'YOPAL', 'YUMBO', 'ZAMBRANO', 'ZAPATOCA', 'ZAPAYAN', 'ZARAGOZA',\n",
      "       'ZETAQUIRA', 'ZIPACON', 'ZIPAQUIRA', 'ZONA BANANERA'],\n",
      "      dtype='object', length=938)\n",
      "ABEJORRAL                    134\n",
      "ABREGO                       104\n",
      "ABRIAQUI                      19\n",
      "ACACIAS                      519\n",
      "ACANDI                        34\n",
      "ACEVEDO                       47\n",
      "ACHI                          68\n",
      "AGRADO                        39\n",
      "AGUA DE DIOS                 147\n",
      "AGUACHICA                    749\n",
      "AGUADA                        11\n",
      "AGUADAS                      249\n",
      "AGUAZUL                      307\n",
      "AGUSTIN CODAZZI              409\n",
      "AIPE                         118\n",
      "ALBAN                         52\n",
      "ALBANIA                      108\n",
      "ALEJANDRIA                    41\n",
      "ALGARROBO                     50\n",
      "ALGECIRAS                     92\n",
      "ALMAGUER                      65\n",
      "ALMEIDA                       31\n",
      "ALPUJARRA                     35\n",
      "ALTAMIRA                      24\n",
      "ALTO BAUDO (PIE DE PATO)      43\n",
      "ALTOS DEL ROSARIO             27\n",
      "ALVARADO                      70\n",
      "AMAGA                        218\n",
      "AMALFI                       136\n",
      "AMBALEMA                      98\n",
      "                            ... \n",
      "VILLAHERMOSA                  58\n",
      "VILLAMARIA                   425\n",
      "VILLANUEVA                   635\n",
      "VILLAPINZON                  197\n",
      "VILLARRICA                    32\n",
      "VILLAVICENCIO               4257\n",
      "VILLAVIEJA                    45\n",
      "VILLETA                      272\n",
      "VIOTA                        116\n",
      "VIRACACHA                     23\n",
      "VISTA HERMOSA                 28\n",
      "VITERBO                      123\n",
      "YACOPI                        72\n",
      "YACUANQUER                     8\n",
      "YAGUARA                       92\n",
      "YALI                          39\n",
      "YARUMAL                      335\n",
      "YAVARATE                      14\n",
      "YOLOMBO                      126\n",
      "YONDO (CASABE)                73\n",
      "YOPAL                        935\n",
      "YUMBO                         84\n",
      "ZAMBRANO                      98\n",
      "ZAPATOCA                      88\n",
      "ZAPAYAN                       30\n",
      "ZARAGOZA                     165\n",
      "ZETAQUIRA                     59\n",
      "ZIPACON                       18\n",
      "ZIPAQUIRA                   1135\n",
      "ZONA BANANERA                309\n",
      "Name: COLE_MCPIO_UBICACION, dtype: int64\n",
      "Elementos null/NaN 0\n",
      "__________________\n",
      "Elementos diferentes de null/NaN: 354700\n",
      "__________________\n",
      "(354700,)\n",
      "None\n"
     ]
    }
   ],
   "source": [
    "print(data_2003_2['COLE_MCPIO_UBICACION'].value_counts().sort_index().index)\n",
    "print(data_2003_2['COLE_MCPIO_UBICACION'].value_counts().sort_index())\n",
    "print(missing_data(data_2003_2['COLE_MCPIO_UBICACION']))"
   ]
  },
  {
   "cell_type": "code",
   "execution_count": 72,
   "metadata": {
    "collapsed": false,
    "scrolled": true
   },
   "outputs": [
    {
     "name": "stdout",
     "output_type": "stream",
     "text": [
      "Index(['AMAZONAS', 'ANTIOQUIA', 'ARAUCA', 'ATLANTICO', 'BOGOTA', 'BOLIVAR',\n",
      "       'BOYACA', 'CALDAS', 'CAQUETA', 'CASANARE', 'CAUCA', 'CESAR', 'CHOCO',\n",
      "       'CORDOBA', 'CUNDINAMARCA', 'GUAINIA', 'GUAVIARE', 'HUILA', 'LA GUAJIRA',\n",
      "       'MAGDALENA', 'META', 'NARIÑO', 'NORTE SANTANDER', 'PUTUMAYO', 'QUINDIO',\n",
      "       'RISARALDA', 'SAN ANDRES', 'SANTANDER', 'SUCRE', 'TOLIMA', 'VALLE',\n",
      "       'VAUPES', 'VICHADA'],\n",
      "      dtype='object')\n",
      "AMAZONAS             620\n",
      "ANTIOQUIA          51929\n",
      "ARAUCA              1498\n",
      "ATLANTICO          25107\n",
      "BOGOTA             75516\n",
      "BOLIVAR            17488\n",
      "BOYACA             15063\n",
      "CALDAS              9856\n",
      "CAQUETA             2316\n",
      "CASANARE            2417\n",
      "CAUCA               6681\n",
      "CESAR               7819\n",
      "CHOCO               3165\n",
      "CORDOBA            13004\n",
      "CUNDINAMARCA       22004\n",
      "GUAINIA              125\n",
      "GUAVIARE             501\n",
      "HUILA               7717\n",
      "LA GUAJIRA          4470\n",
      "MAGDALENA           9636\n",
      "META                6533\n",
      "NARIÑO               465\n",
      "NORTE SANTANDER    12291\n",
      "PUTUMAYO            1581\n",
      "QUINDIO             4893\n",
      "RISARALDA           7684\n",
      "SAN ANDRES           590\n",
      "SANTANDER          20515\n",
      "SUCRE               7411\n",
      "TOLIMA             12165\n",
      "VALLE               3245\n",
      "VAUPES               142\n",
      "VICHADA              253\n",
      "Name: ESTU_RESIDE_DEPTO, dtype: int64\n",
      "Elementos null/NaN 0\n",
      "__________________\n",
      "Elementos diferentes de null/NaN: 354700\n",
      "__________________\n",
      "(354700,)\n",
      "None\n"
     ]
    }
   ],
   "source": [
    "print(data_2003_2['ESTU_RESIDE_DEPTO'].value_counts().sort_index().index)\n",
    "print(data_2003_2['ESTU_RESIDE_DEPTO'].value_counts().sort_index())\n",
    "print(missing_data(data_2003_2['ESTU_RESIDE_DEPTO']))"
   ]
  },
  {
   "cell_type": "code",
   "execution_count": 73,
   "metadata": {
    "collapsed": false,
    "scrolled": true
   },
   "outputs": [
    {
     "name": "stdout",
     "output_type": "stream",
     "text": [
      "Index(['ABEJORRAL', 'ABREGO', 'ABRIAQUI', 'ACACIAS', 'ACANDI', 'ACEVEDO',\n",
      "       'ACHI', 'AGRADO', 'AGUA DE DIOS', 'AGUACHICA',\n",
      "       ...\n",
      "       'YOTOCO', 'YUMBO', 'ZAMBRANO', 'ZAPATOCA', 'ZAPAYAN', 'ZARAGOZA',\n",
      "       'ZETAQUIRA', 'ZIPACON', 'ZIPAQUIRA', 'ZONA BANANERA'],\n",
      "      dtype='object', length=932)\n",
      "ABEJORRAL                    143\n",
      "ABREGO                       112\n",
      "ABRIAQUI                      17\n",
      "ACACIAS                      572\n",
      "ACANDI                        34\n",
      "ACEVEDO                       32\n",
      "ACHI                         101\n",
      "AGRADO                        41\n",
      "AGUA DE DIOS                3767\n",
      "AGUACHICA                    800\n",
      "AGUADA                        10\n",
      "AGUADAS                      249\n",
      "AGUAZUL                      309\n",
      "AGUSTIN CODAZZI              410\n",
      "AIPE                         118\n",
      "ALBAN                         52\n",
      "ALBANIA                       42\n",
      "ALCALA                         1\n",
      "ALEJANDRIA                    42\n",
      "ALGARROBO                      2\n",
      "ALGECIRAS                     88\n",
      "ALMAGUER                      49\n",
      "ALMEIDA                       25\n",
      "ALPUJARRA                     33\n",
      "ALTAMIRA                      21\n",
      "ALTO BAUDO (PIE DE PATO)      43\n",
      "ALTOS DEL ROSARIO              5\n",
      "ALVARADO                      63\n",
      "AMAGA                        237\n",
      "AMALFI                       146\n",
      "                            ... \n",
      "VILLAHERMOSA                  52\n",
      "VILLAMARIA                   397\n",
      "VILLANUEVA                   653\n",
      "VILLAPINZON                  190\n",
      "VILLARRICA                    25\n",
      "VILLAVICENCIO               4259\n",
      "VILLAVIEJA                    31\n",
      "VILLETA                      279\n",
      "VIOTA                        111\n",
      "VIRACACHA                     19\n",
      "VISTA HERMOSA                 28\n",
      "VITERBO                      113\n",
      "YACOPI                        53\n",
      "YAGUARA                       88\n",
      "YALI                          35\n",
      "YARUMAL                      367\n",
      "YAVARATE                      11\n",
      "YOLOMBO                      145\n",
      "YONDO (CASABE)                63\n",
      "YOPAL                        984\n",
      "YOTOCO                         1\n",
      "YUMBO                         72\n",
      "ZAMBRANO                      84\n",
      "ZAPATOCA                      98\n",
      "ZAPAYAN                       29\n",
      "ZARAGOZA                     163\n",
      "ZETAQUIRA                     55\n",
      "ZIPACON                       10\n",
      "ZIPAQUIRA                   1140\n",
      "ZONA BANANERA                151\n",
      "Name: ESTU_RESIDE_MCPIO, dtype: int64\n",
      "Elementos null/NaN 0\n",
      "__________________\n",
      "Elementos diferentes de null/NaN: 354700\n",
      "__________________\n",
      "(354700,)\n",
      "None\n"
     ]
    }
   ],
   "source": [
    "print(data_2003_2['ESTU_RESIDE_MCPIO'].value_counts().sort_index().index)\n",
    "print(data_2003_2['ESTU_RESIDE_MCPIO'].value_counts().sort_index())\n",
    "print(missing_data(data_2003_2['ESTU_RESIDE_MCPIO']))"
   ]
  },
  {
   "cell_type": "markdown",
   "metadata": {},
   "source": [
    "### TARGETS"
   ]
  },
  {
   "cell_type": "code",
   "execution_count": 74,
   "metadata": {
    "collapsed": false,
    "scrolled": true
   },
   "outputs": [
    {
     "name": "stdout",
     "output_type": "stream",
     "text": [
      "Index(['44', '45', '42', '47', '41',   44,   45,   47, '48',   42,\n",
      "       ...\n",
      "         64,   66, '66',   68,   76,   26, '70',   19, '80', '76'],\n",
      "      dtype='object', length=102)\n",
      "44     18364\n",
      "45     17889\n",
      "42     17882\n",
      "47     16594\n",
      "41     16041\n",
      "44     15657\n",
      "45     15541\n",
      "47     14887\n",
      "48     14627\n",
      "42     14618\n",
      "48     13239\n",
      "39     13184\n",
      "49     12393\n",
      "41     12367\n",
      "49     11481\n",
      "51     10248\n",
      "39     10095\n",
      "38      9959\n",
      "51      9761\n",
      "52      8094\n",
      "52      7981\n",
      "38      7386\n",
      "36      6512\n",
      "53      6305\n",
      "53      6200\n",
      "54      4877\n",
      "54      4777\n",
      "36      4639\n",
      "34      3840\n",
      "56      3513\n",
      "       ...  \n",
      "69        28\n",
      "11        25\n",
      "33        23\n",
      "---       20\n",
      "31        19\n",
      "72        15\n",
      "11        13\n",
      "72        10\n",
      "0          9\n",
      "75         8\n",
      "75         8\n",
      "31         7\n",
      "61         7\n",
      "61         7\n",
      "58         7\n",
      "64         4\n",
      "58         4\n",
      "26         4\n",
      "0          4\n",
      "80         3\n",
      "64         3\n",
      "66         2\n",
      "66         2\n",
      "68         1\n",
      "76         1\n",
      "26         1\n",
      "70         1\n",
      "19         1\n",
      "80         1\n",
      "76         1\n",
      "Name: PUNT_BIOLOGIA, dtype: int64\n",
      "Elementos null/NaN 0\n",
      "__________________\n",
      "Elementos diferentes de null/NaN: 354700\n",
      "__________________\n",
      "(354700,)\n",
      "None\n"
     ]
    }
   ],
   "source": [
    "print(data_2003_2['PUNT_BIOLOGIA'].value_counts().index)\n",
    "print(data_2003_2['PUNT_BIOLOGIA'].value_counts())\n",
    "print(missing_data(data_2003_2['PUNT_BIOLOGIA']))"
   ]
  },
  {
   "cell_type": "code",
   "execution_count": 75,
   "metadata": {
    "collapsed": false
   },
   "outputs": [],
   "source": [
    "data_2003_2['PUNT_BIOLOGIA'] = data_2003_2['PUNT_BIOLOGIA'].replace('---', np.nan)\n",
    "for i in data_2003_2['PUNT_BIOLOGIA'].value_counts().index:\n",
    "    if type(i) == str:\n",
    "        data_2003_2['PUNT_BIOLOGIA'] = data_2003_2['PUNT_BIOLOGIA'].replace(i, int(i))"
   ]
  },
  {
   "cell_type": "code",
   "execution_count": null,
   "metadata": {
    "collapsed": false,
    "scrolled": true
   },
   "outputs": [],
   "source": [
    "print(data_2003_2['PUNT_BIOLOGIA'].value_counts().index)\n",
    "print(data_2003_2['PUNT_BIOLOGIA'].value_counts())\n",
    "print(missing_data(data_2003_2['PUNT_BIOLOGIA']))"
   ]
  },
  {
   "cell_type": "markdown",
   "metadata": {},
   "source": [
    "AQUI VOY"
   ]
  },
  {
   "cell_type": "code",
   "execution_count": 76,
   "metadata": {
    "collapsed": false,
    "scrolled": true
   },
   "outputs": [
    {
     "name": "stdout",
     "output_type": "stream",
     "text": [
      "Index([ '41',  '42',  '39',  '44',  '37',  '46',  '47',  '35',    41,    42,\n",
      "          44,    39,  '49',    46,  '34',    37,    47,  '51',    35,  '32',\n",
      "          49,    34,  '53',    51,  '30',    32,  '55',    53,  '28',  '56',\n",
      "          55,    30,  '58',    56,  '25',  '43',    28,  '38',    58,  '61',\n",
      "        '23',  '40',    61,  '63',  '48',    25,  '20',    63,    43,  '16',\n",
      "        '50',  '65',  '12',  '36',    65,    38,  '68',   '1',   '7', '---',\n",
      "          40,    68,    23,  '71',    16,    48,    20,   '0',     7,    50,\n",
      "        '54',  '75',     1,    71,    12,    36,  '26',    52,  '52',  '79',\n",
      "          79,    21,    26,  '24',    24,    75,  '18',  '85',  '21',     0],\n",
      "      dtype='object')\n",
      "41    35255\n",
      "42    34725\n",
      "39    31052\n",
      "44    30536\n",
      "37    24327\n",
      "46    24047\n",
      "47    16580\n",
      "35    16258\n",
      "41    13265\n",
      "42    13043\n",
      "44    12070\n",
      "39    11434\n",
      "49    10212\n",
      "46     9803\n",
      "34     9765\n",
      "37     8469\n",
      "47     6967\n",
      "51     5863\n",
      "35     5734\n",
      "32     5261\n",
      "49     4664\n",
      "34     3260\n",
      "53     3252\n",
      "51     2805\n",
      "30     2392\n",
      "32     1794\n",
      "55     1672\n",
      "53     1560\n",
      "28     1035\n",
      "56      897\n",
      "      ...  \n",
      "40       41\n",
      "68       38\n",
      "23       37\n",
      "71       25\n",
      "16       24\n",
      "48       23\n",
      "20       21\n",
      "0        18\n",
      "7        16\n",
      "50       14\n",
      "54       11\n",
      "75       11\n",
      "1        11\n",
      "71       10\n",
      "12       10\n",
      "36       10\n",
      "26        9\n",
      "52        6\n",
      "52        6\n",
      "79        5\n",
      "79        4\n",
      "21        3\n",
      "26        3\n",
      "24        1\n",
      "24        1\n",
      "75        1\n",
      "18        1\n",
      "85        1\n",
      "21        1\n",
      "0         1\n",
      "Name: PUNT_MATEMATICAS, dtype: int64\n",
      "Elementos null/NaN 0\n",
      "__________________\n",
      "Elementos diferentes de null/NaN: 354700\n",
      "__________________\n",
      "(354700,)\n",
      "None\n"
     ]
    }
   ],
   "source": [
    "print(data_2003_2['PUNT_MATEMATICAS'].value_counts().index)\n",
    "print(data_2003_2['PUNT_MATEMATICAS'].value_counts())\n",
    "print(missing_data(data_2003_2['PUNT_MATEMATICAS']))"
   ]
  },
  {
   "cell_type": "code",
   "execution_count": 77,
   "metadata": {
    "collapsed": true
   },
   "outputs": [],
   "source": [
    "data_2003_2['PUNT_MATEMATICAS'] = data_2003_2['PUNT_MATEMATICAS'].replace('---', np.nan)\n",
    "for i in data_2003_2['PUNT_MATEMATICAS'].value_counts().index:\n",
    "    if type(i) == str:\n",
    "        data_2003_2['PUNT_MATEMATICAS'] = data_2003_2['PUNT_MATEMATICAS'].replace(i, int(i))"
   ]
  },
  {
   "cell_type": "code",
   "execution_count": 78,
   "metadata": {
    "collapsed": false,
    "scrolled": true
   },
   "outputs": [
    {
     "name": "stdout",
     "output_type": "stream",
     "text": [
      "Index(['---', '0', '12', '18', '20', '23', '26', '27', '28', '30', '31', '32',\n",
      "       '33', '35', '36', '38', '40', '41', '42', '43', '44', '45', '46', '47',\n",
      "       '48', '49', '50', '51', '52', '53', '54', '55', '56', '57', '58', '59',\n",
      "       '60', '61', '62', '63', '64', '66', '67', '68', '69', '70', '72', '73',\n",
      "       '75', '77', '79'],\n",
      "      dtype='object')\n",
      "---      151\n",
      "0         73\n",
      "12       163\n",
      "18         1\n",
      "20       458\n",
      "23         4\n",
      "26      1368\n",
      "27         4\n",
      "28         2\n",
      "30      3700\n",
      "31        15\n",
      "32         5\n",
      "33      8321\n",
      "35        11\n",
      "36     15742\n",
      "38     25644\n",
      "40       180\n",
      "41     35172\n",
      "42        64\n",
      "43     43108\n",
      "44        93\n",
      "45     46746\n",
      "46     45463\n",
      "47       211\n",
      "48     39586\n",
      "49       346\n",
      "50     31321\n",
      "51       156\n",
      "52     22553\n",
      "53     14739\n",
      "54       186\n",
      "55      9074\n",
      "56      4827\n",
      "57        13\n",
      "58      2549\n",
      "59      1291\n",
      "60        90\n",
      "61       539\n",
      "62       292\n",
      "63        70\n",
      "64       126\n",
      "66        78\n",
      "67        50\n",
      "68         7\n",
      "69        27\n",
      "70        33\n",
      "72        19\n",
      "73        15\n",
      "75         8\n",
      "77         4\n",
      "79         2\n",
      "Name: PUNT_FILOSOFIA, dtype: int64\n",
      "Elementos null/NaN 0\n",
      "__________________\n",
      "Elementos diferentes de null/NaN: 354700\n",
      "__________________\n",
      "(354700,)\n",
      "None\n"
     ]
    }
   ],
   "source": [
    "print(data_2003_2['PUNT_FILOSOFIA'].value_counts().sort_index().index)\n",
    "print(data_2003_2['PUNT_FILOSOFIA'].value_counts().sort_index())\n",
    "print(missing_data(data_2003_2['PUNT_FILOSOFIA']))"
   ]
  },
  {
   "cell_type": "code",
   "execution_count": 79,
   "metadata": {
    "collapsed": true
   },
   "outputs": [],
   "source": [
    "data_2003_2['PUNT_FILOSOFIA'] = data_2003_2['PUNT_FILOSOFIA'].replace('---', np.nan)\n",
    "for i in data_2003_2['PUNT_FILOSOFIA'].value_counts().index:\n",
    "    if type(i) == str:\n",
    "        data_2003_2['PUNT_FILOSOFIA'] = data_2003_2['PUNT_FILOSOFIA'].replace(i, int(i))"
   ]
  },
  {
   "cell_type": "code",
   "execution_count": 80,
   "metadata": {
    "collapsed": false,
    "scrolled": true
   },
   "outputs": [
    {
     "name": "stdout",
     "output_type": "stream",
     "text": [
      "Index([   46,    44,    48,    42,    50,    40,    51,  '46',  '44',  '48',\n",
      "        '42',    53,    38,  '50',  '40',  '51',    55,  '38',    36,  '53',\n",
      "          56,  '36',  '55',    33,    58,  '56',  '33',    60,    30,  '58',\n",
      "          61,  '30',  '60',    63,    26,  '61',  '26',    65,  '63',    67,\n",
      "          22,  '65',  '43',  '22',    69,  '45',  '47',  '67',  '41',  '39',\n",
      "        '49',    45,    71,  '69',    47,    43,  '52',    16,    41,    49,\n",
      "          39,    52,  '16',  '34',    75,  '27',    73,  '71',  '73',  '54',\n",
      "          34,  '31',    78,    54,    59,     6,  '75', '---',    57,  '59',\n",
      "         '6',  '57',  '78',     0,    31,    64,    81,    27,    84,    62,\n",
      "        '23',   '0',  '64',    72,  '84',  '17',    23,  '81',    17,  '62'],\n",
      "      dtype='object')\n",
      "46     26930\n",
      "44     26157\n",
      "48     25393\n",
      "42     22996\n",
      "50     21804\n",
      "40     17763\n",
      "51     17125\n",
      "46     15975\n",
      "44     15350\n",
      "48     14544\n",
      "42     13833\n",
      "53     12835\n",
      "38     12785\n",
      "50     12436\n",
      "40     11112\n",
      "51      9626\n",
      "55      8872\n",
      "38      7927\n",
      "36      7828\n",
      "53      6972\n",
      "56      5823\n",
      "36      5057\n",
      "55      4744\n",
      "33      4173\n",
      "58      3662\n",
      "56      3060\n",
      "33      2729\n",
      "60      2361\n",
      "30      2026\n",
      "58      1871\n",
      "       ...  \n",
      "34        21\n",
      "31        21\n",
      "78        17\n",
      "54        17\n",
      "59        17\n",
      "6         16\n",
      "75        11\n",
      "---       11\n",
      "57        11\n",
      "59        11\n",
      "6         11\n",
      "57         9\n",
      "78         9\n",
      "0          8\n",
      "31         7\n",
      "64         5\n",
      "81         5\n",
      "27         5\n",
      "84         5\n",
      "62         3\n",
      "23         3\n",
      "0          2\n",
      "64         2\n",
      "72         1\n",
      "84         1\n",
      "17         1\n",
      "23         1\n",
      "81         1\n",
      "17         1\n",
      "62         1\n",
      "Name: PUNT_FISICA, dtype: int64\n",
      "Elementos null/NaN 0\n",
      "__________________\n",
      "Elementos diferentes de null/NaN: 354700\n",
      "__________________\n",
      "(354700,)\n",
      "None\n"
     ]
    }
   ],
   "source": [
    "print(data_2003_2['PUNT_FISICA'].value_counts().index)\n",
    "print(data_2003_2['PUNT_FISICA'].value_counts())\n",
    "print(missing_data(data_2003_2['PUNT_FISICA']))"
   ]
  },
  {
   "cell_type": "code",
   "execution_count": 81,
   "metadata": {
    "collapsed": true
   },
   "outputs": [],
   "source": [
    "data_2003_2['PUNT_FISICA'] = data_2003_2['PUNT_FISICA'].replace('---', np.nan)\n",
    "for i in data_2003_2['PUNT_FISICA'].value_counts().index:\n",
    "    if type(i) == str:\n",
    "        data_2003_2['PUNT_FISICA'] = data_2003_2['PUNT_FISICA'].replace(i, int(i))"
   ]
  },
  {
   "cell_type": "code",
   "execution_count": 82,
   "metadata": {
    "collapsed": false,
    "scrolled": true
   },
   "outputs": [
    {
     "name": "stdout",
     "output_type": "stream",
     "text": [
      "Index([   42,    43,    45,    41,  '42',  '41',    46,  '43',    39,  '39',\n",
      "        '45',    47,  '38',    38,  '46',    48,  '47',  '36',    36,    50,\n",
      "        '48',    51,  '35',    35,  '50',    52,  '51',  '33',    33,    53,\n",
      "        '52',  '53',    55,  '31',    31,  '55',    56,  '56',  '29',    29,\n",
      "          57,  '57',    59,  '26',    26,  '59',    61,  '40',  '49',  '61',\n",
      "        '44',  '23',  '37',    23,    62,  '54',  '62',    49,    64,    40,\n",
      "        '34',  '19',    19,    37,    44,  '32',  '64',    67,    54, '---',\n",
      "          34,    32,  '58',  '67',  '30',  '12',    12,    30,     0,    58,\n",
      "        '60',  '27',    69,  '69',    60,  '72',    27,   '0',  '24'],\n",
      "      dtype='object')\n",
      "42     18115\n",
      "43     17941\n",
      "45     17207\n",
      "41     16873\n",
      "42     16070\n",
      "41     15747\n",
      "46     15564\n",
      "43     15198\n",
      "39     14924\n",
      "39     14157\n",
      "45     13955\n",
      "47     13641\n",
      "38     12248\n",
      "38     12160\n",
      "46     12053\n",
      "48     11144\n",
      "47     10168\n",
      "36      9450\n",
      "36      9287\n",
      "50      8871\n",
      "48      8286\n",
      "51      6908\n",
      "35      6443\n",
      "35      6341\n",
      "50      6320\n",
      "52      5111\n",
      "51      4959\n",
      "33      4072\n",
      "33      3772\n",
      "53      3623\n",
      "       ...  \n",
      "40        44\n",
      "34        37\n",
      "19        35\n",
      "19        33\n",
      "37        29\n",
      "44        29\n",
      "32        27\n",
      "64        26\n",
      "67        16\n",
      "54        16\n",
      "---       16\n",
      "34        13\n",
      "32         8\n",
      "58         8\n",
      "67         8\n",
      "30         8\n",
      "12         7\n",
      "12         7\n",
      "30         5\n",
      "0          5\n",
      "58         5\n",
      "60         4\n",
      "27         3\n",
      "69         2\n",
      "69         2\n",
      "60         1\n",
      "72         1\n",
      "27         1\n",
      "0          1\n",
      "24         1\n",
      "Name: PUNT_HISTORIA, dtype: int64\n",
      "Elementos null/NaN 0\n",
      "__________________\n",
      "Elementos diferentes de null/NaN: 354700\n",
      "__________________\n",
      "(354700,)\n",
      "None\n"
     ]
    }
   ],
   "source": [
    "print(data_2003_2['PUNT_HISTORIA'].value_counts().index)\n",
    "print(data_2003_2['PUNT_HISTORIA'].value_counts())\n",
    "print(missing_data(data_2003_2['PUNT_HISTORIA']))"
   ]
  },
  {
   "cell_type": "code",
   "execution_count": 83,
   "metadata": {
    "collapsed": true
   },
   "outputs": [],
   "source": [
    "data_2003_2['PUNT_HISTORIA'] = data_2003_2['PUNT_HISTORIA'].replace('---', np.nan)\n",
    "for i in data_2003_2['PUNT_HISTORIA'].value_counts().index:\n",
    "    if type(i) == str:\n",
    "        data_2003_2['PUNT_HISTORIA'] = data_2003_2['PUNT_HISTORIA'].replace(i, int(i))"
   ]
  },
  {
   "cell_type": "code",
   "execution_count": 84,
   "metadata": {
    "collapsed": false,
    "scrolled": true
   },
   "outputs": [
    {
     "name": "stdout",
     "output_type": "stream",
     "text": [
      "Index([   42,    41,    43,    39,    44,    46,    38,    47,    36,    48,\n",
      "          49,    35,    51,    52,    33,  '42',  '41',  '39',  '43',    53,\n",
      "        '44',  '38',  '46',    54,  '36',  '47',    31,    56,  '48',  '35',\n",
      "          57,  '49',    59,  '51',  '33',    29,    60,  '52',  '53',    62,\n",
      "        '31',  '54',    64,  '56',    26,    67,  '57',  '29',  '59',    70,\n",
      "          40,  '60',  '62',    45,    74,    23,  '26',  '64',    37,  '67',\n",
      "          50,    81,  '40',    34,  '70',    18,    55,  '23',  '45',  '74',\n",
      "        '37',    32,  '18',    92,    30,  '81',    11,    58,    61,  '50',\n",
      "        '34',  '32',    65,  '92', '---',  '55',    69,     0,  '11',  '30',\n",
      "        '58',    27,  '65',    78,    24,    75,    22,    72,    71],\n",
      "      dtype='object')\n",
      "42     27498\n",
      "41     26630\n",
      "43     26123\n",
      "39     24019\n",
      "44     23670\n",
      "46     20533\n",
      "38     20525\n",
      "47     17500\n",
      "36     15777\n",
      "48     13838\n",
      "49     11149\n",
      "35     10858\n",
      "51      8801\n",
      "52      6949\n",
      "33      6627\n",
      "42      6352\n",
      "41      6258\n",
      "39      5964\n",
      "43      5880\n",
      "53      5378\n",
      "44      5236\n",
      "38      5059\n",
      "46      4578\n",
      "54      4264\n",
      "36      3884\n",
      "47      3553\n",
      "31      3438\n",
      "56      3329\n",
      "48      2965\n",
      "35      2726\n",
      "       ...  \n",
      "74        25\n",
      "37        23\n",
      "32        21\n",
      "18        19\n",
      "92        16\n",
      "30        14\n",
      "81        13\n",
      "11        11\n",
      "58        10\n",
      "61         9\n",
      "50         8\n",
      "34         7\n",
      "32         7\n",
      "65         6\n",
      "92         5\n",
      "---        4\n",
      "55         3\n",
      "69         3\n",
      "0          3\n",
      "11         2\n",
      "30         2\n",
      "58         2\n",
      "27         2\n",
      "65         1\n",
      "78         1\n",
      "24         1\n",
      "75         1\n",
      "22         1\n",
      "72         1\n",
      "71         1\n",
      "Name: PUNT_QUIMICA, dtype: int64\n",
      "Elementos null/NaN 0\n",
      "__________________\n",
      "Elementos diferentes de null/NaN: 354700\n",
      "__________________\n",
      "(354700,)\n",
      "None\n"
     ]
    }
   ],
   "source": [
    "print(data_2003_2['PUNT_QUIMICA'].value_counts().index)\n",
    "print(data_2003_2['PUNT_QUIMICA'].value_counts())\n",
    "print(missing_data(data_2003_2['PUNT_QUIMICA']))"
   ]
  },
  {
   "cell_type": "code",
   "execution_count": 85,
   "metadata": {
    "collapsed": true
   },
   "outputs": [],
   "source": [
    "data_2003_2['PUNT_QUIMICA'] = data_2003_2['PUNT_QUIMICA'].replace('---', np.nan)\n",
    "for i in data_2003_2['PUNT_QUIMICA'].value_counts().index:\n",
    "    if type(i) == str:\n",
    "        data_2003_2['PUNT_QUIMICA'] = data_2003_2['PUNT_QUIMICA'].replace(i, int(i))"
   ]
  },
  {
   "cell_type": "code",
   "execution_count": 86,
   "metadata": {
    "collapsed": false,
    "scrolled": true
   },
   "outputs": [
    {
     "name": "stdout",
     "output_type": "stream",
     "text": [
      "Index([  47,   49,   46,   50,   44,   52,   43,   53,   54,   41,\n",
      "       ...\n",
      "       '32', '68',   32,   76, '86',   87,  '0', '26', '76',   98],\n",
      "      dtype='object', length=112)\n",
      "47     22198\n",
      "49     21957\n",
      "46     21684\n",
      "50     21058\n",
      "44     20193\n",
      "52     19721\n",
      "43     18271\n",
      "53     17722\n",
      "54     15899\n",
      "41     15065\n",
      "56     13394\n",
      "39     11828\n",
      "58     11704\n",
      "59      9613\n",
      "37      8616\n",
      "61      7931\n",
      "62      6147\n",
      "35      5750\n",
      "44      5170\n",
      "47      5148\n",
      "46      5057\n",
      "43      4903\n",
      "49      4735\n",
      "64      4644\n",
      "41      4354\n",
      "50      4343\n",
      "52      3914\n",
      "39      3453\n",
      "33      3417\n",
      "53      3368\n",
      "       ...  \n",
      "63        17\n",
      "72        17\n",
      "70        15\n",
      "79        14\n",
      "77        13\n",
      "38         9\n",
      "86         8\n",
      "0          7\n",
      "77         7\n",
      "91         6\n",
      "36         6\n",
      "38         6\n",
      "12         5\n",
      "79         5\n",
      "90         4\n",
      "---        4\n",
      "34         4\n",
      "36         3\n",
      "103        3\n",
      "34         3\n",
      "32         2\n",
      "68         2\n",
      "32         1\n",
      "76         1\n",
      "86         1\n",
      "87         1\n",
      "0          1\n",
      "26         1\n",
      "76         1\n",
      "98         1\n",
      "Name: PUNT_LENGUAJE, dtype: int64\n",
      "Elementos null/NaN 0\n",
      "__________________\n",
      "Elementos diferentes de null/NaN: 354700\n",
      "__________________\n",
      "(354700,)\n",
      "None\n"
     ]
    }
   ],
   "source": [
    "print(data_2003_2['PUNT_LENGUAJE'].value_counts().index)\n",
    "print(data_2003_2['PUNT_LENGUAJE'].value_counts())\n",
    "print(missing_data(data_2003_2['PUNT_LENGUAJE']))"
   ]
  },
  {
   "cell_type": "code",
   "execution_count": 87,
   "metadata": {
    "collapsed": true
   },
   "outputs": [],
   "source": [
    "data_2003_2['PUNT_LENGUAJE'] = data_2003_2['PUNT_LENGUAJE'].replace('---', np.nan)\n",
    "for i in data_2003_2['PUNT_LENGUAJE'].value_counts().index:\n",
    "    if type(i) == str:\n",
    "        data_2003_2['PUNT_LENGUAJE'] = data_2003_2['PUNT_LENGUAJE'].replace(i, int(i))"
   ]
  },
  {
   "cell_type": "code",
   "execution_count": 88,
   "metadata": {
    "collapsed": false,
    "scrolled": true
   },
   "outputs": [
    {
     "name": "stdout",
     "output_type": "stream",
     "text": [
      "Index([ '39',  '41',    41,    42,  '42',  '38',    39,    44,    38,  '44',\n",
      "          45,  '36',    47,  '45',    36,    48,  '34',  '47',    34,    49,\n",
      "        '48',    51,  '32',  '49',    52,    32,  '51',    53,  '52',  '30',\n",
      "          55,  '53',    30,  '55',    56,  '28',    58,  '56',    28,    59,\n",
      "        '58',  '25',  '59',    25,    61,  '61',    63,  '21',  '63',    65,\n",
      "          21,  '46',  '65',  '54',    67,  '16',    46,  '50',  '57',    54,\n",
      "        '67',  '60',    16,    50,    69,    57,  '62',    60,  '37',    37,\n",
      "        '69',   '8',    72,  '33',  '72', '---',   '0',    33,     8,    62,\n",
      "        '66',    27,    76,    64,  '71',    70,  '64',  '27',  '68',    66,\n",
      "          68,    71,    80,  '70',  '76',  '31',  '24'],\n",
      "      dtype='object')\n",
      "39     16405\n",
      "41     16352\n",
      "41     16009\n",
      "42     15680\n",
      "42     15439\n",
      "38     15357\n",
      "39     15214\n",
      "44     14686\n",
      "38     13775\n",
      "44     13729\n",
      "45     13508\n",
      "36     13372\n",
      "47     12043\n",
      "45     12015\n",
      "36     11492\n",
      "48     10617\n",
      "34     10219\n",
      "47      9916\n",
      "34      8635\n",
      "49      8618\n",
      "48      8588\n",
      "51      7254\n",
      "32      7128\n",
      "49      6798\n",
      "52      5869\n",
      "32      5718\n",
      "51      5572\n",
      "53      4546\n",
      "52      4411\n",
      "30      4286\n",
      "       ...  \n",
      "60        25\n",
      "37        24\n",
      "37        21\n",
      "69        19\n",
      "8         19\n",
      "72        14\n",
      "33        12\n",
      "72        11\n",
      "---       11\n",
      "0         10\n",
      "33         8\n",
      "8          7\n",
      "62         7\n",
      "66         7\n",
      "27         4\n",
      "76         3\n",
      "64         3\n",
      "71         2\n",
      "70         2\n",
      "64         2\n",
      "27         2\n",
      "68         2\n",
      "66         1\n",
      "68         1\n",
      "71         1\n",
      "80         1\n",
      "70         1\n",
      "76         1\n",
      "31         1\n",
      "24         1\n",
      "Name: PUNT_GEOGRAFIA, dtype: int64\n",
      "Elementos null/NaN 0\n",
      "__________________\n",
      "Elementos diferentes de null/NaN: 354700\n",
      "__________________\n",
      "(354700,)\n",
      "None\n"
     ]
    }
   ],
   "source": [
    "print(data_2003_2['PUNT_GEOGRAFIA'].value_counts().index)\n",
    "print(data_2003_2['PUNT_GEOGRAFIA'].value_counts())\n",
    "print(missing_data(data_2003_2['PUNT_GEOGRAFIA']))"
   ]
  },
  {
   "cell_type": "code",
   "execution_count": 89,
   "metadata": {
    "collapsed": true
   },
   "outputs": [],
   "source": [
    "data_2003_2['PUNT_GEOGRAFIA'] = data_2003_2['PUNT_GEOGRAFIA'].replace('---', np.nan)\n",
    "for i in data_2003_2['PUNT_GEOGRAFIA'].value_counts().index:\n",
    "    if type(i) == str:\n",
    "        data_2003_2['PUNT_GEOGRAFIA'] = data_2003_2['PUNT_GEOGRAFIA'].replace(i, int(i))"
   ]
  },
  {
   "cell_type": "code",
   "execution_count": 90,
   "metadata": {
    "collapsed": false
   },
   "outputs": [
    {
     "name": "stdout",
     "output_type": "stream",
     "text": [
      "Int64Index([43, 44, 45], dtype='int64')\n",
      "43    186444\n",
      "44    130583\n",
      "45     37673\n",
      "Name: COD_INTERDISCIPLINAR, dtype: int64\n",
      "Elementos null/NaN 0\n",
      "__________________\n",
      "Elementos diferentes de null/NaN: 354700\n",
      "__________________\n",
      "(354700,)\n",
      "None\n"
     ]
    }
   ],
   "source": [
    "print(data_2003_2['COD_INTERDISCIPLINAR'].value_counts().sort_index().index)\n",
    "print(data_2003_2['COD_INTERDISCIPLINAR'].value_counts().sort_index())\n",
    "print(missing_data(data_2003_2['COD_INTERDISCIPLINAR']))"
   ]
  },
  {
   "cell_type": "code",
   "execution_count": 91,
   "metadata": {
    "collapsed": false,
    "scrolled": true
   },
   "outputs": [
    {
     "name": "stdout",
     "output_type": "stream",
     "text": [
      "Index([ 45.0,  52.0,  55.0,  49.0,  58.0,  37.0,  61.0,  41.0,  47.0,  50.0,\n",
      "       ...\n",
      "        '78',  '82',  77.0,  '79',  '30',  74.0, 100.0,  98.0,  '81',  91.0],\n",
      "      dtype='object', length=123)\n",
      "45.0     34142\n",
      "52.0     31174\n",
      "55.0     30011\n",
      "49.0     27619\n",
      "58.0     21214\n",
      "37.0     19437\n",
      "61.0     18523\n",
      "41.0     14593\n",
      "47.0     14544\n",
      "50.0     13116\n",
      "54.0     11260\n",
      "34.0      9873\n",
      "40.0      9859\n",
      "32.0      9166\n",
      "57.0      8929\n",
      "64.0      6737\n",
      "29.0      6335\n",
      "42.0      5690\n",
      "67.0      5508\n",
      "26.0      4261\n",
      "46.0      4213\n",
      "52        3773\n",
      "45        3666\n",
      "49        3400\n",
      "55        3375\n",
      "24.0      2992\n",
      "51.0      2800\n",
      "18.0      2403\n",
      "58        2368\n",
      "61        1783\n",
      "         ...  \n",
      "48          13\n",
      "88.0        13\n",
      "25.0        12\n",
      "66          11\n",
      "72           8\n",
      "17.0         7\n",
      "69           6\n",
      "80           6\n",
      "87           5\n",
      "78.0         5\n",
      "79.0         5\n",
      "82.0         5\n",
      "63           4\n",
      "30.0         3\n",
      "19.0         3\n",
      "25           3\n",
      "19           3\n",
      "22.0         2\n",
      "17           2\n",
      "---          2\n",
      "78           1\n",
      "82           1\n",
      "77.0         1\n",
      "79           1\n",
      "30           1\n",
      "74.0         1\n",
      "100.0        1\n",
      "98.0         1\n",
      "81           1\n",
      "91.0         1\n",
      "Name: PUNT_INTERDISCIPLINAR, dtype: int64\n",
      "Elementos null/NaN 487\n",
      "__________________\n",
      "Elementos diferentes de null/NaN: 354213\n",
      "__________________\n",
      "(354213,)\n",
      "None\n"
     ]
    }
   ],
   "source": [
    "print(data_2003_2['PUNT_INTERDISCIPLINAR'].value_counts().index)\n",
    "print(data_2003_2['PUNT_INTERDISCIPLINAR'].value_counts())\n",
    "print(missing_data(data_2003_2['PUNT_INTERDISCIPLINAR']))"
   ]
  },
  {
   "cell_type": "code",
   "execution_count": 92,
   "metadata": {
    "collapsed": true
   },
   "outputs": [],
   "source": [
    "data_2003_2['PUNT_INTERDISCIPLINAR'] = data_2003_2['PUNT_INTERDISCIPLINAR'].replace('---', np.nan)\n",
    "for i in data_2003_2['PUNT_INTERDISCIPLINAR'].value_counts().index:\n",
    "    if type(i) == str:\n",
    "        data_2003_2['PUNT_INTERDISCIPLINAR'] = data_2003_2['PUNT_INTERDISCIPLINAR'].replace(i, int(i))"
   ]
  },
  {
   "cell_type": "code",
   "execution_count": 93,
   "metadata": {
    "collapsed": false
   },
   "outputs": [
    {
     "name": "stdout",
     "output_type": "stream",
     "text": [
      "Int64Index([51, 52, 53, 99], dtype='int64')\n",
      "51    352899\n",
      "52      1426\n",
      "53       204\n",
      "99       171\n",
      "Name: COD_IDIOMA, dtype: int64\n",
      "Elementos null/NaN 0\n",
      "__________________\n",
      "Elementos diferentes de null/NaN: 354700\n",
      "__________________\n",
      "(354700,)\n",
      "None\n"
     ]
    }
   ],
   "source": [
    "print(data_2003_2['COD_IDIOMA'].value_counts().sort_index().index)\n",
    "print(data_2003_2['COD_IDIOMA'].value_counts().sort_index())\n",
    "print(missing_data(data_2003_2['COD_IDIOMA']))"
   ]
  },
  {
   "cell_type": "code",
   "execution_count": 94,
   "metadata": {
    "collapsed": false,
    "scrolled": true
   },
   "outputs": [
    {
     "name": "stdout",
     "output_type": "stream",
     "text": [
      "Index(['39', '41', '38', '42', '36', '43', '45', '34', '46', '32',\n",
      "       ...\n",
      "         74, '89',   59,   64,   89,   30, '19',   82,   71,   62],\n",
      "      dtype='object', length=112)\n",
      "39    38266\n",
      "41    37371\n",
      "38    34263\n",
      "42    32869\n",
      "36    26423\n",
      "43    26401\n",
      "45    19629\n",
      "34    17537\n",
      "46    13514\n",
      "32     9896\n",
      "47     9402\n",
      "48     6272\n",
      "41     5648\n",
      "39     5408\n",
      "42     5233\n",
      "38     4804\n",
      "29     4530\n",
      "50     4398\n",
      "43     4313\n",
      "36     3580\n",
      "45     3347\n",
      "51     3143\n",
      "46     2525\n",
      "52     2461\n",
      "34     2325\n",
      "53     1913\n",
      "47     1874\n",
      "55     1749\n",
      "26     1658\n",
      "56     1515\n",
      "      ...  \n",
      "0        17\n",
      "28       17\n",
      "99       14\n",
      "27       14\n",
      "44       13\n",
      "25       12\n",
      "37       12\n",
      "14        7\n",
      "71        7\n",
      "0         7\n",
      "23        5\n",
      "49        5\n",
      "35        4\n",
      "54        4\n",
      "33        4\n",
      "77        4\n",
      "18        3\n",
      "74        3\n",
      "77        2\n",
      "22        2\n",
      "74        2\n",
      "89        2\n",
      "59        2\n",
      "64        1\n",
      "89        1\n",
      "30        1\n",
      "19        1\n",
      "82        1\n",
      "71        1\n",
      "62        1\n",
      "Name: PUNT_IDIOMA, dtype: int64\n",
      "Elementos null/NaN 0\n",
      "__________________\n",
      "Elementos diferentes de null/NaN: 354700\n",
      "__________________\n",
      "(354700,)\n",
      "None\n"
     ]
    }
   ],
   "source": [
    "print(data_2003_2['PUNT_IDIOMA'].value_counts().index)\n",
    "print(data_2003_2['PUNT_IDIOMA'].value_counts())\n",
    "print(missing_data(data_2003_2['PUNT_IDIOMA']))"
   ]
  },
  {
   "cell_type": "code",
   "execution_count": 95,
   "metadata": {
    "collapsed": true
   },
   "outputs": [],
   "source": [
    "data_2003_2['PUNT_INTERDISCIPLINAR'] = data_2003_2['PUNT_INTERDISCIPLINAR'].replace('---', np.nan)\n",
    "for i in data_2003_2['PUNT_INTERDISCIPLINAR'].value_counts().index:\n",
    "    if type(i) == str:\n",
    "        data_2003_2['PUNT_INTERDISCIPLINAR'] = data_2003_2['PUNT_INTERDISCIPLINAR'].replace(i, int(i))"
   ]
  },
  {
   "cell_type": "markdown",
   "metadata": {},
   "source": [
    "Now i can transform the Data Frames to csv files"
   ]
  },
  {
   "cell_type": "code",
   "execution_count": 188,
   "metadata": {
    "collapsed": true
   },
   "outputs": [],
   "source": [
    "#data_2003.to_csv('../DatosFTPICFES/SABER11/SB11-BASES_DE_DATOS/READY/2003_1.csv', sep=';', index=False)\n",
    "#data_2003_2.to_csv('../DatosFTPICFES/SABER11/SB11-BASES_DE_DATOS/READY/2003_2.csv', sep=';', index=False)"
   ]
  }
 ],
 "metadata": {
  "kernelspec": {
   "display_name": "Python 3 + Anaconda",
   "language": "python",
   "name": "pyconda3"
  },
  "language_info": {
   "codemirror_mode": {
    "name": "ipython",
    "version": 3
   },
   "file_extension": ".py",
   "mimetype": "text/x-python",
   "name": "python",
   "nbconvert_exporter": "python",
   "pygments_lexer": "ipython3",
   "version": "3.5.1"
  }
 },
 "nbformat": 4,
 "nbformat_minor": 0
}
