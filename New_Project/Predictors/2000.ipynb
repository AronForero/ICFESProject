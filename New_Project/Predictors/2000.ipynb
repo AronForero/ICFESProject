{
 "cells": [
  {
   "cell_type": "code",
   "execution_count": 1,
   "metadata": {
    "collapsed": false
   },
   "outputs": [],
   "source": [
    "import pandas as pd\n",
    "import numpy as np\n",
    "import matplotlib.pyplot as plt\n",
    "from sklearn.preprocessing import OneHotEncoder\n",
    "from sklearn.preprocessing import MinMaxScaler\n",
    "\n",
    "from sklearn.linear_model import LinearRegression\n",
    "from sklearn.svm import SVR\n",
    "from sklearn.tree import DecisionTreeRegressor\n",
    "from sklearn.ensemble import RandomForestRegressor\n",
    "from sklearn.decomposition import PCA\n",
    "%run -i ../tools/label_encoder.py\n",
    "%matplotlib inline"
   ]
  },
  {
   "cell_type": "code",
   "execution_count": 2,
   "metadata": {
    "collapsed": false,
    "scrolled": true
   },
   "outputs": [],
   "source": [
    "data_2000_1 = pd.read_csv('../DatosFTPICFES/SABER11/SB11-BASES_DE_DATOS/READY/2000_1.csv', delimiter=';')"
   ]
  },
  {
   "cell_type": "code",
   "execution_count": 3,
   "metadata": {
    "collapsed": false
   },
   "outputs": [
    {
     "data": {
      "text/plain": [
       "(77508, 53)"
      ]
     },
     "execution_count": 3,
     "metadata": {},
     "output_type": "execute_result"
    }
   ],
   "source": [
    "data_2000_1.shape"
   ]
  },
  {
   "cell_type": "code",
   "execution_count": 4,
   "metadata": {
    "collapsed": false
   },
   "outputs": [],
   "source": [
    "y_list = ['PUNT_BIOLOGIA', 'PUNT_MATEMATICAS', 'PUNT_FILOSOFIA', 'PUNT_FISICA', 'PUNT_HISTORIA', 'PUNT_QUIMICA', \n",
    "          'PUNT_LENGUAJE', 'PUNT_GEOGRAFIA', 'PUNT_INTERDISCIPLINAR', 'PUNT_IDIOMA']\n",
    "X_list = data_2000_1.columns.difference(y_list)"
   ]
  },
  {
   "cell_type": "markdown",
   "metadata": {},
   "source": [
    "The first thing is encode the Main Dataframe, and change the NaN values"
   ]
  },
  {
   "cell_type": "code",
   "execution_count": 5,
   "metadata": {
    "collapsed": false
   },
   "outputs": [],
   "source": [
    "data_2000_1 = label_encoder(data_2000_1)"
   ]
  },
  {
   "cell_type": "markdown",
   "metadata": {},
   "source": [
    "Before everything i want to see a correlation matrix"
   ]
  },
  {
   "cell_type": "code",
   "execution_count": 11,
   "metadata": {
    "collapsed": false,
    "scrolled": true
   },
   "outputs": [
    {
     "data": {
      "text/html": [
       "<div>\n",
       "<table border=\"1\" class=\"dataframe\">\n",
       "  <thead>\n",
       "    <tr style=\"text-align: right;\">\n",
       "      <th></th>\n",
       "      <th>COLE_COD_ICFES</th>\n",
       "      <th>IND_ANNO_TERMINO_BACHILLERATO</th>\n",
       "      <th>COLE_JORNADA</th>\n",
       "      <th>COLE_VALOR_PENSION</th>\n",
       "      <th>ESTU_GENERO</th>\n",
       "      <th>ESTU_NACIMIENTO_DIA</th>\n",
       "      <th>ESTU_NACIMIENTO_MES</th>\n",
       "      <th>ESTU_NACIMIENTO_ANNO</th>\n",
       "      <th>ESTU_DEPTO_PRESENTACION</th>\n",
       "      <th>ESTU_MCPIO_PRESENTACION</th>\n",
       "      <th>...</th>\n",
       "      <th>FAMI_SOST_PERSONAL</th>\n",
       "      <th>ESTU_TRABAJA</th>\n",
       "      <th>ESTU_ACT_PROX_ANNO</th>\n",
       "      <th>COLE_CALENDARIO</th>\n",
       "      <th>COLE_BILINGUE</th>\n",
       "      <th>COLE_CARACTER</th>\n",
       "      <th>COLE_DEPTO_UBICACION</th>\n",
       "      <th>COLE_MCPIO_UBICACION</th>\n",
       "      <th>ESTU_RESIDE_DEPTO</th>\n",
       "      <th>ESTU_RESIDE_MCPIO</th>\n",
       "    </tr>\n",
       "  </thead>\n",
       "  <tbody>\n",
       "    <tr>\n",
       "      <th>COLE_COD_ICFES</th>\n",
       "      <td>1.000000</td>\n",
       "      <td>-0.101185</td>\n",
       "      <td>0.272025</td>\n",
       "      <td>-0.141968</td>\n",
       "      <td>0.017179</td>\n",
       "      <td>-0.002482</td>\n",
       "      <td>0.002721</td>\n",
       "      <td>1.000000</td>\n",
       "      <td>-0.176448</td>\n",
       "      <td>-0.133658</td>\n",
       "      <td>...</td>\n",
       "      <td>-0.243568</td>\n",
       "      <td>0.181302</td>\n",
       "      <td>0.172591</td>\n",
       "      <td>0.429256</td>\n",
       "      <td>0.128176</td>\n",
       "      <td>0.036787</td>\n",
       "      <td>-0.166963</td>\n",
       "      <td>-0.128147</td>\n",
       "      <td>-0.176448</td>\n",
       "      <td>-0.119259</td>\n",
       "    </tr>\n",
       "    <tr>\n",
       "      <th>IND_ANNO_TERMINO_BACHILLERATO</th>\n",
       "      <td>-0.101185</td>\n",
       "      <td>1.000000</td>\n",
       "      <td>-0.047527</td>\n",
       "      <td>0.017702</td>\n",
       "      <td>0.001972</td>\n",
       "      <td>0.001758</td>\n",
       "      <td>-0.008307</td>\n",
       "      <td>-0.101185</td>\n",
       "      <td>0.117187</td>\n",
       "      <td>0.032225</td>\n",
       "      <td>...</td>\n",
       "      <td>0.103314</td>\n",
       "      <td>-0.079432</td>\n",
       "      <td>-0.037375</td>\n",
       "      <td>-0.169900</td>\n",
       "      <td>0.024079</td>\n",
       "      <td>0.073458</td>\n",
       "      <td>0.118315</td>\n",
       "      <td>0.022783</td>\n",
       "      <td>0.117187</td>\n",
       "      <td>0.024897</td>\n",
       "    </tr>\n",
       "    <tr>\n",
       "      <th>COLE_JORNADA</th>\n",
       "      <td>0.272025</td>\n",
       "      <td>-0.047527</td>\n",
       "      <td>1.000000</td>\n",
       "      <td>-0.060138</td>\n",
       "      <td>-0.019306</td>\n",
       "      <td>-0.001835</td>\n",
       "      <td>0.000742</td>\n",
       "      <td>0.272025</td>\n",
       "      <td>-0.079192</td>\n",
       "      <td>-0.020065</td>\n",
       "      <td>...</td>\n",
       "      <td>-0.123395</td>\n",
       "      <td>0.149411</td>\n",
       "      <td>0.126346</td>\n",
       "      <td>0.155260</td>\n",
       "      <td>0.753042</td>\n",
       "      <td>-0.018853</td>\n",
       "      <td>-0.079154</td>\n",
       "      <td>0.003125</td>\n",
       "      <td>-0.079192</td>\n",
       "      <td>-0.008053</td>\n",
       "    </tr>\n",
       "    <tr>\n",
       "      <th>COLE_VALOR_PENSION</th>\n",
       "      <td>-0.141968</td>\n",
       "      <td>0.017702</td>\n",
       "      <td>-0.060138</td>\n",
       "      <td>1.000000</td>\n",
       "      <td>0.016391</td>\n",
       "      <td>-0.001688</td>\n",
       "      <td>0.001032</td>\n",
       "      <td>-0.141968</td>\n",
       "      <td>-0.103451</td>\n",
       "      <td>0.089264</td>\n",
       "      <td>...</td>\n",
       "      <td>0.046190</td>\n",
       "      <td>-0.048149</td>\n",
       "      <td>-0.090842</td>\n",
       "      <td>-0.096407</td>\n",
       "      <td>-0.027956</td>\n",
       "      <td>-0.124092</td>\n",
       "      <td>-0.110953</td>\n",
       "      <td>0.094796</td>\n",
       "      <td>-0.103451</td>\n",
       "      <td>0.092353</td>\n",
       "    </tr>\n",
       "    <tr>\n",
       "      <th>ESTU_GENERO</th>\n",
       "      <td>0.017179</td>\n",
       "      <td>0.001972</td>\n",
       "      <td>-0.019306</td>\n",
       "      <td>0.016391</td>\n",
       "      <td>1.000000</td>\n",
       "      <td>0.000695</td>\n",
       "      <td>-0.001337</td>\n",
       "      <td>0.017179</td>\n",
       "      <td>-0.002232</td>\n",
       "      <td>-0.008575</td>\n",
       "      <td>...</td>\n",
       "      <td>-0.020356</td>\n",
       "      <td>0.046124</td>\n",
       "      <td>-0.021820</td>\n",
       "      <td>-0.001458</td>\n",
       "      <td>-0.012376</td>\n",
       "      <td>-0.010248</td>\n",
       "      <td>-0.003099</td>\n",
       "      <td>-0.003820</td>\n",
       "      <td>-0.002232</td>\n",
       "      <td>-0.005649</td>\n",
       "    </tr>\n",
       "  </tbody>\n",
       "</table>\n",
       "<p>5 rows × 53 columns</p>\n",
       "</div>"
      ],
      "text/plain": [
       "                               COLE_COD_ICFES  IND_ANNO_TERMINO_BACHILLERATO  \\\n",
       "COLE_COD_ICFES                       1.000000                      -0.101185   \n",
       "IND_ANNO_TERMINO_BACHILLERATO       -0.101185                       1.000000   \n",
       "COLE_JORNADA                         0.272025                      -0.047527   \n",
       "COLE_VALOR_PENSION                  -0.141968                       0.017702   \n",
       "ESTU_GENERO                          0.017179                       0.001972   \n",
       "\n",
       "                               COLE_JORNADA  COLE_VALOR_PENSION  ESTU_GENERO  \\\n",
       "COLE_COD_ICFES                     0.272025           -0.141968     0.017179   \n",
       "IND_ANNO_TERMINO_BACHILLERATO     -0.047527            0.017702     0.001972   \n",
       "COLE_JORNADA                       1.000000           -0.060138    -0.019306   \n",
       "COLE_VALOR_PENSION                -0.060138            1.000000     0.016391   \n",
       "ESTU_GENERO                       -0.019306            0.016391     1.000000   \n",
       "\n",
       "                               ESTU_NACIMIENTO_DIA  ESTU_NACIMIENTO_MES  \\\n",
       "COLE_COD_ICFES                           -0.002482             0.002721   \n",
       "IND_ANNO_TERMINO_BACHILLERATO             0.001758            -0.008307   \n",
       "COLE_JORNADA                             -0.001835             0.000742   \n",
       "COLE_VALOR_PENSION                       -0.001688             0.001032   \n",
       "ESTU_GENERO                               0.000695            -0.001337   \n",
       "\n",
       "                               ESTU_NACIMIENTO_ANNO  ESTU_DEPTO_PRESENTACION  \\\n",
       "COLE_COD_ICFES                             1.000000                -0.176448   \n",
       "IND_ANNO_TERMINO_BACHILLERATO             -0.101185                 0.117187   \n",
       "COLE_JORNADA                               0.272025                -0.079192   \n",
       "COLE_VALOR_PENSION                        -0.141968                -0.103451   \n",
       "ESTU_GENERO                                0.017179                -0.002232   \n",
       "\n",
       "                               ESTU_MCPIO_PRESENTACION        ...          \\\n",
       "COLE_COD_ICFES                               -0.133658        ...           \n",
       "IND_ANNO_TERMINO_BACHILLERATO                 0.032225        ...           \n",
       "COLE_JORNADA                                 -0.020065        ...           \n",
       "COLE_VALOR_PENSION                            0.089264        ...           \n",
       "ESTU_GENERO                                  -0.008575        ...           \n",
       "\n",
       "                               FAMI_SOST_PERSONAL  ESTU_TRABAJA  \\\n",
       "COLE_COD_ICFES                          -0.243568      0.181302   \n",
       "IND_ANNO_TERMINO_BACHILLERATO            0.103314     -0.079432   \n",
       "COLE_JORNADA                            -0.123395      0.149411   \n",
       "COLE_VALOR_PENSION                       0.046190     -0.048149   \n",
       "ESTU_GENERO                             -0.020356      0.046124   \n",
       "\n",
       "                               ESTU_ACT_PROX_ANNO  COLE_CALENDARIO  \\\n",
       "COLE_COD_ICFES                           0.172591         0.429256   \n",
       "IND_ANNO_TERMINO_BACHILLERATO           -0.037375        -0.169900   \n",
       "COLE_JORNADA                             0.126346         0.155260   \n",
       "COLE_VALOR_PENSION                      -0.090842        -0.096407   \n",
       "ESTU_GENERO                             -0.021820        -0.001458   \n",
       "\n",
       "                               COLE_BILINGUE  COLE_CARACTER  \\\n",
       "COLE_COD_ICFES                      0.128176       0.036787   \n",
       "IND_ANNO_TERMINO_BACHILLERATO       0.024079       0.073458   \n",
       "COLE_JORNADA                        0.753042      -0.018853   \n",
       "COLE_VALOR_PENSION                 -0.027956      -0.124092   \n",
       "ESTU_GENERO                        -0.012376      -0.010248   \n",
       "\n",
       "                               COLE_DEPTO_UBICACION  COLE_MCPIO_UBICACION  \\\n",
       "COLE_COD_ICFES                            -0.166963             -0.128147   \n",
       "IND_ANNO_TERMINO_BACHILLERATO              0.118315              0.022783   \n",
       "COLE_JORNADA                              -0.079154              0.003125   \n",
       "COLE_VALOR_PENSION                        -0.110953              0.094796   \n",
       "ESTU_GENERO                               -0.003099             -0.003820   \n",
       "\n",
       "                               ESTU_RESIDE_DEPTO  ESTU_RESIDE_MCPIO  \n",
       "COLE_COD_ICFES                         -0.176448          -0.119259  \n",
       "IND_ANNO_TERMINO_BACHILLERATO           0.117187           0.024897  \n",
       "COLE_JORNADA                           -0.079192          -0.008053  \n",
       "COLE_VALOR_PENSION                     -0.103451           0.092353  \n",
       "ESTU_GENERO                            -0.002232          -0.005649  \n",
       "\n",
       "[5 rows x 53 columns]"
      ]
     },
     "execution_count": 11,
     "metadata": {},
     "output_type": "execute_result"
    }
   ],
   "source": [
    "data_2000_1.corr().head()"
   ]
  },
  {
   "cell_type": "markdown",
   "metadata": {},
   "source": [
    "Here i can split the Dataframe into two sets **X** and **Y**"
   ]
  },
  {
   "cell_type": "code",
   "execution_count": 6,
   "metadata": {
    "collapsed": true
   },
   "outputs": [],
   "source": [
    "X = data_2000_1.filter(items=X_list)\n",
    "Y = data_2000_1.filter(items=y_list)"
   ]
  },
  {
   "cell_type": "markdown",
   "metadata": {},
   "source": [
    "Now i can split the **X** into a train set and a test set, and the same for the **y**"
   ]
  },
  {
   "cell_type": "code",
   "execution_count": 7,
   "metadata": {
    "collapsed": true
   },
   "outputs": [],
   "source": [
    "X_train = X.loc[:(X.shape[0]*.8), :]\n",
    "X_test = X.loc[(X.shape[0]*.8):, :]"
   ]
  },
  {
   "cell_type": "code",
   "execution_count": 8,
   "metadata": {
    "collapsed": false
   },
   "outputs": [],
   "source": [
    "y_train = Y.loc[:(X.shape[0]*.8), :]\n",
    "y_test = Y.loc[(X.shape[0]*.8):, :]"
   ]
  },
  {
   "cell_type": "markdown",
   "metadata": {},
   "source": [
    "Since the images shows, the signal to predict is so chaotic, so maybe a linear regression will not be able to get a good prediction."
   ]
  },
  {
   "cell_type": "markdown",
   "metadata": {},
   "source": [
    "Now i can create the predictor"
   ]
  },
  {
   "cell_type": "code",
   "execution_count": null,
   "metadata": {
    "collapsed": false,
    "scrolled": false
   },
   "outputs": [],
   "source": [
    "plt.figure(figsize=(20,3))\n",
    "plt.plot(Y);"
   ]
  },
  {
   "cell_type": "markdown",
   "metadata": {},
   "source": [
    "<span style='color: blue;'>I'm checking if a classification could be possible</span>"
   ]
  },
  {
   "cell_type": "code",
   "execution_count": null,
   "metadata": {
    "collapsed": false
   },
   "outputs": [],
   "source": [
    "for i in Y:\n",
    "    print(Y[i].value_counts().shape)"
   ]
  },
  {
   "cell_type": "markdown",
   "metadata": {},
   "source": [
    "There are a lot of classes in each column... this will stand right here to be checked later"
   ]
  },
  {
   "cell_type": "markdown",
   "metadata": {},
   "source": [
    "### Linear Regression of SKLearn"
   ]
  },
  {
   "cell_type": "code",
   "execution_count": 9,
   "metadata": {
    "collapsed": true
   },
   "outputs": [],
   "source": [
    "LR = LinearRegression()"
   ]
  },
  {
   "cell_type": "code",
   "execution_count": 10,
   "metadata": {
    "collapsed": false
   },
   "outputs": [
    {
     "data": {
      "text/plain": [
       "LinearRegression(copy_X=True, fit_intercept=True, n_jobs=1, normalize=False)"
      ]
     },
     "execution_count": 10,
     "metadata": {},
     "output_type": "execute_result"
    }
   ],
   "source": [
    "LR.fit(X_train, y_train)"
   ]
  },
  {
   "cell_type": "code",
   "execution_count": 11,
   "metadata": {
    "collapsed": false
   },
   "outputs": [
    {
     "data": {
      "text/plain": [
       "-0.015548096263362019"
      ]
     },
     "execution_count": 11,
     "metadata": {},
     "output_type": "execute_result"
    }
   ],
   "source": [
    "LR.score(X_test, y_test)"
   ]
  },
  {
   "cell_type": "markdown",
   "metadata": {},
   "source": [
    "### SVR"
   ]
  },
  {
   "cell_type": "markdown",
   "metadata": {},
   "source": [
    "the svr requires an input with just one column in the *y* side"
   ]
  },
  {
   "cell_type": "markdown",
   "metadata": {},
   "source": [
    "### Decision Tree Regressor  \n"
   ]
  },
  {
   "cell_type": "code",
   "execution_count": null,
   "metadata": {
    "collapsed": false
   },
   "outputs": [],
   "source": [
    "Tree = DecisionTreeRegressor()\n",
    "Tree.fit(X_train, y_train)"
   ]
  },
  {
   "cell_type": "code",
   "execution_count": null,
   "metadata": {
    "collapsed": false
   },
   "outputs": [],
   "source": [
    "Tree.score(X_test, y_test)"
   ]
  },
  {
   "cell_type": "markdown",
   "metadata": {},
   "source": [
    "### Random Forest Regressor"
   ]
  },
  {
   "cell_type": "code",
   "execution_count": null,
   "metadata": {
    "collapsed": true
   },
   "outputs": [],
   "source": [
    "RFR = RandomForestRegressor()"
   ]
  },
  {
   "cell_type": "code",
   "execution_count": null,
   "metadata": {
    "collapsed": false
   },
   "outputs": [],
   "source": [
    "RFR.fit(X_train, y_train)"
   ]
  },
  {
   "cell_type": "code",
   "execution_count": null,
   "metadata": {
    "collapsed": false
   },
   "outputs": [],
   "source": [
    "RFR.score(X_test, y_test)"
   ]
  },
  {
   "cell_type": "markdown",
   "metadata": {},
   "source": [
    "Now, i will try to predict with this linear regressor and others in each subject"
   ]
  },
  {
   "cell_type": "markdown",
   "metadata": {},
   "source": [
    "# Biologia"
   ]
  },
  {
   "cell_type": "code",
   "execution_count": 46,
   "metadata": {
    "collapsed": false,
    "scrolled": false
   },
   "outputs": [
    {
     "data": {
      "image/png": "[encoded data removed]",
      "text/plain": [
       "<matplotlib.figure.Figure at 0x7f5a15e935f8>"
      ]
     },
     "metadata": {},
     "output_type": "display_data"
    }
   ],
   "source": [
    "plt.figure(figsize=(15,6))\n",
    "plt.subplot(2,1,1)\n",
    "plt.plot(Y['PUNT_BIOLOGIA'])\n",
    "plt.title('Without an order')\n",
    "plt.subplot(2,1,2)\n",
    "plt.plot(range(Y.shape[0]), Y['PUNT_BIOLOGIA'].sort_values())\n",
    "plt.title('The Targets are ordered')\n",
    "plt.tight_layout(h_pad=2)"
   ]
  },
  {
   "cell_type": "markdown",
   "metadata": {},
   "source": [
    "### SKL Linear Regressor"
   ]
  },
  {
   "cell_type": "code",
   "execution_count": 51,
   "metadata": {
    "collapsed": false,
    "scrolled": false
   },
   "outputs": [
    {
     "data": {
      "text/plain": [
       "-0.042026011797959617"
      ]
     },
     "execution_count": 51,
     "metadata": {},
     "output_type": "execute_result"
    }
   ],
   "source": [
    "LR_Bio = LinearRegression()\n",
    "LR_Bio.fit(X_train, y_train['PUNT_BIOLOGIA'])\n",
    "LR_Bio.score(X_test, y_test['PUNT_BIOLOGIA'])"
   ]
  },
  {
   "cell_type": "code",
   "execution_count": 38,
   "metadata": {
    "collapsed": false
   },
   "outputs": [
    {
     "data": {
      "text/plain": [
       "0.23642076261353662"
      ]
     },
     "execution_count": 38,
     "metadata": {},
     "output_type": "execute_result"
    }
   ],
   "source": [
    "LR_Bio.score(X_train, y_train['PUNT_BIOLOGIA'])"
   ]
  },
  {
   "cell_type": "code",
   "execution_count": 96,
   "metadata": {
    "collapsed": false
   },
   "outputs": [],
   "source": [
    "OR_data_2000_1 = data_2000_1.sort_values('PUNT_BIOLOGIA', axis=0)\n",
    "O_X = data_2000_1.filter(items=X_list)\n",
    "O_Y = data_2000_1.filter(items=y_list)\n",
    "f = int(O_X.shape[0]*.8) #'Tamaño a tomar (80% de los datos):'\n",
    "O_X_train = O_X.iloc[:f, :]\n",
    "O_X_test = O_X.iloc[f:, :]\n",
    "O_y_train = O_Y.iloc[:f, :]\n",
    "O_y_test = O_Y.iloc[f:, :]"
   ]
  },
  {
   "cell_type": "markdown",
   "metadata": {},
   "source": [
    "Here is happening something strange... anything change, but the score improved."
   ]
  },
  {
   "cell_type": "code",
   "execution_count": 71,
   "metadata": {
    "collapsed": false,
    "scrolled": false
   },
   "outputs": [
    {
     "data": {
      "text/plain": [
       "-0.036583635150875489"
      ]
     },
     "execution_count": 71,
     "metadata": {},
     "output_type": "execute_result"
    }
   ],
   "source": [
    "LR_Bio = LinearRegression()\n",
    "LR_Bio.fit(O_X_train, O_y_train['PUNT_BIOLOGIA'])\n",
    "LR_Bio.score(O_X_test, O_y_test['PUNT_BIOLOGIA'])"
   ]
  },
  {
   "cell_type": "code",
   "execution_count": 72,
   "metadata": {
    "collapsed": false
   },
   "outputs": [
    {
     "data": {
      "text/plain": [
       "0.23642640082547184"
      ]
     },
     "execution_count": 72,
     "metadata": {},
     "output_type": "execute_result"
    }
   ],
   "source": [
    "LR_Bio.score(O_X_train, O_y_train['PUNT_BIOLOGIA'])"
   ]
  },
  {
   "cell_type": "markdown",
   "metadata": {},
   "source": [
    "HERE THE DF WAS ORDERED"
   ]
  },
  {
   "cell_type": "code",
   "execution_count": 82,
   "metadata": {
    "collapsed": false
   },
   "outputs": [],
   "source": [
    "OR_data_2000_1 = data_2000_1.sort_values('PUNT_BIOLOGIA', axis=0)\n",
    "O_X = OR_data_2000_1.filter(items=X_list)\n",
    "O_Y = OR_data_2000_1.filter(items=y_list)\n",
    "f = int(O_X.shape[0]*.8) #'Tamaño a tomar (80% de los datos):'\n",
    "O_X_train = O_X.iloc[:f, :]\n",
    "O_X_test = O_X.iloc[f:, :]\n",
    "O_y_train = O_Y.iloc[:f, :]\n",
    "O_y_test = O_Y.iloc[f:, :]"
   ]
  },
  {
   "cell_type": "code",
   "execution_count": 74,
   "metadata": {
    "collapsed": false,
    "scrolled": false
   },
   "outputs": [
    {
     "data": {
      "text/plain": [
       "-5.3029736351604804"
      ]
     },
     "execution_count": 74,
     "metadata": {},
     "output_type": "execute_result"
    }
   ],
   "source": [
    "LR_Bio = LinearRegression()\n",
    "LR_Bio.fit(O_X_train, O_y_train['PUNT_BIOLOGIA'])\n",
    "LR_Bio.score(O_X_test, O_y_test['PUNT_BIOLOGIA'])"
   ]
  },
  {
   "cell_type": "code",
   "execution_count": 75,
   "metadata": {
    "collapsed": false
   },
   "outputs": [
    {
     "data": {
      "text/plain": [
       "0.044538685974960579"
      ]
     },
     "execution_count": 75,
     "metadata": {},
     "output_type": "execute_result"
    }
   ],
   "source": [
    "LR_Bio.score(O_X_train, O_y_train['PUNT_BIOLOGIA'])"
   ]
  },
  {
   "cell_type": "markdown",
   "metadata": {
    "collapsed": true
   },
   "source": [
    "#### Trying with a PCA"
   ]
  },
  {
   "cell_type": "code",
   "execution_count": 113,
   "metadata": {
    "collapsed": false
   },
   "outputs": [],
   "source": [
    "pca = PCA(n_components=20)\n",
    "Xp = pca.fit_transform(X)\n",
    "Xp_train = Xp[:int(Xp.shape[0]*0.8),:]\n",
    "Xp_test = Xp[int(Xp.shape[0]*0.8):,:]"
   ]
  },
  {
   "cell_type": "code",
   "execution_count": 114,
   "metadata": {
    "collapsed": false
   },
   "outputs": [
    {
     "ename": "ValueError",
     "evalue": "Found arrays with inconsistent numbers of samples: [62006 62007]",
     "output_type": "error",
     "traceback": [
      "\u001b[1;31m---------------------------------------------------------------------------\u001b[0m",
      "\u001b[1;31mValueError\u001b[0m                                Traceback (most recent call last)",
      "\u001b[1;32m/home/Foreroo/Proyecto/New_Project/tools/label_encoder.py\u001b[0m in \u001b[0;36m<module>\u001b[1;34m()\u001b[0m\n\u001b[1;32m----> 1\u001b[1;33m \u001b[0mLR_Bio\u001b[0m\u001b[1;33m.\u001b[0m\u001b[0mfit\u001b[0m\u001b[1;33m(\u001b[0m\u001b[0mXp_train\u001b[0m\u001b[1;33m,\u001b[0m \u001b[0my_train\u001b[0m\u001b[1;33m[\u001b[0m\u001b[1;34m'PUNT_BIOLOGIA'\u001b[0m\u001b[1;33m]\u001b[0m\u001b[1;33m)\u001b[0m\u001b[1;33m\u001b[0m\u001b[0m\n\u001b[0m\u001b[0;32m      2\u001b[0m \u001b[0mLR_Bio\u001b[0m\u001b[1;33m.\u001b[0m\u001b[0mscore\u001b[0m\u001b[1;33m(\u001b[0m\u001b[0mXp_test\u001b[0m\u001b[1;33m,\u001b[0m \u001b[0my_test\u001b[0m\u001b[1;33m[\u001b[0m\u001b[1;34m'PUNT_BIOLOGIA'\u001b[0m\u001b[1;33m]\u001b[0m\u001b[1;33m)\u001b[0m\u001b[1;33m\u001b[0m\u001b[0m\n",
      "\u001b[1;32m/usr/local/anaconda3/lib/python3.5/site-packages/sklearn/linear_model/base.py\u001b[0m in \u001b[0;36mfit\u001b[1;34m(self, X, y, sample_weight)\u001b[0m\n\u001b[0;32m    425\u001b[0m         \u001b[0mn_jobs_\u001b[0m \u001b[1;33m=\u001b[0m \u001b[0mself\u001b[0m\u001b[1;33m.\u001b[0m\u001b[0mn_jobs\u001b[0m\u001b[1;33m\u001b[0m\u001b[0m\n\u001b[0;32m    426\u001b[0m         X, y = check_X_y(X, y, accept_sparse=['csr', 'csc', 'coo'],\n\u001b[1;32m--> 427\u001b[1;33m                          y_numeric=True, multi_output=True)\n\u001b[0m\u001b[0;32m    428\u001b[0m \u001b[1;33m\u001b[0m\u001b[0m\n\u001b[0;32m    429\u001b[0m         \u001b[1;32mif\u001b[0m \u001b[1;33m(\u001b[0m\u001b[1;33m(\u001b[0m\u001b[0msample_weight\u001b[0m \u001b[1;32mis\u001b[0m \u001b[1;32mnot\u001b[0m \u001b[1;32mNone\u001b[0m\u001b[1;33m)\u001b[0m \u001b[1;32mand\u001b[0m \u001b[0mnp\u001b[0m\u001b[1;33m.\u001b[0m\u001b[0matleast_1d\u001b[0m\u001b[1;33m(\u001b[0m\u001b[0msample_weight\u001b[0m\u001b[1;33m)\u001b[0m\u001b[1;33m.\u001b[0m\u001b[0mndim\u001b[0m \u001b[1;33m>\u001b[0m \u001b[1;36m1\u001b[0m\u001b[1;33m)\u001b[0m\u001b[1;33m:\u001b[0m\u001b[1;33m\u001b[0m\u001b[0m\n",
      "\u001b[1;32m/usr/local/anaconda3/lib/python3.5/site-packages/sklearn/utils/validation.py\u001b[0m in \u001b[0;36mcheck_X_y\u001b[1;34m(X, y, accept_sparse, dtype, order, copy, force_all_finite, ensure_2d, allow_nd, multi_output, ensure_min_samples, ensure_min_features, y_numeric, warn_on_dtype, estimator)\u001b[0m\n\u001b[0;32m    518\u001b[0m         \u001b[0my\u001b[0m \u001b[1;33m=\u001b[0m \u001b[0my\u001b[0m\u001b[1;33m.\u001b[0m\u001b[0mastype\u001b[0m\u001b[1;33m(\u001b[0m\u001b[0mnp\u001b[0m\u001b[1;33m.\u001b[0m\u001b[0mfloat64\u001b[0m\u001b[1;33m)\u001b[0m\u001b[1;33m\u001b[0m\u001b[0m\n\u001b[0;32m    519\u001b[0m \u001b[1;33m\u001b[0m\u001b[0m\n\u001b[1;32m--> 520\u001b[1;33m     \u001b[0mcheck_consistent_length\u001b[0m\u001b[1;33m(\u001b[0m\u001b[0mX\u001b[0m\u001b[1;33m,\u001b[0m \u001b[0my\u001b[0m\u001b[1;33m)\u001b[0m\u001b[1;33m\u001b[0m\u001b[0m\n\u001b[0m\u001b[0;32m    521\u001b[0m \u001b[1;33m\u001b[0m\u001b[0m\n\u001b[0;32m    522\u001b[0m     \u001b[1;32mreturn\u001b[0m \u001b[0mX\u001b[0m\u001b[1;33m,\u001b[0m \u001b[0my\u001b[0m\u001b[1;33m\u001b[0m\u001b[0m\n",
      "\u001b[1;32m/usr/local/anaconda3/lib/python3.5/site-packages/sklearn/utils/validation.py\u001b[0m in \u001b[0;36mcheck_consistent_length\u001b[1;34m(*arrays)\u001b[0m\n\u001b[0;32m    174\u001b[0m     \u001b[1;32mif\u001b[0m \u001b[0mlen\u001b[0m\u001b[1;33m(\u001b[0m\u001b[0muniques\u001b[0m\u001b[1;33m)\u001b[0m \u001b[1;33m>\u001b[0m \u001b[1;36m1\u001b[0m\u001b[1;33m:\u001b[0m\u001b[1;33m\u001b[0m\u001b[0m\n\u001b[0;32m    175\u001b[0m         raise ValueError(\"Found arrays with inconsistent numbers of samples: \"\n\u001b[1;32m--> 176\u001b[1;33m                          \"%s\" % str(uniques))\n\u001b[0m\u001b[0;32m    177\u001b[0m \u001b[1;33m\u001b[0m\u001b[0m\n\u001b[0;32m    178\u001b[0m \u001b[1;33m\u001b[0m\u001b[0m\n",
      "\u001b[1;31mValueError\u001b[0m: Found arrays with inconsistent numbers of samples: [62006 62007]"
     ]
    }
   ],
   "source": [
    "LR_Bio.fit(Xp_train, y_train['PUNT_BIOLOGIA'])\n",
    "LR_Bio.score(Xp_test, y_test['PUNT_BIOLOGIA'])"
   ]
  },
  {
   "cell_type": "code",
   "execution_count": 97,
   "metadata": {
    "collapsed": false
   },
   "outputs": [],
   "source": [
    "pca = PCA(n_components=20)\n",
    "Xp = pca.fit_transform(O_X)\n",
    "Xp_train = Xp[:int(Xp.shape[0]*0.8),:]\n",
    "Xp_test = Xp[int(Xp.shape[0]*0.8):,:]"
   ]
  },
  {
   "cell_type": "code",
   "execution_count": 98,
   "metadata": {
    "collapsed": false
   },
   "outputs": [
    {
     "data": {
      "text/plain": [
       "-0.019905882682468956"
      ]
     },
     "execution_count": 98,
     "metadata": {},
     "output_type": "execute_result"
    }
   ],
   "source": [
    "LR_Bio.fit(Xp_train, O_y_train['PUNT_BIOLOGIA'])\n",
    "LR_Bio.score(Xp_test, O_y_test['PUNT_BIOLOGIA'])"
   ]
  },
  {
   "cell_type": "code",
   "execution_count": 99,
   "metadata": {
    "collapsed": false
   },
   "outputs": [
    {
     "data": {
      "text/plain": [
       "0.22322038658610274"
      ]
     },
     "execution_count": 99,
     "metadata": {},
     "output_type": "execute_result"
    }
   ],
   "source": [
    "LR_Bio.score(Xp_train, O_y_train['PUNT_BIOLOGIA'])"
   ]
  },
  {
   "cell_type": "markdown",
   "metadata": {},
   "source": [
    "## Polynomial Regression"
   ]
  },
  {
   "cell_type": "code",
   "execution_count": null,
   "metadata": {
    "collapsed": true
   },
   "outputs": [],
   "source": [
    "from sklearn.preprocessing import PolynomialFeatures"
   ]
  },
  {
   "cell_type": "code",
   "execution_count": null,
   "metadata": {
    "collapsed": true
   },
   "outputs": [],
   "source": [
    "Pol = PolynomialFeatures(degree=3)"
   ]
  },
  {
   "cell_type": "code",
   "execution_count": null,
   "metadata": {
    "collapsed": true
   },
   "outputs": [],
   "source": [
    "Xpol_train = Pol.fit_transform(X_train)"
   ]
  },
  {
   "cell_type": "code",
   "execution_count": null,
   "metadata": {
    "collapsed": false
   },
   "outputs": [],
   "source": [
    "new_X_train = pd.DataFrame(Xpol_train)"
   ]
  },
  {
   "cell_type": "code",
   "execution_count": null,
   "metadata": {
    "collapsed": false
   },
   "outputs": [],
   "source": [
    "new_X_train.head()"
   ]
  },
  {
   "cell_type": "code",
   "execution_count": null,
   "metadata": {
    "collapsed": false
   },
   "outputs": [],
   "source": [
    "PR = LinearRegression()\n",
    "PR.fit(new_X_train, y_train['PUNT_BIOLOGIA'])"
   ]
  },
  {
   "cell_type": "code",
   "execution_count": null,
   "metadata": {
    "collapsed": false
   },
   "outputs": [],
   "source": [
    "Xpol_test = Pol.fit_transform(X_test)"
   ]
  },
  {
   "cell_type": "code",
   "execution_count": null,
   "metadata": {
    "collapsed": false
   },
   "outputs": [],
   "source": [
    "PR.score(Xpol_test, y_test['PUNT_BIOLOGIA'])"
   ]
  },
  {
   "cell_type": "markdown",
   "metadata": {},
   "source": [
    "### SVR  \n",
    "Here we have to scale the data before the training and testing"
   ]
  },
  {
   "cell_type": "code",
   "execution_count": null,
   "metadata": {
    "collapsed": true
   },
   "outputs": [],
   "source": [
    "scaler_X = MinMaxScaler(feature_range=(0,1))\n",
    "scaler_y = MinMaxScaler(feature_range=(0,1))"
   ]
  },
  {
   "cell_type": "code",
   "execution_count": null,
   "metadata": {
    "collapsed": false
   },
   "outputs": [],
   "source": [
    "Xs_train = scaler_X.fit_transform(X_train)\n",
    "ys_train = scaler_y.fit_transform(np.asarray(y_train['PUNT_BIOLOGIA']).reshape(-1,1))"
   ]
  },
  {
   "cell_type": "code",
   "execution_count": null,
   "metadata": {
    "collapsed": true
   },
   "outputs": [],
   "source": [
    "svr_bio = SVR()\n",
    "svr_bio.fit(Xs_train, np.asarray(ys_train).reshape(ys_train.shape[0],))#se cambian las dimensiones del Y \n",
    "#porque la funcion las requiere"
   ]
  },
  {
   "cell_type": "code",
   "execution_count": null,
   "metadata": {
    "collapsed": true
   },
   "outputs": [],
   "source": [
    "scaler_Xt = MinMaxScaler(feature_range=(0,1))\n",
    "scaler_yt = MinMaxScaler(feature_range=(0,1))\n",
    "Xs_test = scaler_Xt.fit_transform(X_test)\n",
    "ys_test = scaler_yt.fit_transform(np.asarray(y_test['PUNT_BIOLOGIA']).reshape(-1,1))"
   ]
  },
  {
   "cell_type": "code",
   "execution_count": null,
   "metadata": {
    "collapsed": false
   },
   "outputs": [],
   "source": [
    "svr_bio.score(Xs_test, ys_test)"
   ]
  },
  {
   "cell_type": "markdown",
   "metadata": {},
   "source": [
    "#### With PCA"
   ]
  },
  {
   "cell_type": "code",
   "execution_count": null,
   "metadata": {
    "collapsed": true
   },
   "outputs": [],
   "source": []
  },
  {
   "cell_type": "markdown",
   "metadata": {},
   "source": [
    "### Decision Tree Regressor"
   ]
  },
  {
   "cell_type": "code",
   "execution_count": 18,
   "metadata": {
    "collapsed": false
   },
   "outputs": [
    {
     "data": {
      "text/plain": [
       "-5.9928745707380635"
      ]
     },
     "execution_count": 18,
     "metadata": {},
     "output_type": "execute_result"
    }
   ],
   "source": [
    "Bio_Tree = DecisionTreeRegressor()\n",
    "Bio_Tree.fit(X_train, y_train['PUNT_BIOLOGIA'])\n",
    "Bio_Tree.score(X_test, y_test['PUNT_BIOLOGIA'])"
   ]
  },
  {
   "cell_type": "markdown",
   "metadata": {},
   "source": [
    "#### With PCA"
   ]
  },
  {
   "cell_type": "code",
   "execution_count": 19,
   "metadata": {
    "collapsed": false
   },
   "outputs": [
    {
     "data": {
      "text/plain": [
       "-6.0133171703136332"
      ]
     },
     "execution_count": 19,
     "metadata": {},
     "output_type": "execute_result"
    }
   ],
   "source": [
    "Bio_Tree.fit(Xp_train, y_train['PUNT_BIOLOGIA'])\n",
    "Bio_Tree.score(Xp_test, y_test['PUNT_BIOLOGIA'])"
   ]
  },
  {
   "cell_type": "code",
   "execution_count": 21,
   "metadata": {
    "collapsed": true
   },
   "outputs": [],
   "source": [
    "import math"
   ]
  },
  {
   "cell_type": "code",
   "execution_count": null,
   "metadata": {
    "collapsed": false
   },
   "outputs": [],
   "source": [
    "range(math.ceil(X.shape[0]*0.8), X.shape[0])[0:5000]"
   ]
  },
  {
   "cell_type": "code",
   "execution_count": null,
   "metadata": {
    "collapsed": false
   },
   "outputs": [],
   "source": [
    "62101-77626"
   ]
  },
  {
   "cell_type": "code",
   "execution_count": null,
   "metadata": {
    "collapsed": false
   },
   "outputs": [],
   "source": [
    "Bio_Tree.predict(Xp_test)[4001:]"
   ]
  },
  {
   "cell_type": "code",
   "execution_count": 26,
   "metadata": {
    "collapsed": false,
    "scrolled": true
   },
   "outputs": [
    {
     "data": {
      "image/png": "[encoded data removed]",
      "text/plain": [
       "<matplotlib.figure.Figure at 0x7f11a133ad30>"
      ]
     },
     "metadata": {},
     "output_type": "display_data"
    }
   ],
   "source": [
    "plt.figure(figsize=(15,4))\n",
    "xl = range(math.ceil(X.shape[0]*0.8), X.shape[0])\n",
    "plt.plot(xl[0:200], y_test['PUNT_BIOLOGIA'][0:200], alpha=0.5, color='blue');\n",
    "plt.plot(xl[0:200], Bio_Tree.predict(Xp_test)[0:200], alpha=0.5, color='red');"
   ]
  },
  {
   "cell_type": "markdown",
   "metadata": {},
   "source": [
    "### Random Forest Regressor"
   ]
  },
  {
   "cell_type": "code",
   "execution_count": 27,
   "metadata": {
    "collapsed": false
   },
   "outputs": [
    {
     "data": {
      "text/plain": [
       "-5.3027059462852355"
      ]
     },
     "execution_count": 27,
     "metadata": {},
     "output_type": "execute_result"
    }
   ],
   "source": [
    "Bio_RFR = RandomForestRegressor()\n",
    "Bio_RFR.fit(X_train, y_train['PUNT_BIOLOGIA'])\n",
    "Bio_RFR.score(X_test, y_test['PUNT_BIOLOGIA'])"
   ]
  },
  {
   "cell_type": "markdown",
   "metadata": {},
   "source": [
    "#### With PCA"
   ]
  },
  {
   "cell_type": "code",
   "execution_count": null,
   "metadata": {
    "collapsed": false
   },
   "outputs": [],
   "source": [
    "Bio_RFR.fit(Xp_train, y_train['PUNT_BIOLOGIA'])\n",
    "Bio_RFR.score(Xp_test, y_test['PUNT_BIOLOGIA'])"
   ]
  },
  {
   "cell_type": "markdown",
   "metadata": {},
   "source": [
    "# Matematicas"
   ]
  },
  {
   "cell_type": "code",
   "execution_count": 9,
   "metadata": {
    "collapsed": false
   },
   "outputs": [],
   "source": [
    "data_2000_1 = data_2000_1.sort_values('PUNT_MATEMATICAS', axis=0)\n",
    "X = data_2000_1.filter(items=X_list)\n",
    "Y = data_2000_1.filter(items=y_list)\n",
    "f = int(X.shape[0]*.8) #'Tamaño a tomar (80% de los datos):'\n",
    "X_train = X.iloc[:f, :]\n",
    "X_test = X.iloc[f:, :]\n",
    "y_train = Y.iloc[:f, :]\n",
    "y_test = Y.iloc[f:, :]"
   ]
  },
  {
   "cell_type": "code",
   "execution_count": 11,
   "metadata": {
    "collapsed": false,
    "scrolled": true
   },
   "outputs": [
    {
     "data": {
      "text/plain": [
       "[<matplotlib.lines.Line2D at 0x7f5a16b47be0>]"
      ]
     },
     "execution_count": 11,
     "metadata": {},
     "output_type": "execute_result"
    },
    {
     "data": {
      "image/png": "[encoded data removed]",
      "text/plain": [
       "<matplotlib.figure.Figure at 0x7f5a16b83898>"
      ]
     },
     "metadata": {},
     "output_type": "display_data"
    }
   ],
   "source": [
    "plt.figure(figsize=(15,3))\n",
    "plt.plot(range(Y['PUNT_MATEMATICAS'].shape[0]), Y['PUNT_MATEMATICAS'])"
   ]
  },
  {
   "cell_type": "markdown",
   "metadata": {},
   "source": [
    "### SKL Linear Regressor"
   ]
  },
  {
   "cell_type": "code",
   "execution_count": 12,
   "metadata": {
    "collapsed": false
   },
   "outputs": [
    {
     "data": {
      "text/plain": [
       "-6.1392415294346421"
      ]
     },
     "execution_count": 12,
     "metadata": {},
     "output_type": "execute_result"
    }
   ],
   "source": [
    "LR_Mat = LinearRegression()\n",
    "LR_Mat.fit(X_train, y_train['PUNT_MATEMATICAS'])\n",
    "LR_Mat.score(X_test, y_test['PUNT_MATEMATICAS'])"
   ]
  },
  {
   "cell_type": "markdown",
   "metadata": {},
   "source": [
    "#### With PCA"
   ]
  },
  {
   "cell_type": "code",
   "execution_count": 15,
   "metadata": {
    "collapsed": false
   },
   "outputs": [
    {
     "data": {
      "text/plain": [
       "-6.1392415294346421"
      ]
     },
     "execution_count": 15,
     "metadata": {},
     "output_type": "execute_result"
    }
   ],
   "source": [
    "LR_Mat.fit(Xp_train, y_train['PUNT_MATEMATICAS'])\n",
    "LR_Mat.score(Xp_test, y_test['PUNT_MATEMATICAS'])"
   ]
  },
  {
   "cell_type": "markdown",
   "metadata": {},
   "source": [
    "### SVR"
   ]
  },
  {
   "cell_type": "code",
   "execution_count": null,
   "metadata": {
    "collapsed": false
   },
   "outputs": [],
   "source": [
    "svr_Math = SVR()\n",
    "svr_Math.fit(X_train, y_train['PUNT_MATEMATICAS'])\n",
    "svr_Math.score(X_test, y_test['PUNT_MATEMATICAS'])"
   ]
  },
  {
   "cell_type": "markdown",
   "metadata": {},
   "source": [
    "### Decision Tree Regressor"
   ]
  },
  {
   "cell_type": "code",
   "execution_count": 16,
   "metadata": {
    "collapsed": false
   },
   "outputs": [
    {
     "data": {
      "text/plain": [
       "-7.0831743065383606"
      ]
     },
     "execution_count": 16,
     "metadata": {},
     "output_type": "execute_result"
    }
   ],
   "source": [
    "DTR_Math = DecisionTreeRegressor()\n",
    "DTR_Math.fit(X_train, y_train['PUNT_MATEMATICAS'])\n",
    "DTR_Math.score(X_test, y_test['PUNT_MATEMATICAS'])"
   ]
  },
  {
   "cell_type": "markdown",
   "metadata": {},
   "source": [
    "#### With PCA"
   ]
  },
  {
   "cell_type": "code",
   "execution_count": 17,
   "metadata": {
    "collapsed": false
   },
   "outputs": [
    {
     "data": {
      "text/plain": [
       "-7.0939965849418893"
      ]
     },
     "execution_count": 17,
     "metadata": {},
     "output_type": "execute_result"
    }
   ],
   "source": [
    "DTR_Math.fit(Xp_train, y_train['PUNT_MATEMATICAS'])\n",
    "DTR_Math.score(Xp_test, y_test['PUNT_MATEMATICAS'])"
   ]
  },
  {
   "cell_type": "markdown",
   "metadata": {},
   "source": [
    "### Random Forest Regressor"
   ]
  },
  {
   "cell_type": "code",
   "execution_count": 18,
   "metadata": {
    "collapsed": false
   },
   "outputs": [
    {
     "data": {
      "text/plain": [
       "-6.2136281111410199"
      ]
     },
     "execution_count": 18,
     "metadata": {},
     "output_type": "execute_result"
    }
   ],
   "source": [
    "RFR_Math = RandomForestRegressor()\n",
    "RFR_Math.fit(X_train, y_train['PUNT_MATEMATICAS'])\n",
    "RFR_Math.score(X_test, y_test['PUNT_MATEMATICAS'])"
   ]
  },
  {
   "cell_type": "markdown",
   "metadata": {},
   "source": [
    "#### With PCA"
   ]
  },
  {
   "cell_type": "code",
   "execution_count": 19,
   "metadata": {
    "collapsed": false
   },
   "outputs": [
    {
     "data": {
      "text/plain": [
       "-6.249588238363363"
      ]
     },
     "execution_count": 19,
     "metadata": {},
     "output_type": "execute_result"
    }
   ],
   "source": [
    "RFR_Math.fit(Xp_train, y_train['PUNT_MATEMATICAS'])\n",
    "RFR_Math.score(Xp_test, y_test['PUNT_MATEMATICAS'])"
   ]
  },
  {
   "cell_type": "markdown",
   "metadata": {},
   "source": [
    "# Filosofia"
   ]
  },
  {
   "cell_type": "code",
   "execution_count": 20,
   "metadata": {
    "collapsed": false
   },
   "outputs": [],
   "source": [
    "data_2000_1 = data_2000_1.sort_values('PUNT_FILOSOFIA', axis=0)\n",
    "X = data_2000_1.filter(items=X_list)\n",
    "Y = data_2000_1.filter(items=y_list)\n",
    "f = int(X.shape[0]*.8) #'Tamaño a tomar (80% de los datos):'\n",
    "X_train = X.iloc[:f, :]\n",
    "X_test = X.iloc[f:, :]\n",
    "y_train = Y.iloc[:f, :]\n",
    "y_test = Y.iloc[f:, :]"
   ]
  },
  {
   "cell_type": "code",
   "execution_count": 22,
   "metadata": {
    "collapsed": false,
    "scrolled": true
   },
   "outputs": [
    {
     "data": {
      "text/plain": [
       "[<matplotlib.lines.Line2D at 0x7f5a16920198>]"
      ]
     },
     "execution_count": 22,
     "metadata": {},
     "output_type": "execute_result"
    },
    {
     "data": {
      "image/png": "[encoded data removed]",
      "text/plain": [
       "<matplotlib.figure.Figure at 0x7f5a169c9630>"
      ]
     },
     "metadata": {},
     "output_type": "display_data"
    }
   ],
   "source": [
    "plt.figure(figsize=(15,3))\n",
    "plt.plot(range(Y.shape[0]), Y['PUNT_FILOSOFIA'])"
   ]
  },
  {
   "cell_type": "markdown",
   "metadata": {},
   "source": [
    "### SKL Linear Regressor"
   ]
  },
  {
   "cell_type": "code",
   "execution_count": 23,
   "metadata": {
    "collapsed": false
   },
   "outputs": [
    {
     "data": {
      "text/plain": [
       "-9.3357580164652294"
      ]
     },
     "execution_count": 23,
     "metadata": {},
     "output_type": "execute_result"
    }
   ],
   "source": [
    "LR_Filo = LinearRegression()\n",
    "LR_Filo.fit(X_train, y_train['PUNT_FILOSOFIA'])\n",
    "LR_Filo.score(X_test, y_test['PUNT_FILOSOFIA'])"
   ]
  },
  {
   "cell_type": "markdown",
   "metadata": {},
   "source": [
    "#### With PCA"
   ]
  },
  {
   "cell_type": "code",
   "execution_count": 24,
   "metadata": {
    "collapsed": false
   },
   "outputs": [
    {
     "data": {
      "text/plain": [
       "-9.3327588435452817"
      ]
     },
     "execution_count": 24,
     "metadata": {},
     "output_type": "execute_result"
    }
   ],
   "source": [
    "LR_Filo.fit(Xp_train, y_train['PUNT_FILOSOFIA'])\n",
    "LR_Filo.score(Xp_test, y_test['PUNT_FILOSOFIA'])"
   ]
  },
  {
   "cell_type": "markdown",
   "metadata": {},
   "source": [
    "### Decision Tree Regressor"
   ]
  },
  {
   "cell_type": "code",
   "execution_count": 25,
   "metadata": {
    "collapsed": false
   },
   "outputs": [
    {
     "data": {
      "text/plain": [
       "-11.900679707257103"
      ]
     },
     "execution_count": 25,
     "metadata": {},
     "output_type": "execute_result"
    }
   ],
   "source": [
    "DTR_Filo = DecisionTreeRegressor()\n",
    "DTR_Filo.fit(X_train, y_train['PUNT_FILOSOFIA'])\n",
    "DTR_Filo.score(X_test, y_test['PUNT_FILOSOFIA'])"
   ]
  },
  {
   "cell_type": "markdown",
   "metadata": {},
   "source": [
    "#### With PCA"
   ]
  },
  {
   "cell_type": "code",
   "execution_count": 26,
   "metadata": {
    "collapsed": false
   },
   "outputs": [
    {
     "data": {
      "text/plain": [
       "-11.447231530799625"
      ]
     },
     "execution_count": 26,
     "metadata": {},
     "output_type": "execute_result"
    }
   ],
   "source": [
    "DTR_Filo.fit(Xp_train, y_train['PUNT_FILOSOFIA'])\n",
    "DTR_Filo.score(Xp_test, y_test['PUNT_FILOSOFIA'])"
   ]
  },
  {
   "cell_type": "markdown",
   "metadata": {},
   "source": [
    "### Random Forest Regressor"
   ]
  },
  {
   "cell_type": "code",
   "execution_count": 27,
   "metadata": {
    "collapsed": false
   },
   "outputs": [
    {
     "data": {
      "text/plain": [
       "-9.8525629380012614"
      ]
     },
     "execution_count": 27,
     "metadata": {},
     "output_type": "execute_result"
    }
   ],
   "source": [
    "RFR_Filo = RandomForestRegressor()\n",
    "RFR_Filo.fit(X_train, y_train['PUNT_FILOSOFIA'])\n",
    "RFR_Filo.score(X_test, y_test['PUNT_FILOSOFIA'])"
   ]
  },
  {
   "cell_type": "markdown",
   "metadata": {},
   "source": [
    "#### With PCA"
   ]
  },
  {
   "cell_type": "code",
   "execution_count": 28,
   "metadata": {
    "collapsed": false
   },
   "outputs": [
    {
     "data": {
      "text/plain": [
       "-9.6007736965739543"
      ]
     },
     "execution_count": 28,
     "metadata": {},
     "output_type": "execute_result"
    }
   ],
   "source": [
    "RFR_Filo.fit(Xp_train, y_train['PUNT_FILOSOFIA'])\n",
    "RFR_Filo.score(Xp_test, y_test['PUNT_FILOSOFIA'])"
   ]
  },
  {
   "cell_type": "markdown",
   "metadata": {},
   "source": [
    "# Fisica"
   ]
  },
  {
   "cell_type": "code",
   "execution_count": null,
   "metadata": {
    "collapsed": false,
    "scrolled": true
   },
   "outputs": [],
   "source": [
    "plt.figure(figsize=(15,3))\n",
    "plt.plot(Y['PUNT_FISICA'])"
   ]
  },
  {
   "cell_type": "markdown",
   "metadata": {},
   "source": [
    "### SKL Linear Regressor"
   ]
  },
  {
   "cell_type": "code",
   "execution_count": null,
   "metadata": {
    "collapsed": false
   },
   "outputs": [],
   "source": [
    "LR_Fis = LinearRegression()\n",
    "LR_Fis.fit(X_train, y_train['PUNT_FISICA'])\n",
    "LR_Fis.score(X_test, y_test['PUNT_FISICA'])"
   ]
  },
  {
   "cell_type": "markdown",
   "metadata": {},
   "source": [
    "#### With PCA"
   ]
  },
  {
   "cell_type": "code",
   "execution_count": null,
   "metadata": {
    "collapsed": false
   },
   "outputs": [],
   "source": [
    "LR_Fis.fit(Xp_train, y_train['PUNT_FISICA'])\n",
    "LR_Fis.score(Xp_test, y_test['PUNT_FISICA'])"
   ]
  },
  {
   "cell_type": "markdown",
   "metadata": {},
   "source": [
    "### Decision Tree Regressor"
   ]
  },
  {
   "cell_type": "code",
   "execution_count": null,
   "metadata": {
    "collapsed": false
   },
   "outputs": [],
   "source": [
    "DTR_Math = DecisionTreeRegressor()\n",
    "DTR_Math.fit(X_train, y_train['PUNT_FISICA'])\n",
    "DTR_Math.score(X_test, y_test['PUNT_FISICA'])"
   ]
  },
  {
   "cell_type": "markdown",
   "metadata": {},
   "source": [
    "#### With PCA"
   ]
  },
  {
   "cell_type": "code",
   "execution_count": null,
   "metadata": {
    "collapsed": false
   },
   "outputs": [],
   "source": [
    "DTR_Math.fit(Xp_train, y_train['PUNT_FISICA'])\n",
    "DTR_Math.score(Xp_test, y_test['PUNT_FISICA'])"
   ]
  },
  {
   "cell_type": "markdown",
   "metadata": {},
   "source": [
    "### Random Forest Regressor"
   ]
  },
  {
   "cell_type": "code",
   "execution_count": null,
   "metadata": {
    "collapsed": false
   },
   "outputs": [],
   "source": [
    "RFR_Math = RandomForestRegressor()\n",
    "RFR_Math.fit(X_train, y_train['PUNT_FISICA'])\n",
    "RFR_Math.score(X_test, y_test['PUNT_FISICA'])"
   ]
  },
  {
   "cell_type": "markdown",
   "metadata": {},
   "source": [
    "#### With PCA"
   ]
  },
  {
   "cell_type": "code",
   "execution_count": null,
   "metadata": {
    "collapsed": false
   },
   "outputs": [],
   "source": [
    "RFR_Math.fit(Xp_train, y_train['PUNT_FISICA'])\n",
    "RFR_Math.score(Xp_test, y_test['PUNT_FISICA'])"
   ]
  },
  {
   "cell_type": "markdown",
   "metadata": {},
   "source": [
    "# Historia"
   ]
  },
  {
   "cell_type": "code",
   "execution_count": null,
   "metadata": {
    "collapsed": false,
    "scrolled": true
   },
   "outputs": [],
   "source": [
    "plt.figure(figsize=(15,3))\n",
    "plt.plot(Y['PUNT_HISTORIA'])"
   ]
  },
  {
   "cell_type": "markdown",
   "metadata": {},
   "source": [
    "### SKL Linear Regressor"
   ]
  },
  {
   "cell_type": "code",
   "execution_count": null,
   "metadata": {
    "collapsed": false
   },
   "outputs": [],
   "source": [
    "LR_Hist = LinearRegression()\n",
    "LR_Hist.fit(X_train, y_train['PUNT_HISTORIA'])\n",
    "LR_Hist.score(X_test, y_test['PUNT_HISTORIA'])"
   ]
  },
  {
   "cell_type": "markdown",
   "metadata": {},
   "source": [
    "#### With PCA"
   ]
  },
  {
   "cell_type": "code",
   "execution_count": null,
   "metadata": {
    "collapsed": false
   },
   "outputs": [],
   "source": [
    "LR_Hist.fit(Xp_train, y_train['PUNT_HISTORIA'])\n",
    "LR_Hist.score(Xp_test, y_test['PUNT_HISTORIA'])"
   ]
  },
  {
   "cell_type": "markdown",
   "metadata": {},
   "source": [
    "### Decision Tree Regressor"
   ]
  },
  {
   "cell_type": "code",
   "execution_count": null,
   "metadata": {
    "collapsed": false
   },
   "outputs": [],
   "source": [
    "DTR_Hist = DecisionTreeRegressor()\n",
    "DTR_Hist.fit(X_train, y_train['PUNT_HISTORIA'])\n",
    "DTR_Hist.score(X_test, y_test['PUNT_HISTORIA'])"
   ]
  },
  {
   "cell_type": "markdown",
   "metadata": {},
   "source": [
    "#### With PCA"
   ]
  },
  {
   "cell_type": "code",
   "execution_count": null,
   "metadata": {
    "collapsed": false
   },
   "outputs": [],
   "source": [
    "DTR_Hist.fit(Xp_train, y_train['PUNT_HISTORIA'])\n",
    "DTR_Hist.score(Xp_test, y_test['PUNT_HISTORIA'])"
   ]
  },
  {
   "cell_type": "markdown",
   "metadata": {},
   "source": [
    "### Random Forest Regressor"
   ]
  },
  {
   "cell_type": "code",
   "execution_count": null,
   "metadata": {
    "collapsed": false
   },
   "outputs": [],
   "source": [
    "RFR_Hist = RandomForestRegressor()\n",
    "RFR_Hist.fit(X_train, y_train['PUNT_HISTORIA'])\n",
    "RFR_Hist.score(X_test, y_test['PUNT_HISTORIA'])"
   ]
  },
  {
   "cell_type": "markdown",
   "metadata": {},
   "source": [
    "#### With PCA"
   ]
  },
  {
   "cell_type": "code",
   "execution_count": null,
   "metadata": {
    "collapsed": false
   },
   "outputs": [],
   "source": [
    "RFR_Hist.fit(Xp_train, y_train['PUNT_HISTORIA'])\n",
    "RFR_Hist.score(Xp_test, y_test['PUNT_HISTORIA'])"
   ]
  },
  {
   "cell_type": "markdown",
   "metadata": {},
   "source": [
    "# Quimica"
   ]
  },
  {
   "cell_type": "code",
   "execution_count": null,
   "metadata": {
    "collapsed": false,
    "scrolled": true
   },
   "outputs": [],
   "source": [
    "plt.figure(figsize=(15,3))\n",
    "plt.plot(Y['PUNT_QUIMICA'])"
   ]
  },
  {
   "cell_type": "markdown",
   "metadata": {},
   "source": [
    "### SKL Linear Regressor"
   ]
  },
  {
   "cell_type": "code",
   "execution_count": null,
   "metadata": {
    "collapsed": false,
    "scrolled": true
   },
   "outputs": [],
   "source": [
    "LR_Qui = LinearRegression()\n",
    "LR_Qui.fit(X_train, y_train['PUNT_QUIMICA'])\n",
    "LR_Qui.score(X_test, y_test['PUNT_QUIMICA'])"
   ]
  },
  {
   "cell_type": "markdown",
   "metadata": {},
   "source": [
    "#### With PCA"
   ]
  },
  {
   "cell_type": "code",
   "execution_count": null,
   "metadata": {
    "collapsed": false
   },
   "outputs": [],
   "source": [
    "LR_Qui.fit(Xp_train, y_train['PUNT_QUIMICA'])\n",
    "LR_Qui.score(Xp_test, y_test['PUNT_QUIMICA'])"
   ]
  },
  {
   "cell_type": "markdown",
   "metadata": {},
   "source": [
    "### Decision Tree Regressor"
   ]
  },
  {
   "cell_type": "code",
   "execution_count": null,
   "metadata": {
    "collapsed": false
   },
   "outputs": [],
   "source": [
    "DTR_Qui = DecisionTreeRegressor()\n",
    "DTR_Qui.fit(X_train, y_train['PUNT_QUIMICA'])\n",
    "DTR_Qui.score(X_test, y_test['PUNT_QUIMICA'])"
   ]
  },
  {
   "cell_type": "markdown",
   "metadata": {},
   "source": [
    "#### With PCA"
   ]
  },
  {
   "cell_type": "code",
   "execution_count": null,
   "metadata": {
    "collapsed": false
   },
   "outputs": [],
   "source": [
    "DTR_Qui.fit(Xp_train, y_train['PUNT_QUIMICA'])\n",
    "DTR_Qui.score(Xp_test, y_test['PUNT_QUIMICA'])"
   ]
  },
  {
   "cell_type": "markdown",
   "metadata": {},
   "source": [
    "### Random Forest Regressor"
   ]
  },
  {
   "cell_type": "code",
   "execution_count": null,
   "metadata": {
    "collapsed": false
   },
   "outputs": [],
   "source": [
    "RFR_Qui = RandomForestRegressor()\n",
    "RFR_Qui.fit(X_train, y_train['PUNT_QUIMICA'])\n",
    "RFR_Qui.score(X_test, y_test['PUNT_QUIMICA'])"
   ]
  },
  {
   "cell_type": "markdown",
   "metadata": {},
   "source": [
    "#### With PCA"
   ]
  },
  {
   "cell_type": "code",
   "execution_count": null,
   "metadata": {
    "collapsed": false
   },
   "outputs": [],
   "source": [
    "RFR_Qui.fit(Xp_train, y_train['PUNT_QUIMICA'])\n",
    "RFR_Qui.score(Xp_test, y_test['PUNT_QUIMICA'])"
   ]
  },
  {
   "cell_type": "markdown",
   "metadata": {},
   "source": [
    "# Lenguaje"
   ]
  },
  {
   "cell_type": "code",
   "execution_count": null,
   "metadata": {
    "collapsed": false,
    "scrolled": true
   },
   "outputs": [],
   "source": [
    "plt.figure(figsize=(15,3))\n",
    "plt.plot(Y['PUNT_LENGUAJE'])"
   ]
  },
  {
   "cell_type": "markdown",
   "metadata": {},
   "source": [
    "### SKL Linear Regressor"
   ]
  },
  {
   "cell_type": "code",
   "execution_count": null,
   "metadata": {
    "collapsed": false
   },
   "outputs": [],
   "source": [
    "LR_Len = LinearRegression()\n",
    "LR_Len.fit(X_train, y_train['PUNT_LENGUAJE'])\n",
    "LR_Len.score(X_test, y_test['PUNT_LENGUAJE'])"
   ]
  },
  {
   "cell_type": "markdown",
   "metadata": {},
   "source": [
    "#### With PCA"
   ]
  },
  {
   "cell_type": "code",
   "execution_count": null,
   "metadata": {
    "collapsed": false
   },
   "outputs": [],
   "source": [
    "LR_Len.fit(Xp_train, y_train['PUNT_QUIMICA'])\n",
    "LR_Len.score(Xp_test, y_test['PUNT_QUIMICA'])"
   ]
  },
  {
   "cell_type": "markdown",
   "metadata": {},
   "source": [
    "### Decision Tree Regressor"
   ]
  },
  {
   "cell_type": "code",
   "execution_count": null,
   "metadata": {
    "collapsed": false
   },
   "outputs": [],
   "source": [
    "DTR_Len = DecisionTreeRegressor()\n",
    "DTR_Len.fit(X_train, y_train['PUNT_LENGUAJE'])\n",
    "DTR_Len.score(X_test, y_test['PUNT_LENGUAJE'])"
   ]
  },
  {
   "cell_type": "markdown",
   "metadata": {},
   "source": [
    "#### With PCA"
   ]
  },
  {
   "cell_type": "code",
   "execution_count": null,
   "metadata": {
    "collapsed": false
   },
   "outputs": [],
   "source": [
    "DTR_Len.fit(Xp_train, y_train['PUNT_QUIMICA'])\n",
    "DTR_Len.score(Xp_test, y_test['PUNT_QUIMICA'])"
   ]
  },
  {
   "cell_type": "markdown",
   "metadata": {},
   "source": [
    "### Random Forest Regressor"
   ]
  },
  {
   "cell_type": "code",
   "execution_count": null,
   "metadata": {
    "collapsed": false
   },
   "outputs": [],
   "source": [
    "RFR_Len = RandomForestRegressor()\n",
    "RFR_Len.fit(X_train, y_train['PUNT_LENGUAJE'])\n",
    "RFR_Len.score(X_test, y_test['PUNT_LENGUAJE'])"
   ]
  },
  {
   "cell_type": "markdown",
   "metadata": {},
   "source": [
    "#### With PCA"
   ]
  },
  {
   "cell_type": "code",
   "execution_count": null,
   "metadata": {
    "collapsed": false
   },
   "outputs": [],
   "source": [
    "RFR_Len.fit(Xp_train, y_train['PUNT_QUIMICA'])\n",
    "RFR_Len.score(Xp_test, y_test['PUNT_QUIMICA'])"
   ]
  },
  {
   "cell_type": "markdown",
   "metadata": {},
   "source": [
    "# Geografia"
   ]
  },
  {
   "cell_type": "code",
   "execution_count": null,
   "metadata": {
    "collapsed": false,
    "scrolled": true
   },
   "outputs": [],
   "source": [
    "plt.figure(figsize=(15,3))\n",
    "plt.plot(Y['PUNT_GEOGRAFIA'])"
   ]
  },
  {
   "cell_type": "markdown",
   "metadata": {},
   "source": [
    "### SKL Linear Regressor"
   ]
  },
  {
   "cell_type": "code",
   "execution_count": null,
   "metadata": {
    "collapsed": false
   },
   "outputs": [],
   "source": [
    "LR_Geo = LinearRegression()\n",
    "LR_Geo.fit(X_train, y_train['PUNT_GEOGRAFIA'])\n",
    "LR_Geo.score(X_test, y_test['PUNT_GEOGRAFIA'])"
   ]
  },
  {
   "cell_type": "markdown",
   "metadata": {},
   "source": [
    "#### With PCA"
   ]
  },
  {
   "cell_type": "code",
   "execution_count": null,
   "metadata": {
    "collapsed": false
   },
   "outputs": [],
   "source": [
    "LR_Geo.fit(Xp_train, y_train['PUNT_GEOGRAFIA'])\n",
    "LR_Geo.score(Xp_test, y_test['PUNT_GEOGRAFIA'])"
   ]
  },
  {
   "cell_type": "markdown",
   "metadata": {},
   "source": [
    "### Decision Tree Regressor"
   ]
  },
  {
   "cell_type": "code",
   "execution_count": null,
   "metadata": {
    "collapsed": false
   },
   "outputs": [],
   "source": [
    "DTR_Geo = DecisionTreeRegressor()\n",
    "DTR_Geo.fit(X_train, y_train['PUNT_GEOGRAFIA'])\n",
    "DTR_Geo.score(X_test, y_test['PUNT_GEOGRAFIA'])"
   ]
  },
  {
   "cell_type": "markdown",
   "metadata": {},
   "source": [
    "#### With PCA"
   ]
  },
  {
   "cell_type": "code",
   "execution_count": null,
   "metadata": {
    "collapsed": false
   },
   "outputs": [],
   "source": [
    "DTR_Geo.fit(Xp_train, y_train['PUNT_GEOGRAFIA'])\n",
    "DTR_Geo.score(Xp_test, y_test['PUNT_GEOGRAFIA'])"
   ]
  },
  {
   "cell_type": "markdown",
   "metadata": {},
   "source": [
    "### Random Forest Regressor"
   ]
  },
  {
   "cell_type": "code",
   "execution_count": null,
   "metadata": {
    "collapsed": false
   },
   "outputs": [],
   "source": [
    "RFR_Geo = RandomForestRegressor()\n",
    "RFR_Geo.fit(X_train, y_train['PUNT_GEOGRAFIA'])\n",
    "RFR_Geo.score(X_test, y_test['PUNT_GEOGRAFIA'])"
   ]
  },
  {
   "cell_type": "markdown",
   "metadata": {},
   "source": [
    "#### With PCA"
   ]
  },
  {
   "cell_type": "code",
   "execution_count": null,
   "metadata": {
    "collapsed": false
   },
   "outputs": [],
   "source": [
    "RFR_Geo.fit(Xp_train, y_train['PUNT_GEOGRAFIA'])\n",
    "RFR_Geo.score(Xp_test, y_test['PUNT_GEOGRAFIA'])"
   ]
  },
  {
   "cell_type": "markdown",
   "metadata": {},
   "source": [
    "# Idioma"
   ]
  },
  {
   "cell_type": "code",
   "execution_count": null,
   "metadata": {
    "collapsed": false,
    "scrolled": true
   },
   "outputs": [],
   "source": [
    "plt.figure(figsize=(15,3))\n",
    "plt.plot(Y['PUNT_IDIOMA'])"
   ]
  },
  {
   "cell_type": "markdown",
   "metadata": {},
   "source": [
    "### SKL Linear Regressor"
   ]
  },
  {
   "cell_type": "code",
   "execution_count": null,
   "metadata": {
    "collapsed": false
   },
   "outputs": [],
   "source": [
    "LR_ID = LinearRegression()\n",
    "LR_ID.fit(X_train, y_train['PUNT_IDIOMA'])\n",
    "LR_ID.score(X_test, y_test['PUNT_IDIOMA'])"
   ]
  },
  {
   "cell_type": "markdown",
   "metadata": {},
   "source": [
    "#### With PCA"
   ]
  },
  {
   "cell_type": "code",
   "execution_count": null,
   "metadata": {
    "collapsed": false
   },
   "outputs": [],
   "source": [
    "LR_ID.fit(Xp_train, y_train['PUNT_IDIOMA'])\n",
    "LR_ID.score(Xp_test, y_test['PUNT_IDIOMA'])"
   ]
  },
  {
   "cell_type": "markdown",
   "metadata": {},
   "source": [
    "### Decision Tree Regressor"
   ]
  },
  {
   "cell_type": "code",
   "execution_count": null,
   "metadata": {
    "collapsed": false
   },
   "outputs": [],
   "source": [
    "DTR_ID = DecisionTreeRegressor()\n",
    "DTR_ID.fit(X_train, y_train['PUNT_IDIOMA'])\n",
    "DTR_ID.score(X_test, y_test['PUNT_IDIOMA'])"
   ]
  },
  {
   "cell_type": "markdown",
   "metadata": {},
   "source": [
    "#### With PCA"
   ]
  },
  {
   "cell_type": "code",
   "execution_count": null,
   "metadata": {
    "collapsed": false
   },
   "outputs": [],
   "source": [
    "DTR_ID.fit(Xp_train, y_train['PUNT_IDIOMA'])\n",
    "DTR_ID.score(Xp_test, y_test['PUNT_IDIOMA'])"
   ]
  },
  {
   "cell_type": "markdown",
   "metadata": {},
   "source": [
    "### Random Forest Regressor"
   ]
  },
  {
   "cell_type": "code",
   "execution_count": null,
   "metadata": {
    "collapsed": false
   },
   "outputs": [],
   "source": [
    "RFR_ID = RandomForestRegressor()\n",
    "RFR_ID.fit(X_train, y_train['PUNT_IDIOMA'])\n",
    "RFR_ID.score(X_test, y_test['PUNT_IDIOMA'])"
   ]
  },
  {
   "cell_type": "markdown",
   "metadata": {},
   "source": [
    "#### With PCA"
   ]
  },
  {
   "cell_type": "code",
   "execution_count": null,
   "metadata": {
    "collapsed": false
   },
   "outputs": [],
   "source": [
    "RFR_ID.fit(Xp_train, y_train['PUNT_IDIOMA'])\n",
    "RFR_ID.score(Xp_test, y_test['PUNT_IDIOMA'])"
   ]
  },
  {
   "cell_type": "markdown",
   "metadata": {},
   "source": [
    "# Interdisciplinar"
   ]
  },
  {
   "cell_type": "code",
   "execution_count": null,
   "metadata": {
    "collapsed": false,
    "scrolled": true
   },
   "outputs": [],
   "source": [
    "plt.figure(figsize=(15,3))\n",
    "plt.plot(Y['PUNT_INTERDISCIPLINAR'])"
   ]
  },
  {
   "cell_type": "markdown",
   "metadata": {},
   "source": [
    "### SKL Linear Regressor"
   ]
  },
  {
   "cell_type": "code",
   "execution_count": null,
   "metadata": {
    "collapsed": false,
    "scrolled": true
   },
   "outputs": [],
   "source": [
    "LR_Int = LinearRegression()\n",
    "LR_Int.fit(X_train, y_train['PUNT_INTERDISCIPLINAR'])\n",
    "LR_Int.score(X_test, y_test['PUNT_INTERDISCIPLINAR'])"
   ]
  },
  {
   "cell_type": "markdown",
   "metadata": {},
   "source": [
    "#### With PCA"
   ]
  },
  {
   "cell_type": "code",
   "execution_count": null,
   "metadata": {
    "collapsed": false
   },
   "outputs": [],
   "source": [
    "LR_Int.fit(Xp_train, y_train['PUNT_INTERDISCIPLINAR'])\n",
    "LR_Int.score(Xp_test, y_test['PUNT_INTERDISCIPLINAR'])"
   ]
  },
  {
   "cell_type": "markdown",
   "metadata": {},
   "source": [
    "### Decision Tree Regressor"
   ]
  },
  {
   "cell_type": "code",
   "execution_count": null,
   "metadata": {
    "collapsed": false
   },
   "outputs": [],
   "source": [
    "DTR_INT = DecisionTreeRegressor()\n",
    "DTR_INT.fit(X_train, y_train['PUNT_INTERDISCIPLINAR'])\n",
    "DTR_INT.score(X_test, y_test['PUNT_INTERDISCIPLINAR'])"
   ]
  },
  {
   "cell_type": "markdown",
   "metadata": {},
   "source": [
    "#### With PCA"
   ]
  },
  {
   "cell_type": "code",
   "execution_count": null,
   "metadata": {
    "collapsed": false
   },
   "outputs": [],
   "source": [
    "DTR_INT.fit(Xp_train, y_train['PUNT_INTERDISCIPLINAR'])\n",
    "DTR_INT.score(Xp_test, y_test['PUNT_INTERDISCIPLINAR'])"
   ]
  },
  {
   "cell_type": "markdown",
   "metadata": {},
   "source": [
    "### Random Forest Regressor"
   ]
  },
  {
   "cell_type": "code",
   "execution_count": null,
   "metadata": {
    "collapsed": false
   },
   "outputs": [],
   "source": [
    "RFR_INT = RandomForestRegressor()\n",
    "RFR_INT.fit(X_train, y_train['PUNT_INTERDISCIPLINAR'])\n",
    "RFR_INT.score(X_test, y_test['PUNT_INTERDISCIPLINAR'])"
   ]
  },
  {
   "cell_type": "markdown",
   "metadata": {},
   "source": [
    "#### With PCA"
   ]
  },
  {
   "cell_type": "code",
   "execution_count": null,
   "metadata": {
    "collapsed": false
   },
   "outputs": [],
   "source": [
    "RFR_INT.fit(Xp_train, y_train['PUNT_INTERDISCIPLINAR'])\n",
    "RFR_INT.score(Xp_test, y_test['PUNT_INTERDISCIPLINAR'])"
   ]
  },
  {
   "cell_type": "code",
   "execution_count": null,
   "metadata": {
    "collapsed": true
   },
   "outputs": [],
   "source": []
  },
  {
   "cell_type": "code",
   "execution_count": null,
   "metadata": {
    "collapsed": true
   },
   "outputs": [],
   "source": []
  },
  {
   "cell_type": "code",
   "execution_count": null,
   "metadata": {
    "collapsed": true
   },
   "outputs": [],
   "source": []
  },
  {
   "cell_type": "code",
   "execution_count": null,
   "metadata": {
    "collapsed": false
   },
   "outputs": [],
   "source": [
    "l = [0, 2, 1, 4, 5]"
   ]
  },
  {
   "cell_type": "code",
   "execution_count": null,
   "metadata": {
    "collapsed": false
   },
   "outputs": [],
   "source": [
    "l = pd.DataFrame(l)"
   ]
  },
  {
   "cell_type": "code",
   "execution_count": null,
   "metadata": {
    "collapsed": true
   },
   "outputs": [],
   "source": [
    "coder = LabelEncoder()"
   ]
  },
  {
   "cell_type": "code",
   "execution_count": null,
   "metadata": {
    "collapsed": false
   },
   "outputs": [],
   "source": [
    "np.asarray(l).reshape((5,)).shape"
   ]
  },
  {
   "cell_type": "code",
   "execution_count": null,
   "metadata": {
    "collapsed": false
   },
   "outputs": [],
   "source": [
    "np.asarray(l).reshape(5,)"
   ]
  },
  {
   "cell_type": "code",
   "execution_count": null,
   "metadata": {
    "collapsed": false
   },
   "outputs": [],
   "source": [
    "new_l = coder.fit_transform(np.asarray(l).reshape((5,)))"
   ]
  },
  {
   "cell_type": "code",
   "execution_count": null,
   "metadata": {
    "collapsed": false
   },
   "outputs": [],
   "source": [
    "new_l"
   ]
  },
  {
   "cell_type": "code",
   "execution_count": null,
   "metadata": {
    "collapsed": false
   },
   "outputs": [],
   "source": [
    "Hot_1 = OneHotEncoder()"
   ]
  },
  {
   "cell_type": "code",
   "execution_count": null,
   "metadata": {
    "collapsed": false
   },
   "outputs": [],
   "source": [
    "Hotter = Hot_1.fit_transform(new_l.reshape(1, -1), ['numbers'])"
   ]
  },
  {
   "cell_type": "code",
   "execution_count": null,
   "metadata": {
    "collapsed": false
   },
   "outputs": [],
   "source": [
    "Hotter.toarray()"
   ]
  }
 ],
 "metadata": {
  "kernelspec": {
   "display_name": "Python 3 + Anaconda",
   "language": "python",
   "name": "pyconda3"
  },
  "language_info": {
   "codemirror_mode": {
    "name": "ipython",
    "version": 3
   },
   "file_extension": ".py",
   "mimetype": "text/x-python",
   "name": "python",
   "nbconvert_exporter": "python",
   "pygments_lexer": "ipython3",
   "version": "3.5.1"
  }
 },
 "nbformat": 4,
 "nbformat_minor": 0
}
