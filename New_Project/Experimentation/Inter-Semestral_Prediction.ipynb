{
 "cells": [
  {
   "cell_type": "code",
   "execution_count": null,
   "metadata": {
    "collapsed": true
   },
   "outputs": [],
   "source": [
    "import pandas as pd\n",
    "import numpy as np\n",
    "from sklearn.preprocessing import PolynomialFeatures\n",
    "from sklearn.decomposition import PCA\n",
    "from sklearn.cross_validation import ShuffleSplit\n",
    "from sklearn.cross_validation import cross_val_score\n",
    "from sklearn.linear_model import LinearRegression\n",
    "from sklearn.tree import DecisionTreeRegressor\n",
    "from sklearn.ensemble import RandomForestRegressor\n",
    "%run -i ../tools/Automation_Functions.py\n",
    "%run -i ../tools/Automation_Functions_2014.py"
   ]
  },
  {
   "cell_type": "code",
   "execution_count": 2,
   "metadata": {
    "collapsed": true
   },
   "outputs": [],
   "source": [
    "data_2000_1 = pd.read_csv('../DatosFTPICFES/SABER11/SB11-BASES_DE_DATOS/READY/2000_1.csv', delimiter=';')\n",
    "data_2000_2 = pd.read_csv('../DatosFTPICFES/SABER11/SB11-BASES_DE_DATOS/READY/2000_2.csv', delimiter=';')\n",
    "\n",
    "data_2001_1 = pd.read_csv('../DatosFTPICFES/SABER11/SB11-BASES_DE_DATOS/READY/2001_1.csv', delimiter=';')\n",
    "data_2001_2 = pd.read_csv('../DatosFTPICFES/SABER11/SB11-BASES_DE_DATOS/READY/2001_2.csv', delimiter=';')\n",
    "\n",
    "data_2002_1 = pd.read_csv('../DatosFTPICFES/SABER11/SB11-BASES_DE_DATOS/READY/2002_1.csv', delimiter=';')\n",
    "data_2002_2 = pd.read_csv('../DatosFTPICFES/SABER11/SB11-BASES_DE_DATOS/READY/2002_2.csv', delimiter=';')\n",
    "\n",
    "data_2003_1 = pd.read_csv('../DatosFTPICFES/SABER11/SB11-BASES_DE_DATOS/READY/2003_1.csv', delimiter=';')\n",
    "data_2003_2 = pd.read_csv('../DatosFTPICFES/SABER11/SB11-BASES_DE_DATOS/READY/2003_2.csv', delimiter=';')\n",
    "\n",
    "data_2004_1 = pd.read_csv('../DatosFTPICFES/SABER11/SB11-BASES_DE_DATOS/READY/2004_1.csv', delimiter=';')\n",
    "data_2004_2 = pd.read_csv('../DatosFTPICFES/SABER11/SB11-BASES_DE_DATOS/READY/2004_2.csv', delimiter=';')\n",
    "\n",
    "data_2005_1 = pd.read_csv('../DatosFTPICFES/SABER11/SB11-BASES_DE_DATOS/READY/2005_1.csv', delimiter=';')\n",
    "data_2005_2 = pd.read_csv('../DatosFTPICFES/SABER11/SB11-BASES_DE_DATOS/READY/2005_2.csv', delimiter=';')\n",
    "\n",
    "data_2006_1 = pd.read_csv('../DatosFTPICFES/SABER11/SB11-BASES_DE_DATOS/READY/2006_1.csv', delimiter=';')\n",
    "data_2006_2 = pd.read_csv('../DatosFTPICFES/SABER11/SB11-BASES_DE_DATOS/READY/2006_2.csv', delimiter=';')\n",
    "\n",
    "data_2007_1 = pd.read_csv('../DatosFTPICFES/SABER11/SB11-BASES_DE_DATOS/READY/2007_1.csv', delimiter=';')\n",
    "data_2007_2 = pd.read_csv('../DatosFTPICFES/SABER11/SB11-BASES_DE_DATOS/READY/2007_2.csv', delimiter=';')\n",
    "\n",
    "data_2008_1 = pd.read_csv('../DatosFTPICFES/SABER11/SB11-BASES_DE_DATOS/READY/2008_1.csv', delimiter=';')\n",
    "data_2008_2 = pd.read_csv('../DatosFTPICFES/SABER11/SB11-BASES_DE_DATOS/READY/2008_2.csv', delimiter=';')\n",
    "\n",
    "data_2009_1 = pd.read_csv('../DatosFTPICFES/SABER11/SB11-BASES_DE_DATOS/READY/2009_1.csv', delimiter=';')\n",
    "data_2009_2 = pd.read_csv('../DatosFTPICFES/SABER11/SB11-BASES_DE_DATOS/READY/2009_2.csv', delimiter=';')\n",
    "\n",
    "data_2010_1 = pd.read_csv('../DatosFTPICFES/SABER11/SB11-BASES_DE_DATOS/READY/2010_1.csv', delimiter=';')\n",
    "data_2010_2 = pd.read_csv('../DatosFTPICFES/SABER11/SB11-BASES_DE_DATOS/READY/2010_2.csv', delimiter=';')\n",
    "\n",
    "data_2011_1 = pd.read_csv('../DatosFTPICFES/SABER11/SB11-BASES_DE_DATOS/READY/2011_1.csv', delimiter=';')\n",
    "data_2011_2 = pd.read_csv('../DatosFTPICFES/SABER11/SB11-BASES_DE_DATOS/READY/2011_2.csv', delimiter=';')\n",
    "\n",
    "data_2012_1 = pd.read_csv('../DatosFTPICFES/SABER11/SB11-BASES_DE_DATOS/READY/2012_1.csv', delimiter=';')\n",
    "data_2012_2 = pd.read_csv('../DatosFTPICFES/SABER11/SB11-BASES_DE_DATOS/READY/2012_2.csv', delimiter=';')\n",
    "\n",
    "data_2013_1 = pd.read_csv('../DatosFTPICFES/SABER11/SB11-BASES_DE_DATOS/READY/2013_1.csv', delimiter=';')\n",
    "data_2013_2 = pd.read_csv('../DatosFTPICFES/SABER11/SB11-BASES_DE_DATOS/READY/2013_2.csv', delimiter=';')\n",
    "\n",
    "data_2014_1 = pd.read_csv('../DatosFTPICFES/SABER11/SB11-BASES_DE_DATOS/READY/2014_1.csv', delimiter=';')\n",
    "data_2014_2 = pd.read_csv('../DatosFTPICFES/SABER11/SB11-BASES_DE_DATOS/READY/2014_2.csv', delimiter=';')\n",
    "\n",
    "data_2015_1 = pd.read_csv('../DatosFTPICFES/SABER11/SB11-BASES_DE_DATOS/READY/2015_1.csv', delimiter=';')\n",
    "data_2015_2 = pd.read_csv('../DatosFTPICFES/SABER11/SB11-BASES_DE_DATOS/READY/2015_2.csv', delimiter=';')\n",
    "\n",
    "data_2016_1 = pd.read_csv('../DatosFTPICFES/SABER11/SB11-BASES_DE_DATOS/READY/2016_1.csv', delimiter=';')\n",
    "data_2016_1_V2 = pd.read_csv('../DatosFTPICFES/SABER11/SB11-BASES_DE_DATOS/READY/2016_1_V2.csv', delimiter=';')\n",
    "data_2016_2 = pd.read_csv('../DatosFTPICFES/SABER11/SB11-BASES_DE_DATOS/READY/2016_2.csv', delimiter=';')\n",
    "\n",
    "data_2017_1 = pd.read_csv('../DatosFTPICFES/SABER11/SB11-BASES_DE_DATOS/READY/2017_1.csv', delimiter=';')"
   ]
  },
  {
   "cell_type": "markdown",
   "metadata": {},
   "source": [
    "### CROSSED\n",
    "* Training with the first semester and testing with the second.\n",
    "* Training with the second semester and testing with the first of the next Year"
   ]
  },
  {
   "cell_type": "code",
   "execution_count": 3,
   "metadata": {
    "collapsed": false,
    "scrolled": true
   },
   "outputs": [
    {
     "name": "stdout",
     "output_type": "stream",
     "text": [
      "Scores for the Columns/Subject: PUNT_QUIMICA\n",
      "Score LR: 6.250631204425564\n",
      "Score DT: 4.749951791359045\n",
      "Score RF: 4.7528208163319725\n",
      "\n",
      "Scores for the Columns/Subject: PUNT_IDIOMA\n",
      "Score LR: 9.578791174031538\n",
      "Score DT: 6.036081878421112\n",
      "Score RF: 5.101405336730267\n",
      "\n",
      "Scores for the Columns/Subject: PUNT_BIOLOGIA\n",
      "Score LR: 6.190153929449565\n",
      "Score DT: 5.307542634313266\n",
      "Score RF: 5.086049774132965\n",
      "\n",
      "Scores for the Columns/Subject: PUNT_FILOSOFIA\n",
      "Score LR: 5.936142663785151\n",
      "Score DT: 5.564466513589822\n",
      "Score RF: 8.57207225783676\n",
      "\n",
      "Scores for the Columns/Subject: PUNT_FISICA\n",
      "Score LR: 5.573973600201234\n",
      "Score DT: 5.276149324691524\n",
      "Score RF: 5.206652465724359\n",
      "\n",
      "Scores for the Columns/Subject: PUNT_GEOGRAFIA\n",
      "Score LR: 5.626867330395231\n",
      "Score DT: 5.171688695789153\n",
      "Score RF: 5.110677244807073\n",
      "\n",
      "Scores for the Columns/Subject: PUNT_HISTORIA\n",
      "Score LR: 5.8214873208538584\n",
      "Score DT: 5.0124461816519235\n",
      "Score RF: 5.014987158900121\n",
      "\n",
      "Scores for the Columns/Subject: PUNT_INTERDISCIPLINAR\n",
      "Score LR: 11.889145697269123\n",
      "Score DT: 11.23475956680021\n",
      "Score RF: 10.62660832424581\n",
      "\n",
      "Scores for the Columns/Subject: PUNT_MATEMATICAS\n",
      "Score LR: 5.629613530593632\n",
      "Score DT: 5.184715095746801\n",
      "Score RF: 4.222840405879169\n",
      "\n",
      "Scores for the Columns/Subject: PUNT_LENGUAJE\n",
      "Score LR: 6.579655346491629\n",
      "Score DT: 6.120201311116346\n",
      "Score RF: 6.471885687713349\n",
      "\n"
     ]
    }
   ],
   "source": [
    "vs_2000_2 = Test_all_Subjects(data_2000_1, data_2000_2)"
   ]
  },
  {
   "cell_type": "code",
   "execution_count": 4,
   "metadata": {
    "collapsed": false,
    "scrolled": true
   },
   "outputs": [
    {
     "name": "stdout",
     "output_type": "stream",
     "text": [
      "Scores for the Columns/Subject: PUNT_QUIMICA\n",
      "Score LR: 14.08450327081568\n",
      "Score DT: 4.718827172961396\n",
      "Score RF: 4.622951737795343\n",
      "\n",
      "Scores for the Columns/Subject: PUNT_IDIOMA\n",
      "Score LR: 13.695557664107191\n",
      "Score DT: 5.557189817430963\n",
      "Score RF: 5.615915701057659\n",
      "\n",
      "Scores for the Columns/Subject: PUNT_BIOLOGIA\n",
      "Score LR: 12.474250184871975\n",
      "Score DT: 4.806903940490876\n",
      "Score RF: 4.750717858096201\n",
      "\n",
      "Scores for the Columns/Subject: PUNT_FILOSOFIA\n",
      "Score LR: 12.003690523015766\n",
      "Score DT: 5.994256946746306\n",
      "Score RF: 6.172527790736108\n",
      "\n",
      "Scores for the Columns/Subject: PUNT_FISICA\n",
      "Score LR: 7.978654666667229\n",
      "Score DT: 4.880773770434948\n",
      "Score RF: 4.578447111072753\n",
      "\n",
      "Scores for the Columns/Subject: PUNT_GEOGRAFIA\n",
      "Score LR: 13.582068368817845\n",
      "Score DT: 6.7556100058465365\n",
      "Score RF: 6.220905883391015\n",
      "\n",
      "Scores for the Columns/Subject: PUNT_HISTORIA\n",
      "Score LR: 13.65547470649307\n",
      "Score DT: 4.912514523166448\n",
      "Score RF: 4.898611222470288\n",
      "\n",
      "Scores for the Columns/Subject: PUNT_INTERDISCIPLINAR\n",
      "Score LR: 10.888511993726704\n",
      "Score DT: 11.518287805127187\n",
      "Score RF: 5.443947616308032\n",
      "\n",
      "Scores for the Columns/Subject: PUNT_MATEMATICAS\n",
      "Score LR: 6.558139876643779\n",
      "Score DT: 3.9774437531146725\n",
      "Score RF: 4.063819331612673\n",
      "\n",
      "Scores for the Columns/Subject: PUNT_LENGUAJE\n",
      "Score LR: 14.23639207976484\n",
      "Score DT: 4.963090770322174\n",
      "Score RF: 4.791033720926351\n",
      "\n"
     ]
    }
   ],
   "source": [
    "vs_2001_1 = Test_all_Subjects(data_2000_2, data_2001_1)"
   ]
  },
  {
   "cell_type": "code",
   "execution_count": 5,
   "metadata": {
    "collapsed": false,
    "scrolled": true
   },
   "outputs": [
    {
     "name": "stdout",
     "output_type": "stream",
     "text": [
      "Scores for the Columns/Subject: PUNT_QUIMICA\n",
      "Score LR: 4.638567694410118\n",
      "Score DT: 4.5610811796187365\n",
      "Score RF: 4.1282860155849495\n",
      "\n",
      "Scores for the Columns/Subject: PUNT_IDIOMA\n",
      "Score LR: 6.942728298424241\n",
      "Score DT: 5.652842458456273\n",
      "Score RF: 5.221566066469793\n",
      "\n",
      "Scores for the Columns/Subject: PUNT_BIOLOGIA\n",
      "Score LR: 4.635383813141881\n",
      "Score DT: 4.591022264985094\n",
      "Score RF: 4.042589819988373\n",
      "\n",
      "Scores for the Columns/Subject: PUNT_FILOSOFIA\n",
      "Score LR: 4.980616214045532\n",
      "Score DT: 5.057847971248997\n",
      "Score RF: 4.875320293263138\n",
      "\n",
      "Scores for the Columns/Subject: PUNT_FISICA\n",
      "Score LR: 4.8751735629312885\n",
      "Score DT: 5.076476348155894\n",
      "Score RF: 4.731856490153579\n",
      "\n",
      "Scores for the Columns/Subject: PUNT_GEOGRAFIA\n",
      "Score LR: 5.956406591937163\n",
      "Score DT: 5.743113707575515\n",
      "Score RF: 5.253051592009006\n",
      "\n",
      "Scores for the Columns/Subject: PUNT_HISTORIA\n",
      "Score LR: 5.275471450663456\n",
      "Score DT: 5.338564294610777\n",
      "Score RF: 5.011694438674579\n",
      "\n",
      "Scores for the Columns/Subject: PUNT_INTERDISCIPLINAR\n",
      "Score LR: 8.478017120532595\n",
      "Score DT: 10.67229445464426\n",
      "Score RF: 5.610739662073343\n",
      "\n",
      "Scores for the Columns/Subject: PUNT_MATEMATICAS\n",
      "Score LR: 4.375766381721958\n",
      "Score DT: 4.35970529703618\n",
      "Score RF: 4.293061120232416\n",
      "\n",
      "Scores for the Columns/Subject: PUNT_LENGUAJE\n",
      "Score LR: 4.83562368518972\n",
      "Score DT: 5.0909404845351585\n",
      "Score RF: 4.611093535404752\n",
      "\n"
     ]
    }
   ],
   "source": [
    "vs_2001_2 = Test_all_Subjects(data_2001_1, data_2001_2)"
   ]
  },
  {
   "cell_type": "code",
   "execution_count": 6,
   "metadata": {
    "collapsed": false,
    "scrolled": true
   },
   "outputs": [
    {
     "name": "stdout",
     "output_type": "stream",
     "text": [
      "Scores for the Columns/Subject: PUNT_QUIMICA\n",
      "Score LR: 4.096462474907539\n",
      "Score DT: 4.063982062174238\n",
      "Score RF: 3.6978498941539035\n",
      "\n",
      "Scores for the Columns/Subject: PUNT_IDIOMA\n",
      "Score LR: 6.16801592530785\n",
      "Score DT: 6.15593387206016\n",
      "Score RF: 5.067217309696715\n",
      "\n",
      "Scores for the Columns/Subject: PUNT_BIOLOGIA\n",
      "Score LR: 4.396045504980352\n",
      "Score DT: 4.247606078498095\n",
      "Score RF: 3.923000896766522\n",
      "\n",
      "Scores for the Columns/Subject: PUNT_FILOSOFIA\n",
      "Score LR: 5.277963182207311\n",
      "Score DT: 5.326895319532646\n",
      "Score RF: 5.073009230756554\n",
      "\n",
      "Scores for the Columns/Subject: PUNT_FISICA\n",
      "Score LR: 4.896227487994913\n",
      "Score DT: 4.870102112173282\n",
      "Score RF: 4.721937063087695\n",
      "\n",
      "Scores for the Columns/Subject: PUNT_GEOGRAFIA\n",
      "Score LR: 4.88821229942449\n",
      "Score DT: 5.026334222859051\n",
      "Score RF: 4.8977261321447045\n",
      "\n",
      "Scores for the Columns/Subject: PUNT_HISTORIA\n",
      "Score LR: 4.781407425803349\n",
      "Score DT: 4.741166136066401\n",
      "Score RF: 4.402854333041853\n",
      "\n",
      "Scores for the Columns/Subject: PUNT_INTERDISCIPLINAR\n",
      "Score LR: 6.7061699272083635\n",
      "Score DT: 5.886393448810849\n",
      "Score RF: 5.72822476003078\n",
      "\n",
      "Scores for the Columns/Subject: PUNT_MATEMATICAS\n",
      "Score LR: 4.270347488309484\n",
      "Score DT: 4.305276953333299\n",
      "Score RF: 4.188933682245606\n",
      "\n",
      "Scores for the Columns/Subject: PUNT_LENGUAJE\n",
      "Score LR: 5.187716253855581\n",
      "Score DT: 5.125365138756387\n",
      "Score RF: 4.666536905130016\n",
      "\n"
     ]
    }
   ],
   "source": [
    "vs_2002_1 = Test_all_Subjects(data_2001_2, data_2002_1)"
   ]
  },
  {
   "cell_type": "code",
   "execution_count": 7,
   "metadata": {
    "collapsed": false,
    "scrolled": true
   },
   "outputs": [
    {
     "name": "stdout",
     "output_type": "stream",
     "text": [
      "Scores for the Columns/Subject: PUNT_QUIMICA\n",
      "Score LR: 4.904257387093045\n",
      "Score DT: 4.538688231862918\n",
      "Score RF: 4.407703005187477\n",
      "\n",
      "Scores for the Columns/Subject: PUNT_IDIOMA\n",
      "Score LR: 6.944967329508168\n",
      "Score DT: 6.71980693817145\n",
      "Score RF: 4.404838656185878\n",
      "\n",
      "Scores for the Columns/Subject: PUNT_BIOLOGIA\n",
      "Score LR: 5.447391259212842\n",
      "Score DT: 5.544759986443804\n",
      "Score RF: 4.6606813989323985\n",
      "\n",
      "Scores for the Columns/Subject: PUNT_FILOSOFIA\n",
      "Score LR: 5.392694717551604\n",
      "Score DT: 5.909947134135898\n",
      "Score RF: 5.047703126031762\n",
      "\n",
      "Scores for the Columns/Subject: PUNT_FISICA\n",
      "Score LR: 5.055084806659617\n",
      "Score DT: 5.07230096184911\n",
      "Score RF: 4.967948793050757\n",
      "\n",
      "Scores for the Columns/Subject: PUNT_GEOGRAFIA\n",
      "Score LR: 5.148024747222487\n",
      "Score DT: 5.020566753914177\n",
      "Score RF: 4.813326877360617\n",
      "\n",
      "Scores for the Columns/Subject: PUNT_HISTORIA\n",
      "Score LR: 4.871059803346662\n",
      "Score DT: 4.84939942631178\n",
      "Score RF: 4.327441190636652\n",
      "\n",
      "Scores for the Columns/Subject: PUNT_INTERDISCIPLINAR\n",
      "Score LR: 11.88429665636674\n",
      "Score DT: 11.36300895516046\n",
      "Score RF: 4.841928314772148\n",
      "\n",
      "Scores for the Columns/Subject: PUNT_MATEMATICAS\n",
      "Score LR: 5.377487647793772\n",
      "Score DT: 5.490696517602404\n",
      "Score RF: 4.799290426577791\n",
      "\n",
      "Scores for the Columns/Subject: PUNT_LENGUAJE\n",
      "Score LR: 6.145081127795524\n",
      "Score DT: 6.044502455283045\n",
      "Score RF: 5.103923945234507\n",
      "\n"
     ]
    }
   ],
   "source": [
    "vs_2002_2 = Test_all_Subjects(data_2002_1, data_2002_2)"
   ]
  },
  {
   "cell_type": "code",
   "execution_count": 8,
   "metadata": {
    "collapsed": false,
    "scrolled": true
   },
   "outputs": [
    {
     "name": "stdout",
     "output_type": "stream",
     "text": [
      "Scores for the Columns/Subject: PUNT_QUIMICA\n",
      "Score LR: 5.208431585600226\n",
      "Score DT: 4.264738103057732\n",
      "Score RF: 4.938848955998162\n",
      "\n",
      "Scores for the Columns/Subject: PUNT_IDIOMA\n",
      "Score LR: 6.466825124745494\n",
      "Score DT: 5.990201111977327\n",
      "Score RF: 5.929394429569031\n",
      "\n",
      "Scores for the Columns/Subject: PUNT_BIOLOGIA\n",
      "Score LR: 7.265458572723387\n",
      "Score DT: 5.341580300850033\n",
      "Score RF: 4.797270751442934\n",
      "\n",
      "Scores for the Columns/Subject: PUNT_FILOSOFIA\n",
      "Score LR: 5.265570891698734\n",
      "Score DT: 4.967319475260628\n",
      "Score RF: 4.927975546120931\n",
      "\n",
      "Scores for the Columns/Subject: PUNT_FISICA\n",
      "Score LR: 5.3123595739168605\n",
      "Score DT: 5.286501962829375\n",
      "Score RF: 7.2597734903583\n",
      "\n",
      "Scores for the Columns/Subject: PUNT_GEOGRAFIA\n",
      "Score LR: 6.856761595746441\n",
      "Score DT: 5.490054465043983\n",
      "Score RF: 5.666586466623969\n",
      "\n",
      "Scores for the Columns/Subject: PUNT_HISTORIA\n",
      "Score LR: 6.179962962423907\n",
      "Score DT: 4.704167271385546\n",
      "Score RF: 4.476545346981504\n",
      "\n",
      "Scores for the Columns/Subject: PUNT_INTERDISCIPLINAR\n",
      "Score LR: 5.9116822786528065\n",
      "Score DT: 4.614452808137957\n",
      "Score RF: 5.355456094862967\n",
      "\n",
      "Scores for the Columns/Subject: PUNT_MATEMATICAS\n",
      "Score LR: 6.041389130714376\n",
      "Score DT: 4.494008743657832\n",
      "Score RF: 4.551079281721452\n",
      "\n",
      "Scores for the Columns/Subject: PUNT_LENGUAJE\n",
      "Score LR: 8.383245793110044\n",
      "Score DT: 5.448064595361581\n",
      "Score RF: 4.746906880189809\n",
      "\n"
     ]
    }
   ],
   "source": [
    "vs_2003_1 = Test_all_Subjects(data_2002_2, data_2003_1)"
   ]
  },
  {
   "cell_type": "code",
   "execution_count": 9,
   "metadata": {
    "collapsed": false,
    "scrolled": true
   },
   "outputs": [
    {
     "name": "stdout",
     "output_type": "stream",
     "text": [
      "Scores for the Columns/Subject: PUNT_QUIMICA\n",
      "Score LR: 5.784070332994923\n",
      "Score DT: 5.15298096680352\n",
      "Score RF: 5.231654768396468\n",
      "\n",
      "Scores for the Columns/Subject: PUNT_IDIOMA\n",
      "Score LR: 7.160692759108599\n",
      "Score DT: 5.360245182859871\n",
      "Score RF: 5.939210982068624\n",
      "\n",
      "Scores for the Columns/Subject: PUNT_BIOLOGIA\n",
      "Score LR: 5.888622978638046\n",
      "Score DT: 5.725400935426494\n",
      "Score RF: 5.042833709716189\n",
      "\n",
      "Scores for the Columns/Subject: PUNT_FILOSOFIA\n",
      "Score LR: 5.604780413665633\n",
      "Score DT: 5.639171009677035\n",
      "Score RF: 5.42627265823143\n",
      "\n",
      "Scores for the Columns/Subject: PUNT_FISICA\n",
      "Score LR: 5.574812265830469\n",
      "Score DT: 5.598912177764695\n",
      "Score RF: 5.116244948537428\n",
      "\n",
      "Scores for the Columns/Subject: PUNT_GEOGRAFIA\n",
      "Score LR: 6.399837038412736\n",
      "Score DT: 6.231687493680231\n",
      "Score RF: 5.58130762036754\n",
      "\n",
      "Scores for the Columns/Subject: PUNT_HISTORIA\n",
      "Score LR: 5.12982043329288\n",
      "Score DT: 4.870136009405796\n",
      "Score RF: 4.4264129112599\n",
      "\n",
      "Scores for the Columns/Subject: PUNT_INTERDISCIPLINAR\n",
      "Score LR: 8.213007124594961\n",
      "Score DT: 9.20831230765285\n",
      "Score RF: 8.997286034941883\n",
      "\n",
      "Scores for the Columns/Subject: PUNT_MATEMATICAS\n",
      "Score LR: 4.600544278876304\n",
      "Score DT: 5.528141518784213\n",
      "Score RF: 4.21468266327208\n",
      "\n",
      "Scores for the Columns/Subject: PUNT_LENGUAJE\n",
      "Score LR: 7.089867169127317\n",
      "Score DT: 6.836903860232105\n",
      "Score RF: 6.467827994087561\n",
      "\n"
     ]
    }
   ],
   "source": [
    "vs_2003_2 = Test_all_Subjects(data_2003_1, data_2003_2)"
   ]
  },
  {
   "cell_type": "code",
   "execution_count": 10,
   "metadata": {
    "collapsed": false,
    "scrolled": true
   },
   "outputs": [
    {
     "name": "stdout",
     "output_type": "stream",
     "text": [
      "Scores for the Columns/Subject: PUNT_QUIMICA\n",
      "Score LR: 5.38540718678592\n",
      "Score DT: 5.373449562608562\n",
      "Score RF: 4.674401871028461\n",
      "\n",
      "Scores for the Columns/Subject: PUNT_IDIOMA\n",
      "Score LR: 5.901889819846712\n",
      "Score DT: 5.824606396775557\n",
      "Score RF: 5.522712725879838\n",
      "\n",
      "Scores for the Columns/Subject: PUNT_BIOLOGIA\n",
      "Score LR: 5.219811928271651\n",
      "Score DT: 5.2186428258787725\n",
      "Score RF: 4.879673582632755\n",
      "\n",
      "Scores for the Columns/Subject: PUNT_FILOSOFIA\n",
      "Score LR: 8.357852127095786\n",
      "Score DT: 8.558157075762018\n",
      "Score RF: 8.125068439974127\n",
      "\n",
      "Scores for the Columns/Subject: PUNT_FISICA\n",
      "Score LR: 5.327819561677283\n",
      "Score DT: 5.102000597770563\n",
      "Score RF: 4.867579390853423\n",
      "\n",
      "Scores for the Columns/Subject: PUNT_GEOGRAFIA\n",
      "Score LR: 5.517330560175579\n",
      "Score DT: 5.730015133551124\n",
      "Score RF: 5.011557373354744\n",
      "\n",
      "Scores for the Columns/Subject: PUNT_HISTORIA\n",
      "Score LR: 4.483490239662675\n",
      "Score DT: 4.265256971823204\n",
      "Score RF: 4.213786785114884\n",
      "\n",
      "Scores for the Columns/Subject: PUNT_INTERDISCIPLINAR\n",
      "Score LR: 9.38281854373885\n",
      "Score DT: 9.49441230152541\n",
      "Score RF: 7.477134975537924\n",
      "\n",
      "Scores for the Columns/Subject: PUNT_MATEMATICAS\n",
      "Score LR: 5.608835793812954\n",
      "Score DT: 5.732908713294328\n",
      "Score RF: 5.56500034554573\n",
      "\n",
      "Scores for the Columns/Subject: PUNT_LENGUAJE\n",
      "Score LR: 8.146207310038118\n",
      "Score DT: 8.177992564099796\n",
      "Score RF: 6.8216105377309555\n",
      "\n"
     ]
    }
   ],
   "source": [
    "vs_2004_1 = Test_all_Subjects(data_2003_2, data_2004_1)"
   ]
  },
  {
   "cell_type": "code",
   "execution_count": 11,
   "metadata": {
    "collapsed": false,
    "scrolled": true
   },
   "outputs": [
    {
     "name": "stdout",
     "output_type": "stream",
     "text": [
      "Scores for the Columns/Subject: PUNT_QUIMICA\n",
      "DATA ERROR... Linear Regression: Se pudo entrenar pero no validar.\n",
      "DATA ERROR... Decision Tree: Se pudo entrenar pero no validar.\n",
      "DATA ERROR... Random Forest: Se pudo entrenar pero no validar.\n",
      "\n",
      "Scores for the Columns/Subject: PUNT_IDIOMA\n",
      "DATA ERROR... Linear Regression: Se pudo entrenar pero no validar.\n",
      "DATA ERROR... Decision Tree: Se pudo entrenar pero no validar.\n",
      "DATA ERROR... Random Forest: Se pudo entrenar pero no validar.\n",
      "\n",
      "Scores for the Columns/Subject: PUNT_BIOLOGIA\n",
      "DATA ERROR... Linear Regression: Se pudo entrenar pero no validar.\n",
      "DATA ERROR... Decision Tree: Se pudo entrenar pero no validar.\n",
      "DATA ERROR... Random Forest: Se pudo entrenar pero no validar.\n",
      "\n",
      "Scores for the Columns/Subject: PUNT_FILOSOFIA\n",
      "DATA ERROR... Linear Regression: Se pudo entrenar pero no validar.\n",
      "DATA ERROR... Decision Tree: Se pudo entrenar pero no validar.\n",
      "DATA ERROR... Random Forest: Se pudo entrenar pero no validar.\n",
      "\n",
      "Scores for the Columns/Subject: PUNT_FISICA\n",
      "DATA ERROR... Linear Regression: Se pudo entrenar pero no validar.\n",
      "DATA ERROR... Decision Tree: Se pudo entrenar pero no validar.\n",
      "DATA ERROR... Random Forest: Se pudo entrenar pero no validar.\n",
      "\n",
      "Scores for the Columns/Subject: PUNT_GEOGRAFIA\n",
      "DATA ERROR... Linear Regression: Se pudo entrenar pero no validar.\n",
      "DATA ERROR... Decision Tree: Se pudo entrenar pero no validar.\n",
      "DATA ERROR... Random Forest: Se pudo entrenar pero no validar.\n",
      "\n",
      "Scores for the Columns/Subject: PUNT_HISTORIA\n",
      "DATA ERROR... Linear Regression: Se pudo entrenar pero no validar.\n",
      "DATA ERROR... Decision Tree: Se pudo entrenar pero no validar.\n",
      "DATA ERROR... Random Forest: Se pudo entrenar pero no validar.\n",
      "\n",
      "Scores for the Columns/Subject: PUNT_INTERDISCIPLINAR\n",
      "DATA ERROR... Linear Regression: Se pudo entrenar pero no validar.\n",
      "DATA ERROR... Decision Tree: Se pudo entrenar pero no validar.\n",
      "DATA ERROR... Random Forest: Se pudo entrenar pero no validar.\n",
      "\n",
      "Scores for the Columns/Subject: PUNT_MATEMATICAS\n",
      "DATA ERROR... Linear Regression: Se pudo entrenar pero no validar.\n",
      "DATA ERROR... Decision Tree: Se pudo entrenar pero no validar.\n",
      "DATA ERROR... Random Forest: Se pudo entrenar pero no validar.\n",
      "\n",
      "Scores for the Columns/Subject: PUNT_LENGUAJE\n",
      "DATA ERROR... Linear Regression: Se pudo entrenar pero no validar.\n",
      "DATA ERROR... Decision Tree: Se pudo entrenar pero no validar.\n",
      "DATA ERROR... Random Forest: Se pudo entrenar pero no validar.\n",
      "\n"
     ]
    }
   ],
   "source": [
    "vs_2004_2 = Test_all_Subjects(data_2004_1, data_2004_2)"
   ]
  },
  {
   "cell_type": "code",
   "execution_count": 12,
   "metadata": {
    "collapsed": false,
    "scrolled": true
   },
   "outputs": [
    {
     "name": "stdout",
     "output_type": "stream",
     "text": [
      "Scores for the Columns/Subject: PUNT_QUIMICA\n",
      "DATA ERROR... Linear Regression: No se pudo entrenar el modelo.\n",
      "DATA ERROR... Decision Tree: No se pudo entrenar el modelo.\n",
      "DATA ERROR... Random Forest: No se pudo entrenar el modelo.\n",
      "\n",
      "Scores for the Columns/Subject: PUNT_IDIOMA\n",
      "DATA ERROR... Linear Regression: No se pudo entrenar el modelo.\n",
      "DATA ERROR... Decision Tree: No se pudo entrenar el modelo.\n",
      "DATA ERROR... Random Forest: No se pudo entrenar el modelo.\n",
      "\n",
      "Scores for the Columns/Subject: PUNT_BIOLOGIA\n",
      "DATA ERROR... Linear Regression: No se pudo entrenar el modelo.\n",
      "DATA ERROR... Decision Tree: No se pudo entrenar el modelo.\n",
      "DATA ERROR... Random Forest: No se pudo entrenar el modelo.\n",
      "\n",
      "Scores for the Columns/Subject: PUNT_FILOSOFIA\n",
      "DATA ERROR... Linear Regression: No se pudo entrenar el modelo.\n",
      "DATA ERROR... Decision Tree: No se pudo entrenar el modelo.\n",
      "DATA ERROR... Random Forest: No se pudo entrenar el modelo.\n",
      "\n",
      "Scores for the Columns/Subject: PUNT_FISICA\n",
      "DATA ERROR... Linear Regression: No se pudo entrenar el modelo.\n",
      "DATA ERROR... Decision Tree: No se pudo entrenar el modelo.\n",
      "DATA ERROR... Random Forest: No se pudo entrenar el modelo.\n",
      "\n",
      "Scores for the Columns/Subject: PUNT_GEOGRAFIA\n",
      "DATA ERROR... Linear Regression: No se pudo entrenar el modelo.\n",
      "DATA ERROR... Decision Tree: No se pudo entrenar el modelo.\n",
      "DATA ERROR... Random Forest: No se pudo entrenar el modelo.\n",
      "\n",
      "Scores for the Columns/Subject: PUNT_HISTORIA\n",
      "DATA ERROR... Linear Regression: No se pudo entrenar el modelo.\n",
      "DATA ERROR... Decision Tree: No se pudo entrenar el modelo.\n",
      "DATA ERROR... Random Forest: No se pudo entrenar el modelo.\n",
      "\n",
      "Scores for the Columns/Subject: PUNT_INTERDISCIPLINAR\n",
      "DATA ERROR... Linear Regression: No se pudo entrenar el modelo.\n",
      "DATA ERROR... Decision Tree: No se pudo entrenar el modelo.\n",
      "DATA ERROR... Random Forest: No se pudo entrenar el modelo.\n",
      "\n",
      "Scores for the Columns/Subject: PUNT_MATEMATICAS\n",
      "DATA ERROR... Linear Regression: No se pudo entrenar el modelo.\n",
      "DATA ERROR... Decision Tree: No se pudo entrenar el modelo.\n",
      "DATA ERROR... Random Forest: No se pudo entrenar el modelo.\n",
      "\n",
      "Scores for the Columns/Subject: PUNT_LENGUAJE\n",
      "DATA ERROR... Linear Regression: No se pudo entrenar el modelo.\n",
      "DATA ERROR... Decision Tree: No se pudo entrenar el modelo.\n",
      "DATA ERROR... Random Forest: No se pudo entrenar el modelo.\n",
      "\n"
     ]
    }
   ],
   "source": [
    "vs_2005_1 = Test_all_Subjects(data_2004_2, data_2005_1)"
   ]
  },
  {
   "cell_type": "code",
   "execution_count": 13,
   "metadata": {
    "collapsed": false,
    "scrolled": true
   },
   "outputs": [
    {
     "name": "stdout",
     "output_type": "stream",
     "text": [
      "Scores for the Columns/Subject: PUNT_QUIMICA\n",
      "DATA ERROR... Linear Regression: No se pudo entrenar el modelo.\n",
      "DATA ERROR... Decision Tree: No se pudo entrenar el modelo.\n",
      "DATA ERROR... Random Forest: No se pudo entrenar el modelo.\n",
      "\n",
      "Scores for the Columns/Subject: PUNT_IDIOMA\n",
      "DATA ERROR... Linear Regression: No se pudo entrenar el modelo.\n",
      "DATA ERROR... Decision Tree: No se pudo entrenar el modelo.\n",
      "DATA ERROR... Random Forest: No se pudo entrenar el modelo.\n",
      "\n",
      "Scores for the Columns/Subject: PUNT_BIOLOGIA\n",
      "DATA ERROR... Linear Regression: No se pudo entrenar el modelo.\n",
      "DATA ERROR... Decision Tree: No se pudo entrenar el modelo.\n",
      "DATA ERROR... Random Forest: No se pudo entrenar el modelo.\n",
      "\n",
      "Scores for the Columns/Subject: PUNT_FILOSOFIA\n",
      "DATA ERROR... Linear Regression: No se pudo entrenar el modelo.\n",
      "DATA ERROR... Decision Tree: No se pudo entrenar el modelo.\n",
      "DATA ERROR... Random Forest: No se pudo entrenar el modelo.\n",
      "\n",
      "Scores for the Columns/Subject: PUNT_FISICA\n",
      "DATA ERROR... Linear Regression: No se pudo entrenar el modelo.\n",
      "DATA ERROR... Decision Tree: No se pudo entrenar el modelo.\n",
      "DATA ERROR... Random Forest: No se pudo entrenar el modelo.\n",
      "\n",
      "Scores for the Columns/Subject: PUNT_GEOGRAFIA\n",
      "DATA ERROR... Linear Regression: No se pudo entrenar el modelo.\n",
      "DATA ERROR... Decision Tree: No se pudo entrenar el modelo.\n",
      "DATA ERROR... Random Forest: No se pudo entrenar el modelo.\n",
      "\n",
      "Scores for the Columns/Subject: ESTU_PUESTO\n",
      "DATA ERROR... Linear Regression: No se pudo entrenar el modelo.\n",
      "DATA ERROR... Decision Tree: No se pudo entrenar el modelo.\n",
      "DATA ERROR... Random Forest: No se pudo entrenar el modelo.\n",
      "\n",
      "Scores for the Columns/Subject: PUNT_HISTORIA\n",
      "DATA ERROR... Linear Regression: No se pudo entrenar el modelo.\n",
      "DATA ERROR... Decision Tree: No se pudo entrenar el modelo.\n",
      "DATA ERROR... Random Forest: No se pudo entrenar el modelo.\n",
      "\n",
      "Scores for the Columns/Subject: PUNT_INTERDISCIPLINAR\n",
      "DATA ERROR... Linear Regression: No se pudo entrenar el modelo.\n",
      "DATA ERROR... Decision Tree: No se pudo entrenar el modelo.\n",
      "DATA ERROR... Random Forest: No se pudo entrenar el modelo.\n",
      "\n",
      "Scores for the Columns/Subject: PUNT_MATEMATICAS\n",
      "DATA ERROR... Linear Regression: No se pudo entrenar el modelo.\n",
      "DATA ERROR... Decision Tree: No se pudo entrenar el modelo.\n",
      "DATA ERROR... Random Forest: No se pudo entrenar el modelo.\n",
      "\n",
      "Scores for the Columns/Subject: PUNT_PROFUNDIZACION\n",
      "DATA ERROR... Linear Regression: No se pudo entrenar el modelo.\n",
      "DATA ERROR... Decision Tree: No se pudo entrenar el modelo.\n",
      "DATA ERROR... Random Forest: No se pudo entrenar el modelo.\n",
      "\n",
      "Scores for the Columns/Subject: PUNT_LENGUAJE\n",
      "DATA ERROR... Linear Regression: No se pudo entrenar el modelo.\n",
      "DATA ERROR... Decision Tree: No se pudo entrenar el modelo.\n",
      "DATA ERROR... Random Forest: No se pudo entrenar el modelo.\n",
      "\n"
     ]
    }
   ],
   "source": [
    "vs_2005_2 = Test_all_Subjects(data_2005_1, data_2005_2)"
   ]
  },
  {
   "cell_type": "code",
   "execution_count": 14,
   "metadata": {
    "collapsed": false,
    "scrolled": true
   },
   "outputs": [
    {
     "name": "stdout",
     "output_type": "stream",
     "text": [
      "Scores for the Columns/Subject: PUNT_QUIMICA\n",
      "Score LR: 5.016641769461237\n",
      "Score DT: 4.93222370226765\n",
      "DATA ERROR... Random Forest: No se pudo entrenar el modelo.\n",
      "\n",
      "Scores for the Columns/Subject: PUNT_IDIOMA\n",
      "Score LR: 8.821189477472977\n",
      "Score DT: 8.200766575523382\n",
      "DATA ERROR... Random Forest: No se pudo entrenar el modelo.\n",
      "\n",
      "Scores for the Columns/Subject: PUNT_BIOLOGIA\n",
      "Score LR: 6.843252822774117\n",
      "Score DT: 6.417422444243103\n",
      "DATA ERROR... Random Forest: No se pudo entrenar el modelo.\n",
      "\n",
      "Scores for the Columns/Subject: PUNT_FILOSOFIA\n",
      "Score LR: 6.795869791272771\n",
      "Score DT: 7.32263086349276\n",
      "DATA ERROR... Random Forest: No se pudo entrenar el modelo.\n",
      "\n",
      "Scores for the Columns/Subject: PUNT_FISICA\n",
      "Score LR: 6.08683962447172\n",
      "Score DT: 6.206068461105069\n",
      "DATA ERROR... Random Forest: No se pudo entrenar el modelo.\n",
      "\n",
      "Scores for the Columns/Subject: ESTU_PUESTO\n",
      "Score LR: 258.83604369024715\n",
      "Score DT: 247.58751371034774\n",
      "DATA ERROR... Random Forest: No se pudo entrenar el modelo.\n",
      "\n",
      "Scores for the Columns/Subject: PUNT_INTERDISCIPLINAR\n",
      "Score LR: 5.8561222482193305\n",
      "Score DT: 5.87673629004097\n",
      "DATA ERROR... Random Forest: No se pudo entrenar el modelo.\n",
      "\n",
      "Scores for the Columns/Subject: PUNT_MATEMATICAS\n",
      "Score LR: 8.884536448102146\n",
      "Score DT: 9.747441405491307\n",
      "DATA ERROR... Random Forest: No se pudo entrenar el modelo.\n",
      "\n",
      "Scores for the Columns/Subject: PUNT_PROFUNDIZACION\n",
      "Score LR: 1.05404221815777\n",
      "Score DT: 1.0451747450008\n",
      "DATA ERROR... Random Forest: No se pudo entrenar el modelo.\n",
      "\n",
      "Scores for the Columns/Subject: PUNT_LENGUAJE\n",
      "Score LR: 7.043510437114075\n",
      "Score DT: 8.878063249780713\n",
      "DATA ERROR... Random Forest: No se pudo entrenar el modelo.\n",
      "\n"
     ]
    }
   ],
   "source": [
    "vs_2006_1 = Test_all_Subjects(data_2005_2, data_2006_1)"
   ]
  },
  {
   "cell_type": "code",
   "execution_count": 15,
   "metadata": {
    "collapsed": false,
    "scrolled": true
   },
   "outputs": [
    {
     "name": "stdout",
     "output_type": "stream",
     "text": [
      "Scores for the Columns/Subject: PUNT_QUIMICA\n",
      "Score LR: 713504.7443355382\n",
      "Score DT: 5.196432234393092\n",
      "DATA ERROR... Random Forest: No se pudo entrenar el modelo.\n",
      "\n",
      "Scores for the Columns/Subject: PUNT_IDIOMA\n",
      "Score LR: 1551830.1750238463\n",
      "Score DT: 10.850858301761075\n",
      "DATA ERROR... Random Forest: No se pudo entrenar el modelo.\n",
      "\n",
      "Scores for the Columns/Subject: PUNT_BIOLOGIA\n",
      "Score LR: 971734.2434214749\n",
      "Score DT: 6.707082634107224\n",
      "DATA ERROR... Random Forest: No se pudo entrenar el modelo.\n",
      "\n",
      "Scores for the Columns/Subject: PUNT_FILOSOFIA\n",
      "Score LR: 763625.6981211979\n",
      "Score DT: 6.836634219599396\n",
      "DATA ERROR... Random Forest: No se pudo entrenar el modelo.\n",
      "\n",
      "Scores for the Columns/Subject: PUNT_FISICA\n",
      "Score LR: 630638.0998675858\n",
      "Score DT: 7.039333707165641\n",
      "DATA ERROR... Random Forest: No se pudo entrenar el modelo.\n",
      "\n",
      "Scores for the Columns/Subject: ESTU_PUESTO\n",
      "Score LR: 41402014.71219757\n",
      "Score DT: 258.41653065459644\n",
      "DATA ERROR... Random Forest: No se pudo entrenar el modelo.\n",
      "\n",
      "Scores for the Columns/Subject: PUNT_C_SOCIALES\n",
      "Score LR: 532960.6375762058\n",
      "Score DT: 6.8653972820811715\n",
      "DATA ERROR... Random Forest: No se pudo entrenar el modelo.\n",
      "\n",
      "Scores for the Columns/Subject: PUNT_INTERDISCIPLINAR\n",
      "Score LR: 431233.97683577146\n",
      "Score DT: 6.052822460447289\n",
      "DATA ERROR... Random Forest: No se pudo entrenar el modelo.\n",
      "\n",
      "Scores for the Columns/Subject: PUNT_MATEMATICAS\n",
      "Score LR: 1108169.6073326222\n",
      "Score DT: 11.575952598932858\n",
      "DATA ERROR... Random Forest: No se pudo entrenar el modelo.\n",
      "\n",
      "Scores for the Columns/Subject: PUNT_PROFUNDIZACION\n",
      "Score LR: 87645.90127254461\n",
      "Score DT: 0.8742781405193145\n",
      "DATA ERROR... Random Forest: No se pudo entrenar el modelo.\n",
      "\n",
      "Scores for the Columns/Subject: PUNT_LENGUAJE\n",
      "Score LR: 889605.574478275\n",
      "Score DT: 5.742499756919674\n",
      "DATA ERROR... Random Forest: No se pudo entrenar el modelo.\n",
      "\n"
     ]
    }
   ],
   "source": [
    "vs_2006_2 = Test_all_Subjects(data_2006_1, data_2006_2)"
   ]
  },
  {
   "cell_type": "code",
   "execution_count": 16,
   "metadata": {
    "collapsed": false,
    "scrolled": true
   },
   "outputs": [
    {
     "name": "stdout",
     "output_type": "stream",
     "text": [
      "Scores for the Columns/Subject: PUNT_QUIMICA\n",
      "Score LR: 5.84742751212727\n",
      "Score DT: 5.543882279090292\n",
      "DATA ERROR... Random Forest: No se pudo entrenar el modelo.\n",
      "\n",
      "Scores for the Columns/Subject: PUNT_BIOLOGIA\n",
      "Score LR: 5.588056015903923\n",
      "Score DT: 5.572271687147442\n",
      "DATA ERROR... Random Forest: No se pudo entrenar el modelo.\n",
      "\n",
      "Scores for the Columns/Subject: PUNT_FILOSOFIA\n",
      "Score LR: 6.71206020255401\n",
      "Score DT: 6.256688163803457\n",
      "DATA ERROR... Random Forest: No se pudo entrenar el modelo.\n",
      "\n",
      "Scores for the Columns/Subject: PUNT_FISICA\n",
      "Score LR: 5.725402152995523\n",
      "Score DT: 5.597352755311028\n",
      "DATA ERROR... Random Forest: No se pudo entrenar el modelo.\n",
      "\n",
      "Scores for the Columns/Subject: ESTU_PUESTO\n",
      "Score LR: 248.0642587588536\n",
      "Score DT: 251.19839961650916\n",
      "DATA ERROR... Random Forest: No se pudo entrenar el modelo.\n",
      "\n",
      "Scores for the Columns/Subject: PUNT_C_SOCIALES\n",
      "Score LR: 7.313376369053439\n",
      "Score DT: 7.735288913030835\n",
      "DATA ERROR... Random Forest: No se pudo entrenar el modelo.\n",
      "\n",
      "Scores for the Columns/Subject: PUNT_INTERDISCIPLINAR\n",
      "Score LR: 6.014766111548226\n",
      "Score DT: 6.008339752945376\n",
      "DATA ERROR... Random Forest: No se pudo entrenar el modelo.\n",
      "\n",
      "Scores for the Columns/Subject: PUNT_MATEMATICAS\n",
      "Score LR: 7.413007614831659\n",
      "Score DT: 7.400360951327272\n",
      "DATA ERROR... Random Forest: No se pudo entrenar el modelo.\n",
      "\n",
      "Scores for the Columns/Subject: PUNT_PROFUNDIZACION\n",
      "Score LR: 0.7298418247882464\n",
      "Score DT: 0.740392312492459\n",
      "DATA ERROR... Random Forest: No se pudo entrenar el modelo.\n",
      "\n",
      "Scores for the Columns/Subject: PUNT_LENGUAJE\n",
      "Score LR: 5.865519920994175\n",
      "Score DT: 6.265061753911972\n",
      "DATA ERROR... Random Forest: No se pudo entrenar el modelo.\n",
      "\n"
     ]
    }
   ],
   "source": [
    "vs_2007_1 = Test_all_Subjects(data_2006_2, data_2007_1)"
   ]
  },
  {
   "cell_type": "code",
   "execution_count": 17,
   "metadata": {
    "collapsed": false,
    "scrolled": true
   },
   "outputs": [
    {
     "name": "stdout",
     "output_type": "stream",
     "text": [
      "Scores for the Columns/Subject: PUNT_QUIMICA\n",
      "Score LR: 1031891.1092964459\n",
      "Score DT: 5.111734941997197\n",
      "DATA ERROR... Random Forest: No se pudo entrenar el modelo.\n",
      "\n",
      "Scores for the Columns/Subject: PUNT_BIOLOGIA\n",
      "Score LR: 1103299.4343893167\n",
      "Score DT: 5.918082955369131\n",
      "DATA ERROR... Random Forest: No se pudo entrenar el modelo.\n",
      "\n",
      "Scores for the Columns/Subject: PUNT_FILOSOFIA\n",
      "Score LR: 956359.6577025501\n",
      "Score DT: 5.743950065473575\n",
      "DATA ERROR... Random Forest: No se pudo entrenar el modelo.\n",
      "\n",
      "Scores for the Columns/Subject: PUNT_FISICA\n",
      "Score LR: 570607.1287148432\n",
      "Score DT: 5.967018765789161\n",
      "DATA ERROR... Random Forest: No se pudo entrenar el modelo.\n",
      "\n",
      "Scores for the Columns/Subject: ESTU_PUESTO\n",
      "Score LR: 58602682.204636425\n",
      "Score DT: 250.07796951930354\n",
      "DATA ERROR... Random Forest: No se pudo entrenar el modelo.\n",
      "\n",
      "Scores for the Columns/Subject: PUNT_C_SOCIALES\n",
      "Score LR: 1370592.4833326095\n",
      "Score DT: 8.333826440372976\n",
      "DATA ERROR... Random Forest: No se pudo entrenar el modelo.\n",
      "\n",
      "Scores for the Columns/Subject: PUNT_INGLES\n",
      "Score LR: 1638197.2696682431\n",
      "Score DT: 7.231370880389213\n",
      "DATA ERROR... Random Forest: No se pudo entrenar el modelo.\n",
      "\n",
      "Scores for the Columns/Subject: PUNT_INTERDISCIPLINAR\n",
      "Score LR: 745522.8230611538\n",
      "Score DT: 6.932054087296847\n",
      "DATA ERROR... Random Forest: No se pudo entrenar el modelo.\n",
      "\n",
      "Scores for the Columns/Subject: PUNT_MATEMATICAS\n",
      "Score LR: 1554664.2573796127\n",
      "Score DT: 7.731415690118877\n",
      "DATA ERROR... Random Forest: No se pudo entrenar el modelo.\n",
      "\n",
      "Scores for the Columns/Subject: PUNT_PROFUNDIZACION\n",
      "Score LR: 127461.91477489403\n",
      "Score DT: 0.7211825502667351\n",
      "DATA ERROR... Random Forest: No se pudo entrenar el modelo.\n",
      "\n",
      "Scores for the Columns/Subject: PUNT_LENGUAJE\n",
      "Score LR: 1045285.0376331421\n",
      "Score DT: 6.82661276990976\n",
      "DATA ERROR... Random Forest: No se pudo entrenar el modelo.\n",
      "\n"
     ]
    }
   ],
   "source": [
    "vs_2007_2 = Test_all_Subjects(data_2007_1, data_2007_2)"
   ]
  },
  {
   "cell_type": "code",
   "execution_count": 18,
   "metadata": {
    "collapsed": false,
    "scrolled": true
   },
   "outputs": [
    {
     "name": "stdout",
     "output_type": "stream",
     "text": [
      "Scores for the Columns/Subject: PUNT_QUIMICA\n",
      "Score LR: 5.999644897678682\n",
      "Score DT: 5.738999198726137\n",
      "DATA ERROR... Random Forest: No se pudo entrenar el modelo.\n",
      "\n",
      "Scores for the Columns/Subject: PUNT_BIOLOGIA\n",
      "Score LR: 5.879277044789649\n",
      "Score DT: 5.750554337162034\n",
      "DATA ERROR... Random Forest: No se pudo entrenar el modelo.\n",
      "\n",
      "Scores for the Columns/Subject: PUNT_FILOSOFIA\n",
      "Score LR: 7.915906170986783\n",
      "Score DT: 8.126840211929306\n",
      "DATA ERROR... Random Forest: No se pudo entrenar el modelo.\n",
      "\n",
      "Scores for the Columns/Subject: PUNT_FISICA\n",
      "Score LR: 6.327386269620595\n",
      "Score DT: 6.2709052820516336\n",
      "DATA ERROR... Random Forest: No se pudo entrenar el modelo.\n",
      "\n",
      "Scores for the Columns/Subject: ESTU_PUESTO\n",
      "Score LR: 247.6712605064301\n",
      "Score DT: 243.85279426039062\n",
      "DATA ERROR... Random Forest: No se pudo entrenar el modelo.\n",
      "\n",
      "Scores for the Columns/Subject: PUNT_C_SOCIALES\n",
      "Score LR: 6.613017537664314\n",
      "Score DT: 7.1081577228644095\n",
      "DATA ERROR... Random Forest: No se pudo entrenar el modelo.\n",
      "\n",
      "Scores for the Columns/Subject: PUNT_INGLES\n",
      "Score LR: 9.066543310170832\n",
      "Score DT: 7.628198969219461\n",
      "DATA ERROR... Random Forest: No se pudo entrenar el modelo.\n",
      "\n",
      "Scores for the Columns/Subject: PUNT_INTERDISCIPLINAR\n",
      "Score LR: 6.909674321890256\n",
      "Score DT: 6.914744386296789\n",
      "DATA ERROR... Random Forest: No se pudo entrenar el modelo.\n",
      "\n",
      "Scores for the Columns/Subject: PUNT_MATEMATICAS\n",
      "Score LR: 9.195894326211672\n",
      "Score DT: 8.881024525716581\n",
      "DATA ERROR... Random Forest: No se pudo entrenar el modelo.\n",
      "\n",
      "Scores for the Columns/Subject: PUNT_PROFUNDIZACION\n",
      "Score LR: 0.6814776611703377\n",
      "Score DT: 0.6708140743427229\n",
      "DATA ERROR... Random Forest: No se pudo entrenar el modelo.\n",
      "\n",
      "Scores for the Columns/Subject: PUNT_LENGUAJE\n",
      "Score LR: 6.810802288950268\n",
      "Score DT: 7.190679885672396\n",
      "DATA ERROR... Random Forest: No se pudo entrenar el modelo.\n",
      "\n"
     ]
    }
   ],
   "source": [
    "vs_2008_1 = Test_all_Subjects(data_2007_2, data_2008_1)"
   ]
  },
  {
   "cell_type": "code",
   "execution_count": 19,
   "metadata": {
    "collapsed": false,
    "scrolled": true
   },
   "outputs": [
    {
     "name": "stdout",
     "output_type": "stream",
     "text": [
      "Scores for the Columns/Subject: PUNT_QUIMICA\n",
      "Score LR: 1399932.957056192\n",
      "Score DT: 5.569827045688237\n",
      "DATA ERROR... Random Forest: No se pudo entrenar el modelo.\n",
      "\n",
      "Scores for the Columns/Subject: PUNT_BIOLOGIA\n",
      "Score LR: 1142906.6371582642\n",
      "Score DT: 5.699380708882372\n",
      "DATA ERROR... Random Forest: No se pudo entrenar el modelo.\n",
      "\n",
      "Scores for the Columns/Subject: PUNT_FILOSOFIA\n",
      "Score LR: 1464720.5699021032\n",
      "Score DT: 5.766437607747333\n",
      "DATA ERROR... Random Forest: No se pudo entrenar el modelo.\n",
      "\n",
      "Scores for the Columns/Subject: PUNT_FISICA\n",
      "Score LR: 932015.6053998781\n",
      "Score DT: 6.1924366984861114\n",
      "DATA ERROR... Random Forest: No se pudo entrenar el modelo.\n",
      "\n",
      "Scores for the Columns/Subject: ESTU_PUESTO\n",
      "Score LR: 60968703.773733534\n",
      "Score DT: 247.91336750766607\n",
      "DATA ERROR... Random Forest: No se pudo entrenar el modelo.\n",
      "\n",
      "Scores for the Columns/Subject: PUNT_C_SOCIALES\n",
      "Score LR: 1217710.0771684682\n",
      "Score DT: 6.92276446781025\n",
      "DATA ERROR... Random Forest: No se pudo entrenar el modelo.\n",
      "\n",
      "Scores for the Columns/Subject: PUNT_INGLES\n",
      "Score LR: 2197127.945208028\n",
      "Score DT: 8.209611334253466\n",
      "DATA ERROR... Random Forest: No se pudo entrenar el modelo.\n",
      "\n",
      "Scores for the Columns/Subject: PUNT_INTERDISCIPLINAR\n",
      "Score LR: 860759.0490357486\n",
      "Score DT: 6.624270615664078\n",
      "DATA ERROR... Random Forest: No se pudo entrenar el modelo.\n",
      "\n",
      "Scores for the Columns/Subject: PUNT_MATEMATICAS\n",
      "Score LR: 2264556.1151255625\n",
      "Score DT: 7.352140283193625\n",
      "DATA ERROR... Random Forest: No se pudo entrenar el modelo.\n",
      "\n",
      "Scores for the Columns/Subject: PUNT_PROFUNDIZACION\n",
      "Score LR: 89036.03383755151\n",
      "Score DT: 0.9297900104659098\n",
      "DATA ERROR... Random Forest: No se pudo entrenar el modelo.\n",
      "\n",
      "Scores for the Columns/Subject: PUNT_LENGUAJE\n",
      "Score LR: 1347358.559053115\n",
      "Score DT: 6.579356136655873\n",
      "DATA ERROR... Random Forest: No se pudo entrenar el modelo.\n",
      "\n"
     ]
    }
   ],
   "source": [
    "vs_2008_2 = Test_all_Subjects(data_2008_1, data_2008_2)"
   ]
  },
  {
   "cell_type": "code",
   "execution_count": 20,
   "metadata": {
    "collapsed": false,
    "scrolled": true
   },
   "outputs": [
    {
     "name": "stdout",
     "output_type": "stream",
     "text": [
      "Scores for the Columns/Subject: PUNT_QUIMICA\n",
      "Score LR: 5.640386276897\n",
      "Score DT: 5.530145040574949\n",
      "DATA ERROR... Random Forest: No se pudo entrenar el modelo.\n",
      "\n",
      "Scores for the Columns/Subject: PUNT_BIOLOGIA\n",
      "Score LR: 6.978737013006004\n",
      "Score DT: 6.700956694888142\n",
      "DATA ERROR... Random Forest: No se pudo entrenar el modelo.\n",
      "\n",
      "Scores for the Columns/Subject: PUNT_FILOSOFIA\n",
      "Score LR: 6.661225524988027\n",
      "Score DT: 6.89226679483342\n",
      "DATA ERROR... Random Forest: No se pudo entrenar el modelo.\n",
      "\n",
      "Scores for the Columns/Subject: PUNT_FISICA\n",
      "Score LR: 6.186640951745208\n",
      "Score DT: 6.151414540527654\n",
      "DATA ERROR... Random Forest: No se pudo entrenar el modelo.\n",
      "\n",
      "Scores for the Columns/Subject: ESTU_PUESTO\n",
      "Score LR: 242.96192995490057\n",
      "Score DT: 244.8901226293043\n",
      "DATA ERROR... Random Forest: No se pudo entrenar el modelo.\n",
      "\n",
      "Scores for the Columns/Subject: PUNT_C_SOCIALES\n",
      "Score LR: 6.7805386763550555\n",
      "Score DT: 6.475594022544781\n",
      "DATA ERROR... Random Forest: No se pudo entrenar el modelo.\n",
      "\n",
      "Scores for the Columns/Subject: PUNT_INGLES\n",
      "Score LR: 8.738414000291558\n",
      "Score DT: 8.42625237396096\n",
      "DATA ERROR... Random Forest: No se pudo entrenar el modelo.\n",
      "\n",
      "Scores for the Columns/Subject: PUNT_INTERDISCIPLINAR\n",
      "Score LR: 6.158007438722531\n",
      "Score DT: 6.107128674125392\n",
      "DATA ERROR... Random Forest: No se pudo entrenar el modelo.\n",
      "\n",
      "Scores for the Columns/Subject: PUNT_MATEMATICAS\n",
      "Score LR: 8.958380512828514\n",
      "Score DT: 8.972932819493563\n",
      "DATA ERROR... Random Forest: No se pudo entrenar el modelo.\n",
      "\n",
      "Scores for the Columns/Subject: PUNT_PROFUNDIZACION\n",
      "Score LR: 0.7486300599397075\n",
      "Score DT: 0.7351579888217473\n",
      "DATA ERROR... Random Forest: No se pudo entrenar el modelo.\n",
      "\n",
      "Scores for the Columns/Subject: PUNT_LENGUAJE\n",
      "Score LR: 7.207833287991946\n",
      "Score DT: 7.693834989434162\n",
      "DATA ERROR... Random Forest: No se pudo entrenar el modelo.\n",
      "\n"
     ]
    }
   ],
   "source": [
    "vs_2009_1 = Test_all_Subjects(data_2008_2, data_2009_1)"
   ]
  },
  {
   "cell_type": "code",
   "execution_count": 21,
   "metadata": {
    "collapsed": false,
    "scrolled": true
   },
   "outputs": [
    {
     "name": "stdout",
     "output_type": "stream",
     "text": [
      "Scores for the Columns/Subject: PUNT_QUIMICA\n",
      "Score LR: 1440101.5879643373\n",
      "Score DT: 5.402879418887082\n",
      "DATA ERROR... Random Forest: No se pudo entrenar el modelo.\n",
      "\n",
      "Scores for the Columns/Subject: PUNT_BIOLOGIA\n",
      "Score LR: 1500654.032882066\n",
      "Score DT: 5.449227295211524\n",
      "DATA ERROR... Random Forest: No se pudo entrenar el modelo.\n",
      "\n",
      "Scores for the Columns/Subject: PUNT_FILOSOFIA\n",
      "Score LR: 924612.7941009422\n",
      "Score DT: 7.229868863533831\n",
      "DATA ERROR... Random Forest: No se pudo entrenar el modelo.\n",
      "\n",
      "Scores for the Columns/Subject: PUNT_FISICA\n",
      "Score LR: 854129.1073471617\n",
      "Score DT: 6.084716923780608\n",
      "DATA ERROR... Random Forest: No se pudo entrenar el modelo.\n",
      "\n",
      "Scores for the Columns/Subject: ESTU_PUESTO\n",
      "Score LR: 65201866.725626156\n",
      "Score DT: 262.55262012460446\n",
      "DATA ERROR... Random Forest: No se pudo entrenar el modelo.\n",
      "\n",
      "Scores for the Columns/Subject: PUNT_C_SOCIALES\n",
      "Score LR: 1234757.461545556\n",
      "Score DT: 7.0312794044159785\n",
      "DATA ERROR... Random Forest: No se pudo entrenar el modelo.\n",
      "\n",
      "Scores for the Columns/Subject: PUNT_INGLES\n",
      "Score LR: 2456213.0389280785\n",
      "Score DT: 8.448546261345255\n",
      "DATA ERROR... Random Forest: No se pudo entrenar el modelo.\n",
      "\n",
      "Scores for the Columns/Subject: PUNT_INTERDISCIPLINAR\n",
      "Score LR: 842099.3315505711\n",
      "Score DT: 6.071481571647941\n",
      "DATA ERROR... Random Forest: No se pudo entrenar el modelo.\n",
      "\n",
      "Scores for the Columns/Subject: PUNT_MATEMATICAS\n",
      "Score LR: 2465417.37978394\n",
      "Score DT: 8.912792257772495\n",
      "DATA ERROR... Random Forest: No se pudo entrenar el modelo.\n",
      "\n",
      "Scores for the Columns/Subject: PUNT_PROFUNDIZACION\n",
      "Score LR: 128433.90541443111\n",
      "Score DT: 0.7152411664851692\n",
      "DATA ERROR... Random Forest: No se pudo entrenar el modelo.\n",
      "\n",
      "Scores for the Columns/Subject: PUNT_LENGUAJE\n",
      "Score LR: 1470645.7500375614\n",
      "Score DT: 6.051321434566031\n",
      "DATA ERROR... Random Forest: No se pudo entrenar el modelo.\n",
      "\n"
     ]
    }
   ],
   "source": [
    "vs_2009_2 = Test_all_Subjects(data_2009_1, data_2009_2)"
   ]
  },
  {
   "cell_type": "code",
   "execution_count": 25,
   "metadata": {
    "collapsed": false,
    "scrolled": true
   },
   "outputs": [
    {
     "name": "stdout",
     "output_type": "stream",
     "text": [
      "Scores for the Columns/Subject: PUNT_QUIMICA\n",
      "Score LR: 7.096910035994416\n",
      "Score DT: 7.202798907554952\n",
      "DATA ERROR... Random Forest: No se pudo entrenar el modelo.\n",
      "\n",
      "Scores for the Columns/Subject: PUNT_BIOLOGIA\n",
      "Score LR: 6.264138895166672\n",
      "Score DT: 6.285010357197239\n",
      "DATA ERROR... Random Forest: No se pudo entrenar el modelo.\n",
      "\n",
      "Scores for the Columns/Subject: PUNT_FILOSOFIA\n",
      "Score LR: 8.50137464596678\n",
      "Score DT: 8.849149410321331\n",
      "DATA ERROR... Random Forest: No se pudo entrenar el modelo.\n",
      "\n",
      "Scores for the Columns/Subject: PUNT_FISICA\n",
      "Score LR: 7.72570219206367\n",
      "Score DT: 7.773650775674139\n",
      "DATA ERROR... Random Forest: No se pudo entrenar el modelo.\n",
      "\n",
      "Scores for the Columns/Subject: ESTU_PUESTO\n",
      "Score LR: 288.24842864303616\n",
      "Score DT: 294.8287886037313\n",
      "DATA ERROR... Random Forest: No se pudo entrenar el modelo.\n",
      "\n",
      "Scores for the Columns/Subject: PUNT_C_SOCIALES\n",
      "Score LR: 7.258631435455003\n",
      "Score DT: 7.355957900153139\n",
      "DATA ERROR... Random Forest: No se pudo entrenar el modelo.\n",
      "\n",
      "Scores for the Columns/Subject: PUNT_INGLES\n",
      "Score LR: 12.689825163869616\n",
      "Score DT: 12.809561191552918\n",
      "DATA ERROR... Random Forest: No se pudo entrenar el modelo.\n",
      "\n",
      "Scores for the Columns/Subject: PUNT_INTERDISCIPLINAR\n",
      "Score LR: 5.8077499540731505\n",
      "Score DT: 5.74630949569179\n",
      "DATA ERROR... Random Forest: No se pudo entrenar el modelo.\n",
      "\n",
      "Scores for the Columns/Subject: PUNT_MATEMATICAS\n",
      "Score LR: 8.698944054067649\n",
      "Score DT: 9.27906249539962\n",
      "DATA ERROR... Random Forest: No se pudo entrenar el modelo.\n",
      "\n",
      "Scores for the Columns/Subject: PUNT_PROFUNDIZACION\n",
      "Score LR: 0.7844676415968004\n",
      "Score DT: 0.7913242708489108\n",
      "DATA ERROR... Random Forest: No se pudo entrenar el modelo.\n",
      "\n",
      "Scores for the Columns/Subject: PUNT_LENGUAJE\n",
      "Score LR: 7.205522835010591\n",
      "Score DT: 7.534598233855967\n",
      "DATA ERROR... Random Forest: No se pudo entrenar el modelo.\n",
      "\n"
     ]
    }
   ],
   "source": [
    "vs_2010_1 = Test_all_Subjects(data_2009_2, data_2010_1)"
   ]
  },
  {
   "cell_type": "code",
   "execution_count": 26,
   "metadata": {
    "collapsed": false,
    "scrolled": true
   },
   "outputs": [
    {
     "name": "stdout",
     "output_type": "stream",
     "text": [
      "Scores for the Columns/Subject: PUNT_QUIMICA\n",
      "Score LR: 4522619.944599987\n",
      "Score DT: 9.409573147117934\n",
      "DATA ERROR... Random Forest: No se pudo entrenar el modelo.\n",
      "\n",
      "Scores for the Columns/Subject: PUNT_BIOLOGIA\n",
      "Score LR: 3458494.9084153553\n",
      "Score DT: 10.058787638682366\n",
      "DATA ERROR... Random Forest: No se pudo entrenar el modelo.\n",
      "\n",
      "Scores for the Columns/Subject: PUNT_FISICA\n",
      "Score LR: 4312604.424229212\n",
      "Score DT: 13.433248328161449\n",
      "DATA ERROR... Random Forest: No se pudo entrenar el modelo.\n",
      "\n",
      "Scores for the Columns/Subject: ESTU_PUESTO\n",
      "Score LR: 178171209.43688163\n",
      "Score DT: 296.6470195900459\n",
      "DATA ERROR... Random Forest: No se pudo entrenar el modelo.\n",
      "\n",
      "Scores for the Columns/Subject: PUNT_LENGUAJE\n",
      "Score LR: 3574182.511359329\n",
      "Score DT: 9.615667200709636\n",
      "DATA ERROR... Random Forest: No se pudo entrenar el modelo.\n",
      "\n",
      "Scores for the Columns/Subject: PUNT_C_SOCIALES\n",
      "Score LR: 3578356.450106049\n",
      "Score DT: 9.548045811011209\n",
      "DATA ERROR... Random Forest: No se pudo entrenar el modelo.\n",
      "\n",
      "Scores for the Columns/Subject: PUNT_INGLES\n",
      "Score LR: 9071521.997272328\n",
      "Score DT: 11.227040492316076\n",
      "DATA ERROR... Random Forest: No se pudo entrenar el modelo.\n",
      "\n",
      "Scores for the Columns/Subject: PUNT_MATEMATICAS\n",
      "Score LR: 5143365.321425834\n",
      "Score DT: 9.622046726793505\n",
      "DATA ERROR... Random Forest: No se pudo entrenar el modelo.\n",
      "\n",
      "Scores for the Columns/Subject: PUNT_FILOSOFIA\n",
      "Score LR: 3219392.8486056104\n",
      "Score DT: 13.855303286236811\n",
      "DATA ERROR... Random Forest: No se pudo entrenar el modelo.\n",
      "\n"
     ]
    }
   ],
   "source": [
    "vs_2010_2 = Test_all_Subjects(data_2010_1, data_2010_2)"
   ]
  },
  {
   "cell_type": "code",
   "execution_count": 27,
   "metadata": {
    "collapsed": false,
    "scrolled": true
   },
   "outputs": [
    {
     "name": "stdout",
     "output_type": "stream",
     "text": [
      "Scores for the Columns/Subject: PUNT_QUIMICA\n",
      "Score LR: 7.333533073888609\n",
      "Score DT: 6.709774874012046\n",
      "DATA ERROR... Random Forest: No se pudo entrenar el modelo.\n",
      "\n",
      "Scores for the Columns/Subject: PUNT_BIOLOGIA\n",
      "Score LR: 7.618820083443583\n",
      "Score DT: 7.238581652552536\n",
      "DATA ERROR... Random Forest: No se pudo entrenar el modelo.\n",
      "\n",
      "Scores for the Columns/Subject: PUNT_COMP_FLEXIBLE\n",
      "Score LR: 21.5466051468562\n",
      "Score DT: 12.572401652762517\n",
      "DATA ERROR... Random Forest: No se pudo entrenar el modelo.\n",
      "\n",
      "Scores for the Columns/Subject: PUNT_FISICA\n",
      "Score LR: 8.318293047873969\n",
      "Score DT: 7.85796225479482\n",
      "DATA ERROR... Random Forest: No se pudo entrenar el modelo.\n",
      "\n",
      "Scores for the Columns/Subject: ESTU_PUESTO\n",
      "Score LR: 255.64210483611015\n",
      "Score DT: 249.02003416811831\n",
      "DATA ERROR... Random Forest: No se pudo entrenar el modelo.\n",
      "\n",
      "Scores for the Columns/Subject: PUNT_LENGUAJE\n",
      "Score LR: 6.1272695271301725\n",
      "Score DT: 6.089830600418709\n",
      "DATA ERROR... Random Forest: No se pudo entrenar el modelo.\n",
      "\n",
      "Scores for the Columns/Subject: PUNT_C_SOCIALES\n",
      "Score LR: 8.444901784164692\n",
      "Score DT: 7.883055944490373\n",
      "DATA ERROR... Random Forest: No se pudo entrenar el modelo.\n",
      "\n",
      "Scores for the Columns/Subject: PUNT_INGLES\n",
      "Score LR: 11.46075973704842\n",
      "Score DT: 10.173051347637275\n",
      "DATA ERROR... Random Forest: No se pudo entrenar el modelo.\n",
      "\n",
      "Scores for the Columns/Subject: PUNT_MATEMATICAS\n",
      "Score LR: 10.192634476009985\n",
      "Score DT: 10.205777370809109\n",
      "DATA ERROR... Random Forest: No se pudo entrenar el modelo.\n",
      "\n",
      "Scores for the Columns/Subject: PUNT_FILOSOFIA\n",
      "Score LR: 9.415046162762533\n",
      "Score DT: 8.924611368603681\n",
      "DATA ERROR... Random Forest: No se pudo entrenar el modelo.\n",
      "\n"
     ]
    }
   ],
   "source": [
    "vs_2011_1 = Test_all_Subjects(data_2010_2, data_2011_1)"
   ]
  },
  {
   "cell_type": "code",
   "execution_count": 28,
   "metadata": {
    "collapsed": false,
    "scrolled": true
   },
   "outputs": [
    {
     "name": "stdout",
     "output_type": "stream",
     "text": [
      "Scores for the Columns/Subject: PUNT_QUIMICA\n",
      "Score LR: 404166.2058506161\n",
      "Score DT: 6.80272220599881\n",
      "DATA ERROR... Random Forest: No se pudo entrenar el modelo.\n",
      "\n",
      "Scores for the Columns/Subject: PUNT_BIOLOGIA\n",
      "Score LR: 390634.4351649551\n",
      "Score DT: 8.827626227292814\n",
      "DATA ERROR... Random Forest: No se pudo entrenar el modelo.\n",
      "\n",
      "Scores for the Columns/Subject: PUNT_COMP_FLEXIBLE\n",
      "Score LR: 300306.16084729374\n",
      "Score DT: 22.120149725569803\n",
      "DATA ERROR... Random Forest: No se pudo entrenar el modelo.\n",
      "\n",
      "Scores for the Columns/Subject: PUNT_FISICA\n",
      "Score LR: 402396.23920668184\n",
      "Score DT: 8.176438532728817\n",
      "DATA ERROR... Random Forest: No se pudo entrenar el modelo.\n",
      "\n",
      "Scores for the Columns/Subject: ESTU_PUESTO\n",
      "Score LR: 16380036.097771067\n",
      "Score DT: 267.82187515769226\n",
      "DATA ERROR... Random Forest: No se pudo entrenar el modelo.\n",
      "\n",
      "Scores for the Columns/Subject: PUNT_LENGUAJE\n",
      "Score LR: 323970.7388908434\n",
      "Score DT: 9.434187433427208\n",
      "DATA ERROR... Random Forest: No se pudo entrenar el modelo.\n",
      "\n",
      "Scores for the Columns/Subject: PUNT_C_SOCIALES\n",
      "Score LR: 431501.1173446337\n",
      "Score DT: 8.907812495775746\n",
      "DATA ERROR... Random Forest: No se pudo entrenar el modelo.\n",
      "\n",
      "Scores for the Columns/Subject: PUNT_INGLES\n",
      "Score LR: 685911.0152538525\n",
      "Score DT: 11.34664829793431\n",
      "DATA ERROR... Random Forest: No se pudo entrenar el modelo.\n",
      "\n",
      "Scores for the Columns/Subject: PUNT_MATEMATICAS\n",
      "Score LR: 675436.6748778895\n",
      "Score DT: 11.154846335500302\n",
      "DATA ERROR... Random Forest: No se pudo entrenar el modelo.\n",
      "\n",
      "Scores for the Columns/Subject: PUNT_FILOSOFIA\n",
      "Score LR: 328767.45288173074\n",
      "Score DT: 10.408068295998154\n",
      "DATA ERROR... Random Forest: No se pudo entrenar el modelo.\n",
      "\n"
     ]
    }
   ],
   "source": [
    "vs_2011_2 = Test_all_Subjects(data_2011_1, data_2011_2)"
   ]
  },
  {
   "cell_type": "code",
   "execution_count": 29,
   "metadata": {
    "collapsed": false,
    "scrolled": true
   },
   "outputs": [
    {
     "name": "stdout",
     "output_type": "stream",
     "text": [
      "Scores for the Columns/Subject: PUNT_QUIMICA\n",
      "Score LR: 6.785193425215182\n",
      "Score DT: 6.664094682177225\n",
      "DATA ERROR... Random Forest: No se pudo entrenar el modelo.\n",
      "\n",
      "Scores for the Columns/Subject: PUNT_BIOLOGIA\n",
      "Score LR: 8.134994515265939\n",
      "Score DT: 7.8411155183327725\n",
      "DATA ERROR... Random Forest: No se pudo entrenar el modelo.\n",
      "\n",
      "Scores for the Columns/Subject: PUNT_COMP_FLEXIBLE\n",
      "Score LR: 21.284608121668576\n",
      "Score DT: 22.696844577262528\n",
      "DATA ERROR... Random Forest: No se pudo entrenar el modelo.\n",
      "\n",
      "Scores for the Columns/Subject: PUNT_FISICA\n",
      "Score LR: 9.660347092774126\n",
      "Score DT: 9.552104000291786\n",
      "DATA ERROR... Random Forest: No se pudo entrenar el modelo.\n",
      "\n",
      "Scores for the Columns/Subject: ESTU_PUESTO\n",
      "Score LR: 279.6721369012929\n",
      "Score DT: 263.36636506426663\n",
      "DATA ERROR... Random Forest: No se pudo entrenar el modelo.\n",
      "\n",
      "Scores for the Columns/Subject: PUNT_LENGUAJE\n",
      "Score LR: 8.192434826624131\n",
      "Score DT: 8.029902180326884\n",
      "DATA ERROR... Random Forest: No se pudo entrenar el modelo.\n",
      "\n",
      "Scores for the Columns/Subject: PUNT_C_SOCIALES\n",
      "Score LR: 7.110296109664996\n",
      "Score DT: 6.774996740394435\n",
      "DATA ERROR... Random Forest: No se pudo entrenar el modelo.\n",
      "\n",
      "Scores for the Columns/Subject: PUNT_INGLES\n",
      "Score LR: 11.105628645656312\n",
      "Score DT: 10.349127950946514\n",
      "DATA ERROR... Random Forest: No se pudo entrenar el modelo.\n",
      "\n",
      "Scores for the Columns/Subject: PUNT_MATEMATICAS\n",
      "Score LR: 9.516595459534042\n",
      "Score DT: 9.310773437709214\n",
      "DATA ERROR... Random Forest: No se pudo entrenar el modelo.\n",
      "\n",
      "Scores for the Columns/Subject: PUNT_FILOSOFIA\n",
      "Score LR: 8.825137248862287\n",
      "Score DT: 8.432004189562615\n",
      "DATA ERROR... Random Forest: No se pudo entrenar el modelo.\n",
      "\n"
     ]
    }
   ],
   "source": [
    "vs_2012_1 = Test_all_Subjects(data_2011_2, data_2012_1)"
   ]
  },
  {
   "cell_type": "code",
   "execution_count": 30,
   "metadata": {
    "collapsed": false,
    "scrolled": true
   },
   "outputs": [
    {
     "name": "stdout",
     "output_type": "stream",
     "text": [
      "Scores for the Columns/Subject: PUNT_QUIMICA\n",
      "Score LR: 6.368562427621214\n",
      "Score DT: 5.624765618115812\n",
      "DATA ERROR... Random Forest: No se pudo entrenar el modelo.\n",
      "\n",
      "Scores for the Columns/Subject: PUNT_BIOLOGIA\n",
      "Score LR: 6.869224411149113\n",
      "Score DT: 6.395077749719784\n",
      "DATA ERROR... Random Forest: No se pudo entrenar el modelo.\n",
      "\n",
      "Scores for the Columns/Subject: PUNT_COMP_FLEXIBLE\n",
      "Score LR: 21.80432846810798\n",
      "Score DT: 24.540664469010437\n",
      "DATA ERROR... Random Forest: No se pudo entrenar el modelo.\n",
      "\n",
      "Scores for the Columns/Subject: PUNT_FISICA\n",
      "Score LR: 7.597145410275389\n",
      "Score DT: 6.691585910350787\n",
      "DATA ERROR... Random Forest: No se pudo entrenar el modelo.\n",
      "\n",
      "Scores for the Columns/Subject: ESTU_PUESTO\n",
      "Score LR: 277.39364010537395\n",
      "Score DT: 271.8509308575862\n",
      "DATA ERROR... Random Forest: No se pudo entrenar el modelo.\n",
      "\n",
      "Scores for the Columns/Subject: PUNT_LENGUAJE\n",
      "Score LR: 7.509203143747503\n",
      "Score DT: 7.078976120323504\n",
      "DATA ERROR... Random Forest: No se pudo entrenar el modelo.\n",
      "\n",
      "Scores for the Columns/Subject: PUNT_C_SOCIALES\n",
      "Score LR: 7.755976736316708\n",
      "Score DT: 7.42526380149054\n",
      "DATA ERROR... Random Forest: No se pudo entrenar el modelo.\n",
      "\n",
      "Scores for the Columns/Subject: PUNT_INGLES\n",
      "Score LR: 11.22291227015664\n",
      "Score DT: 8.72471769256901\n",
      "DATA ERROR... Random Forest: No se pudo entrenar el modelo.\n",
      "\n",
      "Scores for the Columns/Subject: PUNT_MATEMATICAS\n",
      "Score LR: 10.459702762464135\n",
      "Score DT: 9.552737997988139\n",
      "DATA ERROR... Random Forest: No se pudo entrenar el modelo.\n",
      "\n",
      "Scores for the Columns/Subject: PUNT_FILOSOFIA\n",
      "Score LR: 7.792642907658961\n",
      "Score DT: 7.63576094346366\n",
      "DATA ERROR... Random Forest: No se pudo entrenar el modelo.\n",
      "\n"
     ]
    }
   ],
   "source": [
    "vs_2012_2 = Test_all_Subjects(data_2012_1, data_2012_2)"
   ]
  },
  {
   "cell_type": "code",
   "execution_count": 31,
   "metadata": {
    "collapsed": false,
    "scrolled": true
   },
   "outputs": [
    {
     "name": "stdout",
     "output_type": "stream",
     "text": [
      "Scores for the Columns/Subject: PUNT_QUIMICA\n",
      "Score LR: 7.749320006705033\n",
      "Score DT: 7.746488857563685\n",
      "DATA ERROR... Random Forest: No se pudo entrenar el modelo.\n",
      "\n",
      "Scores for the Columns/Subject: PUNT_BIOLOGIA\n",
      "Score LR: 5.9476937079417675\n",
      "Score DT: 6.172759137985826\n",
      "DATA ERROR... Random Forest: No se pudo entrenar el modelo.\n",
      "\n",
      "Scores for the Columns/Subject: PUNT_COMP_FLEXIBLE\n",
      "Score LR: 21.285933802587518\n",
      "Score DT: 22.473408724683157\n",
      "DATA ERROR... Random Forest: No se pudo entrenar el modelo.\n",
      "\n",
      "Scores for the Columns/Subject: PUNT_FISICA\n",
      "Score LR: 7.955881748268206\n",
      "Score DT: 8.021921871449374\n",
      "DATA ERROR... Random Forest: No se pudo entrenar el modelo.\n",
      "\n",
      "Scores for the Columns/Subject: ESTU_PUESTO\n",
      "Score LR: 246.66330048150684\n",
      "Score DT: 247.57325208664236\n",
      "DATA ERROR... Random Forest: No se pudo entrenar el modelo.\n",
      "\n",
      "Scores for the Columns/Subject: PUNT_LENGUAJE\n",
      "Score LR: 10.111057561143154\n",
      "Score DT: 10.240339740857895\n",
      "DATA ERROR... Random Forest: No se pudo entrenar el modelo.\n",
      "\n",
      "Scores for the Columns/Subject: PUNT_C_SOCIALES\n",
      "Score LR: 7.0112388230704425\n",
      "Score DT: 7.343979018080034\n",
      "DATA ERROR... Random Forest: No se pudo entrenar el modelo.\n",
      "\n",
      "Scores for the Columns/Subject: PUNT_INGLES\n",
      "Score LR: 11.450614065091592\n",
      "Score DT: 11.720723590045129\n",
      "DATA ERROR... Random Forest: No se pudo entrenar el modelo.\n",
      "\n",
      "Scores for the Columns/Subject: PUNT_MATEMATICAS\n",
      "Score LR: 11.60073276966675\n",
      "Score DT: 11.993207097219697\n",
      "DATA ERROR... Random Forest: No se pudo entrenar el modelo.\n",
      "\n",
      "Scores for the Columns/Subject: PUNT_FILOSOFIA\n",
      "Score LR: 9.19807977475485\n",
      "Score DT: 9.28768780270186\n",
      "DATA ERROR... Random Forest: No se pudo entrenar el modelo.\n",
      "\n"
     ]
    }
   ],
   "source": [
    "vs_2013_1 = Test_all_Subjects(data_2012_2, data_2013_1)"
   ]
  },
  {
   "cell_type": "code",
   "execution_count": 32,
   "metadata": {
    "collapsed": false,
    "scrolled": true
   },
   "outputs": [
    {
     "name": "stdout",
     "output_type": "stream",
     "text": [
      "Scores for the Columns/Subject: PUNT_QUIMICA\n",
      "Score LR: 9.01151599317255\n",
      "Score DT: 7.51282675616718\n",
      "DATA ERROR... Random Forest: No se pudo entrenar el modelo.\n",
      "\n",
      "Scores for the Columns/Subject: PUNT_BIOLOGIA\n",
      "Score LR: 7.664760547001822\n",
      "Score DT: 6.9813876204533845\n",
      "DATA ERROR... Random Forest: No se pudo entrenar el modelo.\n",
      "\n",
      "Scores for the Columns/Subject: PUNT_COMP_FLEXIBLE\n",
      "Score LR: 22.026616791455105\n",
      "Score DT: 21.12105622360927\n",
      "DATA ERROR... Random Forest: No se pudo entrenar el modelo.\n",
      "\n",
      "Scores for the Columns/Subject: PUNT_FISICA\n",
      "Score LR: 10.372845235675742\n",
      "Score DT: 9.49268726431846\n",
      "DATA ERROR... Random Forest: No se pudo entrenar el modelo.\n",
      "\n",
      "Scores for the Columns/Subject: ESTU_PUESTO\n",
      "Score LR: 292.80245757764493\n",
      "Score DT: 263.69702889335554\n",
      "DATA ERROR... Random Forest: No se pudo entrenar el modelo.\n",
      "\n",
      "Scores for the Columns/Subject: PUNT_LENGUAJE\n",
      "Score LR: 8.950083662904902\n",
      "Score DT: 7.375300060685747\n",
      "DATA ERROR... Random Forest: No se pudo entrenar el modelo.\n",
      "\n",
      "Scores for the Columns/Subject: PUNT_C_SOCIALES\n",
      "Score LR: 7.699049969917986\n",
      "Score DT: 7.02172352443091\n",
      "DATA ERROR... Random Forest: No se pudo entrenar el modelo.\n",
      "\n",
      "Scores for the Columns/Subject: PUNT_INGLES\n",
      "Score LR: 13.119394857536625\n",
      "Score DT: 11.877951846430895\n",
      "DATA ERROR... Random Forest: No se pudo entrenar el modelo.\n",
      "\n",
      "Scores for the Columns/Subject: PUNT_MATEMATICAS\n",
      "Score LR: 12.13228425013704\n",
      "Score DT: 9.85755784942811\n",
      "DATA ERROR... Random Forest: No se pudo entrenar el modelo.\n",
      "\n",
      "Scores for the Columns/Subject: PUNT_FILOSOFIA\n",
      "Score LR: 9.14747458610181\n",
      "Score DT: 7.911257149941412\n",
      "DATA ERROR... Random Forest: No se pudo entrenar el modelo.\n",
      "\n"
     ]
    }
   ],
   "source": [
    "vs_2013_2 = Test_all_Subjects(data_2013_1, data_2013_2)"
   ]
  },
  {
   "cell_type": "code",
   "execution_count": 33,
   "metadata": {
    "collapsed": false,
    "scrolled": true
   },
   "outputs": [
    {
     "name": "stdout",
     "output_type": "stream",
     "text": [
      "Scores for the Columns/Subject: PUNT_QUIMICA\n",
      "Score LR: 8.213318776751773\n",
      "Score DT: 7.981300864443285\n",
      "DATA ERROR... Random Forest: No se pudo entrenar el modelo.\n",
      "\n",
      "Scores for the Columns/Subject: PUNT_BIOLOGIA\n",
      "Score LR: 6.881194119215679\n",
      "Score DT: 6.810905188661674\n",
      "DATA ERROR... Random Forest: No se pudo entrenar el modelo.\n",
      "\n",
      "Scores for the Columns/Subject: PUNT_COMP_FLEXIBLE\n",
      "Score LR: 21.369426261862063\n",
      "Score DT: 20.80071270583722\n",
      "DATA ERROR... Random Forest: No se pudo entrenar el modelo.\n",
      "\n",
      "Scores for the Columns/Subject: PUNT_FISICA\n",
      "Score LR: 10.57455381537855\n",
      "Score DT: 10.329948397869764\n",
      "DATA ERROR... Random Forest: No se pudo entrenar el modelo.\n",
      "\n",
      "Scores for the Columns/Subject: ESTU_PUESTO\n",
      "Score LR: 266.4945153793201\n",
      "Score DT: 265.67481186658216\n",
      "DATA ERROR... Random Forest: No se pudo entrenar el modelo.\n",
      "\n",
      "Scores for the Columns/Subject: PUNT_LENGUAJE\n",
      "Score LR: 7.011306080984233\n",
      "Score DT: 6.992474054299282\n",
      "DATA ERROR... Random Forest: No se pudo entrenar el modelo.\n",
      "\n",
      "Scores for the Columns/Subject: PUNT_C_SOCIALES\n",
      "Score LR: 9.138980252382114\n",
      "Score DT: 8.967890569446764\n",
      "DATA ERROR... Random Forest: No se pudo entrenar el modelo.\n",
      "\n",
      "Scores for the Columns/Subject: PUNT_INGLES\n",
      "Score LR: 11.371071371961117\n",
      "Score DT: 10.705817262809683\n",
      "DATA ERROR... Random Forest: No se pudo entrenar el modelo.\n",
      "\n",
      "Scores for the Columns/Subject: PUNT_MATEMATICAS\n",
      "Score LR: 9.37640878330581\n",
      "Score DT: 9.374805155011593\n",
      "DATA ERROR... Random Forest: No se pudo entrenar el modelo.\n",
      "\n",
      "Scores for the Columns/Subject: PUNT_FILOSOFIA\n",
      "Score LR: 8.490196611066908\n",
      "Score DT: 8.409487108846172\n",
      "DATA ERROR... Random Forest: No se pudo entrenar el modelo.\n",
      "\n"
     ]
    }
   ],
   "source": [
    "vs_2014_1 = Test_all_Subjects(data_2013_2, data_2014_1)"
   ]
  },
  {
   "cell_type": "markdown",
   "metadata": {},
   "source": [
    "___"
   ]
  },
  {
   "cell_type": "markdown",
   "metadata": {},
   "source": [
    "___"
   ]
  },
  {
   "cell_type": "markdown",
   "metadata": {},
   "source": [
    "# Getting Final Datasets"
   ]
  },
  {
   "cell_type": "code",
   "execution_count": 34,
   "metadata": {
    "collapsed": true
   },
   "outputs": [],
   "source": [
    "def get_DF_T(DF):\n",
    "    columns = list(DF.T.loc['Subject'])\n",
    "    DFR = DF.T.filter(items=['DTR', 'LR', 'RFR'], axis=0)\n",
    "    DFR.columns = columns\n",
    "    return(DFR)"
   ]
  },
  {
   "cell_type": "code",
   "execution_count": 35,
   "metadata": {
    "collapsed": true
   },
   "outputs": [],
   "source": [
    "def get_serie(df, model, periodo):\n",
    "    new_df = get_DF_T(df)\n",
    "    serie = pd.Series(new_df.loc[model])\n",
    "    serie = serie.rename(periodo)\n",
    "    return(serie)"
   ]
  },
  {
   "cell_type": "markdown",
   "metadata": {},
   "source": [
    "## Getting final DF for Linear Regression"
   ]
  },
  {
   "cell_type": "code",
   "execution_count": 36,
   "metadata": {
    "collapsed": true
   },
   "outputs": [],
   "source": [
    "LR_vs_serie_2000_2 = get_serie(vs_2000_2, 'LR', '2000_2')\n",
    "\n",
    "LR_vs_serie_2001_1 = get_serie(vs_2001_1, 'LR', '2001_1')\n",
    "LR_vs_serie_2001_2 = get_serie(vs_2001_2, 'LR', '2001_2')\n",
    "\n",
    "LR_vs_serie_2002_1 = get_serie(vs_2002_1, 'LR', '2002_1')\n",
    "LR_vs_serie_2002_2 = get_serie(vs_2002_2, 'LR', '2002_2')\n",
    "\n",
    "LR_vs_serie_2003_1 = get_serie(vs_2003_1, 'LR', '2003_1')\n",
    "LR_vs_serie_2003_2 = get_serie(vs_2003_2, 'LR', '2003_2')\n",
    "\n",
    "LR_vs_serie_2004_1 = get_serie(vs_2004_1, 'LR', '2004_1')\n",
    "LR_vs_serie_2004_2 = get_serie(vs_2004_2, 'LR', '2004_2')\n",
    "\n",
    "LR_vs_serie_2005_1 = get_serie(vs_2005_1, 'LR', '2005_1')\n",
    "LR_vs_serie_2005_2 = get_serie(vs_2005_2, 'LR', '2005_2')\n",
    "\n",
    "LR_vs_serie_2006_1 = get_serie(vs_2006_1, 'LR', '2006_1')\n",
    "LR_vs_serie_2006_2 = get_serie(vs_2006_2, 'LR', '2006_2')\n",
    "\n",
    "LR_vs_serie_2007_1 = get_serie(vs_2007_1, 'LR', '2007_1')\n",
    "LR_vs_serie_2007_2 = get_serie(vs_2007_2, 'LR', '2007_2')\n",
    "\n",
    "LR_vs_serie_2008_1 = get_serie(vs_2008_1, 'LR', '2008_1')\n",
    "LR_vs_serie_2008_2 = get_serie(vs_2008_2, 'LR', '2008_2')\n",
    "\n",
    "LR_vs_serie_2009_1 = get_serie(vs_2009_1, 'LR', '2009_1')\n",
    "LR_vs_serie_2009_2 = get_serie(vs_2009_2, 'LR', '2009_2')\n",
    "\n",
    "LR_vs_serie_2010_1 = get_serie(vs_2010_1, 'LR', '2010_1')\n",
    "LR_vs_serie_2010_2 = get_serie(vs_2010_2, 'LR', '2010_2')\n",
    "\n",
    "LR_vs_serie_2011_1 = get_serie(vs_2011_1, 'LR', '2011_1')\n",
    "LR_vs_serie_2011_2 = get_serie(vs_2011_2, 'LR', '2011_2')\n",
    "\n",
    "LR_vs_serie_2012_1 = get_serie(vs_2012_1, 'LR', '2012_1')\n",
    "LR_vs_serie_2012_2 = get_serie(vs_2012_2, 'LR', '2012_2')\n",
    "\n",
    "LR_vs_serie_2013_1 = get_serie(vs_2013_1, 'LR', '2013_1')\n",
    "LR_vs_serie_2013_2 = get_serie(vs_2013_2, 'LR', '2013_2')\n",
    "\n",
    "LR_vs_serie_2014_1 = get_serie(vs_2014_1, 'LR', '2014_1')"
   ]
  },
  {
   "cell_type": "code",
   "execution_count": 37,
   "metadata": {
    "collapsed": false
   },
   "outputs": [],
   "source": [
    "Final_LR_vs = pd.concat([LR_vs_serie_2000_2, LR_vs_serie_2001_1, LR_vs_serie_2001_2, LR_vs_serie_2002_1, LR_vs_serie_2002_2,\n",
    "                      LR_vs_serie_2003_1, LR_vs_serie_2003_2, LR_vs_serie_2004_1, LR_vs_serie_2004_2, LR_vs_serie_2005_1, LR_vs_serie_2005_2, \n",
    "                      LR_vs_serie_2006_1, LR_vs_serie_2006_2, LR_vs_serie_2007_1, LR_vs_serie_2007_2, LR_vs_serie_2008_1, LR_vs_serie_2008_2, \n",
    "                      LR_vs_serie_2009_1, LR_vs_serie_2009_2, LR_vs_serie_2010_1, LR_vs_serie_2010_2, LR_vs_serie_2011_1, LR_vs_serie_2011_2, \n",
    "                      LR_vs_serie_2012_1, LR_vs_serie_2012_2, LR_vs_serie_2013_1, LR_vs_serie_2013_2, LR_vs_serie_2014_1], axis=1)"
   ]
  },
  {
   "cell_type": "code",
   "execution_count": 38,
   "metadata": {
    "collapsed": false
   },
   "outputs": [],
   "source": [
    "Final_LR_vs = Final_LR_vs.T"
   ]
  },
  {
   "cell_type": "markdown",
   "metadata": {},
   "source": [
    "## Getting final DF for Descision Tree Regressor"
   ]
  },
  {
   "cell_type": "code",
   "execution_count": 39,
   "metadata": {
    "collapsed": true
   },
   "outputs": [],
   "source": [
    "DT_vs_serie_2000_2 = get_serie(vs_2000_2, 'DTR', '2000_2')\n",
    "\n",
    "DT_vs_serie_2001_1 = get_serie(vs_2001_1, 'DTR', '2001_1')\n",
    "DT_vs_serie_2001_2 = get_serie(vs_2001_2, 'DTR', '2001_2')\n",
    "\n",
    "DT_vs_serie_2002_1 = get_serie(vs_2002_1, 'DTR', '2002_1')\n",
    "DT_vs_serie_2002_2 = get_serie(vs_2002_2, 'DTR', '2002_2')\n",
    "\n",
    "DT_vs_serie_2003_1 = get_serie(vs_2003_1, 'DTR', '2003_1')\n",
    "DT_vs_serie_2003_2 = get_serie(vs_2003_2, 'DTR', '2003_2')\n",
    "\n",
    "DT_vs_serie_2004_1 = get_serie(vs_2004_1, 'DTR', '2004_1')\n",
    "DT_vs_serie_2004_2 = get_serie(vs_2004_2, 'DTR', '2004_2')\n",
    "\n",
    "DT_vs_serie_2005_1 = get_serie(vs_2005_1, 'DTR', '2005_1')\n",
    "DT_vs_serie_2005_2 = get_serie(vs_2005_2, 'DTR', '2005_2')\n",
    "\n",
    "DT_vs_serie_2006_1 = get_serie(vs_2006_1, 'DTR', '2006_1')\n",
    "DT_vs_serie_2006_2 = get_serie(vs_2006_2, 'DTR', '2006_2')\n",
    "\n",
    "DT_vs_serie_2007_1 = get_serie(vs_2007_1, 'DTR', '2007_1')\n",
    "DT_vs_serie_2007_2 = get_serie(vs_2007_2, 'DTR', '2007_2')\n",
    "\n",
    "DT_vs_serie_2008_1 = get_serie(vs_2008_1, 'DTR', '2008_1')\n",
    "DT_vs_serie_2008_2 = get_serie(vs_2008_2, 'DTR', '2008_2')\n",
    "\n",
    "DT_vs_serie_2009_1 = get_serie(vs_2009_1, 'DTR', '2009_1')\n",
    "DT_vs_serie_2009_2 = get_serie(vs_2009_2, 'DTR', '2009_2')\n",
    "\n",
    "DT_vs_serie_2010_1 = get_serie(vs_2010_1, 'DTR', '2010_1')\n",
    "DT_vs_serie_2010_2 = get_serie(vs_2010_2, 'DTR', '2010_2')\n",
    "\n",
    "DT_vs_serie_2011_1 = get_serie(vs_2011_1, 'DTR', '2011_1')\n",
    "DT_vs_serie_2011_2 = get_serie(vs_2011_2, 'DTR', '2011_2')\n",
    "\n",
    "DT_vs_serie_2012_1 = get_serie(vs_2012_1, 'DTR', '2012_1')\n",
    "DT_vs_serie_2012_2 = get_serie(vs_2012_2, 'DTR', '2012_2')\n",
    "\n",
    "DT_vs_serie_2013_1 = get_serie(vs_2013_1, 'DTR', '2013_1')\n",
    "DT_vs_serie_2013_2 = get_serie(vs_2013_2, 'DTR', '2013_2')\n",
    "\n",
    "DT_vs_serie_2014_1 = get_serie(vs_2014_1, 'DTR', '2014_1')"
   ]
  },
  {
   "cell_type": "code",
   "execution_count": 40,
   "metadata": {
    "collapsed": false
   },
   "outputs": [],
   "source": [
    "Final_DT_vs = pd.concat([DT_vs_serie_2000_2, DT_vs_serie_2001_1, DT_vs_serie_2001_2, DT_vs_serie_2002_1, DT_vs_serie_2002_2,\n",
    "                      DT_vs_serie_2003_1, DT_vs_serie_2003_2, DT_vs_serie_2004_1, DT_vs_serie_2004_2, DT_vs_serie_2005_1, DT_vs_serie_2005_2, \n",
    "                      DT_vs_serie_2006_1, DT_vs_serie_2006_2, DT_vs_serie_2007_1, DT_vs_serie_2007_2, DT_vs_serie_2008_1, DT_vs_serie_2008_2, \n",
    "                      DT_vs_serie_2009_1, DT_vs_serie_2009_2, DT_vs_serie_2010_1, DT_vs_serie_2010_2, DT_vs_serie_2011_1, DT_vs_serie_2011_2, \n",
    "                      DT_vs_serie_2012_1, DT_vs_serie_2012_2, DT_vs_serie_2013_1, DT_vs_serie_2013_2, DT_vs_serie_2014_1], axis=1)"
   ]
  },
  {
   "cell_type": "code",
   "execution_count": 41,
   "metadata": {
    "collapsed": false
   },
   "outputs": [],
   "source": [
    "Final_DT_vs = Final_DT_vs.T"
   ]
  },
  {
   "cell_type": "markdown",
   "metadata": {},
   "source": [
    "## Getting final DF for Random Forest Regressor"
   ]
  },
  {
   "cell_type": "code",
   "execution_count": 42,
   "metadata": {
    "collapsed": true
   },
   "outputs": [],
   "source": [
    "RF_vs_serie_2000_2 = get_serie(vs_2000_2, 'RFR', '2000_2')\n",
    "\n",
    "RF_vs_serie_2001_1 = get_serie(vs_2001_1, 'RFR', '2001_1')\n",
    "RF_vs_serie_2001_2 = get_serie(vs_2001_2, 'RFR', '2001_2')\n",
    "\n",
    "RF_vs_serie_2002_1 = get_serie(vs_2002_1, 'RFR', '2002_1')\n",
    "RF_vs_serie_2002_2 = get_serie(vs_2002_2, 'RFR', '2002_2')\n",
    "\n",
    "RF_vs_serie_2003_1 = get_serie(vs_2003_1, 'RFR', '2003_1')\n",
    "RF_vs_serie_2003_2 = get_serie(vs_2003_2, 'RFR', '2003_2')\n",
    "\n",
    "RF_vs_serie_2004_1 = get_serie(vs_2004_1, 'RFR', '2004_1')\n",
    "RF_vs_serie_2004_2 = get_serie(vs_2004_2, 'RFR', '2004_2')\n",
    "\n",
    "RF_vs_serie_2005_1 = get_serie(vs_2005_1, 'RFR', '2005_1')\n",
    "RF_vs_serie_2005_2 = get_serie(vs_2005_2, 'RFR', '2005_2')\n",
    "\n",
    "RF_vs_serie_2006_1 = get_serie(vs_2006_1, 'RFR', '2006_1')\n",
    "RF_vs_serie_2006_2 = get_serie(vs_2006_2, 'RFR', '2006_2')\n",
    "\n",
    "RF_vs_serie_2007_1 = get_serie(vs_2007_1, 'RFR', '2007_1')\n",
    "RF_vs_serie_2007_2 = get_serie(vs_2007_2, 'RFR', '2007_2')\n",
    "\n",
    "RF_vs_serie_2008_1 = get_serie(vs_2008_1, 'RFR', '2008_1')\n",
    "RF_vs_serie_2008_2 = get_serie(vs_2008_2, 'RFR', '2008_2')\n",
    "\n",
    "RF_vs_serie_2009_1 = get_serie(vs_2009_1, 'RFR', '2009_1')\n",
    "RF_vs_serie_2009_2 = get_serie(vs_2009_2, 'RFR', '2009_2')\n",
    "\n",
    "RF_vs_serie_2010_1 = get_serie(vs_2010_1, 'RFR', '2010_1')\n",
    "RF_vs_serie_2010_2 = get_serie(vs_2010_2, 'RFR', '2010_2')\n",
    "\n",
    "RF_vs_serie_2011_1 = get_serie(vs_2011_1, 'RFR', '2011_1')\n",
    "RF_vs_serie_2011_2 = get_serie(vs_2011_2, 'RFR', '2011_2')\n",
    "\n",
    "RF_vs_serie_2012_1 = get_serie(vs_2012_1, 'RFR', '2012_1')\n",
    "RF_vs_serie_2012_2 = get_serie(vs_2012_2, 'RFR', '2012_2')\n",
    "\n",
    "RF_vs_serie_2013_1 = get_serie(vs_2013_1, 'RFR', '2013_1')\n",
    "RF_vs_serie_2013_2 = get_serie(vs_2013_2, 'RFR', '2013_2')\n",
    "\n",
    "RF_vs_serie_2014_1 = get_serie(vs_2014_1, 'RFR', '2014_1')"
   ]
  },
  {
   "cell_type": "code",
   "execution_count": 43,
   "metadata": {
    "collapsed": false
   },
   "outputs": [],
   "source": [
    "Final_RF_vs = pd.concat([RF_vs_serie_2000_2, RF_vs_serie_2001_1, RF_vs_serie_2001_2, RF_vs_serie_2002_1, RF_vs_serie_2002_2,\n",
    "                      RF_vs_serie_2003_1, RF_vs_serie_2003_2, RF_vs_serie_2004_1, RF_vs_serie_2004_2, RF_vs_serie_2005_1, RF_vs_serie_2005_2, \n",
    "                      RF_vs_serie_2006_1, RF_vs_serie_2006_2, RF_vs_serie_2007_1, RF_vs_serie_2007_2, RF_vs_serie_2008_1, RF_vs_serie_2008_2, \n",
    "                      RF_vs_serie_2009_1, RF_vs_serie_2009_2, RF_vs_serie_2010_1, RF_vs_serie_2010_2, RF_vs_serie_2011_1, RF_vs_serie_2011_2, \n",
    "                      RF_vs_serie_2012_1, RF_vs_serie_2012_2, RF_vs_serie_2013_1, RF_vs_serie_2013_2, RF_vs_serie_2014_1], axis=1)"
   ]
  },
  {
   "cell_type": "code",
   "execution_count": 44,
   "metadata": {
    "collapsed": true
   },
   "outputs": [],
   "source": [
    "Final_RF_vs = Final_RF_vs.T"
   ]
  },
  {
   "cell_type": "code",
   "execution_count": 45,
   "metadata": {
    "collapsed": false
   },
   "outputs": [],
   "source": [
    "Final_LR_vs.to_csv('Final_Results/Final_LR_vs.csv', index=True, sep=';')\n",
    "Final_DT_vs.to_csv('Final_Results/Final_DT_vs.csv', index=True, sep=';')\n",
    "Final_RF_vs.to_csv('Final_Results/Final_RF_vs.csv', index=True, sep=';')"
   ]
  },
  {
   "cell_type": "markdown",
   "metadata": {},
   "source": [
    "___"
   ]
  },
  {
   "cell_type": "markdown",
   "metadata": {},
   "source": [
    "## Getting Final DF of the second Analysis"
   ]
  },
  {
   "cell_type": "code",
   "execution_count": 47,
   "metadata": {
    "collapsed": false,
    "scrolled": true
   },
   "outputs": [
    {
     "name": "stdout",
     "output_type": "stream",
     "text": [
      "Scores for the Columns/Subject: PUNT_LECTURA_CRITICA\n",
      "Score LR: 6.8811727777966984\n",
      "Score DT: 6.771286999413186\n",
      "Score RF: 6.606990452763601\n",
      "\n",
      "Scores for the Columns/Subject: PUNT_C_NATURALES\n",
      "Score LR: 9.710890914925512\n",
      "Score DT: 9.463383710742454\n",
      "Score RF: 9.110908926187777\n",
      "\n",
      "Scores for the Columns/Subject: PUNT_INGLES\n",
      "Score LR: 7.69670323147089\n",
      "Score DT: 7.322968807058181\n",
      "Score RF: 7.291972597420735\n",
      "\n",
      "Scores for the Columns/Subject: PUNT_GLOBAL\n",
      "Score LR: 38.26824691437093\n",
      "Score DT: 35.949224544078774\n",
      "Score RF: 35.39449130281618\n",
      "\n",
      "Scores for the Columns/Subject: PUNT_COMP_CIUDADANA\n",
      "Score LR: 9.016988593872174\n",
      "Score DT: 8.98427017677707\n",
      "Score RF: 8.763973383616094\n",
      "\n",
      "Scores for the Columns/Subject: PUNT_MATEMATICAS\n",
      "Score LR: 9.575134413951758\n",
      "Score DT: 9.184853619117238\n",
      "Score RF: 9.088094326733703\n",
      "\n",
      "Scores for the Columns/Subject: PUNT_SOCIALES_CIUDADANAS\n",
      "Score LR: 9.544396186558428\n",
      "Score DT: 9.43767105929898\n",
      "Score RF: 9.236623274085806\n",
      "\n",
      "Scores for the Columns/Subject: PUNT_RAZONA_CUANT\n",
      "Score LR: 10.323307226561909\n",
      "Score DT: 10.068123976962564\n",
      "Score RF: 9.930512231756113\n",
      "\n"
     ]
    }
   ],
   "source": [
    "vs_2015_1 = Test_all_Subjects_2014(data_2014_2, data_2015_1)"
   ]
  },
  {
   "cell_type": "code",
   "execution_count": 48,
   "metadata": {
    "collapsed": false,
    "scrolled": true
   },
   "outputs": [
    {
     "name": "stdout",
     "output_type": "stream",
     "text": [
      "Scores for the Columns/Subject: PUNT_LECTURA_CRITICA\n",
      "Score LR: 7.261803942613428\n",
      "Score DT: 6.891845951105738\n",
      "Score RF: 6.782962452992101\n",
      "\n",
      "Scores for the Columns/Subject: PUNT_C_NATURALES\n",
      "Score LR: 7.644074524139232\n",
      "Score DT: 8.123989785985566\n",
      "Score RF: 7.700460385383163\n",
      "\n",
      "Scores for the Columns/Subject: PUNT_INGLES\n",
      "Score LR: 7.665072164926055\n",
      "Score DT: 7.09901717662091\n",
      "Score RF: 7.000267861168585\n",
      "\n",
      "Scores for the Columns/Subject: PUNT_GLOBAL\n",
      "Score LR: 36.06257822540262\n",
      "Score DT: 34.60712547535479\n",
      "Score RF: 32.86282388814858\n",
      "\n",
      "Scores for the Columns/Subject: PUNT_COMP_CIUDADANA\n",
      "Score LR: 7.765344210464107\n",
      "Score DT: 7.684467834067216\n",
      "Score RF: 7.538905002129374\n",
      "\n",
      "Scores for the Columns/Subject: PUNT_MATEMATICAS\n",
      "Score LR: 9.059845112518754\n",
      "Score DT: 9.020390484153317\n",
      "Score RF: 8.54166956504288\n",
      "\n",
      "Scores for the Columns/Subject: PUNT_SOCIALES_CIUDADANAS\n",
      "Score LR: 8.70892304841524\n",
      "Score DT: 8.602613193936714\n",
      "Score RF: 8.342471810084861\n",
      "\n",
      "Scores for the Columns/Subject: PUNT_RAZONA_CUANT\n",
      "Score LR: 10.086748431325917\n",
      "Score DT: 10.138455632284947\n",
      "Score RF: 9.811124950270214\n",
      "\n"
     ]
    }
   ],
   "source": [
    "vs_2015_2 = Test_all_Subjects_2014(data_2015_1, data_2015_2)"
   ]
  },
  {
   "cell_type": "code",
   "execution_count": 49,
   "metadata": {
    "collapsed": false,
    "scrolled": true
   },
   "outputs": [
    {
     "name": "stdout",
     "output_type": "stream",
     "text": [
      "Scores for the Columns/Subject: PUNT_LECTURA_CRITICA\n",
      "Score LR: 7.454587519594602\n",
      "Score DT: 7.05433310562836\n",
      "Score RF: 6.798299347392576\n",
      "\n",
      "Scores for the Columns/Subject: PUNT_INGLES\n",
      "Score LR: 10.258675248738003\n",
      "Score DT: 8.60219399038879\n",
      "Score RF: 8.242598060538262\n",
      "\n",
      "Scores for the Columns/Subject: PUNT_C_NATURALES\n",
      "Score LR: 9.349755308502354\n",
      "Score DT: 8.43446687723727\n",
      "Score RF: 8.104897855472002\n",
      "\n",
      "Scores for the Columns/Subject: PUNT_MATEMATICAS\n",
      "Score LR: 12.06815404342716\n",
      "Score DT: 10.774658834584855\n",
      "Score RF: 10.473157014157337\n",
      "\n",
      "Scores for the Columns/Subject: PUNT_SOCIALES_CIUDADANAS\n",
      "Score LR: 10.499778237703376\n",
      "Score DT: 9.486214336904531\n",
      "Score RF: 9.310840504530114\n",
      "\n"
     ]
    }
   ],
   "source": [
    "vs_2016_1 = Test_all_Subjects_2014(data_2015_2, data_2016_1)"
   ]
  },
  {
   "cell_type": "code",
   "execution_count": 50,
   "metadata": {
    "collapsed": false,
    "scrolled": true
   },
   "outputs": [
    {
     "name": "stdout",
     "output_type": "stream",
     "text": [
      "Scores for the Columns/Subject: PUNT_LECTURA_CRITICA\n",
      "Score LR: 7.33456446635471\n",
      "Score DT: 7.152767504959903\n",
      "Score RF: 7.212525019691243\n",
      "\n",
      "Scores for the Columns/Subject: PUNT_INGLES\n",
      "Score LR: 11.153886494515568\n",
      "Score DT: 7.838332158949459\n",
      "Score RF: 7.462687506150627\n",
      "\n",
      "Scores for the Columns/Subject: PUNT_C_NATURALES\n",
      "Score LR: 9.227642564172601\n",
      "Score DT: 8.463262967527264\n",
      "Score RF: 8.437580203440179\n",
      "\n",
      "Scores for the Columns/Subject: PUNT_MATEMATICAS\n",
      "Score LR: 12.266407343244706\n",
      "Score DT: 11.70605793876245\n",
      "Score RF: 10.595900251311466\n",
      "\n",
      "Scores for the Columns/Subject: PUNT_SOCIALES_CIUDADANAS\n",
      "Score LR: 10.197808926069387\n",
      "Score DT: 9.853709490765194\n",
      "Score RF: 9.488201632606614\n",
      "\n"
     ]
    }
   ],
   "source": [
    "vs_2016_1_V2 = Test_all_Subjects_2014(data_2016_1, data_2016_1_V2)"
   ]
  },
  {
   "cell_type": "code",
   "execution_count": 51,
   "metadata": {
    "collapsed": false,
    "scrolled": true
   },
   "outputs": [
    {
     "name": "stdout",
     "output_type": "stream",
     "text": [
      "Scores for the Columns/Subject: PUNT_LECTURA_CRITICA\n",
      "Score LR: 9.317413710204779\n",
      "Score DT: 4.613034095132446\n",
      "Score RF: 4.547756600539265\n",
      "\n",
      "Scores for the Columns/Subject: PUNT_C_NATURALES\n",
      "Score LR: 9.39518918887288\n",
      "Score DT: 7.747023606595265\n",
      "Score RF: 7.825997406957836\n",
      "\n",
      "Scores for the Columns/Subject: PUNT_INGLES\n",
      "Score LR: 11.813915606503453\n",
      "Score DT: 13.793230941971588\n",
      "Score RF: 13.705930836615424\n",
      "\n",
      "Scores for the Columns/Subject: PUNT_GLOBAL\n",
      "Score LR: 47.48919317305524\n",
      "Score DT: 44.30448816560977\n",
      "Score RF: 43.498138128080555\n",
      "\n",
      "Scores for the Columns/Subject: PUNT_MATEMATICAS\n",
      "Score LR: 11.665481170263536\n",
      "Score DT: 11.05375489166007\n",
      "Score RF: 11.013213161265355\n",
      "\n",
      "Scores for the Columns/Subject: PUNT_SOCIALES_CIUDADANAS\n",
      "Score LR: 10.815059207974551\n",
      "Score DT: 7.256926205232405\n",
      "Score RF: 7.723846719939885\n",
      "\n"
     ]
    }
   ],
   "source": [
    "vs_2016_2 = Test_all_Subjects_2014(data_2016_1_V2, data_2016_2)"
   ]
  },
  {
   "cell_type": "code",
   "execution_count": 52,
   "metadata": {
    "collapsed": false,
    "scrolled": true
   },
   "outputs": [
    {
     "name": "stdout",
     "output_type": "stream",
     "text": [
      "Scores for the Columns/Subject: PUNT_LECTURA_CRITICA\n",
      "Score LR: 3.5606279420389075\n",
      "Score DT: 5.523865712272247\n",
      "Score RF: 5.5192203171733505\n",
      "\n",
      "Scores for the Columns/Subject: PUNT_C_NATURALES\n",
      "Score LR: 3.17626568758399\n",
      "Score DT: 5.88055366394911\n",
      "Score RF: 5.869545478828662\n",
      "\n",
      "Scores for the Columns/Subject: PUNT_INGLES\n",
      "Score LR: 8.403773413526745\n",
      "Score DT: 13.118535288437977\n",
      "Score RF: 13.110334003108719\n",
      "\n",
      "Scores for the Columns/Subject: PUNT_GLOBAL\n",
      "Score LR: 14.599667956261905\n",
      "Score DT: 35.077697625991476\n",
      "Score RF: 35.10941791137362\n",
      "\n",
      "Scores for the Columns/Subject: PUNT_MATEMATICAS\n",
      "Score LR: 3.31664142908836\n",
      "Score DT: 6.322253924495101\n",
      "Score RF: 6.319550314134762\n",
      "\n",
      "Scores for the Columns/Subject: PUNT_SOCIALES_CIUDADANAS\n",
      "Score LR: 3.332189169263344\n",
      "Score DT: 6.942765582486956\n",
      "Score RF: 6.94041038864631\n",
      "\n"
     ]
    }
   ],
   "source": [
    "vs_2017_1 = Test_all_Subjects_2014(data_2016_2, data_2017_1)"
   ]
  },
  {
   "cell_type": "code",
   "execution_count": null,
   "metadata": {
    "collapsed": true
   },
   "outputs": [],
   "source": []
  },
  {
   "cell_type": "markdown",
   "metadata": {},
   "source": [
    "Making the final DF's"
   ]
  },
  {
   "cell_type": "code",
   "execution_count": 53,
   "metadata": {
    "collapsed": false
   },
   "outputs": [],
   "source": [
    "LR_vs_serie_2015_1 = get_serie(vs_2015_1, 'LR', '2015_1')\n",
    "LR_vs_serie_2015_2 = get_serie(vs_2015_2, 'LR', '2015_2')\n",
    "\n",
    "LR_vs_serie_2016_1 = get_serie(vs_2016_1, 'LR', '2016_1')\n",
    "LR_vs_serie_2016_1_V2 = get_serie(vs_2016_1_V2, 'LR', '2016_1_V2')\n",
    "LR_vs_serie_2016_2 = get_serie(vs_2016_2, 'LR', '2016_2')\n",
    "\n",
    "LR_vs_serie_2017_1 = get_serie(vs_2017_1, 'LR', '2017_1')"
   ]
  },
  {
   "cell_type": "code",
   "execution_count": 54,
   "metadata": {
    "collapsed": true
   },
   "outputs": [],
   "source": [
    "Final_vs_LR_2 = pd.concat([LR_vs_serie_2015_1, LR_vs_serie_2015_2, LR_vs_serie_2016_1, LR_vs_serie_2016_1_V2,\n",
    "                        LR_vs_serie_2016_2, LR_vs_serie_2017_1], axis=1)"
   ]
  },
  {
   "cell_type": "code",
   "execution_count": 55,
   "metadata": {
    "collapsed": false
   },
   "outputs": [],
   "source": [
    "Final_vs_LR_2 = Final_vs_LR_2.T"
   ]
  },
  {
   "cell_type": "code",
   "execution_count": 56,
   "metadata": {
    "collapsed": true
   },
   "outputs": [],
   "source": [
    "DT_vs_serie_2015_1 = get_serie(vs_2015_1, 'DTR', '2015_1')\n",
    "DT_vs_serie_2015_2 = get_serie(vs_2015_2, 'DTR', '2015_2')\n",
    "\n",
    "DT_vs_serie_2016_1 = get_serie(vs_2016_1, 'DTR', '2016_1')\n",
    "DT_vs_serie_2016_1_V2 = get_serie(vs_2016_1_V2, 'DTR', '2016_1_V2')\n",
    "DT_vs_serie_2016_2 = get_serie(vs_2016_2, 'DTR', '2016_2')\n",
    "\n",
    "DT_vs_serie_2017_1 = get_serie(vs_2017_1, 'DTR', '2017_1')"
   ]
  },
  {
   "cell_type": "code",
   "execution_count": 57,
   "metadata": {
    "collapsed": true
   },
   "outputs": [],
   "source": [
    "Final_vs_DT_2 = pd.concat([DT_vs_serie_2015_1, DT_vs_serie_2015_2, DT_vs_serie_2016_1, DT_vs_serie_2016_1_V2,\n",
    "                           DT_vs_serie_2016_2, DT_vs_serie_2017_1], axis=1)"
   ]
  },
  {
   "cell_type": "code",
   "execution_count": 58,
   "metadata": {
    "collapsed": true
   },
   "outputs": [],
   "source": [
    "Final_vs_DT_2 = Final_vs_DT_2.T"
   ]
  },
  {
   "cell_type": "code",
   "execution_count": 59,
   "metadata": {
    "collapsed": true
   },
   "outputs": [],
   "source": [
    "RF_vs_serie_2015_1 = get_serie(vs_2015_1, 'RFR', '2015_1')\n",
    "RF_vs_serie_2015_2 = get_serie(vs_2015_2, 'RFR', '2015_2')\n",
    "\n",
    "RF_vs_serie_2016_1 = get_serie(vs_2016_1, 'RFR', '2016_1')\n",
    "RF_vs_serie_2016_1_V2 = get_serie(vs_2016_1_V2, 'RFR', '2016_1_V2')\n",
    "RF_vs_serie_2016_2 = get_serie(vs_2016_2, 'RFR', '2016_2')\n",
    "\n",
    "RF_vs_serie_2017_1 = get_serie(vs_2017_1, 'RFR', '2017_1')"
   ]
  },
  {
   "cell_type": "code",
   "execution_count": 60,
   "metadata": {
    "collapsed": true
   },
   "outputs": [],
   "source": [
    "Final_vs_RF_2 = pd.concat([RF_vs_serie_2015_1, RF_vs_serie_2015_2, RF_vs_serie_2016_1, RF_vs_serie_2016_1_V2,\n",
    "                           RF_vs_serie_2016_2, RF_vs_serie_2017_1], axis=1)"
   ]
  },
  {
   "cell_type": "code",
   "execution_count": 61,
   "metadata": {
    "collapsed": true
   },
   "outputs": [],
   "source": [
    "Final_vs_RF_2 = Final_vs_RF_2.T"
   ]
  },
  {
   "cell_type": "code",
   "execution_count": 62,
   "metadata": {
    "collapsed": false
   },
   "outputs": [],
   "source": [
    "Final_vs_LR_2.to_csv('Final_Results/Final_LR_vs_2014.csv', index=True, sep=';')\n",
    "Final_vs_DT_2.to_csv('Final_Results/Final_DT_vs_2014.csv', index=True, sep=';')\n",
    "Final_vs_RF_2.to_csv('Final_Results/Final_RF_vs_2014.csv', index=True, sep=';')"
   ]
  }
 ],
 "metadata": {
  "kernelspec": {
   "display_name": "Python 3 + Anaconda",
   "language": "python",
   "name": "pyconda3"
  },
  "language_info": {
   "codemirror_mode": {
    "name": "ipython",
    "version": 3
   },
   "file_extension": ".py",
   "mimetype": "text/x-python",
   "name": "python",
   "nbconvert_exporter": "python",
   "pygments_lexer": "ipython3",
   "version": "3.5.1"
  }
 },
 "nbformat": 4,
 "nbformat_minor": 0
}
