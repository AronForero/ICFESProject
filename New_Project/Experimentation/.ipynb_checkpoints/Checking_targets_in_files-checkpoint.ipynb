{
 "cells": [
  {
   "cell_type": "code",
   "execution_count": 2,
   "metadata": {
    "collapsed": false
   },
   "outputs": [],
   "source": [
    "import pandas as pd\n",
    "import numpy as np\n",
    "%run -i ../tools/Automation_Functions.py\n",
    "%run -i ../tools/Automation_Functions_2014.py"
   ]
  },
  {
   "cell_type": "code",
   "execution_count": 3,
   "metadata": {
    "collapsed": true
   },
   "outputs": [],
   "source": [
    "data_2000_1 = pd.read_csv('../DatosFTPICFES/SABER11/SB11-BASES_DE_DATOS/READY/2000_1.csv', delimiter=';')\n",
    "data_2000_2 = pd.read_csv('../DatosFTPICFES/SABER11/SB11-BASES_DE_DATOS/READY/2000_2.csv', delimiter=';')\n",
    "\n",
    "data_2001_1 = pd.read_csv('../DatosFTPICFES/SABER11/SB11-BASES_DE_DATOS/READY/2001_1.csv', delimiter=';')\n",
    "data_2001_2 = pd.read_csv('../DatosFTPICFES/SABER11/SB11-BASES_DE_DATOS/READY/2001_2.csv', delimiter=';')\n",
    "\n",
    "data_2002_1 = pd.read_csv('../DatosFTPICFES/SABER11/SB11-BASES_DE_DATOS/READY/2002_1.csv', delimiter=';')\n",
    "data_2002_2 = pd.read_csv('../DatosFTPICFES/SABER11/SB11-BASES_DE_DATOS/READY/2002_2.csv', delimiter=';')\n",
    "\n",
    "data_2003_1 = pd.read_csv('../DatosFTPICFES/SABER11/SB11-BASES_DE_DATOS/READY/2003_1.csv', delimiter=';')\n",
    "data_2003_2 = pd.read_csv('../DatosFTPICFES/SABER11/SB11-BASES_DE_DATOS/READY/2003_2.csv', delimiter=';')\n",
    "\n",
    "data_2004_1 = pd.read_csv('../DatosFTPICFES/SABER11/SB11-BASES_DE_DATOS/READY/2004_1.csv', delimiter=';')\n",
    "data_2004_2 = pd.read_csv('../DatosFTPICFES/SABER11/SB11-BASES_DE_DATOS/READY/2004_2.csv', delimiter=';')\n",
    "\n",
    "data_2005_1 = pd.read_csv('../DatosFTPICFES/SABER11/SB11-BASES_DE_DATOS/READY/2005_1.csv', delimiter=';')\n",
    "data_2005_2 = pd.read_csv('../DatosFTPICFES/SABER11/SB11-BASES_DE_DATOS/READY/2005_2.csv', delimiter=';')\n",
    "\n",
    "data_2006_1 = pd.read_csv('../DatosFTPICFES/SABER11/SB11-BASES_DE_DATOS/READY/2006_1.csv', delimiter=';')\n",
    "data_2006_2 = pd.read_csv('../DatosFTPICFES/SABER11/SB11-BASES_DE_DATOS/READY/2006_2.csv', delimiter=';')\n",
    "\n",
    "data_2007_1 = pd.read_csv('../DatosFTPICFES/SABER11/SB11-BASES_DE_DATOS/READY/2007_1.csv', delimiter=';')\n",
    "data_2007_2 = pd.read_csv('../DatosFTPICFES/SABER11/SB11-BASES_DE_DATOS/READY/2007_2.csv', delimiter=';')\n",
    "\n",
    "data_2008_1 = pd.read_csv('../DatosFTPICFES/SABER11/SB11-BASES_DE_DATOS/READY/2008_1.csv', delimiter=';')\n",
    "data_2008_2 = pd.read_csv('../DatosFTPICFES/SABER11/SB11-BASES_DE_DATOS/READY/2008_2.csv', delimiter=';')\n",
    "\n",
    "data_2009_1 = pd.read_csv('../DatosFTPICFES/SABER11/SB11-BASES_DE_DATOS/READY/2009_1.csv', delimiter=';')\n",
    "data_2009_2 = pd.read_csv('../DatosFTPICFES/SABER11/SB11-BASES_DE_DATOS/READY/2009_2.csv', delimiter=';')\n",
    "\n",
    "data_2010_1 = pd.read_csv('../DatosFTPICFES/SABER11/SB11-BASES_DE_DATOS/READY/2010_1.csv', delimiter=';')\n",
    "data_2010_2 = pd.read_csv('../DatosFTPICFES/SABER11/SB11-BASES_DE_DATOS/READY/2010_2.csv', delimiter=';')\n",
    "\n",
    "data_2011_1 = pd.read_csv('../DatosFTPICFES/SABER11/SB11-BASES_DE_DATOS/READY/2011_1.csv', delimiter=';')\n",
    "data_2011_2 = pd.read_csv('../DatosFTPICFES/SABER11/SB11-BASES_DE_DATOS/READY/2011_2.csv', delimiter=';')\n",
    "\n",
    "data_2012_1 = pd.read_csv('../DatosFTPICFES/SABER11/SB11-BASES_DE_DATOS/READY/2012_1.csv', delimiter=';')\n",
    "data_2012_2 = pd.read_csv('../DatosFTPICFES/SABER11/SB11-BASES_DE_DATOS/READY/2012_2.csv', delimiter=';')\n",
    "\n",
    "data_2013_1 = pd.read_csv('../DatosFTPICFES/SABER11/SB11-BASES_DE_DATOS/READY/2013_1.csv', delimiter=';')\n",
    "data_2013_2 = pd.read_csv('../DatosFTPICFES/SABER11/SB11-BASES_DE_DATOS/READY/2013_2.csv', delimiter=';')\n",
    "\n",
    "data_2014_1 = pd.read_csv('../DatosFTPICFES/SABER11/SB11-BASES_DE_DATOS/READY/2014_1.csv', delimiter=';')\n",
    "data_2014_2 = pd.read_csv('../DatosFTPICFES/SABER11/SB11-BASES_DE_DATOS/READY/2014_2.csv', delimiter=';')\n",
    "\n",
    "data_2015_1 = pd.read_csv('../DatosFTPICFES/SABER11/SB11-BASES_DE_DATOS/READY/2015_1.csv', delimiter=';')\n",
    "data_2015_2 = pd.read_csv('../DatosFTPICFES/SABER11/SB11-BASES_DE_DATOS/READY/2015_2.csv', delimiter=';')\n",
    "\n",
    "data_2016_1 = pd.read_csv('../DatosFTPICFES/SABER11/SB11-BASES_DE_DATOS/READY/2016_1.csv', delimiter=';')\n",
    "data_2016_1_V2 = pd.read_csv('../DatosFTPICFES/SABER11/SB11-BASES_DE_DATOS/READY/2016_1_V2.csv', delimiter=';')\n",
    "data_2016_2 = pd.read_csv('../DatosFTPICFES/SABER11/SB11-BASES_DE_DATOS/READY/2016_2.csv', delimiter=';')\n",
    "\n",
    "data_2017_1 = pd.read_csv('../DatosFTPICFES/SABER11/SB11-BASES_DE_DATOS/READY/2017_1.csv', delimiter=';')"
   ]
  },
  {
   "cell_type": "code",
   "execution_count": 61,
   "metadata": {
    "collapsed": true
   },
   "outputs": [],
   "source": [
    "y_list_2000 = ['PUNT_BIOLOGIA', 'PUNT_MATEMATICAS', 'PUNT_FILOSOFIA', 'PUNT_FISICA', 'PUNT_INTERDISCIPLINAR', 'PUNT_QUIMICA', \n",
    "               'PUNT_LENGUAJE', 'PUNT_GEOGRAFIA', 'PUNT_HISTORIA', 'PUNT_IDIOMA']\n",
    "y_list_2014 = ['PUNT_LECTURA_CRITICA', 'PUNT_MATEMATICAS', 'PUNT_C_NATURALES', 'PUNT_SOCIALES_CIUDADANAS', 'PUNT_INGLES',\n",
    "               'PUNT_RAZONA_CUANT', 'PUNT_COMP_CIUDADANA', 'PUNT_GLOBAL']"
   ]
  },
  {
   "cell_type": "code",
   "execution_count": 15,
   "metadata": {
    "collapsed": false
   },
   "outputs": [],
   "source": [
    "def check_target_2000(df_columns):\n",
    "    diff = pd.core.index.Index(y_list_2000).difference(df_columns)\n",
    "    print(diff)"
   ]
  },
  {
   "cell_type": "code",
   "execution_count": 101,
   "metadata": {
    "collapsed": false
   },
   "outputs": [],
   "source": [
    "def check_target_2014(df_columns):\n",
    "    diff = pd.core.index.Index(y_list_2014).difference(df_columns)\n",
    "    print(diff)"
   ]
  },
  {
   "cell_type": "markdown",
   "metadata": {},
   "source": [
    "### Checking columns of the first analysis"
   ]
  },
  {
   "cell_type": "code",
   "execution_count": 18,
   "metadata": {
    "collapsed": false
   },
   "outputs": [
    {
     "name": "stdout",
     "output_type": "stream",
     "text": [
      "Index([], dtype='object')\n"
     ]
    }
   ],
   "source": [
    "check_target_2000(data_2000_1.columns)"
   ]
  },
  {
   "cell_type": "code",
   "execution_count": 20,
   "metadata": {
    "collapsed": false
   },
   "outputs": [
    {
     "name": "stdout",
     "output_type": "stream",
     "text": [
      "Index([], dtype='object')\n"
     ]
    }
   ],
   "source": [
    "check_target_2000(data_2000_2.columns)"
   ]
  },
  {
   "cell_type": "markdown",
   "metadata": {},
   "source": [
    "___"
   ]
  },
  {
   "cell_type": "code",
   "execution_count": 21,
   "metadata": {
    "collapsed": false
   },
   "outputs": [
    {
     "name": "stdout",
     "output_type": "stream",
     "text": [
      "Index([], dtype='object')\n"
     ]
    }
   ],
   "source": [
    "check_target_2000(data_2001_1.columns)"
   ]
  },
  {
   "cell_type": "code",
   "execution_count": 22,
   "metadata": {
    "collapsed": false
   },
   "outputs": [
    {
     "name": "stdout",
     "output_type": "stream",
     "text": [
      "Index([], dtype='object')\n"
     ]
    }
   ],
   "source": [
    "check_target_2000(data_2001_2.columns)"
   ]
  },
  {
   "cell_type": "markdown",
   "metadata": {},
   "source": [
    "___"
   ]
  },
  {
   "cell_type": "code",
   "execution_count": 23,
   "metadata": {
    "collapsed": false
   },
   "outputs": [
    {
     "name": "stdout",
     "output_type": "stream",
     "text": [
      "Index([], dtype='object')\n"
     ]
    }
   ],
   "source": [
    "check_target_2000(data_2002_1.columns)"
   ]
  },
  {
   "cell_type": "code",
   "execution_count": 24,
   "metadata": {
    "collapsed": false
   },
   "outputs": [
    {
     "name": "stdout",
     "output_type": "stream",
     "text": [
      "Index([], dtype='object')\n"
     ]
    }
   ],
   "source": [
    "check_target_2000(data_2002_2.columns)"
   ]
  },
  {
   "cell_type": "markdown",
   "metadata": {},
   "source": [
    "___"
   ]
  },
  {
   "cell_type": "code",
   "execution_count": 25,
   "metadata": {
    "collapsed": false
   },
   "outputs": [
    {
     "name": "stdout",
     "output_type": "stream",
     "text": [
      "Index([], dtype='object')\n"
     ]
    }
   ],
   "source": [
    "check_target_2000(data_2003_1.columns)"
   ]
  },
  {
   "cell_type": "code",
   "execution_count": 26,
   "metadata": {
    "collapsed": false
   },
   "outputs": [
    {
     "name": "stdout",
     "output_type": "stream",
     "text": [
      "Index([], dtype='object')\n"
     ]
    }
   ],
   "source": [
    "check_target_2000(data_2003_1.columns)"
   ]
  },
  {
   "cell_type": "markdown",
   "metadata": {},
   "source": [
    "___"
   ]
  },
  {
   "cell_type": "code",
   "execution_count": 27,
   "metadata": {
    "collapsed": false
   },
   "outputs": [
    {
     "name": "stdout",
     "output_type": "stream",
     "text": [
      "Index([], dtype='object')\n"
     ]
    }
   ],
   "source": [
    "check_target_2000(data_2004_1.columns)"
   ]
  },
  {
   "cell_type": "code",
   "execution_count": 28,
   "metadata": {
    "collapsed": false
   },
   "outputs": [
    {
     "name": "stdout",
     "output_type": "stream",
     "text": [
      "Index([], dtype='object')\n"
     ]
    }
   ],
   "source": [
    "check_target_2000(data_2004_2.columns)"
   ]
  },
  {
   "cell_type": "markdown",
   "metadata": {},
   "source": [
    "___"
   ]
  },
  {
   "cell_type": "code",
   "execution_count": 29,
   "metadata": {
    "collapsed": false
   },
   "outputs": [
    {
     "name": "stdout",
     "output_type": "stream",
     "text": [
      "Index([], dtype='object')\n"
     ]
    }
   ],
   "source": [
    "check_target_2000(data_2005_1.columns)"
   ]
  },
  {
   "cell_type": "code",
   "execution_count": 57,
   "metadata": {
    "collapsed": false
   },
   "outputs": [
    {
     "name": "stdout",
     "output_type": "stream",
     "text": [
      "Index(['PUNT_C_SOCIALES'], dtype='object')\n"
     ]
    }
   ],
   "source": [
    "check_target_2000(data_2005_2.columns)"
   ]
  },
  {
   "cell_type": "markdown",
   "metadata": {},
   "source": [
    "___"
   ]
  },
  {
   "cell_type": "markdown",
   "metadata": {},
   "source": [
    "#### Year 2006\n",
    "There aren't 2 columns, and there is 2 different columns"
   ]
  },
  {
   "cell_type": "code",
   "execution_count": 31,
   "metadata": {
    "collapsed": false
   },
   "outputs": [
    {
     "name": "stdout",
     "output_type": "stream",
     "text": [
      "Index(['PUNT_GEOGRAFIA', 'PUNT_HISTORIA'], dtype='object')\n"
     ]
    }
   ],
   "source": [
    "check_target_2000(data_2006_1.columns)"
   ]
  },
  {
   "cell_type": "markdown",
   "metadata": {},
   "source": [
    "The solucion was add the column named PUNT_C_SOCIALES and the column PUNT_PROFUNDIZACION to the y_list_2000"
   ]
  },
  {
   "cell_type": "code",
   "execution_count": 62,
   "metadata": {
    "collapsed": true
   },
   "outputs": [],
   "source": [
    "y_list_2000.append('PUNT_C_SOCIALES')\n",
    "y_list_2000.append('PUNT_PROFUNDIZACION')"
   ]
  },
  {
   "cell_type": "code",
   "execution_count": 56,
   "metadata": {
    "collapsed": false
   },
   "outputs": [
    {
     "name": "stdout",
     "output_type": "stream",
     "text": [
      "Index(['PUNT_GEOGRAFIA', 'PUNT_HISTORIA'], dtype='object')\n"
     ]
    }
   ],
   "source": [
    "check_target_2000(data_2006_2.columns)"
   ]
  },
  {
   "cell_type": "code",
   "execution_count": 64,
   "metadata": {
    "collapsed": true
   },
   "outputs": [],
   "source": [
    "#New Columns added\n",
    "y_list_2000.append('ESTU_PUESTO')"
   ]
  },
  {
   "cell_type": "markdown",
   "metadata": {},
   "source": [
    "___"
   ]
  },
  {
   "cell_type": "code",
   "execution_count": 66,
   "metadata": {
    "collapsed": false
   },
   "outputs": [
    {
     "name": "stdout",
     "output_type": "stream",
     "text": [
      "Index(['PUNT_GEOGRAFIA', 'PUNT_HISTORIA', 'PUNT_IDIOMA'], dtype='object')\n"
     ]
    }
   ],
   "source": [
    "check_target_2000(data_2007_1.columns)"
   ]
  },
  {
   "cell_type": "code",
   "execution_count": 70,
   "metadata": {
    "collapsed": true
   },
   "outputs": [],
   "source": [
    "#New column added\n",
    "y_list_2000.append('PUNT_INGLES')"
   ]
  },
  {
   "cell_type": "code",
   "execution_count": 67,
   "metadata": {
    "collapsed": false
   },
   "outputs": [
    {
     "name": "stdout",
     "output_type": "stream",
     "text": [
      "Index(['PUNT_GEOGRAFIA', 'PUNT_HISTORIA', 'PUNT_IDIOMA'], dtype='object')\n"
     ]
    }
   ],
   "source": [
    "check_target_2000(data_2007_2.columns)"
   ]
  },
  {
   "cell_type": "markdown",
   "metadata": {},
   "source": [
    "___"
   ]
  },
  {
   "cell_type": "code",
   "execution_count": 73,
   "metadata": {
    "collapsed": false
   },
   "outputs": [
    {
     "name": "stdout",
     "output_type": "stream",
     "text": [
      "Index(['PUNT_GEOGRAFIA', 'PUNT_HISTORIA', 'PUNT_IDIOMA'], dtype='object')\n"
     ]
    }
   ],
   "source": [
    "check_target_2000(data_2008_1.columns)"
   ]
  },
  {
   "cell_type": "code",
   "execution_count": 74,
   "metadata": {
    "collapsed": false
   },
   "outputs": [
    {
     "name": "stdout",
     "output_type": "stream",
     "text": [
      "Index(['PUNT_GEOGRAFIA', 'PUNT_HISTORIA', 'PUNT_IDIOMA'], dtype='object')\n"
     ]
    }
   ],
   "source": [
    "check_target_2000(data_2008_2.columns)"
   ]
  },
  {
   "cell_type": "markdown",
   "metadata": {},
   "source": [
    "___"
   ]
  },
  {
   "cell_type": "code",
   "execution_count": 77,
   "metadata": {
    "collapsed": false
   },
   "outputs": [
    {
     "name": "stdout",
     "output_type": "stream",
     "text": [
      "Index(['PUNT_GEOGRAFIA', 'PUNT_HISTORIA', 'PUNT_IDIOMA'], dtype='object')\n"
     ]
    }
   ],
   "source": [
    "check_target_2000(data_2009_1.columns)"
   ]
  },
  {
   "cell_type": "code",
   "execution_count": 78,
   "metadata": {
    "collapsed": false
   },
   "outputs": [
    {
     "name": "stdout",
     "output_type": "stream",
     "text": [
      "Index(['PUNT_GEOGRAFIA', 'PUNT_HISTORIA', 'PUNT_IDIOMA'], dtype='object')\n"
     ]
    }
   ],
   "source": [
    "check_target_2000(data_2009_2.columns)"
   ]
  },
  {
   "cell_type": "markdown",
   "metadata": {},
   "source": [
    "___"
   ]
  },
  {
   "cell_type": "code",
   "execution_count": 81,
   "metadata": {
    "collapsed": false
   },
   "outputs": [
    {
     "name": "stdout",
     "output_type": "stream",
     "text": [
      "Index(['PUNT_GEOGRAFIA', 'PUNT_HISTORIA', 'PUNT_IDIOMA'], dtype='object')\n"
     ]
    }
   ],
   "source": [
    "check_target_2000(data_2010_1.columns)"
   ]
  },
  {
   "cell_type": "code",
   "execution_count": 82,
   "metadata": {
    "collapsed": false
   },
   "outputs": [
    {
     "name": "stdout",
     "output_type": "stream",
     "text": [
      "Index(['PUNT_GEOGRAFIA', 'PUNT_HISTORIA', 'PUNT_IDIOMA',\n",
      "       'PUNT_INTERDISCIPLINAR', 'PUNT_PROFUNDIZACION'],\n",
      "      dtype='object')\n"
     ]
    }
   ],
   "source": [
    "check_target_2000(data_2010_2.columns)"
   ]
  },
  {
   "cell_type": "code",
   "execution_count": 85,
   "metadata": {
    "collapsed": true
   },
   "outputs": [],
   "source": [
    "y_list_2000.append('PUNT_COMP_FLEXIBLE')"
   ]
  },
  {
   "cell_type": "markdown",
   "metadata": {},
   "source": [
    "___"
   ]
  },
  {
   "cell_type": "code",
   "execution_count": 86,
   "metadata": {
    "collapsed": false
   },
   "outputs": [
    {
     "name": "stdout",
     "output_type": "stream",
     "text": [
      "Index(['PUNT_GEOGRAFIA', 'PUNT_HISTORIA', 'PUNT_IDIOMA',\n",
      "       'PUNT_INTERDISCIPLINAR', 'PUNT_PROFUNDIZACION'],\n",
      "      dtype='object')\n"
     ]
    }
   ],
   "source": [
    "check_target_2000(data_2011_1.columns)"
   ]
  },
  {
   "cell_type": "code",
   "execution_count": 87,
   "metadata": {
    "collapsed": false
   },
   "outputs": [
    {
     "name": "stdout",
     "output_type": "stream",
     "text": [
      "Index(['PUNT_GEOGRAFIA', 'PUNT_HISTORIA', 'PUNT_IDIOMA',\n",
      "       'PUNT_INTERDISCIPLINAR', 'PUNT_PROFUNDIZACION'],\n",
      "      dtype='object')\n"
     ]
    }
   ],
   "source": [
    "check_target_2000(data_2011_2.columns)"
   ]
  },
  {
   "cell_type": "markdown",
   "metadata": {},
   "source": [
    "___"
   ]
  },
  {
   "cell_type": "code",
   "execution_count": 90,
   "metadata": {
    "collapsed": false
   },
   "outputs": [
    {
     "name": "stdout",
     "output_type": "stream",
     "text": [
      "Index(['PUNT_GEOGRAFIA', 'PUNT_HISTORIA', 'PUNT_IDIOMA',\n",
      "       'PUNT_INTERDISCIPLINAR', 'PUNT_PROFUNDIZACION'],\n",
      "      dtype='object')\n"
     ]
    }
   ],
   "source": [
    "check_target_2000(data_2012_1.columns)"
   ]
  },
  {
   "cell_type": "code",
   "execution_count": 92,
   "metadata": {
    "collapsed": false
   },
   "outputs": [
    {
     "name": "stdout",
     "output_type": "stream",
     "text": [
      "Index(['PUNT_GEOGRAFIA', 'PUNT_HISTORIA', 'PUNT_IDIOMA',\n",
      "       'PUNT_INTERDISCIPLINAR', 'PUNT_PROFUNDIZACION'],\n",
      "      dtype='object')\n"
     ]
    }
   ],
   "source": [
    "check_target_2000(data_2012_2.columns)"
   ]
  },
  {
   "cell_type": "markdown",
   "metadata": {},
   "source": [
    "___"
   ]
  },
  {
   "cell_type": "code",
   "execution_count": 94,
   "metadata": {
    "collapsed": false
   },
   "outputs": [
    {
     "name": "stdout",
     "output_type": "stream",
     "text": [
      "Index(['PUNT_GEOGRAFIA', 'PUNT_HISTORIA', 'PUNT_IDIOMA',\n",
      "       'PUNT_INTERDISCIPLINAR', 'PUNT_PROFUNDIZACION'],\n",
      "      dtype='object')\n"
     ]
    }
   ],
   "source": [
    "check_target_2000(data_2013_1.columns)"
   ]
  },
  {
   "cell_type": "code",
   "execution_count": 97,
   "metadata": {
    "collapsed": false
   },
   "outputs": [
    {
     "name": "stdout",
     "output_type": "stream",
     "text": [
      "Index(['PUNT_GEOGRAFIA', 'PUNT_HISTORIA', 'PUNT_IDIOMA',\n",
      "       'PUNT_INTERDISCIPLINAR', 'PUNT_PROFUNDIZACION'],\n",
      "      dtype='object')\n"
     ]
    }
   ],
   "source": [
    "check_target_2000(data_2013_2.columns)"
   ]
  },
  {
   "cell_type": "markdown",
   "metadata": {},
   "source": [
    "___"
   ]
  },
  {
   "cell_type": "code",
   "execution_count": 99,
   "metadata": {
    "collapsed": false
   },
   "outputs": [
    {
     "name": "stdout",
     "output_type": "stream",
     "text": [
      "Index(['PUNT_GEOGRAFIA', 'PUNT_HISTORIA', 'PUNT_IDIOMA',\n",
      "       'PUNT_INTERDISCIPLINAR', 'PUNT_PROFUNDIZACION'],\n",
      "      dtype='object')\n"
     ]
    }
   ],
   "source": [
    "check_target_2000(data_2014_1.columns)"
   ]
  },
  {
   "cell_type": "markdown",
   "metadata": {},
   "source": [
    "___"
   ]
  },
  {
   "cell_type": "markdown",
   "metadata": {},
   "source": [
    "## Checking the columns of the second analysis"
   ]
  },
  {
   "cell_type": "code",
   "execution_count": 103,
   "metadata": {
    "collapsed": false
   },
   "outputs": [
    {
     "name": "stdout",
     "output_type": "stream",
     "text": [
      "Index([], dtype='object')\n"
     ]
    }
   ],
   "source": [
    "check_target_2014(data_2014_2.columns)"
   ]
  },
  {
   "cell_type": "markdown",
   "metadata": {},
   "source": [
    "___"
   ]
  },
  {
   "cell_type": "code",
   "execution_count": 104,
   "metadata": {
    "collapsed": false
   },
   "outputs": [
    {
     "name": "stdout",
     "output_type": "stream",
     "text": [
      "Index([], dtype='object')\n"
     ]
    }
   ],
   "source": [
    "check_target_2014(data_2015_1.columns)"
   ]
  },
  {
   "cell_type": "code",
   "execution_count": 105,
   "metadata": {
    "collapsed": false
   },
   "outputs": [
    {
     "name": "stdout",
     "output_type": "stream",
     "text": [
      "Index([], dtype='object')\n"
     ]
    }
   ],
   "source": [
    "check_target_2014(data_2015_2.columns)"
   ]
  },
  {
   "cell_type": "markdown",
   "metadata": {},
   "source": [
    "___"
   ]
  },
  {
   "cell_type": "code",
   "execution_count": 106,
   "metadata": {
    "collapsed": false
   },
   "outputs": [
    {
     "name": "stdout",
     "output_type": "stream",
     "text": [
      "Index(['PUNT_COMP_CIUDADANA', 'PUNT_GLOBAL', 'PUNT_RAZONA_CUANT'], dtype='object')\n"
     ]
    }
   ],
   "source": [
    "check_target_2014(data_2016_1.columns)"
   ]
  },
  {
   "cell_type": "code",
   "execution_count": 110,
   "metadata": {
    "collapsed": false
   },
   "outputs": [
    {
     "name": "stdout",
     "output_type": "stream",
     "text": [
      "Index(['PUNT_COMP_CIUDADANA', 'PUNT_RAZONA_CUANT'], dtype='object')\n"
     ]
    }
   ],
   "source": [
    "check_target_2014(data_2016_1_V2.columns)"
   ]
  },
  {
   "cell_type": "code",
   "execution_count": 114,
   "metadata": {
    "collapsed": false
   },
   "outputs": [
    {
     "name": "stdout",
     "output_type": "stream",
     "text": [
      "Index(['PUNT_COMP_CIUDADANA', 'PUNT_RAZONA_CUANT'], dtype='object')\n"
     ]
    }
   ],
   "source": [
    "check_target_2014(data_2016_2.columns)"
   ]
  },
  {
   "cell_type": "markdown",
   "metadata": {},
   "source": [
    "___"
   ]
  },
  {
   "cell_type": "code",
   "execution_count": 117,
   "metadata": {
    "collapsed": false
   },
   "outputs": [
    {
     "name": "stdout",
     "output_type": "stream",
     "text": [
      "Index(['PUNT_COMP_CIUDADANA', 'PUNT_RAZONA_CUANT'], dtype='object')\n"
     ]
    }
   ],
   "source": [
    "check_target_2014(data_2017_1.columns)"
   ]
  }
 ],
 "metadata": {
  "kernelspec": {
   "display_name": "Python 3",
   "language": "python",
   "name": "python3"
  },
  "language_info": {
   "codemirror_mode": {
    "name": "ipython",
    "version": 3
   },
   "file_extension": ".py",
   "mimetype": "text/x-python",
   "name": "python",
   "nbconvert_exporter": "python",
   "pygments_lexer": "ipython3",
   "version": "3.4.2"
  }
 },
 "nbformat": 4,
 "nbformat_minor": 0
}
