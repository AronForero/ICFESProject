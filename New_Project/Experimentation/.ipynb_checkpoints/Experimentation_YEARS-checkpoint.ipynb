{
 "cells": [
  {
   "cell_type": "markdown",
   "metadata": {},
   "source": [
    "# Experimentation with all the other files"
   ]
  },
  {
   "cell_type": "code",
   "execution_count": 1,
   "metadata": {
    "collapsed": true
   },
   "outputs": [],
   "source": [
    "import pandas as pd\n",
    "import numpy as np\n",
    "from sklearn.preprocessing import PolynomialFeatures\n",
    "from sklearn.cross_validation import ShuffleSplit\n",
    "from sklearn.cross_validation import cross_val_score\n",
    "from sklearn.linear_model import LinearRegression\n",
    "from sklearn.tree import DecisionTreeRegressor\n",
    "from sklearn.ensemble import RandomForestRegressor\n",
    "%run -i ../tools/Automation_Functions.py"
   ]
  },
  {
   "cell_type": "code",
   "execution_count": 2,
   "metadata": {
    "collapsed": false,
    "scrolled": true
   },
   "outputs": [
    {
     "name": "stderr",
     "output_type": "stream",
     "text": [
      "/usr/local/anaconda3/lib/python3.5/site-packages/IPython/core/interactiveshell.py:2723: DtypeWarning: Columns (11,12) have mixed types. Specify dtype option on import or set low_memory=False.\n",
      "  interactivity=interactivity, compiler=compiler, result=result)\n",
      "/usr/local/anaconda3/lib/python3.5/site-packages/IPython/core/interactiveshell.py:2723: DtypeWarning: Columns (10,11,12,13,25) have mixed types. Specify dtype option on import or set low_memory=False.\n",
      "  interactivity=interactivity, compiler=compiler, result=result)\n"
     ]
    },
    {
     "data": {
      "text/plain": [
       "'\\ndata_2008\\ndata_2008\\n\\ndata_200\\ndata_200\\n'"
      ]
     },
     "execution_count": 2,
     "metadata": {},
     "output_type": "execute_result"
    }
   ],
   "source": [
    "data_2000_1 = pd.read_csv('../DatosFTPICFES/SABER11/SB11-BASES_DE_DATOS/READY/2000_1.csv', delimiter=';')\n",
    "data_2000_2 = pd.read_csv('../DatosFTPICFES/SABER11/SB11-BASES_DE_DATOS/READY/2000_2.csv', delimiter=';')\n",
    "\n",
    "data_2001_1 = pd.read_csv('../DatosFTPICFES/SABER11/SB11-BASES_DE_DATOS/READY/2001_1.csv', delimiter=';')\n",
    "data_2001_2 = pd.read_csv('../DatosFTPICFES/SABER11/SB11-BASES_DE_DATOS/READY/2001_2.csv', delimiter=';')\n",
    "\n",
    "data_2002_1 = pd.read_csv('../DatosFTPICFES/SABER11/SB11-BASES_DE_DATOS/READY/2002_1.csv', delimiter=';')\n",
    "data_2002_2 = pd.read_csv('../DatosFTPICFES/SABER11/SB11-BASES_DE_DATOS/READY/2002_2.csv', delimiter=';')\n",
    "\n",
    "data_2003_1 = pd.read_csv('../DatosFTPICFES/SABER11/SB11-BASES_DE_DATOS/READY/2003_1.csv', delimiter=';')\n",
    "data_2003_2 = pd.read_csv('../DatosFTPICFES/SABER11/SB11-BASES_DE_DATOS/READY/2003_2.csv', delimiter=';')\n",
    "\n",
    "data_2004_1 = pd.read_csv('../DatosFTPICFES/SABER11/SB11-BASES_DE_DATOS/READY/2004_1.csv', delimiter=';')\n",
    "data_2004_2 = pd.read_csv('../DatosFTPICFES/SABER11/SB11-BASES_DE_DATOS/READY/2004_2.csv', delimiter=';')\n",
    "\n",
    "data_2005_1 = pd.read_csv('../DatosFTPICFES/SABER11/SB11-BASES_DE_DATOS/READY/2005_1.csv', delimiter=';')\n",
    "data_2005_2 = pd.read_csv('../DatosFTPICFES/SABER11/SB11-BASES_DE_DATOS/READY/2005_2.csv', delimiter=';')\n",
    "\n",
    "data_2006_1 = pd.read_csv('../DatosFTPICFES/SABER11/SB11-BASES_DE_DATOS/READY/2006_1.csv', delimiter=';')\n",
    "data_2006_2 = pd.read_csv('../DatosFTPICFES/SABER11/SB11-BASES_DE_DATOS/READY/2006_2.csv', delimiter=';')\n",
    "\n",
    "data_2007_1 = pd.read_csv('../DatosFTPICFES/SABER11/SB11-BASES_DE_DATOS/READY/2007_1.csv', delimiter=';')\n",
    "data_2007_2 = pd.read_csv('../DatosFTPICFES/SABER11/SB11-BASES_DE_DATOS/READY/2007_2.csv', delimiter=';')\n",
    "##########\n",
    "\"\"\"\n",
    "data_2008\n",
    "data_2008\n",
    "\n",
    "data_200\n",
    "data_200\n",
    "\"\"\""
   ]
  },
  {
   "cell_type": "markdown",
   "metadata": {},
   "source": [
    "# Individual\n",
    "* Train with the 80% of the Data\n",
    "* Test with the 20% of the Data\n",
    "\n",
    "Cross Validation applied in all of this individual tests."
   ]
  },
  {
   "cell_type": "markdown",
   "metadata": {},
   "source": [
    "## 2000:\n",
    "\n",
    "* 2000_1\n",
    "* 2000_2"
   ]
  },
  {
   "cell_type": "code",
   "execution_count": 26,
   "metadata": {
    "collapsed": false,
    "scrolled": true
   },
   "outputs": [
    {
     "name": "stdout",
     "output_type": "stream",
     "text": [
      "Scores for the column: PUNT_BIOLOGIA\n",
      "Linear Regression:       Mean Score 4.47199917251 STD Scores 0.0196608378884\n",
      "Decision Tree Regressor: Mean Score 4.38661244851 STD Scores 0.0336075915347\n",
      "Random Forest:           Mean Score 4.32759235235 STD Scores 0.0379266035699\n",
      "\n",
      "Scores for the column: PUNT_MATEMATICAS\n",
      "Linear Regression:       Mean Score 4.53734569076 STD Scores 0.0171477871995\n",
      "Decision Tree Regressor: Mean Score 4.50252841292 STD Scores 0.0144255524429\n",
      "Random Forest:           Mean Score 4.478089186 STD Scores 0.0216144092041\n",
      "\n",
      "Scores for the column: PUNT_FILOSOFIA\n",
      "Linear Regression:       Mean Score 4.72524472481 STD Scores 0.0416826670959\n",
      "Decision Tree Regressor: Mean Score 4.70173955478 STD Scores 0.0246765116013\n",
      "Random Forest:           Mean Score 4.6661599192 STD Scores 0.0332880784989\n",
      "\n",
      "Scores for the column: PUNT_FISICA\n",
      "Linear Regression:       Mean Score 4.83596611984 STD Scores 0.0343436161112\n",
      "Decision Tree Regressor: Mean Score 4.80068685856 STD Scores 0.030151876153\n",
      "Random Forest:           Mean Score 4.76423498132 STD Scores 0.0218961398004\n",
      "\n",
      "Scores for the column: PUNT_HISTORIA\n",
      "Linear Regression:       Mean Score 4.57933760043 STD Scores 0.018611876613\n",
      "Decision Tree Regressor: Mean Score 4.51145267281 STD Scores 0.015157469565\n",
      "Random Forest:           Mean Score 4.44681607939 STD Scores 0.0347878168941\n",
      "\n",
      "Scores for the column: PUNT_QUIMICA\n",
      "Linear Regression:       Mean Score 4.24344111551 STD Scores 0.0221645989636\n",
      "Decision Tree Regressor: Mean Score 4.14110071703 STD Scores 0.0258632595533\n",
      "Random Forest:           Mean Score 4.07485936723 STD Scores 0.0365622770377\n",
      "\n",
      "Scores for the column: PUNT_LENGUAJE\n",
      "Linear Regression:       Mean Score 4.70477038312 STD Scores 0.0203037622352\n",
      "Decision Tree Regressor: Mean Score 4.63597366247 STD Scores 0.0126227650527\n",
      "Random Forest:           Mean Score 4.58225212772 STD Scores 0.0238387787941\n",
      "\n",
      "Scores for the column: PUNT_GEOGRAFIA\n",
      "Linear Regression:       Mean Score 4.7624201836 STD Scores 0.0180768695096\n",
      "Decision Tree Regressor: Mean Score 4.73531685738 STD Scores 0.0282019712092\n",
      "Random Forest:           Mean Score 4.64681335992 STD Scores 0.0257707815001\n",
      "\n",
      "Scores for the column: PUNT_INTERDISCIPLINAR\n",
      "Linear Regression:       Mean Score 5.08328453283 STD Scores 0.0424599334953\n",
      "Decision Tree Regressor: Mean Score 4.88873555977 STD Scores 0.0361394433631\n",
      "Random Forest:           Mean Score 4.81794473668 STD Scores 0.032512570692\n",
      "\n",
      "Scores for the column: PUNT_IDIOMA\n",
      "Linear Regression:       Mean Score 4.6989917644 STD Scores 0.0209840236716\n",
      "Decision Tree Regressor: Mean Score 4.37802817566 STD Scores 0.0129508778203\n",
      "Random Forest:           Mean Score 4.27650223143 STD Scores 0.032557245535\n",
      "\n"
     ]
    }
   ],
   "source": [
    "Preds_2000_1 = Predict_all_Subjects(data_2000_1)"
   ]
  },
  {
   "cell_type": "code",
   "execution_count": 27,
   "metadata": {
    "collapsed": false,
    "scrolled": true
   },
   "outputs": [
    {
     "name": "stdout",
     "output_type": "stream",
     "text": [
      "Scores for the column: PUNT_BIOLOGIA\n",
      "Linear Regression:       Mean Score 4.06719202656 STD Scores 0.00548343509909\n",
      "Decision Tree Regressor: Mean Score 4.06014107169 STD Scores 0.0096004880365\n",
      "Random Forest:           Mean Score 3.98603347876 STD Scores 0.00158074217906\n",
      "\n",
      "Scores for the column: PUNT_MATEMATICAS\n",
      "Linear Regression:       Mean Score 3.93109072389 STD Scores 0.00653394187972\n",
      "Decision Tree Regressor: Mean Score 3.93219256738 STD Scores 0.00673330275773\n",
      "Random Forest:           Mean Score 3.92130261755 STD Scores 0.00675083155947\n",
      "\n",
      "Scores for the column: PUNT_FILOSOFIA\n",
      "Linear Regression:       Mean Score 4.79601142744 STD Scores 0.00852711306817\n",
      "Decision Tree Regressor: Mean Score 4.75877296428 STD Scores 0.00636935141495\n",
      "Random Forest:           Mean Score 4.71644645324 STD Scores 0.0156508751152\n",
      "\n",
      "Scores for the column: PUNT_FISICA\n",
      "Linear Regression:       Mean Score 4.49357714734 STD Scores 0.0107565782453\n",
      "Decision Tree Regressor: Mean Score 4.50062164426 STD Scores 0.00687453319362\n",
      "Random Forest:           Mean Score 4.48420462492 STD Scores 0.010094077518\n",
      "\n",
      "Scores for the column: PUNT_HISTORIA\n",
      "Linear Regression:       Mean Score 4.46213396675 STD Scores 0.00663030458329\n",
      "Decision Tree Regressor: Mean Score 4.42991912581 STD Scores 0.017318607058\n",
      "Random Forest:           Mean Score 4.32711171455 STD Scores 0.013769122472\n",
      "\n",
      "Scores for the column: PUNT_QUIMICA\n",
      "Linear Regression:       Mean Score 3.93544773161 STD Scores 0.00350638340422\n",
      "Decision Tree Regressor: Mean Score 3.88507415617 STD Scores 0.00969154403423\n",
      "Random Forest:           Mean Score 3.81472993841 STD Scores 0.00626956520766\n",
      "\n",
      "Scores for the column: PUNT_LENGUAJE\n",
      "Linear Regression:       Mean Score 4.60355644773 STD Scores 0.00582931394367\n",
      "Decision Tree Regressor: Mean Score 4.5437459389 STD Scores 0.0109114723912\n",
      "Random Forest:           Mean Score 4.4602386811 STD Scores 0.0170284973349\n",
      "\n",
      "Scores for the column: PUNT_GEOGRAFIA\n",
      "Linear Regression:       Mean Score 4.58275112861 STD Scores 0.0114318045866\n",
      "Decision Tree Regressor: Mean Score 4.54525224101 STD Scores 0.017134008823\n",
      "Random Forest:           Mean Score 4.44887710189 STD Scores 0.0111214577562\n",
      "\n",
      "Scores for the column: PUNT_INTERDISCIPLINAR\n",
      "Linear Regression:       Mean Score 7.13757060409 STD Scores 0.0112956375858\n",
      "Decision Tree Regressor: Mean Score 4.79867628962 STD Scores 0.00830001121244\n",
      "Random Forest:           Mean Score 4.74211300739 STD Scores 0.0218874664454\n",
      "\n",
      "Scores for the column: PUNT_IDIOMA\n",
      "Linear Regression:       Mean Score 4.43649063862 STD Scores 0.0176844335113\n",
      "Decision Tree Regressor: Mean Score 4.38505343714 STD Scores 0.0147346404771\n",
      "Random Forest:           Mean Score 4.31691029033 STD Scores 0.0111414704758\n",
      "\n"
     ]
    }
   ],
   "source": [
    "Preds_2000_2 = Predict_all_Subjects(data_2000_2)"
   ]
  },
  {
   "cell_type": "markdown",
   "metadata": {},
   "source": [
    "## 2001\n",
    "* 2002_1\n",
    "* 2001_2"
   ]
  },
  {
   "cell_type": "code",
   "execution_count": 40,
   "metadata": {
    "collapsed": false,
    "scrolled": true
   },
   "outputs": [
    {
     "name": "stdout",
     "output_type": "stream",
     "text": [
      "Scores for the column: PUNT_BIOLOGIA\n",
      "Linear Regression:       Mean Score 4.07442341913 STD Scores 0.0155382590424\n",
      "Decision Tree Regressor: Mean Score 4.05855613635 STD Scores 0.0164418011417\n",
      "Random Forest:           Mean Score 3.9924255755 STD Scores 0.00787021693205\n",
      "\n",
      "Scores for the column: PUNT_MATEMATICAS\n",
      "Linear Regression:       Mean Score 3.8202874643 STD Scores 0.0265540243837\n",
      "Decision Tree Regressor: Mean Score 3.83848627728 STD Scores 0.0223235618913\n",
      "Random Forest:           Mean Score 3.83684669943 STD Scores 0.0278063793731\n",
      "\n",
      "Scores for the column: PUNT_FILOSOFIA\n",
      "Linear Regression:       Mean Score 5.24836059761 STD Scores 0.0464554827459\n",
      "Decision Tree Regressor: Mean Score 5.21738560462 STD Scores 0.0273654495259\n",
      "Random Forest:           Mean Score 5.15282699915 STD Scores 0.0230503683265\n",
      "\n",
      "Scores for the column: PUNT_FISICA\n",
      "Linear Regression:       Mean Score 4.47125136974 STD Scores 0.0289317409404\n",
      "Decision Tree Regressor: Mean Score 4.48488985618 STD Scores 0.0148244806436\n",
      "Random Forest:           Mean Score 4.47486818522 STD Scores 0.0125619453639\n",
      "\n",
      "Scores for the column: PUNT_HISTORIA\n",
      "Linear Regression:       Mean Score 4.34988929185 STD Scores 0.0204254899936\n",
      "Decision Tree Regressor: Mean Score 4.34244905268 STD Scores 0.0221695541783\n",
      "Random Forest:           Mean Score 4.25274448831 STD Scores 0.0219257434425\n",
      "\n",
      "Scores for the column: PUNT_QUIMICA\n",
      "Linear Regression:       Mean Score 3.99973538126 STD Scores 0.020085174963\n",
      "Decision Tree Regressor: Mean Score 3.94551990557 STD Scores 0.0132930353563\n",
      "Random Forest:           Mean Score 3.85692239352 STD Scores 0.0220269661106\n",
      "\n",
      "Scores for the column: PUNT_LENGUAJE\n",
      "Linear Regression:       Mean Score 4.26628280475 STD Scores 0.0149409911686\n",
      "Decision Tree Regressor: Mean Score 4.26463253832 STD Scores 0.0288497370136\n",
      "Random Forest:           Mean Score 4.21181411346 STD Scores 0.00990887157527\n",
      "\n",
      "Scores for the column: PUNT_GEOGRAFIA\n",
      "Linear Regression:       Mean Score 5.95415734281 STD Scores 0.026129027638\n",
      "Decision Tree Regressor: Mean Score 5.9140513351 STD Scores 0.0391018292677\n",
      "Random Forest:           Mean Score 5.80373909339 STD Scores 0.015471147327\n",
      "\n",
      "Scores for the column: PUNT_INTERDISCIPLINAR\n",
      "Linear Regression:       Mean Score 7.1909530866 STD Scores 0.0218332899562\n",
      "Decision Tree Regressor: Mean Score 4.15650168584 STD Scores 0.0240857345795\n",
      "Random Forest:           Mean Score 4.10750581037 STD Scores 0.0246566357011\n",
      "\n",
      "Scores for the column: PUNT_IDIOMA\n",
      "Linear Regression:       Mean Score 4.93629920369 STD Scores 0.0259778552278\n",
      "Decision Tree Regressor: Mean Score 4.5778085596 STD Scores 0.0262120257308\n",
      "Random Forest:           Mean Score 4.50764624187 STD Scores 0.0212527086533\n",
      "\n"
     ]
    }
   ],
   "source": [
    "Preds_2001 = Predict_all_Subjects(data_2001_1)"
   ]
  },
  {
   "cell_type": "code",
   "execution_count": 42,
   "metadata": {
    "collapsed": false,
    "scrolled": true
   },
   "outputs": [
    {
     "name": "stdout",
     "output_type": "stream",
     "text": [
      "Scores for the column: PUNT_BIOLOGIA\n",
      "Linear Regression:       Mean Score 3.89351262705 STD Scores 0.00833891487173\n",
      "Decision Tree Regressor: Mean Score 3.86183797356 STD Scores 0.0132601760847\n",
      "Random Forest:           Mean Score 3.80585538681 STD Scores 0.00933229209524\n",
      "\n",
      "Scores for the column: PUNT_MATEMATICAS\n",
      "Linear Regression:       Mean Score 4.11046294127 STD Scores 0.0109963864458\n",
      "Decision Tree Regressor: Mean Score 4.08080334383 STD Scores 0.00807587979061\n",
      "Random Forest:           Mean Score 4.06463254093 STD Scores 0.00995372694339\n",
      "\n",
      "Scores for the column: PUNT_FILOSOFIA\n",
      "Linear Regression:       Mean Score 4.36945006174 STD Scores 0.0171968955954\n",
      "Decision Tree Regressor: Mean Score 4.36333827933 STD Scores 0.0116854442857\n",
      "Random Forest:           Mean Score 4.32905052067 STD Scores 0.0135259134094\n",
      "\n",
      "Scores for the column: PUNT_FISICA\n",
      "Linear Regression:       Mean Score 4.62810631225 STD Scores 0.0141284132601\n",
      "Decision Tree Regressor: Mean Score 4.62888732178 STD Scores 0.0127171534755\n",
      "Random Forest:           Mean Score 4.60095636335 STD Scores 0.00798661803374\n",
      "\n",
      "Scores for the column: PUNT_HISTORIA\n",
      "Linear Regression:       Mean Score 4.79000739453 STD Scores 0.0109896669922\n",
      "Decision Tree Regressor: Mean Score 4.74791267948 STD Scores 0.0111004484401\n",
      "Random Forest:           Mean Score 4.64370020935 STD Scores 0.0178546769482\n",
      "\n",
      "Scores for the column: PUNT_QUIMICA\n",
      "Linear Regression:       Mean Score 3.9048863763 STD Scores 0.00699016372971\n",
      "Decision Tree Regressor: Mean Score 3.84918755058 STD Scores 0.012087245785\n",
      "Random Forest:           Mean Score 3.77078811217 STD Scores 0.010168211102\n",
      "\n",
      "Scores for the column: PUNT_LENGUAJE\n",
      "Linear Regression:       Mean Score 4.40755084547 STD Scores 0.0118460278032\n",
      "Decision Tree Regressor: Mean Score 4.35515828812 STD Scores 0.00848337593119\n",
      "Random Forest:           Mean Score 4.27166955301 STD Scores 0.0120232242567\n",
      "\n",
      "Scores for the column: PUNT_GEOGRAFIA\n",
      "Linear Regression:       Mean Score 4.64626632897 STD Scores 0.01680137724\n",
      "Decision Tree Regressor: Mean Score 4.59461147227 STD Scores 0.00438198745939\n",
      "Random Forest:           Mean Score 4.50080614922 STD Scores 0.0126885798727\n",
      "\n",
      "Scores for the column: PUNT_INTERDISCIPLINAR\n",
      "Linear Regression:       Mean Score 4.76504239826 STD Scores 0.0161603702949\n",
      "Decision Tree Regressor: Mean Score 4.33962730223 STD Scores 0.0225511827816\n",
      "Random Forest:           Mean Score 4.32805012146 STD Scores 0.0131612511633\n",
      "\n",
      "Scores for the column: PUNT_IDIOMA\n",
      "Linear Regression:       Mean Score 4.60967257654 STD Scores 0.0213903417748\n",
      "Decision Tree Regressor: Mean Score 4.52397366157 STD Scores 0.0131031528766\n",
      "Random Forest:           Mean Score 4.4177821221 STD Scores 0.00697720647568\n",
      "\n"
     ]
    }
   ],
   "source": [
    "Preds_2001_2 = Predict_all_Subjects(data_2001_2)"
   ]
  },
  {
   "cell_type": "code",
   "execution_count": null,
   "metadata": {
    "collapsed": true
   },
   "outputs": [],
   "source": [
    "Preds_2002 = Predict_all_Subjects(data_2002_1)"
   ]
  },
  {
   "cell_type": "code",
   "execution_count": null,
   "metadata": {
    "collapsed": true
   },
   "outputs": [],
   "source": [
    "Preds_2002_2 = Predict_all_Subjects(data_2002_2)"
   ]
  },
  {
   "cell_type": "code",
   "execution_count": null,
   "metadata": {
    "collapsed": true
   },
   "outputs": [],
   "source": [
    "Preds_2003 = Predict_all_Subjects(data_2003_1)"
   ]
  },
  {
   "cell_type": "code",
   "execution_count": null,
   "metadata": {
    "collapsed": true
   },
   "outputs": [],
   "source": [
    "Preds_2003_2 = Predict_all_Subjects(data_2003_2)"
   ]
  },
  {
   "cell_type": "code",
   "execution_count": 57,
   "metadata": {
    "collapsed": false
   },
   "outputs": [
    {
     "name": "stdout",
     "output_type": "stream",
     "text": [
      "There are no  0 in the DataFrame: []\n",
      "There are no  0 in the DataFrame: []\n",
      "There are no  0 in the DataFrame: []\n",
      "There are no  10 in the DataFrame: ['FAMI_OCUPA_MADRE', 'FAMI_APORTANTES', 'FAMI_OCUPA_PADRE', 'FAMI_EDUCA_PADRE', 'FAMI_PERSONAS_HOGAR', 'FAMI_NUM_HERMANOS', 'FAMI_NUM_HERMANOS_EDUSUPERIOR', 'ESTU_ACT_PROX_ANNO', 'FAMI_EDUCA_MADRE', 'FAMI_INGRESO_FMILIAR_MENSUAL']\n"
     ]
    }
   ],
   "source": [
    "Check_slice(data_2004_1.columns)\n",
    "Check_slice(data_2004_2.columns)"
   ]
  },
  {
   "cell_type": "code",
   "execution_count": null,
   "metadata": {
    "collapsed": true
   },
   "outputs": [],
   "source": [
    "Preds_2004 = Predict_all_Subjects(data_2004_1)"
   ]
  },
  {
   "cell_type": "markdown",
   "metadata": {},
   "source": [
    "____"
   ]
  },
  {
   "cell_type": "code",
   "execution_count": null,
   "metadata": {
    "collapsed": true
   },
   "outputs": [],
   "source": [
    "Preds_2004_2 = Predict_all_Subjects(data_2004_2)"
   ]
  },
  {
   "cell_type": "markdown",
   "metadata": {},
   "source": [
    "____"
   ]
  },
  {
   "cell_type": "code",
   "execution_count": null,
   "metadata": {
    "collapsed": true
   },
   "outputs": [],
   "source": [
    "Preds_2005 = Predict_all_Subjects(data_2005_1)"
   ]
  },
  {
   "cell_type": "code",
   "execution_count": null,
   "metadata": {
    "collapsed": true
   },
   "outputs": [],
   "source": [
    "Preds_2005_2 = Predict_all_Subjects(data_2005_2)"
   ]
  },
  {
   "cell_type": "code",
   "execution_count": null,
   "metadata": {
    "collapsed": true
   },
   "outputs": [],
   "source": [
    "Preds_2006 = Predict_all_Subjects(data_2006_1)"
   ]
  },
  {
   "cell_type": "code",
   "execution_count": null,
   "metadata": {
    "collapsed": true
   },
   "outputs": [],
   "source": [
    "Preds_2006_2 = Predict_all_Subjects(data_2006_2)"
   ]
  },
  {
   "cell_type": "code",
   "execution_count": null,
   "metadata": {
    "collapsed": true
   },
   "outputs": [],
   "source": [
    "Preds_2007 = Predict_all_Subjects(data_2007_1)"
   ]
  },
  {
   "cell_type": "code",
   "execution_count": null,
   "metadata": {
    "collapsed": true
   },
   "outputs": [],
   "source": [
    "Preds_2007_2 = Predict_all_Subjects(data_2007_2)"
   ]
  },
  {
   "cell_type": "markdown",
   "metadata": {},
   "source": [
    "### CROSSED\n",
    "* Training with the first semester and testing with the second.\n",
    "* Training with the second semester and testing with the first of the next Year"
   ]
  },
  {
   "cell_type": "code",
   "execution_count": 39,
   "metadata": {
    "collapsed": false,
    "scrolled": true
   },
   "outputs": [
    {
     "name": "stdout",
     "output_type": "stream",
     "text": [
      "Scores for the Columns/Subject: PUNT_BIOLOGIA\n",
      "Score LR: 104.44124393187163\n",
      "Score DT: 5.146480062272359\n",
      "Score RF: 5.156519245286361\n",
      "\n",
      "Scores for the Columns/Subject: PUNT_MATEMATICAS\n",
      "Score LR: 90.61269984406168\n",
      "Score DT: 4.05230518975471\n",
      "Score RF: 4.262133039398254\n",
      "\n",
      "Scores for the Columns/Subject: PUNT_FILOSOFIA\n",
      "Score LR: 54.18652910758388\n",
      "Score DT: 32.70142459166027\n",
      "Score RF: 7.0971870748581125\n",
      "\n",
      "Scores for the Columns/Subject: PUNT_FISICA\n",
      "Score LR: 25.33418621227563\n",
      "Score DT: 4.844781108964136\n",
      "Score RF: 5.001553722673687\n",
      "\n",
      "Scores for the Columns/Subject: PUNT_HISTORIA\n",
      "Score LR: 5.945035655265956\n",
      "Score DT: 4.723987991333097\n",
      "Score RF: 4.846427106509835\n",
      "\n",
      "Scores for the Columns/Subject: PUNT_QUIMICA\n",
      "Score LR: 124.64275328192014\n",
      "Score DT: 4.99037201327318\n",
      "Score RF: 4.691806032514603\n",
      "\n",
      "Scores for the Columns/Subject: PUNT_LENGUAJE\n",
      "Score LR: 59.08054979227171\n",
      "Score DT: 15.344186572223974\n",
      "Score RF: 6.691069888006724\n",
      "\n",
      "Scores for the Columns/Subject: PUNT_GEOGRAFIA\n",
      "Score LR: 20.75324196120547\n",
      "Score DT: 4.857215617981779\n",
      "Score RF: 5.1570258594143645\n",
      "\n",
      "Scores for the Columns/Subject: PUNT_INTERDISCIPLINAR\n",
      "Score LR: 13.089960612844507\n",
      "Score DT: 9.935364322478591\n",
      "Score RF: 10.700195242869361\n",
      "\n",
      "Scores for the Columns/Subject: PUNT_IDIOMA\n",
      "Score LR: 76.35401736181308\n",
      "Score DT: 9.500011259423431\n",
      "Score RF: 4.807748572856306\n",
      "\n"
     ]
    }
   ],
   "source": [
    "vs_2000 = Test_all_Subjects(data_2000_1, data_2000_2)"
   ]
  },
  {
   "cell_type": "code",
   "execution_count": null,
   "metadata": {
    "collapsed": true
   },
   "outputs": [],
   "source": [
    "vs_2001 = Test_all_Subjects(data_2001_1, data_2001_2)"
   ]
  },
  {
   "cell_type": "code",
   "execution_count": null,
   "metadata": {
    "collapsed": true
   },
   "outputs": [],
   "source": [
    "vs_20012_20021 = Test_all_Subjects(data_2001_2, data_2002_1)"
   ]
  },
  {
   "cell_type": "code",
   "execution_count": null,
   "metadata": {
    "collapsed": true
   },
   "outputs": [],
   "source": [
    "vs_2002 = Test_all_Subjects(data_2002_1, data_2002_2)"
   ]
  },
  {
   "cell_type": "code",
   "execution_count": null,
   "metadata": {
    "collapsed": true
   },
   "outputs": [],
   "source": [
    "vs_20022_20031 = Test_all_Subjects(data_2002_2, data_2003_1)"
   ]
  },
  {
   "cell_type": "code",
   "execution_count": null,
   "metadata": {
    "collapsed": true
   },
   "outputs": [],
   "source": [
    "vs_2003 = Test_all_Subjects(data_2003_1, data_2003_2)"
   ]
  },
  {
   "cell_type": "code",
   "execution_count": null,
   "metadata": {
    "collapsed": true
   },
   "outputs": [],
   "source": [
    "vs_20032_20041 = Test_all_Subjects(data_2003_2, data_2004_1)"
   ]
  },
  {
   "cell_type": "code",
   "execution_count": null,
   "metadata": {
    "collapsed": true
   },
   "outputs": [],
   "source": [
    "vs_2004 = Test_all_Subjects(data_2004_1, data_2004_2)"
   ]
  },
  {
   "cell_type": "code",
   "execution_count": null,
   "metadata": {
    "collapsed": true
   },
   "outputs": [],
   "source": [
    "vs_20042_20051 = Test_all_Subjects(data_2004_2, data_2005_1)"
   ]
  },
  {
   "cell_type": "code",
   "execution_count": null,
   "metadata": {
    "collapsed": true
   },
   "outputs": [],
   "source": [
    "vs_2005 = Test_all_Subjects(data_2005_1, data_2005_2)"
   ]
  },
  {
   "cell_type": "code",
   "execution_count": null,
   "metadata": {
    "collapsed": true
   },
   "outputs": [],
   "source": [
    "vs_20052_20061 = Test_all_Subjects(data_2005_2, data_2006_1)"
   ]
  },
  {
   "cell_type": "code",
   "execution_count": null,
   "metadata": {
    "collapsed": true
   },
   "outputs": [],
   "source": [
    "vs_2006 = Test_all_Subjects(data_2006_1, data_2006_2)"
   ]
  },
  {
   "cell_type": "code",
   "execution_count": null,
   "metadata": {
    "collapsed": true
   },
   "outputs": [],
   "source": [
    "vs_20062_20071 = Test_all_Subjects(data_2006_2, data_2007_1)"
   ]
  },
  {
   "cell_type": "code",
   "execution_count": null,
   "metadata": {
    "collapsed": true
   },
   "outputs": [],
   "source": [
    "vs_2007 = Test_all_Subjects(data_2007_1, data_2007_2)"
   ]
  }
 ],
 "metadata": {
  "kernelspec": {
   "display_name": "Python 3 + Anaconda",
   "language": "python",
   "name": "pyconda3"
  },
  "language_info": {
   "codemirror_mode": {
    "name": "ipython",
    "version": 3
   },
   "file_extension": ".py",
   "mimetype": "text/x-python",
   "name": "python",
   "nbconvert_exporter": "python",
   "pygments_lexer": "ipython3",
   "version": "3.5.1"
  }
 },
 "nbformat": 4,
 "nbformat_minor": 0
}
