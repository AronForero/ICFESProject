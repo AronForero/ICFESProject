{
 "cells": [
  {
   "cell_type": "markdown",
   "metadata": {},
   "source": [
    "# Experimentation with all the files"
   ]
  },
  {
   "cell_type": "code",
   "execution_count": 118,
   "metadata": {
    "collapsed": true
   },
   "outputs": [],
   "source": [
    "import pandas as pd\n",
    "import numpy as np\n",
    "from sklearn.preprocessing import PolynomialFeatures\n",
    "from sklearn.decomposition import PCA\n",
    "from sklearn.cross_validation import ShuffleSplit\n",
    "from sklearn.cross_validation import cross_val_score\n",
    "from sklearn.linear_model import LinearRegression\n",
    "from sklearn.tree import DecisionTreeRegressor\n",
    "from sklearn.ensemble import RandomForestRegressor\n",
    "\n",
    "import matplotlib.pyplot as plt\n",
    "%matplotlib inline\n",
    "%run -i ../tools/Automation_Functions.py\n",
    "%run -i ../tools/Automation_Functions_2014.py"
   ]
  },
  {
   "cell_type": "code",
   "execution_count": 2,
   "metadata": {
    "collapsed": false,
    "scrolled": true
   },
   "outputs": [],
   "source": [
    "data_2000_1 = pd.read_csv('../DatosFTPICFES/SABER11/SB11-BASES_DE_DATOS/READY/2000_1.csv', delimiter=';')\n",
    "data_2000_2 = pd.read_csv('../DatosFTPICFES/SABER11/SB11-BASES_DE_DATOS/READY/2000_2.csv', delimiter=';')\n",
    "\n",
    "data_2001_1 = pd.read_csv('../DatosFTPICFES/SABER11/SB11-BASES_DE_DATOS/READY/2001_1.csv', delimiter=';')\n",
    "data_2001_2 = pd.read_csv('../DatosFTPICFES/SABER11/SB11-BASES_DE_DATOS/READY/2001_2.csv', delimiter=';')\n",
    "\n",
    "data_2002_1 = pd.read_csv('../DatosFTPICFES/SABER11/SB11-BASES_DE_DATOS/READY/2002_1.csv', delimiter=';')\n",
    "data_2002_2 = pd.read_csv('../DatosFTPICFES/SABER11/SB11-BASES_DE_DATOS/READY/2002_2.csv', delimiter=';')\n",
    "\n",
    "data_2003_1 = pd.read_csv('../DatosFTPICFES/SABER11/SB11-BASES_DE_DATOS/READY/2003_1.csv', delimiter=';')\n",
    "data_2003_2 = pd.read_csv('../DatosFTPICFES/SABER11/SB11-BASES_DE_DATOS/READY/2003_2.csv', delimiter=';')\n",
    "\n",
    "data_2004_1 = pd.read_csv('../DatosFTPICFES/SABER11/SB11-BASES_DE_DATOS/READY/2004_1.csv', delimiter=';')\n",
    "data_2004_2 = pd.read_csv('../DatosFTPICFES/SABER11/SB11-BASES_DE_DATOS/READY/2004_2.csv', delimiter=';')\n",
    "\n",
    "data_2005_1 = pd.read_csv('../DatosFTPICFES/SABER11/SB11-BASES_DE_DATOS/READY/2005_1.csv', delimiter=';')\n",
    "data_2005_2 = pd.read_csv('../DatosFTPICFES/SABER11/SB11-BASES_DE_DATOS/READY/2005_2.csv', delimiter=';')\n",
    "\n",
    "data_2006_1 = pd.read_csv('../DatosFTPICFES/SABER11/SB11-BASES_DE_DATOS/READY/2006_1.csv', delimiter=';')\n",
    "data_2006_2 = pd.read_csv('../DatosFTPICFES/SABER11/SB11-BASES_DE_DATOS/READY/2006_2.csv', delimiter=';')\n",
    "\n",
    "data_2007_1 = pd.read_csv('../DatosFTPICFES/SABER11/SB11-BASES_DE_DATOS/READY/2007_1.csv', delimiter=';')\n",
    "data_2007_2 = pd.read_csv('../DatosFTPICFES/SABER11/SB11-BASES_DE_DATOS/READY/2007_2.csv', delimiter=';')\n",
    "\n",
    "data_2008_1 = pd.read_csv('../DatosFTPICFES/SABER11/SB11-BASES_DE_DATOS/READY/2008_1.csv', delimiter=';')\n",
    "data_2008_2 = pd.read_csv('../DatosFTPICFES/SABER11/SB11-BASES_DE_DATOS/READY/2008_2.csv', delimiter=';')\n",
    "\n",
    "data_2009_1 = pd.read_csv('../DatosFTPICFES/SABER11/SB11-BASES_DE_DATOS/READY/2009_1.csv', delimiter=';')\n",
    "data_2009_2 = pd.read_csv('../DatosFTPICFES/SABER11/SB11-BASES_DE_DATOS/READY/2009_2.csv', delimiter=';')\n",
    "\n",
    "data_2010_1 = pd.read_csv('../DatosFTPICFES/SABER11/SB11-BASES_DE_DATOS/READY/2010_1.csv', delimiter=';')\n",
    "data_2010_2 = pd.read_csv('../DatosFTPICFES/SABER11/SB11-BASES_DE_DATOS/READY/2010_2.csv', delimiter=';')\n",
    "\n",
    "data_2011_1 = pd.read_csv('../DatosFTPICFES/SABER11/SB11-BASES_DE_DATOS/READY/2011_1.csv', delimiter=';')\n",
    "data_2011_2 = pd.read_csv('../DatosFTPICFES/SABER11/SB11-BASES_DE_DATOS/READY/2011_2.csv', delimiter=';')\n",
    "\n",
    "data_2012_1 = pd.read_csv('../DatosFTPICFES/SABER11/SB11-BASES_DE_DATOS/READY/2012_1.csv', delimiter=';')\n",
    "data_2012_2 = pd.read_csv('../DatosFTPICFES/SABER11/SB11-BASES_DE_DATOS/READY/2012_2.csv', delimiter=';')\n",
    "\n",
    "data_2013_1 = pd.read_csv('../DatosFTPICFES/SABER11/SB11-BASES_DE_DATOS/READY/2013_1.csv', delimiter=';')\n",
    "data_2013_2 = pd.read_csv('../DatosFTPICFES/SABER11/SB11-BASES_DE_DATOS/READY/2013_2.csv', delimiter=';')\n",
    "\n",
    "data_2014_1 = pd.read_csv('../DatosFTPICFES/SABER11/SB11-BASES_DE_DATOS/READY/2014_1.csv', delimiter=';')\n",
    "data_2014_2 = pd.read_csv('../DatosFTPICFES/SABER11/SB11-BASES_DE_DATOS/READY/2014_2.csv', delimiter=';')\n",
    "\n",
    "data_2015_1 = pd.read_csv('../DatosFTPICFES/SABER11/SB11-BASES_DE_DATOS/READY/2015_1.csv', delimiter=';')\n",
    "data_2015_2 = pd.read_csv('../DatosFTPICFES/SABER11/SB11-BASES_DE_DATOS/READY/2015_2.csv', delimiter=';')\n",
    "\n",
    "data_2016_1 = pd.read_csv('../DatosFTPICFES/SABER11/SB11-BASES_DE_DATOS/READY/2016_1.csv', delimiter=';')\n",
    "data_2016_1_V2 = pd.read_csv('../DatosFTPICFES/SABER11/SB11-BASES_DE_DATOS/READY/2016_1_V2.csv', delimiter=';')\n",
    "data_2016_2 = pd.read_csv('../DatosFTPICFES/SABER11/SB11-BASES_DE_DATOS/READY/2016_2.csv', delimiter=';')\n",
    "\n",
    "data_2017_1 = pd.read_csv('../DatosFTPICFES/SABER11/SB11-BASES_DE_DATOS/READY/2017_1.csv', delimiter=';')"
   ]
  },
  {
   "cell_type": "markdown",
   "metadata": {},
   "source": [
    "# Individual\n",
    "* Train with the 80% of the Data\n",
    "* Test with the 20% of the Data\n",
    "\n",
    "Cross Validation applied in all of this individual tests."
   ]
  },
  {
   "cell_type": "markdown",
   "metadata": {},
   "source": [
    "## 2000:\n",
    "\n",
    "* 2000_1\n",
    "* 2000_2"
   ]
  },
  {
   "cell_type": "code",
   "execution_count": 3,
   "metadata": {
    "collapsed": false,
    "scrolled": true
   },
   "outputs": [
    {
     "name": "stdout",
     "output_type": "stream",
     "text": [
      "Scores for the column: PUNT_BIOLOGIA\n",
      "Linear Regression:       Mean Score 4.4284849889 STD Scores 0.021173432512\n",
      "Decision Tree Regressor: Mean Score 4.53285274117 STD Scores 0.0107568764576\n",
      "Random Forest:           Mean Score 4.33645753072 STD Scores 0.0136054100459\n",
      "\n",
      "Scores for the column: PUNT_MATEMATICAS\n",
      "Linear Regression:       Mean Score 4.54798046884 STD Scores 0.023207998656\n",
      "Decision Tree Regressor: Mean Score 4.57410331123 STD Scores 0.0124746943118\n",
      "Random Forest:           Mean Score 4.47009669999 STD Scores 0.0222943293024\n",
      "\n",
      "Scores for the column: PUNT_FILOSOFIA\n",
      "Linear Regression:       Mean Score 4.70458866058 STD Scores 0.0219930128209\n",
      "Decision Tree Regressor: Mean Score 4.76248962635 STD Scores 0.0199027448102\n",
      "Random Forest:           Mean Score 4.66940054016 STD Scores 0.0261643516667\n",
      "\n",
      "Scores for the column: PUNT_FISICA\n",
      "Linear Regression:       Mean Score 4.82861425961 STD Scores 0.0265802108074\n",
      "Decision Tree Regressor: Mean Score 4.87266417599 STD Scores 0.0262219589017\n",
      "Random Forest:           Mean Score 4.77290547833 STD Scores 0.0260761538756\n",
      "\n",
      "Scores for the column: PUNT_INTERDISCIPLINAR\n",
      "Linear Regression:       Mean Score 5.08015275075 STD Scores 0.0389387594195\n",
      "Decision Tree Regressor: Mean Score 4.91188721785 STD Scores 0.0128592605346\n",
      "Random Forest:           Mean Score 4.8223900441 STD Scores 0.0227601658171\n",
      "\n",
      "Scores for the column: PUNT_QUIMICA\n",
      "Linear Regression:       Mean Score 4.25976150039 STD Scores 0.0145712805916\n",
      "Decision Tree Regressor: Mean Score 4.3034745953 STD Scores 0.0149866250101\n",
      "Random Forest:           Mean Score 4.04773905904 STD Scores 0.0179618012861\n",
      "\n",
      "Scores for the column: PUNT_LENGUAJE\n",
      "Linear Regression:       Mean Score 4.70558522087 STD Scores 0.0235793940441\n",
      "Decision Tree Regressor: Mean Score 4.73382310122 STD Scores 0.0417887768398\n",
      "Random Forest:           Mean Score 4.57153883456 STD Scores 0.0194921591339\n",
      "\n",
      "Scores for the column: PUNT_GEOGRAFIA\n",
      "Linear Regression:       Mean Score 4.75894864004 STD Scores 0.0173863830096\n",
      "Decision Tree Regressor: Mean Score 4.80450956959 STD Scores 0.00760162826601\n",
      "Random Forest:           Mean Score 4.6516882264 STD Scores 0.0202228262108\n",
      "\n",
      "Scores for the column: PUNT_HISTORIA\n",
      "Linear Regression:       Mean Score 4.50629742403 STD Scores 0.0301627155692\n",
      "Decision Tree Regressor: Mean Score 4.59227144242 STD Scores 0.00720482585297\n",
      "Random Forest:           Mean Score 4.42478112465 STD Scores 0.0236147917202\n",
      "\n",
      "Scores for the column: PUNT_IDIOMA\n",
      "Linear Regression:       Mean Score 4.89744282145 STD Scores 0.0069676041922\n",
      "Decision Tree Regressor: Mean Score 4.58299937915 STD Scores 0.0241556350185\n",
      "Random Forest:           Mean Score 4.29116671796 STD Scores 0.020789189385\n",
      "\n"
     ]
    }
   ],
   "source": [
    "Preds_2000_1 = Predict_all_Subjects(data_2000_1);"
   ]
  },
  {
   "cell_type": "code",
   "execution_count": 4,
   "metadata": {
    "collapsed": false,
    "scrolled": true
   },
   "outputs": [
    {
     "name": "stdout",
     "output_type": "stream",
     "text": [
      "Scores for the column: PUNT_BIOLOGIA\n",
      "Linear Regression:       Mean Score 4.04929789721 STD Scores 0.00919347559653\n",
      "Decision Tree Regressor: Mean Score 4.12468678773 STD Scores 0.0166257472883\n",
      "Random Forest:           Mean Score 3.98360125366 STD Scores 0.0126551848279\n",
      "\n",
      "Scores for the column: PUNT_MATEMATICAS\n",
      "Linear Regression:       Mean Score 3.9261150704 STD Scores 0.00768916826697\n",
      "Decision Tree Regressor: Mean Score 3.93680858661 STD Scores 0.00997916302135\n",
      "Random Forest:           Mean Score 3.92614875001 STD Scores 0.00444324453358\n",
      "\n",
      "Scores for the column: PUNT_FILOSOFIA\n",
      "Linear Regression:       Mean Score 4.78567481282 STD Scores 0.00754320798463\n",
      "Decision Tree Regressor: Mean Score 4.83384941912 STD Scores 0.0156917428402\n",
      "Random Forest:           Mean Score 4.7177310074 STD Scores 0.0120133407402\n",
      "\n",
      "Scores for the column: PUNT_FISICA\n",
      "Linear Regression:       Mean Score 4.50839409871 STD Scores 0.019943328941\n",
      "Decision Tree Regressor: Mean Score 4.5144426804 STD Scores 0.0106488527961\n",
      "Random Forest:           Mean Score 4.47740077361 STD Scores 0.0035030274837\n",
      "\n",
      "Scores for the column: PUNT_INTERDISCIPLINAR\n",
      "Linear Regression:       Mean Score 7.09248641455 STD Scores 0.0256669485621\n",
      "Decision Tree Regressor: Mean Score 4.85451313464 STD Scores 0.0296892172204\n",
      "Random Forest:           Mean Score 4.77243397718 STD Scores 0.0166553184625\n",
      "\n",
      "Scores for the column: PUNT_QUIMICA\n",
      "Linear Regression:       Mean Score 3.91480437925 STD Scores 0.00855340938453\n",
      "Decision Tree Regressor: Mean Score 3.97010664377 STD Scores 0.00425746716123\n",
      "Random Forest:           Mean Score 3.83479441602 STD Scores 0.00565469830066\n",
      "\n",
      "Scores for the column: PUNT_LENGUAJE\n",
      "Linear Regression:       Mean Score 4.54813922532 STD Scores 0.00356800253021\n",
      "Decision Tree Regressor: Mean Score 4.64392762078 STD Scores 0.00585050926279\n",
      "Random Forest:           Mean Score 4.46722802912 STD Scores 0.00946057498708\n",
      "\n",
      "Scores for the column: PUNT_GEOGRAFIA\n",
      "Linear Regression:       Mean Score 4.54843868842 STD Scores 0.0129411642532\n",
      "Decision Tree Regressor: Mean Score 4.60027160531 STD Scores 0.00680174653843\n",
      "Random Forest:           Mean Score 4.46403971869 STD Scores 0.00842615162033\n",
      "\n",
      "Scores for the column: PUNT_HISTORIA\n",
      "Linear Regression:       Mean Score 4.43736600108 STD Scores 0.00427137754867\n",
      "Decision Tree Regressor: Mean Score 4.51041889707 STD Scores 0.00696241643458\n",
      "Random Forest:           Mean Score 4.32877966286 STD Scores 0.00635243154651\n",
      "\n",
      "Scores for the column: PUNT_IDIOMA\n",
      "Linear Regression:       Mean Score 4.45377144823 STD Scores 0.00980730230076\n",
      "Decision Tree Regressor: Mean Score 4.46847051397 STD Scores 0.0111582771207\n",
      "Random Forest:           Mean Score 4.31284870038 STD Scores 0.0157870016313\n",
      "\n"
     ]
    }
   ],
   "source": [
    "Preds_2000_2 = Predict_all_Subjects(data_2000_2)"
   ]
  },
  {
   "cell_type": "markdown",
   "metadata": {},
   "source": [
    "## 2001\n",
    "* 2001_1\n",
    "* 2001_2"
   ]
  },
  {
   "cell_type": "code",
   "execution_count": 5,
   "metadata": {
    "collapsed": false,
    "scrolled": true
   },
   "outputs": [
    {
     "name": "stdout",
     "output_type": "stream",
     "text": [
      "Scores for the column: PUNT_BIOLOGIA\n",
      "Linear Regression:       Mean Score 4.05262200561 STD Scores 0.0278604482258\n",
      "Decision Tree Regressor: Mean Score 4.12739387723 STD Scores 0.0243789059886\n",
      "Random Forest:           Mean Score 3.98714565456 STD Scores 0.026828867563\n",
      "\n",
      "Scores for the column: PUNT_MATEMATICAS\n",
      "Linear Regression:       Mean Score 3.81618397934 STD Scores 0.00915262327932\n",
      "Decision Tree Regressor: Mean Score 3.86349922355 STD Scores 0.0202813523502\n",
      "Random Forest:           Mean Score 3.84717617074 STD Scores 0.0169432663915\n",
      "\n",
      "Scores for the column: PUNT_FILOSOFIA\n",
      "Linear Regression:       Mean Score 5.22280277722 STD Scores 0.0244056152639\n",
      "Decision Tree Regressor: Mean Score 5.27525579596 STD Scores 0.0150829232055\n",
      "Random Forest:           Mean Score 5.15732863494 STD Scores 0.0259217711138\n",
      "\n",
      "Scores for the column: PUNT_FISICA\n",
      "Linear Regression:       Mean Score 4.48562536231 STD Scores 0.0325439368177\n",
      "Decision Tree Regressor: Mean Score 4.50995639443 STD Scores 0.0266111930703\n",
      "Random Forest:           Mean Score 4.4893623256 STD Scores 0.0220410202443\n",
      "\n",
      "Scores for the column: PUNT_INTERDISCIPLINAR\n",
      "Linear Regression:       Mean Score 7.09623450748 STD Scores 0.0276936190245\n",
      "Decision Tree Regressor: Mean Score 4.15082988584 STD Scores 0.0179170361704\n",
      "Random Forest:           Mean Score 4.10312325793 STD Scores 0.0225005163316\n",
      "\n",
      "Scores for the column: PUNT_QUIMICA\n",
      "Linear Regression:       Mean Score 3.99107959792 STD Scores 0.0227434937741\n",
      "Decision Tree Regressor: Mean Score 4.03650054293 STD Scores 0.0224241508424\n",
      "Random Forest:           Mean Score 3.86374477694 STD Scores 0.022501894134\n",
      "\n",
      "Scores for the column: PUNT_LENGUAJE\n",
      "Linear Regression:       Mean Score 4.24406175452 STD Scores 0.025288983174\n",
      "Decision Tree Regressor: Mean Score 4.29182540937 STD Scores 0.015271813713\n",
      "Random Forest:           Mean Score 4.1888652387 STD Scores 0.0145191491231\n",
      "\n",
      "Scores for the column: PUNT_GEOGRAFIA\n",
      "Linear Regression:       Mean Score 5.90390397926 STD Scores 0.0402325036649\n",
      "Decision Tree Regressor: Mean Score 6.00297328267 STD Scores 0.0343747566258\n",
      "Random Forest:           Mean Score 5.79839737216 STD Scores 0.0182772718271\n",
      "\n",
      "Scores for the column: PUNT_HISTORIA\n",
      "Linear Regression:       Mean Score 4.34711540525 STD Scores 0.0178722000164\n",
      "Decision Tree Regressor: Mean Score 4.42521196042 STD Scores 0.0239808675934\n",
      "Random Forest:           Mean Score 4.27891475562 STD Scores 0.0198121398949\n",
      "\n",
      "Scores for the column: PUNT_IDIOMA\n",
      "Linear Regression:       Mean Score 5.08893665601 STD Scores 0.0236236370109\n",
      "Decision Tree Regressor: Mean Score 4.81280615586 STD Scores 0.02154215114\n",
      "Random Forest:           Mean Score 4.51880421645 STD Scores 0.0144536722688\n",
      "\n"
     ]
    }
   ],
   "source": [
    "Preds_2001 = Predict_all_Subjects(data_2001_1)"
   ]
  },
  {
   "cell_type": "code",
   "execution_count": 6,
   "metadata": {
    "collapsed": false,
    "scrolled": true
   },
   "outputs": [
    {
     "name": "stdout",
     "output_type": "stream",
     "text": [
      "Scores for the column: PUNT_BIOLOGIA\n",
      "Linear Regression:       Mean Score 3.86448913931 STD Scores 0.00848297445823\n",
      "Decision Tree Regressor: Mean Score 3.9242112668 STD Scores 0.011227387826\n",
      "Random Forest:           Mean Score 3.81553077875 STD Scores 0.00621501344371\n",
      "\n",
      "Scores for the column: PUNT_MATEMATICAS\n",
      "Linear Regression:       Mean Score 4.09388298895 STD Scores 0.0136932521742\n",
      "Decision Tree Regressor: Mean Score 4.11468005857 STD Scores 0.0129999688093\n",
      "Random Forest:           Mean Score 4.0620849845 STD Scores 0.0048731001865\n",
      "\n",
      "Scores for the column: PUNT_FILOSOFIA\n",
      "Linear Regression:       Mean Score 4.37873025812 STD Scores 0.0199541176452\n",
      "Decision Tree Regressor: Mean Score 4.40807550006 STD Scores 0.0128900229602\n",
      "Random Forest:           Mean Score 4.32866250286 STD Scores 0.0105406075695\n",
      "\n",
      "Scores for the column: PUNT_FISICA\n",
      "Linear Regression:       Mean Score 4.62742242739 STD Scores 0.0147744344166\n",
      "Decision Tree Regressor: Mean Score 4.65860493237 STD Scores 0.0128103983291\n",
      "Random Forest:           Mean Score 4.59813496303 STD Scores 0.0137835282278\n",
      "\n",
      "Scores for the column: PUNT_INTERDISCIPLINAR\n",
      "Linear Regression:       Mean Score 4.75038044725 STD Scores 0.0115985188448\n",
      "Decision Tree Regressor: Mean Score 4.3386473772 STD Scores 0.0206902442211\n",
      "Random Forest:           Mean Score 4.33210292713 STD Scores 0.0157356891954\n",
      "\n",
      "Scores for the column: PUNT_QUIMICA\n",
      "Linear Regression:       Mean Score 3.88609685638 STD Scores 0.00527133662772\n",
      "Decision Tree Regressor: Mean Score 3.95612103529 STD Scores 0.00891712044142\n",
      "Random Forest:           Mean Score 3.78135625774 STD Scores 0.00427309643474\n",
      "\n",
      "Scores for the column: PUNT_LENGUAJE\n",
      "Linear Regression:       Mean Score 4.38173519807 STD Scores 0.00770542377861\n",
      "Decision Tree Regressor: Mean Score 4.46015164598 STD Scores 0.0123433705094\n",
      "Random Forest:           Mean Score 4.27403200753 STD Scores 0.0112428211312\n",
      "\n",
      "Scores for the column: PUNT_GEOGRAFIA\n",
      "Linear Regression:       Mean Score 4.62207791793 STD Scores 0.0125337084603\n",
      "Decision Tree Regressor: Mean Score 4.68681842183 STD Scores 0.0234368150183\n",
      "Random Forest:           Mean Score 4.51183787863 STD Scores 0.00882109572166\n",
      "\n",
      "Scores for the column: PUNT_HISTORIA\n",
      "Linear Regression:       Mean Score 4.77402856926 STD Scores 0.0131021464441\n",
      "Decision Tree Regressor: Mean Score 4.8691728527 STD Scores 0.00651553199517\n",
      "Random Forest:           Mean Score 4.64381320093 STD Scores 0.0129515301615\n",
      "\n",
      "Scores for the column: PUNT_IDIOMA\n",
      "Linear Regression:       Mean Score 4.61729990451 STD Scores 0.0138130451867\n",
      "Decision Tree Regressor: Mean Score 4.61865830955 STD Scores 0.00454826088913\n",
      "Random Forest:           Mean Score 4.42717230546 STD Scores 0.0163065699512\n",
      "\n"
     ]
    }
   ],
   "source": [
    "Preds_2001_2 = Predict_all_Subjects(data_2001_2)"
   ]
  },
  {
   "cell_type": "markdown",
   "metadata": {},
   "source": [
    "## 2002\n",
    "* 2002_1\n",
    "* 2002_2"
   ]
  },
  {
   "cell_type": "code",
   "execution_count": 7,
   "metadata": {
    "collapsed": false,
    "scrolled": true
   },
   "outputs": [
    {
     "name": "stdout",
     "output_type": "stream",
     "text": [
      "Scores for the column: PUNT_BIOLOGIA\n",
      "Linear Regression:       Mean Score 3.76738153331 STD Scores 0.0199894477641\n",
      "Decision Tree Regressor: Mean Score 3.83913268713 STD Scores 0.0235618406768\n",
      "Random Forest:           Mean Score 3.71748011556 STD Scores 0.0235019307716\n",
      "\n",
      "Scores for the column: PUNT_MATEMATICAS\n",
      "Linear Regression:       Mean Score 4.08052059617 STD Scores 0.0111542499715\n",
      "Decision Tree Regressor: Mean Score 4.10138603858 STD Scores 0.0378245151053\n",
      "Random Forest:           Mean Score 4.04875413348 STD Scores 0.00884752656551\n",
      "\n",
      "Scores for the column: PUNT_FILOSOFIA\n",
      "Linear Regression:       Mean Score 4.90326738337 STD Scores 0.0233281703299\n",
      "Decision Tree Regressor: Mean Score 4.97034429063 STD Scores 0.01940185584\n",
      "Random Forest:           Mean Score 4.87679175222 STD Scores 0.0199757766668\n",
      "\n",
      "Scores for the column: PUNT_FISICA\n",
      "Linear Regression:       Mean Score 4.58594945008 STD Scores 0.0115209340313\n",
      "Decision Tree Regressor: Mean Score 4.62674965714 STD Scores 0.0225251939886\n",
      "Random Forest:           Mean Score 4.53457879375 STD Scores 0.0287581178099\n",
      "\n",
      "Scores for the column: PUNT_INTERDISCIPLINAR\n",
      "Linear Regression:       Mean Score 5.98637829754 STD Scores 0.0570618765564\n",
      "Decision Tree Regressor: Mean Score 4.7363178458 STD Scores 0.0424081366362\n",
      "Random Forest:           Mean Score 4.65739565056 STD Scores 0.0423095501971\n",
      "\n",
      "Scores for the column: PUNT_QUIMICA\n",
      "Linear Regression:       Mean Score 3.60123385303 STD Scores 0.0157809748919\n",
      "Decision Tree Regressor: Mean Score 3.67803203845 STD Scores 0.0127254357753\n",
      "Random Forest:           Mean Score 3.54317195598 STD Scores 0.0232033761122\n",
      "\n",
      "Scores for the column: PUNT_LENGUAJE\n",
      "Linear Regression:       Mean Score 4.35591196393 STD Scores 0.00995816901818\n",
      "Decision Tree Regressor: Mean Score 4.3957694565 STD Scores 0.0383997831361\n",
      "Random Forest:           Mean Score 4.24915059006 STD Scores 0.0230582361397\n",
      "\n",
      "Scores for the column: PUNT_GEOGRAFIA\n",
      "Linear Regression:       Mean Score 4.16352155258 STD Scores 0.017661743597\n",
      "Decision Tree Regressor: Mean Score 4.24862224405 STD Scores 0.0337611200017\n",
      "Random Forest:           Mean Score 4.15009110206 STD Scores 0.02417813949\n",
      "\n",
      "Scores for the column: PUNT_HISTORIA\n",
      "Linear Regression:       Mean Score 4.05486040675 STD Scores 0.0234793840701\n",
      "Decision Tree Regressor: Mean Score 4.11122566459 STD Scores 0.0226056692237\n",
      "Random Forest:           Mean Score 3.98005904822 STD Scores 0.0253593106666\n",
      "\n",
      "Scores for the column: PUNT_IDIOMA\n",
      "Linear Regression:       Mean Score 5.04906243802 STD Scores 0.0468086867098\n",
      "Decision Tree Regressor: Mean Score 4.77990914084 STD Scores 0.0406135033903\n",
      "Random Forest:           Mean Score 4.45802400852 STD Scores 0.0392477258794\n",
      "\n"
     ]
    }
   ],
   "source": [
    "Preds_2002 = Predict_all_Subjects(data_2002_1)"
   ]
  },
  {
   "cell_type": "code",
   "execution_count": 8,
   "metadata": {
    "collapsed": false,
    "scrolled": true
   },
   "outputs": [
    {
     "name": "stdout",
     "output_type": "stream",
     "text": [
      "Scores for the column: PUNT_BIOLOGIA\n",
      "Linear Regression:       Mean Score 4.50990096853 STD Scores 0.0140485593839\n",
      "Decision Tree Regressor: Mean Score 4.58180613684 STD Scores 0.0130265002102\n",
      "Random Forest:           Mean Score 4.38347416514 STD Scores 0.0162494484742\n",
      "\n",
      "Scores for the column: PUNT_MATEMATICAS\n",
      "Linear Regression:       Mean Score 4.6429929693 STD Scores 0.00933242010335\n",
      "Decision Tree Regressor: Mean Score 4.68203022552 STD Scores 0.0147000926159\n",
      "Random Forest:           Mean Score 4.58234043613 STD Scores 0.0136889119696\n",
      "\n",
      "Scores for the column: PUNT_FILOSOFIA\n",
      "Linear Regression:       Mean Score 4.54232595646 STD Scores 0.00381297451797\n",
      "Decision Tree Regressor: Mean Score 4.57051891795 STD Scores 0.00532150243842\n",
      "Random Forest:           Mean Score 4.51911313039 STD Scores 0.0101322506531\n",
      "\n",
      "Scores for the column: PUNT_FISICA\n",
      "Linear Regression:       Mean Score 4.51780610703 STD Scores 0.0094720169725\n",
      "Decision Tree Regressor: Mean Score 4.51862410159 STD Scores 0.00868656327903\n",
      "Random Forest:           Mean Score 4.47529867292 STD Scores 0.00911900742148\n",
      "\n",
      "Scores for the column: PUNT_INTERDISCIPLINAR\n",
      "Linear Regression:       Mean Score 5.86098782249 STD Scores 0.00988731573125\n",
      "Decision Tree Regressor: Mean Score 4.63020820118 STD Scores 0.0122156053751\n",
      "Random Forest:           Mean Score 4.489817587 STD Scores 0.00564607451499\n",
      "\n",
      "Scores for the column: PUNT_QUIMICA\n",
      "Linear Regression:       Mean Score 4.0292575823 STD Scores 0.00800046165786\n",
      "Decision Tree Regressor: Mean Score 4.05564794109 STD Scores 0.011795433234\n",
      "Random Forest:           Mean Score 3.89869392847 STD Scores 0.0122076159612\n",
      "\n",
      "Scores for the column: PUNT_LENGUAJE\n",
      "Linear Regression:       Mean Score 4.92334096298 STD Scores 0.0058808930671\n",
      "Decision Tree Regressor: Mean Score 5.01969003063 STD Scores 0.0127596869549\n",
      "Random Forest:           Mean Score 4.79720007625 STD Scores 0.0130456423325\n",
      "\n",
      "Scores for the column: PUNT_GEOGRAFIA\n",
      "Linear Regression:       Mean Score 4.67798571599 STD Scores 0.00470139103951\n",
      "Decision Tree Regressor: Mean Score 4.74597398769 STD Scores 0.00938721797171\n",
      "Random Forest:           Mean Score 4.59109581985 STD Scores 0.00688790775389\n",
      "\n",
      "Scores for the column: PUNT_HISTORIA\n",
      "Linear Regression:       Mean Score 3.97043625536 STD Scores 0.00700903166557\n",
      "Decision Tree Regressor: Mean Score 4.02304756371 STD Scores 0.00975555012991\n",
      "Random Forest:           Mean Score 3.88523801627 STD Scores 0.0139368347019\n",
      "\n",
      "Scores for the column: PUNT_IDIOMA\n",
      "Linear Regression:       Mean Score 4.21994799531 STD Scores 0.0128739762184\n",
      "Decision Tree Regressor: Mean Score 4.19770051457 STD Scores 0.0110427768161\n",
      "Random Forest:           Mean Score 4.06370664498 STD Scores 0.0151256454824\n",
      "\n"
     ]
    }
   ],
   "source": [
    "Preds_2002_2 = Predict_all_Subjects(data_2002_2)"
   ]
  },
  {
   "cell_type": "markdown",
   "metadata": {},
   "source": [
    "## 2003\n",
    "* 2003_1\n",
    "* 2003_2"
   ]
  },
  {
   "cell_type": "code",
   "execution_count": 9,
   "metadata": {
    "collapsed": false,
    "scrolled": true
   },
   "outputs": [
    {
     "name": "stdout",
     "output_type": "stream",
     "text": [
      "Scores for the column: PUNT_BIOLOGIA\n",
      "Linear Regression:       Mean Score 4.29588670168 STD Scores 0.0158000062925\n",
      "Decision Tree Regressor: Mean Score 4.43577786693 STD Scores 0.026866805155\n",
      "Random Forest:           Mean Score 4.20078460981 STD Scores 0.0154023395381\n",
      "\n",
      "Scores for the column: PUNT_MATEMATICAS\n",
      "Linear Regression:       Mean Score 4.11348684787 STD Scores 0.0206864081095\n",
      "Decision Tree Regressor: Mean Score 4.17363979727 STD Scores 0.0198018666893\n",
      "Random Forest:           Mean Score 4.08834401088 STD Scores 0.0189759284292\n",
      "\n",
      "Scores for the column: PUNT_FILOSOFIA\n",
      "Linear Regression:       Mean Score 4.37780655821 STD Scores 0.0174624777496\n",
      "Decision Tree Regressor: Mean Score 4.39369340981 STD Scores 0.0179746263357\n",
      "Random Forest:           Mean Score 4.32365251969 STD Scores 0.0179522500645\n",
      "\n",
      "Scores for the column: PUNT_FISICA\n",
      "Linear Regression:       Mean Score 4.44277720359 STD Scores 0.0281446694245\n",
      "Decision Tree Regressor: Mean Score 4.52462737242 STD Scores 0.0473345032724\n",
      "Random Forest:           Mean Score 4.42139325318 STD Scores 0.0225281090714\n",
      "\n",
      "Scores for the column: PUNT_INTERDISCIPLINAR\n",
      "Linear Regression:       Mean Score 5.56925656029 STD Scores 0.0346501444245\n",
      "Decision Tree Regressor: Mean Score 4.22777786397 STD Scores 0.0363350726907\n",
      "Random Forest:           Mean Score 4.15976303018 STD Scores 0.0359111708415\n",
      "\n",
      "Scores for the column: PUNT_QUIMICA\n",
      "Linear Regression:       Mean Score 3.85941258687 STD Scores 0.0186175177918\n",
      "Decision Tree Regressor: Mean Score 3.88782755045 STD Scores 0.018939394706\n",
      "Random Forest:           Mean Score 3.71871653134 STD Scores 0.0296804590493\n",
      "\n",
      "Scores for the column: PUNT_LENGUAJE\n",
      "Linear Regression:       Mean Score 4.39677250403 STD Scores 0.0355168207352\n",
      "Decision Tree Regressor: Mean Score 4.51383943257 STD Scores 0.0177338074215\n",
      "Random Forest:           Mean Score 4.30706740974 STD Scores 0.0207150072352\n",
      "\n",
      "Scores for the column: PUNT_GEOGRAFIA\n",
      "Linear Regression:       Mean Score 4.93510377214 STD Scores 0.0260484667901\n",
      "Decision Tree Regressor: Mean Score 4.99723174805 STD Scores 0.0145259141717\n",
      "Random Forest:           Mean Score 4.81088308701 STD Scores 0.0105158543299\n",
      "\n",
      "Scores for the column: PUNT_HISTORIA\n",
      "Linear Regression:       Mean Score 4.13195304885 STD Scores 0.0123248579277\n",
      "Decision Tree Regressor: Mean Score 4.21738343381 STD Scores 0.0323580563978\n",
      "Random Forest:           Mean Score 4.05442922575 STD Scores 0.0308850471007\n",
      "\n",
      "Scores for the column: PUNT_IDIOMA\n",
      "Linear Regression:       Mean Score 4.95489253948 STD Scores 0.0164434381405\n",
      "Decision Tree Regressor: Mean Score 4.76584307686 STD Scores 0.0583445543368\n",
      "Random Forest:           Mean Score 4.35566743655 STD Scores 0.0176465434008\n",
      "\n"
     ]
    }
   ],
   "source": [
    "Preds_2003 = Predict_all_Subjects(data_2003_1)"
   ]
  },
  {
   "cell_type": "code",
   "execution_count": 10,
   "metadata": {
    "collapsed": false,
    "scrolled": true
   },
   "outputs": [
    {
     "name": "stdout",
     "output_type": "stream",
     "text": [
      "Scores for the column: PUNT_BIOLOGIA\n",
      "Linear Regression:       Mean Score 4.38823710048 STD Scores 0.00946884088406\n",
      "Decision Tree Regressor: Mean Score 4.49806152593 STD Scores 0.0100868916971\n",
      "Random Forest:           Mean Score 4.28505437539 STD Scores 0.0121050894976\n",
      "\n",
      "Scores for the column: PUNT_MATEMATICAS\n",
      "Linear Regression:       Mean Score 3.97296821269 STD Scores 0.0155773722129\n",
      "Decision Tree Regressor: Mean Score 3.96575208314 STD Scores 0.00886163528203\n",
      "Random Forest:           Mean Score 3.93816326517 STD Scores 0.0094207750843\n",
      "\n",
      "Scores for the column: PUNT_FILOSOFIA\n",
      "Linear Regression:       Mean Score 4.37687879449 STD Scores 0.00903067705369\n",
      "Decision Tree Regressor: Mean Score 4.39220300228 STD Scores 0.00770822601181\n",
      "Random Forest:           Mean Score 4.35002303755 STD Scores 0.0133548962394\n",
      "\n",
      "Scores for the column: PUNT_FISICA\n",
      "Linear Regression:       Mean Score 4.89344921005 STD Scores 0.00718666432071\n",
      "Decision Tree Regressor: Mean Score 4.94762682963 STD Scores 0.0117385923214\n",
      "Random Forest:           Mean Score 4.80919103921 STD Scores 0.00567529371182\n",
      "\n",
      "Scores for the column: PUNT_INTERDISCIPLINAR\n",
      "Linear Regression:       Mean Score 6.64494116518 STD Scores 0.00822733272387\n",
      "Decision Tree Regressor: Mean Score 6.68333683345 STD Scores 0.00864104032806\n",
      "Random Forest:           Mean Score 6.52987200832 STD Scores 0.0131463116548\n",
      "\n",
      "Scores for the column: PUNT_QUIMICA\n",
      "Linear Regression:       Mean Score 4.33794072166 STD Scores 0.0100836976333\n",
      "Decision Tree Regressor: Mean Score 4.4226107095 STD Scores 0.0104794633871\n",
      "Random Forest:           Mean Score 4.16694680735 STD Scores 0.00922141512158\n",
      "\n",
      "Scores for the column: PUNT_LENGUAJE\n",
      "Linear Regression:       Mean Score 5.65936760974 STD Scores 0.00905349120675\n",
      "Decision Tree Regressor: Mean Score 5.79445726224 STD Scores 0.0130079080647\n",
      "Random Forest:           Mean Score 5.44638624083 STD Scores 0.0155819398628\n",
      "\n",
      "Scores for the column: PUNT_GEOGRAFIA\n",
      "Linear Regression:       Mean Score 5.07564292774 STD Scores 0.0130480452533\n",
      "Decision Tree Regressor: Mean Score 5.13038204133 STD Scores 0.00876894579745\n",
      "Random Forest:           Mean Score 4.93134976536 STD Scores 0.0150102095066\n",
      "\n",
      "Scores for the column: PUNT_HISTORIA\n",
      "Linear Regression:       Mean Score 4.18603090322 STD Scores 0.00993444523023\n",
      "Decision Tree Regressor: Mean Score 4.21712875515 STD Scores 0.010630646151\n",
      "Random Forest:           Mean Score 4.09016408194 STD Scores 0.00712657244723\n",
      "\n",
      "Scores for the column: PUNT_IDIOMA\n",
      "Linear Regression:       Mean Score 4.41689436613 STD Scores 0.00660566084894\n",
      "Decision Tree Regressor: Mean Score 4.35906692795 STD Scores 0.00788560039856\n",
      "Random Forest:           Mean Score 4.19676919859 STD Scores 0.0133242123994\n",
      "\n"
     ]
    }
   ],
   "source": [
    "Preds_2003_2 = Predict_all_Subjects(data_2003_2)"
   ]
  },
  {
   "cell_type": "markdown",
   "metadata": {},
   "source": [
    "## 2004\n",
    "* 2004_1\n",
    "* 2004_2\n",
    "\n",
    "In the first file everything is OK  \n",
    "But in the second one there are no several variables used to the predictions, SO THIS FILE WILL NOT BE USED."
   ]
  },
  {
   "cell_type": "code",
   "execution_count": 11,
   "metadata": {
    "collapsed": false,
    "scrolled": true
   },
   "outputs": [
    {
     "name": "stdout",
     "output_type": "stream",
     "text": [
      "Scores for the column: PUNT_BIOLOGIA\n",
      "Linear Regression:       Mean Score 4.33781928377 STD Scores 0.0216290495223\n",
      "Decision Tree Regressor: Mean Score 4.37356488813 STD Scores 0.0307432817788\n",
      "Random Forest:           Mean Score 4.2112827511 STD Scores 0.0334387967527\n",
      "\n",
      "Scores for the column: PUNT_MATEMATICAS\n",
      "Linear Regression:       Mean Score 5.34513583346 STD Scores 0.0253461752066\n",
      "Decision Tree Regressor: Mean Score 5.40714984337 STD Scores 0.0382701768063\n",
      "Random Forest:           Mean Score 5.3484161735 STD Scores 0.0419460366102\n",
      "\n",
      "Scores for the column: PUNT_FILOSOFIA\n",
      "Linear Regression:       Mean Score 6.53892874161 STD Scores 0.0389662383059\n",
      "Decision Tree Regressor: Mean Score 6.58817589696 STD Scores 0.0357577445784\n",
      "Random Forest:           Mean Score 6.32670631057 STD Scores 0.0603576590253\n",
      "\n",
      "Scores for the column: PUNT_FISICA\n",
      "Linear Regression:       Mean Score 4.6072285079 STD Scores 0.0242505671459\n",
      "Decision Tree Regressor: Mean Score 4.64162250028 STD Scores 0.0415976562262\n",
      "Random Forest:           Mean Score 4.55499919176 STD Scores 0.0164160298931\n",
      "\n",
      "Scores for the column: PUNT_INTERDISCIPLINAR\n",
      "Linear Regression:       Mean Score 6.81014913181 STD Scores 0.0426756666357\n",
      "Decision Tree Regressor: Mean Score 6.86967093851 STD Scores 0.0225937211076\n",
      "Random Forest:           Mean Score 6.62872900346 STD Scores 0.0480648953872\n",
      "\n",
      "Scores for the column: PUNT_QUIMICA\n",
      "Linear Regression:       Mean Score 4.23347725485 STD Scores 0.0368981707331\n",
      "Decision Tree Regressor: Mean Score 4.23729616018 STD Scores 0.0163488365476\n",
      "Random Forest:           Mean Score 4.03512602045 STD Scores 0.0358820385911\n",
      "\n",
      "Scores for the column: PUNT_LENGUAJE\n",
      "Linear Regression:       Mean Score 6.33716841558 STD Scores 0.0414743113252\n",
      "Decision Tree Regressor: Mean Score 6.33293175504 STD Scores 0.0437054194435\n",
      "Random Forest:           Mean Score 6.04914554394 STD Scores 0.0169118412608\n",
      "\n",
      "Scores for the column: PUNT_GEOGRAFIA\n",
      "Linear Regression:       Mean Score 4.55427460442 STD Scores 0.0163512996201\n",
      "Decision Tree Regressor: Mean Score 4.57339274088 STD Scores 0.0361623000629\n",
      "Random Forest:           Mean Score 4.4196235846 STD Scores 0.0415268067094\n",
      "\n",
      "Scores for the column: PUNT_HISTORIA\n",
      "Linear Regression:       Mean Score 3.85669631873 STD Scores 0.023171243358\n",
      "Decision Tree Regressor: Mean Score 3.86347608461 STD Scores 0.0177664183198\n",
      "Random Forest:           Mean Score 3.77584265927 STD Scores 0.0260233092143\n",
      "\n",
      "Scores for the column: PUNT_IDIOMA\n",
      "Linear Regression:       Mean Score 4.81215034027 STD Scores 0.019574315522\n",
      "Decision Tree Regressor: Mean Score 4.43489781404 STD Scores 0.0269458943061\n",
      "Random Forest:           Mean Score 4.1376890564 STD Scores 0.0198886065727\n",
      "\n"
     ]
    }
   ],
   "source": [
    "Preds_2004 = Predict_all_Subjects(data_2004_1)"
   ]
  },
  {
   "cell_type": "markdown",
   "metadata": {},
   "source": [
    "____"
   ]
  },
  {
   "cell_type": "code",
   "execution_count": 12,
   "metadata": {
    "collapsed": false,
    "scrolled": true
   },
   "outputs": [
    {
     "name": "stdout",
     "output_type": "stream",
     "text": [
      "Scores for the column: PUNT_BIOLOGIA\n",
      "Linear Regression:       Mean Score -1.0 STD Scores 0.0\n",
      "Decision Tree Regressor: Mean Score -1.0 STD Scores 0.0\n",
      "Random Forest:           Mean Score -1.0 STD Scores 0.0\n",
      "\n",
      "Scores for the column: PUNT_MATEMATICAS\n",
      "Linear Regression:       Mean Score -1.0 STD Scores 0.0\n",
      "Decision Tree Regressor: Mean Score -1.0 STD Scores 0.0\n",
      "Random Forest:           Mean Score -1.0 STD Scores 0.0\n",
      "\n",
      "Scores for the column: PUNT_FILOSOFIA\n",
      "Linear Regression:       Mean Score -1.0 STD Scores 0.0\n",
      "Decision Tree Regressor: Mean Score -1.0 STD Scores 0.0\n",
      "Random Forest:           Mean Score -1.0 STD Scores 0.0\n",
      "\n",
      "Scores for the column: PUNT_FISICA\n",
      "Linear Regression:       Mean Score -1.0 STD Scores 0.0\n",
      "Decision Tree Regressor: Mean Score -1.0 STD Scores 0.0\n",
      "Random Forest:           Mean Score -1.0 STD Scores 0.0\n",
      "\n",
      "Scores for the column: PUNT_INTERDISCIPLINAR\n",
      "Linear Regression:       Mean Score -1.0 STD Scores 0.0\n",
      "Decision Tree Regressor: Mean Score -1.0 STD Scores 0.0\n",
      "Random Forest:           Mean Score -1.0 STD Scores 0.0\n",
      "\n",
      "Scores for the column: PUNT_QUIMICA\n",
      "Linear Regression:       Mean Score -1.0 STD Scores 0.0\n",
      "Decision Tree Regressor: Mean Score -1.0 STD Scores 0.0\n",
      "Random Forest:           Mean Score -1.0 STD Scores 0.0\n",
      "\n",
      "Scores for the column: PUNT_LENGUAJE\n",
      "Linear Regression:       Mean Score -1.0 STD Scores 0.0\n",
      "Decision Tree Regressor: Mean Score -1.0 STD Scores 0.0\n",
      "Random Forest:           Mean Score -1.0 STD Scores 0.0\n",
      "\n",
      "Scores for the column: PUNT_GEOGRAFIA\n",
      "Linear Regression:       Mean Score -1.0 STD Scores 0.0\n",
      "Decision Tree Regressor: Mean Score -1.0 STD Scores 0.0\n",
      "Random Forest:           Mean Score -1.0 STD Scores 0.0\n",
      "\n",
      "Scores for the column: PUNT_HISTORIA\n",
      "Linear Regression:       Mean Score -1.0 STD Scores 0.0\n",
      "Decision Tree Regressor: Mean Score -1.0 STD Scores 0.0\n",
      "Random Forest:           Mean Score -1.0 STD Scores 0.0\n",
      "\n",
      "Scores for the column: PUNT_IDIOMA\n",
      "Linear Regression:       Mean Score -1.0 STD Scores 0.0\n",
      "Decision Tree Regressor: Mean Score -1.0 STD Scores 0.0\n",
      "Random Forest:           Mean Score -1.0 STD Scores 0.0\n",
      "\n"
     ]
    }
   ],
   "source": [
    "Preds_2004_2 = Predict_all_Subjects(data_2004_2)"
   ]
  },
  {
   "cell_type": "markdown",
   "metadata": {},
   "source": [
    "____"
   ]
  },
  {
   "cell_type": "markdown",
   "metadata": {},
   "source": [
    "## 2005\n",
    "* 2005_1\n",
    "* 2005_2\n",
    "\n",
    "The file of the 2005_1 has 43 columns, so, after take the targets, remains just 33 columns, so the PCA with 35 Components could not be implemented. So in this case the PCA will be implemented with 33 Components"
   ]
  },
  {
   "cell_type": "code",
   "execution_count": 13,
   "metadata": {
    "collapsed": false,
    "scrolled": true
   },
   "outputs": [
    {
     "name": "stdout",
     "output_type": "stream",
     "text": [
      "Scores for the column: PUNT_BIOLOGIA\n",
      "Linear Regression:       Mean Score -1.0 STD Scores 0.0\n",
      "Decision Tree Regressor: Mean Score -1.0 STD Scores 0.0\n",
      "Random Forest:           Mean Score -1.0 STD Scores 0.0\n",
      "\n",
      "Scores for the column: PUNT_MATEMATICAS\n",
      "Linear Regression:       Mean Score -1.0 STD Scores 0.0\n",
      "Decision Tree Regressor: Mean Score -1.0 STD Scores 0.0\n",
      "Random Forest:           Mean Score -1.0 STD Scores 0.0\n",
      "\n",
      "Scores for the column: PUNT_FILOSOFIA\n",
      "Linear Regression:       Mean Score -1.0 STD Scores 0.0\n",
      "Decision Tree Regressor: Mean Score -1.0 STD Scores 0.0\n",
      "Random Forest:           Mean Score -1.0 STD Scores 0.0\n",
      "\n",
      "Scores for the column: PUNT_FISICA\n",
      "Linear Regression:       Mean Score -1.0 STD Scores 0.0\n",
      "Decision Tree Regressor: Mean Score -1.0 STD Scores 0.0\n",
      "Random Forest:           Mean Score -1.0 STD Scores 0.0\n",
      "\n",
      "Scores for the column: PUNT_INTERDISCIPLINAR\n",
      "Linear Regression:       Mean Score -1.0 STD Scores 0.0\n",
      "Decision Tree Regressor: Mean Score -1.0 STD Scores 0.0\n",
      "Random Forest:           Mean Score -1.0 STD Scores 0.0\n",
      "\n",
      "Scores for the column: PUNT_QUIMICA\n",
      "Linear Regression:       Mean Score -1.0 STD Scores 0.0\n",
      "Decision Tree Regressor: Mean Score -1.0 STD Scores 0.0\n",
      "Random Forest:           Mean Score -1.0 STD Scores 0.0\n",
      "\n",
      "Scores for the column: PUNT_LENGUAJE\n",
      "Linear Regression:       Mean Score -1.0 STD Scores 0.0\n",
      "Decision Tree Regressor: Mean Score -1.0 STD Scores 0.0\n",
      "Random Forest:           Mean Score -1.0 STD Scores 0.0\n",
      "\n",
      "Scores for the column: PUNT_GEOGRAFIA\n",
      "Linear Regression:       Mean Score -1.0 STD Scores 0.0\n",
      "Decision Tree Regressor: Mean Score -1.0 STD Scores 0.0\n",
      "Random Forest:           Mean Score -1.0 STD Scores 0.0\n",
      "\n",
      "Scores for the column: PUNT_HISTORIA\n",
      "Linear Regression:       Mean Score -1.0 STD Scores 0.0\n",
      "Decision Tree Regressor: Mean Score -1.0 STD Scores 0.0\n",
      "Random Forest:           Mean Score -1.0 STD Scores 0.0\n",
      "\n",
      "Scores for the column: PUNT_IDIOMA\n",
      "Linear Regression:       Mean Score -1.0 STD Scores 0.0\n",
      "Decision Tree Regressor: Mean Score -1.0 STD Scores 0.0\n",
      "Random Forest:           Mean Score -1.0 STD Scores 0.0\n",
      "\n",
      "Scores for the column: PUNT_PROFUNDIZACION\n",
      "Linear Regression:       Mean Score -1.0 STD Scores 0.0\n",
      "Decision Tree Regressor: Mean Score -1.0 STD Scores 0.0\n",
      "Random Forest:           Mean Score -1.0 STD Scores 0.0\n",
      "\n",
      "Scores for the column: ESTU_PUESTO\n",
      "Linear Regression:       Mean Score -1.0 STD Scores 0.0\n",
      "Decision Tree Regressor: Mean Score -1.0 STD Scores 0.0\n",
      "Random Forest:           Mean Score -1.0 STD Scores 0.0\n",
      "\n"
     ]
    }
   ],
   "source": [
    "Preds_2005 = Predict_all_Subjects(data_2005_1)"
   ]
  },
  {
   "cell_type": "code",
   "execution_count": 14,
   "metadata": {
    "collapsed": false,
    "scrolled": true
   },
   "outputs": [
    {
     "name": "stdout",
     "output_type": "stream",
     "text": [
      "Scores for the column: PUNT_BIOLOGIA\n",
      "Linear Regression:       Mean Score 4.97857705458 STD Scores 0.0118868807768\n",
      "Decision Tree Regressor: Mean Score 5.00203478857 STD Scores 0.00350018791493\n",
      "Random Forest:           Mean Score -1.0 STD Scores 0.0\n",
      "\n",
      "Scores for the column: PUNT_MATEMATICAS\n",
      "Linear Regression:       Mean Score 5.81700075592 STD Scores 0.0158504029999\n",
      "Decision Tree Regressor: Mean Score 5.78532743227 STD Scores 0.0230954550279\n",
      "Random Forest:           Mean Score -1.0 STD Scores 0.0\n",
      "\n",
      "Scores for the column: PUNT_FILOSOFIA\n",
      "Linear Regression:       Mean Score 5.55350366514 STD Scores 0.00838354125257\n",
      "Decision Tree Regressor: Mean Score 5.57896698067 STD Scores 0.0124859197734\n",
      "Random Forest:           Mean Score -1.0 STD Scores 0.0\n",
      "\n",
      "Scores for the column: PUNT_FISICA\n",
      "Linear Regression:       Mean Score 5.77291712742 STD Scores 0.0135242662906\n",
      "Decision Tree Regressor: Mean Score 5.75511201003 STD Scores 0.0118495377303\n",
      "Random Forest:           Mean Score -1.0 STD Scores 0.0\n",
      "\n",
      "Scores for the column: PUNT_INTERDISCIPLINAR\n",
      "Linear Regression:       Mean Score 4.48114316493 STD Scores 0.0117058933145\n",
      "Decision Tree Regressor: Mean Score 5.6157755864 STD Scores 0.0125266162807\n",
      "Random Forest:           Mean Score -1.0 STD Scores 0.0\n",
      "\n",
      "Scores for the column: PUNT_QUIMICA\n",
      "Linear Regression:       Mean Score 4.57254659748 STD Scores 0.00425631052953\n",
      "Decision Tree Regressor: Mean Score 4.58243068573 STD Scores 0.00726097356364\n",
      "Random Forest:           Mean Score -1.0 STD Scores 0.0\n",
      "\n",
      "Scores for the column: PUNT_LENGUAJE\n",
      "Linear Regression:       Mean Score 6.08900949248 STD Scores 0.00954189189867\n",
      "Decision Tree Regressor: Mean Score 6.16835798828 STD Scores 0.0147461012772\n",
      "Random Forest:           Mean Score -1.0 STD Scores 0.0\n",
      "\n",
      "Scores for the column: PUNT_GEOGRAFIA\n",
      "Linear Regression:       Mean Score 4.63495789031 STD Scores 0.00326238105923\n",
      "Decision Tree Regressor: Mean Score 4.66571448941 STD Scores 0.00467390549422\n",
      "Random Forest:           Mean Score -1.0 STD Scores 0.0\n",
      "\n",
      "Scores for the column: PUNT_HISTORIA\n",
      "Linear Regression:       Mean Score 4.81313078455 STD Scores 0.00462060254729\n",
      "Decision Tree Regressor: Mean Score 4.83772137186 STD Scores 0.0111394802176\n",
      "Random Forest:           Mean Score -1.0 STD Scores 0.0\n",
      "\n",
      "Scores for the column: PUNT_IDIOMA\n",
      "Linear Regression:       Mean Score 4.87821101728 STD Scores 0.0108992972286\n",
      "Decision Tree Regressor: Mean Score 4.86484513138 STD Scores 0.00987626224764\n",
      "Random Forest:           Mean Score -1.0 STD Scores 0.0\n",
      "\n",
      "Scores for the column: PUNT_PROFUNDIZACION\n",
      "Linear Regression:       Mean Score 0.383654862498 STD Scores 0.000637368189695\n",
      "Decision Tree Regressor: Mean Score 0.379551959271 STD Scores 0.00132120023819\n",
      "Random Forest:           Mean Score -1.0 STD Scores 0.0\n",
      "\n",
      "Scores for the column: ESTU_PUESTO\n",
      "Linear Regression:       Mean Score 193.475511213 STD Scores 0.43277784169\n",
      "Decision Tree Regressor: Mean Score 197.321034829 STD Scores 0.29179084561\n",
      "Random Forest:           Mean Score -1.0 STD Scores 0.0\n",
      "\n"
     ]
    }
   ],
   "source": [
    "Preds_2005_2 = Predict_all_Subjects(data_2005_2)"
   ]
  },
  {
   "cell_type": "markdown",
   "metadata": {},
   "source": [
    "## 2006\n",
    "* 2006_1\n",
    "* 2006_2"
   ]
  },
  {
   "cell_type": "code",
   "execution_count": 15,
   "metadata": {
    "collapsed": false,
    "scrolled": true
   },
   "outputs": [
    {
     "name": "stdout",
     "output_type": "stream",
     "text": [
      "Scores for the column: PUNT_BIOLOGIA\n",
      "Linear Regression:       Mean Score 5.57068569187 STD Scores 0.0283734255658\n",
      "Decision Tree Regressor: Mean Score 5.65969724824 STD Scores 0.0355895728497\n",
      "Random Forest:           Mean Score -1.0 STD Scores 0.0\n",
      "\n",
      "Scores for the column: PUNT_MATEMATICAS\n",
      "Linear Regression:       Mean Score 6.41626522345 STD Scores 0.0391321805755\n",
      "Decision Tree Regressor: Mean Score 6.355370354 STD Scores 0.0292504509786\n",
      "Random Forest:           Mean Score -1.0 STD Scores 0.0\n",
      "\n",
      "Scores for the column: PUNT_FILOSOFIA\n",
      "Linear Regression:       Mean Score 5.70158133029 STD Scores 0.0323898324264\n",
      "Decision Tree Regressor: Mean Score 5.79940091315 STD Scores 0.0414277050281\n",
      "Random Forest:           Mean Score -1.0 STD Scores 0.0\n",
      "\n",
      "Scores for the column: PUNT_FISICA\n",
      "Linear Regression:       Mean Score 5.56828519864 STD Scores 0.0375173689365\n",
      "Decision Tree Regressor: Mean Score 5.57411336538 STD Scores 0.0257812734858\n",
      "Random Forest:           Mean Score -1.0 STD Scores 0.0\n",
      "\n",
      "Scores for the column: PUNT_INTERDISCIPLINAR\n",
      "Linear Regression:       Mean Score 5.58829393671 STD Scores 0.0299766947358\n",
      "Decision Tree Regressor: Mean Score 5.68217170462 STD Scores 0.0342021421381\n",
      "Random Forest:           Mean Score -1.0 STD Scores 0.0\n",
      "\n",
      "Scores for the column: PUNT_QUIMICA\n",
      "Linear Regression:       Mean Score 4.22427824907 STD Scores 0.0102086784129\n",
      "Decision Tree Regressor: Mean Score 4.24522331534 STD Scores 0.0208763510661\n",
      "Random Forest:           Mean Score -1.0 STD Scores 0.0\n",
      "\n",
      "Scores for the column: PUNT_LENGUAJE\n",
      "Linear Regression:       Mean Score 5.61140754524 STD Scores 0.0246954742221\n",
      "Decision Tree Regressor: Mean Score 5.66234114071 STD Scores 0.0299702029739\n",
      "Random Forest:           Mean Score -1.0 STD Scores 0.0\n",
      "\n",
      "Scores for the column: PUNT_IDIOMA\n",
      "Linear Regression:       Mean Score 6.84499300441 STD Scores 0.0733709112625\n",
      "Decision Tree Regressor: Mean Score 6.55242590126 STD Scores 0.0590799845084\n",
      "Random Forest:           Mean Score -1.0 STD Scores 0.0\n",
      "\n",
      "Scores for the column: PUNT_C_SOCIALES\n",
      "Linear Regression:       Mean Score 3.60121843849 STD Scores 0.024583978415\n",
      "Decision Tree Regressor: Mean Score 3.62138255066 STD Scores 0.0293138437915\n",
      "Random Forest:           Mean Score -1.0 STD Scores 0.0\n",
      "\n",
      "Scores for the column: PUNT_PROFUNDIZACION\n",
      "Linear Regression:       Mean Score 0.433051945032 STD Scores 0.00316127891\n",
      "Decision Tree Regressor: Mean Score 0.460226545892 STD Scores 0.00880569062123\n",
      "Random Forest:           Mean Score -1.0 STD Scores 0.0\n",
      "\n",
      "Scores for the column: ESTU_PUESTO\n",
      "Linear Regression:       Mean Score 185.468975625 STD Scores 0.980629482188\n",
      "Decision Tree Regressor: Mean Score 188.812646174 STD Scores 1.29364363994\n",
      "Random Forest:           Mean Score -1.0 STD Scores 0.0\n",
      "\n"
     ]
    }
   ],
   "source": [
    "Preds_2006 = Predict_all_Subjects(data_2006_1)"
   ]
  },
  {
   "cell_type": "code",
   "execution_count": 16,
   "metadata": {
    "collapsed": false,
    "scrolled": true
   },
   "outputs": [
    {
     "name": "stdout",
     "output_type": "stream",
     "text": [
      "Scores for the column: PUNT_BIOLOGIA\n",
      "Linear Regression:       Mean Score 5.13108329476 STD Scores 0.0103221412974\n",
      "Decision Tree Regressor: Mean Score 5.17295265725 STD Scores 0.0115294496449\n",
      "Random Forest:           Mean Score -1.0 STD Scores 0.0\n",
      "\n",
      "Scores for the column: PUNT_MATEMATICAS\n",
      "Linear Regression:       Mean Score 5.99585141006 STD Scores 0.0135685141569\n",
      "Decision Tree Regressor: Mean Score 5.9961403842 STD Scores 0.00874523921793\n",
      "Random Forest:           Mean Score -1.0 STD Scores 0.0\n",
      "\n",
      "Scores for the column: PUNT_FILOSOFIA\n",
      "Linear Regression:       Mean Score 5.53799074874 STD Scores 0.00989572219889\n",
      "Decision Tree Regressor: Mean Score 5.59071359971 STD Scores 0.00790257691468\n",
      "Random Forest:           Mean Score -1.0 STD Scores 0.0\n",
      "\n",
      "Scores for the column: PUNT_FISICA\n",
      "Linear Regression:       Mean Score 5.47784214716 STD Scores 0.0119585726193\n",
      "Decision Tree Regressor: Mean Score 5.47667237779 STD Scores 0.00992291469637\n",
      "Random Forest:           Mean Score -1.0 STD Scores 0.0\n",
      "\n",
      "Scores for the column: PUNT_INTERDISCIPLINAR\n",
      "Linear Regression:       Mean Score 4.4704730512 STD Scores 0.022501229669\n",
      "Decision Tree Regressor: Mean Score 5.54764147444 STD Scores 0.0146551184016\n",
      "Random Forest:           Mean Score -1.0 STD Scores 0.0\n",
      "\n",
      "Scores for the column: PUNT_QUIMICA\n",
      "Linear Regression:       Mean Score 4.06526474773 STD Scores 0.0138331760727\n",
      "Decision Tree Regressor: Mean Score 4.06357331673 STD Scores 0.00607952970714\n",
      "Random Forest:           Mean Score -1.0 STD Scores 0.0\n",
      "\n",
      "Scores for the column: PUNT_LENGUAJE\n",
      "Linear Regression:       Mean Score 4.8399622876 STD Scores 0.0123874969745\n",
      "Decision Tree Regressor: Mean Score 4.89133983629 STD Scores 0.00812461332074\n",
      "Random Forest:           Mean Score -1.0 STD Scores 0.0\n",
      "\n",
      "Scores for the column: PUNT_IDIOMA\n",
      "Linear Regression:       Mean Score 5.88112156044 STD Scores 0.0156338290897\n",
      "Decision Tree Regressor: Mean Score 5.85599077255 STD Scores 0.0142361611878\n",
      "Random Forest:           Mean Score -1.0 STD Scores 0.0\n",
      "\n",
      "Scores for the column: PUNT_C_SOCIALES\n",
      "Linear Regression:       Mean Score 5.7962821963 STD Scores 0.0221367903016\n",
      "Decision Tree Regressor: Mean Score 5.85983586192 STD Scores 0.0117648125625\n",
      "Random Forest:           Mean Score -1.0 STD Scores 0.0\n",
      "\n",
      "Scores for the column: PUNT_PROFUNDIZACION\n",
      "Linear Regression:       Mean Score 0.359652894999 STD Scores 0.00154649714416\n",
      "Decision Tree Regressor: Mean Score 0.3580544785 STD Scores 0.00195614876295\n",
      "Random Forest:           Mean Score -1.0 STD Scores 0.0\n",
      "\n",
      "Scores for the column: ESTU_PUESTO\n",
      "Linear Regression:       Mean Score 192.26567499 STD Scores 0.13678741661\n",
      "Decision Tree Regressor: Mean Score 196.393014897 STD Scores 0.30142267499\n",
      "Random Forest:           Mean Score -1.0 STD Scores 0.0\n",
      "\n"
     ]
    }
   ],
   "source": [
    "Preds_2006_2 = Predict_all_Subjects(data_2006_2)"
   ]
  },
  {
   "cell_type": "markdown",
   "metadata": {},
   "source": [
    "## 2007\n",
    "* 2007_1\n",
    "* 2007_2"
   ]
  },
  {
   "cell_type": "markdown",
   "metadata": {},
   "source": [
    "There are several columns that are not in the dataset, so the predictions could not be performed in all the subjects."
   ]
  },
  {
   "cell_type": "code",
   "execution_count": 17,
   "metadata": {
    "collapsed": false,
    "scrolled": true
   },
   "outputs": [
    {
     "name": "stdout",
     "output_type": "stream",
     "text": [
      "Scores for the column: PUNT_BIOLOGIA\n",
      "Linear Regression:       Mean Score 4.65953797739 STD Scores 0.0190455934276\n",
      "Decision Tree Regressor: Mean Score 4.72877102647 STD Scores 0.02695803874\n",
      "Random Forest:           Mean Score -1.0 STD Scores 0.0\n",
      "\n",
      "Scores for the column: PUNT_MATEMATICAS\n",
      "Linear Regression:       Mean Score 6.48700166246 STD Scores 0.0334521342662\n",
      "Decision Tree Regressor: Mean Score 6.57547420493 STD Scores 0.0383686521047\n",
      "Random Forest:           Mean Score -1.0 STD Scores 0.0\n",
      "\n",
      "Scores for the column: PUNT_FILOSOFIA\n",
      "Linear Regression:       Mean Score 5.34782431376 STD Scores 0.0276853909796\n",
      "Decision Tree Regressor: Mean Score 5.41259052515 STD Scores 0.0419677870102\n",
      "Random Forest:           Mean Score -1.0 STD Scores 0.0\n",
      "\n",
      "Scores for the column: PUNT_FISICA\n",
      "Linear Regression:       Mean Score 5.15610415294 STD Scores 0.0405221105985\n",
      "Decision Tree Regressor: Mean Score 5.17204802164 STD Scores 0.0181819050464\n",
      "Random Forest:           Mean Score -1.0 STD Scores 0.0\n",
      "\n",
      "Scores for the column: PUNT_INTERDISCIPLINAR\n",
      "Linear Regression:       Mean Score 5.90846259445 STD Scores 0.0377723943\n",
      "Decision Tree Regressor: Mean Score 5.99081448838 STD Scores 0.0311291865928\n",
      "Random Forest:           Mean Score -1.0 STD Scores 0.0\n",
      "\n",
      "Scores for the column: PUNT_QUIMICA\n",
      "Linear Regression:       Mean Score 4.23839054367 STD Scores 0.0229479889098\n",
      "Decision Tree Regressor: Mean Score 4.25243652103 STD Scores 0.0440192807198\n",
      "Random Forest:           Mean Score -1.0 STD Scores 0.0\n",
      "\n",
      "Scores for the column: PUNT_LENGUAJE\n",
      "Linear Regression:       Mean Score 4.86791381664 STD Scores 0.0238294353752\n",
      "Decision Tree Regressor: Mean Score 4.96757229259 STD Scores 0.0206974845083\n",
      "Random Forest:           Mean Score -1.0 STD Scores 0.0\n",
      "\n",
      "Scores for the column: PUNT_C_SOCIALES\n",
      "Linear Regression:       Mean Score 5.86048674216 STD Scores 0.0202929702839\n",
      "Decision Tree Regressor: Mean Score 6.0313586367 STD Scores 0.0498726532613\n",
      "Random Forest:           Mean Score -1.0 STD Scores 0.0\n",
      "\n",
      "Scores for the column: PUNT_PROFUNDIZACION\n",
      "Linear Regression:       Mean Score 0.373435048977 STD Scores 0.0040013699292\n",
      "Decision Tree Regressor: Mean Score 0.410108909731 STD Scores 0.00244604886298\n",
      "Random Forest:           Mean Score -1.0 STD Scores 0.0\n",
      "\n",
      "Scores for the column: ESTU_PUESTO\n",
      "Linear Regression:       Mean Score 178.611500766 STD Scores 0.805648375046\n",
      "Decision Tree Regressor: Mean Score 184.348012928 STD Scores 1.43162597786\n",
      "Random Forest:           Mean Score -1.0 STD Scores 0.0\n",
      "\n",
      "Scores for the column: PUNT_INGLES\n",
      "Linear Regression:       Mean Score 5.64613849328 STD Scores 0.0427811689076\n",
      "Decision Tree Regressor: Mean Score 5.60972134306 STD Scores 0.0295296520522\n",
      "Random Forest:           Mean Score -1.0 STD Scores 0.0\n",
      "\n"
     ]
    }
   ],
   "source": [
    "Preds_2007 = Predict_all_Subjects(data_2007_1)"
   ]
  },
  {
   "cell_type": "code",
   "execution_count": 18,
   "metadata": {
    "collapsed": false,
    "scrolled": true
   },
   "outputs": [
    {
     "name": "stdout",
     "output_type": "stream",
     "text": [
      "Scores for the column: PUNT_BIOLOGIA\n",
      "Linear Regression:       Mean Score 4.8170688571 STD Scores 0.00910087205008\n",
      "Decision Tree Regressor: Mean Score 4.92570293628 STD Scores 0.00666020509017\n",
      "Random Forest:           Mean Score -1.0 STD Scores 0.0\n",
      "\n",
      "Scores for the column: PUNT_MATEMATICAS\n",
      "Linear Regression:       Mean Score 6.62957009166 STD Scores 0.0119782421056\n",
      "Decision Tree Regressor: Mean Score 6.65078953364 STD Scores 0.0119062587224\n",
      "Random Forest:           Mean Score -1.0 STD Scores 0.0\n",
      "\n",
      "Scores for the column: PUNT_FILOSOFIA\n",
      "Linear Regression:       Mean Score 4.95431262406 STD Scores 0.00790140669538\n",
      "Decision Tree Regressor: Mean Score 5.00168572234 STD Scores 0.00906804494603\n",
      "Random Forest:           Mean Score -1.0 STD Scores 0.0\n",
      "\n",
      "Scores for the column: PUNT_FISICA\n",
      "Linear Regression:       Mean Score 5.33997049331 STD Scores 0.013262678969\n",
      "Decision Tree Regressor: Mean Score 5.38953323692 STD Scores 0.0148124411447\n",
      "Random Forest:           Mean Score -1.0 STD Scores 0.0\n",
      "\n",
      "Scores for the column: PUNT_INTERDISCIPLINAR\n",
      "Linear Regression:       Mean Score 5.73457127341 STD Scores 0.0111637159218\n",
      "Decision Tree Regressor: Mean Score 5.74142095528 STD Scores 0.015035317705\n",
      "Random Forest:           Mean Score -1.0 STD Scores 0.0\n",
      "\n",
      "Scores for the column: PUNT_QUIMICA\n",
      "Linear Regression:       Mean Score 3.98815445993 STD Scores 0.00457314539816\n",
      "Decision Tree Regressor: Mean Score 4.04803215167 STD Scores 0.00333468767443\n",
      "Random Forest:           Mean Score -1.0 STD Scores 0.0\n",
      "\n",
      "Scores for the column: PUNT_LENGUAJE\n",
      "Linear Regression:       Mean Score 4.98338910898 STD Scores 0.00804522724518\n",
      "Decision Tree Regressor: Mean Score 5.16385071648 STD Scores 0.00975191288484\n",
      "Random Forest:           Mean Score -1.0 STD Scores 0.0\n",
      "\n",
      "Scores for the column: PUNT_C_SOCIALES\n",
      "Linear Regression:       Mean Score 5.69662177602 STD Scores 0.014404888437\n",
      "Decision Tree Regressor: Mean Score 5.90336290389 STD Scores 0.00811778635328\n",
      "Random Forest:           Mean Score -1.0 STD Scores 0.0\n",
      "\n",
      "Scores for the column: PUNT_PROFUNDIZACION\n",
      "Linear Regression:       Mean Score 0.335461229827 STD Scores 0.00132413748157\n",
      "Decision Tree Regressor: Mean Score 0.541574856494 STD Scores 0.00105379347547\n",
      "Random Forest:           Mean Score -1.0 STD Scores 0.0\n",
      "\n",
      "Scores for the column: ESTU_PUESTO\n",
      "Linear Regression:       Mean Score 174.58237299 STD Scores 0.127813591406\n",
      "Decision Tree Regressor: Mean Score 182.187018244 STD Scores 0.574770338693\n",
      "Random Forest:           Mean Score -1.0 STD Scores 0.0\n",
      "\n",
      "Scores for the column: PUNT_INGLES\n",
      "Linear Regression:       Mean Score 2.89090285069 STD Scores 0.00628194915555\n",
      "Decision Tree Regressor: Mean Score 3.5279402509 STD Scores 0.0128323466892\n",
      "Random Forest:           Mean Score -1.0 STD Scores 0.0\n",
      "\n"
     ]
    }
   ],
   "source": [
    "Preds_2007_2 = Predict_all_Subjects(data_2007_2)"
   ]
  },
  {
   "cell_type": "markdown",
   "metadata": {},
   "source": [
    "## 2008\n",
    "* 2008_1\n",
    "* 2008_2"
   ]
  },
  {
   "cell_type": "markdown",
   "metadata": {},
   "source": [
    "There are several columns that are not in the dataset, so the predictions could not be performed in all the subjects."
   ]
  },
  {
   "cell_type": "code",
   "execution_count": 19,
   "metadata": {
    "collapsed": false,
    "scrolled": true
   },
   "outputs": [
    {
     "name": "stdout",
     "output_type": "stream",
     "text": [
      "Scores for the column: PUNT_BIOLOGIA\n",
      "Linear Regression:       Mean Score 5.00205400836 STD Scores 0.0325803225456\n",
      "Decision Tree Regressor: Mean Score 5.14461809731 STD Scores 0.0226774246342\n",
      "Random Forest:           Mean Score -1.0 STD Scores 0.0\n",
      "\n",
      "Scores for the column: PUNT_MATEMATICAS\n",
      "Linear Regression:       Mean Score 7.46024421739 STD Scores 0.0248785844391\n",
      "Decision Tree Regressor: Mean Score 7.7284374309 STD Scores 0.0604410515276\n",
      "Random Forest:           Mean Score -1.0 STD Scores 0.0\n",
      "\n",
      "Scores for the column: PUNT_FILOSOFIA\n",
      "Linear Regression:       Mean Score 6.3122642274 STD Scores 0.0323941419258\n",
      "Decision Tree Regressor: Mean Score 6.49340066442 STD Scores 0.0522508905569\n",
      "Random Forest:           Mean Score -1.0 STD Scores 0.0\n",
      "\n",
      "Scores for the column: PUNT_FISICA\n",
      "Linear Regression:       Mean Score 5.69024237823 STD Scores 0.0170747574049\n",
      "Decision Tree Regressor: Mean Score 5.74512780519 STD Scores 0.0340729844437\n",
      "Random Forest:           Mean Score -1.0 STD Scores 0.0\n",
      "\n",
      "Scores for the column: PUNT_INTERDISCIPLINAR\n",
      "Linear Regression:       Mean Score 6.84887383743 STD Scores 0.0386713297073\n",
      "Decision Tree Regressor: Mean Score 6.86054504229 STD Scores 0.0472777355131\n",
      "Random Forest:           Mean Score -1.0 STD Scores 0.0\n",
      "\n",
      "Scores for the column: PUNT_QUIMICA\n",
      "Linear Regression:       Mean Score 4.92694938325 STD Scores 0.0137968403412\n",
      "Decision Tree Regressor: Mean Score 5.04730275964 STD Scores 0.0262519831234\n",
      "Random Forest:           Mean Score -1.0 STD Scores 0.0\n",
      "\n",
      "Scores for the column: PUNT_LENGUAJE\n",
      "Linear Regression:       Mean Score 5.68034296118 STD Scores 0.031691501629\n",
      "Decision Tree Regressor: Mean Score 5.7565122606 STD Scores 0.023719031199\n",
      "Random Forest:           Mean Score -1.0 STD Scores 0.0\n",
      "\n",
      "Scores for the column: PUNT_C_SOCIALES\n",
      "Linear Regression:       Mean Score 5.56795734721 STD Scores 0.0303492706348\n",
      "Decision Tree Regressor: Mean Score 5.6750733494 STD Scores 0.0124436960741\n",
      "Random Forest:           Mean Score -1.0 STD Scores 0.0\n",
      "\n",
      "Scores for the column: PUNT_PROFUNDIZACION\n",
      "Linear Regression:       Mean Score 0.615870906852 STD Scores 0.00457126369616\n",
      "Decision Tree Regressor: Mean Score 0.622146443081 STD Scores 0.00419856412469\n",
      "Random Forest:           Mean Score -1.0 STD Scores 0.0\n",
      "\n",
      "Scores for the column: ESTU_PUESTO\n",
      "Linear Regression:       Mean Score 181.993678263 STD Scores 0.609071642652\n",
      "Decision Tree Regressor: Mean Score 193.112197692 STD Scores 1.46587762362\n",
      "Random Forest:           Mean Score -1.0 STD Scores 0.0\n",
      "\n",
      "Scores for the column: PUNT_INGLES\n",
      "Linear Regression:       Mean Score 5.3176631551 STD Scores 0.0435665227637\n",
      "Decision Tree Regressor: Mean Score 5.59190322721 STD Scores 0.0344031910995\n",
      "Random Forest:           Mean Score -1.0 STD Scores 0.0\n",
      "\n"
     ]
    }
   ],
   "source": [
    "Preds_2008 = Predict_all_Subjects(data_2008_1)"
   ]
  },
  {
   "cell_type": "code",
   "execution_count": 46,
   "metadata": {
    "collapsed": false,
    "scrolled": true
   },
   "outputs": [
    {
     "name": "stdout",
     "output_type": "stream",
     "text": [
      "Scores for the column: PUNT_BIOLOGIA\n",
      "Linear Regression:       Mean Score 4.67094260695 STD Scores 0.00835990472947\n",
      "Decision Tree Regressor: Mean Score 4.69303644866 STD Scores 0.0082255356692\n",
      "Random Forest:           Mean Score -1.0 STD Scores 0.0\n",
      "\n",
      "Scores for the column: PUNT_MATEMATICAS\n",
      "Linear Regression:       Mean Score 6.85786452245 STD Scores 0.00939815501282\n",
      "Decision Tree Regressor: Mean Score 6.88594399007 STD Scores 0.00794895954702\n",
      "Random Forest:           Mean Score -1.0 STD Scores 0.0\n",
      "\n",
      "Scores for the column: PUNT_FILOSOFIA\n",
      "Linear Regression:       Mean Score 5.84264521501 STD Scores 0.0107118472509\n",
      "Decision Tree Regressor: Mean Score 5.84471150486 STD Scores 0.0119421851837\n",
      "Random Forest:           Mean Score -1.0 STD Scores 0.0\n",
      "\n",
      "Scores for the column: PUNT_FISICA\n",
      "Linear Regression:       Mean Score 5.52776207669 STD Scores 0.0142320683739\n",
      "Decision Tree Regressor: Mean Score 5.53962035783 STD Scores 0.0135946131079\n",
      "Random Forest:           Mean Score -1.0 STD Scores 0.0\n",
      "\n",
      "Scores for the column: PUNT_INTERDISCIPLINAR\n",
      "Linear Regression:       Mean Score 5.57944574028 STD Scores 0.0126239844364\n",
      "Decision Tree Regressor: Mean Score 5.54300071351 STD Scores 0.0151568128563\n",
      "Random Forest:           Mean Score -1.0 STD Scores 0.0\n",
      "\n",
      "Scores for the column: PUNT_QUIMICA\n",
      "Linear Regression:       Mean Score 4.5965092267 STD Scores 0.00912941750828\n",
      "Decision Tree Regressor: Mean Score 4.57777724624 STD Scores 0.00382702174001\n",
      "Random Forest:           Mean Score -1.0 STD Scores 0.0\n",
      "\n",
      "Scores for the column: PUNT_LENGUAJE\n",
      "Linear Regression:       Mean Score 4.81256446475 STD Scores 0.00562195130877\n",
      "Decision Tree Regressor: Mean Score 4.82210330524 STD Scores 0.0153651205207\n",
      "Random Forest:           Mean Score -1.0 STD Scores 0.0\n",
      "\n",
      "Scores for the column: PUNT_C_SOCIALES\n",
      "Linear Regression:       Mean Score 6.47252882243 STD Scores 0.0116776349897\n",
      "Decision Tree Regressor: Mean Score 6.48106779565 STD Scores 0.0106817039176\n",
      "Random Forest:           Mean Score -1.0 STD Scores 0.0\n",
      "\n",
      "Scores for the column: PUNT_PROFUNDIZACION\n",
      "Linear Regression:       Mean Score 0.653958935679 STD Scores 0.00177862756271\n",
      "Decision Tree Regressor: Mean Score 0.653117363661 STD Scores 0.002828105027\n",
      "Random Forest:           Mean Score -1.0 STD Scores 0.0\n",
      "\n",
      "Scores for the column: ESTU_PUESTO\n",
      "Linear Regression:       Mean Score 217.637212044 STD Scores 0.52589815431\n",
      "Decision Tree Regressor: Mean Score 219.346875623 STD Scores 0.318359860228\n",
      "Random Forest:           Mean Score -1.0 STD Scores 0.0\n",
      "\n",
      "Scores for the column: PUNT_INGLES\n",
      "Linear Regression:       Mean Score 5.9171886714 STD Scores 0.0132114684496\n",
      "Decision Tree Regressor: Mean Score 5.73633415554 STD Scores 0.0134387986606\n",
      "Random Forest:           Mean Score -1.0 STD Scores 0.0\n",
      "\n"
     ]
    }
   ],
   "source": [
    "Preds_2008_2 = Predict_all_Subjects(data_2009_2)"
   ]
  },
  {
   "cell_type": "markdown",
   "metadata": {},
   "source": [
    "## 2009\n",
    "* 2009_1\n",
    "* 2009_2"
   ]
  },
  {
   "cell_type": "code",
   "execution_count": 21,
   "metadata": {
    "collapsed": false,
    "scrolled": true
   },
   "outputs": [
    {
     "name": "stdout",
     "output_type": "stream",
     "text": [
      "Scores for the column: PUNT_BIOLOGIA\n",
      "Linear Regression:       Mean Score 5.49476860359 STD Scores 0.043304874114\n",
      "Decision Tree Regressor: Mean Score 5.83692806922 STD Scores 0.0271229005593\n",
      "Random Forest:           Mean Score -1.0 STD Scores 0.0\n",
      "\n",
      "Scores for the column: PUNT_MATEMATICAS\n",
      "Linear Regression:       Mean Score 7.28824121911 STD Scores 0.0657371439536\n",
      "Decision Tree Regressor: Mean Score 7.74561841421 STD Scores 0.0429637898518\n",
      "Random Forest:           Mean Score -1.0 STD Scores 0.0\n",
      "\n",
      "Scores for the column: PUNT_FILOSOFIA\n",
      "Linear Regression:       Mean Score 5.46155465338 STD Scores 0.0137269845201\n",
      "Decision Tree Regressor: Mean Score 5.61328885278 STD Scores 0.042847736112\n",
      "Random Forest:           Mean Score -1.0 STD Scores 0.0\n",
      "\n",
      "Scores for the column: PUNT_FISICA\n",
      "Linear Regression:       Mean Score 5.87940699778 STD Scores 0.0262267461769\n",
      "Decision Tree Regressor: Mean Score 5.89713170347 STD Scores 0.0157525975613\n",
      "Random Forest:           Mean Score -1.0 STD Scores 0.0\n",
      "\n",
      "Scores for the column: PUNT_INTERDISCIPLINAR\n",
      "Linear Regression:       Mean Score 5.513374786 STD Scores 0.0413902400245\n",
      "Decision Tree Regressor: Mean Score 5.58275064067 STD Scores 0.0262475901584\n",
      "Random Forest:           Mean Score -1.0 STD Scores 0.0\n",
      "\n",
      "Scores for the column: PUNT_QUIMICA\n",
      "Linear Regression:       Mean Score 4.73320096583 STD Scores 0.0420914422044\n",
      "Decision Tree Regressor: Mean Score 4.9640999439 STD Scores 0.0118725768111\n",
      "Random Forest:           Mean Score -1.0 STD Scores 0.0\n",
      "\n",
      "Scores for the column: PUNT_LENGUAJE\n",
      "Linear Regression:       Mean Score 5.39420874296 STD Scores 0.038846393056\n",
      "Decision Tree Regressor: Mean Score 5.75352029305 STD Scores 0.0213871091952\n",
      "Random Forest:           Mean Score -1.0 STD Scores 0.0\n",
      "\n",
      "Scores for the column: PUNT_C_SOCIALES\n",
      "Linear Regression:       Mean Score 5.29842885442 STD Scores 0.0165818495552\n",
      "Decision Tree Regressor: Mean Score 5.55399890527 STD Scores 0.0203096047897\n",
      "Random Forest:           Mean Score -1.0 STD Scores 0.0\n",
      "\n",
      "Scores for the column: PUNT_PROFUNDIZACION\n",
      "Linear Regression:       Mean Score 0.598618732885 STD Scores 0.00572650442716\n",
      "Decision Tree Regressor: Mean Score 0.632077261143 STD Scores 0.00290830193695\n",
      "Random Forest:           Mean Score -1.0 STD Scores 0.0\n",
      "\n",
      "Scores for the column: ESTU_PUESTO\n",
      "Linear Regression:       Mean Score 181.248463663 STD Scores 1.57985332417\n",
      "Decision Tree Regressor: Mean Score 202.318126624 STD Scores 0.515811314293\n",
      "Random Forest:           Mean Score -1.0 STD Scores 0.0\n",
      "\n",
      "Scores for the column: PUNT_INGLES\n",
      "Linear Regression:       Mean Score 4.75140364885 STD Scores 0.0263357435502\n",
      "Decision Tree Regressor: Mean Score 5.61716429856 STD Scores 0.0382195657129\n",
      "Random Forest:           Mean Score -1.0 STD Scores 0.0\n",
      "\n"
     ]
    }
   ],
   "source": [
    "Preds_2009 = Predict_all_Subjects(data_2009_1)"
   ]
  },
  {
   "cell_type": "code",
   "execution_count": 47,
   "metadata": {
    "collapsed": false,
    "scrolled": false
   },
   "outputs": [
    {
     "name": "stdout",
     "output_type": "stream",
     "text": [
      "Scores for the column: PUNT_BIOLOGIA\n",
      "Linear Regression:       Mean Score 4.67361577414 STD Scores 0.0145651369688\n",
      "Decision Tree Regressor: Mean Score 4.68752729588 STD Scores 0.0129411632541\n",
      "Random Forest:           Mean Score -1.0 STD Scores 0.0\n",
      "\n",
      "Scores for the column: PUNT_MATEMATICAS\n",
      "Linear Regression:       Mean Score 6.8555960695 STD Scores 0.00953267376883\n",
      "Decision Tree Regressor: Mean Score 6.85824722812 STD Scores 0.0115689763519\n",
      "Random Forest:           Mean Score -1.0 STD Scores 0.0\n",
      "\n",
      "Scores for the column: PUNT_FILOSOFIA\n",
      "Linear Regression:       Mean Score 5.83809112315 STD Scores 0.0136449459453\n",
      "Decision Tree Regressor: Mean Score 5.85011240537 STD Scores 0.0110289852334\n",
      "Random Forest:           Mean Score -1.0 STD Scores 0.0\n",
      "\n",
      "Scores for the column: PUNT_FISICA\n",
      "Linear Regression:       Mean Score 5.53403520749 STD Scores 0.0125579086655\n",
      "Decision Tree Regressor: Mean Score 5.54645163253 STD Scores 0.0155907090586\n",
      "Random Forest:           Mean Score -1.0 STD Scores 0.0\n",
      "\n",
      "Scores for the column: PUNT_INTERDISCIPLINAR\n",
      "Linear Regression:       Mean Score 5.57447442373 STD Scores 0.0119282395222\n",
      "Decision Tree Regressor: Mean Score 5.54326696903 STD Scores 0.0132139411584\n",
      "Random Forest:           Mean Score -1.0 STD Scores 0.0\n",
      "\n",
      "Scores for the column: PUNT_QUIMICA\n",
      "Linear Regression:       Mean Score 4.59040478638 STD Scores 0.0111587383731\n",
      "Decision Tree Regressor: Mean Score 4.58032007266 STD Scores 0.00806509515399\n",
      "Random Forest:           Mean Score -1.0 STD Scores 0.0\n",
      "\n",
      "Scores for the column: PUNT_LENGUAJE\n",
      "Linear Regression:       Mean Score 4.80790082312 STD Scores 0.0137771381904\n",
      "Decision Tree Regressor: Mean Score 4.82377855045 STD Scores 0.0130520327358\n",
      "Random Forest:           Mean Score -1.0 STD Scores 0.0\n",
      "\n",
      "Scores for the column: PUNT_C_SOCIALES\n",
      "Linear Regression:       Mean Score 6.46581172785 STD Scores 0.00918139707516\n",
      "Decision Tree Regressor: Mean Score 6.47579560571 STD Scores 0.0111131416272\n",
      "Random Forest:           Mean Score -1.0 STD Scores 0.0\n",
      "\n",
      "Scores for the column: PUNT_PROFUNDIZACION\n",
      "Linear Regression:       Mean Score 0.653318711064 STD Scores 0.00267048712407\n",
      "Decision Tree Regressor: Mean Score 0.653673111776 STD Scores 0.000470406933537\n",
      "Random Forest:           Mean Score -1.0 STD Scores 0.0\n",
      "\n",
      "Scores for the column: ESTU_PUESTO\n",
      "Linear Regression:       Mean Score 217.820778943 STD Scores 0.291611214427\n",
      "Decision Tree Regressor: Mean Score 218.950574102 STD Scores 0.37965003926\n",
      "Random Forest:           Mean Score -1.0 STD Scores 0.0\n",
      "\n",
      "Scores for the column: PUNT_INGLES\n",
      "Linear Regression:       Mean Score 5.91416648642 STD Scores 0.0163198353018\n",
      "Decision Tree Regressor: Mean Score 5.74219254289 STD Scores 0.0088183467833\n",
      "Random Forest:           Mean Score -1.0 STD Scores 0.0\n",
      "\n"
     ]
    }
   ],
   "source": [
    "Preds_2009_2 = Predict_all_Subjects(data_2009_2)"
   ]
  },
  {
   "cell_type": "markdown",
   "metadata": {},
   "source": [
    "## 2010\n",
    "* 2010_1\n",
    "* 2010_2"
   ]
  },
  {
   "cell_type": "code",
   "execution_count": 27,
   "metadata": {
    "collapsed": false,
    "scrolled": true
   },
   "outputs": [
    {
     "name": "stdout",
     "output_type": "stream",
     "text": [
      "Scores for the column: PUNT_BIOLOGIA\n",
      "Linear Regression:       Mean Score 5.10523805198 STD Scores 0.0195328828413\n",
      "Decision Tree Regressor: Mean Score 5.19509989554 STD Scores 0.0315780537838\n",
      "Random Forest:           Mean Score -1.0 STD Scores 0.0\n",
      "\n",
      "Scores for the column: PUNT_MATEMATICAS\n",
      "Linear Regression:       Mean Score 6.62685526205 STD Scores 0.0436301184485\n",
      "Decision Tree Regressor: Mean Score 6.75530164206 STD Scores 0.0331523686623\n",
      "Random Forest:           Mean Score -1.0 STD Scores 0.0\n",
      "\n",
      "Scores for the column: PUNT_FILOSOFIA\n",
      "Linear Regression:       Mean Score 6.14152871566 STD Scores 0.0455225889089\n",
      "Decision Tree Regressor: Mean Score 6.30980990255 STD Scores 0.0868224072873\n",
      "Random Forest:           Mean Score -1.0 STD Scores 0.0\n",
      "\n",
      "Scores for the column: PUNT_FISICA\n",
      "Linear Regression:       Mean Score 6.53492342992 STD Scores 0.0589682200643\n",
      "Decision Tree Regressor: Mean Score 6.61777027294 STD Scores 0.0507600078016\n",
      "Random Forest:           Mean Score -1.0 STD Scores 0.0\n",
      "\n",
      "Scores for the column: PUNT_INTERDISCIPLINAR\n",
      "Linear Regression:       Mean Score 5.74405272684 STD Scores 0.0424495128284\n",
      "Decision Tree Regressor: Mean Score 5.69680730476 STD Scores 0.0616488377581\n",
      "Random Forest:           Mean Score -1.0 STD Scores 0.0\n",
      "\n",
      "Scores for the column: PUNT_QUIMICA\n",
      "Linear Regression:       Mean Score 5.26708577261 STD Scores 0.0658909450803\n",
      "Decision Tree Regressor: Mean Score 5.41053909894 STD Scores 0.0511445171556\n",
      "Random Forest:           Mean Score -1.0 STD Scores 0.0\n",
      "\n",
      "Scores for the column: PUNT_LENGUAJE\n",
      "Linear Regression:       Mean Score 5.32843364684 STD Scores 0.0360337939471\n",
      "Decision Tree Regressor: Mean Score 5.42511212533 STD Scores 0.0385193382156\n",
      "Random Forest:           Mean Score -1.0 STD Scores 0.0\n",
      "\n",
      "Scores for the column: PUNT_C_SOCIALES\n",
      "Linear Regression:       Mean Score 5.8137891051 STD Scores 0.0242827344919\n",
      "Decision Tree Regressor: Mean Score 5.96905111396 STD Scores 0.0319420607486\n",
      "Random Forest:           Mean Score -1.0 STD Scores 0.0\n",
      "\n",
      "Scores for the column: PUNT_PROFUNDIZACION\n",
      "Linear Regression:       Mean Score 0.699168361 STD Scores 0.00988007442601\n",
      "Decision Tree Regressor: Mean Score 0.701711647792 STD Scores 0.009388465605\n",
      "Random Forest:           Mean Score -1.0 STD Scores 0.0\n",
      "\n",
      "Scores for the column: ESTU_PUESTO\n",
      "Linear Regression:       Mean Score 175.788106096 STD Scores 0.444176464101\n",
      "Decision Tree Regressor: Mean Score 181.693575135 STD Scores 0.903481067204\n",
      "Random Forest:           Mean Score -1.0 STD Scores 0.0\n",
      "\n",
      "Scores for the column: PUNT_INGLES\n",
      "Linear Regression:       Mean Score 8.00332786823 STD Scores 0.0698152595538\n",
      "Decision Tree Regressor: Mean Score 7.90707244485 STD Scores 0.090675879493\n",
      "Random Forest:           Mean Score -1.0 STD Scores 0.0\n",
      "\n"
     ]
    }
   ],
   "source": [
    "Preds_2010 = Predict_all_Subjects(data_2010_1)"
   ]
  },
  {
   "cell_type": "code",
   "execution_count": 28,
   "metadata": {
    "collapsed": false,
    "scrolled": true
   },
   "outputs": [
    {
     "name": "stdout",
     "output_type": "stream",
     "text": [
      "Scores for the column: PUNT_BIOLOGIA\n",
      "Linear Regression:       Mean Score 7.36540389307 STD Scores 0.0220371161073\n",
      "Decision Tree Regressor: Mean Score 7.39489205735 STD Scores 0.00645971527699\n",
      "Random Forest:           Mean Score -1.0 STD Scores 0.0\n",
      "\n",
      "Scores for the column: PUNT_MATEMATICAS\n",
      "Linear Regression:       Mean Score 7.18422227057 STD Scores 0.00772403477272\n",
      "Decision Tree Regressor: Mean Score 7.22040698848 STD Scores 0.0215924891154\n",
      "Random Forest:           Mean Score -1.0 STD Scores 0.0\n",
      "\n",
      "Scores for the column: PUNT_FILOSOFIA\n",
      "Linear Regression:       Mean Score 7.34427666695 STD Scores 0.0239537440918\n",
      "Decision Tree Regressor: Mean Score 7.34457776104 STD Scores 0.00646722767739\n",
      "Random Forest:           Mean Score -1.0 STD Scores 0.0\n",
      "\n",
      "Scores for the column: PUNT_FISICA\n",
      "Linear Regression:       Mean Score 7.54091812035 STD Scores 0.0130422994715\n",
      "Decision Tree Regressor: Mean Score 7.53977367633 STD Scores 0.00885864799865\n",
      "Random Forest:           Mean Score -1.0 STD Scores 0.0\n",
      "\n",
      "Scores for the column: PUNT_QUIMICA\n",
      "Linear Regression:       Mean Score 7.1971864647 STD Scores 0.0202457229765\n",
      "Decision Tree Regressor: Mean Score 7.17627189141 STD Scores 0.0128798868411\n",
      "Random Forest:           Mean Score -1.0 STD Scores 0.0\n",
      "\n",
      "Scores for the column: PUNT_LENGUAJE\n",
      "Linear Regression:       Mean Score 7.3272616784 STD Scores 0.0217146294568\n",
      "Decision Tree Regressor: Mean Score 7.3622240006 STD Scores 0.0121474567022\n",
      "Random Forest:           Mean Score -1.0 STD Scores 0.0\n",
      "\n",
      "Scores for the column: PUNT_C_SOCIALES\n",
      "Linear Regression:       Mean Score 7.31503180481 STD Scores 0.0136054950394\n",
      "Decision Tree Regressor: Mean Score 7.36235910784 STD Scores 0.00750937775859\n",
      "Random Forest:           Mean Score -1.0 STD Scores 0.0\n",
      "\n",
      "Scores for the column: ESTU_PUESTO\n",
      "Linear Regression:       Mean Score 216.229717037 STD Scores 0.216024639583\n",
      "Decision Tree Regressor: Mean Score 219.285325337 STD Scores 0.316634561202\n",
      "Random Forest:           Mean Score -1.0 STD Scores 0.0\n",
      "\n",
      "Scores for the column: PUNT_INGLES\n",
      "Linear Regression:       Mean Score 6.27954835615 STD Scores 0.0163206233711\n",
      "Decision Tree Regressor: Mean Score 6.07159905709 STD Scores 0.0197770989128\n",
      "Random Forest:           Mean Score -1.0 STD Scores 0.0\n",
      "\n",
      "Scores for the column: PUNT_COMP_FLEXIBLE\n",
      "Linear Regression:       Mean Score 22.0781899406 STD Scores 0.00418459315674\n",
      "Decision Tree Regressor: Mean Score 9.10481673272 STD Scores 0.12224606829\n",
      "Random Forest:           Mean Score -1.0 STD Scores 0.0\n",
      "\n"
     ]
    }
   ],
   "source": [
    "Preds_2010_2 = Predict_all_Subjects(data_2010_2)"
   ]
  },
  {
   "cell_type": "markdown",
   "metadata": {},
   "source": [
    "## 2011\n",
    "* 2011_1\n",
    "* 2011_2"
   ]
  },
  {
   "cell_type": "code",
   "execution_count": 29,
   "metadata": {
    "collapsed": false,
    "scrolled": true
   },
   "outputs": [
    {
     "name": "stdout",
     "output_type": "stream",
     "text": [
      "Scores for the column: PUNT_BIOLOGIA\n",
      "Linear Regression:       Mean Score 6.00396023869 STD Scores 0.0476251376761\n",
      "Decision Tree Regressor: Mean Score 6.21594370974 STD Scores 0.0311254725888\n",
      "Random Forest:           Mean Score -1.0 STD Scores 0.0\n",
      "\n",
      "Scores for the column: PUNT_MATEMATICAS\n",
      "Linear Regression:       Mean Score 8.52443625059 STD Scores 0.0486733935465\n",
      "Decision Tree Regressor: Mean Score 8.79720676831 STD Scores 0.0583032691989\n",
      "Random Forest:           Mean Score -1.0 STD Scores 0.0\n",
      "\n",
      "Scores for the column: PUNT_FILOSOFIA\n",
      "Linear Regression:       Mean Score 6.54889648681 STD Scores 0.0366283218321\n",
      "Decision Tree Regressor: Mean Score 6.74335193988 STD Scores 0.0452943777686\n",
      "Random Forest:           Mean Score -1.0 STD Scores 0.0\n",
      "\n",
      "Scores for the column: PUNT_FISICA\n",
      "Linear Regression:       Mean Score 6.47950754241 STD Scores 0.034024587538\n",
      "Decision Tree Regressor: Mean Score 6.58079589318 STD Scores 0.0262332136031\n",
      "Random Forest:           Mean Score -1.0 STD Scores 0.0\n",
      "\n",
      "Scores for the column: PUNT_QUIMICA\n",
      "Linear Regression:       Mean Score 5.47870291837 STD Scores 0.0324432290722\n",
      "Decision Tree Regressor: Mean Score 5.62219372894 STD Scores 0.0186083242567\n",
      "Random Forest:           Mean Score -1.0 STD Scores 0.0\n",
      "\n",
      "Scores for the column: PUNT_LENGUAJE\n",
      "Linear Regression:       Mean Score 5.2350197782 STD Scores 0.0258301161821\n",
      "Decision Tree Regressor: Mean Score 5.36732355991 STD Scores 0.0384529057911\n",
      "Random Forest:           Mean Score -1.0 STD Scores 0.0\n",
      "\n",
      "Scores for the column: PUNT_C_SOCIALES\n",
      "Linear Regression:       Mean Score 6.9388330442 STD Scores 0.0287129289828\n",
      "Decision Tree Regressor: Mean Score 7.11863283437 STD Scores 0.0244819466438\n",
      "Random Forest:           Mean Score -1.0 STD Scores 0.0\n",
      "\n",
      "Scores for the column: ESTU_PUESTO\n",
      "Linear Regression:       Mean Score 192.024400201 STD Scores 0.4472310879\n",
      "Decision Tree Regressor: Mean Score 202.464389689 STD Scores 0.907734502011\n",
      "Random Forest:           Mean Score -1.0 STD Scores 0.0\n",
      "\n",
      "Scores for the column: PUNT_INGLES\n",
      "Linear Regression:       Mean Score 8.19408046197 STD Scores 0.00882315908796\n",
      "Decision Tree Regressor: Mean Score 7.92031889108 STD Scores 0.0595247899198\n",
      "Random Forest:           Mean Score -1.0 STD Scores 0.0\n",
      "\n",
      "Scores for the column: PUNT_COMP_FLEXIBLE\n",
      "Linear Regression:       Mean Score 20.8853859875 STD Scores 0.018304783303\n",
      "Decision Tree Regressor: Mean Score 3.44371598259 STD Scores 0.0163313317982\n",
      "Random Forest:           Mean Score -1.0 STD Scores 0.0\n",
      "\n"
     ]
    }
   ],
   "source": [
    "Preds_2011 = Predict_all_Subjects(data_2011_1)"
   ]
  },
  {
   "cell_type": "code",
   "execution_count": 30,
   "metadata": {
    "collapsed": false,
    "scrolled": true
   },
   "outputs": [
    {
     "name": "stdout",
     "output_type": "stream",
     "text": [
      "Scores for the column: PUNT_BIOLOGIA\n",
      "Linear Regression:       Mean Score 7.20997215807 STD Scores 0.0101549285016\n",
      "Decision Tree Regressor: Mean Score 7.3202112484 STD Scores 0.0144219128237\n",
      "Random Forest:           Mean Score -1.0 STD Scores 0.0\n",
      "\n",
      "Scores for the column: PUNT_MATEMATICAS\n",
      "Linear Regression:       Mean Score 8.35962922428 STD Scores 0.0225881162606\n",
      "Decision Tree Regressor: Mean Score 8.50983270276 STD Scores 0.0268372777092\n",
      "Random Forest:           Mean Score -1.0 STD Scores 0.0\n",
      "\n",
      "Scores for the column: PUNT_FILOSOFIA\n",
      "Linear Regression:       Mean Score 8.89723258493 STD Scores 0.00725068111679\n",
      "Decision Tree Regressor: Mean Score 9.01762048749 STD Scores 0.0133882545688\n",
      "Random Forest:           Mean Score -1.0 STD Scores 0.0\n",
      "\n",
      "Scores for the column: PUNT_FISICA\n",
      "Linear Regression:       Mean Score 7.17437448061 STD Scores 0.0115564058775\n",
      "Decision Tree Regressor: Mean Score 7.20459873565 STD Scores 0.0118739862863\n",
      "Random Forest:           Mean Score -1.0 STD Scores 0.0\n",
      "\n",
      "Scores for the column: PUNT_QUIMICA\n",
      "Linear Regression:       Mean Score 5.72235114385 STD Scores 0.00502387388353\n",
      "Decision Tree Regressor: Mean Score 5.74307174291 STD Scores 0.00681712340302\n",
      "Random Forest:           Mean Score -1.0 STD Scores 0.0\n",
      "\n",
      "Scores for the column: PUNT_LENGUAJE\n",
      "Linear Regression:       Mean Score 7.86766350988 STD Scores 0.010949838978\n",
      "Decision Tree Regressor: Mean Score 8.03951250029 STD Scores 0.0206990213374\n",
      "Random Forest:           Mean Score -1.0 STD Scores 0.0\n",
      "\n",
      "Scores for the column: PUNT_C_SOCIALES\n",
      "Linear Regression:       Mean Score 7.34176364784 STD Scores 0.0184838654961\n",
      "Decision Tree Regressor: Mean Score 7.44302215839 STD Scores 0.0126206597422\n",
      "Random Forest:           Mean Score -1.0 STD Scores 0.0\n",
      "\n",
      "Scores for the column: ESTU_PUESTO\n",
      "Linear Regression:       Mean Score 211.439506301 STD Scores 0.174780823765\n",
      "Decision Tree Regressor: Mean Score 218.110541313 STD Scores 0.334726089235\n",
      "Random Forest:           Mean Score -1.0 STD Scores 0.0\n",
      "\n",
      "Scores for the column: PUNT_INGLES\n",
      "Linear Regression:       Mean Score 5.36608876573 STD Scores 0.0138039206274\n",
      "Decision Tree Regressor: Mean Score 5.32904867205 STD Scores 0.0157614807363\n",
      "Random Forest:           Mean Score -1.0 STD Scores 0.0\n",
      "\n",
      "Scores for the column: PUNT_COMP_FLEXIBLE\n",
      "Linear Regression:       Mean Score 20.6754019465 STD Scores 0.01327080857\n",
      "Decision Tree Regressor: Mean Score 8.25435603745 STD Scores 0.0520137000937\n",
      "Random Forest:           Mean Score -1.0 STD Scores 0.0\n",
      "\n"
     ]
    }
   ],
   "source": [
    "Preds_2011_2 = Predict_all_Subjects(data_2011_2)"
   ]
  },
  {
   "cell_type": "markdown",
   "metadata": {},
   "source": [
    "## 2012\n",
    "* 2012_1\n",
    "* 2012_2"
   ]
  },
  {
   "cell_type": "code",
   "execution_count": 31,
   "metadata": {
    "collapsed": false,
    "scrolled": true
   },
   "outputs": [
    {
     "name": "stdout",
     "output_type": "stream",
     "text": [
      "Scores for the column: PUNT_BIOLOGIA\n",
      "Linear Regression:       Mean Score 5.95232428564 STD Scores 0.0378030886726\n",
      "Decision Tree Regressor: Mean Score 6.10071462027 STD Scores 0.0169402119897\n",
      "Random Forest:           Mean Score -1.0 STD Scores 0.0\n",
      "\n",
      "Scores for the column: PUNT_MATEMATICAS\n",
      "Linear Regression:       Mean Score 8.17061714548 STD Scores 0.0280411867526\n",
      "Decision Tree Regressor: Mean Score 8.38382977357 STD Scores 0.0546186962062\n",
      "Random Forest:           Mean Score -1.0 STD Scores 0.0\n",
      "\n",
      "Scores for the column: PUNT_FILOSOFIA\n",
      "Linear Regression:       Mean Score 7.47065798068 STD Scores 0.03340338218\n",
      "Decision Tree Regressor: Mean Score 7.65657029963 STD Scores 0.0285413254601\n",
      "Random Forest:           Mean Score -1.0 STD Scores 0.0\n",
      "\n",
      "Scores for the column: PUNT_FISICA\n",
      "Linear Regression:       Mean Score 8.08945667109 STD Scores 0.0276623446525\n",
      "Decision Tree Regressor: Mean Score 8.30719973095 STD Scores 0.0553722260814\n",
      "Random Forest:           Mean Score -1.0 STD Scores 0.0\n",
      "\n",
      "Scores for the column: PUNT_QUIMICA\n",
      "Linear Regression:       Mean Score 5.71431468939 STD Scores 0.0183607473168\n",
      "Decision Tree Regressor: Mean Score 5.90981845847 STD Scores 0.0376601891471\n",
      "Random Forest:           Mean Score -1.0 STD Scores 0.0\n",
      "\n",
      "Scores for the column: PUNT_LENGUAJE\n",
      "Linear Regression:       Mean Score 5.67487488865 STD Scores 0.0226070267812\n",
      "Decision Tree Regressor: Mean Score 5.86330051325 STD Scores 0.0432334059318\n",
      "Random Forest:           Mean Score -1.0 STD Scores 0.0\n",
      "\n",
      "Scores for the column: PUNT_C_SOCIALES\n",
      "Linear Regression:       Mean Score 5.63719151638 STD Scores 0.0262406788029\n",
      "Decision Tree Regressor: Mean Score 5.83307404846 STD Scores 0.0249205711984\n",
      "Random Forest:           Mean Score -1.0 STD Scores 0.0\n",
      "\n",
      "Scores for the column: ESTU_PUESTO\n",
      "Linear Regression:       Mean Score 189.87705406 STD Scores 0.479562000772\n",
      "Decision Tree Regressor: Mean Score 203.296042146 STD Scores 0.574756375883\n",
      "Random Forest:           Mean Score -1.0 STD Scores 0.0\n",
      "\n",
      "Scores for the column: PUNT_INGLES\n",
      "Linear Regression:       Mean Score 8.63911562132 STD Scores 0.0483897518818\n",
      "Decision Tree Regressor: Mean Score 8.53228906723 STD Scores 0.0168106996478\n",
      "Random Forest:           Mean Score -1.0 STD Scores 0.0\n",
      "\n",
      "Scores for the column: PUNT_COMP_FLEXIBLE\n",
      "Linear Regression:       Mean Score 20.8993494966 STD Scores 0.0342118672866\n",
      "Decision Tree Regressor: Mean Score 4.65819593723 STD Scores 0.0583416059275\n",
      "Random Forest:           Mean Score -1.0 STD Scores 0.0\n",
      "\n"
     ]
    }
   ],
   "source": [
    "Preds_2012 = Predict_all_Subjects(data_2012_1)"
   ]
  },
  {
   "cell_type": "code",
   "execution_count": 32,
   "metadata": {
    "collapsed": false,
    "scrolled": true
   },
   "outputs": [
    {
     "name": "stdout",
     "output_type": "stream",
     "text": [
      "Scores for the column: PUNT_BIOLOGIA\n",
      "Linear Regression:       Mean Score 5.7657225475 STD Scores 0.0114430114399\n",
      "Decision Tree Regressor: Mean Score 5.83120220674 STD Scores 0.0159995573495\n",
      "Random Forest:           Mean Score -1.0 STD Scores 0.0\n",
      "\n",
      "Scores for the column: PUNT_MATEMATICAS\n",
      "Linear Regression:       Mean Score 8.01407626827 STD Scores 0.0147863781632\n",
      "Decision Tree Regressor: Mean Score 8.05432985955 STD Scores 0.0168892897821\n",
      "Random Forest:           Mean Score -1.0 STD Scores 0.0\n",
      "\n",
      "Scores for the column: PUNT_FILOSOFIA\n",
      "Linear Regression:       Mean Score 6.55963253072 STD Scores 0.00640301553559\n",
      "Decision Tree Regressor: Mean Score 6.60076295995 STD Scores 0.0103330267882\n",
      "Random Forest:           Mean Score -1.0 STD Scores 0.0\n",
      "\n",
      "Scores for the column: PUNT_FISICA\n",
      "Linear Regression:       Mean Score 5.6554145858 STD Scores 0.0115459446231\n",
      "Decision Tree Regressor: Mean Score 5.66654148135 STD Scores 0.0101996166834\n",
      "Random Forest:           Mean Score -1.0 STD Scores 0.0\n",
      "\n",
      "Scores for the column: PUNT_QUIMICA\n",
      "Linear Regression:       Mean Score 4.53787451731 STD Scores 0.00692662503272\n",
      "Decision Tree Regressor: Mean Score 4.5448687117 STD Scores 0.0108160955921\n",
      "Random Forest:           Mean Score -1.0 STD Scores 0.0\n",
      "\n",
      "Scores for the column: PUNT_LENGUAJE\n",
      "Linear Regression:       Mean Score 5.06129394443 STD Scores 0.0138072052994\n",
      "Decision Tree Regressor: Mean Score 5.16150328085 STD Scores 0.00919438171709\n",
      "Random Forest:           Mean Score -1.0 STD Scores 0.0\n",
      "\n",
      "Scores for the column: PUNT_C_SOCIALES\n",
      "Linear Regression:       Mean Score 6.48996885481 STD Scores 0.00859886297552\n",
      "Decision Tree Regressor: Mean Score 6.54402145717 STD Scores 0.0145431682065\n",
      "Random Forest:           Mean Score -1.0 STD Scores 0.0\n",
      "\n",
      "Scores for the column: ESTU_PUESTO\n",
      "Linear Regression:       Mean Score 211.606716549 STD Scores 0.351101119226\n",
      "Decision Tree Regressor: Mean Score 216.100576879 STD Scores 0.166928542855\n",
      "Random Forest:           Mean Score -1.0 STD Scores 0.0\n",
      "\n",
      "Scores for the column: PUNT_INGLES\n",
      "Linear Regression:       Mean Score 6.33625809402 STD Scores 0.0188615913011\n",
      "Decision Tree Regressor: Mean Score 6.30800904323 STD Scores 0.0131939773659\n",
      "Random Forest:           Mean Score -1.0 STD Scores 0.0\n",
      "\n",
      "Scores for the column: PUNT_COMP_FLEXIBLE\n",
      "Linear Regression:       Mean Score 20.2322570393 STD Scores 0.0119776274364\n",
      "Decision Tree Regressor: Mean Score 12.2393294778 STD Scores 0.0655179643798\n",
      "Random Forest:           Mean Score -1.0 STD Scores 0.0\n",
      "\n"
     ]
    }
   ],
   "source": [
    "Preds_2012_2 = Predict_all_Subjects(data_2012_2)"
   ]
  },
  {
   "cell_type": "markdown",
   "metadata": {},
   "source": [
    "## 2013\n",
    "* 2013_1\n",
    "* 2013_2"
   ]
  },
  {
   "cell_type": "code",
   "execution_count": 33,
   "metadata": {
    "collapsed": false,
    "scrolled": true
   },
   "outputs": [
    {
     "name": "stdout",
     "output_type": "stream",
     "text": [
      "Scores for the column: PUNT_BIOLOGIA\n",
      "Linear Regression:       Mean Score 5.08471361506 STD Scores 0.0247754584037\n",
      "Decision Tree Regressor: Mean Score 5.22867861893 STD Scores 0.0277317852886\n",
      "Random Forest:           Mean Score -1.0 STD Scores 0.0\n",
      "\n",
      "Scores for the column: PUNT_MATEMATICAS\n",
      "Linear Regression:       Mean Score 9.34960881422 STD Scores 0.0298785278443\n",
      "Decision Tree Regressor: Mean Score 9.57545194631 STD Scores 0.0503754163208\n",
      "Random Forest:           Mean Score -1.0 STD Scores 0.0\n",
      "\n",
      "Scores for the column: PUNT_FILOSOFIA\n",
      "Linear Regression:       Mean Score 7.62391041704 STD Scores 0.0390372288461\n",
      "Decision Tree Regressor: Mean Score 7.73299350943 STD Scores 0.0547403008926\n",
      "Random Forest:           Mean Score -1.0 STD Scores 0.0\n",
      "\n",
      "Scores for the column: PUNT_FISICA\n",
      "Linear Regression:       Mean Score 7.07895271834 STD Scores 0.0607143434856\n",
      "Decision Tree Regressor: Mean Score 7.20494838002 STD Scores 0.0387660199769\n",
      "Random Forest:           Mean Score -1.0 STD Scores 0.0\n",
      "\n",
      "Scores for the column: PUNT_QUIMICA\n",
      "Linear Regression:       Mean Score 6.58642606679 STD Scores 0.0358576474287\n",
      "Decision Tree Regressor: Mean Score 6.6616167985 STD Scores 0.0654264149561\n",
      "Random Forest:           Mean Score -1.0 STD Scores 0.0\n",
      "\n",
      "Scores for the column: PUNT_LENGUAJE\n",
      "Linear Regression:       Mean Score 8.49521764323 STD Scores 0.0191920254193\n",
      "Decision Tree Regressor: Mean Score 8.78047856931 STD Scores 0.0738123070907\n",
      "Random Forest:           Mean Score -1.0 STD Scores 0.0\n",
      "\n",
      "Scores for the column: PUNT_C_SOCIALES\n",
      "Linear Regression:       Mean Score 5.72190495092 STD Scores 0.01507676026\n",
      "Decision Tree Regressor: Mean Score 5.8357651732 STD Scores 0.034854837182\n",
      "Random Forest:           Mean Score -1.0 STD Scores 0.0\n",
      "\n",
      "Scores for the column: ESTU_PUESTO\n",
      "Linear Regression:       Mean Score 188.422413494 STD Scores 0.761076685263\n",
      "Decision Tree Regressor: Mean Score 197.936718719 STD Scores 1.20684748437\n",
      "Random Forest:           Mean Score -1.0 STD Scores 0.0\n",
      "\n",
      "Scores for the column: PUNT_INGLES\n",
      "Linear Regression:       Mean Score 8.355085526 STD Scores 0.0256324144346\n",
      "Decision Tree Regressor: Mean Score 8.08005818634 STD Scores 0.0645208972096\n",
      "Random Forest:           Mean Score -1.0 STD Scores 0.0\n",
      "\n",
      "Scores for the column: PUNT_COMP_FLEXIBLE\n",
      "Linear Regression:       Mean Score 20.7391314608 STD Scores 0.0526066445953\n",
      "Decision Tree Regressor: Mean Score 3.41957592461 STD Scores 0.0501622307912\n",
      "Random Forest:           Mean Score -1.0 STD Scores 0.0\n",
      "\n"
     ]
    }
   ],
   "source": [
    "Preds_2013 = Predict_all_Subjects(data_2013_1)"
   ]
  },
  {
   "cell_type": "code",
   "execution_count": 34,
   "metadata": {
    "collapsed": false,
    "scrolled": true
   },
   "outputs": [
    {
     "name": "stdout",
     "output_type": "stream",
     "text": [
      "Scores for the column: PUNT_BIOLOGIA\n",
      "Linear Regression:       Mean Score 5.64032881567 STD Scores 0.00874884245168\n",
      "Decision Tree Regressor: Mean Score 5.72687192387 STD Scores 0.00701598362102\n",
      "Random Forest:           Mean Score -1.0 STD Scores 0.0\n",
      "\n",
      "Scores for the column: PUNT_MATEMATICAS\n",
      "Linear Regression:       Mean Score 7.25124708853 STD Scores 0.0153876756406\n",
      "Decision Tree Regressor: Mean Score 7.32142643583 STD Scores 0.0101181318056\n",
      "Random Forest:           Mean Score -1.0 STD Scores 0.0\n",
      "\n",
      "Scores for the column: PUNT_FILOSOFIA\n",
      "Linear Regression:       Mean Score 6.750781406 STD Scores 0.0120571264465\n",
      "Decision Tree Regressor: Mean Score 6.79746857344 STD Scores 0.0109099413964\n",
      "Random Forest:           Mean Score -1.0 STD Scores 0.0\n",
      "\n",
      "Scores for the column: PUNT_FISICA\n",
      "Linear Regression:       Mean Score 7.97915031864 STD Scores 0.0281933484061\n",
      "Decision Tree Regressor: Mean Score 8.06826336812 STD Scores 0.00925936916284\n",
      "Random Forest:           Mean Score -1.0 STD Scores 0.0\n",
      "\n",
      "Scores for the column: PUNT_QUIMICA\n",
      "Linear Regression:       Mean Score 6.0735134034 STD Scores 0.013401933074\n",
      "Decision Tree Regressor: Mean Score 6.11799056028 STD Scores 0.0170035350316\n",
      "Random Forest:           Mean Score -1.0 STD Scores 0.0\n",
      "\n",
      "Scores for the column: PUNT_LENGUAJE\n",
      "Linear Regression:       Mean Score 5.29467527082 STD Scores 0.0146666538133\n",
      "Decision Tree Regressor: Mean Score 5.39026664891 STD Scores 0.0130964517318\n",
      "Random Forest:           Mean Score -1.0 STD Scores 0.0\n",
      "\n",
      "Scores for the column: PUNT_C_SOCIALES\n",
      "Linear Regression:       Mean Score 5.77451654557 STD Scores 0.00875907052144\n",
      "Decision Tree Regressor: Mean Score 5.84455028168 STD Scores 0.0103086383904\n",
      "Random Forest:           Mean Score -1.0 STD Scores 0.0\n",
      "\n",
      "Scores for the column: ESTU_PUESTO\n",
      "Linear Regression:       Mean Score 210.319560566 STD Scores 0.288038034907\n",
      "Decision Tree Regressor: Mean Score 216.095256135 STD Scores 0.16205798202\n",
      "Random Forest:           Mean Score -1.0 STD Scores 0.0\n",
      "\n",
      "Scores for the column: PUNT_INGLES\n",
      "Linear Regression:       Mean Score 6.06600027893 STD Scores 0.00866188952671\n",
      "Decision Tree Regressor: Mean Score 5.96730819442 STD Scores 0.0193486862155\n",
      "Random Forest:           Mean Score -1.0 STD Scores 0.0\n",
      "\n",
      "Scores for the column: PUNT_COMP_FLEXIBLE\n",
      "Linear Regression:       Mean Score 19.5987451176 STD Scores 0.0181785544912\n",
      "Decision Tree Regressor: Mean Score 9.40360163357 STD Scores 0.0369002011235\n",
      "Random Forest:           Mean Score -1.0 STD Scores 0.0\n",
      "\n"
     ]
    }
   ],
   "source": [
    "Preds_2013_2 = Predict_all_Subjects(data_2013_2)"
   ]
  },
  {
   "cell_type": "markdown",
   "metadata": {},
   "source": [
    "## 2014\n",
    "* 2014_1\n",
    "* 2014_2\n",
    "\n",
    "In the second semester of this YEAR, i change was done, so the Treatment will be different for this next files."
   ]
  },
  {
   "cell_type": "code",
   "execution_count": 35,
   "metadata": {
    "collapsed": false,
    "scrolled": true
   },
   "outputs": [
    {
     "name": "stdout",
     "output_type": "stream",
     "text": [
      "Scores for the column: PUNT_BIOLOGIA\n",
      "Linear Regression:       Mean Score 5.47903264348 STD Scores 0.0092824527331\n",
      "Decision Tree Regressor: Mean Score 5.70884029851 STD Scores 0.0193578284381\n",
      "Random Forest:           Mean Score -1.0 STD Scores 0.0\n",
      "\n",
      "Scores for the column: PUNT_MATEMATICAS\n",
      "Linear Regression:       Mean Score 7.19494243236 STD Scores 0.0542873444024\n",
      "Decision Tree Regressor: Mean Score 7.54384498772 STD Scores 0.0598927090298\n",
      "Random Forest:           Mean Score -1.0 STD Scores 0.0\n",
      "\n",
      "Scores for the column: PUNT_FILOSOFIA\n",
      "Linear Regression:       Mean Score 6.86257485476 STD Scores 0.0322932849972\n",
      "Decision Tree Regressor: Mean Score 7.20882601684 STD Scores 0.0344779772358\n",
      "Random Forest:           Mean Score -1.0 STD Scores 0.0\n",
      "\n",
      "Scores for the column: PUNT_FISICA\n",
      "Linear Regression:       Mean Score 8.45752029778 STD Scores 0.0364776411021\n",
      "Decision Tree Regressor: Mean Score 8.85473172628 STD Scores 0.021831086802\n",
      "Random Forest:           Mean Score -1.0 STD Scores 0.0\n",
      "\n",
      "Scores for the column: PUNT_QUIMICA\n",
      "Linear Regression:       Mean Score 6.32308208404 STD Scores 0.0292931361199\n",
      "Decision Tree Regressor: Mean Score 6.64925572751 STD Scores 0.0255713549942\n",
      "Random Forest:           Mean Score -1.0 STD Scores 0.0\n",
      "\n",
      "Scores for the column: PUNT_LENGUAJE\n",
      "Linear Regression:       Mean Score 5.58667554417 STD Scores 0.0155503601586\n",
      "Decision Tree Regressor: Mean Score 5.83653459408 STD Scores 0.0177714143908\n",
      "Random Forest:           Mean Score -1.0 STD Scores 0.0\n",
      "\n",
      "Scores for the column: PUNT_C_SOCIALES\n",
      "Linear Regression:       Mean Score 7.54228927384 STD Scores 0.0115455630399\n",
      "Decision Tree Regressor: Mean Score 7.89558979384 STD Scores 0.0472012247312\n",
      "Random Forest:           Mean Score -1.0 STD Scores 0.0\n",
      "\n",
      "Scores for the column: ESTU_PUESTO\n",
      "Linear Regression:       Mean Score 181.545588866 STD Scores 0.959797148732\n",
      "Decision Tree Regressor: Mean Score 198.828208797 STD Scores 1.03523613191\n",
      "Random Forest:           Mean Score -1.0 STD Scores 0.0\n",
      "\n",
      "Scores for the column: PUNT_INGLES\n",
      "Linear Regression:       Mean Score 7.6511427036 STD Scores 0.0302092046689\n",
      "Decision Tree Regressor: Mean Score 7.89060556191 STD Scores 0.0365198718627\n",
      "Random Forest:           Mean Score -1.0 STD Scores 0.0\n",
      "\n",
      "Scores for the column: PUNT_COMP_FLEXIBLE\n",
      "Linear Regression:       Mean Score 20.6463389166 STD Scores 0.0315867236717\n",
      "Decision Tree Regressor: Mean Score 3.08232786632 STD Scores 0.0311852351428\n",
      "Random Forest:           Mean Score -1.0 STD Scores 0.0\n",
      "\n"
     ]
    }
   ],
   "source": [
    "Preds_2014 = Predict_all_Subjects(data_2014_1)"
   ]
  },
  {
   "cell_type": "markdown",
   "metadata": {},
   "source": [
    "____"
   ]
  },
  {
   "cell_type": "markdown",
   "metadata": {},
   "source": [
    "## Getting the final DataFrames"
   ]
  },
  {
   "cell_type": "code",
   "execution_count": 38,
   "metadata": {
    "collapsed": true
   },
   "outputs": [],
   "source": [
    "def get_DF_T(DF):\n",
    "    columns = list(DF.T.loc['Subject'])\n",
    "    DFR = DF.T.filter(items=['DTR', 'LR', 'RFR'], axis=0)\n",
    "    DFR.columns = columns\n",
    "    return(DFR)"
   ]
  },
  {
   "cell_type": "code",
   "execution_count": 39,
   "metadata": {
    "collapsed": true
   },
   "outputs": [],
   "source": [
    "def get_serie(df, model, periodo):\n",
    "    new_df = get_DF_T(df)\n",
    "    serie = pd.Series(new_df.loc[model])\n",
    "    serie = serie.rename(periodo)\n",
    "    return(serie)"
   ]
  },
  {
   "cell_type": "markdown",
   "metadata": {},
   "source": [
    "### getting Final DataFrame for Linear Regression"
   ]
  },
  {
   "cell_type": "code",
   "execution_count": 48,
   "metadata": {
    "collapsed": false,
    "scrolled": true
   },
   "outputs": [],
   "source": [
    "LR_serie_2000_1 = get_serie(Preds_2000_1, 'LR', '2000_1')\n",
    "LR_serie_2000_2 = get_serie(Preds_2000_2, 'LR', '2000_2')\n",
    "\n",
    "LR_serie_2001_1 = get_serie(Preds_2001, 'LR', '2001_1')\n",
    "LR_serie_2001_2 = get_serie(Preds_2001_2, 'LR', '2001_2')\n",
    "\n",
    "LR_serie_2002_1 = get_serie(Preds_2002, 'LR', '2002_1')\n",
    "LR_serie_2002_2 = get_serie(Preds_2002_2, 'LR', '2002_2')\n",
    "\n",
    "LR_serie_2003_1 = get_serie(Preds_2003, 'LR', '2003_1')\n",
    "LR_serie_2003_2 = get_serie(Preds_2003_2, 'LR', '2003_2')\n",
    "\n",
    "LR_serie_2004_1 = get_serie(Preds_2004, 'LR', '2004_1')\n",
    "LR_serie_2004_2 = get_serie(Preds_2004_2, 'LR', '2004_2')\n",
    "\n",
    "LR_serie_2005_1 = get_serie(Preds_2005, 'LR', '2005_1')\n",
    "LR_serie_2005_2 = get_serie(Preds_2005_2, 'LR', '2005_2')\n",
    "\n",
    "LR_serie_2006_1 = get_serie(Preds_2006, 'LR', '2006_1')\n",
    "LR_serie_2006_2 = get_serie(Preds_2006_2, 'LR', '2006_2')\n",
    "\n",
    "LR_serie_2007_1 = get_serie(Preds_2007, 'LR', '2007_1')\n",
    "LR_serie_2007_2 = get_serie(Preds_2007_2, 'LR', '2007_2')\n",
    "\n",
    "LR_serie_2008_1 = get_serie(Preds_2008, 'LR', '2008_1')\n",
    "LR_serie_2008_2 = get_serie(Preds_2008_2, 'LR', '2008_2')\n",
    "\n",
    "LR_serie_2009_1 = get_serie(Preds_2009, 'LR', '2009_1')\n",
    "LR_serie_2009_2 = get_serie(Preds_2009_2, 'LR', '2009_2')\n",
    "\n",
    "LR_serie_2010_1 = get_serie(Preds_2010, 'LR', '2010_1')\n",
    "LR_serie_2010_2 = get_serie(Preds_2010_2, 'LR', '2010_2')\n",
    "\n",
    "LR_serie_2011_1 = get_serie(Preds_2011, 'LR', '2011_1')\n",
    "LR_serie_2011_2 = get_serie(Preds_2011_2, 'LR', '2011_2')\n",
    "\n",
    "LR_serie_2012_1 = get_serie(Preds_2012, 'LR', '2012_1')\n",
    "LR_serie_2012_2 = get_serie(Preds_2012_2, 'LR', '2012_2')\n",
    "\n",
    "LR_serie_2013_1 = get_serie(Preds_2013, 'LR', '2013_1')\n",
    "LR_serie_2013_2 = get_serie(Preds_2013_2, 'LR', '2013_2')\n",
    "\n",
    "LR_serie_2014_1 = get_serie(Preds_2014, 'LR', '2014_1')"
   ]
  },
  {
   "cell_type": "code",
   "execution_count": 50,
   "metadata": {
    "collapsed": false
   },
   "outputs": [],
   "source": [
    "Final_LR = pd.concat([LR_serie_2000_1, LR_serie_2000_2, LR_serie_2001_1, LR_serie_2001_2, LR_serie_2002_1, LR_serie_2002_2,\n",
    "                      LR_serie_2003_1, LR_serie_2003_2, LR_serie_2004_1, LR_serie_2004_2, LR_serie_2005_1, LR_serie_2005_2, \n",
    "                      LR_serie_2006_1, LR_serie_2006_2, LR_serie_2007_1, LR_serie_2007_2, LR_serie_2008_1, LR_serie_2008_2, \n",
    "                      LR_serie_2009_1, LR_serie_2009_2, LR_serie_2010_1, LR_serie_2010_2, LR_serie_2011_1, LR_serie_2011_2, \n",
    "                      LR_serie_2012_1, LR_serie_2012_2, LR_serie_2013_1, LR_serie_2013_2, LR_serie_2014_1], axis=1)"
   ]
  },
  {
   "cell_type": "code",
   "execution_count": 51,
   "metadata": {
    "collapsed": true
   },
   "outputs": [],
   "source": [
    "Final_LR = Final_LR.T"
   ]
  },
  {
   "cell_type": "markdown",
   "metadata": {},
   "source": [
    "### Getting final DF for DecisionTree"
   ]
  },
  {
   "cell_type": "code",
   "execution_count": 53,
   "metadata": {
    "collapsed": true
   },
   "outputs": [],
   "source": [
    "DT_serie_2000_1 = get_serie(Preds_2000_1, 'DTR', '2000_1')\n",
    "DT_serie_2000_2 = get_serie(Preds_2000_2, 'DTR', '2000_2')\n",
    "\n",
    "DT_serie_2001_1 = get_serie(Preds_2001, 'DTR', '2001_1')\n",
    "DT_serie_2001_2 = get_serie(Preds_2001_2, 'DTR', '2001_2')\n",
    "\n",
    "DT_serie_2002_1 = get_serie(Preds_2002, 'DTR', '2002_1')\n",
    "DT_serie_2002_2 = get_serie(Preds_2002_2, 'DTR', '2002_2')\n",
    "\n",
    "DT_serie_2003_1 = get_serie(Preds_2003, 'DTR', '2003_1')\n",
    "DT_serie_2003_2 = get_serie(Preds_2003_2, 'DTR', '2003_2')\n",
    "\n",
    "DT_serie_2004_1 = get_serie(Preds_2004, 'DTR', '2004_1')\n",
    "DT_serie_2004_2 = get_serie(Preds_2004_2, 'DTR', '2004_2')\n",
    "\n",
    "DT_serie_2005_1 = get_serie(Preds_2005, 'DTR', '2005_1')\n",
    "DT_serie_2005_2 = get_serie(Preds_2005_2, 'DTR', '2005_2')\n",
    "\n",
    "DT_serie_2006_1 = get_serie(Preds_2006, 'DTR', '2006_1')\n",
    "DT_serie_2006_2 = get_serie(Preds_2006_2, 'DTR', '2006_2')\n",
    "\n",
    "DT_serie_2007_1 = get_serie(Preds_2007, 'DTR', '2007_1')\n",
    "DT_serie_2007_2 = get_serie(Preds_2007_2, 'DTR', '2007_2')\n",
    "\n",
    "DT_serie_2008_1 = get_serie(Preds_2008, 'DTR', '2008_1')\n",
    "DT_serie_2008_2 = get_serie(Preds_2008_2, 'DTR', '2008_2')\n",
    "\n",
    "DT_serie_2009_1 = get_serie(Preds_2009, 'DTR', '2009_1')\n",
    "DT_serie_2009_2 = get_serie(Preds_2009_2, 'DTR', '2009_2')\n",
    "\n",
    "DT_serie_2010_1 = get_serie(Preds_2010, 'DTR', '2010_1')\n",
    "DT_serie_2010_2 = get_serie(Preds_2010_2, 'DTR', '2010_2')\n",
    "\n",
    "DT_serie_2011_1 = get_serie(Preds_2011, 'DTR', '2011_1')\n",
    "DT_serie_2011_2 = get_serie(Preds_2011_2, 'DTR', '2011_2')\n",
    "\n",
    "DT_serie_2012_1 = get_serie(Preds_2012, 'DTR', '2012_1')\n",
    "DT_serie_2012_2 = get_serie(Preds_2012_2, 'DTR', '2012_2')\n",
    "\n",
    "DT_serie_2013_1 = get_serie(Preds_2013, 'DTR', '2013_1')\n",
    "DT_serie_2013_2 = get_serie(Preds_2013_2, 'DTR', '2013_2')\n",
    "\n",
    "DT_serie_2014_1 = get_serie(Preds_2014, 'DTR', '2014_1')"
   ]
  },
  {
   "cell_type": "code",
   "execution_count": 54,
   "metadata": {
    "collapsed": true
   },
   "outputs": [],
   "source": [
    "Final_DT = pd.concat([DT_serie_2000_1, DT_serie_2000_2, DT_serie_2001_1, DT_serie_2001_2, DT_serie_2002_1, DT_serie_2002_2,\n",
    "                         DT_serie_2003_1, DT_serie_2003_2, DT_serie_2004_1, DT_serie_2004_2, DT_serie_2005_1, DT_serie_2005_2, \n",
    "                         DT_serie_2006_1, DT_serie_2006_2, DT_serie_2007_1, DT_serie_2007_2, DT_serie_2008_1, DT_serie_2008_2, \n",
    "                         DT_serie_2009_1, DT_serie_2009_2, DT_serie_2010_1, DT_serie_2010_2, DT_serie_2011_1, DT_serie_2011_2, \n",
    "                         DT_serie_2012_1, DT_serie_2012_2, DT_serie_2013_1, DT_serie_2013_2, DT_serie_2014_1], axis=1)"
   ]
  },
  {
   "cell_type": "code",
   "execution_count": 55,
   "metadata": {
    "collapsed": true
   },
   "outputs": [],
   "source": [
    "Final_DT = Final_DT.T"
   ]
  },
  {
   "cell_type": "markdown",
   "metadata": {},
   "source": [
    "### Getting Final DF for Random Forest Regressor"
   ]
  },
  {
   "cell_type": "code",
   "execution_count": 56,
   "metadata": {
    "collapsed": true
   },
   "outputs": [],
   "source": [
    "RF_serie_2000_1 = get_serie(Preds_2000_1, 'RFR', '2000_1')\n",
    "RF_serie_2000_2 = get_serie(Preds_2000_2, 'RFR', '2000_2')\n",
    "\n",
    "RF_serie_2001_1 = get_serie(Preds_2001, 'RFR', '2001_1')\n",
    "RF_serie_2001_2 = get_serie(Preds_2001_2, 'RFR', '2001_2')\n",
    "\n",
    "RF_serie_2002_1 = get_serie(Preds_2002, 'RFR', '2002_1')\n",
    "RF_serie_2002_2 = get_serie(Preds_2002_2, 'RFR', '2002_2')\n",
    "\n",
    "RF_serie_2003_1 = get_serie(Preds_2003, 'RFR', '2003_1')\n",
    "RF_serie_2003_2 = get_serie(Preds_2003_2, 'RFR', '2003_2')\n",
    "\n",
    "RF_serie_2004_1 = get_serie(Preds_2004, 'RFR', '2004_1')\n",
    "RF_serie_2004_2 = get_serie(Preds_2004_2, 'RFR', '2004_2')\n",
    "\n",
    "RF_serie_2005_1 = get_serie(Preds_2005, 'RFR', '2005_1')\n",
    "RF_serie_2005_2 = get_serie(Preds_2005_2, 'RFR', '2005_2')\n",
    "\n",
    "RF_serie_2006_1 = get_serie(Preds_2006, 'RFR', '2006_1')\n",
    "RF_serie_2006_2 = get_serie(Preds_2006_2, 'RFR', '2006_2')\n",
    "\n",
    "RF_serie_2007_1 = get_serie(Preds_2007, 'RFR', '2007_1')\n",
    "RF_serie_2007_2 = get_serie(Preds_2007_2, 'RFR', '2007_2')\n",
    "\n",
    "RF_serie_2008_1 = get_serie(Preds_2008, 'RFR', '2008_1')\n",
    "RF_serie_2008_2 = get_serie(Preds_2008_2, 'RFR', '2008_2')\n",
    "\n",
    "RF_serie_2009_1 = get_serie(Preds_2009, 'RFR', '2009_1')\n",
    "RF_serie_2009_2 = get_serie(Preds_2009_2, 'RFR', '2009_2')\n",
    "\n",
    "RF_serie_2010_1 = get_serie(Preds_2010, 'RFR', '2010_1')\n",
    "RF_serie_2010_2 = get_serie(Preds_2010_2, 'RFR', '2010_2')\n",
    "\n",
    "RF_serie_2011_1 = get_serie(Preds_2011, 'RFR', '2011_1')\n",
    "RF_serie_2011_2 = get_serie(Preds_2011_2, 'RFR', '2011_2')\n",
    "\n",
    "RF_serie_2012_1 = get_serie(Preds_2012, 'RFR', '2012_1')\n",
    "RF_serie_2012_2 = get_serie(Preds_2012_2, 'RFR', '2012_2')\n",
    "\n",
    "RF_serie_2013_1 = get_serie(Preds_2013, 'RFR', '2013_1')\n",
    "RF_serie_2013_2 = get_serie(Preds_2013_2, 'RFR', '2013_2')\n",
    "\n",
    "RF_serie_2014_1 = get_serie(Preds_2014, 'RFR', '2014_1')"
   ]
  },
  {
   "cell_type": "code",
   "execution_count": 57,
   "metadata": {
    "collapsed": true
   },
   "outputs": [],
   "source": [
    "Final_RF = pd.concat([RF_serie_2000_1, RF_serie_2000_2, RF_serie_2001_1, RF_serie_2001_2, RF_serie_2002_1, RF_serie_2002_2,\n",
    "                      RF_serie_2003_1, RF_serie_2003_2, RF_serie_2004_1, RF_serie_2004_2, RF_serie_2005_1, RF_serie_2005_2, \n",
    "                      RF_serie_2006_1, RF_serie_2006_2, RF_serie_2007_1, RF_serie_2007_2, RF_serie_2008_1, RF_serie_2008_2, \n",
    "                      RF_serie_2009_1, RF_serie_2009_2, RF_serie_2010_1, RF_serie_2010_2, RF_serie_2011_1, RF_serie_2011_2, \n",
    "                      RF_serie_2012_1, RF_serie_2012_2, RF_serie_2013_1, RF_serie_2013_2, RF_serie_2014_1], axis=1)"
   ]
  },
  {
   "cell_type": "code",
   "execution_count": 58,
   "metadata": {
    "collapsed": true
   },
   "outputs": [],
   "source": [
    "Final_RF = Final_RF.T"
   ]
  },
  {
   "cell_type": "markdown",
   "metadata": {},
   "source": [
    "____"
   ]
  },
  {
   "cell_type": "markdown",
   "metadata": {},
   "source": [
    "Saving the Final DataFrames"
   ]
  },
  {
   "cell_type": "code",
   "execution_count": 82,
   "metadata": {
    "collapsed": true
   },
   "outputs": [],
   "source": [
    "Final_DT.to_csv('Final_Results/Final_DT_individual.csv', index=True, sep=';')\n",
    "Final_LR.to_csv('Final_Results/Final_LR_individual.csv', index=True, sep=';')\n",
    "Final_RF.to_csv('Final_Results/Final_RF_individual.csv', index=True, sep=';')"
   ]
  },
  {
   "cell_type": "markdown",
   "metadata": {},
   "source": [
    "____"
   ]
  },
  {
   "cell_type": "markdown",
   "metadata": {},
   "source": [
    "LEGEND(LOC=?)"
   ]
  },
  {
   "cell_type": "markdown",
   "metadata": {},
   "source": [
    "____"
   ]
  },
  {
   "cell_type": "markdown",
   "metadata": {},
   "source": [
    "____"
   ]
  },
  {
   "cell_type": "markdown",
   "metadata": {},
   "source": [
    "____"
   ]
  },
  {
   "cell_type": "markdown",
   "metadata": {},
   "source": [
    "____"
   ]
  },
  {
   "cell_type": "markdown",
   "metadata": {},
   "source": [
    "____"
   ]
  },
  {
   "cell_type": "markdown",
   "metadata": {},
   "source": [
    "____"
   ]
  },
  {
   "cell_type": "code",
   "execution_count": 119,
   "metadata": {
    "collapsed": false,
    "scrolled": true
   },
   "outputs": [
    {
     "name": "stdout",
     "output_type": "stream",
     "text": [
      "Scores for the column: PUNT_LECTURA_CRITICA\n",
      "Linear Regression:       Mean Score 6.82407573356 STD Scores 0.0159416200204\n",
      "Decision Tree Regressor: Mean Score 6.73481716548 STD Scores 0.0133497807349\n",
      "Random Forest:           Mean Score 6.66533193855 STD Scores 0.00857141130668\n",
      "\n",
      "Scores for the column: PUNT_MATEMATICAS\n",
      "Linear Regression:       Mean Score 6.73307183055 STD Scores 0.0230000710741\n",
      "Decision Tree Regressor: Mean Score 6.60262169461 STD Scores 0.0102205756908\n",
      "Random Forest:           Mean Score 6.52281211502 STD Scores 0.00687754272091\n",
      "\n",
      "Scores for the column: PUNT_C_NATURALES\n",
      "Linear Regression:       Mean Score 6.95739195735 STD Scores 0.0156108674891\n",
      "Decision Tree Regressor: Mean Score 6.7758639899 STD Scores 0.0098324236918\n",
      "Random Forest:           Mean Score 6.67572303677 STD Scores 0.0135512591007\n",
      "\n",
      "Scores for the column: PUNT_SOCIALES_CIUDADANAS\n",
      "Linear Regression:       Mean Score 7.16781390986 STD Scores 0.010605408141\n",
      "Decision Tree Regressor: Mean Score 7.06449848662 STD Scores 0.0111924983263\n",
      "Random Forest:           Mean Score 6.96884815426 STD Scores 0.00742091165341\n",
      "\n",
      "Scores for the column: PUNT_INGLES\n",
      "Linear Regression:       Mean Score 5.95390461246 STD Scores 0.00903142571007\n",
      "Decision Tree Regressor: Mean Score 5.77495876852 STD Scores 0.0109396366409\n",
      "Random Forest:           Mean Score 5.70130166898 STD Scores 0.015767129091\n",
      "\n",
      "Scores for the column: PUNT_RAZONA_CUANT\n",
      "Linear Regression:       Mean Score 6.98500558486 STD Scores 0.00614210126816\n",
      "Decision Tree Regressor: Mean Score 6.89946393646 STD Scores 0.00491842117098\n",
      "Random Forest:           Mean Score 6.81951440791 STD Scores 0.0193448152675\n",
      "\n",
      "Scores for the column: PUNT_COMP_CIUDADANA\n",
      "Linear Regression:       Mean Score 7.19552894427 STD Scores 0.0126052561439\n",
      "Decision Tree Regressor: Mean Score 7.083947274 STD Scores 0.018766532855\n",
      "Random Forest:           Mean Score 7.00336725579 STD Scores 0.0230853616017\n",
      "\n",
      "Scores for the column: PUNT_GLOBAL\n",
      "Linear Regression:       Mean Score 28.5607956094 STD Scores 0.0622789718389\n",
      "Decision Tree Regressor: Mean Score 27.6080340765 STD Scores 0.0333159795438\n",
      "Random Forest:           Mean Score 27.1637347195 STD Scores 0.0711846081147\n",
      "\n"
     ]
    }
   ],
   "source": [
    "Preds_2014_2 = Predict_all_Subjects_2014(data_2014_2)"
   ]
  },
  {
   "cell_type": "code",
   "execution_count": 120,
   "metadata": {
    "collapsed": false,
    "scrolled": true
   },
   "outputs": [
    {
     "name": "stdout",
     "output_type": "stream",
     "text": [
      "Scores for the column: PUNT_LECTURA_CRITICA\n",
      "Linear Regression:       Mean Score -1.0 STD Scores 0.0\n",
      "Decision Tree Regressor: Mean Score 6.40905586664 STD Scores 0.0404361834991\n",
      "Random Forest:           Mean Score 6.18838182252 STD Scores 0.0211653532264\n",
      "\n",
      "Scores for the column: PUNT_MATEMATICAS\n",
      "Linear Regression:       Mean Score -1.0 STD Scores 0.0\n",
      "Decision Tree Regressor: Mean Score 8.43006783076 STD Scores 0.0481750134123\n",
      "Random Forest:           Mean Score 8.15687886972 STD Scores 0.0199672092318\n",
      "\n",
      "Scores for the column: PUNT_C_NATURALES\n",
      "Linear Regression:       Mean Score -1.0 STD Scores 0.0\n",
      "Decision Tree Regressor: Mean Score 8.56901696499 STD Scores 0.0382041164648\n",
      "Random Forest:           Mean Score 8.23753151442 STD Scores 0.0298244565513\n",
      "\n",
      "Scores for the column: PUNT_SOCIALES_CIUDADANAS\n",
      "Linear Regression:       Mean Score -1.0 STD Scores 0.0\n",
      "Decision Tree Regressor: Mean Score 8.86417650447 STD Scores 0.054140941103\n",
      "Random Forest:           Mean Score 8.58114475955 STD Scores 0.0400794100288\n",
      "\n",
      "Scores for the column: PUNT_INGLES\n",
      "Linear Regression:       Mean Score -1.0 STD Scores 0.0\n",
      "Decision Tree Regressor: Mean Score 6.76141505106 STD Scores 0.0107723477327\n",
      "Random Forest:           Mean Score 6.53383042538 STD Scores 0.0415431663307\n",
      "\n",
      "Scores for the column: PUNT_RAZONA_CUANT\n",
      "Linear Regression:       Mean Score -1.0 STD Scores 0.0\n",
      "Decision Tree Regressor: Mean Score 9.17207073016 STD Scores 0.0487325226941\n",
      "Random Forest:           Mean Score 8.89232237288 STD Scores 0.0370469869031\n",
      "\n",
      "Scores for the column: PUNT_COMP_CIUDADANA\n",
      "Linear Regression:       Mean Score -1.0 STD Scores 0.0\n",
      "Decision Tree Regressor: Mean Score 8.52384190803 STD Scores 0.01731229059\n",
      "Random Forest:           Mean Score 8.25062491734 STD Scores 0.0334813336681\n",
      "\n",
      "Scores for the column: PUNT_GLOBAL\n",
      "Linear Regression:       Mean Score -1.0 STD Scores 0.0\n",
      "Decision Tree Regressor: Mean Score 33.1194248525 STD Scores 0.0630199627753\n",
      "Random Forest:           Mean Score 31.9744901028 STD Scores 0.123924223503\n",
      "\n"
     ]
    }
   ],
   "source": [
    "Preds_2015 = Predict_all_Subjects_2014(data_2015_1)"
   ]
  },
  {
   "cell_type": "code",
   "execution_count": 121,
   "metadata": {
    "collapsed": false,
    "scrolled": true
   },
   "outputs": [
    {
     "name": "stdout",
     "output_type": "stream",
     "text": [
      "Scores for the column: PUNT_LECTURA_CRITICA\n",
      "Linear Regression:       Mean Score -1.0 STD Scores 0.0\n",
      "Decision Tree Regressor: Mean Score 6.31589076534 STD Scores 0.0168793376906\n",
      "Random Forest:           Mean Score 6.23467000912 STD Scores 0.0105355740486\n",
      "\n",
      "Scores for the column: PUNT_MATEMATICAS\n",
      "Linear Regression:       Mean Score -1.0 STD Scores 0.0\n",
      "Decision Tree Regressor: Mean Score 7.84945836045 STD Scores 0.02668135647\n",
      "Random Forest:           Mean Score 7.72258517043 STD Scores 0.0157294448832\n",
      "\n",
      "Scores for the column: PUNT_C_NATURALES\n",
      "Linear Regression:       Mean Score -1.0 STD Scores 0.0\n",
      "Decision Tree Regressor: Mean Score 6.56108400869 STD Scores 0.00990707572727\n",
      "Random Forest:           Mean Score 6.45723764347 STD Scores 0.00306150549394\n",
      "\n",
      "Scores for the column: PUNT_SOCIALES_CIUDADANAS\n",
      "Linear Regression:       Mean Score -1.0 STD Scores 0.0\n",
      "Decision Tree Regressor: Mean Score 7.6584352918 STD Scores 0.0135267610894\n",
      "Random Forest:           Mean Score 7.54312400745 STD Scores 0.00835601963131\n",
      "\n",
      "Scores for the column: PUNT_INGLES\n",
      "Linear Regression:       Mean Score -1.0 STD Scores 0.0\n",
      "Decision Tree Regressor: Mean Score 6.59841391437 STD Scores 0.0150303834677\n",
      "Random Forest:           Mean Score 6.49810124935 STD Scores 0.00841058664663\n",
      "\n",
      "Scores for the column: PUNT_RAZONA_CUANT\n",
      "Linear Regression:       Mean Score -1.0 STD Scores 0.0\n",
      "Decision Tree Regressor: Mean Score 8.82189706042 STD Scores 0.0143077729061\n",
      "Random Forest:           Mean Score 8.68461624603 STD Scores 0.0189648566956\n",
      "\n",
      "Scores for the column: PUNT_COMP_CIUDADANA\n",
      "Linear Regression:       Mean Score -1.0 STD Scores 0.0\n",
      "Decision Tree Regressor: Mean Score 6.88938727971 STD Scores 0.0148185132488\n",
      "Random Forest:           Mean Score 6.81130093883 STD Scores 0.0110808879994\n",
      "\n",
      "Scores for the column: PUNT_GLOBAL\n",
      "Linear Regression:       Mean Score -1.0 STD Scores 0.0\n",
      "Decision Tree Regressor: Mean Score 29.7922945532 STD Scores 0.0559227062922\n",
      "Random Forest:           Mean Score 29.2776544095 STD Scores 0.0127090462395\n",
      "\n"
     ]
    }
   ],
   "source": [
    "Preds_2015_2 = Predict_all_Subjects_2014(data_2015_2)"
   ]
  },
  {
   "cell_type": "code",
   "execution_count": 122,
   "metadata": {
    "collapsed": false,
    "scrolled": true
   },
   "outputs": [
    {
     "name": "stdout",
     "output_type": "stream",
     "text": [
      "Scores for the column: PUNT_LECTURA_CRITICA\n",
      "Linear Regression:       Mean Score -1.0 STD Scores 0.0\n",
      "Decision Tree Regressor: Mean Score 6.0969939001 STD Scores 0.044552165141\n",
      "Random Forest:           Mean Score 5.85662905456 STD Scores 0.0553733428387\n",
      "\n",
      "Scores for the column: PUNT_MATEMATICAS\n",
      "Linear Regression:       Mean Score -1.0 STD Scores 0.0\n",
      "Decision Tree Regressor: Mean Score 9.41000760157 STD Scores 0.0581804352295\n",
      "Random Forest:           Mean Score 9.05500010479 STD Scores 0.0444693022242\n",
      "\n",
      "Scores for the column: PUNT_C_NATURALES\n",
      "Linear Regression:       Mean Score -1.0 STD Scores 0.0\n",
      "Decision Tree Regressor: Mean Score 7.1292635116 STD Scores 0.0544590816969\n",
      "Random Forest:           Mean Score 6.86889529076 STD Scores 0.0330114231914\n",
      "\n",
      "Scores for the column: PUNT_SOCIALES_CIUDADANAS\n",
      "Linear Regression:       Mean Score -1.0 STD Scores 0.0\n",
      "Decision Tree Regressor: Mean Score 8.48281495674 STD Scores 0.058780752765\n",
      "Random Forest:           Mean Score 8.14534919722 STD Scores 0.0517829088793\n",
      "\n",
      "Scores for the column: PUNT_INGLES\n",
      "Linear Regression:       Mean Score -1.0 STD Scores 0.0\n",
      "Decision Tree Regressor: Mean Score 7.52471813171 STD Scores 0.036638893803\n",
      "Random Forest:           Mean Score 7.26735992198 STD Scores 0.0240660028863\n",
      "\n"
     ]
    }
   ],
   "source": [
    "Preds_2016 = Predict_all_Subjects_2014(data_2016_1)"
   ]
  },
  {
   "cell_type": "code",
   "execution_count": 123,
   "metadata": {
    "collapsed": false,
    "scrolled": true
   },
   "outputs": [
    {
     "name": "stdout",
     "output_type": "stream",
     "text": [
      "Scores for the column: PUNT_LECTURA_CRITICA\n",
      "Linear Regression:       Mean Score -1.0 STD Scores 0.0\n",
      "Decision Tree Regressor: Mean Score 0.093620072309 STD Scores 0.00288622175871\n",
      "Random Forest:           Mean Score 0.0991532490837 STD Scores 0.00538381728368\n",
      "\n",
      "Scores for the column: PUNT_MATEMATICAS\n",
      "Linear Regression:       Mean Score -1.0 STD Scores 0.0\n",
      "Decision Tree Regressor: Mean Score 0.0814478516824 STD Scores 0.00590083407679\n",
      "Random Forest:           Mean Score 0.0893523748529 STD Scores 0.00491058140501\n",
      "\n",
      "Scores for the column: PUNT_C_NATURALES\n",
      "Linear Regression:       Mean Score -1.0 STD Scores 0.0\n",
      "Decision Tree Regressor: Mean Score 0.103420355454 STD Scores 0.00676824536327\n",
      "Random Forest:           Mean Score 0.103695288286 STD Scores 0.00645613150176\n",
      "\n",
      "Scores for the column: PUNT_SOCIALES_CIUDADANAS\n",
      "Linear Regression:       Mean Score -1.0 STD Scores 0.0\n",
      "Decision Tree Regressor: Mean Score 0.0872658007876 STD Scores 0.00465893464936\n",
      "Random Forest:           Mean Score 0.0830368571124 STD Scores 0.00321177540148\n",
      "\n",
      "Scores for the column: PUNT_INGLES\n",
      "Linear Regression:       Mean Score -1.0 STD Scores 0.0\n",
      "Decision Tree Regressor: Mean Score 0.139610988308 STD Scores 0.00985713767708\n",
      "Random Forest:           Mean Score 0.118916547774 STD Scores 0.0101019279329\n",
      "\n",
      "Scores for the column: PUNT_GLOBAL\n",
      "Linear Regression:       Mean Score -1.0 STD Scores 0.0\n",
      "Decision Tree Regressor: Mean Score 1.1114347632 STD Scores 0.0135325068093\n",
      "Random Forest:           Mean Score 1.06625149383 STD Scores 0.0162138958132\n",
      "\n"
     ]
    }
   ],
   "source": [
    "Preds_2016_1_V2 = Predict_all_Subjects_2014(data_2016_1_V2)"
   ]
  },
  {
   "cell_type": "code",
   "execution_count": 124,
   "metadata": {
    "collapsed": false,
    "scrolled": true
   },
   "outputs": [
    {
     "name": "stdout",
     "output_type": "stream",
     "text": [
      "Scores for the column: PUNT_LECTURA_CRITICA\n",
      "Linear Regression:       Mean Score -1.0 STD Scores 0.0\n",
      "Decision Tree Regressor: Mean Score 0.195942057982 STD Scores 0.0017598494742\n",
      "Random Forest:           Mean Score 0.195458625628 STD Scores 0.00184155309484\n",
      "\n",
      "Scores for the column: PUNT_MATEMATICAS\n",
      "Linear Regression:       Mean Score -1.0 STD Scores 0.0\n",
      "Decision Tree Regressor: Mean Score 0.204630985581 STD Scores 0.00137517407257\n",
      "Random Forest:           Mean Score 0.201352963291 STD Scores 0.000510340975206\n",
      "\n",
      "Scores for the column: PUNT_C_NATURALES\n",
      "Linear Regression:       Mean Score -1.0 STD Scores 0.0\n",
      "Decision Tree Regressor: Mean Score 0.188500616892 STD Scores 0.000840316454054\n",
      "Random Forest:           Mean Score 0.188305099785 STD Scores 0.00156611502707\n",
      "\n",
      "Scores for the column: PUNT_SOCIALES_CIUDADANAS\n",
      "Linear Regression:       Mean Score -1.0 STD Scores 0.0\n",
      "Decision Tree Regressor: Mean Score 0.184992669681 STD Scores 0.000992382771689\n",
      "Random Forest:           Mean Score 0.183987934491 STD Scores 0.0011106754105\n",
      "\n",
      "Scores for the column: PUNT_INGLES\n",
      "Linear Regression:       Mean Score -1.0 STD Scores 0.0\n",
      "Decision Tree Regressor: Mean Score 0.249087647167 STD Scores 0.00187876353484\n",
      "Random Forest:           Mean Score 0.249981367053 STD Scores 0.000834241233384\n",
      "\n",
      "Scores for the column: PUNT_GLOBAL\n",
      "Linear Regression:       Mean Score -1.0 STD Scores 0.0\n",
      "Decision Tree Regressor: Mean Score 0.705387151947 STD Scores 0.00566753358552\n",
      "Random Forest:           Mean Score 0.691326646387 STD Scores 0.00423029762339\n",
      "\n"
     ]
    }
   ],
   "source": [
    "Preds_2016_2 = Predict_all_Subjects_2014(data_2016_2)"
   ]
  },
  {
   "cell_type": "code",
   "execution_count": 125,
   "metadata": {
    "collapsed": false,
    "scrolled": true
   },
   "outputs": [
    {
     "name": "stdout",
     "output_type": "stream",
     "text": [
      "Scores for the column: PUNT_LECTURA_CRITICA\n",
      "Linear Regression:       Mean Score -1.0 STD Scores 0.0\n",
      "Decision Tree Regressor: Mean Score 0.213479006689 STD Scores 0.0106500651421\n",
      "Random Forest:           Mean Score 0.207657648297 STD Scores 0.0143955152247\n",
      "\n",
      "Scores for the column: PUNT_MATEMATICAS\n",
      "Linear Regression:       Mean Score -1.0 STD Scores 0.0\n",
      "Decision Tree Regressor: Mean Score 0.228396665354 STD Scores 0.00784219762604\n",
      "Random Forest:           Mean Score 0.244043431731 STD Scores 0.0192511673991\n",
      "\n",
      "Scores for the column: PUNT_C_NATURALES\n",
      "Linear Regression:       Mean Score -1.0 STD Scores 0.0\n",
      "Decision Tree Regressor: Mean Score 0.233025584188 STD Scores 0.0226575857846\n",
      "Random Forest:           Mean Score 0.259799456686 STD Scores 0.0114002768693\n",
      "\n",
      "Scores for the column: PUNT_SOCIALES_CIUDADANAS\n",
      "Linear Regression:       Mean Score -1.0 STD Scores 0.0\n",
      "Decision Tree Regressor: Mean Score 0.261965906114 STD Scores 0.00876204479457\n",
      "Random Forest:           Mean Score 0.26174614505 STD Scores 0.0192078272778\n",
      "\n",
      "Scores for the column: PUNT_INGLES\n",
      "Linear Regression:       Mean Score -1.0 STD Scores 0.0\n",
      "Decision Tree Regressor: Mean Score 0.260869526617 STD Scores 0.00537784298739\n",
      "Random Forest:           Mean Score 0.258375324407 STD Scores 0.00457870899735\n",
      "\n",
      "Scores for the column: PUNT_GLOBAL\n",
      "Linear Regression:       Mean Score -1.0 STD Scores 0.0\n",
      "Decision Tree Regressor: Mean Score 0.873036405527 STD Scores 0.0126557104193\n",
      "Random Forest:           Mean Score 0.805399543185 STD Scores 0.0054760080306\n",
      "\n"
     ]
    }
   ],
   "source": [
    "Preds_2017 = Predict_all_Subjects_2014(data_2017_1)"
   ]
  },
  {
   "cell_type": "markdown",
   "metadata": {},
   "source": [
    "# Getting Final DataFrames for second analysis"
   ]
  },
  {
   "cell_type": "code",
   "execution_count": 131,
   "metadata": {
    "collapsed": true
   },
   "outputs": [],
   "source": [
    "LR_serie_2014_2 = get_serie(Preds_2014_2, 'LR', '2014_2')\n",
    "\n",
    "LR_serie_2015_1 = get_serie(Preds_2015, 'LR', '2015_1')\n",
    "LR_serie_2015_2 = get_serie(Preds_2015_2, 'LR', '2015_2')\n",
    "\n",
    "LR_serie_2016_1 = get_serie(Preds_2016, 'LR', '2016_1')\n",
    "LR_serie_2016_1_V2 = get_serie(Preds_2016_1_V2, 'LR', '2016_1_V2')\n",
    "LR_serie_2016_2 = get_serie(Preds_2016_2, 'LR', '2016_2')\n",
    "\n",
    "LR_serie_2017_1 = get_serie(Preds_2017, 'LR', '2017_1')"
   ]
  },
  {
   "cell_type": "code",
   "execution_count": 132,
   "metadata": {
    "collapsed": false
   },
   "outputs": [],
   "source": [
    "Final_LR_2 = pd.concat([LR_serie_2014_2, LR_serie_2015_1, LR_serie_2015_2, LR_serie_2016_1, LR_serie_2016_1_V2, LR_serie_2016_2,\n",
    "                        LR_serie_2017_1], axis=1)"
   ]
  },
  {
   "cell_type": "code",
   "execution_count": 142,
   "metadata": {
    "collapsed": false
   },
   "outputs": [],
   "source": [
    "Final_LR_2 = Final_LR_2.T"
   ]
  },
  {
   "cell_type": "code",
   "execution_count": 134,
   "metadata": {
    "collapsed": true
   },
   "outputs": [],
   "source": [
    "DT_serie_2014_2 = get_serie(Preds_2014_2, 'DTR', '2014_2')\n",
    "\n",
    "DT_serie_2015_1 = get_serie(Preds_2015, 'DTR', '2015_1')\n",
    "DT_serie_2015_2 = get_serie(Preds_2015_2, 'DTR', '2015_2')\n",
    "\n",
    "DT_serie_2016_1 = get_serie(Preds_2016, 'DTR', '2016_1')\n",
    "DT_serie_2016_1_V2 = get_serie(Preds_2016_1_V2, 'DTR', '2016_1_V2')\n",
    "DT_serie_2016_2 = get_serie(Preds_2016_2, 'DTR', '2016_2')\n",
    "\n",
    "DT_serie_2017_1 = get_serie(Preds_2017, 'DTR', '2017_1')"
   ]
  },
  {
   "cell_type": "code",
   "execution_count": 135,
   "metadata": {
    "collapsed": true
   },
   "outputs": [],
   "source": [
    "Final_DT_2 = pd.concat([DT_serie_2014_2, DT_serie_2015_1, DT_serie_2015_2, DT_serie_2016_1, DT_serie_2016_1_V2, DT_serie_2016_2,\n",
    "                        DT_serie_2017_1], axis=1)"
   ]
  },
  {
   "cell_type": "code",
   "execution_count": 141,
   "metadata": {
    "collapsed": false
   },
   "outputs": [],
   "source": [
    "Final_DT_2 = Final_DT_2.T"
   ]
  },
  {
   "cell_type": "code",
   "execution_count": 136,
   "metadata": {
    "collapsed": true
   },
   "outputs": [],
   "source": [
    "RF_serie_2014_2 = get_serie(Preds_2014_2, 'RFR', '2014_2')\n",
    "\n",
    "RF_serie_2015_1 = get_serie(Preds_2015, 'RFR', '2015_1')\n",
    "RF_serie_2015_2 = get_serie(Preds_2015_2, 'RFR', '2015_2')\n",
    "\n",
    "RF_serie_2016_1 = get_serie(Preds_2016, 'RFR', '2016_1')\n",
    "RF_serie_2016_1_V2 = get_serie(Preds_2016_1_V2, 'RFR', '2016_1_V2')\n",
    "RF_serie_2016_2 = get_serie(Preds_2016_2, 'RFR', '2016_2')\n",
    "\n",
    "RF_serie_2017_1 = get_serie(Preds_2017, 'RFR', '2017_1')"
   ]
  },
  {
   "cell_type": "code",
   "execution_count": 137,
   "metadata": {
    "collapsed": true
   },
   "outputs": [],
   "source": [
    "Final_RF_2 = pd.concat([RF_serie_2014_2, RF_serie_2015_1, RF_serie_2015_2, RF_serie_2016_1, RF_serie_2016_1_V2, RF_serie_2016_2,\n",
    "                        RF_serie_2017_1], axis=1)"
   ]
  },
  {
   "cell_type": "code",
   "execution_count": 144,
   "metadata": {
    "collapsed": false
   },
   "outputs": [],
   "source": [
    "Final_RF_2 = Final_RF_2.T"
   ]
  },
  {
   "cell_type": "markdown",
   "metadata": {},
   "source": [
    "saving the final DF"
   ]
  },
  {
   "cell_type": "code",
   "execution_count": 145,
   "metadata": {
    "collapsed": true
   },
   "outputs": [],
   "source": [
    "Final_LR_2.to_csv('Final_Results/Final_LR_2.csv', index=True, sep=';')\n",
    "Final_DT_2.to_csv('Final_Results/Final_DT_2.csv', index=True, sep=';')\n",
    "Final_RF_2.to_csv('Final_Results/Final_RF_2.csv', index=True, sep=';')"
   ]
  }
 ],
 "metadata": {
  "kernelspec": {
   "display_name": "Python 3 + Anaconda",
   "language": "python",
   "name": "pyconda3"
  },
  "language_info": {
   "codemirror_mode": {
    "name": "ipython",
    "version": 3
   },
   "file_extension": ".py",
   "mimetype": "text/x-python",
   "name": "python",
   "nbconvert_exporter": "python",
   "pygments_lexer": "ipython3",
   "version": "3.5.1"
  }
 },
 "nbformat": 4,
 "nbformat_minor": 0
}
