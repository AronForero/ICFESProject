{
 "cells": [
  {
   "cell_type": "code",
   "execution_count": 1,
   "metadata": {
    "collapsed": true
   },
   "outputs": [],
   "source": [
    "import pandas as pd\n",
    "import numpy as np\n",
    "%run -i ../tools/functions.py\n",
    "%run -i ../tools/label_encoder.py"
   ]
  },
  {
   "cell_type": "code",
   "execution_count": 2,
   "metadata": {
    "collapsed": false
   },
   "outputs": [
    {
     "name": "stderr",
     "output_type": "stream",
     "text": [
      "/usr/local/anaconda3/lib/python3.5/site-packages/IPython/core/interactiveshell.py:2723: DtypeWarning: Columns (5,13,14) have mixed types. Specify dtype option on import or set low_memory=False.\n",
      "  interactivity=interactivity, compiler=compiler, result=result)\n"
     ]
    }
   ],
   "source": [
    "data_2002 = pd.read_csv('../DatosFTPICFES/SABER11/SB11-BASES_DE_DATOS/SB11-20021-RGSTRO-CLFCCN-V1-0.txt', delimiter=\"|\",\n",
    "                       encoding = \"iso-8859-1\")"
   ]
  },
  {
   "cell_type": "code",
   "execution_count": 3,
   "metadata": {
    "collapsed": false
   },
   "outputs": [
    {
     "data": {
      "text/plain": [
       "(63371, 57)"
      ]
     },
     "execution_count": 3,
     "metadata": {},
     "output_type": "execute_result"
    }
   ],
   "source": [
    "data_2002.shape"
   ]
  },
  {
   "cell_type": "code",
   "execution_count": 4,
   "metadata": {
    "collapsed": false,
    "scrolled": true
   },
   "outputs": [
    {
     "data": {
      "text/html": [
       "<div>\n",
       "<table border=\"1\" class=\"dataframe\">\n",
       "  <thead>\n",
       "    <tr style=\"text-align: right;\">\n",
       "      <th></th>\n",
       "      <th>0</th>\n",
       "      <th>1</th>\n",
       "      <th>2</th>\n",
       "    </tr>\n",
       "  </thead>\n",
       "  <tbody>\n",
       "    <tr>\n",
       "      <th>ESTU_CONSECUTIVO</th>\n",
       "      <td>SB20021000023</td>\n",
       "      <td>SB20021000024</td>\n",
       "      <td>SB20021000025</td>\n",
       "    </tr>\n",
       "    <tr>\n",
       "      <th>COLE_COD_ICFES</th>\n",
       "      <td>83378</td>\n",
       "      <td>11957</td>\n",
       "      <td>11957</td>\n",
       "    </tr>\n",
       "    <tr>\n",
       "      <th>COLE_NOMBRE_SEDE</th>\n",
       "      <td>CENTRO DE CAPACITACION BOLIVAR CENCABO</td>\n",
       "      <td>INSTITUTO TECNICO INDUSTRIAL</td>\n",
       "      <td>INSTITUTO TECNICO INDUSTRIAL</td>\n",
       "    </tr>\n",
       "    <tr>\n",
       "      <th>IND_ANNO_TERMINO_BACHILLERATO</th>\n",
       "      <td>2001</td>\n",
       "      <td>2002</td>\n",
       "      <td>2002</td>\n",
       "    </tr>\n",
       "    <tr>\n",
       "      <th>COLE_JORNADA</th>\n",
       "      <td>COMPLETA U ORDINARIA</td>\n",
       "      <td>COMPLETA U ORDINARIA</td>\n",
       "      <td>COMPLETA U ORDINARIA</td>\n",
       "    </tr>\n",
       "    <tr>\n",
       "      <th>COLE_VALOR_PENSION</th>\n",
       "      <td>3</td>\n",
       "      <td>8</td>\n",
       "      <td>8</td>\n",
       "    </tr>\n",
       "    <tr>\n",
       "      <th>ESTU_GENERO</th>\n",
       "      <td>F</td>\n",
       "      <td>M</td>\n",
       "      <td>F</td>\n",
       "    </tr>\n",
       "    <tr>\n",
       "      <th>ESTU_NACIMIENTO_DIA</th>\n",
       "      <td>5</td>\n",
       "      <td>28</td>\n",
       "      <td>5</td>\n",
       "    </tr>\n",
       "    <tr>\n",
       "      <th>ESTU_NACIMIENTO_MES</th>\n",
       "      <td>12</td>\n",
       "      <td>10</td>\n",
       "      <td>4</td>\n",
       "    </tr>\n",
       "    <tr>\n",
       "      <th>ESTU_NACIMIENTO_ANNO</th>\n",
       "      <td>1981</td>\n",
       "      <td>1979</td>\n",
       "      <td>1980</td>\n",
       "    </tr>\n",
       "    <tr>\n",
       "      <th>ESTU_DEPTO_PRESENTACION</th>\n",
       "      <td>BOGOTA</td>\n",
       "      <td>NARIÑO</td>\n",
       "      <td>NARIÑO</td>\n",
       "    </tr>\n",
       "    <tr>\n",
       "      <th>ESTU_MCPIO_PRESENTACION</th>\n",
       "      <td>BOGOTA D.C.</td>\n",
       "      <td>TUMACO</td>\n",
       "      <td>TUMACO</td>\n",
       "    </tr>\n",
       "    <tr>\n",
       "      <th>ESTU_LIMITA_INVIDENTE</th>\n",
       "      <td>NaN</td>\n",
       "      <td>NaN</td>\n",
       "      <td>NaN</td>\n",
       "    </tr>\n",
       "    <tr>\n",
       "      <th>ESTU_LIMITA_SORDOINTERPRETE</th>\n",
       "      <td>NaN</td>\n",
       "      <td>NaN</td>\n",
       "      <td>NaN</td>\n",
       "    </tr>\n",
       "    <tr>\n",
       "      <th>ESTU_LIMITA_SORDONOINTERPRETE</th>\n",
       "      <td>NaN</td>\n",
       "      <td>NaN</td>\n",
       "      <td>NaN</td>\n",
       "    </tr>\n",
       "    <tr>\n",
       "      <th>ESTU_LIMITA_MOTRIZ</th>\n",
       "      <td>NaN</td>\n",
       "      <td>NaN</td>\n",
       "      <td>NaN</td>\n",
       "    </tr>\n",
       "    <tr>\n",
       "      <th>PUNT_BIOLOGIA</th>\n",
       "      <td>44</td>\n",
       "      <td>46</td>\n",
       "      <td>40</td>\n",
       "    </tr>\n",
       "    <tr>\n",
       "      <th>PUNT_MATEMATICAS</th>\n",
       "      <td>34</td>\n",
       "      <td>47</td>\n",
       "      <td>47</td>\n",
       "    </tr>\n",
       "    <tr>\n",
       "      <th>PUNT_FILOSOFIA</th>\n",
       "      <td>30</td>\n",
       "      <td>39</td>\n",
       "      <td>35</td>\n",
       "    </tr>\n",
       "    <tr>\n",
       "      <th>PUNT_FISICA</th>\n",
       "      <td>47</td>\n",
       "      <td>45</td>\n",
       "      <td>40</td>\n",
       "    </tr>\n",
       "    <tr>\n",
       "      <th>PUNT_HISTORIA</th>\n",
       "      <td>39</td>\n",
       "      <td>39</td>\n",
       "      <td>44</td>\n",
       "    </tr>\n",
       "    <tr>\n",
       "      <th>PUNT_QUIMICA</th>\n",
       "      <td>46</td>\n",
       "      <td>39</td>\n",
       "      <td>46</td>\n",
       "    </tr>\n",
       "    <tr>\n",
       "      <th>PUNT_LENGUAJE</th>\n",
       "      <td>40</td>\n",
       "      <td>35</td>\n",
       "      <td>40</td>\n",
       "    </tr>\n",
       "    <tr>\n",
       "      <th>PUNT_GEOGRAFIA</th>\n",
       "      <td>44</td>\n",
       "      <td>51</td>\n",
       "      <td>26</td>\n",
       "    </tr>\n",
       "    <tr>\n",
       "      <th>COD_INTERDISCIPLINAR</th>\n",
       "      <td>43</td>\n",
       "      <td>44</td>\n",
       "      <td>44</td>\n",
       "    </tr>\n",
       "    <tr>\n",
       "      <th>PUNT_INTERDISCIPLINAR</th>\n",
       "      <td>61</td>\n",
       "      <td>34</td>\n",
       "      <td>34</td>\n",
       "    </tr>\n",
       "    <tr>\n",
       "      <th>COD_IDIOMA</th>\n",
       "      <td>51</td>\n",
       "      <td>51</td>\n",
       "      <td>51</td>\n",
       "    </tr>\n",
       "    <tr>\n",
       "      <th>PUNT_IDIOMA</th>\n",
       "      <td>42</td>\n",
       "      <td>35</td>\n",
       "      <td>35</td>\n",
       "    </tr>\n",
       "    <tr>\n",
       "      <th>ESTU_IES_COD_DESEADA</th>\n",
       "      <td>1121</td>\n",
       "      <td>1730</td>\n",
       "      <td>1101</td>\n",
       "    </tr>\n",
       "    <tr>\n",
       "      <th>ESTU_RAZONINSTITUTO</th>\n",
       "      <td>5</td>\n",
       "      <td>4</td>\n",
       "      <td>6</td>\n",
       "    </tr>\n",
       "    <tr>\n",
       "      <th>ESTU_CARRDESEADA_COD</th>\n",
       "      <td>44102</td>\n",
       "      <td>48103</td>\n",
       "      <td>48258</td>\n",
       "    </tr>\n",
       "    <tr>\n",
       "      <th>ESTU_CARRDESEADA_RAZON</th>\n",
       "      <td>2</td>\n",
       "      <td>1</td>\n",
       "      <td>4</td>\n",
       "    </tr>\n",
       "    <tr>\n",
       "      <th>FAMI_PERSONAS_HOGAR</th>\n",
       "      <td>3</td>\n",
       "      <td>7</td>\n",
       "      <td>6</td>\n",
       "    </tr>\n",
       "    <tr>\n",
       "      <th>FAMI_VIVIENDA_PROPIA</th>\n",
       "      <td>N</td>\n",
       "      <td>S</td>\n",
       "      <td>S</td>\n",
       "    </tr>\n",
       "    <tr>\n",
       "      <th>FAMI_DEUDA_VIVIENDA</th>\n",
       "      <td>NaN</td>\n",
       "      <td>N</td>\n",
       "      <td>N</td>\n",
       "    </tr>\n",
       "    <tr>\n",
       "      <th>FAMI_APORTANTES</th>\n",
       "      <td>1</td>\n",
       "      <td>NaN</td>\n",
       "      <td>2</td>\n",
       "    </tr>\n",
       "    <tr>\n",
       "      <th>FAMI_INGRESO_FMILIAR_MENSUAL</th>\n",
       "      <td>1</td>\n",
       "      <td>2</td>\n",
       "      <td>0</td>\n",
       "    </tr>\n",
       "    <tr>\n",
       "      <th>FAMI_LEE_ESCRIBE_PADRE</th>\n",
       "      <td>S</td>\n",
       "      <td>S</td>\n",
       "      <td>NaN</td>\n",
       "    </tr>\n",
       "    <tr>\n",
       "      <th>FAMI_LEE_ESCRIBE_MADRE</th>\n",
       "      <td>S</td>\n",
       "      <td>S</td>\n",
       "      <td>S</td>\n",
       "    </tr>\n",
       "    <tr>\n",
       "      <th>FAMI_EDUCA_PADRE</th>\n",
       "      <td>*</td>\n",
       "      <td>NaN</td>\n",
       "      <td>NaN</td>\n",
       "    </tr>\n",
       "    <tr>\n",
       "      <th>FAMI_EDUCA_MADRE</th>\n",
       "      <td>*</td>\n",
       "      <td>4</td>\n",
       "      <td>3</td>\n",
       "    </tr>\n",
       "    <tr>\n",
       "      <th>FAMI_OCUPA_PADRE</th>\n",
       "      <td>06</td>\n",
       "      <td>*</td>\n",
       "      <td>NaN</td>\n",
       "    </tr>\n",
       "    <tr>\n",
       "      <th>FAMI_OCUPA_MADRE</th>\n",
       "      <td>10</td>\n",
       "      <td>NaN</td>\n",
       "      <td>10</td>\n",
       "    </tr>\n",
       "    <tr>\n",
       "      <th>FAMI_NUM_HERMANOS</th>\n",
       "      <td>1</td>\n",
       "      <td>3</td>\n",
       "      <td>4</td>\n",
       "    </tr>\n",
       "    <tr>\n",
       "      <th>FAMI_NUM_HERMANOS_EDUSUPERIOR</th>\n",
       "      <td>1</td>\n",
       "      <td>0</td>\n",
       "      <td>4</td>\n",
       "    </tr>\n",
       "    <tr>\n",
       "      <th>FAMI_POSICION_HERMANOS</th>\n",
       "      <td>2</td>\n",
       "      <td>1</td>\n",
       "      <td>NaN</td>\n",
       "    </tr>\n",
       "    <tr>\n",
       "      <th>FAMI_SOST_PERSONAL</th>\n",
       "      <td>NaN</td>\n",
       "      <td>T</td>\n",
       "      <td>P</td>\n",
       "    </tr>\n",
       "    <tr>\n",
       "      <th>ESTU_TRABAJA</th>\n",
       "      <td>NaN</td>\n",
       "      <td>N</td>\n",
       "      <td>S</td>\n",
       "    </tr>\n",
       "    <tr>\n",
       "      <th>ESTU_ACT_PROX_ANNO</th>\n",
       "      <td>3</td>\n",
       "      <td>3</td>\n",
       "      <td>3</td>\n",
       "    </tr>\n",
       "    <tr>\n",
       "      <th>COLE_CALENDARIO</th>\n",
       "      <td>F</td>\n",
       "      <td>B</td>\n",
       "      <td>B</td>\n",
       "    </tr>\n",
       "    <tr>\n",
       "      <th>COLE_BILINGUE</th>\n",
       "      <td>NaN</td>\n",
       "      <td>NaN</td>\n",
       "      <td>NaN</td>\n",
       "    </tr>\n",
       "    <tr>\n",
       "      <th>COLE_CARACTER</th>\n",
       "      <td>ACADEMICO Y TECNICO</td>\n",
       "      <td>TECNICO</td>\n",
       "      <td>TECNICO</td>\n",
       "    </tr>\n",
       "    <tr>\n",
       "      <th>COLE_DEPTO_UBICACION</th>\n",
       "      <td>BOGOTA</td>\n",
       "      <td>NARIÑO</td>\n",
       "      <td>NARIÑO</td>\n",
       "    </tr>\n",
       "    <tr>\n",
       "      <th>COLE_MCPIO_UBICACION</th>\n",
       "      <td>BOGOTÁ D.C.</td>\n",
       "      <td>TUMACO</td>\n",
       "      <td>TUMACO</td>\n",
       "    </tr>\n",
       "    <tr>\n",
       "      <th>ESTU_TIPO_DOCUMENTO</th>\n",
       "      <td>C</td>\n",
       "      <td>C</td>\n",
       "      <td>C</td>\n",
       "    </tr>\n",
       "    <tr>\n",
       "      <th>ESTU_RESIDE_DEPTO</th>\n",
       "      <td>BOGOTA</td>\n",
       "      <td>NARIÑO</td>\n",
       "      <td>NARIÑO</td>\n",
       "    </tr>\n",
       "    <tr>\n",
       "      <th>ESTU_RESIDE_MCPIO</th>\n",
       "      <td>BOGOTA D.C.</td>\n",
       "      <td>TUMACO</td>\n",
       "      <td>TUMACO</td>\n",
       "    </tr>\n",
       "  </tbody>\n",
       "</table>\n",
       "</div>"
      ],
      "text/plain": [
       "                                                                    0  \\\n",
       "ESTU_CONSECUTIVO                                        SB20021000023   \n",
       "COLE_COD_ICFES                                                  83378   \n",
       "COLE_NOMBRE_SEDE               CENTRO DE CAPACITACION BOLIVAR CENCABO   \n",
       "IND_ANNO_TERMINO_BACHILLERATO                                    2001   \n",
       "COLE_JORNADA                                     COMPLETA U ORDINARIA   \n",
       "COLE_VALOR_PENSION                                                  3   \n",
       "ESTU_GENERO                                                         F   \n",
       "ESTU_NACIMIENTO_DIA                                                 5   \n",
       "ESTU_NACIMIENTO_MES                                                12   \n",
       "ESTU_NACIMIENTO_ANNO                                             1981   \n",
       "ESTU_DEPTO_PRESENTACION                                        BOGOTA   \n",
       "ESTU_MCPIO_PRESENTACION                                   BOGOTA D.C.   \n",
       "ESTU_LIMITA_INVIDENTE                                             NaN   \n",
       "ESTU_LIMITA_SORDOINTERPRETE                                       NaN   \n",
       "ESTU_LIMITA_SORDONOINTERPRETE                                     NaN   \n",
       "ESTU_LIMITA_MOTRIZ                                                NaN   \n",
       "PUNT_BIOLOGIA                                                      44   \n",
       "PUNT_MATEMATICAS                                                   34   \n",
       "PUNT_FILOSOFIA                                                     30   \n",
       "PUNT_FISICA                                                        47   \n",
       "PUNT_HISTORIA                                                      39   \n",
       "PUNT_QUIMICA                                                       46   \n",
       "PUNT_LENGUAJE                                                      40   \n",
       "PUNT_GEOGRAFIA                                                     44   \n",
       "COD_INTERDISCIPLINAR                                               43   \n",
       "PUNT_INTERDISCIPLINAR                                              61   \n",
       "COD_IDIOMA                                                         51   \n",
       "PUNT_IDIOMA                                                        42   \n",
       "ESTU_IES_COD_DESEADA                                             1121   \n",
       "ESTU_RAZONINSTITUTO                                                 5   \n",
       "ESTU_CARRDESEADA_COD                                            44102   \n",
       "ESTU_CARRDESEADA_RAZON                                              2   \n",
       "FAMI_PERSONAS_HOGAR                                                 3   \n",
       "FAMI_VIVIENDA_PROPIA                                                N   \n",
       "FAMI_DEUDA_VIVIENDA                                               NaN   \n",
       "FAMI_APORTANTES                                                     1   \n",
       "FAMI_INGRESO_FMILIAR_MENSUAL                                        1   \n",
       "FAMI_LEE_ESCRIBE_PADRE                                              S   \n",
       "FAMI_LEE_ESCRIBE_MADRE                                              S   \n",
       "FAMI_EDUCA_PADRE                                                    *   \n",
       "FAMI_EDUCA_MADRE                                                    *   \n",
       "FAMI_OCUPA_PADRE                                                   06   \n",
       "FAMI_OCUPA_MADRE                                                   10   \n",
       "FAMI_NUM_HERMANOS                                                   1   \n",
       "FAMI_NUM_HERMANOS_EDUSUPERIOR                                       1   \n",
       "FAMI_POSICION_HERMANOS                                              2   \n",
       "FAMI_SOST_PERSONAL                                                NaN   \n",
       "ESTU_TRABAJA                                                      NaN   \n",
       "ESTU_ACT_PROX_ANNO                                                  3   \n",
       "COLE_CALENDARIO                                                     F   \n",
       "COLE_BILINGUE                                                     NaN   \n",
       "COLE_CARACTER                                     ACADEMICO Y TECNICO   \n",
       "COLE_DEPTO_UBICACION                                           BOGOTA   \n",
       "COLE_MCPIO_UBICACION                                      BOGOTÁ D.C.   \n",
       "ESTU_TIPO_DOCUMENTO                                                 C   \n",
       "ESTU_RESIDE_DEPTO                                              BOGOTA   \n",
       "ESTU_RESIDE_MCPIO                                         BOGOTA D.C.   \n",
       "\n",
       "                                                          1  \\\n",
       "ESTU_CONSECUTIVO                              SB20021000024   \n",
       "COLE_COD_ICFES                                        11957   \n",
       "COLE_NOMBRE_SEDE               INSTITUTO TECNICO INDUSTRIAL   \n",
       "IND_ANNO_TERMINO_BACHILLERATO                          2002   \n",
       "COLE_JORNADA                           COMPLETA U ORDINARIA   \n",
       "COLE_VALOR_PENSION                                        8   \n",
       "ESTU_GENERO                                               M   \n",
       "ESTU_NACIMIENTO_DIA                                      28   \n",
       "ESTU_NACIMIENTO_MES                                      10   \n",
       "ESTU_NACIMIENTO_ANNO                                   1979   \n",
       "ESTU_DEPTO_PRESENTACION                              NARIÑO   \n",
       "ESTU_MCPIO_PRESENTACION                              TUMACO   \n",
       "ESTU_LIMITA_INVIDENTE                                   NaN   \n",
       "ESTU_LIMITA_SORDOINTERPRETE                             NaN   \n",
       "ESTU_LIMITA_SORDONOINTERPRETE                           NaN   \n",
       "ESTU_LIMITA_MOTRIZ                                      NaN   \n",
       "PUNT_BIOLOGIA                                            46   \n",
       "PUNT_MATEMATICAS                                         47   \n",
       "PUNT_FILOSOFIA                                           39   \n",
       "PUNT_FISICA                                              45   \n",
       "PUNT_HISTORIA                                            39   \n",
       "PUNT_QUIMICA                                             39   \n",
       "PUNT_LENGUAJE                                            35   \n",
       "PUNT_GEOGRAFIA                                           51   \n",
       "COD_INTERDISCIPLINAR                                     44   \n",
       "PUNT_INTERDISCIPLINAR                                    34   \n",
       "COD_IDIOMA                                               51   \n",
       "PUNT_IDIOMA                                              35   \n",
       "ESTU_IES_COD_DESEADA                                   1730   \n",
       "ESTU_RAZONINSTITUTO                                       4   \n",
       "ESTU_CARRDESEADA_COD                                  48103   \n",
       "ESTU_CARRDESEADA_RAZON                                    1   \n",
       "FAMI_PERSONAS_HOGAR                                       7   \n",
       "FAMI_VIVIENDA_PROPIA                                      S   \n",
       "FAMI_DEUDA_VIVIENDA                                       N   \n",
       "FAMI_APORTANTES                                         NaN   \n",
       "FAMI_INGRESO_FMILIAR_MENSUAL                              2   \n",
       "FAMI_LEE_ESCRIBE_PADRE                                    S   \n",
       "FAMI_LEE_ESCRIBE_MADRE                                    S   \n",
       "FAMI_EDUCA_PADRE                                        NaN   \n",
       "FAMI_EDUCA_MADRE                                          4   \n",
       "FAMI_OCUPA_PADRE                                          *   \n",
       "FAMI_OCUPA_MADRE                                        NaN   \n",
       "FAMI_NUM_HERMANOS                                         3   \n",
       "FAMI_NUM_HERMANOS_EDUSUPERIOR                             0   \n",
       "FAMI_POSICION_HERMANOS                                    1   \n",
       "FAMI_SOST_PERSONAL                                        T   \n",
       "ESTU_TRABAJA                                              N   \n",
       "ESTU_ACT_PROX_ANNO                                        3   \n",
       "COLE_CALENDARIO                                           B   \n",
       "COLE_BILINGUE                                           NaN   \n",
       "COLE_CARACTER                                       TECNICO   \n",
       "COLE_DEPTO_UBICACION                                 NARIÑO   \n",
       "COLE_MCPIO_UBICACION                                 TUMACO   \n",
       "ESTU_TIPO_DOCUMENTO                                       C   \n",
       "ESTU_RESIDE_DEPTO                                    NARIÑO   \n",
       "ESTU_RESIDE_MCPIO                                    TUMACO   \n",
       "\n",
       "                                                          2  \n",
       "ESTU_CONSECUTIVO                              SB20021000025  \n",
       "COLE_COD_ICFES                                        11957  \n",
       "COLE_NOMBRE_SEDE               INSTITUTO TECNICO INDUSTRIAL  \n",
       "IND_ANNO_TERMINO_BACHILLERATO                          2002  \n",
       "COLE_JORNADA                           COMPLETA U ORDINARIA  \n",
       "COLE_VALOR_PENSION                                        8  \n",
       "ESTU_GENERO                                               F  \n",
       "ESTU_NACIMIENTO_DIA                                       5  \n",
       "ESTU_NACIMIENTO_MES                                       4  \n",
       "ESTU_NACIMIENTO_ANNO                                   1980  \n",
       "ESTU_DEPTO_PRESENTACION                              NARIÑO  \n",
       "ESTU_MCPIO_PRESENTACION                              TUMACO  \n",
       "ESTU_LIMITA_INVIDENTE                                   NaN  \n",
       "ESTU_LIMITA_SORDOINTERPRETE                             NaN  \n",
       "ESTU_LIMITA_SORDONOINTERPRETE                           NaN  \n",
       "ESTU_LIMITA_MOTRIZ                                      NaN  \n",
       "PUNT_BIOLOGIA                                            40  \n",
       "PUNT_MATEMATICAS                                         47  \n",
       "PUNT_FILOSOFIA                                           35  \n",
       "PUNT_FISICA                                              40  \n",
       "PUNT_HISTORIA                                            44  \n",
       "PUNT_QUIMICA                                             46  \n",
       "PUNT_LENGUAJE                                            40  \n",
       "PUNT_GEOGRAFIA                                           26  \n",
       "COD_INTERDISCIPLINAR                                     44  \n",
       "PUNT_INTERDISCIPLINAR                                    34  \n",
       "COD_IDIOMA                                               51  \n",
       "PUNT_IDIOMA                                              35  \n",
       "ESTU_IES_COD_DESEADA                                   1101  \n",
       "ESTU_RAZONINSTITUTO                                       6  \n",
       "ESTU_CARRDESEADA_COD                                  48258  \n",
       "ESTU_CARRDESEADA_RAZON                                    4  \n",
       "FAMI_PERSONAS_HOGAR                                       6  \n",
       "FAMI_VIVIENDA_PROPIA                                      S  \n",
       "FAMI_DEUDA_VIVIENDA                                       N  \n",
       "FAMI_APORTANTES                                           2  \n",
       "FAMI_INGRESO_FMILIAR_MENSUAL                              0  \n",
       "FAMI_LEE_ESCRIBE_PADRE                                  NaN  \n",
       "FAMI_LEE_ESCRIBE_MADRE                                    S  \n",
       "FAMI_EDUCA_PADRE                                        NaN  \n",
       "FAMI_EDUCA_MADRE                                          3  \n",
       "FAMI_OCUPA_PADRE                                        NaN  \n",
       "FAMI_OCUPA_MADRE                                         10  \n",
       "FAMI_NUM_HERMANOS                                         4  \n",
       "FAMI_NUM_HERMANOS_EDUSUPERIOR                             4  \n",
       "FAMI_POSICION_HERMANOS                                  NaN  \n",
       "FAMI_SOST_PERSONAL                                        P  \n",
       "ESTU_TRABAJA                                              S  \n",
       "ESTU_ACT_PROX_ANNO                                        3  \n",
       "COLE_CALENDARIO                                           B  \n",
       "COLE_BILINGUE                                           NaN  \n",
       "COLE_CARACTER                                       TECNICO  \n",
       "COLE_DEPTO_UBICACION                                 NARIÑO  \n",
       "COLE_MCPIO_UBICACION                                 TUMACO  \n",
       "ESTU_TIPO_DOCUMENTO                                       C  \n",
       "ESTU_RESIDE_DEPTO                                    NARIÑO  \n",
       "ESTU_RESIDE_MCPIO                                    TUMACO  "
      ]
     },
     "execution_count": 4,
     "metadata": {},
     "output_type": "execute_result"
    }
   ],
   "source": [
    "data_2002.head(3).T"
   ]
  },
  {
   "cell_type": "code",
   "execution_count": 5,
   "metadata": {
    "collapsed": true
   },
   "outputs": [],
   "source": [
    "##DELETING columns\n",
    "#ESTU_CONSECUTIVO, COLE_NOMBRE_SEDE,  "
   ]
  },
  {
   "cell_type": "code",
   "execution_count": null,
   "metadata": {
    "collapsed": true
   },
   "outputs": [],
   "source": [
    "print(data_2002['COLE_COD_ICFES'].value_counts().sort_index().index)\n",
    "print(data_2002['COLE_COD_ICFES'].value_counts().sort_index())\n",
    "print(missing_data(data_2002['COLE_COD_ICFES']))"
   ]
  },
  {
   "cell_type": "code",
   "execution_count": null,
   "metadata": {
    "collapsed": true
   },
   "outputs": [],
   "source": [
    "print(data_2002['IND_ANNO_TERMINO_BACHILLERATO'].value_counts().sort_index().index)\n",
    "print(data_2002['IND_ANNO_TERMINO_BACHILLERATO'].value_counts().sort_index())\n",
    "print(missing_data(data_2002['IND_ANNO_TERMINO_BACHILLERATO']))"
   ]
  },
  {
   "cell_type": "code",
   "execution_count": null,
   "metadata": {
    "collapsed": true
   },
   "outputs": [],
   "source": [
    "print(data_2002['COLE_JORNADA'].value_counts().sort_index().index)\n",
    "print(data_2002['COLE_JORNADA'].value_counts().sort_index())\n",
    "print(missing_data(data_2002['COLE_JORNADA']))"
   ]
  },
  {
   "cell_type": "code",
   "execution_count": null,
   "metadata": {
    "collapsed": true
   },
   "outputs": [],
   "source": [
    "print(data_2002['COLE_VALOR_PENSION'].value_counts().sort_index().index)\n",
    "print(data_2002['COLE_VALOR_PENSION'].value_counts().sort_index())\n",
    "print(missing_data(data_2002['COLE_VALOR_PENSION']))"
   ]
  },
  {
   "cell_type": "code",
   "execution_count": null,
   "metadata": {
    "collapsed": true
   },
   "outputs": [],
   "source": [
    "print(data_2002['ESTU_GENERO'].value_counts().sort_index().index)\n",
    "print(data_2002['ESTU_GENERO'].value_counts().sort_index())\n",
    "print(missing_data(data_2002['ESTU_GENERO']))"
   ]
  },
  {
   "cell_type": "code",
   "execution_count": null,
   "metadata": {
    "collapsed": true
   },
   "outputs": [],
   "source": [
    "print(data_2002['ESTU_NACIMIENTO_DIA'].value_counts().sort_index().index)\n",
    "print(data_2002['ESTU_NACIMIENTO_DIA'].value_counts().sort_index())\n",
    "print(missing_data(data_2002['ESTU_NACIMIENTO_DIA']))"
   ]
  },
  {
   "cell_type": "code",
   "execution_count": null,
   "metadata": {
    "collapsed": true
   },
   "outputs": [],
   "source": [
    "print(data_2002['ESTU_NACIMIENTO_MES'].value_counts().sort_index().index)\n",
    "print(data_2002['ESTU_NACIMIENTO_MES'].value_counts().sort_index())\n",
    "print(missing_data(data_2002['ESTU_NACIMIENTO_MES']))"
   ]
  },
  {
   "cell_type": "code",
   "execution_count": null,
   "metadata": {
    "collapsed": true
   },
   "outputs": [],
   "source": [
    "print(data_2002['ESTU_NACIMIENTO_ANNO'].value_counts().sort_index().index)\n",
    "print(data_2002['ESTU_NACIMIENTO_ANNO'].value_counts().sort_index())\n",
    "print(missing_data(data_2002['ESTU_NACIMIENTO_ANNO']))"
   ]
  },
  {
   "cell_type": "code",
   "execution_count": null,
   "metadata": {
    "collapsed": true
   },
   "outputs": [],
   "source": [
    "print(data_2002['ESTU_DEPTO_PRESENTACION'].value_counts().sort_index().index)\n",
    "print(data_2002['ESTU_DEPTO_PRESENTACION'].value_counts().sort_index())\n",
    "print(missing_data(data_2002['ESTU_DEPTO_PRESENTACION']))"
   ]
  },
  {
   "cell_type": "code",
   "execution_count": null,
   "metadata": {
    "collapsed": true
   },
   "outputs": [],
   "source": [
    "print(data_2002['ESTU_MCPIO_PRESENTACION'].value_counts().sort_index().index)\n",
    "print(data_2002['ESTU_MCPIO_PRESENTACION'].value_counts().sort_index())\n",
    "print(missing_data(data_2002['ESTU_MCPIO_PRESENTACION']))"
   ]
  },
  {
   "cell_type": "code",
   "execution_count": null,
   "metadata": {
    "collapsed": true
   },
   "outputs": [],
   "source": [
    "print(data_2002['ESTU_LIMITA_INVIDENTE'].value_counts().sort_index().index)\n",
    "print(data_2002['ESTU_LIMITA_INVIDENTE'].value_counts().sort_index())\n",
    "print(missing_data(data_2002['ESTU_LIMITA_INVIDENTE']))"
   ]
  },
  {
   "cell_type": "code",
   "execution_count": null,
   "metadata": {
    "collapsed": true
   },
   "outputs": [],
   "source": [
    "print(data_2002['ESTU_LIMITA_SORDOINTERPRETE'].value_counts().sort_index().index)\n",
    "print(data_2002['ESTU_LIMITA_SORDOINTERPRETE'].value_counts().sort_index())\n",
    "print(missing_data(data_2002['ESTU_LIMITA_SORDOINTERPRETE']))"
   ]
  },
  {
   "cell_type": "code",
   "execution_count": null,
   "metadata": {
    "collapsed": true
   },
   "outputs": [],
   "source": [
    "print(data_2002['ESTU_LIMITA_SORDONOINTERPRETE'].value_counts().sort_index().index)\n",
    "print(data_2002['ESTU_LIMITA_SORDONOINTERPRETE'].value_counts().sort_index())\n",
    "print(missing_data(data_2002['ESTU_LIMITA_SORDONOINTERPRETE']))"
   ]
  },
  {
   "cell_type": "code",
   "execution_count": null,
   "metadata": {
    "collapsed": true
   },
   "outputs": [],
   "source": [
    "print(data_2002['ESTU_LIMITA_MOTRIZ'].value_counts().sort_index().index)\n",
    "print(data_2002['ESTU_LIMITA_MOTRIZ'].value_counts().sort_index())\n",
    "print(missing_data(data_2002['ESTU_LIMITA_MOTRIZ']))"
   ]
  },
  {
   "cell_type": "code",
   "execution_count": null,
   "metadata": {
    "collapsed": true
   },
   "outputs": [],
   "source": [
    "print(data_2002['ESTU_IES_COD_DESEADA'].value_counts().sort_index().index)\n",
    "print(data_2002['ESTU_IES_COD_DESEADA'].value_counts().sort_index())\n",
    "print(missing_data(data_2002['ESTU_IES_COD_DESEADA']))"
   ]
  },
  {
   "cell_type": "code",
   "execution_count": null,
   "metadata": {
    "collapsed": true
   },
   "outputs": [],
   "source": [
    "print(data_2002['ESTU_RAZONINSTITUTO'].value_counts().sort_index().index)\n",
    "print(data_2002['ESTU_RAZONINSTITUTO'].value_counts().sort_index())\n",
    "print(missing_data(data_2002['ESTU_RAZONINSTITUTO']))"
   ]
  },
  {
   "cell_type": "code",
   "execution_count": null,
   "metadata": {
    "collapsed": true
   },
   "outputs": [],
   "source": [
    "print(data_2002['ESTU_CARRDESEADA_COD'].value_counts().sort_index().index)\n",
    "print(data_2002['ESTU_CARRDESEADA_COD'].value_counts().sort_index())\n",
    "print(missing_data(data_2002['ESTU_CARRDESEADA_COD']))"
   ]
  },
  {
   "cell_type": "code",
   "execution_count": null,
   "metadata": {
    "collapsed": true
   },
   "outputs": [],
   "source": [
    "print(data_2002['ESTU_CARRDESEADA_RAZON'].value_counts().sort_index().index)\n",
    "print(data_2002['ESTU_CARRDESEADA_RAZON'].value_counts().sort_index())\n",
    "print(missing_data(data_2002['ESTU_CARRDESEADA_RAZON']))"
   ]
  },
  {
   "cell_type": "code",
   "execution_count": null,
   "metadata": {
    "collapsed": true
   },
   "outputs": [],
   "source": [
    "print(data_2002['FAMI_PERSONAS_HOGAR'].value_counts().sort_index().index)\n",
    "print(data_2002['FAMI_PERSONAS_HOGAR'].value_counts().sort_index())\n",
    "print(missing_data(data_2002['FAMI_PERSONAS_HOGAR']))"
   ]
  },
  {
   "cell_type": "code",
   "execution_count": null,
   "metadata": {
    "collapsed": true
   },
   "outputs": [],
   "source": [
    "print(data_2002['FAMI_VIVIENDA_PROPIA'].value_counts().sort_index().index)\n",
    "print(data_2002['FAMI_VIVIENDA_PROPIA'].value_counts().sort_index())\n",
    "print(missing_data(data_2002['FAMI_VIVIENDA_PROPIA']))"
   ]
  },
  {
   "cell_type": "code",
   "execution_count": null,
   "metadata": {
    "collapsed": true
   },
   "outputs": [],
   "source": [
    "print(data_2002['FAMI_DEUDA_VIVIENDA'].value_counts().sort_index().index)\n",
    "print(data_2002['FAMI_DEUDA_VIVIENDA'].value_counts().sort_index())\n",
    "print(missing_data(data_2002['FAMI_DEUDA_VIVIENDA']))"
   ]
  },
  {
   "cell_type": "code",
   "execution_count": null,
   "metadata": {
    "collapsed": true
   },
   "outputs": [],
   "source": [
    "print(data_2002['FAMI_APORTANTES'].value_counts().sort_index().index)\n",
    "print(data_2002['FAMI_APORTANTES'].value_counts().sort_index())\n",
    "print(missing_data(data_2002['FAMI_APORTANTES']))"
   ]
  },
  {
   "cell_type": "code",
   "execution_count": null,
   "metadata": {
    "collapsed": true
   },
   "outputs": [],
   "source": [
    "print(data_2002['FAMI_INGRESO_FMILIAR_MENSUAL'].value_counts().sort_index().index)\n",
    "print(data_2002['FAMI_INGRESO_FMILIAR_MENSUAL'].value_counts().sort_index())\n",
    "print(missing_data(data_2002['FAMI_INGRESO_FMILIAR_MENSUAL']))"
   ]
  },
  {
   "cell_type": "code",
   "execution_count": null,
   "metadata": {
    "collapsed": true
   },
   "outputs": [],
   "source": [
    "print(data_2002['FAMI_LEE_ESCRIBE_PADRE'].value_counts().sort_index().index)\n",
    "print(data_2002['FAMI_LEE_ESCRIBE_PADRE'].value_counts().sort_index())\n",
    "print(missing_data(data_2002['FAMI_LEE_ESCRIBE_PADRE']))"
   ]
  },
  {
   "cell_type": "code",
   "execution_count": null,
   "metadata": {
    "collapsed": true
   },
   "outputs": [],
   "source": [
    "print(data_2002['FAMI_LEE_ESCRIBE_MADRE'].value_counts().sort_index().index)\n",
    "print(data_2002['FAMI_LEE_ESCRIBE_MADRE'].value_counts().sort_index())\n",
    "print(missing_data(data_2002['FAMI_LEE_ESCRIBE_MADRE']))"
   ]
  },
  {
   "cell_type": "code",
   "execution_count": null,
   "metadata": {
    "collapsed": true
   },
   "outputs": [],
   "source": [
    "print(data_2002['FAMI_EDUCA_PADRE'].value_counts().sort_index().index)\n",
    "print(data_2002['FAMI_EDUCA_PADRE'].value_counts().sort_index())\n",
    "print(missing_data(data_2002['FAMI_EDUCA_PADRE']))"
   ]
  },
  {
   "cell_type": "code",
   "execution_count": null,
   "metadata": {
    "collapsed": true
   },
   "outputs": [],
   "source": [
    "print(data_2002['FAMI_EDUCA_MADRE'].value_counts().sort_index().index)\n",
    "print(data_2002['FAMI_EDUCA_MADRE'].value_counts().sort_index())\n",
    "print(missing_data(data_2002['FAMI_EDUCA_MADRE']))"
   ]
  },
  {
   "cell_type": "code",
   "execution_count": null,
   "metadata": {
    "collapsed": true
   },
   "outputs": [],
   "source": [
    "print(data_2002['FAMI_OCUPA_PADRE'].value_counts().sort_index().index)\n",
    "print(data_2002['FAMI_OCUPA_PADRE'].value_counts().sort_index())\n",
    "print(missing_data(data_2002['FAMI_OCUPA_PADRE']))"
   ]
  },
  {
   "cell_type": "code",
   "execution_count": null,
   "metadata": {
    "collapsed": true
   },
   "outputs": [],
   "source": [
    "print(data_2002['FAMI_OCUPA_MADRE'].value_counts().sort_index().index)\n",
    "print(data_2002['FAMI_OCUPA_MADRE'].value_counts().sort_index())\n",
    "print(missing_data(data_2002['FAMI_OCUPA_MADRE']))"
   ]
  },
  {
   "cell_type": "code",
   "execution_count": null,
   "metadata": {
    "collapsed": true
   },
   "outputs": [],
   "source": [
    "print(data_2002['FAMI_NUM_HERMANOS'].value_counts().sort_index().index)\n",
    "print(data_2002['FAMI_NUM_HERMANOS'].value_counts().sort_index())\n",
    "print(missing_data(data_2002['FAMI_NUM_HERMANOS']))"
   ]
  },
  {
   "cell_type": "code",
   "execution_count": null,
   "metadata": {
    "collapsed": true
   },
   "outputs": [],
   "source": [
    "print(data_2002['FAMI_NUM_HERMANOS_EDUSUPERIOR'].value_counts().sort_index().index)\n",
    "print(data_2002['FAMI_NUM_HERMANOS_EDUSUPERIOR'].value_counts().sort_index())\n",
    "print(missing_data(data_2002['FAMI_NUM_HERMANOS_EDUSUPERIOR']))"
   ]
  },
  {
   "cell_type": "code",
   "execution_count": null,
   "metadata": {
    "collapsed": true
   },
   "outputs": [],
   "source": [
    "print(data_2002['FAMI_POSICION_HERMANOS'].value_counts().sort_index().index)\n",
    "print(data_2002['FAMI_POSICION_HERMANOS'].value_counts().sort_index())\n",
    "print(missing_data(data_2002['FAMI_POSICION_HERMANOS']))"
   ]
  },
  {
   "cell_type": "code",
   "execution_count": null,
   "metadata": {
    "collapsed": true
   },
   "outputs": [],
   "source": [
    "print(data_2002['FAMI_SOST_PERSONAL'].value_counts().sort_index().index)\n",
    "print(data_2002['FAMI_SOST_PERSONAL'].value_counts().sort_index())\n",
    "print(missing_data(data_2002['FAMI_SOST_PERSONAL']))"
   ]
  },
  {
   "cell_type": "code",
   "execution_count": null,
   "metadata": {
    "collapsed": true
   },
   "outputs": [],
   "source": [
    "print(data_2002['ESTU_TRABAJA'].value_counts().sort_index().index)\n",
    "print(data_2002['ESTU_TRABAJA'].value_counts().sort_index())\n",
    "print(missing_data(data_2002['ESTU_TRABAJA']))"
   ]
  },
  {
   "cell_type": "code",
   "execution_count": null,
   "metadata": {
    "collapsed": true
   },
   "outputs": [],
   "source": [
    "print(data_2002['ESTU_ACT_PROX_ANNO'].value_counts().sort_index().index)\n",
    "print(data_2002['ESTU_ACT_PROX_ANNO'].value_counts().sort_index())\n",
    "print(missing_data(data_2002['ESTU_ACT_PROX_ANNO']))"
   ]
  },
  {
   "cell_type": "code",
   "execution_count": null,
   "metadata": {
    "collapsed": true
   },
   "outputs": [],
   "source": [
    "print(data_2002['COLE_CALENDARIO'].value_counts().sort_index().index)\n",
    "print(data_2002['COLE_CALENDARIO'].value_counts().sort_index())\n",
    "print(missing_data(data_2002['COLE_CALENDARIO']))"
   ]
  },
  {
   "cell_type": "code",
   "execution_count": null,
   "metadata": {
    "collapsed": true
   },
   "outputs": [],
   "source": [
    "print(data_2002['COLE_BILINGUE'].value_counts().sort_index().index)\n",
    "print(data_2002['COLE_BILINGUE'].value_counts().sort_index())\n",
    "print(missing_data(data_2002['COLE_BILINGUE']))"
   ]
  },
  {
   "cell_type": "code",
   "execution_count": null,
   "metadata": {
    "collapsed": true
   },
   "outputs": [],
   "source": [
    "print(data_2002['COLE_CARACTER'].value_counts().sort_index().index)\n",
    "print(data_2002['COLE_CARACTER'].value_counts().sort_index())\n",
    "print(missing_data(data_2002['COLE_CARACTER']))"
   ]
  },
  {
   "cell_type": "code",
   "execution_count": null,
   "metadata": {
    "collapsed": true
   },
   "outputs": [],
   "source": [
    "print(data_2002['COLE_DEPTO_UBICACION'].value_counts().sort_index().index)\n",
    "print(data_2002['COLE_DEPTO_UBICACION'].value_counts().sort_index())\n",
    "print(missing_data(data_2002['COLE_DEPTO_UBICACION']))"
   ]
  },
  {
   "cell_type": "code",
   "execution_count": null,
   "metadata": {
    "collapsed": true
   },
   "outputs": [],
   "source": [
    "print(data_2002['COLE_MCPIO_UBICACION'].value_counts().sort_index().index)\n",
    "print(data_2002['COLE_MCPIO_UBICACION'].value_counts().sort_index())\n",
    "print(missing_data(data_2002['COLE_MCPIO_UBICACION']))"
   ]
  },
  {
   "cell_type": "code",
   "execution_count": null,
   "metadata": {
    "collapsed": true
   },
   "outputs": [],
   "source": [
    "print(data_2002['ESTU_TIPO_DOCUMENTO'].value_counts().sort_index().index)\n",
    "print(data_2002['ESTU_TIPO_DOCUMENTO'].value_counts().sort_index())\n",
    "print(missing_data(data_2002['ESTU_TIPO_DOCUMENTO']))"
   ]
  },
  {
   "cell_type": "code",
   "execution_count": null,
   "metadata": {
    "collapsed": true
   },
   "outputs": [],
   "source": [
    "print(data_2002['ESTU_RESIDE_DEPTO'].value_counts().sort_index().index)\n",
    "print(data_2002['ESTU_RESIDE_DEPTO'].value_counts().sort_index())\n",
    "print(missing_data(data_2002['ESTU_RESIDE_DEPTO']))"
   ]
  },
  {
   "cell_type": "code",
   "execution_count": null,
   "metadata": {
    "collapsed": true
   },
   "outputs": [],
   "source": [
    "print(data_2002['ESTU_RESIDE_MCPIO'].value_counts().sort_index().index)\n",
    "print(data_2002['ESTU_RESIDE_MCPIO'].value_counts().sort_index())\n",
    "print(missing_data(data_2002['ESTU_RESIDE_MCPIO']))"
   ]
  },
  {
   "cell_type": "markdown",
   "metadata": {},
   "source": [
    "## TARGETS"
   ]
  },
  {
   "cell_type": "code",
   "execution_count": null,
   "metadata": {
    "collapsed": true
   },
   "outputs": [],
   "source": [
    "print(data_2002['PUNT_BIOLOGIA'].value_counts().sort_index().index)\n",
    "print(data_2002['PUNT_BIOLOGIA'].value_counts().sort_index())\n",
    "print(missing_data(data_2002['PUNT_BIOLOGIA']))"
   ]
  },
  {
   "cell_type": "code",
   "execution_count": null,
   "metadata": {
    "collapsed": true
   },
   "outputs": [],
   "source": [
    "print(data_2002['PUNT_MATEMATICAS'].value_counts().sort_index().index)\n",
    "print(data_2002['PUNT_MATEMATICAS'].value_counts().sort_index())\n",
    "print(missing_data(data_2002['PUNT_MATEMATICAS']))"
   ]
  },
  {
   "cell_type": "code",
   "execution_count": null,
   "metadata": {
    "collapsed": true
   },
   "outputs": [],
   "source": [
    "print(data_2002['PUNT_FILOSOFIA'].value_counts().sort_index().index)\n",
    "print(data_2002['PUNT_FILOSOFIA'].value_counts().sort_index())\n",
    "print(missing_data(data_2002['PUNT_FILOSOFIA']))"
   ]
  },
  {
   "cell_type": "code",
   "execution_count": null,
   "metadata": {
    "collapsed": true
   },
   "outputs": [],
   "source": [
    "print(data_2002['PUNT_FISICA'].value_counts().sort_index().index)\n",
    "print(data_2002['PUNT_FISICA'].value_counts().sort_index())\n",
    "print(missing_data(data_2002['PUNT_FISICA']))"
   ]
  },
  {
   "cell_type": "code",
   "execution_count": null,
   "metadata": {
    "collapsed": true
   },
   "outputs": [],
   "source": [
    "print(data_2002['PUNT_HISTORIA'].value_counts().sort_index().index)\n",
    "print(data_2002['PUNT_HISTORIA'].value_counts().sort_index())\n",
    "print(missing_data(data_2002['PUNT_HISTORIA']))"
   ]
  },
  {
   "cell_type": "code",
   "execution_count": null,
   "metadata": {
    "collapsed": true
   },
   "outputs": [],
   "source": [
    "print(data_2002['PUNT_QUIMICA'].value_counts().sort_index().index)\n",
    "print(data_2002['PUNT_QUIMICA'].value_counts().sort_index())\n",
    "print(missing_data(data_2002['PUNT_QUIMICA']))"
   ]
  },
  {
   "cell_type": "code",
   "execution_count": null,
   "metadata": {
    "collapsed": true
   },
   "outputs": [],
   "source": [
    "print(data_2002['PUNT_LENGUAJE'].value_counts().sort_index().index)\n",
    "print(data_2002['PUNT_LENGUAJE'].value_counts().sort_index())\n",
    "print(missing_data(data_2002['PUNT_LENGUAJE']))"
   ]
  },
  {
   "cell_type": "code",
   "execution_count": null,
   "metadata": {
    "collapsed": true
   },
   "outputs": [],
   "source": [
    "print(data_2002['PUNT_GEOGRAFIA'].value_counts().sort_index().index)\n",
    "print(data_2002['PUNT_GEOGRAFIA'].value_counts().sort_index())\n",
    "print(missing_data(data_2002['PUNT_GEOGRAFIA']))"
   ]
  },
  {
   "cell_type": "code",
   "execution_count": null,
   "metadata": {
    "collapsed": true
   },
   "outputs": [],
   "source": [
    "print(data_2002['COD_INTERDISCIPLINAR'].value_counts().sort_index().index)\n",
    "print(data_2002['COD_INTERDISCIPLINAR'].value_counts().sort_index())\n",
    "print(missing_data(data_2002['COD_INTERDISCIPLINAR']))"
   ]
  },
  {
   "cell_type": "code",
   "execution_count": null,
   "metadata": {
    "collapsed": true
   },
   "outputs": [],
   "source": [
    "print(data_2002['PUNT_INTERDISCIPLINAR'].value_counts().sort_index().index)\n",
    "print(data_2002['PUNT_INTERDISCIPLINAR'].value_counts().sort_index())\n",
    "print(missing_data(data_2002['PUNT_INTERDISCIPLINAR']))"
   ]
  },
  {
   "cell_type": "code",
   "execution_count": null,
   "metadata": {
    "collapsed": true
   },
   "outputs": [],
   "source": [
    "print(data_2002['COD_IDIOMA'].value_counts().sort_index().index)\n",
    "print(data_2002['COD_IDIOMA'].value_counts().sort_index())\n",
    "print(missing_data(data_2002['COD_IDIOMA']))"
   ]
  },
  {
   "cell_type": "code",
   "execution_count": null,
   "metadata": {
    "collapsed": true
   },
   "outputs": [],
   "source": []
  },
  {
   "cell_type": "markdown",
   "metadata": {},
   "source": [
    "## Now the file of 2002_2"
   ]
  },
  {
   "cell_type": "code",
   "execution_count": 7,
   "metadata": {
    "collapsed": false
   },
   "outputs": [
    {
     "name": "stderr",
     "output_type": "stream",
     "text": [
      "/usr/local/anaconda3/lib/python3.5/site-packages/IPython/core/interactiveshell.py:2723: DtypeWarning: Columns (1,4,5,12,13,14,15,16,17,19,20,21,22,23,27) have mixed types. Specify dtype option on import or set low_memory=False.\n",
      "  interactivity=interactivity, compiler=compiler, result=result)\n"
     ]
    }
   ],
   "source": [
    "data_2002_2 = pd.read_csv('../DatosFTPICFES/SABER11/SB11-BASES_DE_DATOS/SB11-20022-RGSTRO-CLFCCN-V1-0.txt', delimiter=\"|\",\n",
    "                         encoding = \"iso-8859-1\")"
   ]
  },
  {
   "cell_type": "code",
   "execution_count": 9,
   "metadata": {
    "collapsed": false
   },
   "outputs": [
    {
     "data": {
      "text/plain": [
       "(370306, 57)"
      ]
     },
     "execution_count": 9,
     "metadata": {},
     "output_type": "execute_result"
    }
   ],
   "source": [
    "data_2002_2.shape"
   ]
  },
  {
   "cell_type": "code",
   "execution_count": 8,
   "metadata": {
    "collapsed": false,
    "scrolled": true
   },
   "outputs": [
    {
     "data": {
      "text/html": [
       "<div>\n",
       "<table border=\"1\" class=\"dataframe\">\n",
       "  <thead>\n",
       "    <tr style=\"text-align: right;\">\n",
       "      <th></th>\n",
       "      <th>0</th>\n",
       "      <th>1</th>\n",
       "      <th>2</th>\n",
       "    </tr>\n",
       "  </thead>\n",
       "  <tbody>\n",
       "    <tr>\n",
       "      <th>ESTU_CONSECUTIVO</th>\n",
       "      <td>SB2002000001</td>\n",
       "      <td>SB2002000002</td>\n",
       "      <td>SB2002000003</td>\n",
       "    </tr>\n",
       "    <tr>\n",
       "      <th>COLE_COD_ICFES</th>\n",
       "      <td>12625</td>\n",
       "      <td>28522</td>\n",
       "      <td>12088</td>\n",
       "    </tr>\n",
       "    <tr>\n",
       "      <th>COLE_NOMBRE_SEDE</th>\n",
       "      <td>ESCUELA NORMAL DE VARONES</td>\n",
       "      <td>COLEGIO INTEGRADO JUAN ATALAYA</td>\n",
       "      <td>COLEGIO EL CARMEN TERESIANO</td>\n",
       "    </tr>\n",
       "    <tr>\n",
       "      <th>IND_ANNO_TERMINO_BACHILLERATO</th>\n",
       "      <td>2002</td>\n",
       "      <td>2002</td>\n",
       "      <td>2002</td>\n",
       "    </tr>\n",
       "    <tr>\n",
       "      <th>COLE_JORNADA</th>\n",
       "      <td>MAÑANA</td>\n",
       "      <td>MAÑANA</td>\n",
       "      <td>MAÑANA</td>\n",
       "    </tr>\n",
       "    <tr>\n",
       "      <th>COLE_VALOR_PENSION</th>\n",
       "      <td>8</td>\n",
       "      <td>8</td>\n",
       "      <td>6</td>\n",
       "    </tr>\n",
       "    <tr>\n",
       "      <th>ESTU_GENERO</th>\n",
       "      <td>M</td>\n",
       "      <td>F</td>\n",
       "      <td>F</td>\n",
       "    </tr>\n",
       "    <tr>\n",
       "      <th>ESTU_NACIMIENTO_DIA</th>\n",
       "      <td>4</td>\n",
       "      <td>22</td>\n",
       "      <td>19</td>\n",
       "    </tr>\n",
       "    <tr>\n",
       "      <th>ESTU_NACIMIENTO_MES</th>\n",
       "      <td>5</td>\n",
       "      <td>3</td>\n",
       "      <td>10</td>\n",
       "    </tr>\n",
       "    <tr>\n",
       "      <th>ESTU_NACIMIENTO_ANNO</th>\n",
       "      <td>1985</td>\n",
       "      <td>1984</td>\n",
       "      <td>1985</td>\n",
       "    </tr>\n",
       "    <tr>\n",
       "      <th>ESTU_DEPTO_PRESENTACION</th>\n",
       "      <td>NORTE SANTANDER</td>\n",
       "      <td>NORTE SANTANDER</td>\n",
       "      <td>NORTE SANTANDER</td>\n",
       "    </tr>\n",
       "    <tr>\n",
       "      <th>ESTU_MCPIO_PRESENTACION</th>\n",
       "      <td>PAMPLONA</td>\n",
       "      <td>CUCUTA</td>\n",
       "      <td>CUCUTA</td>\n",
       "    </tr>\n",
       "    <tr>\n",
       "      <th>ESTU_LIMITA_INVIDENTE</th>\n",
       "      <td>NaN</td>\n",
       "      <td>NaN</td>\n",
       "      <td>NaN</td>\n",
       "    </tr>\n",
       "    <tr>\n",
       "      <th>ESTU_LIMITA_SORDOINTERPRETE</th>\n",
       "      <td>NaN</td>\n",
       "      <td>NaN</td>\n",
       "      <td>NaN</td>\n",
       "    </tr>\n",
       "    <tr>\n",
       "      <th>ESTU_LIMITA_SORDONOINTERPRETE</th>\n",
       "      <td>NaN</td>\n",
       "      <td>NaN</td>\n",
       "      <td>NaN</td>\n",
       "    </tr>\n",
       "    <tr>\n",
       "      <th>ESTU_LIMITA_MOTRIZ</th>\n",
       "      <td>NaN</td>\n",
       "      <td>NaN</td>\n",
       "      <td>NaN</td>\n",
       "    </tr>\n",
       "    <tr>\n",
       "      <th>PUNT_BIOLOGIA</th>\n",
       "      <td>33</td>\n",
       "      <td>43</td>\n",
       "      <td>50</td>\n",
       "    </tr>\n",
       "    <tr>\n",
       "      <th>PUNT_MATEMATICAS</th>\n",
       "      <td>44</td>\n",
       "      <td>41</td>\n",
       "      <td>44</td>\n",
       "    </tr>\n",
       "    <tr>\n",
       "      <th>PUNT_FILOSOFIA</th>\n",
       "      <td>46</td>\n",
       "      <td>51</td>\n",
       "      <td>46</td>\n",
       "    </tr>\n",
       "    <tr>\n",
       "      <th>PUNT_FISICA</th>\n",
       "      <td>38</td>\n",
       "      <td>44</td>\n",
       "      <td>51</td>\n",
       "    </tr>\n",
       "    <tr>\n",
       "      <th>PUNT_HISTORIA</th>\n",
       "      <td>44</td>\n",
       "      <td>35</td>\n",
       "      <td>51</td>\n",
       "    </tr>\n",
       "    <tr>\n",
       "      <th>PUNT_QUIMICA</th>\n",
       "      <td>37</td>\n",
       "      <td>36</td>\n",
       "      <td>53</td>\n",
       "    </tr>\n",
       "    <tr>\n",
       "      <th>PUNT_LENGUAJE</th>\n",
       "      <td>36</td>\n",
       "      <td>48</td>\n",
       "      <td>56</td>\n",
       "    </tr>\n",
       "    <tr>\n",
       "      <th>PUNT_GEOGRAFIA</th>\n",
       "      <td>42</td>\n",
       "      <td>44</td>\n",
       "      <td>44</td>\n",
       "    </tr>\n",
       "    <tr>\n",
       "      <th>COD_INTERDISCIPLINAR</th>\n",
       "      <td>43</td>\n",
       "      <td>43</td>\n",
       "      <td>44</td>\n",
       "    </tr>\n",
       "    <tr>\n",
       "      <th>PUNT_INTERDISCIPLINAR</th>\n",
       "      <td>60</td>\n",
       "      <td>60</td>\n",
       "      <td>45</td>\n",
       "    </tr>\n",
       "    <tr>\n",
       "      <th>COD_IDIOMA</th>\n",
       "      <td>51</td>\n",
       "      <td>51</td>\n",
       "      <td>51</td>\n",
       "    </tr>\n",
       "    <tr>\n",
       "      <th>PUNT_IDIOMA</th>\n",
       "      <td>40</td>\n",
       "      <td>40</td>\n",
       "      <td>48</td>\n",
       "    </tr>\n",
       "    <tr>\n",
       "      <th>ESTU_IES_COD_DESEADA</th>\n",
       "      <td>1212</td>\n",
       "      <td>1717</td>\n",
       "      <td>1701</td>\n",
       "    </tr>\n",
       "    <tr>\n",
       "      <th>ESTU_RAZONINSTITUTO</th>\n",
       "      <td>7</td>\n",
       "      <td>6</td>\n",
       "      <td>2</td>\n",
       "    </tr>\n",
       "    <tr>\n",
       "      <th>ESTU_CARRDESEADA_COD</th>\n",
       "      <td>48114</td>\n",
       "      <td>43333</td>\n",
       "      <td>46203</td>\n",
       "    </tr>\n",
       "    <tr>\n",
       "      <th>ESTU_CARRDESEADA_RAZON</th>\n",
       "      <td>3</td>\n",
       "      <td>1</td>\n",
       "      <td>2</td>\n",
       "    </tr>\n",
       "    <tr>\n",
       "      <th>FAMI_PERSONAS_HOGAR</th>\n",
       "      <td>4</td>\n",
       "      <td>4</td>\n",
       "      <td>3</td>\n",
       "    </tr>\n",
       "    <tr>\n",
       "      <th>FAMI_VIVIENDA_PROPIA</th>\n",
       "      <td>S</td>\n",
       "      <td>S</td>\n",
       "      <td>S</td>\n",
       "    </tr>\n",
       "    <tr>\n",
       "      <th>FAMI_DEUDA_VIVIENDA</th>\n",
       "      <td>S</td>\n",
       "      <td>N</td>\n",
       "      <td>N</td>\n",
       "    </tr>\n",
       "    <tr>\n",
       "      <th>FAMI_APORTANTES</th>\n",
       "      <td>1</td>\n",
       "      <td>1</td>\n",
       "      <td>1</td>\n",
       "    </tr>\n",
       "    <tr>\n",
       "      <th>FAMI_INGRESO_FMILIAR_MENSUAL</th>\n",
       "      <td>0</td>\n",
       "      <td>0</td>\n",
       "      <td>2</td>\n",
       "    </tr>\n",
       "    <tr>\n",
       "      <th>FAMI_LEE_ESCRIBE_PADRE</th>\n",
       "      <td>S</td>\n",
       "      <td>N</td>\n",
       "      <td>S</td>\n",
       "    </tr>\n",
       "    <tr>\n",
       "      <th>FAMI_LEE_ESCRIBE_MADRE</th>\n",
       "      <td>S</td>\n",
       "      <td>S</td>\n",
       "      <td>S</td>\n",
       "    </tr>\n",
       "    <tr>\n",
       "      <th>FAMI_EDUCA_PADRE</th>\n",
       "      <td>5</td>\n",
       "      <td>1</td>\n",
       "      <td>6</td>\n",
       "    </tr>\n",
       "    <tr>\n",
       "      <th>FAMI_EDUCA_MADRE</th>\n",
       "      <td>NaN</td>\n",
       "      <td>3</td>\n",
       "      <td>6</td>\n",
       "    </tr>\n",
       "    <tr>\n",
       "      <th>FAMI_OCUPA_PADRE</th>\n",
       "      <td>06</td>\n",
       "      <td>NaN</td>\n",
       "      <td>05</td>\n",
       "    </tr>\n",
       "    <tr>\n",
       "      <th>FAMI_OCUPA_MADRE</th>\n",
       "      <td>12</td>\n",
       "      <td>05</td>\n",
       "      <td>10</td>\n",
       "    </tr>\n",
       "    <tr>\n",
       "      <th>FAMI_NUM_HERMANOS</th>\n",
       "      <td>1</td>\n",
       "      <td>NaN</td>\n",
       "      <td>0</td>\n",
       "    </tr>\n",
       "    <tr>\n",
       "      <th>FAMI_NUM_HERMANOS_EDUSUPERIOR</th>\n",
       "      <td>0</td>\n",
       "      <td>0</td>\n",
       "      <td>0</td>\n",
       "    </tr>\n",
       "    <tr>\n",
       "      <th>FAMI_POSICION_HERMANOS</th>\n",
       "      <td>1</td>\n",
       "      <td>4</td>\n",
       "      <td>1</td>\n",
       "    </tr>\n",
       "    <tr>\n",
       "      <th>FAMI_SOST_PERSONAL</th>\n",
       "      <td>T</td>\n",
       "      <td>T</td>\n",
       "      <td>T</td>\n",
       "    </tr>\n",
       "    <tr>\n",
       "      <th>ESTU_TRABAJA</th>\n",
       "      <td>N</td>\n",
       "      <td>N</td>\n",
       "      <td>N</td>\n",
       "    </tr>\n",
       "    <tr>\n",
       "      <th>ESTU_ACT_PROX_ANNO</th>\n",
       "      <td>1</td>\n",
       "      <td>3</td>\n",
       "      <td>1</td>\n",
       "    </tr>\n",
       "    <tr>\n",
       "      <th>COLE_CALENDARIO</th>\n",
       "      <td>A</td>\n",
       "      <td>A</td>\n",
       "      <td>A</td>\n",
       "    </tr>\n",
       "    <tr>\n",
       "      <th>COLE_BILINGUE</th>\n",
       "      <td>NaN</td>\n",
       "      <td>NaN</td>\n",
       "      <td>NaN</td>\n",
       "    </tr>\n",
       "    <tr>\n",
       "      <th>COLE_CARACTER</th>\n",
       "      <td>NORMALISTA</td>\n",
       "      <td>ACADEMICO Y TECNICO</td>\n",
       "      <td>ACADEMICO</td>\n",
       "    </tr>\n",
       "    <tr>\n",
       "      <th>COLE_DEPTO_UBICACION</th>\n",
       "      <td>NORTE SANTANDER</td>\n",
       "      <td>NORTE SANTANDER</td>\n",
       "      <td>NORTE SANTANDER</td>\n",
       "    </tr>\n",
       "    <tr>\n",
       "      <th>COLE_MCPIO_UBICACION</th>\n",
       "      <td>PAMPLONA</td>\n",
       "      <td>CUCUTA</td>\n",
       "      <td>CUCUTA</td>\n",
       "    </tr>\n",
       "    <tr>\n",
       "      <th>ESTU_RESIDE_DEPTO</th>\n",
       "      <td>NORTE SANTANDER</td>\n",
       "      <td>NORTE SANTANDER</td>\n",
       "      <td>NORTE SANTANDER</td>\n",
       "    </tr>\n",
       "    <tr>\n",
       "      <th>ESTU_RESIDE_MCPIO</th>\n",
       "      <td>PAMPLONA</td>\n",
       "      <td>CUCUTA</td>\n",
       "      <td>CUCUTA</td>\n",
       "    </tr>\n",
       "    <tr>\n",
       "      <th>ESTU_TIPO_DOCUMENTO</th>\n",
       "      <td>T</td>\n",
       "      <td>R</td>\n",
       "      <td>T</td>\n",
       "    </tr>\n",
       "  </tbody>\n",
       "</table>\n",
       "</div>"
      ],
      "text/plain": [
       "                                                       0  \\\n",
       "ESTU_CONSECUTIVO                            SB2002000001   \n",
       "COLE_COD_ICFES                                     12625   \n",
       "COLE_NOMBRE_SEDE               ESCUELA NORMAL DE VARONES   \n",
       "IND_ANNO_TERMINO_BACHILLERATO                       2002   \n",
       "COLE_JORNADA                                      MAÑANA   \n",
       "COLE_VALOR_PENSION                                     8   \n",
       "ESTU_GENERO                                            M   \n",
       "ESTU_NACIMIENTO_DIA                                    4   \n",
       "ESTU_NACIMIENTO_MES                                    5   \n",
       "ESTU_NACIMIENTO_ANNO                                1985   \n",
       "ESTU_DEPTO_PRESENTACION                  NORTE SANTANDER   \n",
       "ESTU_MCPIO_PRESENTACION                         PAMPLONA   \n",
       "ESTU_LIMITA_INVIDENTE                                NaN   \n",
       "ESTU_LIMITA_SORDOINTERPRETE                          NaN   \n",
       "ESTU_LIMITA_SORDONOINTERPRETE                        NaN   \n",
       "ESTU_LIMITA_MOTRIZ                                   NaN   \n",
       "PUNT_BIOLOGIA                                         33   \n",
       "PUNT_MATEMATICAS                                      44   \n",
       "PUNT_FILOSOFIA                                        46   \n",
       "PUNT_FISICA                                           38   \n",
       "PUNT_HISTORIA                                         44   \n",
       "PUNT_QUIMICA                                          37   \n",
       "PUNT_LENGUAJE                                         36   \n",
       "PUNT_GEOGRAFIA                                        42   \n",
       "COD_INTERDISCIPLINAR                                  43   \n",
       "PUNT_INTERDISCIPLINAR                                 60   \n",
       "COD_IDIOMA                                            51   \n",
       "PUNT_IDIOMA                                           40   \n",
       "ESTU_IES_COD_DESEADA                                1212   \n",
       "ESTU_RAZONINSTITUTO                                    7   \n",
       "ESTU_CARRDESEADA_COD                               48114   \n",
       "ESTU_CARRDESEADA_RAZON                                 3   \n",
       "FAMI_PERSONAS_HOGAR                                    4   \n",
       "FAMI_VIVIENDA_PROPIA                                   S   \n",
       "FAMI_DEUDA_VIVIENDA                                    S   \n",
       "FAMI_APORTANTES                                        1   \n",
       "FAMI_INGRESO_FMILIAR_MENSUAL                           0   \n",
       "FAMI_LEE_ESCRIBE_PADRE                                 S   \n",
       "FAMI_LEE_ESCRIBE_MADRE                                 S   \n",
       "FAMI_EDUCA_PADRE                                       5   \n",
       "FAMI_EDUCA_MADRE                                     NaN   \n",
       "FAMI_OCUPA_PADRE                                      06   \n",
       "FAMI_OCUPA_MADRE                                      12   \n",
       "FAMI_NUM_HERMANOS                                      1   \n",
       "FAMI_NUM_HERMANOS_EDUSUPERIOR                          0   \n",
       "FAMI_POSICION_HERMANOS                                 1   \n",
       "FAMI_SOST_PERSONAL                                     T   \n",
       "ESTU_TRABAJA                                           N   \n",
       "ESTU_ACT_PROX_ANNO                                     1   \n",
       "COLE_CALENDARIO                                        A   \n",
       "COLE_BILINGUE                                        NaN   \n",
       "COLE_CARACTER                                 NORMALISTA   \n",
       "COLE_DEPTO_UBICACION                     NORTE SANTANDER   \n",
       "COLE_MCPIO_UBICACION                            PAMPLONA   \n",
       "ESTU_RESIDE_DEPTO                        NORTE SANTANDER   \n",
       "ESTU_RESIDE_MCPIO                               PAMPLONA   \n",
       "ESTU_TIPO_DOCUMENTO                                    T   \n",
       "\n",
       "                                                            1  \\\n",
       "ESTU_CONSECUTIVO                                 SB2002000002   \n",
       "COLE_COD_ICFES                                          28522   \n",
       "COLE_NOMBRE_SEDE               COLEGIO INTEGRADO JUAN ATALAYA   \n",
       "IND_ANNO_TERMINO_BACHILLERATO                            2002   \n",
       "COLE_JORNADA                                           MAÑANA   \n",
       "COLE_VALOR_PENSION                                          8   \n",
       "ESTU_GENERO                                                 F   \n",
       "ESTU_NACIMIENTO_DIA                                        22   \n",
       "ESTU_NACIMIENTO_MES                                         3   \n",
       "ESTU_NACIMIENTO_ANNO                                     1984   \n",
       "ESTU_DEPTO_PRESENTACION                       NORTE SANTANDER   \n",
       "ESTU_MCPIO_PRESENTACION                                CUCUTA   \n",
       "ESTU_LIMITA_INVIDENTE                                     NaN   \n",
       "ESTU_LIMITA_SORDOINTERPRETE                               NaN   \n",
       "ESTU_LIMITA_SORDONOINTERPRETE                             NaN   \n",
       "ESTU_LIMITA_MOTRIZ                                        NaN   \n",
       "PUNT_BIOLOGIA                                              43   \n",
       "PUNT_MATEMATICAS                                           41   \n",
       "PUNT_FILOSOFIA                                             51   \n",
       "PUNT_FISICA                                                44   \n",
       "PUNT_HISTORIA                                              35   \n",
       "PUNT_QUIMICA                                               36   \n",
       "PUNT_LENGUAJE                                              48   \n",
       "PUNT_GEOGRAFIA                                             44   \n",
       "COD_INTERDISCIPLINAR                                       43   \n",
       "PUNT_INTERDISCIPLINAR                                      60   \n",
       "COD_IDIOMA                                                 51   \n",
       "PUNT_IDIOMA                                                40   \n",
       "ESTU_IES_COD_DESEADA                                     1717   \n",
       "ESTU_RAZONINSTITUTO                                         6   \n",
       "ESTU_CARRDESEADA_COD                                    43333   \n",
       "ESTU_CARRDESEADA_RAZON                                      1   \n",
       "FAMI_PERSONAS_HOGAR                                         4   \n",
       "FAMI_VIVIENDA_PROPIA                                        S   \n",
       "FAMI_DEUDA_VIVIENDA                                         N   \n",
       "FAMI_APORTANTES                                             1   \n",
       "FAMI_INGRESO_FMILIAR_MENSUAL                                0   \n",
       "FAMI_LEE_ESCRIBE_PADRE                                      N   \n",
       "FAMI_LEE_ESCRIBE_MADRE                                      S   \n",
       "FAMI_EDUCA_PADRE                                            1   \n",
       "FAMI_EDUCA_MADRE                                            3   \n",
       "FAMI_OCUPA_PADRE                                          NaN   \n",
       "FAMI_OCUPA_MADRE                                           05   \n",
       "FAMI_NUM_HERMANOS                                         NaN   \n",
       "FAMI_NUM_HERMANOS_EDUSUPERIOR                               0   \n",
       "FAMI_POSICION_HERMANOS                                      4   \n",
       "FAMI_SOST_PERSONAL                                          T   \n",
       "ESTU_TRABAJA                                                N   \n",
       "ESTU_ACT_PROX_ANNO                                          3   \n",
       "COLE_CALENDARIO                                             A   \n",
       "COLE_BILINGUE                                             NaN   \n",
       "COLE_CARACTER                             ACADEMICO Y TECNICO   \n",
       "COLE_DEPTO_UBICACION                          NORTE SANTANDER   \n",
       "COLE_MCPIO_UBICACION                                   CUCUTA   \n",
       "ESTU_RESIDE_DEPTO                             NORTE SANTANDER   \n",
       "ESTU_RESIDE_MCPIO                                      CUCUTA   \n",
       "ESTU_TIPO_DOCUMENTO                                         R   \n",
       "\n",
       "                                                         2  \n",
       "ESTU_CONSECUTIVO                              SB2002000003  \n",
       "COLE_COD_ICFES                                       12088  \n",
       "COLE_NOMBRE_SEDE               COLEGIO EL CARMEN TERESIANO  \n",
       "IND_ANNO_TERMINO_BACHILLERATO                         2002  \n",
       "COLE_JORNADA                                        MAÑANA  \n",
       "COLE_VALOR_PENSION                                       6  \n",
       "ESTU_GENERO                                              F  \n",
       "ESTU_NACIMIENTO_DIA                                     19  \n",
       "ESTU_NACIMIENTO_MES                                     10  \n",
       "ESTU_NACIMIENTO_ANNO                                  1985  \n",
       "ESTU_DEPTO_PRESENTACION                    NORTE SANTANDER  \n",
       "ESTU_MCPIO_PRESENTACION                             CUCUTA  \n",
       "ESTU_LIMITA_INVIDENTE                                  NaN  \n",
       "ESTU_LIMITA_SORDOINTERPRETE                            NaN  \n",
       "ESTU_LIMITA_SORDONOINTERPRETE                          NaN  \n",
       "ESTU_LIMITA_MOTRIZ                                     NaN  \n",
       "PUNT_BIOLOGIA                                           50  \n",
       "PUNT_MATEMATICAS                                        44  \n",
       "PUNT_FILOSOFIA                                          46  \n",
       "PUNT_FISICA                                             51  \n",
       "PUNT_HISTORIA                                           51  \n",
       "PUNT_QUIMICA                                            53  \n",
       "PUNT_LENGUAJE                                           56  \n",
       "PUNT_GEOGRAFIA                                          44  \n",
       "COD_INTERDISCIPLINAR                                    44  \n",
       "PUNT_INTERDISCIPLINAR                                   45  \n",
       "COD_IDIOMA                                              51  \n",
       "PUNT_IDIOMA                                             48  \n",
       "ESTU_IES_COD_DESEADA                                  1701  \n",
       "ESTU_RAZONINSTITUTO                                      2  \n",
       "ESTU_CARRDESEADA_COD                                 46203  \n",
       "ESTU_CARRDESEADA_RAZON                                   2  \n",
       "FAMI_PERSONAS_HOGAR                                      3  \n",
       "FAMI_VIVIENDA_PROPIA                                     S  \n",
       "FAMI_DEUDA_VIVIENDA                                      N  \n",
       "FAMI_APORTANTES                                          1  \n",
       "FAMI_INGRESO_FMILIAR_MENSUAL                             2  \n",
       "FAMI_LEE_ESCRIBE_PADRE                                   S  \n",
       "FAMI_LEE_ESCRIBE_MADRE                                   S  \n",
       "FAMI_EDUCA_PADRE                                         6  \n",
       "FAMI_EDUCA_MADRE                                         6  \n",
       "FAMI_OCUPA_PADRE                                        05  \n",
       "FAMI_OCUPA_MADRE                                        10  \n",
       "FAMI_NUM_HERMANOS                                        0  \n",
       "FAMI_NUM_HERMANOS_EDUSUPERIOR                            0  \n",
       "FAMI_POSICION_HERMANOS                                   1  \n",
       "FAMI_SOST_PERSONAL                                       T  \n",
       "ESTU_TRABAJA                                             N  \n",
       "ESTU_ACT_PROX_ANNO                                       1  \n",
       "COLE_CALENDARIO                                          A  \n",
       "COLE_BILINGUE                                          NaN  \n",
       "COLE_CARACTER                                    ACADEMICO  \n",
       "COLE_DEPTO_UBICACION                       NORTE SANTANDER  \n",
       "COLE_MCPIO_UBICACION                                CUCUTA  \n",
       "ESTU_RESIDE_DEPTO                          NORTE SANTANDER  \n",
       "ESTU_RESIDE_MCPIO                                   CUCUTA  \n",
       "ESTU_TIPO_DOCUMENTO                                      T  "
      ]
     },
     "execution_count": 8,
     "metadata": {},
     "output_type": "execute_result"
    }
   ],
   "source": [
    "data_2002_2.head(3).T"
   ]
  },
  {
   "cell_type": "code",
   "execution_count": null,
   "metadata": {
    "collapsed": false
   },
   "outputs": [],
   "source": [
    "print(data_2002[''].value_counts().sort_index().index)\n",
    "print(data_2002[''].value_counts().sort_index())\n",
    "print(missing_data(data_2002['']))"
   ]
  },
  {
   "cell_type": "code",
   "execution_count": 10,
   "metadata": {
    "collapsed": false
   },
   "outputs": [
    {
     "data": {
      "text/plain": [
       "Index(['ESTU_CONSECUTIVO', 'COLE_COD_ICFES', 'COLE_NOMBRE_SEDE',\n",
       "       'IND_ANNO_TERMINO_BACHILLERATO', 'COLE_JORNADA', 'COLE_VALOR_PENSION',\n",
       "       'ESTU_GENERO', 'ESTU_NACIMIENTO_DIA', 'ESTU_NACIMIENTO_MES',\n",
       "       'ESTU_NACIMIENTO_ANNO', 'ESTU_DEPTO_PRESENTACION',\n",
       "       'ESTU_MCPIO_PRESENTACION', 'ESTU_LIMITA_INVIDENTE',\n",
       "       'ESTU_LIMITA_SORDOINTERPRETE', 'ESTU_LIMITA_SORDONOINTERPRETE',\n",
       "       'ESTU_LIMITA_MOTRIZ', 'PUNT_BIOLOGIA', 'PUNT_MATEMATICAS',\n",
       "       'PUNT_FILOSOFIA', 'PUNT_FISICA', 'PUNT_HISTORIA', 'PUNT_QUIMICA',\n",
       "       'PUNT_LENGUAJE', 'PUNT_GEOGRAFIA', 'COD_INTERDISCIPLINAR',\n",
       "       'PUNT_INTERDISCIPLINAR', 'COD_IDIOMA', 'PUNT_IDIOMA',\n",
       "       'ESTU_IES_COD_DESEADA', 'ESTU_RAZONINSTITUTO', 'ESTU_CARRDESEADA_COD',\n",
       "       'ESTU_CARRDESEADA_RAZON', 'FAMI_PERSONAS_HOGAR', 'FAMI_VIVIENDA_PROPIA',\n",
       "       'FAMI_DEUDA_VIVIENDA', 'FAMI_APORTANTES',\n",
       "       'FAMI_INGRESO_FMILIAR_MENSUAL', 'FAMI_LEE_ESCRIBE_PADRE',\n",
       "       'FAMI_LEE_ESCRIBE_MADRE', 'FAMI_EDUCA_PADRE', 'FAMI_EDUCA_MADRE',\n",
       "       'FAMI_OCUPA_PADRE', 'FAMI_OCUPA_MADRE', 'FAMI_NUM_HERMANOS',\n",
       "       'FAMI_NUM_HERMANOS_EDUSUPERIOR', 'FAMI_POSICION_HERMANOS',\n",
       "       'FAMI_SOST_PERSONAL', 'ESTU_TRABAJA', 'ESTU_ACT_PROX_ANNO',\n",
       "       'COLE_CALENDARIO', 'COLE_BILINGUE', 'COLE_CARACTER',\n",
       "       'COLE_DEPTO_UBICACION', 'COLE_MCPIO_UBICACION', 'ESTU_RESIDE_DEPTO',\n",
       "       'ESTU_RESIDE_MCPIO', 'ESTU_TIPO_DOCUMENTO'],\n",
       "      dtype='object')"
      ]
     },
     "execution_count": 10,
     "metadata": {},
     "output_type": "execute_result"
    }
   ],
   "source": [
    "'ESTU_CONSECUTIVO', 'COLE_COD_ICFES', 'COLE_NOMBRE_SEDE',\n",
    "       'IND_ANNO_TERMINO_BACHILLERATO', 'COLE_JORNADA', 'COLE_VALOR_PENSION',\n",
    "       'ESTU_GENERO', 'ESTU_NACIMIENTO_DIA', 'ESTU_NACIMIENTO_MES',\n",
    "       'ESTU_NACIMIENTO_ANNO', 'ESTU_DEPTO_PRESENTACION',\n",
    "       'ESTU_MCPIO_PRESENTACION', 'ESTU_LIMITA_INVIDENTE',\n",
    "       'ESTU_LIMITA_SORDOINTERPRETE', 'ESTU_LIMITA_SORDONOINTERPRETE',\n",
    "       'ESTU_LIMITA_MOTRIZ', 'PUNT_BIOLOGIA', 'PUNT_MATEMATICAS',\n",
    "       'PUNT_FILOSOFIA', 'PUNT_FISICA', 'PUNT_HISTORIA', 'PUNT_QUIMICA',\n",
    "       'PUNT_LENGUAJE', 'PUNT_GEOGRAFIA', 'COD_INTERDISCIPLINAR',\n",
    "       'PUNT_INTERDISCIPLINAR', 'COD_IDIOMA', 'PUNT_IDIOMA',\n",
    "       'ESTU_IES_COD_DESEADA', 'ESTU_RAZONINSTITUTO', 'ESTU_CARRDESEADA_COD',\n",
    "       'ESTU_CARRDESEADA_RAZON', 'FAMI_PERSONAS_HOGAR', 'FAMI_VIVIENDA_PROPIA',\n",
    "       'FAMI_DEUDA_VIVIENDA', 'FAMI_APORTANTES',\n",
    "       'FAMI_INGRESO_FMILIAR_MENSUAL', 'FAMI_LEE_ESCRIBE_PADRE',\n",
    "       'FAMI_LEE_ESCRIBE_MADRE', 'FAMI_EDUCA_PADRE', 'FAMI_EDUCA_MADRE',\n",
    "       'FAMI_OCUPA_PADRE', 'FAMI_OCUPA_MADRE', 'FAMI_NUM_HERMANOS',\n",
    "       'FAMI_NUM_HERMANOS_EDUSUPERIOR', 'FAMI_POSICION_HERMANOS',\n",
    "       'FAMI_SOST_PERSONAL', 'ESTU_TRABAJA', 'ESTU_ACT_PROX_ANNO',\n",
    "       'COLE_CALENDARIO', 'COLE_BILINGUE', 'COLE_CARACTER',\n",
    "       'COLE_DEPTO_UBICACION', 'COLE_MCPIO_UBICACION', 'ESTU_RESIDE_DEPTO',\n",
    "       'ESTU_RESIDE_MCPIO', 'ESTU_TIPO_DOCUMENTO'"
   ]
  }
 ],
 "metadata": {
  "kernelspec": {
   "display_name": "Python 3 + Anaconda",
   "language": "python",
   "name": "pyconda3"
  },
  "language_info": {
   "codemirror_mode": {
    "name": "ipython",
    "version": 3
   },
   "file_extension": ".py",
   "mimetype": "text/x-python",
   "name": "python",
   "nbconvert_exporter": "python",
   "pygments_lexer": "ipython3",
   "version": "3.5.1"
  }
 },
 "nbformat": 4,
 "nbformat_minor": 0
}
