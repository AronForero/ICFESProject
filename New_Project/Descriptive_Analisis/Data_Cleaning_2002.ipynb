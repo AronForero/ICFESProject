{
 "cells": [
  {
   "cell_type": "code",
   "execution_count": 1,
   "metadata": {
    "collapsed": true
   },
   "outputs": [],
   "source": [
    "import pandas as pd\n",
    "import numpy as np\n",
    "%run -i ../tools/functions.py\n",
    "%run -i ../tools/label_encoder.py"
   ]
  },
  {
   "cell_type": "code",
   "execution_count": null,
   "metadata": {
    "collapsed": false
   },
   "outputs": [],
   "source": [
    "data_2002 = pd.read_csv('../DatosFTPICFES/SABER11/SB11-BASES_DE_DATOS/SB11-20021-RGSTRO-CLFCCN-V1-0.txt', delimiter=\"|\",\n",
    "                       encoding = \"iso-8859-1\")"
   ]
  },
  {
   "cell_type": "code",
   "execution_count": null,
   "metadata": {
    "collapsed": false
   },
   "outputs": [],
   "source": [
    "data_2002.shape"
   ]
  },
  {
   "cell_type": "code",
   "execution_count": null,
   "metadata": {
    "collapsed": false,
    "scrolled": true
   },
   "outputs": [],
   "source": [
    "data_2002.head(3).T"
   ]
  },
  {
   "cell_type": "code",
   "execution_count": null,
   "metadata": {
    "collapsed": true
   },
   "outputs": [],
   "source": [
    "##DELETING columns\n",
    "data_2002 = data_2002.drop(['ESTU_CONSECUTIVO', 'COLE_NOMBRE_SEDE', 'ESTU_TIPO_DOCUMENTO'], axis=1)"
   ]
  },
  {
   "cell_type": "code",
   "execution_count": null,
   "metadata": {
    "collapsed": false,
    "scrolled": true
   },
   "outputs": [],
   "source": [
    "\"\"\"PERFECT!\"\"\"\n",
    "print(data_2002['COLE_COD_ICFES'].value_counts().sort_index().index)\n",
    "print(data_2002['COLE_COD_ICFES'].value_counts().sort_index())\n",
    "print(missing_data(data_2002['COLE_COD_ICFES']))"
   ]
  },
  {
   "cell_type": "code",
   "execution_count": null,
   "metadata": {
    "collapsed": false,
    "scrolled": true
   },
   "outputs": [],
   "source": [
    "print(data_2002['IND_ANNO_TERMINO_BACHILLERATO'].value_counts().sort_index().index)\n",
    "print(data_2002['IND_ANNO_TERMINO_BACHILLERATO'].value_counts().sort_index())\n",
    "print(missing_data(data_2002['IND_ANNO_TERMINO_BACHILLERATO']))"
   ]
  },
  {
   "cell_type": "code",
   "execution_count": null,
   "metadata": {
    "collapsed": true
   },
   "outputs": [],
   "source": [
    "for i in data_2002['IND_ANNO_TERMINO_BACHILLERATO'].value_counts().sort_index().index:\n",
    "    if '*' in i:\n",
    "        data_2002['IND_ANNO_TERMINO_BACHILLERATO'] = data_2002['IND_ANNO_TERMINO_BACHILLERATO'].replace(i, np.nan)\n",
    "    elif ' ' in i:\n",
    "        data_2002['IND_ANNO_TERMINO_BACHILLERATO'] = data_2002['IND_ANNO_TERMINO_BACHILLERATO'].replace(i, np.nan)\n",
    "    elif len(i)<4:\n",
    "        data_2002['IND_ANNO_TERMINO_BACHILLERATO'] = data_2002['IND_ANNO_TERMINO_BACHILLERATO'].replace(i, np.nan)"
   ]
  },
  {
   "cell_type": "code",
   "execution_count": null,
   "metadata": {
    "collapsed": false
   },
   "outputs": [],
   "source": [
    "\"\"\"PERFECT!\"\"\"\n",
    "print(data_2002['COLE_JORNADA'].value_counts().sort_index().index)\n",
    "print(data_2002['COLE_JORNADA'].value_counts().sort_index())\n",
    "print(missing_data(data_2002['COLE_JORNADA']))"
   ]
  },
  {
   "cell_type": "code",
   "execution_count": null,
   "metadata": {
    "collapsed": false,
    "scrolled": true
   },
   "outputs": [],
   "source": [
    "print(data_2002['COLE_VALOR_PENSION'].value_counts().index)\n",
    "print(data_2002['COLE_VALOR_PENSION'].value_counts())\n",
    "print(missing_data(data_2002['COLE_VALOR_PENSION']))"
   ]
  },
  {
   "cell_type": "code",
   "execution_count": null,
   "metadata": {
    "collapsed": true
   },
   "outputs": [],
   "source": [
    "for i in data_2002['COLE_VALOR_PENSION'].value_counts().index:\n",
    "    if type(i) == float:\n",
    "        data_2002['COLE_VALOR_PENSION'] = data_2002['COLE_VALOR_PENSION'].replace(i, str(i)[:-2])\n",
    "data_2002['COLE_VALOR_PENSION'] = data_2002['COLE_VALOR_PENSION'].replace('*', np.nan)"
   ]
  },
  {
   "cell_type": "code",
   "execution_count": null,
   "metadata": {
    "collapsed": false
   },
   "outputs": [],
   "source": [
    "print(data_2002['ESTU_GENERO'].value_counts().sort_index().index)\n",
    "print(data_2002['ESTU_GENERO'].value_counts().sort_index())\n",
    "print(missing_data(data_2002['ESTU_GENERO']))"
   ]
  },
  {
   "cell_type": "code",
   "execution_count": null,
   "metadata": {
    "collapsed": false,
    "scrolled": true
   },
   "outputs": [],
   "source": [
    "print(data_2002['ESTU_NACIMIENTO_DIA'].value_counts().sort_index().index)\n",
    "print(data_2002['ESTU_NACIMIENTO_DIA'].value_counts().sort_index())\n",
    "print(missing_data(data_2002['ESTU_NACIMIENTO_DIA']))"
   ]
  },
  {
   "cell_type": "code",
   "execution_count": null,
   "metadata": {
    "collapsed": false,
    "scrolled": true
   },
   "outputs": [],
   "source": [
    "print(data_2002['ESTU_NACIMIENTO_MES'].value_counts().sort_index().index)\n",
    "print(data_2002['ESTU_NACIMIENTO_MES'].value_counts().sort_index())\n",
    "print(missing_data(data_2002['ESTU_NACIMIENTO_MES']))"
   ]
  },
  {
   "cell_type": "code",
   "execution_count": null,
   "metadata": {
    "collapsed": false,
    "scrolled": true
   },
   "outputs": [],
   "source": [
    "print(data_2002['ESTU_NACIMIENTO_ANNO'].value_counts().sort_index().index)\n",
    "print(data_2002['ESTU_NACIMIENTO_ANNO'].value_counts().sort_index())\n",
    "print(missing_data(data_2002['ESTU_NACIMIENTO_ANNO']))"
   ]
  },
  {
   "cell_type": "code",
   "execution_count": null,
   "metadata": {
    "collapsed": true
   },
   "outputs": [],
   "source": [
    "data_2002['ESTU_NACIMIENTO_ANNO'] = data_2002['ESTU_NACIMIENTO_ANNO'].replace(198.0, np.nan)"
   ]
  },
  {
   "cell_type": "code",
   "execution_count": null,
   "metadata": {
    "collapsed": false,
    "scrolled": true
   },
   "outputs": [],
   "source": [
    "print(data_2002['ESTU_DEPTO_PRESENTACION'].value_counts().sort_index().index)\n",
    "print(data_2002['ESTU_DEPTO_PRESENTACION'].value_counts().sort_index())\n",
    "print(missing_data(data_2002['ESTU_DEPTO_PRESENTACION']))"
   ]
  },
  {
   "cell_type": "code",
   "execution_count": null,
   "metadata": {
    "collapsed": false,
    "scrolled": true
   },
   "outputs": [],
   "source": [
    "print(data_2002['ESTU_MCPIO_PRESENTACION'].value_counts().sort_index().index)\n",
    "print(data_2002['ESTU_MCPIO_PRESENTACION'].value_counts().sort_index())\n",
    "print(missing_data(data_2002['ESTU_MCPIO_PRESENTACION']))"
   ]
  },
  {
   "cell_type": "code",
   "execution_count": null,
   "metadata": {
    "collapsed": false
   },
   "outputs": [],
   "source": [
    "print(data_2002['ESTU_LIMITA_INVIDENTE'].value_counts().sort_index().index)\n",
    "print(data_2002['ESTU_LIMITA_INVIDENTE'].value_counts().sort_index())\n",
    "print(missing_data(data_2002['ESTU_LIMITA_INVIDENTE']))"
   ]
  },
  {
   "cell_type": "code",
   "execution_count": null,
   "metadata": {
    "collapsed": false
   },
   "outputs": [],
   "source": [
    "print(data_2002['ESTU_LIMITA_SORDOINTERPRETE'].value_counts().sort_index().index)\n",
    "print(data_2002['ESTU_LIMITA_SORDOINTERPRETE'].value_counts().sort_index())\n",
    "print(missing_data(data_2002['ESTU_LIMITA_SORDOINTERPRETE']))"
   ]
  },
  {
   "cell_type": "code",
   "execution_count": null,
   "metadata": {
    "collapsed": false
   },
   "outputs": [],
   "source": [
    "print(data_2002['ESTU_LIMITA_SORDONOINTERPRETE'].value_counts().sort_index().index)\n",
    "print(data_2002['ESTU_LIMITA_SORDONOINTERPRETE'].value_counts().sort_index())\n",
    "print(missing_data(data_2002['ESTU_LIMITA_SORDONOINTERPRETE']))"
   ]
  },
  {
   "cell_type": "code",
   "execution_count": null,
   "metadata": {
    "collapsed": false,
    "scrolled": true
   },
   "outputs": [],
   "source": [
    "print(data_2002['ESTU_LIMITA_MOTRIZ'].value_counts().sort_index().index)\n",
    "print(data_2002['ESTU_LIMITA_MOTRIZ'].value_counts().sort_index())\n",
    "print(missing_data(data_2002['ESTU_LIMITA_MOTRIZ']))"
   ]
  },
  {
   "cell_type": "code",
   "execution_count": null,
   "metadata": {
    "collapsed": false,
    "scrolled": true
   },
   "outputs": [],
   "source": [
    "print(data_2002['ESTU_IES_COD_DESEADA'].value_counts().sort_index().index)\n",
    "print(data_2002['ESTU_IES_COD_DESEADA'].value_counts().sort_index())\n",
    "print(missing_data(data_2002['ESTU_IES_COD_DESEADA']))"
   ]
  },
  {
   "cell_type": "code",
   "execution_count": null,
   "metadata": {
    "collapsed": false
   },
   "outputs": [],
   "source": [
    "data_2002['ESTU_IES_COD_DESEADA'] = data_2002['ESTU_IES_COD_DESEADA'].replace('nan', np.nan)\n",
    "for i in data_2002['ESTU_IES_COD_DESEADA'].value_counts().sort_index().index:\n",
    "    if type(i) == float:\n",
    "        data_2002['ESTU_IES_COD_DESEADA'] = data_2002['ESTU_IES_COD_DESEADA'].replace(i, str(i))\n",
    "\n",
    "for i in data_2002['ESTU_IES_COD_DESEADA'].value_counts().sort_index().index:\n",
    "    if '*' in i:\n",
    "        data_2002['ESTU_IES_COD_DESEADA'] = data_2002['ESTU_IES_COD_DESEADA'].replace(i, np.nan)\n",
    "    elif ' ' in i:\n",
    "        data_2002['ESTU_IES_COD_DESEADA'] = data_2002['ESTU_IES_COD_DESEADA'].replace(i, np.nan)\n",
    "    elif float(i) < 1000:\n",
    "        data_2002['ESTU_IES_COD_DESEADA'] = data_2002['ESTU_IES_COD_DESEADA'].replace(i, np.nan)"
   ]
  },
  {
   "cell_type": "code",
   "execution_count": null,
   "metadata": {
    "collapsed": false
   },
   "outputs": [],
   "source": [
    "print(data_2002['ESTU_RAZONINSTITUTO'].value_counts().sort_index().index)\n",
    "print(data_2002['ESTU_RAZONINSTITUTO'].value_counts().sort_index())\n",
    "print(missing_data(data_2002['ESTU_RAZONINSTITUTO']))"
   ]
  },
  {
   "cell_type": "code",
   "execution_count": null,
   "metadata": {
    "collapsed": true
   },
   "outputs": [],
   "source": [
    "data_2002['ESTU_RAZONINSTITUTO'] = data_2002['ESTU_RAZONINSTITUTO'].replace('*', np.nan)\n",
    "data_2002['ESTU_RAZONINSTITUTO'] = data_2002['ESTU_RAZONINSTITUTO'].replace('S', np.nan)"
   ]
  },
  {
   "cell_type": "code",
   "execution_count": null,
   "metadata": {
    "collapsed": false,
    "scrolled": true
   },
   "outputs": [],
   "source": [
    "print(data_2002['ESTU_CARRDESEADA_COD'].value_counts().sort_index().index)\n",
    "print(data_2002['ESTU_CARRDESEADA_COD'].value_counts().sort_index())\n",
    "print(missing_data(data_2002['ESTU_CARRDESEADA_COD']))"
   ]
  },
  {
   "cell_type": "code",
   "execution_count": null,
   "metadata": {
    "collapsed": true
   },
   "outputs": [],
   "source": [
    "data_2002['ESTU_CARRDESEADA_COD'] = data_2002['ESTU_CARRDESEADA_COD'].replace('Negoc', np.nan)\n",
    "data_2002['ESTU_CARRDESEADA_COD'] = data_2002['ESTU_CARRDESEADA_COD'].replace('econo', np.nan)\n",
    "for i in data_2002['ESTU_CARRDESEADA_COD'].value_counts().sort_index().index:\n",
    "    if '*' in i:\n",
    "        data_2002['ESTU_CARRDESEADA_COD'] = data_2002['ESTU_CARRDESEADA_COD'].replace(i, np.nan)\n",
    "    elif ' ' in i:\n",
    "        data_2002['ESTU_CARRDESEADA_COD'] = data_2002['ESTU_CARRDESEADA_COD'].replace(i, np.nan)\n",
    "    elif float(i) == 0:\n",
    "        data_2002['ESTU_CARRDESEADA_COD'] = data_2002['ESTU_CARRDESEADA_COD'].replace(i, np.nan)"
   ]
  },
  {
   "cell_type": "code",
   "execution_count": null,
   "metadata": {
    "collapsed": false
   },
   "outputs": [],
   "source": [
    "print(data_2002['ESTU_CARRDESEADA_RAZON'].value_counts().sort_index().index)\n",
    "print(data_2002['ESTU_CARRDESEADA_RAZON'].value_counts().sort_index())\n",
    "print(missing_data(data_2002['ESTU_CARRDESEADA_RAZON']))"
   ]
  },
  {
   "cell_type": "code",
   "execution_count": null,
   "metadata": {
    "collapsed": true
   },
   "outputs": [],
   "source": [
    "data_2002['ESTU_CARRDESEADA_RAZON'] = data_2002['ESTU_CARRDESEADA_RAZON'].replace('*', np.nan)\n",
    "data_2002['ESTU_CARRDESEADA_RAZON'] = data_2002['ESTU_CARRDESEADA_RAZON'].replace('S', np.nan)"
   ]
  },
  {
   "cell_type": "code",
   "execution_count": null,
   "metadata": {
    "collapsed": false
   },
   "outputs": [],
   "source": [
    "print(data_2002['FAMI_PERSONAS_HOGAR'].value_counts().sort_index().index)\n",
    "print(data_2002['FAMI_PERSONAS_HOGAR'].value_counts().sort_index())\n",
    "print(missing_data(data_2002['FAMI_PERSONAS_HOGAR']))"
   ]
  },
  {
   "cell_type": "code",
   "execution_count": null,
   "metadata": {
    "collapsed": true
   },
   "outputs": [],
   "source": [
    "data_2002['FAMI_PERSONAS_HOGAR'] = data_2002['FAMI_PERSONAS_HOGAR'].replace('+', '+9')\n",
    "data_2002['FAMI_PERSONAS_HOGAR'] = data_2002['FAMI_PERSONAS_HOGAR'].replace('*', np.nan)"
   ]
  },
  {
   "cell_type": "code",
   "execution_count": null,
   "metadata": {
    "collapsed": false
   },
   "outputs": [],
   "source": [
    "print(data_2002['FAMI_VIVIENDA_PROPIA'].value_counts().sort_index().index)\n",
    "print(data_2002['FAMI_VIVIENDA_PROPIA'].value_counts().sort_index())\n",
    "print(missing_data(data_2002['FAMI_VIVIENDA_PROPIA']))"
   ]
  },
  {
   "cell_type": "code",
   "execution_count": null,
   "metadata": {
    "collapsed": true
   },
   "outputs": [],
   "source": [
    "data_2002['FAMI_VIVIENDA_PROPIA'] = data_2002['FAMI_VIVIENDA_PROPIA'].replace('*', np.nan)"
   ]
  },
  {
   "cell_type": "code",
   "execution_count": null,
   "metadata": {
    "collapsed": false
   },
   "outputs": [],
   "source": [
    "print(data_2002['FAMI_DEUDA_VIVIENDA'].value_counts().sort_index().index)\n",
    "print(data_2002['FAMI_DEUDA_VIVIENDA'].value_counts().sort_index())\n",
    "print(missing_data(data_2002['FAMI_DEUDA_VIVIENDA']))"
   ]
  },
  {
   "cell_type": "code",
   "execution_count": null,
   "metadata": {
    "collapsed": false
   },
   "outputs": [],
   "source": [
    "print(data_2002['FAMI_APORTANTES'].value_counts().sort_index().index)\n",
    "print(data_2002['FAMI_APORTANTES'].value_counts().sort_index())\n",
    "print(missing_data(data_2002['FAMI_APORTANTES']))"
   ]
  },
  {
   "cell_type": "code",
   "execution_count": null,
   "metadata": {
    "collapsed": true
   },
   "outputs": [],
   "source": [
    "data_2002['FAMI_APORTANTES'] = data_2002['FAMI_APORTANTES'].replace('+', '+9')\n",
    "data_2002['FAMI_APORTANTES'] = data_2002['FAMI_APORTANTES'].replace('*', np.nan)"
   ]
  },
  {
   "cell_type": "code",
   "execution_count": null,
   "metadata": {
    "collapsed": false
   },
   "outputs": [],
   "source": [
    "print(data_2002['FAMI_INGRESO_FMILIAR_MENSUAL'].value_counts().sort_index().index)\n",
    "print(data_2002['FAMI_INGRESO_FMILIAR_MENSUAL'].value_counts().sort_index())\n",
    "print(missing_data(data_2002['FAMI_INGRESO_FMILIAR_MENSUAL']))"
   ]
  },
  {
   "cell_type": "code",
   "execution_count": null,
   "metadata": {
    "collapsed": true
   },
   "outputs": [],
   "source": [
    "data_2002['FAMI_INGRESO_FMILIAR_MENSUAL'] = data_2002['FAMI_INGRESO_FMILIAR_MENSUAL'].replace('*', np.nan)"
   ]
  },
  {
   "cell_type": "code",
   "execution_count": null,
   "metadata": {
    "collapsed": false
   },
   "outputs": [],
   "source": [
    "print(data_2002['FAMI_LEE_ESCRIBE_PADRE'].value_counts().sort_index().index)\n",
    "print(data_2002['FAMI_LEE_ESCRIBE_PADRE'].value_counts().sort_index())\n",
    "print(missing_data(data_2002['FAMI_LEE_ESCRIBE_PADRE']))"
   ]
  },
  {
   "cell_type": "code",
   "execution_count": null,
   "metadata": {
    "collapsed": true
   },
   "outputs": [],
   "source": [
    "data_2002['FAMI_LEE_ESCRIBE_PADRE'] = data_2002['FAMI_LEE_ESCRIBE_PADRE'].replace('*', np.nan)"
   ]
  },
  {
   "cell_type": "code",
   "execution_count": null,
   "metadata": {
    "collapsed": false
   },
   "outputs": [],
   "source": [
    "print(data_2002['FAMI_LEE_ESCRIBE_MADRE'].value_counts().sort_index().index)\n",
    "print(data_2002['FAMI_LEE_ESCRIBE_MADRE'].value_counts().sort_index())\n",
    "print(missing_data(data_2002['FAMI_LEE_ESCRIBE_MADRE']))"
   ]
  },
  {
   "cell_type": "code",
   "execution_count": null,
   "metadata": {
    "collapsed": true
   },
   "outputs": [],
   "source": [
    "data_2002['FAMI_LEE_ESCRIBE_MADRE'] = data_2002['FAMI_LEE_ESCRIBE_MADRE'].replace('*', np.nan)"
   ]
  },
  {
   "cell_type": "code",
   "execution_count": null,
   "metadata": {
    "collapsed": false
   },
   "outputs": [],
   "source": [
    "print(data_2002['FAMI_EDUCA_PADRE'].value_counts().sort_index().index)\n",
    "print(data_2002['FAMI_EDUCA_PADRE'].value_counts().sort_index())\n",
    "print(missing_data(data_2002['FAMI_EDUCA_PADRE']))"
   ]
  },
  {
   "cell_type": "code",
   "execution_count": null,
   "metadata": {
    "collapsed": true
   },
   "outputs": [],
   "source": [
    "data_2002['FAMI_EDUCA_PADRE'] = data_2002['FAMI_EDUCA_PADRE'].replace('*', np.nan)\n",
    "data_2002['FAMI_EDUCA_PADRE'] = data_2002['FAMI_EDUCA_PADRE'].replace('S', np.nan)"
   ]
  },
  {
   "cell_type": "code",
   "execution_count": null,
   "metadata": {
    "collapsed": false
   },
   "outputs": [],
   "source": [
    "print(data_2002['FAMI_EDUCA_MADRE'].value_counts().sort_index().index)\n",
    "print(data_2002['FAMI_EDUCA_MADRE'].value_counts().sort_index())\n",
    "print(missing_data(data_2002['FAMI_EDUCA_MADRE']))"
   ]
  },
  {
   "cell_type": "code",
   "execution_count": null,
   "metadata": {
    "collapsed": true
   },
   "outputs": [],
   "source": [
    "data_2002['FAMI_EDUCA_MADRE'] = data_2002['FAMI_EDUCA_MADRE'].replace('*', np.nan)\n",
    "data_2002['FAMI_EDUCA_MADRE'] = data_2002['FAMI_EDUCA_MADRE'].replace('S', np.nan)"
   ]
  },
  {
   "cell_type": "code",
   "execution_count": null,
   "metadata": {
    "collapsed": false
   },
   "outputs": [],
   "source": [
    "print(data_2002['FAMI_OCUPA_PADRE'].value_counts().sort_index().index)\n",
    "print(data_2002['FAMI_OCUPA_PADRE'].value_counts().sort_index())\n",
    "print(missing_data(data_2002['FAMI_OCUPA_PADRE']))"
   ]
  },
  {
   "cell_type": "code",
   "execution_count": null,
   "metadata": {
    "collapsed": true
   },
   "outputs": [],
   "source": [
    "data_2002['FAMI_OCUPA_PADRE'] = data_2002['FAMI_OCUPA_PADRE'].replace('*', np.nan)\n",
    "data_2002['FAMI_OCUPA_PADRE'] = data_2002['FAMI_OCUPA_PADRE'].replace('Se', np.nan)"
   ]
  },
  {
   "cell_type": "code",
   "execution_count": null,
   "metadata": {
    "collapsed": false
   },
   "outputs": [],
   "source": [
    "print(data_2002['FAMI_OCUPA_MADRE'].value_counts().sort_index().index)\n",
    "print(data_2002['FAMI_OCUPA_MADRE'].value_counts().sort_index())\n",
    "print(missing_data(data_2002['FAMI_OCUPA_MADRE']))"
   ]
  },
  {
   "cell_type": "code",
   "execution_count": null,
   "metadata": {
    "collapsed": true
   },
   "outputs": [],
   "source": [
    "data_2002['FAMI_OCUPA_MADRE'] = data_2002['FAMI_OCUPA_MADRE'].replace('*', np.nan)\n",
    "data_2002['FAMI_OCUPA_MADRE'] = data_2002['FAMI_OCUPA_MADRE'].replace('Se', np.nan)"
   ]
  },
  {
   "cell_type": "code",
   "execution_count": null,
   "metadata": {
    "collapsed": false
   },
   "outputs": [],
   "source": [
    "print(data_2002['FAMI_NUM_HERMANOS'].value_counts().sort_index().index)\n",
    "print(data_2002['FAMI_NUM_HERMANOS'].value_counts().sort_index())\n",
    "print(missing_data(data_2002['FAMI_NUM_HERMANOS']))"
   ]
  },
  {
   "cell_type": "code",
   "execution_count": null,
   "metadata": {
    "collapsed": true
   },
   "outputs": [],
   "source": [
    "data_2002['FAMI_NUM_HERMANOS'] = data_2002['FAMI_NUM_HERMANOS'].replace('*', np.nan)\n",
    "data_2002['FAMI_NUM_HERMANOS'] = data_2002['FAMI_NUM_HERMANOS'].replace('+', '+9')"
   ]
  },
  {
   "cell_type": "code",
   "execution_count": null,
   "metadata": {
    "collapsed": false
   },
   "outputs": [],
   "source": [
    "print(data_2002['FAMI_NUM_HERMANOS_EDUSUPERIOR'].value_counts().sort_index().index)\n",
    "print(data_2002['FAMI_NUM_HERMANOS_EDUSUPERIOR'].value_counts().sort_index())\n",
    "print(missing_data(data_2002['FAMI_NUM_HERMANOS_EDUSUPERIOR']))"
   ]
  },
  {
   "cell_type": "code",
   "execution_count": null,
   "metadata": {
    "collapsed": true
   },
   "outputs": [],
   "source": [
    "data_2002['FAMI_NUM_HERMANOS_EDUSUPERIOR'] = data_2002['FAMI_NUM_HERMANOS_EDUSUPERIOR'].replace('*', np.nan)\n",
    "data_2002['FAMI_NUM_HERMANOS_EDUSUPERIOR'] = data_2002['FAMI_NUM_HERMANOS_EDUSUPERIOR'].replace('+', '+9')"
   ]
  },
  {
   "cell_type": "code",
   "execution_count": null,
   "metadata": {
    "collapsed": false
   },
   "outputs": [],
   "source": [
    "print(data_2002['FAMI_POSICION_HERMANOS'].value_counts().sort_index().index)\n",
    "print(data_2002['FAMI_POSICION_HERMANOS'].value_counts().sort_index())\n",
    "print(missing_data(data_2002['FAMI_POSICION_HERMANOS']))"
   ]
  },
  {
   "cell_type": "code",
   "execution_count": null,
   "metadata": {
    "collapsed": true
   },
   "outputs": [],
   "source": [
    "data_2002['FAMI_POSICION_HERMANOS'] = data_2002['FAMI_POSICION_HERMANOS'].replace('*', np.nan)\n",
    "data_2002['FAMI_POSICION_HERMANOS'] = data_2002['FAMI_POSICION_HERMANOS'].replace('+', '+9')"
   ]
  },
  {
   "cell_type": "code",
   "execution_count": null,
   "metadata": {
    "collapsed": false
   },
   "outputs": [],
   "source": [
    "print(data_2002['FAMI_SOST_PERSONAL'].value_counts().sort_index().index)\n",
    "print(data_2002['FAMI_SOST_PERSONAL'].value_counts().sort_index())\n",
    "print(missing_data(data_2002['FAMI_SOST_PERSONAL']))"
   ]
  },
  {
   "cell_type": "code",
   "execution_count": null,
   "metadata": {
    "collapsed": true
   },
   "outputs": [],
   "source": [
    "data_2002['FAMI_SOST_PERSONAL'] = data_2002['FAMI_SOST_PERSONAL'].replace('*', np.nan)"
   ]
  },
  {
   "cell_type": "code",
   "execution_count": null,
   "metadata": {
    "collapsed": false
   },
   "outputs": [],
   "source": [
    "print(data_2002['ESTU_TRABAJA'].value_counts().sort_index().index)\n",
    "print(data_2002['ESTU_TRABAJA'].value_counts().sort_index())\n",
    "print(missing_data(data_2002['ESTU_TRABAJA']))"
   ]
  },
  {
   "cell_type": "code",
   "execution_count": null,
   "metadata": {
    "collapsed": true
   },
   "outputs": [],
   "source": [
    "data_2002['ESTU_TRABAJA'] = data_2002['ESTU_TRABAJA'].replace('*', np.nan)"
   ]
  },
  {
   "cell_type": "code",
   "execution_count": null,
   "metadata": {
    "collapsed": false
   },
   "outputs": [],
   "source": [
    "print(data_2002['ESTU_ACT_PROX_ANNO'].value_counts().sort_index().index)\n",
    "print(data_2002['ESTU_ACT_PROX_ANNO'].value_counts().sort_index())\n",
    "print(missing_data(data_2002['ESTU_ACT_PROX_ANNO']))"
   ]
  },
  {
   "cell_type": "code",
   "execution_count": null,
   "metadata": {
    "collapsed": true
   },
   "outputs": [],
   "source": [
    "data_2002['ESTU_ACT_PROX_ANNO'] = data_2002['ESTU_ACT_PROX_ANNO'].replace('*', np.nan)"
   ]
  },
  {
   "cell_type": "code",
   "execution_count": null,
   "metadata": {
    "collapsed": false
   },
   "outputs": [],
   "source": [
    "print(data_2002['COLE_CALENDARIO'].value_counts().sort_index().index)\n",
    "print(data_2002['COLE_CALENDARIO'].value_counts().sort_index())\n",
    "print(missing_data(data_2002['COLE_CALENDARIO']))"
   ]
  },
  {
   "cell_type": "code",
   "execution_count": null,
   "metadata": {
    "collapsed": false
   },
   "outputs": [],
   "source": [
    "print(data_2002['COLE_BILINGUE'].value_counts().sort_index().index)\n",
    "print(data_2002['COLE_BILINGUE'].value_counts().sort_index())\n",
    "print(missing_data(data_2002['COLE_BILINGUE']))"
   ]
  },
  {
   "cell_type": "code",
   "execution_count": null,
   "metadata": {
    "collapsed": false
   },
   "outputs": [],
   "source": [
    "print(data_2002['COLE_CARACTER'].value_counts().sort_index().index)\n",
    "print(data_2002['COLE_CARACTER'].value_counts().sort_index())\n",
    "print(missing_data(data_2002['COLE_CARACTER']))"
   ]
  },
  {
   "cell_type": "code",
   "execution_count": null,
   "metadata": {
    "collapsed": false,
    "scrolled": true
   },
   "outputs": [],
   "source": [
    "print(data_2002['COLE_DEPTO_UBICACION'].value_counts().sort_index().index)\n",
    "print(data_2002['COLE_DEPTO_UBICACION'].value_counts().sort_index())\n",
    "print(missing_data(data_2002['COLE_DEPTO_UBICACION']))"
   ]
  },
  {
   "cell_type": "code",
   "execution_count": null,
   "metadata": {
    "collapsed": false,
    "scrolled": true
   },
   "outputs": [],
   "source": [
    "print(data_2002['COLE_MCPIO_UBICACION'].value_counts().sort_index().index)\n",
    "print(data_2002['COLE_MCPIO_UBICACION'].value_counts().sort_index())\n",
    "print(missing_data(data_2002['COLE_MCPIO_UBICACION']))"
   ]
  },
  {
   "cell_type": "code",
   "execution_count": null,
   "metadata": {
    "collapsed": false,
    "scrolled": true
   },
   "outputs": [],
   "source": [
    "print(data_2002['ESTU_RESIDE_DEPTO'].value_counts().sort_index().index)\n",
    "print(data_2002['ESTU_RESIDE_DEPTO'].value_counts().sort_index())\n",
    "print(missing_data(data_2002['ESTU_RESIDE_DEPTO']))"
   ]
  },
  {
   "cell_type": "code",
   "execution_count": null,
   "metadata": {
    "collapsed": false,
    "scrolled": true
   },
   "outputs": [],
   "source": [
    "print(data_2002['ESTU_RESIDE_MCPIO'].value_counts().sort_index().index)\n",
    "print(data_2002['ESTU_RESIDE_MCPIO'].value_counts().sort_index())\n",
    "print(missing_data(data_2002['ESTU_RESIDE_MCPIO']))"
   ]
  },
  {
   "cell_type": "markdown",
   "metadata": {},
   "source": [
    "## TARGETS"
   ]
  },
  {
   "cell_type": "code",
   "execution_count": null,
   "metadata": {
    "collapsed": false,
    "scrolled": true
   },
   "outputs": [],
   "source": [
    "print(data_2002['PUNT_BIOLOGIA'].value_counts().sort_index().index)\n",
    "print(data_2002['PUNT_BIOLOGIA'].value_counts().sort_index())\n",
    "print(missing_data(data_2002['PUNT_BIOLOGIA']))"
   ]
  },
  {
   "cell_type": "code",
   "execution_count": null,
   "metadata": {
    "collapsed": false,
    "scrolled": true
   },
   "outputs": [],
   "source": [
    "print(data_2002['PUNT_MATEMATICAS'].value_counts().sort_index().index)\n",
    "print(data_2002['PUNT_MATEMATICAS'].value_counts().sort_index())\n",
    "print(missing_data(data_2002['PUNT_MATEMATICAS']))"
   ]
  },
  {
   "cell_type": "code",
   "execution_count": null,
   "metadata": {
    "collapsed": false,
    "scrolled": true
   },
   "outputs": [],
   "source": [
    "print(data_2002['PUNT_FILOSOFIA'].value_counts().sort_index().index)\n",
    "print(data_2002['PUNT_FILOSOFIA'].value_counts().sort_index())\n",
    "print(missing_data(data_2002['PUNT_FILOSOFIA']))"
   ]
  },
  {
   "cell_type": "code",
   "execution_count": null,
   "metadata": {
    "collapsed": false,
    "scrolled": true
   },
   "outputs": [],
   "source": [
    "print(data_2002['PUNT_FISICA'].value_counts().sort_index().index)\n",
    "print(data_2002['PUNT_FISICA'].value_counts().sort_index())\n",
    "print(missing_data(data_2002['PUNT_FISICA']))"
   ]
  },
  {
   "cell_type": "code",
   "execution_count": null,
   "metadata": {
    "collapsed": false,
    "scrolled": true
   },
   "outputs": [],
   "source": [
    "print(data_2002['PUNT_HISTORIA'].value_counts().sort_index().index)\n",
    "print(data_2002['PUNT_HISTORIA'].value_counts().sort_index())\n",
    "print(missing_data(data_2002['PUNT_HISTORIA']))"
   ]
  },
  {
   "cell_type": "code",
   "execution_count": null,
   "metadata": {
    "collapsed": false,
    "scrolled": true
   },
   "outputs": [],
   "source": [
    "print(data_2002['PUNT_QUIMICA'].value_counts().sort_index().index)\n",
    "print(data_2002['PUNT_QUIMICA'].value_counts().sort_index())\n",
    "print(missing_data(data_2002['PUNT_QUIMICA']))"
   ]
  },
  {
   "cell_type": "code",
   "execution_count": null,
   "metadata": {
    "collapsed": false,
    "scrolled": true
   },
   "outputs": [],
   "source": [
    "print(data_2002['PUNT_LENGUAJE'].value_counts().sort_index().index)\n",
    "print(data_2002['PUNT_LENGUAJE'].value_counts().sort_index())\n",
    "print(missing_data(data_2002['PUNT_LENGUAJE']))"
   ]
  },
  {
   "cell_type": "code",
   "execution_count": null,
   "metadata": {
    "collapsed": false,
    "scrolled": true
   },
   "outputs": [],
   "source": [
    "print(data_2002['PUNT_GEOGRAFIA'].value_counts().sort_index().index)\n",
    "print(data_2002['PUNT_GEOGRAFIA'].value_counts().sort_index())\n",
    "print(missing_data(data_2002['PUNT_GEOGRAFIA']))"
   ]
  },
  {
   "cell_type": "code",
   "execution_count": null,
   "metadata": {
    "collapsed": false
   },
   "outputs": [],
   "source": [
    "print(data_2002['COD_INTERDISCIPLINAR'].value_counts().sort_index().index)\n",
    "print(data_2002['COD_INTERDISCIPLINAR'].value_counts().sort_index())\n",
    "print(missing_data(data_2002['COD_INTERDISCIPLINAR']))"
   ]
  },
  {
   "cell_type": "code",
   "execution_count": null,
   "metadata": {
    "collapsed": false,
    "scrolled": true
   },
   "outputs": [],
   "source": [
    "print(data_2002['PUNT_INTERDISCIPLINAR'].value_counts().sort_index().index)\n",
    "print(data_2002['PUNT_INTERDISCIPLINAR'].value_counts().sort_index())\n",
    "print(missing_data(data_2002['PUNT_INTERDISCIPLINAR']))"
   ]
  },
  {
   "cell_type": "code",
   "execution_count": null,
   "metadata": {
    "collapsed": false
   },
   "outputs": [],
   "source": [
    "print(data_2002['COD_IDIOMA'].value_counts().sort_index().index)\n",
    "print(data_2002['COD_IDIOMA'].value_counts().sort_index())\n",
    "print(missing_data(data_2002['COD_IDIOMA']))"
   ]
  },
  {
   "cell_type": "code",
   "execution_count": null,
   "metadata": {
    "collapsed": false,
    "scrolled": true
   },
   "outputs": [],
   "source": [
    "print(data_2002['PUNT_IDIOMA'].value_counts().sort_index().index)\n",
    "print(data_2002['PUNT_IDIOMA'].value_counts().sort_index())\n",
    "print(missing_data(data_2002['PUNT_IDIOMA']))"
   ]
  },
  {
   "cell_type": "markdown",
   "metadata": {},
   "source": [
    "___"
   ]
  },
  {
   "cell_type": "markdown",
   "metadata": {},
   "source": [
    "## Treatment of the NaN Values"
   ]
  },
  {
   "cell_type": "code",
   "execution_count": null,
   "metadata": {
    "collapsed": false
   },
   "outputs": [],
   "source": [
    "Do_resamples(data_2002, 'IND_ANNO_TERMINO_BACHILLERATO', str)"
   ]
  },
  {
   "cell_type": "code",
   "execution_count": null,
   "metadata": {
    "collapsed": false
   },
   "outputs": [],
   "source": [
    "Do_resamples(data_2002, 'COLE_VALOR_PENSION', str)"
   ]
  },
  {
   "cell_type": "code",
   "execution_count": null,
   "metadata": {
    "collapsed": false
   },
   "outputs": [],
   "source": [
    "anno = data_2002[data_2002['ESTU_NACIMIENTO_ANNO'].isnull()].index\n",
    "data_2002 = data_2002.drop(anno)"
   ]
  },
  {
   "cell_type": "markdown",
   "metadata": {},
   "source": [
    "The columns about limitation will be erased because does not apport sufficient information.\n"
   ]
  },
  {
   "cell_type": "code",
   "execution_count": null,
   "metadata": {
    "collapsed": false
   },
   "outputs": [],
   "source": [
    "data_2002 = data_2002.drop(['ESTU_LIMITA_INVIDENTE', 'ESTU_LIMITA_SORDOINTERPRETE', 'ESTU_LIMITA_SORDONOINTERPRETE',\n",
    "                           'ESTU_LIMITA_MOTRIZ'], axis=1)"
   ]
  },
  {
   "cell_type": "code",
   "execution_count": null,
   "metadata": {
    "collapsed": false
   },
   "outputs": [],
   "source": [
    "Do_resamples(data_2002, 'ESTU_IES_COD_DESEADA', str)"
   ]
  },
  {
   "cell_type": "code",
   "execution_count": null,
   "metadata": {
    "collapsed": false
   },
   "outputs": [],
   "source": [
    "Do_resamples(data_2002, 'ESTU_RAZONINSTITUTO', str)"
   ]
  },
  {
   "cell_type": "code",
   "execution_count": null,
   "metadata": {
    "collapsed": false
   },
   "outputs": [],
   "source": [
    "Do_resamples(data_2002, 'ESTU_CARRDESEADA_COD', str)"
   ]
  },
  {
   "cell_type": "code",
   "execution_count": null,
   "metadata": {
    "collapsed": false
   },
   "outputs": [],
   "source": [
    "Do_resamples(data_2002, 'ESTU_CARRDESEADA_RAZON', str)"
   ]
  },
  {
   "cell_type": "code",
   "execution_count": null,
   "metadata": {
    "collapsed": false
   },
   "outputs": [],
   "source": [
    "Do_resamples(data_2002, 'FAMI_PERSONAS_HOGAR', str)"
   ]
  },
  {
   "cell_type": "code",
   "execution_count": null,
   "metadata": {
    "collapsed": false
   },
   "outputs": [],
   "source": [
    "Do_resamples(data_2002, 'FAMI_VIVIENDA_PROPIA', str)"
   ]
  },
  {
   "cell_type": "code",
   "execution_count": null,
   "metadata": {
    "collapsed": false
   },
   "outputs": [],
   "source": [
    "Do_resamples(data_2002, 'FAMI_DEUDA_VIVIENDA', str)"
   ]
  },
  {
   "cell_type": "code",
   "execution_count": null,
   "metadata": {
    "collapsed": false
   },
   "outputs": [],
   "source": [
    "Do_resamples(data_2002, 'FAMI_APORTANTES', str)"
   ]
  },
  {
   "cell_type": "code",
   "execution_count": null,
   "metadata": {
    "collapsed": false
   },
   "outputs": [],
   "source": [
    "Do_resamples(data_2002, 'FAMI_INGRESO_FMILIAR_MENSUAL', str)"
   ]
  },
  {
   "cell_type": "code",
   "execution_count": null,
   "metadata": {
    "collapsed": false
   },
   "outputs": [],
   "source": [
    "Do_resamples(data_2002, 'FAMI_LEE_ESCRIBE_PADRE', str)"
   ]
  },
  {
   "cell_type": "code",
   "execution_count": null,
   "metadata": {
    "collapsed": false
   },
   "outputs": [],
   "source": [
    "Do_resamples(data_2002, 'FAMI_LEE_ESCRIBE_MADRE', str)"
   ]
  },
  {
   "cell_type": "code",
   "execution_count": null,
   "metadata": {
    "collapsed": false
   },
   "outputs": [],
   "source": [
    "Do_resamples(data_2002, 'FAMI_EDUCA_PADRE', str)"
   ]
  },
  {
   "cell_type": "code",
   "execution_count": null,
   "metadata": {
    "collapsed": false
   },
   "outputs": [],
   "source": [
    "Do_resamples(data_2002, 'FAMI_EDUCA_MADRE', str)"
   ]
  },
  {
   "cell_type": "code",
   "execution_count": null,
   "metadata": {
    "collapsed": false
   },
   "outputs": [],
   "source": [
    "Do_resamples(data_2002, 'FAMI_OCUPA_PADRE', str)"
   ]
  },
  {
   "cell_type": "code",
   "execution_count": null,
   "metadata": {
    "collapsed": false
   },
   "outputs": [],
   "source": [
    "Do_resamples(data_2002, 'FAMI_OCUPA_MADRE', str)"
   ]
  },
  {
   "cell_type": "code",
   "execution_count": null,
   "metadata": {
    "collapsed": false
   },
   "outputs": [],
   "source": [
    "Do_resamples(data_2002, 'FAMI_NUM_HERMANOS', str)"
   ]
  },
  {
   "cell_type": "code",
   "execution_count": null,
   "metadata": {
    "collapsed": false
   },
   "outputs": [],
   "source": [
    "Do_resamples(data_2002, 'FAMI_NUM_HERMANOS_EDUSUPERIOR', str)"
   ]
  },
  {
   "cell_type": "code",
   "execution_count": null,
   "metadata": {
    "collapsed": false
   },
   "outputs": [],
   "source": [
    "Do_resamples(data_2002, 'FAMI_POSICION_HERMANOS', str)"
   ]
  },
  {
   "cell_type": "code",
   "execution_count": null,
   "metadata": {
    "collapsed": false
   },
   "outputs": [],
   "source": [
    "Do_resamples(data_2002, 'FAMI_SOST_PERSONAL', str)"
   ]
  },
  {
   "cell_type": "code",
   "execution_count": null,
   "metadata": {
    "collapsed": false
   },
   "outputs": [],
   "source": [
    "Do_resamples(data_2002, 'ESTU_TRABAJA', str)"
   ]
  },
  {
   "cell_type": "code",
   "execution_count": null,
   "metadata": {
    "collapsed": false
   },
   "outputs": [],
   "source": [
    "Do_resamples(data_2002, 'ESTU_ACT_PROX_ANNO', str)"
   ]
  },
  {
   "cell_type": "code",
   "execution_count": null,
   "metadata": {
    "collapsed": false,
    "scrolled": true
   },
   "outputs": [],
   "source": [
    "Do_resamples(data_2002, 'COLE_BILINGUE', float)"
   ]
  },
  {
   "cell_type": "markdown",
   "metadata": {},
   "source": [
    "Puntajes"
   ]
  },
  {
   "cell_type": "code",
   "execution_count": null,
   "metadata": {
    "collapsed": false
   },
   "outputs": [],
   "source": [
    "data_2002['PUNT_BIOLOGIA'].fillna(int(data_2002['PUNT_BIOLOGIA'].mean()), inplace=True)"
   ]
  },
  {
   "cell_type": "code",
   "execution_count": null,
   "metadata": {
    "collapsed": false
   },
   "outputs": [],
   "source": [
    "data_2002['PUNT_MATEMATICAS'].fillna(int(data_2002['PUNT_MATEMATICAS'].mean()), inplace=True)"
   ]
  },
  {
   "cell_type": "code",
   "execution_count": null,
   "metadata": {
    "collapsed": false
   },
   "outputs": [],
   "source": [
    "data_2002['PUNT_FILOSOFIA'].fillna(int(data_2002['PUNT_FILOSOFIA'].mean()), inplace=True)"
   ]
  },
  {
   "cell_type": "code",
   "execution_count": null,
   "metadata": {
    "collapsed": false
   },
   "outputs": [],
   "source": [
    "data_2002['PUNT_FISICA'].fillna(int(data_2002['PUNT_FISICA'].mean()), inplace=True)"
   ]
  },
  {
   "cell_type": "code",
   "execution_count": null,
   "metadata": {
    "collapsed": false
   },
   "outputs": [],
   "source": [
    "data_2002['PUNT_QUIMICA'].fillna(int(data_2002['PUNT_QUIMICA'].mean()), inplace=True)"
   ]
  },
  {
   "cell_type": "code",
   "execution_count": null,
   "metadata": {
    "collapsed": false
   },
   "outputs": [],
   "source": [
    "data_2002['PUNT_LENGUAJE'].fillna(int(data_2002['PUNT_LENGUAJE'].mean()), inplace=True)"
   ]
  },
  {
   "cell_type": "code",
   "execution_count": null,
   "metadata": {
    "collapsed": false
   },
   "outputs": [],
   "source": [
    "data_2002['PUNT_GEOGRAFIA'].fillna(int(data_2002['PUNT_GEOGRAFIA'].mean()), inplace=True)"
   ]
  },
  {
   "cell_type": "code",
   "execution_count": null,
   "metadata": {
    "collapsed": false
   },
   "outputs": [],
   "source": [
    "data_2002['PUNT_INTERDISCIPLINAR'].fillna(int(data_2002['PUNT_INTERDISCIPLINAR'].mean()), inplace=True)"
   ]
  },
  {
   "cell_type": "code",
   "execution_count": null,
   "metadata": {
    "collapsed": false
   },
   "outputs": [],
   "source": [
    "data_2002['PUNT_IDIOMA'].fillna(int(data_2002['PUNT_IDIOMA'].mean()), inplace=True)"
   ]
  },
  {
   "cell_type": "markdown",
   "metadata": {},
   "source": [
    "___"
   ]
  },
  {
   "cell_type": "markdown",
   "metadata": {},
   "source": [
    "___"
   ]
  },
  {
   "cell_type": "markdown",
   "metadata": {},
   "source": [
    "___"
   ]
  },
  {
   "cell_type": "markdown",
   "metadata": {},
   "source": [
    "# Now the file of 2002_2"
   ]
  },
  {
   "cell_type": "code",
   "execution_count": 2,
   "metadata": {
    "collapsed": false
   },
   "outputs": [
    {
     "name": "stderr",
     "output_type": "stream",
     "text": [
      "/usr/local/anaconda3/lib/python3.5/site-packages/IPython/core/interactiveshell.py:2723: DtypeWarning: Columns (1,4,5,12,13,14,15,16,17,19,20,21,22,23,27) have mixed types. Specify dtype option on import or set low_memory=False.\n",
      "  interactivity=interactivity, compiler=compiler, result=result)\n"
     ]
    }
   ],
   "source": [
    "data_2002_2 = pd.read_csv('../DatosFTPICFES/SABER11/SB11-BASES_DE_DATOS/SB11-20022-RGSTRO-CLFCCN-V1-0.txt', delimiter=\"|\",\n",
    "                         encoding = \"iso-8859-1\")"
   ]
  },
  {
   "cell_type": "code",
   "execution_count": 3,
   "metadata": {
    "collapsed": false
   },
   "outputs": [
    {
     "data": {
      "text/plain": [
       "(370306, 57)"
      ]
     },
     "execution_count": 3,
     "metadata": {},
     "output_type": "execute_result"
    }
   ],
   "source": [
    "data_2002_2.shape"
   ]
  },
  {
   "cell_type": "code",
   "execution_count": 4,
   "metadata": {
    "collapsed": false,
    "scrolled": true
   },
   "outputs": [
    {
     "data": {
      "text/html": [
       "<div>\n",
       "<table border=\"1\" class=\"dataframe\">\n",
       "  <thead>\n",
       "    <tr style=\"text-align: right;\">\n",
       "      <th></th>\n",
       "      <th>0</th>\n",
       "      <th>1</th>\n",
       "      <th>2</th>\n",
       "    </tr>\n",
       "  </thead>\n",
       "  <tbody>\n",
       "    <tr>\n",
       "      <th>ESTU_CONSECUTIVO</th>\n",
       "      <td>SB2002000001</td>\n",
       "      <td>SB2002000002</td>\n",
       "      <td>SB2002000003</td>\n",
       "    </tr>\n",
       "    <tr>\n",
       "      <th>COLE_COD_ICFES</th>\n",
       "      <td>12625</td>\n",
       "      <td>28522</td>\n",
       "      <td>12088</td>\n",
       "    </tr>\n",
       "    <tr>\n",
       "      <th>COLE_NOMBRE_SEDE</th>\n",
       "      <td>ESCUELA NORMAL DE VARONES</td>\n",
       "      <td>COLEGIO INTEGRADO JUAN ATALAYA</td>\n",
       "      <td>COLEGIO EL CARMEN TERESIANO</td>\n",
       "    </tr>\n",
       "    <tr>\n",
       "      <th>IND_ANNO_TERMINO_BACHILLERATO</th>\n",
       "      <td>2002</td>\n",
       "      <td>2002</td>\n",
       "      <td>2002</td>\n",
       "    </tr>\n",
       "    <tr>\n",
       "      <th>COLE_JORNADA</th>\n",
       "      <td>MAÑANA</td>\n",
       "      <td>MAÑANA</td>\n",
       "      <td>MAÑANA</td>\n",
       "    </tr>\n",
       "    <tr>\n",
       "      <th>COLE_VALOR_PENSION</th>\n",
       "      <td>8</td>\n",
       "      <td>8</td>\n",
       "      <td>6</td>\n",
       "    </tr>\n",
       "    <tr>\n",
       "      <th>ESTU_GENERO</th>\n",
       "      <td>M</td>\n",
       "      <td>F</td>\n",
       "      <td>F</td>\n",
       "    </tr>\n",
       "    <tr>\n",
       "      <th>ESTU_NACIMIENTO_DIA</th>\n",
       "      <td>4</td>\n",
       "      <td>22</td>\n",
       "      <td>19</td>\n",
       "    </tr>\n",
       "    <tr>\n",
       "      <th>ESTU_NACIMIENTO_MES</th>\n",
       "      <td>5</td>\n",
       "      <td>3</td>\n",
       "      <td>10</td>\n",
       "    </tr>\n",
       "    <tr>\n",
       "      <th>ESTU_NACIMIENTO_ANNO</th>\n",
       "      <td>1985</td>\n",
       "      <td>1984</td>\n",
       "      <td>1985</td>\n",
       "    </tr>\n",
       "    <tr>\n",
       "      <th>ESTU_DEPTO_PRESENTACION</th>\n",
       "      <td>NORTE SANTANDER</td>\n",
       "      <td>NORTE SANTANDER</td>\n",
       "      <td>NORTE SANTANDER</td>\n",
       "    </tr>\n",
       "    <tr>\n",
       "      <th>ESTU_MCPIO_PRESENTACION</th>\n",
       "      <td>PAMPLONA</td>\n",
       "      <td>CUCUTA</td>\n",
       "      <td>CUCUTA</td>\n",
       "    </tr>\n",
       "    <tr>\n",
       "      <th>ESTU_LIMITA_INVIDENTE</th>\n",
       "      <td>NaN</td>\n",
       "      <td>NaN</td>\n",
       "      <td>NaN</td>\n",
       "    </tr>\n",
       "    <tr>\n",
       "      <th>ESTU_LIMITA_SORDOINTERPRETE</th>\n",
       "      <td>NaN</td>\n",
       "      <td>NaN</td>\n",
       "      <td>NaN</td>\n",
       "    </tr>\n",
       "    <tr>\n",
       "      <th>ESTU_LIMITA_SORDONOINTERPRETE</th>\n",
       "      <td>NaN</td>\n",
       "      <td>NaN</td>\n",
       "      <td>NaN</td>\n",
       "    </tr>\n",
       "    <tr>\n",
       "      <th>ESTU_LIMITA_MOTRIZ</th>\n",
       "      <td>NaN</td>\n",
       "      <td>NaN</td>\n",
       "      <td>NaN</td>\n",
       "    </tr>\n",
       "    <tr>\n",
       "      <th>PUNT_BIOLOGIA</th>\n",
       "      <td>33</td>\n",
       "      <td>43</td>\n",
       "      <td>50</td>\n",
       "    </tr>\n",
       "    <tr>\n",
       "      <th>PUNT_MATEMATICAS</th>\n",
       "      <td>44</td>\n",
       "      <td>41</td>\n",
       "      <td>44</td>\n",
       "    </tr>\n",
       "    <tr>\n",
       "      <th>PUNT_FILOSOFIA</th>\n",
       "      <td>46</td>\n",
       "      <td>51</td>\n",
       "      <td>46</td>\n",
       "    </tr>\n",
       "    <tr>\n",
       "      <th>PUNT_FISICA</th>\n",
       "      <td>38</td>\n",
       "      <td>44</td>\n",
       "      <td>51</td>\n",
       "    </tr>\n",
       "    <tr>\n",
       "      <th>PUNT_HISTORIA</th>\n",
       "      <td>44</td>\n",
       "      <td>35</td>\n",
       "      <td>51</td>\n",
       "    </tr>\n",
       "    <tr>\n",
       "      <th>PUNT_QUIMICA</th>\n",
       "      <td>37</td>\n",
       "      <td>36</td>\n",
       "      <td>53</td>\n",
       "    </tr>\n",
       "    <tr>\n",
       "      <th>PUNT_LENGUAJE</th>\n",
       "      <td>36</td>\n",
       "      <td>48</td>\n",
       "      <td>56</td>\n",
       "    </tr>\n",
       "    <tr>\n",
       "      <th>PUNT_GEOGRAFIA</th>\n",
       "      <td>42</td>\n",
       "      <td>44</td>\n",
       "      <td>44</td>\n",
       "    </tr>\n",
       "    <tr>\n",
       "      <th>COD_INTERDISCIPLINAR</th>\n",
       "      <td>43</td>\n",
       "      <td>43</td>\n",
       "      <td>44</td>\n",
       "    </tr>\n",
       "    <tr>\n",
       "      <th>PUNT_INTERDISCIPLINAR</th>\n",
       "      <td>60</td>\n",
       "      <td>60</td>\n",
       "      <td>45</td>\n",
       "    </tr>\n",
       "    <tr>\n",
       "      <th>COD_IDIOMA</th>\n",
       "      <td>51</td>\n",
       "      <td>51</td>\n",
       "      <td>51</td>\n",
       "    </tr>\n",
       "    <tr>\n",
       "      <th>PUNT_IDIOMA</th>\n",
       "      <td>40</td>\n",
       "      <td>40</td>\n",
       "      <td>48</td>\n",
       "    </tr>\n",
       "    <tr>\n",
       "      <th>ESTU_IES_COD_DESEADA</th>\n",
       "      <td>1212</td>\n",
       "      <td>1717</td>\n",
       "      <td>1701</td>\n",
       "    </tr>\n",
       "    <tr>\n",
       "      <th>ESTU_RAZONINSTITUTO</th>\n",
       "      <td>7</td>\n",
       "      <td>6</td>\n",
       "      <td>2</td>\n",
       "    </tr>\n",
       "    <tr>\n",
       "      <th>ESTU_CARRDESEADA_COD</th>\n",
       "      <td>48114</td>\n",
       "      <td>43333</td>\n",
       "      <td>46203</td>\n",
       "    </tr>\n",
       "    <tr>\n",
       "      <th>ESTU_CARRDESEADA_RAZON</th>\n",
       "      <td>3</td>\n",
       "      <td>1</td>\n",
       "      <td>2</td>\n",
       "    </tr>\n",
       "    <tr>\n",
       "      <th>FAMI_PERSONAS_HOGAR</th>\n",
       "      <td>4</td>\n",
       "      <td>4</td>\n",
       "      <td>3</td>\n",
       "    </tr>\n",
       "    <tr>\n",
       "      <th>FAMI_VIVIENDA_PROPIA</th>\n",
       "      <td>S</td>\n",
       "      <td>S</td>\n",
       "      <td>S</td>\n",
       "    </tr>\n",
       "    <tr>\n",
       "      <th>FAMI_DEUDA_VIVIENDA</th>\n",
       "      <td>S</td>\n",
       "      <td>N</td>\n",
       "      <td>N</td>\n",
       "    </tr>\n",
       "    <tr>\n",
       "      <th>FAMI_APORTANTES</th>\n",
       "      <td>1</td>\n",
       "      <td>1</td>\n",
       "      <td>1</td>\n",
       "    </tr>\n",
       "    <tr>\n",
       "      <th>FAMI_INGRESO_FMILIAR_MENSUAL</th>\n",
       "      <td>0</td>\n",
       "      <td>0</td>\n",
       "      <td>2</td>\n",
       "    </tr>\n",
       "    <tr>\n",
       "      <th>FAMI_LEE_ESCRIBE_PADRE</th>\n",
       "      <td>S</td>\n",
       "      <td>N</td>\n",
       "      <td>S</td>\n",
       "    </tr>\n",
       "    <tr>\n",
       "      <th>FAMI_LEE_ESCRIBE_MADRE</th>\n",
       "      <td>S</td>\n",
       "      <td>S</td>\n",
       "      <td>S</td>\n",
       "    </tr>\n",
       "    <tr>\n",
       "      <th>FAMI_EDUCA_PADRE</th>\n",
       "      <td>5</td>\n",
       "      <td>1</td>\n",
       "      <td>6</td>\n",
       "    </tr>\n",
       "    <tr>\n",
       "      <th>FAMI_EDUCA_MADRE</th>\n",
       "      <td>NaN</td>\n",
       "      <td>3</td>\n",
       "      <td>6</td>\n",
       "    </tr>\n",
       "    <tr>\n",
       "      <th>FAMI_OCUPA_PADRE</th>\n",
       "      <td>06</td>\n",
       "      <td>NaN</td>\n",
       "      <td>05</td>\n",
       "    </tr>\n",
       "    <tr>\n",
       "      <th>FAMI_OCUPA_MADRE</th>\n",
       "      <td>12</td>\n",
       "      <td>05</td>\n",
       "      <td>10</td>\n",
       "    </tr>\n",
       "    <tr>\n",
       "      <th>FAMI_NUM_HERMANOS</th>\n",
       "      <td>1</td>\n",
       "      <td>NaN</td>\n",
       "      <td>0</td>\n",
       "    </tr>\n",
       "    <tr>\n",
       "      <th>FAMI_NUM_HERMANOS_EDUSUPERIOR</th>\n",
       "      <td>0</td>\n",
       "      <td>0</td>\n",
       "      <td>0</td>\n",
       "    </tr>\n",
       "    <tr>\n",
       "      <th>FAMI_POSICION_HERMANOS</th>\n",
       "      <td>1</td>\n",
       "      <td>4</td>\n",
       "      <td>1</td>\n",
       "    </tr>\n",
       "    <tr>\n",
       "      <th>FAMI_SOST_PERSONAL</th>\n",
       "      <td>T</td>\n",
       "      <td>T</td>\n",
       "      <td>T</td>\n",
       "    </tr>\n",
       "    <tr>\n",
       "      <th>ESTU_TRABAJA</th>\n",
       "      <td>N</td>\n",
       "      <td>N</td>\n",
       "      <td>N</td>\n",
       "    </tr>\n",
       "    <tr>\n",
       "      <th>ESTU_ACT_PROX_ANNO</th>\n",
       "      <td>1</td>\n",
       "      <td>3</td>\n",
       "      <td>1</td>\n",
       "    </tr>\n",
       "    <tr>\n",
       "      <th>COLE_CALENDARIO</th>\n",
       "      <td>A</td>\n",
       "      <td>A</td>\n",
       "      <td>A</td>\n",
       "    </tr>\n",
       "    <tr>\n",
       "      <th>COLE_BILINGUE</th>\n",
       "      <td>NaN</td>\n",
       "      <td>NaN</td>\n",
       "      <td>NaN</td>\n",
       "    </tr>\n",
       "    <tr>\n",
       "      <th>COLE_CARACTER</th>\n",
       "      <td>NORMALISTA</td>\n",
       "      <td>ACADEMICO Y TECNICO</td>\n",
       "      <td>ACADEMICO</td>\n",
       "    </tr>\n",
       "    <tr>\n",
       "      <th>COLE_DEPTO_UBICACION</th>\n",
       "      <td>NORTE SANTANDER</td>\n",
       "      <td>NORTE SANTANDER</td>\n",
       "      <td>NORTE SANTANDER</td>\n",
       "    </tr>\n",
       "    <tr>\n",
       "      <th>COLE_MCPIO_UBICACION</th>\n",
       "      <td>PAMPLONA</td>\n",
       "      <td>CUCUTA</td>\n",
       "      <td>CUCUTA</td>\n",
       "    </tr>\n",
       "    <tr>\n",
       "      <th>ESTU_RESIDE_DEPTO</th>\n",
       "      <td>NORTE SANTANDER</td>\n",
       "      <td>NORTE SANTANDER</td>\n",
       "      <td>NORTE SANTANDER</td>\n",
       "    </tr>\n",
       "    <tr>\n",
       "      <th>ESTU_RESIDE_MCPIO</th>\n",
       "      <td>PAMPLONA</td>\n",
       "      <td>CUCUTA</td>\n",
       "      <td>CUCUTA</td>\n",
       "    </tr>\n",
       "    <tr>\n",
       "      <th>ESTU_TIPO_DOCUMENTO</th>\n",
       "      <td>T</td>\n",
       "      <td>R</td>\n",
       "      <td>T</td>\n",
       "    </tr>\n",
       "  </tbody>\n",
       "</table>\n",
       "</div>"
      ],
      "text/plain": [
       "                                                       0  \\\n",
       "ESTU_CONSECUTIVO                            SB2002000001   \n",
       "COLE_COD_ICFES                                     12625   \n",
       "COLE_NOMBRE_SEDE               ESCUELA NORMAL DE VARONES   \n",
       "IND_ANNO_TERMINO_BACHILLERATO                       2002   \n",
       "COLE_JORNADA                                      MAÑANA   \n",
       "COLE_VALOR_PENSION                                     8   \n",
       "ESTU_GENERO                                            M   \n",
       "ESTU_NACIMIENTO_DIA                                    4   \n",
       "ESTU_NACIMIENTO_MES                                    5   \n",
       "ESTU_NACIMIENTO_ANNO                                1985   \n",
       "ESTU_DEPTO_PRESENTACION                  NORTE SANTANDER   \n",
       "ESTU_MCPIO_PRESENTACION                         PAMPLONA   \n",
       "ESTU_LIMITA_INVIDENTE                                NaN   \n",
       "ESTU_LIMITA_SORDOINTERPRETE                          NaN   \n",
       "ESTU_LIMITA_SORDONOINTERPRETE                        NaN   \n",
       "ESTU_LIMITA_MOTRIZ                                   NaN   \n",
       "PUNT_BIOLOGIA                                         33   \n",
       "PUNT_MATEMATICAS                                      44   \n",
       "PUNT_FILOSOFIA                                        46   \n",
       "PUNT_FISICA                                           38   \n",
       "PUNT_HISTORIA                                         44   \n",
       "PUNT_QUIMICA                                          37   \n",
       "PUNT_LENGUAJE                                         36   \n",
       "PUNT_GEOGRAFIA                                        42   \n",
       "COD_INTERDISCIPLINAR                                  43   \n",
       "PUNT_INTERDISCIPLINAR                                 60   \n",
       "COD_IDIOMA                                            51   \n",
       "PUNT_IDIOMA                                           40   \n",
       "ESTU_IES_COD_DESEADA                                1212   \n",
       "ESTU_RAZONINSTITUTO                                    7   \n",
       "ESTU_CARRDESEADA_COD                               48114   \n",
       "ESTU_CARRDESEADA_RAZON                                 3   \n",
       "FAMI_PERSONAS_HOGAR                                    4   \n",
       "FAMI_VIVIENDA_PROPIA                                   S   \n",
       "FAMI_DEUDA_VIVIENDA                                    S   \n",
       "FAMI_APORTANTES                                        1   \n",
       "FAMI_INGRESO_FMILIAR_MENSUAL                           0   \n",
       "FAMI_LEE_ESCRIBE_PADRE                                 S   \n",
       "FAMI_LEE_ESCRIBE_MADRE                                 S   \n",
       "FAMI_EDUCA_PADRE                                       5   \n",
       "FAMI_EDUCA_MADRE                                     NaN   \n",
       "FAMI_OCUPA_PADRE                                      06   \n",
       "FAMI_OCUPA_MADRE                                      12   \n",
       "FAMI_NUM_HERMANOS                                      1   \n",
       "FAMI_NUM_HERMANOS_EDUSUPERIOR                          0   \n",
       "FAMI_POSICION_HERMANOS                                 1   \n",
       "FAMI_SOST_PERSONAL                                     T   \n",
       "ESTU_TRABAJA                                           N   \n",
       "ESTU_ACT_PROX_ANNO                                     1   \n",
       "COLE_CALENDARIO                                        A   \n",
       "COLE_BILINGUE                                        NaN   \n",
       "COLE_CARACTER                                 NORMALISTA   \n",
       "COLE_DEPTO_UBICACION                     NORTE SANTANDER   \n",
       "COLE_MCPIO_UBICACION                            PAMPLONA   \n",
       "ESTU_RESIDE_DEPTO                        NORTE SANTANDER   \n",
       "ESTU_RESIDE_MCPIO                               PAMPLONA   \n",
       "ESTU_TIPO_DOCUMENTO                                    T   \n",
       "\n",
       "                                                            1  \\\n",
       "ESTU_CONSECUTIVO                                 SB2002000002   \n",
       "COLE_COD_ICFES                                          28522   \n",
       "COLE_NOMBRE_SEDE               COLEGIO INTEGRADO JUAN ATALAYA   \n",
       "IND_ANNO_TERMINO_BACHILLERATO                            2002   \n",
       "COLE_JORNADA                                           MAÑANA   \n",
       "COLE_VALOR_PENSION                                          8   \n",
       "ESTU_GENERO                                                 F   \n",
       "ESTU_NACIMIENTO_DIA                                        22   \n",
       "ESTU_NACIMIENTO_MES                                         3   \n",
       "ESTU_NACIMIENTO_ANNO                                     1984   \n",
       "ESTU_DEPTO_PRESENTACION                       NORTE SANTANDER   \n",
       "ESTU_MCPIO_PRESENTACION                                CUCUTA   \n",
       "ESTU_LIMITA_INVIDENTE                                     NaN   \n",
       "ESTU_LIMITA_SORDOINTERPRETE                               NaN   \n",
       "ESTU_LIMITA_SORDONOINTERPRETE                             NaN   \n",
       "ESTU_LIMITA_MOTRIZ                                        NaN   \n",
       "PUNT_BIOLOGIA                                              43   \n",
       "PUNT_MATEMATICAS                                           41   \n",
       "PUNT_FILOSOFIA                                             51   \n",
       "PUNT_FISICA                                                44   \n",
       "PUNT_HISTORIA                                              35   \n",
       "PUNT_QUIMICA                                               36   \n",
       "PUNT_LENGUAJE                                              48   \n",
       "PUNT_GEOGRAFIA                                             44   \n",
       "COD_INTERDISCIPLINAR                                       43   \n",
       "PUNT_INTERDISCIPLINAR                                      60   \n",
       "COD_IDIOMA                                                 51   \n",
       "PUNT_IDIOMA                                                40   \n",
       "ESTU_IES_COD_DESEADA                                     1717   \n",
       "ESTU_RAZONINSTITUTO                                         6   \n",
       "ESTU_CARRDESEADA_COD                                    43333   \n",
       "ESTU_CARRDESEADA_RAZON                                      1   \n",
       "FAMI_PERSONAS_HOGAR                                         4   \n",
       "FAMI_VIVIENDA_PROPIA                                        S   \n",
       "FAMI_DEUDA_VIVIENDA                                         N   \n",
       "FAMI_APORTANTES                                             1   \n",
       "FAMI_INGRESO_FMILIAR_MENSUAL                                0   \n",
       "FAMI_LEE_ESCRIBE_PADRE                                      N   \n",
       "FAMI_LEE_ESCRIBE_MADRE                                      S   \n",
       "FAMI_EDUCA_PADRE                                            1   \n",
       "FAMI_EDUCA_MADRE                                            3   \n",
       "FAMI_OCUPA_PADRE                                          NaN   \n",
       "FAMI_OCUPA_MADRE                                           05   \n",
       "FAMI_NUM_HERMANOS                                         NaN   \n",
       "FAMI_NUM_HERMANOS_EDUSUPERIOR                               0   \n",
       "FAMI_POSICION_HERMANOS                                      4   \n",
       "FAMI_SOST_PERSONAL                                          T   \n",
       "ESTU_TRABAJA                                                N   \n",
       "ESTU_ACT_PROX_ANNO                                          3   \n",
       "COLE_CALENDARIO                                             A   \n",
       "COLE_BILINGUE                                             NaN   \n",
       "COLE_CARACTER                             ACADEMICO Y TECNICO   \n",
       "COLE_DEPTO_UBICACION                          NORTE SANTANDER   \n",
       "COLE_MCPIO_UBICACION                                   CUCUTA   \n",
       "ESTU_RESIDE_DEPTO                             NORTE SANTANDER   \n",
       "ESTU_RESIDE_MCPIO                                      CUCUTA   \n",
       "ESTU_TIPO_DOCUMENTO                                         R   \n",
       "\n",
       "                                                         2  \n",
       "ESTU_CONSECUTIVO                              SB2002000003  \n",
       "COLE_COD_ICFES                                       12088  \n",
       "COLE_NOMBRE_SEDE               COLEGIO EL CARMEN TERESIANO  \n",
       "IND_ANNO_TERMINO_BACHILLERATO                         2002  \n",
       "COLE_JORNADA                                        MAÑANA  \n",
       "COLE_VALOR_PENSION                                       6  \n",
       "ESTU_GENERO                                              F  \n",
       "ESTU_NACIMIENTO_DIA                                     19  \n",
       "ESTU_NACIMIENTO_MES                                     10  \n",
       "ESTU_NACIMIENTO_ANNO                                  1985  \n",
       "ESTU_DEPTO_PRESENTACION                    NORTE SANTANDER  \n",
       "ESTU_MCPIO_PRESENTACION                             CUCUTA  \n",
       "ESTU_LIMITA_INVIDENTE                                  NaN  \n",
       "ESTU_LIMITA_SORDOINTERPRETE                            NaN  \n",
       "ESTU_LIMITA_SORDONOINTERPRETE                          NaN  \n",
       "ESTU_LIMITA_MOTRIZ                                     NaN  \n",
       "PUNT_BIOLOGIA                                           50  \n",
       "PUNT_MATEMATICAS                                        44  \n",
       "PUNT_FILOSOFIA                                          46  \n",
       "PUNT_FISICA                                             51  \n",
       "PUNT_HISTORIA                                           51  \n",
       "PUNT_QUIMICA                                            53  \n",
       "PUNT_LENGUAJE                                           56  \n",
       "PUNT_GEOGRAFIA                                          44  \n",
       "COD_INTERDISCIPLINAR                                    44  \n",
       "PUNT_INTERDISCIPLINAR                                   45  \n",
       "COD_IDIOMA                                              51  \n",
       "PUNT_IDIOMA                                             48  \n",
       "ESTU_IES_COD_DESEADA                                  1701  \n",
       "ESTU_RAZONINSTITUTO                                      2  \n",
       "ESTU_CARRDESEADA_COD                                 46203  \n",
       "ESTU_CARRDESEADA_RAZON                                   2  \n",
       "FAMI_PERSONAS_HOGAR                                      3  \n",
       "FAMI_VIVIENDA_PROPIA                                     S  \n",
       "FAMI_DEUDA_VIVIENDA                                      N  \n",
       "FAMI_APORTANTES                                          1  \n",
       "FAMI_INGRESO_FMILIAR_MENSUAL                             2  \n",
       "FAMI_LEE_ESCRIBE_PADRE                                   S  \n",
       "FAMI_LEE_ESCRIBE_MADRE                                   S  \n",
       "FAMI_EDUCA_PADRE                                         6  \n",
       "FAMI_EDUCA_MADRE                                         6  \n",
       "FAMI_OCUPA_PADRE                                        05  \n",
       "FAMI_OCUPA_MADRE                                        10  \n",
       "FAMI_NUM_HERMANOS                                        0  \n",
       "FAMI_NUM_HERMANOS_EDUSUPERIOR                            0  \n",
       "FAMI_POSICION_HERMANOS                                   1  \n",
       "FAMI_SOST_PERSONAL                                       T  \n",
       "ESTU_TRABAJA                                             N  \n",
       "ESTU_ACT_PROX_ANNO                                       1  \n",
       "COLE_CALENDARIO                                          A  \n",
       "COLE_BILINGUE                                          NaN  \n",
       "COLE_CARACTER                                    ACADEMICO  \n",
       "COLE_DEPTO_UBICACION                       NORTE SANTANDER  \n",
       "COLE_MCPIO_UBICACION                                CUCUTA  \n",
       "ESTU_RESIDE_DEPTO                          NORTE SANTANDER  \n",
       "ESTU_RESIDE_MCPIO                                   CUCUTA  \n",
       "ESTU_TIPO_DOCUMENTO                                      T  "
      ]
     },
     "execution_count": 4,
     "metadata": {},
     "output_type": "execute_result"
    }
   ],
   "source": [
    "data_2002_2.head(3).T"
   ]
  },
  {
   "cell_type": "markdown",
   "metadata": {},
   "source": [
    "The first thing is delete the columns that will not contribute to the work"
   ]
  },
  {
   "cell_type": "code",
   "execution_count": 5,
   "metadata": {
    "collapsed": true
   },
   "outputs": [],
   "source": [
    "data_2002_2 = data_2002_2.drop(['ESTU_CONSECUTIVO', 'COLE_NOMBRE_SEDE', 'ESTU_TIPO_DOCUMENTO'], axis=1)"
   ]
  },
  {
   "cell_type": "code",
   "execution_count": 6,
   "metadata": {
    "collapsed": false,
    "scrolled": true
   },
   "outputs": [
    {
     "name": "stdout",
     "output_type": "stream",
     "text": [
      "Index([      59,      786,    98285,    11015,    67652,    14324,     3053,\n",
      "           3699, '000265',    67454,\n",
      "       ...\n",
      "       '079172', '07* 98', '005797', '015875',  '06*26', '077271', '064410',\n",
      "          '112', '008573', '045286'],\n",
      "      dtype='object', length=14563)\n",
      "59        1030\n",
      "786        601\n",
      "98285      491\n",
      "11015      467\n",
      "67652      454\n",
      "14324      424\n",
      "3053       399\n",
      "3699       392\n",
      "000265     388\n",
      "67454      382\n",
      "1412       361\n",
      "28696      356\n",
      "23366      350\n",
      "12211      347\n",
      "12955      336\n",
      "14399      328\n",
      "26138      322\n",
      "19893      317\n",
      "4283       311\n",
      "012963     301\n",
      "37093      297\n",
      "27102      297\n",
      "1115       285\n",
      "23374      277\n",
      "14076      270\n",
      "4754       269\n",
      "24760      265\n",
      "98624      262\n",
      "8318       251\n",
      "25064      250\n",
      "          ... \n",
      "101352       1\n",
      "005389       1\n",
      "002432       1\n",
      "034426       1\n",
      "010357       1\n",
      "800714       1\n",
      "086922       1\n",
      "071233       1\n",
      "6315         1\n",
      "072211       1\n",
      "07125        1\n",
      "030304       1\n",
      "016030       1\n",
      "038851       1\n",
      "529          1\n",
      "005868       1\n",
      "090019       1\n",
      "85332        1\n",
      "0 4          1\n",
      "001974       1\n",
      "079172       1\n",
      "07* 98       1\n",
      "005797       1\n",
      "015875       1\n",
      "06*26        1\n",
      "077271       1\n",
      "064410       1\n",
      "112          1\n",
      "008573       1\n",
      "045286       1\n",
      "Name: COLE_COD_ICFES, dtype: int64\n",
      "Elementos null/NaN 11631\n",
      "__________________\n",
      "Elementos diferentes de null/NaN: 358675\n",
      "__________________\n",
      "(358675,)\n",
      "None\n"
     ]
    }
   ],
   "source": [
    "print(data_2002_2['COLE_COD_ICFES'].value_counts().index)\n",
    "print(data_2002_2['COLE_COD_ICFES'].value_counts())\n",
    "print(missing_data(data_2002_2['COLE_COD_ICFES']))"
   ]
  },
  {
   "cell_type": "code",
   "execution_count": 7,
   "metadata": {
    "collapsed": false
   },
   "outputs": [],
   "source": [
    "data_2002_2['COLE_COD_ICFES'] = data_2002_2['COLE_COD_ICFES'].replace('0LL908', np.nan)\n",
    "for i in data_2002_2['COLE_COD_ICFES'].value_counts().index:\n",
    "    if type(i) == int:\n",
    "        data_2002_2['COLE_COD_ICFES'] = data_2002_2['COLE_COD_ICFES'].replace(i, str(i))\n",
    "\n",
    "for i in data_2002_2['COLE_COD_ICFES'].value_counts().index:\n",
    "    if '*' in i:\n",
    "        data_2002_2['COLE_COD_ICFES'] = data_2002_2['COLE_COD_ICFES'].replace(i, np.nan)\n",
    "    elif ' ' in i:\n",
    "        data_2002_2['COLE_COD_ICFES'] = data_2002_2['COLE_COD_ICFES'].replace(i, np.nan)\n",
    "    elif int(i)==0:\n",
    "        data_2002_2['COLE_COD_ICFES'] = data_2002_2['COLE_COD_ICFES'].replace(i, '0')"
   ]
  },
  {
   "cell_type": "code",
   "execution_count": 8,
   "metadata": {
    "collapsed": false,
    "scrolled": true
   },
   "outputs": [
    {
     "name": "stdout",
     "output_type": "stream",
     "text": [
      "Float64Index([ 199.0, 1903.0, 1904.0, 1906.0, 1907.0, 1908.0, 1909.0, 1924.0,\n",
      "              1928.0, 1934.0, 1955.0, 1956.0, 1957.0, 1958.0, 1959.0, 1960.0,\n",
      "              1961.0, 1962.0, 1963.0, 1964.0, 1966.0, 1967.0, 1968.0, 1969.0,\n",
      "              1970.0, 1971.0, 1972.0, 1973.0, 1974.0, 1975.0, 1976.0, 1977.0,\n",
      "              1978.0, 1979.0, 1980.0, 1981.0, 1982.0, 1983.0, 1984.0, 1985.0,\n",
      "              1986.0, 1987.0, 1988.0, 1989.0, 1990.0, 1991.0, 1992.0, 1993.0,\n",
      "              1994.0, 1995.0, 1996.0, 1997.0, 1998.0, 1999.0, 2000.0, 2001.0,\n",
      "              2002.0],\n",
      "             dtype='float64')\n",
      "199.0         10\n",
      "1903.0         1\n",
      "1904.0         1\n",
      "1906.0         2\n",
      "1907.0         4\n",
      "1908.0         3\n",
      "1909.0         1\n",
      "1924.0         1\n",
      "1928.0         1\n",
      "1934.0         1\n",
      "1955.0         1\n",
      "1956.0         1\n",
      "1957.0         2\n",
      "1958.0         1\n",
      "1959.0         3\n",
      "1960.0         1\n",
      "1961.0         3\n",
      "1962.0         5\n",
      "1963.0         1\n",
      "1964.0         4\n",
      "1966.0         5\n",
      "1967.0         7\n",
      "1968.0         8\n",
      "1969.0        12\n",
      "1970.0        12\n",
      "1971.0        15\n",
      "1972.0        24\n",
      "1973.0        18\n",
      "1974.0        31\n",
      "1975.0        38\n",
      "1976.0        53\n",
      "1977.0        53\n",
      "1978.0        92\n",
      "1979.0        87\n",
      "1980.0       100\n",
      "1981.0        78\n",
      "1982.0        80\n",
      "1983.0        80\n",
      "1984.0        84\n",
      "1985.0       113\n",
      "1986.0       117\n",
      "1987.0       138\n",
      "1988.0       153\n",
      "1989.0       176\n",
      "1990.0       204\n",
      "1991.0       248\n",
      "1992.0       342\n",
      "1993.0       429\n",
      "1994.0       556\n",
      "1995.0       745\n",
      "1996.0      1237\n",
      "1997.0      1845\n",
      "1998.0      2941\n",
      "1999.0      3926\n",
      "2000.0      5143\n",
      "2001.0     12438\n",
      "2002.0    338231\n",
      "Name: IND_ANNO_TERMINO_BACHILLERATO, dtype: int64\n",
      "Elementos null/NaN 400\n",
      "__________________\n",
      "Elementos diferentes de null/NaN: 369906\n",
      "__________________\n",
      "(369906,)\n",
      "None\n"
     ]
    }
   ],
   "source": [
    "print(data_2002_2['IND_ANNO_TERMINO_BACHILLERATO'].value_counts().sort_index().index)\n",
    "print(data_2002_2['IND_ANNO_TERMINO_BACHILLERATO'].value_counts().sort_index())\n",
    "print(missing_data(data_2002_2['IND_ANNO_TERMINO_BACHILLERATO']))"
   ]
  },
  {
   "cell_type": "code",
   "execution_count": 9,
   "metadata": {
    "collapsed": true
   },
   "outputs": [],
   "source": [
    "data_2002_2['IND_ANNO_TERMINO_BACHILLERATO'] = data_2002_2['IND_ANNO_TERMINO_BACHILLERATO'].replace(199.0, np.nan)"
   ]
  },
  {
   "cell_type": "code",
   "execution_count": 10,
   "metadata": {
    "collapsed": false,
    "scrolled": true
   },
   "outputs": [
    {
     "name": "stdout",
     "output_type": "stream",
     "text": [
      "Index(['COMPLETA U ORDINARIA', 'MAÑANA', 'NOCHE', 'SABATINA-DOMINICAL',\n",
      "       'TARDE'],\n",
      "      dtype='object')\n",
      "COMPLETA U ORDINARIA     80315\n",
      "MAÑANA                  142316\n",
      "NOCHE                    31014\n",
      "SABATINA-DOMINICAL        1343\n",
      "TARDE                    72211\n",
      "Name: COLE_JORNADA, dtype: int64\n",
      "Elementos null/NaN 43107\n",
      "__________________\n",
      "Elementos diferentes de null/NaN: 327199\n",
      "__________________\n",
      "(327199,)\n",
      "None\n"
     ]
    }
   ],
   "source": [
    "print(data_2002_2['COLE_JORNADA'].value_counts().sort_index().index)\n",
    "print(data_2002_2['COLE_JORNADA'].value_counts().sort_index())\n",
    "print(missing_data(data_2002_2['COLE_JORNADA']))"
   ]
  },
  {
   "cell_type": "code",
   "execution_count": 11,
   "metadata": {
    "collapsed": false,
    "scrolled": true
   },
   "outputs": [
    {
     "name": "stdout",
     "output_type": "stream",
     "text": [
      "Index(['1', '8', 8.0, 1.0, '2', '4', '3', '5', '6', 2.0, '7', 3.0, 4.0, 5.0,\n",
      "       6.0, 7.0, '*', '@'],\n",
      "      dtype='object')\n",
      "1      94383\n",
      "8      92808\n",
      "8.0    27989\n",
      "1.0    25566\n",
      "2      22914\n",
      "4      17869\n",
      "3      17019\n",
      "5      14446\n",
      "6      11734\n",
      "2.0     7791\n",
      "7       4853\n",
      "3.0     4484\n",
      "4.0     3338\n",
      "5.0     2965\n",
      "6.0     1873\n",
      "7.0      881\n",
      "*         34\n",
      "@          2\n",
      "Name: COLE_VALOR_PENSION, dtype: int64\n",
      "Elementos null/NaN 19357\n",
      "__________________\n",
      "Elementos diferentes de null/NaN: 350949\n",
      "__________________\n",
      "(350949,)\n",
      "None\n"
     ]
    }
   ],
   "source": [
    "print(data_2002_2['COLE_VALOR_PENSION'].value_counts().index)\n",
    "print(data_2002_2['COLE_VALOR_PENSION'].value_counts())\n",
    "print(missing_data(data_2002_2['COLE_VALOR_PENSION']))"
   ]
  },
  {
   "cell_type": "code",
   "execution_count": 12,
   "metadata": {
    "collapsed": true
   },
   "outputs": [],
   "source": [
    "for i in data_2002_2['COLE_VALOR_PENSION'].value_counts().index:\n",
    "    if type(i) != str:\n",
    "        data_2002_2['COLE_VALOR_PENSION'] = data_2002_2['COLE_VALOR_PENSION'].replace(i, str(i)[:-2])\n",
    "\n",
    "data_2002_2['COLE_VALOR_PENSION'] = data_2002_2['COLE_VALOR_PENSION'].replace('*', np.nan)\n",
    "data_2002_2['COLE_VALOR_PENSION'] = data_2002_2['COLE_VALOR_PENSION'].replace('@', np.nan)"
   ]
  },
  {
   "cell_type": "code",
   "execution_count": 13,
   "metadata": {
    "collapsed": false,
    "scrolled": true
   },
   "outputs": [
    {
     "name": "stdout",
     "output_type": "stream",
     "text": [
      "Index(['F', 'M', 'm'], dtype='object')\n",
      "F    198509\n",
      "M    171796\n",
      "m         1\n",
      "Name: ESTU_GENERO, dtype: int64\n",
      "Elementos null/NaN 0\n",
      "__________________\n",
      "Elementos diferentes de null/NaN: 370306\n",
      "__________________\n",
      "(370306,)\n",
      "None\n"
     ]
    }
   ],
   "source": [
    "print(data_2002_2['ESTU_GENERO'].value_counts().sort_index().index)\n",
    "print(data_2002_2['ESTU_GENERO'].value_counts().sort_index())\n",
    "print(missing_data(data_2002_2['ESTU_GENERO']))"
   ]
  },
  {
   "cell_type": "code",
   "execution_count": 14,
   "metadata": {
    "collapsed": true
   },
   "outputs": [],
   "source": [
    "data_2002_2['ESTU_GENERO'] = data_2002_2['ESTU_GENERO'].replace('m', 'M')"
   ]
  },
  {
   "cell_type": "code",
   "execution_count": 15,
   "metadata": {
    "collapsed": false,
    "scrolled": true
   },
   "outputs": [
    {
     "name": "stdout",
     "output_type": "stream",
     "text": [
      "Float64Index([ 1.0,  2.0,  3.0,  4.0,  5.0,  6.0,  7.0,  8.0,  9.0, 10.0, 11.0,\n",
      "              12.0, 13.0, 14.0, 15.0, 16.0, 17.0, 18.0, 19.0, 20.0, 21.0, 22.0,\n",
      "              23.0, 24.0, 25.0, 26.0, 27.0, 28.0, 29.0, 30.0, 31.0],\n",
      "             dtype='float64')\n",
      "1.0     14136\n",
      "2.0     12076\n",
      "3.0     12329\n",
      "4.0     12247\n",
      "5.0     12488\n",
      "6.0     12264\n",
      "7.0     12217\n",
      "8.0     12307\n",
      "9.0     11757\n",
      "10.0    12449\n",
      "11.0    12676\n",
      "12.0    12236\n",
      "13.0    11745\n",
      "14.0    11841\n",
      "15.0    12485\n",
      "16.0    12109\n",
      "17.0    11913\n",
      "18.0    11964\n",
      "19.0    11879\n",
      "20.0    12374\n",
      "21.0    11736\n",
      "22.0    12145\n",
      "23.0    12071\n",
      "24.0    12007\n",
      "25.0    12191\n",
      "26.0    12031\n",
      "27.0    11660\n",
      "28.0    12357\n",
      "29.0    11003\n",
      "30.0    10978\n",
      "31.0     6583\n",
      "Name: ESTU_NACIMIENTO_DIA, dtype: int64\n",
      "Elementos null/NaN 52\n",
      "__________________\n",
      "Elementos diferentes de null/NaN: 370254\n",
      "__________________\n",
      "(370254,)\n",
      "None\n"
     ]
    }
   ],
   "source": [
    "print(data_2002_2['ESTU_NACIMIENTO_DIA'].value_counts().sort_index().index)\n",
    "print(data_2002_2['ESTU_NACIMIENTO_DIA'].value_counts().sort_index())\n",
    "print(missing_data(data_2002_2['ESTU_NACIMIENTO_DIA']))"
   ]
  },
  {
   "cell_type": "code",
   "execution_count": 16,
   "metadata": {
    "collapsed": false,
    "scrolled": true
   },
   "outputs": [
    {
     "name": "stdout",
     "output_type": "stream",
     "text": [
      "Float64Index([1.0, 2.0, 3.0, 4.0, 5.0, 6.0, 7.0, 8.0, 9.0, 10.0, 11.0, 12.0], dtype='float64')\n",
      "1.0     32027\n",
      "2.0     27587\n",
      "3.0     30915\n",
      "4.0     29520\n",
      "5.0     30340\n",
      "6.0     29530\n",
      "7.0     30597\n",
      "8.0     30997\n",
      "9.0     32915\n",
      "10.0    32733\n",
      "11.0    31351\n",
      "12.0    31742\n",
      "Name: ESTU_NACIMIENTO_MES, dtype: int64\n",
      "Elementos null/NaN 52\n",
      "__________________\n",
      "Elementos diferentes de null/NaN: 370254\n",
      "__________________\n",
      "(370254,)\n",
      "None\n"
     ]
    }
   ],
   "source": [
    "print(data_2002_2['ESTU_NACIMIENTO_MES'].value_counts().sort_index().index)\n",
    "print(data_2002_2['ESTU_NACIMIENTO_MES'].value_counts().sort_index())\n",
    "print(missing_data(data_2002_2['ESTU_NACIMIENTO_MES']))"
   ]
  },
  {
   "cell_type": "code",
   "execution_count": 17,
   "metadata": {
    "collapsed": false,
    "scrolled": true
   },
   "outputs": [
    {
     "name": "stdout",
     "output_type": "stream",
     "text": [
      "Float64Index([1921.0, 1930.0, 1935.0, 1937.0, 1938.0, 1939.0, 1940.0, 1941.0,\n",
      "              1942.0, 1943.0, 1944.0, 1945.0, 1946.0, 1947.0, 1948.0, 1949.0,\n",
      "              1950.0, 1951.0, 1952.0, 1953.0, 1954.0, 1955.0, 1956.0, 1957.0,\n",
      "              1958.0, 1959.0, 1960.0, 1961.0, 1962.0, 1963.0, 1964.0, 1965.0,\n",
      "              1966.0, 1967.0, 1968.0, 1969.0, 1970.0, 1971.0, 1972.0, 1973.0,\n",
      "              1974.0, 1975.0, 1976.0, 1977.0, 1978.0, 1979.0, 1980.0, 1981.0,\n",
      "              1982.0, 1983.0, 1984.0, 1985.0, 1986.0, 1987.0, 1988.0, 1989.0],\n",
      "             dtype='float64')\n",
      "1921.0         1\n",
      "1930.0         1\n",
      "1935.0         4\n",
      "1937.0         2\n",
      "1938.0         8\n",
      "1939.0         6\n",
      "1940.0        11\n",
      "1941.0         4\n",
      "1942.0        17\n",
      "1943.0        17\n",
      "1944.0        16\n",
      "1945.0        19\n",
      "1946.0        21\n",
      "1947.0        37\n",
      "1948.0        39\n",
      "1949.0        40\n",
      "1950.0        69\n",
      "1951.0        73\n",
      "1952.0        96\n",
      "1953.0       100\n",
      "1954.0       123\n",
      "1955.0       144\n",
      "1956.0       167\n",
      "1957.0       189\n",
      "1958.0       272\n",
      "1959.0       262\n",
      "1960.0       330\n",
      "1961.0       326\n",
      "1962.0       374\n",
      "1963.0       446\n",
      "1964.0       466\n",
      "1965.0       539\n",
      "1966.0       579\n",
      "1967.0       616\n",
      "1968.0       755\n",
      "1969.0       773\n",
      "1970.0       843\n",
      "1971.0       883\n",
      "1972.0      1079\n",
      "1973.0      1148\n",
      "1974.0      1407\n",
      "1975.0      1557\n",
      "1976.0      1832\n",
      "1977.0      2327\n",
      "1978.0      3230\n",
      "1979.0      4859\n",
      "1980.0      6998\n",
      "1981.0     10953\n",
      "1982.0     20231\n",
      "1983.0     38106\n",
      "1984.0     72668\n",
      "1985.0    118187\n",
      "1986.0     70432\n",
      "1987.0      5993\n",
      "1988.0       306\n",
      "1989.0        18\n",
      "Name: ESTU_NACIMIENTO_ANNO, dtype: int64\n",
      "Elementos null/NaN 307\n",
      "__________________\n",
      "Elementos diferentes de null/NaN: 369999\n",
      "__________________\n",
      "(369999,)\n",
      "None\n"
     ]
    }
   ],
   "source": [
    "print(data_2002_2['ESTU_NACIMIENTO_ANNO'].value_counts().sort_index().index)\n",
    "print(data_2002_2['ESTU_NACIMIENTO_ANNO'].value_counts().sort_index())\n",
    "print(missing_data(data_2002_2['ESTU_NACIMIENTO_ANNO']))"
   ]
  },
  {
   "cell_type": "code",
   "execution_count": 18,
   "metadata": {
    "collapsed": false,
    "scrolled": true
   },
   "outputs": [
    {
     "name": "stdout",
     "output_type": "stream",
     "text": [
      "Index(['AMAZONAS', 'ANTIOQUIA', 'ARAUCA', 'ATLANTICO', 'BOGOTA', 'BOLIVAR',\n",
      "       'BOYACA', 'CALDAS', 'CAQUETA', 'CASANARE', 'CAUCA', 'CESAR', 'CHOCO',\n",
      "       'CORDOBA', 'CUNDINAMARCA', 'GUAINIA', 'GUAVIARE', 'HUILA', 'LA GUAJIRA',\n",
      "       'MAGDALENA', 'META', 'NARIÑO', 'NORTE SANTANDER', 'PUTUMAYO', 'QUINDIO',\n",
      "       'RISARALDA', 'SAN ANDRES', 'SANTANDER', 'SUCRE', 'TOLIMA', 'VALLE',\n",
      "       'VAUPES', 'VICHADA'],\n",
      "      dtype='object')\n",
      "AMAZONAS             588\n",
      "ANTIOQUIA          50304\n",
      "ARAUCA              1534\n",
      "ATLANTICO          26314\n",
      "BOGOTA             78334\n",
      "BOLIVAR            17309\n",
      "BOYACA             15426\n",
      "CALDAS             10240\n",
      "CAQUETA             2575\n",
      "CASANARE            2247\n",
      "CAUCA               9218\n",
      "CESAR               7890\n",
      "CHOCO               3377\n",
      "CORDOBA            12776\n",
      "CUNDINAMARCA       21206\n",
      "GUAINIA              123\n",
      "GUAVIARE             339\n",
      "HUILA               8867\n",
      "LA GUAJIRA          4662\n",
      "MAGDALENA           9424\n",
      "META                6845\n",
      "NARIÑO              2563\n",
      "NORTE SANTANDER    12718\n",
      "PUTUMAYO            1720\n",
      "QUINDIO             5126\n",
      "RISARALDA           8306\n",
      "SAN ANDRES           696\n",
      "SANTANDER          21970\n",
      "SUCRE               7012\n",
      "TOLIMA             12750\n",
      "VALLE               7464\n",
      "VAUPES               158\n",
      "VICHADA              225\n",
      "Name: ESTU_DEPTO_PRESENTACION, dtype: int64\n",
      "Elementos null/NaN 0\n",
      "__________________\n",
      "Elementos diferentes de null/NaN: 370306\n",
      "__________________\n",
      "(370306,)\n",
      "None\n"
     ]
    }
   ],
   "source": [
    "print(data_2002_2['ESTU_DEPTO_PRESENTACION'].value_counts().sort_index().index)\n",
    "print(data_2002_2['ESTU_DEPTO_PRESENTACION'].value_counts().sort_index())\n",
    "print(missing_data(data_2002_2['ESTU_DEPTO_PRESENTACION']))"
   ]
  },
  {
   "cell_type": "code",
   "execution_count": 19,
   "metadata": {
    "collapsed": false,
    "scrolled": true
   },
   "outputs": [
    {
     "name": "stdout",
     "output_type": "stream",
     "text": [
      "Index(['ABEJORRAL', 'ABREGO', 'ACACIAS', 'ACANDI', 'ACHI', 'AGUACHICA',\n",
      "       'AGUADAS', 'AGUAZUL', 'AGUSTIN CODAZZI', 'AIPE',\n",
      "       ...\n",
      "       'VILLAVICENCIO', 'VILLETA', 'VIOTA', 'YARUMAL', 'YOLOMBO', 'YOPAL',\n",
      "       'YUMBO', 'ZAPATOCA', 'ZARAGOZA', 'ZIPAQUIRA'],\n",
      "      dtype='object', length=338)\n",
      "ABEJORRAL                  143\n",
      "ABREGO                      59\n",
      "ACACIAS                    719\n",
      "ACANDI                      67\n",
      "ACHI                       115\n",
      "AGUACHICA                 1015\n",
      "AGUADAS                    270\n",
      "AGUAZUL                    215\n",
      "AGUSTIN CODAZZI            400\n",
      "AIPE                       129\n",
      "AMAGA                      568\n",
      "AMALFI                     203\n",
      "ANDES                      494\n",
      "ANSERMA                    476\n",
      "ANTIOQUIA                  563\n",
      "APARTADO                  1168\n",
      "ARACATACA                  263\n",
      "ARAUCA                     669\n",
      "ARAUQUITA                  167\n",
      "ARBELAEZ                   158\n",
      "ARBOLEDAS                   52\n",
      "ARBOLETES                  295\n",
      "ARIGUANI (EL DIFICIL)      309\n",
      "ARJONA                     614\n",
      "ARMENIA                   3642\n",
      "ASTREA                      79\n",
      "AYAPEL                     201\n",
      "BAGADO                      83\n",
      "BAHIA SOLANO (MUTIS)       121\n",
      "BAJO BAUDO   (PIZARRO)      80\n",
      "                          ... \n",
      "TULUA                      414\n",
      "TUMACO                     162\n",
      "TUNJA                     4090\n",
      "TUQUERRES                   25\n",
      "TURBACO                    715\n",
      "TURBO                      599\n",
      "TURMEQUE                   105\n",
      "TUTA                       112\n",
      "UBATE                      839\n",
      "UNGUIA                      37\n",
      "URRAO                      264\n",
      "VALLEDUPAR                4812\n",
      "VELEZ                      366\n",
      "VENADILLO                  189\n",
      "VENTAQUEMADA               109\n",
      "VIGIA DEL FUERTE            11\n",
      "VILLA DE LEYVA             217\n",
      "VILLA DEL ROSARIO          638\n",
      "VILLAMARIA                 149\n",
      "VILLANUEVA                 698\n",
      "VILLAVICENCIO             4748\n",
      "VILLETA                    368\n",
      "VIOTA                       83\n",
      "YARUMAL                    635\n",
      "YOLOMBO                    268\n",
      "YOPAL                     1130\n",
      "YUMBO                       26\n",
      "ZAPATOCA                   111\n",
      "ZARAGOZA                   170\n",
      "ZIPAQUIRA                 1617\n",
      "Name: ESTU_MCPIO_PRESENTACION, dtype: int64\n",
      "Elementos null/NaN 0\n",
      "__________________\n",
      "Elementos diferentes de null/NaN: 370306\n",
      "__________________\n",
      "(370306,)\n",
      "None\n"
     ]
    }
   ],
   "source": [
    "print(data_2002_2['ESTU_MCPIO_PRESENTACION'].value_counts().sort_index().index)\n",
    "print(data_2002_2['ESTU_MCPIO_PRESENTACION'].value_counts().sort_index())\n",
    "print(missing_data(data_2002_2['ESTU_MCPIO_PRESENTACION']))"
   ]
  },
  {
   "cell_type": "code",
   "execution_count": 20,
   "metadata": {
    "collapsed": false,
    "scrolled": true
   },
   "outputs": [
    {
     "name": "stdout",
     "output_type": "stream",
     "text": [
      "Index(['I'], dtype='object')\n",
      "I    43\n",
      "Name: ESTU_LIMITA_INVIDENTE, dtype: int64\n",
      "Elementos null/NaN 370263\n",
      "__________________\n",
      "Elementos diferentes de null/NaN: 43\n",
      "__________________\n",
      "(43,)\n",
      "None\n"
     ]
    }
   ],
   "source": [
    "print(data_2002_2['ESTU_LIMITA_INVIDENTE'].value_counts().sort_index().index)\n",
    "print(data_2002_2['ESTU_LIMITA_INVIDENTE'].value_counts().sort_index())\n",
    "print(missing_data(data_2002_2['ESTU_LIMITA_INVIDENTE']))"
   ]
  },
  {
   "cell_type": "code",
   "execution_count": 21,
   "metadata": {
    "collapsed": false,
    "scrolled": true
   },
   "outputs": [
    {
     "name": "stdout",
     "output_type": "stream",
     "text": [
      "Index(['R'], dtype='object')\n",
      "R    63\n",
      "Name: ESTU_LIMITA_SORDOINTERPRETE, dtype: int64\n",
      "Elementos null/NaN 370243\n",
      "__________________\n",
      "Elementos diferentes de null/NaN: 63\n",
      "__________________\n",
      "(63,)\n",
      "None\n"
     ]
    }
   ],
   "source": [
    "print(data_2002_2['ESTU_LIMITA_SORDOINTERPRETE'].value_counts().sort_index().index)\n",
    "print(data_2002_2['ESTU_LIMITA_SORDOINTERPRETE'].value_counts().sort_index())\n",
    "print(missing_data(data_2002_2['ESTU_LIMITA_SORDOINTERPRETE']))"
   ]
  },
  {
   "cell_type": "code",
   "execution_count": 22,
   "metadata": {
    "collapsed": false,
    "scrolled": true
   },
   "outputs": [
    {
     "name": "stdout",
     "output_type": "stream",
     "text": [
      "Index(['S'], dtype='object')\n",
      "S    19\n",
      "Name: ESTU_LIMITA_SORDONOINTERPRETE, dtype: int64\n",
      "Elementos null/NaN 370287\n",
      "__________________\n",
      "Elementos diferentes de null/NaN: 19\n",
      "__________________\n",
      "(19,)\n",
      "None\n"
     ]
    }
   ],
   "source": [
    "print(data_2002_2['ESTU_LIMITA_SORDONOINTERPRETE'].value_counts().sort_index().index)\n",
    "print(data_2002_2['ESTU_LIMITA_SORDONOINTERPRETE'].value_counts().sort_index())\n",
    "print(missing_data(data_2002_2['ESTU_LIMITA_SORDONOINTERPRETE']))"
   ]
  },
  {
   "cell_type": "code",
   "execution_count": 23,
   "metadata": {
    "collapsed": false,
    "scrolled": true
   },
   "outputs": [
    {
     "name": "stdout",
     "output_type": "stream",
     "text": [
      "Index(['M'], dtype='object')\n",
      "M    75\n",
      "Name: ESTU_LIMITA_MOTRIZ, dtype: int64\n",
      "Elementos null/NaN 370231\n",
      "__________________\n",
      "Elementos diferentes de null/NaN: 75\n",
      "__________________\n",
      "(75,)\n",
      "None\n"
     ]
    }
   ],
   "source": [
    "print(data_2002_2['ESTU_LIMITA_MOTRIZ'].value_counts().sort_index().index)\n",
    "print(data_2002_2['ESTU_LIMITA_MOTRIZ'].value_counts().sort_index())\n",
    "print(missing_data(data_2002_2['ESTU_LIMITA_MOTRIZ']))"
   ]
  },
  {
   "cell_type": "code",
   "execution_count": 24,
   "metadata": {
    "collapsed": false,
    "scrolled": true
   },
   "outputs": [
    {
     "name": "stdout",
     "output_type": "stream",
     "text": [
      "Index(['*', '*  *', '* *', '* 01', '* 02', '* 09', '* 1', '* 10', '* 11',\n",
      "       '* 13',\n",
      "       ...\n",
      "       'U', 'U N', 'UIS', 'UPTC', 'USCO', 'casa', 'esap', 'inca', 'sena',\n",
      "       'usco'],\n",
      "      dtype='object', length=1785)\n",
      "*          23\n",
      "*  *        1\n",
      "* *        21\n",
      "* 01        4\n",
      "* 02        1\n",
      "* 09        1\n",
      "* 1         1\n",
      "* 10        2\n",
      "* 11        1\n",
      "* 13        1\n",
      "* 19        1\n",
      "* 2         3\n",
      "* 20        1\n",
      "* 21        1\n",
      "* 25        1\n",
      "* 31        2\n",
      "* 37        1\n",
      "* 4         1\n",
      "* 52        1\n",
      "* 6         1\n",
      "* 7         1\n",
      "* 8         1\n",
      "* 9         1\n",
      "**         39\n",
      "****       26\n",
      "***1        2\n",
      "***2        2\n",
      "**0*        2\n",
      "**01        1\n",
      "**03        1\n",
      "        ...  \n",
      "9410        1\n",
      "9414        1\n",
      "9450        1\n",
      "9501        1\n",
      "9505        2\n",
      "9515        1\n",
      "9647        1\n",
      "9811        1\n",
      "9838        1\n",
      "99         36\n",
      "99 9       10\n",
      "99*9        2\n",
      "9910        1\n",
      "999       163\n",
      "9999    21735\n",
      "ASAB        1\n",
      "EJC         1\n",
      "JAVE        1\n",
      "SENA        3\n",
      "Tade        1\n",
      "U           2\n",
      "U N         3\n",
      "UIS         1\n",
      "UPTC        2\n",
      "USCO        1\n",
      "casa        1\n",
      "esap        1\n",
      "inca        1\n",
      "sena        1\n",
      "usco        1\n",
      "Name: ESTU_IES_COD_DESEADA, dtype: int64\n",
      "Elementos null/NaN 33942\n",
      "__________________\n",
      "Elementos diferentes de null/NaN: 336364\n",
      "__________________\n",
      "(336364,)\n",
      "None\n"
     ]
    }
   ],
   "source": [
    "print(data_2002_2['ESTU_IES_COD_DESEADA'].value_counts().sort_index().index)\n",
    "print(data_2002_2['ESTU_IES_COD_DESEADA'].value_counts().sort_index())\n",
    "print(missing_data(data_2002_2['ESTU_IES_COD_DESEADA']))"
   ]
  },
  {
   "cell_type": "code",
   "execution_count": 25,
   "metadata": {
    "collapsed": false
   },
   "outputs": [],
   "source": [
    "l = ['ASAB', 'EJC', 'JAVE', 'SENA', 'Tade', 'U', 'UIS', 'UPTC', 'USCO', 'casa', 'esap', 'inca', 'sena', 'usco', '--']\n",
    "for i in l:\n",
    "    data_2002_2['ESTU_IES_COD_DESEADA'] = data_2002_2['ESTU_IES_COD_DESEADA'].replace(i, np.nan)\n",
    "\n",
    "for i in data_2002_2['ESTU_IES_COD_DESEADA'].value_counts().sort_index().index:\n",
    "    if '*' in i:\n",
    "        data_2002_2['ESTU_IES_COD_DESEADA'] = data_2002_2['ESTU_IES_COD_DESEADA'].replace(i, np.nan)\n",
    "    elif ' ' in i:\n",
    "        data_2002_2['ESTU_IES_COD_DESEADA'] = data_2002_2['ESTU_IES_COD_DESEADA'].replace(i, np.nan)\n",
    "    elif int(i) == 0:\n",
    "        data_2002_2['ESTU_IES_COD_DESEADA'] = data_2002_2['ESTU_IES_COD_DESEADA'].replace(i, np.nan)\n",
    "    elif int(i) < 1000:\n",
    "        data_2002_2['ESTU_IES_COD_DESEADA'] = data_2002_2['ESTU_IES_COD_DESEADA'].replace(i, np.nan)"
   ]
  },
  {
   "cell_type": "code",
   "execution_count": 26,
   "metadata": {
    "collapsed": false,
    "scrolled": true
   },
   "outputs": [
    {
     "name": "stdout",
     "output_type": "stream",
     "text": [
      "Index(['*', '1', '2', '3', '4', '5', '6', '7', '8', 'S'], dtype='object')\n",
      "*       116\n",
      "1      6255\n",
      "2    110096\n",
      "3     45523\n",
      "4     37998\n",
      "5     45369\n",
      "6     33188\n",
      "7     24612\n",
      "8     39738\n",
      "S      1087\n",
      "Name: ESTU_RAZONINSTITUTO, dtype: int64\n",
      "Elementos null/NaN 26324\n",
      "__________________\n",
      "Elementos diferentes de null/NaN: 343982\n",
      "__________________\n",
      "(343982,)\n",
      "None\n"
     ]
    }
   ],
   "source": [
    "print(data_2002_2['ESTU_RAZONINSTITUTO'].value_counts().sort_index().index)\n",
    "print(data_2002_2['ESTU_RAZONINSTITUTO'].value_counts().sort_index())\n",
    "print(missing_data(data_2002_2['ESTU_RAZONINSTITUTO']))"
   ]
  },
  {
   "cell_type": "code",
   "execution_count": 27,
   "metadata": {
    "collapsed": true
   },
   "outputs": [],
   "source": [
    "data_2002_2['ESTU_RAZONINSTITUTO'] = data_2002_2['ESTU_RAZONINSTITUTO'].replace('*', np.nan)\n",
    "data_2002_2['ESTU_RAZONINSTITUTO'] = data_2002_2['ESTU_RAZONINSTITUTO'].replace('S', np.nan)"
   ]
  },
  {
   "cell_type": "code",
   "execution_count": 28,
   "metadata": {
    "collapsed": false,
    "scrolled": true
   },
   "outputs": [
    {
     "name": "stdout",
     "output_type": "stream",
     "text": [
      "Index(['*', '*   *', '*  99', '* *', '* * 1', '* *0', '* *1', '* *4', '* *8',\n",
      "       '* 1',\n",
      "       ...\n",
      "       '99 99', '99101', '99102', '99110', '99113', '999', '999 9', '9999',\n",
      "       '9999*', '99999'],\n",
      "      dtype='object', length=5094)\n",
      "*           20\n",
      "*   *        3\n",
      "*  99        1\n",
      "* *         14\n",
      "* * 1        1\n",
      "* *0         1\n",
      "* *1         2\n",
      "* *4         2\n",
      "* *8         1\n",
      "* 1          1\n",
      "* 1*         2\n",
      "* 10         1\n",
      "* 103        1\n",
      "* 120        2\n",
      "* 128        1\n",
      "* 13         1\n",
      "* 141        1\n",
      "* 162        1\n",
      "* 174        1\n",
      "* 2*         1\n",
      "* 215        1\n",
      "* 290        1\n",
      "* 40         1\n",
      "* 404        1\n",
      "* 484        1\n",
      "* 520        1\n",
      "* 8 *        1\n",
      "* 81         1\n",
      "* 811        1\n",
      "* 9          1\n",
      "         ...  \n",
      "98109       10\n",
      "98113        1\n",
      "98114        3\n",
      "98115        2\n",
      "98117        1\n",
      "98118        1\n",
      "98119        8\n",
      "98124        2\n",
      "98152        1\n",
      "98188        1\n",
      "98201        1\n",
      "98212        1\n",
      "98222        1\n",
      "9825         1\n",
      "98257        1\n",
      "98258        1\n",
      "98999        1\n",
      "99          19\n",
      "99  9        4\n",
      "99 9         6\n",
      "99 99        9\n",
      "99101        1\n",
      "99102        1\n",
      "99110        1\n",
      "99113        1\n",
      "999         70\n",
      "999 9       10\n",
      "9999       273\n",
      "9999*        1\n",
      "99999    16648\n",
      "Name: ESTU_CARRDESEADA_COD, dtype: int64\n",
      "Elementos null/NaN 22017\n",
      "__________________\n",
      "Elementos diferentes de null/NaN: 348289\n",
      "__________________\n",
      "(348289,)\n",
      "None\n"
     ]
    }
   ],
   "source": [
    "print(data_2002_2['ESTU_CARRDESEADA_COD'].value_counts().sort_index().index)\n",
    "print(data_2002_2['ESTU_CARRDESEADA_COD'].value_counts().sort_index())\n",
    "print(missing_data(data_2002_2['ESTU_CARRDESEADA_COD']))"
   ]
  },
  {
   "cell_type": "code",
   "execution_count": 29,
   "metadata": {
    "collapsed": true
   },
   "outputs": [],
   "source": [
    "for i in data_2002_2['ESTU_CARRDESEADA_COD'].value_counts().sort_index().index:\n",
    "    if '*' in i:\n",
    "        data_2002_2['ESTU_CARRDESEADA_COD'] = data_2002_2['ESTU_CARRDESEADA_COD'].replace(i, np.nan)\n",
    "    elif ' ' in i:\n",
    "        data_2002_2['ESTU_CARRDESEADA_COD'] = data_2002_2['ESTU_CARRDESEADA_COD'].replace(i, np.nan)"
   ]
  },
  {
   "cell_type": "code",
   "execution_count": 30,
   "metadata": {
    "collapsed": false,
    "scrolled": true
   },
   "outputs": [
    {
     "name": "stdout",
     "output_type": "stream",
     "text": [
      "Index(['*', '1', '2', '3', '4', '5', '6', 'S'], dtype='object')\n",
      "*       132\n",
      "1    102670\n",
      "2    102239\n",
      "3     86730\n",
      "4     23263\n",
      "5     31814\n",
      "6      7728\n",
      "S       988\n",
      "Name: ESTU_CARRDESEADA_RAZON, dtype: int64\n",
      "Elementos null/NaN 14742\n",
      "__________________\n",
      "Elementos diferentes de null/NaN: 355564\n",
      "__________________\n",
      "(355564,)\n",
      "None\n"
     ]
    }
   ],
   "source": [
    "print(data_2002_2['ESTU_CARRDESEADA_RAZON'].value_counts().sort_index().index)\n",
    "print(data_2002_2['ESTU_CARRDESEADA_RAZON'].value_counts().sort_index())\n",
    "print(missing_data(data_2002_2['ESTU_CARRDESEADA_RAZON']))"
   ]
  },
  {
   "cell_type": "code",
   "execution_count": 31,
   "metadata": {
    "collapsed": true
   },
   "outputs": [],
   "source": [
    "data_2002_2['ESTU_CARRDESEADA_RAZON'] = data_2002_2['ESTU_CARRDESEADA_RAZON'].replace('*', np.nan)\n",
    "data_2002_2['ESTU_CARRDESEADA_RAZON'] = data_2002_2['ESTU_CARRDESEADA_RAZON'].replace('S', np.nan)"
   ]
  },
  {
   "cell_type": "code",
   "execution_count": 32,
   "metadata": {
    "collapsed": false,
    "scrolled": true
   },
   "outputs": [
    {
     "name": "stdout",
     "output_type": "stream",
     "text": [
      "Index(['*', '+', '1', '2', '3', '4', '5', '6', '7', '8', '9', '@'], dtype='object')\n",
      "*      409\n",
      "+    13984\n",
      "1     1069\n",
      "2    11740\n",
      "3    39043\n",
      "4    85533\n",
      "5    94391\n",
      "6    58916\n",
      "7    31702\n",
      "8    17245\n",
      "9     9879\n",
      "@       49\n",
      "Name: FAMI_PERSONAS_HOGAR, dtype: int64\n",
      "Elementos null/NaN 6346\n",
      "__________________\n",
      "Elementos diferentes de null/NaN: 363960\n",
      "__________________\n",
      "(363960,)\n",
      "None\n"
     ]
    }
   ],
   "source": [
    "print(data_2002_2['FAMI_PERSONAS_HOGAR'].value_counts().sort_index().index)\n",
    "print(data_2002_2['FAMI_PERSONAS_HOGAR'].value_counts().sort_index())\n",
    "print(missing_data(data_2002_2['FAMI_PERSONAS_HOGAR']))"
   ]
  },
  {
   "cell_type": "code",
   "execution_count": 33,
   "metadata": {
    "collapsed": true
   },
   "outputs": [],
   "source": [
    "data_2002_2['FAMI_PERSONAS_HOGAR'] = data_2002_2['FAMI_PERSONAS_HOGAR'].replace('*', np.nan)\n",
    "data_2002_2['FAMI_PERSONAS_HOGAR'] = data_2002_2['FAMI_PERSONAS_HOGAR'].replace('+', '+9')\n",
    "data_2002_2['FAMI_PERSONAS_HOGAR'] = data_2002_2['FAMI_PERSONAS_HOGAR'].replace('@', np.nan)"
   ]
  },
  {
   "cell_type": "code",
   "execution_count": 34,
   "metadata": {
    "collapsed": false,
    "scrolled": true
   },
   "outputs": [
    {
     "name": "stdout",
     "output_type": "stream",
     "text": [
      "Index(['*', 'N', 'S'], dtype='object')\n",
      "*        27\n",
      "N    105253\n",
      "S    256952\n",
      "Name: FAMI_VIVIENDA_PROPIA, dtype: int64\n",
      "Elementos null/NaN 8074\n",
      "__________________\n",
      "Elementos diferentes de null/NaN: 362232\n",
      "__________________\n",
      "(362232,)\n",
      "None\n"
     ]
    }
   ],
   "source": [
    "print(data_2002_2['FAMI_VIVIENDA_PROPIA'].value_counts().sort_index().index)\n",
    "print(data_2002_2['FAMI_VIVIENDA_PROPIA'].value_counts().sort_index())\n",
    "print(missing_data(data_2002_2['FAMI_VIVIENDA_PROPIA']))"
   ]
  },
  {
   "cell_type": "code",
   "execution_count": 35,
   "metadata": {
    "collapsed": true
   },
   "outputs": [],
   "source": [
    "data_2002_2['FAMI_VIVIENDA_PROPIA'] = data_2002_2['FAMI_VIVIENDA_PROPIA'].replace('*', np.nan)"
   ]
  },
  {
   "cell_type": "code",
   "execution_count": 36,
   "metadata": {
    "collapsed": false,
    "scrolled": true
   },
   "outputs": [
    {
     "name": "stdout",
     "output_type": "stream",
     "text": [
      "Index(['*', 'N', 'S'], dtype='object')\n",
      "*        13\n",
      "N    175865\n",
      "S     59381\n",
      "Name: FAMI_DEUDA_VIVIENDA, dtype: int64\n",
      "Elementos null/NaN 135047\n",
      "__________________\n",
      "Elementos diferentes de null/NaN: 235259\n",
      "__________________\n",
      "(235259,)\n",
      "None\n"
     ]
    }
   ],
   "source": [
    "print(data_2002_2['FAMI_DEUDA_VIVIENDA'].value_counts().sort_index().index)\n",
    "print(data_2002_2['FAMI_DEUDA_VIVIENDA'].value_counts().sort_index())\n",
    "print(missing_data(data_2002_2['FAMI_DEUDA_VIVIENDA']))"
   ]
  },
  {
   "cell_type": "code",
   "execution_count": 37,
   "metadata": {
    "collapsed": true
   },
   "outputs": [],
   "source": [
    "data_2002_2['FAMI_DEUDA_VIVIENDA'] = data_2002_2['FAMI_DEUDA_VIVIENDA'].replace('*', np.nan)"
   ]
  },
  {
   "cell_type": "code",
   "execution_count": 38,
   "metadata": {
    "collapsed": false,
    "scrolled": true
   },
   "outputs": [
    {
     "name": "stdout",
     "output_type": "stream",
     "text": [
      "Index(['*', '+', '0', '1', '2', '3', '4', '5', '6', '7', '8', '9', 'S'], dtype='object')\n",
      "*       459\n",
      "+       228\n",
      "0      1598\n",
      "1    188474\n",
      "2    138027\n",
      "3     25310\n",
      "4      7063\n",
      "5      1911\n",
      "6       584\n",
      "7       199\n",
      "8       112\n",
      "9        80\n",
      "S         1\n",
      "Name: FAMI_APORTANTES, dtype: int64\n",
      "Elementos null/NaN 6260\n",
      "__________________\n",
      "Elementos diferentes de null/NaN: 364046\n",
      "__________________\n",
      "(364046,)\n",
      "None\n"
     ]
    }
   ],
   "source": [
    "print(data_2002_2['FAMI_APORTANTES'].value_counts().sort_index().index)\n",
    "print(data_2002_2['FAMI_APORTANTES'].value_counts().sort_index())\n",
    "print(missing_data(data_2002_2['FAMI_APORTANTES']))"
   ]
  },
  {
   "cell_type": "code",
   "execution_count": 39,
   "metadata": {
    "collapsed": true
   },
   "outputs": [],
   "source": [
    "data_2002_2['FAMI_APORTANTES'] = data_2002_2['FAMI_APORTANTES'].replace('*', np.nan)\n",
    "data_2002_2['FAMI_APORTANTES'] = data_2002_2['FAMI_APORTANTES'].replace('+', '+9')\n",
    "data_2002_2['FAMI_APORTANTES'] = data_2002_2['FAMI_APORTANTES'].replace('S', np.nan)"
   ]
  },
  {
   "cell_type": "code",
   "execution_count": 40,
   "metadata": {
    "collapsed": false,
    "scrolled": true
   },
   "outputs": [
    {
     "name": "stdout",
     "output_type": "stream",
     "text": [
      "Index(['*', '0', '1', '2', '3', '4', '5', '6', '7', '8', '9'], dtype='object')\n",
      "*       163\n",
      "0     94628\n",
      "1    144217\n",
      "2     62745\n",
      "3     33532\n",
      "4     12240\n",
      "5      5282\n",
      "6      3246\n",
      "7      1686\n",
      "8      1194\n",
      "9      1991\n",
      "Name: FAMI_INGRESO_FMILIAR_MENSUAL, dtype: int64\n",
      "Elementos null/NaN 9382\n",
      "__________________\n",
      "Elementos diferentes de null/NaN: 360924\n",
      "__________________\n",
      "(360924,)\n",
      "None\n"
     ]
    }
   ],
   "source": [
    "print(data_2002_2['FAMI_INGRESO_FMILIAR_MENSUAL'].value_counts().sort_index().index)\n",
    "print(data_2002_2['FAMI_INGRESO_FMILIAR_MENSUAL'].value_counts().sort_index())\n",
    "print(missing_data(data_2002_2['FAMI_INGRESO_FMILIAR_MENSUAL']))"
   ]
  },
  {
   "cell_type": "code",
   "execution_count": 41,
   "metadata": {
    "collapsed": true
   },
   "outputs": [],
   "source": [
    "data_2002_2['FAMI_INGRESO_FMILIAR_MENSUAL'] = data_2002_2['FAMI_INGRESO_FMILIAR_MENSUAL'].replace('*', np.nan)"
   ]
  },
  {
   "cell_type": "code",
   "execution_count": 42,
   "metadata": {
    "collapsed": false,
    "scrolled": true
   },
   "outputs": [
    {
     "name": "stdout",
     "output_type": "stream",
     "text": [
      "Index(['*', 'N', 'S'], dtype='object')\n",
      "*       180\n",
      "N     13184\n",
      "S    325478\n",
      "Name: FAMI_LEE_ESCRIBE_PADRE, dtype: int64\n",
      "Elementos null/NaN 31464\n",
      "__________________\n",
      "Elementos diferentes de null/NaN: 338842\n",
      "__________________\n",
      "(338842,)\n",
      "None\n"
     ]
    }
   ],
   "source": [
    "print(data_2002_2['FAMI_LEE_ESCRIBE_PADRE'].value_counts().sort_index().index)\n",
    "print(data_2002_2['FAMI_LEE_ESCRIBE_PADRE'].value_counts().sort_index())\n",
    "print(missing_data(data_2002_2['FAMI_LEE_ESCRIBE_PADRE']))"
   ]
  },
  {
   "cell_type": "code",
   "execution_count": 43,
   "metadata": {
    "collapsed": true
   },
   "outputs": [],
   "source": [
    "data_2002_2['FAMI_LEE_ESCRIBE_PADRE'] = data_2002_2['FAMI_LEE_ESCRIBE_PADRE'].replace('*', np.nan)"
   ]
  },
  {
   "cell_type": "code",
   "execution_count": 44,
   "metadata": {
    "collapsed": false,
    "scrolled": true
   },
   "outputs": [
    {
     "name": "stdout",
     "output_type": "stream",
     "text": [
      "Index(['*', 'N', 'S'], dtype='object')\n",
      "*       194\n",
      "N     12335\n",
      "S    346226\n",
      "Name: FAMI_LEE_ESCRIBE_MADRE, dtype: int64\n",
      "Elementos null/NaN 11551\n",
      "__________________\n",
      "Elementos diferentes de null/NaN: 358755\n",
      "__________________\n",
      "(358755,)\n",
      "None\n"
     ]
    }
   ],
   "source": [
    "print(data_2002_2['FAMI_LEE_ESCRIBE_MADRE'].value_counts().sort_index().index)\n",
    "print(data_2002_2['FAMI_LEE_ESCRIBE_MADRE'].value_counts().sort_index())\n",
    "print(missing_data(data_2002_2['FAMI_LEE_ESCRIBE_MADRE']))"
   ]
  },
  {
   "cell_type": "code",
   "execution_count": 45,
   "metadata": {
    "collapsed": true
   },
   "outputs": [],
   "source": [
    "data_2002_2['FAMI_LEE_ESCRIBE_MADRE'] = data_2002_2['FAMI_LEE_ESCRIBE_MADRE'].replace('*', np.nan)"
   ]
  },
  {
   "cell_type": "code",
   "execution_count": 46,
   "metadata": {
    "collapsed": false,
    "scrolled": true
   },
   "outputs": [
    {
     "name": "stdout",
     "output_type": "stream",
     "text": [
      "Index(['*', '1', '2', '3', '4', '5', '6', '7', '8', 'S'], dtype='object')\n",
      "*      3407\n",
      "1     17207\n",
      "2      3759\n",
      "3    142680\n",
      "4     83863\n",
      "5     20412\n",
      "6     17916\n",
      "7     29237\n",
      "8     12128\n",
      "S       721\n",
      "Name: FAMI_EDUCA_PADRE, dtype: int64\n",
      "Elementos null/NaN 38976\n",
      "__________________\n",
      "Elementos diferentes de null/NaN: 331330\n",
      "__________________\n",
      "(331330,)\n",
      "None\n"
     ]
    }
   ],
   "source": [
    "print(data_2002_2['FAMI_EDUCA_PADRE'].value_counts().sort_index().index)\n",
    "print(data_2002_2['FAMI_EDUCA_PADRE'].value_counts().sort_index())\n",
    "print(missing_data(data_2002_2['FAMI_EDUCA_PADRE']))"
   ]
  },
  {
   "cell_type": "code",
   "execution_count": 47,
   "metadata": {
    "collapsed": true
   },
   "outputs": [],
   "source": [
    "data_2002_2['FAMI_EDUCA_PADRE'] = data_2002_2['FAMI_EDUCA_PADRE'].replace('*', np.nan)\n",
    "data_2002_2['FAMI_EDUCA_PADRE'] = data_2002_2['FAMI_EDUCA_PADRE'].replace('S', np.nan)"
   ]
  },
  {
   "cell_type": "code",
   "execution_count": 48,
   "metadata": {
    "collapsed": false,
    "scrolled": true
   },
   "outputs": [
    {
     "name": "stdout",
     "output_type": "stream",
     "text": [
      "Index(['*', '1', '2', '3', '4', '5', '6', '7', '8', 'S'], dtype='object')\n",
      "*      3603\n",
      "1     14398\n",
      "2      3872\n",
      "3    149793\n",
      "4     99220\n",
      "5     25891\n",
      "6     15721\n",
      "7     23153\n",
      "8     10532\n",
      "S       613\n",
      "Name: FAMI_EDUCA_MADRE, dtype: int64\n",
      "Elementos null/NaN 23510\n",
      "__________________\n",
      "Elementos diferentes de null/NaN: 346796\n",
      "__________________\n",
      "(346796,)\n",
      "None\n"
     ]
    }
   ],
   "source": [
    "print(data_2002_2['FAMI_EDUCA_MADRE'].value_counts().sort_index().index)\n",
    "print(data_2002_2['FAMI_EDUCA_MADRE'].value_counts().sort_index())\n",
    "print(missing_data(data_2002_2['FAMI_EDUCA_MADRE']))"
   ]
  },
  {
   "cell_type": "code",
   "execution_count": 49,
   "metadata": {
    "collapsed": true
   },
   "outputs": [],
   "source": [
    "data_2002_2['FAMI_EDUCA_MADRE'] = data_2002_2['FAMI_EDUCA_MADRE'].replace('*', np.nan)\n",
    "data_2002_2['FAMI_EDUCA_MADRE'] = data_2002_2['FAMI_EDUCA_MADRE'].replace('S', np.nan)"
   ]
  },
  {
   "cell_type": "code",
   "execution_count": 50,
   "metadata": {
    "collapsed": false,
    "scrolled": true
   },
   "outputs": [
    {
     "name": "stdout",
     "output_type": "stream",
     "text": [
      "Index(['*', '01', '02', '03', '04', '05', '06', '07', '08', '09', '10', '11',\n",
      "       '12', '@', 'Se'],\n",
      "      dtype='object')\n",
      "*       7011\n",
      "01      4182\n",
      "02      6124\n",
      "03     16193\n",
      "04     23698\n",
      "05    107401\n",
      "06     48842\n",
      "07      2755\n",
      "08     76480\n",
      "09     17744\n",
      "10      4475\n",
      "11       188\n",
      "12     13412\n",
      "@        800\n",
      "Se       809\n",
      "Name: FAMI_OCUPA_PADRE, dtype: int64\n",
      "Elementos null/NaN 40192\n",
      "__________________\n",
      "Elementos diferentes de null/NaN: 330114\n",
      "__________________\n",
      "(330114,)\n",
      "None\n"
     ]
    }
   ],
   "source": [
    "print(data_2002_2['FAMI_OCUPA_PADRE'].value_counts().sort_index().index)\n",
    "print(data_2002_2['FAMI_OCUPA_PADRE'].value_counts().sort_index())\n",
    "print(missing_data(data_2002_2['FAMI_OCUPA_PADRE']))"
   ]
  },
  {
   "cell_type": "code",
   "execution_count": 51,
   "metadata": {
    "collapsed": true
   },
   "outputs": [],
   "source": [
    "data_2002_2['FAMI_OCUPA_PADRE'] = data_2002_2['FAMI_OCUPA_PADRE'].replace('*', np.nan)\n",
    "data_2002_2['FAMI_OCUPA_PADRE'] = data_2002_2['FAMI_OCUPA_PADRE'].replace('@', np.nan)\n",
    "data_2002_2['FAMI_OCUPA_PADRE'] = data_2002_2['FAMI_OCUPA_PADRE'].replace('Se', np.nan)"
   ]
  },
  {
   "cell_type": "code",
   "execution_count": 52,
   "metadata": {
    "collapsed": false,
    "scrolled": true
   },
   "outputs": [
    {
     "name": "stdout",
     "output_type": "stream",
     "text": [
      "Index(['*', '01', '02', '03', '04', '05', '06', '07', '08', '09', '10', '11',\n",
      "       '12', '@', 'Se'],\n",
      "      dtype='object')\n",
      "*       5746\n",
      "01      1747\n",
      "02      3410\n",
      "03      6342\n",
      "04     22120\n",
      "05     44719\n",
      "06     39357\n",
      "07      2377\n",
      "08     22092\n",
      "09      5019\n",
      "10    188698\n",
      "11      1307\n",
      "12      7557\n",
      "@        649\n",
      "Se       651\n",
      "Name: FAMI_OCUPA_MADRE, dtype: int64\n",
      "Elementos null/NaN 18515\n",
      "__________________\n",
      "Elementos diferentes de null/NaN: 351791\n",
      "__________________\n",
      "(351791,)\n",
      "None\n"
     ]
    }
   ],
   "source": [
    "print(data_2002_2['FAMI_OCUPA_MADRE'].value_counts().sort_index().index)\n",
    "print(data_2002_2['FAMI_OCUPA_MADRE'].value_counts().sort_index())\n",
    "print(missing_data(data_2002_2['FAMI_OCUPA_MADRE']))"
   ]
  },
  {
   "cell_type": "code",
   "execution_count": 53,
   "metadata": {
    "collapsed": true
   },
   "outputs": [],
   "source": [
    "data_2002_2['FAMI_OCUPA_MADRE'] = data_2002_2['FAMI_OCUPA_MADRE'].replace('*', np.nan)\n",
    "data_2002_2['FAMI_OCUPA_MADRE'] = data_2002_2['FAMI_OCUPA_MADRE'].replace('@', np.nan)\n",
    "data_2002_2['FAMI_OCUPA_MADRE'] = data_2002_2['FAMI_OCUPA_MADRE'].replace('Se', np.nan)"
   ]
  },
  {
   "cell_type": "code",
   "execution_count": 54,
   "metadata": {
    "collapsed": false,
    "scrolled": true
   },
   "outputs": [
    {
     "name": "stdout",
     "output_type": "stream",
     "text": [
      "Index(['*', '+', '0', '1', '2', '3', '4', '5', '6', '7', '8', '9'], dtype='object')\n",
      "*      549\n",
      "+     7887\n",
      "0    16424\n",
      "1    70048\n",
      "2    93407\n",
      "3    63723\n",
      "4    37806\n",
      "5    22758\n",
      "6    14463\n",
      "7     9708\n",
      "8     6644\n",
      "9     4482\n",
      "Name: FAMI_NUM_HERMANOS, dtype: int64\n",
      "Elementos null/NaN 22407\n",
      "__________________\n",
      "Elementos diferentes de null/NaN: 347899\n",
      "__________________\n",
      "(347899,)\n",
      "None\n"
     ]
    }
   ],
   "source": [
    "print(data_2002_2['FAMI_NUM_HERMANOS'].value_counts().sort_index().index)\n",
    "print(data_2002_2['FAMI_NUM_HERMANOS'].value_counts().sort_index())\n",
    "print(missing_data(data_2002_2['FAMI_NUM_HERMANOS']))"
   ]
  },
  {
   "cell_type": "code",
   "execution_count": 55,
   "metadata": {
    "collapsed": true
   },
   "outputs": [],
   "source": [
    "data_2002_2['FAMI_NUM_HERMANOS'] = data_2002_2['FAMI_NUM_HERMANOS'].replace('*', np.nan)\n",
    "data_2002_2['FAMI_NUM_HERMANOS'] = data_2002_2['FAMI_NUM_HERMANOS'].replace('+', '+9')"
   ]
  },
  {
   "cell_type": "code",
   "execution_count": 56,
   "metadata": {
    "collapsed": false,
    "scrolled": true
   },
   "outputs": [
    {
     "name": "stdout",
     "output_type": "stream",
     "text": [
      "Index(['*', '+', '0', '1', '2', '3', '4', '5', '6', '7', '8', '9'], dtype='object')\n",
      "*       154\n",
      "+       243\n",
      "0    175969\n",
      "1     92691\n",
      "2     39083\n",
      "3     12509\n",
      "4      4300\n",
      "5      1619\n",
      "6       755\n",
      "7       342\n",
      "8       166\n",
      "9       100\n",
      "Name: FAMI_NUM_HERMANOS_EDUSUPERIOR, dtype: int64\n",
      "Elementos null/NaN 42375\n",
      "__________________\n",
      "Elementos diferentes de null/NaN: 327931\n",
      "__________________\n",
      "(327931,)\n",
      "None\n"
     ]
    }
   ],
   "source": [
    "print(data_2002_2['FAMI_NUM_HERMANOS_EDUSUPERIOR'].value_counts().sort_index().index)\n",
    "print(data_2002_2['FAMI_NUM_HERMANOS_EDUSUPERIOR'].value_counts().sort_index())\n",
    "print(missing_data(data_2002_2['FAMI_NUM_HERMANOS_EDUSUPERIOR']))"
   ]
  },
  {
   "cell_type": "code",
   "execution_count": 57,
   "metadata": {
    "collapsed": true
   },
   "outputs": [],
   "source": [
    "data_2002_2['FAMI_NUM_HERMANOS_EDUSUPERIOR'] = data_2002_2['FAMI_NUM_HERMANOS_EDUSUPERIOR'].replace('*', np.nan)\n",
    "data_2002_2['FAMI_NUM_HERMANOS_EDUSUPERIOR'] = data_2002_2['FAMI_NUM_HERMANOS_EDUSUPERIOR'].replace('+', '+9')"
   ]
  },
  {
   "cell_type": "code",
   "execution_count": 58,
   "metadata": {
    "collapsed": false,
    "scrolled": true
   },
   "outputs": [
    {
     "name": "stdout",
     "output_type": "stream",
     "text": [
      "Index(['*', '+', '1', '2', '3', '4', '5', '6', '7', '8', '9', '@'], dtype='object')\n",
      "*        48\n",
      "+      3728\n",
      "1    120446\n",
      "2     95330\n",
      "3     60134\n",
      "4     31322\n",
      "5     16686\n",
      "6      9758\n",
      "7      6146\n",
      "8      3832\n",
      "9      2669\n",
      "@         4\n",
      "Name: FAMI_POSICION_HERMANOS, dtype: int64\n",
      "Elementos null/NaN 20203\n",
      "__________________\n",
      "Elementos diferentes de null/NaN: 350103\n",
      "__________________\n",
      "(350103,)\n",
      "None\n"
     ]
    }
   ],
   "source": [
    "print(data_2002_2['FAMI_POSICION_HERMANOS'].value_counts().sort_index().index)\n",
    "print(data_2002_2['FAMI_POSICION_HERMANOS'].value_counts().sort_index())\n",
    "print(missing_data(data_2002_2['FAMI_POSICION_HERMANOS']))"
   ]
  },
  {
   "cell_type": "code",
   "execution_count": 59,
   "metadata": {
    "collapsed": true
   },
   "outputs": [],
   "source": [
    "data_2002_2['FAMI_POSICION_HERMANOS'] = data_2002_2['FAMI_POSICION_HERMANOS'].replace('*', np.nan)\n",
    "data_2002_2['FAMI_POSICION_HERMANOS'] = data_2002_2['FAMI_POSICION_HERMANOS'].replace('+', '+9')\n",
    "data_2002_2['FAMI_POSICION_HERMANOS'] = data_2002_2['FAMI_POSICION_HERMANOS'].replace('@', np.nan)"
   ]
  },
  {
   "cell_type": "code",
   "execution_count": 60,
   "metadata": {
    "collapsed": false,
    "scrolled": true
   },
   "outputs": [
    {
     "name": "stdout",
     "output_type": "stream",
     "text": [
      "Index(['*', 'N', 'P', 'T'], dtype='object')\n",
      "*        16\n",
      "N     17985\n",
      "P     43488\n",
      "T    292868\n",
      "Name: FAMI_SOST_PERSONAL, dtype: int64\n",
      "Elementos null/NaN 15949\n",
      "__________________\n",
      "Elementos diferentes de null/NaN: 354357\n",
      "__________________\n",
      "(354357,)\n",
      "None\n"
     ]
    }
   ],
   "source": [
    "print(data_2002_2['FAMI_SOST_PERSONAL'].value_counts().sort_index().index)\n",
    "print(data_2002_2['FAMI_SOST_PERSONAL'].value_counts().sort_index())\n",
    "print(missing_data(data_2002_2['FAMI_SOST_PERSONAL']))"
   ]
  },
  {
   "cell_type": "code",
   "execution_count": 61,
   "metadata": {
    "collapsed": true
   },
   "outputs": [],
   "source": [
    "data_2002_2['FAMI_SOST_PERSONAL'] = data_2002_2['FAMI_SOST_PERSONAL'].replace('*', np.nan)"
   ]
  },
  {
   "cell_type": "code",
   "execution_count": 62,
   "metadata": {
    "collapsed": false,
    "scrolled": true
   },
   "outputs": [
    {
     "name": "stdout",
     "output_type": "stream",
     "text": [
      "Index(['*', 'N', 'S'], dtype='object')\n",
      "*         9\n",
      "N    314096\n",
      "S     40749\n",
      "Name: ESTU_TRABAJA, dtype: int64\n",
      "Elementos null/NaN 15452\n",
      "__________________\n",
      "Elementos diferentes de null/NaN: 354854\n",
      "__________________\n",
      "(354854,)\n",
      "None\n"
     ]
    }
   ],
   "source": [
    "print(data_2002_2['ESTU_TRABAJA'].value_counts().sort_index().index)\n",
    "print(data_2002_2['ESTU_TRABAJA'].value_counts().sort_index())\n",
    "print(missing_data(data_2002_2['ESTU_TRABAJA']))"
   ]
  },
  {
   "cell_type": "code",
   "execution_count": 63,
   "metadata": {
    "collapsed": true
   },
   "outputs": [],
   "source": [
    "data_2002_2['ESTU_TRABAJA'] = data_2002_2['ESTU_TRABAJA'].replace('*', np.nan)"
   ]
  },
  {
   "cell_type": "code",
   "execution_count": 64,
   "metadata": {
    "collapsed": false,
    "scrolled": true
   },
   "outputs": [
    {
     "name": "stdout",
     "output_type": "stream",
     "text": [
      "Index(['*', '1', '2', '3'], dtype='object')\n",
      "*       126\n",
      "1    122555\n",
      "2      7310\n",
      "3    236591\n",
      "Name: ESTU_ACT_PROX_ANNO, dtype: int64\n",
      "Elementos null/NaN 3724\n",
      "__________________\n",
      "Elementos diferentes de null/NaN: 366582\n",
      "__________________\n",
      "(366582,)\n",
      "None\n"
     ]
    }
   ],
   "source": [
    "print(data_2002_2['ESTU_ACT_PROX_ANNO'].value_counts().sort_index().index)\n",
    "print(data_2002_2['ESTU_ACT_PROX_ANNO'].value_counts().sort_index())\n",
    "print(missing_data(data_2002_2['ESTU_ACT_PROX_ANNO']))"
   ]
  },
  {
   "cell_type": "code",
   "execution_count": 65,
   "metadata": {
    "collapsed": true
   },
   "outputs": [],
   "source": [
    "data_2002_2['ESTU_ACT_PROX_ANNO'] = data_2002_2['ESTU_ACT_PROX_ANNO'].replace('*', np.nan)"
   ]
  },
  {
   "cell_type": "code",
   "execution_count": 66,
   "metadata": {
    "collapsed": false,
    "scrolled": true
   },
   "outputs": [
    {
     "name": "stdout",
     "output_type": "stream",
     "text": [
      "Index(['A', 'B', 'F'], dtype='object')\n",
      "A    321178\n",
      "B      4897\n",
      "F     30410\n",
      "Name: COLE_CALENDARIO, dtype: int64\n",
      "Elementos null/NaN 13821\n",
      "__________________\n",
      "Elementos diferentes de null/NaN: 356485\n",
      "__________________\n",
      "(356485,)\n",
      "None\n"
     ]
    }
   ],
   "source": [
    "print(data_2002_2['COLE_CALENDARIO'].value_counts().sort_index().index)\n",
    "print(data_2002_2['COLE_CALENDARIO'].value_counts().sort_index())\n",
    "print(missing_data(data_2002_2['COLE_CALENDARIO']))"
   ]
  },
  {
   "cell_type": "code",
   "execution_count": 67,
   "metadata": {
    "collapsed": false,
    "scrolled": true
   },
   "outputs": [
    {
     "name": "stdout",
     "output_type": "stream",
     "text": [
      "Float64Index([1.0, 2.0], dtype='float64')\n",
      "1.0    1774\n",
      "2.0     158\n",
      "Name: COLE_BILINGUE, dtype: int64\n",
      "Elementos null/NaN 368374\n",
      "__________________\n",
      "Elementos diferentes de null/NaN: 1932\n",
      "__________________\n",
      "(1932,)\n",
      "None\n"
     ]
    }
   ],
   "source": [
    "print(data_2002_2['COLE_BILINGUE'].value_counts().sort_index().index)\n",
    "print(data_2002_2['COLE_BILINGUE'].value_counts().sort_index())\n",
    "print(missing_data(data_2002_2['COLE_BILINGUE']))"
   ]
  },
  {
   "cell_type": "code",
   "execution_count": 68,
   "metadata": {
    "collapsed": false,
    "scrolled": true
   },
   "outputs": [
    {
     "name": "stdout",
     "output_type": "stream",
     "text": [
      "Index(['ACADEMICO', 'ACADEMICO Y TECNICO', 'NORMALISTA', 'TECNICO'], dtype='object')\n",
      "ACADEMICO              195422\n",
      "ACADEMICO Y TECNICO     99222\n",
      "NORMALISTA               7070\n",
      "TECNICO                 54771\n",
      "Name: COLE_CARACTER, dtype: int64\n",
      "Elementos null/NaN 13821\n",
      "__________________\n",
      "Elementos diferentes de null/NaN: 356485\n",
      "__________________\n",
      "(356485,)\n",
      "None\n"
     ]
    }
   ],
   "source": [
    "print(data_2002_2['COLE_CARACTER'].value_counts().sort_index().index)\n",
    "print(data_2002_2['COLE_CARACTER'].value_counts().sort_index())\n",
    "print(missing_data(data_2002_2['COLE_CARACTER']))"
   ]
  },
  {
   "cell_type": "code",
   "execution_count": 69,
   "metadata": {
    "collapsed": false,
    "scrolled": true
   },
   "outputs": [
    {
     "name": "stdout",
     "output_type": "stream",
     "text": [
      "Index(['AMAZONAS', 'ANTIOQUIA', 'ARAUCA', 'ATLANTICO', 'BOGOTA', 'BOLIVAR',\n",
      "       'BOYACA', 'CALDAS', 'CAQUETA', 'CASANARE', 'CAUCA', 'CESAR', 'CHOCO',\n",
      "       'CORDOBA', 'CUNDINAMARCA', 'GUAINIA', 'GUAVIARE', 'HUILA', 'LA GUAJIRA',\n",
      "       'MAGDALENA', 'META', 'NARIÑO', 'NORTE SANTANDER', 'PUTUMAYO', 'QUINDIO',\n",
      "       'RISARALDA', 'SAN ANDRES', 'SANTANDER', 'SUCRE', 'TOLIMA', 'VALLE',\n",
      "       'VAUPES', 'VICHADA'],\n",
      "      dtype='object')\n",
      "AMAZONAS             563\n",
      "ANTIOQUIA          49458\n",
      "ARAUCA              1495\n",
      "ATLANTICO          25220\n",
      "BOGOTA             73212\n",
      "BOLIVAR            17561\n",
      "BOYACA             14710\n",
      "CALDAS              9718\n",
      "CAQUETA             2544\n",
      "CASANARE            2166\n",
      "CAUCA               7901\n",
      "CESAR               7642\n",
      "CHOCO               3230\n",
      "CORDOBA            12606\n",
      "CUNDINAMARCA       22236\n",
      "GUAINIA              116\n",
      "GUAVIARE             283\n",
      "HUILA               8312\n",
      "LA GUAJIRA          4593\n",
      "MAGDALENA           9575\n",
      "META                6636\n",
      "NARIÑO              2053\n",
      "NORTE SANTANDER    12463\n",
      "PUTUMAYO            1711\n",
      "QUINDIO             4872\n",
      "RISARALDA           7984\n",
      "SAN ANDRES           669\n",
      "SANTANDER          20743\n",
      "SUCRE               6965\n",
      "TOLIMA             12741\n",
      "VALLE               6140\n",
      "VAUPES               149\n",
      "VICHADA              218\n",
      "Name: COLE_DEPTO_UBICACION, dtype: int64\n",
      "Elementos null/NaN 13821\n",
      "__________________\n",
      "Elementos diferentes de null/NaN: 356485\n",
      "__________________\n",
      "(356485,)\n",
      "None\n"
     ]
    }
   ],
   "source": [
    "print(data_2002_2['COLE_DEPTO_UBICACION'].value_counts().sort_index().index)\n",
    "print(data_2002_2['COLE_DEPTO_UBICACION'].value_counts().sort_index())\n",
    "print(missing_data(data_2002_2['COLE_DEPTO_UBICACION']))"
   ]
  },
  {
   "cell_type": "code",
   "execution_count": 70,
   "metadata": {
    "collapsed": false,
    "scrolled": true
   },
   "outputs": [
    {
     "name": "stdout",
     "output_type": "stream",
     "text": [
      "Index(['ABEJORRAL', 'ABREGO', 'ABRIAQUI', 'ACACIAS', 'ACANDI', 'ACEVEDO',\n",
      "       'ACHI', 'AGRADO', 'AGUA DE DIOS', 'AGUACHICA',\n",
      "       ...\n",
      "       'YUMBO', 'ZAMBRANO', 'ZAPATOCA', 'ZAPAYAN', 'ZARAGOZA', 'ZARZAL',\n",
      "       'ZETAQUIRA', 'ZIPACON', 'ZIPAQUIRA', 'ZONA BANANERA'],\n",
      "      dtype='object', length=989)\n",
      "ABEJORRAL                    139\n",
      "ABREGO                        56\n",
      "ABRIAQUI                      28\n",
      "ACACIAS                      562\n",
      "ACANDI                        67\n",
      "ACEVEDO                       46\n",
      "ACHI                         113\n",
      "AGRADO                        55\n",
      "AGUA DE DIOS                 179\n",
      "AGUACHICA                    647\n",
      "AGUADA                        14\n",
      "AGUADAS                      273\n",
      "AGUAZUL                      218\n",
      "AGUSTIN CODAZZI              390\n",
      "AIPE                         127\n",
      "ALBAN                         43\n",
      "ALBAN (SAN JOSE)               3\n",
      "ALBANIA                      141\n",
      "ALCALA                         5\n",
      "ALDANA                         2\n",
      "ALEJANDRIA                    33\n",
      "ALGARROBO                     48\n",
      "ALGECIRAS                    160\n",
      "ALMAGUER                      72\n",
      "ALMEIDA                       24\n",
      "ALPUJARRA                     44\n",
      "ALTAMIRA                      21\n",
      "ALTO BAUDO (PIE DE PATO)      31\n",
      "ALTOS DEL ROSARIO             42\n",
      "ALVARADO                      57\n",
      "                            ... \n",
      "VILLAMARIA                   457\n",
      "VILLANUEVA                   632\n",
      "VILLAPINZON                  171\n",
      "VILLARRICA                    59\n",
      "VILLAVICENCIO               4365\n",
      "VILLAVIEJA                    41\n",
      "VILLETA                      221\n",
      "VIOTA                        135\n",
      "VIRACACHA                     42\n",
      "VISTA HERMOSA                 26\n",
      "VITERBO                      143\n",
      "YACOPI                        53\n",
      "YACUANQUER                     7\n",
      "YAGUARA                       77\n",
      "YALI                          41\n",
      "YARUMAL                      425\n",
      "YOLOMBO                      162\n",
      "YONDO (CASABE)                72\n",
      "YOPAL                        845\n",
      "YOTOCO                         9\n",
      "YUMBO                        134\n",
      "ZAMBRANO                      59\n",
      "ZAPATOCA                      98\n",
      "ZAPAYAN                       30\n",
      "ZARAGOZA                     173\n",
      "ZARZAL                        11\n",
      "ZETAQUIRA                     65\n",
      "ZIPACON                       18\n",
      "ZIPAQUIRA                   1033\n",
      "ZONA BANANERA                276\n",
      "Name: COLE_MCPIO_UBICACION, dtype: int64\n",
      "Elementos null/NaN 13821\n",
      "__________________\n",
      "Elementos diferentes de null/NaN: 356485\n",
      "__________________\n",
      "(356485,)\n",
      "None\n"
     ]
    }
   ],
   "source": [
    "print(data_2002_2['COLE_MCPIO_UBICACION'].value_counts().sort_index().index)\n",
    "print(data_2002_2['COLE_MCPIO_UBICACION'].value_counts().sort_index())\n",
    "print(missing_data(data_2002_2['COLE_MCPIO_UBICACION']))"
   ]
  },
  {
   "cell_type": "code",
   "execution_count": 71,
   "metadata": {
    "collapsed": false,
    "scrolled": true
   },
   "outputs": [
    {
     "name": "stdout",
     "output_type": "stream",
     "text": [
      "Index(['AMAZONAS', 'ANTIOQUIA', 'ARAUCA', 'ATLANTICO', 'BOGOTA', 'BOLIVAR',\n",
      "       'BOYACA', 'CALDAS', 'CAQUETA', 'CASANARE', 'CAUCA', 'CESAR', 'CHOCO',\n",
      "       'CORDOBA', 'CUNDINAMARCA', 'GUAINIA', 'GUAVIARE', 'HUILA', 'LA GUAJIRA',\n",
      "       'MAGDALENA', 'META', 'NARIÑO', 'NORTE SANTANDER', 'PUTUMAYO', 'QUINDIO',\n",
      "       'RISARALDA', 'SAN ANDRES', 'SANTANDER', 'SUCRE', 'TOLIMA', 'VALLE',\n",
      "       'VAUPES', 'VICHADA'],\n",
      "      dtype='object')\n",
      "AMAZONAS             588\n",
      "ANTIOQUIA          50304\n",
      "ARAUCA              1534\n",
      "ATLANTICO          26314\n",
      "BOGOTA             78334\n",
      "BOLIVAR            17309\n",
      "BOYACA             15426\n",
      "CALDAS             10240\n",
      "CAQUETA             2575\n",
      "CASANARE            2247\n",
      "CAUCA               9218\n",
      "CESAR               7890\n",
      "CHOCO               3377\n",
      "CORDOBA            12776\n",
      "CUNDINAMARCA       21206\n",
      "GUAINIA              123\n",
      "GUAVIARE             339\n",
      "HUILA               8867\n",
      "LA GUAJIRA          4662\n",
      "MAGDALENA           9424\n",
      "META                6845\n",
      "NARIÑO              2563\n",
      "NORTE SANTANDER    12718\n",
      "PUTUMAYO            1720\n",
      "QUINDIO             5126\n",
      "RISARALDA           8306\n",
      "SAN ANDRES           696\n",
      "SANTANDER          21970\n",
      "SUCRE               7012\n",
      "TOLIMA             12750\n",
      "VALLE               7464\n",
      "VAUPES               158\n",
      "VICHADA              225\n",
      "Name: ESTU_RESIDE_DEPTO, dtype: int64\n",
      "Elementos null/NaN 0\n",
      "__________________\n",
      "Elementos diferentes de null/NaN: 370306\n",
      "__________________\n",
      "(370306,)\n",
      "None\n"
     ]
    }
   ],
   "source": [
    "print(data_2002_2['ESTU_RESIDE_DEPTO'].value_counts().sort_index().index)\n",
    "print(data_2002_2['ESTU_RESIDE_DEPTO'].value_counts().sort_index())\n",
    "print(missing_data(data_2002_2['ESTU_RESIDE_DEPTO']))"
   ]
  },
  {
   "cell_type": "code",
   "execution_count": 72,
   "metadata": {
    "collapsed": false,
    "scrolled": true
   },
   "outputs": [
    {
     "name": "stdout",
     "output_type": "stream",
     "text": [
      "Index(['ABEJORRAL', 'ABREGO', 'ACACIAS', 'ACANDI', 'ACHI', 'AGUACHICA',\n",
      "       'AGUADAS', 'AGUAZUL', 'AGUSTIN CODAZZI', 'AIPE',\n",
      "       ...\n",
      "       'VILLAVICENCIO', 'VILLETA', 'VIOTA', 'YARUMAL', 'YOLOMBO', 'YOPAL',\n",
      "       'YUMBO', 'ZAPATOCA', 'ZARAGOZA', 'ZIPAQUIRA'],\n",
      "      dtype='object', length=338)\n",
      "ABEJORRAL                  143\n",
      "ABREGO                      59\n",
      "ACACIAS                    719\n",
      "ACANDI                      67\n",
      "ACHI                       115\n",
      "AGUACHICA                 1015\n",
      "AGUADAS                    270\n",
      "AGUAZUL                    215\n",
      "AGUSTIN CODAZZI            400\n",
      "AIPE                       129\n",
      "AMAGA                      568\n",
      "AMALFI                     203\n",
      "ANDES                      494\n",
      "ANSERMA                    476\n",
      "ANTIOQUIA                  563\n",
      "APARTADO                  1168\n",
      "ARACATACA                  263\n",
      "ARAUCA                     669\n",
      "ARAUQUITA                  167\n",
      "ARBELAEZ                   158\n",
      "ARBOLEDAS                   52\n",
      "ARBOLETES                  295\n",
      "ARIGUANI (EL DIFICIL)      309\n",
      "ARJONA                     614\n",
      "ARMENIA                   3642\n",
      "ASTREA                      79\n",
      "AYAPEL                     201\n",
      "BAGADO                      83\n",
      "BAHIA SOLANO (MUTIS)       121\n",
      "BAJO BAUDO   (PIZARRO)      80\n",
      "                          ... \n",
      "TULUA                      414\n",
      "TUMACO                     162\n",
      "TUNJA                     4090\n",
      "TUQUERRES                   25\n",
      "TURBACO                    715\n",
      "TURBO                      599\n",
      "TURMEQUE                   105\n",
      "TUTA                       112\n",
      "UBATE                      839\n",
      "UNGUIA                      37\n",
      "URRAO                      264\n",
      "VALLEDUPAR                4812\n",
      "VELEZ                      366\n",
      "VENADILLO                  189\n",
      "VENTAQUEMADA               109\n",
      "VIGIA DEL FUERTE            11\n",
      "VILLA DE LEYVA             217\n",
      "VILLA DEL ROSARIO          638\n",
      "VILLAMARIA                 149\n",
      "VILLANUEVA                 698\n",
      "VILLAVICENCIO             4748\n",
      "VILLETA                    368\n",
      "VIOTA                       83\n",
      "YARUMAL                    635\n",
      "YOLOMBO                    268\n",
      "YOPAL                     1130\n",
      "YUMBO                       26\n",
      "ZAPATOCA                   111\n",
      "ZARAGOZA                   170\n",
      "ZIPAQUIRA                 1617\n",
      "Name: ESTU_RESIDE_MCPIO, dtype: int64\n",
      "Elementos null/NaN 0\n",
      "__________________\n",
      "Elementos diferentes de null/NaN: 370306\n",
      "__________________\n",
      "(370306,)\n",
      "None\n"
     ]
    }
   ],
   "source": [
    "print(data_2002_2['ESTU_RESIDE_MCPIO'].value_counts().sort_index().index)\n",
    "print(data_2002_2['ESTU_RESIDE_MCPIO'].value_counts().sort_index())\n",
    "print(missing_data(data_2002_2['ESTU_RESIDE_MCPIO']))"
   ]
  },
  {
   "cell_type": "markdown",
   "metadata": {},
   "source": [
    "### TARGETS"
   ]
  },
  {
   "cell_type": "code",
   "execution_count": 73,
   "metadata": {
    "collapsed": false,
    "scrolled": true
   },
   "outputs": [
    {
     "name": "stdout",
     "output_type": "stream",
     "text": [
      "Index([ '43',  '44',  '41',  '45',  '40',  '47',  '48',  '38',  '49',  '50',\n",
      "        '37',  '51',    44,    43,  '53',    45,    41,  '35',    47,    48,\n",
      "          40,  '54',    49,    38,  '55',    50,  '33',    51,  '56',    37,\n",
      "          53,  '58',    54,  '59',    55,    35,  '31',    56,  '61',    58,\n",
      "          33,  '62',    59,  '28',  '64',    61,    31,  '66',    62,  '25',\n",
      "          64,  '68',    28,    66,  '71',    68,  '21',    25,  '74',    71,\n",
      "        '13',    74,    21, '---',   '0',  '78',    13,    78,  '86',     0],\n",
      "      dtype='object')\n",
      "43     25105\n",
      "44     24824\n",
      "41     23729\n",
      "45     23051\n",
      "40     20667\n",
      "47     20646\n",
      "48     17853\n",
      "38     16622\n",
      "49     15051\n",
      "50     12464\n",
      "37     11964\n",
      "51     10348\n",
      "44      8648\n",
      "43      8579\n",
      "53      8295\n",
      "45      8289\n",
      "41      8101\n",
      "35      7670\n",
      "47      7668\n",
      "48      6998\n",
      "40      6914\n",
      "54      6704\n",
      "49      5833\n",
      "38      5393\n",
      "55      5296\n",
      "50      5058\n",
      "33      4212\n",
      "51      4135\n",
      "56      3948\n",
      "37      3727\n",
      "       ...  \n",
      "33      1271\n",
      "62      1149\n",
      "59       991\n",
      "28       846\n",
      "64       805\n",
      "61       710\n",
      "31       599\n",
      "66       493\n",
      "62       462\n",
      "25       316\n",
      "64       306\n",
      "68       298\n",
      "28       246\n",
      "66       186\n",
      "71       156\n",
      "68       126\n",
      "21       117\n",
      "25        78\n",
      "74        64\n",
      "71        55\n",
      "13        43\n",
      "74        37\n",
      "21        31\n",
      "---       30\n",
      "0         26\n",
      "78        19\n",
      "13        12\n",
      "78        10\n",
      "86         4\n",
      "0          3\n",
      "Name: PUNT_BIOLOGIA, dtype: int64\n",
      "Elementos null/NaN 0\n",
      "__________________\n",
      "Elementos diferentes de null/NaN: 370306\n",
      "__________________\n",
      "(370306,)\n",
      "None\n"
     ]
    }
   ],
   "source": [
    "print(data_2002_2['PUNT_BIOLOGIA'].value_counts().index)\n",
    "print(data_2002_2['PUNT_BIOLOGIA'].value_counts())\n",
    "print(missing_data(data_2002_2['PUNT_BIOLOGIA']))"
   ]
  },
  {
   "cell_type": "code",
   "execution_count": 74,
   "metadata": {
    "collapsed": false
   },
   "outputs": [],
   "source": [
    "data_2002_2['PUNT_BIOLOGIA'] = data_2002_2['PUNT_BIOLOGIA'].replace('---', np.nan)\n",
    "for i in data_2002_2['PUNT_BIOLOGIA'].value_counts().index:\n",
    "    if type(i) != int:\n",
    "        data_2002_2['PUNT_BIOLOGIA'] = data_2002_2['PUNT_BIOLOGIA'].replace(i, int(i))"
   ]
  },
  {
   "cell_type": "code",
   "execution_count": 75,
   "metadata": {
    "collapsed": false,
    "scrolled": true
   },
   "outputs": [
    {
     "name": "stdout",
     "output_type": "stream",
     "text": [
      "Index([ '42',  '41',  '44',  '39',  '45',  '47',  '37',  '49',  '36',  '51',\n",
      "        '34',  '52',  '33',  '54',    42,    41,    44,    45,    39,  '56',\n",
      "        '31',    47,    37,    49,  '59',    36,    51,  '29',    34,    52,\n",
      "        '61',    54,  '64',    33,  '27',    56,  '67',    31,    59,  '25',\n",
      "        '72',    61,    29,    64,  '23',  '77',    67,    27,  '21',  '18',\n",
      "          72,  '86',  '15',    25, '---',  '12',   '0',    77,   '8',   '1',\n",
      "         '2',    23,    86, '102',    21,     1,    15,     0,   102,    18,\n",
      "          12,     8,     2],\n",
      "      dtype='object')\n",
      "42     35922\n",
      "41     34995\n",
      "44     34392\n",
      "39     30460\n",
      "45     30032\n",
      "47     24949\n",
      "37     24905\n",
      "49     19196\n",
      "36     18180\n",
      "51     13945\n",
      "34     12091\n",
      "52      9577\n",
      "33      7296\n",
      "54      6315\n",
      "42      5387\n",
      "41      5077\n",
      "44      5063\n",
      "45      4713\n",
      "39      4484\n",
      "56      4126\n",
      "31      4033\n",
      "47      3923\n",
      "37      3530\n",
      "49      3127\n",
      "59      2579\n",
      "36      2545\n",
      "51      2389\n",
      "29      2083\n",
      "34      1756\n",
      "52      1738\n",
      "       ...  \n",
      "64       227\n",
      "23       218\n",
      "77       179\n",
      "67       152\n",
      "27       136\n",
      "21       123\n",
      "18        92\n",
      "72        87\n",
      "86        75\n",
      "15        69\n",
      "25        68\n",
      "---       67\n",
      "12        61\n",
      "0         59\n",
      "77        37\n",
      "8         35\n",
      "1         29\n",
      "2         28\n",
      "23        18\n",
      "86        17\n",
      "102       13\n",
      "21        11\n",
      "1          8\n",
      "15         6\n",
      "0          6\n",
      "102        4\n",
      "18         4\n",
      "12         4\n",
      "8          3\n",
      "2          3\n",
      "Name: PUNT_MATEMATICAS, dtype: int64\n",
      "Elementos null/NaN 0\n",
      "__________________\n",
      "Elementos diferentes de null/NaN: 370306\n",
      "__________________\n",
      "(370306,)\n",
      "None\n"
     ]
    }
   ],
   "source": [
    "print(data_2002_2['PUNT_MATEMATICAS'].value_counts().index)\n",
    "print(data_2002_2['PUNT_MATEMATICAS'].value_counts())\n",
    "print(missing_data(data_2002_2['PUNT_MATEMATICAS']))"
   ]
  },
  {
   "cell_type": "code",
   "execution_count": 76,
   "metadata": {
    "collapsed": false
   },
   "outputs": [],
   "source": [
    "data_2002_2['PUNT_MATEMATICAS'] = data_2002_2['PUNT_MATEMATICAS'].replace('---', np.nan)\n",
    "for i in data_2002_2['PUNT_MATEMATICAS'].value_counts().index:\n",
    "    if type(i) != int:\n",
    "        data_2002_2['PUNT_MATEMATICAS'] = data_2002_2['PUNT_MATEMATICAS'].replace(i, int(i))\n",
    "    if int(i)>100:\n",
    "        data_2002_2['PUNT_MATEMATICAS'] = data_2002_2['PUNT_MATEMATICAS'].replace(i, 100)"
   ]
  },
  {
   "cell_type": "code",
   "execution_count": 77,
   "metadata": {
    "collapsed": false,
    "scrolled": true
   },
   "outputs": [
    {
     "name": "stdout",
     "output_type": "stream",
     "text": [
      "Index(['44', '46', '42', '48', '40', '49', '38', '51', '52', '36', '54', '33',\n",
      "       '55', '30', '57', '58', '26', '60', '21', '61', '---', '12', '63', '0',\n",
      "       '64', '66', '68'],\n",
      "      dtype='object')\n",
      "44     46708\n",
      "46     45883\n",
      "42     42785\n",
      "48     41668\n",
      "40     35027\n",
      "49     34099\n",
      "38     25304\n",
      "51     25175\n",
      "52     17693\n",
      "36     15862\n",
      "54     11263\n",
      "33      8596\n",
      "55      6689\n",
      "30      3910\n",
      "57      3797\n",
      "58      1918\n",
      "26      1466\n",
      "60       865\n",
      "21       467\n",
      "61       346\n",
      "---      239\n",
      "12       210\n",
      "63       156\n",
      "0        108\n",
      "64        50\n",
      "66        15\n",
      "68         7\n",
      "Name: PUNT_FILOSOFIA, dtype: int64\n",
      "Elementos null/NaN 0\n",
      "__________________\n",
      "Elementos diferentes de null/NaN: 370306\n",
      "__________________\n",
      "(370306,)\n",
      "None\n"
     ]
    }
   ],
   "source": [
    "print(data_2002_2['PUNT_FILOSOFIA'].value_counts().index)\n",
    "print(data_2002_2['PUNT_FILOSOFIA'].value_counts())\n",
    "print(missing_data(data_2002_2['PUNT_FILOSOFIA']))"
   ]
  },
  {
   "cell_type": "code",
   "execution_count": 78,
   "metadata": {
    "collapsed": false
   },
   "outputs": [],
   "source": [
    "data_2002_2['PUNT_FILOSOFIA'] = data_2002_2['PUNT_FILOSOFIA'].replace('---', np.nan)\n",
    "for i in data_2002_2['PUNT_FILOSOFIA'].value_counts().sort_index().index:\n",
    "    if type(i) == str:\n",
    "        data_2002_2['PUNT_FILOSOFIA'] = data_2002_2['PUNT_FILOSOFIA'].replace(i, int(i))"
   ]
  },
  {
   "cell_type": "code",
   "execution_count": 79,
   "metadata": {
    "collapsed": false,
    "scrolled": true
   },
   "outputs": [
    {
     "name": "stdout",
     "output_type": "stream",
     "text": [
      "Index([   44,    46,    42,    48,    40,    50,    38,    51,  '44',  '46',\n",
      "        '42',    53,  '48',    35,  '40',  '50',  '38',    55,  '51',    32,\n",
      "        '35',    56,  '53',  '55',    29,    58,  '32',  '56',    60,  '29',\n",
      "        '58',    24,    61,    63,  '60',  '24',    65,  '61',    19,  '63',\n",
      "          66,    68,  '19',  '65',  '66',    70,     9,    72,  '68',    74,\n",
      "         '9',     0,  '74',  '70',    76, '---',  '72',  '76',    79,    82,\n",
      "        '82',    85,  '85',   '0',  '79',  '90'],\n",
      "      dtype='object')\n",
      "44     37061\n",
      "46     36317\n",
      "42     33762\n",
      "48     32046\n",
      "40     26539\n",
      "50     24775\n",
      "38     18240\n",
      "51     17536\n",
      "44     13793\n",
      "46     13250\n",
      "42     12178\n",
      "53     11553\n",
      "48     11250\n",
      "35     10551\n",
      "40      9967\n",
      "50      8460\n",
      "38      6955\n",
      "55      6809\n",
      "51      6065\n",
      "32      5143\n",
      "35      4089\n",
      "56      4003\n",
      "53      3950\n",
      "55      2282\n",
      "29      2139\n",
      "58      2080\n",
      "32      2066\n",
      "56      1312\n",
      "60      1116\n",
      "29       838\n",
      "       ...  \n",
      "65       210\n",
      "61       187\n",
      "19       182\n",
      "63       107\n",
      "66       106\n",
      "68        66\n",
      "19        65\n",
      "65        59\n",
      "66        42\n",
      "70        33\n",
      "9         31\n",
      "72        26\n",
      "68        25\n",
      "74        16\n",
      "9         14\n",
      "0         10\n",
      "74         9\n",
      "70         8\n",
      "76         7\n",
      "---        7\n",
      "72         6\n",
      "76         5\n",
      "79         4\n",
      "82         2\n",
      "82         2\n",
      "85         1\n",
      "85         1\n",
      "0          1\n",
      "79         1\n",
      "90         1\n",
      "Name: PUNT_FISICA, dtype: int64\n",
      "Elementos null/NaN 0\n",
      "__________________\n",
      "Elementos diferentes de null/NaN: 370306\n",
      "__________________\n",
      "(370306,)\n",
      "None\n"
     ]
    }
   ],
   "source": [
    "print(data_2002_2['PUNT_FISICA'].value_counts().index)\n",
    "print(data_2002_2['PUNT_FISICA'].value_counts())\n",
    "print(missing_data(data_2002_2['PUNT_FISICA']))"
   ]
  },
  {
   "cell_type": "code",
   "execution_count": 80,
   "metadata": {
    "collapsed": false,
    "scrolled": true
   },
   "outputs": [],
   "source": [
    "data_2002_2['PUNT_FISICA'] = data_2002_2['PUNT_FISICA'].replace('---', np.nan)\n",
    "for i in data_2002_2['PUNT_FISICA'].value_counts().index:\n",
    "    if type(i) != int:\n",
    "        data_2002_2['PUNT_FISICA'] = data_2002_2['PUNT_FISICA'].replace(i, int(i))"
   ]
  },
  {
   "cell_type": "code",
   "execution_count": 81,
   "metadata": {
    "collapsed": false,
    "scrolled": true
   },
   "outputs": [
    {
     "name": "stdout",
     "output_type": "stream",
     "text": [
      "Index([   43,    42,    44,    40,    46,    39,    47,    48,    37,    49,\n",
      "        '43',  '42',  '44',    35,  '40',    51,  '46',  '47',  '39',  '48',\n",
      "          52,  '37',    33,  '49',    53,  '51',  '35',  '52',    54,    31,\n",
      "        '33',  '53',    56,  '54',  '31',    57,    29,  '56',  '57',    58,\n",
      "        '29',  '58',    25,    60,  '60',    61,  '25',  '61',    63,    21,\n",
      "        '63',  '21',  '65',    65,    67,    14, '---',  '67',  '14',     0,\n",
      "         '0',    69,  '69',  '71',    71],\n",
      "      dtype='object')\n",
      "43     27843\n",
      "42     27188\n",
      "44     26007\n",
      "40     25010\n",
      "46     23302\n",
      "39     20821\n",
      "47     19636\n",
      "48     16043\n",
      "37     15518\n",
      "49     12529\n",
      "43     11133\n",
      "42     11019\n",
      "44     10447\n",
      "35     10225\n",
      "40      9816\n",
      "51      9615\n",
      "46      9580\n",
      "47      8273\n",
      "39      8219\n",
      "48      6869\n",
      "52      6570\n",
      "37      6040\n",
      "33      5893\n",
      "49      5422\n",
      "53      4633\n",
      "51      4146\n",
      "35      4111\n",
      "52      3082\n",
      "54      3058\n",
      "31      2707\n",
      "       ...  \n",
      "57      1095\n",
      "29      1049\n",
      "56      1019\n",
      "57       621\n",
      "58       576\n",
      "29       400\n",
      "58       359\n",
      "25       307\n",
      "60       298\n",
      "60       188\n",
      "61       167\n",
      "25       127\n",
      "61       101\n",
      "63        76\n",
      "21        73\n",
      "63        39\n",
      "21        34\n",
      "65        31\n",
      "65        28\n",
      "67        14\n",
      "14        12\n",
      "---        9\n",
      "67         9\n",
      "14         5\n",
      "0          5\n",
      "0          4\n",
      "69         2\n",
      "69         2\n",
      "71         1\n",
      "71         1\n",
      "Name: PUNT_HISTORIA, dtype: int64\n",
      "Elementos null/NaN 0\n",
      "__________________\n",
      "Elementos diferentes de null/NaN: 370306\n",
      "__________________\n",
      "(370306,)\n",
      "None\n"
     ]
    }
   ],
   "source": [
    "print(data_2002_2['PUNT_HISTORIA'].value_counts().index)\n",
    "print(data_2002_2['PUNT_HISTORIA'].value_counts())\n",
    "print(missing_data(data_2002_2['PUNT_HISTORIA']))"
   ]
  },
  {
   "cell_type": "code",
   "execution_count": 82,
   "metadata": {
    "collapsed": true
   },
   "outputs": [],
   "source": [
    "data_2002_2['PUNT_HISTORIA'] = data_2002_2['PUNT_HISTORIA'].replace('---', np.nan)\n",
    "for i in data_2002_2['PUNT_HISTORIA'].value_counts().index:\n",
    "    if type(i) != int:\n",
    "        data_2002_2['PUNT_HISTORIA'] = data_2002_2['PUNT_HISTORIA'].replace(i, int(i))"
   ]
  },
  {
   "cell_type": "code",
   "execution_count": 83,
   "metadata": {
    "collapsed": false,
    "scrolled": true
   },
   "outputs": [
    {
     "name": "stdout",
     "output_type": "stream",
     "text": [
      "Index([   43,    42,    44,    40,    45,    39,    47,    48,    37,    49,\n",
      "          36,    50,  '43',  '42',  '44',  '40',    51,  '45',  '39',  '47',\n",
      "          52,    34,  '37',  '48',    53,  '49',    55,  '36',  '50',    56,\n",
      "          32,    57,  '51',    58,  '34',  '52',    60,  '53',  '55',    61,\n",
      "          29,    63,  '32',  '56',    65,  '57',    67,  '58',  '60',    69,\n",
      "        '29',    26,  '61',    72,  '63',  '65',  '67',    76,  '26',  '69',\n",
      "          83,    22,  '76',  '72',  '83',    94,  '22',    16, '---',  '94',\n",
      "           0,  '16',   '0'],\n",
      "      dtype='object')\n",
      "43     30521\n",
      "42     30027\n",
      "44     28638\n",
      "40     26892\n",
      "45     24852\n",
      "39     21430\n",
      "47     20769\n",
      "48     16578\n",
      "37     15250\n",
      "49     12700\n",
      "36      9701\n",
      "50      9598\n",
      "43      8623\n",
      "42      8601\n",
      "44      8193\n",
      "40      7546\n",
      "51      7461\n",
      "45      7122\n",
      "39      6320\n",
      "47      5813\n",
      "52      5628\n",
      "34      5488\n",
      "37      4512\n",
      "48      4502\n",
      "53      4389\n",
      "49      3473\n",
      "55      3411\n",
      "36      2898\n",
      "50      2773\n",
      "56      2697\n",
      "       ...  \n",
      "56       704\n",
      "65       616\n",
      "57       582\n",
      "67       454\n",
      "58       453\n",
      "60       351\n",
      "69       321\n",
      "29       300\n",
      "26       296\n",
      "61       254\n",
      "72       247\n",
      "63       218\n",
      "65       150\n",
      "67       140\n",
      "76       126\n",
      "26       108\n",
      "69        90\n",
      "83        79\n",
      "22        73\n",
      "76        58\n",
      "72        54\n",
      "83        30\n",
      "94        23\n",
      "22        21\n",
      "16        16\n",
      "---       11\n",
      "94         7\n",
      "0          5\n",
      "16         4\n",
      "0          1\n",
      "Name: PUNT_QUIMICA, dtype: int64\n",
      "Elementos null/NaN 0\n",
      "__________________\n",
      "Elementos diferentes de null/NaN: 370306\n",
      "__________________\n",
      "(370306,)\n",
      "None\n"
     ]
    }
   ],
   "source": [
    "print(data_2002_2['PUNT_QUIMICA'].value_counts().index)\n",
    "print(data_2002_2['PUNT_QUIMICA'].value_counts())\n",
    "print(missing_data(data_2002_2['PUNT_QUIMICA']))"
   ]
  },
  {
   "cell_type": "code",
   "execution_count": 84,
   "metadata": {
    "collapsed": true
   },
   "outputs": [],
   "source": [
    "data_2002_2['PUNT_QUIMICA'] = data_2002_2['PUNT_QUIMICA'].replace('---', np.nan)\n",
    "for i in data_2002_2['PUNT_QUIMICA'].value_counts().index:\n",
    "    if type(i) != int:\n",
    "        data_2002_2['PUNT_QUIMICA'] = data_2002_2['PUNT_QUIMICA'].replace(i, int(i))"
   ]
  },
  {
   "cell_type": "code",
   "execution_count": 85,
   "metadata": {
    "collapsed": false,
    "scrolled": true
   },
   "outputs": [
    {
     "name": "stdout",
     "output_type": "stream",
     "text": [
      "Index([   46,    45,    48,    49,    43,    50,    42,    52,    53,    40,\n",
      "        '48',  '46',  '49',  '45',    54,  '50',  '52',  '43',    56,  '53',\n",
      "          38,  '42',  '54',    57,  '56',  '40',    58,    36,  '57',    60,\n",
      "        '38',  '58',  '60',    61,    34,  '36',  '61',    63,  '63',    64,\n",
      "        '34',    32,  '64',    66,  '66',  '32',    68,    29,  '68',    70,\n",
      "        '70',  '29',    26,    73,  '73',  '26',    75,    21,  '75',  '21',\n",
      "          79,  '79', '---',    13,  '13',   '0',     0,    83,  '83'],\n",
      "      dtype='object')\n",
      "46     19844\n",
      "45     19454\n",
      "48     19335\n",
      "49     18067\n",
      "43     17746\n",
      "50     16461\n",
      "42     15304\n",
      "52     14469\n",
      "53     12430\n",
      "40     11972\n",
      "48     11504\n",
      "46     11501\n",
      "49     11210\n",
      "45     10953\n",
      "54     10636\n",
      "50     10594\n",
      "52      9609\n",
      "43      9544\n",
      "56      8626\n",
      "53      8433\n",
      "38      8334\n",
      "42      8241\n",
      "54      7478\n",
      "57      6929\n",
      "56      6160\n",
      "40      6157\n",
      "58      5618\n",
      "36      5361\n",
      "57      5313\n",
      "60      4480\n",
      "       ...  \n",
      "64      1608\n",
      "34      1432\n",
      "32      1328\n",
      "64      1276\n",
      "66       957\n",
      "66       830\n",
      "32       671\n",
      "68       569\n",
      "29       567\n",
      "68       456\n",
      "70       331\n",
      "70       264\n",
      "29       262\n",
      "26       168\n",
      "73       140\n",
      "73       109\n",
      "26        94\n",
      "75        61\n",
      "21        47\n",
      "75        42\n",
      "21        19\n",
      "79        18\n",
      "79        16\n",
      "---       13\n",
      "13        11\n",
      "13         5\n",
      "0          4\n",
      "0          4\n",
      "83         3\n",
      "83         3\n",
      "Name: PUNT_LENGUAJE, dtype: int64\n",
      "Elementos null/NaN 0\n",
      "__________________\n",
      "Elementos diferentes de null/NaN: 370306\n",
      "__________________\n",
      "(370306,)\n",
      "None\n"
     ]
    }
   ],
   "source": [
    "print(data_2002_2['PUNT_LENGUAJE'].value_counts().index)\n",
    "print(data_2002_2['PUNT_LENGUAJE'].value_counts())\n",
    "print(missing_data(data_2002_2['PUNT_LENGUAJE']))"
   ]
  },
  {
   "cell_type": "code",
   "execution_count": 86,
   "metadata": {
    "collapsed": true
   },
   "outputs": [],
   "source": [
    "data_2002_2['PUNT_LENGUAJE'] = data_2002_2['PUNT_LENGUAJE'].replace('---', np.nan)\n",
    "for i in data_2002_2['PUNT_LENGUAJE'].value_counts().index:\n",
    "    if type(i) != int:\n",
    "        data_2002_2['PUNT_LENGUAJE'] = data_2002_2['PUNT_LENGUAJE'].replace(i, int(i))"
   ]
  },
  {
   "cell_type": "code",
   "execution_count": 87,
   "metadata": {
    "collapsed": false,
    "scrolled": true
   },
   "outputs": [
    {
     "name": "stdout",
     "output_type": "stream",
     "text": [
      "Index([   42,    44,    40,    45,    39,    47,    37,    48,  '44',  '42',\n",
      "        '45',  '40',    49,  '47',    35,  '39',  '48',    51,  '37',  '49',\n",
      "          33,    52,  '35',  '51',    54,  '52',    31,  '33',  '54',    55,\n",
      "        '31',    28,  '55',    57,  '57',  '28',    58,    26,  '58',  '26',\n",
      "          60,  '60',    22,    61,  '61',  '22',    63,    17,  '63',  '17',\n",
      "          65,  '65',     9,  '67', '---',    67,   '9',    69,     0,  '69',\n",
      "        '71',   '0'],\n",
      "      dtype='object')\n",
      "42     22974\n",
      "44     22861\n",
      "40     22253\n",
      "45     21163\n",
      "39     19837\n",
      "47     18898\n",
      "37     16149\n",
      "48     15656\n",
      "44     14277\n",
      "42     13721\n",
      "45     13366\n",
      "40     13071\n",
      "49     12644\n",
      "47     12009\n",
      "35     11950\n",
      "39     11165\n",
      "48     10294\n",
      "51      9896\n",
      "37      9155\n",
      "49      8532\n",
      "33      7858\n",
      "52      7159\n",
      "35      6652\n",
      "51      6481\n",
      "54      4895\n",
      "52      4877\n",
      "31      4595\n",
      "33      4421\n",
      "54      3469\n",
      "55      3146\n",
      "       ...  \n",
      "55      2230\n",
      "57      1877\n",
      "57      1324\n",
      "28      1269\n",
      "58      1033\n",
      "26       897\n",
      "58       740\n",
      "26       500\n",
      "60       496\n",
      "60       397\n",
      "22       296\n",
      "61       220\n",
      "61       175\n",
      "22       169\n",
      "63       113\n",
      "17        67\n",
      "63        60\n",
      "17        40\n",
      "65        34\n",
      "65        28\n",
      "9         15\n",
      "67        14\n",
      "---       14\n",
      "67        13\n",
      "9         11\n",
      "69         9\n",
      "0          6\n",
      "69         2\n",
      "71         2\n",
      "0          1\n",
      "Name: PUNT_GEOGRAFIA, dtype: int64\n",
      "Elementos null/NaN 0\n",
      "__________________\n",
      "Elementos diferentes de null/NaN: 370306\n",
      "__________________\n",
      "(370306,)\n",
      "None\n"
     ]
    }
   ],
   "source": [
    "print(data_2002_2['PUNT_GEOGRAFIA'].value_counts().index)\n",
    "print(data_2002_2['PUNT_GEOGRAFIA'].value_counts())\n",
    "print(missing_data(data_2002_2['PUNT_GEOGRAFIA']))"
   ]
  },
  {
   "cell_type": "code",
   "execution_count": 88,
   "metadata": {
    "collapsed": true
   },
   "outputs": [],
   "source": [
    "data_2002_2['PUNT_GEOGRAFIA'] = data_2002_2['PUNT_GEOGRAFIA'].replace('---', np.nan)\n",
    "for i in data_2002_2['PUNT_GEOGRAFIA'].value_counts().index:\n",
    "    if type(i) != int:\n",
    "        data_2002_2['PUNT_GEOGRAFIA'] = data_2002_2['PUNT_GEOGRAFIA'].replace(i, int(i))"
   ]
  },
  {
   "cell_type": "code",
   "execution_count": 89,
   "metadata": {
    "collapsed": false,
    "scrolled": true
   },
   "outputs": [
    {
     "name": "stdout",
     "output_type": "stream",
     "text": [
      "Int64Index([43, 44, 45], dtype='int64')\n",
      "43    185468\n",
      "44    149056\n",
      "45     35782\n",
      "Name: COD_INTERDISCIPLINAR, dtype: int64\n",
      "Elementos null/NaN 0\n",
      "__________________\n",
      "Elementos diferentes de null/NaN: 370306\n",
      "__________________\n",
      "(370306,)\n",
      "None\n"
     ]
    }
   ],
   "source": [
    "print(data_2002_2['COD_INTERDISCIPLINAR'].value_counts().sort_index().index)\n",
    "print(data_2002_2['COD_INTERDISCIPLINAR'].value_counts().sort_index())\n",
    "print(missing_data(data_2002_2['COD_INTERDISCIPLINAR']))"
   ]
  },
  {
   "cell_type": "code",
   "execution_count": 90,
   "metadata": {
    "collapsed": false,
    "scrolled": true
   },
   "outputs": [
    {
     "name": "stdout",
     "output_type": "stream",
     "text": [
      "Index(['---', '0', '20', '22', '30', '31', '35', '38', '39', '42', '44', '45',\n",
      "       '48', '49', '51', '52', '53', '54', '55', '56', '57', '58', '59', '60',\n",
      "       '61', '62', '63', '64', '65', '66', '67', '68', '69', '70', '74', '78',\n",
      "       '80', '87', '90', '98'],\n",
      "      dtype='object')\n",
      "---     1555\n",
      "0       1097\n",
      "20       977\n",
      "22      4333\n",
      "30     10731\n",
      "31      2557\n",
      "35     17643\n",
      "38      4733\n",
      "39     21611\n",
      "42     21934\n",
      "44      6181\n",
      "45     19231\n",
      "48     15536\n",
      "49      6348\n",
      "51     12067\n",
      "52        26\n",
      "53      5694\n",
      "54      9024\n",
      "55      1067\n",
      "56      2955\n",
      "57     17850\n",
      "58     17572\n",
      "59     27715\n",
      "60     33016\n",
      "61     39937\n",
      "62     33250\n",
      "63     15487\n",
      "64      8091\n",
      "65      7493\n",
      "66       862\n",
      "67       303\n",
      "68        10\n",
      "69       747\n",
      "70      1536\n",
      "74       264\n",
      "78       618\n",
      "80        87\n",
      "87        12\n",
      "90       152\n",
      "98         4\n",
      "Name: PUNT_INTERDISCIPLINAR, dtype: int64\n",
      "Elementos null/NaN 0\n",
      "__________________\n",
      "Elementos diferentes de null/NaN: 370306\n",
      "__________________\n",
      "(370306,)\n",
      "None\n"
     ]
    }
   ],
   "source": [
    "print(data_2002_2['PUNT_INTERDISCIPLINAR'].value_counts().sort_index().index)\n",
    "print(data_2002_2['PUNT_INTERDISCIPLINAR'].value_counts().sort_index())\n",
    "print(missing_data(data_2002_2['PUNT_INTERDISCIPLINAR']))"
   ]
  },
  {
   "cell_type": "code",
   "execution_count": 91,
   "metadata": {
    "collapsed": true
   },
   "outputs": [],
   "source": [
    "data_2002_2['PUNT_INTERDISCIPLINAR'] = data_2002_2['PUNT_INTERDISCIPLINAR'].replace('---', np.nan)\n",
    "for i in data_2002_2['PUNT_INTERDISCIPLINAR'].value_counts().index:\n",
    "    if type(i) != int:\n",
    "        data_2002_2['PUNT_INTERDISCIPLINAR'] = data_2002_2['PUNT_INTERDISCIPLINAR'].replace(i, int(i))"
   ]
  },
  {
   "cell_type": "code",
   "execution_count": 92,
   "metadata": {
    "collapsed": false,
    "scrolled": true
   },
   "outputs": [
    {
     "name": "stdout",
     "output_type": "stream",
     "text": [
      "Int64Index([51, 52, 53, 99], dtype='int64')\n",
      "51    367824\n",
      "52      2049\n",
      "53       188\n",
      "99       245\n",
      "Name: COD_IDIOMA, dtype: int64\n",
      "Elementos null/NaN 0\n",
      "__________________\n",
      "Elementos diferentes de null/NaN: 370306\n",
      "__________________\n",
      "(370306,)\n",
      "None\n"
     ]
    }
   ],
   "source": [
    "print(data_2002_2['COD_IDIOMA'].value_counts().sort_index().index)\n",
    "print(data_2002_2['COD_IDIOMA'].value_counts().sort_index())\n",
    "print(missing_data(data_2002_2['COD_IDIOMA']))"
   ]
  },
  {
   "cell_type": "code",
   "execution_count": 93,
   "metadata": {
    "collapsed": false,
    "scrolled": true
   },
   "outputs": [
    {
     "name": "stdout",
     "output_type": "stream",
     "text": [
      "Index(['41', '40', '43', '38', '44', '37', '45', '35', '47', '32',\n",
      "       ...\n",
      "       '19', '17',   99,   57,   77,   28,   61,   24,   74,   71],\n",
      "      dtype='object', length=104)\n",
      "41    39017\n",
      "40    38958\n",
      "43    34490\n",
      "38    33939\n",
      "44    27088\n",
      "37    26171\n",
      "45    19908\n",
      "35    16947\n",
      "47    13492\n",
      "32     9105\n",
      "48     8769\n",
      "41     8219\n",
      "40     8043\n",
      "43     7355\n",
      "38     6963\n",
      "44     5951\n",
      "49     5817\n",
      "37     5231\n",
      "45     4417\n",
      "50     4136\n",
      "30     4095\n",
      "35     3324\n",
      "51     3178\n",
      "47     3128\n",
      "53     2493\n",
      "54     2089\n",
      "48     2072\n",
      "55     1824\n",
      "32     1795\n",
      "49     1519\n",
      "      ...  \n",
      "46       21\n",
      "57       18\n",
      "28       15\n",
      "34       14\n",
      "61       12\n",
      "39       12\n",
      "24       10\n",
      "15       10\n",
      "64        9\n",
      "87        8\n",
      "99        6\n",
      "77        4\n",
      "52        3\n",
      "39        3\n",
      "81        3\n",
      "81        3\n",
      "71        2\n",
      "0         2\n",
      "74        2\n",
      "64        2\n",
      "19        1\n",
      "17        1\n",
      "99        1\n",
      "57        1\n",
      "77        1\n",
      "28        1\n",
      "61        1\n",
      "24        1\n",
      "74        1\n",
      "71        1\n",
      "Name: PUNT_IDIOMA, dtype: int64\n",
      "Elementos null/NaN 0\n",
      "__________________\n",
      "Elementos diferentes de null/NaN: 370306\n",
      "__________________\n",
      "(370306,)\n",
      "None\n"
     ]
    }
   ],
   "source": [
    "print(data_2002_2['PUNT_IDIOMA'].value_counts().index)\n",
    "print(data_2002_2['PUNT_IDIOMA'].value_counts())\n",
    "print(missing_data(data_2002_2['PUNT_IDIOMA']))"
   ]
  },
  {
   "cell_type": "code",
   "execution_count": 94,
   "metadata": {
    "collapsed": true
   },
   "outputs": [],
   "source": [
    "data_2002_2['PUNT_IDIOMA'] = data_2002_2['PUNT_IDIOMA'].replace('---', np.nan)\n",
    "data_2002_2['PUNT_IDIOMA'] = data_2002_2['PUNT_IDIOMA'].replace('*', np.nan)\n",
    "for i in data_2002_2['PUNT_IDIOMA'].value_counts().index:\n",
    "    if type(i) != int:\n",
    "        data_2002_2['PUNT_IDIOMA'] = data_2002_2['PUNT_IDIOMA'].replace(i, int(i))"
   ]
  },
  {
   "cell_type": "code",
   "execution_count": 95,
   "metadata": {
    "collapsed": false,
    "scrolled": true
   },
   "outputs": [
    {
     "name": "stdout",
     "output_type": "stream",
     "text": [
      "Float64Index([41.0, 40.0, 43.0, 38.0, 44.0, 37.0, 45.0, 35.0, 47.0, 32.0, 48.0,\n",
      "              49.0, 50.0, 30.0, 51.0, 53.0, 54.0, 55.0, 56.0, 58.0, 27.0, 59.0,\n",
      "              60.0, 62.0, 63.0, 65.0, 67.0, 69.0, 72.0, 22.0, 75.0, 42.0, 80.0,\n",
      "              46.0, 34.0, 15.0, 87.0,  0.0, 52.0, 57.0, 28.0, 39.0, 61.0, 64.0,\n",
      "              24.0, 99.0, 81.0, 77.0, 71.0, 74.0, 19.0, 17.0],\n",
      "             dtype='float64')\n",
      "41.0    47236\n",
      "40.0    47001\n",
      "43.0    41845\n",
      "38.0    40902\n",
      "44.0    33039\n",
      "37.0    31402\n",
      "45.0    24325\n",
      "35.0    20271\n",
      "47.0    16620\n",
      "32.0    10900\n",
      "48.0    10841\n",
      "49.0     7336\n",
      "50.0     5267\n",
      "30.0     4860\n",
      "51.0     4020\n",
      "53.0     3152\n",
      "54.0     2659\n",
      "55.0     2306\n",
      "56.0     1906\n",
      "58.0     1749\n",
      "27.0     1699\n",
      "59.0     1579\n",
      "60.0     1398\n",
      "62.0     1300\n",
      "63.0     1148\n",
      "65.0     1082\n",
      "67.0      938\n",
      "69.0      764\n",
      "72.0      543\n",
      "22.0      433\n",
      "75.0      376\n",
      "42.0      274\n",
      "80.0      191\n",
      "46.0      156\n",
      "34.0      102\n",
      "15.0       97\n",
      "87.0       54\n",
      "0.0        33\n",
      "52.0       27\n",
      "57.0       19\n",
      "28.0       16\n",
      "39.0       15\n",
      "61.0       13\n",
      "64.0       11\n",
      "24.0       11\n",
      "99.0        7\n",
      "81.0        6\n",
      "77.0        5\n",
      "71.0        3\n",
      "74.0        3\n",
      "19.0        1\n",
      "17.0        1\n",
      "Name: PUNT_IDIOMA, dtype: int64\n",
      "Elementos null/NaN 364\n",
      "__________________\n",
      "Elementos diferentes de null/NaN: 369942\n",
      "__________________\n",
      "(369942,)\n",
      "None\n"
     ]
    }
   ],
   "source": [
    "print(data_2002_2['PUNT_IDIOMA'].value_counts().index)\n",
    "print(data_2002_2['PUNT_IDIOMA'].value_counts())\n",
    "print(missing_data(data_2002_2['PUNT_IDIOMA']))"
   ]
  },
  {
   "cell_type": "markdown",
   "metadata": {},
   "source": [
    "____"
   ]
  },
  {
   "cell_type": "markdown",
   "metadata": {},
   "source": [
    "## Treatment of the NaN"
   ]
  },
  {
   "cell_type": "code",
   "execution_count": 96,
   "metadata": {
    "collapsed": false
   },
   "outputs": [
    {
     "name": "stdout",
     "output_type": "stream",
     "text": [
      "cant null antes: 410\n",
      "cant null despues: 3\n",
      "cant null antes: 3\n",
      "cant null despues: 0\n"
     ]
    }
   ],
   "source": [
    "Do_resamples(data_2002_2, 'IND_ANNO_TERMINO_BACHILLERATO', float)"
   ]
  },
  {
   "cell_type": "code",
   "execution_count": 97,
   "metadata": {
    "collapsed": false
   },
   "outputs": [
    {
     "name": "stdout",
     "output_type": "stream",
     "text": [
      "cant null antes: 43107\n",
      "cant null despues: 1\n",
      "cant null antes: 1\n",
      "cant null despues: 0\n"
     ]
    }
   ],
   "source": [
    "Do_resamples(data_2002_2, 'COLE_JORNADA', str)"
   ]
  },
  {
   "cell_type": "code",
   "execution_count": 98,
   "metadata": {
    "collapsed": false
   },
   "outputs": [
    {
     "name": "stdout",
     "output_type": "stream",
     "text": [
      "cant null antes: 19393\n",
      "cant null despues: 0\n"
     ]
    }
   ],
   "source": [
    "Do_resamples(data_2002_2, 'COLE_VALOR_PENSION', str)"
   ]
  },
  {
   "cell_type": "code",
   "execution_count": 99,
   "metadata": {
    "collapsed": false
   },
   "outputs": [],
   "source": [
    "anno = data_2002_2[data_2002_2['ESTU_NACIMIENTO_ANNO'].isnull()].index\n",
    "data_2002_2 = data_2002_2.drop(anno)"
   ]
  },
  {
   "cell_type": "markdown",
   "metadata": {},
   "source": [
    "The columns about limitations will be deleted"
   ]
  },
  {
   "cell_type": "code",
   "execution_count": 100,
   "metadata": {
    "collapsed": true
   },
   "outputs": [],
   "source": [
    "data_2002_2 = data_2002_2.drop(['ESTU_LIMITA_INVIDENTE', 'ESTU_LIMITA_SORDOINTERPRETE', 'ESTU_LIMITA_SORDONOINTERPRETE',\n",
    "                               'ESTU_LIMITA_MOTRIZ'], axis=1)"
   ]
  },
  {
   "cell_type": "code",
   "execution_count": 101,
   "metadata": {
    "collapsed": false
   },
   "outputs": [
    {
     "name": "stdout",
     "output_type": "stream",
     "text": [
      "cant null antes: 39223\n",
      "cant null despues: 76\n",
      "cant null antes: 76\n",
      "cant null despues: 0\n"
     ]
    }
   ],
   "source": [
    "Do_resamples(data_2002_2, 'ESTU_IES_COD_DESEADA', str)"
   ]
  },
  {
   "cell_type": "code",
   "execution_count": 102,
   "metadata": {
    "collapsed": false
   },
   "outputs": [
    {
     "name": "stdout",
     "output_type": "stream",
     "text": [
      "cant null antes: 27235\n",
      "cant null despues: 0\n"
     ]
    }
   ],
   "source": [
    "Do_resamples(data_2002_2, 'ESTU_RAZONINSTITUTO', str)"
   ]
  },
  {
   "cell_type": "code",
   "execution_count": 103,
   "metadata": {
    "collapsed": false
   },
   "outputs": [
    {
     "name": "stdout",
     "output_type": "stream",
     "text": [
      "cant null antes: 24655\n",
      "cant null despues: 310\n",
      "cant null antes: 310\n",
      "cant null despues: 0\n"
     ]
    }
   ],
   "source": [
    "Do_resamples(data_2002_2, 'ESTU_CARRDESEADA_COD', str)"
   ]
  },
  {
   "cell_type": "code",
   "execution_count": 104,
   "metadata": {
    "collapsed": false
   },
   "outputs": [
    {
     "name": "stdout",
     "output_type": "stream",
     "text": [
      "cant null antes: 15575\n",
      "cant null despues: 0\n"
     ]
    }
   ],
   "source": [
    "Do_resamples(data_2002_2, 'ESTU_CARRDESEADA_RAZON', str)"
   ]
  },
  {
   "cell_type": "code",
   "execution_count": 105,
   "metadata": {
    "collapsed": false
   },
   "outputs": [
    {
     "name": "stdout",
     "output_type": "stream",
     "text": [
      "cant null antes: 6509\n",
      "cant null despues: 0\n"
     ]
    }
   ],
   "source": [
    "Do_resamples(data_2002_2, 'FAMI_PERSONAS_HOGAR', str)"
   ]
  },
  {
   "cell_type": "code",
   "execution_count": 106,
   "metadata": {
    "collapsed": false
   },
   "outputs": [
    {
     "name": "stdout",
     "output_type": "stream",
     "text": [
      "cant null antes: 7809\n",
      "cant null despues: 0\n"
     ]
    }
   ],
   "source": [
    "Do_resamples(data_2002_2, 'FAMI_VIVIENDA_PROPIA', str)"
   ]
  },
  {
   "cell_type": "code",
   "execution_count": 107,
   "metadata": {
    "collapsed": false
   },
   "outputs": [
    {
     "name": "stdout",
     "output_type": "stream",
     "text": [
      "cant null antes: 134762\n",
      "cant null despues: 0\n"
     ]
    }
   ],
   "source": [
    "Do_resamples(data_2002_2, 'FAMI_DEUDA_VIVIENDA', str)"
   ]
  },
  {
   "cell_type": "code",
   "execution_count": 108,
   "metadata": {
    "collapsed": false
   },
   "outputs": [
    {
     "name": "stdout",
     "output_type": "stream",
     "text": [
      "cant null antes: 6432\n",
      "cant null despues: 0\n"
     ]
    }
   ],
   "source": [
    "Do_resamples(data_2002_2, 'FAMI_APORTANTES', str)"
   ]
  },
  {
   "cell_type": "code",
   "execution_count": 109,
   "metadata": {
    "collapsed": false
   },
   "outputs": [
    {
     "name": "stdout",
     "output_type": "stream",
     "text": [
      "cant null antes: 9251\n",
      "cant null despues: 1\n",
      "cant null antes: 1\n",
      "cant null despues: 0\n"
     ]
    }
   ],
   "source": [
    "Do_resamples(data_2002_2, 'FAMI_INGRESO_FMILIAR_MENSUAL', str)"
   ]
  },
  {
   "cell_type": "code",
   "execution_count": 110,
   "metadata": {
    "collapsed": false
   },
   "outputs": [
    {
     "name": "stdout",
     "output_type": "stream",
     "text": [
      "cant null antes: 0\n",
      "cant null despues: 0\n"
     ]
    }
   ],
   "source": [
    "Do_resamples(data_2002_2, 'FAMI_INGRESO_FMILIAR_MENSUAL', str)"
   ]
  },
  {
   "cell_type": "code",
   "execution_count": 111,
   "metadata": {
    "collapsed": false
   },
   "outputs": [
    {
     "name": "stdout",
     "output_type": "stream",
     "text": [
      "cant null antes: 31352\n",
      "cant null despues: 0\n"
     ]
    }
   ],
   "source": [
    "Do_resamples(data_2002_2, 'FAMI_LEE_ESCRIBE_PADRE', str)"
   ]
  },
  {
   "cell_type": "code",
   "execution_count": 112,
   "metadata": {
    "collapsed": false
   },
   "outputs": [
    {
     "name": "stdout",
     "output_type": "stream",
     "text": [
      "cant null antes: 11457\n",
      "cant null despues: 0\n"
     ]
    }
   ],
   "source": [
    "Do_resamples(data_2002_2, 'FAMI_LEE_ESCRIBE_MADRE', str)"
   ]
  },
  {
   "cell_type": "code",
   "execution_count": 113,
   "metadata": {
    "collapsed": false
   },
   "outputs": [
    {
     "name": "stdout",
     "output_type": "stream",
     "text": [
      "cant null antes: 42813\n",
      "cant null despues: 0\n"
     ]
    }
   ],
   "source": [
    "Do_resamples(data_2002_2, 'FAMI_EDUCA_PADRE', str)"
   ]
  },
  {
   "cell_type": "code",
   "execution_count": 114,
   "metadata": {
    "collapsed": false
   },
   "outputs": [
    {
     "name": "stdout",
     "output_type": "stream",
     "text": [
      "cant null antes: 27436\n",
      "cant null despues: 0\n"
     ]
    }
   ],
   "source": [
    "Do_resamples(data_2002_2, 'FAMI_EDUCA_MADRE', str)"
   ]
  },
  {
   "cell_type": "code",
   "execution_count": 115,
   "metadata": {
    "collapsed": false
   },
   "outputs": [
    {
     "name": "stdout",
     "output_type": "stream",
     "text": [
      "cant null antes: 48516\n",
      "cant null despues: 0\n"
     ]
    }
   ],
   "source": [
    "Do_resamples(data_2002_2, 'FAMI_OCUPA_PADRE', str)"
   ]
  },
  {
   "cell_type": "code",
   "execution_count": 116,
   "metadata": {
    "collapsed": false
   },
   "outputs": [
    {
     "name": "stdout",
     "output_type": "stream",
     "text": [
      "cant null antes: 25270\n",
      "cant null despues: 0\n"
     ]
    }
   ],
   "source": [
    "Do_resamples(data_2002_2, 'FAMI_OCUPA_MADRE', str)"
   ]
  },
  {
   "cell_type": "code",
   "execution_count": 117,
   "metadata": {
    "collapsed": false
   },
   "outputs": [
    {
     "name": "stdout",
     "output_type": "stream",
     "text": [
      "cant null antes: 22666\n",
      "cant null despues: 0\n"
     ]
    }
   ],
   "source": [
    "Do_resamples(data_2002_2, 'FAMI_NUM_HERMANOS', str)"
   ]
  },
  {
   "cell_type": "code",
   "execution_count": 118,
   "metadata": {
    "collapsed": false
   },
   "outputs": [
    {
     "name": "stdout",
     "output_type": "stream",
     "text": [
      "cant null antes: 42232\n",
      "cant null despues: 1\n",
      "cant null antes: 1\n",
      "cant null despues: 0\n"
     ]
    }
   ],
   "source": [
    "Do_resamples(data_2002_2, 'FAMI_NUM_HERMANOS_EDUSUPERIOR', str)"
   ]
  },
  {
   "cell_type": "code",
   "execution_count": 119,
   "metadata": {
    "collapsed": false
   },
   "outputs": [
    {
     "name": "stdout",
     "output_type": "stream",
     "text": [
      "cant null antes: 19961\n",
      "cant null despues: 1\n",
      "cant null antes: 1\n",
      "cant null despues: 0\n"
     ]
    }
   ],
   "source": [
    "Do_resamples(data_2002_2, 'FAMI_POSICION_HERMANOS', str)"
   ]
  },
  {
   "cell_type": "code",
   "execution_count": 120,
   "metadata": {
    "collapsed": false
   },
   "outputs": [
    {
     "name": "stdout",
     "output_type": "stream",
     "text": [
      "cant null antes: 15669\n",
      "cant null despues: 0\n"
     ]
    }
   ],
   "source": [
    "Do_resamples(data_2002_2, 'FAMI_SOST_PERSONAL', str)"
   ]
  },
  {
   "cell_type": "code",
   "execution_count": 121,
   "metadata": {
    "collapsed": false
   },
   "outputs": [
    {
     "name": "stdout",
     "output_type": "stream",
     "text": [
      "cant null antes: 15167\n",
      "cant null despues: 0\n"
     ]
    }
   ],
   "source": [
    "Do_resamples(data_2002_2, 'ESTU_TRABAJA', str)"
   ]
  },
  {
   "cell_type": "code",
   "execution_count": 122,
   "metadata": {
    "collapsed": false
   },
   "outputs": [
    {
     "name": "stdout",
     "output_type": "stream",
     "text": [
      "cant null antes: 3561\n",
      "cant null despues: 0\n"
     ]
    }
   ],
   "source": [
    "Do_resamples(data_2002_2, 'ESTU_ACT_PROX_ANNO', str)"
   ]
  },
  {
   "cell_type": "code",
   "execution_count": 123,
   "metadata": {
    "collapsed": false
   },
   "outputs": [
    {
     "name": "stdout",
     "output_type": "stream",
     "text": [
      "cant null antes: 13671\n",
      "cant null despues: 0\n"
     ]
    }
   ],
   "source": [
    "Do_resamples(data_2002_2, 'COLE_CALENDARIO', str)"
   ]
  },
  {
   "cell_type": "code",
   "execution_count": 124,
   "metadata": {
    "collapsed": false
   },
   "outputs": [
    {
     "name": "stdout",
     "output_type": "stream",
     "text": [
      "cant null antes: 368067\n",
      "cant null despues: 0\n"
     ]
    }
   ],
   "source": [
    "Do_resamples(data_2002_2, 'COLE_BILINGUE', float)"
   ]
  },
  {
   "cell_type": "code",
   "execution_count": 125,
   "metadata": {
    "collapsed": false
   },
   "outputs": [
    {
     "name": "stdout",
     "output_type": "stream",
     "text": [
      "cant null antes: 13671\n",
      "cant null despues: 0\n"
     ]
    }
   ],
   "source": [
    "Do_resamples(data_2002_2, 'COLE_CARACTER', str)"
   ]
  },
  {
   "cell_type": "code",
   "execution_count": 126,
   "metadata": {
    "collapsed": false
   },
   "outputs": [
    {
     "name": "stdout",
     "output_type": "stream",
     "text": [
      "cant null antes: 13671\n",
      "cant null despues: 0\n"
     ]
    }
   ],
   "source": [
    "Do_resamples(data_2002_2, 'COLE_DEPTO_UBICACION', str)"
   ]
  },
  {
   "cell_type": "code",
   "execution_count": 143,
   "metadata": {
    "collapsed": false
   },
   "outputs": [
    {
     "name": "stdout",
     "output_type": "stream",
     "text": [
      "cant null antes: 0\n",
      "cant null despues: 0\n"
     ]
    }
   ],
   "source": [
    "Do_resamples(data_2002_2, 'COLE_MCPIO_UBICACION', str)"
   ]
  },
  {
   "cell_type": "code",
   "execution_count": 144,
   "metadata": {
    "collapsed": false
   },
   "outputs": [
    {
     "name": "stdout",
     "output_type": "stream",
     "text": [
      "cant null antes: 0\n",
      "cant null despues: 0\n"
     ]
    }
   ],
   "source": [
    "Do_resamples(data_2002_2, 'COLE_COD_ICFES', str)"
   ]
  },
  {
   "cell_type": "markdown",
   "metadata": {},
   "source": [
    "Puntajes"
   ]
  },
  {
   "cell_type": "code",
   "execution_count": 145,
   "metadata": {
    "collapsed": false
   },
   "outputs": [],
   "source": [
    "data_2002_2['PUNT_BIOLOGIA'].fillna(int(np.mean(data_2002_2['PUNT_BIOLOGIA'])), inplace=True)"
   ]
  },
  {
   "cell_type": "code",
   "execution_count": 146,
   "metadata": {
    "collapsed": false
   },
   "outputs": [],
   "source": [
    "data_2002_2['PUNT_MATEMATICAS'].fillna(int(np.mean(data_2002_2['PUNT_MATEMATICAS'])), inplace=True)"
   ]
  },
  {
   "cell_type": "code",
   "execution_count": 147,
   "metadata": {
    "collapsed": false
   },
   "outputs": [],
   "source": [
    "data_2002_2['PUNT_FILOSOFIA'].fillna(int(np.mean(data_2002_2['PUNT_FILOSOFIA'])), inplace=True)"
   ]
  },
  {
   "cell_type": "code",
   "execution_count": 148,
   "metadata": {
    "collapsed": false
   },
   "outputs": [],
   "source": [
    "data_2002_2['PUNT_FISICA'].fillna(int(np.mean(data_2002_2['PUNT_FISICA'])), inplace=True)"
   ]
  },
  {
   "cell_type": "code",
   "execution_count": 149,
   "metadata": {
    "collapsed": false
   },
   "outputs": [],
   "source": [
    "data_2002_2['PUNT_HISTORIA'].fillna(int(np.mean(data_2002_2['PUNT_HISTORIA'])), inplace=True)"
   ]
  },
  {
   "cell_type": "code",
   "execution_count": 150,
   "metadata": {
    "collapsed": false
   },
   "outputs": [],
   "source": [
    "data_2002_2['PUNT_QUIMICA'].fillna(int(np.mean(data_2002_2['PUNT_QUIMICA'])), inplace=True)"
   ]
  },
  {
   "cell_type": "code",
   "execution_count": 151,
   "metadata": {
    "collapsed": false
   },
   "outputs": [],
   "source": [
    "data_2002_2['PUNT_LENGUAJE'].fillna(int(np.mean(data_2002_2['PUNT_LENGUAJE'])), inplace=True)"
   ]
  },
  {
   "cell_type": "code",
   "execution_count": 152,
   "metadata": {
    "collapsed": false
   },
   "outputs": [],
   "source": [
    "data_2002_2['PUNT_GEOGRAFIA'].fillna(int(np.mean(data_2002_2['PUNT_GEOGRAFIA'])), inplace=True)"
   ]
  },
  {
   "cell_type": "code",
   "execution_count": 153,
   "metadata": {
    "collapsed": false
   },
   "outputs": [],
   "source": [
    "data_2002_2['PUNT_INTERDISCIPLINAR'].fillna(int(np.mean(data_2002_2['PUNT_INTERDISCIPLINAR'])), inplace=True)"
   ]
  },
  {
   "cell_type": "code",
   "execution_count": 154,
   "metadata": {
    "collapsed": false
   },
   "outputs": [],
   "source": [
    "data_2002_2['PUNT_IDIOMA'].fillna(int(np.mean(data_2002_2['PUNT_IDIOMA'])), inplace=True)"
   ]
  },
  {
   "cell_type": "code",
   "execution_count": null,
   "metadata": {
    "collapsed": false,
    "scrolled": true
   },
   "outputs": [
    {
     "name": "stdout",
     "output_type": "stream",
     "text": [
      "Index(['0', '000005', '000017', '000018', '000026', '000035', '000054',\n",
      "       '000055', '000059', '000067',\n",
      "       ...\n",
      "       '99887', '99895', '99911', '99929', '9993', '99937', '99952', '9999',\n",
      "       '99994', '999999'],\n",
      "      dtype='object', length=14187)\n",
      "000257    3754\n",
      "0         3130\n",
      "002352    2129\n",
      "002196    1196\n",
      "59        1064\n",
      "000240     813\n",
      "786        621\n",
      "002402     583\n",
      "98285      507\n",
      "11015      497\n",
      "67652      454\n",
      "031617     449\n",
      "14324      438\n",
      "000265     437\n",
      "12211      402\n",
      "3053       399\n",
      "1412       397\n",
      "3699       392\n",
      "67454      382\n",
      "012963     361\n",
      "28696      356\n",
      "23366      350\n",
      "1115       339\n",
      "12955      336\n",
      "14399      328\n",
      "26138      322\n",
      "14563      319\n",
      "19893      317\n",
      "4283       312\n",
      "27102      297\n",
      "          ... \n",
      "029157       1\n",
      "041194       1\n",
      "000820       1\n",
      "088229       1\n",
      "076869       1\n",
      "68077        1\n",
      "1000         1\n",
      "041103       1\n",
      "093567       1\n",
      "035022       1\n",
      "054486       1\n",
      "051029       1\n",
      "100114       1\n",
      "053396       1\n",
      "037986       1\n",
      "010512       1\n",
      "093930       1\n",
      "093682       1\n",
      "039248       1\n",
      "063438       1\n",
      "078956       1\n",
      "023473       1\n",
      "960048       1\n",
      "054171       1\n",
      "080242       1\n",
      "049          1\n",
      "050369       1\n",
      "020081       1\n",
      "007033       1\n",
      "189          1\n",
      "Name: COLE_COD_ICFES, dtype: int64\n",
      "Elementos null/NaN 0\n",
      "__________________\n",
      "Elementos diferentes de null/NaN: 369999\n",
      "__________________\n",
      "(369999,)\n",
      "None\n"
     ]
    }
   ],
   "source": [
    "c = 'COLE_COD_ICFES'\n",
    "print(data_2002_2[c].value_counts().sort_index().index)\n",
    "print(data_2002_2[c].value_counts())\n",
    "print(missing_data(data_2002_2[c]))"
   ]
  },
  {
   "cell_type": "code",
   "execution_count": 155,
   "metadata": {
    "collapsed": false,
    "scrolled": true
   },
   "outputs": [
    {
     "name": "stdout",
     "output_type": "stream",
     "text": [
      "Elementos null/NaN COLE_COD_ICFES                   0\n",
      "IND_ANNO_TERMINO_BACHILLERATO    0\n",
      "COLE_JORNADA                     0\n",
      "COLE_VALOR_PENSION               0\n",
      "ESTU_GENERO                      0\n",
      "ESTU_NACIMIENTO_DIA              0\n",
      "ESTU_NACIMIENTO_MES              0\n",
      "ESTU_NACIMIENTO_ANNO             0\n",
      "ESTU_DEPTO_PRESENTACION          0\n",
      "ESTU_MCPIO_PRESENTACION          0\n",
      "PUNT_BIOLOGIA                    0\n",
      "PUNT_MATEMATICAS                 0\n",
      "PUNT_FILOSOFIA                   0\n",
      "PUNT_FISICA                      0\n",
      "PUNT_HISTORIA                    0\n",
      "PUNT_QUIMICA                     0\n",
      "PUNT_LENGUAJE                    0\n",
      "PUNT_GEOGRAFIA                   0\n",
      "COD_INTERDISCIPLINAR             0\n",
      "PUNT_INTERDISCIPLINAR            0\n",
      "COD_IDIOMA                       0\n",
      "PUNT_IDIOMA                      0\n",
      "ESTU_IES_COD_DESEADA             0\n",
      "ESTU_RAZONINSTITUTO              0\n",
      "ESTU_CARRDESEADA_COD             0\n",
      "ESTU_CARRDESEADA_RAZON           0\n",
      "FAMI_PERSONAS_HOGAR              0\n",
      "FAMI_VIVIENDA_PROPIA             0\n",
      "FAMI_DEUDA_VIVIENDA              0\n",
      "FAMI_APORTANTES                  0\n",
      "FAMI_INGRESO_FMILIAR_MENSUAL     0\n",
      "FAMI_LEE_ESCRIBE_PADRE           0\n",
      "FAMI_LEE_ESCRIBE_MADRE           0\n",
      "FAMI_EDUCA_PADRE                 0\n",
      "FAMI_EDUCA_MADRE                 0\n",
      "FAMI_OCUPA_PADRE                 0\n",
      "FAMI_OCUPA_MADRE                 0\n",
      "FAMI_NUM_HERMANOS                0\n",
      "FAMI_NUM_HERMANOS_EDUSUPERIOR    0\n",
      "FAMI_POSICION_HERMANOS           0\n",
      "FAMI_SOST_PERSONAL               0\n",
      "ESTU_TRABAJA                     0\n",
      "ESTU_ACT_PROX_ANNO               0\n",
      "COLE_CALENDARIO                  0\n",
      "COLE_BILINGUE                    0\n",
      "COLE_CARACTER                    0\n",
      "COLE_DEPTO_UBICACION             0\n",
      "COLE_MCPIO_UBICACION             0\n",
      "ESTU_RESIDE_DEPTO                0\n",
      "ESTU_RESIDE_MCPIO                0\n",
      "dtype: int64\n",
      "__________________\n",
      "Elementos diferentes de null/NaN: COLE_COD_ICFES                   369999\n",
      "IND_ANNO_TERMINO_BACHILLERATO    369999\n",
      "COLE_JORNADA                     369999\n",
      "COLE_VALOR_PENSION               369999\n",
      "ESTU_GENERO                      369999\n",
      "ESTU_NACIMIENTO_DIA              369999\n",
      "ESTU_NACIMIENTO_MES              369999\n",
      "ESTU_NACIMIENTO_ANNO             369999\n",
      "ESTU_DEPTO_PRESENTACION          369999\n",
      "ESTU_MCPIO_PRESENTACION          369999\n",
      "PUNT_BIOLOGIA                    369999\n",
      "PUNT_MATEMATICAS                 369999\n",
      "PUNT_FILOSOFIA                   369999\n",
      "PUNT_FISICA                      369999\n",
      "PUNT_HISTORIA                    369999\n",
      "PUNT_QUIMICA                     369999\n",
      "PUNT_LENGUAJE                    369999\n",
      "PUNT_GEOGRAFIA                   369999\n",
      "COD_INTERDISCIPLINAR             369999\n",
      "PUNT_INTERDISCIPLINAR            369999\n",
      "COD_IDIOMA                       369999\n",
      "PUNT_IDIOMA                      369999\n",
      "ESTU_IES_COD_DESEADA             369999\n",
      "ESTU_RAZONINSTITUTO              369999\n",
      "ESTU_CARRDESEADA_COD             369999\n",
      "ESTU_CARRDESEADA_RAZON           369999\n",
      "FAMI_PERSONAS_HOGAR              369999\n",
      "FAMI_VIVIENDA_PROPIA             369999\n",
      "FAMI_DEUDA_VIVIENDA              369999\n",
      "FAMI_APORTANTES                  369999\n",
      "FAMI_INGRESO_FMILIAR_MENSUAL     369999\n",
      "FAMI_LEE_ESCRIBE_PADRE           369999\n",
      "FAMI_LEE_ESCRIBE_MADRE           369999\n",
      "FAMI_EDUCA_PADRE                 369999\n",
      "FAMI_EDUCA_MADRE                 369999\n",
      "FAMI_OCUPA_PADRE                 369999\n",
      "FAMI_OCUPA_MADRE                 369999\n",
      "FAMI_NUM_HERMANOS                369999\n",
      "FAMI_NUM_HERMANOS_EDUSUPERIOR    369999\n",
      "FAMI_POSICION_HERMANOS           369999\n",
      "FAMI_SOST_PERSONAL               369999\n",
      "ESTU_TRABAJA                     369999\n",
      "ESTU_ACT_PROX_ANNO               369999\n",
      "COLE_CALENDARIO                  369999\n",
      "COLE_BILINGUE                    369999\n",
      "COLE_CARACTER                    369999\n",
      "COLE_DEPTO_UBICACION             369999\n",
      "COLE_MCPIO_UBICACION             369999\n",
      "ESTU_RESIDE_DEPTO                369999\n",
      "ESTU_RESIDE_MCPIO                369999\n",
      "dtype: int64\n",
      "__________________\n",
      "(369999, 50)\n"
     ]
    }
   ],
   "source": [
    "missing_data(data_2002_2)"
   ]
  },
  {
   "cell_type": "markdown",
   "metadata": {},
   "source": [
    "### Now, i transform the Obtained Dataframes to a csv file"
   ]
  },
  {
   "cell_type": "code",
   "execution_count": 156,
   "metadata": {
    "collapsed": true
   },
   "outputs": [],
   "source": [
    "data_2002 = label_encoder(data_2002)\n",
    "data_2002_2 = label_encoder(data_2002_2)"
   ]
  },
  {
   "cell_type": "code",
   "execution_count": 157,
   "metadata": {
    "collapsed": true
   },
   "outputs": [],
   "source": [
    "data_2002.to_csv('../DatosFTPICFES/SABER11/SB11-BASES_DE_DATOS/READY/2002_1.csv', sep = ';', index = False)\n",
    "data_2002_2.to_csv('../DatosFTPICFES/SABER11/SB11-BASES_DE_DATOS/READY/2002_2.csv', sep = ';', index = False)"
   ]
  }
 ],
 "metadata": {
  "kernelspec": {
   "display_name": "Python 3 + Anaconda",
   "language": "python",
   "name": "pyconda3"
  },
  "language_info": {
   "codemirror_mode": {
    "name": "ipython",
    "version": 3
   },
   "file_extension": ".py",
   "mimetype": "text/x-python",
   "name": "python",
   "nbconvert_exporter": "python",
   "pygments_lexer": "ipython3",
   "version": "3.5.1"
  }
 },
 "nbformat": 4,
 "nbformat_minor": 0
}
