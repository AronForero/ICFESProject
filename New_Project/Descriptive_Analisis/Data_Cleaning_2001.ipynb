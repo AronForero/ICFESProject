{
 "cells": [
  {
   "cell_type": "code",
   "execution_count": 2,
   "metadata": {
    "collapsed": true
   },
   "outputs": [],
   "source": [
    "import pandas as pd\n",
    "import numpy as np\n",
    "%run -i ../tools/functions.py\n",
    "%run -i ../tools/label_encoder.py"
   ]
  },
  {
   "cell_type": "code",
   "execution_count": 3,
   "metadata": {
    "collapsed": false
   },
   "outputs": [
    {
     "name": "stderr",
     "output_type": "stream",
     "text": [
      "/usr/local/anaconda3/lib/python3.5/site-packages/IPython/core/interactiveshell.py:2723: DtypeWarning: Columns (12,31) have mixed types. Specify dtype option on import or set low_memory=False.\n",
      "  interactivity=interactivity, compiler=compiler, result=result)\n"
     ]
    }
   ],
   "source": [
    "data_2001 = pd.read_csv('../DatosFTPICFES/SABER11/SB11-BASES_DE_DATOS/SB11-20011-RGSTRO-CLFCCN-V1-0.txt', delimiter=\"|\",\n",
    "                       encoding = \"iso-8859-1\")"
   ]
  },
  {
   "cell_type": "code",
   "execution_count": 4,
   "metadata": {
    "collapsed": false
   },
   "outputs": [
    {
     "data": {
      "text/plain": [
       "(77961, 57)"
      ]
     },
     "execution_count": 4,
     "metadata": {},
     "output_type": "execute_result"
    }
   ],
   "source": [
    "data_2001.shape"
   ]
  },
  {
   "cell_type": "code",
   "execution_count": 5,
   "metadata": {
    "collapsed": false
   },
   "outputs": [
    {
     "data": {
      "text/html": [
       "<div>\n",
       "<table border=\"1\" class=\"dataframe\">\n",
       "  <thead>\n",
       "    <tr style=\"text-align: right;\">\n",
       "      <th></th>\n",
       "      <th>0</th>\n",
       "      <th>1</th>\n",
       "      <th>2</th>\n",
       "    </tr>\n",
       "  </thead>\n",
       "  <tbody>\n",
       "    <tr>\n",
       "      <th>ESTU_CONSECUTIVO</th>\n",
       "      <td>SB11200110000001</td>\n",
       "      <td>SB11200110000002</td>\n",
       "      <td>SB11200110000003</td>\n",
       "    </tr>\n",
       "    <tr>\n",
       "      <th>COLE_COD_ICFES</th>\n",
       "      <td>78709</td>\n",
       "      <td>89474</td>\n",
       "      <td>89094</td>\n",
       "    </tr>\n",
       "    <tr>\n",
       "      <th>COLE_NOMBRE_SEDE</th>\n",
       "      <td>COLEGIO MIXTO FRAY PEÑA</td>\n",
       "      <td>INSTITUTO EDUCATIVO DEL VALLE</td>\n",
       "      <td>INSTITUTO TECNICO AGROPECUARIO POLICARPA SALAV...</td>\n",
       "    </tr>\n",
       "    <tr>\n",
       "      <th>IND_ANNO_TERMINO_BACHILLERATO</th>\n",
       "      <td>2001</td>\n",
       "      <td>2001</td>\n",
       "      <td>2001</td>\n",
       "    </tr>\n",
       "    <tr>\n",
       "      <th>COLE_JORNADA</th>\n",
       "      <td>C</td>\n",
       "      <td>C</td>\n",
       "      <td>C</td>\n",
       "    </tr>\n",
       "    <tr>\n",
       "      <th>COLE_VALOR_PENSION</th>\n",
       "      <td>3</td>\n",
       "      <td>1</td>\n",
       "      <td>1</td>\n",
       "    </tr>\n",
       "    <tr>\n",
       "      <th>ESTU_GENERO</th>\n",
       "      <td>M</td>\n",
       "      <td>F</td>\n",
       "      <td>F</td>\n",
       "    </tr>\n",
       "    <tr>\n",
       "      <th>ESTU_NACIMIENTO_DIA</th>\n",
       "      <td>14</td>\n",
       "      <td>20</td>\n",
       "      <td>16</td>\n",
       "    </tr>\n",
       "    <tr>\n",
       "      <th>ESTU_NACIMIENTO_MES</th>\n",
       "      <td>11</td>\n",
       "      <td>5</td>\n",
       "      <td>5</td>\n",
       "    </tr>\n",
       "    <tr>\n",
       "      <th>ESTU_NACIMIENTO_ANNO</th>\n",
       "      <td>1984</td>\n",
       "      <td>1985</td>\n",
       "      <td>1985</td>\n",
       "    </tr>\n",
       "    <tr>\n",
       "      <th>ESTU_DEPTO_PRESENTACION</th>\n",
       "      <td>VALLE</td>\n",
       "      <td>VALLE</td>\n",
       "      <td>VALLE</td>\n",
       "    </tr>\n",
       "    <tr>\n",
       "      <th>ESTU_MCPIO_PRESENTACION</th>\n",
       "      <td>YUMBO</td>\n",
       "      <td>YUMBO</td>\n",
       "      <td>YUMBO</td>\n",
       "    </tr>\n",
       "    <tr>\n",
       "      <th>ESTU_LIMITA_INVIDENTE</th>\n",
       "      <td>NaN</td>\n",
       "      <td>NaN</td>\n",
       "      <td>NaN</td>\n",
       "    </tr>\n",
       "    <tr>\n",
       "      <th>ESTU_LIMITA_SORDOINTERPRETE</th>\n",
       "      <td>NaN</td>\n",
       "      <td>NaN</td>\n",
       "      <td>NaN</td>\n",
       "    </tr>\n",
       "    <tr>\n",
       "      <th>ESTU_LIMITA_SORDONOINTERPRETE</th>\n",
       "      <td>NaN</td>\n",
       "      <td>NaN</td>\n",
       "      <td>NaN</td>\n",
       "    </tr>\n",
       "    <tr>\n",
       "      <th>ESTU_LIMITA_MOTRIZ</th>\n",
       "      <td>NaN</td>\n",
       "      <td>NaN</td>\n",
       "      <td>NaN</td>\n",
       "    </tr>\n",
       "    <tr>\n",
       "      <th>PUNT_BIOLOGIA</th>\n",
       "      <td>49</td>\n",
       "      <td>45</td>\n",
       "      <td>37</td>\n",
       "    </tr>\n",
       "    <tr>\n",
       "      <th>PUNT_MATEMATICAS</th>\n",
       "      <td>42</td>\n",
       "      <td>49</td>\n",
       "      <td>41</td>\n",
       "    </tr>\n",
       "    <tr>\n",
       "      <th>PUNT_FILOSOFIA</th>\n",
       "      <td>43</td>\n",
       "      <td>52</td>\n",
       "      <td>44</td>\n",
       "    </tr>\n",
       "    <tr>\n",
       "      <th>PUNT_FISICA</th>\n",
       "      <td>42</td>\n",
       "      <td>50</td>\n",
       "      <td>42</td>\n",
       "    </tr>\n",
       "    <tr>\n",
       "      <th>PUNT_HISTORIA</th>\n",
       "      <td>36</td>\n",
       "      <td>43</td>\n",
       "      <td>35</td>\n",
       "    </tr>\n",
       "    <tr>\n",
       "      <th>PUNT_QUIMICA</th>\n",
       "      <td>43</td>\n",
       "      <td>40</td>\n",
       "      <td>32</td>\n",
       "    </tr>\n",
       "    <tr>\n",
       "      <th>PUNT_LENGUAJE</th>\n",
       "      <td>44</td>\n",
       "      <td>46</td>\n",
       "      <td>44</td>\n",
       "    </tr>\n",
       "    <tr>\n",
       "      <th>PUNT_GEOGRAFIA</th>\n",
       "      <td>38</td>\n",
       "      <td>54</td>\n",
       "      <td>40</td>\n",
       "    </tr>\n",
       "    <tr>\n",
       "      <th>COD_INTERDISCIPLINAR</th>\n",
       "      <td>43</td>\n",
       "      <td>43</td>\n",
       "      <td>43</td>\n",
       "    </tr>\n",
       "    <tr>\n",
       "      <th>PUNT_INTERDISCIPLINAR</th>\n",
       "      <td>59</td>\n",
       "      <td>62</td>\n",
       "      <td>61</td>\n",
       "    </tr>\n",
       "    <tr>\n",
       "      <th>COD_IDIOMA</th>\n",
       "      <td>51</td>\n",
       "      <td>51</td>\n",
       "      <td>51</td>\n",
       "    </tr>\n",
       "    <tr>\n",
       "      <th>PUNT_IDIOMA</th>\n",
       "      <td>35</td>\n",
       "      <td>39</td>\n",
       "      <td>35</td>\n",
       "    </tr>\n",
       "    <tr>\n",
       "      <th>ESTU_IES_COD_DESEADA</th>\n",
       "      <td>1203</td>\n",
       "      <td>4107</td>\n",
       "      <td>1203</td>\n",
       "    </tr>\n",
       "    <tr>\n",
       "      <th>ESTU_RAZONINSTITUTO</th>\n",
       "      <td>2</td>\n",
       "      <td>8</td>\n",
       "      <td>8</td>\n",
       "    </tr>\n",
       "    <tr>\n",
       "      <th>ESTU_CARRDESEADA_COD</th>\n",
       "      <td>28198</td>\n",
       "      <td>21125</td>\n",
       "      <td>48118</td>\n",
       "    </tr>\n",
       "    <tr>\n",
       "      <th>ESTU_CARRDESEADA_RAZON</th>\n",
       "      <td>3</td>\n",
       "      <td>3</td>\n",
       "      <td>3</td>\n",
       "    </tr>\n",
       "    <tr>\n",
       "      <th>FAMI_PERSONAS_HOGAR</th>\n",
       "      <td>5</td>\n",
       "      <td>3</td>\n",
       "      <td>5</td>\n",
       "    </tr>\n",
       "    <tr>\n",
       "      <th>FAMI_VIVIENDA_PROPIA</th>\n",
       "      <td>S</td>\n",
       "      <td>S</td>\n",
       "      <td>S</td>\n",
       "    </tr>\n",
       "    <tr>\n",
       "      <th>FAMI_DEUDA_VIVIENDA</th>\n",
       "      <td>N</td>\n",
       "      <td>N</td>\n",
       "      <td>N</td>\n",
       "    </tr>\n",
       "    <tr>\n",
       "      <th>FAMI_APORTANTES</th>\n",
       "      <td>2</td>\n",
       "      <td>1</td>\n",
       "      <td>1</td>\n",
       "    </tr>\n",
       "    <tr>\n",
       "      <th>FAMI_INGRESO_FMILIAR_MENSUAL</th>\n",
       "      <td>0</td>\n",
       "      <td>0</td>\n",
       "      <td>0</td>\n",
       "    </tr>\n",
       "    <tr>\n",
       "      <th>FAMI_LEE_ESCRIBE_PADRE</th>\n",
       "      <td>S</td>\n",
       "      <td>NaN</td>\n",
       "      <td>S</td>\n",
       "    </tr>\n",
       "    <tr>\n",
       "      <th>FAMI_LEE_ESCRIBE_MADRE</th>\n",
       "      <td>S</td>\n",
       "      <td>S</td>\n",
       "      <td>S</td>\n",
       "    </tr>\n",
       "    <tr>\n",
       "      <th>FAMI_EDUCA_PADRE</th>\n",
       "      <td>3</td>\n",
       "      <td>NaN</td>\n",
       "      <td>3</td>\n",
       "    </tr>\n",
       "    <tr>\n",
       "      <th>FAMI_EDUCA_MADRE</th>\n",
       "      <td>3</td>\n",
       "      <td>*</td>\n",
       "      <td>3</td>\n",
       "    </tr>\n",
       "    <tr>\n",
       "      <th>FAMI_OCUPA_PADRE</th>\n",
       "      <td>08</td>\n",
       "      <td>NaN</td>\n",
       "      <td>08</td>\n",
       "    </tr>\n",
       "    <tr>\n",
       "      <th>FAMI_OCUPA_MADRE</th>\n",
       "      <td>08</td>\n",
       "      <td>08</td>\n",
       "      <td>10</td>\n",
       "    </tr>\n",
       "    <tr>\n",
       "      <th>FAMI_NUM_HERMANOS</th>\n",
       "      <td>2</td>\n",
       "      <td>1</td>\n",
       "      <td>2</td>\n",
       "    </tr>\n",
       "    <tr>\n",
       "      <th>FAMI_NUM_HERMANOS_EDUSUPERIOR</th>\n",
       "      <td>0</td>\n",
       "      <td>0</td>\n",
       "      <td>1</td>\n",
       "    </tr>\n",
       "    <tr>\n",
       "      <th>FAMI_POSICION_HERMANOS</th>\n",
       "      <td>2</td>\n",
       "      <td>1</td>\n",
       "      <td>2</td>\n",
       "    </tr>\n",
       "    <tr>\n",
       "      <th>FAMI_SOST_PERSONAL</th>\n",
       "      <td>T</td>\n",
       "      <td>T</td>\n",
       "      <td>T</td>\n",
       "    </tr>\n",
       "    <tr>\n",
       "      <th>ESTU_TRABAJA</th>\n",
       "      <td>NaN</td>\n",
       "      <td>N</td>\n",
       "      <td>N</td>\n",
       "    </tr>\n",
       "    <tr>\n",
       "      <th>ESTU_ACT_PROX_ANNO</th>\n",
       "      <td>3</td>\n",
       "      <td>2</td>\n",
       "      <td>3</td>\n",
       "    </tr>\n",
       "    <tr>\n",
       "      <th>COLE_CALENDARIO</th>\n",
       "      <td>B</td>\n",
       "      <td>B</td>\n",
       "      <td>B</td>\n",
       "    </tr>\n",
       "    <tr>\n",
       "      <th>COLE_BILINGUE</th>\n",
       "      <td>NaN</td>\n",
       "      <td>NaN</td>\n",
       "      <td>NaN</td>\n",
       "    </tr>\n",
       "    <tr>\n",
       "      <th>COLE_CARACTER</th>\n",
       "      <td>TECNICO</td>\n",
       "      <td>TECNICO</td>\n",
       "      <td>TECNICO</td>\n",
       "    </tr>\n",
       "    <tr>\n",
       "      <th>COLE_DEPTO_UBICACION</th>\n",
       "      <td>VALLE</td>\n",
       "      <td>VALLE</td>\n",
       "      <td>VALLE</td>\n",
       "    </tr>\n",
       "    <tr>\n",
       "      <th>COLE_MCPIO_UBICACION</th>\n",
       "      <td>YUMBO</td>\n",
       "      <td>YUMBO</td>\n",
       "      <td>YUMBO</td>\n",
       "    </tr>\n",
       "    <tr>\n",
       "      <th>ESTU_RESIDE_DEPTO</th>\n",
       "      <td>T</td>\n",
       "      <td>T</td>\n",
       "      <td>T</td>\n",
       "    </tr>\n",
       "    <tr>\n",
       "      <th>ESTU_RESIDE_MCPIO</th>\n",
       "      <td>VALLE</td>\n",
       "      <td>VALLE</td>\n",
       "      <td>VALLE</td>\n",
       "    </tr>\n",
       "    <tr>\n",
       "      <th>ESTU_TIPO_DOCUMENTO</th>\n",
       "      <td>YUMBO</td>\n",
       "      <td>YUMBO</td>\n",
       "      <td>CALI</td>\n",
       "    </tr>\n",
       "  </tbody>\n",
       "</table>\n",
       "</div>"
      ],
      "text/plain": [
       "                                                     0  \\\n",
       "ESTU_CONSECUTIVO                      SB11200110000001   \n",
       "COLE_COD_ICFES                                   78709   \n",
       "COLE_NOMBRE_SEDE               COLEGIO MIXTO FRAY PEÑA   \n",
       "IND_ANNO_TERMINO_BACHILLERATO                     2001   \n",
       "COLE_JORNADA                                         C   \n",
       "COLE_VALOR_PENSION                                   3   \n",
       "ESTU_GENERO                                          M   \n",
       "ESTU_NACIMIENTO_DIA                                 14   \n",
       "ESTU_NACIMIENTO_MES                                 11   \n",
       "ESTU_NACIMIENTO_ANNO                              1984   \n",
       "ESTU_DEPTO_PRESENTACION                          VALLE   \n",
       "ESTU_MCPIO_PRESENTACION                          YUMBO   \n",
       "ESTU_LIMITA_INVIDENTE                              NaN   \n",
       "ESTU_LIMITA_SORDOINTERPRETE                        NaN   \n",
       "ESTU_LIMITA_SORDONOINTERPRETE                      NaN   \n",
       "ESTU_LIMITA_MOTRIZ                                 NaN   \n",
       "PUNT_BIOLOGIA                                       49   \n",
       "PUNT_MATEMATICAS                                    42   \n",
       "PUNT_FILOSOFIA                                      43   \n",
       "PUNT_FISICA                                         42   \n",
       "PUNT_HISTORIA                                       36   \n",
       "PUNT_QUIMICA                                        43   \n",
       "PUNT_LENGUAJE                                       44   \n",
       "PUNT_GEOGRAFIA                                      38   \n",
       "COD_INTERDISCIPLINAR                                43   \n",
       "PUNT_INTERDISCIPLINAR                               59   \n",
       "COD_IDIOMA                                          51   \n",
       "PUNT_IDIOMA                                         35   \n",
       "ESTU_IES_COD_DESEADA                              1203   \n",
       "ESTU_RAZONINSTITUTO                                  2   \n",
       "ESTU_CARRDESEADA_COD                             28198   \n",
       "ESTU_CARRDESEADA_RAZON                               3   \n",
       "FAMI_PERSONAS_HOGAR                                  5   \n",
       "FAMI_VIVIENDA_PROPIA                                 S   \n",
       "FAMI_DEUDA_VIVIENDA                                  N   \n",
       "FAMI_APORTANTES                                      2   \n",
       "FAMI_INGRESO_FMILIAR_MENSUAL                         0   \n",
       "FAMI_LEE_ESCRIBE_PADRE                               S   \n",
       "FAMI_LEE_ESCRIBE_MADRE                               S   \n",
       "FAMI_EDUCA_PADRE                                     3   \n",
       "FAMI_EDUCA_MADRE                                     3   \n",
       "FAMI_OCUPA_PADRE                                    08   \n",
       "FAMI_OCUPA_MADRE                                    08   \n",
       "FAMI_NUM_HERMANOS                                    2   \n",
       "FAMI_NUM_HERMANOS_EDUSUPERIOR                        0   \n",
       "FAMI_POSICION_HERMANOS                               2   \n",
       "FAMI_SOST_PERSONAL                                   T   \n",
       "ESTU_TRABAJA                                       NaN   \n",
       "ESTU_ACT_PROX_ANNO                                   3   \n",
       "COLE_CALENDARIO                                      B   \n",
       "COLE_BILINGUE                                      NaN   \n",
       "COLE_CARACTER                                  TECNICO   \n",
       "COLE_DEPTO_UBICACION                             VALLE   \n",
       "COLE_MCPIO_UBICACION                             YUMBO   \n",
       "ESTU_RESIDE_DEPTO                                    T   \n",
       "ESTU_RESIDE_MCPIO                                VALLE   \n",
       "ESTU_TIPO_DOCUMENTO                              YUMBO   \n",
       "\n",
       "                                                           1  \\\n",
       "ESTU_CONSECUTIVO                            SB11200110000002   \n",
       "COLE_COD_ICFES                                         89474   \n",
       "COLE_NOMBRE_SEDE               INSTITUTO EDUCATIVO DEL VALLE   \n",
       "IND_ANNO_TERMINO_BACHILLERATO                           2001   \n",
       "COLE_JORNADA                                               C   \n",
       "COLE_VALOR_PENSION                                         1   \n",
       "ESTU_GENERO                                                F   \n",
       "ESTU_NACIMIENTO_DIA                                       20   \n",
       "ESTU_NACIMIENTO_MES                                        5   \n",
       "ESTU_NACIMIENTO_ANNO                                    1985   \n",
       "ESTU_DEPTO_PRESENTACION                                VALLE   \n",
       "ESTU_MCPIO_PRESENTACION                                YUMBO   \n",
       "ESTU_LIMITA_INVIDENTE                                    NaN   \n",
       "ESTU_LIMITA_SORDOINTERPRETE                              NaN   \n",
       "ESTU_LIMITA_SORDONOINTERPRETE                            NaN   \n",
       "ESTU_LIMITA_MOTRIZ                                       NaN   \n",
       "PUNT_BIOLOGIA                                             45   \n",
       "PUNT_MATEMATICAS                                          49   \n",
       "PUNT_FILOSOFIA                                            52   \n",
       "PUNT_FISICA                                               50   \n",
       "PUNT_HISTORIA                                             43   \n",
       "PUNT_QUIMICA                                              40   \n",
       "PUNT_LENGUAJE                                             46   \n",
       "PUNT_GEOGRAFIA                                            54   \n",
       "COD_INTERDISCIPLINAR                                      43   \n",
       "PUNT_INTERDISCIPLINAR                                     62   \n",
       "COD_IDIOMA                                                51   \n",
       "PUNT_IDIOMA                                               39   \n",
       "ESTU_IES_COD_DESEADA                                    4107   \n",
       "ESTU_RAZONINSTITUTO                                        8   \n",
       "ESTU_CARRDESEADA_COD                                   21125   \n",
       "ESTU_CARRDESEADA_RAZON                                     3   \n",
       "FAMI_PERSONAS_HOGAR                                        3   \n",
       "FAMI_VIVIENDA_PROPIA                                       S   \n",
       "FAMI_DEUDA_VIVIENDA                                        N   \n",
       "FAMI_APORTANTES                                            1   \n",
       "FAMI_INGRESO_FMILIAR_MENSUAL                               0   \n",
       "FAMI_LEE_ESCRIBE_PADRE                                   NaN   \n",
       "FAMI_LEE_ESCRIBE_MADRE                                     S   \n",
       "FAMI_EDUCA_PADRE                                         NaN   \n",
       "FAMI_EDUCA_MADRE                                           *   \n",
       "FAMI_OCUPA_PADRE                                         NaN   \n",
       "FAMI_OCUPA_MADRE                                          08   \n",
       "FAMI_NUM_HERMANOS                                          1   \n",
       "FAMI_NUM_HERMANOS_EDUSUPERIOR                              0   \n",
       "FAMI_POSICION_HERMANOS                                     1   \n",
       "FAMI_SOST_PERSONAL                                         T   \n",
       "ESTU_TRABAJA                                               N   \n",
       "ESTU_ACT_PROX_ANNO                                         2   \n",
       "COLE_CALENDARIO                                            B   \n",
       "COLE_BILINGUE                                            NaN   \n",
       "COLE_CARACTER                                        TECNICO   \n",
       "COLE_DEPTO_UBICACION                                   VALLE   \n",
       "COLE_MCPIO_UBICACION                                   YUMBO   \n",
       "ESTU_RESIDE_DEPTO                                          T   \n",
       "ESTU_RESIDE_MCPIO                                      VALLE   \n",
       "ESTU_TIPO_DOCUMENTO                                    YUMBO   \n",
       "\n",
       "                                                                               2  \n",
       "ESTU_CONSECUTIVO                                                SB11200110000003  \n",
       "COLE_COD_ICFES                                                             89094  \n",
       "COLE_NOMBRE_SEDE               INSTITUTO TECNICO AGROPECUARIO POLICARPA SALAV...  \n",
       "IND_ANNO_TERMINO_BACHILLERATO                                               2001  \n",
       "COLE_JORNADA                                                                   C  \n",
       "COLE_VALOR_PENSION                                                             1  \n",
       "ESTU_GENERO                                                                    F  \n",
       "ESTU_NACIMIENTO_DIA                                                           16  \n",
       "ESTU_NACIMIENTO_MES                                                            5  \n",
       "ESTU_NACIMIENTO_ANNO                                                        1985  \n",
       "ESTU_DEPTO_PRESENTACION                                                    VALLE  \n",
       "ESTU_MCPIO_PRESENTACION                                                    YUMBO  \n",
       "ESTU_LIMITA_INVIDENTE                                                        NaN  \n",
       "ESTU_LIMITA_SORDOINTERPRETE                                                  NaN  \n",
       "ESTU_LIMITA_SORDONOINTERPRETE                                                NaN  \n",
       "ESTU_LIMITA_MOTRIZ                                                           NaN  \n",
       "PUNT_BIOLOGIA                                                                 37  \n",
       "PUNT_MATEMATICAS                                                              41  \n",
       "PUNT_FILOSOFIA                                                                44  \n",
       "PUNT_FISICA                                                                   42  \n",
       "PUNT_HISTORIA                                                                 35  \n",
       "PUNT_QUIMICA                                                                  32  \n",
       "PUNT_LENGUAJE                                                                 44  \n",
       "PUNT_GEOGRAFIA                                                                40  \n",
       "COD_INTERDISCIPLINAR                                                          43  \n",
       "PUNT_INTERDISCIPLINAR                                                         61  \n",
       "COD_IDIOMA                                                                    51  \n",
       "PUNT_IDIOMA                                                                   35  \n",
       "ESTU_IES_COD_DESEADA                                                        1203  \n",
       "ESTU_RAZONINSTITUTO                                                            8  \n",
       "ESTU_CARRDESEADA_COD                                                       48118  \n",
       "ESTU_CARRDESEADA_RAZON                                                         3  \n",
       "FAMI_PERSONAS_HOGAR                                                            5  \n",
       "FAMI_VIVIENDA_PROPIA                                                           S  \n",
       "FAMI_DEUDA_VIVIENDA                                                            N  \n",
       "FAMI_APORTANTES                                                                1  \n",
       "FAMI_INGRESO_FMILIAR_MENSUAL                                                   0  \n",
       "FAMI_LEE_ESCRIBE_PADRE                                                         S  \n",
       "FAMI_LEE_ESCRIBE_MADRE                                                         S  \n",
       "FAMI_EDUCA_PADRE                                                               3  \n",
       "FAMI_EDUCA_MADRE                                                               3  \n",
       "FAMI_OCUPA_PADRE                                                              08  \n",
       "FAMI_OCUPA_MADRE                                                              10  \n",
       "FAMI_NUM_HERMANOS                                                              2  \n",
       "FAMI_NUM_HERMANOS_EDUSUPERIOR                                                  1  \n",
       "FAMI_POSICION_HERMANOS                                                         2  \n",
       "FAMI_SOST_PERSONAL                                                             T  \n",
       "ESTU_TRABAJA                                                                   N  \n",
       "ESTU_ACT_PROX_ANNO                                                             3  \n",
       "COLE_CALENDARIO                                                                B  \n",
       "COLE_BILINGUE                                                                NaN  \n",
       "COLE_CARACTER                                                            TECNICO  \n",
       "COLE_DEPTO_UBICACION                                                       VALLE  \n",
       "COLE_MCPIO_UBICACION                                                       YUMBO  \n",
       "ESTU_RESIDE_DEPTO                                                              T  \n",
       "ESTU_RESIDE_MCPIO                                                          VALLE  \n",
       "ESTU_TIPO_DOCUMENTO                                                         CALI  "
      ]
     },
     "execution_count": 5,
     "metadata": {},
     "output_type": "execute_result"
    }
   ],
   "source": [
    "data_2001.head(3).T"
   ]
  },
  {
   "cell_type": "code",
   "execution_count": 6,
   "metadata": {
    "collapsed": true
   },
   "outputs": [],
   "source": [
    "\"\"\"Something estrange happened, there are two columns that are in the wrong place (ESTU_RESIDE_DEPTO, \n",
    "ESTU_TIPO_DOCUMENTO), so here i fix the problem\"\"\"\n",
    "data_2001.rename(columns={'ESTU_TIPO_DOCUMENTO':'ESTU_RESIDE_DPTO', 'ESTU_RESIDE_DEPTO':'ESTU_TIPO_DOCUMENTO'}, inplace=True)"
   ]
  },
  {
   "cell_type": "code",
   "execution_count": 7,
   "metadata": {
    "collapsed": false,
    "scrolled": true
   },
   "outputs": [
    {
     "data": {
      "text/html": [
       "<div>\n",
       "<table border=\"1\" class=\"dataframe\">\n",
       "  <thead>\n",
       "    <tr style=\"text-align: right;\">\n",
       "      <th></th>\n",
       "      <th>0</th>\n",
       "      <th>1</th>\n",
       "      <th>2</th>\n",
       "    </tr>\n",
       "  </thead>\n",
       "  <tbody>\n",
       "    <tr>\n",
       "      <th>ESTU_CONSECUTIVO</th>\n",
       "      <td>SB11200110000001</td>\n",
       "      <td>SB11200110000002</td>\n",
       "      <td>SB11200110000003</td>\n",
       "    </tr>\n",
       "    <tr>\n",
       "      <th>COLE_COD_ICFES</th>\n",
       "      <td>78709</td>\n",
       "      <td>89474</td>\n",
       "      <td>89094</td>\n",
       "    </tr>\n",
       "    <tr>\n",
       "      <th>COLE_NOMBRE_SEDE</th>\n",
       "      <td>COLEGIO MIXTO FRAY PEÑA</td>\n",
       "      <td>INSTITUTO EDUCATIVO DEL VALLE</td>\n",
       "      <td>INSTITUTO TECNICO AGROPECUARIO POLICARPA SALAV...</td>\n",
       "    </tr>\n",
       "    <tr>\n",
       "      <th>IND_ANNO_TERMINO_BACHILLERATO</th>\n",
       "      <td>2001</td>\n",
       "      <td>2001</td>\n",
       "      <td>2001</td>\n",
       "    </tr>\n",
       "    <tr>\n",
       "      <th>COLE_JORNADA</th>\n",
       "      <td>C</td>\n",
       "      <td>C</td>\n",
       "      <td>C</td>\n",
       "    </tr>\n",
       "    <tr>\n",
       "      <th>COLE_VALOR_PENSION</th>\n",
       "      <td>3</td>\n",
       "      <td>1</td>\n",
       "      <td>1</td>\n",
       "    </tr>\n",
       "    <tr>\n",
       "      <th>ESTU_GENERO</th>\n",
       "      <td>M</td>\n",
       "      <td>F</td>\n",
       "      <td>F</td>\n",
       "    </tr>\n",
       "    <tr>\n",
       "      <th>ESTU_NACIMIENTO_DIA</th>\n",
       "      <td>14</td>\n",
       "      <td>20</td>\n",
       "      <td>16</td>\n",
       "    </tr>\n",
       "    <tr>\n",
       "      <th>ESTU_NACIMIENTO_MES</th>\n",
       "      <td>11</td>\n",
       "      <td>5</td>\n",
       "      <td>5</td>\n",
       "    </tr>\n",
       "    <tr>\n",
       "      <th>ESTU_NACIMIENTO_ANNO</th>\n",
       "      <td>1984</td>\n",
       "      <td>1985</td>\n",
       "      <td>1985</td>\n",
       "    </tr>\n",
       "    <tr>\n",
       "      <th>ESTU_DEPTO_PRESENTACION</th>\n",
       "      <td>VALLE</td>\n",
       "      <td>VALLE</td>\n",
       "      <td>VALLE</td>\n",
       "    </tr>\n",
       "    <tr>\n",
       "      <th>ESTU_MCPIO_PRESENTACION</th>\n",
       "      <td>YUMBO</td>\n",
       "      <td>YUMBO</td>\n",
       "      <td>YUMBO</td>\n",
       "    </tr>\n",
       "    <tr>\n",
       "      <th>ESTU_LIMITA_INVIDENTE</th>\n",
       "      <td>NaN</td>\n",
       "      <td>NaN</td>\n",
       "      <td>NaN</td>\n",
       "    </tr>\n",
       "    <tr>\n",
       "      <th>ESTU_LIMITA_SORDOINTERPRETE</th>\n",
       "      <td>NaN</td>\n",
       "      <td>NaN</td>\n",
       "      <td>NaN</td>\n",
       "    </tr>\n",
       "    <tr>\n",
       "      <th>ESTU_LIMITA_SORDONOINTERPRETE</th>\n",
       "      <td>NaN</td>\n",
       "      <td>NaN</td>\n",
       "      <td>NaN</td>\n",
       "    </tr>\n",
       "    <tr>\n",
       "      <th>ESTU_LIMITA_MOTRIZ</th>\n",
       "      <td>NaN</td>\n",
       "      <td>NaN</td>\n",
       "      <td>NaN</td>\n",
       "    </tr>\n",
       "    <tr>\n",
       "      <th>PUNT_BIOLOGIA</th>\n",
       "      <td>49</td>\n",
       "      <td>45</td>\n",
       "      <td>37</td>\n",
       "    </tr>\n",
       "    <tr>\n",
       "      <th>PUNT_MATEMATICAS</th>\n",
       "      <td>42</td>\n",
       "      <td>49</td>\n",
       "      <td>41</td>\n",
       "    </tr>\n",
       "    <tr>\n",
       "      <th>PUNT_FILOSOFIA</th>\n",
       "      <td>43</td>\n",
       "      <td>52</td>\n",
       "      <td>44</td>\n",
       "    </tr>\n",
       "    <tr>\n",
       "      <th>PUNT_FISICA</th>\n",
       "      <td>42</td>\n",
       "      <td>50</td>\n",
       "      <td>42</td>\n",
       "    </tr>\n",
       "    <tr>\n",
       "      <th>PUNT_HISTORIA</th>\n",
       "      <td>36</td>\n",
       "      <td>43</td>\n",
       "      <td>35</td>\n",
       "    </tr>\n",
       "    <tr>\n",
       "      <th>PUNT_QUIMICA</th>\n",
       "      <td>43</td>\n",
       "      <td>40</td>\n",
       "      <td>32</td>\n",
       "    </tr>\n",
       "    <tr>\n",
       "      <th>PUNT_LENGUAJE</th>\n",
       "      <td>44</td>\n",
       "      <td>46</td>\n",
       "      <td>44</td>\n",
       "    </tr>\n",
       "    <tr>\n",
       "      <th>PUNT_GEOGRAFIA</th>\n",
       "      <td>38</td>\n",
       "      <td>54</td>\n",
       "      <td>40</td>\n",
       "    </tr>\n",
       "    <tr>\n",
       "      <th>COD_INTERDISCIPLINAR</th>\n",
       "      <td>43</td>\n",
       "      <td>43</td>\n",
       "      <td>43</td>\n",
       "    </tr>\n",
       "    <tr>\n",
       "      <th>PUNT_INTERDISCIPLINAR</th>\n",
       "      <td>59</td>\n",
       "      <td>62</td>\n",
       "      <td>61</td>\n",
       "    </tr>\n",
       "    <tr>\n",
       "      <th>COD_IDIOMA</th>\n",
       "      <td>51</td>\n",
       "      <td>51</td>\n",
       "      <td>51</td>\n",
       "    </tr>\n",
       "    <tr>\n",
       "      <th>PUNT_IDIOMA</th>\n",
       "      <td>35</td>\n",
       "      <td>39</td>\n",
       "      <td>35</td>\n",
       "    </tr>\n",
       "    <tr>\n",
       "      <th>ESTU_IES_COD_DESEADA</th>\n",
       "      <td>1203</td>\n",
       "      <td>4107</td>\n",
       "      <td>1203</td>\n",
       "    </tr>\n",
       "    <tr>\n",
       "      <th>ESTU_RAZONINSTITUTO</th>\n",
       "      <td>2</td>\n",
       "      <td>8</td>\n",
       "      <td>8</td>\n",
       "    </tr>\n",
       "    <tr>\n",
       "      <th>ESTU_CARRDESEADA_COD</th>\n",
       "      <td>28198</td>\n",
       "      <td>21125</td>\n",
       "      <td>48118</td>\n",
       "    </tr>\n",
       "    <tr>\n",
       "      <th>ESTU_CARRDESEADA_RAZON</th>\n",
       "      <td>3</td>\n",
       "      <td>3</td>\n",
       "      <td>3</td>\n",
       "    </tr>\n",
       "    <tr>\n",
       "      <th>FAMI_PERSONAS_HOGAR</th>\n",
       "      <td>5</td>\n",
       "      <td>3</td>\n",
       "      <td>5</td>\n",
       "    </tr>\n",
       "    <tr>\n",
       "      <th>FAMI_VIVIENDA_PROPIA</th>\n",
       "      <td>S</td>\n",
       "      <td>S</td>\n",
       "      <td>S</td>\n",
       "    </tr>\n",
       "    <tr>\n",
       "      <th>FAMI_DEUDA_VIVIENDA</th>\n",
       "      <td>N</td>\n",
       "      <td>N</td>\n",
       "      <td>N</td>\n",
       "    </tr>\n",
       "    <tr>\n",
       "      <th>FAMI_APORTANTES</th>\n",
       "      <td>2</td>\n",
       "      <td>1</td>\n",
       "      <td>1</td>\n",
       "    </tr>\n",
       "    <tr>\n",
       "      <th>FAMI_INGRESO_FMILIAR_MENSUAL</th>\n",
       "      <td>0</td>\n",
       "      <td>0</td>\n",
       "      <td>0</td>\n",
       "    </tr>\n",
       "    <tr>\n",
       "      <th>FAMI_LEE_ESCRIBE_PADRE</th>\n",
       "      <td>S</td>\n",
       "      <td>NaN</td>\n",
       "      <td>S</td>\n",
       "    </tr>\n",
       "    <tr>\n",
       "      <th>FAMI_LEE_ESCRIBE_MADRE</th>\n",
       "      <td>S</td>\n",
       "      <td>S</td>\n",
       "      <td>S</td>\n",
       "    </tr>\n",
       "    <tr>\n",
       "      <th>FAMI_EDUCA_PADRE</th>\n",
       "      <td>3</td>\n",
       "      <td>NaN</td>\n",
       "      <td>3</td>\n",
       "    </tr>\n",
       "    <tr>\n",
       "      <th>FAMI_EDUCA_MADRE</th>\n",
       "      <td>3</td>\n",
       "      <td>*</td>\n",
       "      <td>3</td>\n",
       "    </tr>\n",
       "    <tr>\n",
       "      <th>FAMI_OCUPA_PADRE</th>\n",
       "      <td>08</td>\n",
       "      <td>NaN</td>\n",
       "      <td>08</td>\n",
       "    </tr>\n",
       "    <tr>\n",
       "      <th>FAMI_OCUPA_MADRE</th>\n",
       "      <td>08</td>\n",
       "      <td>08</td>\n",
       "      <td>10</td>\n",
       "    </tr>\n",
       "    <tr>\n",
       "      <th>FAMI_NUM_HERMANOS</th>\n",
       "      <td>2</td>\n",
       "      <td>1</td>\n",
       "      <td>2</td>\n",
       "    </tr>\n",
       "    <tr>\n",
       "      <th>FAMI_NUM_HERMANOS_EDUSUPERIOR</th>\n",
       "      <td>0</td>\n",
       "      <td>0</td>\n",
       "      <td>1</td>\n",
       "    </tr>\n",
       "    <tr>\n",
       "      <th>FAMI_POSICION_HERMANOS</th>\n",
       "      <td>2</td>\n",
       "      <td>1</td>\n",
       "      <td>2</td>\n",
       "    </tr>\n",
       "    <tr>\n",
       "      <th>FAMI_SOST_PERSONAL</th>\n",
       "      <td>T</td>\n",
       "      <td>T</td>\n",
       "      <td>T</td>\n",
       "    </tr>\n",
       "    <tr>\n",
       "      <th>ESTU_TRABAJA</th>\n",
       "      <td>NaN</td>\n",
       "      <td>N</td>\n",
       "      <td>N</td>\n",
       "    </tr>\n",
       "    <tr>\n",
       "      <th>ESTU_ACT_PROX_ANNO</th>\n",
       "      <td>3</td>\n",
       "      <td>2</td>\n",
       "      <td>3</td>\n",
       "    </tr>\n",
       "    <tr>\n",
       "      <th>COLE_CALENDARIO</th>\n",
       "      <td>B</td>\n",
       "      <td>B</td>\n",
       "      <td>B</td>\n",
       "    </tr>\n",
       "    <tr>\n",
       "      <th>COLE_BILINGUE</th>\n",
       "      <td>NaN</td>\n",
       "      <td>NaN</td>\n",
       "      <td>NaN</td>\n",
       "    </tr>\n",
       "    <tr>\n",
       "      <th>COLE_CARACTER</th>\n",
       "      <td>TECNICO</td>\n",
       "      <td>TECNICO</td>\n",
       "      <td>TECNICO</td>\n",
       "    </tr>\n",
       "    <tr>\n",
       "      <th>COLE_DEPTO_UBICACION</th>\n",
       "      <td>VALLE</td>\n",
       "      <td>VALLE</td>\n",
       "      <td>VALLE</td>\n",
       "    </tr>\n",
       "    <tr>\n",
       "      <th>COLE_MCPIO_UBICACION</th>\n",
       "      <td>YUMBO</td>\n",
       "      <td>YUMBO</td>\n",
       "      <td>YUMBO</td>\n",
       "    </tr>\n",
       "    <tr>\n",
       "      <th>ESTU_TIPO_DOCUMENTO</th>\n",
       "      <td>T</td>\n",
       "      <td>T</td>\n",
       "      <td>T</td>\n",
       "    </tr>\n",
       "    <tr>\n",
       "      <th>ESTU_RESIDE_MCPIO</th>\n",
       "      <td>VALLE</td>\n",
       "      <td>VALLE</td>\n",
       "      <td>VALLE</td>\n",
       "    </tr>\n",
       "    <tr>\n",
       "      <th>ESTU_RESIDE_DPTO</th>\n",
       "      <td>YUMBO</td>\n",
       "      <td>YUMBO</td>\n",
       "      <td>CALI</td>\n",
       "    </tr>\n",
       "  </tbody>\n",
       "</table>\n",
       "</div>"
      ],
      "text/plain": [
       "                                                     0  \\\n",
       "ESTU_CONSECUTIVO                      SB11200110000001   \n",
       "COLE_COD_ICFES                                   78709   \n",
       "COLE_NOMBRE_SEDE               COLEGIO MIXTO FRAY PEÑA   \n",
       "IND_ANNO_TERMINO_BACHILLERATO                     2001   \n",
       "COLE_JORNADA                                         C   \n",
       "COLE_VALOR_PENSION                                   3   \n",
       "ESTU_GENERO                                          M   \n",
       "ESTU_NACIMIENTO_DIA                                 14   \n",
       "ESTU_NACIMIENTO_MES                                 11   \n",
       "ESTU_NACIMIENTO_ANNO                              1984   \n",
       "ESTU_DEPTO_PRESENTACION                          VALLE   \n",
       "ESTU_MCPIO_PRESENTACION                          YUMBO   \n",
       "ESTU_LIMITA_INVIDENTE                              NaN   \n",
       "ESTU_LIMITA_SORDOINTERPRETE                        NaN   \n",
       "ESTU_LIMITA_SORDONOINTERPRETE                      NaN   \n",
       "ESTU_LIMITA_MOTRIZ                                 NaN   \n",
       "PUNT_BIOLOGIA                                       49   \n",
       "PUNT_MATEMATICAS                                    42   \n",
       "PUNT_FILOSOFIA                                      43   \n",
       "PUNT_FISICA                                         42   \n",
       "PUNT_HISTORIA                                       36   \n",
       "PUNT_QUIMICA                                        43   \n",
       "PUNT_LENGUAJE                                       44   \n",
       "PUNT_GEOGRAFIA                                      38   \n",
       "COD_INTERDISCIPLINAR                                43   \n",
       "PUNT_INTERDISCIPLINAR                               59   \n",
       "COD_IDIOMA                                          51   \n",
       "PUNT_IDIOMA                                         35   \n",
       "ESTU_IES_COD_DESEADA                              1203   \n",
       "ESTU_RAZONINSTITUTO                                  2   \n",
       "ESTU_CARRDESEADA_COD                             28198   \n",
       "ESTU_CARRDESEADA_RAZON                               3   \n",
       "FAMI_PERSONAS_HOGAR                                  5   \n",
       "FAMI_VIVIENDA_PROPIA                                 S   \n",
       "FAMI_DEUDA_VIVIENDA                                  N   \n",
       "FAMI_APORTANTES                                      2   \n",
       "FAMI_INGRESO_FMILIAR_MENSUAL                         0   \n",
       "FAMI_LEE_ESCRIBE_PADRE                               S   \n",
       "FAMI_LEE_ESCRIBE_MADRE                               S   \n",
       "FAMI_EDUCA_PADRE                                     3   \n",
       "FAMI_EDUCA_MADRE                                     3   \n",
       "FAMI_OCUPA_PADRE                                    08   \n",
       "FAMI_OCUPA_MADRE                                    08   \n",
       "FAMI_NUM_HERMANOS                                    2   \n",
       "FAMI_NUM_HERMANOS_EDUSUPERIOR                        0   \n",
       "FAMI_POSICION_HERMANOS                               2   \n",
       "FAMI_SOST_PERSONAL                                   T   \n",
       "ESTU_TRABAJA                                       NaN   \n",
       "ESTU_ACT_PROX_ANNO                                   3   \n",
       "COLE_CALENDARIO                                      B   \n",
       "COLE_BILINGUE                                      NaN   \n",
       "COLE_CARACTER                                  TECNICO   \n",
       "COLE_DEPTO_UBICACION                             VALLE   \n",
       "COLE_MCPIO_UBICACION                             YUMBO   \n",
       "ESTU_TIPO_DOCUMENTO                                  T   \n",
       "ESTU_RESIDE_MCPIO                                VALLE   \n",
       "ESTU_RESIDE_DPTO                                 YUMBO   \n",
       "\n",
       "                                                           1  \\\n",
       "ESTU_CONSECUTIVO                            SB11200110000002   \n",
       "COLE_COD_ICFES                                         89474   \n",
       "COLE_NOMBRE_SEDE               INSTITUTO EDUCATIVO DEL VALLE   \n",
       "IND_ANNO_TERMINO_BACHILLERATO                           2001   \n",
       "COLE_JORNADA                                               C   \n",
       "COLE_VALOR_PENSION                                         1   \n",
       "ESTU_GENERO                                                F   \n",
       "ESTU_NACIMIENTO_DIA                                       20   \n",
       "ESTU_NACIMIENTO_MES                                        5   \n",
       "ESTU_NACIMIENTO_ANNO                                    1985   \n",
       "ESTU_DEPTO_PRESENTACION                                VALLE   \n",
       "ESTU_MCPIO_PRESENTACION                                YUMBO   \n",
       "ESTU_LIMITA_INVIDENTE                                    NaN   \n",
       "ESTU_LIMITA_SORDOINTERPRETE                              NaN   \n",
       "ESTU_LIMITA_SORDONOINTERPRETE                            NaN   \n",
       "ESTU_LIMITA_MOTRIZ                                       NaN   \n",
       "PUNT_BIOLOGIA                                             45   \n",
       "PUNT_MATEMATICAS                                          49   \n",
       "PUNT_FILOSOFIA                                            52   \n",
       "PUNT_FISICA                                               50   \n",
       "PUNT_HISTORIA                                             43   \n",
       "PUNT_QUIMICA                                              40   \n",
       "PUNT_LENGUAJE                                             46   \n",
       "PUNT_GEOGRAFIA                                            54   \n",
       "COD_INTERDISCIPLINAR                                      43   \n",
       "PUNT_INTERDISCIPLINAR                                     62   \n",
       "COD_IDIOMA                                                51   \n",
       "PUNT_IDIOMA                                               39   \n",
       "ESTU_IES_COD_DESEADA                                    4107   \n",
       "ESTU_RAZONINSTITUTO                                        8   \n",
       "ESTU_CARRDESEADA_COD                                   21125   \n",
       "ESTU_CARRDESEADA_RAZON                                     3   \n",
       "FAMI_PERSONAS_HOGAR                                        3   \n",
       "FAMI_VIVIENDA_PROPIA                                       S   \n",
       "FAMI_DEUDA_VIVIENDA                                        N   \n",
       "FAMI_APORTANTES                                            1   \n",
       "FAMI_INGRESO_FMILIAR_MENSUAL                               0   \n",
       "FAMI_LEE_ESCRIBE_PADRE                                   NaN   \n",
       "FAMI_LEE_ESCRIBE_MADRE                                     S   \n",
       "FAMI_EDUCA_PADRE                                         NaN   \n",
       "FAMI_EDUCA_MADRE                                           *   \n",
       "FAMI_OCUPA_PADRE                                         NaN   \n",
       "FAMI_OCUPA_MADRE                                          08   \n",
       "FAMI_NUM_HERMANOS                                          1   \n",
       "FAMI_NUM_HERMANOS_EDUSUPERIOR                              0   \n",
       "FAMI_POSICION_HERMANOS                                     1   \n",
       "FAMI_SOST_PERSONAL                                         T   \n",
       "ESTU_TRABAJA                                               N   \n",
       "ESTU_ACT_PROX_ANNO                                         2   \n",
       "COLE_CALENDARIO                                            B   \n",
       "COLE_BILINGUE                                            NaN   \n",
       "COLE_CARACTER                                        TECNICO   \n",
       "COLE_DEPTO_UBICACION                                   VALLE   \n",
       "COLE_MCPIO_UBICACION                                   YUMBO   \n",
       "ESTU_TIPO_DOCUMENTO                                        T   \n",
       "ESTU_RESIDE_MCPIO                                      VALLE   \n",
       "ESTU_RESIDE_DPTO                                       YUMBO   \n",
       "\n",
       "                                                                               2  \n",
       "ESTU_CONSECUTIVO                                                SB11200110000003  \n",
       "COLE_COD_ICFES                                                             89094  \n",
       "COLE_NOMBRE_SEDE               INSTITUTO TECNICO AGROPECUARIO POLICARPA SALAV...  \n",
       "IND_ANNO_TERMINO_BACHILLERATO                                               2001  \n",
       "COLE_JORNADA                                                                   C  \n",
       "COLE_VALOR_PENSION                                                             1  \n",
       "ESTU_GENERO                                                                    F  \n",
       "ESTU_NACIMIENTO_DIA                                                           16  \n",
       "ESTU_NACIMIENTO_MES                                                            5  \n",
       "ESTU_NACIMIENTO_ANNO                                                        1985  \n",
       "ESTU_DEPTO_PRESENTACION                                                    VALLE  \n",
       "ESTU_MCPIO_PRESENTACION                                                    YUMBO  \n",
       "ESTU_LIMITA_INVIDENTE                                                        NaN  \n",
       "ESTU_LIMITA_SORDOINTERPRETE                                                  NaN  \n",
       "ESTU_LIMITA_SORDONOINTERPRETE                                                NaN  \n",
       "ESTU_LIMITA_MOTRIZ                                                           NaN  \n",
       "PUNT_BIOLOGIA                                                                 37  \n",
       "PUNT_MATEMATICAS                                                              41  \n",
       "PUNT_FILOSOFIA                                                                44  \n",
       "PUNT_FISICA                                                                   42  \n",
       "PUNT_HISTORIA                                                                 35  \n",
       "PUNT_QUIMICA                                                                  32  \n",
       "PUNT_LENGUAJE                                                                 44  \n",
       "PUNT_GEOGRAFIA                                                                40  \n",
       "COD_INTERDISCIPLINAR                                                          43  \n",
       "PUNT_INTERDISCIPLINAR                                                         61  \n",
       "COD_IDIOMA                                                                    51  \n",
       "PUNT_IDIOMA                                                                   35  \n",
       "ESTU_IES_COD_DESEADA                                                        1203  \n",
       "ESTU_RAZONINSTITUTO                                                            8  \n",
       "ESTU_CARRDESEADA_COD                                                       48118  \n",
       "ESTU_CARRDESEADA_RAZON                                                         3  \n",
       "FAMI_PERSONAS_HOGAR                                                            5  \n",
       "FAMI_VIVIENDA_PROPIA                                                           S  \n",
       "FAMI_DEUDA_VIVIENDA                                                            N  \n",
       "FAMI_APORTANTES                                                                1  \n",
       "FAMI_INGRESO_FMILIAR_MENSUAL                                                   0  \n",
       "FAMI_LEE_ESCRIBE_PADRE                                                         S  \n",
       "FAMI_LEE_ESCRIBE_MADRE                                                         S  \n",
       "FAMI_EDUCA_PADRE                                                               3  \n",
       "FAMI_EDUCA_MADRE                                                               3  \n",
       "FAMI_OCUPA_PADRE                                                              08  \n",
       "FAMI_OCUPA_MADRE                                                              10  \n",
       "FAMI_NUM_HERMANOS                                                              2  \n",
       "FAMI_NUM_HERMANOS_EDUSUPERIOR                                                  1  \n",
       "FAMI_POSICION_HERMANOS                                                         2  \n",
       "FAMI_SOST_PERSONAL                                                             T  \n",
       "ESTU_TRABAJA                                                                   N  \n",
       "ESTU_ACT_PROX_ANNO                                                             3  \n",
       "COLE_CALENDARIO                                                                B  \n",
       "COLE_BILINGUE                                                                NaN  \n",
       "COLE_CARACTER                                                            TECNICO  \n",
       "COLE_DEPTO_UBICACION                                                       VALLE  \n",
       "COLE_MCPIO_UBICACION                                                       YUMBO  \n",
       "ESTU_TIPO_DOCUMENTO                                                            T  \n",
       "ESTU_RESIDE_MCPIO                                                          VALLE  \n",
       "ESTU_RESIDE_DPTO                                                            CALI  "
      ]
     },
     "execution_count": 7,
     "metadata": {},
     "output_type": "execute_result"
    }
   ],
   "source": [
    "data_2001.head(3).T"
   ]
  },
  {
   "cell_type": "markdown",
   "metadata": {},
   "source": [
    "The first step i have to take is delete the ID Columns (columns used to identify something or someone), because that columns does not have any business here."
   ]
  },
  {
   "cell_type": "code",
   "execution_count": 8,
   "metadata": {
    "collapsed": false
   },
   "outputs": [],
   "source": [
    "data_2001 = data_2001.drop(['ESTU_CONSECUTIVO', 'COLE_NOMBRE_SEDE', 'ESTU_TIPO_DOCUMENTO'], axis=1)"
   ]
  },
  {
   "cell_type": "code",
   "execution_count": 9,
   "metadata": {
    "collapsed": false
   },
   "outputs": [
    {
     "data": {
      "text/plain": [
       "Index(['COLE_COD_ICFES', 'IND_ANNO_TERMINO_BACHILLERATO', 'COLE_JORNADA',\n",
       "       'COLE_VALOR_PENSION', 'ESTU_GENERO', 'ESTU_NACIMIENTO_DIA',\n",
       "       'ESTU_NACIMIENTO_MES', 'ESTU_NACIMIENTO_ANNO',\n",
       "       'ESTU_DEPTO_PRESENTACION', 'ESTU_MCPIO_PRESENTACION',\n",
       "       'ESTU_LIMITA_INVIDENTE', 'ESTU_LIMITA_SORDOINTERPRETE',\n",
       "       'ESTU_LIMITA_SORDONOINTERPRETE', 'ESTU_LIMITA_MOTRIZ', 'PUNT_BIOLOGIA',\n",
       "       'PUNT_MATEMATICAS', 'PUNT_FILOSOFIA', 'PUNT_FISICA', 'PUNT_HISTORIA',\n",
       "       'PUNT_QUIMICA', 'PUNT_LENGUAJE', 'PUNT_GEOGRAFIA',\n",
       "       'COD_INTERDISCIPLINAR', 'PUNT_INTERDISCIPLINAR', 'COD_IDIOMA',\n",
       "       'PUNT_IDIOMA', 'ESTU_IES_COD_DESEADA', 'ESTU_RAZONINSTITUTO',\n",
       "       'ESTU_CARRDESEADA_COD', 'ESTU_CARRDESEADA_RAZON', 'FAMI_PERSONAS_HOGAR',\n",
       "       'FAMI_VIVIENDA_PROPIA', 'FAMI_DEUDA_VIVIENDA', 'FAMI_APORTANTES',\n",
       "       'FAMI_INGRESO_FMILIAR_MENSUAL', 'FAMI_LEE_ESCRIBE_PADRE',\n",
       "       'FAMI_LEE_ESCRIBE_MADRE', 'FAMI_EDUCA_PADRE', 'FAMI_EDUCA_MADRE',\n",
       "       'FAMI_OCUPA_PADRE', 'FAMI_OCUPA_MADRE', 'FAMI_NUM_HERMANOS',\n",
       "       'FAMI_NUM_HERMANOS_EDUSUPERIOR', 'FAMI_POSICION_HERMANOS',\n",
       "       'FAMI_SOST_PERSONAL', 'ESTU_TRABAJA', 'ESTU_ACT_PROX_ANNO',\n",
       "       'COLE_CALENDARIO', 'COLE_BILINGUE', 'COLE_CARACTER',\n",
       "       'COLE_DEPTO_UBICACION', 'COLE_MCPIO_UBICACION', 'ESTU_RESIDE_MCPIO',\n",
       "       'ESTU_RESIDE_DPTO'],\n",
       "      dtype='object')"
      ]
     },
     "execution_count": 9,
     "metadata": {},
     "output_type": "execute_result"
    }
   ],
   "source": [
    "data_2001.columns"
   ]
  },
  {
   "cell_type": "code",
   "execution_count": 10,
   "metadata": {
    "collapsed": false,
    "scrolled": true
   },
   "outputs": [
    {
     "name": "stdout",
     "output_type": "stream",
     "text": [
      "Int64Index([  182,   265,  1362,  1503,  2998,  3145,  3327,  3418,  3459,\n",
      "             3483,\n",
      "            ...\n",
      "            95646, 95679, 95687, 95711, 95729, 95745, 95760, 95778, 95786,\n",
      "            95794],\n",
      "           dtype='int64', length=1746)\n",
      "182       63\n",
      "265      573\n",
      "1362     109\n",
      "1503      98\n",
      "2998      38\n",
      "3145      38\n",
      "3327       9\n",
      "3418      45\n",
      "3459      63\n",
      "3483     102\n",
      "4234      33\n",
      "5843      16\n",
      "6239       9\n",
      "6890      51\n",
      "6973       6\n",
      "6981      60\n",
      "6999      54\n",
      "7005      61\n",
      "7013      77\n",
      "7047      66\n",
      "7054      34\n",
      "7062      74\n",
      "7070     164\n",
      "7088      79\n",
      "7096     223\n",
      "7104     127\n",
      "7112      76\n",
      "7120      52\n",
      "7138     116\n",
      "7146      66\n",
      "        ... \n",
      "95448     16\n",
      "95455     44\n",
      "95463     13\n",
      "95471     13\n",
      "95489     23\n",
      "95497      6\n",
      "95505      7\n",
      "95513     14\n",
      "95521     11\n",
      "95539     21\n",
      "95547     11\n",
      "95554     10\n",
      "95562     22\n",
      "95570      9\n",
      "95588     13\n",
      "95596     10\n",
      "95604     36\n",
      "95612     11\n",
      "95620     12\n",
      "95638      7\n",
      "95646     40\n",
      "95679      4\n",
      "95687      4\n",
      "95711     16\n",
      "95729     16\n",
      "95745     68\n",
      "95760      7\n",
      "95778     33\n",
      "95786     15\n",
      "95794     21\n",
      "Name: COLE_COD_ICFES, dtype: int64\n",
      "Elementos null/NaN 0\n",
      "__________________\n",
      "Elementos diferentes de null/NaN: 77961\n",
      "__________________\n",
      "(77961,)\n",
      "None\n"
     ]
    }
   ],
   "source": [
    "\"\"\"Looks ok, type int64\"\"\"\n",
    "print(data_2001['COLE_COD_ICFES'].value_counts().sort_index().index)\n",
    "print(data_2001['COLE_COD_ICFES'].value_counts().sort_index())\n",
    "print(missing_data(data_2001['COLE_COD_ICFES']))"
   ]
  },
  {
   "cell_type": "code",
   "execution_count": 11,
   "metadata": {
    "collapsed": false,
    "scrolled": true
   },
   "outputs": [
    {
     "name": "stdout",
     "output_type": "stream",
     "text": [
      "Index(['1980', '1987', '1992', '1994', '1998', '1999', '2', '2  0', '2  1',\n",
      "       '2 *0', '2 0', '2 0*', '2 00', '2 01', '2*00', '20', '20 *', '20 0',\n",
      "       '20 1', '20*', '20**', '20*0', '200', '2000', '2001', '2002', '2003',\n",
      "       '201', '2010', '2011', '2090'],\n",
      "      dtype='object')\n",
      "1980        1\n",
      "1987        1\n",
      "1992        1\n",
      "1994        1\n",
      "1998        7\n",
      "1999       28\n",
      "2           9\n",
      "2  0        7\n",
      "2  1        3\n",
      "2 *0        3\n",
      "2 0         2\n",
      "2 0*        8\n",
      "2 00      120\n",
      "2 01       11\n",
      "2*00        1\n",
      "20         15\n",
      "20 *        2\n",
      "20 0       28\n",
      "20 1       15\n",
      "20*        22\n",
      "20**        3\n",
      "20*0        1\n",
      "200        58\n",
      "2000    17605\n",
      "2001    59828\n",
      "2002        1\n",
      "2003        1\n",
      "201         2\n",
      "2010        1\n",
      "2011        9\n",
      "2090        1\n",
      "Name: IND_ANNO_TERMINO_BACHILLERATO, dtype: int64\n",
      "Elementos null/NaN 166\n",
      "__________________\n",
      "Elementos diferentes de null/NaN: 77795\n",
      "__________________\n",
      "(77795,)\n",
      "None\n"
     ]
    }
   ],
   "source": [
    "\"\"\"Some incoherences, that will be fix in the following cell, and the np.nan values replaced\"\"\"\n",
    "print(data_2001['IND_ANNO_TERMINO_BACHILLERATO'].value_counts().sort_index().index)\n",
    "print(data_2001['IND_ANNO_TERMINO_BACHILLERATO'].value_counts().sort_index())\n",
    "print(missing_data(data_2001['IND_ANNO_TERMINO_BACHILLERATO']))"
   ]
  },
  {
   "cell_type": "code",
   "execution_count": 12,
   "metadata": {
    "collapsed": true
   },
   "outputs": [],
   "source": [
    "for i in data_2001['IND_ANNO_TERMINO_BACHILLERATO'].value_counts().sort_index().index:\n",
    "    if '*' in i:\n",
    "        data_2001['IND_ANNO_TERMINO_BACHILLERATO'] = data_2001['IND_ANNO_TERMINO_BACHILLERATO'].replace(i, 'NaN')\n",
    "    elif ' ' in i:\n",
    "        data_2001['IND_ANNO_TERMINO_BACHILLERATO'] = data_2001['IND_ANNO_TERMINO_BACHILLERATO'].replace(i, 'NaN')\n",
    "    elif len(i) < 4:\n",
    "        data_2001['IND_ANNO_TERMINO_BACHILLERATO'] = data_2001['IND_ANNO_TERMINO_BACHILLERATO'].replace(i, 'NaN')\n",
    "    elif int(i) > 2003:\n",
    "        data_2001['IND_ANNO_TERMINO_BACHILLERATO'] = data_2001['IND_ANNO_TERMINO_BACHILLERATO'].replace(i, 'NaN')\n",
    "\n",
    "data_2001['IND_ANNO_TERMINO_BACHILLERATO'] = data_2001['IND_ANNO_TERMINO_BACHILLERATO'].replace(np.nan, 'NaN')"
   ]
  },
  {
   "cell_type": "code",
   "execution_count": 13,
   "metadata": {
    "collapsed": false
   },
   "outputs": [
    {
     "name": "stdout",
     "output_type": "stream",
     "text": [
      "Index(['C', 'M', 'N', 'S', 'T'], dtype='object')\n",
      "C    18450\n",
      "M    30611\n",
      "N    19320\n",
      "S      283\n",
      "T     9297\n",
      "Name: COLE_JORNADA, dtype: int64\n",
      "Elementos null/NaN 0\n",
      "__________________\n",
      "Elementos diferentes de null/NaN: 77961\n",
      "__________________\n",
      "(77961,)\n",
      "None\n"
     ]
    }
   ],
   "source": [
    "\"\"\"This column looks ok\"\"\"\n",
    "print(data_2001['COLE_JORNADA'].value_counts().sort_index().index)\n",
    "print(data_2001['COLE_JORNADA'].value_counts().sort_index())\n",
    "print(missing_data(data_2001['COLE_JORNADA']))"
   ]
  },
  {
   "cell_type": "code",
   "execution_count": 14,
   "metadata": {
    "collapsed": false
   },
   "outputs": [
    {
     "name": "stdout",
     "output_type": "stream",
     "text": [
      "Index(['*', '1', '2', '3', '4', '5', '6', '7', '8'], dtype='object')\n",
      "*       19\n",
      "1    20756\n",
      "2    11915\n",
      "3     7520\n",
      "4     4122\n",
      "5     3570\n",
      "6     2053\n",
      "7     3184\n",
      "8    20785\n",
      "Name: COLE_VALOR_PENSION, dtype: int64\n",
      "Elementos null/NaN 4037\n",
      "__________________\n",
      "Elementos diferentes de null/NaN: 73924\n",
      "__________________\n",
      "(73924,)\n",
      "None\n"
     ]
    }
   ],
   "source": [
    "\"\"\"This column just has some '*' values and some np.nan values\"\"\"\n",
    "print(data_2001['COLE_VALOR_PENSION'].value_counts().sort_index().index)\n",
    "print(data_2001['COLE_VALOR_PENSION'].value_counts().sort_index())\n",
    "print(missing_data(data_2001['COLE_VALOR_PENSION']))"
   ]
  },
  {
   "cell_type": "code",
   "execution_count": 15,
   "metadata": {
    "collapsed": true
   },
   "outputs": [],
   "source": [
    "data_2001['COLE_VALOR_PENSION'] = data_2001['COLE_VALOR_PENSION'].replace('*', 'NaN')\n",
    "data_2001['COLE_VALOR_PENSION'] = data_2001['COLE_VALOR_PENSION'].replace(np.nan, 'NaN')"
   ]
  },
  {
   "cell_type": "code",
   "execution_count": 16,
   "metadata": {
    "collapsed": false
   },
   "outputs": [
    {
     "name": "stdout",
     "output_type": "stream",
     "text": [
      "Index(['F', 'M'], dtype='object')\n",
      "F    42203\n",
      "M    35758\n",
      "Name: ESTU_GENERO, dtype: int64\n",
      "Elementos null/NaN 0\n",
      "__________________\n",
      "Elementos diferentes de null/NaN: 77961\n",
      "__________________\n",
      "(77961,)\n",
      "None\n"
     ]
    }
   ],
   "source": [
    "\"\"\"PERFECT!\"\"\"\n",
    "print(data_2001['ESTU_GENERO'].value_counts().sort_index().index)\n",
    "print(data_2001['ESTU_GENERO'].value_counts().sort_index())\n",
    "print(missing_data(data_2001['ESTU_GENERO']))"
   ]
  },
  {
   "cell_type": "code",
   "execution_count": 17,
   "metadata": {
    "collapsed": false,
    "scrolled": true
   },
   "outputs": [
    {
     "name": "stdout",
     "output_type": "stream",
     "text": [
      "Float64Index([ 1.0,  2.0,  3.0,  4.0,  5.0,  6.0,  7.0,  8.0,  9.0, 10.0, 11.0,\n",
      "              12.0, 13.0, 14.0, 15.0, 16.0, 17.0, 18.0, 19.0, 20.0, 21.0, 22.0,\n",
      "              23.0, 24.0, 25.0, 26.0, 27.0, 28.0, 29.0, 30.0, 31.0],\n",
      "             dtype='float64')\n",
      "1.0     2795\n",
      "2.0     2620\n",
      "3.0     2637\n",
      "4.0     2591\n",
      "5.0     2611\n",
      "6.0     2619\n",
      "7.0     2518\n",
      "8.0     2468\n",
      "9.0     2488\n",
      "10.0    2766\n",
      "11.0    2467\n",
      "12.0    2609\n",
      "13.0    2485\n",
      "14.0    2525\n",
      "15.0    2703\n",
      "16.0    2493\n",
      "17.0    2610\n",
      "18.0    2592\n",
      "19.0    2411\n",
      "20.0    2656\n",
      "21.0    2403\n",
      "22.0    2589\n",
      "23.0    2466\n",
      "24.0    2513\n",
      "25.0    2569\n",
      "26.0    2460\n",
      "27.0    2525\n",
      "28.0    2634\n",
      "29.0    2313\n",
      "30.0    2280\n",
      "31.0    1384\n",
      "Name: ESTU_NACIMIENTO_DIA, dtype: int64\n",
      "Elementos null/NaN 161\n",
      "__________________\n",
      "Elementos diferentes de null/NaN: 77800\n",
      "__________________\n",
      "(77800,)\n",
      "None\n"
     ]
    }
   ],
   "source": [
    "\"\"\"ALMOST PERFECT, has some np.nan, but the whole column is float64 dtype so this will keep the np.nan values, and \n",
    "in the end all the np.nan values will be replaced\"\"\"\n",
    "print(data_2001['ESTU_NACIMIENTO_DIA'].value_counts().sort_index().index)\n",
    "print(data_2001['ESTU_NACIMIENTO_DIA'].value_counts().sort_index())\n",
    "print(missing_data(data_2001['ESTU_NACIMIENTO_DIA']))"
   ]
  },
  {
   "cell_type": "code",
   "execution_count": 18,
   "metadata": {
    "collapsed": false
   },
   "outputs": [
    {
     "name": "stdout",
     "output_type": "stream",
     "text": [
      "Float64Index([1.0, 2.0, 3.0, 4.0, 5.0, 6.0, 7.0, 8.0, 9.0, 10.0, 11.0, 12.0], dtype='float64')\n",
      "1.0     6533\n",
      "2.0     5967\n",
      "3.0     6650\n",
      "4.0     6201\n",
      "5.0     6530\n",
      "6.0     6190\n",
      "7.0     6537\n",
      "8.0     6621\n",
      "9.0     6915\n",
      "10.0    6636\n",
      "11.0    6476\n",
      "12.0    6544\n",
      "Name: ESTU_NACIMIENTO_MES, dtype: int64\n",
      "Elementos null/NaN 161\n",
      "__________________\n",
      "Elementos diferentes de null/NaN: 77800\n",
      "__________________\n",
      "(77800,)\n",
      "None\n"
     ]
    }
   ],
   "source": [
    "\"\"\"ALMOST PERFECT, has some np.nan, but the whole column is float64 dtype so this will keep the np.nan values, and \n",
    "in the end all the np.nan values will be replaced\"\"\"\n",
    "print(data_2001['ESTU_NACIMIENTO_MES'].value_counts().sort_index().index)\n",
    "print(data_2001['ESTU_NACIMIENTO_MES'].value_counts().sort_index())\n",
    "print(missing_data(data_2001['ESTU_NACIMIENTO_MES']))"
   ]
  },
  {
   "cell_type": "code",
   "execution_count": 19,
   "metadata": {
    "collapsed": false,
    "scrolled": true
   },
   "outputs": [
    {
     "name": "stdout",
     "output_type": "stream",
     "text": [
      "Float64Index([ 198.0, 1917.0, 1919.0, 1931.0, 1932.0, 1933.0, 1934.0, 1935.0,\n",
      "              1936.0, 1937.0, 1938.0, 1939.0, 1940.0, 1941.0, 1942.0, 1943.0,\n",
      "              1944.0, 1945.0, 1946.0, 1947.0, 1948.0, 1949.0, 1950.0, 1951.0,\n",
      "              1952.0, 1953.0, 1954.0, 1955.0, 1956.0, 1957.0, 1958.0, 1959.0,\n",
      "              1960.0, 1961.0, 1962.0, 1963.0, 1964.0, 1965.0, 1966.0, 1967.0,\n",
      "              1968.0, 1969.0, 1970.0, 1971.0, 1972.0, 1973.0, 1974.0, 1975.0,\n",
      "              1976.0, 1977.0, 1978.0, 1979.0, 1980.0, 1981.0, 1982.0, 1983.0,\n",
      "              1984.0, 1985.0, 1986.0, 1987.0, 1988.0, 1989.0],\n",
      "             dtype='float64')\n",
      "198.0         1\n",
      "1917.0        1\n",
      "1919.0        1\n",
      "1931.0        1\n",
      "1932.0        1\n",
      "1933.0        4\n",
      "1934.0        2\n",
      "1935.0        3\n",
      "1936.0        1\n",
      "1937.0        4\n",
      "1938.0        8\n",
      "1939.0        2\n",
      "1940.0        7\n",
      "1941.0        4\n",
      "1942.0        9\n",
      "1943.0        4\n",
      "1944.0        8\n",
      "1945.0       13\n",
      "1946.0        7\n",
      "1947.0       15\n",
      "1948.0       19\n",
      "1949.0       18\n",
      "1950.0       20\n",
      "1951.0       41\n",
      "1952.0       51\n",
      "1953.0       73\n",
      "1954.0       49\n",
      "1955.0       78\n",
      "1956.0       91\n",
      "1957.0      126\n",
      "          ...  \n",
      "1960.0      184\n",
      "1961.0      183\n",
      "1962.0      254\n",
      "1963.0      238\n",
      "1964.0      279\n",
      "1965.0      291\n",
      "1966.0      337\n",
      "1967.0      344\n",
      "1968.0      352\n",
      "1969.0      404\n",
      "1970.0      417\n",
      "1971.0      470\n",
      "1972.0      519\n",
      "1973.0      549\n",
      "1974.0      621\n",
      "1975.0      705\n",
      "1976.0      858\n",
      "1977.0     1063\n",
      "1978.0     1440\n",
      "1979.0     2199\n",
      "1980.0     3598\n",
      "1981.0     6374\n",
      "1982.0    11621\n",
      "1983.0    16864\n",
      "1984.0    20656\n",
      "1985.0     5631\n",
      "1986.0      240\n",
      "1987.0       24\n",
      "1988.0       12\n",
      "1989.0       13\n",
      "Name: ESTU_NACIMIENTO_ANNO, dtype: int64\n",
      "Elementos null/NaN 322\n",
      "__________________\n",
      "Elementos diferentes de null/NaN: 77639\n",
      "__________________\n",
      "(77639,)\n",
      "None\n"
     ]
    }
   ],
   "source": [
    "\"\"\"Here this column has one year '198' that will be replaced for a correct number, and the np.nan values will keep \n",
    "their existence\"\"\"\n",
    "print(data_2001['ESTU_NACIMIENTO_ANNO'].value_counts().sort_index().index)\n",
    "print(data_2001['ESTU_NACIMIENTO_ANNO'].value_counts().sort_index())\n",
    "print(missing_data(data_2001['ESTU_NACIMIENTO_ANNO']))"
   ]
  },
  {
   "cell_type": "code",
   "execution_count": 20,
   "metadata": {
    "collapsed": true
   },
   "outputs": [],
   "source": [
    "data_2001['ESTU_NACIMIENTO_ANNO'] = data_2001['ESTU_NACIMIENTO_ANNO'].replace(198, 1918)"
   ]
  },
  {
   "cell_type": "code",
   "execution_count": 21,
   "metadata": {
    "collapsed": false,
    "scrolled": true
   },
   "outputs": [
    {
     "name": "stdout",
     "output_type": "stream",
     "text": [
      "Index(['ANTIOQUIA', 'ARAUCA', 'ATLANTICO', 'BOGOTA', 'BOLIVAR', 'BOYACA',\n",
      "       'CALDAS', 'CAQUETA', 'CASANARE', 'CAUCA', 'CESAR', 'CHOCO', 'CORDOBA',\n",
      "       'CUNDINAMARCA', 'GUAVIARE', 'HUILA', 'LA GUAJIRA', 'MAGDALENA', 'META',\n",
      "       'NARIÑO', 'NORTE SANTANDER', 'PUTUMAYO', 'QUINDIO', 'RISARALDA',\n",
      "       'SAN ANDRES', 'SANTANDER', 'SUCRE', 'TOLIMA', 'VALLE'],\n",
      "      dtype='object')\n",
      "ANTIOQUIA           3689\n",
      "ARAUCA               133\n",
      "ATLANTICO           1236\n",
      "BOGOTA              7056\n",
      "BOLIVAR              294\n",
      "BOYACA               263\n",
      "CALDAS               418\n",
      "CAQUETA              335\n",
      "CASANARE             149\n",
      "CAUCA               7574\n",
      "CESAR                259\n",
      "CHOCO                  1\n",
      "CORDOBA              633\n",
      "CUNDINAMARCA        1460\n",
      "GUAVIARE              10\n",
      "HUILA                885\n",
      "LA GUAJIRA           136\n",
      "MAGDALENA            167\n",
      "META                 601\n",
      "NARIÑO             11564\n",
      "NORTE SANTANDER      501\n",
      "PUTUMAYO              26\n",
      "QUINDIO              485\n",
      "RISARALDA            508\n",
      "SAN ANDRES             1\n",
      "SANTANDER            928\n",
      "SUCRE                 56\n",
      "TOLIMA               507\n",
      "VALLE              38086\n",
      "Name: ESTU_DEPTO_PRESENTACION, dtype: int64\n",
      "Elementos null/NaN 0\n",
      "__________________\n",
      "Elementos diferentes de null/NaN: 77961\n",
      "__________________\n",
      "(77961,)\n",
      "None\n"
     ]
    }
   ],
   "source": [
    "\"\"\"PERFECT!\"\"\"\n",
    "print(data_2001['ESTU_DEPTO_PRESENTACION'].value_counts().sort_index().index)\n",
    "print(data_2001['ESTU_DEPTO_PRESENTACION'].value_counts().sort_index())\n",
    "print(missing_data(data_2001['ESTU_DEPTO_PRESENTACION']))"
   ]
  },
  {
   "cell_type": "code",
   "execution_count": 22,
   "metadata": {
    "collapsed": false,
    "scrolled": true
   },
   "outputs": [
    {
     "name": "stdout",
     "output_type": "stream",
     "text": [
      "Index(['AGUACHICA', 'ALCALA', 'ANDALUCIA', 'ANSERMANUEVO', 'APARTADO',\n",
      "       'ARAUCA', 'ARMENIA', 'BARBACOAS', 'BARRANCABERMEJA', 'BARRANQUILLA',\n",
      "       ...\n",
      "       'TULUA', 'TUMACO', 'TUNJA', 'TUQUERRES', 'UBATE', 'VALLEDUPAR',\n",
      "       'VILLAVICENCIO', 'YOPAL', 'YUMBO', 'ZARZAL'],\n",
      "      dtype='object', length=125)\n",
      "AGUACHICA                    32\n",
      "ALCALA                      134\n",
      "ANDALUCIA                   171\n",
      "ANSERMANUEVO                 48\n",
      "APARTADO                     80\n",
      "ARAUCA                       87\n",
      "ARMENIA                     485\n",
      "BARBACOAS                   124\n",
      "BARRANCABERMEJA              51\n",
      "BARRANQUILLA               1236\n",
      "BELLO                       533\n",
      "BOGOTA D.C.                7056\n",
      "BOLIVAR                     314\n",
      "BUCARAMANGA                 697\n",
      "BUENAVENTURA               2874\n",
      "BUENOS AIRES                 51\n",
      "BUESACO                     134\n",
      "BUGA                       1647\n",
      "BUGALAGRANDE                254\n",
      "CAICEDONIA                  256\n",
      "CAJIBIO                       6\n",
      "CALDONO                      48\n",
      "CALI                      18770\n",
      "CALIMA (DARIEN)             159\n",
      "CALOTO                      150\n",
      "CAMPOALEGRE                  22\n",
      "CANDELARIA                  681\n",
      "CAQUEZA                       1\n",
      "CARTAGENA                   271\n",
      "CARTAGO                    1499\n",
      "                          ...  \n",
      "SAN JUAN DE RIO SECO         46\n",
      "SAN MARTIN                   28\n",
      "SAN PABLO                   202\n",
      "SANDONA                     249\n",
      "SANTA MARTA                 102\n",
      "SANTANDER DE QUILICHAO      942\n",
      "SARAVENA                     30\n",
      "SEVILLA                     475\n",
      "SILVIA                      120\n",
      "SINCELEJO                    56\n",
      "SOACHA                      416\n",
      "SOGAMOSO                     85\n",
      "SUAREZ                      129\n",
      "TAME                         16\n",
      "TAMINANGO                   133\n",
      "TANGUA                       34\n",
      "TIERRALTA                   125\n",
      "TIMBIO                      231\n",
      "TORO                        132\n",
      "TRUJILLO                    108\n",
      "TULUA                      2209\n",
      "TUMACO                     1083\n",
      "TUNJA                       178\n",
      "TUQUERRES                   452\n",
      "UBATE                        41\n",
      "VALLEDUPAR                  227\n",
      "VILLAVICENCIO               573\n",
      "YOPAL                        97\n",
      "YUMBO                       871\n",
      "ZARZAL                      525\n",
      "Name: ESTU_MCPIO_PRESENTACION, dtype: int64\n",
      "Elementos null/NaN 0\n",
      "__________________\n",
      "Elementos diferentes de null/NaN: 77961\n",
      "__________________\n",
      "(77961,)\n",
      "None\n"
     ]
    }
   ],
   "source": [
    "\"\"\"PERFECT!\"\"\"\n",
    "print(data_2001['ESTU_MCPIO_PRESENTACION'].value_counts().sort_index().index)\n",
    "print(data_2001['ESTU_MCPIO_PRESENTACION'].value_counts().sort_index())\n",
    "print(missing_data(data_2001['ESTU_MCPIO_PRESENTACION']))"
   ]
  },
  {
   "cell_type": "code",
   "execution_count": 23,
   "metadata": {
    "collapsed": false
   },
   "outputs": [
    {
     "name": "stdout",
     "output_type": "stream",
     "text": [
      "Index(['I'], dtype='object')\n",
      "I    4\n",
      "Name: ESTU_LIMITA_INVIDENTE, dtype: int64\n",
      "Elementos null/NaN 77957\n",
      "__________________\n",
      "Elementos diferentes de null/NaN: 4\n",
      "__________________\n",
      "(4,)\n",
      "None\n"
     ]
    }
   ],
   "source": [
    "\"\"\"Here in this column i found a lot of np.nan that i will replace for string 'NaN'\"\"\"\n",
    "print(data_2001['ESTU_LIMITA_INVIDENTE'].value_counts().sort_index().index)\n",
    "print(data_2001['ESTU_LIMITA_INVIDENTE'].value_counts().sort_index())\n",
    "print(missing_data(data_2001['ESTU_LIMITA_INVIDENTE']))"
   ]
  },
  {
   "cell_type": "code",
   "execution_count": 24,
   "metadata": {
    "collapsed": true
   },
   "outputs": [],
   "source": [
    "data_2001['ESTU_LIMITA_INVIDENTE'] = data_2001['ESTU_LIMITA_INVIDENTE'].replace(np.nan, 'NaN')"
   ]
  },
  {
   "cell_type": "code",
   "execution_count": 25,
   "metadata": {
    "collapsed": false
   },
   "outputs": [
    {
     "name": "stdout",
     "output_type": "stream",
     "text": [
      "Float64Index([], dtype='float64')\n",
      "Series([], Name: ESTU_LIMITA_SORDOINTERPRETE, dtype: int64)\n",
      "Elementos null/NaN 77961\n",
      "__________________\n",
      "Elementos diferentes de null/NaN: 0\n",
      "__________________\n",
      "(0,)\n",
      "None\n"
     ]
    }
   ],
   "source": [
    "\"\"\"The column is empty, so THIS COLUMN WILL BE DELETED\"\"\"\n",
    "print(data_2001['ESTU_LIMITA_SORDOINTERPRETE'].value_counts().sort_index().index)\n",
    "print(data_2001['ESTU_LIMITA_SORDOINTERPRETE'].value_counts().sort_index())\n",
    "print(missing_data(data_2001['ESTU_LIMITA_SORDOINTERPRETE']))"
   ]
  },
  {
   "cell_type": "code",
   "execution_count": 26,
   "metadata": {
    "collapsed": false
   },
   "outputs": [
    {
     "name": "stdout",
     "output_type": "stream",
     "text": [
      "Index(['S'], dtype='object')\n",
      "S    15\n",
      "Name: ESTU_LIMITA_SORDONOINTERPRETE, dtype: int64\n",
      "Elementos null/NaN 77946\n",
      "__________________\n",
      "Elementos diferentes de null/NaN: 15\n",
      "__________________\n",
      "(15,)\n",
      "None\n"
     ]
    }
   ],
   "source": [
    "\"\"\"A lot of np.nan tha will be replaced for 'NaN'\"\"\"\n",
    "print(data_2001['ESTU_LIMITA_SORDONOINTERPRETE'].value_counts().sort_index().index)\n",
    "print(data_2001['ESTU_LIMITA_SORDONOINTERPRETE'].value_counts().sort_index())\n",
    "print(missing_data(data_2001['ESTU_LIMITA_SORDONOINTERPRETE']))"
   ]
  },
  {
   "cell_type": "code",
   "execution_count": 27,
   "metadata": {
    "collapsed": true
   },
   "outputs": [],
   "source": [
    "data_2001['ESTU_LIMITA_SORDONOINTERPRETE'] = data_2001['ESTU_LIMITA_SORDONOINTERPRETE'].replace(np.nan, 'NaN')"
   ]
  },
  {
   "cell_type": "code",
   "execution_count": 28,
   "metadata": {
    "collapsed": false
   },
   "outputs": [
    {
     "name": "stdout",
     "output_type": "stream",
     "text": [
      "Index(['M'], dtype='object')\n",
      "M    14\n",
      "Name: ESTU_LIMITA_MOTRIZ, dtype: int64\n",
      "Elementos null/NaN 77947\n",
      "__________________\n",
      "Elementos diferentes de null/NaN: 14\n",
      "__________________\n",
      "(14,)\n",
      "None\n"
     ]
    }
   ],
   "source": [
    "\"\"\"A lot of np.nan tha will be replaced for 'NaN'\"\"\"\n",
    "print(data_2001['ESTU_LIMITA_MOTRIZ'].value_counts().sort_index().index)\n",
    "print(data_2001['ESTU_LIMITA_MOTRIZ'].value_counts().sort_index())\n",
    "print(missing_data(data_2001['ESTU_LIMITA_MOTRIZ']))"
   ]
  },
  {
   "cell_type": "code",
   "execution_count": 29,
   "metadata": {
    "collapsed": true
   },
   "outputs": [],
   "source": [
    "data_2001['ESTU_LIMITA_MOTRIZ'] = data_2001['ESTU_LIMITA_MOTRIZ'].replace(np.nan, 'NaN')"
   ]
  },
  {
   "cell_type": "code",
   "execution_count": 30,
   "metadata": {
    "collapsed": false,
    "scrolled": true
   },
   "outputs": [
    {
     "name": "stdout",
     "output_type": "stream",
     "text": [
      "Index(['*', '*  *', '* *', '* 06', '* 1', '* 12', '* 16', '* 2', '* 20', '**',\n",
      "       ...\n",
      "       '9450', '9515', '9806', '9811', '99', '99 9', '9911', '9912', '999',\n",
      "       '9999'],\n",
      "      dtype='object', length=755)\n",
      "*         11\n",
      "*  *       2\n",
      "* *        8\n",
      "* 06       1\n",
      "* 1        1\n",
      "* 12       1\n",
      "* 16       1\n",
      "* 2        1\n",
      "* 20       1\n",
      "**        22\n",
      "****       5\n",
      "*0         6\n",
      "*0 1       1\n",
      "*0 3       1\n",
      "*0 4       1\n",
      "*0 8       1\n",
      "*01        1\n",
      "*03        2\n",
      "*06        2\n",
      "*07        1\n",
      "*1         5\n",
      "*1 0       1\n",
      "*1 2       1\n",
      "*1 3       1\n",
      "*101       1\n",
      "*103       1\n",
      "*105       1\n",
      "*11        6\n",
      "*11*       1\n",
      "*113       1\n",
      "        ... \n",
      "910        3\n",
      "9100       7\n",
      "9101     526\n",
      "9102      81\n",
      "9103     317\n",
      "9104     411\n",
      "9105     224\n",
      "9107      48\n",
      "9109      18\n",
      "911        3\n",
      "911*       1\n",
      "9110     350\n",
      "9111     841\n",
      "9112     144\n",
      "9113      11\n",
      "9114      58\n",
      "9115     248\n",
      "9116       1\n",
      "9145       1\n",
      "9329       1\n",
      "9450       3\n",
      "9515       2\n",
      "9806       1\n",
      "9811       1\n",
      "99         4\n",
      "99 9       3\n",
      "9911       1\n",
      "9912       1\n",
      "999       24\n",
      "9999    6095\n",
      "Name: ESTU_IES_COD_DESEADA, dtype: int64\n",
      "Elementos null/NaN 7244\n",
      "__________________\n",
      "Elementos diferentes de null/NaN: 70717\n",
      "__________________\n",
      "(70717,)\n",
      "None\n"
     ]
    }
   ],
   "source": [
    "\"\"\"A lot of incoherences found, the normal codes of some IES are 4 digits\"\"\"\n",
    "print(data_2001['ESTU_IES_COD_DESEADA'].value_counts().sort_index().index)\n",
    "print(data_2001['ESTU_IES_COD_DESEADA'].value_counts().sort_index())\n",
    "print(missing_data(data_2001['ESTU_IES_COD_DESEADA']))"
   ]
  },
  {
   "cell_type": "code",
   "execution_count": 31,
   "metadata": {
    "collapsed": true
   },
   "outputs": [],
   "source": [
    "for i in data_2001['ESTU_IES_COD_DESEADA'].value_counts().sort_index().index:\n",
    "    if '*' in i:\n",
    "        data_2001['ESTU_IES_COD_DESEADA'] = data_2001['ESTU_IES_COD_DESEADA'].replace(i, 'NaN')\n",
    "    elif ' ' in i:\n",
    "        data_2001['ESTU_IES_COD_DESEADA'] = data_2001['ESTU_IES_COD_DESEADA'].replace(i, 'NaN')\n",
    "    elif len(i)<4:\n",
    "        data_2001['ESTU_IES_COD_DESEADA'] = data_2001['ESTU_IES_COD_DESEADA'].replace(i, 'NaN')\n",
    "    elif i != 'NaN':\n",
    "        if int(i)<1000:\n",
    "            data_2001['ESTU_IES_COD_DESEADA'] = data_2001['ESTU_IES_COD_DESEADA'].replace(i, 'NaN')\n",
    "\n",
    "data_2001['ESTU_IES_COD_DESEADA'] = data_2001['ESTU_IES_COD_DESEADA'].replace(np.nan, 'NaN')\n",
    "data_2001['ESTU_IES_COD_DESEADA'] = data_2001['ESTU_IES_COD_DESEADA'].replace('0000', 'NaN')"
   ]
  },
  {
   "cell_type": "code",
   "execution_count": 32,
   "metadata": {
    "collapsed": false
   },
   "outputs": [
    {
     "name": "stdout",
     "output_type": "stream",
     "text": [
      "Index(['*', '1', '2', '3', '4', '5', '6', '7', '8'], dtype='object')\n",
      "*       17\n",
      "1     1458\n",
      "2    21651\n",
      "3    10892\n",
      "4     7567\n",
      "5     9654\n",
      "6     6387\n",
      "7     4917\n",
      "8     8028\n",
      "Name: ESTU_RAZONINSTITUTO, dtype: int64\n",
      "Elementos null/NaN 7390\n",
      "__________________\n",
      "Elementos diferentes de null/NaN: 70571\n",
      "__________________\n",
      "(70571,)\n",
      "None\n"
     ]
    }
   ],
   "source": [
    "\"\"\"Some '*' values that will be replaced, and some np.nan too\"\"\"\n",
    "print(data_2001['ESTU_RAZONINSTITUTO'].value_counts().sort_index().index)\n",
    "print(data_2001['ESTU_RAZONINSTITUTO'].value_counts().sort_index())\n",
    "print(missing_data(data_2001['ESTU_RAZONINSTITUTO']))"
   ]
  },
  {
   "cell_type": "code",
   "execution_count": 33,
   "metadata": {
    "collapsed": false
   },
   "outputs": [],
   "source": [
    "data_2001['ESTU_RAZONINSTITUTO'] = data_2001['ESTU_RAZONINSTITUTO'].replace('*', 'NaN')\n",
    "data_2001['ESTU_RAZONINSTITUTO'] = data_2001['ESTU_RAZONINSTITUTO'].replace(np.nan, 'NaN')"
   ]
  },
  {
   "cell_type": "code",
   "execution_count": 34,
   "metadata": {
    "collapsed": false,
    "scrolled": true
   },
   "outputs": [
    {
     "name": "stdout",
     "output_type": "stream",
     "text": [
      "Index(['*', '*   *', '* *', '* * 1', '* * 4', '* * 9', '* *2', '* *5', '* 1*',\n",
      "       '* 150',\n",
      "       ...\n",
      "       '958', '98103', '98109', '99', '99 9', '99 99', '999', '999 9', '9999',\n",
      "       '99999'],\n",
      "      dtype='object', length=2498)\n",
      "*           8\n",
      "*   *       1\n",
      "* *         3\n",
      "* * 1       1\n",
      "* * 4       1\n",
      "* * 9       1\n",
      "* *2        1\n",
      "* *5        1\n",
      "* 1*        1\n",
      "* 150       1\n",
      "* 3         1\n",
      "* 4         1\n",
      "* 8         1\n",
      "**          8\n",
      "**  3       1\n",
      "**  9       1\n",
      "** 4        1\n",
      "*****       1\n",
      "**0         2\n",
      "**1         6\n",
      "**2         3\n",
      "**4         2\n",
      "**5         1\n",
      "*0          1\n",
      "*0*         1\n",
      "*1          3\n",
      "*1  *       1\n",
      "*1 *        1\n",
      "*1 0        1\n",
      "*1 09       1\n",
      "         ... \n",
      "91011       1\n",
      "9102       11\n",
      "91021       1\n",
      "91022       1\n",
      "9103       23\n",
      "9104       39\n",
      "9105        9\n",
      "9107        4\n",
      "9108        1\n",
      "911 2       1\n",
      "9110        9\n",
      "91104       1\n",
      "9111        7\n",
      "9112        2\n",
      "9114        3\n",
      "9115        1\n",
      "9117        1\n",
      "92159       1\n",
      "92642       1\n",
      "94104       1\n",
      "958         1\n",
      "98103       1\n",
      "98109       1\n",
      "99          4\n",
      "99 9        1\n",
      "99 99       1\n",
      "999        10\n",
      "999 9       2\n",
      "9999      120\n",
      "99999    5490\n",
      "Name: ESTU_CARRDESEADA_COD, dtype: int64\n",
      "Elementos null/NaN 4730\n",
      "__________________\n",
      "Elementos diferentes de null/NaN: 73231\n",
      "__________________\n",
      "(73231,)\n",
      "None\n"
     ]
    }
   ],
   "source": [
    "\"\"\"All the incoherences and the np.nan will be replaced for 'NaN'\"\"\"\n",
    "print(data_2001['ESTU_CARRDESEADA_COD'].value_counts().sort_index().index)\n",
    "print(data_2001['ESTU_CARRDESEADA_COD'].value_counts().sort_index())\n",
    "print(missing_data(data_2001['ESTU_CARRDESEADA_COD']))"
   ]
  },
  {
   "cell_type": "code",
   "execution_count": 35,
   "metadata": {
    "collapsed": false
   },
   "outputs": [],
   "source": [
    "for i in data_2001['ESTU_CARRDESEADA_COD'].value_counts().sort_index().index:\n",
    "    if '*' in i:\n",
    "        data_2001['ESTU_CARRDESEADA_COD'] = data_2001['ESTU_CARRDESEADA_COD'].replace(i, 'NaN')\n",
    "    elif ' ' in i:\n",
    "        data_2001['ESTU_CARRDESEADA_COD'] = data_2001['ESTU_CARRDESEADA_COD'].replace(i, 'NaN')\n",
    "    elif i != 'NaN':\n",
    "        if int(i) == 0:\n",
    "            data_2001['ESTU_CARRDESEADA_COD'] = data_2001['ESTU_CARRDESEADA_COD'].replace(i, 'NaN')\n",
    "data_2001['ESTU_CARRDESEADA_COD'] = data_2001['ESTU_CARRDESEADA_COD'].replace(np.nan, 'NaN')"
   ]
  },
  {
   "cell_type": "code",
   "execution_count": 36,
   "metadata": {
    "collapsed": false
   },
   "outputs": [
    {
     "name": "stdout",
     "output_type": "stream",
     "text": [
      "Index(['1', '3', '2', '5', '4', 2.0, 3.0, 1.0, '6', 5.0, 4.0, 6.0, '*'], dtype='object')\n",
      "1      17283\n",
      "3      15723\n",
      "2      13399\n",
      "5       5005\n",
      "4       4583\n",
      "2.0     4569\n",
      "3.0     4238\n",
      "1.0     4203\n",
      "6       1750\n",
      "5.0     1060\n",
      "4.0      955\n",
      "6.0      373\n",
      "*         10\n",
      "Name: ESTU_CARRDESEADA_RAZON, dtype: int64\n",
      "Elementos null/NaN 4810\n",
      "__________________\n",
      "Elementos diferentes de null/NaN: 73151\n",
      "__________________\n",
      "(73151,)\n",
      "None\n"
     ]
    }
   ],
   "source": [
    "\"\"\"Has numbers and string so i have to let everything in just one dtype and change the '*' values and the np.nan too\"\"\"\n",
    "print(data_2001['ESTU_CARRDESEADA_RAZON'].value_counts().index)\n",
    "print(data_2001['ESTU_CARRDESEADA_RAZON'].value_counts())\n",
    "print(missing_data(data_2001['ESTU_CARRDESEADA_RAZON']))"
   ]
  },
  {
   "cell_type": "code",
   "execution_count": 37,
   "metadata": {
    "collapsed": true
   },
   "outputs": [],
   "source": [
    "data_2001['ESTU_CARRDESEADA_RAZON'] = data_2001['ESTU_CARRDESEADA_RAZON'].replace(1.0, '1')\n",
    "data_2001['ESTU_CARRDESEADA_RAZON'] = data_2001['ESTU_CARRDESEADA_RAZON'].replace(2.0, '2')\n",
    "data_2001['ESTU_CARRDESEADA_RAZON'] = data_2001['ESTU_CARRDESEADA_RAZON'].replace(3.0, '3')\n",
    "data_2001['ESTU_CARRDESEADA_RAZON'] = data_2001['ESTU_CARRDESEADA_RAZON'].replace(4.0, '4')\n",
    "data_2001['ESTU_CARRDESEADA_RAZON'] = data_2001['ESTU_CARRDESEADA_RAZON'].replace(5.0, '5')\n",
    "data_2001['ESTU_CARRDESEADA_RAZON'] = data_2001['ESTU_CARRDESEADA_RAZON'].replace(6.0, '6')\n",
    "data_2001['ESTU_CARRDESEADA_RAZON'] = data_2001['ESTU_CARRDESEADA_RAZON'].replace('*', 'NaN')\n",
    "data_2001['ESTU_CARRDESEADA_RAZON'] = data_2001['ESTU_CARRDESEADA_RAZON'].replace(np.nan, 'NaN')"
   ]
  },
  {
   "cell_type": "code",
   "execution_count": 38,
   "metadata": {
    "collapsed": false
   },
   "outputs": [
    {
     "name": "stdout",
     "output_type": "stream",
     "text": [
      "Index(['*', '+', '1', '2', '3', '4', '5', '6', '7', '8', '9'], dtype='object')\n",
      "*      162\n",
      "+     3184\n",
      "1      315\n",
      "2     2778\n",
      "3     9437\n",
      "4    19165\n",
      "5    18965\n",
      "6    11081\n",
      "7     6271\n",
      "8     3632\n",
      "9     2258\n",
      "Name: FAMI_PERSONAS_HOGAR, dtype: int64\n",
      "Elementos null/NaN 713\n",
      "__________________\n",
      "Elementos diferentes de null/NaN: 77248\n",
      "__________________\n",
      "(77248,)\n",
      "None\n"
     ]
    }
   ],
   "source": [
    "\"\"\"This column has '*' values that will be replaced and some np.nan values that will be replaced too... \n",
    "The '+' simbol will be replaced for '+9'\"\"\"\n",
    "print(data_2001['FAMI_PERSONAS_HOGAR'].value_counts().sort_index().index)\n",
    "print(data_2001['FAMI_PERSONAS_HOGAR'].value_counts().sort_index())\n",
    "print(missing_data(data_2001['FAMI_PERSONAS_HOGAR']))"
   ]
  },
  {
   "cell_type": "code",
   "execution_count": 39,
   "metadata": {
    "collapsed": true
   },
   "outputs": [],
   "source": [
    "data_2001['FAMI_PERSONAS_HOGAR'] = data_2001['FAMI_PERSONAS_HOGAR'].replace('+', '+9')\n",
    "data_2001['FAMI_PERSONAS_HOGAR'] = data_2001['FAMI_PERSONAS_HOGAR'].replace('*', 'NaN')\n",
    "data_2001['FAMI_PERSONAS_HOGAR'] = data_2001['FAMI_PERSONAS_HOGAR'].replace(np.nan, 'NaN')"
   ]
  },
  {
   "cell_type": "code",
   "execution_count": 40,
   "metadata": {
    "collapsed": false
   },
   "outputs": [
    {
     "name": "stdout",
     "output_type": "stream",
     "text": [
      "Index(['*', 'N', 'S'], dtype='object')\n",
      "*        9\n",
      "N    22083\n",
      "S    53521\n",
      "Name: FAMI_VIVIENDA_PROPIA, dtype: int64\n",
      "Elementos null/NaN 2348\n",
      "__________________\n",
      "Elementos diferentes de null/NaN: 75613\n",
      "__________________\n",
      "(75613,)\n",
      "None\n"
     ]
    }
   ],
   "source": [
    "\"\"\"The '*' values and the np.nan will be repalced for 'NaN'\"\"\"\n",
    "print(data_2001['FAMI_VIVIENDA_PROPIA'].value_counts().sort_index().index)\n",
    "print(data_2001['FAMI_VIVIENDA_PROPIA'].value_counts().sort_index())\n",
    "print(missing_data(data_2001['FAMI_VIVIENDA_PROPIA']))"
   ]
  },
  {
   "cell_type": "code",
   "execution_count": 41,
   "metadata": {
    "collapsed": true
   },
   "outputs": [],
   "source": [
    "data_2001['FAMI_VIVIENDA_PROPIA'] = data_2001['FAMI_VIVIENDA_PROPIA'].replace('*', 'NaN')\n",
    "data_2001['FAMI_VIVIENDA_PROPIA'] = data_2001['FAMI_VIVIENDA_PROPIA'].replace(np.nan, 'NaN')"
   ]
  },
  {
   "cell_type": "code",
   "execution_count": 42,
   "metadata": {
    "collapsed": false,
    "scrolled": true
   },
   "outputs": [
    {
     "name": "stdout",
     "output_type": "stream",
     "text": [
      "Index(['*', 'N', 'S'], dtype='object')\n",
      "*        3\n",
      "N    36532\n",
      "S    11028\n",
      "Name: FAMI_DEUDA_VIVIENDA, dtype: int64\n",
      "Elementos null/NaN 30398\n",
      "__________________\n",
      "Elementos diferentes de null/NaN: 47563\n",
      "__________________\n",
      "(47563,)\n",
      "None\n"
     ]
    }
   ],
   "source": [
    "\"\"\"The '*' values and the np.nan will be repalced for 'NaN'\"\"\"\n",
    "print(data_2001['FAMI_DEUDA_VIVIENDA'].value_counts().sort_index().index)\n",
    "print(data_2001['FAMI_DEUDA_VIVIENDA'].value_counts().sort_index())\n",
    "print(missing_data(data_2001['FAMI_DEUDA_VIVIENDA']))"
   ]
  },
  {
   "cell_type": "code",
   "execution_count": 43,
   "metadata": {
    "collapsed": true
   },
   "outputs": [],
   "source": [
    "data_2001['FAMI_DEUDA_VIVIENDA'] = data_2001['FAMI_DEUDA_VIVIENDA'].replace('*', 'NaN')\n",
    "data_2001['FAMI_DEUDA_VIVIENDA'] = data_2001['FAMI_DEUDA_VIVIENDA'].replace(np.nan, 'NaN')"
   ]
  },
  {
   "cell_type": "code",
   "execution_count": 44,
   "metadata": {
    "collapsed": false,
    "scrolled": true
   },
   "outputs": [
    {
     "name": "stdout",
     "output_type": "stream",
     "text": [
      "Index(['*', '+', '0', '1', '2', '3', '4', '5', '6', '7', '8', '9'], dtype='object')\n",
      "*      165\n",
      "+       84\n",
      "0      254\n",
      "1    38695\n",
      "2    28841\n",
      "3     5881\n",
      "4     1763\n",
      "5      533\n",
      "6      179\n",
      "7       60\n",
      "8       47\n",
      "9       23\n",
      "Name: FAMI_APORTANTES, dtype: int64\n",
      "Elementos null/NaN 1436\n",
      "__________________\n",
      "Elementos diferentes de null/NaN: 76525\n",
      "__________________\n",
      "(76525,)\n",
      "None\n"
     ]
    }
   ],
   "source": [
    "\"\"\"This column has '*' values that will be replaced and some np.nan values that will be replaced too... \n",
    "The '+' simbol will be replaced for '+9'\"\"\"\n",
    "print(data_2001['FAMI_APORTANTES'].value_counts().sort_index().index)\n",
    "print(data_2001['FAMI_APORTANTES'].value_counts().sort_index())\n",
    "print(missing_data(data_2001['FAMI_APORTANTES']))"
   ]
  },
  {
   "cell_type": "code",
   "execution_count": 45,
   "metadata": {
    "collapsed": true
   },
   "outputs": [],
   "source": [
    "data_2001['FAMI_APORTANTES'] = data_2001['FAMI_APORTANTES'].replace('+', '+9')\n",
    "data_2001['FAMI_APORTANTES'] = data_2001['FAMI_APORTANTES'].replace('*', 'NaN')\n",
    "data_2001['FAMI_APORTANTES'] = data_2001['FAMI_APORTANTES'].replace(np.nan, 'NaN')"
   ]
  },
  {
   "cell_type": "code",
   "execution_count": 46,
   "metadata": {
    "collapsed": false
   },
   "outputs": [
    {
     "name": "stdout",
     "output_type": "stream",
     "text": [
      "Index(['*', '0', '1', '2', '3', '4', '5', '6', '7', '8', '9'], dtype='object')\n",
      "*       46\n",
      "0    19315\n",
      "1    29728\n",
      "2    12610\n",
      "3     6758\n",
      "4     2563\n",
      "5     1344\n",
      "6     1076\n",
      "7      622\n",
      "8      578\n",
      "9     1404\n",
      "Name: FAMI_INGRESO_FMILIAR_MENSUAL, dtype: int64\n",
      "Elementos null/NaN 1917\n",
      "__________________\n",
      "Elementos diferentes de null/NaN: 76044\n",
      "__________________\n",
      "(76044,)\n",
      "None\n"
     ]
    }
   ],
   "source": [
    "\"\"\"Just the '*' values\"\"\"\n",
    "print(data_2001['FAMI_INGRESO_FMILIAR_MENSUAL'].value_counts().sort_index().index)\n",
    "print(data_2001['FAMI_INGRESO_FMILIAR_MENSUAL'].value_counts().sort_index())\n",
    "print(missing_data(data_2001['FAMI_INGRESO_FMILIAR_MENSUAL']))"
   ]
  },
  {
   "cell_type": "code",
   "execution_count": 47,
   "metadata": {
    "collapsed": true
   },
   "outputs": [],
   "source": [
    "data_2001['FAMI_INGRESO_FMILIAR_MENSUAL'] = data_2001['FAMI_INGRESO_FMILIAR_MENSUAL'].replace('*', 'NaN')\n",
    "data_2001['FAMI_INGRESO_FMILIAR_MENSUAL'] = data_2001['FAMI_INGRESO_FMILIAR_MENSUAL'].replace(np.nan, 'NaN')"
   ]
  },
  {
   "cell_type": "code",
   "execution_count": 48,
   "metadata": {
    "collapsed": false
   },
   "outputs": [
    {
     "name": "stdout",
     "output_type": "stream",
     "text": [
      "Index(['*', 'N', 'S'], dtype='object')\n",
      "*       36\n",
      "N     2391\n",
      "S    67644\n",
      "Name: FAMI_LEE_ESCRIBE_PADRE, dtype: int64\n",
      "Elementos null/NaN 7890\n",
      "__________________\n",
      "Elementos diferentes de null/NaN: 70071\n",
      "__________________\n",
      "(70071,)\n",
      "None\n"
     ]
    }
   ],
   "source": [
    "\"\"\"The '*' values will be replaced and the np.nan too\"\"\"\n",
    "print(data_2001['FAMI_LEE_ESCRIBE_PADRE'].value_counts().sort_index().index)\n",
    "print(data_2001['FAMI_LEE_ESCRIBE_PADRE'].value_counts().sort_index())\n",
    "print(missing_data(data_2001['FAMI_LEE_ESCRIBE_PADRE']))"
   ]
  },
  {
   "cell_type": "code",
   "execution_count": 49,
   "metadata": {
    "collapsed": true
   },
   "outputs": [],
   "source": [
    "data_2001['FAMI_LEE_ESCRIBE_PADRE'] = data_2001['FAMI_LEE_ESCRIBE_PADRE'].replace('*', 'NaN')\n",
    "data_2001['FAMI_LEE_ESCRIBE_PADRE'] = data_2001['FAMI_LEE_ESCRIBE_PADRE'].replace(np.nan, 'NaN')"
   ]
  },
  {
   "cell_type": "code",
   "execution_count": 50,
   "metadata": {
    "collapsed": false
   },
   "outputs": [
    {
     "name": "stdout",
     "output_type": "stream",
     "text": [
      "Index(['*', 'N', 'S'], dtype='object')\n",
      "*       54\n",
      "N     2826\n",
      "S    72205\n",
      "Name: FAMI_LEE_ESCRIBE_MADRE, dtype: int64\n",
      "Elementos null/NaN 2876\n",
      "__________________\n",
      "Elementos diferentes de null/NaN: 75085\n",
      "__________________\n",
      "(75085,)\n",
      "None\n"
     ]
    }
   ],
   "source": [
    "\"\"\"The '*' values will be replaced and the np.nan too\"\"\"\n",
    "print(data_2001['FAMI_LEE_ESCRIBE_MADRE'].value_counts().sort_index().index)\n",
    "print(data_2001['FAMI_LEE_ESCRIBE_MADRE'].value_counts().sort_index())\n",
    "print(missing_data(data_2001['FAMI_LEE_ESCRIBE_MADRE']))"
   ]
  },
  {
   "cell_type": "code",
   "execution_count": 51,
   "metadata": {
    "collapsed": true
   },
   "outputs": [],
   "source": [
    "data_2001['FAMI_LEE_ESCRIBE_MADRE'] = data_2001['FAMI_LEE_ESCRIBE_MADRE'].replace('*', 'NaN')\n",
    "data_2001['FAMI_LEE_ESCRIBE_MADRE'] = data_2001['FAMI_LEE_ESCRIBE_MADRE'].replace(np.nan, 'NaN')"
   ]
  },
  {
   "cell_type": "code",
   "execution_count": 52,
   "metadata": {
    "collapsed": false
   },
   "outputs": [
    {
     "name": "stdout",
     "output_type": "stream",
     "text": [
      "Index(['*', '1', '2', '3', '4', '5', '6', '7', '8'], dtype='object')\n",
      "*      842\n",
      "1     3285\n",
      "2      792\n",
      "3    31439\n",
      "4    16533\n",
      "5     3231\n",
      "6     3135\n",
      "7     6260\n",
      "8     3107\n",
      "Name: FAMI_EDUCA_PADRE, dtype: int64\n",
      "Elementos null/NaN 9337\n",
      "__________________\n",
      "Elementos diferentes de null/NaN: 68624\n",
      "__________________\n",
      "(68624,)\n",
      "None\n"
     ]
    }
   ],
   "source": [
    "\"\"\"The '*' values will be replaced and the np.nan too\"\"\"\n",
    "print(data_2001['FAMI_EDUCA_PADRE'].value_counts().sort_index().index)\n",
    "print(data_2001['FAMI_EDUCA_PADRE'].value_counts().sort_index())\n",
    "print(missing_data(data_2001['FAMI_EDUCA_PADRE']))"
   ]
  },
  {
   "cell_type": "code",
   "execution_count": 53,
   "metadata": {
    "collapsed": true
   },
   "outputs": [],
   "source": [
    "data_2001['FAMI_EDUCA_PADRE'] = data_2001['FAMI_EDUCA_PADRE'].replace('*', 'NaN')\n",
    "data_2001['FAMI_EDUCA_PADRE'] = data_2001['FAMI_EDUCA_PADRE'].replace(np.nan, 'NaN')"
   ]
  },
  {
   "cell_type": "code",
   "execution_count": 54,
   "metadata": {
    "collapsed": false
   },
   "outputs": [
    {
     "name": "stdout",
     "output_type": "stream",
     "text": [
      "Index(['*', '1', '2', '3', '4', '5', '6', '7', '8'], dtype='object')\n",
      "*      866\n",
      "1     3290\n",
      "2      914\n",
      "3    33828\n",
      "4    19250\n",
      "5     4128\n",
      "6     2522\n",
      "7     5391\n",
      "8     2156\n",
      "Name: FAMI_EDUCA_MADRE, dtype: int64\n",
      "Elementos null/NaN 5616\n",
      "__________________\n",
      "Elementos diferentes de null/NaN: 72345\n",
      "__________________\n",
      "(72345,)\n",
      "None\n"
     ]
    }
   ],
   "source": [
    "\"\"\"The '*' values will be replaced and the np.nan too\"\"\"\n",
    "print(data_2001['FAMI_EDUCA_MADRE'].value_counts().sort_index().index)\n",
    "print(data_2001['FAMI_EDUCA_MADRE'].value_counts().sort_index())\n",
    "print(missing_data(data_2001['FAMI_EDUCA_MADRE']))"
   ]
  },
  {
   "cell_type": "code",
   "execution_count": 55,
   "metadata": {
    "collapsed": true
   },
   "outputs": [],
   "source": [
    "data_2001['FAMI_EDUCA_MADRE'] = data_2001['FAMI_EDUCA_MADRE'].replace('*', 'NaN')\n",
    "data_2001['FAMI_EDUCA_MADRE'] = data_2001['FAMI_EDUCA_MADRE'].replace(np.nan, 'NaN')"
   ]
  },
  {
   "cell_type": "code",
   "execution_count": 56,
   "metadata": {
    "collapsed": false
   },
   "outputs": [
    {
     "name": "stdout",
     "output_type": "stream",
     "text": [
      "Index(['*', '01', '02', '03', '04', '05', '06', '07', '08', '09', '10', '11',\n",
      "       '12'],\n",
      "      dtype='object')\n",
      "*      1709\n",
      "01     1319\n",
      "02     1641\n",
      "03     3664\n",
      "04     4654\n",
      "05    19204\n",
      "06     9054\n",
      "07      539\n",
      "08    17678\n",
      "09     4482\n",
      "10     1084\n",
      "11       37\n",
      "12     2237\n",
      "Name: FAMI_OCUPA_PADRE, dtype: int64\n",
      "Elementos null/NaN 10659\n",
      "__________________\n",
      "Elementos diferentes de null/NaN: 67302\n",
      "__________________\n",
      "(67302,)\n",
      "None\n"
     ]
    }
   ],
   "source": [
    "\"\"\"The '*' values will be replaced and the np.nan too\"\"\"\n",
    "print(data_2001['FAMI_OCUPA_PADRE'].value_counts().sort_index().index)\n",
    "print(data_2001['FAMI_OCUPA_PADRE'].value_counts().sort_index())\n",
    "print(missing_data(data_2001['FAMI_OCUPA_PADRE']))"
   ]
  },
  {
   "cell_type": "code",
   "execution_count": 57,
   "metadata": {
    "collapsed": true
   },
   "outputs": [],
   "source": [
    "data_2001['FAMI_OCUPA_PADRE'] = data_2001['FAMI_OCUPA_PADRE'].replace('*', 'NaN')\n",
    "data_2001['FAMI_OCUPA_PADRE'] = data_2001['FAMI_OCUPA_PADRE'].replace(np.nan, 'NaN')"
   ]
  },
  {
   "cell_type": "code",
   "execution_count": 58,
   "metadata": {
    "collapsed": false,
    "scrolled": true
   },
   "outputs": [
    {
     "name": "stdout",
     "output_type": "stream",
     "text": [
      "Index(['*', '01', '02', '03', '04', '05', '06', '07', '08', '09', '10', '11',\n",
      "       '12'],\n",
      "      dtype='object')\n",
      "*      1550\n",
      "01      515\n",
      "02      924\n",
      "03     1626\n",
      "04     4188\n",
      "05     9127\n",
      "06     7186\n",
      "07      528\n",
      "08     5168\n",
      "09     1203\n",
      "10    38919\n",
      "11      307\n",
      "12     1383\n",
      "Name: FAMI_OCUPA_MADRE, dtype: int64\n",
      "Elementos null/NaN 5337\n",
      "__________________\n",
      "Elementos diferentes de null/NaN: 72624\n",
      "__________________\n",
      "(72624,)\n",
      "None\n"
     ]
    }
   ],
   "source": [
    "\"\"\"The '*' values will be replaced and the np.nan too\"\"\"\n",
    "print(data_2001['FAMI_OCUPA_MADRE'].value_counts().sort_index().index)\n",
    "print(data_2001['FAMI_OCUPA_MADRE'].value_counts().sort_index())\n",
    "print(missing_data(data_2001['FAMI_OCUPA_MADRE']))"
   ]
  },
  {
   "cell_type": "code",
   "execution_count": 59,
   "metadata": {
    "collapsed": false
   },
   "outputs": [],
   "source": [
    "data_2001['FAMI_OCUPA_MADRE'] = data_2001['FAMI_OCUPA_MADRE'].replace('*', 'NaN')\n",
    "data_2001['FAMI_OCUPA_MADRE'] = data_2001['FAMI_OCUPA_MADRE'].replace(np.nan, 'NaN')"
   ]
  },
  {
   "cell_type": "code",
   "execution_count": 60,
   "metadata": {
    "collapsed": false
   },
   "outputs": [
    {
     "name": "stdout",
     "output_type": "stream",
     "text": [
      "Index(['*', '+', '0', '1', '2', '3', '4', '5', '6', '7', '8', '9'], dtype='object')\n",
      "*      191\n",
      "+     1931\n",
      "0     3907\n",
      "1    15561\n",
      "2    18415\n",
      "3    11749\n",
      "4     7403\n",
      "5     4789\n",
      "6     3266\n",
      "7     2364\n",
      "8     1571\n",
      "9     1145\n",
      "Name: FAMI_NUM_HERMANOS, dtype: int64\n",
      "Elementos null/NaN 5669\n",
      "__________________\n",
      "Elementos diferentes de null/NaN: 72292\n",
      "__________________\n",
      "(72292,)\n",
      "None\n"
     ]
    }
   ],
   "source": [
    "\"\"\"The '*', '+' and the np.nan values will be replaced \"\"\"\n",
    "print(data_2001['FAMI_NUM_HERMANOS'].value_counts().sort_index().index)\n",
    "print(data_2001['FAMI_NUM_HERMANOS'].value_counts().sort_index())\n",
    "print(missing_data(data_2001['FAMI_NUM_HERMANOS']))"
   ]
  },
  {
   "cell_type": "code",
   "execution_count": 61,
   "metadata": {
    "collapsed": true
   },
   "outputs": [],
   "source": [
    "data_2001['FAMI_NUM_HERMANOS'] = data_2001['FAMI_NUM_HERMANOS'].replace('+', '+9')\n",
    "data_2001['FAMI_NUM_HERMANOS'] = data_2001['FAMI_NUM_HERMANOS'].replace('*', 'NaN')\n",
    "data_2001['FAMI_NUM_HERMANOS'] = data_2001['FAMI_NUM_HERMANOS'].replace(np.nan, 'NaN')"
   ]
  },
  {
   "cell_type": "code",
   "execution_count": 62,
   "metadata": {
    "collapsed": false
   },
   "outputs": [
    {
     "name": "stdout",
     "output_type": "stream",
     "text": [
      "Index(['*', '+', '0', '1', '2', '3', '4', '5', '6', '7', '8', '9'], dtype='object')\n",
      "*       63\n",
      "+       49\n",
      "0    38898\n",
      "1    18897\n",
      "2     7305\n",
      "3     2436\n",
      "4      887\n",
      "5      323\n",
      "6      137\n",
      "7       77\n",
      "8       37\n",
      "9       28\n",
      "Name: FAMI_NUM_HERMANOS_EDUSUPERIOR, dtype: int64\n",
      "Elementos null/NaN 8824\n",
      "__________________\n",
      "Elementos diferentes de null/NaN: 69137\n",
      "__________________\n",
      "(69137,)\n",
      "None\n"
     ]
    }
   ],
   "source": [
    "\"\"\"The '*', '+' and the np.nan values will be replaced \"\"\"\n",
    "print(data_2001['FAMI_NUM_HERMANOS_EDUSUPERIOR'].value_counts().sort_index().index)\n",
    "print(data_2001['FAMI_NUM_HERMANOS_EDUSUPERIOR'].value_counts().sort_index())\n",
    "print(missing_data(data_2001['FAMI_NUM_HERMANOS_EDUSUPERIOR']))"
   ]
  },
  {
   "cell_type": "code",
   "execution_count": 63,
   "metadata": {
    "collapsed": true
   },
   "outputs": [],
   "source": [
    "data_2001['FAMI_NUM_HERMANOS_EDUSUPERIOR'] = data_2001['FAMI_NUM_HERMANOS_EDUSUPERIOR'].replace('+', '+9')\n",
    "data_2001['FAMI_NUM_HERMANOS_EDUSUPERIOR'] = data_2001['FAMI_NUM_HERMANOS_EDUSUPERIOR'].replace('*', 'NaN')\n",
    "data_2001['FAMI_NUM_HERMANOS_EDUSUPERIOR'] = data_2001['FAMI_NUM_HERMANOS_EDUSUPERIOR'].replace(np.nan, 'NaN')"
   ]
  },
  {
   "cell_type": "code",
   "execution_count": 64,
   "metadata": {
    "collapsed": false
   },
   "outputs": [
    {
     "name": "stdout",
     "output_type": "stream",
     "text": [
      "Index(['*', '+', '1', '2', '3', '4', '5', '6', '7', '8', '9'], dtype='object')\n",
      "*       14\n",
      "+      765\n",
      "1    25408\n",
      "2    19872\n",
      "3    11998\n",
      "4     6244\n",
      "5     3639\n",
      "6     2265\n",
      "7     1458\n",
      "8      905\n",
      "9      648\n",
      "Name: FAMI_POSICION_HERMANOS, dtype: int64\n",
      "Elementos null/NaN 4745\n",
      "__________________\n",
      "Elementos diferentes de null/NaN: 73216\n",
      "__________________\n",
      "(73216,)\n",
      "None\n"
     ]
    }
   ],
   "source": [
    "\"\"\"The '*', '+' and the np.nan values will be replaced \"\"\"\n",
    "print(data_2001['FAMI_POSICION_HERMANOS'].value_counts().sort_index().index)\n",
    "print(data_2001['FAMI_POSICION_HERMANOS'].value_counts().sort_index())\n",
    "print(missing_data(data_2001['FAMI_POSICION_HERMANOS']))"
   ]
  },
  {
   "cell_type": "code",
   "execution_count": 65,
   "metadata": {
    "collapsed": true
   },
   "outputs": [],
   "source": [
    "data_2001['FAMI_POSICION_HERMANOS'] = data_2001['FAMI_POSICION_HERMANOS'].replace('+', '+9')\n",
    "data_2001['FAMI_POSICION_HERMANOS'] = data_2001['FAMI_POSICION_HERMANOS'].replace('*', 'NaN')\n",
    "data_2001['FAMI_POSICION_HERMANOS'] = data_2001['FAMI_POSICION_HERMANOS'].replace(np.nan, 'NaN')"
   ]
  },
  {
   "cell_type": "code",
   "execution_count": 67,
   "metadata": {
    "collapsed": false
   },
   "outputs": [
    {
     "name": "stdout",
     "output_type": "stream",
     "text": [
      "Index(['*', 'N', 'P', 'T', 'n'], dtype='object')\n",
      "*        6\n",
      "N     6772\n",
      "P    10636\n",
      "T    57465\n",
      "n        1\n",
      "Name: FAMI_SOST_PERSONAL, dtype: int64\n",
      "Elementos null/NaN 3081\n",
      "__________________\n",
      "Elementos diferentes de null/NaN: 74880\n",
      "__________________\n",
      "(74880,)\n",
      "None\n"
     ]
    }
   ],
   "source": [
    "\"\"\"The '*' values and the np.nan values will be replaced, and in added the value with 'n' will be replaced for 'N'\"\"\"\n",
    "print(data_2001['FAMI_SOST_PERSONAL'].value_counts().sort_index().index)\n",
    "print(data_2001['FAMI_SOST_PERSONAL'].value_counts().sort_index())\n",
    "print(missing_data(data_2001['FAMI_SOST_PERSONAL']))"
   ]
  },
  {
   "cell_type": "code",
   "execution_count": 68,
   "metadata": {
    "collapsed": true
   },
   "outputs": [],
   "source": [
    "data_2001['FAMI_SOST_PERSONAL'] = data_2001['FAMI_SOST_PERSONAL'].replace('n', 'N')\n",
    "data_2001['FAMI_SOST_PERSONAL'] = data_2001['FAMI_SOST_PERSONAL'].replace('*', 'NaN')\n",
    "data_2001['FAMI_SOST_PERSONAL'] = data_2001['FAMI_SOST_PERSONAL'].replace(np.nan, 'NaN')"
   ]
  },
  {
   "cell_type": "code",
   "execution_count": 70,
   "metadata": {
    "collapsed": false
   },
   "outputs": [
    {
     "name": "stdout",
     "output_type": "stream",
     "text": [
      "Index(['*', 'N', 'S'], dtype='object')\n",
      "*        3\n",
      "N    62909\n",
      "S    11965\n",
      "Name: ESTU_TRABAJA, dtype: int64\n",
      "Elementos null/NaN 3084\n",
      "__________________\n",
      "Elementos diferentes de null/NaN: 74877\n",
      "__________________\n",
      "(74877,)\n",
      "None\n"
     ]
    }
   ],
   "source": [
    "\"\"\"Just the '*' values\"\"\"\n",
    "print(data_2001['ESTU_TRABAJA'].value_counts().sort_index().index)\n",
    "print(data_2001['ESTU_TRABAJA'].value_counts().sort_index())\n",
    "print(missing_data(data_2001['ESTU_TRABAJA']))"
   ]
  },
  {
   "cell_type": "code",
   "execution_count": 71,
   "metadata": {
    "collapsed": true
   },
   "outputs": [],
   "source": [
    "data_2001['ESTU_TRABAJA'] = data_2001['ESTU_TRABAJA'].replace('*', 'NaN')\n",
    "data_2001['ESTU_TRABAJA'] = data_2001['ESTU_TRABAJA'].replace(np.nan, 'NaN')"
   ]
  },
  {
   "cell_type": "code",
   "execution_count": 72,
   "metadata": {
    "collapsed": false
   },
   "outputs": [
    {
     "name": "stdout",
     "output_type": "stream",
     "text": [
      "Index(['*', '1', '2', '3'], dtype='object')\n",
      "*       45\n",
      "1    21087\n",
      "2     1746\n",
      "3    54470\n",
      "Name: ESTU_ACT_PROX_ANNO, dtype: int64\n",
      "Elementos null/NaN 613\n",
      "__________________\n",
      "Elementos diferentes de null/NaN: 77348\n",
      "__________________\n",
      "(77348,)\n",
      "None\n"
     ]
    }
   ],
   "source": [
    "print(data_2001['ESTU_ACT_PROX_ANNO'].value_counts().sort_index().index)\n",
    "print(data_2001['ESTU_ACT_PROX_ANNO'].value_counts().sort_index())\n",
    "print(missing_data(data_2001['ESTU_ACT_PROX_ANNO']))"
   ]
  },
  {
   "cell_type": "code",
   "execution_count": 73,
   "metadata": {
    "collapsed": true
   },
   "outputs": [],
   "source": [
    "data_2001['ESTU_ACT_PROX_ANNO'] = data_2001['ESTU_ACT_PROX_ANNO'].replace('*', 'NaN')\n",
    "data_2001['ESTU_ACT_PROX_ANNO'] = data_2001['ESTU_ACT_PROX_ANNO'].replace(np.nan, 'NaN')"
   ]
  },
  {
   "cell_type": "code",
   "execution_count": 74,
   "metadata": {
    "collapsed": false
   },
   "outputs": [
    {
     "name": "stdout",
     "output_type": "stream",
     "text": [
      "Index(['A', 'B', 'F'], dtype='object')\n",
      "A     6081\n",
      "B    48042\n",
      "F    23838\n",
      "Name: COLE_CALENDARIO, dtype: int64\n",
      "Elementos null/NaN 0\n",
      "__________________\n",
      "Elementos diferentes de null/NaN: 77961\n",
      "__________________\n",
      "(77961,)\n",
      "None\n"
     ]
    }
   ],
   "source": [
    "\"\"\"PERFECT!\"\"\"\n",
    "print(data_2001['COLE_CALENDARIO'].value_counts().sort_index().index)\n",
    "print(data_2001['COLE_CALENDARIO'].value_counts().sort_index())\n",
    "print(missing_data(data_2001['COLE_CALENDARIO']))"
   ]
  },
  {
   "cell_type": "code",
   "execution_count": 76,
   "metadata": {
    "collapsed": false
   },
   "outputs": [
    {
     "name": "stdout",
     "output_type": "stream",
     "text": [
      "Float64Index([1.0, 2.0], dtype='float64')\n",
      "1.0    2094\n",
      "2.0     243\n",
      "Name: COLE_BILINGUE, dtype: int64\n",
      "Elementos null/NaN 75624\n",
      "__________________\n",
      "Elementos diferentes de null/NaN: 2337\n",
      "__________________\n",
      "(2337,)\n",
      "None\n"
     ]
    }
   ],
   "source": [
    "\"\"\"There are a lot of np.nan values, but the column is float64 dtype\"\"\"\n",
    "print(data_2001['COLE_BILINGUE'].value_counts().sort_index().index)\n",
    "print(data_2001['COLE_BILINGUE'].value_counts().sort_index())\n",
    "print(missing_data(data_2001['COLE_BILINGUE']))"
   ]
  },
  {
   "cell_type": "code",
   "execution_count": 78,
   "metadata": {
    "collapsed": false
   },
   "outputs": [
    {
     "name": "stdout",
     "output_type": "stream",
     "text": [
      "Index(['ACADEMICO', 'ACADEMICO Y TECNICO', 'NORMALISTA', 'TECNICO'], dtype='object')\n",
      "ACADEMICO              40335\n",
      "ACADEMICO Y TECNICO    16746\n",
      "NORMALISTA              1067\n",
      "TECNICO                19813\n",
      "Name: COLE_CARACTER, dtype: int64\n",
      "Elementos null/NaN 0\n",
      "__________________\n",
      "Elementos diferentes de null/NaN: 77961\n",
      "__________________\n",
      "(77961,)\n",
      "None\n"
     ]
    }
   ],
   "source": [
    "\"\"\"PERFECT\"\"\"\n",
    "print(data_2001['COLE_CARACTER'].value_counts().sort_index().index)\n",
    "print(data_2001['COLE_CARACTER'].value_counts().sort_index())\n",
    "print(missing_data(data_2001['COLE_CARACTER']))"
   ]
  },
  {
   "cell_type": "code",
   "execution_count": 80,
   "metadata": {
    "collapsed": false,
    "scrolled": true
   },
   "outputs": [
    {
     "name": "stdout",
     "output_type": "stream",
     "text": [
      "Index(['ANTIOQUIA', 'ARAUCA', 'ATLANTICO', 'BOGOTA', 'BOLIVAR', 'BOYACA',\n",
      "       'CALDAS', 'CAQUETA', 'CASANARE', 'CAUCA', 'CESAR', 'CORDOBA',\n",
      "       'CUNDINAMARCA', 'HUILA', 'LA GUAJIRA', 'MAGDALENA', 'META', 'NARIÑO',\n",
      "       'NORTE SANTANDER', 'PUTUMAYO', 'QUINDIO', 'RISARALDA', 'SANTANDER',\n",
      "       'SUCRE', 'TOLIMA', 'VALLE'],\n",
      "      dtype='object')\n",
      "ANTIOQUIA           3879\n",
      "ARAUCA               135\n",
      "ATLANTICO           1239\n",
      "BOGOTA              6848\n",
      "BOLIVAR              290\n",
      "BOYACA               238\n",
      "CALDAS               407\n",
      "CAQUETA              352\n",
      "CASANARE             148\n",
      "CAUCA               7567\n",
      "CESAR                239\n",
      "CORDOBA              464\n",
      "CUNDINAMARCA        1580\n",
      "HUILA                876\n",
      "LA GUAJIRA           143\n",
      "MAGDALENA            182\n",
      "META                 604\n",
      "NARIÑO             11547\n",
      "NORTE SANTANDER      501\n",
      "PUTUMAYO              27\n",
      "QUINDIO              480\n",
      "RISARALDA            497\n",
      "SANTANDER            967\n",
      "SUCRE                 41\n",
      "TOLIMA               589\n",
      "VALLE              38121\n",
      "Name: COLE_DEPTO_UBICACION, dtype: int64\n",
      "Elementos null/NaN 0\n",
      "__________________\n",
      "Elementos diferentes de null/NaN: 77961\n",
      "__________________\n",
      "(77961,)\n",
      "None\n"
     ]
    }
   ],
   "source": [
    "\"\"\"PERFECT!\"\"\"\n",
    "print(data_2001['COLE_DEPTO_UBICACION'].value_counts().sort_index().index)\n",
    "print(data_2001['COLE_DEPTO_UBICACION'].value_counts().sort_index())\n",
    "print(missing_data(data_2001['COLE_DEPTO_UBICACION']))"
   ]
  },
  {
   "cell_type": "code",
   "execution_count": 81,
   "metadata": {
    "collapsed": false,
    "scrolled": true
   },
   "outputs": [
    {
     "name": "stdout",
     "output_type": "stream",
     "text": [
      "Index(['ACACIAS', 'AGRADO', 'AGUA DE DIOS', 'AGUACHICA', 'AGUADAS', 'AGUAZUL',\n",
      "       'ALBAN (SAN JOSE)', 'ALBANIA', 'ALCALA', 'ALDANA',\n",
      "       ...\n",
      "       'VILLAVICENCIO', 'VILLETA', 'YACUANQUER', 'YARUMAL', 'YOPAL', 'YOTOCO',\n",
      "       'YUMBO', 'ZAPATOCA', 'ZARZAL', 'ZIPAQUIRA'],\n",
      "      dtype='object', length=276)\n",
      "ACACIAS                   11\n",
      "AGRADO                    34\n",
      "AGUA DE DIOS              18\n",
      "AGUACHICA                 24\n",
      "AGUADAS                    9\n",
      "AGUAZUL                   15\n",
      "ALBAN (SAN JOSE)          71\n",
      "ALBANIA                   41\n",
      "ALCALA                   112\n",
      "ALDANA                    65\n",
      "ALGECIRAS                 14\n",
      "ANCUYA                    57\n",
      "ANDALUCIA                200\n",
      "ANGOSTURA                  8\n",
      "ANSERMA                   12\n",
      "ANSERMANUEVO              43\n",
      "ANTIOQUIA                 67\n",
      "APARTADO                  99\n",
      "APIA                      58\n",
      "ARACATACA                  4\n",
      "ARAUCA                   117\n",
      "ARBOLEDA (BERRUECOS)      32\n",
      "ARGELIA                   53\n",
      "ARJONA                    46\n",
      "ARMENIA                  331\n",
      "ARMERO (GUAYABAL)         12\n",
      "BALBOA                    55\n",
      "BARBACOAS                121\n",
      "BARBOSA                   47\n",
      "BARRANCABERMEJA           33\n",
      "                        ... \n",
      "TOCAIMA                   23\n",
      "TORIBIO                   13\n",
      "TORO                     133\n",
      "TOTORO                    22\n",
      "TRUJILLO                 135\n",
      "TULUA                   1962\n",
      "TUMACO                   981\n",
      "TUNJA                     67\n",
      "TUQUERRES                310\n",
      "TURBACO                   49\n",
      "TUTA                      22\n",
      "UBATE                     57\n",
      "ULLOA                     39\n",
      "VALLEDUPAR               185\n",
      "VALPARAISO                10\n",
      "VERSALLES                 61\n",
      "VIJES                     54\n",
      "VILLA RICA                32\n",
      "VILLAGOMEZ                19\n",
      "VILLAMARIA                51\n",
      "VILLAVICENCIO            526\n",
      "VILLETA                   75\n",
      "YACUANQUER                85\n",
      "YARUMAL                   16\n",
      "YOPAL                     30\n",
      "YOTOCO                    97\n",
      "YUMBO                    842\n",
      "ZAPATOCA                  10\n",
      "ZARZAL                   486\n",
      "ZIPAQUIRA                 60\n",
      "Name: COLE_MCPIO_UBICACION, dtype: int64\n",
      "Elementos null/NaN 0\n",
      "__________________\n",
      "Elementos diferentes de null/NaN: 77961\n",
      "__________________\n",
      "(77961,)\n",
      "None\n"
     ]
    }
   ],
   "source": [
    "\"\"\"PERFECT!\"\"\"\n",
    "print(data_2001['COLE_MCPIO_UBICACION'].value_counts().sort_index().index)\n",
    "print(data_2001['COLE_MCPIO_UBICACION'].value_counts().sort_index())\n",
    "print(missing_data(data_2001['COLE_MCPIO_UBICACION']))"
   ]
  },
  {
   "cell_type": "markdown",
   "metadata": {},
   "source": [
    "Here i found another incoherence, the columns *ESTU_RESIDE_MCPIO* y *ESTU_RESIDE_DPTO* are in the wrong place"
   ]
  },
  {
   "cell_type": "code",
   "execution_count": 85,
   "metadata": {
    "collapsed": true
   },
   "outputs": [],
   "source": [
    "data_2001.rename(columns={'ESTU_RESIDE_DPTO':'ESTU_RESIDE_MPIO', 'ESTU_RESIDE_MCPIO':'ESTU_RESIDE_DPTO'}, inplace=True)"
   ]
  },
  {
   "cell_type": "code",
   "execution_count": 87,
   "metadata": {
    "collapsed": false,
    "scrolled": true
   },
   "outputs": [
    {
     "name": "stdout",
     "output_type": "stream",
     "text": [
      "Index(['ACACIAS', 'AGRADO', 'AGUACHICA', 'AGUADAS', 'AGUAZUL', 'AIPE',\n",
      "       'ALBAN (SAN JOSE)', 'ALCALA', 'ALDANA', 'ALEJANDRIA',\n",
      "       ...\n",
      "       'VILLETA', 'YACUANQUER', 'YARUMAL', 'YOPAL', 'YOTOCO', 'YUMBO',\n",
      "       'ZAPATOCA', 'ZARAGOZA', 'ZARZAL', 'ZIPAQUIRA'],\n",
      "      dtype='object', length=348)\n",
      "ACACIAS                   39\n",
      "AGRADO                    31\n",
      "AGUACHICA                 24\n",
      "AGUADAS                    9\n",
      "AGUAZUL                   14\n",
      "AIPE                       2\n",
      "ALBAN (SAN JOSE)          61\n",
      "ALCALA                   114\n",
      "ALDANA                    64\n",
      "ALEJANDRIA                11\n",
      "ALGECIRAS                 14\n",
      "AMAGA                      1\n",
      "ANCUYA                    58\n",
      "ANDALUCIA                184\n",
      "ANGELOPOLIS                1\n",
      "ANGOSTURA                  8\n",
      "ANSERMA                   10\n",
      "ANSERMANUEVO              44\n",
      "ANTIOQUIA                 63\n",
      "APARTADO                  98\n",
      "APIA                       6\n",
      "ARAUCA                    85\n",
      "ARAUQUITA                 10\n",
      "ARBOLEDA (BERRUECOS)      25\n",
      "ARBOLETES                  1\n",
      "ARGELIA                   72\n",
      "ARJONA                    46\n",
      "ARMENIA                  336\n",
      "ARMERO (GUAYABAL)         11\n",
      "BALBOA                    45\n",
      "                        ... \n",
      "TOTORO                    12\n",
      "TRUJILLO                 125\n",
      "TULUA                   2039\n",
      "TUMACO                  1009\n",
      "TUNJA                     76\n",
      "TUQUERRES                330\n",
      "TURBACO                   18\n",
      "TUTA                      21\n",
      "UBATE                     55\n",
      "ULLOA                     36\n",
      "VALLEDUPAR               186\n",
      "VALPARAISO                14\n",
      "VENECIA                    7\n",
      "VERSALLES                 57\n",
      "VIJES                     54\n",
      "VILLA DEL ROSARIO          1\n",
      "VILLAGOMEZ                16\n",
      "VILLAMARIA                48\n",
      "VILLANUEVA                 1\n",
      "VILLAVICENCIO            471\n",
      "VILLETA                   74\n",
      "YACUANQUER                79\n",
      "YARUMAL                   30\n",
      "YOPAL                     47\n",
      "YOTOCO                    99\n",
      "YUMBO                    766\n",
      "ZAPATOCA                   9\n",
      "ZARAGOZA                   1\n",
      "ZARZAL                   509\n",
      "ZIPAQUIRA                 60\n",
      "Name: ESTU_RESIDE_MPIO, dtype: int64\n",
      "Elementos null/NaN 0\n",
      "__________________\n",
      "Elementos diferentes de null/NaN: 77961\n",
      "__________________\n",
      "(77961,)\n",
      "None\n"
     ]
    }
   ],
   "source": [
    "\"\"\"PERFECT!\"\"\"\n",
    "print(data_2001['ESTU_RESIDE_MPIO'].value_counts().sort_index().index)\n",
    "print(data_2001['ESTU_RESIDE_MPIO'].value_counts().sort_index())\n",
    "print(missing_data(data_2001['ESTU_RESIDE_MPIO']))"
   ]
  },
  {
   "cell_type": "code",
   "execution_count": 90,
   "metadata": {
    "collapsed": false,
    "scrolled": true
   },
   "outputs": [
    {
     "name": "stdout",
     "output_type": "stream",
     "text": [
      "Index(['ANTIOQUIA', 'ARAUCA', 'ATLANTICO', 'BOGOTA', 'BOLIVAR', 'BOYACA',\n",
      "       'CALDAS', 'CAQUETA', 'CASANARE', 'CAUCA', 'CESAR', 'CHOCO', 'CORDOBA',\n",
      "       'CUNDINAMARCA', 'GUAVIARE', 'HUILA', 'LA GUAJIRA', 'MAGDALENA', 'META',\n",
      "       'NARIÑO', 'NORTE SANTANDER', 'PUTUMAYO', 'QUINDIO', 'RISARALDA',\n",
      "       'SAN ANDRES', 'SANTANDER', 'SUCRE', 'TOLIMA', 'VALLE'],\n",
      "      dtype='object')\n",
      "ANTIOQUIA           3689\n",
      "ARAUCA               133\n",
      "ATLANTICO           1236\n",
      "BOGOTA              7056\n",
      "BOLIVAR              294\n",
      "BOYACA               263\n",
      "CALDAS               418\n",
      "CAQUETA              335\n",
      "CASANARE             149\n",
      "CAUCA               7574\n",
      "CESAR                259\n",
      "CHOCO                  1\n",
      "CORDOBA              633\n",
      "CUNDINAMARCA        1460\n",
      "GUAVIARE              10\n",
      "HUILA                885\n",
      "LA GUAJIRA           136\n",
      "MAGDALENA            167\n",
      "META                 601\n",
      "NARIÑO             11564\n",
      "NORTE SANTANDER      501\n",
      "PUTUMAYO              26\n",
      "QUINDIO              485\n",
      "RISARALDA            508\n",
      "SAN ANDRES             1\n",
      "SANTANDER            928\n",
      "SUCRE                 56\n",
      "TOLIMA               507\n",
      "VALLE              38086\n",
      "Name: ESTU_RESIDE_DPTO, dtype: int64\n",
      "Elementos null/NaN 0\n",
      "__________________\n",
      "Elementos diferentes de null/NaN: 77961\n",
      "__________________\n",
      "(77961,)\n",
      "None\n"
     ]
    }
   ],
   "source": [
    "\"\"\"PERFECT\"\"\"\n",
    "print(data_2001['ESTU_RESIDE_DPTO'].value_counts().sort_index().index)\n",
    "print(data_2001['ESTU_RESIDE_DPTO'].value_counts().sort_index())\n",
    "print(missing_data(data_2001['ESTU_RESIDE_DPTO']))"
   ]
  },
  {
   "cell_type": "markdown",
   "metadata": {},
   "source": [
    "### Puntajes / TARGETS"
   ]
  },
  {
   "cell_type": "code",
   "execution_count": 91,
   "metadata": {
    "collapsed": false,
    "scrolled": true
   },
   "outputs": [
    {
     "name": "stdout",
     "output_type": "stream",
     "text": [
      "Float64Index([ 0.0, 15.0, 22.0, 27.0, 30.0, 33.0, 35.0, 37.0, 39.0, 40.0, 42.0,\n",
      "              43.0, 45.0, 46.0, 47.0, 49.0, 50.0, 51.0, 52.0, 54.0, 55.0, 56.0,\n",
      "              57.0, 59.0, 60.0, 62.0, 63.0, 65.0, 66.0, 68.0, 71.0, 73.0, 77.0,\n",
      "              81.0],\n",
      "             dtype='float64')\n",
      "0.0        8\n",
      "15.0      17\n",
      "22.0      78\n",
      "27.0     216\n",
      "30.0     623\n",
      "33.0    1394\n",
      "35.0    2618\n",
      "37.0    4362\n",
      "39.0    6109\n",
      "40.0    7608\n",
      "42.0    8577\n",
      "43.0    8627\n",
      "45.0    8138\n",
      "46.0    6778\n",
      "47.0    5497\n",
      "49.0    4282\n",
      "50.0    3285\n",
      "51.0    2543\n",
      "52.0    1906\n",
      "54.0    1387\n",
      "55.0    1062\n",
      "56.0     789\n",
      "57.0     589\n",
      "59.0     476\n",
      "60.0     306\n",
      "62.0     234\n",
      "63.0     181\n",
      "65.0     101\n",
      "66.0      69\n",
      "68.0      44\n",
      "71.0      21\n",
      "73.0       9\n",
      "77.0      10\n",
      "81.0       2\n",
      "Name: PUNT_BIOLOGIA, dtype: int64\n",
      "Elementos null/NaN 15\n",
      "__________________\n",
      "Elementos diferentes de null/NaN: 77946\n",
      "__________________\n",
      "(77946,)\n",
      "None\n"
     ]
    }
   ],
   "source": [
    "\"\"\"PERFECT!\"\"\"\n",
    "print(data_2001['PUNT_BIOLOGIA'].value_counts().sort_index().index)\n",
    "print(data_2001['PUNT_BIOLOGIA'].value_counts().sort_index())\n",
    "print(missing_data(data_2001['PUNT_BIOLOGIA']))"
   ]
  },
  {
   "cell_type": "code",
   "execution_count": 92,
   "metadata": {
    "collapsed": false,
    "scrolled": true
   },
   "outputs": [
    {
     "name": "stdout",
     "output_type": "stream",
     "text": [
      "Float64Index([ 0.0,  1.0,  4.0,  9.0, 13.0, 17.0, 19.0, 22.0, 24.0, 26.0, 28.0,\n",
      "              30.0, 31.0, 33.0, 35.0, 36.0, 38.0, 39.0, 41.0, 42.0, 44.0, 45.0,\n",
      "              47.0, 49.0, 50.0, 52.0, 54.0, 56.0, 58.0, 61.0, 64.0, 67.0,\n",
      "              71.0],\n",
      "             dtype='float64')\n",
      "0.0         5\n",
      "1.0        12\n",
      "4.0         9\n",
      "9.0        12\n",
      "13.0       21\n",
      "17.0       21\n",
      "19.0       37\n",
      "22.0       59\n",
      "24.0       63\n",
      "26.0      104\n",
      "28.0      215\n",
      "30.0      467\n",
      "31.0      920\n",
      "33.0     1598\n",
      "35.0     2825\n",
      "36.0     4309\n",
      "38.0     6618\n",
      "39.0     8196\n",
      "41.0     9579\n",
      "42.0    10130\n",
      "44.0     9367\n",
      "45.0     8036\n",
      "47.0     6093\n",
      "49.0     4056\n",
      "50.0     2497\n",
      "52.0     1459\n",
      "54.0      676\n",
      "56.0      334\n",
      "58.0      130\n",
      "61.0       60\n",
      "64.0       23\n",
      "67.0        7\n",
      "71.0        4\n",
      "Name: PUNT_MATEMATICAS, dtype: int64\n",
      "Elementos null/NaN 19\n",
      "__________________\n",
      "Elementos diferentes de null/NaN: 77942\n",
      "__________________\n",
      "(77942,)\n",
      "None\n"
     ]
    }
   ],
   "source": [
    "\"\"\"PERFECT!\"\"\"\n",
    "print(data_2001['PUNT_MATEMATICAS'].value_counts().sort_index().index)\n",
    "print(data_2001['PUNT_MATEMATICAS'].value_counts().sort_index())\n",
    "print(missing_data(data_2001['PUNT_MATEMATICAS']))"
   ]
  },
  {
   "cell_type": "code",
   "execution_count": 93,
   "metadata": {
    "collapsed": false,
    "scrolled": true
   },
   "outputs": [
    {
     "name": "stdout",
     "output_type": "stream",
     "text": [
      "Float64Index([ 0.0,  7.0, 16.0, 21.0, 25.0, 28.0, 31.0, 33.0, 35.0, 37.0, 39.0,\n",
      "              41.0, 43.0, 44.0, 46.0, 47.0, 49.0, 50.0, 52.0, 53.0, 55.0, 56.0,\n",
      "              58.0, 59.0, 61.0, 63.0, 64.0, 66.0, 69.0, 71.0, 74.0],\n",
      "             dtype='float64')\n",
      "0.0       26\n",
      "7.0       48\n",
      "16.0      75\n",
      "21.0     206\n",
      "25.0     582\n",
      "28.0    1137\n",
      "31.0    2184\n",
      "33.0    3655\n",
      "35.0    5269\n",
      "37.0    6732\n",
      "39.0    7657\n",
      "41.0    7977\n",
      "43.0    7909\n",
      "44.0    7088\n",
      "46.0    6022\n",
      "47.0    5178\n",
      "49.0    4087\n",
      "50.0    3095\n",
      "52.0    2421\n",
      "53.0    1823\n",
      "55.0    1339\n",
      "56.0    1043\n",
      "58.0     807\n",
      "59.0     518\n",
      "61.0     414\n",
      "63.0     272\n",
      "64.0     154\n",
      "66.0      92\n",
      "69.0      48\n",
      "71.0      13\n",
      "74.0      14\n",
      "Name: PUNT_FILOSOFIA, dtype: int64\n",
      "Elementos null/NaN 76\n",
      "__________________\n",
      "Elementos diferentes de null/NaN: 77885\n",
      "__________________\n",
      "(77885,)\n",
      "None\n"
     ]
    }
   ],
   "source": [
    "\"\"\"PERFECT!\"\"\"\n",
    "print(data_2001['PUNT_FILOSOFIA'].value_counts().sort_index().index)\n",
    "print(data_2001['PUNT_FILOSOFIA'].value_counts().sort_index())\n",
    "print(missing_data(data_2001['PUNT_FILOSOFIA']))"
   ]
  },
  {
   "cell_type": "code",
   "execution_count": 94,
   "metadata": {
    "collapsed": false,
    "scrolled": true
   },
   "outputs": [
    {
     "name": "stdout",
     "output_type": "stream",
     "text": [
      "Float64Index([ 0.0, 14.0, 23.0, 29.0, 33.0, 36.0, 39.0, 42.0, 44.0, 46.0, 48.0,\n",
      "              50.0, 52.0, 53.0, 55.0, 56.0, 58.0, 59.0, 61.0, 63.0, 64.0, 66.0,\n",
      "              67.0, 69.0, 71.0, 72.0, 74.0, 76.0, 81.0, 84.0],\n",
      "             dtype='float64')\n",
      "0.0         8\n",
      "14.0       20\n",
      "23.0      125\n",
      "29.0      549\n",
      "33.0     1477\n",
      "36.0     3197\n",
      "39.0     5924\n",
      "42.0     8436\n",
      "44.0    10481\n",
      "46.0    11257\n",
      "48.0    10464\n",
      "50.0     8810\n",
      "52.0     6432\n",
      "53.0     4317\n",
      "55.0     2643\n",
      "56.0     1609\n",
      "58.0      874\n",
      "59.0      526\n",
      "61.0      315\n",
      "63.0      200\n",
      "64.0      110\n",
      "66.0       70\n",
      "67.0       42\n",
      "69.0       34\n",
      "71.0       11\n",
      "72.0       16\n",
      "74.0        4\n",
      "76.0        5\n",
      "81.0        2\n",
      "84.0        1\n",
      "Name: PUNT_FISICA, dtype: int64\n",
      "Elementos null/NaN 2\n",
      "__________________\n",
      "Elementos diferentes de null/NaN: 77959\n",
      "__________________\n",
      "(77959,)\n",
      "None\n"
     ]
    }
   ],
   "source": [
    "\"\"\"PERFECT!\"\"\"\n",
    "print(data_2001['PUNT_FISICA'].value_counts().sort_index().index)\n",
    "print(data_2001['PUNT_FISICA'].value_counts().sort_index())\n",
    "print(missing_data(data_2001['PUNT_FISICA']))"
   ]
  },
  {
   "cell_type": "code",
   "execution_count": 95,
   "metadata": {
    "collapsed": false,
    "scrolled": true
   },
   "outputs": [
    {
     "name": "stdout",
     "output_type": "stream",
     "text": [
      "Float64Index([ 0.0, 14.0, 21.0, 25.0, 28.0, 31.0, 33.0, 35.0, 36.0, 38.0, 39.0,\n",
      "              41.0, 42.0, 43.0, 44.0, 46.0, 47.0, 48.0, 49.0, 50.0, 51.0, 53.0,\n",
      "              54.0, 55.0, 56.0, 58.0, 59.0, 61.0, 62.0, 64.0, 66.0, 69.0],\n",
      "             dtype='float64')\n",
      "0.0        2\n",
      "14.0      20\n",
      "21.0      62\n",
      "25.0     228\n",
      "28.0     645\n",
      "31.0    1378\n",
      "33.0    2577\n",
      "35.0    4042\n",
      "36.0    5372\n",
      "38.0    6607\n",
      "39.0    7107\n",
      "41.0    7255\n",
      "42.0    6749\n",
      "43.0    6443\n",
      "44.0    5418\n",
      "46.0    4778\n",
      "47.0    3986\n",
      "48.0    3355\n",
      "49.0    2819\n",
      "50.0    2362\n",
      "51.0    1902\n",
      "53.0    1557\n",
      "54.0    1134\n",
      "55.0     811\n",
      "56.0     527\n",
      "58.0     378\n",
      "59.0     222\n",
      "61.0     132\n",
      "62.0      49\n",
      "64.0      31\n",
      "66.0       7\n",
      "69.0       4\n",
      "Name: PUNT_HISTORIA, dtype: int64\n",
      "Elementos null/NaN 2\n",
      "__________________\n",
      "Elementos diferentes de null/NaN: 77959\n",
      "__________________\n",
      "(77959,)\n",
      "None\n"
     ]
    }
   ],
   "source": [
    "\"\"\"PERFECT!\"\"\"\n",
    "print(data_2001['PUNT_HISTORIA'].value_counts().sort_index().index)\n",
    "print(data_2001['PUNT_HISTORIA'].value_counts().sort_index())\n",
    "print(missing_data(data_2001['PUNT_HISTORIA']))"
   ]
  },
  {
   "cell_type": "code",
   "execution_count": 96,
   "metadata": {
    "collapsed": false,
    "scrolled": true
   },
   "outputs": [
    {
     "name": "stdout",
     "output_type": "stream",
     "text": [
      "Float64Index([ 0.0, 16.0, 23.0, 27.0, 30.0, 32.0, 34.0, 36.0, 37.0, 39.0, 40.0,\n",
      "              42.0, 43.0, 44.0, 45.0, 46.0, 47.0, 48.0, 49.0, 51.0, 52.0, 53.0,\n",
      "              54.0, 55.0, 56.0, 58.0, 59.0, 60.0, 62.0, 64.0, 66.0, 68.0, 71.0,\n",
      "              75.0, 82.0, 93.0],\n",
      "             dtype='float64')\n",
      "0.0        1\n",
      "16.0       5\n",
      "23.0      37\n",
      "27.0     143\n",
      "30.0     346\n",
      "32.0     869\n",
      "34.0    1610\n",
      "36.0    2777\n",
      "37.0    4012\n",
      "39.0    5263\n",
      "40.0    6448\n",
      "42.0    7035\n",
      "43.0    7199\n",
      "44.0    6884\n",
      "45.0    6350\n",
      "46.0    5737\n",
      "47.0    4776\n",
      "48.0    3920\n",
      "49.0    3112\n",
      "51.0    2467\n",
      "52.0    2020\n",
      "53.0    1587\n",
      "54.0    1275\n",
      "55.0     957\n",
      "56.0     768\n",
      "58.0     610\n",
      "59.0     507\n",
      "60.0     377\n",
      "62.0     306\n",
      "64.0     203\n",
      "66.0     160\n",
      "68.0      94\n",
      "71.0      50\n",
      "75.0      37\n",
      "82.0      11\n",
      "93.0       3\n",
      "Name: PUNT_QUIMICA, dtype: int64\n",
      "Elementos null/NaN 5\n",
      "__________________\n",
      "Elementos diferentes de null/NaN: 77956\n",
      "__________________\n",
      "(77956,)\n",
      "None\n"
     ]
    }
   ],
   "source": [
    "\"\"\"PERFECT!\"\"\"\n",
    "print(data_2001['PUNT_QUIMICA'].value_counts().sort_index().index)\n",
    "print(data_2001['PUNT_QUIMICA'].value_counts().sort_index())\n",
    "print(missing_data(data_2001['PUNT_QUIMICA']))"
   ]
  },
  {
   "cell_type": "code",
   "execution_count": 97,
   "metadata": {
    "collapsed": false,
    "scrolled": true
   },
   "outputs": [
    {
     "name": "stdout",
     "output_type": "stream",
     "text": [
      "Float64Index([ 0.0, 13.0, 20.0, 25.0, 28.0, 31.0, 33.0, 35.0, 37.0, 39.0, 41.0,\n",
      "              42.0, 44.0, 45.0, 46.0, 48.0, 49.0, 50.0, 51.0, 53.0, 54.0, 56.0,\n",
      "              57.0, 58.0, 60.0, 61.0, 63.0, 65.0, 66.0, 69.0, 71.0],\n",
      "             dtype='float64')\n",
      "0.0        6\n",
      "13.0       3\n",
      "20.0      16\n",
      "25.0      71\n",
      "28.0     222\n",
      "31.0     509\n",
      "33.0    1063\n",
      "35.0    1969\n",
      "37.0    3108\n",
      "39.0    4519\n",
      "41.0    5847\n",
      "42.0    6981\n",
      "44.0    7523\n",
      "45.0    7506\n",
      "46.0    7261\n",
      "48.0    6451\n",
      "49.0    5723\n",
      "50.0    4809\n",
      "51.0    3908\n",
      "53.0    3058\n",
      "54.0    2417\n",
      "56.0    1723\n",
      "57.0    1275\n",
      "58.0     877\n",
      "60.0     523\n",
      "61.0     305\n",
      "63.0     166\n",
      "65.0      73\n",
      "66.0      26\n",
      "69.0      15\n",
      "71.0       3\n",
      "Name: PUNT_LENGUAJE, dtype: int64\n",
      "Elementos null/NaN 5\n",
      "__________________\n",
      "Elementos diferentes de null/NaN: 77956\n",
      "__________________\n",
      "(77956,)\n",
      "None\n"
     ]
    }
   ],
   "source": [
    "\"\"\"PERFECT!\"\"\"\n",
    "print(data_2001['PUNT_LENGUAJE'].value_counts().sort_index().index)\n",
    "print(data_2001['PUNT_LENGUAJE'].value_counts().sort_index())\n",
    "print(missing_data(data_2001['PUNT_LENGUAJE']))"
   ]
  },
  {
   "cell_type": "code",
   "execution_count": 98,
   "metadata": {
    "collapsed": false,
    "scrolled": true
   },
   "outputs": [
    {
     "name": "stdout",
     "output_type": "stream",
     "text": [
      "Float64Index([  6.0,  14.0,  19.0,  22.0,  25.0,  28.0,  30.0,  32.0,  34.0,\n",
      "               35.0,  37.0,  38.0,  40.0,  41.0,  43.0,  44.0,  46.0,  47.0,\n",
      "               48.0,  50.0,  51.0,  53.0,  54.0,  56.0,  57.0,  59.0,  61.0,\n",
      "               63.0,  65.0,  67.0,  70.0,  74.0,  79.0,  86.0, 100.0],\n",
      "             dtype='float64')\n",
      "6.0         6\n",
      "14.0       12\n",
      "19.0       35\n",
      "22.0      100\n",
      "25.0      250\n",
      "28.0      587\n",
      "30.0      956\n",
      "32.0     1425\n",
      "34.0     2061\n",
      "35.0     2665\n",
      "37.0     3343\n",
      "38.0     3881\n",
      "40.0     4308\n",
      "41.0     4714\n",
      "43.0     5075\n",
      "44.0     5209\n",
      "46.0     5237\n",
      "47.0     5288\n",
      "48.0     5163\n",
      "50.0     4763\n",
      "51.0     4549\n",
      "53.0     4212\n",
      "54.0     3631\n",
      "56.0     3024\n",
      "57.0     2367\n",
      "59.0     1870\n",
      "61.0     1295\n",
      "63.0      880\n",
      "65.0      507\n",
      "67.0      301\n",
      "70.0      140\n",
      "74.0       68\n",
      "79.0       31\n",
      "86.0        1\n",
      "100.0       1\n",
      "Name: PUNT_GEOGRAFIA, dtype: int64\n",
      "Elementos null/NaN 6\n",
      "__________________\n",
      "Elementos diferentes de null/NaN: 77955\n",
      "__________________\n",
      "(77955,)\n",
      "None\n"
     ]
    }
   ],
   "source": [
    "\"\"\"PERFECT!\"\"\"\n",
    "print(data_2001['PUNT_GEOGRAFIA'].value_counts().sort_index().index)\n",
    "print(data_2001['PUNT_GEOGRAFIA'].value_counts().sort_index())\n",
    "print(missing_data(data_2001['PUNT_GEOGRAFIA']))"
   ]
  },
  {
   "cell_type": "markdown",
   "metadata": {},
   "source": [
    "Extracolumns"
   ]
  },
  {
   "cell_type": "code",
   "execution_count": 100,
   "metadata": {
    "collapsed": false
   },
   "outputs": [
    {
     "name": "stdout",
     "output_type": "stream",
     "text": [
      "Int64Index([43, 44, 45], dtype='int64')\n",
      "43    36805\n",
      "44    33235\n",
      "45     7921\n",
      "Name: COD_INTERDISCIPLINAR, dtype: int64\n",
      "Elementos null/NaN 0\n",
      "__________________\n",
      "Elementos diferentes de null/NaN: 77961\n",
      "__________________\n",
      "(77961,)\n",
      "None\n"
     ]
    }
   ],
   "source": [
    "\"\"\"PERFECT!\"\"\"\n",
    "print(data_2001['COD_INTERDISCIPLINAR'].value_counts().sort_index().index)\n",
    "print(data_2001['COD_INTERDISCIPLINAR'].value_counts().sort_index())\n",
    "print(missing_data(data_2001['COD_INTERDISCIPLINAR']))"
   ]
  },
  {
   "cell_type": "code",
   "execution_count": 102,
   "metadata": {
    "collapsed": false,
    "scrolled": true
   },
   "outputs": [
    {
     "name": "stdout",
     "output_type": "stream",
     "text": [
      "Float64Index([ 0.0, 24.0, 31.0, 33.0, 36.0, 40.0, 44.0, 47.0, 49.0, 50.0, 51.0,\n",
      "              52.0, 53.0, 54.0, 55.0, 56.0, 57.0, 58.0, 59.0, 60.0, 61.0, 62.0,\n",
      "              63.0, 64.0, 65.0, 66.0, 67.0, 68.0, 69.0, 70.0, 71.0, 73.0, 77.0,\n",
      "              79.0, 81.0, 86.0, 91.0],\n",
      "             dtype='float64')\n",
      "0.0      262\n",
      "24.0    1199\n",
      "31.0    3066\n",
      "33.0     279\n",
      "36.0    5129\n",
      "40.0    6384\n",
      "44.0    6848\n",
      "47.0    4766\n",
      "49.0       5\n",
      "50.0    3031\n",
      "51.0    1298\n",
      "52.0    1739\n",
      "53.0      11\n",
      "54.0      28\n",
      "55.0    1102\n",
      "56.0    2043\n",
      "57.0     918\n",
      "58.0    2108\n",
      "59.0    5766\n",
      "60.0    6041\n",
      "61.0    9796\n",
      "62.0    6698\n",
      "63.0    4497\n",
      "64.0    1489\n",
      "65.0    1672\n",
      "66.0     215\n",
      "67.0      45\n",
      "68.0       4\n",
      "69.0     684\n",
      "70.0       1\n",
      "71.0      24\n",
      "73.0     371\n",
      "77.0     186\n",
      "79.0       3\n",
      "81.0      75\n",
      "86.0      17\n",
      "91.0       4\n",
      "Name: PUNT_INTERDISCIPLINAR, dtype: int64\n",
      "Elementos null/NaN 157\n",
      "__________________\n",
      "Elementos diferentes de null/NaN: 77804\n",
      "__________________\n",
      "(77804,)\n",
      "None\n"
     ]
    }
   ],
   "source": [
    "\"\"\"PERFECT!\"\"\"\n",
    "print(data_2001['PUNT_INTERDISCIPLINAR'].value_counts().sort_index().index)\n",
    "print(data_2001['PUNT_INTERDISCIPLINAR'].value_counts().sort_index())\n",
    "print(missing_data(data_2001['PUNT_INTERDISCIPLINAR']))"
   ]
  },
  {
   "cell_type": "code",
   "execution_count": 103,
   "metadata": {
    "collapsed": false
   },
   "outputs": [
    {
     "name": "stdout",
     "output_type": "stream",
     "text": [
      "Int64Index([51, 52, 53], dtype='int64')\n",
      "51    77279\n",
      "52      563\n",
      "53      119\n",
      "Name: COD_IDIOMA, dtype: int64\n",
      "Elementos null/NaN 0\n",
      "__________________\n",
      "Elementos diferentes de null/NaN: 77961\n",
      "__________________\n",
      "(77961,)\n",
      "None\n"
     ]
    }
   ],
   "source": [
    "\"\"\"PERFECT!\"\"\"\n",
    "print(data_2001['COD_IDIOMA'].value_counts().sort_index().index)\n",
    "print(data_2001['COD_IDIOMA'].value_counts().sort_index())\n",
    "print(missing_data(data_2001['COD_IDIOMA']))"
   ]
  },
  {
   "cell_type": "code",
   "execution_count": 104,
   "metadata": {
    "collapsed": false,
    "scrolled": true
   },
   "outputs": [
    {
     "name": "stdout",
     "output_type": "stream",
     "text": [
      "Float64Index([ 0.0, 14.0, 21.0, 24.0, 25.0, 27.0, 28.0, 29.0, 31.0, 33.0, 35.0,\n",
      "              36.0, 37.0, 38.0, 39.0, 40.0, 41.0, 42.0, 43.0, 44.0, 45.0, 46.0,\n",
      "              47.0, 48.0, 49.0, 50.0, 51.0, 52.0, 53.0, 54.0, 55.0, 56.0, 57.0,\n",
      "              58.0, 59.0, 60.0, 61.0, 62.0, 63.0, 64.0, 65.0, 66.0, 67.0, 68.0,\n",
      "              69.0, 71.0, 72.0, 74.0, 75.0, 77.0, 79.0, 80.0, 84.0, 86.0, 87.0,\n",
      "              98.0, 99.0],\n",
      "             dtype='float64')\n",
      "0.0       15\n",
      "14.0      47\n",
      "21.0     210\n",
      "24.0       1\n",
      "25.0     650\n",
      "27.0       2\n",
      "28.0       6\n",
      "29.0    1598\n",
      "31.0    3323\n",
      "33.0    5438\n",
      "35.0    7640\n",
      "36.0       7\n",
      "37.0    9041\n",
      "38.0       4\n",
      "39.0    9603\n",
      "40.0    9008\n",
      "41.0       2\n",
      "42.0    7489\n",
      "43.0    5708\n",
      "44.0    4057\n",
      "45.0      20\n",
      "46.0    2869\n",
      "47.0    1961\n",
      "48.0    1329\n",
      "49.0     959\n",
      "50.0     718\n",
      "51.0       7\n",
      "52.0     535\n",
      "53.0     446\n",
      "54.0     393\n",
      "55.0     388\n",
      "56.0       1\n",
      "57.0     338\n",
      "58.0     333\n",
      "59.0     284\n",
      "60.0       5\n",
      "61.0     315\n",
      "62.0     294\n",
      "63.0      17\n",
      "64.0     355\n",
      "65.0      17\n",
      "66.0     396\n",
      "67.0      17\n",
      "68.0     449\n",
      "69.0      34\n",
      "71.0     452\n",
      "72.0      35\n",
      "74.0     431\n",
      "75.0      24\n",
      "77.0       6\n",
      "79.0     352\n",
      "80.0      32\n",
      "84.0       1\n",
      "86.0     186\n",
      "87.0      11\n",
      "98.0      58\n",
      "99.0       2\n",
      "Name: PUNT_IDIOMA, dtype: int64\n",
      "Elementos null/NaN 42\n",
      "__________________\n",
      "Elementos diferentes de null/NaN: 77919\n",
      "__________________\n",
      "(77919,)\n",
      "None\n"
     ]
    }
   ],
   "source": [
    "\"\"\"PERFECT!\"\"\"\n",
    "print(data_2001['PUNT_IDIOMA'].value_counts().sort_index().index)\n",
    "print(data_2001['PUNT_IDIOMA'].value_counts().sort_index())\n",
    "print(missing_data(data_2001['PUNT_IDIOMA']))"
   ]
  },
  {
   "cell_type": "markdown",
   "metadata": {},
   "source": [
    "Columns to delete:"
   ]
  },
  {
   "cell_type": "code",
   "execution_count": 105,
   "metadata": {
    "collapsed": true
   },
   "outputs": [],
   "source": [
    "data_2001 = data_2001.drop(['ESTU_LIMITA_SORDOINTERPRETE'], axis=1)"
   ]
  },
  {
   "cell_type": "markdown",
   "metadata": {},
   "source": [
    "## Here the next file (2001_1)"
   ]
  },
  {
   "cell_type": "code",
   "execution_count": null,
   "metadata": {
    "collapsed": true
   },
   "outputs": [],
   "source": [
    "print(data_2001[''].value_counts().sort_index().index)\n",
    "print(data_2001[''].value_counts().sort_index())\n",
    "print(missing_data(data_2001['']))"
   ]
  },
  {
   "cell_type": "code",
   "execution_count": null,
   "metadata": {
    "collapsed": true
   },
   "outputs": [],
   "source": [
    "data_2001[''] = data_2001[''].replace(np.nan, 'NaN')"
   ]
  }
 ],
 "metadata": {
  "kernelspec": {
   "display_name": "Python 3 + Anaconda",
   "language": "python",
   "name": "pyconda3"
  },
  "language_info": {
   "codemirror_mode": {
    "name": "ipython",
    "version": 3
   },
   "file_extension": ".py",
   "mimetype": "text/x-python",
   "name": "python",
   "nbconvert_exporter": "python",
   "pygments_lexer": "ipython3",
   "version": "3.5.1"
  }
 },
 "nbformat": 4,
 "nbformat_minor": 0
}
