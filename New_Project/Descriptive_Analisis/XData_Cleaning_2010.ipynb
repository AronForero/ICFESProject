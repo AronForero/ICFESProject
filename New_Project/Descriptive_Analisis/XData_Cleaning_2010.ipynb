{
 "cells": [
  {
   "cell_type": "code",
   "execution_count": 1,
   "metadata": {
    "collapsed": true
   },
   "outputs": [],
   "source": [
    "import pandas as pd\n",
    "import numpy as np\n",
    "%run -i ../tools/functions.py\n",
    "%run -i ../tools/label_encoder.py"
   ]
  },
  {
   "cell_type": "code",
   "execution_count": 2,
   "metadata": {
    "collapsed": true
   },
   "outputs": [],
   "source": [
    "data_2010 = pd.read_csv('../DatosFTPICFES/SABER11/SB11-BASES_DE_DATOS/SB11-20101-RGSTRO-CLFCCN-V1-0.txt', delimiter='|')"
   ]
  },
  {
   "cell_type": "code",
   "execution_count": 3,
   "metadata": {
    "collapsed": false
   },
   "outputs": [
    {
     "data": {
      "text/plain": [
       "(30321, 79)"
      ]
     },
     "execution_count": 3,
     "metadata": {},
     "output_type": "execute_result"
    }
   ],
   "source": [
    "data_2010.shape"
   ]
  },
  {
   "cell_type": "code",
   "execution_count": 4,
   "metadata": {
    "collapsed": false,
    "scrolled": true
   },
   "outputs": [
    {
     "data": {
      "text/html": [
       "<div>\n",
       "<table border=\"1\" class=\"dataframe\">\n",
       "  <thead>\n",
       "    <tr style=\"text-align: right;\">\n",
       "      <th></th>\n",
       "      <th>0</th>\n",
       "      <th>1</th>\n",
       "      <th>2</th>\n",
       "    </tr>\n",
       "  </thead>\n",
       "  <tbody>\n",
       "    <tr>\n",
       "      <th>ESTU_CONSECUTIVO</th>\n",
       "      <td>SB11201010000001</td>\n",
       "      <td>SB11201010000002</td>\n",
       "      <td>SB11201010000003</td>\n",
       "    </tr>\n",
       "    <tr>\n",
       "      <th>PERIODO</th>\n",
       "      <td>20101</td>\n",
       "      <td>20101</td>\n",
       "      <td>20101</td>\n",
       "    </tr>\n",
       "    <tr>\n",
       "      <th>ESTU_TIPO_DOCUMENTO</th>\n",
       "      <td>C</td>\n",
       "      <td>C</td>\n",
       "      <td>C</td>\n",
       "    </tr>\n",
       "    <tr>\n",
       "      <th>ESTU_PAIS_RESIDE</th>\n",
       "      <td>CO</td>\n",
       "      <td>CO</td>\n",
       "      <td>CO</td>\n",
       "    </tr>\n",
       "    <tr>\n",
       "      <th>ESTU_GENERO</th>\n",
       "      <td>F</td>\n",
       "      <td>M</td>\n",
       "      <td>M</td>\n",
       "    </tr>\n",
       "    <tr>\n",
       "      <th>ESTU_NACIMIENTO_DIA</th>\n",
       "      <td>24</td>\n",
       "      <td>5</td>\n",
       "      <td>3</td>\n",
       "    </tr>\n",
       "    <tr>\n",
       "      <th>ESTU_NACIMIENTO_MES</th>\n",
       "      <td>11</td>\n",
       "      <td>3</td>\n",
       "      <td>7</td>\n",
       "    </tr>\n",
       "    <tr>\n",
       "      <th>ESTU_NACIMIENTO_ANNO</th>\n",
       "      <td>1983</td>\n",
       "      <td>1988</td>\n",
       "      <td>1987</td>\n",
       "    </tr>\n",
       "    <tr>\n",
       "      <th>ESTU_EDAD</th>\n",
       "      <td>26</td>\n",
       "      <td>22</td>\n",
       "      <td>22</td>\n",
       "    </tr>\n",
       "    <tr>\n",
       "      <th>ESTU_LIMITA_BAJAVISION</th>\n",
       "      <td>NaN</td>\n",
       "      <td>NaN</td>\n",
       "      <td>NaN</td>\n",
       "    </tr>\n",
       "    <tr>\n",
       "      <th>ESTU_LIMITA_SORDOCEGUERA</th>\n",
       "      <td>NaN</td>\n",
       "      <td>NaN</td>\n",
       "      <td>NaN</td>\n",
       "    </tr>\n",
       "    <tr>\n",
       "      <th>ESTU_LIMITA_COGNITIVA</th>\n",
       "      <td>NaN</td>\n",
       "      <td>NaN</td>\n",
       "      <td>NaN</td>\n",
       "    </tr>\n",
       "    <tr>\n",
       "      <th>ESTU_LIMITA_INVIDENTE</th>\n",
       "      <td>NaN</td>\n",
       "      <td>NaN</td>\n",
       "      <td>NaN</td>\n",
       "    </tr>\n",
       "    <tr>\n",
       "      <th>ESTU_LIMITA_MOTRIZ</th>\n",
       "      <td>NaN</td>\n",
       "      <td>NaN</td>\n",
       "      <td>NaN</td>\n",
       "    </tr>\n",
       "    <tr>\n",
       "      <th>ESTU_LIMITA_SORDOINTERPRETE</th>\n",
       "      <td>NaN</td>\n",
       "      <td>NaN</td>\n",
       "      <td>NaN</td>\n",
       "    </tr>\n",
       "    <tr>\n",
       "      <th>ESTU_LIMITA_SORDONOINTERPRETE</th>\n",
       "      <td>NaN</td>\n",
       "      <td>NaN</td>\n",
       "      <td>NaN</td>\n",
       "    </tr>\n",
       "    <tr>\n",
       "      <th>ESTU_ETNIA</th>\n",
       "      <td>NaN</td>\n",
       "      <td>NaN</td>\n",
       "      <td>NaN</td>\n",
       "    </tr>\n",
       "    <tr>\n",
       "      <th>ESTU_COD_RESIDE_MCPIO</th>\n",
       "      <td>11001</td>\n",
       "      <td>95001</td>\n",
       "      <td>11001</td>\n",
       "    </tr>\n",
       "    <tr>\n",
       "      <th>ESTU_RESIDE_MCPIO</th>\n",
       "      <td>BOGOTÁ D.C.</td>\n",
       "      <td>SAN JOSE DEL GUAVIARE</td>\n",
       "      <td>BOGOTÁ D.C.</td>\n",
       "    </tr>\n",
       "    <tr>\n",
       "      <th>ESTU_RESIDE_DEPTO</th>\n",
       "      <td>BOGOTÁ</td>\n",
       "      <td>GUAVIARE</td>\n",
       "      <td>BOGOTÁ</td>\n",
       "    </tr>\n",
       "    <tr>\n",
       "      <th>ESTU_ZONA_RESIDE</th>\n",
       "      <td>8</td>\n",
       "      <td>10</td>\n",
       "      <td>10</td>\n",
       "    </tr>\n",
       "    <tr>\n",
       "      <th>ESTU_AREA_RESIDE</th>\n",
       "      <td>1</td>\n",
       "      <td>1</td>\n",
       "      <td>1</td>\n",
       "    </tr>\n",
       "    <tr>\n",
       "      <th>FAMI_EDUCA_PADRE</th>\n",
       "      <td>16</td>\n",
       "      <td>99</td>\n",
       "      <td>13</td>\n",
       "    </tr>\n",
       "    <tr>\n",
       "      <th>FAMI_EDUCA_MADRE</th>\n",
       "      <td>15</td>\n",
       "      <td>99</td>\n",
       "      <td>13</td>\n",
       "    </tr>\n",
       "    <tr>\n",
       "      <th>FAMI_OCUPA_PADRE</th>\n",
       "      <td>17</td>\n",
       "      <td>21</td>\n",
       "      <td>13</td>\n",
       "    </tr>\n",
       "    <tr>\n",
       "      <th>FAMI_OCUPA_MADRE</th>\n",
       "      <td>22</td>\n",
       "      <td>22</td>\n",
       "      <td>20</td>\n",
       "    </tr>\n",
       "    <tr>\n",
       "      <th>FAMI_ESTRATO_VIVIENDA</th>\n",
       "      <td>3</td>\n",
       "      <td>1</td>\n",
       "      <td>NaN</td>\n",
       "    </tr>\n",
       "    <tr>\n",
       "      <th>FAMI_NIVEL_SISBEN</th>\n",
       "      <td>5</td>\n",
       "      <td>1</td>\n",
       "      <td>3</td>\n",
       "    </tr>\n",
       "    <tr>\n",
       "      <th>FAMI_PERSONAS_HOGAR</th>\n",
       "      <td>3</td>\n",
       "      <td>3</td>\n",
       "      <td>4</td>\n",
       "    </tr>\n",
       "    <tr>\n",
       "      <th>FAMI_CUARTOS_HOGAR</th>\n",
       "      <td>3</td>\n",
       "      <td>1</td>\n",
       "      <td>2</td>\n",
       "    </tr>\n",
       "    <tr>\n",
       "      <th>...</th>\n",
       "      <td>...</td>\n",
       "      <td>...</td>\n",
       "      <td>...</td>\n",
       "    </tr>\n",
       "    <tr>\n",
       "      <th>IND_COD_ICFES_TERMINO</th>\n",
       "      <td>20974</td>\n",
       "      <td>146415</td>\n",
       "      <td>9110</td>\n",
       "    </tr>\n",
       "    <tr>\n",
       "      <th>COLE_COD_ICFES</th>\n",
       "      <td>20974</td>\n",
       "      <td>146415</td>\n",
       "      <td>85340</td>\n",
       "    </tr>\n",
       "    <tr>\n",
       "      <th>COLE_COD_DANE_INSTITUCION</th>\n",
       "      <td>111001009971</td>\n",
       "      <td>341078000785</td>\n",
       "      <td></td>\n",
       "    </tr>\n",
       "    <tr>\n",
       "      <th>COLE_NOMBRE_SEDE</th>\n",
       "      <td>COL DIST REP DE COLOMBIA</td>\n",
       "      <td>INSTITUTO DE EXCELENCIA HUMANA Y ACADÉMICA  ID...</td>\n",
       "      <td>COLEGIO INSCAP</td>\n",
       "    </tr>\n",
       "    <tr>\n",
       "      <th>COLE_CALENDARIO</th>\n",
       "      <td>F</td>\n",
       "      <td>F</td>\n",
       "      <td>F</td>\n",
       "    </tr>\n",
       "    <tr>\n",
       "      <th>COLE_GENERO</th>\n",
       "      <td>X</td>\n",
       "      <td>X</td>\n",
       "      <td>X</td>\n",
       "    </tr>\n",
       "    <tr>\n",
       "      <th>COLE_NATURALEZA</th>\n",
       "      <td>O</td>\n",
       "      <td>N</td>\n",
       "      <td>N</td>\n",
       "    </tr>\n",
       "    <tr>\n",
       "      <th>COLE_BILINGUE</th>\n",
       "      <td>0</td>\n",
       "      <td>NaN</td>\n",
       "      <td>0</td>\n",
       "    </tr>\n",
       "    <tr>\n",
       "      <th>COLE_JORNADA</th>\n",
       "      <td>NOCHE</td>\n",
       "      <td>SABATINA - DOMINICAL</td>\n",
       "      <td>NOCHE</td>\n",
       "    </tr>\n",
       "    <tr>\n",
       "      <th>COLE_CARACTER</th>\n",
       "      <td>ACADEMICO</td>\n",
       "      <td>ACADEMICO</td>\n",
       "      <td>ACADEMICO Y TECNICO</td>\n",
       "    </tr>\n",
       "    <tr>\n",
       "      <th>ESTU_VECES_ESTADO</th>\n",
       "      <td>0</td>\n",
       "      <td>0</td>\n",
       "      <td>0</td>\n",
       "    </tr>\n",
       "    <tr>\n",
       "      <th>ESTU_COD_MCPIO_PRESENTACION</th>\n",
       "      <td>11001</td>\n",
       "      <td>95001</td>\n",
       "      <td>11001</td>\n",
       "    </tr>\n",
       "    <tr>\n",
       "      <th>ESTU_MCPIO_PRESENTACION</th>\n",
       "      <td>BOGOTÁ D.C.</td>\n",
       "      <td>SAN JOSE DEL GUAVIARE</td>\n",
       "      <td>BOGOTÁ D.C.</td>\n",
       "    </tr>\n",
       "    <tr>\n",
       "      <th>ESTU_DEPTO_PRESENTACION</th>\n",
       "      <td>BOGOTÁ</td>\n",
       "      <td>GUAVIARE</td>\n",
       "      <td>BOGOTÁ</td>\n",
       "    </tr>\n",
       "    <tr>\n",
       "      <th>ESTU_EXAM_NOMBREEXAMEN</th>\n",
       "      <td>EXAMEN DE ESTADO (ICFES)</td>\n",
       "      <td>EXAMEN DE ESTADO (ICFES)</td>\n",
       "      <td>EXAMEN DE ESTADO (ICFES)</td>\n",
       "    </tr>\n",
       "    <tr>\n",
       "      <th>PUNT_LENGUAJE</th>\n",
       "      <td>48,81</td>\n",
       "      <td>56,74</td>\n",
       "      <td>46,68</td>\n",
       "    </tr>\n",
       "    <tr>\n",
       "      <th>PUNT_MATEMATICAS</th>\n",
       "      <td>43,99</td>\n",
       "      <td>46,77</td>\n",
       "      <td>40,78</td>\n",
       "    </tr>\n",
       "    <tr>\n",
       "      <th>PUNT_C_SOCIALES</th>\n",
       "      <td>41,9</td>\n",
       "      <td>46,27</td>\n",
       "      <td>41,9</td>\n",
       "    </tr>\n",
       "    <tr>\n",
       "      <th>PUNT_FILOSOFIA</th>\n",
       "      <td>29,03</td>\n",
       "      <td>45,93</td>\n",
       "      <td>45,93</td>\n",
       "    </tr>\n",
       "    <tr>\n",
       "      <th>PUNT_BIOLOGIA</th>\n",
       "      <td>34,33</td>\n",
       "      <td>55,46</td>\n",
       "      <td>43,61</td>\n",
       "    </tr>\n",
       "    <tr>\n",
       "      <th>PUNT_QUIMICA</th>\n",
       "      <td>37,51</td>\n",
       "      <td>41,72</td>\n",
       "      <td>45,33</td>\n",
       "    </tr>\n",
       "    <tr>\n",
       "      <th>PUNT_FISICA</th>\n",
       "      <td>32,27</td>\n",
       "      <td>36,7</td>\n",
       "      <td>40,06</td>\n",
       "    </tr>\n",
       "    <tr>\n",
       "      <th>PUNT_INGLES</th>\n",
       "      <td>28,64</td>\n",
       "      <td>47,79</td>\n",
       "      <td>35,25</td>\n",
       "    </tr>\n",
       "    <tr>\n",
       "      <th>DESEMP_INGLES</th>\n",
       "      <td>A-</td>\n",
       "      <td>A1</td>\n",
       "      <td>A-</td>\n",
       "    </tr>\n",
       "    <tr>\n",
       "      <th>NOMBRE_PROFUNDIZACION</th>\n",
       "      <td>PROFUNDIZACIÓN EN LENGUAJE</td>\n",
       "      <td>PROFUNDIZACIÓN EN LENGUAJE</td>\n",
       "      <td>PROFUNDIZACIÓN EN CIENCIAS SOCIALES</td>\n",
       "    </tr>\n",
       "    <tr>\n",
       "      <th>PUNT_PROFUNDIZACION</th>\n",
       "      <td>3,2</td>\n",
       "      <td>4,2</td>\n",
       "      <td>5,4</td>\n",
       "    </tr>\n",
       "    <tr>\n",
       "      <th>DESEMP_PROFUNDIZACION</th>\n",
       "      <td>GB</td>\n",
       "      <td>GB</td>\n",
       "      <td>I</td>\n",
       "    </tr>\n",
       "    <tr>\n",
       "      <th>NOMBRE_INTERDISCIPLINAR</th>\n",
       "      <td>MEDIO AMBIENTE</td>\n",
       "      <td>VIOLENCIA Y SOCIEDAD</td>\n",
       "      <td>VIOLENCIA Y SOCIEDAD</td>\n",
       "    </tr>\n",
       "    <tr>\n",
       "      <th>PUNT_INTERDISCIPLINAR</th>\n",
       "      <td>50,78</td>\n",
       "      <td>47,71</td>\n",
       "      <td>35,93</td>\n",
       "    </tr>\n",
       "    <tr>\n",
       "      <th>ESTU_PUESTO</th>\n",
       "      <td>872</td>\n",
       "      <td>413</td>\n",
       "      <td>666</td>\n",
       "    </tr>\n",
       "  </tbody>\n",
       "</table>\n",
       "<p>79 rows × 3 columns</p>\n",
       "</div>"
      ],
      "text/plain": [
       "                                                        0  \\\n",
       "ESTU_CONSECUTIVO                         SB11201010000001   \n",
       "PERIODO                                             20101   \n",
       "ESTU_TIPO_DOCUMENTO                                     C   \n",
       "ESTU_PAIS_RESIDE                                       CO   \n",
       "ESTU_GENERO                                             F   \n",
       "ESTU_NACIMIENTO_DIA                                    24   \n",
       "ESTU_NACIMIENTO_MES                                    11   \n",
       "ESTU_NACIMIENTO_ANNO                                 1983   \n",
       "ESTU_EDAD                                              26   \n",
       "ESTU_LIMITA_BAJAVISION                                NaN   \n",
       "ESTU_LIMITA_SORDOCEGUERA                              NaN   \n",
       "ESTU_LIMITA_COGNITIVA                                 NaN   \n",
       "ESTU_LIMITA_INVIDENTE                                 NaN   \n",
       "ESTU_LIMITA_MOTRIZ                                    NaN   \n",
       "ESTU_LIMITA_SORDOINTERPRETE                           NaN   \n",
       "ESTU_LIMITA_SORDONOINTERPRETE                         NaN   \n",
       "ESTU_ETNIA                                            NaN   \n",
       "ESTU_COD_RESIDE_MCPIO                               11001   \n",
       "ESTU_RESIDE_MCPIO                             BOGOTÁ D.C.   \n",
       "ESTU_RESIDE_DEPTO                                  BOGOTÁ   \n",
       "ESTU_ZONA_RESIDE                                        8   \n",
       "ESTU_AREA_RESIDE                                        1   \n",
       "FAMI_EDUCA_PADRE                                       16   \n",
       "FAMI_EDUCA_MADRE                                       15   \n",
       "FAMI_OCUPA_PADRE                                       17   \n",
       "FAMI_OCUPA_MADRE                                       22   \n",
       "FAMI_ESTRATO_VIVIENDA                                   3   \n",
       "FAMI_NIVEL_SISBEN                                       5   \n",
       "FAMI_PERSONAS_HOGAR                                     3   \n",
       "FAMI_CUARTOS_HOGAR                                      3   \n",
       "...                                                   ...   \n",
       "IND_COD_ICFES_TERMINO                               20974   \n",
       "COLE_COD_ICFES                                      20974   \n",
       "COLE_COD_DANE_INSTITUCION                    111001009971   \n",
       "COLE_NOMBRE_SEDE                 COL DIST REP DE COLOMBIA   \n",
       "COLE_CALENDARIO                                         F   \n",
       "COLE_GENERO                                             X   \n",
       "COLE_NATURALEZA                                         O   \n",
       "COLE_BILINGUE                                           0   \n",
       "COLE_JORNADA                                        NOCHE   \n",
       "COLE_CARACTER                                   ACADEMICO   \n",
       "ESTU_VECES_ESTADO                                       0   \n",
       "ESTU_COD_MCPIO_PRESENTACION                         11001   \n",
       "ESTU_MCPIO_PRESENTACION                       BOGOTÁ D.C.   \n",
       "ESTU_DEPTO_PRESENTACION                            BOGOTÁ   \n",
       "ESTU_EXAM_NOMBREEXAMEN           EXAMEN DE ESTADO (ICFES)   \n",
       "PUNT_LENGUAJE                                       48,81   \n",
       "PUNT_MATEMATICAS                                    43,99   \n",
       "PUNT_C_SOCIALES                                      41,9   \n",
       "PUNT_FILOSOFIA                                      29,03   \n",
       "PUNT_BIOLOGIA                                       34,33   \n",
       "PUNT_QUIMICA                                        37,51   \n",
       "PUNT_FISICA                                         32,27   \n",
       "PUNT_INGLES                                         28,64   \n",
       "DESEMP_INGLES                                          A-   \n",
       "NOMBRE_PROFUNDIZACION          PROFUNDIZACIÓN EN LENGUAJE   \n",
       "PUNT_PROFUNDIZACION                                   3,2   \n",
       "DESEMP_PROFUNDIZACION                                  GB   \n",
       "NOMBRE_INTERDISCIPLINAR                    MEDIO AMBIENTE   \n",
       "PUNT_INTERDISCIPLINAR                               50,78   \n",
       "ESTU_PUESTO                                           872   \n",
       "\n",
       "                                                                               1  \\\n",
       "ESTU_CONSECUTIVO                                                SB11201010000002   \n",
       "PERIODO                                                                    20101   \n",
       "ESTU_TIPO_DOCUMENTO                                                            C   \n",
       "ESTU_PAIS_RESIDE                                                              CO   \n",
       "ESTU_GENERO                                                                    M   \n",
       "ESTU_NACIMIENTO_DIA                                                            5   \n",
       "ESTU_NACIMIENTO_MES                                                            3   \n",
       "ESTU_NACIMIENTO_ANNO                                                        1988   \n",
       "ESTU_EDAD                                                                     22   \n",
       "ESTU_LIMITA_BAJAVISION                                                       NaN   \n",
       "ESTU_LIMITA_SORDOCEGUERA                                                     NaN   \n",
       "ESTU_LIMITA_COGNITIVA                                                        NaN   \n",
       "ESTU_LIMITA_INVIDENTE                                                        NaN   \n",
       "ESTU_LIMITA_MOTRIZ                                                           NaN   \n",
       "ESTU_LIMITA_SORDOINTERPRETE                                                  NaN   \n",
       "ESTU_LIMITA_SORDONOINTERPRETE                                                NaN   \n",
       "ESTU_ETNIA                                                                   NaN   \n",
       "ESTU_COD_RESIDE_MCPIO                                                      95001   \n",
       "ESTU_RESIDE_MCPIO                                          SAN JOSE DEL GUAVIARE   \n",
       "ESTU_RESIDE_DEPTO                                                       GUAVIARE   \n",
       "ESTU_ZONA_RESIDE                                                              10   \n",
       "ESTU_AREA_RESIDE                                                               1   \n",
       "FAMI_EDUCA_PADRE                                                              99   \n",
       "FAMI_EDUCA_MADRE                                                              99   \n",
       "FAMI_OCUPA_PADRE                                                              21   \n",
       "FAMI_OCUPA_MADRE                                                              22   \n",
       "FAMI_ESTRATO_VIVIENDA                                                          1   \n",
       "FAMI_NIVEL_SISBEN                                                              1   \n",
       "FAMI_PERSONAS_HOGAR                                                            3   \n",
       "FAMI_CUARTOS_HOGAR                                                             1   \n",
       "...                                                                          ...   \n",
       "IND_COD_ICFES_TERMINO                                                     146415   \n",
       "COLE_COD_ICFES                                                            146415   \n",
       "COLE_COD_DANE_INSTITUCION                                           341078000785   \n",
       "COLE_NOMBRE_SEDE               INSTITUTO DE EXCELENCIA HUMANA Y ACADÉMICA  ID...   \n",
       "COLE_CALENDARIO                                                                F   \n",
       "COLE_GENERO                                                                    X   \n",
       "COLE_NATURALEZA                                                                N   \n",
       "COLE_BILINGUE                                                                NaN   \n",
       "COLE_JORNADA                                                SABATINA - DOMINICAL   \n",
       "COLE_CARACTER                                                          ACADEMICO   \n",
       "ESTU_VECES_ESTADO                                                              0   \n",
       "ESTU_COD_MCPIO_PRESENTACION                                                95001   \n",
       "ESTU_MCPIO_PRESENTACION                                    SAN JOSE DEL GUAVIARE   \n",
       "ESTU_DEPTO_PRESENTACION                                                 GUAVIARE   \n",
       "ESTU_EXAM_NOMBREEXAMEN                                  EXAMEN DE ESTADO (ICFES)   \n",
       "PUNT_LENGUAJE                                                              56,74   \n",
       "PUNT_MATEMATICAS                                                           46,77   \n",
       "PUNT_C_SOCIALES                                                            46,27   \n",
       "PUNT_FILOSOFIA                                                             45,93   \n",
       "PUNT_BIOLOGIA                                                              55,46   \n",
       "PUNT_QUIMICA                                                               41,72   \n",
       "PUNT_FISICA                                                                 36,7   \n",
       "PUNT_INGLES                                                                47,79   \n",
       "DESEMP_INGLES                                                                 A1   \n",
       "NOMBRE_PROFUNDIZACION                                 PROFUNDIZACIÓN EN LENGUAJE   \n",
       "PUNT_PROFUNDIZACION                                                          4,2   \n",
       "DESEMP_PROFUNDIZACION                                                         GB   \n",
       "NOMBRE_INTERDISCIPLINAR                                     VIOLENCIA Y SOCIEDAD   \n",
       "PUNT_INTERDISCIPLINAR                                                      47,71   \n",
       "ESTU_PUESTO                                                                  413   \n",
       "\n",
       "                                                                 2  \n",
       "ESTU_CONSECUTIVO                                  SB11201010000003  \n",
       "PERIODO                                                      20101  \n",
       "ESTU_TIPO_DOCUMENTO                                              C  \n",
       "ESTU_PAIS_RESIDE                                                CO  \n",
       "ESTU_GENERO                                                      M  \n",
       "ESTU_NACIMIENTO_DIA                                              3  \n",
       "ESTU_NACIMIENTO_MES                                              7  \n",
       "ESTU_NACIMIENTO_ANNO                                          1987  \n",
       "ESTU_EDAD                                                       22  \n",
       "ESTU_LIMITA_BAJAVISION                                         NaN  \n",
       "ESTU_LIMITA_SORDOCEGUERA                                       NaN  \n",
       "ESTU_LIMITA_COGNITIVA                                          NaN  \n",
       "ESTU_LIMITA_INVIDENTE                                          NaN  \n",
       "ESTU_LIMITA_MOTRIZ                                             NaN  \n",
       "ESTU_LIMITA_SORDOINTERPRETE                                    NaN  \n",
       "ESTU_LIMITA_SORDONOINTERPRETE                                  NaN  \n",
       "ESTU_ETNIA                                                     NaN  \n",
       "ESTU_COD_RESIDE_MCPIO                                        11001  \n",
       "ESTU_RESIDE_MCPIO                                      BOGOTÁ D.C.  \n",
       "ESTU_RESIDE_DEPTO                                           BOGOTÁ  \n",
       "ESTU_ZONA_RESIDE                                                10  \n",
       "ESTU_AREA_RESIDE                                                 1  \n",
       "FAMI_EDUCA_PADRE                                                13  \n",
       "FAMI_EDUCA_MADRE                                                13  \n",
       "FAMI_OCUPA_PADRE                                                13  \n",
       "FAMI_OCUPA_MADRE                                                20  \n",
       "FAMI_ESTRATO_VIVIENDA                                          NaN  \n",
       "FAMI_NIVEL_SISBEN                                                3  \n",
       "FAMI_PERSONAS_HOGAR                                              4  \n",
       "FAMI_CUARTOS_HOGAR                                               2  \n",
       "...                                                            ...  \n",
       "IND_COD_ICFES_TERMINO                                         9110  \n",
       "COLE_COD_ICFES                                               85340  \n",
       "COLE_COD_DANE_INSTITUCION                                           \n",
       "COLE_NOMBRE_SEDE                                    COLEGIO INSCAP  \n",
       "COLE_CALENDARIO                                                  F  \n",
       "COLE_GENERO                                                      X  \n",
       "COLE_NATURALEZA                                                  N  \n",
       "COLE_BILINGUE                                                    0  \n",
       "COLE_JORNADA                                                 NOCHE  \n",
       "COLE_CARACTER                                  ACADEMICO Y TECNICO  \n",
       "ESTU_VECES_ESTADO                                                0  \n",
       "ESTU_COD_MCPIO_PRESENTACION                                  11001  \n",
       "ESTU_MCPIO_PRESENTACION                                BOGOTÁ D.C.  \n",
       "ESTU_DEPTO_PRESENTACION                                     BOGOTÁ  \n",
       "ESTU_EXAM_NOMBREEXAMEN                    EXAMEN DE ESTADO (ICFES)  \n",
       "PUNT_LENGUAJE                                                46,68  \n",
       "PUNT_MATEMATICAS                                             40,78  \n",
       "PUNT_C_SOCIALES                                               41,9  \n",
       "PUNT_FILOSOFIA                                               45,93  \n",
       "PUNT_BIOLOGIA                                                43,61  \n",
       "PUNT_QUIMICA                                                 45,33  \n",
       "PUNT_FISICA                                                  40,06  \n",
       "PUNT_INGLES                                                  35,25  \n",
       "DESEMP_INGLES                                                   A-  \n",
       "NOMBRE_PROFUNDIZACION          PROFUNDIZACIÓN EN CIENCIAS SOCIALES  \n",
       "PUNT_PROFUNDIZACION                                            5,4  \n",
       "DESEMP_PROFUNDIZACION                                            I  \n",
       "NOMBRE_INTERDISCIPLINAR                       VIOLENCIA Y SOCIEDAD  \n",
       "PUNT_INTERDISCIPLINAR                                        35,93  \n",
       "ESTU_PUESTO                                                    666  \n",
       "\n",
       "[79 rows x 3 columns]"
      ]
     },
     "execution_count": 4,
     "metadata": {},
     "output_type": "execute_result"
    }
   ],
   "source": [
    "data_2010.head(3).T"
   ]
  },
  {
   "cell_type": "code",
   "execution_count": 6,
   "metadata": {
    "collapsed": true
   },
   "outputs": [],
   "source": [
    "data_2010 = data_2010.drop(['ESTU_CONSECUTIVO', 'PERIODO', 'ESTU_TIPO_DOCUMENTO', 'ESTU_COD_RESIDE_MCPIO',\n",
    "                           'COLE_NOMBRE_SEDE', 'ESTU_COD_MCPIO_PRESENTACION', 'ESTU_EXAM_NOMBREEXAMEN'],axis=1)"
   ]
  },
  {
   "cell_type": "code",
   "execution_count": null,
   "metadata": {
    "collapsed": true
   },
   "outputs": [],
   "source": [
    "c = 'ESTU_PAIS_RESIDE'\n",
    "data_2010[c].value_counts().sort_index().index\n",
    "data_2010[c].value_counts().sort_index()\n",
    "missing_data(data_2010[c])"
   ]
  },
  {
   "cell_type": "code",
   "execution_count": null,
   "metadata": {
    "collapsed": true
   },
   "outputs": [],
   "source": [
    "c = 'ESTU_GENERO'\n",
    "data_2010[c].value_counts().sort_index().index\n",
    "data_2010[c].value_counts().sort_index()\n",
    "missing_data(data_2010[c])"
   ]
  },
  {
   "cell_type": "code",
   "execution_count": null,
   "metadata": {
    "collapsed": true
   },
   "outputs": [],
   "source": [
    "c = 'ESTU_NACIMIENTO_DIA'\n",
    "data_2010[c].value_counts().sort_index().index\n",
    "data_2010[c].value_counts().sort_index()\n",
    "missing_data(data_2010[c])"
   ]
  },
  {
   "cell_type": "code",
   "execution_count": null,
   "metadata": {
    "collapsed": true
   },
   "outputs": [],
   "source": [
    "c = 'ESTU_NACIMIENTO_MES'\n",
    "data_2010[c].value_counts().sort_index().index\n",
    "data_2010[c].value_counts().sort_index()\n",
    "missing_data(data_2010[c])"
   ]
  },
  {
   "cell_type": "code",
   "execution_count": null,
   "metadata": {
    "collapsed": true
   },
   "outputs": [],
   "source": [
    "c = 'ESTU_NACIMIENTO_ANNO'\n",
    "data_2010[c].value_counts().sort_index().index\n",
    "data_2010[c].value_counts().sort_index()\n",
    "missing_data(data_2010[c])"
   ]
  },
  {
   "cell_type": "code",
   "execution_count": null,
   "metadata": {
    "collapsed": true
   },
   "outputs": [],
   "source": [
    "c = 'ESTU_EDAD'\n",
    "data_2010[c].value_counts().sort_index().index\n",
    "data_2010[c].value_counts().sort_index()\n",
    "missing_data(data_2010[c])"
   ]
  },
  {
   "cell_type": "code",
   "execution_count": null,
   "metadata": {
    "collapsed": true
   },
   "outputs": [],
   "source": [
    "c = 'ESTU_LIMITA_BAJAVISION'\n",
    "data_2010[c].value_counts().sort_index().index\n",
    "data_2010[c].value_counts().sort_index()\n",
    "missing_data(data_2010[c])"
   ]
  },
  {
   "cell_type": "code",
   "execution_count": null,
   "metadata": {
    "collapsed": true
   },
   "outputs": [],
   "source": [
    "c = 'ESTU_LIMITA_SORDOCEGUERA'\n",
    "data_2010[c].value_counts().sort_index().index\n",
    "data_2010[c].value_counts().sort_index()\n",
    "missing_data(data_2010[c])"
   ]
  },
  {
   "cell_type": "code",
   "execution_count": null,
   "metadata": {
    "collapsed": true
   },
   "outputs": [],
   "source": [
    "c = 'ESTU_LIMITA_COGNITIVA'\n",
    "data_2010[c].value_counts().sort_index().index\n",
    "data_2010[c].value_counts().sort_index()\n",
    "missing_data(data_2010[c])"
   ]
  },
  {
   "cell_type": "code",
   "execution_count": null,
   "metadata": {
    "collapsed": true
   },
   "outputs": [],
   "source": [
    "c = 'ESTU_LIMITA_INVIDENTE'\n",
    "data_2010[c].value_counts().sort_index().index\n",
    "data_2010[c].value_counts().sort_index()\n",
    "missing_data(data_2010[c])"
   ]
  },
  {
   "cell_type": "code",
   "execution_count": null,
   "metadata": {
    "collapsed": true
   },
   "outputs": [],
   "source": [
    "c = 'ESTU_LIMITA_MOTRIZ'\n",
    "data_2010[c].value_counts().sort_index().index\n",
    "data_2010[c].value_counts().sort_index()\n",
    "missing_data(data_2010[c])"
   ]
  },
  {
   "cell_type": "code",
   "execution_count": null,
   "metadata": {
    "collapsed": true
   },
   "outputs": [],
   "source": [
    "c = 'ESTU_LIMITA_SORDOINTERPRETE'\n",
    "data_2010[c].value_counts().sort_index().index\n",
    "data_2010[c].value_counts().sort_index()\n",
    "missing_data(data_2010[c])"
   ]
  },
  {
   "cell_type": "code",
   "execution_count": null,
   "metadata": {
    "collapsed": true
   },
   "outputs": [],
   "source": [
    "c = 'ESTU_LIMITA_SORDONOINTERPRETE'\n",
    "data_2010[c].value_counts().sort_index().index\n",
    "data_2010[c].value_counts().sort_index()\n",
    "missing_data(data_2010[c])"
   ]
  },
  {
   "cell_type": "code",
   "execution_count": null,
   "metadata": {
    "collapsed": true
   },
   "outputs": [],
   "source": [
    "c = 'ESTU_ETNIA'\n",
    "data_2010[c].value_counts().sort_index().index\n",
    "data_2010[c].value_counts().sort_index()\n",
    "missing_data(data_2010[c])"
   ]
  },
  {
   "cell_type": "code",
   "execution_count": null,
   "metadata": {
    "collapsed": true
   },
   "outputs": [],
   "source": [
    "c = 'ESTU_RESIDE_MCPIO'\n",
    "data_2010[c].value_counts().sort_index().index\n",
    "data_2010[c].value_counts().sort_index()\n",
    "missing_data(data_2010[c])"
   ]
  },
  {
   "cell_type": "code",
   "execution_count": null,
   "metadata": {
    "collapsed": true
   },
   "outputs": [],
   "source": [
    "c = 'ESTU_RESIDE_DEPTO'\n",
    "data_2010[c].value_counts().sort_index().index\n",
    "data_2010[c].value_counts().sort_index()\n",
    "missing_data(data_2010[c])"
   ]
  },
  {
   "cell_type": "code",
   "execution_count": null,
   "metadata": {
    "collapsed": true
   },
   "outputs": [],
   "source": [
    "c = 'ESTU_ZONA_RESIDE'\n",
    "data_2010[c].value_counts().sort_index().index\n",
    "data_2010[c].value_counts().sort_index()\n",
    "missing_data(data_20010[c])"
   ]
  },
  {
   "cell_type": "code",
   "execution_count": null,
   "metadata": {
    "collapsed": true
   },
   "outputs": [],
   "source": [
    "c = 'ESTU_AREA_RESIDE'\n",
    "data_2010[c].value_counts().sort_index().index\n",
    "data_2010[c].value_counts().sort_index()\n",
    "missing_data(data_2010[c])"
   ]
  },
  {
   "cell_type": "code",
   "execution_count": null,
   "metadata": {
    "collapsed": true
   },
   "outputs": [],
   "source": [
    "c = 'FAMI_EDUCA_PADRE'\n",
    "data_2010[c].value_counts().sort_index().index\n",
    "data_2010[c].value_counts().sort_index()\n",
    "missing_data(data_2010[c])"
   ]
  },
  {
   "cell_type": "code",
   "execution_count": null,
   "metadata": {
    "collapsed": true
   },
   "outputs": [],
   "source": [
    "c = 'FAMI_EDUCA_MADRE'\n",
    "data_2010[c].value_counts().sort_index().index\n",
    "data_2010[c].value_counts().sort_index()\n",
    "missing_data(data_2010[c])"
   ]
  },
  {
   "cell_type": "code",
   "execution_count": null,
   "metadata": {
    "collapsed": true
   },
   "outputs": [],
   "source": [
    "c = 'FAMI_OCUPA_PADRE'\n",
    "data_2010[c].value_counts().sort_index().index\n",
    "data_2010[c].value_counts().sort_index()\n",
    "missing_data(data_2010[c])"
   ]
  },
  {
   "cell_type": "code",
   "execution_count": null,
   "metadata": {
    "collapsed": true
   },
   "outputs": [],
   "source": [
    "c = 'FAMI_OCUPA_MADRE'\n",
    "data_2010[c].value_counts().sort_index().index\n",
    "data_2010[c].value_counts().sort_index()\n",
    "missing_data(data_2010[c])"
   ]
  },
  {
   "cell_type": "code",
   "execution_count": null,
   "metadata": {
    "collapsed": true
   },
   "outputs": [],
   "source": [
    "c = 'FAMI_ESTRATO_VIVIENDA'\n",
    "data_2010[c].value_counts().sort_index().index\n",
    "data_2010[c].value_counts().sort_index()\n",
    "missing_data(data_2010[c])"
   ]
  },
  {
   "cell_type": "code",
   "execution_count": null,
   "metadata": {
    "collapsed": true
   },
   "outputs": [],
   "source": [
    "c = 'FAMI_NIVEL_SISBEN'\n",
    "data_2010[c].value_counts().sort_index().index\n",
    "data_2010[c].value_counts().sort_index()\n",
    "missing_data(data_2010[c])"
   ]
  },
  {
   "cell_type": "code",
   "execution_count": null,
   "metadata": {
    "collapsed": true
   },
   "outputs": [],
   "source": [
    "c = 'FAMI_PERSONAS_HOGAR'\n",
    "data_2010[c].value_counts().sort_index().index\n",
    "data_2010[c].value_counts().sort_index()\n",
    "missing_data(data_2010[c])"
   ]
  },
  {
   "cell_type": "code",
   "execution_count": null,
   "metadata": {
    "collapsed": true
   },
   "outputs": [],
   "source": [
    "c = 'FAMI_CUARTOS_HOGAR'\n",
    "data_2010[c].value_counts().sort_index().index\n",
    "data_2010[c].value_counts().sort_index()\n",
    "missing_data(data_2010[c])"
   ]
  },
  {
   "cell_type": "code",
   "execution_count": null,
   "metadata": {
    "collapsed": true
   },
   "outputs": [],
   "source": [
    "c = 'FAMI_PISOSHOGAR'\n",
    "data_2010[c].value_counts().sort_index().index\n",
    "data_2010[c].value_counts().sort_index()\n",
    "missing_data(data_2010[c])"
   ]
  },
  {
   "cell_type": "code",
   "execution_count": null,
   "metadata": {
    "collapsed": true
   },
   "outputs": [],
   "source": [
    "c = 'FAMI_TELEFONO_FIJO'\n",
    "data_2010[c].value_counts().sort_index().index\n",
    "data_2010[c].value_counts().sort_index()\n",
    "missing_data(data_2010[c])"
   ]
  },
  {
   "cell_type": "code",
   "execution_count": null,
   "metadata": {
    "collapsed": true
   },
   "outputs": [],
   "source": [
    "c = 'FAMI_CELULAR'\n",
    "data_2010[c].value_counts().sort_index().index\n",
    "data_2010[c].value_counts().sort_index()\n",
    "missing_data(data_2010[c])"
   ]
  },
  {
   "cell_type": "code",
   "execution_count": null,
   "metadata": {
    "collapsed": true
   },
   "outputs": [],
   "source": [
    "c = 'FAMI_INTERNET'\n",
    "data_2010[c].value_counts().sort_index().index\n",
    "data_2010[c].value_counts().sort_index()\n",
    "missing_data(data_2010[c])"
   ]
  },
  {
   "cell_type": "code",
   "execution_count": null,
   "metadata": {
    "collapsed": true
   },
   "outputs": [],
   "source": [
    "c = 'FAMI_SERVICIO_TELEVISION'\n",
    "data_2010[c].value_counts().sort_index().index\n",
    "data_2010[c].value_counts().sort_index()\n",
    "missing_data(data_2010[c])"
   ]
  },
  {
   "cell_type": "code",
   "execution_count": null,
   "metadata": {
    "collapsed": true
   },
   "outputs": [],
   "source": [
    "c = 'FAMI_COMPUTADOR'\n",
    "data_2010[c].value_counts().sort_index().index\n",
    "data_2010[c].value_counts().sort_index()\n",
    "missing_data(data_2010[c])"
   ]
  },
  {
   "cell_type": "code",
   "execution_count": null,
   "metadata": {
    "collapsed": true
   },
   "outputs": [],
   "source": [
    "c = 'FAMI_LAVADORA'\n",
    "data_2010[c].value_counts().sort_index().index\n",
    "data_2010[c].value_counts().sort_index()\n",
    "missing_data(data_2010[c])"
   ]
  },
  {
   "cell_type": "code",
   "execution_count": null,
   "metadata": {
    "collapsed": true
   },
   "outputs": [],
   "source": [
    "c = 'FAMI_NEVERA'\n",
    "data_2010[c].value_counts().sort_index().index\n",
    "data_2010[c].value_counts().sort_index()\n",
    "missing_data(data_2010[c])"
   ]
  },
  {
   "cell_type": "code",
   "execution_count": null,
   "metadata": {
    "collapsed": true
   },
   "outputs": [],
   "source": [
    "c = 'FAMI_HORNO'\n",
    "data_2010[c].value_counts().sort_index().index\n",
    "data_2010[c].value_counts().sort_index()\n",
    "missing_data(data_2010[c])"
   ]
  },
  {
   "cell_type": "code",
   "execution_count": null,
   "metadata": {
    "collapsed": true
   },
   "outputs": [],
   "source": [
    "c = 'FAMI_DVD'\n",
    "data_2010[c].value_counts().sort_index().index\n",
    "data_2010[c].value_counts().sort_index()\n",
    "missing_data(data_2010[c])"
   ]
  },
  {
   "cell_type": "code",
   "execution_count": null,
   "metadata": {
    "collapsed": true
   },
   "outputs": [],
   "source": [
    "c = 'FAMI_MICROONDAS'\n",
    "data_2010[c].value_counts().sort_index().index\n",
    "data_2010[c].value_counts().sort_index()\n",
    "missing_data(data_2010[c])"
   ]
  },
  {
   "cell_type": "code",
   "execution_count": null,
   "metadata": {
    "collapsed": true
   },
   "outputs": [],
   "source": [
    "c = 'FAMI_AUTOMOVIL'\n",
    "data_2010[c].value_counts().sort_index().index\n",
    "data_2010[c].value_counts().sort_index()\n",
    "missing_data(data_0010[c])"
   ]
  },
  {
   "cell_type": "code",
   "execution_count": null,
   "metadata": {
    "collapsed": true
   },
   "outputs": [],
   "source": [
    "c = 'FAMI_INGRESO_FMILIAR_MENSUAL'\n",
    "data_2010[c].value_counts().sort_index().index\n",
    "data_2010[c].value_counts().sort_index()\n",
    "missing_data(data_2010[c])"
   ]
  },
  {
   "cell_type": "code",
   "execution_count": null,
   "metadata": {
    "collapsed": true
   },
   "outputs": [],
   "source": [
    "c = 'ESTU_TRABAJA'\n",
    "data_2010[c].value_counts().sort_index().index\n",
    "data_2010[c].value_counts().sort_index()\n",
    "missing_data(data_2010[c])"
   ]
  },
  {
   "cell_type": "code",
   "execution_count": null,
   "metadata": {
    "collapsed": true
   },
   "outputs": [],
   "source": [
    "c = 'ESTU_HORAS_TRABAJA'\n",
    "data_2010[c].value_counts().sort_index().index\n",
    "data_2010[c].value_counts().sort_index()\n",
    "missing_data(data_2010[c])"
   ]
  },
  {
   "cell_type": "code",
   "execution_count": null,
   "metadata": {
    "collapsed": true
   },
   "outputs": [],
   "source": [
    "c = 'COLE_VALOR_PENSION'\n",
    "data_2010[c].value_counts().sort_index().index\n",
    "data_2010[c].value_counts().sort_index()\n",
    "missing_data(data_2010[c])"
   ]
  },
  {
   "cell_type": "code",
   "execution_count": null,
   "metadata": {
    "collapsed": true
   },
   "outputs": [],
   "source": [
    "c = 'IND_ANNO_TERMINO_BACHILLERATO'\n",
    "data_2010[c].value_counts().sort_index().index\n",
    "data_2010[c].value_counts().sort_index()\n",
    "missing_data(data_2010[c])"
   ]
  },
  {
   "cell_type": "code",
   "execution_count": null,
   "metadata": {
    "collapsed": true
   },
   "outputs": [],
   "source": [
    "c = 'IND_MES_TERMINO_BACHILLERATO'\n",
    "data_2010[c].value_counts().sort_index().index\n",
    "data_2010[c].value_counts().sort_index()\n",
    "missing_data(data_2010[c])"
   ]
  },
  {
   "cell_type": "code",
   "execution_count": null,
   "metadata": {
    "collapsed": true
   },
   "outputs": [],
   "source": [
    "c = 'IND_TERMINO_BACHILLERATO'\n",
    "data_2010[c].value_counts().sort_index().index\n",
    "data_2010[c].value_counts().sort_index()\n",
    "missing_data(data_2010[c])"
   ]
  },
  {
   "cell_type": "code",
   "execution_count": null,
   "metadata": {
    "collapsed": true
   },
   "outputs": [],
   "source": [
    "c = 'IND_COD_ICFES_TERMINO'\n",
    "data_2010[c].value_counts().sort_index().index\n",
    "data_2010[c].value_counts().sort_index()\n",
    "missing_data(data_2010[c])"
   ]
  },
  {
   "cell_type": "code",
   "execution_count": null,
   "metadata": {
    "collapsed": true
   },
   "outputs": [],
   "source": [
    "c = 'COLE_COD_ICFES'\n",
    "data_2010[c].value_counts().sort_index().index\n",
    "data_2010[c].value_counts().sort_index()\n",
    "missing_data(data_2010[c])"
   ]
  },
  {
   "cell_type": "code",
   "execution_count": null,
   "metadata": {
    "collapsed": true
   },
   "outputs": [],
   "source": [
    "c = 'COLE_COD_DANE_INSTITUCION'\n",
    "data_2010[c].value_counts().sort_index().index\n",
    "data_2010[c].value_counts().sort_index()\n",
    "missing_data(data_2010[c])"
   ]
  },
  {
   "cell_type": "code",
   "execution_count": null,
   "metadata": {
    "collapsed": true
   },
   "outputs": [],
   "source": [
    "c = 'COLE_CALENDARIO'\n",
    "data_2010[c].value_counts().sort_index().index\n",
    "data_2010[c].value_counts().sort_index()\n",
    "missing_data(data_2010[c])"
   ]
  },
  {
   "cell_type": "code",
   "execution_count": null,
   "metadata": {
    "collapsed": true
   },
   "outputs": [],
   "source": [
    "c = 'COLE_GENERO'\n",
    "data_2010[c].value_counts().sort_index().index\n",
    "data_2010[c].value_counts().sort_index()\n",
    "missing_data(data_2010[c])"
   ]
  },
  {
   "cell_type": "code",
   "execution_count": null,
   "metadata": {
    "collapsed": true
   },
   "outputs": [],
   "source": [
    "c = 'COLE_NATURALEZA'\n",
    "data_2010[c].value_counts().sort_index().index\n",
    "data_2010[c].value_counts().sort_index()\n",
    "missing_data(data_2010[c])"
   ]
  },
  {
   "cell_type": "code",
   "execution_count": null,
   "metadata": {
    "collapsed": true
   },
   "outputs": [],
   "source": [
    "c = 'COLE_BILINGUE'\n",
    "data_2010[c].value_counts().sort_index().index\n",
    "data_2010[c].value_counts().sort_index()\n",
    "missing_data(data_2010[c])"
   ]
  },
  {
   "cell_type": "code",
   "execution_count": null,
   "metadata": {
    "collapsed": true
   },
   "outputs": [],
   "source": [
    "c = 'COLE_JORNADA'\n",
    "data_2010[c].value_counts().sort_index().index\n",
    "data_2010[c].value_counts().sort_index()\n",
    "missing_data(data_2010[c])"
   ]
  },
  {
   "cell_type": "code",
   "execution_count": null,
   "metadata": {
    "collapsed": true
   },
   "outputs": [],
   "source": [
    "c = 'COLE_CARACTER'\n",
    "data_2010[c].value_counts().sort_index().index\n",
    "data_2010[c].value_counts().sort_index()\n",
    "missing_data(data_2010[c])"
   ]
  },
  {
   "cell_type": "code",
   "execution_count": null,
   "metadata": {
    "collapsed": true
   },
   "outputs": [],
   "source": [
    "c = 'ESTU_VECES_ESTADO'\n",
    "data_2010[c].value_counts().sort_index().index\n",
    "data_2010[c].value_counts().sort_index()\n",
    "missing_data(data_2010[c])"
   ]
  },
  {
   "cell_type": "code",
   "execution_count": null,
   "metadata": {
    "collapsed": true
   },
   "outputs": [],
   "source": [
    "c = 'ESTU_MCPIO_PRESENTACION'\n",
    "data_2010[c].value_counts().sort_index().index\n",
    "data_2010[c].value_counts().sort_index()\n",
    "missing_data(data_2010[c])"
   ]
  },
  {
   "cell_type": "code",
   "execution_count": null,
   "metadata": {
    "collapsed": true
   },
   "outputs": [],
   "source": [
    "c = 'ESTU_DEPTO_PRESENTACION'\n",
    "data_2010[c].value_counts().sort_index().index\n",
    "data_2010[c].value_counts().sort_index()\n",
    "missing_data(data_2010[c])"
   ]
  },
  {
   "cell_type": "markdown",
   "metadata": {},
   "source": [
    "## TARGETS"
   ]
  },
  {
   "cell_type": "code",
   "execution_count": null,
   "metadata": {
    "collapsed": true
   },
   "outputs": [],
   "source": [
    "c = 'PUNT_LENGUAJE'\n",
    "data_2010[c].value_counts().sort_index().index\n",
    "data_2010[c].value_counts().sort_index()\n",
    "missing_data(data_2010[c])"
   ]
  },
  {
   "cell_type": "code",
   "execution_count": null,
   "metadata": {
    "collapsed": true
   },
   "outputs": [],
   "source": [
    "c = 'PUNT_MATEMATICAS'\n",
    "data_2010[c].value_counts().sort_index().index\n",
    "data_2010[c].value_counts().sort_index()\n",
    "missing_data(data_2010[c])"
   ]
  },
  {
   "cell_type": "code",
   "execution_count": null,
   "metadata": {
    "collapsed": true
   },
   "outputs": [],
   "source": [
    "c = 'PUNT_C_SOCIALES'\n",
    "data_2010[c].value_counts().sort_index().index\n",
    "data_2010[c].value_counts().sort_index()\n",
    "missing_data(data_2010[c])"
   ]
  },
  {
   "cell_type": "code",
   "execution_count": null,
   "metadata": {
    "collapsed": true
   },
   "outputs": [],
   "source": [
    "c = 'PUNT_FILOSOFIA'\n",
    "data_2010[c].value_counts().sort_index().index\n",
    "data_2010[c].value_counts().sort_index()\n",
    "missing_data(data_2010[c])"
   ]
  },
  {
   "cell_type": "code",
   "execution_count": null,
   "metadata": {
    "collapsed": true
   },
   "outputs": [],
   "source": [
    "c = 'PUNT_BIOLOGIA'\n",
    "data_2010[c].value_counts().sort_index().index\n",
    "data_2010[c].value_counts().sort_index()\n",
    "missing_data(data_2010[c])"
   ]
  },
  {
   "cell_type": "code",
   "execution_count": null,
   "metadata": {
    "collapsed": true
   },
   "outputs": [],
   "source": [
    "c = 'PUNT_QUIMICA'\n",
    "data_2010[c].value_counts().sort_index().index\n",
    "data_2010[c].value_counts().sort_index()\n",
    "missing_data(data_2010[c])"
   ]
  },
  {
   "cell_type": "code",
   "execution_count": null,
   "metadata": {
    "collapsed": true
   },
   "outputs": [],
   "source": [
    "c = 'PUNT_FISICA'\n",
    "data_2010[c].value_counts().sort_index().index\n",
    "data_2010[c].value_counts().sort_index()\n",
    "missing_data(data_2010[c])"
   ]
  },
  {
   "cell_type": "code",
   "execution_count": null,
   "metadata": {
    "collapsed": true
   },
   "outputs": [],
   "source": [
    "c = 'PUNT_INGLES'\n",
    "data_2010[c].value_counts().sort_index().index\n",
    "data_2010[c].value_counts().sort_index()\n",
    "missing_data(data_2010[c])"
   ]
  },
  {
   "cell_type": "code",
   "execution_count": null,
   "metadata": {
    "collapsed": true
   },
   "outputs": [],
   "source": [
    "c = 'DESEMP_INGLES'\n",
    "data_2010[c].value_counts().sort_index().index\n",
    "data_2010[c].value_counts().sort_index()\n",
    "missing_data(data_2010[c])"
   ]
  },
  {
   "cell_type": "code",
   "execution_count": null,
   "metadata": {
    "collapsed": true
   },
   "outputs": [],
   "source": [
    "c = 'NOMBRE_PROFUNDIZACION'\n",
    "data_2010[c].value_counts().sort_index().index\n",
    "data_2010[c].value_counts().sort_index()\n",
    "missing_data(data_2010[c])"
   ]
  },
  {
   "cell_type": "code",
   "execution_count": null,
   "metadata": {
    "collapsed": true
   },
   "outputs": [],
   "source": [
    "c = 'PUNT_PROFUNDIZACION'\n",
    "data_2010[c].value_counts().sort_index().index\n",
    "data_2010[c].value_counts().sort_index()\n",
    "missing_data(data_2010[c])"
   ]
  },
  {
   "cell_type": "code",
   "execution_count": null,
   "metadata": {
    "collapsed": true
   },
   "outputs": [],
   "source": [
    "c = 'DESEMP_PROFUNDIZACION'\n",
    "data_2010[c].value_counts().sort_index().index\n",
    "data_2010[c].value_counts().sort_index()\n",
    "missing_data(data_2010[c])"
   ]
  },
  {
   "cell_type": "code",
   "execution_count": null,
   "metadata": {
    "collapsed": true
   },
   "outputs": [],
   "source": [
    "c = 'NOMBRE_INTERDISCIPLINAR'\n",
    "data_2010[c].value_counts().sort_index().index\n",
    "data_2010[c].value_counts().sort_index()\n",
    "missing_data(data_2010[c])"
   ]
  },
  {
   "cell_type": "code",
   "execution_count": null,
   "metadata": {
    "collapsed": true
   },
   "outputs": [],
   "source": [
    "c = 'PUNT_INTERDISCIPLINAR'\n",
    "data_2010[c].value_counts().sort_index().index\n",
    "data_2010[c].value_counts().sort_index()\n",
    "missing_data(data_2010[c])"
   ]
  },
  {
   "cell_type": "code",
   "execution_count": null,
   "metadata": {
    "collapsed": true
   },
   "outputs": [],
   "source": [
    "c = 'ESTU_PUESTO'\n",
    "data_2010[c].value_counts().sort_index().index\n",
    "data_2010[c].value_counts().sort_index()\n",
    "missing_data(data_2010[c])"
   ]
  },
  {
   "cell_type": "markdown",
   "metadata": {},
   "source": [
    "# FILE 2: 2010_2"
   ]
  },
  {
   "cell_type": "code",
   "execution_count": 2,
   "metadata": {
    "collapsed": false
   },
   "outputs": [
    {
     "name": "stderr",
     "output_type": "stream",
     "text": [
      "/usr/local/lib/python3.4/dist-packages/IPython/core/interactiveshell.py:2902: DtypeWarning: Columns (10,11,12,13,14,15,24) have mixed types. Specify dtype option on import or set low_memory=False.\n",
      "  interactivity=interactivity, compiler=compiler, result=result)\n"
     ]
    }
   ],
   "source": [
    "data_2010_2 = pd.read_csv('../DatosFTPICFES/SABER11/SB11-BASES_DE_DATOS/SB11-20102-RGSTRO-CLFCCN-V1-0.txt', delimiter='|')"
   ]
  },
  {
   "cell_type": "code",
   "execution_count": 3,
   "metadata": {
    "collapsed": false
   },
   "outputs": [
    {
     "data": {
      "text/plain": [
       "(586779, 114)"
      ]
     },
     "execution_count": 3,
     "metadata": {},
     "output_type": "execute_result"
    }
   ],
   "source": [
    "data_2010_2.shape"
   ]
  },
  {
   "cell_type": "code",
   "execution_count": 4,
   "metadata": {
    "collapsed": false,
    "scrolled": true
   },
   "outputs": [
    {
     "data": {
      "text/html": [
       "<div>\n",
       "<table border=\"1\" class=\"dataframe\">\n",
       "  <thead>\n",
       "    <tr style=\"text-align: right;\">\n",
       "      <th></th>\n",
       "      <th>0</th>\n",
       "      <th>1</th>\n",
       "      <th>2</th>\n",
       "    </tr>\n",
       "  </thead>\n",
       "  <tbody>\n",
       "    <tr>\n",
       "      <th>ESTU_CONSECUTIVO</th>\n",
       "      <td>SABER1120102000001</td>\n",
       "      <td>SABER1120102000002</td>\n",
       "      <td>SABER1120102000003</td>\n",
       "    </tr>\n",
       "    <tr>\n",
       "      <th>PERIODO</th>\n",
       "      <td>20102</td>\n",
       "      <td>20102</td>\n",
       "      <td>20102</td>\n",
       "    </tr>\n",
       "    <tr>\n",
       "      <th>ESTU_TIPO_DOCUMENTO</th>\n",
       "      <td>T</td>\n",
       "      <td>T</td>\n",
       "      <td>T</td>\n",
       "    </tr>\n",
       "    <tr>\n",
       "      <th>ESTU_PAIS_RESIDE</th>\n",
       "      <td>CO</td>\n",
       "      <td>CO</td>\n",
       "      <td>CO</td>\n",
       "    </tr>\n",
       "    <tr>\n",
       "      <th>ESTU_GENERO</th>\n",
       "      <td>M</td>\n",
       "      <td>M</td>\n",
       "      <td>F</td>\n",
       "    </tr>\n",
       "    <tr>\n",
       "      <th>ESTU_NACIMIENTO_DIA</th>\n",
       "      <td>8</td>\n",
       "      <td>7</td>\n",
       "      <td>19</td>\n",
       "    </tr>\n",
       "    <tr>\n",
       "      <th>ESTU_NACIMIENTO_MES</th>\n",
       "      <td>10</td>\n",
       "      <td>10</td>\n",
       "      <td>3</td>\n",
       "    </tr>\n",
       "    <tr>\n",
       "      <th>ESTU_NACIMIENTO_ANNO</th>\n",
       "      <td>1992</td>\n",
       "      <td>1993</td>\n",
       "      <td>1994</td>\n",
       "    </tr>\n",
       "    <tr>\n",
       "      <th>ESTU_EDAD</th>\n",
       "      <td>17</td>\n",
       "      <td>16</td>\n",
       "      <td>16</td>\n",
       "    </tr>\n",
       "    <tr>\n",
       "      <th>ESTU_LIMITA_BAJAVISION</th>\n",
       "      <td>NaN</td>\n",
       "      <td>NaN</td>\n",
       "      <td>NaN</td>\n",
       "    </tr>\n",
       "    <tr>\n",
       "      <th>ESTU_LIMITA_SORDOCEGUERA</th>\n",
       "      <td>NaN</td>\n",
       "      <td>NaN</td>\n",
       "      <td>NaN</td>\n",
       "    </tr>\n",
       "    <tr>\n",
       "      <th>ESTU_LIMITA_COGNITIVA</th>\n",
       "      <td>NaN</td>\n",
       "      <td>NaN</td>\n",
       "      <td>NaN</td>\n",
       "    </tr>\n",
       "    <tr>\n",
       "      <th>ESTU_LIMITA_INVIDENTE</th>\n",
       "      <td>NaN</td>\n",
       "      <td>NaN</td>\n",
       "      <td>NaN</td>\n",
       "    </tr>\n",
       "    <tr>\n",
       "      <th>ESTU_LIMITA_MOTRIZ</th>\n",
       "      <td>NaN</td>\n",
       "      <td>NaN</td>\n",
       "      <td>NaN</td>\n",
       "    </tr>\n",
       "    <tr>\n",
       "      <th>ESTU_LIMITA_SORDOINTERPRETE</th>\n",
       "      <td>NaN</td>\n",
       "      <td>NaN</td>\n",
       "      <td>NaN</td>\n",
       "    </tr>\n",
       "    <tr>\n",
       "      <th>ESTU_LIMITA_SORDONOINTERPRETE</th>\n",
       "      <td>NaN</td>\n",
       "      <td>NaN</td>\n",
       "      <td>NaN</td>\n",
       "    </tr>\n",
       "    <tr>\n",
       "      <th>ESTU_ETNIA</th>\n",
       "      <td>NaN</td>\n",
       "      <td>NaN</td>\n",
       "      <td>NaN</td>\n",
       "    </tr>\n",
       "    <tr>\n",
       "      <th>ESTU_COD_RESIDE_MCPIO</th>\n",
       "      <td>11001</td>\n",
       "      <td>68001</td>\n",
       "      <td>73483</td>\n",
       "    </tr>\n",
       "    <tr>\n",
       "      <th>ESTU_RESIDE_MCPIO</th>\n",
       "      <td>BOGOTÁ D.C.</td>\n",
       "      <td>BUCARAMANGA</td>\n",
       "      <td>NATAGAIMA</td>\n",
       "    </tr>\n",
       "    <tr>\n",
       "      <th>ESTU_RESIDE_DEPTO</th>\n",
       "      <td>BOGOTÁ</td>\n",
       "      <td>SANTANDER</td>\n",
       "      <td>TOLIMA</td>\n",
       "    </tr>\n",
       "    <tr>\n",
       "      <th>ESTU_ZONA_RESIDE</th>\n",
       "      <td>4</td>\n",
       "      <td>5</td>\n",
       "      <td>10</td>\n",
       "    </tr>\n",
       "    <tr>\n",
       "      <th>ESTU_AREA_RESIDE</th>\n",
       "      <td>1</td>\n",
       "      <td>1</td>\n",
       "      <td>2</td>\n",
       "    </tr>\n",
       "    <tr>\n",
       "      <th>IND_COD_ICFES_TERMINO</th>\n",
       "      <td>21766</td>\n",
       "      <td>14381</td>\n",
       "      <td>16451</td>\n",
       "    </tr>\n",
       "    <tr>\n",
       "      <th>COLE_COD_ICFES</th>\n",
       "      <td>21766</td>\n",
       "      <td>14381</td>\n",
       "      <td>16451</td>\n",
       "    </tr>\n",
       "    <tr>\n",
       "      <th>COLE_COD_DANE_INSTITUCION</th>\n",
       "      <td>3.11001e+11</td>\n",
       "      <td>1.68001e+11</td>\n",
       "      <td>1.73483e+11</td>\n",
       "    </tr>\n",
       "    <tr>\n",
       "      <th>COLE_NOMBRE_SEDE</th>\n",
       "      <td>COL PARROQ DE NSTRA SEÑORA</td>\n",
       "      <td>IE.TECNOLG.SALESIANO ELOY VALENZUELA</td>\n",
       "      <td>I.E.T. FRANCISCO JOSE DE CALDAS - SEDE PRINCIPAL</td>\n",
       "    </tr>\n",
       "    <tr>\n",
       "      <th>COLE_CALENDARIO</th>\n",
       "      <td>A</td>\n",
       "      <td>A</td>\n",
       "      <td>A</td>\n",
       "    </tr>\n",
       "    <tr>\n",
       "      <th>COLE_GENERO</th>\n",
       "      <td>X</td>\n",
       "      <td>M</td>\n",
       "      <td>X</td>\n",
       "    </tr>\n",
       "    <tr>\n",
       "      <th>COLE_NATURALEZA</th>\n",
       "      <td>N</td>\n",
       "      <td>O</td>\n",
       "      <td>O</td>\n",
       "    </tr>\n",
       "    <tr>\n",
       "      <th>COLE_BILINGUE</th>\n",
       "      <td>0</td>\n",
       "      <td>0</td>\n",
       "      <td>0</td>\n",
       "    </tr>\n",
       "    <tr>\n",
       "      <th>...</th>\n",
       "      <td>...</td>\n",
       "      <td>...</td>\n",
       "      <td>...</td>\n",
       "    </tr>\n",
       "    <tr>\n",
       "      <th>FAMI_PERSONAS_HOGAR</th>\n",
       "      <td>5</td>\n",
       "      <td>5</td>\n",
       "      <td>8</td>\n",
       "    </tr>\n",
       "    <tr>\n",
       "      <th>FAMI_CUARTOS_HOGAR</th>\n",
       "      <td>NaN</td>\n",
       "      <td>NaN</td>\n",
       "      <td>NaN</td>\n",
       "    </tr>\n",
       "    <tr>\n",
       "      <th>FAMI_PISOSHOGAR</th>\n",
       "      <td>4</td>\n",
       "      <td>4</td>\n",
       "      <td>2</td>\n",
       "    </tr>\n",
       "    <tr>\n",
       "      <th>FAMI_TELEFONO_FIJO</th>\n",
       "      <td>0</td>\n",
       "      <td>1</td>\n",
       "      <td>0</td>\n",
       "    </tr>\n",
       "    <tr>\n",
       "      <th>FAMI_CELULAR</th>\n",
       "      <td>1</td>\n",
       "      <td>1</td>\n",
       "      <td>1</td>\n",
       "    </tr>\n",
       "    <tr>\n",
       "      <th>FAMI_INTERNET</th>\n",
       "      <td>0</td>\n",
       "      <td>1</td>\n",
       "      <td>0</td>\n",
       "    </tr>\n",
       "    <tr>\n",
       "      <th>FAMI_SERVICIO_TELEVISION</th>\n",
       "      <td>1</td>\n",
       "      <td>1</td>\n",
       "      <td>0</td>\n",
       "    </tr>\n",
       "    <tr>\n",
       "      <th>FAMI_COMPUTADOR</th>\n",
       "      <td>3</td>\n",
       "      <td>3</td>\n",
       "      <td>0</td>\n",
       "    </tr>\n",
       "    <tr>\n",
       "      <th>FAMI_LAVADORA</th>\n",
       "      <td>1</td>\n",
       "      <td>1</td>\n",
       "      <td>0</td>\n",
       "    </tr>\n",
       "    <tr>\n",
       "      <th>FAMI_NEVERA</th>\n",
       "      <td>1</td>\n",
       "      <td>1</td>\n",
       "      <td>1</td>\n",
       "    </tr>\n",
       "    <tr>\n",
       "      <th>FAMI_HORNO</th>\n",
       "      <td>1</td>\n",
       "      <td>0</td>\n",
       "      <td>0</td>\n",
       "    </tr>\n",
       "    <tr>\n",
       "      <th>FAMI_DVD</th>\n",
       "      <td>1</td>\n",
       "      <td>1</td>\n",
       "      <td>1</td>\n",
       "    </tr>\n",
       "    <tr>\n",
       "      <th>FAMI_MICROONDAS</th>\n",
       "      <td>1</td>\n",
       "      <td>1</td>\n",
       "      <td>0</td>\n",
       "    </tr>\n",
       "    <tr>\n",
       "      <th>FAMI_AUTOMOVIL</th>\n",
       "      <td>1</td>\n",
       "      <td>1</td>\n",
       "      <td>0</td>\n",
       "    </tr>\n",
       "    <tr>\n",
       "      <th>FAMI_INGRESO_FMILIAR_MENSUAL</th>\n",
       "      <td>4</td>\n",
       "      <td>4</td>\n",
       "      <td>2</td>\n",
       "    </tr>\n",
       "    <tr>\n",
       "      <th>ESTU_TRABAJA</th>\n",
       "      <td>0</td>\n",
       "      <td>0</td>\n",
       "      <td>0</td>\n",
       "    </tr>\n",
       "    <tr>\n",
       "      <th>ESTU_HORAS_TRABAJA</th>\n",
       "      <td>NaN</td>\n",
       "      <td>NaN</td>\n",
       "      <td>NaN</td>\n",
       "    </tr>\n",
       "    <tr>\n",
       "      <th>PUNT_LENGUAJE</th>\n",
       "      <td>56,41</td>\n",
       "      <td>59,4</td>\n",
       "      <td>50,6</td>\n",
       "    </tr>\n",
       "    <tr>\n",
       "      <th>PUNT_MATEMATICAS</th>\n",
       "      <td>68,39</td>\n",
       "      <td>69,01</td>\n",
       "      <td>39,12</td>\n",
       "    </tr>\n",
       "    <tr>\n",
       "      <th>PUNT_C_SOCIALES</th>\n",
       "      <td>58,08</td>\n",
       "      <td>69,34</td>\n",
       "      <td>43,18</td>\n",
       "    </tr>\n",
       "    <tr>\n",
       "      <th>PUNT_FILOSOFIA</th>\n",
       "      <td>50,93</td>\n",
       "      <td>75,71</td>\n",
       "      <td>45,2</td>\n",
       "    </tr>\n",
       "    <tr>\n",
       "      <th>PUNT_BIOLOGIA</th>\n",
       "      <td>55,09</td>\n",
       "      <td>65,98</td>\n",
       "      <td>37,43</td>\n",
       "    </tr>\n",
       "    <tr>\n",
       "      <th>PUNT_QUIMICA</th>\n",
       "      <td>59</td>\n",
       "      <td>75,02</td>\n",
       "      <td>40,31</td>\n",
       "    </tr>\n",
       "    <tr>\n",
       "      <th>PUNT_FISICA</th>\n",
       "      <td>63,86</td>\n",
       "      <td>83,07</td>\n",
       "      <td>50,64</td>\n",
       "    </tr>\n",
       "    <tr>\n",
       "      <th>PUNT_INGLES</th>\n",
       "      <td>43,53</td>\n",
       "      <td>89,24</td>\n",
       "      <td>34,94</td>\n",
       "    </tr>\n",
       "    <tr>\n",
       "      <th>DESEMP_INGLES</th>\n",
       "      <td>A-</td>\n",
       "      <td>B+</td>\n",
       "      <td>A-</td>\n",
       "    </tr>\n",
       "    <tr>\n",
       "      <th>NOMBRE_COMP_FLEXIBLE</th>\n",
       "      <td>PROFUNDIZACIÓN EN CIENCIAS SOCIALES</td>\n",
       "      <td>PROFUNDIZACIÓN EN BIOLOGÍA</td>\n",
       "      <td>MEDIO AMBIENTE</td>\n",
       "    </tr>\n",
       "    <tr>\n",
       "      <th>PUNT_COMP_FLEXIBLE</th>\n",
       "      <td>5,2</td>\n",
       "      <td>6,5</td>\n",
       "      <td>54,75</td>\n",
       "    </tr>\n",
       "    <tr>\n",
       "      <th>DESEMP_COMP_FLEXIBLE</th>\n",
       "      <td>II</td>\n",
       "      <td>III</td>\n",
       "      <td>NaN</td>\n",
       "    </tr>\n",
       "    <tr>\n",
       "      <th>ESTU_PUESTO</th>\n",
       "      <td>127</td>\n",
       "      <td>15</td>\n",
       "      <td>807</td>\n",
       "    </tr>\n",
       "  </tbody>\n",
       "</table>\n",
       "<p>114 rows × 3 columns</p>\n",
       "</div>"
      ],
      "text/plain": [
       "                                                                 0  \\\n",
       "ESTU_CONSECUTIVO                                SABER1120102000001   \n",
       "PERIODO                                                      20102   \n",
       "ESTU_TIPO_DOCUMENTO                                              T   \n",
       "ESTU_PAIS_RESIDE                                                CO   \n",
       "ESTU_GENERO                                                      M   \n",
       "ESTU_NACIMIENTO_DIA                                              8   \n",
       "ESTU_NACIMIENTO_MES                                             10   \n",
       "ESTU_NACIMIENTO_ANNO                                          1992   \n",
       "ESTU_EDAD                                                       17   \n",
       "ESTU_LIMITA_BAJAVISION                                         NaN   \n",
       "ESTU_LIMITA_SORDOCEGUERA                                       NaN   \n",
       "ESTU_LIMITA_COGNITIVA                                          NaN   \n",
       "ESTU_LIMITA_INVIDENTE                                          NaN   \n",
       "ESTU_LIMITA_MOTRIZ                                             NaN   \n",
       "ESTU_LIMITA_SORDOINTERPRETE                                    NaN   \n",
       "ESTU_LIMITA_SORDONOINTERPRETE                                  NaN   \n",
       "ESTU_ETNIA                                                     NaN   \n",
       "ESTU_COD_RESIDE_MCPIO                                        11001   \n",
       "ESTU_RESIDE_MCPIO                                      BOGOTÁ D.C.   \n",
       "ESTU_RESIDE_DEPTO                                           BOGOTÁ   \n",
       "ESTU_ZONA_RESIDE                                                 4   \n",
       "ESTU_AREA_RESIDE                                                 1   \n",
       "IND_COD_ICFES_TERMINO                                        21766   \n",
       "COLE_COD_ICFES                                               21766   \n",
       "COLE_COD_DANE_INSTITUCION                              3.11001e+11   \n",
       "COLE_NOMBRE_SEDE                        COL PARROQ DE NSTRA SEÑORA   \n",
       "COLE_CALENDARIO                                                  A   \n",
       "COLE_GENERO                                                      X   \n",
       "COLE_NATURALEZA                                                  N   \n",
       "COLE_BILINGUE                                                    0   \n",
       "...                                                            ...   \n",
       "FAMI_PERSONAS_HOGAR                                              5   \n",
       "FAMI_CUARTOS_HOGAR                                             NaN   \n",
       "FAMI_PISOSHOGAR                                                  4   \n",
       "FAMI_TELEFONO_FIJO                                               0   \n",
       "FAMI_CELULAR                                                     1   \n",
       "FAMI_INTERNET                                                    0   \n",
       "FAMI_SERVICIO_TELEVISION                                         1   \n",
       "FAMI_COMPUTADOR                                                  3   \n",
       "FAMI_LAVADORA                                                    1   \n",
       "FAMI_NEVERA                                                      1   \n",
       "FAMI_HORNO                                                       1   \n",
       "FAMI_DVD                                                         1   \n",
       "FAMI_MICROONDAS                                                  1   \n",
       "FAMI_AUTOMOVIL                                                   1   \n",
       "FAMI_INGRESO_FMILIAR_MENSUAL                                     4   \n",
       "ESTU_TRABAJA                                                     0   \n",
       "ESTU_HORAS_TRABAJA                                             NaN   \n",
       "PUNT_LENGUAJE                                                56,41   \n",
       "PUNT_MATEMATICAS                                             68,39   \n",
       "PUNT_C_SOCIALES                                              58,08   \n",
       "PUNT_FILOSOFIA                                               50,93   \n",
       "PUNT_BIOLOGIA                                                55,09   \n",
       "PUNT_QUIMICA                                                    59   \n",
       "PUNT_FISICA                                                  63,86   \n",
       "PUNT_INGLES                                                  43,53   \n",
       "DESEMP_INGLES                                                   A-   \n",
       "NOMBRE_COMP_FLEXIBLE           PROFUNDIZACIÓN EN CIENCIAS SOCIALES   \n",
       "PUNT_COMP_FLEXIBLE                                             5,2   \n",
       "DESEMP_COMP_FLEXIBLE                                            II   \n",
       "ESTU_PUESTO                                                    127   \n",
       "\n",
       "                                                                  1  \\\n",
       "ESTU_CONSECUTIVO                                 SABER1120102000002   \n",
       "PERIODO                                                       20102   \n",
       "ESTU_TIPO_DOCUMENTO                                               T   \n",
       "ESTU_PAIS_RESIDE                                                 CO   \n",
       "ESTU_GENERO                                                       M   \n",
       "ESTU_NACIMIENTO_DIA                                               7   \n",
       "ESTU_NACIMIENTO_MES                                              10   \n",
       "ESTU_NACIMIENTO_ANNO                                           1993   \n",
       "ESTU_EDAD                                                        16   \n",
       "ESTU_LIMITA_BAJAVISION                                          NaN   \n",
       "ESTU_LIMITA_SORDOCEGUERA                                        NaN   \n",
       "ESTU_LIMITA_COGNITIVA                                           NaN   \n",
       "ESTU_LIMITA_INVIDENTE                                           NaN   \n",
       "ESTU_LIMITA_MOTRIZ                                              NaN   \n",
       "ESTU_LIMITA_SORDOINTERPRETE                                     NaN   \n",
       "ESTU_LIMITA_SORDONOINTERPRETE                                   NaN   \n",
       "ESTU_ETNIA                                                      NaN   \n",
       "ESTU_COD_RESIDE_MCPIO                                         68001   \n",
       "ESTU_RESIDE_MCPIO                                       BUCARAMANGA   \n",
       "ESTU_RESIDE_DEPTO                                         SANTANDER   \n",
       "ESTU_ZONA_RESIDE                                                  5   \n",
       "ESTU_AREA_RESIDE                                                  1   \n",
       "IND_COD_ICFES_TERMINO                                         14381   \n",
       "COLE_COD_ICFES                                                14381   \n",
       "COLE_COD_DANE_INSTITUCION                               1.68001e+11   \n",
       "COLE_NOMBRE_SEDE               IE.TECNOLG.SALESIANO ELOY VALENZUELA   \n",
       "COLE_CALENDARIO                                                   A   \n",
       "COLE_GENERO                                                       M   \n",
       "COLE_NATURALEZA                                                   O   \n",
       "COLE_BILINGUE                                                     0   \n",
       "...                                                             ...   \n",
       "FAMI_PERSONAS_HOGAR                                               5   \n",
       "FAMI_CUARTOS_HOGAR                                              NaN   \n",
       "FAMI_PISOSHOGAR                                                   4   \n",
       "FAMI_TELEFONO_FIJO                                                1   \n",
       "FAMI_CELULAR                                                      1   \n",
       "FAMI_INTERNET                                                     1   \n",
       "FAMI_SERVICIO_TELEVISION                                          1   \n",
       "FAMI_COMPUTADOR                                                   3   \n",
       "FAMI_LAVADORA                                                     1   \n",
       "FAMI_NEVERA                                                       1   \n",
       "FAMI_HORNO                                                        0   \n",
       "FAMI_DVD                                                          1   \n",
       "FAMI_MICROONDAS                                                   1   \n",
       "FAMI_AUTOMOVIL                                                    1   \n",
       "FAMI_INGRESO_FMILIAR_MENSUAL                                      4   \n",
       "ESTU_TRABAJA                                                      0   \n",
       "ESTU_HORAS_TRABAJA                                              NaN   \n",
       "PUNT_LENGUAJE                                                  59,4   \n",
       "PUNT_MATEMATICAS                                              69,01   \n",
       "PUNT_C_SOCIALES                                               69,34   \n",
       "PUNT_FILOSOFIA                                                75,71   \n",
       "PUNT_BIOLOGIA                                                 65,98   \n",
       "PUNT_QUIMICA                                                  75,02   \n",
       "PUNT_FISICA                                                   83,07   \n",
       "PUNT_INGLES                                                   89,24   \n",
       "DESEMP_INGLES                                                    B+   \n",
       "NOMBRE_COMP_FLEXIBLE                     PROFUNDIZACIÓN EN BIOLOGÍA   \n",
       "PUNT_COMP_FLEXIBLE                                              6,5   \n",
       "DESEMP_COMP_FLEXIBLE                                            III   \n",
       "ESTU_PUESTO                                                      15   \n",
       "\n",
       "                                                                              2  \n",
       "ESTU_CONSECUTIVO                                             SABER1120102000003  \n",
       "PERIODO                                                                   20102  \n",
       "ESTU_TIPO_DOCUMENTO                                                           T  \n",
       "ESTU_PAIS_RESIDE                                                             CO  \n",
       "ESTU_GENERO                                                                   F  \n",
       "ESTU_NACIMIENTO_DIA                                                          19  \n",
       "ESTU_NACIMIENTO_MES                                                           3  \n",
       "ESTU_NACIMIENTO_ANNO                                                       1994  \n",
       "ESTU_EDAD                                                                    16  \n",
       "ESTU_LIMITA_BAJAVISION                                                      NaN  \n",
       "ESTU_LIMITA_SORDOCEGUERA                                                    NaN  \n",
       "ESTU_LIMITA_COGNITIVA                                                       NaN  \n",
       "ESTU_LIMITA_INVIDENTE                                                       NaN  \n",
       "ESTU_LIMITA_MOTRIZ                                                          NaN  \n",
       "ESTU_LIMITA_SORDOINTERPRETE                                                 NaN  \n",
       "ESTU_LIMITA_SORDONOINTERPRETE                                               NaN  \n",
       "ESTU_ETNIA                                                                  NaN  \n",
       "ESTU_COD_RESIDE_MCPIO                                                     73483  \n",
       "ESTU_RESIDE_MCPIO                                                     NATAGAIMA  \n",
       "ESTU_RESIDE_DEPTO                                                        TOLIMA  \n",
       "ESTU_ZONA_RESIDE                                                             10  \n",
       "ESTU_AREA_RESIDE                                                              2  \n",
       "IND_COD_ICFES_TERMINO                                                     16451  \n",
       "COLE_COD_ICFES                                                            16451  \n",
       "COLE_COD_DANE_INSTITUCION                                           1.73483e+11  \n",
       "COLE_NOMBRE_SEDE               I.E.T. FRANCISCO JOSE DE CALDAS - SEDE PRINCIPAL  \n",
       "COLE_CALENDARIO                                                               A  \n",
       "COLE_GENERO                                                                   X  \n",
       "COLE_NATURALEZA                                                               O  \n",
       "COLE_BILINGUE                                                                 0  \n",
       "...                                                                         ...  \n",
       "FAMI_PERSONAS_HOGAR                                                           8  \n",
       "FAMI_CUARTOS_HOGAR                                                          NaN  \n",
       "FAMI_PISOSHOGAR                                                               2  \n",
       "FAMI_TELEFONO_FIJO                                                            0  \n",
       "FAMI_CELULAR                                                                  1  \n",
       "FAMI_INTERNET                                                                 0  \n",
       "FAMI_SERVICIO_TELEVISION                                                      0  \n",
       "FAMI_COMPUTADOR                                                               0  \n",
       "FAMI_LAVADORA                                                                 0  \n",
       "FAMI_NEVERA                                                                   1  \n",
       "FAMI_HORNO                                                                    0  \n",
       "FAMI_DVD                                                                      1  \n",
       "FAMI_MICROONDAS                                                               0  \n",
       "FAMI_AUTOMOVIL                                                                0  \n",
       "FAMI_INGRESO_FMILIAR_MENSUAL                                                  2  \n",
       "ESTU_TRABAJA                                                                  0  \n",
       "ESTU_HORAS_TRABAJA                                                          NaN  \n",
       "PUNT_LENGUAJE                                                              50,6  \n",
       "PUNT_MATEMATICAS                                                          39,12  \n",
       "PUNT_C_SOCIALES                                                           43,18  \n",
       "PUNT_FILOSOFIA                                                             45,2  \n",
       "PUNT_BIOLOGIA                                                             37,43  \n",
       "PUNT_QUIMICA                                                              40,31  \n",
       "PUNT_FISICA                                                               50,64  \n",
       "PUNT_INGLES                                                               34,94  \n",
       "DESEMP_INGLES                                                                A-  \n",
       "NOMBRE_COMP_FLEXIBLE                                             MEDIO AMBIENTE  \n",
       "PUNT_COMP_FLEXIBLE                                                        54,75  \n",
       "DESEMP_COMP_FLEXIBLE                                                        NaN  \n",
       "ESTU_PUESTO                                                                 807  \n",
       "\n",
       "[114 rows x 3 columns]"
      ]
     },
     "execution_count": 4,
     "metadata": {},
     "output_type": "execute_result"
    }
   ],
   "source": [
    "data_2010_2.head(3).T"
   ]
  },
  {
   "cell_type": "code",
   "execution_count": 6,
   "metadata": {
    "collapsed": true
   },
   "outputs": [],
   "source": [
    "data_2010_2 = data_2010_2.drop(['ESTU_CONSECUTIVO', 'PERIODO', 'ESTU_TIPO_DOCUMENTO', 'ESTU_COD_RESIDE_MCPIO',\n",
    "                               'COLE_NOMBRE_SEDE', 'ESTU_IES_DESEADA_NOMBRE', 'ESTU_IES_COD_MPIO_DESEADA'], axis=1)"
   ]
  },
  {
   "cell_type": "code",
   "execution_count": null,
   "metadata": {
    "collapsed": true
   },
   "outputs": [],
   "source": [
    "c = 'ESTU_PAIS_RESIDE'\n",
    "data_2010_2[c].value_counts().sort_index().index\n",
    "data_2010_2[c].value_counts().sort_index()\n",
    "missing_data(data_2010_2[c])"
   ]
  },
  {
   "cell_type": "code",
   "execution_count": null,
   "metadata": {
    "collapsed": true
   },
   "outputs": [],
   "source": [
    "c = 'ESTU_GENERO'\n",
    "data_2010_2[c].value_counts().sort_index().index\n",
    "data_2010_2[c].value_counts().sort_index()\n",
    "missing_data(data_2010_2[c])"
   ]
  },
  {
   "cell_type": "code",
   "execution_count": null,
   "metadata": {
    "collapsed": true
   },
   "outputs": [],
   "source": [
    "c = 'ESTU_NACIMIENTO_DIA'\n",
    "data_2010_2[c].value_counts().sort_index().index\n",
    "data_2010_2[c].value_counts().sort_index()\n",
    "missing_data(data_2010_2[c])"
   ]
  },
  {
   "cell_type": "code",
   "execution_count": null,
   "metadata": {
    "collapsed": true
   },
   "outputs": [],
   "source": [
    "c = 'ESTU_NACIMIENTO_MES'\n",
    "data_2010_2[c].value_counts().sort_index().index\n",
    "data_2010_2[c].value_counts().sort_index()\n",
    "missing_data(data_2010_2[c])"
   ]
  },
  {
   "cell_type": "code",
   "execution_count": null,
   "metadata": {
    "collapsed": true
   },
   "outputs": [],
   "source": [
    "c = 'ESTU_NACIMIENTO_ANNO'\n",
    "data_2010_2[c].value_counts().sort_index().index\n",
    "data_2010_2[c].value_counts().sort_index()\n",
    "missing_data(data_2010_2[c])"
   ]
  },
  {
   "cell_type": "code",
   "execution_count": null,
   "metadata": {
    "collapsed": true
   },
   "outputs": [],
   "source": [
    "c = 'ESTU_EDAD'\n",
    "data_2010_2[c].value_counts().sort_index().index\n",
    "data_2010_2[c].value_counts().sort_index()\n",
    "missing_data(data_2010_2[c])"
   ]
  },
  {
   "cell_type": "code",
   "execution_count": null,
   "metadata": {
    "collapsed": true
   },
   "outputs": [],
   "source": [
    "c = 'ESTU_LIMITA_BAJAVISION'\n",
    "data_2010_2[c].value_counts().sort_index().index\n",
    "data_2010_2[c].value_counts().sort_index()\n",
    "missing_data(data_2010_2[c])"
   ]
  },
  {
   "cell_type": "code",
   "execution_count": null,
   "metadata": {
    "collapsed": true
   },
   "outputs": [],
   "source": [
    "c = 'ESTU_LIMITA_SORDOCEGUERA'\n",
    "data_2010_2[c].value_counts().sort_index().index\n",
    "data_2010_2[c].value_counts().sort_index()\n",
    "missing_data(data_2010_2[c])"
   ]
  },
  {
   "cell_type": "code",
   "execution_count": null,
   "metadata": {
    "collapsed": true
   },
   "outputs": [],
   "source": [
    "c = 'ESTU_LIMITA_COGNITIVA'\n",
    "data_2010_2[c].value_counts().sort_index().index\n",
    "data_2010_2[c].value_counts().sort_index()\n",
    "missing_data(data_2010_2[c])"
   ]
  },
  {
   "cell_type": "code",
   "execution_count": null,
   "metadata": {
    "collapsed": true
   },
   "outputs": [],
   "source": [
    "c = 'ESTU_LIMITA_INVIDENTE'\n",
    "data_2010_2[c].value_counts().sort_index().index\n",
    "data_2010_2[c].value_counts().sort_index()\n",
    "missing_data(data_2010_2[c])"
   ]
  },
  {
   "cell_type": "code",
   "execution_count": null,
   "metadata": {
    "collapsed": true
   },
   "outputs": [],
   "source": [
    "c = 'ESTU_LIMITA_MOTRIZ'\n",
    "data_2010_2[c].value_counts().sort_index().index\n",
    "data_2010_2[c].value_counts().sort_index()\n",
    "missing_data(data_2010_2[c])"
   ]
  },
  {
   "cell_type": "code",
   "execution_count": null,
   "metadata": {
    "collapsed": true
   },
   "outputs": [],
   "source": [
    "c = 'ESTU_LIMITA_SORDOINTERPRETE'\n",
    "data_2010_2[c].value_counts().sort_index().index\n",
    "data_2010_2[c].value_counts().sort_index()\n",
    "missing_data(data_2010_2[c])"
   ]
  },
  {
   "cell_type": "code",
   "execution_count": null,
   "metadata": {
    "collapsed": true
   },
   "outputs": [],
   "source": [
    "c = 'ESTU_LIMITA_SORDONOINTERPRETE'\n",
    "data_2010_2[c].value_counts().sort_index().index\n",
    "data_2010_2[c].value_counts().sort_index()\n",
    "missing_data(data_2010_2[c])"
   ]
  },
  {
   "cell_type": "code",
   "execution_count": null,
   "metadata": {
    "collapsed": true
   },
   "outputs": [],
   "source": [
    "c = 'ESTU_ETNIA'\n",
    "data_2010_2[c].value_counts().sort_index().index\n",
    "data_2010_2[c].value_counts().sort_index()\n",
    "missing_data(data_2010_2[c])"
   ]
  },
  {
   "cell_type": "code",
   "execution_count": null,
   "metadata": {
    "collapsed": true
   },
   "outputs": [],
   "source": [
    "c = 'ESTU_RESIDE_MCPIO'\n",
    "data_2010_2[c].value_counts().sort_index().index\n",
    "data_2010_2[c].value_counts().sort_index()\n",
    "missing_data(data_2010_2[c])"
   ]
  },
  {
   "cell_type": "code",
   "execution_count": null,
   "metadata": {
    "collapsed": true
   },
   "outputs": [],
   "source": [
    "c = 'ESTU_RESIDE_DEPTO'\n",
    "data_2010_2[c].value_counts().sort_index().index\n",
    "data_2010_2[c].value_counts().sort_index()\n",
    "missing_data(data_2010_2[c])"
   ]
  },
  {
   "cell_type": "code",
   "execution_count": null,
   "metadata": {
    "collapsed": true
   },
   "outputs": [],
   "source": [
    "c = 'ESTU_ZONA_RESIDE'\n",
    "data_2010_2[c].value_counts().sort_index().index\n",
    "data_2010_2[c].value_counts().sort_index()\n",
    "missing_data(data_2010_2[c])"
   ]
  },
  {
   "cell_type": "code",
   "execution_count": null,
   "metadata": {
    "collapsed": true
   },
   "outputs": [],
   "source": [
    "c = 'ESTU_AREA_RESIDE'\n",
    "data_2010_2[c].value_counts().sort_index().index\n",
    "data_2010_2[c].value_counts().sort_index()\n",
    "missing_data(data_2010_2[c])"
   ]
  },
  {
   "cell_type": "code",
   "execution_count": null,
   "metadata": {
    "collapsed": true
   },
   "outputs": [],
   "source": [
    "c = 'IND_COD_ICFES_TERMINO'\n",
    "data_2010_2[c].value_counts().sort_index().index\n",
    "data_2010_2[c].value_counts().sort_index()\n",
    "missing_data(data_2010_2[c])"
   ]
  },
  {
   "cell_type": "code",
   "execution_count": null,
   "metadata": {
    "collapsed": true
   },
   "outputs": [],
   "source": [
    "c = 'COLE_COD_ICFES'\n",
    "data_2010_2[c].value_counts().sort_index().index\n",
    "data_2010_2[c].value_counts().sort_index()\n",
    "missing_data(data_2010_2[c])"
   ]
  },
  {
   "cell_type": "code",
   "execution_count": null,
   "metadata": {
    "collapsed": true
   },
   "outputs": [],
   "source": [
    "c = 'COLE_COD_DANE_INSTITUCION'\n",
    "data_2010_2[c].value_counts().sort_index().index\n",
    "data_2010_2[c].value_counts().sort_index()\n",
    "missing_data(data_2010_2[c])"
   ]
  },
  {
   "cell_type": "code",
   "execution_count": null,
   "metadata": {
    "collapsed": true
   },
   "outputs": [],
   "source": [
    "c = 'COLE_CALENDARIO'\n",
    "data_2010_2[c].value_counts().sort_index().index\n",
    "data_2010_2[c].value_counts().sort_index()\n",
    "missing_data(data_2010_2[c])"
   ]
  },
  {
   "cell_type": "code",
   "execution_count": null,
   "metadata": {
    "collapsed": true
   },
   "outputs": [],
   "source": [
    "c = 'COLE_GENERO'\n",
    "data_2010_2[c].value_counts().sort_index().index\n",
    "data_2010_2[c].value_counts().sort_index()\n",
    "missing_data(data_2010_2[c])"
   ]
  },
  {
   "cell_type": "code",
   "execution_count": null,
   "metadata": {
    "collapsed": true
   },
   "outputs": [],
   "source": [
    "c = 'COLE_NATURALEZA'\n",
    "data_2010_2[c].value_counts().sort_index().index\n",
    "data_2010_2[c].value_counts().sort_index()\n",
    "missing_data(data_2010_2[c])"
   ]
  },
  {
   "cell_type": "code",
   "execution_count": null,
   "metadata": {
    "collapsed": true
   },
   "outputs": [],
   "source": [
    "c = 'COLE_BILINGUE'\n",
    "data_2010_2[c].value_counts().sort_index().index\n",
    "data_2010_2[c].value_counts().sort_index()\n",
    "missing_data(data_2010_2[c])"
   ]
  },
  {
   "cell_type": "code",
   "execution_count": null,
   "metadata": {
    "collapsed": true
   },
   "outputs": [],
   "source": [
    "c = 'COLE_JORNADA'\n",
    "data_2010_2[c].value_counts().sort_index().index\n",
    "data_2010_2[c].value_counts().sort_index()\n",
    "missing_data(data_2010_2[c])"
   ]
  },
  {
   "cell_type": "code",
   "execution_count": null,
   "metadata": {
    "collapsed": true
   },
   "outputs": [],
   "source": [
    "c = 'COLE_CARACTER'\n",
    "data_2010_2[c].value_counts().sort_index().index\n",
    "data_2010_2[c].value_counts().sort_index()\n",
    "missing_data(data_2010_2[c])"
   ]
  },
  {
   "cell_type": "code",
   "execution_count": null,
   "metadata": {
    "collapsed": true
   },
   "outputs": [],
   "source": [
    "c = 'ESTU_CARRDESEADA_TIPO'\n",
    "data_2010_2[c].value_counts().sort_index().index\n",
    "data_2010_2[c].value_counts().sort_index()\n",
    "missing_data(data_2010_2[c])"
   ]
  },
  {
   "cell_type": "code",
   "execution_count": null,
   "metadata": {
    "collapsed": true
   },
   "outputs": [],
   "source": [
    "c = 'ESTU_IES_COD_DESEADA'\n",
    "data_2010_2[c].value_counts().sort_index().index\n",
    "data_2010_2[c].value_counts().sort_index()\n",
    "missing_data(data_2010_2[c])"
   ]
  },
  {
   "cell_type": "code",
   "execution_count": null,
   "metadata": {
    "collapsed": true
   },
   "outputs": [],
   "source": [
    "c = 'ESTU_IES_DEPT_DESEADA'\n",
    "data_2010_2[c].value_counts().sort_index().index\n",
    "data_2010_2[c].value_counts().sort_index()\n",
    "missing_data(data_2010_2[c])"
   ]
  },
  {
   "cell_type": "code",
   "execution_count": null,
   "metadata": {
    "collapsed": true
   },
   "outputs": [],
   "source": [
    "c = 'ESTU_IES_MPIO_DESEADA'\n",
    "data_2010_2[c].value_counts().sort_index().index\n",
    "data_2010_2[c].value_counts().sort_index()\n",
    "missing_data(data_2010_2[c])"
   ]
  },
  {
   "cell_type": "code",
   "execution_count": null,
   "metadata": {
    "collapsed": true
   },
   "outputs": [],
   "source": [
    "c = 'ESTU_TOTAL_ALUMNOS_CURSO'\n",
    "data_2010_2[c].value_counts().sort_index().index\n",
    "data_2010_2[c].value_counts().sort_index()\n",
    "missing_data(data_2010_2[c])"
   ]
  },
  {
   "cell_type": "code",
   "execution_count": null,
   "metadata": {
    "collapsed": true
   },
   "outputs": [],
   "source": [
    "c = 'ESTU_ANO_MATRICULA_PRIMERO'\n",
    "data_2010_2[c].value_counts().sort_index().index\n",
    "data_2010_2[c].value_counts().sort_index()\n",
    "missing_data(data_2010_2[c])"
   ]
  },
  {
   "cell_type": "code",
   "execution_count": null,
   "metadata": {
    "collapsed": true
   },
   "outputs": [],
   "source": [
    "c = 'ESTU_ANO_TERMINO_QUINTO'\n",
    "data_2010_2[c].value_counts().sort_index().index\n",
    "data_2010_2[c].value_counts().sort_index()\n",
    "missing_data(data_2010_2[c])"
   ]
  },
  {
   "cell_type": "code",
   "execution_count": null,
   "metadata": {
    "collapsed": true
   },
   "outputs": [],
   "source": [
    "c = 'ESTU_ANOS_COLEGIO_ACTUAL'\n",
    "data_2010_2[c].value_counts().sort_index().index\n",
    "data_2010_2[c].value_counts().sort_index()\n",
    "missing_data(data_2010_2[c])"
   ]
  },
  {
   "cell_type": "code",
   "execution_count": null,
   "metadata": {
    "collapsed": true
   },
   "outputs": [],
   "source": [
    "c = 'ESTU_ANO_MATRICULA_SEXTO'\n",
    "data_2010_2[c].value_counts().sort_index().index\n",
    "data_2010_2[c].value_counts().sort_index()\n",
    "missing_data(data_2010_2[c])"
   ]
  },
  {
   "cell_type": "code",
   "execution_count": null,
   "metadata": {
    "collapsed": true
   },
   "outputs": [],
   "source": [
    "c = 'ESTU_ANOS_PREESCOLAR'\n",
    "data_2010_2[c].value_counts().sort_index().index\n",
    "data_2010_2[c].value_counts().sort_index()\n",
    "missing_data(data_2010_2[c])"
   ]
  },
  {
   "cell_type": "code",
   "execution_count": null,
   "metadata": {
    "collapsed": true
   },
   "outputs": [],
   "source": [
    "c = 'ESTU_CUANTOS_COLE_ESTUDIO'\n",
    "data_2010_2[c].value_counts().sort_index().index\n",
    "data_2010_2[c].value_counts().sort_index()\n",
    "missing_data(data_2010_2[c])"
   ]
  },
  {
   "cell_type": "code",
   "execution_count": null,
   "metadata": {
    "collapsed": true
   },
   "outputs": [],
   "source": [
    "c = 'ESTU_REPROBO_CUARTO'\n",
    "data_2010_2[c].value_counts().sort_index().index\n",
    "data_2010_2[c].value_counts().sort_index()\n",
    "missing_data(data_2010_2[c])"
   ]
  },
  {
   "cell_type": "code",
   "execution_count": null,
   "metadata": {
    "collapsed": true
   },
   "outputs": [],
   "source": [
    "c = 'ESTU_REPROBO_DECIMO'\n",
    "data_2010_2[c].value_counts().sort_index().index\n",
    "data_2010_2[c].value_counts().sort_index()\n",
    "missing_data(data_2010_2[c])"
   ]
  },
  {
   "cell_type": "code",
   "execution_count": null,
   "metadata": {
    "collapsed": true
   },
   "outputs": [],
   "source": [
    "c = 'ESTU_REPROBO_NOVENO'\n",
    "data_2010_2[c].value_counts().sort_index().index\n",
    "data_2010_2[c].value_counts().sort_index()\n",
    "missing_data(data_2010_2[c])"
   ]
  },
  {
   "cell_type": "code",
   "execution_count": null,
   "metadata": {
    "collapsed": true
   },
   "outputs": [],
   "source": [
    "c = 'ESTU_REPROBO_OCTAVO'\n",
    "data_2010_2[c].value_counts().sort_index().index\n",
    "data_2010_2[c].value_counts().sort_index()\n",
    "missing_data(data_2010_2[c])"
   ]
  },
  {
   "cell_type": "code",
   "execution_count": null,
   "metadata": {
    "collapsed": true
   },
   "outputs": [],
   "source": [
    "c = 'ESTU_REPROBO_PRIMERO'\n",
    "data_2010_2[c].value_counts().sort_index().index\n",
    "data_2010_2[c].value_counts().sort_index()\n",
    "missing_data(data_2010_2[c])"
   ]
  },
  {
   "cell_type": "code",
   "execution_count": null,
   "metadata": {
    "collapsed": true
   },
   "outputs": [],
   "source": [
    "c = 'ESTU_REPROBO_QUINTO'\n",
    "data_2010_2[c].value_counts().sort_index().index\n",
    "data_2010_2[c].value_counts().sort_index()\n",
    "missing_data(data_2010_2[c])"
   ]
  },
  {
   "cell_type": "code",
   "execution_count": null,
   "metadata": {
    "collapsed": true
   },
   "outputs": [],
   "source": [
    "c = 'ESTU_REPROBO_SEGUNDO'\n",
    "data_2010_2[c].value_counts().sort_index().index\n",
    "data_2010_2[c].value_counts().sort_index()\n",
    "missing_data(data_2010_2[c])"
   ]
  },
  {
   "cell_type": "code",
   "execution_count": null,
   "metadata": {
    "collapsed": true
   },
   "outputs": [],
   "source": [
    "c = 'ESTU_REPROBO_SEPTIMO'\n",
    "data_2010_2[c].value_counts().sort_index().index\n",
    "data_2010_2[c].value_counts().sort_index()\n",
    "missing_data(data_2010_2[c])"
   ]
  },
  {
   "cell_type": "code",
   "execution_count": null,
   "metadata": {
    "collapsed": true
   },
   "outputs": [],
   "source": [
    "c = 'ESTU_REPROBO_SEXTO'\n",
    "data_2010_2[c].value_counts().sort_index().index\n",
    "data_2010_2[c].value_counts().sort_index()\n",
    "missing_data(data_2010_2[c])"
   ]
  },
  {
   "cell_type": "code",
   "execution_count": null,
   "metadata": {
    "collapsed": true
   },
   "outputs": [],
   "source": [
    "c = 'ESTU_REPROBO_TERCERO'\n",
    "data_2010_2[c].value_counts().sort_index().index\n",
    "data_2010_2[c].value_counts().sort_index()\n",
    "missing_data(data_2010_2[c])"
   ]
  },
  {
   "cell_type": "code",
   "execution_count": null,
   "metadata": {
    "collapsed": true
   },
   "outputs": [],
   "source": [
    "c = 'ESTU_REPROBO_ONCE_MAS'\n",
    "data_2010_2[c].value_counts().sort_index().index\n",
    "data_2010_2[c].value_counts().sort_index()\n",
    "missing_data(data_2010_2[c])"
   ]
  },
  {
   "cell_type": "code",
   "execution_count": null,
   "metadata": {
    "collapsed": true
   },
   "outputs": [],
   "source": [
    "c = 'ESTU_POR_MEJORARPOSICIONSOCIAL'\n",
    "data_2010_2[c].value_counts().sort_index().index\n",
    "data_2010_2[c].value_counts().sort_index()\n",
    "missing_data(data_2010_2[c])"
   ]
  },
  {
   "cell_type": "code",
   "execution_count": null,
   "metadata": {
    "collapsed": true
   },
   "outputs": [],
   "source": [
    "c = 'ESTU_POR_COLOMBIAAPRENDE'\n",
    "data_2010_2[c].value_counts().sort_index().index\n",
    "data_2010_2[c].value_counts().sort_index()\n",
    "missing_data(data_2010_2[c])"
   ]
  },
  {
   "cell_type": "code",
   "execution_count": null,
   "metadata": {
    "collapsed": true
   },
   "outputs": [],
   "source": [
    "c = 'ESTU_POR_INFLUENCIAALGUIEN'\n",
    "data_2010_2[c].value_counts().sort_index().index\n",
    "data_2010_2[c].value_counts().sort_index()\n",
    "missing_data(data_2010_2[c])"
   ]
  },
  {
   "cell_type": "code",
   "execution_count": null,
   "metadata": {
    "collapsed": true
   },
   "outputs": [],
   "source": [
    "c = 'ESTU_POR_INTERESPERSONAL'\n",
    "data_2010_2[c].value_counts().sort_index().index\n",
    "data_2010_2[c].value_counts().sort_index()\n",
    "missing_data(data_2010_2[c])"
   ]
  },
  {
   "cell_type": "code",
   "execution_count": null,
   "metadata": {
    "collapsed": true
   },
   "outputs": [],
   "source": [
    "c = 'ESTU_POR_BUSCANDOCARRERA'\n",
    "data_2010_2[c].value_counts().sort_index().index\n",
    "data_2010_2[c].value_counts().sort_index()\n",
    "missing_data(data_2010_2[c])"
   ]
  },
  {
   "cell_type": "code",
   "execution_count": null,
   "metadata": {
    "collapsed": true
   },
   "outputs": [],
   "source": [
    "c = 'ESTU_POR_TRADICIONFAMILIAR'\n",
    "data_2010_2[c].value_counts().sort_index().index\n",
    "data_2010_2[c].value_counts().sort_index()\n",
    "missing_data(data_2010_2[c])"
   ]
  },
  {
   "cell_type": "code",
   "execution_count": null,
   "metadata": {
    "collapsed": true
   },
   "outputs": [],
   "source": [
    "c = 'ESTU_POR_ORIENTACIONVOCACIONAL'\n",
    "data_2010_2[c].value_counts().sort_index().index\n",
    "data_2010_2[c].value_counts().sort_index()\n",
    "missing_data(data_2010_2[c])"
   ]
  },
  {
   "cell_type": "code",
   "execution_count": null,
   "metadata": {
    "collapsed": true
   },
   "outputs": [],
   "source": [
    "c = 'ESTU_RAZON_RETIRO'\n",
    "data_2010_2[c].value_counts().sort_index().index\n",
    "data_2010_2[c].value_counts().sort_index()\n",
    "missing_data(data_2010_2[c])"
   ]
  },
  {
   "cell_type": "code",
   "execution_count": null,
   "metadata": {
    "collapsed": true
   },
   "outputs": [],
   "source": [
    "c = 'ESTU_POR_AMIGOSESTUDIANDO'\n",
    "data_2010_2[c].value_counts().sort_index().index\n",
    "data_2010_2[c].value_counts().sort_index()\n",
    "missing_data(data_2010_2[c])"
   ]
  },
  {
   "cell_type": "code",
   "execution_count": null,
   "metadata": {
    "collapsed": true
   },
   "outputs": [],
   "source": [
    "c = 'ESTU_POR_COSTOMATRICULA'\n",
    "data_2010_2[c].value_counts().sort_index().index\n",
    "data_2010_2[c].value_counts().sort_index()\n",
    "missing_data(data_2010_2[c])"
   ]
  },
  {
   "cell_type": "code",
   "execution_count": null,
   "metadata": {
    "collapsed": true
   },
   "outputs": [],
   "source": [
    "c = 'ESTU_POR_OPORTUNIDADES'\n",
    "data_2010_2[c].value_counts().sort_index().index\n",
    "data_2010_2[c].value_counts().sort_index()\n",
    "missing_data(data_2010_2[c])"
   ]
  },
  {
   "cell_type": "code",
   "execution_count": null,
   "metadata": {
    "collapsed": true
   },
   "outputs": [],
   "source": [
    "c = 'ESTU_POR_OTRARAZON'\n",
    "data_2010_2[c].value_counts().sort_index().index\n",
    "data_2010_2[c].value_counts().sort_index()\n",
    "missing_data(data_2010_2[c])"
   ]
  },
  {
   "cell_type": "code",
   "execution_count": null,
   "metadata": {
    "collapsed": true
   },
   "outputs": [],
   "source": [
    "c = 'ESTU_PRESTIGIOINSTITUCION'\n",
    "data_2010_2[c].value_counts().sort_index().index\n",
    "data_2010_2[c].value_counts().sort_index()\n",
    "missing_data(data_2010_2[c])"
   ]
  },
  {
   "cell_type": "code",
   "execution_count": null,
   "metadata": {
    "collapsed": true
   },
   "outputs": [],
   "source": [
    "c = 'ESTU_POR_UBICACION'\n",
    "data_2010_2[c].value_counts().sort_index().index\n",
    "data_2010_2[c].value_counts().sort_index()\n",
    "missing_data(data_2010_2[c])"
   ]
  },
  {
   "cell_type": "code",
   "execution_count": null,
   "metadata": {
    "collapsed": true
   },
   "outputs": [],
   "source": [
    "c = 'ESTU_POR_UNICAQUEOFRECE'\n",
    "data_2010_2[c].value_counts().sort_index().index\n",
    "data_2010_2[c].value_counts().sort_index()\n",
    "missing_data(data_2010_2[c])"
   ]
  },
  {
   "cell_type": "code",
   "execution_count": null,
   "metadata": {
    "collapsed": true
   },
   "outputs": [],
   "source": [
    "c = 'ESTU_RETIRARSE_COLEGIO'\n",
    "data_2010_2[c].value_counts().sort_index().index\n",
    "data_2010_2[c].value_counts().sort_index()\n",
    "missing_data(data_2010_2[c])"
   ]
  },
  {
   "cell_type": "code",
   "execution_count": null,
   "metadata": {
    "collapsed": true
   },
   "outputs": [],
   "source": [
    "c = 'COLE_VALOR_PENSION'\n",
    "data_2010_2[c].value_counts().sort_index().index\n",
    "data_2010_2[c].value_counts().sort_index()\n",
    "missing_data(data_2010_2[c])"
   ]
  },
  {
   "cell_type": "code",
   "execution_count": null,
   "metadata": {
    "collapsed": true
   },
   "outputs": [],
   "source": [
    "c = 'ESTU_VECES_ESTADO'\n",
    "data_2010_2[c].value_counts().sort_index().index\n",
    "data_2010_2[c].value_counts().sort_index()\n",
    "missing_data(data_2010_2[c])"
   ]
  },
  {
   "cell_type": "code",
   "execution_count": null,
   "metadata": {
    "collapsed": true
   },
   "outputs": [],
   "source": [
    "c = 'ESTU_COD_MCPIO_PRESENTACION'\n",
    "data_2010_2[c].value_counts().sort_index().index\n",
    "data_2010_2[c].value_counts().sort_index()\n",
    "missing_data(data_2010_2[c])"
   ]
  },
  {
   "cell_type": "code",
   "execution_count": null,
   "metadata": {
    "collapsed": true
   },
   "outputs": [],
   "source": [
    "c = 'ESTU_MCPIO_PRESENTACION'\n",
    "data_2010_2[c].value_counts().sort_index().index\n",
    "data_2010_2[c].value_counts().sort_index()\n",
    "missing_data(data_2010_2[c])"
   ]
  },
  {
   "cell_type": "code",
   "execution_count": null,
   "metadata": {
    "collapsed": true
   },
   "outputs": [],
   "source": [
    "c = 'ESTU_DEPTO_PRESENTACION'\n",
    "data_2010_2[c].value_counts().sort_index().index\n",
    "data_2010_2[c].value_counts().sort_index()\n",
    "missing_data(data_2010_2[c])"
   ]
  },
  {
   "cell_type": "code",
   "execution_count": null,
   "metadata": {
    "collapsed": true
   },
   "outputs": [],
   "source": [
    "c = 'ESTU_EXAM_NOMBREEXAMEN'\n",
    "data_2010_2[c].value_counts().sort_index().index\n",
    "data_2010_2[c].value_counts().sort_index()\n",
    "missing_data(data_2010_2[c])"
   ]
  },
  {
   "cell_type": "code",
   "execution_count": null,
   "metadata": {
    "collapsed": true
   },
   "outputs": [],
   "source": [
    "c = 'FAMI_EDUCA_PADRE'\n",
    "data_2010_2[c].value_counts().sort_index().index\n",
    "data_2010_2[c].value_counts().sort_index()\n",
    "missing_data(data_2010_2[c])"
   ]
  },
  {
   "cell_type": "code",
   "execution_count": null,
   "metadata": {
    "collapsed": true
   },
   "outputs": [],
   "source": [
    "c = 'FAMI_EDUCA_MADRE'\n",
    "data_2010_2[c].value_counts().sort_index().index\n",
    "data_2010_2[c].value_counts().sort_index()\n",
    "missing_data(data_2010_2[c])"
   ]
  },
  {
   "cell_type": "code",
   "execution_count": null,
   "metadata": {
    "collapsed": true
   },
   "outputs": [],
   "source": [
    "c = 'FAMI_OCUPA_PADRE'\n",
    "data_2010_2[c].value_counts().sort_index().index\n",
    "data_2010_2[c].value_counts().sort_index()\n",
    "missing_data(data_2010_2[c])"
   ]
  },
  {
   "cell_type": "code",
   "execution_count": null,
   "metadata": {
    "collapsed": true
   },
   "outputs": [],
   "source": [
    "c = 'FAMI_OCUPA_MADRE'\n",
    "data_2010_2[c].value_counts().sort_index().index\n",
    "data_2010_2[c].value_counts().sort_index()\n",
    "missing_data(data_2010_2[c])"
   ]
  },
  {
   "cell_type": "code",
   "execution_count": null,
   "metadata": {
    "collapsed": true
   },
   "outputs": [],
   "source": [
    "c = 'FAMI_ESTRATO_VIVIENDA'\n",
    "data_2010_2[c].value_counts().sort_index().index\n",
    "data_2010_2[c].value_counts().sort_index()\n",
    "missing_data(data_2010_2[c])"
   ]
  },
  {
   "cell_type": "code",
   "execution_count": null,
   "metadata": {
    "collapsed": true
   },
   "outputs": [],
   "source": [
    "c = 'FAMI_NIVEL_SISBEN'\n",
    "data_2010_2[c].value_counts().sort_index().index\n",
    "data_2010_2[c].value_counts().sort_index()\n",
    "missing_data(data_2010_2[c])"
   ]
  },
  {
   "cell_type": "code",
   "execution_count": null,
   "metadata": {
    "collapsed": true
   },
   "outputs": [],
   "source": [
    "c = 'FAMI_PERSONAS_HOGAR'\n",
    "data_2010_2[c].value_counts().sort_index().index\n",
    "data_2010_2[c].value_counts().sort_index()\n",
    "missing_data(data_2010_2[c])"
   ]
  },
  {
   "cell_type": "code",
   "execution_count": null,
   "metadata": {
    "collapsed": true
   },
   "outputs": [],
   "source": [
    "c = 'FAMI_CUARTOS_HOGAR'\n",
    "data_2010_2[c].value_counts().sort_index().index\n",
    "data_2010_2[c].value_counts().sort_index()\n",
    "missing_data(data_2010_2[c])"
   ]
  },
  {
   "cell_type": "code",
   "execution_count": null,
   "metadata": {
    "collapsed": true
   },
   "outputs": [],
   "source": [
    "c = 'FAMI_PISOSHOGAR'\n",
    "data_2010_2[c].value_counts().sort_index().index\n",
    "data_2010_2[c].value_counts().sort_index()\n",
    "missing_data(data_2010_2[c])"
   ]
  },
  {
   "cell_type": "code",
   "execution_count": null,
   "metadata": {
    "collapsed": true
   },
   "outputs": [],
   "source": [
    "c = 'FAMI_TELEFONO_FIJO'\n",
    "data_2010_2[c].value_counts().sort_index().index\n",
    "data_2010_2[c].value_counts().sort_index()\n",
    "missing_data(data_2010_2[c])"
   ]
  },
  {
   "cell_type": "code",
   "execution_count": null,
   "metadata": {
    "collapsed": true
   },
   "outputs": [],
   "source": [
    "c = 'FAMI_CELULAR'\n",
    "data_2010_2[c].value_counts().sort_index().index\n",
    "data_2010_2[c].value_counts().sort_index()\n",
    "missing_data(data_2010_2[c])"
   ]
  },
  {
   "cell_type": "code",
   "execution_count": null,
   "metadata": {
    "collapsed": true
   },
   "outputs": [],
   "source": [
    "c = 'FAMI_INTERNET'\n",
    "data_2010_2[c].value_counts().sort_index().index\n",
    "data_2010_2[c].value_counts().sort_index()\n",
    "missing_data(data_2010_2[c])"
   ]
  },
  {
   "cell_type": "code",
   "execution_count": null,
   "metadata": {
    "collapsed": true
   },
   "outputs": [],
   "source": [
    "c = 'FAMI_SERVICIO_TELEVISION'\n",
    "data_2010_2[c].value_counts().sort_index().index\n",
    "data_2010_2[c].value_counts().sort_index()\n",
    "missing_data(data_2010_2[c])"
   ]
  },
  {
   "cell_type": "code",
   "execution_count": null,
   "metadata": {
    "collapsed": true
   },
   "outputs": [],
   "source": [
    "c = 'FAMI_COMPUTADOR'\n",
    "data_2010_2[c].value_counts().sort_index().index\n",
    "data_2010_2[c].value_counts().sort_index()\n",
    "missing_data(data_2010_2[c])"
   ]
  },
  {
   "cell_type": "code",
   "execution_count": null,
   "metadata": {
    "collapsed": true
   },
   "outputs": [],
   "source": [
    "c = 'FAMI_LAVADORA'\n",
    "data_2010_2[c].value_counts().sort_index().index\n",
    "data_2010_2[c].value_counts().sort_index()\n",
    "missing_data(data_2010_2[c])"
   ]
  },
  {
   "cell_type": "code",
   "execution_count": null,
   "metadata": {
    "collapsed": true
   },
   "outputs": [],
   "source": [
    "c = 'FAMI_NEVERA'\n",
    "data_2010_2[c].value_counts().sort_index().index\n",
    "data_2010_2[c].value_counts().sort_index()\n",
    "missing_data(data_2010_2[c])"
   ]
  },
  {
   "cell_type": "code",
   "execution_count": null,
   "metadata": {
    "collapsed": true
   },
   "outputs": [],
   "source": [
    "c = 'FAMI_HORNO'\n",
    "data_2010_2[c].value_counts().sort_index().index\n",
    "data_2010_2[c].value_counts().sort_index()\n",
    "missing_data(data_2010_2[c])"
   ]
  },
  {
   "cell_type": "code",
   "execution_count": null,
   "metadata": {
    "collapsed": true
   },
   "outputs": [],
   "source": [
    "c = 'FAMI_DVD'\n",
    "data_2010_2[c].value_counts().sort_index().index\n",
    "data_2010_2[c].value_counts().sort_index()\n",
    "missing_data(data_2010_2[c])"
   ]
  },
  {
   "cell_type": "code",
   "execution_count": null,
   "metadata": {
    "collapsed": true
   },
   "outputs": [],
   "source": [
    "c = 'FAMI_MICROONDAS'\n",
    "data_2010_2[c].value_counts().sort_index().index\n",
    "data_2010_2[c].value_counts().sort_index()\n",
    "missing_data(data_2010_2[c])"
   ]
  },
  {
   "cell_type": "code",
   "execution_count": null,
   "metadata": {
    "collapsed": true
   },
   "outputs": [],
   "source": [
    "c = 'FAMI_AUTOMOVIL'\n",
    "data_2010_2[c].value_counts().sort_index().index\n",
    "data_2010_2[c].value_counts().sort_index()\n",
    "missing_data(data_2010_2[c])"
   ]
  },
  {
   "cell_type": "code",
   "execution_count": null,
   "metadata": {
    "collapsed": true
   },
   "outputs": [],
   "source": [
    "c = 'FAMI_INGRESO_FMILIAR_MENSUAL'\n",
    "data_2010_2[c].value_counts().sort_index().index\n",
    "data_2010_2[c].value_counts().sort_index()\n",
    "missing_data(data_2010_2[c])"
   ]
  },
  {
   "cell_type": "code",
   "execution_count": null,
   "metadata": {
    "collapsed": true
   },
   "outputs": [],
   "source": [
    "c = 'ESTU_TRABAJA'\n",
    "data_2010_2[c].value_counts().sort_index().index\n",
    "data_2010_2[c].value_counts().sort_index()\n",
    "missing_data(data_2010_2[c])"
   ]
  },
  {
   "cell_type": "code",
   "execution_count": null,
   "metadata": {
    "collapsed": true
   },
   "outputs": [],
   "source": [
    "c = 'ESTU_HORAS_TRABAJA'\n",
    "data_2010_2[c].value_counts().sort_index().index\n",
    "data_2010_2[c].value_counts().sort_index()\n",
    "missing_data(data_2010_2[c])"
   ]
  },
  {
   "cell_type": "markdown",
   "metadata": {},
   "source": [
    "## TARGETS"
   ]
  },
  {
   "cell_type": "code",
   "execution_count": null,
   "metadata": {
    "collapsed": true
   },
   "outputs": [],
   "source": [
    "c = 'PUNT_LENGUAJE'\n",
    "data_2010_2[c].value_counts().sort_index().index\n",
    "data_2010_2[c].value_counts().sort_index()\n",
    "missing_data(data_2010_2[c])"
   ]
  },
  {
   "cell_type": "code",
   "execution_count": null,
   "metadata": {
    "collapsed": true
   },
   "outputs": [],
   "source": [
    "c = 'PUNT_MATEMATICAS'\n",
    "data_2010_2[c].value_counts().sort_index().index\n",
    "data_2010_2[c].value_counts().sort_index()\n",
    "missing_data(data_2010_2[c])"
   ]
  },
  {
   "cell_type": "code",
   "execution_count": null,
   "metadata": {
    "collapsed": true
   },
   "outputs": [],
   "source": [
    "c = 'PUNT_C_SOCIALES'\n",
    "data_2010_2[c].value_counts().sort_index().index\n",
    "data_2010_2[c].value_counts().sort_index()\n",
    "missing_data(data_2010_2[c])"
   ]
  },
  {
   "cell_type": "code",
   "execution_count": null,
   "metadata": {
    "collapsed": true
   },
   "outputs": [],
   "source": [
    "c = 'PUNT_FILOSOFIA'\n",
    "data_2010_2[c].value_counts().sort_index().index\n",
    "data_2010_2[c].value_counts().sort_index()\n",
    "missing_data(data_2010_2[c])"
   ]
  },
  {
   "cell_type": "code",
   "execution_count": null,
   "metadata": {
    "collapsed": true
   },
   "outputs": [],
   "source": [
    "c = 'PUNT_BIOLOGIA'\n",
    "data_2010_2[c].value_counts().sort_index().index\n",
    "data_2010_2[c].value_counts().sort_index()\n",
    "missing_data(data_2010_2[c])"
   ]
  },
  {
   "cell_type": "code",
   "execution_count": null,
   "metadata": {
    "collapsed": true
   },
   "outputs": [],
   "source": [
    "c = 'PUNT_QUIMICA'\n",
    "data_2010_2[c].value_counts().sort_index().index\n",
    "data_2010_2[c].value_counts().sort_index()\n",
    "missing_data(data_2010_2[c])"
   ]
  },
  {
   "cell_type": "code",
   "execution_count": null,
   "metadata": {
    "collapsed": true
   },
   "outputs": [],
   "source": [
    "c = 'PUNT_FISICA'\n",
    "data_2010_2[c].value_counts().sort_index().index\n",
    "data_2010_2[c].value_counts().sort_index()\n",
    "missing_data(data_2010_2[c])"
   ]
  },
  {
   "cell_type": "code",
   "execution_count": null,
   "metadata": {
    "collapsed": true
   },
   "outputs": [],
   "source": [
    "c = 'PUNT_INGLES'\n",
    "data_2010_2[c].value_counts().sort_index().index\n",
    "data_2010_2[c].value_counts().sort_index()\n",
    "missing_data(data_2010_2[c])"
   ]
  },
  {
   "cell_type": "code",
   "execution_count": null,
   "metadata": {
    "collapsed": true
   },
   "outputs": [],
   "source": [
    "c = 'DESEMP_INGLES'\n",
    "data_2010_2[c].value_counts().sort_index().index\n",
    "data_2010_2[c].value_counts().sort_index()\n",
    "missing_data(data_2010_2[c])"
   ]
  },
  {
   "cell_type": "code",
   "execution_count": null,
   "metadata": {
    "collapsed": true
   },
   "outputs": [],
   "source": [
    "c = 'NOMBRE_COMP_FLEXIBLE'\n",
    "data_2010_2[c].value_counts().sort_index().index\n",
    "data_2010_2[c].value_counts().sort_index()\n",
    "missing_data(data_2010_2[c])"
   ]
  },
  {
   "cell_type": "code",
   "execution_count": null,
   "metadata": {
    "collapsed": true
   },
   "outputs": [],
   "source": [
    "c = 'PUNT_COMP_FLEXIBLE'\n",
    "data_2010_2[c].value_counts().sort_index().index\n",
    "data_2010_2[c].value_counts().sort_index()\n",
    "missing_data(data_2010_2[c])"
   ]
  },
  {
   "cell_type": "code",
   "execution_count": null,
   "metadata": {
    "collapsed": true
   },
   "outputs": [],
   "source": [
    "c = 'DESEMP_COMP_FLEXIBLE'\n",
    "data_2010_2[c].value_counts().sort_index().index\n",
    "data_2010_2[c].value_counts().sort_index()\n",
    "missing_data(data_2010_2[c])"
   ]
  },
  {
   "cell_type": "code",
   "execution_count": null,
   "metadata": {
    "collapsed": true
   },
   "outputs": [],
   "source": [
    "c = 'ESTU_PUESTO'\n",
    "data_2010_2[c].value_counts().sort_index().index\n",
    "data_2010_2[c].value_counts().sort_index()\n",
    "missing_data(data_2010_2[c])"
   ]
  },
  {
   "cell_type": "code",
   "execution_count": 5,
   "metadata": {
    "collapsed": true
   },
   "outputs": [
    {
     "name": "stdout",
     "output_type": "stream",
     "text": [
      "c = 'ESTU_CONSECUTIVO'\n",
      "c = 'PERIODO'\n",
      "c = 'ESTU_TIPO_DOCUMENTO'\n",
      "c = 'ESTU_PAIS_RESIDE'\n",
      "c = 'ESTU_GENERO'\n",
      "c = 'ESTU_NACIMIENTO_DIA'\n",
      "c = 'ESTU_NACIMIENTO_MES'\n",
      "c = 'ESTU_NACIMIENTO_ANNO'\n",
      "c = 'ESTU_EDAD'\n",
      "c = 'ESTU_LIMITA_BAJAVISION'\n",
      "c = 'ESTU_LIMITA_SORDOCEGUERA'\n",
      "c = 'ESTU_LIMITA_COGNITIVA'\n",
      "c = 'ESTU_LIMITA_INVIDENTE'\n",
      "c = 'ESTU_LIMITA_MOTRIZ'\n",
      "c = 'ESTU_LIMITA_SORDOINTERPRETE'\n",
      "c = 'ESTU_LIMITA_SORDONOINTERPRETE'\n",
      "c = 'ESTU_ETNIA'\n",
      "c = 'ESTU_COD_RESIDE_MCPIO'\n",
      "c = 'ESTU_RESIDE_MCPIO'\n",
      "c = 'ESTU_RESIDE_DEPTO'\n",
      "c = 'ESTU_ZONA_RESIDE'\n",
      "c = 'ESTU_AREA_RESIDE'\n",
      "c = 'IND_COD_ICFES_TERMINO'\n",
      "c = 'COLE_COD_ICFES'\n",
      "c = 'COLE_COD_DANE_INSTITUCION'\n",
      "c = 'COLE_NOMBRE_SEDE'\n",
      "c = 'COLE_CALENDARIO'\n",
      "c = 'COLE_GENERO'\n",
      "c = 'COLE_NATURALEZA'\n",
      "c = 'COLE_BILINGUE'\n",
      "c = 'COLE_JORNADA'\n",
      "c = 'COLE_CARACTER'\n",
      "c = 'ESTU_CARRDESEADA_TIPO'\n",
      "c = 'ESTU_IES_COD_DESEADA'\n",
      "c = 'ESTU_IES_COD_MPIO_DESEADA'\n",
      "c = 'ESTU_IES_DEPT_DESEADA'\n",
      "c = 'ESTU_IES_DESEADA_NOMBRE'\n",
      "c = 'ESTU_IES_MPIO_DESEADA'\n",
      "c = 'ESTU_TOTAL_ALUMNOS_CURSO'\n",
      "c = 'ESTU_ANO_MATRICULA_PRIMERO'\n",
      "c = 'ESTU_ANO_TERMINO_QUINTO'\n",
      "c = 'ESTU_ANOS_COLEGIO_ACTUAL'\n",
      "c = 'ESTU_ANO_MATRICULA_SEXTO'\n",
      "c = 'ESTU_ANOS_PREESCOLAR'\n",
      "c = 'ESTU_CUANTOS_COLE_ESTUDIO'\n",
      "c = 'ESTU_REPROBO_CUARTO'\n",
      "c = 'ESTU_REPROBO_DECIMO'\n",
      "c = 'ESTU_REPROBO_NOVENO'\n",
      "c = 'ESTU_REPROBO_OCTAVO'\n",
      "c = 'ESTU_REPROBO_PRIMERO'\n",
      "c = 'ESTU_REPROBO_QUINTO'\n",
      "c = 'ESTU_REPROBO_SEGUNDO'\n",
      "c = 'ESTU_REPROBO_SEPTIMO'\n",
      "c = 'ESTU_REPROBO_SEXTO'\n",
      "c = 'ESTU_REPROBO_TERCERO'\n",
      "c = 'ESTU_REPROBO_ONCE_MAS'\n",
      "c = 'ESTU_POR_MEJORARPOSICIONSOCIAL'\n",
      "c = 'ESTU_POR_COLOMBIAAPRENDE'\n",
      "c = 'ESTU_POR_INFLUENCIAALGUIEN'\n",
      "c = 'ESTU_POR_INTERESPERSONAL'\n",
      "c = 'ESTU_POR_BUSCANDOCARRERA'\n",
      "c = 'ESTU_POR_TRADICIONFAMILIAR'\n",
      "c = 'ESTU_POR_ORIENTACIONVOCACIONAL'\n",
      "c = 'ESTU_RAZON_RETIRO'\n",
      "c = 'ESTU_POR_AMIGOSESTUDIANDO'\n",
      "c = 'ESTU_POR_COSTOMATRICULA'\n",
      "c = 'ESTU_POR_OPORTUNIDADES'\n",
      "c = 'ESTU_POR_OTRARAZON'\n",
      "c = 'ESTU_PRESTIGIOINSTITUCION'\n",
      "c = 'ESTU_POR_UBICACION'\n",
      "c = 'ESTU_POR_UNICAQUEOFRECE'\n",
      "c = 'ESTU_RETIRARSE_COLEGIO'\n",
      "c = 'COLE_VALOR_PENSION'\n",
      "c = 'ESTU_VECES_ESTADO'\n",
      "c = 'ESTU_COD_MCPIO_PRESENTACION'\n",
      "c = 'ESTU_MCPIO_PRESENTACION'\n",
      "c = 'ESTU_DEPTO_PRESENTACION'\n",
      "c = 'ESTU_EXAM_NOMBREEXAMEN'\n",
      "c = 'FAMI_EDUCA_PADRE'\n",
      "c = 'FAMI_EDUCA_MADRE'\n",
      "c = 'FAMI_OCUPA_PADRE'\n",
      "c = 'FAMI_OCUPA_MADRE'\n",
      "c = 'FAMI_ESTRATO_VIVIENDA'\n",
      "c = 'FAMI_NIVEL_SISBEN'\n",
      "c = 'FAMI_PERSONAS_HOGAR'\n",
      "c = 'FAMI_CUARTOS_HOGAR'\n",
      "c = 'FAMI_PISOSHOGAR'\n",
      "c = 'FAMI_TELEFONO_FIJO'\n",
      "c = 'FAMI_CELULAR'\n",
      "c = 'FAMI_INTERNET'\n",
      "c = 'FAMI_SERVICIO_TELEVISION'\n",
      "c = 'FAMI_COMPUTADOR'\n",
      "c = 'FAMI_LAVADORA'\n",
      "c = 'FAMI_NEVERA'\n",
      "c = 'FAMI_HORNO'\n",
      "c = 'FAMI_DVD'\n",
      "c = 'FAMI_MICROONDAS'\n",
      "c = 'FAMI_AUTOMOVIL'\n",
      "c = 'FAMI_INGRESO_FMILIAR_MENSUAL'\n",
      "c = 'ESTU_TRABAJA'\n",
      "c = 'ESTU_HORAS_TRABAJA'\n",
      "c = 'PUNT_LENGUAJE'\n",
      "c = 'PUNT_MATEMATICAS'\n",
      "c = 'PUNT_C_SOCIALES'\n",
      "c = 'PUNT_FILOSOFIA'\n",
      "c = 'PUNT_BIOLOGIA'\n",
      "c = 'PUNT_QUIMICA'\n",
      "c = 'PUNT_FISICA'\n",
      "c = 'PUNT_INGLES'\n",
      "c = 'DESEMP_INGLES'\n",
      "c = 'NOMBRE_COMP_FLEXIBLE'\n",
      "c = 'PUNT_COMP_FLEXIBLE'\n",
      "c = 'DESEMP_COMP_FLEXIBLE'\n",
      "c = 'ESTU_PUESTO'\n"
     ]
    }
   ],
   "source": [
    "for i in data_2010_2.columns:\n",
    "    print(\"c = '\"+i+\"'\")"
   ]
  },
  {
   "cell_type": "code",
   "execution_count": null,
   "metadata": {
    "collapsed": true
   },
   "outputs": [],
   "source": [
    "data_2010_2[c].value_counts().sort_index().index\n",
    "data_2010_2[c].value_counts().sort_index()\n",
    "missing_data(data_2010_2[c])"
   ]
  }
 ],
 "metadata": {
  "kernelspec": {
   "display_name": "Python 3",
   "language": "python",
   "name": "python3"
  },
  "language_info": {
   "codemirror_mode": {
    "name": "ipython",
    "version": 3
   },
   "file_extension": ".py",
   "mimetype": "text/x-python",
   "name": "python",
   "nbconvert_exporter": "python",
   "pygments_lexer": "ipython3",
   "version": "3.4.2"
  }
 },
 "nbformat": 4,
 "nbformat_minor": 0
}
