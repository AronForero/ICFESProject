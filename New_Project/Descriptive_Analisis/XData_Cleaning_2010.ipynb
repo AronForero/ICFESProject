{
 "cells": [
  {
   "cell_type": "code",
   "execution_count": 1,
   "metadata": {
    "collapsed": true
   },
   "outputs": [],
   "source": [
    "import pandas as pd\n",
    "import numpy as np\n",
    "%run -i ../tools/functions.py\n",
    "%run -i ../tools/label_encoder.py"
   ]
  },
  {
   "cell_type": "code",
   "execution_count": 2,
   "metadata": {
    "collapsed": true
   },
   "outputs": [],
   "source": [
    "data_2010 = pd.read_csv('../DatosFTPICFES/SABER11/SB11-BASES_DE_DATOS/SB11-20101-RGSTRO-CLFCCN-V1-0.txt', delimiter='|')"
   ]
  },
  {
   "cell_type": "code",
   "execution_count": 3,
   "metadata": {
    "collapsed": false
   },
   "outputs": [
    {
     "data": {
      "text/plain": [
       "(30321, 79)"
      ]
     },
     "execution_count": 3,
     "metadata": {},
     "output_type": "execute_result"
    }
   ],
   "source": [
    "data_2010.shape"
   ]
  },
  {
   "cell_type": "code",
   "execution_count": 4,
   "metadata": {
    "collapsed": false,
    "scrolled": true
   },
   "outputs": [
    {
     "data": {
      "text/html": [
       "<div>\n",
       "<table border=\"1\" class=\"dataframe\">\n",
       "  <thead>\n",
       "    <tr style=\"text-align: right;\">\n",
       "      <th></th>\n",
       "      <th>0</th>\n",
       "      <th>1</th>\n",
       "      <th>2</th>\n",
       "    </tr>\n",
       "  </thead>\n",
       "  <tbody>\n",
       "    <tr>\n",
       "      <th>ESTU_CONSECUTIVO</th>\n",
       "      <td>SB11201010000001</td>\n",
       "      <td>SB11201010000002</td>\n",
       "      <td>SB11201010000003</td>\n",
       "    </tr>\n",
       "    <tr>\n",
       "      <th>PERIODO</th>\n",
       "      <td>20101</td>\n",
       "      <td>20101</td>\n",
       "      <td>20101</td>\n",
       "    </tr>\n",
       "    <tr>\n",
       "      <th>ESTU_TIPO_DOCUMENTO</th>\n",
       "      <td>C</td>\n",
       "      <td>C</td>\n",
       "      <td>C</td>\n",
       "    </tr>\n",
       "    <tr>\n",
       "      <th>ESTU_PAIS_RESIDE</th>\n",
       "      <td>CO</td>\n",
       "      <td>CO</td>\n",
       "      <td>CO</td>\n",
       "    </tr>\n",
       "    <tr>\n",
       "      <th>ESTU_GENERO</th>\n",
       "      <td>F</td>\n",
       "      <td>M</td>\n",
       "      <td>M</td>\n",
       "    </tr>\n",
       "    <tr>\n",
       "      <th>ESTU_NACIMIENTO_DIA</th>\n",
       "      <td>24</td>\n",
       "      <td>5</td>\n",
       "      <td>3</td>\n",
       "    </tr>\n",
       "    <tr>\n",
       "      <th>ESTU_NACIMIENTO_MES</th>\n",
       "      <td>11</td>\n",
       "      <td>3</td>\n",
       "      <td>7</td>\n",
       "    </tr>\n",
       "    <tr>\n",
       "      <th>ESTU_NACIMIENTO_ANNO</th>\n",
       "      <td>1983</td>\n",
       "      <td>1988</td>\n",
       "      <td>1987</td>\n",
       "    </tr>\n",
       "    <tr>\n",
       "      <th>ESTU_EDAD</th>\n",
       "      <td>26</td>\n",
       "      <td>22</td>\n",
       "      <td>22</td>\n",
       "    </tr>\n",
       "    <tr>\n",
       "      <th>ESTU_LIMITA_BAJAVISION</th>\n",
       "      <td>NaN</td>\n",
       "      <td>NaN</td>\n",
       "      <td>NaN</td>\n",
       "    </tr>\n",
       "    <tr>\n",
       "      <th>ESTU_LIMITA_SORDOCEGUERA</th>\n",
       "      <td>NaN</td>\n",
       "      <td>NaN</td>\n",
       "      <td>NaN</td>\n",
       "    </tr>\n",
       "    <tr>\n",
       "      <th>ESTU_LIMITA_COGNITIVA</th>\n",
       "      <td>NaN</td>\n",
       "      <td>NaN</td>\n",
       "      <td>NaN</td>\n",
       "    </tr>\n",
       "    <tr>\n",
       "      <th>ESTU_LIMITA_INVIDENTE</th>\n",
       "      <td>NaN</td>\n",
       "      <td>NaN</td>\n",
       "      <td>NaN</td>\n",
       "    </tr>\n",
       "    <tr>\n",
       "      <th>ESTU_LIMITA_MOTRIZ</th>\n",
       "      <td>NaN</td>\n",
       "      <td>NaN</td>\n",
       "      <td>NaN</td>\n",
       "    </tr>\n",
       "    <tr>\n",
       "      <th>ESTU_LIMITA_SORDOINTERPRETE</th>\n",
       "      <td>NaN</td>\n",
       "      <td>NaN</td>\n",
       "      <td>NaN</td>\n",
       "    </tr>\n",
       "    <tr>\n",
       "      <th>ESTU_LIMITA_SORDONOINTERPRETE</th>\n",
       "      <td>NaN</td>\n",
       "      <td>NaN</td>\n",
       "      <td>NaN</td>\n",
       "    </tr>\n",
       "    <tr>\n",
       "      <th>ESTU_ETNIA</th>\n",
       "      <td>NaN</td>\n",
       "      <td>NaN</td>\n",
       "      <td>NaN</td>\n",
       "    </tr>\n",
       "    <tr>\n",
       "      <th>ESTU_COD_RESIDE_MCPIO</th>\n",
       "      <td>11001</td>\n",
       "      <td>95001</td>\n",
       "      <td>11001</td>\n",
       "    </tr>\n",
       "    <tr>\n",
       "      <th>ESTU_RESIDE_MCPIO</th>\n",
       "      <td>BOGOTÁ D.C.</td>\n",
       "      <td>SAN JOSE DEL GUAVIARE</td>\n",
       "      <td>BOGOTÁ D.C.</td>\n",
       "    </tr>\n",
       "    <tr>\n",
       "      <th>ESTU_RESIDE_DEPTO</th>\n",
       "      <td>BOGOTÁ</td>\n",
       "      <td>GUAVIARE</td>\n",
       "      <td>BOGOTÁ</td>\n",
       "    </tr>\n",
       "    <tr>\n",
       "      <th>ESTU_ZONA_RESIDE</th>\n",
       "      <td>8</td>\n",
       "      <td>10</td>\n",
       "      <td>10</td>\n",
       "    </tr>\n",
       "    <tr>\n",
       "      <th>ESTU_AREA_RESIDE</th>\n",
       "      <td>1</td>\n",
       "      <td>1</td>\n",
       "      <td>1</td>\n",
       "    </tr>\n",
       "    <tr>\n",
       "      <th>FAMI_EDUCA_PADRE</th>\n",
       "      <td>16</td>\n",
       "      <td>99</td>\n",
       "      <td>13</td>\n",
       "    </tr>\n",
       "    <tr>\n",
       "      <th>FAMI_EDUCA_MADRE</th>\n",
       "      <td>15</td>\n",
       "      <td>99</td>\n",
       "      <td>13</td>\n",
       "    </tr>\n",
       "    <tr>\n",
       "      <th>FAMI_OCUPA_PADRE</th>\n",
       "      <td>17</td>\n",
       "      <td>21</td>\n",
       "      <td>13</td>\n",
       "    </tr>\n",
       "    <tr>\n",
       "      <th>FAMI_OCUPA_MADRE</th>\n",
       "      <td>22</td>\n",
       "      <td>22</td>\n",
       "      <td>20</td>\n",
       "    </tr>\n",
       "    <tr>\n",
       "      <th>FAMI_ESTRATO_VIVIENDA</th>\n",
       "      <td>3</td>\n",
       "      <td>1</td>\n",
       "      <td>NaN</td>\n",
       "    </tr>\n",
       "    <tr>\n",
       "      <th>FAMI_NIVEL_SISBEN</th>\n",
       "      <td>5</td>\n",
       "      <td>1</td>\n",
       "      <td>3</td>\n",
       "    </tr>\n",
       "    <tr>\n",
       "      <th>FAMI_PERSONAS_HOGAR</th>\n",
       "      <td>3</td>\n",
       "      <td>3</td>\n",
       "      <td>4</td>\n",
       "    </tr>\n",
       "    <tr>\n",
       "      <th>FAMI_CUARTOS_HOGAR</th>\n",
       "      <td>3</td>\n",
       "      <td>1</td>\n",
       "      <td>2</td>\n",
       "    </tr>\n",
       "    <tr>\n",
       "      <th>...</th>\n",
       "      <td>...</td>\n",
       "      <td>...</td>\n",
       "      <td>...</td>\n",
       "    </tr>\n",
       "    <tr>\n",
       "      <th>IND_COD_ICFES_TERMINO</th>\n",
       "      <td>20974</td>\n",
       "      <td>146415</td>\n",
       "      <td>9110</td>\n",
       "    </tr>\n",
       "    <tr>\n",
       "      <th>COLE_COD_ICFES</th>\n",
       "      <td>20974</td>\n",
       "      <td>146415</td>\n",
       "      <td>85340</td>\n",
       "    </tr>\n",
       "    <tr>\n",
       "      <th>COLE_COD_DANE_INSTITUCION</th>\n",
       "      <td>111001009971</td>\n",
       "      <td>341078000785</td>\n",
       "      <td></td>\n",
       "    </tr>\n",
       "    <tr>\n",
       "      <th>COLE_NOMBRE_SEDE</th>\n",
       "      <td>COL DIST REP DE COLOMBIA</td>\n",
       "      <td>INSTITUTO DE EXCELENCIA HUMANA Y ACADÉMICA  ID...</td>\n",
       "      <td>COLEGIO INSCAP</td>\n",
       "    </tr>\n",
       "    <tr>\n",
       "      <th>COLE_CALENDARIO</th>\n",
       "      <td>F</td>\n",
       "      <td>F</td>\n",
       "      <td>F</td>\n",
       "    </tr>\n",
       "    <tr>\n",
       "      <th>COLE_GENERO</th>\n",
       "      <td>X</td>\n",
       "      <td>X</td>\n",
       "      <td>X</td>\n",
       "    </tr>\n",
       "    <tr>\n",
       "      <th>COLE_NATURALEZA</th>\n",
       "      <td>O</td>\n",
       "      <td>N</td>\n",
       "      <td>N</td>\n",
       "    </tr>\n",
       "    <tr>\n",
       "      <th>COLE_BILINGUE</th>\n",
       "      <td>0</td>\n",
       "      <td>NaN</td>\n",
       "      <td>0</td>\n",
       "    </tr>\n",
       "    <tr>\n",
       "      <th>COLE_JORNADA</th>\n",
       "      <td>NOCHE</td>\n",
       "      <td>SABATINA - DOMINICAL</td>\n",
       "      <td>NOCHE</td>\n",
       "    </tr>\n",
       "    <tr>\n",
       "      <th>COLE_CARACTER</th>\n",
       "      <td>ACADEMICO</td>\n",
       "      <td>ACADEMICO</td>\n",
       "      <td>ACADEMICO Y TECNICO</td>\n",
       "    </tr>\n",
       "    <tr>\n",
       "      <th>ESTU_VECES_ESTADO</th>\n",
       "      <td>0</td>\n",
       "      <td>0</td>\n",
       "      <td>0</td>\n",
       "    </tr>\n",
       "    <tr>\n",
       "      <th>ESTU_COD_MCPIO_PRESENTACION</th>\n",
       "      <td>11001</td>\n",
       "      <td>95001</td>\n",
       "      <td>11001</td>\n",
       "    </tr>\n",
       "    <tr>\n",
       "      <th>ESTU_MCPIO_PRESENTACION</th>\n",
       "      <td>BOGOTÁ D.C.</td>\n",
       "      <td>SAN JOSE DEL GUAVIARE</td>\n",
       "      <td>BOGOTÁ D.C.</td>\n",
       "    </tr>\n",
       "    <tr>\n",
       "      <th>ESTU_DEPTO_PRESENTACION</th>\n",
       "      <td>BOGOTÁ</td>\n",
       "      <td>GUAVIARE</td>\n",
       "      <td>BOGOTÁ</td>\n",
       "    </tr>\n",
       "    <tr>\n",
       "      <th>ESTU_EXAM_NOMBREEXAMEN</th>\n",
       "      <td>EXAMEN DE ESTADO (ICFES)</td>\n",
       "      <td>EXAMEN DE ESTADO (ICFES)</td>\n",
       "      <td>EXAMEN DE ESTADO (ICFES)</td>\n",
       "    </tr>\n",
       "    <tr>\n",
       "      <th>PUNT_LENGUAJE</th>\n",
       "      <td>48,81</td>\n",
       "      <td>56,74</td>\n",
       "      <td>46,68</td>\n",
       "    </tr>\n",
       "    <tr>\n",
       "      <th>PUNT_MATEMATICAS</th>\n",
       "      <td>43,99</td>\n",
       "      <td>46,77</td>\n",
       "      <td>40,78</td>\n",
       "    </tr>\n",
       "    <tr>\n",
       "      <th>PUNT_C_SOCIALES</th>\n",
       "      <td>41,9</td>\n",
       "      <td>46,27</td>\n",
       "      <td>41,9</td>\n",
       "    </tr>\n",
       "    <tr>\n",
       "      <th>PUNT_FILOSOFIA</th>\n",
       "      <td>29,03</td>\n",
       "      <td>45,93</td>\n",
       "      <td>45,93</td>\n",
       "    </tr>\n",
       "    <tr>\n",
       "      <th>PUNT_BIOLOGIA</th>\n",
       "      <td>34,33</td>\n",
       "      <td>55,46</td>\n",
       "      <td>43,61</td>\n",
       "    </tr>\n",
       "    <tr>\n",
       "      <th>PUNT_QUIMICA</th>\n",
       "      <td>37,51</td>\n",
       "      <td>41,72</td>\n",
       "      <td>45,33</td>\n",
       "    </tr>\n",
       "    <tr>\n",
       "      <th>PUNT_FISICA</th>\n",
       "      <td>32,27</td>\n",
       "      <td>36,7</td>\n",
       "      <td>40,06</td>\n",
       "    </tr>\n",
       "    <tr>\n",
       "      <th>PUNT_INGLES</th>\n",
       "      <td>28,64</td>\n",
       "      <td>47,79</td>\n",
       "      <td>35,25</td>\n",
       "    </tr>\n",
       "    <tr>\n",
       "      <th>DESEMP_INGLES</th>\n",
       "      <td>A-</td>\n",
       "      <td>A1</td>\n",
       "      <td>A-</td>\n",
       "    </tr>\n",
       "    <tr>\n",
       "      <th>NOMBRE_PROFUNDIZACION</th>\n",
       "      <td>PROFUNDIZACIÓN EN LENGUAJE</td>\n",
       "      <td>PROFUNDIZACIÓN EN LENGUAJE</td>\n",
       "      <td>PROFUNDIZACIÓN EN CIENCIAS SOCIALES</td>\n",
       "    </tr>\n",
       "    <tr>\n",
       "      <th>PUNT_PROFUNDIZACION</th>\n",
       "      <td>3,2</td>\n",
       "      <td>4,2</td>\n",
       "      <td>5,4</td>\n",
       "    </tr>\n",
       "    <tr>\n",
       "      <th>DESEMP_PROFUNDIZACION</th>\n",
       "      <td>GB</td>\n",
       "      <td>GB</td>\n",
       "      <td>I</td>\n",
       "    </tr>\n",
       "    <tr>\n",
       "      <th>NOMBRE_INTERDISCIPLINAR</th>\n",
       "      <td>MEDIO AMBIENTE</td>\n",
       "      <td>VIOLENCIA Y SOCIEDAD</td>\n",
       "      <td>VIOLENCIA Y SOCIEDAD</td>\n",
       "    </tr>\n",
       "    <tr>\n",
       "      <th>PUNT_INTERDISCIPLINAR</th>\n",
       "      <td>50,78</td>\n",
       "      <td>47,71</td>\n",
       "      <td>35,93</td>\n",
       "    </tr>\n",
       "    <tr>\n",
       "      <th>ESTU_PUESTO</th>\n",
       "      <td>872</td>\n",
       "      <td>413</td>\n",
       "      <td>666</td>\n",
       "    </tr>\n",
       "  </tbody>\n",
       "</table>\n",
       "<p>79 rows × 3 columns</p>\n",
       "</div>"
      ],
      "text/plain": [
       "                                                        0  \\\n",
       "ESTU_CONSECUTIVO                         SB11201010000001   \n",
       "PERIODO                                             20101   \n",
       "ESTU_TIPO_DOCUMENTO                                     C   \n",
       "ESTU_PAIS_RESIDE                                       CO   \n",
       "ESTU_GENERO                                             F   \n",
       "ESTU_NACIMIENTO_DIA                                    24   \n",
       "ESTU_NACIMIENTO_MES                                    11   \n",
       "ESTU_NACIMIENTO_ANNO                                 1983   \n",
       "ESTU_EDAD                                              26   \n",
       "ESTU_LIMITA_BAJAVISION                                NaN   \n",
       "ESTU_LIMITA_SORDOCEGUERA                              NaN   \n",
       "ESTU_LIMITA_COGNITIVA                                 NaN   \n",
       "ESTU_LIMITA_INVIDENTE                                 NaN   \n",
       "ESTU_LIMITA_MOTRIZ                                    NaN   \n",
       "ESTU_LIMITA_SORDOINTERPRETE                           NaN   \n",
       "ESTU_LIMITA_SORDONOINTERPRETE                         NaN   \n",
       "ESTU_ETNIA                                            NaN   \n",
       "ESTU_COD_RESIDE_MCPIO                               11001   \n",
       "ESTU_RESIDE_MCPIO                             BOGOTÁ D.C.   \n",
       "ESTU_RESIDE_DEPTO                                  BOGOTÁ   \n",
       "ESTU_ZONA_RESIDE                                        8   \n",
       "ESTU_AREA_RESIDE                                        1   \n",
       "FAMI_EDUCA_PADRE                                       16   \n",
       "FAMI_EDUCA_MADRE                                       15   \n",
       "FAMI_OCUPA_PADRE                                       17   \n",
       "FAMI_OCUPA_MADRE                                       22   \n",
       "FAMI_ESTRATO_VIVIENDA                                   3   \n",
       "FAMI_NIVEL_SISBEN                                       5   \n",
       "FAMI_PERSONAS_HOGAR                                     3   \n",
       "FAMI_CUARTOS_HOGAR                                      3   \n",
       "...                                                   ...   \n",
       "IND_COD_ICFES_TERMINO                               20974   \n",
       "COLE_COD_ICFES                                      20974   \n",
       "COLE_COD_DANE_INSTITUCION                    111001009971   \n",
       "COLE_NOMBRE_SEDE                 COL DIST REP DE COLOMBIA   \n",
       "COLE_CALENDARIO                                         F   \n",
       "COLE_GENERO                                             X   \n",
       "COLE_NATURALEZA                                         O   \n",
       "COLE_BILINGUE                                           0   \n",
       "COLE_JORNADA                                        NOCHE   \n",
       "COLE_CARACTER                                   ACADEMICO   \n",
       "ESTU_VECES_ESTADO                                       0   \n",
       "ESTU_COD_MCPIO_PRESENTACION                         11001   \n",
       "ESTU_MCPIO_PRESENTACION                       BOGOTÁ D.C.   \n",
       "ESTU_DEPTO_PRESENTACION                            BOGOTÁ   \n",
       "ESTU_EXAM_NOMBREEXAMEN           EXAMEN DE ESTADO (ICFES)   \n",
       "PUNT_LENGUAJE                                       48,81   \n",
       "PUNT_MATEMATICAS                                    43,99   \n",
       "PUNT_C_SOCIALES                                      41,9   \n",
       "PUNT_FILOSOFIA                                      29,03   \n",
       "PUNT_BIOLOGIA                                       34,33   \n",
       "PUNT_QUIMICA                                        37,51   \n",
       "PUNT_FISICA                                         32,27   \n",
       "PUNT_INGLES                                         28,64   \n",
       "DESEMP_INGLES                                          A-   \n",
       "NOMBRE_PROFUNDIZACION          PROFUNDIZACIÓN EN LENGUAJE   \n",
       "PUNT_PROFUNDIZACION                                   3,2   \n",
       "DESEMP_PROFUNDIZACION                                  GB   \n",
       "NOMBRE_INTERDISCIPLINAR                    MEDIO AMBIENTE   \n",
       "PUNT_INTERDISCIPLINAR                               50,78   \n",
       "ESTU_PUESTO                                           872   \n",
       "\n",
       "                                                                               1  \\\n",
       "ESTU_CONSECUTIVO                                                SB11201010000002   \n",
       "PERIODO                                                                    20101   \n",
       "ESTU_TIPO_DOCUMENTO                                                            C   \n",
       "ESTU_PAIS_RESIDE                                                              CO   \n",
       "ESTU_GENERO                                                                    M   \n",
       "ESTU_NACIMIENTO_DIA                                                            5   \n",
       "ESTU_NACIMIENTO_MES                                                            3   \n",
       "ESTU_NACIMIENTO_ANNO                                                        1988   \n",
       "ESTU_EDAD                                                                     22   \n",
       "ESTU_LIMITA_BAJAVISION                                                       NaN   \n",
       "ESTU_LIMITA_SORDOCEGUERA                                                     NaN   \n",
       "ESTU_LIMITA_COGNITIVA                                                        NaN   \n",
       "ESTU_LIMITA_INVIDENTE                                                        NaN   \n",
       "ESTU_LIMITA_MOTRIZ                                                           NaN   \n",
       "ESTU_LIMITA_SORDOINTERPRETE                                                  NaN   \n",
       "ESTU_LIMITA_SORDONOINTERPRETE                                                NaN   \n",
       "ESTU_ETNIA                                                                   NaN   \n",
       "ESTU_COD_RESIDE_MCPIO                                                      95001   \n",
       "ESTU_RESIDE_MCPIO                                          SAN JOSE DEL GUAVIARE   \n",
       "ESTU_RESIDE_DEPTO                                                       GUAVIARE   \n",
       "ESTU_ZONA_RESIDE                                                              10   \n",
       "ESTU_AREA_RESIDE                                                               1   \n",
       "FAMI_EDUCA_PADRE                                                              99   \n",
       "FAMI_EDUCA_MADRE                                                              99   \n",
       "FAMI_OCUPA_PADRE                                                              21   \n",
       "FAMI_OCUPA_MADRE                                                              22   \n",
       "FAMI_ESTRATO_VIVIENDA                                                          1   \n",
       "FAMI_NIVEL_SISBEN                                                              1   \n",
       "FAMI_PERSONAS_HOGAR                                                            3   \n",
       "FAMI_CUARTOS_HOGAR                                                             1   \n",
       "...                                                                          ...   \n",
       "IND_COD_ICFES_TERMINO                                                     146415   \n",
       "COLE_COD_ICFES                                                            146415   \n",
       "COLE_COD_DANE_INSTITUCION                                           341078000785   \n",
       "COLE_NOMBRE_SEDE               INSTITUTO DE EXCELENCIA HUMANA Y ACADÉMICA  ID...   \n",
       "COLE_CALENDARIO                                                                F   \n",
       "COLE_GENERO                                                                    X   \n",
       "COLE_NATURALEZA                                                                N   \n",
       "COLE_BILINGUE                                                                NaN   \n",
       "COLE_JORNADA                                                SABATINA - DOMINICAL   \n",
       "COLE_CARACTER                                                          ACADEMICO   \n",
       "ESTU_VECES_ESTADO                                                              0   \n",
       "ESTU_COD_MCPIO_PRESENTACION                                                95001   \n",
       "ESTU_MCPIO_PRESENTACION                                    SAN JOSE DEL GUAVIARE   \n",
       "ESTU_DEPTO_PRESENTACION                                                 GUAVIARE   \n",
       "ESTU_EXAM_NOMBREEXAMEN                                  EXAMEN DE ESTADO (ICFES)   \n",
       "PUNT_LENGUAJE                                                              56,74   \n",
       "PUNT_MATEMATICAS                                                           46,77   \n",
       "PUNT_C_SOCIALES                                                            46,27   \n",
       "PUNT_FILOSOFIA                                                             45,93   \n",
       "PUNT_BIOLOGIA                                                              55,46   \n",
       "PUNT_QUIMICA                                                               41,72   \n",
       "PUNT_FISICA                                                                 36,7   \n",
       "PUNT_INGLES                                                                47,79   \n",
       "DESEMP_INGLES                                                                 A1   \n",
       "NOMBRE_PROFUNDIZACION                                 PROFUNDIZACIÓN EN LENGUAJE   \n",
       "PUNT_PROFUNDIZACION                                                          4,2   \n",
       "DESEMP_PROFUNDIZACION                                                         GB   \n",
       "NOMBRE_INTERDISCIPLINAR                                     VIOLENCIA Y SOCIEDAD   \n",
       "PUNT_INTERDISCIPLINAR                                                      47,71   \n",
       "ESTU_PUESTO                                                                  413   \n",
       "\n",
       "                                                                 2  \n",
       "ESTU_CONSECUTIVO                                  SB11201010000003  \n",
       "PERIODO                                                      20101  \n",
       "ESTU_TIPO_DOCUMENTO                                              C  \n",
       "ESTU_PAIS_RESIDE                                                CO  \n",
       "ESTU_GENERO                                                      M  \n",
       "ESTU_NACIMIENTO_DIA                                              3  \n",
       "ESTU_NACIMIENTO_MES                                              7  \n",
       "ESTU_NACIMIENTO_ANNO                                          1987  \n",
       "ESTU_EDAD                                                       22  \n",
       "ESTU_LIMITA_BAJAVISION                                         NaN  \n",
       "ESTU_LIMITA_SORDOCEGUERA                                       NaN  \n",
       "ESTU_LIMITA_COGNITIVA                                          NaN  \n",
       "ESTU_LIMITA_INVIDENTE                                          NaN  \n",
       "ESTU_LIMITA_MOTRIZ                                             NaN  \n",
       "ESTU_LIMITA_SORDOINTERPRETE                                    NaN  \n",
       "ESTU_LIMITA_SORDONOINTERPRETE                                  NaN  \n",
       "ESTU_ETNIA                                                     NaN  \n",
       "ESTU_COD_RESIDE_MCPIO                                        11001  \n",
       "ESTU_RESIDE_MCPIO                                      BOGOTÁ D.C.  \n",
       "ESTU_RESIDE_DEPTO                                           BOGOTÁ  \n",
       "ESTU_ZONA_RESIDE                                                10  \n",
       "ESTU_AREA_RESIDE                                                 1  \n",
       "FAMI_EDUCA_PADRE                                                13  \n",
       "FAMI_EDUCA_MADRE                                                13  \n",
       "FAMI_OCUPA_PADRE                                                13  \n",
       "FAMI_OCUPA_MADRE                                                20  \n",
       "FAMI_ESTRATO_VIVIENDA                                          NaN  \n",
       "FAMI_NIVEL_SISBEN                                                3  \n",
       "FAMI_PERSONAS_HOGAR                                              4  \n",
       "FAMI_CUARTOS_HOGAR                                               2  \n",
       "...                                                            ...  \n",
       "IND_COD_ICFES_TERMINO                                         9110  \n",
       "COLE_COD_ICFES                                               85340  \n",
       "COLE_COD_DANE_INSTITUCION                                           \n",
       "COLE_NOMBRE_SEDE                                    COLEGIO INSCAP  \n",
       "COLE_CALENDARIO                                                  F  \n",
       "COLE_GENERO                                                      X  \n",
       "COLE_NATURALEZA                                                  N  \n",
       "COLE_BILINGUE                                                    0  \n",
       "COLE_JORNADA                                                 NOCHE  \n",
       "COLE_CARACTER                                  ACADEMICO Y TECNICO  \n",
       "ESTU_VECES_ESTADO                                                0  \n",
       "ESTU_COD_MCPIO_PRESENTACION                                  11001  \n",
       "ESTU_MCPIO_PRESENTACION                                BOGOTÁ D.C.  \n",
       "ESTU_DEPTO_PRESENTACION                                     BOGOTÁ  \n",
       "ESTU_EXAM_NOMBREEXAMEN                    EXAMEN DE ESTADO (ICFES)  \n",
       "PUNT_LENGUAJE                                                46,68  \n",
       "PUNT_MATEMATICAS                                             40,78  \n",
       "PUNT_C_SOCIALES                                               41,9  \n",
       "PUNT_FILOSOFIA                                               45,93  \n",
       "PUNT_BIOLOGIA                                                43,61  \n",
       "PUNT_QUIMICA                                                 45,33  \n",
       "PUNT_FISICA                                                  40,06  \n",
       "PUNT_INGLES                                                  35,25  \n",
       "DESEMP_INGLES                                                   A-  \n",
       "NOMBRE_PROFUNDIZACION          PROFUNDIZACIÓN EN CIENCIAS SOCIALES  \n",
       "PUNT_PROFUNDIZACION                                            5,4  \n",
       "DESEMP_PROFUNDIZACION                                            I  \n",
       "NOMBRE_INTERDISCIPLINAR                       VIOLENCIA Y SOCIEDAD  \n",
       "PUNT_INTERDISCIPLINAR                                        35,93  \n",
       "ESTU_PUESTO                                                    666  \n",
       "\n",
       "[79 rows x 3 columns]"
      ]
     },
     "execution_count": 4,
     "metadata": {},
     "output_type": "execute_result"
    }
   ],
   "source": [
    "data_2010.head(3).T"
   ]
  },
  {
   "cell_type": "code",
   "execution_count": 5,
   "metadata": {
    "collapsed": true
   },
   "outputs": [],
   "source": [
    "data_2010 = data_2010.drop(['ESTU_CONSECUTIVO', 'PERIODO', 'ESTU_TIPO_DOCUMENTO', 'ESTU_COD_RESIDE_MCPIO',\n",
    "                           'COLE_NOMBRE_SEDE', 'ESTU_COD_MCPIO_PRESENTACION', 'ESTU_EXAM_NOMBREEXAMEN'],axis=1)"
   ]
  },
  {
   "cell_type": "code",
   "execution_count": 6,
   "metadata": {
    "collapsed": false,
    "scrolled": true
   },
   "outputs": [
    {
     "name": "stdout",
     "output_type": "stream",
     "text": [
      "Index(['AT', 'BR', 'CH', 'CL', 'CO', 'CR', 'CU', 'CZ', 'DE', 'EC', 'ES', 'GT',\n",
      "       'IT', 'LB', 'MX', 'PE', 'RO', 'RU', 'US', 'VE'],\n",
      "      dtype='object')\n",
      "AT        2\n",
      "BR        2\n",
      "CH        1\n",
      "CL        1\n",
      "CO    30220\n",
      "CR        1\n",
      "CU        1\n",
      "CZ        1\n",
      "DE        2\n",
      "EC        4\n",
      "ES        7\n",
      "GT        2\n",
      "IT        1\n",
      "LB        1\n",
      "MX        2\n",
      "PE        1\n",
      "RO        1\n",
      "RU        1\n",
      "US        4\n",
      "VE        6\n",
      "Name: ESTU_PAIS_RESIDE, dtype: int64\n",
      "Elementos null/NaN 60\n",
      "__________________\n",
      "Elementos diferentes de null/NaN: 30261\n",
      "__________________\n",
      "(30261,)\n",
      "None\n"
     ]
    }
   ],
   "source": [
    "c = 'ESTU_PAIS_RESIDE'\n",
    "print(data_2010[c].value_counts().sort_index().index)\n",
    "print(data_2010[c].value_counts().sort_index())\n",
    "print(missing_data(data_2010[c]))"
   ]
  },
  {
   "cell_type": "code",
   "execution_count": 7,
   "metadata": {
    "collapsed": false
   },
   "outputs": [],
   "source": [
    "data_2010['ESTU_PAIS_RESIDE'].fillna('CO', inplace=True)"
   ]
  },
  {
   "cell_type": "code",
   "execution_count": 8,
   "metadata": {
    "collapsed": false
   },
   "outputs": [
    {
     "name": "stdout",
     "output_type": "stream",
     "text": [
      "Index(['F', 'M'], dtype='object')\n",
      "F    15885\n",
      "M    14419\n",
      "Name: ESTU_GENERO, dtype: int64\n",
      "Elementos null/NaN 17\n",
      "__________________\n",
      "Elementos diferentes de null/NaN: 30304\n",
      "__________________\n",
      "(30304,)\n",
      "None\n"
     ]
    }
   ],
   "source": [
    "c = 'ESTU_GENERO'\n",
    "print(data_2010[c].value_counts().sort_index().index)\n",
    "print(data_2010[c].value_counts().sort_index())\n",
    "print(missing_data(data_2010[c]))"
   ]
  },
  {
   "cell_type": "code",
   "execution_count": 9,
   "metadata": {
    "collapsed": false
   },
   "outputs": [
    {
     "name": "stdout",
     "output_type": "stream",
     "text": [
      "cant null antes: 17\n",
      "cant null despues: 0\n"
     ]
    },
    {
     "name": "stderr",
     "output_type": "stream",
     "text": [
      "/usr/local/lib/python3.4/dist-packages/pandas/core/index.py:1148: VisibleDeprecationWarning: using a non-integer number instead of an integer will result in an error in the future\n",
      "  return promote(getitem(key))\n"
     ]
    }
   ],
   "source": [
    "Do_resamples(data_2010, 'ESTU_GENERO', str)"
   ]
  },
  {
   "cell_type": "code",
   "execution_count": 10,
   "metadata": {
    "collapsed": false,
    "scrolled": true
   },
   "outputs": [
    {
     "name": "stdout",
     "output_type": "stream",
     "text": [
      "Float64Index([ 1.0,  2.0,  3.0,  4.0,  5.0,  6.0,  7.0,  8.0,  9.0, 10.0, 11.0,\n",
      "              12.0, 13.0, 14.0, 15.0, 16.0, 17.0, 18.0, 19.0, 20.0, 21.0, 22.0,\n",
      "              23.0, 24.0, 25.0, 26.0, 27.0, 28.0, 29.0, 30.0, 31.0],\n",
      "             dtype='float64')\n",
      "1     1041\n",
      "2      943\n",
      "3      960\n",
      "4     1024\n",
      "5     1009\n",
      "6      991\n",
      "7     1006\n",
      "8      996\n",
      "9     1003\n",
      "10    1055\n",
      "11     948\n",
      "12    1060\n",
      "13    1009\n",
      "14     971\n",
      "15    1068\n",
      "16     975\n",
      "17     950\n",
      "18    1035\n",
      "19     959\n",
      "20    1076\n",
      "21     991\n",
      "22    1020\n",
      "23     986\n",
      "24     975\n",
      "25    1050\n",
      "26    1001\n",
      "27     984\n",
      "28    1021\n",
      "29     824\n",
      "30     831\n",
      "31     518\n",
      "Name: ESTU_NACIMIENTO_DIA, dtype: int64\n",
      "Elementos null/NaN 41\n",
      "__________________\n",
      "Elementos diferentes de null/NaN: 30280\n",
      "__________________\n",
      "(30280,)\n",
      "None\n"
     ]
    }
   ],
   "source": [
    "c = 'ESTU_NACIMIENTO_DIA'\n",
    "print(data_2010[c].value_counts().sort_index().index)\n",
    "print(data_2010[c].value_counts().sort_index())\n",
    "print(missing_data(data_2010[c]))"
   ]
  },
  {
   "cell_type": "code",
   "execution_count": 11,
   "metadata": {
    "collapsed": false,
    "scrolled": true
   },
   "outputs": [
    {
     "name": "stdout",
     "output_type": "stream",
     "text": [
      "Float64Index([1.0, 2.0, 3.0, 4.0, 5.0, 6.0, 7.0, 8.0, 9.0, 10.0, 11.0, 12.0], dtype='float64')\n",
      "1     2390\n",
      "2     2237\n",
      "3     2562\n",
      "4     2399\n",
      "5     2508\n",
      "6     2475\n",
      "7     2577\n",
      "8     2608\n",
      "9     2654\n",
      "10    2657\n",
      "11    2454\n",
      "12    2759\n",
      "Name: ESTU_NACIMIENTO_MES, dtype: int64\n",
      "Elementos null/NaN 41\n",
      "__________________\n",
      "Elementos diferentes de null/NaN: 30280\n",
      "__________________\n",
      "(30280,)\n",
      "None\n"
     ]
    }
   ],
   "source": [
    "c = 'ESTU_NACIMIENTO_MES'\n",
    "print(data_2010[c].value_counts().sort_index().index)\n",
    "print(data_2010[c].value_counts().sort_index())\n",
    "print(missing_data(data_2010[c]))"
   ]
  },
  {
   "cell_type": "code",
   "execution_count": 12,
   "metadata": {
    "collapsed": false,
    "scrolled": true
   },
   "outputs": [
    {
     "name": "stdout",
     "output_type": "stream",
     "text": [
      "Float64Index([1938.0, 1939.0, 1940.0, 1942.0, 1943.0, 1944.0, 1945.0, 1946.0,\n",
      "              1947.0, 1948.0, 1949.0, 1950.0, 1951.0, 1952.0, 1953.0, 1954.0,\n",
      "              1955.0, 1956.0, 1957.0, 1958.0, 1959.0, 1960.0, 1961.0, 1962.0,\n",
      "              1963.0, 1964.0, 1965.0, 1966.0, 1967.0, 1968.0, 1969.0, 1970.0,\n",
      "              1971.0, 1972.0, 1973.0, 1974.0, 1975.0, 1976.0, 1977.0, 1978.0,\n",
      "              1979.0, 1980.0, 1981.0, 1982.0, 1983.0, 1984.0, 1985.0, 1986.0,\n",
      "              1987.0, 1988.0, 1989.0, 1990.0, 1991.0, 1992.0, 1993.0, 1994.0,\n",
      "              1995.0, 1996.0, 1997.0, 2000.0, 2001.0, 2002.0, 2013.0],\n",
      "             dtype='float64')\n",
      "1938       1\n",
      "1939       1\n",
      "1940       2\n",
      "1942       2\n",
      "1943       1\n",
      "1944       3\n",
      "1945       1\n",
      "1946       4\n",
      "1947       5\n",
      "1948       4\n",
      "1949       4\n",
      "1950       7\n",
      "1951       5\n",
      "1952      17\n",
      "1953      16\n",
      "1954      10\n",
      "1955      11\n",
      "1956      23\n",
      "1957      24\n",
      "1958      35\n",
      "1959      33\n",
      "1960      36\n",
      "1961      34\n",
      "1962      56\n",
      "1963      57\n",
      "1964      71\n",
      "1965      68\n",
      "1966      76\n",
      "1967      82\n",
      "1968     105\n",
      "        ... \n",
      "1972     117\n",
      "1973     137\n",
      "1974     144\n",
      "1975     127\n",
      "1976     145\n",
      "1977     158\n",
      "1978     197\n",
      "1979     201\n",
      "1980     240\n",
      "1981     228\n",
      "1982     256\n",
      "1983     273\n",
      "1984     310\n",
      "1985     343\n",
      "1986     381\n",
      "1987     462\n",
      "1988     598\n",
      "1989     960\n",
      "1990    1697\n",
      "1991    4120\n",
      "1992    7743\n",
      "1993    8053\n",
      "1994    2058\n",
      "1995     153\n",
      "1996      21\n",
      "1997       6\n",
      "2000      22\n",
      "2001      21\n",
      "2002       2\n",
      "2013       1\n",
      "Name: ESTU_NACIMIENTO_ANNO, dtype: int64\n",
      "Elementos null/NaN 41\n",
      "__________________\n",
      "Elementos diferentes de null/NaN: 30280\n",
      "__________________\n",
      "(30280,)\n",
      "None\n"
     ]
    }
   ],
   "source": [
    "c = 'ESTU_NACIMIENTO_ANNO'\n",
    "print(data_2010[c].value_counts().sort_index().index)\n",
    "print(data_2010[c].value_counts().sort_index())\n",
    "print(missing_data(data_2010[c]))"
   ]
  },
  {
   "cell_type": "code",
   "execution_count": 13,
   "metadata": {
    "collapsed": false
   },
   "outputs": [],
   "source": [
    "data_2010['ESTU_NACIMIENTO_ANNO'] = data_2010['ESTU_NACIMIENTO_ANNO'].replace(2013, 2002)"
   ]
  },
  {
   "cell_type": "code",
   "execution_count": 14,
   "metadata": {
    "collapsed": false,
    "scrolled": true
   },
   "outputs": [
    {
     "name": "stdout",
     "output_type": "stream",
     "text": [
      "Float64Index([12.0, 13.0, 14.0, 15.0, 16.0, 17.0, 18.0, 19.0, 20.0, 21.0, 22.0,\n",
      "              23.0, 24.0, 25.0, 26.0, 27.0, 28.0, 29.0, 30.0, 31.0, 32.0, 33.0,\n",
      "              34.0, 35.0, 36.0, 37.0, 38.0, 39.0, 40.0, 41.0, 42.0, 43.0, 44.0,\n",
      "              45.0, 46.0, 47.0, 48.0, 49.0, 50.0, 51.0, 52.0, 53.0, 54.0, 55.0,\n",
      "              56.0, 57.0, 58.0, 59.0, 60.0, 61.0, 62.0, 63.0, 64.0, 65.0, 66.0,\n",
      "              67.0, 69.0, 70.0, 71.0],\n",
      "             dtype='float64')\n",
      "12       4\n",
      "13      16\n",
      "14      97\n",
      "15    1302\n",
      "16    7390\n",
      "17    7939\n",
      "18    4979\n",
      "19    1937\n",
      "20    1042\n",
      "21     672\n",
      "22     465\n",
      "23     410\n",
      "24     347\n",
      "25     312\n",
      "26     288\n",
      "27     252\n",
      "28     231\n",
      "29     234\n",
      "30     210\n",
      "31     196\n",
      "32     171\n",
      "33     143\n",
      "34     133\n",
      "35     146\n",
      "36     134\n",
      "37     123\n",
      "38     114\n",
      "39     100\n",
      "40     103\n",
      "41     101\n",
      "42      91\n",
      "43      75\n",
      "44      68\n",
      "45      66\n",
      "46      64\n",
      "47      58\n",
      "48      34\n",
      "49      40\n",
      "50      33\n",
      "51      34\n",
      "52      28\n",
      "53      23\n",
      "54      12\n",
      "55      12\n",
      "56      13\n",
      "57      16\n",
      "58       8\n",
      "59       6\n",
      "60       6\n",
      "61       4\n",
      "62       4\n",
      "63       4\n",
      "64       2\n",
      "65       3\n",
      "66       1\n",
      "67       2\n",
      "69       2\n",
      "70       1\n",
      "71       1\n",
      "Name: ESTU_EDAD, dtype: int64\n",
      "Elementos null/NaN 19\n",
      "__________________\n",
      "Elementos diferentes de null/NaN: 30302\n",
      "__________________\n",
      "(30302,)\n",
      "None\n"
     ]
    }
   ],
   "source": [
    "c = 'ESTU_EDAD'\n",
    "print(data_2010[c].value_counts().sort_index().index)\n",
    "print(data_2010[c].value_counts().sort_index())\n",
    "print(missing_data(data_2010[c]))"
   ]
  },
  {
   "cell_type": "code",
   "execution_count": 15,
   "metadata": {
    "collapsed": false
   },
   "outputs": [
    {
     "name": "stdout",
     "output_type": "stream",
     "text": [
      "Float64Index([], dtype='float64')\n",
      "Series([], Name: ESTU_LIMITA_BAJAVISION, dtype: int64)\n",
      "Elementos null/NaN 30321\n",
      "__________________\n",
      "Elementos diferentes de null/NaN: 0\n",
      "__________________\n",
      "(0,)\n",
      "None\n"
     ]
    }
   ],
   "source": [
    "c = 'ESTU_LIMITA_BAJAVISION'\n",
    "print(data_2010[c].value_counts().sort_index().index)\n",
    "print(data_2010[c].value_counts().sort_index())\n",
    "print(missing_data(data_2010[c]))"
   ]
  },
  {
   "cell_type": "code",
   "execution_count": 16,
   "metadata": {
    "collapsed": false
   },
   "outputs": [
    {
     "name": "stdout",
     "output_type": "stream",
     "text": [
      "Float64Index([], dtype='float64')\n",
      "Series([], Name: ESTU_LIMITA_SORDOCEGUERA, dtype: int64)\n",
      "Elementos null/NaN 30321\n",
      "__________________\n",
      "Elementos diferentes de null/NaN: 0\n",
      "__________________\n",
      "(0,)\n",
      "None\n"
     ]
    }
   ],
   "source": [
    "c = 'ESTU_LIMITA_SORDOCEGUERA'\n",
    "print(data_2010[c].value_counts().sort_index().index)\n",
    "print(data_2010[c].value_counts().sort_index())\n",
    "print(missing_data(data_2010[c]))"
   ]
  },
  {
   "cell_type": "code",
   "execution_count": 17,
   "metadata": {
    "collapsed": false
   },
   "outputs": [
    {
     "name": "stdout",
     "output_type": "stream",
     "text": [
      "Float64Index([], dtype='float64')\n",
      "Series([], Name: ESTU_LIMITA_COGNITIVA, dtype: int64)\n",
      "Elementos null/NaN 30321\n",
      "__________________\n",
      "Elementos diferentes de null/NaN: 0\n",
      "__________________\n",
      "(0,)\n",
      "None\n"
     ]
    }
   ],
   "source": [
    "c = 'ESTU_LIMITA_COGNITIVA'\n",
    "print(data_2010[c].value_counts().sort_index().index)\n",
    "print(data_2010[c].value_counts().sort_index())\n",
    "print(missing_data(data_2010[c]))"
   ]
  },
  {
   "cell_type": "code",
   "execution_count": 18,
   "metadata": {
    "collapsed": false
   },
   "outputs": [
    {
     "name": "stdout",
     "output_type": "stream",
     "text": [
      "Float64Index([], dtype='float64')\n",
      "Series([], Name: ESTU_LIMITA_INVIDENTE, dtype: int64)\n",
      "Elementos null/NaN 30321\n",
      "__________________\n",
      "Elementos diferentes de null/NaN: 0\n",
      "__________________\n",
      "(0,)\n",
      "None\n"
     ]
    }
   ],
   "source": [
    "c = 'ESTU_LIMITA_INVIDENTE'\n",
    "print(data_2010[c].value_counts().sort_index().index)\n",
    "print(data_2010[c].value_counts().sort_index())\n",
    "print(missing_data(data_2010[c]))"
   ]
  },
  {
   "cell_type": "code",
   "execution_count": 19,
   "metadata": {
    "collapsed": false
   },
   "outputs": [
    {
     "name": "stdout",
     "output_type": "stream",
     "text": [
      "Float64Index([], dtype='float64')\n",
      "Series([], Name: ESTU_LIMITA_MOTRIZ, dtype: int64)\n",
      "Elementos null/NaN 30321\n",
      "__________________\n",
      "Elementos diferentes de null/NaN: 0\n",
      "__________________\n",
      "(0,)\n",
      "None\n"
     ]
    }
   ],
   "source": [
    "c = 'ESTU_LIMITA_MOTRIZ'\n",
    "print(data_2010[c].value_counts().sort_index().index)\n",
    "print(data_2010[c].value_counts().sort_index())\n",
    "print(missing_data(data_2010[c]))"
   ]
  },
  {
   "cell_type": "code",
   "execution_count": 20,
   "metadata": {
    "collapsed": false
   },
   "outputs": [
    {
     "name": "stdout",
     "output_type": "stream",
     "text": [
      "Float64Index([], dtype='float64')\n",
      "Series([], Name: ESTU_LIMITA_SORDOINTERPRETE, dtype: int64)\n",
      "Elementos null/NaN 30321\n",
      "__________________\n",
      "Elementos diferentes de null/NaN: 0\n",
      "__________________\n",
      "(0,)\n",
      "None\n"
     ]
    }
   ],
   "source": [
    "c = 'ESTU_LIMITA_SORDOINTERPRETE'\n",
    "print(data_2010[c].value_counts().sort_index().index)\n",
    "print(data_2010[c].value_counts().sort_index())\n",
    "print(missing_data(data_2010[c]))"
   ]
  },
  {
   "cell_type": "code",
   "execution_count": 21,
   "metadata": {
    "collapsed": false,
    "scrolled": true
   },
   "outputs": [
    {
     "name": "stdout",
     "output_type": "stream",
     "text": [
      "Float64Index([], dtype='float64')\n",
      "Series([], Name: ESTU_LIMITA_SORDONOINTERPRETE, dtype: int64)\n",
      "Elementos null/NaN 30321\n",
      "__________________\n",
      "Elementos diferentes de null/NaN: 0\n",
      "__________________\n",
      "(0,)\n",
      "None\n"
     ]
    }
   ],
   "source": [
    "c = 'ESTU_LIMITA_SORDONOINTERPRETE'\n",
    "print(data_2010[c].value_counts().sort_index().index)\n",
    "print(data_2010[c].value_counts().sort_index())\n",
    "print(missing_data(data_2010[c]))"
   ]
  },
  {
   "cell_type": "code",
   "execution_count": 22,
   "metadata": {
    "collapsed": true
   },
   "outputs": [],
   "source": [
    "data_2010 = data_2010.drop(['ESTU_LIMITA_BAJAVISION', 'ESTU_LIMITA_SORDOCEGUERA', 'ESTU_LIMITA_COGNITIVA',\n",
    "                           'ESTU_LIMITA_INVIDENTE', 'ESTU_LIMITA_MOTRIZ', 'ESTU_LIMITA_SORDOINTERPRETE', \n",
    "                           'ESTU_LIMITA_SORDONOINTERPRETE'], axis=1)"
   ]
  },
  {
   "cell_type": "code",
   "execution_count": 23,
   "metadata": {
    "collapsed": false,
    "scrolled": true
   },
   "outputs": [
    {
     "name": "stdout",
     "output_type": "stream",
     "text": [
      "Float64Index([ 1.0,  2.0,  3.0,  4.0,  5.0,  6.0,  7.0,  8.0,  9.0, 11.0, 12.0,\n",
      "              13.0, 14.0, 15.0, 16.0, 17.0, 99.0],\n",
      "             dtype='float64')\n",
      "1     280\n",
      "2       3\n",
      "3      16\n",
      "4       1\n",
      "5       2\n",
      "6       2\n",
      "7       6\n",
      "8       4\n",
      "9      13\n",
      "11     32\n",
      "12      4\n",
      "13      1\n",
      "14      2\n",
      "15      2\n",
      "16      4\n",
      "17     11\n",
      "99    212\n",
      "Name: ESTU_ETNIA, dtype: int64\n",
      "Elementos null/NaN 29726\n",
      "__________________\n",
      "Elementos diferentes de null/NaN: 595\n",
      "__________________\n",
      "(595,)\n",
      "None\n"
     ]
    }
   ],
   "source": [
    "c = 'ESTU_ETNIA'\n",
    "print(data_2010[c].value_counts().sort_index().index)\n",
    "print(data_2010[c].value_counts().sort_index())\n",
    "print(missing_data(data_2010[c]))"
   ]
  },
  {
   "cell_type": "code",
   "execution_count": 24,
   "metadata": {
    "collapsed": false
   },
   "outputs": [
    {
     "name": "stdout",
     "output_type": "stream",
     "text": [
      "cant null antes: 29726\n",
      "cant null despues: 0\n"
     ]
    },
    {
     "name": "stderr",
     "output_type": "stream",
     "text": [
      "/usr/local/lib/python3.4/dist-packages/pandas/core/index.py:1148: VisibleDeprecationWarning: using a non-integer number instead of an integer will result in an error in the future\n",
      "  return promote(getitem(key))\n"
     ]
    }
   ],
   "source": [
    "Do_resamples(data_2010, 'ESTU_ETNIA', int)"
   ]
  },
  {
   "cell_type": "code",
   "execution_count": 25,
   "metadata": {
    "collapsed": false,
    "scrolled": true
   },
   "outputs": [
    {
     "name": "stdout",
     "output_type": "stream",
     "text": [
      "Index(['ABEJORRAL', 'ACACIAS', 'AGUA DE DIOS', 'AGUACHICA', 'AGUADA',\n",
      "       'AGUAZUL', 'AGUSTIN CODAZZI', 'AIPE', 'ALBAN (SAN JOSE)', 'ALBANIA',\n",
      "       ...\n",
      "       'VISTA HERMOSA', 'YAGUARA', 'YALI', 'YARUMAL', 'YONDO (CASABE)',\n",
      "       'YOPAL', 'YOTOCO', 'YUMBO', 'ZARZAL', 'ZIPAQUIRA'],\n",
      "      dtype='object', length=357)\n",
      "ABEJORRAL                     17\n",
      "ACACIAS                       10\n",
      "AGUA DE DIOS                   2\n",
      "AGUACHICA                     38\n",
      "AGUADA                         9\n",
      "AGUAZUL                       10\n",
      "AGUSTIN CODAZZI               15\n",
      "AIPE                           1\n",
      "ALBAN (SAN JOSE)               1\n",
      "ALBANIA                       76\n",
      "ALCALA                         1\n",
      "ALEJANDRIA                    29\n",
      "ANDALUCIA                      6\n",
      "ANGELOPOLIS                    1\n",
      "ANORI                          1\n",
      "ANSERMANUEVO                  14\n",
      "APARTADO                      65\n",
      "ARAUCA                        25\n",
      "ARCABUCO                      38\n",
      "ARGELIA                        7\n",
      "ARMENIA                       99\n",
      "ARMERO (GUAYABAL)              2\n",
      "ATACO                         14\n",
      "BARBACOAS                      1\n",
      "BARBOSA                       52\n",
      "BARICHARA                      1\n",
      "BARRANCA DE UPIA               1\n",
      "BARRANCABERMEJA                8\n",
      "BARRANCAS                      2\n",
      "BARRANQUILLA                 665\n",
      "                            ... \n",
      "TRUJILLO                       1\n",
      "TULUA                         52\n",
      "TUMACO                        10\n",
      "TUNJA                         92\n",
      "TURBACO                       24\n",
      "UBATE                         20\n",
      "UNE                            2\n",
      "VALDIVIA                       8\n",
      "VALLEDUPAR                   123\n",
      "VEGACHI                        1\n",
      "VELEZ                         35\n",
      "VIANI                          2\n",
      "VILLA DE LEYVA                44\n",
      "VILLA DEL ROSARIO              4\n",
      "VILLA GUAMEZ (LA HORMIGA)     25\n",
      "VILLA RICA                     4\n",
      "VILLAMARIA                     5\n",
      "VILLANUEVA                    11\n",
      "VILLAVICENCIO                234\n",
      "VILLETA                       16\n",
      "VISTA HERMOSA                  6\n",
      "YAGUARA                        1\n",
      "YALI                          26\n",
      "YARUMAL                        2\n",
      "YONDO (CASABE)                 4\n",
      "YOPAL                        192\n",
      "YOTOCO                         6\n",
      "YUMBO                        125\n",
      "ZARZAL                        48\n",
      "ZIPAQUIRA                     74\n",
      "Name: ESTU_RESIDE_MCPIO, dtype: int64\n",
      "Elementos null/NaN 17\n",
      "__________________\n",
      "Elementos diferentes de null/NaN: 30304\n",
      "__________________\n",
      "(30304,)\n",
      "None\n"
     ]
    }
   ],
   "source": [
    "c = 'ESTU_RESIDE_MCPIO'\n",
    "print(data_2010[c].value_counts().sort_index().index)\n",
    "print(data_2010[c].value_counts().sort_index())\n",
    "print(missing_data(data_2010[c]))"
   ]
  },
  {
   "cell_type": "code",
   "execution_count": 26,
   "metadata": {
    "collapsed": true
   },
   "outputs": [],
   "source": [
    "data_2010['ESTU_RESIDE_MCPIO'].fillna(method='bfill', inplace=True)"
   ]
  },
  {
   "cell_type": "code",
   "execution_count": 27,
   "metadata": {
    "collapsed": false,
    "scrolled": true
   },
   "outputs": [
    {
     "name": "stdout",
     "output_type": "stream",
     "text": [
      "Index(['AMAZONAS', 'ANTIOQUIA', 'ARAUCA', 'ATLÁNTICO', 'BOGOTÁ', 'BOLÍVAR',\n",
      "       'BOYACÁ', 'CALDAS', 'CAQUETÁ', 'CASANARE', 'CAUCA', 'CESAR', 'CHOCÓ',\n",
      "       'CUNDINAMARCA', 'CÓRDOBA', 'GUAINÍA', 'GUAVIARE', 'HUILA', 'LA GUAJIRA',\n",
      "       'MAGDALENA', 'META', 'NARIÑO', 'NORTE SANTANDER', 'PUTUMAYO', 'QUINDÍO',\n",
      "       'RISARALDA', 'SANTANDER', 'TOLIMA', 'VALLE', 'VAUPÉS', 'VICHADA'],\n",
      "      dtype='object')\n",
      "AMAZONAS              1\n",
      "ANTIOQUIA          5109\n",
      "ARAUCA               41\n",
      "ATLÁNTICO           696\n",
      "BOGOTÁ             6463\n",
      "BOLÍVAR             314\n",
      "BOYACÁ              438\n",
      "CALDAS              447\n",
      "CAQUETÁ             100\n",
      "CASANARE            278\n",
      "CAUCA              1119\n",
      "CESAR               178\n",
      "CHOCÓ                10\n",
      "CUNDINAMARCA       1045\n",
      "CÓRDOBA              40\n",
      "GUAINÍA              36\n",
      "GUAVIARE             28\n",
      "HUILA               367\n",
      "LA GUAJIRA          113\n",
      "MAGDALENA            96\n",
      "META                280\n",
      "NARIÑO             1281\n",
      "NORTE SANTANDER     160\n",
      "PUTUMAYO            109\n",
      "QUINDÍO             139\n",
      "RISARALDA           270\n",
      "SANTANDER           865\n",
      "TOLIMA              500\n",
      "VALLE              9773\n",
      "VAUPÉS                7\n",
      "VICHADA               1\n",
      "Name: ESTU_RESIDE_DEPTO, dtype: int64\n",
      "Elementos null/NaN 17\n",
      "__________________\n",
      "Elementos diferentes de null/NaN: 30304\n",
      "__________________\n",
      "(30304,)\n",
      "None\n"
     ]
    }
   ],
   "source": [
    "c = 'ESTU_RESIDE_DEPTO'\n",
    "print(data_2010[c].value_counts().sort_index().index)\n",
    "print(data_2010[c].value_counts().sort_index())\n",
    "print(missing_data(data_2010[c]))"
   ]
  },
  {
   "cell_type": "code",
   "execution_count": 28,
   "metadata": {
    "collapsed": true
   },
   "outputs": [],
   "source": [
    "data_2010['ESTU_RESIDE_DEPTO'].fillna(method='bfill', inplace=True)"
   ]
  },
  {
   "cell_type": "code",
   "execution_count": 29,
   "metadata": {
    "collapsed": false,
    "scrolled": true
   },
   "outputs": [
    {
     "name": "stdout",
     "output_type": "stream",
     "text": [
      "Float64Index([1.0, 2.0, 3.0, 4.0, 5.0, 6.0, 7.0, 8.0, 9.0, 10.0], dtype='float64')\n",
      "1      4726\n",
      "2      1032\n",
      "3       849\n",
      "4      4334\n",
      "5      1436\n",
      "6      1824\n",
      "7      1084\n",
      "8      1459\n",
      "9      1105\n",
      "10    12453\n",
      "Name: ESTU_ZONA_RESIDE, dtype: int64\n",
      "Elementos null/NaN 19\n",
      "__________________\n",
      "Elementos diferentes de null/NaN: 30302\n",
      "__________________\n",
      "(30302,)\n",
      "None\n"
     ]
    }
   ],
   "source": [
    "c = 'ESTU_ZONA_RESIDE'\n",
    "print(data_2010[c].value_counts().sort_index().index)\n",
    "print(data_2010[c].value_counts().sort_index())\n",
    "print(missing_data(data_2010[c]))"
   ]
  },
  {
   "cell_type": "code",
   "execution_count": 30,
   "metadata": {
    "collapsed": true
   },
   "outputs": [],
   "source": [
    "data_2010['ESTU_ZONA_RESIDE'].fillna(method='bfill', inplace=True)"
   ]
  },
  {
   "cell_type": "code",
   "execution_count": 31,
   "metadata": {
    "collapsed": false
   },
   "outputs": [
    {
     "name": "stdout",
     "output_type": "stream",
     "text": [
      "Float64Index([1.0, 2.0], dtype='float64')\n",
      "1    26078\n",
      "2     4216\n",
      "Name: ESTU_AREA_RESIDE, dtype: int64\n",
      "Elementos null/NaN 27\n",
      "__________________\n",
      "Elementos diferentes de null/NaN: 30294\n",
      "__________________\n",
      "(30294,)\n",
      "None\n"
     ]
    }
   ],
   "source": [
    "c = 'ESTU_AREA_RESIDE'\n",
    "print(data_2010[c].value_counts().sort_index().index)\n",
    "print(data_2010[c].value_counts().sort_index())\n",
    "print(missing_data(data_2010[c]))"
   ]
  },
  {
   "cell_type": "code",
   "execution_count": 32,
   "metadata": {
    "collapsed": false
   },
   "outputs": [
    {
     "name": "stdout",
     "output_type": "stream",
     "text": [
      "cant null antes: 27\n",
      "cant null despues: 0\n"
     ]
    },
    {
     "name": "stderr",
     "output_type": "stream",
     "text": [
      "/usr/local/lib/python3.4/dist-packages/pandas/core/index.py:1148: VisibleDeprecationWarning: using a non-integer number instead of an integer will result in an error in the future\n",
      "  return promote(getitem(key))\n"
     ]
    }
   ],
   "source": [
    "Do_resamples(data_2010, 'ESTU_AREA_RESIDE', int)"
   ]
  },
  {
   "cell_type": "code",
   "execution_count": 33,
   "metadata": {
    "collapsed": false,
    "scrolled": true
   },
   "outputs": [
    {
     "name": "stdout",
     "output_type": "stream",
     "text": [
      "Float64Index([ 0.0,  1.0,  2.0,  3.0,  4.0,  5.0,  7.0,  8.0,  9.0, 10.0, 11.0,\n",
      "              12.0, 13.0, 14.0, 15.0, 16.0, 17.0, 99.0],\n",
      "             dtype='float64')\n",
      "0     1098\n",
      "1        2\n",
      "2        5\n",
      "3        5\n",
      "4        2\n",
      "5        5\n",
      "7        4\n",
      "8        2\n",
      "9     3443\n",
      "10    4222\n",
      "11    2677\n",
      "12    5761\n",
      "13     472\n",
      "14    1368\n",
      "15     666\n",
      "16    6050\n",
      "17    2695\n",
      "99    1811\n",
      "Name: FAMI_EDUCA_PADRE, dtype: int64\n",
      "Elementos null/NaN 33\n",
      "__________________\n",
      "Elementos diferentes de null/NaN: 30288\n",
      "__________________\n",
      "(30288,)\n",
      "None\n"
     ]
    }
   ],
   "source": [
    "c = 'FAMI_EDUCA_PADRE'\n",
    "print(data_2010[c].value_counts().sort_index().index)\n",
    "print(data_2010[c].value_counts().sort_index())\n",
    "print(missing_data(data_2010[c]))"
   ]
  },
  {
   "cell_type": "code",
   "execution_count": 34,
   "metadata": {
    "collapsed": false
   },
   "outputs": [
    {
     "name": "stdout",
     "output_type": "stream",
     "text": [
      "cant null antes: 33\n",
      "cant null despues: 0\n"
     ]
    },
    {
     "name": "stderr",
     "output_type": "stream",
     "text": [
      "/usr/local/lib/python3.4/dist-packages/pandas/core/index.py:1148: VisibleDeprecationWarning: using a non-integer number instead of an integer will result in an error in the future\n",
      "  return promote(getitem(key))\n"
     ]
    }
   ],
   "source": [
    "Do_resamples(data_2010, 'FAMI_EDUCA_PADRE', int)"
   ]
  },
  {
   "cell_type": "code",
   "execution_count": 35,
   "metadata": {
    "collapsed": false,
    "scrolled": true
   },
   "outputs": [
    {
     "name": "stdout",
     "output_type": "stream",
     "text": [
      "Float64Index([ 0.0,  1.0,  2.0,  3.0,  4.0,  5.0,  7.0,  9.0, 10.0, 11.0, 12.0,\n",
      "              13.0, 14.0, 15.0, 16.0, 17.0, 99.0],\n",
      "             dtype='float64')\n",
      "0      732\n",
      "1        2\n",
      "2        5\n",
      "3        4\n",
      "4        5\n",
      "5        8\n",
      "7        4\n",
      "9     3205\n",
      "10    4355\n",
      "11    3132\n",
      "12    6338\n",
      "13     569\n",
      "14    1846\n",
      "15     786\n",
      "16    6196\n",
      "17    2132\n",
      "99     969\n",
      "Name: FAMI_EDUCA_MADRE, dtype: int64\n",
      "Elementos null/NaN 33\n",
      "__________________\n",
      "Elementos diferentes de null/NaN: 30288\n",
      "__________________\n",
      "(30288,)\n",
      "None\n"
     ]
    }
   ],
   "source": [
    "c = 'FAMI_EDUCA_MADRE'\n",
    "print(data_2010[c].value_counts().sort_index().index)\n",
    "print(data_2010[c].value_counts().sort_index())\n",
    "print(missing_data(data_2010[c]))"
   ]
  },
  {
   "cell_type": "code",
   "execution_count": 36,
   "metadata": {
    "collapsed": false
   },
   "outputs": [
    {
     "name": "stdout",
     "output_type": "stream",
     "text": [
      "cant null antes: 33\n",
      "cant null despues: 0\n"
     ]
    },
    {
     "name": "stderr",
     "output_type": "stream",
     "text": [
      "/usr/local/lib/python3.4/dist-packages/pandas/core/index.py:1148: VisibleDeprecationWarning: using a non-integer number instead of an integer will result in an error in the future\n",
      "  return promote(getitem(key))\n"
     ]
    }
   ],
   "source": [
    "Do_resamples(data_2010, 'FAMI_EDUCA_MADRE', int)"
   ]
  },
  {
   "cell_type": "code",
   "execution_count": 37,
   "metadata": {
    "collapsed": false,
    "scrolled": true
   },
   "outputs": [
    {
     "name": "stdout",
     "output_type": "stream",
     "text": [
      "Float64Index([ 1.0,  2.0,  3.0,  5.0,  7.0,  8.0,  9.0, 12.0, 13.0, 14.0, 15.0,\n",
      "              16.0, 17.0, 18.0, 19.0, 20.0, 21.0, 22.0, 23.0, 26.0],\n",
      "             dtype='float64')\n",
      "1        2\n",
      "2        2\n",
      "3        3\n",
      "5        4\n",
      "7        5\n",
      "8        1\n",
      "9       15\n",
      "12       2\n",
      "13    1882\n",
      "14    2574\n",
      "15    1558\n",
      "16    1593\n",
      "17    1960\n",
      "18     863\n",
      "19    4495\n",
      "20    2515\n",
      "21    6212\n",
      "22     486\n",
      "23    1254\n",
      "26    4862\n",
      "Name: FAMI_OCUPA_PADRE, dtype: int64\n",
      "Elementos null/NaN 33\n",
      "__________________\n",
      "Elementos diferentes de null/NaN: 30288\n",
      "__________________\n",
      "(30288,)\n",
      "None\n"
     ]
    }
   ],
   "source": [
    "c = 'FAMI_OCUPA_PADRE'\n",
    "print(data_2010[c].value_counts().sort_index().index)\n",
    "print(data_2010[c].value_counts().sort_index())\n",
    "print(missing_data(data_2010[c]))"
   ]
  },
  {
   "cell_type": "code",
   "execution_count": 38,
   "metadata": {
    "collapsed": false
   },
   "outputs": [
    {
     "name": "stdout",
     "output_type": "stream",
     "text": [
      "cant null antes: 33\n",
      "cant null despues: 0\n"
     ]
    },
    {
     "name": "stderr",
     "output_type": "stream",
     "text": [
      "/usr/local/lib/python3.4/dist-packages/pandas/core/index.py:1148: VisibleDeprecationWarning: using a non-integer number instead of an integer will result in an error in the future\n",
      "  return promote(getitem(key))\n"
     ]
    }
   ],
   "source": [
    "Do_resamples(data_2010, 'FAMI_OCUPA_PADRE', int)"
   ]
  },
  {
   "cell_type": "code",
   "execution_count": 39,
   "metadata": {
    "collapsed": false,
    "scrolled": true
   },
   "outputs": [
    {
     "name": "stdout",
     "output_type": "stream",
     "text": [
      "Float64Index([ 1.0,  2.0,  3.0,  5.0,  6.0,  7.0,  9.0, 10.0, 12.0, 13.0, 14.0,\n",
      "              15.0, 16.0, 17.0, 18.0, 19.0, 20.0, 21.0, 22.0, 23.0, 26.0],\n",
      "             dtype='float64')\n",
      "1         1\n",
      "2         1\n",
      "3         1\n",
      "5         1\n",
      "6         1\n",
      "7         1\n",
      "9         7\n",
      "10       18\n",
      "12        3\n",
      "13      809\n",
      "14     1290\n",
      "15      957\n",
      "16     1409\n",
      "17     1807\n",
      "18     1019\n",
      "19     2723\n",
      "20     1914\n",
      "21     3042\n",
      "22    11944\n",
      "23      527\n",
      "26     2813\n",
      "Name: FAMI_OCUPA_MADRE, dtype: int64\n",
      "Elementos null/NaN 33\n",
      "__________________\n",
      "Elementos diferentes de null/NaN: 30288\n",
      "__________________\n",
      "(30288,)\n",
      "None\n"
     ]
    }
   ],
   "source": [
    "c = 'FAMI_OCUPA_MADRE'\n",
    "print(data_2010[c].value_counts().sort_index().index)\n",
    "print(data_2010[c].value_counts().sort_index())\n",
    "print(missing_data(data_2010[c]))"
   ]
  },
  {
   "cell_type": "code",
   "execution_count": 40,
   "metadata": {
    "collapsed": false
   },
   "outputs": [],
   "source": [
    "educa_P = data_2010[data_2010['FAMI_EDUCA_PADRE'].isnull()].index\n",
    "educa_M = data_2010[data_2010['FAMI_EDUCA_MADRE'].isnull()].index\n",
    "ocupa_P = data_2010[data_2010['FAMI_OCUPA_PADRE'].isnull()].index\n",
    "ocupa_M = data_2010[data_2010['FAMI_OCUPA_MADRE'].isnull()].index\n",
    "#Son los mismos 33 index... se eliminaran\n",
    "data_2010 = data_2010.drop(ocupa_M)"
   ]
  },
  {
   "cell_type": "code",
   "execution_count": 41,
   "metadata": {
    "collapsed": false
   },
   "outputs": [
    {
     "name": "stdout",
     "output_type": "stream",
     "text": [
      "Float64Index([1.0, 2.0, 3.0, 4.0, 5.0, 6.0, 8.0], dtype='float64')\n",
      "1    4557\n",
      "2    9222\n",
      "3    7684\n",
      "4    3482\n",
      "5    2722\n",
      "6    2513\n",
      "8       1\n",
      "Name: FAMI_ESTRATO_VIVIENDA, dtype: int64\n",
      "Elementos null/NaN 107\n",
      "__________________\n",
      "Elementos diferentes de null/NaN: 30181\n",
      "__________________\n",
      "(30181,)\n",
      "None\n"
     ]
    }
   ],
   "source": [
    "c = 'FAMI_ESTRATO_VIVIENDA'\n",
    "print(data_2010[c].value_counts().sort_index().index)\n",
    "print(data_2010[c].value_counts().sort_index())\n",
    "print(missing_data(data_2010[c]))"
   ]
  },
  {
   "cell_type": "code",
   "execution_count": 42,
   "metadata": {
    "collapsed": false
   },
   "outputs": [
    {
     "name": "stdout",
     "output_type": "stream",
     "text": [
      "cant null antes: 107\n",
      "cant null despues: 0\n"
     ]
    },
    {
     "name": "stderr",
     "output_type": "stream",
     "text": [
      "/usr/local/lib/python3.4/dist-packages/pandas/core/index.py:1148: VisibleDeprecationWarning: using a non-integer number instead of an integer will result in an error in the future\n",
      "  return promote(getitem(key))\n"
     ]
    }
   ],
   "source": [
    "data_2010['FAMI_ESTRATO_VIVIENDA'] = data_2010['FAMI_ESTRATO_VIVIENDA'].replace(8, 6)\n",
    "Do_resamples(data_2010, 'FAMI_ESTRATO_VIVIENDA', float)"
   ]
  },
  {
   "cell_type": "code",
   "execution_count": 43,
   "metadata": {
    "collapsed": false
   },
   "outputs": [
    {
     "name": "stdout",
     "output_type": "stream",
     "text": [
      "Float64Index([1.0, 2.0, 3.0, 4.0, 5.0], dtype='float64')\n",
      "1     5152\n",
      "2     5759\n",
      "3     1277\n",
      "4      329\n",
      "5    17771\n",
      "Name: FAMI_NIVEL_SISBEN, dtype: int64\n",
      "Elementos null/NaN 0\n",
      "__________________\n",
      "Elementos diferentes de null/NaN: 30288\n",
      "__________________\n",
      "(30288,)\n",
      "None\n"
     ]
    }
   ],
   "source": [
    "c = 'FAMI_NIVEL_SISBEN'\n",
    "print(data_2010[c].value_counts().sort_index().index)\n",
    "print(data_2010[c].value_counts().sort_index())\n",
    "print(missing_data(data_2010[c]))"
   ]
  },
  {
   "cell_type": "code",
   "execution_count": 44,
   "metadata": {
    "collapsed": false
   },
   "outputs": [
    {
     "name": "stdout",
     "output_type": "stream",
     "text": [
      "Float64Index([1.0, 2.0, 3.0, 4.0, 5.0, 6.0, 7.0, 8.0, 9.0, 10.0, 11.0, 12.0], dtype='float64')\n",
      "1       306\n",
      "2      2088\n",
      "3      6265\n",
      "4     10169\n",
      "5      6381\n",
      "6      2726\n",
      "7      1115\n",
      "8       575\n",
      "9       290\n",
      "10      168\n",
      "11       78\n",
      "12      127\n",
      "Name: FAMI_PERSONAS_HOGAR, dtype: int64\n",
      "Elementos null/NaN 0\n",
      "__________________\n",
      "Elementos diferentes de null/NaN: 30288\n",
      "__________________\n",
      "(30288,)\n",
      "None\n"
     ]
    }
   ],
   "source": [
    "c = 'FAMI_PERSONAS_HOGAR'\n",
    "print(data_2010[c].value_counts().sort_index().index)\n",
    "print(data_2010[c].value_counts().sort_index())\n",
    "print(missing_data(data_2010[c]))"
   ]
  },
  {
   "cell_type": "code",
   "execution_count": 45,
   "metadata": {
    "collapsed": false
   },
   "outputs": [
    {
     "name": "stdout",
     "output_type": "stream",
     "text": [
      "Float64Index([1.0, 2.0, 3.0, 4.0, 5.0, 6.0, 7.0, 8.0, 9.0, 10.0], dtype='float64')\n",
      "1      1086\n",
      "2      8025\n",
      "3     13039\n",
      "4      5531\n",
      "5      1676\n",
      "6       557\n",
      "7       172\n",
      "8       113\n",
      "9        36\n",
      "10       53\n",
      "Name: FAMI_CUARTOS_HOGAR, dtype: int64\n",
      "Elementos null/NaN 0\n",
      "__________________\n",
      "Elementos diferentes de null/NaN: 30288\n",
      "__________________\n",
      "(30288,)\n",
      "None\n"
     ]
    }
   ],
   "source": [
    "c = 'FAMI_CUARTOS_HOGAR'\n",
    "print(data_2010[c].value_counts().sort_index().index)\n",
    "print(data_2010[c].value_counts().sort_index())\n",
    "print(missing_data(data_2010[c]))"
   ]
  },
  {
   "cell_type": "code",
   "execution_count": 46,
   "metadata": {
    "collapsed": false
   },
   "outputs": [
    {
     "name": "stdout",
     "output_type": "stream",
     "text": [
      "Float64Index([1.0, 2.0, 3.0, 4.0, 5.0], dtype='float64')\n",
      "1      442\n",
      "2     8892\n",
      "3     1194\n",
      "4    19678\n",
      "5       82\n",
      "Name: FAMI_PISOSHOGAR, dtype: int64\n",
      "Elementos null/NaN 0\n",
      "__________________\n",
      "Elementos diferentes de null/NaN: 30288\n",
      "__________________\n",
      "(30288,)\n",
      "None\n"
     ]
    }
   ],
   "source": [
    "c = 'FAMI_PISOSHOGAR'\n",
    "print(data_2010[c].value_counts().sort_index().index)\n",
    "print(data_2010[c].value_counts().sort_index())\n",
    "print(missing_data(data_2010[c]))"
   ]
  },
  {
   "cell_type": "code",
   "execution_count": 47,
   "metadata": {
    "collapsed": false
   },
   "outputs": [
    {
     "name": "stdout",
     "output_type": "stream",
     "text": [
      "Float64Index([0.0, 1.0], dtype='float64')\n",
      "0     7390\n",
      "1    22897\n",
      "Name: FAMI_TELEFONO_FIJO, dtype: int64\n",
      "Elementos null/NaN 1\n",
      "__________________\n",
      "Elementos diferentes de null/NaN: 30287\n",
      "__________________\n",
      "(30287,)\n",
      "None\n"
     ]
    }
   ],
   "source": [
    "c = 'FAMI_TELEFONO_FIJO'\n",
    "print(data_2010[c].value_counts().sort_index().index)\n",
    "print(data_2010[c].value_counts().sort_index())\n",
    "print(missing_data(data_2010[c]))"
   ]
  },
  {
   "cell_type": "code",
   "execution_count": 48,
   "metadata": {
    "collapsed": false
   },
   "outputs": [],
   "source": [
    "data_2010 = data_2010.drop(data_2010[data_2010['FAMI_TELEFONO_FIJO'].isnull()].index)"
   ]
  },
  {
   "cell_type": "code",
   "execution_count": 49,
   "metadata": {
    "collapsed": false
   },
   "outputs": [
    {
     "name": "stdout",
     "output_type": "stream",
     "text": [
      "Float64Index([0.0, 1.0], dtype='float64')\n",
      "0     2935\n",
      "1    27350\n",
      "Name: FAMI_CELULAR, dtype: int64\n",
      "Elementos null/NaN 2\n",
      "__________________\n",
      "Elementos diferentes de null/NaN: 30285\n",
      "__________________\n",
      "(30285,)\n",
      "None\n"
     ]
    }
   ],
   "source": [
    "c = 'FAMI_CELULAR'\n",
    "print(data_2010[c].value_counts().sort_index().index)\n",
    "print(data_2010[c].value_counts().sort_index())\n",
    "print(missing_data(data_2010[c]))"
   ]
  },
  {
   "cell_type": "code",
   "execution_count": 50,
   "metadata": {
    "collapsed": true
   },
   "outputs": [],
   "source": [
    "data_2010 = data_2010.drop(data_2010[data_2010['FAMI_CELULAR'].isnull()].index)"
   ]
  },
  {
   "cell_type": "code",
   "execution_count": 51,
   "metadata": {
    "collapsed": false
   },
   "outputs": [
    {
     "name": "stdout",
     "output_type": "stream",
     "text": [
      "Float64Index([0.0, 1.0], dtype='float64')\n",
      "0    13867\n",
      "1    16418\n",
      "Name: FAMI_INTERNET, dtype: int64\n",
      "Elementos null/NaN 0\n",
      "__________________\n",
      "Elementos diferentes de null/NaN: 30285\n",
      "__________________\n",
      "(30285,)\n",
      "None\n"
     ]
    }
   ],
   "source": [
    "c = 'FAMI_INTERNET'\n",
    "print(data_2010[c].value_counts().sort_index().index)\n",
    "print(data_2010[c].value_counts().sort_index())\n",
    "print(missing_data(data_2010[c]))"
   ]
  },
  {
   "cell_type": "code",
   "execution_count": 52,
   "metadata": {
    "collapsed": false
   },
   "outputs": [
    {
     "name": "stdout",
     "output_type": "stream",
     "text": [
      "Float64Index([0.0, 1.0], dtype='float64')\n",
      "0     7917\n",
      "1    22368\n",
      "Name: FAMI_SERVICIO_TELEVISION, dtype: int64\n",
      "Elementos null/NaN 0\n",
      "__________________\n",
      "Elementos diferentes de null/NaN: 30285\n",
      "__________________\n",
      "(30285,)\n",
      "None\n"
     ]
    }
   ],
   "source": [
    "c = 'FAMI_SERVICIO_TELEVISION'\n",
    "print(data_2010[c].value_counts().sort_index().index)\n",
    "print(data_2010[c].value_counts().sort_index())\n",
    "print(missing_data(data_2010[c]))"
   ]
  },
  {
   "cell_type": "code",
   "execution_count": 53,
   "metadata": {
    "collapsed": false
   },
   "outputs": [
    {
     "name": "stdout",
     "output_type": "stream",
     "text": [
      "Float64Index([0.0, 1.0, 3.0], dtype='float64')\n",
      "0    10331\n",
      "1       25\n",
      "3    19929\n",
      "Name: FAMI_COMPUTADOR, dtype: int64\n",
      "Elementos null/NaN 0\n",
      "__________________\n",
      "Elementos diferentes de null/NaN: 30285\n",
      "__________________\n",
      "(30285,)\n",
      "None\n"
     ]
    }
   ],
   "source": [
    "c = 'FAMI_COMPUTADOR'\n",
    "print(data_2010[c].value_counts().sort_index().index)\n",
    "print(data_2010[c].value_counts().sort_index())\n",
    "print(missing_data(data_2010[c]))"
   ]
  },
  {
   "cell_type": "code",
   "execution_count": 54,
   "metadata": {
    "collapsed": false
   },
   "outputs": [
    {
     "name": "stdout",
     "output_type": "stream",
     "text": [
      "Float64Index([0.0, 1.0], dtype='float64')\n",
      "0     8632\n",
      "1    21653\n",
      "Name: FAMI_LAVADORA, dtype: int64\n",
      "Elementos null/NaN 0\n",
      "__________________\n",
      "Elementos diferentes de null/NaN: 30285\n",
      "__________________\n",
      "(30285,)\n",
      "None\n"
     ]
    }
   ],
   "source": [
    "c = 'FAMI_LAVADORA'\n",
    "print(data_2010[c].value_counts().sort_index().index)\n",
    "print(data_2010[c].value_counts().sort_index())\n",
    "print(missing_data(data_2010[c]))"
   ]
  },
  {
   "cell_type": "code",
   "execution_count": 55,
   "metadata": {
    "collapsed": false
   },
   "outputs": [
    {
     "name": "stdout",
     "output_type": "stream",
     "text": [
      "Float64Index([0.0, 1.0], dtype='float64')\n",
      "0     1950\n",
      "1    28335\n",
      "Name: FAMI_NEVERA, dtype: int64\n",
      "Elementos null/NaN 0\n",
      "__________________\n",
      "Elementos diferentes de null/NaN: 30285\n",
      "__________________\n",
      "(30285,)\n",
      "None\n"
     ]
    }
   ],
   "source": [
    "c = 'FAMI_NEVERA'\n",
    "print(data_2010[c].value_counts().sort_index().index)\n",
    "print(data_2010[c].value_counts().sort_index())\n",
    "print(missing_data(data_2010[c]))"
   ]
  },
  {
   "cell_type": "code",
   "execution_count": 56,
   "metadata": {
    "collapsed": false
   },
   "outputs": [
    {
     "name": "stdout",
     "output_type": "stream",
     "text": [
      "Float64Index([0.0, 1.0], dtype='float64')\n",
      "0    11687\n",
      "1    18598\n",
      "Name: FAMI_HORNO, dtype: int64\n",
      "Elementos null/NaN 0\n",
      "__________________\n",
      "Elementos diferentes de null/NaN: 30285\n",
      "__________________\n",
      "(30285,)\n",
      "None\n"
     ]
    }
   ],
   "source": [
    "c = 'FAMI_HORNO'\n",
    "print(data_2010[c].value_counts().sort_index().index)\n",
    "print(data_2010[c].value_counts().sort_index())\n",
    "print(missing_data(data_2010[c]))"
   ]
  },
  {
   "cell_type": "code",
   "execution_count": 57,
   "metadata": {
    "collapsed": false
   },
   "outputs": [
    {
     "name": "stdout",
     "output_type": "stream",
     "text": [
      "Float64Index([0.0, 1.0], dtype='float64')\n",
      "0     7460\n",
      "1    22825\n",
      "Name: FAMI_DVD, dtype: int64\n",
      "Elementos null/NaN 0\n",
      "__________________\n",
      "Elementos diferentes de null/NaN: 30285\n",
      "__________________\n",
      "(30285,)\n",
      "None\n"
     ]
    }
   ],
   "source": [
    "c = 'FAMI_DVD'\n",
    "print(data_2010[c].value_counts().sort_index().index)\n",
    "print(data_2010[c].value_counts().sort_index())\n",
    "print(missing_data(data_2010[c]))"
   ]
  },
  {
   "cell_type": "code",
   "execution_count": 58,
   "metadata": {
    "collapsed": false
   },
   "outputs": [
    {
     "name": "stdout",
     "output_type": "stream",
     "text": [
      "Float64Index([0.0, 1.0], dtype='float64')\n",
      "0    15928\n",
      "1    14357\n",
      "Name: FAMI_MICROONDAS, dtype: int64\n",
      "Elementos null/NaN 0\n",
      "__________________\n",
      "Elementos diferentes de null/NaN: 30285\n",
      "__________________\n",
      "(30285,)\n",
      "None\n"
     ]
    }
   ],
   "source": [
    "c = 'FAMI_MICROONDAS'\n",
    "print(data_2010[c].value_counts().sort_index().index)\n",
    "print(data_2010[c].value_counts().sort_index())\n",
    "print(missing_data(data_2010[c]))"
   ]
  },
  {
   "cell_type": "code",
   "execution_count": 59,
   "metadata": {
    "collapsed": false
   },
   "outputs": [
    {
     "name": "stdout",
     "output_type": "stream",
     "text": [
      "Float64Index([0.0, 1.0], dtype='float64')\n",
      "0    18302\n",
      "1    11983\n",
      "Name: FAMI_AUTOMOVIL, dtype: int64\n",
      "Elementos null/NaN 0\n",
      "__________________\n",
      "Elementos diferentes de null/NaN: 30285\n",
      "__________________\n",
      "(30285,)\n",
      "None\n"
     ]
    }
   ],
   "source": [
    "c = 'FAMI_AUTOMOVIL'\n",
    "print(data_2010[c].value_counts().sort_index().index)\n",
    "print(data_2010[c].value_counts().sort_index())\n",
    "print(missing_data(data_2010[c]))"
   ]
  },
  {
   "cell_type": "code",
   "execution_count": 60,
   "metadata": {
    "collapsed": false
   },
   "outputs": [
    {
     "name": "stdout",
     "output_type": "stream",
     "text": [
      "Float64Index([1.0, 2.0, 3.0, 4.0, 5.0, 6.0, 7.0], dtype='float64')\n",
      "1     4234\n",
      "2    11199\n",
      "3     5096\n",
      "4     3342\n",
      "5     1783\n",
      "6     1488\n",
      "7     3143\n",
      "Name: FAMI_INGRESO_FMILIAR_MENSUAL, dtype: int64\n",
      "Elementos null/NaN 0\n",
      "__________________\n",
      "Elementos diferentes de null/NaN: 30285\n",
      "__________________\n",
      "(30285,)\n",
      "None\n"
     ]
    }
   ],
   "source": [
    "c = 'FAMI_INGRESO_FMILIAR_MENSUAL'\n",
    "print(data_2010[c].value_counts().sort_index().index)\n",
    "print(data_2010[c].value_counts().sort_index())\n",
    "print(missing_data(data_2010[c]))"
   ]
  },
  {
   "cell_type": "code",
   "execution_count": 61,
   "metadata": {
    "collapsed": false
   },
   "outputs": [
    {
     "name": "stdout",
     "output_type": "stream",
     "text": [
      "Float64Index([0.0, 1.0, 2.0, 3.0, 4.0, 5.0, 6.0, 7.0], dtype='float64')\n",
      "0    24352\n",
      "1        2\n",
      "2        1\n",
      "3       63\n",
      "4       33\n",
      "5       57\n",
      "6     1860\n",
      "7     3871\n",
      "Name: ESTU_TRABAJA, dtype: int64\n",
      "Elementos null/NaN 46\n",
      "__________________\n",
      "Elementos diferentes de null/NaN: 30239\n",
      "__________________\n",
      "(30239,)\n",
      "None\n"
     ]
    }
   ],
   "source": [
    "c = 'ESTU_TRABAJA'\n",
    "print(data_2010[c].value_counts().sort_index().index)\n",
    "print(data_2010[c].value_counts().sort_index())\n",
    "print(missing_data(data_2010[c]))"
   ]
  },
  {
   "cell_type": "code",
   "execution_count": 62,
   "metadata": {
    "collapsed": false
   },
   "outputs": [
    {
     "name": "stdout",
     "output_type": "stream",
     "text": [
      "cant null antes: 46\n",
      "cant null despues: 0\n"
     ]
    },
    {
     "name": "stderr",
     "output_type": "stream",
     "text": [
      "/usr/local/lib/python3.4/dist-packages/pandas/core/index.py:1148: VisibleDeprecationWarning: using a non-integer number instead of an integer will result in an error in the future\n",
      "  return promote(getitem(key))\n"
     ]
    }
   ],
   "source": [
    "Do_resamples(data_2010, 'ESTU_TRABAJA', float)"
   ]
  },
  {
   "cell_type": "code",
   "execution_count": 63,
   "metadata": {
    "collapsed": false,
    "scrolled": false
   },
   "outputs": [
    {
     "name": "stdout",
     "output_type": "stream",
     "text": [
      "Float64Index([3.0, 4.0, 5.0, 6.0, 7.0, 8.0, 10.0, 11.0, 12.0, 15.0, 16.0, 18.0,\n",
      "              20.0],\n",
      "             dtype='float64')\n",
      "3      1\n",
      "4      3\n",
      "5      2\n",
      "6      2\n",
      "7      1\n",
      "8     10\n",
      "10    10\n",
      "11     1\n",
      "12     3\n",
      "15     2\n",
      "16     3\n",
      "18     3\n",
      "20    80\n",
      "Name: ESTU_HORAS_TRABAJA, dtype: int64\n",
      "Elementos null/NaN 30164\n",
      "__________________\n",
      "Elementos diferentes de null/NaN: 121\n",
      "__________________\n",
      "(121,)\n",
      "None\n"
     ]
    }
   ],
   "source": [
    "c = 'ESTU_HORAS_TRABAJA'\n",
    "print(data_2010[c].value_counts().sort_index().index)\n",
    "print(data_2010[c].value_counts().sort_index())\n",
    "print(missing_data(data_2010[c]))"
   ]
  },
  {
   "cell_type": "code",
   "execution_count": 64,
   "metadata": {
    "collapsed": false
   },
   "outputs": [
    {
     "name": "stdout",
     "output_type": "stream",
     "text": [
      "cant null antes: 30164\n",
      "cant null despues: 0\n"
     ]
    },
    {
     "name": "stderr",
     "output_type": "stream",
     "text": [
      "/usr/local/lib/python3.4/dist-packages/pandas/core/index.py:1148: VisibleDeprecationWarning: using a non-integer number instead of an integer will result in an error in the future\n",
      "  return promote(getitem(key))\n"
     ]
    }
   ],
   "source": [
    "Do_resamples(data_2010, 'ESTU_HORAS_TRABAJA', float)"
   ]
  },
  {
   "cell_type": "code",
   "execution_count": 65,
   "metadata": {
    "collapsed": false,
    "scrolled": true
   },
   "outputs": [
    {
     "name": "stdout",
     "output_type": "stream",
     "text": [
      "Float64Index([0.0, 1.0, 5.0, 8.0, 9.0, 10.0, 11.0, 12.0], dtype='float64')\n",
      "0     7327\n",
      "1        3\n",
      "5        1\n",
      "8     9870\n",
      "9     2084\n",
      "10    1440\n",
      "11    2760\n",
      "12    6783\n",
      "Name: COLE_VALOR_PENSION, dtype: int64\n",
      "Elementos null/NaN 17\n",
      "__________________\n",
      "Elementos diferentes de null/NaN: 30268\n",
      "__________________\n",
      "(30268,)\n",
      "None\n"
     ]
    }
   ],
   "source": [
    "c = 'COLE_VALOR_PENSION'\n",
    "print(data_2010[c].value_counts().sort_index().index)\n",
    "print(data_2010[c].value_counts().sort_index())\n",
    "print(missing_data(data_2010[c]))"
   ]
  },
  {
   "cell_type": "code",
   "execution_count": 66,
   "metadata": {
    "collapsed": false
   },
   "outputs": [
    {
     "name": "stdout",
     "output_type": "stream",
     "text": [
      "cant null antes: 17\n",
      "cant null despues: 0\n"
     ]
    },
    {
     "name": "stderr",
     "output_type": "stream",
     "text": [
      "/usr/local/lib/python3.4/dist-packages/pandas/core/index.py:1148: VisibleDeprecationWarning: using a non-integer number instead of an integer will result in an error in the future\n",
      "  return promote(getitem(key))\n"
     ]
    }
   ],
   "source": [
    "Do_resamples(data_2010, 'COLE_VALOR_PENSION', float)"
   ]
  },
  {
   "cell_type": "code",
   "execution_count": 67,
   "metadata": {
    "collapsed": false
   },
   "outputs": [
    {
     "name": "stdout",
     "output_type": "stream",
     "text": [
      "Float64Index([1993.0, 2006.0, 2009.0, 2010.0, 2011.0, 2012.0], dtype='float64')\n",
      "1993        1\n",
      "2006        1\n",
      "2009       28\n",
      "2010    30214\n",
      "2011       29\n",
      "2012        3\n",
      "Name: IND_ANNO_TERMINO_BACHILLERATO, dtype: int64\n",
      "Elementos null/NaN 9\n",
      "__________________\n",
      "Elementos diferentes de null/NaN: 30276\n",
      "__________________\n",
      "(30276,)\n",
      "None\n"
     ]
    }
   ],
   "source": [
    "c = 'IND_ANNO_TERMINO_BACHILLERATO'\n",
    "print(data_2010[c].value_counts().sort_index().index)\n",
    "print(data_2010[c].value_counts().sort_index())\n",
    "print(missing_data(data_2010[c]))"
   ]
  },
  {
   "cell_type": "code",
   "execution_count": 68,
   "metadata": {
    "collapsed": true
   },
   "outputs": [],
   "source": [
    "idx = data_2010[data_2010['IND_ANNO_TERMINO_BACHILLERATO'].isnull()].index\n",
    "data_2010 = data_2010.drop(idx)"
   ]
  },
  {
   "cell_type": "code",
   "execution_count": 69,
   "metadata": {
    "collapsed": false
   },
   "outputs": [
    {
     "name": "stdout",
     "output_type": "stream",
     "text": [
      "Float64Index([1.0, 2.0, 3.0, 4.0, 5.0, 6.0, 7.0, 8.0, 9.0, 10.0, 11.0, 12.0], dtype='float64')\n",
      "1       279\n",
      "2       382\n",
      "3      1233\n",
      "4      1995\n",
      "5      1357\n",
      "6     15465\n",
      "7      6405\n",
      "8      1427\n",
      "9       261\n",
      "10      290\n",
      "11      198\n",
      "12      526\n",
      "Name: IND_MES_TERMINO_BACHILLERATO, dtype: int64\n",
      "Elementos null/NaN 458\n",
      "__________________\n",
      "Elementos diferentes de null/NaN: 29818\n",
      "__________________\n",
      "(29818,)\n",
      "None\n"
     ]
    }
   ],
   "source": [
    "c = 'IND_MES_TERMINO_BACHILLERATO'\n",
    "print(data_2010[c].value_counts().sort_index().index)\n",
    "print(data_2010[c].value_counts().sort_index())\n",
    "print(missing_data(data_2010[c]))"
   ]
  },
  {
   "cell_type": "code",
   "execution_count": 70,
   "metadata": {
    "collapsed": false
   },
   "outputs": [
    {
     "name": "stdout",
     "output_type": "stream",
     "text": [
      "cant null antes: 458\n",
      "cant null despues: 0\n"
     ]
    },
    {
     "name": "stderr",
     "output_type": "stream",
     "text": [
      "/usr/local/lib/python3.4/dist-packages/pandas/core/index.py:1148: VisibleDeprecationWarning: using a non-integer number instead of an integer will result in an error in the future\n",
      "  return promote(getitem(key))\n"
     ]
    }
   ],
   "source": [
    "Do_resamples(data_2010, 'IND_MES_TERMINO_BACHILLERATO', float)"
   ]
  },
  {
   "cell_type": "code",
   "execution_count": 71,
   "metadata": {
    "collapsed": false
   },
   "outputs": [
    {
     "name": "stdout",
     "output_type": "stream",
     "text": [
      "Float64Index([1.0], dtype='float64')\n",
      "1    1943\n",
      "Name: IND_TERMINO_BACHILLERATO, dtype: int64\n",
      "Elementos null/NaN 28333\n",
      "__________________\n",
      "Elementos diferentes de null/NaN: 1943\n",
      "__________________\n",
      "(1943,)\n",
      "None\n"
     ]
    }
   ],
   "source": [
    "c = 'IND_TERMINO_BACHILLERATO'\n",
    "print(data_2010[c].value_counts().sort_index().index)\n",
    "print(data_2010[c].value_counts().sort_index())\n",
    "print(missing_data(data_2010[c]))"
   ]
  },
  {
   "cell_type": "code",
   "execution_count": 72,
   "metadata": {
    "collapsed": true
   },
   "outputs": [],
   "source": [
    "data_2010 = data_2010.drop(['IND_TERMINO_BACHILLERATO'], axis=1)"
   ]
  },
  {
   "cell_type": "code",
   "execution_count": 73,
   "metadata": {
    "collapsed": false,
    "scrolled": true
   },
   "outputs": [
    {
     "name": "stdout",
     "output_type": "stream",
     "text": [
      "Float64Index([     2.0,      3.0,    182.0,    638.0,   3046.0,   3327.0,\n",
      "                3418.0,   3459.0,   3525.0,   4234.0,\n",
      "              ...\n",
      "              167205.0, 168161.0, 168500.0, 169664.0, 170381.0, 170449.0,\n",
      "              172098.0, 172734.0, 174003.0, 999999.0],\n",
      "             dtype='float64', length=1154)\n",
      "2           1\n",
      "3          58\n",
      "182       113\n",
      "638       186\n",
      "3046       57\n",
      "3327        7\n",
      "3418       38\n",
      "3459       82\n",
      "3525       74\n",
      "4234       45\n",
      "6023      110\n",
      "6775       12\n",
      "7013       53\n",
      "7054        6\n",
      "7070       73\n",
      "7088       48\n",
      "7682        1\n",
      "8581       10\n",
      "9110       96\n",
      "9910        2\n",
      "9985        9\n",
      "9993       48\n",
      "10009       1\n",
      "10017       2\n",
      "10041       1\n",
      "11239      82\n",
      "11254      32\n",
      "11262      76\n",
      "11270      82\n",
      "11288     103\n",
      "         ... \n",
      "150128      8\n",
      "150136     29\n",
      "150185      1\n",
      "150235      1\n",
      "150243     19\n",
      "150359      6\n",
      "150391     22\n",
      "150409     21\n",
      "150458     36\n",
      "150474      1\n",
      "150482      3\n",
      "150516     38\n",
      "150581     18\n",
      "151373      1\n",
      "152660      1\n",
      "156455      1\n",
      "156554      1\n",
      "159533      1\n",
      "163022      1\n",
      "164129      1\n",
      "167205      1\n",
      "168161      2\n",
      "168500      1\n",
      "169664      1\n",
      "170381      1\n",
      "170449      1\n",
      "172098      1\n",
      "172734      1\n",
      "174003      1\n",
      "999999     30\n",
      "Name: IND_COD_ICFES_TERMINO, dtype: int64\n",
      "Elementos null/NaN 151\n",
      "__________________\n",
      "Elementos diferentes de null/NaN: 30125\n",
      "__________________\n",
      "(30125,)\n",
      "None\n"
     ]
    }
   ],
   "source": [
    "c = 'IND_COD_ICFES_TERMINO'\n",
    "print(data_2010[c].value_counts().sort_index().index)\n",
    "print(data_2010[c].value_counts().sort_index())\n",
    "print(missing_data(data_2010[c]))"
   ]
  },
  {
   "cell_type": "code",
   "execution_count": 74,
   "metadata": {
    "collapsed": false
   },
   "outputs": [
    {
     "name": "stdout",
     "output_type": "stream",
     "text": [
      "cant null antes: 151\n",
      "cant null despues: 103\n",
      "cant null antes: 103\n",
      "cant null despues: 55\n",
      "cant null antes: 55\n",
      "cant null despues: 7\n",
      "cant null antes: 7\n",
      "cant null despues: 0\n"
     ]
    },
    {
     "name": "stderr",
     "output_type": "stream",
     "text": [
      "/usr/local/lib/python3.4/dist-packages/pandas/core/index.py:1148: VisibleDeprecationWarning: using a non-integer number instead of an integer will result in an error in the future\n",
      "  return promote(getitem(key))\n"
     ]
    }
   ],
   "source": [
    "Do_resamples(data_2010, 'IND_COD_ICFES_TERMINO', float)"
   ]
  },
  {
   "cell_type": "code",
   "execution_count": 75,
   "metadata": {
    "collapsed": false,
    "scrolled": true
   },
   "outputs": [
    {
     "name": "stdout",
     "output_type": "stream",
     "text": [
      "Int64Index([   182,    638,   3046,   3327,   3418,   3459,   3525,   4234,\n",
      "              6023,   6775,\n",
      "            ...\n",
      "            150128, 150136, 150243, 150359, 150391, 150409, 150458, 150482,\n",
      "            150516, 150581],\n",
      "           dtype='int64', length=1011)\n",
      "182       113\n",
      "638       189\n",
      "3046       57\n",
      "3327        7\n",
      "3418       38\n",
      "3459       82\n",
      "3525       74\n",
      "4234       45\n",
      "6023      115\n",
      "6775       12\n",
      "7013       53\n",
      "7054        6\n",
      "7070       73\n",
      "7088       49\n",
      "8581       10\n",
      "9985        9\n",
      "11239      82\n",
      "11254      33\n",
      "11262      77\n",
      "11270      83\n",
      "11288     103\n",
      "11312     162\n",
      "11452      64\n",
      "11460      39\n",
      "11478      24\n",
      "11627      44\n",
      "11635      38\n",
      "11684      23\n",
      "11692      34\n",
      "11700      26\n",
      "         ... \n",
      "148288      6\n",
      "148833      6\n",
      "149328     49\n",
      "149476      8\n",
      "149492      3\n",
      "149559     10\n",
      "149625      8\n",
      "149682     25\n",
      "149690     14\n",
      "149781      6\n",
      "149799      8\n",
      "149849      6\n",
      "149856      2\n",
      "149864     13\n",
      "149872      1\n",
      "149898      8\n",
      "149948      3\n",
      "149997      6\n",
      "150029     94\n",
      "150037     44\n",
      "150128     10\n",
      "150136     35\n",
      "150243     20\n",
      "150359      7\n",
      "150391     22\n",
      "150409     21\n",
      "150458     36\n",
      "150482      3\n",
      "150516     38\n",
      "150581     18\n",
      "Name: COLE_COD_ICFES, dtype: int64\n",
      "Elementos null/NaN 0\n",
      "__________________\n",
      "Elementos diferentes de null/NaN: 30276\n",
      "__________________\n",
      "(30276,)\n",
      "None\n"
     ]
    }
   ],
   "source": [
    "c = 'COLE_COD_ICFES'\n",
    "print(data_2010[c].value_counts().sort_index().index)\n",
    "print(data_2010[c].value_counts().sort_index())\n",
    "print(missing_data(data_2010[c]))"
   ]
  },
  {
   "cell_type": "code",
   "execution_count": 76,
   "metadata": {
    "collapsed": false,
    "scrolled": true
   },
   "outputs": [
    {
     "name": "stdout",
     "output_type": "stream",
     "text": [
      "Index(['            ', '010500103391', '034100105808', '051100116867',\n",
      "       '105001000566', '105001002071', '105001003387', '105001003395',\n",
      "       '105001003425', '105001024571',\n",
      "       ...\n",
      "       '576001091472', '576622134546', '625214000001', '625269000075',\n",
      "       '625269000082', '625269000084', '625286000041', '625899000007',\n",
      "       '625899000017', '818001100015'],\n",
      "      dtype='object', length=936)\n",
      "                550\n",
      "010500103391     38\n",
      "034100105808     14\n",
      "051100116867      3\n",
      "105001000566     18\n",
      "105001002071      8\n",
      "105001003387     19\n",
      "105001003395     56\n",
      "105001003425     17\n",
      "105001024571    289\n",
      "105088001512     50\n",
      "105088002993     10\n",
      "105088003175     23\n",
      "105628000227      8\n",
      "105667000013     18\n",
      "105893001685      4\n",
      "108001003289      8\n",
      "111001009971     21\n",
      "111001010031     27\n",
      "111001010839     28\n",
      "111001011029      8\n",
      "111001012360     23\n",
      "111001013129     32\n",
      "111001034134     26\n",
      "111001036781     27\n",
      "111001092410     68\n",
      "111001098876     20\n",
      "111001098884     46\n",
      "111001098965     17\n",
      "111001102148     18\n",
      "               ... \n",
      "476130000961      9\n",
      "476130001186     11\n",
      "476130001208     25\n",
      "476233002003     13\n",
      "476248000478     82\n",
      "476248000648      7\n",
      "476248032012     33\n",
      "476520003791     12\n",
      "476520005646      4\n",
      "476520006324     10\n",
      "476520007207     95\n",
      "476892001183     13\n",
      "476892099710     11\n",
      "476892099728     12\n",
      "476895000382     35\n",
      "519001000002     25\n",
      "525899000016     39\n",
      "550711000002      6\n",
      "568001009690      6\n",
      "568432001200     25\n",
      "576001091472     21\n",
      "576622134546     31\n",
      "625214000001     28\n",
      "625269000075     27\n",
      "625269000082     24\n",
      "625269000084      4\n",
      "625286000041     51\n",
      "625899000007      3\n",
      "625899000017     26\n",
      "818001100015      1\n",
      "Name: COLE_COD_DANE_INSTITUCION, dtype: int64\n",
      "Elementos null/NaN 79\n",
      "__________________\n",
      "Elementos diferentes de null/NaN: 30197\n",
      "__________________\n",
      "(30197,)\n",
      "None\n"
     ]
    }
   ],
   "source": [
    "c = 'COLE_COD_DANE_INSTITUCION'\n",
    "print(data_2010[c].value_counts().sort_index().index)\n",
    "print(data_2010[c].value_counts().sort_index())\n",
    "print(missing_data(data_2010[c]))"
   ]
  },
  {
   "cell_type": "code",
   "execution_count": 77,
   "metadata": {
    "collapsed": false
   },
   "outputs": [
    {
     "name": "stdout",
     "output_type": "stream",
     "text": [
      "cant null antes: 629\n",
      "cant null despues: 71\n",
      "cant null antes: 71\n",
      "cant null despues: 0\n"
     ]
    },
    {
     "name": "stderr",
     "output_type": "stream",
     "text": [
      "/usr/local/lib/python3.4/dist-packages/pandas/core/index.py:1148: VisibleDeprecationWarning: using a non-integer number instead of an integer will result in an error in the future\n",
      "  return promote(getitem(key))\n"
     ]
    }
   ],
   "source": [
    "data_2010['COLE_COD_DANE_INSTITUCION'] = data_2010['COLE_COD_DANE_INSTITUCION'].replace('            ', np.nan)\n",
    "Do_resamples(data_2010, 'COLE_COD_DANE_INSTITUCION', str)"
   ]
  },
  {
   "cell_type": "code",
   "execution_count": 78,
   "metadata": {
    "collapsed": false
   },
   "outputs": [
    {
     "name": "stdout",
     "output_type": "stream",
     "text": [
      "Index(['A', 'B', 'F'], dtype='object')\n",
      "A     3177\n",
      "B    11637\n",
      "F    15462\n",
      "Name: COLE_CALENDARIO, dtype: int64\n",
      "Elementos null/NaN 0\n",
      "__________________\n",
      "Elementos diferentes de null/NaN: 30276\n",
      "__________________\n",
      "(30276,)\n",
      "None\n"
     ]
    }
   ],
   "source": [
    "c = 'COLE_CALENDARIO'\n",
    "print(data_2010[c].value_counts().sort_index().index)\n",
    "print(data_2010[c].value_counts().sort_index())\n",
    "print(missing_data(data_2010[c]))"
   ]
  },
  {
   "cell_type": "code",
   "execution_count": 79,
   "metadata": {
    "collapsed": false
   },
   "outputs": [
    {
     "name": "stdout",
     "output_type": "stream",
     "text": [
      "Index(['F', 'M', 'X'], dtype='object')\n",
      "F     1901\n",
      "M      894\n",
      "X    27481\n",
      "Name: COLE_GENERO, dtype: int64\n",
      "Elementos null/NaN 0\n",
      "__________________\n",
      "Elementos diferentes de null/NaN: 30276\n",
      "__________________\n",
      "(30276,)\n",
      "None\n"
     ]
    }
   ],
   "source": [
    "c = 'COLE_GENERO'\n",
    "print(data_2010[c].value_counts().sort_index().index)\n",
    "print(data_2010[c].value_counts().sort_index())\n",
    "print(missing_data(data_2010[c]))"
   ]
  },
  {
   "cell_type": "code",
   "execution_count": 80,
   "metadata": {
    "collapsed": false
   },
   "outputs": [
    {
     "name": "stdout",
     "output_type": "stream",
     "text": [
      "Index(['N', 'O'], dtype='object')\n",
      "N    28608\n",
      "O     1668\n",
      "Name: COLE_NATURALEZA, dtype: int64\n",
      "Elementos null/NaN 0\n",
      "__________________\n",
      "Elementos diferentes de null/NaN: 30276\n",
      "__________________\n",
      "(30276,)\n",
      "None\n"
     ]
    }
   ],
   "source": [
    "c = 'COLE_NATURALEZA'\n",
    "print(data_2010[c].value_counts().sort_index().index)\n",
    "print(data_2010[c].value_counts().sort_index())\n",
    "print(missing_data(data_2010[c]))"
   ]
  },
  {
   "cell_type": "code",
   "execution_count": 81,
   "metadata": {
    "collapsed": false
   },
   "outputs": [
    {
     "name": "stdout",
     "output_type": "stream",
     "text": [
      "Float64Index([0.0, 1.0], dtype='float64')\n",
      "0    23066\n",
      "1     3614\n",
      "Name: COLE_BILINGUE, dtype: int64\n",
      "Elementos null/NaN 3596\n",
      "__________________\n",
      "Elementos diferentes de null/NaN: 26680\n",
      "__________________\n",
      "(26680,)\n",
      "None\n"
     ]
    }
   ],
   "source": [
    "c = 'COLE_BILINGUE'\n",
    "print(data_2010[c].value_counts().sort_index().index)\n",
    "print(data_2010[c].value_counts().sort_index())\n",
    "print(missing_data(data_2010[c]))"
   ]
  },
  {
   "cell_type": "code",
   "execution_count": 82,
   "metadata": {
    "collapsed": false
   },
   "outputs": [
    {
     "name": "stdout",
     "output_type": "stream",
     "text": [
      "cant null antes: 3596\n",
      "cant null despues: 0\n"
     ]
    },
    {
     "name": "stderr",
     "output_type": "stream",
     "text": [
      "/usr/local/lib/python3.4/dist-packages/pandas/core/index.py:1148: VisibleDeprecationWarning: using a non-integer number instead of an integer will result in an error in the future\n",
      "  return promote(getitem(key))\n"
     ]
    }
   ],
   "source": [
    "Do_resamples(data_2010, 'COLE_BILINGUE', float)"
   ]
  },
  {
   "cell_type": "code",
   "execution_count": 83,
   "metadata": {
    "collapsed": false
   },
   "outputs": [
    {
     "name": "stdout",
     "output_type": "stream",
     "text": [
      "Index(['COMPLETA U ORDINARIA', 'MAÑANA', 'NOCHE', 'SABATINA - DOMINICAL',\n",
      "       'TARDE'],\n",
      "      dtype='object')\n",
      "COMPLETA U ORDINARIA    9556\n",
      "MAÑANA                  9529\n",
      "NOCHE                   4765\n",
      "SABATINA - DOMINICAL    5435\n",
      "TARDE                    991\n",
      "Name: COLE_JORNADA, dtype: int64\n",
      "Elementos null/NaN 0\n",
      "__________________\n",
      "Elementos diferentes de null/NaN: 30276\n",
      "__________________\n",
      "(30276,)\n",
      "None\n"
     ]
    }
   ],
   "source": [
    "c = 'COLE_JORNADA'\n",
    "print(data_2010[c].value_counts().sort_index().index)\n",
    "print(data_2010[c].value_counts().sort_index())\n",
    "print(missing_data(data_2010[c]))"
   ]
  },
  {
   "cell_type": "code",
   "execution_count": 84,
   "metadata": {
    "collapsed": false
   },
   "outputs": [
    {
     "name": "stdout",
     "output_type": "stream",
     "text": [
      "Index(['ACADEMICO', 'ACADEMICO Y TECNICO', 'NORMALISTA', 'TECNICO'], dtype='object')\n",
      "ACADEMICO              24925\n",
      "ACADEMICO Y TECNICO     2434\n",
      "NORMALISTA                 4\n",
      "TECNICO                 2913\n",
      "Name: COLE_CARACTER, dtype: int64\n",
      "Elementos null/NaN 0\n",
      "__________________\n",
      "Elementos diferentes de null/NaN: 30276\n",
      "__________________\n",
      "(30276,)\n",
      "None\n"
     ]
    }
   ],
   "source": [
    "c = 'COLE_CARACTER'\n",
    "print(data_2010[c].value_counts().sort_index().index)\n",
    "print(data_2010[c].value_counts().sort_index())\n",
    "print(missing_data(data_2010[c]))"
   ]
  },
  {
   "cell_type": "code",
   "execution_count": 85,
   "metadata": {
    "collapsed": false
   },
   "outputs": [
    {
     "name": "stdout",
     "output_type": "stream",
     "text": [
      "Float64Index([0.0, 1.0, 2.0, 3.0, 4.0], dtype='float64')\n",
      "0    23709\n",
      "1     5357\n",
      "2      972\n",
      "3      236\n",
      "4        2\n",
      "Name: ESTU_VECES_ESTADO, dtype: int64\n",
      "Elementos null/NaN 0\n",
      "__________________\n",
      "Elementos diferentes de null/NaN: 30276\n",
      "__________________\n",
      "(30276,)\n",
      "None\n"
     ]
    }
   ],
   "source": [
    "c = 'ESTU_VECES_ESTADO'\n",
    "print(data_2010[c].value_counts().sort_index().index)\n",
    "print(data_2010[c].value_counts().sort_index())\n",
    "print(missing_data(data_2010[c]))"
   ]
  },
  {
   "cell_type": "code",
   "execution_count": 86,
   "metadata": {
    "collapsed": false,
    "scrolled": true
   },
   "outputs": [
    {
     "name": "stdout",
     "output_type": "stream",
     "text": [
      "Index(['AGUACHICA', 'ALBANIA', 'APARTADO', 'ARAUCA', 'ARMENIA',\n",
      "       'BARRANCABERMEJA', 'BARRANQUILLA', 'BELLO', 'BOGOTÁ D.C.',\n",
      "       'BUCARAMANGA', 'BUENAVENTURA', 'BUGA', 'CALI', 'CARTAGENA', 'CARTAGO',\n",
      "       'CAUCASIA', 'CHAPARRAL', 'CHIA', 'CUCUTA', 'EL TAMBO', 'ESPINAL',\n",
      "       'FACATATIVA', 'FLORENCIA', 'FUSAGASUGA', 'GARZON', 'GIRARDOT',\n",
      "       'GRANADA', 'GUAMO', 'IBAGUE', 'INIRIDA', 'IPIALES', 'LA DORADA',\n",
      "       'MAGANGUE', 'MAICAO', 'MALAGA', 'MANIZALES', 'MEDELLIN', 'MITU',\n",
      "       'MOCOA', 'MONIQUIRA', 'MONTELIBANO', 'MONTERIA', 'NEIVA', 'OCAÑA',\n",
      "       'PALMIRA', 'PAMPLONA', 'PASTO', 'PATIA(EL BORDO)', 'PAZ DE ARIPORO',\n",
      "       'PEREIRA', 'PITALITO', 'POPAYAN', 'PUERTO ASIS', 'PUERTO CARREÑO',\n",
      "       'PUERTO TEJADA', 'QUIBDO', 'RIOHACHA', 'RIONEGRO', 'ROLDANILLO',\n",
      "       'SAN GIL', 'SAN JOSE DEL GUAVIARE', 'SANTA MARTA', 'SANTA ROSA DE OSOS',\n",
      "       'SANTANDER DE QUILICHAO', 'SEVILLA', 'SIBUNDOY', 'SILVIA', 'SOACHA',\n",
      "       'SOCORRO', 'SOGAMOSO', 'TAME', 'TULUA', 'TUMACO', 'TUNJA', 'VALLEDUPAR',\n",
      "       'VELEZ', 'VILLA DE LEYVA', 'VILLAVICENCIO', 'YOPAL', 'YUMBO', 'ZARZAL',\n",
      "       'ZIPAQUIRA'],\n",
      "      dtype='object')\n",
      "AGUACHICA                   41\n",
      "ALBANIA                     61\n",
      "APARTADO                   228\n",
      "ARAUCA                      25\n",
      "ARMENIA                    156\n",
      "BARRANCABERMEJA             73\n",
      "BARRANQUILLA               702\n",
      "BELLO                      433\n",
      "BOGOTÁ D.C.               6491\n",
      "BUCARAMANGA                674\n",
      "BUENAVENTURA               143\n",
      "BUGA                       380\n",
      "CALI                      7642\n",
      "CARTAGENA                  303\n",
      "CARTAGO                    343\n",
      "CAUCASIA                    17\n",
      "CHAPARRAL                  103\n",
      "CHIA                       343\n",
      "CUCUTA                     136\n",
      "EL TAMBO                    18\n",
      "ESPINAL                     18\n",
      "FACATATIVA                 180\n",
      "FLORENCIA                  100\n",
      "FUSAGASUGA                  69\n",
      "GARZON                     147\n",
      "GIRARDOT                    41\n",
      "GRANADA                     32\n",
      "GUAMO                       52\n",
      "IBAGUE                     292\n",
      "INIRIDA                     36\n",
      "                          ... \n",
      "PUERTO ASIS                 72\n",
      "PUERTO CARREÑO               1\n",
      "PUERTO TEJADA               59\n",
      "QUIBDO                       7\n",
      "RIOHACHA                    25\n",
      "RIONEGRO                   787\n",
      "ROLDANILLO                  47\n",
      "SAN GIL                     15\n",
      "SAN JOSE DEL GUAVIARE       27\n",
      "SANTA MARTA                 92\n",
      "SANTA ROSA DE OSOS          58\n",
      "SANTANDER DE QUILICHAO     172\n",
      "SEVILLA                      7\n",
      "SIBUNDOY                     1\n",
      "SILVIA                       1\n",
      "SOACHA                     204\n",
      "SOCORRO                     13\n",
      "SOGAMOSO                   154\n",
      "TAME                        16\n",
      "TULUA                       58\n",
      "TUMACO                       2\n",
      "TUNJA                      198\n",
      "VALLEDUPAR                 143\n",
      "VELEZ                       57\n",
      "VILLA DE LEYVA               3\n",
      "VILLAVICENCIO              273\n",
      "YOPAL                      257\n",
      "YUMBO                       85\n",
      "ZARZAL                      44\n",
      "ZIPAQUIRA                  125\n",
      "Name: ESTU_MCPIO_PRESENTACION, dtype: int64\n",
      "Elementos null/NaN 0\n",
      "__________________\n",
      "Elementos diferentes de null/NaN: 30276\n",
      "__________________\n",
      "(30276,)\n",
      "None\n"
     ]
    }
   ],
   "source": [
    "c = 'ESTU_MCPIO_PRESENTACION'\n",
    "print(data_2010[c].value_counts().sort_index().index)\n",
    "print(data_2010[c].value_counts().sort_index())\n",
    "print(missing_data(data_2010[c]))"
   ]
  },
  {
   "cell_type": "code",
   "execution_count": 87,
   "metadata": {
    "collapsed": false,
    "scrolled": true
   },
   "outputs": [
    {
     "name": "stdout",
     "output_type": "stream",
     "text": [
      "Index(['ANTIOQUIA', 'ARAUCA', 'ATLÁNTICO', 'BOGOTÁ', 'BOLÍVAR', 'BOYACÁ',\n",
      "       'CALDAS', 'CAQUETÁ', 'CASANARE', 'CAUCA', 'CESAR', 'CHOCÓ',\n",
      "       'CUNDINAMARCA', 'CÓRDOBA', 'GUAINÍA', 'GUAVIARE', 'HUILA', 'LA GUAJIRA',\n",
      "       'MAGDALENA', 'META', 'NARIÑO', 'NORTE SANTANDER', 'PUTUMAYO', 'QUINDÍO',\n",
      "       'RISARALDA', 'SANTANDER', 'TOLIMA', 'VALLE', 'VAUPÉS', 'VICHADA'],\n",
      "      dtype='object')\n",
      "ANTIOQUIA          5108\n",
      "ARAUCA               41\n",
      "ATLÁNTICO           702\n",
      "BOGOTÁ             6491\n",
      "BOLÍVAR             313\n",
      "BOYACÁ              449\n",
      "CALDAS              476\n",
      "CAQUETÁ             100\n",
      "CASANARE            268\n",
      "CAUCA              1114\n",
      "CESAR               184\n",
      "CHOCÓ                 7\n",
      "CUNDINAMARCA        962\n",
      "CÓRDOBA              41\n",
      "GUAINÍA              36\n",
      "GUAVIARE             27\n",
      "HUILA               370\n",
      "LA GUAJIRA          114\n",
      "MAGDALENA            92\n",
      "META                305\n",
      "NARIÑO             1291\n",
      "NORTE SANTANDER     157\n",
      "PUTUMAYO            106\n",
      "QUINDÍO             156\n",
      "RISARALDA           271\n",
      "SANTANDER           858\n",
      "TOLIMA              465\n",
      "VALLE              9764\n",
      "VAUPÉS                7\n",
      "VICHADA               1\n",
      "Name: ESTU_DEPTO_PRESENTACION, dtype: int64\n",
      "Elementos null/NaN 0\n",
      "__________________\n",
      "Elementos diferentes de null/NaN: 30276\n",
      "__________________\n",
      "(30276,)\n",
      "None\n"
     ]
    }
   ],
   "source": [
    "c = 'ESTU_DEPTO_PRESENTACION'\n",
    "print(data_2010[c].value_counts().sort_index().index)\n",
    "print(data_2010[c].value_counts().sort_index())\n",
    "print(missing_data(data_2010[c]))"
   ]
  },
  {
   "cell_type": "markdown",
   "metadata": {},
   "source": [
    "## TARGETS"
   ]
  },
  {
   "cell_type": "code",
   "execution_count": 88,
   "metadata": {
    "collapsed": false,
    "scrolled": true
   },
   "outputs": [
    {
     "name": "stdout",
     "output_type": "stream",
     "text": [
      "Index(['0', '19,25', '19,55', '27,17', '27,46', '32,13', '32,41', '35,89',\n",
      "       '36,17', '39,01', '39,27', '41,72', '41,98', '44,17', '44,42', '46,44',\n",
      "       '46,68', '48,57', '48,81', '50,62', '50,85', '52,61', '52,83', '54,57',\n",
      "       '54,79', '56,52', '56,74', '58,49', '58,71', '60,51', '60,74', '62,61',\n",
      "       '62,84', '64,83', '65,07', '67,22', '67,47', '69,87', '70,13', '72,91',\n",
      "       '73,19', '76,6', '76,89', '81,48', '81,79'],\n",
      "      dtype='object')\n",
      "0          11\n",
      "19,25      20\n",
      "19,55      21\n",
      "27,17      84\n",
      "27,46      91\n",
      "32,13     223\n",
      "32,41     292\n",
      "35,89     427\n",
      "36,17     610\n",
      "39,01     769\n",
      "39,27    1015\n",
      "41,72    1110\n",
      "41,98    1412\n",
      "44,17    1327\n",
      "44,42    1595\n",
      "46,44    1474\n",
      "46,68    1712\n",
      "48,57    1469\n",
      "48,81    1715\n",
      "50,62    1264\n",
      "50,85    1478\n",
      "52,61    1228\n",
      "52,83    1245\n",
      "54,57    1081\n",
      "54,79    1101\n",
      "56,52     875\n",
      "56,74     994\n",
      "58,49     785\n",
      "58,71     855\n",
      "60,51     662\n",
      "60,74     712\n",
      "62,61     499\n",
      "62,84     607\n",
      "64,83     359\n",
      "65,07     405\n",
      "67,22     229\n",
      "67,47     216\n",
      "69,87     100\n",
      "70,13     108\n",
      "72,91      35\n",
      "73,19      33\n",
      "76,6        9\n",
      "76,89      13\n",
      "81,48       2\n",
      "81,79       4\n",
      "Name: PUNT_LENGUAJE, dtype: int64\n",
      "Elementos null/NaN 0\n",
      "__________________\n",
      "Elementos diferentes de null/NaN: 30276\n",
      "__________________\n",
      "(30276,)\n",
      "None\n"
     ]
    }
   ],
   "source": [
    "c = 'PUNT_LENGUAJE'\n",
    "print(data_2010[c].value_counts().sort_index().index)\n",
    "print(data_2010[c].value_counts().sort_index())\n",
    "print(missing_data(data_2010[c]))"
   ]
  },
  {
   "cell_type": "code",
   "execution_count": 89,
   "metadata": {
    "collapsed": true
   },
   "outputs": [],
   "source": [
    "clean_target(data_2010, 'PUNT_LENGUAJE')"
   ]
  },
  {
   "cell_type": "code",
   "execution_count": 90,
   "metadata": {
    "collapsed": false,
    "scrolled": true
   },
   "outputs": [
    {
     "name": "stdout",
     "output_type": "stream",
     "text": [
      "Index(['0', '103,94', '104,09', '12,92', '120,23', '120,39', '13,38', '22,65',\n",
      "       '23,04', '28,78', '29,11', '33,46', '33,72', '37,36', '37,56', '40,78',\n",
      "       '40,93', '43,88', '43,99', '46,77', '46,84', '49,52', '49,55', '52,17',\n",
      "       '54,74', '54,77', '57,29', '57,34', '59,86', '59,93', '62,48', '62,56',\n",
      "       '65,19', '65,27', '68,03', '68,11', '71,05', '71,12', '74,33', '74,38',\n",
      "       '77,98', '78', '82,15', '82,16', '87,15', '87,21', '93,69', '93,8'],\n",
      "      dtype='object')\n",
      "0           22\n",
      "103,94       9\n",
      "104,09      12\n",
      "12,92       33\n",
      "120,23       2\n",
      "120,39       2\n",
      "13,38       29\n",
      "22,65      121\n",
      "23,04      154\n",
      "28,78      363\n",
      "29,11      412\n",
      "33,46      802\n",
      "33,72      902\n",
      "37,36     1392\n",
      "37,56     1364\n",
      "40,78     1852\n",
      "40,93     1794\n",
      "43,88     1973\n",
      "43,99     1944\n",
      "46,77     1785\n",
      "46,84     1882\n",
      "49,52     1618\n",
      "49,55     1496\n",
      "52,17     2358\n",
      "54,74      897\n",
      "54,77      959\n",
      "57,29      761\n",
      "57,34      720\n",
      "59,86      615\n",
      "59,93      628\n",
      "62,48      477\n",
      "62,56      469\n",
      "65,19      358\n",
      "65,27      387\n",
      "68,03      263\n",
      "68,11      288\n",
      "71,05      201\n",
      "71,12      222\n",
      "74,33      136\n",
      "74,38      152\n",
      "77,98       97\n",
      "78         105\n",
      "82,15       61\n",
      "82,16       59\n",
      "87,15       38\n",
      "87,21       30\n",
      "93,69       11\n",
      "93,8        21\n",
      "Name: PUNT_MATEMATICAS, dtype: int64\n",
      "Elementos null/NaN 0\n",
      "__________________\n",
      "Elementos diferentes de null/NaN: 30276\n",
      "__________________\n",
      "(30276,)\n",
      "None\n"
     ]
    }
   ],
   "source": [
    "c = 'PUNT_MATEMATICAS'\n",
    "print(data_2010[c].value_counts().sort_index().index)\n",
    "print(data_2010[c].value_counts().sort_index())\n",
    "print(missing_data(data_2010[c]))"
   ]
  },
  {
   "cell_type": "code",
   "execution_count": 91,
   "metadata": {
    "collapsed": true
   },
   "outputs": [],
   "source": [
    "clean_target(data_2010, c)"
   ]
  },
  {
   "cell_type": "code",
   "execution_count": 92,
   "metadata": {
    "collapsed": false,
    "scrolled": true
   },
   "outputs": [
    {
     "name": "stdout",
     "output_type": "stream",
     "text": [
      "Index(['0', '14,4', '14,65', '20,21', '20,49', '24,58', '24,9', '28,18',\n",
      "       '28,54', '31,29', '31,7', '34,08', '34,54', '36,63', '37,14', '39,02',\n",
      "       '39,58', '41,27', '41,9', '43,43', '44,12', '45,51', '46,27', '47,54',\n",
      "       '48,37', '49,54', '5,09', '5,3', '50,44', '51,52', '52,49', '53,5',\n",
      "       '54,54', '55,49', '56,6', '57,51', '58,7', '59,58', '60,83', '61,71',\n",
      "       '63,04', '63,94', '65,33', '66,29', '67,76', '68,81', '70,35', '71,57',\n",
      "       '73,17', '74,66', '76,32', '78,24', '79,96', '82,6', '97,74'],\n",
      "      dtype='object')\n",
      "0           4\n",
      "14,4        7\n",
      "14,65      14\n",
      "20,21      37\n",
      "20,49      45\n",
      "24,58     100\n",
      "24,9      135\n",
      "28,18     234\n",
      "28,54     275\n",
      "31,29     396\n",
      "31,7      498\n",
      "34,08     621\n",
      "34,54     783\n",
      "36,63     897\n",
      "37,14    1076\n",
      "39,02    1075\n",
      "39,58    1282\n",
      "41,27    1213\n",
      "41,9     1491\n",
      "43,43    1283\n",
      "44,12    1468\n",
      "45,51    1228\n",
      "46,27    1580\n",
      "47,54    1267\n",
      "48,37    1488\n",
      "49,54    1104\n",
      "5,09        2\n",
      "5,3         4\n",
      "50,44    1378\n",
      "51,52     957\n",
      "52,49    1258\n",
      "53,5      889\n",
      "54,54     995\n",
      "55,49     740\n",
      "56,6      823\n",
      "57,51     620\n",
      "58,7      607\n",
      "59,58     496\n",
      "60,83     431\n",
      "61,71     351\n",
      "63,04     288\n",
      "63,94     220\n",
      "65,33     175\n",
      "66,29     137\n",
      "67,76      89\n",
      "68,81      89\n",
      "70,35      31\n",
      "71,57      43\n",
      "73,17      19\n",
      "74,66      21\n",
      "76,32       3\n",
      "78,24       5\n",
      "79,96       1\n",
      "82,6        2\n",
      "97,74       1\n",
      "Name: PUNT_C_SOCIALES, dtype: int64\n",
      "Elementos null/NaN 0\n",
      "__________________\n",
      "Elementos diferentes de null/NaN: 30276\n",
      "__________________\n",
      "(30276,)\n",
      "None\n"
     ]
    }
   ],
   "source": [
    "c = 'PUNT_C_SOCIALES'\n",
    "print(data_2010[c].value_counts().sort_index().index)\n",
    "print(data_2010[c].value_counts().sort_index())\n",
    "print(missing_data(data_2010[c]))"
   ]
  },
  {
   "cell_type": "code",
   "execution_count": 93,
   "metadata": {
    "collapsed": true
   },
   "outputs": [],
   "source": [
    "clean_target(data_2010, c)"
   ]
  },
  {
   "cell_type": "code",
   "execution_count": 94,
   "metadata": {
    "collapsed": false,
    "scrolled": true
   },
   "outputs": [
    {
     "name": "stdout",
     "output_type": "stream",
     "text": [
      "Index(['0', '13,56', '13,92', '22,82', '23,18', '28,68', '29,03', '33,15',\n",
      "       '33,5', '36,89', '37,23', '40,17', '40,49', '43,15', '43,46', '45,93',\n",
      "       '46,23', '48,58', '48,87', '51,15', '51,42', '53,66', '53,93', '56,17',\n",
      "       '56,42', '58,71', '58,95', '61,3', '61,53', '64', '64,21', '66,85',\n",
      "       '67,05', '69,92', '70,1', '73,3', '73,47', '77,16'],\n",
      "      dtype='object')\n",
      "0         175\n",
      "13,56      46\n",
      "13,92      45\n",
      "22,82     156\n",
      "23,18     147\n",
      "28,68     374\n",
      "29,03     406\n",
      "33,15     806\n",
      "33,5      823\n",
      "36,89    1234\n",
      "37,23    1280\n",
      "40,17    1684\n",
      "40,49    1718\n",
      "43,15    1866\n",
      "43,46    1952\n",
      "45,93    2003\n",
      "46,23    1911\n",
      "48,58    1848\n",
      "48,87    1701\n",
      "51,15    1525\n",
      "51,42    1494\n",
      "53,66    1236\n",
      "53,93    1240\n",
      "56,17     904\n",
      "56,42     924\n",
      "58,71     658\n",
      "58,95     638\n",
      "61,3      416\n",
      "61,53     388\n",
      "64        215\n",
      "64,21     210\n",
      "66,85      92\n",
      "67,05      96\n",
      "69,92      29\n",
      "70,1       24\n",
      "73,3        5\n",
      "73,47       6\n",
      "77,16       1\n",
      "Name: PUNT_FILOSOFIA, dtype: int64\n",
      "Elementos null/NaN 0\n",
      "__________________\n",
      "Elementos diferentes de null/NaN: 30276\n",
      "__________________\n",
      "(30276,)\n",
      "None\n"
     ]
    }
   ],
   "source": [
    "c = 'PUNT_FILOSOFIA'\n",
    "print(data_2010[c].value_counts().sort_index().index)\n",
    "print(data_2010[c].value_counts().sort_index())\n",
    "print(missing_data(data_2010[c]))"
   ]
  },
  {
   "cell_type": "code",
   "execution_count": 95,
   "metadata": {
    "collapsed": true
   },
   "outputs": [],
   "source": [
    "clean_target(data_2010, c)"
   ]
  },
  {
   "cell_type": "code",
   "execution_count": 96,
   "metadata": {
    "collapsed": false,
    "scrolled": true
   },
   "outputs": [
    {
     "name": "stdout",
     "output_type": "stream",
     "text": [
      "Index(['0', '14,55', '14,61', '22,34', '22,47', '27,25', '27,43', '30,99',\n",
      "       '31,2', '34,09', '34,33', '36,79', '37,04', '39,23', '39,49', '41,48',\n",
      "       '41,75', '43,61', '43,87', '45,64', '45,9', '47,62', '47,86', '49,56',\n",
      "       '49,79', '51,5', '51,72', '53,46', '53,65', '55,46', '55,63', '57,54',\n",
      "       '57,69', '59,74', '59,85', '62,11', '62,19', '64,74', '64,77', '67,73',\n",
      "       '67,76', '71,31', '71,4', '76,04', '76,22', '83,64', '83,92', '96,5'],\n",
      "      dtype='object')\n",
      "0          17\n",
      "14,55      10\n",
      "14,61       8\n",
      "22,34      52\n",
      "22,47      43\n",
      "27,25     123\n",
      "27,43     118\n",
      "30,99     327\n",
      "31,2      340\n",
      "34,09     616\n",
      "34,33     666\n",
      "36,79     925\n",
      "37,04    1050\n",
      "39,23    1333\n",
      "39,49    1382\n",
      "41,48    1622\n",
      "41,75    1606\n",
      "43,61    1749\n",
      "43,87    1746\n",
      "45,64    1599\n",
      "45,9     1623\n",
      "47,62    1455\n",
      "47,86    1403\n",
      "49,56    1221\n",
      "49,79    1229\n",
      "51,5     1059\n",
      "51,72    1024\n",
      "53,46     806\n",
      "53,65     790\n",
      "55,46     724\n",
      "55,63     652\n",
      "57,54     529\n",
      "57,69     483\n",
      "59,74     431\n",
      "59,85     359\n",
      "62,11     259\n",
      "62,19     247\n",
      "64,74     151\n",
      "64,77     159\n",
      "67,73      93\n",
      "67,76     107\n",
      "71,31      47\n",
      "71,4       53\n",
      "76,04      10\n",
      "76,22      19\n",
      "83,64       5\n",
      "83,92       4\n",
      "96,5        2\n",
      "Name: PUNT_BIOLOGIA, dtype: int64\n",
      "Elementos null/NaN 0\n",
      "__________________\n",
      "Elementos diferentes de null/NaN: 30276\n",
      "__________________\n",
      "(30276,)\n",
      "None\n"
     ]
    }
   ],
   "source": [
    "c = 'PUNT_BIOLOGIA'\n",
    "print(data_2010[c].value_counts().sort_index().index)\n",
    "print(data_2010[c].value_counts().sort_index())\n",
    "print(missing_data(data_2010[c]))"
   ]
  },
  {
   "cell_type": "code",
   "execution_count": 97,
   "metadata": {
    "collapsed": true
   },
   "outputs": [],
   "source": [
    "clean_target(data_2010, c)"
   ]
  },
  {
   "cell_type": "code",
   "execution_count": 98,
   "metadata": {
    "collapsed": false,
    "scrolled": true
   },
   "outputs": [
    {
     "name": "stdout",
     "output_type": "stream",
     "text": [
      "Index(['0', '18,08', '18,2', '24,95', '25,08', '29,24', '29,37', '32,49',\n",
      "       '32,63', '35,17', '35,31', '37,51', '37,65', '39,61', '39,76', '41,56',\n",
      "       '41,72', '43,4', '43,56', '45,16', '45,33', '46,88', '47,05', '48,57',\n",
      "       '48,74', '50,26', '50,44', '51,98', '52,15', '53,73', '53,91', '55,55',\n",
      "       '55,74', '57,48', '57,67', '59,56', '59,76', '61,86', '62,07', '64,5',\n",
      "       '64,73', '67,7', '67,94', '71,93', '72,2', '78,73', '79,02', '89,95',\n",
      "       '90,26'],\n",
      "      dtype='object')\n",
      "0          22\n",
      "18,08      30\n",
      "18,2       22\n",
      "24,95     102\n",
      "25,08      99\n",
      "29,24     268\n",
      "29,37     271\n",
      "32,49     595\n",
      "32,63     524\n",
      "35,17     887\n",
      "35,31     848\n",
      "37,51    1161\n",
      "37,65    1168\n",
      "39,61    1415\n",
      "39,76    1371\n",
      "41,56    1373\n",
      "41,72    1370\n",
      "43,4     1327\n",
      "43,56    1372\n",
      "45,16    1166\n",
      "45,33    1289\n",
      "46,88    1006\n",
      "47,05    1087\n",
      "48,57     899\n",
      "48,74     996\n",
      "50,26     831\n",
      "50,44     881\n",
      "51,98     762\n",
      "52,15     801\n",
      "53,73     682\n",
      "53,91     710\n",
      "55,55     665\n",
      "55,74     606\n",
      "57,48     532\n",
      "57,67     469\n",
      "59,56     455\n",
      "59,76     418\n",
      "61,86     352\n",
      "62,07     315\n",
      "64,5      266\n",
      "64,73     227\n",
      "67,7      165\n",
      "67,94     174\n",
      "71,93      96\n",
      "72,2       83\n",
      "78,73      44\n",
      "79,02      50\n",
      "89,95       5\n",
      "90,26      19\n",
      "Name: PUNT_QUIMICA, dtype: int64\n",
      "Elementos null/NaN 0\n",
      "__________________\n",
      "Elementos diferentes de null/NaN: 30276\n",
      "__________________\n",
      "(30276,)\n",
      "None\n"
     ]
    }
   ],
   "source": [
    "c = 'PUNT_QUIMICA'\n",
    "print(data_2010[c].value_counts().sort_index().index)\n",
    "print(data_2010[c].value_counts().sort_index())\n",
    "print(missing_data(data_2010[c]))"
   ]
  },
  {
   "cell_type": "code",
   "execution_count": 99,
   "metadata": {
    "collapsed": true
   },
   "outputs": [],
   "source": [
    "clean_target(data_2010, c)"
   ]
  },
  {
   "cell_type": "code",
   "execution_count": 100,
   "metadata": {
    "collapsed": false,
    "scrolled": true
   },
   "outputs": [
    {
     "name": "stdout",
     "output_type": "stream",
     "text": [
      "Index(['0', '101,55', '11,73', '12,22', '21,52', '22,04', '27,64', '28,19',\n",
      "       '32,27', '32,84', '36,11', '36,7', '39,45', '40,06', '42,48', '43,11',\n",
      "       '45,3', '45,94', '47,97', '48,62', '50,54', '51,21', '53,06', '53,74',\n",
      "       '55,56', '56,25', '58,08', '58,78', '60,63', '61,34', '63,26', '63,99',\n",
      "       '66,01', '66,75', '68,92', '69,68', '72,07', '72,85', '75,56', '76,36',\n",
      "       '79,56', '80,37', '84,38', '85,2', '90,7', '91,53'],\n",
      "      dtype='object')\n",
      "0           79\n",
      "101,55       2\n",
      "11,73       50\n",
      "12,22      101\n",
      "21,52      187\n",
      "22,04      296\n",
      "27,64      526\n",
      "28,19      705\n",
      "32,27     1105\n",
      "32,84     1217\n",
      "36,11     1604\n",
      "36,7      1723\n",
      "39,45     1926\n",
      "40,06     2128\n",
      "42,48     2064\n",
      "43,11     1945\n",
      "45,3      1912\n",
      "45,94     1709\n",
      "47,97     1496\n",
      "48,62     1351\n",
      "50,54     1195\n",
      "51,21     1070\n",
      "53,06      919\n",
      "53,74      779\n",
      "55,56      633\n",
      "56,25      619\n",
      "58,08      431\n",
      "58,78      474\n",
      "60,63      330\n",
      "61,34      347\n",
      "63,26      253\n",
      "63,99      246\n",
      "66,01      163\n",
      "66,75      175\n",
      "68,92       90\n",
      "69,68      108\n",
      "72,07       75\n",
      "72,85       76\n",
      "75,56       48\n",
      "76,36       35\n",
      "79,56       28\n",
      "80,37       23\n",
      "84,38       11\n",
      "85,2        16\n",
      "90,7         3\n",
      "91,53        3\n",
      "Name: PUNT_FISICA, dtype: int64\n",
      "Elementos null/NaN 0\n",
      "__________________\n",
      "Elementos diferentes de null/NaN: 30276\n",
      "__________________\n",
      "(30276,)\n",
      "None\n"
     ]
    }
   ],
   "source": [
    "c = 'PUNT_FISICA'\n",
    "print(data_2010[c].value_counts().sort_index().index)\n",
    "print(data_2010[c].value_counts().sort_index())\n",
    "print(missing_data(data_2010[c]))"
   ]
  },
  {
   "cell_type": "code",
   "execution_count": 101,
   "metadata": {
    "collapsed": true
   },
   "outputs": [],
   "source": [
    "clean_target(data_2010, c)"
   ]
  },
  {
   "cell_type": "code",
   "execution_count": 102,
   "metadata": {
    "collapsed": false,
    "scrolled": true
   },
   "outputs": [
    {
     "name": "stdout",
     "output_type": "stream",
     "text": [
      "Index(['-1', '0', '10,71', '100', '14,14', '17,39', '20,46', '23,36', '26,09',\n",
      "       '28,64', '3,34', '31,02', '33,22', '35,25', '37,1', '38,78', '40,28',\n",
      "       '41,61', '42,76', '43,48', '44,92', '46,35', '47,79', '49,22', '50,66',\n",
      "       '52,09', '53,32', '54,64', '55,95', '57,27', '58,59', '59,9', '61,22',\n",
      "       '62,69', '65,1', '67,51', '69,92', '7,11', '72,32', '74,73', '77,14',\n",
      "       '79,55', '83,41', '87,56', '91,71', '95,85'],\n",
      "      dtype='object')\n",
      "-1          5\n",
      "0           6\n",
      "10,71       6\n",
      "100       149\n",
      "14,14      12\n",
      "17,39      33\n",
      "20,46      66\n",
      "23,36     156\n",
      "26,09     326\n",
      "28,64     564\n",
      "3,34        2\n",
      "31,02     877\n",
      "33,22    1257\n",
      "35,25    1576\n",
      "37,1     1929\n",
      "38,78    2021\n",
      "40,28    1975\n",
      "41,61    1851\n",
      "42,76    1690\n",
      "43,48    1490\n",
      "44,92    1276\n",
      "46,35    1072\n",
      "47,79     925\n",
      "49,22     818\n",
      "50,66     714\n",
      "52,09     572\n",
      "53,32     502\n",
      "54,64     516\n",
      "55,95     414\n",
      "57,27     407\n",
      "58,59     355\n",
      "59,9      348\n",
      "61,22     350\n",
      "62,69     307\n",
      "65,1      329\n",
      "67,51     348\n",
      "69,92     372\n",
      "7,11        5\n",
      "72,32     408\n",
      "74,73     473\n",
      "77,14     543\n",
      "79,55     627\n",
      "83,41     730\n",
      "87,56     751\n",
      "91,71     718\n",
      "95,85     405\n",
      "Name: PUNT_INGLES, dtype: int64\n",
      "Elementos null/NaN 0\n",
      "__________________\n",
      "Elementos diferentes de null/NaN: 30276\n",
      "__________________\n",
      "(30276,)\n",
      "None\n"
     ]
    }
   ],
   "source": [
    "c = 'PUNT_INGLES'\n",
    "print(data_2010[c].value_counts().sort_index().index)\n",
    "print(data_2010[c].value_counts().sort_index())\n",
    "print(missing_data(data_2010[c]))"
   ]
  },
  {
   "cell_type": "code",
   "execution_count": 103,
   "metadata": {
    "collapsed": true
   },
   "outputs": [],
   "source": [
    "data_2010['PUNT_INGLES'] = data_2010['PUNT_INGLES'].replace('-1', '0')\n",
    "clean_target(data_2010,c)"
   ]
  },
  {
   "cell_type": "code",
   "execution_count": 104,
   "metadata": {
    "collapsed": false
   },
   "outputs": [
    {
     "name": "stdout",
     "output_type": "stream",
     "text": [
      "Index(['-1', 'A-', 'A1', 'A2', 'B+', 'B1'], dtype='object')\n",
      "-1        5\n",
      "A-    14352\n",
      "A1     6867\n",
      "A2     2892\n",
      "B+     2753\n",
      "B1     3407\n",
      "Name: DESEMP_INGLES, dtype: int64\n",
      "Elementos null/NaN 0\n",
      "__________________\n",
      "Elementos diferentes de null/NaN: 30276\n",
      "__________________\n",
      "(30276,)\n",
      "None\n"
     ]
    }
   ],
   "source": [
    "c = 'DESEMP_INGLES'\n",
    "print(data_2010[c].value_counts().sort_index().index)\n",
    "print(data_2010[c].value_counts().sort_index())\n",
    "print(missing_data(data_2010[c]))"
   ]
  },
  {
   "cell_type": "code",
   "execution_count": 105,
   "metadata": {
    "collapsed": false
   },
   "outputs": [
    {
     "name": "stdout",
     "output_type": "stream",
     "text": [
      "cant null antes: 5\n",
      "cant null despues: 1\n",
      "cant null antes: 1\n",
      "cant null despues: 0\n"
     ]
    },
    {
     "name": "stderr",
     "output_type": "stream",
     "text": [
      "/usr/local/lib/python3.4/dist-packages/pandas/core/index.py:1148: VisibleDeprecationWarning: using a non-integer number instead of an integer will result in an error in the future\n",
      "  return promote(getitem(key))\n"
     ]
    }
   ],
   "source": [
    "data_2010['DESEMP_INGLES'] = data_2010['DESEMP_INGLES'].replace('-1', np.nan)\n",
    "Do_resamples(data_2010, 'DESEMP_INGLES', str)"
   ]
  },
  {
   "cell_type": "code",
   "execution_count": 106,
   "metadata": {
    "collapsed": false
   },
   "outputs": [
    {
     "name": "stdout",
     "output_type": "stream",
     "text": [
      "Index(['PROFUNDIZACIÓN EN BIOLOGÍA', 'PROFUNDIZACIÓN EN CIENCIAS SOCIALES',\n",
      "       'PROFUNDIZACIÓN EN LENGUAJE', 'PROFUNDIZACIÓN EN MATEMÁTICA'],\n",
      "      dtype='object')\n",
      "PROFUNDIZACIÓN EN BIOLOGÍA             8434\n",
      "PROFUNDIZACIÓN EN CIENCIAS SOCIALES    6723\n",
      "PROFUNDIZACIÓN EN LENGUAJE             9519\n",
      "PROFUNDIZACIÓN EN MATEMÁTICA           5600\n",
      "Name: NOMBRE_PROFUNDIZACION, dtype: int64\n",
      "Elementos null/NaN 0\n",
      "__________________\n",
      "Elementos diferentes de null/NaN: 30276\n",
      "__________________\n",
      "(30276,)\n",
      "None\n"
     ]
    }
   ],
   "source": [
    "c = 'NOMBRE_PROFUNDIZACION'\n",
    "print(data_2010[c].value_counts().sort_index().index)\n",
    "print(data_2010[c].value_counts().sort_index())\n",
    "print(missing_data(data_2010[c]))"
   ]
  },
  {
   "cell_type": "code",
   "execution_count": 107,
   "metadata": {
    "collapsed": false,
    "scrolled": true
   },
   "outputs": [
    {
     "name": "stdout",
     "output_type": "stream",
     "text": [
      "Index(['0', '10', '2,3', '2,9', '3', '3,2', '3,4', '3,7', '3,8', '4,1', '4,2',\n",
      "       '4,3', '4,6', '4,7', '5', '5,1', '5,3', '5,4', '5,6', '5,7', '5,9', '6',\n",
      "       '6,2', '6,3', '6,5', '6,6', '6,7', '6,8', '6,9', '7,1', '7,3', '7,5',\n",
      "       '7,7', '7,9', '8', '8,6', '8,7', '8,8'],\n",
      "      dtype='object')\n",
      "0       203\n",
      "10       16\n",
      "2,3     204\n",
      "2,9     233\n",
      "3       220\n",
      "3,2     666\n",
      "3,4     248\n",
      "3,7     546\n",
      "3,8    1732\n",
      "4,1     620\n",
      "4,2    2223\n",
      "4,3    1015\n",
      "4,6    3498\n",
      "4,7    1171\n",
      "5      3295\n",
      "5,1    1164\n",
      "5,3    3048\n",
      "5,4     923\n",
      "5,6    2445\n",
      "5,7     640\n",
      "5,9    1886\n",
      "6       416\n",
      "6,2     852\n",
      "6,3     787\n",
      "6,5     401\n",
      "6,6     331\n",
      "6,7     314\n",
      "6,8     249\n",
      "6,9     207\n",
      "7,1     287\n",
      "7,3     131\n",
      "7,5      76\n",
      "7,7      46\n",
      "7,9      99\n",
      "8        27\n",
      "8,6      14\n",
      "8,7      38\n",
      "8,8       5\n",
      "Name: PUNT_PROFUNDIZACION, dtype: int64\n",
      "Elementos null/NaN 0\n",
      "__________________\n",
      "Elementos diferentes de null/NaN: 30276\n",
      "__________________\n",
      "(30276,)\n",
      "None\n"
     ]
    }
   ],
   "source": [
    "c = 'PUNT_PROFUNDIZACION'\n",
    "print(data_2010[c].value_counts().sort_index().index)\n",
    "print(data_2010[c].value_counts().sort_index())\n",
    "print(missing_data(data_2010[c]))"
   ]
  },
  {
   "cell_type": "code",
   "execution_count": 108,
   "metadata": {
    "collapsed": true
   },
   "outputs": [],
   "source": [
    "clean_target(data_2010, c)"
   ]
  },
  {
   "cell_type": "code",
   "execution_count": 109,
   "metadata": {
    "collapsed": false,
    "scrolled": true
   },
   "outputs": [
    {
     "name": "stdout",
     "output_type": "stream",
     "text": [
      "Index(['GB', 'I', 'II', 'III'], dtype='object')\n",
      "GB     13002\n",
      "I      13982\n",
      "II      2946\n",
      "III      346\n",
      "Name: DESEMP_PROFUNDIZACION, dtype: int64\n",
      "Elementos null/NaN 0\n",
      "__________________\n",
      "Elementos diferentes de null/NaN: 30276\n",
      "__________________\n",
      "(30276,)\n",
      "None\n"
     ]
    }
   ],
   "source": [
    "c = 'DESEMP_PROFUNDIZACION'\n",
    "print(data_2010[c].value_counts().sort_index().index)\n",
    "print(data_2010[c].value_counts().sort_index())\n",
    "print(missing_data(data_2010[c]))"
   ]
  },
  {
   "cell_type": "code",
   "execution_count": 110,
   "metadata": {
    "collapsed": false
   },
   "outputs": [
    {
     "name": "stdout",
     "output_type": "stream",
     "text": [
      "Index(['MEDIO AMBIENTE', 'VIOLENCIA Y SOCIEDAD'], dtype='object')\n",
      "MEDIO AMBIENTE          15972\n",
      "VIOLENCIA Y SOCIEDAD    14304\n",
      "Name: NOMBRE_INTERDISCIPLINAR, dtype: int64\n",
      "Elementos null/NaN 0\n",
      "__________________\n",
      "Elementos diferentes de null/NaN: 30276\n",
      "__________________\n",
      "(30276,)\n",
      "None\n"
     ]
    }
   ],
   "source": [
    "c = 'NOMBRE_INTERDISCIPLINAR'\n",
    "print(data_2010[c].value_counts().sort_index().index)\n",
    "print(data_2010[c].value_counts().sort_index())\n",
    "print(missing_data(data_2010[c]))"
   ]
  },
  {
   "cell_type": "code",
   "execution_count": 111,
   "metadata": {
    "collapsed": false,
    "scrolled": true
   },
   "outputs": [
    {
     "name": "stdout",
     "output_type": "stream",
     "text": [
      "Index(['0', '24,75', '31,51', '35,93', '39,41', '42,4', '45,12', '45,54',\n",
      "       '47,27', '47,71', '48,4', '49,29', '50,07', '50,25', '50,78', '51,47',\n",
      "       '52,16', '52,84', '52,88', '53,64', '54,49', '55,49', '55,56', '56,75',\n",
      "       '58,53', '58,65', '61,55', '61,97', '66,29', '72,89', '83,26'],\n",
      "      dtype='object')\n",
      "0         223\n",
      "24,75     454\n",
      "31,51     995\n",
      "35,93    1522\n",
      "39,41    1923\n",
      "42,4     1997\n",
      "45,12    1808\n",
      "45,54     195\n",
      "47,27     560\n",
      "47,71    1476\n",
      "48,4     1026\n",
      "49,29    1496\n",
      "50,07    1710\n",
      "50,25    1204\n",
      "50,78    1927\n",
      "51,47    1906\n",
      "52,16    1696\n",
      "52,84     940\n",
      "52,88    1539\n",
      "53,64    1389\n",
      "54,49    1127\n",
      "55,49     777\n",
      "55,56     664\n",
      "56,75     403\n",
      "58,53     535\n",
      "58,65     113\n",
      "61,55      13\n",
      "61,97     335\n",
      "66,29     185\n",
      "72,89     116\n",
      "83,26      22\n",
      "Name: PUNT_INTERDISCIPLINAR, dtype: int64\n",
      "Elementos null/NaN 0\n",
      "__________________\n",
      "Elementos diferentes de null/NaN: 30276\n",
      "__________________\n",
      "(30276,)\n",
      "None\n"
     ]
    }
   ],
   "source": [
    "c = 'PUNT_INTERDISCIPLINAR'\n",
    "print(data_2010[c].value_counts().sort_index().index)\n",
    "print(data_2010[c].value_counts().sort_index())\n",
    "print(missing_data(data_2010[c]))"
   ]
  },
  {
   "cell_type": "code",
   "execution_count": 112,
   "metadata": {
    "collapsed": true
   },
   "outputs": [],
   "source": [
    "clean_target(data_2010, c)"
   ]
  },
  {
   "cell_type": "code",
   "execution_count": 113,
   "metadata": {
    "collapsed": false,
    "scrolled": true
   },
   "outputs": [
    {
     "name": "stdout",
     "output_type": "stream",
     "text": [
      "Int64Index([   1,    2,    3,    4,    5,    6,    7,    8,    9,   10,\n",
      "            ...\n",
      "             991,  992,  993,  994,  995,  996,  997,  998,  999, 1000],\n",
      "           dtype='int64', length=1000)\n",
      "1       89\n",
      "2       81\n",
      "3       77\n",
      "4       70\n",
      "5       60\n",
      "6       71\n",
      "7       64\n",
      "8       64\n",
      "9       70\n",
      "10      55\n",
      "11      69\n",
      "12      43\n",
      "13      55\n",
      "14      60\n",
      "15      61\n",
      "16      66\n",
      "17      59\n",
      "18      56\n",
      "19      55\n",
      "20      55\n",
      "21      67\n",
      "22      53\n",
      "23      62\n",
      "24      47\n",
      "25      55\n",
      "26      63\n",
      "27      46\n",
      "28      45\n",
      "29      59\n",
      "30      59\n",
      "        ..\n",
      "971     52\n",
      "972     50\n",
      "973     45\n",
      "974     50\n",
      "975     51\n",
      "976     45\n",
      "977     44\n",
      "978     50\n",
      "979     42\n",
      "980     41\n",
      "981     44\n",
      "982     48\n",
      "983     45\n",
      "984     44\n",
      "985     56\n",
      "986     41\n",
      "987     49\n",
      "988     48\n",
      "989     47\n",
      "990     53\n",
      "991     48\n",
      "992     44\n",
      "993     57\n",
      "994     54\n",
      "995     47\n",
      "996     49\n",
      "997     54\n",
      "998     20\n",
      "999      3\n",
      "1000     9\n",
      "Name: ESTU_PUESTO, dtype: int64\n",
      "Elementos null/NaN 0\n",
      "__________________\n",
      "Elementos diferentes de null/NaN: 30276\n",
      "__________________\n",
      "(30276,)\n",
      "None\n"
     ]
    }
   ],
   "source": [
    "c = 'ESTU_PUESTO'\n",
    "print(data_2010[c].value_counts().sort_index().index)\n",
    "print(data_2010[c].value_counts().sort_index())\n",
    "print(missing_data(data_2010[c]))"
   ]
  },
  {
   "cell_type": "markdown",
   "metadata": {},
   "source": [
    "### Treatment of Remaining NaNs"
   ]
  },
  {
   "cell_type": "code",
   "execution_count": 115,
   "metadata": {
    "collapsed": false
   },
   "outputs": [],
   "source": [
    "anno = data_2010[data_2010['ESTU_NACIMIENTO_ANNO'].isnull()].index\n",
    "data_2010 = data_2010.drop(anno)"
   ]
  },
  {
   "cell_type": "code",
   "execution_count": 116,
   "metadata": {
    "collapsed": true
   },
   "outputs": [],
   "source": [
    "data_2010['ESTU_EDAD'].fillna(int(data_2010['ESTU_EDAD'].mean()), inplace=True)"
   ]
  },
  {
   "cell_type": "markdown",
   "metadata": {},
   "source": [
    "# FILE 2: 2010_2"
   ]
  },
  {
   "cell_type": "code",
   "execution_count": 2,
   "metadata": {
    "collapsed": false
   },
   "outputs": [
    {
     "name": "stderr",
     "output_type": "stream",
     "text": [
      "/usr/local/lib/python3.4/dist-packages/IPython/core/interactiveshell.py:2902: DtypeWarning: Columns (10,11,12,13,14,15,24) have mixed types. Specify dtype option on import or set low_memory=False.\n",
      "  interactivity=interactivity, compiler=compiler, result=result)\n"
     ]
    }
   ],
   "source": [
    "data_2010_2 = pd.read_csv('../DatosFTPICFES/SABER11/SB11-BASES_DE_DATOS/SB11-20102-RGSTRO-CLFCCN-V1-0.txt', delimiter='|')"
   ]
  },
  {
   "cell_type": "code",
   "execution_count": 3,
   "metadata": {
    "collapsed": false
   },
   "outputs": [
    {
     "data": {
      "text/plain": [
       "(586779, 114)"
      ]
     },
     "execution_count": 3,
     "metadata": {},
     "output_type": "execute_result"
    }
   ],
   "source": [
    "data_2010_2.shape"
   ]
  },
  {
   "cell_type": "code",
   "execution_count": 4,
   "metadata": {
    "collapsed": false,
    "scrolled": true
   },
   "outputs": [
    {
     "data": {
      "text/html": [
       "<div>\n",
       "<table border=\"1\" class=\"dataframe\">\n",
       "  <thead>\n",
       "    <tr style=\"text-align: right;\">\n",
       "      <th></th>\n",
       "      <th>0</th>\n",
       "      <th>1</th>\n",
       "      <th>2</th>\n",
       "    </tr>\n",
       "  </thead>\n",
       "  <tbody>\n",
       "    <tr>\n",
       "      <th>ESTU_CONSECUTIVO</th>\n",
       "      <td>SABER1120102000001</td>\n",
       "      <td>SABER1120102000002</td>\n",
       "      <td>SABER1120102000003</td>\n",
       "    </tr>\n",
       "    <tr>\n",
       "      <th>PERIODO</th>\n",
       "      <td>20102</td>\n",
       "      <td>20102</td>\n",
       "      <td>20102</td>\n",
       "    </tr>\n",
       "    <tr>\n",
       "      <th>ESTU_TIPO_DOCUMENTO</th>\n",
       "      <td>T</td>\n",
       "      <td>T</td>\n",
       "      <td>T</td>\n",
       "    </tr>\n",
       "    <tr>\n",
       "      <th>ESTU_PAIS_RESIDE</th>\n",
       "      <td>CO</td>\n",
       "      <td>CO</td>\n",
       "      <td>CO</td>\n",
       "    </tr>\n",
       "    <tr>\n",
       "      <th>ESTU_GENERO</th>\n",
       "      <td>M</td>\n",
       "      <td>M</td>\n",
       "      <td>F</td>\n",
       "    </tr>\n",
       "    <tr>\n",
       "      <th>ESTU_NACIMIENTO_DIA</th>\n",
       "      <td>8</td>\n",
       "      <td>7</td>\n",
       "      <td>19</td>\n",
       "    </tr>\n",
       "    <tr>\n",
       "      <th>ESTU_NACIMIENTO_MES</th>\n",
       "      <td>10</td>\n",
       "      <td>10</td>\n",
       "      <td>3</td>\n",
       "    </tr>\n",
       "    <tr>\n",
       "      <th>ESTU_NACIMIENTO_ANNO</th>\n",
       "      <td>1992</td>\n",
       "      <td>1993</td>\n",
       "      <td>1994</td>\n",
       "    </tr>\n",
       "    <tr>\n",
       "      <th>ESTU_EDAD</th>\n",
       "      <td>17</td>\n",
       "      <td>16</td>\n",
       "      <td>16</td>\n",
       "    </tr>\n",
       "    <tr>\n",
       "      <th>ESTU_LIMITA_BAJAVISION</th>\n",
       "      <td>NaN</td>\n",
       "      <td>NaN</td>\n",
       "      <td>NaN</td>\n",
       "    </tr>\n",
       "    <tr>\n",
       "      <th>ESTU_LIMITA_SORDOCEGUERA</th>\n",
       "      <td>NaN</td>\n",
       "      <td>NaN</td>\n",
       "      <td>NaN</td>\n",
       "    </tr>\n",
       "    <tr>\n",
       "      <th>ESTU_LIMITA_COGNITIVA</th>\n",
       "      <td>NaN</td>\n",
       "      <td>NaN</td>\n",
       "      <td>NaN</td>\n",
       "    </tr>\n",
       "    <tr>\n",
       "      <th>ESTU_LIMITA_INVIDENTE</th>\n",
       "      <td>NaN</td>\n",
       "      <td>NaN</td>\n",
       "      <td>NaN</td>\n",
       "    </tr>\n",
       "    <tr>\n",
       "      <th>ESTU_LIMITA_MOTRIZ</th>\n",
       "      <td>NaN</td>\n",
       "      <td>NaN</td>\n",
       "      <td>NaN</td>\n",
       "    </tr>\n",
       "    <tr>\n",
       "      <th>ESTU_LIMITA_SORDOINTERPRETE</th>\n",
       "      <td>NaN</td>\n",
       "      <td>NaN</td>\n",
       "      <td>NaN</td>\n",
       "    </tr>\n",
       "    <tr>\n",
       "      <th>ESTU_LIMITA_SORDONOINTERPRETE</th>\n",
       "      <td>NaN</td>\n",
       "      <td>NaN</td>\n",
       "      <td>NaN</td>\n",
       "    </tr>\n",
       "    <tr>\n",
       "      <th>ESTU_ETNIA</th>\n",
       "      <td>NaN</td>\n",
       "      <td>NaN</td>\n",
       "      <td>NaN</td>\n",
       "    </tr>\n",
       "    <tr>\n",
       "      <th>ESTU_COD_RESIDE_MCPIO</th>\n",
       "      <td>11001</td>\n",
       "      <td>68001</td>\n",
       "      <td>73483</td>\n",
       "    </tr>\n",
       "    <tr>\n",
       "      <th>ESTU_RESIDE_MCPIO</th>\n",
       "      <td>BOGOTÁ D.C.</td>\n",
       "      <td>BUCARAMANGA</td>\n",
       "      <td>NATAGAIMA</td>\n",
       "    </tr>\n",
       "    <tr>\n",
       "      <th>ESTU_RESIDE_DEPTO</th>\n",
       "      <td>BOGOTÁ</td>\n",
       "      <td>SANTANDER</td>\n",
       "      <td>TOLIMA</td>\n",
       "    </tr>\n",
       "    <tr>\n",
       "      <th>ESTU_ZONA_RESIDE</th>\n",
       "      <td>4</td>\n",
       "      <td>5</td>\n",
       "      <td>10</td>\n",
       "    </tr>\n",
       "    <tr>\n",
       "      <th>ESTU_AREA_RESIDE</th>\n",
       "      <td>1</td>\n",
       "      <td>1</td>\n",
       "      <td>2</td>\n",
       "    </tr>\n",
       "    <tr>\n",
       "      <th>IND_COD_ICFES_TERMINO</th>\n",
       "      <td>21766</td>\n",
       "      <td>14381</td>\n",
       "      <td>16451</td>\n",
       "    </tr>\n",
       "    <tr>\n",
       "      <th>COLE_COD_ICFES</th>\n",
       "      <td>21766</td>\n",
       "      <td>14381</td>\n",
       "      <td>16451</td>\n",
       "    </tr>\n",
       "    <tr>\n",
       "      <th>COLE_COD_DANE_INSTITUCION</th>\n",
       "      <td>3.11001e+11</td>\n",
       "      <td>1.68001e+11</td>\n",
       "      <td>1.73483e+11</td>\n",
       "    </tr>\n",
       "    <tr>\n",
       "      <th>COLE_NOMBRE_SEDE</th>\n",
       "      <td>COL PARROQ DE NSTRA SEÑORA</td>\n",
       "      <td>IE.TECNOLG.SALESIANO ELOY VALENZUELA</td>\n",
       "      <td>I.E.T. FRANCISCO JOSE DE CALDAS - SEDE PRINCIPAL</td>\n",
       "    </tr>\n",
       "    <tr>\n",
       "      <th>COLE_CALENDARIO</th>\n",
       "      <td>A</td>\n",
       "      <td>A</td>\n",
       "      <td>A</td>\n",
       "    </tr>\n",
       "    <tr>\n",
       "      <th>COLE_GENERO</th>\n",
       "      <td>X</td>\n",
       "      <td>M</td>\n",
       "      <td>X</td>\n",
       "    </tr>\n",
       "    <tr>\n",
       "      <th>COLE_NATURALEZA</th>\n",
       "      <td>N</td>\n",
       "      <td>O</td>\n",
       "      <td>O</td>\n",
       "    </tr>\n",
       "    <tr>\n",
       "      <th>COLE_BILINGUE</th>\n",
       "      <td>0</td>\n",
       "      <td>0</td>\n",
       "      <td>0</td>\n",
       "    </tr>\n",
       "    <tr>\n",
       "      <th>...</th>\n",
       "      <td>...</td>\n",
       "      <td>...</td>\n",
       "      <td>...</td>\n",
       "    </tr>\n",
       "    <tr>\n",
       "      <th>FAMI_PERSONAS_HOGAR</th>\n",
       "      <td>5</td>\n",
       "      <td>5</td>\n",
       "      <td>8</td>\n",
       "    </tr>\n",
       "    <tr>\n",
       "      <th>FAMI_CUARTOS_HOGAR</th>\n",
       "      <td>NaN</td>\n",
       "      <td>NaN</td>\n",
       "      <td>NaN</td>\n",
       "    </tr>\n",
       "    <tr>\n",
       "      <th>FAMI_PISOSHOGAR</th>\n",
       "      <td>4</td>\n",
       "      <td>4</td>\n",
       "      <td>2</td>\n",
       "    </tr>\n",
       "    <tr>\n",
       "      <th>FAMI_TELEFONO_FIJO</th>\n",
       "      <td>0</td>\n",
       "      <td>1</td>\n",
       "      <td>0</td>\n",
       "    </tr>\n",
       "    <tr>\n",
       "      <th>FAMI_CELULAR</th>\n",
       "      <td>1</td>\n",
       "      <td>1</td>\n",
       "      <td>1</td>\n",
       "    </tr>\n",
       "    <tr>\n",
       "      <th>FAMI_INTERNET</th>\n",
       "      <td>0</td>\n",
       "      <td>1</td>\n",
       "      <td>0</td>\n",
       "    </tr>\n",
       "    <tr>\n",
       "      <th>FAMI_SERVICIO_TELEVISION</th>\n",
       "      <td>1</td>\n",
       "      <td>1</td>\n",
       "      <td>0</td>\n",
       "    </tr>\n",
       "    <tr>\n",
       "      <th>FAMI_COMPUTADOR</th>\n",
       "      <td>3</td>\n",
       "      <td>3</td>\n",
       "      <td>0</td>\n",
       "    </tr>\n",
       "    <tr>\n",
       "      <th>FAMI_LAVADORA</th>\n",
       "      <td>1</td>\n",
       "      <td>1</td>\n",
       "      <td>0</td>\n",
       "    </tr>\n",
       "    <tr>\n",
       "      <th>FAMI_NEVERA</th>\n",
       "      <td>1</td>\n",
       "      <td>1</td>\n",
       "      <td>1</td>\n",
       "    </tr>\n",
       "    <tr>\n",
       "      <th>FAMI_HORNO</th>\n",
       "      <td>1</td>\n",
       "      <td>0</td>\n",
       "      <td>0</td>\n",
       "    </tr>\n",
       "    <tr>\n",
       "      <th>FAMI_DVD</th>\n",
       "      <td>1</td>\n",
       "      <td>1</td>\n",
       "      <td>1</td>\n",
       "    </tr>\n",
       "    <tr>\n",
       "      <th>FAMI_MICROONDAS</th>\n",
       "      <td>1</td>\n",
       "      <td>1</td>\n",
       "      <td>0</td>\n",
       "    </tr>\n",
       "    <tr>\n",
       "      <th>FAMI_AUTOMOVIL</th>\n",
       "      <td>1</td>\n",
       "      <td>1</td>\n",
       "      <td>0</td>\n",
       "    </tr>\n",
       "    <tr>\n",
       "      <th>FAMI_INGRESO_FMILIAR_MENSUAL</th>\n",
       "      <td>4</td>\n",
       "      <td>4</td>\n",
       "      <td>2</td>\n",
       "    </tr>\n",
       "    <tr>\n",
       "      <th>ESTU_TRABAJA</th>\n",
       "      <td>0</td>\n",
       "      <td>0</td>\n",
       "      <td>0</td>\n",
       "    </tr>\n",
       "    <tr>\n",
       "      <th>ESTU_HORAS_TRABAJA</th>\n",
       "      <td>NaN</td>\n",
       "      <td>NaN</td>\n",
       "      <td>NaN</td>\n",
       "    </tr>\n",
       "    <tr>\n",
       "      <th>PUNT_LENGUAJE</th>\n",
       "      <td>56,41</td>\n",
       "      <td>59,4</td>\n",
       "      <td>50,6</td>\n",
       "    </tr>\n",
       "    <tr>\n",
       "      <th>PUNT_MATEMATICAS</th>\n",
       "      <td>68,39</td>\n",
       "      <td>69,01</td>\n",
       "      <td>39,12</td>\n",
       "    </tr>\n",
       "    <tr>\n",
       "      <th>PUNT_C_SOCIALES</th>\n",
       "      <td>58,08</td>\n",
       "      <td>69,34</td>\n",
       "      <td>43,18</td>\n",
       "    </tr>\n",
       "    <tr>\n",
       "      <th>PUNT_FILOSOFIA</th>\n",
       "      <td>50,93</td>\n",
       "      <td>75,71</td>\n",
       "      <td>45,2</td>\n",
       "    </tr>\n",
       "    <tr>\n",
       "      <th>PUNT_BIOLOGIA</th>\n",
       "      <td>55,09</td>\n",
       "      <td>65,98</td>\n",
       "      <td>37,43</td>\n",
       "    </tr>\n",
       "    <tr>\n",
       "      <th>PUNT_QUIMICA</th>\n",
       "      <td>59</td>\n",
       "      <td>75,02</td>\n",
       "      <td>40,31</td>\n",
       "    </tr>\n",
       "    <tr>\n",
       "      <th>PUNT_FISICA</th>\n",
       "      <td>63,86</td>\n",
       "      <td>83,07</td>\n",
       "      <td>50,64</td>\n",
       "    </tr>\n",
       "    <tr>\n",
       "      <th>PUNT_INGLES</th>\n",
       "      <td>43,53</td>\n",
       "      <td>89,24</td>\n",
       "      <td>34,94</td>\n",
       "    </tr>\n",
       "    <tr>\n",
       "      <th>DESEMP_INGLES</th>\n",
       "      <td>A-</td>\n",
       "      <td>B+</td>\n",
       "      <td>A-</td>\n",
       "    </tr>\n",
       "    <tr>\n",
       "      <th>NOMBRE_COMP_FLEXIBLE</th>\n",
       "      <td>PROFUNDIZACIÓN EN CIENCIAS SOCIALES</td>\n",
       "      <td>PROFUNDIZACIÓN EN BIOLOGÍA</td>\n",
       "      <td>MEDIO AMBIENTE</td>\n",
       "    </tr>\n",
       "    <tr>\n",
       "      <th>PUNT_COMP_FLEXIBLE</th>\n",
       "      <td>5,2</td>\n",
       "      <td>6,5</td>\n",
       "      <td>54,75</td>\n",
       "    </tr>\n",
       "    <tr>\n",
       "      <th>DESEMP_COMP_FLEXIBLE</th>\n",
       "      <td>II</td>\n",
       "      <td>III</td>\n",
       "      <td>NaN</td>\n",
       "    </tr>\n",
       "    <tr>\n",
       "      <th>ESTU_PUESTO</th>\n",
       "      <td>127</td>\n",
       "      <td>15</td>\n",
       "      <td>807</td>\n",
       "    </tr>\n",
       "  </tbody>\n",
       "</table>\n",
       "<p>114 rows × 3 columns</p>\n",
       "</div>"
      ],
      "text/plain": [
       "                                                                 0  \\\n",
       "ESTU_CONSECUTIVO                                SABER1120102000001   \n",
       "PERIODO                                                      20102   \n",
       "ESTU_TIPO_DOCUMENTO                                              T   \n",
       "ESTU_PAIS_RESIDE                                                CO   \n",
       "ESTU_GENERO                                                      M   \n",
       "ESTU_NACIMIENTO_DIA                                              8   \n",
       "ESTU_NACIMIENTO_MES                                             10   \n",
       "ESTU_NACIMIENTO_ANNO                                          1992   \n",
       "ESTU_EDAD                                                       17   \n",
       "ESTU_LIMITA_BAJAVISION                                         NaN   \n",
       "ESTU_LIMITA_SORDOCEGUERA                                       NaN   \n",
       "ESTU_LIMITA_COGNITIVA                                          NaN   \n",
       "ESTU_LIMITA_INVIDENTE                                          NaN   \n",
       "ESTU_LIMITA_MOTRIZ                                             NaN   \n",
       "ESTU_LIMITA_SORDOINTERPRETE                                    NaN   \n",
       "ESTU_LIMITA_SORDONOINTERPRETE                                  NaN   \n",
       "ESTU_ETNIA                                                     NaN   \n",
       "ESTU_COD_RESIDE_MCPIO                                        11001   \n",
       "ESTU_RESIDE_MCPIO                                      BOGOTÁ D.C.   \n",
       "ESTU_RESIDE_DEPTO                                           BOGOTÁ   \n",
       "ESTU_ZONA_RESIDE                                                 4   \n",
       "ESTU_AREA_RESIDE                                                 1   \n",
       "IND_COD_ICFES_TERMINO                                        21766   \n",
       "COLE_COD_ICFES                                               21766   \n",
       "COLE_COD_DANE_INSTITUCION                              3.11001e+11   \n",
       "COLE_NOMBRE_SEDE                        COL PARROQ DE NSTRA SEÑORA   \n",
       "COLE_CALENDARIO                                                  A   \n",
       "COLE_GENERO                                                      X   \n",
       "COLE_NATURALEZA                                                  N   \n",
       "COLE_BILINGUE                                                    0   \n",
       "...                                                            ...   \n",
       "FAMI_PERSONAS_HOGAR                                              5   \n",
       "FAMI_CUARTOS_HOGAR                                             NaN   \n",
       "FAMI_PISOSHOGAR                                                  4   \n",
       "FAMI_TELEFONO_FIJO                                               0   \n",
       "FAMI_CELULAR                                                     1   \n",
       "FAMI_INTERNET                                                    0   \n",
       "FAMI_SERVICIO_TELEVISION                                         1   \n",
       "FAMI_COMPUTADOR                                                  3   \n",
       "FAMI_LAVADORA                                                    1   \n",
       "FAMI_NEVERA                                                      1   \n",
       "FAMI_HORNO                                                       1   \n",
       "FAMI_DVD                                                         1   \n",
       "FAMI_MICROONDAS                                                  1   \n",
       "FAMI_AUTOMOVIL                                                   1   \n",
       "FAMI_INGRESO_FMILIAR_MENSUAL                                     4   \n",
       "ESTU_TRABAJA                                                     0   \n",
       "ESTU_HORAS_TRABAJA                                             NaN   \n",
       "PUNT_LENGUAJE                                                56,41   \n",
       "PUNT_MATEMATICAS                                             68,39   \n",
       "PUNT_C_SOCIALES                                              58,08   \n",
       "PUNT_FILOSOFIA                                               50,93   \n",
       "PUNT_BIOLOGIA                                                55,09   \n",
       "PUNT_QUIMICA                                                    59   \n",
       "PUNT_FISICA                                                  63,86   \n",
       "PUNT_INGLES                                                  43,53   \n",
       "DESEMP_INGLES                                                   A-   \n",
       "NOMBRE_COMP_FLEXIBLE           PROFUNDIZACIÓN EN CIENCIAS SOCIALES   \n",
       "PUNT_COMP_FLEXIBLE                                             5,2   \n",
       "DESEMP_COMP_FLEXIBLE                                            II   \n",
       "ESTU_PUESTO                                                    127   \n",
       "\n",
       "                                                                  1  \\\n",
       "ESTU_CONSECUTIVO                                 SABER1120102000002   \n",
       "PERIODO                                                       20102   \n",
       "ESTU_TIPO_DOCUMENTO                                               T   \n",
       "ESTU_PAIS_RESIDE                                                 CO   \n",
       "ESTU_GENERO                                                       M   \n",
       "ESTU_NACIMIENTO_DIA                                               7   \n",
       "ESTU_NACIMIENTO_MES                                              10   \n",
       "ESTU_NACIMIENTO_ANNO                                           1993   \n",
       "ESTU_EDAD                                                        16   \n",
       "ESTU_LIMITA_BAJAVISION                                          NaN   \n",
       "ESTU_LIMITA_SORDOCEGUERA                                        NaN   \n",
       "ESTU_LIMITA_COGNITIVA                                           NaN   \n",
       "ESTU_LIMITA_INVIDENTE                                           NaN   \n",
       "ESTU_LIMITA_MOTRIZ                                              NaN   \n",
       "ESTU_LIMITA_SORDOINTERPRETE                                     NaN   \n",
       "ESTU_LIMITA_SORDONOINTERPRETE                                   NaN   \n",
       "ESTU_ETNIA                                                      NaN   \n",
       "ESTU_COD_RESIDE_MCPIO                                         68001   \n",
       "ESTU_RESIDE_MCPIO                                       BUCARAMANGA   \n",
       "ESTU_RESIDE_DEPTO                                         SANTANDER   \n",
       "ESTU_ZONA_RESIDE                                                  5   \n",
       "ESTU_AREA_RESIDE                                                  1   \n",
       "IND_COD_ICFES_TERMINO                                         14381   \n",
       "COLE_COD_ICFES                                                14381   \n",
       "COLE_COD_DANE_INSTITUCION                               1.68001e+11   \n",
       "COLE_NOMBRE_SEDE               IE.TECNOLG.SALESIANO ELOY VALENZUELA   \n",
       "COLE_CALENDARIO                                                   A   \n",
       "COLE_GENERO                                                       M   \n",
       "COLE_NATURALEZA                                                   O   \n",
       "COLE_BILINGUE                                                     0   \n",
       "...                                                             ...   \n",
       "FAMI_PERSONAS_HOGAR                                               5   \n",
       "FAMI_CUARTOS_HOGAR                                              NaN   \n",
       "FAMI_PISOSHOGAR                                                   4   \n",
       "FAMI_TELEFONO_FIJO                                                1   \n",
       "FAMI_CELULAR                                                      1   \n",
       "FAMI_INTERNET                                                     1   \n",
       "FAMI_SERVICIO_TELEVISION                                          1   \n",
       "FAMI_COMPUTADOR                                                   3   \n",
       "FAMI_LAVADORA                                                     1   \n",
       "FAMI_NEVERA                                                       1   \n",
       "FAMI_HORNO                                                        0   \n",
       "FAMI_DVD                                                          1   \n",
       "FAMI_MICROONDAS                                                   1   \n",
       "FAMI_AUTOMOVIL                                                    1   \n",
       "FAMI_INGRESO_FMILIAR_MENSUAL                                      4   \n",
       "ESTU_TRABAJA                                                      0   \n",
       "ESTU_HORAS_TRABAJA                                              NaN   \n",
       "PUNT_LENGUAJE                                                  59,4   \n",
       "PUNT_MATEMATICAS                                              69,01   \n",
       "PUNT_C_SOCIALES                                               69,34   \n",
       "PUNT_FILOSOFIA                                                75,71   \n",
       "PUNT_BIOLOGIA                                                 65,98   \n",
       "PUNT_QUIMICA                                                  75,02   \n",
       "PUNT_FISICA                                                   83,07   \n",
       "PUNT_INGLES                                                   89,24   \n",
       "DESEMP_INGLES                                                    B+   \n",
       "NOMBRE_COMP_FLEXIBLE                     PROFUNDIZACIÓN EN BIOLOGÍA   \n",
       "PUNT_COMP_FLEXIBLE                                              6,5   \n",
       "DESEMP_COMP_FLEXIBLE                                            III   \n",
       "ESTU_PUESTO                                                      15   \n",
       "\n",
       "                                                                              2  \n",
       "ESTU_CONSECUTIVO                                             SABER1120102000003  \n",
       "PERIODO                                                                   20102  \n",
       "ESTU_TIPO_DOCUMENTO                                                           T  \n",
       "ESTU_PAIS_RESIDE                                                             CO  \n",
       "ESTU_GENERO                                                                   F  \n",
       "ESTU_NACIMIENTO_DIA                                                          19  \n",
       "ESTU_NACIMIENTO_MES                                                           3  \n",
       "ESTU_NACIMIENTO_ANNO                                                       1994  \n",
       "ESTU_EDAD                                                                    16  \n",
       "ESTU_LIMITA_BAJAVISION                                                      NaN  \n",
       "ESTU_LIMITA_SORDOCEGUERA                                                    NaN  \n",
       "ESTU_LIMITA_COGNITIVA                                                       NaN  \n",
       "ESTU_LIMITA_INVIDENTE                                                       NaN  \n",
       "ESTU_LIMITA_MOTRIZ                                                          NaN  \n",
       "ESTU_LIMITA_SORDOINTERPRETE                                                 NaN  \n",
       "ESTU_LIMITA_SORDONOINTERPRETE                                               NaN  \n",
       "ESTU_ETNIA                                                                  NaN  \n",
       "ESTU_COD_RESIDE_MCPIO                                                     73483  \n",
       "ESTU_RESIDE_MCPIO                                                     NATAGAIMA  \n",
       "ESTU_RESIDE_DEPTO                                                        TOLIMA  \n",
       "ESTU_ZONA_RESIDE                                                             10  \n",
       "ESTU_AREA_RESIDE                                                              2  \n",
       "IND_COD_ICFES_TERMINO                                                     16451  \n",
       "COLE_COD_ICFES                                                            16451  \n",
       "COLE_COD_DANE_INSTITUCION                                           1.73483e+11  \n",
       "COLE_NOMBRE_SEDE               I.E.T. FRANCISCO JOSE DE CALDAS - SEDE PRINCIPAL  \n",
       "COLE_CALENDARIO                                                               A  \n",
       "COLE_GENERO                                                                   X  \n",
       "COLE_NATURALEZA                                                               O  \n",
       "COLE_BILINGUE                                                                 0  \n",
       "...                                                                         ...  \n",
       "FAMI_PERSONAS_HOGAR                                                           8  \n",
       "FAMI_CUARTOS_HOGAR                                                          NaN  \n",
       "FAMI_PISOSHOGAR                                                               2  \n",
       "FAMI_TELEFONO_FIJO                                                            0  \n",
       "FAMI_CELULAR                                                                  1  \n",
       "FAMI_INTERNET                                                                 0  \n",
       "FAMI_SERVICIO_TELEVISION                                                      0  \n",
       "FAMI_COMPUTADOR                                                               0  \n",
       "FAMI_LAVADORA                                                                 0  \n",
       "FAMI_NEVERA                                                                   1  \n",
       "FAMI_HORNO                                                                    0  \n",
       "FAMI_DVD                                                                      1  \n",
       "FAMI_MICROONDAS                                                               0  \n",
       "FAMI_AUTOMOVIL                                                                0  \n",
       "FAMI_INGRESO_FMILIAR_MENSUAL                                                  2  \n",
       "ESTU_TRABAJA                                                                  0  \n",
       "ESTU_HORAS_TRABAJA                                                          NaN  \n",
       "PUNT_LENGUAJE                                                              50,6  \n",
       "PUNT_MATEMATICAS                                                          39,12  \n",
       "PUNT_C_SOCIALES                                                           43,18  \n",
       "PUNT_FILOSOFIA                                                             45,2  \n",
       "PUNT_BIOLOGIA                                                             37,43  \n",
       "PUNT_QUIMICA                                                              40,31  \n",
       "PUNT_FISICA                                                               50,64  \n",
       "PUNT_INGLES                                                               34,94  \n",
       "DESEMP_INGLES                                                                A-  \n",
       "NOMBRE_COMP_FLEXIBLE                                             MEDIO AMBIENTE  \n",
       "PUNT_COMP_FLEXIBLE                                                        54,75  \n",
       "DESEMP_COMP_FLEXIBLE                                                        NaN  \n",
       "ESTU_PUESTO                                                                 807  \n",
       "\n",
       "[114 rows x 3 columns]"
      ]
     },
     "execution_count": 4,
     "metadata": {},
     "output_type": "execute_result"
    }
   ],
   "source": [
    "data_2010_2.head(3).T"
   ]
  },
  {
   "cell_type": "code",
   "execution_count": 6,
   "metadata": {
    "collapsed": true
   },
   "outputs": [],
   "source": [
    "data_2010_2 = data_2010_2.drop(['ESTU_CONSECUTIVO', 'PERIODO', 'ESTU_TIPO_DOCUMENTO', 'ESTU_COD_RESIDE_MCPIO',\n",
    "                               'COLE_NOMBRE_SEDE', 'ESTU_IES_DESEADA_NOMBRE', 'ESTU_IES_COD_MPIO_DESEADA'], axis=1)"
   ]
  },
  {
   "cell_type": "code",
   "execution_count": null,
   "metadata": {
    "collapsed": true
   },
   "outputs": [],
   "source": [
    "c = 'ESTU_PAIS_RESIDE'\n",
    "data_2010_2[c].value_counts().sort_index().index\n",
    "data_2010_2[c].value_counts().sort_index()\n",
    "missing_data(data_2010_2[c])"
   ]
  },
  {
   "cell_type": "code",
   "execution_count": null,
   "metadata": {
    "collapsed": true
   },
   "outputs": [],
   "source": [
    "c = 'ESTU_GENERO'\n",
    "data_2010_2[c].value_counts().sort_index().index\n",
    "data_2010_2[c].value_counts().sort_index()\n",
    "missing_data(data_2010_2[c])"
   ]
  },
  {
   "cell_type": "code",
   "execution_count": null,
   "metadata": {
    "collapsed": true
   },
   "outputs": [],
   "source": [
    "c = 'ESTU_NACIMIENTO_DIA'\n",
    "data_2010_2[c].value_counts().sort_index().index\n",
    "data_2010_2[c].value_counts().sort_index()\n",
    "missing_data(data_2010_2[c])"
   ]
  },
  {
   "cell_type": "code",
   "execution_count": null,
   "metadata": {
    "collapsed": true
   },
   "outputs": [],
   "source": [
    "c = 'ESTU_NACIMIENTO_MES'\n",
    "data_2010_2[c].value_counts().sort_index().index\n",
    "data_2010_2[c].value_counts().sort_index()\n",
    "missing_data(data_2010_2[c])"
   ]
  },
  {
   "cell_type": "code",
   "execution_count": null,
   "metadata": {
    "collapsed": true
   },
   "outputs": [],
   "source": [
    "c = 'ESTU_NACIMIENTO_ANNO'\n",
    "data_2010_2[c].value_counts().sort_index().index\n",
    "data_2010_2[c].value_counts().sort_index()\n",
    "missing_data(data_2010_2[c])"
   ]
  },
  {
   "cell_type": "code",
   "execution_count": null,
   "metadata": {
    "collapsed": true
   },
   "outputs": [],
   "source": [
    "c = 'ESTU_EDAD'\n",
    "data_2010_2[c].value_counts().sort_index().index\n",
    "data_2010_2[c].value_counts().sort_index()\n",
    "missing_data(data_2010_2[c])"
   ]
  },
  {
   "cell_type": "code",
   "execution_count": null,
   "metadata": {
    "collapsed": true
   },
   "outputs": [],
   "source": [
    "c = 'ESTU_LIMITA_BAJAVISION'\n",
    "data_2010_2[c].value_counts().sort_index().index\n",
    "data_2010_2[c].value_counts().sort_index()\n",
    "missing_data(data_2010_2[c])"
   ]
  },
  {
   "cell_type": "code",
   "execution_count": null,
   "metadata": {
    "collapsed": true
   },
   "outputs": [],
   "source": [
    "c = 'ESTU_LIMITA_SORDOCEGUERA'\n",
    "data_2010_2[c].value_counts().sort_index().index\n",
    "data_2010_2[c].value_counts().sort_index()\n",
    "missing_data(data_2010_2[c])"
   ]
  },
  {
   "cell_type": "code",
   "execution_count": null,
   "metadata": {
    "collapsed": true
   },
   "outputs": [],
   "source": [
    "c = 'ESTU_LIMITA_COGNITIVA'\n",
    "data_2010_2[c].value_counts().sort_index().index\n",
    "data_2010_2[c].value_counts().sort_index()\n",
    "missing_data(data_2010_2[c])"
   ]
  },
  {
   "cell_type": "code",
   "execution_count": null,
   "metadata": {
    "collapsed": true
   },
   "outputs": [],
   "source": [
    "c = 'ESTU_LIMITA_INVIDENTE'\n",
    "data_2010_2[c].value_counts().sort_index().index\n",
    "data_2010_2[c].value_counts().sort_index()\n",
    "missing_data(data_2010_2[c])"
   ]
  },
  {
   "cell_type": "code",
   "execution_count": null,
   "metadata": {
    "collapsed": true
   },
   "outputs": [],
   "source": [
    "c = 'ESTU_LIMITA_MOTRIZ'\n",
    "data_2010_2[c].value_counts().sort_index().index\n",
    "data_2010_2[c].value_counts().sort_index()\n",
    "missing_data(data_2010_2[c])"
   ]
  },
  {
   "cell_type": "code",
   "execution_count": null,
   "metadata": {
    "collapsed": true
   },
   "outputs": [],
   "source": [
    "c = 'ESTU_LIMITA_SORDOINTERPRETE'\n",
    "data_2010_2[c].value_counts().sort_index().index\n",
    "data_2010_2[c].value_counts().sort_index()\n",
    "missing_data(data_2010_2[c])"
   ]
  },
  {
   "cell_type": "code",
   "execution_count": null,
   "metadata": {
    "collapsed": true
   },
   "outputs": [],
   "source": [
    "c = 'ESTU_LIMITA_SORDONOINTERPRETE'\n",
    "data_2010_2[c].value_counts().sort_index().index\n",
    "data_2010_2[c].value_counts().sort_index()\n",
    "missing_data(data_2010_2[c])"
   ]
  },
  {
   "cell_type": "code",
   "execution_count": null,
   "metadata": {
    "collapsed": true
   },
   "outputs": [],
   "source": [
    "c = 'ESTU_ETNIA'\n",
    "data_2010_2[c].value_counts().sort_index().index\n",
    "data_2010_2[c].value_counts().sort_index()\n",
    "missing_data(data_2010_2[c])"
   ]
  },
  {
   "cell_type": "code",
   "execution_count": null,
   "metadata": {
    "collapsed": true
   },
   "outputs": [],
   "source": [
    "c = 'ESTU_RESIDE_MCPIO'\n",
    "data_2010_2[c].value_counts().sort_index().index\n",
    "data_2010_2[c].value_counts().sort_index()\n",
    "missing_data(data_2010_2[c])"
   ]
  },
  {
   "cell_type": "code",
   "execution_count": null,
   "metadata": {
    "collapsed": true
   },
   "outputs": [],
   "source": [
    "c = 'ESTU_RESIDE_DEPTO'\n",
    "data_2010_2[c].value_counts().sort_index().index\n",
    "data_2010_2[c].value_counts().sort_index()\n",
    "missing_data(data_2010_2[c])"
   ]
  },
  {
   "cell_type": "code",
   "execution_count": null,
   "metadata": {
    "collapsed": true
   },
   "outputs": [],
   "source": [
    "c = 'ESTU_ZONA_RESIDE'\n",
    "data_2010_2[c].value_counts().sort_index().index\n",
    "data_2010_2[c].value_counts().sort_index()\n",
    "missing_data(data_2010_2[c])"
   ]
  },
  {
   "cell_type": "code",
   "execution_count": null,
   "metadata": {
    "collapsed": true
   },
   "outputs": [],
   "source": [
    "c = 'ESTU_AREA_RESIDE'\n",
    "data_2010_2[c].value_counts().sort_index().index\n",
    "data_2010_2[c].value_counts().sort_index()\n",
    "missing_data(data_2010_2[c])"
   ]
  },
  {
   "cell_type": "code",
   "execution_count": null,
   "metadata": {
    "collapsed": true
   },
   "outputs": [],
   "source": [
    "c = 'IND_COD_ICFES_TERMINO'\n",
    "data_2010_2[c].value_counts().sort_index().index\n",
    "data_2010_2[c].value_counts().sort_index()\n",
    "missing_data(data_2010_2[c])"
   ]
  },
  {
   "cell_type": "code",
   "execution_count": null,
   "metadata": {
    "collapsed": true
   },
   "outputs": [],
   "source": [
    "c = 'COLE_COD_ICFES'\n",
    "data_2010_2[c].value_counts().sort_index().index\n",
    "data_2010_2[c].value_counts().sort_index()\n",
    "missing_data(data_2010_2[c])"
   ]
  },
  {
   "cell_type": "code",
   "execution_count": null,
   "metadata": {
    "collapsed": true
   },
   "outputs": [],
   "source": [
    "c = 'COLE_COD_DANE_INSTITUCION'\n",
    "data_2010_2[c].value_counts().sort_index().index\n",
    "data_2010_2[c].value_counts().sort_index()\n",
    "missing_data(data_2010_2[c])"
   ]
  },
  {
   "cell_type": "code",
   "execution_count": null,
   "metadata": {
    "collapsed": true
   },
   "outputs": [],
   "source": [
    "c = 'COLE_CALENDARIO'\n",
    "data_2010_2[c].value_counts().sort_index().index\n",
    "data_2010_2[c].value_counts().sort_index()\n",
    "missing_data(data_2010_2[c])"
   ]
  },
  {
   "cell_type": "code",
   "execution_count": null,
   "metadata": {
    "collapsed": true
   },
   "outputs": [],
   "source": [
    "c = 'COLE_GENERO'\n",
    "data_2010_2[c].value_counts().sort_index().index\n",
    "data_2010_2[c].value_counts().sort_index()\n",
    "missing_data(data_2010_2[c])"
   ]
  },
  {
   "cell_type": "code",
   "execution_count": null,
   "metadata": {
    "collapsed": true
   },
   "outputs": [],
   "source": [
    "c = 'COLE_NATURALEZA'\n",
    "data_2010_2[c].value_counts().sort_index().index\n",
    "data_2010_2[c].value_counts().sort_index()\n",
    "missing_data(data_2010_2[c])"
   ]
  },
  {
   "cell_type": "code",
   "execution_count": null,
   "metadata": {
    "collapsed": true
   },
   "outputs": [],
   "source": [
    "c = 'COLE_BILINGUE'\n",
    "data_2010_2[c].value_counts().sort_index().index\n",
    "data_2010_2[c].value_counts().sort_index()\n",
    "missing_data(data_2010_2[c])"
   ]
  },
  {
   "cell_type": "code",
   "execution_count": null,
   "metadata": {
    "collapsed": true
   },
   "outputs": [],
   "source": [
    "c = 'COLE_JORNADA'\n",
    "data_2010_2[c].value_counts().sort_index().index\n",
    "data_2010_2[c].value_counts().sort_index()\n",
    "missing_data(data_2010_2[c])"
   ]
  },
  {
   "cell_type": "code",
   "execution_count": null,
   "metadata": {
    "collapsed": true
   },
   "outputs": [],
   "source": [
    "c = 'COLE_CARACTER'\n",
    "data_2010_2[c].value_counts().sort_index().index\n",
    "data_2010_2[c].value_counts().sort_index()\n",
    "missing_data(data_2010_2[c])"
   ]
  },
  {
   "cell_type": "code",
   "execution_count": null,
   "metadata": {
    "collapsed": true
   },
   "outputs": [],
   "source": [
    "c = 'ESTU_CARRDESEADA_TIPO'\n",
    "data_2010_2[c].value_counts().sort_index().index\n",
    "data_2010_2[c].value_counts().sort_index()\n",
    "missing_data(data_2010_2[c])"
   ]
  },
  {
   "cell_type": "code",
   "execution_count": null,
   "metadata": {
    "collapsed": true
   },
   "outputs": [],
   "source": [
    "c = 'ESTU_IES_COD_DESEADA'\n",
    "data_2010_2[c].value_counts().sort_index().index\n",
    "data_2010_2[c].value_counts().sort_index()\n",
    "missing_data(data_2010_2[c])"
   ]
  },
  {
   "cell_type": "code",
   "execution_count": null,
   "metadata": {
    "collapsed": true
   },
   "outputs": [],
   "source": [
    "c = 'ESTU_IES_DEPT_DESEADA'\n",
    "data_2010_2[c].value_counts().sort_index().index\n",
    "data_2010_2[c].value_counts().sort_index()\n",
    "missing_data(data_2010_2[c])"
   ]
  },
  {
   "cell_type": "code",
   "execution_count": null,
   "metadata": {
    "collapsed": true
   },
   "outputs": [],
   "source": [
    "c = 'ESTU_IES_MPIO_DESEADA'\n",
    "data_2010_2[c].value_counts().sort_index().index\n",
    "data_2010_2[c].value_counts().sort_index()\n",
    "missing_data(data_2010_2[c])"
   ]
  },
  {
   "cell_type": "code",
   "execution_count": null,
   "metadata": {
    "collapsed": true
   },
   "outputs": [],
   "source": [
    "c = 'ESTU_TOTAL_ALUMNOS_CURSO'\n",
    "data_2010_2[c].value_counts().sort_index().index\n",
    "data_2010_2[c].value_counts().sort_index()\n",
    "missing_data(data_2010_2[c])"
   ]
  },
  {
   "cell_type": "code",
   "execution_count": null,
   "metadata": {
    "collapsed": true
   },
   "outputs": [],
   "source": [
    "c = 'ESTU_ANO_MATRICULA_PRIMERO'\n",
    "data_2010_2[c].value_counts().sort_index().index\n",
    "data_2010_2[c].value_counts().sort_index()\n",
    "missing_data(data_2010_2[c])"
   ]
  },
  {
   "cell_type": "code",
   "execution_count": null,
   "metadata": {
    "collapsed": true
   },
   "outputs": [],
   "source": [
    "c = 'ESTU_ANO_TERMINO_QUINTO'\n",
    "data_2010_2[c].value_counts().sort_index().index\n",
    "data_2010_2[c].value_counts().sort_index()\n",
    "missing_data(data_2010_2[c])"
   ]
  },
  {
   "cell_type": "code",
   "execution_count": null,
   "metadata": {
    "collapsed": true
   },
   "outputs": [],
   "source": [
    "c = 'ESTU_ANOS_COLEGIO_ACTUAL'\n",
    "data_2010_2[c].value_counts().sort_index().index\n",
    "data_2010_2[c].value_counts().sort_index()\n",
    "missing_data(data_2010_2[c])"
   ]
  },
  {
   "cell_type": "code",
   "execution_count": null,
   "metadata": {
    "collapsed": true
   },
   "outputs": [],
   "source": [
    "c = 'ESTU_ANO_MATRICULA_SEXTO'\n",
    "data_2010_2[c].value_counts().sort_index().index\n",
    "data_2010_2[c].value_counts().sort_index()\n",
    "missing_data(data_2010_2[c])"
   ]
  },
  {
   "cell_type": "code",
   "execution_count": null,
   "metadata": {
    "collapsed": true
   },
   "outputs": [],
   "source": [
    "c = 'ESTU_ANOS_PREESCOLAR'\n",
    "data_2010_2[c].value_counts().sort_index().index\n",
    "data_2010_2[c].value_counts().sort_index()\n",
    "missing_data(data_2010_2[c])"
   ]
  },
  {
   "cell_type": "code",
   "execution_count": null,
   "metadata": {
    "collapsed": true
   },
   "outputs": [],
   "source": [
    "c = 'ESTU_CUANTOS_COLE_ESTUDIO'\n",
    "data_2010_2[c].value_counts().sort_index().index\n",
    "data_2010_2[c].value_counts().sort_index()\n",
    "missing_data(data_2010_2[c])"
   ]
  },
  {
   "cell_type": "code",
   "execution_count": null,
   "metadata": {
    "collapsed": true
   },
   "outputs": [],
   "source": [
    "c = 'ESTU_REPROBO_CUARTO'\n",
    "data_2010_2[c].value_counts().sort_index().index\n",
    "data_2010_2[c].value_counts().sort_index()\n",
    "missing_data(data_2010_2[c])"
   ]
  },
  {
   "cell_type": "code",
   "execution_count": null,
   "metadata": {
    "collapsed": true
   },
   "outputs": [],
   "source": [
    "c = 'ESTU_REPROBO_DECIMO'\n",
    "data_2010_2[c].value_counts().sort_index().index\n",
    "data_2010_2[c].value_counts().sort_index()\n",
    "missing_data(data_2010_2[c])"
   ]
  },
  {
   "cell_type": "code",
   "execution_count": null,
   "metadata": {
    "collapsed": true
   },
   "outputs": [],
   "source": [
    "c = 'ESTU_REPROBO_NOVENO'\n",
    "data_2010_2[c].value_counts().sort_index().index\n",
    "data_2010_2[c].value_counts().sort_index()\n",
    "missing_data(data_2010_2[c])"
   ]
  },
  {
   "cell_type": "code",
   "execution_count": null,
   "metadata": {
    "collapsed": true
   },
   "outputs": [],
   "source": [
    "c = 'ESTU_REPROBO_OCTAVO'\n",
    "data_2010_2[c].value_counts().sort_index().index\n",
    "data_2010_2[c].value_counts().sort_index()\n",
    "missing_data(data_2010_2[c])"
   ]
  },
  {
   "cell_type": "code",
   "execution_count": null,
   "metadata": {
    "collapsed": true
   },
   "outputs": [],
   "source": [
    "c = 'ESTU_REPROBO_PRIMERO'\n",
    "data_2010_2[c].value_counts().sort_index().index\n",
    "data_2010_2[c].value_counts().sort_index()\n",
    "missing_data(data_2010_2[c])"
   ]
  },
  {
   "cell_type": "code",
   "execution_count": null,
   "metadata": {
    "collapsed": true
   },
   "outputs": [],
   "source": [
    "c = 'ESTU_REPROBO_QUINTO'\n",
    "data_2010_2[c].value_counts().sort_index().index\n",
    "data_2010_2[c].value_counts().sort_index()\n",
    "missing_data(data_2010_2[c])"
   ]
  },
  {
   "cell_type": "code",
   "execution_count": null,
   "metadata": {
    "collapsed": true
   },
   "outputs": [],
   "source": [
    "c = 'ESTU_REPROBO_SEGUNDO'\n",
    "data_2010_2[c].value_counts().sort_index().index\n",
    "data_2010_2[c].value_counts().sort_index()\n",
    "missing_data(data_2010_2[c])"
   ]
  },
  {
   "cell_type": "code",
   "execution_count": null,
   "metadata": {
    "collapsed": true
   },
   "outputs": [],
   "source": [
    "c = 'ESTU_REPROBO_SEPTIMO'\n",
    "data_2010_2[c].value_counts().sort_index().index\n",
    "data_2010_2[c].value_counts().sort_index()\n",
    "missing_data(data_2010_2[c])"
   ]
  },
  {
   "cell_type": "code",
   "execution_count": null,
   "metadata": {
    "collapsed": true
   },
   "outputs": [],
   "source": [
    "c = 'ESTU_REPROBO_SEXTO'\n",
    "data_2010_2[c].value_counts().sort_index().index\n",
    "data_2010_2[c].value_counts().sort_index()\n",
    "missing_data(data_2010_2[c])"
   ]
  },
  {
   "cell_type": "code",
   "execution_count": null,
   "metadata": {
    "collapsed": true
   },
   "outputs": [],
   "source": [
    "c = 'ESTU_REPROBO_TERCERO'\n",
    "data_2010_2[c].value_counts().sort_index().index\n",
    "data_2010_2[c].value_counts().sort_index()\n",
    "missing_data(data_2010_2[c])"
   ]
  },
  {
   "cell_type": "code",
   "execution_count": null,
   "metadata": {
    "collapsed": true
   },
   "outputs": [],
   "source": [
    "c = 'ESTU_REPROBO_ONCE_MAS'\n",
    "data_2010_2[c].value_counts().sort_index().index\n",
    "data_2010_2[c].value_counts().sort_index()\n",
    "missing_data(data_2010_2[c])"
   ]
  },
  {
   "cell_type": "code",
   "execution_count": null,
   "metadata": {
    "collapsed": true
   },
   "outputs": [],
   "source": [
    "c = 'ESTU_POR_MEJORARPOSICIONSOCIAL'\n",
    "data_2010_2[c].value_counts().sort_index().index\n",
    "data_2010_2[c].value_counts().sort_index()\n",
    "missing_data(data_2010_2[c])"
   ]
  },
  {
   "cell_type": "code",
   "execution_count": null,
   "metadata": {
    "collapsed": true
   },
   "outputs": [],
   "source": [
    "c = 'ESTU_POR_COLOMBIAAPRENDE'\n",
    "data_2010_2[c].value_counts().sort_index().index\n",
    "data_2010_2[c].value_counts().sort_index()\n",
    "missing_data(data_2010_2[c])"
   ]
  },
  {
   "cell_type": "code",
   "execution_count": null,
   "metadata": {
    "collapsed": true
   },
   "outputs": [],
   "source": [
    "c = 'ESTU_POR_INFLUENCIAALGUIEN'\n",
    "data_2010_2[c].value_counts().sort_index().index\n",
    "data_2010_2[c].value_counts().sort_index()\n",
    "missing_data(data_2010_2[c])"
   ]
  },
  {
   "cell_type": "code",
   "execution_count": null,
   "metadata": {
    "collapsed": true
   },
   "outputs": [],
   "source": [
    "c = 'ESTU_POR_INTERESPERSONAL'\n",
    "data_2010_2[c].value_counts().sort_index().index\n",
    "data_2010_2[c].value_counts().sort_index()\n",
    "missing_data(data_2010_2[c])"
   ]
  },
  {
   "cell_type": "code",
   "execution_count": null,
   "metadata": {
    "collapsed": true
   },
   "outputs": [],
   "source": [
    "c = 'ESTU_POR_BUSCANDOCARRERA'\n",
    "data_2010_2[c].value_counts().sort_index().index\n",
    "data_2010_2[c].value_counts().sort_index()\n",
    "missing_data(data_2010_2[c])"
   ]
  },
  {
   "cell_type": "code",
   "execution_count": null,
   "metadata": {
    "collapsed": true
   },
   "outputs": [],
   "source": [
    "c = 'ESTU_POR_TRADICIONFAMILIAR'\n",
    "data_2010_2[c].value_counts().sort_index().index\n",
    "data_2010_2[c].value_counts().sort_index()\n",
    "missing_data(data_2010_2[c])"
   ]
  },
  {
   "cell_type": "code",
   "execution_count": null,
   "metadata": {
    "collapsed": true
   },
   "outputs": [],
   "source": [
    "c = 'ESTU_POR_ORIENTACIONVOCACIONAL'\n",
    "data_2010_2[c].value_counts().sort_index().index\n",
    "data_2010_2[c].value_counts().sort_index()\n",
    "missing_data(data_2010_2[c])"
   ]
  },
  {
   "cell_type": "code",
   "execution_count": null,
   "metadata": {
    "collapsed": true
   },
   "outputs": [],
   "source": [
    "c = 'ESTU_RAZON_RETIRO'\n",
    "data_2010_2[c].value_counts().sort_index().index\n",
    "data_2010_2[c].value_counts().sort_index()\n",
    "missing_data(data_2010_2[c])"
   ]
  },
  {
   "cell_type": "code",
   "execution_count": null,
   "metadata": {
    "collapsed": true
   },
   "outputs": [],
   "source": [
    "c = 'ESTU_POR_AMIGOSESTUDIANDO'\n",
    "data_2010_2[c].value_counts().sort_index().index\n",
    "data_2010_2[c].value_counts().sort_index()\n",
    "missing_data(data_2010_2[c])"
   ]
  },
  {
   "cell_type": "code",
   "execution_count": null,
   "metadata": {
    "collapsed": true
   },
   "outputs": [],
   "source": [
    "c = 'ESTU_POR_COSTOMATRICULA'\n",
    "data_2010_2[c].value_counts().sort_index().index\n",
    "data_2010_2[c].value_counts().sort_index()\n",
    "missing_data(data_2010_2[c])"
   ]
  },
  {
   "cell_type": "code",
   "execution_count": null,
   "metadata": {
    "collapsed": true
   },
   "outputs": [],
   "source": [
    "c = 'ESTU_POR_OPORTUNIDADES'\n",
    "data_2010_2[c].value_counts().sort_index().index\n",
    "data_2010_2[c].value_counts().sort_index()\n",
    "missing_data(data_2010_2[c])"
   ]
  },
  {
   "cell_type": "code",
   "execution_count": null,
   "metadata": {
    "collapsed": true
   },
   "outputs": [],
   "source": [
    "c = 'ESTU_POR_OTRARAZON'\n",
    "data_2010_2[c].value_counts().sort_index().index\n",
    "data_2010_2[c].value_counts().sort_index()\n",
    "missing_data(data_2010_2[c])"
   ]
  },
  {
   "cell_type": "code",
   "execution_count": null,
   "metadata": {
    "collapsed": true
   },
   "outputs": [],
   "source": [
    "c = 'ESTU_PRESTIGIOINSTITUCION'\n",
    "data_2010_2[c].value_counts().sort_index().index\n",
    "data_2010_2[c].value_counts().sort_index()\n",
    "missing_data(data_2010_2[c])"
   ]
  },
  {
   "cell_type": "code",
   "execution_count": null,
   "metadata": {
    "collapsed": true
   },
   "outputs": [],
   "source": [
    "c = 'ESTU_POR_UBICACION'\n",
    "data_2010_2[c].value_counts().sort_index().index\n",
    "data_2010_2[c].value_counts().sort_index()\n",
    "missing_data(data_2010_2[c])"
   ]
  },
  {
   "cell_type": "code",
   "execution_count": null,
   "metadata": {
    "collapsed": true
   },
   "outputs": [],
   "source": [
    "c = 'ESTU_POR_UNICAQUEOFRECE'\n",
    "data_2010_2[c].value_counts().sort_index().index\n",
    "data_2010_2[c].value_counts().sort_index()\n",
    "missing_data(data_2010_2[c])"
   ]
  },
  {
   "cell_type": "code",
   "execution_count": null,
   "metadata": {
    "collapsed": true
   },
   "outputs": [],
   "source": [
    "c = 'ESTU_RETIRARSE_COLEGIO'\n",
    "data_2010_2[c].value_counts().sort_index().index\n",
    "data_2010_2[c].value_counts().sort_index()\n",
    "missing_data(data_2010_2[c])"
   ]
  },
  {
   "cell_type": "code",
   "execution_count": null,
   "metadata": {
    "collapsed": true
   },
   "outputs": [],
   "source": [
    "c = 'COLE_VALOR_PENSION'\n",
    "data_2010_2[c].value_counts().sort_index().index\n",
    "data_2010_2[c].value_counts().sort_index()\n",
    "missing_data(data_2010_2[c])"
   ]
  },
  {
   "cell_type": "code",
   "execution_count": null,
   "metadata": {
    "collapsed": true
   },
   "outputs": [],
   "source": [
    "c = 'ESTU_VECES_ESTADO'\n",
    "data_2010_2[c].value_counts().sort_index().index\n",
    "data_2010_2[c].value_counts().sort_index()\n",
    "missing_data(data_2010_2[c])"
   ]
  },
  {
   "cell_type": "code",
   "execution_count": null,
   "metadata": {
    "collapsed": true
   },
   "outputs": [],
   "source": [
    "c = 'ESTU_COD_MCPIO_PRESENTACION'\n",
    "data_2010_2[c].value_counts().sort_index().index\n",
    "data_2010_2[c].value_counts().sort_index()\n",
    "missing_data(data_2010_2[c])"
   ]
  },
  {
   "cell_type": "code",
   "execution_count": null,
   "metadata": {
    "collapsed": true
   },
   "outputs": [],
   "source": [
    "c = 'ESTU_MCPIO_PRESENTACION'\n",
    "data_2010_2[c].value_counts().sort_index().index\n",
    "data_2010_2[c].value_counts().sort_index()\n",
    "missing_data(data_2010_2[c])"
   ]
  },
  {
   "cell_type": "code",
   "execution_count": null,
   "metadata": {
    "collapsed": true
   },
   "outputs": [],
   "source": [
    "c = 'ESTU_DEPTO_PRESENTACION'\n",
    "data_2010_2[c].value_counts().sort_index().index\n",
    "data_2010_2[c].value_counts().sort_index()\n",
    "missing_data(data_2010_2[c])"
   ]
  },
  {
   "cell_type": "code",
   "execution_count": null,
   "metadata": {
    "collapsed": true
   },
   "outputs": [],
   "source": [
    "c = 'ESTU_EXAM_NOMBREEXAMEN'\n",
    "data_2010_2[c].value_counts().sort_index().index\n",
    "data_2010_2[c].value_counts().sort_index()\n",
    "missing_data(data_2010_2[c])"
   ]
  },
  {
   "cell_type": "code",
   "execution_count": null,
   "metadata": {
    "collapsed": true
   },
   "outputs": [],
   "source": [
    "c = 'FAMI_EDUCA_PADRE'\n",
    "data_2010_2[c].value_counts().sort_index().index\n",
    "data_2010_2[c].value_counts().sort_index()\n",
    "missing_data(data_2010_2[c])"
   ]
  },
  {
   "cell_type": "code",
   "execution_count": null,
   "metadata": {
    "collapsed": true
   },
   "outputs": [],
   "source": [
    "c = 'FAMI_EDUCA_MADRE'\n",
    "data_2010_2[c].value_counts().sort_index().index\n",
    "data_2010_2[c].value_counts().sort_index()\n",
    "missing_data(data_2010_2[c])"
   ]
  },
  {
   "cell_type": "code",
   "execution_count": null,
   "metadata": {
    "collapsed": true
   },
   "outputs": [],
   "source": [
    "c = 'FAMI_OCUPA_PADRE'\n",
    "data_2010_2[c].value_counts().sort_index().index\n",
    "data_2010_2[c].value_counts().sort_index()\n",
    "missing_data(data_2010_2[c])"
   ]
  },
  {
   "cell_type": "code",
   "execution_count": null,
   "metadata": {
    "collapsed": true
   },
   "outputs": [],
   "source": [
    "c = 'FAMI_OCUPA_MADRE'\n",
    "data_2010_2[c].value_counts().sort_index().index\n",
    "data_2010_2[c].value_counts().sort_index()\n",
    "missing_data(data_2010_2[c])"
   ]
  },
  {
   "cell_type": "code",
   "execution_count": null,
   "metadata": {
    "collapsed": true
   },
   "outputs": [],
   "source": [
    "c = 'FAMI_ESTRATO_VIVIENDA'\n",
    "data_2010_2[c].value_counts().sort_index().index\n",
    "data_2010_2[c].value_counts().sort_index()\n",
    "missing_data(data_2010_2[c])"
   ]
  },
  {
   "cell_type": "code",
   "execution_count": null,
   "metadata": {
    "collapsed": true
   },
   "outputs": [],
   "source": [
    "c = 'FAMI_NIVEL_SISBEN'\n",
    "data_2010_2[c].value_counts().sort_index().index\n",
    "data_2010_2[c].value_counts().sort_index()\n",
    "missing_data(data_2010_2[c])"
   ]
  },
  {
   "cell_type": "code",
   "execution_count": null,
   "metadata": {
    "collapsed": true
   },
   "outputs": [],
   "source": [
    "c = 'FAMI_PERSONAS_HOGAR'\n",
    "data_2010_2[c].value_counts().sort_index().index\n",
    "data_2010_2[c].value_counts().sort_index()\n",
    "missing_data(data_2010_2[c])"
   ]
  },
  {
   "cell_type": "code",
   "execution_count": null,
   "metadata": {
    "collapsed": true
   },
   "outputs": [],
   "source": [
    "c = 'FAMI_CUARTOS_HOGAR'\n",
    "data_2010_2[c].value_counts().sort_index().index\n",
    "data_2010_2[c].value_counts().sort_index()\n",
    "missing_data(data_2010_2[c])"
   ]
  },
  {
   "cell_type": "code",
   "execution_count": null,
   "metadata": {
    "collapsed": true
   },
   "outputs": [],
   "source": [
    "c = 'FAMI_PISOSHOGAR'\n",
    "data_2010_2[c].value_counts().sort_index().index\n",
    "data_2010_2[c].value_counts().sort_index()\n",
    "missing_data(data_2010_2[c])"
   ]
  },
  {
   "cell_type": "code",
   "execution_count": null,
   "metadata": {
    "collapsed": true
   },
   "outputs": [],
   "source": [
    "c = 'FAMI_TELEFONO_FIJO'\n",
    "data_2010_2[c].value_counts().sort_index().index\n",
    "data_2010_2[c].value_counts().sort_index()\n",
    "missing_data(data_2010_2[c])"
   ]
  },
  {
   "cell_type": "code",
   "execution_count": null,
   "metadata": {
    "collapsed": true
   },
   "outputs": [],
   "source": [
    "c = 'FAMI_CELULAR'\n",
    "data_2010_2[c].value_counts().sort_index().index\n",
    "data_2010_2[c].value_counts().sort_index()\n",
    "missing_data(data_2010_2[c])"
   ]
  },
  {
   "cell_type": "code",
   "execution_count": null,
   "metadata": {
    "collapsed": true
   },
   "outputs": [],
   "source": [
    "c = 'FAMI_INTERNET'\n",
    "data_2010_2[c].value_counts().sort_index().index\n",
    "data_2010_2[c].value_counts().sort_index()\n",
    "missing_data(data_2010_2[c])"
   ]
  },
  {
   "cell_type": "code",
   "execution_count": null,
   "metadata": {
    "collapsed": true
   },
   "outputs": [],
   "source": [
    "c = 'FAMI_SERVICIO_TELEVISION'\n",
    "data_2010_2[c].value_counts().sort_index().index\n",
    "data_2010_2[c].value_counts().sort_index()\n",
    "missing_data(data_2010_2[c])"
   ]
  },
  {
   "cell_type": "code",
   "execution_count": null,
   "metadata": {
    "collapsed": true
   },
   "outputs": [],
   "source": [
    "c = 'FAMI_COMPUTADOR'\n",
    "data_2010_2[c].value_counts().sort_index().index\n",
    "data_2010_2[c].value_counts().sort_index()\n",
    "missing_data(data_2010_2[c])"
   ]
  },
  {
   "cell_type": "code",
   "execution_count": null,
   "metadata": {
    "collapsed": true
   },
   "outputs": [],
   "source": [
    "c = 'FAMI_LAVADORA'\n",
    "data_2010_2[c].value_counts().sort_index().index\n",
    "data_2010_2[c].value_counts().sort_index()\n",
    "missing_data(data_2010_2[c])"
   ]
  },
  {
   "cell_type": "code",
   "execution_count": null,
   "metadata": {
    "collapsed": true
   },
   "outputs": [],
   "source": [
    "c = 'FAMI_NEVERA'\n",
    "data_2010_2[c].value_counts().sort_index().index\n",
    "data_2010_2[c].value_counts().sort_index()\n",
    "missing_data(data_2010_2[c])"
   ]
  },
  {
   "cell_type": "code",
   "execution_count": null,
   "metadata": {
    "collapsed": true
   },
   "outputs": [],
   "source": [
    "c = 'FAMI_HORNO'\n",
    "data_2010_2[c].value_counts().sort_index().index\n",
    "data_2010_2[c].value_counts().sort_index()\n",
    "missing_data(data_2010_2[c])"
   ]
  },
  {
   "cell_type": "code",
   "execution_count": null,
   "metadata": {
    "collapsed": true
   },
   "outputs": [],
   "source": [
    "c = 'FAMI_DVD'\n",
    "data_2010_2[c].value_counts().sort_index().index\n",
    "data_2010_2[c].value_counts().sort_index()\n",
    "missing_data(data_2010_2[c])"
   ]
  },
  {
   "cell_type": "code",
   "execution_count": null,
   "metadata": {
    "collapsed": true
   },
   "outputs": [],
   "source": [
    "c = 'FAMI_MICROONDAS'\n",
    "data_2010_2[c].value_counts().sort_index().index\n",
    "data_2010_2[c].value_counts().sort_index()\n",
    "missing_data(data_2010_2[c])"
   ]
  },
  {
   "cell_type": "code",
   "execution_count": null,
   "metadata": {
    "collapsed": true
   },
   "outputs": [],
   "source": [
    "c = 'FAMI_AUTOMOVIL'\n",
    "data_2010_2[c].value_counts().sort_index().index\n",
    "data_2010_2[c].value_counts().sort_index()\n",
    "missing_data(data_2010_2[c])"
   ]
  },
  {
   "cell_type": "code",
   "execution_count": null,
   "metadata": {
    "collapsed": true
   },
   "outputs": [],
   "source": [
    "c = 'FAMI_INGRESO_FMILIAR_MENSUAL'\n",
    "data_2010_2[c].value_counts().sort_index().index\n",
    "data_2010_2[c].value_counts().sort_index()\n",
    "missing_data(data_2010_2[c])"
   ]
  },
  {
   "cell_type": "code",
   "execution_count": null,
   "metadata": {
    "collapsed": true
   },
   "outputs": [],
   "source": [
    "c = 'ESTU_TRABAJA'\n",
    "data_2010_2[c].value_counts().sort_index().index\n",
    "data_2010_2[c].value_counts().sort_index()\n",
    "missing_data(data_2010_2[c])"
   ]
  },
  {
   "cell_type": "code",
   "execution_count": null,
   "metadata": {
    "collapsed": true
   },
   "outputs": [],
   "source": [
    "c = 'ESTU_HORAS_TRABAJA'\n",
    "data_2010_2[c].value_counts().sort_index().index\n",
    "data_2010_2[c].value_counts().sort_index()\n",
    "missing_data(data_2010_2[c])"
   ]
  },
  {
   "cell_type": "markdown",
   "metadata": {},
   "source": [
    "## TARGETS"
   ]
  },
  {
   "cell_type": "code",
   "execution_count": null,
   "metadata": {
    "collapsed": true
   },
   "outputs": [],
   "source": [
    "c = 'PUNT_LENGUAJE'\n",
    "data_2010_2[c].value_counts().sort_index().index\n",
    "data_2010_2[c].value_counts().sort_index()\n",
    "missing_data(data_2010_2[c])"
   ]
  },
  {
   "cell_type": "code",
   "execution_count": null,
   "metadata": {
    "collapsed": true
   },
   "outputs": [],
   "source": [
    "c = 'PUNT_MATEMATICAS'\n",
    "data_2010_2[c].value_counts().sort_index().index\n",
    "data_2010_2[c].value_counts().sort_index()\n",
    "missing_data(data_2010_2[c])"
   ]
  },
  {
   "cell_type": "code",
   "execution_count": null,
   "metadata": {
    "collapsed": true
   },
   "outputs": [],
   "source": [
    "c = 'PUNT_C_SOCIALES'\n",
    "data_2010_2[c].value_counts().sort_index().index\n",
    "data_2010_2[c].value_counts().sort_index()\n",
    "missing_data(data_2010_2[c])"
   ]
  },
  {
   "cell_type": "code",
   "execution_count": null,
   "metadata": {
    "collapsed": true
   },
   "outputs": [],
   "source": [
    "c = 'PUNT_FILOSOFIA'\n",
    "data_2010_2[c].value_counts().sort_index().index\n",
    "data_2010_2[c].value_counts().sort_index()\n",
    "missing_data(data_2010_2[c])"
   ]
  },
  {
   "cell_type": "code",
   "execution_count": null,
   "metadata": {
    "collapsed": true
   },
   "outputs": [],
   "source": [
    "c = 'PUNT_BIOLOGIA'\n",
    "data_2010_2[c].value_counts().sort_index().index\n",
    "data_2010_2[c].value_counts().sort_index()\n",
    "missing_data(data_2010_2[c])"
   ]
  },
  {
   "cell_type": "code",
   "execution_count": null,
   "metadata": {
    "collapsed": true
   },
   "outputs": [],
   "source": [
    "c = 'PUNT_QUIMICA'\n",
    "data_2010_2[c].value_counts().sort_index().index\n",
    "data_2010_2[c].value_counts().sort_index()\n",
    "missing_data(data_2010_2[c])"
   ]
  },
  {
   "cell_type": "code",
   "execution_count": null,
   "metadata": {
    "collapsed": true
   },
   "outputs": [],
   "source": [
    "c = 'PUNT_FISICA'\n",
    "data_2010_2[c].value_counts().sort_index().index\n",
    "data_2010_2[c].value_counts().sort_index()\n",
    "missing_data(data_2010_2[c])"
   ]
  },
  {
   "cell_type": "code",
   "execution_count": null,
   "metadata": {
    "collapsed": true
   },
   "outputs": [],
   "source": [
    "c = 'PUNT_INGLES'\n",
    "data_2010_2[c].value_counts().sort_index().index\n",
    "data_2010_2[c].value_counts().sort_index()\n",
    "missing_data(data_2010_2[c])"
   ]
  },
  {
   "cell_type": "code",
   "execution_count": null,
   "metadata": {
    "collapsed": true
   },
   "outputs": [],
   "source": [
    "c = 'DESEMP_INGLES'\n",
    "data_2010_2[c].value_counts().sort_index().index\n",
    "data_2010_2[c].value_counts().sort_index()\n",
    "missing_data(data_2010_2[c])"
   ]
  },
  {
   "cell_type": "code",
   "execution_count": null,
   "metadata": {
    "collapsed": true
   },
   "outputs": [],
   "source": [
    "c = 'NOMBRE_COMP_FLEXIBLE'\n",
    "data_2010_2[c].value_counts().sort_index().index\n",
    "data_2010_2[c].value_counts().sort_index()\n",
    "missing_data(data_2010_2[c])"
   ]
  },
  {
   "cell_type": "code",
   "execution_count": null,
   "metadata": {
    "collapsed": true
   },
   "outputs": [],
   "source": [
    "c = 'PUNT_COMP_FLEXIBLE'\n",
    "data_2010_2[c].value_counts().sort_index().index\n",
    "data_2010_2[c].value_counts().sort_index()\n",
    "missing_data(data_2010_2[c])"
   ]
  },
  {
   "cell_type": "code",
   "execution_count": null,
   "metadata": {
    "collapsed": true
   },
   "outputs": [],
   "source": [
    "c = 'DESEMP_COMP_FLEXIBLE'\n",
    "data_2010_2[c].value_counts().sort_index().index\n",
    "data_2010_2[c].value_counts().sort_index()\n",
    "missing_data(data_2010_2[c])"
   ]
  },
  {
   "cell_type": "code",
   "execution_count": null,
   "metadata": {
    "collapsed": true
   },
   "outputs": [],
   "source": [
    "c = 'ESTU_PUESTO'\n",
    "data_2010_2[c].value_counts().sort_index().index\n",
    "data_2010_2[c].value_counts().sort_index()\n",
    "missing_data(data_2010_2[c])"
   ]
  }
 ],
 "metadata": {
  "kernelspec": {
   "display_name": "Python 3",
   "language": "python",
   "name": "python3"
  },
  "language_info": {
   "codemirror_mode": {
    "name": "ipython",
    "version": 3
   },
   "file_extension": ".py",
   "mimetype": "text/x-python",
   "name": "python",
   "nbconvert_exporter": "python",
   "pygments_lexer": "ipython3",
   "version": "3.4.2"
  }
 },
 "nbformat": 4,
 "nbformat_minor": 0
}
