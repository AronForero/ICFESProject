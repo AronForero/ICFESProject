{
 "cells": [
  {
   "cell_type": "code",
   "execution_count": 1,
   "metadata": {
    "collapsed": true
   },
   "outputs": [],
   "source": [
    "import pandas as pd\n",
    "import numpy as np\n",
    "%run -i ../tools/functions.py\n",
    "%run -i ../tools/label_encoder.py"
   ]
  },
  {
   "cell_type": "code",
   "execution_count": 2,
   "metadata": {
    "collapsed": true
   },
   "outputs": [],
   "source": [
    "data_2007 = pd.read_csv('../DatosFTPICFES/SABER11/SB11-BASES_DE_DATOS/SB11-20071-RGSTRO-CLFCCN-V1-0.txt', delimiter = '|')"
   ]
  },
  {
   "cell_type": "code",
   "execution_count": 4,
   "metadata": {
    "collapsed": false
   },
   "outputs": [
    {
     "data": {
      "text/plain": [
       "(69301, 84)"
      ]
     },
     "execution_count": 4,
     "metadata": {},
     "output_type": "execute_result"
    }
   ],
   "source": [
    "data_2007.shape"
   ]
  },
  {
   "cell_type": "code",
   "execution_count": 3,
   "metadata": {
    "collapsed": false,
    "scrolled": true
   },
   "outputs": [
    {
     "data": {
      "text/html": [
       "<div>\n",
       "<table border=\"1\" class=\"dataframe\">\n",
       "  <thead>\n",
       "    <tr style=\"text-align: right;\">\n",
       "      <th></th>\n",
       "      <th>0</th>\n",
       "      <th>1</th>\n",
       "      <th>2</th>\n",
       "    </tr>\n",
       "  </thead>\n",
       "  <tbody>\n",
       "    <tr>\n",
       "      <th>ESTU_CONSECUTIVO</th>\n",
       "      <td>SB11200710000001</td>\n",
       "      <td>SB11200710000002</td>\n",
       "      <td>SB11200710000003</td>\n",
       "    </tr>\n",
       "    <tr>\n",
       "      <th>PERIODO</th>\n",
       "      <td>20071</td>\n",
       "      <td>20071</td>\n",
       "      <td>20071</td>\n",
       "    </tr>\n",
       "    <tr>\n",
       "      <th>ESTU_TIPO_DOCUMENTO</th>\n",
       "      <td>T</td>\n",
       "      <td>T</td>\n",
       "      <td>T</td>\n",
       "    </tr>\n",
       "    <tr>\n",
       "      <th>ESTU_PAIS_RESIDE</th>\n",
       "      <td>CO</td>\n",
       "      <td>CO</td>\n",
       "      <td>CO</td>\n",
       "    </tr>\n",
       "    <tr>\n",
       "      <th>ESTU_GENERO</th>\n",
       "      <td>F</td>\n",
       "      <td>M</td>\n",
       "      <td>F</td>\n",
       "    </tr>\n",
       "    <tr>\n",
       "      <th>ESTU_NACIMIENTO_DIA</th>\n",
       "      <td>22</td>\n",
       "      <td>19</td>\n",
       "      <td>21</td>\n",
       "    </tr>\n",
       "    <tr>\n",
       "      <th>ESTU_NACIMIENTO_MES</th>\n",
       "      <td>2</td>\n",
       "      <td>5</td>\n",
       "      <td>10</td>\n",
       "    </tr>\n",
       "    <tr>\n",
       "      <th>ESTU_NACIMIENTO_ANNO</th>\n",
       "      <td>1991</td>\n",
       "      <td>1994</td>\n",
       "      <td>1990</td>\n",
       "    </tr>\n",
       "    <tr>\n",
       "      <th>ESTU_EDAD</th>\n",
       "      <td>16</td>\n",
       "      <td>12</td>\n",
       "      <td>16</td>\n",
       "    </tr>\n",
       "    <tr>\n",
       "      <th>ESTU_LIMITA_BAJAVISION</th>\n",
       "      <td>NaN</td>\n",
       "      <td>NaN</td>\n",
       "      <td>NaN</td>\n",
       "    </tr>\n",
       "    <tr>\n",
       "      <th>ESTU_LIMITA_SORDOCEGUERA</th>\n",
       "      <td>NaN</td>\n",
       "      <td>NaN</td>\n",
       "      <td>NaN</td>\n",
       "    </tr>\n",
       "    <tr>\n",
       "      <th>ESTU_LIMITA_COGNITIVA</th>\n",
       "      <td>NaN</td>\n",
       "      <td>NaN</td>\n",
       "      <td>NaN</td>\n",
       "    </tr>\n",
       "    <tr>\n",
       "      <th>ESTU_LIMITA_INVIDENTE</th>\n",
       "      <td>NaN</td>\n",
       "      <td>NaN</td>\n",
       "      <td>NaN</td>\n",
       "    </tr>\n",
       "    <tr>\n",
       "      <th>ESTU_LIMITA_MOTRIZ</th>\n",
       "      <td>NaN</td>\n",
       "      <td>NaN</td>\n",
       "      <td>NaN</td>\n",
       "    </tr>\n",
       "    <tr>\n",
       "      <th>ESTU_LIMITA_SORDOINTERPRETE</th>\n",
       "      <td>NaN</td>\n",
       "      <td>NaN</td>\n",
       "      <td>NaN</td>\n",
       "    </tr>\n",
       "    <tr>\n",
       "      <th>ESTU_LIMITA_SORDONOINTERPRETE</th>\n",
       "      <td>NaN</td>\n",
       "      <td>NaN</td>\n",
       "      <td>NaN</td>\n",
       "    </tr>\n",
       "    <tr>\n",
       "      <th>ESTU_COD_RESIDE_MCPIO</th>\n",
       "      <td>76122</td>\n",
       "      <td>76122</td>\n",
       "      <td>76122</td>\n",
       "    </tr>\n",
       "    <tr>\n",
       "      <th>ESTU_RESIDE_MCPIO</th>\n",
       "      <td>CAICEDONIA</td>\n",
       "      <td>CAICEDONIA</td>\n",
       "      <td>CAICEDONIA</td>\n",
       "    </tr>\n",
       "    <tr>\n",
       "      <th>ESTU_RESIDE_DEPTO</th>\n",
       "      <td>VALLE</td>\n",
       "      <td>VALLE</td>\n",
       "      <td>VALLE</td>\n",
       "    </tr>\n",
       "    <tr>\n",
       "      <th>ESTU_ZONA_RESIDE</th>\n",
       "      <td>10</td>\n",
       "      <td>10</td>\n",
       "      <td>10</td>\n",
       "    </tr>\n",
       "    <tr>\n",
       "      <th>ESTU_AREA_RESIDE</th>\n",
       "      <td>NaN</td>\n",
       "      <td>NaN</td>\n",
       "      <td>NaN</td>\n",
       "    </tr>\n",
       "    <tr>\n",
       "      <th>ESTU_COD_MCPIO_PRESENTACION</th>\n",
       "      <td>76122</td>\n",
       "      <td>76122</td>\n",
       "      <td>76122</td>\n",
       "    </tr>\n",
       "    <tr>\n",
       "      <th>ESTU_MCPIO_PRESENTACION</th>\n",
       "      <td>CAICEDONIA</td>\n",
       "      <td>CAICEDONIA</td>\n",
       "      <td>CAICEDONIA</td>\n",
       "    </tr>\n",
       "    <tr>\n",
       "      <th>ESTU_DEPTO_PRESENTACION</th>\n",
       "      <td>VALLE</td>\n",
       "      <td>VALLE</td>\n",
       "      <td>VALLE</td>\n",
       "    </tr>\n",
       "    <tr>\n",
       "      <th>ESTU_EXAM_NOMBREEXAMEN</th>\n",
       "      <td>EXAMEN DE ESTADO 2007-1</td>\n",
       "      <td>EXAMEN DE ESTADO 2007-1</td>\n",
       "      <td>EXAMEN DE ESTADO 2007-1</td>\n",
       "    </tr>\n",
       "    <tr>\n",
       "      <th>IND_ESTUDIO_BACHILLERATO</th>\n",
       "      <td>1</td>\n",
       "      <td>1</td>\n",
       "      <td>1</td>\n",
       "    </tr>\n",
       "    <tr>\n",
       "      <th>IND_ANNO_TERMINO_BACHILLERATO</th>\n",
       "      <td>2007</td>\n",
       "      <td>2007</td>\n",
       "      <td>2007</td>\n",
       "    </tr>\n",
       "    <tr>\n",
       "      <th>IND_TERMINO_BACHILLERATO</th>\n",
       "      <td>NaN</td>\n",
       "      <td>NaN</td>\n",
       "      <td>NaN</td>\n",
       "    </tr>\n",
       "    <tr>\n",
       "      <th>IND_COD_ICFES_TERMINO</th>\n",
       "      <td>18226</td>\n",
       "      <td>18226</td>\n",
       "      <td>18226</td>\n",
       "    </tr>\n",
       "    <tr>\n",
       "      <th>COLE_COD_ICFES</th>\n",
       "      <td>18226</td>\n",
       "      <td>18226</td>\n",
       "      <td>18226</td>\n",
       "    </tr>\n",
       "    <tr>\n",
       "      <th>...</th>\n",
       "      <td>...</td>\n",
       "      <td>...</td>\n",
       "      <td>...</td>\n",
       "    </tr>\n",
       "    <tr>\n",
       "      <th>FAMI_COMPUTADOR</th>\n",
       "      <td>NaN</td>\n",
       "      <td>NaN</td>\n",
       "      <td>NaN</td>\n",
       "    </tr>\n",
       "    <tr>\n",
       "      <th>FAMI_INGRESO_FMILIAR_MENSUAL</th>\n",
       "      <td>NaN</td>\n",
       "      <td>NaN</td>\n",
       "      <td>NaN</td>\n",
       "    </tr>\n",
       "    <tr>\n",
       "      <th>ESTU_TRABAJA</th>\n",
       "      <td>NaN</td>\n",
       "      <td>NaN</td>\n",
       "      <td>NaN</td>\n",
       "    </tr>\n",
       "    <tr>\n",
       "      <th>ESTU_HORAS_TRABAJA</th>\n",
       "      <td>NaN</td>\n",
       "      <td>NaN</td>\n",
       "      <td>NaN</td>\n",
       "    </tr>\n",
       "    <tr>\n",
       "      <th>COLE_VALOR_PENSION</th>\n",
       "      <td>0</td>\n",
       "      <td>0</td>\n",
       "      <td>0</td>\n",
       "    </tr>\n",
       "    <tr>\n",
       "      <th>ESTU_CARRDESEADA_TIPO</th>\n",
       "      <td>NaN</td>\n",
       "      <td>NaN</td>\n",
       "      <td>NaN</td>\n",
       "    </tr>\n",
       "    <tr>\n",
       "      <th>ESTU_CARRDESEADA_NUCLEO</th>\n",
       "      <td>NaN</td>\n",
       "      <td>NaN</td>\n",
       "      <td>NaN</td>\n",
       "    </tr>\n",
       "    <tr>\n",
       "      <th>ESTU_IES_COD_DESEADA</th>\n",
       "      <td>1805</td>\n",
       "      <td>1208</td>\n",
       "      <td>NaN</td>\n",
       "    </tr>\n",
       "    <tr>\n",
       "      <th>ESTU_IES_DESEADA_NOMBRE</th>\n",
       "      <td>UNIVERSIDAD SANTIAGO DE CALI</td>\n",
       "      <td>UNIVERSIDAD DEL QUINDIO</td>\n",
       "      <td>NaN</td>\n",
       "    </tr>\n",
       "    <tr>\n",
       "      <th>ESTU_IES_COD_MPIO_DESEADA</th>\n",
       "      <td>76001</td>\n",
       "      <td>63001</td>\n",
       "      <td>NaN</td>\n",
       "    </tr>\n",
       "    <tr>\n",
       "      <th>ESTU_IES_MPIO_DESEADA</th>\n",
       "      <td>CALI</td>\n",
       "      <td>ARMENIA</td>\n",
       "      <td>NaN</td>\n",
       "    </tr>\n",
       "    <tr>\n",
       "      <th>ESTU_IES_DEPT_DESEADA</th>\n",
       "      <td>VALLE</td>\n",
       "      <td>QUINDÍO</td>\n",
       "      <td>NaN</td>\n",
       "    </tr>\n",
       "    <tr>\n",
       "      <th>ESTU_RAZONINSTITUTO</th>\n",
       "      <td>8</td>\n",
       "      <td>7</td>\n",
       "      <td>NaN</td>\n",
       "    </tr>\n",
       "    <tr>\n",
       "      <th>ESTU_CARRDESEADA_COD</th>\n",
       "      <td>16268</td>\n",
       "      <td>12411</td>\n",
       "      <td>NaN</td>\n",
       "    </tr>\n",
       "    <tr>\n",
       "      <th>ESTU_CARRDESEADA_RAZON</th>\n",
       "      <td>2</td>\n",
       "      <td>2</td>\n",
       "      <td>NaN</td>\n",
       "    </tr>\n",
       "    <tr>\n",
       "      <th>PUNT_LENGUAJE</th>\n",
       "      <td>46,31</td>\n",
       "      <td>56,32</td>\n",
       "      <td>52,33</td>\n",
       "    </tr>\n",
       "    <tr>\n",
       "      <th>PUNT_MATEMATICAS</th>\n",
       "      <td>37,74</td>\n",
       "      <td>59,27</td>\n",
       "      <td>41,17</td>\n",
       "    </tr>\n",
       "    <tr>\n",
       "      <th>PUNT_C_SOCIALES</th>\n",
       "      <td>48,89</td>\n",
       "      <td>58,98</td>\n",
       "      <td>48,89</td>\n",
       "    </tr>\n",
       "    <tr>\n",
       "      <th>PUNT_FILOSOFIA</th>\n",
       "      <td>41,41</td>\n",
       "      <td>43,87</td>\n",
       "      <td>57,8</td>\n",
       "    </tr>\n",
       "    <tr>\n",
       "      <th>PUNT_BIOLOGIA</th>\n",
       "      <td>40,38</td>\n",
       "      <td>53,91</td>\n",
       "      <td>52,12</td>\n",
       "    </tr>\n",
       "    <tr>\n",
       "      <th>PUNT_QUIMICA</th>\n",
       "      <td>38,8</td>\n",
       "      <td>52,17</td>\n",
       "      <td>34,53</td>\n",
       "    </tr>\n",
       "    <tr>\n",
       "      <th>PUNT_FISICA</th>\n",
       "      <td>46,28</td>\n",
       "      <td>33,79</td>\n",
       "      <td>23,28</td>\n",
       "    </tr>\n",
       "    <tr>\n",
       "      <th>PUNT_INGLES</th>\n",
       "      <td>38,66</td>\n",
       "      <td>42,76</td>\n",
       "      <td>40,78</td>\n",
       "    </tr>\n",
       "    <tr>\n",
       "      <th>DESEMP_INGLES</th>\n",
       "      <td>NaN</td>\n",
       "      <td>NaN</td>\n",
       "      <td>NaN</td>\n",
       "    </tr>\n",
       "    <tr>\n",
       "      <th>NOMBRE_PROFUNDIZACION</th>\n",
       "      <td>PROFUNDIZACIÓN EN LENGUAJE</td>\n",
       "      <td>PROFUNDIZACIÓN EN MATEMÁTICA</td>\n",
       "      <td>PROFUNDIZACIÓN EN BIOLOGÍA</td>\n",
       "    </tr>\n",
       "    <tr>\n",
       "      <th>PUNT_PROFUNDIZACION</th>\n",
       "      <td>4,89</td>\n",
       "      <td>5,74</td>\n",
       "      <td>5,53</td>\n",
       "    </tr>\n",
       "    <tr>\n",
       "      <th>DESEMP_PROFUNDIZACION</th>\n",
       "      <td>I</td>\n",
       "      <td>II</td>\n",
       "      <td>I</td>\n",
       "    </tr>\n",
       "    <tr>\n",
       "      <th>NOMBRE_INTERDISCIPLINAR</th>\n",
       "      <td>VIOLENCIA Y SOCIEDAD</td>\n",
       "      <td>VIOLENCIA Y SOCIEDAD</td>\n",
       "      <td>VIOLENCIA Y SOCIEDAD</td>\n",
       "    </tr>\n",
       "    <tr>\n",
       "      <th>PUNT_INTERDISCIPLINAR</th>\n",
       "      <td>46,46</td>\n",
       "      <td>46,46</td>\n",
       "      <td>46,46</td>\n",
       "    </tr>\n",
       "    <tr>\n",
       "      <th>ESTU_PUESTO</th>\n",
       "      <td>695</td>\n",
       "      <td>183</td>\n",
       "      <td>577</td>\n",
       "    </tr>\n",
       "  </tbody>\n",
       "</table>\n",
       "<p>84 rows × 3 columns</p>\n",
       "</div>"
      ],
      "text/plain": [
       "                                                          0  \\\n",
       "ESTU_CONSECUTIVO                           SB11200710000001   \n",
       "PERIODO                                               20071   \n",
       "ESTU_TIPO_DOCUMENTO                                       T   \n",
       "ESTU_PAIS_RESIDE                                         CO   \n",
       "ESTU_GENERO                                               F   \n",
       "ESTU_NACIMIENTO_DIA                                      22   \n",
       "ESTU_NACIMIENTO_MES                                       2   \n",
       "ESTU_NACIMIENTO_ANNO                                   1991   \n",
       "ESTU_EDAD                                                16   \n",
       "ESTU_LIMITA_BAJAVISION                                  NaN   \n",
       "ESTU_LIMITA_SORDOCEGUERA                                NaN   \n",
       "ESTU_LIMITA_COGNITIVA                                   NaN   \n",
       "ESTU_LIMITA_INVIDENTE                                   NaN   \n",
       "ESTU_LIMITA_MOTRIZ                                      NaN   \n",
       "ESTU_LIMITA_SORDOINTERPRETE                             NaN   \n",
       "ESTU_LIMITA_SORDONOINTERPRETE                           NaN   \n",
       "ESTU_COD_RESIDE_MCPIO                                 76122   \n",
       "ESTU_RESIDE_MCPIO                                CAICEDONIA   \n",
       "ESTU_RESIDE_DEPTO                                     VALLE   \n",
       "ESTU_ZONA_RESIDE                                         10   \n",
       "ESTU_AREA_RESIDE                                        NaN   \n",
       "ESTU_COD_MCPIO_PRESENTACION                           76122   \n",
       "ESTU_MCPIO_PRESENTACION                          CAICEDONIA   \n",
       "ESTU_DEPTO_PRESENTACION                               VALLE   \n",
       "ESTU_EXAM_NOMBREEXAMEN              EXAMEN DE ESTADO 2007-1   \n",
       "IND_ESTUDIO_BACHILLERATO                                  1   \n",
       "IND_ANNO_TERMINO_BACHILLERATO                          2007   \n",
       "IND_TERMINO_BACHILLERATO                                NaN   \n",
       "IND_COD_ICFES_TERMINO                                 18226   \n",
       "COLE_COD_ICFES                                        18226   \n",
       "...                                                     ...   \n",
       "FAMI_COMPUTADOR                                         NaN   \n",
       "FAMI_INGRESO_FMILIAR_MENSUAL                            NaN   \n",
       "ESTU_TRABAJA                                            NaN   \n",
       "ESTU_HORAS_TRABAJA                                      NaN   \n",
       "COLE_VALOR_PENSION                                        0   \n",
       "ESTU_CARRDESEADA_TIPO                                   NaN   \n",
       "ESTU_CARRDESEADA_NUCLEO                                 NaN   \n",
       "ESTU_IES_COD_DESEADA                                   1805   \n",
       "ESTU_IES_DESEADA_NOMBRE        UNIVERSIDAD SANTIAGO DE CALI   \n",
       "ESTU_IES_COD_MPIO_DESEADA                             76001   \n",
       "ESTU_IES_MPIO_DESEADA                                  CALI   \n",
       "ESTU_IES_DEPT_DESEADA                                 VALLE   \n",
       "ESTU_RAZONINSTITUTO                                       8   \n",
       "ESTU_CARRDESEADA_COD                                  16268   \n",
       "ESTU_CARRDESEADA_RAZON                                    2   \n",
       "PUNT_LENGUAJE                                         46,31   \n",
       "PUNT_MATEMATICAS                                      37,74   \n",
       "PUNT_C_SOCIALES                                       48,89   \n",
       "PUNT_FILOSOFIA                                        41,41   \n",
       "PUNT_BIOLOGIA                                         40,38   \n",
       "PUNT_QUIMICA                                           38,8   \n",
       "PUNT_FISICA                                           46,28   \n",
       "PUNT_INGLES                                           38,66   \n",
       "DESEMP_INGLES                                           NaN   \n",
       "NOMBRE_PROFUNDIZACION            PROFUNDIZACIÓN EN LENGUAJE   \n",
       "PUNT_PROFUNDIZACION                                    4,89   \n",
       "DESEMP_PROFUNDIZACION                                     I   \n",
       "NOMBRE_INTERDISCIPLINAR                VIOLENCIA Y SOCIEDAD   \n",
       "PUNT_INTERDISCIPLINAR                                 46,46   \n",
       "ESTU_PUESTO                                             695   \n",
       "\n",
       "                                                          1  \\\n",
       "ESTU_CONSECUTIVO                           SB11200710000002   \n",
       "PERIODO                                               20071   \n",
       "ESTU_TIPO_DOCUMENTO                                       T   \n",
       "ESTU_PAIS_RESIDE                                         CO   \n",
       "ESTU_GENERO                                               M   \n",
       "ESTU_NACIMIENTO_DIA                                      19   \n",
       "ESTU_NACIMIENTO_MES                                       5   \n",
       "ESTU_NACIMIENTO_ANNO                                   1994   \n",
       "ESTU_EDAD                                                12   \n",
       "ESTU_LIMITA_BAJAVISION                                  NaN   \n",
       "ESTU_LIMITA_SORDOCEGUERA                                NaN   \n",
       "ESTU_LIMITA_COGNITIVA                                   NaN   \n",
       "ESTU_LIMITA_INVIDENTE                                   NaN   \n",
       "ESTU_LIMITA_MOTRIZ                                      NaN   \n",
       "ESTU_LIMITA_SORDOINTERPRETE                             NaN   \n",
       "ESTU_LIMITA_SORDONOINTERPRETE                           NaN   \n",
       "ESTU_COD_RESIDE_MCPIO                                 76122   \n",
       "ESTU_RESIDE_MCPIO                                CAICEDONIA   \n",
       "ESTU_RESIDE_DEPTO                                     VALLE   \n",
       "ESTU_ZONA_RESIDE                                         10   \n",
       "ESTU_AREA_RESIDE                                        NaN   \n",
       "ESTU_COD_MCPIO_PRESENTACION                           76122   \n",
       "ESTU_MCPIO_PRESENTACION                          CAICEDONIA   \n",
       "ESTU_DEPTO_PRESENTACION                               VALLE   \n",
       "ESTU_EXAM_NOMBREEXAMEN              EXAMEN DE ESTADO 2007-1   \n",
       "IND_ESTUDIO_BACHILLERATO                                  1   \n",
       "IND_ANNO_TERMINO_BACHILLERATO                          2007   \n",
       "IND_TERMINO_BACHILLERATO                                NaN   \n",
       "IND_COD_ICFES_TERMINO                                 18226   \n",
       "COLE_COD_ICFES                                        18226   \n",
       "...                                                     ...   \n",
       "FAMI_COMPUTADOR                                         NaN   \n",
       "FAMI_INGRESO_FMILIAR_MENSUAL                            NaN   \n",
       "ESTU_TRABAJA                                            NaN   \n",
       "ESTU_HORAS_TRABAJA                                      NaN   \n",
       "COLE_VALOR_PENSION                                        0   \n",
       "ESTU_CARRDESEADA_TIPO                                   NaN   \n",
       "ESTU_CARRDESEADA_NUCLEO                                 NaN   \n",
       "ESTU_IES_COD_DESEADA                                   1208   \n",
       "ESTU_IES_DESEADA_NOMBRE             UNIVERSIDAD DEL QUINDIO   \n",
       "ESTU_IES_COD_MPIO_DESEADA                             63001   \n",
       "ESTU_IES_MPIO_DESEADA                               ARMENIA   \n",
       "ESTU_IES_DEPT_DESEADA                               QUINDÍO   \n",
       "ESTU_RAZONINSTITUTO                                       7   \n",
       "ESTU_CARRDESEADA_COD                                  12411   \n",
       "ESTU_CARRDESEADA_RAZON                                    2   \n",
       "PUNT_LENGUAJE                                         56,32   \n",
       "PUNT_MATEMATICAS                                      59,27   \n",
       "PUNT_C_SOCIALES                                       58,98   \n",
       "PUNT_FILOSOFIA                                        43,87   \n",
       "PUNT_BIOLOGIA                                         53,91   \n",
       "PUNT_QUIMICA                                          52,17   \n",
       "PUNT_FISICA                                           33,79   \n",
       "PUNT_INGLES                                           42,76   \n",
       "DESEMP_INGLES                                           NaN   \n",
       "NOMBRE_PROFUNDIZACION          PROFUNDIZACIÓN EN MATEMÁTICA   \n",
       "PUNT_PROFUNDIZACION                                    5,74   \n",
       "DESEMP_PROFUNDIZACION                                    II   \n",
       "NOMBRE_INTERDISCIPLINAR                VIOLENCIA Y SOCIEDAD   \n",
       "PUNT_INTERDISCIPLINAR                                 46,46   \n",
       "ESTU_PUESTO                                             183   \n",
       "\n",
       "                                                        2  \n",
       "ESTU_CONSECUTIVO                         SB11200710000003  \n",
       "PERIODO                                             20071  \n",
       "ESTU_TIPO_DOCUMENTO                                     T  \n",
       "ESTU_PAIS_RESIDE                                       CO  \n",
       "ESTU_GENERO                                             F  \n",
       "ESTU_NACIMIENTO_DIA                                    21  \n",
       "ESTU_NACIMIENTO_MES                                    10  \n",
       "ESTU_NACIMIENTO_ANNO                                 1990  \n",
       "ESTU_EDAD                                              16  \n",
       "ESTU_LIMITA_BAJAVISION                                NaN  \n",
       "ESTU_LIMITA_SORDOCEGUERA                              NaN  \n",
       "ESTU_LIMITA_COGNITIVA                                 NaN  \n",
       "ESTU_LIMITA_INVIDENTE                                 NaN  \n",
       "ESTU_LIMITA_MOTRIZ                                    NaN  \n",
       "ESTU_LIMITA_SORDOINTERPRETE                           NaN  \n",
       "ESTU_LIMITA_SORDONOINTERPRETE                         NaN  \n",
       "ESTU_COD_RESIDE_MCPIO                               76122  \n",
       "ESTU_RESIDE_MCPIO                              CAICEDONIA  \n",
       "ESTU_RESIDE_DEPTO                                   VALLE  \n",
       "ESTU_ZONA_RESIDE                                       10  \n",
       "ESTU_AREA_RESIDE                                      NaN  \n",
       "ESTU_COD_MCPIO_PRESENTACION                         76122  \n",
       "ESTU_MCPIO_PRESENTACION                        CAICEDONIA  \n",
       "ESTU_DEPTO_PRESENTACION                             VALLE  \n",
       "ESTU_EXAM_NOMBREEXAMEN            EXAMEN DE ESTADO 2007-1  \n",
       "IND_ESTUDIO_BACHILLERATO                                1  \n",
       "IND_ANNO_TERMINO_BACHILLERATO                        2007  \n",
       "IND_TERMINO_BACHILLERATO                              NaN  \n",
       "IND_COD_ICFES_TERMINO                               18226  \n",
       "COLE_COD_ICFES                                      18226  \n",
       "...                                                   ...  \n",
       "FAMI_COMPUTADOR                                       NaN  \n",
       "FAMI_INGRESO_FMILIAR_MENSUAL                          NaN  \n",
       "ESTU_TRABAJA                                          NaN  \n",
       "ESTU_HORAS_TRABAJA                                    NaN  \n",
       "COLE_VALOR_PENSION                                      0  \n",
       "ESTU_CARRDESEADA_TIPO                                 NaN  \n",
       "ESTU_CARRDESEADA_NUCLEO                               NaN  \n",
       "ESTU_IES_COD_DESEADA                                  NaN  \n",
       "ESTU_IES_DESEADA_NOMBRE                               NaN  \n",
       "ESTU_IES_COD_MPIO_DESEADA                             NaN  \n",
       "ESTU_IES_MPIO_DESEADA                                 NaN  \n",
       "ESTU_IES_DEPT_DESEADA                                 NaN  \n",
       "ESTU_RAZONINSTITUTO                                   NaN  \n",
       "ESTU_CARRDESEADA_COD                                  NaN  \n",
       "ESTU_CARRDESEADA_RAZON                                NaN  \n",
       "PUNT_LENGUAJE                                       52,33  \n",
       "PUNT_MATEMATICAS                                    41,17  \n",
       "PUNT_C_SOCIALES                                     48,89  \n",
       "PUNT_FILOSOFIA                                       57,8  \n",
       "PUNT_BIOLOGIA                                       52,12  \n",
       "PUNT_QUIMICA                                        34,53  \n",
       "PUNT_FISICA                                         23,28  \n",
       "PUNT_INGLES                                         40,78  \n",
       "DESEMP_INGLES                                         NaN  \n",
       "NOMBRE_PROFUNDIZACION          PROFUNDIZACIÓN EN BIOLOGÍA  \n",
       "PUNT_PROFUNDIZACION                                  5,53  \n",
       "DESEMP_PROFUNDIZACION                                   I  \n",
       "NOMBRE_INTERDISCIPLINAR              VIOLENCIA Y SOCIEDAD  \n",
       "PUNT_INTERDISCIPLINAR                               46,46  \n",
       "ESTU_PUESTO                                           577  \n",
       "\n",
       "[84 rows x 3 columns]"
      ]
     },
     "execution_count": 3,
     "metadata": {},
     "output_type": "execute_result"
    }
   ],
   "source": [
    "data_2007.head(3).T"
   ]
  },
  {
   "cell_type": "code",
   "execution_count": 8,
   "metadata": {
    "collapsed": true
   },
   "outputs": [],
   "source": [
    "data_2007 = data_2007.drop(['ESTU_CONSECUTIVO', 'PERIODO', 'ESTU_TIPO_DOCUMENTO', 'ESTU_COD_RESIDE_MCPIO', \n",
    "                            'ESTU_COD_MCPIO_PRESENTACION'], axis=1)"
   ]
  },
  {
   "cell_type": "code",
   "execution_count": null,
   "metadata": {
    "collapsed": true
   },
   "outputs": [],
   "source": [
    "c = 'ESTU_PAIS_RESIDE'\n",
    "print(data_2006[c].value_counts().sort_index().index)\n",
    "print(data_2006[c].value_counts().sort_index())\n",
    "print(missing_data(data_2006[c]))"
   ]
  },
  {
   "cell_type": "code",
   "execution_count": null,
   "metadata": {
    "collapsed": true
   },
   "outputs": [],
   "source": [
    "c = 'ESTU_GENERO'\n",
    "print(data_2006[c].value_counts().sort_index().index)\n",
    "print(data_2006[c].value_counts().sort_index())\n",
    "print(missing_data(data_2006[c]))"
   ]
  },
  {
   "cell_type": "code",
   "execution_count": null,
   "metadata": {
    "collapsed": true
   },
   "outputs": [],
   "source": [
    "c = 'ESTU_NACIMIENTO_DIA'\n",
    "print(data_2006[c].value_counts().sort_index().index)\n",
    "print(data_2006[c].value_counts().sort_index())\n",
    "print(missing_data(data_2006[c]))"
   ]
  },
  {
   "cell_type": "code",
   "execution_count": null,
   "metadata": {
    "collapsed": true
   },
   "outputs": [],
   "source": [
    "c = 'ESTU_NACIMIENTO_MES'\n",
    "print(data_2006[c].value_counts().sort_index().index)\n",
    "print(data_2006[c].value_counts().sort_index())\n",
    "print(missing_data(data_2006[c]))"
   ]
  },
  {
   "cell_type": "code",
   "execution_count": null,
   "metadata": {
    "collapsed": true
   },
   "outputs": [],
   "source": [
    "c = 'ESTU_NACIMIENTO_ANNO'\n",
    "print(data_2006[c].value_counts().sort_index().index)\n",
    "print(data_2006[c].value_counts().sort_index())\n",
    "print(missing_data(data_2006[c]))"
   ]
  },
  {
   "cell_type": "code",
   "execution_count": null,
   "metadata": {
    "collapsed": true
   },
   "outputs": [],
   "source": [
    "c = 'ESTU_EDAD'\n",
    "print(data_2006[c].value_counts().sort_index().index)\n",
    "print(data_2006[c].value_counts().sort_index())\n",
    "print(missing_data(data_2006[c]))"
   ]
  },
  {
   "cell_type": "code",
   "execution_count": null,
   "metadata": {
    "collapsed": true
   },
   "outputs": [],
   "source": [
    "c = 'ESTU_LIMITA_BAJAVISION'\n",
    "print(data_2006[c].value_counts().sort_index().index)\n",
    "print(data_2006[c].value_counts().sort_index())\n",
    "print(missing_data(data_2006[c]))"
   ]
  },
  {
   "cell_type": "code",
   "execution_count": null,
   "metadata": {
    "collapsed": true
   },
   "outputs": [],
   "source": [
    "c = 'ESTU_LIMITA_SORDOCEGUERA'\n",
    "print(data_2006[c].value_counts().sort_index().index)\n",
    "print(data_2006[c].value_counts().sort_index())\n",
    "print(missing_data(data_2006[c]))"
   ]
  },
  {
   "cell_type": "code",
   "execution_count": null,
   "metadata": {
    "collapsed": true
   },
   "outputs": [],
   "source": [
    "c = 'ESTU_LIMITA_COGNITIVA'\n",
    "print(data_2006[c].value_counts().sort_index().index)\n",
    "print(data_2006[c].value_counts().sort_index())\n",
    "print(missing_data(data_2006[c]))"
   ]
  },
  {
   "cell_type": "code",
   "execution_count": null,
   "metadata": {
    "collapsed": true
   },
   "outputs": [],
   "source": [
    "c = 'ESTU_LIMITA_INVIDENTE'\n",
    "print(data_2006[c].value_counts().sort_index().index)\n",
    "print(data_2006[c].value_counts().sort_index())\n",
    "print(missing_data(data_2006[c]))"
   ]
  },
  {
   "cell_type": "code",
   "execution_count": null,
   "metadata": {
    "collapsed": true
   },
   "outputs": [],
   "source": [
    "c = 'ESTU_LIMITA_MOTRIZ'\n",
    "print(data_2006[c].value_counts().sort_index().index)\n",
    "print(data_2006[c].value_counts().sort_index())\n",
    "print(missing_data(data_2006[c]))"
   ]
  },
  {
   "cell_type": "code",
   "execution_count": null,
   "metadata": {
    "collapsed": true
   },
   "outputs": [],
   "source": [
    "c = 'ESTU_LIMITA_SORDOINTERPRETE'\n",
    "print(data_2006[c].value_counts().sort_index().index)\n",
    "print(data_2006[c].value_counts().sort_index())\n",
    "print(missing_data(data_2006[c]))"
   ]
  },
  {
   "cell_type": "code",
   "execution_count": null,
   "metadata": {
    "collapsed": true
   },
   "outputs": [],
   "source": [
    "c = 'ESTU_LIMITA_SORDONOINTERPRETE'\n",
    "print(data_2006[c].value_counts().sort_index().index)\n",
    "print(data_2006[c].value_counts().sort_index())\n",
    "print(missing_data(data_2006[c]))"
   ]
  },
  {
   "cell_type": "code",
   "execution_count": null,
   "metadata": {
    "collapsed": true
   },
   "outputs": [],
   "source": [
    "c = 'ESTU_RESIDE_MCPIO'\n",
    "print(data_2006[c].value_counts().sort_index().index)\n",
    "print(data_2006[c].value_counts().sort_index())\n",
    "print(missing_data(data_2006[c]))"
   ]
  },
  {
   "cell_type": "code",
   "execution_count": null,
   "metadata": {
    "collapsed": true
   },
   "outputs": [],
   "source": [
    "c = 'ESTU_RESIDE_DEPTO'\n",
    "print(data_2006[c].value_counts().sort_index().index)\n",
    "print(data_2006[c].value_counts().sort_index())\n",
    "print(missing_data(data_2006[c]))"
   ]
  },
  {
   "cell_type": "code",
   "execution_count": null,
   "metadata": {
    "collapsed": true
   },
   "outputs": [],
   "source": [
    "c = 'ESTU_ZONA_RESIDE'\n",
    "print(data_2006[c].value_counts().sort_index().index)\n",
    "print(data_2006[c].value_counts().sort_index())\n",
    "print(missing_data(data_2006[c]))"
   ]
  },
  {
   "cell_type": "code",
   "execution_count": null,
   "metadata": {
    "collapsed": true
   },
   "outputs": [],
   "source": [
    "c = 'ESTU_AREA_RESIDE'\n",
    "print(data_2006[c].value_counts().sort_index().index)\n",
    "print(data_2006[c].value_counts().sort_index())\n",
    "print(missing_data(data_2006[c]))"
   ]
  },
  {
   "cell_type": "code",
   "execution_count": null,
   "metadata": {
    "collapsed": true
   },
   "outputs": [],
   "source": [
    "c = 'ESTU_MCPIO_PRESENTACION'\n",
    "print(data_2006[c].value_counts().sort_index().index)\n",
    "print(data_2006[c].value_counts().sort_index())\n",
    "print(missing_data(data_2006[c]))"
   ]
  },
  {
   "cell_type": "code",
   "execution_count": null,
   "metadata": {
    "collapsed": true
   },
   "outputs": [],
   "source": [
    "c = 'ESTU_DEPTO_PRESENTACION'\n",
    "print(data_2006[c].value_counts().sort_index().index)\n",
    "print(data_2006[c].value_counts().sort_index())\n",
    "print(missing_data(data_2006[c]))"
   ]
  },
  {
   "cell_type": "code",
   "execution_count": null,
   "metadata": {
    "collapsed": true
   },
   "outputs": [],
   "source": [
    "c = 'ESTU_EXAM_NOMBREEXAMEN'\n",
    "print(data_2006[c].value_counts().sort_index().index)\n",
    "print(data_2006[c].value_counts().sort_index())\n",
    "print(missing_data(data_2006[c]))"
   ]
  },
  {
   "cell_type": "code",
   "execution_count": null,
   "metadata": {
    "collapsed": true
   },
   "outputs": [],
   "source": [
    "c = 'IND_ESTUDIO_BACHILLERATO'\n",
    "print(data_2006[c].value_counts().sort_index().index)\n",
    "print(data_2006[c].value_counts().sort_index())\n",
    "print(missing_data(data_2006[c]))"
   ]
  },
  {
   "cell_type": "code",
   "execution_count": null,
   "metadata": {
    "collapsed": true
   },
   "outputs": [],
   "source": [
    "c = 'IND_ANNO_TERMINO_BACHILLERATO'\n",
    "print(data_2006[c].value_counts().sort_index().index)\n",
    "print(data_2006[c].value_counts().sort_index())\n",
    "print(missing_data(data_2006[c]))"
   ]
  },
  {
   "cell_type": "code",
   "execution_count": null,
   "metadata": {
    "collapsed": true
   },
   "outputs": [],
   "source": [
    "c = 'IND_TERMINO_BACHILLERATO'\n",
    "print(data_2006[c].value_counts().sort_index().index)\n",
    "print(data_2006[c].value_counts().sort_index())\n",
    "print(missing_data(data_2006[c]))"
   ]
  },
  {
   "cell_type": "code",
   "execution_count": null,
   "metadata": {
    "collapsed": true
   },
   "outputs": [],
   "source": [
    "c = 'IND_COD_ICFES_TERMINO'\n",
    "print(data_2006[c].value_counts().sort_index().index)\n",
    "print(data_2006[c].value_counts().sort_index())\n",
    "print(missing_data(data_2006[c]))"
   ]
  },
  {
   "cell_type": "code",
   "execution_count": null,
   "metadata": {
    "collapsed": true
   },
   "outputs": [],
   "source": [
    "c = 'COLE_COD_ICFES'\n",
    "print(data_2006[c].value_counts().sort_index().index)\n",
    "print(data_2006[c].value_counts().sort_index())\n",
    "print(missing_data(data_2006[c]))"
   ]
  },
  {
   "cell_type": "code",
   "execution_count": null,
   "metadata": {
    "collapsed": true
   },
   "outputs": [],
   "source": [
    "c = 'COLE_COD_DANE_INSTITUCION'\n",
    "print(data_2006[c].value_counts().sort_index().index)\n",
    "print(data_2006[c].value_counts().sort_index())\n",
    "print(missing_data(data_2006[c]))"
   ]
  },
  {
   "cell_type": "code",
   "execution_count": null,
   "metadata": {
    "collapsed": true
   },
   "outputs": [],
   "source": [
    "c = 'COLE_NOMBRE_SEDE'\n",
    "print(data_2006[c].value_counts().sort_index().index)\n",
    "print(data_2006[c].value_counts().sort_index())\n",
    "print(missing_data(data_2006[c]))"
   ]
  },
  {
   "cell_type": "code",
   "execution_count": null,
   "metadata": {
    "collapsed": true
   },
   "outputs": [],
   "source": [
    "c = 'COLE_CALENDARIO'\n",
    "print(data_2006[c].value_counts().sort_index().index)\n",
    "print(data_2006[c].value_counts().sort_index())\n",
    "print(missing_data(data_2006[c]))"
   ]
  },
  {
   "cell_type": "code",
   "execution_count": null,
   "metadata": {
    "collapsed": true
   },
   "outputs": [],
   "source": [
    "c = 'COLE_GENERO'\n",
    "print(data_2006[c].value_counts().sort_index().index)\n",
    "print(data_2006[c].value_counts().sort_index())\n",
    "print(missing_data(data_2006[c]))"
   ]
  },
  {
   "cell_type": "code",
   "execution_count": null,
   "metadata": {
    "collapsed": true
   },
   "outputs": [],
   "source": [
    "c = 'COLE_NATURALEZA'\n",
    "print(data_2006[c].value_counts().sort_index().index)\n",
    "print(data_2006[c].value_counts().sort_index())\n",
    "print(missing_data(data_2006[c]))"
   ]
  },
  {
   "cell_type": "code",
   "execution_count": null,
   "metadata": {
    "collapsed": true
   },
   "outputs": [],
   "source": [
    "c = 'COLE_BILINGUE'\n",
    "print(data_2006[c].value_counts().sort_index().index)\n",
    "print(data_2006[c].value_counts().sort_index())\n",
    "print(missing_data(data_2006[c]))"
   ]
  },
  {
   "cell_type": "code",
   "execution_count": null,
   "metadata": {
    "collapsed": true
   },
   "outputs": [],
   "source": [
    "c = 'COLE_JORNADA'\n",
    "print(data_2006[c].value_counts().sort_index().index)\n",
    "print(data_2006[c].value_counts().sort_index())\n",
    "print(missing_data(data_2006[c]))"
   ]
  },
  {
   "cell_type": "code",
   "execution_count": null,
   "metadata": {
    "collapsed": true
   },
   "outputs": [],
   "source": [
    "c = 'COLE_CARACTER'\n",
    "print(data_2006[c].value_counts().sort_index().index)\n",
    "print(data_2006[c].value_counts().sort_index())\n",
    "print(missing_data(data_2006[c]))"
   ]
  },
  {
   "cell_type": "code",
   "execution_count": null,
   "metadata": {
    "collapsed": true
   },
   "outputs": [],
   "source": [
    "c = 'ESTU_ETNIA'\n",
    "print(data_2006[c].value_counts().sort_index().index)\n",
    "print(data_2006[c].value_counts().sort_index())\n",
    "print(missing_data(data_2006[c]))"
   ]
  },
  {
   "cell_type": "code",
   "execution_count": null,
   "metadata": {
    "collapsed": true
   },
   "outputs": [],
   "source": [
    "c = 'FAMI_LEE_ESCRIBE_PADRE'\n",
    "print(data_2006[c].value_counts().sort_index().index)\n",
    "print(data_2006[c].value_counts().sort_index())\n",
    "print(missing_data(data_2006[c]))"
   ]
  },
  {
   "cell_type": "code",
   "execution_count": null,
   "metadata": {
    "collapsed": true
   },
   "outputs": [],
   "source": [
    "c = 'FAMI_LEE_ESCRIBE_MADRE'\n",
    "print(data_2006[c].value_counts().sort_index().index)\n",
    "print(data_2006[c].value_counts().sort_index())\n",
    "print(missing_data(data_2006[c]))"
   ]
  },
  {
   "cell_type": "code",
   "execution_count": null,
   "metadata": {
    "collapsed": true
   },
   "outputs": [],
   "source": [
    "c = 'FAMI_EDUCA_PADRE'\n",
    "print(data_2006[c].value_counts().sort_index().index)\n",
    "print(data_2006[c].value_counts().sort_index())\n",
    "print(missing_data(data_2006[c]))"
   ]
  },
  {
   "cell_type": "code",
   "execution_count": null,
   "metadata": {
    "collapsed": true
   },
   "outputs": [],
   "source": [
    "c = 'FAMI_EDUCA_MADRE'\n",
    "print(data_2006[c].value_counts().sort_index().index)\n",
    "print(data_2006[c].value_counts().sort_index())\n",
    "print(missing_data(data_2006[c]))"
   ]
  },
  {
   "cell_type": "code",
   "execution_count": null,
   "metadata": {
    "collapsed": true
   },
   "outputs": [],
   "source": [
    "c = 'FAMI_OCUPA_PADRE'\n",
    "print(data_2006[c].value_counts().sort_index().index)\n",
    "print(data_2006[c].value_counts().sort_index())\n",
    "print(missing_data(data_2006[c]))"
   ]
  },
  {
   "cell_type": "code",
   "execution_count": null,
   "metadata": {
    "collapsed": true
   },
   "outputs": [],
   "source": [
    "c = 'FAMI_OCUPA_MADRE'\n",
    "print(data_2006[c].value_counts().sort_index().index)\n",
    "print(data_2006[c].value_counts().sort_index())\n",
    "print(missing_data(data_2006[c]))"
   ]
  },
  {
   "cell_type": "code",
   "execution_count": null,
   "metadata": {
    "collapsed": true
   },
   "outputs": [],
   "source": [
    "c = 'FAMI_NUM_HERMANOS'\n",
    "print(data_2006[c].value_counts().sort_index().index)\n",
    "print(data_2006[c].value_counts().sort_index())\n",
    "print(missing_data(data_2006[c]))"
   ]
  },
  {
   "cell_type": "code",
   "execution_count": null,
   "metadata": {
    "collapsed": true
   },
   "outputs": [],
   "source": [
    "c = 'FAMI_EDUCA_HERMANO'\n",
    "print(data_2006[c].value_counts().sort_index().index)\n",
    "print(data_2006[c].value_counts().sort_index())\n",
    "print(missing_data(data_2006[c]))"
   ]
  },
  {
   "cell_type": "code",
   "execution_count": null,
   "metadata": {
    "collapsed": true
   },
   "outputs": [],
   "source": [
    "c = 'FAMI_HERMANOS_ESTUDIAN'\n",
    "print(data_2006[c].value_counts().sort_index().index)\n",
    "print(data_2006[c].value_counts().sort_index())\n",
    "print(missing_data(data_2006[c]))"
   ]
  },
  {
   "cell_type": "code",
   "execution_count": null,
   "metadata": {
    "collapsed": true
   },
   "outputs": [],
   "source": [
    "c = 'FAMI_ESTRATO_VIVIENDA'\n",
    "print(data_2006[c].value_counts().sort_index().index)\n",
    "print(data_2006[c].value_counts().sort_index())\n",
    "print(missing_data(data_2006[c]))"
   ]
  },
  {
   "cell_type": "code",
   "execution_count": null,
   "metadata": {
    "collapsed": true
   },
   "outputs": [],
   "source": [
    "c = 'FAMI_NIVEL_SISBEN'\n",
    "print(data_2006[c].value_counts().sort_index().index)\n",
    "print(data_2006[c].value_counts().sort_index())\n",
    "print(missing_data(data_2006[c]))"
   ]
  },
  {
   "cell_type": "code",
   "execution_count": null,
   "metadata": {
    "collapsed": true
   },
   "outputs": [],
   "source": [
    "c = 'FAMI_PERSONAS_HOGAR'\n",
    "print(data_2006[c].value_counts().sort_index().index)\n",
    "print(data_2006[c].value_counts().sort_index())\n",
    "print(missing_data(data_2006[c]))"
   ]
  },
  {
   "cell_type": "code",
   "execution_count": null,
   "metadata": {
    "collapsed": true
   },
   "outputs": [],
   "source": [
    "c = 'FAMI_PISOSHOGAR'\n",
    "print(data_2006[c].value_counts().sort_index().index)\n",
    "print(data_2006[c].value_counts().sort_index())\n",
    "print(missing_data(data_2006[c]))"
   ]
  },
  {
   "cell_type": "code",
   "execution_count": null,
   "metadata": {
    "collapsed": true
   },
   "outputs": [],
   "source": [
    "c = 'FAMI_CUARTOS_HOGAR'\n",
    "print(data_2006[c].value_counts().sort_index().index)\n",
    "print(data_2006[c].value_counts().sort_index())\n",
    "print(missing_data(data_2006[c]))"
   ]
  },
  {
   "cell_type": "code",
   "execution_count": null,
   "metadata": {
    "collapsed": true
   },
   "outputs": [],
   "source": [
    "c = 'FAMI_DORMITORIOS_HOGAR'\n",
    "print(data_2006[c].value_counts().sort_index().index)\n",
    "print(data_2006[c].value_counts().sort_index())\n",
    "print(missing_data(data_2006[c]))"
   ]
  },
  {
   "cell_type": "code",
   "execution_count": null,
   "metadata": {
    "collapsed": true
   },
   "outputs": [],
   "source": [
    "c = 'FAMI_COMPUTADOR'\n",
    "print(data_2006[c].value_counts().sort_index().index)\n",
    "print(data_2006[c].value_counts().sort_index())\n",
    "print(missing_data(data_2006[c]))"
   ]
  },
  {
   "cell_type": "code",
   "execution_count": null,
   "metadata": {
    "collapsed": true
   },
   "outputs": [],
   "source": [
    "c = 'FAMI_INGRESO_FMILIAR_MENSUAL'\n",
    "print(data_2006[c].value_counts().sort_index().index)\n",
    "print(data_2006[c].value_counts().sort_index())\n",
    "print(missing_data(data_2006[c]))"
   ]
  },
  {
   "cell_type": "code",
   "execution_count": null,
   "metadata": {
    "collapsed": true
   },
   "outputs": [],
   "source": [
    "c = 'ESTU_TRABAJA'\n",
    "print(data_2006[c].value_counts().sort_index().index)\n",
    "print(data_2006[c].value_counts().sort_index())\n",
    "print(missing_data(data_2006[c]))"
   ]
  },
  {
   "cell_type": "code",
   "execution_count": null,
   "metadata": {
    "collapsed": true
   },
   "outputs": [],
   "source": [
    "c = 'ESTU_HORAS_TRABAJA'\n",
    "print(data_2006[c].value_counts().sort_index().index)\n",
    "print(data_2006[c].value_counts().sort_index())\n",
    "print(missing_data(data_2006[c]))"
   ]
  },
  {
   "cell_type": "code",
   "execution_count": null,
   "metadata": {
    "collapsed": true
   },
   "outputs": [],
   "source": [
    "c = 'COLE_VALOR_PENSION'\n",
    "print(data_2006[c].value_counts().sort_index().index)\n",
    "print(data_2006[c].value_counts().sort_index())\n",
    "print(missing_data(data_2006[c]))"
   ]
  },
  {
   "cell_type": "code",
   "execution_count": null,
   "metadata": {
    "collapsed": true
   },
   "outputs": [],
   "source": [
    "c = 'ESTU_CARRDESEADA_TIPO'\n",
    "print(data_2006[c].value_counts().sort_index().index)\n",
    "print(data_2006[c].value_counts().sort_index())\n",
    "print(missing_data(data_2006[c]))"
   ]
  },
  {
   "cell_type": "code",
   "execution_count": null,
   "metadata": {
    "collapsed": true
   },
   "outputs": [],
   "source": [
    "c = 'ESTU_CARRDESEADA_NUCLEO'\n",
    "print(data_2006[c].value_counts().sort_index().index)\n",
    "print(data_2006[c].value_counts().sort_index())\n",
    "print(missing_data(data_2006[c]))"
   ]
  },
  {
   "cell_type": "code",
   "execution_count": null,
   "metadata": {
    "collapsed": true
   },
   "outputs": [],
   "source": [
    "c = 'ESTU_IES_COD_DESEADA'\n",
    "print(data_2006[c].value_counts().sort_index().index)\n",
    "print(data_2006[c].value_counts().sort_index())\n",
    "print(missing_data(data_2006[c]))"
   ]
  },
  {
   "cell_type": "code",
   "execution_count": null,
   "metadata": {
    "collapsed": true
   },
   "outputs": [],
   "source": [
    "c = 'ESTU_IES_DESEADA_NOMBRE'\n",
    "print(data_2006[c].value_counts().sort_index().index)\n",
    "print(data_2006[c].value_counts().sort_index())\n",
    "print(missing_data(data_2006[c]))"
   ]
  },
  {
   "cell_type": "code",
   "execution_count": null,
   "metadata": {
    "collapsed": true
   },
   "outputs": [],
   "source": [
    "c = 'ESTU_IES_COD_MPIO_DESEADA'\n",
    "print(data_2006[c].value_counts().sort_index().index)\n",
    "print(data_2006[c].value_counts().sort_index())\n",
    "print(missing_data(data_2006[c]))"
   ]
  },
  {
   "cell_type": "code",
   "execution_count": null,
   "metadata": {
    "collapsed": true
   },
   "outputs": [],
   "source": [
    "c = 'ESTU_IES_MPIO_DESEADA'\n",
    "print(data_2006[c].value_counts().sort_index().index)\n",
    "print(data_2006[c].value_counts().sort_index())\n",
    "print(missing_data(data_2006[c]))"
   ]
  },
  {
   "cell_type": "code",
   "execution_count": null,
   "metadata": {
    "collapsed": true
   },
   "outputs": [],
   "source": [
    "c = 'ESTU_IES_DEPT_DESEADA'\n",
    "print(data_2006[c].value_counts().sort_index().index)\n",
    "print(data_2006[c].value_counts().sort_index())\n",
    "print(missing_data(data_2006[c]))"
   ]
  },
  {
   "cell_type": "code",
   "execution_count": null,
   "metadata": {
    "collapsed": true
   },
   "outputs": [],
   "source": [
    "c = 'ESTU_RAZONINSTITUTO'\n",
    "print(data_2006[c].value_counts().sort_index().index)\n",
    "print(data_2006[c].value_counts().sort_index())\n",
    "print(missing_data(data_2006[c]))"
   ]
  },
  {
   "cell_type": "code",
   "execution_count": null,
   "metadata": {
    "collapsed": true
   },
   "outputs": [],
   "source": [
    "c = 'ESTU_CARRDESEADA_COD'\n",
    "print(data_2006[c].value_counts().sort_index().index)\n",
    "print(data_2006[c].value_counts().sort_index())\n",
    "print(missing_data(data_2006[c]))"
   ]
  },
  {
   "cell_type": "code",
   "execution_count": null,
   "metadata": {
    "collapsed": true
   },
   "outputs": [],
   "source": [
    "c = 'ESTU_CARRDESEADA_RAZON'\n",
    "print(data_2006[c].value_counts().sort_index().index)\n",
    "print(data_2006[c].value_counts().sort_index())\n",
    "print(missing_data(data_2006[c]))"
   ]
  },
  {
   "cell_type": "markdown",
   "metadata": {},
   "source": [
    "## TARGETS"
   ]
  },
  {
   "cell_type": "code",
   "execution_count": null,
   "metadata": {
    "collapsed": true
   },
   "outputs": [],
   "source": [
    "c = 'PUNT_LENGUAJE'\n",
    "print(data_2006[c].value_counts().sort_index().index)\n",
    "print(data_2006[c].value_counts().sort_index())\n",
    "print(missing_data(data_2006[c]))"
   ]
  },
  {
   "cell_type": "code",
   "execution_count": null,
   "metadata": {
    "collapsed": true
   },
   "outputs": [],
   "source": [
    "c = 'PUNT_MATEMATICAS'\n",
    "print(data_2006[c].value_counts().sort_index().index)\n",
    "print(data_2006[c].value_counts().sort_index())\n",
    "print(missing_data(data_2006[c]))"
   ]
  },
  {
   "cell_type": "code",
   "execution_count": null,
   "metadata": {
    "collapsed": true
   },
   "outputs": [],
   "source": [
    "c = 'PUNT_C_SOCIALES'\n",
    "print(data_2006[c].value_counts().sort_index().index)\n",
    "print(data_2006[c].value_counts().sort_index())\n",
    "print(missing_data(data_2006[c]))"
   ]
  },
  {
   "cell_type": "code",
   "execution_count": null,
   "metadata": {
    "collapsed": true
   },
   "outputs": [],
   "source": [
    "c = 'PUNT_FILOSOFIA'\n",
    "print(data_2006[c].value_counts().sort_index().index)\n",
    "print(data_2006[c].value_counts().sort_index())\n",
    "print(missing_data(data_2006[c]))"
   ]
  },
  {
   "cell_type": "code",
   "execution_count": null,
   "metadata": {
    "collapsed": true
   },
   "outputs": [],
   "source": [
    "c = 'PUNT_BIOLOGIA'\n",
    "print(data_2006[c].value_counts().sort_index().index)\n",
    "print(data_2006[c].value_counts().sort_index())\n",
    "print(missing_data(data_2006[c]))"
   ]
  },
  {
   "cell_type": "code",
   "execution_count": null,
   "metadata": {
    "collapsed": true
   },
   "outputs": [],
   "source": [
    "c = 'PUNT_QUIMICA'\n",
    "print(data_2006[c].value_counts().sort_index().index)\n",
    "print(data_2006[c].value_counts().sort_index())\n",
    "print(missing_data(data_2006[c]))"
   ]
  },
  {
   "cell_type": "code",
   "execution_count": null,
   "metadata": {
    "collapsed": true
   },
   "outputs": [],
   "source": [
    "c = 'PUNT_FISICA'\n",
    "print(data_2006[c].value_counts().sort_index().index)\n",
    "print(data_2006[c].value_counts().sort_index())\n",
    "print(missing_data(data_2006[c]))"
   ]
  },
  {
   "cell_type": "code",
   "execution_count": null,
   "metadata": {
    "collapsed": true
   },
   "outputs": [],
   "source": [
    "c = 'PUNT_INGLES'\n",
    "print(data_2006[c].value_counts().sort_index().index)\n",
    "print(data_2006[c].value_counts().sort_index())\n",
    "print(missing_data(data_2006[c]))"
   ]
  },
  {
   "cell_type": "code",
   "execution_count": null,
   "metadata": {
    "collapsed": true
   },
   "outputs": [],
   "source": [
    "c = 'DESEMP_INGLES'\n",
    "print(data_2006[c].value_counts().sort_index().index)\n",
    "print(data_2006[c].value_counts().sort_index())\n",
    "print(missing_data(data_2006[c]))"
   ]
  },
  {
   "cell_type": "code",
   "execution_count": null,
   "metadata": {
    "collapsed": true
   },
   "outputs": [],
   "source": [
    "c = 'NOMBRE_PROFUNDIZACION'\n",
    "print(data_2006[c].value_counts().sort_index().index)\n",
    "print(data_2006[c].value_counts().sort_index())\n",
    "print(missing_data(data_2006[c]))"
   ]
  },
  {
   "cell_type": "code",
   "execution_count": null,
   "metadata": {
    "collapsed": true
   },
   "outputs": [],
   "source": [
    "c = 'PUNT_PROFUNDIZACION'\n",
    "print(data_2006[c].value_counts().sort_index().index)\n",
    "print(data_2006[c].value_counts().sort_index())\n",
    "print(missing_data(data_2006[c]))"
   ]
  },
  {
   "cell_type": "code",
   "execution_count": null,
   "metadata": {
    "collapsed": true
   },
   "outputs": [],
   "source": [
    "c = 'DESEMP_PROFUNDIZACION'\n",
    "print(data_2006[c].value_counts().sort_index().index)\n",
    "print(data_2006[c].value_counts().sort_index())\n",
    "print(missing_data(data_2006[c]))"
   ]
  },
  {
   "cell_type": "code",
   "execution_count": null,
   "metadata": {
    "collapsed": true
   },
   "outputs": [],
   "source": [
    "c = 'NOMBRE_INTERDISCIPLINAR'\n",
    "print(data_2006[c].value_counts().sort_index().index)\n",
    "print(data_2006[c].value_counts().sort_index())\n",
    "print(missing_data(data_2006[c]))"
   ]
  },
  {
   "cell_type": "code",
   "execution_count": null,
   "metadata": {
    "collapsed": true
   },
   "outputs": [],
   "source": [
    "c = 'PUNT_INTERDISCIPLINAR'\n",
    "print(data_2006[c].value_counts().sort_index().index)\n",
    "print(data_2006[c].value_counts().sort_index())\n",
    "print(missing_data(data_2006[c]))"
   ]
  },
  {
   "cell_type": "code",
   "execution_count": null,
   "metadata": {
    "collapsed": true
   },
   "outputs": [],
   "source": [
    "c = 'ESTU_PUESTO'\n",
    "print(data_2006[c].value_counts().sort_index().index)\n",
    "print(data_2006[c].value_counts().sort_index())\n",
    "print(missing_data(data_2006[c]))"
   ]
  },
  {
   "cell_type": "markdown",
   "metadata": {},
   "source": [
    "# Now the other file... 2007_2"
   ]
  },
  {
   "cell_type": "code",
   "execution_count": 2,
   "metadata": {
    "collapsed": false,
    "scrolled": true
   },
   "outputs": [
    {
     "name": "stderr",
     "output_type": "stream",
     "text": [
      "/usr/local/lib/python3.4/dist-packages/IPython/core/interactiveshell.py:2902: DtypeWarning: Columns (30) have mixed types. Specify dtype option on import or set low_memory=False.\n",
      "  interactivity=interactivity, compiler=compiler, result=result)\n"
     ]
    }
   ],
   "source": [
    "data_2007_2 = pd.read_csv('../DatosFTPICFES/SABER11/SB11-BASES_DE_DATOS/SB11-20072-RGSTRO-CLFCCN-V1-0.txt', delimiter='|')"
   ]
  },
  {
   "cell_type": "code",
   "execution_count": 10,
   "metadata": {
    "collapsed": false
   },
   "outputs": [
    {
     "data": {
      "text/plain": [
       "(444713, 84)"
      ]
     },
     "execution_count": 10,
     "metadata": {},
     "output_type": "execute_result"
    }
   ],
   "source": [
    "data_2007_2.shape"
   ]
  },
  {
   "cell_type": "code",
   "execution_count": 11,
   "metadata": {
    "collapsed": false,
    "scrolled": true
   },
   "outputs": [
    {
     "data": {
      "text/html": [
       "<div>\n",
       "<table border=\"1\" class=\"dataframe\">\n",
       "  <thead>\n",
       "    <tr style=\"text-align: right;\">\n",
       "      <th></th>\n",
       "      <th>0</th>\n",
       "      <th>1</th>\n",
       "      <th>2</th>\n",
       "    </tr>\n",
       "  </thead>\n",
       "  <tbody>\n",
       "    <tr>\n",
       "      <th>ESTU_CONSECUTIVO</th>\n",
       "      <td>SABER1120072000001</td>\n",
       "      <td>SABER1120072000002</td>\n",
       "      <td>SABER1120072000003</td>\n",
       "    </tr>\n",
       "    <tr>\n",
       "      <th>PERIODO</th>\n",
       "      <td>20072</td>\n",
       "      <td>20072</td>\n",
       "      <td>20072</td>\n",
       "    </tr>\n",
       "    <tr>\n",
       "      <th>ESTU_TIPO_DOCUMENTO</th>\n",
       "      <td>T</td>\n",
       "      <td>T</td>\n",
       "      <td>T</td>\n",
       "    </tr>\n",
       "    <tr>\n",
       "      <th>ESTU_PAIS_RESIDE</th>\n",
       "      <td>CO</td>\n",
       "      <td>CO</td>\n",
       "      <td>CO</td>\n",
       "    </tr>\n",
       "    <tr>\n",
       "      <th>ESTU_GENERO</th>\n",
       "      <td>F</td>\n",
       "      <td>M</td>\n",
       "      <td>F</td>\n",
       "    </tr>\n",
       "    <tr>\n",
       "      <th>ESTU_NACIMIENTO_DIA</th>\n",
       "      <td>30</td>\n",
       "      <td>13</td>\n",
       "      <td>23</td>\n",
       "    </tr>\n",
       "    <tr>\n",
       "      <th>ESTU_NACIMIENTO_MES</th>\n",
       "      <td>12</td>\n",
       "      <td>6</td>\n",
       "      <td>10</td>\n",
       "    </tr>\n",
       "    <tr>\n",
       "      <th>ESTU_NACIMIENTO_ANNO</th>\n",
       "      <td>1990</td>\n",
       "      <td>1991</td>\n",
       "      <td>1990</td>\n",
       "    </tr>\n",
       "    <tr>\n",
       "      <th>ESTU_EDAD</th>\n",
       "      <td>16</td>\n",
       "      <td>16</td>\n",
       "      <td>16</td>\n",
       "    </tr>\n",
       "    <tr>\n",
       "      <th>ESTU_LIMITA_BAJAVISION</th>\n",
       "      <td>NaN</td>\n",
       "      <td>NaN</td>\n",
       "      <td>NaN</td>\n",
       "    </tr>\n",
       "    <tr>\n",
       "      <th>ESTU_LIMITA_SORDOCEGUERA</th>\n",
       "      <td>NaN</td>\n",
       "      <td>NaN</td>\n",
       "      <td>NaN</td>\n",
       "    </tr>\n",
       "    <tr>\n",
       "      <th>ESTU_LIMITA_COGNITIVA</th>\n",
       "      <td>NaN</td>\n",
       "      <td>NaN</td>\n",
       "      <td>NaN</td>\n",
       "    </tr>\n",
       "    <tr>\n",
       "      <th>ESTU_LIMITA_INVIDENTE</th>\n",
       "      <td>NaN</td>\n",
       "      <td>NaN</td>\n",
       "      <td>NaN</td>\n",
       "    </tr>\n",
       "    <tr>\n",
       "      <th>ESTU_LIMITA_MOTRIZ</th>\n",
       "      <td>NaN</td>\n",
       "      <td>NaN</td>\n",
       "      <td>NaN</td>\n",
       "    </tr>\n",
       "    <tr>\n",
       "      <th>ESTU_LIMITA_SORDOINTERPRETE</th>\n",
       "      <td>NaN</td>\n",
       "      <td>NaN</td>\n",
       "      <td>NaN</td>\n",
       "    </tr>\n",
       "    <tr>\n",
       "      <th>ESTU_LIMITA_SORDONOINTERPRETE</th>\n",
       "      <td>NaN</td>\n",
       "      <td>NaN</td>\n",
       "      <td>NaN</td>\n",
       "    </tr>\n",
       "    <tr>\n",
       "      <th>ESTU_COD_RESIDE_MCPIO</th>\n",
       "      <td>66001</td>\n",
       "      <td>5615</td>\n",
       "      <td>66001</td>\n",
       "    </tr>\n",
       "    <tr>\n",
       "      <th>ESTU_RESIDE_MCPIO</th>\n",
       "      <td>PEREIRA</td>\n",
       "      <td>RIONEGRO</td>\n",
       "      <td>PEREIRA</td>\n",
       "    </tr>\n",
       "    <tr>\n",
       "      <th>ESTU_RESIDE_DEPTO</th>\n",
       "      <td>RISARALDA</td>\n",
       "      <td>ANTIOQUIA</td>\n",
       "      <td>RISARALDA</td>\n",
       "    </tr>\n",
       "    <tr>\n",
       "      <th>ESTU_ZONA_RESIDE</th>\n",
       "      <td>10</td>\n",
       "      <td>10</td>\n",
       "      <td>10</td>\n",
       "    </tr>\n",
       "    <tr>\n",
       "      <th>ESTU_AREA_RESIDE</th>\n",
       "      <td>NaN</td>\n",
       "      <td>NaN</td>\n",
       "      <td>NaN</td>\n",
       "    </tr>\n",
       "    <tr>\n",
       "      <th>ESTU_COD_MCPIO_PRESENTACION</th>\n",
       "      <td>66001</td>\n",
       "      <td>5615</td>\n",
       "      <td>66001</td>\n",
       "    </tr>\n",
       "    <tr>\n",
       "      <th>ESTU_MCPIO_PRESENTACION</th>\n",
       "      <td>PEREIRA</td>\n",
       "      <td>RIONEGRO</td>\n",
       "      <td>PEREIRA</td>\n",
       "    </tr>\n",
       "    <tr>\n",
       "      <th>ESTU_DEPTO_PRESENTACION</th>\n",
       "      <td>RISARALDA</td>\n",
       "      <td>ANTIOQUIA</td>\n",
       "      <td>RISARALDA</td>\n",
       "    </tr>\n",
       "    <tr>\n",
       "      <th>ESTU_EXAM_NOMBREEXAMEN</th>\n",
       "      <td>EXAMEN DE ESTADO 2007-2</td>\n",
       "      <td>EXAMEN DE ESTADO 2007-2</td>\n",
       "      <td>EXAMEN DE ESTADO 2007-2</td>\n",
       "    </tr>\n",
       "    <tr>\n",
       "      <th>IND_ESTUDIO_BACHILLERATO</th>\n",
       "      <td>1</td>\n",
       "      <td>1</td>\n",
       "      <td>1</td>\n",
       "    </tr>\n",
       "    <tr>\n",
       "      <th>IND_ANNO_TERMINO_BACHILLERATO</th>\n",
       "      <td>2007</td>\n",
       "      <td>2007</td>\n",
       "      <td>2007</td>\n",
       "    </tr>\n",
       "    <tr>\n",
       "      <th>IND_TERMINO_BACHILLERATO</th>\n",
       "      <td>NaN</td>\n",
       "      <td>NaN</td>\n",
       "      <td>NaN</td>\n",
       "    </tr>\n",
       "    <tr>\n",
       "      <th>IND_COD_ICFES_TERMINO</th>\n",
       "      <td>13318</td>\n",
       "      <td>101964</td>\n",
       "      <td>13318</td>\n",
       "    </tr>\n",
       "    <tr>\n",
       "      <th>COLE_COD_ICFES</th>\n",
       "      <td>13318</td>\n",
       "      <td>101964</td>\n",
       "      <td>13318</td>\n",
       "    </tr>\n",
       "    <tr>\n",
       "      <th>...</th>\n",
       "      <td>...</td>\n",
       "      <td>...</td>\n",
       "      <td>...</td>\n",
       "    </tr>\n",
       "    <tr>\n",
       "      <th>FAMI_COMPUTADOR</th>\n",
       "      <td>NaN</td>\n",
       "      <td>NaN</td>\n",
       "      <td>NaN</td>\n",
       "    </tr>\n",
       "    <tr>\n",
       "      <th>FAMI_INGRESO_FMILIAR_MENSUAL</th>\n",
       "      <td>NaN</td>\n",
       "      <td>NaN</td>\n",
       "      <td>NaN</td>\n",
       "    </tr>\n",
       "    <tr>\n",
       "      <th>ESTU_TRABAJA</th>\n",
       "      <td>NaN</td>\n",
       "      <td>NaN</td>\n",
       "      <td>NaN</td>\n",
       "    </tr>\n",
       "    <tr>\n",
       "      <th>ESTU_HORAS_TRABAJA</th>\n",
       "      <td>NaN</td>\n",
       "      <td>NaN</td>\n",
       "      <td>NaN</td>\n",
       "    </tr>\n",
       "    <tr>\n",
       "      <th>COLE_VALOR_PENSION</th>\n",
       "      <td>0</td>\n",
       "      <td>4</td>\n",
       "      <td>0</td>\n",
       "    </tr>\n",
       "    <tr>\n",
       "      <th>ESTU_CARRDESEADA_TIPO</th>\n",
       "      <td>NaN</td>\n",
       "      <td>NaN</td>\n",
       "      <td>NaN</td>\n",
       "    </tr>\n",
       "    <tr>\n",
       "      <th>ESTU_CARRDESEADA_NUCLEO</th>\n",
       "      <td>NaN</td>\n",
       "      <td>NaN</td>\n",
       "      <td>NaN</td>\n",
       "    </tr>\n",
       "    <tr>\n",
       "      <th>ESTU_IES_COD_DESEADA</th>\n",
       "      <td>1111</td>\n",
       "      <td>9103</td>\n",
       "      <td>1111</td>\n",
       "    </tr>\n",
       "    <tr>\n",
       "      <th>ESTU_IES_DESEADA_NOMBRE</th>\n",
       "      <td>UNIVERSIDAD TECNOLOGICA DE PEREIRA</td>\n",
       "      <td>ESCUELA MILITAR DE AVIACION</td>\n",
       "      <td>UNIVERSIDAD TECNOLOGICA DE PEREIRA</td>\n",
       "    </tr>\n",
       "    <tr>\n",
       "      <th>ESTU_IES_COD_MPIO_DESEADA</th>\n",
       "      <td>66001</td>\n",
       "      <td>76001</td>\n",
       "      <td>66001</td>\n",
       "    </tr>\n",
       "    <tr>\n",
       "      <th>ESTU_IES_MPIO_DESEADA</th>\n",
       "      <td>PEREIRA</td>\n",
       "      <td>CALI</td>\n",
       "      <td>PEREIRA</td>\n",
       "    </tr>\n",
       "    <tr>\n",
       "      <th>ESTU_IES_DEPT_DESEADA</th>\n",
       "      <td>RISARALDA</td>\n",
       "      <td>VALLE</td>\n",
       "      <td>RISARALDA</td>\n",
       "    </tr>\n",
       "    <tr>\n",
       "      <th>ESTU_RAZONINSTITUTO</th>\n",
       "      <td>3</td>\n",
       "      <td>3</td>\n",
       "      <td>3</td>\n",
       "    </tr>\n",
       "    <tr>\n",
       "      <th>ESTU_CARRDESEADA_COD</th>\n",
       "      <td>16985</td>\n",
       "      <td>8188</td>\n",
       "      <td>14477</td>\n",
       "    </tr>\n",
       "    <tr>\n",
       "      <th>ESTU_CARRDESEADA_RAZON</th>\n",
       "      <td>1</td>\n",
       "      <td>2</td>\n",
       "      <td>1</td>\n",
       "    </tr>\n",
       "    <tr>\n",
       "      <th>PUNT_LENGUAJE</th>\n",
       "      <td>45,01</td>\n",
       "      <td>53,22</td>\n",
       "      <td>45,01</td>\n",
       "    </tr>\n",
       "    <tr>\n",
       "      <th>PUNT_MATEMATICAS</th>\n",
       "      <td>40,82</td>\n",
       "      <td>53,2</td>\n",
       "      <td>44,48</td>\n",
       "    </tr>\n",
       "    <tr>\n",
       "      <th>PUNT_C_SOCIALES</th>\n",
       "      <td>46,81</td>\n",
       "      <td>50,42</td>\n",
       "      <td>44,96</td>\n",
       "    </tr>\n",
       "    <tr>\n",
       "      <th>PUNT_FILOSOFIA</th>\n",
       "      <td>48,41</td>\n",
       "      <td>43,59</td>\n",
       "      <td>35,44</td>\n",
       "    </tr>\n",
       "    <tr>\n",
       "      <th>PUNT_BIOLOGIA</th>\n",
       "      <td>45,64</td>\n",
       "      <td>58,09</td>\n",
       "      <td>53,95</td>\n",
       "    </tr>\n",
       "    <tr>\n",
       "      <th>PUNT_QUIMICA</th>\n",
       "      <td>47,22</td>\n",
       "      <td>50,66</td>\n",
       "      <td>47,22</td>\n",
       "    </tr>\n",
       "    <tr>\n",
       "      <th>PUNT_FISICA</th>\n",
       "      <td>38,57</td>\n",
       "      <td>51,73</td>\n",
       "      <td>41,52</td>\n",
       "    </tr>\n",
       "    <tr>\n",
       "      <th>PUNT_INGLES</th>\n",
       "      <td>36,71</td>\n",
       "      <td>69,48</td>\n",
       "      <td>45,98</td>\n",
       "    </tr>\n",
       "    <tr>\n",
       "      <th>DESEMP_INGLES</th>\n",
       "      <td>A-</td>\n",
       "      <td>B1</td>\n",
       "      <td>A1</td>\n",
       "    </tr>\n",
       "    <tr>\n",
       "      <th>NOMBRE_PROFUNDIZACION</th>\n",
       "      <td>PROFUNDIZACIÓN EN CIENCIAS SOCIALES</td>\n",
       "      <td>PROFUNDIZACIÓN EN MATEMÁTICA</td>\n",
       "      <td>PROFUNDIZACIÓN EN BIOLOGÍA</td>\n",
       "    </tr>\n",
       "    <tr>\n",
       "      <th>PUNT_PROFUNDIZACION</th>\n",
       "      <td>5,31</td>\n",
       "      <td>4,83</td>\n",
       "      <td>5,88</td>\n",
       "    </tr>\n",
       "    <tr>\n",
       "      <th>DESEMP_PROFUNDIZACION</th>\n",
       "      <td>I</td>\n",
       "      <td>I</td>\n",
       "      <td>I</td>\n",
       "    </tr>\n",
       "    <tr>\n",
       "      <th>NOMBRE_INTERDISCIPLINAR</th>\n",
       "      <td>MEDIO AMBIENTE</td>\n",
       "      <td>VIOLENCIA Y SOCIEDAD</td>\n",
       "      <td>MEDIO AMBIENTE</td>\n",
       "    </tr>\n",
       "    <tr>\n",
       "      <th>PUNT_INTERDISCIPLINAR</th>\n",
       "      <td>52,46</td>\n",
       "      <td>42,54</td>\n",
       "      <td>60,63</td>\n",
       "    </tr>\n",
       "    <tr>\n",
       "      <th>ESTU_PUESTO</th>\n",
       "      <td>474</td>\n",
       "      <td>53</td>\n",
       "      <td>378</td>\n",
       "    </tr>\n",
       "  </tbody>\n",
       "</table>\n",
       "<p>84 rows × 3 columns</p>\n",
       "</div>"
      ],
      "text/plain": [
       "                                                                 0  \\\n",
       "ESTU_CONSECUTIVO                                SABER1120072000001   \n",
       "PERIODO                                                      20072   \n",
       "ESTU_TIPO_DOCUMENTO                                              T   \n",
       "ESTU_PAIS_RESIDE                                                CO   \n",
       "ESTU_GENERO                                                      F   \n",
       "ESTU_NACIMIENTO_DIA                                             30   \n",
       "ESTU_NACIMIENTO_MES                                             12   \n",
       "ESTU_NACIMIENTO_ANNO                                          1990   \n",
       "ESTU_EDAD                                                       16   \n",
       "ESTU_LIMITA_BAJAVISION                                         NaN   \n",
       "ESTU_LIMITA_SORDOCEGUERA                                       NaN   \n",
       "ESTU_LIMITA_COGNITIVA                                          NaN   \n",
       "ESTU_LIMITA_INVIDENTE                                          NaN   \n",
       "ESTU_LIMITA_MOTRIZ                                             NaN   \n",
       "ESTU_LIMITA_SORDOINTERPRETE                                    NaN   \n",
       "ESTU_LIMITA_SORDONOINTERPRETE                                  NaN   \n",
       "ESTU_COD_RESIDE_MCPIO                                        66001   \n",
       "ESTU_RESIDE_MCPIO                                          PEREIRA   \n",
       "ESTU_RESIDE_DEPTO                                        RISARALDA   \n",
       "ESTU_ZONA_RESIDE                                                10   \n",
       "ESTU_AREA_RESIDE                                               NaN   \n",
       "ESTU_COD_MCPIO_PRESENTACION                                  66001   \n",
       "ESTU_MCPIO_PRESENTACION                                    PEREIRA   \n",
       "ESTU_DEPTO_PRESENTACION                                  RISARALDA   \n",
       "ESTU_EXAM_NOMBREEXAMEN                     EXAMEN DE ESTADO 2007-2   \n",
       "IND_ESTUDIO_BACHILLERATO                                         1   \n",
       "IND_ANNO_TERMINO_BACHILLERATO                                 2007   \n",
       "IND_TERMINO_BACHILLERATO                                       NaN   \n",
       "IND_COD_ICFES_TERMINO                                        13318   \n",
       "COLE_COD_ICFES                                               13318   \n",
       "...                                                            ...   \n",
       "FAMI_COMPUTADOR                                                NaN   \n",
       "FAMI_INGRESO_FMILIAR_MENSUAL                                   NaN   \n",
       "ESTU_TRABAJA                                                   NaN   \n",
       "ESTU_HORAS_TRABAJA                                             NaN   \n",
       "COLE_VALOR_PENSION                                               0   \n",
       "ESTU_CARRDESEADA_TIPO                                          NaN   \n",
       "ESTU_CARRDESEADA_NUCLEO                                        NaN   \n",
       "ESTU_IES_COD_DESEADA                                          1111   \n",
       "ESTU_IES_DESEADA_NOMBRE         UNIVERSIDAD TECNOLOGICA DE PEREIRA   \n",
       "ESTU_IES_COD_MPIO_DESEADA                                    66001   \n",
       "ESTU_IES_MPIO_DESEADA                                      PEREIRA   \n",
       "ESTU_IES_DEPT_DESEADA                                    RISARALDA   \n",
       "ESTU_RAZONINSTITUTO                                              3   \n",
       "ESTU_CARRDESEADA_COD                                         16985   \n",
       "ESTU_CARRDESEADA_RAZON                                           1   \n",
       "PUNT_LENGUAJE                                                45,01   \n",
       "PUNT_MATEMATICAS                                             40,82   \n",
       "PUNT_C_SOCIALES                                              46,81   \n",
       "PUNT_FILOSOFIA                                               48,41   \n",
       "PUNT_BIOLOGIA                                                45,64   \n",
       "PUNT_QUIMICA                                                 47,22   \n",
       "PUNT_FISICA                                                  38,57   \n",
       "PUNT_INGLES                                                  36,71   \n",
       "DESEMP_INGLES                                                   A-   \n",
       "NOMBRE_PROFUNDIZACION          PROFUNDIZACIÓN EN CIENCIAS SOCIALES   \n",
       "PUNT_PROFUNDIZACION                                           5,31   \n",
       "DESEMP_PROFUNDIZACION                                            I   \n",
       "NOMBRE_INTERDISCIPLINAR                             MEDIO AMBIENTE   \n",
       "PUNT_INTERDISCIPLINAR                                        52,46   \n",
       "ESTU_PUESTO                                                    474   \n",
       "\n",
       "                                                          1  \\\n",
       "ESTU_CONSECUTIVO                         SABER1120072000002   \n",
       "PERIODO                                               20072   \n",
       "ESTU_TIPO_DOCUMENTO                                       T   \n",
       "ESTU_PAIS_RESIDE                                         CO   \n",
       "ESTU_GENERO                                               M   \n",
       "ESTU_NACIMIENTO_DIA                                      13   \n",
       "ESTU_NACIMIENTO_MES                                       6   \n",
       "ESTU_NACIMIENTO_ANNO                                   1991   \n",
       "ESTU_EDAD                                                16   \n",
       "ESTU_LIMITA_BAJAVISION                                  NaN   \n",
       "ESTU_LIMITA_SORDOCEGUERA                                NaN   \n",
       "ESTU_LIMITA_COGNITIVA                                   NaN   \n",
       "ESTU_LIMITA_INVIDENTE                                   NaN   \n",
       "ESTU_LIMITA_MOTRIZ                                      NaN   \n",
       "ESTU_LIMITA_SORDOINTERPRETE                             NaN   \n",
       "ESTU_LIMITA_SORDONOINTERPRETE                           NaN   \n",
       "ESTU_COD_RESIDE_MCPIO                                  5615   \n",
       "ESTU_RESIDE_MCPIO                                  RIONEGRO   \n",
       "ESTU_RESIDE_DEPTO                                 ANTIOQUIA   \n",
       "ESTU_ZONA_RESIDE                                         10   \n",
       "ESTU_AREA_RESIDE                                        NaN   \n",
       "ESTU_COD_MCPIO_PRESENTACION                            5615   \n",
       "ESTU_MCPIO_PRESENTACION                            RIONEGRO   \n",
       "ESTU_DEPTO_PRESENTACION                           ANTIOQUIA   \n",
       "ESTU_EXAM_NOMBREEXAMEN              EXAMEN DE ESTADO 2007-2   \n",
       "IND_ESTUDIO_BACHILLERATO                                  1   \n",
       "IND_ANNO_TERMINO_BACHILLERATO                          2007   \n",
       "IND_TERMINO_BACHILLERATO                                NaN   \n",
       "IND_COD_ICFES_TERMINO                                101964   \n",
       "COLE_COD_ICFES                                       101964   \n",
       "...                                                     ...   \n",
       "FAMI_COMPUTADOR                                         NaN   \n",
       "FAMI_INGRESO_FMILIAR_MENSUAL                            NaN   \n",
       "ESTU_TRABAJA                                            NaN   \n",
       "ESTU_HORAS_TRABAJA                                      NaN   \n",
       "COLE_VALOR_PENSION                                        4   \n",
       "ESTU_CARRDESEADA_TIPO                                   NaN   \n",
       "ESTU_CARRDESEADA_NUCLEO                                 NaN   \n",
       "ESTU_IES_COD_DESEADA                                   9103   \n",
       "ESTU_IES_DESEADA_NOMBRE         ESCUELA MILITAR DE AVIACION   \n",
       "ESTU_IES_COD_MPIO_DESEADA                             76001   \n",
       "ESTU_IES_MPIO_DESEADA                                  CALI   \n",
       "ESTU_IES_DEPT_DESEADA                                 VALLE   \n",
       "ESTU_RAZONINSTITUTO                                       3   \n",
       "ESTU_CARRDESEADA_COD                                   8188   \n",
       "ESTU_CARRDESEADA_RAZON                                    2   \n",
       "PUNT_LENGUAJE                                         53,22   \n",
       "PUNT_MATEMATICAS                                       53,2   \n",
       "PUNT_C_SOCIALES                                       50,42   \n",
       "PUNT_FILOSOFIA                                        43,59   \n",
       "PUNT_BIOLOGIA                                         58,09   \n",
       "PUNT_QUIMICA                                          50,66   \n",
       "PUNT_FISICA                                           51,73   \n",
       "PUNT_INGLES                                           69,48   \n",
       "DESEMP_INGLES                                            B1   \n",
       "NOMBRE_PROFUNDIZACION          PROFUNDIZACIÓN EN MATEMÁTICA   \n",
       "PUNT_PROFUNDIZACION                                    4,83   \n",
       "DESEMP_PROFUNDIZACION                                     I   \n",
       "NOMBRE_INTERDISCIPLINAR                VIOLENCIA Y SOCIEDAD   \n",
       "PUNT_INTERDISCIPLINAR                                 42,54   \n",
       "ESTU_PUESTO                                              53   \n",
       "\n",
       "                                                                2  \n",
       "ESTU_CONSECUTIVO                               SABER1120072000003  \n",
       "PERIODO                                                     20072  \n",
       "ESTU_TIPO_DOCUMENTO                                             T  \n",
       "ESTU_PAIS_RESIDE                                               CO  \n",
       "ESTU_GENERO                                                     F  \n",
       "ESTU_NACIMIENTO_DIA                                            23  \n",
       "ESTU_NACIMIENTO_MES                                            10  \n",
       "ESTU_NACIMIENTO_ANNO                                         1990  \n",
       "ESTU_EDAD                                                      16  \n",
       "ESTU_LIMITA_BAJAVISION                                        NaN  \n",
       "ESTU_LIMITA_SORDOCEGUERA                                      NaN  \n",
       "ESTU_LIMITA_COGNITIVA                                         NaN  \n",
       "ESTU_LIMITA_INVIDENTE                                         NaN  \n",
       "ESTU_LIMITA_MOTRIZ                                            NaN  \n",
       "ESTU_LIMITA_SORDOINTERPRETE                                   NaN  \n",
       "ESTU_LIMITA_SORDONOINTERPRETE                                 NaN  \n",
       "ESTU_COD_RESIDE_MCPIO                                       66001  \n",
       "ESTU_RESIDE_MCPIO                                         PEREIRA  \n",
       "ESTU_RESIDE_DEPTO                                       RISARALDA  \n",
       "ESTU_ZONA_RESIDE                                               10  \n",
       "ESTU_AREA_RESIDE                                              NaN  \n",
       "ESTU_COD_MCPIO_PRESENTACION                                 66001  \n",
       "ESTU_MCPIO_PRESENTACION                                   PEREIRA  \n",
       "ESTU_DEPTO_PRESENTACION                                 RISARALDA  \n",
       "ESTU_EXAM_NOMBREEXAMEN                    EXAMEN DE ESTADO 2007-2  \n",
       "IND_ESTUDIO_BACHILLERATO                                        1  \n",
       "IND_ANNO_TERMINO_BACHILLERATO                                2007  \n",
       "IND_TERMINO_BACHILLERATO                                      NaN  \n",
       "IND_COD_ICFES_TERMINO                                       13318  \n",
       "COLE_COD_ICFES                                              13318  \n",
       "...                                                           ...  \n",
       "FAMI_COMPUTADOR                                               NaN  \n",
       "FAMI_INGRESO_FMILIAR_MENSUAL                                  NaN  \n",
       "ESTU_TRABAJA                                                  NaN  \n",
       "ESTU_HORAS_TRABAJA                                            NaN  \n",
       "COLE_VALOR_PENSION                                              0  \n",
       "ESTU_CARRDESEADA_TIPO                                         NaN  \n",
       "ESTU_CARRDESEADA_NUCLEO                                       NaN  \n",
       "ESTU_IES_COD_DESEADA                                         1111  \n",
       "ESTU_IES_DESEADA_NOMBRE        UNIVERSIDAD TECNOLOGICA DE PEREIRA  \n",
       "ESTU_IES_COD_MPIO_DESEADA                                   66001  \n",
       "ESTU_IES_MPIO_DESEADA                                     PEREIRA  \n",
       "ESTU_IES_DEPT_DESEADA                                   RISARALDA  \n",
       "ESTU_RAZONINSTITUTO                                             3  \n",
       "ESTU_CARRDESEADA_COD                                        14477  \n",
       "ESTU_CARRDESEADA_RAZON                                          1  \n",
       "PUNT_LENGUAJE                                               45,01  \n",
       "PUNT_MATEMATICAS                                            44,48  \n",
       "PUNT_C_SOCIALES                                             44,96  \n",
       "PUNT_FILOSOFIA                                              35,44  \n",
       "PUNT_BIOLOGIA                                               53,95  \n",
       "PUNT_QUIMICA                                                47,22  \n",
       "PUNT_FISICA                                                 41,52  \n",
       "PUNT_INGLES                                                 45,98  \n",
       "DESEMP_INGLES                                                  A1  \n",
       "NOMBRE_PROFUNDIZACION                  PROFUNDIZACIÓN EN BIOLOGÍA  \n",
       "PUNT_PROFUNDIZACION                                          5,88  \n",
       "DESEMP_PROFUNDIZACION                                           I  \n",
       "NOMBRE_INTERDISCIPLINAR                            MEDIO AMBIENTE  \n",
       "PUNT_INTERDISCIPLINAR                                       60,63  \n",
       "ESTU_PUESTO                                                   378  \n",
       "\n",
       "[84 rows x 3 columns]"
      ]
     },
     "execution_count": 11,
     "metadata": {},
     "output_type": "execute_result"
    }
   ],
   "source": [
    "data_2007_2.head(3).T"
   ]
  },
  {
   "cell_type": "code",
   "execution_count": 5,
   "metadata": {
    "collapsed": true
   },
   "outputs": [],
   "source": [
    "data_2007_2 = data_2007_2.drop(['ESTU_CONSECUTIVO', 'PERIODO', 'ESTU_TIPO_DOCUMENTO', 'ESTU_COD_RESIDE_MCPIO',\n",
    "                               'ESTU_COD_MCPIO_PRESENTACION', 'COLE_NOMBRE_SEDE', 'ESTU_IES_DESEADA_NOMBRE',\n",
    "                               'ESTU_IES_COD_MPIO_DESEADA'], axis = 1)"
   ]
  },
  {
   "cell_type": "code",
   "execution_count": null,
   "metadata": {
    "collapsed": true
   },
   "outputs": [],
   "source": [
    "c = 'ESTU_PAIS_RESIDE'\n",
    "print(data_2006[c].value_counts().sort_index().index)\n",
    "print(data_2006[c].value_counts().sort_index())\n",
    "print(missing_data(data_2006[c]))"
   ]
  },
  {
   "cell_type": "code",
   "execution_count": null,
   "metadata": {
    "collapsed": true
   },
   "outputs": [],
   "source": [
    "c = 'ESTU_GENERO'\n",
    "print(data_2006[c].value_counts().sort_index().index)\n",
    "print(data_2006[c].value_counts().sort_index())\n",
    "print(missing_data(data_2006[c]))"
   ]
  },
  {
   "cell_type": "code",
   "execution_count": null,
   "metadata": {
    "collapsed": true
   },
   "outputs": [],
   "source": [
    "c = 'ESTU_NACIMIENTO_DIA'\n",
    "print(data_2006[c].value_counts().sort_index().index)\n",
    "print(data_2006[c].value_counts().sort_index())\n",
    "print(missing_data(data_2006[c]))"
   ]
  },
  {
   "cell_type": "code",
   "execution_count": null,
   "metadata": {
    "collapsed": true
   },
   "outputs": [],
   "source": [
    "c = 'ESTU_NACIMIENTO_MES'\n",
    "print(data_2006[c].value_counts().sort_index().index)\n",
    "print(data_2006[c].value_counts().sort_index())\n",
    "print(missing_data(data_2006[c]))"
   ]
  },
  {
   "cell_type": "code",
   "execution_count": null,
   "metadata": {
    "collapsed": true
   },
   "outputs": [],
   "source": [
    "c = 'ESTU_NACIMIENTO_ANNO'\n",
    "print(data_2006[c].value_counts().sort_index().index)\n",
    "print(data_2006[c].value_counts().sort_index())\n",
    "print(missing_data(data_2006[c]))"
   ]
  },
  {
   "cell_type": "code",
   "execution_count": null,
   "metadata": {
    "collapsed": true
   },
   "outputs": [],
   "source": [
    "c = 'ESTU_EDAD'\n",
    "print(data_2006[c].value_counts().sort_index().index)\n",
    "print(data_2006[c].value_counts().sort_index())\n",
    "print(missing_data(data_2006[c]))"
   ]
  },
  {
   "cell_type": "code",
   "execution_count": null,
   "metadata": {
    "collapsed": true
   },
   "outputs": [],
   "source": [
    "c = 'ESTU_LIMITA_BAJAVISION'\n",
    "print(data_2006[c].value_counts().sort_index().index)\n",
    "print(data_2006[c].value_counts().sort_index())\n",
    "print(missing_data(data_2006[c]))"
   ]
  },
  {
   "cell_type": "code",
   "execution_count": null,
   "metadata": {
    "collapsed": true
   },
   "outputs": [],
   "source": [
    "c = 'ESTU_LIMITA_SORDOCEGUERA'\n",
    "print(data_2006[c].value_counts().sort_index().index)\n",
    "print(data_2006[c].value_counts().sort_index())\n",
    "print(missing_data(data_2006[c]))"
   ]
  },
  {
   "cell_type": "code",
   "execution_count": null,
   "metadata": {
    "collapsed": true
   },
   "outputs": [],
   "source": [
    "c = 'ESTU_LIMITA_COGNITIVA'\n",
    "print(data_2006[c].value_counts().sort_index().index)\n",
    "print(data_2006[c].value_counts().sort_index())\n",
    "print(missing_data(data_2006[c]))"
   ]
  },
  {
   "cell_type": "code",
   "execution_count": null,
   "metadata": {
    "collapsed": true
   },
   "outputs": [],
   "source": [
    "c = 'ESTU_LIMITA_INVIDENTE'\n",
    "print(data_2006[c].value_counts().sort_index().index)\n",
    "print(data_2006[c].value_counts().sort_index())\n",
    "print(missing_data(data_2006[c]))"
   ]
  },
  {
   "cell_type": "code",
   "execution_count": null,
   "metadata": {
    "collapsed": true
   },
   "outputs": [],
   "source": [
    "c = 'ESTU_LIMITA_MOTRIZ'\n",
    "print(data_2006[c].value_counts().sort_index().index)\n",
    "print(data_2006[c].value_counts().sort_index())\n",
    "print(missing_data(data_2006[c]))"
   ]
  },
  {
   "cell_type": "code",
   "execution_count": null,
   "metadata": {
    "collapsed": true
   },
   "outputs": [],
   "source": [
    "c = 'ESTU_LIMITA_SORDOINTERPRETE'\n",
    "print(data_2006[c].value_counts().sort_index().index)\n",
    "print(data_2006[c].value_counts().sort_index())\n",
    "print(missing_data(data_2006[c]))"
   ]
  },
  {
   "cell_type": "code",
   "execution_count": null,
   "metadata": {
    "collapsed": true
   },
   "outputs": [],
   "source": [
    "c = 'ESTU_LIMITA_SORDONOINTERPRETE'\n",
    "print(data_2006[c].value_counts().sort_index().index)\n",
    "print(data_2006[c].value_counts().sort_index())\n",
    "print(missing_data(data_2006[c]))"
   ]
  },
  {
   "cell_type": "code",
   "execution_count": null,
   "metadata": {
    "collapsed": true
   },
   "outputs": [],
   "source": [
    "c = 'ESTU_RESIDE_MCPIO'\n",
    "print(data_2006[c].value_counts().sort_index().index)\n",
    "print(data_2006[c].value_counts().sort_index())\n",
    "print(missing_data(data_2006[c]))"
   ]
  },
  {
   "cell_type": "code",
   "execution_count": null,
   "metadata": {
    "collapsed": true
   },
   "outputs": [],
   "source": [
    "c = 'ESTU_RESIDE_DEPTO'\n",
    "print(data_2006[c].value_counts().sort_index().index)\n",
    "print(data_2006[c].value_counts().sort_index())\n",
    "print(missing_data(data_2006[c]))"
   ]
  },
  {
   "cell_type": "code",
   "execution_count": null,
   "metadata": {
    "collapsed": true
   },
   "outputs": [],
   "source": [
    "c = 'ESTU_ZONA_RESIDE'\n",
    "print(data_2006[c].value_counts().sort_index().index)\n",
    "print(data_2006[c].value_counts().sort_index())\n",
    "print(missing_data(data_2006[c]))"
   ]
  },
  {
   "cell_type": "code",
   "execution_count": null,
   "metadata": {
    "collapsed": true
   },
   "outputs": [],
   "source": [
    "c = 'ESTU_AREA_RESIDE'\n",
    "print(data_2006[c].value_counts().sort_index().index)\n",
    "print(data_2006[c].value_counts().sort_index())\n",
    "print(missing_data(data_2006[c]))"
   ]
  },
  {
   "cell_type": "code",
   "execution_count": null,
   "metadata": {
    "collapsed": true
   },
   "outputs": [],
   "source": [
    "c = 'ESTU_MCPIO_PRESENTACION'\n",
    "print(data_2006[c].value_counts().sort_index().index)\n",
    "print(data_2006[c].value_counts().sort_index())\n",
    "print(missing_data(data_2006[c]))"
   ]
  },
  {
   "cell_type": "code",
   "execution_count": null,
   "metadata": {
    "collapsed": true
   },
   "outputs": [],
   "source": [
    "c = 'ESTU_DEPTO_PRESENTACION'\n",
    "print(data_2006[c].value_counts().sort_index().index)\n",
    "print(data_2006[c].value_counts().sort_index())\n",
    "print(missing_data(data_2006[c]))"
   ]
  },
  {
   "cell_type": "code",
   "execution_count": null,
   "metadata": {
    "collapsed": true
   },
   "outputs": [],
   "source": [
    "c = 'ESTU_EXAM_NOMBREEXAMEN'\n",
    "print(data_2006[c].value_counts().sort_index().index)\n",
    "print(data_2006[c].value_counts().sort_index())\n",
    "print(missing_data(data_2006[c]))"
   ]
  },
  {
   "cell_type": "code",
   "execution_count": null,
   "metadata": {
    "collapsed": true
   },
   "outputs": [],
   "source": [
    "c = 'IND_ESTUDIO_BACHILLERATO'\n",
    "print(data_2006[c].value_counts().sort_index().index)\n",
    "print(data_2006[c].value_counts().sort_index())\n",
    "print(missing_data(data_2006[c]))"
   ]
  },
  {
   "cell_type": "code",
   "execution_count": null,
   "metadata": {
    "collapsed": true
   },
   "outputs": [],
   "source": [
    "c = 'IND_ANNO_TERMINO_BACHILLERATO'\n",
    "print(data_2006[c].value_counts().sort_index().index)\n",
    "print(data_2006[c].value_counts().sort_index())\n",
    "print(missing_data(data_2006[c]))"
   ]
  },
  {
   "cell_type": "code",
   "execution_count": null,
   "metadata": {
    "collapsed": true
   },
   "outputs": [],
   "source": [
    "c = 'IND_TERMINO_BACHILLERATO'\n",
    "print(data_2006[c].value_counts().sort_index().index)\n",
    "print(data_2006[c].value_counts().sort_index())\n",
    "print(missing_data(data_2006[c]))"
   ]
  },
  {
   "cell_type": "code",
   "execution_count": null,
   "metadata": {
    "collapsed": true
   },
   "outputs": [],
   "source": [
    "c = 'IND_COD_ICFES_TERMINO'\n",
    "print(data_2006[c].value_counts().sort_index().index)\n",
    "print(data_2006[c].value_counts().sort_index())\n",
    "print(missing_data(data_2006[c]))"
   ]
  },
  {
   "cell_type": "code",
   "execution_count": null,
   "metadata": {
    "collapsed": true
   },
   "outputs": [],
   "source": [
    "c = 'COLE_COD_ICFES'\n",
    "print(data_2006[c].value_counts().sort_index().index)\n",
    "print(data_2006[c].value_counts().sort_index())\n",
    "print(missing_data(data_2006[c]))"
   ]
  },
  {
   "cell_type": "code",
   "execution_count": null,
   "metadata": {
    "collapsed": true
   },
   "outputs": [],
   "source": [
    "c = 'COLE_COD_DANE_INSTITUCION'\n",
    "print(data_2006[c].value_counts().sort_index().index)\n",
    "print(data_2006[c].value_counts().sort_index())\n",
    "print(missing_data(data_2006[c]))"
   ]
  },
  {
   "cell_type": "code",
   "execution_count": null,
   "metadata": {
    "collapsed": true
   },
   "outputs": [],
   "source": [
    "c = 'COLE_CALENDARIO'\n",
    "print(data_2006[c].value_counts().sort_index().index)\n",
    "print(data_2006[c].value_counts().sort_index())\n",
    "print(missing_data(data_2006[c]))"
   ]
  },
  {
   "cell_type": "code",
   "execution_count": null,
   "metadata": {
    "collapsed": true
   },
   "outputs": [],
   "source": [
    "c = 'COLE_GENERO'\n",
    "print(data_2006[c].value_counts().sort_index().index)\n",
    "print(data_2006[c].value_counts().sort_index())\n",
    "print(missing_data(data_2006[c]))"
   ]
  },
  {
   "cell_type": "code",
   "execution_count": null,
   "metadata": {
    "collapsed": true
   },
   "outputs": [],
   "source": [
    "c = 'COLE_NATURALEZA'\n",
    "print(data_2006[c].value_counts().sort_index().index)\n",
    "print(data_2006[c].value_counts().sort_index())\n",
    "print(missing_data(data_2006[c]))"
   ]
  },
  {
   "cell_type": "code",
   "execution_count": null,
   "metadata": {
    "collapsed": true
   },
   "outputs": [],
   "source": [
    "c = 'COLE_BILINGUE'\n",
    "print(data_2006[c].value_counts().sort_index().index)\n",
    "print(data_2006[c].value_counts().sort_index())\n",
    "print(missing_data(data_2006[c]))"
   ]
  },
  {
   "cell_type": "code",
   "execution_count": null,
   "metadata": {
    "collapsed": true
   },
   "outputs": [],
   "source": [
    "c = 'COLE_JORNADA'\n",
    "print(data_2006[c].value_counts().sort_index().index)\n",
    "print(data_2006[c].value_counts().sort_index())\n",
    "print(missing_data(data_2006[c]))"
   ]
  },
  {
   "cell_type": "code",
   "execution_count": null,
   "metadata": {
    "collapsed": true
   },
   "outputs": [],
   "source": [
    "c = 'COLE_CARACTER'\n",
    "print(data_2006[c].value_counts().sort_index().index)\n",
    "print(data_2006[c].value_counts().sort_index())\n",
    "print(missing_data(data_2006[c]))"
   ]
  },
  {
   "cell_type": "code",
   "execution_count": null,
   "metadata": {
    "collapsed": true
   },
   "outputs": [],
   "source": [
    "c = 'ESTU_ETNIA'\n",
    "print(data_2006[c].value_counts().sort_index().index)\n",
    "print(data_2006[c].value_counts().sort_index())\n",
    "print(missing_data(data_2006[c]))"
   ]
  },
  {
   "cell_type": "code",
   "execution_count": null,
   "metadata": {
    "collapsed": true
   },
   "outputs": [],
   "source": [
    "c = 'FAMI_LEE_ESCRIBE_PADRE'\n",
    "print(data_2006[c].value_counts().sort_index().index)\n",
    "print(data_2006[c].value_counts().sort_index())\n",
    "print(missing_data(data_2006[c]))"
   ]
  },
  {
   "cell_type": "code",
   "execution_count": null,
   "metadata": {
    "collapsed": true
   },
   "outputs": [],
   "source": [
    "c = 'FAMI_LEE_ESCRIBE_MADRE'\n",
    "print(data_2006[c].value_counts().sort_index().index)\n",
    "print(data_2006[c].value_counts().sort_index())\n",
    "print(missing_data(data_2006[c]))"
   ]
  },
  {
   "cell_type": "code",
   "execution_count": null,
   "metadata": {
    "collapsed": true
   },
   "outputs": [],
   "source": [
    "c = 'FAMI_EDUCA_PADRE'\n",
    "print(data_2006[c].value_counts().sort_index().index)\n",
    "print(data_2006[c].value_counts().sort_index())\n",
    "print(missing_data(data_2006[c]))"
   ]
  },
  {
   "cell_type": "code",
   "execution_count": null,
   "metadata": {
    "collapsed": true
   },
   "outputs": [],
   "source": [
    "c = 'FAMI_EDUCA_MADRE'\n",
    "print(data_2006[c].value_counts().sort_index().index)\n",
    "print(data_2006[c].value_counts().sort_index())\n",
    "print(missing_data(data_2006[c]))"
   ]
  },
  {
   "cell_type": "code",
   "execution_count": null,
   "metadata": {
    "collapsed": true
   },
   "outputs": [],
   "source": [
    "c = 'FAMI_OCUPA_PADRE'\n",
    "print(data_2006[c].value_counts().sort_index().index)\n",
    "print(data_2006[c].value_counts().sort_index())\n",
    "print(missing_data(data_2006[c]))"
   ]
  },
  {
   "cell_type": "code",
   "execution_count": null,
   "metadata": {
    "collapsed": true
   },
   "outputs": [],
   "source": [
    "c = 'FAMI_OCUPA_MADRE'\n",
    "print(data_2006[c].value_counts().sort_index().index)\n",
    "print(data_2006[c].value_counts().sort_index())\n",
    "print(missing_data(data_2006[c]))"
   ]
  },
  {
   "cell_type": "code",
   "execution_count": null,
   "metadata": {
    "collapsed": true
   },
   "outputs": [],
   "source": [
    "c = 'FAMI_NUM_HERMANOS'\n",
    "print(data_2006[c].value_counts().sort_index().index)\n",
    "print(data_2006[c].value_counts().sort_index())\n",
    "print(missing_data(data_2006[c]))"
   ]
  },
  {
   "cell_type": "code",
   "execution_count": null,
   "metadata": {
    "collapsed": true
   },
   "outputs": [],
   "source": [
    "c = 'FAMI_EDUCA_HERMANO'\n",
    "print(data_2006[c].value_counts().sort_index().index)\n",
    "print(data_2006[c].value_counts().sort_index())\n",
    "print(missing_data(data_2006[c]))"
   ]
  },
  {
   "cell_type": "code",
   "execution_count": null,
   "metadata": {
    "collapsed": true
   },
   "outputs": [],
   "source": [
    "c = 'FAMI_HERMANOS_ESTUDIAN'\n",
    "print(data_2006[c].value_counts().sort_index().index)\n",
    "print(data_2006[c].value_counts().sort_index())\n",
    "print(missing_data(data_2006[c]))"
   ]
  },
  {
   "cell_type": "code",
   "execution_count": null,
   "metadata": {
    "collapsed": true
   },
   "outputs": [],
   "source": [
    "c = 'FAMI_ESTRATO_VIVIENDA'\n",
    "print(data_2006[c].value_counts().sort_index().index)\n",
    "print(data_2006[c].value_counts().sort_index())\n",
    "print(missing_data(data_2006[c]))"
   ]
  },
  {
   "cell_type": "code",
   "execution_count": null,
   "metadata": {
    "collapsed": true
   },
   "outputs": [],
   "source": [
    "c = 'FAMI_NIVEL_SISBEN'\n",
    "print(data_2006[c].value_counts().sort_index().index)\n",
    "print(data_2006[c].value_counts().sort_index())\n",
    "print(missing_data(data_2006[c]))"
   ]
  },
  {
   "cell_type": "code",
   "execution_count": null,
   "metadata": {
    "collapsed": true
   },
   "outputs": [],
   "source": [
    "c = 'FAMI_PERSONAS_HOGAR'\n",
    "print(data_2006[c].value_counts().sort_index().index)\n",
    "print(data_2006[c].value_counts().sort_index())\n",
    "print(missing_data(data_2006[c]))"
   ]
  },
  {
   "cell_type": "code",
   "execution_count": null,
   "metadata": {
    "collapsed": true
   },
   "outputs": [],
   "source": [
    "c = 'FAMI_PISOSHOGAR'\n",
    "print(data_2006[c].value_counts().sort_index().index)\n",
    "print(data_2006[c].value_counts().sort_index())\n",
    "print(missing_data(data_2006[c]))"
   ]
  },
  {
   "cell_type": "code",
   "execution_count": null,
   "metadata": {
    "collapsed": true
   },
   "outputs": [],
   "source": [
    "c = 'FAMI_CUARTOS_HOGAR'\n",
    "print(data_2006[c].value_counts().sort_index().index)\n",
    "print(data_2006[c].value_counts().sort_index())\n",
    "print(missing_data(data_2006[c]))"
   ]
  },
  {
   "cell_type": "code",
   "execution_count": null,
   "metadata": {
    "collapsed": true
   },
   "outputs": [],
   "source": [
    "c = 'FAMI_DORMITORIOS_HOGAR'\n",
    "print(data_2006[c].value_counts().sort_index().index)\n",
    "print(data_2006[c].value_counts().sort_index())\n",
    "print(missing_data(data_2006[c]))"
   ]
  },
  {
   "cell_type": "code",
   "execution_count": null,
   "metadata": {
    "collapsed": true
   },
   "outputs": [],
   "source": [
    "c = 'FAMI_COMPUTADOR'\n",
    "print(data_2006[c].value_counts().sort_index().index)\n",
    "print(data_2006[c].value_counts().sort_index())\n",
    "print(missing_data(data_2006[c]))"
   ]
  },
  {
   "cell_type": "code",
   "execution_count": null,
   "metadata": {
    "collapsed": true
   },
   "outputs": [],
   "source": [
    "c = 'FAMI_INGRESO_FMILIAR_MENSUAL'\n",
    "print(data_2006[c].value_counts().sort_index().index)\n",
    "print(data_2006[c].value_counts().sort_index())\n",
    "print(missing_data(data_2006[c]))"
   ]
  },
  {
   "cell_type": "code",
   "execution_count": null,
   "metadata": {
    "collapsed": true
   },
   "outputs": [],
   "source": [
    "c = 'ESTU_TRABAJA'\n",
    "print(data_2006[c].value_counts().sort_index().index)\n",
    "print(data_2006[c].value_counts().sort_index())\n",
    "print(missing_data(data_2006[c]))"
   ]
  },
  {
   "cell_type": "code",
   "execution_count": null,
   "metadata": {
    "collapsed": true
   },
   "outputs": [],
   "source": [
    "c = 'ESTU_HORAS_TRABAJA'\n",
    "print(data_2006[c].value_counts().sort_index().index)\n",
    "print(data_2006[c].value_counts().sort_index())\n",
    "print(missing_data(data_2006[c]))"
   ]
  },
  {
   "cell_type": "code",
   "execution_count": null,
   "metadata": {
    "collapsed": true
   },
   "outputs": [],
   "source": [
    "c = 'COLE_VALOR_PENSION'\n",
    "print(data_2006[c].value_counts().sort_index().index)\n",
    "print(data_2006[c].value_counts().sort_index())\n",
    "print(missing_data(data_2006[c]))"
   ]
  },
  {
   "cell_type": "code",
   "execution_count": null,
   "metadata": {
    "collapsed": true
   },
   "outputs": [],
   "source": [
    "c = 'ESTU_CARRDESEADA_TIPO'\n",
    "print(data_2006[c].value_counts().sort_index().index)\n",
    "print(data_2006[c].value_counts().sort_index())\n",
    "print(missing_data(data_2006[c]))"
   ]
  },
  {
   "cell_type": "code",
   "execution_count": null,
   "metadata": {
    "collapsed": true
   },
   "outputs": [],
   "source": [
    "c = 'ESTU_CARRDESEADA_NUCLEO'\n",
    "print(data_2006[c].value_counts().sort_index().index)\n",
    "print(data_2006[c].value_counts().sort_index())\n",
    "print(missing_data(data_2006[c]))"
   ]
  },
  {
   "cell_type": "code",
   "execution_count": null,
   "metadata": {
    "collapsed": true
   },
   "outputs": [],
   "source": [
    "c = 'ESTU_IES_COD_DESEADA'\n",
    "print(data_2006[c].value_counts().sort_index().index)\n",
    "print(data_2006[c].value_counts().sort_index())\n",
    "print(missing_data(data_2006[c]))"
   ]
  },
  {
   "cell_type": "code",
   "execution_count": null,
   "metadata": {
    "collapsed": true
   },
   "outputs": [],
   "source": [
    "c = 'ESTU_IES_MPIO_DESEADA'\n",
    "print(data_2006[c].value_counts().sort_index().index)\n",
    "print(data_2006[c].value_counts().sort_index())\n",
    "print(missing_data(data_2006[c]))"
   ]
  },
  {
   "cell_type": "code",
   "execution_count": null,
   "metadata": {
    "collapsed": true
   },
   "outputs": [],
   "source": [
    "c = 'ESTU_IES_DEPT_DESEADA'\n",
    "print(data_2006[c].value_counts().sort_index().index)\n",
    "print(data_2006[c].value_counts().sort_index())\n",
    "print(missing_data(data_2006[c]))"
   ]
  },
  {
   "cell_type": "code",
   "execution_count": null,
   "metadata": {
    "collapsed": true
   },
   "outputs": [],
   "source": [
    "c = 'ESTU_RAZONINSTITUTO'\n",
    "print(data_2006[c].value_counts().sort_index().index)\n",
    "print(data_2006[c].value_counts().sort_index())\n",
    "print(missing_data(data_2006[c]))"
   ]
  },
  {
   "cell_type": "code",
   "execution_count": null,
   "metadata": {
    "collapsed": true
   },
   "outputs": [],
   "source": [
    "c = 'ESTU_CARRDESEADA_COD'\n",
    "print(data_2006[c].value_counts().sort_index().index)\n",
    "print(data_2006[c].value_counts().sort_index())\n",
    "print(missing_data(data_2006[c]))"
   ]
  },
  {
   "cell_type": "code",
   "execution_count": null,
   "metadata": {
    "collapsed": true
   },
   "outputs": [],
   "source": [
    "c = 'ESTU_CARRDESEADA_RAZON'\n",
    "print(data_2006[c].value_counts().sort_index().index)\n",
    "print(data_2006[c].value_counts().sort_index())\n",
    "print(missing_data(data_2006[c]))"
   ]
  },
  {
   "cell_type": "markdown",
   "metadata": {},
   "source": [
    "## TARGETS"
   ]
  },
  {
   "cell_type": "code",
   "execution_count": null,
   "metadata": {
    "collapsed": true
   },
   "outputs": [],
   "source": [
    "c = 'PUNT_LENGUAJE'\n",
    "print(data_2006[c].value_counts().sort_index().index)\n",
    "print(data_2006[c].value_counts().sort_index())\n",
    "print(missing_data(data_2006[c]))"
   ]
  },
  {
   "cell_type": "code",
   "execution_count": null,
   "metadata": {
    "collapsed": true
   },
   "outputs": [],
   "source": [
    "c = 'PUNT_MATEMATICAS'\n",
    "print(data_2006[c].value_counts().sort_index().index)\n",
    "print(data_2006[c].value_counts().sort_index())\n",
    "print(missing_data(data_2006[c]))"
   ]
  },
  {
   "cell_type": "code",
   "execution_count": null,
   "metadata": {
    "collapsed": true
   },
   "outputs": [],
   "source": [
    "c = 'PUNT_C_SOCIALES'\n",
    "print(data_2006[c].value_counts().sort_index().index)\n",
    "print(data_2006[c].value_counts().sort_index())\n",
    "print(missing_data(data_2006[c]))"
   ]
  },
  {
   "cell_type": "code",
   "execution_count": null,
   "metadata": {
    "collapsed": true
   },
   "outputs": [],
   "source": [
    "c = 'PUNT_FILOSOFIA'\n",
    "print(data_2006[c].value_counts().sort_index().index)\n",
    "print(data_2006[c].value_counts().sort_index())\n",
    "print(missing_data(data_2006[c]))"
   ]
  },
  {
   "cell_type": "code",
   "execution_count": null,
   "metadata": {
    "collapsed": true
   },
   "outputs": [],
   "source": [
    "c = 'PUNT_BIOLOGIA'\n",
    "print(data_2006[c].value_counts().sort_index().index)\n",
    "print(data_2006[c].value_counts().sort_index())\n",
    "print(missing_data(data_2006[c]))"
   ]
  },
  {
   "cell_type": "code",
   "execution_count": null,
   "metadata": {
    "collapsed": true
   },
   "outputs": [],
   "source": [
    "c = 'PUNT_QUIMICA'\n",
    "print(data_2006[c].value_counts().sort_index().index)\n",
    "print(data_2006[c].value_counts().sort_index())\n",
    "print(missing_data(data_2006[c]))"
   ]
  },
  {
   "cell_type": "code",
   "execution_count": null,
   "metadata": {
    "collapsed": true
   },
   "outputs": [],
   "source": [
    "c = 'PUNT_FISICA'\n",
    "print(data_2006[c].value_counts().sort_index().index)\n",
    "print(data_2006[c].value_counts().sort_index())\n",
    "print(missing_data(data_2006[c]))"
   ]
  },
  {
   "cell_type": "code",
   "execution_count": null,
   "metadata": {
    "collapsed": true
   },
   "outputs": [],
   "source": [
    "c = 'PUNT_INGLES'\n",
    "print(data_2006[c].value_counts().sort_index().index)\n",
    "print(data_2006[c].value_counts().sort_index())\n",
    "print(missing_data(data_2006[c]))"
   ]
  },
  {
   "cell_type": "code",
   "execution_count": null,
   "metadata": {
    "collapsed": true
   },
   "outputs": [],
   "source": [
    "c = 'DESEMP_INGLES'\n",
    "print(data_2006[c].value_counts().sort_index().index)\n",
    "print(data_2006[c].value_counts().sort_index())\n",
    "print(missing_data(data_2006[c]))"
   ]
  },
  {
   "cell_type": "code",
   "execution_count": null,
   "metadata": {
    "collapsed": true
   },
   "outputs": [],
   "source": [
    "c = 'NOMBRE_PROFUNDIZACION'\n",
    "print(data_2006[c].value_counts().sort_index().index)\n",
    "print(data_2006[c].value_counts().sort_index())\n",
    "print(missing_data(data_2006[c]))"
   ]
  },
  {
   "cell_type": "code",
   "execution_count": null,
   "metadata": {
    "collapsed": true
   },
   "outputs": [],
   "source": [
    "c = 'PUNT_PROFUNDIZACION'\n",
    "print(data_2006[c].value_counts().sort_index().index)\n",
    "print(data_2006[c].value_counts().sort_index())\n",
    "print(missing_data(data_2006[c]))"
   ]
  },
  {
   "cell_type": "code",
   "execution_count": null,
   "metadata": {
    "collapsed": true
   },
   "outputs": [],
   "source": [
    "c = 'DESEMP_PROFUNDIZACION'\n",
    "print(data_2006[c].value_counts().sort_index().index)\n",
    "print(data_2006[c].value_counts().sort_index())\n",
    "print(missing_data(data_2006[c]))"
   ]
  },
  {
   "cell_type": "code",
   "execution_count": null,
   "metadata": {
    "collapsed": true
   },
   "outputs": [],
   "source": [
    "c = 'NOMBRE_INTERDISCIPLINAR'\n",
    "print(data_2006[c].value_counts().sort_index().index)\n",
    "print(data_2006[c].value_counts().sort_index())\n",
    "print(missing_data(data_2006[c]))"
   ]
  },
  {
   "cell_type": "code",
   "execution_count": null,
   "metadata": {
    "collapsed": true
   },
   "outputs": [],
   "source": [
    "c = 'PUNT_INTERDISCIPLINAR'\n",
    "print(data_2006[c].value_counts().sort_index().index)\n",
    "print(data_2006[c].value_counts().sort_index())\n",
    "print(missing_data(data_2006[c]))"
   ]
  },
  {
   "cell_type": "code",
   "execution_count": null,
   "metadata": {
    "collapsed": true
   },
   "outputs": [],
   "source": [
    "c = 'ESTU_PUESTO'\n",
    "print(data_2006[c].value_counts().sort_index().index)\n",
    "print(data_2006[c].value_counts().sort_index())\n",
    "print(missing_data(data_2006[c]))"
   ]
  },
  {
   "cell_type": "markdown",
   "metadata": {},
   "source": [
    "NOW i can Transform the Obtained Dataframes in csv files"
   ]
  },
  {
   "cell_type": "code",
   "execution_count": null,
   "metadata": {
    "collapsed": true
   },
   "outputs": [],
   "source": []
  }
 ],
 "metadata": {
  "kernelspec": {
   "display_name": "Python 3",
   "language": "python",
   "name": "python3"
  },
  "language_info": {
   "codemirror_mode": {
    "name": "ipython",
    "version": 3
   },
   "file_extension": ".py",
   "mimetype": "text/x-python",
   "name": "python",
   "nbconvert_exporter": "python",
   "pygments_lexer": "ipython3",
   "version": "3.4.2"
  }
 },
 "nbformat": 4,
 "nbformat_minor": 0
}
