{
 "cells": [
  {
   "cell_type": "code",
   "execution_count": 1,
   "metadata": {
    "collapsed": true
   },
   "outputs": [],
   "source": [
    "import pandas as pd\n",
    "import numpy as np\n",
    "%run -i ../tools/functions.py\n",
    "%run -i ../tools/label_encoder.py"
   ]
  },
  {
   "cell_type": "code",
   "execution_count": 2,
   "metadata": {
    "collapsed": false
   },
   "outputs": [
    {
     "name": "stderr",
     "output_type": "stream",
     "text": [
      "/usr/local/anaconda3/lib/python3.5/site-packages/IPython/core/interactiveshell.py:2723: DtypeWarning: Columns (3,5,8,9,13,14,16,17,19,20,21,23) have mixed types. Specify dtype option on import or set low_memory=False.\n",
      "  interactivity=interactivity, compiler=compiler, result=result)\n"
     ]
    }
   ],
   "source": [
    "data_2003 = pd.read_csv('../DatosFTPICFES/SABER11/SB11-BASES_DE_DATOS/SB11-20031-RGSTRO-CLFCCN-V1-0.txt', delimiter=\"|\",\n",
    "                       encoding = \"iso-8859-1\")"
   ]
  },
  {
   "cell_type": "code",
   "execution_count": 3,
   "metadata": {
    "collapsed": false
   },
   "outputs": [
    {
     "data": {
      "text/plain": [
       "(69735, 57)"
      ]
     },
     "execution_count": 3,
     "metadata": {},
     "output_type": "execute_result"
    }
   ],
   "source": [
    "data_2003.shape"
   ]
  },
  {
   "cell_type": "code",
   "execution_count": 4,
   "metadata": {
    "collapsed": false,
    "scrolled": true
   },
   "outputs": [
    {
     "data": {
      "text/html": [
       "<div>\n",
       "<table border=\"1\" class=\"dataframe\">\n",
       "  <thead>\n",
       "    <tr style=\"text-align: right;\">\n",
       "      <th></th>\n",
       "      <th>0</th>\n",
       "      <th>1</th>\n",
       "      <th>2</th>\n",
       "    </tr>\n",
       "  </thead>\n",
       "  <tbody>\n",
       "    <tr>\n",
       "      <th>ESTU_CONSECUTIVO</th>\n",
       "      <td>SB1200310065481</td>\n",
       "      <td>SB1200310065480</td>\n",
       "      <td>SB1200310065479</td>\n",
       "    </tr>\n",
       "    <tr>\n",
       "      <th>COLE_COD_ICFES</th>\n",
       "      <td>18788</td>\n",
       "      <td>18788</td>\n",
       "      <td>18788</td>\n",
       "    </tr>\n",
       "    <tr>\n",
       "      <th>COLE_NOMBRE_SEDE</th>\n",
       "      <td>INSTITUCION EDUCATIVA BELISARIO PEÑA PIÑEIRO</td>\n",
       "      <td>INSTITUCION EDUCATIVA BELISARIO PEÑA PIÑEIRO</td>\n",
       "      <td>INSTITUCION EDUCATIVA BELISARIO PEÑA PIÑEIRO</td>\n",
       "    </tr>\n",
       "    <tr>\n",
       "      <th>IND_ANNO_TERMINO_BACHILLERATO</th>\n",
       "      <td>2003</td>\n",
       "      <td>2003</td>\n",
       "      <td>2003</td>\n",
       "    </tr>\n",
       "    <tr>\n",
       "      <th>COLE_JORNADA</th>\n",
       "      <td>C</td>\n",
       "      <td>C</td>\n",
       "      <td>C</td>\n",
       "    </tr>\n",
       "    <tr>\n",
       "      <th>COLE_VALOR_PENSION</th>\n",
       "      <td>8</td>\n",
       "      <td>8</td>\n",
       "      <td>NaN</td>\n",
       "    </tr>\n",
       "    <tr>\n",
       "      <th>ESTU_GENERO</th>\n",
       "      <td>M</td>\n",
       "      <td>F</td>\n",
       "      <td>M</td>\n",
       "    </tr>\n",
       "    <tr>\n",
       "      <th>ESTU_NACIMIENTO_DIA</th>\n",
       "      <td>18</td>\n",
       "      <td>4</td>\n",
       "      <td>18</td>\n",
       "    </tr>\n",
       "    <tr>\n",
       "      <th>ESTU_NACIMIENTO_MES</th>\n",
       "      <td>7</td>\n",
       "      <td>3</td>\n",
       "      <td>4</td>\n",
       "    </tr>\n",
       "    <tr>\n",
       "      <th>ESTU_NACIMIENTO_ANNO</th>\n",
       "      <td>1984</td>\n",
       "      <td>1981</td>\n",
       "      <td>1987</td>\n",
       "    </tr>\n",
       "    <tr>\n",
       "      <th>ESTU_DEPTO_PRESENTACION</th>\n",
       "      <td>VALLE</td>\n",
       "      <td>VALLE</td>\n",
       "      <td>VALLE</td>\n",
       "    </tr>\n",
       "    <tr>\n",
       "      <th>ESTU_MCPIO_PRESENTACION</th>\n",
       "      <td>ROLDANILLO</td>\n",
       "      <td>ROLDANILLO</td>\n",
       "      <td>ROLDANILLO</td>\n",
       "    </tr>\n",
       "    <tr>\n",
       "      <th>ESTU_LIMITA_INVIDENTE</th>\n",
       "      <td>NaN</td>\n",
       "      <td>NaN</td>\n",
       "      <td>NaN</td>\n",
       "    </tr>\n",
       "    <tr>\n",
       "      <th>ESTU_LIMITA_SORDOINTERPRETE</th>\n",
       "      <td>NaN</td>\n",
       "      <td>NaN</td>\n",
       "      <td>NaN</td>\n",
       "    </tr>\n",
       "    <tr>\n",
       "      <th>ESTU_LIMITA_SORDONOINTERPRETE</th>\n",
       "      <td>NaN</td>\n",
       "      <td>NaN</td>\n",
       "      <td>NaN</td>\n",
       "    </tr>\n",
       "    <tr>\n",
       "      <th>ESTU_LIMITA_MOTRIZ</th>\n",
       "      <td>NaN</td>\n",
       "      <td>NaN</td>\n",
       "      <td>NaN</td>\n",
       "    </tr>\n",
       "    <tr>\n",
       "      <th>PUNT_BIOLOGIA</th>\n",
       "      <td>46</td>\n",
       "      <td>36</td>\n",
       "      <td>34</td>\n",
       "    </tr>\n",
       "    <tr>\n",
       "      <th>PUNT_MATEMATICAS</th>\n",
       "      <td>32</td>\n",
       "      <td>46</td>\n",
       "      <td>46</td>\n",
       "    </tr>\n",
       "    <tr>\n",
       "      <th>PUNT_FILOSOFIA</th>\n",
       "      <td>48</td>\n",
       "      <td>45</td>\n",
       "      <td>42</td>\n",
       "    </tr>\n",
       "    <tr>\n",
       "      <th>PUNT_FISICA</th>\n",
       "      <td>54</td>\n",
       "      <td>45</td>\n",
       "      <td>39</td>\n",
       "    </tr>\n",
       "    <tr>\n",
       "      <th>PUNT_HISTORIA</th>\n",
       "      <td>35</td>\n",
       "      <td>37</td>\n",
       "      <td>49</td>\n",
       "    </tr>\n",
       "    <tr>\n",
       "      <th>PUNT_QUIMICA</th>\n",
       "      <td>47</td>\n",
       "      <td>43</td>\n",
       "      <td>40</td>\n",
       "    </tr>\n",
       "    <tr>\n",
       "      <th>PUNT_LENGUAJE</th>\n",
       "      <td>46</td>\n",
       "      <td>39</td>\n",
       "      <td>45</td>\n",
       "    </tr>\n",
       "    <tr>\n",
       "      <th>PUNT_GEOGRAFIA</th>\n",
       "      <td>45</td>\n",
       "      <td>37</td>\n",
       "      <td>37</td>\n",
       "    </tr>\n",
       "    <tr>\n",
       "      <th>COD_INTERDISCIPLINAR</th>\n",
       "      <td>43</td>\n",
       "      <td>43</td>\n",
       "      <td>43</td>\n",
       "    </tr>\n",
       "    <tr>\n",
       "      <th>PUNT_INTERDISCIPLINAR</th>\n",
       "      <td>60</td>\n",
       "      <td>59</td>\n",
       "      <td>61</td>\n",
       "    </tr>\n",
       "    <tr>\n",
       "      <th>COD_IDIOMA</th>\n",
       "      <td>51</td>\n",
       "      <td>51</td>\n",
       "      <td>51</td>\n",
       "    </tr>\n",
       "    <tr>\n",
       "      <th>PUNT_IDIOMA</th>\n",
       "      <td>38</td>\n",
       "      <td>41</td>\n",
       "      <td>36</td>\n",
       "    </tr>\n",
       "    <tr>\n",
       "      <th>ESTU_IES_COD_DESEADA</th>\n",
       "      <td>1203</td>\n",
       "      <td>4101</td>\n",
       "      <td>1203</td>\n",
       "    </tr>\n",
       "    <tr>\n",
       "      <th>ESTU_RAZONINSTITUTO</th>\n",
       "      <td>3</td>\n",
       "      <td>3</td>\n",
       "      <td>4</td>\n",
       "    </tr>\n",
       "    <tr>\n",
       "      <th>ESTU_CARRDESEADA_COD</th>\n",
       "      <td>48114</td>\n",
       "      <td>11113</td>\n",
       "      <td>48118</td>\n",
       "    </tr>\n",
       "    <tr>\n",
       "      <th>ESTU_CARRDESEADA_RAZON</th>\n",
       "      <td>1</td>\n",
       "      <td>4</td>\n",
       "      <td>2</td>\n",
       "    </tr>\n",
       "    <tr>\n",
       "      <th>FAMI_PERSONAS_HOGAR</th>\n",
       "      <td>4</td>\n",
       "      <td>6</td>\n",
       "      <td>8</td>\n",
       "    </tr>\n",
       "    <tr>\n",
       "      <th>FAMI_VIVIENDA_PROPIA</th>\n",
       "      <td>S</td>\n",
       "      <td>S</td>\n",
       "      <td>S</td>\n",
       "    </tr>\n",
       "    <tr>\n",
       "      <th>FAMI_DEUDA_VIVIENDA</th>\n",
       "      <td>NaN</td>\n",
       "      <td>N</td>\n",
       "      <td>NaN</td>\n",
       "    </tr>\n",
       "    <tr>\n",
       "      <th>FAMI_APORTANTES</th>\n",
       "      <td>2</td>\n",
       "      <td>3</td>\n",
       "      <td>1</td>\n",
       "    </tr>\n",
       "    <tr>\n",
       "      <th>FAMI_INGRESO_FMILIAR_MENSUAL</th>\n",
       "      <td>0</td>\n",
       "      <td>0</td>\n",
       "      <td>3</td>\n",
       "    </tr>\n",
       "    <tr>\n",
       "      <th>FAMI_LEE_ESCRIBE_PADRE</th>\n",
       "      <td>N</td>\n",
       "      <td>S</td>\n",
       "      <td>S</td>\n",
       "    </tr>\n",
       "    <tr>\n",
       "      <th>FAMI_LEE_ESCRIBE_MADRE</th>\n",
       "      <td>N</td>\n",
       "      <td>S</td>\n",
       "      <td>S</td>\n",
       "    </tr>\n",
       "    <tr>\n",
       "      <th>FAMI_EDUCA_PADRE</th>\n",
       "      <td>NaN</td>\n",
       "      <td>3</td>\n",
       "      <td>6</td>\n",
       "    </tr>\n",
       "    <tr>\n",
       "      <th>FAMI_EDUCA_MADRE</th>\n",
       "      <td>NaN</td>\n",
       "      <td>3</td>\n",
       "      <td>4</td>\n",
       "    </tr>\n",
       "    <tr>\n",
       "      <th>FAMI_OCUPA_PADRE</th>\n",
       "      <td>08</td>\n",
       "      <td>08</td>\n",
       "      <td>03</td>\n",
       "    </tr>\n",
       "    <tr>\n",
       "      <th>FAMI_OCUPA_MADRE</th>\n",
       "      <td>10</td>\n",
       "      <td>10</td>\n",
       "      <td>10</td>\n",
       "    </tr>\n",
       "    <tr>\n",
       "      <th>FAMI_NUM_HERMANOS</th>\n",
       "      <td>3</td>\n",
       "      <td>NaN</td>\n",
       "      <td>4</td>\n",
       "    </tr>\n",
       "    <tr>\n",
       "      <th>FAMI_NUM_HERMANOS_EDUSUPERIOR</th>\n",
       "      <td>0</td>\n",
       "      <td>0</td>\n",
       "      <td>4</td>\n",
       "    </tr>\n",
       "    <tr>\n",
       "      <th>FAMI_POSICION_HERMANOS</th>\n",
       "      <td>3</td>\n",
       "      <td>9</td>\n",
       "      <td>5</td>\n",
       "    </tr>\n",
       "    <tr>\n",
       "      <th>FAMI_SOST_PERSONAL</th>\n",
       "      <td>T</td>\n",
       "      <td>T</td>\n",
       "      <td>T</td>\n",
       "    </tr>\n",
       "    <tr>\n",
       "      <th>ESTU_TRABAJA</th>\n",
       "      <td>N</td>\n",
       "      <td>N</td>\n",
       "      <td>N</td>\n",
       "    </tr>\n",
       "    <tr>\n",
       "      <th>ESTU_ACT_PROX_ANNO</th>\n",
       "      <td>3</td>\n",
       "      <td>3</td>\n",
       "      <td>1</td>\n",
       "    </tr>\n",
       "    <tr>\n",
       "      <th>COLE_CALENDARIO</th>\n",
       "      <td>B</td>\n",
       "      <td>B</td>\n",
       "      <td>B</td>\n",
       "    </tr>\n",
       "    <tr>\n",
       "      <th>COLE_BILINGUE</th>\n",
       "      <td>NaN</td>\n",
       "      <td>NaN</td>\n",
       "      <td>NaN</td>\n",
       "    </tr>\n",
       "    <tr>\n",
       "      <th>COLE_CARACTER</th>\n",
       "      <td>ACADEMICO</td>\n",
       "      <td>ACADEMICO</td>\n",
       "      <td>ACADEMICO</td>\n",
       "    </tr>\n",
       "    <tr>\n",
       "      <th>COLE_DEPTO_UBICACION</th>\n",
       "      <td>VALLE</td>\n",
       "      <td>VALLE</td>\n",
       "      <td>VALLE</td>\n",
       "    </tr>\n",
       "    <tr>\n",
       "      <th>COLE_MCPIO_UBICACION</th>\n",
       "      <td>ROLDANILLO</td>\n",
       "      <td>ROLDANILLO</td>\n",
       "      <td>ROLDANILLO</td>\n",
       "    </tr>\n",
       "    <tr>\n",
       "      <th>ESTU_RESIDE_DEPTO</th>\n",
       "      <td>VALLE</td>\n",
       "      <td>VALLE</td>\n",
       "      <td>VALLE</td>\n",
       "    </tr>\n",
       "    <tr>\n",
       "      <th>ESTU_RESIDE_MCPIO</th>\n",
       "      <td>ROLDANILLO</td>\n",
       "      <td>ROLDANILLO</td>\n",
       "      <td>ROLDANILLO</td>\n",
       "    </tr>\n",
       "    <tr>\n",
       "      <th>ESTU_TIPO_DOCUMENTO</th>\n",
       "      <td>R</td>\n",
       "      <td>C</td>\n",
       "      <td>T</td>\n",
       "    </tr>\n",
       "  </tbody>\n",
       "</table>\n",
       "</div>"
      ],
      "text/plain": [
       "                                                                          0  \\\n",
       "ESTU_CONSECUTIVO                                            SB1200310065481   \n",
       "COLE_COD_ICFES                                                        18788   \n",
       "COLE_NOMBRE_SEDE               INSTITUCION EDUCATIVA BELISARIO PEÑA PIÑEIRO   \n",
       "IND_ANNO_TERMINO_BACHILLERATO                                          2003   \n",
       "COLE_JORNADA                                                              C   \n",
       "COLE_VALOR_PENSION                                                        8   \n",
       "ESTU_GENERO                                                               M   \n",
       "ESTU_NACIMIENTO_DIA                                                      18   \n",
       "ESTU_NACIMIENTO_MES                                                       7   \n",
       "ESTU_NACIMIENTO_ANNO                                                   1984   \n",
       "ESTU_DEPTO_PRESENTACION                                               VALLE   \n",
       "ESTU_MCPIO_PRESENTACION                                          ROLDANILLO   \n",
       "ESTU_LIMITA_INVIDENTE                                                   NaN   \n",
       "ESTU_LIMITA_SORDOINTERPRETE                                             NaN   \n",
       "ESTU_LIMITA_SORDONOINTERPRETE                                           NaN   \n",
       "ESTU_LIMITA_MOTRIZ                                                      NaN   \n",
       "PUNT_BIOLOGIA                                                            46   \n",
       "PUNT_MATEMATICAS                                                         32   \n",
       "PUNT_FILOSOFIA                                                           48   \n",
       "PUNT_FISICA                                                              54   \n",
       "PUNT_HISTORIA                                                            35   \n",
       "PUNT_QUIMICA                                                             47   \n",
       "PUNT_LENGUAJE                                                            46   \n",
       "PUNT_GEOGRAFIA                                                           45   \n",
       "COD_INTERDISCIPLINAR                                                     43   \n",
       "PUNT_INTERDISCIPLINAR                                                    60   \n",
       "COD_IDIOMA                                                               51   \n",
       "PUNT_IDIOMA                                                              38   \n",
       "ESTU_IES_COD_DESEADA                                                   1203   \n",
       "ESTU_RAZONINSTITUTO                                                       3   \n",
       "ESTU_CARRDESEADA_COD                                                  48114   \n",
       "ESTU_CARRDESEADA_RAZON                                                    1   \n",
       "FAMI_PERSONAS_HOGAR                                                       4   \n",
       "FAMI_VIVIENDA_PROPIA                                                      S   \n",
       "FAMI_DEUDA_VIVIENDA                                                     NaN   \n",
       "FAMI_APORTANTES                                                           2   \n",
       "FAMI_INGRESO_FMILIAR_MENSUAL                                              0   \n",
       "FAMI_LEE_ESCRIBE_PADRE                                                    N   \n",
       "FAMI_LEE_ESCRIBE_MADRE                                                    N   \n",
       "FAMI_EDUCA_PADRE                                                        NaN   \n",
       "FAMI_EDUCA_MADRE                                                        NaN   \n",
       "FAMI_OCUPA_PADRE                                                         08   \n",
       "FAMI_OCUPA_MADRE                                                         10   \n",
       "FAMI_NUM_HERMANOS                                                         3   \n",
       "FAMI_NUM_HERMANOS_EDUSUPERIOR                                             0   \n",
       "FAMI_POSICION_HERMANOS                                                    3   \n",
       "FAMI_SOST_PERSONAL                                                        T   \n",
       "ESTU_TRABAJA                                                              N   \n",
       "ESTU_ACT_PROX_ANNO                                                        3   \n",
       "COLE_CALENDARIO                                                           B   \n",
       "COLE_BILINGUE                                                           NaN   \n",
       "COLE_CARACTER                                                     ACADEMICO   \n",
       "COLE_DEPTO_UBICACION                                                  VALLE   \n",
       "COLE_MCPIO_UBICACION                                             ROLDANILLO   \n",
       "ESTU_RESIDE_DEPTO                                                     VALLE   \n",
       "ESTU_RESIDE_MCPIO                                                ROLDANILLO   \n",
       "ESTU_TIPO_DOCUMENTO                                                       R   \n",
       "\n",
       "                                                                          1  \\\n",
       "ESTU_CONSECUTIVO                                            SB1200310065480   \n",
       "COLE_COD_ICFES                                                        18788   \n",
       "COLE_NOMBRE_SEDE               INSTITUCION EDUCATIVA BELISARIO PEÑA PIÑEIRO   \n",
       "IND_ANNO_TERMINO_BACHILLERATO                                          2003   \n",
       "COLE_JORNADA                                                              C   \n",
       "COLE_VALOR_PENSION                                                        8   \n",
       "ESTU_GENERO                                                               F   \n",
       "ESTU_NACIMIENTO_DIA                                                       4   \n",
       "ESTU_NACIMIENTO_MES                                                       3   \n",
       "ESTU_NACIMIENTO_ANNO                                                   1981   \n",
       "ESTU_DEPTO_PRESENTACION                                               VALLE   \n",
       "ESTU_MCPIO_PRESENTACION                                          ROLDANILLO   \n",
       "ESTU_LIMITA_INVIDENTE                                                   NaN   \n",
       "ESTU_LIMITA_SORDOINTERPRETE                                             NaN   \n",
       "ESTU_LIMITA_SORDONOINTERPRETE                                           NaN   \n",
       "ESTU_LIMITA_MOTRIZ                                                      NaN   \n",
       "PUNT_BIOLOGIA                                                            36   \n",
       "PUNT_MATEMATICAS                                                         46   \n",
       "PUNT_FILOSOFIA                                                           45   \n",
       "PUNT_FISICA                                                              45   \n",
       "PUNT_HISTORIA                                                            37   \n",
       "PUNT_QUIMICA                                                             43   \n",
       "PUNT_LENGUAJE                                                            39   \n",
       "PUNT_GEOGRAFIA                                                           37   \n",
       "COD_INTERDISCIPLINAR                                                     43   \n",
       "PUNT_INTERDISCIPLINAR                                                    59   \n",
       "COD_IDIOMA                                                               51   \n",
       "PUNT_IDIOMA                                                              41   \n",
       "ESTU_IES_COD_DESEADA                                                   4101   \n",
       "ESTU_RAZONINSTITUTO                                                       3   \n",
       "ESTU_CARRDESEADA_COD                                                  11113   \n",
       "ESTU_CARRDESEADA_RAZON                                                    4   \n",
       "FAMI_PERSONAS_HOGAR                                                       6   \n",
       "FAMI_VIVIENDA_PROPIA                                                      S   \n",
       "FAMI_DEUDA_VIVIENDA                                                       N   \n",
       "FAMI_APORTANTES                                                           3   \n",
       "FAMI_INGRESO_FMILIAR_MENSUAL                                              0   \n",
       "FAMI_LEE_ESCRIBE_PADRE                                                    S   \n",
       "FAMI_LEE_ESCRIBE_MADRE                                                    S   \n",
       "FAMI_EDUCA_PADRE                                                          3   \n",
       "FAMI_EDUCA_MADRE                                                          3   \n",
       "FAMI_OCUPA_PADRE                                                         08   \n",
       "FAMI_OCUPA_MADRE                                                         10   \n",
       "FAMI_NUM_HERMANOS                                                       NaN   \n",
       "FAMI_NUM_HERMANOS_EDUSUPERIOR                                             0   \n",
       "FAMI_POSICION_HERMANOS                                                    9   \n",
       "FAMI_SOST_PERSONAL                                                        T   \n",
       "ESTU_TRABAJA                                                              N   \n",
       "ESTU_ACT_PROX_ANNO                                                        3   \n",
       "COLE_CALENDARIO                                                           B   \n",
       "COLE_BILINGUE                                                           NaN   \n",
       "COLE_CARACTER                                                     ACADEMICO   \n",
       "COLE_DEPTO_UBICACION                                                  VALLE   \n",
       "COLE_MCPIO_UBICACION                                             ROLDANILLO   \n",
       "ESTU_RESIDE_DEPTO                                                     VALLE   \n",
       "ESTU_RESIDE_MCPIO                                                ROLDANILLO   \n",
       "ESTU_TIPO_DOCUMENTO                                                       C   \n",
       "\n",
       "                                                                          2  \n",
       "ESTU_CONSECUTIVO                                            SB1200310065479  \n",
       "COLE_COD_ICFES                                                        18788  \n",
       "COLE_NOMBRE_SEDE               INSTITUCION EDUCATIVA BELISARIO PEÑA PIÑEIRO  \n",
       "IND_ANNO_TERMINO_BACHILLERATO                                          2003  \n",
       "COLE_JORNADA                                                              C  \n",
       "COLE_VALOR_PENSION                                                      NaN  \n",
       "ESTU_GENERO                                                               M  \n",
       "ESTU_NACIMIENTO_DIA                                                      18  \n",
       "ESTU_NACIMIENTO_MES                                                       4  \n",
       "ESTU_NACIMIENTO_ANNO                                                   1987  \n",
       "ESTU_DEPTO_PRESENTACION                                               VALLE  \n",
       "ESTU_MCPIO_PRESENTACION                                          ROLDANILLO  \n",
       "ESTU_LIMITA_INVIDENTE                                                   NaN  \n",
       "ESTU_LIMITA_SORDOINTERPRETE                                             NaN  \n",
       "ESTU_LIMITA_SORDONOINTERPRETE                                           NaN  \n",
       "ESTU_LIMITA_MOTRIZ                                                      NaN  \n",
       "PUNT_BIOLOGIA                                                            34  \n",
       "PUNT_MATEMATICAS                                                         46  \n",
       "PUNT_FILOSOFIA                                                           42  \n",
       "PUNT_FISICA                                                              39  \n",
       "PUNT_HISTORIA                                                            49  \n",
       "PUNT_QUIMICA                                                             40  \n",
       "PUNT_LENGUAJE                                                            45  \n",
       "PUNT_GEOGRAFIA                                                           37  \n",
       "COD_INTERDISCIPLINAR                                                     43  \n",
       "PUNT_INTERDISCIPLINAR                                                    61  \n",
       "COD_IDIOMA                                                               51  \n",
       "PUNT_IDIOMA                                                              36  \n",
       "ESTU_IES_COD_DESEADA                                                   1203  \n",
       "ESTU_RAZONINSTITUTO                                                       4  \n",
       "ESTU_CARRDESEADA_COD                                                  48118  \n",
       "ESTU_CARRDESEADA_RAZON                                                    2  \n",
       "FAMI_PERSONAS_HOGAR                                                       8  \n",
       "FAMI_VIVIENDA_PROPIA                                                      S  \n",
       "FAMI_DEUDA_VIVIENDA                                                     NaN  \n",
       "FAMI_APORTANTES                                                           1  \n",
       "FAMI_INGRESO_FMILIAR_MENSUAL                                              3  \n",
       "FAMI_LEE_ESCRIBE_PADRE                                                    S  \n",
       "FAMI_LEE_ESCRIBE_MADRE                                                    S  \n",
       "FAMI_EDUCA_PADRE                                                          6  \n",
       "FAMI_EDUCA_MADRE                                                          4  \n",
       "FAMI_OCUPA_PADRE                                                         03  \n",
       "FAMI_OCUPA_MADRE                                                         10  \n",
       "FAMI_NUM_HERMANOS                                                         4  \n",
       "FAMI_NUM_HERMANOS_EDUSUPERIOR                                             4  \n",
       "FAMI_POSICION_HERMANOS                                                    5  \n",
       "FAMI_SOST_PERSONAL                                                        T  \n",
       "ESTU_TRABAJA                                                              N  \n",
       "ESTU_ACT_PROX_ANNO                                                        1  \n",
       "COLE_CALENDARIO                                                           B  \n",
       "COLE_BILINGUE                                                           NaN  \n",
       "COLE_CARACTER                                                     ACADEMICO  \n",
       "COLE_DEPTO_UBICACION                                                  VALLE  \n",
       "COLE_MCPIO_UBICACION                                             ROLDANILLO  \n",
       "ESTU_RESIDE_DEPTO                                                     VALLE  \n",
       "ESTU_RESIDE_MCPIO                                                ROLDANILLO  \n",
       "ESTU_TIPO_DOCUMENTO                                                       T  "
      ]
     },
     "execution_count": 4,
     "metadata": {},
     "output_type": "execute_result"
    }
   ],
   "source": [
    "data_2003.head(3).T"
   ]
  },
  {
   "cell_type": "markdown",
   "metadata": {},
   "source": [
    "The first step is delete the columns that won't contribute to the work"
   ]
  },
  {
   "cell_type": "code",
   "execution_count": 5,
   "metadata": {
    "collapsed": false
   },
   "outputs": [],
   "source": [
    "data_2003 = data_2003.drop(['ESTU_TIPO_DOCUMENTO', 'ESTU_CONSECUTIVO', 'COLE_NOMBRE_SEDE'], axis=1)"
   ]
  },
  {
   "cell_type": "code",
   "execution_count": 6,
   "metadata": {
    "collapsed": false,
    "scrolled": true
   },
   "outputs": [
    {
     "name": "stdout",
     "output_type": "stream",
     "text": [
      "Int64Index([   182,    265,    638,   1362,   1503,   2998,   3145,   3327,\n",
      "              3418,   3459,\n",
      "            ...\n",
      "            106583, 106591, 106609, 106617, 106625, 106633, 106641, 106666,\n",
      "            106682, 106690],\n",
      "           dtype='int64', length=1863)\n",
      "182        70\n",
      "265       173\n",
      "638        10\n",
      "1362       47\n",
      "1503       56\n",
      "2998       37\n",
      "3145       35\n",
      "3327        9\n",
      "3418       46\n",
      "3459       66\n",
      "3483       96\n",
      "4234       39\n",
      "5629       14\n",
      "5843       13\n",
      "6890       13\n",
      "6973        5\n",
      "6999       20\n",
      "7013       72\n",
      "7054       60\n",
      "7070      153\n",
      "7088       44\n",
      "7500        7\n",
      "7732        5\n",
      "8581       69\n",
      "9589       49\n",
      "9696       17\n",
      "9985       34\n",
      "10082       8\n",
      "10199      17\n",
      "10298      34\n",
      "         ... \n",
      "106385     34\n",
      "106393     20\n",
      "106401     36\n",
      "106419      4\n",
      "106427      8\n",
      "106435     11\n",
      "106443     13\n",
      "106450      7\n",
      "106468     17\n",
      "106476      9\n",
      "106484     15\n",
      "106492      6\n",
      "106500     14\n",
      "106518     10\n",
      "106526     14\n",
      "106534     19\n",
      "106542     13\n",
      "106559      4\n",
      "106567      5\n",
      "106575     62\n",
      "106583     15\n",
      "106591      2\n",
      "106609     21\n",
      "106617     45\n",
      "106625     55\n",
      "106633      2\n",
      "106641     69\n",
      "106666     51\n",
      "106682     23\n",
      "106690     15\n",
      "Name: COLE_COD_ICFES, dtype: int64\n",
      "Elementos null/NaN 0\n",
      "__________________\n",
      "Elementos diferentes de null/NaN: 69735\n",
      "__________________\n",
      "(69735,)\n",
      "None\n"
     ]
    }
   ],
   "source": [
    "print(data_2003['COLE_COD_ICFES'].value_counts().sort_index().index)\n",
    "print(data_2003['COLE_COD_ICFES'].value_counts().sort_index())\n",
    "print(missing_data(data_2003['COLE_COD_ICFES']))"
   ]
  },
  {
   "cell_type": "code",
   "execution_count": 9,
   "metadata": {
    "collapsed": false,
    "scrolled": true
   },
   "outputs": [
    {
     "name": "stdout",
     "output_type": "stream",
     "text": [
      "Index(['2003', '2002', 2003.0, 2002.0, '2000', '2001', 2000.0, 2001.0, '2 0@',\n",
      "       '20 2', '2004', '2 02',  '20@', '2902', 2004.0, '2 03', '2903', '20 3',\n",
      "       '2 @0',  '200',    '0',   '20', '2005',  '203',   '@@', '1995', '2  2',\n",
      "       '2012',    '2',  '202', 1992.0,   '02', '1999', 2005.0, 2006.0,  '19@',\n",
      "        '0 2', 2903.0, '2008', '2009',    '3', '2013', '2023', '2006', '1002',\n",
      "          2.0],\n",
      "      dtype='object')\n",
      "2003      34422\n",
      "2002      18687\n",
      "2003.0    14859\n",
      "2002.0     1472\n",
      "2000         77\n",
      "2001         54\n",
      "2000.0       25\n",
      "2001.0        9\n",
      "2 0@          8\n",
      "20 2          7\n",
      "2004          6\n",
      "2 02          6\n",
      "20@           5\n",
      "2902          5\n",
      "2004.0        5\n",
      "2 03          4\n",
      "2903          4\n",
      "20 3          4\n",
      "2 @0          4\n",
      "200           3\n",
      "0             2\n",
      "20            2\n",
      "2005          2\n",
      "203           2\n",
      "@@            2\n",
      "1995          2\n",
      "2  2          2\n",
      "2012          2\n",
      "2             2\n",
      "202           1\n",
      "1992.0        1\n",
      "02            1\n",
      "1999          1\n",
      "2005.0        1\n",
      "2006.0        1\n",
      "19@           1\n",
      "0 2           1\n",
      "2903.0        1\n",
      "2008          1\n",
      "2009          1\n",
      "3             1\n",
      "2013          1\n",
      "2023          1\n",
      "2006          1\n",
      "1002          1\n",
      "2.0           1\n",
      "Name: IND_ANNO_TERMINO_BACHILLERATO, dtype: int64\n",
      "Elementos null/NaN 34\n",
      "__________________\n",
      "Elementos diferentes de null/NaN: 69701\n",
      "__________________\n",
      "(69701,)\n",
      "None\n"
     ]
    }
   ],
   "source": [
    "print(data_2003['IND_ANNO_TERMINO_BACHILLERATO'].value_counts().index)\n",
    "print(data_2003['IND_ANNO_TERMINO_BACHILLERATO'].value_counts())\n",
    "print(missing_data(data_2003['IND_ANNO_TERMINO_BACHILLERATO']))"
   ]
  },
  {
   "cell_type": "code",
   "execution_count": 10,
   "metadata": {
    "collapsed": true
   },
   "outputs": [],
   "source": [
    "for i in data_2003['IND_ANNO_TERMINO_BACHILLERATO'].value_counts().index:\n",
    "    if type(i) == float:\n",
    "        data_2003['IND_ANNO_TERMINO_BACHILLERATO'] = data_2003['IND_ANNO_TERMINO_BACHILLERATO'].replace(i, str(i)[:-2])\n",
    "\n",
    "for i in data_2003['IND_ANNO_TERMINO_BACHILLERATO'].value_counts().index:\n",
    "    if '@' in i:\n",
    "        data_2003['IND_ANNO_TERMINO_BACHILLERATO'] = data_2003['IND_ANNO_TERMINO_BACHILLERATO'].replace(i, 'NaN')\n",
    "    elif ' ' in i:\n",
    "        data_2003['IND_ANNO_TERMINO_BACHILLERATO'] = data_2003['IND_ANNO_TERMINO_BACHILLERATO'].replace(i, 'NaN')\n",
    "    elif i != 'NaN':\n",
    "        if float(i) == 0:\n",
    "            data_2003['IND_ANNO_TERMINO_BACHILLERATO'] = data_2003['IND_ANNO_TERMINO_BACHILLERATO'].replace(i, 'NaN')"
   ]
  },
  {
   "cell_type": "code",
   "execution_count": 11,
   "metadata": {
    "collapsed": false
   },
   "outputs": [
    {
     "name": "stdout",
     "output_type": "stream",
     "text": [
      "Index(['C', 'M', 'N', 'S', 'T'], dtype='object')\n",
      "C    16257\n",
      "M    27863\n",
      "N    16745\n",
      "S     1116\n",
      "T     7754\n",
      "Name: COLE_JORNADA, dtype: int64\n",
      "Elementos null/NaN 0\n",
      "__________________\n",
      "Elementos diferentes de null/NaN: 69735\n",
      "__________________\n",
      "(69735,)\n",
      "None\n"
     ]
    }
   ],
   "source": [
    "print(data_2003['COLE_JORNADA'].value_counts().sort_index().index)\n",
    "print(data_2003['COLE_JORNADA'].value_counts().sort_index())\n",
    "print(missing_data(data_2003['COLE_JORNADA']))"
   ]
  },
  {
   "cell_type": "code",
   "execution_count": 13,
   "metadata": {
    "collapsed": false,
    "scrolled": true
   },
   "outputs": [
    {
     "name": "stdout",
     "output_type": "stream",
     "text": [
      "Index(['8', '1', '2', '3', 8.0, '5', '4', 1.0, 7.0, '0', 2.0, '6', 3.0, 4.0,\n",
      "       5.0, '7', 6.0, 0.0, '9', 9.0, '@', '+'],\n",
      "      dtype='object')\n",
      "8      14165\n",
      "1      12090\n",
      "2       7061\n",
      "3       5209\n",
      "8.0     3573\n",
      "5       3344\n",
      "4       3180\n",
      "1.0     3075\n",
      "7.0     2741\n",
      "0       2102\n",
      "2.0     1814\n",
      "6       1631\n",
      "3.0     1144\n",
      "4.0      989\n",
      "5.0      940\n",
      "7        827\n",
      "6.0      779\n",
      "0.0      499\n",
      "9         61\n",
      "9.0       14\n",
      "@         13\n",
      "+          3\n",
      "Name: COLE_VALOR_PENSION, dtype: int64\n",
      "Elementos null/NaN 4481\n",
      "__________________\n",
      "Elementos diferentes de null/NaN: 65254\n",
      "__________________\n",
      "(65254,)\n",
      "None\n"
     ]
    }
   ],
   "source": [
    "print(data_2003['COLE_VALOR_PENSION'].value_counts().index)\n",
    "print(data_2003['COLE_VALOR_PENSION'].value_counts())\n",
    "print(missing_data(data_2003['COLE_VALOR_PENSION']))"
   ]
  },
  {
   "cell_type": "code",
   "execution_count": 14,
   "metadata": {
    "collapsed": true
   },
   "outputs": [],
   "source": [
    "for i in data_2003['COLE_VALOR_PENSION'].value_counts().index:\n",
    "    if type(i) == float:\n",
    "        data_2003['COLE_VALOR_PENSION'] = data_2003['COLE_VALOR_PENSION'].replace(i, str(i)[:-2])\n",
    "\n",
    "data_2003['COLE_VALOR_PENSION'] = data_2003['COLE_VALOR_PENSION'].replace('+', '+9')\n",
    "data_2003['COLE_VALOR_PENSION'] = data_2003['COLE_VALOR_PENSION'].replace('@', 'NaN')\n",
    "data_2003['COLE_VALOR_PENSION'] = data_2003['COLE_VALOR_PENSION'].replace(np.nan, 'NaN')"
   ]
  },
  {
   "cell_type": "code",
   "execution_count": 16,
   "metadata": {
    "collapsed": false
   },
   "outputs": [
    {
     "name": "stdout",
     "output_type": "stream",
     "text": [
      "Index(['F', 'M'], dtype='object')\n",
      "F    37912\n",
      "M    31823\n",
      "Name: ESTU_GENERO, dtype: int64\n",
      "Elementos null/NaN 0\n",
      "__________________\n",
      "Elementos diferentes de null/NaN: 69735\n",
      "__________________\n",
      "(69735,)\n",
      "None\n"
     ]
    }
   ],
   "source": [
    "print(data_2003['ESTU_GENERO'].value_counts().sort_index().index)\n",
    "print(data_2003['ESTU_GENERO'].value_counts().sort_index())\n",
    "print(missing_data(data_2003['ESTU_GENERO']))"
   ]
  },
  {
   "cell_type": "code",
   "execution_count": 17,
   "metadata": {
    "collapsed": false,
    "scrolled": true
   },
   "outputs": [
    {
     "name": "stdout",
     "output_type": "stream",
     "text": [
      "Float64Index([ 1.0,  2.0,  3.0,  4.0,  5.0,  6.0,  7.0,  8.0,  9.0, 10.0, 11.0,\n",
      "              12.0, 13.0, 14.0, 15.0, 16.0, 17.0, 18.0, 19.0, 20.0, 21.0, 22.0,\n",
      "              23.0, 24.0, 25.0, 26.0, 27.0, 28.0, 29.0, 30.0, 31.0],\n",
      "             dtype='float64')\n",
      "1.0     2622\n",
      "2.0     2316\n",
      "3.0     2288\n",
      "4.0     2335\n",
      "5.0     2311\n",
      "6.0     2251\n",
      "7.0     2214\n",
      "8.0     2367\n",
      "9.0     2210\n",
      "10.0    2396\n",
      "11.0    2318\n",
      "12.0    2255\n",
      "13.0    2197\n",
      "14.0    2263\n",
      "15.0    2473\n",
      "16.0    2292\n",
      "17.0    2273\n",
      "18.0    2274\n",
      "19.0    2237\n",
      "20.0    2300\n",
      "21.0    2226\n",
      "22.0    2261\n",
      "23.0    2266\n",
      "24.0    2224\n",
      "25.0    2275\n",
      "26.0    2263\n",
      "27.0    2242\n",
      "28.0    2361\n",
      "29.0    2106\n",
      "30.0    2080\n",
      "31.0    1235\n",
      "Name: ESTU_NACIMIENTO_DIA, dtype: int64\n",
      "Elementos null/NaN 4\n",
      "__________________\n",
      "Elementos diferentes de null/NaN: 69731\n",
      "__________________\n",
      "(69731,)\n",
      "None\n"
     ]
    }
   ],
   "source": [
    "print(data_2003['ESTU_NACIMIENTO_DIA'].value_counts().sort_index().index)\n",
    "print(data_2003['ESTU_NACIMIENTO_DIA'].value_counts().sort_index())\n",
    "print(missing_data(data_2003['ESTU_NACIMIENTO_DIA']))"
   ]
  },
  {
   "cell_type": "code",
   "execution_count": 19,
   "metadata": {
    "collapsed": false,
    "scrolled": true
   },
   "outputs": [
    {
     "name": "stdout",
     "output_type": "stream",
     "text": [
      "Index([ 9.0,  1.0,  3.0, 10.0, 12.0,  8.0,  5.0, 11.0,  7.0,  6.0,  4.0,  2.0,\n",
      "       '01', '10', '07', '11', '09', '12', '05', '06', '08', '04', '03', '02',\n",
      "        '@'],\n",
      "      dtype='object')\n",
      "9.0     4749\n",
      "1.0     4694\n",
      "3.0     4581\n",
      "10.0    4522\n",
      "12.0    4504\n",
      "8.0     4444\n",
      "5.0     4441\n",
      "11.0    4419\n",
      "7.0     4351\n",
      "6.0     4303\n",
      "4.0     4180\n",
      "2.0     4143\n",
      "01      1465\n",
      "10      1449\n",
      "07      1390\n",
      "11      1385\n",
      "09      1383\n",
      "12      1377\n",
      "05      1367\n",
      "06      1359\n",
      "08      1348\n",
      "04      1343\n",
      "03      1292\n",
      "02      1211\n",
      "@          1\n",
      "Name: ESTU_NACIMIENTO_MES, dtype: int64\n",
      "Elementos null/NaN 34\n",
      "__________________\n",
      "Elementos diferentes de null/NaN: 69701\n",
      "__________________\n",
      "(69701,)\n",
      "None\n"
     ]
    }
   ],
   "source": [
    "print(data_2003['ESTU_NACIMIENTO_MES'].value_counts().index)\n",
    "print(data_2003['ESTU_NACIMIENTO_MES'].value_counts())\n",
    "print(missing_data(data_2003['ESTU_NACIMIENTO_MES']))"
   ]
  },
  {
   "cell_type": "code",
   "execution_count": 20,
   "metadata": {
    "collapsed": true
   },
   "outputs": [],
   "source": [
    "data_2003['ESTU_NACIMIENTO_MES'] = data_2003['ESTU_NACIMIENTO_MES'].replace('@', np.nan)\n",
    "for i in data_2003['ESTU_NACIMIENTO_MES'].value_counts().index:\n",
    "    if type(i) == str:\n",
    "        data_2003['ESTU_NACIMIENTO_MES'] = data_2003['ESTU_NACIMIENTO_MES'].replace(i, float(i))"
   ]
  },
  {
   "cell_type": "code",
   "execution_count": 23,
   "metadata": {
    "collapsed": false,
    "scrolled": true
   },
   "outputs": [
    {
     "name": "stdout",
     "output_type": "stream",
     "text": [
      "Index([1986.0, 1985.0, '1985', '1986', '1984', 1984.0, 1987.0, '1983', 1983.0,\n",
      "       '1987',\n",
      "       ...\n",
      "       1942.0, '1940', 1935.0, '198@', 1945.0, '1992', '1939', '1991',  197.0,\n",
      "        986.0],\n",
      "      dtype='object', length=112)\n",
      "1986.0    12072\n",
      "1985.0     8614\n",
      "1985       7315\n",
      "1986       7222\n",
      "1984       5076\n",
      "1984.0     4941\n",
      "1987.0     3564\n",
      "1983       2708\n",
      "1983.0     2350\n",
      "1987       1928\n",
      "1982       1605\n",
      "1982.0     1274\n",
      "1981       1025\n",
      "1980        853\n",
      "1981.0      670\n",
      "1979        633\n",
      "1978        496\n",
      "1980.0      471\n",
      "1977        397\n",
      "1979.0      362\n",
      "1976        338\n",
      "1975        299\n",
      "1974        290\n",
      "1978.0      287\n",
      "1972        243\n",
      "1977.0      236\n",
      "1973        228\n",
      "1970        191\n",
      "1971        188\n",
      "1969        178\n",
      "          ...  \n",
      "1945          6\n",
      "1947.0        6\n",
      "1946          5\n",
      "1947          5\n",
      "1949.0        4\n",
      "1948.0        4\n",
      "1944          3\n",
      "198.0         3\n",
      "1935          3\n",
      "1938          3\n",
      "1943          3\n",
      "1938.0        2\n",
      "1946.0        2\n",
      "197@          2\n",
      "197           2\n",
      "1941          2\n",
      "1942          2\n",
      "1937          2\n",
      "1941.0        2\n",
      "1944.0        2\n",
      "1942.0        2\n",
      "1940          1\n",
      "1935.0        1\n",
      "198@          1\n",
      "1945.0        1\n",
      "1992          1\n",
      "1939          1\n",
      "1991          1\n",
      "197.0         1\n",
      "986.0         1\n",
      "Name: ESTU_NACIMIENTO_ANNO, dtype: int64\n",
      "Elementos null/NaN 8\n",
      "__________________\n",
      "Elementos diferentes de null/NaN: 69727\n",
      "__________________\n",
      "(69727,)\n",
      "None\n"
     ]
    }
   ],
   "source": [
    "print(data_2003['ESTU_NACIMIENTO_ANNO'].value_counts().index)\n",
    "print(data_2003['ESTU_NACIMIENTO_ANNO'].value_counts())\n",
    "print(missing_data(data_2003['ESTU_NACIMIENTO_ANNO']))"
   ]
  },
  {
   "cell_type": "code",
   "execution_count": 28,
   "metadata": {
    "collapsed": true
   },
   "outputs": [],
   "source": [
    "for i in data_2003['ESTU_NACIMIENTO_ANNO'].value_counts().index:\n",
    "    if type(i) == float:\n",
    "        data_2003['ESTU_NACIMIENTO_ANNO'] = data_2003['ESTU_NACIMIENTO_ANNO'].replace(i, str(i)[:-2])\n",
    "        \n",
    "for i in data_2003['ESTU_NACIMIENTO_ANNO'].value_counts().index:\n",
    "    if len(str(i)) < 4:\n",
    "        data_2003['ESTU_NACIMIENTO_ANNO'] = data_2003['ESTU_NACIMIENTO_ANNO'].replace(i, 'NaN')\n",
    "    elif '@' in i:\n",
    "        data_2003['ESTU_NACIMIENTO_ANNO'] = data_2003['ESTU_NACIMIENTO_ANNO'].replace(i, 'NaN')\n",
    "    \n",
    "data_2003['ESTU_NACIMIENTO_ANNO'] = data_2003['ESTU_NACIMIENTO_ANNO'].replace(np.nan, 'NaN')"
   ]
  },
  {
   "cell_type": "code",
   "execution_count": 30,
   "metadata": {
    "collapsed": false,
    "scrolled": true
   },
   "outputs": [
    {
     "name": "stdout",
     "output_type": "stream",
     "text": [
      "Index(['ANTIOQUIA', 'ARAUCA', 'ATLANTICO', 'BOGOTA', 'BOLIVAR', 'BOYACA',\n",
      "       'CALDAS', 'CAQUETA', 'CASANARE', 'CAUCA', 'CESAR', 'CHOCO', 'CORDOBA',\n",
      "       'CUNDINAMARCA', 'GUAVIARE', 'HUILA', 'LA GUAJIRA', 'MAGDALENA', 'META',\n",
      "       'NARIÑO', 'NORTE SANTANDER', 'PUTUMAYO', 'QUINDIO', 'RISARALDA',\n",
      "       'SANTANDER', 'SUCRE', 'TOLIMA', 'VALLE'],\n",
      "      dtype='object')\n",
      "ANTIOQUIA           3290\n",
      "ARAUCA                53\n",
      "ATLANTICO            722\n",
      "BOGOTA              8528\n",
      "BOLIVAR              350\n",
      "BOYACA               791\n",
      "CALDAS               464\n",
      "CAQUETA              183\n",
      "CASANARE             165\n",
      "CAUCA               1741\n",
      "CESAR                105\n",
      "CHOCO                 32\n",
      "CORDOBA              215\n",
      "CUNDINAMARCA        1945\n",
      "GUAVIARE              41\n",
      "HUILA                741\n",
      "LA GUAJIRA           136\n",
      "MAGDALENA            128\n",
      "META                 586\n",
      "NARIÑO             12053\n",
      "NORTE SANTANDER      590\n",
      "PUTUMAYO             104\n",
      "QUINDIO              640\n",
      "RISARALDA            523\n",
      "SANTANDER           1175\n",
      "SUCRE                 10\n",
      "TOLIMA               652\n",
      "VALLE              33772\n",
      "Name: ESTU_DEPTO_PRESENTACION, dtype: int64\n",
      "Elementos null/NaN 0\n",
      "__________________\n",
      "Elementos diferentes de null/NaN: 69735\n",
      "__________________\n",
      "(69735,)\n",
      "None\n"
     ]
    }
   ],
   "source": [
    "print(data_2003['ESTU_DEPTO_PRESENTACION'].value_counts().sort_index().index)\n",
    "print(data_2003['ESTU_DEPTO_PRESENTACION'].value_counts().sort_index())\n",
    "print(missing_data(data_2003['ESTU_DEPTO_PRESENTACION']))"
   ]
  },
  {
   "cell_type": "code",
   "execution_count": 31,
   "metadata": {
    "collapsed": false,
    "scrolled": true
   },
   "outputs": [
    {
     "name": "stdout",
     "output_type": "stream",
     "text": [
      "Index(['ACACIAS', 'AGUACHICA', 'ALBANIA', 'ALCALA', 'ANDALUCIA',\n",
      "       'ANSERMANUEVO', 'APARTADO', 'ARAUCA', 'ARMENIA', 'BALBOA',\n",
      "       ...\n",
      "       'TUQUERRES', 'UBATE', 'VALLEDUPAR', 'VELEZ', 'VILLAVICENCIO', 'YOLOMBO',\n",
      "       'YOPAL', 'YUMBO', 'ZARZAL', 'ZIPAQUIRA'],\n",
      "      dtype='object', length=136)\n",
      "ACACIAS                      15\n",
      "AGUACHICA                    15\n",
      "ALBANIA                      37\n",
      "ALCALA                      118\n",
      "ANDALUCIA                   189\n",
      "ANSERMANUEVO                 80\n",
      "APARTADO                     78\n",
      "ARAUCA                       21\n",
      "ARMENIA                     541\n",
      "BALBOA                        2\n",
      "BARBACOAS                   137\n",
      "BARRANCABERMEJA             116\n",
      "BARRANQUILLA                722\n",
      "BELLO                       409\n",
      "BOGOTA D.C.                8528\n",
      "BOLIVAR                      81\n",
      "BOSCONIA                      5\n",
      "BUCARAMANGA                 934\n",
      "BUENAVENTURA               1986\n",
      "BUESACO                     178\n",
      "BUGA                       1395\n",
      "BUGALAGRANDE                210\n",
      "CAICEDONIA                  266\n",
      "CALI                      17415\n",
      "CALIMA (DARIEN)             153\n",
      "CALOTO                       15\n",
      "CAMPOALEGRE                  49\n",
      "CANDELARIA                  595\n",
      "CARTAGENA                   309\n",
      "CARTAGO                    1364\n",
      "                          ...  \n",
      "SANDONA                     234\n",
      "SANTA MARTA                  56\n",
      "SANTA ROSA DE OSOS           76\n",
      "SANTANDER DE QUILICHAO      232\n",
      "SARAVENA                     14\n",
      "SEVILLA                     357\n",
      "SILVIA                        2\n",
      "SINCELEJO                    10\n",
      "SOACHA                      361\n",
      "SOGAMOSO                    269\n",
      "TAME                         18\n",
      "TAMINANGO                   157\n",
      "TANGUA                       46\n",
      "TIERRALTA                    18\n",
      "TIMBIO                       55\n",
      "TORO                        100\n",
      "TRUJILLO                     98\n",
      "TULUA                      1950\n",
      "TUMACO                     1065\n",
      "TUNJA                       469\n",
      "TUQUERRES                   464\n",
      "UBATE                        91\n",
      "VALLEDUPAR                   85\n",
      "VELEZ                        47\n",
      "VILLAVICENCIO               488\n",
      "YOLOMBO                      17\n",
      "YOPAL                       155\n",
      "YUMBO                       811\n",
      "ZARZAL                      398\n",
      "ZIPAQUIRA                   185\n",
      "Name: ESTU_MCPIO_PRESENTACION, dtype: int64\n",
      "Elementos null/NaN 0\n",
      "__________________\n",
      "Elementos diferentes de null/NaN: 69735\n",
      "__________________\n",
      "(69735,)\n",
      "None\n"
     ]
    }
   ],
   "source": [
    "print(data_2003['ESTU_MCPIO_PRESENTACION'].value_counts().sort_index().index)\n",
    "print(data_2003['ESTU_MCPIO_PRESENTACION'].value_counts().sort_index())\n",
    "print(missing_data(data_2003['ESTU_MCPIO_PRESENTACION']))"
   ]
  },
  {
   "cell_type": "code",
   "execution_count": 32,
   "metadata": {
    "collapsed": false
   },
   "outputs": [
    {
     "name": "stdout",
     "output_type": "stream",
     "text": [
      "Index(['I'], dtype='object')\n",
      "I    63\n",
      "Name: ESTU_LIMITA_INVIDENTE, dtype: int64\n",
      "Elementos null/NaN 69672\n",
      "__________________\n",
      "Elementos diferentes de null/NaN: 63\n",
      "__________________\n",
      "(63,)\n",
      "None\n"
     ]
    }
   ],
   "source": [
    "print(data_2003['ESTU_LIMITA_INVIDENTE'].value_counts().sort_index().index)\n",
    "print(data_2003['ESTU_LIMITA_INVIDENTE'].value_counts().sort_index())\n",
    "print(missing_data(data_2003['ESTU_LIMITA_INVIDENTE']))"
   ]
  },
  {
   "cell_type": "code",
   "execution_count": 33,
   "metadata": {
    "collapsed": true
   },
   "outputs": [],
   "source": [
    "data_2003['ESTU_LIMITA_INVIDENTE'] = data_2003['ESTU_LIMITA_INVIDENTE'].replace(np.nan, 'NaN')"
   ]
  },
  {
   "cell_type": "code",
   "execution_count": 34,
   "metadata": {
    "collapsed": false
   },
   "outputs": [
    {
     "name": "stdout",
     "output_type": "stream",
     "text": [
      "Index(['R'], dtype='object')\n",
      "R    17\n",
      "Name: ESTU_LIMITA_SORDOINTERPRETE, dtype: int64\n",
      "Elementos null/NaN 69718\n",
      "__________________\n",
      "Elementos diferentes de null/NaN: 17\n",
      "__________________\n",
      "(17,)\n",
      "None\n"
     ]
    }
   ],
   "source": [
    "print(data_2003['ESTU_LIMITA_SORDOINTERPRETE'].value_counts().sort_index().index)\n",
    "print(data_2003['ESTU_LIMITA_SORDOINTERPRETE'].value_counts().sort_index())\n",
    "print(missing_data(data_2003['ESTU_LIMITA_SORDOINTERPRETE']))"
   ]
  },
  {
   "cell_type": "code",
   "execution_count": 35,
   "metadata": {
    "collapsed": true
   },
   "outputs": [],
   "source": [
    "data_2003['ESTU_LIMITA_SORDOINTERPRETE'] = data_2003['ESTU_LIMITA_SORDOINTERPRETE'].replace(np.nan, 'NaN')"
   ]
  },
  {
   "cell_type": "code",
   "execution_count": 36,
   "metadata": {
    "collapsed": false
   },
   "outputs": [
    {
     "name": "stdout",
     "output_type": "stream",
     "text": [
      "Index(['S'], dtype='object')\n",
      "S    27\n",
      "Name: ESTU_LIMITA_SORDONOINTERPRETE, dtype: int64\n",
      "Elementos null/NaN 69708\n",
      "__________________\n",
      "Elementos diferentes de null/NaN: 27\n",
      "__________________\n",
      "(27,)\n",
      "None\n"
     ]
    }
   ],
   "source": [
    "print(data_2003['ESTU_LIMITA_SORDONOINTERPRETE'].value_counts().sort_index().index)\n",
    "print(data_2003['ESTU_LIMITA_SORDONOINTERPRETE'].value_counts().sort_index())\n",
    "print(missing_data(data_2003['ESTU_LIMITA_SORDONOINTERPRETE']))"
   ]
  },
  {
   "cell_type": "code",
   "execution_count": 37,
   "metadata": {
    "collapsed": true
   },
   "outputs": [],
   "source": [
    "data_2003['ESTU_LIMITA_SORDONOINTERPRETE'] = data_2003['ESTU_LIMITA_SORDONOINTERPRETE'].replace(np.nan, 'NaN')"
   ]
  },
  {
   "cell_type": "code",
   "execution_count": 38,
   "metadata": {
    "collapsed": false
   },
   "outputs": [
    {
     "name": "stdout",
     "output_type": "stream",
     "text": [
      "Index(['M'], dtype='object')\n",
      "M    40\n",
      "Name: ESTU_LIMITA_MOTRIZ, dtype: int64\n",
      "Elementos null/NaN 69695\n",
      "__________________\n",
      "Elementos diferentes de null/NaN: 40\n",
      "__________________\n",
      "(40,)\n",
      "None\n"
     ]
    }
   ],
   "source": [
    "print(data_2003['ESTU_LIMITA_MOTRIZ'].value_counts().sort_index().index)\n",
    "print(data_2003['ESTU_LIMITA_MOTRIZ'].value_counts().sort_index())\n",
    "print(missing_data(data_2003['ESTU_LIMITA_MOTRIZ']))"
   ]
  },
  {
   "cell_type": "code",
   "execution_count": 40,
   "metadata": {
    "collapsed": false
   },
   "outputs": [],
   "source": [
    "data_2003['ESTU_LIMITA_MOTRIZ'] = data_2003['ESTU_LIMITA_MOTRIZ'].replace(np.nan, 'NaN')"
   ]
  },
  {
   "cell_type": "code",
   "execution_count": 41,
   "metadata": {
    "collapsed": false,
    "scrolled": true
   },
   "outputs": [
    {
     "name": "stdout",
     "output_type": "stream",
     "text": [
      "Index(['0', '00 1', '0000', '0001', '001', '0052', '0070', '01', '0128', '017',\n",
      "       ...\n",
      "       '@818', '@819', '@821', '@823', '@85', '@92', '@999', '@@', '@@4',\n",
      "       '@@@@'],\n",
      "      dtype='object', length=719)\n",
      "0        6\n",
      "00 1     1\n",
      "0000     7\n",
      "0001     2\n",
      "001      6\n",
      "0052     1\n",
      "0070     1\n",
      "01       3\n",
      "0128     1\n",
      "017      1\n",
      "0201     3\n",
      "0203    11\n",
      "0204     1\n",
      "0206     3\n",
      "0207     1\n",
      "021      1\n",
      "04       1\n",
      "0414     1\n",
      "05       1\n",
      "0656     2\n",
      "069      1\n",
      "07       1\n",
      "0701     3\n",
      "0702     5\n",
      "0703     1\n",
      "0704     2\n",
      "0706     1\n",
      "0707     1\n",
      "0711     1\n",
      "0720     1\n",
      "        ..\n",
      "@1       3\n",
      "@1 1     1\n",
      "@10      2\n",
      "@101     5\n",
      "@104     1\n",
      "@106     5\n",
      "@11      6\n",
      "@114     1\n",
      "@2       1\n",
      "@2 0     1\n",
      "@203     2\n",
      "@206     1\n",
      "@207     1\n",
      "@208     1\n",
      "@213     1\n",
      "@3       1\n",
      "@710     1\n",
      "@716     1\n",
      "@718     1\n",
      "@8 0     1\n",
      "@818     1\n",
      "@819     1\n",
      "@821     1\n",
      "@823     1\n",
      "@85      1\n",
      "@92      1\n",
      "@999     1\n",
      "@@      15\n",
      "@@4      1\n",
      "@@@@    13\n",
      "Name: ESTU_IES_COD_DESEADA, dtype: int64\n",
      "Elementos null/NaN 5913\n",
      "__________________\n",
      "Elementos diferentes de null/NaN: 63822\n",
      "__________________\n",
      "(63822,)\n",
      "None\n"
     ]
    }
   ],
   "source": [
    "print(data_2003['ESTU_IES_COD_DESEADA'].value_counts().sort_index().index)\n",
    "print(data_2003['ESTU_IES_COD_DESEADA'].value_counts().sort_index())\n",
    "print(missing_data(data_2003['ESTU_IES_COD_DESEADA']))"
   ]
  },
  {
   "cell_type": "code",
   "execution_count": 42,
   "metadata": {
    "collapsed": true
   },
   "outputs": [],
   "source": [
    "for i in data_2003['ESTU_IES_COD_DESEADA'].value_counts().sort_index().index:\n",
    "    if '@' in i:\n",
    "        data_2003['ESTU_IES_COD_DESEADA'] = data_2003['ESTU_IES_COD_DESEADA'].replace(i, 'NaN')\n",
    "    elif ' ' in i:\n",
    "        data_2003['ESTU_IES_COD_DESEADA'] = data_2003['ESTU_IES_COD_DESEADA'].replace(i, 'NaN')\n",
    "    elif i != 'NaN':\n",
    "        if int(i) == 0:\n",
    "            data_2003['ESTU_IES_COD_DESEADA'] = data_2003['ESTU_IES_COD_DESEADA'].replace(i, 'NaN')\n",
    "        elif int(i) < 1000:\n",
    "            data_2003['ESTU_IES_COD_DESEADA'] = data_2003['ESTU_IES_COD_DESEADA'].replace(i, 'NaN')\n",
    "data_2003['ESTU_IES_COD_DESEADA'] = data_2003['ESTU_IES_COD_DESEADA'].replace(np.nan, 'NaN')"
   ]
  },
  {
   "cell_type": "code",
   "execution_count": 44,
   "metadata": {
    "collapsed": false
   },
   "outputs": [
    {
     "name": "stdout",
     "output_type": "stream",
     "text": [
      "Index(['1', '2', '3', '4', '5', '6', '7', '8', '@'], dtype='object')\n",
      "1     1124\n",
      "2    22773\n",
      "3     8932\n",
      "4     6309\n",
      "5     8935\n",
      "6     5643\n",
      "7     4128\n",
      "8     6603\n",
      "@       43\n",
      "Name: ESTU_RAZONINSTITUTO, dtype: int64\n",
      "Elementos null/NaN 5245\n",
      "__________________\n",
      "Elementos diferentes de null/NaN: 64490\n",
      "__________________\n",
      "(64490,)\n",
      "None\n"
     ]
    }
   ],
   "source": [
    "print(data_2003['ESTU_RAZONINSTITUTO'].value_counts().sort_index().index)\n",
    "print(data_2003['ESTU_RAZONINSTITUTO'].value_counts().sort_index())\n",
    "print(missing_data(data_2003['ESTU_RAZONINSTITUTO']))"
   ]
  },
  {
   "cell_type": "code",
   "execution_count": 45,
   "metadata": {
    "collapsed": true
   },
   "outputs": [],
   "source": [
    "data_2003['ESTU_RAZONINSTITUTO'] = data_2003['ESTU_RAZONINSTITUTO'].replace('@', 'NaN')\n",
    "data_2003['ESTU_RAZONINSTITUTO'] = data_2003['ESTU_RAZONINSTITUTO'].replace(np.nan, 'NaN')"
   ]
  },
  {
   "cell_type": "code",
   "execution_count": 46,
   "metadata": {
    "collapsed": false,
    "scrolled": true
   },
   "outputs": [
    {
     "name": "stdout",
     "output_type": "stream",
     "text": [
      "Index(['0', '00000', '00009', '01110', '01201', '01815', '03301', '03303',\n",
      "       '04112', '04189',\n",
      "       ...\n",
      "       '@@', '@@  0', '@@  6', '@@  9', '@@ 4', '@@1', '@@106', '@@2', '@@4',\n",
      "       '@@9'],\n",
      "      dtype='object', length=2534)\n",
      "0        5\n",
      "00000    6\n",
      "00009    1\n",
      "01110    1\n",
      "01201    1\n",
      "01815    1\n",
      "03301    1\n",
      "03303    1\n",
      "04112    2\n",
      "04189    1\n",
      "04813    1\n",
      "05114    1\n",
      "05204    1\n",
      "05209    1\n",
      "05223    1\n",
      "05225    1\n",
      "06106    1\n",
      "06209    1\n",
      "06241    1\n",
      "0706     1\n",
      "08038    1\n",
      "08117    1\n",
      "08120    1\n",
      "08151    1\n",
      "08217    2\n",
      "092      1\n",
      "0@6      1\n",
      "1        7\n",
      "1  07    1\n",
      "1  18    1\n",
      "        ..\n",
      "@201     1\n",
      "@212     1\n",
      "@214     1\n",
      "@3310    1\n",
      "@3437    1\n",
      "@4       2\n",
      "@40      1\n",
      "@40 4    1\n",
      "@51 1    1\n",
      "@5201    1\n",
      "@5205    1\n",
      "@553     1\n",
      "@6       1\n",
      "@6241    1\n",
      "@6252    1\n",
      "@6@      1\n",
      "@71 3    1\n",
      "@8109    1\n",
      "@818     1\n",
      "@86      1\n",
      "@@       8\n",
      "@@  0    1\n",
      "@@  6    1\n",
      "@@  9    1\n",
      "@@ 4     1\n",
      "@@1      6\n",
      "@@106    1\n",
      "@@2      1\n",
      "@@4      1\n",
      "@@9      2\n",
      "Name: ESTU_CARRDESEADA_COD, dtype: int64\n",
      "Elementos null/NaN 3802\n",
      "__________________\n",
      "Elementos diferentes de null/NaN: 65933\n",
      "__________________\n",
      "(65933,)\n",
      "None\n"
     ]
    }
   ],
   "source": [
    "print(data_2003['ESTU_CARRDESEADA_COD'].value_counts().sort_index().index)\n",
    "print(data_2003['ESTU_CARRDESEADA_COD'].value_counts().sort_index())\n",
    "print(missing_data(data_2003['ESTU_CARRDESEADA_COD']))"
   ]
  },
  {
   "cell_type": "code",
   "execution_count": 50,
   "metadata": {
    "collapsed": false
   },
   "outputs": [],
   "source": [
    "for i in data_2003['ESTU_CARRDESEADA_COD'].value_counts().sort_index().index:\n",
    "    if '@' in i:\n",
    "        data_2003['ESTU_CARRDESEADA_COD'] = data_2003['ESTU_CARRDESEADA_COD'].replace(i, 'NaN')\n",
    "    elif ' ' in i:\n",
    "        data_2003['ESTU_CARRDESEADA_COD'] = data_2003['ESTU_CARRDESEADA_COD'].replace(i, 'NaN')\n",
    "    elif i != 'NaN':\n",
    "        if int(i) == 0:\n",
    "            data_2003['ESTU_CARRDESEADA_COD'] = data_2003['ESTU_CARRDESEADA_COD'].replace(i, 'NaN')\n",
    "data_2003['ESTU_CARRDESEADA_COD'] = data_2003['ESTU_CARRDESEADA_COD'].replace(np.nan, 'NaN')"
   ]
  },
  {
   "cell_type": "code",
   "execution_count": 52,
   "metadata": {
    "collapsed": false
   },
   "outputs": [
    {
     "name": "stdout",
     "output_type": "stream",
     "text": [
      "Index(['1', '2', '3', '4', '5', '6', '@'], dtype='object')\n",
      "1    18380\n",
      "2    18450\n",
      "3    17124\n",
      "4     5197\n",
      "5     5392\n",
      "6     1620\n",
      "@       28\n",
      "Name: ESTU_CARRDESEADA_RAZON, dtype: int64\n",
      "Elementos null/NaN 3544\n",
      "__________________\n",
      "Elementos diferentes de null/NaN: 66191\n",
      "__________________\n",
      "(66191,)\n",
      "None\n"
     ]
    }
   ],
   "source": [
    "print(data_2003['ESTU_CARRDESEADA_RAZON'].value_counts().sort_index().index)\n",
    "print(data_2003['ESTU_CARRDESEADA_RAZON'].value_counts().sort_index())\n",
    "print(missing_data(data_2003['ESTU_CARRDESEADA_RAZON']))"
   ]
  },
  {
   "cell_type": "code",
   "execution_count": 53,
   "metadata": {
    "collapsed": true
   },
   "outputs": [],
   "source": [
    "data_2003['ESTU_CARRDESEADA_RAZON'] = data_2003['ESTU_CARRDESEADA_RAZON'].replace('@', 'NaN')\n",
    "data_2003['ESTU_CARRDESEADA_RAZON'] = data_2003['ESTU_CARRDESEADA_RAZON'].replace(np.nan, 'NaN')"
   ]
  },
  {
   "cell_type": "code",
   "execution_count": 54,
   "metadata": {
    "collapsed": false
   },
   "outputs": [
    {
     "name": "stdout",
     "output_type": "stream",
     "text": [
      "Index(['+', '1', '2', '3', '4', '5', '6', '7', '8', '9', '@'], dtype='object')\n",
      "+     2225\n",
      "1      331\n",
      "2     2828\n",
      "3     9103\n",
      "4    18484\n",
      "5    16680\n",
      "6     9485\n",
      "7     4990\n",
      "8     2876\n",
      "9     1740\n",
      "@      159\n",
      "Name: FAMI_PERSONAS_HOGAR, dtype: int64\n",
      "Elementos null/NaN 834\n",
      "__________________\n",
      "Elementos diferentes de null/NaN: 68901\n",
      "__________________\n",
      "(68901,)\n",
      "None\n"
     ]
    }
   ],
   "source": [
    "print(data_2003['FAMI_PERSONAS_HOGAR'].value_counts().sort_index().index)\n",
    "print(data_2003['FAMI_PERSONAS_HOGAR'].value_counts().sort_index())\n",
    "print(missing_data(data_2003['FAMI_PERSONAS_HOGAR']))"
   ]
  },
  {
   "cell_type": "code",
   "execution_count": 55,
   "metadata": {
    "collapsed": true
   },
   "outputs": [],
   "source": [
    "data_2003['FAMI_PERSONAS_HOGAR'] = data_2003['FAMI_PERSONAS_HOGAR'].replace('+', '+9')\n",
    "data_2003['FAMI_PERSONAS_HOGAR'] = data_2003['FAMI_PERSONAS_HOGAR'].replace('@', 'NaN')\n",
    "data_2003['FAMI_PERSONAS_HOGAR'] = data_2003['FAMI_PERSONAS_HOGAR'].replace(np.nan, 'NaN')"
   ]
  },
  {
   "cell_type": "code",
   "execution_count": 56,
   "metadata": {
    "collapsed": false
   },
   "outputs": [
    {
     "name": "stdout",
     "output_type": "stream",
     "text": [
      "Index(['*', 'N', 'S'], dtype='object')\n",
      "*        7\n",
      "N    21236\n",
      "S    46009\n",
      "Name: FAMI_VIVIENDA_PROPIA, dtype: int64\n",
      "Elementos null/NaN 2483\n",
      "__________________\n",
      "Elementos diferentes de null/NaN: 67252\n",
      "__________________\n",
      "(67252,)\n",
      "None\n"
     ]
    }
   ],
   "source": [
    "print(data_2003['FAMI_VIVIENDA_PROPIA'].value_counts().sort_index().index)\n",
    "print(data_2003['FAMI_VIVIENDA_PROPIA'].value_counts().sort_index())\n",
    "print(missing_data(data_2003['FAMI_VIVIENDA_PROPIA']))"
   ]
  },
  {
   "cell_type": "code",
   "execution_count": 57,
   "metadata": {
    "collapsed": true
   },
   "outputs": [],
   "source": [
    "data_2003['FAMI_VIVIENDA_PROPIA'] = data_2003['FAMI_VIVIENDA_PROPIA'].replace('*', 'NaN')\n",
    "data_2003['FAMI_VIVIENDA_PROPIA'] = data_2003['FAMI_VIVIENDA_PROPIA'].replace(np.nan, 'NaN')"
   ]
  },
  {
   "cell_type": "code",
   "execution_count": null,
   "metadata": {
    "collapsed": true
   },
   "outputs": [],
   "source": [
    "print(data_2003['FAMI_DEUDA_VIVIENDA'].value_counts().sort_index().index)\n",
    "print(data_2003['FAMI_DEUDA_VIVIENDA'].value_counts().sort_index())\n",
    "print(missing_data(data_2003['FAMI_DEUDA_VIVIENDA']))"
   ]
  },
  {
   "cell_type": "code",
   "execution_count": null,
   "metadata": {
    "collapsed": true
   },
   "outputs": [],
   "source": [
    "data_2003[''] = data_2003[''].replace(, 'NaN')"
   ]
  },
  {
   "cell_type": "code",
   "execution_count": null,
   "metadata": {
    "collapsed": true
   },
   "outputs": [],
   "source": [
    "print(data_2003['FAMI_APORTANTES'].value_counts().sort_index().index)\n",
    "print(data_2003['FAMI_APORTANTES'].value_counts().sort_index())\n",
    "print(missing_data(data_2003['FAMI_APORTANTES']))"
   ]
  },
  {
   "cell_type": "code",
   "execution_count": null,
   "metadata": {
    "collapsed": true
   },
   "outputs": [],
   "source": [
    "data_2003[''] = data_2003[''].replace(, 'NaN')"
   ]
  },
  {
   "cell_type": "code",
   "execution_count": null,
   "metadata": {
    "collapsed": true
   },
   "outputs": [],
   "source": [
    "print(data_2003['FAMI_INGRESO_FMILIAR_MENSUAL'].value_counts().sort_index().index)\n",
    "print(data_2003['FAMI_INGRESO_FMILIAR_MENSUAL'].value_counts().sort_index())\n",
    "print(missing_data(data_2003['FAMI_INGRESO_FMILIAR_MENSUAL']))"
   ]
  },
  {
   "cell_type": "code",
   "execution_count": null,
   "metadata": {
    "collapsed": true
   },
   "outputs": [],
   "source": [
    "data_2003[''] = data_2003[''].replace(, 'NaN')"
   ]
  },
  {
   "cell_type": "code",
   "execution_count": null,
   "metadata": {
    "collapsed": true
   },
   "outputs": [],
   "source": [
    "print(data_2003['FAMI_LEE_ESCRIBE_PADRE'].value_counts().sort_index().index)\n",
    "print(data_2003['FAMI_LEE_ESCRIBE_PADRE'].value_counts().sort_index())\n",
    "print(missing_data(data_2003['FAMI_LEE_ESCRIBE_PADRE']))"
   ]
  },
  {
   "cell_type": "code",
   "execution_count": null,
   "metadata": {
    "collapsed": true
   },
   "outputs": [],
   "source": [
    "data_2003[''] = data_2003[''].replace(, 'NaN')"
   ]
  },
  {
   "cell_type": "code",
   "execution_count": null,
   "metadata": {
    "collapsed": true
   },
   "outputs": [],
   "source": [
    "print(data_2003['FAMI_LEE_ESCRIBE_MADRE'].value_counts().sort_index().index)\n",
    "print(data_2003['FAMI_LEE_ESCRIBE_MADRE'].value_counts().sort_index())\n",
    "print(missing_data(data_2003['FAMI_LEE_ESCRIBE_MADRE']))"
   ]
  },
  {
   "cell_type": "code",
   "execution_count": null,
   "metadata": {
    "collapsed": true
   },
   "outputs": [],
   "source": [
    "data_2003[''] = data_2003[''].replace(, 'NaN')"
   ]
  },
  {
   "cell_type": "code",
   "execution_count": null,
   "metadata": {
    "collapsed": true
   },
   "outputs": [],
   "source": [
    "print(data_2003['FAMI_EDUCA_PADRE'].value_counts().sort_index().index)\n",
    "print(data_2003['FAMI_EDUCA_PADRE'].value_counts().sort_index())\n",
    "print(missing_data(data_2003['FAMI_EDUCA_PADRE']))"
   ]
  },
  {
   "cell_type": "code",
   "execution_count": null,
   "metadata": {
    "collapsed": true
   },
   "outputs": [],
   "source": [
    "data_2003[''] = data_2003[''].replace(, 'NaN')"
   ]
  },
  {
   "cell_type": "code",
   "execution_count": null,
   "metadata": {
    "collapsed": true
   },
   "outputs": [],
   "source": [
    "print(data_2003['FAMI_EDUCA_MADRE'].value_counts().sort_index().index)\n",
    "print(data_2003['FAMI_EDUCA_MADRE'].value_counts().sort_index())\n",
    "print(missing_data(data_2003['FAMI_EDUCA_MADRE']))"
   ]
  },
  {
   "cell_type": "code",
   "execution_count": null,
   "metadata": {
    "collapsed": true
   },
   "outputs": [],
   "source": [
    "data_2003[''] = data_2003[''].replace(, 'NaN')"
   ]
  },
  {
   "cell_type": "code",
   "execution_count": null,
   "metadata": {
    "collapsed": true
   },
   "outputs": [],
   "source": [
    "print(data_2003['FAMI_OCUPA_PADRE'].value_counts().sort_index().index)\n",
    "print(data_2003['FAMI_OCUPA_PADRE'].value_counts().sort_index())\n",
    "print(missing_data(data_2003['FAMI_OCUPA_PADRE']))"
   ]
  },
  {
   "cell_type": "code",
   "execution_count": null,
   "metadata": {
    "collapsed": true
   },
   "outputs": [],
   "source": [
    "data_2003[''] = data_2003[''].replace(, 'NaN')"
   ]
  },
  {
   "cell_type": "code",
   "execution_count": null,
   "metadata": {
    "collapsed": true
   },
   "outputs": [],
   "source": [
    "print(data_2003['FAMI_OCUPA_MADRE'].value_counts().sort_index().index)\n",
    "print(data_2003['FAMI_OCUPA_MADRE'].value_counts().sort_index())\n",
    "print(missing_data(data_2003['FAMI_OCUPA_MADRE']))"
   ]
  },
  {
   "cell_type": "code",
   "execution_count": null,
   "metadata": {
    "collapsed": true
   },
   "outputs": [],
   "source": [
    "data_2003[''] = data_2003[''].replace(, 'NaN')"
   ]
  },
  {
   "cell_type": "code",
   "execution_count": null,
   "metadata": {
    "collapsed": true
   },
   "outputs": [],
   "source": [
    "print(data_2003['FAMI_NUM_HERMANOS'].value_counts().sort_index().index)\n",
    "print(data_2003['FAMI_NUM_HERMANOS'].value_counts().sort_index())\n",
    "print(missing_data(data_2003['FAMI_NUM_HERMANOS']))"
   ]
  },
  {
   "cell_type": "code",
   "execution_count": null,
   "metadata": {
    "collapsed": true
   },
   "outputs": [],
   "source": [
    "data_2003[''] = data_2003[''].replace(, 'NaN')"
   ]
  },
  {
   "cell_type": "code",
   "execution_count": null,
   "metadata": {
    "collapsed": true
   },
   "outputs": [],
   "source": [
    "print(data_2003['FAMI_NUM_HERMANOS_EDUSUPERIOR'].value_counts().sort_index().index)\n",
    "print(data_2003['FAMI_NUM_HERMANOS_EDUSUPERIOR'].value_counts().sort_index())\n",
    "print(missing_data(data_2003['FAMI_NUM_HERMANOS_EDUSUPERIOR']))"
   ]
  },
  {
   "cell_type": "code",
   "execution_count": null,
   "metadata": {
    "collapsed": true
   },
   "outputs": [],
   "source": [
    "data_2003[''] = data_2003[''].replace(, 'NaN')"
   ]
  },
  {
   "cell_type": "code",
   "execution_count": null,
   "metadata": {
    "collapsed": true
   },
   "outputs": [],
   "source": [
    "print(data_2003['FAMI_POSICION_HERMANOS'].value_counts().sort_index().index)\n",
    "print(data_2003['FAMI_POSICION_HERMANOS'].value_counts().sort_index())\n",
    "print(missing_data(data_2003['FAMI_POSICION_HERMANOS']))"
   ]
  },
  {
   "cell_type": "code",
   "execution_count": null,
   "metadata": {
    "collapsed": true
   },
   "outputs": [],
   "source": [
    "data_2003[''] = data_2003[''].replace(, 'NaN')"
   ]
  },
  {
   "cell_type": "code",
   "execution_count": null,
   "metadata": {
    "collapsed": true
   },
   "outputs": [],
   "source": [
    "print(data_2003['FAMI_SOST_PERSONAL'].value_counts().sort_index().index)\n",
    "print(data_2003['FAMI_SOST_PERSONAL'].value_counts().sort_index())\n",
    "print(missing_data(data_2003['FAMI_SOST_PERSONAL']))"
   ]
  },
  {
   "cell_type": "code",
   "execution_count": null,
   "metadata": {
    "collapsed": true
   },
   "outputs": [],
   "source": [
    "data_2003[''] = data_2003[''].replace(, 'NaN')"
   ]
  },
  {
   "cell_type": "code",
   "execution_count": null,
   "metadata": {
    "collapsed": true
   },
   "outputs": [],
   "source": [
    "print(data_2003['ESTU_TRABAJA'].value_counts().sort_index().index)\n",
    "print(data_2003['ESTU_TRABAJA'].value_counts().sort_index())\n",
    "print(missing_data(data_2003['ESTU_TRABAJA']))"
   ]
  },
  {
   "cell_type": "code",
   "execution_count": null,
   "metadata": {
    "collapsed": true
   },
   "outputs": [],
   "source": [
    "data_2003[''] = data_2003[''].replace(, 'NaN')"
   ]
  },
  {
   "cell_type": "code",
   "execution_count": null,
   "metadata": {
    "collapsed": true
   },
   "outputs": [],
   "source": [
    "print(data_2003['ESTU_ACT_PROX_ANNO'].value_counts().sort_index().index)\n",
    "print(data_2003['ESTU_ACT_PROX_ANNO'].value_counts().sort_index())\n",
    "print(missing_data(data_2003['ESTU_ACT_PROX_ANNO']))"
   ]
  },
  {
   "cell_type": "code",
   "execution_count": null,
   "metadata": {
    "collapsed": true
   },
   "outputs": [],
   "source": [
    "data_2003[''] = data_2003[''].replace(, 'NaN')"
   ]
  },
  {
   "cell_type": "code",
   "execution_count": null,
   "metadata": {
    "collapsed": true
   },
   "outputs": [],
   "source": [
    "print(data_2003['COLE_CALENDARIO'].value_counts().sort_index().index)\n",
    "print(data_2003['COLE_CALENDARIO'].value_counts().sort_index())\n",
    "print(missing_data(data_2003['COLE_CALENDARIO']))"
   ]
  },
  {
   "cell_type": "code",
   "execution_count": null,
   "metadata": {
    "collapsed": true
   },
   "outputs": [],
   "source": [
    "data_2003[''] = data_2003[''].replace(, 'NaN')"
   ]
  },
  {
   "cell_type": "code",
   "execution_count": null,
   "metadata": {
    "collapsed": true
   },
   "outputs": [],
   "source": [
    "print(data_2003['COLE_BILINGUE'].value_counts().sort_index().index)\n",
    "print(data_2003['COLE_BILINGUE'].value_counts().sort_index())\n",
    "print(missing_data(data_2003['COLE_BILINGUE']))"
   ]
  },
  {
   "cell_type": "code",
   "execution_count": null,
   "metadata": {
    "collapsed": true
   },
   "outputs": [],
   "source": [
    "data_2003[''] = data_2003[''].replace(, 'NaN')"
   ]
  },
  {
   "cell_type": "code",
   "execution_count": null,
   "metadata": {
    "collapsed": true
   },
   "outputs": [],
   "source": [
    "print(data_2003['COLE_CARACTER'].value_counts().sort_index().index)\n",
    "print(data_2003['COLE_CARACTER'].value_counts().sort_index())\n",
    "print(missing_data(data_2003['COLE_CARACTER']))"
   ]
  },
  {
   "cell_type": "code",
   "execution_count": null,
   "metadata": {
    "collapsed": true
   },
   "outputs": [],
   "source": [
    "data_2003[''] = data_2003[''].replace(, 'NaN')"
   ]
  },
  {
   "cell_type": "code",
   "execution_count": null,
   "metadata": {
    "collapsed": true
   },
   "outputs": [],
   "source": [
    "print(data_2003['COLE_DEPTO_UBICACION'].value_counts().sort_index().index)\n",
    "print(data_2003['COLE_DEPTO_UBICACION'].value_counts().sort_index())\n",
    "print(missing_data(data_2003['COLE_DEPTO_UBICACION']))"
   ]
  },
  {
   "cell_type": "code",
   "execution_count": null,
   "metadata": {
    "collapsed": true
   },
   "outputs": [],
   "source": [
    "data_2003[''] = data_2003[''].replace(, 'NaN')"
   ]
  },
  {
   "cell_type": "code",
   "execution_count": null,
   "metadata": {
    "collapsed": true
   },
   "outputs": [],
   "source": [
    "print(data_2003['COLE_MCPIO_UBICACION'].value_counts().sort_index().index)\n",
    "print(data_2003['COLE_MCPIO_UBICACION'].value_counts().sort_index())\n",
    "print(missing_data(data_2003['COLE_MCPIO_UBICACION']))"
   ]
  },
  {
   "cell_type": "code",
   "execution_count": null,
   "metadata": {
    "collapsed": true
   },
   "outputs": [],
   "source": [
    "data_2003[''] = data_2003[''].replace(, 'NaN')"
   ]
  },
  {
   "cell_type": "code",
   "execution_count": null,
   "metadata": {
    "collapsed": true
   },
   "outputs": [],
   "source": [
    "print(data_2003['ESTU_RESIDE_DEPTO'].value_counts().sort_index().index)\n",
    "print(data_2003['ESTU_RESIDE_DEPTO'].value_counts().sort_index())\n",
    "print(missing_data(data_2003['ESTU_RESIDE_DEPTO']))"
   ]
  },
  {
   "cell_type": "code",
   "execution_count": null,
   "metadata": {
    "collapsed": true
   },
   "outputs": [],
   "source": [
    "data_2003[''] = data_2003[''].replace(, 'NaN')"
   ]
  },
  {
   "cell_type": "code",
   "execution_count": null,
   "metadata": {
    "collapsed": true
   },
   "outputs": [],
   "source": [
    "print(data_2003['ESTU_RESIDE_MCPIO'].value_counts().sort_index().index)\n",
    "print(data_2003['ESTU_RESIDE_MCPIO'].value_counts().sort_index())\n",
    "print(missing_data(data_2003['ESTU_RESIDE_MCPIO']))"
   ]
  },
  {
   "cell_type": "code",
   "execution_count": null,
   "metadata": {
    "collapsed": true
   },
   "outputs": [],
   "source": [
    "data_2003[''] = data_2003[''].replace(, 'NaN')"
   ]
  },
  {
   "cell_type": "markdown",
   "metadata": {},
   "source": [
    "### TARGETS"
   ]
  },
  {
   "cell_type": "code",
   "execution_count": null,
   "metadata": {
    "collapsed": true
   },
   "outputs": [],
   "source": [
    "print(data_2003['PUNT_BIOLOGIA'].value_counts().sort_index().index)\n",
    "print(data_2003['PUNT_BIOLOGIA'].value_counts().sort_index())\n",
    "print(missing_data(data_2003['PUNT_BIOLOGIA']))"
   ]
  },
  {
   "cell_type": "code",
   "execution_count": null,
   "metadata": {
    "collapsed": true
   },
   "outputs": [],
   "source": [
    "data_2003[''] = data_2003[''].replace(, 'NaN')"
   ]
  },
  {
   "cell_type": "code",
   "execution_count": null,
   "metadata": {
    "collapsed": true
   },
   "outputs": [],
   "source": [
    "print(data_2003['PUNT_MATEMATICAS'].value_counts().sort_index().index)\n",
    "print(data_2003['PUNT_MATEMATICAS'].value_counts().sort_index())\n",
    "print(missing_data(data_2003['PUNT_MATEMATICAS']))"
   ]
  },
  {
   "cell_type": "code",
   "execution_count": null,
   "metadata": {
    "collapsed": true
   },
   "outputs": [],
   "source": [
    "data_2003[''] = data_2003[''].replace(, 'NaN')"
   ]
  },
  {
   "cell_type": "code",
   "execution_count": null,
   "metadata": {
    "collapsed": true
   },
   "outputs": [],
   "source": [
    "print(data_2003['PUNT_FILOSOFIA'].value_counts().sort_index().index)\n",
    "print(data_2003['PUNT_FILOSOFIA'].value_counts().sort_index())\n",
    "print(missing_data(data_2003['PUNT_FILOSOFIA']))"
   ]
  },
  {
   "cell_type": "code",
   "execution_count": null,
   "metadata": {
    "collapsed": true
   },
   "outputs": [],
   "source": [
    "data_2003[''] = data_2003[''].replace(, 'NaN')"
   ]
  },
  {
   "cell_type": "code",
   "execution_count": null,
   "metadata": {
    "collapsed": true
   },
   "outputs": [],
   "source": [
    "print(data_2003['PUNT_FISICA'].value_counts().sort_index().index)\n",
    "print(data_2003['PUNT_FISICA'].value_counts().sort_index())\n",
    "print(missing_data(data_2003['PUNT_FISICA']))"
   ]
  },
  {
   "cell_type": "code",
   "execution_count": null,
   "metadata": {
    "collapsed": true
   },
   "outputs": [],
   "source": [
    "data_2003[''] = data_2003[''].replace(, 'NaN')"
   ]
  },
  {
   "cell_type": "code",
   "execution_count": null,
   "metadata": {
    "collapsed": true
   },
   "outputs": [],
   "source": [
    "print(data_2003['PUNT_HISTORIA'].value_counts().sort_index().index)\n",
    "print(data_2003['PUNT_HISTORIA'].value_counts().sort_index())\n",
    "print(missing_data(data_2003['PUNT_HISTORIA']))"
   ]
  },
  {
   "cell_type": "code",
   "execution_count": null,
   "metadata": {
    "collapsed": true
   },
   "outputs": [],
   "source": [
    "data_2003[''] = data_2003[''].replace(, 'NaN')"
   ]
  },
  {
   "cell_type": "code",
   "execution_count": null,
   "metadata": {
    "collapsed": true
   },
   "outputs": [],
   "source": [
    "print(data_2003['PUNT_QUIMICA'].value_counts().sort_index().index)\n",
    "print(data_2003['PUNT_QUIMICA'].value_counts().sort_index())\n",
    "print(missing_data(data_2003['PUNT_QUIMICA']))"
   ]
  },
  {
   "cell_type": "code",
   "execution_count": null,
   "metadata": {
    "collapsed": true
   },
   "outputs": [],
   "source": [
    "data_2003[''] = data_2003[''].replace(, 'NaN')"
   ]
  },
  {
   "cell_type": "code",
   "execution_count": null,
   "metadata": {
    "collapsed": true
   },
   "outputs": [],
   "source": [
    "print(data_2003['PUNT_LENGUAJE'].value_counts().sort_index().index)\n",
    "print(data_2003['PUNT_LENGUAJE'].value_counts().sort_index())\n",
    "print(missing_data(data_2003['PUNT_LENGUAJE']))"
   ]
  },
  {
   "cell_type": "code",
   "execution_count": null,
   "metadata": {
    "collapsed": true
   },
   "outputs": [],
   "source": [
    "data_2003[''] = data_2003[''].replace(, 'NaN')"
   ]
  },
  {
   "cell_type": "code",
   "execution_count": null,
   "metadata": {
    "collapsed": true
   },
   "outputs": [],
   "source": [
    "print(data_2003['PUNT_GEOGRAFIA'].value_counts().sort_index().index)\n",
    "print(data_2003['PUNT_GEOGRAFIA'].value_counts().sort_index())\n",
    "print(missing_data(data_2003['PUNT_GEOGRAFIA']))"
   ]
  },
  {
   "cell_type": "code",
   "execution_count": null,
   "metadata": {
    "collapsed": true
   },
   "outputs": [],
   "source": [
    "data_2003[''] = data_2003[''].replace(, 'NaN')"
   ]
  },
  {
   "cell_type": "code",
   "execution_count": null,
   "metadata": {
    "collapsed": true
   },
   "outputs": [],
   "source": [
    "print(data_2003['COD_INTERDISCIPLINAR'].value_counts().sort_index().index)\n",
    "print(data_2003['COD_INTERDISCIPLINAR'].value_counts().sort_index())\n",
    "print(missing_data(data_2003['COD_INTERDISCIPLINAR']))"
   ]
  },
  {
   "cell_type": "code",
   "execution_count": null,
   "metadata": {
    "collapsed": true
   },
   "outputs": [],
   "source": [
    "data_2003[''] = data_2003[''].replace(, 'NaN')"
   ]
  },
  {
   "cell_type": "code",
   "execution_count": null,
   "metadata": {
    "collapsed": true
   },
   "outputs": [],
   "source": [
    "print(data_2003['PUNT_INTERDISCIPLINAR'].value_counts().sort_index().index)\n",
    "print(data_2003['PUNT_INTERDISCIPLINAR'].value_counts().sort_index())\n",
    "print(missing_data(data_2003['PUNT_INTERDISCIPLINAR']))"
   ]
  },
  {
   "cell_type": "code",
   "execution_count": null,
   "metadata": {
    "collapsed": true
   },
   "outputs": [],
   "source": [
    "data_2003[''] = data_2003[''].replace(, 'NaN')"
   ]
  },
  {
   "cell_type": "code",
   "execution_count": null,
   "metadata": {
    "collapsed": true
   },
   "outputs": [],
   "source": [
    "print(data_2003['COD_IDIOMA'].value_counts().sort_index().index)\n",
    "print(data_2003['COD_IDIOMA'].value_counts().sort_index())\n",
    "print(missing_data(data_2003['COD_IDIOMA']))"
   ]
  },
  {
   "cell_type": "code",
   "execution_count": null,
   "metadata": {
    "collapsed": true
   },
   "outputs": [],
   "source": [
    "data_2003[''] = data_2003[''].replace(, 'NaN')"
   ]
  },
  {
   "cell_type": "code",
   "execution_count": null,
   "metadata": {
    "collapsed": true
   },
   "outputs": [],
   "source": [
    "print(data_2003['PUNT_IDIOMA'].value_counts().sort_index().index)\n",
    "print(data_2003['PUNT_IDIOMA'].value_counts().sort_index())\n",
    "print(missing_data(data_2003['PUNT_IDIOMA']))"
   ]
  },
  {
   "cell_type": "code",
   "execution_count": null,
   "metadata": {
    "collapsed": true
   },
   "outputs": [],
   "source": [
    "data_2003[''] = data_2003[''].replace(, 'NaN')"
   ]
  },
  {
   "cell_type": "markdown",
   "metadata": {},
   "source": [
    "# FILE 2 -> 2003_2"
   ]
  },
  {
   "cell_type": "code",
   "execution_count": 9,
   "metadata": {
    "collapsed": false
   },
   "outputs": [
    {
     "name": "stderr",
     "output_type": "stream",
     "text": [
      "/usr/local/anaconda3/lib/python3.5/site-packages/IPython/core/interactiveshell.py:2723: DtypeWarning: Columns (3,5,9,12,13,14,15,16,17,19,20,21,22,23,25,27,29,31,36,48) have mixed types. Specify dtype option on import or set low_memory=False.\n",
      "  interactivity=interactivity, compiler=compiler, result=result)\n"
     ]
    }
   ],
   "source": [
    "data_2003_2 = pd.read_csv('../DatosFTPICFES/SABER11/SB11-BASES_DE_DATOS/SB11-20032-RGSTRO-CLFCCN-V1-0.txt', delimiter = '|',\n",
    "                         encoding = \"iso-8859-1\")"
   ]
  },
  {
   "cell_type": "code",
   "execution_count": 10,
   "metadata": {
    "collapsed": false
   },
   "outputs": [
    {
     "data": {
      "text/plain": [
       "(354700, 57)"
      ]
     },
     "execution_count": 10,
     "metadata": {},
     "output_type": "execute_result"
    }
   ],
   "source": [
    "data_2003_2.shape"
   ]
  },
  {
   "cell_type": "code",
   "execution_count": 11,
   "metadata": {
    "collapsed": false,
    "scrolled": true
   },
   "outputs": [
    {
     "data": {
      "text/html": [
       "<div>\n",
       "<table border=\"1\" class=\"dataframe\">\n",
       "  <thead>\n",
       "    <tr style=\"text-align: right;\">\n",
       "      <th></th>\n",
       "      <th>0</th>\n",
       "      <th>1</th>\n",
       "      <th>2</th>\n",
       "    </tr>\n",
       "  </thead>\n",
       "  <tbody>\n",
       "    <tr>\n",
       "      <th>ESTU_CONSECUTIVO</th>\n",
       "      <td>SB11200320000001</td>\n",
       "      <td>SB11200320000002</td>\n",
       "      <td>SB11200320000003</td>\n",
       "    </tr>\n",
       "    <tr>\n",
       "      <th>COLE_COD_ICFES</th>\n",
       "      <td>27714</td>\n",
       "      <td>101865</td>\n",
       "      <td>59</td>\n",
       "    </tr>\n",
       "    <tr>\n",
       "      <th>COLE_NOMBRE_SEDE</th>\n",
       "      <td>INSTITUCION EDUCATIVA EXTERNADO PATRIA</td>\n",
       "      <td>COLEGIO GABRIEL RESTREPO MORENO</td>\n",
       "      <td>CENTRO FORMATIVO DE ANTIOQUIA CEFA</td>\n",
       "    </tr>\n",
       "    <tr>\n",
       "      <th>IND_ANNO_TERMINO_BACHILLERATO</th>\n",
       "      <td>2003</td>\n",
       "      <td>2003</td>\n",
       "      <td>2003</td>\n",
       "    </tr>\n",
       "    <tr>\n",
       "      <th>COLE_JORNADA</th>\n",
       "      <td>M</td>\n",
       "      <td>T</td>\n",
       "      <td>M</td>\n",
       "    </tr>\n",
       "    <tr>\n",
       "      <th>COLE_VALOR_PENSION</th>\n",
       "      <td>8</td>\n",
       "      <td>8</td>\n",
       "      <td>8</td>\n",
       "    </tr>\n",
       "    <tr>\n",
       "      <th>ESTU_GENERO</th>\n",
       "      <td>M</td>\n",
       "      <td>M</td>\n",
       "      <td>F</td>\n",
       "    </tr>\n",
       "    <tr>\n",
       "      <th>ESTU_NACIMIENTO_DIA</th>\n",
       "      <td>11</td>\n",
       "      <td>13</td>\n",
       "      <td>2</td>\n",
       "    </tr>\n",
       "    <tr>\n",
       "      <th>ESTU_NACIMIENTO_MES</th>\n",
       "      <td>5</td>\n",
       "      <td>3</td>\n",
       "      <td>1</td>\n",
       "    </tr>\n",
       "    <tr>\n",
       "      <th>ESTU_NACIMIENTO_ANNO</th>\n",
       "      <td>1986</td>\n",
       "      <td>1984</td>\n",
       "      <td>1985</td>\n",
       "    </tr>\n",
       "    <tr>\n",
       "      <th>ESTU_DEPTO_PRESENTACION</th>\n",
       "      <td>ANTIOQUIA</td>\n",
       "      <td>ANTIOQUIA</td>\n",
       "      <td>ANTIOQUIA</td>\n",
       "    </tr>\n",
       "    <tr>\n",
       "      <th>ESTU_MCPIO_PRESENTACION</th>\n",
       "      <td>MEDELLIN</td>\n",
       "      <td>MEDELLIN</td>\n",
       "      <td>MEDELLIN</td>\n",
       "    </tr>\n",
       "    <tr>\n",
       "      <th>ESTU_LIMITA_INVIDENTE</th>\n",
       "      <td>NaN</td>\n",
       "      <td>NaN</td>\n",
       "      <td>NaN</td>\n",
       "    </tr>\n",
       "    <tr>\n",
       "      <th>ESTU_LIMITA_SORDOINTERPRETE</th>\n",
       "      <td>NaN</td>\n",
       "      <td>NaN</td>\n",
       "      <td>NaN</td>\n",
       "    </tr>\n",
       "    <tr>\n",
       "      <th>ESTU_LIMITA_SORDONOINTERPRETE</th>\n",
       "      <td>NaN</td>\n",
       "      <td>NaN</td>\n",
       "      <td>NaN</td>\n",
       "    </tr>\n",
       "    <tr>\n",
       "      <th>ESTU_LIMITA_MOTRIZ</th>\n",
       "      <td>NaN</td>\n",
       "      <td>NaN</td>\n",
       "      <td>NaN</td>\n",
       "    </tr>\n",
       "    <tr>\n",
       "      <th>PUNT_BIOLOGIA</th>\n",
       "      <td>53</td>\n",
       "      <td>45</td>\n",
       "      <td>56</td>\n",
       "    </tr>\n",
       "    <tr>\n",
       "      <th>PUNT_MATEMATICAS</th>\n",
       "      <td>39</td>\n",
       "      <td>47</td>\n",
       "      <td>44</td>\n",
       "    </tr>\n",
       "    <tr>\n",
       "      <th>PUNT_FILOSOFIA</th>\n",
       "      <td>41</td>\n",
       "      <td>48</td>\n",
       "      <td>45</td>\n",
       "    </tr>\n",
       "    <tr>\n",
       "      <th>PUNT_FISICA</th>\n",
       "      <td>46</td>\n",
       "      <td>48</td>\n",
       "      <td>44</td>\n",
       "    </tr>\n",
       "    <tr>\n",
       "      <th>PUNT_HISTORIA</th>\n",
       "      <td>38</td>\n",
       "      <td>36</td>\n",
       "      <td>52</td>\n",
       "    </tr>\n",
       "    <tr>\n",
       "      <th>PUNT_QUIMICA</th>\n",
       "      <td>38</td>\n",
       "      <td>44</td>\n",
       "      <td>52</td>\n",
       "    </tr>\n",
       "    <tr>\n",
       "      <th>PUNT_LENGUAJE</th>\n",
       "      <td>37</td>\n",
       "      <td>46</td>\n",
       "      <td>58</td>\n",
       "    </tr>\n",
       "    <tr>\n",
       "      <th>PUNT_GEOGRAFIA</th>\n",
       "      <td>32</td>\n",
       "      <td>39</td>\n",
       "      <td>53</td>\n",
       "    </tr>\n",
       "    <tr>\n",
       "      <th>COD_INTERDISCIPLINAR</th>\n",
       "      <td>43</td>\n",
       "      <td>43</td>\n",
       "      <td>43</td>\n",
       "    </tr>\n",
       "    <tr>\n",
       "      <th>PUNT_INTERDISCIPLINAR</th>\n",
       "      <td>55</td>\n",
       "      <td>55</td>\n",
       "      <td>45</td>\n",
       "    </tr>\n",
       "    <tr>\n",
       "      <th>COD_IDIOMA</th>\n",
       "      <td>51</td>\n",
       "      <td>51</td>\n",
       "      <td>51</td>\n",
       "    </tr>\n",
       "    <tr>\n",
       "      <th>PUNT_IDIOMA</th>\n",
       "      <td>41</td>\n",
       "      <td>38</td>\n",
       "      <td>34</td>\n",
       "    </tr>\n",
       "    <tr>\n",
       "      <th>ESTU_IES_COD_DESEADA</th>\n",
       "      <td>1201</td>\n",
       "      <td>1201</td>\n",
       "      <td>1201</td>\n",
       "    </tr>\n",
       "    <tr>\n",
       "      <th>ESTU_RAZONINSTITUTO</th>\n",
       "      <td>7</td>\n",
       "      <td>7</td>\n",
       "      <td>5</td>\n",
       "    </tr>\n",
       "    <tr>\n",
       "      <th>ESTU_CARRDESEADA_COD</th>\n",
       "      <td>41201</td>\n",
       "      <td>43917</td>\n",
       "      <td>44111</td>\n",
       "    </tr>\n",
       "    <tr>\n",
       "      <th>ESTU_CARRDESEADA_RAZON</th>\n",
       "      <td>2</td>\n",
       "      <td>1</td>\n",
       "      <td>2</td>\n",
       "    </tr>\n",
       "    <tr>\n",
       "      <th>FAMI_PERSONAS_HOGAR</th>\n",
       "      <td>8</td>\n",
       "      <td>8</td>\n",
       "      <td>5</td>\n",
       "    </tr>\n",
       "    <tr>\n",
       "      <th>FAMI_VIVIENDA_PROPIA</th>\n",
       "      <td>N</td>\n",
       "      <td>S</td>\n",
       "      <td>N</td>\n",
       "    </tr>\n",
       "    <tr>\n",
       "      <th>FAMI_DEUDA_VIVIENDA</th>\n",
       "      <td>NaN</td>\n",
       "      <td>N</td>\n",
       "      <td>NaN</td>\n",
       "    </tr>\n",
       "    <tr>\n",
       "      <th>FAMI_APORTANTES</th>\n",
       "      <td>3</td>\n",
       "      <td>2</td>\n",
       "      <td>1</td>\n",
       "    </tr>\n",
       "    <tr>\n",
       "      <th>FAMI_INGRESO_FMILIAR_MENSUAL</th>\n",
       "      <td>1</td>\n",
       "      <td>0</td>\n",
       "      <td>1</td>\n",
       "    </tr>\n",
       "    <tr>\n",
       "      <th>FAMI_LEE_ESCRIBE_PADRE</th>\n",
       "      <td>S</td>\n",
       "      <td>NaN</td>\n",
       "      <td>S</td>\n",
       "    </tr>\n",
       "    <tr>\n",
       "      <th>FAMI_LEE_ESCRIBE_MADRE</th>\n",
       "      <td>S</td>\n",
       "      <td>NaN</td>\n",
       "      <td>S</td>\n",
       "    </tr>\n",
       "    <tr>\n",
       "      <th>FAMI_EDUCA_PADRE</th>\n",
       "      <td>3</td>\n",
       "      <td>NaN</td>\n",
       "      <td>4</td>\n",
       "    </tr>\n",
       "    <tr>\n",
       "      <th>FAMI_EDUCA_MADRE</th>\n",
       "      <td>1</td>\n",
       "      <td>NaN</td>\n",
       "      <td>4</td>\n",
       "    </tr>\n",
       "    <tr>\n",
       "      <th>FAMI_OCUPA_PADRE</th>\n",
       "      <td>09</td>\n",
       "      <td>NaN</td>\n",
       "      <td>06</td>\n",
       "    </tr>\n",
       "    <tr>\n",
       "      <th>FAMI_OCUPA_MADRE</th>\n",
       "      <td>10</td>\n",
       "      <td>NaN</td>\n",
       "      <td>05</td>\n",
       "    </tr>\n",
       "    <tr>\n",
       "      <th>FAMI_NUM_HERMANOS</th>\n",
       "      <td>1</td>\n",
       "      <td>3</td>\n",
       "      <td>3</td>\n",
       "    </tr>\n",
       "    <tr>\n",
       "      <th>FAMI_NUM_HERMANOS_EDUSUPERIOR</th>\n",
       "      <td>1</td>\n",
       "      <td>0</td>\n",
       "      <td>0</td>\n",
       "    </tr>\n",
       "    <tr>\n",
       "      <th>FAMI_POSICION_HERMANOS</th>\n",
       "      <td>2</td>\n",
       "      <td>1</td>\n",
       "      <td>3</td>\n",
       "    </tr>\n",
       "    <tr>\n",
       "      <th>FAMI_SOST_PERSONAL</th>\n",
       "      <td>NaN</td>\n",
       "      <td>T</td>\n",
       "      <td>T</td>\n",
       "    </tr>\n",
       "    <tr>\n",
       "      <th>ESTU_TRABAJA</th>\n",
       "      <td>N</td>\n",
       "      <td>S</td>\n",
       "      <td>N</td>\n",
       "    </tr>\n",
       "    <tr>\n",
       "      <th>ESTU_ACT_PROX_ANNO</th>\n",
       "      <td>3</td>\n",
       "      <td>3</td>\n",
       "      <td>1</td>\n",
       "    </tr>\n",
       "    <tr>\n",
       "      <th>COLE_CALENDARIO</th>\n",
       "      <td>A</td>\n",
       "      <td>F</td>\n",
       "      <td>A</td>\n",
       "    </tr>\n",
       "    <tr>\n",
       "      <th>COLE_BILINGUE</th>\n",
       "      <td>NaN</td>\n",
       "      <td>NaN</td>\n",
       "      <td>NaN</td>\n",
       "    </tr>\n",
       "    <tr>\n",
       "      <th>COLE_CARACTER</th>\n",
       "      <td>ACADEMICO</td>\n",
       "      <td>ACADEMICO</td>\n",
       "      <td>ACADEMICO Y TECNICO</td>\n",
       "    </tr>\n",
       "    <tr>\n",
       "      <th>COLE_DEPTO_UBICACION</th>\n",
       "      <td>ANTIOQUIA</td>\n",
       "      <td>ANTIOQUIA</td>\n",
       "      <td>ANTIOQUIA</td>\n",
       "    </tr>\n",
       "    <tr>\n",
       "      <th>COLE_MCPIO_UBICACION</th>\n",
       "      <td>MEDELLIN</td>\n",
       "      <td>MEDELLIN</td>\n",
       "      <td>MEDELLIN</td>\n",
       "    </tr>\n",
       "    <tr>\n",
       "      <th>ESTU_RESIDE_DEPTO</th>\n",
       "      <td>ANTIOQUIA</td>\n",
       "      <td>ANTIOQUIA</td>\n",
       "      <td>ANTIOQUIA</td>\n",
       "    </tr>\n",
       "    <tr>\n",
       "      <th>ESTU_RESIDE_MCPIO</th>\n",
       "      <td>MEDELLIN</td>\n",
       "      <td>MEDELLIN</td>\n",
       "      <td>MEDELLIN</td>\n",
       "    </tr>\n",
       "    <tr>\n",
       "      <th>ESTU_TIPO_DOCUMENTO</th>\n",
       "      <td>T</td>\n",
       "      <td>C</td>\n",
       "      <td>T</td>\n",
       "    </tr>\n",
       "  </tbody>\n",
       "</table>\n",
       "</div>"
      ],
      "text/plain": [
       "                                                                    0  \\\n",
       "ESTU_CONSECUTIVO                                     SB11200320000001   \n",
       "COLE_COD_ICFES                                                  27714   \n",
       "COLE_NOMBRE_SEDE               INSTITUCION EDUCATIVA EXTERNADO PATRIA   \n",
       "IND_ANNO_TERMINO_BACHILLERATO                                    2003   \n",
       "COLE_JORNADA                                                        M   \n",
       "COLE_VALOR_PENSION                                                  8   \n",
       "ESTU_GENERO                                                         M   \n",
       "ESTU_NACIMIENTO_DIA                                                11   \n",
       "ESTU_NACIMIENTO_MES                                                 5   \n",
       "ESTU_NACIMIENTO_ANNO                                             1986   \n",
       "ESTU_DEPTO_PRESENTACION                                     ANTIOQUIA   \n",
       "ESTU_MCPIO_PRESENTACION                                      MEDELLIN   \n",
       "ESTU_LIMITA_INVIDENTE                                             NaN   \n",
       "ESTU_LIMITA_SORDOINTERPRETE                                       NaN   \n",
       "ESTU_LIMITA_SORDONOINTERPRETE                                     NaN   \n",
       "ESTU_LIMITA_MOTRIZ                                                NaN   \n",
       "PUNT_BIOLOGIA                                                      53   \n",
       "PUNT_MATEMATICAS                                                   39   \n",
       "PUNT_FILOSOFIA                                                     41   \n",
       "PUNT_FISICA                                                        46   \n",
       "PUNT_HISTORIA                                                      38   \n",
       "PUNT_QUIMICA                                                       38   \n",
       "PUNT_LENGUAJE                                                      37   \n",
       "PUNT_GEOGRAFIA                                                     32   \n",
       "COD_INTERDISCIPLINAR                                               43   \n",
       "PUNT_INTERDISCIPLINAR                                              55   \n",
       "COD_IDIOMA                                                         51   \n",
       "PUNT_IDIOMA                                                        41   \n",
       "ESTU_IES_COD_DESEADA                                             1201   \n",
       "ESTU_RAZONINSTITUTO                                                 7   \n",
       "ESTU_CARRDESEADA_COD                                            41201   \n",
       "ESTU_CARRDESEADA_RAZON                                              2   \n",
       "FAMI_PERSONAS_HOGAR                                                 8   \n",
       "FAMI_VIVIENDA_PROPIA                                                N   \n",
       "FAMI_DEUDA_VIVIENDA                                               NaN   \n",
       "FAMI_APORTANTES                                                     3   \n",
       "FAMI_INGRESO_FMILIAR_MENSUAL                                        1   \n",
       "FAMI_LEE_ESCRIBE_PADRE                                              S   \n",
       "FAMI_LEE_ESCRIBE_MADRE                                              S   \n",
       "FAMI_EDUCA_PADRE                                                    3   \n",
       "FAMI_EDUCA_MADRE                                                    1   \n",
       "FAMI_OCUPA_PADRE                                                   09   \n",
       "FAMI_OCUPA_MADRE                                                   10   \n",
       "FAMI_NUM_HERMANOS                                                   1   \n",
       "FAMI_NUM_HERMANOS_EDUSUPERIOR                                       1   \n",
       "FAMI_POSICION_HERMANOS                                              2   \n",
       "FAMI_SOST_PERSONAL                                                NaN   \n",
       "ESTU_TRABAJA                                                        N   \n",
       "ESTU_ACT_PROX_ANNO                                                  3   \n",
       "COLE_CALENDARIO                                                     A   \n",
       "COLE_BILINGUE                                                     NaN   \n",
       "COLE_CARACTER                                               ACADEMICO   \n",
       "COLE_DEPTO_UBICACION                                        ANTIOQUIA   \n",
       "COLE_MCPIO_UBICACION                                         MEDELLIN   \n",
       "ESTU_RESIDE_DEPTO                                           ANTIOQUIA   \n",
       "ESTU_RESIDE_MCPIO                                            MEDELLIN   \n",
       "ESTU_TIPO_DOCUMENTO                                                 T   \n",
       "\n",
       "                                                             1  \\\n",
       "ESTU_CONSECUTIVO                              SB11200320000002   \n",
       "COLE_COD_ICFES                                          101865   \n",
       "COLE_NOMBRE_SEDE               COLEGIO GABRIEL RESTREPO MORENO   \n",
       "IND_ANNO_TERMINO_BACHILLERATO                             2003   \n",
       "COLE_JORNADA                                                 T   \n",
       "COLE_VALOR_PENSION                                           8   \n",
       "ESTU_GENERO                                                  M   \n",
       "ESTU_NACIMIENTO_DIA                                         13   \n",
       "ESTU_NACIMIENTO_MES                                          3   \n",
       "ESTU_NACIMIENTO_ANNO                                      1984   \n",
       "ESTU_DEPTO_PRESENTACION                              ANTIOQUIA   \n",
       "ESTU_MCPIO_PRESENTACION                               MEDELLIN   \n",
       "ESTU_LIMITA_INVIDENTE                                      NaN   \n",
       "ESTU_LIMITA_SORDOINTERPRETE                                NaN   \n",
       "ESTU_LIMITA_SORDONOINTERPRETE                              NaN   \n",
       "ESTU_LIMITA_MOTRIZ                                         NaN   \n",
       "PUNT_BIOLOGIA                                               45   \n",
       "PUNT_MATEMATICAS                                            47   \n",
       "PUNT_FILOSOFIA                                              48   \n",
       "PUNT_FISICA                                                 48   \n",
       "PUNT_HISTORIA                                               36   \n",
       "PUNT_QUIMICA                                                44   \n",
       "PUNT_LENGUAJE                                               46   \n",
       "PUNT_GEOGRAFIA                                              39   \n",
       "COD_INTERDISCIPLINAR                                        43   \n",
       "PUNT_INTERDISCIPLINAR                                       55   \n",
       "COD_IDIOMA                                                  51   \n",
       "PUNT_IDIOMA                                                 38   \n",
       "ESTU_IES_COD_DESEADA                                      1201   \n",
       "ESTU_RAZONINSTITUTO                                          7   \n",
       "ESTU_CARRDESEADA_COD                                     43917   \n",
       "ESTU_CARRDESEADA_RAZON                                       1   \n",
       "FAMI_PERSONAS_HOGAR                                          8   \n",
       "FAMI_VIVIENDA_PROPIA                                         S   \n",
       "FAMI_DEUDA_VIVIENDA                                          N   \n",
       "FAMI_APORTANTES                                              2   \n",
       "FAMI_INGRESO_FMILIAR_MENSUAL                                 0   \n",
       "FAMI_LEE_ESCRIBE_PADRE                                     NaN   \n",
       "FAMI_LEE_ESCRIBE_MADRE                                     NaN   \n",
       "FAMI_EDUCA_PADRE                                           NaN   \n",
       "FAMI_EDUCA_MADRE                                           NaN   \n",
       "FAMI_OCUPA_PADRE                                           NaN   \n",
       "FAMI_OCUPA_MADRE                                           NaN   \n",
       "FAMI_NUM_HERMANOS                                            3   \n",
       "FAMI_NUM_HERMANOS_EDUSUPERIOR                                0   \n",
       "FAMI_POSICION_HERMANOS                                       1   \n",
       "FAMI_SOST_PERSONAL                                           T   \n",
       "ESTU_TRABAJA                                                 S   \n",
       "ESTU_ACT_PROX_ANNO                                           3   \n",
       "COLE_CALENDARIO                                              F   \n",
       "COLE_BILINGUE                                              NaN   \n",
       "COLE_CARACTER                                        ACADEMICO   \n",
       "COLE_DEPTO_UBICACION                                 ANTIOQUIA   \n",
       "COLE_MCPIO_UBICACION                                  MEDELLIN   \n",
       "ESTU_RESIDE_DEPTO                                    ANTIOQUIA   \n",
       "ESTU_RESIDE_MCPIO                                     MEDELLIN   \n",
       "ESTU_TIPO_DOCUMENTO                                          C   \n",
       "\n",
       "                                                                2  \n",
       "ESTU_CONSECUTIVO                                 SB11200320000003  \n",
       "COLE_COD_ICFES                                                 59  \n",
       "COLE_NOMBRE_SEDE               CENTRO FORMATIVO DE ANTIOQUIA CEFA  \n",
       "IND_ANNO_TERMINO_BACHILLERATO                                2003  \n",
       "COLE_JORNADA                                                    M  \n",
       "COLE_VALOR_PENSION                                              8  \n",
       "ESTU_GENERO                                                     F  \n",
       "ESTU_NACIMIENTO_DIA                                             2  \n",
       "ESTU_NACIMIENTO_MES                                             1  \n",
       "ESTU_NACIMIENTO_ANNO                                         1985  \n",
       "ESTU_DEPTO_PRESENTACION                                 ANTIOQUIA  \n",
       "ESTU_MCPIO_PRESENTACION                                  MEDELLIN  \n",
       "ESTU_LIMITA_INVIDENTE                                         NaN  \n",
       "ESTU_LIMITA_SORDOINTERPRETE                                   NaN  \n",
       "ESTU_LIMITA_SORDONOINTERPRETE                                 NaN  \n",
       "ESTU_LIMITA_MOTRIZ                                            NaN  \n",
       "PUNT_BIOLOGIA                                                  56  \n",
       "PUNT_MATEMATICAS                                               44  \n",
       "PUNT_FILOSOFIA                                                 45  \n",
       "PUNT_FISICA                                                    44  \n",
       "PUNT_HISTORIA                                                  52  \n",
       "PUNT_QUIMICA                                                   52  \n",
       "PUNT_LENGUAJE                                                  58  \n",
       "PUNT_GEOGRAFIA                                                 53  \n",
       "COD_INTERDISCIPLINAR                                           43  \n",
       "PUNT_INTERDISCIPLINAR                                          45  \n",
       "COD_IDIOMA                                                     51  \n",
       "PUNT_IDIOMA                                                    34  \n",
       "ESTU_IES_COD_DESEADA                                         1201  \n",
       "ESTU_RAZONINSTITUTO                                             5  \n",
       "ESTU_CARRDESEADA_COD                                        44111  \n",
       "ESTU_CARRDESEADA_RAZON                                          2  \n",
       "FAMI_PERSONAS_HOGAR                                             5  \n",
       "FAMI_VIVIENDA_PROPIA                                            N  \n",
       "FAMI_DEUDA_VIVIENDA                                           NaN  \n",
       "FAMI_APORTANTES                                                 1  \n",
       "FAMI_INGRESO_FMILIAR_MENSUAL                                    1  \n",
       "FAMI_LEE_ESCRIBE_PADRE                                          S  \n",
       "FAMI_LEE_ESCRIBE_MADRE                                          S  \n",
       "FAMI_EDUCA_PADRE                                                4  \n",
       "FAMI_EDUCA_MADRE                                                4  \n",
       "FAMI_OCUPA_PADRE                                               06  \n",
       "FAMI_OCUPA_MADRE                                               05  \n",
       "FAMI_NUM_HERMANOS                                               3  \n",
       "FAMI_NUM_HERMANOS_EDUSUPERIOR                                   0  \n",
       "FAMI_POSICION_HERMANOS                                          3  \n",
       "FAMI_SOST_PERSONAL                                              T  \n",
       "ESTU_TRABAJA                                                    N  \n",
       "ESTU_ACT_PROX_ANNO                                              1  \n",
       "COLE_CALENDARIO                                                 A  \n",
       "COLE_BILINGUE                                                 NaN  \n",
       "COLE_CARACTER                                 ACADEMICO Y TECNICO  \n",
       "COLE_DEPTO_UBICACION                                    ANTIOQUIA  \n",
       "COLE_MCPIO_UBICACION                                     MEDELLIN  \n",
       "ESTU_RESIDE_DEPTO                                       ANTIOQUIA  \n",
       "ESTU_RESIDE_MCPIO                                        MEDELLIN  \n",
       "ESTU_TIPO_DOCUMENTO                                             T  "
      ]
     },
     "execution_count": 11,
     "metadata": {},
     "output_type": "execute_result"
    }
   ],
   "source": [
    "data_2003_2.head(3).T"
   ]
  },
  {
   "cell_type": "markdown",
   "metadata": {},
   "source": [
    "The first step is delete the columns that won't contribute to the work"
   ]
  },
  {
   "cell_type": "code",
   "execution_count": 13,
   "metadata": {
    "collapsed": true
   },
   "outputs": [],
   "source": [
    "data_2003_2 = data_2003_2.drop(['ESTU_CONSECUTIVO', 'COLE_NOMBRE_SEDE', 'ESTU_TIPO_DOCUMENTO'], axis=1)"
   ]
  },
  {
   "cell_type": "code",
   "execution_count": null,
   "metadata": {
    "collapsed": true
   },
   "outputs": [],
   "source": [
    "print(data_2003_2['COLE_COD_ICFES'].value_counts().sort_index().index)\n",
    "print(data_2003_2['COLE_COD_ICFES'].value_counts().sort_index())\n",
    "print(missing_data(data_2003_2['COLE_COD_ICFES']))"
   ]
  },
  {
   "cell_type": "code",
   "execution_count": null,
   "metadata": {
    "collapsed": true
   },
   "outputs": [],
   "source": [
    "print(data_2003_2['IND_ANNO_TERMINO_BACHILLERATO'].value_counts().sort_index().index)\n",
    "print(data_2003_2['IND_ANNO_TERMINO_BACHILLERATO'].value_counts().sort_index())\n",
    "print(missing_data(data_2003_2['IND_ANNO_TERMINO_BACHILLERATO']))"
   ]
  },
  {
   "cell_type": "code",
   "execution_count": null,
   "metadata": {
    "collapsed": true
   },
   "outputs": [],
   "source": [
    "print(data_2003_2['COLE_JORNADA'].value_counts().sort_index().index)\n",
    "print(data_2003_2['COLE_JORNADA'].value_counts().sort_index())\n",
    "print(missing_data(data_2003_2['COLE_JORNADA']))"
   ]
  },
  {
   "cell_type": "code",
   "execution_count": null,
   "metadata": {
    "collapsed": true
   },
   "outputs": [],
   "source": [
    "print(data_2003_2['COLE_VALOR_PENSION'].value_counts().sort_index().index)\n",
    "print(data_2003_2['COLE_VALOR_PENSION'].value_counts().sort_index())\n",
    "print(missing_data(data_2003_2['COLE_VALOR_PENSION']))"
   ]
  },
  {
   "cell_type": "code",
   "execution_count": null,
   "metadata": {
    "collapsed": true
   },
   "outputs": [],
   "source": [
    "print(data_2003_2['ESTU_GENERO'].value_counts().sort_index().index)\n",
    "print(data_2003_2['ESTU_GENERO'].value_counts().sort_index())\n",
    "print(missing_data(data_2003_2['ESTU_GENERO']))"
   ]
  },
  {
   "cell_type": "code",
   "execution_count": null,
   "metadata": {
    "collapsed": true
   },
   "outputs": [],
   "source": [
    "print(data_2003_2['ESTU_NACIMIENTO_DIA'].value_counts().sort_index().index)\n",
    "print(data_2003_2['ESTU_NACIMIENTO_DIA'].value_counts().sort_index())\n",
    "print(missing_data(data_2003_2['ESTU_NACIMIENTO_DIA']))"
   ]
  },
  {
   "cell_type": "code",
   "execution_count": null,
   "metadata": {
    "collapsed": true
   },
   "outputs": [],
   "source": [
    "print(data_2003_2['ESTU_NACIMIENTO_MES'].value_counts().sort_index().index)\n",
    "print(data_2003_2['ESTU_NACIMIENTO_MES'].value_counts().sort_index())\n",
    "print(missing_data(data_2003_2['ESTU_NACIMIENTO_MES']))"
   ]
  },
  {
   "cell_type": "code",
   "execution_count": null,
   "metadata": {
    "collapsed": true
   },
   "outputs": [],
   "source": [
    "print(data_2003_2['ESTU_NACIMIENTO_ANNO'].value_counts().sort_index().index)\n",
    "print(data_2003_2['ESTU_NACIMIENTO_ANNO'].value_counts().sort_index())\n",
    "print(missing_data(data_2003_2['ESTU_NACIMIENTO_ANNO']))"
   ]
  },
  {
   "cell_type": "code",
   "execution_count": null,
   "metadata": {
    "collapsed": true
   },
   "outputs": [],
   "source": [
    "print(data_2003_2['ESTU_DEPTO_PRESENTACION'].value_counts().sort_index().index)\n",
    "print(data_2003_2['ESTU_DEPTO_PRESENTACION'].value_counts().sort_index())\n",
    "print(missing_data(data_2003_2['ESTU_DEPTO_PRESENTACION']))"
   ]
  },
  {
   "cell_type": "code",
   "execution_count": null,
   "metadata": {
    "collapsed": true
   },
   "outputs": [],
   "source": [
    "print(data_2003_2['ESTU_MCPIO_PRESENTACION'].value_counts().sort_index().index)\n",
    "print(data_2003_2['ESTU_MCPIO_PRESENTACION'].value_counts().sort_index())\n",
    "print(missing_data(data_2003_2['ESTU_MCPIO_PRESENTACION']))"
   ]
  },
  {
   "cell_type": "code",
   "execution_count": null,
   "metadata": {
    "collapsed": true
   },
   "outputs": [],
   "source": [
    "print(data_2003_2['ESTU_LIMITA_INVIDENTE'].value_counts().sort_index().index)\n",
    "print(data_2003_2['ESTU_LIMITA_INVIDENTE'].value_counts().sort_index())\n",
    "print(missing_data(data_2003_2['ESTU_LIMITA_INVIDENTE']))"
   ]
  },
  {
   "cell_type": "code",
   "execution_count": null,
   "metadata": {
    "collapsed": true
   },
   "outputs": [],
   "source": [
    "print(data_2003_2['ESTU_LIMITA_SORDOINTERPRETE'].value_counts().sort_index().index)\n",
    "print(data_2003_2['ESTU_LIMITA_SORDOINTERPRETE'].value_counts().sort_index())\n",
    "print(missing_data(data_2003_2['ESTU_LIMITA_SORDOINTERPRETE']))"
   ]
  },
  {
   "cell_type": "code",
   "execution_count": null,
   "metadata": {
    "collapsed": true
   },
   "outputs": [],
   "source": [
    "print(data_2003_2['ESTU_LIMITA_SORDONOINTERPRETE'].value_counts().sort_index().index)\n",
    "print(data_2003_2['ESTU_LIMITA_SORDONOINTERPRETE'].value_counts().sort_index())\n",
    "print(missing_data(data_2003_2['ESTU_LIMITA_SORDONOINTERPRETE']))"
   ]
  },
  {
   "cell_type": "code",
   "execution_count": null,
   "metadata": {
    "collapsed": true
   },
   "outputs": [],
   "source": [
    "print(data_2003_2['ESTU_LIMITA_MOTRIZ'].value_counts().sort_index().index)\n",
    "print(data_2003_2['ESTU_LIMITA_MOTRIZ'].value_counts().sort_index())\n",
    "print(missing_data(data_2003_2['ESTU_LIMITA_MOTRIZ']))"
   ]
  },
  {
   "cell_type": "code",
   "execution_count": null,
   "metadata": {
    "collapsed": true
   },
   "outputs": [],
   "source": [
    "print(data_2003_2['ESTU_IES_COD_DESEADA'].value_counts().sort_index().index)\n",
    "print(data_2003_2['ESTU_IES_COD_DESEADA'].value_counts().sort_index())\n",
    "print(missing_data(data_2003_2['ESTU_IES_COD_DESEADA']))"
   ]
  },
  {
   "cell_type": "code",
   "execution_count": null,
   "metadata": {
    "collapsed": true
   },
   "outputs": [],
   "source": [
    "print(data_2003_2['ESTU_RAZONINSTITUTO'].value_counts().sort_index().index)\n",
    "print(data_2003_2['ESTU_RAZONINSTITUTO'].value_counts().sort_index())\n",
    "print(missing_data(data_2003_2['ESTU_RAZONINSTITUTO']))"
   ]
  },
  {
   "cell_type": "code",
   "execution_count": null,
   "metadata": {
    "collapsed": true
   },
   "outputs": [],
   "source": [
    "print(data_2003_2['ESTU_CARRDESEADA_COD'].value_counts().sort_index().index)\n",
    "print(data_2003_2['ESTU_CARRDESEADA_COD'].value_counts().sort_index())\n",
    "print(missing_data(data_2003_2['ESTU_CARRDESEADA_COD']))"
   ]
  },
  {
   "cell_type": "code",
   "execution_count": null,
   "metadata": {
    "collapsed": true
   },
   "outputs": [],
   "source": [
    "print(data_2003_2['ESTU_CARRDESEADA_RAZON'].value_counts().sort_index().index)\n",
    "print(data_2003_2['ESTU_CARRDESEADA_RAZON'].value_counts().sort_index())\n",
    "print(missing_data(data_2003_2['ESTU_CARRDESEADA_RAZON']))"
   ]
  },
  {
   "cell_type": "code",
   "execution_count": null,
   "metadata": {
    "collapsed": true
   },
   "outputs": [],
   "source": [
    "print(data_2003_2['FAMI_PERSONAS_HOGAR'].value_counts().sort_index().index)\n",
    "print(data_2003_2['FAMI_PERSONAS_HOGAR'].value_counts().sort_index())\n",
    "print(missing_data(data_2003_2['FAMI_PERSONAS_HOGAR']))"
   ]
  },
  {
   "cell_type": "code",
   "execution_count": null,
   "metadata": {
    "collapsed": true
   },
   "outputs": [],
   "source": [
    "print(data_2003_2['FAMI_VIVIENDA_PROPIA'].value_counts().sort_index().index)\n",
    "print(data_2003_2['FAMI_VIVIENDA_PROPIA'].value_counts().sort_index())\n",
    "print(missing_data(data_2003_2['FAMI_VIVIENDA_PROPIA']))"
   ]
  },
  {
   "cell_type": "code",
   "execution_count": null,
   "metadata": {
    "collapsed": true
   },
   "outputs": [],
   "source": [
    "print(data_2003_2['FAMI_DEUDA_VIVIENDA'].value_counts().sort_index().index)\n",
    "print(data_2003_2['FAMI_DEUDA_VIVIENDA'].value_counts().sort_index())\n",
    "print(missing_data(data_2003_2['FAMI_DEUDA_VIVIENDA']))"
   ]
  },
  {
   "cell_type": "code",
   "execution_count": null,
   "metadata": {
    "collapsed": true
   },
   "outputs": [],
   "source": [
    "print(data_2003_2['FAMI_APORTANTES'].value_counts().sort_index().index)\n",
    "print(data_2003_2['FAMI_APORTANTES'].value_counts().sort_index())\n",
    "print(missing_data(data_2003_2['FAMI_APORTANTES']))"
   ]
  },
  {
   "cell_type": "code",
   "execution_count": null,
   "metadata": {
    "collapsed": true
   },
   "outputs": [],
   "source": [
    "print(data_2003_2['FAMI_INGRESO_FMILIAR_MENSUAL'].value_counts().sort_index().index)\n",
    "print(data_2003_2['FAMI_INGRESO_FMILIAR_MENSUAL'].value_counts().sort_index())\n",
    "print(missing_data(data_2003_2['FAMI_INGRESO_FMILIAR_MENSUAL']))"
   ]
  },
  {
   "cell_type": "code",
   "execution_count": null,
   "metadata": {
    "collapsed": true
   },
   "outputs": [],
   "source": [
    "print(data_2003_2['FAMI_LEE_ESCRIBE_PADRE'].value_counts().sort_index().index)\n",
    "print(data_2003_2['FAMI_LEE_ESCRIBE_PADRE'].value_counts().sort_index())\n",
    "print(missing_data(data_2003_2['FAMI_LEE_ESCRIBE_PADRE']))"
   ]
  },
  {
   "cell_type": "code",
   "execution_count": null,
   "metadata": {
    "collapsed": true
   },
   "outputs": [],
   "source": [
    "print(data_2003_2['FAMI_LEE_ESCRIBE_MADRE'].value_counts().sort_index().index)\n",
    "print(data_2003_2['FAMI_LEE_ESCRIBE_MADRE'].value_counts().sort_index())\n",
    "print(missing_data(data_2003_2['FAMI_LEE_ESCRIBE_MADRE']))"
   ]
  },
  {
   "cell_type": "code",
   "execution_count": null,
   "metadata": {
    "collapsed": true
   },
   "outputs": [],
   "source": [
    "print(data_2003_2['FAMI_EDUCA_PADRE'].value_counts().sort_index().index)\n",
    "print(data_2003_2['FAMI_EDUCA_PADRE'].value_counts().sort_index())\n",
    "print(missing_data(data_2003_2['FAMI_EDUCA_PADRE']))"
   ]
  },
  {
   "cell_type": "code",
   "execution_count": null,
   "metadata": {
    "collapsed": true
   },
   "outputs": [],
   "source": [
    "print(data_2003_2['FAMI_EDUCA_MADRE'].value_counts().sort_index().index)\n",
    "print(data_2003_2['FAMI_EDUCA_MADRE'].value_counts().sort_index())\n",
    "print(missing_data(data_2003_2['FAMI_EDUCA_MADRE']))"
   ]
  },
  {
   "cell_type": "code",
   "execution_count": null,
   "metadata": {
    "collapsed": true
   },
   "outputs": [],
   "source": [
    "print(data_2003_2['FAMI_OCUPA_PADRE'].value_counts().sort_index().index)\n",
    "print(data_2003_2['FAMI_OCUPA_PADRE'].value_counts().sort_index())\n",
    "print(missing_data(data_2003_2['FAMI_OCUPA_PADRE']))"
   ]
  },
  {
   "cell_type": "code",
   "execution_count": null,
   "metadata": {
    "collapsed": true
   },
   "outputs": [],
   "source": [
    "print(data_2003_2['FAMI_OCUPA_MADRE'].value_counts().sort_index().index)\n",
    "print(data_2003_2['FAMI_OCUPA_MADRE'].value_counts().sort_index())\n",
    "print(missing_data(data_2003_2['FAMI_OCUPA_MADRE']))"
   ]
  },
  {
   "cell_type": "code",
   "execution_count": null,
   "metadata": {
    "collapsed": true
   },
   "outputs": [],
   "source": [
    "print(data_2003_2['FAMI_NUM_HERMANOS'].value_counts().sort_index().index)\n",
    "print(data_2003_2['FAMI_NUM_HERMANOS'].value_counts().sort_index())\n",
    "print(missing_data(data_2003_2['FAMI_NUM_HERMANOS']))"
   ]
  },
  {
   "cell_type": "code",
   "execution_count": null,
   "metadata": {
    "collapsed": true
   },
   "outputs": [],
   "source": [
    "print(data_2003_2['FAMI_NUM_HERMANOS_EDUSUPERIOR'].value_counts().sort_index().index)\n",
    "print(data_2003_2['FAMI_NUM_HERMANOS_EDUSUPERIOR'].value_counts().sort_index())\n",
    "print(missing_data(data_2003_2['FAMI_NUM_HERMANOS_EDUSUPERIOR']))"
   ]
  },
  {
   "cell_type": "code",
   "execution_count": null,
   "metadata": {
    "collapsed": true
   },
   "outputs": [],
   "source": [
    "print(data_2003_2['FAMI_POSICION_HERMANOS'].value_counts().sort_index().index)\n",
    "print(data_2003_2['FAMI_POSICION_HERMANOS'].value_counts().sort_index())\n",
    "print(missing_data(data_2003_2['FAMI_POSICION_HERMANOS']))"
   ]
  },
  {
   "cell_type": "code",
   "execution_count": null,
   "metadata": {
    "collapsed": true
   },
   "outputs": [],
   "source": [
    "print(data_2003_2['FAMI_SOST_PERSONAL'].value_counts().sort_index().index)\n",
    "print(data_2003_2['FAMI_SOST_PERSONAL'].value_counts().sort_index())\n",
    "print(missing_data(data_2003_2['FAMI_SOST_PERSONAL']))"
   ]
  },
  {
   "cell_type": "code",
   "execution_count": null,
   "metadata": {
    "collapsed": true
   },
   "outputs": [],
   "source": [
    "print(data_2003_2['ESTU_TRABAJA'].value_counts().sort_index().index)\n",
    "print(data_2003_2['ESTU_TRABAJA'].value_counts().sort_index())\n",
    "print(missing_data(data_2003_2['ESTU_TRABAJA']))"
   ]
  },
  {
   "cell_type": "code",
   "execution_count": null,
   "metadata": {
    "collapsed": true
   },
   "outputs": [],
   "source": [
    "print(data_2003_2['ESTU_ACT_PROX_ANNO'].value_counts().sort_index().index)\n",
    "print(data_2003_2['ESTU_ACT_PROX_ANNO'].value_counts().sort_index())\n",
    "print(missing_data(data_2003_2['ESTU_ACT_PROX_ANNO']))"
   ]
  },
  {
   "cell_type": "code",
   "execution_count": null,
   "metadata": {
    "collapsed": true
   },
   "outputs": [],
   "source": [
    "print(data_2003_2['COLE_CALENDARIO'].value_counts().sort_index().index)\n",
    "print(data_2003_2['COLE_CALENDARIO'].value_counts().sort_index())\n",
    "print(missing_data(data_2003_2['COLE_CALENDARIO']))"
   ]
  },
  {
   "cell_type": "code",
   "execution_count": null,
   "metadata": {
    "collapsed": true
   },
   "outputs": [],
   "source": [
    "print(data_2003_2['COLE_BILINGUE'].value_counts().sort_index().index)\n",
    "print(data_2003_2['COLE_BILINGUE'].value_counts().sort_index())\n",
    "print(missing_data(data_2003_2['COLE_BILINGUE']))"
   ]
  },
  {
   "cell_type": "code",
   "execution_count": null,
   "metadata": {
    "collapsed": true
   },
   "outputs": [],
   "source": [
    "print(data_2003_2['COLE_CARACTER'].value_counts().sort_index().index)\n",
    "print(data_2003_2['COLE_CARACTER'].value_counts().sort_index())\n",
    "print(missing_data(data_2003_2['COLE_CARACTER']))"
   ]
  },
  {
   "cell_type": "code",
   "execution_count": null,
   "metadata": {
    "collapsed": true
   },
   "outputs": [],
   "source": [
    "print(data_2003_2['COLE_DEPTO_UBICACION'].value_counts().sort_index().index)\n",
    "print(data_2003_2['COLE_DEPTO_UBICACION'].value_counts().sort_index())\n",
    "print(missing_data(data_2003_2['COLE_DEPTO_UBICACION']))"
   ]
  },
  {
   "cell_type": "code",
   "execution_count": null,
   "metadata": {
    "collapsed": true
   },
   "outputs": [],
   "source": [
    "print(data_2003_2['COLE_MCPIO_UBICACION'].value_counts().sort_index().index)\n",
    "print(data_2003_2['COLE_MCPIO_UBICACION'].value_counts().sort_index())\n",
    "print(missing_data(data_2003_2['COLE_MCPIO_UBICACION']))"
   ]
  },
  {
   "cell_type": "code",
   "execution_count": null,
   "metadata": {
    "collapsed": true
   },
   "outputs": [],
   "source": [
    "print(data_2003_2['ESTU_RESIDE_DEPTO'].value_counts().sort_index().index)\n",
    "print(data_2003_2['ESTU_RESIDE_DEPTO'].value_counts().sort_index())\n",
    "print(missing_data(data_2003_2['ESTU_RESIDE_DEPTO']))"
   ]
  },
  {
   "cell_type": "code",
   "execution_count": null,
   "metadata": {
    "collapsed": true
   },
   "outputs": [],
   "source": [
    "print(data_2003_2['ESTU_RESIDE_MCPIO'].value_counts().sort_index().index)\n",
    "print(data_2003_2['ESTU_RESIDE_MCPIO'].value_counts().sort_index())\n",
    "print(missing_data(data_2003_2['ESTU_RESIDE_MCPIO']))"
   ]
  },
  {
   "cell_type": "markdown",
   "metadata": {},
   "source": [
    "### TARGETS"
   ]
  },
  {
   "cell_type": "code",
   "execution_count": null,
   "metadata": {
    "collapsed": true
   },
   "outputs": [],
   "source": [
    "print(data_2003_2['PUNT_BIOLOGIA'].value_counts().sort_index().index)\n",
    "print(data_2003_2['PUNT_BIOLOGIA'].value_counts().sort_index())\n",
    "print(missing_data(data_2003_2['PUNT_BIOLOGIA']))"
   ]
  },
  {
   "cell_type": "code",
   "execution_count": null,
   "metadata": {
    "collapsed": true
   },
   "outputs": [],
   "source": [
    "print(data_2003_2['PUNT_MATEMATICAS'].value_counts().sort_index().index)\n",
    "print(data_2003_2['PUNT_MATEMATICAS'].value_counts().sort_index())\n",
    "print(missing_data(data_2003_2['PUNT_MATEMATICAS']))"
   ]
  },
  {
   "cell_type": "code",
   "execution_count": null,
   "metadata": {
    "collapsed": true
   },
   "outputs": [],
   "source": [
    "print(data_2003_2['PUNT_FILOSOFIA'].value_counts().sort_index().index)\n",
    "print(data_2003_2['PUNT_FILOSOFIA'].value_counts().sort_index())\n",
    "print(missing_data(data_2003_2['PUNT_FILOSOFIA']))"
   ]
  },
  {
   "cell_type": "code",
   "execution_count": null,
   "metadata": {
    "collapsed": true
   },
   "outputs": [],
   "source": [
    "print(data_2003_2['PUNT_FISICA'].value_counts().sort_index().index)\n",
    "print(data_2003_2['PUNT_FISICA'].value_counts().sort_index())\n",
    "print(missing_data(data_2003_2['PUNT_FISICA']))"
   ]
  },
  {
   "cell_type": "code",
   "execution_count": null,
   "metadata": {
    "collapsed": true
   },
   "outputs": [],
   "source": [
    "print(data_2003_2['PUNT_HISTORIA'].value_counts().sort_index().index)\n",
    "print(data_2003_2['PUNT_HISTORIA'].value_counts().sort_index())\n",
    "print(missing_data(data_2003_2['PUNT_HISTORIA']))"
   ]
  },
  {
   "cell_type": "code",
   "execution_count": null,
   "metadata": {
    "collapsed": true
   },
   "outputs": [],
   "source": [
    "print(data_2003_2['PUNT_QUIMICA'].value_counts().sort_index().index)\n",
    "print(data_2003_2['PUNT_QUIMICA'].value_counts().sort_index())\n",
    "print(missing_data(data_2003_2['PUNT_QUIMICA']))"
   ]
  },
  {
   "cell_type": "code",
   "execution_count": null,
   "metadata": {
    "collapsed": true
   },
   "outputs": [],
   "source": [
    "print(data_2003_2['PUNT_LENGUAJE'].value_counts().sort_index().index)\n",
    "print(data_2003_2['PUNT_LENGUAJE'].value_counts().sort_index())\n",
    "print(missing_data(data_2003_2['PUNT_LENGUAJE']))"
   ]
  },
  {
   "cell_type": "code",
   "execution_count": null,
   "metadata": {
    "collapsed": true
   },
   "outputs": [],
   "source": [
    "print(data_2003_2['PUNT_GEOGRAFIA'].value_counts().sort_index().index)\n",
    "print(data_2003_2['PUNT_GEOGRAFIA'].value_counts().sort_index())\n",
    "print(missing_data(data_2003_2['PUNT_GEOGRAFIA']))"
   ]
  },
  {
   "cell_type": "code",
   "execution_count": null,
   "metadata": {
    "collapsed": true
   },
   "outputs": [],
   "source": [
    "print(data_2003_2['COD_INTERDISCIPLINAR'].value_counts().sort_index().index)\n",
    "print(data_2003_2['COD_INTERDISCIPLINAR'].value_counts().sort_index())\n",
    "print(missing_data(data_2003_2['COD_INTERDISCIPLINAR']))"
   ]
  },
  {
   "cell_type": "code",
   "execution_count": null,
   "metadata": {
    "collapsed": true
   },
   "outputs": [],
   "source": [
    "print(data_2003_2['PUNT_INTERDISCIPLINAR'].value_counts().sort_index().index)\n",
    "print(data_2003_2['PUNT_INTERDISCIPLINAR'].value_counts().sort_index())\n",
    "print(missing_data(data_2003_2['PUNT_INTERDISCIPLINAR']))"
   ]
  },
  {
   "cell_type": "code",
   "execution_count": null,
   "metadata": {
    "collapsed": true
   },
   "outputs": [],
   "source": [
    "print(data_2003_2['COD_IDIOMA'].value_counts().sort_index().index)\n",
    "print(data_2003_2['COD_IDIOMA'].value_counts().sort_index())\n",
    "print(missing_data(data_2003_2['COD_IDIOMA']))"
   ]
  },
  {
   "cell_type": "code",
   "execution_count": null,
   "metadata": {
    "collapsed": true
   },
   "outputs": [],
   "source": [
    "print(data_2003_2['PUNT_IDIOMA'].value_counts().sort_index().index)\n",
    "print(data_2003_2['PUNT_IDIOMA'].value_counts().sort_index())\n",
    "print(missing_data(data_2003_2['PUNT_IDIOMA']))"
   ]
  }
 ],
 "metadata": {
  "kernelspec": {
   "display_name": "Python 3 + Anaconda",
   "language": "python",
   "name": "pyconda3"
  },
  "language_info": {
   "codemirror_mode": {
    "name": "ipython",
    "version": 3
   },
   "file_extension": ".py",
   "mimetype": "text/x-python",
   "name": "python",
   "nbconvert_exporter": "python",
   "pygments_lexer": "ipython3",
   "version": "3.5.1"
  }
 },
 "nbformat": 4,
 "nbformat_minor": 0
}
