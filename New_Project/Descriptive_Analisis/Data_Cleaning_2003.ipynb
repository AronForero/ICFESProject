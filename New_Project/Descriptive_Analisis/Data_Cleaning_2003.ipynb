{
 "cells": [
  {
   "cell_type": "code",
   "execution_count": 1,
   "metadata": {
    "collapsed": true
   },
   "outputs": [],
   "source": [
    "import pandas as pd\n",
    "import numpy as np\n",
    "%run -i ../tools/functions.py\n",
    "%run -i ../tools/label_encoder.py"
   ]
  },
  {
   "cell_type": "code",
   "execution_count": 2,
   "metadata": {
    "collapsed": false
   },
   "outputs": [
    {
     "name": "stderr",
     "output_type": "stream",
     "text": [
      "/usr/local/anaconda3/lib/python3.5/site-packages/IPython/core/interactiveshell.py:2723: DtypeWarning: Columns (3,5,8,9,13,14,16,17,19,20,21,23) have mixed types. Specify dtype option on import or set low_memory=False.\n",
      "  interactivity=interactivity, compiler=compiler, result=result)\n"
     ]
    }
   ],
   "source": [
    "data_2003 = pd.read_csv('../DatosFTPICFES/SABER11/SB11-BASES_DE_DATOS/SB11-20031-RGSTRO-CLFCCN-V1-0.txt', delimiter=\"|\",\n",
    "                       encoding = \"iso-8859-1\")"
   ]
  },
  {
   "cell_type": "code",
   "execution_count": 3,
   "metadata": {
    "collapsed": false
   },
   "outputs": [
    {
     "data": {
      "text/plain": [
       "(69735, 57)"
      ]
     },
     "execution_count": 3,
     "metadata": {},
     "output_type": "execute_result"
    }
   ],
   "source": [
    "data_2003.shape"
   ]
  },
  {
   "cell_type": "code",
   "execution_count": 4,
   "metadata": {
    "collapsed": false,
    "scrolled": true
   },
   "outputs": [
    {
     "data": {
      "text/html": [
       "<div>\n",
       "<table border=\"1\" class=\"dataframe\">\n",
       "  <thead>\n",
       "    <tr style=\"text-align: right;\">\n",
       "      <th></th>\n",
       "      <th>0</th>\n",
       "      <th>1</th>\n",
       "      <th>2</th>\n",
       "    </tr>\n",
       "  </thead>\n",
       "  <tbody>\n",
       "    <tr>\n",
       "      <th>ESTU_CONSECUTIVO</th>\n",
       "      <td>SB1200310065481</td>\n",
       "      <td>SB1200310065480</td>\n",
       "      <td>SB1200310065479</td>\n",
       "    </tr>\n",
       "    <tr>\n",
       "      <th>COLE_COD_ICFES</th>\n",
       "      <td>18788</td>\n",
       "      <td>18788</td>\n",
       "      <td>18788</td>\n",
       "    </tr>\n",
       "    <tr>\n",
       "      <th>COLE_NOMBRE_SEDE</th>\n",
       "      <td>INSTITUCION EDUCATIVA BELISARIO PEÑA PIÑEIRO</td>\n",
       "      <td>INSTITUCION EDUCATIVA BELISARIO PEÑA PIÑEIRO</td>\n",
       "      <td>INSTITUCION EDUCATIVA BELISARIO PEÑA PIÑEIRO</td>\n",
       "    </tr>\n",
       "    <tr>\n",
       "      <th>IND_ANNO_TERMINO_BACHILLERATO</th>\n",
       "      <td>2003</td>\n",
       "      <td>2003</td>\n",
       "      <td>2003</td>\n",
       "    </tr>\n",
       "    <tr>\n",
       "      <th>COLE_JORNADA</th>\n",
       "      <td>C</td>\n",
       "      <td>C</td>\n",
       "      <td>C</td>\n",
       "    </tr>\n",
       "    <tr>\n",
       "      <th>COLE_VALOR_PENSION</th>\n",
       "      <td>8</td>\n",
       "      <td>8</td>\n",
       "      <td>NaN</td>\n",
       "    </tr>\n",
       "    <tr>\n",
       "      <th>ESTU_GENERO</th>\n",
       "      <td>M</td>\n",
       "      <td>F</td>\n",
       "      <td>M</td>\n",
       "    </tr>\n",
       "    <tr>\n",
       "      <th>ESTU_NACIMIENTO_DIA</th>\n",
       "      <td>18</td>\n",
       "      <td>4</td>\n",
       "      <td>18</td>\n",
       "    </tr>\n",
       "    <tr>\n",
       "      <th>ESTU_NACIMIENTO_MES</th>\n",
       "      <td>7</td>\n",
       "      <td>3</td>\n",
       "      <td>4</td>\n",
       "    </tr>\n",
       "    <tr>\n",
       "      <th>ESTU_NACIMIENTO_ANNO</th>\n",
       "      <td>1984</td>\n",
       "      <td>1981</td>\n",
       "      <td>1987</td>\n",
       "    </tr>\n",
       "    <tr>\n",
       "      <th>ESTU_DEPTO_PRESENTACION</th>\n",
       "      <td>VALLE</td>\n",
       "      <td>VALLE</td>\n",
       "      <td>VALLE</td>\n",
       "    </tr>\n",
       "    <tr>\n",
       "      <th>ESTU_MCPIO_PRESENTACION</th>\n",
       "      <td>ROLDANILLO</td>\n",
       "      <td>ROLDANILLO</td>\n",
       "      <td>ROLDANILLO</td>\n",
       "    </tr>\n",
       "    <tr>\n",
       "      <th>ESTU_LIMITA_INVIDENTE</th>\n",
       "      <td>NaN</td>\n",
       "      <td>NaN</td>\n",
       "      <td>NaN</td>\n",
       "    </tr>\n",
       "    <tr>\n",
       "      <th>ESTU_LIMITA_SORDOINTERPRETE</th>\n",
       "      <td>NaN</td>\n",
       "      <td>NaN</td>\n",
       "      <td>NaN</td>\n",
       "    </tr>\n",
       "    <tr>\n",
       "      <th>ESTU_LIMITA_SORDONOINTERPRETE</th>\n",
       "      <td>NaN</td>\n",
       "      <td>NaN</td>\n",
       "      <td>NaN</td>\n",
       "    </tr>\n",
       "    <tr>\n",
       "      <th>ESTU_LIMITA_MOTRIZ</th>\n",
       "      <td>NaN</td>\n",
       "      <td>NaN</td>\n",
       "      <td>NaN</td>\n",
       "    </tr>\n",
       "    <tr>\n",
       "      <th>PUNT_BIOLOGIA</th>\n",
       "      <td>46</td>\n",
       "      <td>36</td>\n",
       "      <td>34</td>\n",
       "    </tr>\n",
       "    <tr>\n",
       "      <th>PUNT_MATEMATICAS</th>\n",
       "      <td>32</td>\n",
       "      <td>46</td>\n",
       "      <td>46</td>\n",
       "    </tr>\n",
       "    <tr>\n",
       "      <th>PUNT_FILOSOFIA</th>\n",
       "      <td>48</td>\n",
       "      <td>45</td>\n",
       "      <td>42</td>\n",
       "    </tr>\n",
       "    <tr>\n",
       "      <th>PUNT_FISICA</th>\n",
       "      <td>54</td>\n",
       "      <td>45</td>\n",
       "      <td>39</td>\n",
       "    </tr>\n",
       "    <tr>\n",
       "      <th>PUNT_HISTORIA</th>\n",
       "      <td>35</td>\n",
       "      <td>37</td>\n",
       "      <td>49</td>\n",
       "    </tr>\n",
       "    <tr>\n",
       "      <th>PUNT_QUIMICA</th>\n",
       "      <td>47</td>\n",
       "      <td>43</td>\n",
       "      <td>40</td>\n",
       "    </tr>\n",
       "    <tr>\n",
       "      <th>PUNT_LENGUAJE</th>\n",
       "      <td>46</td>\n",
       "      <td>39</td>\n",
       "      <td>45</td>\n",
       "    </tr>\n",
       "    <tr>\n",
       "      <th>PUNT_GEOGRAFIA</th>\n",
       "      <td>45</td>\n",
       "      <td>37</td>\n",
       "      <td>37</td>\n",
       "    </tr>\n",
       "    <tr>\n",
       "      <th>COD_INTERDISCIPLINAR</th>\n",
       "      <td>43</td>\n",
       "      <td>43</td>\n",
       "      <td>43</td>\n",
       "    </tr>\n",
       "    <tr>\n",
       "      <th>PUNT_INTERDISCIPLINAR</th>\n",
       "      <td>60</td>\n",
       "      <td>59</td>\n",
       "      <td>61</td>\n",
       "    </tr>\n",
       "    <tr>\n",
       "      <th>COD_IDIOMA</th>\n",
       "      <td>51</td>\n",
       "      <td>51</td>\n",
       "      <td>51</td>\n",
       "    </tr>\n",
       "    <tr>\n",
       "      <th>PUNT_IDIOMA</th>\n",
       "      <td>38</td>\n",
       "      <td>41</td>\n",
       "      <td>36</td>\n",
       "    </tr>\n",
       "    <tr>\n",
       "      <th>ESTU_IES_COD_DESEADA</th>\n",
       "      <td>1203</td>\n",
       "      <td>4101</td>\n",
       "      <td>1203</td>\n",
       "    </tr>\n",
       "    <tr>\n",
       "      <th>ESTU_RAZONINSTITUTO</th>\n",
       "      <td>3</td>\n",
       "      <td>3</td>\n",
       "      <td>4</td>\n",
       "    </tr>\n",
       "    <tr>\n",
       "      <th>ESTU_CARRDESEADA_COD</th>\n",
       "      <td>48114</td>\n",
       "      <td>11113</td>\n",
       "      <td>48118</td>\n",
       "    </tr>\n",
       "    <tr>\n",
       "      <th>ESTU_CARRDESEADA_RAZON</th>\n",
       "      <td>1</td>\n",
       "      <td>4</td>\n",
       "      <td>2</td>\n",
       "    </tr>\n",
       "    <tr>\n",
       "      <th>FAMI_PERSONAS_HOGAR</th>\n",
       "      <td>4</td>\n",
       "      <td>6</td>\n",
       "      <td>8</td>\n",
       "    </tr>\n",
       "    <tr>\n",
       "      <th>FAMI_VIVIENDA_PROPIA</th>\n",
       "      <td>S</td>\n",
       "      <td>S</td>\n",
       "      <td>S</td>\n",
       "    </tr>\n",
       "    <tr>\n",
       "      <th>FAMI_DEUDA_VIVIENDA</th>\n",
       "      <td>NaN</td>\n",
       "      <td>N</td>\n",
       "      <td>NaN</td>\n",
       "    </tr>\n",
       "    <tr>\n",
       "      <th>FAMI_APORTANTES</th>\n",
       "      <td>2</td>\n",
       "      <td>3</td>\n",
       "      <td>1</td>\n",
       "    </tr>\n",
       "    <tr>\n",
       "      <th>FAMI_INGRESO_FMILIAR_MENSUAL</th>\n",
       "      <td>0</td>\n",
       "      <td>0</td>\n",
       "      <td>3</td>\n",
       "    </tr>\n",
       "    <tr>\n",
       "      <th>FAMI_LEE_ESCRIBE_PADRE</th>\n",
       "      <td>N</td>\n",
       "      <td>S</td>\n",
       "      <td>S</td>\n",
       "    </tr>\n",
       "    <tr>\n",
       "      <th>FAMI_LEE_ESCRIBE_MADRE</th>\n",
       "      <td>N</td>\n",
       "      <td>S</td>\n",
       "      <td>S</td>\n",
       "    </tr>\n",
       "    <tr>\n",
       "      <th>FAMI_EDUCA_PADRE</th>\n",
       "      <td>NaN</td>\n",
       "      <td>3</td>\n",
       "      <td>6</td>\n",
       "    </tr>\n",
       "    <tr>\n",
       "      <th>FAMI_EDUCA_MADRE</th>\n",
       "      <td>NaN</td>\n",
       "      <td>3</td>\n",
       "      <td>4</td>\n",
       "    </tr>\n",
       "    <tr>\n",
       "      <th>FAMI_OCUPA_PADRE</th>\n",
       "      <td>08</td>\n",
       "      <td>08</td>\n",
       "      <td>03</td>\n",
       "    </tr>\n",
       "    <tr>\n",
       "      <th>FAMI_OCUPA_MADRE</th>\n",
       "      <td>10</td>\n",
       "      <td>10</td>\n",
       "      <td>10</td>\n",
       "    </tr>\n",
       "    <tr>\n",
       "      <th>FAMI_NUM_HERMANOS</th>\n",
       "      <td>3</td>\n",
       "      <td>NaN</td>\n",
       "      <td>4</td>\n",
       "    </tr>\n",
       "    <tr>\n",
       "      <th>FAMI_NUM_HERMANOS_EDUSUPERIOR</th>\n",
       "      <td>0</td>\n",
       "      <td>0</td>\n",
       "      <td>4</td>\n",
       "    </tr>\n",
       "    <tr>\n",
       "      <th>FAMI_POSICION_HERMANOS</th>\n",
       "      <td>3</td>\n",
       "      <td>9</td>\n",
       "      <td>5</td>\n",
       "    </tr>\n",
       "    <tr>\n",
       "      <th>FAMI_SOST_PERSONAL</th>\n",
       "      <td>T</td>\n",
       "      <td>T</td>\n",
       "      <td>T</td>\n",
       "    </tr>\n",
       "    <tr>\n",
       "      <th>ESTU_TRABAJA</th>\n",
       "      <td>N</td>\n",
       "      <td>N</td>\n",
       "      <td>N</td>\n",
       "    </tr>\n",
       "    <tr>\n",
       "      <th>ESTU_ACT_PROX_ANNO</th>\n",
       "      <td>3</td>\n",
       "      <td>3</td>\n",
       "      <td>1</td>\n",
       "    </tr>\n",
       "    <tr>\n",
       "      <th>COLE_CALENDARIO</th>\n",
       "      <td>B</td>\n",
       "      <td>B</td>\n",
       "      <td>B</td>\n",
       "    </tr>\n",
       "    <tr>\n",
       "      <th>COLE_BILINGUE</th>\n",
       "      <td>NaN</td>\n",
       "      <td>NaN</td>\n",
       "      <td>NaN</td>\n",
       "    </tr>\n",
       "    <tr>\n",
       "      <th>COLE_CARACTER</th>\n",
       "      <td>ACADEMICO</td>\n",
       "      <td>ACADEMICO</td>\n",
       "      <td>ACADEMICO</td>\n",
       "    </tr>\n",
       "    <tr>\n",
       "      <th>COLE_DEPTO_UBICACION</th>\n",
       "      <td>VALLE</td>\n",
       "      <td>VALLE</td>\n",
       "      <td>VALLE</td>\n",
       "    </tr>\n",
       "    <tr>\n",
       "      <th>COLE_MCPIO_UBICACION</th>\n",
       "      <td>ROLDANILLO</td>\n",
       "      <td>ROLDANILLO</td>\n",
       "      <td>ROLDANILLO</td>\n",
       "    </tr>\n",
       "    <tr>\n",
       "      <th>ESTU_RESIDE_DEPTO</th>\n",
       "      <td>VALLE</td>\n",
       "      <td>VALLE</td>\n",
       "      <td>VALLE</td>\n",
       "    </tr>\n",
       "    <tr>\n",
       "      <th>ESTU_RESIDE_MCPIO</th>\n",
       "      <td>ROLDANILLO</td>\n",
       "      <td>ROLDANILLO</td>\n",
       "      <td>ROLDANILLO</td>\n",
       "    </tr>\n",
       "    <tr>\n",
       "      <th>ESTU_TIPO_DOCUMENTO</th>\n",
       "      <td>R</td>\n",
       "      <td>C</td>\n",
       "      <td>T</td>\n",
       "    </tr>\n",
       "  </tbody>\n",
       "</table>\n",
       "</div>"
      ],
      "text/plain": [
       "                                                                          0  \\\n",
       "ESTU_CONSECUTIVO                                            SB1200310065481   \n",
       "COLE_COD_ICFES                                                        18788   \n",
       "COLE_NOMBRE_SEDE               INSTITUCION EDUCATIVA BELISARIO PEÑA PIÑEIRO   \n",
       "IND_ANNO_TERMINO_BACHILLERATO                                          2003   \n",
       "COLE_JORNADA                                                              C   \n",
       "COLE_VALOR_PENSION                                                        8   \n",
       "ESTU_GENERO                                                               M   \n",
       "ESTU_NACIMIENTO_DIA                                                      18   \n",
       "ESTU_NACIMIENTO_MES                                                       7   \n",
       "ESTU_NACIMIENTO_ANNO                                                   1984   \n",
       "ESTU_DEPTO_PRESENTACION                                               VALLE   \n",
       "ESTU_MCPIO_PRESENTACION                                          ROLDANILLO   \n",
       "ESTU_LIMITA_INVIDENTE                                                   NaN   \n",
       "ESTU_LIMITA_SORDOINTERPRETE                                             NaN   \n",
       "ESTU_LIMITA_SORDONOINTERPRETE                                           NaN   \n",
       "ESTU_LIMITA_MOTRIZ                                                      NaN   \n",
       "PUNT_BIOLOGIA                                                            46   \n",
       "PUNT_MATEMATICAS                                                         32   \n",
       "PUNT_FILOSOFIA                                                           48   \n",
       "PUNT_FISICA                                                              54   \n",
       "PUNT_HISTORIA                                                            35   \n",
       "PUNT_QUIMICA                                                             47   \n",
       "PUNT_LENGUAJE                                                            46   \n",
       "PUNT_GEOGRAFIA                                                           45   \n",
       "COD_INTERDISCIPLINAR                                                     43   \n",
       "PUNT_INTERDISCIPLINAR                                                    60   \n",
       "COD_IDIOMA                                                               51   \n",
       "PUNT_IDIOMA                                                              38   \n",
       "ESTU_IES_COD_DESEADA                                                   1203   \n",
       "ESTU_RAZONINSTITUTO                                                       3   \n",
       "ESTU_CARRDESEADA_COD                                                  48114   \n",
       "ESTU_CARRDESEADA_RAZON                                                    1   \n",
       "FAMI_PERSONAS_HOGAR                                                       4   \n",
       "FAMI_VIVIENDA_PROPIA                                                      S   \n",
       "FAMI_DEUDA_VIVIENDA                                                     NaN   \n",
       "FAMI_APORTANTES                                                           2   \n",
       "FAMI_INGRESO_FMILIAR_MENSUAL                                              0   \n",
       "FAMI_LEE_ESCRIBE_PADRE                                                    N   \n",
       "FAMI_LEE_ESCRIBE_MADRE                                                    N   \n",
       "FAMI_EDUCA_PADRE                                                        NaN   \n",
       "FAMI_EDUCA_MADRE                                                        NaN   \n",
       "FAMI_OCUPA_PADRE                                                         08   \n",
       "FAMI_OCUPA_MADRE                                                         10   \n",
       "FAMI_NUM_HERMANOS                                                         3   \n",
       "FAMI_NUM_HERMANOS_EDUSUPERIOR                                             0   \n",
       "FAMI_POSICION_HERMANOS                                                    3   \n",
       "FAMI_SOST_PERSONAL                                                        T   \n",
       "ESTU_TRABAJA                                                              N   \n",
       "ESTU_ACT_PROX_ANNO                                                        3   \n",
       "COLE_CALENDARIO                                                           B   \n",
       "COLE_BILINGUE                                                           NaN   \n",
       "COLE_CARACTER                                                     ACADEMICO   \n",
       "COLE_DEPTO_UBICACION                                                  VALLE   \n",
       "COLE_MCPIO_UBICACION                                             ROLDANILLO   \n",
       "ESTU_RESIDE_DEPTO                                                     VALLE   \n",
       "ESTU_RESIDE_MCPIO                                                ROLDANILLO   \n",
       "ESTU_TIPO_DOCUMENTO                                                       R   \n",
       "\n",
       "                                                                          1  \\\n",
       "ESTU_CONSECUTIVO                                            SB1200310065480   \n",
       "COLE_COD_ICFES                                                        18788   \n",
       "COLE_NOMBRE_SEDE               INSTITUCION EDUCATIVA BELISARIO PEÑA PIÑEIRO   \n",
       "IND_ANNO_TERMINO_BACHILLERATO                                          2003   \n",
       "COLE_JORNADA                                                              C   \n",
       "COLE_VALOR_PENSION                                                        8   \n",
       "ESTU_GENERO                                                               F   \n",
       "ESTU_NACIMIENTO_DIA                                                       4   \n",
       "ESTU_NACIMIENTO_MES                                                       3   \n",
       "ESTU_NACIMIENTO_ANNO                                                   1981   \n",
       "ESTU_DEPTO_PRESENTACION                                               VALLE   \n",
       "ESTU_MCPIO_PRESENTACION                                          ROLDANILLO   \n",
       "ESTU_LIMITA_INVIDENTE                                                   NaN   \n",
       "ESTU_LIMITA_SORDOINTERPRETE                                             NaN   \n",
       "ESTU_LIMITA_SORDONOINTERPRETE                                           NaN   \n",
       "ESTU_LIMITA_MOTRIZ                                                      NaN   \n",
       "PUNT_BIOLOGIA                                                            36   \n",
       "PUNT_MATEMATICAS                                                         46   \n",
       "PUNT_FILOSOFIA                                                           45   \n",
       "PUNT_FISICA                                                              45   \n",
       "PUNT_HISTORIA                                                            37   \n",
       "PUNT_QUIMICA                                                             43   \n",
       "PUNT_LENGUAJE                                                            39   \n",
       "PUNT_GEOGRAFIA                                                           37   \n",
       "COD_INTERDISCIPLINAR                                                     43   \n",
       "PUNT_INTERDISCIPLINAR                                                    59   \n",
       "COD_IDIOMA                                                               51   \n",
       "PUNT_IDIOMA                                                              41   \n",
       "ESTU_IES_COD_DESEADA                                                   4101   \n",
       "ESTU_RAZONINSTITUTO                                                       3   \n",
       "ESTU_CARRDESEADA_COD                                                  11113   \n",
       "ESTU_CARRDESEADA_RAZON                                                    4   \n",
       "FAMI_PERSONAS_HOGAR                                                       6   \n",
       "FAMI_VIVIENDA_PROPIA                                                      S   \n",
       "FAMI_DEUDA_VIVIENDA                                                       N   \n",
       "FAMI_APORTANTES                                                           3   \n",
       "FAMI_INGRESO_FMILIAR_MENSUAL                                              0   \n",
       "FAMI_LEE_ESCRIBE_PADRE                                                    S   \n",
       "FAMI_LEE_ESCRIBE_MADRE                                                    S   \n",
       "FAMI_EDUCA_PADRE                                                          3   \n",
       "FAMI_EDUCA_MADRE                                                          3   \n",
       "FAMI_OCUPA_PADRE                                                         08   \n",
       "FAMI_OCUPA_MADRE                                                         10   \n",
       "FAMI_NUM_HERMANOS                                                       NaN   \n",
       "FAMI_NUM_HERMANOS_EDUSUPERIOR                                             0   \n",
       "FAMI_POSICION_HERMANOS                                                    9   \n",
       "FAMI_SOST_PERSONAL                                                        T   \n",
       "ESTU_TRABAJA                                                              N   \n",
       "ESTU_ACT_PROX_ANNO                                                        3   \n",
       "COLE_CALENDARIO                                                           B   \n",
       "COLE_BILINGUE                                                           NaN   \n",
       "COLE_CARACTER                                                     ACADEMICO   \n",
       "COLE_DEPTO_UBICACION                                                  VALLE   \n",
       "COLE_MCPIO_UBICACION                                             ROLDANILLO   \n",
       "ESTU_RESIDE_DEPTO                                                     VALLE   \n",
       "ESTU_RESIDE_MCPIO                                                ROLDANILLO   \n",
       "ESTU_TIPO_DOCUMENTO                                                       C   \n",
       "\n",
       "                                                                          2  \n",
       "ESTU_CONSECUTIVO                                            SB1200310065479  \n",
       "COLE_COD_ICFES                                                        18788  \n",
       "COLE_NOMBRE_SEDE               INSTITUCION EDUCATIVA BELISARIO PEÑA PIÑEIRO  \n",
       "IND_ANNO_TERMINO_BACHILLERATO                                          2003  \n",
       "COLE_JORNADA                                                              C  \n",
       "COLE_VALOR_PENSION                                                      NaN  \n",
       "ESTU_GENERO                                                               M  \n",
       "ESTU_NACIMIENTO_DIA                                                      18  \n",
       "ESTU_NACIMIENTO_MES                                                       4  \n",
       "ESTU_NACIMIENTO_ANNO                                                   1987  \n",
       "ESTU_DEPTO_PRESENTACION                                               VALLE  \n",
       "ESTU_MCPIO_PRESENTACION                                          ROLDANILLO  \n",
       "ESTU_LIMITA_INVIDENTE                                                   NaN  \n",
       "ESTU_LIMITA_SORDOINTERPRETE                                             NaN  \n",
       "ESTU_LIMITA_SORDONOINTERPRETE                                           NaN  \n",
       "ESTU_LIMITA_MOTRIZ                                                      NaN  \n",
       "PUNT_BIOLOGIA                                                            34  \n",
       "PUNT_MATEMATICAS                                                         46  \n",
       "PUNT_FILOSOFIA                                                           42  \n",
       "PUNT_FISICA                                                              39  \n",
       "PUNT_HISTORIA                                                            49  \n",
       "PUNT_QUIMICA                                                             40  \n",
       "PUNT_LENGUAJE                                                            45  \n",
       "PUNT_GEOGRAFIA                                                           37  \n",
       "COD_INTERDISCIPLINAR                                                     43  \n",
       "PUNT_INTERDISCIPLINAR                                                    61  \n",
       "COD_IDIOMA                                                               51  \n",
       "PUNT_IDIOMA                                                              36  \n",
       "ESTU_IES_COD_DESEADA                                                   1203  \n",
       "ESTU_RAZONINSTITUTO                                                       4  \n",
       "ESTU_CARRDESEADA_COD                                                  48118  \n",
       "ESTU_CARRDESEADA_RAZON                                                    2  \n",
       "FAMI_PERSONAS_HOGAR                                                       8  \n",
       "FAMI_VIVIENDA_PROPIA                                                      S  \n",
       "FAMI_DEUDA_VIVIENDA                                                     NaN  \n",
       "FAMI_APORTANTES                                                           1  \n",
       "FAMI_INGRESO_FMILIAR_MENSUAL                                              3  \n",
       "FAMI_LEE_ESCRIBE_PADRE                                                    S  \n",
       "FAMI_LEE_ESCRIBE_MADRE                                                    S  \n",
       "FAMI_EDUCA_PADRE                                                          6  \n",
       "FAMI_EDUCA_MADRE                                                          4  \n",
       "FAMI_OCUPA_PADRE                                                         03  \n",
       "FAMI_OCUPA_MADRE                                                         10  \n",
       "FAMI_NUM_HERMANOS                                                         4  \n",
       "FAMI_NUM_HERMANOS_EDUSUPERIOR                                             4  \n",
       "FAMI_POSICION_HERMANOS                                                    5  \n",
       "FAMI_SOST_PERSONAL                                                        T  \n",
       "ESTU_TRABAJA                                                              N  \n",
       "ESTU_ACT_PROX_ANNO                                                        1  \n",
       "COLE_CALENDARIO                                                           B  \n",
       "COLE_BILINGUE                                                           NaN  \n",
       "COLE_CARACTER                                                     ACADEMICO  \n",
       "COLE_DEPTO_UBICACION                                                  VALLE  \n",
       "COLE_MCPIO_UBICACION                                             ROLDANILLO  \n",
       "ESTU_RESIDE_DEPTO                                                     VALLE  \n",
       "ESTU_RESIDE_MCPIO                                                ROLDANILLO  \n",
       "ESTU_TIPO_DOCUMENTO                                                       T  "
      ]
     },
     "execution_count": 4,
     "metadata": {},
     "output_type": "execute_result"
    }
   ],
   "source": [
    "data_2003.head(3).T"
   ]
  },
  {
   "cell_type": "markdown",
   "metadata": {},
   "source": [
    "The first step is delete the columns that won't contribute to the work"
   ]
  },
  {
   "cell_type": "code",
   "execution_count": 7,
   "metadata": {
    "collapsed": false
   },
   "outputs": [],
   "source": [
    "data_2003 = data_2003.drop(['ESTU_TIPO_DOCUMENTO', 'ESTU_CONSECUTIVO', 'COLE_NOMBRE_SEDE'], axis=1)"
   ]
  },
  {
   "cell_type": "code",
   "execution_count": null,
   "metadata": {
    "collapsed": true
   },
   "outputs": [],
   "source": [
    "print(data_2003['COLE_COD_ICFES'].value_counts().sort_index().index)\n",
    "print(data_2003['COLE_COD_ICFES'].value_counts().sort_index())\n",
    "print(missing_data(data_2003['COLE_COD_ICFES']))"
   ]
  },
  {
   "cell_type": "code",
   "execution_count": null,
   "metadata": {
    "collapsed": true
   },
   "outputs": [],
   "source": [
    "print(data_2003['IND_ANNO_TERMINO_BACHILLERATO'].value_counts().sort_index().index)\n",
    "print(data_2003['IND_ANNO_TERMINO_BACHILLERATO'].value_counts().sort_index())\n",
    "print(missing_data(data_2003['IND_ANNO_TERMINO_BACHILLERATO']))"
   ]
  },
  {
   "cell_type": "code",
   "execution_count": null,
   "metadata": {
    "collapsed": true
   },
   "outputs": [],
   "source": [
    "print(data_2003['COLE_JORNADA'].value_counts().sort_index().index)\n",
    "print(data_2003['COLE_JORNADA'].value_counts().sort_index())\n",
    "print(missing_data(data_2003['COLE_JORNADA']))"
   ]
  },
  {
   "cell_type": "code",
   "execution_count": null,
   "metadata": {
    "collapsed": true
   },
   "outputs": [],
   "source": [
    "print(data_2003['COLE_VALOR_PENSION'].value_counts().sort_index().index)\n",
    "print(data_2003['COLE_VALOR_PENSION'].value_counts().sort_index())\n",
    "print(missing_data(data_2003['COLE_VALOR_PENSION']))"
   ]
  },
  {
   "cell_type": "code",
   "execution_count": null,
   "metadata": {
    "collapsed": true
   },
   "outputs": [],
   "source": [
    "print(data_2003['ESTU_GENERO'].value_counts().sort_index().index)\n",
    "print(data_2003['ESTU_GENERO'].value_counts().sort_index())\n",
    "print(missing_data(data_2003['ESTU_GENERO']))"
   ]
  },
  {
   "cell_type": "code",
   "execution_count": null,
   "metadata": {
    "collapsed": true
   },
   "outputs": [],
   "source": [
    "print(data_2003['ESTU_NACIMIENTO_DIA'].value_counts().sort_index().index)\n",
    "print(data_2003['ESTU_NACIMIENTO_DIA'].value_counts().sort_index())\n",
    "print(missing_data(data_2003['ESTU_NACIMIENTO_DIA']))"
   ]
  },
  {
   "cell_type": "code",
   "execution_count": null,
   "metadata": {
    "collapsed": true
   },
   "outputs": [],
   "source": [
    "print(data_2003['ESTU_NACIMIENTO_MES'].value_counts().sort_index().index)\n",
    "print(data_2003['ESTU_NACIMIENTO_MES'].value_counts().sort_index())\n",
    "print(missing_data(data_2003['ESTU_NACIMIENTO_MES']))"
   ]
  },
  {
   "cell_type": "code",
   "execution_count": null,
   "metadata": {
    "collapsed": true
   },
   "outputs": [],
   "source": [
    "print(data_2003['ESTU_NACIMIENTO_ANNO'].value_counts().sort_index().index)\n",
    "print(data_2003['ESTU_NACIMIENTO_ANNO'].value_counts().sort_index())\n",
    "print(missing_data(data_2003['ESTU_NACIMIENTO_ANNO']))"
   ]
  },
  {
   "cell_type": "code",
   "execution_count": null,
   "metadata": {
    "collapsed": true
   },
   "outputs": [],
   "source": [
    "print(data_2003['ESTU_DEPTO_PRESENTACION'].value_counts().sort_index().index)\n",
    "print(data_2003['ESTU_DEPTO_PRESENTACION'].value_counts().sort_index())\n",
    "print(missing_data(data_2003['ESTU_DEPTO_PRESENTACION']))"
   ]
  },
  {
   "cell_type": "code",
   "execution_count": null,
   "metadata": {
    "collapsed": true
   },
   "outputs": [],
   "source": [
    "print(data_2003['ESTU_MCPIO_PRESENTACION'].value_counts().sort_index().index)\n",
    "print(data_2003['ESTU_MCPIO_PRESENTACION'].value_counts().sort_index())\n",
    "print(missing_data(data_2003['ESTU_MCPIO_PRESENTACION']))"
   ]
  },
  {
   "cell_type": "code",
   "execution_count": null,
   "metadata": {
    "collapsed": true
   },
   "outputs": [],
   "source": [
    "print(data_2003['ESTU_LIMITA_INVIDENTE'].value_counts().sort_index().index)\n",
    "print(data_2003['ESTU_LIMITA_INVIDENTE'].value_counts().sort_index())\n",
    "print(missing_data(data_2003['ESTU_LIMITA_INVIDENTE']))"
   ]
  },
  {
   "cell_type": "code",
   "execution_count": null,
   "metadata": {
    "collapsed": true
   },
   "outputs": [],
   "source": [
    "print(data_2003['ESTU_LIMITA_SORDOINTERPRETE'].value_counts().sort_index().index)\n",
    "print(data_2003['ESTU_LIMITA_SORDOINTERPRETE'].value_counts().sort_index())\n",
    "print(missing_data(data_2003['ESTU_LIMITA_SORDOINTERPRETE']))"
   ]
  },
  {
   "cell_type": "code",
   "execution_count": null,
   "metadata": {
    "collapsed": true
   },
   "outputs": [],
   "source": [
    "print(data_2003['ESTU_LIMITA_SORDONOINTERPRETE'].value_counts().sort_index().index)\n",
    "print(data_2003['ESTU_LIMITA_SORDONOINTERPRETE'].value_counts().sort_index())\n",
    "print(missing_data(data_2003['ESTU_LIMITA_SORDONOINTERPRETE']))"
   ]
  },
  {
   "cell_type": "code",
   "execution_count": null,
   "metadata": {
    "collapsed": true
   },
   "outputs": [],
   "source": [
    "print(data_2003['ESTU_LIMITA_MOTRIZ'].value_counts().sort_index().index)\n",
    "print(data_2003['ESTU_LIMITA_MOTRIZ'].value_counts().sort_index())\n",
    "print(missing_data(data_2003['ESTU_LIMITA_MOTRIZ']))"
   ]
  },
  {
   "cell_type": "code",
   "execution_count": null,
   "metadata": {
    "collapsed": true
   },
   "outputs": [],
   "source": [
    "print(data_2003['ESTU_IES_COD_DESEADA'].value_counts().sort_index().index)\n",
    "print(data_2003['ESTU_IES_COD_DESEADA'].value_counts().sort_index())\n",
    "print(missing_data(data_2003['ESTU_IES_COD_DESEADA']))"
   ]
  },
  {
   "cell_type": "code",
   "execution_count": null,
   "metadata": {
    "collapsed": true
   },
   "outputs": [],
   "source": [
    "print(data_2003['ESTU_RAZONINSTITUTO'].value_counts().sort_index().index)\n",
    "print(data_2003['ESTU_RAZONINSTITUTO'].value_counts().sort_index())\n",
    "print(missing_data(data_2003['ESTU_RAZONINSTITUTO']))"
   ]
  },
  {
   "cell_type": "code",
   "execution_count": null,
   "metadata": {
    "collapsed": true
   },
   "outputs": [],
   "source": [
    "print(data_2003['ESTU_CARRDESEADA_COD'].value_counts().sort_index().index)\n",
    "print(data_2003['ESTU_CARRDESEADA_COD'].value_counts().sort_index())\n",
    "print(missing_data(data_2003['ESTU_CARRDESEADA_COD']))"
   ]
  },
  {
   "cell_type": "code",
   "execution_count": null,
   "metadata": {
    "collapsed": true
   },
   "outputs": [],
   "source": [
    "print(data_2003['ESTU_CARRDESEADA_RAZON'].value_counts().sort_index().index)\n",
    "print(data_2003['ESTU_CARRDESEADA_RAZON'].value_counts().sort_index())\n",
    "print(missing_data(data_2003['ESTU_CARRDESEADA_RAZON']))"
   ]
  },
  {
   "cell_type": "code",
   "execution_count": null,
   "metadata": {
    "collapsed": true
   },
   "outputs": [],
   "source": [
    "print(data_2003['FAMI_PERSONAS_HOGAR'].value_counts().sort_index().index)\n",
    "print(data_2003['FAMI_PERSONAS_HOGAR'].value_counts().sort_index())\n",
    "print(missing_data(data_2003['FAMI_PERSONAS_HOGAR']))"
   ]
  },
  {
   "cell_type": "code",
   "execution_count": null,
   "metadata": {
    "collapsed": true
   },
   "outputs": [],
   "source": [
    "print(data_2003['FAMI_VIVIENDA_PROPIA'].value_counts().sort_index().index)\n",
    "print(data_2003['FAMI_VIVIENDA_PROPIA'].value_counts().sort_index())\n",
    "print(missing_data(data_2003['FAMI_VIVIENDA_PROPIA']))"
   ]
  },
  {
   "cell_type": "code",
   "execution_count": null,
   "metadata": {
    "collapsed": true
   },
   "outputs": [],
   "source": [
    "print(data_2003['FAMI_DEUDA_VIVIENDA'].value_counts().sort_index().index)\n",
    "print(data_2003['FAMI_DEUDA_VIVIENDA'].value_counts().sort_index())\n",
    "print(missing_data(data_2003['FAMI_DEUDA_VIVIENDA']))"
   ]
  },
  {
   "cell_type": "code",
   "execution_count": null,
   "metadata": {
    "collapsed": true
   },
   "outputs": [],
   "source": [
    "print(data_2003['FAMI_APORTANTES'].value_counts().sort_index().index)\n",
    "print(data_2003['FAMI_APORTANTES'].value_counts().sort_index())\n",
    "print(missing_data(data_2003['FAMI_APORTANTES']))"
   ]
  },
  {
   "cell_type": "code",
   "execution_count": null,
   "metadata": {
    "collapsed": true
   },
   "outputs": [],
   "source": [
    "print(data_2003['FAMI_INGRESO_FMILIAR_MENSUAL'].value_counts().sort_index().index)\n",
    "print(data_2003['FAMI_INGRESO_FMILIAR_MENSUAL'].value_counts().sort_index())\n",
    "print(missing_data(data_2003['FAMI_INGRESO_FMILIAR_MENSUAL']))"
   ]
  },
  {
   "cell_type": "code",
   "execution_count": null,
   "metadata": {
    "collapsed": true
   },
   "outputs": [],
   "source": [
    "print(data_2003['FAMI_LEE_ESCRIBE_PADRE'].value_counts().sort_index().index)\n",
    "print(data_2003['FAMI_LEE_ESCRIBE_PADRE'].value_counts().sort_index())\n",
    "print(missing_data(data_2003['FAMI_LEE_ESCRIBE_PADRE']))"
   ]
  },
  {
   "cell_type": "code",
   "execution_count": null,
   "metadata": {
    "collapsed": true
   },
   "outputs": [],
   "source": [
    "print(data_2003['FAMI_LEE_ESCRIBE_MADRE'].value_counts().sort_index().index)\n",
    "print(data_2003['FAMI_LEE_ESCRIBE_MADRE'].value_counts().sort_index())\n",
    "print(missing_data(data_2003['FAMI_LEE_ESCRIBE_MADRE']))"
   ]
  },
  {
   "cell_type": "code",
   "execution_count": null,
   "metadata": {
    "collapsed": true
   },
   "outputs": [],
   "source": [
    "print(data_2003['FAMI_EDUCA_PADRE'].value_counts().sort_index().index)\n",
    "print(data_2003['FAMI_EDUCA_PADRE'].value_counts().sort_index())\n",
    "print(missing_data(data_2003['FAMI_EDUCA_PADRE']))"
   ]
  },
  {
   "cell_type": "code",
   "execution_count": null,
   "metadata": {
    "collapsed": true
   },
   "outputs": [],
   "source": [
    "print(data_2003['FAMI_EDUCA_MADRE'].value_counts().sort_index().index)\n",
    "print(data_2003['FAMI_EDUCA_MADRE'].value_counts().sort_index())\n",
    "print(missing_data(data_2003['FAMI_EDUCA_MADRE']))"
   ]
  },
  {
   "cell_type": "code",
   "execution_count": null,
   "metadata": {
    "collapsed": true
   },
   "outputs": [],
   "source": [
    "print(data_2003['FAMI_OCUPA_PADRE'].value_counts().sort_index().index)\n",
    "print(data_2003['FAMI_OCUPA_PADRE'].value_counts().sort_index())\n",
    "print(missing_data(data_2003['FAMI_OCUPA_PADRE']))"
   ]
  },
  {
   "cell_type": "code",
   "execution_count": null,
   "metadata": {
    "collapsed": true
   },
   "outputs": [],
   "source": [
    "print(data_2003['FAMI_OCUPA_MADRE'].value_counts().sort_index().index)\n",
    "print(data_2003['FAMI_OCUPA_MADRE'].value_counts().sort_index())\n",
    "print(missing_data(data_2003['FAMI_OCUPA_MADRE']))"
   ]
  },
  {
   "cell_type": "code",
   "execution_count": null,
   "metadata": {
    "collapsed": true
   },
   "outputs": [],
   "source": [
    "print(data_2003['FAMI_NUM_HERMANOS'].value_counts().sort_index().index)\n",
    "print(data_2003['FAMI_NUM_HERMANOS'].value_counts().sort_index())\n",
    "print(missing_data(data_2003['FAMI_NUM_HERMANOS']))"
   ]
  },
  {
   "cell_type": "code",
   "execution_count": null,
   "metadata": {
    "collapsed": true
   },
   "outputs": [],
   "source": [
    "print(data_2003['FAMI_NUM_HERMANOS_EDUSUPERIOR'].value_counts().sort_index().index)\n",
    "print(data_2003['FAMI_NUM_HERMANOS_EDUSUPERIOR'].value_counts().sort_index())\n",
    "print(missing_data(data_2003['FAMI_NUM_HERMANOS_EDUSUPERIOR']))"
   ]
  },
  {
   "cell_type": "code",
   "execution_count": null,
   "metadata": {
    "collapsed": true
   },
   "outputs": [],
   "source": [
    "print(data_2003['FAMI_POSICION_HERMANOS'].value_counts().sort_index().index)\n",
    "print(data_2003['FAMI_POSICION_HERMANOS'].value_counts().sort_index())\n",
    "print(missing_data(data_2003['FAMI_POSICION_HERMANOS']))"
   ]
  },
  {
   "cell_type": "code",
   "execution_count": null,
   "metadata": {
    "collapsed": true
   },
   "outputs": [],
   "source": [
    "print(data_2003['FAMI_SOST_PERSONAL'].value_counts().sort_index().index)\n",
    "print(data_2003['FAMI_SOST_PERSONAL'].value_counts().sort_index())\n",
    "print(missing_data(data_2003['FAMI_SOST_PERSONAL']))"
   ]
  },
  {
   "cell_type": "code",
   "execution_count": null,
   "metadata": {
    "collapsed": true
   },
   "outputs": [],
   "source": [
    "print(data_2003['ESTU_TRABAJA'].value_counts().sort_index().index)\n",
    "print(data_2003['ESTU_TRABAJA'].value_counts().sort_index())\n",
    "print(missing_data(data_2003['ESTU_TRABAJA']))"
   ]
  },
  {
   "cell_type": "code",
   "execution_count": null,
   "metadata": {
    "collapsed": true
   },
   "outputs": [],
   "source": [
    "print(data_2003['ESTU_ACT_PROX_ANNO'].value_counts().sort_index().index)\n",
    "print(data_2003['ESTU_ACT_PROX_ANNO'].value_counts().sort_index())\n",
    "print(missing_data(data_2003['ESTU_ACT_PROX_ANNO']))"
   ]
  },
  {
   "cell_type": "code",
   "execution_count": null,
   "metadata": {
    "collapsed": true
   },
   "outputs": [],
   "source": [
    "print(data_2003['COLE_CALENDARIO'].value_counts().sort_index().index)\n",
    "print(data_2003['COLE_CALENDARIO'].value_counts().sort_index())\n",
    "print(missing_data(data_2003['COLE_CALENDARIO']))"
   ]
  },
  {
   "cell_type": "code",
   "execution_count": null,
   "metadata": {
    "collapsed": true
   },
   "outputs": [],
   "source": [
    "print(data_2003['COLE_BILINGUE'].value_counts().sort_index().index)\n",
    "print(data_2003['COLE_BILINGUE'].value_counts().sort_index())\n",
    "print(missing_data(data_2003['COLE_BILINGUE']))"
   ]
  },
  {
   "cell_type": "code",
   "execution_count": null,
   "metadata": {
    "collapsed": true
   },
   "outputs": [],
   "source": [
    "print(data_2003['COLE_CARACTER'].value_counts().sort_index().index)\n",
    "print(data_2003['COLE_CARACTER'].value_counts().sort_index())\n",
    "print(missing_data(data_2003['COLE_CARACTER']))"
   ]
  },
  {
   "cell_type": "code",
   "execution_count": null,
   "metadata": {
    "collapsed": true
   },
   "outputs": [],
   "source": [
    "print(data_2003['COLE_DEPTO_UBICACION'].value_counts().sort_index().index)\n",
    "print(data_2003['COLE_DEPTO_UBICACION'].value_counts().sort_index())\n",
    "print(missing_data(data_2003['COLE_DEPTO_UBICACION']))"
   ]
  },
  {
   "cell_type": "code",
   "execution_count": null,
   "metadata": {
    "collapsed": true
   },
   "outputs": [],
   "source": [
    "print(data_2003['COLE_MCPIO_UBICACION'].value_counts().sort_index().index)\n",
    "print(data_2003['COLE_MCPIO_UBICACION'].value_counts().sort_index())\n",
    "print(missing_data(data_2003['COLE_MCPIO_UBICACION']))"
   ]
  },
  {
   "cell_type": "code",
   "execution_count": null,
   "metadata": {
    "collapsed": true
   },
   "outputs": [],
   "source": [
    "print(data_2003['ESTU_RESIDE_DEPTO'].value_counts().sort_index().index)\n",
    "print(data_2003['ESTU_RESIDE_DEPTO'].value_counts().sort_index())\n",
    "print(missing_data(data_2003['ESTU_RESIDE_DEPTO']))"
   ]
  },
  {
   "cell_type": "code",
   "execution_count": null,
   "metadata": {
    "collapsed": true
   },
   "outputs": [],
   "source": [
    "print(data_2003['ESTU_RESIDE_MCPIO'].value_counts().sort_index().index)\n",
    "print(data_2003['ESTU_RESIDE_MCPIO'].value_counts().sort_index())\n",
    "print(missing_data(data_2003['ESTU_RESIDE_MCPIO']))"
   ]
  },
  {
   "cell_type": "markdown",
   "metadata": {},
   "source": [
    "### TARGETS"
   ]
  },
  {
   "cell_type": "code",
   "execution_count": null,
   "metadata": {
    "collapsed": true
   },
   "outputs": [],
   "source": [
    "print(data_2003['PUNT_BIOLOGIA'].value_counts().sort_index().index)\n",
    "print(data_2003['PUNT_BIOLOGIA'].value_counts().sort_index())\n",
    "print(missing_data(data_2003['PUNT_BIOLOGIA']))"
   ]
  },
  {
   "cell_type": "code",
   "execution_count": null,
   "metadata": {
    "collapsed": true
   },
   "outputs": [],
   "source": [
    "print(data_2003['PUNT_MATEMATICAS'].value_counts().sort_index().index)\n",
    "print(data_2003['PUNT_MATEMATICAS'].value_counts().sort_index())\n",
    "print(missing_data(data_2003['PUNT_MATEMATICAS']))"
   ]
  },
  {
   "cell_type": "code",
   "execution_count": null,
   "metadata": {
    "collapsed": true
   },
   "outputs": [],
   "source": [
    "print(data_2003['PUNT_FILOSOFIA'].value_counts().sort_index().index)\n",
    "print(data_2003['PUNT_FILOSOFIA'].value_counts().sort_index())\n",
    "print(missing_data(data_2003['PUNT_FILOSOFIA']))"
   ]
  },
  {
   "cell_type": "code",
   "execution_count": null,
   "metadata": {
    "collapsed": true
   },
   "outputs": [],
   "source": [
    "print(data_2003['PUNT_FISICA'].value_counts().sort_index().index)\n",
    "print(data_2003['PUNT_FISICA'].value_counts().sort_index())\n",
    "print(missing_data(data_2003['PUNT_FISICA']))"
   ]
  },
  {
   "cell_type": "code",
   "execution_count": null,
   "metadata": {
    "collapsed": true
   },
   "outputs": [],
   "source": [
    "print(data_2003['PUNT_HISTORIA'].value_counts().sort_index().index)\n",
    "print(data_2003['PUNT_HISTORIA'].value_counts().sort_index())\n",
    "print(missing_data(data_2003['PUNT_HISTORIA']))"
   ]
  },
  {
   "cell_type": "code",
   "execution_count": null,
   "metadata": {
    "collapsed": true
   },
   "outputs": [],
   "source": [
    "print(data_2003['PUNT_QUIMICA'].value_counts().sort_index().index)\n",
    "print(data_2003['PUNT_QUIMICA'].value_counts().sort_index())\n",
    "print(missing_data(data_2003['PUNT_QUIMICA']))"
   ]
  },
  {
   "cell_type": "code",
   "execution_count": null,
   "metadata": {
    "collapsed": true
   },
   "outputs": [],
   "source": [
    "print(data_2003['PUNT_LENGUAJE'].value_counts().sort_index().index)\n",
    "print(data_2003['PUNT_LENGUAJE'].value_counts().sort_index())\n",
    "print(missing_data(data_2003['PUNT_LENGUAJE']))"
   ]
  },
  {
   "cell_type": "code",
   "execution_count": null,
   "metadata": {
    "collapsed": true
   },
   "outputs": [],
   "source": [
    "print(data_2003['PUNT_GEOGRAFIA'].value_counts().sort_index().index)\n",
    "print(data_2003['PUNT_GEOGRAFIA'].value_counts().sort_index())\n",
    "print(missing_data(data_2003['PUNT_GEOGRAFIA']))"
   ]
  },
  {
   "cell_type": "code",
   "execution_count": null,
   "metadata": {
    "collapsed": true
   },
   "outputs": [],
   "source": [
    "print(data_2003['COD_INTERDISCIPLINAR'].value_counts().sort_index().index)\n",
    "print(data_2003['COD_INTERDISCIPLINAR'].value_counts().sort_index())\n",
    "print(missing_data(data_2003['COD_INTERDISCIPLINAR']))"
   ]
  },
  {
   "cell_type": "code",
   "execution_count": null,
   "metadata": {
    "collapsed": true
   },
   "outputs": [],
   "source": [
    "print(data_2003['PUNT_INTERDISCIPLINAR'].value_counts().sort_index().index)\n",
    "print(data_2003['PUNT_INTERDISCIPLINAR'].value_counts().sort_index())\n",
    "print(missing_data(data_2003['PUNT_INTERDISCIPLINAR']))"
   ]
  },
  {
   "cell_type": "code",
   "execution_count": null,
   "metadata": {
    "collapsed": true
   },
   "outputs": [],
   "source": [
    "print(data_2003['COD_IDIOMA'].value_counts().sort_index().index)\n",
    "print(data_2003['COD_IDIOMA'].value_counts().sort_index())\n",
    "print(missing_data(data_2003['COD_IDIOMA']))"
   ]
  },
  {
   "cell_type": "code",
   "execution_count": null,
   "metadata": {
    "collapsed": true
   },
   "outputs": [],
   "source": [
    "print(data_2003['PUNT_IDIOMA'].value_counts().sort_index().index)\n",
    "print(data_2003['PUNT_IDIOMA'].value_counts().sort_index())\n",
    "print(missing_data(data_2003['PUNT_IDIOMA']))"
   ]
  },
  {
   "cell_type": "markdown",
   "metadata": {},
   "source": [
    "# FILE 2 -> 2003_2"
   ]
  },
  {
   "cell_type": "code",
   "execution_count": 9,
   "metadata": {
    "collapsed": false
   },
   "outputs": [
    {
     "name": "stderr",
     "output_type": "stream",
     "text": [
      "/usr/local/anaconda3/lib/python3.5/site-packages/IPython/core/interactiveshell.py:2723: DtypeWarning: Columns (3,5,9,12,13,14,15,16,17,19,20,21,22,23,25,27,29,31,36,48) have mixed types. Specify dtype option on import or set low_memory=False.\n",
      "  interactivity=interactivity, compiler=compiler, result=result)\n"
     ]
    }
   ],
   "source": [
    "data_2003_2 = pd.read_csv('../DatosFTPICFES/SABER11/SB11-BASES_DE_DATOS/SB11-20032-RGSTRO-CLFCCN-V1-0.txt', delimiter = '|',\n",
    "                         encoding = \"iso-8859-1\")"
   ]
  },
  {
   "cell_type": "code",
   "execution_count": 10,
   "metadata": {
    "collapsed": false
   },
   "outputs": [
    {
     "data": {
      "text/plain": [
       "(354700, 57)"
      ]
     },
     "execution_count": 10,
     "metadata": {},
     "output_type": "execute_result"
    }
   ],
   "source": [
    "data_2003_2.shape"
   ]
  },
  {
   "cell_type": "code",
   "execution_count": 11,
   "metadata": {
    "collapsed": false,
    "scrolled": true
   },
   "outputs": [
    {
     "data": {
      "text/html": [
       "<div>\n",
       "<table border=\"1\" class=\"dataframe\">\n",
       "  <thead>\n",
       "    <tr style=\"text-align: right;\">\n",
       "      <th></th>\n",
       "      <th>0</th>\n",
       "      <th>1</th>\n",
       "      <th>2</th>\n",
       "    </tr>\n",
       "  </thead>\n",
       "  <tbody>\n",
       "    <tr>\n",
       "      <th>ESTU_CONSECUTIVO</th>\n",
       "      <td>SB11200320000001</td>\n",
       "      <td>SB11200320000002</td>\n",
       "      <td>SB11200320000003</td>\n",
       "    </tr>\n",
       "    <tr>\n",
       "      <th>COLE_COD_ICFES</th>\n",
       "      <td>27714</td>\n",
       "      <td>101865</td>\n",
       "      <td>59</td>\n",
       "    </tr>\n",
       "    <tr>\n",
       "      <th>COLE_NOMBRE_SEDE</th>\n",
       "      <td>INSTITUCION EDUCATIVA EXTERNADO PATRIA</td>\n",
       "      <td>COLEGIO GABRIEL RESTREPO MORENO</td>\n",
       "      <td>CENTRO FORMATIVO DE ANTIOQUIA CEFA</td>\n",
       "    </tr>\n",
       "    <tr>\n",
       "      <th>IND_ANNO_TERMINO_BACHILLERATO</th>\n",
       "      <td>2003</td>\n",
       "      <td>2003</td>\n",
       "      <td>2003</td>\n",
       "    </tr>\n",
       "    <tr>\n",
       "      <th>COLE_JORNADA</th>\n",
       "      <td>M</td>\n",
       "      <td>T</td>\n",
       "      <td>M</td>\n",
       "    </tr>\n",
       "    <tr>\n",
       "      <th>COLE_VALOR_PENSION</th>\n",
       "      <td>8</td>\n",
       "      <td>8</td>\n",
       "      <td>8</td>\n",
       "    </tr>\n",
       "    <tr>\n",
       "      <th>ESTU_GENERO</th>\n",
       "      <td>M</td>\n",
       "      <td>M</td>\n",
       "      <td>F</td>\n",
       "    </tr>\n",
       "    <tr>\n",
       "      <th>ESTU_NACIMIENTO_DIA</th>\n",
       "      <td>11</td>\n",
       "      <td>13</td>\n",
       "      <td>2</td>\n",
       "    </tr>\n",
       "    <tr>\n",
       "      <th>ESTU_NACIMIENTO_MES</th>\n",
       "      <td>5</td>\n",
       "      <td>3</td>\n",
       "      <td>1</td>\n",
       "    </tr>\n",
       "    <tr>\n",
       "      <th>ESTU_NACIMIENTO_ANNO</th>\n",
       "      <td>1986</td>\n",
       "      <td>1984</td>\n",
       "      <td>1985</td>\n",
       "    </tr>\n",
       "    <tr>\n",
       "      <th>ESTU_DEPTO_PRESENTACION</th>\n",
       "      <td>ANTIOQUIA</td>\n",
       "      <td>ANTIOQUIA</td>\n",
       "      <td>ANTIOQUIA</td>\n",
       "    </tr>\n",
       "    <tr>\n",
       "      <th>ESTU_MCPIO_PRESENTACION</th>\n",
       "      <td>MEDELLIN</td>\n",
       "      <td>MEDELLIN</td>\n",
       "      <td>MEDELLIN</td>\n",
       "    </tr>\n",
       "    <tr>\n",
       "      <th>ESTU_LIMITA_INVIDENTE</th>\n",
       "      <td>NaN</td>\n",
       "      <td>NaN</td>\n",
       "      <td>NaN</td>\n",
       "    </tr>\n",
       "    <tr>\n",
       "      <th>ESTU_LIMITA_SORDOINTERPRETE</th>\n",
       "      <td>NaN</td>\n",
       "      <td>NaN</td>\n",
       "      <td>NaN</td>\n",
       "    </tr>\n",
       "    <tr>\n",
       "      <th>ESTU_LIMITA_SORDONOINTERPRETE</th>\n",
       "      <td>NaN</td>\n",
       "      <td>NaN</td>\n",
       "      <td>NaN</td>\n",
       "    </tr>\n",
       "    <tr>\n",
       "      <th>ESTU_LIMITA_MOTRIZ</th>\n",
       "      <td>NaN</td>\n",
       "      <td>NaN</td>\n",
       "      <td>NaN</td>\n",
       "    </tr>\n",
       "    <tr>\n",
       "      <th>PUNT_BIOLOGIA</th>\n",
       "      <td>53</td>\n",
       "      <td>45</td>\n",
       "      <td>56</td>\n",
       "    </tr>\n",
       "    <tr>\n",
       "      <th>PUNT_MATEMATICAS</th>\n",
       "      <td>39</td>\n",
       "      <td>47</td>\n",
       "      <td>44</td>\n",
       "    </tr>\n",
       "    <tr>\n",
       "      <th>PUNT_FILOSOFIA</th>\n",
       "      <td>41</td>\n",
       "      <td>48</td>\n",
       "      <td>45</td>\n",
       "    </tr>\n",
       "    <tr>\n",
       "      <th>PUNT_FISICA</th>\n",
       "      <td>46</td>\n",
       "      <td>48</td>\n",
       "      <td>44</td>\n",
       "    </tr>\n",
       "    <tr>\n",
       "      <th>PUNT_HISTORIA</th>\n",
       "      <td>38</td>\n",
       "      <td>36</td>\n",
       "      <td>52</td>\n",
       "    </tr>\n",
       "    <tr>\n",
       "      <th>PUNT_QUIMICA</th>\n",
       "      <td>38</td>\n",
       "      <td>44</td>\n",
       "      <td>52</td>\n",
       "    </tr>\n",
       "    <tr>\n",
       "      <th>PUNT_LENGUAJE</th>\n",
       "      <td>37</td>\n",
       "      <td>46</td>\n",
       "      <td>58</td>\n",
       "    </tr>\n",
       "    <tr>\n",
       "      <th>PUNT_GEOGRAFIA</th>\n",
       "      <td>32</td>\n",
       "      <td>39</td>\n",
       "      <td>53</td>\n",
       "    </tr>\n",
       "    <tr>\n",
       "      <th>COD_INTERDISCIPLINAR</th>\n",
       "      <td>43</td>\n",
       "      <td>43</td>\n",
       "      <td>43</td>\n",
       "    </tr>\n",
       "    <tr>\n",
       "      <th>PUNT_INTERDISCIPLINAR</th>\n",
       "      <td>55</td>\n",
       "      <td>55</td>\n",
       "      <td>45</td>\n",
       "    </tr>\n",
       "    <tr>\n",
       "      <th>COD_IDIOMA</th>\n",
       "      <td>51</td>\n",
       "      <td>51</td>\n",
       "      <td>51</td>\n",
       "    </tr>\n",
       "    <tr>\n",
       "      <th>PUNT_IDIOMA</th>\n",
       "      <td>41</td>\n",
       "      <td>38</td>\n",
       "      <td>34</td>\n",
       "    </tr>\n",
       "    <tr>\n",
       "      <th>ESTU_IES_COD_DESEADA</th>\n",
       "      <td>1201</td>\n",
       "      <td>1201</td>\n",
       "      <td>1201</td>\n",
       "    </tr>\n",
       "    <tr>\n",
       "      <th>ESTU_RAZONINSTITUTO</th>\n",
       "      <td>7</td>\n",
       "      <td>7</td>\n",
       "      <td>5</td>\n",
       "    </tr>\n",
       "    <tr>\n",
       "      <th>ESTU_CARRDESEADA_COD</th>\n",
       "      <td>41201</td>\n",
       "      <td>43917</td>\n",
       "      <td>44111</td>\n",
       "    </tr>\n",
       "    <tr>\n",
       "      <th>ESTU_CARRDESEADA_RAZON</th>\n",
       "      <td>2</td>\n",
       "      <td>1</td>\n",
       "      <td>2</td>\n",
       "    </tr>\n",
       "    <tr>\n",
       "      <th>FAMI_PERSONAS_HOGAR</th>\n",
       "      <td>8</td>\n",
       "      <td>8</td>\n",
       "      <td>5</td>\n",
       "    </tr>\n",
       "    <tr>\n",
       "      <th>FAMI_VIVIENDA_PROPIA</th>\n",
       "      <td>N</td>\n",
       "      <td>S</td>\n",
       "      <td>N</td>\n",
       "    </tr>\n",
       "    <tr>\n",
       "      <th>FAMI_DEUDA_VIVIENDA</th>\n",
       "      <td>NaN</td>\n",
       "      <td>N</td>\n",
       "      <td>NaN</td>\n",
       "    </tr>\n",
       "    <tr>\n",
       "      <th>FAMI_APORTANTES</th>\n",
       "      <td>3</td>\n",
       "      <td>2</td>\n",
       "      <td>1</td>\n",
       "    </tr>\n",
       "    <tr>\n",
       "      <th>FAMI_INGRESO_FMILIAR_MENSUAL</th>\n",
       "      <td>1</td>\n",
       "      <td>0</td>\n",
       "      <td>1</td>\n",
       "    </tr>\n",
       "    <tr>\n",
       "      <th>FAMI_LEE_ESCRIBE_PADRE</th>\n",
       "      <td>S</td>\n",
       "      <td>NaN</td>\n",
       "      <td>S</td>\n",
       "    </tr>\n",
       "    <tr>\n",
       "      <th>FAMI_LEE_ESCRIBE_MADRE</th>\n",
       "      <td>S</td>\n",
       "      <td>NaN</td>\n",
       "      <td>S</td>\n",
       "    </tr>\n",
       "    <tr>\n",
       "      <th>FAMI_EDUCA_PADRE</th>\n",
       "      <td>3</td>\n",
       "      <td>NaN</td>\n",
       "      <td>4</td>\n",
       "    </tr>\n",
       "    <tr>\n",
       "      <th>FAMI_EDUCA_MADRE</th>\n",
       "      <td>1</td>\n",
       "      <td>NaN</td>\n",
       "      <td>4</td>\n",
       "    </tr>\n",
       "    <tr>\n",
       "      <th>FAMI_OCUPA_PADRE</th>\n",
       "      <td>09</td>\n",
       "      <td>NaN</td>\n",
       "      <td>06</td>\n",
       "    </tr>\n",
       "    <tr>\n",
       "      <th>FAMI_OCUPA_MADRE</th>\n",
       "      <td>10</td>\n",
       "      <td>NaN</td>\n",
       "      <td>05</td>\n",
       "    </tr>\n",
       "    <tr>\n",
       "      <th>FAMI_NUM_HERMANOS</th>\n",
       "      <td>1</td>\n",
       "      <td>3</td>\n",
       "      <td>3</td>\n",
       "    </tr>\n",
       "    <tr>\n",
       "      <th>FAMI_NUM_HERMANOS_EDUSUPERIOR</th>\n",
       "      <td>1</td>\n",
       "      <td>0</td>\n",
       "      <td>0</td>\n",
       "    </tr>\n",
       "    <tr>\n",
       "      <th>FAMI_POSICION_HERMANOS</th>\n",
       "      <td>2</td>\n",
       "      <td>1</td>\n",
       "      <td>3</td>\n",
       "    </tr>\n",
       "    <tr>\n",
       "      <th>FAMI_SOST_PERSONAL</th>\n",
       "      <td>NaN</td>\n",
       "      <td>T</td>\n",
       "      <td>T</td>\n",
       "    </tr>\n",
       "    <tr>\n",
       "      <th>ESTU_TRABAJA</th>\n",
       "      <td>N</td>\n",
       "      <td>S</td>\n",
       "      <td>N</td>\n",
       "    </tr>\n",
       "    <tr>\n",
       "      <th>ESTU_ACT_PROX_ANNO</th>\n",
       "      <td>3</td>\n",
       "      <td>3</td>\n",
       "      <td>1</td>\n",
       "    </tr>\n",
       "    <tr>\n",
       "      <th>COLE_CALENDARIO</th>\n",
       "      <td>A</td>\n",
       "      <td>F</td>\n",
       "      <td>A</td>\n",
       "    </tr>\n",
       "    <tr>\n",
       "      <th>COLE_BILINGUE</th>\n",
       "      <td>NaN</td>\n",
       "      <td>NaN</td>\n",
       "      <td>NaN</td>\n",
       "    </tr>\n",
       "    <tr>\n",
       "      <th>COLE_CARACTER</th>\n",
       "      <td>ACADEMICO</td>\n",
       "      <td>ACADEMICO</td>\n",
       "      <td>ACADEMICO Y TECNICO</td>\n",
       "    </tr>\n",
       "    <tr>\n",
       "      <th>COLE_DEPTO_UBICACION</th>\n",
       "      <td>ANTIOQUIA</td>\n",
       "      <td>ANTIOQUIA</td>\n",
       "      <td>ANTIOQUIA</td>\n",
       "    </tr>\n",
       "    <tr>\n",
       "      <th>COLE_MCPIO_UBICACION</th>\n",
       "      <td>MEDELLIN</td>\n",
       "      <td>MEDELLIN</td>\n",
       "      <td>MEDELLIN</td>\n",
       "    </tr>\n",
       "    <tr>\n",
       "      <th>ESTU_RESIDE_DEPTO</th>\n",
       "      <td>ANTIOQUIA</td>\n",
       "      <td>ANTIOQUIA</td>\n",
       "      <td>ANTIOQUIA</td>\n",
       "    </tr>\n",
       "    <tr>\n",
       "      <th>ESTU_RESIDE_MCPIO</th>\n",
       "      <td>MEDELLIN</td>\n",
       "      <td>MEDELLIN</td>\n",
       "      <td>MEDELLIN</td>\n",
       "    </tr>\n",
       "    <tr>\n",
       "      <th>ESTU_TIPO_DOCUMENTO</th>\n",
       "      <td>T</td>\n",
       "      <td>C</td>\n",
       "      <td>T</td>\n",
       "    </tr>\n",
       "  </tbody>\n",
       "</table>\n",
       "</div>"
      ],
      "text/plain": [
       "                                                                    0  \\\n",
       "ESTU_CONSECUTIVO                                     SB11200320000001   \n",
       "COLE_COD_ICFES                                                  27714   \n",
       "COLE_NOMBRE_SEDE               INSTITUCION EDUCATIVA EXTERNADO PATRIA   \n",
       "IND_ANNO_TERMINO_BACHILLERATO                                    2003   \n",
       "COLE_JORNADA                                                        M   \n",
       "COLE_VALOR_PENSION                                                  8   \n",
       "ESTU_GENERO                                                         M   \n",
       "ESTU_NACIMIENTO_DIA                                                11   \n",
       "ESTU_NACIMIENTO_MES                                                 5   \n",
       "ESTU_NACIMIENTO_ANNO                                             1986   \n",
       "ESTU_DEPTO_PRESENTACION                                     ANTIOQUIA   \n",
       "ESTU_MCPIO_PRESENTACION                                      MEDELLIN   \n",
       "ESTU_LIMITA_INVIDENTE                                             NaN   \n",
       "ESTU_LIMITA_SORDOINTERPRETE                                       NaN   \n",
       "ESTU_LIMITA_SORDONOINTERPRETE                                     NaN   \n",
       "ESTU_LIMITA_MOTRIZ                                                NaN   \n",
       "PUNT_BIOLOGIA                                                      53   \n",
       "PUNT_MATEMATICAS                                                   39   \n",
       "PUNT_FILOSOFIA                                                     41   \n",
       "PUNT_FISICA                                                        46   \n",
       "PUNT_HISTORIA                                                      38   \n",
       "PUNT_QUIMICA                                                       38   \n",
       "PUNT_LENGUAJE                                                      37   \n",
       "PUNT_GEOGRAFIA                                                     32   \n",
       "COD_INTERDISCIPLINAR                                               43   \n",
       "PUNT_INTERDISCIPLINAR                                              55   \n",
       "COD_IDIOMA                                                         51   \n",
       "PUNT_IDIOMA                                                        41   \n",
       "ESTU_IES_COD_DESEADA                                             1201   \n",
       "ESTU_RAZONINSTITUTO                                                 7   \n",
       "ESTU_CARRDESEADA_COD                                            41201   \n",
       "ESTU_CARRDESEADA_RAZON                                              2   \n",
       "FAMI_PERSONAS_HOGAR                                                 8   \n",
       "FAMI_VIVIENDA_PROPIA                                                N   \n",
       "FAMI_DEUDA_VIVIENDA                                               NaN   \n",
       "FAMI_APORTANTES                                                     3   \n",
       "FAMI_INGRESO_FMILIAR_MENSUAL                                        1   \n",
       "FAMI_LEE_ESCRIBE_PADRE                                              S   \n",
       "FAMI_LEE_ESCRIBE_MADRE                                              S   \n",
       "FAMI_EDUCA_PADRE                                                    3   \n",
       "FAMI_EDUCA_MADRE                                                    1   \n",
       "FAMI_OCUPA_PADRE                                                   09   \n",
       "FAMI_OCUPA_MADRE                                                   10   \n",
       "FAMI_NUM_HERMANOS                                                   1   \n",
       "FAMI_NUM_HERMANOS_EDUSUPERIOR                                       1   \n",
       "FAMI_POSICION_HERMANOS                                              2   \n",
       "FAMI_SOST_PERSONAL                                                NaN   \n",
       "ESTU_TRABAJA                                                        N   \n",
       "ESTU_ACT_PROX_ANNO                                                  3   \n",
       "COLE_CALENDARIO                                                     A   \n",
       "COLE_BILINGUE                                                     NaN   \n",
       "COLE_CARACTER                                               ACADEMICO   \n",
       "COLE_DEPTO_UBICACION                                        ANTIOQUIA   \n",
       "COLE_MCPIO_UBICACION                                         MEDELLIN   \n",
       "ESTU_RESIDE_DEPTO                                           ANTIOQUIA   \n",
       "ESTU_RESIDE_MCPIO                                            MEDELLIN   \n",
       "ESTU_TIPO_DOCUMENTO                                                 T   \n",
       "\n",
       "                                                             1  \\\n",
       "ESTU_CONSECUTIVO                              SB11200320000002   \n",
       "COLE_COD_ICFES                                          101865   \n",
       "COLE_NOMBRE_SEDE               COLEGIO GABRIEL RESTREPO MORENO   \n",
       "IND_ANNO_TERMINO_BACHILLERATO                             2003   \n",
       "COLE_JORNADA                                                 T   \n",
       "COLE_VALOR_PENSION                                           8   \n",
       "ESTU_GENERO                                                  M   \n",
       "ESTU_NACIMIENTO_DIA                                         13   \n",
       "ESTU_NACIMIENTO_MES                                          3   \n",
       "ESTU_NACIMIENTO_ANNO                                      1984   \n",
       "ESTU_DEPTO_PRESENTACION                              ANTIOQUIA   \n",
       "ESTU_MCPIO_PRESENTACION                               MEDELLIN   \n",
       "ESTU_LIMITA_INVIDENTE                                      NaN   \n",
       "ESTU_LIMITA_SORDOINTERPRETE                                NaN   \n",
       "ESTU_LIMITA_SORDONOINTERPRETE                              NaN   \n",
       "ESTU_LIMITA_MOTRIZ                                         NaN   \n",
       "PUNT_BIOLOGIA                                               45   \n",
       "PUNT_MATEMATICAS                                            47   \n",
       "PUNT_FILOSOFIA                                              48   \n",
       "PUNT_FISICA                                                 48   \n",
       "PUNT_HISTORIA                                               36   \n",
       "PUNT_QUIMICA                                                44   \n",
       "PUNT_LENGUAJE                                               46   \n",
       "PUNT_GEOGRAFIA                                              39   \n",
       "COD_INTERDISCIPLINAR                                        43   \n",
       "PUNT_INTERDISCIPLINAR                                       55   \n",
       "COD_IDIOMA                                                  51   \n",
       "PUNT_IDIOMA                                                 38   \n",
       "ESTU_IES_COD_DESEADA                                      1201   \n",
       "ESTU_RAZONINSTITUTO                                          7   \n",
       "ESTU_CARRDESEADA_COD                                     43917   \n",
       "ESTU_CARRDESEADA_RAZON                                       1   \n",
       "FAMI_PERSONAS_HOGAR                                          8   \n",
       "FAMI_VIVIENDA_PROPIA                                         S   \n",
       "FAMI_DEUDA_VIVIENDA                                          N   \n",
       "FAMI_APORTANTES                                              2   \n",
       "FAMI_INGRESO_FMILIAR_MENSUAL                                 0   \n",
       "FAMI_LEE_ESCRIBE_PADRE                                     NaN   \n",
       "FAMI_LEE_ESCRIBE_MADRE                                     NaN   \n",
       "FAMI_EDUCA_PADRE                                           NaN   \n",
       "FAMI_EDUCA_MADRE                                           NaN   \n",
       "FAMI_OCUPA_PADRE                                           NaN   \n",
       "FAMI_OCUPA_MADRE                                           NaN   \n",
       "FAMI_NUM_HERMANOS                                            3   \n",
       "FAMI_NUM_HERMANOS_EDUSUPERIOR                                0   \n",
       "FAMI_POSICION_HERMANOS                                       1   \n",
       "FAMI_SOST_PERSONAL                                           T   \n",
       "ESTU_TRABAJA                                                 S   \n",
       "ESTU_ACT_PROX_ANNO                                           3   \n",
       "COLE_CALENDARIO                                              F   \n",
       "COLE_BILINGUE                                              NaN   \n",
       "COLE_CARACTER                                        ACADEMICO   \n",
       "COLE_DEPTO_UBICACION                                 ANTIOQUIA   \n",
       "COLE_MCPIO_UBICACION                                  MEDELLIN   \n",
       "ESTU_RESIDE_DEPTO                                    ANTIOQUIA   \n",
       "ESTU_RESIDE_MCPIO                                     MEDELLIN   \n",
       "ESTU_TIPO_DOCUMENTO                                          C   \n",
       "\n",
       "                                                                2  \n",
       "ESTU_CONSECUTIVO                                 SB11200320000003  \n",
       "COLE_COD_ICFES                                                 59  \n",
       "COLE_NOMBRE_SEDE               CENTRO FORMATIVO DE ANTIOQUIA CEFA  \n",
       "IND_ANNO_TERMINO_BACHILLERATO                                2003  \n",
       "COLE_JORNADA                                                    M  \n",
       "COLE_VALOR_PENSION                                              8  \n",
       "ESTU_GENERO                                                     F  \n",
       "ESTU_NACIMIENTO_DIA                                             2  \n",
       "ESTU_NACIMIENTO_MES                                             1  \n",
       "ESTU_NACIMIENTO_ANNO                                         1985  \n",
       "ESTU_DEPTO_PRESENTACION                                 ANTIOQUIA  \n",
       "ESTU_MCPIO_PRESENTACION                                  MEDELLIN  \n",
       "ESTU_LIMITA_INVIDENTE                                         NaN  \n",
       "ESTU_LIMITA_SORDOINTERPRETE                                   NaN  \n",
       "ESTU_LIMITA_SORDONOINTERPRETE                                 NaN  \n",
       "ESTU_LIMITA_MOTRIZ                                            NaN  \n",
       "PUNT_BIOLOGIA                                                  56  \n",
       "PUNT_MATEMATICAS                                               44  \n",
       "PUNT_FILOSOFIA                                                 45  \n",
       "PUNT_FISICA                                                    44  \n",
       "PUNT_HISTORIA                                                  52  \n",
       "PUNT_QUIMICA                                                   52  \n",
       "PUNT_LENGUAJE                                                  58  \n",
       "PUNT_GEOGRAFIA                                                 53  \n",
       "COD_INTERDISCIPLINAR                                           43  \n",
       "PUNT_INTERDISCIPLINAR                                          45  \n",
       "COD_IDIOMA                                                     51  \n",
       "PUNT_IDIOMA                                                    34  \n",
       "ESTU_IES_COD_DESEADA                                         1201  \n",
       "ESTU_RAZONINSTITUTO                                             5  \n",
       "ESTU_CARRDESEADA_COD                                        44111  \n",
       "ESTU_CARRDESEADA_RAZON                                          2  \n",
       "FAMI_PERSONAS_HOGAR                                             5  \n",
       "FAMI_VIVIENDA_PROPIA                                            N  \n",
       "FAMI_DEUDA_VIVIENDA                                           NaN  \n",
       "FAMI_APORTANTES                                                 1  \n",
       "FAMI_INGRESO_FMILIAR_MENSUAL                                    1  \n",
       "FAMI_LEE_ESCRIBE_PADRE                                          S  \n",
       "FAMI_LEE_ESCRIBE_MADRE                                          S  \n",
       "FAMI_EDUCA_PADRE                                                4  \n",
       "FAMI_EDUCA_MADRE                                                4  \n",
       "FAMI_OCUPA_PADRE                                               06  \n",
       "FAMI_OCUPA_MADRE                                               05  \n",
       "FAMI_NUM_HERMANOS                                               3  \n",
       "FAMI_NUM_HERMANOS_EDUSUPERIOR                                   0  \n",
       "FAMI_POSICION_HERMANOS                                          3  \n",
       "FAMI_SOST_PERSONAL                                              T  \n",
       "ESTU_TRABAJA                                                    N  \n",
       "ESTU_ACT_PROX_ANNO                                              1  \n",
       "COLE_CALENDARIO                                                 A  \n",
       "COLE_BILINGUE                                                 NaN  \n",
       "COLE_CARACTER                                 ACADEMICO Y TECNICO  \n",
       "COLE_DEPTO_UBICACION                                    ANTIOQUIA  \n",
       "COLE_MCPIO_UBICACION                                     MEDELLIN  \n",
       "ESTU_RESIDE_DEPTO                                       ANTIOQUIA  \n",
       "ESTU_RESIDE_MCPIO                                        MEDELLIN  \n",
       "ESTU_TIPO_DOCUMENTO                                             T  "
      ]
     },
     "execution_count": 11,
     "metadata": {},
     "output_type": "execute_result"
    }
   ],
   "source": [
    "data_2003_2.head(3).T"
   ]
  },
  {
   "cell_type": "markdown",
   "metadata": {},
   "source": [
    "The first step is delete the columns that won't contribute to the work"
   ]
  },
  {
   "cell_type": "code",
   "execution_count": 13,
   "metadata": {
    "collapsed": true
   },
   "outputs": [],
   "source": [
    "data_2003_2 = data_2003_2.drop(['ESTU_CONSECUTIVO', 'COLE_NOMBRE_SEDE', 'ESTU_TIPO_DOCUMENTO'], axis=1)"
   ]
  },
  {
   "cell_type": "code",
   "execution_count": null,
   "metadata": {
    "collapsed": true
   },
   "outputs": [],
   "source": [
    "print(data_2003_2['COLE_COD_ICFES'].value_counts().sort_index().index)\n",
    "print(data_2003_2['COLE_COD_ICFES'].value_counts().sort_index())\n",
    "print(missing_data(data_2003_2['COLE_COD_ICFES']))"
   ]
  },
  {
   "cell_type": "code",
   "execution_count": null,
   "metadata": {
    "collapsed": true
   },
   "outputs": [],
   "source": [
    "print(data_2003_2['IND_ANNO_TERMINO_BACHILLERATO'].value_counts().sort_index().index)\n",
    "print(data_2003_2['IND_ANNO_TERMINO_BACHILLERATO'].value_counts().sort_index())\n",
    "print(missing_data(data_2003_2['IND_ANNO_TERMINO_BACHILLERATO']))"
   ]
  },
  {
   "cell_type": "code",
   "execution_count": null,
   "metadata": {
    "collapsed": true
   },
   "outputs": [],
   "source": [
    "print(data_2003_2['COLE_JORNADA'].value_counts().sort_index().index)\n",
    "print(data_2003_2['COLE_JORNADA'].value_counts().sort_index())\n",
    "print(missing_data(data_2003_2['COLE_JORNADA']))"
   ]
  },
  {
   "cell_type": "code",
   "execution_count": null,
   "metadata": {
    "collapsed": true
   },
   "outputs": [],
   "source": [
    "print(data_2003_2['COLE_VALOR_PENSION'].value_counts().sort_index().index)\n",
    "print(data_2003_2['COLE_VALOR_PENSION'].value_counts().sort_index())\n",
    "print(missing_data(data_2003_2['COLE_VALOR_PENSION']))"
   ]
  },
  {
   "cell_type": "code",
   "execution_count": null,
   "metadata": {
    "collapsed": true
   },
   "outputs": [],
   "source": [
    "print(data_2003_2['ESTU_GENERO'].value_counts().sort_index().index)\n",
    "print(data_2003_2['ESTU_GENERO'].value_counts().sort_index())\n",
    "print(missing_data(data_2003_2['ESTU_GENERO']))"
   ]
  },
  {
   "cell_type": "code",
   "execution_count": null,
   "metadata": {
    "collapsed": true
   },
   "outputs": [],
   "source": [
    "print(data_2003_2['ESTU_NACIMIENTO_DIA'].value_counts().sort_index().index)\n",
    "print(data_2003_2['ESTU_NACIMIENTO_DIA'].value_counts().sort_index())\n",
    "print(missing_data(data_2003_2['ESTU_NACIMIENTO_DIA']))"
   ]
  },
  {
   "cell_type": "code",
   "execution_count": null,
   "metadata": {
    "collapsed": true
   },
   "outputs": [],
   "source": [
    "print(data_2003_2['ESTU_NACIMIENTO_MES'].value_counts().sort_index().index)\n",
    "print(data_2003_2['ESTU_NACIMIENTO_MES'].value_counts().sort_index())\n",
    "print(missing_data(data_2003_2['ESTU_NACIMIENTO_MES']))"
   ]
  },
  {
   "cell_type": "code",
   "execution_count": null,
   "metadata": {
    "collapsed": true
   },
   "outputs": [],
   "source": [
    "print(data_2003_2['ESTU_NACIMIENTO_ANNO'].value_counts().sort_index().index)\n",
    "print(data_2003_2['ESTU_NACIMIENTO_ANNO'].value_counts().sort_index())\n",
    "print(missing_data(data_2003_2['ESTU_NACIMIENTO_ANNO']))"
   ]
  },
  {
   "cell_type": "code",
   "execution_count": null,
   "metadata": {
    "collapsed": true
   },
   "outputs": [],
   "source": [
    "print(data_2003_2['ESTU_DEPTO_PRESENTACION'].value_counts().sort_index().index)\n",
    "print(data_2003_2['ESTU_DEPTO_PRESENTACION'].value_counts().sort_index())\n",
    "print(missing_data(data_2003_2['ESTU_DEPTO_PRESENTACION']))"
   ]
  },
  {
   "cell_type": "code",
   "execution_count": null,
   "metadata": {
    "collapsed": true
   },
   "outputs": [],
   "source": [
    "print(data_2003_2['ESTU_MCPIO_PRESENTACION'].value_counts().sort_index().index)\n",
    "print(data_2003_2['ESTU_MCPIO_PRESENTACION'].value_counts().sort_index())\n",
    "print(missing_data(data_2003_2['ESTU_MCPIO_PRESENTACION']))"
   ]
  },
  {
   "cell_type": "code",
   "execution_count": null,
   "metadata": {
    "collapsed": true
   },
   "outputs": [],
   "source": [
    "print(data_2003_2['ESTU_LIMITA_INVIDENTE'].value_counts().sort_index().index)\n",
    "print(data_2003_2['ESTU_LIMITA_INVIDENTE'].value_counts().sort_index())\n",
    "print(missing_data(data_2003_2['ESTU_LIMITA_INVIDENTE']))"
   ]
  },
  {
   "cell_type": "code",
   "execution_count": null,
   "metadata": {
    "collapsed": true
   },
   "outputs": [],
   "source": [
    "print(data_2003_2['ESTU_LIMITA_SORDOINTERPRETE'].value_counts().sort_index().index)\n",
    "print(data_2003_2['ESTU_LIMITA_SORDOINTERPRETE'].value_counts().sort_index())\n",
    "print(missing_data(data_2003_2['ESTU_LIMITA_SORDOINTERPRETE']))"
   ]
  },
  {
   "cell_type": "code",
   "execution_count": null,
   "metadata": {
    "collapsed": true
   },
   "outputs": [],
   "source": [
    "print(data_2003_2['ESTU_LIMITA_SORDONOINTERPRETE'].value_counts().sort_index().index)\n",
    "print(data_2003_2['ESTU_LIMITA_SORDONOINTERPRETE'].value_counts().sort_index())\n",
    "print(missing_data(data_2003_2['ESTU_LIMITA_SORDONOINTERPRETE']))"
   ]
  },
  {
   "cell_type": "code",
   "execution_count": null,
   "metadata": {
    "collapsed": true
   },
   "outputs": [],
   "source": [
    "print(data_2003_2['ESTU_LIMITA_MOTRIZ'].value_counts().sort_index().index)\n",
    "print(data_2003_2['ESTU_LIMITA_MOTRIZ'].value_counts().sort_index())\n",
    "print(missing_data(data_2003_2['ESTU_LIMITA_MOTRIZ']))"
   ]
  },
  {
   "cell_type": "code",
   "execution_count": null,
   "metadata": {
    "collapsed": true
   },
   "outputs": [],
   "source": [
    "print(data_2003_2['ESTU_IES_COD_DESEADA'].value_counts().sort_index().index)\n",
    "print(data_2003_2['ESTU_IES_COD_DESEADA'].value_counts().sort_index())\n",
    "print(missing_data(data_2003_2['ESTU_IES_COD_DESEADA']))"
   ]
  },
  {
   "cell_type": "code",
   "execution_count": null,
   "metadata": {
    "collapsed": true
   },
   "outputs": [],
   "source": [
    "print(data_2003_2['ESTU_RAZONINSTITUTO'].value_counts().sort_index().index)\n",
    "print(data_2003_2['ESTU_RAZONINSTITUTO'].value_counts().sort_index())\n",
    "print(missing_data(data_2003_2['ESTU_RAZONINSTITUTO']))"
   ]
  },
  {
   "cell_type": "code",
   "execution_count": null,
   "metadata": {
    "collapsed": true
   },
   "outputs": [],
   "source": [
    "print(data_2003_2['ESTU_CARRDESEADA_COD'].value_counts().sort_index().index)\n",
    "print(data_2003_2['ESTU_CARRDESEADA_COD'].value_counts().sort_index())\n",
    "print(missing_data(data_2003_2['ESTU_CARRDESEADA_COD']))"
   ]
  },
  {
   "cell_type": "code",
   "execution_count": null,
   "metadata": {
    "collapsed": true
   },
   "outputs": [],
   "source": [
    "print(data_2003_2['ESTU_CARRDESEADA_RAZON'].value_counts().sort_index().index)\n",
    "print(data_2003_2['ESTU_CARRDESEADA_RAZON'].value_counts().sort_index())\n",
    "print(missing_data(data_2003_2['ESTU_CARRDESEADA_RAZON']))"
   ]
  },
  {
   "cell_type": "code",
   "execution_count": null,
   "metadata": {
    "collapsed": true
   },
   "outputs": [],
   "source": [
    "print(data_2003_2['FAMI_PERSONAS_HOGAR'].value_counts().sort_index().index)\n",
    "print(data_2003_2['FAMI_PERSONAS_HOGAR'].value_counts().sort_index())\n",
    "print(missing_data(data_2003_2['FAMI_PERSONAS_HOGAR']))"
   ]
  },
  {
   "cell_type": "code",
   "execution_count": null,
   "metadata": {
    "collapsed": true
   },
   "outputs": [],
   "source": [
    "print(data_2003_2['FAMI_VIVIENDA_PROPIA'].value_counts().sort_index().index)\n",
    "print(data_2003_2['FAMI_VIVIENDA_PROPIA'].value_counts().sort_index())\n",
    "print(missing_data(data_2003_2['FAMI_VIVIENDA_PROPIA']))"
   ]
  },
  {
   "cell_type": "code",
   "execution_count": null,
   "metadata": {
    "collapsed": true
   },
   "outputs": [],
   "source": [
    "print(data_2003_2['FAMI_DEUDA_VIVIENDA'].value_counts().sort_index().index)\n",
    "print(data_2003_2['FAMI_DEUDA_VIVIENDA'].value_counts().sort_index())\n",
    "print(missing_data(data_2003_2['FAMI_DEUDA_VIVIENDA']))"
   ]
  },
  {
   "cell_type": "code",
   "execution_count": null,
   "metadata": {
    "collapsed": true
   },
   "outputs": [],
   "source": [
    "print(data_2003_2['FAMI_APORTANTES'].value_counts().sort_index().index)\n",
    "print(data_2003_2['FAMI_APORTANTES'].value_counts().sort_index())\n",
    "print(missing_data(data_2003_2['FAMI_APORTANTES']))"
   ]
  },
  {
   "cell_type": "code",
   "execution_count": null,
   "metadata": {
    "collapsed": true
   },
   "outputs": [],
   "source": [
    "print(data_2003_2['FAMI_INGRESO_FMILIAR_MENSUAL'].value_counts().sort_index().index)\n",
    "print(data_2003_2['FAMI_INGRESO_FMILIAR_MENSUAL'].value_counts().sort_index())\n",
    "print(missing_data(data_2003_2['FAMI_INGRESO_FMILIAR_MENSUAL']))"
   ]
  },
  {
   "cell_type": "code",
   "execution_count": null,
   "metadata": {
    "collapsed": true
   },
   "outputs": [],
   "source": [
    "print(data_2003_2['FAMI_LEE_ESCRIBE_PADRE'].value_counts().sort_index().index)\n",
    "print(data_2003_2['FAMI_LEE_ESCRIBE_PADRE'].value_counts().sort_index())\n",
    "print(missing_data(data_2003_2['FAMI_LEE_ESCRIBE_PADRE']))"
   ]
  },
  {
   "cell_type": "code",
   "execution_count": null,
   "metadata": {
    "collapsed": true
   },
   "outputs": [],
   "source": [
    "print(data_2003_2['FAMI_LEE_ESCRIBE_MADRE'].value_counts().sort_index().index)\n",
    "print(data_2003_2['FAMI_LEE_ESCRIBE_MADRE'].value_counts().sort_index())\n",
    "print(missing_data(data_2003_2['FAMI_LEE_ESCRIBE_MADRE']))"
   ]
  },
  {
   "cell_type": "code",
   "execution_count": null,
   "metadata": {
    "collapsed": true
   },
   "outputs": [],
   "source": [
    "print(data_2003_2['FAMI_EDUCA_PADRE'].value_counts().sort_index().index)\n",
    "print(data_2003_2['FAMI_EDUCA_PADRE'].value_counts().sort_index())\n",
    "print(missing_data(data_2003_2['FAMI_EDUCA_PADRE']))"
   ]
  },
  {
   "cell_type": "code",
   "execution_count": null,
   "metadata": {
    "collapsed": true
   },
   "outputs": [],
   "source": [
    "print(data_2003_2['FAMI_EDUCA_MADRE'].value_counts().sort_index().index)\n",
    "print(data_2003_2['FAMI_EDUCA_MADRE'].value_counts().sort_index())\n",
    "print(missing_data(data_2003_2['FAMI_EDUCA_MADRE']))"
   ]
  },
  {
   "cell_type": "code",
   "execution_count": null,
   "metadata": {
    "collapsed": true
   },
   "outputs": [],
   "source": [
    "print(data_2003_2['FAMI_OCUPA_PADRE'].value_counts().sort_index().index)\n",
    "print(data_2003_2['FAMI_OCUPA_PADRE'].value_counts().sort_index())\n",
    "print(missing_data(data_2003_2['FAMI_OCUPA_PADRE']))"
   ]
  },
  {
   "cell_type": "code",
   "execution_count": null,
   "metadata": {
    "collapsed": true
   },
   "outputs": [],
   "source": [
    "print(data_2003_2['FAMI_OCUPA_MADRE'].value_counts().sort_index().index)\n",
    "print(data_2003_2['FAMI_OCUPA_MADRE'].value_counts().sort_index())\n",
    "print(missing_data(data_2003_2['FAMI_OCUPA_MADRE']))"
   ]
  },
  {
   "cell_type": "code",
   "execution_count": null,
   "metadata": {
    "collapsed": true
   },
   "outputs": [],
   "source": [
    "print(data_2003_2['FAMI_NUM_HERMANOS'].value_counts().sort_index().index)\n",
    "print(data_2003_2['FAMI_NUM_HERMANOS'].value_counts().sort_index())\n",
    "print(missing_data(data_2003_2['FAMI_NUM_HERMANOS']))"
   ]
  },
  {
   "cell_type": "code",
   "execution_count": null,
   "metadata": {
    "collapsed": true
   },
   "outputs": [],
   "source": [
    "print(data_2003_2['FAMI_NUM_HERMANOS_EDUSUPERIOR'].value_counts().sort_index().index)\n",
    "print(data_2003_2['FAMI_NUM_HERMANOS_EDUSUPERIOR'].value_counts().sort_index())\n",
    "print(missing_data(data_2003_2['FAMI_NUM_HERMANOS_EDUSUPERIOR']))"
   ]
  },
  {
   "cell_type": "code",
   "execution_count": null,
   "metadata": {
    "collapsed": true
   },
   "outputs": [],
   "source": [
    "print(data_2003_2['FAMI_POSICION_HERMANOS'].value_counts().sort_index().index)\n",
    "print(data_2003_2['FAMI_POSICION_HERMANOS'].value_counts().sort_index())\n",
    "print(missing_data(data_2003_2['FAMI_POSICION_HERMANOS']))"
   ]
  },
  {
   "cell_type": "code",
   "execution_count": null,
   "metadata": {
    "collapsed": true
   },
   "outputs": [],
   "source": [
    "print(data_2003_2['FAMI_SOST_PERSONAL'].value_counts().sort_index().index)\n",
    "print(data_2003_2['FAMI_SOST_PERSONAL'].value_counts().sort_index())\n",
    "print(missing_data(data_2003_2['FAMI_SOST_PERSONAL']))"
   ]
  },
  {
   "cell_type": "code",
   "execution_count": null,
   "metadata": {
    "collapsed": true
   },
   "outputs": [],
   "source": [
    "print(data_2003_2['ESTU_TRABAJA'].value_counts().sort_index().index)\n",
    "print(data_2003_2['ESTU_TRABAJA'].value_counts().sort_index())\n",
    "print(missing_data(data_2003_2['ESTU_TRABAJA']))"
   ]
  },
  {
   "cell_type": "code",
   "execution_count": null,
   "metadata": {
    "collapsed": true
   },
   "outputs": [],
   "source": [
    "print(data_2003_2['ESTU_ACT_PROX_ANNO'].value_counts().sort_index().index)\n",
    "print(data_2003_2['ESTU_ACT_PROX_ANNO'].value_counts().sort_index())\n",
    "print(missing_data(data_2003_2['ESTU_ACT_PROX_ANNO']))"
   ]
  },
  {
   "cell_type": "code",
   "execution_count": null,
   "metadata": {
    "collapsed": true
   },
   "outputs": [],
   "source": [
    "print(data_2003_2['COLE_CALENDARIO'].value_counts().sort_index().index)\n",
    "print(data_2003_2['COLE_CALENDARIO'].value_counts().sort_index())\n",
    "print(missing_data(data_2003_2['COLE_CALENDARIO']))"
   ]
  },
  {
   "cell_type": "code",
   "execution_count": null,
   "metadata": {
    "collapsed": true
   },
   "outputs": [],
   "source": [
    "print(data_2003_2['COLE_BILINGUE'].value_counts().sort_index().index)\n",
    "print(data_2003_2['COLE_BILINGUE'].value_counts().sort_index())\n",
    "print(missing_data(data_2003_2['COLE_BILINGUE']))"
   ]
  },
  {
   "cell_type": "code",
   "execution_count": null,
   "metadata": {
    "collapsed": true
   },
   "outputs": [],
   "source": [
    "print(data_2003_2['COLE_CARACTER'].value_counts().sort_index().index)\n",
    "print(data_2003_2['COLE_CARACTER'].value_counts().sort_index())\n",
    "print(missing_data(data_2003_2['COLE_CARACTER']))"
   ]
  },
  {
   "cell_type": "code",
   "execution_count": null,
   "metadata": {
    "collapsed": true
   },
   "outputs": [],
   "source": [
    "print(data_2003_2['COLE_DEPTO_UBICACION'].value_counts().sort_index().index)\n",
    "print(data_2003_2['COLE_DEPTO_UBICACION'].value_counts().sort_index())\n",
    "print(missing_data(data_2003_2['COLE_DEPTO_UBICACION']))"
   ]
  },
  {
   "cell_type": "code",
   "execution_count": null,
   "metadata": {
    "collapsed": true
   },
   "outputs": [],
   "source": [
    "print(data_2003_2['COLE_MCPIO_UBICACION'].value_counts().sort_index().index)\n",
    "print(data_2003_2['COLE_MCPIO_UBICACION'].value_counts().sort_index())\n",
    "print(missing_data(data_2003_2['COLE_MCPIO_UBICACION']))"
   ]
  },
  {
   "cell_type": "code",
   "execution_count": null,
   "metadata": {
    "collapsed": true
   },
   "outputs": [],
   "source": [
    "print(data_2003_2['ESTU_RESIDE_DEPTO'].value_counts().sort_index().index)\n",
    "print(data_2003_2['ESTU_RESIDE_DEPTO'].value_counts().sort_index())\n",
    "print(missing_data(data_2003_2['ESTU_RESIDE_DEPTO']))"
   ]
  },
  {
   "cell_type": "code",
   "execution_count": null,
   "metadata": {
    "collapsed": true
   },
   "outputs": [],
   "source": [
    "print(data_2003_2['ESTU_RESIDE_MCPIO'].value_counts().sort_index().index)\n",
    "print(data_2003_2['ESTU_RESIDE_MCPIO'].value_counts().sort_index())\n",
    "print(missing_data(data_2003_2['ESTU_RESIDE_MCPIO']))"
   ]
  },
  {
   "cell_type": "markdown",
   "metadata": {},
   "source": [
    "### TARGETS"
   ]
  },
  {
   "cell_type": "code",
   "execution_count": null,
   "metadata": {
    "collapsed": true
   },
   "outputs": [],
   "source": [
    "print(data_2003_2['PUNT_BIOLOGIA'].value_counts().sort_index().index)\n",
    "print(data_2003_2['PUNT_BIOLOGIA'].value_counts().sort_index())\n",
    "print(missing_data(data_2003_2['PUNT_BIOLOGIA']))"
   ]
  },
  {
   "cell_type": "code",
   "execution_count": null,
   "metadata": {
    "collapsed": true
   },
   "outputs": [],
   "source": [
    "print(data_2003_2['PUNT_MATEMATICAS'].value_counts().sort_index().index)\n",
    "print(data_2003_2['PUNT_MATEMATICAS'].value_counts().sort_index())\n",
    "print(missing_data(data_2003_2['PUNT_MATEMATICAS']))"
   ]
  },
  {
   "cell_type": "code",
   "execution_count": null,
   "metadata": {
    "collapsed": true
   },
   "outputs": [],
   "source": [
    "print(data_2003_2['PUNT_FILOSOFIA'].value_counts().sort_index().index)\n",
    "print(data_2003_2['PUNT_FILOSOFIA'].value_counts().sort_index())\n",
    "print(missing_data(data_2003_2['PUNT_FILOSOFIA']))"
   ]
  },
  {
   "cell_type": "code",
   "execution_count": null,
   "metadata": {
    "collapsed": true
   },
   "outputs": [],
   "source": [
    "print(data_2003_2['PUNT_FISICA'].value_counts().sort_index().index)\n",
    "print(data_2003_2['PUNT_FISICA'].value_counts().sort_index())\n",
    "print(missing_data(data_2003_2['PUNT_FISICA']))"
   ]
  },
  {
   "cell_type": "code",
   "execution_count": null,
   "metadata": {
    "collapsed": true
   },
   "outputs": [],
   "source": [
    "print(data_2003_2['PUNT_HISTORIA'].value_counts().sort_index().index)\n",
    "print(data_2003_2['PUNT_HISTORIA'].value_counts().sort_index())\n",
    "print(missing_data(data_2003_2['PUNT_HISTORIA']))"
   ]
  },
  {
   "cell_type": "code",
   "execution_count": null,
   "metadata": {
    "collapsed": true
   },
   "outputs": [],
   "source": [
    "print(data_2003_2['PUNT_QUIMICA'].value_counts().sort_index().index)\n",
    "print(data_2003_2['PUNT_QUIMICA'].value_counts().sort_index())\n",
    "print(missing_data(data_2003_2['PUNT_QUIMICA']))"
   ]
  },
  {
   "cell_type": "code",
   "execution_count": null,
   "metadata": {
    "collapsed": true
   },
   "outputs": [],
   "source": [
    "print(data_2003_2['PUNT_LENGUAJE'].value_counts().sort_index().index)\n",
    "print(data_2003_2['PUNT_LENGUAJE'].value_counts().sort_index())\n",
    "print(missing_data(data_2003_2['PUNT_LENGUAJE']))"
   ]
  },
  {
   "cell_type": "code",
   "execution_count": null,
   "metadata": {
    "collapsed": true
   },
   "outputs": [],
   "source": [
    "print(data_2003_2['PUNT_GEOGRAFIA'].value_counts().sort_index().index)\n",
    "print(data_2003_2['PUNT_GEOGRAFIA'].value_counts().sort_index())\n",
    "print(missing_data(data_2003_2['PUNT_GEOGRAFIA']))"
   ]
  },
  {
   "cell_type": "code",
   "execution_count": null,
   "metadata": {
    "collapsed": true
   },
   "outputs": [],
   "source": [
    "print(data_2003_2['COD_INTERDISCIPLINAR'].value_counts().sort_index().index)\n",
    "print(data_2003_2['COD_INTERDISCIPLINAR'].value_counts().sort_index())\n",
    "print(missing_data(data_2003_2['COD_INTERDISCIPLINAR']))"
   ]
  },
  {
   "cell_type": "code",
   "execution_count": null,
   "metadata": {
    "collapsed": true
   },
   "outputs": [],
   "source": [
    "print(data_2003_2['PUNT_INTERDISCIPLINAR'].value_counts().sort_index().index)\n",
    "print(data_2003_2['PUNT_INTERDISCIPLINAR'].value_counts().sort_index())\n",
    "print(missing_data(data_2003_2['PUNT_INTERDISCIPLINAR']))"
   ]
  },
  {
   "cell_type": "code",
   "execution_count": null,
   "metadata": {
    "collapsed": true
   },
   "outputs": [],
   "source": [
    "print(data_2003_2['COD_IDIOMA'].value_counts().sort_index().index)\n",
    "print(data_2003_2['COD_IDIOMA'].value_counts().sort_index())\n",
    "print(missing_data(data_2003_2['COD_IDIOMA']))"
   ]
  },
  {
   "cell_type": "code",
   "execution_count": null,
   "metadata": {
    "collapsed": true
   },
   "outputs": [],
   "source": [
    "print(data_2003_2['PUNT_IDIOMA'].value_counts().sort_index().index)\n",
    "print(data_2003_2['PUNT_IDIOMA'].value_counts().sort_index())\n",
    "print(missing_data(data_2003_2['PUNT_IDIOMA']))"
   ]
  }
 ],
 "metadata": {
  "kernelspec": {
   "display_name": "Python 3 + Anaconda",
   "language": "python",
   "name": "pyconda3"
  },
  "language_info": {
   "codemirror_mode": {
    "name": "ipython",
    "version": 3
   },
   "file_extension": ".py",
   "mimetype": "text/x-python",
   "name": "python",
   "nbconvert_exporter": "python",
   "pygments_lexer": "ipython3",
   "version": "3.5.1"
  }
 },
 "nbformat": 4,
 "nbformat_minor": 0
}
