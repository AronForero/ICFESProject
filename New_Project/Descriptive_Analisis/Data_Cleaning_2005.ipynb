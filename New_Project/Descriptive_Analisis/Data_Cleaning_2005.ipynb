{
 "cells": [
  {
   "cell_type": "code",
   "execution_count": 1,
   "metadata": {
    "collapsed": true
   },
   "outputs": [],
   "source": [
    "import pandas as pd\n",
    "import numpy as np\n",
    "%run -i ../tools/functions.py\n",
    "%run -i ../tools/label_encoder.py"
   ]
  },
  {
   "cell_type": "code",
   "execution_count": 2,
   "metadata": {
    "collapsed": true
   },
   "outputs": [],
   "source": [
    "data_2005 = pd.read_csv('../DatosFTPICFES/SABER11/SB11-BASES_DE_DATOS/SB11-20051-RGSTRO-CLFCCN-V1-0.txt', delimiter='|',\n",
    "                       encoding = \"iso-8859-1\")"
   ]
  },
  {
   "cell_type": "code",
   "execution_count": 3,
   "metadata": {
    "collapsed": false
   },
   "outputs": [
    {
     "data": {
      "text/plain": [
       "(72842, 83)"
      ]
     },
     "execution_count": 3,
     "metadata": {},
     "output_type": "execute_result"
    }
   ],
   "source": [
    "data_2005.shape"
   ]
  },
  {
   "cell_type": "code",
   "execution_count": 4,
   "metadata": {
    "collapsed": false,
    "scrolled": true
   },
   "outputs": [
    {
     "data": {
      "text/html": [
       "<div>\n",
       "<table border=\"1\" class=\"dataframe\">\n",
       "  <thead>\n",
       "    <tr style=\"text-align: right;\">\n",
       "      <th></th>\n",
       "      <th>0</th>\n",
       "      <th>1</th>\n",
       "      <th>2</th>\n",
       "    </tr>\n",
       "  </thead>\n",
       "  <tbody>\n",
       "    <tr>\n",
       "      <th>ESTU_CONSECUTIVO</th>\n",
       "      <td>SB11200510000001</td>\n",
       "      <td>SB11200510000002</td>\n",
       "      <td>SB11200510000003</td>\n",
       "    </tr>\n",
       "    <tr>\n",
       "      <th>PERIODO</th>\n",
       "      <td>20051</td>\n",
       "      <td>20051</td>\n",
       "      <td>20051</td>\n",
       "    </tr>\n",
       "    <tr>\n",
       "      <th>ESTU_TIPO_DOCUMENTO</th>\n",
       "      <td>T</td>\n",
       "      <td>T</td>\n",
       "      <td>T</td>\n",
       "    </tr>\n",
       "    <tr>\n",
       "      <th>ESTU_PAIS_RESIDE</th>\n",
       "      <td>CO</td>\n",
       "      <td>CO</td>\n",
       "      <td>CO</td>\n",
       "    </tr>\n",
       "    <tr>\n",
       "      <th>ESTU_GENERO</th>\n",
       "      <td>M</td>\n",
       "      <td>M</td>\n",
       "      <td>F</td>\n",
       "    </tr>\n",
       "    <tr>\n",
       "      <th>ESTU_NACIMIENTO_DIA</th>\n",
       "      <td>2</td>\n",
       "      <td>23</td>\n",
       "      <td>5</td>\n",
       "    </tr>\n",
       "    <tr>\n",
       "      <th>ESTU_NACIMIENTO_MES</th>\n",
       "      <td>5</td>\n",
       "      <td>7</td>\n",
       "      <td>11</td>\n",
       "    </tr>\n",
       "    <tr>\n",
       "      <th>ESTU_NACIMIENTO_ANNO</th>\n",
       "      <td>1989</td>\n",
       "      <td>1987</td>\n",
       "      <td>1987</td>\n",
       "    </tr>\n",
       "    <tr>\n",
       "      <th>ESTU_EDAD</th>\n",
       "      <td>15</td>\n",
       "      <td>17</td>\n",
       "      <td>17</td>\n",
       "    </tr>\n",
       "    <tr>\n",
       "      <th>ESTU_LIMITA_BAJAVISION</th>\n",
       "      <td>NaN</td>\n",
       "      <td>NaN</td>\n",
       "      <td>NaN</td>\n",
       "    </tr>\n",
       "    <tr>\n",
       "      <th>ESTU_LIMITA_SORDOCEGUERA</th>\n",
       "      <td>NaN</td>\n",
       "      <td>NaN</td>\n",
       "      <td>NaN</td>\n",
       "    </tr>\n",
       "    <tr>\n",
       "      <th>ESTU_LIMITA_COGNITIVA</th>\n",
       "      <td>NaN</td>\n",
       "      <td>NaN</td>\n",
       "      <td>NaN</td>\n",
       "    </tr>\n",
       "    <tr>\n",
       "      <th>ESTU_LIMITA_INVIDENTE</th>\n",
       "      <td>NaN</td>\n",
       "      <td>NaN</td>\n",
       "      <td>NaN</td>\n",
       "    </tr>\n",
       "    <tr>\n",
       "      <th>ESTU_LIMITA_MOTRIZ</th>\n",
       "      <td>NaN</td>\n",
       "      <td>NaN</td>\n",
       "      <td>NaN</td>\n",
       "    </tr>\n",
       "    <tr>\n",
       "      <th>ESTU_LIMITA_SORDOINTERPRETE</th>\n",
       "      <td>NaN</td>\n",
       "      <td>NaN</td>\n",
       "      <td>NaN</td>\n",
       "    </tr>\n",
       "    <tr>\n",
       "      <th>ESTU_LIMITA_SORDONOINTERPRETE</th>\n",
       "      <td>NaN</td>\n",
       "      <td>NaN</td>\n",
       "      <td>NaN</td>\n",
       "    </tr>\n",
       "    <tr>\n",
       "      <th>ESTU_COD_RESIDE_MCPIO</th>\n",
       "      <td>76400</td>\n",
       "      <td>52585</td>\n",
       "      <td>13001</td>\n",
       "    </tr>\n",
       "    <tr>\n",
       "      <th>ESTU_RESIDE_MCPIO</th>\n",
       "      <td>LA UNION</td>\n",
       "      <td>PUPIALES</td>\n",
       "      <td>CARTAGENA</td>\n",
       "    </tr>\n",
       "    <tr>\n",
       "      <th>ESTU_RESIDE_DEPTO</th>\n",
       "      <td>VALLE</td>\n",
       "      <td>NARIÃO</td>\n",
       "      <td>BOLÃVAR</td>\n",
       "    </tr>\n",
       "    <tr>\n",
       "      <th>ESTU_ZONA_RESIDE</th>\n",
       "      <td>10</td>\n",
       "      <td>10</td>\n",
       "      <td>1</td>\n",
       "    </tr>\n",
       "    <tr>\n",
       "      <th>ESTU_COD_MCPIO_PRESENTACION</th>\n",
       "      <td>76400</td>\n",
       "      <td>52585</td>\n",
       "      <td>13001</td>\n",
       "    </tr>\n",
       "    <tr>\n",
       "      <th>ESTU_MCPIO_PRESENTACION</th>\n",
       "      <td>LA UNION</td>\n",
       "      <td>PUPIALES</td>\n",
       "      <td>CARTAGENA</td>\n",
       "    </tr>\n",
       "    <tr>\n",
       "      <th>ESTU_DEPTO_PRESENTACION</th>\n",
       "      <td>VALLE</td>\n",
       "      <td>NARIÃO</td>\n",
       "      <td>BOLÃVAR</td>\n",
       "    </tr>\n",
       "    <tr>\n",
       "      <th>ESTU_EXAM_NOMBREEXAMEN</th>\n",
       "      <td>EXAMEN DE ESTADO NUEVO (2005)</td>\n",
       "      <td>EXAMEN DE ESTADO NUEVO (2005)</td>\n",
       "      <td>EXAMEN DE ESTADO NUEVO (2005)</td>\n",
       "    </tr>\n",
       "    <tr>\n",
       "      <th>IND_ESTUDIO_BACHILLERATO</th>\n",
       "      <td>NaN</td>\n",
       "      <td>NaN</td>\n",
       "      <td>NaN</td>\n",
       "    </tr>\n",
       "    <tr>\n",
       "      <th>IND_ANNO_TERMINO_BACHILLERATO</th>\n",
       "      <td>NaN</td>\n",
       "      <td>NaN</td>\n",
       "      <td>NaN</td>\n",
       "    </tr>\n",
       "    <tr>\n",
       "      <th>IND_TERMINO_BACHILLERATO</th>\n",
       "      <td>NaN</td>\n",
       "      <td>NaN</td>\n",
       "      <td>NaN</td>\n",
       "    </tr>\n",
       "    <tr>\n",
       "      <th>IND_COD_ICFES_TERMINO</th>\n",
       "      <td>NaN</td>\n",
       "      <td>NaN</td>\n",
       "      <td>NaN</td>\n",
       "    </tr>\n",
       "    <tr>\n",
       "      <th>COLE_COD_ICFES</th>\n",
       "      <td>26864</td>\n",
       "      <td>11783</td>\n",
       "      <td>27011</td>\n",
       "    </tr>\n",
       "    <tr>\n",
       "      <th>COLE_COD_DANE_INSTITUCION</th>\n",
       "      <td>176400000019</td>\n",
       "      <td>152585000161</td>\n",
       "      <td>313836000348</td>\n",
       "    </tr>\n",
       "    <tr>\n",
       "      <th>...</th>\n",
       "      <td>...</td>\n",
       "      <td>...</td>\n",
       "      <td>...</td>\n",
       "    </tr>\n",
       "    <tr>\n",
       "      <th>FAMI_COMPUTADOR</th>\n",
       "      <td>NaN</td>\n",
       "      <td>NaN</td>\n",
       "      <td>NaN</td>\n",
       "    </tr>\n",
       "    <tr>\n",
       "      <th>FAMI_INGRESO_FMILIAR_MENSUAL</th>\n",
       "      <td>NaN</td>\n",
       "      <td>NaN</td>\n",
       "      <td>NaN</td>\n",
       "    </tr>\n",
       "    <tr>\n",
       "      <th>COLE_VALOR_PENSION</th>\n",
       "      <td>1</td>\n",
       "      <td>1</td>\n",
       "      <td>7</td>\n",
       "    </tr>\n",
       "    <tr>\n",
       "      <th>ESTU_CARRDESEADA_TIPO</th>\n",
       "      <td>NaN</td>\n",
       "      <td>NaN</td>\n",
       "      <td>NaN</td>\n",
       "    </tr>\n",
       "    <tr>\n",
       "      <th>ESTU_CARRDESEADA_NUCLEO</th>\n",
       "      <td>NaN</td>\n",
       "      <td>NaN</td>\n",
       "      <td>NaN</td>\n",
       "    </tr>\n",
       "    <tr>\n",
       "      <th>ESTU_IES_COD_DESEADA</th>\n",
       "      <td>1101</td>\n",
       "      <td>2849</td>\n",
       "      <td>1205</td>\n",
       "    </tr>\n",
       "    <tr>\n",
       "      <th>ESTU_IES_DESEADA_NOMBRE</th>\n",
       "      <td>UNIVERSIDAD NACIONAL DE COLOMBIA</td>\n",
       "      <td>CORPORACION UNIVERSITARIA AUTONOMA DEL CAUCA</td>\n",
       "      <td>UNIVERSIDAD DE CARTAGENA</td>\n",
       "    </tr>\n",
       "    <tr>\n",
       "      <th>ESTU_IES_COD_MPIO_DESEADA</th>\n",
       "      <td>11001</td>\n",
       "      <td>19001</td>\n",
       "      <td>13001</td>\n",
       "    </tr>\n",
       "    <tr>\n",
       "      <th>ESTU_IES_MPIO_DESEADA</th>\n",
       "      <td>BOGOTÃ D.C.</td>\n",
       "      <td>POPAYAN</td>\n",
       "      <td>CARTAGENA</td>\n",
       "    </tr>\n",
       "    <tr>\n",
       "      <th>ESTU_IES_DEPT_DESEADA</th>\n",
       "      <td>BOGOTÃ</td>\n",
       "      <td>CAUCA</td>\n",
       "      <td>BOLÃVAR</td>\n",
       "    </tr>\n",
       "    <tr>\n",
       "      <th>ESTU_RAZONINSTITUTO</th>\n",
       "      <td>6</td>\n",
       "      <td>5</td>\n",
       "      <td>3</td>\n",
       "    </tr>\n",
       "    <tr>\n",
       "      <th>ESTU_CARRDESEADA_COD</th>\n",
       "      <td>1882</td>\n",
       "      <td>143</td>\n",
       "      <td>10998</td>\n",
       "    </tr>\n",
       "    <tr>\n",
       "      <th>ESTU_CARRDESEADA_RAZON</th>\n",
       "      <td>1</td>\n",
       "      <td>3</td>\n",
       "      <td>2</td>\n",
       "    </tr>\n",
       "    <tr>\n",
       "      <th>PUNT_BIOLOGIA</th>\n",
       "      <td>54,35</td>\n",
       "      <td>50,79</td>\n",
       "      <td>68,33</td>\n",
       "    </tr>\n",
       "    <tr>\n",
       "      <th>PUNT_MATEMATICAS</th>\n",
       "      <td>51,21</td>\n",
       "      <td>48,38</td>\n",
       "      <td>67,18</td>\n",
       "    </tr>\n",
       "    <tr>\n",
       "      <th>PUNT_FILOSOFIA</th>\n",
       "      <td>47,37</td>\n",
       "      <td>49,57</td>\n",
       "      <td>58,37</td>\n",
       "    </tr>\n",
       "    <tr>\n",
       "      <th>PUNT_FISICA</th>\n",
       "      <td>58,83</td>\n",
       "      <td>51,8</td>\n",
       "      <td>63,44</td>\n",
       "    </tr>\n",
       "    <tr>\n",
       "      <th>PUNT_HISTORIA</th>\n",
       "      <td>46,47</td>\n",
       "      <td>38,99</td>\n",
       "      <td>57,66</td>\n",
       "    </tr>\n",
       "    <tr>\n",
       "      <th>PUNT_QUIMICA</th>\n",
       "      <td>55,15</td>\n",
       "      <td>48,67</td>\n",
       "      <td>56,89</td>\n",
       "    </tr>\n",
       "    <tr>\n",
       "      <th>PUNT_LENGUAJE</th>\n",
       "      <td>50,26</td>\n",
       "      <td>45,91</td>\n",
       "      <td>66,73</td>\n",
       "    </tr>\n",
       "    <tr>\n",
       "      <th>PUNT_GEOGRAFIA</th>\n",
       "      <td>44,65</td>\n",
       "      <td>42,68</td>\n",
       "      <td>40,62</td>\n",
       "    </tr>\n",
       "    <tr>\n",
       "      <th>NOMBRE_IDIOMA</th>\n",
       "      <td>INGLÃS</td>\n",
       "      <td>INGLÃS</td>\n",
       "      <td>INGLÃS</td>\n",
       "    </tr>\n",
       "    <tr>\n",
       "      <th>PUNT_IDIOMA</th>\n",
       "      <td>52,89</td>\n",
       "      <td>31,08</td>\n",
       "      <td>83,1</td>\n",
       "    </tr>\n",
       "    <tr>\n",
       "      <th>DESEMP_IDIOMA</th>\n",
       "      <td>NaN</td>\n",
       "      <td>NaN</td>\n",
       "      <td>NaN</td>\n",
       "    </tr>\n",
       "    <tr>\n",
       "      <th>NOMBRE_PROFUNDIZACION</th>\n",
       "      <td>PROFUNDIZACIÃN EN MATEMÃTICA</td>\n",
       "      <td>PROFUNDIZACIÃN EN LENGUAJE</td>\n",
       "      <td>PROFUNDIZACIÃN EN BIOLOGÃA</td>\n",
       "    </tr>\n",
       "    <tr>\n",
       "      <th>PUNT_PROFUNDIZACION</th>\n",
       "      <td>5,03</td>\n",
       "      <td>5,14</td>\n",
       "      <td>5,23</td>\n",
       "    </tr>\n",
       "    <tr>\n",
       "      <th>DESEMP_PROFUNDIZACION</th>\n",
       "      <td>I</td>\n",
       "      <td>I</td>\n",
       "      <td>I</td>\n",
       "    </tr>\n",
       "    <tr>\n",
       "      <th>NOMBRE_INTERDISCIPLINAR</th>\n",
       "      <td>MEDIO AMBIENTE</td>\n",
       "      <td>MEDIO AMBIENTE</td>\n",
       "      <td>VIOLENCIA Y SOCIEDAD</td>\n",
       "    </tr>\n",
       "    <tr>\n",
       "      <th>PUNT_INTERDISCIPLINAR</th>\n",
       "      <td>53,43</td>\n",
       "      <td>51,54</td>\n",
       "      <td>48,86</td>\n",
       "    </tr>\n",
       "    <tr>\n",
       "      <th>ESTU_PUESTO</th>\n",
       "      <td>147</td>\n",
       "      <td>432</td>\n",
       "      <td>10</td>\n",
       "    </tr>\n",
       "  </tbody>\n",
       "</table>\n",
       "<p>83 rows × 3 columns</p>\n",
       "</div>"
      ],
      "text/plain": [
       "                                                              0  \\\n",
       "ESTU_CONSECUTIVO                               SB11200510000001   \n",
       "PERIODO                                                   20051   \n",
       "ESTU_TIPO_DOCUMENTO                                           T   \n",
       "ESTU_PAIS_RESIDE                                             CO   \n",
       "ESTU_GENERO                                                   M   \n",
       "ESTU_NACIMIENTO_DIA                                           2   \n",
       "ESTU_NACIMIENTO_MES                                           5   \n",
       "ESTU_NACIMIENTO_ANNO                                       1989   \n",
       "ESTU_EDAD                                                    15   \n",
       "ESTU_LIMITA_BAJAVISION                                      NaN   \n",
       "ESTU_LIMITA_SORDOCEGUERA                                    NaN   \n",
       "ESTU_LIMITA_COGNITIVA                                       NaN   \n",
       "ESTU_LIMITA_INVIDENTE                                       NaN   \n",
       "ESTU_LIMITA_MOTRIZ                                          NaN   \n",
       "ESTU_LIMITA_SORDOINTERPRETE                                 NaN   \n",
       "ESTU_LIMITA_SORDONOINTERPRETE                               NaN   \n",
       "ESTU_COD_RESIDE_MCPIO                                     76400   \n",
       "ESTU_RESIDE_MCPIO                                      LA UNION   \n",
       "ESTU_RESIDE_DEPTO                                         VALLE   \n",
       "ESTU_ZONA_RESIDE                                             10   \n",
       "ESTU_COD_MCPIO_PRESENTACION                               76400   \n",
       "ESTU_MCPIO_PRESENTACION                                LA UNION   \n",
       "ESTU_DEPTO_PRESENTACION                                   VALLE   \n",
       "ESTU_EXAM_NOMBREEXAMEN            EXAMEN DE ESTADO NUEVO (2005)   \n",
       "IND_ESTUDIO_BACHILLERATO                                    NaN   \n",
       "IND_ANNO_TERMINO_BACHILLERATO                               NaN   \n",
       "IND_TERMINO_BACHILLERATO                                    NaN   \n",
       "IND_COD_ICFES_TERMINO                                       NaN   \n",
       "COLE_COD_ICFES                                            26864   \n",
       "COLE_COD_DANE_INSTITUCION                          176400000019   \n",
       "...                                                         ...   \n",
       "FAMI_COMPUTADOR                                             NaN   \n",
       "FAMI_INGRESO_FMILIAR_MENSUAL                                NaN   \n",
       "COLE_VALOR_PENSION                                            1   \n",
       "ESTU_CARRDESEADA_TIPO                                       NaN   \n",
       "ESTU_CARRDESEADA_NUCLEO                                     NaN   \n",
       "ESTU_IES_COD_DESEADA                                       1101   \n",
       "ESTU_IES_DESEADA_NOMBRE        UNIVERSIDAD NACIONAL DE COLOMBIA   \n",
       "ESTU_IES_COD_MPIO_DESEADA                                 11001   \n",
       "ESTU_IES_MPIO_DESEADA                              BOGOTÃ D.C.   \n",
       "ESTU_IES_DEPT_DESEADA                                   BOGOTÃ   \n",
       "ESTU_RAZONINSTITUTO                                           6   \n",
       "ESTU_CARRDESEADA_COD                                       1882   \n",
       "ESTU_CARRDESEADA_RAZON                                        1   \n",
       "PUNT_BIOLOGIA                                             54,35   \n",
       "PUNT_MATEMATICAS                                          51,21   \n",
       "PUNT_FILOSOFIA                                            47,37   \n",
       "PUNT_FISICA                                               58,83   \n",
       "PUNT_HISTORIA                                             46,47   \n",
       "PUNT_QUIMICA                                              55,15   \n",
       "PUNT_LENGUAJE                                             50,26   \n",
       "PUNT_GEOGRAFIA                                            44,65   \n",
       "NOMBRE_IDIOMA                                           INGLÃS   \n",
       "PUNT_IDIOMA                                               52,89   \n",
       "DESEMP_IDIOMA                                               NaN   \n",
       "NOMBRE_PROFUNDIZACION            PROFUNDIZACIÃN EN MATEMÃTICA   \n",
       "PUNT_PROFUNDIZACION                                        5,03   \n",
       "DESEMP_PROFUNDIZACION                                         I   \n",
       "NOMBRE_INTERDISCIPLINAR                          MEDIO AMBIENTE   \n",
       "PUNT_INTERDISCIPLINAR                                     53,43   \n",
       "ESTU_PUESTO                                                 147   \n",
       "\n",
       "                                                                          1  \\\n",
       "ESTU_CONSECUTIVO                                           SB11200510000002   \n",
       "PERIODO                                                               20051   \n",
       "ESTU_TIPO_DOCUMENTO                                                       T   \n",
       "ESTU_PAIS_RESIDE                                                         CO   \n",
       "ESTU_GENERO                                                               M   \n",
       "ESTU_NACIMIENTO_DIA                                                      23   \n",
       "ESTU_NACIMIENTO_MES                                                       7   \n",
       "ESTU_NACIMIENTO_ANNO                                                   1987   \n",
       "ESTU_EDAD                                                                17   \n",
       "ESTU_LIMITA_BAJAVISION                                                  NaN   \n",
       "ESTU_LIMITA_SORDOCEGUERA                                                NaN   \n",
       "ESTU_LIMITA_COGNITIVA                                                   NaN   \n",
       "ESTU_LIMITA_INVIDENTE                                                   NaN   \n",
       "ESTU_LIMITA_MOTRIZ                                                      NaN   \n",
       "ESTU_LIMITA_SORDOINTERPRETE                                             NaN   \n",
       "ESTU_LIMITA_SORDONOINTERPRETE                                           NaN   \n",
       "ESTU_COD_RESIDE_MCPIO                                                 52585   \n",
       "ESTU_RESIDE_MCPIO                                                  PUPIALES   \n",
       "ESTU_RESIDE_DEPTO                                                   NARIÃO   \n",
       "ESTU_ZONA_RESIDE                                                         10   \n",
       "ESTU_COD_MCPIO_PRESENTACION                                           52585   \n",
       "ESTU_MCPIO_PRESENTACION                                            PUPIALES   \n",
       "ESTU_DEPTO_PRESENTACION                                             NARIÃO   \n",
       "ESTU_EXAM_NOMBREEXAMEN                        EXAMEN DE ESTADO NUEVO (2005)   \n",
       "IND_ESTUDIO_BACHILLERATO                                                NaN   \n",
       "IND_ANNO_TERMINO_BACHILLERATO                                           NaN   \n",
       "IND_TERMINO_BACHILLERATO                                                NaN   \n",
       "IND_COD_ICFES_TERMINO                                                   NaN   \n",
       "COLE_COD_ICFES                                                        11783   \n",
       "COLE_COD_DANE_INSTITUCION                                      152585000161   \n",
       "...                                                                     ...   \n",
       "FAMI_COMPUTADOR                                                         NaN   \n",
       "FAMI_INGRESO_FMILIAR_MENSUAL                                            NaN   \n",
       "COLE_VALOR_PENSION                                                        1   \n",
       "ESTU_CARRDESEADA_TIPO                                                   NaN   \n",
       "ESTU_CARRDESEADA_NUCLEO                                                 NaN   \n",
       "ESTU_IES_COD_DESEADA                                                   2849   \n",
       "ESTU_IES_DESEADA_NOMBRE        CORPORACION UNIVERSITARIA AUTONOMA DEL CAUCA   \n",
       "ESTU_IES_COD_MPIO_DESEADA                                             19001   \n",
       "ESTU_IES_MPIO_DESEADA                                               POPAYAN   \n",
       "ESTU_IES_DEPT_DESEADA                                                 CAUCA   \n",
       "ESTU_RAZONINSTITUTO                                                       5   \n",
       "ESTU_CARRDESEADA_COD                                                    143   \n",
       "ESTU_CARRDESEADA_RAZON                                                    3   \n",
       "PUNT_BIOLOGIA                                                         50,79   \n",
       "PUNT_MATEMATICAS                                                      48,38   \n",
       "PUNT_FILOSOFIA                                                        49,57   \n",
       "PUNT_FISICA                                                            51,8   \n",
       "PUNT_HISTORIA                                                         38,99   \n",
       "PUNT_QUIMICA                                                          48,67   \n",
       "PUNT_LENGUAJE                                                         45,91   \n",
       "PUNT_GEOGRAFIA                                                        42,68   \n",
       "NOMBRE_IDIOMA                                                       INGLÃS   \n",
       "PUNT_IDIOMA                                                           31,08   \n",
       "DESEMP_IDIOMA                                                           NaN   \n",
       "NOMBRE_PROFUNDIZACION                           PROFUNDIZACIÃN EN LENGUAJE   \n",
       "PUNT_PROFUNDIZACION                                                    5,14   \n",
       "DESEMP_PROFUNDIZACION                                                     I   \n",
       "NOMBRE_INTERDISCIPLINAR                                      MEDIO AMBIENTE   \n",
       "PUNT_INTERDISCIPLINAR                                                 51,54   \n",
       "ESTU_PUESTO                                                             432   \n",
       "\n",
       "                                                           2  \n",
       "ESTU_CONSECUTIVO                            SB11200510000003  \n",
       "PERIODO                                                20051  \n",
       "ESTU_TIPO_DOCUMENTO                                        T  \n",
       "ESTU_PAIS_RESIDE                                          CO  \n",
       "ESTU_GENERO                                                F  \n",
       "ESTU_NACIMIENTO_DIA                                        5  \n",
       "ESTU_NACIMIENTO_MES                                       11  \n",
       "ESTU_NACIMIENTO_ANNO                                    1987  \n",
       "ESTU_EDAD                                                 17  \n",
       "ESTU_LIMITA_BAJAVISION                                   NaN  \n",
       "ESTU_LIMITA_SORDOCEGUERA                                 NaN  \n",
       "ESTU_LIMITA_COGNITIVA                                    NaN  \n",
       "ESTU_LIMITA_INVIDENTE                                    NaN  \n",
       "ESTU_LIMITA_MOTRIZ                                       NaN  \n",
       "ESTU_LIMITA_SORDOINTERPRETE                              NaN  \n",
       "ESTU_LIMITA_SORDONOINTERPRETE                            NaN  \n",
       "ESTU_COD_RESIDE_MCPIO                                  13001  \n",
       "ESTU_RESIDE_MCPIO                                  CARTAGENA  \n",
       "ESTU_RESIDE_DEPTO                                   BOLÃVAR  \n",
       "ESTU_ZONA_RESIDE                                           1  \n",
       "ESTU_COD_MCPIO_PRESENTACION                            13001  \n",
       "ESTU_MCPIO_PRESENTACION                            CARTAGENA  \n",
       "ESTU_DEPTO_PRESENTACION                             BOLÃVAR  \n",
       "ESTU_EXAM_NOMBREEXAMEN         EXAMEN DE ESTADO NUEVO (2005)  \n",
       "IND_ESTUDIO_BACHILLERATO                                 NaN  \n",
       "IND_ANNO_TERMINO_BACHILLERATO                            NaN  \n",
       "IND_TERMINO_BACHILLERATO                                 NaN  \n",
       "IND_COD_ICFES_TERMINO                                    NaN  \n",
       "COLE_COD_ICFES                                         27011  \n",
       "COLE_COD_DANE_INSTITUCION                       313836000348  \n",
       "...                                                      ...  \n",
       "FAMI_COMPUTADOR                                          NaN  \n",
       "FAMI_INGRESO_FMILIAR_MENSUAL                             NaN  \n",
       "COLE_VALOR_PENSION                                         7  \n",
       "ESTU_CARRDESEADA_TIPO                                    NaN  \n",
       "ESTU_CARRDESEADA_NUCLEO                                  NaN  \n",
       "ESTU_IES_COD_DESEADA                                    1205  \n",
       "ESTU_IES_DESEADA_NOMBRE             UNIVERSIDAD DE CARTAGENA  \n",
       "ESTU_IES_COD_MPIO_DESEADA                              13001  \n",
       "ESTU_IES_MPIO_DESEADA                              CARTAGENA  \n",
       "ESTU_IES_DEPT_DESEADA                               BOLÃVAR  \n",
       "ESTU_RAZONINSTITUTO                                        3  \n",
       "ESTU_CARRDESEADA_COD                                   10998  \n",
       "ESTU_CARRDESEADA_RAZON                                     2  \n",
       "PUNT_BIOLOGIA                                          68,33  \n",
       "PUNT_MATEMATICAS                                       67,18  \n",
       "PUNT_FILOSOFIA                                         58,37  \n",
       "PUNT_FISICA                                            63,44  \n",
       "PUNT_HISTORIA                                          57,66  \n",
       "PUNT_QUIMICA                                           56,89  \n",
       "PUNT_LENGUAJE                                          66,73  \n",
       "PUNT_GEOGRAFIA                                         40,62  \n",
       "NOMBRE_IDIOMA                                        INGLÃS  \n",
       "PUNT_IDIOMA                                             83,1  \n",
       "DESEMP_IDIOMA                                            NaN  \n",
       "NOMBRE_PROFUNDIZACION           PROFUNDIZACIÃN EN BIOLOGÃA  \n",
       "PUNT_PROFUNDIZACION                                     5,23  \n",
       "DESEMP_PROFUNDIZACION                                      I  \n",
       "NOMBRE_INTERDISCIPLINAR                 VIOLENCIA Y SOCIEDAD  \n",
       "PUNT_INTERDISCIPLINAR                                  48,86  \n",
       "ESTU_PUESTO                                               10  \n",
       "\n",
       "[83 rows x 3 columns]"
      ]
     },
     "execution_count": 4,
     "metadata": {},
     "output_type": "execute_result"
    }
   ],
   "source": [
    "data_2005.head(3).T"
   ]
  },
  {
   "cell_type": "markdown",
   "metadata": {},
   "source": [
    "Delete the columns that won't contribute to the work"
   ]
  },
  {
   "cell_type": "code",
   "execution_count": 7,
   "metadata": {
    "collapsed": false
   },
   "outputs": [],
   "source": [
    "\"\"\"For now, this will be the columns deleted, but later could be more\"\"\"\n",
    "data_2005 = data_2005.drop(['ESTU_CONSECUTIVO', 'PERIODO', 'ESTU_TIPO_DOCUMENTO', 'ESTU_IES_DESEADA_NOMBRE',\n",
    "                            'ESTU_IES_MPIO_DESEADA'], axis=1)"
   ]
  },
  {
   "cell_type": "code",
   "execution_count": null,
   "metadata": {
    "collapsed": true
   },
   "outputs": [],
   "source": [
    "print(data_2005['ESTU_PAIS_RESIDE'].value_counts().sort_index().index)\n",
    "print(data_2005['ESTU_PAIS_RESIDE'].value_counts().sort_index())\n",
    "print(missing_data(data_2005['ESTU_PAIS_RESIDE']))"
   ]
  },
  {
   "cell_type": "code",
   "execution_count": null,
   "metadata": {
    "collapsed": true
   },
   "outputs": [],
   "source": [
    "print(data_2005['ESTU_GENERO'].value_counts().sort_index().index)\n",
    "print(data_2005['ESTU_GENERO'].value_counts().sort_index())\n",
    "print(missing_data(data_2005['ESTU_GENERO']))"
   ]
  },
  {
   "cell_type": "code",
   "execution_count": null,
   "metadata": {
    "collapsed": true
   },
   "outputs": [],
   "source": [
    "print(data_2005['ESTU_NACIMIENTO_DIA'].value_counts().sort_index().index)\n",
    "print(data_2005['ESTU_NACIMIENTO_DIA'].value_counts().sort_index())\n",
    "print(missing_data(data_2005['ESTU_NACIMIENTO_DIA']))"
   ]
  },
  {
   "cell_type": "code",
   "execution_count": null,
   "metadata": {
    "collapsed": true
   },
   "outputs": [],
   "source": [
    "print(data_2005['ESTU_NACIMIENTO_MES'].value_counts().sort_index().index)\n",
    "print(data_2005['ESTU_NACIMIENTO_MES'].value_counts().sort_index())\n",
    "print(missing_data(data_2005['ESTU_NACIMIENTO_MES']))"
   ]
  },
  {
   "cell_type": "code",
   "execution_count": null,
   "metadata": {
    "collapsed": true
   },
   "outputs": [],
   "source": [
    "print(data_2005['ESTU_NACIMIENTO_ANNO'].value_counts().sort_index().index)\n",
    "print(data_2005['ESTU_NACIMIENTO_ANNO'].value_counts().sort_index())\n",
    "print(missing_data(data_2005['ESTU_NACIMIENTO_ANNO']))"
   ]
  },
  {
   "cell_type": "code",
   "execution_count": null,
   "metadata": {
    "collapsed": true
   },
   "outputs": [],
   "source": [
    "print(data_2005['ESTU_EDAD'].value_counts().sort_index().index)\n",
    "print(data_2005['ESTU_EDAD'].value_counts().sort_index())\n",
    "print(missing_data(data_2005['ESTU_EDAD']))"
   ]
  },
  {
   "cell_type": "code",
   "execution_count": null,
   "metadata": {
    "collapsed": true
   },
   "outputs": [],
   "source": [
    "print(data_2005['ESTU_LIMITA_BAJAVISION'].value_counts().sort_index().index)\n",
    "print(data_2005['ESTU_LIMITA_BAJAVISION'].value_counts().sort_index())\n",
    "print(missing_data(data_2005['ESTU_LIMITA_BAJAVISION']))"
   ]
  },
  {
   "cell_type": "code",
   "execution_count": null,
   "metadata": {
    "collapsed": true
   },
   "outputs": [],
   "source": [
    "print(data_2005['ESTU_LIMITA_SORDOCEGUERA'].value_counts().sort_index().index)\n",
    "print(data_2005['ESTU_LIMITA_SORDOCEGUERA'].value_counts().sort_index())\n",
    "print(missing_data(data_2005['ESTU_LIMITA_SORDOCEGUERA']))"
   ]
  },
  {
   "cell_type": "code",
   "execution_count": null,
   "metadata": {
    "collapsed": true
   },
   "outputs": [],
   "source": [
    "print(data_2005['ESTU_LIMITA_COGNITIVA'].value_counts().sort_index().index)\n",
    "print(data_2005['ESTU_LIMITA_COGNITIVA'].value_counts().sort_index())\n",
    "print(missing_data(data_2005['ESTU_LIMITA_COGNITIVA']))"
   ]
  },
  {
   "cell_type": "code",
   "execution_count": null,
   "metadata": {
    "collapsed": true
   },
   "outputs": [],
   "source": [
    "print(data_2005['ESTU_LIMITA_INVIDENTE'].value_counts().sort_index().index)\n",
    "print(data_2005['ESTU_LIMITA_INVIDENTE'].value_counts().sort_index())\n",
    "print(missing_data(data_2005['ESTU_LIMITA_INVIDENTE']))"
   ]
  },
  {
   "cell_type": "code",
   "execution_count": null,
   "metadata": {
    "collapsed": true
   },
   "outputs": [],
   "source": [
    "print(data_2005['ESTU_LIMITA_MOTRIZ'].value_counts().sort_index().index)\n",
    "print(data_2005['ESTU_LIMITA_MOTRIZ'].value_counts().sort_index())\n",
    "print(missing_data(data_2005['ESTU_LIMITA_MOTRIZ']))"
   ]
  },
  {
   "cell_type": "code",
   "execution_count": null,
   "metadata": {
    "collapsed": true
   },
   "outputs": [],
   "source": [
    "print(data_2005['ESTU_LIMITA_SORDOINTERPRETE'].value_counts().sort_index().index)\n",
    "print(data_2005['ESTU_LIMITA_SORDOINTERPRETE'].value_counts().sort_index())\n",
    "print(missing_data(data_2005['ESTU_LIMITA_SORDOINTERPRETE']))"
   ]
  },
  {
   "cell_type": "code",
   "execution_count": null,
   "metadata": {
    "collapsed": true
   },
   "outputs": [],
   "source": [
    "print(data_2005['ESTU_LIMITA_SORDONOINTERPRETE'].value_counts().sort_index().index)\n",
    "print(data_2005['ESTU_LIMITA_SORDONOINTERPRETE'].value_counts().sort_index())\n",
    "print(missing_data(data_2005['ESTU_LIMITA_SORDONOINTERPRETE']))"
   ]
  },
  {
   "cell_type": "code",
   "execution_count": null,
   "metadata": {
    "collapsed": true
   },
   "outputs": [],
   "source": [
    "print(data_2005['ESTU_COD_RESIDE_MCPIO'].value_counts().sort_index().index)\n",
    "print(data_2005['ESTU_COD_RESIDE_MCPIO'].value_counts().sort_index())\n",
    "print(missing_data(data_2005['ESTU_COD_RESIDE_MCPIO']))"
   ]
  },
  {
   "cell_type": "code",
   "execution_count": null,
   "metadata": {
    "collapsed": true
   },
   "outputs": [],
   "source": [
    "print(data_2005['ESTU_RESIDE_MCPIO'].value_counts().sort_index().index)\n",
    "print(data_2005['ESTU_RESIDE_MCPIO'].value_counts().sort_index())\n",
    "print(missing_data(data_2005['ESTU_RESIDE_MCPIO']))"
   ]
  },
  {
   "cell_type": "code",
   "execution_count": null,
   "metadata": {
    "collapsed": true
   },
   "outputs": [],
   "source": [
    "print(data_2005['ESTU_RESIDE_DEPTO'].value_counts().sort_index().index)\n",
    "print(data_2005['ESTU_RESIDE_DEPTO'].value_counts().sort_index())\n",
    "print(missing_data(data_2005['ESTU_RESIDE_DEPTO']))"
   ]
  },
  {
   "cell_type": "code",
   "execution_count": null,
   "metadata": {
    "collapsed": true
   },
   "outputs": [],
   "source": [
    "print(data_2005['ESTU_ZONA_RESIDE'].value_counts().sort_index().index)\n",
    "print(data_2005['ESTU_ZONA_RESIDE'].value_counts().sort_index())\n",
    "print(missing_data(data_2005['ESTU_ZONA_RESIDE']))"
   ]
  },
  {
   "cell_type": "code",
   "execution_count": null,
   "metadata": {
    "collapsed": true
   },
   "outputs": [],
   "source": [
    "print(data_2005['ESTU_COD_MCPIO_PRESENTACION'].value_counts().sort_index().index)\n",
    "print(data_2005['ESTU_COD_MCPIO_PRESENTACION'].value_counts().sort_index())\n",
    "print(missing_data(data_2005['ESTU_COD_MCPIO_PRESENTACION']))"
   ]
  },
  {
   "cell_type": "code",
   "execution_count": null,
   "metadata": {
    "collapsed": true
   },
   "outputs": [],
   "source": [
    "print(data_2005['ESTU_MCPIO_PRESENTACION'].value_counts().sort_index().index)\n",
    "print(data_2005['ESTU_MCPIO_PRESENTACION'].value_counts().sort_index())\n",
    "print(missing_data(data_2005['ESTU_MCPIO_PRESENTACION']))"
   ]
  },
  {
   "cell_type": "code",
   "execution_count": null,
   "metadata": {
    "collapsed": true
   },
   "outputs": [],
   "source": [
    "print(data_2005['ESTU_DEPTO_PRESENTACION'].value_counts().sort_index().index)\n",
    "print(data_2005['ESTU_DEPTO_PRESENTACION'].value_counts().sort_index())\n",
    "print(missing_data(data_2005['ESTU_DEPTO_PRESENTACION']))"
   ]
  },
  {
   "cell_type": "code",
   "execution_count": null,
   "metadata": {
    "collapsed": true
   },
   "outputs": [],
   "source": [
    "print(data_2005['ESTU_EXAM_NOMBREEXAMEN'].value_counts().sort_index().index)\n",
    "print(data_2005['ESTU_EXAM_NOMBREEXAMEN'].value_counts().sort_index())\n",
    "print(missing_data(data_2005['ESTU_EXAM_NOMBREEXAMEN']))"
   ]
  },
  {
   "cell_type": "code",
   "execution_count": null,
   "metadata": {
    "collapsed": true
   },
   "outputs": [],
   "source": [
    "print(data_2005['IND_ESTUDIO_BACHILLERATO'].value_counts().sort_index().index)\n",
    "print(data_2005['IND_ESTUDIO_BACHILLERATO'].value_counts().sort_index())\n",
    "print(missing_data(data_2005['IND_ESTUDIO_BACHILLERATO']))"
   ]
  },
  {
   "cell_type": "code",
   "execution_count": null,
   "metadata": {
    "collapsed": true
   },
   "outputs": [],
   "source": [
    "print(data_2005['IND_ANNO_TERMINO_BACHILLERATO'].value_counts().sort_index().index)\n",
    "print(data_2005['IND_ANNO_TERMINO_BACHILLERATO'].value_counts().sort_index())\n",
    "print(missing_data(data_2005['IND_ANNO_TERMINO_BACHILLERATO']))"
   ]
  },
  {
   "cell_type": "code",
   "execution_count": null,
   "metadata": {
    "collapsed": true
   },
   "outputs": [],
   "source": [
    "print(data_2005['IND_TERMINO_BACHILLERATO'].value_counts().sort_index().index)\n",
    "print(data_2005['IND_TERMINO_BACHILLERATO'].value_counts().sort_index())\n",
    "print(missing_data(data_2005['IND_TERMINO_BACHILLERATO']))"
   ]
  },
  {
   "cell_type": "code",
   "execution_count": null,
   "metadata": {
    "collapsed": true
   },
   "outputs": [],
   "source": [
    "print(data_2005['IND_COD_ICFES_TERMINO'].value_counts().sort_index().index)\n",
    "print(data_2005['IND_COD_ICFES_TERMINO'].value_counts().sort_index())\n",
    "print(missing_data(data_2005['IND_COD_ICFES_TERMINO']))"
   ]
  },
  {
   "cell_type": "code",
   "execution_count": null,
   "metadata": {
    "collapsed": true
   },
   "outputs": [],
   "source": [
    "print(data_2005['COLE_COD_ICFES'].value_counts().sort_index().index)\n",
    "print(data_2005['COLE_COD_ICFES'].value_counts().sort_index())\n",
    "print(missing_data(data_2005['COLE_COD_ICFES']))"
   ]
  },
  {
   "cell_type": "code",
   "execution_count": null,
   "metadata": {
    "collapsed": true
   },
   "outputs": [],
   "source": [
    "print(data_2005['COLE_COD_DANE_INSTITUCION'].value_counts().sort_index().index)\n",
    "print(data_2005['COLE_COD_DANE_INSTITUCION'].value_counts().sort_index())\n",
    "print(missing_data(data_2005['COLE_COD_DANE_INSTITUCION']))"
   ]
  },
  {
   "cell_type": "code",
   "execution_count": null,
   "metadata": {
    "collapsed": true
   },
   "outputs": [],
   "source": [
    "print(data_2005['COLE_NOMBRE_SEDE'].value_counts().sort_index().index)\n",
    "print(data_2005['COLE_NOMBRE_SEDE'].value_counts().sort_index())\n",
    "print(missing_data(data_2005['COLE_NOMBRE_SEDE']))"
   ]
  },
  {
   "cell_type": "code",
   "execution_count": null,
   "metadata": {
    "collapsed": true
   },
   "outputs": [],
   "source": [
    "print(data_2005['COLE_CALENDARIO'].value_counts().sort_index().index)\n",
    "print(data_2005['COLE_CALENDARIO'].value_counts().sort_index())\n",
    "print(missing_data(data_2005['COLE_CALENDARIO']))"
   ]
  },
  {
   "cell_type": "code",
   "execution_count": null,
   "metadata": {
    "collapsed": true
   },
   "outputs": [],
   "source": [
    "print(data_2005['COLE_GENERO'].value_counts().sort_index().index)\n",
    "print(data_2005['COLE_GENERO'].value_counts().sort_index())\n",
    "print(missing_data(data_2005['COLE_GENERO']))"
   ]
  },
  {
   "cell_type": "code",
   "execution_count": null,
   "metadata": {
    "collapsed": true
   },
   "outputs": [],
   "source": [
    "print(data_2005['COLE_NATURALEZA'].value_counts().sort_index().index)\n",
    "print(data_2005['COLE_NATURALEZA'].value_counts().sort_index())\n",
    "print(missing_data(data_2005['COLE_NATURALEZA']))"
   ]
  },
  {
   "cell_type": "code",
   "execution_count": null,
   "metadata": {
    "collapsed": true
   },
   "outputs": [],
   "source": [
    "print(data_2005['COLE_BILINGUE'].value_counts().sort_index().index)\n",
    "print(data_2005['COLE_BILINGUE'].value_counts().sort_index())\n",
    "print(missing_data(data_2005['COLE_BILINGUE']))"
   ]
  },
  {
   "cell_type": "markdown",
   "metadata": {},
   "source": [
    "From here i do one change to do the code easier"
   ]
  },
  {
   "cell_type": "code",
   "execution_count": null,
   "metadata": {
    "collapsed": true
   },
   "outputs": [],
   "source": [
    "c = 'COLE_JORNADA'\n",
    "print(data_2005[c].value_counts().sort_index().index)\n",
    "print(data_2005[c].value_counts().sort_index())\n",
    "print(missing_data(data_2005[c]))"
   ]
  },
  {
   "cell_type": "code",
   "execution_count": null,
   "metadata": {
    "collapsed": true
   },
   "outputs": [],
   "source": [
    "c = 'COLE_CARACTER'\n",
    "print(data_2005[c].value_counts().sort_index().index)\n",
    "print(data_2005[c].value_counts().sort_index())\n",
    "print(missing_data(data_2005[c]))"
   ]
  },
  {
   "cell_type": "code",
   "execution_count": null,
   "metadata": {
    "collapsed": true
   },
   "outputs": [],
   "source": [
    "c = 'ESTU_ETNIA'\n",
    "print(data_2005[c].value_counts().sort_index().index)\n",
    "print(data_2005[c].value_counts().sort_index())\n",
    "print(missing_data(data_2005[c]))"
   ]
  },
  {
   "cell_type": "code",
   "execution_count": null,
   "metadata": {
    "collapsed": true
   },
   "outputs": [],
   "source": [
    "c = 'FAMI_LEE_ESCRIBE_PADRE'\n",
    "print(data_2005[c].value_counts().sort_index().index)\n",
    "print(data_2005[c].value_counts().sort_index())\n",
    "print(missing_data(data_2005[c]))"
   ]
  },
  {
   "cell_type": "code",
   "execution_count": null,
   "metadata": {
    "collapsed": true
   },
   "outputs": [],
   "source": [
    "c = 'FAMI_LEE_ESCRIBE_MADRE'\n",
    "print(data_2005[c].value_counts().sort_index().index)\n",
    "print(data_2005[c].value_counts().sort_index())\n",
    "print(missing_data(data_2005[c]))"
   ]
  },
  {
   "cell_type": "code",
   "execution_count": null,
   "metadata": {
    "collapsed": true
   },
   "outputs": [],
   "source": [
    "c = 'FAMI_EDUCA_PADRE'\n",
    "print(data_2005[c].value_counts().sort_index().index)\n",
    "print(data_2005[c].value_counts().sort_index())\n",
    "print(missing_data(data_2005[c]))"
   ]
  },
  {
   "cell_type": "code",
   "execution_count": null,
   "metadata": {
    "collapsed": true
   },
   "outputs": [],
   "source": [
    "c = 'FAMI_EDUCA_MADRE'\n",
    "print(data_2005[c].value_counts().sort_index().index)\n",
    "print(data_2005[c].value_counts().sort_index())\n",
    "print(missing_data(data_2005[c]))"
   ]
  },
  {
   "cell_type": "code",
   "execution_count": null,
   "metadata": {
    "collapsed": true
   },
   "outputs": [],
   "source": [
    "c = 'FAMI_OCUPA_PADRE'\n",
    "print(data_2005[c].value_counts().sort_index().index)\n",
    "print(data_2005[c].value_counts().sort_index())\n",
    "print(missing_data(data_2005[c]))"
   ]
  },
  {
   "cell_type": "code",
   "execution_count": null,
   "metadata": {
    "collapsed": true
   },
   "outputs": [],
   "source": [
    "c = 'FAMI_OCUPA_MADRE'\n",
    "print(data_2005[c].value_counts().sort_index().index)\n",
    "print(data_2005[c].value_counts().sort_index())\n",
    "print(missing_data(data_2005[c]))"
   ]
  },
  {
   "cell_type": "code",
   "execution_count": null,
   "metadata": {
    "collapsed": true
   },
   "outputs": [],
   "source": [
    "c = 'FAMI_NUM_HERMANOS'\n",
    "print(data_2005[c].value_counts().sort_index().index)\n",
    "print(data_2005[c].value_counts().sort_index())\n",
    "print(missing_data(data_2005[c]))"
   ]
  },
  {
   "cell_type": "code",
   "execution_count": null,
   "metadata": {
    "collapsed": true
   },
   "outputs": [],
   "source": [
    "c = 'FAMI_EDUCA_HERMANO'\n",
    "print(data_2005[c].value_counts().sort_index().index)\n",
    "print(data_2005[c].value_counts().sort_index())\n",
    "print(missing_data(data_2005[c]))"
   ]
  },
  {
   "cell_type": "code",
   "execution_count": null,
   "metadata": {
    "collapsed": true
   },
   "outputs": [],
   "source": [
    "c = 'FAMI_HERMANOS_ESTUDIAN'\n",
    "print(data_2005[c].value_counts().sort_index().index)\n",
    "print(data_2005[c].value_counts().sort_index())\n",
    "print(missing_data(data_2005[c]))"
   ]
  },
  {
   "cell_type": "code",
   "execution_count": null,
   "metadata": {
    "collapsed": true
   },
   "outputs": [],
   "source": [
    "c = 'FAMI_ESTRATO_VIVIENDA'\n",
    "print(data_2005[c].value_counts().sort_index().index)\n",
    "print(data_2005[c].value_counts().sort_index())\n",
    "print(missing_data(data_2005[c]))"
   ]
  },
  {
   "cell_type": "code",
   "execution_count": null,
   "metadata": {
    "collapsed": true
   },
   "outputs": [],
   "source": [
    "c = 'FAMI_NIVEL_SISBEN'\n",
    "print(data_2005[c].value_counts().sort_index().index)\n",
    "print(data_2005[c].value_counts().sort_index())\n",
    "print(missing_data(data_2005[c]))"
   ]
  },
  {
   "cell_type": "code",
   "execution_count": null,
   "metadata": {
    "collapsed": true
   },
   "outputs": [],
   "source": [
    "c = 'FAMI_PERSONAS_HOGAR'\n",
    "print(data_2005[c].value_counts().sort_index().index)\n",
    "print(data_2005[c].value_counts().sort_index())\n",
    "print(missing_data(data_2005[c]))"
   ]
  },
  {
   "cell_type": "code",
   "execution_count": null,
   "metadata": {
    "collapsed": true
   },
   "outputs": [],
   "source": [
    "c = 'FAMI_PISOSHOGAR'\n",
    "print(data_2005[c].value_counts().sort_index().index)\n",
    "print(data_2005[c].value_counts().sort_index())\n",
    "print(missing_data(data_2005[c]))"
   ]
  },
  {
   "cell_type": "code",
   "execution_count": null,
   "metadata": {
    "collapsed": true
   },
   "outputs": [],
   "source": [
    "c = 'FAMI_CUARTOS_HOGAR'\n",
    "print(data_2005[c].value_counts().sort_index().index)\n",
    "print(data_2005[c].value_counts().sort_index())\n",
    "print(missing_data(data_2005[c]))"
   ]
  },
  {
   "cell_type": "code",
   "execution_count": null,
   "metadata": {
    "collapsed": true
   },
   "outputs": [],
   "source": [
    "c = 'FAMI_DORMITORIOS_HOGAR'\n",
    "print(data_2005[c].value_counts().sort_index().index)\n",
    "print(data_2005[c].value_counts().sort_index())\n",
    "print(missing_data(data_2005[c]))"
   ]
  },
  {
   "cell_type": "code",
   "execution_count": null,
   "metadata": {
    "collapsed": true
   },
   "outputs": [],
   "source": [
    "c = 'FAMI_COMPUTADOR'\n",
    "print(data_2005[c].value_counts().sort_index().index)\n",
    "print(data_2005[c].value_counts().sort_index())\n",
    "print(missing_data(data_2005[c]))"
   ]
  },
  {
   "cell_type": "code",
   "execution_count": null,
   "metadata": {
    "collapsed": true
   },
   "outputs": [],
   "source": [
    "c = 'FAMI_INGRESO_FMILIAR_MENSUAL'\n",
    "print(data_2005[c].value_counts().sort_index().index)\n",
    "print(data_2005[c].value_counts().sort_index())\n",
    "print(missing_data(data_2005[c]))"
   ]
  },
  {
   "cell_type": "code",
   "execution_count": null,
   "metadata": {
    "collapsed": true
   },
   "outputs": [],
   "source": [
    "c = 'COLE_VALOR_PENSION'\n",
    "print(data_2005[c].value_counts().sort_index().index)\n",
    "print(data_2005[c].value_counts().sort_index())\n",
    "print(missing_data(data_2005[c]))"
   ]
  },
  {
   "cell_type": "code",
   "execution_count": null,
   "metadata": {
    "collapsed": true
   },
   "outputs": [],
   "source": [
    "c = 'ESTU_CARRDESEADA_TIPO'\n",
    "print(data_2005[c].value_counts().sort_index().index)\n",
    "print(data_2005[c].value_counts().sort_index())\n",
    "print(missing_data(data_2005[c]))"
   ]
  },
  {
   "cell_type": "code",
   "execution_count": null,
   "metadata": {
    "collapsed": true
   },
   "outputs": [],
   "source": [
    "c = 'ESTU_CARRDESEADA_NUCLEO'\n",
    "print(data_2005[c].value_counts().sort_index().index)\n",
    "print(data_2005[c].value_counts().sort_index())\n",
    "print(missing_data(data_2005[c]))"
   ]
  },
  {
   "cell_type": "code",
   "execution_count": 9,
   "metadata": {
    "collapsed": true
   },
   "outputs": [
    {
     "name": "stdout",
     "output_type": "stream",
     "text": [
      "Float64Index([1101.0, 1102.0, 1103.0, 1104.0, 1105.0, 1106.0, 1107.0, 1108.0,\n",
      "              1110.0, 1111.0,\n",
      "              ...\n",
      "              4705.0, 4810.0, 4811.0, 4826.0, 5801.0, 5802.0, 9103.0, 9104.0,\n",
      "              9105.0, 9107.0],\n",
      "             dtype='float64', length=201)\n",
      "1101.0     3567\n",
      "1102.0      182\n",
      "1103.0      155\n",
      "1104.0      696\n",
      "1105.0      226\n",
      "1106.0      134\n",
      "1107.0       13\n",
      "1108.0       56\n",
      "1110.0     1411\n",
      "1111.0      844\n",
      "1112.0      302\n",
      "1113.0       47\n",
      "1114.0      129\n",
      "1115.0      111\n",
      "1117.0       55\n",
      "1118.0       38\n",
      "1119.0      148\n",
      "1120.0       41\n",
      "1121.0       32\n",
      "1122.0      220\n",
      "1123.0        1\n",
      "1125.0        3\n",
      "1201.0     1516\n",
      "1202.0       57\n",
      "1203.0    24344\n",
      "1204.0      210\n",
      "1205.0       62\n",
      "1206.0     6135\n",
      "1207.0      163\n",
      "1208.0      552\n",
      "          ...  \n",
      "2832.0       39\n",
      "2833.0       58\n",
      "2834.0       22\n",
      "2836.0        2\n",
      "2837.0       12\n",
      "2838.0       92\n",
      "2839.0        6\n",
      "2840.0        2\n",
      "2842.0        1\n",
      "2847.0       38\n",
      "2848.0       52\n",
      "2849.0       52\n",
      "2901.0       23\n",
      "2902.0       18\n",
      "2903.0        7\n",
      "3102.0        3\n",
      "3103.0       19\n",
      "3204.0       55\n",
      "3826.0       25\n",
      "4111.0        2\n",
      "4705.0        3\n",
      "4810.0       52\n",
      "4811.0      157\n",
      "4826.0       28\n",
      "5801.0       21\n",
      "5802.0       10\n",
      "9103.0      346\n",
      "9104.0      434\n",
      "9105.0       50\n",
      "9107.0       41\n",
      "Name: ESTU_IES_COD_DESEADA, dtype: int64\n",
      "Elementos null/NaN 12348\n",
      "__________________\n",
      "Elementos diferentes de null/NaN: 60494\n",
      "__________________\n",
      "(60494,)\n",
      "None\n"
     ]
    }
   ],
   "source": [
    "c = 'ESTU_IES_COD_DESEADA'\n",
    "print(data_2005[c].value_counts().sort_index().index)\n",
    "print(data_2005[c].value_counts().sort_index())\n",
    "print(missing_data(data_2005[c]))"
   ]
  },
  {
   "cell_type": "code",
   "execution_count": null,
   "metadata": {
    "collapsed": true
   },
   "outputs": [],
   "source": [
    "c = 'ESTU_IES_COD_MPIO_DESEADA'\n",
    "print(data_2005[c].value_counts().sort_index().index)\n",
    "print(data_2005[c].value_counts().sort_index())\n",
    "print(missing_data(data_2005[c]))"
   ]
  },
  {
   "cell_type": "code",
   "execution_count": null,
   "metadata": {
    "collapsed": true
   },
   "outputs": [],
   "source": [
    "c = 'ESTU_IES_DEPT_DESEADA'\n",
    "print(data_2005[c].value_counts().sort_index().index)\n",
    "print(data_2005[c].value_counts().sort_index())\n",
    "print(missing_data(data_2005[c]))"
   ]
  },
  {
   "cell_type": "code",
   "execution_count": null,
   "metadata": {
    "collapsed": true
   },
   "outputs": [],
   "source": [
    "c = 'ESTU_RAZONINSTITUTO'\n",
    "print(data_2005[c].value_counts().sort_index().index)\n",
    "print(data_2005[c].value_counts().sort_index())\n",
    "print(missing_data(data_2005[c]))"
   ]
  },
  {
   "cell_type": "code",
   "execution_count": null,
   "metadata": {
    "collapsed": true
   },
   "outputs": [],
   "source": [
    "c = 'ESTU_CARRDESEADA_COD'\n",
    "print(data_2005[c].value_counts().sort_index().index)\n",
    "print(data_2005[c].value_counts().sort_index())\n",
    "print(missing_data(data_2005[c]))"
   ]
  },
  {
   "cell_type": "code",
   "execution_count": null,
   "metadata": {
    "collapsed": true
   },
   "outputs": [],
   "source": [
    "c = 'ESTU_CARRDESEADA_RAZON'\n",
    "print(data_2005[c].value_counts().sort_index().index)\n",
    "print(data_2005[c].value_counts().sort_index())\n",
    "print(missing_data(data_2005[c]))"
   ]
  },
  {
   "cell_type": "markdown",
   "metadata": {},
   "source": [
    "### TARGETS"
   ]
  },
  {
   "cell_type": "code",
   "execution_count": null,
   "metadata": {
    "collapsed": true
   },
   "outputs": [],
   "source": [
    "c = 'ESTU_PUESTO'\n",
    "print(data_2005[c].value_counts().sort_index().index)\n",
    "print(data_2005[c].value_counts().sort_index())\n",
    "print(missing_data(data_2005[c]))"
   ]
  },
  {
   "cell_type": "code",
   "execution_count": null,
   "metadata": {
    "collapsed": true
   },
   "outputs": [],
   "source": [
    "c = 'PUNT_BIOLOGIA'\n",
    "print(data_2005[c].value_counts().sort_index().index)\n",
    "print(data_2005[c].value_counts().sort_index())\n",
    "print(missing_data(data_2005[c]))"
   ]
  },
  {
   "cell_type": "code",
   "execution_count": null,
   "metadata": {
    "collapsed": true
   },
   "outputs": [],
   "source": [
    "c = 'PUNT_MATEMATICAS'\n",
    "print(data_2005[c].value_counts().sort_index().index)\n",
    "print(data_2005[c].value_counts().sort_index())\n",
    "print(missing_data(data_2005[c]))"
   ]
  },
  {
   "cell_type": "code",
   "execution_count": null,
   "metadata": {
    "collapsed": true
   },
   "outputs": [],
   "source": [
    "c = 'PUNT_FILOSOFIA'\n",
    "print(data_2005[c].value_counts().sort_index().index)\n",
    "print(data_2005[c].value_counts().sort_index())\n",
    "print(missing_data(data_2005[c]))"
   ]
  },
  {
   "cell_type": "code",
   "execution_count": null,
   "metadata": {
    "collapsed": true
   },
   "outputs": [],
   "source": [
    "c = 'PUNT_FISICA'\n",
    "print(data_2005[c].value_counts().sort_index().index)\n",
    "print(data_2005[c].value_counts().sort_index())\n",
    "print(missing_data(data_2005[c]))"
   ]
  },
  {
   "cell_type": "code",
   "execution_count": null,
   "metadata": {
    "collapsed": true
   },
   "outputs": [],
   "source": [
    "c = 'PUNT_HISTORIA'\n",
    "print(data_2005[c].value_counts().sort_index().index)\n",
    "print(data_2005[c].value_counts().sort_index())\n",
    "print(missing_data(data_2005[c]))"
   ]
  },
  {
   "cell_type": "code",
   "execution_count": null,
   "metadata": {
    "collapsed": true
   },
   "outputs": [],
   "source": [
    "c = 'PUNT_QUIMICA'\n",
    "print(data_2005[c].value_counts().sort_index().index)\n",
    "print(data_2005[c].value_counts().sort_index())\n",
    "print(missing_data(data_2005[c]))"
   ]
  },
  {
   "cell_type": "code",
   "execution_count": null,
   "metadata": {
    "collapsed": true
   },
   "outputs": [],
   "source": [
    "c = 'PUNT_LENGUAJE'\n",
    "print(data_2005[c].value_counts().sort_index().index)\n",
    "print(data_2005[c].value_counts().sort_index())\n",
    "print(missing_data(data_2005[c]))"
   ]
  },
  {
   "cell_type": "code",
   "execution_count": null,
   "metadata": {
    "collapsed": true
   },
   "outputs": [],
   "source": [
    "c = 'PUNT_GEOGRAFIA'\n",
    "print(data_2005[c].value_counts().sort_index().index)\n",
    "print(data_2005[c].value_counts().sort_index())\n",
    "print(missing_data(data_2005[c]))"
   ]
  },
  {
   "cell_type": "code",
   "execution_count": null,
   "metadata": {
    "collapsed": true
   },
   "outputs": [],
   "source": [
    "c = 'NOMBRE_IDIOMA'\n",
    "print(data_2005[c].value_counts().sort_index().index)\n",
    "print(data_2005[c].value_counts().sort_index())\n",
    "print(missing_data(data_2005[c]))"
   ]
  },
  {
   "cell_type": "code",
   "execution_count": null,
   "metadata": {
    "collapsed": true
   },
   "outputs": [],
   "source": [
    "c = 'PUNT_IDIOMA'\n",
    "print(data_2005[c].value_counts().sort_index().index)\n",
    "print(data_2005[c].value_counts().sort_index())\n",
    "print(missing_data(data_2005[c]))"
   ]
  },
  {
   "cell_type": "code",
   "execution_count": null,
   "metadata": {
    "collapsed": true
   },
   "outputs": [],
   "source": [
    "c = 'DESEMP_IDIOMA'\n",
    "print(data_2005[c].value_counts().sort_index().index)\n",
    "print(data_2005[c].value_counts().sort_index())\n",
    "print(missing_data(data_2005[c]))"
   ]
  },
  {
   "cell_type": "code",
   "execution_count": null,
   "metadata": {
    "collapsed": true
   },
   "outputs": [],
   "source": [
    "c = 'NOMBRE_PROFUNDIZACION'\n",
    "print(data_2005[c].value_counts().sort_index().index)\n",
    "print(data_2005[c].value_counts().sort_index())\n",
    "print(missing_data(data_2005[c]))"
   ]
  },
  {
   "cell_type": "code",
   "execution_count": null,
   "metadata": {
    "collapsed": true
   },
   "outputs": [],
   "source": [
    "c = 'PUNT_PROFUNDIZACION'\n",
    "print(data_2005[c].value_counts().sort_index().index)\n",
    "print(data_2005[c].value_counts().sort_index())\n",
    "print(missing_data(data_2005[c]))"
   ]
  },
  {
   "cell_type": "code",
   "execution_count": null,
   "metadata": {
    "collapsed": true
   },
   "outputs": [],
   "source": [
    "c = 'DESEMP_PROFUNDIZACION'\n",
    "print(data_2005[c].value_counts().sort_index().index)\n",
    "print(data_2005[c].value_counts().sort_index())\n",
    "print(missing_data(data_2005[c]))"
   ]
  },
  {
   "cell_type": "code",
   "execution_count": null,
   "metadata": {
    "collapsed": true
   },
   "outputs": [],
   "source": [
    "c = 'NOMBRE_INTERDISCIPLINAR'\n",
    "print(data_2005[c].value_counts().sort_index().index)\n",
    "print(data_2005[c].value_counts().sort_index())\n",
    "print(missing_data(data_2005[c]))"
   ]
  },
  {
   "cell_type": "code",
   "execution_count": null,
   "metadata": {
    "collapsed": true
   },
   "outputs": [],
   "source": [
    "c = 'PUNT_INTERDISCIPLINAR'\n",
    "print(data_2005[c].value_counts().sort_index().index)\n",
    "print(data_2005[c].value_counts().sort_index())\n",
    "print(missing_data(data_2005[c]))"
   ]
  },
  {
   "cell_type": "markdown",
   "metadata": {},
   "source": [
    "# FILE 2 -> 2005_2"
   ]
  },
  {
   "cell_type": "code",
   "execution_count": 10,
   "metadata": {
    "collapsed": false
   },
   "outputs": [
    {
     "name": "stderr",
     "output_type": "stream",
     "text": [
      "/usr/local/anaconda3/lib/python3.5/site-packages/IPython/core/interactiveshell.py:2723: DtypeWarning: Columns (26) have mixed types. Specify dtype option on import or set low_memory=False.\n",
      "  interactivity=interactivity, compiler=compiler, result=result)\n"
     ]
    }
   ],
   "source": [
    "data_2005_2 = pd.read_csv('../DatosFTPICFES/SABER11/SB11-BASES_DE_DATOS/SB11-20052-RGSTRO-CLFCCN-V1-0.txt', delimiter = '|',\n",
    "                         encoding = \"iso-8859-1\")"
   ]
  },
  {
   "cell_type": "code",
   "execution_count": 12,
   "metadata": {
    "collapsed": false
   },
   "outputs": [
    {
     "data": {
      "text/plain": [
       "(383964, 82)"
      ]
     },
     "execution_count": 12,
     "metadata": {},
     "output_type": "execute_result"
    }
   ],
   "source": [
    "data_2005_2.shape"
   ]
  },
  {
   "cell_type": "code",
   "execution_count": 13,
   "metadata": {
    "collapsed": false,
    "scrolled": true
   },
   "outputs": [
    {
     "data": {
      "text/html": [
       "<div>\n",
       "<table border=\"1\" class=\"dataframe\">\n",
       "  <thead>\n",
       "    <tr style=\"text-align: right;\">\n",
       "      <th></th>\n",
       "      <th>0</th>\n",
       "      <th>1</th>\n",
       "      <th>2</th>\n",
       "    </tr>\n",
       "  </thead>\n",
       "  <tbody>\n",
       "    <tr>\n",
       "      <th>ESTU_CONSECUTIVO</th>\n",
       "      <td>SB11200520000001</td>\n",
       "      <td>SB11200520000002</td>\n",
       "      <td>SB11200520000003</td>\n",
       "    </tr>\n",
       "    <tr>\n",
       "      <th>ESTU_PAIS_RESIDE</th>\n",
       "      <td>CO</td>\n",
       "      <td>CO</td>\n",
       "      <td>CO</td>\n",
       "    </tr>\n",
       "    <tr>\n",
       "      <th>ESTU_GENERO</th>\n",
       "      <td>M</td>\n",
       "      <td>M</td>\n",
       "      <td>F</td>\n",
       "    </tr>\n",
       "    <tr>\n",
       "      <th>ESTU_NACIMIENTO_DIA</th>\n",
       "      <td>17</td>\n",
       "      <td>2</td>\n",
       "      <td>15</td>\n",
       "    </tr>\n",
       "    <tr>\n",
       "      <th>ESTU_NACIMIENTO_MES</th>\n",
       "      <td>10</td>\n",
       "      <td>8</td>\n",
       "      <td>7</td>\n",
       "    </tr>\n",
       "    <tr>\n",
       "      <th>ESTU_NACIMIENTO_ANNO</th>\n",
       "      <td>1988</td>\n",
       "      <td>1988</td>\n",
       "      <td>1989</td>\n",
       "    </tr>\n",
       "    <tr>\n",
       "      <th>ESTU_EDAD</th>\n",
       "      <td>16</td>\n",
       "      <td>16</td>\n",
       "      <td>15</td>\n",
       "    </tr>\n",
       "    <tr>\n",
       "      <th>ESTU_LIMITA_BAJAVISION</th>\n",
       "      <td>NaN</td>\n",
       "      <td>NaN</td>\n",
       "      <td>NaN</td>\n",
       "    </tr>\n",
       "    <tr>\n",
       "      <th>ESTU_LIMITA_SORDOCEGUERA</th>\n",
       "      <td>NaN</td>\n",
       "      <td>NaN</td>\n",
       "      <td>NaN</td>\n",
       "    </tr>\n",
       "    <tr>\n",
       "      <th>ESTU_LIMITA_COGNITIVA</th>\n",
       "      <td>NaN</td>\n",
       "      <td>NaN</td>\n",
       "      <td>NaN</td>\n",
       "    </tr>\n",
       "    <tr>\n",
       "      <th>ESTU_LIMITA_INVIDENTE</th>\n",
       "      <td>NaN</td>\n",
       "      <td>NaN</td>\n",
       "      <td>NaN</td>\n",
       "    </tr>\n",
       "    <tr>\n",
       "      <th>ESTU_LIMITA_MOTRIZ</th>\n",
       "      <td>NaN</td>\n",
       "      <td>NaN</td>\n",
       "      <td>NaN</td>\n",
       "    </tr>\n",
       "    <tr>\n",
       "      <th>ESTU_LIMITA_SORDOINTERPRETE</th>\n",
       "      <td>NaN</td>\n",
       "      <td>NaN</td>\n",
       "      <td>NaN</td>\n",
       "    </tr>\n",
       "    <tr>\n",
       "      <th>ESTU_LIMITA_SORDONOINTERPRETE</th>\n",
       "      <td>NaN</td>\n",
       "      <td>NaN</td>\n",
       "      <td>NaN</td>\n",
       "    </tr>\n",
       "    <tr>\n",
       "      <th>ESTU_COD_RESIDE_MCPIO</th>\n",
       "      <td>11001</td>\n",
       "      <td>11001</td>\n",
       "      <td>11001</td>\n",
       "    </tr>\n",
       "    <tr>\n",
       "      <th>ESTU_RESIDE_MCPIO</th>\n",
       "      <td>BOGOTÃ D.C.</td>\n",
       "      <td>BOGOTÃ D.C.</td>\n",
       "      <td>BOGOTÃ D.C.</td>\n",
       "    </tr>\n",
       "    <tr>\n",
       "      <th>ESTU_RESIDE_DEPTO</th>\n",
       "      <td>BOGOTÃ</td>\n",
       "      <td>BOGOTÃ</td>\n",
       "      <td>BOGOTÃ</td>\n",
       "    </tr>\n",
       "    <tr>\n",
       "      <th>ESTU_ZONA_RESIDE</th>\n",
       "      <td>8</td>\n",
       "      <td>8</td>\n",
       "      <td>8</td>\n",
       "    </tr>\n",
       "    <tr>\n",
       "      <th>ESTU_COD_MCPIO_PRESENTACION</th>\n",
       "      <td>11001</td>\n",
       "      <td>11001</td>\n",
       "      <td>11001</td>\n",
       "    </tr>\n",
       "    <tr>\n",
       "      <th>ESTU_MCPIO_PRESENTACION</th>\n",
       "      <td>BOGOTÃ D.C.</td>\n",
       "      <td>BOGOTÃ D.C.</td>\n",
       "      <td>BOGOTÃ D.C.</td>\n",
       "    </tr>\n",
       "    <tr>\n",
       "      <th>ESTU_DEPTO_PRESENTACION</th>\n",
       "      <td>BOGOTÃ</td>\n",
       "      <td>BOGOTÃ</td>\n",
       "      <td>BOGOTÃ</td>\n",
       "    </tr>\n",
       "    <tr>\n",
       "      <th>ESTU_EXAM_NOMBREEXAMEN</th>\n",
       "      <td>EXAMEN DE ESTADO NUEVO (2005)</td>\n",
       "      <td>EXAMEN DE ESTADO NUEVO (2005)</td>\n",
       "      <td>EXAMEN DE ESTADO NUEVO (2005)</td>\n",
       "    </tr>\n",
       "    <tr>\n",
       "      <th>IND_ESTUDIO_BACHILLERATO</th>\n",
       "      <td>NaN</td>\n",
       "      <td>NaN</td>\n",
       "      <td>NaN</td>\n",
       "    </tr>\n",
       "    <tr>\n",
       "      <th>IND_ANNO_TERMINO_BACHILLERATO</th>\n",
       "      <td>NaN</td>\n",
       "      <td>NaN</td>\n",
       "      <td>NaN</td>\n",
       "    </tr>\n",
       "    <tr>\n",
       "      <th>IND_COD_ICFES_TERMINO</th>\n",
       "      <td>NaN</td>\n",
       "      <td>NaN</td>\n",
       "      <td>NaN</td>\n",
       "    </tr>\n",
       "    <tr>\n",
       "      <th>COLE_COD_ICFES</th>\n",
       "      <td>52241</td>\n",
       "      <td>52241</td>\n",
       "      <td>52241</td>\n",
       "    </tr>\n",
       "    <tr>\n",
       "      <th>COLE_COD_DANE_INSTITUCION</th>\n",
       "      <td>311001038309</td>\n",
       "      <td>311001038309</td>\n",
       "      <td>311001038309</td>\n",
       "    </tr>\n",
       "    <tr>\n",
       "      <th>COLE_NOMBRE_SEDE</th>\n",
       "      <td>COLEGIO NUEVO ESTRADA</td>\n",
       "      <td>COLEGIO NUEVO ESTRADA</td>\n",
       "      <td>COLEGIO NUEVO ESTRADA</td>\n",
       "    </tr>\n",
       "    <tr>\n",
       "      <th>COLE_ZONA_UBICACION</th>\n",
       "      <td>8</td>\n",
       "      <td>8</td>\n",
       "      <td>8</td>\n",
       "    </tr>\n",
       "    <tr>\n",
       "      <th>COLE_AREA_UBICACION</th>\n",
       "      <td>U</td>\n",
       "      <td>U</td>\n",
       "      <td>U</td>\n",
       "    </tr>\n",
       "    <tr>\n",
       "      <th>...</th>\n",
       "      <td>...</td>\n",
       "      <td>...</td>\n",
       "      <td>...</td>\n",
       "    </tr>\n",
       "    <tr>\n",
       "      <th>FAMI_COMPUTADOR</th>\n",
       "      <td>NaN</td>\n",
       "      <td>NaN</td>\n",
       "      <td>NaN</td>\n",
       "    </tr>\n",
       "    <tr>\n",
       "      <th>FAMI_INGRESO_FMILIAR_MENSUAL</th>\n",
       "      <td>NaN</td>\n",
       "      <td>NaN</td>\n",
       "      <td>NaN</td>\n",
       "    </tr>\n",
       "    <tr>\n",
       "      <th>COLE_VALOR_PENSION</th>\n",
       "      <td>4</td>\n",
       "      <td>4</td>\n",
       "      <td>0</td>\n",
       "    </tr>\n",
       "    <tr>\n",
       "      <th>ESTU_CARRDESEADA_TIPO</th>\n",
       "      <td>NaN</td>\n",
       "      <td>NaN</td>\n",
       "      <td>NaN</td>\n",
       "    </tr>\n",
       "    <tr>\n",
       "      <th>ESTU_CARRDESEADA_NUCLEO</th>\n",
       "      <td>NaN</td>\n",
       "      <td>NaN</td>\n",
       "      <td>NaN</td>\n",
       "    </tr>\n",
       "    <tr>\n",
       "      <th>ESTU_IES_COD_DESEADA</th>\n",
       "      <td>1101</td>\n",
       "      <td>1301</td>\n",
       "      <td>1105</td>\n",
       "    </tr>\n",
       "    <tr>\n",
       "      <th>ESTU_IES_DESEADA_NOMBRE</th>\n",
       "      <td>UNIVERSIDAD NACIONAL DE COLOMBIA</td>\n",
       "      <td>UNIVERSIDAD DISTRITAL FRANCISCO JOSE DE CALDAS</td>\n",
       "      <td>UNIVERSIDAD PEDAGOGICA NACIONAL</td>\n",
       "    </tr>\n",
       "    <tr>\n",
       "      <th>ESTU_IES_COD_MPIO_DESEADA</th>\n",
       "      <td>11001</td>\n",
       "      <td>11001</td>\n",
       "      <td>11001</td>\n",
       "    </tr>\n",
       "    <tr>\n",
       "      <th>ESTU_IES_MPIO_DESEADA</th>\n",
       "      <td>BOGOTÃ D.C.</td>\n",
       "      <td>BOGOTÃ D.C.</td>\n",
       "      <td>BOGOTÃ D.C.</td>\n",
       "    </tr>\n",
       "    <tr>\n",
       "      <th>ESTU_IES_DEPT_DESEADA</th>\n",
       "      <td>BOGOTÃ</td>\n",
       "      <td>BOGOTÃ</td>\n",
       "      <td>BOGOTÃ</td>\n",
       "    </tr>\n",
       "    <tr>\n",
       "      <th>ESTU_RAZONINSTITUTO</th>\n",
       "      <td>3</td>\n",
       "      <td>3</td>\n",
       "      <td>2</td>\n",
       "    </tr>\n",
       "    <tr>\n",
       "      <th>ESTU_CARRDESEADA_COD</th>\n",
       "      <td>14064</td>\n",
       "      <td>11790</td>\n",
       "      <td>11493</td>\n",
       "    </tr>\n",
       "    <tr>\n",
       "      <th>ESTU_CARRDESEADA_RAZON</th>\n",
       "      <td>2</td>\n",
       "      <td>5</td>\n",
       "      <td>2</td>\n",
       "    </tr>\n",
       "    <tr>\n",
       "      <th>PUNT_BIOLOGIA</th>\n",
       "      <td>43,63</td>\n",
       "      <td>43,63</td>\n",
       "      <td>49,8</td>\n",
       "    </tr>\n",
       "    <tr>\n",
       "      <th>PUNT_MATEMATICAS</th>\n",
       "      <td>32,18</td>\n",
       "      <td>46,07</td>\n",
       "      <td>57,98</td>\n",
       "    </tr>\n",
       "    <tr>\n",
       "      <th>PUNT_FILOSOFIA</th>\n",
       "      <td>50,84</td>\n",
       "      <td>41,62</td>\n",
       "      <td>46,43</td>\n",
       "    </tr>\n",
       "    <tr>\n",
       "      <th>PUNT_FISICA</th>\n",
       "      <td>39,23</td>\n",
       "      <td>48,9</td>\n",
       "      <td>46,06</td>\n",
       "    </tr>\n",
       "    <tr>\n",
       "      <th>PUNT_HISTORIA</th>\n",
       "      <td>46,23</td>\n",
       "      <td>35,8</td>\n",
       "      <td>49,82</td>\n",
       "    </tr>\n",
       "    <tr>\n",
       "      <th>PUNT_QUIMICA</th>\n",
       "      <td>44,7</td>\n",
       "      <td>30,38</td>\n",
       "      <td>48,36</td>\n",
       "    </tr>\n",
       "    <tr>\n",
       "      <th>PUNT_LENGUAJE</th>\n",
       "      <td>42,39</td>\n",
       "      <td>44,61</td>\n",
       "      <td>56,52</td>\n",
       "    </tr>\n",
       "    <tr>\n",
       "      <th>PUNT_GEOGRAFIA</th>\n",
       "      <td>29,51</td>\n",
       "      <td>33,16</td>\n",
       "      <td>38,74</td>\n",
       "    </tr>\n",
       "    <tr>\n",
       "      <th>NOMBRE_IDIOMA</th>\n",
       "      <td>INGLÃS</td>\n",
       "      <td>INGLÃS</td>\n",
       "      <td>INGLÃS</td>\n",
       "    </tr>\n",
       "    <tr>\n",
       "      <th>PUNT_IDIOMA</th>\n",
       "      <td>43,4</td>\n",
       "      <td>43,4</td>\n",
       "      <td>50,67</td>\n",
       "    </tr>\n",
       "    <tr>\n",
       "      <th>DESEMP_IDIOMA</th>\n",
       "      <td>NaN</td>\n",
       "      <td>NaN</td>\n",
       "      <td>NaN</td>\n",
       "    </tr>\n",
       "    <tr>\n",
       "      <th>NOMBRE_PROFUNDIZACION</th>\n",
       "      <td>PROFUNDIZACIÃN EN MATEMÃTICA</td>\n",
       "      <td>PROFUNDIZACIÃN EN MATEMÃTICA</td>\n",
       "      <td>PROFUNDIZACIÃN EN LENGUAJE</td>\n",
       "    </tr>\n",
       "    <tr>\n",
       "      <th>PUNT_PROFUNDIZACION</th>\n",
       "      <td>5</td>\n",
       "      <td>5,8</td>\n",
       "      <td>5,5</td>\n",
       "    </tr>\n",
       "    <tr>\n",
       "      <th>DESEMP_PROFUNDIZACION</th>\n",
       "      <td>I</td>\n",
       "      <td>II</td>\n",
       "      <td>I</td>\n",
       "    </tr>\n",
       "    <tr>\n",
       "      <th>NOMBRE_INTERDISCIPLINAR</th>\n",
       "      <td>MEDIO AMBIENTE</td>\n",
       "      <td>MEDIO AMBIENTE</td>\n",
       "      <td>VIOLENCIA Y SOCIEDAD</td>\n",
       "    </tr>\n",
       "    <tr>\n",
       "      <th>PUNT_INTERDISCIPLINAR</th>\n",
       "      <td>50,02</td>\n",
       "      <td>48,85</td>\n",
       "      <td>50,02</td>\n",
       "    </tr>\n",
       "    <tr>\n",
       "      <th>ESTU_PUESTO</th>\n",
       "      <td>700</td>\n",
       "      <td>745</td>\n",
       "      <td>143</td>\n",
       "    </tr>\n",
       "  </tbody>\n",
       "</table>\n",
       "<p>82 rows × 3 columns</p>\n",
       "</div>"
      ],
      "text/plain": [
       "                                                              0  \\\n",
       "ESTU_CONSECUTIVO                               SB11200520000001   \n",
       "ESTU_PAIS_RESIDE                                             CO   \n",
       "ESTU_GENERO                                                   M   \n",
       "ESTU_NACIMIENTO_DIA                                          17   \n",
       "ESTU_NACIMIENTO_MES                                          10   \n",
       "ESTU_NACIMIENTO_ANNO                                       1988   \n",
       "ESTU_EDAD                                                    16   \n",
       "ESTU_LIMITA_BAJAVISION                                      NaN   \n",
       "ESTU_LIMITA_SORDOCEGUERA                                    NaN   \n",
       "ESTU_LIMITA_COGNITIVA                                       NaN   \n",
       "ESTU_LIMITA_INVIDENTE                                       NaN   \n",
       "ESTU_LIMITA_MOTRIZ                                          NaN   \n",
       "ESTU_LIMITA_SORDOINTERPRETE                                 NaN   \n",
       "ESTU_LIMITA_SORDONOINTERPRETE                               NaN   \n",
       "ESTU_COD_RESIDE_MCPIO                                     11001   \n",
       "ESTU_RESIDE_MCPIO                                  BOGOTÃ D.C.   \n",
       "ESTU_RESIDE_DEPTO                                       BOGOTÃ   \n",
       "ESTU_ZONA_RESIDE                                              8   \n",
       "ESTU_COD_MCPIO_PRESENTACION                               11001   \n",
       "ESTU_MCPIO_PRESENTACION                            BOGOTÃ D.C.   \n",
       "ESTU_DEPTO_PRESENTACION                                 BOGOTÃ   \n",
       "ESTU_EXAM_NOMBREEXAMEN            EXAMEN DE ESTADO NUEVO (2005)   \n",
       "IND_ESTUDIO_BACHILLERATO                                    NaN   \n",
       "IND_ANNO_TERMINO_BACHILLERATO                               NaN   \n",
       "IND_COD_ICFES_TERMINO                                       NaN   \n",
       "COLE_COD_ICFES                                            52241   \n",
       "COLE_COD_DANE_INSTITUCION                          311001038309   \n",
       "COLE_NOMBRE_SEDE                          COLEGIO NUEVO ESTRADA   \n",
       "COLE_ZONA_UBICACION                                           8   \n",
       "COLE_AREA_UBICACION                                           U   \n",
       "...                                                         ...   \n",
       "FAMI_COMPUTADOR                                             NaN   \n",
       "FAMI_INGRESO_FMILIAR_MENSUAL                                NaN   \n",
       "COLE_VALOR_PENSION                                            4   \n",
       "ESTU_CARRDESEADA_TIPO                                       NaN   \n",
       "ESTU_CARRDESEADA_NUCLEO                                     NaN   \n",
       "ESTU_IES_COD_DESEADA                                       1101   \n",
       "ESTU_IES_DESEADA_NOMBRE        UNIVERSIDAD NACIONAL DE COLOMBIA   \n",
       "ESTU_IES_COD_MPIO_DESEADA                                 11001   \n",
       "ESTU_IES_MPIO_DESEADA                              BOGOTÃ D.C.   \n",
       "ESTU_IES_DEPT_DESEADA                                   BOGOTÃ   \n",
       "ESTU_RAZONINSTITUTO                                           3   \n",
       "ESTU_CARRDESEADA_COD                                      14064   \n",
       "ESTU_CARRDESEADA_RAZON                                        2   \n",
       "PUNT_BIOLOGIA                                             43,63   \n",
       "PUNT_MATEMATICAS                                          32,18   \n",
       "PUNT_FILOSOFIA                                            50,84   \n",
       "PUNT_FISICA                                               39,23   \n",
       "PUNT_HISTORIA                                             46,23   \n",
       "PUNT_QUIMICA                                               44,7   \n",
       "PUNT_LENGUAJE                                             42,39   \n",
       "PUNT_GEOGRAFIA                                            29,51   \n",
       "NOMBRE_IDIOMA                                           INGLÃS   \n",
       "PUNT_IDIOMA                                                43,4   \n",
       "DESEMP_IDIOMA                                               NaN   \n",
       "NOMBRE_PROFUNDIZACION            PROFUNDIZACIÃN EN MATEMÃTICA   \n",
       "PUNT_PROFUNDIZACION                                           5   \n",
       "DESEMP_PROFUNDIZACION                                         I   \n",
       "NOMBRE_INTERDISCIPLINAR                          MEDIO AMBIENTE   \n",
       "PUNT_INTERDISCIPLINAR                                     50,02   \n",
       "ESTU_PUESTO                                                 700   \n",
       "\n",
       "                                                                            1  \\\n",
       "ESTU_CONSECUTIVO                                             SB11200520000002   \n",
       "ESTU_PAIS_RESIDE                                                           CO   \n",
       "ESTU_GENERO                                                                 M   \n",
       "ESTU_NACIMIENTO_DIA                                                         2   \n",
       "ESTU_NACIMIENTO_MES                                                         8   \n",
       "ESTU_NACIMIENTO_ANNO                                                     1988   \n",
       "ESTU_EDAD                                                                  16   \n",
       "ESTU_LIMITA_BAJAVISION                                                    NaN   \n",
       "ESTU_LIMITA_SORDOCEGUERA                                                  NaN   \n",
       "ESTU_LIMITA_COGNITIVA                                                     NaN   \n",
       "ESTU_LIMITA_INVIDENTE                                                     NaN   \n",
       "ESTU_LIMITA_MOTRIZ                                                        NaN   \n",
       "ESTU_LIMITA_SORDOINTERPRETE                                               NaN   \n",
       "ESTU_LIMITA_SORDONOINTERPRETE                                             NaN   \n",
       "ESTU_COD_RESIDE_MCPIO                                                   11001   \n",
       "ESTU_RESIDE_MCPIO                                                BOGOTÃ D.C.   \n",
       "ESTU_RESIDE_DEPTO                                                     BOGOTÃ   \n",
       "ESTU_ZONA_RESIDE                                                            8   \n",
       "ESTU_COD_MCPIO_PRESENTACION                                             11001   \n",
       "ESTU_MCPIO_PRESENTACION                                          BOGOTÃ D.C.   \n",
       "ESTU_DEPTO_PRESENTACION                                               BOGOTÃ   \n",
       "ESTU_EXAM_NOMBREEXAMEN                          EXAMEN DE ESTADO NUEVO (2005)   \n",
       "IND_ESTUDIO_BACHILLERATO                                                  NaN   \n",
       "IND_ANNO_TERMINO_BACHILLERATO                                             NaN   \n",
       "IND_COD_ICFES_TERMINO                                                     NaN   \n",
       "COLE_COD_ICFES                                                          52241   \n",
       "COLE_COD_DANE_INSTITUCION                                        311001038309   \n",
       "COLE_NOMBRE_SEDE                                        COLEGIO NUEVO ESTRADA   \n",
       "COLE_ZONA_UBICACION                                                         8   \n",
       "COLE_AREA_UBICACION                                                         U   \n",
       "...                                                                       ...   \n",
       "FAMI_COMPUTADOR                                                           NaN   \n",
       "FAMI_INGRESO_FMILIAR_MENSUAL                                              NaN   \n",
       "COLE_VALOR_PENSION                                                          4   \n",
       "ESTU_CARRDESEADA_TIPO                                                     NaN   \n",
       "ESTU_CARRDESEADA_NUCLEO                                                   NaN   \n",
       "ESTU_IES_COD_DESEADA                                                     1301   \n",
       "ESTU_IES_DESEADA_NOMBRE        UNIVERSIDAD DISTRITAL FRANCISCO JOSE DE CALDAS   \n",
       "ESTU_IES_COD_MPIO_DESEADA                                               11001   \n",
       "ESTU_IES_MPIO_DESEADA                                            BOGOTÃ D.C.   \n",
       "ESTU_IES_DEPT_DESEADA                                                 BOGOTÃ   \n",
       "ESTU_RAZONINSTITUTO                                                         3   \n",
       "ESTU_CARRDESEADA_COD                                                    11790   \n",
       "ESTU_CARRDESEADA_RAZON                                                      5   \n",
       "PUNT_BIOLOGIA                                                           43,63   \n",
       "PUNT_MATEMATICAS                                                        46,07   \n",
       "PUNT_FILOSOFIA                                                          41,62   \n",
       "PUNT_FISICA                                                              48,9   \n",
       "PUNT_HISTORIA                                                            35,8   \n",
       "PUNT_QUIMICA                                                            30,38   \n",
       "PUNT_LENGUAJE                                                           44,61   \n",
       "PUNT_GEOGRAFIA                                                          33,16   \n",
       "NOMBRE_IDIOMA                                                         INGLÃS   \n",
       "PUNT_IDIOMA                                                              43,4   \n",
       "DESEMP_IDIOMA                                                             NaN   \n",
       "NOMBRE_PROFUNDIZACION                          PROFUNDIZACIÃN EN MATEMÃTICA   \n",
       "PUNT_PROFUNDIZACION                                                       5,8   \n",
       "DESEMP_PROFUNDIZACION                                                      II   \n",
       "NOMBRE_INTERDISCIPLINAR                                        MEDIO AMBIENTE   \n",
       "PUNT_INTERDISCIPLINAR                                                   48,85   \n",
       "ESTU_PUESTO                                                               745   \n",
       "\n",
       "                                                             2  \n",
       "ESTU_CONSECUTIVO                              SB11200520000003  \n",
       "ESTU_PAIS_RESIDE                                            CO  \n",
       "ESTU_GENERO                                                  F  \n",
       "ESTU_NACIMIENTO_DIA                                         15  \n",
       "ESTU_NACIMIENTO_MES                                          7  \n",
       "ESTU_NACIMIENTO_ANNO                                      1989  \n",
       "ESTU_EDAD                                                   15  \n",
       "ESTU_LIMITA_BAJAVISION                                     NaN  \n",
       "ESTU_LIMITA_SORDOCEGUERA                                   NaN  \n",
       "ESTU_LIMITA_COGNITIVA                                      NaN  \n",
       "ESTU_LIMITA_INVIDENTE                                      NaN  \n",
       "ESTU_LIMITA_MOTRIZ                                         NaN  \n",
       "ESTU_LIMITA_SORDOINTERPRETE                                NaN  \n",
       "ESTU_LIMITA_SORDONOINTERPRETE                              NaN  \n",
       "ESTU_COD_RESIDE_MCPIO                                    11001  \n",
       "ESTU_RESIDE_MCPIO                                 BOGOTÃ D.C.  \n",
       "ESTU_RESIDE_DEPTO                                      BOGOTÃ  \n",
       "ESTU_ZONA_RESIDE                                             8  \n",
       "ESTU_COD_MCPIO_PRESENTACION                              11001  \n",
       "ESTU_MCPIO_PRESENTACION                           BOGOTÃ D.C.  \n",
       "ESTU_DEPTO_PRESENTACION                                BOGOTÃ  \n",
       "ESTU_EXAM_NOMBREEXAMEN           EXAMEN DE ESTADO NUEVO (2005)  \n",
       "IND_ESTUDIO_BACHILLERATO                                   NaN  \n",
       "IND_ANNO_TERMINO_BACHILLERATO                              NaN  \n",
       "IND_COD_ICFES_TERMINO                                      NaN  \n",
       "COLE_COD_ICFES                                           52241  \n",
       "COLE_COD_DANE_INSTITUCION                         311001038309  \n",
       "COLE_NOMBRE_SEDE                         COLEGIO NUEVO ESTRADA  \n",
       "COLE_ZONA_UBICACION                                          8  \n",
       "COLE_AREA_UBICACION                                          U  \n",
       "...                                                        ...  \n",
       "FAMI_COMPUTADOR                                            NaN  \n",
       "FAMI_INGRESO_FMILIAR_MENSUAL                               NaN  \n",
       "COLE_VALOR_PENSION                                           0  \n",
       "ESTU_CARRDESEADA_TIPO                                      NaN  \n",
       "ESTU_CARRDESEADA_NUCLEO                                    NaN  \n",
       "ESTU_IES_COD_DESEADA                                      1105  \n",
       "ESTU_IES_DESEADA_NOMBRE        UNIVERSIDAD PEDAGOGICA NACIONAL  \n",
       "ESTU_IES_COD_MPIO_DESEADA                                11001  \n",
       "ESTU_IES_MPIO_DESEADA                             BOGOTÃ D.C.  \n",
       "ESTU_IES_DEPT_DESEADA                                  BOGOTÃ  \n",
       "ESTU_RAZONINSTITUTO                                          2  \n",
       "ESTU_CARRDESEADA_COD                                     11493  \n",
       "ESTU_CARRDESEADA_RAZON                                       2  \n",
       "PUNT_BIOLOGIA                                             49,8  \n",
       "PUNT_MATEMATICAS                                         57,98  \n",
       "PUNT_FILOSOFIA                                           46,43  \n",
       "PUNT_FISICA                                              46,06  \n",
       "PUNT_HISTORIA                                            49,82  \n",
       "PUNT_QUIMICA                                             48,36  \n",
       "PUNT_LENGUAJE                                            56,52  \n",
       "PUNT_GEOGRAFIA                                           38,74  \n",
       "NOMBRE_IDIOMA                                          INGLÃS  \n",
       "PUNT_IDIOMA                                              50,67  \n",
       "DESEMP_IDIOMA                                              NaN  \n",
       "NOMBRE_PROFUNDIZACION              PROFUNDIZACIÃN EN LENGUAJE  \n",
       "PUNT_PROFUNDIZACION                                        5,5  \n",
       "DESEMP_PROFUNDIZACION                                        I  \n",
       "NOMBRE_INTERDISCIPLINAR                   VIOLENCIA Y SOCIEDAD  \n",
       "PUNT_INTERDISCIPLINAR                                    50,02  \n",
       "ESTU_PUESTO                                                143  \n",
       "\n",
       "[82 rows x 3 columns]"
      ]
     },
     "execution_count": 13,
     "metadata": {},
     "output_type": "execute_result"
    }
   ],
   "source": [
    "data_2005_2.head(3).T"
   ]
  },
  {
   "cell_type": "markdown",
   "metadata": {},
   "source": [
    "The first is delete the columns that won't contribute to the work"
   ]
  },
  {
   "cell_type": "code",
   "execution_count": 16,
   "metadata": {
    "collapsed": false
   },
   "outputs": [],
   "source": [
    "data_2005_2 = data_2005_2.drop(['ESTU_CONSECUTIVO', 'ESTU_RESIDE_MCPIO', 'ESTU_MCPIO_PRESENTACION', 'COLE_NOMBRE_SEDE',\n",
    "                                'ESTU_IES_DESEADA_NOMBRE', 'ESTU_IES_MPIO_DESEADA'], axis=1)"
   ]
  },
  {
   "cell_type": "code",
   "execution_count": null,
   "metadata": {
    "collapsed": true
   },
   "outputs": [],
   "source": [
    "c = 'ESTU_PAIS_RESIDE'\n",
    "print(data_2005_2[c].value_counts().sort_index().index)\n",
    "print(data_2005_2[c].value_counts().sort_index())\n",
    "print(missing_data(data_2005_2[c]))"
   ]
  },
  {
   "cell_type": "code",
   "execution_count": null,
   "metadata": {
    "collapsed": true
   },
   "outputs": [],
   "source": [
    "c = 'ESTU_GENERO'\n",
    "print(data_2005_2[c].value_counts().sort_index().index)\n",
    "print(data_2005_2[c].value_counts().sort_index())\n",
    "print(missing_data(data_2005_2[c]))"
   ]
  },
  {
   "cell_type": "code",
   "execution_count": null,
   "metadata": {
    "collapsed": true
   },
   "outputs": [],
   "source": [
    "c = 'ESTU_NACIMIENTO_DIA'\n",
    "print(data_2005_2[c].value_counts().sort_index().index)\n",
    "print(data_2005_2[c].value_counts().sort_index())\n",
    "print(missing_data(data_2005_2[c]))"
   ]
  },
  {
   "cell_type": "code",
   "execution_count": null,
   "metadata": {
    "collapsed": true
   },
   "outputs": [],
   "source": [
    "c = 'ESTU_NACIMIENTO_MES'\n",
    "print(data_2005_2[c].value_counts().sort_index().index)\n",
    "print(data_2005_2[c].value_counts().sort_index())\n",
    "print(missing_data(data_2005_2[c]))"
   ]
  },
  {
   "cell_type": "code",
   "execution_count": null,
   "metadata": {
    "collapsed": true
   },
   "outputs": [],
   "source": [
    "c = 'ESTU_NACIMIENTO_ANNO'\n",
    "print(data_2005_2[c].value_counts().sort_index().index)\n",
    "print(data_2005_2[c].value_counts().sort_index())\n",
    "print(missing_data(data_2005_2[c]))"
   ]
  },
  {
   "cell_type": "code",
   "execution_count": null,
   "metadata": {
    "collapsed": true
   },
   "outputs": [],
   "source": [
    "c = 'ESTU_EDAD'\n",
    "print(data_2005_2[c].value_counts().sort_index().index)\n",
    "print(data_2005_2[c].value_counts().sort_index())\n",
    "print(missing_data(data_2005_2[c]))"
   ]
  },
  {
   "cell_type": "code",
   "execution_count": null,
   "metadata": {
    "collapsed": true
   },
   "outputs": [],
   "source": [
    "c = 'ESTU_LIMITA_BAJAVISION'\n",
    "print(data_2005_2[c].value_counts().sort_index().index)\n",
    "print(data_2005_2[c].value_counts().sort_index())\n",
    "print(missing_data(data_2005_2[c]))"
   ]
  },
  {
   "cell_type": "code",
   "execution_count": null,
   "metadata": {
    "collapsed": true
   },
   "outputs": [],
   "source": [
    "c = 'ESTU_LIMITA_SORDOCEGUERA'\n",
    "print(data_2005_2[c].value_counts().sort_index().index)\n",
    "print(data_2005_2[c].value_counts().sort_index())\n",
    "print(missing_data(data_2005_2[c]))"
   ]
  },
  {
   "cell_type": "code",
   "execution_count": null,
   "metadata": {
    "collapsed": true
   },
   "outputs": [],
   "source": [
    "c = 'ESTU_LIMITA_COGNITIVA'\n",
    "print(data_2005_2[c].value_counts().sort_index().index)\n",
    "print(data_2005_2[c].value_counts().sort_index())\n",
    "print(missing_data(data_2005_2[c]))"
   ]
  },
  {
   "cell_type": "code",
   "execution_count": null,
   "metadata": {
    "collapsed": true
   },
   "outputs": [],
   "source": [
    "c = 'ESTU_LIMITA_INVIDENTE'\n",
    "print(data_2005_2[c].value_counts().sort_index().index)\n",
    "print(data_2005_2[c].value_counts().sort_index())\n",
    "print(missing_data(data_2005_2[c]))"
   ]
  },
  {
   "cell_type": "code",
   "execution_count": null,
   "metadata": {
    "collapsed": true
   },
   "outputs": [],
   "source": [
    "c = 'ESTU_LIMITA_MOTRIZ'\n",
    "print(data_2005_2[c].value_counts().sort_index().index)\n",
    "print(data_2005_2[c].value_counts().sort_index())\n",
    "print(missing_data(data_2005_2[c]))"
   ]
  },
  {
   "cell_type": "code",
   "execution_count": null,
   "metadata": {
    "collapsed": true
   },
   "outputs": [],
   "source": [
    "c = 'ESTU_LIMITA_SORDOINTERPRETE'\n",
    "print(data_2005_2[c].value_counts().sort_index().index)\n",
    "print(data_2005_2[c].value_counts().sort_index())\n",
    "print(missing_data(data_2005_2[c]))"
   ]
  },
  {
   "cell_type": "code",
   "execution_count": null,
   "metadata": {
    "collapsed": true
   },
   "outputs": [],
   "source": [
    "c = 'ESTU_LIMITA_SORDONOINTERPRETE'\n",
    "print(data_2005_2[c].value_counts().sort_index().index)\n",
    "print(data_2005_2[c].value_counts().sort_index())\n",
    "print(missing_data(data_2005_2[c]))"
   ]
  },
  {
   "cell_type": "code",
   "execution_count": null,
   "metadata": {
    "collapsed": true
   },
   "outputs": [],
   "source": [
    "c = 'ESTU_COD_RESIDE_MCPIO'\n",
    "print(data_2005_2[c].value_counts().sort_index().index)\n",
    "print(data_2005_2[c].value_counts().sort_index())\n",
    "print(missing_data(data_2005_2[c]))"
   ]
  },
  {
   "cell_type": "code",
   "execution_count": null,
   "metadata": {
    "collapsed": true
   },
   "outputs": [],
   "source": [
    "c = 'ESTU_RESIDE_DEPTO'\n",
    "print(data_2005_2[c].value_counts().sort_index().index)\n",
    "print(data_2005_2[c].value_counts().sort_index())\n",
    "print(missing_data(data_2005_2[c]))"
   ]
  },
  {
   "cell_type": "code",
   "execution_count": null,
   "metadata": {
    "collapsed": true
   },
   "outputs": [],
   "source": [
    "c = 'ESTU_ZONA_RESIDE'\n",
    "print(data_2005_2[c].value_counts().sort_index().index)\n",
    "print(data_2005_2[c].value_counts().sort_index())\n",
    "print(missing_data(data_2005_2[c]))"
   ]
  },
  {
   "cell_type": "code",
   "execution_count": null,
   "metadata": {
    "collapsed": true
   },
   "outputs": [],
   "source": [
    "c = 'ESTU_COD_MCPIO_PRESENTACION'\n",
    "print(data_2005_2[c].value_counts().sort_index().index)\n",
    "print(data_2005_2[c].value_counts().sort_index())\n",
    "print(missing_data(data_2005_2[c]))"
   ]
  },
  {
   "cell_type": "code",
   "execution_count": null,
   "metadata": {
    "collapsed": true
   },
   "outputs": [],
   "source": [
    "c = 'ESTU_DEPTO_PRESENTACION'\n",
    "print(data_2005_2[c].value_counts().sort_index().index)\n",
    "print(data_2005_2[c].value_counts().sort_index())\n",
    "print(missing_data(data_2005_2[c]))"
   ]
  },
  {
   "cell_type": "code",
   "execution_count": null,
   "metadata": {
    "collapsed": true
   },
   "outputs": [],
   "source": [
    "c = 'ESTU_EXAM_NOMBREEXAMEN'\n",
    "print(data_2005_2[c].value_counts().sort_index().index)\n",
    "print(data_2005_2[c].value_counts().sort_index())\n",
    "print(missing_data(data_2005_2[c]))"
   ]
  },
  {
   "cell_type": "code",
   "execution_count": null,
   "metadata": {
    "collapsed": true
   },
   "outputs": [],
   "source": [
    "c = 'IND_ESTUDIO_BACHILLERATO'\n",
    "print(data_2005_2[c].value_counts().sort_index().index)\n",
    "print(data_2005_2[c].value_counts().sort_index())\n",
    "print(missing_data(data_2005_2[c]))"
   ]
  },
  {
   "cell_type": "code",
   "execution_count": null,
   "metadata": {
    "collapsed": true
   },
   "outputs": [],
   "source": [
    "c = 'IND_ANNO_TERMINO_BACHILLERATO'\n",
    "print(data_2005_2[c].value_counts().sort_index().index)\n",
    "print(data_2005_2[c].value_counts().sort_index())\n",
    "print(missing_data(data_2005_2[c]))"
   ]
  },
  {
   "cell_type": "code",
   "execution_count": null,
   "metadata": {
    "collapsed": true
   },
   "outputs": [],
   "source": [
    "c = 'IND_COD_ICFES_TERMINO'\n",
    "print(data_2005_2[c].value_counts().sort_index().index)\n",
    "print(data_2005_2[c].value_counts().sort_index())\n",
    "print(missing_data(data_2005_2[c]))"
   ]
  },
  {
   "cell_type": "code",
   "execution_count": null,
   "metadata": {
    "collapsed": true
   },
   "outputs": [],
   "source": [
    "c = 'COLE_COD_ICFES'\n",
    "print(data_2005_2[c].value_counts().sort_index().index)\n",
    "print(data_2005_2[c].value_counts().sort_index())\n",
    "print(missing_data(data_2005_2[c]))"
   ]
  },
  {
   "cell_type": "code",
   "execution_count": null,
   "metadata": {
    "collapsed": true
   },
   "outputs": [],
   "source": [
    "c = 'COLE_COD_DANE_INSTITUCION'\n",
    "print(data_2005_2[c].value_counts().sort_index().index)\n",
    "print(data_2005_2[c].value_counts().sort_index())\n",
    "print(missing_data(data_2005_2[c]))"
   ]
  },
  {
   "cell_type": "code",
   "execution_count": null,
   "metadata": {
    "collapsed": true
   },
   "outputs": [],
   "source": [
    "c = 'COLE_ZONA_UBICACION'\n",
    "print(data_2005_2[c].value_counts().sort_index().index)\n",
    "print(data_2005_2[c].value_counts().sort_index())\n",
    "print(missing_data(data_2005_2[c]))"
   ]
  },
  {
   "cell_type": "code",
   "execution_count": null,
   "metadata": {
    "collapsed": true
   },
   "outputs": [],
   "source": [
    "c = 'COLE_AREA_UBICACION'\n",
    "print(data_2005_2[c].value_counts().sort_index().index)\n",
    "print(data_2005_2[c].value_counts().sort_index())\n",
    "print(missing_data(data_2005_2[c]))"
   ]
  },
  {
   "cell_type": "code",
   "execution_count": null,
   "metadata": {
    "collapsed": true
   },
   "outputs": [],
   "source": [
    "c = 'COLE_CALENDARIO'\n",
    "print(data_2005_2[c].value_counts().sort_index().index)\n",
    "print(data_2005_2[c].value_counts().sort_index())\n",
    "print(missing_data(data_2005_2[c]))"
   ]
  },
  {
   "cell_type": "code",
   "execution_count": null,
   "metadata": {
    "collapsed": true
   },
   "outputs": [],
   "source": [
    "c = 'COLE_GENERO'\n",
    "print(data_2005_2[c].value_counts().sort_index().index)\n",
    "print(data_2005_2[c].value_counts().sort_index())\n",
    "print(missing_data(data_2005_2[c]))"
   ]
  },
  {
   "cell_type": "code",
   "execution_count": null,
   "metadata": {
    "collapsed": true
   },
   "outputs": [],
   "source": [
    "c = 'COLE_NATURALEZA'\n",
    "print(data_2005_2[c].value_counts().sort_index().index)\n",
    "print(data_2005_2[c].value_counts().sort_index())\n",
    "print(missing_data(data_2005_2[c]))"
   ]
  },
  {
   "cell_type": "code",
   "execution_count": null,
   "metadata": {
    "collapsed": true
   },
   "outputs": [],
   "source": [
    "c = 'COLE_BILINGUE'\n",
    "print(data_2005_2[c].value_counts().sort_index().index)\n",
    "print(data_2005_2[c].value_counts().sort_index())\n",
    "print(missing_data(data_2005_2[c]))"
   ]
  },
  {
   "cell_type": "code",
   "execution_count": null,
   "metadata": {
    "collapsed": true
   },
   "outputs": [],
   "source": [
    "c = 'COLE_JORNADA'\n",
    "print(data_2005_2[c].value_counts().sort_index().index)\n",
    "print(data_2005_2[c].value_counts().sort_index())\n",
    "print(missing_data(data_2005_2[c]))"
   ]
  },
  {
   "cell_type": "code",
   "execution_count": null,
   "metadata": {
    "collapsed": true
   },
   "outputs": [],
   "source": [
    "c = 'COLE_CARACTER'\n",
    "print(data_2005_2[c].value_counts().sort_index().index)\n",
    "print(data_2005_2[c].value_counts().sort_index())\n",
    "print(missing_data(data_2005_2[c]))"
   ]
  },
  {
   "cell_type": "code",
   "execution_count": null,
   "metadata": {
    "collapsed": true
   },
   "outputs": [],
   "source": [
    "c = 'ESTU_ETNIA'\n",
    "print(data_2005_2[c].value_counts().sort_index().index)\n",
    "print(data_2005_2[c].value_counts().sort_index())\n",
    "print(missing_data(data_2005_2[c]))"
   ]
  },
  {
   "cell_type": "code",
   "execution_count": null,
   "metadata": {
    "collapsed": true
   },
   "outputs": [],
   "source": [
    "c = 'FAMI_LEE_ESCRIBE_PADRE'\n",
    "print(data_2005_2[c].value_counts().sort_index().index)\n",
    "print(data_2005_2[c].value_counts().sort_index())\n",
    "print(missing_data(data_2005_2[c]))"
   ]
  },
  {
   "cell_type": "code",
   "execution_count": null,
   "metadata": {
    "collapsed": true
   },
   "outputs": [],
   "source": [
    "c = 'FAMI_LEE_ESCRIBE_MADRE'\n",
    "print(data_2005_2[c].value_counts().sort_index().index)\n",
    "print(data_2005_2[c].value_counts().sort_index())\n",
    "print(missing_data(data_2005_2[c]))"
   ]
  },
  {
   "cell_type": "code",
   "execution_count": null,
   "metadata": {
    "collapsed": true
   },
   "outputs": [],
   "source": [
    "c = 'FAMI_EDUCA_PADRE'\n",
    "print(data_2005_2[c].value_counts().sort_index().index)\n",
    "print(data_2005_2[c].value_counts().sort_index())\n",
    "print(missing_data(data_2005_2[c]))"
   ]
  },
  {
   "cell_type": "code",
   "execution_count": null,
   "metadata": {
    "collapsed": true
   },
   "outputs": [],
   "source": [
    "c = 'FAMI_EDUCA_MADRE'\n",
    "print(data_2005_2[c].value_counts().sort_index().index)\n",
    "print(data_2005_2[c].value_counts().sort_index())\n",
    "print(missing_data(data_2005_2[c]))"
   ]
  },
  {
   "cell_type": "code",
   "execution_count": null,
   "metadata": {
    "collapsed": true
   },
   "outputs": [],
   "source": [
    "c = 'FAMI_OCUPA_PADRE'\n",
    "print(data_2005_2[c].value_counts().sort_index().index)\n",
    "print(data_2005_2[c].value_counts().sort_index())\n",
    "print(missing_data(data_2005_2[c]))"
   ]
  },
  {
   "cell_type": "code",
   "execution_count": null,
   "metadata": {
    "collapsed": true
   },
   "outputs": [],
   "source": [
    "c = 'FAMI_OCUPA_MADRE'\n",
    "print(data_2005_2[c].value_counts().sort_index().index)\n",
    "print(data_2005_2[c].value_counts().sort_index())\n",
    "print(missing_data(data_2005_2[c]))"
   ]
  },
  {
   "cell_type": "code",
   "execution_count": null,
   "metadata": {
    "collapsed": true
   },
   "outputs": [],
   "source": [
    "c = 'FAMI_NUM_HERMANOS'\n",
    "print(data_2005_2[c].value_counts().sort_index().index)\n",
    "print(data_2005_2[c].value_counts().sort_index())\n",
    "print(missing_data(data_2005_2[c]))"
   ]
  },
  {
   "cell_type": "code",
   "execution_count": null,
   "metadata": {
    "collapsed": true
   },
   "outputs": [],
   "source": [
    "c = 'FAMI_EDUCA_HERMANO'\n",
    "print(data_2005_2[c].value_counts().sort_index().index)\n",
    "print(data_2005_2[c].value_counts().sort_index())\n",
    "print(missing_data(data_2005_2[c]))"
   ]
  },
  {
   "cell_type": "code",
   "execution_count": null,
   "metadata": {
    "collapsed": true
   },
   "outputs": [],
   "source": [
    "c = 'FAMI_HERMANOS_ESTUDIAN'\n",
    "print(data_2005_2[c].value_counts().sort_index().index)\n",
    "print(data_2005_2[c].value_counts().sort_index())\n",
    "print(missing_data(data_2005_2[c]))"
   ]
  },
  {
   "cell_type": "code",
   "execution_count": null,
   "metadata": {
    "collapsed": true
   },
   "outputs": [],
   "source": [
    "c = 'FAMI_ESTRATO_VIVIENDA'\n",
    "print(data_2005_2[c].value_counts().sort_index().index)\n",
    "print(data_2005_2[c].value_counts().sort_index())\n",
    "print(missing_data(data_2005_2[c]))"
   ]
  },
  {
   "cell_type": "code",
   "execution_count": null,
   "metadata": {
    "collapsed": true
   },
   "outputs": [],
   "source": [
    "c = 'FAMI_NIVEL_SISBEN'\n",
    "print(data_2005_2[c].value_counts().sort_index().index)\n",
    "print(data_2005_2[c].value_counts().sort_index())\n",
    "print(missing_data(data_2005_2[c]))"
   ]
  },
  {
   "cell_type": "code",
   "execution_count": null,
   "metadata": {
    "collapsed": true
   },
   "outputs": [],
   "source": [
    "c = 'FAMI_PERSONAS_HOGAR'\n",
    "print(data_2005_2[c].value_counts().sort_index().index)\n",
    "print(data_2005_2[c].value_counts().sort_index())\n",
    "print(missing_data(data_2005_2[c]))"
   ]
  },
  {
   "cell_type": "code",
   "execution_count": null,
   "metadata": {
    "collapsed": true
   },
   "outputs": [],
   "source": [
    "c = 'FAMI_PISOSHOGAR'\n",
    "print(data_2005_2[c].value_counts().sort_index().index)\n",
    "print(data_2005_2[c].value_counts().sort_index())\n",
    "print(missing_data(data_2005_2[c]))"
   ]
  },
  {
   "cell_type": "code",
   "execution_count": null,
   "metadata": {
    "collapsed": true
   },
   "outputs": [],
   "source": [
    "c = 'FAMI_CUARTOS_HOGAR'\n",
    "print(data_2005_2[c].value_counts().sort_index().index)\n",
    "print(data_2005_2[c].value_counts().sort_index())\n",
    "print(missing_data(data_2005_2[c]))"
   ]
  },
  {
   "cell_type": "code",
   "execution_count": null,
   "metadata": {
    "collapsed": true
   },
   "outputs": [],
   "source": [
    "c = 'FAMI_DORMITORIOS_HOGAR'\n",
    "print(data_2005_2[c].value_counts().sort_index().index)\n",
    "print(data_2005_2[c].value_counts().sort_index())\n",
    "print(missing_data(data_2005_2[c]))"
   ]
  },
  {
   "cell_type": "code",
   "execution_count": null,
   "metadata": {
    "collapsed": true
   },
   "outputs": [],
   "source": [
    "c = 'FAMI_COMPUTADOR'\n",
    "print(data_2005_2[c].value_counts().sort_index().index)\n",
    "print(data_2005_2[c].value_counts().sort_index())\n",
    "print(missing_data(data_2005_2[c]))"
   ]
  },
  {
   "cell_type": "code",
   "execution_count": null,
   "metadata": {
    "collapsed": true
   },
   "outputs": [],
   "source": [
    "c = 'FAMI_INGRESO_FMILIAR_MENSUAL'\n",
    "print(data_2005_2[c].value_counts().sort_index().index)\n",
    "print(data_2005_2[c].value_counts().sort_index())\n",
    "print(missing_data(data_2005_2[c]))"
   ]
  },
  {
   "cell_type": "code",
   "execution_count": null,
   "metadata": {
    "collapsed": true
   },
   "outputs": [],
   "source": [
    "c = 'COLE_VALOR_PENSION'\n",
    "print(data_2005_2[c].value_counts().sort_index().index)\n",
    "print(data_2005_2[c].value_counts().sort_index())\n",
    "print(missing_data(data_2005_2[c]))"
   ]
  },
  {
   "cell_type": "code",
   "execution_count": null,
   "metadata": {
    "collapsed": true
   },
   "outputs": [],
   "source": [
    "c = 'ESTU_CARRDESEADA_TIPO'\n",
    "print(data_2005_2[c].value_counts().sort_index().index)\n",
    "print(data_2005_2[c].value_counts().sort_index())\n",
    "print(missing_data(data_2005_2[c]))"
   ]
  },
  {
   "cell_type": "code",
   "execution_count": null,
   "metadata": {
    "collapsed": true
   },
   "outputs": [],
   "source": [
    "c = 'ESTU_CARRDESEADA_NUCLEO'\n",
    "print(data_2005_2[c].value_counts().sort_index().index)\n",
    "print(data_2005_2[c].value_counts().sort_index())\n",
    "print(missing_data(data_2005_2[c]))"
   ]
  },
  {
   "cell_type": "code",
   "execution_count": null,
   "metadata": {
    "collapsed": true
   },
   "outputs": [],
   "source": [
    "c = 'ESTU_IES_COD_DESEADA'\n",
    "print(data_2005_2[c].value_counts().sort_index().index)\n",
    "print(data_2005_2[c].value_counts().sort_index())\n",
    "print(missing_data(data_2005_2[c]))"
   ]
  },
  {
   "cell_type": "code",
   "execution_count": null,
   "metadata": {
    "collapsed": true
   },
   "outputs": [],
   "source": [
    "c = 'ESTU_IES_COD_MPIO_DESEADA'\n",
    "print(data_2005_2[c].value_counts().sort_index().index)\n",
    "print(data_2005_2[c].value_counts().sort_index())\n",
    "print(missing_data(data_2005_2[c]))"
   ]
  },
  {
   "cell_type": "code",
   "execution_count": null,
   "metadata": {
    "collapsed": true
   },
   "outputs": [],
   "source": [
    "c = 'ESTU_IES_DEPT_DESEADA'\n",
    "print(data_2005_2[c].value_counts().sort_index().index)\n",
    "print(data_2005_2[c].value_counts().sort_index())\n",
    "print(missing_data(data_2005_2[c]))"
   ]
  },
  {
   "cell_type": "code",
   "execution_count": null,
   "metadata": {
    "collapsed": true
   },
   "outputs": [],
   "source": [
    "c = 'ESTU_RAZONINSTITUTO'\n",
    "print(data_2005_2[c].value_counts().sort_index().index)\n",
    "print(data_2005_2[c].value_counts().sort_index())\n",
    "print(missing_data(data_2005_2[c]))"
   ]
  },
  {
   "cell_type": "code",
   "execution_count": null,
   "metadata": {
    "collapsed": true
   },
   "outputs": [],
   "source": [
    "c = 'ESTU_CARRDESEADA_COD'\n",
    "print(data_2005_2[c].value_counts().sort_index().index)\n",
    "print(data_2005_2[c].value_counts().sort_index())\n",
    "print(missing_data(data_2005_2[c]))"
   ]
  },
  {
   "cell_type": "code",
   "execution_count": null,
   "metadata": {
    "collapsed": true
   },
   "outputs": [],
   "source": [
    "c = 'ESTU_CARRDESEADA_RAZON'\n",
    "print(data_2005_2[c].value_counts().sort_index().index)\n",
    "print(data_2005_2[c].value_counts().sort_index())\n",
    "print(missing_data(data_2005_2[c]))"
   ]
  },
  {
   "cell_type": "markdown",
   "metadata": {},
   "source": [
    "### TARGETS"
   ]
  },
  {
   "cell_type": "code",
   "execution_count": null,
   "metadata": {
    "collapsed": true
   },
   "outputs": [],
   "source": [
    "c = 'PUNT_BIOLOGIA'\n",
    "print(data_2005_2[c].value_counts().sort_index().index)\n",
    "print(data_2005_2[c].value_counts().sort_index())\n",
    "print(missing_data(data_2005_2[c]))"
   ]
  },
  {
   "cell_type": "code",
   "execution_count": null,
   "metadata": {
    "collapsed": true
   },
   "outputs": [],
   "source": [
    "c = 'PUNT_MATEMATICAS'\n",
    "print(data_2005_2[c].value_counts().sort_index().index)\n",
    "print(data_2005_2[c].value_counts().sort_index())\n",
    "print(missing_data(data_2005_2[c]))"
   ]
  },
  {
   "cell_type": "code",
   "execution_count": null,
   "metadata": {
    "collapsed": true
   },
   "outputs": [],
   "source": [
    "c = 'PUNT_FILOSOFIA'\n",
    "print(data_2005_2[c].value_counts().sort_index().index)\n",
    "print(data_2005_2[c].value_counts().sort_index())\n",
    "print(missing_data(data_2005_2[c]))"
   ]
  },
  {
   "cell_type": "code",
   "execution_count": null,
   "metadata": {
    "collapsed": true
   },
   "outputs": [],
   "source": [
    "c = 'PUNT_FISICA'\n",
    "print(data_2005_2[c].value_counts().sort_index().index)\n",
    "print(data_2005_2[c].value_counts().sort_index())\n",
    "print(missing_data(data_2005_2[c]))"
   ]
  },
  {
   "cell_type": "code",
   "execution_count": null,
   "metadata": {
    "collapsed": true
   },
   "outputs": [],
   "source": [
    "c = 'PUNT_HISTORIA'\n",
    "print(data_2005_2[c].value_counts().sort_index().index)\n",
    "print(data_2005_2[c].value_counts().sort_index())\n",
    "print(missing_data(data_2005_2[c]))"
   ]
  },
  {
   "cell_type": "code",
   "execution_count": null,
   "metadata": {
    "collapsed": true
   },
   "outputs": [],
   "source": [
    "c = 'PUNT_QUIMICA'\n",
    "print(data_2005_2[c].value_counts().sort_index().index)\n",
    "print(data_2005_2[c].value_counts().sort_index())\n",
    "print(missing_data(data_2005_2[c]))"
   ]
  },
  {
   "cell_type": "code",
   "execution_count": null,
   "metadata": {
    "collapsed": true
   },
   "outputs": [],
   "source": [
    "c = 'PUNT_LENGUAJE'\n",
    "print(data_2005_2[c].value_counts().sort_index().index)\n",
    "print(data_2005_2[c].value_counts().sort_index())\n",
    "print(missing_data(data_2005_2[c]))"
   ]
  },
  {
   "cell_type": "code",
   "execution_count": null,
   "metadata": {
    "collapsed": true
   },
   "outputs": [],
   "source": [
    "c = 'PUNT_GEOGRAFIA'\n",
    "print(data_2005_2[c].value_counts().sort_index().index)\n",
    "print(data_2005_2[c].value_counts().sort_index())\n",
    "print(missing_data(data_2005_2[c]))"
   ]
  },
  {
   "cell_type": "code",
   "execution_count": null,
   "metadata": {
    "collapsed": true
   },
   "outputs": [],
   "source": [
    "c = 'NOMBRE_IDIOMA'\n",
    "print(data_2005_2[c].value_counts().sort_index().index)\n",
    "print(data_2005_2[c].value_counts().sort_index())\n",
    "print(missing_data(data_2005_2[c]))"
   ]
  },
  {
   "cell_type": "code",
   "execution_count": null,
   "metadata": {
    "collapsed": true
   },
   "outputs": [],
   "source": [
    "c = 'PUNT_IDIOMA'\n",
    "print(data_2005_2[c].value_counts().sort_index().index)\n",
    "print(data_2005_2[c].value_counts().sort_index())\n",
    "print(missing_data(data_2005_2[c]))"
   ]
  },
  {
   "cell_type": "code",
   "execution_count": null,
   "metadata": {
    "collapsed": true
   },
   "outputs": [],
   "source": [
    "c = 'DESEMP_IDIOMA'\n",
    "print(data_2005_2[c].value_counts().sort_index().index)\n",
    "print(data_2005_2[c].value_counts().sort_index())\n",
    "print(missing_data(data_2005_2[c]))"
   ]
  },
  {
   "cell_type": "code",
   "execution_count": null,
   "metadata": {
    "collapsed": true
   },
   "outputs": [],
   "source": [
    "c = 'NOMBRE_PROFUNDIZACION'\n",
    "print(data_2005_2[c].value_counts().sort_index().index)\n",
    "print(data_2005_2[c].value_counts().sort_index())\n",
    "print(missing_data(data_2005_2[c]))"
   ]
  },
  {
   "cell_type": "code",
   "execution_count": null,
   "metadata": {
    "collapsed": true
   },
   "outputs": [],
   "source": [
    "c = 'PUNT_PROFUNDIZACION'\n",
    "print(data_2005_2[c].value_counts().sort_index().index)\n",
    "print(data_2005_2[c].value_counts().sort_index())\n",
    "print(missing_data(data_2005_2[c]))"
   ]
  },
  {
   "cell_type": "code",
   "execution_count": null,
   "metadata": {
    "collapsed": true
   },
   "outputs": [],
   "source": [
    "c = 'DESEMP_PROFUNDIZACION'\n",
    "print(data_2005_2[c].value_counts().sort_index().index)\n",
    "print(data_2005_2[c].value_counts().sort_index())\n",
    "print(missing_data(data_2005_2[c]))"
   ]
  },
  {
   "cell_type": "code",
   "execution_count": null,
   "metadata": {
    "collapsed": true
   },
   "outputs": [],
   "source": [
    "c = 'NOMBRE_INTERDISCIPLINAR'\n",
    "print(data_2005_2[c].value_counts().sort_index().index)\n",
    "print(data_2005_2[c].value_counts().sort_index())\n",
    "print(missing_data(data_2005_2[c]))"
   ]
  },
  {
   "cell_type": "code",
   "execution_count": null,
   "metadata": {
    "collapsed": true
   },
   "outputs": [],
   "source": [
    "c = 'PUNT_INTERDISCIPLINAR'\n",
    "print(data_2005_2[c].value_counts().sort_index().index)\n",
    "print(data_2005_2[c].value_counts().sort_index())\n",
    "print(missing_data(data_2005_2[c]))"
   ]
  },
  {
   "cell_type": "code",
   "execution_count": null,
   "metadata": {
    "collapsed": true
   },
   "outputs": [],
   "source": [
    "c = 'ESTU_PUESTO'\n",
    "print(data_2005_2[c].value_counts().sort_index().index)\n",
    "print(data_2005_2[c].value_counts().sort_index())\n",
    "print(missing_data(data_2005_2[c]))"
   ]
  }
 ],
 "metadata": {
  "kernelspec": {
   "display_name": "Python 3 + Anaconda",
   "language": "python",
   "name": "pyconda3"
  },
  "language_info": {
   "codemirror_mode": {
    "name": "ipython",
    "version": 3
   },
   "file_extension": ".py",
   "mimetype": "text/x-python",
   "name": "python",
   "nbconvert_exporter": "python",
   "pygments_lexer": "ipython3",
   "version": "3.5.1"
  }
 },
 "nbformat": 4,
 "nbformat_minor": 0
}
