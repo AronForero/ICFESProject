{
 "cells": [
  {
   "cell_type": "code",
   "execution_count": 1,
   "metadata": {
    "collapsed": true
   },
   "outputs": [],
   "source": [
    "import pandas as pd\n",
    "import numpy as np\n",
    "%run -i ../tools/functions.py\n",
    "%run -i ../tools/label_encoder.py"
   ]
  },
  {
   "cell_type": "code",
   "execution_count": 2,
   "metadata": {
    "collapsed": true
   },
   "outputs": [],
   "source": [
    "data_2005 = pd.read_csv('../DatosFTPICFES/SABER11/SB11-BASES_DE_DATOS/SB11-20051-RGSTRO-CLFCCN-V1-0.txt', delimiter='|',\n",
    "                       encoding = \"iso-8859-1\")"
   ]
  },
  {
   "cell_type": "code",
   "execution_count": 3,
   "metadata": {
    "collapsed": false
   },
   "outputs": [
    {
     "data": {
      "text/plain": [
       "(72842, 83)"
      ]
     },
     "execution_count": 3,
     "metadata": {},
     "output_type": "execute_result"
    }
   ],
   "source": [
    "data_2005.shape"
   ]
  },
  {
   "cell_type": "code",
   "execution_count": 4,
   "metadata": {
    "collapsed": false,
    "scrolled": true
   },
   "outputs": [
    {
     "data": {
      "text/html": [
       "<div>\n",
       "<table border=\"1\" class=\"dataframe\">\n",
       "  <thead>\n",
       "    <tr style=\"text-align: right;\">\n",
       "      <th></th>\n",
       "      <th>0</th>\n",
       "      <th>1</th>\n",
       "      <th>2</th>\n",
       "    </tr>\n",
       "  </thead>\n",
       "  <tbody>\n",
       "    <tr>\n",
       "      <th>ESTU_CONSECUTIVO</th>\n",
       "      <td>SB11200510000001</td>\n",
       "      <td>SB11200510000002</td>\n",
       "      <td>SB11200510000003</td>\n",
       "    </tr>\n",
       "    <tr>\n",
       "      <th>PERIODO</th>\n",
       "      <td>20051</td>\n",
       "      <td>20051</td>\n",
       "      <td>20051</td>\n",
       "    </tr>\n",
       "    <tr>\n",
       "      <th>ESTU_TIPO_DOCUMENTO</th>\n",
       "      <td>T</td>\n",
       "      <td>T</td>\n",
       "      <td>T</td>\n",
       "    </tr>\n",
       "    <tr>\n",
       "      <th>ESTU_PAIS_RESIDE</th>\n",
       "      <td>CO</td>\n",
       "      <td>CO</td>\n",
       "      <td>CO</td>\n",
       "    </tr>\n",
       "    <tr>\n",
       "      <th>ESTU_GENERO</th>\n",
       "      <td>M</td>\n",
       "      <td>M</td>\n",
       "      <td>F</td>\n",
       "    </tr>\n",
       "    <tr>\n",
       "      <th>ESTU_NACIMIENTO_DIA</th>\n",
       "      <td>2</td>\n",
       "      <td>23</td>\n",
       "      <td>5</td>\n",
       "    </tr>\n",
       "    <tr>\n",
       "      <th>ESTU_NACIMIENTO_MES</th>\n",
       "      <td>5</td>\n",
       "      <td>7</td>\n",
       "      <td>11</td>\n",
       "    </tr>\n",
       "    <tr>\n",
       "      <th>ESTU_NACIMIENTO_ANNO</th>\n",
       "      <td>1989</td>\n",
       "      <td>1987</td>\n",
       "      <td>1987</td>\n",
       "    </tr>\n",
       "    <tr>\n",
       "      <th>ESTU_EDAD</th>\n",
       "      <td>15</td>\n",
       "      <td>17</td>\n",
       "      <td>17</td>\n",
       "    </tr>\n",
       "    <tr>\n",
       "      <th>ESTU_LIMITA_BAJAVISION</th>\n",
       "      <td>NaN</td>\n",
       "      <td>NaN</td>\n",
       "      <td>NaN</td>\n",
       "    </tr>\n",
       "    <tr>\n",
       "      <th>ESTU_LIMITA_SORDOCEGUERA</th>\n",
       "      <td>NaN</td>\n",
       "      <td>NaN</td>\n",
       "      <td>NaN</td>\n",
       "    </tr>\n",
       "    <tr>\n",
       "      <th>ESTU_LIMITA_COGNITIVA</th>\n",
       "      <td>NaN</td>\n",
       "      <td>NaN</td>\n",
       "      <td>NaN</td>\n",
       "    </tr>\n",
       "    <tr>\n",
       "      <th>ESTU_LIMITA_INVIDENTE</th>\n",
       "      <td>NaN</td>\n",
       "      <td>NaN</td>\n",
       "      <td>NaN</td>\n",
       "    </tr>\n",
       "    <tr>\n",
       "      <th>ESTU_LIMITA_MOTRIZ</th>\n",
       "      <td>NaN</td>\n",
       "      <td>NaN</td>\n",
       "      <td>NaN</td>\n",
       "    </tr>\n",
       "    <tr>\n",
       "      <th>ESTU_LIMITA_SORDOINTERPRETE</th>\n",
       "      <td>NaN</td>\n",
       "      <td>NaN</td>\n",
       "      <td>NaN</td>\n",
       "    </tr>\n",
       "    <tr>\n",
       "      <th>ESTU_LIMITA_SORDONOINTERPRETE</th>\n",
       "      <td>NaN</td>\n",
       "      <td>NaN</td>\n",
       "      <td>NaN</td>\n",
       "    </tr>\n",
       "    <tr>\n",
       "      <th>ESTU_COD_RESIDE_MCPIO</th>\n",
       "      <td>76400</td>\n",
       "      <td>52585</td>\n",
       "      <td>13001</td>\n",
       "    </tr>\n",
       "    <tr>\n",
       "      <th>ESTU_RESIDE_MCPIO</th>\n",
       "      <td>LA UNION</td>\n",
       "      <td>PUPIALES</td>\n",
       "      <td>CARTAGENA</td>\n",
       "    </tr>\n",
       "    <tr>\n",
       "      <th>ESTU_RESIDE_DEPTO</th>\n",
       "      <td>VALLE</td>\n",
       "      <td>NARIÃO</td>\n",
       "      <td>BOLÃVAR</td>\n",
       "    </tr>\n",
       "    <tr>\n",
       "      <th>ESTU_ZONA_RESIDE</th>\n",
       "      <td>10</td>\n",
       "      <td>10</td>\n",
       "      <td>1</td>\n",
       "    </tr>\n",
       "    <tr>\n",
       "      <th>ESTU_COD_MCPIO_PRESENTACION</th>\n",
       "      <td>76400</td>\n",
       "      <td>52585</td>\n",
       "      <td>13001</td>\n",
       "    </tr>\n",
       "    <tr>\n",
       "      <th>ESTU_MCPIO_PRESENTACION</th>\n",
       "      <td>LA UNION</td>\n",
       "      <td>PUPIALES</td>\n",
       "      <td>CARTAGENA</td>\n",
       "    </tr>\n",
       "    <tr>\n",
       "      <th>ESTU_DEPTO_PRESENTACION</th>\n",
       "      <td>VALLE</td>\n",
       "      <td>NARIÃO</td>\n",
       "      <td>BOLÃVAR</td>\n",
       "    </tr>\n",
       "    <tr>\n",
       "      <th>ESTU_EXAM_NOMBREEXAMEN</th>\n",
       "      <td>EXAMEN DE ESTADO NUEVO (2005)</td>\n",
       "      <td>EXAMEN DE ESTADO NUEVO (2005)</td>\n",
       "      <td>EXAMEN DE ESTADO NUEVO (2005)</td>\n",
       "    </tr>\n",
       "    <tr>\n",
       "      <th>IND_ESTUDIO_BACHILLERATO</th>\n",
       "      <td>NaN</td>\n",
       "      <td>NaN</td>\n",
       "      <td>NaN</td>\n",
       "    </tr>\n",
       "    <tr>\n",
       "      <th>IND_ANNO_TERMINO_BACHILLERATO</th>\n",
       "      <td>NaN</td>\n",
       "      <td>NaN</td>\n",
       "      <td>NaN</td>\n",
       "    </tr>\n",
       "    <tr>\n",
       "      <th>IND_TERMINO_BACHILLERATO</th>\n",
       "      <td>NaN</td>\n",
       "      <td>NaN</td>\n",
       "      <td>NaN</td>\n",
       "    </tr>\n",
       "    <tr>\n",
       "      <th>IND_COD_ICFES_TERMINO</th>\n",
       "      <td>NaN</td>\n",
       "      <td>NaN</td>\n",
       "      <td>NaN</td>\n",
       "    </tr>\n",
       "    <tr>\n",
       "      <th>COLE_COD_ICFES</th>\n",
       "      <td>26864</td>\n",
       "      <td>11783</td>\n",
       "      <td>27011</td>\n",
       "    </tr>\n",
       "    <tr>\n",
       "      <th>COLE_COD_DANE_INSTITUCION</th>\n",
       "      <td>176400000019</td>\n",
       "      <td>152585000161</td>\n",
       "      <td>313836000348</td>\n",
       "    </tr>\n",
       "    <tr>\n",
       "      <th>...</th>\n",
       "      <td>...</td>\n",
       "      <td>...</td>\n",
       "      <td>...</td>\n",
       "    </tr>\n",
       "    <tr>\n",
       "      <th>FAMI_COMPUTADOR</th>\n",
       "      <td>NaN</td>\n",
       "      <td>NaN</td>\n",
       "      <td>NaN</td>\n",
       "    </tr>\n",
       "    <tr>\n",
       "      <th>FAMI_INGRESO_FMILIAR_MENSUAL</th>\n",
       "      <td>NaN</td>\n",
       "      <td>NaN</td>\n",
       "      <td>NaN</td>\n",
       "    </tr>\n",
       "    <tr>\n",
       "      <th>COLE_VALOR_PENSION</th>\n",
       "      <td>1</td>\n",
       "      <td>1</td>\n",
       "      <td>7</td>\n",
       "    </tr>\n",
       "    <tr>\n",
       "      <th>ESTU_CARRDESEADA_TIPO</th>\n",
       "      <td>NaN</td>\n",
       "      <td>NaN</td>\n",
       "      <td>NaN</td>\n",
       "    </tr>\n",
       "    <tr>\n",
       "      <th>ESTU_CARRDESEADA_NUCLEO</th>\n",
       "      <td>NaN</td>\n",
       "      <td>NaN</td>\n",
       "      <td>NaN</td>\n",
       "    </tr>\n",
       "    <tr>\n",
       "      <th>ESTU_IES_COD_DESEADA</th>\n",
       "      <td>1101</td>\n",
       "      <td>2849</td>\n",
       "      <td>1205</td>\n",
       "    </tr>\n",
       "    <tr>\n",
       "      <th>ESTU_IES_DESEADA_NOMBRE</th>\n",
       "      <td>UNIVERSIDAD NACIONAL DE COLOMBIA</td>\n",
       "      <td>CORPORACION UNIVERSITARIA AUTONOMA DEL CAUCA</td>\n",
       "      <td>UNIVERSIDAD DE CARTAGENA</td>\n",
       "    </tr>\n",
       "    <tr>\n",
       "      <th>ESTU_IES_COD_MPIO_DESEADA</th>\n",
       "      <td>11001</td>\n",
       "      <td>19001</td>\n",
       "      <td>13001</td>\n",
       "    </tr>\n",
       "    <tr>\n",
       "      <th>ESTU_IES_MPIO_DESEADA</th>\n",
       "      <td>BOGOTÃ D.C.</td>\n",
       "      <td>POPAYAN</td>\n",
       "      <td>CARTAGENA</td>\n",
       "    </tr>\n",
       "    <tr>\n",
       "      <th>ESTU_IES_DEPT_DESEADA</th>\n",
       "      <td>BOGOTÃ</td>\n",
       "      <td>CAUCA</td>\n",
       "      <td>BOLÃVAR</td>\n",
       "    </tr>\n",
       "    <tr>\n",
       "      <th>ESTU_RAZONINSTITUTO</th>\n",
       "      <td>6</td>\n",
       "      <td>5</td>\n",
       "      <td>3</td>\n",
       "    </tr>\n",
       "    <tr>\n",
       "      <th>ESTU_CARRDESEADA_COD</th>\n",
       "      <td>1882</td>\n",
       "      <td>143</td>\n",
       "      <td>10998</td>\n",
       "    </tr>\n",
       "    <tr>\n",
       "      <th>ESTU_CARRDESEADA_RAZON</th>\n",
       "      <td>1</td>\n",
       "      <td>3</td>\n",
       "      <td>2</td>\n",
       "    </tr>\n",
       "    <tr>\n",
       "      <th>PUNT_BIOLOGIA</th>\n",
       "      <td>54,35</td>\n",
       "      <td>50,79</td>\n",
       "      <td>68,33</td>\n",
       "    </tr>\n",
       "    <tr>\n",
       "      <th>PUNT_MATEMATICAS</th>\n",
       "      <td>51,21</td>\n",
       "      <td>48,38</td>\n",
       "      <td>67,18</td>\n",
       "    </tr>\n",
       "    <tr>\n",
       "      <th>PUNT_FILOSOFIA</th>\n",
       "      <td>47,37</td>\n",
       "      <td>49,57</td>\n",
       "      <td>58,37</td>\n",
       "    </tr>\n",
       "    <tr>\n",
       "      <th>PUNT_FISICA</th>\n",
       "      <td>58,83</td>\n",
       "      <td>51,8</td>\n",
       "      <td>63,44</td>\n",
       "    </tr>\n",
       "    <tr>\n",
       "      <th>PUNT_HISTORIA</th>\n",
       "      <td>46,47</td>\n",
       "      <td>38,99</td>\n",
       "      <td>57,66</td>\n",
       "    </tr>\n",
       "    <tr>\n",
       "      <th>PUNT_QUIMICA</th>\n",
       "      <td>55,15</td>\n",
       "      <td>48,67</td>\n",
       "      <td>56,89</td>\n",
       "    </tr>\n",
       "    <tr>\n",
       "      <th>PUNT_LENGUAJE</th>\n",
       "      <td>50,26</td>\n",
       "      <td>45,91</td>\n",
       "      <td>66,73</td>\n",
       "    </tr>\n",
       "    <tr>\n",
       "      <th>PUNT_GEOGRAFIA</th>\n",
       "      <td>44,65</td>\n",
       "      <td>42,68</td>\n",
       "      <td>40,62</td>\n",
       "    </tr>\n",
       "    <tr>\n",
       "      <th>NOMBRE_IDIOMA</th>\n",
       "      <td>INGLÃS</td>\n",
       "      <td>INGLÃS</td>\n",
       "      <td>INGLÃS</td>\n",
       "    </tr>\n",
       "    <tr>\n",
       "      <th>PUNT_IDIOMA</th>\n",
       "      <td>52,89</td>\n",
       "      <td>31,08</td>\n",
       "      <td>83,1</td>\n",
       "    </tr>\n",
       "    <tr>\n",
       "      <th>DESEMP_IDIOMA</th>\n",
       "      <td>NaN</td>\n",
       "      <td>NaN</td>\n",
       "      <td>NaN</td>\n",
       "    </tr>\n",
       "    <tr>\n",
       "      <th>NOMBRE_PROFUNDIZACION</th>\n",
       "      <td>PROFUNDIZACIÃN EN MATEMÃTICA</td>\n",
       "      <td>PROFUNDIZACIÃN EN LENGUAJE</td>\n",
       "      <td>PROFUNDIZACIÃN EN BIOLOGÃA</td>\n",
       "    </tr>\n",
       "    <tr>\n",
       "      <th>PUNT_PROFUNDIZACION</th>\n",
       "      <td>5,03</td>\n",
       "      <td>5,14</td>\n",
       "      <td>5,23</td>\n",
       "    </tr>\n",
       "    <tr>\n",
       "      <th>DESEMP_PROFUNDIZACION</th>\n",
       "      <td>I</td>\n",
       "      <td>I</td>\n",
       "      <td>I</td>\n",
       "    </tr>\n",
       "    <tr>\n",
       "      <th>NOMBRE_INTERDISCIPLINAR</th>\n",
       "      <td>MEDIO AMBIENTE</td>\n",
       "      <td>MEDIO AMBIENTE</td>\n",
       "      <td>VIOLENCIA Y SOCIEDAD</td>\n",
       "    </tr>\n",
       "    <tr>\n",
       "      <th>PUNT_INTERDISCIPLINAR</th>\n",
       "      <td>53,43</td>\n",
       "      <td>51,54</td>\n",
       "      <td>48,86</td>\n",
       "    </tr>\n",
       "    <tr>\n",
       "      <th>ESTU_PUESTO</th>\n",
       "      <td>147</td>\n",
       "      <td>432</td>\n",
       "      <td>10</td>\n",
       "    </tr>\n",
       "  </tbody>\n",
       "</table>\n",
       "<p>83 rows × 3 columns</p>\n",
       "</div>"
      ],
      "text/plain": [
       "                                                              0  \\\n",
       "ESTU_CONSECUTIVO                               SB11200510000001   \n",
       "PERIODO                                                   20051   \n",
       "ESTU_TIPO_DOCUMENTO                                           T   \n",
       "ESTU_PAIS_RESIDE                                             CO   \n",
       "ESTU_GENERO                                                   M   \n",
       "ESTU_NACIMIENTO_DIA                                           2   \n",
       "ESTU_NACIMIENTO_MES                                           5   \n",
       "ESTU_NACIMIENTO_ANNO                                       1989   \n",
       "ESTU_EDAD                                                    15   \n",
       "ESTU_LIMITA_BAJAVISION                                      NaN   \n",
       "ESTU_LIMITA_SORDOCEGUERA                                    NaN   \n",
       "ESTU_LIMITA_COGNITIVA                                       NaN   \n",
       "ESTU_LIMITA_INVIDENTE                                       NaN   \n",
       "ESTU_LIMITA_MOTRIZ                                          NaN   \n",
       "ESTU_LIMITA_SORDOINTERPRETE                                 NaN   \n",
       "ESTU_LIMITA_SORDONOINTERPRETE                               NaN   \n",
       "ESTU_COD_RESIDE_MCPIO                                     76400   \n",
       "ESTU_RESIDE_MCPIO                                      LA UNION   \n",
       "ESTU_RESIDE_DEPTO                                         VALLE   \n",
       "ESTU_ZONA_RESIDE                                             10   \n",
       "ESTU_COD_MCPIO_PRESENTACION                               76400   \n",
       "ESTU_MCPIO_PRESENTACION                                LA UNION   \n",
       "ESTU_DEPTO_PRESENTACION                                   VALLE   \n",
       "ESTU_EXAM_NOMBREEXAMEN            EXAMEN DE ESTADO NUEVO (2005)   \n",
       "IND_ESTUDIO_BACHILLERATO                                    NaN   \n",
       "IND_ANNO_TERMINO_BACHILLERATO                               NaN   \n",
       "IND_TERMINO_BACHILLERATO                                    NaN   \n",
       "IND_COD_ICFES_TERMINO                                       NaN   \n",
       "COLE_COD_ICFES                                            26864   \n",
       "COLE_COD_DANE_INSTITUCION                          176400000019   \n",
       "...                                                         ...   \n",
       "FAMI_COMPUTADOR                                             NaN   \n",
       "FAMI_INGRESO_FMILIAR_MENSUAL                                NaN   \n",
       "COLE_VALOR_PENSION                                            1   \n",
       "ESTU_CARRDESEADA_TIPO                                       NaN   \n",
       "ESTU_CARRDESEADA_NUCLEO                                     NaN   \n",
       "ESTU_IES_COD_DESEADA                                       1101   \n",
       "ESTU_IES_DESEADA_NOMBRE        UNIVERSIDAD NACIONAL DE COLOMBIA   \n",
       "ESTU_IES_COD_MPIO_DESEADA                                 11001   \n",
       "ESTU_IES_MPIO_DESEADA                              BOGOTÃ D.C.   \n",
       "ESTU_IES_DEPT_DESEADA                                   BOGOTÃ   \n",
       "ESTU_RAZONINSTITUTO                                           6   \n",
       "ESTU_CARRDESEADA_COD                                       1882   \n",
       "ESTU_CARRDESEADA_RAZON                                        1   \n",
       "PUNT_BIOLOGIA                                             54,35   \n",
       "PUNT_MATEMATICAS                                          51,21   \n",
       "PUNT_FILOSOFIA                                            47,37   \n",
       "PUNT_FISICA                                               58,83   \n",
       "PUNT_HISTORIA                                             46,47   \n",
       "PUNT_QUIMICA                                              55,15   \n",
       "PUNT_LENGUAJE                                             50,26   \n",
       "PUNT_GEOGRAFIA                                            44,65   \n",
       "NOMBRE_IDIOMA                                           INGLÃS   \n",
       "PUNT_IDIOMA                                               52,89   \n",
       "DESEMP_IDIOMA                                               NaN   \n",
       "NOMBRE_PROFUNDIZACION            PROFUNDIZACIÃN EN MATEMÃTICA   \n",
       "PUNT_PROFUNDIZACION                                        5,03   \n",
       "DESEMP_PROFUNDIZACION                                         I   \n",
       "NOMBRE_INTERDISCIPLINAR                          MEDIO AMBIENTE   \n",
       "PUNT_INTERDISCIPLINAR                                     53,43   \n",
       "ESTU_PUESTO                                                 147   \n",
       "\n",
       "                                                                          1  \\\n",
       "ESTU_CONSECUTIVO                                           SB11200510000002   \n",
       "PERIODO                                                               20051   \n",
       "ESTU_TIPO_DOCUMENTO                                                       T   \n",
       "ESTU_PAIS_RESIDE                                                         CO   \n",
       "ESTU_GENERO                                                               M   \n",
       "ESTU_NACIMIENTO_DIA                                                      23   \n",
       "ESTU_NACIMIENTO_MES                                                       7   \n",
       "ESTU_NACIMIENTO_ANNO                                                   1987   \n",
       "ESTU_EDAD                                                                17   \n",
       "ESTU_LIMITA_BAJAVISION                                                  NaN   \n",
       "ESTU_LIMITA_SORDOCEGUERA                                                NaN   \n",
       "ESTU_LIMITA_COGNITIVA                                                   NaN   \n",
       "ESTU_LIMITA_INVIDENTE                                                   NaN   \n",
       "ESTU_LIMITA_MOTRIZ                                                      NaN   \n",
       "ESTU_LIMITA_SORDOINTERPRETE                                             NaN   \n",
       "ESTU_LIMITA_SORDONOINTERPRETE                                           NaN   \n",
       "ESTU_COD_RESIDE_MCPIO                                                 52585   \n",
       "ESTU_RESIDE_MCPIO                                                  PUPIALES   \n",
       "ESTU_RESIDE_DEPTO                                                   NARIÃO   \n",
       "ESTU_ZONA_RESIDE                                                         10   \n",
       "ESTU_COD_MCPIO_PRESENTACION                                           52585   \n",
       "ESTU_MCPIO_PRESENTACION                                            PUPIALES   \n",
       "ESTU_DEPTO_PRESENTACION                                             NARIÃO   \n",
       "ESTU_EXAM_NOMBREEXAMEN                        EXAMEN DE ESTADO NUEVO (2005)   \n",
       "IND_ESTUDIO_BACHILLERATO                                                NaN   \n",
       "IND_ANNO_TERMINO_BACHILLERATO                                           NaN   \n",
       "IND_TERMINO_BACHILLERATO                                                NaN   \n",
       "IND_COD_ICFES_TERMINO                                                   NaN   \n",
       "COLE_COD_ICFES                                                        11783   \n",
       "COLE_COD_DANE_INSTITUCION                                      152585000161   \n",
       "...                                                                     ...   \n",
       "FAMI_COMPUTADOR                                                         NaN   \n",
       "FAMI_INGRESO_FMILIAR_MENSUAL                                            NaN   \n",
       "COLE_VALOR_PENSION                                                        1   \n",
       "ESTU_CARRDESEADA_TIPO                                                   NaN   \n",
       "ESTU_CARRDESEADA_NUCLEO                                                 NaN   \n",
       "ESTU_IES_COD_DESEADA                                                   2849   \n",
       "ESTU_IES_DESEADA_NOMBRE        CORPORACION UNIVERSITARIA AUTONOMA DEL CAUCA   \n",
       "ESTU_IES_COD_MPIO_DESEADA                                             19001   \n",
       "ESTU_IES_MPIO_DESEADA                                               POPAYAN   \n",
       "ESTU_IES_DEPT_DESEADA                                                 CAUCA   \n",
       "ESTU_RAZONINSTITUTO                                                       5   \n",
       "ESTU_CARRDESEADA_COD                                                    143   \n",
       "ESTU_CARRDESEADA_RAZON                                                    3   \n",
       "PUNT_BIOLOGIA                                                         50,79   \n",
       "PUNT_MATEMATICAS                                                      48,38   \n",
       "PUNT_FILOSOFIA                                                        49,57   \n",
       "PUNT_FISICA                                                            51,8   \n",
       "PUNT_HISTORIA                                                         38,99   \n",
       "PUNT_QUIMICA                                                          48,67   \n",
       "PUNT_LENGUAJE                                                         45,91   \n",
       "PUNT_GEOGRAFIA                                                        42,68   \n",
       "NOMBRE_IDIOMA                                                       INGLÃS   \n",
       "PUNT_IDIOMA                                                           31,08   \n",
       "DESEMP_IDIOMA                                                           NaN   \n",
       "NOMBRE_PROFUNDIZACION                           PROFUNDIZACIÃN EN LENGUAJE   \n",
       "PUNT_PROFUNDIZACION                                                    5,14   \n",
       "DESEMP_PROFUNDIZACION                                                     I   \n",
       "NOMBRE_INTERDISCIPLINAR                                      MEDIO AMBIENTE   \n",
       "PUNT_INTERDISCIPLINAR                                                 51,54   \n",
       "ESTU_PUESTO                                                             432   \n",
       "\n",
       "                                                           2  \n",
       "ESTU_CONSECUTIVO                            SB11200510000003  \n",
       "PERIODO                                                20051  \n",
       "ESTU_TIPO_DOCUMENTO                                        T  \n",
       "ESTU_PAIS_RESIDE                                          CO  \n",
       "ESTU_GENERO                                                F  \n",
       "ESTU_NACIMIENTO_DIA                                        5  \n",
       "ESTU_NACIMIENTO_MES                                       11  \n",
       "ESTU_NACIMIENTO_ANNO                                    1987  \n",
       "ESTU_EDAD                                                 17  \n",
       "ESTU_LIMITA_BAJAVISION                                   NaN  \n",
       "ESTU_LIMITA_SORDOCEGUERA                                 NaN  \n",
       "ESTU_LIMITA_COGNITIVA                                    NaN  \n",
       "ESTU_LIMITA_INVIDENTE                                    NaN  \n",
       "ESTU_LIMITA_MOTRIZ                                       NaN  \n",
       "ESTU_LIMITA_SORDOINTERPRETE                              NaN  \n",
       "ESTU_LIMITA_SORDONOINTERPRETE                            NaN  \n",
       "ESTU_COD_RESIDE_MCPIO                                  13001  \n",
       "ESTU_RESIDE_MCPIO                                  CARTAGENA  \n",
       "ESTU_RESIDE_DEPTO                                   BOLÃVAR  \n",
       "ESTU_ZONA_RESIDE                                           1  \n",
       "ESTU_COD_MCPIO_PRESENTACION                            13001  \n",
       "ESTU_MCPIO_PRESENTACION                            CARTAGENA  \n",
       "ESTU_DEPTO_PRESENTACION                             BOLÃVAR  \n",
       "ESTU_EXAM_NOMBREEXAMEN         EXAMEN DE ESTADO NUEVO (2005)  \n",
       "IND_ESTUDIO_BACHILLERATO                                 NaN  \n",
       "IND_ANNO_TERMINO_BACHILLERATO                            NaN  \n",
       "IND_TERMINO_BACHILLERATO                                 NaN  \n",
       "IND_COD_ICFES_TERMINO                                    NaN  \n",
       "COLE_COD_ICFES                                         27011  \n",
       "COLE_COD_DANE_INSTITUCION                       313836000348  \n",
       "...                                                      ...  \n",
       "FAMI_COMPUTADOR                                          NaN  \n",
       "FAMI_INGRESO_FMILIAR_MENSUAL                             NaN  \n",
       "COLE_VALOR_PENSION                                         7  \n",
       "ESTU_CARRDESEADA_TIPO                                    NaN  \n",
       "ESTU_CARRDESEADA_NUCLEO                                  NaN  \n",
       "ESTU_IES_COD_DESEADA                                    1205  \n",
       "ESTU_IES_DESEADA_NOMBRE             UNIVERSIDAD DE CARTAGENA  \n",
       "ESTU_IES_COD_MPIO_DESEADA                              13001  \n",
       "ESTU_IES_MPIO_DESEADA                              CARTAGENA  \n",
       "ESTU_IES_DEPT_DESEADA                               BOLÃVAR  \n",
       "ESTU_RAZONINSTITUTO                                        3  \n",
       "ESTU_CARRDESEADA_COD                                   10998  \n",
       "ESTU_CARRDESEADA_RAZON                                     2  \n",
       "PUNT_BIOLOGIA                                          68,33  \n",
       "PUNT_MATEMATICAS                                       67,18  \n",
       "PUNT_FILOSOFIA                                         58,37  \n",
       "PUNT_FISICA                                            63,44  \n",
       "PUNT_HISTORIA                                          57,66  \n",
       "PUNT_QUIMICA                                           56,89  \n",
       "PUNT_LENGUAJE                                          66,73  \n",
       "PUNT_GEOGRAFIA                                         40,62  \n",
       "NOMBRE_IDIOMA                                        INGLÃS  \n",
       "PUNT_IDIOMA                                             83,1  \n",
       "DESEMP_IDIOMA                                            NaN  \n",
       "NOMBRE_PROFUNDIZACION           PROFUNDIZACIÃN EN BIOLOGÃA  \n",
       "PUNT_PROFUNDIZACION                                     5,23  \n",
       "DESEMP_PROFUNDIZACION                                      I  \n",
       "NOMBRE_INTERDISCIPLINAR                 VIOLENCIA Y SOCIEDAD  \n",
       "PUNT_INTERDISCIPLINAR                                  48,86  \n",
       "ESTU_PUESTO                                               10  \n",
       "\n",
       "[83 rows x 3 columns]"
      ]
     },
     "execution_count": 4,
     "metadata": {},
     "output_type": "execute_result"
    }
   ],
   "source": [
    "data_2005.head(3).T"
   ]
  },
  {
   "cell_type": "markdown",
   "metadata": {},
   "source": [
    "Delete the columns that won't contribute to the work"
   ]
  },
  {
   "cell_type": "code",
   "execution_count": 5,
   "metadata": {
    "collapsed": false
   },
   "outputs": [],
   "source": [
    "\"\"\"For now, this will be the columns deleted, but later could be more\"\"\"\n",
    "data_2005 = data_2005.drop(['ESTU_CONSECUTIVO', 'PERIODO', 'ESTU_TIPO_DOCUMENTO', 'ESTU_IES_DESEADA_NOMBRE',\n",
    "                            'ESTU_IES_MPIO_DESEADA'], axis=1)"
   ]
  },
  {
   "cell_type": "code",
   "execution_count": 6,
   "metadata": {
    "collapsed": false,
    "scrolled": true
   },
   "outputs": [
    {
     "name": "stdout",
     "output_type": "stream",
     "text": [
      "Index(['BE', 'BO', 'BR', 'CO', 'CU', 'DE', 'EC', 'ES', 'FR', 'GH', 'MX', 'US',\n",
      "       'VE', 'ZW'],\n",
      "      dtype='object')\n",
      "BE        1\n",
      "BO        1\n",
      "BR        1\n",
      "CO    72801\n",
      "CU        1\n",
      "DE        4\n",
      "EC        6\n",
      "ES        2\n",
      "FR        1\n",
      "GH        1\n",
      "MX        2\n",
      "US       11\n",
      "VE        2\n",
      "ZW        1\n",
      "Name: ESTU_PAIS_RESIDE, dtype: int64\n",
      "Elementos null/NaN 7\n",
      "__________________\n",
      "Elementos diferentes de null/NaN: 72835\n",
      "__________________\n",
      "(72835,)\n",
      "None\n"
     ]
    }
   ],
   "source": [
    "print(data_2005['ESTU_PAIS_RESIDE'].value_counts().sort_index().index)\n",
    "print(data_2005['ESTU_PAIS_RESIDE'].value_counts().sort_index())\n",
    "print(missing_data(data_2005['ESTU_PAIS_RESIDE']))"
   ]
  },
  {
   "cell_type": "code",
   "execution_count": 7,
   "metadata": {
    "collapsed": false
   },
   "outputs": [
    {
     "name": "stdout",
     "output_type": "stream",
     "text": [
      "Index(['F', 'M'], dtype='object')\n",
      "F    38878\n",
      "M    33964\n",
      "Name: ESTU_GENERO, dtype: int64\n",
      "Elementos null/NaN 0\n",
      "__________________\n",
      "Elementos diferentes de null/NaN: 72842\n",
      "__________________\n",
      "(72842,)\n",
      "None\n"
     ]
    }
   ],
   "source": [
    "print(data_2005['ESTU_GENERO'].value_counts().sort_index().index)\n",
    "print(data_2005['ESTU_GENERO'].value_counts().sort_index())\n",
    "print(missing_data(data_2005['ESTU_GENERO']))"
   ]
  },
  {
   "cell_type": "code",
   "execution_count": 8,
   "metadata": {
    "collapsed": false,
    "scrolled": true
   },
   "outputs": [
    {
     "name": "stdout",
     "output_type": "stream",
     "text": [
      "Float64Index([ 1.0,  2.0,  3.0,  4.0,  5.0,  6.0,  7.0,  8.0,  9.0, 10.0, 11.0,\n",
      "              12.0, 13.0, 14.0, 15.0, 16.0, 17.0, 18.0, 19.0, 20.0, 21.0, 22.0,\n",
      "              23.0, 24.0, 25.0, 26.0, 27.0, 28.0, 29.0, 30.0, 31.0],\n",
      "             dtype='float64')\n",
      "1.0     2442\n",
      "2.0     2430\n",
      "3.0     2417\n",
      "4.0     2408\n",
      "5.0     2458\n",
      "6.0     2358\n",
      "7.0     2341\n",
      "8.0     2443\n",
      "9.0     2491\n",
      "10.0    2489\n",
      "11.0    2329\n",
      "12.0    2481\n",
      "13.0    2302\n",
      "14.0    2224\n",
      "15.0    2435\n",
      "16.0    2372\n",
      "17.0    2358\n",
      "18.0    2364\n",
      "19.0    2477\n",
      "20.0    2549\n",
      "21.0    2404\n",
      "22.0    2390\n",
      "23.0    2354\n",
      "24.0    2336\n",
      "25.0    2309\n",
      "26.0    2362\n",
      "27.0    2356\n",
      "28.0    2487\n",
      "29.0    2189\n",
      "30.0    2254\n",
      "31.0    1231\n",
      "Name: ESTU_NACIMIENTO_DIA, dtype: int64\n",
      "Elementos null/NaN 2\n",
      "__________________\n",
      "Elementos diferentes de null/NaN: 72840\n",
      "__________________\n",
      "(72840,)\n",
      "None\n"
     ]
    }
   ],
   "source": [
    "print(data_2005['ESTU_NACIMIENTO_DIA'].value_counts().sort_index().index)\n",
    "print(data_2005['ESTU_NACIMIENTO_DIA'].value_counts().sort_index())\n",
    "print(missing_data(data_2005['ESTU_NACIMIENTO_DIA']))"
   ]
  },
  {
   "cell_type": "code",
   "execution_count": 9,
   "metadata": {
    "collapsed": false,
    "scrolled": true
   },
   "outputs": [
    {
     "name": "stdout",
     "output_type": "stream",
     "text": [
      "Float64Index([1.0, 2.0, 3.0, 4.0, 5.0, 6.0, 7.0, 8.0, 9.0, 10.0, 11.0, 12.0], dtype='float64')\n",
      "1.0     6034\n",
      "2.0     5428\n",
      "3.0     5976\n",
      "4.0     6058\n",
      "5.0     6124\n",
      "6.0     5859\n",
      "7.0     6350\n",
      "8.0     6334\n",
      "9.0     6521\n",
      "10.0    6234\n",
      "11.0    5932\n",
      "12.0    5990\n",
      "Name: ESTU_NACIMIENTO_MES, dtype: int64\n",
      "Elementos null/NaN 2\n",
      "__________________\n",
      "Elementos diferentes de null/NaN: 72840\n",
      "__________________\n",
      "(72840,)\n",
      "None\n"
     ]
    }
   ],
   "source": [
    "print(data_2005['ESTU_NACIMIENTO_MES'].value_counts().sort_index().index)\n",
    "print(data_2005['ESTU_NACIMIENTO_MES'].value_counts().sort_index())\n",
    "print(missing_data(data_2005['ESTU_NACIMIENTO_MES']))"
   ]
  },
  {
   "cell_type": "code",
   "execution_count": 10,
   "metadata": {
    "collapsed": false,
    "scrolled": true
   },
   "outputs": [
    {
     "name": "stdout",
     "output_type": "stream",
     "text": [
      "Float64Index([1940.0, 1941.0, 1942.0, 1943.0, 1944.0, 1945.0, 1946.0, 1947.0,\n",
      "              1948.0, 1949.0, 1950.0, 1951.0, 1952.0, 1953.0, 1954.0, 1955.0,\n",
      "              1956.0, 1957.0, 1958.0, 1959.0, 1960.0, 1961.0, 1962.0, 1963.0,\n",
      "              1964.0, 1965.0, 1966.0, 1967.0, 1968.0, 1969.0, 1970.0, 1971.0,\n",
      "              1972.0, 1973.0, 1974.0, 1975.0, 1976.0, 1977.0, 1978.0, 1979.0,\n",
      "              1980.0, 1981.0, 1982.0, 1983.0, 1984.0, 1985.0, 1986.0, 1987.0,\n",
      "              1988.0, 1989.0, 1990.0, 1991.0, 1992.0, 1993.0, 1994.0],\n",
      "             dtype='float64')\n",
      "1940.0        5\n",
      "1941.0        1\n",
      "1942.0        4\n",
      "1943.0        1\n",
      "1944.0        5\n",
      "1945.0        5\n",
      "1946.0        4\n",
      "1947.0       10\n",
      "1948.0        9\n",
      "1949.0       18\n",
      "1950.0       12\n",
      "1951.0       12\n",
      "1952.0       22\n",
      "1953.0       23\n",
      "1954.0       16\n",
      "1955.0       25\n",
      "1956.0       25\n",
      "1957.0       46\n",
      "1958.0       53\n",
      "1959.0       58\n",
      "1960.0       53\n",
      "1961.0       53\n",
      "1962.0       76\n",
      "1963.0       84\n",
      "1964.0       88\n",
      "1965.0      162\n",
      "1966.0      158\n",
      "1967.0      214\n",
      "1968.0      236\n",
      "1969.0      160\n",
      "1970.0      160\n",
      "1971.0      171\n",
      "1972.0      219\n",
      "1973.0      222\n",
      "1974.0      215\n",
      "1975.0      265\n",
      "1976.0      254\n",
      "1977.0      298\n",
      "1978.0      370\n",
      "1979.0      451\n",
      "1980.0      619\n",
      "1981.0      716\n",
      "1982.0      924\n",
      "1983.0     1177\n",
      "1984.0     2030\n",
      "1985.0     4317\n",
      "1986.0     9164\n",
      "1987.0    16516\n",
      "1988.0    24033\n",
      "1989.0     7575\n",
      "1990.0      633\n",
      "1991.0      229\n",
      "1992.0      176\n",
      "1993.0      127\n",
      "1994.0      341\n",
      "Name: ESTU_NACIMIENTO_ANNO, dtype: int64\n",
      "Elementos null/NaN 2\n",
      "__________________\n",
      "Elementos diferentes de null/NaN: 72840\n",
      "__________________\n",
      "(72840,)\n",
      "None\n"
     ]
    }
   ],
   "source": [
    "print(data_2005['ESTU_NACIMIENTO_ANNO'].value_counts().sort_index().index)\n",
    "print(data_2005['ESTU_NACIMIENTO_ANNO'].value_counts().sort_index())\n",
    "print(missing_data(data_2005['ESTU_NACIMIENTO_ANNO']))"
   ]
  },
  {
   "cell_type": "code",
   "execution_count": 11,
   "metadata": {
    "collapsed": false,
    "scrolled": true
   },
   "outputs": [
    {
     "name": "stdout",
     "output_type": "stream",
     "text": [
      "Int64Index([10, 11, 12, 13, 14, 15, 16, 17, 18, 19, 20, 21, 22, 23, 24, 25, 26,\n",
      "            27, 28, 29, 30, 31, 32, 33, 34, 35, 36, 37, 38, 39, 40, 41, 42, 43,\n",
      "            44, 45, 46, 47, 48, 49, 50, 51, 52, 53, 54, 55, 56, 57, 58, 59, 60,\n",
      "            61, 62, 63, 64, 65],\n",
      "           dtype='int64')\n",
      "10      240\n",
      "11      181\n",
      "12      161\n",
      "13      219\n",
      "14      434\n",
      "15     3694\n",
      "16    21547\n",
      "17    19099\n",
      "18    11109\n",
      "19     5382\n",
      "20     2561\n",
      "21     1382\n",
      "22      961\n",
      "23      790\n",
      "24      643\n",
      "25      504\n",
      "26      370\n",
      "27      329\n",
      "28      276\n",
      "29      244\n",
      "30      243\n",
      "31      221\n",
      "32      215\n",
      "33      187\n",
      "34      162\n",
      "35      147\n",
      "36      227\n",
      "37      224\n",
      "38      178\n",
      "39      158\n",
      "40      108\n",
      "41       82\n",
      "42       87\n",
      "43       54\n",
      "44       54\n",
      "45       58\n",
      "46       53\n",
      "47       46\n",
      "48       33\n",
      "49       24\n",
      "50       20\n",
      "51       11\n",
      "52       31\n",
      "53       15\n",
      "54       11\n",
      "55       21\n",
      "56        7\n",
      "57       13\n",
      "58        4\n",
      "59        4\n",
      "60        5\n",
      "61        3\n",
      "62        3\n",
      "63        2\n",
      "64        1\n",
      "65        4\n",
      "Name: ESTU_EDAD, dtype: int64\n",
      "Elementos null/NaN 0\n",
      "__________________\n",
      "Elementos diferentes de null/NaN: 72842\n",
      "__________________\n",
      "(72842,)\n",
      "None\n"
     ]
    }
   ],
   "source": [
    "print(data_2005['ESTU_EDAD'].value_counts().sort_index().index)\n",
    "print(data_2005['ESTU_EDAD'].value_counts().sort_index())\n",
    "print(missing_data(data_2005['ESTU_EDAD']))"
   ]
  },
  {
   "cell_type": "code",
   "execution_count": 12,
   "metadata": {
    "collapsed": false,
    "scrolled": true
   },
   "outputs": [
    {
     "name": "stdout",
     "output_type": "stream",
     "text": [
      "Float64Index([], dtype='float64')\n",
      "Series([], Name: ESTU_LIMITA_BAJAVISION, dtype: int64)\n",
      "Elementos null/NaN 72842\n",
      "__________________\n",
      "Elementos diferentes de null/NaN: 0\n",
      "__________________\n",
      "(0,)\n",
      "None\n"
     ]
    }
   ],
   "source": [
    "print(data_2005['ESTU_LIMITA_BAJAVISION'].value_counts().sort_index().index)\n",
    "print(data_2005['ESTU_LIMITA_BAJAVISION'].value_counts().sort_index())\n",
    "print(missing_data(data_2005['ESTU_LIMITA_BAJAVISION']))"
   ]
  },
  {
   "cell_type": "code",
   "execution_count": 13,
   "metadata": {
    "collapsed": true
   },
   "outputs": [],
   "source": [
    "data_2005 = data_2005.drop(['ESTU_LIMITA_BAJAVISION'], axis=1)"
   ]
  },
  {
   "cell_type": "code",
   "execution_count": 14,
   "metadata": {
    "collapsed": false,
    "scrolled": true
   },
   "outputs": [
    {
     "name": "stdout",
     "output_type": "stream",
     "text": [
      "Float64Index([], dtype='float64')\n",
      "Series([], Name: ESTU_LIMITA_SORDOCEGUERA, dtype: int64)\n",
      "Elementos null/NaN 72842\n",
      "__________________\n",
      "Elementos diferentes de null/NaN: 0\n",
      "__________________\n",
      "(0,)\n",
      "None\n"
     ]
    }
   ],
   "source": [
    "print(data_2005['ESTU_LIMITA_SORDOCEGUERA'].value_counts().sort_index().index)\n",
    "print(data_2005['ESTU_LIMITA_SORDOCEGUERA'].value_counts().sort_index())\n",
    "print(missing_data(data_2005['ESTU_LIMITA_SORDOCEGUERA']))"
   ]
  },
  {
   "cell_type": "code",
   "execution_count": 15,
   "metadata": {
    "collapsed": true
   },
   "outputs": [],
   "source": [
    "data_2005 = data_2005.drop(['ESTU_LIMITA_SORDOCEGUERA'], axis=1)"
   ]
  },
  {
   "cell_type": "code",
   "execution_count": 16,
   "metadata": {
    "collapsed": false
   },
   "outputs": [
    {
     "name": "stdout",
     "output_type": "stream",
     "text": [
      "Float64Index([], dtype='float64')\n",
      "Series([], Name: ESTU_LIMITA_COGNITIVA, dtype: int64)\n",
      "Elementos null/NaN 72842\n",
      "__________________\n",
      "Elementos diferentes de null/NaN: 0\n",
      "__________________\n",
      "(0,)\n",
      "None\n"
     ]
    }
   ],
   "source": [
    "print(data_2005['ESTU_LIMITA_COGNITIVA'].value_counts().sort_index().index)\n",
    "print(data_2005['ESTU_LIMITA_COGNITIVA'].value_counts().sort_index())\n",
    "print(missing_data(data_2005['ESTU_LIMITA_COGNITIVA']))"
   ]
  },
  {
   "cell_type": "code",
   "execution_count": 17,
   "metadata": {
    "collapsed": true
   },
   "outputs": [],
   "source": [
    "data_2005 = data_2005.drop(['ESTU_LIMITA_COGNITIVA'], axis=1)"
   ]
  },
  {
   "cell_type": "code",
   "execution_count": 18,
   "metadata": {
    "collapsed": false
   },
   "outputs": [
    {
     "name": "stdout",
     "output_type": "stream",
     "text": [
      "Float64Index([], dtype='float64')\n",
      "Series([], Name: ESTU_LIMITA_INVIDENTE, dtype: int64)\n",
      "Elementos null/NaN 72842\n",
      "__________________\n",
      "Elementos diferentes de null/NaN: 0\n",
      "__________________\n",
      "(0,)\n",
      "None\n"
     ]
    }
   ],
   "source": [
    "print(data_2005['ESTU_LIMITA_INVIDENTE'].value_counts().sort_index().index)\n",
    "print(data_2005['ESTU_LIMITA_INVIDENTE'].value_counts().sort_index())\n",
    "print(missing_data(data_2005['ESTU_LIMITA_INVIDENTE']))"
   ]
  },
  {
   "cell_type": "code",
   "execution_count": 19,
   "metadata": {
    "collapsed": true
   },
   "outputs": [],
   "source": [
    "data_2005 = data_2005.drop(['ESTU_LIMITA_INVIDENTE'], axis=1)"
   ]
  },
  {
   "cell_type": "code",
   "execution_count": 20,
   "metadata": {
    "collapsed": false
   },
   "outputs": [
    {
     "name": "stdout",
     "output_type": "stream",
     "text": [
      "Float64Index([], dtype='float64')\n",
      "Series([], Name: ESTU_LIMITA_MOTRIZ, dtype: int64)\n",
      "Elementos null/NaN 72842\n",
      "__________________\n",
      "Elementos diferentes de null/NaN: 0\n",
      "__________________\n",
      "(0,)\n",
      "None\n"
     ]
    }
   ],
   "source": [
    "print(data_2005['ESTU_LIMITA_MOTRIZ'].value_counts().sort_index().index)\n",
    "print(data_2005['ESTU_LIMITA_MOTRIZ'].value_counts().sort_index())\n",
    "print(missing_data(data_2005['ESTU_LIMITA_MOTRIZ']))"
   ]
  },
  {
   "cell_type": "code",
   "execution_count": 21,
   "metadata": {
    "collapsed": true
   },
   "outputs": [],
   "source": [
    "data_2005 = data_2005.drop(['ESTU_LIMITA_MOTRIZ'], axis=1)"
   ]
  },
  {
   "cell_type": "code",
   "execution_count": 22,
   "metadata": {
    "collapsed": false
   },
   "outputs": [
    {
     "name": "stdout",
     "output_type": "stream",
     "text": [
      "Float64Index([], dtype='float64')\n",
      "Series([], Name: ESTU_LIMITA_SORDOINTERPRETE, dtype: int64)\n",
      "Elementos null/NaN 72842\n",
      "__________________\n",
      "Elementos diferentes de null/NaN: 0\n",
      "__________________\n",
      "(0,)\n",
      "None\n"
     ]
    }
   ],
   "source": [
    "print(data_2005['ESTU_LIMITA_SORDOINTERPRETE'].value_counts().sort_index().index)\n",
    "print(data_2005['ESTU_LIMITA_SORDOINTERPRETE'].value_counts().sort_index())\n",
    "print(missing_data(data_2005['ESTU_LIMITA_SORDOINTERPRETE']))"
   ]
  },
  {
   "cell_type": "code",
   "execution_count": 23,
   "metadata": {
    "collapsed": true
   },
   "outputs": [],
   "source": [
    "data_2005 = data_2005.drop(['ESTU_LIMITA_SORDOINTERPRETE'], axis=1)"
   ]
  },
  {
   "cell_type": "code",
   "execution_count": 24,
   "metadata": {
    "collapsed": false
   },
   "outputs": [
    {
     "name": "stdout",
     "output_type": "stream",
     "text": [
      "Float64Index([], dtype='float64')\n",
      "Series([], Name: ESTU_LIMITA_SORDONOINTERPRETE, dtype: int64)\n",
      "Elementos null/NaN 72842\n",
      "__________________\n",
      "Elementos diferentes de null/NaN: 0\n",
      "__________________\n",
      "(0,)\n",
      "None\n"
     ]
    }
   ],
   "source": [
    "print(data_2005['ESTU_LIMITA_SORDONOINTERPRETE'].value_counts().sort_index().index)\n",
    "print(data_2005['ESTU_LIMITA_SORDONOINTERPRETE'].value_counts().sort_index())\n",
    "print(missing_data(data_2005['ESTU_LIMITA_SORDONOINTERPRETE']))"
   ]
  },
  {
   "cell_type": "code",
   "execution_count": 25,
   "metadata": {
    "collapsed": true
   },
   "outputs": [],
   "source": [
    "data_2005 = data_2005.drop(['ESTU_LIMITA_SORDONOINTERPRETE'], axis=1)"
   ]
  },
  {
   "cell_type": "code",
   "execution_count": 26,
   "metadata": {
    "collapsed": false,
    "scrolled": true
   },
   "outputs": [
    {
     "name": "stdout",
     "output_type": "stream",
     "text": [
      "Int64Index([ 5001,  5021,  5042,  5045,  5079,  5088,  5093,  5120,  5129,\n",
      "             5148,\n",
      "            ...\n",
      "            81794, 85001, 85010, 85125, 85139, 85225, 85410, 85440, 86568,\n",
      "            86865],\n",
      "           dtype='int64', length=375)\n",
      "5001     1379\n",
      "5021        5\n",
      "5042       19\n",
      "5045       75\n",
      "5079        1\n",
      "5088      140\n",
      "5093       21\n",
      "5120        6\n",
      "5129       23\n",
      "5148       37\n",
      "5154       64\n",
      "5172       22\n",
      "5197        1\n",
      "5212       13\n",
      "5237        2\n",
      "5240        7\n",
      "5250        3\n",
      "5266      178\n",
      "5308        2\n",
      "5315        1\n",
      "5321        6\n",
      "5347        7\n",
      "5360       76\n",
      "5361       43\n",
      "5376       10\n",
      "5380       13\n",
      "5390        1\n",
      "5440       16\n",
      "5467        2\n",
      "5483        4\n",
      "         ... \n",
      "76497     123\n",
      "76520    3278\n",
      "76563     537\n",
      "76606     143\n",
      "76616     164\n",
      "76622     484\n",
      "76670     142\n",
      "76736     431\n",
      "76823     183\n",
      "76828     152\n",
      "76834    2393\n",
      "76845      29\n",
      "76863      68\n",
      "76869      81\n",
      "76890     122\n",
      "76892     812\n",
      "76895     455\n",
      "81001      11\n",
      "81220       2\n",
      "81736       1\n",
      "81794      25\n",
      "85001     143\n",
      "85010      10\n",
      "85125      12\n",
      "85139       2\n",
      "85225       1\n",
      "85410       5\n",
      "85440       1\n",
      "86568      72\n",
      "86865       2\n",
      "Name: ESTU_COD_RESIDE_MCPIO, dtype: int64\n",
      "Elementos null/NaN 0\n",
      "__________________\n",
      "Elementos diferentes de null/NaN: 72842\n",
      "__________________\n",
      "(72842,)\n",
      "None\n"
     ]
    }
   ],
   "source": [
    "print(data_2005['ESTU_COD_RESIDE_MCPIO'].value_counts().sort_index().index)\n",
    "print(data_2005['ESTU_COD_RESIDE_MCPIO'].value_counts().sort_index())\n",
    "print(missing_data(data_2005['ESTU_COD_RESIDE_MCPIO']))"
   ]
  },
  {
   "cell_type": "code",
   "execution_count": 27,
   "metadata": {
    "collapsed": true
   },
   "outputs": [],
   "source": [
    "\"\"\"There is a column with the name of the MCPIO\"\"\"\n",
    "data_2005 = data_2005.drop(['ESTU_COD_RESIDE_MCPIO'], axis=1)"
   ]
  },
  {
   "cell_type": "code",
   "execution_count": 28,
   "metadata": {
    "collapsed": false,
    "scrolled": true
   },
   "outputs": [
    {
     "name": "stdout",
     "output_type": "stream",
     "text": [
      "Index(['ACEVEDO', 'AGRADO', 'AGUA DE DIOS', 'AGUAZUL', 'AGUSTIN CODAZZI',\n",
      "       'AIPE', 'ALBAN (SAN JOSE)', 'ALBANIA', 'ALCALA', 'ALDANA',\n",
      "       ...\n",
      "       'VILLETA', 'VISTA HERMOSA', 'YACUANQUER', 'YAGUARA', 'YARUMAL', 'YOPAL',\n",
      "       'YOTOCO', 'YUMBO', 'ZARZAL', 'ZIPAQUIRA'],\n",
      "      dtype='object', length=367)\n",
      "ACEVEDO                         9\n",
      "AGRADO                          4\n",
      "AGUA DE DIOS                   34\n",
      "AGUAZUL                        10\n",
      "AGUSTIN CODAZZI                12\n",
      "AIPE                            1\n",
      "ALBAN (SAN JOSE)               83\n",
      "ALBANIA                        51\n",
      "ALCALA                        128\n",
      "ALDANA                         63\n",
      "ALEJANDRIA                      5\n",
      "ANAPOIMA                        2\n",
      "ANCUYA                         54\n",
      "ANDALUCIA                     212\n",
      "ANSERMANUEVO                  149\n",
      "APARTADO                       75\n",
      "APIA                           29\n",
      "ARAUCA                         11\n",
      "ARBOLEDA (BERRUECOS)           75\n",
      "ARGELIA                        46\n",
      "ARMENIA                       201\n",
      "ARMERO (GUAYABAL)               2\n",
      "ATACO                           7\n",
      "BARANOA                         5\n",
      "BARBACOAS                     102\n",
      "BARBOSA                         1\n",
      "BARRANCABERMEJA                 2\n",
      "BARRANQUILLA                  428\n",
      "BELEN                          69\n",
      "BELEN DE LOS ANDAQUIES         26\n",
      "                             ... \n",
      "TUMACO                       1135\n",
      "TUNJA                          83\n",
      "TUQUERRES                     374\n",
      "TURBACO                        23\n",
      "TURBO                          10\n",
      "UBALA                           1\n",
      "UBATE                          51\n",
      "ULLOA                          29\n",
      "UNE                             1\n",
      "VALENCIA                       46\n",
      "VALLEDUPAR                    120\n",
      "VELEZ                           8\n",
      "VERSALLES                      68\n",
      "VIJES                          81\n",
      "VILLA DEL ROSARIO               9\n",
      "VILLA GUAMEZ (LA HORMIGA)       2\n",
      "VILLA RICA                      3\n",
      "VILLAMARIA                      9\n",
      "VILLANUEVA                      2\n",
      "VILLAVICENCIO                 299\n",
      "VILLETA                        32\n",
      "VISTA HERMOSA                   1\n",
      "YACUANQUER                     75\n",
      "YAGUARA                         5\n",
      "YARUMAL                         1\n",
      "YOPAL                         143\n",
      "YOTOCO                        122\n",
      "YUMBO                         812\n",
      "ZARZAL                        455\n",
      "ZIPAQUIRA                      95\n",
      "Name: ESTU_RESIDE_MCPIO, dtype: int64\n",
      "Elementos null/NaN 0\n",
      "__________________\n",
      "Elementos diferentes de null/NaN: 72842\n",
      "__________________\n",
      "(72842,)\n",
      "None\n"
     ]
    }
   ],
   "source": [
    "print(data_2005['ESTU_RESIDE_MCPIO'].value_counts().sort_index().index)\n",
    "print(data_2005['ESTU_RESIDE_MCPIO'].value_counts().sort_index())\n",
    "print(missing_data(data_2005['ESTU_RESIDE_MCPIO']))"
   ]
  },
  {
   "cell_type": "code",
   "execution_count": 29,
   "metadata": {
    "collapsed": false,
    "scrolled": true
   },
   "outputs": [
    {
     "name": "stdout",
     "output_type": "stream",
     "text": [
      "Index(['ANTIOQUIA', 'ARAUCA', 'ATLÃNTICO', 'BOGOTÃ', 'BOLÃVAR', 'BOYACÃ',\n",
      "       'CALDAS', 'CAQUETÃ', 'CASANARE', 'CAUCA', 'CESAR', 'CHOCÃ',\n",
      "       'CUNDINAMARCA', 'CÃRDOBA', 'HUILA', 'LA GUAJIRA', 'MAGDALENA', 'META',\n",
      "       'NARIÃO', 'NORTE SANTANDER', 'PUTUMAYO', 'QUINDÃO', 'RISARALDA',\n",
      "       'SANTANDER', 'TOLIMA', 'VALLE'],\n",
      "      dtype='object')\n",
      "ANTIOQUIA           2389\n",
      "ARAUCA                39\n",
      "ATLÃNTICO           464\n",
      "BOGOTÃ             6781\n",
      "BOLÃVAR             289\n",
      "BOYACÃ              317\n",
      "CALDAS               423\n",
      "CAQUETÃ             160\n",
      "CASANARE             174\n",
      "CAUCA               1126\n",
      "CESAR                133\n",
      "CHOCÃ                31\n",
      "CUNDINAMARCA        1434\n",
      "CÃRDOBA              93\n",
      "HUILA                305\n",
      "LA GUAJIRA           107\n",
      "MAGDALENA             60\n",
      "META                 315\n",
      "NARIÃO            13432\n",
      "NORTE SANTANDER      607\n",
      "PUTUMAYO              74\n",
      "QUINDÃO             302\n",
      "RISARALDA            479\n",
      "SANTANDER            741\n",
      "TOLIMA               510\n",
      "VALLE              42057\n",
      "Name: ESTU_RESIDE_DEPTO, dtype: int64\n",
      "Elementos null/NaN 0\n",
      "__________________\n",
      "Elementos diferentes de null/NaN: 72842\n",
      "__________________\n",
      "(72842,)\n",
      "None\n"
     ]
    }
   ],
   "source": [
    "print(data_2005['ESTU_RESIDE_DEPTO'].value_counts().sort_index().index)\n",
    "print(data_2005['ESTU_RESIDE_DEPTO'].value_counts().sort_index())\n",
    "print(missing_data(data_2005['ESTU_RESIDE_DEPTO']))"
   ]
  },
  {
   "cell_type": "code",
   "execution_count": 30,
   "metadata": {
    "collapsed": true
   },
   "outputs": [],
   "source": [
    "data_2005['ESTU_RESIDE_DEPTO'] = data_2005['ESTU_RESIDE_DEPTO'].replace('ATLÃNTICO', 'ATLANTICO')\n",
    "data_2005['ESTU_RESIDE_DEPTO'] = data_2005['ESTU_RESIDE_DEPTO'].replace('BOGOTÃ', 'BOGOTA')\n",
    "data_2005['ESTU_RESIDE_DEPTO'] = data_2005['ESTU_RESIDE_DEPTO'].replace('BOLÃVAR', 'BOLIVAR')\n",
    "data_2005['ESTU_RESIDE_DEPTO'] = data_2005['ESTU_RESIDE_DEPTO'].replace('BOYACÃ', 'BOYACA')\n",
    "data_2005['ESTU_RESIDE_DEPTO'] = data_2005['ESTU_RESIDE_DEPTO'].replace('CAQUETÃ', 'CAQUETA')\n",
    "data_2005['ESTU_RESIDE_DEPTO'] = data_2005['ESTU_RESIDE_DEPTO'].replace('CHOCÃ', 'CHOCO')\n",
    "data_2005['ESTU_RESIDE_DEPTO'] = data_2005['ESTU_RESIDE_DEPTO'].replace('CÃRDOBA', 'CORDOBA')\n",
    "data_2005['ESTU_RESIDE_DEPTO'] = data_2005['ESTU_RESIDE_DEPTO'].replace('NARIÃO', 'NARIÑO')\n",
    "data_2005['ESTU_RESIDE_DEPTO'] = data_2005['ESTU_RESIDE_DEPTO'].replace('QUINDÃO', 'QUINDIO')"
   ]
  },
  {
   "cell_type": "code",
   "execution_count": 31,
   "metadata": {
    "collapsed": false
   },
   "outputs": [
    {
     "name": "stdout",
     "output_type": "stream",
     "text": [
      "Int64Index([1, 2, 3, 4, 5, 6, 7, 8, 9, 10], dtype='int64')\n",
      "1      6769\n",
      "2      2399\n",
      "3      1619\n",
      "4      6714\n",
      "5      1677\n",
      "6      3259\n",
      "7      4263\n",
      "8      1759\n",
      "9      2083\n",
      "10    42300\n",
      "Name: ESTU_ZONA_RESIDE, dtype: int64\n",
      "Elementos null/NaN 0\n",
      "__________________\n",
      "Elementos diferentes de null/NaN: 72842\n",
      "__________________\n",
      "(72842,)\n",
      "None\n"
     ]
    }
   ],
   "source": [
    "print(data_2005['ESTU_ZONA_RESIDE'].value_counts().sort_index().index)\n",
    "print(data_2005['ESTU_ZONA_RESIDE'].value_counts().sort_index())\n",
    "print(missing_data(data_2005['ESTU_ZONA_RESIDE']))"
   ]
  },
  {
   "cell_type": "code",
   "execution_count": 32,
   "metadata": {
    "collapsed": false,
    "scrolled": true
   },
   "outputs": [
    {
     "name": "stdout",
     "output_type": "stream",
     "text": [
      "Int64Index([ 5001,  5045,  5088,  5154,  5495,  5615,  5686,  8001, 11001,\n",
      "            13001,\n",
      "            ...\n",
      "            76823, 76828, 76834, 76892, 76895, 81001, 81794, 85001, 86001,\n",
      "            86568],\n",
      "           dtype='int64', length=126)\n",
      "5001     1857\n",
      "5045      112\n",
      "5088      164\n",
      "5154       74\n",
      "5495       42\n",
      "5615      107\n",
      "5686       33\n",
      "8001      464\n",
      "11001    6821\n",
      "13001     245\n",
      "13430      22\n",
      "15001     145\n",
      "15759     154\n",
      "17001     361\n",
      "17380      88\n",
      "18001     159\n",
      "19001     847\n",
      "19142      10\n",
      "19455       3\n",
      "19532       9\n",
      "19548      44\n",
      "19573      43\n",
      "19698     146\n",
      "19807      10\n",
      "20001     132\n",
      "20011      12\n",
      "23001      61\n",
      "23417       1\n",
      "23466      14\n",
      "23807      11\n",
      "         ... \n",
      "76041     127\n",
      "76100     111\n",
      "76109    2622\n",
      "76111    1469\n",
      "76113     354\n",
      "76122     312\n",
      "76126     125\n",
      "76130     727\n",
      "76147    1734\n",
      "76233     213\n",
      "76248     697\n",
      "76275     535\n",
      "76306     236\n",
      "76364     943\n",
      "76400     540\n",
      "76520    3551\n",
      "76563     542\n",
      "76606     149\n",
      "76622     540\n",
      "76736     427\n",
      "76823     186\n",
      "76828     202\n",
      "76834    2493\n",
      "76892     912\n",
      "76895     491\n",
      "81001      11\n",
      "81794      26\n",
      "85001     175\n",
      "86001       4\n",
      "86568      67\n",
      "Name: ESTU_COD_MCPIO_PRESENTACION, dtype: int64\n",
      "Elementos null/NaN 0\n",
      "__________________\n",
      "Elementos diferentes de null/NaN: 72842\n",
      "__________________\n",
      "(72842,)\n",
      "None\n"
     ]
    }
   ],
   "source": [
    "print(data_2005['ESTU_COD_MCPIO_PRESENTACION'].value_counts().sort_index().index)\n",
    "print(data_2005['ESTU_COD_MCPIO_PRESENTACION'].value_counts().sort_index())\n",
    "print(missing_data(data_2005['ESTU_COD_MCPIO_PRESENTACION']))"
   ]
  },
  {
   "cell_type": "code",
   "execution_count": 33,
   "metadata": {
    "collapsed": true
   },
   "outputs": [],
   "source": [
    "data_2005 = data_2005.drop(['ESTU_COD_MCPIO_PRESENTACION'], axis=1)"
   ]
  },
  {
   "cell_type": "code",
   "execution_count": 34,
   "metadata": {
    "collapsed": false,
    "scrolled": true
   },
   "outputs": [
    {
     "name": "stdout",
     "output_type": "stream",
     "text": [
      "Index(['AGUACHICA', 'ALBANIA', 'ALCALA', 'ANDALUCIA', 'ANSERMANUEVO',\n",
      "       'APARTADO', 'ARAUCA', 'ARBOLEDA (BERRUECOS)', 'ARMENIA', 'BARBACOAS',\n",
      "       ...\n",
      "       'TUNJA', 'TUQUERRES', 'UBATE', 'VALLEDUPAR', 'VELEZ', 'VILLAVICENCIO',\n",
      "       'YOPAL', 'YUMBO', 'ZARZAL', 'ZIPAQUIRA'],\n",
      "      dtype='object', length=125)\n",
      "AGUACHICA                    12\n",
      "ALBANIA                      51\n",
      "ALCALA                      164\n",
      "ANDALUCIA                   350\n",
      "ANSERMANUEVO                127\n",
      "APARTADO                    112\n",
      "ARAUCA                       11\n",
      "ARBOLEDA (BERRUECOS)         32\n",
      "ARMENIA                     281\n",
      "BARBACOAS                   150\n",
      "BARRANCABERMEJA               3\n",
      "BARRANQUILLA                464\n",
      "BELEN                        13\n",
      "BELLO                       164\n",
      "BOGOTÃ D.C.               6821\n",
      "BOLIVAR                     111\n",
      "BUCARAMANGA                 686\n",
      "BUENAVENTURA               2622\n",
      "BUESACO                     171\n",
      "BUGA                       1469\n",
      "BUGALAGRANDE                354\n",
      "CAICEDONIA                  312\n",
      "CALI                      21326\n",
      "CALIMA (DARIEN)             125\n",
      "CALOTO                       10\n",
      "CAMPOALEGRE                  11\n",
      "CANDELARIA                  727\n",
      "CARTAGENA                   245\n",
      "CARTAGO                    1734\n",
      "CAUCASIA                     74\n",
      "                          ...  \n",
      "SAN MARTIN                    1\n",
      "SAN PABLO                   181\n",
      "SAN PEDRO DE CARTAGO         15\n",
      "SANDONA                     253\n",
      "SANTA MARTA                  54\n",
      "SANTA ROSA DE OSOS           33\n",
      "SANTANDER DE QUILICHAO      146\n",
      "SEVILLA                     427\n",
      "SINCELEJO                    10\n",
      "SOACHA                      298\n",
      "SOGAMOSO                    154\n",
      "TAME                         26\n",
      "TAMINANGO                   142\n",
      "TANGUA                       57\n",
      "TIERRALTA                    11\n",
      "TIMBIO                       10\n",
      "TORO                        186\n",
      "TRUJILLO                    202\n",
      "TULUA                      2493\n",
      "TUMACO                     1274\n",
      "TUNJA                       145\n",
      "TUQUERRES                   486\n",
      "UBATE                        97\n",
      "VALLEDUPAR                  132\n",
      "VELEZ                         8\n",
      "VILLAVICENCIO               328\n",
      "YOPAL                       175\n",
      "YUMBO                       912\n",
      "ZARZAL                      491\n",
      "ZIPAQUIRA                   114\n",
      "Name: ESTU_MCPIO_PRESENTACION, dtype: int64\n",
      "Elementos null/NaN 0\n",
      "__________________\n",
      "Elementos diferentes de null/NaN: 72842\n",
      "__________________\n",
      "(72842,)\n",
      "None\n"
     ]
    }
   ],
   "source": [
    "print(data_2005['ESTU_MCPIO_PRESENTACION'].value_counts().sort_index().index)\n",
    "print(data_2005['ESTU_MCPIO_PRESENTACION'].value_counts().sort_index())\n",
    "print(missing_data(data_2005['ESTU_MCPIO_PRESENTACION']))"
   ]
  },
  {
   "cell_type": "code",
   "execution_count": 35,
   "metadata": {
    "collapsed": false,
    "scrolled": true
   },
   "outputs": [
    {
     "name": "stdout",
     "output_type": "stream",
     "text": [
      "Index(['ANTIOQUIA', 'ARAUCA', 'ATLÃNTICO', 'BOGOTÃ', 'BOLÃVAR', 'BOYACÃ',\n",
      "       'CALDAS', 'CAQUETÃ', 'CASANARE', 'CAUCA', 'CESAR', 'CHOCÃ',\n",
      "       'CUNDINAMARCA', 'CÃRDOBA', 'HUILA', 'LA GUAJIRA', 'MAGDALENA', 'META',\n",
      "       'NARIÃO', 'NORTE SANTANDER', 'PUTUMAYO', 'QUINDÃO', 'RISARALDA',\n",
      "       'SANTANDER', 'SUCRE', 'TOLIMA', 'VALLE'],\n",
      "      dtype='object')\n",
      "ANTIOQUIA           2389\n",
      "ARAUCA                37\n",
      "ATLÃNTICO           464\n",
      "BOGOTÃ             6821\n",
      "BOLÃVAR             267\n",
      "BOYACÃ              299\n",
      "CALDAS               449\n",
      "CAQUETÃ             159\n",
      "CASANARE             175\n",
      "CAUCA               1112\n",
      "CESAR                144\n",
      "CHOCÃ                31\n",
      "CUNDINAMARCA        1404\n",
      "CÃRDOBA              87\n",
      "HUILA                300\n",
      "LA GUAJIRA           107\n",
      "MAGDALENA             58\n",
      "META                 329\n",
      "NARIÃO            13446\n",
      "NORTE SANTANDER      605\n",
      "PUTUMAYO              71\n",
      "QUINDÃO             305\n",
      "RISARALDA            474\n",
      "SANTANDER            745\n",
      "SUCRE                 10\n",
      "TOLIMA               476\n",
      "VALLE              42078\n",
      "Name: ESTU_DEPTO_PRESENTACION, dtype: int64\n",
      "Elementos null/NaN 0\n",
      "__________________\n",
      "Elementos diferentes de null/NaN: 72842\n",
      "__________________\n",
      "(72842,)\n",
      "None\n"
     ]
    }
   ],
   "source": [
    "print(data_2005['ESTU_DEPTO_PRESENTACION'].value_counts().sort_index().index)\n",
    "print(data_2005['ESTU_DEPTO_PRESENTACION'].value_counts().sort_index())\n",
    "print(missing_data(data_2005['ESTU_DEPTO_PRESENTACION']))"
   ]
  },
  {
   "cell_type": "code",
   "execution_count": 36,
   "metadata": {
    "collapsed": true
   },
   "outputs": [],
   "source": [
    "data_2005['ESTU_DEPTO_PRESENTACION'] = data_2005['ESTU_DEPTO_PRESENTACION'].replace('ATLÃNTICO', 'ATLANTICO')\n",
    "data_2005['ESTU_DEPTO_PRESENTACION'] = data_2005['ESTU_DEPTO_PRESENTACION'].replace('BOGOTÃ', 'BOGOTA')\n",
    "data_2005['ESTU_DEPTO_PRESENTACION'] = data_2005['ESTU_DEPTO_PRESENTACION'].replace('BOLÃVAR', 'BOLIVAR')\n",
    "data_2005['ESTU_DEPTO_PRESENTACION'] = data_2005['ESTU_DEPTO_PRESENTACION'].replace('BOYACÃ', 'BOYACA')\n",
    "data_2005['ESTU_DEPTO_PRESENTACION'] = data_2005['ESTU_DEPTO_PRESENTACION'].replace('CAQUETÃ', 'CAQUETA')\n",
    "data_2005['ESTU_DEPTO_PRESENTACION'] = data_2005['ESTU_DEPTO_PRESENTACION'].replace('CHOCÃ', 'CHOCO')\n",
    "data_2005['ESTU_DEPTO_PRESENTACION'] = data_2005['ESTU_DEPTO_PRESENTACION'].replace('CÃRDOBA', 'CORDOBA')\n",
    "data_2005['ESTU_DEPTO_PRESENTACION'] = data_2005['ESTU_DEPTO_PRESENTACION'].replace('NARIÃO', 'NARIÑO')\n",
    "data_2005['ESTU_DEPTO_PRESENTACION'] = data_2005['ESTU_DEPTO_PRESENTACION'].replace('QUINDÃO', 'QUINDIO')"
   ]
  },
  {
   "cell_type": "code",
   "execution_count": 37,
   "metadata": {
    "collapsed": false,
    "scrolled": false
   },
   "outputs": [
    {
     "name": "stdout",
     "output_type": "stream",
     "text": [
      "Index(['EXAMEN DE ESTADO NUEVO (2005)'], dtype='object')\n",
      "EXAMEN DE ESTADO NUEVO (2005)    72842\n",
      "Name: ESTU_EXAM_NOMBREEXAMEN, dtype: int64\n",
      "Elementos null/NaN 0\n",
      "__________________\n",
      "Elementos diferentes de null/NaN: 72842\n",
      "__________________\n",
      "(72842,)\n",
      "None\n"
     ]
    }
   ],
   "source": [
    "print(data_2005['ESTU_EXAM_NOMBREEXAMEN'].value_counts().sort_index().index)\n",
    "print(data_2005['ESTU_EXAM_NOMBREEXAMEN'].value_counts().sort_index())\n",
    "print(missing_data(data_2005['ESTU_EXAM_NOMBREEXAMEN']))"
   ]
  },
  {
   "cell_type": "code",
   "execution_count": 38,
   "metadata": {
    "collapsed": true
   },
   "outputs": [],
   "source": [
    "data_2005 = data_2005.drop(['ESTU_EXAM_NOMBREEXAMEN'], axis=1)"
   ]
  },
  {
   "cell_type": "code",
   "execution_count": 39,
   "metadata": {
    "collapsed": false
   },
   "outputs": [
    {
     "name": "stdout",
     "output_type": "stream",
     "text": [
      "Float64Index([], dtype='float64')\n",
      "Series([], Name: IND_ESTUDIO_BACHILLERATO, dtype: int64)\n",
      "Elementos null/NaN 72842\n",
      "__________________\n",
      "Elementos diferentes de null/NaN: 0\n",
      "__________________\n",
      "(0,)\n",
      "None\n"
     ]
    }
   ],
   "source": [
    "print(data_2005['IND_ESTUDIO_BACHILLERATO'].value_counts().sort_index().index)\n",
    "print(data_2005['IND_ESTUDIO_BACHILLERATO'].value_counts().sort_index())\n",
    "print(missing_data(data_2005['IND_ESTUDIO_BACHILLERATO']))"
   ]
  },
  {
   "cell_type": "code",
   "execution_count": 40,
   "metadata": {
    "collapsed": true
   },
   "outputs": [],
   "source": [
    "data_2005 = data_2005.drop(['IND_ESTUDIO_BACHILLERATO'], axis=1)"
   ]
  },
  {
   "cell_type": "code",
   "execution_count": 41,
   "metadata": {
    "collapsed": false
   },
   "outputs": [
    {
     "name": "stdout",
     "output_type": "stream",
     "text": [
      "Float64Index([], dtype='float64')\n",
      "Series([], Name: IND_ANNO_TERMINO_BACHILLERATO, dtype: int64)\n",
      "Elementos null/NaN 72842\n",
      "__________________\n",
      "Elementos diferentes de null/NaN: 0\n",
      "__________________\n",
      "(0,)\n",
      "None\n"
     ]
    }
   ],
   "source": [
    "print(data_2005['IND_ANNO_TERMINO_BACHILLERATO'].value_counts().sort_index().index)\n",
    "print(data_2005['IND_ANNO_TERMINO_BACHILLERATO'].value_counts().sort_index())\n",
    "print(missing_data(data_2005['IND_ANNO_TERMINO_BACHILLERATO']))"
   ]
  },
  {
   "cell_type": "code",
   "execution_count": 42,
   "metadata": {
    "collapsed": true
   },
   "outputs": [],
   "source": [
    "data_2005 = data_2005.drop(['IND_ANNO_TERMINO_BACHILLERATO'], axis=1)"
   ]
  },
  {
   "cell_type": "code",
   "execution_count": 43,
   "metadata": {
    "collapsed": false
   },
   "outputs": [
    {
     "name": "stdout",
     "output_type": "stream",
     "text": [
      "Float64Index([], dtype='float64')\n",
      "Series([], Name: IND_TERMINO_BACHILLERATO, dtype: int64)\n",
      "Elementos null/NaN 72842\n",
      "__________________\n",
      "Elementos diferentes de null/NaN: 0\n",
      "__________________\n",
      "(0,)\n",
      "None\n"
     ]
    }
   ],
   "source": [
    "print(data_2005['IND_TERMINO_BACHILLERATO'].value_counts().sort_index().index)\n",
    "print(data_2005['IND_TERMINO_BACHILLERATO'].value_counts().sort_index())\n",
    "print(missing_data(data_2005['IND_TERMINO_BACHILLERATO']))"
   ]
  },
  {
   "cell_type": "code",
   "execution_count": 44,
   "metadata": {
    "collapsed": true
   },
   "outputs": [],
   "source": [
    "data_2005 = data_2005.drop(['IND_TERMINO_BACHILLERATO'], axis=1)"
   ]
  },
  {
   "cell_type": "code",
   "execution_count": 45,
   "metadata": {
    "collapsed": false
   },
   "outputs": [
    {
     "name": "stdout",
     "output_type": "stream",
     "text": [
      "Float64Index([], dtype='float64')\n",
      "Series([], Name: IND_COD_ICFES_TERMINO, dtype: int64)\n",
      "Elementos null/NaN 72842\n",
      "__________________\n",
      "Elementos diferentes de null/NaN: 0\n",
      "__________________\n",
      "(0,)\n",
      "None\n"
     ]
    }
   ],
   "source": [
    "print(data_2005['IND_COD_ICFES_TERMINO'].value_counts().sort_index().index)\n",
    "print(data_2005['IND_COD_ICFES_TERMINO'].value_counts().sort_index())\n",
    "print(missing_data(data_2005['IND_COD_ICFES_TERMINO']))"
   ]
  },
  {
   "cell_type": "code",
   "execution_count": 46,
   "metadata": {
    "collapsed": true
   },
   "outputs": [],
   "source": [
    "data_2005 = data_2005.drop(['IND_COD_ICFES_TERMINO'], axis=1)"
   ]
  },
  {
   "cell_type": "code",
   "execution_count": 47,
   "metadata": {
    "collapsed": false,
    "scrolled": true
   },
   "outputs": [
    {
     "name": "stdout",
     "output_type": "stream",
     "text": [
      "Int64Index([   182,    638,   1503,   3145,   3327,   3418,   3459,   3483,\n",
      "              4234,   6775,\n",
      "            ...\n",
      "            118885, 118919, 119149, 119388, 119420, 119446, 119669, 119693,\n",
      "            119826, 119859],\n",
      "           dtype='int64', length=1717)\n",
      "182        76\n",
      "638       101\n",
      "1503       10\n",
      "3145       11\n",
      "3327       14\n",
      "3418       52\n",
      "3459       78\n",
      "3483       13\n",
      "4234       46\n",
      "6775       21\n",
      "6981        5\n",
      "7013       74\n",
      "7054        1\n",
      "7070      114\n",
      "7088       47\n",
      "8581       51\n",
      "9589       27\n",
      "9696       20\n",
      "9985        4\n",
      "10199       4\n",
      "10298      33\n",
      "10967      23\n",
      "11213     272\n",
      "11239      84\n",
      "11254      36\n",
      "11262      53\n",
      "11270     189\n",
      "11288     115\n",
      "11296     236\n",
      "11312     168\n",
      "         ... \n",
      "118265      9\n",
      "118307     20\n",
      "118315     29\n",
      "118323      7\n",
      "118356     11\n",
      "118364     12\n",
      "118414     16\n",
      "118422     23\n",
      "118448     38\n",
      "118471      9\n",
      "118489     17\n",
      "118505     41\n",
      "118547      8\n",
      "118554      6\n",
      "118570     17\n",
      "118729     21\n",
      "118737     24\n",
      "118745     27\n",
      "118802     38\n",
      "118844     93\n",
      "118885     70\n",
      "118919     22\n",
      "119149      7\n",
      "119388     10\n",
      "119420     22\n",
      "119446      6\n",
      "119669      5\n",
      "119693     18\n",
      "119826      3\n",
      "119859      8\n",
      "Name: COLE_COD_ICFES, dtype: int64\n",
      "Elementos null/NaN 0\n",
      "__________________\n",
      "Elementos diferentes de null/NaN: 72842\n",
      "__________________\n",
      "(72842,)\n",
      "None\n"
     ]
    }
   ],
   "source": [
    "print(data_2005['COLE_COD_ICFES'].value_counts().sort_index().index)\n",
    "print(data_2005['COLE_COD_ICFES'].value_counts().sort_index())\n",
    "print(missing_data(data_2005['COLE_COD_ICFES']))"
   ]
  },
  {
   "cell_type": "code",
   "execution_count": 48,
   "metadata": {
    "collapsed": false,
    "scrolled": true
   },
   "outputs": [
    {
     "name": "stdout",
     "output_type": "stream",
     "text": [
      "Index(['            ', '010500103391', '014100104742', '021383600208',\n",
      "       '031500100024', '034100105808', '051100116867', '105001000566',\n",
      "       '105001003387', '105001003395',\n",
      "       ...\n",
      "       '576001091472', '576622134546', '625214000001', '625269000082',\n",
      "       '625286000041', '625473000055', '818001100015', '818001100022',\n",
      "       '841006000001', '841551000001'],\n",
      "      dtype='object', length=1477)\n",
      "                1576\n",
      "010500103391     134\n",
      "014100104742      22\n",
      "021383600208      23\n",
      "031500100024       9\n",
      "034100105808      17\n",
      "051100116867      41\n",
      "105001000566      18\n",
      "105001003387      31\n",
      "105001003395      76\n",
      "105001012106      31\n",
      "105001014397      25\n",
      "105042000732      12\n",
      "105045001683      46\n",
      "105088000532      15\n",
      "105088001415      18\n",
      "105088002993      29\n",
      "105129000534      10\n",
      "105154000301      65\n",
      "105361000443      43\n",
      "105376000440      10\n",
      "105495000024      42\n",
      "105541000026      14\n",
      "105631000491      62\n",
      "108001004617      13\n",
      "111001001538      14\n",
      "111001009971      89\n",
      "111001010251      43\n",
      "111001010839      22\n",
      "111001011029      23\n",
      "                ... \n",
      "476130000813      10\n",
      "476130000902      22\n",
      "476130000961      12\n",
      "476130001186      22\n",
      "476233002003      11\n",
      "476248000478      98\n",
      "476248000877       8\n",
      "476248032012      19\n",
      "476892001183       7\n",
      "476892099710      21\n",
      "476892099728       7\n",
      "476895000382      43\n",
      "519001000002      67\n",
      "519698000006       5\n",
      "525899000016      24\n",
      "541548000100       7\n",
      "552356000068      51\n",
      "568001009690     171\n",
      "568001009700      36\n",
      "568432001300      16\n",
      "576001091472      36\n",
      "576622134546       6\n",
      "625214000001      23\n",
      "625269000082      42\n",
      "625286000041     106\n",
      "625473000055      15\n",
      "818001100015      11\n",
      "818001100022      27\n",
      "841006000001       9\n",
      "841551000001       7\n",
      "Name: COLE_COD_DANE_INSTITUCION, dtype: int64\n",
      "Elementos null/NaN 0\n",
      "__________________\n",
      "Elementos diferentes de null/NaN: 72842\n",
      "__________________\n",
      "(72842,)\n",
      "None\n"
     ]
    }
   ],
   "source": [
    "print(data_2005['COLE_COD_DANE_INSTITUCION'].value_counts().sort_index().index)\n",
    "print(data_2005['COLE_COD_DANE_INSTITUCION'].value_counts().sort_index())\n",
    "print(missing_data(data_2005['COLE_COD_DANE_INSTITUCION']))"
   ]
  },
  {
   "cell_type": "code",
   "execution_count": 49,
   "metadata": {
    "collapsed": false
   },
   "outputs": [],
   "source": [
    "data_2005['COLE_COD_DANE_INSTITUCION'] = data_2005['COLE_COD_DANE_INSTITUCION'].replace('            ', np.nan)\n",
    "for i in data_2005['COLE_COD_DANE_INSTITUCION'].value_counts().sort_index().index:\n",
    "    if type(i) == str:\n",
    "        data_2005['COLE_COD_DANE_INSTITUCION'] = data_2005['COLE_COD_DANE_INSTITUCION'].replace(i, int(i))"
   ]
  },
  {
   "cell_type": "code",
   "execution_count": 50,
   "metadata": {
    "collapsed": false,
    "scrolled": true
   },
   "outputs": [
    {
     "name": "stdout",
     "output_type": "stream",
     "text": [
      "Index([' COL FUND STA ISABEL DE HUNGRIA', ' ESCUELA URBANA JOSE ANTONIO GALAN',\n",
      "       ' FUND COL PAR SAN PEDRO CLAVER',\n",
      "       '07/01 INSTITUCION EDUCATIVA JORGE ISAACS INEM',\n",
      "       '20/01 INSTITUCION EDUCATIVA, SIETE DE AGOSTO',\n",
      "       '28/01 INSTITUCIÃN EDUCATIVA SANTA FE',\n",
      "       '32/01 INSTITUCION EDUCATIVA NORMAL SUPERIOR SANTIAGO DE CALI',\n",
      "       '38/01 INSTITUCION EDUCATIVA AGUSTIN NIETO CABALLERO',\n",
      "       '39/01 INSTITUCION EDUCATIVA BOYACA',\n",
      "       '41/01 INSTITUCION EDUCATIVA VILLA DEL SUR',\n",
      "       ...\n",
      "       'SUSANA LOPEZ DE VALENCIA', 'TABLONES',\n",
      "       'TECNOLÃGICO EN INFORMATICA Y COMERCIO DE BUENAVENTURA INCOMEB',\n",
      "       'TERESA CALDERÃN DE LASSO',\n",
      "       'TÃCNICO INDUSTRIAL GERARDO VALENCIA CANO - SEDE PRINCIPAL',\n",
      "       'UNIDAD TECNOLOGICA DE OCCIDENTE', 'UNIDAD TECNOLOGICA DEL SUR',\n",
      "       'UNION PROFESIONAL PARA LA EDUCACION Y EL TRABAJO UPET',\n",
      "       'UNIVERSIDAD NACIONAL ABIERTA Y A DISTANCIA',\n",
      "       'XINSTITUTO TECNICO COMERCIAL PILOTO'],\n",
      "      dtype='object', length=1547)\n",
      " COL FUND STA ISABEL DE HUNGRIA                                                                         760\n",
      " ESCUELA URBANA JOSE ANTONIO GALAN                                                                       30\n",
      " FUND COL PAR SAN PEDRO CLAVER                                                                           80\n",
      "07/01 INSTITUCION EDUCATIVA JORGE ISAACS INEM                                                           770\n",
      "20/01 INSTITUCION EDUCATIVA, SIETE DE AGOSTO                                                             56\n",
      "28/01 INSTITUCIÃN EDUCATIVA SANTA FE                                                                    82\n",
      "32/01 INSTITUCION EDUCATIVA NORMAL SUPERIOR SANTIAGO DE CALI                                            209\n",
      "38/01 INSTITUCION EDUCATIVA AGUSTIN NIETO CABALLERO                                                      98\n",
      "39/01 INSTITUCION EDUCATIVA BOYACA                                                                       68\n",
      "41/01 INSTITUCION EDUCATIVA VILLA DEL SUR                                                               128\n",
      "44/01 INSTITUCIÃN EDUCATIVA COMERCIAL CIUDAD DE CALI                                                   210\n",
      "69/01 INSTITUCION EDUCATIVA LA ESPERANZA                                                                 14\n",
      "74/01 INSTITUCION EDUCATIVA JUANA DE CAICEDO Y CUERO                                                     21\n",
      "80/01 INSTITUCIÃN EDUCATIVA PANCE                                                                       12\n",
      "81/02 INSTITUCION EDUCATIVA LA BUITRERA JOSE MARIA GARCIA DE TOLED                                       35\n",
      "86/02 INSTITUCION EDUCATIVA LA LEONERA  ITA FARALLONES                                                    9\n",
      "ABSALON TORRES CAMACHO                                                                                   66\n",
      "ACAD CENTRAL DE SISTEMAS ACSI                                                                            58\n",
      "ACADE MILIT JOAQUÃN DE CAICEDO Y CUERO                                                                  18\n",
      "ACADEMIA ACADEMIA SAM                                                                                    38\n",
      "ACADEMIA COLOMBIANA DE ENSEÃANZA                                                                        13\n",
      "ACADEMIA COMERCIAL REAL                                                                                  60\n",
      "ACADEMIA DE CIENCIAS DE COLOMBIA AKADEMOS                                                                18\n",
      "ACADEMIA MILIT CORONEL MIGUEL CABAL BARONA                                                               26\n",
      "ACADEMIA MILITAR GENERAL JOSÃ MARÃA CABAL                                                              50\n",
      "AGRICOLA CAMPOALEGRE                                                                                     37\n",
      "AGRICOLA PRESBITERO HORACIO GOMEZ GALLO                                                                  45\n",
      "AGROTECNICO MIXTO                                                                                        27\n",
      "ALFONSO LOPEZ PUMAREJO                                                                                  251\n",
      "ALFONSO ZAWADZKY                                                                                        114\n",
      "                                                                                                       ... \n",
      "SEDE PRINCIPAL CONCENTRACIÃN DE DESARROLLO RURAL                                                        33\n",
      "SEDE PRINCIPAL GIMNASIO DEL PACIFICO CENTRAL                                                            385\n",
      "SEDE PRINCIPAL INSTITUTO JULIA RESTREPO                                                                 242\n",
      "SEDE PRINCIPAL INSTITUTO TEC.  INDUSTRIAL C.S.L.                                                        224\n",
      "SEDE PRINCIPAL LA GRACIELA                                                                               81\n",
      "SEDE PRINCIPAL LICEO MODERNO                                                                            180\n",
      "SEDE PRINCIPAL NO. 7 MARIA ANTONIA RUIZ                                                                  39\n",
      "SEDE PRINCIPAL UNIDAD DOCENTE JOVITA SANTA COLOMA                                                        78\n",
      "SEM DE CRISTO SACERDOTE                                                                                  36\n",
      "SEMILLA DE LA ESPERANZA                                                                                  15\n",
      "SEMINARIO MENOR ARQUIDIOCESANO                                                                           74\n",
      "SEMINARIO SAN BUENAVENTURA                                                                               53\n",
      "SERVICIO EDUCATIVO NAL DE ADULTOS SENDAS                                                                138\n",
      "SEVILLA                                                                                                 198\n",
      "SIMON BOLIVAR                                                                                           183\n",
      "SIMON RODRIGUEZ                                                                                          48\n",
      "SIXTO MARIA ROJAS                                                                                        23\n",
      "SOC ESCUELA KARL C PARRISH                                                                               52\n",
      "SOCIEDAD ESTUDIANTIL RENOVAR  LIMITADA                                                                    6\n",
      "SOR MARIA JULIANA                                                                                       194\n",
      "SUSANA LOPEZ DE VALENCIA                                                                                 28\n",
      "TABLONES                                                                                                 25\n",
      "TECNOLÃGICO EN INFORMATICA Y COMERCIO DE BUENAVENTURA INCOMEB                                           23\n",
      "TERESA CALDERÃN DE LASSO                                                                                26\n",
      "TÃCNICO INDUSTRIAL GERARDO VALENCIA CANO - SEDE PRINCIPAL                                              163\n",
      "UNIDAD TECNOLOGICA DE OCCIDENTE                                                                          22\n",
      "UNIDAD TECNOLOGICA DEL SUR                                                                               18\n",
      "UNION PROFESIONAL PARA LA EDUCACION Y EL TRABAJO UPET                                                    59\n",
      "UNIVERSIDAD NACIONAL ABIERTA Y A DISTANCIA                                                               24\n",
      "XINSTITUTO TECNICO COMERCIAL PILOTO                                                                       4\n",
      "Name: COLE_NOMBRE_SEDE, dtype: int64\n",
      "Elementos null/NaN 0\n",
      "__________________\n",
      "Elementos diferentes de null/NaN: 72842\n",
      "__________________\n",
      "(72842,)\n",
      "None\n"
     ]
    }
   ],
   "source": [
    "print(data_2005['COLE_NOMBRE_SEDE'].value_counts().sort_index().index)\n",
    "print(data_2005['COLE_NOMBRE_SEDE'].value_counts().sort_index())\n",
    "print(missing_data(data_2005['COLE_NOMBRE_SEDE']))"
   ]
  },
  {
   "cell_type": "code",
   "execution_count": 51,
   "metadata": {
    "collapsed": true
   },
   "outputs": [],
   "source": [
    "\"\"\"The column COLE_NOMBRE_SEDE was deleted in previous files.\"\"\"\n",
    "data_2005 = data_2005.drop(['COLE_NOMBRE_SEDE'], axis=1)"
   ]
  },
  {
   "cell_type": "code",
   "execution_count": 52,
   "metadata": {
    "collapsed": false
   },
   "outputs": [
    {
     "name": "stdout",
     "output_type": "stream",
     "text": [
      "Index(['A', 'B', 'F'], dtype='object')\n",
      "A    41013\n",
      "B    13425\n",
      "F    18404\n",
      "Name: COLE_CALENDARIO, dtype: int64\n",
      "Elementos null/NaN 0\n",
      "__________________\n",
      "Elementos diferentes de null/NaN: 72842\n",
      "__________________\n",
      "(72842,)\n",
      "None\n"
     ]
    }
   ],
   "source": [
    "print(data_2005['COLE_CALENDARIO'].value_counts().sort_index().index)\n",
    "print(data_2005['COLE_CALENDARIO'].value_counts().sort_index())\n",
    "print(missing_data(data_2005['COLE_CALENDARIO']))"
   ]
  },
  {
   "cell_type": "code",
   "execution_count": 53,
   "metadata": {
    "collapsed": false
   },
   "outputs": [
    {
     "name": "stdout",
     "output_type": "stream",
     "text": [
      "Index(['F', 'M', 'X'], dtype='object')\n",
      "F     4690\n",
      "M     1238\n",
      "X    66914\n",
      "Name: COLE_GENERO, dtype: int64\n",
      "Elementos null/NaN 0\n",
      "__________________\n",
      "Elementos diferentes de null/NaN: 72842\n",
      "__________________\n",
      "(72842,)\n",
      "None\n"
     ]
    }
   ],
   "source": [
    "print(data_2005['COLE_GENERO'].value_counts().sort_index().index)\n",
    "print(data_2005['COLE_GENERO'].value_counts().sort_index())\n",
    "print(missing_data(data_2005['COLE_GENERO']))"
   ]
  },
  {
   "cell_type": "code",
   "execution_count": 54,
   "metadata": {
    "collapsed": true
   },
   "outputs": [],
   "source": [
    "data_2005['COLE_GENERO'] = data_2005['COLE_GENERO'].replace('X', np.nan)"
   ]
  },
  {
   "cell_type": "code",
   "execution_count": 55,
   "metadata": {
    "collapsed": false
   },
   "outputs": [
    {
     "name": "stdout",
     "output_type": "stream",
     "text": [
      "Index(['N', 'O'], dtype='object')\n",
      "N    32799\n",
      "O    40043\n",
      "Name: COLE_NATURALEZA, dtype: int64\n",
      "Elementos null/NaN 0\n",
      "__________________\n",
      "Elementos diferentes de null/NaN: 72842\n",
      "__________________\n",
      "(72842,)\n",
      "None\n"
     ]
    }
   ],
   "source": [
    "print(data_2005['COLE_NATURALEZA'].value_counts().sort_index().index)\n",
    "print(data_2005['COLE_NATURALEZA'].value_counts().sort_index())\n",
    "print(missing_data(data_2005['COLE_NATURALEZA']))"
   ]
  },
  {
   "cell_type": "code",
   "execution_count": 56,
   "metadata": {
    "collapsed": false
   },
   "outputs": [
    {
     "name": "stdout",
     "output_type": "stream",
     "text": [
      "Int64Index([0, 1], dtype='int64')\n",
      "0    68725\n",
      "1     4117\n",
      "Name: COLE_BILINGUE, dtype: int64\n",
      "Elementos null/NaN 0\n",
      "__________________\n",
      "Elementos diferentes de null/NaN: 72842\n",
      "__________________\n",
      "(72842,)\n",
      "None\n"
     ]
    }
   ],
   "source": [
    "print(data_2005['COLE_BILINGUE'].value_counts().sort_index().index)\n",
    "print(data_2005['COLE_BILINGUE'].value_counts().sort_index())\n",
    "print(missing_data(data_2005['COLE_BILINGUE']))"
   ]
  },
  {
   "cell_type": "markdown",
   "metadata": {},
   "source": [
    "From here i do one change to do the code easier"
   ]
  },
  {
   "cell_type": "code",
   "execution_count": 57,
   "metadata": {
    "collapsed": false
   },
   "outputs": [
    {
     "name": "stdout",
     "output_type": "stream",
     "text": [
      "Index(['COMPLETA U ORDINARIA', 'MAÃANA', 'NOCHE', 'SABATINA - DOMINICAL',\n",
      "       'TARDE'],\n",
      "      dtype='object')\n",
      "COMPLETA U ORDINARIA    10293\n",
      "MAÃANA                 41490\n",
      "NOCHE                    9492\n",
      "SABATINA - DOMINICAL     3376\n",
      "TARDE                    8191\n",
      "Name: COLE_JORNADA, dtype: int64\n",
      "Elementos null/NaN 0\n",
      "__________________\n",
      "Elementos diferentes de null/NaN: 72842\n",
      "__________________\n",
      "(72842,)\n",
      "None\n"
     ]
    }
   ],
   "source": [
    "c = 'COLE_JORNADA'\n",
    "print(data_2005[c].value_counts().sort_index().index)\n",
    "print(data_2005[c].value_counts().sort_index())\n",
    "print(missing_data(data_2005[c]))"
   ]
  },
  {
   "cell_type": "code",
   "execution_count": 58,
   "metadata": {
    "collapsed": true
   },
   "outputs": [],
   "source": [
    "data_2005['COLE_JORNADA'] = data_2005['COLE_JORNADA'].replace('MAÃANA', 'MAÑANA')"
   ]
  },
  {
   "cell_type": "code",
   "execution_count": 59,
   "metadata": {
    "collapsed": false
   },
   "outputs": [
    {
     "name": "stdout",
     "output_type": "stream",
     "text": [
      "Index(['ACADEMICO', 'ACADEMICO Y TECNICO', 'NORMALISTA', 'TECNICO'], dtype='object')\n",
      "ACADEMICO              38677\n",
      "ACADEMICO Y TECNICO    13203\n",
      "NORMALISTA              1450\n",
      "TECNICO                19512\n",
      "Name: COLE_CARACTER, dtype: int64\n",
      "Elementos null/NaN 0\n",
      "__________________\n",
      "Elementos diferentes de null/NaN: 72842\n",
      "__________________\n",
      "(72842,)\n",
      "None\n"
     ]
    }
   ],
   "source": [
    "c = 'COLE_CARACTER'\n",
    "print(data_2005[c].value_counts().sort_index().index)\n",
    "print(data_2005[c].value_counts().sort_index())\n",
    "print(missing_data(data_2005[c]))"
   ]
  },
  {
   "cell_type": "code",
   "execution_count": 60,
   "metadata": {
    "collapsed": false,
    "scrolled": true
   },
   "outputs": [
    {
     "name": "stdout",
     "output_type": "stream",
     "text": [
      "Float64Index([ 1.0,  2.0,  3.0,  4.0,  5.0,  6.0,  7.0,  8.0,  9.0, 10.0, 11.0,\n",
      "              12.0, 13.0, 14.0, 15.0, 16.0, 99.0],\n",
      "             dtype='float64')\n",
      "1.0     2646\n",
      "2.0       21\n",
      "3.0      127\n",
      "4.0        6\n",
      "5.0        3\n",
      "6.0        8\n",
      "7.0        8\n",
      "8.0       16\n",
      "9.0       28\n",
      "10.0       9\n",
      "11.0     755\n",
      "12.0      17\n",
      "13.0      24\n",
      "14.0       4\n",
      "15.0       8\n",
      "16.0       7\n",
      "99.0    1330\n",
      "Name: ESTU_ETNIA, dtype: int64\n",
      "Elementos null/NaN 67825\n",
      "__________________\n",
      "Elementos diferentes de null/NaN: 5017\n",
      "__________________\n",
      "(5017,)\n",
      "None\n"
     ]
    }
   ],
   "source": [
    "c = 'ESTU_ETNIA'\n",
    "print(data_2005[c].value_counts().sort_index().index)\n",
    "print(data_2005[c].value_counts().sort_index())\n",
    "print(missing_data(data_2005[c]))"
   ]
  },
  {
   "cell_type": "code",
   "execution_count": 61,
   "metadata": {
    "collapsed": false
   },
   "outputs": [
    {
     "name": "stdout",
     "output_type": "stream",
     "text": [
      "Float64Index([], dtype='float64')\n",
      "Series([], Name: FAMI_LEE_ESCRIBE_PADRE, dtype: int64)\n",
      "Elementos null/NaN 72842\n",
      "__________________\n",
      "Elementos diferentes de null/NaN: 0\n",
      "__________________\n",
      "(0,)\n",
      "None\n"
     ]
    }
   ],
   "source": [
    "c = 'FAMI_LEE_ESCRIBE_PADRE'\n",
    "print(data_2005[c].value_counts().sort_index().index)\n",
    "print(data_2005[c].value_counts().sort_index())\n",
    "print(missing_data(data_2005[c]))"
   ]
  },
  {
   "cell_type": "code",
   "execution_count": 62,
   "metadata": {
    "collapsed": true
   },
   "outputs": [],
   "source": [
    "data_2005 = data_2005.drop(['FAMI_LEE_ESCRIBE_PADRE'], axis=1)"
   ]
  },
  {
   "cell_type": "code",
   "execution_count": 63,
   "metadata": {
    "collapsed": false,
    "scrolled": true
   },
   "outputs": [
    {
     "name": "stdout",
     "output_type": "stream",
     "text": [
      "Float64Index([], dtype='float64')\n",
      "Series([], Name: FAMI_LEE_ESCRIBE_MADRE, dtype: int64)\n",
      "Elementos null/NaN 72842\n",
      "__________________\n",
      "Elementos diferentes de null/NaN: 0\n",
      "__________________\n",
      "(0,)\n",
      "None\n"
     ]
    }
   ],
   "source": [
    "c = 'FAMI_LEE_ESCRIBE_MADRE'\n",
    "print(data_2005[c].value_counts().sort_index().index)\n",
    "print(data_2005[c].value_counts().sort_index())\n",
    "print(missing_data(data_2005[c]))"
   ]
  },
  {
   "cell_type": "code",
   "execution_count": 64,
   "metadata": {
    "collapsed": true
   },
   "outputs": [],
   "source": [
    "data_2005 = data_2005.drop(['FAMI_LEE_ESCRIBE_MADRE'], axis=1)"
   ]
  },
  {
   "cell_type": "code",
   "execution_count": 65,
   "metadata": {
    "collapsed": false
   },
   "outputs": [
    {
     "name": "stdout",
     "output_type": "stream",
     "text": [
      "Float64Index([], dtype='float64')\n",
      "Series([], Name: FAMI_EDUCA_PADRE, dtype: int64)\n",
      "Elementos null/NaN 72842\n",
      "__________________\n",
      "Elementos diferentes de null/NaN: 0\n",
      "__________________\n",
      "(0,)\n",
      "None\n"
     ]
    }
   ],
   "source": [
    "c = 'FAMI_EDUCA_PADRE'\n",
    "print(data_2005[c].value_counts().sort_index().index)\n",
    "print(data_2005[c].value_counts().sort_index())\n",
    "print(missing_data(data_2005[c]))"
   ]
  },
  {
   "cell_type": "code",
   "execution_count": 66,
   "metadata": {
    "collapsed": true
   },
   "outputs": [],
   "source": [
    "data_2005 = data_2005.drop(['FAMI_EDUCA_PADRE'], axis=1)"
   ]
  },
  {
   "cell_type": "code",
   "execution_count": 67,
   "metadata": {
    "collapsed": false
   },
   "outputs": [
    {
     "name": "stdout",
     "output_type": "stream",
     "text": [
      "Float64Index([], dtype='float64')\n",
      "Series([], Name: FAMI_EDUCA_MADRE, dtype: int64)\n",
      "Elementos null/NaN 72842\n",
      "__________________\n",
      "Elementos diferentes de null/NaN: 0\n",
      "__________________\n",
      "(0,)\n",
      "None\n"
     ]
    }
   ],
   "source": [
    "c = 'FAMI_EDUCA_MADRE'\n",
    "print(data_2005[c].value_counts().sort_index().index)\n",
    "print(data_2005[c].value_counts().sort_index())\n",
    "print(missing_data(data_2005[c]))"
   ]
  },
  {
   "cell_type": "code",
   "execution_count": 68,
   "metadata": {
    "collapsed": true
   },
   "outputs": [],
   "source": [
    "data_2005 = data_2005.drop(['FAMI_EDUCA_MADRE'], axis=1)"
   ]
  },
  {
   "cell_type": "code",
   "execution_count": 69,
   "metadata": {
    "collapsed": false
   },
   "outputs": [
    {
     "name": "stdout",
     "output_type": "stream",
     "text": [
      "Float64Index([], dtype='float64')\n",
      "Series([], Name: FAMI_OCUPA_PADRE, dtype: int64)\n",
      "Elementos null/NaN 72842\n",
      "__________________\n",
      "Elementos diferentes de null/NaN: 0\n",
      "__________________\n",
      "(0,)\n",
      "None\n"
     ]
    }
   ],
   "source": [
    "c = 'FAMI_OCUPA_PADRE'\n",
    "print(data_2005[c].value_counts().sort_index().index)\n",
    "print(data_2005[c].value_counts().sort_index())\n",
    "print(missing_data(data_2005[c]))"
   ]
  },
  {
   "cell_type": "code",
   "execution_count": 70,
   "metadata": {
    "collapsed": true
   },
   "outputs": [],
   "source": [
    "data_2005 = data_2005.drop(['FAMI_OCUPA_PADRE'], axis=1)"
   ]
  },
  {
   "cell_type": "code",
   "execution_count": 71,
   "metadata": {
    "collapsed": false
   },
   "outputs": [
    {
     "name": "stdout",
     "output_type": "stream",
     "text": [
      "Float64Index([], dtype='float64')\n",
      "Series([], Name: FAMI_OCUPA_MADRE, dtype: int64)\n",
      "Elementos null/NaN 72842\n",
      "__________________\n",
      "Elementos diferentes de null/NaN: 0\n",
      "__________________\n",
      "(0,)\n",
      "None\n"
     ]
    }
   ],
   "source": [
    "c = 'FAMI_OCUPA_MADRE'\n",
    "print(data_2005[c].value_counts().sort_index().index)\n",
    "print(data_2005[c].value_counts().sort_index())\n",
    "print(missing_data(data_2005[c]))"
   ]
  },
  {
   "cell_type": "code",
   "execution_count": 72,
   "metadata": {
    "collapsed": true
   },
   "outputs": [],
   "source": [
    "data_2005 = data_2005.drop(['FAMI_OCUPA_MADRE'], axis=1)"
   ]
  },
  {
   "cell_type": "code",
   "execution_count": 73,
   "metadata": {
    "collapsed": false
   },
   "outputs": [
    {
     "name": "stdout",
     "output_type": "stream",
     "text": [
      "Float64Index([], dtype='float64')\n",
      "Series([], Name: FAMI_NUM_HERMANOS, dtype: int64)\n",
      "Elementos null/NaN 72842\n",
      "__________________\n",
      "Elementos diferentes de null/NaN: 0\n",
      "__________________\n",
      "(0,)\n",
      "None\n"
     ]
    }
   ],
   "source": [
    "c = 'FAMI_NUM_HERMANOS'\n",
    "print(data_2005[c].value_counts().sort_index().index)\n",
    "print(data_2005[c].value_counts().sort_index())\n",
    "print(missing_data(data_2005[c]))"
   ]
  },
  {
   "cell_type": "code",
   "execution_count": 74,
   "metadata": {
    "collapsed": true
   },
   "outputs": [],
   "source": [
    "data_2005 = data_2005.drop(['FAMI_NUM_HERMANOS'], axis=1)"
   ]
  },
  {
   "cell_type": "code",
   "execution_count": 75,
   "metadata": {
    "collapsed": false
   },
   "outputs": [
    {
     "name": "stdout",
     "output_type": "stream",
     "text": [
      "Float64Index([], dtype='float64')\n",
      "Series([], Name: FAMI_EDUCA_HERMANO, dtype: int64)\n",
      "Elementos null/NaN 72842\n",
      "__________________\n",
      "Elementos diferentes de null/NaN: 0\n",
      "__________________\n",
      "(0,)\n",
      "None\n"
     ]
    }
   ],
   "source": [
    "c = 'FAMI_EDUCA_HERMANO'\n",
    "print(data_2005[c].value_counts().sort_index().index)\n",
    "print(data_2005[c].value_counts().sort_index())\n",
    "print(missing_data(data_2005[c]))"
   ]
  },
  {
   "cell_type": "code",
   "execution_count": 76,
   "metadata": {
    "collapsed": true
   },
   "outputs": [],
   "source": [
    "data_2005 = data_2005.drop(['FAMI_EDUCA_HERMANO'], axis=1)"
   ]
  },
  {
   "cell_type": "code",
   "execution_count": 77,
   "metadata": {
    "collapsed": false
   },
   "outputs": [
    {
     "name": "stdout",
     "output_type": "stream",
     "text": [
      "Float64Index([], dtype='float64')\n",
      "Series([], Name: FAMI_HERMANOS_ESTUDIAN, dtype: int64)\n",
      "Elementos null/NaN 72842\n",
      "__________________\n",
      "Elementos diferentes de null/NaN: 0\n",
      "__________________\n",
      "(0,)\n",
      "None\n"
     ]
    }
   ],
   "source": [
    "c = 'FAMI_HERMANOS_ESTUDIAN'\n",
    "print(data_2005[c].value_counts().sort_index().index)\n",
    "print(data_2005[c].value_counts().sort_index())\n",
    "print(missing_data(data_2005[c]))"
   ]
  },
  {
   "cell_type": "code",
   "execution_count": 78,
   "metadata": {
    "collapsed": true
   },
   "outputs": [],
   "source": [
    "data_2005 = data_2005.drop(['FAMI_HERMANOS_ESTUDIAN'], axis=1)"
   ]
  },
  {
   "cell_type": "code",
   "execution_count": 79,
   "metadata": {
    "collapsed": false
   },
   "outputs": [
    {
     "name": "stdout",
     "output_type": "stream",
     "text": [
      "Float64Index([], dtype='float64')\n",
      "Series([], Name: FAMI_ESTRATO_VIVIENDA, dtype: int64)\n",
      "Elementos null/NaN 72842\n",
      "__________________\n",
      "Elementos diferentes de null/NaN: 0\n",
      "__________________\n",
      "(0,)\n",
      "None\n"
     ]
    }
   ],
   "source": [
    "c = 'FAMI_ESTRATO_VIVIENDA'\n",
    "print(data_2005[c].value_counts().sort_index().index)\n",
    "print(data_2005[c].value_counts().sort_index())\n",
    "print(missing_data(data_2005[c]))"
   ]
  },
  {
   "cell_type": "code",
   "execution_count": 80,
   "metadata": {
    "collapsed": true
   },
   "outputs": [],
   "source": [
    "data_2005 = data_2005.drop(['FAMI_ESTRATO_VIVIENDA'], axis=1)"
   ]
  },
  {
   "cell_type": "code",
   "execution_count": 81,
   "metadata": {
    "collapsed": false
   },
   "outputs": [
    {
     "name": "stdout",
     "output_type": "stream",
     "text": [
      "Float64Index([], dtype='float64')\n",
      "Series([], Name: FAMI_NIVEL_SISBEN, dtype: int64)\n",
      "Elementos null/NaN 72842\n",
      "__________________\n",
      "Elementos diferentes de null/NaN: 0\n",
      "__________________\n",
      "(0,)\n",
      "None\n"
     ]
    }
   ],
   "source": [
    "c = 'FAMI_NIVEL_SISBEN'\n",
    "print(data_2005[c].value_counts().sort_index().index)\n",
    "print(data_2005[c].value_counts().sort_index())\n",
    "print(missing_data(data_2005[c]))"
   ]
  },
  {
   "cell_type": "code",
   "execution_count": 82,
   "metadata": {
    "collapsed": true
   },
   "outputs": [],
   "source": [
    "data_2005 = data_2005.drop(['FAMI_NIVEL_SISBEN'], axis=1)"
   ]
  },
  {
   "cell_type": "code",
   "execution_count": 83,
   "metadata": {
    "collapsed": false
   },
   "outputs": [
    {
     "name": "stdout",
     "output_type": "stream",
     "text": [
      "Float64Index([], dtype='float64')\n",
      "Series([], Name: FAMI_PERSONAS_HOGAR, dtype: int64)\n",
      "Elementos null/NaN 72842\n",
      "__________________\n",
      "Elementos diferentes de null/NaN: 0\n",
      "__________________\n",
      "(0,)\n",
      "None\n"
     ]
    }
   ],
   "source": [
    "c = 'FAMI_PERSONAS_HOGAR'\n",
    "print(data_2005[c].value_counts().sort_index().index)\n",
    "print(data_2005[c].value_counts().sort_index())\n",
    "print(missing_data(data_2005[c]))"
   ]
  },
  {
   "cell_type": "code",
   "execution_count": 84,
   "metadata": {
    "collapsed": true
   },
   "outputs": [],
   "source": [
    "data_2005 = data_2005.drop(['FAMI_PERSONAS_HOGAR'], axis=1)"
   ]
  },
  {
   "cell_type": "code",
   "execution_count": 85,
   "metadata": {
    "collapsed": false
   },
   "outputs": [
    {
     "name": "stdout",
     "output_type": "stream",
     "text": [
      "Float64Index([], dtype='float64')\n",
      "Series([], Name: FAMI_PISOSHOGAR, dtype: int64)\n",
      "Elementos null/NaN 72842\n",
      "__________________\n",
      "Elementos diferentes de null/NaN: 0\n",
      "__________________\n",
      "(0,)\n",
      "None\n"
     ]
    }
   ],
   "source": [
    "c = 'FAMI_PISOSHOGAR'\n",
    "print(data_2005[c].value_counts().sort_index().index)\n",
    "print(data_2005[c].value_counts().sort_index())\n",
    "print(missing_data(data_2005[c]))"
   ]
  },
  {
   "cell_type": "code",
   "execution_count": 86,
   "metadata": {
    "collapsed": true
   },
   "outputs": [],
   "source": [
    "data_2005 = data_2005.drop(['FAMI_PISOSHOGAR'], axis=1)"
   ]
  },
  {
   "cell_type": "code",
   "execution_count": 87,
   "metadata": {
    "collapsed": false,
    "scrolled": true
   },
   "outputs": [
    {
     "name": "stdout",
     "output_type": "stream",
     "text": [
      "Float64Index([], dtype='float64')\n",
      "Series([], Name: FAMI_CUARTOS_HOGAR, dtype: int64)\n",
      "Elementos null/NaN 72842\n",
      "__________________\n",
      "Elementos diferentes de null/NaN: 0\n",
      "__________________\n",
      "(0,)\n",
      "None\n"
     ]
    }
   ],
   "source": [
    "c = 'FAMI_CUARTOS_HOGAR'\n",
    "print(data_2005[c].value_counts().sort_index().index)\n",
    "print(data_2005[c].value_counts().sort_index())\n",
    "print(missing_data(data_2005[c]))"
   ]
  },
  {
   "cell_type": "code",
   "execution_count": 88,
   "metadata": {
    "collapsed": true
   },
   "outputs": [],
   "source": [
    "data_2005 = data_2005.drop(['FAMI_CUARTOS_HOGAR'], axis=1)"
   ]
  },
  {
   "cell_type": "code",
   "execution_count": 89,
   "metadata": {
    "collapsed": false
   },
   "outputs": [
    {
     "name": "stdout",
     "output_type": "stream",
     "text": [
      "Float64Index([], dtype='float64')\n",
      "Series([], Name: FAMI_DORMITORIOS_HOGAR, dtype: int64)\n",
      "Elementos null/NaN 72842\n",
      "__________________\n",
      "Elementos diferentes de null/NaN: 0\n",
      "__________________\n",
      "(0,)\n",
      "None\n"
     ]
    }
   ],
   "source": [
    "c = 'FAMI_DORMITORIOS_HOGAR'\n",
    "print(data_2005[c].value_counts().sort_index().index)\n",
    "print(data_2005[c].value_counts().sort_index())\n",
    "print(missing_data(data_2005[c]))"
   ]
  },
  {
   "cell_type": "code",
   "execution_count": 90,
   "metadata": {
    "collapsed": true
   },
   "outputs": [],
   "source": [
    "data_2005 = data_2005.drop(['FAMI_DORMITORIOS_HOGAR'], axis=1)"
   ]
  },
  {
   "cell_type": "code",
   "execution_count": 91,
   "metadata": {
    "collapsed": false
   },
   "outputs": [
    {
     "name": "stdout",
     "output_type": "stream",
     "text": [
      "Float64Index([], dtype='float64')\n",
      "Series([], Name: FAMI_COMPUTADOR, dtype: int64)\n",
      "Elementos null/NaN 72842\n",
      "__________________\n",
      "Elementos diferentes de null/NaN: 0\n",
      "__________________\n",
      "(0,)\n",
      "None\n"
     ]
    }
   ],
   "source": [
    "c = 'FAMI_COMPUTADOR'\n",
    "print(data_2005[c].value_counts().sort_index().index)\n",
    "print(data_2005[c].value_counts().sort_index())\n",
    "print(missing_data(data_2005[c]))"
   ]
  },
  {
   "cell_type": "code",
   "execution_count": 92,
   "metadata": {
    "collapsed": true
   },
   "outputs": [],
   "source": [
    "data_2005 = data_2005.drop(['FAMI_COMPUTADOR'], axis=1)"
   ]
  },
  {
   "cell_type": "code",
   "execution_count": 93,
   "metadata": {
    "collapsed": false
   },
   "outputs": [
    {
     "name": "stdout",
     "output_type": "stream",
     "text": [
      "Float64Index([], dtype='float64')\n",
      "Series([], Name: FAMI_INGRESO_FMILIAR_MENSUAL, dtype: int64)\n",
      "Elementos null/NaN 72842\n",
      "__________________\n",
      "Elementos diferentes de null/NaN: 0\n",
      "__________________\n",
      "(0,)\n",
      "None\n"
     ]
    }
   ],
   "source": [
    "c = 'FAMI_INGRESO_FMILIAR_MENSUAL'\n",
    "print(data_2005[c].value_counts().sort_index().index)\n",
    "print(data_2005[c].value_counts().sort_index())\n",
    "print(missing_data(data_2005[c]))"
   ]
  },
  {
   "cell_type": "code",
   "execution_count": 94,
   "metadata": {
    "collapsed": true
   },
   "outputs": [],
   "source": [
    "data_2005 = data_2005.drop(['FAMI_INGRESO_FMILIAR_MENSUAL'], axis=1)"
   ]
  },
  {
   "cell_type": "code",
   "execution_count": 95,
   "metadata": {
    "collapsed": false
   },
   "outputs": [
    {
     "name": "stdout",
     "output_type": "stream",
     "text": [
      "Int64Index([0, 1, 2, 3, 4, 5, 6, 7], dtype='int64')\n",
      "0    30838\n",
      "1    12749\n",
      "2     7840\n",
      "3     5994\n",
      "4     4356\n",
      "5     3380\n",
      "6     2523\n",
      "7     5162\n",
      "Name: COLE_VALOR_PENSION, dtype: int64\n",
      "Elementos null/NaN 0\n",
      "__________________\n",
      "Elementos diferentes de null/NaN: 72842\n",
      "__________________\n",
      "(72842,)\n",
      "None\n"
     ]
    }
   ],
   "source": [
    "c = 'COLE_VALOR_PENSION'\n",
    "print(data_2005[c].value_counts().sort_index().index)\n",
    "print(data_2005[c].value_counts().sort_index())\n",
    "print(missing_data(data_2005[c]))"
   ]
  },
  {
   "cell_type": "code",
   "execution_count": 96,
   "metadata": {
    "collapsed": false
   },
   "outputs": [
    {
     "name": "stdout",
     "output_type": "stream",
     "text": [
      "Float64Index([], dtype='float64')\n",
      "Series([], Name: ESTU_CARRDESEADA_TIPO, dtype: int64)\n",
      "Elementos null/NaN 72842\n",
      "__________________\n",
      "Elementos diferentes de null/NaN: 0\n",
      "__________________\n",
      "(0,)\n",
      "None\n"
     ]
    }
   ],
   "source": [
    "c = 'ESTU_CARRDESEADA_TIPO'\n",
    "print(data_2005[c].value_counts().sort_index().index)\n",
    "print(data_2005[c].value_counts().sort_index())\n",
    "print(missing_data(data_2005[c]))"
   ]
  },
  {
   "cell_type": "code",
   "execution_count": 97,
   "metadata": {
    "collapsed": true
   },
   "outputs": [],
   "source": [
    "data_2005 = data_2005.drop(['ESTU_CARRDESEADA_TIPO'], axis=1)"
   ]
  },
  {
   "cell_type": "code",
   "execution_count": 98,
   "metadata": {
    "collapsed": false
   },
   "outputs": [
    {
     "name": "stdout",
     "output_type": "stream",
     "text": [
      "Float64Index([], dtype='float64')\n",
      "Series([], Name: ESTU_CARRDESEADA_NUCLEO, dtype: int64)\n",
      "Elementos null/NaN 72842\n",
      "__________________\n",
      "Elementos diferentes de null/NaN: 0\n",
      "__________________\n",
      "(0,)\n",
      "None\n"
     ]
    }
   ],
   "source": [
    "c = 'ESTU_CARRDESEADA_NUCLEO'\n",
    "print(data_2005[c].value_counts().sort_index().index)\n",
    "print(data_2005[c].value_counts().sort_index())\n",
    "print(missing_data(data_2005[c]))"
   ]
  },
  {
   "cell_type": "code",
   "execution_count": 99,
   "metadata": {
    "collapsed": true
   },
   "outputs": [],
   "source": [
    "data_2005 = data_2005.drop(['ESTU_CARRDESEADA_NUCLEO'], axis=1)"
   ]
  },
  {
   "cell_type": "code",
   "execution_count": 100,
   "metadata": {
    "collapsed": false,
    "scrolled": true
   },
   "outputs": [
    {
     "name": "stdout",
     "output_type": "stream",
     "text": [
      "Float64Index([1101.0, 1102.0, 1103.0, 1104.0, 1105.0, 1106.0, 1107.0, 1108.0,\n",
      "              1110.0, 1111.0,\n",
      "              ...\n",
      "              4705.0, 4810.0, 4811.0, 4826.0, 5801.0, 5802.0, 9103.0, 9104.0,\n",
      "              9105.0, 9107.0],\n",
      "             dtype='float64', length=201)\n",
      "1101.0     3567\n",
      "1102.0      182\n",
      "1103.0      155\n",
      "1104.0      696\n",
      "1105.0      226\n",
      "1106.0      134\n",
      "1107.0       13\n",
      "1108.0       56\n",
      "1110.0     1411\n",
      "1111.0      844\n",
      "1112.0      302\n",
      "1113.0       47\n",
      "1114.0      129\n",
      "1115.0      111\n",
      "1117.0       55\n",
      "1118.0       38\n",
      "1119.0      148\n",
      "1120.0       41\n",
      "1121.0       32\n",
      "1122.0      220\n",
      "1123.0        1\n",
      "1125.0        3\n",
      "1201.0     1516\n",
      "1202.0       57\n",
      "1203.0    24344\n",
      "1204.0      210\n",
      "1205.0       62\n",
      "1206.0     6135\n",
      "1207.0      163\n",
      "1208.0      552\n",
      "          ...  \n",
      "2832.0       39\n",
      "2833.0       58\n",
      "2834.0       22\n",
      "2836.0        2\n",
      "2837.0       12\n",
      "2838.0       92\n",
      "2839.0        6\n",
      "2840.0        2\n",
      "2842.0        1\n",
      "2847.0       38\n",
      "2848.0       52\n",
      "2849.0       52\n",
      "2901.0       23\n",
      "2902.0       18\n",
      "2903.0        7\n",
      "3102.0        3\n",
      "3103.0       19\n",
      "3204.0       55\n",
      "3826.0       25\n",
      "4111.0        2\n",
      "4705.0        3\n",
      "4810.0       52\n",
      "4811.0      157\n",
      "4826.0       28\n",
      "5801.0       21\n",
      "5802.0       10\n",
      "9103.0      346\n",
      "9104.0      434\n",
      "9105.0       50\n",
      "9107.0       41\n",
      "Name: ESTU_IES_COD_DESEADA, dtype: int64\n",
      "Elementos null/NaN 12348\n",
      "__________________\n",
      "Elementos diferentes de null/NaN: 60494\n",
      "__________________\n",
      "(60494,)\n",
      "None\n"
     ]
    }
   ],
   "source": [
    "c = 'ESTU_IES_COD_DESEADA'\n",
    "print(data_2005[c].value_counts().sort_index().index)\n",
    "print(data_2005[c].value_counts().sort_index())\n",
    "print(missing_data(data_2005[c]))"
   ]
  },
  {
   "cell_type": "code",
   "execution_count": 101,
   "metadata": {
    "collapsed": false,
    "scrolled": true
   },
   "outputs": [
    {
     "name": "stdout",
     "output_type": "stream",
     "text": [
      "Float64Index([ 5001.0,  5034.0,  5045.0,  5129.0,  5148.0,  5154.0,  5266.0,\n",
      "               5579.0,  5615.0,  5631.0,  5686.0,  5837.0,  8001.0, 11001.0,\n",
      "              13001.0, 15001.0, 15238.0, 15759.0, 17001.0, 18001.0, 19001.0,\n",
      "              19573.0, 20001.0, 20011.0, 23001.0, 25175.0, 25269.0, 25290.0,\n",
      "              25307.0, 25843.0, 27001.0, 41001.0, 44001.0, 47001.0, 47189.0,\n",
      "              50001.0, 52001.0, 54001.0, 54498.0, 54518.0, 63001.0, 66001.0,\n",
      "              66682.0, 68001.0, 68081.0, 68679.0, 68755.0, 70001.0, 73001.0,\n",
      "              73268.0, 76001.0, 76109.0, 76520.0, 76834.0, 85001.0, 91001.0],\n",
      "             dtype='float64')\n",
      "5001.0      2601\n",
      "5034.0         5\n",
      "5045.0         1\n",
      "5129.0         9\n",
      "5148.0         9\n",
      "5154.0        48\n",
      "5266.0        11\n",
      "5579.0         1\n",
      "5615.0        47\n",
      "5631.0         4\n",
      "5686.0         6\n",
      "5837.0        28\n",
      "8001.0       334\n",
      "11001.0    10696\n",
      "13001.0      207\n",
      "15001.0      152\n",
      "15238.0       13\n",
      "15759.0       56\n",
      "17001.0      810\n",
      "18001.0      111\n",
      "19001.0     1475\n",
      "19573.0        5\n",
      "20001.0       41\n",
      "20011.0        1\n",
      "23001.0       50\n",
      "25175.0      180\n",
      "25269.0        7\n",
      "25290.0      118\n",
      "25307.0       88\n",
      "25843.0       40\n",
      "27001.0       38\n",
      "41001.0      165\n",
      "44001.0        1\n",
      "47001.0       36\n",
      "47189.0        2\n",
      "50001.0      171\n",
      "52001.0     6646\n",
      "54001.0      243\n",
      "54498.0        6\n",
      "54518.0       57\n",
      "63001.0      628\n",
      "66001.0     1134\n",
      "66682.0       38\n",
      "68001.0      464\n",
      "68081.0        2\n",
      "68679.0       44\n",
      "68755.0        2\n",
      "70001.0       16\n",
      "73001.0      300\n",
      "73268.0        3\n",
      "76001.0    30976\n",
      "76109.0      220\n",
      "76520.0      704\n",
      "76834.0     1429\n",
      "85001.0       12\n",
      "91001.0        3\n",
      "Name: ESTU_IES_COD_MPIO_DESEADA, dtype: int64\n",
      "Elementos null/NaN 12348\n",
      "__________________\n",
      "Elementos diferentes de null/NaN: 60494\n",
      "__________________\n",
      "(60494,)\n",
      "None\n"
     ]
    }
   ],
   "source": [
    "c = 'ESTU_IES_COD_MPIO_DESEADA'\n",
    "print(data_2005[c].value_counts().sort_index().index)\n",
    "print(data_2005[c].value_counts().sort_index())\n",
    "print(missing_data(data_2005[c]))"
   ]
  },
  {
   "cell_type": "code",
   "execution_count": 102,
   "metadata": {
    "collapsed": false,
    "scrolled": true
   },
   "outputs": [
    {
     "name": "stdout",
     "output_type": "stream",
     "text": [
      "Index(['AMAZONAS', 'ANTIOQUIA', 'ATLÃNTICO', 'BOGOTÃ', 'BOLÃVAR', 'BOYACÃ',\n",
      "       'CALDAS', 'CAQUETÃ', 'CASANARE', 'CAUCA', 'CESAR', 'CHOCÃ',\n",
      "       'CUNDINAMARCA', 'CÃRDOBA', 'HUILA', 'LA GUAJIRA', 'MAGDALENA', 'META',\n",
      "       'NARIÃO', 'NORTE SANTANDER', 'QUINDÃO', 'RISARALDA', 'SANTANDER',\n",
      "       'SUCRE', 'TOLIMA', 'VALLE'],\n",
      "      dtype='object')\n",
      "AMAZONAS               3\n",
      "ANTIOQUIA           2770\n",
      "ATLÃNTICO           334\n",
      "BOGOTÃ            10696\n",
      "BOLÃVAR             207\n",
      "BOYACÃ              221\n",
      "CALDAS               810\n",
      "CAQUETÃ             111\n",
      "CASANARE              12\n",
      "CAUCA               1480\n",
      "CESAR                 42\n",
      "CHOCÃ                38\n",
      "CUNDINAMARCA         433\n",
      "CÃRDOBA              50\n",
      "HUILA                165\n",
      "LA GUAJIRA             1\n",
      "MAGDALENA             38\n",
      "META                 171\n",
      "NARIÃO             6646\n",
      "NORTE SANTANDER      306\n",
      "QUINDÃO             628\n",
      "RISARALDA           1172\n",
      "SANTANDER            512\n",
      "SUCRE                 16\n",
      "TOLIMA               303\n",
      "VALLE              33329\n",
      "Name: ESTU_IES_DEPT_DESEADA, dtype: int64\n",
      "Elementos null/NaN 12348\n",
      "__________________\n",
      "Elementos diferentes de null/NaN: 60494\n",
      "__________________\n",
      "(60494,)\n",
      "None\n"
     ]
    }
   ],
   "source": [
    "c = 'ESTU_IES_DEPT_DESEADA'\n",
    "print(data_2005[c].value_counts().sort_index().index)\n",
    "print(data_2005[c].value_counts().sort_index())\n",
    "print(missing_data(data_2005[c]))"
   ]
  },
  {
   "cell_type": "code",
   "execution_count": 103,
   "metadata": {
    "collapsed": true
   },
   "outputs": [],
   "source": [
    "c = 'ESTU_IES_DEPT_DESEADA'\n",
    "data_2005[c] = data_2005[c].replace('ATLÃNTICO', 'ATLANTICO')\n",
    "data_2005[c] = data_2005[c].replace('BOGOTÃ', 'BOGOTA')\n",
    "data_2005[c] = data_2005[c].replace('BOLÃVAR', 'BOLIVAR')\n",
    "data_2005[c] = data_2005[c].replace('BOYACÃ', 'BOYACA')\n",
    "data_2005[c] = data_2005[c].replace('CAQUETÃ', 'CAQUETA')\n",
    "data_2005[c] = data_2005[c].replace('CHOCÃ', 'CHOCO')\n",
    "data_2005[c] = data_2005[c].replace('CÃRDOBA', 'CORDOBA')\n",
    "data_2005[c] = data_2005[c].replace('NARIÃO', 'NARIÑO')\n",
    "data_2005[c] = data_2005[c].replace('QUINDÃO', 'QUINDIO')"
   ]
  },
  {
   "cell_type": "code",
   "execution_count": 104,
   "metadata": {
    "collapsed": false
   },
   "outputs": [
    {
     "name": "stdout",
     "output_type": "stream",
     "text": [
      "Float64Index([1.0, 2.0, 3.0, 4.0, 5.0, 6.0, 7.0, 8.0], dtype='float64')\n",
      "1.0     1503\n",
      "2.0     9606\n",
      "3.0    30279\n",
      "4.0     5358\n",
      "5.0     4938\n",
      "6.0     3078\n",
      "7.0     3247\n",
      "8.0     3499\n",
      "Name: ESTU_RAZONINSTITUTO, dtype: int64\n",
      "Elementos null/NaN 11334\n",
      "__________________\n",
      "Elementos diferentes de null/NaN: 61508\n",
      "__________________\n",
      "(61508,)\n",
      "None\n"
     ]
    }
   ],
   "source": [
    "c = 'ESTU_RAZONINSTITUTO'\n",
    "print(data_2005[c].value_counts().sort_index().index)\n",
    "print(data_2005[c].value_counts().sort_index())\n",
    "print(missing_data(data_2005[c]))"
   ]
  },
  {
   "cell_type": "code",
   "execution_count": 105,
   "metadata": {
    "collapsed": false,
    "scrolled": true
   },
   "outputs": [
    {
     "name": "stdout",
     "output_type": "stream",
     "text": [
      "Float64Index([    4.0,     5.0,    23.0,    36.0,    49.0,    50.0,    61.0,\n",
      "                 63.0,    68.0,    74.0,\n",
      "              ...\n",
      "              18391.0, 18398.0, 18409.0, 18414.0, 18415.0, 18417.0, 18421.0,\n",
      "              18423.0, 18492.0, 18493.0],\n",
      "             dtype='float64', length=2373)\n",
      "4.0          1\n",
      "5.0         14\n",
      "23.0         5\n",
      "36.0         1\n",
      "49.0         8\n",
      "50.0         1\n",
      "61.0         1\n",
      "63.0         2\n",
      "68.0        26\n",
      "74.0         4\n",
      "87.0        22\n",
      "89.0         2\n",
      "102.0        4\n",
      "103.0        6\n",
      "105.0       14\n",
      "106.0        1\n",
      "107.0        1\n",
      "108.0        7\n",
      "109.0       65\n",
      "110.0        4\n",
      "116.0       73\n",
      "117.0        6\n",
      "120.0        5\n",
      "122.0        2\n",
      "125.0        3\n",
      "128.0       15\n",
      "129.0       24\n",
      "130.0        2\n",
      "131.0       17\n",
      "133.0        4\n",
      "          ... \n",
      "18211.0      6\n",
      "18214.0      5\n",
      "18224.0      7\n",
      "18245.0      2\n",
      "18262.0      1\n",
      "18280.0      1\n",
      "18285.0      1\n",
      "18288.0    121\n",
      "18299.0      1\n",
      "18307.0     42\n",
      "18308.0     60\n",
      "18309.0     35\n",
      "18310.0    290\n",
      "18317.0      1\n",
      "18325.0    200\n",
      "18326.0     36\n",
      "18328.0     25\n",
      "18373.0      1\n",
      "18376.0      1\n",
      "18381.0      1\n",
      "18391.0      2\n",
      "18398.0      1\n",
      "18409.0     14\n",
      "18414.0      1\n",
      "18415.0      1\n",
      "18417.0      1\n",
      "18421.0      2\n",
      "18423.0      1\n",
      "18492.0     15\n",
      "18493.0    199\n",
      "Name: ESTU_CARRDESEADA_COD, dtype: int64\n",
      "Elementos null/NaN 13877\n",
      "__________________\n",
      "Elementos diferentes de null/NaN: 58965\n",
      "__________________\n",
      "(58965,)\n",
      "None\n"
     ]
    }
   ],
   "source": [
    "c = 'ESTU_CARRDESEADA_COD'\n",
    "print(data_2005[c].value_counts().sort_index().index)\n",
    "print(data_2005[c].value_counts().sort_index())\n",
    "print(missing_data(data_2005[c]))"
   ]
  },
  {
   "cell_type": "code",
   "execution_count": 106,
   "metadata": {
    "collapsed": false
   },
   "outputs": [
    {
     "name": "stdout",
     "output_type": "stream",
     "text": [
      "Float64Index([1.0, 2.0, 3.0, 4.0, 5.0, 6.0], dtype='float64')\n",
      "1.0    18746\n",
      "2.0    21862\n",
      "3.0     9738\n",
      "4.0     5428\n",
      "5.0     4482\n",
      "6.0     1395\n",
      "Name: ESTU_CARRDESEADA_RAZON, dtype: int64\n",
      "Elementos null/NaN 11191\n",
      "__________________\n",
      "Elementos diferentes de null/NaN: 61651\n",
      "__________________\n",
      "(61651,)\n",
      "None\n"
     ]
    }
   ],
   "source": [
    "c = 'ESTU_CARRDESEADA_RAZON'\n",
    "print(data_2005[c].value_counts().sort_index().index)\n",
    "print(data_2005[c].value_counts().sort_index())\n",
    "print(missing_data(data_2005[c]))"
   ]
  },
  {
   "cell_type": "markdown",
   "metadata": {},
   "source": [
    "### TARGETS"
   ]
  },
  {
   "cell_type": "code",
   "execution_count": 107,
   "metadata": {
    "collapsed": false,
    "scrolled": true
   },
   "outputs": [
    {
     "name": "stdout",
     "output_type": "stream",
     "text": [
      "Float64Index([  1.0,   2.0,   3.0,   4.0,   5.0,   6.0,   7.0,   8.0,   9.0,\n",
      "               10.0,\n",
      "              ...\n",
      "              961.0, 962.0, 963.0, 964.0, 965.0, 966.0, 967.0, 968.0, 969.0,\n",
      "              970.0],\n",
      "             dtype='float64', length=970)\n",
      "1.0      105\n",
      "2.0       96\n",
      "3.0       85\n",
      "4.0       89\n",
      "5.0       82\n",
      "6.0       89\n",
      "7.0       86\n",
      "8.0       84\n",
      "9.0       81\n",
      "10.0      83\n",
      "11.0      84\n",
      "12.0      80\n",
      "13.0      78\n",
      "14.0      73\n",
      "15.0      74\n",
      "16.0      79\n",
      "17.0      76\n",
      "18.0      78\n",
      "19.0      64\n",
      "20.0      77\n",
      "21.0      81\n",
      "22.0      66\n",
      "23.0      75\n",
      "24.0      62\n",
      "25.0      70\n",
      "26.0      57\n",
      "27.0      60\n",
      "28.0      64\n",
      "29.0      74\n",
      "30.0      66\n",
      "        ... \n",
      "941.0     82\n",
      "942.0     91\n",
      "943.0     98\n",
      "944.0     76\n",
      "945.0     83\n",
      "946.0    102\n",
      "947.0     87\n",
      "948.0     96\n",
      "949.0     90\n",
      "950.0     88\n",
      "951.0     85\n",
      "952.0     91\n",
      "953.0     97\n",
      "954.0     90\n",
      "955.0     96\n",
      "956.0     90\n",
      "957.0     88\n",
      "958.0     78\n",
      "959.0     97\n",
      "960.0     75\n",
      "961.0     94\n",
      "962.0     92\n",
      "963.0     99\n",
      "964.0     79\n",
      "965.0     85\n",
      "966.0     94\n",
      "967.0     78\n",
      "968.0     73\n",
      "969.0     56\n",
      "970.0     26\n",
      "Name: ESTU_PUESTO, dtype: int64\n",
      "Elementos null/NaN 326\n",
      "__________________\n",
      "Elementos diferentes de null/NaN: 72516\n",
      "__________________\n",
      "(72516,)\n",
      "None\n"
     ]
    }
   ],
   "source": [
    "c = 'ESTU_PUESTO'\n",
    "print(data_2005[c].value_counts().sort_index().index)\n",
    "print(data_2005[c].value_counts().sort_index())\n",
    "print(missing_data(data_2005[c]))"
   ]
  },
  {
   "cell_type": "code",
   "execution_count": 108,
   "metadata": {
    "collapsed": false,
    "scrolled": true
   },
   "outputs": [
    {
     "name": "stdout",
     "output_type": "stream",
     "text": [
      "Index(['-1', '17,47', '21,86', '29,35', '33,98', '37,45', '37,46', '40,31',\n",
      "       '42,77', '44,99', '47,03', '48,95', '50,79', '52,58', '54,35', '56,11',\n",
      "       '57,9', '59,73', '61,64', '63,67', '65,87', '68,33', '71,16', '74,61',\n",
      "       '79,21', '86,67', '91,03'],\n",
      "      dtype='object')\n",
      "-1          4\n",
      "17,47      36\n",
      "21,86     222\n",
      "29,35     914\n",
      "33,98    2299\n",
      "37,45    4401\n",
      "37,46       2\n",
      "40,31    6698\n",
      "42,77    8420\n",
      "44,99    8936\n",
      "47,03    8424\n",
      "48,95    7212\n",
      "50,79    5899\n",
      "52,58    4608\n",
      "54,35    3517\n",
      "56,11    2826\n",
      "57,9     2275\n",
      "59,73    1772\n",
      "61,64    1400\n",
      "63,67    1072\n",
      "65,87     808\n",
      "68,33     520\n",
      "71,16     315\n",
      "74,61     186\n",
      "79,21      59\n",
      "86,67      13\n",
      "91,03       4\n",
      "Name: PUNT_BIOLOGIA, dtype: int64\n",
      "Elementos null/NaN 0\n",
      "__________________\n",
      "Elementos diferentes de null/NaN: 72842\n",
      "__________________\n",
      "(72842,)\n",
      "None\n"
     ]
    }
   ],
   "source": [
    "c = 'PUNT_BIOLOGIA'\n",
    "print(data_2005[c].value_counts().sort_index().index)\n",
    "print(data_2005[c].value_counts().sort_index())\n",
    "print(missing_data(data_2005[c]))"
   ]
  },
  {
   "cell_type": "code",
   "execution_count": 109,
   "metadata": {
    "collapsed": false
   },
   "outputs": [],
   "source": [
    "for i in data_2005['PUNT_BIOLOGIA'].value_counts().sort_index().index:\n",
    "    if ',' in i:\n",
    "        data_2005['PUNT_BIOLOGIA'] = data_2005['PUNT_BIOLOGIA'].replace(i, i.replace(',', '.'))\n",
    "\n",
    "for i in data_2005['PUNT_BIOLOGIA'].value_counts().sort_index().index:\n",
    "    if type(i) == str:\n",
    "        data_2005['PUNT_BIOLOGIA'] = data_2005['PUNT_BIOLOGIA'].replace(i, float(i))"
   ]
  },
  {
   "cell_type": "code",
   "execution_count": 110,
   "metadata": {
    "collapsed": false,
    "scrolled": true
   },
   "outputs": [
    {
     "name": "stdout",
     "output_type": "stream",
     "text": [
      "Index(['-1', '12,61', '22,8', '29,33', '34,33', '38,49', '42,12', '45,37',\n",
      "       '48,38', '51,21', '53,92', '56,55', '59,16', '6,58', '61,77', '64,43',\n",
      "       '67,18', '70,07', '73,19', '76,63', '80,56', '85,29', '91,5'],\n",
      "      dtype='object')\n",
      "-1           1\n",
      "12,61      233\n",
      "22,8      1030\n",
      "29,33     2732\n",
      "34,33     5896\n",
      "38,49     8905\n",
      "42,12    11510\n",
      "45,37    11697\n",
      "48,38    10301\n",
      "51,21     7544\n",
      "53,92     5094\n",
      "56,55     2999\n",
      "59,16     1894\n",
      "6,58        25\n",
      "61,77     1108\n",
      "64,43      712\n",
      "67,18      479\n",
      "70,07      317\n",
      "73,19      156\n",
      "76,63      106\n",
      "80,56       66\n",
      "85,29       30\n",
      "91,5         7\n",
      "Name: PUNT_MATEMATICAS, dtype: int64\n",
      "Elementos null/NaN 0\n",
      "__________________\n",
      "Elementos diferentes de null/NaN: 72842\n",
      "__________________\n",
      "(72842,)\n",
      "None\n"
     ]
    }
   ],
   "source": [
    "c = 'PUNT_MATEMATICAS'\n",
    "print(data_2005[c].value_counts().sort_index().index)\n",
    "print(data_2005[c].value_counts().sort_index())\n",
    "print(missing_data(data_2005[c]))"
   ]
  },
  {
   "cell_type": "code",
   "execution_count": 111,
   "metadata": {
    "collapsed": true
   },
   "outputs": [],
   "source": [
    "for i in data_2005['PUNT_MATEMATICAS'].value_counts().sort_index().index:\n",
    "    if ',' in i:\n",
    "        data_2005['PUNT_MATEMATICAS'] = data_2005['PUNT_MATEMATICAS'].replace(i, i.replace(',', '.'))\n",
    "\n",
    "for i in data_2005['PUNT_MATEMATICAS'].value_counts().sort_index().index:\n",
    "    if type(i) == str:\n",
    "        data_2005['PUNT_MATEMATICAS'] = data_2005['PUNT_MATEMATICAS'].replace(i, float(i))"
   ]
  },
  {
   "cell_type": "code",
   "execution_count": 112,
   "metadata": {
    "collapsed": false,
    "scrolled": true
   },
   "outputs": [
    {
     "name": "stdout",
     "output_type": "stream",
     "text": [
      "Index(['-1', '12,45', '21,4', '26,96', '31,14', '34,59', '37,58', '40,27',\n",
      "       '42,76', '45,11', '47,37', '49,57', '51,74', '53,91', '56,11', '58,37',\n",
      "       '60,73', '63,23', '65,94', '68,95', '7,19', '72,41', '76,61', '82,19',\n",
      "       '91,16'],\n",
      "      dtype='object')\n",
      "-1         10\n",
      "12,45     131\n",
      "21,4      472\n",
      "26,96    1349\n",
      "31,14    2904\n",
      "34,59    4769\n",
      "37,58    6885\n",
      "40,27    8592\n",
      "42,76    9008\n",
      "45,11    9077\n",
      "47,37    7906\n",
      "49,57    6586\n",
      "51,74    4917\n",
      "53,91    3651\n",
      "56,11    2563\n",
      "58,37    1691\n",
      "60,73    1048\n",
      "63,23     701\n",
      "65,94     310\n",
      "68,95     157\n",
      "7,19       21\n",
      "72,41      72\n",
      "76,61      17\n",
      "82,19       4\n",
      "91,16       1\n",
      "Name: PUNT_FILOSOFIA, dtype: int64\n",
      "Elementos null/NaN 0\n",
      "__________________\n",
      "Elementos diferentes de null/NaN: 72842\n",
      "__________________\n",
      "(72842,)\n",
      "None\n"
     ]
    }
   ],
   "source": [
    "c = 'PUNT_FILOSOFIA'\n",
    "print(data_2005[c].value_counts().sort_index().index)\n",
    "print(data_2005[c].value_counts().sort_index())\n",
    "print(missing_data(data_2005[c]))"
   ]
  },
  {
   "cell_type": "code",
   "execution_count": 113,
   "metadata": {
    "collapsed": true
   },
   "outputs": [],
   "source": [
    "for i in data_2005['PUNT_FILOSOFIA'].value_counts().sort_index().index:\n",
    "    if ',' in i:\n",
    "        data_2005['PUNT_FILOSOFIA'] = data_2005['PUNT_FILOSOFIA'].replace(i, i.replace(',', '.'))\n",
    "\n",
    "for i in data_2005['PUNT_FILOSOFIA'].value_counts().sort_index().index:\n",
    "    if type(i) == str:\n",
    "        data_2005['PUNT_FILOSOFIA'] = data_2005['PUNT_FILOSOFIA'].replace(i, float(i))"
   ]
  },
  {
   "cell_type": "code",
   "execution_count": 114,
   "metadata": {
    "collapsed": false,
    "scrolled": true
   },
   "outputs": [
    {
     "name": "stdout",
     "output_type": "stream",
     "text": [
      "Index(['-1', '10,92', '100,6', '106,22', '16,62', '26,3', '32,31', '36,82',\n",
      "       '40,53', '43,75', '46,64', '49,3', '51,8', '54,2', '56,53', '58,83',\n",
      "       '61,12', '63,44', '65,82', '68,3', '70,93', '73,78', '76,95', '80,61',\n",
      "       '85,06', '90,99'],\n",
      "      dtype='object')\n",
      "-1            6\n",
      "10,92        36\n",
      "100,6         8\n",
      "106,22        2\n",
      "16,62       284\n",
      "26,3       1088\n",
      "32,31      2891\n",
      "36,82      5801\n",
      "40,53      9051\n",
      "43,75     10766\n",
      "46,64     11438\n",
      "49,3      10003\n",
      "51,8       7654\n",
      "54,2       5214\n",
      "56,53      3279\n",
      "58,83      1876\n",
      "61,12      1147\n",
      "63,44       754\n",
      "65,82       505\n",
      "68,3        326\n",
      "70,93       242\n",
      "73,78       179\n",
      "76,95       136\n",
      "80,61        75\n",
      "85,06        58\n",
      "90,99        23\n",
      "Name: PUNT_FISICA, dtype: int64\n",
      "Elementos null/NaN 0\n",
      "__________________\n",
      "Elementos diferentes de null/NaN: 72842\n",
      "__________________\n",
      "(72842,)\n",
      "None\n"
     ]
    }
   ],
   "source": [
    "c = 'PUNT_FISICA'\n",
    "print(data_2005[c].value_counts().sort_index().index)\n",
    "print(data_2005[c].value_counts().sort_index())\n",
    "print(missing_data(data_2005[c]))"
   ]
  },
  {
   "cell_type": "code",
   "execution_count": 115,
   "metadata": {
    "collapsed": true
   },
   "outputs": [],
   "source": [
    "c = 'PUNT_FISICA'\n",
    "for i in data_2005[c].value_counts().sort_index().index:\n",
    "    if ',' in i:\n",
    "        data_2005[c] = data_2005[c].replace(i, i.replace(',', '.'))\n",
    "\n",
    "for i in data_2005[c].value_counts().sort_index().index:\n",
    "    if type(i) == str:\n",
    "        data_2005[c] = data_2005[c].replace(i, float(i))"
   ]
  },
  {
   "cell_type": "code",
   "execution_count": 116,
   "metadata": {
    "collapsed": false,
    "scrolled": true
   },
   "outputs": [
    {
     "name": "stdout",
     "output_type": "stream",
     "text": [
      "Index(['-1', '12,75', '16,55', '23,8', '28,28', '31,65', '34,42', '36,82',\n",
      "       '38,99', '40,99', '42,88', '44,7', '46,47', '48,23', '49,99', '51,79',\n",
      "       '53,64', '55,58', '57,66', '59,91', '62,44', '65,36', '68,93', '73,67'],\n",
      "      dtype='object')\n",
      "-1          6\n",
      "12,75      14\n",
      "16,55     144\n",
      "23,8      533\n",
      "28,28    1501\n",
      "31,65    3012\n",
      "34,42    4666\n",
      "36,82    6084\n",
      "38,99    7379\n",
      "40,99    7698\n",
      "42,88    7525\n",
      "44,7     7051\n",
      "46,47    6344\n",
      "48,23    5433\n",
      "49,99    4460\n",
      "51,79    3607\n",
      "53,64    2843\n",
      "55,58    1942\n",
      "57,66    1343\n",
      "59,91     750\n",
      "62,44     347\n",
      "65,36     126\n",
      "68,93      29\n",
      "73,67       5\n",
      "Name: PUNT_HISTORIA, dtype: int64\n",
      "Elementos null/NaN 0\n",
      "__________________\n",
      "Elementos diferentes de null/NaN: 72842\n",
      "__________________\n",
      "(72842,)\n",
      "None\n"
     ]
    }
   ],
   "source": [
    "c = 'PUNT_HISTORIA'\n",
    "print(data_2005[c].value_counts().sort_index().index)\n",
    "print(data_2005[c].value_counts().sort_index())\n",
    "print(missing_data(data_2005[c]))"
   ]
  },
  {
   "cell_type": "code",
   "execution_count": 117,
   "metadata": {
    "collapsed": true
   },
   "outputs": [],
   "source": [
    "c = 'PUNT_HISTORIA'\n",
    "for i in data_2005[c].value_counts().sort_index().index:\n",
    "    if ',' in i:\n",
    "        data_2005[c] = data_2005[c].replace(i, i.replace(',', '.'))\n",
    "\n",
    "for i in data_2005[c].value_counts().sort_index().index:\n",
    "    if type(i) == str:\n",
    "        data_2005[c] = data_2005[c].replace(i, float(i))"
   ]
  },
  {
   "cell_type": "code",
   "execution_count": 118,
   "metadata": {
    "collapsed": false,
    "scrolled": true
   },
   "outputs": [
    {
     "name": "stdout",
     "output_type": "stream",
     "text": [
      "Index(['-1', '16,78', '20,76', '27,55', '31,75', '34,91', '37,51', '39,75',\n",
      "       '41,77', '43,63', '45,37', '47,05', '48,67', '50,27', '51,87', '53,49',\n",
      "       '55,15', '56,89', '58,73', '60,72', '62,94', '65,5', '68,62', '72,77',\n",
      "       '79,5', '83,45'],\n",
      "      dtype='object')\n",
      "-1          5\n",
      "16,78      24\n",
      "20,76     223\n",
      "27,55     811\n",
      "31,75    2316\n",
      "34,91    4572\n",
      "37,51    7256\n",
      "39,75    8988\n",
      "41,77    9481\n",
      "43,63    8595\n",
      "45,37    7074\n",
      "47,05    5715\n",
      "48,67    4346\n",
      "50,27    3258\n",
      "51,87    2517\n",
      "53,49    1937\n",
      "55,15    1556\n",
      "56,89    1196\n",
      "58,73     972\n",
      "60,72     698\n",
      "62,94     509\n",
      "65,5      343\n",
      "68,62     235\n",
      "72,77     133\n",
      "79,5       59\n",
      "83,45      23\n",
      "Name: PUNT_QUIMICA, dtype: int64\n",
      "Elementos null/NaN 0\n",
      "__________________\n",
      "Elementos diferentes de null/NaN: 72842\n",
      "__________________\n",
      "(72842,)\n",
      "None\n"
     ]
    }
   ],
   "source": [
    "c = 'PUNT_QUIMICA'\n",
    "print(data_2005[c].value_counts().sort_index().index)\n",
    "print(data_2005[c].value_counts().sort_index())\n",
    "print(missing_data(data_2005[c]))"
   ]
  },
  {
   "cell_type": "code",
   "execution_count": 119,
   "metadata": {
    "collapsed": true
   },
   "outputs": [],
   "source": [
    "c = 'PUNT_QUIMICA'\n",
    "for i in data_2005[c].value_counts().sort_index().index:\n",
    "    if ',' in i:\n",
    "        data_2005[c] = data_2005[c].replace(i, i.replace(',', '.'))\n",
    "\n",
    "for i in data_2005[c].value_counts().sort_index().index:\n",
    "    if type(i) == str:\n",
    "        data_2005[c] = data_2005[c].replace(i, float(i))"
   ]
  },
  {
   "cell_type": "code",
   "execution_count": 120,
   "metadata": {
    "collapsed": false,
    "scrolled": true
   },
   "outputs": [
    {
     "name": "stdout",
     "output_type": "stream",
     "text": [
      "Index(['-1', '10,25', '15,45', '23,52', '28,62', '32,53', '35,78', '38,64',\n",
      "       '41,22', '43,63', '45,91', '48,11', '50,26', '52,39', '54,54', '56,72',\n",
      "       '58,98', '61,36', '63,91', '66,73', '69,95', '73,83', '78,91', '86,97'],\n",
      "      dtype='object')\n",
      "-1          1\n",
      "10,25      13\n",
      "15,45      55\n",
      "23,52     258\n",
      "28,62     840\n",
      "32,53    2015\n",
      "35,78    3839\n",
      "38,64    5945\n",
      "41,22    7721\n",
      "43,63    8878\n",
      "45,91    9174\n",
      "48,11    8469\n",
      "50,26    7077\n",
      "52,39    5609\n",
      "54,54    4282\n",
      "56,72    3017\n",
      "58,98    2206\n",
      "61,36    1506\n",
      "63,91     876\n",
      "66,73     583\n",
      "69,95     290\n",
      "73,83     127\n",
      "78,91      52\n",
      "86,97       9\n",
      "Name: PUNT_LENGUAJE, dtype: int64\n",
      "Elementos null/NaN 0\n",
      "__________________\n",
      "Elementos diferentes de null/NaN: 72842\n",
      "__________________\n",
      "(72842,)\n",
      "None\n"
     ]
    }
   ],
   "source": [
    "c = 'PUNT_LENGUAJE'\n",
    "print(data_2005[c].value_counts().sort_index().index)\n",
    "print(data_2005[c].value_counts().sort_index())\n",
    "print(missing_data(data_2005[c]))"
   ]
  },
  {
   "cell_type": "code",
   "execution_count": 121,
   "metadata": {
    "collapsed": true
   },
   "outputs": [],
   "source": [
    "c = 'PUNT_LENGUAJE'\n",
    "for i in data_2005[c].value_counts().sort_index().index:\n",
    "    if ',' in i:\n",
    "        data_2005[c] = data_2005[c].replace(i, i.replace(',', '.'))\n",
    "\n",
    "for i in data_2005[c].value_counts().sort_index().index:\n",
    "    if type(i) == str:\n",
    "        data_2005[c] = data_2005[c].replace(i, float(i))"
   ]
  },
  {
   "cell_type": "code",
   "execution_count": 122,
   "metadata": {
    "collapsed": false,
    "scrolled": true
   },
   "outputs": [
    {
     "name": "stdout",
     "output_type": "stream",
     "text": [
      "Index(['-1', '13,96', '21,85', '26,75', '30,43', '33,45', '36,08', '38,44',\n",
      "       '40,62', '42,68', '44,65', '46,57', '48,47', '50,37', '52,29', '54,27',\n",
      "       '56,33', '58,52', '60,89', '63,52', '66,56', '70,25', '75,16', '9,87'],\n",
      "      dtype='object')\n",
      "-1         10\n",
      "13,96     126\n",
      "21,85     538\n",
      "26,75    1645\n",
      "30,43    3450\n",
      "33,45    5854\n",
      "36,08    8075\n",
      "38,44    9323\n",
      "40,62    9435\n",
      "42,68    8598\n",
      "44,65    7355\n",
      "46,57    5756\n",
      "48,47    4322\n",
      "50,37    3310\n",
      "52,29    2235\n",
      "54,27    1361\n",
      "56,33     767\n",
      "58,52     424\n",
      "60,89     162\n",
      "63,52      60\n",
      "66,56      15\n",
      "70,25       2\n",
      "75,16       1\n",
      "9,87       18\n",
      "Name: PUNT_GEOGRAFIA, dtype: int64\n",
      "Elementos null/NaN 0\n",
      "__________________\n",
      "Elementos diferentes de null/NaN: 72842\n",
      "__________________\n",
      "(72842,)\n",
      "None\n"
     ]
    }
   ],
   "source": [
    "c = 'PUNT_GEOGRAFIA'\n",
    "print(data_2005[c].value_counts().sort_index().index)\n",
    "print(data_2005[c].value_counts().sort_index())\n",
    "print(missing_data(data_2005[c]))"
   ]
  },
  {
   "cell_type": "code",
   "execution_count": 123,
   "metadata": {
    "collapsed": true
   },
   "outputs": [],
   "source": [
    "c = 'PUNT_GEOGRAFIA'\n",
    "for i in data_2005[c].value_counts().sort_index().index:\n",
    "    if ',' in i:\n",
    "        data_2005[c] = data_2005[c].replace(i, i.replace(',', '.'))\n",
    "\n",
    "for i in data_2005[c].value_counts().sort_index().index:\n",
    "    if type(i) == str:\n",
    "        data_2005[c] = data_2005[c].replace(i, float(i))"
   ]
  },
  {
   "cell_type": "code",
   "execution_count": 124,
   "metadata": {
    "collapsed": false
   },
   "outputs": [
    {
     "name": "stdout",
     "output_type": "stream",
     "text": [
      "Index(['ALEMÃN', 'FRANCÃS', 'INGLÃS'], dtype='object')\n",
      "ALEMÃN        50\n",
      "FRANCÃS      531\n",
      "INGLÃS     72261\n",
      "Name: NOMBRE_IDIOMA, dtype: int64\n",
      "Elementos null/NaN 0\n",
      "__________________\n",
      "Elementos diferentes de null/NaN: 72842\n",
      "__________________\n",
      "(72842,)\n",
      "None\n"
     ]
    }
   ],
   "source": [
    "c = 'NOMBRE_IDIOMA'\n",
    "print(data_2005[c].value_counts().sort_index().index)\n",
    "print(data_2005[c].value_counts().sort_index())\n",
    "print(missing_data(data_2005[c]))"
   ]
  },
  {
   "cell_type": "code",
   "execution_count": 125,
   "metadata": {
    "collapsed": true
   },
   "outputs": [],
   "source": [
    "data_2005['NOMBRE_IDIOMA'] = data_2005['NOMBRE_IDIOMA'].replace('ALEMÃN', 'ALEMAN')\n",
    "data_2005['NOMBRE_IDIOMA'] = data_2005['NOMBRE_IDIOMA'].replace('FRANCÃS', 'FRANCES')\n",
    "data_2005['NOMBRE_IDIOMA'] = data_2005['NOMBRE_IDIOMA'].replace('INGLÃS', 'INGLES')"
   ]
  },
  {
   "cell_type": "code",
   "execution_count": 126,
   "metadata": {
    "collapsed": false,
    "scrolled": true
   },
   "outputs": [
    {
     "name": "stdout",
     "output_type": "stream",
     "text": [
      "Index(['-1', '14,65', '19,01', '19,36', '23,99', '26,48', '26,93', '28,62',\n",
      "       '31,08', '31,63', '32,09', '34,53', '34,94', '35,16', '37,35', '37,43',\n",
      "       '38,07', '39,66', '39,79', '40,59', '41,74', '41,97', '42,85', '43,98',\n",
      "       '44,94', '45,59', '45,87', '46,9', '47,68', '48,78', '49,29', '49,43',\n",
      "       '50,62', '51,14', '51,16', '52,42', '52,89', '53,04', '54,23', '54,64',\n",
      "       '56,06', '56,44', '57,06', '57,93', '58,32', '59,26', '59,89', '60,31',\n",
      "       '61,65', '61,96', '62,48', '64,21', '64,32', '64,89', '66,71', '67,41',\n",
      "       '67,69', '69,59', '71,1', '71,14', '73,09', '75,67', '76,06', '77,74',\n",
      "       '83,1', '83,87', '85,26', '87,42', '89,68'],\n",
      "      dtype='object')\n",
      "-1         357\n",
      "14,65       73\n",
      "19,01      333\n",
      "19,36        1\n",
      "23,99        3\n",
      "26,48     1090\n",
      "26,93        3\n",
      "28,62        6\n",
      "31,08     2742\n",
      "31,63        6\n",
      "32,09        3\n",
      "34,53     5110\n",
      "34,94        5\n",
      "35,16       21\n",
      "37,35     7646\n",
      "37,43        2\n",
      "38,07       46\n",
      "39,66        4\n",
      "39,79     9771\n",
      "40,59       53\n",
      "41,74        2\n",
      "41,97    10200\n",
      "42,85       55\n",
      "43,98     9200\n",
      "44,94       44\n",
      "45,59        2\n",
      "45,87     7055\n",
      "46,9        29\n",
      "47,68     4919\n",
      "48,78       19\n",
      "         ...  \n",
      "54,64      981\n",
      "56,06        3\n",
      "56,44      724\n",
      "57,06        1\n",
      "57,93        6\n",
      "58,32      637\n",
      "59,26        2\n",
      "59,89        8\n",
      "60,31      617\n",
      "61,65        5\n",
      "61,96       10\n",
      "62,48      660\n",
      "64,21       19\n",
      "64,32        2\n",
      "64,89      716\n",
      "66,71       25\n",
      "67,41        3\n",
      "67,69      793\n",
      "69,59       35\n",
      "71,1       845\n",
      "71,14        1\n",
      "73,09       45\n",
      "75,67      732\n",
      "76,06        1\n",
      "77,74       42\n",
      "83,1       451\n",
      "83,87        3\n",
      "85,26       28\n",
      "87,42      102\n",
      "89,68       11\n",
      "Name: PUNT_IDIOMA, dtype: int64\n",
      "Elementos null/NaN 0\n",
      "__________________\n",
      "Elementos diferentes de null/NaN: 72842\n",
      "__________________\n",
      "(72842,)\n",
      "None\n"
     ]
    }
   ],
   "source": [
    "c = 'PUNT_IDIOMA'\n",
    "print(data_2005[c].value_counts().sort_index().index)\n",
    "print(data_2005[c].value_counts().sort_index())\n",
    "print(missing_data(data_2005[c]))"
   ]
  },
  {
   "cell_type": "code",
   "execution_count": 127,
   "metadata": {
    "collapsed": true
   },
   "outputs": [],
   "source": [
    "c = 'PUNT_IDIOMA'\n",
    "for i in data_2005[c].value_counts().sort_index().index:\n",
    "    if ',' in i:\n",
    "        data_2005[c] = data_2005[c].replace(i, i.replace(',', '.'))\n",
    "\n",
    "for i in data_2005[c].value_counts().sort_index().index:\n",
    "    if type(i) == str:\n",
    "        data_2005[c] = data_2005[c].replace(i, float(i))"
   ]
  },
  {
   "cell_type": "code",
   "execution_count": 128,
   "metadata": {
    "collapsed": false
   },
   "outputs": [
    {
     "name": "stdout",
     "output_type": "stream",
     "text": [
      "Float64Index([], dtype='float64')\n",
      "Series([], Name: DESEMP_IDIOMA, dtype: int64)\n",
      "Elementos null/NaN 72842\n",
      "__________________\n",
      "Elementos diferentes de null/NaN: 0\n",
      "__________________\n",
      "(0,)\n",
      "None\n"
     ]
    }
   ],
   "source": [
    "c = 'DESEMP_IDIOMA'\n",
    "print(data_2005[c].value_counts().sort_index().index)\n",
    "print(data_2005[c].value_counts().sort_index())\n",
    "print(missing_data(data_2005[c]))"
   ]
  },
  {
   "cell_type": "code",
   "execution_count": 129,
   "metadata": {
    "collapsed": true
   },
   "outputs": [],
   "source": [
    "data_2005 = data_2005.drop(['DESEMP_IDIOMA'], axis=1)"
   ]
  },
  {
   "cell_type": "code",
   "execution_count": 130,
   "metadata": {
    "collapsed": false
   },
   "outputs": [
    {
     "name": "stdout",
     "output_type": "stream",
     "text": [
      "Index(['PROFUNDIZACIÃN EN BIOLOGÃA', 'PROFUNDIZACIÃN EN HISTORIA',\n",
      "       'PROFUNDIZACIÃN EN LENGUAJE', 'PROFUNDIZACIÃN EN MATEMÃTICA'],\n",
      "      dtype='object')\n",
      "PROFUNDIZACIÃN EN BIOLOGÃA      24460\n",
      "PROFUNDIZACIÃN EN HISTORIA       11177\n",
      "PROFUNDIZACIÃN EN LENGUAJE       24742\n",
      "PROFUNDIZACIÃN EN MATEMÃTICA    12463\n",
      "Name: NOMBRE_PROFUNDIZACION, dtype: int64\n",
      "Elementos null/NaN 0\n",
      "__________________\n",
      "Elementos diferentes de null/NaN: 72842\n",
      "__________________\n",
      "(72842,)\n",
      "None\n"
     ]
    }
   ],
   "source": [
    "c = 'NOMBRE_PROFUNDIZACION'\n",
    "print(data_2005[c].value_counts().sort_index().index)\n",
    "print(data_2005[c].value_counts().sort_index())\n",
    "print(missing_data(data_2005[c]))"
   ]
  },
  {
   "cell_type": "code",
   "execution_count": 131,
   "metadata": {
    "collapsed": true
   },
   "outputs": [],
   "source": [
    "data_2005['NOMBRE_PROFUNDIZACION'] = data_2005['NOMBRE_PROFUNDIZACION'].replace('PROFUNDIZACIÃN EN BIOLOGÃA', 'BIOLOGIA')\n",
    "data_2005['NOMBRE_PROFUNDIZACION'] = data_2005['NOMBRE_PROFUNDIZACION'].replace('PROFUNDIZACIÃN EN HISTORIA', 'HISTORIA')\n",
    "data_2005['NOMBRE_PROFUNDIZACION'] = data_2005['NOMBRE_PROFUNDIZACION'].replace('PROFUNDIZACIÃN EN LENGUAJE', 'LENGUAJE')\n",
    "data_2005['NOMBRE_PROFUNDIZACION'] = data_2005['NOMBRE_PROFUNDIZACION'].replace('PROFUNDIZACIÃN EN MATEMÃTICA', 'MATEMATICA')"
   ]
  },
  {
   "cell_type": "code",
   "execution_count": 132,
   "metadata": {
    "collapsed": false,
    "scrolled": true
   },
   "outputs": [
    {
     "name": "stdout",
     "output_type": "stream",
     "text": [
      "Index(['-1', '1,65', '10', '2,08', '2,1', '2,11', '2,35', '2,55', '2,9',\n",
      "       '2,93', '2,98', '3,22', '3,51', '3,78', '3,8', '3,86', '4,05', '4,1',\n",
      "       '4,13', '4,3', '4,34', '4,4', '4,42', '4,6', '4,61', '4,77', '4,86',\n",
      "       '4,9', '5,03', '5,1', '5,14', '5,2', '5,23', '5,4', '5,41', '5,48',\n",
      "       '5,5', '5,57', '5,6', '5,75', '5,76', '5,8', '5,81', '5,9', '6,1',\n",
      "       '6,13', '6,2', '6,21', '6,45', '6,46', '6,5', '6,53', '6,81', '6,82',\n",
      "       '6,88', '6,9', '7,2', '7,23', '7,25', '7,65', '7,66', '7,69', '7,71',\n",
      "       '8,23', '8,25', '8,32', '9,1', '9,12', '9,14'],\n",
      "      dtype='object')\n",
      "-1       154\n",
      "1,65      60\n",
      "10         7\n",
      "2,08     182\n",
      "2,1        1\n",
      "2,11     229\n",
      "2,35     160\n",
      "2,55     268\n",
      "2,9        1\n",
      "2,93     956\n",
      "2,98    1055\n",
      "3,22     766\n",
      "3,51     812\n",
      "3,78    2475\n",
      "3,8        1\n",
      "3,86    2715\n",
      "4,05    1673\n",
      "4,1        1\n",
      "4,13    1441\n",
      "4,3        2\n",
      "4,34    4049\n",
      "4,4        5\n",
      "4,42    4018\n",
      "4,6     2347\n",
      "4,61    2012\n",
      "4,77    4786\n",
      "4,86    4748\n",
      "4,9        2\n",
      "5,03    4633\n",
      "5,1        1\n",
      "        ... \n",
      "5,75    1214\n",
      "5,76    1419\n",
      "5,8        1\n",
      "5,81    2038\n",
      "5,9     1996\n",
      "6,1     1515\n",
      "6,13    1282\n",
      "6,2        1\n",
      "6,21    1166\n",
      "6,45     839\n",
      "6,46     741\n",
      "6,5        1\n",
      "6,53     621\n",
      "6,81     693\n",
      "6,82     207\n",
      "6,88     289\n",
      "6,9        1\n",
      "7,2      412\n",
      "7,23      80\n",
      "7,25     169\n",
      "7,65     187\n",
      "7,66      21\n",
      "7,69      79\n",
      "7,71      27\n",
      "8,23      79\n",
      "8,25      39\n",
      "8,32       9\n",
      "9,1        3\n",
      "9,12       6\n",
      "9,14      17\n",
      "Name: PUNT_PROFUNDIZACION, dtype: int64\n",
      "Elementos null/NaN 0\n",
      "__________________\n",
      "Elementos diferentes de null/NaN: 72842\n",
      "__________________\n",
      "(72842,)\n",
      "None\n"
     ]
    }
   ],
   "source": [
    "c = 'PUNT_PROFUNDIZACION'\n",
    "print(data_2005[c].value_counts().sort_index().index)\n",
    "print(data_2005[c].value_counts().sort_index())\n",
    "print(missing_data(data_2005[c]))"
   ]
  },
  {
   "cell_type": "code",
   "execution_count": 133,
   "metadata": {
    "collapsed": true
   },
   "outputs": [],
   "source": [
    "c = 'PUNT_PROFUNDIZACION'\n",
    "for i in data_2005[c].value_counts().sort_index().index:\n",
    "    if ',' in i:\n",
    "        data_2005[c] = data_2005[c].replace(i, i.replace(',', '.'))\n",
    "\n",
    "for i in data_2005[c].value_counts().sort_index().index:\n",
    "    if type(i) == str:\n",
    "        data_2005[c] = data_2005[c].replace(i, float(i))"
   ]
  },
  {
   "cell_type": "code",
   "execution_count": 134,
   "metadata": {
    "collapsed": false
   },
   "outputs": [
    {
     "name": "stdout",
     "output_type": "stream",
     "text": [
      "Index(['GB', 'I', 'II', 'III'], dtype='object')\n",
      "GB     32572\n",
      "I      30360\n",
      "II      9128\n",
      "III      782\n",
      "Name: DESEMP_PROFUNDIZACION, dtype: int64\n",
      "Elementos null/NaN 0\n",
      "__________________\n",
      "Elementos diferentes de null/NaN: 72842\n",
      "__________________\n",
      "(72842,)\n",
      "None\n"
     ]
    }
   ],
   "source": [
    "c = 'DESEMP_PROFUNDIZACION'\n",
    "print(data_2005[c].value_counts().sort_index().index)\n",
    "print(data_2005[c].value_counts().sort_index())\n",
    "print(missing_data(data_2005[c]))"
   ]
  },
  {
   "cell_type": "code",
   "execution_count": 135,
   "metadata": {
    "collapsed": false
   },
   "outputs": [
    {
     "name": "stdout",
     "output_type": "stream",
     "text": [
      "Index(['MEDIO AMBIENTE', 'VIOLENCIA Y SOCIEDAD'], dtype='object')\n",
      "MEDIO AMBIENTE          40869\n",
      "VIOLENCIA Y SOCIEDAD    31973\n",
      "Name: NOMBRE_INTERDISCIPLINAR, dtype: int64\n",
      "Elementos null/NaN 0\n",
      "__________________\n",
      "Elementos diferentes de null/NaN: 72842\n",
      "__________________\n",
      "(72842,)\n",
      "None\n"
     ]
    }
   ],
   "source": [
    "c = 'NOMBRE_INTERDISCIPLINAR'\n",
    "print(data_2005[c].value_counts().sort_index().index)\n",
    "print(data_2005[c].value_counts().sort_index())\n",
    "print(missing_data(data_2005[c]))"
   ]
  },
  {
   "cell_type": "code",
   "execution_count": 136,
   "metadata": {
    "collapsed": false,
    "scrolled": true
   },
   "outputs": [
    {
     "name": "stdout",
     "output_type": "stream",
     "text": [
      "Index(['-1', '13,12', '21,29', '29,64', '34,96', '39,1', '42,63', '42,7',\n",
      "       '45,13', '45,83', '47,62', '48,86', '49,22', '50,47', '51,54', '51,84',\n",
      "       '52,51', '53,43', '54,33', '54,88', '55,24', '56,2', '57,25', '58,08',\n",
      "       '58,47', '60,03', '61,61', '62,45', '64,83', '65,75', '71,08', '79,43',\n",
      "       '87,61'],\n",
      "      dtype='object')\n",
      "-1        918\n",
      "13,12     167\n",
      "21,29     746\n",
      "29,64    2114\n",
      "34,96    3578\n",
      "39,1     4527\n",
      "42,63    4757\n",
      "42,7      184\n",
      "45,13     941\n",
      "45,83    4252\n",
      "47,62    2770\n",
      "48,86    3614\n",
      "49,22    4959\n",
      "50,47    6958\n",
      "51,54    7358\n",
      "51,84    2776\n",
      "52,51    6430\n",
      "53,43    4567\n",
      "54,33    2977\n",
      "54,88    2107\n",
      "55,24    1674\n",
      "56,2      888\n",
      "57,25     409\n",
      "58,08    1466\n",
      "58,47     176\n",
      "60,03      57\n",
      "61,61     877\n",
      "62,45      13\n",
      "64,83       4\n",
      "65,75     409\n",
      "71,08     139\n",
      "79,43      25\n",
      "87,61       5\n",
      "Name: PUNT_INTERDISCIPLINAR, dtype: int64\n",
      "Elementos null/NaN 0\n",
      "__________________\n",
      "Elementos diferentes de null/NaN: 72842\n",
      "__________________\n",
      "(72842,)\n",
      "None\n"
     ]
    }
   ],
   "source": [
    "c = 'PUNT_INTERDISCIPLINAR'\n",
    "print(data_2005[c].value_counts().sort_index().index)\n",
    "print(data_2005[c].value_counts().sort_index())\n",
    "print(missing_data(data_2005[c]))"
   ]
  },
  {
   "cell_type": "code",
   "execution_count": 137,
   "metadata": {
    "collapsed": true
   },
   "outputs": [],
   "source": [
    "c = 'PUNT_INTERDISCIPLINAR'\n",
    "for i in data_2005[c].value_counts().sort_index().index:\n",
    "    if ',' in i:\n",
    "        data_2005[c] = data_2005[c].replace(i, i.replace(',', '.'))\n",
    "\n",
    "for i in data_2005[c].value_counts().sort_index().index:\n",
    "    if type(i) == str:\n",
    "        data_2005[c] = data_2005[c].replace(i, float(i))"
   ]
  },
  {
   "cell_type": "markdown",
   "metadata": {},
   "source": [
    "# FILE 2 -> 2005_2"
   ]
  },
  {
   "cell_type": "code",
   "execution_count": 138,
   "metadata": {
    "collapsed": false
   },
   "outputs": [
    {
     "name": "stderr",
     "output_type": "stream",
     "text": [
      "/usr/local/anaconda3/lib/python3.5/site-packages/IPython/core/interactiveshell.py:2723: DtypeWarning: Columns (26) have mixed types. Specify dtype option on import or set low_memory=False.\n",
      "  interactivity=interactivity, compiler=compiler, result=result)\n"
     ]
    }
   ],
   "source": [
    "data_2005_2 = pd.read_csv('../DatosFTPICFES/SABER11/SB11-BASES_DE_DATOS/SB11-20052-RGSTRO-CLFCCN-V1-0.txt', delimiter = '|',\n",
    "                         encoding = \"iso-8859-1\")"
   ]
  },
  {
   "cell_type": "code",
   "execution_count": 139,
   "metadata": {
    "collapsed": false
   },
   "outputs": [
    {
     "data": {
      "text/plain": [
       "(383964, 82)"
      ]
     },
     "execution_count": 139,
     "metadata": {},
     "output_type": "execute_result"
    }
   ],
   "source": [
    "data_2005_2.shape"
   ]
  },
  {
   "cell_type": "code",
   "execution_count": 140,
   "metadata": {
    "collapsed": false,
    "scrolled": true
   },
   "outputs": [
    {
     "data": {
      "text/html": [
       "<div>\n",
       "<table border=\"1\" class=\"dataframe\">\n",
       "  <thead>\n",
       "    <tr style=\"text-align: right;\">\n",
       "      <th></th>\n",
       "      <th>0</th>\n",
       "      <th>1</th>\n",
       "      <th>2</th>\n",
       "    </tr>\n",
       "  </thead>\n",
       "  <tbody>\n",
       "    <tr>\n",
       "      <th>ESTU_CONSECUTIVO</th>\n",
       "      <td>SB11200520000001</td>\n",
       "      <td>SB11200520000002</td>\n",
       "      <td>SB11200520000003</td>\n",
       "    </tr>\n",
       "    <tr>\n",
       "      <th>ESTU_PAIS_RESIDE</th>\n",
       "      <td>CO</td>\n",
       "      <td>CO</td>\n",
       "      <td>CO</td>\n",
       "    </tr>\n",
       "    <tr>\n",
       "      <th>ESTU_GENERO</th>\n",
       "      <td>M</td>\n",
       "      <td>M</td>\n",
       "      <td>F</td>\n",
       "    </tr>\n",
       "    <tr>\n",
       "      <th>ESTU_NACIMIENTO_DIA</th>\n",
       "      <td>17</td>\n",
       "      <td>2</td>\n",
       "      <td>15</td>\n",
       "    </tr>\n",
       "    <tr>\n",
       "      <th>ESTU_NACIMIENTO_MES</th>\n",
       "      <td>10</td>\n",
       "      <td>8</td>\n",
       "      <td>7</td>\n",
       "    </tr>\n",
       "    <tr>\n",
       "      <th>ESTU_NACIMIENTO_ANNO</th>\n",
       "      <td>1988</td>\n",
       "      <td>1988</td>\n",
       "      <td>1989</td>\n",
       "    </tr>\n",
       "    <tr>\n",
       "      <th>ESTU_EDAD</th>\n",
       "      <td>16</td>\n",
       "      <td>16</td>\n",
       "      <td>15</td>\n",
       "    </tr>\n",
       "    <tr>\n",
       "      <th>ESTU_LIMITA_BAJAVISION</th>\n",
       "      <td>NaN</td>\n",
       "      <td>NaN</td>\n",
       "      <td>NaN</td>\n",
       "    </tr>\n",
       "    <tr>\n",
       "      <th>ESTU_LIMITA_SORDOCEGUERA</th>\n",
       "      <td>NaN</td>\n",
       "      <td>NaN</td>\n",
       "      <td>NaN</td>\n",
       "    </tr>\n",
       "    <tr>\n",
       "      <th>ESTU_LIMITA_COGNITIVA</th>\n",
       "      <td>NaN</td>\n",
       "      <td>NaN</td>\n",
       "      <td>NaN</td>\n",
       "    </tr>\n",
       "    <tr>\n",
       "      <th>ESTU_LIMITA_INVIDENTE</th>\n",
       "      <td>NaN</td>\n",
       "      <td>NaN</td>\n",
       "      <td>NaN</td>\n",
       "    </tr>\n",
       "    <tr>\n",
       "      <th>ESTU_LIMITA_MOTRIZ</th>\n",
       "      <td>NaN</td>\n",
       "      <td>NaN</td>\n",
       "      <td>NaN</td>\n",
       "    </tr>\n",
       "    <tr>\n",
       "      <th>ESTU_LIMITA_SORDOINTERPRETE</th>\n",
       "      <td>NaN</td>\n",
       "      <td>NaN</td>\n",
       "      <td>NaN</td>\n",
       "    </tr>\n",
       "    <tr>\n",
       "      <th>ESTU_LIMITA_SORDONOINTERPRETE</th>\n",
       "      <td>NaN</td>\n",
       "      <td>NaN</td>\n",
       "      <td>NaN</td>\n",
       "    </tr>\n",
       "    <tr>\n",
       "      <th>ESTU_COD_RESIDE_MCPIO</th>\n",
       "      <td>11001</td>\n",
       "      <td>11001</td>\n",
       "      <td>11001</td>\n",
       "    </tr>\n",
       "    <tr>\n",
       "      <th>ESTU_RESIDE_MCPIO</th>\n",
       "      <td>BOGOTÃ D.C.</td>\n",
       "      <td>BOGOTÃ D.C.</td>\n",
       "      <td>BOGOTÃ D.C.</td>\n",
       "    </tr>\n",
       "    <tr>\n",
       "      <th>ESTU_RESIDE_DEPTO</th>\n",
       "      <td>BOGOTÃ</td>\n",
       "      <td>BOGOTÃ</td>\n",
       "      <td>BOGOTÃ</td>\n",
       "    </tr>\n",
       "    <tr>\n",
       "      <th>ESTU_ZONA_RESIDE</th>\n",
       "      <td>8</td>\n",
       "      <td>8</td>\n",
       "      <td>8</td>\n",
       "    </tr>\n",
       "    <tr>\n",
       "      <th>ESTU_COD_MCPIO_PRESENTACION</th>\n",
       "      <td>11001</td>\n",
       "      <td>11001</td>\n",
       "      <td>11001</td>\n",
       "    </tr>\n",
       "    <tr>\n",
       "      <th>ESTU_MCPIO_PRESENTACION</th>\n",
       "      <td>BOGOTÃ D.C.</td>\n",
       "      <td>BOGOTÃ D.C.</td>\n",
       "      <td>BOGOTÃ D.C.</td>\n",
       "    </tr>\n",
       "    <tr>\n",
       "      <th>ESTU_DEPTO_PRESENTACION</th>\n",
       "      <td>BOGOTÃ</td>\n",
       "      <td>BOGOTÃ</td>\n",
       "      <td>BOGOTÃ</td>\n",
       "    </tr>\n",
       "    <tr>\n",
       "      <th>ESTU_EXAM_NOMBREEXAMEN</th>\n",
       "      <td>EXAMEN DE ESTADO NUEVO (2005)</td>\n",
       "      <td>EXAMEN DE ESTADO NUEVO (2005)</td>\n",
       "      <td>EXAMEN DE ESTADO NUEVO (2005)</td>\n",
       "    </tr>\n",
       "    <tr>\n",
       "      <th>IND_ESTUDIO_BACHILLERATO</th>\n",
       "      <td>NaN</td>\n",
       "      <td>NaN</td>\n",
       "      <td>NaN</td>\n",
       "    </tr>\n",
       "    <tr>\n",
       "      <th>IND_ANNO_TERMINO_BACHILLERATO</th>\n",
       "      <td>NaN</td>\n",
       "      <td>NaN</td>\n",
       "      <td>NaN</td>\n",
       "    </tr>\n",
       "    <tr>\n",
       "      <th>IND_COD_ICFES_TERMINO</th>\n",
       "      <td>NaN</td>\n",
       "      <td>NaN</td>\n",
       "      <td>NaN</td>\n",
       "    </tr>\n",
       "    <tr>\n",
       "      <th>COLE_COD_ICFES</th>\n",
       "      <td>52241</td>\n",
       "      <td>52241</td>\n",
       "      <td>52241</td>\n",
       "    </tr>\n",
       "    <tr>\n",
       "      <th>COLE_COD_DANE_INSTITUCION</th>\n",
       "      <td>311001038309</td>\n",
       "      <td>311001038309</td>\n",
       "      <td>311001038309</td>\n",
       "    </tr>\n",
       "    <tr>\n",
       "      <th>COLE_NOMBRE_SEDE</th>\n",
       "      <td>COLEGIO NUEVO ESTRADA</td>\n",
       "      <td>COLEGIO NUEVO ESTRADA</td>\n",
       "      <td>COLEGIO NUEVO ESTRADA</td>\n",
       "    </tr>\n",
       "    <tr>\n",
       "      <th>COLE_ZONA_UBICACION</th>\n",
       "      <td>8</td>\n",
       "      <td>8</td>\n",
       "      <td>8</td>\n",
       "    </tr>\n",
       "    <tr>\n",
       "      <th>COLE_AREA_UBICACION</th>\n",
       "      <td>U</td>\n",
       "      <td>U</td>\n",
       "      <td>U</td>\n",
       "    </tr>\n",
       "    <tr>\n",
       "      <th>...</th>\n",
       "      <td>...</td>\n",
       "      <td>...</td>\n",
       "      <td>...</td>\n",
       "    </tr>\n",
       "    <tr>\n",
       "      <th>FAMI_COMPUTADOR</th>\n",
       "      <td>NaN</td>\n",
       "      <td>NaN</td>\n",
       "      <td>NaN</td>\n",
       "    </tr>\n",
       "    <tr>\n",
       "      <th>FAMI_INGRESO_FMILIAR_MENSUAL</th>\n",
       "      <td>NaN</td>\n",
       "      <td>NaN</td>\n",
       "      <td>NaN</td>\n",
       "    </tr>\n",
       "    <tr>\n",
       "      <th>COLE_VALOR_PENSION</th>\n",
       "      <td>4</td>\n",
       "      <td>4</td>\n",
       "      <td>0</td>\n",
       "    </tr>\n",
       "    <tr>\n",
       "      <th>ESTU_CARRDESEADA_TIPO</th>\n",
       "      <td>NaN</td>\n",
       "      <td>NaN</td>\n",
       "      <td>NaN</td>\n",
       "    </tr>\n",
       "    <tr>\n",
       "      <th>ESTU_CARRDESEADA_NUCLEO</th>\n",
       "      <td>NaN</td>\n",
       "      <td>NaN</td>\n",
       "      <td>NaN</td>\n",
       "    </tr>\n",
       "    <tr>\n",
       "      <th>ESTU_IES_COD_DESEADA</th>\n",
       "      <td>1101</td>\n",
       "      <td>1301</td>\n",
       "      <td>1105</td>\n",
       "    </tr>\n",
       "    <tr>\n",
       "      <th>ESTU_IES_DESEADA_NOMBRE</th>\n",
       "      <td>UNIVERSIDAD NACIONAL DE COLOMBIA</td>\n",
       "      <td>UNIVERSIDAD DISTRITAL FRANCISCO JOSE DE CALDAS</td>\n",
       "      <td>UNIVERSIDAD PEDAGOGICA NACIONAL</td>\n",
       "    </tr>\n",
       "    <tr>\n",
       "      <th>ESTU_IES_COD_MPIO_DESEADA</th>\n",
       "      <td>11001</td>\n",
       "      <td>11001</td>\n",
       "      <td>11001</td>\n",
       "    </tr>\n",
       "    <tr>\n",
       "      <th>ESTU_IES_MPIO_DESEADA</th>\n",
       "      <td>BOGOTÃ D.C.</td>\n",
       "      <td>BOGOTÃ D.C.</td>\n",
       "      <td>BOGOTÃ D.C.</td>\n",
       "    </tr>\n",
       "    <tr>\n",
       "      <th>ESTU_IES_DEPT_DESEADA</th>\n",
       "      <td>BOGOTÃ</td>\n",
       "      <td>BOGOTÃ</td>\n",
       "      <td>BOGOTÃ</td>\n",
       "    </tr>\n",
       "    <tr>\n",
       "      <th>ESTU_RAZONINSTITUTO</th>\n",
       "      <td>3</td>\n",
       "      <td>3</td>\n",
       "      <td>2</td>\n",
       "    </tr>\n",
       "    <tr>\n",
       "      <th>ESTU_CARRDESEADA_COD</th>\n",
       "      <td>14064</td>\n",
       "      <td>11790</td>\n",
       "      <td>11493</td>\n",
       "    </tr>\n",
       "    <tr>\n",
       "      <th>ESTU_CARRDESEADA_RAZON</th>\n",
       "      <td>2</td>\n",
       "      <td>5</td>\n",
       "      <td>2</td>\n",
       "    </tr>\n",
       "    <tr>\n",
       "      <th>PUNT_BIOLOGIA</th>\n",
       "      <td>43,63</td>\n",
       "      <td>43,63</td>\n",
       "      <td>49,8</td>\n",
       "    </tr>\n",
       "    <tr>\n",
       "      <th>PUNT_MATEMATICAS</th>\n",
       "      <td>32,18</td>\n",
       "      <td>46,07</td>\n",
       "      <td>57,98</td>\n",
       "    </tr>\n",
       "    <tr>\n",
       "      <th>PUNT_FILOSOFIA</th>\n",
       "      <td>50,84</td>\n",
       "      <td>41,62</td>\n",
       "      <td>46,43</td>\n",
       "    </tr>\n",
       "    <tr>\n",
       "      <th>PUNT_FISICA</th>\n",
       "      <td>39,23</td>\n",
       "      <td>48,9</td>\n",
       "      <td>46,06</td>\n",
       "    </tr>\n",
       "    <tr>\n",
       "      <th>PUNT_HISTORIA</th>\n",
       "      <td>46,23</td>\n",
       "      <td>35,8</td>\n",
       "      <td>49,82</td>\n",
       "    </tr>\n",
       "    <tr>\n",
       "      <th>PUNT_QUIMICA</th>\n",
       "      <td>44,7</td>\n",
       "      <td>30,38</td>\n",
       "      <td>48,36</td>\n",
       "    </tr>\n",
       "    <tr>\n",
       "      <th>PUNT_LENGUAJE</th>\n",
       "      <td>42,39</td>\n",
       "      <td>44,61</td>\n",
       "      <td>56,52</td>\n",
       "    </tr>\n",
       "    <tr>\n",
       "      <th>PUNT_GEOGRAFIA</th>\n",
       "      <td>29,51</td>\n",
       "      <td>33,16</td>\n",
       "      <td>38,74</td>\n",
       "    </tr>\n",
       "    <tr>\n",
       "      <th>NOMBRE_IDIOMA</th>\n",
       "      <td>INGLÃS</td>\n",
       "      <td>INGLÃS</td>\n",
       "      <td>INGLÃS</td>\n",
       "    </tr>\n",
       "    <tr>\n",
       "      <th>PUNT_IDIOMA</th>\n",
       "      <td>43,4</td>\n",
       "      <td>43,4</td>\n",
       "      <td>50,67</td>\n",
       "    </tr>\n",
       "    <tr>\n",
       "      <th>DESEMP_IDIOMA</th>\n",
       "      <td>NaN</td>\n",
       "      <td>NaN</td>\n",
       "      <td>NaN</td>\n",
       "    </tr>\n",
       "    <tr>\n",
       "      <th>NOMBRE_PROFUNDIZACION</th>\n",
       "      <td>PROFUNDIZACIÃN EN MATEMÃTICA</td>\n",
       "      <td>PROFUNDIZACIÃN EN MATEMÃTICA</td>\n",
       "      <td>PROFUNDIZACIÃN EN LENGUAJE</td>\n",
       "    </tr>\n",
       "    <tr>\n",
       "      <th>PUNT_PROFUNDIZACION</th>\n",
       "      <td>5</td>\n",
       "      <td>5,8</td>\n",
       "      <td>5,5</td>\n",
       "    </tr>\n",
       "    <tr>\n",
       "      <th>DESEMP_PROFUNDIZACION</th>\n",
       "      <td>I</td>\n",
       "      <td>II</td>\n",
       "      <td>I</td>\n",
       "    </tr>\n",
       "    <tr>\n",
       "      <th>NOMBRE_INTERDISCIPLINAR</th>\n",
       "      <td>MEDIO AMBIENTE</td>\n",
       "      <td>MEDIO AMBIENTE</td>\n",
       "      <td>VIOLENCIA Y SOCIEDAD</td>\n",
       "    </tr>\n",
       "    <tr>\n",
       "      <th>PUNT_INTERDISCIPLINAR</th>\n",
       "      <td>50,02</td>\n",
       "      <td>48,85</td>\n",
       "      <td>50,02</td>\n",
       "    </tr>\n",
       "    <tr>\n",
       "      <th>ESTU_PUESTO</th>\n",
       "      <td>700</td>\n",
       "      <td>745</td>\n",
       "      <td>143</td>\n",
       "    </tr>\n",
       "  </tbody>\n",
       "</table>\n",
       "<p>82 rows × 3 columns</p>\n",
       "</div>"
      ],
      "text/plain": [
       "                                                              0  \\\n",
       "ESTU_CONSECUTIVO                               SB11200520000001   \n",
       "ESTU_PAIS_RESIDE                                             CO   \n",
       "ESTU_GENERO                                                   M   \n",
       "ESTU_NACIMIENTO_DIA                                          17   \n",
       "ESTU_NACIMIENTO_MES                                          10   \n",
       "ESTU_NACIMIENTO_ANNO                                       1988   \n",
       "ESTU_EDAD                                                    16   \n",
       "ESTU_LIMITA_BAJAVISION                                      NaN   \n",
       "ESTU_LIMITA_SORDOCEGUERA                                    NaN   \n",
       "ESTU_LIMITA_COGNITIVA                                       NaN   \n",
       "ESTU_LIMITA_INVIDENTE                                       NaN   \n",
       "ESTU_LIMITA_MOTRIZ                                          NaN   \n",
       "ESTU_LIMITA_SORDOINTERPRETE                                 NaN   \n",
       "ESTU_LIMITA_SORDONOINTERPRETE                               NaN   \n",
       "ESTU_COD_RESIDE_MCPIO                                     11001   \n",
       "ESTU_RESIDE_MCPIO                                  BOGOTÃ D.C.   \n",
       "ESTU_RESIDE_DEPTO                                       BOGOTÃ   \n",
       "ESTU_ZONA_RESIDE                                              8   \n",
       "ESTU_COD_MCPIO_PRESENTACION                               11001   \n",
       "ESTU_MCPIO_PRESENTACION                            BOGOTÃ D.C.   \n",
       "ESTU_DEPTO_PRESENTACION                                 BOGOTÃ   \n",
       "ESTU_EXAM_NOMBREEXAMEN            EXAMEN DE ESTADO NUEVO (2005)   \n",
       "IND_ESTUDIO_BACHILLERATO                                    NaN   \n",
       "IND_ANNO_TERMINO_BACHILLERATO                               NaN   \n",
       "IND_COD_ICFES_TERMINO                                       NaN   \n",
       "COLE_COD_ICFES                                            52241   \n",
       "COLE_COD_DANE_INSTITUCION                          311001038309   \n",
       "COLE_NOMBRE_SEDE                          COLEGIO NUEVO ESTRADA   \n",
       "COLE_ZONA_UBICACION                                           8   \n",
       "COLE_AREA_UBICACION                                           U   \n",
       "...                                                         ...   \n",
       "FAMI_COMPUTADOR                                             NaN   \n",
       "FAMI_INGRESO_FMILIAR_MENSUAL                                NaN   \n",
       "COLE_VALOR_PENSION                                            4   \n",
       "ESTU_CARRDESEADA_TIPO                                       NaN   \n",
       "ESTU_CARRDESEADA_NUCLEO                                     NaN   \n",
       "ESTU_IES_COD_DESEADA                                       1101   \n",
       "ESTU_IES_DESEADA_NOMBRE        UNIVERSIDAD NACIONAL DE COLOMBIA   \n",
       "ESTU_IES_COD_MPIO_DESEADA                                 11001   \n",
       "ESTU_IES_MPIO_DESEADA                              BOGOTÃ D.C.   \n",
       "ESTU_IES_DEPT_DESEADA                                   BOGOTÃ   \n",
       "ESTU_RAZONINSTITUTO                                           3   \n",
       "ESTU_CARRDESEADA_COD                                      14064   \n",
       "ESTU_CARRDESEADA_RAZON                                        2   \n",
       "PUNT_BIOLOGIA                                             43,63   \n",
       "PUNT_MATEMATICAS                                          32,18   \n",
       "PUNT_FILOSOFIA                                            50,84   \n",
       "PUNT_FISICA                                               39,23   \n",
       "PUNT_HISTORIA                                             46,23   \n",
       "PUNT_QUIMICA                                               44,7   \n",
       "PUNT_LENGUAJE                                             42,39   \n",
       "PUNT_GEOGRAFIA                                            29,51   \n",
       "NOMBRE_IDIOMA                                           INGLÃS   \n",
       "PUNT_IDIOMA                                                43,4   \n",
       "DESEMP_IDIOMA                                               NaN   \n",
       "NOMBRE_PROFUNDIZACION            PROFUNDIZACIÃN EN MATEMÃTICA   \n",
       "PUNT_PROFUNDIZACION                                           5   \n",
       "DESEMP_PROFUNDIZACION                                         I   \n",
       "NOMBRE_INTERDISCIPLINAR                          MEDIO AMBIENTE   \n",
       "PUNT_INTERDISCIPLINAR                                     50,02   \n",
       "ESTU_PUESTO                                                 700   \n",
       "\n",
       "                                                                            1  \\\n",
       "ESTU_CONSECUTIVO                                             SB11200520000002   \n",
       "ESTU_PAIS_RESIDE                                                           CO   \n",
       "ESTU_GENERO                                                                 M   \n",
       "ESTU_NACIMIENTO_DIA                                                         2   \n",
       "ESTU_NACIMIENTO_MES                                                         8   \n",
       "ESTU_NACIMIENTO_ANNO                                                     1988   \n",
       "ESTU_EDAD                                                                  16   \n",
       "ESTU_LIMITA_BAJAVISION                                                    NaN   \n",
       "ESTU_LIMITA_SORDOCEGUERA                                                  NaN   \n",
       "ESTU_LIMITA_COGNITIVA                                                     NaN   \n",
       "ESTU_LIMITA_INVIDENTE                                                     NaN   \n",
       "ESTU_LIMITA_MOTRIZ                                                        NaN   \n",
       "ESTU_LIMITA_SORDOINTERPRETE                                               NaN   \n",
       "ESTU_LIMITA_SORDONOINTERPRETE                                             NaN   \n",
       "ESTU_COD_RESIDE_MCPIO                                                   11001   \n",
       "ESTU_RESIDE_MCPIO                                                BOGOTÃ D.C.   \n",
       "ESTU_RESIDE_DEPTO                                                     BOGOTÃ   \n",
       "ESTU_ZONA_RESIDE                                                            8   \n",
       "ESTU_COD_MCPIO_PRESENTACION                                             11001   \n",
       "ESTU_MCPIO_PRESENTACION                                          BOGOTÃ D.C.   \n",
       "ESTU_DEPTO_PRESENTACION                                               BOGOTÃ   \n",
       "ESTU_EXAM_NOMBREEXAMEN                          EXAMEN DE ESTADO NUEVO (2005)   \n",
       "IND_ESTUDIO_BACHILLERATO                                                  NaN   \n",
       "IND_ANNO_TERMINO_BACHILLERATO                                             NaN   \n",
       "IND_COD_ICFES_TERMINO                                                     NaN   \n",
       "COLE_COD_ICFES                                                          52241   \n",
       "COLE_COD_DANE_INSTITUCION                                        311001038309   \n",
       "COLE_NOMBRE_SEDE                                        COLEGIO NUEVO ESTRADA   \n",
       "COLE_ZONA_UBICACION                                                         8   \n",
       "COLE_AREA_UBICACION                                                         U   \n",
       "...                                                                       ...   \n",
       "FAMI_COMPUTADOR                                                           NaN   \n",
       "FAMI_INGRESO_FMILIAR_MENSUAL                                              NaN   \n",
       "COLE_VALOR_PENSION                                                          4   \n",
       "ESTU_CARRDESEADA_TIPO                                                     NaN   \n",
       "ESTU_CARRDESEADA_NUCLEO                                                   NaN   \n",
       "ESTU_IES_COD_DESEADA                                                     1301   \n",
       "ESTU_IES_DESEADA_NOMBRE        UNIVERSIDAD DISTRITAL FRANCISCO JOSE DE CALDAS   \n",
       "ESTU_IES_COD_MPIO_DESEADA                                               11001   \n",
       "ESTU_IES_MPIO_DESEADA                                            BOGOTÃ D.C.   \n",
       "ESTU_IES_DEPT_DESEADA                                                 BOGOTÃ   \n",
       "ESTU_RAZONINSTITUTO                                                         3   \n",
       "ESTU_CARRDESEADA_COD                                                    11790   \n",
       "ESTU_CARRDESEADA_RAZON                                                      5   \n",
       "PUNT_BIOLOGIA                                                           43,63   \n",
       "PUNT_MATEMATICAS                                                        46,07   \n",
       "PUNT_FILOSOFIA                                                          41,62   \n",
       "PUNT_FISICA                                                              48,9   \n",
       "PUNT_HISTORIA                                                            35,8   \n",
       "PUNT_QUIMICA                                                            30,38   \n",
       "PUNT_LENGUAJE                                                           44,61   \n",
       "PUNT_GEOGRAFIA                                                          33,16   \n",
       "NOMBRE_IDIOMA                                                         INGLÃS   \n",
       "PUNT_IDIOMA                                                              43,4   \n",
       "DESEMP_IDIOMA                                                             NaN   \n",
       "NOMBRE_PROFUNDIZACION                          PROFUNDIZACIÃN EN MATEMÃTICA   \n",
       "PUNT_PROFUNDIZACION                                                       5,8   \n",
       "DESEMP_PROFUNDIZACION                                                      II   \n",
       "NOMBRE_INTERDISCIPLINAR                                        MEDIO AMBIENTE   \n",
       "PUNT_INTERDISCIPLINAR                                                   48,85   \n",
       "ESTU_PUESTO                                                               745   \n",
       "\n",
       "                                                             2  \n",
       "ESTU_CONSECUTIVO                              SB11200520000003  \n",
       "ESTU_PAIS_RESIDE                                            CO  \n",
       "ESTU_GENERO                                                  F  \n",
       "ESTU_NACIMIENTO_DIA                                         15  \n",
       "ESTU_NACIMIENTO_MES                                          7  \n",
       "ESTU_NACIMIENTO_ANNO                                      1989  \n",
       "ESTU_EDAD                                                   15  \n",
       "ESTU_LIMITA_BAJAVISION                                     NaN  \n",
       "ESTU_LIMITA_SORDOCEGUERA                                   NaN  \n",
       "ESTU_LIMITA_COGNITIVA                                      NaN  \n",
       "ESTU_LIMITA_INVIDENTE                                      NaN  \n",
       "ESTU_LIMITA_MOTRIZ                                         NaN  \n",
       "ESTU_LIMITA_SORDOINTERPRETE                                NaN  \n",
       "ESTU_LIMITA_SORDONOINTERPRETE                              NaN  \n",
       "ESTU_COD_RESIDE_MCPIO                                    11001  \n",
       "ESTU_RESIDE_MCPIO                                 BOGOTÃ D.C.  \n",
       "ESTU_RESIDE_DEPTO                                      BOGOTÃ  \n",
       "ESTU_ZONA_RESIDE                                             8  \n",
       "ESTU_COD_MCPIO_PRESENTACION                              11001  \n",
       "ESTU_MCPIO_PRESENTACION                           BOGOTÃ D.C.  \n",
       "ESTU_DEPTO_PRESENTACION                                BOGOTÃ  \n",
       "ESTU_EXAM_NOMBREEXAMEN           EXAMEN DE ESTADO NUEVO (2005)  \n",
       "IND_ESTUDIO_BACHILLERATO                                   NaN  \n",
       "IND_ANNO_TERMINO_BACHILLERATO                              NaN  \n",
       "IND_COD_ICFES_TERMINO                                      NaN  \n",
       "COLE_COD_ICFES                                           52241  \n",
       "COLE_COD_DANE_INSTITUCION                         311001038309  \n",
       "COLE_NOMBRE_SEDE                         COLEGIO NUEVO ESTRADA  \n",
       "COLE_ZONA_UBICACION                                          8  \n",
       "COLE_AREA_UBICACION                                          U  \n",
       "...                                                        ...  \n",
       "FAMI_COMPUTADOR                                            NaN  \n",
       "FAMI_INGRESO_FMILIAR_MENSUAL                               NaN  \n",
       "COLE_VALOR_PENSION                                           0  \n",
       "ESTU_CARRDESEADA_TIPO                                      NaN  \n",
       "ESTU_CARRDESEADA_NUCLEO                                    NaN  \n",
       "ESTU_IES_COD_DESEADA                                      1105  \n",
       "ESTU_IES_DESEADA_NOMBRE        UNIVERSIDAD PEDAGOGICA NACIONAL  \n",
       "ESTU_IES_COD_MPIO_DESEADA                                11001  \n",
       "ESTU_IES_MPIO_DESEADA                             BOGOTÃ D.C.  \n",
       "ESTU_IES_DEPT_DESEADA                                  BOGOTÃ  \n",
       "ESTU_RAZONINSTITUTO                                          2  \n",
       "ESTU_CARRDESEADA_COD                                     11493  \n",
       "ESTU_CARRDESEADA_RAZON                                       2  \n",
       "PUNT_BIOLOGIA                                             49,8  \n",
       "PUNT_MATEMATICAS                                         57,98  \n",
       "PUNT_FILOSOFIA                                           46,43  \n",
       "PUNT_FISICA                                              46,06  \n",
       "PUNT_HISTORIA                                            49,82  \n",
       "PUNT_QUIMICA                                             48,36  \n",
       "PUNT_LENGUAJE                                            56,52  \n",
       "PUNT_GEOGRAFIA                                           38,74  \n",
       "NOMBRE_IDIOMA                                          INGLÃS  \n",
       "PUNT_IDIOMA                                              50,67  \n",
       "DESEMP_IDIOMA                                              NaN  \n",
       "NOMBRE_PROFUNDIZACION              PROFUNDIZACIÃN EN LENGUAJE  \n",
       "PUNT_PROFUNDIZACION                                        5,5  \n",
       "DESEMP_PROFUNDIZACION                                        I  \n",
       "NOMBRE_INTERDISCIPLINAR                   VIOLENCIA Y SOCIEDAD  \n",
       "PUNT_INTERDISCIPLINAR                                    50,02  \n",
       "ESTU_PUESTO                                                143  \n",
       "\n",
       "[82 rows x 3 columns]"
      ]
     },
     "execution_count": 140,
     "metadata": {},
     "output_type": "execute_result"
    }
   ],
   "source": [
    "data_2005_2.head(3).T"
   ]
  },
  {
   "cell_type": "markdown",
   "metadata": {},
   "source": [
    "The first is delete the columns that won't contribute to the work"
   ]
  },
  {
   "cell_type": "code",
   "execution_count": 141,
   "metadata": {
    "collapsed": false
   },
   "outputs": [],
   "source": [
    "data_2005_2 = data_2005_2.drop(['ESTU_CONSECUTIVO', 'ESTU_COD_RESIDE_MCPIO', 'ESTU_COD_MCPIO_PRESENTACION', 'COLE_NOMBRE_SEDE',\n",
    "                                'ESTU_IES_DESEADA_NOMBRE', 'ESTU_IES_COD_MPIO_DESEADA'], axis=1)"
   ]
  },
  {
   "cell_type": "code",
   "execution_count": 142,
   "metadata": {
    "collapsed": false,
    "scrolled": true
   },
   "outputs": [
    {
     "name": "stdout",
     "output_type": "stream",
     "text": [
      "Index(['AG', 'AR', 'AU', 'BO', 'BR', 'CL', 'CN', 'CO', 'CU', 'DK', 'DO', 'EC',\n",
      "       'ES', 'IT', 'KM', 'KP', 'KR', 'PE', 'TD', 'TW', 'US', 'VE'],\n",
      "      dtype='object')\n",
      "AG         1\n",
      "AR         1\n",
      "AU         1\n",
      "BO         2\n",
      "BR         2\n",
      "CL         1\n",
      "CN         2\n",
      "CO    383722\n",
      "CU         2\n",
      "DK         1\n",
      "DO         2\n",
      "EC         5\n",
      "ES         1\n",
      "IT         2\n",
      "KM         1\n",
      "KP         1\n",
      "KR         1\n",
      "PE         6\n",
      "TD         1\n",
      "TW         1\n",
      "US        20\n",
      "VE        14\n",
      "Name: ESTU_PAIS_RESIDE, dtype: int64\n",
      "Elementos null/NaN 174\n",
      "__________________\n",
      "Elementos diferentes de null/NaN: 383790\n",
      "__________________\n",
      "(383790,)\n",
      "None\n"
     ]
    }
   ],
   "source": [
    "c = 'ESTU_PAIS_RESIDE'\n",
    "print(data_2005_2[c].value_counts().sort_index().index)\n",
    "print(data_2005_2[c].value_counts().sort_index())\n",
    "print(missing_data(data_2005_2[c]))"
   ]
  },
  {
   "cell_type": "code",
   "execution_count": 143,
   "metadata": {
    "collapsed": false
   },
   "outputs": [
    {
     "name": "stdout",
     "output_type": "stream",
     "text": [
      "Index(['F', 'M'], dtype='object')\n",
      "F    206809\n",
      "M    177155\n",
      "Name: ESTU_GENERO, dtype: int64\n",
      "Elementos null/NaN 0\n",
      "__________________\n",
      "Elementos diferentes de null/NaN: 383964\n",
      "__________________\n",
      "(383964,)\n",
      "None\n"
     ]
    }
   ],
   "source": [
    "c = 'ESTU_GENERO'\n",
    "print(data_2005_2[c].value_counts().sort_index().index)\n",
    "print(data_2005_2[c].value_counts().sort_index())\n",
    "print(missing_data(data_2005_2[c]))"
   ]
  },
  {
   "cell_type": "code",
   "execution_count": 144,
   "metadata": {
    "collapsed": false,
    "scrolled": true
   },
   "outputs": [
    {
     "name": "stdout",
     "output_type": "stream",
     "text": [
      "Float64Index([ 1.0,  2.0,  3.0,  4.0,  5.0,  6.0,  7.0,  8.0,  9.0, 10.0, 11.0,\n",
      "              12.0, 13.0, 14.0, 15.0, 16.0, 17.0, 18.0, 19.0, 20.0, 21.0, 22.0,\n",
      "              23.0, 24.0, 25.0, 26.0, 27.0, 28.0, 29.0, 30.0, 31.0],\n",
      "             dtype='float64')\n",
      "1.0     12914\n",
      "2.0     12495\n",
      "3.0     12723\n",
      "4.0     12817\n",
      "5.0     12799\n",
      "6.0     12599\n",
      "7.0     12769\n",
      "8.0     12718\n",
      "9.0     12449\n",
      "10.0    12994\n",
      "11.0    12303\n",
      "12.0    12793\n",
      "13.0    12378\n",
      "14.0    12465\n",
      "15.0    12862\n",
      "16.0    12425\n",
      "17.0    12784\n",
      "18.0    12359\n",
      "19.0    12432\n",
      "20.0    12971\n",
      "21.0    12339\n",
      "22.0    12543\n",
      "23.0    12424\n",
      "24.0    12792\n",
      "25.0    12747\n",
      "26.0    12392\n",
      "27.0    12689\n",
      "28.0    12895\n",
      "29.0    11761\n",
      "30.0    11312\n",
      "31.0     6999\n",
      "Name: ESTU_NACIMIENTO_DIA, dtype: int64\n",
      "Elementos null/NaN 22\n",
      "__________________\n",
      "Elementos diferentes de null/NaN: 383942\n",
      "__________________\n",
      "(383942,)\n",
      "None\n"
     ]
    }
   ],
   "source": [
    "c = 'ESTU_NACIMIENTO_DIA'\n",
    "print(data_2005_2[c].value_counts().sort_index().index)\n",
    "print(data_2005_2[c].value_counts().sort_index())\n",
    "print(missing_data(data_2005_2[c]))"
   ]
  },
  {
   "cell_type": "code",
   "execution_count": 145,
   "metadata": {
    "collapsed": false,
    "scrolled": true
   },
   "outputs": [
    {
     "name": "stdout",
     "output_type": "stream",
     "text": [
      "Float64Index([1.0, 2.0, 3.0, 4.0, 5.0, 6.0, 7.0, 8.0, 9.0, 10.0, 11.0, 12.0], dtype='float64')\n",
      "1.0     31435\n",
      "2.0     28520\n",
      "3.0     32077\n",
      "4.0     30925\n",
      "5.0     31789\n",
      "6.0     30277\n",
      "7.0     32311\n",
      "8.0     32916\n",
      "9.0     34235\n",
      "10.0    34117\n",
      "11.0    32469\n",
      "12.0    32871\n",
      "Name: ESTU_NACIMIENTO_MES, dtype: int64\n",
      "Elementos null/NaN 22\n",
      "__________________\n",
      "Elementos diferentes de null/NaN: 383942\n",
      "__________________\n",
      "(383942,)\n",
      "None\n"
     ]
    }
   ],
   "source": [
    "c = 'ESTU_NACIMIENTO_MES'\n",
    "print(data_2005_2[c].value_counts().sort_index().index)\n",
    "print(data_2005_2[c].value_counts().sort_index())\n",
    "print(missing_data(data_2005_2[c]))"
   ]
  },
  {
   "cell_type": "code",
   "execution_count": 146,
   "metadata": {
    "collapsed": false,
    "scrolled": true
   },
   "outputs": [
    {
     "name": "stdout",
     "output_type": "stream",
     "text": [
      "Float64Index([1930.0, 1931.0, 1933.0, 1934.0, 1935.0, 1936.0, 1937.0, 1938.0,\n",
      "              1939.0, 1940.0, 1941.0, 1942.0, 1943.0, 1944.0, 1945.0, 1946.0,\n",
      "              1947.0, 1948.0, 1949.0, 1950.0, 1951.0, 1952.0, 1953.0, 1954.0,\n",
      "              1955.0, 1956.0, 1957.0, 1958.0, 1959.0, 1960.0, 1961.0, 1962.0,\n",
      "              1963.0, 1964.0, 1965.0, 1966.0, 1967.0, 1968.0, 1969.0, 1970.0,\n",
      "              1971.0, 1972.0, 1973.0, 1974.0, 1975.0, 1976.0, 1977.0, 1978.0,\n",
      "              1979.0, 1980.0, 1981.0, 1982.0, 1983.0, 1984.0, 1985.0, 1986.0,\n",
      "              1987.0, 1988.0, 1989.0, 1990.0, 1991.0, 1992.0, 1993.0, 1994.0,\n",
      "              2084.0, 2088.0, 2090.0, 2092.0],\n",
      "             dtype='float64')\n",
      "1930.0        11\n",
      "1931.0         3\n",
      "1933.0         1\n",
      "1934.0         3\n",
      "1935.0         4\n",
      "1936.0         8\n",
      "1937.0         8\n",
      "1938.0         1\n",
      "1939.0         2\n",
      "1940.0        11\n",
      "1941.0         6\n",
      "1942.0         5\n",
      "1943.0         4\n",
      "1944.0        13\n",
      "1945.0        14\n",
      "1946.0        14\n",
      "1947.0        15\n",
      "1948.0        19\n",
      "1949.0        23\n",
      "1950.0        20\n",
      "1951.0        20\n",
      "1952.0        39\n",
      "1953.0        46\n",
      "1954.0        57\n",
      "1955.0        64\n",
      "1956.0        79\n",
      "1957.0        96\n",
      "1958.0       113\n",
      "1959.0       123\n",
      "1960.0       152\n",
      "           ...  \n",
      "1969.0       661\n",
      "1970.0       461\n",
      "1971.0       491\n",
      "1972.0       563\n",
      "1973.0       545\n",
      "1974.0       608\n",
      "1975.0       645\n",
      "1976.0       695\n",
      "1977.0       786\n",
      "1978.0       928\n",
      "1979.0      1175\n",
      "1980.0      1423\n",
      "1981.0      1794\n",
      "1982.0      2368\n",
      "1983.0      3499\n",
      "1984.0      6822\n",
      "1985.0     14956\n",
      "1986.0     34552\n",
      "1987.0     70017\n",
      "1988.0    131881\n",
      "1989.0     87477\n",
      "1990.0      8934\n",
      "1991.0      2342\n",
      "1992.0      1739\n",
      "1993.0      1207\n",
      "1994.0      3478\n",
      "2084.0         1\n",
      "2088.0         1\n",
      "2090.0         1\n",
      "2092.0         1\n",
      "Name: ESTU_NACIMIENTO_ANNO, dtype: int64\n",
      "Elementos null/NaN 22\n",
      "__________________\n",
      "Elementos diferentes de null/NaN: 383942\n",
      "__________________\n",
      "(383942,)\n",
      "None\n"
     ]
    }
   ],
   "source": [
    "c = 'ESTU_NACIMIENTO_ANNO'\n",
    "print(data_2005_2[c].value_counts().sort_index().index)\n",
    "print(data_2005_2[c].value_counts().sort_index())\n",
    "print(missing_data(data_2005_2[c]))"
   ]
  },
  {
   "cell_type": "code",
   "execution_count": 147,
   "metadata": {
    "collapsed": true
   },
   "outputs": [],
   "source": [
    "for i in data_2005_2['ESTU_NACIMIENTO_ANNO'].value_counts().sort_index().index:\n",
    "    if i > 1994:\n",
    "        data_2005_2['ESTU_NACIMIENTO_ANNO'] = data_2005_2['ESTU_NACIMIENTO_ANNO'].replace(i, np.nan)"
   ]
  },
  {
   "cell_type": "code",
   "execution_count": 148,
   "metadata": {
    "collapsed": false,
    "scrolled": true
   },
   "outputs": [
    {
     "name": "stdout",
     "output_type": "stream",
     "text": [
      "Int64Index([10, 11, 12, 13, 14, 15, 16, 17, 18, 19, 20, 21, 22, 23, 24, 25, 26,\n",
      "            27, 28, 29, 30, 31, 32, 33, 34, 35, 36, 37, 38, 39, 40, 41, 42, 43,\n",
      "            44, 45, 46, 47, 48, 49, 50, 51, 52, 53, 54, 55, 56, 57, 58, 59, 60,\n",
      "            61, 62, 63, 64, 65, 66, 67, 68, 69, 70, 71, 72, 73, 74, 75],\n",
      "           dtype='int64')\n",
      "10      1094\n",
      "11      2823\n",
      "12      1380\n",
      "13      1960\n",
      "14      3098\n",
      "15     21925\n",
      "16    127322\n",
      "17    106025\n",
      "18     56063\n",
      "19     26175\n",
      "20     11470\n",
      "21      5399\n",
      "22      3071\n",
      "23      2122\n",
      "24      1639\n",
      "25      1364\n",
      "26      1070\n",
      "27       882\n",
      "28       791\n",
      "29       649\n",
      "30       618\n",
      "31       579\n",
      "32       571\n",
      "33       524\n",
      "34       483\n",
      "35       502\n",
      "36       732\n",
      "37       683\n",
      "38       564\n",
      "39       390\n",
      "       ...  \n",
      "46       109\n",
      "47       114\n",
      "48        89\n",
      "49        76\n",
      "50        57\n",
      "51        53\n",
      "52        43\n",
      "53        37\n",
      "54        16\n",
      "55        21\n",
      "56        19\n",
      "57        19\n",
      "58        18\n",
      "59         9\n",
      "60        18\n",
      "61         8\n",
      "62         5\n",
      "63         4\n",
      "64         6\n",
      "65        11\n",
      "66         1\n",
      "67         2\n",
      "68         9\n",
      "69         6\n",
      "70         4\n",
      "71         3\n",
      "72         1\n",
      "73         1\n",
      "74         5\n",
      "75         8\n",
      "Name: ESTU_EDAD, dtype: int64\n",
      "Elementos null/NaN 0\n",
      "__________________\n",
      "Elementos diferentes de null/NaN: 383964\n",
      "__________________\n",
      "(383964,)\n",
      "None\n"
     ]
    }
   ],
   "source": [
    "c = 'ESTU_EDAD'\n",
    "print(data_2005_2[c].value_counts().sort_index().index)\n",
    "print(data_2005_2[c].value_counts().sort_index())\n",
    "print(missing_data(data_2005_2[c]))"
   ]
  },
  {
   "cell_type": "code",
   "execution_count": 149,
   "metadata": {
    "collapsed": false
   },
   "outputs": [
    {
     "name": "stdout",
     "output_type": "stream",
     "text": [
      "Float64Index([], dtype='float64')\n",
      "Series([], Name: ESTU_LIMITA_BAJAVISION, dtype: int64)\n",
      "Elementos null/NaN 383964\n",
      "__________________\n",
      "Elementos diferentes de null/NaN: 0\n",
      "__________________\n",
      "(0,)\n",
      "None\n"
     ]
    }
   ],
   "source": [
    "c = 'ESTU_LIMITA_BAJAVISION'\n",
    "print(data_2005_2[c].value_counts().sort_index().index)\n",
    "print(data_2005_2[c].value_counts().sort_index())\n",
    "print(missing_data(data_2005_2[c]))"
   ]
  },
  {
   "cell_type": "code",
   "execution_count": 150,
   "metadata": {
    "collapsed": true
   },
   "outputs": [],
   "source": [
    "data_2005_2 = data_2005_2.drop(['ESTU_LIMITA_BAJAVISION'], axis=1)"
   ]
  },
  {
   "cell_type": "code",
   "execution_count": 151,
   "metadata": {
    "collapsed": false
   },
   "outputs": [
    {
     "name": "stdout",
     "output_type": "stream",
     "text": [
      "Float64Index([], dtype='float64')\n",
      "Series([], Name: ESTU_LIMITA_SORDOCEGUERA, dtype: int64)\n",
      "Elementos null/NaN 383964\n",
      "__________________\n",
      "Elementos diferentes de null/NaN: 0\n",
      "__________________\n",
      "(0,)\n",
      "None\n"
     ]
    }
   ],
   "source": [
    "c = 'ESTU_LIMITA_SORDOCEGUERA'\n",
    "print(data_2005_2[c].value_counts().sort_index().index)\n",
    "print(data_2005_2[c].value_counts().sort_index())\n",
    "print(missing_data(data_2005_2[c]))"
   ]
  },
  {
   "cell_type": "code",
   "execution_count": 152,
   "metadata": {
    "collapsed": true
   },
   "outputs": [],
   "source": [
    "data_2005_2 = data_2005_2.drop(['ESTU_LIMITA_SORDOCEGUERA'], axis=1)"
   ]
  },
  {
   "cell_type": "code",
   "execution_count": 153,
   "metadata": {
    "collapsed": false
   },
   "outputs": [
    {
     "name": "stdout",
     "output_type": "stream",
     "text": [
      "Float64Index([], dtype='float64')\n",
      "Series([], Name: ESTU_LIMITA_COGNITIVA, dtype: int64)\n",
      "Elementos null/NaN 383964\n",
      "__________________\n",
      "Elementos diferentes de null/NaN: 0\n",
      "__________________\n",
      "(0,)\n",
      "None\n"
     ]
    }
   ],
   "source": [
    "c = 'ESTU_LIMITA_COGNITIVA'\n",
    "print(data_2005_2[c].value_counts().sort_index().index)\n",
    "print(data_2005_2[c].value_counts().sort_index())\n",
    "print(missing_data(data_2005_2[c]))"
   ]
  },
  {
   "cell_type": "code",
   "execution_count": 154,
   "metadata": {
    "collapsed": true
   },
   "outputs": [],
   "source": [
    "data_2005_2 = data_2005_2.drop(['ESTU_LIMITA_COGNITIVA'], axis=1)"
   ]
  },
  {
   "cell_type": "code",
   "execution_count": 155,
   "metadata": {
    "collapsed": false
   },
   "outputs": [
    {
     "name": "stdout",
     "output_type": "stream",
     "text": [
      "Float64Index([], dtype='float64')\n",
      "Series([], Name: ESTU_LIMITA_INVIDENTE, dtype: int64)\n",
      "Elementos null/NaN 383964\n",
      "__________________\n",
      "Elementos diferentes de null/NaN: 0\n",
      "__________________\n",
      "(0,)\n",
      "None\n"
     ]
    }
   ],
   "source": [
    "c = 'ESTU_LIMITA_INVIDENTE'\n",
    "print(data_2005_2[c].value_counts().sort_index().index)\n",
    "print(data_2005_2[c].value_counts().sort_index())\n",
    "print(missing_data(data_2005_2[c]))"
   ]
  },
  {
   "cell_type": "code",
   "execution_count": 156,
   "metadata": {
    "collapsed": true
   },
   "outputs": [],
   "source": [
    "data_2005_2 = data_2005_2.drop(['ESTU_LIMITA_INVIDENTE'], axis=1)"
   ]
  },
  {
   "cell_type": "code",
   "execution_count": 157,
   "metadata": {
    "collapsed": false
   },
   "outputs": [
    {
     "name": "stdout",
     "output_type": "stream",
     "text": [
      "Float64Index([], dtype='float64')\n",
      "Series([], Name: ESTU_LIMITA_MOTRIZ, dtype: int64)\n",
      "Elementos null/NaN 383964\n",
      "__________________\n",
      "Elementos diferentes de null/NaN: 0\n",
      "__________________\n",
      "(0,)\n",
      "None\n"
     ]
    }
   ],
   "source": [
    "c = 'ESTU_LIMITA_MOTRIZ'\n",
    "print(data_2005_2[c].value_counts().sort_index().index)\n",
    "print(data_2005_2[c].value_counts().sort_index())\n",
    "print(missing_data(data_2005_2[c]))"
   ]
  },
  {
   "cell_type": "code",
   "execution_count": 158,
   "metadata": {
    "collapsed": true
   },
   "outputs": [],
   "source": [
    "data_2005_2 = data_2005_2.drop(['ESTU_LIMITA_MOTRIZ'], axis=1)"
   ]
  },
  {
   "cell_type": "code",
   "execution_count": 159,
   "metadata": {
    "collapsed": false
   },
   "outputs": [
    {
     "name": "stdout",
     "output_type": "stream",
     "text": [
      "Float64Index([], dtype='float64')\n",
      "Series([], Name: ESTU_LIMITA_SORDOINTERPRETE, dtype: int64)\n",
      "Elementos null/NaN 383964\n",
      "__________________\n",
      "Elementos diferentes de null/NaN: 0\n",
      "__________________\n",
      "(0,)\n",
      "None\n"
     ]
    }
   ],
   "source": [
    "c = 'ESTU_LIMITA_SORDOINTERPRETE'\n",
    "print(data_2005_2[c].value_counts().sort_index().index)\n",
    "print(data_2005_2[c].value_counts().sort_index())\n",
    "print(missing_data(data_2005_2[c]))"
   ]
  },
  {
   "cell_type": "code",
   "execution_count": 160,
   "metadata": {
    "collapsed": true
   },
   "outputs": [],
   "source": [
    "data_2005_2 = data_2005_2.drop(['ESTU_LIMITA_SORDOINTERPRETE'], axis=1)"
   ]
  },
  {
   "cell_type": "code",
   "execution_count": 161,
   "metadata": {
    "collapsed": false
   },
   "outputs": [
    {
     "name": "stdout",
     "output_type": "stream",
     "text": [
      "Float64Index([], dtype='float64')\n",
      "Series([], Name: ESTU_LIMITA_SORDONOINTERPRETE, dtype: int64)\n",
      "Elementos null/NaN 383964\n",
      "__________________\n",
      "Elementos diferentes de null/NaN: 0\n",
      "__________________\n",
      "(0,)\n",
      "None\n"
     ]
    }
   ],
   "source": [
    "c = 'ESTU_LIMITA_SORDONOINTERPRETE'\n",
    "print(data_2005_2[c].value_counts().sort_index().index)\n",
    "print(data_2005_2[c].value_counts().sort_index())\n",
    "print(missing_data(data_2005_2[c]))"
   ]
  },
  {
   "cell_type": "code",
   "execution_count": 162,
   "metadata": {
    "collapsed": true
   },
   "outputs": [],
   "source": [
    "data_2005_2 = data_2005_2.drop(['ESTU_LIMITA_SORDONOINTERPRETE'], axis=1)"
   ]
  },
  {
   "cell_type": "code",
   "execution_count": 163,
   "metadata": {
    "collapsed": false,
    "scrolled": true
   },
   "outputs": [
    {
     "name": "stdout",
     "output_type": "stream",
     "text": [
      "Index(['ABEJORRAL', 'ABREGO', 'ABRIAQUI', 'ACACIAS', 'ACANDI', 'ACEVEDO',\n",
      "       'ACHI', 'AGRADO', 'AGUA DE DIOS', 'AGUACHICA',\n",
      "       ...\n",
      "       'YUMBO', 'ZAMBRANO', 'ZAPATOCA', 'ZAPAYAN', 'ZARAGOZA', 'ZARZAL',\n",
      "       'ZETAQUIRA', 'ZIPACON', 'ZIPAQUIRA', 'ZONA BANANERA'],\n",
      "      dtype='object', length=958)\n",
      "ABEJORRAL                    123\n",
      "ABREGO                       116\n",
      "ABRIAQUI                      29\n",
      "ACACIAS                      722\n",
      "ACANDI                        45\n",
      "ACEVEDO                       45\n",
      "ACHI                         155\n",
      "AGRADO                        76\n",
      "AGUA DE DIOS                 134\n",
      "AGUACHICA                    724\n",
      "AGUADA                        13\n",
      "AGUADAS                      266\n",
      "AGUAZUL                      423\n",
      "AGUSTIN CODAZZI              509\n",
      "AIPE                         143\n",
      "ALBAN                         48\n",
      "ALBANIA                      155\n",
      "ALEJANDRIA                    34\n",
      "ALGARROBO                     86\n",
      "ALGECIRAS                    101\n",
      "ALMAGUER                      52\n",
      "ALMEIDA                       19\n",
      "ALPUJARRA                     45\n",
      "ALTAMIRA                      24\n",
      "ALTO BAUDO (PIE DE PATO)      40\n",
      "ALTOS DEL ROSARIO             46\n",
      "ALVARADO                      62\n",
      "AMAGA                        284\n",
      "AMALFI                       177\n",
      "AMBALEMA                      80\n",
      "                            ... \n",
      "VILLAMARIA                   442\n",
      "VILLANUEVA                   607\n",
      "VILLAPINZON                  226\n",
      "VILLARRICA                    55\n",
      "VILLAVICENCIO               4562\n",
      "VILLAVIEJA                    57\n",
      "VILLETA                      305\n",
      "VIOTA                        136\n",
      "VIRACACHA                     33\n",
      "VISTA HERMOSA                 49\n",
      "VITERBO                      154\n",
      "YACOPI                        72\n",
      "YACUANQUER                     4\n",
      "YAGUARA                       82\n",
      "YALI                          49\n",
      "YARUMAL                      464\n",
      "YAVARATE                      10\n",
      "YOLOMBO                      167\n",
      "YONDO (CASABE)                77\n",
      "YOPAL                       1159\n",
      "YUMBO                         53\n",
      "ZAMBRANO                      92\n",
      "ZAPATOCA                      63\n",
      "ZAPAYAN                       40\n",
      "ZARAGOZA                     151\n",
      "ZARZAL                        27\n",
      "ZETAQUIRA                     76\n",
      "ZIPACON                       41\n",
      "ZIPAQUIRA                   1284\n",
      "ZONA BANANERA                277\n",
      "Name: ESTU_RESIDE_MCPIO, dtype: int64\n",
      "Elementos null/NaN 1\n",
      "__________________\n",
      "Elementos diferentes de null/NaN: 383963\n",
      "__________________\n",
      "(383963,)\n",
      "None\n"
     ]
    }
   ],
   "source": [
    "c = 'ESTU_RESIDE_MCPIO'\n",
    "print(data_2005_2[c].value_counts().sort_index().index)\n",
    "print(data_2005_2[c].value_counts().sort_index())\n",
    "print(missing_data(data_2005_2[c]))"
   ]
  },
  {
   "cell_type": "code",
   "execution_count": 164,
   "metadata": {
    "collapsed": false,
    "scrolled": true
   },
   "outputs": [
    {
     "name": "stdout",
     "output_type": "stream",
     "text": [
      "Index(['AMAZONAS', 'ANTIOQUIA', 'ARAUCA', 'ATLÃNTICO', 'BOGOTÃ', 'BOLÃVAR',\n",
      "       'BOYACÃ', 'CALDAS', 'CAQUETÃ', 'CASANARE', 'CAUCA', 'CESAR', 'CHOCÃ',\n",
      "       'CUNDINAMARCA', 'CÃRDOBA', 'GUAINÃA', 'GUAVIARE', 'HUILA',\n",
      "       'LA GUAJIRA', 'MAGDALENA', 'META', 'NARIÃO', 'NORTE SANTANDER',\n",
      "       'PUTUMAYO', 'QUINDÃO', 'RISARALDA', 'SAN ANDRÃS', 'SANTANDER',\n",
      "       'SUCRE', 'TOLIMA', 'VALLE', 'VAUPÃS', 'VICHADA'],\n",
      "      dtype='object')\n",
      "AMAZONAS             594\n",
      "ANTIOQUIA          57017\n",
      "ARAUCA              1899\n",
      "ATLÃNTICO         24900\n",
      "BOGOTÃ            83567\n",
      "BOLÃVAR           19262\n",
      "BOYACÃ            14598\n",
      "CALDAS             10310\n",
      "CAQUETÃ            2430\n",
      "CASANARE            2829\n",
      "CAUCA               7675\n",
      "CESAR               8548\n",
      "CHOCÃ              3348\n",
      "CUNDINAMARCA       25621\n",
      "CÃRDOBA           13304\n",
      "GUAINÃA             110\n",
      "GUAVIARE             435\n",
      "HUILA               8507\n",
      "LA GUAJIRA          5048\n",
      "MAGDALENA          10690\n",
      "META                7474\n",
      "NARIÃO              461\n",
      "NORTE SANTANDER    13136\n",
      "PUTUMAYO            1861\n",
      "QUINDÃO            5467\n",
      "RISARALDA           8751\n",
      "SAN ANDRÃS          740\n",
      "SANTANDER          21706\n",
      "SUCRE               8364\n",
      "TOLIMA             13535\n",
      "VALLE               1370\n",
      "VAUPÃS              147\n",
      "VICHADA              259\n",
      "Name: ESTU_RESIDE_DEPTO, dtype: int64\n",
      "Elementos null/NaN 1\n",
      "__________________\n",
      "Elementos diferentes de null/NaN: 383963\n",
      "__________________\n",
      "(383963,)\n",
      "None\n"
     ]
    }
   ],
   "source": [
    "c = 'ESTU_RESIDE_DEPTO'\n",
    "print(data_2005_2[c].value_counts().sort_index().index)\n",
    "print(data_2005_2[c].value_counts().sort_index())\n",
    "print(missing_data(data_2005_2[c]))"
   ]
  },
  {
   "cell_type": "code",
   "execution_count": 165,
   "metadata": {
    "collapsed": true
   },
   "outputs": [],
   "source": [
    "c = 'ESTU_RESIDE_DEPTO'\n",
    "data_2005_2[c] = data_2005_2[c].replace('ATLÃNTICO', 'ATLANTICO')\n",
    "data_2005_2[c] = data_2005_2[c].replace('BOGOTÃ', 'BOGOTA')\n",
    "data_2005_2[c] = data_2005_2[c].replace('BOLÃVAR', 'BOLIVAR')\n",
    "data_2005_2[c] = data_2005_2[c].replace('BOYACÃ', 'BOYACA')\n",
    "data_2005_2[c] = data_2005_2[c].replace('CAQUETÃ', 'CAQUETA')\n",
    "data_2005_2[c] = data_2005_2[c].replace('CHOCÃ', 'CHOCO')\n",
    "data_2005_2[c] = data_2005_2[c].replace('CÃRDOBA', 'CORDOBA')\n",
    "data_2005_2[c] = data_2005_2[c].replace('GUAINÃA', 'GUAINIA')\n",
    "data_2005_2[c] = data_2005_2[c].replace('NARIÃO', 'NARIÑO')\n",
    "data_2005_2[c] = data_2005_2[c].replace('QUINDÃO', 'QUINDIO')\n",
    "data_2005_2[c] = data_2005_2[c].replace('SAN ANDRÃS', 'SAN ANDRES')\n",
    "data_2005_2[c] = data_2005_2[c].replace('VAUPÃS', 'VAUPES')"
   ]
  },
  {
   "cell_type": "code",
   "execution_count": 166,
   "metadata": {
    "collapsed": false
   },
   "outputs": [
    {
     "name": "stdout",
     "output_type": "stream",
     "text": [
      "Float64Index([1.0, 2.0, 3.0, 4.0, 5.0, 6.0, 7.0, 8.0, 9.0, 10.0], dtype='float64')\n",
      "1.0      18085\n",
      "2.0       2699\n",
      "3.0      10505\n",
      "4.0      41028\n",
      "5.0      14604\n",
      "6.0       8233\n",
      "7.0       9770\n",
      "8.0      22305\n",
      "9.0      16035\n",
      "10.0    240699\n",
      "Name: ESTU_ZONA_RESIDE, dtype: int64\n",
      "Elementos null/NaN 1\n",
      "__________________\n",
      "Elementos diferentes de null/NaN: 383963\n",
      "__________________\n",
      "(383963,)\n",
      "None\n"
     ]
    }
   ],
   "source": [
    "c = 'ESTU_ZONA_RESIDE'\n",
    "print(data_2005_2[c].value_counts().sort_index().index)\n",
    "print(data_2005_2[c].value_counts().sort_index())\n",
    "print(missing_data(data_2005_2[c]))"
   ]
  },
  {
   "cell_type": "code",
   "execution_count": 167,
   "metadata": {
    "collapsed": false,
    "scrolled": true
   },
   "outputs": [
    {
     "name": "stdout",
     "output_type": "stream",
     "text": [
      "Index(['ABEJORRAL', 'ABREGO', 'ACACIAS', 'ACANDI', 'ACHI', 'AGUACHICA',\n",
      "       'AGUADAS', 'AGUAZUL', 'AGUSTIN CODAZZI', 'AIPE',\n",
      "       ...\n",
      "       'VILLAVICENCIO', 'VILLETA', 'VIOTA', 'YARUMAL', 'YAVARATE', 'YOLOMBO',\n",
      "       'YOPAL', 'ZAPATOCA', 'ZARAGOZA', 'ZIPAQUIRA'],\n",
      "      dtype='object', length=350)\n",
      "ABEJORRAL                    125\n",
      "ABREGO                       118\n",
      "ACACIAS                      641\n",
      "ACANDI                        45\n",
      "ACHI                         179\n",
      "AGUACHICA                   1081\n",
      "AGUADAS                      268\n",
      "AGUAZUL                      375\n",
      "AGUSTIN CODAZZI              521\n",
      "AIPE                         152\n",
      "ALTO BAUDO (PIE DE PATO)      40\n",
      "AMAGA                        614\n",
      "AMALFI                       283\n",
      "ANDES                        536\n",
      "ANOLAIMA                     256\n",
      "ANSERMA                      602\n",
      "APARTADO                    1481\n",
      "ARACATACA                    350\n",
      "ARAUCA                       806\n",
      "ARAUQUITA                    216\n",
      "ARBELAEZ                     464\n",
      "ARBOLEDAS                     64\n",
      "ARBOLETES                    303\n",
      "ARIGUANI (EL DIFICIL)        247\n",
      "ARJONA                       518\n",
      "ARMENIA                     3583\n",
      "ASTREA                       179\n",
      "ATRATO (YUTO)                 93\n",
      "AYAPEL                       336\n",
      "BAGADO                        58\n",
      "                            ... \n",
      "TULUA                         40\n",
      "TUMACO                        92\n",
      "TUNJA                       3637\n",
      "TURBACO                      769\n",
      "TURBO                        795\n",
      "TURMEQUE                     218\n",
      "TUTA                         106\n",
      "UBATE                        947\n",
      "UNGUIA                        49\n",
      "URRAO                        374\n",
      "VALLEDUPAR                  4807\n",
      "VELEZ                        401\n",
      "VENADILLO                    181\n",
      "VENTAQUEMADA                 156\n",
      "VIGIA DEL FUERTE              36\n",
      "VILLA DE LEYVA               285\n",
      "VILLA DEL ROSARIO            631\n",
      "VILLAGARZON                  107\n",
      "VILLAMARIA                   339\n",
      "VILLANUEVA                   612\n",
      "VILLAVICENCIO               5240\n",
      "VILLETA                      544\n",
      "VIOTA                         81\n",
      "YARUMAL                      646\n",
      "YAVARATE                      10\n",
      "YOLOMBO                      245\n",
      "YOPAL                       1348\n",
      "ZAPATOCA                      83\n",
      "ZARAGOZA                     152\n",
      "ZIPAQUIRA                   1857\n",
      "Name: ESTU_MCPIO_PRESENTACION, dtype: int64\n",
      "Elementos null/NaN 0\n",
      "__________________\n",
      "Elementos diferentes de null/NaN: 383964\n",
      "__________________\n",
      "(383964,)\n",
      "None\n"
     ]
    }
   ],
   "source": [
    "c = 'ESTU_MCPIO_PRESENTACION'\n",
    "print(data_2005_2[c].value_counts().sort_index().index)\n",
    "print(data_2005_2[c].value_counts().sort_index())\n",
    "print(missing_data(data_2005_2[c]))"
   ]
  },
  {
   "cell_type": "code",
   "execution_count": 168,
   "metadata": {
    "collapsed": false,
    "scrolled": true
   },
   "outputs": [
    {
     "name": "stdout",
     "output_type": "stream",
     "text": [
      "Index(['AMAZONAS', 'ANTIOQUIA', 'ARAUCA', 'ATLÃNTICO', 'BOGOTÃ', 'BOLÃVAR',\n",
      "       'BOYACÃ', 'CALDAS', 'CAQUETÃ', 'CASANARE', 'CAUCA', 'CESAR', 'CHOCÃ',\n",
      "       'CUNDINAMARCA', 'CÃRDOBA', 'GUAINÃA', 'GUAVIARE', 'HUILA',\n",
      "       'LA GUAJIRA', 'MAGDALENA', 'META', 'NARIÃO', 'NORTE SANTANDER',\n",
      "       'PUTUMAYO', 'QUINDÃO', 'RISARALDA', 'SAN ANDRÃS', 'SANTANDER',\n",
      "       'SUCRE', 'TOLIMA', 'VALLE', 'VAUPÃS', 'VICHADA'],\n",
      "      dtype='object')\n",
      "AMAZONAS             596\n",
      "ANTIOQUIA          56908\n",
      "ARAUCA              1969\n",
      "ATLÃNTICO         25367\n",
      "BOGOTÃ            83714\n",
      "BOLÃVAR           18841\n",
      "BOYACÃ            15129\n",
      "CALDAS             10585\n",
      "CAQUETÃ            2456\n",
      "CASANARE            2828\n",
      "CAUCA               7634\n",
      "CESAR               8701\n",
      "CHOCÃ              3378\n",
      "CUNDINAMARCA       24797\n",
      "CÃRDOBA           13336\n",
      "GUAINÃA             111\n",
      "GUAVIARE             480\n",
      "HUILA               8561\n",
      "LA GUAJIRA          5027\n",
      "MAGDALENA          10420\n",
      "META                7525\n",
      "NARIÃO              410\n",
      "NORTE SANTANDER    13236\n",
      "PUTUMAYO            1881\n",
      "QUINDÃO            5471\n",
      "RISARALDA           8731\n",
      "SAN ANDRÃS          741\n",
      "SANTANDER          21897\n",
      "SUCRE               8282\n",
      "TOLIMA             13290\n",
      "VALLE               1166\n",
      "VAUPÃS              149\n",
      "VICHADA              347\n",
      "Name: ESTU_DEPTO_PRESENTACION, dtype: int64\n",
      "Elementos null/NaN 0\n",
      "__________________\n",
      "Elementos diferentes de null/NaN: 383964\n",
      "__________________\n",
      "(383964,)\n",
      "None\n"
     ]
    }
   ],
   "source": [
    "c = 'ESTU_DEPTO_PRESENTACION'\n",
    "print(data_2005_2[c].value_counts().sort_index().index)\n",
    "print(data_2005_2[c].value_counts().sort_index())\n",
    "print(missing_data(data_2005_2[c]))"
   ]
  },
  {
   "cell_type": "code",
   "execution_count": 169,
   "metadata": {
    "collapsed": true
   },
   "outputs": [],
   "source": [
    "c = 'ESTU_DEPTO_PRESENTACION'\n",
    "data_2005_2[c] = data_2005_2[c].replace('ATLÃNTICO', 'ATLANTICO')\n",
    "data_2005_2[c] = data_2005_2[c].replace('BOGOTÃ', 'BOGOTA')\n",
    "data_2005_2[c] = data_2005_2[c].replace('BOLÃVAR', 'BOLIVAR')\n",
    "data_2005_2[c] = data_2005_2[c].replace('BOYACÃ', 'BOYACA')\n",
    "data_2005_2[c] = data_2005_2[c].replace('CAQUETÃ', 'CAQUETA')\n",
    "data_2005_2[c] = data_2005_2[c].replace('CHOCÃ', 'CHOCO')\n",
    "data_2005_2[c] = data_2005_2[c].replace('CÃRDOBA', 'CORDOBA')\n",
    "data_2005_2[c] = data_2005_2[c].replace('GUAINÃA', 'GUAINIA')\n",
    "data_2005_2[c] = data_2005_2[c].replace('NARIÃO', 'NARIÑO')\n",
    "data_2005_2[c] = data_2005_2[c].replace('QUINDÃO', 'QUINDIO')\n",
    "data_2005_2[c] = data_2005_2[c].replace('SAN ANDRÃS', 'SAN ANDRES')\n",
    "data_2005_2[c] = data_2005_2[c].replace('VAUPÃS', 'VAUPES')"
   ]
  },
  {
   "cell_type": "code",
   "execution_count": 170,
   "metadata": {
    "collapsed": false
   },
   "outputs": [
    {
     "name": "stdout",
     "output_type": "stream",
     "text": [
      "Index(['EXAMEN DE ESTADO NUEVO (2005)'], dtype='object')\n",
      "EXAMEN DE ESTADO NUEVO (2005)    383964\n",
      "Name: ESTU_EXAM_NOMBREEXAMEN, dtype: int64\n",
      "Elementos null/NaN 0\n",
      "__________________\n",
      "Elementos diferentes de null/NaN: 383964\n",
      "__________________\n",
      "(383964,)\n",
      "None\n"
     ]
    }
   ],
   "source": [
    "c = 'ESTU_EXAM_NOMBREEXAMEN'\n",
    "print(data_2005_2[c].value_counts().sort_index().index)\n",
    "print(data_2005_2[c].value_counts().sort_index())\n",
    "print(missing_data(data_2005_2[c]))"
   ]
  },
  {
   "cell_type": "code",
   "execution_count": 171,
   "metadata": {
    "collapsed": true
   },
   "outputs": [],
   "source": [
    "data_2005_2 = data_2005_2.drop(['ESTU_EXAM_NOMBREEXAMEN'], axis=1)"
   ]
  },
  {
   "cell_type": "code",
   "execution_count": 172,
   "metadata": {
    "collapsed": false
   },
   "outputs": [
    {
     "name": "stdout",
     "output_type": "stream",
     "text": [
      "Float64Index([0.0, 1.0], dtype='float64')\n",
      "0.0    8665\n",
      "1.0     587\n",
      "Name: IND_ESTUDIO_BACHILLERATO, dtype: int64\n",
      "Elementos null/NaN 374712\n",
      "__________________\n",
      "Elementos diferentes de null/NaN: 9252\n",
      "__________________\n",
      "(9252,)\n",
      "None\n"
     ]
    }
   ],
   "source": [
    "c = 'IND_ESTUDIO_BACHILLERATO'\n",
    "print(data_2005_2[c].value_counts().sort_index().index)\n",
    "print(data_2005_2[c].value_counts().sort_index())\n",
    "print(missing_data(data_2005_2[c]))"
   ]
  },
  {
   "cell_type": "code",
   "execution_count": 173,
   "metadata": {
    "collapsed": false,
    "scrolled": true
   },
   "outputs": [
    {
     "name": "stdout",
     "output_type": "stream",
     "text": [
      "Float64Index([1971.0, 1979.0, 1980.0, 1985.0, 1988.0, 1991.0, 1994.0, 1996.0,\n",
      "              1997.0, 1998.0, 1999.0, 2000.0, 2001.0, 2002.0, 2003.0, 2004.0,\n",
      "              2005.0, 2006.0, 2007.0, 2008.0],\n",
      "             dtype='float64')\n",
      "1971.0       1\n",
      "1979.0       2\n",
      "1980.0       1\n",
      "1985.0       1\n",
      "1988.0       1\n",
      "1991.0       1\n",
      "1994.0       4\n",
      "1996.0       3\n",
      "1997.0       3\n",
      "1998.0       5\n",
      "1999.0       4\n",
      "2000.0       2\n",
      "2001.0       6\n",
      "2002.0      12\n",
      "2003.0      13\n",
      "2004.0      25\n",
      "2005.0    8767\n",
      "2006.0     389\n",
      "2007.0       5\n",
      "2008.0       2\n",
      "Name: IND_ANNO_TERMINO_BACHILLERATO, dtype: int64\n",
      "Elementos null/NaN 374717\n",
      "__________________\n",
      "Elementos diferentes de null/NaN: 9247\n",
      "__________________\n",
      "(9247,)\n",
      "None\n"
     ]
    }
   ],
   "source": [
    "c = 'IND_ANNO_TERMINO_BACHILLERATO'\n",
    "print(data_2005_2[c].value_counts().sort_index().index)\n",
    "print(data_2005_2[c].value_counts().sort_index())\n",
    "print(missing_data(data_2005_2[c]))"
   ]
  },
  {
   "cell_type": "code",
   "execution_count": 174,
   "metadata": {
    "collapsed": false,
    "scrolled": true
   },
   "outputs": [
    {
     "name": "stdout",
     "output_type": "stream",
     "text": [
      "Float64Index([     3.0,     18.0,     59.0,     67.0,    240.0,    265.0,\n",
      "                 380.0,    455.0,   1339.0,   1461.0,\n",
      "              ...\n",
      "              124925.0, 125104.0, 125187.0, 127472.0, 130450.0, 150953.0,\n",
      "              157321.0, 169698.0, 176297.0, 999999.0],\n",
      "             dtype='float64', length=2124)\n",
      "3.0           4\n",
      "18.0          1\n",
      "59.0          1\n",
      "67.0          1\n",
      "240.0         1\n",
      "265.0         2\n",
      "380.0         1\n",
      "455.0         2\n",
      "1339.0        2\n",
      "1461.0        1\n",
      "1669.0        1\n",
      "1792.0        1\n",
      "2535.0        1\n",
      "2782.0        1\n",
      "3046.0        1\n",
      "3434.0        1\n",
      "3566.0        1\n",
      "3699.0        1\n",
      "4143.0        2\n",
      "4150.0        1\n",
      "4218.0        1\n",
      "4242.0        1\n",
      "4283.0        1\n",
      "4333.0        1\n",
      "4358.0        2\n",
      "4424.0        2\n",
      "4432.0        2\n",
      "4614.0        1\n",
      "4705.0        1\n",
      "4747.0        2\n",
      "           ... \n",
      "122788.0      2\n",
      "122812.0      1\n",
      "123083.0      1\n",
      "123109.0     11\n",
      "123141.0      1\n",
      "123240.0      1\n",
      "123273.0      1\n",
      "123281.0      1\n",
      "123331.0      1\n",
      "123356.0      5\n",
      "123448.0      4\n",
      "123786.0      1\n",
      "123802.0      1\n",
      "123943.0      1\n",
      "123968.0      1\n",
      "124115.0      1\n",
      "124354.0      1\n",
      "124487.0      1\n",
      "124529.0      1\n",
      "124677.0      1\n",
      "124925.0      1\n",
      "125104.0      1\n",
      "125187.0      1\n",
      "127472.0      2\n",
      "130450.0      1\n",
      "150953.0      1\n",
      "157321.0      1\n",
      "169698.0      1\n",
      "176297.0      1\n",
      "999999.0    971\n",
      "Name: IND_COD_ICFES_TERMINO, dtype: int64\n",
      "Elementos null/NaN 376870\n",
      "__________________\n",
      "Elementos diferentes de null/NaN: 7094\n",
      "__________________\n",
      "(7094,)\n",
      "None\n"
     ]
    }
   ],
   "source": [
    "\"\"\"I do not have information about this column but i will let it live, because maybe could be important\"\"\"\n",
    "c = 'IND_COD_ICFES_TERMINO'\n",
    "print(data_2005_2[c].value_counts().sort_index().index)\n",
    "print(data_2005_2[c].value_counts().sort_index())\n",
    "print(missing_data(data_2005_2[c]))"
   ]
  },
  {
   "cell_type": "code",
   "execution_count": 175,
   "metadata": {
    "collapsed": false,
    "scrolled": true
   },
   "outputs": [
    {
     "name": "stdout",
     "output_type": "stream",
     "text": [
      "Int64Index([    18,     59,     75,     83,     91,    125,    141,    174,\n",
      "               190,    208,\n",
      "            ...\n",
      "            123786, 123802, 123810, 123828, 123869, 123877, 123927, 123950,\n",
      "            123968, 124016],\n",
      "           dtype='int64', length=7562)\n",
      "18          13\n",
      "59        1141\n",
      "75          60\n",
      "83          39\n",
      "91         110\n",
      "125         63\n",
      "141        116\n",
      "174         87\n",
      "190         95\n",
      "208         65\n",
      "216         38\n",
      "232         30\n",
      "240        111\n",
      "257         11\n",
      "265        193\n",
      "273         54\n",
      "281         67\n",
      "315        141\n",
      "349         22\n",
      "356         27\n",
      "364         62\n",
      "372         60\n",
      "380        175\n",
      "398         32\n",
      "406         49\n",
      "422         26\n",
      "430        106\n",
      "448         32\n",
      "455         94\n",
      "463        121\n",
      "          ... \n",
      "123513      36\n",
      "123521       1\n",
      "123539       5\n",
      "123547      28\n",
      "123554      22\n",
      "123562      21\n",
      "123570      12\n",
      "123588      13\n",
      "123596      24\n",
      "123612      10\n",
      "123620      10\n",
      "123661      11\n",
      "123679      11\n",
      "123687      20\n",
      "123695       5\n",
      "123703      12\n",
      "123711      13\n",
      "123729      12\n",
      "123760      53\n",
      "123778       7\n",
      "123786       6\n",
      "123802      26\n",
      "123810      19\n",
      "123828       9\n",
      "123869      28\n",
      "123877      17\n",
      "123927      16\n",
      "123950       3\n",
      "123968      11\n",
      "124016      14\n",
      "Name: COLE_COD_ICFES, dtype: int64\n",
      "Elementos null/NaN 0\n",
      "__________________\n",
      "Elementos diferentes de null/NaN: 383964\n",
      "__________________\n",
      "(383964,)\n",
      "None\n"
     ]
    }
   ],
   "source": [
    "c = 'COLE_COD_ICFES'\n",
    "print(data_2005_2[c].value_counts().sort_index().index)\n",
    "print(data_2005_2[c].value_counts().sort_index())\n",
    "print(missing_data(data_2005_2[c]))"
   ]
  },
  {
   "cell_type": "code",
   "execution_count": 176,
   "metadata": {
    "collapsed": true
   },
   "outputs": [],
   "source": [
    "for i in data_2005_2['COLE_COD_ICFES'].value_counts().sort_index().index:\n",
    "    if len(str(i)) < 4:\n",
    "        data_2005_2['COLE_COD_ICFES'] = data_2005_2['COLE_COD_ICFES'].replace(i, np.nan)"
   ]
  },
  {
   "cell_type": "code",
   "execution_count": 177,
   "metadata": {
    "collapsed": false,
    "scrolled": true
   },
   "outputs": [
    {
     "name": "stdout",
     "output_type": "stream",
     "text": [
      "Index(['            ', '111001024732',   105001000108, '105001013340',\n",
      "       '111001019411', '168001003591', '113001003274', '108758000031',\n",
      "       '105266000941', '111279000362',\n",
      "       ...\n",
      "       '305001018839', '425377076754', '305001003955', '305001003505',\n",
      "       '376001037536', '219532000434',   105001013072, '308001009596',\n",
      "         105147000401, '305001004994'],\n",
      "      dtype='object', length=6436)\n",
      "                2853\n",
      "111001024732    1029\n",
      "105001000108    1004\n",
      "105001013340     849\n",
      "111001019411     739\n",
      "168001003591     738\n",
      "113001003274     710\n",
      "108758000031     646\n",
      "105266000941     642\n",
      "111279000362     596\n",
      "173001001053     558\n",
      "173001000308     550\n",
      "111001010839     540\n",
      "111001083011     534\n",
      "111001010910     533\n",
      "111001006122     532\n",
      "111102000753     528\n",
      "154001003779     521\n",
      "115001000367     508\n",
      "313001006701     506\n",
      "111001011819     505\n",
      "111001011690     490\n",
      "113001000852     490\n",
      "305001003963     486\n",
      "163001001325     464\n",
      "147001000293     459\n",
      "150001000979     458\n",
      "154001000079     455\n",
      "168001002421     449\n",
      "111001010928     447\n",
      "                ... \n",
      "105045000393       1\n",
      "315759002556       1\n",
      "350001004515       1\n",
      "425799000483       1\n",
      "105861000199       1\n",
      "305088002208       1\n",
      "105042000732       1\n",
      "117001006210       1\n",
      "313001008771       1\n",
      "347545001837       1\n",
      "305001004901       1\n",
      "317001003716       1\n",
      "117001001536       1\n",
      "320001067341       1\n",
      "305631000288       1\n",
      "205154002015       1\n",
      "305001009848       1\n",
      "105001002372       1\n",
      "308433000875       1\n",
      "205674000341       1\n",
      "305001018839       1\n",
      "425377076754       1\n",
      "305001003955       1\n",
      "305001003505       1\n",
      "376001037536       1\n",
      "219532000434       1\n",
      "105001013072       1\n",
      "308001009596       1\n",
      "105147000401       1\n",
      "305001004994       1\n",
      "Name: COLE_COD_DANE_INSTITUCION, dtype: int64\n",
      "Elementos null/NaN 0\n",
      "__________________\n",
      "Elementos diferentes de null/NaN: 383964\n",
      "__________________\n",
      "(383964,)\n",
      "None\n"
     ]
    }
   ],
   "source": [
    "c = 'COLE_COD_DANE_INSTITUCION'\n",
    "print(data_2005_2[c].value_counts().index)\n",
    "print(data_2005_2[c].value_counts())\n",
    "print(missing_data(data_2005_2[c]))"
   ]
  },
  {
   "cell_type": "code",
   "execution_count": 178,
   "metadata": {
    "collapsed": true
   },
   "outputs": [],
   "source": [
    "data_2005_2['COLE_COD_DANE_INSTITUCION'] = data_2005_2['COLE_COD_DANE_INSTITUCION'].replace('            ', np.nan)\n",
    "for i in data_2005_2['COLE_COD_DANE_INSTITUCION'].value_counts().index:\n",
    "    if type(i) == str:\n",
    "        data_2005_2['COLE_COD_DANE_INSTITUCION'] = data_2005_2['COLE_COD_DANE_INSTITUCION'].replace(i, float(i))"
   ]
  },
  {
   "cell_type": "code",
   "execution_count": 179,
   "metadata": {
    "collapsed": false
   },
   "outputs": [
    {
     "name": "stdout",
     "output_type": "stream",
     "text": [
      "Float64Index([1.0, 2.0, 3.0, 4.0, 5.0, 6.0, 7.0, 8.0, 9.0, 10.0], dtype='float64')\n",
      "1.0     37829\n",
      "2.0     13726\n",
      "3.0     18890\n",
      "4.0     42815\n",
      "5.0     60449\n",
      "6.0     27084\n",
      "7.0     25511\n",
      "8.0     32926\n",
      "9.0     32821\n",
      "10.0    44268\n",
      "Name: COLE_ZONA_UBICACION, dtype: int64\n",
      "Elementos null/NaN 47645\n",
      "__________________\n",
      "Elementos diferentes de null/NaN: 336319\n",
      "__________________\n",
      "(336319,)\n",
      "None\n"
     ]
    }
   ],
   "source": [
    "c = 'COLE_ZONA_UBICACION'\n",
    "print(data_2005_2[c].value_counts().sort_index().index)\n",
    "print(data_2005_2[c].value_counts().sort_index())\n",
    "print(missing_data(data_2005_2[c]))"
   ]
  },
  {
   "cell_type": "code",
   "execution_count": 180,
   "metadata": {
    "collapsed": false
   },
   "outputs": [
    {
     "name": "stdout",
     "output_type": "stream",
     "text": [
      "Index(['R', 'U'], dtype='object')\n",
      "R     31012\n",
      "U    349242\n",
      "Name: COLE_AREA_UBICACION, dtype: int64\n",
      "Elementos null/NaN 3710\n",
      "__________________\n",
      "Elementos diferentes de null/NaN: 380254\n",
      "__________________\n",
      "(380254,)\n",
      "None\n"
     ]
    }
   ],
   "source": [
    "c = 'COLE_AREA_UBICACION'\n",
    "print(data_2005_2[c].value_counts().sort_index().index)\n",
    "print(data_2005_2[c].value_counts().sort_index())\n",
    "print(missing_data(data_2005_2[c]))"
   ]
  },
  {
   "cell_type": "code",
   "execution_count": 181,
   "metadata": {
    "collapsed": false
   },
   "outputs": [
    {
     "name": "stdout",
     "output_type": "stream",
     "text": [
      "Index(['A', 'B', 'F'], dtype='object')\n",
      "A    341644\n",
      "B       731\n",
      "F     41589\n",
      "Name: COLE_CALENDARIO, dtype: int64\n",
      "Elementos null/NaN 0\n",
      "__________________\n",
      "Elementos diferentes de null/NaN: 383964\n",
      "__________________\n",
      "(383964,)\n",
      "None\n"
     ]
    }
   ],
   "source": [
    "c = 'COLE_CALENDARIO'\n",
    "print(data_2005_2[c].value_counts().sort_index().index)\n",
    "print(data_2005_2[c].value_counts().sort_index())\n",
    "print(missing_data(data_2005_2[c]))"
   ]
  },
  {
   "cell_type": "code",
   "execution_count": 182,
   "metadata": {
    "collapsed": false
   },
   "outputs": [
    {
     "name": "stdout",
     "output_type": "stream",
     "text": [
      "Index(['F', 'M', 'X'], dtype='object')\n",
      "F     25481\n",
      "M      6643\n",
      "X    351840\n",
      "Name: COLE_GENERO, dtype: int64\n",
      "Elementos null/NaN 0\n",
      "__________________\n",
      "Elementos diferentes de null/NaN: 383964\n",
      "__________________\n",
      "(383964,)\n",
      "None\n"
     ]
    }
   ],
   "source": [
    "c = 'COLE_GENERO'\n",
    "print(data_2005_2[c].value_counts().sort_index().index)\n",
    "print(data_2005_2[c].value_counts().sort_index())\n",
    "print(missing_data(data_2005_2[c]))"
   ]
  },
  {
   "cell_type": "code",
   "execution_count": 183,
   "metadata": {
    "collapsed": true
   },
   "outputs": [],
   "source": [
    "data_2005_2['COLE_GENERO'] = data_2005_2['COLE_GENERO'].replace('X', np.nan)"
   ]
  },
  {
   "cell_type": "code",
   "execution_count": 184,
   "metadata": {
    "collapsed": false
   },
   "outputs": [
    {
     "name": "stdout",
     "output_type": "stream",
     "text": [
      "Index(['N', 'O'], dtype='object')\n",
      "N    102447\n",
      "O    281517\n",
      "Name: COLE_NATURALEZA, dtype: int64\n",
      "Elementos null/NaN 0\n",
      "__________________\n",
      "Elementos diferentes de null/NaN: 383964\n",
      "__________________\n",
      "(383964,)\n",
      "None\n"
     ]
    }
   ],
   "source": [
    "c = 'COLE_NATURALEZA'\n",
    "print(data_2005_2[c].value_counts().sort_index().index)\n",
    "print(data_2005_2[c].value_counts().sort_index())\n",
    "print(missing_data(data_2005_2[c]))"
   ]
  },
  {
   "cell_type": "code",
   "execution_count": 185,
   "metadata": {
    "collapsed": false
   },
   "outputs": [
    {
     "name": "stdout",
     "output_type": "stream",
     "text": [
      "Float64Index([0.0, 1.0], dtype='float64')\n",
      "0.0    377836\n",
      "1.0      3106\n",
      "Name: COLE_BILINGUE, dtype: int64\n",
      "Elementos null/NaN 3022\n",
      "__________________\n",
      "Elementos diferentes de null/NaN: 380942\n",
      "__________________\n",
      "(380942,)\n",
      "None\n"
     ]
    }
   ],
   "source": [
    "c = 'COLE_BILINGUE'\n",
    "print(data_2005_2[c].value_counts().sort_index().index)\n",
    "print(data_2005_2[c].value_counts().sort_index())\n",
    "print(missing_data(data_2005_2[c]))"
   ]
  },
  {
   "cell_type": "code",
   "execution_count": 186,
   "metadata": {
    "collapsed": false
   },
   "outputs": [
    {
     "name": "stdout",
     "output_type": "stream",
     "text": [
      "Index(['COMPLETA U ORDINARIA', 'MAÃANA', 'NOCHE', 'SABATINA - DOMINICAL',\n",
      "       'TARDE'],\n",
      "      dtype='object')\n",
      "COMPLETA U ORDINARIA     82712\n",
      "MAÃANA                 186561\n",
      "NOCHE                    27477\n",
      "SABATINA - DOMINICAL      7510\n",
      "TARDE                    79704\n",
      "Name: COLE_JORNADA, dtype: int64\n",
      "Elementos null/NaN 0\n",
      "__________________\n",
      "Elementos diferentes de null/NaN: 383964\n",
      "__________________\n",
      "(383964,)\n",
      "None\n"
     ]
    }
   ],
   "source": [
    "c = 'COLE_JORNADA'\n",
    "print(data_2005_2[c].value_counts().sort_index().index)\n",
    "print(data_2005_2[c].value_counts().sort_index())\n",
    "print(missing_data(data_2005_2[c]))"
   ]
  },
  {
   "cell_type": "code",
   "execution_count": 187,
   "metadata": {
    "collapsed": true
   },
   "outputs": [],
   "source": [
    "data_2005_2['COLE_JORNADA'] = data_2005_2['COLE_JORNADA'].replace('MAÃANA ', 'MAÑANA')"
   ]
  },
  {
   "cell_type": "code",
   "execution_count": 188,
   "metadata": {
    "collapsed": false
   },
   "outputs": [
    {
     "name": "stdout",
     "output_type": "stream",
     "text": [
      "Index(['ACADEMICO', 'ACADEMICO Y TECNICO', 'DESCONOCIDO', 'NORMALISTA',\n",
      "       'TECNICO'],\n",
      "      dtype='object')\n",
      "ACADEMICO              223858\n",
      "ACADEMICO Y TECNICO     83032\n",
      "DESCONOCIDO               183\n",
      "NORMALISTA               9755\n",
      "TECNICO                 67136\n",
      "Name: COLE_CARACTER, dtype: int64\n",
      "Elementos null/NaN 0\n",
      "__________________\n",
      "Elementos diferentes de null/NaN: 383964\n",
      "__________________\n",
      "(383964,)\n",
      "None\n"
     ]
    }
   ],
   "source": [
    "c = 'COLE_CARACTER'\n",
    "print(data_2005_2[c].value_counts().sort_index().index)\n",
    "print(data_2005_2[c].value_counts().sort_index())\n",
    "print(missing_data(data_2005_2[c]))"
   ]
  },
  {
   "cell_type": "code",
   "execution_count": 189,
   "metadata": {
    "collapsed": false,
    "scrolled": true
   },
   "outputs": [
    {
     "name": "stdout",
     "output_type": "stream",
     "text": [
      "Float64Index([ 1.0,  2.0,  3.0,  4.0,  5.0,  6.0,  7.0,  8.0,  9.0, 10.0, 11.0,\n",
      "              12.0, 13.0, 14.0, 15.0, 16.0, 99.0],\n",
      "             dtype='float64')\n",
      "1.0     5442\n",
      "2.0      464\n",
      "3.0      513\n",
      "4.0       93\n",
      "5.0       53\n",
      "6.0      208\n",
      "7.0       82\n",
      "8.0      427\n",
      "9.0      586\n",
      "10.0     819\n",
      "11.0      70\n",
      "12.0     104\n",
      "13.0     113\n",
      "14.0      39\n",
      "15.0      35\n",
      "16.0      52\n",
      "99.0    6341\n",
      "Name: ESTU_ETNIA, dtype: int64\n",
      "Elementos null/NaN 368523\n",
      "__________________\n",
      "Elementos diferentes de null/NaN: 15441\n",
      "__________________\n",
      "(15441,)\n",
      "None\n"
     ]
    }
   ],
   "source": [
    "c = 'ESTU_ETNIA'\n",
    "print(data_2005_2[c].value_counts().sort_index().index)\n",
    "print(data_2005_2[c].value_counts().sort_index())\n",
    "print(missing_data(data_2005_2[c]))"
   ]
  },
  {
   "cell_type": "code",
   "execution_count": 190,
   "metadata": {
    "collapsed": false
   },
   "outputs": [
    {
     "name": "stdout",
     "output_type": "stream",
     "text": [
      "Float64Index([1.0], dtype='float64')\n",
      "1.0    12\n",
      "Name: FAMI_LEE_ESCRIBE_PADRE, dtype: int64\n",
      "Elementos null/NaN 383952\n",
      "__________________\n",
      "Elementos diferentes de null/NaN: 12\n",
      "__________________\n",
      "(12,)\n",
      "None\n"
     ]
    }
   ],
   "source": [
    "c = 'FAMI_LEE_ESCRIBE_PADRE'\n",
    "print(data_2005_2[c].value_counts().sort_index().index)\n",
    "print(data_2005_2[c].value_counts().sort_index())\n",
    "print(missing_data(data_2005_2[c]))"
   ]
  },
  {
   "cell_type": "code",
   "execution_count": 191,
   "metadata": {
    "collapsed": false
   },
   "outputs": [
    {
     "name": "stdout",
     "output_type": "stream",
     "text": [
      "Float64Index([1.0], dtype='float64')\n",
      "1.0    12\n",
      "Name: FAMI_LEE_ESCRIBE_MADRE, dtype: int64\n",
      "Elementos null/NaN 383952\n",
      "__________________\n",
      "Elementos diferentes de null/NaN: 12\n",
      "__________________\n",
      "(12,)\n",
      "None\n"
     ]
    }
   ],
   "source": [
    "c = 'FAMI_LEE_ESCRIBE_MADRE'\n",
    "print(data_2005_2[c].value_counts().sort_index().index)\n",
    "print(data_2005_2[c].value_counts().sort_index())\n",
    "print(missing_data(data_2005_2[c]))"
   ]
  },
  {
   "cell_type": "code",
   "execution_count": 192,
   "metadata": {
    "collapsed": false,
    "scrolled": true
   },
   "outputs": [
    {
     "name": "stdout",
     "output_type": "stream",
     "text": [
      "Float64Index([ 0.0,  1.0,  2.0,  3.0,  4.0,  9.0, 10.0, 11.0, 12.0, 13.0, 14.0,\n",
      "              15.0, 16.0, 17.0, 99.0],\n",
      "             dtype='float64')\n",
      "0.0     14\n",
      "1.0      2\n",
      "2.0      2\n",
      "3.0      1\n",
      "4.0      2\n",
      "9.0     69\n",
      "10.0    48\n",
      "11.0    46\n",
      "12.0    93\n",
      "13.0     9\n",
      "14.0    28\n",
      "15.0    11\n",
      "16.0    66\n",
      "17.0    21\n",
      "99.0     5\n",
      "Name: FAMI_EDUCA_PADRE, dtype: int64\n",
      "Elementos null/NaN 383547\n",
      "__________________\n",
      "Elementos diferentes de null/NaN: 417\n",
      "__________________\n",
      "(417,)\n",
      "None\n"
     ]
    }
   ],
   "source": [
    "c = 'FAMI_EDUCA_PADRE'\n",
    "print(data_2005_2[c].value_counts().sort_index().index)\n",
    "print(data_2005_2[c].value_counts().sort_index())\n",
    "print(missing_data(data_2005_2[c]))"
   ]
  },
  {
   "cell_type": "code",
   "execution_count": 193,
   "metadata": {
    "collapsed": false,
    "scrolled": true
   },
   "outputs": [
    {
     "name": "stdout",
     "output_type": "stream",
     "text": [
      "Float64Index([ 0.0,  1.0,  2.0,  3.0,  4.0,  5.0,  7.0,  9.0, 10.0, 11.0, 12.0,\n",
      "              13.0, 14.0, 15.0, 16.0, 17.0, 99.0],\n",
      "             dtype='float64')\n",
      "0.0      3\n",
      "1.0      1\n",
      "2.0      2\n",
      "3.0      1\n",
      "4.0      2\n",
      "5.0      1\n",
      "7.0      1\n",
      "9.0     61\n",
      "10.0    42\n",
      "11.0    58\n",
      "12.0    98\n",
      "13.0     6\n",
      "14.0    43\n",
      "15.0    16\n",
      "16.0    51\n",
      "17.0    28\n",
      "99.0     3\n",
      "Name: FAMI_EDUCA_MADRE, dtype: int64\n",
      "Elementos null/NaN 383547\n",
      "__________________\n",
      "Elementos diferentes de null/NaN: 417\n",
      "__________________\n",
      "(417,)\n",
      "None\n"
     ]
    }
   ],
   "source": [
    "c = 'FAMI_EDUCA_MADRE'\n",
    "print(data_2005_2[c].value_counts().sort_index().index)\n",
    "print(data_2005_2[c].value_counts().sort_index())\n",
    "print(missing_data(data_2005_2[c]))"
   ]
  },
  {
   "cell_type": "code",
   "execution_count": 194,
   "metadata": {
    "collapsed": false,
    "scrolled": true
   },
   "outputs": [
    {
     "name": "stdout",
     "output_type": "stream",
     "text": [
      "Float64Index([ 6.0,  8.0,  9.0, 12.0, 13.0, 14.0, 15.0, 16.0, 17.0, 18.0, 19.0,\n",
      "              20.0, 21.0, 22.0, 23.0, 26.0, 99.0],\n",
      "             dtype='float64')\n",
      "6.0      2\n",
      "8.0      2\n",
      "9.0      2\n",
      "12.0     2\n",
      "13.0    11\n",
      "14.0    38\n",
      "15.0    10\n",
      "16.0    19\n",
      "17.0    28\n",
      "18.0    14\n",
      "19.0    30\n",
      "20.0    22\n",
      "21.0    99\n",
      "22.0    12\n",
      "23.0    58\n",
      "26.0    67\n",
      "99.0     1\n",
      "Name: FAMI_OCUPA_PADRE, dtype: int64\n",
      "Elementos null/NaN 383547\n",
      "__________________\n",
      "Elementos diferentes de null/NaN: 417\n",
      "__________________\n",
      "(417,)\n",
      "None\n"
     ]
    }
   ],
   "source": [
    "c = 'FAMI_OCUPA_PADRE'\n",
    "print(data_2005_2[c].value_counts().sort_index().index)\n",
    "print(data_2005_2[c].value_counts().sort_index())\n",
    "print(missing_data(data_2005_2[c]))"
   ]
  },
  {
   "cell_type": "code",
   "execution_count": 195,
   "metadata": {
    "collapsed": false,
    "scrolled": true
   },
   "outputs": [
    {
     "name": "stdout",
     "output_type": "stream",
     "text": [
      "Float64Index([ 6.0,  9.0, 10.0, 11.0, 13.0, 14.0, 15.0, 16.0, 17.0, 18.0, 19.0,\n",
      "              20.0, 21.0, 22.0, 23.0, 26.0],\n",
      "             dtype='float64')\n",
      "6.0       2\n",
      "9.0       1\n",
      "10.0      4\n",
      "11.0      1\n",
      "13.0      9\n",
      "14.0     18\n",
      "15.0      5\n",
      "16.0     20\n",
      "17.0     23\n",
      "18.0     19\n",
      "19.0     22\n",
      "20.0     10\n",
      "21.0     45\n",
      "22.0    162\n",
      "23.0     39\n",
      "26.0     37\n",
      "Name: FAMI_OCUPA_MADRE, dtype: int64\n",
      "Elementos null/NaN 383547\n",
      "__________________\n",
      "Elementos diferentes de null/NaN: 417\n",
      "__________________\n",
      "(417,)\n",
      "None\n"
     ]
    }
   ],
   "source": [
    "c = 'FAMI_OCUPA_MADRE'\n",
    "print(data_2005_2[c].value_counts().sort_index().index)\n",
    "print(data_2005_2[c].value_counts().sort_index())\n",
    "print(missing_data(data_2005_2[c]))"
   ]
  },
  {
   "cell_type": "code",
   "execution_count": 196,
   "metadata": {
    "collapsed": false
   },
   "outputs": [
    {
     "name": "stdout",
     "output_type": "stream",
     "text": [
      "Float64Index([0.0, 2.0, 3.0, 4.0], dtype='float64')\n",
      "0.0    2\n",
      "2.0    7\n",
      "3.0    1\n",
      "4.0    3\n",
      "Name: FAMI_NUM_HERMANOS, dtype: int64\n",
      "Elementos null/NaN 383951\n",
      "__________________\n",
      "Elementos diferentes de null/NaN: 13\n",
      "__________________\n",
      "(13,)\n",
      "None\n"
     ]
    }
   ],
   "source": [
    "c = 'FAMI_NUM_HERMANOS'\n",
    "print(data_2005_2[c].value_counts().sort_index().index)\n",
    "print(data_2005_2[c].value_counts().sort_index())\n",
    "print(missing_data(data_2005_2[c]))"
   ]
  },
  {
   "cell_type": "code",
   "execution_count": 197,
   "metadata": {
    "collapsed": false,
    "scrolled": true
   },
   "outputs": [
    {
     "name": "stdout",
     "output_type": "stream",
     "text": [
      "Float64Index([2.0, 3.0, 4.0, 5.0, 6.0, 7.0, 8.0, 9.0, 88.0, 99.0], dtype='float64')\n",
      "2.0      2\n",
      "3.0      1\n",
      "4.0     10\n",
      "5.0      1\n",
      "6.0      4\n",
      "7.0      1\n",
      "8.0      4\n",
      "9.0      2\n",
      "88.0    13\n",
      "99.0     3\n",
      "Name: FAMI_EDUCA_HERMANO, dtype: int64\n",
      "Elementos null/NaN 383923\n",
      "__________________\n",
      "Elementos diferentes de null/NaN: 41\n",
      "__________________\n",
      "(41,)\n",
      "None\n"
     ]
    }
   ],
   "source": [
    "c = 'FAMI_EDUCA_HERMANO'\n",
    "print(data_2005_2[c].value_counts().sort_index().index)\n",
    "print(data_2005_2[c].value_counts().sort_index())\n",
    "print(missing_data(data_2005_2[c]))"
   ]
  },
  {
   "cell_type": "code",
   "execution_count": 198,
   "metadata": {
    "collapsed": false
   },
   "outputs": [
    {
     "name": "stdout",
     "output_type": "stream",
     "text": [
      "Float64Index([1.0, 2.0, 88.0], dtype='float64')\n",
      "1.0     4\n",
      "2.0     1\n",
      "88.0    6\n",
      "Name: FAMI_HERMANOS_ESTUDIAN, dtype: int64\n",
      "Elementos null/NaN 383953\n",
      "__________________\n",
      "Elementos diferentes de null/NaN: 11\n",
      "__________________\n",
      "(11,)\n",
      "None\n"
     ]
    }
   ],
   "source": [
    "c = 'FAMI_HERMANOS_ESTUDIAN'\n",
    "print(data_2005_2[c].value_counts().sort_index().index)\n",
    "print(data_2005_2[c].value_counts().sort_index())\n",
    "print(missing_data(data_2005_2[c]))"
   ]
  },
  {
   "cell_type": "code",
   "execution_count": 199,
   "metadata": {
    "collapsed": false
   },
   "outputs": [
    {
     "name": "stdout",
     "output_type": "stream",
     "text": [
      "Float64Index([2.0, 3.0, 4.0], dtype='float64')\n",
      "2.0    3\n",
      "3.0    6\n",
      "4.0    3\n",
      "Name: FAMI_ESTRATO_VIVIENDA, dtype: int64\n",
      "Elementos null/NaN 383952\n",
      "__________________\n",
      "Elementos diferentes de null/NaN: 12\n",
      "__________________\n",
      "(12,)\n",
      "None\n"
     ]
    }
   ],
   "source": [
    "c = 'FAMI_ESTRATO_VIVIENDA'\n",
    "print(data_2005_2[c].value_counts().sort_index().index)\n",
    "print(data_2005_2[c].value_counts().sort_index())\n",
    "print(missing_data(data_2005_2[c]))"
   ]
  },
  {
   "cell_type": "code",
   "execution_count": 200,
   "metadata": {
    "collapsed": false
   },
   "outputs": [
    {
     "name": "stdout",
     "output_type": "stream",
     "text": [
      "Float64Index([1.0, 2.0, 3.0, 4.0, 5.0], dtype='float64')\n",
      "1.0     75\n",
      "2.0     90\n",
      "3.0     25\n",
      "4.0      3\n",
      "5.0    221\n",
      "Name: FAMI_NIVEL_SISBEN, dtype: int64\n",
      "Elementos null/NaN 383550\n",
      "__________________\n",
      "Elementos diferentes de null/NaN: 414\n",
      "__________________\n",
      "(414,)\n",
      "None\n"
     ]
    }
   ],
   "source": [
    "c = 'FAMI_NIVEL_SISBEN'\n",
    "print(data_2005_2[c].value_counts().sort_index().index)\n",
    "print(data_2005_2[c].value_counts().sort_index())\n",
    "print(missing_data(data_2005_2[c]))"
   ]
  },
  {
   "cell_type": "code",
   "execution_count": 201,
   "metadata": {
    "collapsed": false
   },
   "outputs": [
    {
     "name": "stdout",
     "output_type": "stream",
     "text": [
      "Float64Index([1.0, 2.0, 3.0, 4.0, 5.0, 6.0, 7.0, 8.0, 9.0, 10.0], dtype='float64')\n",
      "1.0      10\n",
      "2.0      54\n",
      "3.0      89\n",
      "4.0     127\n",
      "5.0      71\n",
      "6.0      36\n",
      "7.0      14\n",
      "8.0       5\n",
      "9.0       6\n",
      "10.0      2\n",
      "Name: FAMI_PERSONAS_HOGAR, dtype: int64\n",
      "Elementos null/NaN 383550\n",
      "__________________\n",
      "Elementos diferentes de null/NaN: 414\n",
      "__________________\n",
      "(414,)\n",
      "None\n"
     ]
    }
   ],
   "source": [
    "c = 'FAMI_PERSONAS_HOGAR'\n",
    "print(data_2005_2[c].value_counts().sort_index().index)\n",
    "print(data_2005_2[c].value_counts().sort_index())\n",
    "print(missing_data(data_2005_2[c]))"
   ]
  },
  {
   "cell_type": "code",
   "execution_count": 202,
   "metadata": {
    "collapsed": false
   },
   "outputs": [
    {
     "name": "stdout",
     "output_type": "stream",
     "text": [
      "Float64Index([1.0, 2.0, 3.0, 4.0, 5.0], dtype='float64')\n",
      "1.0     10\n",
      "2.0     76\n",
      "3.0     17\n",
      "4.0    261\n",
      "5.0     50\n",
      "Name: FAMI_PISOSHOGAR, dtype: int64\n",
      "Elementos null/NaN 383550\n",
      "__________________\n",
      "Elementos diferentes de null/NaN: 414\n",
      "__________________\n",
      "(414,)\n",
      "None\n"
     ]
    }
   ],
   "source": [
    "c = 'FAMI_PISOSHOGAR'\n",
    "print(data_2005_2[c].value_counts().sort_index().index)\n",
    "print(data_2005_2[c].value_counts().sort_index())\n",
    "print(missing_data(data_2005_2[c]))"
   ]
  },
  {
   "cell_type": "code",
   "execution_count": 203,
   "metadata": {
    "collapsed": false
   },
   "outputs": [
    {
     "name": "stdout",
     "output_type": "stream",
     "text": [
      "Float64Index([2.0, 3.0, 4.0, 5.0, 6.0, 7.0], dtype='float64')\n",
      "2.0     7\n",
      "3.0    17\n",
      "4.0    16\n",
      "5.0     7\n",
      "6.0     7\n",
      "7.0     3\n",
      "Name: FAMI_CUARTOS_HOGAR, dtype: int64\n",
      "Elementos null/NaN 383907\n",
      "__________________\n",
      "Elementos diferentes de null/NaN: 57\n",
      "__________________\n",
      "(57,)\n",
      "None\n"
     ]
    }
   ],
   "source": [
    "c = 'FAMI_CUARTOS_HOGAR'\n",
    "print(data_2005_2[c].value_counts().sort_index().index)\n",
    "print(data_2005_2[c].value_counts().sort_index())\n",
    "print(missing_data(data_2005_2[c]))"
   ]
  },
  {
   "cell_type": "code",
   "execution_count": 204,
   "metadata": {
    "collapsed": false
   },
   "outputs": [
    {
     "name": "stdout",
     "output_type": "stream",
     "text": [
      "Float64Index([1.0, 2.0, 3.0, 4.0, 5.0, 6.0, 10.0], dtype='float64')\n",
      "1.0      21\n",
      "2.0     115\n",
      "3.0     205\n",
      "4.0      51\n",
      "5.0      14\n",
      "6.0       5\n",
      "10.0      1\n",
      "Name: FAMI_DORMITORIOS_HOGAR, dtype: int64\n",
      "Elementos null/NaN 383552\n",
      "__________________\n",
      "Elementos diferentes de null/NaN: 412\n",
      "__________________\n",
      "(412,)\n",
      "None\n"
     ]
    }
   ],
   "source": [
    "c = 'FAMI_DORMITORIOS_HOGAR'\n",
    "print(data_2005_2[c].value_counts().sort_index().index)\n",
    "print(data_2005_2[c].value_counts().sort_index())\n",
    "print(missing_data(data_2005_2[c]))"
   ]
  },
  {
   "cell_type": "code",
   "execution_count": 205,
   "metadata": {
    "collapsed": false
   },
   "outputs": [
    {
     "name": "stdout",
     "output_type": "stream",
     "text": [
      "Float64Index([0.0, 1.0, 3.0], dtype='float64')\n",
      "0.0     91\n",
      "1.0      1\n",
      "3.0    322\n",
      "Name: FAMI_COMPUTADOR, dtype: int64\n",
      "Elementos null/NaN 383550\n",
      "__________________\n",
      "Elementos diferentes de null/NaN: 414\n",
      "__________________\n",
      "(414,)\n",
      "None\n"
     ]
    }
   ],
   "source": [
    "c = 'FAMI_COMPUTADOR'\n",
    "print(data_2005_2[c].value_counts().sort_index().index)\n",
    "print(data_2005_2[c].value_counts().sort_index())\n",
    "print(missing_data(data_2005_2[c]))"
   ]
  },
  {
   "cell_type": "code",
   "execution_count": 206,
   "metadata": {
    "collapsed": false
   },
   "outputs": [
    {
     "name": "stdout",
     "output_type": "stream",
     "text": [
      "Float64Index([1.0, 2.0, 3.0, 4.0, 5.0, 6.0, 7.0], dtype='float64')\n",
      "1.0     67\n",
      "2.0    153\n",
      "3.0     79\n",
      "4.0     65\n",
      "5.0     24\n",
      "6.0     10\n",
      "7.0     16\n",
      "Name: FAMI_INGRESO_FMILIAR_MENSUAL, dtype: int64\n",
      "Elementos null/NaN 383550\n",
      "__________________\n",
      "Elementos diferentes de null/NaN: 414\n",
      "__________________\n",
      "(414,)\n",
      "None\n"
     ]
    }
   ],
   "source": [
    "c = 'FAMI_INGRESO_FMILIAR_MENSUAL'\n",
    "print(data_2005_2[c].value_counts().sort_index().index)\n",
    "print(data_2005_2[c].value_counts().sort_index())\n",
    "print(missing_data(data_2005_2[c]))"
   ]
  },
  {
   "cell_type": "code",
   "execution_count": 207,
   "metadata": {
    "collapsed": false
   },
   "outputs": [
    {
     "name": "stdout",
     "output_type": "stream",
     "text": [
      "Float64Index([0.0, 1.0, 2.0, 3.0, 4.0, 5.0, 6.0, 7.0], dtype='float64')\n",
      "0.0    200462\n",
      "1.0     93604\n",
      "2.0     16758\n",
      "3.0     15256\n",
      "4.0     16781\n",
      "5.0     18290\n",
      "6.0     15289\n",
      "7.0      7497\n",
      "Name: COLE_VALOR_PENSION, dtype: int64\n",
      "Elementos null/NaN 27\n",
      "__________________\n",
      "Elementos diferentes de null/NaN: 383937\n",
      "__________________\n",
      "(383937,)\n",
      "None\n"
     ]
    }
   ],
   "source": [
    "c = 'COLE_VALOR_PENSION'\n",
    "print(data_2005_2[c].value_counts().sort_index().index)\n",
    "print(data_2005_2[c].value_counts().sort_index())\n",
    "print(missing_data(data_2005_2[c]))"
   ]
  },
  {
   "cell_type": "code",
   "execution_count": 208,
   "metadata": {
    "collapsed": false
   },
   "outputs": [
    {
     "name": "stdout",
     "output_type": "stream",
     "text": [
      "Float64Index([], dtype='float64')\n",
      "Series([], Name: ESTU_CARRDESEADA_TIPO, dtype: int64)\n",
      "Elementos null/NaN 383964\n",
      "__________________\n",
      "Elementos diferentes de null/NaN: 0\n",
      "__________________\n",
      "(0,)\n",
      "None\n"
     ]
    }
   ],
   "source": [
    "c = 'ESTU_CARRDESEADA_TIPO'\n",
    "print(data_2005_2[c].value_counts().sort_index().index)\n",
    "print(data_2005_2[c].value_counts().sort_index())\n",
    "print(missing_data(data_2005_2[c]))"
   ]
  },
  {
   "cell_type": "code",
   "execution_count": 209,
   "metadata": {
    "collapsed": true
   },
   "outputs": [],
   "source": [
    "data_2005_2 = data_2005_2.drop(['ESTU_CARRDESEADA_TIPO'], axis = 1)"
   ]
  },
  {
   "cell_type": "code",
   "execution_count": 210,
   "metadata": {
    "collapsed": false
   },
   "outputs": [
    {
     "name": "stdout",
     "output_type": "stream",
     "text": [
      "Float64Index([], dtype='float64')\n",
      "Series([], Name: ESTU_CARRDESEADA_NUCLEO, dtype: int64)\n",
      "Elementos null/NaN 383964\n",
      "__________________\n",
      "Elementos diferentes de null/NaN: 0\n",
      "__________________\n",
      "(0,)\n",
      "None\n"
     ]
    }
   ],
   "source": [
    "c = 'ESTU_CARRDESEADA_NUCLEO'\n",
    "print(data_2005_2[c].value_counts().sort_index().index)\n",
    "print(data_2005_2[c].value_counts().sort_index())\n",
    "print(missing_data(data_2005_2[c]))"
   ]
  },
  {
   "cell_type": "code",
   "execution_count": 211,
   "metadata": {
    "collapsed": true
   },
   "outputs": [],
   "source": [
    "data_2005_2 = data_2005_2.drop(['ESTU_CARRDESEADA_NUCLEO'], axis = 1)"
   ]
  },
  {
   "cell_type": "code",
   "execution_count": 212,
   "metadata": {
    "collapsed": false,
    "scrolled": true
   },
   "outputs": [
    {
     "name": "stdout",
     "output_type": "stream",
     "text": [
      "Float64Index([1101.0, 1102.0, 1103.0, 1104.0, 1105.0, 1106.0, 1107.0, 1108.0,\n",
      "              1109.0, 1110.0,\n",
      "              ...\n",
      "              5801.0, 5802.0, 9101.0, 9102.0, 9103.0, 9104.0, 9105.0, 9107.0,\n",
      "              9110.0, 9115.0],\n",
      "             dtype='float64', length=231)\n",
      "1101.0    59361\n",
      "1102.0     3328\n",
      "1103.0     1651\n",
      "1104.0      151\n",
      "1105.0     4191\n",
      "1106.0     4944\n",
      "1107.0      583\n",
      "1108.0      714\n",
      "1109.0      135\n",
      "1110.0     3995\n",
      "1111.0     4069\n",
      "1112.0     3705\n",
      "1113.0     5095\n",
      "1114.0     4283\n",
      "1115.0      954\n",
      "1117.0     1173\n",
      "1118.0     1495\n",
      "1119.0     2383\n",
      "1120.0     2971\n",
      "1121.0      538\n",
      "1122.0       48\n",
      "1123.0      212\n",
      "1124.0       31\n",
      "1125.0       16\n",
      "1201.0    32713\n",
      "1202.0     7610\n",
      "1203.0     2912\n",
      "1204.0    12184\n",
      "1205.0     8723\n",
      "1206.0      482\n",
      "          ...  \n",
      "3806.0        1\n",
      "3808.0        1\n",
      "3812.0        1\n",
      "3821.0        1\n",
      "3822.0        1\n",
      "3826.0      120\n",
      "3902.0        2\n",
      "4102.0       26\n",
      "4108.0        1\n",
      "4111.0       59\n",
      "4112.0        1\n",
      "4702.0        3\n",
      "4705.0       23\n",
      "4710.0        1\n",
      "4810.0      426\n",
      "4811.0      115\n",
      "4813.0        1\n",
      "4826.0      169\n",
      "4828.0        2\n",
      "4838.0        1\n",
      "5801.0      204\n",
      "5802.0      182\n",
      "9101.0        1\n",
      "9102.0        4\n",
      "9103.0     1556\n",
      "9104.0     3679\n",
      "9105.0     1088\n",
      "9107.0      351\n",
      "9110.0        4\n",
      "9115.0        1\n",
      "Name: ESTU_IES_COD_DESEADA, dtype: int64\n",
      "Elementos null/NaN 96109\n",
      "__________________\n",
      "Elementos diferentes de null/NaN: 287855\n",
      "__________________\n",
      "(287855,)\n",
      "None\n"
     ]
    }
   ],
   "source": [
    "c = 'ESTU_IES_COD_DESEADA'\n",
    "print(data_2005_2[c].value_counts().sort_index().index)\n",
    "print(data_2005_2[c].value_counts().sort_index())\n",
    "print(missing_data(data_2005_2[c]))"
   ]
  },
  {
   "cell_type": "code",
   "execution_count": 213,
   "metadata": {
    "collapsed": false,
    "scrolled": true
   },
   "outputs": [
    {
     "name": "stdout",
     "output_type": "stream",
     "text": [
      "Index(['AGUACHICA', 'ANDES', 'APARTADO', 'ARAUCA', 'ARMENIA',\n",
      "       'BARRANCABERMEJA', 'BARRANQUILLA', 'BELLO', 'BOGOTÃ D.C.',\n",
      "       'BUCARAMANGA', 'BUENAVENTURA', 'BUGA', 'CALDAS', 'CALI',\n",
      "       'CARMEN DE VIBORAL', 'CARTAGENA', 'CAUCASIA', 'CHIA', 'CHIQUINQUIRA',\n",
      "       'CIENAGA', 'CUCUTA', 'DUITAMA', 'ENVIGADO', 'ESPINAL', 'FACATATIVA',\n",
      "       'FLORENCIA', 'FUSAGASUGA', 'GIRARDOT', 'IBAGUE', 'LETICIA', 'MADRID',\n",
      "       'MALAGA', 'MANIZALES', 'MEDELLIN', 'MONTERIA', 'NEIVA', 'NILO',\n",
      "       'OCAÃA', 'PALMIRA', 'PAMPLONA', 'PASTO', 'PENSILVANIA', 'PEREIRA',\n",
      "       'POPAYAN', 'PUERTO BERRIO', 'PUERTO TEJADA', 'QUIBDO', 'RIOHACHA',\n",
      "       'RIONEGRO', 'SABANETA', 'SAN GIL', 'SAN JUAN DEL CESAR', 'SANTA MARTA',\n",
      "       'SANTA ROSA DE CABAL', 'SANTA ROSA DE OSOS', 'SINCELEJO', 'SOCORRO',\n",
      "       'SOGAMOSO', 'TULUA', 'TUNJA', 'TURBO', 'UBATE', 'VALLEDUPAR',\n",
      "       'VILLAVICENCIO', 'YOPAL'],\n",
      "      dtype='object')\n",
      "AGUACHICA                 212\n",
      "ANDES                     211\n",
      "APARTADO                   14\n",
      "ARAUCA                     31\n",
      "ARMENIA                  2673\n",
      "BARRANCABERMEJA           536\n",
      "BARRANQUILLA            18620\n",
      "BELLO                       1\n",
      "BOGOTÃ D.C.           112376\n",
      "BUCARAMANGA             16804\n",
      "BUENAVENTURA               48\n",
      "BUGA                        1\n",
      "CALDAS                    126\n",
      "CALI                     5655\n",
      "CARMEN DE VIBORAL         184\n",
      "CARTAGENA               12566\n",
      "CAUCASIA                  505\n",
      "CHIA                     1144\n",
      "CHIQUINQUIRA              135\n",
      "CIENAGA                    59\n",
      "CUCUTA                   4046\n",
      "DUITAMA                   583\n",
      "ENVIGADO                  154\n",
      "ESPINAL                    28\n",
      "FACATATIVA                 67\n",
      "FLORENCIA                 954\n",
      "FUSAGASUGA                864\n",
      "GIRARDOT                  718\n",
      "IBAGUE                   6849\n",
      "LETICIA                    16\n",
      "                        ...  \n",
      "NEIVA                    4578\n",
      "NILO                        2\n",
      "OCAÃA                    161\n",
      "PALMIRA                   164\n",
      "PAMPLONA                 3351\n",
      "PASTO                     566\n",
      "PENSILVANIA                 1\n",
      "PEREIRA                  5516\n",
      "POPAYAN                  4144\n",
      "PUERTO BERRIO              52\n",
      "PUERTO TEJADA               4\n",
      "QUIBDO                   1495\n",
      "RIOHACHA                  803\n",
      "RIONEGRO                  260\n",
      "SABANETA                   37\n",
      "SAN GIL                   182\n",
      "SAN JUAN DEL CESAR         26\n",
      "SANTA MARTA              5933\n",
      "SANTA ROSA DE CABAL       143\n",
      "SANTA ROSA DE OSOS         55\n",
      "SINCELEJO                2753\n",
      "SOCORRO                   128\n",
      "SOGAMOSO                  714\n",
      "TULUA                      73\n",
      "TUNJA                    5525\n",
      "TURBO                     548\n",
      "UBATE                     216\n",
      "VALLEDUPAR               2971\n",
      "VILLAVICENCIO            2792\n",
      "YOPAL                      58\n",
      "Name: ESTU_IES_MPIO_DESEADA, dtype: int64\n",
      "Elementos null/NaN 96109\n",
      "__________________\n",
      "Elementos diferentes de null/NaN: 287855\n",
      "__________________\n",
      "(287855,)\n",
      "None\n"
     ]
    }
   ],
   "source": [
    "c = 'ESTU_IES_MPIO_DESEADA'\n",
    "print(data_2005_2[c].value_counts().sort_index().index)\n",
    "print(data_2005_2[c].value_counts().sort_index())\n",
    "print(missing_data(data_2005_2[c]))"
   ]
  },
  {
   "cell_type": "code",
   "execution_count": 214,
   "metadata": {
    "collapsed": true
   },
   "outputs": [],
   "source": [
    "data_2005_2['ESTU_IES_MPIO_DESEADA'] = data_2005_2['ESTU_IES_MPIO_DESEADA'].replace('BOGOTÃ D.C.', 'BOGOTA')\n",
    "data_2005_2['ESTU_IES_MPIO_DESEADA'] = data_2005_2['ESTU_IES_MPIO_DESEADA'].replace('OCAÃA', 'OCAÑA')"
   ]
  },
  {
   "cell_type": "code",
   "execution_count": 215,
   "metadata": {
    "collapsed": false,
    "scrolled": true
   },
   "outputs": [
    {
     "name": "stdout",
     "output_type": "stream",
     "text": [
      "Index(['AMAZONAS', 'ANTIOQUIA', 'ARAUCA', 'ATLÃNTICO', 'BOGOTÃ', 'BOLÃVAR',\n",
      "       'BOYACÃ', 'CALDAS', 'CAQUETÃ', 'CASANARE', 'CAUCA', 'CESAR', 'CHOCÃ',\n",
      "       'CUNDINAMARCA', 'CÃRDOBA', 'HUILA', 'LA GUAJIRA', 'MAGDALENA', 'META',\n",
      "       'NARIÃO', 'NORTE SANTANDER', 'QUINDÃO', 'RISARALDA', 'SANTANDER',\n",
      "       'SUCRE', 'TOLIMA', 'VALLE'],\n",
      "      dtype='object')\n",
      "AMAZONAS               16\n",
      "ANTIOQUIA           47712\n",
      "ARAUCA                 31\n",
      "ATLÃNTICO          18620\n",
      "BOGOTÃ            112376\n",
      "BOLÃVAR            12566\n",
      "BOYACÃ              6957\n",
      "CALDAS               6720\n",
      "CAQUETÃ              954\n",
      "CASANARE               58\n",
      "CAUCA                4148\n",
      "CESAR                3183\n",
      "CHOCÃ               1495\n",
      "CUNDINAMARCA         3015\n",
      "CÃRDOBA             6125\n",
      "HUILA                4578\n",
      "LA GUAJIRA            829\n",
      "MAGDALENA            5992\n",
      "META                 2792\n",
      "NARIÃO               566\n",
      "NORTE SANTANDER      7558\n",
      "QUINDÃO             2673\n",
      "RISARALDA            5659\n",
      "SANTANDER           17661\n",
      "SUCRE                2753\n",
      "TOLIMA               6877\n",
      "VALLE                5941\n",
      "Name: ESTU_IES_DEPT_DESEADA, dtype: int64\n",
      "Elementos null/NaN 96109\n",
      "__________________\n",
      "Elementos diferentes de null/NaN: 287855\n",
      "__________________\n",
      "(287855,)\n",
      "None\n"
     ]
    }
   ],
   "source": [
    "c = 'ESTU_IES_DEPT_DESEADA'\n",
    "print(data_2005_2[c].value_counts().sort_index().index)\n",
    "print(data_2005_2[c].value_counts().sort_index())\n",
    "print(missing_data(data_2005_2[c]))"
   ]
  },
  {
   "cell_type": "code",
   "execution_count": 216,
   "metadata": {
    "collapsed": true
   },
   "outputs": [],
   "source": [
    "data_2005_2['ESTU_IES_DEPT_DESEADA'] = data_2005_2['ESTU_IES_DEPT_DESEADA'].replace('ATLÃNTICO', 'ATLANTICO')\n",
    "data_2005_2['ESTU_IES_DEPT_DESEADA'] = data_2005_2['ESTU_IES_DEPT_DESEADA'].replace('BOGOTÃ', 'BOGOTA')\n",
    "data_2005_2['ESTU_IES_DEPT_DESEADA'] = data_2005_2['ESTU_IES_DEPT_DESEADA'].replace('BOLÃVAR', 'BOLIVAR')\n",
    "data_2005_2['ESTU_IES_DEPT_DESEADA'] = data_2005_2['ESTU_IES_DEPT_DESEADA'].replace('BOYACÃ', 'BOYACA')\n",
    "data_2005_2['ESTU_IES_DEPT_DESEADA'] = data_2005_2['ESTU_IES_DEPT_DESEADA'].replace('CAQUETÃ', 'CAQUETA')\n",
    "data_2005_2['ESTU_IES_DEPT_DESEADA'] = data_2005_2['ESTU_IES_DEPT_DESEADA'].replace('CHOCÃ', 'CHOCO')\n",
    "data_2005_2['ESTU_IES_DEPT_DESEADA'] = data_2005_2['ESTU_IES_DEPT_DESEADA'].replace('CÃRDOBA', 'CORDOBA')\n",
    "data_2005_2['ESTU_IES_DEPT_DESEADA'] = data_2005_2['ESTU_IES_DEPT_DESEADA'].replace('NARIÃO', 'NARIÑO')\n",
    "data_2005_2['ESTU_IES_DEPT_DESEADA'] = data_2005_2['ESTU_IES_DEPT_DESEADA'].replace('QUINDÃO', 'QUINDIO')"
   ]
  },
  {
   "cell_type": "code",
   "execution_count": 217,
   "metadata": {
    "collapsed": false
   },
   "outputs": [
    {
     "name": "stdout",
     "output_type": "stream",
     "text": [
      "Float64Index([1.0, 2.0, 3.0, 4.0, 5.0, 6.0, 7.0, 8.0], dtype='float64')\n",
      "1.0      8403\n",
      "2.0     41960\n",
      "3.0    139903\n",
      "4.0     30986\n",
      "5.0     26809\n",
      "6.0     17686\n",
      "7.0     19962\n",
      "8.0     21177\n",
      "Name: ESTU_RAZONINSTITUTO, dtype: int64\n",
      "Elementos null/NaN 77078\n",
      "__________________\n",
      "Elementos diferentes de null/NaN: 306886\n",
      "__________________\n",
      "(306886,)\n",
      "None\n"
     ]
    }
   ],
   "source": [
    "c = 'ESTU_RAZONINSTITUTO'\n",
    "print(data_2005_2[c].value_counts().sort_index().index)\n",
    "print(data_2005_2[c].value_counts().sort_index())\n",
    "print(missing_data(data_2005_2[c]))"
   ]
  },
  {
   "cell_type": "code",
   "execution_count": 218,
   "metadata": {
    "collapsed": false,
    "scrolled": true
   },
   "outputs": [
    {
     "name": "stdout",
     "output_type": "stream",
     "text": [
      "Float64Index([    4.0,     5.0,    23.0,    26.0,    27.0,    36.0,    49.0,\n",
      "                 50.0,    56.0,    58.0,\n",
      "              ...\n",
      "              19956.0, 20008.0, 20049.0, 20072.0, 20101.0, 20124.0, 20133.0,\n",
      "              20137.0, 20143.0, 20261.0],\n",
      "             dtype='float64', length=3672)\n",
      "4.0         35\n",
      "5.0        187\n",
      "23.0         8\n",
      "26.0         5\n",
      "27.0         3\n",
      "36.0        56\n",
      "49.0        12\n",
      "50.0        21\n",
      "56.0        34\n",
      "58.0         7\n",
      "59.0         3\n",
      "60.0         7\n",
      "61.0        19\n",
      "63.0        45\n",
      "64.0        51\n",
      "68.0         1\n",
      "74.0        20\n",
      "87.0       127\n",
      "88.0         1\n",
      "89.0         2\n",
      "101.0       26\n",
      "102.0      409\n",
      "103.0      781\n",
      "105.0       39\n",
      "106.0        9\n",
      "107.0       18\n",
      "108.0      167\n",
      "109.0      382\n",
      "110.0       19\n",
      "111.0       86\n",
      "          ... \n",
      "18522.0      1\n",
      "18523.0      1\n",
      "18525.0      2\n",
      "18534.0     13\n",
      "18535.0      2\n",
      "18537.0      2\n",
      "18539.0      4\n",
      "18541.0      4\n",
      "18559.0      1\n",
      "18563.0     17\n",
      "18603.0      1\n",
      "18610.0      1\n",
      "18618.0      1\n",
      "18620.0      4\n",
      "18622.0      4\n",
      "18638.0      1\n",
      "18658.0      3\n",
      "19492.0      1\n",
      "19523.0      1\n",
      "19924.0      1\n",
      "19956.0      1\n",
      "20008.0      1\n",
      "20049.0      1\n",
      "20072.0      1\n",
      "20101.0      1\n",
      "20124.0      1\n",
      "20133.0      8\n",
      "20137.0      1\n",
      "20143.0     12\n",
      "20261.0      1\n",
      "Name: ESTU_CARRDESEADA_COD, dtype: int64\n",
      "Elementos null/NaN 101572\n",
      "__________________\n",
      "Elementos diferentes de null/NaN: 282392\n",
      "__________________\n",
      "(282392,)\n",
      "None\n"
     ]
    }
   ],
   "source": [
    "c = 'ESTU_CARRDESEADA_COD'\n",
    "print(data_2005_2[c].value_counts().sort_index().index)\n",
    "print(data_2005_2[c].value_counts().sort_index())\n",
    "print(missing_data(data_2005_2[c]))"
   ]
  },
  {
   "cell_type": "code",
   "execution_count": 219,
   "metadata": {
    "collapsed": false
   },
   "outputs": [
    {
     "name": "stdout",
     "output_type": "stream",
     "text": [
      "Float64Index([1.0, 2.0, 3.0, 4.0, 5.0, 6.0], dtype='float64')\n",
      "1.0     93790\n",
      "2.0    110092\n",
      "3.0     45187\n",
      "4.0     26963\n",
      "5.0     24894\n",
      "6.0      7592\n",
      "Name: ESTU_CARRDESEADA_RAZON, dtype: int64\n",
      "Elementos null/NaN 75446\n",
      "__________________\n",
      "Elementos diferentes de null/NaN: 308518\n",
      "__________________\n",
      "(308518,)\n",
      "None\n"
     ]
    }
   ],
   "source": [
    "c = 'ESTU_CARRDESEADA_RAZON'\n",
    "print(data_2005_2[c].value_counts().sort_index().index)\n",
    "print(data_2005_2[c].value_counts().sort_index())\n",
    "print(missing_data(data_2005_2[c]))"
   ]
  },
  {
   "cell_type": "markdown",
   "metadata": {},
   "source": [
    "### TARGETS"
   ]
  },
  {
   "cell_type": "code",
   "execution_count": 220,
   "metadata": {
    "collapsed": false,
    "scrolled": true
   },
   "outputs": [
    {
     "name": "stdout",
     "output_type": "stream",
     "text": [
      "Index(['-1', '0', '22,75', '30,24', '34,86', '38,32', '41,17', '43,63',\n",
      "       '45,85', '47,88', '49,8', '51,63', '53,42', '55,18', '56,94', '58,72',\n",
      "       '60,55', '62,46', '64,49', '66,69', '69,14', '71,97', '75,42', '80,03',\n",
      "       '87,49', '91,84'],\n",
      "      dtype='object')\n",
      "-1           1\n",
      "0          181\n",
      "22,75     1318\n",
      "30,24     5551\n",
      "34,86    14383\n",
      "38,32    27292\n",
      "41,17    40275\n",
      "43,63    48785\n",
      "45,85    49954\n",
      "47,88    46283\n",
      "49,8     38651\n",
      "51,63    31098\n",
      "53,42    23841\n",
      "55,18    17825\n",
      "56,94    13015\n",
      "58,72     9271\n",
      "60,55     6190\n",
      "62,46     4200\n",
      "64,49     2671\n",
      "66,69     1555\n",
      "69,14      845\n",
      "71,97      456\n",
      "75,42      223\n",
      "80,03       72\n",
      "87,49       27\n",
      "91,84        1\n",
      "Name: PUNT_BIOLOGIA, dtype: int64\n",
      "Elementos null/NaN 0\n",
      "__________________\n",
      "Elementos diferentes de null/NaN: 383964\n",
      "__________________\n",
      "(383964,)\n",
      "None\n"
     ]
    }
   ],
   "source": [
    "c = 'PUNT_BIOLOGIA'\n",
    "print(data_2005_2[c].value_counts().sort_index().index)\n",
    "print(data_2005_2[c].value_counts().sort_index())\n",
    "print(missing_data(data_2005_2[c]))"
   ]
  },
  {
   "cell_type": "code",
   "execution_count": 221,
   "metadata": {
    "collapsed": false
   },
   "outputs": [],
   "source": [
    "c = 'PUNT_BIOLOGIA'\n",
    "for i in data_2005_2[c].value_counts().sort_index().index:\n",
    "    if ',' in i:\n",
    "        data_2005_2[c] = data_2005_2[c].replace(i, i.replace(',', '.'))\n",
    "\n",
    "for i in data_2005_2[c].value_counts().sort_index().index:\n",
    "    if type(i) == str:\n",
    "        data_2005_2[c] = data_2005_2[c].replace(i, float(i))"
   ]
  },
  {
   "cell_type": "code",
   "execution_count": 222,
   "metadata": {
    "collapsed": false,
    "scrolled": true
   },
   "outputs": [
    {
     "name": "stdout",
     "output_type": "stream",
     "text": [
      "Index(['-1', '0', '104,89', '16,9', '26,33', '32,18', '36,56', '40,15',\n",
      "       '43,27', '46,07', '48,67', '51,11', '53,45', '55,73', '57,98', '60,24',\n",
      "       '62,52', '64,88', '67,33', '69,93', '72,76', '75,91', '79,54', '83,95',\n",
      "       '89,83', '99,32'],\n",
      "      dtype='object')\n",
      "-1            2\n",
      "0           302\n",
      "104,89        4\n",
      "16,9       2415\n",
      "26,33      9298\n",
      "32,18     23295\n",
      "36,56     41545\n",
      "40,15     57523\n",
      "43,27     63817\n",
      "46,07     58727\n",
      "48,67     46045\n",
      "51,11     31361\n",
      "53,45     20046\n",
      "55,73     11772\n",
      "57,98      6787\n",
      "60,24      4191\n",
      "62,52      2592\n",
      "64,88      1595\n",
      "67,33      1033\n",
      "69,93       667\n",
      "72,76       399\n",
      "75,91       287\n",
      "79,54       140\n",
      "83,95        83\n",
      "89,83        25\n",
      "99,32        13\n",
      "Name: PUNT_MATEMATICAS, dtype: int64\n",
      "Elementos null/NaN 0\n",
      "__________________\n",
      "Elementos diferentes de null/NaN: 383964\n",
      "__________________\n",
      "(383964,)\n",
      "None\n"
     ]
    }
   ],
   "source": [
    "c = 'PUNT_MATEMATICAS'\n",
    "print(data_2005_2[c].value_counts().sort_index().index)\n",
    "print(data_2005_2[c].value_counts().sort_index())\n",
    "print(missing_data(data_2005_2[c]))"
   ]
  },
  {
   "cell_type": "code",
   "execution_count": 223,
   "metadata": {
    "collapsed": false
   },
   "outputs": [],
   "source": [
    "c = 'PUNT_MATEMATICAS'\n",
    "for i in data_2005_2[c].value_counts().sort_index().index:\n",
    "    if ',' in i:\n",
    "        data_2005_2[c] = data_2005_2[c].replace(i, i.replace(',', '.'))\n",
    "\n",
    "for i in data_2005_2[c].value_counts().sort_index().index:\n",
    "    if type(i) == str:\n",
    "        data_2005_2[c] = data_2005_2[c].replace(i, float(i))"
   ]
  },
  {
   "cell_type": "code",
   "execution_count": 224,
   "metadata": {
    "collapsed": false,
    "scrolled": true
   },
   "outputs": [
    {
     "name": "stdout",
     "output_type": "stream",
     "text": [
      "Index(['-1', '0', '13,76', '22,73', '28,3', '32,48', '35,93', '38,93', '41,62',\n",
      "       '44,09', '46,43', '48,67', '50,84', '52,99', '55,13', '57,3', '59,52',\n",
      "       '61,83', '64,28', '66,94', '69,89', '73,29', '77,42'],\n",
      "      dtype='object')\n",
      "-1          15\n",
      "0          167\n",
      "13,76     1165\n",
      "22,73     4568\n",
      "28,3     11937\n",
      "32,48    23342\n",
      "35,93    35557\n",
      "38,93    46121\n",
      "41,62    51638\n",
      "44,09    51302\n",
      "46,43    45613\n",
      "48,67    37503\n",
      "50,84    28350\n",
      "52,99    19745\n",
      "55,13    12423\n",
      "57,3      7390\n",
      "59,52     3921\n",
      "61,83     1908\n",
      "64,28      826\n",
      "66,94      340\n",
      "69,89      102\n",
      "73,29       20\n",
      "77,42       11\n",
      "Name: PUNT_FILOSOFIA, dtype: int64\n",
      "Elementos null/NaN 0\n",
      "__________________\n",
      "Elementos diferentes de null/NaN: 383964\n",
      "__________________\n",
      "(383964,)\n",
      "None\n"
     ]
    }
   ],
   "source": [
    "c = 'PUNT_FILOSOFIA'\n",
    "print(data_2005_2[c].value_counts().sort_index().index)\n",
    "print(data_2005_2[c].value_counts().sort_index())\n",
    "print(missing_data(data_2005_2[c]))"
   ]
  },
  {
   "cell_type": "code",
   "execution_count": 225,
   "metadata": {
    "collapsed": false
   },
   "outputs": [],
   "source": [
    "c = 'PUNT_FILOSOFIA'\n",
    "for i in data_2005_2[c].value_counts().sort_index().index:\n",
    "    if ',' in i:\n",
    "        data_2005_2[c] = data_2005_2[c].replace(i, i.replace(',', '.'))\n",
    "\n",
    "for i in data_2005_2[c].value_counts().sort_index().index:\n",
    "    if type(i) == str:\n",
    "        data_2005_2[c] = data_2005_2[c].replace(i, float(i))"
   ]
  },
  {
   "cell_type": "code",
   "execution_count": 226,
   "metadata": {
    "collapsed": false,
    "scrolled": true
   },
   "outputs": [
    {
     "name": "stdout",
     "output_type": "stream",
     "text": [
      "Index(['-1', '0', '102,81', '19,22', '28,83', '34,77', '39,23', '42,88',\n",
      "       '46,06', '48,9', '51,53', '54,01', '56,39', '58,7', '60,98', '63,26',\n",
      "       '65,58', '67,96', '70,44', '73,07', '75,93', '79,11', '82,77', '87,24',\n",
      "       '93,19'],\n",
      "      dtype='object')\n",
      "-1            2\n",
      "0           322\n",
      "102,81        4\n",
      "19,22      2553\n",
      "28,83      9696\n",
      "34,77     24443\n",
      "39,23     43949\n",
      "42,88     59926\n",
      "46,06     65351\n",
      "48,9      59547\n",
      "51,53     45312\n",
      "54,01     30067\n",
      "56,39     18331\n",
      "58,7      10123\n",
      "60,98      5732\n",
      "63,26      3278\n",
      "65,58      2047\n",
      "67,96      1276\n",
      "70,44       837\n",
      "73,07       524\n",
      "75,93       297\n",
      "79,11       175\n",
      "82,77       115\n",
      "87,24        39\n",
      "93,19        18\n",
      "Name: PUNT_FISICA, dtype: int64\n",
      "Elementos null/NaN 0\n",
      "__________________\n",
      "Elementos diferentes de null/NaN: 383964\n",
      "__________________\n",
      "(383964,)\n",
      "None\n"
     ]
    }
   ],
   "source": [
    "c = 'PUNT_FISICA'\n",
    "print(data_2005_2[c].value_counts().sort_index().index)\n",
    "print(data_2005_2[c].value_counts().sort_index())\n",
    "print(missing_data(data_2005_2[c]))"
   ]
  },
  {
   "cell_type": "code",
   "execution_count": 227,
   "metadata": {
    "collapsed": false
   },
   "outputs": [],
   "source": [
    "c = 'PUNT_FISICA'\n",
    "for i in data_2005_2[c].value_counts().sort_index().index:\n",
    "    if ',' in i:\n",
    "        data_2005_2[c] = data_2005_2[c].replace(i, i.replace(',', '.'))\n",
    "\n",
    "for i in data_2005_2[c].value_counts().sort_index().index:\n",
    "    if type(i) == str:\n",
    "        data_2005_2[c] = data_2005_2[c].replace(i, float(i))"
   ]
  },
  {
   "cell_type": "code",
   "execution_count": 228,
   "metadata": {
    "collapsed": false,
    "scrolled": true
   },
   "outputs": [
    {
     "name": "stdout",
     "output_type": "stream",
     "text": [
      "Index(['-1', '0', '17,79', '25,08', '29,59', '33', '35,8', '38,22', '40,42',\n",
      "       '42,46', '44,38', '46,23', '48,04', '49,82', '51,62', '53,44', '55,32',\n",
      "       '57,29', '59,38', '61,65', '64,17', '67,09', '70,63', '75,31'],\n",
      "      dtype='object')\n",
      "-1           4\n",
      "0          164\n",
      "17,79     1209\n",
      "25,08     4783\n",
      "29,59    12418\n",
      "33       23919\n",
      "35,8     36105\n",
      "38,22    45503\n",
      "40,42    49398\n",
      "42,46    47250\n",
      "44,38    41935\n",
      "46,23    34725\n",
      "48,04    27126\n",
      "49,82    20221\n",
      "51,62    14997\n",
      "53,44    10405\n",
      "55,32     6688\n",
      "57,29     3834\n",
      "59,38     1977\n",
      "61,65      895\n",
      "64,17      317\n",
      "67,09       75\n",
      "70,63       13\n",
      "75,31        3\n",
      "Name: PUNT_HISTORIA, dtype: int64\n",
      "Elementos null/NaN 0\n",
      "__________________\n",
      "Elementos diferentes de null/NaN: 383964\n",
      "__________________\n",
      "(383964,)\n",
      "None\n"
     ]
    }
   ],
   "source": [
    "c = 'PUNT_HISTORIA'\n",
    "print(data_2005_2[c].value_counts().sort_index().index)\n",
    "print(data_2005_2[c].value_counts().sort_index())\n",
    "print(missing_data(data_2005_2[c]))"
   ]
  },
  {
   "cell_type": "code",
   "execution_count": 229,
   "metadata": {
    "collapsed": false
   },
   "outputs": [],
   "source": [
    "c = 'PUNT_HISTORIA'\n",
    "for i in data_2005_2[c].value_counts().sort_index().index:\n",
    "    if ',' in i:\n",
    "        data_2005_2[c] = data_2005_2[c].replace(i, i.replace(',', '.'))\n",
    "\n",
    "for i in data_2005_2[c].value_counts().sort_index().index:\n",
    "    if type(i) == str:\n",
    "        data_2005_2[c] = data_2005_2[c].replace(i, float(i))"
   ]
  },
  {
   "cell_type": "code",
   "execution_count": 230,
   "metadata": {
    "collapsed": false,
    "scrolled": true
   },
   "outputs": [
    {
     "name": "stdout",
     "output_type": "stream",
     "text": [
      "Index(['-1', '0', '19,26', '26,1', '30,38', '33,62', '36,31', '38,67', '40,8',\n",
      "       '42,8', '44,7', '46,54', '48,36', '50,18', '52,03', '53,94', '55,96',\n",
      "       '58,12', '60,51', '63,23', '66,52', '70,85', '77,76', '82,38'],\n",
      "      dtype='object')\n",
      "-1           1\n",
      "0           84\n",
      "19,26      592\n",
      "26,1      2589\n",
      "30,38     8048\n",
      "33,62    18385\n",
      "36,31    31439\n",
      "38,67    43872\n",
      "40,8     51317\n",
      "42,8     51346\n",
      "44,7     46143\n",
      "46,54    37584\n",
      "48,36    28502\n",
      "50,18    20967\n",
      "52,03    14847\n",
      "53,94    10296\n",
      "55,96     7192\n",
      "58,12     4728\n",
      "60,51     3030\n",
      "63,23     1601\n",
      "66,52      892\n",
      "70,85      355\n",
      "77,76      126\n",
      "82,38       28\n",
      "Name: PUNT_QUIMICA, dtype: int64\n",
      "Elementos null/NaN 0\n",
      "__________________\n",
      "Elementos diferentes de null/NaN: 383964\n",
      "__________________\n",
      "(383964,)\n",
      "None\n"
     ]
    }
   ],
   "source": [
    "c = 'PUNT_QUIMICA'\n",
    "print(data_2005_2[c].value_counts().sort_index().index)\n",
    "print(data_2005_2[c].value_counts().sort_index())\n",
    "print(missing_data(data_2005_2[c]))"
   ]
  },
  {
   "cell_type": "code",
   "execution_count": 231,
   "metadata": {
    "collapsed": false
   },
   "outputs": [],
   "source": [
    "c = 'PUNT_QUIMICA'\n",
    "for i in data_2005_2[c].value_counts().sort_index().index:\n",
    "    if ',' in i:\n",
    "        data_2005_2[c] = data_2005_2[c].replace(i, i.replace(',', '.'))\n",
    "\n",
    "for i in data_2005_2[c].value_counts().sort_index().index:\n",
    "    if type(i) == str:\n",
    "        data_2005_2[c] = data_2005_2[c].replace(i, float(i))"
   ]
  },
  {
   "cell_type": "code",
   "execution_count": 232,
   "metadata": {
    "collapsed": false,
    "scrolled": true
   },
   "outputs": [
    {
     "name": "stdout",
     "output_type": "stream",
     "text": [
      "Index(['0', '17,83', '22,89', '26,76', '29,98', '32,82', '35,41', '37,83',\n",
      "       '40,14', '42,39', '44,61', '46,83', '49,09', '51,43', '53,89', '56,52',\n",
      "       '59,42', '62,72', '66,67', '71,82', '79,94', '85,46', '9,81'],\n",
      "      dtype='object')\n",
      "0           33\n",
      "17,83      583\n",
      "22,89     1851\n",
      "26,76     4194\n",
      "29,98     8401\n",
      "32,82    13893\n",
      "35,41    20388\n",
      "37,83    27042\n",
      "40,14    32236\n",
      "42,39    36988\n",
      "44,61    39578\n",
      "46,83    39855\n",
      "49,09    38090\n",
      "51,43    34680\n",
      "53,89    28690\n",
      "56,52    22365\n",
      "59,42    15760\n",
      "62,72    10220\n",
      "66,67     5612\n",
      "71,82     2432\n",
      "79,94      799\n",
      "85,46      140\n",
      "9,81       134\n",
      "Name: PUNT_LENGUAJE, dtype: int64\n",
      "Elementos null/NaN 0\n",
      "__________________\n",
      "Elementos diferentes de null/NaN: 383964\n",
      "__________________\n",
      "(383964,)\n",
      "None\n"
     ]
    }
   ],
   "source": [
    "c = 'PUNT_LENGUAJE'\n",
    "print(data_2005_2[c].value_counts().sort_index().index)\n",
    "print(data_2005_2[c].value_counts().sort_index())\n",
    "print(missing_data(data_2005_2[c]))"
   ]
  },
  {
   "cell_type": "code",
   "execution_count": 233,
   "metadata": {
    "collapsed": false
   },
   "outputs": [],
   "source": [
    "c = 'PUNT_LENGUAJE'\n",
    "for i in data_2005_2[c].value_counts().sort_index().index:\n",
    "    if ',' in i:\n",
    "        data_2005_2[c] = data_2005_2[c].replace(i, i.replace(',', '.'))\n",
    "\n",
    "for i in data_2005_2[c].value_counts().sort_index().index:\n",
    "    if type(i) == str:\n",
    "        data_2005_2[c] = data_2005_2[c].replace(i, float(i))"
   ]
  },
  {
   "cell_type": "code",
   "execution_count": 234,
   "metadata": {
    "collapsed": false,
    "scrolled": true
   },
   "outputs": [
    {
     "name": "stdout",
     "output_type": "stream",
     "text": [
      "Index(['-1', '0', '16,79', '24,64', '29,51', '33,16', '36,15', '38,74',\n",
      "       '41,08', '43,25', '45,28', '47,24', '49,14', '51,02', '52,91', '54,82',\n",
      "       '56,78', '58,84', '61,02', '63,38', '66,01', '69,04', '72,73'],\n",
      "      dtype='object')\n",
      "-1           7\n",
      "0          175\n",
      "16,79     1376\n",
      "24,64     5712\n",
      "29,51    15395\n",
      "33,16    29958\n",
      "36,15    45166\n",
      "38,74    55108\n",
      "41,08    57907\n",
      "43,25    51883\n",
      "45,28    41536\n",
      "47,24    30809\n",
      "49,14    20618\n",
      "51,02    12962\n",
      "52,91     7549\n",
      "54,82     4168\n",
      "56,78     2119\n",
      "58,84      952\n",
      "61,02      381\n",
      "63,38      135\n",
      "66,01       37\n",
      "69,04       10\n",
      "72,73        1\n",
      "Name: PUNT_GEOGRAFIA, dtype: int64\n",
      "Elementos null/NaN 0\n",
      "__________________\n",
      "Elementos diferentes de null/NaN: 383964\n",
      "__________________\n",
      "(383964,)\n",
      "None\n"
     ]
    }
   ],
   "source": [
    "c = 'PUNT_GEOGRAFIA'\n",
    "print(data_2005_2[c].value_counts().sort_index().index)\n",
    "print(data_2005_2[c].value_counts().sort_index())\n",
    "print(missing_data(data_2005_2[c]))"
   ]
  },
  {
   "cell_type": "code",
   "execution_count": 235,
   "metadata": {
    "collapsed": false
   },
   "outputs": [],
   "source": [
    "c = 'PUNT_GEOGRAFIA'\n",
    "for i in data_2005_2[c].value_counts().sort_index().index:\n",
    "    if ',' in i:\n",
    "        data_2005_2[c] = data_2005_2[c].replace(i, i.replace(',', '.'))\n",
    "\n",
    "for i in data_2005_2[c].value_counts().sort_index().index:\n",
    "    if type(i) == str:\n",
    "        data_2005_2[c] = data_2005_2[c].replace(i, float(i))"
   ]
  },
  {
   "cell_type": "code",
   "execution_count": 236,
   "metadata": {
    "collapsed": false
   },
   "outputs": [
    {
     "name": "stdout",
     "output_type": "stream",
     "text": [
      "Index(['ALEMÃN', 'FRANCÃS', 'INGLÃS'], dtype='object')\n",
      "ALEMÃN        238\n",
      "FRANCÃS      2228\n",
      "INGLÃS     381498\n",
      "Name: NOMBRE_IDIOMA, dtype: int64\n",
      "Elementos null/NaN 0\n",
      "__________________\n",
      "Elementos diferentes de null/NaN: 383964\n",
      "__________________\n",
      "(383964,)\n",
      "None\n"
     ]
    }
   ],
   "source": [
    "c = 'NOMBRE_IDIOMA'\n",
    "print(data_2005_2[c].value_counts().sort_index().index)\n",
    "print(data_2005_2[c].value_counts().sort_index())\n",
    "print(missing_data(data_2005_2[c]))"
   ]
  },
  {
   "cell_type": "code",
   "execution_count": 237,
   "metadata": {
    "collapsed": true
   },
   "outputs": [],
   "source": [
    "data_2005_2['NOMBRE_IDIOMA'] = data_2005_2['NOMBRE_IDIOMA'].replace('ALEMÃN', 'ALEMAN')\n",
    "data_2005_2['NOMBRE_IDIOMA'] = data_2005_2['NOMBRE_IDIOMA'].replace('FRANCÃS', 'FRANCES')\n",
    "data_2005_2['NOMBRE_IDIOMA'] = data_2005_2['NOMBRE_IDIOMA'].replace('INGLÃS', 'INGLES')"
   ]
  },
  {
   "cell_type": "code",
   "execution_count": 238,
   "metadata": {
    "collapsed": false,
    "scrolled": true
   },
   "outputs": [
    {
     "name": "stdout",
     "output_type": "stream",
     "text": [
      "Index(['-1', '0', '18,26', '20,72', '22,17', '25,75', '28,18', '29,61',\n",
      "       '30,38', '32,77', '33,85', '34,2', '36,2', '36,7', '37,62', '39,01',\n",
      "       '39,16', '40,43', '41,36', '41,43', '42,86', '43,4', '43,6', '45,04',\n",
      "       '45,31', '45,59', '47,05', '47,14', '47,46', '48,92', '48,94', '49,25',\n",
      "       '50,67', '50,75', '50,98', '52,42', '52,51', '52,69', '54,19', '54,25',\n",
      "       '54,4', '55,99', '56,01', '56,14', '57,75', '57,91', '57,92', '59,57',\n",
      "       '59,77', '59,92', '61,46', '61,75', '62,11', '63,48', '63,9', '64,54',\n",
      "       '65,66', '66,3', '67,36', '68,1', '69,07', '70,79', '70,92', '72,47',\n",
      "       '74,36', '75,38', '77,02', '78,96', '82,83', '84,43', '87,17', '88,74'],\n",
      "      dtype='object')\n",
      "-1        1003\n",
      "0          220\n",
      "18,26      926\n",
      "20,72       12\n",
      "22,17        3\n",
      "25,75     3598\n",
      "28,18       56\n",
      "29,61        5\n",
      "30,38    10276\n",
      "32,77      133\n",
      "33,85    21082\n",
      "34,2        14\n",
      "36,2       232\n",
      "36,7     35564\n",
      "37,62       16\n",
      "39,01      315\n",
      "39,16    47989\n",
      "40,43       23\n",
      "41,36    54335\n",
      "41,43      347\n",
      "42,86       30\n",
      "43,4     52335\n",
      "43,6       337\n",
      "45,04       26\n",
      "45,31    44211\n",
      "45,59      233\n",
      "47,05       17\n",
      "47,14    33443\n",
      "47,46      156\n",
      "48,92    23456\n",
      "         ...  \n",
      "56,01     4980\n",
      "56,14       23\n",
      "57,75        7\n",
      "57,91     3743\n",
      "57,92       15\n",
      "59,57        9\n",
      "59,77       13\n",
      "59,92     2999\n",
      "61,46       11\n",
      "61,75       15\n",
      "62,11     2476\n",
      "63,48       13\n",
      "63,9        13\n",
      "64,54     2064\n",
      "65,66       14\n",
      "66,3        15\n",
      "67,36     1727\n",
      "68,1         6\n",
      "69,07       16\n",
      "70,79     1199\n",
      "70,92        4\n",
      "72,47       11\n",
      "74,36        4\n",
      "75,38      726\n",
      "77,02       12\n",
      "78,96        2\n",
      "82,83      257\n",
      "84,43        4\n",
      "87,17       58\n",
      "88,74        1\n",
      "Name: PUNT_IDIOMA, dtype: int64\n",
      "Elementos null/NaN 0\n",
      "__________________\n",
      "Elementos diferentes de null/NaN: 383964\n",
      "__________________\n",
      "(383964,)\n",
      "None\n"
     ]
    }
   ],
   "source": [
    "c = 'PUNT_IDIOMA'\n",
    "print(data_2005_2[c].value_counts().sort_index().index)\n",
    "print(data_2005_2[c].value_counts().sort_index())\n",
    "print(missing_data(data_2005_2[c]))"
   ]
  },
  {
   "cell_type": "code",
   "execution_count": 239,
   "metadata": {
    "collapsed": false
   },
   "outputs": [],
   "source": [
    "c = 'PUNT_IDIOMA'\n",
    "for i in data_2005_2[c].value_counts().sort_index().index:\n",
    "    if ',' in i:\n",
    "        data_2005_2[c] = data_2005_2[c].replace(i, i.replace(',', '.'))\n",
    "\n",
    "for i in data_2005_2[c].value_counts().sort_index().index:\n",
    "    if type(i) == str:\n",
    "        data_2005_2[c] = data_2005_2[c].replace(i, float(i))"
   ]
  },
  {
   "cell_type": "code",
   "execution_count": 240,
   "metadata": {
    "collapsed": false
   },
   "outputs": [
    {
     "name": "stdout",
     "output_type": "stream",
     "text": [
      "Float64Index([-1.0], dtype='float64')\n",
      "-1.0    1002\n",
      "Name: DESEMP_IDIOMA, dtype: int64\n",
      "Elementos null/NaN 382962\n",
      "__________________\n",
      "Elementos diferentes de null/NaN: 1002\n",
      "__________________\n",
      "(1002,)\n",
      "None\n"
     ]
    }
   ],
   "source": [
    "c = 'DESEMP_IDIOMA'\n",
    "print(data_2005_2[c].value_counts().sort_index().index)\n",
    "print(data_2005_2[c].value_counts().sort_index())\n",
    "print(missing_data(data_2005_2[c]))"
   ]
  },
  {
   "cell_type": "code",
   "execution_count": 241,
   "metadata": {
    "collapsed": false
   },
   "outputs": [
    {
     "name": "stdout",
     "output_type": "stream",
     "text": [
      "Index(['PROFUNDIZACIÃN EN BIOLOGÃA', 'PROFUNDIZACIÃN EN HISTORIA',\n",
      "       'PROFUNDIZACIÃN EN LENGUAJE', 'PROFUNDIZACIÃN EN MATEMÃTICA'],\n",
      "      dtype='object')\n",
      "PROFUNDIZACIÃN EN BIOLOGÃA      117348\n",
      "PROFUNDIZACIÃN EN HISTORIA        66271\n",
      "PROFUNDIZACIÃN EN LENGUAJE       143849\n",
      "PROFUNDIZACIÃN EN MATEMÃTICA     56496\n",
      "Name: NOMBRE_PROFUNDIZACION, dtype: int64\n",
      "Elementos null/NaN 0\n",
      "__________________\n",
      "Elementos diferentes de null/NaN: 383964\n",
      "__________________\n",
      "(383964,)\n",
      "None\n"
     ]
    }
   ],
   "source": [
    "c = 'NOMBRE_PROFUNDIZACION'\n",
    "print(data_2005_2[c].value_counts().sort_index().index)\n",
    "print(data_2005_2[c].value_counts().sort_index())\n",
    "print(missing_data(data_2005_2[c]))"
   ]
  },
  {
   "cell_type": "code",
   "execution_count": 242,
   "metadata": {
    "collapsed": true
   },
   "outputs": [],
   "source": [
    "data_2005_2['NOMBRE_PROFUNDIZACION'] = data_2005_2['NOMBRE_PROFUNDIZACION'].replace('PROFUNDIZACIÃN EN BIOLOGÃA', 'BIOLOGIA')\n",
    "data_2005_2['NOMBRE_PROFUNDIZACION'] = data_2005_2['NOMBRE_PROFUNDIZACION'].replace('PROFUNDIZACIÃN EN HISTORIA', 'HISTORIA')\n",
    "data_2005_2['NOMBRE_PROFUNDIZACION'] = data_2005_2['NOMBRE_PROFUNDIZACION'].replace('PROFUNDIZACIÃN EN LENGUAJE', 'LENGUAJE')\n",
    "data_2005_2['NOMBRE_PROFUNDIZACION'] = data_2005_2['NOMBRE_PROFUNDIZACION'].replace('PROFUNDIZACIÃN EN MATEMÃTICA', 'MATEMATICA')"
   ]
  },
  {
   "cell_type": "code",
   "execution_count": 243,
   "metadata": {
    "collapsed": false,
    "scrolled": true
   },
   "outputs": [
    {
     "name": "stdout",
     "output_type": "stream",
     "text": [
      "Index(['-1', '0', '1,7', '10', '2,5', '2,7', '3,2', '3,3', '3,5', '3,9', '4',\n",
      "       '4,1', '4,2', '4,3', '4,5', '4,6', '4,7', '5', '5,1', '5,3', '5,4',\n",
      "       '5,5', '5,7', '5,8', '5,9', '6', '6,1', '6,3', '6,4', '6,7', '6,8',\n",
      "       '7,1', '7,3', '7,4', '7,6', '7,8', '7,9', '8', '8,2', '8,4', '9', '9,1',\n",
      "       '9,2'],\n",
      "      dtype='object')\n",
      "-1       223\n",
      "0       1863\n",
      "1,7     2136\n",
      "10         5\n",
      "2,5     1355\n",
      "2,7     5651\n",
      "3,2     3098\n",
      "3,3    14256\n",
      "3,5     3634\n",
      "3,9    15876\n",
      "4       7431\n",
      "4,1     6909\n",
      "4,2    10020\n",
      "4,3    19729\n",
      "4,5     9709\n",
      "4,6    10971\n",
      "4,7    39867\n",
      "5      23187\n",
      "5,1    44120\n",
      "5,3    10575\n",
      "5,4     9809\n",
      "5,5    40018\n",
      "5,7     9047\n",
      "5,8    23312\n",
      "5,9    13818\n",
      "6       6714\n",
      "6,1    13997\n",
      "6,3     8911\n",
      "6,4    11452\n",
      "6,7     5616\n",
      "6,8     4750\n",
      "7,1     2356\n",
      "7,3     1795\n",
      "7,4      670\n",
      "7,6      166\n",
      "7,8      196\n",
      "7,9       39\n",
      "8        515\n",
      "8,2       32\n",
      "8,4       48\n",
      "9         72\n",
      "9,1        4\n",
      "9,2       12\n",
      "Name: PUNT_PROFUNDIZACION, dtype: int64\n",
      "Elementos null/NaN 0\n",
      "__________________\n",
      "Elementos diferentes de null/NaN: 383964\n",
      "__________________\n",
      "(383964,)\n",
      "None\n"
     ]
    }
   ],
   "source": [
    "c = 'PUNT_PROFUNDIZACION'\n",
    "print(data_2005_2[c].value_counts().sort_index().index)\n",
    "print(data_2005_2[c].value_counts().sort_index())\n",
    "print(missing_data(data_2005_2[c]))"
   ]
  },
  {
   "cell_type": "code",
   "execution_count": 244,
   "metadata": {
    "collapsed": false
   },
   "outputs": [],
   "source": [
    "c = 'PUNT_PROFUNDIZACION'\n",
    "for i in data_2005_2[c].value_counts().sort_index().index:\n",
    "    if ',' in i:\n",
    "        data_2005_2[c] = data_2005_2[c].replace(i, i.replace(',', '.'))\n",
    "\n",
    "for i in data_2005_2[c].value_counts().sort_index().index:\n",
    "    if type(i) == str:\n",
    "        data_2005_2[c] = data_2005_2[c].replace(i, float(i))"
   ]
  },
  {
   "cell_type": "code",
   "execution_count": 245,
   "metadata": {
    "collapsed": false
   },
   "outputs": [
    {
     "name": "stdout",
     "output_type": "stream",
     "text": [
      "Index(['-1', 'GB', 'I', 'II', 'III'], dtype='object')\n",
      "-1        223\n",
      "GB     155279\n",
      "I      182199\n",
      "II      44166\n",
      "III      2097\n",
      "Name: DESEMP_PROFUNDIZACION, dtype: int64\n",
      "Elementos null/NaN 0\n",
      "__________________\n",
      "Elementos diferentes de null/NaN: 383964\n",
      "__________________\n",
      "(383964,)\n",
      "None\n"
     ]
    }
   ],
   "source": [
    "c = 'DESEMP_PROFUNDIZACION'\n",
    "print(data_2005_2[c].value_counts().sort_index().index)\n",
    "print(data_2005_2[c].value_counts().sort_index())\n",
    "print(missing_data(data_2005_2[c]))"
   ]
  },
  {
   "cell_type": "code",
   "execution_count": 246,
   "metadata": {
    "collapsed": true
   },
   "outputs": [],
   "source": [
    "data_2005_2['DESEMP_PROFUNDIZACION'] = data_2005_2['DESEMP_PROFUNDIZACION'].replace('-1', np.nan)"
   ]
  },
  {
   "cell_type": "code",
   "execution_count": 247,
   "metadata": {
    "collapsed": false
   },
   "outputs": [
    {
     "name": "stdout",
     "output_type": "stream",
     "text": [
      "Index(['MEDIO AMBIENTE', 'VIOLENCIA Y SOCIEDAD'], dtype='object')\n",
      "MEDIO AMBIENTE          203278\n",
      "VIOLENCIA Y SOCIEDAD    180686\n",
      "Name: NOMBRE_INTERDISCIPLINAR, dtype: int64\n",
      "Elementos null/NaN 0\n",
      "__________________\n",
      "Elementos diferentes de null/NaN: 383964\n",
      "__________________\n",
      "(383964,)\n",
      "None\n"
     ]
    }
   ],
   "source": [
    "c = 'NOMBRE_INTERDISCIPLINAR'\n",
    "print(data_2005_2[c].value_counts().sort_index().index)\n",
    "print(data_2005_2[c].value_counts().sort_index())\n",
    "print(missing_data(data_2005_2[c]))"
   ]
  },
  {
   "cell_type": "code",
   "execution_count": 248,
   "metadata": {
    "collapsed": false,
    "scrolled": true
   },
   "outputs": [
    {
     "name": "stdout",
     "output_type": "stream",
     "text": [
      "Index(['-1', '0', '19,99', '30,06', '36,59', '41,69', '44,99', '46,06',\n",
      "       '47,34', '48,85', '50,02', '51,02', '51,93', '52,8', '53,64', '53,77',\n",
      "       '54,51', '55,42', '56,43', '57,44', '57,61', '59,12', '61,15', '61,49',\n",
      "       '63,82', '65,06', '69,34', '74,31', '80,65'],\n",
      "      dtype='object')\n",
      "-1        4285\n",
      "0         1713\n",
      "19,99     5420\n",
      "30,06    15074\n",
      "36,59    26755\n",
      "41,69    33698\n",
      "44,99     3940\n",
      "46,06    34067\n",
      "47,34    10753\n",
      "48,85    20075\n",
      "50,02    55329\n",
      "51,02    31558\n",
      "51,93    30348\n",
      "52,8     25962\n",
      "53,64    20234\n",
      "53,77    18153\n",
      "54,51    14253\n",
      "55,42     8566\n",
      "56,43     4148\n",
      "57,44    10419\n",
      "57,61     1550\n",
      "59,12      377\n",
      "61,15     4814\n",
      "61,49       63\n",
      "63,82        4\n",
      "65,06     1764\n",
      "69,34      525\n",
      "74,31      104\n",
      "80,65       13\n",
      "Name: PUNT_INTERDISCIPLINAR, dtype: int64\n",
      "Elementos null/NaN 0\n",
      "__________________\n",
      "Elementos diferentes de null/NaN: 383964\n",
      "__________________\n",
      "(383964,)\n",
      "None\n"
     ]
    }
   ],
   "source": [
    "c = 'PUNT_INTERDISCIPLINAR'\n",
    "print(data_2005_2[c].value_counts().sort_index().index)\n",
    "print(data_2005_2[c].value_counts().sort_index())\n",
    "print(missing_data(data_2005_2[c]))"
   ]
  },
  {
   "cell_type": "code",
   "execution_count": 249,
   "metadata": {
    "collapsed": false
   },
   "outputs": [],
   "source": [
    "c = 'PUNT_INTERDISCIPLINAR'\n",
    "for i in data_2005_2[c].value_counts().sort_index().index:\n",
    "    if ',' in i:\n",
    "        data_2005_2[c] = data_2005_2[c].replace(i, i.replace(',', '.'))\n",
    "\n",
    "for i in data_2005_2[c].value_counts().sort_index().index:\n",
    "    if type(i) == str:\n",
    "        data_2005_2[c] = data_2005_2[c].replace(i, float(i))"
   ]
  },
  {
   "cell_type": "code",
   "execution_count": 250,
   "metadata": {
    "collapsed": false,
    "scrolled": true
   },
   "outputs": [
    {
     "name": "stdout",
     "output_type": "stream",
     "text": [
      "Int64Index([  1,   2,   3,   4,   5,   6,   7,   8,   9,  10,\n",
      "            ...\n",
      "            957, 958, 959, 960, 961, 962, 963, 964, 965, 966],\n",
      "           dtype='int64', length=966)\n",
      "1      344\n",
      "2      352\n",
      "3      367\n",
      "4      357\n",
      "5      350\n",
      "6      366\n",
      "7      364\n",
      "8      359\n",
      "9      364\n",
      "10     351\n",
      "11     368\n",
      "12     357\n",
      "13     367\n",
      "14     371\n",
      "15     352\n",
      "16     357\n",
      "17     355\n",
      "18     342\n",
      "19     361\n",
      "20     375\n",
      "21     360\n",
      "22     351\n",
      "23     353\n",
      "24     352\n",
      "25     360\n",
      "26     363\n",
      "27     365\n",
      "28     370\n",
      "29     354\n",
      "30     366\n",
      "      ... \n",
      "937    409\n",
      "938    404\n",
      "939    396\n",
      "940    410\n",
      "941    403\n",
      "942    397\n",
      "943    412\n",
      "944    412\n",
      "945    399\n",
      "946    413\n",
      "947    405\n",
      "948    408\n",
      "949    409\n",
      "950    409\n",
      "951    414\n",
      "952    412\n",
      "953    416\n",
      "954    413\n",
      "955    417\n",
      "956    417\n",
      "957    414\n",
      "958    417\n",
      "959    420\n",
      "960    431\n",
      "961    425\n",
      "962    434\n",
      "963    414\n",
      "964    439\n",
      "965    382\n",
      "966    167\n",
      "Name: ESTU_PUESTO, dtype: int64\n",
      "Elementos null/NaN 0\n",
      "__________________\n",
      "Elementos diferentes de null/NaN: 383964\n",
      "__________________\n",
      "(383964,)\n",
      "None\n"
     ]
    }
   ],
   "source": [
    "c = 'ESTU_PUESTO'\n",
    "print(data_2005_2[c].value_counts().sort_index().index)\n",
    "print(data_2005_2[c].value_counts().sort_index())\n",
    "print(missing_data(data_2005_2[c]))"
   ]
  },
  {
   "cell_type": "markdown",
   "metadata": {},
   "source": [
    "Now i can transform the obtained Dataframes in csv files"
   ]
  },
  {
   "cell_type": "code",
   "execution_count": 252,
   "metadata": {
    "collapsed": true
   },
   "outputs": [],
   "source": [
    "data_2005.to_csv('../DatosFTPICFES/SABER11/SB11-BASES_DE_DATOS/READY/2005_1', sep=';', index=False)\n",
    "data_2005_2.to_csv('../DatosFTPICFES/SABER11/SB11-BASES_DE_DATOS/READY/2005_2', sep=';', index=False)"
   ]
  }
 ],
 "metadata": {
  "kernelspec": {
   "display_name": "Python 3 + Anaconda",
   "language": "python",
   "name": "pyconda3"
  },
  "language_info": {
   "codemirror_mode": {
    "name": "ipython",
    "version": 3
   },
   "file_extension": ".py",
   "mimetype": "text/x-python",
   "name": "python",
   "nbconvert_exporter": "python",
   "pygments_lexer": "ipython3",
   "version": "3.5.1"
  }
 },
 "nbformat": 4,
 "nbformat_minor": 0
}
