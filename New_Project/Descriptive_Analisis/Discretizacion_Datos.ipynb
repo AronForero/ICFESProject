{
 "cells": [
  {
   "cell_type": "markdown",
   "metadata": {},
   "source": [
    "# Procesado de Datos"
   ]
  },
  {
   "cell_type": "markdown",
   "metadata": {},
   "source": [
    "Año 2000"
   ]
  },
  {
   "cell_type": "code",
   "execution_count": 214,
   "metadata": {
    "collapsed": false
   },
   "outputs": [],
   "source": [
    "import pandas as pd\n",
    "import matplotlib.pyplot as plt\n",
    "import numpy as np\n",
    "%matplotlib inline\n",
    "%run -i ../tools/functions.py\n",
    "%run -i ../tools/label_encoder.py"
   ]
  },
  {
   "cell_type": "markdown",
   "metadata": {},
   "source": [
    "Charge the file with the data, into a DataFrame"
   ]
  },
  {
   "cell_type": "code",
   "execution_count": 156,
   "metadata": {
    "collapsed": false
   },
   "outputs": [
    {
     "name": "stderr",
     "output_type": "stream",
     "text": [
      "/usr/local/anaconda3/lib/python3.5/site-packages/IPython/core/interactiveshell.py:2723: DtypeWarning: Columns (5,12,14,15,29,31) have mixed types. Specify dtype option on import or set low_memory=False.\n",
      "  interactivity=interactivity, compiler=compiler, result=result)\n"
     ]
    }
   ],
   "source": [
    "data_2000 = pd.read_csv(\"../DatosFTPICFES/SABER11/SB11-BASES_DE_DATOS/SB11-20001-RGSTRO-CLFCCN-V1-0.txt\", delimiter=\"|\",\n",
    "                        encoding=\"iso-8859-1\")"
   ]
  },
  {
   "cell_type": "code",
   "execution_count": 157,
   "metadata": {
    "collapsed": false,
    "scrolled": false
   },
   "outputs": [
    {
     "data": {
      "text/html": [
       "<div>\n",
       "<table border=\"1\" class=\"dataframe\">\n",
       "  <thead>\n",
       "    <tr style=\"text-align: right;\">\n",
       "      <th></th>\n",
       "      <th>0</th>\n",
       "      <th>1</th>\n",
       "      <th>2</th>\n",
       "    </tr>\n",
       "  </thead>\n",
       "  <tbody>\n",
       "    <tr>\n",
       "      <th>ESTU_CONSECUTIVO</th>\n",
       "      <td>SB11200010000203</td>\n",
       "      <td>SB11200010000204</td>\n",
       "      <td>SB11200010000205</td>\n",
       "    </tr>\n",
       "    <tr>\n",
       "      <th>COLE_COD_ICFES</th>\n",
       "      <td>83048</td>\n",
       "      <td>3327</td>\n",
       "      <td>19364</td>\n",
       "    </tr>\n",
       "    <tr>\n",
       "      <th>COLE_NOMBRE_SEDE</th>\n",
       "      <td>INSTITUTO STUDIUM</td>\n",
       "      <td>COLEGIO HEBREO UNION</td>\n",
       "      <td>COLEGIO ANGLO COLOMBIANO</td>\n",
       "    </tr>\n",
       "    <tr>\n",
       "      <th>IND_ANNO_TERMINO_BACHILLERATO</th>\n",
       "      <td>1999</td>\n",
       "      <td>2000</td>\n",
       "      <td>2000</td>\n",
       "    </tr>\n",
       "    <tr>\n",
       "      <th>COLE_JORNADA</th>\n",
       "      <td>C</td>\n",
       "      <td>C</td>\n",
       "      <td>C</td>\n",
       "    </tr>\n",
       "    <tr>\n",
       "      <th>COLE_VALOR_PENSION</th>\n",
       "      <td>3</td>\n",
       "      <td>8</td>\n",
       "      <td>7</td>\n",
       "    </tr>\n",
       "    <tr>\n",
       "      <th>ESTU_GENERO</th>\n",
       "      <td>F</td>\n",
       "      <td>F</td>\n",
       "      <td>M</td>\n",
       "    </tr>\n",
       "    <tr>\n",
       "      <th>ESTU_NACIMIENTO_DIA</th>\n",
       "      <td>19</td>\n",
       "      <td>28</td>\n",
       "      <td>30</td>\n",
       "    </tr>\n",
       "    <tr>\n",
       "      <th>ESTU_NACIMIENTO_MES</th>\n",
       "      <td>3</td>\n",
       "      <td>4</td>\n",
       "      <td>4</td>\n",
       "    </tr>\n",
       "    <tr>\n",
       "      <th>ESTU_NACIMIENTO_ANNO</th>\n",
       "      <td>1981</td>\n",
       "      <td>1982</td>\n",
       "      <td>1982</td>\n",
       "    </tr>\n",
       "    <tr>\n",
       "      <th>ESTU_DEPTO_PRESENTACION</th>\n",
       "      <td>BOGOTA</td>\n",
       "      <td>ATLANTICO</td>\n",
       "      <td>BOGOTA</td>\n",
       "    </tr>\n",
       "    <tr>\n",
       "      <th>ESTU_MCPIO_PRESENTACION</th>\n",
       "      <td>BOGOTA D.C.</td>\n",
       "      <td>BARRANQUILLA</td>\n",
       "      <td>BOGOTA D.C.</td>\n",
       "    </tr>\n",
       "    <tr>\n",
       "      <th>ESTU_LIMITA_INVIDENTE</th>\n",
       "      <td>NaN</td>\n",
       "      <td>NaN</td>\n",
       "      <td>NaN</td>\n",
       "    </tr>\n",
       "    <tr>\n",
       "      <th>ESTU_LIMITA_SORDOINTERPRETE</th>\n",
       "      <td>NaN</td>\n",
       "      <td>NaN</td>\n",
       "      <td>NaN</td>\n",
       "    </tr>\n",
       "    <tr>\n",
       "      <th>ESTU_LIMITA_SORDONOINTERPRETE</th>\n",
       "      <td>NaN</td>\n",
       "      <td>NaN</td>\n",
       "      <td>NaN</td>\n",
       "    </tr>\n",
       "    <tr>\n",
       "      <th>ESTU_LIMITA_MOTRIZ</th>\n",
       "      <td>NaN</td>\n",
       "      <td>NaN</td>\n",
       "      <td>NaN</td>\n",
       "    </tr>\n",
       "    <tr>\n",
       "      <th>PUNT_BIOLOGIA</th>\n",
       "      <td>52</td>\n",
       "      <td>51</td>\n",
       "      <td>59</td>\n",
       "    </tr>\n",
       "    <tr>\n",
       "      <th>PUNT_MATEMATICAS</th>\n",
       "      <td>47</td>\n",
       "      <td>52</td>\n",
       "      <td>58</td>\n",
       "    </tr>\n",
       "    <tr>\n",
       "      <th>PUNT_FILOSOFIA</th>\n",
       "      <td>55</td>\n",
       "      <td>59</td>\n",
       "      <td>44</td>\n",
       "    </tr>\n",
       "    <tr>\n",
       "      <th>PUNT_FISICA</th>\n",
       "      <td>49</td>\n",
       "      <td>43</td>\n",
       "      <td>60</td>\n",
       "    </tr>\n",
       "    <tr>\n",
       "      <th>PUNT_HISTORIA</th>\n",
       "      <td>63</td>\n",
       "      <td>52</td>\n",
       "      <td>50</td>\n",
       "    </tr>\n",
       "    <tr>\n",
       "      <th>PUNT_QUIMICA</th>\n",
       "      <td>49</td>\n",
       "      <td>54</td>\n",
       "      <td>68</td>\n",
       "    </tr>\n",
       "    <tr>\n",
       "      <th>PUNT_LENGUAJE</th>\n",
       "      <td>56</td>\n",
       "      <td>53</td>\n",
       "      <td>50</td>\n",
       "    </tr>\n",
       "    <tr>\n",
       "      <th>PUNT_GEOGRAFIA</th>\n",
       "      <td>56</td>\n",
       "      <td>57</td>\n",
       "      <td>43</td>\n",
       "    </tr>\n",
       "    <tr>\n",
       "      <th>COD_INTERDISCIPLINAR</th>\n",
       "      <td>43</td>\n",
       "      <td>45</td>\n",
       "      <td>43</td>\n",
       "    </tr>\n",
       "    <tr>\n",
       "      <th>PUNT_INTERDISCIPLINAR</th>\n",
       "      <td>55</td>\n",
       "      <td>47</td>\n",
       "      <td>53</td>\n",
       "    </tr>\n",
       "    <tr>\n",
       "      <th>COD_IDIOMA</th>\n",
       "      <td>51</td>\n",
       "      <td>51</td>\n",
       "      <td>51</td>\n",
       "    </tr>\n",
       "    <tr>\n",
       "      <th>PUNT_IDIOMA</th>\n",
       "      <td>45</td>\n",
       "      <td>58</td>\n",
       "      <td>75</td>\n",
       "    </tr>\n",
       "    <tr>\n",
       "      <th>ESTU_IES_COD_DESEADA</th>\n",
       "      <td>NaN</td>\n",
       "      <td>9999</td>\n",
       "      <td>9999</td>\n",
       "    </tr>\n",
       "    <tr>\n",
       "      <th>ESTU_RAZONINSTITUTO</th>\n",
       "      <td>8</td>\n",
       "      <td>NaN</td>\n",
       "      <td>2</td>\n",
       "    </tr>\n",
       "    <tr>\n",
       "      <th>ESTU_CARRDESEADA_COD</th>\n",
       "      <td>1707</td>\n",
       "      <td>4701</td>\n",
       "      <td>99999</td>\n",
       "    </tr>\n",
       "    <tr>\n",
       "      <th>ESTU_CARRDESEADA_RAZON</th>\n",
       "      <td>2</td>\n",
       "      <td>3</td>\n",
       "      <td>2</td>\n",
       "    </tr>\n",
       "    <tr>\n",
       "      <th>FAMI_PERSONAS_HOGAR</th>\n",
       "      <td>2</td>\n",
       "      <td>@</td>\n",
       "      <td>5</td>\n",
       "    </tr>\n",
       "    <tr>\n",
       "      <th>FAMI_VIVIENDA_PROPIA</th>\n",
       "      <td>S</td>\n",
       "      <td>N</td>\n",
       "      <td>S</td>\n",
       "    </tr>\n",
       "    <tr>\n",
       "      <th>FAMI_DEUDA_VIVIENDA</th>\n",
       "      <td>N</td>\n",
       "      <td>NaN</td>\n",
       "      <td>S</td>\n",
       "    </tr>\n",
       "    <tr>\n",
       "      <th>FAMI_APORTANTES</th>\n",
       "      <td>1</td>\n",
       "      <td>2</td>\n",
       "      <td>2</td>\n",
       "    </tr>\n",
       "    <tr>\n",
       "      <th>FAMI_INGRESO_FMILIAR_MENSUAL</th>\n",
       "      <td>4</td>\n",
       "      <td>4</td>\n",
       "      <td>9</td>\n",
       "    </tr>\n",
       "    <tr>\n",
       "      <th>FAMI_LEE_ESCRIBE_PADRE</th>\n",
       "      <td>S</td>\n",
       "      <td>S</td>\n",
       "      <td>S</td>\n",
       "    </tr>\n",
       "    <tr>\n",
       "      <th>FAMI_LEE_ESCRIBE_MADRE</th>\n",
       "      <td>S</td>\n",
       "      <td>S</td>\n",
       "      <td>S</td>\n",
       "    </tr>\n",
       "    <tr>\n",
       "      <th>FAMI_EDUCA_PADRE</th>\n",
       "      <td>4</td>\n",
       "      <td>7</td>\n",
       "      <td>8</td>\n",
       "    </tr>\n",
       "    <tr>\n",
       "      <th>FAMI_EDUCA_MADRE</th>\n",
       "      <td>8</td>\n",
       "      <td>4</td>\n",
       "      <td>7</td>\n",
       "    </tr>\n",
       "    <tr>\n",
       "      <th>FAMI_OCUPA_PADRE</th>\n",
       "      <td>05</td>\n",
       "      <td>03</td>\n",
       "      <td>04</td>\n",
       "    </tr>\n",
       "    <tr>\n",
       "      <th>FAMI_OCUPA_MADRE</th>\n",
       "      <td>NaN</td>\n",
       "      <td>10</td>\n",
       "      <td>04</td>\n",
       "    </tr>\n",
       "    <tr>\n",
       "      <th>FAMI_NUM_HERMANOS</th>\n",
       "      <td>NaN</td>\n",
       "      <td>2</td>\n",
       "      <td>1</td>\n",
       "    </tr>\n",
       "    <tr>\n",
       "      <th>FAMI_NUM_HERMANOS_EDUSUPERIOR</th>\n",
       "      <td>2</td>\n",
       "      <td>2</td>\n",
       "      <td>1</td>\n",
       "    </tr>\n",
       "    <tr>\n",
       "      <th>FAMI_POSICION_HERMANOS</th>\n",
       "      <td>3</td>\n",
       "      <td>3</td>\n",
       "      <td>2</td>\n",
       "    </tr>\n",
       "    <tr>\n",
       "      <th>FAMI_SOST_PERSONAL</th>\n",
       "      <td>T</td>\n",
       "      <td>T</td>\n",
       "      <td>T</td>\n",
       "    </tr>\n",
       "    <tr>\n",
       "      <th>ESTU_TRABAJA</th>\n",
       "      <td>N</td>\n",
       "      <td>N</td>\n",
       "      <td>N</td>\n",
       "    </tr>\n",
       "    <tr>\n",
       "      <th>ESTU_ACT_PROX_ANNO</th>\n",
       "      <td>1</td>\n",
       "      <td>1</td>\n",
       "      <td>2</td>\n",
       "    </tr>\n",
       "    <tr>\n",
       "      <th>COLE_CALENDARIO</th>\n",
       "      <td>F</td>\n",
       "      <td>B</td>\n",
       "      <td>B</td>\n",
       "    </tr>\n",
       "    <tr>\n",
       "      <th>COLE_BILINGUE</th>\n",
       "      <td>NaN</td>\n",
       "      <td>NaN</td>\n",
       "      <td>1</td>\n",
       "    </tr>\n",
       "    <tr>\n",
       "      <th>COLE_CARACTER</th>\n",
       "      <td>ACADEMICO</td>\n",
       "      <td>ACADEMICO</td>\n",
       "      <td>ACADEMICO</td>\n",
       "    </tr>\n",
       "    <tr>\n",
       "      <th>COLE_DEPTO_UBICACION</th>\n",
       "      <td>BOGOTA</td>\n",
       "      <td>ATLANTICO</td>\n",
       "      <td>BOGOTA</td>\n",
       "    </tr>\n",
       "    <tr>\n",
       "      <th>COLE_MCPIO_UBICACION</th>\n",
       "      <td>BOGOTç D.C.</td>\n",
       "      <td>BARRANQUILLA</td>\n",
       "      <td>BOGOTç D.C.</td>\n",
       "    </tr>\n",
       "    <tr>\n",
       "      <th>ESTU_TIPO_DOCUMENTO</th>\n",
       "      <td>C</td>\n",
       "      <td>N</td>\n",
       "      <td>T</td>\n",
       "    </tr>\n",
       "    <tr>\n",
       "      <th>ESTU_RESIDE_DEPTO</th>\n",
       "      <td>BOGOTA</td>\n",
       "      <td>ATLANTICO</td>\n",
       "      <td>BOGOTA</td>\n",
       "    </tr>\n",
       "    <tr>\n",
       "      <th>ESTU_RESIDE_MCPIO</th>\n",
       "      <td>BOGOTA D.C.</td>\n",
       "      <td>BARRANQUILLA</td>\n",
       "      <td>BOGOTA D.C.</td>\n",
       "    </tr>\n",
       "  </tbody>\n",
       "</table>\n",
       "</div>"
      ],
      "text/plain": [
       "                                               0                     1  \\\n",
       "ESTU_CONSECUTIVO                SB11200010000203      SB11200010000204   \n",
       "COLE_COD_ICFES                             83048                  3327   \n",
       "COLE_NOMBRE_SEDE               INSTITUTO STUDIUM  COLEGIO HEBREO UNION   \n",
       "IND_ANNO_TERMINO_BACHILLERATO               1999                  2000   \n",
       "COLE_JORNADA                                   C                     C   \n",
       "COLE_VALOR_PENSION                             3                     8   \n",
       "ESTU_GENERO                                    F                     F   \n",
       "ESTU_NACIMIENTO_DIA                           19                    28   \n",
       "ESTU_NACIMIENTO_MES                            3                     4   \n",
       "ESTU_NACIMIENTO_ANNO                        1981                  1982   \n",
       "ESTU_DEPTO_PRESENTACION                   BOGOTA             ATLANTICO   \n",
       "ESTU_MCPIO_PRESENTACION              BOGOTA D.C.          BARRANQUILLA   \n",
       "ESTU_LIMITA_INVIDENTE                        NaN                   NaN   \n",
       "ESTU_LIMITA_SORDOINTERPRETE                  NaN                   NaN   \n",
       "ESTU_LIMITA_SORDONOINTERPRETE                NaN                   NaN   \n",
       "ESTU_LIMITA_MOTRIZ                           NaN                   NaN   \n",
       "PUNT_BIOLOGIA                                 52                    51   \n",
       "PUNT_MATEMATICAS                              47                    52   \n",
       "PUNT_FILOSOFIA                                55                    59   \n",
       "PUNT_FISICA                                   49                    43   \n",
       "PUNT_HISTORIA                                 63                    52   \n",
       "PUNT_QUIMICA                                  49                    54   \n",
       "PUNT_LENGUAJE                                 56                    53   \n",
       "PUNT_GEOGRAFIA                                56                    57   \n",
       "COD_INTERDISCIPLINAR                          43                    45   \n",
       "PUNT_INTERDISCIPLINAR                         55                    47   \n",
       "COD_IDIOMA                                    51                    51   \n",
       "PUNT_IDIOMA                                   45                    58   \n",
       "ESTU_IES_COD_DESEADA                         NaN                  9999   \n",
       "ESTU_RAZONINSTITUTO                            8                   NaN   \n",
       "ESTU_CARRDESEADA_COD                        1707                  4701   \n",
       "ESTU_CARRDESEADA_RAZON                         2                     3   \n",
       "FAMI_PERSONAS_HOGAR                            2                     @   \n",
       "FAMI_VIVIENDA_PROPIA                           S                     N   \n",
       "FAMI_DEUDA_VIVIENDA                            N                   NaN   \n",
       "FAMI_APORTANTES                                1                     2   \n",
       "FAMI_INGRESO_FMILIAR_MENSUAL                   4                     4   \n",
       "FAMI_LEE_ESCRIBE_PADRE                         S                     S   \n",
       "FAMI_LEE_ESCRIBE_MADRE                         S                     S   \n",
       "FAMI_EDUCA_PADRE                               4                     7   \n",
       "FAMI_EDUCA_MADRE                               8                     4   \n",
       "FAMI_OCUPA_PADRE                              05                    03   \n",
       "FAMI_OCUPA_MADRE                             NaN                    10   \n",
       "FAMI_NUM_HERMANOS                            NaN                     2   \n",
       "FAMI_NUM_HERMANOS_EDUSUPERIOR                  2                     2   \n",
       "FAMI_POSICION_HERMANOS                         3                     3   \n",
       "FAMI_SOST_PERSONAL                             T                     T   \n",
       "ESTU_TRABAJA                                   N                     N   \n",
       "ESTU_ACT_PROX_ANNO                             1                     1   \n",
       "COLE_CALENDARIO                                F                     B   \n",
       "COLE_BILINGUE                                NaN                   NaN   \n",
       "COLE_CARACTER                          ACADEMICO             ACADEMICO   \n",
       "COLE_DEPTO_UBICACION                      BOGOTA             ATLANTICO   \n",
       "COLE_MCPIO_UBICACION                 BOGOTç D.C.          BARRANQUILLA   \n",
       "ESTU_TIPO_DOCUMENTO                            C                     N   \n",
       "ESTU_RESIDE_DEPTO                         BOGOTA             ATLANTICO   \n",
       "ESTU_RESIDE_MCPIO                    BOGOTA D.C.          BARRANQUILLA   \n",
       "\n",
       "                                                      2  \n",
       "ESTU_CONSECUTIVO                       SB11200010000205  \n",
       "COLE_COD_ICFES                                    19364  \n",
       "COLE_NOMBRE_SEDE               COLEGIO ANGLO COLOMBIANO  \n",
       "IND_ANNO_TERMINO_BACHILLERATO                      2000  \n",
       "COLE_JORNADA                                          C  \n",
       "COLE_VALOR_PENSION                                    7  \n",
       "ESTU_GENERO                                           M  \n",
       "ESTU_NACIMIENTO_DIA                                  30  \n",
       "ESTU_NACIMIENTO_MES                                   4  \n",
       "ESTU_NACIMIENTO_ANNO                               1982  \n",
       "ESTU_DEPTO_PRESENTACION                          BOGOTA  \n",
       "ESTU_MCPIO_PRESENTACION                     BOGOTA D.C.  \n",
       "ESTU_LIMITA_INVIDENTE                               NaN  \n",
       "ESTU_LIMITA_SORDOINTERPRETE                         NaN  \n",
       "ESTU_LIMITA_SORDONOINTERPRETE                       NaN  \n",
       "ESTU_LIMITA_MOTRIZ                                  NaN  \n",
       "PUNT_BIOLOGIA                                        59  \n",
       "PUNT_MATEMATICAS                                     58  \n",
       "PUNT_FILOSOFIA                                       44  \n",
       "PUNT_FISICA                                          60  \n",
       "PUNT_HISTORIA                                        50  \n",
       "PUNT_QUIMICA                                         68  \n",
       "PUNT_LENGUAJE                                        50  \n",
       "PUNT_GEOGRAFIA                                       43  \n",
       "COD_INTERDISCIPLINAR                                 43  \n",
       "PUNT_INTERDISCIPLINAR                                53  \n",
       "COD_IDIOMA                                           51  \n",
       "PUNT_IDIOMA                                          75  \n",
       "ESTU_IES_COD_DESEADA                               9999  \n",
       "ESTU_RAZONINSTITUTO                                   2  \n",
       "ESTU_CARRDESEADA_COD                              99999  \n",
       "ESTU_CARRDESEADA_RAZON                                2  \n",
       "FAMI_PERSONAS_HOGAR                                   5  \n",
       "FAMI_VIVIENDA_PROPIA                                  S  \n",
       "FAMI_DEUDA_VIVIENDA                                   S  \n",
       "FAMI_APORTANTES                                       2  \n",
       "FAMI_INGRESO_FMILIAR_MENSUAL                          9  \n",
       "FAMI_LEE_ESCRIBE_PADRE                                S  \n",
       "FAMI_LEE_ESCRIBE_MADRE                                S  \n",
       "FAMI_EDUCA_PADRE                                      8  \n",
       "FAMI_EDUCA_MADRE                                      7  \n",
       "FAMI_OCUPA_PADRE                                     04  \n",
       "FAMI_OCUPA_MADRE                                     04  \n",
       "FAMI_NUM_HERMANOS                                     1  \n",
       "FAMI_NUM_HERMANOS_EDUSUPERIOR                         1  \n",
       "FAMI_POSICION_HERMANOS                                2  \n",
       "FAMI_SOST_PERSONAL                                    T  \n",
       "ESTU_TRABAJA                                          N  \n",
       "ESTU_ACT_PROX_ANNO                                    2  \n",
       "COLE_CALENDARIO                                       B  \n",
       "COLE_BILINGUE                                         1  \n",
       "COLE_CARACTER                                 ACADEMICO  \n",
       "COLE_DEPTO_UBICACION                             BOGOTA  \n",
       "COLE_MCPIO_UBICACION                        BOGOTç D.C.  \n",
       "ESTU_TIPO_DOCUMENTO                                   T  \n",
       "ESTU_RESIDE_DEPTO                                BOGOTA  \n",
       "ESTU_RESIDE_MCPIO                           BOGOTA D.C.  "
      ]
     },
     "execution_count": 157,
     "metadata": {},
     "output_type": "execute_result"
    }
   ],
   "source": [
    "data_2000.head(3).T"
   ]
  },
  {
   "cell_type": "code",
   "execution_count": 158,
   "metadata": {
    "collapsed": false,
    "scrolled": true
   },
   "outputs": [
    {
     "data": {
      "text/plain": [
       "1      274\n",
       "2     2744\n",
       "3     8917\n",
       "5    18814\n",
       "6    11487\n",
       "7     6493\n",
       "8     3781\n",
       "9     2208\n",
       "@    19122\n",
       "Name: FAMI_PERSONAS_HOGAR, dtype: int64"
      ]
     },
     "execution_count": 158,
     "metadata": {},
     "output_type": "execute_result"
    }
   ],
   "source": [
    "data_2000['FAMI_PERSONAS_HOGAR'].value_counts().sort_index()"
   ]
  },
  {
   "cell_type": "markdown",
   "metadata": {},
   "source": [
    "The simbol \"@\" will be changed for the number 4, because the average in Colombian's homes is near to 4."
   ]
  },
  {
   "cell_type": "code",
   "execution_count": 159,
   "metadata": {
    "collapsed": true
   },
   "outputs": [],
   "source": [
    "data_2000 = letters_to_num(data_2000, [\"@\"], [\"4\"], \"FAMI_PERSONAS_HOGAR\")"
   ]
  },
  {
   "cell_type": "markdown",
   "metadata": {},
   "source": [
    "Then, the following columns will be reviewed"
   ]
  },
  {
   "cell_type": "code",
   "execution_count": 160,
   "metadata": {
    "collapsed": false,
    "scrolled": true
   },
   "outputs": [
    {
     "data": {
      "text/plain": [
       "@        4\n",
       "N    20144\n",
       "S    53182\n",
       "Name: FAMI_VIVIENDA_PROPIA, dtype: int64"
      ]
     },
     "execution_count": 160,
     "metadata": {},
     "output_type": "execute_result"
    }
   ],
   "source": [
    "data_2000['FAMI_VIVIENDA_PROPIA'].value_counts().sort_index()"
   ]
  },
  {
   "cell_type": "markdown",
   "metadata": {},
   "source": [
    "There are very few rows with the value \"@\", so the rows that has it will be deleted. "
   ]
  },
  {
   "cell_type": "code",
   "execution_count": 161,
   "metadata": {
    "collapsed": false
   },
   "outputs": [],
   "source": [
    "data_2000 = drop_lines(data_2000, \"FAMI_VIVIENDA_PROPIA\", \"@\")"
   ]
  },
  {
   "cell_type": "code",
   "execution_count": 162,
   "metadata": {
    "collapsed": false
   },
   "outputs": [
    {
     "data": {
      "text/plain": [
       "@        3\n",
       "N    36147\n",
       "S    11464\n",
       "Name: FAMI_DEUDA_VIVIENDA, dtype: int64"
      ]
     },
     "execution_count": 162,
     "metadata": {},
     "output_type": "execute_result"
    }
   ],
   "source": [
    "data_2000['FAMI_DEUDA_VIVIENDA'].value_counts().sort_index()"
   ]
  },
  {
   "cell_type": "code",
   "execution_count": 163,
   "metadata": {
    "collapsed": true
   },
   "outputs": [],
   "source": [
    "data_2000 = drop_lines(data_2000, \"FAMI_DEUDA_VIVIENDA\", \"@\")"
   ]
  },
  {
   "cell_type": "code",
   "execution_count": 164,
   "metadata": {
    "collapsed": false
   },
   "outputs": [
    {
     "data": {
      "text/plain": [
       "@       35\n",
       "N     2263\n",
       "S    67423\n",
       "Name: FAMI_LEE_ESCRIBE_PADRE, dtype: int64"
      ]
     },
     "execution_count": 164,
     "metadata": {},
     "output_type": "execute_result"
    }
   ],
   "source": [
    "data_2000['FAMI_LEE_ESCRIBE_PADRE'].value_counts().sort_index()"
   ]
  },
  {
   "cell_type": "code",
   "execution_count": 165,
   "metadata": {
    "collapsed": true
   },
   "outputs": [],
   "source": [
    "data_2000 = drop_lines(data_2000, \"FAMI_LEE_ESCRIBE_PADRE\", \"@\")"
   ]
  },
  {
   "cell_type": "code",
   "execution_count": 166,
   "metadata": {
    "collapsed": false
   },
   "outputs": [
    {
     "data": {
      "text/plain": [
       "@       30\n",
       "N     2847\n",
       "S    71998\n",
       "Name: FAMI_LEE_ESCRIBE_MADRE, dtype: int64"
      ]
     },
     "execution_count": 166,
     "metadata": {},
     "output_type": "execute_result"
    }
   ],
   "source": [
    "data_2000['FAMI_LEE_ESCRIBE_MADRE'].value_counts().sort_index()"
   ]
  },
  {
   "cell_type": "code",
   "execution_count": 167,
   "metadata": {
    "collapsed": true
   },
   "outputs": [],
   "source": [
    "data_2000 = drop_lines(data_2000, \"FAMI_LEE_ESCRIBE_MADRE\", \"@\")"
   ]
  },
  {
   "cell_type": "code",
   "execution_count": 168,
   "metadata": {
    "collapsed": false
   },
   "outputs": [
    {
     "data": {
      "text/plain": [
       "@        3\n",
       "N     6577\n",
       "P    10337\n",
       "T    57575\n",
       "Name: FAMI_SOST_PERSONAL, dtype: int64"
      ]
     },
     "execution_count": 168,
     "metadata": {},
     "output_type": "execute_result"
    }
   ],
   "source": [
    "data_2000['FAMI_SOST_PERSONAL'].value_counts().sort_index()"
   ]
  },
  {
   "cell_type": "code",
   "execution_count": 169,
   "metadata": {
    "collapsed": true
   },
   "outputs": [],
   "source": [
    "data_2000 = drop_lines(data_2000, \"FAMI_SOST_PERSONAL\", \"@\")"
   ]
  },
  {
   "cell_type": "code",
   "execution_count": 170,
   "metadata": {
    "collapsed": false
   },
   "outputs": [
    {
     "data": {
      "text/plain": [
       "@        2\n",
       "N    63153\n",
       "S    10608\n",
       "Name: ESTU_TRABAJA, dtype: int64"
      ]
     },
     "execution_count": 170,
     "metadata": {},
     "output_type": "execute_result"
    }
   ],
   "source": [
    "data_2000['ESTU_TRABAJA'].value_counts().sort_index()"
   ]
  },
  {
   "cell_type": "code",
   "execution_count": 171,
   "metadata": {
    "collapsed": true
   },
   "outputs": [],
   "source": [
    "data_2000 = drop_lines(data_2000, \"ESTU_TRABAJA\", \"@\")"
   ]
  },
  {
   "cell_type": "code",
   "execution_count": 172,
   "metadata": {
    "collapsed": false
   },
   "outputs": [
    {
     "data": {
      "text/plain": [
       "A     6697\n",
       "B    49422\n",
       "F    21430\n",
       "Name: COLE_CALENDARIO, dtype: int64"
      ]
     },
     "execution_count": 172,
     "metadata": {},
     "output_type": "execute_result"
    }
   ],
   "source": [
    "data_2000['COLE_CALENDARIO'].value_counts().sort_index()"
   ]
  },
  {
   "cell_type": "code",
   "execution_count": 173,
   "metadata": {
    "collapsed": false
   },
   "outputs": [
    {
     "data": {
      "text/plain": [
       "ACADEMICO              38189\n",
       "ACADEMICO Y TECNICO    17827\n",
       "NORMALISTA              1168\n",
       "TECNICO                20365\n",
       "Name: COLE_CARACTER, dtype: int64"
      ]
     },
     "execution_count": 173,
     "metadata": {},
     "output_type": "execute_result"
    }
   ],
   "source": [
    "data_2000['COLE_CARACTER'].value_counts().sort_index()"
   ]
  },
  {
   "cell_type": "code",
   "execution_count": 174,
   "metadata": {
    "collapsed": false
   },
   "outputs": [],
   "source": [
    "remaining_c = data_2000.columns.difference(['FAMI_PERSONAS_HOGAR', 'FAMI_VIVIENDA_PROPIA', 'FAMI_DEUDA_VIVIENDA', 'FAMI_LEE_ESCRIBE_PADRE',\n",
    "                     'FAMI_LEE_ESCRIBE_MADRE', 'FAMI_SOST_PERSONAL', 'ESTU_TRABAJA', 'COLE_CALENDARIO',\n",
    "                     'COLE_CARACTER'])"
   ]
  },
  {
   "cell_type": "code",
   "execution_count": 175,
   "metadata": {
    "collapsed": false
   },
   "outputs": [
    {
     "data": {
      "text/plain": [
       "Index(['COD_IDIOMA', 'COD_INTERDISCIPLINAR', 'COLE_BILINGUE', 'COLE_COD_ICFES',\n",
       "       'COLE_DEPTO_UBICACION', 'COLE_JORNADA', 'COLE_MCPIO_UBICACION',\n",
       "       'COLE_NOMBRE_SEDE', 'COLE_VALOR_PENSION', 'ESTU_ACT_PROX_ANNO',\n",
       "       'ESTU_CARRDESEADA_COD', 'ESTU_CARRDESEADA_RAZON', 'ESTU_CONSECUTIVO',\n",
       "       'ESTU_DEPTO_PRESENTACION', 'ESTU_GENERO', 'ESTU_IES_COD_DESEADA',\n",
       "       'ESTU_LIMITA_INVIDENTE', 'ESTU_LIMITA_MOTRIZ',\n",
       "       'ESTU_LIMITA_SORDOINTERPRETE', 'ESTU_LIMITA_SORDONOINTERPRETE',\n",
       "       'ESTU_MCPIO_PRESENTACION', 'ESTU_NACIMIENTO_ANNO',\n",
       "       'ESTU_NACIMIENTO_DIA', 'ESTU_NACIMIENTO_MES', 'ESTU_RAZONINSTITUTO',\n",
       "       'ESTU_RESIDE_DEPTO', 'ESTU_RESIDE_MCPIO', 'ESTU_TIPO_DOCUMENTO',\n",
       "       'FAMI_APORTANTES', 'FAMI_EDUCA_MADRE', 'FAMI_EDUCA_PADRE',\n",
       "       'FAMI_INGRESO_FMILIAR_MENSUAL', 'FAMI_NUM_HERMANOS',\n",
       "       'FAMI_NUM_HERMANOS_EDUSUPERIOR', 'FAMI_OCUPA_MADRE', 'FAMI_OCUPA_PADRE',\n",
       "       'FAMI_POSICION_HERMANOS', 'IND_ANNO_TERMINO_BACHILLERATO',\n",
       "       'PUNT_BIOLOGIA', 'PUNT_FILOSOFIA', 'PUNT_FISICA', 'PUNT_GEOGRAFIA',\n",
       "       'PUNT_HISTORIA', 'PUNT_IDIOMA', 'PUNT_INTERDISCIPLINAR',\n",
       "       'PUNT_LENGUAJE', 'PUNT_MATEMATICAS', 'PUNT_QUIMICA'],\n",
       "      dtype='object')"
      ]
     },
     "execution_count": 175,
     "metadata": {},
     "output_type": "execute_result"
    }
   ],
   "source": [
    "remaining_c"
   ]
  },
  {
   "cell_type": "markdown",
   "metadata": {},
   "source": [
    "Columnas:\n",
    "- COD_IDIOMA: BIEN, int64\n",
    "- COD_INTERDISCIPLINAR: Bien, int64\n",
    "- COLE_BILINGUE: Bien, float64\n",
    "- COLE_COD_ICFES: Bien, int64\n",
    "- COLE_DEPTO_UBICACION: Bien, **OBJECT**\n",
    "- COLE_JORNADA: Bien, **OBJECT**\n",
    "- COLE_MCPIO_UBICACION: Bien, **OBJECT**\n",
    "- COLE_NOMBRE_SEDE: Bien, **OBJECT**\n",
    "- COLE_VALOR_PENSION: existen VALORES NaN, str **REVISAR**\n",
    "- ESTU_ACT_PROX_ANNO: existen @ que se cambiaron por el valor 4 que falta, **OBJECT**\n",
    "- ESTU_CARRDESEADA_RAZON: existen valores NaN, str **REVISAR**\n",
    "- ESTU_DEPTO_PRESENTACION: Bien, **OBJECT**\n",
    "- ESTU_GENERO: Bien, **OBJECT**\n",
    "- ESTU_LIMITA_INVIDENTE: Bien, **OBJECT**, Muchos valores NaN\n",
    "- ESTU_LIMITA_MOTRIZ: Bien, **OBJECT**, Muchos valores NaN\n",
    "- ESTU_LIMITA_SORDONOINTERPRETE: Bien, **OBJECT**, Muchos valores NaN\n",
    "- ESTU_MCPIO_PRESENTACION: Bien, **OBJECT**\n",
    "- ESTU_NACIMIENTO_ANNO: Bien, Float64, Se eliminaron algunas filas porque no tenian logica (años 195, 196, 197, 198)\n",
    "- ESTU_NACIMIENTO_DIA: Bien, Float64\n",
    "- ESTU_NACIMIENTO_MES: Bien, Float64\n",
    "- ESTU_RAZONINSTITUTO: Valores 'nan', ***REVISAR***\n",
    "- ESTU_RESIDE_DEPTO: Bien, **OBJECT**\n",
    "- ESTU_RESIDE_MCPIO: Bien, **OBJECT**\n",
    "- ESTU_TIPO_DOCUMENTO: Bien, **OBJECT**\n",
    "- FAMI_APORTANTES: Bien, **OBJECT**, se eliminan las filas que poseen '@' y se cambia el '+' por '+9'\n",
    "- FAMI_EDUCA_MADRE: Bien, **OBJECT**, se eliminan las filas que poseen '@'\n",
    "- FAMI_EDUCA_PADRE: Bien, **OBJECT**, se eliminan las filas que poseen '@'\n",
    "- FAMI_INGRESO_FMILIAR_MENSUAL: Bien, **OBJECT**, se eliminan las filas que poseen '@'\n",
    "- FAMI_NUM_HERMANOS: Bien, **OBJECT**, se eliminan las filas que poseen '@' y se cambia el '+' por '+10'\n",
    "- FAMI_NUM_HERMANOS_EDUSUPERIOR: Bien, **OBJECT**, se eliminan las filas que poseen '@' y se cambia el + por '+10'\n",
    "- FAMI_OCUPA_MADRE: Bien, **OBJECT** se eliminan las filas que poseen '@'\n",
    "- FAMI_OCUPA_PADRE: Bien, **OBJECT** se eliminan las filas que poseen '@'\n",
    "- FAMI_POSICION_HERMANOS: Bien **OBJECT**, se eliminan las filas que poseen '@' y se cambia el '+' por '+10'\n",
    "- PUNT_BIOLOGIA: Bien, **OBJECT**\n",
    "- PUNT_FILOSOFIA: Bien, **OBJECT**\n",
    "- PUNT_FISICA: Bien, **OBJECT**\n",
    "- PUNT_GEOGRAFIA: Bien, **OBJECT**\n",
    "- PUNT_HISTORIA: Bien, **OBJECT**\n",
    "- PUNT_IDIOMA: Bien, **OBJECT**\n",
    "- PUNT_INTERDISCIPLINAR: Bien, **OBJECT**\n",
    "- PUNT_LENGUAJE: Bien, **OBJECT**\n",
    "- PUNT_MATEMATICAS: Bien, **OBJECT**\n",
    "- PUNT_QUIMICA: Bien, **OBJECT**\n",
    "___________________\n",
    "\n",
    "ELIMINACIONES\n",
    "\n",
    "- ESTU_CONSECUTIVO: Eliminada. no aporta para la prediccion ***ELIMINADA***\n",
    "- ESTU_CARRDESEADA_COD: Datos con errores y demasiadas inconsistencias, ***ELIMINADA***\n",
    "- ESTU_IES_COD_DESEADA: Datos con errores y demasiadas inconsistencias, ***ELIMINADA***\n",
    "- ESTU_LIMITA_SORDOINTERPRETE: No tiene valores en ninguna fila, ***ELIMINADA***\n",
    "- IND_ANNO_TERMINO_BACHILLERATO: Datos con errores y demasiadas inconsistencias. ***ELIMINADA***"
   ]
  },
  {
   "cell_type": "markdown",
   "metadata": {},
   "source": [
    "Cambio de la @ por 4 en la columna *ESTU_ACT_PROX_ANNO*"
   ]
  },
  {
   "cell_type": "code",
   "execution_count": 176,
   "metadata": {
    "collapsed": false
   },
   "outputs": [
    {
     "data": {
      "text/plain": [
       "1    19311\n",
       "2     1913\n",
       "3    55853\n",
       "@       44\n",
       "Name: ESTU_ACT_PROX_ANNO, dtype: int64"
      ]
     },
     "execution_count": 176,
     "metadata": {},
     "output_type": "execute_result"
    }
   ],
   "source": [
    "data_2000['ESTU_ACT_PROX_ANNO'].value_counts().sort_index()"
   ]
  },
  {
   "cell_type": "code",
   "execution_count": 177,
   "metadata": {
    "collapsed": false
   },
   "outputs": [],
   "source": [
    "data_2000['ESTU_ACT_PROX_ANNO'] = data_2000['ESTU_ACT_PROX_ANNO'].replace('@', '4')"
   ]
  },
  {
   "cell_type": "markdown",
   "metadata": {},
   "source": [
    "Se eliminan las lineas que tienen años invalidos"
   ]
  },
  {
   "cell_type": "code",
   "execution_count": 178,
   "metadata": {
    "collapsed": false
   },
   "outputs": [],
   "source": [
    "data_2000 = drop_lines(data_2000, 'ESTU_NACIMIENTO_ANNO', 195.0)\n",
    "data_2000 = drop_lines(data_2000, 'ESTU_NACIMIENTO_ANNO', 196.0)\n",
    "data_2000 = drop_lines(data_2000, 'ESTU_NACIMIENTO_ANNO', 197.0)\n",
    "data_2000 = drop_lines(data_2000, 'ESTU_NACIMIENTO_ANNO', 198.0)"
   ]
  },
  {
   "cell_type": "markdown",
   "metadata": {},
   "source": [
    "Se hacen los cambios segun la columna FAMI_APORTANTES"
   ]
  },
  {
   "cell_type": "code",
   "execution_count": 179,
   "metadata": {
    "collapsed": true
   },
   "outputs": [],
   "source": [
    "data_2000 = drop_lines(data_2000, 'FAMI_APORTANTES', '@')"
   ]
  },
  {
   "cell_type": "code",
   "execution_count": 180,
   "metadata": {
    "collapsed": true
   },
   "outputs": [],
   "source": [
    "data_2000['FAMI_APORTANTES'] = data_2000['FAMI_APORTANTES'].replace('+', '+9')"
   ]
  },
  {
   "cell_type": "markdown",
   "metadata": {},
   "source": [
    "Se eliminan las filas que poseen '@' FAMI_EDUCA_MADRE"
   ]
  },
  {
   "cell_type": "code",
   "execution_count": 181,
   "metadata": {
    "collapsed": true
   },
   "outputs": [],
   "source": [
    "data_2000 = drop_lines(data_2000, 'FAMI_EDUCA_MADRE', '@')"
   ]
  },
  {
   "cell_type": "markdown",
   "metadata": {},
   "source": [
    "Se eliminan las filas que poseen '@' en FAMI_EDUCA_PADRE"
   ]
  },
  {
   "cell_type": "code",
   "execution_count": 182,
   "metadata": {
    "collapsed": true
   },
   "outputs": [],
   "source": [
    "data_2000 = drop_lines(data_2000, 'FAMI_EDUCA_PADRE', '@')"
   ]
  },
  {
   "cell_type": "markdown",
   "metadata": {},
   "source": [
    "Se eliminan las filas que poseen '@' en FAMI_INGRESO_FMILIAR_MENSUAL"
   ]
  },
  {
   "cell_type": "code",
   "execution_count": 183,
   "metadata": {
    "collapsed": true
   },
   "outputs": [],
   "source": [
    "data_2000 = drop_lines(data_2000, 'FAMI_INGRESO_FMILIAR_MENSUAL', '@')"
   ]
  },
  {
   "cell_type": "markdown",
   "metadata": {},
   "source": [
    "Se eliminan las filas que poseen '@' y se cambia el '+' por '+10' en FAMI_NUM_HERMANOS"
   ]
  },
  {
   "cell_type": "code",
   "execution_count": 184,
   "metadata": {
    "collapsed": true
   },
   "outputs": [],
   "source": [
    "data_2000 = drop_lines(data_2000, 'FAMI_NUM_HERMANOS', '@')\n",
    "data_2000['FAMI_NUM_HERMANOS'] = data_2000['FAMI_NUM_HERMANOS'].replace('+', '+10')"
   ]
  },
  {
   "cell_type": "code",
   "execution_count": 185,
   "metadata": {
    "collapsed": true
   },
   "outputs": [],
   "source": [
    "#lo mismo que la anterior pero en FAMI_NUM_HERMANOS_EDUSUPERIOR\n",
    "data_2000 = drop_lines(data_2000, 'FAMI_NUM_HERMANOS_EDUSUPERIOR', '@')\n",
    "data_2000['FAMI_NUM_HERMANOS_EDUSUPERIOR'] = data_2000['FAMI_NUM_HERMANOS_EDUSUPERIOR'].replace('+', '+10')"
   ]
  },
  {
   "cell_type": "code",
   "execution_count": 186,
   "metadata": {
    "collapsed": true
   },
   "outputs": [],
   "source": [
    "#se eliminan las filas que poseen el valor '@'\n",
    "data_2000 = drop_lines(data_2000, 'FAMI_OCUPA_MADRE', '@')"
   ]
  },
  {
   "cell_type": "code",
   "execution_count": 187,
   "metadata": {
    "collapsed": true
   },
   "outputs": [],
   "source": [
    "#se eliminan las filas que poseen el valor '@'\n",
    "data_2000 = drop_lines(data_2000, 'FAMI_OCUPA_PADRE', '@')"
   ]
  },
  {
   "cell_type": "code",
   "execution_count": 188,
   "metadata": {
    "collapsed": true
   },
   "outputs": [],
   "source": [
    "#Se eliminan las filas que tienen valores '@' y se cambia '+' por '+10'\n",
    "data_2000 = drop_lines(data_2000, 'FAMI_POSICION_HERMANOS', '@')\n",
    "data_2000['FAMI_POSICION_HERMANOS'] = data_2000['FAMI_POSICION_HERMANOS'].replace('+', '+10')"
   ]
  },
  {
   "cell_type": "markdown",
   "metadata": {},
   "source": [
    "Deletion of the selected columns"
   ]
  },
  {
   "cell_type": "code",
   "execution_count": 189,
   "metadata": {
    "collapsed": true
   },
   "outputs": [],
   "source": [
    "data_2000 = data_2000.drop(['ESTU_CARRDESEADA_COD', 'ESTU_IES_COD_DESEADA', 'ESTU_LIMITA_SORDOINTERPRETE',\n",
    " 'IND_ANNO_TERMINO_BACHILLERATO'], axis=1)"
   ]
  },
  {
   "cell_type": "markdown",
   "metadata": {},
   "source": [
    "___________"
   ]
  },
  {
   "cell_type": "markdown",
   "metadata": {},
   "source": [
    "___________"
   ]
  },
  {
   "cell_type": "markdown",
   "metadata": {},
   "source": [
    "___________"
   ]
  },
  {
   "cell_type": "markdown",
   "metadata": {
    "collapsed": true
   },
   "source": [
    "# En este momento ya estaria listo el primer archivo, para su posterior uso en un modelo de prediccion"
   ]
  },
  {
   "cell_type": "code",
   "execution_count": 36,
   "metadata": {
    "collapsed": true
   },
   "outputs": [],
   "source": [
    "from sklearn.linear_model import LinearRegression"
   ]
  },
  {
   "cell_type": "code",
   "execution_count": 190,
   "metadata": {
    "collapsed": true
   },
   "outputs": [],
   "source": [
    "LR = LinearRegression()"
   ]
  },
  {
   "cell_type": "markdown",
   "metadata": {},
   "source": [
    "The data will be prepared to be splitted into **X** and **y**  \n",
    "\n",
    "The first step is encode the data. The result will be stored in a new DataFram called ***encoded_data***"
   ]
  },
  {
   "cell_type": "code",
   "execution_count": 191,
   "metadata": {
    "collapsed": false
   },
   "outputs": [],
   "source": [
    "encoded_data = pd.DataFrame.copy(data_2000)"
   ]
  },
  {
   "cell_type": "code",
   "execution_count": 192,
   "metadata": {
    "collapsed": true
   },
   "outputs": [],
   "source": [
    "encoded_data = label_encoder(encoded_data)"
   ]
  },
  {
   "cell_type": "markdown",
   "metadata": {
    "collapsed": true
   },
   "source": [
    "But, this function just modified the columns that has dtype = object, so i have to check the other columns. \n",
    "The COLE_BILINGUE column, is a Float64 dtype and the function doesn't affected it.  \n",
    "The solution is replace the NaN values found in the column and changes it for the \"0\" to indicate that the school is not Bilingual."
   ]
  },
  {
   "cell_type": "code",
   "execution_count": 194,
   "metadata": {
    "collapsed": true
   },
   "outputs": [],
   "source": [
    "\"\"\"Now i fix the problem with the COLE_BILINGUE\"\"\"\n",
    "encoded_data = letters_to_num(encoded_data, \"NaN\", \"0\", \"COLE_BILINGUE\")\n",
    "data_2000 = letters_to_num(data_2000, 'NaN', '0', 'COLE_BILINGUE')"
   ]
  },
  {
   "cell_type": "markdown",
   "metadata": {},
   "source": [
    "So now, using the function ***missing_data*** located in the file called ***functions.py***, we can check the whole DataFrame to discover another columns with NaN values"
   ]
  },
  {
   "cell_type": "code",
   "execution_count": 196,
   "metadata": {
    "collapsed": false,
    "scrolled": true
   },
   "outputs": [
    {
     "name": "stdout",
     "output_type": "stream",
     "text": [
      "Elementos null/NaN ESTU_CONSECUTIVO                  0\n",
      "COLE_COD_ICFES                    0\n",
      "COLE_NOMBRE_SEDE                  0\n",
      "COLE_JORNADA                      0\n",
      "COLE_VALOR_PENSION                0\n",
      "ESTU_GENERO                       0\n",
      "ESTU_NACIMIENTO_DIA              18\n",
      "ESTU_NACIMIENTO_MES              18\n",
      "ESTU_NACIMIENTO_ANNO             19\n",
      "ESTU_DEPTO_PRESENTACION           0\n",
      "ESTU_MCPIO_PRESENTACION           0\n",
      "ESTU_LIMITA_INVIDENTE             0\n",
      "ESTU_LIMITA_SORDONOINTERPRETE     0\n",
      "ESTU_LIMITA_MOTRIZ                0\n",
      "PUNT_BIOLOGIA                     0\n",
      "PUNT_MATEMATICAS                  0\n",
      "PUNT_FILOSOFIA                    0\n",
      "PUNT_FISICA                       0\n",
      "PUNT_HISTORIA                     0\n",
      "PUNT_QUIMICA                      0\n",
      "PUNT_LENGUAJE                     0\n",
      "PUNT_GEOGRAFIA                    0\n",
      "COD_INTERDISCIPLINAR              0\n",
      "PUNT_INTERDISCIPLINAR             0\n",
      "COD_IDIOMA                        0\n",
      "PUNT_IDIOMA                       0\n",
      "ESTU_RAZONINSTITUTO               0\n",
      "ESTU_CARRDESEADA_RAZON            0\n",
      "FAMI_PERSONAS_HOGAR               0\n",
      "FAMI_VIVIENDA_PROPIA              0\n",
      "FAMI_DEUDA_VIVIENDA               0\n",
      "FAMI_APORTANTES                   0\n",
      "FAMI_INGRESO_FMILIAR_MENSUAL      0\n",
      "FAMI_LEE_ESCRIBE_PADRE            0\n",
      "FAMI_LEE_ESCRIBE_MADRE            0\n",
      "FAMI_EDUCA_PADRE                  0\n",
      "FAMI_EDUCA_MADRE                  0\n",
      "FAMI_OCUPA_PADRE                  0\n",
      "FAMI_OCUPA_MADRE                  0\n",
      "FAMI_NUM_HERMANOS                 0\n",
      "FAMI_NUM_HERMANOS_EDUSUPERIOR     0\n",
      "FAMI_POSICION_HERMANOS            0\n",
      "FAMI_SOST_PERSONAL                0\n",
      "ESTU_TRABAJA                      0\n",
      "ESTU_ACT_PROX_ANNO                0\n",
      "COLE_CALENDARIO                   0\n",
      "COLE_BILINGUE                     0\n",
      "COLE_CARACTER                     0\n",
      "COLE_DEPTO_UBICACION              0\n",
      "COLE_MCPIO_UBICACION              0\n",
      "ESTU_TIPO_DOCUMENTO               0\n",
      "ESTU_RESIDE_DEPTO                 0\n",
      "ESTU_RESIDE_MCPIO                 0\n",
      "dtype: int64\n",
      "__________________\n",
      "Elementos diferentes de null/NaN: ESTU_CONSECUTIVO                 73551\n",
      "COLE_COD_ICFES                   73551\n",
      "COLE_NOMBRE_SEDE                 73551\n",
      "COLE_JORNADA                     73551\n",
      "COLE_VALOR_PENSION               73551\n",
      "ESTU_GENERO                      73551\n",
      "ESTU_NACIMIENTO_DIA              73551\n",
      "ESTU_NACIMIENTO_MES              73551\n",
      "ESTU_NACIMIENTO_ANNO             73551\n",
      "ESTU_DEPTO_PRESENTACION          73551\n",
      "ESTU_MCPIO_PRESENTACION          73551\n",
      "ESTU_LIMITA_INVIDENTE            73551\n",
      "ESTU_LIMITA_SORDONOINTERPRETE    73551\n",
      "ESTU_LIMITA_MOTRIZ               73551\n",
      "PUNT_BIOLOGIA                    73551\n",
      "PUNT_MATEMATICAS                 73551\n",
      "PUNT_FILOSOFIA                   73551\n",
      "PUNT_FISICA                      73551\n",
      "PUNT_HISTORIA                    73551\n",
      "PUNT_QUIMICA                     73551\n",
      "PUNT_LENGUAJE                    73551\n",
      "PUNT_GEOGRAFIA                   73551\n",
      "COD_INTERDISCIPLINAR             73551\n",
      "PUNT_INTERDISCIPLINAR            73551\n",
      "COD_IDIOMA                       73551\n",
      "PUNT_IDIOMA                      73551\n",
      "ESTU_RAZONINSTITUTO              73551\n",
      "ESTU_CARRDESEADA_RAZON           73551\n",
      "FAMI_PERSONAS_HOGAR              73551\n",
      "FAMI_VIVIENDA_PROPIA             73551\n",
      "FAMI_DEUDA_VIVIENDA              73551\n",
      "FAMI_APORTANTES                  73551\n",
      "FAMI_INGRESO_FMILIAR_MENSUAL     73551\n",
      "FAMI_LEE_ESCRIBE_PADRE           73551\n",
      "FAMI_LEE_ESCRIBE_MADRE           73551\n",
      "FAMI_EDUCA_PADRE                 73551\n",
      "FAMI_EDUCA_MADRE                 73551\n",
      "FAMI_OCUPA_PADRE                 73551\n",
      "FAMI_OCUPA_MADRE                 73551\n",
      "FAMI_NUM_HERMANOS                73551\n",
      "FAMI_NUM_HERMANOS_EDUSUPERIOR    73551\n",
      "FAMI_POSICION_HERMANOS           73551\n",
      "FAMI_SOST_PERSONAL               73551\n",
      "ESTU_TRABAJA                     73551\n",
      "ESTU_ACT_PROX_ANNO               73551\n",
      "COLE_CALENDARIO                  73551\n",
      "COLE_BILINGUE                    73551\n",
      "COLE_CARACTER                    73551\n",
      "COLE_DEPTO_UBICACION             73551\n",
      "COLE_MCPIO_UBICACION             73551\n",
      "ESTU_TIPO_DOCUMENTO              73551\n",
      "ESTU_RESIDE_DEPTO                73551\n",
      "ESTU_RESIDE_MCPIO                73551\n",
      "dtype: int64\n",
      "__________________\n",
      "(73551, 53)\n"
     ]
    }
   ],
   "source": [
    "missing_data(encoded_data)"
   ]
  },
  {
   "cell_type": "markdown",
   "metadata": {
    "collapsed": true
   },
   "source": [
    "The NaN values are located in the columns related to the student's birth date.  \n",
    "And one important thing we can see in the result is that when one column is NaN the other two column are NaN too, so we can delete this 14 columns with not so much troubles.  \n",
    "I just found one exception in the row number 55189, that just the Year is NaN.  \n",
    "BUT i have to delete this in the encoded DataFrame ***encoded_data*** to split the data and avoid some troubles that can appear.  "
   ]
  },
  {
   "cell_type": "code",
   "execution_count": 143,
   "metadata": {
    "collapsed": false
   },
   "outputs": [
    {
     "data": {
      "text/html": [
       "<div>\n",
       "<table border=\"1\" class=\"dataframe\">\n",
       "  <thead>\n",
       "    <tr style=\"text-align: right;\">\n",
       "      <th></th>\n",
       "      <th>ESTU_CONSECUTIVO</th>\n",
       "      <th>COLE_COD_ICFES</th>\n",
       "      <th>COLE_NOMBRE_SEDE</th>\n",
       "      <th>COLE_JORNADA</th>\n",
       "      <th>COLE_VALOR_PENSION</th>\n",
       "      <th>ESTU_GENERO</th>\n",
       "      <th>ESTU_NACIMIENTO_DIA</th>\n",
       "      <th>ESTU_NACIMIENTO_MES</th>\n",
       "      <th>ESTU_NACIMIENTO_ANNO</th>\n",
       "      <th>ESTU_DEPTO_PRESENTACION</th>\n",
       "      <th>...</th>\n",
       "      <th>ESTU_TRABAJA</th>\n",
       "      <th>ESTU_ACT_PROX_ANNO</th>\n",
       "      <th>COLE_CALENDARIO</th>\n",
       "      <th>COLE_BILINGUE</th>\n",
       "      <th>COLE_CARACTER</th>\n",
       "      <th>COLE_DEPTO_UBICACION</th>\n",
       "      <th>COLE_MCPIO_UBICACION</th>\n",
       "      <th>ESTU_TIPO_DOCUMENTO</th>\n",
       "      <th>ESTU_RESIDE_DEPTO</th>\n",
       "      <th>ESTU_RESIDE_MCPIO</th>\n",
       "    </tr>\n",
       "  </thead>\n",
       "  <tbody>\n",
       "    <tr>\n",
       "      <th>7061</th>\n",
       "      <td>6716</td>\n",
       "      <td>11528</td>\n",
       "      <td>956</td>\n",
       "      <td>0</td>\n",
       "      <td>-1</td>\n",
       "      <td>0</td>\n",
       "      <td>NaN</td>\n",
       "      <td>NaN</td>\n",
       "      <td>NaN</td>\n",
       "      <td>19</td>\n",
       "      <td>...</td>\n",
       "      <td>-1</td>\n",
       "      <td>-1</td>\n",
       "      <td>1</td>\n",
       "      <td>2</td>\n",
       "      <td>2</td>\n",
       "      <td>18</td>\n",
       "      <td>22</td>\n",
       "      <td>6</td>\n",
       "      <td>19</td>\n",
       "      <td>30</td>\n",
       "    </tr>\n",
       "    <tr>\n",
       "      <th>8246</th>\n",
       "      <td>7846</td>\n",
       "      <td>19349</td>\n",
       "      <td>183</td>\n",
       "      <td>0</td>\n",
       "      <td>-1</td>\n",
       "      <td>1</td>\n",
       "      <td>NaN</td>\n",
       "      <td>NaN</td>\n",
       "      <td>NaN</td>\n",
       "      <td>3</td>\n",
       "      <td>...</td>\n",
       "      <td>-1</td>\n",
       "      <td>-1</td>\n",
       "      <td>1</td>\n",
       "      <td>1</td>\n",
       "      <td>1</td>\n",
       "      <td>3</td>\n",
       "      <td>30</td>\n",
       "      <td>0</td>\n",
       "      <td>3</td>\n",
       "      <td>38</td>\n",
       "    </tr>\n",
       "    <tr>\n",
       "      <th>9836</th>\n",
       "      <td>9363</td>\n",
       "      <td>29181</td>\n",
       "      <td>358</td>\n",
       "      <td>0</td>\n",
       "      <td>-1</td>\n",
       "      <td>1</td>\n",
       "      <td>NaN</td>\n",
       "      <td>NaN</td>\n",
       "      <td>NaN</td>\n",
       "      <td>19</td>\n",
       "      <td>...</td>\n",
       "      <td>-1</td>\n",
       "      <td>-1</td>\n",
       "      <td>1</td>\n",
       "      <td>2</td>\n",
       "      <td>0</td>\n",
       "      <td>18</td>\n",
       "      <td>100</td>\n",
       "      <td>2</td>\n",
       "      <td>19</td>\n",
       "      <td>127</td>\n",
       "    </tr>\n",
       "    <tr>\n",
       "      <th>9953</th>\n",
       "      <td>9474</td>\n",
       "      <td>19349</td>\n",
       "      <td>183</td>\n",
       "      <td>0</td>\n",
       "      <td>-1</td>\n",
       "      <td>0</td>\n",
       "      <td>NaN</td>\n",
       "      <td>NaN</td>\n",
       "      <td>NaN</td>\n",
       "      <td>3</td>\n",
       "      <td>...</td>\n",
       "      <td>-1</td>\n",
       "      <td>-1</td>\n",
       "      <td>1</td>\n",
       "      <td>1</td>\n",
       "      <td>1</td>\n",
       "      <td>3</td>\n",
       "      <td>30</td>\n",
       "      <td>0</td>\n",
       "      <td>3</td>\n",
       "      <td>38</td>\n",
       "    </tr>\n",
       "    <tr>\n",
       "      <th>11201</th>\n",
       "      <td>10660</td>\n",
       "      <td>11338</td>\n",
       "      <td>854</td>\n",
       "      <td>0</td>\n",
       "      <td>-1</td>\n",
       "      <td>1</td>\n",
       "      <td>NaN</td>\n",
       "      <td>NaN</td>\n",
       "      <td>NaN</td>\n",
       "      <td>19</td>\n",
       "      <td>...</td>\n",
       "      <td>-1</td>\n",
       "      <td>-1</td>\n",
       "      <td>1</td>\n",
       "      <td>2</td>\n",
       "      <td>1</td>\n",
       "      <td>18</td>\n",
       "      <td>153</td>\n",
       "      <td>2</td>\n",
       "      <td>19</td>\n",
       "      <td>196</td>\n",
       "    </tr>\n",
       "    <tr>\n",
       "      <th>11212</th>\n",
       "      <td>10671</td>\n",
       "      <td>11338</td>\n",
       "      <td>854</td>\n",
       "      <td>0</td>\n",
       "      <td>-1</td>\n",
       "      <td>0</td>\n",
       "      <td>NaN</td>\n",
       "      <td>NaN</td>\n",
       "      <td>NaN</td>\n",
       "      <td>19</td>\n",
       "      <td>...</td>\n",
       "      <td>-1</td>\n",
       "      <td>-1</td>\n",
       "      <td>1</td>\n",
       "      <td>2</td>\n",
       "      <td>1</td>\n",
       "      <td>18</td>\n",
       "      <td>153</td>\n",
       "      <td>6</td>\n",
       "      <td>19</td>\n",
       "      <td>196</td>\n",
       "    </tr>\n",
       "    <tr>\n",
       "      <th>11978</th>\n",
       "      <td>11398</td>\n",
       "      <td>80663</td>\n",
       "      <td>33</td>\n",
       "      <td>0</td>\n",
       "      <td>-1</td>\n",
       "      <td>1</td>\n",
       "      <td>NaN</td>\n",
       "      <td>NaN</td>\n",
       "      <td>NaN</td>\n",
       "      <td>2</td>\n",
       "      <td>...</td>\n",
       "      <td>-1</td>\n",
       "      <td>-1</td>\n",
       "      <td>2</td>\n",
       "      <td>2</td>\n",
       "      <td>1</td>\n",
       "      <td>2</td>\n",
       "      <td>25</td>\n",
       "      <td>0</td>\n",
       "      <td>2</td>\n",
       "      <td>33</td>\n",
       "    </tr>\n",
       "    <tr>\n",
       "      <th>13453</th>\n",
       "      <td>12800</td>\n",
       "      <td>88823</td>\n",
       "      <td>1004</td>\n",
       "      <td>0</td>\n",
       "      <td>-1</td>\n",
       "      <td>0</td>\n",
       "      <td>NaN</td>\n",
       "      <td>NaN</td>\n",
       "      <td>NaN</td>\n",
       "      <td>13</td>\n",
       "      <td>...</td>\n",
       "      <td>-1</td>\n",
       "      <td>-1</td>\n",
       "      <td>2</td>\n",
       "      <td>2</td>\n",
       "      <td>0</td>\n",
       "      <td>13</td>\n",
       "      <td>98</td>\n",
       "      <td>0</td>\n",
       "      <td>13</td>\n",
       "      <td>125</td>\n",
       "    </tr>\n",
       "    <tr>\n",
       "      <th>20101</th>\n",
       "      <td>19090</td>\n",
       "      <td>48488</td>\n",
       "      <td>1222</td>\n",
       "      <td>1</td>\n",
       "      <td>-1</td>\n",
       "      <td>1</td>\n",
       "      <td>NaN</td>\n",
       "      <td>NaN</td>\n",
       "      <td>NaN</td>\n",
       "      <td>9</td>\n",
       "      <td>...</td>\n",
       "      <td>-1</td>\n",
       "      <td>-1</td>\n",
       "      <td>0</td>\n",
       "      <td>2</td>\n",
       "      <td>1</td>\n",
       "      <td>9</td>\n",
       "      <td>163</td>\n",
       "      <td>6</td>\n",
       "      <td>9</td>\n",
       "      <td>209</td>\n",
       "    </tr>\n",
       "    <tr>\n",
       "      <th>23303</th>\n",
       "      <td>22143</td>\n",
       "      <td>11973</td>\n",
       "      <td>588</td>\n",
       "      <td>1</td>\n",
       "      <td>-1</td>\n",
       "      <td>0</td>\n",
       "      <td>NaN</td>\n",
       "      <td>NaN</td>\n",
       "      <td>NaN</td>\n",
       "      <td>19</td>\n",
       "      <td>...</td>\n",
       "      <td>-1</td>\n",
       "      <td>-1</td>\n",
       "      <td>1</td>\n",
       "      <td>2</td>\n",
       "      <td>0</td>\n",
       "      <td>18</td>\n",
       "      <td>230</td>\n",
       "      <td>6</td>\n",
       "      <td>19</td>\n",
       "      <td>300</td>\n",
       "    </tr>\n",
       "    <tr>\n",
       "      <th>32028</th>\n",
       "      <td>30434</td>\n",
       "      <td>41590</td>\n",
       "      <td>625</td>\n",
       "      <td>1</td>\n",
       "      <td>-1</td>\n",
       "      <td>0</td>\n",
       "      <td>NaN</td>\n",
       "      <td>NaN</td>\n",
       "      <td>NaN</td>\n",
       "      <td>19</td>\n",
       "      <td>...</td>\n",
       "      <td>-1</td>\n",
       "      <td>-1</td>\n",
       "      <td>0</td>\n",
       "      <td>2</td>\n",
       "      <td>3</td>\n",
       "      <td>18</td>\n",
       "      <td>153</td>\n",
       "      <td>6</td>\n",
       "      <td>19</td>\n",
       "      <td>196</td>\n",
       "    </tr>\n",
       "    <tr>\n",
       "      <th>38474</th>\n",
       "      <td>36560</td>\n",
       "      <td>16717</td>\n",
       "      <td>200</td>\n",
       "      <td>1</td>\n",
       "      <td>-1</td>\n",
       "      <td>1</td>\n",
       "      <td>NaN</td>\n",
       "      <td>NaN</td>\n",
       "      <td>NaN</td>\n",
       "      <td>27</td>\n",
       "      <td>...</td>\n",
       "      <td>-1</td>\n",
       "      <td>-1</td>\n",
       "      <td>1</td>\n",
       "      <td>2</td>\n",
       "      <td>0</td>\n",
       "      <td>26</td>\n",
       "      <td>44</td>\n",
       "      <td>5</td>\n",
       "      <td>27</td>\n",
       "      <td>53</td>\n",
       "    </tr>\n",
       "    <tr>\n",
       "      <th>43800</th>\n",
       "      <td>41658</td>\n",
       "      <td>18200</td>\n",
       "      <td>1052</td>\n",
       "      <td>1</td>\n",
       "      <td>-1</td>\n",
       "      <td>1</td>\n",
       "      <td>NaN</td>\n",
       "      <td>NaN</td>\n",
       "      <td>NaN</td>\n",
       "      <td>27</td>\n",
       "      <td>...</td>\n",
       "      <td>-1</td>\n",
       "      <td>-1</td>\n",
       "      <td>1</td>\n",
       "      <td>2</td>\n",
       "      <td>3</td>\n",
       "      <td>26</td>\n",
       "      <td>37</td>\n",
       "      <td>6</td>\n",
       "      <td>27</td>\n",
       "      <td>45</td>\n",
       "    </tr>\n",
       "    <tr>\n",
       "      <th>48943</th>\n",
       "      <td>46561</td>\n",
       "      <td>7344</td>\n",
       "      <td>549</td>\n",
       "      <td>1</td>\n",
       "      <td>-1</td>\n",
       "      <td>0</td>\n",
       "      <td>NaN</td>\n",
       "      <td>NaN</td>\n",
       "      <td>NaN</td>\n",
       "      <td>9</td>\n",
       "      <td>...</td>\n",
       "      <td>-1</td>\n",
       "      <td>-1</td>\n",
       "      <td>0</td>\n",
       "      <td>2</td>\n",
       "      <td>1</td>\n",
       "      <td>9</td>\n",
       "      <td>135</td>\n",
       "      <td>6</td>\n",
       "      <td>9</td>\n",
       "      <td>170</td>\n",
       "    </tr>\n",
       "    <tr>\n",
       "      <th>55189</th>\n",
       "      <td>52469</td>\n",
       "      <td>84749</td>\n",
       "      <td>1033</td>\n",
       "      <td>2</td>\n",
       "      <td>-1</td>\n",
       "      <td>1</td>\n",
       "      <td>12.0</td>\n",
       "      <td>2.0</td>\n",
       "      <td>NaN</td>\n",
       "      <td>4</td>\n",
       "      <td>...</td>\n",
       "      <td>0</td>\n",
       "      <td>2</td>\n",
       "      <td>2</td>\n",
       "      <td>2</td>\n",
       "      <td>0</td>\n",
       "      <td>4</td>\n",
       "      <td>50</td>\n",
       "      <td>0</td>\n",
       "      <td>4</td>\n",
       "      <td>59</td>\n",
       "    </tr>\n",
       "    <tr>\n",
       "      <th>57846</th>\n",
       "      <td>54966</td>\n",
       "      <td>29223</td>\n",
       "      <td>1153</td>\n",
       "      <td>2</td>\n",
       "      <td>-1</td>\n",
       "      <td>0</td>\n",
       "      <td>NaN</td>\n",
       "      <td>NaN</td>\n",
       "      <td>NaN</td>\n",
       "      <td>19</td>\n",
       "      <td>...</td>\n",
       "      <td>-1</td>\n",
       "      <td>-1</td>\n",
       "      <td>1</td>\n",
       "      <td>2</td>\n",
       "      <td>3</td>\n",
       "      <td>18</td>\n",
       "      <td>153</td>\n",
       "      <td>2</td>\n",
       "      <td>19</td>\n",
       "      <td>196</td>\n",
       "    </tr>\n",
       "    <tr>\n",
       "      <th>66659</th>\n",
       "      <td>63217</td>\n",
       "      <td>7286</td>\n",
       "      <td>873</td>\n",
       "      <td>2</td>\n",
       "      <td>-1</td>\n",
       "      <td>1</td>\n",
       "      <td>NaN</td>\n",
       "      <td>NaN</td>\n",
       "      <td>NaN</td>\n",
       "      <td>9</td>\n",
       "      <td>...</td>\n",
       "      <td>-1</td>\n",
       "      <td>-1</td>\n",
       "      <td>0</td>\n",
       "      <td>2</td>\n",
       "      <td>1</td>\n",
       "      <td>9</td>\n",
       "      <td>154</td>\n",
       "      <td>0</td>\n",
       "      <td>9</td>\n",
       "      <td>197</td>\n",
       "    </tr>\n",
       "    <tr>\n",
       "      <th>70324</th>\n",
       "      <td>66676</td>\n",
       "      <td>79228</td>\n",
       "      <td>1223</td>\n",
       "      <td>4</td>\n",
       "      <td>-1</td>\n",
       "      <td>1</td>\n",
       "      <td>NaN</td>\n",
       "      <td>NaN</td>\n",
       "      <td>NaN</td>\n",
       "      <td>27</td>\n",
       "      <td>...</td>\n",
       "      <td>-1</td>\n",
       "      <td>-1</td>\n",
       "      <td>1</td>\n",
       "      <td>2</td>\n",
       "      <td>3</td>\n",
       "      <td>26</td>\n",
       "      <td>44</td>\n",
       "      <td>5</td>\n",
       "      <td>27</td>\n",
       "      <td>53</td>\n",
       "    </tr>\n",
       "    <tr>\n",
       "      <th>72726</th>\n",
       "      <td>68955</td>\n",
       "      <td>39214</td>\n",
       "      <td>951</td>\n",
       "      <td>4</td>\n",
       "      <td>-1</td>\n",
       "      <td>0</td>\n",
       "      <td>NaN</td>\n",
       "      <td>NaN</td>\n",
       "      <td>NaN</td>\n",
       "      <td>19</td>\n",
       "      <td>...</td>\n",
       "      <td>-1</td>\n",
       "      <td>-1</td>\n",
       "      <td>1</td>\n",
       "      <td>2</td>\n",
       "      <td>3</td>\n",
       "      <td>18</td>\n",
       "      <td>153</td>\n",
       "      <td>5</td>\n",
       "      <td>19</td>\n",
       "      <td>196</td>\n",
       "    </tr>\n",
       "  </tbody>\n",
       "</table>\n",
       "<p>19 rows × 53 columns</p>\n",
       "</div>"
      ],
      "text/plain": [
       "       ESTU_CONSECUTIVO  COLE_COD_ICFES  COLE_NOMBRE_SEDE  COLE_JORNADA  \\\n",
       "7061               6716           11528               956             0   \n",
       "8246               7846           19349               183             0   \n",
       "9836               9363           29181               358             0   \n",
       "9953               9474           19349               183             0   \n",
       "11201             10660           11338               854             0   \n",
       "11212             10671           11338               854             0   \n",
       "11978             11398           80663                33             0   \n",
       "13453             12800           88823              1004             0   \n",
       "20101             19090           48488              1222             1   \n",
       "23303             22143           11973               588             1   \n",
       "32028             30434           41590               625             1   \n",
       "38474             36560           16717               200             1   \n",
       "43800             41658           18200              1052             1   \n",
       "48943             46561            7344               549             1   \n",
       "55189             52469           84749              1033             2   \n",
       "57846             54966           29223              1153             2   \n",
       "66659             63217            7286               873             2   \n",
       "70324             66676           79228              1223             4   \n",
       "72726             68955           39214               951             4   \n",
       "\n",
       "       COLE_VALOR_PENSION  ESTU_GENERO  ESTU_NACIMIENTO_DIA  \\\n",
       "7061                   -1            0                  NaN   \n",
       "8246                   -1            1                  NaN   \n",
       "9836                   -1            1                  NaN   \n",
       "9953                   -1            0                  NaN   \n",
       "11201                  -1            1                  NaN   \n",
       "11212                  -1            0                  NaN   \n",
       "11978                  -1            1                  NaN   \n",
       "13453                  -1            0                  NaN   \n",
       "20101                  -1            1                  NaN   \n",
       "23303                  -1            0                  NaN   \n",
       "32028                  -1            0                  NaN   \n",
       "38474                  -1            1                  NaN   \n",
       "43800                  -1            1                  NaN   \n",
       "48943                  -1            0                  NaN   \n",
       "55189                  -1            1                 12.0   \n",
       "57846                  -1            0                  NaN   \n",
       "66659                  -1            1                  NaN   \n",
       "70324                  -1            1                  NaN   \n",
       "72726                  -1            0                  NaN   \n",
       "\n",
       "       ESTU_NACIMIENTO_MES  ESTU_NACIMIENTO_ANNO  ESTU_DEPTO_PRESENTACION  \\\n",
       "7061                   NaN                   NaN                       19   \n",
       "8246                   NaN                   NaN                        3   \n",
       "9836                   NaN                   NaN                       19   \n",
       "9953                   NaN                   NaN                        3   \n",
       "11201                  NaN                   NaN                       19   \n",
       "11212                  NaN                   NaN                       19   \n",
       "11978                  NaN                   NaN                        2   \n",
       "13453                  NaN                   NaN                       13   \n",
       "20101                  NaN                   NaN                        9   \n",
       "23303                  NaN                   NaN                       19   \n",
       "32028                  NaN                   NaN                       19   \n",
       "38474                  NaN                   NaN                       27   \n",
       "43800                  NaN                   NaN                       27   \n",
       "48943                  NaN                   NaN                        9   \n",
       "55189                  2.0                   NaN                        4   \n",
       "57846                  NaN                   NaN                       19   \n",
       "66659                  NaN                   NaN                        9   \n",
       "70324                  NaN                   NaN                       27   \n",
       "72726                  NaN                   NaN                       19   \n",
       "\n",
       "             ...          ESTU_TRABAJA  ESTU_ACT_PROX_ANNO  COLE_CALENDARIO  \\\n",
       "7061         ...                    -1                  -1                1   \n",
       "8246         ...                    -1                  -1                1   \n",
       "9836         ...                    -1                  -1                1   \n",
       "9953         ...                    -1                  -1                1   \n",
       "11201        ...                    -1                  -1                1   \n",
       "11212        ...                    -1                  -1                1   \n",
       "11978        ...                    -1                  -1                2   \n",
       "13453        ...                    -1                  -1                2   \n",
       "20101        ...                    -1                  -1                0   \n",
       "23303        ...                    -1                  -1                1   \n",
       "32028        ...                    -1                  -1                0   \n",
       "38474        ...                    -1                  -1                1   \n",
       "43800        ...                    -1                  -1                1   \n",
       "48943        ...                    -1                  -1                0   \n",
       "55189        ...                     0                   2                2   \n",
       "57846        ...                    -1                  -1                1   \n",
       "66659        ...                    -1                  -1                0   \n",
       "70324        ...                    -1                  -1                1   \n",
       "72726        ...                    -1                  -1                1   \n",
       "\n",
       "       COLE_BILINGUE  COLE_CARACTER  COLE_DEPTO_UBICACION  \\\n",
       "7061               2              2                    18   \n",
       "8246               1              1                     3   \n",
       "9836               2              0                    18   \n",
       "9953               1              1                     3   \n",
       "11201              2              1                    18   \n",
       "11212              2              1                    18   \n",
       "11978              2              1                     2   \n",
       "13453              2              0                    13   \n",
       "20101              2              1                     9   \n",
       "23303              2              0                    18   \n",
       "32028              2              3                    18   \n",
       "38474              2              0                    26   \n",
       "43800              2              3                    26   \n",
       "48943              2              1                     9   \n",
       "55189              2              0                     4   \n",
       "57846              2              3                    18   \n",
       "66659              2              1                     9   \n",
       "70324              2              3                    26   \n",
       "72726              2              3                    18   \n",
       "\n",
       "       COLE_MCPIO_UBICACION  ESTU_TIPO_DOCUMENTO  ESTU_RESIDE_DEPTO  \\\n",
       "7061                     22                    6                 19   \n",
       "8246                     30                    0                  3   \n",
       "9836                    100                    2                 19   \n",
       "9953                     30                    0                  3   \n",
       "11201                   153                    2                 19   \n",
       "11212                   153                    6                 19   \n",
       "11978                    25                    0                  2   \n",
       "13453                    98                    0                 13   \n",
       "20101                   163                    6                  9   \n",
       "23303                   230                    6                 19   \n",
       "32028                   153                    6                 19   \n",
       "38474                    44                    5                 27   \n",
       "43800                    37                    6                 27   \n",
       "48943                   135                    6                  9   \n",
       "55189                    50                    0                  4   \n",
       "57846                   153                    2                 19   \n",
       "66659                   154                    0                  9   \n",
       "70324                    44                    5                 27   \n",
       "72726                   153                    5                 19   \n",
       "\n",
       "       ESTU_RESIDE_MCPIO  \n",
       "7061                  30  \n",
       "8246                  38  \n",
       "9836                 127  \n",
       "9953                  38  \n",
       "11201                196  \n",
       "11212                196  \n",
       "11978                 33  \n",
       "13453                125  \n",
       "20101                209  \n",
       "23303                300  \n",
       "32028                196  \n",
       "38474                 53  \n",
       "43800                 45  \n",
       "48943                170  \n",
       "55189                 59  \n",
       "57846                196  \n",
       "66659                197  \n",
       "70324                 53  \n",
       "72726                196  \n",
       "\n",
       "[19 rows x 53 columns]"
      ]
     },
     "execution_count": 143,
     "metadata": {},
     "output_type": "execute_result"
    }
   ],
   "source": [
    "encoded_data.loc[encoded_data['ESTU_NACIMIENTO_ANNO'].isnull()]\n",
    "#ESTU_NACIMIENTO_MES\n",
    "#ESTU_NACIMIENTO_ANNO"
   ]
  },
  {
   "cell_type": "code",
   "execution_count": 197,
   "metadata": {
    "collapsed": false
   },
   "outputs": [],
   "source": [
    "\"\"\"First i have to put the NaN values as a Number because of the column's dtype\"\"\"\n",
    "encoded_data = letters_to_num(encoded_data, \"NaN\", \"-1\", \"ESTU_NACIMIENTO_ANNO\")\n",
    "data_2000 = letters_to_num(data_2000, 'NaN', '-1', 'ESTU_NACIMIENTO_ANNO')"
   ]
  },
  {
   "cell_type": "code",
   "execution_count": 199,
   "metadata": {
    "collapsed": false
   },
   "outputs": [],
   "source": [
    "\"\"\"Then i can delete the lines\"\"\"\n",
    "encoded_data = drop_lines(encoded_data, 'ESTU_NACIMIENTO_ANNO', '-1')\n",
    "data_2000 = drop_lines(data_2000, 'ESTU_NACIMIENTO_ANNO', '-1')"
   ]
  },
  {
   "cell_type": "markdown",
   "metadata": {},
   "source": [
    "**Now it's time for a little test with sklearn linear regression**"
   ]
  },
  {
   "cell_type": "markdown",
   "metadata": {},
   "source": [
    "Now it's time to exclude columns that do not serve us for our objective as the student's consecutive.  \n",
    "- COLE_COD_ICFES\n",
    "- COLE_NOMBRE_SEDE\n",
    "- ESTU_TIPO_DOCUMENTO  \n",
    "\n",
    "Also the data is divided for train [0, 50000] and for test [50000,73551]."
   ]
  },
  {
   "cell_type": "code",
   "execution_count": 201,
   "metadata": {
    "collapsed": false
   },
   "outputs": [
    {
     "name": "stdout",
     "output_type": "stream",
     "text": [
      "Shape of the original DF: (73551, 53)\n",
      "Shape of the encoded DF: (73551, 53)\n"
     ]
    }
   ],
   "source": [
    "print(\"Shape of the original DF:\", data_2000.shape)\n",
    "print(\"Shape of the encoded DF:\", encoded_data.shape)"
   ]
  },
  {
   "cell_type": "code",
   "execution_count": 204,
   "metadata": {
    "collapsed": false
   },
   "outputs": [
    {
     "name": "stdout",
     "output_type": "stream",
     "text": [
      "(73551, 10)\n"
     ]
    }
   ],
   "source": [
    "y = data_2000.filter(items = ['PUNT_BIOLOGIA', 'PUNT_MATEMATICAS', 'PUNT_FILOSOFIA', 'PUNT_FISICA', 'PUNT_HISTORIA',\n",
    "                     'PUNT_QUIMICA', 'PUNT_LENGUAJE', 'PUNT_GEOGRAFIA', 'PUNT_IDIOMA', 'PUNT_INTERDISCIPLINAR'], axis=1)\n",
    "print(y.shape)"
   ]
  },
  {
   "cell_type": "markdown",
   "metadata": {},
   "source": [
    "So, Now I have a DataFrame with all the posible targets that will be taken into account for the work"
   ]
  },
  {
   "cell_type": "code",
   "execution_count": 205,
   "metadata": {
    "collapsed": true
   },
   "outputs": [],
   "source": [
    "\"\"\"I split the data into X_train and y_train, taking just the corresponding columns\"\"\"\n",
    "X_train = encoded_data.loc[:50000, 'COLE_COD_ICFES':]\n",
    "y_train = y.loc[:50000, 'PUNT_MATEMATICAS'] #i take the score in Maths\n",
    "###########################################################################################\n",
    "\"\"\"Now, i delete the columns that are not useful to the work\"\"\"\n",
    "X_train = X_train.drop(['COLE_COD_ICFES', 'COLE_NOMBRE_SEDE', 'ESTU_TIPO_DOCUMENTO'], axis=1)\n",
    "\"\"\"Now it's time to drop the others subject's scores, because this is what i want to predict\"\"\"\n",
    "X_train = X_train.drop(['PUNT_BIOLOGIA', 'PUNT_MATEMATICAS', 'PUNT_FILOSOFIA', 'PUNT_FISICA', \n",
    "                        'PUNT_HISTORIA', 'PUNT_QUIMICA', 'PUNT_LENGUAJE', 'PUNT_GEOGRAFIA', 'PUNT_IDIOMA',\n",
    "                        'PUNT_INTERDISCIPLINAR'], axis=1)"
   ]
  },
  {
   "cell_type": "code",
   "execution_count": 208,
   "metadata": {
    "collapsed": false
   },
   "outputs": [
    {
     "name": "stdout",
     "output_type": "stream",
     "text": [
      "(73551, 53) (73551, 53)\n"
     ]
    }
   ],
   "source": [
    "print(data_2000.shape, encoded_data.shape)"
   ]
  },
  {
   "cell_type": "markdown",
   "metadata": {},
   "source": [
    "First try to predict one subject score"
   ]
  },
  {
   "cell_type": "code",
   "execution_count": 207,
   "metadata": {
    "collapsed": false,
    "scrolled": false
   },
   "outputs": [
    {
     "data": {
      "text/plain": [
       "LinearRegression(copy_X=True, fit_intercept=True, n_jobs=1, normalize=False)"
      ]
     },
     "execution_count": 207,
     "metadata": {},
     "output_type": "execute_result"
    }
   ],
   "source": [
    "LR.fit(X_train, y_train)"
   ]
  },
  {
   "cell_type": "markdown",
   "metadata": {},
   "source": [
    "Now i can prepare the Data to test the model"
   ]
  },
  {
   "cell_type": "code",
   "execution_count": 209,
   "metadata": {
    "collapsed": true
   },
   "outputs": [],
   "source": [
    "\"\"\"I split the data into X_test and y_test, taking just the corresponding columns\"\"\"\n",
    "X_test = encoded_data.loc[50000:, 'COLE_COD_ICFES':]\n",
    "y_test = y.loc[50000:, 'PUNT_MATEMATICAS'] #i take the score in Maths\n",
    "\"\"\"Now, i delete the columns that are not useful to the work\"\"\"\n",
    "X_test = X_test.drop(['COLE_COD_ICFES', 'COLE_NOMBRE_SEDE', 'ESTU_TIPO_DOCUMENTO'], axis=1)\n",
    "\"\"\"Now it's time to drop the others subject's scores, because this is what i want to predict\"\"\"\n",
    "X_test = X_test.drop(['PUNT_BIOLOGIA', 'PUNT_MATEMATICAS', 'PUNT_FILOSOFIA', 'PUNT_FISICA', \n",
    "                        'PUNT_HISTORIA', 'PUNT_QUIMICA', 'PUNT_LENGUAJE', 'PUNT_GEOGRAFIA', 'PUNT_IDIOMA',\n",
    "                        'PUNT_INTERDISCIPLINAR'], axis=1)"
   ]
  },
  {
   "cell_type": "code",
   "execution_count": 210,
   "metadata": {
    "collapsed": false
   },
   "outputs": [
    {
     "data": {
      "text/plain": [
       "0.14966195295369569"
      ]
     },
     "execution_count": 210,
     "metadata": {},
     "output_type": "execute_result"
    }
   ],
   "source": [
    "LR.score(X_train, y_train)"
   ]
  },
  {
   "cell_type": "code",
   "execution_count": 211,
   "metadata": {
    "collapsed": false
   },
   "outputs": [
    {
     "data": {
      "text/plain": [
       "-0.017483399398517951"
      ]
     },
     "execution_count": 211,
     "metadata": {},
     "output_type": "execute_result"
    }
   ],
   "source": [
    "LR.score(X_test, y_test)"
   ]
  },
  {
   "cell_type": "markdown",
   "metadata": {},
   "source": [
    "I have to do a reshape in the sample that i pass to the predictor because the functions ask for it."
   ]
  },
  {
   "cell_type": "code",
   "execution_count": 218,
   "metadata": {
    "collapsed": false
   },
   "outputs": [
    {
     "data": {
      "text/plain": [
       "array([ 43.83413467])"
      ]
     },
     "execution_count": 218,
     "metadata": {},
     "output_type": "execute_result"
    }
   ],
   "source": [
    "LR.predict(X_test.iloc[123].reshape(1,-1))"
   ]
  },
  {
   "cell_type": "code",
   "execution_count": 219,
   "metadata": {
    "collapsed": false,
    "scrolled": true
   },
   "outputs": [
    {
     "data": {
      "text/plain": [
       "33"
      ]
     },
     "execution_count": 219,
     "metadata": {},
     "output_type": "execute_result"
    }
   ],
   "source": [
    "y_test.iloc[123]"
   ]
  },
  {
   "cell_type": "markdown",
   "metadata": {},
   "source": [
    "Here i can plot a figure to see the behavior of the target.  "
   ]
  },
  {
   "cell_type": "code",
   "execution_count": 216,
   "metadata": {
    "collapsed": false,
    "scrolled": true
   },
   "outputs": [
    {
     "data": {
      "text/plain": [
       "[<matplotlib.lines.Line2D at 0x7fa1d1118ac8>]"
      ]
     },
     "execution_count": 216,
     "metadata": {},
     "output_type": "execute_result"
    },
    {
     "data": {
      "image/png": "[encoded data removed]",
      "text/plain": [
       "<matplotlib.figure.Figure at 0x7fa1d0bb6438>"
      ]
     },
     "metadata": {},
     "output_type": "display_data"
    }
   ],
   "source": [
    "plt.figure(figsize=(18, 4))\n",
    "plt.plot(y['PUNT_MATEMATICAS'])"
   ]
  },
  {
   "cell_type": "markdown",
   "metadata": {},
   "source": [
    "About that figure ploted above, i can see that the behavior of the target is so chaotic and is dificult to predict with a simple Linear Regression."
   ]
  },
  {
   "cell_type": "code",
   "execution_count": null,
   "metadata": {
    "collapsed": true
   },
   "outputs": [],
   "source": []
  },
  {
   "cell_type": "code",
   "execution_count": null,
   "metadata": {
    "collapsed": true
   },
   "outputs": [],
   "source": []
  },
  {
   "cell_type": "code",
   "execution_count": null,
   "metadata": {
    "collapsed": true
   },
   "outputs": [],
   "source": []
  },
  {
   "cell_type": "code",
   "execution_count": null,
   "metadata": {
    "collapsed": true
   },
   "outputs": [],
   "source": []
  },
  {
   "cell_type": "code",
   "execution_count": null,
   "metadata": {
    "collapsed": true
   },
   "outputs": [],
   "source": []
  },
  {
   "cell_type": "code",
   "execution_count": null,
   "metadata": {
    "collapsed": true
   },
   "outputs": [],
   "source": []
  },
  {
   "cell_type": "code",
   "execution_count": null,
   "metadata": {
    "collapsed": true
   },
   "outputs": [],
   "source": []
  }
 ],
 "metadata": {
  "kernelspec": {
   "display_name": "Python 3 + Anaconda",
   "language": "python",
   "name": "pyconda3"
  },
  "language_info": {
   "codemirror_mode": {
    "name": "ipython",
    "version": 3
   },
   "file_extension": ".py",
   "mimetype": "text/x-python",
   "name": "python",
   "nbconvert_exporter": "python",
   "pygments_lexer": "ipython3",
   "version": "3.5.1"
  }
 },
 "nbformat": 4,
 "nbformat_minor": 0
}
