{
 "cells": [
  {
   "cell_type": "markdown",
   "metadata": {},
   "source": [
    "# Procesado de Datos"
   ]
  },
  {
   "cell_type": "markdown",
   "metadata": {},
   "source": [
    "Año 2000"
   ]
  },
  {
   "cell_type": "code",
   "execution_count": 1,
   "metadata": {
    "collapsed": false
   },
   "outputs": [],
   "source": [
    "import pandas as pd\n",
    "%run -i ../tools/functions.py\n",
    "%run -i ../tools/label_encoder.py"
   ]
  },
  {
   "cell_type": "code",
   "execution_count": 2,
   "metadata": {
    "collapsed": false
   },
   "outputs": [
    {
     "name": "stderr",
     "output_type": "stream",
     "text": [
      "/usr/local/anaconda3/lib/python3.5/site-packages/IPython/core/interactiveshell.py:2723: DtypeWarning: Columns (5,12,14,15,29,31) have mixed types. Specify dtype option on import or set low_memory=False.\n",
      "  interactivity=interactivity, compiler=compiler, result=result)\n"
     ]
    }
   ],
   "source": [
    "data_2000 = pd.read_csv(\"../DatosFTPICFES/SABER11/SB11-BASES_DE_DATOS/SB11-20001-RGSTRO-CLFCCN-V1-0.txt\", delimiter=\"|\",\n",
    "                        encoding=\"iso-8859-1\")"
   ]
  },
  {
   "cell_type": "code",
   "execution_count": 3,
   "metadata": {
    "collapsed": false
   },
   "outputs": [
    {
     "data": {
      "text/html": [
       "<div>\n",
       "<table border=\"1\" class=\"dataframe\">\n",
       "  <thead>\n",
       "    <tr style=\"text-align: right;\">\n",
       "      <th></th>\n",
       "      <th>ESTU_CONSECUTIVO</th>\n",
       "      <th>COLE_COD_ICFES</th>\n",
       "      <th>COLE_NOMBRE_SEDE</th>\n",
       "      <th>IND_ANNO_TERMINO_BACHILLERATO</th>\n",
       "      <th>COLE_JORNADA</th>\n",
       "      <th>COLE_VALOR_PENSION</th>\n",
       "      <th>ESTU_GENERO</th>\n",
       "      <th>ESTU_NACIMIENTO_DIA</th>\n",
       "      <th>ESTU_NACIMIENTO_MES</th>\n",
       "      <th>ESTU_NACIMIENTO_ANNO</th>\n",
       "      <th>...</th>\n",
       "      <th>ESTU_TRABAJA</th>\n",
       "      <th>ESTU_ACT_PROX_ANNO</th>\n",
       "      <th>COLE_CALENDARIO</th>\n",
       "      <th>COLE_BILINGUE</th>\n",
       "      <th>COLE_CARACTER</th>\n",
       "      <th>COLE_DEPTO_UBICACION</th>\n",
       "      <th>COLE_MCPIO_UBICACION</th>\n",
       "      <th>ESTU_TIPO_DOCUMENTO</th>\n",
       "      <th>ESTU_RESIDE_DEPTO</th>\n",
       "      <th>ESTU_RESIDE_MCPIO</th>\n",
       "    </tr>\n",
       "  </thead>\n",
       "  <tbody>\n",
       "    <tr>\n",
       "      <th>0</th>\n",
       "      <td>SB11200010000203</td>\n",
       "      <td>83048</td>\n",
       "      <td>INSTITUTO STUDIUM</td>\n",
       "      <td>1999</td>\n",
       "      <td>C</td>\n",
       "      <td>3</td>\n",
       "      <td>F</td>\n",
       "      <td>19.0</td>\n",
       "      <td>3.0</td>\n",
       "      <td>1981.0</td>\n",
       "      <td>...</td>\n",
       "      <td>N</td>\n",
       "      <td>1</td>\n",
       "      <td>F</td>\n",
       "      <td>NaN</td>\n",
       "      <td>ACADEMICO</td>\n",
       "      <td>BOGOTA</td>\n",
       "      <td>BOGOTç D.C.</td>\n",
       "      <td>C</td>\n",
       "      <td>BOGOTA</td>\n",
       "      <td>BOGOTA D.C.</td>\n",
       "    </tr>\n",
       "    <tr>\n",
       "      <th>1</th>\n",
       "      <td>SB11200010000204</td>\n",
       "      <td>3327</td>\n",
       "      <td>COLEGIO HEBREO UNION</td>\n",
       "      <td>2000</td>\n",
       "      <td>C</td>\n",
       "      <td>8</td>\n",
       "      <td>F</td>\n",
       "      <td>28.0</td>\n",
       "      <td>4.0</td>\n",
       "      <td>1982.0</td>\n",
       "      <td>...</td>\n",
       "      <td>N</td>\n",
       "      <td>1</td>\n",
       "      <td>B</td>\n",
       "      <td>NaN</td>\n",
       "      <td>ACADEMICO</td>\n",
       "      <td>ATLANTICO</td>\n",
       "      <td>BARRANQUILLA</td>\n",
       "      <td>N</td>\n",
       "      <td>ATLANTICO</td>\n",
       "      <td>BARRANQUILLA</td>\n",
       "    </tr>\n",
       "  </tbody>\n",
       "</table>\n",
       "<p>2 rows × 57 columns</p>\n",
       "</div>"
      ],
      "text/plain": [
       "   ESTU_CONSECUTIVO  COLE_COD_ICFES      COLE_NOMBRE_SEDE  \\\n",
       "0  SB11200010000203           83048     INSTITUTO STUDIUM   \n",
       "1  SB11200010000204            3327  COLEGIO HEBREO UNION   \n",
       "\n",
       "  IND_ANNO_TERMINO_BACHILLERATO COLE_JORNADA COLE_VALOR_PENSION ESTU_GENERO  \\\n",
       "0                          1999            C                  3           F   \n",
       "1                          2000            C                  8           F   \n",
       "\n",
       "   ESTU_NACIMIENTO_DIA  ESTU_NACIMIENTO_MES  ESTU_NACIMIENTO_ANNO  \\\n",
       "0                 19.0                  3.0                1981.0   \n",
       "1                 28.0                  4.0                1982.0   \n",
       "\n",
       "         ...         ESTU_TRABAJA ESTU_ACT_PROX_ANNO COLE_CALENDARIO  \\\n",
       "0        ...                    N                  1               F   \n",
       "1        ...                    N                  1               B   \n",
       "\n",
       "   COLE_BILINGUE COLE_CARACTER COLE_DEPTO_UBICACION  COLE_MCPIO_UBICACION  \\\n",
       "0            NaN     ACADEMICO               BOGOTA           BOGOTç D.C.   \n",
       "1            NaN     ACADEMICO            ATLANTICO          BARRANQUILLA   \n",
       "\n",
       "   ESTU_TIPO_DOCUMENTO  ESTU_RESIDE_DEPTO  ESTU_RESIDE_MCPIO  \n",
       "0                    C             BOGOTA        BOGOTA D.C.  \n",
       "1                    N          ATLANTICO       BARRANQUILLA  \n",
       "\n",
       "[2 rows x 57 columns]"
      ]
     },
     "execution_count": 3,
     "metadata": {},
     "output_type": "execute_result"
    }
   ],
   "source": [
    "data_2000.head(2)"
   ]
  },
  {
   "cell_type": "code",
   "execution_count": 4,
   "metadata": {
    "collapsed": false
   },
   "outputs": [
    {
     "data": {
      "text/html": [
       "<div>\n",
       "<table border=\"1\" class=\"dataframe\">\n",
       "  <thead>\n",
       "    <tr style=\"text-align: right;\">\n",
       "      <th></th>\n",
       "      <th>0</th>\n",
       "      <th>1</th>\n",
       "      <th>2</th>\n",
       "    </tr>\n",
       "  </thead>\n",
       "  <tbody>\n",
       "    <tr>\n",
       "      <th>ESTU_CONSECUTIVO</th>\n",
       "      <td>SB11200010000203</td>\n",
       "      <td>SB11200010000204</td>\n",
       "      <td>SB11200010000205</td>\n",
       "    </tr>\n",
       "    <tr>\n",
       "      <th>COLE_COD_ICFES</th>\n",
       "      <td>83048</td>\n",
       "      <td>3327</td>\n",
       "      <td>19364</td>\n",
       "    </tr>\n",
       "    <tr>\n",
       "      <th>COLE_NOMBRE_SEDE</th>\n",
       "      <td>INSTITUTO STUDIUM</td>\n",
       "      <td>COLEGIO HEBREO UNION</td>\n",
       "      <td>COLEGIO ANGLO COLOMBIANO</td>\n",
       "    </tr>\n",
       "    <tr>\n",
       "      <th>IND_ANNO_TERMINO_BACHILLERATO</th>\n",
       "      <td>1999</td>\n",
       "      <td>2000</td>\n",
       "      <td>2000</td>\n",
       "    </tr>\n",
       "    <tr>\n",
       "      <th>COLE_JORNADA</th>\n",
       "      <td>C</td>\n",
       "      <td>C</td>\n",
       "      <td>C</td>\n",
       "    </tr>\n",
       "    <tr>\n",
       "      <th>COLE_VALOR_PENSION</th>\n",
       "      <td>3</td>\n",
       "      <td>8</td>\n",
       "      <td>7</td>\n",
       "    </tr>\n",
       "    <tr>\n",
       "      <th>ESTU_GENERO</th>\n",
       "      <td>F</td>\n",
       "      <td>F</td>\n",
       "      <td>M</td>\n",
       "    </tr>\n",
       "    <tr>\n",
       "      <th>ESTU_NACIMIENTO_DIA</th>\n",
       "      <td>19</td>\n",
       "      <td>28</td>\n",
       "      <td>30</td>\n",
       "    </tr>\n",
       "    <tr>\n",
       "      <th>ESTU_NACIMIENTO_MES</th>\n",
       "      <td>3</td>\n",
       "      <td>4</td>\n",
       "      <td>4</td>\n",
       "    </tr>\n",
       "    <tr>\n",
       "      <th>ESTU_NACIMIENTO_ANNO</th>\n",
       "      <td>1981</td>\n",
       "      <td>1982</td>\n",
       "      <td>1982</td>\n",
       "    </tr>\n",
       "    <tr>\n",
       "      <th>ESTU_DEPTO_PRESENTACION</th>\n",
       "      <td>BOGOTA</td>\n",
       "      <td>ATLANTICO</td>\n",
       "      <td>BOGOTA</td>\n",
       "    </tr>\n",
       "    <tr>\n",
       "      <th>ESTU_MCPIO_PRESENTACION</th>\n",
       "      <td>BOGOTA D.C.</td>\n",
       "      <td>BARRANQUILLA</td>\n",
       "      <td>BOGOTA D.C.</td>\n",
       "    </tr>\n",
       "    <tr>\n",
       "      <th>ESTU_LIMITA_INVIDENTE</th>\n",
       "      <td>NaN</td>\n",
       "      <td>NaN</td>\n",
       "      <td>NaN</td>\n",
       "    </tr>\n",
       "    <tr>\n",
       "      <th>ESTU_LIMITA_SORDOINTERPRETE</th>\n",
       "      <td>NaN</td>\n",
       "      <td>NaN</td>\n",
       "      <td>NaN</td>\n",
       "    </tr>\n",
       "    <tr>\n",
       "      <th>ESTU_LIMITA_SORDONOINTERPRETE</th>\n",
       "      <td>NaN</td>\n",
       "      <td>NaN</td>\n",
       "      <td>NaN</td>\n",
       "    </tr>\n",
       "    <tr>\n",
       "      <th>ESTU_LIMITA_MOTRIZ</th>\n",
       "      <td>NaN</td>\n",
       "      <td>NaN</td>\n",
       "      <td>NaN</td>\n",
       "    </tr>\n",
       "    <tr>\n",
       "      <th>PUNT_BIOLOGIA</th>\n",
       "      <td>52</td>\n",
       "      <td>51</td>\n",
       "      <td>59</td>\n",
       "    </tr>\n",
       "    <tr>\n",
       "      <th>PUNT_MATEMATICAS</th>\n",
       "      <td>47</td>\n",
       "      <td>52</td>\n",
       "      <td>58</td>\n",
       "    </tr>\n",
       "    <tr>\n",
       "      <th>PUNT_FILOSOFIA</th>\n",
       "      <td>55</td>\n",
       "      <td>59</td>\n",
       "      <td>44</td>\n",
       "    </tr>\n",
       "    <tr>\n",
       "      <th>PUNT_FISICA</th>\n",
       "      <td>49</td>\n",
       "      <td>43</td>\n",
       "      <td>60</td>\n",
       "    </tr>\n",
       "    <tr>\n",
       "      <th>PUNT_HISTORIA</th>\n",
       "      <td>63</td>\n",
       "      <td>52</td>\n",
       "      <td>50</td>\n",
       "    </tr>\n",
       "    <tr>\n",
       "      <th>PUNT_QUIMICA</th>\n",
       "      <td>49</td>\n",
       "      <td>54</td>\n",
       "      <td>68</td>\n",
       "    </tr>\n",
       "    <tr>\n",
       "      <th>PUNT_LENGUAJE</th>\n",
       "      <td>56</td>\n",
       "      <td>53</td>\n",
       "      <td>50</td>\n",
       "    </tr>\n",
       "    <tr>\n",
       "      <th>PUNT_GEOGRAFIA</th>\n",
       "      <td>56</td>\n",
       "      <td>57</td>\n",
       "      <td>43</td>\n",
       "    </tr>\n",
       "    <tr>\n",
       "      <th>COD_INTERDISCIPLINAR</th>\n",
       "      <td>43</td>\n",
       "      <td>45</td>\n",
       "      <td>43</td>\n",
       "    </tr>\n",
       "    <tr>\n",
       "      <th>PUNT_INTERDISCIPLINAR</th>\n",
       "      <td>55</td>\n",
       "      <td>47</td>\n",
       "      <td>53</td>\n",
       "    </tr>\n",
       "    <tr>\n",
       "      <th>COD_IDIOMA</th>\n",
       "      <td>51</td>\n",
       "      <td>51</td>\n",
       "      <td>51</td>\n",
       "    </tr>\n",
       "    <tr>\n",
       "      <th>PUNT_IDIOMA</th>\n",
       "      <td>45</td>\n",
       "      <td>58</td>\n",
       "      <td>75</td>\n",
       "    </tr>\n",
       "    <tr>\n",
       "      <th>ESTU_IES_COD_DESEADA</th>\n",
       "      <td>NaN</td>\n",
       "      <td>9999</td>\n",
       "      <td>9999</td>\n",
       "    </tr>\n",
       "    <tr>\n",
       "      <th>ESTU_RAZONINSTITUTO</th>\n",
       "      <td>8</td>\n",
       "      <td>NaN</td>\n",
       "      <td>2</td>\n",
       "    </tr>\n",
       "    <tr>\n",
       "      <th>ESTU_CARRDESEADA_COD</th>\n",
       "      <td>1707</td>\n",
       "      <td>4701</td>\n",
       "      <td>99999</td>\n",
       "    </tr>\n",
       "    <tr>\n",
       "      <th>ESTU_CARRDESEADA_RAZON</th>\n",
       "      <td>2</td>\n",
       "      <td>3</td>\n",
       "      <td>2</td>\n",
       "    </tr>\n",
       "    <tr>\n",
       "      <th>FAMI_PERSONAS_HOGAR</th>\n",
       "      <td>2</td>\n",
       "      <td>@</td>\n",
       "      <td>5</td>\n",
       "    </tr>\n",
       "    <tr>\n",
       "      <th>FAMI_VIVIENDA_PROPIA</th>\n",
       "      <td>S</td>\n",
       "      <td>N</td>\n",
       "      <td>S</td>\n",
       "    </tr>\n",
       "    <tr>\n",
       "      <th>FAMI_DEUDA_VIVIENDA</th>\n",
       "      <td>N</td>\n",
       "      <td>NaN</td>\n",
       "      <td>S</td>\n",
       "    </tr>\n",
       "    <tr>\n",
       "      <th>FAMI_APORTANTES</th>\n",
       "      <td>1</td>\n",
       "      <td>2</td>\n",
       "      <td>2</td>\n",
       "    </tr>\n",
       "    <tr>\n",
       "      <th>FAMI_INGRESO_FMILIAR_MENSUAL</th>\n",
       "      <td>4</td>\n",
       "      <td>4</td>\n",
       "      <td>9</td>\n",
       "    </tr>\n",
       "    <tr>\n",
       "      <th>FAMI_LEE_ESCRIBE_PADRE</th>\n",
       "      <td>S</td>\n",
       "      <td>S</td>\n",
       "      <td>S</td>\n",
       "    </tr>\n",
       "    <tr>\n",
       "      <th>FAMI_LEE_ESCRIBE_MADRE</th>\n",
       "      <td>S</td>\n",
       "      <td>S</td>\n",
       "      <td>S</td>\n",
       "    </tr>\n",
       "    <tr>\n",
       "      <th>FAMI_EDUCA_PADRE</th>\n",
       "      <td>4</td>\n",
       "      <td>7</td>\n",
       "      <td>8</td>\n",
       "    </tr>\n",
       "    <tr>\n",
       "      <th>FAMI_EDUCA_MADRE</th>\n",
       "      <td>8</td>\n",
       "      <td>4</td>\n",
       "      <td>7</td>\n",
       "    </tr>\n",
       "    <tr>\n",
       "      <th>FAMI_OCUPA_PADRE</th>\n",
       "      <td>05</td>\n",
       "      <td>03</td>\n",
       "      <td>04</td>\n",
       "    </tr>\n",
       "    <tr>\n",
       "      <th>FAMI_OCUPA_MADRE</th>\n",
       "      <td>NaN</td>\n",
       "      <td>10</td>\n",
       "      <td>04</td>\n",
       "    </tr>\n",
       "    <tr>\n",
       "      <th>FAMI_NUM_HERMANOS</th>\n",
       "      <td>NaN</td>\n",
       "      <td>2</td>\n",
       "      <td>1</td>\n",
       "    </tr>\n",
       "    <tr>\n",
       "      <th>FAMI_NUM_HERMANOS_EDUSUPERIOR</th>\n",
       "      <td>2</td>\n",
       "      <td>2</td>\n",
       "      <td>1</td>\n",
       "    </tr>\n",
       "    <tr>\n",
       "      <th>FAMI_POSICION_HERMANOS</th>\n",
       "      <td>3</td>\n",
       "      <td>3</td>\n",
       "      <td>2</td>\n",
       "    </tr>\n",
       "    <tr>\n",
       "      <th>FAMI_SOST_PERSONAL</th>\n",
       "      <td>T</td>\n",
       "      <td>T</td>\n",
       "      <td>T</td>\n",
       "    </tr>\n",
       "    <tr>\n",
       "      <th>ESTU_TRABAJA</th>\n",
       "      <td>N</td>\n",
       "      <td>N</td>\n",
       "      <td>N</td>\n",
       "    </tr>\n",
       "    <tr>\n",
       "      <th>ESTU_ACT_PROX_ANNO</th>\n",
       "      <td>1</td>\n",
       "      <td>1</td>\n",
       "      <td>2</td>\n",
       "    </tr>\n",
       "    <tr>\n",
       "      <th>COLE_CALENDARIO</th>\n",
       "      <td>F</td>\n",
       "      <td>B</td>\n",
       "      <td>B</td>\n",
       "    </tr>\n",
       "    <tr>\n",
       "      <th>COLE_BILINGUE</th>\n",
       "      <td>NaN</td>\n",
       "      <td>NaN</td>\n",
       "      <td>1</td>\n",
       "    </tr>\n",
       "    <tr>\n",
       "      <th>COLE_CARACTER</th>\n",
       "      <td>ACADEMICO</td>\n",
       "      <td>ACADEMICO</td>\n",
       "      <td>ACADEMICO</td>\n",
       "    </tr>\n",
       "    <tr>\n",
       "      <th>COLE_DEPTO_UBICACION</th>\n",
       "      <td>BOGOTA</td>\n",
       "      <td>ATLANTICO</td>\n",
       "      <td>BOGOTA</td>\n",
       "    </tr>\n",
       "    <tr>\n",
       "      <th>COLE_MCPIO_UBICACION</th>\n",
       "      <td>BOGOTç D.C.</td>\n",
       "      <td>BARRANQUILLA</td>\n",
       "      <td>BOGOTç D.C.</td>\n",
       "    </tr>\n",
       "    <tr>\n",
       "      <th>ESTU_TIPO_DOCUMENTO</th>\n",
       "      <td>C</td>\n",
       "      <td>N</td>\n",
       "      <td>T</td>\n",
       "    </tr>\n",
       "    <tr>\n",
       "      <th>ESTU_RESIDE_DEPTO</th>\n",
       "      <td>BOGOTA</td>\n",
       "      <td>ATLANTICO</td>\n",
       "      <td>BOGOTA</td>\n",
       "    </tr>\n",
       "    <tr>\n",
       "      <th>ESTU_RESIDE_MCPIO</th>\n",
       "      <td>BOGOTA D.C.</td>\n",
       "      <td>BARRANQUILLA</td>\n",
       "      <td>BOGOTA D.C.</td>\n",
       "    </tr>\n",
       "  </tbody>\n",
       "</table>\n",
       "</div>"
      ],
      "text/plain": [
       "                                               0                     1  \\\n",
       "ESTU_CONSECUTIVO                SB11200010000203      SB11200010000204   \n",
       "COLE_COD_ICFES                             83048                  3327   \n",
       "COLE_NOMBRE_SEDE               INSTITUTO STUDIUM  COLEGIO HEBREO UNION   \n",
       "IND_ANNO_TERMINO_BACHILLERATO               1999                  2000   \n",
       "COLE_JORNADA                                   C                     C   \n",
       "COLE_VALOR_PENSION                             3                     8   \n",
       "ESTU_GENERO                                    F                     F   \n",
       "ESTU_NACIMIENTO_DIA                           19                    28   \n",
       "ESTU_NACIMIENTO_MES                            3                     4   \n",
       "ESTU_NACIMIENTO_ANNO                        1981                  1982   \n",
       "ESTU_DEPTO_PRESENTACION                   BOGOTA             ATLANTICO   \n",
       "ESTU_MCPIO_PRESENTACION              BOGOTA D.C.          BARRANQUILLA   \n",
       "ESTU_LIMITA_INVIDENTE                        NaN                   NaN   \n",
       "ESTU_LIMITA_SORDOINTERPRETE                  NaN                   NaN   \n",
       "ESTU_LIMITA_SORDONOINTERPRETE                NaN                   NaN   \n",
       "ESTU_LIMITA_MOTRIZ                           NaN                   NaN   \n",
       "PUNT_BIOLOGIA                                 52                    51   \n",
       "PUNT_MATEMATICAS                              47                    52   \n",
       "PUNT_FILOSOFIA                                55                    59   \n",
       "PUNT_FISICA                                   49                    43   \n",
       "PUNT_HISTORIA                                 63                    52   \n",
       "PUNT_QUIMICA                                  49                    54   \n",
       "PUNT_LENGUAJE                                 56                    53   \n",
       "PUNT_GEOGRAFIA                                56                    57   \n",
       "COD_INTERDISCIPLINAR                          43                    45   \n",
       "PUNT_INTERDISCIPLINAR                         55                    47   \n",
       "COD_IDIOMA                                    51                    51   \n",
       "PUNT_IDIOMA                                   45                    58   \n",
       "ESTU_IES_COD_DESEADA                         NaN                  9999   \n",
       "ESTU_RAZONINSTITUTO                            8                   NaN   \n",
       "ESTU_CARRDESEADA_COD                        1707                  4701   \n",
       "ESTU_CARRDESEADA_RAZON                         2                     3   \n",
       "FAMI_PERSONAS_HOGAR                            2                     @   \n",
       "FAMI_VIVIENDA_PROPIA                           S                     N   \n",
       "FAMI_DEUDA_VIVIENDA                            N                   NaN   \n",
       "FAMI_APORTANTES                                1                     2   \n",
       "FAMI_INGRESO_FMILIAR_MENSUAL                   4                     4   \n",
       "FAMI_LEE_ESCRIBE_PADRE                         S                     S   \n",
       "FAMI_LEE_ESCRIBE_MADRE                         S                     S   \n",
       "FAMI_EDUCA_PADRE                               4                     7   \n",
       "FAMI_EDUCA_MADRE                               8                     4   \n",
       "FAMI_OCUPA_PADRE                              05                    03   \n",
       "FAMI_OCUPA_MADRE                             NaN                    10   \n",
       "FAMI_NUM_HERMANOS                            NaN                     2   \n",
       "FAMI_NUM_HERMANOS_EDUSUPERIOR                  2                     2   \n",
       "FAMI_POSICION_HERMANOS                         3                     3   \n",
       "FAMI_SOST_PERSONAL                             T                     T   \n",
       "ESTU_TRABAJA                                   N                     N   \n",
       "ESTU_ACT_PROX_ANNO                             1                     1   \n",
       "COLE_CALENDARIO                                F                     B   \n",
       "COLE_BILINGUE                                NaN                   NaN   \n",
       "COLE_CARACTER                          ACADEMICO             ACADEMICO   \n",
       "COLE_DEPTO_UBICACION                      BOGOTA             ATLANTICO   \n",
       "COLE_MCPIO_UBICACION                 BOGOTç D.C.          BARRANQUILLA   \n",
       "ESTU_TIPO_DOCUMENTO                            C                     N   \n",
       "ESTU_RESIDE_DEPTO                         BOGOTA             ATLANTICO   \n",
       "ESTU_RESIDE_MCPIO                    BOGOTA D.C.          BARRANQUILLA   \n",
       "\n",
       "                                                      2  \n",
       "ESTU_CONSECUTIVO                       SB11200010000205  \n",
       "COLE_COD_ICFES                                    19364  \n",
       "COLE_NOMBRE_SEDE               COLEGIO ANGLO COLOMBIANO  \n",
       "IND_ANNO_TERMINO_BACHILLERATO                      2000  \n",
       "COLE_JORNADA                                          C  \n",
       "COLE_VALOR_PENSION                                    7  \n",
       "ESTU_GENERO                                           M  \n",
       "ESTU_NACIMIENTO_DIA                                  30  \n",
       "ESTU_NACIMIENTO_MES                                   4  \n",
       "ESTU_NACIMIENTO_ANNO                               1982  \n",
       "ESTU_DEPTO_PRESENTACION                          BOGOTA  \n",
       "ESTU_MCPIO_PRESENTACION                     BOGOTA D.C.  \n",
       "ESTU_LIMITA_INVIDENTE                               NaN  \n",
       "ESTU_LIMITA_SORDOINTERPRETE                         NaN  \n",
       "ESTU_LIMITA_SORDONOINTERPRETE                       NaN  \n",
       "ESTU_LIMITA_MOTRIZ                                  NaN  \n",
       "PUNT_BIOLOGIA                                        59  \n",
       "PUNT_MATEMATICAS                                     58  \n",
       "PUNT_FILOSOFIA                                       44  \n",
       "PUNT_FISICA                                          60  \n",
       "PUNT_HISTORIA                                        50  \n",
       "PUNT_QUIMICA                                         68  \n",
       "PUNT_LENGUAJE                                        50  \n",
       "PUNT_GEOGRAFIA                                       43  \n",
       "COD_INTERDISCIPLINAR                                 43  \n",
       "PUNT_INTERDISCIPLINAR                                53  \n",
       "COD_IDIOMA                                           51  \n",
       "PUNT_IDIOMA                                          75  \n",
       "ESTU_IES_COD_DESEADA                               9999  \n",
       "ESTU_RAZONINSTITUTO                                   2  \n",
       "ESTU_CARRDESEADA_COD                              99999  \n",
       "ESTU_CARRDESEADA_RAZON                                2  \n",
       "FAMI_PERSONAS_HOGAR                                   5  \n",
       "FAMI_VIVIENDA_PROPIA                                  S  \n",
       "FAMI_DEUDA_VIVIENDA                                   S  \n",
       "FAMI_APORTANTES                                       2  \n",
       "FAMI_INGRESO_FMILIAR_MENSUAL                          9  \n",
       "FAMI_LEE_ESCRIBE_PADRE                                S  \n",
       "FAMI_LEE_ESCRIBE_MADRE                                S  \n",
       "FAMI_EDUCA_PADRE                                      8  \n",
       "FAMI_EDUCA_MADRE                                      7  \n",
       "FAMI_OCUPA_PADRE                                     04  \n",
       "FAMI_OCUPA_MADRE                                     04  \n",
       "FAMI_NUM_HERMANOS                                     1  \n",
       "FAMI_NUM_HERMANOS_EDUSUPERIOR                         1  \n",
       "FAMI_POSICION_HERMANOS                                2  \n",
       "FAMI_SOST_PERSONAL                                    T  \n",
       "ESTU_TRABAJA                                          N  \n",
       "ESTU_ACT_PROX_ANNO                                    2  \n",
       "COLE_CALENDARIO                                       B  \n",
       "COLE_BILINGUE                                         1  \n",
       "COLE_CARACTER                                 ACADEMICO  \n",
       "COLE_DEPTO_UBICACION                             BOGOTA  \n",
       "COLE_MCPIO_UBICACION                        BOGOTç D.C.  \n",
       "ESTU_TIPO_DOCUMENTO                                   T  \n",
       "ESTU_RESIDE_DEPTO                                BOGOTA  \n",
       "ESTU_RESIDE_MCPIO                           BOGOTA D.C.  "
      ]
     },
     "execution_count": 4,
     "metadata": {},
     "output_type": "execute_result"
    }
   ],
   "source": [
    "data_2000.head(3).T"
   ]
  },
  {
   "cell_type": "code",
   "execution_count": 5,
   "metadata": {
    "collapsed": false,
    "scrolled": true
   },
   "outputs": [
    {
     "data": {
      "text/plain": [
       "1      274\n",
       "2     2744\n",
       "3     8917\n",
       "5    18814\n",
       "6    11487\n",
       "7     6493\n",
       "8     3781\n",
       "9     2208\n",
       "@    19122\n",
       "Name: FAMI_PERSONAS_HOGAR, dtype: int64"
      ]
     },
     "execution_count": 5,
     "metadata": {},
     "output_type": "execute_result"
    }
   ],
   "source": [
    "data_2000['FAMI_PERSONAS_HOGAR'].value_counts().sort_index()"
   ]
  },
  {
   "cell_type": "markdown",
   "metadata": {},
   "source": [
    "The simbol \"@\" will be changed for the number 4, because the average in Colombian's homes is near to 4."
   ]
  },
  {
   "cell_type": "code",
   "execution_count": 6,
   "metadata": {
    "collapsed": true
   },
   "outputs": [],
   "source": [
    "data_2000 = letters_to_num(data_2000, [\"@\"], [\"4\"], \"FAMI_PERSONAS_HOGAR\")"
   ]
  },
  {
   "cell_type": "markdown",
   "metadata": {},
   "source": [
    "Then, the following columns will be reviewed"
   ]
  },
  {
   "cell_type": "code",
   "execution_count": 7,
   "metadata": {
    "collapsed": false,
    "scrolled": true
   },
   "outputs": [
    {
     "data": {
      "text/plain": [
       "@        4\n",
       "N    20144\n",
       "S    53182\n",
       "Name: FAMI_VIVIENDA_PROPIA, dtype: int64"
      ]
     },
     "execution_count": 7,
     "metadata": {},
     "output_type": "execute_result"
    }
   ],
   "source": [
    "data_2000['FAMI_VIVIENDA_PROPIA'].value_counts().sort_index()"
   ]
  },
  {
   "cell_type": "markdown",
   "metadata": {},
   "source": [
    "There are very few rows with the value \"@\", so the rows that has it will be deleted. "
   ]
  },
  {
   "cell_type": "code",
   "execution_count": 8,
   "metadata": {
    "collapsed": false
   },
   "outputs": [],
   "source": [
    "data_2000 = drop_lines(data_2000, \"FAMI_VIVIENDA_PROPIA\", \"@\")"
   ]
  },
  {
   "cell_type": "code",
   "execution_count": 9,
   "metadata": {
    "collapsed": false
   },
   "outputs": [
    {
     "data": {
      "text/plain": [
       "@        3\n",
       "N    36147\n",
       "S    11464\n",
       "Name: FAMI_DEUDA_VIVIENDA, dtype: int64"
      ]
     },
     "execution_count": 9,
     "metadata": {},
     "output_type": "execute_result"
    }
   ],
   "source": [
    "data_2000['FAMI_DEUDA_VIVIENDA'].value_counts().sort_index()"
   ]
  },
  {
   "cell_type": "code",
   "execution_count": 10,
   "metadata": {
    "collapsed": true
   },
   "outputs": [],
   "source": [
    "data_2000 = drop_lines(data_2000, \"FAMI_DEUDA_VIVIENDA\", \"@\")"
   ]
  },
  {
   "cell_type": "code",
   "execution_count": 11,
   "metadata": {
    "collapsed": false
   },
   "outputs": [
    {
     "data": {
      "text/plain": [
       "@       35\n",
       "N     2263\n",
       "S    67423\n",
       "Name: FAMI_LEE_ESCRIBE_PADRE, dtype: int64"
      ]
     },
     "execution_count": 11,
     "metadata": {},
     "output_type": "execute_result"
    }
   ],
   "source": [
    "data_2000['FAMI_LEE_ESCRIBE_PADRE'].value_counts().sort_index()"
   ]
  },
  {
   "cell_type": "code",
   "execution_count": 12,
   "metadata": {
    "collapsed": true
   },
   "outputs": [],
   "source": [
    "data_2000 = drop_lines(data_2000, \"FAMI_LEE_ESCRIBE_PADRE\", \"@\")"
   ]
  },
  {
   "cell_type": "code",
   "execution_count": 13,
   "metadata": {
    "collapsed": false
   },
   "outputs": [
    {
     "data": {
      "text/plain": [
       "@       30\n",
       "N     2847\n",
       "S    71998\n",
       "Name: FAMI_LEE_ESCRIBE_MADRE, dtype: int64"
      ]
     },
     "execution_count": 13,
     "metadata": {},
     "output_type": "execute_result"
    }
   ],
   "source": [
    "data_2000['FAMI_LEE_ESCRIBE_MADRE'].value_counts().sort_index()"
   ]
  },
  {
   "cell_type": "code",
   "execution_count": 14,
   "metadata": {
    "collapsed": true
   },
   "outputs": [],
   "source": [
    "data_2000 = drop_lines(data_2000, \"FAMI_LEE_ESCRIBE_MADRE\", \"@\")"
   ]
  },
  {
   "cell_type": "code",
   "execution_count": 15,
   "metadata": {
    "collapsed": false
   },
   "outputs": [
    {
     "data": {
      "text/plain": [
       "@        3\n",
       "N     6577\n",
       "P    10337\n",
       "T    57575\n",
       "Name: FAMI_SOST_PERSONAL, dtype: int64"
      ]
     },
     "execution_count": 15,
     "metadata": {},
     "output_type": "execute_result"
    }
   ],
   "source": [
    "data_2000['FAMI_SOST_PERSONAL'].value_counts().sort_index()"
   ]
  },
  {
   "cell_type": "code",
   "execution_count": 16,
   "metadata": {
    "collapsed": true
   },
   "outputs": [],
   "source": [
    "data_2000 = drop_lines(data_2000, \"FAMI_SOST_PERSONAL\", \"@\")"
   ]
  },
  {
   "cell_type": "code",
   "execution_count": 17,
   "metadata": {
    "collapsed": false
   },
   "outputs": [
    {
     "data": {
      "text/plain": [
       "@        2\n",
       "N    63153\n",
       "S    10608\n",
       "Name: ESTU_TRABAJA, dtype: int64"
      ]
     },
     "execution_count": 17,
     "metadata": {},
     "output_type": "execute_result"
    }
   ],
   "source": [
    "data_2000['ESTU_TRABAJA'].value_counts().sort_index()"
   ]
  },
  {
   "cell_type": "code",
   "execution_count": 18,
   "metadata": {
    "collapsed": true
   },
   "outputs": [],
   "source": [
    "data_2000 = drop_lines(data_2000, \"ESTU_TRABAJA\", \"@\")"
   ]
  },
  {
   "cell_type": "code",
   "execution_count": 19,
   "metadata": {
    "collapsed": false
   },
   "outputs": [
    {
     "data": {
      "text/plain": [
       "A     6697\n",
       "B    49422\n",
       "F    21430\n",
       "Name: COLE_CALENDARIO, dtype: int64"
      ]
     },
     "execution_count": 19,
     "metadata": {},
     "output_type": "execute_result"
    }
   ],
   "source": [
    "data_2000['COLE_CALENDARIO'].value_counts().sort_index()"
   ]
  },
  {
   "cell_type": "code",
   "execution_count": 20,
   "metadata": {
    "collapsed": false
   },
   "outputs": [
    {
     "data": {
      "text/plain": [
       "ACADEMICO              38189\n",
       "ACADEMICO Y TECNICO    17827\n",
       "NORMALISTA              1168\n",
       "TECNICO                20365\n",
       "Name: COLE_CARACTER, dtype: int64"
      ]
     },
     "execution_count": 20,
     "metadata": {},
     "output_type": "execute_result"
    }
   ],
   "source": [
    "data_2000['COLE_CARACTER'].value_counts().sort_index()"
   ]
  },
  {
   "cell_type": "code",
   "execution_count": 21,
   "metadata": {
    "collapsed": false
   },
   "outputs": [],
   "source": [
    "remaining_c = data_2000.columns.difference(['FAMI_PERSONAS_HOGAR', 'FAMI_VIVIENDA_PROPIA', 'FAMI_DEUDA_VIVIENDA', 'FAMI_LEE_ESCRIBE_PADRE',\n",
    "                     'FAMI_LEE_ESCRIBE_MADRE', 'FAMI_SOST_PERSONAL', 'ESTU_TRABAJA', 'COLE_CALENDARIO',\n",
    "                     'COLE_CARACTER'])"
   ]
  },
  {
   "cell_type": "code",
   "execution_count": 22,
   "metadata": {
    "collapsed": false
   },
   "outputs": [
    {
     "data": {
      "text/plain": [
       "Index(['COD_IDIOMA', 'COD_INTERDISCIPLINAR', 'COLE_BILINGUE', 'COLE_COD_ICFES',\n",
       "       'COLE_DEPTO_UBICACION', 'COLE_JORNADA', 'COLE_MCPIO_UBICACION',\n",
       "       'COLE_NOMBRE_SEDE', 'COLE_VALOR_PENSION', 'ESTU_ACT_PROX_ANNO',\n",
       "       'ESTU_CARRDESEADA_COD', 'ESTU_CARRDESEADA_RAZON', 'ESTU_CONSECUTIVO',\n",
       "       'ESTU_DEPTO_PRESENTACION', 'ESTU_GENERO', 'ESTU_IES_COD_DESEADA',\n",
       "       'ESTU_LIMITA_INVIDENTE', 'ESTU_LIMITA_MOTRIZ',\n",
       "       'ESTU_LIMITA_SORDOINTERPRETE', 'ESTU_LIMITA_SORDONOINTERPRETE',\n",
       "       'ESTU_MCPIO_PRESENTACION', 'ESTU_NACIMIENTO_ANNO',\n",
       "       'ESTU_NACIMIENTO_DIA', 'ESTU_NACIMIENTO_MES', 'ESTU_RAZONINSTITUTO',\n",
       "       'ESTU_RESIDE_DEPTO', 'ESTU_RESIDE_MCPIO', 'ESTU_TIPO_DOCUMENTO',\n",
       "       'FAMI_APORTANTES', 'FAMI_EDUCA_MADRE', 'FAMI_EDUCA_PADRE',\n",
       "       'FAMI_INGRESO_FMILIAR_MENSUAL', 'FAMI_NUM_HERMANOS',\n",
       "       'FAMI_NUM_HERMANOS_EDUSUPERIOR', 'FAMI_OCUPA_MADRE', 'FAMI_OCUPA_PADRE',\n",
       "       'FAMI_POSICION_HERMANOS', 'IND_ANNO_TERMINO_BACHILLERATO',\n",
       "       'PUNT_BIOLOGIA', 'PUNT_FILOSOFIA', 'PUNT_FISICA', 'PUNT_GEOGRAFIA',\n",
       "       'PUNT_HISTORIA', 'PUNT_IDIOMA', 'PUNT_INTERDISCIPLINAR',\n",
       "       'PUNT_LENGUAJE', 'PUNT_MATEMATICAS', 'PUNT_QUIMICA'],\n",
       "      dtype='object')"
      ]
     },
     "execution_count": 22,
     "metadata": {},
     "output_type": "execute_result"
    }
   ],
   "source": [
    "remaining_c"
   ]
  },
  {
   "cell_type": "markdown",
   "metadata": {},
   "source": [
    "Columnas:\n",
    "- COD_IDIOMA: BIEN, int64\n",
    "- COD_INTERDISCIPLINAR: Bien, int64\n",
    "- COLE_BILINGUE: Bien, float64\n",
    "- COLE_COD_ICFES: Bien, int64\n",
    "- COLE_DEPTO_UBICACION: Bien, **OBJECT**\n",
    "- COLE_JORNADA: Bien, **OBJECT**\n",
    "- COLE_MCPIO_UBICACION: Bien, **OBJECT**\n",
    "- COLE_NOMBRE_SEDE: Bien, **OBJECT**\n",
    "- COLE_VALOR_PENSION: existen VALORES NaN, str **REVISAR**\n",
    "- ESTU_ACT_PROX_ANNO: existen @ que se cambiaron por el valor 4 que falta, **OBJECT**\n",
    "- ESTU_CARRDESEADA_RAZON: existen valores NaN, str **REVISAR**\n",
    "- ESTU_DEPTO_PRESENTACION: Bien, **OBJECT**\n",
    "- ESTU_GENERO: Bien, **OBJECT**\n",
    "- ESTU_LIMITA_INVIDENTE: Bien, **OBJECT**, Muchos valores NaN\n",
    "- ESTU_LIMITA_MOTRIZ: Bien, **OBJECT**, Muchos valores NaN\n",
    "- ESTU_LIMITA_SORDONOINTERPRETE: Bien, **OBJECT**, Muchos valores NaN\n",
    "- ESTU_MCPIO_PRESENTACION: Bien, **OBJECT**\n",
    "- ESTU_NACIMIENTO_ANNO: Bien, Float64, Se eliminaron algunas filas porque no tenian logica (años 195, 196, 197, 198)\n",
    "- ESTU_NACIMIENTO_DIA: Bien, Float64\n",
    "- ESTU_NACIMIENTO_MES: Bien, Float64\n",
    "- ESTU_RAZONINSTITUTO: Valores 'nan', ***REVISAR***\n",
    "- ESTU_RESIDE_DEPTO: Bien, **OBJECT**\n",
    "- ESTU_RESIDE_MCPIO: Bien, **OBJECT**\n",
    "- ESTU_TIPO_DOCUMENTO: Bien, **OBJECT**\n",
    "- FAMI_APORTANTES: Bien, **OBJECT**, se eliminan las filas que poseen '@' y se cambia el '+' por '+9'\n",
    "- FAMI_EDUCA_MADRE: Bien, **OBJECT**, se eliminan las filas que poseen '@'\n",
    "- FAMI_EDUCA_PADRE: Bien, **OBJECT**, se eliminan las filas que poseen '@'\n",
    "- FAMI_INGRESO_FMILIAR_MENSUAL: Bien, **OBJECT**, se eliminan las filas que poseen '@'\n",
    "- FAMI_NUM_HERMANOS: Bien, **OBJECT**, se eliminan las filas que poseen '@' y se cambia el '+' por '+10'\n",
    "- FAMI_NUM_HERMANOS_EDUSUPERIOR: Bien, **OBJECT**, se eliminan las filas que poseen '@' y se cambia el + por '+10'\n",
    "- FAMI_OCUPA_MADRE: Bien, **OBJECT** se eliminan las filas que poseen '@'\n",
    "- FAMI_OCUPA_PADRE: Bien, **OBJECT** se eliminan las filas que poseen '@'\n",
    "- FAMI_POSICION_HERMANOS: Bien **OBJECT**, se eliminan las filas que poseen '@' y se cambia el '+' por '+10'\n",
    "- PUNT_BIOLOGIA: Bien, **OBJECT**\n",
    "- PUNT_FILOSOFIA: Bien, **OBJECT**\n",
    "- PUNT_FISICA: Bien, **OBJECT**\n",
    "- PUNT_GEOGRAFIA: Bien, **OBJECT**\n",
    "- PUNT_HISTORIA: Bien, **OBJECT**\n",
    "- PUNT_IDIOMA: Bien, **OBJECT**\n",
    "- PUNT_INTERDISCIPLINAR: Bien, **OBJECT**\n",
    "- PUNT_LENGUAJE: Bien, **OBJECT**\n",
    "- PUNT_MATEMATICAS: Bien, **OBJECT**\n",
    "- PUNT_QUIMICA: Bien, **OBJECT**\n",
    "___________________\n",
    "\n",
    "ELIMINACIONES\n",
    "\n",
    "- ESTU_CONSECUTIVO: Eliminada. no aporta para la prediccion ***ELIMINADA***\n",
    "- ESTU_CARRDESEADA_COD: Datos con errores y demasiadas inconsistencias, ***ELIMINADA***\n",
    "- ESTU_IES_COD_DESEADA: Datos con errores y demasiadas inconsistencias, ***ELIMINADA***\n",
    "- ESTU_LIMITA_SORDOINTERPRETE: No tiene valores en ninguna fila, ***ELIMINADA***\n",
    "- IND_ANNO_TERMINO_BACHILLERATO: Datos con errores y demasiadas inconsistencias. ***ELIMINADA***"
   ]
  },
  {
   "cell_type": "markdown",
   "metadata": {},
   "source": [
    "Cambio de la @ por 4 en la columna *ESTU_ACT_PROX_ANNO*"
   ]
  },
  {
   "cell_type": "code",
   "execution_count": 23,
   "metadata": {
    "collapsed": false
   },
   "outputs": [
    {
     "data": {
      "text/plain": [
       "1    19311\n",
       "2     1913\n",
       "3    55853\n",
       "@       44\n",
       "Name: ESTU_ACT_PROX_ANNO, dtype: int64"
      ]
     },
     "execution_count": 23,
     "metadata": {},
     "output_type": "execute_result"
    }
   ],
   "source": [
    "data_2000['ESTU_ACT_PROX_ANNO'].value_counts().sort_index()"
   ]
  },
  {
   "cell_type": "code",
   "execution_count": 24,
   "metadata": {
    "collapsed": false
   },
   "outputs": [],
   "source": [
    "data_2000['ESTU_ACT_PROX_ANNO'] = data_2000['ESTU_ACT_PROX_ANNO'].replace('@', '4')"
   ]
  },
  {
   "cell_type": "markdown",
   "metadata": {},
   "source": [
    "Se eliminan las lineas que tienen años invalidos"
   ]
  },
  {
   "cell_type": "code",
   "execution_count": 26,
   "metadata": {
    "collapsed": false
   },
   "outputs": [],
   "source": [
    "data_2000 = drop_lines(data_2000, 'ESTU_NACIMIENTO_ANNO', 195.0)\n",
    "data_2000 = drop_lines(data_2000, 'ESTU_NACIMIENTO_ANNO', 196.0)\n",
    "data_2000 = drop_lines(data_2000, 'ESTU_NACIMIENTO_ANNO', 197.0)\n",
    "data_2000 = drop_lines(data_2000, 'ESTU_NACIMIENTO_ANNO', 198.0)"
   ]
  },
  {
   "cell_type": "markdown",
   "metadata": {},
   "source": [
    "Se hacen los cambios segun la columna FAMI_APORTANTES"
   ]
  },
  {
   "cell_type": "code",
   "execution_count": 27,
   "metadata": {
    "collapsed": true
   },
   "outputs": [],
   "source": [
    "data_2000 = drop_lines(data_2000, 'FAMI_APORTANTES', '@')"
   ]
  },
  {
   "cell_type": "code",
   "execution_count": 28,
   "metadata": {
    "collapsed": true
   },
   "outputs": [],
   "source": [
    "data_2000['FAMI_APORTANTES'] = data_2000['FAMI_APORTANTES'].replace('+', '+9')"
   ]
  },
  {
   "cell_type": "markdown",
   "metadata": {},
   "source": [
    "Se eliminan las filas que poseen '@' FAMI_EDUCA_MADRE"
   ]
  },
  {
   "cell_type": "code",
   "execution_count": 29,
   "metadata": {
    "collapsed": true
   },
   "outputs": [],
   "source": [
    "data_2000 = drop_lines(data_2000, 'FAMI_EDUCA_MADRE', '@')"
   ]
  },
  {
   "cell_type": "markdown",
   "metadata": {},
   "source": [
    "Se eliminan las filas que poseen '@' en FAMI_EDUCA_PADRE"
   ]
  },
  {
   "cell_type": "code",
   "execution_count": 30,
   "metadata": {
    "collapsed": true
   },
   "outputs": [],
   "source": [
    "data_2000 = drop_lines(data_2000, 'FAMI_EDUCA_PADRE', '@')"
   ]
  },
  {
   "cell_type": "markdown",
   "metadata": {},
   "source": [
    "Se eliminan las filas que poseen '@' en FAMI_INGRESO_FMILIAR_MENSUAL"
   ]
  },
  {
   "cell_type": "code",
   "execution_count": 31,
   "metadata": {
    "collapsed": true
   },
   "outputs": [],
   "source": [
    "data_2000 = drop_lines(data_2000, 'FAMI_INGRESO_FMILIAR_MENSUAL', '@')"
   ]
  },
  {
   "cell_type": "markdown",
   "metadata": {},
   "source": [
    "Se eliminan las filas que poseen '@' y se cambia el '+' por '+10' en FAMI_NUM_HERMANOS"
   ]
  },
  {
   "cell_type": "code",
   "execution_count": 32,
   "metadata": {
    "collapsed": true
   },
   "outputs": [],
   "source": [
    "data_2000 = drop_lines(data_2000, 'FAMI_NUM_HERMANOS', '@')\n",
    "data_2000['FAMI_NUM_HERMANOS'] = data_2000['FAMI_NUM_HERMANOS'].replace('+', '+10')"
   ]
  },
  {
   "cell_type": "code",
   "execution_count": 33,
   "metadata": {
    "collapsed": true
   },
   "outputs": [],
   "source": [
    "#lo mismo que la anterior pero en FAMI_NUM_HERMANOS_EDUSUPERIOR\n",
    "data_2000 = drop_lines(data_2000, 'FAMI_NUM_HERMANOS_EDUSUPERIOR', '@')\n",
    "data_2000['FAMI_NUM_HERMANOS_EDUSUPERIOR'] = data_2000['FAMI_NUM_HERMANOS_EDUSUPERIOR'].replace('+', '+10')"
   ]
  },
  {
   "cell_type": "code",
   "execution_count": 34,
   "metadata": {
    "collapsed": true
   },
   "outputs": [],
   "source": [
    "#se eliminan las filas que poseen el valor '@'\n",
    "data_2000 = drop_lines(data_2000, 'FAMI_OCUPA_MADRE', '@')"
   ]
  },
  {
   "cell_type": "code",
   "execution_count": 35,
   "metadata": {
    "collapsed": true
   },
   "outputs": [],
   "source": [
    "#se eliminan las filas que poseen el valor '@'\n",
    "data_2000 = drop_lines(data_2000, 'FAMI_OCUPA_PADRE', '@')"
   ]
  },
  {
   "cell_type": "code",
   "execution_count": 36,
   "metadata": {
    "collapsed": true
   },
   "outputs": [],
   "source": [
    "#Se eliminan las filas que tienen valores '@' y se cambia '+' por '+10'\n",
    "data_2000 = drop_lines(data_2000, 'FAMI_POSICION_HERMANOS', '@')\n",
    "data_2000['FAMI_POSICION_HERMANOS'] = data_2000['FAMI_POSICION_HERMANOS'].replace('+', '+10')"
   ]
  },
  {
   "cell_type": "markdown",
   "metadata": {},
   "source": [
    "Deletion of the selected columns"
   ]
  },
  {
   "cell_type": "code",
   "execution_count": 37,
   "metadata": {
    "collapsed": true
   },
   "outputs": [],
   "source": [
    "data_2000 = data_2000.drop(['ESTU_CARRDESEADA_COD', 'ESTU_IES_COD_DESEADA', 'ESTU_LIMITA_SORDOINTERPRETE',\n",
    " 'IND_ANNO_TERMINO_BACHILLERATO'], axis=1)"
   ]
  },
  {
   "cell_type": "markdown",
   "metadata": {
    "collapsed": true
   },
   "source": [
    "# En este momento ya estaria listo el primer archivo, para su posterior uso en un modelo de prediccion"
   ]
  },
  {
   "cell_type": "code",
   "execution_count": 38,
   "metadata": {
    "collapsed": true
   },
   "outputs": [],
   "source": [
    "from sklearn.linear_model import LinearRegression"
   ]
  },
  {
   "cell_type": "code",
   "execution_count": 39,
   "metadata": {
    "collapsed": true
   },
   "outputs": [],
   "source": [
    "LR = LinearRegression()"
   ]
  },
  {
   "cell_type": "markdown",
   "metadata": {},
   "source": [
    "The data will be prepared to be splitted into **X** and **y**  \n",
    "\n",
    "The first step is encode the data. The result will be stored in a new DataFram called ***encoded_data***"
   ]
  },
  {
   "cell_type": "code",
   "execution_count": 40,
   "metadata": {
    "collapsed": false
   },
   "outputs": [],
   "source": [
    "encoded_data = label_encoder(data_2000)"
   ]
  },
  {
   "cell_type": "code",
   "execution_count": 41,
   "metadata": {
    "collapsed": false,
    "scrolled": true
   },
   "outputs": [
    {
     "data": {
      "text/plain": [
       "Index(['ESTU_CONSECUTIVO', 'COLE_COD_ICFES', 'COLE_NOMBRE_SEDE',\n",
       "       'COLE_JORNADA', 'COLE_VALOR_PENSION', 'ESTU_GENERO',\n",
       "       'ESTU_NACIMIENTO_DIA', 'ESTU_NACIMIENTO_MES', 'ESTU_NACIMIENTO_ANNO',\n",
       "       'ESTU_DEPTO_PRESENTACION', 'ESTU_MCPIO_PRESENTACION',\n",
       "       'ESTU_LIMITA_INVIDENTE', 'ESTU_LIMITA_SORDONOINTERPRETE',\n",
       "       'ESTU_LIMITA_MOTRIZ', 'PUNT_BIOLOGIA', 'PUNT_MATEMATICAS',\n",
       "       'PUNT_FILOSOFIA', 'PUNT_FISICA', 'PUNT_HISTORIA', 'PUNT_QUIMICA',\n",
       "       'PUNT_LENGUAJE', 'PUNT_GEOGRAFIA', 'COD_INTERDISCIPLINAR',\n",
       "       'PUNT_INTERDISCIPLINAR', 'COD_IDIOMA', 'PUNT_IDIOMA',\n",
       "       'ESTU_RAZONINSTITUTO', 'ESTU_CARRDESEADA_RAZON', 'FAMI_PERSONAS_HOGAR',\n",
       "       'FAMI_VIVIENDA_PROPIA', 'FAMI_DEUDA_VIVIENDA', 'FAMI_APORTANTES',\n",
       "       'FAMI_INGRESO_FMILIAR_MENSUAL', 'FAMI_LEE_ESCRIBE_PADRE',\n",
       "       'FAMI_LEE_ESCRIBE_MADRE', 'FAMI_EDUCA_PADRE', 'FAMI_EDUCA_MADRE',\n",
       "       'FAMI_OCUPA_PADRE', 'FAMI_OCUPA_MADRE', 'FAMI_NUM_HERMANOS',\n",
       "       'FAMI_NUM_HERMANOS_EDUSUPERIOR', 'FAMI_POSICION_HERMANOS',\n",
       "       'FAMI_SOST_PERSONAL', 'ESTU_TRABAJA', 'ESTU_ACT_PROX_ANNO',\n",
       "       'COLE_CALENDARIO', 'COLE_BILINGUE', 'COLE_CARACTER',\n",
       "       'COLE_DEPTO_UBICACION', 'COLE_MCPIO_UBICACION', 'ESTU_TIPO_DOCUMENTO',\n",
       "       'ESTU_RESIDE_DEPTO', 'ESTU_RESIDE_MCPIO'],\n",
       "      dtype='object')"
      ]
     },
     "execution_count": 41,
     "metadata": {},
     "output_type": "execute_result"
    }
   ],
   "source": [
    "data_2000.columns"
   ]
  },
  {
   "cell_type": "markdown",
   "metadata": {},
   "source": [
    "Now it's time to exclude columns that do not serve us for our objective as the student's consecutive.  \n",
    "Also the data is divided for train [0, 50000] and for test [50000,73570]."
   ]
  },
  {
   "cell_type": "code",
   "execution_count": 42,
   "metadata": {
    "collapsed": false
   },
   "outputs": [
    {
     "data": {
      "text/plain": [
       "(73570, 53)"
      ]
     },
     "execution_count": 42,
     "metadata": {},
     "output_type": "execute_result"
    }
   ],
   "source": [
    "data_2000.shape"
   ]
  },
  {
   "cell_type": "code",
   "execution_count": 43,
   "metadata": {
    "collapsed": false
   },
   "outputs": [],
   "source": [
    "y = encoded_data.filter(items = ['PUNT_BIOLOGIA', 'PUNT_MATEMATICAS', 'PUNT_FILOSOFIA', 'PUNT_FISICA', 'PUNT_HISTORIA',\n",
    "                     'PUNT_QUIMICA', 'PUNT_LENGUAJE', 'PUNT_GEOGRAFIA', 'PUNT_IDIOMA', 'PUNT_INTERDISCIPLINAR'], axis=1)"
   ]
  },
  {
   "cell_type": "markdown",
   "metadata": {},
   "source": [
    "So, Now I have a DataFrame with all the posible targets that will be taken into account for the work"
   ]
  },
  {
   "cell_type": "markdown",
   "metadata": {},
   "source": [
    "**Now it's time for a little test with sklearn linear regression**"
   ]
  },
  {
   "cell_type": "code",
   "execution_count": 44,
   "metadata": {
    "collapsed": true
   },
   "outputs": [],
   "source": [
    "X_train = encoded_data.loc[:50000, 'COLE_COD_ICFES':]\n",
    "y_train = y.loc[:50000, 'PUNT_MATEMATICAS']"
   ]
  },
  {
   "cell_type": "code",
   "execution_count": 45,
   "metadata": {
    "collapsed": true
   },
   "outputs": [],
   "source": [
    "\"\"\"Now it's time to drop the others subject's scores\"\"\"\n",
    "X_train = X_train.drop(['PUNT_BIOLOGIA', 'PUNT_MATEMATICAS', 'PUNT_FILOSOFIA', 'PUNT_FISICA', \n",
    "                        'PUNT_HISTORIA', 'PUNT_QUIMICA', 'PUNT_LENGUAJE', 'PUNT_GEOGRAFIA', 'PUNT_IDIOMA',\n",
    "                        'PUNT_INTERDISCIPLINAR'], axis=1)"
   ]
  },
  {
   "cell_type": "markdown",
   "metadata": {},
   "source": [
    "First try to predict one subject score"
   ]
  },
  {
   "cell_type": "code",
   "execution_count": 61,
   "metadata": {
    "collapsed": false
   },
   "outputs": [
    {
     "data": {
      "text/plain": [
       "0        NaN\n",
       "1        NaN\n",
       "2        1.0\n",
       "3        1.0\n",
       "4        1.0\n",
       "5        1.0\n",
       "6        NaN\n",
       "7        NaN\n",
       "8        NaN\n",
       "9        NaN\n",
       "10       NaN\n",
       "11       NaN\n",
       "12       NaN\n",
       "13       NaN\n",
       "14       NaN\n",
       "15       NaN\n",
       "16       NaN\n",
       "17       NaN\n",
       "18       NaN\n",
       "19       NaN\n",
       "20       NaN\n",
       "21       NaN\n",
       "22       NaN\n",
       "23       NaN\n",
       "24       NaN\n",
       "25       NaN\n",
       "26       1.0\n",
       "27       1.0\n",
       "28       NaN\n",
       "29       NaN\n",
       "        ... \n",
       "49971    NaN\n",
       "49972    NaN\n",
       "49973    NaN\n",
       "49974    NaN\n",
       "49975    NaN\n",
       "49976    NaN\n",
       "49977    NaN\n",
       "49978    NaN\n",
       "49979    NaN\n",
       "49980    NaN\n",
       "49981    NaN\n",
       "49982    NaN\n",
       "49983    NaN\n",
       "49984    NaN\n",
       "49985    NaN\n",
       "49986    NaN\n",
       "49987    NaN\n",
       "49988    NaN\n",
       "49989    NaN\n",
       "49990    NaN\n",
       "49991    NaN\n",
       "49992    NaN\n",
       "49993    NaN\n",
       "49994    NaN\n",
       "49995    NaN\n",
       "49996    NaN\n",
       "49997    NaN\n",
       "49998    NaN\n",
       "49999    NaN\n",
       "50000    NaN\n",
       "Name: COLE_BILINGUE, dtype: float64"
      ]
     },
     "execution_count": 61,
     "metadata": {},
     "output_type": "execute_result"
    }
   ],
   "source": [
    "X_train['COLE_BILINGUE']"
   ]
  },
  {
   "cell_type": "code",
   "execution_count": 46,
   "metadata": {
    "collapsed": false
   },
   "outputs": [
    {
     "ename": "ValueError",
     "evalue": "Input contains NaN, infinity or a value too large for dtype('float64').",
     "output_type": "error",
     "traceback": [
      "\u001b[1;31m---------------------------------------------------------------------------\u001b[0m",
      "\u001b[1;31mValueError\u001b[0m                                Traceback (most recent call last)",
      "\u001b[1;32m/home/Foreroo/Proyecto/New_Project/tools/label_encoder.py\u001b[0m in \u001b[0;36m<module>\u001b[1;34m()\u001b[0m\n\u001b[1;32m----> 1\u001b[1;33m \u001b[0mLR\u001b[0m\u001b[1;33m.\u001b[0m\u001b[0mfit\u001b[0m\u001b[1;33m(\u001b[0m\u001b[0mX_train\u001b[0m\u001b[1;33m,\u001b[0m \u001b[0my_train\u001b[0m\u001b[1;33m)\u001b[0m\u001b[1;33m\u001b[0m\u001b[0m\n\u001b[0m",
      "\u001b[1;32m/usr/local/anaconda3/lib/python3.5/site-packages/sklearn/linear_model/base.py\u001b[0m in \u001b[0;36mfit\u001b[1;34m(self, X, y, sample_weight)\u001b[0m\n\u001b[0;32m    425\u001b[0m         \u001b[0mn_jobs_\u001b[0m \u001b[1;33m=\u001b[0m \u001b[0mself\u001b[0m\u001b[1;33m.\u001b[0m\u001b[0mn_jobs\u001b[0m\u001b[1;33m\u001b[0m\u001b[0m\n\u001b[0;32m    426\u001b[0m         X, y = check_X_y(X, y, accept_sparse=['csr', 'csc', 'coo'],\n\u001b[1;32m--> 427\u001b[1;33m                          y_numeric=True, multi_output=True)\n\u001b[0m\u001b[0;32m    428\u001b[0m \u001b[1;33m\u001b[0m\u001b[0m\n\u001b[0;32m    429\u001b[0m         \u001b[1;32mif\u001b[0m \u001b[1;33m(\u001b[0m\u001b[1;33m(\u001b[0m\u001b[0msample_weight\u001b[0m \u001b[1;32mis\u001b[0m \u001b[1;32mnot\u001b[0m \u001b[1;32mNone\u001b[0m\u001b[1;33m)\u001b[0m \u001b[1;32mand\u001b[0m \u001b[0mnp\u001b[0m\u001b[1;33m.\u001b[0m\u001b[0matleast_1d\u001b[0m\u001b[1;33m(\u001b[0m\u001b[0msample_weight\u001b[0m\u001b[1;33m)\u001b[0m\u001b[1;33m.\u001b[0m\u001b[0mndim\u001b[0m \u001b[1;33m>\u001b[0m \u001b[1;36m1\u001b[0m\u001b[1;33m)\u001b[0m\u001b[1;33m:\u001b[0m\u001b[1;33m\u001b[0m\u001b[0m\n",
      "\u001b[1;32m/usr/local/anaconda3/lib/python3.5/site-packages/sklearn/utils/validation.py\u001b[0m in \u001b[0;36mcheck_X_y\u001b[1;34m(X, y, accept_sparse, dtype, order, copy, force_all_finite, ensure_2d, allow_nd, multi_output, ensure_min_samples, ensure_min_features, y_numeric, warn_on_dtype, estimator)\u001b[0m\n\u001b[0;32m    508\u001b[0m     X = check_array(X, accept_sparse, dtype, order, copy, force_all_finite,\n\u001b[0;32m    509\u001b[0m                     \u001b[0mensure_2d\u001b[0m\u001b[1;33m,\u001b[0m \u001b[0mallow_nd\u001b[0m\u001b[1;33m,\u001b[0m \u001b[0mensure_min_samples\u001b[0m\u001b[1;33m,\u001b[0m\u001b[1;33m\u001b[0m\u001b[0m\n\u001b[1;32m--> 510\u001b[1;33m                     ensure_min_features, warn_on_dtype, estimator)\n\u001b[0m\u001b[0;32m    511\u001b[0m     \u001b[1;32mif\u001b[0m \u001b[0mmulti_output\u001b[0m\u001b[1;33m:\u001b[0m\u001b[1;33m\u001b[0m\u001b[0m\n\u001b[0;32m    512\u001b[0m         y = check_array(y, 'csr', force_all_finite=True, ensure_2d=False,\n",
      "\u001b[1;32m/usr/local/anaconda3/lib/python3.5/site-packages/sklearn/utils/validation.py\u001b[0m in \u001b[0;36mcheck_array\u001b[1;34m(array, accept_sparse, dtype, order, copy, force_all_finite, ensure_2d, allow_nd, ensure_min_samples, ensure_min_features, warn_on_dtype, estimator)\u001b[0m\n\u001b[0;32m    396\u001b[0m                              % (array.ndim, estimator_name))\n\u001b[0;32m    397\u001b[0m         \u001b[1;32mif\u001b[0m \u001b[0mforce_all_finite\u001b[0m\u001b[1;33m:\u001b[0m\u001b[1;33m\u001b[0m\u001b[0m\n\u001b[1;32m--> 398\u001b[1;33m             \u001b[0m_assert_all_finite\u001b[0m\u001b[1;33m(\u001b[0m\u001b[0marray\u001b[0m\u001b[1;33m)\u001b[0m\u001b[1;33m\u001b[0m\u001b[0m\n\u001b[0m\u001b[0;32m    399\u001b[0m \u001b[1;33m\u001b[0m\u001b[0m\n\u001b[0;32m    400\u001b[0m     \u001b[0mshape_repr\u001b[0m \u001b[1;33m=\u001b[0m \u001b[0m_shape_repr\u001b[0m\u001b[1;33m(\u001b[0m\u001b[0marray\u001b[0m\u001b[1;33m.\u001b[0m\u001b[0mshape\u001b[0m\u001b[1;33m)\u001b[0m\u001b[1;33m\u001b[0m\u001b[0m\n",
      "\u001b[1;32m/usr/local/anaconda3/lib/python3.5/site-packages/sklearn/utils/validation.py\u001b[0m in \u001b[0;36m_assert_all_finite\u001b[1;34m(X)\u001b[0m\n\u001b[0;32m     52\u001b[0m             and not np.isfinite(X).all()):\n\u001b[0;32m     53\u001b[0m         raise ValueError(\"Input contains NaN, infinity\"\n\u001b[1;32m---> 54\u001b[1;33m                          \" or a value too large for %r.\" % X.dtype)\n\u001b[0m\u001b[0;32m     55\u001b[0m \u001b[1;33m\u001b[0m\u001b[0m\n\u001b[0;32m     56\u001b[0m \u001b[1;33m\u001b[0m\u001b[0m\n",
      "\u001b[1;31mValueError\u001b[0m: Input contains NaN, infinity or a value too large for dtype('float64')."
     ]
    }
   ],
   "source": [
    "LR.fit(X_train, y_train)"
   ]
  },
  {
   "cell_type": "code",
   "execution_count": null,
   "metadata": {
    "collapsed": true
   },
   "outputs": [],
   "source": []
  },
  {
   "cell_type": "code",
   "execution_count": null,
   "metadata": {
    "collapsed": true
   },
   "outputs": [],
   "source": []
  },
  {
   "cell_type": "code",
   "execution_count": null,
   "metadata": {
    "collapsed": true
   },
   "outputs": [],
   "source": []
  },
  {
   "cell_type": "code",
   "execution_count": null,
   "metadata": {
    "collapsed": true
   },
   "outputs": [],
   "source": []
  },
  {
   "cell_type": "code",
   "execution_count": null,
   "metadata": {
    "collapsed": true
   },
   "outputs": [],
   "source": []
  }
 ],
 "metadata": {
  "kernelspec": {
   "display_name": "Python 3 + Anaconda",
   "language": "python",
   "name": "pyconda3"
  },
  "language_info": {
   "codemirror_mode": {
    "name": "ipython",
    "version": 3
   },
   "file_extension": ".py",
   "mimetype": "text/x-python",
   "name": "python",
   "nbconvert_exporter": "python",
   "pygments_lexer": "ipython3",
   "version": "3.5.1"
  }
 },
 "nbformat": 4,
 "nbformat_minor": 0
}
