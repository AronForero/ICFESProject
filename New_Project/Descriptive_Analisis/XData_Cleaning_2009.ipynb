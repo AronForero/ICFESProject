{
 "cells": [
  {
   "cell_type": "code",
   "execution_count": 1,
   "metadata": {
    "collapsed": true
   },
   "outputs": [],
   "source": [
    "import pandas as pd\n",
    "import numpy as np\n",
    "%run -i ../tools/functions.py\n",
    "%run -i ../tools/label_encoder.py"
   ]
  },
  {
   "cell_type": "code",
   "execution_count": 2,
   "metadata": {
    "collapsed": true
   },
   "outputs": [],
   "source": [
    "data_2009 = pd.read_csv('../DatosFTPICFES/SABER11/SB11-BASES_DE_DATOS/SB11-20091-RGSTRO-CLFCCN-V1-0.txt', delimiter='|')"
   ]
  },
  {
   "cell_type": "code",
   "execution_count": 4,
   "metadata": {
    "collapsed": false
   },
   "outputs": [
    {
     "data": {
      "text/plain": [
       "(69743, 97)"
      ]
     },
     "execution_count": 4,
     "metadata": {},
     "output_type": "execute_result"
    }
   ],
   "source": [
    "data_2009.shape"
   ]
  },
  {
   "cell_type": "code",
   "execution_count": 5,
   "metadata": {
    "collapsed": false,
    "scrolled": true
   },
   "outputs": [
    {
     "data": {
      "text/html": [
       "<div>\n",
       "<table border=\"1\" class=\"dataframe\">\n",
       "  <thead>\n",
       "    <tr style=\"text-align: right;\">\n",
       "      <th></th>\n",
       "      <th>0</th>\n",
       "      <th>1</th>\n",
       "      <th>2</th>\n",
       "    </tr>\n",
       "  </thead>\n",
       "  <tbody>\n",
       "    <tr>\n",
       "      <th>ESTU_CONSECUTIVO</th>\n",
       "      <td>SB20091000001</td>\n",
       "      <td>SB20091000002</td>\n",
       "      <td>SB20091000003</td>\n",
       "    </tr>\n",
       "    <tr>\n",
       "      <th>PERIODO</th>\n",
       "      <td>20091</td>\n",
       "      <td>20091</td>\n",
       "      <td>20091</td>\n",
       "    </tr>\n",
       "    <tr>\n",
       "      <th>ESTU_TIPO_DOCUMENTO</th>\n",
       "      <td>T</td>\n",
       "      <td>T</td>\n",
       "      <td>T</td>\n",
       "    </tr>\n",
       "    <tr>\n",
       "      <th>ESTU_PAIS_RESIDE</th>\n",
       "      <td>CO</td>\n",
       "      <td>CO</td>\n",
       "      <td>CO</td>\n",
       "    </tr>\n",
       "    <tr>\n",
       "      <th>ESTU_GENERO</th>\n",
       "      <td>F</td>\n",
       "      <td>M</td>\n",
       "      <td>M</td>\n",
       "    </tr>\n",
       "    <tr>\n",
       "      <th>ESTU_NACIMIENTO_DIA</th>\n",
       "      <td>16</td>\n",
       "      <td>6</td>\n",
       "      <td>13</td>\n",
       "    </tr>\n",
       "    <tr>\n",
       "      <th>ESTU_NACIMIENTO_MES</th>\n",
       "      <td>5</td>\n",
       "      <td>11</td>\n",
       "      <td>12</td>\n",
       "    </tr>\n",
       "    <tr>\n",
       "      <th>ESTU_NACIMIENTO_ANNO</th>\n",
       "      <td>1992</td>\n",
       "      <td>1991</td>\n",
       "      <td>1991</td>\n",
       "    </tr>\n",
       "    <tr>\n",
       "      <th>ESTU_EDAD</th>\n",
       "      <td>16</td>\n",
       "      <td>17</td>\n",
       "      <td>17</td>\n",
       "    </tr>\n",
       "    <tr>\n",
       "      <th>ESTU_LIMITA_BAJAVISION</th>\n",
       "      <td>NaN</td>\n",
       "      <td>NaN</td>\n",
       "      <td>NaN</td>\n",
       "    </tr>\n",
       "    <tr>\n",
       "      <th>ESTU_LIMITA_SORDOCEGUERA</th>\n",
       "      <td>NaN</td>\n",
       "      <td>NaN</td>\n",
       "      <td>NaN</td>\n",
       "    </tr>\n",
       "    <tr>\n",
       "      <th>ESTU_LIMITA_COGNITIVA</th>\n",
       "      <td>NaN</td>\n",
       "      <td>NaN</td>\n",
       "      <td>NaN</td>\n",
       "    </tr>\n",
       "    <tr>\n",
       "      <th>ESTU_LIMITA_INVIDENTE</th>\n",
       "      <td>NaN</td>\n",
       "      <td>NaN</td>\n",
       "      <td>NaN</td>\n",
       "    </tr>\n",
       "    <tr>\n",
       "      <th>ESTU_LIMITA_MOTRIZ</th>\n",
       "      <td>NaN</td>\n",
       "      <td>NaN</td>\n",
       "      <td>NaN</td>\n",
       "    </tr>\n",
       "    <tr>\n",
       "      <th>ESTU_LIMITA_SORDOINTERPRETE</th>\n",
       "      <td>NaN</td>\n",
       "      <td>NaN</td>\n",
       "      <td>NaN</td>\n",
       "    </tr>\n",
       "    <tr>\n",
       "      <th>ESTU_LIMITA_SORDONOINTERPRETE</th>\n",
       "      <td>NaN</td>\n",
       "      <td>NaN</td>\n",
       "      <td>NaN</td>\n",
       "    </tr>\n",
       "    <tr>\n",
       "      <th>ESTU_ETNIA</th>\n",
       "      <td>NaN</td>\n",
       "      <td>NaN</td>\n",
       "      <td>NaN</td>\n",
       "    </tr>\n",
       "    <tr>\n",
       "      <th>ESTU_COD_RESIDE_MCPIO</th>\n",
       "      <td>76892</td>\n",
       "      <td>76892</td>\n",
       "      <td>76892</td>\n",
       "    </tr>\n",
       "    <tr>\n",
       "      <th>ESTU_RESIDE_MCPIO</th>\n",
       "      <td>YUMBO</td>\n",
       "      <td>YUMBO</td>\n",
       "      <td>YUMBO</td>\n",
       "    </tr>\n",
       "    <tr>\n",
       "      <th>ESTU_RESIDE_DEPTO</th>\n",
       "      <td>VALLE</td>\n",
       "      <td>VALLE</td>\n",
       "      <td>VALLE</td>\n",
       "    </tr>\n",
       "    <tr>\n",
       "      <th>ESTU_ZONA_RESIDE</th>\n",
       "      <td>10</td>\n",
       "      <td>10</td>\n",
       "      <td>10</td>\n",
       "    </tr>\n",
       "    <tr>\n",
       "      <th>ESTU_AREA_RESIDE</th>\n",
       "      <td>2</td>\n",
       "      <td>2</td>\n",
       "      <td>2</td>\n",
       "    </tr>\n",
       "    <tr>\n",
       "      <th>FAMI_EDUCA_PADRE</th>\n",
       "      <td>10</td>\n",
       "      <td>0</td>\n",
       "      <td>9</td>\n",
       "    </tr>\n",
       "    <tr>\n",
       "      <th>FAMI_EDUCA_MADRE</th>\n",
       "      <td>11</td>\n",
       "      <td>13</td>\n",
       "      <td>9</td>\n",
       "    </tr>\n",
       "    <tr>\n",
       "      <th>FAMI_OCUPA_PADRE</th>\n",
       "      <td>14</td>\n",
       "      <td>21</td>\n",
       "      <td>19</td>\n",
       "    </tr>\n",
       "    <tr>\n",
       "      <th>FAMI_OCUPA_MADRE</th>\n",
       "      <td>22</td>\n",
       "      <td>18</td>\n",
       "      <td>22</td>\n",
       "    </tr>\n",
       "    <tr>\n",
       "      <th>FAMI_EDUCA_HERMANO</th>\n",
       "      <td>88</td>\n",
       "      <td>NaN</td>\n",
       "      <td>88</td>\n",
       "    </tr>\n",
       "    <tr>\n",
       "      <th>FAMI_ESTRATO_VIVIENDA</th>\n",
       "      <td>2</td>\n",
       "      <td>1</td>\n",
       "      <td>2</td>\n",
       "    </tr>\n",
       "    <tr>\n",
       "      <th>FAMI_NIVEL_SISBEN</th>\n",
       "      <td>4</td>\n",
       "      <td>1</td>\n",
       "      <td>5</td>\n",
       "    </tr>\n",
       "    <tr>\n",
       "      <th>FAMI_PERSONAS_HOGAR</th>\n",
       "      <td>4</td>\n",
       "      <td>4</td>\n",
       "      <td>3</td>\n",
       "    </tr>\n",
       "    <tr>\n",
       "      <th>...</th>\n",
       "      <td>...</td>\n",
       "      <td>...</td>\n",
       "      <td>...</td>\n",
       "    </tr>\n",
       "    <tr>\n",
       "      <th>ESTU_VECES_ESTADO</th>\n",
       "      <td>0</td>\n",
       "      <td>1</td>\n",
       "      <td>0</td>\n",
       "    </tr>\n",
       "    <tr>\n",
       "      <th>ESTU_CARRDESEADA_TIPO</th>\n",
       "      <td>3</td>\n",
       "      <td>NaN</td>\n",
       "      <td>3</td>\n",
       "    </tr>\n",
       "    <tr>\n",
       "      <th>ESTU_CARRDESEADA_NUCLEO</th>\n",
       "      <td>42</td>\n",
       "      <td>NaN</td>\n",
       "      <td>41</td>\n",
       "    </tr>\n",
       "    <tr>\n",
       "      <th>ESTU_IES_COD_DESEADA</th>\n",
       "      <td>1203</td>\n",
       "      <td>1203</td>\n",
       "      <td>1203</td>\n",
       "    </tr>\n",
       "    <tr>\n",
       "      <th>ESTU_IES_DESEADA_NOMBRE</th>\n",
       "      <td>UNIVERSIDAD DEL VALLE</td>\n",
       "      <td>UNIVERSIDAD DEL VALLE</td>\n",
       "      <td>UNIVERSIDAD DEL VALLE</td>\n",
       "    </tr>\n",
       "    <tr>\n",
       "      <th>ESTU_IES_COD_MPIO_DESEADA</th>\n",
       "      <td>76001</td>\n",
       "      <td>76001</td>\n",
       "      <td>76001</td>\n",
       "    </tr>\n",
       "    <tr>\n",
       "      <th>ESTU_IES_MPIO_DESEADA</th>\n",
       "      <td>CALI</td>\n",
       "      <td>CALI</td>\n",
       "      <td>CALI</td>\n",
       "    </tr>\n",
       "    <tr>\n",
       "      <th>ESTU_IES_DEPT_DESEADA</th>\n",
       "      <td>VALLE</td>\n",
       "      <td>VALLE</td>\n",
       "      <td>VALLE</td>\n",
       "    </tr>\n",
       "    <tr>\n",
       "      <th>ESTU_RAZONINSTITUTO</th>\n",
       "      <td>2</td>\n",
       "      <td>3</td>\n",
       "      <td>2</td>\n",
       "    </tr>\n",
       "    <tr>\n",
       "      <th>ESTU_CARRDESEADA_COD</th>\n",
       "      <td>NaN</td>\n",
       "      <td>NaN</td>\n",
       "      <td>NaN</td>\n",
       "    </tr>\n",
       "    <tr>\n",
       "      <th>ESTU_CARRDESEADA_RAZON</th>\n",
       "      <td>3</td>\n",
       "      <td>7</td>\n",
       "      <td>1</td>\n",
       "    </tr>\n",
       "    <tr>\n",
       "      <th>ESTU_COD_MCPIO_PRESENTACION</th>\n",
       "      <td>76892</td>\n",
       "      <td>76892</td>\n",
       "      <td>76892</td>\n",
       "    </tr>\n",
       "    <tr>\n",
       "      <th>ESTU_MCPIO_PRESENTACION</th>\n",
       "      <td>YUMBO</td>\n",
       "      <td>YUMBO</td>\n",
       "      <td>YUMBO</td>\n",
       "    </tr>\n",
       "    <tr>\n",
       "      <th>ESTU_DEPTO_PRESENTACION</th>\n",
       "      <td>VALLE</td>\n",
       "      <td>VALLE</td>\n",
       "      <td>VALLE</td>\n",
       "    </tr>\n",
       "    <tr>\n",
       "      <th>ESTU_EXAM_NOMBREEXAMEN</th>\n",
       "      <td>EXAMEN DE ESTADO (ICFES)</td>\n",
       "      <td>EXAMEN DE ESTADO (ICFES)</td>\n",
       "      <td>EXAMEN DE ESTADO (ICFES)</td>\n",
       "    </tr>\n",
       "    <tr>\n",
       "      <th>PUNT_LENGUAJE</th>\n",
       "      <td>38,41</td>\n",
       "      <td>62,59</td>\n",
       "      <td>40,79</td>\n",
       "    </tr>\n",
       "    <tr>\n",
       "      <th>PUNT_MATEMATICAS</th>\n",
       "      <td>36,84</td>\n",
       "      <td>50,65</td>\n",
       "      <td>33,44</td>\n",
       "    </tr>\n",
       "    <tr>\n",
       "      <th>PUNT_C_SOCIALES</th>\n",
       "      <td>48,05</td>\n",
       "      <td>57,75</td>\n",
       "      <td>44,14</td>\n",
       "    </tr>\n",
       "    <tr>\n",
       "      <th>PUNT_FILOSOFIA</th>\n",
       "      <td>44,77</td>\n",
       "      <td>39,25</td>\n",
       "      <td>39,54</td>\n",
       "    </tr>\n",
       "    <tr>\n",
       "      <th>PUNT_BIOLOGIA</th>\n",
       "      <td>34,61</td>\n",
       "      <td>44</td>\n",
       "      <td>27,68</td>\n",
       "    </tr>\n",
       "    <tr>\n",
       "      <th>PUNT_QUIMICA</th>\n",
       "      <td>45,27</td>\n",
       "      <td>49,97</td>\n",
       "      <td>43,56</td>\n",
       "    </tr>\n",
       "    <tr>\n",
       "      <th>PUNT_FISICA</th>\n",
       "      <td>38,62</td>\n",
       "      <td>31,11</td>\n",
       "      <td>34,84</td>\n",
       "    </tr>\n",
       "    <tr>\n",
       "      <th>PUNT_INGLES</th>\n",
       "      <td>40,5</td>\n",
       "      <td>40,5</td>\n",
       "      <td>41,6</td>\n",
       "    </tr>\n",
       "    <tr>\n",
       "      <th>DESEMP_INGLES</th>\n",
       "      <td>A-</td>\n",
       "      <td>A-</td>\n",
       "      <td>A-</td>\n",
       "    </tr>\n",
       "    <tr>\n",
       "      <th>NOMBRE_PROFUNDIZACION</th>\n",
       "      <td>PROFUNDIZACIÓN EN LENGUAJE</td>\n",
       "      <td>PROFUNDIZACIÓN EN LENGUAJE</td>\n",
       "      <td>PROFUNDIZACIÓN EN BIOLOGÍA</td>\n",
       "    </tr>\n",
       "    <tr>\n",
       "      <th>PUNT_PROFUNDIZACION</th>\n",
       "      <td>4,38</td>\n",
       "      <td>4,38</td>\n",
       "      <td>4,17</td>\n",
       "    </tr>\n",
       "    <tr>\n",
       "      <th>DESEMP_PROFUNDIZACION</th>\n",
       "      <td>GB</td>\n",
       "      <td>GB</td>\n",
       "      <td>GB</td>\n",
       "    </tr>\n",
       "    <tr>\n",
       "      <th>NOMBRE_INTERDISCIPLINAR</th>\n",
       "      <td>MEDIO AMBIENTE</td>\n",
       "      <td>MEDIO AMBIENTE</td>\n",
       "      <td>VIOLENCIA Y SOCIEDAD</td>\n",
       "    </tr>\n",
       "    <tr>\n",
       "      <th>PUNT_INTERDISCIPLINAR</th>\n",
       "      <td>51,14</td>\n",
       "      <td>50,17</td>\n",
       "      <td>45,24</td>\n",
       "    </tr>\n",
       "    <tr>\n",
       "      <th>ESTU_PUESTO</th>\n",
       "      <td>794</td>\n",
       "      <td>309</td>\n",
       "      <td>893</td>\n",
       "    </tr>\n",
       "  </tbody>\n",
       "</table>\n",
       "<p>97 rows × 3 columns</p>\n",
       "</div>"
      ],
      "text/plain": [
       "                                                        0  \\\n",
       "ESTU_CONSECUTIVO                            SB20091000001   \n",
       "PERIODO                                             20091   \n",
       "ESTU_TIPO_DOCUMENTO                                     T   \n",
       "ESTU_PAIS_RESIDE                                       CO   \n",
       "ESTU_GENERO                                             F   \n",
       "ESTU_NACIMIENTO_DIA                                    16   \n",
       "ESTU_NACIMIENTO_MES                                     5   \n",
       "ESTU_NACIMIENTO_ANNO                                 1992   \n",
       "ESTU_EDAD                                              16   \n",
       "ESTU_LIMITA_BAJAVISION                                NaN   \n",
       "ESTU_LIMITA_SORDOCEGUERA                              NaN   \n",
       "ESTU_LIMITA_COGNITIVA                                 NaN   \n",
       "ESTU_LIMITA_INVIDENTE                                 NaN   \n",
       "ESTU_LIMITA_MOTRIZ                                    NaN   \n",
       "ESTU_LIMITA_SORDOINTERPRETE                           NaN   \n",
       "ESTU_LIMITA_SORDONOINTERPRETE                         NaN   \n",
       "ESTU_ETNIA                                            NaN   \n",
       "ESTU_COD_RESIDE_MCPIO                               76892   \n",
       "ESTU_RESIDE_MCPIO                                   YUMBO   \n",
       "ESTU_RESIDE_DEPTO                                   VALLE   \n",
       "ESTU_ZONA_RESIDE                                       10   \n",
       "ESTU_AREA_RESIDE                                        2   \n",
       "FAMI_EDUCA_PADRE                                       10   \n",
       "FAMI_EDUCA_MADRE                                       11   \n",
       "FAMI_OCUPA_PADRE                                       14   \n",
       "FAMI_OCUPA_MADRE                                       22   \n",
       "FAMI_EDUCA_HERMANO                                     88   \n",
       "FAMI_ESTRATO_VIVIENDA                                   2   \n",
       "FAMI_NIVEL_SISBEN                                       4   \n",
       "FAMI_PERSONAS_HOGAR                                     4   \n",
       "...                                                   ...   \n",
       "ESTU_VECES_ESTADO                                       0   \n",
       "ESTU_CARRDESEADA_TIPO                                   3   \n",
       "ESTU_CARRDESEADA_NUCLEO                                42   \n",
       "ESTU_IES_COD_DESEADA                                 1203   \n",
       "ESTU_IES_DESEADA_NOMBRE             UNIVERSIDAD DEL VALLE   \n",
       "ESTU_IES_COD_MPIO_DESEADA                           76001   \n",
       "ESTU_IES_MPIO_DESEADA                                CALI   \n",
       "ESTU_IES_DEPT_DESEADA                               VALLE   \n",
       "ESTU_RAZONINSTITUTO                                     2   \n",
       "ESTU_CARRDESEADA_COD                                  NaN   \n",
       "ESTU_CARRDESEADA_RAZON                                  3   \n",
       "ESTU_COD_MCPIO_PRESENTACION                         76892   \n",
       "ESTU_MCPIO_PRESENTACION                             YUMBO   \n",
       "ESTU_DEPTO_PRESENTACION                             VALLE   \n",
       "ESTU_EXAM_NOMBREEXAMEN           EXAMEN DE ESTADO (ICFES)   \n",
       "PUNT_LENGUAJE                                       38,41   \n",
       "PUNT_MATEMATICAS                                    36,84   \n",
       "PUNT_C_SOCIALES                                     48,05   \n",
       "PUNT_FILOSOFIA                                      44,77   \n",
       "PUNT_BIOLOGIA                                       34,61   \n",
       "PUNT_QUIMICA                                        45,27   \n",
       "PUNT_FISICA                                         38,62   \n",
       "PUNT_INGLES                                          40,5   \n",
       "DESEMP_INGLES                                         A-    \n",
       "NOMBRE_PROFUNDIZACION          PROFUNDIZACIÓN EN LENGUAJE   \n",
       "PUNT_PROFUNDIZACION                                  4,38   \n",
       "DESEMP_PROFUNDIZACION                                  GB   \n",
       "NOMBRE_INTERDISCIPLINAR                    MEDIO AMBIENTE   \n",
       "PUNT_INTERDISCIPLINAR                               51,14   \n",
       "ESTU_PUESTO                                           794   \n",
       "\n",
       "                                                        1  \\\n",
       "ESTU_CONSECUTIVO                            SB20091000002   \n",
       "PERIODO                                             20091   \n",
       "ESTU_TIPO_DOCUMENTO                                     T   \n",
       "ESTU_PAIS_RESIDE                                       CO   \n",
       "ESTU_GENERO                                             M   \n",
       "ESTU_NACIMIENTO_DIA                                     6   \n",
       "ESTU_NACIMIENTO_MES                                    11   \n",
       "ESTU_NACIMIENTO_ANNO                                 1991   \n",
       "ESTU_EDAD                                              17   \n",
       "ESTU_LIMITA_BAJAVISION                                NaN   \n",
       "ESTU_LIMITA_SORDOCEGUERA                              NaN   \n",
       "ESTU_LIMITA_COGNITIVA                                 NaN   \n",
       "ESTU_LIMITA_INVIDENTE                                 NaN   \n",
       "ESTU_LIMITA_MOTRIZ                                    NaN   \n",
       "ESTU_LIMITA_SORDOINTERPRETE                           NaN   \n",
       "ESTU_LIMITA_SORDONOINTERPRETE                         NaN   \n",
       "ESTU_ETNIA                                            NaN   \n",
       "ESTU_COD_RESIDE_MCPIO                               76892   \n",
       "ESTU_RESIDE_MCPIO                                   YUMBO   \n",
       "ESTU_RESIDE_DEPTO                                   VALLE   \n",
       "ESTU_ZONA_RESIDE                                       10   \n",
       "ESTU_AREA_RESIDE                                        2   \n",
       "FAMI_EDUCA_PADRE                                        0   \n",
       "FAMI_EDUCA_MADRE                                       13   \n",
       "FAMI_OCUPA_PADRE                                       21   \n",
       "FAMI_OCUPA_MADRE                                       18   \n",
       "FAMI_EDUCA_HERMANO                                    NaN   \n",
       "FAMI_ESTRATO_VIVIENDA                                   1   \n",
       "FAMI_NIVEL_SISBEN                                       1   \n",
       "FAMI_PERSONAS_HOGAR                                     4   \n",
       "...                                                   ...   \n",
       "ESTU_VECES_ESTADO                                       1   \n",
       "ESTU_CARRDESEADA_TIPO                                 NaN   \n",
       "ESTU_CARRDESEADA_NUCLEO                               NaN   \n",
       "ESTU_IES_COD_DESEADA                                 1203   \n",
       "ESTU_IES_DESEADA_NOMBRE             UNIVERSIDAD DEL VALLE   \n",
       "ESTU_IES_COD_MPIO_DESEADA                           76001   \n",
       "ESTU_IES_MPIO_DESEADA                                CALI   \n",
       "ESTU_IES_DEPT_DESEADA                               VALLE   \n",
       "ESTU_RAZONINSTITUTO                                     3   \n",
       "ESTU_CARRDESEADA_COD                                  NaN   \n",
       "ESTU_CARRDESEADA_RAZON                                  7   \n",
       "ESTU_COD_MCPIO_PRESENTACION                         76892   \n",
       "ESTU_MCPIO_PRESENTACION                             YUMBO   \n",
       "ESTU_DEPTO_PRESENTACION                             VALLE   \n",
       "ESTU_EXAM_NOMBREEXAMEN           EXAMEN DE ESTADO (ICFES)   \n",
       "PUNT_LENGUAJE                                       62,59   \n",
       "PUNT_MATEMATICAS                                    50,65   \n",
       "PUNT_C_SOCIALES                                     57,75   \n",
       "PUNT_FILOSOFIA                                      39,25   \n",
       "PUNT_BIOLOGIA                                          44   \n",
       "PUNT_QUIMICA                                        49,97   \n",
       "PUNT_FISICA                                         31,11   \n",
       "PUNT_INGLES                                          40,5   \n",
       "DESEMP_INGLES                                         A-    \n",
       "NOMBRE_PROFUNDIZACION          PROFUNDIZACIÓN EN LENGUAJE   \n",
       "PUNT_PROFUNDIZACION                                  4,38   \n",
       "DESEMP_PROFUNDIZACION                                  GB   \n",
       "NOMBRE_INTERDISCIPLINAR                    MEDIO AMBIENTE   \n",
       "PUNT_INTERDISCIPLINAR                               50,17   \n",
       "ESTU_PUESTO                                           309   \n",
       "\n",
       "                                                        2  \n",
       "ESTU_CONSECUTIVO                            SB20091000003  \n",
       "PERIODO                                             20091  \n",
       "ESTU_TIPO_DOCUMENTO                                     T  \n",
       "ESTU_PAIS_RESIDE                                       CO  \n",
       "ESTU_GENERO                                             M  \n",
       "ESTU_NACIMIENTO_DIA                                    13  \n",
       "ESTU_NACIMIENTO_MES                                    12  \n",
       "ESTU_NACIMIENTO_ANNO                                 1991  \n",
       "ESTU_EDAD                                              17  \n",
       "ESTU_LIMITA_BAJAVISION                                NaN  \n",
       "ESTU_LIMITA_SORDOCEGUERA                              NaN  \n",
       "ESTU_LIMITA_COGNITIVA                                 NaN  \n",
       "ESTU_LIMITA_INVIDENTE                                 NaN  \n",
       "ESTU_LIMITA_MOTRIZ                                    NaN  \n",
       "ESTU_LIMITA_SORDOINTERPRETE                           NaN  \n",
       "ESTU_LIMITA_SORDONOINTERPRETE                         NaN  \n",
       "ESTU_ETNIA                                            NaN  \n",
       "ESTU_COD_RESIDE_MCPIO                               76892  \n",
       "ESTU_RESIDE_MCPIO                                   YUMBO  \n",
       "ESTU_RESIDE_DEPTO                                   VALLE  \n",
       "ESTU_ZONA_RESIDE                                       10  \n",
       "ESTU_AREA_RESIDE                                        2  \n",
       "FAMI_EDUCA_PADRE                                        9  \n",
       "FAMI_EDUCA_MADRE                                        9  \n",
       "FAMI_OCUPA_PADRE                                       19  \n",
       "FAMI_OCUPA_MADRE                                       22  \n",
       "FAMI_EDUCA_HERMANO                                     88  \n",
       "FAMI_ESTRATO_VIVIENDA                                   2  \n",
       "FAMI_NIVEL_SISBEN                                       5  \n",
       "FAMI_PERSONAS_HOGAR                                     3  \n",
       "...                                                   ...  \n",
       "ESTU_VECES_ESTADO                                       0  \n",
       "ESTU_CARRDESEADA_TIPO                                   3  \n",
       "ESTU_CARRDESEADA_NUCLEO                                41  \n",
       "ESTU_IES_COD_DESEADA                                 1203  \n",
       "ESTU_IES_DESEADA_NOMBRE             UNIVERSIDAD DEL VALLE  \n",
       "ESTU_IES_COD_MPIO_DESEADA                           76001  \n",
       "ESTU_IES_MPIO_DESEADA                                CALI  \n",
       "ESTU_IES_DEPT_DESEADA                               VALLE  \n",
       "ESTU_RAZONINSTITUTO                                     2  \n",
       "ESTU_CARRDESEADA_COD                                  NaN  \n",
       "ESTU_CARRDESEADA_RAZON                                  1  \n",
       "ESTU_COD_MCPIO_PRESENTACION                         76892  \n",
       "ESTU_MCPIO_PRESENTACION                             YUMBO  \n",
       "ESTU_DEPTO_PRESENTACION                             VALLE  \n",
       "ESTU_EXAM_NOMBREEXAMEN           EXAMEN DE ESTADO (ICFES)  \n",
       "PUNT_LENGUAJE                                       40,79  \n",
       "PUNT_MATEMATICAS                                    33,44  \n",
       "PUNT_C_SOCIALES                                     44,14  \n",
       "PUNT_FILOSOFIA                                      39,54  \n",
       "PUNT_BIOLOGIA                                       27,68  \n",
       "PUNT_QUIMICA                                        43,56  \n",
       "PUNT_FISICA                                         34,84  \n",
       "PUNT_INGLES                                          41,6  \n",
       "DESEMP_INGLES                                         A-   \n",
       "NOMBRE_PROFUNDIZACION          PROFUNDIZACIÓN EN BIOLOGÍA  \n",
       "PUNT_PROFUNDIZACION                                  4,17  \n",
       "DESEMP_PROFUNDIZACION                                  GB  \n",
       "NOMBRE_INTERDISCIPLINAR              VIOLENCIA Y SOCIEDAD  \n",
       "PUNT_INTERDISCIPLINAR                               45,24  \n",
       "ESTU_PUESTO                                           893  \n",
       "\n",
       "[97 rows x 3 columns]"
      ]
     },
     "execution_count": 5,
     "metadata": {},
     "output_type": "execute_result"
    }
   ],
   "source": [
    "data_2009.head(3).T"
   ]
  },
  {
   "cell_type": "code",
   "execution_count": 7,
   "metadata": {
    "collapsed": true
   },
   "outputs": [],
   "source": [
    "data_2009 = data_2009.drop(['ESTU_CONSECUTIVO', 'PERIODO', 'ESTU_TIPO_DOCUMENTO', 'ESTU_COD_RESIDE_MCPIO',\n",
    "                           'COLE_NOMBRE_SEDE', 'ESTU_IES_DESEADA_NOMBRE', 'ESTU_IES_COD_MPIO_DESEADA',\n",
    "                           'ESTU_COD_MCPIO_PRESENTACION', 'ESTU_EXAM_NOMBREEXAMEN'], axis=1)"
   ]
  },
  {
   "cell_type": "code",
   "execution_count": null,
   "metadata": {
    "collapsed": true
   },
   "outputs": [],
   "source": [
    "c = 'ESTU_PAIS_RESIDE'\n",
    "print(data_2006[c].value_counts().sort_index().index)\n",
    "print(data_2006[c].value_counts().sort_index())\n",
    "print(missing_data(data_2006[c]))"
   ]
  },
  {
   "cell_type": "code",
   "execution_count": null,
   "metadata": {
    "collapsed": true
   },
   "outputs": [],
   "source": [
    "c = 'ESTU_GENERO'\n",
    "print(data_2006[c].value_counts().sort_index().index)\n",
    "print(data_2006[c].value_counts().sort_index())\n",
    "print(missing_data(data_2006[c]))"
   ]
  },
  {
   "cell_type": "code",
   "execution_count": null,
   "metadata": {
    "collapsed": true
   },
   "outputs": [],
   "source": [
    "c = 'ESTU_NACIMIENTO_DIA'\n",
    "print(data_2006[c].value_counts().sort_index().index)\n",
    "print(data_2006[c].value_counts().sort_index())\n",
    "print(missing_data(data_2006[c]))"
   ]
  },
  {
   "cell_type": "code",
   "execution_count": null,
   "metadata": {
    "collapsed": true
   },
   "outputs": [],
   "source": [
    "c = 'ESTU_NACIMIENTO_MES'\n",
    "print(data_2006[c].value_counts().sort_index().index)\n",
    "print(data_2006[c].value_counts().sort_index())\n",
    "print(missing_data(data_2006[c]))"
   ]
  },
  {
   "cell_type": "code",
   "execution_count": null,
   "metadata": {
    "collapsed": true
   },
   "outputs": [],
   "source": [
    "c = 'ESTU_NACIMIENTO_ANNO'\n",
    "print(data_2006[c].value_counts().sort_index().index)\n",
    "print(data_2006[c].value_counts().sort_index())\n",
    "print(missing_data(data_2006[c]))"
   ]
  },
  {
   "cell_type": "code",
   "execution_count": null,
   "metadata": {
    "collapsed": true
   },
   "outputs": [],
   "source": [
    "c = 'ESTU_EDAD'\n",
    "print(data_2006[c].value_counts().sort_index().index)\n",
    "print(data_2006[c].value_counts().sort_index())\n",
    "print(missing_data(data_2006[c]))"
   ]
  },
  {
   "cell_type": "code",
   "execution_count": null,
   "metadata": {
    "collapsed": true
   },
   "outputs": [],
   "source": [
    "c = 'ESTU_LIMITA_BAJAVISION'\n",
    "print(data_2006[c].value_counts().sort_index().index)\n",
    "print(data_2006[c].value_counts().sort_index())\n",
    "print(missing_data(data_2006[c]))"
   ]
  },
  {
   "cell_type": "code",
   "execution_count": null,
   "metadata": {
    "collapsed": true
   },
   "outputs": [],
   "source": [
    "c = 'ESTU_LIMITA_SORDOCEGUERA'\n",
    "print(data_2006[c].value_counts().sort_index().index)\n",
    "print(data_2006[c].value_counts().sort_index())\n",
    "print(missing_data(data_2006[c]))"
   ]
  },
  {
   "cell_type": "code",
   "execution_count": null,
   "metadata": {
    "collapsed": true
   },
   "outputs": [],
   "source": [
    "c = 'ESTU_LIMITA_COGNITIVA'\n",
    "print(data_2006[c].value_counts().sort_index().index)\n",
    "print(data_2006[c].value_counts().sort_index())\n",
    "print(missing_data(data_2006[c]))"
   ]
  },
  {
   "cell_type": "code",
   "execution_count": null,
   "metadata": {
    "collapsed": true
   },
   "outputs": [],
   "source": [
    "c = 'ESTU_LIMITA_INVIDENTE'\n",
    "print(data_2006[c].value_counts().sort_index().index)\n",
    "print(data_2006[c].value_counts().sort_index())\n",
    "print(missing_data(data_2006[c]))"
   ]
  },
  {
   "cell_type": "code",
   "execution_count": null,
   "metadata": {
    "collapsed": true
   },
   "outputs": [],
   "source": [
    "c = 'ESTU_LIMITA_MOTRIZ'\n",
    "print(data_2006[c].value_counts().sort_index().index)\n",
    "print(data_2006[c].value_counts().sort_index())\n",
    "print(missing_data(data_2006[c]))"
   ]
  },
  {
   "cell_type": "code",
   "execution_count": null,
   "metadata": {
    "collapsed": true
   },
   "outputs": [],
   "source": [
    "c = 'ESTU_LIMITA_SORDOINTERPRETE'\n",
    "print(data_2006[c].value_counts().sort_index().index)\n",
    "print(data_2006[c].value_counts().sort_index())\n",
    "print(missing_data(data_2006[c]))"
   ]
  },
  {
   "cell_type": "code",
   "execution_count": null,
   "metadata": {
    "collapsed": true
   },
   "outputs": [],
   "source": [
    "c = 'ESTU_LIMITA_SORDONOINTERPRETE'\n",
    "print(data_2006[c].value_counts().sort_index().index)\n",
    "print(data_2006[c].value_counts().sort_index())\n",
    "print(missing_data(data_2006[c]))"
   ]
  },
  {
   "cell_type": "code",
   "execution_count": null,
   "metadata": {
    "collapsed": true
   },
   "outputs": [],
   "source": [
    "c = 'ESTU_ETNIA'\n",
    "print(data_2006[c].value_counts().sort_index().index)\n",
    "print(data_2006[c].value_counts().sort_index())\n",
    "print(missing_data(data_2006[c]))"
   ]
  },
  {
   "cell_type": "code",
   "execution_count": null,
   "metadata": {
    "collapsed": true
   },
   "outputs": [],
   "source": [
    "c = 'ESTU_RESIDE_MCPIO'\n",
    "print(data_2006[c].value_counts().sort_index().index)\n",
    "print(data_2006[c].value_counts().sort_index())\n",
    "print(missing_data(data_2006[c]))"
   ]
  },
  {
   "cell_type": "code",
   "execution_count": null,
   "metadata": {
    "collapsed": true
   },
   "outputs": [],
   "source": [
    "c = 'ESTU_RESIDE_DEPTO'\n",
    "print(data_2006[c].value_counts().sort_index().index)\n",
    "print(data_2006[c].value_counts().sort_index())\n",
    "print(missing_data(data_2006[c]))"
   ]
  },
  {
   "cell_type": "code",
   "execution_count": null,
   "metadata": {
    "collapsed": true
   },
   "outputs": [],
   "source": [
    "c = 'ESTU_ZONA_RESIDE'\n",
    "print(data_2006[c].value_counts().sort_index().index)\n",
    "print(data_2006[c].value_counts().sort_index())\n",
    "print(missing_data(data_2006[c]))"
   ]
  },
  {
   "cell_type": "code",
   "execution_count": null,
   "metadata": {
    "collapsed": true
   },
   "outputs": [],
   "source": [
    "c = 'ESTU_AREA_RESIDE'\n",
    "print(data_2006[c].value_counts().sort_index().index)\n",
    "print(data_2006[c].value_counts().sort_index())\n",
    "print(missing_data(data_2006[c]))"
   ]
  },
  {
   "cell_type": "code",
   "execution_count": null,
   "metadata": {
    "collapsed": true
   },
   "outputs": [],
   "source": [
    "c = 'FAMI_EDUCA_PADRE'\n",
    "print(data_2006[c].value_counts().sort_index().index)\n",
    "print(data_2006[c].value_counts().sort_index())\n",
    "print(missing_data(data_2006[c]))"
   ]
  },
  {
   "cell_type": "code",
   "execution_count": null,
   "metadata": {
    "collapsed": true
   },
   "outputs": [],
   "source": [
    "c = 'FAMI_EDUCA_MADRE'\n",
    "print(data_2006[c].value_counts().sort_index().index)\n",
    "print(data_2006[c].value_counts().sort_index())\n",
    "print(missing_data(data_2006[c]))"
   ]
  },
  {
   "cell_type": "code",
   "execution_count": null,
   "metadata": {
    "collapsed": true
   },
   "outputs": [],
   "source": [
    "c = 'FAMI_OCUPA_PADRE'\n",
    "print(data_2006[c].value_counts().sort_index().index)\n",
    "print(data_2006[c].value_counts().sort_index())\n",
    "print(missing_data(data_2006[c]))"
   ]
  },
  {
   "cell_type": "code",
   "execution_count": null,
   "metadata": {
    "collapsed": true
   },
   "outputs": [],
   "source": [
    "c = 'FAMI_OCUPA_MADRE'\n",
    "print(data_2006[c].value_counts().sort_index().index)\n",
    "print(data_2006[c].value_counts().sort_index())\n",
    "print(missing_data(data_2006[c]))"
   ]
  },
  {
   "cell_type": "code",
   "execution_count": null,
   "metadata": {
    "collapsed": true
   },
   "outputs": [],
   "source": [
    "c = 'FAMI_EDUCA_HERMANO'\n",
    "print(data_2006[c].value_counts().sort_index().index)\n",
    "print(data_2006[c].value_counts().sort_index())\n",
    "print(missing_data(data_2006[c]))"
   ]
  },
  {
   "cell_type": "code",
   "execution_count": null,
   "metadata": {
    "collapsed": true
   },
   "outputs": [],
   "source": [
    "c = 'FAMI_ESTRATO_VIVIENDA'\n",
    "print(data_2006[c].value_counts().sort_index().index)\n",
    "print(data_2006[c].value_counts().sort_index())\n",
    "print(missing_data(data_2006[c]))"
   ]
  },
  {
   "cell_type": "code",
   "execution_count": null,
   "metadata": {
    "collapsed": true
   },
   "outputs": [],
   "source": [
    "c = 'FAMI_NIVEL_SISBEN'\n",
    "print(data_2006[c].value_counts().sort_index().index)\n",
    "print(data_2006[c].value_counts().sort_index())\n",
    "print(missing_data(data_2006[c]))"
   ]
  },
  {
   "cell_type": "code",
   "execution_count": null,
   "metadata": {
    "collapsed": true
   },
   "outputs": [],
   "source": [
    "c = 'FAMI_PERSONAS_HOGAR'\n",
    "print(data_2006[c].value_counts().sort_index().index)\n",
    "print(data_2006[c].value_counts().sort_index())\n",
    "print(missing_data(data_2006[c]))"
   ]
  },
  {
   "cell_type": "code",
   "execution_count": null,
   "metadata": {
    "collapsed": true
   },
   "outputs": [],
   "source": [
    "c = 'FAMI_CUARTOS_HOGAR'\n",
    "print(data_2006[c].value_counts().sort_index().index)\n",
    "print(data_2006[c].value_counts().sort_index())\n",
    "print(missing_data(data_2006[c]))"
   ]
  },
  {
   "cell_type": "code",
   "execution_count": null,
   "metadata": {
    "collapsed": true
   },
   "outputs": [],
   "source": [
    "c = 'FAMI_DORMITORIOS_HOGAR'\n",
    "print(data_2006[c].value_counts().sort_index().index)\n",
    "print(data_2006[c].value_counts().sort_index())\n",
    "print(missing_data(data_2006[c]))"
   ]
  },
  {
   "cell_type": "code",
   "execution_count": null,
   "metadata": {
    "collapsed": true
   },
   "outputs": [],
   "source": [
    "c = 'FAMI_PISOSHOGAR'\n",
    "print(data_2006[c].value_counts().sort_index().index)\n",
    "print(data_2006[c].value_counts().sort_index())\n",
    "print(missing_data(data_2006[c]))"
   ]
  },
  {
   "cell_type": "code",
   "execution_count": null,
   "metadata": {
    "collapsed": true
   },
   "outputs": [],
   "source": [
    "c = 'FAMI_SANITARIO'\n",
    "print(data_2006[c].value_counts().sort_index().index)\n",
    "print(data_2006[c].value_counts().sort_index())\n",
    "print(missing_data(data_2006[c]))"
   ]
  },
  {
   "cell_type": "code",
   "execution_count": null,
   "metadata": {
    "collapsed": true
   },
   "outputs": [],
   "source": [
    "c = 'FAMI_CONEXION_SANITARIO'\n",
    "print(data_2006[c].value_counts().sort_index().index)\n",
    "print(data_2006[c].value_counts().sort_index())\n",
    "print(missing_data(data_2006[c]))"
   ]
  },
  {
   "cell_type": "code",
   "execution_count": null,
   "metadata": {
    "collapsed": true
   },
   "outputs": [],
   "source": [
    "c = 'FAMI_ELECTRICIDAD'\n",
    "print(data_2006[c].value_counts().sort_index().index)\n",
    "print(data_2006[c].value_counts().sort_index())\n",
    "print(missing_data(data_2006[c]))"
   ]
  },
  {
   "cell_type": "code",
   "execution_count": null,
   "metadata": {
    "collapsed": true
   },
   "outputs": [],
   "source": [
    "c = 'FAMI_ACUEDUCTO'\n",
    "print(data_2006[c].value_counts().sort_index().index)\n",
    "print(data_2006[c].value_counts().sort_index())\n",
    "print(missing_data(data_2006[c]))"
   ]
  },
  {
   "cell_type": "code",
   "execution_count": null,
   "metadata": {
    "collapsed": true
   },
   "outputs": [],
   "source": [
    "c = 'FAMI_ALCANTARILLADO'\n",
    "print(data_2006[c].value_counts().sort_index().index)\n",
    "print(data_2006[c].value_counts().sort_index())\n",
    "print(missing_data(data_2006[c]))"
   ]
  },
  {
   "cell_type": "code",
   "execution_count": null,
   "metadata": {
    "collapsed": true
   },
   "outputs": [],
   "source": [
    "c = 'FAMI_TELEFONO_FIJO'\n",
    "print(data_2006[c].value_counts().sort_index().index)\n",
    "print(data_2006[c].value_counts().sort_index())\n",
    "print(missing_data(data_2006[c]))"
   ]
  },
  {
   "cell_type": "code",
   "execution_count": null,
   "metadata": {
    "collapsed": true
   },
   "outputs": [],
   "source": [
    "c = 'FAMI_ASEO'\n",
    "print(data_2006[c].value_counts().sort_index().index)\n",
    "print(data_2006[c].value_counts().sort_index())\n",
    "print(missing_data(data_2006[c]))"
   ]
  },
  {
   "cell_type": "code",
   "execution_count": null,
   "metadata": {
    "collapsed": true
   },
   "outputs": [],
   "source": [
    "c = 'FAMI_INTERNET'\n",
    "print(data_2006[c].value_counts().sort_index().index)\n",
    "print(data_2006[c].value_counts().sort_index())\n",
    "print(missing_data(data_2006[c]))"
   ]
  },
  {
   "cell_type": "code",
   "execution_count": null,
   "metadata": {
    "collapsed": true
   },
   "outputs": [],
   "source": [
    "c = 'FAMI_SERVICIO_TELEVISION'\n",
    "print(data_2006[c].value_counts().sort_index().index)\n",
    "print(data_2006[c].value_counts().sort_index())\n",
    "print(missing_data(data_2006[c]))"
   ]
  },
  {
   "cell_type": "code",
   "execution_count": null,
   "metadata": {
    "collapsed": true
   },
   "outputs": [],
   "source": [
    "c = 'FAMI_COMPUTADOR'\n",
    "print(data_2006[c].value_counts().sort_index().index)\n",
    "print(data_2006[c].value_counts().sort_index())\n",
    "print(missing_data(data_2006[c]))"
   ]
  },
  {
   "cell_type": "code",
   "execution_count": null,
   "metadata": {
    "collapsed": true
   },
   "outputs": [],
   "source": [
    "c = 'FAMI_TELEVISOR'\n",
    "print(data_2006[c].value_counts().sort_index().index)\n",
    "print(data_2006[c].value_counts().sort_index())\n",
    "print(missing_data(data_2006[c]))"
   ]
  },
  {
   "cell_type": "code",
   "execution_count": null,
   "metadata": {
    "collapsed": true
   },
   "outputs": [],
   "source": [
    "c = 'FAMI_DVD'\n",
    "print(data_2006[c].value_counts().sort_index().index)\n",
    "print(data_2006[c].value_counts().sort_index())\n",
    "print(missing_data(data_2006[c]))"
   ]
  },
  {
   "cell_type": "code",
   "execution_count": null,
   "metadata": {
    "collapsed": true
   },
   "outputs": [],
   "source": [
    "c = 'FAMI_AUTOMOVIL'\n",
    "print(data_2006[c].value_counts().sort_index().index)\n",
    "print(data_2006[c].value_counts().sort_index())\n",
    "print(missing_data(data_2006[c]))"
   ]
  },
  {
   "cell_type": "code",
   "execution_count": null,
   "metadata": {
    "collapsed": true
   },
   "outputs": [],
   "source": [
    "c = 'FAMI_LAVADORA'\n",
    "print(data_2006[c].value_counts().sort_index().index)\n",
    "print(data_2006[c].value_counts().sort_index())\n",
    "print(missing_data(data_2006[c]))"
   ]
  },
  {
   "cell_type": "code",
   "execution_count": null,
   "metadata": {
    "collapsed": true
   },
   "outputs": [],
   "source": [
    "c = 'FAMI_HORNO'\n",
    "print(data_2006[c].value_counts().sort_index().index)\n",
    "print(data_2006[c].value_counts().sort_index())\n",
    "print(missing_data(data_2006[c]))"
   ]
  },
  {
   "cell_type": "code",
   "execution_count": null,
   "metadata": {
    "collapsed": true
   },
   "outputs": [],
   "source": [
    "c = 'FAMI_MICROONDAS'\n",
    "print(data_2006[c].value_counts().sort_index().index)\n",
    "print(data_2006[c].value_counts().sort_index())\n",
    "print(missing_data(data_2006[c]))"
   ]
  },
  {
   "cell_type": "code",
   "execution_count": null,
   "metadata": {
    "collapsed": true
   },
   "outputs": [],
   "source": [
    "c = 'FAMI_NEVERA'\n",
    "print(data_2006[c].value_counts().sort_index().index)\n",
    "print(data_2006[c].value_counts().sort_index())\n",
    "print(missing_data(data_2006[c]))"
   ]
  },
  {
   "cell_type": "code",
   "execution_count": null,
   "metadata": {
    "collapsed": true
   },
   "outputs": [],
   "source": [
    "c = 'FAMI_ESTUFA'\n",
    "print(data_2006[c].value_counts().sort_index().index)\n",
    "print(data_2006[c].value_counts().sort_index())\n",
    "print(missing_data(data_2006[c]))"
   ]
  },
  {
   "cell_type": "code",
   "execution_count": null,
   "metadata": {
    "collapsed": true
   },
   "outputs": [],
   "source": [
    "c = 'FAMI_INGRESO_FMILIAR_MENSUAL'\n",
    "print(data_2006[c].value_counts().sort_index().index)\n",
    "print(data_2006[c].value_counts().sort_index())\n",
    "print(missing_data(data_2006[c]))"
   ]
  },
  {
   "cell_type": "code",
   "execution_count": null,
   "metadata": {
    "collapsed": true
   },
   "outputs": [],
   "source": [
    "c = 'ESTU_TRABAJA'\n",
    "print(data_2006[c].value_counts().sort_index().index)\n",
    "print(data_2006[c].value_counts().sort_index())\n",
    "print(missing_data(data_2006[c]))"
   ]
  },
  {
   "cell_type": "code",
   "execution_count": null,
   "metadata": {
    "collapsed": true
   },
   "outputs": [],
   "source": [
    "c = 'ESTU_HORAS_TRABAJA'\n",
    "print(data_2006[c].value_counts().sort_index().index)\n",
    "print(data_2006[c].value_counts().sort_index())\n",
    "print(missing_data(data_2006[c]))"
   ]
  },
  {
   "cell_type": "code",
   "execution_count": null,
   "metadata": {
    "collapsed": true
   },
   "outputs": [],
   "source": [
    "c = 'COLE_VALOR_PENSION'\n",
    "print(data_2006[c].value_counts().sort_index().index)\n",
    "print(data_2006[c].value_counts().sort_index())\n",
    "print(missing_data(data_2006[c]))"
   ]
  },
  {
   "cell_type": "code",
   "execution_count": null,
   "metadata": {
    "collapsed": true
   },
   "outputs": [],
   "source": [
    "c = 'IND_ANNO_TERMINO_BACHILLERATO'\n",
    "print(data_2006[c].value_counts().sort_index().index)\n",
    "print(data_2006[c].value_counts().sort_index())\n",
    "print(missing_data(data_2006[c]))"
   ]
  },
  {
   "cell_type": "code",
   "execution_count": null,
   "metadata": {
    "collapsed": true
   },
   "outputs": [],
   "source": [
    "c = 'IND_TERMINO_BACHILLERATO'\n",
    "print(data_2006[c].value_counts().sort_index().index)\n",
    "print(data_2006[c].value_counts().sort_index())\n",
    "print(missing_data(data_2006[c]))"
   ]
  },
  {
   "cell_type": "code",
   "execution_count": null,
   "metadata": {
    "collapsed": true
   },
   "outputs": [],
   "source": [
    "c = 'IND_COD_ICFES_TERMINO'\n",
    "print(data_2006[c].value_counts().sort_index().index)\n",
    "print(data_2006[c].value_counts().sort_index())\n",
    "print(missing_data(data_2006[c]))"
   ]
  },
  {
   "cell_type": "code",
   "execution_count": null,
   "metadata": {
    "collapsed": true
   },
   "outputs": [],
   "source": [
    "c = 'COLE_COD_ICFES'\n",
    "print(data_2006[c].value_counts().sort_index().index)\n",
    "print(data_2006[c].value_counts().sort_index())\n",
    "print(missing_data(data_2006[c]))"
   ]
  },
  {
   "cell_type": "code",
   "execution_count": null,
   "metadata": {
    "collapsed": true
   },
   "outputs": [],
   "source": [
    "c = 'COLE_COD_DANE_INSTITUCION'\n",
    "print(data_2006[c].value_counts().sort_index().index)\n",
    "print(data_2006[c].value_counts().sort_index())\n",
    "print(missing_data(data_2006[c]))"
   ]
  },
  {
   "cell_type": "code",
   "execution_count": null,
   "metadata": {
    "collapsed": true
   },
   "outputs": [],
   "source": [
    "c = 'COLE_CALENDARIO'\n",
    "print(data_2006[c].value_counts().sort_index().index)\n",
    "print(data_2006[c].value_counts().sort_index())\n",
    "print(missing_data(data_2006[c]))"
   ]
  },
  {
   "cell_type": "code",
   "execution_count": null,
   "metadata": {
    "collapsed": true
   },
   "outputs": [],
   "source": [
    "c = 'COLE_GENERO'\n",
    "print(data_2006[c].value_counts().sort_index().index)\n",
    "print(data_2006[c].value_counts().sort_index())\n",
    "print(missing_data(data_2006[c]))"
   ]
  },
  {
   "cell_type": "code",
   "execution_count": null,
   "metadata": {
    "collapsed": true
   },
   "outputs": [],
   "source": [
    "c = 'COLE_NATURALEZA'\n",
    "print(data_2006[c].value_counts().sort_index().index)\n",
    "print(data_2006[c].value_counts().sort_index())\n",
    "print(missing_data(data_2006[c]))"
   ]
  },
  {
   "cell_type": "code",
   "execution_count": null,
   "metadata": {
    "collapsed": true
   },
   "outputs": [],
   "source": [
    "c = 'COLE_BILINGUE'\n",
    "print(data_2006[c].value_counts().sort_index().index)\n",
    "print(data_2006[c].value_counts().sort_index())\n",
    "print(missing_data(data_2006[c]))"
   ]
  },
  {
   "cell_type": "code",
   "execution_count": null,
   "metadata": {
    "collapsed": true
   },
   "outputs": [],
   "source": [
    "c = 'COLE_JORNADA'\n",
    "print(data_2006[c].value_counts().sort_index().index)\n",
    "print(data_2006[c].value_counts().sort_index())\n",
    "print(missing_data(data_2006[c]))"
   ]
  },
  {
   "cell_type": "code",
   "execution_count": null,
   "metadata": {
    "collapsed": true
   },
   "outputs": [],
   "source": [
    "c = 'COLE_CARACTER'\n",
    "print(data_2006[c].value_counts().sort_index().index)\n",
    "print(data_2006[c].value_counts().sort_index())\n",
    "print(missing_data(data_2006[c]))"
   ]
  },
  {
   "cell_type": "code",
   "execution_count": null,
   "metadata": {
    "collapsed": true
   },
   "outputs": [],
   "source": [
    "c = 'ESTU_VECES_ESTADO'\n",
    "print(data_2006[c].value_counts().sort_index().index)\n",
    "print(data_2006[c].value_counts().sort_index())\n",
    "print(missing_data(data_2006[c]))"
   ]
  },
  {
   "cell_type": "code",
   "execution_count": null,
   "metadata": {
    "collapsed": true
   },
   "outputs": [],
   "source": [
    "c = 'ESTU_CARRDESEADA_TIPO'\n",
    "print(data_2006[c].value_counts().sort_index().index)\n",
    "print(data_2006[c].value_counts().sort_index())\n",
    "print(missing_data(data_2006[c]))"
   ]
  },
  {
   "cell_type": "code",
   "execution_count": null,
   "metadata": {
    "collapsed": true
   },
   "outputs": [],
   "source": [
    "c = 'ESTU_CARRDESEADA_NUCLEO'\n",
    "print(data_2006[c].value_counts().sort_index().index)\n",
    "print(data_2006[c].value_counts().sort_index())\n",
    "print(missing_data(data_2006[c]))"
   ]
  },
  {
   "cell_type": "code",
   "execution_count": null,
   "metadata": {
    "collapsed": true
   },
   "outputs": [],
   "source": [
    "c = 'ESTU_IES_COD_DESEADA'\n",
    "print(data_2006[c].value_counts().sort_index().index)\n",
    "print(data_2006[c].value_counts().sort_index())\n",
    "print(missing_data(data_2006[c]))"
   ]
  },
  {
   "cell_type": "code",
   "execution_count": null,
   "metadata": {
    "collapsed": true
   },
   "outputs": [],
   "source": [
    "c = 'ESTU_IES_MPIO_DESEADA'\n",
    "print(data_2006[c].value_counts().sort_index().index)\n",
    "print(data_2006[c].value_counts().sort_index())\n",
    "print(missing_data(data_2006[c]))"
   ]
  },
  {
   "cell_type": "code",
   "execution_count": null,
   "metadata": {
    "collapsed": true
   },
   "outputs": [],
   "source": [
    "c = 'ESTU_IES_DEPT_DESEADA'\n",
    "print(data_2006[c].value_counts().sort_index().index)\n",
    "print(data_2006[c].value_counts().sort_index())\n",
    "print(missing_data(data_2006[c]))"
   ]
  },
  {
   "cell_type": "code",
   "execution_count": null,
   "metadata": {
    "collapsed": true
   },
   "outputs": [],
   "source": [
    "c = 'ESTU_RAZONINSTITUTO'\n",
    "print(data_2006[c].value_counts().sort_index().index)\n",
    "print(data_2006[c].value_counts().sort_index())\n",
    "print(missing_data(data_2006[c]))"
   ]
  },
  {
   "cell_type": "code",
   "execution_count": null,
   "metadata": {
    "collapsed": true
   },
   "outputs": [],
   "source": [
    "c = 'ESTU_CARRDESEADA_COD'\n",
    "print(data_2006[c].value_counts().sort_index().index)\n",
    "print(data_2006[c].value_counts().sort_index())\n",
    "print(missing_data(data_2006[c]))"
   ]
  },
  {
   "cell_type": "code",
   "execution_count": null,
   "metadata": {
    "collapsed": true
   },
   "outputs": [],
   "source": [
    "c = 'ESTU_CARRDESEADA_RAZON'\n",
    "print(data_2006[c].value_counts().sort_index().index)\n",
    "print(data_2006[c].value_counts().sort_index())\n",
    "print(missing_data(data_2006[c]))"
   ]
  },
  {
   "cell_type": "code",
   "execution_count": null,
   "metadata": {
    "collapsed": true
   },
   "outputs": [],
   "source": [
    "c = 'ESTU_MCPIO_PRESENTACION'\n",
    "print(data_2006[c].value_counts().sort_index().index)\n",
    "print(data_2006[c].value_counts().sort_index())\n",
    "print(missing_data(data_2006[c]))"
   ]
  },
  {
   "cell_type": "code",
   "execution_count": null,
   "metadata": {
    "collapsed": true
   },
   "outputs": [],
   "source": [
    "c = 'ESTU_DEPTO_PRESENTACION'\n",
    "print(data_2006[c].value_counts().sort_index().index)\n",
    "print(data_2006[c].value_counts().sort_index())\n",
    "print(missing_data(data_2006[c]))"
   ]
  },
  {
   "cell_type": "markdown",
   "metadata": {},
   "source": [
    "## TARGETS"
   ]
  },
  {
   "cell_type": "code",
   "execution_count": null,
   "metadata": {
    "collapsed": true
   },
   "outputs": [],
   "source": [
    "c = 'PUNT_LENGUAJE'\n",
    "print(data_2006[c].value_counts().sort_index().index)\n",
    "print(data_2006[c].value_counts().sort_index())\n",
    "print(missing_data(data_2006[c]))"
   ]
  },
  {
   "cell_type": "code",
   "execution_count": null,
   "metadata": {
    "collapsed": true
   },
   "outputs": [],
   "source": [
    "c = 'PUNT_MATEMATICAS'\n",
    "print(data_2006[c].value_counts().sort_index().index)\n",
    "print(data_2006[c].value_counts().sort_index())\n",
    "print(missing_data(data_2006[c]))"
   ]
  },
  {
   "cell_type": "code",
   "execution_count": null,
   "metadata": {
    "collapsed": true
   },
   "outputs": [],
   "source": [
    "c = 'PUNT_C_SOCIALES'\n",
    "print(data_2006[c].value_counts().sort_index().index)\n",
    "print(data_2006[c].value_counts().sort_index())\n",
    "print(missing_data(data_2006[c]))"
   ]
  },
  {
   "cell_type": "code",
   "execution_count": null,
   "metadata": {
    "collapsed": true
   },
   "outputs": [],
   "source": [
    "c = 'PUNT_FILOSOFIA'\n",
    "print(data_2006[c].value_counts().sort_index().index)\n",
    "print(data_2006[c].value_counts().sort_index())\n",
    "print(missing_data(data_2006[c]))"
   ]
  },
  {
   "cell_type": "code",
   "execution_count": null,
   "metadata": {
    "collapsed": true
   },
   "outputs": [],
   "source": [
    "c = 'PUNT_BIOLOGIA'\n",
    "print(data_2006[c].value_counts().sort_index().index)\n",
    "print(data_2006[c].value_counts().sort_index())\n",
    "print(missing_data(data_2006[c]))"
   ]
  },
  {
   "cell_type": "code",
   "execution_count": null,
   "metadata": {
    "collapsed": true
   },
   "outputs": [],
   "source": [
    "c = 'PUNT_QUIMICA'\n",
    "print(data_2006[c].value_counts().sort_index().index)\n",
    "print(data_2006[c].value_counts().sort_index())\n",
    "print(missing_data(data_2006[c]))"
   ]
  },
  {
   "cell_type": "code",
   "execution_count": null,
   "metadata": {
    "collapsed": true
   },
   "outputs": [],
   "source": [
    "c = 'PUNT_FISICA'\n",
    "print(data_2006[c].value_counts().sort_index().index)\n",
    "print(data_2006[c].value_counts().sort_index())\n",
    "print(missing_data(data_2006[c]))"
   ]
  },
  {
   "cell_type": "code",
   "execution_count": null,
   "metadata": {
    "collapsed": true
   },
   "outputs": [],
   "source": [
    "c = 'PUNT_INGLES'\n",
    "print(data_2006[c].value_counts().sort_index().index)\n",
    "print(data_2006[c].value_counts().sort_index())\n",
    "print(missing_data(data_2006[c]))"
   ]
  },
  {
   "cell_type": "code",
   "execution_count": null,
   "metadata": {
    "collapsed": true
   },
   "outputs": [],
   "source": [
    "c = 'DESEMP_INGLES'\n",
    "print(data_2006[c].value_counts().sort_index().index)\n",
    "print(data_2006[c].value_counts().sort_index())\n",
    "print(missing_data(data_2006[c]))"
   ]
  },
  {
   "cell_type": "code",
   "execution_count": null,
   "metadata": {
    "collapsed": true
   },
   "outputs": [],
   "source": [
    "c = 'NOMBRE_PROFUNDIZACION'\n",
    "print(data_2006[c].value_counts().sort_index().index)\n",
    "print(data_2006[c].value_counts().sort_index())\n",
    "print(missing_data(data_2006[c]))"
   ]
  },
  {
   "cell_type": "code",
   "execution_count": null,
   "metadata": {
    "collapsed": true
   },
   "outputs": [],
   "source": [
    "c = 'PUNT_PROFUNDIZACION'\n",
    "print(data_2006[c].value_counts().sort_index().index)\n",
    "print(data_2006[c].value_counts().sort_index())\n",
    "print(missing_data(data_2006[c]))"
   ]
  },
  {
   "cell_type": "code",
   "execution_count": null,
   "metadata": {
    "collapsed": true
   },
   "outputs": [],
   "source": [
    "c = 'DESEMP_PROFUNDIZACION'\n",
    "print(data_2006[c].value_counts().sort_index().index)\n",
    "print(data_2006[c].value_counts().sort_index())\n",
    "print(missing_data(data_2006[c]))"
   ]
  },
  {
   "cell_type": "code",
   "execution_count": null,
   "metadata": {
    "collapsed": true
   },
   "outputs": [],
   "source": [
    "c = 'NOMBRE_INTERDISCIPLINAR'\n",
    "print(data_2006[c].value_counts().sort_index().index)\n",
    "print(data_2006[c].value_counts().sort_index())\n",
    "print(missing_data(data_2006[c]))"
   ]
  },
  {
   "cell_type": "code",
   "execution_count": null,
   "metadata": {
    "collapsed": true
   },
   "outputs": [],
   "source": [
    "c = 'PUNT_INTERDISCIPLINAR'\n",
    "print(data_2006[c].value_counts().sort_index().index)\n",
    "print(data_2006[c].value_counts().sort_index())\n",
    "print(missing_data(data_2006[c]))"
   ]
  },
  {
   "cell_type": "code",
   "execution_count": null,
   "metadata": {
    "collapsed": true
   },
   "outputs": [],
   "source": [
    "c = 'ESTU_PUESTO'\n",
    "print(data_2006[c].value_counts().sort_index().index)\n",
    "print(data_2006[c].value_counts().sort_index())\n",
    "print(missing_data(data_2006[c]))"
   ]
  },
  {
   "cell_type": "markdown",
   "metadata": {},
   "source": [
    "# FILE 2: 2009_2"
   ]
  },
  {
   "cell_type": "code",
   "execution_count": 3,
   "metadata": {
    "collapsed": false
   },
   "outputs": [
    {
     "name": "stderr",
     "output_type": "stream",
     "text": [
      "/usr/local/lib/python3.4/dist-packages/IPython/core/interactiveshell.py:2902: DtypeWarning: Columns (51) have mixed types. Specify dtype option on import or set low_memory=False.\n",
      "  interactivity=interactivity, compiler=compiler, result=result)\n"
     ]
    }
   ],
   "source": [
    "data_2009_2 = pd.read_csv('../DatosFTPICFES/SABER11/SB11-BASES_DE_DATOS/SB11-20092-RGSTRO-CLFCCN-V1-0.txt', delimiter='|')"
   ]
  },
  {
   "cell_type": "code",
   "execution_count": 4,
   "metadata": {
    "collapsed": false
   },
   "outputs": [
    {
     "data": {
      "text/plain": [
       "(518220, 121)"
      ]
     },
     "execution_count": 4,
     "metadata": {},
     "output_type": "execute_result"
    }
   ],
   "source": [
    "data_2009_2.shape"
   ]
  },
  {
   "cell_type": "code",
   "execution_count": 5,
   "metadata": {
    "collapsed": false,
    "scrolled": true
   },
   "outputs": [
    {
     "data": {
      "text/html": [
       "<div>\n",
       "<table border=\"1\" class=\"dataframe\">\n",
       "  <thead>\n",
       "    <tr style=\"text-align: right;\">\n",
       "      <th></th>\n",
       "      <th>0</th>\n",
       "      <th>1</th>\n",
       "      <th>2</th>\n",
       "    </tr>\n",
       "  </thead>\n",
       "  <tbody>\n",
       "    <tr>\n",
       "      <th>ESTU_CONSECUTIVO</th>\n",
       "      <td>SABER1120092000001</td>\n",
       "      <td>SABER1120092000002</td>\n",
       "      <td>SABER1120092000003</td>\n",
       "    </tr>\n",
       "    <tr>\n",
       "      <th>PERIODO</th>\n",
       "      <td>20092</td>\n",
       "      <td>20092</td>\n",
       "      <td>20092</td>\n",
       "    </tr>\n",
       "    <tr>\n",
       "      <th>ESTU_TIPO_DOCUMENTO</th>\n",
       "      <td>T</td>\n",
       "      <td>T</td>\n",
       "      <td>T</td>\n",
       "    </tr>\n",
       "    <tr>\n",
       "      <th>ESTU_PAIS_RESIDE</th>\n",
       "      <td>CO</td>\n",
       "      <td>CO</td>\n",
       "      <td>CO</td>\n",
       "    </tr>\n",
       "    <tr>\n",
       "      <th>ESTU_GENERO</th>\n",
       "      <td>F</td>\n",
       "      <td>F</td>\n",
       "      <td>F</td>\n",
       "    </tr>\n",
       "    <tr>\n",
       "      <th>ESTU_NACIMIENTO_DIA</th>\n",
       "      <td>4</td>\n",
       "      <td>25</td>\n",
       "      <td>16</td>\n",
       "    </tr>\n",
       "    <tr>\n",
       "      <th>ESTU_NACIMIENTO_MES</th>\n",
       "      <td>9</td>\n",
       "      <td>3</td>\n",
       "      <td>12</td>\n",
       "    </tr>\n",
       "    <tr>\n",
       "      <th>ESTU_NACIMIENTO_ANNO</th>\n",
       "      <td>1991</td>\n",
       "      <td>1992</td>\n",
       "      <td>1992</td>\n",
       "    </tr>\n",
       "    <tr>\n",
       "      <th>ESTU_EDAD</th>\n",
       "      <td>17</td>\n",
       "      <td>17</td>\n",
       "      <td>16</td>\n",
       "    </tr>\n",
       "    <tr>\n",
       "      <th>ESTU_LIMITA_BAJAVISION</th>\n",
       "      <td>NaN</td>\n",
       "      <td>NaN</td>\n",
       "      <td>NaN</td>\n",
       "    </tr>\n",
       "    <tr>\n",
       "      <th>ESTU_LIMITA_SORDOCEGUERA</th>\n",
       "      <td>NaN</td>\n",
       "      <td>NaN</td>\n",
       "      <td>NaN</td>\n",
       "    </tr>\n",
       "    <tr>\n",
       "      <th>ESTU_LIMITA_COGNITIVA</th>\n",
       "      <td>NaN</td>\n",
       "      <td>NaN</td>\n",
       "      <td>NaN</td>\n",
       "    </tr>\n",
       "    <tr>\n",
       "      <th>ESTU_LIMITA_INVIDENTE</th>\n",
       "      <td>NaN</td>\n",
       "      <td>NaN</td>\n",
       "      <td>NaN</td>\n",
       "    </tr>\n",
       "    <tr>\n",
       "      <th>ESTU_LIMITA_MOTRIZ</th>\n",
       "      <td>NaN</td>\n",
       "      <td>NaN</td>\n",
       "      <td>NaN</td>\n",
       "    </tr>\n",
       "    <tr>\n",
       "      <th>ESTU_LIMITA_SORDOINTERPRETE</th>\n",
       "      <td>NaN</td>\n",
       "      <td>NaN</td>\n",
       "      <td>NaN</td>\n",
       "    </tr>\n",
       "    <tr>\n",
       "      <th>ESTU_LIMITA_SORDONOINTERPRETE</th>\n",
       "      <td>NaN</td>\n",
       "      <td>NaN</td>\n",
       "      <td>NaN</td>\n",
       "    </tr>\n",
       "    <tr>\n",
       "      <th>ESTU_ETNIA</th>\n",
       "      <td>NaN</td>\n",
       "      <td>NaN</td>\n",
       "      <td>NaN</td>\n",
       "    </tr>\n",
       "    <tr>\n",
       "      <th>ESTU_COD_RESIDE_MCPIO</th>\n",
       "      <td>5736</td>\n",
       "      <td>11001</td>\n",
       "      <td>54001</td>\n",
       "    </tr>\n",
       "    <tr>\n",
       "      <th>ESTU_RESIDE_MCPIO</th>\n",
       "      <td>SEGOVIA</td>\n",
       "      <td>BOGOTÁ D.C.</td>\n",
       "      <td>CUCUTA</td>\n",
       "    </tr>\n",
       "    <tr>\n",
       "      <th>ESTU_RESIDE_DEPTO</th>\n",
       "      <td>ANTIOQUIA</td>\n",
       "      <td>BOGOTÁ</td>\n",
       "      <td>NORTE SANTANDER</td>\n",
       "    </tr>\n",
       "    <tr>\n",
       "      <th>ESTU_ZONA_RESIDE</th>\n",
       "      <td>10</td>\n",
       "      <td>8</td>\n",
       "      <td>10</td>\n",
       "    </tr>\n",
       "    <tr>\n",
       "      <th>ESTU_AREA_RESIDE</th>\n",
       "      <td>2</td>\n",
       "      <td>1</td>\n",
       "      <td>1</td>\n",
       "    </tr>\n",
       "    <tr>\n",
       "      <th>FAMI_EDUCA_PADRE</th>\n",
       "      <td>10</td>\n",
       "      <td>12</td>\n",
       "      <td>99</td>\n",
       "    </tr>\n",
       "    <tr>\n",
       "      <th>FAMI_EDUCA_MADRE</th>\n",
       "      <td>10</td>\n",
       "      <td>12</td>\n",
       "      <td>99</td>\n",
       "    </tr>\n",
       "    <tr>\n",
       "      <th>FAMI_OCUPA_PADRE</th>\n",
       "      <td>21</td>\n",
       "      <td>20</td>\n",
       "      <td>26</td>\n",
       "    </tr>\n",
       "    <tr>\n",
       "      <th>FAMI_OCUPA_MADRE</th>\n",
       "      <td>22</td>\n",
       "      <td>19</td>\n",
       "      <td>26</td>\n",
       "    </tr>\n",
       "    <tr>\n",
       "      <th>FAMI_ESTRATO_VIVIENDA</th>\n",
       "      <td>2</td>\n",
       "      <td>2</td>\n",
       "      <td>3</td>\n",
       "    </tr>\n",
       "    <tr>\n",
       "      <th>FAMI_NIVEL_SISBEN</th>\n",
       "      <td>1</td>\n",
       "      <td>1</td>\n",
       "      <td>5</td>\n",
       "    </tr>\n",
       "    <tr>\n",
       "      <th>FAMI_PERSONAS_HOGAR</th>\n",
       "      <td>6</td>\n",
       "      <td>4</td>\n",
       "      <td>4</td>\n",
       "    </tr>\n",
       "    <tr>\n",
       "      <th>FAMI_CUARTOS_HOGAR</th>\n",
       "      <td>3</td>\n",
       "      <td>4</td>\n",
       "      <td>5</td>\n",
       "    </tr>\n",
       "    <tr>\n",
       "      <th>...</th>\n",
       "      <td>...</td>\n",
       "      <td>...</td>\n",
       "      <td>...</td>\n",
       "    </tr>\n",
       "    <tr>\n",
       "      <th>ESTU_POR_AMIGOSESTUDIANDO</th>\n",
       "      <td>0</td>\n",
       "      <td>1</td>\n",
       "      <td>1</td>\n",
       "    </tr>\n",
       "    <tr>\n",
       "      <th>ESTU_POR_COSTOMATRICULA</th>\n",
       "      <td>-</td>\n",
       "      <td>-</td>\n",
       "      <td>-</td>\n",
       "    </tr>\n",
       "    <tr>\n",
       "      <th>ESTU_POR_OPORTUNIDADES</th>\n",
       "      <td>-</td>\n",
       "      <td>-</td>\n",
       "      <td>-</td>\n",
       "    </tr>\n",
       "    <tr>\n",
       "      <th>ESTU_POR_OTRARAZON</th>\n",
       "      <td>0</td>\n",
       "      <td>1</td>\n",
       "      <td>0</td>\n",
       "    </tr>\n",
       "    <tr>\n",
       "      <th>ESTU_PRESTIGIOINSTITUCION</th>\n",
       "      <td>0</td>\n",
       "      <td>1</td>\n",
       "      <td>1</td>\n",
       "    </tr>\n",
       "    <tr>\n",
       "      <th>ESTU_POR_UBICACION</th>\n",
       "      <td>0</td>\n",
       "      <td>1</td>\n",
       "      <td>1</td>\n",
       "    </tr>\n",
       "    <tr>\n",
       "      <th>ESTU_POR_UNICAQUEOFRECE</th>\n",
       "      <td>0</td>\n",
       "      <td>1</td>\n",
       "      <td>0</td>\n",
       "    </tr>\n",
       "    <tr>\n",
       "      <th>ESTU_RETIRARSE_COLEGIO</th>\n",
       "      <td>-</td>\n",
       "      <td>-</td>\n",
       "      <td>-</td>\n",
       "    </tr>\n",
       "    <tr>\n",
       "      <th>ESTU_PROGRAMA_ACADEMICODESEADO</th>\n",
       "      <td>-</td>\n",
       "      <td>-</td>\n",
       "      <td>-</td>\n",
       "    </tr>\n",
       "    <tr>\n",
       "      <th>ESTU_VECES_ESTADO</th>\n",
       "      <td>0</td>\n",
       "      <td>0</td>\n",
       "      <td>1</td>\n",
       "    </tr>\n",
       "    <tr>\n",
       "      <th>ESTU_CARRDESEADA_RAZON</th>\n",
       "      <td>NaN</td>\n",
       "      <td>NaN</td>\n",
       "      <td>NaN</td>\n",
       "    </tr>\n",
       "    <tr>\n",
       "      <th>ESTU_MCPIO_PRESENTACION</th>\n",
       "      <td>REMEDIOS</td>\n",
       "      <td>BOGOTÁ D.C.</td>\n",
       "      <td>CUCUTA</td>\n",
       "    </tr>\n",
       "    <tr>\n",
       "      <th>ESTU_COD_MCPIO_PRESENTACION</th>\n",
       "      <td>5604</td>\n",
       "      <td>11001</td>\n",
       "      <td>54001</td>\n",
       "    </tr>\n",
       "    <tr>\n",
       "      <th>ESTU_DEPTO_PRESENTACION</th>\n",
       "      <td>ANTIOQUIA</td>\n",
       "      <td>BOGOTÁ</td>\n",
       "      <td>NORTE SANTANDER</td>\n",
       "    </tr>\n",
       "    <tr>\n",
       "      <th>ESTU_EXAM_NOMBREEXAMEN</th>\n",
       "      <td>EXAMEN DE ESTADO (ICFES)</td>\n",
       "      <td>EXAMEN DE ESTADO (ICFES)</td>\n",
       "      <td>EXAMEN DE ESTADO (ICFES)</td>\n",
       "    </tr>\n",
       "    <tr>\n",
       "      <th>PUNT_LENGUAJE</th>\n",
       "      <td>41,63</td>\n",
       "      <td>43,99</td>\n",
       "      <td>43,85</td>\n",
       "    </tr>\n",
       "    <tr>\n",
       "      <th>PUNT_MATEMATICAS</th>\n",
       "      <td>34,91</td>\n",
       "      <td>49,14</td>\n",
       "      <td>51,6</td>\n",
       "    </tr>\n",
       "    <tr>\n",
       "      <th>PUNT_C_SOCIALES</th>\n",
       "      <td>53,33</td>\n",
       "      <td>55,22</td>\n",
       "      <td>41,83</td>\n",
       "    </tr>\n",
       "    <tr>\n",
       "      <th>PUNT_FILOSOFIA</th>\n",
       "      <td>44,51</td>\n",
       "      <td>51,28</td>\n",
       "      <td>49,02</td>\n",
       "    </tr>\n",
       "    <tr>\n",
       "      <th>PUNT_BIOLOGIA</th>\n",
       "      <td>37,73</td>\n",
       "      <td>48,79</td>\n",
       "      <td>50,78</td>\n",
       "    </tr>\n",
       "    <tr>\n",
       "      <th>PUNT_QUIMICA</th>\n",
       "      <td>50,85</td>\n",
       "      <td>50,85</td>\n",
       "      <td>50,85</td>\n",
       "    </tr>\n",
       "    <tr>\n",
       "      <th>PUNT_FISICA</th>\n",
       "      <td>42,59</td>\n",
       "      <td>45,57</td>\n",
       "      <td>50,94</td>\n",
       "    </tr>\n",
       "    <tr>\n",
       "      <th>PUNT_INGLES</th>\n",
       "      <td>42,76</td>\n",
       "      <td>58,06</td>\n",
       "      <td>49,63</td>\n",
       "    </tr>\n",
       "    <tr>\n",
       "      <th>DESEMP_INGLES</th>\n",
       "      <td>A-</td>\n",
       "      <td>A2</td>\n",
       "      <td>A1</td>\n",
       "    </tr>\n",
       "    <tr>\n",
       "      <th>NOMBRE_PROFUNDIZACION</th>\n",
       "      <td>PROFUNDIZACIÓN EN CIENCIAS SOCIALES</td>\n",
       "      <td>PROFUNDIZACIÓN EN CIENCIAS SOCIALES</td>\n",
       "      <td>PROFUNDIZACIÓN EN MATEMÁTICA</td>\n",
       "    </tr>\n",
       "    <tr>\n",
       "      <th>PUNT_PROFUNDIZACION</th>\n",
       "      <td>4,9</td>\n",
       "      <td>6,8</td>\n",
       "      <td>4,1</td>\n",
       "    </tr>\n",
       "    <tr>\n",
       "      <th>DESEMP_PROFUNDIZACION</th>\n",
       "      <td>I</td>\n",
       "      <td>II</td>\n",
       "      <td>GB</td>\n",
       "    </tr>\n",
       "    <tr>\n",
       "      <th>NOMBRE_INTERDISCIPLINAR</th>\n",
       "      <td>MEDIO AMBIENTE</td>\n",
       "      <td>VIOLENCIA Y SOCIEDAD</td>\n",
       "      <td>MEDIO AMBIENTE</td>\n",
       "    </tr>\n",
       "    <tr>\n",
       "      <th>PUNT_INTERDISCIPLINAR</th>\n",
       "      <td>56,55</td>\n",
       "      <td>67,71</td>\n",
       "      <td>55,56</td>\n",
       "    </tr>\n",
       "    <tr>\n",
       "      <th>ESTU_PUESTO</th>\n",
       "      <td>648</td>\n",
       "      <td>173</td>\n",
       "      <td>238</td>\n",
       "    </tr>\n",
       "  </tbody>\n",
       "</table>\n",
       "<p>121 rows × 3 columns</p>\n",
       "</div>"
      ],
      "text/plain": [
       "                                                                  0  \\\n",
       "ESTU_CONSECUTIVO                                 SABER1120092000001   \n",
       "PERIODO                                                       20092   \n",
       "ESTU_TIPO_DOCUMENTO                                               T   \n",
       "ESTU_PAIS_RESIDE                                                 CO   \n",
       "ESTU_GENERO                                                       F   \n",
       "ESTU_NACIMIENTO_DIA                                               4   \n",
       "ESTU_NACIMIENTO_MES                                               9   \n",
       "ESTU_NACIMIENTO_ANNO                                           1991   \n",
       "ESTU_EDAD                                                        17   \n",
       "ESTU_LIMITA_BAJAVISION                                          NaN   \n",
       "ESTU_LIMITA_SORDOCEGUERA                                        NaN   \n",
       "ESTU_LIMITA_COGNITIVA                                           NaN   \n",
       "ESTU_LIMITA_INVIDENTE                                           NaN   \n",
       "ESTU_LIMITA_MOTRIZ                                              NaN   \n",
       "ESTU_LIMITA_SORDOINTERPRETE                                     NaN   \n",
       "ESTU_LIMITA_SORDONOINTERPRETE                                   NaN   \n",
       "ESTU_ETNIA                                                      NaN   \n",
       "ESTU_COD_RESIDE_MCPIO                                          5736   \n",
       "ESTU_RESIDE_MCPIO                                           SEGOVIA   \n",
       "ESTU_RESIDE_DEPTO                                         ANTIOQUIA   \n",
       "ESTU_ZONA_RESIDE                                                 10   \n",
       "ESTU_AREA_RESIDE                                                  2   \n",
       "FAMI_EDUCA_PADRE                                                 10   \n",
       "FAMI_EDUCA_MADRE                                                 10   \n",
       "FAMI_OCUPA_PADRE                                                 21   \n",
       "FAMI_OCUPA_MADRE                                                 22   \n",
       "FAMI_ESTRATO_VIVIENDA                                             2   \n",
       "FAMI_NIVEL_SISBEN                                                 1   \n",
       "FAMI_PERSONAS_HOGAR                                               6   \n",
       "FAMI_CUARTOS_HOGAR                                                3   \n",
       "...                                                             ...   \n",
       "ESTU_POR_AMIGOSESTUDIANDO                                         0   \n",
       "ESTU_POR_COSTOMATRICULA                                           -   \n",
       "ESTU_POR_OPORTUNIDADES                                            -   \n",
       "ESTU_POR_OTRARAZON                                                0   \n",
       "ESTU_PRESTIGIOINSTITUCION                                         0   \n",
       "ESTU_POR_UBICACION                                                0   \n",
       "ESTU_POR_UNICAQUEOFRECE                                           0   \n",
       "ESTU_RETIRARSE_COLEGIO                                            -   \n",
       "ESTU_PROGRAMA_ACADEMICODESEADO                                    -   \n",
       "ESTU_VECES_ESTADO                                                 0   \n",
       "ESTU_CARRDESEADA_RAZON                                          NaN   \n",
       "ESTU_MCPIO_PRESENTACION                                    REMEDIOS   \n",
       "ESTU_COD_MCPIO_PRESENTACION                                    5604   \n",
       "ESTU_DEPTO_PRESENTACION                                   ANTIOQUIA   \n",
       "ESTU_EXAM_NOMBREEXAMEN                     EXAMEN DE ESTADO (ICFES)   \n",
       "PUNT_LENGUAJE                                                 41,63   \n",
       "PUNT_MATEMATICAS                                              34,91   \n",
       "PUNT_C_SOCIALES                                               53,33   \n",
       "PUNT_FILOSOFIA                                                44,51   \n",
       "PUNT_BIOLOGIA                                                 37,73   \n",
       "PUNT_QUIMICA                                                  50,85   \n",
       "PUNT_FISICA                                                   42,59   \n",
       "PUNT_INGLES                                                   42,76   \n",
       "DESEMP_INGLES                                                    A-   \n",
       "NOMBRE_PROFUNDIZACION           PROFUNDIZACIÓN EN CIENCIAS SOCIALES   \n",
       "PUNT_PROFUNDIZACION                                             4,9   \n",
       "DESEMP_PROFUNDIZACION                                             I   \n",
       "NOMBRE_INTERDISCIPLINAR                              MEDIO AMBIENTE   \n",
       "PUNT_INTERDISCIPLINAR                                         56,55   \n",
       "ESTU_PUESTO                                                     648   \n",
       "\n",
       "                                                                  1  \\\n",
       "ESTU_CONSECUTIVO                                 SABER1120092000002   \n",
       "PERIODO                                                       20092   \n",
       "ESTU_TIPO_DOCUMENTO                                               T   \n",
       "ESTU_PAIS_RESIDE                                                 CO   \n",
       "ESTU_GENERO                                                       F   \n",
       "ESTU_NACIMIENTO_DIA                                              25   \n",
       "ESTU_NACIMIENTO_MES                                               3   \n",
       "ESTU_NACIMIENTO_ANNO                                           1992   \n",
       "ESTU_EDAD                                                        17   \n",
       "ESTU_LIMITA_BAJAVISION                                          NaN   \n",
       "ESTU_LIMITA_SORDOCEGUERA                                        NaN   \n",
       "ESTU_LIMITA_COGNITIVA                                           NaN   \n",
       "ESTU_LIMITA_INVIDENTE                                           NaN   \n",
       "ESTU_LIMITA_MOTRIZ                                              NaN   \n",
       "ESTU_LIMITA_SORDOINTERPRETE                                     NaN   \n",
       "ESTU_LIMITA_SORDONOINTERPRETE                                   NaN   \n",
       "ESTU_ETNIA                                                      NaN   \n",
       "ESTU_COD_RESIDE_MCPIO                                         11001   \n",
       "ESTU_RESIDE_MCPIO                                       BOGOTÁ D.C.   \n",
       "ESTU_RESIDE_DEPTO                                            BOGOTÁ   \n",
       "ESTU_ZONA_RESIDE                                                  8   \n",
       "ESTU_AREA_RESIDE                                                  1   \n",
       "FAMI_EDUCA_PADRE                                                 12   \n",
       "FAMI_EDUCA_MADRE                                                 12   \n",
       "FAMI_OCUPA_PADRE                                                 20   \n",
       "FAMI_OCUPA_MADRE                                                 19   \n",
       "FAMI_ESTRATO_VIVIENDA                                             2   \n",
       "FAMI_NIVEL_SISBEN                                                 1   \n",
       "FAMI_PERSONAS_HOGAR                                               4   \n",
       "FAMI_CUARTOS_HOGAR                                                4   \n",
       "...                                                             ...   \n",
       "ESTU_POR_AMIGOSESTUDIANDO                                         1   \n",
       "ESTU_POR_COSTOMATRICULA                                           -   \n",
       "ESTU_POR_OPORTUNIDADES                                            -   \n",
       "ESTU_POR_OTRARAZON                                                1   \n",
       "ESTU_PRESTIGIOINSTITUCION                                         1   \n",
       "ESTU_POR_UBICACION                                                1   \n",
       "ESTU_POR_UNICAQUEOFRECE                                           1   \n",
       "ESTU_RETIRARSE_COLEGIO                                            -   \n",
       "ESTU_PROGRAMA_ACADEMICODESEADO                                    -   \n",
       "ESTU_VECES_ESTADO                                                 0   \n",
       "ESTU_CARRDESEADA_RAZON                                          NaN   \n",
       "ESTU_MCPIO_PRESENTACION                                 BOGOTÁ D.C.   \n",
       "ESTU_COD_MCPIO_PRESENTACION                                   11001   \n",
       "ESTU_DEPTO_PRESENTACION                                      BOGOTÁ   \n",
       "ESTU_EXAM_NOMBREEXAMEN                     EXAMEN DE ESTADO (ICFES)   \n",
       "PUNT_LENGUAJE                                                 43,99   \n",
       "PUNT_MATEMATICAS                                              49,14   \n",
       "PUNT_C_SOCIALES                                               55,22   \n",
       "PUNT_FILOSOFIA                                                51,28   \n",
       "PUNT_BIOLOGIA                                                 48,79   \n",
       "PUNT_QUIMICA                                                  50,85   \n",
       "PUNT_FISICA                                                   45,57   \n",
       "PUNT_INGLES                                                   58,06   \n",
       "DESEMP_INGLES                                                    A2   \n",
       "NOMBRE_PROFUNDIZACION           PROFUNDIZACIÓN EN CIENCIAS SOCIALES   \n",
       "PUNT_PROFUNDIZACION                                             6,8   \n",
       "DESEMP_PROFUNDIZACION                                            II   \n",
       "NOMBRE_INTERDISCIPLINAR                        VIOLENCIA Y SOCIEDAD   \n",
       "PUNT_INTERDISCIPLINAR                                         67,71   \n",
       "ESTU_PUESTO                                                     173   \n",
       "\n",
       "                                                           2  \n",
       "ESTU_CONSECUTIVO                          SABER1120092000003  \n",
       "PERIODO                                                20092  \n",
       "ESTU_TIPO_DOCUMENTO                                        T  \n",
       "ESTU_PAIS_RESIDE                                          CO  \n",
       "ESTU_GENERO                                                F  \n",
       "ESTU_NACIMIENTO_DIA                                       16  \n",
       "ESTU_NACIMIENTO_MES                                       12  \n",
       "ESTU_NACIMIENTO_ANNO                                    1992  \n",
       "ESTU_EDAD                                                 16  \n",
       "ESTU_LIMITA_BAJAVISION                                   NaN  \n",
       "ESTU_LIMITA_SORDOCEGUERA                                 NaN  \n",
       "ESTU_LIMITA_COGNITIVA                                    NaN  \n",
       "ESTU_LIMITA_INVIDENTE                                    NaN  \n",
       "ESTU_LIMITA_MOTRIZ                                       NaN  \n",
       "ESTU_LIMITA_SORDOINTERPRETE                              NaN  \n",
       "ESTU_LIMITA_SORDONOINTERPRETE                            NaN  \n",
       "ESTU_ETNIA                                               NaN  \n",
       "ESTU_COD_RESIDE_MCPIO                                  54001  \n",
       "ESTU_RESIDE_MCPIO                                     CUCUTA  \n",
       "ESTU_RESIDE_DEPTO                            NORTE SANTANDER  \n",
       "ESTU_ZONA_RESIDE                                          10  \n",
       "ESTU_AREA_RESIDE                                           1  \n",
       "FAMI_EDUCA_PADRE                                          99  \n",
       "FAMI_EDUCA_MADRE                                          99  \n",
       "FAMI_OCUPA_PADRE                                          26  \n",
       "FAMI_OCUPA_MADRE                                          26  \n",
       "FAMI_ESTRATO_VIVIENDA                                      3  \n",
       "FAMI_NIVEL_SISBEN                                          5  \n",
       "FAMI_PERSONAS_HOGAR                                        4  \n",
       "FAMI_CUARTOS_HOGAR                                         5  \n",
       "...                                                      ...  \n",
       "ESTU_POR_AMIGOSESTUDIANDO                                  1  \n",
       "ESTU_POR_COSTOMATRICULA                                    -  \n",
       "ESTU_POR_OPORTUNIDADES                                     -  \n",
       "ESTU_POR_OTRARAZON                                         0  \n",
       "ESTU_PRESTIGIOINSTITUCION                                  1  \n",
       "ESTU_POR_UBICACION                                         1  \n",
       "ESTU_POR_UNICAQUEOFRECE                                    0  \n",
       "ESTU_RETIRARSE_COLEGIO                                     -  \n",
       "ESTU_PROGRAMA_ACADEMICODESEADO                             -  \n",
       "ESTU_VECES_ESTADO                                          1  \n",
       "ESTU_CARRDESEADA_RAZON                                   NaN  \n",
       "ESTU_MCPIO_PRESENTACION                               CUCUTA  \n",
       "ESTU_COD_MCPIO_PRESENTACION                            54001  \n",
       "ESTU_DEPTO_PRESENTACION                      NORTE SANTANDER  \n",
       "ESTU_EXAM_NOMBREEXAMEN              EXAMEN DE ESTADO (ICFES)  \n",
       "PUNT_LENGUAJE                                          43,85  \n",
       "PUNT_MATEMATICAS                                        51,6  \n",
       "PUNT_C_SOCIALES                                        41,83  \n",
       "PUNT_FILOSOFIA                                         49,02  \n",
       "PUNT_BIOLOGIA                                          50,78  \n",
       "PUNT_QUIMICA                                           50,85  \n",
       "PUNT_FISICA                                            50,94  \n",
       "PUNT_INGLES                                            49,63  \n",
       "DESEMP_INGLES                                             A1  \n",
       "NOMBRE_PROFUNDIZACION           PROFUNDIZACIÓN EN MATEMÁTICA  \n",
       "PUNT_PROFUNDIZACION                                      4,1  \n",
       "DESEMP_PROFUNDIZACION                                     GB  \n",
       "NOMBRE_INTERDISCIPLINAR                       MEDIO AMBIENTE  \n",
       "PUNT_INTERDISCIPLINAR                                  55,56  \n",
       "ESTU_PUESTO                                              238  \n",
       "\n",
       "[121 rows x 3 columns]"
      ]
     },
     "execution_count": 5,
     "metadata": {},
     "output_type": "execute_result"
    }
   ],
   "source": [
    "data_2009_2.head(3).T"
   ]
  },
  {
   "cell_type": "code",
   "execution_count": 12,
   "metadata": {
    "collapsed": true
   },
   "outputs": [],
   "source": [
    "data_2009_2 = data_2009_2.drop(['ESTU_CONSECUTIVO', 'PERIODO', 'ESTU_TIPO_DOCUMENTO', 'ESTU_COD_RESIDE_MCPIO',\n",
    "                               'COLE_NOMBRE_SEDE', 'ESTU_IES_DESEADA_NOMBRE', 'ESTU_IES_COD_MPIO_DESEADA',\n",
    "                               'ESTU_COD_MCPIO_PRESENTACION'], axis=1)"
   ]
  },
  {
   "cell_type": "code",
   "execution_count": null,
   "metadata": {
    "collapsed": true
   },
   "outputs": [],
   "source": [
    "c = 'ESTU_PAIS_RESIDE'\n",
    "data_2009_2[c].value_counts().sort_index().index\n",
    "data_2009_2[c].value_counts().sort_index()\n",
    "missing_data(data_2009_2[c])"
   ]
  },
  {
   "cell_type": "code",
   "execution_count": null,
   "metadata": {
    "collapsed": true
   },
   "outputs": [],
   "source": [
    "\n",
    "c = 'ESTU_GENERO'\n",
    "data_2009_2[c].value_counts().sort_index().index\n",
    "data_2009_2[c].value_counts().sort_index()\n",
    "missing_data(data_2009_2[c])"
   ]
  },
  {
   "cell_type": "code",
   "execution_count": null,
   "metadata": {
    "collapsed": true
   },
   "outputs": [],
   "source": [
    "c = 'ESTU_NACIMIENTO_DIA'\n",
    "data_2009_2[c].value_counts().sort_index().index\n",
    "data_2009_2[c].value_counts().sort_index()\n",
    "missing_data(data_2009_2[c])"
   ]
  },
  {
   "cell_type": "code",
   "execution_count": null,
   "metadata": {
    "collapsed": true
   },
   "outputs": [],
   "source": [
    "c = 'ESTU_NACIMIENTO_MES'\n",
    "data_2009_2[c].value_counts().sort_index().index\n",
    "data_2009_2[c].value_counts().sort_index()\n",
    "missing_data(data_2009_2[c])"
   ]
  },
  {
   "cell_type": "code",
   "execution_count": null,
   "metadata": {
    "collapsed": true
   },
   "outputs": [],
   "source": [
    "c = 'ESTU_NACIMIENTO_ANNO'\n",
    "data_2009_2[c].value_counts().sort_index().index\n",
    "data_2009_2[c].value_counts().sort_index()\n",
    "missing_data(data_20009_2[c])"
   ]
  },
  {
   "cell_type": "code",
   "execution_count": null,
   "metadata": {
    "collapsed": true
   },
   "outputs": [],
   "source": [
    "\n",
    "c = 'ESTU_EDAD'\n",
    "data_2009_2[c].value_counts().sort_index().index\n",
    "data_2009_2[c].value_counts().sort_index()\n",
    "missing_data(data_2009_2[c])"
   ]
  },
  {
   "cell_type": "code",
   "execution_count": null,
   "metadata": {
    "collapsed": true
   },
   "outputs": [],
   "source": [
    "c = 'ESTU_LIMITA_BAJAVISION'\n",
    "data_2009_2[c].value_counts().sort_index().index\n",
    "data_2009_2[c].value_counts().sort_index()\n",
    "missing_data(data_2009_2[c])"
   ]
  },
  {
   "cell_type": "code",
   "execution_count": null,
   "metadata": {
    "collapsed": true
   },
   "outputs": [],
   "source": [
    "c = 'ESTU_LIMITA_SORDOCEGUERA'\n",
    "data_2009_2[c].value_counts().sort_index().index\n",
    "data_2009_2[c].value_counts().sort_index()\n",
    "missing_data(data_2009_2[c])"
   ]
  },
  {
   "cell_type": "code",
   "execution_count": null,
   "metadata": {
    "collapsed": true
   },
   "outputs": [],
   "source": [
    "c = 'ESTU_LIMITA_COGNITIVA'\n",
    "data_2009_2[c].value_counts().sort_index().index\n",
    "data_2009_2[c].value_counts().sort_index()\n",
    "missing_data(data_2009_2[c])"
   ]
  },
  {
   "cell_type": "code",
   "execution_count": null,
   "metadata": {
    "collapsed": true
   },
   "outputs": [],
   "source": [
    "c = 'ESTU_LIMITA_INVIDENTE'\n",
    "data_2009_2[c].value_counts().sort_index().index\n",
    "data_2009_2[c].value_counts().sort_index()\n",
    "missing_data(data_2009_2[c])"
   ]
  },
  {
   "cell_type": "code",
   "execution_count": null,
   "metadata": {
    "collapsed": true
   },
   "outputs": [],
   "source": [
    "c = 'ESTU_LIMITA_MOTRIZ'\n",
    "data_2009_2[c].value_counts().sort_index().index\n",
    "data_2009_2[c].value_counts().sort_index()\n",
    "missing_data(data_2009_2[c])"
   ]
  },
  {
   "cell_type": "code",
   "execution_count": null,
   "metadata": {
    "collapsed": true
   },
   "outputs": [],
   "source": [
    "c = 'ESTU_LIMITA_SORDOINTERPRETE'\n",
    "data_2009_2[c].value_counts().sort_index().index\n",
    "data_2009_2[c].value_counts().sort_index()\n",
    "missing_data(data_2009_2[c])"
   ]
  },
  {
   "cell_type": "code",
   "execution_count": null,
   "metadata": {
    "collapsed": true
   },
   "outputs": [],
   "source": [
    "c = 'ESTU_LIMITA_SORDONOINTERPRETE'\n",
    "data_2009_2[c].value_counts().sort_index().index\n",
    "data_2009_2[c].value_counts().sort_index()\n",
    "missing_data(data_2009_2[c])"
   ]
  },
  {
   "cell_type": "code",
   "execution_count": null,
   "metadata": {
    "collapsed": true
   },
   "outputs": [],
   "source": [
    "c = 'ESTU_ETNIA'\n",
    "data_2009_2[c].value_counts().sort_index().index\n",
    "data_2009_2[c].value_counts().sort_index()\n",
    "missing_data(data_2009_2[c])"
   ]
  },
  {
   "cell_type": "code",
   "execution_count": null,
   "metadata": {
    "collapsed": true
   },
   "outputs": [],
   "source": [
    "c = 'ESTU_RESIDE_MCPIO'\n",
    "data_2009_2[c].value_counts().sort_index().index\n",
    "data_2009_2[c].value_counts().sort_index()\n",
    "missing_data(data_2009_2[c])"
   ]
  },
  {
   "cell_type": "code",
   "execution_count": null,
   "metadata": {
    "collapsed": true
   },
   "outputs": [],
   "source": [
    "c = 'ESTU_RESIDE_DEPTO'\n",
    "data_2009_2[c].value_counts().sort_index().index\n",
    "data_2009_2[c].value_counts().sort_index()\n",
    "missing_data(data_2009_2[c])"
   ]
  },
  {
   "cell_type": "code",
   "execution_count": null,
   "metadata": {
    "collapsed": true
   },
   "outputs": [],
   "source": [
    "c = 'ESTU_ZONA_RESIDE'\n",
    "data_2009_2[c].value_counts().sort_index().index\n",
    "data_2009_2[c].value_counts().sort_index()\n",
    "missing_data(data_2009_2[c])"
   ]
  },
  {
   "cell_type": "code",
   "execution_count": null,
   "metadata": {
    "collapsed": true
   },
   "outputs": [],
   "source": [
    "c = 'ESTU_AREA_RESIDE'\n",
    "data_2009_2[c].value_counts().sort_index().index\n",
    "data_2009_2[c].value_counts().sort_index()\n",
    "missing_data(data_2009_2[c])"
   ]
  },
  {
   "cell_type": "code",
   "execution_count": null,
   "metadata": {
    "collapsed": true
   },
   "outputs": [],
   "source": [
    "c = 'FAMI_EDUCA_PADRE'\n",
    "data_2009_2[c].value_counts().sort_index().index\n",
    "data_2009_2[c].value_counts().sort_index()\n",
    "missing_data(data_2009_2[c])"
   ]
  },
  {
   "cell_type": "code",
   "execution_count": null,
   "metadata": {
    "collapsed": true
   },
   "outputs": [],
   "source": [
    "c = 'FAMI_EDUCA_MADRE'\n",
    "data_2009_2[c].value_counts().sort_index().index\n",
    "data_2009_2[c].value_counts().sort_index()\n",
    "missing_data(data_2009_2[c])"
   ]
  },
  {
   "cell_type": "code",
   "execution_count": null,
   "metadata": {
    "collapsed": true
   },
   "outputs": [],
   "source": [
    "c = 'FAMI_OCUPA_PADRE'\n",
    "data_2009_2[c].value_counts().sort_index().index\n",
    "data_2009_2[c].value_counts().sort_index()\n",
    "missing_data(data_2009_2[c])"
   ]
  },
  {
   "cell_type": "code",
   "execution_count": null,
   "metadata": {
    "collapsed": true
   },
   "outputs": [],
   "source": [
    "c = 'FAMI_OCUPA_MADRE'\n",
    "data_2009_2[c].value_counts().sort_index().index\n",
    "data_2009_2[c].value_counts().sort_index()\n",
    "missing_data(data_2009_2[c])"
   ]
  },
  {
   "cell_type": "code",
   "execution_count": null,
   "metadata": {
    "collapsed": true
   },
   "outputs": [],
   "source": [
    "c = 'FAMI_ESTRATO_VIVIENDA'\n",
    "data_2009_2[c].value_counts().sort_index().index\n",
    "data_2009_2[c].value_counts().sort_index()\n",
    "missing_data(data_2009_2[c])"
   ]
  },
  {
   "cell_type": "code",
   "execution_count": null,
   "metadata": {
    "collapsed": true
   },
   "outputs": [],
   "source": [
    "c = 'FAMI_NIVEL_SISBEN'\n",
    "data_2009_2[c].value_counts().sort_index().index\n",
    "data_2009_2[c].value_counts().sort_index()\n",
    "missing_data(data_2009_2[c])"
   ]
  },
  {
   "cell_type": "code",
   "execution_count": null,
   "metadata": {
    "collapsed": true
   },
   "outputs": [],
   "source": [
    "c = 'FAMI_PERSONAS_HOGAR'\n",
    "data_2009_2[c].value_counts().sort_index().index\n",
    "data_2009_2[c].value_counts().sort_index()\n",
    "missing_data(data_2009_2[c])"
   ]
  },
  {
   "cell_type": "code",
   "execution_count": null,
   "metadata": {
    "collapsed": true
   },
   "outputs": [],
   "source": [
    "c = 'FAMI_CUARTOS_HOGAR'\n",
    "data_2009_2[c].value_counts().sort_index().index\n",
    "data_2009_2[c].value_counts().sort_index()\n",
    "missing_data(data_2009_2[c])"
   ]
  },
  {
   "cell_type": "code",
   "execution_count": null,
   "metadata": {
    "collapsed": true
   },
   "outputs": [],
   "source": [
    "c = 'FAMI_PISOSHOGAR'\n",
    "data_2009_2[c].value_counts().sort_index().index\n",
    "data_2009_2[c].value_counts().sort_index()\n",
    "missing_data(data_2009_2[c])"
   ]
  },
  {
   "cell_type": "code",
   "execution_count": null,
   "metadata": {
    "collapsed": true
   },
   "outputs": [],
   "source": [
    "c = 'FAMI_TELEFONO_FIJO'\n",
    "data_2009_2[c].value_counts().sort_index().index\n",
    "data_2009_2[c].value_counts().sort_index()\n",
    "missing_data(data_2009_2[c])"
   ]
  },
  {
   "cell_type": "code",
   "execution_count": null,
   "metadata": {
    "collapsed": true
   },
   "outputs": [],
   "source": [
    "c = 'FAMI_CELULAR'\n",
    "data_2009_2[c].value_counts().sort_index().index\n",
    "data_2009_2[c].value_counts().sort_index()\n",
    "missing_data(data_2009_2[c])"
   ]
  },
  {
   "cell_type": "code",
   "execution_count": null,
   "metadata": {
    "collapsed": true
   },
   "outputs": [],
   "source": [
    "c = 'FAMI_INTERNET'\n",
    "data_2009_2[c].value_counts().sort_index().index\n",
    "data_2009_2[c].value_counts().sort_index()\n",
    "missing_data(data_2009_2[c])"
   ]
  },
  {
   "cell_type": "code",
   "execution_count": null,
   "metadata": {
    "collapsed": true
   },
   "outputs": [],
   "source": [
    "c = 'FAMI_SERVICIO_TELEVISION'\n",
    "data_2009_2[c].value_counts().sort_index().index\n",
    "data_2009_2[c].value_counts().sort_index()\n",
    "missing_data(data_2009_2[c])"
   ]
  },
  {
   "cell_type": "code",
   "execution_count": null,
   "metadata": {
    "collapsed": true
   },
   "outputs": [],
   "source": [
    "c = 'FAMI_COMPUTADOR'\n",
    "data_2009_2[c].value_counts().sort_index().index\n",
    "data_2009_2[c].value_counts().sort_index()\n",
    "missing_data(data_2009_2[c])"
   ]
  },
  {
   "cell_type": "code",
   "execution_count": null,
   "metadata": {
    "collapsed": true
   },
   "outputs": [],
   "source": [
    "c = 'FAMI_LAVADORA'\n",
    "data_2009_2[c].value_counts().sort_index().index\n",
    "data_2009_2[c].value_counts().sort_index()\n",
    "missing_data(data_2009_2[c])"
   ]
  },
  {
   "cell_type": "code",
   "execution_count": null,
   "metadata": {
    "collapsed": true
   },
   "outputs": [],
   "source": [
    "c = 'FAMI_NEVERA'\n",
    "data_2009_2[c].value_counts().sort_index().index\n",
    "data_2009_2[c].value_counts().sort_index()\n",
    "missing_data(data_2009_2[c])"
   ]
  },
  {
   "cell_type": "code",
   "execution_count": null,
   "metadata": {
    "collapsed": true
   },
   "outputs": [],
   "source": [
    "c = 'FAMI_HORNO'\n",
    "data_2009_2[c].value_counts().sort_index().index\n",
    "data_2009_2[c].value_counts().sort_index()\n",
    "missing_data(data_2009_2[c])"
   ]
  },
  {
   "cell_type": "code",
   "execution_count": null,
   "metadata": {
    "collapsed": true
   },
   "outputs": [],
   "source": [
    "c = 'FAMI_DVD'\n",
    "data_2009_2[c].value_counts().sort_index().index\n",
    "data_2009_2[c].value_counts().sort_index()\n",
    "missing_data(data_2009_2[c])"
   ]
  },
  {
   "cell_type": "code",
   "execution_count": null,
   "metadata": {
    "collapsed": true
   },
   "outputs": [],
   "source": [
    "c = 'FAMI_MICROONDAS'\n",
    "data_2009_2[c].value_counts().sort_index().index\n",
    "data_2009_2[c].value_counts().sort_index()\n",
    "missing_data(data_2009_2[c])"
   ]
  },
  {
   "cell_type": "code",
   "execution_count": null,
   "metadata": {
    "collapsed": true
   },
   "outputs": [],
   "source": [
    "c = 'FAMI_AUTOMOVIL'\n",
    "data_2009_2[c].value_counts().sort_index().index\n",
    "data_2009_2[c].value_counts().sort_index()\n",
    "missing_data(data_2009_2[c])"
   ]
  },
  {
   "cell_type": "code",
   "execution_count": null,
   "metadata": {
    "collapsed": true
   },
   "outputs": [],
   "source": [
    "c = 'FAMI_INGRESO_FMILIAR_MENSUAL'\n",
    "data_2009_2[c].value_counts().sort_index().index\n",
    "data_2009_2[c].value_counts().sort_index()\n",
    "missing_data(data_2009_2[c])"
   ]
  },
  {
   "cell_type": "code",
   "execution_count": null,
   "metadata": {
    "collapsed": true
   },
   "outputs": [],
   "source": [
    "c = 'ESTU_TRABAJA'\n",
    "data_2009_2[c].value_counts().sort_index().index\n",
    "data_2009_2[c].value_counts().sort_index()\n",
    "missing_data(data_2009_2[c])"
   ]
  },
  {
   "cell_type": "code",
   "execution_count": null,
   "metadata": {
    "collapsed": true
   },
   "outputs": [],
   "source": [
    "c = 'ESTU_HORAS_TRABAJA'\n",
    "data_2009_2[c].value_counts().sort_index().index\n",
    "data_2009_2[c].value_counts().sort_index()\n",
    "missing_data(data_2009_2[c])"
   ]
  },
  {
   "cell_type": "code",
   "execution_count": null,
   "metadata": {
    "collapsed": true
   },
   "outputs": [],
   "source": [
    "c = 'COLE_VALOR_PENSION'\n",
    "data_2009_2[c].value_counts().sort_index().index\n",
    "data_2009_2[c].value_counts().sort_index()\n",
    "missing_data(data_2009_2[c])"
   ]
  },
  {
   "cell_type": "code",
   "execution_count": null,
   "metadata": {
    "collapsed": true
   },
   "outputs": [],
   "source": [
    "c = 'IND_ANNO_TERMINO_BACHILLERATO'\n",
    "data_2009_2[c].value_counts().sort_index().index\n",
    "data_2009_2[c].value_counts().sort_index()\n",
    "missing_data(data_2009_2[c])"
   ]
  },
  {
   "cell_type": "code",
   "execution_count": null,
   "metadata": {
    "collapsed": true
   },
   "outputs": [],
   "source": [
    "c = 'IND_MES_TERMINO_BACHILLERATO'\n",
    "data_2009_2[c].value_counts().sort_index().index\n",
    "data_2009_2[c].value_counts().sort_index()\n",
    "missing_data(data_2009_2[c])"
   ]
  },
  {
   "cell_type": "code",
   "execution_count": null,
   "metadata": {
    "collapsed": true
   },
   "outputs": [],
   "source": [
    "c = 'IND_TERMINO_BACHILLERATO'\n",
    "data_2009_2[c].value_counts().sort_index().index\n",
    "data_2009_2[c].value_counts().sort_index()\n",
    "missing_data(data_2009_2[c])"
   ]
  },
  {
   "cell_type": "code",
   "execution_count": null,
   "metadata": {
    "collapsed": true
   },
   "outputs": [],
   "source": [
    "c = 'IND_COD_ICFES_TERMINO'\n",
    "data_2009_2[c].value_counts().sort_index().index\n",
    "data_2009_2[c].value_counts().sort_index()\n",
    "missing_data(data_2009_2[c])"
   ]
  },
  {
   "cell_type": "code",
   "execution_count": null,
   "metadata": {
    "collapsed": true
   },
   "outputs": [],
   "source": [
    "c = 'COLE_COD_ICFES'\n",
    "data_2009_2[c].value_counts().sort_index().index\n",
    "data_2009_2[c].value_counts().sort_index()\n",
    "missing_data(data_2009_2[c])"
   ]
  },
  {
   "cell_type": "code",
   "execution_count": null,
   "metadata": {
    "collapsed": true
   },
   "outputs": [],
   "source": [
    "c = 'COLE_COD_DANE_INSTITUCION'\n",
    "data_2009_2[c].value_counts().sort_index().index\n",
    "data_2009_2[c].value_counts().sort_index()\n",
    "missing_data(data_2009_2[c])"
   ]
  },
  {
   "cell_type": "code",
   "execution_count": null,
   "metadata": {
    "collapsed": true
   },
   "outputs": [],
   "source": [
    "c = 'COLE_CALENDARIO'\n",
    "data_2009_2[c].value_counts().sort_index().index\n",
    "data_2009_2[c].value_counts().sort_index()\n",
    "missing_data(data_2009_2[c])"
   ]
  },
  {
   "cell_type": "code",
   "execution_count": null,
   "metadata": {
    "collapsed": true
   },
   "outputs": [],
   "source": [
    "c = 'COLE_GENERO'\n",
    "data_2009_2[c].value_counts().sort_index().index\n",
    "data_2009_2[c].value_counts().sort_index()\n",
    "missing_data(data_2009_2[c])"
   ]
  },
  {
   "cell_type": "code",
   "execution_count": null,
   "metadata": {
    "collapsed": true
   },
   "outputs": [],
   "source": [
    "c = 'COLE_NATURALEZA'\n",
    "data_2009_2[c].value_counts().sort_index().index\n",
    "data_2009_2[c].value_counts().sort_index()\n",
    "missing_data(data_2009_2[c])"
   ]
  },
  {
   "cell_type": "code",
   "execution_count": null,
   "metadata": {
    "collapsed": true
   },
   "outputs": [],
   "source": [
    "c = 'COLE_BILINGUE'\n",
    "data_2009_2[c].value_counts().sort_index().index\n",
    "data_2009_2[c].value_counts().sort_index()\n",
    "missing_data(data_2009_2[c])"
   ]
  },
  {
   "cell_type": "code",
   "execution_count": null,
   "metadata": {
    "collapsed": true
   },
   "outputs": [],
   "source": [
    "c = 'COLE_JORNADA'\n",
    "data_2009_2[c].value_counts().sort_index().index\n",
    "data_2009_2[c].value_counts().sort_index()\n",
    "missing_data(data_2009_2[c])"
   ]
  },
  {
   "cell_type": "code",
   "execution_count": null,
   "metadata": {
    "collapsed": true
   },
   "outputs": [],
   "source": [
    "c = 'COLE_CARACTER'\n",
    "data_2009_2[c].value_counts().sort_index().index\n",
    "data_2009_2[c].value_counts().sort_index()\n",
    "missing_data(data_2009_2[c])"
   ]
  },
  {
   "cell_type": "code",
   "execution_count": null,
   "metadata": {
    "collapsed": true
   },
   "outputs": [],
   "source": [
    "c = 'ESTU_CARRDESEADA_TIPO'\n",
    "data_2009_2[c].value_counts().sort_index().index\n",
    "data_2009_2[c].value_counts().sort_index()\n",
    "missing_data(data_2009_2[c])"
   ]
  },
  {
   "cell_type": "code",
   "execution_count": null,
   "metadata": {
    "collapsed": true
   },
   "outputs": [],
   "source": [
    "c = 'ESTU_IES_COD_DESEADA'\n",
    "data_2009_2[c].value_counts().sort_index().index\n",
    "data_2009_2[c].value_counts().sort_index()\n",
    "missing_data(data_2009_2[c])"
   ]
  },
  {
   "cell_type": "code",
   "execution_count": null,
   "metadata": {
    "collapsed": true
   },
   "outputs": [],
   "source": [
    "c = 'ESTU_IES_DEPT_DESEADA'\n",
    "data_2009_2[c].value_counts().sort_index().index\n",
    "data_2009_2[c].value_counts().sort_index()\n",
    "missing_data(data_2009_2[c])"
   ]
  },
  {
   "cell_type": "code",
   "execution_count": null,
   "metadata": {
    "collapsed": true
   },
   "outputs": [],
   "source": [
    "c = 'ESTU_IES_MPIO_DESEADA'\n",
    "data_2009_2[c].value_counts().sort_index().index\n",
    "data_2009_2[c].value_counts().sort_index()\n",
    "missing_data(data_2009_2[c])"
   ]
  },
  {
   "cell_type": "code",
   "execution_count": null,
   "metadata": {
    "collapsed": true
   },
   "outputs": [],
   "source": [
    "c = 'ESTU_TOTAL_ALUMNOS_CURSO'\n",
    "data_2009_2[c].value_counts().sort_index().index\n",
    "data_2009_2[c].value_counts().sort_index()\n",
    "missing_data(data_2009_2[c])"
   ]
  },
  {
   "cell_type": "code",
   "execution_count": null,
   "metadata": {
    "collapsed": true
   },
   "outputs": [],
   "source": [
    "c = 'ESTU_ANO_MATRICULA_PRIMERO'\n",
    "data_2009_2[c].value_counts().sort_index().index\n",
    "data_2009_2[c].value_counts().sort_index()\n",
    "missing_data(data_2009_2[c])"
   ]
  },
  {
   "cell_type": "code",
   "execution_count": null,
   "metadata": {
    "collapsed": true
   },
   "outputs": [],
   "source": [
    "c = 'ESTU_ANO_TERMINO_QUINTO'\n",
    "data_2009_2[c].value_counts().sort_index().index\n",
    "data_2009_2[c].value_counts().sort_index()\n",
    "missing_data(data_2009_2[c])"
   ]
  },
  {
   "cell_type": "code",
   "execution_count": null,
   "metadata": {
    "collapsed": true
   },
   "outputs": [],
   "source": [
    "c = 'ESTU_ANOS_COLEGIO_ACTUAL'\n",
    "data_2009_2[c].value_counts().sort_index().index\n",
    "data_2009_2[c].value_counts().sort_index()\n",
    "missing_data(data_2009_2[c])"
   ]
  },
  {
   "cell_type": "code",
   "execution_count": null,
   "metadata": {
    "collapsed": true
   },
   "outputs": [],
   "source": [
    "c = 'ESTU_ANO_MATRICULA_SEXTO'\n",
    "data_2009_2[c].value_counts().sort_index().index\n",
    "data_2009_2[c].value_counts().sort_index()\n",
    "missing_data(data_2009_2[c])"
   ]
  },
  {
   "cell_type": "code",
   "execution_count": null,
   "metadata": {
    "collapsed": true
   },
   "outputs": [],
   "source": [
    "c = 'ESTU_ANOS_PREESCOLAR'\n",
    "data_2009_2[c].value_counts().sort_index().index\n",
    "data_2009_2[c].value_counts().sort_index()\n",
    "missing_data(data_2009_2[c])"
   ]
  },
  {
   "cell_type": "code",
   "execution_count": null,
   "metadata": {
    "collapsed": true
   },
   "outputs": [],
   "source": [
    "c = 'ESTU_CUANTOS_COLE_ESTUDIO'\n",
    "data_2009_2[c].value_counts().sort_index().index\n",
    "data_2009_2[c].value_counts().sort_index()\n",
    "missing_data(data_2009_2[c])"
   ]
  },
  {
   "cell_type": "code",
   "execution_count": null,
   "metadata": {
    "collapsed": true
   },
   "outputs": [],
   "source": [
    "c = 'ESTU_REPROBO_CUARTO'\n",
    "data_2009_2[c].value_counts().sort_index().index\n",
    "data_2009_2[c].value_counts().sort_index()\n",
    "missing_data(data_2009_2[c])"
   ]
  },
  {
   "cell_type": "code",
   "execution_count": null,
   "metadata": {
    "collapsed": true
   },
   "outputs": [],
   "source": [
    "c = 'ESTU_REPROBO_DECIMO'\n",
    "data_2009_2[c].value_counts().sort_index().index\n",
    "data_2009_2[c].value_counts().sort_index()\n",
    "missing_data(data_2009_2[c])"
   ]
  },
  {
   "cell_type": "code",
   "execution_count": null,
   "metadata": {
    "collapsed": true
   },
   "outputs": [],
   "source": [
    "c = 'ESTU_REPROBO_NOVENO'\n",
    "data_2009_2[c].value_counts().sort_index().index\n",
    "data_2009_2[c].value_counts().sort_index()\n",
    "missing_data(data_2009_2[c])"
   ]
  },
  {
   "cell_type": "code",
   "execution_count": null,
   "metadata": {
    "collapsed": true
   },
   "outputs": [],
   "source": [
    "c = 'ESTU_REPROBO_OCTAVO'\n",
    "data_2009_2[c].value_counts().sort_index().index\n",
    "data_2009_2[c].value_counts().sort_index()\n",
    "missing_data(data_2009_2[c])"
   ]
  },
  {
   "cell_type": "code",
   "execution_count": null,
   "metadata": {
    "collapsed": true
   },
   "outputs": [],
   "source": [
    "c = 'ESTU_REPROBO_PRIMERO'\n",
    "data_2009_2[c].value_counts().sort_index().index\n",
    "data_2009_2[c].value_counts().sort_index()\n",
    "missing_data(data_2009_2[c])"
   ]
  },
  {
   "cell_type": "code",
   "execution_count": null,
   "metadata": {
    "collapsed": true
   },
   "outputs": [],
   "source": [
    "c = 'ESTU_REPROBO_QUINTO'\n",
    "data_2009_2[c].value_counts().sort_index().index\n",
    "data_2009_2[c].value_counts().sort_index()\n",
    "missing_data(data_2009_2[c])"
   ]
  },
  {
   "cell_type": "code",
   "execution_count": null,
   "metadata": {
    "collapsed": true
   },
   "outputs": [],
   "source": [
    "c = 'ESTU_REPROBO_SEGUNDO'\n",
    "data_2009_2[c].value_counts().sort_index().index\n",
    "data_2009_2[c].value_counts().sort_index()\n",
    "missing_data(data_2009_2[c])"
   ]
  },
  {
   "cell_type": "code",
   "execution_count": null,
   "metadata": {
    "collapsed": true
   },
   "outputs": [],
   "source": [
    "c = 'ESTU_REPROBO_SEPTIMO'\n",
    "data_2009_2[c].value_counts().sort_index().index\n",
    "data_2009_2[c].value_counts().sort_index()\n",
    "missing_data(data_2009_2[c])"
   ]
  },
  {
   "cell_type": "code",
   "execution_count": null,
   "metadata": {
    "collapsed": true
   },
   "outputs": [],
   "source": [
    "c = 'ESTU_REPROBO_SEXTO'\n",
    "data_2009_2[c].value_counts().sort_index().index\n",
    "data_2009_2[c].value_counts().sort_index()\n",
    "missing_data(data_2009_2[c])"
   ]
  },
  {
   "cell_type": "code",
   "execution_count": null,
   "metadata": {
    "collapsed": true
   },
   "outputs": [],
   "source": [
    "c = 'ESTU_REPROBO_TERCERO'\n",
    "data_2009_2[c].value_counts().sort_index().index\n",
    "data_2009_2[c].value_counts().sort_index()\n",
    "missing_data(data_2009_2[c])"
   ]
  },
  {
   "cell_type": "code",
   "execution_count": null,
   "metadata": {
    "collapsed": true
   },
   "outputs": [],
   "source": [
    "c = 'ESTU_REPROBO_ONCE_MAS'\n",
    "data_2009_2[c].value_counts().sort_index().index\n",
    "data_2009_2[c].value_counts().sort_index()\n",
    "missing_data(data_2009_2[c])"
   ]
  },
  {
   "cell_type": "code",
   "execution_count": null,
   "metadata": {
    "collapsed": true
   },
   "outputs": [],
   "source": [
    "c = 'ESTU_POR_MEJORARPOSICIONSOCIAL'\n",
    "data_2009_2[c].value_counts().sort_index().index\n",
    "data_2009_2[c].value_counts().sort_index()\n",
    "missing_data(data_2009_2[c])"
   ]
  },
  {
   "cell_type": "code",
   "execution_count": null,
   "metadata": {
    "collapsed": true
   },
   "outputs": [],
   "source": [
    "c = 'ESTU_POR_COLOMBIAAPRENDE'\n",
    "data_2009_2[c].value_counts().sort_index().index\n",
    "data_2009_2[c].value_counts().sort_index()\n",
    "missing_data(data_2009_2[c])"
   ]
  },
  {
   "cell_type": "code",
   "execution_count": null,
   "metadata": {
    "collapsed": true
   },
   "outputs": [],
   "source": [
    "c = 'ESTU_POR_INFLUENCIAALGUIEN'\n",
    "data_2009_2[c].value_counts().sort_index().index\n",
    "data_2009_2[c].value_counts().sort_index()\n",
    "missing_data(data_2009_2[c])"
   ]
  },
  {
   "cell_type": "code",
   "execution_count": null,
   "metadata": {
    "collapsed": true
   },
   "outputs": [],
   "source": [
    "c = 'ESTU_POR_INTERESPERSONAL'\n",
    "data_2009_2[c].value_counts().sort_index().index\n",
    "data_2009_2[c].value_counts().sort_index()\n",
    "missing_data(data_2009_2[c])"
   ]
  },
  {
   "cell_type": "code",
   "execution_count": null,
   "metadata": {
    "collapsed": true
   },
   "outputs": [],
   "source": [
    "c = 'ESTU_POR_BUSCANDOCARRERA'\n",
    "data_2009_2[c].value_counts().sort_index().index\n",
    "data_2009_2[c].value_counts().sort_index()\n",
    "missing_data(data_2009_2[c])"
   ]
  },
  {
   "cell_type": "code",
   "execution_count": null,
   "metadata": {
    "collapsed": true
   },
   "outputs": [],
   "source": [
    "c = 'ESTU_POR_TRADICIONFAMILIAR'\n",
    "data_2009_2[c].value_counts().sort_index().index\n",
    "data_2009_2[c].value_counts().sort_index()\n",
    "missing_data(data_2009_2[c])"
   ]
  },
  {
   "cell_type": "code",
   "execution_count": null,
   "metadata": {
    "collapsed": true
   },
   "outputs": [],
   "source": [
    "c = 'ESTU_POR_ORIENTACIONVOCACIONAL'\n",
    "data_2009_2[c].value_counts().sort_index().index\n",
    "data_2009_2[c].value_counts().sort_index()\n",
    "missing_data(data_2009_2[c])"
   ]
  },
  {
   "cell_type": "code",
   "execution_count": null,
   "metadata": {
    "collapsed": true
   },
   "outputs": [],
   "source": [
    "c = 'ESTU_RAZON_RETIRO'\n",
    "data_2009_2[c].value_counts().sort_index().index\n",
    "data_2009_2[c].value_counts().sort_index()\n",
    "missing_data(data_2009_2[c])"
   ]
  },
  {
   "cell_type": "code",
   "execution_count": null,
   "metadata": {
    "collapsed": true
   },
   "outputs": [],
   "source": [
    "c = 'ESTU_POR_AMIGOSESTUDIANDO'\n",
    "data_2009_2[c].value_counts().sort_index().index\n",
    "data_2009_2[c].value_counts().sort_index()\n",
    "missing_data(data_2009_2[c])"
   ]
  },
  {
   "cell_type": "code",
   "execution_count": null,
   "metadata": {
    "collapsed": true
   },
   "outputs": [],
   "source": [
    "c = 'ESTU_POR_COSTOMATRICULA'\n",
    "data_2009_2[c].value_counts().sort_index().index\n",
    "data_2009_2[c].value_counts().sort_index()\n",
    "missing_data(data_2009_2[c])"
   ]
  },
  {
   "cell_type": "code",
   "execution_count": null,
   "metadata": {
    "collapsed": true
   },
   "outputs": [],
   "source": [
    "c = 'ESTU_POR_OPORTUNIDADES'\n",
    "data_2009_2[c].value_counts().sort_index().index\n",
    "data_2009_2[c].value_counts().sort_index()\n",
    "missing_data(data_2009_2[c])"
   ]
  },
  {
   "cell_type": "code",
   "execution_count": null,
   "metadata": {
    "collapsed": true
   },
   "outputs": [],
   "source": [
    "c = 'ESTU_POR_OTRARAZON'\n",
    "data_2009_2[c].value_counts().sort_index().index\n",
    "data_2009_2[c].value_counts().sort_index()\n",
    "missing_data(data_2009_2[c])"
   ]
  },
  {
   "cell_type": "code",
   "execution_count": null,
   "metadata": {
    "collapsed": true
   },
   "outputs": [],
   "source": [
    "c = 'ESTU_PRESTIGIOINSTITUCION'\n",
    "data_2009_2[c].value_counts().sort_index().index\n",
    "data_2009_2[c].value_counts().sort_index()\n",
    "missing_data(data_2009_2[c])"
   ]
  },
  {
   "cell_type": "code",
   "execution_count": null,
   "metadata": {
    "collapsed": true
   },
   "outputs": [],
   "source": [
    "c = 'ESTU_POR_UBICACION'\n",
    "data_2009_2[c].value_counts().sort_index().index\n",
    "data_2009_2[c].value_counts().sort_index()\n",
    "missing_data(data_2009_2[c])"
   ]
  },
  {
   "cell_type": "code",
   "execution_count": null,
   "metadata": {
    "collapsed": true
   },
   "outputs": [],
   "source": [
    "c = 'ESTU_POR_UNICAQUEOFRECE'\n",
    "data_2009_2[c].value_counts().sort_index().index\n",
    "data_2009_2[c].value_counts().sort_index()\n",
    "missing_data(data_2009_2[c])"
   ]
  },
  {
   "cell_type": "code",
   "execution_count": null,
   "metadata": {
    "collapsed": true
   },
   "outputs": [],
   "source": [
    "c = 'ESTU_RETIRARSE_COLEGIO'\n",
    "data_2009_2[c].value_counts().sort_index().index\n",
    "data_2009_2[c].value_counts().sort_index()\n",
    "missing_data(data_2009_2[c])"
   ]
  },
  {
   "cell_type": "code",
   "execution_count": null,
   "metadata": {
    "collapsed": true
   },
   "outputs": [],
   "source": [
    "c = 'ESTU_PROGRAMA_ACADEMICODESEADO'\n",
    "data_2009_2[c].value_counts().sort_index().index\n",
    "data_2009_2[c].value_counts().sort_index()\n",
    "missing_data(data_2009_2[c])"
   ]
  },
  {
   "cell_type": "code",
   "execution_count": null,
   "metadata": {
    "collapsed": true
   },
   "outputs": [],
   "source": [
    "c = 'ESTU_VECES_ESTADO'\n",
    "data_2009_2[c].value_counts().sort_index().index\n",
    "data_2009_2[c].value_counts().sort_index()\n",
    "missing_data(data_2009_2[c])"
   ]
  },
  {
   "cell_type": "code",
   "execution_count": null,
   "metadata": {
    "collapsed": true
   },
   "outputs": [],
   "source": [
    "c = 'ESTU_CARRDESEADA_RAZON'\n",
    "data_2009_2[c].value_counts().sort_index().index\n",
    "data_2009_2[c].value_counts().sort_index()\n",
    "missing_data(data_2009_2[c])"
   ]
  },
  {
   "cell_type": "code",
   "execution_count": null,
   "metadata": {
    "collapsed": true
   },
   "outputs": [],
   "source": [
    "c = 'ESTU_MCPIO_PRESENTACION'\n",
    "data_2009_2[c].value_counts().sort_index().index\n",
    "data_2009_2[c].value_counts().sort_index()\n",
    "missing_data(data_2009_2[c])"
   ]
  },
  {
   "cell_type": "code",
   "execution_count": null,
   "metadata": {
    "collapsed": true
   },
   "outputs": [],
   "source": [
    "c = 'ESTU_DEPTO_PRESENTACION'\n",
    "data_2009_2[c].value_counts().sort_index().index\n",
    "data_2009_2[c].value_counts().sort_index()\n",
    "missing_data(data_2009_2[c])"
   ]
  },
  {
   "cell_type": "code",
   "execution_count": null,
   "metadata": {
    "collapsed": true
   },
   "outputs": [],
   "source": [
    "c = 'ESTU_EXAM_NOMBREEXAMEN'\n",
    "data_2009_2[c].value_counts().sort_index().index\n",
    "data_2009_2[c].value_counts().sort_index()\n",
    "missing_data(data_2009_2[c])"
   ]
  },
  {
   "cell_type": "code",
   "execution_count": null,
   "metadata": {
    "collapsed": true
   },
   "outputs": [],
   "source": [
    "c = 'PUNT_LENGUAJE'\n",
    "data_2009_2[c].value_counts().sort_index().index\n",
    "data_2009_2[c].value_counts().sort_index()\n",
    "missing_data(data_2009_2[c])"
   ]
  },
  {
   "cell_type": "code",
   "execution_count": null,
   "metadata": {
    "collapsed": true
   },
   "outputs": [],
   "source": [
    "c = 'PUNT_MATEMATICAS'\n",
    "data_2009_2[c].value_counts().sort_index().index\n",
    "data_2009_2[c].value_counts().sort_index()\n",
    "missing_data(data_2009_2[c])"
   ]
  },
  {
   "cell_type": "code",
   "execution_count": null,
   "metadata": {
    "collapsed": true
   },
   "outputs": [],
   "source": [
    "c = 'PUNT_C_SOCIALES'\n",
    "data_2009_2[c].value_counts().sort_index().index\n",
    "data_2009_2[c].value_counts().sort_index()\n",
    "missing_data(data_2009_2[c])"
   ]
  },
  {
   "cell_type": "code",
   "execution_count": null,
   "metadata": {
    "collapsed": true
   },
   "outputs": [],
   "source": [
    "c = 'PUNT_FILOSOFIA'\n",
    "data_2009_2[c].value_counts().sort_index().index\n",
    "data_2009_2[c].value_counts().sort_index()\n",
    "missing_data(data_2009_2[c])"
   ]
  },
  {
   "cell_type": "code",
   "execution_count": null,
   "metadata": {
    "collapsed": true
   },
   "outputs": [],
   "source": [
    "c = 'PUNT_BIOLOGIA'\n",
    "data_2009_2[c].value_counts().sort_index().index\n",
    "data_2009_2[c].value_counts().sort_index()\n",
    "missing_data(data_2009_2[c])"
   ]
  },
  {
   "cell_type": "code",
   "execution_count": null,
   "metadata": {
    "collapsed": true
   },
   "outputs": [],
   "source": [
    "c = 'PUNT_QUIMICA'\n",
    "data_2009_2[c].value_counts().sort_index().index\n",
    "data_2009_2[c].value_counts().sort_index()\n",
    "missing_data(data_2009_2[c])"
   ]
  },
  {
   "cell_type": "code",
   "execution_count": null,
   "metadata": {
    "collapsed": true
   },
   "outputs": [],
   "source": [
    "c = 'PUNT_FISICA'\n",
    "data_2009_2[c].value_counts().sort_index().index\n",
    "data_2009_2[c].value_counts().sort_index()\n",
    "missing_data(data_2009_2[c])"
   ]
  },
  {
   "cell_type": "code",
   "execution_count": null,
   "metadata": {
    "collapsed": true
   },
   "outputs": [],
   "source": [
    "c = 'PUNT_INGLES'\n",
    "data_2009_2[c].value_counts().sort_index().index\n",
    "data_2009_2[c].value_counts().sort_index()\n",
    "missing_data(data_2009_2[c])"
   ]
  },
  {
   "cell_type": "code",
   "execution_count": null,
   "metadata": {
    "collapsed": true
   },
   "outputs": [],
   "source": [
    "c = 'DESEMP_INGLES'\n",
    "data_2009_2[c].value_counts().sort_index().index\n",
    "data_2009_2[c].value_counts().sort_index()\n",
    "missing_data(data_2009_2[c])"
   ]
  },
  {
   "cell_type": "code",
   "execution_count": null,
   "metadata": {
    "collapsed": true
   },
   "outputs": [],
   "source": [
    "c = 'NOMBRE_PROFUNDIZACION'\n",
    "data_2009_2[c].value_counts().sort_index().index\n",
    "data_2009_2[c].value_counts().sort_index()\n",
    "missing_data(data_2009_2[c])"
   ]
  },
  {
   "cell_type": "code",
   "execution_count": null,
   "metadata": {
    "collapsed": true
   },
   "outputs": [],
   "source": [
    "c = 'PUNT_PROFUNDIZACION'\n",
    "data_2009_2[c].value_counts().sort_index().index\n",
    "data_2009_2[c].value_counts().sort_index()\n",
    "missing_data(data_2009_2[c])"
   ]
  },
  {
   "cell_type": "code",
   "execution_count": null,
   "metadata": {
    "collapsed": true
   },
   "outputs": [],
   "source": [
    "c = 'DESEMP_PROFUNDIZACION'\n",
    "data_2009_2[c].value_counts().sort_index().index\n",
    "data_2009_2[c].value_counts().sort_index()\n",
    "missing_data(data_2009_2[c])"
   ]
  },
  {
   "cell_type": "code",
   "execution_count": null,
   "metadata": {
    "collapsed": true
   },
   "outputs": [],
   "source": [
    "c = 'NOMBRE_INTERDISCIPLINAR'\n",
    "data_2009_2[c].value_counts().sort_index().index\n",
    "data_2009_2[c].value_counts().sort_index()\n",
    "missing_data(data_2009_2[c])"
   ]
  },
  {
   "cell_type": "code",
   "execution_count": null,
   "metadata": {
    "collapsed": true
   },
   "outputs": [],
   "source": [
    "c = 'PUNT_INTERDISCIPLINAR'\n",
    "data_2009_2[c].value_counts().sort_index().index\n",
    "data_2009_2[c].value_counts().sort_index()\n",
    "missing_data(data_2009_2[c])"
   ]
  },
  {
   "cell_type": "code",
   "execution_count": null,
   "metadata": {
    "collapsed": true
   },
   "outputs": [],
   "source": [
    "c = 'ESTU_PUESTO'\n",
    "data_2009_2[c].value_counts().sort_index().index\n",
    "data_2009_2[c].value_counts().sort_index()\n",
    "missing_data(data_2009_2[c])"
   ]
  },
  {
   "cell_type": "markdown",
   "metadata": {},
   "source": [
    "Now i can transform the obtained Dataframes in csv files"
   ]
  },
  {
   "cell_type": "code",
   "execution_count": null,
   "metadata": {
    "collapsed": true
   },
   "outputs": [],
   "source": []
  }
 ],
 "metadata": {
  "kernelspec": {
   "display_name": "Python 3",
   "language": "python",
   "name": "python3"
  },
  "language_info": {
   "codemirror_mode": {
    "name": "ipython",
    "version": 3
   },
   "file_extension": ".py",
   "mimetype": "text/x-python",
   "name": "python",
   "nbconvert_exporter": "python",
   "pygments_lexer": "ipython3",
   "version": "3.4.2"
  }
 },
 "nbformat": 4,
 "nbformat_minor": 0
}
