{
 "cells": [
  {
   "cell_type": "code",
   "execution_count": 1,
   "metadata": {
    "collapsed": true
   },
   "outputs": [],
   "source": [
    "import pandas as pd\n",
    "import numpy as np\n",
    "%run -i ../tools/functions.py\n",
    "%run -i ../tools/label_encoder.py"
   ]
  },
  {
   "cell_type": "code",
   "execution_count": 2,
   "metadata": {
    "collapsed": true
   },
   "outputs": [],
   "source": [
    "data_2006 = pd.read_csv('../DatosFTPICFES/SABER11/SB11-BASES_DE_DATOS/SB11-20061-RGSTRO-CLFCCN-V1-0.txt', delimiter='|',\n",
    "                       encoding = \"iso-8859-1\")"
   ]
  },
  {
   "cell_type": "code",
   "execution_count": 3,
   "metadata": {
    "collapsed": false
   },
   "outputs": [
    {
     "data": {
      "text/plain": [
       "(61335, 85)"
      ]
     },
     "execution_count": 3,
     "metadata": {},
     "output_type": "execute_result"
    }
   ],
   "source": [
    "data_2006.shape"
   ]
  },
  {
   "cell_type": "code",
   "execution_count": 4,
   "metadata": {
    "collapsed": false,
    "scrolled": true
   },
   "outputs": [
    {
     "data": {
      "text/html": [
       "<div>\n",
       "<table border=\"1\" class=\"dataframe\">\n",
       "  <thead>\n",
       "    <tr style=\"text-align: right;\">\n",
       "      <th></th>\n",
       "      <th>0</th>\n",
       "      <th>1</th>\n",
       "      <th>2</th>\n",
       "    </tr>\n",
       "  </thead>\n",
       "  <tbody>\n",
       "    <tr>\n",
       "      <th>ESTU_CONSECUTIVO</th>\n",
       "      <td>SB1120061000001</td>\n",
       "      <td>SB1120061000002</td>\n",
       "      <td>SB1120061000003</td>\n",
       "    </tr>\n",
       "    <tr>\n",
       "      <th>PERIODO</th>\n",
       "      <td>20061</td>\n",
       "      <td>20061</td>\n",
       "      <td>20061</td>\n",
       "    </tr>\n",
       "    <tr>\n",
       "      <th>ESTU_TIPO_DOCUMENTO</th>\n",
       "      <td>T</td>\n",
       "      <td>R</td>\n",
       "      <td>C</td>\n",
       "    </tr>\n",
       "    <tr>\n",
       "      <th>ESTU_PAIS_RESIDE</th>\n",
       "      <td>CO</td>\n",
       "      <td>CO</td>\n",
       "      <td>CO</td>\n",
       "    </tr>\n",
       "    <tr>\n",
       "      <th>ESTU_GENERO</th>\n",
       "      <td>F</td>\n",
       "      <td>F</td>\n",
       "      <td>F</td>\n",
       "    </tr>\n",
       "    <tr>\n",
       "      <th>ESTU_NACIMIENTO_DIA</th>\n",
       "      <td>24</td>\n",
       "      <td>29</td>\n",
       "      <td>24</td>\n",
       "    </tr>\n",
       "    <tr>\n",
       "      <th>ESTU_NACIMIENTO_MES</th>\n",
       "      <td>4</td>\n",
       "      <td>12</td>\n",
       "      <td>10</td>\n",
       "    </tr>\n",
       "    <tr>\n",
       "      <th>ESTU_NACIMIENTO_ANNO</th>\n",
       "      <td>1989</td>\n",
       "      <td>1988</td>\n",
       "      <td>1987</td>\n",
       "    </tr>\n",
       "    <tr>\n",
       "      <th>ESTU_EDAD</th>\n",
       "      <td>16</td>\n",
       "      <td>17</td>\n",
       "      <td>18</td>\n",
       "    </tr>\n",
       "    <tr>\n",
       "      <th>ESTU_LIMITA_BAJAVISION</th>\n",
       "      <td>NaN</td>\n",
       "      <td>NaN</td>\n",
       "      <td>NaN</td>\n",
       "    </tr>\n",
       "    <tr>\n",
       "      <th>ESTU_LIMITA_SORDOCEGUERA</th>\n",
       "      <td>NaN</td>\n",
       "      <td>NaN</td>\n",
       "      <td>NaN</td>\n",
       "    </tr>\n",
       "    <tr>\n",
       "      <th>ESTU_LIMITA_COGNITIVA</th>\n",
       "      <td>NaN</td>\n",
       "      <td>NaN</td>\n",
       "      <td>NaN</td>\n",
       "    </tr>\n",
       "    <tr>\n",
       "      <th>ESTU_LIMITA_INVIDENTE</th>\n",
       "      <td>NaN</td>\n",
       "      <td>NaN</td>\n",
       "      <td>NaN</td>\n",
       "    </tr>\n",
       "    <tr>\n",
       "      <th>ESTU_LIMITA_MOTRIZ</th>\n",
       "      <td>NaN</td>\n",
       "      <td>NaN</td>\n",
       "      <td>NaN</td>\n",
       "    </tr>\n",
       "    <tr>\n",
       "      <th>ESTU_LIMITA_SORDOINTERPRETE</th>\n",
       "      <td>NaN</td>\n",
       "      <td>NaN</td>\n",
       "      <td>NaN</td>\n",
       "    </tr>\n",
       "    <tr>\n",
       "      <th>ESTU_LIMITA_SORDONOINTERPRETE</th>\n",
       "      <td>NaN</td>\n",
       "      <td>NaN</td>\n",
       "      <td>NaN</td>\n",
       "    </tr>\n",
       "    <tr>\n",
       "      <th>ESTU_COD_RESIDE_MCPIO</th>\n",
       "      <td>76823</td>\n",
       "      <td>76823</td>\n",
       "      <td>11001</td>\n",
       "    </tr>\n",
       "    <tr>\n",
       "      <th>ESTU_RESIDE_MCPIO</th>\n",
       "      <td>TORO</td>\n",
       "      <td>TORO</td>\n",
       "      <td>BOGOTÃ D.C.</td>\n",
       "    </tr>\n",
       "    <tr>\n",
       "      <th>ESTU_RESIDE_DEPTO</th>\n",
       "      <td>VALLE</td>\n",
       "      <td>VALLE</td>\n",
       "      <td>BOGOTÃ</td>\n",
       "    </tr>\n",
       "    <tr>\n",
       "      <th>ESTU_ZONA_RESIDE</th>\n",
       "      <td>10</td>\n",
       "      <td>10</td>\n",
       "      <td>1</td>\n",
       "    </tr>\n",
       "    <tr>\n",
       "      <th>ESTU_AREA_RESIDE</th>\n",
       "      <td>NaN</td>\n",
       "      <td>NaN</td>\n",
       "      <td>NaN</td>\n",
       "    </tr>\n",
       "    <tr>\n",
       "      <th>ESTU_COD_MCPIO_PRESENTACION</th>\n",
       "      <td>76823</td>\n",
       "      <td>76823</td>\n",
       "      <td>44035</td>\n",
       "    </tr>\n",
       "    <tr>\n",
       "      <th>ESTU_MCPIO_PRESENTACION</th>\n",
       "      <td>TORO</td>\n",
       "      <td>TORO</td>\n",
       "      <td>ALBANIA</td>\n",
       "    </tr>\n",
       "    <tr>\n",
       "      <th>ESTU_DEPTO_PRESENTACION</th>\n",
       "      <td>VALLE</td>\n",
       "      <td>VALLE</td>\n",
       "      <td>LA GUAJIRA</td>\n",
       "    </tr>\n",
       "    <tr>\n",
       "      <th>ESTU_EXAM_NOMBREEXAMEN</th>\n",
       "      <td>EXAMEN DE ESTADO  (2006)</td>\n",
       "      <td>EXAMEN DE ESTADO  (2006)</td>\n",
       "      <td>EXAMEN DE ESTADO  (2006)</td>\n",
       "    </tr>\n",
       "    <tr>\n",
       "      <th>IND_ESTUDIO_BACHILLERATO</th>\n",
       "      <td>1</td>\n",
       "      <td>1</td>\n",
       "      <td>1</td>\n",
       "    </tr>\n",
       "    <tr>\n",
       "      <th>IND_ANNO_TERMINO_BACHILLERATO</th>\n",
       "      <td>2005</td>\n",
       "      <td>2005</td>\n",
       "      <td>2005</td>\n",
       "    </tr>\n",
       "    <tr>\n",
       "      <th>IND_TERMINO_BACHILLERATO</th>\n",
       "      <td>NaN</td>\n",
       "      <td>NaN</td>\n",
       "      <td>NaN</td>\n",
       "    </tr>\n",
       "    <tr>\n",
       "      <th>IND_COD_ICFES_TERMINO</th>\n",
       "      <td>18861</td>\n",
       "      <td>18861</td>\n",
       "      <td>50724</td>\n",
       "    </tr>\n",
       "    <tr>\n",
       "      <th>COLE_COD_ICFES</th>\n",
       "      <td>18861</td>\n",
       "      <td>18861</td>\n",
       "      <td>50724</td>\n",
       "    </tr>\n",
       "    <tr>\n",
       "      <th>...</th>\n",
       "      <td>...</td>\n",
       "      <td>...</td>\n",
       "      <td>...</td>\n",
       "    </tr>\n",
       "    <tr>\n",
       "      <th>FAMI_INGRESO_FMILIAR_MENSUAL</th>\n",
       "      <td>NaN</td>\n",
       "      <td>NaN</td>\n",
       "      <td>6</td>\n",
       "    </tr>\n",
       "    <tr>\n",
       "      <th>ESTU_TRABAJA</th>\n",
       "      <td>NaN</td>\n",
       "      <td>NaN</td>\n",
       "      <td>0</td>\n",
       "    </tr>\n",
       "    <tr>\n",
       "      <th>ESTU_HORAS_TRABAJA</th>\n",
       "      <td>NaN</td>\n",
       "      <td>NaN</td>\n",
       "      <td>NaN</td>\n",
       "    </tr>\n",
       "    <tr>\n",
       "      <th>COLE_VALOR_PENSION</th>\n",
       "      <td>0</td>\n",
       "      <td>0</td>\n",
       "      <td>7</td>\n",
       "    </tr>\n",
       "    <tr>\n",
       "      <th>ESTU_CARRDESEADA_TIPO</th>\n",
       "      <td>NaN</td>\n",
       "      <td>NaN</td>\n",
       "      <td>NaN</td>\n",
       "    </tr>\n",
       "    <tr>\n",
       "      <th>ESTU_CARRDESEADA_NUCLEO</th>\n",
       "      <td>NaN</td>\n",
       "      <td>NaN</td>\n",
       "      <td>NaN</td>\n",
       "    </tr>\n",
       "    <tr>\n",
       "      <th>ESTU_IES_COD_DESEADA</th>\n",
       "      <td>NaN</td>\n",
       "      <td>NaN</td>\n",
       "      <td>NaN</td>\n",
       "    </tr>\n",
       "    <tr>\n",
       "      <th>ESTU_IES_DESEADA_NOMBRE</th>\n",
       "      <td>NaN</td>\n",
       "      <td>NaN</td>\n",
       "      <td>NaN</td>\n",
       "    </tr>\n",
       "    <tr>\n",
       "      <th>ESTU_IES_COD_MPIO_DESEADA</th>\n",
       "      <td>NaN</td>\n",
       "      <td>NaN</td>\n",
       "      <td>NaN</td>\n",
       "    </tr>\n",
       "    <tr>\n",
       "      <th>ESTU_IES_MPIO_DESEADA</th>\n",
       "      <td>NaN</td>\n",
       "      <td>NaN</td>\n",
       "      <td>NaN</td>\n",
       "    </tr>\n",
       "    <tr>\n",
       "      <th>ESTU_IES_DEPT_DESEADA</th>\n",
       "      <td>NaN</td>\n",
       "      <td>NaN</td>\n",
       "      <td>NaN</td>\n",
       "    </tr>\n",
       "    <tr>\n",
       "      <th>ESTU_RAZONINSTITUTO</th>\n",
       "      <td>NaN</td>\n",
       "      <td>NaN</td>\n",
       "      <td>6</td>\n",
       "    </tr>\n",
       "    <tr>\n",
       "      <th>ESTU_CARRDESEADA_COD</th>\n",
       "      <td>NaN</td>\n",
       "      <td>NaN</td>\n",
       "      <td>NaN</td>\n",
       "    </tr>\n",
       "    <tr>\n",
       "      <th>ESTU_CARRDESEADA_RAZON</th>\n",
       "      <td>NaN</td>\n",
       "      <td>NaN</td>\n",
       "      <td>2</td>\n",
       "    </tr>\n",
       "    <tr>\n",
       "      <th>PUNT_LENGUAJE</th>\n",
       "      <td>45,57</td>\n",
       "      <td>40,49</td>\n",
       "      <td>59,31</td>\n",
       "    </tr>\n",
       "    <tr>\n",
       "      <th>PUNT_MATEMATICAS</th>\n",
       "      <td>45,81</td>\n",
       "      <td>56,19</td>\n",
       "      <td>58,51</td>\n",
       "    </tr>\n",
       "    <tr>\n",
       "      <th>PUNT_C_SOCIALES</th>\n",
       "      <td>44,41</td>\n",
       "      <td>46,91</td>\n",
       "      <td>51,89</td>\n",
       "    </tr>\n",
       "    <tr>\n",
       "      <th>PUNT_FILOSOFIA</th>\n",
       "      <td>23,47</td>\n",
       "      <td>37,78</td>\n",
       "      <td>49,86</td>\n",
       "    </tr>\n",
       "    <tr>\n",
       "      <th>PUNT_BIOLOGIA</th>\n",
       "      <td>44,66</td>\n",
       "      <td>46,76</td>\n",
       "      <td>62,6</td>\n",
       "    </tr>\n",
       "    <tr>\n",
       "      <th>PUNT_QUIMICA</th>\n",
       "      <td>43,19</td>\n",
       "      <td>48,75</td>\n",
       "      <td>52,25</td>\n",
       "    </tr>\n",
       "    <tr>\n",
       "      <th>PUNT_FISICA</th>\n",
       "      <td>40,38</td>\n",
       "      <td>49,27</td>\n",
       "      <td>51,81</td>\n",
       "    </tr>\n",
       "    <tr>\n",
       "      <th>NOMBRE_IDIOMA</th>\n",
       "      <td>INGLÃS</td>\n",
       "      <td>INGLÃS</td>\n",
       "      <td>INGLÃS</td>\n",
       "    </tr>\n",
       "    <tr>\n",
       "      <th>PUNT_IDIOMA</th>\n",
       "      <td>41,03</td>\n",
       "      <td>34,2</td>\n",
       "      <td>85,62</td>\n",
       "    </tr>\n",
       "    <tr>\n",
       "      <th>DESEMP_IDIOMA</th>\n",
       "      <td>NaN</td>\n",
       "      <td>NaN</td>\n",
       "      <td>NaN</td>\n",
       "    </tr>\n",
       "    <tr>\n",
       "      <th>NOMBRE_PROFUNDIZACION</th>\n",
       "      <td>PROFUNDIZACIÃN EN BIOLOGÃA</td>\n",
       "      <td>PROFUNDIZACIÃN EN BIOLOGÃA</td>\n",
       "      <td>PROFUNDIZACIÃN EN LENGUAJE</td>\n",
       "    </tr>\n",
       "    <tr>\n",
       "      <th>PUNT_PROFUNDIZACION</th>\n",
       "      <td>5,33</td>\n",
       "      <td>5,69</td>\n",
       "      <td>7,33</td>\n",
       "    </tr>\n",
       "    <tr>\n",
       "      <th>DESEMP_PROFUNDIZACION</th>\n",
       "      <td>II</td>\n",
       "      <td>II</td>\n",
       "      <td>III</td>\n",
       "    </tr>\n",
       "    <tr>\n",
       "      <th>NOMBRE_INTERDISCIPLINAR</th>\n",
       "      <td>MEDIO AMBIENTE</td>\n",
       "      <td>MEDIO AMBIENTE</td>\n",
       "      <td>VIOLENCIA Y SOCIEDAD</td>\n",
       "    </tr>\n",
       "    <tr>\n",
       "      <th>PUNT_INTERDISCIPLINAR</th>\n",
       "      <td>53,91</td>\n",
       "      <td>54,79</td>\n",
       "      <td>62,84</td>\n",
       "    </tr>\n",
       "    <tr>\n",
       "      <th>ESTU_PUESTO</th>\n",
       "      <td>831</td>\n",
       "      <td>547</td>\n",
       "      <td>30</td>\n",
       "    </tr>\n",
       "  </tbody>\n",
       "</table>\n",
       "<p>85 rows × 3 columns</p>\n",
       "</div>"
      ],
      "text/plain": [
       "                                                          0  \\\n",
       "ESTU_CONSECUTIVO                            SB1120061000001   \n",
       "PERIODO                                               20061   \n",
       "ESTU_TIPO_DOCUMENTO                                       T   \n",
       "ESTU_PAIS_RESIDE                                         CO   \n",
       "ESTU_GENERO                                               F   \n",
       "ESTU_NACIMIENTO_DIA                                      24   \n",
       "ESTU_NACIMIENTO_MES                                       4   \n",
       "ESTU_NACIMIENTO_ANNO                                   1989   \n",
       "ESTU_EDAD                                                16   \n",
       "ESTU_LIMITA_BAJAVISION                                  NaN   \n",
       "ESTU_LIMITA_SORDOCEGUERA                                NaN   \n",
       "ESTU_LIMITA_COGNITIVA                                   NaN   \n",
       "ESTU_LIMITA_INVIDENTE                                   NaN   \n",
       "ESTU_LIMITA_MOTRIZ                                      NaN   \n",
       "ESTU_LIMITA_SORDOINTERPRETE                             NaN   \n",
       "ESTU_LIMITA_SORDONOINTERPRETE                           NaN   \n",
       "ESTU_COD_RESIDE_MCPIO                                 76823   \n",
       "ESTU_RESIDE_MCPIO                                      TORO   \n",
       "ESTU_RESIDE_DEPTO                                     VALLE   \n",
       "ESTU_ZONA_RESIDE                                         10   \n",
       "ESTU_AREA_RESIDE                                        NaN   \n",
       "ESTU_COD_MCPIO_PRESENTACION                           76823   \n",
       "ESTU_MCPIO_PRESENTACION                                TORO   \n",
       "ESTU_DEPTO_PRESENTACION                               VALLE   \n",
       "ESTU_EXAM_NOMBREEXAMEN             EXAMEN DE ESTADO  (2006)   \n",
       "IND_ESTUDIO_BACHILLERATO                                  1   \n",
       "IND_ANNO_TERMINO_BACHILLERATO                          2005   \n",
       "IND_TERMINO_BACHILLERATO                                NaN   \n",
       "IND_COD_ICFES_TERMINO                                 18861   \n",
       "COLE_COD_ICFES                                        18861   \n",
       "...                                                     ...   \n",
       "FAMI_INGRESO_FMILIAR_MENSUAL                            NaN   \n",
       "ESTU_TRABAJA                                            NaN   \n",
       "ESTU_HORAS_TRABAJA                                      NaN   \n",
       "COLE_VALOR_PENSION                                        0   \n",
       "ESTU_CARRDESEADA_TIPO                                   NaN   \n",
       "ESTU_CARRDESEADA_NUCLEO                                 NaN   \n",
       "ESTU_IES_COD_DESEADA                                    NaN   \n",
       "ESTU_IES_DESEADA_NOMBRE                                 NaN   \n",
       "ESTU_IES_COD_MPIO_DESEADA                               NaN   \n",
       "ESTU_IES_MPIO_DESEADA                                   NaN   \n",
       "ESTU_IES_DEPT_DESEADA                                   NaN   \n",
       "ESTU_RAZONINSTITUTO                                     NaN   \n",
       "ESTU_CARRDESEADA_COD                                    NaN   \n",
       "ESTU_CARRDESEADA_RAZON                                  NaN   \n",
       "PUNT_LENGUAJE                                         45,57   \n",
       "PUNT_MATEMATICAS                                      45,81   \n",
       "PUNT_C_SOCIALES                                       44,41   \n",
       "PUNT_FILOSOFIA                                        23,47   \n",
       "PUNT_BIOLOGIA                                         44,66   \n",
       "PUNT_QUIMICA                                          43,19   \n",
       "PUNT_FISICA                                           40,38   \n",
       "NOMBRE_IDIOMA                                       INGLÃS   \n",
       "PUNT_IDIOMA                                           41,03   \n",
       "DESEMP_IDIOMA                                           NaN   \n",
       "NOMBRE_PROFUNDIZACION          PROFUNDIZACIÃN EN BIOLOGÃA   \n",
       "PUNT_PROFUNDIZACION                                    5,33   \n",
       "DESEMP_PROFUNDIZACION                                    II   \n",
       "NOMBRE_INTERDISCIPLINAR                      MEDIO AMBIENTE   \n",
       "PUNT_INTERDISCIPLINAR                                 53,91   \n",
       "ESTU_PUESTO                                             831   \n",
       "\n",
       "                                                          1  \\\n",
       "ESTU_CONSECUTIVO                            SB1120061000002   \n",
       "PERIODO                                               20061   \n",
       "ESTU_TIPO_DOCUMENTO                                       R   \n",
       "ESTU_PAIS_RESIDE                                         CO   \n",
       "ESTU_GENERO                                               F   \n",
       "ESTU_NACIMIENTO_DIA                                      29   \n",
       "ESTU_NACIMIENTO_MES                                      12   \n",
       "ESTU_NACIMIENTO_ANNO                                   1988   \n",
       "ESTU_EDAD                                                17   \n",
       "ESTU_LIMITA_BAJAVISION                                  NaN   \n",
       "ESTU_LIMITA_SORDOCEGUERA                                NaN   \n",
       "ESTU_LIMITA_COGNITIVA                                   NaN   \n",
       "ESTU_LIMITA_INVIDENTE                                   NaN   \n",
       "ESTU_LIMITA_MOTRIZ                                      NaN   \n",
       "ESTU_LIMITA_SORDOINTERPRETE                             NaN   \n",
       "ESTU_LIMITA_SORDONOINTERPRETE                           NaN   \n",
       "ESTU_COD_RESIDE_MCPIO                                 76823   \n",
       "ESTU_RESIDE_MCPIO                                      TORO   \n",
       "ESTU_RESIDE_DEPTO                                     VALLE   \n",
       "ESTU_ZONA_RESIDE                                         10   \n",
       "ESTU_AREA_RESIDE                                        NaN   \n",
       "ESTU_COD_MCPIO_PRESENTACION                           76823   \n",
       "ESTU_MCPIO_PRESENTACION                                TORO   \n",
       "ESTU_DEPTO_PRESENTACION                               VALLE   \n",
       "ESTU_EXAM_NOMBREEXAMEN             EXAMEN DE ESTADO  (2006)   \n",
       "IND_ESTUDIO_BACHILLERATO                                  1   \n",
       "IND_ANNO_TERMINO_BACHILLERATO                          2005   \n",
       "IND_TERMINO_BACHILLERATO                                NaN   \n",
       "IND_COD_ICFES_TERMINO                                 18861   \n",
       "COLE_COD_ICFES                                        18861   \n",
       "...                                                     ...   \n",
       "FAMI_INGRESO_FMILIAR_MENSUAL                            NaN   \n",
       "ESTU_TRABAJA                                            NaN   \n",
       "ESTU_HORAS_TRABAJA                                      NaN   \n",
       "COLE_VALOR_PENSION                                        0   \n",
       "ESTU_CARRDESEADA_TIPO                                   NaN   \n",
       "ESTU_CARRDESEADA_NUCLEO                                 NaN   \n",
       "ESTU_IES_COD_DESEADA                                    NaN   \n",
       "ESTU_IES_DESEADA_NOMBRE                                 NaN   \n",
       "ESTU_IES_COD_MPIO_DESEADA                               NaN   \n",
       "ESTU_IES_MPIO_DESEADA                                   NaN   \n",
       "ESTU_IES_DEPT_DESEADA                                   NaN   \n",
       "ESTU_RAZONINSTITUTO                                     NaN   \n",
       "ESTU_CARRDESEADA_COD                                    NaN   \n",
       "ESTU_CARRDESEADA_RAZON                                  NaN   \n",
       "PUNT_LENGUAJE                                         40,49   \n",
       "PUNT_MATEMATICAS                                      56,19   \n",
       "PUNT_C_SOCIALES                                       46,91   \n",
       "PUNT_FILOSOFIA                                        37,78   \n",
       "PUNT_BIOLOGIA                                         46,76   \n",
       "PUNT_QUIMICA                                          48,75   \n",
       "PUNT_FISICA                                           49,27   \n",
       "NOMBRE_IDIOMA                                       INGLÃS   \n",
       "PUNT_IDIOMA                                            34,2   \n",
       "DESEMP_IDIOMA                                           NaN   \n",
       "NOMBRE_PROFUNDIZACION          PROFUNDIZACIÃN EN BIOLOGÃA   \n",
       "PUNT_PROFUNDIZACION                                    5,69   \n",
       "DESEMP_PROFUNDIZACION                                    II   \n",
       "NOMBRE_INTERDISCIPLINAR                      MEDIO AMBIENTE   \n",
       "PUNT_INTERDISCIPLINAR                                 54,79   \n",
       "ESTU_PUESTO                                             547   \n",
       "\n",
       "                                                         2  \n",
       "ESTU_CONSECUTIVO                           SB1120061000003  \n",
       "PERIODO                                              20061  \n",
       "ESTU_TIPO_DOCUMENTO                                      C  \n",
       "ESTU_PAIS_RESIDE                                        CO  \n",
       "ESTU_GENERO                                              F  \n",
       "ESTU_NACIMIENTO_DIA                                     24  \n",
       "ESTU_NACIMIENTO_MES                                     10  \n",
       "ESTU_NACIMIENTO_ANNO                                  1987  \n",
       "ESTU_EDAD                                               18  \n",
       "ESTU_LIMITA_BAJAVISION                                 NaN  \n",
       "ESTU_LIMITA_SORDOCEGUERA                               NaN  \n",
       "ESTU_LIMITA_COGNITIVA                                  NaN  \n",
       "ESTU_LIMITA_INVIDENTE                                  NaN  \n",
       "ESTU_LIMITA_MOTRIZ                                     NaN  \n",
       "ESTU_LIMITA_SORDOINTERPRETE                            NaN  \n",
       "ESTU_LIMITA_SORDONOINTERPRETE                          NaN  \n",
       "ESTU_COD_RESIDE_MCPIO                                11001  \n",
       "ESTU_RESIDE_MCPIO                             BOGOTÃ D.C.  \n",
       "ESTU_RESIDE_DEPTO                                  BOGOTÃ  \n",
       "ESTU_ZONA_RESIDE                                         1  \n",
       "ESTU_AREA_RESIDE                                       NaN  \n",
       "ESTU_COD_MCPIO_PRESENTACION                          44035  \n",
       "ESTU_MCPIO_PRESENTACION                            ALBANIA  \n",
       "ESTU_DEPTO_PRESENTACION                         LA GUAJIRA  \n",
       "ESTU_EXAM_NOMBREEXAMEN            EXAMEN DE ESTADO  (2006)  \n",
       "IND_ESTUDIO_BACHILLERATO                                 1  \n",
       "IND_ANNO_TERMINO_BACHILLERATO                         2005  \n",
       "IND_TERMINO_BACHILLERATO                               NaN  \n",
       "IND_COD_ICFES_TERMINO                                50724  \n",
       "COLE_COD_ICFES                                       50724  \n",
       "...                                                    ...  \n",
       "FAMI_INGRESO_FMILIAR_MENSUAL                             6  \n",
       "ESTU_TRABAJA                                             0  \n",
       "ESTU_HORAS_TRABAJA                                     NaN  \n",
       "COLE_VALOR_PENSION                                       7  \n",
       "ESTU_CARRDESEADA_TIPO                                  NaN  \n",
       "ESTU_CARRDESEADA_NUCLEO                                NaN  \n",
       "ESTU_IES_COD_DESEADA                                   NaN  \n",
       "ESTU_IES_DESEADA_NOMBRE                                NaN  \n",
       "ESTU_IES_COD_MPIO_DESEADA                              NaN  \n",
       "ESTU_IES_MPIO_DESEADA                                  NaN  \n",
       "ESTU_IES_DEPT_DESEADA                                  NaN  \n",
       "ESTU_RAZONINSTITUTO                                      6  \n",
       "ESTU_CARRDESEADA_COD                                   NaN  \n",
       "ESTU_CARRDESEADA_RAZON                                   2  \n",
       "PUNT_LENGUAJE                                        59,31  \n",
       "PUNT_MATEMATICAS                                     58,51  \n",
       "PUNT_C_SOCIALES                                      51,89  \n",
       "PUNT_FILOSOFIA                                       49,86  \n",
       "PUNT_BIOLOGIA                                         62,6  \n",
       "PUNT_QUIMICA                                         52,25  \n",
       "PUNT_FISICA                                          51,81  \n",
       "NOMBRE_IDIOMA                                      INGLÃS  \n",
       "PUNT_IDIOMA                                          85,62  \n",
       "DESEMP_IDIOMA                                          NaN  \n",
       "NOMBRE_PROFUNDIZACION          PROFUNDIZACIÃN EN LENGUAJE  \n",
       "PUNT_PROFUNDIZACION                                   7,33  \n",
       "DESEMP_PROFUNDIZACION                                  III  \n",
       "NOMBRE_INTERDISCIPLINAR               VIOLENCIA Y SOCIEDAD  \n",
       "PUNT_INTERDISCIPLINAR                                62,84  \n",
       "ESTU_PUESTO                                             30  \n",
       "\n",
       "[85 rows x 3 columns]"
      ]
     },
     "execution_count": 4,
     "metadata": {},
     "output_type": "execute_result"
    }
   ],
   "source": [
    "data_2006.head(3).T"
   ]
  },
  {
   "cell_type": "markdown",
   "metadata": {},
   "source": [
    "Deleting the columns that won't contribute to the work"
   ]
  },
  {
   "cell_type": "code",
   "execution_count": 5,
   "metadata": {
    "collapsed": true
   },
   "outputs": [],
   "source": [
    "data_2006 = data_2006.drop(['ESTU_CONSECUTIVO', 'ESTU_TIPO_DOCUMENTO', 'ESTU_RESIDE_MCPIO', 'ESTU_MCPIO_PRESENTACION',\n",
    "                            'ESTU_IES_DESEADA_NOMBRE', 'ESTU_IES_MPIO_DESEADA', 'PERIODO'], axis=1)"
   ]
  },
  {
   "cell_type": "code",
   "execution_count": 7,
   "metadata": {
    "collapsed": false
   },
   "outputs": [
    {
     "name": "stdout",
     "output_type": "stream",
     "text": [
      "Int64Index([20061], dtype='int64')\n",
      "20061    61335\n",
      "Name: PERIODO, dtype: int64\n",
      "Elementos null/NaN 0\n",
      "__________________\n",
      "Elementos diferentes de null/NaN: 61335\n",
      "__________________\n",
      "(61335,)\n",
      "None\n"
     ]
    }
   ],
   "source": [
    "c = 'ESTU_PAIS_RESIDE'\n",
    "print(data_2006[c].value_counts().sort_index().index)\n",
    "print(data_2006[c].value_counts().sort_index())\n",
    "print(missing_data(data_2006[c]))"
   ]
  },
  {
   "cell_type": "code",
   "execution_count": null,
   "metadata": {
    "collapsed": true
   },
   "outputs": [],
   "source": [
    "c = 'ESTU_GENERO'\n",
    "print(data_2006[c].value_counts().sort_index().index)\n",
    "print(data_2006[c].value_counts().sort_index())\n",
    "print(missing_data(data_2006[c]))"
   ]
  },
  {
   "cell_type": "code",
   "execution_count": null,
   "metadata": {
    "collapsed": true
   },
   "outputs": [],
   "source": [
    "c = 'ESTU_NACIMIENTO_DIA'\n",
    "print(data_2006[c].value_counts().sort_index().index)\n",
    "print(data_2006[c].value_counts().sort_index())\n",
    "print(missing_data(data_2006[c]))"
   ]
  },
  {
   "cell_type": "code",
   "execution_count": null,
   "metadata": {
    "collapsed": true
   },
   "outputs": [],
   "source": [
    "c = 'ESTU_NACIMIENTO_MES'\n",
    "print(data_2006[c].value_counts().sort_index().index)\n",
    "print(data_2006[c].value_counts().sort_index())\n",
    "print(missing_data(data_2006[c]))"
   ]
  },
  {
   "cell_type": "code",
   "execution_count": null,
   "metadata": {
    "collapsed": true
   },
   "outputs": [],
   "source": [
    "c = 'ESTU_NACIMIENTO_ANNO'\n",
    "print(data_2006[c].value_counts().sort_index().index)\n",
    "print(data_2006[c].value_counts().sort_index())\n",
    "print(missing_data(data_2006[c]))"
   ]
  },
  {
   "cell_type": "code",
   "execution_count": null,
   "metadata": {
    "collapsed": true
   },
   "outputs": [],
   "source": [
    "c = 'ESTU_EDAD'\n",
    "print(data_2006[c].value_counts().sort_index().index)\n",
    "print(data_2006[c].value_counts().sort_index())\n",
    "print(missing_data(data_2006[c]))"
   ]
  },
  {
   "cell_type": "code",
   "execution_count": null,
   "metadata": {
    "collapsed": true
   },
   "outputs": [],
   "source": [
    "c = 'ESTU_LIMITA_BAJAVISION'\n",
    "print(data_2006[c].value_counts().sort_index().index)\n",
    "print(data_2006[c].value_counts().sort_index())\n",
    "print(missing_data(data_2006[c]))"
   ]
  },
  {
   "cell_type": "code",
   "execution_count": null,
   "metadata": {
    "collapsed": true
   },
   "outputs": [],
   "source": [
    "c = 'ESTU_LIMITA_SORDOCEGUERA'\n",
    "print(data_2006[c].value_counts().sort_index().index)\n",
    "print(data_2006[c].value_counts().sort_index())\n",
    "print(missing_data(data_2006[c]))"
   ]
  },
  {
   "cell_type": "code",
   "execution_count": null,
   "metadata": {
    "collapsed": true
   },
   "outputs": [],
   "source": [
    "c = 'ESTU_LIMITA_COGNITIVA'\n",
    "print(data_2006[c].value_counts().sort_index().index)\n",
    "print(data_2006[c].value_counts().sort_index())\n",
    "print(missing_data(data_2006[c]))"
   ]
  },
  {
   "cell_type": "code",
   "execution_count": null,
   "metadata": {
    "collapsed": true
   },
   "outputs": [],
   "source": [
    "c = 'ESTU_LIMITA_INVIDENTE'\n",
    "print(data_2006[c].value_counts().sort_index().index)\n",
    "print(data_2006[c].value_counts().sort_index())\n",
    "print(missing_data(data_2006[c]))"
   ]
  },
  {
   "cell_type": "code",
   "execution_count": null,
   "metadata": {
    "collapsed": true
   },
   "outputs": [],
   "source": [
    "c = 'ESTU_LIMITA_MOTRIZ'\n",
    "print(data_2006[c].value_counts().sort_index().index)\n",
    "print(data_2006[c].value_counts().sort_index())\n",
    "print(missing_data(data_2006[c]))"
   ]
  },
  {
   "cell_type": "code",
   "execution_count": null,
   "metadata": {
    "collapsed": true
   },
   "outputs": [],
   "source": [
    "c = 'ESTU_LIMITA_SORDOINTERPRETE'\n",
    "print(data_2006[c].value_counts().sort_index().index)\n",
    "print(data_2006[c].value_counts().sort_index())\n",
    "print(missing_data(data_2006[c]))"
   ]
  },
  {
   "cell_type": "code",
   "execution_count": null,
   "metadata": {
    "collapsed": true
   },
   "outputs": [],
   "source": [
    "c = 'ESTU_LIMITA_SORDONOINTERPRETE'\n",
    "print(data_2006[c].value_counts().sort_index().index)\n",
    "print(data_2006[c].value_counts().sort_index())\n",
    "print(missing_data(data_2006[c]))"
   ]
  },
  {
   "cell_type": "code",
   "execution_count": null,
   "metadata": {
    "collapsed": true
   },
   "outputs": [],
   "source": [
    "c = 'ESTU_COD_RESIDE_MCPIO'\n",
    "print(data_2006[c].value_counts().sort_index().index)\n",
    "print(data_2006[c].value_counts().sort_index())\n",
    "print(missing_data(data_2006[c]))"
   ]
  },
  {
   "cell_type": "code",
   "execution_count": null,
   "metadata": {
    "collapsed": true
   },
   "outputs": [],
   "source": [
    "c = 'ESTU_RESIDE_DEPTO'\n",
    "print(data_2006[c].value_counts().sort_index().index)\n",
    "print(data_2006[c].value_counts().sort_index())\n",
    "print(missing_data(data_2006[c]))"
   ]
  },
  {
   "cell_type": "code",
   "execution_count": null,
   "metadata": {
    "collapsed": true
   },
   "outputs": [],
   "source": [
    "c = 'ESTU_ZONA_RESIDE'\n",
    "print(data_2006[c].value_counts().sort_index().index)\n",
    "print(data_2006[c].value_counts().sort_index())\n",
    "print(missing_data(data_2006[c]))"
   ]
  },
  {
   "cell_type": "code",
   "execution_count": null,
   "metadata": {
    "collapsed": true
   },
   "outputs": [],
   "source": [
    "c = 'ESTU_AREA_RESIDE'\n",
    "print(data_2006[c].value_counts().sort_index().index)\n",
    "print(data_2006[c].value_counts().sort_index())\n",
    "print(missing_data(data_2006[c]))"
   ]
  },
  {
   "cell_type": "code",
   "execution_count": null,
   "metadata": {
    "collapsed": true
   },
   "outputs": [],
   "source": [
    "c = 'ESTU_COD_MCPIO_PRESENTACION'\n",
    "print(data_2006[c].value_counts().sort_index().index)\n",
    "print(data_2006[c].value_counts().sort_index())\n",
    "print(missing_data(data_2006[c]))"
   ]
  },
  {
   "cell_type": "code",
   "execution_count": null,
   "metadata": {
    "collapsed": true
   },
   "outputs": [],
   "source": [
    "c = 'ESTU_DEPTO_PRESENTACION'\n",
    "print(data_2006[c].value_counts().sort_index().index)\n",
    "print(data_2006[c].value_counts().sort_index())\n",
    "print(missing_data(data_2006[c]))"
   ]
  },
  {
   "cell_type": "code",
   "execution_count": null,
   "metadata": {
    "collapsed": true
   },
   "outputs": [],
   "source": [
    "c = 'ESTU_EXAM_NOMBREEXAMEN'\n",
    "print(data_2006[c].value_counts().sort_index().index)\n",
    "print(data_2006[c].value_counts().sort_index())\n",
    "print(missing_data(data_2006[c]))"
   ]
  },
  {
   "cell_type": "code",
   "execution_count": null,
   "metadata": {
    "collapsed": true
   },
   "outputs": [],
   "source": [
    "c = 'IND_ESTUDIO_BACHILLERATO'\n",
    "print(data_2006[c].value_counts().sort_index().index)\n",
    "print(data_2006[c].value_counts().sort_index())\n",
    "print(missing_data(data_2006[c]))"
   ]
  },
  {
   "cell_type": "code",
   "execution_count": null,
   "metadata": {
    "collapsed": true
   },
   "outputs": [],
   "source": [
    "c = 'IND_ANNO_TERMINO_BACHILLERATO'\n",
    "print(data_2006[c].value_counts().sort_index().index)\n",
    "print(data_2006[c].value_counts().sort_index())\n",
    "print(missing_data(data_2006[c]))"
   ]
  },
  {
   "cell_type": "code",
   "execution_count": null,
   "metadata": {
    "collapsed": true
   },
   "outputs": [],
   "source": [
    "c = 'IND_TERMINO_BACHILLERATO'\n",
    "print(data_2006[c].value_counts().sort_index().index)\n",
    "print(data_2006[c].value_counts().sort_index())\n",
    "print(missing_data(data_2006[c]))"
   ]
  },
  {
   "cell_type": "code",
   "execution_count": null,
   "metadata": {
    "collapsed": true
   },
   "outputs": [],
   "source": [
    "c = 'IND_COD_ICFES_TERMINO'\n",
    "print(data_2006[c].value_counts().sort_index().index)\n",
    "print(data_2006[c].value_counts().sort_index())\n",
    "print(missing_data(data_2006[c]))"
   ]
  },
  {
   "cell_type": "code",
   "execution_count": null,
   "metadata": {
    "collapsed": true
   },
   "outputs": [],
   "source": [
    "c = 'COLE_COD_ICFES'\n",
    "print(data_2006[c].value_counts().sort_index().index)\n",
    "print(data_2006[c].value_counts().sort_index())\n",
    "print(missing_data(data_2006[c]))"
   ]
  },
  {
   "cell_type": "code",
   "execution_count": null,
   "metadata": {
    "collapsed": true
   },
   "outputs": [],
   "source": [
    "c = 'COLE_COD_DANE_INSTITUCION'\n",
    "print(data_2006[c].value_counts().sort_index().index)\n",
    "print(data_2006[c].value_counts().sort_index())\n",
    "print(missing_data(data_2006[c]))"
   ]
  },
  {
   "cell_type": "code",
   "execution_count": null,
   "metadata": {
    "collapsed": true
   },
   "outputs": [],
   "source": [
    "c = 'COLE_NOMBRE_SEDE'\n",
    "print(data_2006[c].value_counts().sort_index().index)\n",
    "print(data_2006[c].value_counts().sort_index())\n",
    "print(missing_data(data_2006[c]))"
   ]
  },
  {
   "cell_type": "code",
   "execution_count": null,
   "metadata": {
    "collapsed": true
   },
   "outputs": [],
   "source": [
    "c = 'COLE_CALENDARIO'\n",
    "print(data_2006[c].value_counts().sort_index().index)\n",
    "print(data_2006[c].value_counts().sort_index())\n",
    "print(missing_data(data_2006[c]))"
   ]
  },
  {
   "cell_type": "code",
   "execution_count": null,
   "metadata": {
    "collapsed": true
   },
   "outputs": [],
   "source": [
    "c = 'COLE_GENERO'\n",
    "print(data_2006[c].value_counts().sort_index().index)\n",
    "print(data_2006[c].value_counts().sort_index())\n",
    "print(missing_data(data_2006[c]))"
   ]
  },
  {
   "cell_type": "code",
   "execution_count": null,
   "metadata": {
    "collapsed": true
   },
   "outputs": [],
   "source": [
    "c = 'COLE_NATURALEZA'\n",
    "print(data_2006[c].value_counts().sort_index().index)\n",
    "print(data_2006[c].value_counts().sort_index())\n",
    "print(missing_data(data_2006[c]))"
   ]
  },
  {
   "cell_type": "code",
   "execution_count": null,
   "metadata": {
    "collapsed": true
   },
   "outputs": [],
   "source": [
    "c = 'COLE_BILINGUE'\n",
    "print(data_2006[c].value_counts().sort_index().index)\n",
    "print(data_2006[c].value_counts().sort_index())\n",
    "print(missing_data(data_2006[c]))"
   ]
  },
  {
   "cell_type": "code",
   "execution_count": null,
   "metadata": {
    "collapsed": true
   },
   "outputs": [],
   "source": [
    "c = 'COLE_JORNADA'\n",
    "print(data_2006[c].value_counts().sort_index().index)\n",
    "print(data_2006[c].value_counts().sort_index())\n",
    "print(missing_data(data_2006[c]))"
   ]
  },
  {
   "cell_type": "code",
   "execution_count": null,
   "metadata": {
    "collapsed": true
   },
   "outputs": [],
   "source": [
    "c = 'COLE_CARACTER'\n",
    "print(data_2006[c].value_counts().sort_index().index)\n",
    "print(data_2006[c].value_counts().sort_index())\n",
    "print(missing_data(data_2006[c]))"
   ]
  },
  {
   "cell_type": "code",
   "execution_count": null,
   "metadata": {
    "collapsed": true
   },
   "outputs": [],
   "source": [
    "c = 'ESTU_ETNIA'\n",
    "print(data_2006[c].value_counts().sort_index().index)\n",
    "print(data_2006[c].value_counts().sort_index())\n",
    "print(missing_data(data_2006[c]))"
   ]
  },
  {
   "cell_type": "code",
   "execution_count": null,
   "metadata": {
    "collapsed": true
   },
   "outputs": [],
   "source": [
    "c = 'FAMI_LEE_ESCRIBE_PADRE'\n",
    "print(data_2006[c].value_counts().sort_index().index)\n",
    "print(data_2006[c].value_counts().sort_index())\n",
    "print(missing_data(data_2006[c]))"
   ]
  },
  {
   "cell_type": "code",
   "execution_count": null,
   "metadata": {
    "collapsed": true
   },
   "outputs": [],
   "source": [
    "c = 'FAMI_LEE_ESCRIBE_MADRE'\n",
    "print(data_2006[c].value_counts().sort_index().index)\n",
    "print(data_2006[c].value_counts().sort_index())\n",
    "print(missing_data(data_2006[c]))"
   ]
  },
  {
   "cell_type": "code",
   "execution_count": null,
   "metadata": {
    "collapsed": true
   },
   "outputs": [],
   "source": [
    "c = 'FAMI_EDUCA_PADRE'\n",
    "print(data_2006[c].value_counts().sort_index().index)\n",
    "print(data_2006[c].value_counts().sort_index())\n",
    "print(missing_data(data_2006[c]))"
   ]
  },
  {
   "cell_type": "code",
   "execution_count": null,
   "metadata": {
    "collapsed": true
   },
   "outputs": [],
   "source": [
    "c = 'FAMI_EDUCA_MADRE'\n",
    "print(data_2006[c].value_counts().sort_index().index)\n",
    "print(data_2006[c].value_counts().sort_index())\n",
    "print(missing_data(data_2006[c]))"
   ]
  },
  {
   "cell_type": "code",
   "execution_count": null,
   "metadata": {
    "collapsed": true
   },
   "outputs": [],
   "source": [
    "c = 'FAMI_OCUPA_PADRE'\n",
    "print(data_2006[c].value_counts().sort_index().index)\n",
    "print(data_2006[c].value_counts().sort_index())\n",
    "print(missing_data(data_2006[c]))"
   ]
  },
  {
   "cell_type": "code",
   "execution_count": null,
   "metadata": {
    "collapsed": true
   },
   "outputs": [],
   "source": [
    "c = 'FAMI_OCUPA_MADRE'\n",
    "print(data_2006[c].value_counts().sort_index().index)\n",
    "print(data_2006[c].value_counts().sort_index())\n",
    "print(missing_data(data_2006[c]))"
   ]
  },
  {
   "cell_type": "code",
   "execution_count": null,
   "metadata": {
    "collapsed": true
   },
   "outputs": [],
   "source": [
    "c = 'FAMI_NUM_HERMANOS'\n",
    "print(data_2006[c].value_counts().sort_index().index)\n",
    "print(data_2006[c].value_counts().sort_index())\n",
    "print(missing_data(data_2006[c]))"
   ]
  },
  {
   "cell_type": "code",
   "execution_count": null,
   "metadata": {
    "collapsed": true
   },
   "outputs": [],
   "source": [
    "c = 'FAMI_EDUCA_HERMANO'\n",
    "print(data_2006[c].value_counts().sort_index().index)\n",
    "print(data_2006[c].value_counts().sort_index())\n",
    "print(missing_data(data_2006[c]))"
   ]
  },
  {
   "cell_type": "code",
   "execution_count": null,
   "metadata": {
    "collapsed": true
   },
   "outputs": [],
   "source": [
    "c = 'FAMI_HERMANOS_ESTUDIAN'\n",
    "print(data_2006[c].value_counts().sort_index().index)\n",
    "print(data_2006[c].value_counts().sort_index())\n",
    "print(missing_data(data_2006[c]))"
   ]
  },
  {
   "cell_type": "code",
   "execution_count": null,
   "metadata": {
    "collapsed": true
   },
   "outputs": [],
   "source": [
    "c = 'FAMI_ESTRATO_VIVIENDA'\n",
    "print(data_2006[c].value_counts().sort_index().index)\n",
    "print(data_2006[c].value_counts().sort_index())\n",
    "print(missing_data(data_2006[c]))"
   ]
  },
  {
   "cell_type": "code",
   "execution_count": null,
   "metadata": {
    "collapsed": true
   },
   "outputs": [],
   "source": [
    "c = 'FAMI_NIVEL_SISBEN'\n",
    "print(data_2006[c].value_counts().sort_index().index)\n",
    "print(data_2006[c].value_counts().sort_index())\n",
    "print(missing_data(data_2006[c]))"
   ]
  },
  {
   "cell_type": "code",
   "execution_count": null,
   "metadata": {
    "collapsed": true
   },
   "outputs": [],
   "source": [
    "c = 'FAMI_PERSONAS_HOGAR'\n",
    "print(data_2006[c].value_counts().sort_index().index)\n",
    "print(data_2006[c].value_counts().sort_index())\n",
    "print(missing_data(data_2006[c]))"
   ]
  },
  {
   "cell_type": "code",
   "execution_count": null,
   "metadata": {
    "collapsed": true
   },
   "outputs": [],
   "source": [
    "c = 'FAMI_PISOSHOGAR'\n",
    "print(data_2006[c].value_counts().sort_index().index)\n",
    "print(data_2006[c].value_counts().sort_index())\n",
    "print(missing_data(data_2006[c]))"
   ]
  },
  {
   "cell_type": "code",
   "execution_count": null,
   "metadata": {
    "collapsed": true
   },
   "outputs": [],
   "source": [
    "c = 'FAMI_CUARTOS_HOGAR'\n",
    "print(data_2006[c].value_counts().sort_index().index)\n",
    "print(data_2006[c].value_counts().sort_index())\n",
    "print(missing_data(data_2006[c]))"
   ]
  },
  {
   "cell_type": "code",
   "execution_count": null,
   "metadata": {
    "collapsed": true
   },
   "outputs": [],
   "source": [
    "c = 'FAMI_DORMITORIOS_HOGAR'\n",
    "print(data_2006[c].value_counts().sort_index().index)\n",
    "print(data_2006[c].value_counts().sort_index())\n",
    "print(missing_data(data_2006[c]))"
   ]
  },
  {
   "cell_type": "code",
   "execution_count": null,
   "metadata": {
    "collapsed": true
   },
   "outputs": [],
   "source": [
    "c = 'FAMI_COMPUTADOR'\n",
    "print(data_2006[c].value_counts().sort_index().index)\n",
    "print(data_2006[c].value_counts().sort_index())\n",
    "print(missing_data(data_2006[c]))"
   ]
  },
  {
   "cell_type": "code",
   "execution_count": null,
   "metadata": {
    "collapsed": true
   },
   "outputs": [],
   "source": [
    "c = 'FAMI_INGRESO_FMILIAR_MENSUAL'\n",
    "print(data_2006[c].value_counts().sort_index().index)\n",
    "print(data_2006[c].value_counts().sort_index())\n",
    "print(missing_data(data_2006[c]))"
   ]
  },
  {
   "cell_type": "code",
   "execution_count": null,
   "metadata": {
    "collapsed": true
   },
   "outputs": [],
   "source": [
    "c = 'ESTU_TRABAJA'\n",
    "print(data_2006[c].value_counts().sort_index().index)\n",
    "print(data_2006[c].value_counts().sort_index())\n",
    "print(missing_data(data_2006[c]))"
   ]
  },
  {
   "cell_type": "code",
   "execution_count": null,
   "metadata": {
    "collapsed": true
   },
   "outputs": [],
   "source": [
    "c = 'ESTU_HORAS_TRABAJA'\n",
    "print(data_2006[c].value_counts().sort_index().index)\n",
    "print(data_2006[c].value_counts().sort_index())\n",
    "print(missing_data(data_2006[c]))"
   ]
  },
  {
   "cell_type": "code",
   "execution_count": null,
   "metadata": {
    "collapsed": true
   },
   "outputs": [],
   "source": [
    "c = 'COLE_VALOR_PENSION'\n",
    "print(data_2006[c].value_counts().sort_index().index)\n",
    "print(data_2006[c].value_counts().sort_index())\n",
    "print(missing_data(data_2006[c]))"
   ]
  },
  {
   "cell_type": "code",
   "execution_count": null,
   "metadata": {
    "collapsed": true
   },
   "outputs": [],
   "source": [
    "c = 'ESTU_CARRDESEADA_TIPO'\n",
    "print(data_2006[c].value_counts().sort_index().index)\n",
    "print(data_2006[c].value_counts().sort_index())\n",
    "print(missing_data(data_2006[c]))"
   ]
  },
  {
   "cell_type": "code",
   "execution_count": null,
   "metadata": {
    "collapsed": true
   },
   "outputs": [],
   "source": [
    "c = 'ESTU_CARRDESEADA_NUCLEO'\n",
    "print(data_2006[c].value_counts().sort_index().index)\n",
    "print(data_2006[c].value_counts().sort_index())\n",
    "print(missing_data(data_2006[c]))"
   ]
  },
  {
   "cell_type": "code",
   "execution_count": null,
   "metadata": {
    "collapsed": true
   },
   "outputs": [],
   "source": [
    "c = 'ESTU_IES_COD_DESEADA'\n",
    "print(data_2006[c].value_counts().sort_index().index)\n",
    "print(data_2006[c].value_counts().sort_index())\n",
    "print(missing_data(data_2006[c]))"
   ]
  },
  {
   "cell_type": "code",
   "execution_count": null,
   "metadata": {
    "collapsed": true
   },
   "outputs": [],
   "source": [
    "c = 'ESTU_IES_COD_MPIO_DESEADA'\n",
    "print(data_2006[c].value_counts().sort_index().index)\n",
    "print(data_2006[c].value_counts().sort_index())\n",
    "print(missing_data(data_2006[c]))"
   ]
  },
  {
   "cell_type": "code",
   "execution_count": null,
   "metadata": {
    "collapsed": true
   },
   "outputs": [],
   "source": [
    "c = 'ESTU_IES_DEPT_DESEADA'\n",
    "print(data_2006[c].value_counts().sort_index().index)\n",
    "print(data_2006[c].value_counts().sort_index())\n",
    "print(missing_data(data_2006[c]))"
   ]
  },
  {
   "cell_type": "code",
   "execution_count": null,
   "metadata": {
    "collapsed": true
   },
   "outputs": [],
   "source": [
    "c = 'ESTU_RAZONINSTITUTO'\n",
    "print(data_2006[c].value_counts().sort_index().index)\n",
    "print(data_2006[c].value_counts().sort_index())\n",
    "print(missing_data(data_2006[c]))"
   ]
  },
  {
   "cell_type": "code",
   "execution_count": null,
   "metadata": {
    "collapsed": true
   },
   "outputs": [],
   "source": [
    "c = 'ESTU_CARRDESEADA_COD'\n",
    "print(data_2006[c].value_counts().sort_index().index)\n",
    "print(data_2006[c].value_counts().sort_index())\n",
    "print(missing_data(data_2006[c]))"
   ]
  },
  {
   "cell_type": "code",
   "execution_count": null,
   "metadata": {
    "collapsed": true
   },
   "outputs": [],
   "source": [
    "c = 'ESTU_CARRDESEADA_RAZON'\n",
    "print(data_2006[c].value_counts().sort_index().index)\n",
    "print(data_2006[c].value_counts().sort_index())\n",
    "print(missing_data(data_2006[c]))"
   ]
  },
  {
   "cell_type": "markdown",
   "metadata": {},
   "source": [
    "### TARGETS"
   ]
  },
  {
   "cell_type": "code",
   "execution_count": null,
   "metadata": {
    "collapsed": true
   },
   "outputs": [],
   "source": [
    "c = 'PUNT_LENGUAJE'\n",
    "print(data_2006[c].value_counts().sort_index().index)\n",
    "print(data_2006[c].value_counts().sort_index())\n",
    "print(missing_data(data_2006[c]))"
   ]
  },
  {
   "cell_type": "code",
   "execution_count": null,
   "metadata": {
    "collapsed": true
   },
   "outputs": [],
   "source": [
    "c = 'PUNT_MATEMATICAS'\n",
    "print(data_2006[c].value_counts().sort_index().index)\n",
    "print(data_2006[c].value_counts().sort_index())\n",
    "print(missing_data(data_2006[c]))"
   ]
  },
  {
   "cell_type": "code",
   "execution_count": null,
   "metadata": {
    "collapsed": true
   },
   "outputs": [],
   "source": [
    "c = 'PUNT_C_SOCIALES'\n",
    "print(data_2006[c].value_counts().sort_index().index)\n",
    "print(data_2006[c].value_counts().sort_index())\n",
    "print(missing_data(data_2006[c]))"
   ]
  },
  {
   "cell_type": "code",
   "execution_count": null,
   "metadata": {
    "collapsed": true
   },
   "outputs": [],
   "source": [
    "c = 'PUNT_FILOSOFIA'\n",
    "print(data_2006[c].value_counts().sort_index().index)\n",
    "print(data_2006[c].value_counts().sort_index())\n",
    "print(missing_data(data_2006[c]))"
   ]
  },
  {
   "cell_type": "code",
   "execution_count": null,
   "metadata": {
    "collapsed": true
   },
   "outputs": [],
   "source": [
    "c = 'PUNT_BIOLOGIA'\n",
    "print(data_2006[c].value_counts().sort_index().index)\n",
    "print(data_2006[c].value_counts().sort_index())\n",
    "print(missing_data(data_2006[c]))"
   ]
  },
  {
   "cell_type": "code",
   "execution_count": null,
   "metadata": {
    "collapsed": true
   },
   "outputs": [],
   "source": [
    "c = 'PUNT_QUIMICA'\n",
    "print(data_2006[c].value_counts().sort_index().index)\n",
    "print(data_2006[c].value_counts().sort_index())\n",
    "print(missing_data(data_2006[c]))"
   ]
  },
  {
   "cell_type": "code",
   "execution_count": null,
   "metadata": {
    "collapsed": true
   },
   "outputs": [],
   "source": [
    "c = 'PUNT_FISICA'\n",
    "print(data_2006[c].value_counts().sort_index().index)\n",
    "print(data_2006[c].value_counts().sort_index())\n",
    "print(missing_data(data_2006[c]))"
   ]
  },
  {
   "cell_type": "code",
   "execution_count": null,
   "metadata": {
    "collapsed": true
   },
   "outputs": [],
   "source": [
    "c = 'NOMBRE_IDIOMA'\n",
    "print(data_2006[c].value_counts().sort_index().index)\n",
    "print(data_2006[c].value_counts().sort_index())\n",
    "print(missing_data(data_2006[c]))"
   ]
  },
  {
   "cell_type": "code",
   "execution_count": null,
   "metadata": {
    "collapsed": true
   },
   "outputs": [],
   "source": [
    "c = 'PUNT_IDIOMA'\n",
    "print(data_2006[c].value_counts().sort_index().index)\n",
    "print(data_2006[c].value_counts().sort_index())\n",
    "print(missing_data(data_2006[c]))"
   ]
  },
  {
   "cell_type": "code",
   "execution_count": null,
   "metadata": {
    "collapsed": true
   },
   "outputs": [],
   "source": [
    "c = 'DESEMP_IDIOMA'\n",
    "print(data_2006[c].value_counts().sort_index().index)\n",
    "print(data_2006[c].value_counts().sort_index())\n",
    "print(missing_data(data_2006[c]))"
   ]
  },
  {
   "cell_type": "code",
   "execution_count": null,
   "metadata": {
    "collapsed": true
   },
   "outputs": [],
   "source": [
    "c = 'NOMBRE_PROFUNDIZACION'\n",
    "print(data_2006[c].value_counts().sort_index().index)\n",
    "print(data_2006[c].value_counts().sort_index())\n",
    "print(missing_data(data_2006[c]))"
   ]
  },
  {
   "cell_type": "code",
   "execution_count": null,
   "metadata": {
    "collapsed": true
   },
   "outputs": [],
   "source": [
    "c = 'PUNT_PROFUNDIZACION'\n",
    "print(data_2006[c].value_counts().sort_index().index)\n",
    "print(data_2006[c].value_counts().sort_index())\n",
    "print(missing_data(data_2006[c]))"
   ]
  },
  {
   "cell_type": "code",
   "execution_count": null,
   "metadata": {
    "collapsed": true
   },
   "outputs": [],
   "source": [
    "c = 'DESEMP_PROFUNDIZACION'\n",
    "print(data_2006[c].value_counts().sort_index().index)\n",
    "print(data_2006[c].value_counts().sort_index())\n",
    "print(missing_data(data_2006[c]))"
   ]
  },
  {
   "cell_type": "code",
   "execution_count": null,
   "metadata": {
    "collapsed": true
   },
   "outputs": [],
   "source": [
    "c = 'NOMBRE_INTERDISCIPLINAR'\n",
    "print(data_2006[c].value_counts().sort_index().index)\n",
    "print(data_2006[c].value_counts().sort_index())\n",
    "print(missing_data(data_2006[c]))"
   ]
  },
  {
   "cell_type": "code",
   "execution_count": null,
   "metadata": {
    "collapsed": true
   },
   "outputs": [],
   "source": [
    "c = 'PUNT_INTERDISCIPLINAR'\n",
    "print(data_2006[c].value_counts().sort_index().index)\n",
    "print(data_2006[c].value_counts().sort_index())\n",
    "print(missing_data(data_2006[c]))"
   ]
  },
  {
   "cell_type": "code",
   "execution_count": null,
   "metadata": {
    "collapsed": true
   },
   "outputs": [],
   "source": [
    "c = 'ESTU_PUESTO'\n",
    "print(data_2006[c].value_counts().sort_index().index)\n",
    "print(data_2006[c].value_counts().sort_index())\n",
    "print(missing_data(data_2006[c]))"
   ]
  },
  {
   "cell_type": "markdown",
   "metadata": {},
   "source": [
    "# FILE 2 -> 2006_2"
   ]
  },
  {
   "cell_type": "code",
   "execution_count": 8,
   "metadata": {
    "collapsed": false
   },
   "outputs": [
    {
     "name": "stderr",
     "output_type": "stream",
     "text": [
      "/usr/local/anaconda3/lib/python3.5/site-packages/IPython/core/interactiveshell.py:2723: DtypeWarning: Columns (30) have mixed types. Specify dtype option on import or set low_memory=False.\n",
      "  interactivity=interactivity, compiler=compiler, result=result)\n"
     ]
    }
   ],
   "source": [
    "data_2006_2 = pd.read_csv('../DatosFTPICFES/SABER11/SB11-BASES_DE_DATOS/SB11-20062-RGSTRO-CLFCCN-V1-0.txt', delimiter = '|',\n",
    "                         encoding = \"iso-8859-1\")"
   ]
  },
  {
   "cell_type": "code",
   "execution_count": 9,
   "metadata": {
    "collapsed": false
   },
   "outputs": [
    {
     "data": {
      "text/plain": [
       "(408326, 85)"
      ]
     },
     "execution_count": 9,
     "metadata": {},
     "output_type": "execute_result"
    }
   ],
   "source": [
    "data_2006_2.shape"
   ]
  },
  {
   "cell_type": "code",
   "execution_count": 10,
   "metadata": {
    "collapsed": false,
    "scrolled": true
   },
   "outputs": [
    {
     "data": {
      "text/html": [
       "<div>\n",
       "<table border=\"1\" class=\"dataframe\">\n",
       "  <thead>\n",
       "    <tr style=\"text-align: right;\">\n",
       "      <th></th>\n",
       "      <th>0</th>\n",
       "      <th>1</th>\n",
       "      <th>2</th>\n",
       "    </tr>\n",
       "  </thead>\n",
       "  <tbody>\n",
       "    <tr>\n",
       "      <th>ESTU_CONSECUTIVO</th>\n",
       "      <td>SB1120062000001</td>\n",
       "      <td>SB1120062000002</td>\n",
       "      <td>SB1120062000003</td>\n",
       "    </tr>\n",
       "    <tr>\n",
       "      <th>PERIODO</th>\n",
       "      <td>20062</td>\n",
       "      <td>20062</td>\n",
       "      <td>20062</td>\n",
       "    </tr>\n",
       "    <tr>\n",
       "      <th>ESTU_TIPO_DOCUMENTO</th>\n",
       "      <td>T</td>\n",
       "      <td>T</td>\n",
       "      <td>T</td>\n",
       "    </tr>\n",
       "    <tr>\n",
       "      <th>ESTU_PAIS_RESIDE</th>\n",
       "      <td>CO</td>\n",
       "      <td>CO</td>\n",
       "      <td>CO</td>\n",
       "    </tr>\n",
       "    <tr>\n",
       "      <th>ESTU_GENERO</th>\n",
       "      <td>F</td>\n",
       "      <td>F</td>\n",
       "      <td>F</td>\n",
       "    </tr>\n",
       "    <tr>\n",
       "      <th>ESTU_NACIMIENTO_DIA</th>\n",
       "      <td>1</td>\n",
       "      <td>26</td>\n",
       "      <td>11</td>\n",
       "    </tr>\n",
       "    <tr>\n",
       "      <th>ESTU_NACIMIENTO_MES</th>\n",
       "      <td>6</td>\n",
       "      <td>7</td>\n",
       "      <td>1</td>\n",
       "    </tr>\n",
       "    <tr>\n",
       "      <th>ESTU_NACIMIENTO_ANNO</th>\n",
       "      <td>1994</td>\n",
       "      <td>1990</td>\n",
       "      <td>1989</td>\n",
       "    </tr>\n",
       "    <tr>\n",
       "      <th>ESTU_EDAD</th>\n",
       "      <td>12</td>\n",
       "      <td>15</td>\n",
       "      <td>17</td>\n",
       "    </tr>\n",
       "    <tr>\n",
       "      <th>ESTU_LIMITA_BAJAVISION</th>\n",
       "      <td>NaN</td>\n",
       "      <td>NaN</td>\n",
       "      <td>NaN</td>\n",
       "    </tr>\n",
       "    <tr>\n",
       "      <th>ESTU_LIMITA_SORDOCEGUERA</th>\n",
       "      <td>NaN</td>\n",
       "      <td>NaN</td>\n",
       "      <td>NaN</td>\n",
       "    </tr>\n",
       "    <tr>\n",
       "      <th>ESTU_LIMITA_COGNITIVA</th>\n",
       "      <td>NaN</td>\n",
       "      <td>NaN</td>\n",
       "      <td>NaN</td>\n",
       "    </tr>\n",
       "    <tr>\n",
       "      <th>ESTU_LIMITA_INVIDENTE</th>\n",
       "      <td>NaN</td>\n",
       "      <td>NaN</td>\n",
       "      <td>NaN</td>\n",
       "    </tr>\n",
       "    <tr>\n",
       "      <th>ESTU_LIMITA_MOTRIZ</th>\n",
       "      <td>NaN</td>\n",
       "      <td>NaN</td>\n",
       "      <td>NaN</td>\n",
       "    </tr>\n",
       "    <tr>\n",
       "      <th>ESTU_LIMITA_SORDOINTERPRETE</th>\n",
       "      <td>NaN</td>\n",
       "      <td>NaN</td>\n",
       "      <td>NaN</td>\n",
       "    </tr>\n",
       "    <tr>\n",
       "      <th>ESTU_LIMITA_SORDONOINTERPRETE</th>\n",
       "      <td>NaN</td>\n",
       "      <td>NaN</td>\n",
       "      <td>NaN</td>\n",
       "    </tr>\n",
       "    <tr>\n",
       "      <th>ESTU_COD_RESIDE_MCPIO</th>\n",
       "      <td>13001</td>\n",
       "      <td>13001</td>\n",
       "      <td>13001</td>\n",
       "    </tr>\n",
       "    <tr>\n",
       "      <th>ESTU_RESIDE_MCPIO</th>\n",
       "      <td>CARTAGENA</td>\n",
       "      <td>CARTAGENA</td>\n",
       "      <td>CARTAGENA</td>\n",
       "    </tr>\n",
       "    <tr>\n",
       "      <th>ESTU_RESIDE_DEPTO</th>\n",
       "      <td>BOLÃVAR</td>\n",
       "      <td>BOLÃVAR</td>\n",
       "      <td>BOLÃVAR</td>\n",
       "    </tr>\n",
       "    <tr>\n",
       "      <th>ESTU_ZONA_RESIDE</th>\n",
       "      <td>1</td>\n",
       "      <td>1</td>\n",
       "      <td>1</td>\n",
       "    </tr>\n",
       "    <tr>\n",
       "      <th>ESTU_AREA_RESIDE</th>\n",
       "      <td>NaN</td>\n",
       "      <td>NaN</td>\n",
       "      <td>NaN</td>\n",
       "    </tr>\n",
       "    <tr>\n",
       "      <th>ESTU_COD_MCPIO_PRESENTACION</th>\n",
       "      <td>13001</td>\n",
       "      <td>13001</td>\n",
       "      <td>13001</td>\n",
       "    </tr>\n",
       "    <tr>\n",
       "      <th>ESTU_MCPIO_PRESENTACION</th>\n",
       "      <td>CARTAGENA</td>\n",
       "      <td>CARTAGENA</td>\n",
       "      <td>CARTAGENA</td>\n",
       "    </tr>\n",
       "    <tr>\n",
       "      <th>ESTU_DEPTO_PRESENTACION</th>\n",
       "      <td>BOLÃVAR</td>\n",
       "      <td>BOLÃVAR</td>\n",
       "      <td>BOLÃVAR</td>\n",
       "    </tr>\n",
       "    <tr>\n",
       "      <th>ESTU_EXAM_NOMBREEXAMEN</th>\n",
       "      <td>EXAMEN DE ESTADO  (2006)</td>\n",
       "      <td>EXAMEN DE ESTADO  (2006)</td>\n",
       "      <td>EXAMEN DE ESTADO  (2006)</td>\n",
       "    </tr>\n",
       "    <tr>\n",
       "      <th>IND_ESTUDIO_BACHILLERATO</th>\n",
       "      <td>1</td>\n",
       "      <td>1</td>\n",
       "      <td>1</td>\n",
       "    </tr>\n",
       "    <tr>\n",
       "      <th>IND_ANNO_TERMINO_BACHILLERATO</th>\n",
       "      <td>2006</td>\n",
       "      <td>2006</td>\n",
       "      <td>2006</td>\n",
       "    </tr>\n",
       "    <tr>\n",
       "      <th>IND_TERMINO_BACHILLERATO</th>\n",
       "      <td>NaN</td>\n",
       "      <td>NaN</td>\n",
       "      <td>NaN</td>\n",
       "    </tr>\n",
       "    <tr>\n",
       "      <th>IND_COD_ICFES_TERMINO</th>\n",
       "      <td>113597</td>\n",
       "      <td>113597</td>\n",
       "      <td>113597</td>\n",
       "    </tr>\n",
       "    <tr>\n",
       "      <th>COLE_COD_ICFES</th>\n",
       "      <td>113597</td>\n",
       "      <td>113597</td>\n",
       "      <td>113597</td>\n",
       "    </tr>\n",
       "    <tr>\n",
       "      <th>...</th>\n",
       "      <td>...</td>\n",
       "      <td>...</td>\n",
       "      <td>...</td>\n",
       "    </tr>\n",
       "    <tr>\n",
       "      <th>FAMI_INGRESO_FMILIAR_MENSUAL</th>\n",
       "      <td>NaN</td>\n",
       "      <td>NaN</td>\n",
       "      <td>NaN</td>\n",
       "    </tr>\n",
       "    <tr>\n",
       "      <th>ESTU_TRABAJA</th>\n",
       "      <td>NaN</td>\n",
       "      <td>NaN</td>\n",
       "      <td>NaN</td>\n",
       "    </tr>\n",
       "    <tr>\n",
       "      <th>ESTU_HORAS_TRABAJA</th>\n",
       "      <td>NaN</td>\n",
       "      <td>NaN</td>\n",
       "      <td>NaN</td>\n",
       "    </tr>\n",
       "    <tr>\n",
       "      <th>COLE_VALOR_PENSION</th>\n",
       "      <td>7</td>\n",
       "      <td>7</td>\n",
       "      <td>7</td>\n",
       "    </tr>\n",
       "    <tr>\n",
       "      <th>ESTU_CARRDESEADA_TIPO</th>\n",
       "      <td>NaN</td>\n",
       "      <td>NaN</td>\n",
       "      <td>NaN</td>\n",
       "    </tr>\n",
       "    <tr>\n",
       "      <th>ESTU_CARRDESEADA_NUCLEO</th>\n",
       "      <td>NaN</td>\n",
       "      <td>NaN</td>\n",
       "      <td>NaN</td>\n",
       "    </tr>\n",
       "    <tr>\n",
       "      <th>ESTU_IES_COD_DESEADA</th>\n",
       "      <td>1711</td>\n",
       "      <td>NaN</td>\n",
       "      <td>1711</td>\n",
       "    </tr>\n",
       "    <tr>\n",
       "      <th>ESTU_IES_DESEADA_NOMBRE</th>\n",
       "      <td>UNIVERSIDAD DE LA SABANA</td>\n",
       "      <td>NaN</td>\n",
       "      <td>UNIVERSIDAD DE LA SABANA</td>\n",
       "    </tr>\n",
       "    <tr>\n",
       "      <th>ESTU_IES_COD_MPIO_DESEADA</th>\n",
       "      <td>25175</td>\n",
       "      <td>NaN</td>\n",
       "      <td>25175</td>\n",
       "    </tr>\n",
       "    <tr>\n",
       "      <th>ESTU_IES_MPIO_DESEADA</th>\n",
       "      <td>CHIA</td>\n",
       "      <td>NaN</td>\n",
       "      <td>CHIA</td>\n",
       "    </tr>\n",
       "    <tr>\n",
       "      <th>ESTU_IES_DEPT_DESEADA</th>\n",
       "      <td>CUNDINAMARCA</td>\n",
       "      <td>NaN</td>\n",
       "      <td>CUNDINAMARCA</td>\n",
       "    </tr>\n",
       "    <tr>\n",
       "      <th>ESTU_RAZONINSTITUTO</th>\n",
       "      <td>3</td>\n",
       "      <td>3</td>\n",
       "      <td>3</td>\n",
       "    </tr>\n",
       "    <tr>\n",
       "      <th>ESTU_CARRDESEADA_COD</th>\n",
       "      <td>15254</td>\n",
       "      <td>NaN</td>\n",
       "      <td>7320</td>\n",
       "    </tr>\n",
       "    <tr>\n",
       "      <th>ESTU_CARRDESEADA_RAZON</th>\n",
       "      <td>2</td>\n",
       "      <td>2</td>\n",
       "      <td>3</td>\n",
       "    </tr>\n",
       "    <tr>\n",
       "      <th>PUNT_LENGUAJE</th>\n",
       "      <td>49,43</td>\n",
       "      <td>57,14</td>\n",
       "      <td>57,14</td>\n",
       "    </tr>\n",
       "    <tr>\n",
       "      <th>PUNT_MATEMATICAS</th>\n",
       "      <td>42,69</td>\n",
       "      <td>55,8</td>\n",
       "      <td>42,69</td>\n",
       "    </tr>\n",
       "    <tr>\n",
       "      <th>PUNT_C_SOCIALES</th>\n",
       "      <td>47,97</td>\n",
       "      <td>69,03</td>\n",
       "      <td>46,05</td>\n",
       "    </tr>\n",
       "    <tr>\n",
       "      <th>PUNT_FILOSOFIA</th>\n",
       "      <td>44,92</td>\n",
       "      <td>58,26</td>\n",
       "      <td>51,78</td>\n",
       "    </tr>\n",
       "    <tr>\n",
       "      <th>PUNT_BIOLOGIA</th>\n",
       "      <td>39,22</td>\n",
       "      <td>61,19</td>\n",
       "      <td>44,05</td>\n",
       "    </tr>\n",
       "    <tr>\n",
       "      <th>PUNT_QUIMICA</th>\n",
       "      <td>47,6</td>\n",
       "      <td>50,87</td>\n",
       "      <td>45,87</td>\n",
       "    </tr>\n",
       "    <tr>\n",
       "      <th>PUNT_FISICA</th>\n",
       "      <td>26,2</td>\n",
       "      <td>53,97</td>\n",
       "      <td>51,55</td>\n",
       "    </tr>\n",
       "    <tr>\n",
       "      <th>NOMBRE_IDIOMA</th>\n",
       "      <td>INGLÃS</td>\n",
       "      <td>INGLÃS</td>\n",
       "      <td>INGLÃS</td>\n",
       "    </tr>\n",
       "    <tr>\n",
       "      <th>PUNT_IDIOMA</th>\n",
       "      <td>49,6</td>\n",
       "      <td>69,4</td>\n",
       "      <td>47,66</td>\n",
       "    </tr>\n",
       "    <tr>\n",
       "      <th>DESEMP_IDIOMA</th>\n",
       "      <td>NaN</td>\n",
       "      <td>NaN</td>\n",
       "      <td>NaN</td>\n",
       "    </tr>\n",
       "    <tr>\n",
       "      <th>NOMBRE_PROFUNDIZACION</th>\n",
       "      <td>PROFUNDIZACIÃN EN MATEMÃTICA</td>\n",
       "      <td>PROFUNDIZACIÃN EN CIENCIAS SOCIALES</td>\n",
       "      <td>PROFUNDIZACIÃN EN LENGUAJE</td>\n",
       "    </tr>\n",
       "    <tr>\n",
       "      <th>PUNT_PROFUNDIZACION</th>\n",
       "      <td>5,19</td>\n",
       "      <td>6,44</td>\n",
       "      <td>5,29</td>\n",
       "    </tr>\n",
       "    <tr>\n",
       "      <th>DESEMP_PROFUNDIZACION</th>\n",
       "      <td>I</td>\n",
       "      <td>II</td>\n",
       "      <td>I</td>\n",
       "    </tr>\n",
       "    <tr>\n",
       "      <th>NOMBRE_INTERDISCIPLINAR</th>\n",
       "      <td>MEDIO AMBIENTE</td>\n",
       "      <td>VIOLENCIA Y SOCIEDAD</td>\n",
       "      <td>VIOLENCIA Y SOCIEDAD</td>\n",
       "    </tr>\n",
       "    <tr>\n",
       "      <th>PUNT_INTERDISCIPLINAR</th>\n",
       "      <td>49,02</td>\n",
       "      <td>57,28</td>\n",
       "      <td>44,42</td>\n",
       "    </tr>\n",
       "    <tr>\n",
       "      <th>ESTU_PUESTO</th>\n",
       "      <td>635</td>\n",
       "      <td>18</td>\n",
       "      <td>263</td>\n",
       "    </tr>\n",
       "  </tbody>\n",
       "</table>\n",
       "<p>85 rows × 3 columns</p>\n",
       "</div>"
      ],
      "text/plain": [
       "                                                            0  \\\n",
       "ESTU_CONSECUTIVO                              SB1120062000001   \n",
       "PERIODO                                                 20062   \n",
       "ESTU_TIPO_DOCUMENTO                                         T   \n",
       "ESTU_PAIS_RESIDE                                           CO   \n",
       "ESTU_GENERO                                                 F   \n",
       "ESTU_NACIMIENTO_DIA                                         1   \n",
       "ESTU_NACIMIENTO_MES                                         6   \n",
       "ESTU_NACIMIENTO_ANNO                                     1994   \n",
       "ESTU_EDAD                                                  12   \n",
       "ESTU_LIMITA_BAJAVISION                                    NaN   \n",
       "ESTU_LIMITA_SORDOCEGUERA                                  NaN   \n",
       "ESTU_LIMITA_COGNITIVA                                     NaN   \n",
       "ESTU_LIMITA_INVIDENTE                                     NaN   \n",
       "ESTU_LIMITA_MOTRIZ                                        NaN   \n",
       "ESTU_LIMITA_SORDOINTERPRETE                               NaN   \n",
       "ESTU_LIMITA_SORDONOINTERPRETE                             NaN   \n",
       "ESTU_COD_RESIDE_MCPIO                                   13001   \n",
       "ESTU_RESIDE_MCPIO                                   CARTAGENA   \n",
       "ESTU_RESIDE_DEPTO                                    BOLÃVAR   \n",
       "ESTU_ZONA_RESIDE                                            1   \n",
       "ESTU_AREA_RESIDE                                          NaN   \n",
       "ESTU_COD_MCPIO_PRESENTACION                             13001   \n",
       "ESTU_MCPIO_PRESENTACION                             CARTAGENA   \n",
       "ESTU_DEPTO_PRESENTACION                              BOLÃVAR   \n",
       "ESTU_EXAM_NOMBREEXAMEN               EXAMEN DE ESTADO  (2006)   \n",
       "IND_ESTUDIO_BACHILLERATO                                    1   \n",
       "IND_ANNO_TERMINO_BACHILLERATO                            2006   \n",
       "IND_TERMINO_BACHILLERATO                                  NaN   \n",
       "IND_COD_ICFES_TERMINO                                  113597   \n",
       "COLE_COD_ICFES                                         113597   \n",
       "...                                                       ...   \n",
       "FAMI_INGRESO_FMILIAR_MENSUAL                              NaN   \n",
       "ESTU_TRABAJA                                              NaN   \n",
       "ESTU_HORAS_TRABAJA                                        NaN   \n",
       "COLE_VALOR_PENSION                                          7   \n",
       "ESTU_CARRDESEADA_TIPO                                     NaN   \n",
       "ESTU_CARRDESEADA_NUCLEO                                   NaN   \n",
       "ESTU_IES_COD_DESEADA                                     1711   \n",
       "ESTU_IES_DESEADA_NOMBRE              UNIVERSIDAD DE LA SABANA   \n",
       "ESTU_IES_COD_MPIO_DESEADA                               25175   \n",
       "ESTU_IES_MPIO_DESEADA                                    CHIA   \n",
       "ESTU_IES_DEPT_DESEADA                            CUNDINAMARCA   \n",
       "ESTU_RAZONINSTITUTO                                         3   \n",
       "ESTU_CARRDESEADA_COD                                    15254   \n",
       "ESTU_CARRDESEADA_RAZON                                      2   \n",
       "PUNT_LENGUAJE                                           49,43   \n",
       "PUNT_MATEMATICAS                                        42,69   \n",
       "PUNT_C_SOCIALES                                         47,97   \n",
       "PUNT_FILOSOFIA                                          44,92   \n",
       "PUNT_BIOLOGIA                                           39,22   \n",
       "PUNT_QUIMICA                                             47,6   \n",
       "PUNT_FISICA                                              26,2   \n",
       "NOMBRE_IDIOMA                                         INGLÃS   \n",
       "PUNT_IDIOMA                                              49,6   \n",
       "DESEMP_IDIOMA                                             NaN   \n",
       "NOMBRE_PROFUNDIZACION          PROFUNDIZACIÃN EN MATEMÃTICA   \n",
       "PUNT_PROFUNDIZACION                                      5,19   \n",
       "DESEMP_PROFUNDIZACION                                       I   \n",
       "NOMBRE_INTERDISCIPLINAR                        MEDIO AMBIENTE   \n",
       "PUNT_INTERDISCIPLINAR                                   49,02   \n",
       "ESTU_PUESTO                                               635   \n",
       "\n",
       "                                                                  1  \\\n",
       "ESTU_CONSECUTIVO                                    SB1120062000002   \n",
       "PERIODO                                                       20062   \n",
       "ESTU_TIPO_DOCUMENTO                                               T   \n",
       "ESTU_PAIS_RESIDE                                                 CO   \n",
       "ESTU_GENERO                                                       F   \n",
       "ESTU_NACIMIENTO_DIA                                              26   \n",
       "ESTU_NACIMIENTO_MES                                               7   \n",
       "ESTU_NACIMIENTO_ANNO                                           1990   \n",
       "ESTU_EDAD                                                        15   \n",
       "ESTU_LIMITA_BAJAVISION                                          NaN   \n",
       "ESTU_LIMITA_SORDOCEGUERA                                        NaN   \n",
       "ESTU_LIMITA_COGNITIVA                                           NaN   \n",
       "ESTU_LIMITA_INVIDENTE                                           NaN   \n",
       "ESTU_LIMITA_MOTRIZ                                              NaN   \n",
       "ESTU_LIMITA_SORDOINTERPRETE                                     NaN   \n",
       "ESTU_LIMITA_SORDONOINTERPRETE                                   NaN   \n",
       "ESTU_COD_RESIDE_MCPIO                                         13001   \n",
       "ESTU_RESIDE_MCPIO                                         CARTAGENA   \n",
       "ESTU_RESIDE_DEPTO                                          BOLÃVAR   \n",
       "ESTU_ZONA_RESIDE                                                  1   \n",
       "ESTU_AREA_RESIDE                                                NaN   \n",
       "ESTU_COD_MCPIO_PRESENTACION                                   13001   \n",
       "ESTU_MCPIO_PRESENTACION                                   CARTAGENA   \n",
       "ESTU_DEPTO_PRESENTACION                                    BOLÃVAR   \n",
       "ESTU_EXAM_NOMBREEXAMEN                     EXAMEN DE ESTADO  (2006)   \n",
       "IND_ESTUDIO_BACHILLERATO                                          1   \n",
       "IND_ANNO_TERMINO_BACHILLERATO                                  2006   \n",
       "IND_TERMINO_BACHILLERATO                                        NaN   \n",
       "IND_COD_ICFES_TERMINO                                        113597   \n",
       "COLE_COD_ICFES                                               113597   \n",
       "...                                                             ...   \n",
       "FAMI_INGRESO_FMILIAR_MENSUAL                                    NaN   \n",
       "ESTU_TRABAJA                                                    NaN   \n",
       "ESTU_HORAS_TRABAJA                                              NaN   \n",
       "COLE_VALOR_PENSION                                                7   \n",
       "ESTU_CARRDESEADA_TIPO                                           NaN   \n",
       "ESTU_CARRDESEADA_NUCLEO                                         NaN   \n",
       "ESTU_IES_COD_DESEADA                                            NaN   \n",
       "ESTU_IES_DESEADA_NOMBRE                                         NaN   \n",
       "ESTU_IES_COD_MPIO_DESEADA                                       NaN   \n",
       "ESTU_IES_MPIO_DESEADA                                           NaN   \n",
       "ESTU_IES_DEPT_DESEADA                                           NaN   \n",
       "ESTU_RAZONINSTITUTO                                               3   \n",
       "ESTU_CARRDESEADA_COD                                            NaN   \n",
       "ESTU_CARRDESEADA_RAZON                                            2   \n",
       "PUNT_LENGUAJE                                                 57,14   \n",
       "PUNT_MATEMATICAS                                               55,8   \n",
       "PUNT_C_SOCIALES                                               69,03   \n",
       "PUNT_FILOSOFIA                                                58,26   \n",
       "PUNT_BIOLOGIA                                                 61,19   \n",
       "PUNT_QUIMICA                                                  50,87   \n",
       "PUNT_FISICA                                                   53,97   \n",
       "NOMBRE_IDIOMA                                               INGLÃS   \n",
       "PUNT_IDIOMA                                                    69,4   \n",
       "DESEMP_IDIOMA                                                   NaN   \n",
       "NOMBRE_PROFUNDIZACION          PROFUNDIZACIÃN EN CIENCIAS SOCIALES   \n",
       "PUNT_PROFUNDIZACION                                            6,44   \n",
       "DESEMP_PROFUNDIZACION                                            II   \n",
       "NOMBRE_INTERDISCIPLINAR                        VIOLENCIA Y SOCIEDAD   \n",
       "PUNT_INTERDISCIPLINAR                                         57,28   \n",
       "ESTU_PUESTO                                                      18   \n",
       "\n",
       "                                                         2  \n",
       "ESTU_CONSECUTIVO                           SB1120062000003  \n",
       "PERIODO                                              20062  \n",
       "ESTU_TIPO_DOCUMENTO                                      T  \n",
       "ESTU_PAIS_RESIDE                                        CO  \n",
       "ESTU_GENERO                                              F  \n",
       "ESTU_NACIMIENTO_DIA                                     11  \n",
       "ESTU_NACIMIENTO_MES                                      1  \n",
       "ESTU_NACIMIENTO_ANNO                                  1989  \n",
       "ESTU_EDAD                                               17  \n",
       "ESTU_LIMITA_BAJAVISION                                 NaN  \n",
       "ESTU_LIMITA_SORDOCEGUERA                               NaN  \n",
       "ESTU_LIMITA_COGNITIVA                                  NaN  \n",
       "ESTU_LIMITA_INVIDENTE                                  NaN  \n",
       "ESTU_LIMITA_MOTRIZ                                     NaN  \n",
       "ESTU_LIMITA_SORDOINTERPRETE                            NaN  \n",
       "ESTU_LIMITA_SORDONOINTERPRETE                          NaN  \n",
       "ESTU_COD_RESIDE_MCPIO                                13001  \n",
       "ESTU_RESIDE_MCPIO                                CARTAGENA  \n",
       "ESTU_RESIDE_DEPTO                                 BOLÃVAR  \n",
       "ESTU_ZONA_RESIDE                                         1  \n",
       "ESTU_AREA_RESIDE                                       NaN  \n",
       "ESTU_COD_MCPIO_PRESENTACION                          13001  \n",
       "ESTU_MCPIO_PRESENTACION                          CARTAGENA  \n",
       "ESTU_DEPTO_PRESENTACION                           BOLÃVAR  \n",
       "ESTU_EXAM_NOMBREEXAMEN            EXAMEN DE ESTADO  (2006)  \n",
       "IND_ESTUDIO_BACHILLERATO                                 1  \n",
       "IND_ANNO_TERMINO_BACHILLERATO                         2006  \n",
       "IND_TERMINO_BACHILLERATO                               NaN  \n",
       "IND_COD_ICFES_TERMINO                               113597  \n",
       "COLE_COD_ICFES                                      113597  \n",
       "...                                                    ...  \n",
       "FAMI_INGRESO_FMILIAR_MENSUAL                           NaN  \n",
       "ESTU_TRABAJA                                           NaN  \n",
       "ESTU_HORAS_TRABAJA                                     NaN  \n",
       "COLE_VALOR_PENSION                                       7  \n",
       "ESTU_CARRDESEADA_TIPO                                  NaN  \n",
       "ESTU_CARRDESEADA_NUCLEO                                NaN  \n",
       "ESTU_IES_COD_DESEADA                                  1711  \n",
       "ESTU_IES_DESEADA_NOMBRE           UNIVERSIDAD DE LA SABANA  \n",
       "ESTU_IES_COD_MPIO_DESEADA                            25175  \n",
       "ESTU_IES_MPIO_DESEADA                                 CHIA  \n",
       "ESTU_IES_DEPT_DESEADA                         CUNDINAMARCA  \n",
       "ESTU_RAZONINSTITUTO                                      3  \n",
       "ESTU_CARRDESEADA_COD                                  7320  \n",
       "ESTU_CARRDESEADA_RAZON                                   3  \n",
       "PUNT_LENGUAJE                                        57,14  \n",
       "PUNT_MATEMATICAS                                     42,69  \n",
       "PUNT_C_SOCIALES                                      46,05  \n",
       "PUNT_FILOSOFIA                                       51,78  \n",
       "PUNT_BIOLOGIA                                        44,05  \n",
       "PUNT_QUIMICA                                         45,87  \n",
       "PUNT_FISICA                                          51,55  \n",
       "NOMBRE_IDIOMA                                      INGLÃS  \n",
       "PUNT_IDIOMA                                          47,66  \n",
       "DESEMP_IDIOMA                                          NaN  \n",
       "NOMBRE_PROFUNDIZACION          PROFUNDIZACIÃN EN LENGUAJE  \n",
       "PUNT_PROFUNDIZACION                                   5,29  \n",
       "DESEMP_PROFUNDIZACION                                    I  \n",
       "NOMBRE_INTERDISCIPLINAR               VIOLENCIA Y SOCIEDAD  \n",
       "PUNT_INTERDISCIPLINAR                                44,42  \n",
       "ESTU_PUESTO                                            263  \n",
       "\n",
       "[85 rows x 3 columns]"
      ]
     },
     "execution_count": 10,
     "metadata": {},
     "output_type": "execute_result"
    }
   ],
   "source": [
    "data_2006_2.head(3).T"
   ]
  },
  {
   "cell_type": "markdown",
   "metadata": {},
   "source": [
    "First delete the columns that wont' contribute to the work"
   ]
  },
  {
   "cell_type": "code",
   "execution_count": 11,
   "metadata": {
    "collapsed": true
   },
   "outputs": [],
   "source": [
    "data_2006_2 = data_2006_2.drop(['ESTU_CONSECUTIVO', 'PERIODO', 'ESTU_TIPO_DOCUMENTO', 'ESTU_RESIDE_MCPIO', 'ESTU_MCPIO_PRESENTACION',\n",
    "                               'ESTU_IES_DESEADA_NOMBRE', 'ESTU_IES_MPIO_DESEADA'], axis=1)"
   ]
  },
  {
   "cell_type": "code",
   "execution_count": null,
   "metadata": {
    "collapsed": true
   },
   "outputs": [],
   "source": [
    "c = 'ESTU_PAIS_RESIDE'\n",
    "print(data_2006_2[c].value_counts().sort_index().index)\n",
    "print(data_2006_2[c].value_counts().sort_index())\n",
    "print(missing_data(data_2006_2[c]))"
   ]
  },
  {
   "cell_type": "code",
   "execution_count": null,
   "metadata": {
    "collapsed": true
   },
   "outputs": [],
   "source": [
    "c = 'ESTU_GENERO'\n",
    "print(data_2006_2[c].value_counts().sort_index().index)\n",
    "print(data_2006_2[c].value_counts().sort_index())\n",
    "print(missing_data(data_2006_2[c]))"
   ]
  },
  {
   "cell_type": "code",
   "execution_count": null,
   "metadata": {
    "collapsed": true
   },
   "outputs": [],
   "source": [
    "c = 'ESTU_NACIMIENTO_DIA'\n",
    "print(data_2006_2[c].value_counts().sort_index().index)\n",
    "print(data_2006_2[c].value_counts().sort_index())\n",
    "print(missing_data(data_2006_2[c]))"
   ]
  },
  {
   "cell_type": "code",
   "execution_count": null,
   "metadata": {
    "collapsed": true
   },
   "outputs": [],
   "source": [
    "c = 'ESTU_NACIMIENTO_MES'\n",
    "print(data_2006_2[c].value_counts().sort_index().index)\n",
    "print(data_2006_2[c].value_counts().sort_index())\n",
    "print(missing_data(data_2006_2[c]))"
   ]
  },
  {
   "cell_type": "code",
   "execution_count": null,
   "metadata": {
    "collapsed": true
   },
   "outputs": [],
   "source": [
    "c = 'ESTU_NACIMIENTO_ANNO'\n",
    "print(data_2006_2[c].value_counts().sort_index().index)\n",
    "print(data_2006_2[c].value_counts().sort_index())\n",
    "print(missing_data(data_2006_2[c]))"
   ]
  },
  {
   "cell_type": "code",
   "execution_count": null,
   "metadata": {
    "collapsed": true
   },
   "outputs": [],
   "source": [
    "c = 'ESTU_EDAD'\n",
    "print(data_2006_2[c].value_counts().sort_index().index)\n",
    "print(data_2006_2[c].value_counts().sort_index())\n",
    "print(missing_data(data_2006_2[c]))"
   ]
  },
  {
   "cell_type": "code",
   "execution_count": null,
   "metadata": {
    "collapsed": true
   },
   "outputs": [],
   "source": [
    "c = 'ESTU_LIMITA_BAJAVISION'\n",
    "print(data_2006_2[c].value_counts().sort_index().index)\n",
    "print(data_2006_2[c].value_counts().sort_index())\n",
    "print(missing_data(data_2006_2[c]))"
   ]
  },
  {
   "cell_type": "code",
   "execution_count": null,
   "metadata": {
    "collapsed": true
   },
   "outputs": [],
   "source": [
    "c = 'ESTU_LIMITA_SORDOCEGUERA'\n",
    "print(data_2006_2[c].value_counts().sort_index().index)\n",
    "print(data_2006_2[c].value_counts().sort_index())\n",
    "print(missing_data(data_2006_2[c]))"
   ]
  },
  {
   "cell_type": "code",
   "execution_count": null,
   "metadata": {
    "collapsed": true
   },
   "outputs": [],
   "source": [
    "c = 'ESTU_LIMITA_COGNITIVA'\n",
    "print(data_2006_2[c].value_counts().sort_index().index)\n",
    "print(data_2006_2[c].value_counts().sort_index())\n",
    "print(missing_data(data_2006_2[c]))"
   ]
  },
  {
   "cell_type": "code",
   "execution_count": null,
   "metadata": {
    "collapsed": true
   },
   "outputs": [],
   "source": [
    "c = 'ESTU_LIMITA_INVIDENTE'\n",
    "print(data_2006_2[c].value_counts().sort_index().index)\n",
    "print(data_2006_2[c].value_counts().sort_index())\n",
    "print(missing_data(data_2006_2[c]))"
   ]
  },
  {
   "cell_type": "code",
   "execution_count": null,
   "metadata": {
    "collapsed": true
   },
   "outputs": [],
   "source": [
    "c = 'ESTU_LIMITA_MOTRIZ'\n",
    "print(data_2006_2[c].value_counts().sort_index().index)\n",
    "print(data_2006_2[c].value_counts().sort_index())\n",
    "print(missing_data(data_2006_2[c]))"
   ]
  },
  {
   "cell_type": "code",
   "execution_count": null,
   "metadata": {
    "collapsed": true
   },
   "outputs": [],
   "source": [
    "c = 'ESTU_LIMITA_SORDOINTERPRETE'\n",
    "print(data_2006_2[c].value_counts().sort_index().index)\n",
    "print(data_2006_2[c].value_counts().sort_index())\n",
    "print(missing_data(data_2006_2[c]))"
   ]
  },
  {
   "cell_type": "code",
   "execution_count": null,
   "metadata": {
    "collapsed": true
   },
   "outputs": [],
   "source": [
    "c = 'ESTU_LIMITA_SORDONOINTERPRETE'\n",
    "print(data_2006_2[c].value_counts().sort_index().index)\n",
    "print(data_2006_2[c].value_counts().sort_index())\n",
    "print(missing_data(data_2006_2[c]))"
   ]
  },
  {
   "cell_type": "code",
   "execution_count": null,
   "metadata": {
    "collapsed": true
   },
   "outputs": [],
   "source": [
    "c = 'ESTU_COD_RESIDE_MCPIO'\n",
    "print(data_2006_2[c].value_counts().sort_index().index)\n",
    "print(data_2006_2[c].value_counts().sort_index())\n",
    "print(missing_data(data_2006_2[c]))"
   ]
  },
  {
   "cell_type": "code",
   "execution_count": null,
   "metadata": {
    "collapsed": true
   },
   "outputs": [],
   "source": [
    "c = 'ESTU_RESIDE_DEPTO'\n",
    "print(data_2006_2[c].value_counts().sort_index().index)\n",
    "print(data_2006_2[c].value_counts().sort_index())\n",
    "print(missing_data(data_2006_2[c]))"
   ]
  },
  {
   "cell_type": "code",
   "execution_count": null,
   "metadata": {
    "collapsed": true
   },
   "outputs": [],
   "source": [
    "c = 'ESTU_ZONA_RESIDE'\n",
    "print(data_2006_2[c].value_counts().sort_index().index)\n",
    "print(data_2006_2[c].value_counts().sort_index())\n",
    "print(missing_data(data_2006_2[c]))"
   ]
  },
  {
   "cell_type": "code",
   "execution_count": null,
   "metadata": {
    "collapsed": true
   },
   "outputs": [],
   "source": [
    "c = 'ESTU_AREA_RESIDE'\n",
    "print(data_2006_2[c].value_counts().sort_index().index)\n",
    "print(data_2006_2[c].value_counts().sort_index())\n",
    "print(missing_data(data_2006_2[c]))"
   ]
  },
  {
   "cell_type": "code",
   "execution_count": null,
   "metadata": {
    "collapsed": true
   },
   "outputs": [],
   "source": [
    "c = 'ESTU_COD_MCPIO_PRESENTACION'\n",
    "print(data_2006_2[c].value_counts().sort_index().index)\n",
    "print(data_2006_2[c].value_counts().sort_index())\n",
    "print(missing_data(data_2006_2[c]))"
   ]
  },
  {
   "cell_type": "code",
   "execution_count": null,
   "metadata": {
    "collapsed": true
   },
   "outputs": [],
   "source": [
    "c = 'ESTU_DEPTO_PRESENTACION'\n",
    "print(data_2006_2[c].value_counts().sort_index().index)\n",
    "print(data_2006_2[c].value_counts().sort_index())\n",
    "print(missing_data(data_2006_2[c]))"
   ]
  },
  {
   "cell_type": "code",
   "execution_count": null,
   "metadata": {
    "collapsed": true
   },
   "outputs": [],
   "source": [
    "c = 'ESTU_EXAM_NOMBREEXAMEN'\n",
    "print(data_2006_2[c].value_counts().sort_index().index)\n",
    "print(data_2006_2[c].value_counts().sort_index())\n",
    "print(missing_data(data_2006_2[c]))"
   ]
  },
  {
   "cell_type": "code",
   "execution_count": null,
   "metadata": {
    "collapsed": true
   },
   "outputs": [],
   "source": [
    "c = 'IND_ESTUDIO_BACHILLERATO'\n",
    "print(data_2006_2[c].value_counts().sort_index().index)\n",
    "print(data_2006_2[c].value_counts().sort_index())\n",
    "print(missing_data(data_2006_2[c]))"
   ]
  },
  {
   "cell_type": "code",
   "execution_count": null,
   "metadata": {
    "collapsed": true
   },
   "outputs": [],
   "source": [
    "c = 'IND_ANNO_TERMINO_BACHILLERATO'\n",
    "print(data_2006_2[c].value_counts().sort_index().index)\n",
    "print(data_2006_2[c].value_counts().sort_index())\n",
    "print(missing_data(data_2006_2[c]))"
   ]
  },
  {
   "cell_type": "code",
   "execution_count": null,
   "metadata": {
    "collapsed": true
   },
   "outputs": [],
   "source": [
    "c = 'IND_TERMINO_BACHILLERATO'\n",
    "print(data_2006_2[c].value_counts().sort_index().index)\n",
    "print(data_2006_2[c].value_counts().sort_index())\n",
    "print(missing_data(data_2006_2[c]))"
   ]
  },
  {
   "cell_type": "code",
   "execution_count": null,
   "metadata": {
    "collapsed": true
   },
   "outputs": [],
   "source": [
    "c = 'IND_COD_ICFES_TERMINO'\n",
    "print(data_2006_2[c].value_counts().sort_index().index)\n",
    "print(data_2006_2[c].value_counts().sort_index())\n",
    "print(missing_data(data_2006_2[c]))"
   ]
  },
  {
   "cell_type": "code",
   "execution_count": null,
   "metadata": {
    "collapsed": true
   },
   "outputs": [],
   "source": [
    "c = 'COLE_COD_ICFES'\n",
    "print(data_2006_2[c].value_counts().sort_index().index)\n",
    "print(data_2006_2[c].value_counts().sort_index())\n",
    "print(missing_data(data_2006_2[c]))"
   ]
  },
  {
   "cell_type": "code",
   "execution_count": null,
   "metadata": {
    "collapsed": true
   },
   "outputs": [],
   "source": [
    "c = 'COLE_COD_DANE_INSTITUCION'\n",
    "print(data_2006_2[c].value_counts().sort_index().index)\n",
    "print(data_2006_2[c].value_counts().sort_index())\n",
    "print(missing_data(data_2006_2[c]))"
   ]
  },
  {
   "cell_type": "code",
   "execution_count": null,
   "metadata": {
    "collapsed": true
   },
   "outputs": [],
   "source": [
    "c = 'COLE_NOMBRE_SEDE'\n",
    "print(data_2006_2[c].value_counts().sort_index().index)\n",
    "print(data_2006_2[c].value_counts().sort_index())\n",
    "print(missing_data(data_2006_2[c]))"
   ]
  },
  {
   "cell_type": "code",
   "execution_count": null,
   "metadata": {
    "collapsed": true
   },
   "outputs": [],
   "source": [
    "c = 'COLE_CALENDARIO'\n",
    "print(data_2006_2[c].value_counts().sort_index().index)\n",
    "print(data_2006_2[c].value_counts().sort_index())\n",
    "print(missing_data(data_2006_2[c]))"
   ]
  },
  {
   "cell_type": "code",
   "execution_count": null,
   "metadata": {
    "collapsed": true
   },
   "outputs": [],
   "source": [
    "c = 'COLE_GENERO'\n",
    "print(data_2006_2[c].value_counts().sort_index().index)\n",
    "print(data_2006_2[c].value_counts().sort_index())\n",
    "print(missing_data(data_2006_2[c]))"
   ]
  },
  {
   "cell_type": "code",
   "execution_count": null,
   "metadata": {
    "collapsed": true
   },
   "outputs": [],
   "source": [
    "c = 'COLE_NATURALEZA'\n",
    "print(data_2006_2[c].value_counts().sort_index().index)\n",
    "print(data_2006_2[c].value_counts().sort_index())\n",
    "print(missing_data(data_2006_2[c]))"
   ]
  },
  {
   "cell_type": "code",
   "execution_count": null,
   "metadata": {
    "collapsed": true
   },
   "outputs": [],
   "source": [
    "c = 'COLE_BILINGUE'\n",
    "print(data_2006_2[c].value_counts().sort_index().index)\n",
    "print(data_2006_2[c].value_counts().sort_index())\n",
    "print(missing_data(data_2006_2[c]))"
   ]
  },
  {
   "cell_type": "code",
   "execution_count": null,
   "metadata": {
    "collapsed": true
   },
   "outputs": [],
   "source": [
    "c = 'COLE_JORNADA'\n",
    "print(data_2006_2[c].value_counts().sort_index().index)\n",
    "print(data_2006_2[c].value_counts().sort_index())\n",
    "print(missing_data(data_2006_2[c]))"
   ]
  },
  {
   "cell_type": "code",
   "execution_count": null,
   "metadata": {
    "collapsed": true
   },
   "outputs": [],
   "source": [
    "c = 'COLE_CARACTER'\n",
    "print(data_2006_2[c].value_counts().sort_index().index)\n",
    "print(data_2006_2[c].value_counts().sort_index())\n",
    "print(missing_data(data_2006_2[c]))"
   ]
  },
  {
   "cell_type": "code",
   "execution_count": null,
   "metadata": {
    "collapsed": true
   },
   "outputs": [],
   "source": [
    "c = 'ESTU_ETNIA'\n",
    "print(data_2006_2[c].value_counts().sort_index().index)\n",
    "print(data_2006_2[c].value_counts().sort_index())\n",
    "print(missing_data(data_2006_2[c]))"
   ]
  },
  {
   "cell_type": "code",
   "execution_count": null,
   "metadata": {
    "collapsed": true
   },
   "outputs": [],
   "source": [
    "c = 'FAMI_LEE_ESCRIBE_PADRE'\n",
    "print(data_2006_2[c].value_counts().sort_index().index)\n",
    "print(data_2006_2[c].value_counts().sort_index())\n",
    "print(missing_data(data_2006_2[c]))"
   ]
  },
  {
   "cell_type": "code",
   "execution_count": null,
   "metadata": {
    "collapsed": true
   },
   "outputs": [],
   "source": [
    "c = 'FAMI_LEE_ESCRIBE_MADRE'\n",
    "print(data_2006_2[c].value_counts().sort_index().index)\n",
    "print(data_2006_2[c].value_counts().sort_index())\n",
    "print(missing_data(data_2006_2[c]))"
   ]
  },
  {
   "cell_type": "code",
   "execution_count": null,
   "metadata": {
    "collapsed": true
   },
   "outputs": [],
   "source": [
    "c = 'FAMI_EDUCA_PADRE'\n",
    "print(data_2006_2[c].value_counts().sort_index().index)\n",
    "print(data_2006_2[c].value_counts().sort_index())\n",
    "print(missing_data(data_2006_2[c]))"
   ]
  },
  {
   "cell_type": "code",
   "execution_count": null,
   "metadata": {
    "collapsed": true
   },
   "outputs": [],
   "source": [
    "c = 'FAMI_EDUCA_MADRE'\n",
    "print(data_2006_2[c].value_counts().sort_index().index)\n",
    "print(data_2006_2[c].value_counts().sort_index())\n",
    "print(missing_data(data_2006_2[c]))"
   ]
  },
  {
   "cell_type": "code",
   "execution_count": null,
   "metadata": {
    "collapsed": true
   },
   "outputs": [],
   "source": [
    "c = 'FAMI_OCUPA_PADRE'\n",
    "print(data_2006_2[c].value_counts().sort_index().index)\n",
    "print(data_2006_2[c].value_counts().sort_index())\n",
    "print(missing_data(data_2006_2[c]))"
   ]
  },
  {
   "cell_type": "code",
   "execution_count": null,
   "metadata": {
    "collapsed": true
   },
   "outputs": [],
   "source": [
    "c = 'FAMI_OCUPA_MADRE'\n",
    "print(data_2006_2[c].value_counts().sort_index().index)\n",
    "print(data_2006_2[c].value_counts().sort_index())\n",
    "print(missing_data(data_2006_2[c]))"
   ]
  },
  {
   "cell_type": "code",
   "execution_count": null,
   "metadata": {
    "collapsed": true
   },
   "outputs": [],
   "source": [
    "c = 'FAMI_NUM_HERMANOS'\n",
    "print(data_2006_2[c].value_counts().sort_index().index)\n",
    "print(data_2006_2[c].value_counts().sort_index())\n",
    "print(missing_data(data_2006_2[c]))"
   ]
  },
  {
   "cell_type": "code",
   "execution_count": null,
   "metadata": {
    "collapsed": true
   },
   "outputs": [],
   "source": [
    "c = 'FAMI_EDUCA_HERMANO'\n",
    "print(data_2006_2[c].value_counts().sort_index().index)\n",
    "print(data_2006_2[c].value_counts().sort_index())\n",
    "print(missing_data(data_2006_2[c]))"
   ]
  },
  {
   "cell_type": "code",
   "execution_count": null,
   "metadata": {
    "collapsed": true
   },
   "outputs": [],
   "source": [
    "c = 'FAMI_HERMANOS_ESTUDIAN'\n",
    "print(data_2006_2[c].value_counts().sort_index().index)\n",
    "print(data_2006_2[c].value_counts().sort_index())\n",
    "print(missing_data(data_2006_2[c]))"
   ]
  },
  {
   "cell_type": "code",
   "execution_count": null,
   "metadata": {
    "collapsed": true
   },
   "outputs": [],
   "source": [
    "c = 'FAMI_ESTRATO_VIVIENDA'\n",
    "print(data_2006_2[c].value_counts().sort_index().index)\n",
    "print(data_2006_2[c].value_counts().sort_index())\n",
    "print(missing_data(data_2006_2[c]))"
   ]
  },
  {
   "cell_type": "code",
   "execution_count": null,
   "metadata": {
    "collapsed": true
   },
   "outputs": [],
   "source": [
    "c = 'FAMI_NIVEL_SISBEN'\n",
    "print(data_2006_2[c].value_counts().sort_index().index)\n",
    "print(data_2006_2[c].value_counts().sort_index())\n",
    "print(missing_data(data_2006_2[c]))"
   ]
  },
  {
   "cell_type": "code",
   "execution_count": null,
   "metadata": {
    "collapsed": true
   },
   "outputs": [],
   "source": [
    "c = 'FAMI_PERSONAS_HOGAR'\n",
    "print(data_2006_2[c].value_counts().sort_index().index)\n",
    "print(data_2006_2[c].value_counts().sort_index())\n",
    "print(missing_data(data_2006_2[c]))"
   ]
  },
  {
   "cell_type": "code",
   "execution_count": null,
   "metadata": {
    "collapsed": true
   },
   "outputs": [],
   "source": [
    "c = 'FAMI_PISOSHOGAR'\n",
    "print(data_2006_2[c].value_counts().sort_index().index)\n",
    "print(data_2006_2[c].value_counts().sort_index())\n",
    "print(missing_data(data_2006_2[c]))"
   ]
  },
  {
   "cell_type": "code",
   "execution_count": null,
   "metadata": {
    "collapsed": true
   },
   "outputs": [],
   "source": [
    "c = 'FAMI_CUARTOS_HOGAR'\n",
    "print(data_2006_2[c].value_counts().sort_index().index)\n",
    "print(data_2006_2[c].value_counts().sort_index())\n",
    "print(missing_data(data_2006_2[c]))"
   ]
  },
  {
   "cell_type": "code",
   "execution_count": null,
   "metadata": {
    "collapsed": true
   },
   "outputs": [],
   "source": [
    "c = 'FAMI_DORMITORIOS_HOGAR'\n",
    "print(data_2006_2[c].value_counts().sort_index().index)\n",
    "print(data_2006_2[c].value_counts().sort_index())\n",
    "print(missing_data(data_2006_2[c]))"
   ]
  },
  {
   "cell_type": "code",
   "execution_count": null,
   "metadata": {
    "collapsed": true
   },
   "outputs": [],
   "source": [
    "c = 'FAMI_COMPUTADOR'\n",
    "print(data_2006_2[c].value_counts().sort_index().index)\n",
    "print(data_2006_2[c].value_counts().sort_index())\n",
    "print(missing_data(data_2006_2[c]))"
   ]
  },
  {
   "cell_type": "code",
   "execution_count": null,
   "metadata": {
    "collapsed": true
   },
   "outputs": [],
   "source": [
    "c = 'FAMI_INGRESO_FMILIAR_MENSUAL'\n",
    "print(data_2006_2[c].value_counts().sort_index().index)\n",
    "print(data_2006_2[c].value_counts().sort_index())\n",
    "print(missing_data(data_2006_2[c]))"
   ]
  },
  {
   "cell_type": "code",
   "execution_count": null,
   "metadata": {
    "collapsed": true
   },
   "outputs": [],
   "source": [
    "c = 'ESTU_TRABAJA'\n",
    "print(data_2006_2[c].value_counts().sort_index().index)\n",
    "print(data_2006_2[c].value_counts().sort_index())\n",
    "print(missing_data(data_2006_2[c]))"
   ]
  },
  {
   "cell_type": "code",
   "execution_count": null,
   "metadata": {
    "collapsed": true
   },
   "outputs": [],
   "source": [
    "c = 'ESTU_HORAS_TRABAJA'\n",
    "print(data_2006_2[c].value_counts().sort_index().index)\n",
    "print(data_2006_2[c].value_counts().sort_index())\n",
    "print(missing_data(data_2006_2[c]))"
   ]
  },
  {
   "cell_type": "code",
   "execution_count": null,
   "metadata": {
    "collapsed": true
   },
   "outputs": [],
   "source": [
    "c = 'COLE_VALOR_PENSION'\n",
    "print(data_2006_2[c].value_counts().sort_index().index)\n",
    "print(data_2006_2[c].value_counts().sort_index())\n",
    "print(missing_data(data_2006_2[c]))"
   ]
  },
  {
   "cell_type": "code",
   "execution_count": null,
   "metadata": {
    "collapsed": true
   },
   "outputs": [],
   "source": [
    "c = 'ESTU_CARRDESEADA_TIPO'\n",
    "print(data_2006_2[c].value_counts().sort_index().index)\n",
    "print(data_2006_2[c].value_counts().sort_index())\n",
    "print(missing_data(data_2006_2[c]))"
   ]
  },
  {
   "cell_type": "code",
   "execution_count": null,
   "metadata": {
    "collapsed": true
   },
   "outputs": [],
   "source": [
    "c = 'ESTU_CARRDESEADA_NUCLEO'\n",
    "print(data_2006_2[c].value_counts().sort_index().index)\n",
    "print(data_2006_2[c].value_counts().sort_index())\n",
    "print(missing_data(data_2006_2[c]))"
   ]
  },
  {
   "cell_type": "code",
   "execution_count": null,
   "metadata": {
    "collapsed": true
   },
   "outputs": [],
   "source": [
    "c = 'ESTU_IES_COD_DESEADA'\n",
    "print(data_2006_2[c].value_counts().sort_index().index)\n",
    "print(data_2006_2[c].value_counts().sort_index())\n",
    "print(missing_data(data_2006_2[c]))"
   ]
  },
  {
   "cell_type": "code",
   "execution_count": null,
   "metadata": {
    "collapsed": true
   },
   "outputs": [],
   "source": [
    "c = 'ESTU_IES_COD_MPIO_DESEADA'\n",
    "print(data_2006_2[c].value_counts().sort_index().index)\n",
    "print(data_2006_2[c].value_counts().sort_index())\n",
    "print(missing_data(data_2006_2[c]))"
   ]
  },
  {
   "cell_type": "code",
   "execution_count": null,
   "metadata": {
    "collapsed": true
   },
   "outputs": [],
   "source": [
    "c = 'ESTU_IES_DEPT_DESEADA'\n",
    "print(data_2006_2[c].value_counts().sort_index().index)\n",
    "print(data_2006_2[c].value_counts().sort_index())\n",
    "print(missing_data(data_2006_2[c]))"
   ]
  },
  {
   "cell_type": "code",
   "execution_count": null,
   "metadata": {
    "collapsed": true
   },
   "outputs": [],
   "source": [
    "c = 'ESTU_RAZONINSTITUTO'\n",
    "print(data_2006_2[c].value_counts().sort_index().index)\n",
    "print(data_2006_2[c].value_counts().sort_index())\n",
    "print(missing_data(data_2006_2[c]))"
   ]
  },
  {
   "cell_type": "code",
   "execution_count": null,
   "metadata": {
    "collapsed": true
   },
   "outputs": [],
   "source": [
    "c = 'ESTU_CARRDESEADA_COD'\n",
    "print(data_2006_2[c].value_counts().sort_index().index)\n",
    "print(data_2006_2[c].value_counts().sort_index())\n",
    "print(missing_data(data_2006_2[c]))"
   ]
  },
  {
   "cell_type": "code",
   "execution_count": null,
   "metadata": {
    "collapsed": true
   },
   "outputs": [],
   "source": [
    "c = 'ESTU_CARRDESEADA_RAZON'\n",
    "print(data_2006_2[c].value_counts().sort_index().index)\n",
    "print(data_2006_2[c].value_counts().sort_index())\n",
    "print(missing_data(data_2006_2[c]))"
   ]
  },
  {
   "cell_type": "markdown",
   "metadata": {},
   "source": [
    "### TARGETS"
   ]
  },
  {
   "cell_type": "code",
   "execution_count": null,
   "metadata": {
    "collapsed": true
   },
   "outputs": [],
   "source": [
    "c = 'PUNT_LENGUAJE'\n",
    "print(data_2006_2[c].value_counts().sort_index().index)\n",
    "print(data_2006_2[c].value_counts().sort_index())\n",
    "print(missing_data(data_2006_2[c]))"
   ]
  },
  {
   "cell_type": "code",
   "execution_count": null,
   "metadata": {
    "collapsed": true
   },
   "outputs": [],
   "source": [
    "c = 'PUNT_MATEMATICAS'\n",
    "print(data_2006_2[c].value_counts().sort_index().index)\n",
    "print(data_2006_2[c].value_counts().sort_index())\n",
    "print(missing_data(data_2006_2[c]))"
   ]
  },
  {
   "cell_type": "code",
   "execution_count": null,
   "metadata": {
    "collapsed": true
   },
   "outputs": [],
   "source": [
    "c = 'PUNT_C_SOCIALES'\n",
    "print(data_2006_2[c].value_counts().sort_index().index)\n",
    "print(data_2006_2[c].value_counts().sort_index())\n",
    "print(missing_data(data_2006_2[c]))"
   ]
  },
  {
   "cell_type": "code",
   "execution_count": null,
   "metadata": {
    "collapsed": true
   },
   "outputs": [],
   "source": [
    "c = 'PUNT_FILOSOFIA'\n",
    "print(data_2006_2[c].value_counts().sort_index().index)\n",
    "print(data_2006_2[c].value_counts().sort_index())\n",
    "print(missing_data(data_2006_2[c]))"
   ]
  },
  {
   "cell_type": "code",
   "execution_count": null,
   "metadata": {
    "collapsed": true
   },
   "outputs": [],
   "source": [
    "c = 'PUNT_BIOLOGIA'\n",
    "print(data_2006_2[c].value_counts().sort_index().index)\n",
    "print(data_2006_2[c].value_counts().sort_index())\n",
    "print(missing_data(data_2006_2[c]))"
   ]
  },
  {
   "cell_type": "code",
   "execution_count": null,
   "metadata": {
    "collapsed": true
   },
   "outputs": [],
   "source": [
    "c = 'PUNT_QUIMICA'\n",
    "print(data_2006_2[c].value_counts().sort_index().index)\n",
    "print(data_2006_2[c].value_counts().sort_index())\n",
    "print(missing_data(data_2006_2[c]))"
   ]
  },
  {
   "cell_type": "code",
   "execution_count": null,
   "metadata": {
    "collapsed": true
   },
   "outputs": [],
   "source": [
    "c = 'PUNT_FISICA'\n",
    "print(data_2006_2[c].value_counts().sort_index().index)\n",
    "print(data_2006_2[c].value_counts().sort_index())\n",
    "print(missing_data(data_2006_2[c]))"
   ]
  },
  {
   "cell_type": "code",
   "execution_count": null,
   "metadata": {
    "collapsed": true
   },
   "outputs": [],
   "source": [
    "c = 'NOMBRE_IDIOMA'\n",
    "print(data_2006_2[c].value_counts().sort_index().index)\n",
    "print(data_2006_2[c].value_counts().sort_index())\n",
    "print(missing_data(data_2006_2[c]))"
   ]
  },
  {
   "cell_type": "code",
   "execution_count": null,
   "metadata": {
    "collapsed": true
   },
   "outputs": [],
   "source": [
    "c = 'PUNT_IDIOMA'\n",
    "print(data_2006_2[c].value_counts().sort_index().index)\n",
    "print(data_2006_2[c].value_counts().sort_index())\n",
    "print(missing_data(data_2006_2[c]))"
   ]
  },
  {
   "cell_type": "code",
   "execution_count": null,
   "metadata": {
    "collapsed": true
   },
   "outputs": [],
   "source": [
    "c = 'DESEMP_IDIOMA'\n",
    "print(data_2006_2[c].value_counts().sort_index().index)\n",
    "print(data_2006_2[c].value_counts().sort_index())\n",
    "print(missing_data(data_2006_2[c]))"
   ]
  },
  {
   "cell_type": "code",
   "execution_count": null,
   "metadata": {
    "collapsed": true
   },
   "outputs": [],
   "source": [
    "c = 'NOMBRE_PROFUNDIZACION'\n",
    "print(data_2006_2[c].value_counts().sort_index().index)\n",
    "print(data_2006_2[c].value_counts().sort_index())\n",
    "print(missing_data(data_2006_2[c]))"
   ]
  },
  {
   "cell_type": "code",
   "execution_count": null,
   "metadata": {
    "collapsed": true
   },
   "outputs": [],
   "source": [
    "c = 'PUNT_PROFUNDIZACION'\n",
    "print(data_2006_2[c].value_counts().sort_index().index)\n",
    "print(data_2006_2[c].value_counts().sort_index())\n",
    "print(missing_data(data_2006_2[c]))"
   ]
  },
  {
   "cell_type": "code",
   "execution_count": null,
   "metadata": {
    "collapsed": true
   },
   "outputs": [],
   "source": [
    "c = 'DESEMP_PROFUNDIZACION'\n",
    "print(data_2006_2[c].value_counts().sort_index().index)\n",
    "print(data_2006_2[c].value_counts().sort_index())\n",
    "print(missing_data(data_2006_2[c]))"
   ]
  },
  {
   "cell_type": "code",
   "execution_count": null,
   "metadata": {
    "collapsed": true
   },
   "outputs": [],
   "source": [
    "c = 'NOMBRE_INTERDISCIPLINAR'\n",
    "print(data_2006_2[c].value_counts().sort_index().index)\n",
    "print(data_2006_2[c].value_counts().sort_index())\n",
    "print(missing_data(data_2006_2[c]))"
   ]
  },
  {
   "cell_type": "code",
   "execution_count": null,
   "metadata": {
    "collapsed": true
   },
   "outputs": [],
   "source": [
    "c = 'PUNT_INTERDISCIPLINAR'\n",
    "print(data_2006_2[c].value_counts().sort_index().index)\n",
    "print(data_2006_2[c].value_counts().sort_index())\n",
    "print(missing_data(data_2006_2[c]))"
   ]
  },
  {
   "cell_type": "code",
   "execution_count": null,
   "metadata": {
    "collapsed": true
   },
   "outputs": [],
   "source": [
    "c = 'ESTU_PUESTO'\n",
    "print(data_2006_2[c].value_counts().sort_index().index)\n",
    "print(data_2006_2[c].value_counts().sort_index())\n",
    "print(missing_data(data_2006_2[c]))"
   ]
  }
 ],
 "metadata": {
  "kernelspec": {
   "display_name": "Python 3 + Anaconda",
   "language": "python",
   "name": "pyconda3"
  },
  "language_info": {
   "codemirror_mode": {
    "name": "ipython",
    "version": 3
   },
   "file_extension": ".py",
   "mimetype": "text/x-python",
   "name": "python",
   "nbconvert_exporter": "python",
   "pygments_lexer": "ipython3",
   "version": "3.5.1"
  }
 },
 "nbformat": 4,
 "nbformat_minor": 0
}
