{
 "cells": [
  {
   "cell_type": "code",
   "execution_count": 1,
   "metadata": {
    "collapsed": true
   },
   "outputs": [],
   "source": [
    "import pandas as pd\n",
    "import numpy as np\n",
    "%run -i ../tools/functions.py\n",
    "%run -i ../tools/label_encoder.py"
   ]
  },
  {
   "cell_type": "code",
   "execution_count": 2,
   "metadata": {
    "collapsed": true
   },
   "outputs": [],
   "source": [
    "data_2006 = pd.read_csv('../DatosFTPICFES/SABER11/SB11-BASES_DE_DATOS/SB11-20061-RGSTRO-CLFCCN-V1-0.txt', delimiter='|',\n",
    "                       encoding = \"iso-8859-1\")"
   ]
  },
  {
   "cell_type": "code",
   "execution_count": 3,
   "metadata": {
    "collapsed": false
   },
   "outputs": [
    {
     "data": {
      "text/plain": [
       "(61335, 85)"
      ]
     },
     "execution_count": 3,
     "metadata": {},
     "output_type": "execute_result"
    }
   ],
   "source": [
    "data_2006.shape"
   ]
  },
  {
   "cell_type": "code",
   "execution_count": 4,
   "metadata": {
    "collapsed": false,
    "scrolled": true
   },
   "outputs": [
    {
     "data": {
      "text/html": [
       "<div>\n",
       "<table border=\"1\" class=\"dataframe\">\n",
       "  <thead>\n",
       "    <tr style=\"text-align: right;\">\n",
       "      <th></th>\n",
       "      <th>0</th>\n",
       "      <th>1</th>\n",
       "      <th>2</th>\n",
       "    </tr>\n",
       "  </thead>\n",
       "  <tbody>\n",
       "    <tr>\n",
       "      <th>ESTU_CONSECUTIVO</th>\n",
       "      <td>SB1120061000001</td>\n",
       "      <td>SB1120061000002</td>\n",
       "      <td>SB1120061000003</td>\n",
       "    </tr>\n",
       "    <tr>\n",
       "      <th>PERIODO</th>\n",
       "      <td>20061</td>\n",
       "      <td>20061</td>\n",
       "      <td>20061</td>\n",
       "    </tr>\n",
       "    <tr>\n",
       "      <th>ESTU_TIPO_DOCUMENTO</th>\n",
       "      <td>T</td>\n",
       "      <td>R</td>\n",
       "      <td>C</td>\n",
       "    </tr>\n",
       "    <tr>\n",
       "      <th>ESTU_PAIS_RESIDE</th>\n",
       "      <td>CO</td>\n",
       "      <td>CO</td>\n",
       "      <td>CO</td>\n",
       "    </tr>\n",
       "    <tr>\n",
       "      <th>ESTU_GENERO</th>\n",
       "      <td>F</td>\n",
       "      <td>F</td>\n",
       "      <td>F</td>\n",
       "    </tr>\n",
       "    <tr>\n",
       "      <th>ESTU_NACIMIENTO_DIA</th>\n",
       "      <td>24</td>\n",
       "      <td>29</td>\n",
       "      <td>24</td>\n",
       "    </tr>\n",
       "    <tr>\n",
       "      <th>ESTU_NACIMIENTO_MES</th>\n",
       "      <td>4</td>\n",
       "      <td>12</td>\n",
       "      <td>10</td>\n",
       "    </tr>\n",
       "    <tr>\n",
       "      <th>ESTU_NACIMIENTO_ANNO</th>\n",
       "      <td>1989</td>\n",
       "      <td>1988</td>\n",
       "      <td>1987</td>\n",
       "    </tr>\n",
       "    <tr>\n",
       "      <th>ESTU_EDAD</th>\n",
       "      <td>16</td>\n",
       "      <td>17</td>\n",
       "      <td>18</td>\n",
       "    </tr>\n",
       "    <tr>\n",
       "      <th>ESTU_LIMITA_BAJAVISION</th>\n",
       "      <td>NaN</td>\n",
       "      <td>NaN</td>\n",
       "      <td>NaN</td>\n",
       "    </tr>\n",
       "    <tr>\n",
       "      <th>ESTU_LIMITA_SORDOCEGUERA</th>\n",
       "      <td>NaN</td>\n",
       "      <td>NaN</td>\n",
       "      <td>NaN</td>\n",
       "    </tr>\n",
       "    <tr>\n",
       "      <th>ESTU_LIMITA_COGNITIVA</th>\n",
       "      <td>NaN</td>\n",
       "      <td>NaN</td>\n",
       "      <td>NaN</td>\n",
       "    </tr>\n",
       "    <tr>\n",
       "      <th>ESTU_LIMITA_INVIDENTE</th>\n",
       "      <td>NaN</td>\n",
       "      <td>NaN</td>\n",
       "      <td>NaN</td>\n",
       "    </tr>\n",
       "    <tr>\n",
       "      <th>ESTU_LIMITA_MOTRIZ</th>\n",
       "      <td>NaN</td>\n",
       "      <td>NaN</td>\n",
       "      <td>NaN</td>\n",
       "    </tr>\n",
       "    <tr>\n",
       "      <th>ESTU_LIMITA_SORDOINTERPRETE</th>\n",
       "      <td>NaN</td>\n",
       "      <td>NaN</td>\n",
       "      <td>NaN</td>\n",
       "    </tr>\n",
       "    <tr>\n",
       "      <th>ESTU_LIMITA_SORDONOINTERPRETE</th>\n",
       "      <td>NaN</td>\n",
       "      <td>NaN</td>\n",
       "      <td>NaN</td>\n",
       "    </tr>\n",
       "    <tr>\n",
       "      <th>ESTU_COD_RESIDE_MCPIO</th>\n",
       "      <td>76823</td>\n",
       "      <td>76823</td>\n",
       "      <td>11001</td>\n",
       "    </tr>\n",
       "    <tr>\n",
       "      <th>ESTU_RESIDE_MCPIO</th>\n",
       "      <td>TORO</td>\n",
       "      <td>TORO</td>\n",
       "      <td>BOGOTÃ D.C.</td>\n",
       "    </tr>\n",
       "    <tr>\n",
       "      <th>ESTU_RESIDE_DEPTO</th>\n",
       "      <td>VALLE</td>\n",
       "      <td>VALLE</td>\n",
       "      <td>BOGOTÃ</td>\n",
       "    </tr>\n",
       "    <tr>\n",
       "      <th>ESTU_ZONA_RESIDE</th>\n",
       "      <td>10</td>\n",
       "      <td>10</td>\n",
       "      <td>1</td>\n",
       "    </tr>\n",
       "    <tr>\n",
       "      <th>ESTU_AREA_RESIDE</th>\n",
       "      <td>NaN</td>\n",
       "      <td>NaN</td>\n",
       "      <td>NaN</td>\n",
       "    </tr>\n",
       "    <tr>\n",
       "      <th>ESTU_COD_MCPIO_PRESENTACION</th>\n",
       "      <td>76823</td>\n",
       "      <td>76823</td>\n",
       "      <td>44035</td>\n",
       "    </tr>\n",
       "    <tr>\n",
       "      <th>ESTU_MCPIO_PRESENTACION</th>\n",
       "      <td>TORO</td>\n",
       "      <td>TORO</td>\n",
       "      <td>ALBANIA</td>\n",
       "    </tr>\n",
       "    <tr>\n",
       "      <th>ESTU_DEPTO_PRESENTACION</th>\n",
       "      <td>VALLE</td>\n",
       "      <td>VALLE</td>\n",
       "      <td>LA GUAJIRA</td>\n",
       "    </tr>\n",
       "    <tr>\n",
       "      <th>ESTU_EXAM_NOMBREEXAMEN</th>\n",
       "      <td>EXAMEN DE ESTADO  (2006)</td>\n",
       "      <td>EXAMEN DE ESTADO  (2006)</td>\n",
       "      <td>EXAMEN DE ESTADO  (2006)</td>\n",
       "    </tr>\n",
       "    <tr>\n",
       "      <th>IND_ESTUDIO_BACHILLERATO</th>\n",
       "      <td>1</td>\n",
       "      <td>1</td>\n",
       "      <td>1</td>\n",
       "    </tr>\n",
       "    <tr>\n",
       "      <th>IND_ANNO_TERMINO_BACHILLERATO</th>\n",
       "      <td>2005</td>\n",
       "      <td>2005</td>\n",
       "      <td>2005</td>\n",
       "    </tr>\n",
       "    <tr>\n",
       "      <th>IND_TERMINO_BACHILLERATO</th>\n",
       "      <td>NaN</td>\n",
       "      <td>NaN</td>\n",
       "      <td>NaN</td>\n",
       "    </tr>\n",
       "    <tr>\n",
       "      <th>IND_COD_ICFES_TERMINO</th>\n",
       "      <td>18861</td>\n",
       "      <td>18861</td>\n",
       "      <td>50724</td>\n",
       "    </tr>\n",
       "    <tr>\n",
       "      <th>COLE_COD_ICFES</th>\n",
       "      <td>18861</td>\n",
       "      <td>18861</td>\n",
       "      <td>50724</td>\n",
       "    </tr>\n",
       "    <tr>\n",
       "      <th>...</th>\n",
       "      <td>...</td>\n",
       "      <td>...</td>\n",
       "      <td>...</td>\n",
       "    </tr>\n",
       "    <tr>\n",
       "      <th>FAMI_INGRESO_FMILIAR_MENSUAL</th>\n",
       "      <td>NaN</td>\n",
       "      <td>NaN</td>\n",
       "      <td>6</td>\n",
       "    </tr>\n",
       "    <tr>\n",
       "      <th>ESTU_TRABAJA</th>\n",
       "      <td>NaN</td>\n",
       "      <td>NaN</td>\n",
       "      <td>0</td>\n",
       "    </tr>\n",
       "    <tr>\n",
       "      <th>ESTU_HORAS_TRABAJA</th>\n",
       "      <td>NaN</td>\n",
       "      <td>NaN</td>\n",
       "      <td>NaN</td>\n",
       "    </tr>\n",
       "    <tr>\n",
       "      <th>COLE_VALOR_PENSION</th>\n",
       "      <td>0</td>\n",
       "      <td>0</td>\n",
       "      <td>7</td>\n",
       "    </tr>\n",
       "    <tr>\n",
       "      <th>ESTU_CARRDESEADA_TIPO</th>\n",
       "      <td>NaN</td>\n",
       "      <td>NaN</td>\n",
       "      <td>NaN</td>\n",
       "    </tr>\n",
       "    <tr>\n",
       "      <th>ESTU_CARRDESEADA_NUCLEO</th>\n",
       "      <td>NaN</td>\n",
       "      <td>NaN</td>\n",
       "      <td>NaN</td>\n",
       "    </tr>\n",
       "    <tr>\n",
       "      <th>ESTU_IES_COD_DESEADA</th>\n",
       "      <td>NaN</td>\n",
       "      <td>NaN</td>\n",
       "      <td>NaN</td>\n",
       "    </tr>\n",
       "    <tr>\n",
       "      <th>ESTU_IES_DESEADA_NOMBRE</th>\n",
       "      <td>NaN</td>\n",
       "      <td>NaN</td>\n",
       "      <td>NaN</td>\n",
       "    </tr>\n",
       "    <tr>\n",
       "      <th>ESTU_IES_COD_MPIO_DESEADA</th>\n",
       "      <td>NaN</td>\n",
       "      <td>NaN</td>\n",
       "      <td>NaN</td>\n",
       "    </tr>\n",
       "    <tr>\n",
       "      <th>ESTU_IES_MPIO_DESEADA</th>\n",
       "      <td>NaN</td>\n",
       "      <td>NaN</td>\n",
       "      <td>NaN</td>\n",
       "    </tr>\n",
       "    <tr>\n",
       "      <th>ESTU_IES_DEPT_DESEADA</th>\n",
       "      <td>NaN</td>\n",
       "      <td>NaN</td>\n",
       "      <td>NaN</td>\n",
       "    </tr>\n",
       "    <tr>\n",
       "      <th>ESTU_RAZONINSTITUTO</th>\n",
       "      <td>NaN</td>\n",
       "      <td>NaN</td>\n",
       "      <td>6</td>\n",
       "    </tr>\n",
       "    <tr>\n",
       "      <th>ESTU_CARRDESEADA_COD</th>\n",
       "      <td>NaN</td>\n",
       "      <td>NaN</td>\n",
       "      <td>NaN</td>\n",
       "    </tr>\n",
       "    <tr>\n",
       "      <th>ESTU_CARRDESEADA_RAZON</th>\n",
       "      <td>NaN</td>\n",
       "      <td>NaN</td>\n",
       "      <td>2</td>\n",
       "    </tr>\n",
       "    <tr>\n",
       "      <th>PUNT_LENGUAJE</th>\n",
       "      <td>45,57</td>\n",
       "      <td>40,49</td>\n",
       "      <td>59,31</td>\n",
       "    </tr>\n",
       "    <tr>\n",
       "      <th>PUNT_MATEMATICAS</th>\n",
       "      <td>45,81</td>\n",
       "      <td>56,19</td>\n",
       "      <td>58,51</td>\n",
       "    </tr>\n",
       "    <tr>\n",
       "      <th>PUNT_C_SOCIALES</th>\n",
       "      <td>44,41</td>\n",
       "      <td>46,91</td>\n",
       "      <td>51,89</td>\n",
       "    </tr>\n",
       "    <tr>\n",
       "      <th>PUNT_FILOSOFIA</th>\n",
       "      <td>23,47</td>\n",
       "      <td>37,78</td>\n",
       "      <td>49,86</td>\n",
       "    </tr>\n",
       "    <tr>\n",
       "      <th>PUNT_BIOLOGIA</th>\n",
       "      <td>44,66</td>\n",
       "      <td>46,76</td>\n",
       "      <td>62,6</td>\n",
       "    </tr>\n",
       "    <tr>\n",
       "      <th>PUNT_QUIMICA</th>\n",
       "      <td>43,19</td>\n",
       "      <td>48,75</td>\n",
       "      <td>52,25</td>\n",
       "    </tr>\n",
       "    <tr>\n",
       "      <th>PUNT_FISICA</th>\n",
       "      <td>40,38</td>\n",
       "      <td>49,27</td>\n",
       "      <td>51,81</td>\n",
       "    </tr>\n",
       "    <tr>\n",
       "      <th>NOMBRE_IDIOMA</th>\n",
       "      <td>INGLÃS</td>\n",
       "      <td>INGLÃS</td>\n",
       "      <td>INGLÃS</td>\n",
       "    </tr>\n",
       "    <tr>\n",
       "      <th>PUNT_IDIOMA</th>\n",
       "      <td>41,03</td>\n",
       "      <td>34,2</td>\n",
       "      <td>85,62</td>\n",
       "    </tr>\n",
       "    <tr>\n",
       "      <th>DESEMP_IDIOMA</th>\n",
       "      <td>NaN</td>\n",
       "      <td>NaN</td>\n",
       "      <td>NaN</td>\n",
       "    </tr>\n",
       "    <tr>\n",
       "      <th>NOMBRE_PROFUNDIZACION</th>\n",
       "      <td>PROFUNDIZACIÃN EN BIOLOGÃA</td>\n",
       "      <td>PROFUNDIZACIÃN EN BIOLOGÃA</td>\n",
       "      <td>PROFUNDIZACIÃN EN LENGUAJE</td>\n",
       "    </tr>\n",
       "    <tr>\n",
       "      <th>PUNT_PROFUNDIZACION</th>\n",
       "      <td>5,33</td>\n",
       "      <td>5,69</td>\n",
       "      <td>7,33</td>\n",
       "    </tr>\n",
       "    <tr>\n",
       "      <th>DESEMP_PROFUNDIZACION</th>\n",
       "      <td>II</td>\n",
       "      <td>II</td>\n",
       "      <td>III</td>\n",
       "    </tr>\n",
       "    <tr>\n",
       "      <th>NOMBRE_INTERDISCIPLINAR</th>\n",
       "      <td>MEDIO AMBIENTE</td>\n",
       "      <td>MEDIO AMBIENTE</td>\n",
       "      <td>VIOLENCIA Y SOCIEDAD</td>\n",
       "    </tr>\n",
       "    <tr>\n",
       "      <th>PUNT_INTERDISCIPLINAR</th>\n",
       "      <td>53,91</td>\n",
       "      <td>54,79</td>\n",
       "      <td>62,84</td>\n",
       "    </tr>\n",
       "    <tr>\n",
       "      <th>ESTU_PUESTO</th>\n",
       "      <td>831</td>\n",
       "      <td>547</td>\n",
       "      <td>30</td>\n",
       "    </tr>\n",
       "  </tbody>\n",
       "</table>\n",
       "<p>85 rows × 3 columns</p>\n",
       "</div>"
      ],
      "text/plain": [
       "                                                          0  \\\n",
       "ESTU_CONSECUTIVO                            SB1120061000001   \n",
       "PERIODO                                               20061   \n",
       "ESTU_TIPO_DOCUMENTO                                       T   \n",
       "ESTU_PAIS_RESIDE                                         CO   \n",
       "ESTU_GENERO                                               F   \n",
       "ESTU_NACIMIENTO_DIA                                      24   \n",
       "ESTU_NACIMIENTO_MES                                       4   \n",
       "ESTU_NACIMIENTO_ANNO                                   1989   \n",
       "ESTU_EDAD                                                16   \n",
       "ESTU_LIMITA_BAJAVISION                                  NaN   \n",
       "ESTU_LIMITA_SORDOCEGUERA                                NaN   \n",
       "ESTU_LIMITA_COGNITIVA                                   NaN   \n",
       "ESTU_LIMITA_INVIDENTE                                   NaN   \n",
       "ESTU_LIMITA_MOTRIZ                                      NaN   \n",
       "ESTU_LIMITA_SORDOINTERPRETE                             NaN   \n",
       "ESTU_LIMITA_SORDONOINTERPRETE                           NaN   \n",
       "ESTU_COD_RESIDE_MCPIO                                 76823   \n",
       "ESTU_RESIDE_MCPIO                                      TORO   \n",
       "ESTU_RESIDE_DEPTO                                     VALLE   \n",
       "ESTU_ZONA_RESIDE                                         10   \n",
       "ESTU_AREA_RESIDE                                        NaN   \n",
       "ESTU_COD_MCPIO_PRESENTACION                           76823   \n",
       "ESTU_MCPIO_PRESENTACION                                TORO   \n",
       "ESTU_DEPTO_PRESENTACION                               VALLE   \n",
       "ESTU_EXAM_NOMBREEXAMEN             EXAMEN DE ESTADO  (2006)   \n",
       "IND_ESTUDIO_BACHILLERATO                                  1   \n",
       "IND_ANNO_TERMINO_BACHILLERATO                          2005   \n",
       "IND_TERMINO_BACHILLERATO                                NaN   \n",
       "IND_COD_ICFES_TERMINO                                 18861   \n",
       "COLE_COD_ICFES                                        18861   \n",
       "...                                                     ...   \n",
       "FAMI_INGRESO_FMILIAR_MENSUAL                            NaN   \n",
       "ESTU_TRABAJA                                            NaN   \n",
       "ESTU_HORAS_TRABAJA                                      NaN   \n",
       "COLE_VALOR_PENSION                                        0   \n",
       "ESTU_CARRDESEADA_TIPO                                   NaN   \n",
       "ESTU_CARRDESEADA_NUCLEO                                 NaN   \n",
       "ESTU_IES_COD_DESEADA                                    NaN   \n",
       "ESTU_IES_DESEADA_NOMBRE                                 NaN   \n",
       "ESTU_IES_COD_MPIO_DESEADA                               NaN   \n",
       "ESTU_IES_MPIO_DESEADA                                   NaN   \n",
       "ESTU_IES_DEPT_DESEADA                                   NaN   \n",
       "ESTU_RAZONINSTITUTO                                     NaN   \n",
       "ESTU_CARRDESEADA_COD                                    NaN   \n",
       "ESTU_CARRDESEADA_RAZON                                  NaN   \n",
       "PUNT_LENGUAJE                                         45,57   \n",
       "PUNT_MATEMATICAS                                      45,81   \n",
       "PUNT_C_SOCIALES                                       44,41   \n",
       "PUNT_FILOSOFIA                                        23,47   \n",
       "PUNT_BIOLOGIA                                         44,66   \n",
       "PUNT_QUIMICA                                          43,19   \n",
       "PUNT_FISICA                                           40,38   \n",
       "NOMBRE_IDIOMA                                       INGLÃS   \n",
       "PUNT_IDIOMA                                           41,03   \n",
       "DESEMP_IDIOMA                                           NaN   \n",
       "NOMBRE_PROFUNDIZACION          PROFUNDIZACIÃN EN BIOLOGÃA   \n",
       "PUNT_PROFUNDIZACION                                    5,33   \n",
       "DESEMP_PROFUNDIZACION                                    II   \n",
       "NOMBRE_INTERDISCIPLINAR                      MEDIO AMBIENTE   \n",
       "PUNT_INTERDISCIPLINAR                                 53,91   \n",
       "ESTU_PUESTO                                             831   \n",
       "\n",
       "                                                          1  \\\n",
       "ESTU_CONSECUTIVO                            SB1120061000002   \n",
       "PERIODO                                               20061   \n",
       "ESTU_TIPO_DOCUMENTO                                       R   \n",
       "ESTU_PAIS_RESIDE                                         CO   \n",
       "ESTU_GENERO                                               F   \n",
       "ESTU_NACIMIENTO_DIA                                      29   \n",
       "ESTU_NACIMIENTO_MES                                      12   \n",
       "ESTU_NACIMIENTO_ANNO                                   1988   \n",
       "ESTU_EDAD                                                17   \n",
       "ESTU_LIMITA_BAJAVISION                                  NaN   \n",
       "ESTU_LIMITA_SORDOCEGUERA                                NaN   \n",
       "ESTU_LIMITA_COGNITIVA                                   NaN   \n",
       "ESTU_LIMITA_INVIDENTE                                   NaN   \n",
       "ESTU_LIMITA_MOTRIZ                                      NaN   \n",
       "ESTU_LIMITA_SORDOINTERPRETE                             NaN   \n",
       "ESTU_LIMITA_SORDONOINTERPRETE                           NaN   \n",
       "ESTU_COD_RESIDE_MCPIO                                 76823   \n",
       "ESTU_RESIDE_MCPIO                                      TORO   \n",
       "ESTU_RESIDE_DEPTO                                     VALLE   \n",
       "ESTU_ZONA_RESIDE                                         10   \n",
       "ESTU_AREA_RESIDE                                        NaN   \n",
       "ESTU_COD_MCPIO_PRESENTACION                           76823   \n",
       "ESTU_MCPIO_PRESENTACION                                TORO   \n",
       "ESTU_DEPTO_PRESENTACION                               VALLE   \n",
       "ESTU_EXAM_NOMBREEXAMEN             EXAMEN DE ESTADO  (2006)   \n",
       "IND_ESTUDIO_BACHILLERATO                                  1   \n",
       "IND_ANNO_TERMINO_BACHILLERATO                          2005   \n",
       "IND_TERMINO_BACHILLERATO                                NaN   \n",
       "IND_COD_ICFES_TERMINO                                 18861   \n",
       "COLE_COD_ICFES                                        18861   \n",
       "...                                                     ...   \n",
       "FAMI_INGRESO_FMILIAR_MENSUAL                            NaN   \n",
       "ESTU_TRABAJA                                            NaN   \n",
       "ESTU_HORAS_TRABAJA                                      NaN   \n",
       "COLE_VALOR_PENSION                                        0   \n",
       "ESTU_CARRDESEADA_TIPO                                   NaN   \n",
       "ESTU_CARRDESEADA_NUCLEO                                 NaN   \n",
       "ESTU_IES_COD_DESEADA                                    NaN   \n",
       "ESTU_IES_DESEADA_NOMBRE                                 NaN   \n",
       "ESTU_IES_COD_MPIO_DESEADA                               NaN   \n",
       "ESTU_IES_MPIO_DESEADA                                   NaN   \n",
       "ESTU_IES_DEPT_DESEADA                                   NaN   \n",
       "ESTU_RAZONINSTITUTO                                     NaN   \n",
       "ESTU_CARRDESEADA_COD                                    NaN   \n",
       "ESTU_CARRDESEADA_RAZON                                  NaN   \n",
       "PUNT_LENGUAJE                                         40,49   \n",
       "PUNT_MATEMATICAS                                      56,19   \n",
       "PUNT_C_SOCIALES                                       46,91   \n",
       "PUNT_FILOSOFIA                                        37,78   \n",
       "PUNT_BIOLOGIA                                         46,76   \n",
       "PUNT_QUIMICA                                          48,75   \n",
       "PUNT_FISICA                                           49,27   \n",
       "NOMBRE_IDIOMA                                       INGLÃS   \n",
       "PUNT_IDIOMA                                            34,2   \n",
       "DESEMP_IDIOMA                                           NaN   \n",
       "NOMBRE_PROFUNDIZACION          PROFUNDIZACIÃN EN BIOLOGÃA   \n",
       "PUNT_PROFUNDIZACION                                    5,69   \n",
       "DESEMP_PROFUNDIZACION                                    II   \n",
       "NOMBRE_INTERDISCIPLINAR                      MEDIO AMBIENTE   \n",
       "PUNT_INTERDISCIPLINAR                                 54,79   \n",
       "ESTU_PUESTO                                             547   \n",
       "\n",
       "                                                         2  \n",
       "ESTU_CONSECUTIVO                           SB1120061000003  \n",
       "PERIODO                                              20061  \n",
       "ESTU_TIPO_DOCUMENTO                                      C  \n",
       "ESTU_PAIS_RESIDE                                        CO  \n",
       "ESTU_GENERO                                              F  \n",
       "ESTU_NACIMIENTO_DIA                                     24  \n",
       "ESTU_NACIMIENTO_MES                                     10  \n",
       "ESTU_NACIMIENTO_ANNO                                  1987  \n",
       "ESTU_EDAD                                               18  \n",
       "ESTU_LIMITA_BAJAVISION                                 NaN  \n",
       "ESTU_LIMITA_SORDOCEGUERA                               NaN  \n",
       "ESTU_LIMITA_COGNITIVA                                  NaN  \n",
       "ESTU_LIMITA_INVIDENTE                                  NaN  \n",
       "ESTU_LIMITA_MOTRIZ                                     NaN  \n",
       "ESTU_LIMITA_SORDOINTERPRETE                            NaN  \n",
       "ESTU_LIMITA_SORDONOINTERPRETE                          NaN  \n",
       "ESTU_COD_RESIDE_MCPIO                                11001  \n",
       "ESTU_RESIDE_MCPIO                             BOGOTÃ D.C.  \n",
       "ESTU_RESIDE_DEPTO                                  BOGOTÃ  \n",
       "ESTU_ZONA_RESIDE                                         1  \n",
       "ESTU_AREA_RESIDE                                       NaN  \n",
       "ESTU_COD_MCPIO_PRESENTACION                          44035  \n",
       "ESTU_MCPIO_PRESENTACION                            ALBANIA  \n",
       "ESTU_DEPTO_PRESENTACION                         LA GUAJIRA  \n",
       "ESTU_EXAM_NOMBREEXAMEN            EXAMEN DE ESTADO  (2006)  \n",
       "IND_ESTUDIO_BACHILLERATO                                 1  \n",
       "IND_ANNO_TERMINO_BACHILLERATO                         2005  \n",
       "IND_TERMINO_BACHILLERATO                               NaN  \n",
       "IND_COD_ICFES_TERMINO                                50724  \n",
       "COLE_COD_ICFES                                       50724  \n",
       "...                                                    ...  \n",
       "FAMI_INGRESO_FMILIAR_MENSUAL                             6  \n",
       "ESTU_TRABAJA                                             0  \n",
       "ESTU_HORAS_TRABAJA                                     NaN  \n",
       "COLE_VALOR_PENSION                                       7  \n",
       "ESTU_CARRDESEADA_TIPO                                  NaN  \n",
       "ESTU_CARRDESEADA_NUCLEO                                NaN  \n",
       "ESTU_IES_COD_DESEADA                                   NaN  \n",
       "ESTU_IES_DESEADA_NOMBRE                                NaN  \n",
       "ESTU_IES_COD_MPIO_DESEADA                              NaN  \n",
       "ESTU_IES_MPIO_DESEADA                                  NaN  \n",
       "ESTU_IES_DEPT_DESEADA                                  NaN  \n",
       "ESTU_RAZONINSTITUTO                                      6  \n",
       "ESTU_CARRDESEADA_COD                                   NaN  \n",
       "ESTU_CARRDESEADA_RAZON                                   2  \n",
       "PUNT_LENGUAJE                                        59,31  \n",
       "PUNT_MATEMATICAS                                     58,51  \n",
       "PUNT_C_SOCIALES                                      51,89  \n",
       "PUNT_FILOSOFIA                                       49,86  \n",
       "PUNT_BIOLOGIA                                         62,6  \n",
       "PUNT_QUIMICA                                         52,25  \n",
       "PUNT_FISICA                                          51,81  \n",
       "NOMBRE_IDIOMA                                      INGLÃS  \n",
       "PUNT_IDIOMA                                          85,62  \n",
       "DESEMP_IDIOMA                                          NaN  \n",
       "NOMBRE_PROFUNDIZACION          PROFUNDIZACIÃN EN LENGUAJE  \n",
       "PUNT_PROFUNDIZACION                                   7,33  \n",
       "DESEMP_PROFUNDIZACION                                  III  \n",
       "NOMBRE_INTERDISCIPLINAR               VIOLENCIA Y SOCIEDAD  \n",
       "PUNT_INTERDISCIPLINAR                                62,84  \n",
       "ESTU_PUESTO                                             30  \n",
       "\n",
       "[85 rows x 3 columns]"
      ]
     },
     "execution_count": 4,
     "metadata": {},
     "output_type": "execute_result"
    }
   ],
   "source": [
    "data_2006.head(3).T"
   ]
  },
  {
   "cell_type": "markdown",
   "metadata": {},
   "source": [
    "Deleting the columns that won't contribute to the work"
   ]
  },
  {
   "cell_type": "code",
   "execution_count": 5,
   "metadata": {
    "collapsed": true
   },
   "outputs": [],
   "source": [
    "data_2006 = data_2006.drop(['ESTU_CONSECUTIVO', 'ESTU_TIPO_DOCUMENTO', 'ESTU_COD_RESIDE_MCPIO', 'ESTU_COD_MCPIO_PRESENTACION',\n",
    "                            'ESTU_IES_DESEADA_NOMBRE', 'ESTU_IES_COD_MPIO_DESEADA', 'PERIODO'], axis=1)"
   ]
  },
  {
   "cell_type": "code",
   "execution_count": 6,
   "metadata": {
    "collapsed": false,
    "scrolled": true
   },
   "outputs": [
    {
     "name": "stdout",
     "output_type": "stream",
     "text": [
      "Index(['AR', 'AT', 'BO', 'CA', 'CL', 'CN', 'CO', 'CU', 'DE', 'EC', 'ES', 'GT',\n",
      "       'IR', 'JM', 'KP', 'PA', 'PE', 'RU', 'SA', 'US', 'VE'],\n",
      "      dtype='object')\n",
      "AR        3\n",
      "AT        1\n",
      "BO        1\n",
      "CA        1\n",
      "CL        1\n",
      "CN        1\n",
      "CO    61239\n",
      "CU        1\n",
      "DE        1\n",
      "EC        5\n",
      "ES        2\n",
      "GT        2\n",
      "IR        1\n",
      "JM        1\n",
      "KP        1\n",
      "PA        1\n",
      "PE        3\n",
      "RU        1\n",
      "SA        1\n",
      "US       16\n",
      "VE        1\n",
      "Name: ESTU_PAIS_RESIDE, dtype: int64\n",
      "Elementos null/NaN 51\n",
      "__________________\n",
      "Elementos diferentes de null/NaN: 61284\n",
      "__________________\n",
      "(61284,)\n",
      "None\n"
     ]
    }
   ],
   "source": [
    "c = 'ESTU_PAIS_RESIDE'\n",
    "print(data_2006[c].value_counts().sort_index().index)\n",
    "print(data_2006[c].value_counts().sort_index())\n",
    "print(missing_data(data_2006[c]))"
   ]
  },
  {
   "cell_type": "code",
   "execution_count": 7,
   "metadata": {
    "collapsed": false
   },
   "outputs": [
    {
     "name": "stdout",
     "output_type": "stream",
     "text": [
      "Index(['F', 'M'], dtype='object')\n",
      "F    33064\n",
      "M    28248\n",
      "Name: ESTU_GENERO, dtype: int64\n",
      "Elementos null/NaN 23\n",
      "__________________\n",
      "Elementos diferentes de null/NaN: 61312\n",
      "__________________\n",
      "(61312,)\n",
      "None\n"
     ]
    }
   ],
   "source": [
    "c = 'ESTU_GENERO'\n",
    "print(data_2006[c].value_counts().sort_index().index)\n",
    "print(data_2006[c].value_counts().sort_index())\n",
    "print(missing_data(data_2006[c]))"
   ]
  },
  {
   "cell_type": "code",
   "execution_count": 8,
   "metadata": {
    "collapsed": false,
    "scrolled": true
   },
   "outputs": [
    {
     "name": "stdout",
     "output_type": "stream",
     "text": [
      "Float64Index([ 1.0,  2.0,  3.0,  4.0,  5.0,  6.0,  7.0,  8.0,  9.0, 10.0, 11.0,\n",
      "              12.0, 13.0, 14.0, 15.0, 16.0, 17.0, 18.0, 19.0, 20.0, 21.0, 22.0,\n",
      "              23.0, 24.0, 25.0, 26.0, 27.0, 28.0, 29.0, 30.0, 31.0],\n",
      "             dtype='float64')\n",
      "1.0     2160\n",
      "2.0     1967\n",
      "3.0     1935\n",
      "4.0     2040\n",
      "5.0     2108\n",
      "6.0     2030\n",
      "7.0     1914\n",
      "8.0     2019\n",
      "9.0     2038\n",
      "10.0    2225\n",
      "11.0    1969\n",
      "12.0    2041\n",
      "13.0    1999\n",
      "14.0    1908\n",
      "15.0    2073\n",
      "16.0    2035\n",
      "17.0    2080\n",
      "18.0    1931\n",
      "19.0    1987\n",
      "20.0    2155\n",
      "21.0    1897\n",
      "22.0    2012\n",
      "23.0    1988\n",
      "24.0    1997\n",
      "25.0    2058\n",
      "26.0    1988\n",
      "27.0    2035\n",
      "28.0    2087\n",
      "29.0    1789\n",
      "30.0    1719\n",
      "31.0    1115\n",
      "Name: ESTU_NACIMIENTO_DIA, dtype: int64\n",
      "Elementos null/NaN 36\n",
      "__________________\n",
      "Elementos diferentes de null/NaN: 61299\n",
      "__________________\n",
      "(61299,)\n",
      "None\n"
     ]
    }
   ],
   "source": [
    "c = 'ESTU_NACIMIENTO_DIA'\n",
    "print(data_2006[c].value_counts().sort_index().index)\n",
    "print(data_2006[c].value_counts().sort_index())\n",
    "print(missing_data(data_2006[c]))"
   ]
  },
  {
   "cell_type": "code",
   "execution_count": 9,
   "metadata": {
    "collapsed": false
   },
   "outputs": [
    {
     "name": "stdout",
     "output_type": "stream",
     "text": [
      "Float64Index([1.0, 2.0, 3.0, 4.0, 5.0, 6.0, 7.0, 8.0, 9.0, 10.0, 11.0, 12.0], dtype='float64')\n",
      "1.0     5115\n",
      "2.0     4734\n",
      "3.0     5237\n",
      "4.0     5051\n",
      "5.0     5072\n",
      "6.0     4991\n",
      "7.0     5073\n",
      "8.0     5245\n",
      "9.0     5345\n",
      "10.0    5316\n",
      "11.0    5010\n",
      "12.0    5110\n",
      "Name: ESTU_NACIMIENTO_MES, dtype: int64\n",
      "Elementos null/NaN 36\n",
      "__________________\n",
      "Elementos diferentes de null/NaN: 61299\n",
      "__________________\n",
      "(61299,)\n",
      "None\n"
     ]
    }
   ],
   "source": [
    "c = 'ESTU_NACIMIENTO_MES'\n",
    "print(data_2006[c].value_counts().sort_index().index)\n",
    "print(data_2006[c].value_counts().sort_index())\n",
    "print(missing_data(data_2006[c]))"
   ]
  },
  {
   "cell_type": "code",
   "execution_count": 10,
   "metadata": {
    "collapsed": false,
    "scrolled": true
   },
   "outputs": [
    {
     "name": "stdout",
     "output_type": "stream",
     "text": [
      "Float64Index([1930.0, 1933.0, 1934.0, 1935.0, 1936.0, 1938.0, 1940.0, 1941.0,\n",
      "              1942.0, 1944.0, 1946.0, 1947.0, 1948.0, 1949.0, 1950.0, 1951.0,\n",
      "              1952.0, 1953.0, 1954.0, 1955.0, 1956.0, 1957.0, 1958.0, 1959.0,\n",
      "              1960.0, 1961.0, 1962.0, 1963.0, 1964.0, 1965.0, 1966.0, 1967.0,\n",
      "              1968.0, 1969.0, 1970.0, 1971.0, 1972.0, 1973.0, 1974.0, 1975.0,\n",
      "              1976.0, 1977.0, 1978.0, 1979.0, 1980.0, 1981.0, 1982.0, 1983.0,\n",
      "              1984.0, 1985.0, 1986.0, 1987.0, 1988.0, 1989.0, 1990.0, 1991.0,\n",
      "              1992.0, 1993.0, 1994.0, 1995.0, 1997.0, 1998.0, 2000.0, 2001.0,\n",
      "              2002.0, 2084.0, 2088.0, 2089.0],\n",
      "             dtype='float64')\n",
      "1930.0        2\n",
      "1933.0        1\n",
      "1934.0        3\n",
      "1935.0        2\n",
      "1936.0        1\n",
      "1938.0        1\n",
      "1940.0        2\n",
      "1941.0        2\n",
      "1942.0        1\n",
      "1944.0        1\n",
      "1946.0        1\n",
      "1947.0        1\n",
      "1948.0        1\n",
      "1949.0        6\n",
      "1950.0        2\n",
      "1951.0        1\n",
      "1952.0       10\n",
      "1953.0        8\n",
      "1954.0       12\n",
      "1955.0       10\n",
      "1956.0       11\n",
      "1957.0       23\n",
      "1958.0       16\n",
      "1959.0       24\n",
      "1960.0       26\n",
      "1961.0       39\n",
      "1962.0       33\n",
      "1963.0       42\n",
      "1964.0       33\n",
      "1965.0       48\n",
      "          ...  \n",
      "1974.0      103\n",
      "1975.0      125\n",
      "1976.0      143\n",
      "1977.0      172\n",
      "1978.0      163\n",
      "1979.0      209\n",
      "1980.0      245\n",
      "1981.0      284\n",
      "1982.0      359\n",
      "1983.0      436\n",
      "1984.0      667\n",
      "1985.0     1195\n",
      "1986.0     2885\n",
      "1987.0     7112\n",
      "1988.0    14525\n",
      "1989.0    22950\n",
      "1990.0     6850\n",
      "1991.0      688\n",
      "1992.0      299\n",
      "1993.0      199\n",
      "1994.0      571\n",
      "1995.0        1\n",
      "1997.0        2\n",
      "1998.0        1\n",
      "2000.0        8\n",
      "2001.0        3\n",
      "2002.0        3\n",
      "2084.0        1\n",
      "2088.0        1\n",
      "2089.0        2\n",
      "Name: ESTU_NACIMIENTO_ANNO, dtype: int64\n",
      "Elementos null/NaN 36\n",
      "__________________\n",
      "Elementos diferentes de null/NaN: 61299\n",
      "__________________\n",
      "(61299,)\n",
      "None\n"
     ]
    }
   ],
   "source": [
    "c = 'ESTU_NACIMIENTO_ANNO'\n",
    "print(data_2006[c].value_counts().sort_index().index)\n",
    "print(data_2006[c].value_counts().sort_index())\n",
    "print(missing_data(data_2006[c]))"
   ]
  },
  {
   "cell_type": "code",
   "execution_count": 13,
   "metadata": {
    "collapsed": true
   },
   "outputs": [],
   "source": [
    "for i in data_2006['ESTU_NACIMIENTO_ANNO'].value_counts().sort_index().index:\n",
    "    if i > 1996:\n",
    "        data_2006['ESTU_NACIMIENTO_ANNO'] = data_2006['ESTU_NACIMIENTO_ANNO'].replace(i, np.nan)"
   ]
  },
  {
   "cell_type": "code",
   "execution_count": 12,
   "metadata": {
    "collapsed": false,
    "scrolled": true
   },
   "outputs": [
    {
     "name": "stdout",
     "output_type": "stream",
     "text": [
      "Int64Index([11, 12, 13, 14, 15, 16, 17, 18, 19, 20, 21, 22, 23, 24, 25, 26, 27,\n",
      "            28, 29, 30, 31, 32, 33, 34, 35, 36, 37, 38, 39, 40, 41, 42, 43, 44,\n",
      "            45, 46, 47, 48, 49, 50, 51, 52, 53, 54, 55, 56, 57, 58, 60, 61, 63,\n",
      "            64, 65, 66, 67, 69, 70, 71, 72, 75],\n",
      "           dtype='int64')\n",
      "11      529\n",
      "12      296\n",
      "13      315\n",
      "14      584\n",
      "15     4627\n",
      "16    22133\n",
      "17    15883\n",
      "18     8129\n",
      "19     3296\n",
      "20     1382\n",
      "21      712\n",
      "22      469\n",
      "23      373\n",
      "24      280\n",
      "25      263\n",
      "26      201\n",
      "27      186\n",
      "28      170\n",
      "29      142\n",
      "30      122\n",
      "31      114\n",
      "32       93\n",
      "33      104\n",
      "34       99\n",
      "35       93\n",
      "36      122\n",
      "37       95\n",
      "38       88\n",
      "39       56\n",
      "40       56\n",
      "41       35\n",
      "42       46\n",
      "43       32\n",
      "44       35\n",
      "45       31\n",
      "46       22\n",
      "47       20\n",
      "48       21\n",
      "49       12\n",
      "50       10\n",
      "51       11\n",
      "52        8\n",
      "53       11\n",
      "54        1\n",
      "55        1\n",
      "56        6\n",
      "57        2\n",
      "58        1\n",
      "60        1\n",
      "61        1\n",
      "63        1\n",
      "64        2\n",
      "65        2\n",
      "66        1\n",
      "67        1\n",
      "69        1\n",
      "70        2\n",
      "71        2\n",
      "72        2\n",
      "75        2\n",
      "Name: ESTU_EDAD, dtype: int64\n",
      "Elementos null/NaN 0\n",
      "__________________\n",
      "Elementos diferentes de null/NaN: 61335\n",
      "__________________\n",
      "(61335,)\n",
      "None\n"
     ]
    }
   ],
   "source": [
    "c = 'ESTU_EDAD'\n",
    "print(data_2006[c].value_counts().sort_index().index)\n",
    "print(data_2006[c].value_counts().sort_index())\n",
    "print(missing_data(data_2006[c]))"
   ]
  },
  {
   "cell_type": "code",
   "execution_count": 14,
   "metadata": {
    "collapsed": false
   },
   "outputs": [
    {
     "name": "stdout",
     "output_type": "stream",
     "text": [
      "Float64Index([], dtype='float64')\n",
      "Series([], Name: ESTU_LIMITA_BAJAVISION, dtype: int64)\n",
      "Elementos null/NaN 61335\n",
      "__________________\n",
      "Elementos diferentes de null/NaN: 0\n",
      "__________________\n",
      "(0,)\n",
      "None\n"
     ]
    }
   ],
   "source": [
    "c = 'ESTU_LIMITA_BAJAVISION'\n",
    "print(data_2006[c].value_counts().sort_index().index)\n",
    "print(data_2006[c].value_counts().sort_index())\n",
    "print(missing_data(data_2006[c]))"
   ]
  },
  {
   "cell_type": "code",
   "execution_count": 15,
   "metadata": {
    "collapsed": true
   },
   "outputs": [],
   "source": [
    "data_2006 = data_2006.drop(['ESTU_LIMITA_BAJAVISION'], axis = 1)"
   ]
  },
  {
   "cell_type": "code",
   "execution_count": 16,
   "metadata": {
    "collapsed": false
   },
   "outputs": [
    {
     "name": "stdout",
     "output_type": "stream",
     "text": [
      "Float64Index([], dtype='float64')\n",
      "Series([], Name: ESTU_LIMITA_SORDOCEGUERA, dtype: int64)\n",
      "Elementos null/NaN 61335\n",
      "__________________\n",
      "Elementos diferentes de null/NaN: 0\n",
      "__________________\n",
      "(0,)\n",
      "None\n"
     ]
    }
   ],
   "source": [
    "c = 'ESTU_LIMITA_SORDOCEGUERA'\n",
    "print(data_2006[c].value_counts().sort_index().index)\n",
    "print(data_2006[c].value_counts().sort_index())\n",
    "print(missing_data(data_2006[c]))"
   ]
  },
  {
   "cell_type": "code",
   "execution_count": 17,
   "metadata": {
    "collapsed": true
   },
   "outputs": [],
   "source": [
    "data_2006 = data_2006.drop(['ESTU_LIMITA_SORDOCEGUERA'], axis = 1)"
   ]
  },
  {
   "cell_type": "code",
   "execution_count": 18,
   "metadata": {
    "collapsed": false
   },
   "outputs": [
    {
     "name": "stdout",
     "output_type": "stream",
     "text": [
      "Float64Index([], dtype='float64')\n",
      "Series([], Name: ESTU_LIMITA_COGNITIVA, dtype: int64)\n",
      "Elementos null/NaN 61335\n",
      "__________________\n",
      "Elementos diferentes de null/NaN: 0\n",
      "__________________\n",
      "(0,)\n",
      "None\n"
     ]
    }
   ],
   "source": [
    "c = 'ESTU_LIMITA_COGNITIVA'\n",
    "print(data_2006[c].value_counts().sort_index().index)\n",
    "print(data_2006[c].value_counts().sort_index())\n",
    "print(missing_data(data_2006[c]))"
   ]
  },
  {
   "cell_type": "code",
   "execution_count": 19,
   "metadata": {
    "collapsed": true
   },
   "outputs": [],
   "source": [
    "data_2006 = data_2006.drop(['ESTU_LIMITA_COGNITIVA'], axis = 1)"
   ]
  },
  {
   "cell_type": "code",
   "execution_count": 20,
   "metadata": {
    "collapsed": false
   },
   "outputs": [
    {
     "name": "stdout",
     "output_type": "stream",
     "text": [
      "Float64Index([], dtype='float64')\n",
      "Series([], Name: ESTU_LIMITA_INVIDENTE, dtype: int64)\n",
      "Elementos null/NaN 61335\n",
      "__________________\n",
      "Elementos diferentes de null/NaN: 0\n",
      "__________________\n",
      "(0,)\n",
      "None\n"
     ]
    }
   ],
   "source": [
    "c = 'ESTU_LIMITA_INVIDENTE'\n",
    "print(data_2006[c].value_counts().sort_index().index)\n",
    "print(data_2006[c].value_counts().sort_index())\n",
    "print(missing_data(data_2006[c]))"
   ]
  },
  {
   "cell_type": "code",
   "execution_count": 21,
   "metadata": {
    "collapsed": true
   },
   "outputs": [],
   "source": [
    "data_2006 = data_2006.drop(['ESTU_LIMITA_INVIDENTE'], axis = 1)"
   ]
  },
  {
   "cell_type": "code",
   "execution_count": 22,
   "metadata": {
    "collapsed": false,
    "scrolled": true
   },
   "outputs": [
    {
     "name": "stdout",
     "output_type": "stream",
     "text": [
      "Float64Index([], dtype='float64')\n",
      "Series([], Name: ESTU_LIMITA_MOTRIZ, dtype: int64)\n",
      "Elementos null/NaN 61335\n",
      "__________________\n",
      "Elementos diferentes de null/NaN: 0\n",
      "__________________\n",
      "(0,)\n",
      "None\n"
     ]
    }
   ],
   "source": [
    "c = 'ESTU_LIMITA_MOTRIZ'\n",
    "print(data_2006[c].value_counts().sort_index().index)\n",
    "print(data_2006[c].value_counts().sort_index())\n",
    "print(missing_data(data_2006[c]))"
   ]
  },
  {
   "cell_type": "code",
   "execution_count": 23,
   "metadata": {
    "collapsed": true
   },
   "outputs": [],
   "source": [
    "data_2006 = data_2006.drop(['ESTU_LIMITA_MOTRIZ'], axis = 1)"
   ]
  },
  {
   "cell_type": "code",
   "execution_count": 24,
   "metadata": {
    "collapsed": false
   },
   "outputs": [
    {
     "name": "stdout",
     "output_type": "stream",
     "text": [
      "Float64Index([], dtype='float64')\n",
      "Series([], Name: ESTU_LIMITA_SORDOINTERPRETE, dtype: int64)\n",
      "Elementos null/NaN 61335\n",
      "__________________\n",
      "Elementos diferentes de null/NaN: 0\n",
      "__________________\n",
      "(0,)\n",
      "None\n"
     ]
    }
   ],
   "source": [
    "c = 'ESTU_LIMITA_SORDOINTERPRETE'\n",
    "print(data_2006[c].value_counts().sort_index().index)\n",
    "print(data_2006[c].value_counts().sort_index())\n",
    "print(missing_data(data_2006[c]))"
   ]
  },
  {
   "cell_type": "code",
   "execution_count": 25,
   "metadata": {
    "collapsed": true
   },
   "outputs": [],
   "source": [
    "data_2006 = data_2006.drop(['ESTU_LIMITA_SORDOINTERPRETE'], axis = 1)"
   ]
  },
  {
   "cell_type": "code",
   "execution_count": 26,
   "metadata": {
    "collapsed": false,
    "scrolled": true
   },
   "outputs": [
    {
     "name": "stdout",
     "output_type": "stream",
     "text": [
      "Float64Index([], dtype='float64')\n",
      "Series([], Name: ESTU_LIMITA_SORDONOINTERPRETE, dtype: int64)\n",
      "Elementos null/NaN 61335\n",
      "__________________\n",
      "Elementos diferentes de null/NaN: 0\n",
      "__________________\n",
      "(0,)\n",
      "None\n"
     ]
    }
   ],
   "source": [
    "c = 'ESTU_LIMITA_SORDONOINTERPRETE'\n",
    "print(data_2006[c].value_counts().sort_index().index)\n",
    "print(data_2006[c].value_counts().sort_index())\n",
    "print(missing_data(data_2006[c]))"
   ]
  },
  {
   "cell_type": "code",
   "execution_count": 27,
   "metadata": {
    "collapsed": true
   },
   "outputs": [],
   "source": [
    "data_2006 = data_2006.drop(['ESTU_LIMITA_SORDONOINTERPRETE'], axis = 1)"
   ]
  },
  {
   "cell_type": "code",
   "execution_count": 28,
   "metadata": {
    "collapsed": false,
    "scrolled": true
   },
   "outputs": [
    {
     "name": "stdout",
     "output_type": "stream",
     "text": [
      "Index(['ABEJORRAL', 'ACACIAS', 'AGUA DE DIOS', 'AGUADAS', 'AGUAZUL',\n",
      "       'ALBAN (SAN JOSE)', 'ALBANIA', 'ALCALA', 'ALDANA', 'ANCUYA',\n",
      "       ...\n",
      "       'YACUANQUER', 'YAGUARA', 'YALI', 'YARUMAL', 'YOLOMBO', 'YOPAL',\n",
      "       'YOTOCO', 'YUMBO', 'ZARZAL', 'ZIPAQUIRA'],\n",
      "      dtype='object', length=316)\n",
      "ABEJORRAL                       6\n",
      "ACACIAS                         1\n",
      "AGUA DE DIOS                    1\n",
      "AGUADAS                         1\n",
      "AGUAZUL                         1\n",
      "ALBAN (SAN JOSE)               71\n",
      "ALBANIA                        24\n",
      "ALCALA                        112\n",
      "ALDANA                         50\n",
      "ANCUYA                         54\n",
      "ANDALUCIA                     207\n",
      "ANDES                           2\n",
      "ANSERMANUEVO                  116\n",
      "APARTADO                        8\n",
      "APIA                            1\n",
      "AQUITANIA                       1\n",
      "ARBELAEZ                        1\n",
      "ARBOLEDA (BERRUECOS)           39\n",
      "ARGELIA                        47\n",
      "ARMENIA                       147\n",
      "ARMERO (GUAYABAL)               1\n",
      "ATRATO (YUTO)                   1\n",
      "BALBOA                         14\n",
      "BARANOA                         1\n",
      "BARBACOAS                     116\n",
      "BARRANCABERMEJA                 1\n",
      "BARRANCAS                       1\n",
      "BARRANQUILLA                  513\n",
      "BELEN                          57\n",
      "BELLO                          88\n",
      "                             ... \n",
      "TUMACO                       1129\n",
      "TUNJA                          58\n",
      "TUQUERRES                     391\n",
      "TURBACO                         3\n",
      "TUTA                            1\n",
      "UBATE                          11\n",
      "ULLOA                          55\n",
      "VALENCIA                       18\n",
      "VALLEDUPAR                     61\n",
      "VENTAQUEMADA                    1\n",
      "VERSALLES                      74\n",
      "VIJES                          76\n",
      "VILLA DE LEYVA                  1\n",
      "VILLA DEL ROSARIO               1\n",
      "VILLA GUAMEZ (LA HORMIGA)       2\n",
      "VILLA RICA                      5\n",
      "VILLAGARZON                    71\n",
      "VILLAMARIA                      2\n",
      "VILLAVICENCIO                 110\n",
      "VILLETA                        10\n",
      "YACUANQUER                     66\n",
      "YAGUARA                        15\n",
      "YALI                            3\n",
      "YARUMAL                         1\n",
      "YOLOMBO                        12\n",
      "YOPAL                          52\n",
      "YOTOCO                        106\n",
      "YUMBO                         828\n",
      "ZARZAL                        446\n",
      "ZIPAQUIRA                      52\n",
      "Name: ESTU_RESIDE_MCPIO, dtype: int64\n",
      "Elementos null/NaN 23\n",
      "__________________\n",
      "Elementos diferentes de null/NaN: 61312\n",
      "__________________\n",
      "(61312,)\n",
      "None\n"
     ]
    }
   ],
   "source": [
    "c = 'ESTU_RESIDE_MCPIO'\n",
    "print(data_2006[c].value_counts().sort_index().index)\n",
    "print(data_2006[c].value_counts().sort_index())\n",
    "print(missing_data(data_2006[c]))"
   ]
  },
  {
   "cell_type": "code",
   "execution_count": 29,
   "metadata": {
    "collapsed": false,
    "scrolled": true
   },
   "outputs": [
    {
     "name": "stdout",
     "output_type": "stream",
     "text": [
      "Index(['ANTIOQUIA', 'ATLÃNTICO', 'BOGOTÃ', 'BOLÃVAR', 'BOYACÃ', 'CALDAS',\n",
      "       'CAQUETÃ', 'CASANARE', 'CAUCA', 'CESAR', 'CHOCÃ', 'CUNDINAMARCA',\n",
      "       'CÃRDOBA', 'GUAVIARE', 'HUILA', 'LA GUAJIRA', 'MAGDALENA', 'META',\n",
      "       'NARIÃO', 'NORTE SANTANDER', 'PUTUMAYO', 'QUINDÃO', 'RISARALDA',\n",
      "       'SAN ANDRÃS', 'SANTANDER', 'SUCRE', 'TOLIMA', 'VALLE'],\n",
      "      dtype='object')\n",
      "ANTIOQUIA           1395\n",
      "ATLÃNTICO           535\n",
      "BOGOTÃ             4432\n",
      "BOLÃVAR             170\n",
      "BOYACÃ              219\n",
      "CALDAS               157\n",
      "CAQUETÃ              15\n",
      "CASANARE              68\n",
      "CAUCA               1016\n",
      "CESAR                 62\n",
      "CHOCÃ                 2\n",
      "CUNDINAMARCA         630\n",
      "CÃRDOBA              54\n",
      "GUAVIARE               1\n",
      "HUILA                197\n",
      "LA GUAJIRA            36\n",
      "MAGDALENA             37\n",
      "META                 121\n",
      "NARIÃO            12304\n",
      "NORTE SANTANDER      130\n",
      "PUTUMAYO              86\n",
      "QUINDÃO             180\n",
      "RISARALDA            235\n",
      "SAN ANDRÃS            1\n",
      "SANTANDER            379\n",
      "SUCRE                 18\n",
      "TOLIMA               179\n",
      "VALLE              38652\n",
      "Name: ESTU_RESIDE_DEPTO, dtype: int64\n",
      "Elementos null/NaN 24\n",
      "__________________\n",
      "Elementos diferentes de null/NaN: 61311\n",
      "__________________\n",
      "(61311,)\n",
      "None\n"
     ]
    }
   ],
   "source": [
    "c = 'ESTU_RESIDE_DEPTO'\n",
    "print(data_2006[c].value_counts().sort_index().index)\n",
    "print(data_2006[c].value_counts().sort_index())\n",
    "print(missing_data(data_2006[c]))"
   ]
  },
  {
   "cell_type": "code",
   "execution_count": 30,
   "metadata": {
    "collapsed": true
   },
   "outputs": [],
   "source": [
    "data_2006['ESTU_RESIDE_DEPTO'] = data_2006['ESTU_RESIDE_DEPTO'].replace('ATLÃNTICO', 'ATLANTICO')\n",
    "data_2006['ESTU_RESIDE_DEPTO'] = data_2006['ESTU_RESIDE_DEPTO'].replace('BOGOTÃ', 'BOGOTA')\n",
    "data_2006['ESTU_RESIDE_DEPTO'] = data_2006['ESTU_RESIDE_DEPTO'].replace('BOLÃVAR', 'BOLIVAR')\n",
    "data_2006['ESTU_RESIDE_DEPTO'] = data_2006['ESTU_RESIDE_DEPTO'].replace('BOYACÃ', 'BOYACA')\n",
    "data_2006['ESTU_RESIDE_DEPTO'] = data_2006['ESTU_RESIDE_DEPTO'].replace('CAQUETÃ', 'CAQUETA')\n",
    "data_2006['ESTU_RESIDE_DEPTO'] = data_2006['ESTU_RESIDE_DEPTO'].replace('CHOCÃ', 'CHOCO')\n",
    "data_2006['ESTU_RESIDE_DEPTO'] = data_2006['ESTU_RESIDE_DEPTO'].replace('CÃRDOBA', 'CORDOBA')\n",
    "data_2006['ESTU_RESIDE_DEPTO'] = data_2006['ESTU_RESIDE_DEPTO'].replace('NARIÃO', 'NARIÑO')\n",
    "data_2006['ESTU_RESIDE_DEPTO'] = data_2006['ESTU_RESIDE_DEPTO'].replace('QUINDÃO', 'QUINDIO')\n",
    "data_2006['ESTU_RESIDE_DEPTO'] = data_2006['ESTU_RESIDE_DEPTO'].replace('SAN ANDRÃS', 'SAN ANDRES')"
   ]
  },
  {
   "cell_type": "code",
   "execution_count": 31,
   "metadata": {
    "collapsed": false
   },
   "outputs": [
    {
     "name": "stdout",
     "output_type": "stream",
     "text": [
      "Float64Index([1.0, 2.0, 3.0, 4.0, 5.0, 6.0, 7.0, 8.0, 9.0, 10.0], dtype='float64')\n",
      "1.0      6457\n",
      "2.0      2812\n",
      "3.0       943\n",
      "4.0      5737\n",
      "5.0      1465\n",
      "6.0      2313\n",
      "7.0      3622\n",
      "8.0      1157\n",
      "9.0      1445\n",
      "10.0    35358\n",
      "Name: ESTU_ZONA_RESIDE, dtype: int64\n",
      "Elementos null/NaN 26\n",
      "__________________\n",
      "Elementos diferentes de null/NaN: 61309\n",
      "__________________\n",
      "(61309,)\n",
      "None\n"
     ]
    }
   ],
   "source": [
    "c = 'ESTU_ZONA_RESIDE'\n",
    "print(data_2006[c].value_counts().sort_index().index)\n",
    "print(data_2006[c].value_counts().sort_index())\n",
    "print(missing_data(data_2006[c]))"
   ]
  },
  {
   "cell_type": "code",
   "execution_count": 32,
   "metadata": {
    "collapsed": false
   },
   "outputs": [
    {
     "name": "stdout",
     "output_type": "stream",
     "text": [
      "Float64Index([1.0, 2.0], dtype='float64')\n",
      "1.0    466\n",
      "2.0    126\n",
      "Name: ESTU_AREA_RESIDE, dtype: int64\n",
      "Elementos null/NaN 60743\n",
      "__________________\n",
      "Elementos diferentes de null/NaN: 592\n",
      "__________________\n",
      "(592,)\n",
      "None\n"
     ]
    }
   ],
   "source": [
    "c = 'ESTU_AREA_RESIDE'\n",
    "print(data_2006[c].value_counts().sort_index().index)\n",
    "print(data_2006[c].value_counts().sort_index())\n",
    "print(missing_data(data_2006[c]))"
   ]
  },
  {
   "cell_type": "code",
   "execution_count": 33,
   "metadata": {
    "collapsed": false,
    "scrolled": true
   },
   "outputs": [
    {
     "name": "stdout",
     "output_type": "stream",
     "text": [
      "Index(['ALBANIA', 'ALCALA', 'ANDALUCIA', 'ANSERMANUEVO', 'APARTADO', 'ARMENIA',\n",
      "       'BARBACOAS', 'BARRANCABERMEJA', 'BARRANQUILLA', 'BELLO',\n",
      "       ...\n",
      "       'TUMACO', 'TUNJA', 'TUQUERRES', 'UBATE', 'VALLEDUPAR', 'VILLAVICENCIO',\n",
      "       'YOPAL', 'YUMBO', 'ZARZAL', 'ZIPAQUIRA'],\n",
      "      dtype='object', length=102)\n",
      "ALBANIA                      30\n",
      "ALCALA                      168\n",
      "ANDALUCIA                   208\n",
      "ANSERMANUEVO                118\n",
      "APARTADO                     11\n",
      "ARMENIA                     169\n",
      "BARBACOAS                   163\n",
      "BARRANCABERMEJA               1\n",
      "BARRANQUILLA                543\n",
      "BELLO                        89\n",
      "BOGOTÃ D.C.               4301\n",
      "BOLIVAR                      35\n",
      "BUCARAMANGA                 348\n",
      "BUENAVENTURA               2308\n",
      "BUESACO                     209\n",
      "BUGA                       1600\n",
      "BUGALAGRANDE                200\n",
      "CAICEDONIA                  283\n",
      "CALI                      19610\n",
      "CALIMA (DARIEN)             149\n",
      "CANDELARIA                  712\n",
      "CARTAGENA                   179\n",
      "CARTAGO                    1598\n",
      "CHAPARRAL                    36\n",
      "CHIA                        176\n",
      "CONSACA                      69\n",
      "CUCUTA                      121\n",
      "CUMBAL                      265\n",
      "DAGUA                       233\n",
      "EL CERRITO                  696\n",
      "                          ...  \n",
      "RIONEGRO                     53\n",
      "ROLDANILLO                  530\n",
      "SAMANIEGO                   256\n",
      "SAN GIL                       8\n",
      "SAN PABLO                   169\n",
      "SANDONA                     281\n",
      "SANTA MARTA                  36\n",
      "SANTA ROSA DE OSOS           40\n",
      "SANTANDER DE QUILICHAO       76\n",
      "SEVILLA                     345\n",
      "SINCELEJO                    18\n",
      "SOACHA                      184\n",
      "SOGAMOSO                     70\n",
      "TAMINANGO                   136\n",
      "TANGUA                       48\n",
      "TIMBIO                        1\n",
      "TIMBIQUI                     42\n",
      "TORO                        159\n",
      "TRUJILLO                    150\n",
      "TULUA                      2423\n",
      "TUMACO                     1155\n",
      "TUNJA                       151\n",
      "TUQUERRES                   495\n",
      "UBATE                        35\n",
      "VALLEDUPAR                   70\n",
      "VILLAVICENCIO               122\n",
      "YOPAL                        69\n",
      "YUMBO                      1012\n",
      "ZARZAL                      465\n",
      "ZIPAQUIRA                    80\n",
      "Name: ESTU_MCPIO_PRESENTACION, dtype: int64\n",
      "Elementos null/NaN 0\n",
      "__________________\n",
      "Elementos diferentes de null/NaN: 61335\n",
      "__________________\n",
      "(61335,)\n",
      "None\n"
     ]
    }
   ],
   "source": [
    "c = 'ESTU_MCPIO_PRESENTACION'\n",
    "print(data_2006[c].value_counts().sort_index().index)\n",
    "print(data_2006[c].value_counts().sort_index())\n",
    "print(missing_data(data_2006[c]))"
   ]
  },
  {
   "cell_type": "code",
   "execution_count": 34,
   "metadata": {
    "collapsed": false,
    "scrolled": true
   },
   "outputs": [
    {
     "name": "stdout",
     "output_type": "stream",
     "text": [
      "Index(['ANTIOQUIA', 'ATLÃNTICO', 'BOGOTÃ', 'BOLÃVAR', 'BOYACÃ', 'CALDAS',\n",
      "       'CAQUETÃ', 'CASANARE', 'CAUCA', 'CESAR', 'CUNDINAMARCA', 'CÃRDOBA',\n",
      "       'HUILA', 'LA GUAJIRA', 'MAGDALENA', 'META', 'NARIÃO',\n",
      "       'NORTE SANTANDER', 'PUTUMAYO', 'QUINDÃO', 'RISARALDA', 'SANTANDER',\n",
      "       'SUCRE', 'TOLIMA', 'VALLE'],\n",
      "      dtype='object')\n",
      "ANTIOQUIA           1373\n",
      "ATLÃNTICO           543\n",
      "BOGOTÃ             4301\n",
      "BOLÃVAR             179\n",
      "BOYACÃ              221\n",
      "CALDAS               168\n",
      "CAQUETÃ              15\n",
      "CASANARE              69\n",
      "CAUCA                972\n",
      "CESAR                 70\n",
      "CUNDINAMARCA         588\n",
      "CÃRDOBA              53\n",
      "HUILA                195\n",
      "LA GUAJIRA            40\n",
      "MAGDALENA             36\n",
      "META                 122\n",
      "NARIÃO            12476\n",
      "NORTE SANTANDER      127\n",
      "PUTUMAYO              78\n",
      "QUINDÃO             169\n",
      "RISARALDA            219\n",
      "SANTANDER            380\n",
      "SUCRE                 18\n",
      "TOLIMA               158\n",
      "VALLE              38765\n",
      "Name: ESTU_DEPTO_PRESENTACION, dtype: int64\n",
      "Elementos null/NaN 0\n",
      "__________________\n",
      "Elementos diferentes de null/NaN: 61335\n",
      "__________________\n",
      "(61335,)\n",
      "None\n"
     ]
    }
   ],
   "source": [
    "c = 'ESTU_DEPTO_PRESENTACION'\n",
    "print(data_2006[c].value_counts().sort_index().index)\n",
    "print(data_2006[c].value_counts().sort_index())\n",
    "print(missing_data(data_2006[c]))"
   ]
  },
  {
   "cell_type": "code",
   "execution_count": 35,
   "metadata": {
    "collapsed": true
   },
   "outputs": [],
   "source": [
    "data_2006['ESTU_DEPTO_PRESENTACION'] = data_2006['ESTU_DEPTO_PRESENTACION'].replace('ATLÃNTICO', 'ATLANTICO')\n",
    "data_2006['ESTU_DEPTO_PRESENTACION'] = data_2006['ESTU_DEPTO_PRESENTACION'].replace('BOGOTÃ', 'BOGOTA')\n",
    "data_2006['ESTU_DEPTO_PRESENTACION'] = data_2006['ESTU_DEPTO_PRESENTACION'].replace('BOLÃVAR', 'BOLIVAR')\n",
    "data_2006['ESTU_DEPTO_PRESENTACION'] = data_2006['ESTU_DEPTO_PRESENTACION'].replace('BOYACÃ', 'BOYACA')\n",
    "data_2006['ESTU_DEPTO_PRESENTACION'] = data_2006['ESTU_DEPTO_PRESENTACION'].replace('CAQUETÃ', 'CAQUETA')\n",
    "data_2006['ESTU_DEPTO_PRESENTACION'] = data_2006['ESTU_DEPTO_PRESENTACION'].replace('CÃRDOBA', 'CORDOBA')\n",
    "data_2006['ESTU_DEPTO_PRESENTACION'] = data_2006['ESTU_DEPTO_PRESENTACION'].replace('NARIÃO', 'NARIÑO')\n",
    "data_2006['ESTU_DEPTO_PRESENTACION'] = data_2006['ESTU_DEPTO_PRESENTACION'].replace('QUINDÃO', 'QUINDIO')"
   ]
  },
  {
   "cell_type": "code",
   "execution_count": 36,
   "metadata": {
    "collapsed": false
   },
   "outputs": [
    {
     "name": "stdout",
     "output_type": "stream",
     "text": [
      "Index(['EXAMEN DE ESTADO  (2006)'], dtype='object')\n",
      "EXAMEN DE ESTADO  (2006)    61335\n",
      "Name: ESTU_EXAM_NOMBREEXAMEN, dtype: int64\n",
      "Elementos null/NaN 0\n",
      "__________________\n",
      "Elementos diferentes de null/NaN: 61335\n",
      "__________________\n",
      "(61335,)\n",
      "None\n"
     ]
    }
   ],
   "source": [
    "c = 'ESTU_EXAM_NOMBREEXAMEN'\n",
    "print(data_2006[c].value_counts().sort_index().index)\n",
    "print(data_2006[c].value_counts().sort_index())\n",
    "print(missing_data(data_2006[c]))"
   ]
  },
  {
   "cell_type": "code",
   "execution_count": 37,
   "metadata": {
    "collapsed": true
   },
   "outputs": [],
   "source": [
    "data_2006 = data_2006.drop(['ESTU_EXAM_NOMBREEXAMEN'], axis = 1)"
   ]
  },
  {
   "cell_type": "code",
   "execution_count": 38,
   "metadata": {
    "collapsed": false
   },
   "outputs": [
    {
     "name": "stdout",
     "output_type": "stream",
     "text": [
      "Float64Index([0.0, 1.0], dtype='float64')\n",
      "0.0     5696\n",
      "1.0    55634\n",
      "Name: IND_ESTUDIO_BACHILLERATO, dtype: int64\n",
      "Elementos null/NaN 5\n",
      "__________________\n",
      "Elementos diferentes de null/NaN: 61330\n",
      "__________________\n",
      "(61330,)\n",
      "None\n"
     ]
    }
   ],
   "source": [
    "c = 'IND_ESTUDIO_BACHILLERATO'\n",
    "print(data_2006[c].value_counts().sort_index().index)\n",
    "print(data_2006[c].value_counts().sort_index())\n",
    "print(missing_data(data_2006[c]))"
   ]
  },
  {
   "cell_type": "code",
   "execution_count": 39,
   "metadata": {
    "collapsed": false,
    "scrolled": true
   },
   "outputs": [
    {
     "name": "stdout",
     "output_type": "stream",
     "text": [
      "Float64Index([1973.0, 1986.0, 1989.0, 1993.0, 1996.0, 1997.0, 1998.0, 1999.0,\n",
      "              2000.0, 2001.0, 2002.0, 2003.0, 2004.0, 2005.0, 2006.0, 2007.0,\n",
      "              2008.0, 2009.0, 2010.0, 2011.0, 9999.0],\n",
      "             dtype='float64')\n",
      "1973.0        1\n",
      "1986.0        2\n",
      "1989.0        1\n",
      "1993.0        3\n",
      "1996.0        4\n",
      "1997.0        2\n",
      "1998.0        1\n",
      "1999.0        3\n",
      "2000.0        5\n",
      "2001.0        4\n",
      "2002.0       12\n",
      "2003.0        7\n",
      "2004.0        9\n",
      "2005.0     2251\n",
      "2006.0    55638\n",
      "2007.0      239\n",
      "2008.0       18\n",
      "2009.0       10\n",
      "2010.0        2\n",
      "2011.0        1\n",
      "9999.0        1\n",
      "Name: IND_ANNO_TERMINO_BACHILLERATO, dtype: int64\n",
      "Elementos null/NaN 3121\n",
      "__________________\n",
      "Elementos diferentes de null/NaN: 58214\n",
      "__________________\n",
      "(58214,)\n",
      "None\n"
     ]
    }
   ],
   "source": [
    "c = 'IND_ANNO_TERMINO_BACHILLERATO'\n",
    "print(data_2006[c].value_counts().sort_index().index)\n",
    "print(data_2006[c].value_counts().sort_index())\n",
    "print(missing_data(data_2006[c]))"
   ]
  },
  {
   "cell_type": "code",
   "execution_count": 40,
   "metadata": {
    "collapsed": true
   },
   "outputs": [],
   "source": [
    "for i in data_2006[c].value_counts().sort_index().index:\n",
    "    if i > 2009:\n",
    "        data_2006['IND_ANNO_TERMINO_BACHILLERATO'] = data_2006['IND_ANNO_TERMINO_BACHILLERATO'].replace(i, np.nan)"
   ]
  },
  {
   "cell_type": "code",
   "execution_count": 41,
   "metadata": {
    "collapsed": false
   },
   "outputs": [
    {
     "name": "stdout",
     "output_type": "stream",
     "text": [
      "Float64Index([1.0], dtype='float64')\n",
      "1.0    116\n",
      "Name: IND_TERMINO_BACHILLERATO, dtype: int64\n",
      "Elementos null/NaN 61219\n",
      "__________________\n",
      "Elementos diferentes de null/NaN: 116\n",
      "__________________\n",
      "(116,)\n",
      "None\n"
     ]
    }
   ],
   "source": [
    "c = 'IND_TERMINO_BACHILLERATO'\n",
    "print(data_2006[c].value_counts().sort_index().index)\n",
    "print(data_2006[c].value_counts().sort_index())\n",
    "print(missing_data(data_2006[c]))"
   ]
  },
  {
   "cell_type": "code",
   "execution_count": 42,
   "metadata": {
    "collapsed": false,
    "scrolled": true
   },
   "outputs": [
    {
     "name": "stdout",
     "output_type": "stream",
     "text": [
      "Float64Index([     3.0,     59.0,    182.0,    240.0,    265.0,   3046.0,\n",
      "                3327.0,   3418.0,   3459.0,   3525.0,\n",
      "              ...\n",
      "              164194.0, 164483.0, 166280.0, 168294.0, 168393.0, 170456.0,\n",
      "              172908.0, 173302.0, 175208.0, 999999.0],\n",
      "             dtype='float64', length=1649)\n",
      "3.0          35\n",
      "59.0          1\n",
      "182.0        68\n",
      "240.0         2\n",
      "265.0        87\n",
      "3046.0       70\n",
      "3327.0       15\n",
      "3418.0       40\n",
      "3459.0       97\n",
      "3525.0       91\n",
      "4234.0       36\n",
      "6775.0       11\n",
      "7013.0       48\n",
      "7070.0      114\n",
      "7088.0       53\n",
      "7344.0        1\n",
      "7542.0        1\n",
      "8995.0        1\n",
      "9110.0       66\n",
      "9589.0       36\n",
      "10058.0       1\n",
      "10066.0       2\n",
      "10280.0       1\n",
      "10660.0       1\n",
      "11213.0     192\n",
      "11221.0       2\n",
      "11239.0      68\n",
      "11247.0       1\n",
      "11254.0      25\n",
      "11262.0      46\n",
      "           ... \n",
      "130294.0      1\n",
      "130419.0      1\n",
      "130427.0      3\n",
      "135434.0      2\n",
      "136093.0      1\n",
      "136879.0      1\n",
      "136994.0      1\n",
      "139402.0      1\n",
      "139444.0      1\n",
      "143032.0      2\n",
      "143826.0      1\n",
      "144048.0      1\n",
      "145441.0      1\n",
      "150409.0      1\n",
      "150474.0      1\n",
      "150953.0      1\n",
      "154963.0      1\n",
      "160440.0      1\n",
      "162099.0      1\n",
      "162958.0      1\n",
      "164194.0      1\n",
      "164483.0      1\n",
      "166280.0      1\n",
      "168294.0      1\n",
      "168393.0      1\n",
      "170456.0      1\n",
      "172908.0      1\n",
      "173302.0      1\n",
      "175208.0      1\n",
      "999999.0    232\n",
      "Name: IND_COD_ICFES_TERMINO, dtype: int64\n",
      "Elementos null/NaN 345\n",
      "__________________\n",
      "Elementos diferentes de null/NaN: 60990\n",
      "__________________\n",
      "(60990,)\n",
      "None\n"
     ]
    }
   ],
   "source": [
    "c = 'IND_COD_ICFES_TERMINO'\n",
    "print(data_2006[c].value_counts().sort_index().index)\n",
    "print(data_2006[c].value_counts().sort_index())\n",
    "print(missing_data(data_2006[c]))"
   ]
  },
  {
   "cell_type": "code",
   "execution_count": 43,
   "metadata": {
    "collapsed": false,
    "scrolled": true
   },
   "outputs": [
    {
     "name": "stdout",
     "output_type": "stream",
     "text": [
      "Int64Index([   182,    265,   3046,   3327,   3418,   3459,   3525,   4234,\n",
      "              6775,   7013,\n",
      "            ...\n",
      "            124834, 124867, 124875, 124990, 125021, 125047, 125054, 125104,\n",
      "            125112, 125138],\n",
      "           dtype='int64', length=1502)\n",
      "182        68\n",
      "265        90\n",
      "3046       70\n",
      "3327       15\n",
      "3418       40\n",
      "3459       97\n",
      "3525       91\n",
      "4234       36\n",
      "6775       11\n",
      "7013       51\n",
      "7070      118\n",
      "7088       54\n",
      "9589       36\n",
      "11213     208\n",
      "11239      70\n",
      "11254      26\n",
      "11262      48\n",
      "11270     151\n",
      "11288     113\n",
      "11296     285\n",
      "11312     142\n",
      "11320     143\n",
      "11338     509\n",
      "11379      40\n",
      "11395      43\n",
      "11403      75\n",
      "11411     136\n",
      "11429      94\n",
      "11437      91\n",
      "11445     123\n",
      "         ... \n",
      "124487     13\n",
      "124495      1\n",
      "124503      7\n",
      "124511      8\n",
      "124537     10\n",
      "124545     80\n",
      "124552     10\n",
      "124560     64\n",
      "124578     17\n",
      "124602      9\n",
      "124628     11\n",
      "124636     97\n",
      "124644      6\n",
      "124651      9\n",
      "124677      5\n",
      "124693      7\n",
      "124701      8\n",
      "124735     18\n",
      "124750     56\n",
      "124818     27\n",
      "124834      8\n",
      "124867     54\n",
      "124875     17\n",
      "124990     18\n",
      "125021     26\n",
      "125047     42\n",
      "125054      9\n",
      "125104     59\n",
      "125112     35\n",
      "125138     20\n",
      "Name: COLE_COD_ICFES, dtype: int64\n",
      "Elementos null/NaN 0\n",
      "__________________\n",
      "Elementos diferentes de null/NaN: 61335\n",
      "__________________\n",
      "(61335,)\n",
      "None\n"
     ]
    }
   ],
   "source": [
    "c = 'COLE_COD_ICFES'\n",
    "print(data_2006[c].value_counts().sort_index().index)\n",
    "print(data_2006[c].value_counts().sort_index())\n",
    "print(missing_data(data_2006[c]))"
   ]
  },
  {
   "cell_type": "code",
   "execution_count": 44,
   "metadata": {
    "collapsed": false,
    "scrolled": true
   },
   "outputs": [
    {
     "name": "stdout",
     "output_type": "stream",
     "text": [
      "Index(['            ', '010500103391', '051100116867', '105001000566',\n",
      "       '105001003395', '105001003425', '105042000732', '105361000443',\n",
      "       '105387000077', '108001003289',\n",
      "       ...\n",
      "       '519698000003', '525899000016', '537610908071', '576001091472',\n",
      "       '576622134546', '625214000001', '625269000075', '625286000041',\n",
      "       '625843000124', '841551000001'],\n",
      "      dtype='object', length=1327)\n",
      "                673\n",
      "010500103391     26\n",
      "051100116867     25\n",
      "105001000566     15\n",
      "105001003395     17\n",
      "105001003425      6\n",
      "105042000732     16\n",
      "105361000443     29\n",
      "105387000077      5\n",
      "108001003289     14\n",
      "111001010251      9\n",
      "111001011029     14\n",
      "111001034134     18\n",
      "111001092410     46\n",
      "111001102148     18\n",
      "111848003031     28\n",
      "115759001887     31\n",
      "117433000859     10\n",
      "117616000696     11\n",
      "125175000299     32\n",
      "125754002147     18\n",
      "125899000657     36\n",
      "141885000013     19\n",
      "150226000013      9\n",
      "152001000599    285\n",
      "152001000661    169\n",
      "152001000769    248\n",
      "152001000777    471\n",
      "152001000785    509\n",
      "152001000793     91\n",
      "               ... \n",
      "476001006333     19\n",
      "476001020719     14\n",
      "476001038251    100\n",
      "476126000418      8\n",
      "476130000571     54\n",
      "476130000813      7\n",
      "476130000902     15\n",
      "476130000961      4\n",
      "476130001186     20\n",
      "476248000478     72\n",
      "476248000648     10\n",
      "476248000877      4\n",
      "476248032012     31\n",
      "476520003813     16\n",
      "476520006324      7\n",
      "476892001183     11\n",
      "476892099710     21\n",
      "476892099728     11\n",
      "476895000382     33\n",
      "519001000002     23\n",
      "519698000003      8\n",
      "525899000016      8\n",
      "537610908071     21\n",
      "576001091472      6\n",
      "576622134546     14\n",
      "625214000001     20\n",
      "625269000075     14\n",
      "625286000041     33\n",
      "625843000124      3\n",
      "841551000001     25\n",
      "Name: COLE_COD_DANE_INSTITUCION, dtype: int64\n",
      "Elementos null/NaN 0\n",
      "__________________\n",
      "Elementos diferentes de null/NaN: 61335\n",
      "__________________\n",
      "(61335,)\n",
      "None\n"
     ]
    }
   ],
   "source": [
    "c = 'COLE_COD_DANE_INSTITUCION'\n",
    "print(data_2006[c].value_counts().sort_index().index)\n",
    "print(data_2006[c].value_counts().sort_index())\n",
    "print(missing_data(data_2006[c]))"
   ]
  },
  {
   "cell_type": "code",
   "execution_count": 45,
   "metadata": {
    "collapsed": true
   },
   "outputs": [],
   "source": [
    "data_2006['COLE_COD_DANE_INSTITUCION'] = data_2006['COLE_COD_DANE_INSTITUCION'].replace('            ', np.nan)\n",
    "for i in data_2006[c].value_counts().sort_index().index:\n",
    "    if type(i) == str:\n",
    "        data_2006['COLE_COD_DANE_INSTITUCION'] = data_2006['COLE_COD_DANE_INSTITUCION'].replace(i, float(i))"
   ]
  },
  {
   "cell_type": "code",
   "execution_count": 46,
   "metadata": {
    "collapsed": false,
    "scrolled": true
   },
   "outputs": [
    {
     "name": "stdout",
     "output_type": "stream",
     "text": [
      "Index([' COL FUND STA ISABEL DE HUNGRIA', ' ESCUELA URBANA JOSE ANTONIO GALAN',\n",
      "       ' FUND COL PAR SAN PEDRO CLAVER',\n",
      "       '07/01 INSTITUCION EDUCATIVA JORGE ISAACS INEM',\n",
      "       '20/01 INSTITUCION EDUCATIVA, SIETE DE AGOSTO',\n",
      "       '28/01 INSTITUCIÃN EDUCATIVA SANTA FE',\n",
      "       '32/01 INSTITUCION EDUCATIVA NORMAL SUPERIOR SANTIAGO DE CALI',\n",
      "       '38/01 INSTITUCION EDUCATIVA AGUSTIN NIETO CABALLERO',\n",
      "       '39/01 INSTITUCION EDUCATIVA BOYACA',\n",
      "       '41/01 INSTITUCION EDUCATIVA VILLA DEL SUR',\n",
      "       ...\n",
      "       'SUSANA LOPEZ DE VALENCIA', 'TABLONES',\n",
      "       'TECNOLÃGICO EN INFORMATICA Y COMERCIO DE BUENAVENTURA INCOMEB',\n",
      "       'TERESA CALDERÃN DE LASSO',\n",
      "       'TÃCNICO INDUSTRIAL GERARDO VALENCIA CANO - SEDE PRINCIPAL',\n",
      "       'UNIDAD TECNOLOGICA DEL SUR',\n",
      "       'UNION PROFESIONAL PARA LA EDUCACION Y EL TRABAJO UPET',\n",
      "       'UNIVERSIDAD NACIONAL ABIERTA Y A DISTANCIA', 'VERNOT SCHOOL',\n",
      "       'XINSTITUTO TECNICO COMERCIAL PILOTO'],\n",
      "      dtype='object', length=1359)\n",
      " COL FUND STA ISABEL DE HUNGRIA                                       842\n",
      " ESCUELA URBANA JOSE ANTONIO GALAN                                     25\n",
      " FUND COL PAR SAN PEDRO CLAVER                                         65\n",
      "07/01 INSTITUCION EDUCATIVA JORGE ISAACS INEM                         581\n",
      "20/01 INSTITUCION EDUCATIVA, SIETE DE AGOSTO                           70\n",
      "28/01 INSTITUCIÃN EDUCATIVA SANTA FE                                 106\n",
      "32/01 INSTITUCION EDUCATIVA NORMAL SUPERIOR SANTIAGO DE CALI          168\n",
      "38/01 INSTITUCION EDUCATIVA AGUSTIN NIETO CABALLERO                   111\n",
      "39/01 INSTITUCION EDUCATIVA BOYACA                                     79\n",
      "41/01 INSTITUCION EDUCATIVA VILLA DEL SUR                             147\n",
      "44/01 INSTITUCIÃN EDUCATIVA COMERCIAL CIUDAD DE CALI                 249\n",
      "58/01 INSTITUCION EDUCATIVA GABRIELA MISTRAL                           97\n",
      "69/01 INSTITUCION EDUCATIVA LA ESPERANZA                               33\n",
      "74/01 INSTITUCION EDUCATIVA JUANA DE CAICEDO Y CUERO                   26\n",
      "80/01 INSTITUCIÃN EDUCATIVA PANCE                                     11\n",
      "81/02 INSTITUCION EDUCATIVA LA BUITRERA JOSE MARIA GARCIA DE TOLED     15\n",
      "84/04  JOSE HOLGUIN GARCES                                             13\n",
      "86/02 INSTITUCION EDUCATIVA LA LEONERA  ITA FARALLONES                 14\n",
      "ABSALON TORRES CAMACHO                                                102\n",
      "ACADE MILIT JOAQUÃN DE CAICEDO Y CUERO                                24\n",
      "ACADEMIA ACADEMIA SAM                                                   9\n",
      "ACADEMIA COLOMBIANA DE ENSEÃANZA                                      23\n",
      "ACADEMIA COMERCIAL REAL                                                15\n",
      "ACADEMIA DE CIENCIAS DE COLOMBIA AKADEMOS                              14\n",
      "ACADEMIA MILIT CORONEL MIGUEL CABAL BARONA                             16\n",
      "ACADEMIA MILITAR GENERAL JOSÃ MARÃA CABAL                            36\n",
      "AGRICOLA CAMPOALEGRE                                                   38\n",
      "AGRICOLA PRESBITERO HORACIO GOMEZ GALLO                                30\n",
      "ALAIN VALENCIA                                                          4\n",
      "ALFONSO LOPEZ PUMAREJO                                                232\n",
      "                                                                     ... \n",
      "SEDE PRINCIPAL  TRES ESQUINAS                                          30\n",
      "SEDE PRINCIPAL AGUACLARA                                               39\n",
      "SEDE PRINCIPAL CONCENTRACIÃN DE DESARROLLO RURAL                      50\n",
      "SEDE PRINCIPAL GIMNASIO DEL PACIFICO CENTRAL                          355\n",
      "SEDE PRINCIPAL INSTITUTO JULIA RESTREPO                               176\n",
      "SEDE PRINCIPAL INSTITUTO TEC.  INDUSTRIAL C.S.L.                      169\n",
      "SEDE PRINCIPAL LA GRACIELA                                             96\n",
      "SEDE PRINCIPAL LICEO MODERNO                                          174\n",
      "SEDE PRINCIPAL NO. 7 MARIA ANTONIA RUIZ                                52\n",
      "SEDE PRINCIPAL UNIDAD DOCENTE JOVITA SANTA COLOMA                      59\n",
      "SEM DE CRISTO SACERDOTE                                                36\n",
      "SEMILLA DE LA ESPERANZA                                                10\n",
      "SEMINARIO MENOR ARQUIDIOCESANO                                         55\n",
      "SERVICIO EDUCATIVO NAL DE ADULTOS SENDAS                               55\n",
      "SEVILLA                                                               164\n",
      "SIMON BOLIVAR                                                         158\n",
      "SIMON RODRIGUEZ                                                        14\n",
      "SIXTO MARIA ROJAS                                                      39\n",
      "SOC ESCUELA KARL C PARRISH                                             40\n",
      "SOR MARIA JULIANA                                                      89\n",
      "SUSANA LOPEZ DE VALENCIA                                               32\n",
      "TABLONES                                                               27\n",
      "TECNOLÃGICO EN INFORMATICA Y COMERCIO DE BUENAVENTURA INCOMEB         26\n",
      "TERESA CALDERÃN DE LASSO                                              27\n",
      "TÃCNICO INDUSTRIAL GERARDO VALENCIA CANO - SEDE PRINCIPAL            181\n",
      "UNIDAD TECNOLOGICA DEL SUR                                             27\n",
      "UNION PROFESIONAL PARA LA EDUCACION Y EL TRABAJO UPET                   4\n",
      "UNIVERSIDAD NACIONAL ABIERTA Y A DISTANCIA                              8\n",
      "VERNOT SCHOOL                                                           8\n",
      "XINSTITUTO TECNICO COMERCIAL PILOTO                                     5\n",
      "Name: COLE_NOMBRE_SEDE, dtype: int64\n",
      "Elementos null/NaN 0\n",
      "__________________\n",
      "Elementos diferentes de null/NaN: 61335\n",
      "__________________\n",
      "(61335,)\n",
      "None\n"
     ]
    }
   ],
   "source": [
    "c = 'COLE_NOMBRE_SEDE'\n",
    "print(data_2006[c].value_counts().sort_index().index)\n",
    "print(data_2006[c].value_counts().sort_index())\n",
    "print(missing_data(data_2006[c]))"
   ]
  },
  {
   "cell_type": "code",
   "execution_count": 47,
   "metadata": {
    "collapsed": true
   },
   "outputs": [],
   "source": [
    "data_2006 = data_2006.drop(['COLE_NOMBRE_SEDE'], axis = 1)"
   ]
  },
  {
   "cell_type": "code",
   "execution_count": 48,
   "metadata": {
    "collapsed": false
   },
   "outputs": [
    {
     "name": "stdout",
     "output_type": "stream",
     "text": [
      "Index(['A', 'B', 'F'], dtype='object')\n",
      "A    39078\n",
      "B    12717\n",
      "F     9540\n",
      "Name: COLE_CALENDARIO, dtype: int64\n",
      "Elementos null/NaN 0\n",
      "__________________\n",
      "Elementos diferentes de null/NaN: 61335\n",
      "__________________\n",
      "(61335,)\n",
      "None\n"
     ]
    }
   ],
   "source": [
    "c = 'COLE_CALENDARIO'\n",
    "print(data_2006[c].value_counts().sort_index().index)\n",
    "print(data_2006[c].value_counts().sort_index())\n",
    "print(missing_data(data_2006[c]))"
   ]
  },
  {
   "cell_type": "code",
   "execution_count": 49,
   "metadata": {
    "collapsed": false
   },
   "outputs": [
    {
     "name": "stdout",
     "output_type": "stream",
     "text": [
      "Index(['F', 'M', 'X'], dtype='object')\n",
      "F     4289\n",
      "M     1107\n",
      "X    55939\n",
      "Name: COLE_GENERO, dtype: int64\n",
      "Elementos null/NaN 0\n",
      "__________________\n",
      "Elementos diferentes de null/NaN: 61335\n",
      "__________________\n",
      "(61335,)\n",
      "None\n"
     ]
    }
   ],
   "source": [
    "c = 'COLE_GENERO'\n",
    "print(data_2006[c].value_counts().sort_index().index)\n",
    "print(data_2006[c].value_counts().sort_index())\n",
    "print(missing_data(data_2006[c]))"
   ]
  },
  {
   "cell_type": "code",
   "execution_count": 50,
   "metadata": {
    "collapsed": false
   },
   "outputs": [
    {
     "name": "stdout",
     "output_type": "stream",
     "text": [
      "Index(['N', 'O'], dtype='object')\n",
      "N    25071\n",
      "O    36264\n",
      "Name: COLE_NATURALEZA, dtype: int64\n",
      "Elementos null/NaN 0\n",
      "__________________\n",
      "Elementos diferentes de null/NaN: 61335\n",
      "__________________\n",
      "(61335,)\n",
      "None\n"
     ]
    }
   ],
   "source": [
    "c = 'COLE_NATURALEZA'\n",
    "print(data_2006[c].value_counts().sort_index().index)\n",
    "print(data_2006[c].value_counts().sort_index())\n",
    "print(missing_data(data_2006[c]))"
   ]
  },
  {
   "cell_type": "code",
   "execution_count": 51,
   "metadata": {
    "collapsed": false
   },
   "outputs": [
    {
     "name": "stdout",
     "output_type": "stream",
     "text": [
      "Float64Index([0.0, 1.0], dtype='float64')\n",
      "0.0    55867\n",
      "1.0     4032\n",
      "Name: COLE_BILINGUE, dtype: int64\n",
      "Elementos null/NaN 1436\n",
      "__________________\n",
      "Elementos diferentes de null/NaN: 59899\n",
      "__________________\n",
      "(59899,)\n",
      "None\n"
     ]
    }
   ],
   "source": [
    "c = 'COLE_BILINGUE'\n",
    "print(data_2006[c].value_counts().sort_index().index)\n",
    "print(data_2006[c].value_counts().sort_index())\n",
    "print(missing_data(data_2006[c]))"
   ]
  },
  {
   "cell_type": "code",
   "execution_count": 52,
   "metadata": {
    "collapsed": false
   },
   "outputs": [
    {
     "name": "stdout",
     "output_type": "stream",
     "text": [
      "Index(['COMPLETA U ORDINARIA', 'MAÃANA', 'NOCHE', 'SABATINA - DOMINICAL',\n",
      "       'TARDE'],\n",
      "      dtype='object')\n",
      "COMPLETA U ORDINARIA     9572\n",
      "MAÃANA                 38309\n",
      "NOCHE                    4447\n",
      "SABATINA - DOMINICAL     1816\n",
      "TARDE                    7191\n",
      "Name: COLE_JORNADA, dtype: int64\n",
      "Elementos null/NaN 0\n",
      "__________________\n",
      "Elementos diferentes de null/NaN: 61335\n",
      "__________________\n",
      "(61335,)\n",
      "None\n"
     ]
    }
   ],
   "source": [
    "c = 'COLE_JORNADA'\n",
    "print(data_2006[c].value_counts().sort_index().index)\n",
    "print(data_2006[c].value_counts().sort_index())\n",
    "print(missing_data(data_2006[c]))"
   ]
  },
  {
   "cell_type": "code",
   "execution_count": 53,
   "metadata": {
    "collapsed": true
   },
   "outputs": [],
   "source": [
    "data_2006['COLE_JORNADA'] = data_2006['COLE_JORNADA'].replace('MAÃANA', 'MAÑANA')"
   ]
  },
  {
   "cell_type": "code",
   "execution_count": 54,
   "metadata": {
    "collapsed": false
   },
   "outputs": [
    {
     "name": "stdout",
     "output_type": "stream",
     "text": [
      "Index(['ACADEMICO', 'ACADEMICO Y TECNICO', 'NORMALISTA', 'TECNICO'], dtype='object')\n",
      "ACADEMICO              29847\n",
      "ACADEMICO Y TECNICO    11777\n",
      "NORMALISTA              1301\n",
      "TECNICO                18410\n",
      "Name: COLE_CARACTER, dtype: int64\n",
      "Elementos null/NaN 0\n",
      "__________________\n",
      "Elementos diferentes de null/NaN: 61335\n",
      "__________________\n",
      "(61335,)\n",
      "None\n"
     ]
    }
   ],
   "source": [
    "c = 'COLE_CARACTER'\n",
    "print(data_2006[c].value_counts().sort_index().index)\n",
    "print(data_2006[c].value_counts().sort_index())\n",
    "print(missing_data(data_2006[c]))"
   ]
  },
  {
   "cell_type": "code",
   "execution_count": 55,
   "metadata": {
    "collapsed": false,
    "scrolled": true
   },
   "outputs": [
    {
     "name": "stdout",
     "output_type": "stream",
     "text": [
      "Float64Index([ 1.0,  2.0,  3.0,  4.0,  5.0,  6.0,  7.0,  8.0,  9.0, 10.0, 11.0,\n",
      "              12.0, 13.0, 14.0, 15.0, 16.0, 99.0],\n",
      "             dtype='float64')\n",
      "1.0     2932\n",
      "2.0       21\n",
      "3.0      101\n",
      "4.0        3\n",
      "5.0        2\n",
      "6.0        5\n",
      "7.0        5\n",
      "8.0       13\n",
      "9.0       12\n",
      "10.0       3\n",
      "11.0     772\n",
      "12.0       2\n",
      "13.0      19\n",
      "14.0       1\n",
      "15.0       1\n",
      "16.0       4\n",
      "99.0    1541\n",
      "Name: ESTU_ETNIA, dtype: int64\n",
      "Elementos null/NaN 55898\n",
      "__________________\n",
      "Elementos diferentes de null/NaN: 5437\n",
      "__________________\n",
      "(5437,)\n",
      "None\n"
     ]
    }
   ],
   "source": [
    "c = 'ESTU_ETNIA'\n",
    "print(data_2006[c].value_counts().sort_index().index)\n",
    "print(data_2006[c].value_counts().sort_index())\n",
    "print(missing_data(data_2006[c]))"
   ]
  },
  {
   "cell_type": "code",
   "execution_count": 56,
   "metadata": {
    "collapsed": false
   },
   "outputs": [
    {
     "name": "stdout",
     "output_type": "stream",
     "text": [
      "Float64Index([0.0, 1.0], dtype='float64')\n",
      "0.0     1\n",
      "1.0    84\n",
      "Name: FAMI_LEE_ESCRIBE_PADRE, dtype: int64\n",
      "Elementos null/NaN 61250\n",
      "__________________\n",
      "Elementos diferentes de null/NaN: 85\n",
      "__________________\n",
      "(85,)\n",
      "None\n"
     ]
    }
   ],
   "source": [
    "c = 'FAMI_LEE_ESCRIBE_PADRE'\n",
    "print(data_2006[c].value_counts().sort_index().index)\n",
    "print(data_2006[c].value_counts().sort_index())\n",
    "print(missing_data(data_2006[c]))"
   ]
  },
  {
   "cell_type": "code",
   "execution_count": 57,
   "metadata": {
    "collapsed": false
   },
   "outputs": [
    {
     "name": "stdout",
     "output_type": "stream",
     "text": [
      "Float64Index([0.0, 1.0], dtype='float64')\n",
      "0.0     3\n",
      "1.0    82\n",
      "Name: FAMI_LEE_ESCRIBE_MADRE, dtype: int64\n",
      "Elementos null/NaN 61250\n",
      "__________________\n",
      "Elementos diferentes de null/NaN: 85\n",
      "__________________\n",
      "(85,)\n",
      "None\n"
     ]
    }
   ],
   "source": [
    "c = 'FAMI_LEE_ESCRIBE_MADRE'\n",
    "print(data_2006[c].value_counts().sort_index().index)\n",
    "print(data_2006[c].value_counts().sort_index())\n",
    "print(missing_data(data_2006[c]))"
   ]
  },
  {
   "cell_type": "code",
   "execution_count": 58,
   "metadata": {
    "collapsed": false,
    "scrolled": true
   },
   "outputs": [
    {
     "name": "stdout",
     "output_type": "stream",
     "text": [
      "Float64Index([ 0.0,  1.0,  2.0,  3.0,  4.0,  5.0,  6.0,  7.0,  8.0,  9.0, 10.0,\n",
      "              11.0, 12.0, 13.0, 14.0, 15.0, 16.0, 17.0, 99.0],\n",
      "             dtype='float64')\n",
      "0.0      80\n",
      "1.0       4\n",
      "2.0       9\n",
      "3.0      21\n",
      "4.0      32\n",
      "5.0       7\n",
      "6.0      12\n",
      "7.0       4\n",
      "8.0       3\n",
      "9.0     299\n",
      "10.0    218\n",
      "11.0    163\n",
      "12.0    270\n",
      "13.0     26\n",
      "14.0     82\n",
      "15.0     51\n",
      "16.0    448\n",
      "17.0    316\n",
      "99.0     14\n",
      "Name: FAMI_EDUCA_PADRE, dtype: int64\n",
      "Elementos null/NaN 59276\n",
      "__________________\n",
      "Elementos diferentes de null/NaN: 2059\n",
      "__________________\n",
      "(2059,)\n",
      "None\n"
     ]
    }
   ],
   "source": [
    "c = 'FAMI_EDUCA_PADRE'\n",
    "print(data_2006[c].value_counts().sort_index().index)\n",
    "print(data_2006[c].value_counts().sort_index())\n",
    "print(missing_data(data_2006[c]))"
   ]
  },
  {
   "cell_type": "code",
   "execution_count": 59,
   "metadata": {
    "collapsed": false,
    "scrolled": true
   },
   "outputs": [
    {
     "name": "stdout",
     "output_type": "stream",
     "text": [
      "Float64Index([ 0.0,  2.0,  3.0,  4.0,  5.0,  6.0,  7.0,  8.0,  9.0, 10.0, 11.0,\n",
      "              12.0, 13.0, 14.0, 15.0, 16.0, 17.0, 99.0],\n",
      "             dtype='float64')\n",
      "0.0      50\n",
      "2.0       9\n",
      "3.0      19\n",
      "4.0      37\n",
      "5.0       9\n",
      "6.0       7\n",
      "7.0      11\n",
      "8.0       1\n",
      "9.0     301\n",
      "10.0    223\n",
      "11.0    182\n",
      "12.0    302\n",
      "13.0     34\n",
      "14.0    108\n",
      "15.0     84\n",
      "16.0    453\n",
      "17.0    213\n",
      "99.0     17\n",
      "Name: FAMI_EDUCA_MADRE, dtype: int64\n",
      "Elementos null/NaN 59275\n",
      "__________________\n",
      "Elementos diferentes de null/NaN: 2060\n",
      "__________________\n",
      "(2060,)\n",
      "None\n"
     ]
    }
   ],
   "source": [
    "c = 'FAMI_EDUCA_MADRE'\n",
    "print(data_2006[c].value_counts().sort_index().index)\n",
    "print(data_2006[c].value_counts().sort_index())\n",
    "print(missing_data(data_2006[c]))"
   ]
  },
  {
   "cell_type": "code",
   "execution_count": 60,
   "metadata": {
    "collapsed": false,
    "scrolled": true
   },
   "outputs": [
    {
     "name": "stdout",
     "output_type": "stream",
     "text": [
      "Float64Index([ 1.0,  2.0,  3.0,  4.0,  5.0,  6.0,  7.0,  8.0,  9.0, 10.0, 11.0,\n",
      "              12.0, 13.0, 14.0, 15.0, 16.0, 17.0, 18.0, 19.0, 20.0, 21.0, 22.0,\n",
      "              23.0, 26.0, 99.0],\n",
      "             dtype='float64')\n",
      "1.0       1\n",
      "2.0       1\n",
      "3.0       5\n",
      "4.0       6\n",
      "5.0      15\n",
      "6.0      17\n",
      "7.0       5\n",
      "8.0      11\n",
      "9.0      13\n",
      "10.0      1\n",
      "11.0      2\n",
      "12.0     11\n",
      "13.0    207\n",
      "14.0    220\n",
      "15.0    143\n",
      "16.0     96\n",
      "17.0     91\n",
      "18.0     51\n",
      "19.0    195\n",
      "20.0    173\n",
      "21.0    374\n",
      "22.0     29\n",
      "23.0    166\n",
      "26.0    213\n",
      "99.0      7\n",
      "Name: FAMI_OCUPA_PADRE, dtype: int64\n",
      "Elementos null/NaN 59282\n",
      "__________________\n",
      "Elementos diferentes de null/NaN: 2053\n",
      "__________________\n",
      "(2053,)\n",
      "None\n"
     ]
    }
   ],
   "source": [
    "c = 'FAMI_OCUPA_PADRE'\n",
    "print(data_2006[c].value_counts().sort_index().index)\n",
    "print(data_2006[c].value_counts().sort_index())\n",
    "print(missing_data(data_2006[c]))"
   ]
  },
  {
   "cell_type": "code",
   "execution_count": 61,
   "metadata": {
    "collapsed": false,
    "scrolled": true
   },
   "outputs": [
    {
     "name": "stdout",
     "output_type": "stream",
     "text": [
      "Float64Index([ 2.0,  3.0,  4.0,  5.0,  6.0,  7.0,  8.0,  9.0, 10.0, 11.0, 12.0,\n",
      "              13.0, 14.0, 15.0, 16.0, 17.0, 18.0, 19.0, 20.0, 21.0, 22.0, 23.0,\n",
      "              26.0, 99.0],\n",
      "             dtype='float64')\n",
      "2.0       2\n",
      "3.0       1\n",
      "4.0      11\n",
      "5.0       6\n",
      "6.0       8\n",
      "7.0       3\n",
      "8.0       4\n",
      "9.0       3\n",
      "10.0     49\n",
      "11.0      1\n",
      "12.0      5\n",
      "13.0     78\n",
      "14.0    119\n",
      "15.0     86\n",
      "16.0    110\n",
      "17.0     96\n",
      "18.0     54\n",
      "19.0     98\n",
      "20.0    117\n",
      "21.0    207\n",
      "22.0    750\n",
      "23.0     95\n",
      "26.0    154\n",
      "99.0      1\n",
      "Name: FAMI_OCUPA_MADRE, dtype: int64\n",
      "Elementos null/NaN 59277\n",
      "__________________\n",
      "Elementos diferentes de null/NaN: 2058\n",
      "__________________\n",
      "(2058,)\n",
      "None\n"
     ]
    }
   ],
   "source": [
    "c = 'FAMI_OCUPA_MADRE'\n",
    "print(data_2006[c].value_counts().sort_index().index)\n",
    "print(data_2006[c].value_counts().sort_index())\n",
    "print(missing_data(data_2006[c]))"
   ]
  },
  {
   "cell_type": "code",
   "execution_count": 62,
   "metadata": {
    "collapsed": false
   },
   "outputs": [
    {
     "name": "stdout",
     "output_type": "stream",
     "text": [
      "Float64Index([0.0, 1.0, 2.0, 3.0, 4.0, 5.0, 6.0, 7.0, 8.0, 10.0], dtype='float64')\n",
      "0.0      7\n",
      "1.0     29\n",
      "2.0     23\n",
      "3.0     19\n",
      "4.0      6\n",
      "5.0      2\n",
      "6.0      1\n",
      "7.0      3\n",
      "8.0      1\n",
      "10.0     1\n",
      "Name: FAMI_NUM_HERMANOS, dtype: int64\n",
      "Elementos null/NaN 61243\n",
      "__________________\n",
      "Elementos diferentes de null/NaN: 92\n",
      "__________________\n",
      "(92,)\n",
      "None\n"
     ]
    }
   ],
   "source": [
    "c = 'FAMI_NUM_HERMANOS'\n",
    "print(data_2006[c].value_counts().sort_index().index)\n",
    "print(data_2006[c].value_counts().sort_index())\n",
    "print(missing_data(data_2006[c]))"
   ]
  },
  {
   "cell_type": "code",
   "execution_count": 63,
   "metadata": {
    "collapsed": false,
    "scrolled": true
   },
   "outputs": [
    {
     "name": "stdout",
     "output_type": "stream",
     "text": [
      "Float64Index([1.0, 2.0, 3.0, 4.0, 5.0, 6.0, 7.0, 8.0, 9.0, 88.0, 99.0], dtype='float64')\n",
      "1.0      6\n",
      "2.0      8\n",
      "3.0     15\n",
      "4.0     69\n",
      "5.0     10\n",
      "6.0     31\n",
      "7.0     21\n",
      "8.0     55\n",
      "9.0     19\n",
      "88.0    96\n",
      "99.0     9\n",
      "Name: FAMI_EDUCA_HERMANO, dtype: int64\n",
      "Elementos null/NaN 60996\n",
      "__________________\n",
      "Elementos diferentes de null/NaN: 339\n",
      "__________________\n",
      "(339,)\n",
      "None\n"
     ]
    }
   ],
   "source": [
    "c = 'FAMI_EDUCA_HERMANO'\n",
    "print(data_2006[c].value_counts().sort_index().index)\n",
    "print(data_2006[c].value_counts().sort_index())\n",
    "print(missing_data(data_2006[c]))"
   ]
  },
  {
   "cell_type": "markdown",
   "metadata": {},
   "source": [
    "# <span style = 'color: red'> REVISAR </span>"
   ]
  },
  {
   "cell_type": "code",
   "execution_count": 64,
   "metadata": {
    "collapsed": false
   },
   "outputs": [
    {
     "name": "stdout",
     "output_type": "stream",
     "text": [
      "Float64Index([1.0, 2.0, 88.0], dtype='float64')\n",
      "1.0     43\n",
      "2.0      4\n",
      "88.0    38\n",
      "Name: FAMI_HERMANOS_ESTUDIAN, dtype: int64\n",
      "Elementos null/NaN 61250\n",
      "__________________\n",
      "Elementos diferentes de null/NaN: 85\n",
      "__________________\n",
      "(85,)\n",
      "None\n"
     ]
    }
   ],
   "source": [
    "c = 'FAMI_HERMANOS_ESTUDIAN'\n",
    "print(data_2006[c].value_counts().sort_index().index)\n",
    "print(data_2006[c].value_counts().sort_index())\n",
    "print(missing_data(data_2006[c]))"
   ]
  },
  {
   "cell_type": "code",
   "execution_count": 65,
   "metadata": {
    "collapsed": false
   },
   "outputs": [
    {
     "name": "stdout",
     "output_type": "stream",
     "text": [
      "Float64Index([1.0, 2.0, 3.0, 4.0, 5.0, 6.0, 8.0], dtype='float64')\n",
      "1.0    359\n",
      "2.0    444\n",
      "3.0    369\n",
      "4.0    295\n",
      "5.0    272\n",
      "6.0    330\n",
      "8.0      3\n",
      "Name: FAMI_ESTRATO_VIVIENDA, dtype: int64\n",
      "Elementos null/NaN 59263\n",
      "__________________\n",
      "Elementos diferentes de null/NaN: 2072\n",
      "__________________\n",
      "(2072,)\n",
      "None\n"
     ]
    }
   ],
   "source": [
    "c = 'FAMI_ESTRATO_VIVIENDA'\n",
    "print(data_2006[c].value_counts().sort_index().index)\n",
    "print(data_2006[c].value_counts().sort_index())\n",
    "print(missing_data(data_2006[c]))"
   ]
  },
  {
   "cell_type": "code",
   "execution_count": 66,
   "metadata": {
    "collapsed": true
   },
   "outputs": [],
   "source": [
    "data_2006['FAMI_ESTRATO_VIVIENDA'] = data_2006['FAMI_ESTRATO_VIVIENDA'].replace(8.0, np.nan)"
   ]
  },
  {
   "cell_type": "code",
   "execution_count": 67,
   "metadata": {
    "collapsed": false
   },
   "outputs": [
    {
     "name": "stdout",
     "output_type": "stream",
     "text": [
      "Float64Index([1.0, 2.0, 3.0, 4.0, 5.0], dtype='float64')\n",
      "1.0     451\n",
      "2.0     257\n",
      "3.0      69\n",
      "4.0      24\n",
      "5.0    1191\n",
      "Name: FAMI_NIVEL_SISBEN, dtype: int64\n",
      "Elementos null/NaN 59343\n",
      "__________________\n",
      "Elementos diferentes de null/NaN: 1992\n",
      "__________________\n",
      "(1992,)\n",
      "None\n"
     ]
    }
   ],
   "source": [
    "c = 'FAMI_NIVEL_SISBEN'\n",
    "print(data_2006[c].value_counts().sort_index().index)\n",
    "print(data_2006[c].value_counts().sort_index())\n",
    "print(missing_data(data_2006[c]))"
   ]
  },
  {
   "cell_type": "code",
   "execution_count": 68,
   "metadata": {
    "collapsed": false
   },
   "outputs": [
    {
     "name": "stdout",
     "output_type": "stream",
     "text": [
      "Float64Index([1.0, 2.0, 3.0, 4.0, 5.0, 6.0, 7.0, 8.0, 9.0, 10.0, 11.0, 12.0], dtype='float64')\n",
      "1.0      68\n",
      "2.0     224\n",
      "3.0     440\n",
      "4.0     585\n",
      "5.0     367\n",
      "6.0     153\n",
      "7.0      68\n",
      "8.0      32\n",
      "9.0      12\n",
      "10.0     20\n",
      "11.0      7\n",
      "12.0     14\n",
      "Name: FAMI_PERSONAS_HOGAR, dtype: int64\n",
      "Elementos null/NaN 59345\n",
      "__________________\n",
      "Elementos diferentes de null/NaN: 1990\n",
      "__________________\n",
      "(1990,)\n",
      "None\n"
     ]
    }
   ],
   "source": [
    "c = 'FAMI_PERSONAS_HOGAR'\n",
    "print(data_2006[c].value_counts().sort_index().index)\n",
    "print(data_2006[c].value_counts().sort_index())\n",
    "print(missing_data(data_2006[c]))"
   ]
  },
  {
   "cell_type": "code",
   "execution_count": 69,
   "metadata": {
    "collapsed": false
   },
   "outputs": [
    {
     "name": "stdout",
     "output_type": "stream",
     "text": [
      "Float64Index([1.0, 2.0, 3.0, 4.0, 5.0], dtype='float64')\n",
      "1.0     41\n",
      "2.0    396\n",
      "3.0    115\n",
      "4.0    834\n",
      "5.0    606\n",
      "Name: FAMI_PISOSHOGAR, dtype: int64\n",
      "Elementos null/NaN 59343\n",
      "__________________\n",
      "Elementos diferentes de null/NaN: 1992\n",
      "__________________\n",
      "(1992,)\n",
      "None\n"
     ]
    }
   ],
   "source": [
    "c = 'FAMI_PISOSHOGAR'\n",
    "print(data_2006[c].value_counts().sort_index().index)\n",
    "print(data_2006[c].value_counts().sort_index())\n",
    "print(missing_data(data_2006[c]))"
   ]
  },
  {
   "cell_type": "code",
   "execution_count": 70,
   "metadata": {
    "collapsed": false
   },
   "outputs": [
    {
     "name": "stdout",
     "output_type": "stream",
     "text": [
      "Float64Index([1.0, 2.0, 3.0, 4.0, 5.0, 6.0, 7.0, 8.0, 9.0, 10.0], dtype='float64')\n",
      "1.0       9\n",
      "2.0      39\n",
      "3.0      96\n",
      "4.0     100\n",
      "5.0      76\n",
      "6.0      39\n",
      "7.0      27\n",
      "8.0      10\n",
      "9.0       2\n",
      "10.0      5\n",
      "Name: FAMI_CUARTOS_HOGAR, dtype: int64\n",
      "Elementos null/NaN 60932\n",
      "__________________\n",
      "Elementos diferentes de null/NaN: 403\n",
      "__________________\n",
      "(403,)\n",
      "None\n"
     ]
    }
   ],
   "source": [
    "c = 'FAMI_CUARTOS_HOGAR'\n",
    "print(data_2006[c].value_counts().sort_index().index)\n",
    "print(data_2006[c].value_counts().sort_index())\n",
    "print(missing_data(data_2006[c]))"
   ]
  },
  {
   "cell_type": "code",
   "execution_count": 71,
   "metadata": {
    "collapsed": false
   },
   "outputs": [
    {
     "name": "stdout",
     "output_type": "stream",
     "text": [
      "Float64Index([1.0, 2.0, 3.0, 4.0, 5.0, 6.0, 7.0, 8.0, 9.0, 10.0], dtype='float64')\n",
      "1.0     136\n",
      "2.0     518\n",
      "3.0     807\n",
      "4.0     367\n",
      "5.0     100\n",
      "6.0      24\n",
      "7.0      10\n",
      "8.0       3\n",
      "9.0       3\n",
      "10.0      3\n",
      "Name: FAMI_DORMITORIOS_HOGAR, dtype: int64\n",
      "Elementos null/NaN 59364\n",
      "__________________\n",
      "Elementos diferentes de null/NaN: 1971\n",
      "__________________\n",
      "(1971,)\n",
      "None\n"
     ]
    }
   ],
   "source": [
    "c = 'FAMI_DORMITORIOS_HOGAR'\n",
    "print(data_2006[c].value_counts().sort_index().index)\n",
    "print(data_2006[c].value_counts().sort_index())\n",
    "print(missing_data(data_2006[c]))"
   ]
  },
  {
   "cell_type": "code",
   "execution_count": 72,
   "metadata": {
    "collapsed": false
   },
   "outputs": [
    {
     "name": "stdout",
     "output_type": "stream",
     "text": [
      "Float64Index([0.0, 1.0, 3.0, 4.0], dtype='float64')\n",
      "0.0     422\n",
      "1.0      16\n",
      "3.0    1551\n",
      "4.0       3\n",
      "Name: FAMI_COMPUTADOR, dtype: int64\n",
      "Elementos null/NaN 59343\n",
      "__________________\n",
      "Elementos diferentes de null/NaN: 1992\n",
      "__________________\n",
      "(1992,)\n",
      "None\n"
     ]
    }
   ],
   "source": [
    "c = 'FAMI_COMPUTADOR'\n",
    "print(data_2006[c].value_counts().sort_index().index)\n",
    "print(data_2006[c].value_counts().sort_index())\n",
    "print(missing_data(data_2006[c]))"
   ]
  },
  {
   "cell_type": "code",
   "execution_count": 73,
   "metadata": {
    "collapsed": false
   },
   "outputs": [
    {
     "name": "stdout",
     "output_type": "stream",
     "text": [
      "Float64Index([1.0, 2.0, 3.0, 4.0, 5.0, 6.0, 7.0], dtype='float64')\n",
      "1.0    253\n",
      "2.0    572\n",
      "3.0    303\n",
      "4.0    225\n",
      "5.0    148\n",
      "6.0    144\n",
      "7.0    347\n",
      "Name: FAMI_INGRESO_FMILIAR_MENSUAL, dtype: int64\n",
      "Elementos null/NaN 59343\n",
      "__________________\n",
      "Elementos diferentes de null/NaN: 1992\n",
      "__________________\n",
      "(1992,)\n",
      "None\n"
     ]
    }
   ],
   "source": [
    "c = 'FAMI_INGRESO_FMILIAR_MENSUAL'\n",
    "print(data_2006[c].value_counts().sort_index().index)\n",
    "print(data_2006[c].value_counts().sort_index())\n",
    "print(missing_data(data_2006[c]))"
   ]
  },
  {
   "cell_type": "code",
   "execution_count": 74,
   "metadata": {
    "collapsed": false
   },
   "outputs": [
    {
     "name": "stdout",
     "output_type": "stream",
     "text": [
      "Float64Index([0.0, 1.0, 2.0, 3.0, 4.0, 5.0, 6.0, 7.0], dtype='float64')\n",
      "0.0    993\n",
      "1.0     17\n",
      "2.0      3\n",
      "3.0    316\n",
      "4.0    159\n",
      "5.0    304\n",
      "6.0      4\n",
      "7.0      3\n",
      "Name: ESTU_TRABAJA, dtype: int64\n",
      "Elementos null/NaN 59536\n",
      "__________________\n",
      "Elementos diferentes de null/NaN: 1799\n",
      "__________________\n",
      "(1799,)\n",
      "None\n"
     ]
    }
   ],
   "source": [
    "c = 'ESTU_TRABAJA'\n",
    "print(data_2006[c].value_counts().sort_index().index)\n",
    "print(data_2006[c].value_counts().sort_index())\n",
    "print(missing_data(data_2006[c]))"
   ]
  },
  {
   "cell_type": "code",
   "execution_count": 75,
   "metadata": {
    "collapsed": false,
    "scrolled": true
   },
   "outputs": [
    {
     "name": "stdout",
     "output_type": "stream",
     "text": [
      "Float64Index([ 0.0,  1.0,  2.0,  3.0,  4.0,  5.0,  6.0,  7.0,  8.0,  9.0, 10.0,\n",
      "              11.0, 12.0, 13.0, 14.0, 15.0, 16.0, 17.0, 18.0, 19.0, 20.0],\n",
      "             dtype='float64')\n",
      "0.0       1\n",
      "1.0       1\n",
      "2.0       3\n",
      "3.0       6\n",
      "4.0      22\n",
      "5.0      18\n",
      "6.0      19\n",
      "7.0       4\n",
      "8.0      63\n",
      "9.0       8\n",
      "10.0     39\n",
      "11.0      3\n",
      "12.0     14\n",
      "13.0      2\n",
      "14.0      8\n",
      "15.0     11\n",
      "16.0     13\n",
      "17.0      2\n",
      "18.0     22\n",
      "19.0     10\n",
      "20.0    514\n",
      "Name: ESTU_HORAS_TRABAJA, dtype: int64\n",
      "Elementos null/NaN 60552\n",
      "__________________\n",
      "Elementos diferentes de null/NaN: 783\n",
      "__________________\n",
      "(783,)\n",
      "None\n"
     ]
    }
   ],
   "source": [
    "c = 'ESTU_HORAS_TRABAJA'\n",
    "print(data_2006[c].value_counts().sort_index().index)\n",
    "print(data_2006[c].value_counts().sort_index())\n",
    "print(missing_data(data_2006[c]))"
   ]
  },
  {
   "cell_type": "code",
   "execution_count": 76,
   "metadata": {
    "collapsed": false
   },
   "outputs": [
    {
     "name": "stdout",
     "output_type": "stream",
     "text": [
      "Float64Index([0.0, 1.0, 2.0, 3.0, 4.0, 5.0, 6.0, 7.0, 8.0, 11.0], dtype='float64')\n",
      "0.0     30110\n",
      "1.0      9177\n",
      "2.0      4981\n",
      "3.0      3684\n",
      "4.0      2970\n",
      "5.0      2970\n",
      "6.0      2511\n",
      "7.0      4901\n",
      "8.0        10\n",
      "11.0        1\n",
      "Name: COLE_VALOR_PENSION, dtype: int64\n",
      "Elementos null/NaN 20\n",
      "__________________\n",
      "Elementos diferentes de null/NaN: 61315\n",
      "__________________\n",
      "(61315,)\n",
      "None\n"
     ]
    }
   ],
   "source": [
    "c = 'COLE_VALOR_PENSION'\n",
    "print(data_2006[c].value_counts().sort_index().index)\n",
    "print(data_2006[c].value_counts().sort_index())\n",
    "print(missing_data(data_2006[c]))"
   ]
  },
  {
   "cell_type": "code",
   "execution_count": 77,
   "metadata": {
    "collapsed": false
   },
   "outputs": [
    {
     "name": "stdout",
     "output_type": "stream",
     "text": [
      "Float64Index([1.0, 2.0, 3.0], dtype='float64')\n",
      "1.0    1\n",
      "2.0    2\n",
      "3.0    1\n",
      "Name: ESTU_CARRDESEADA_TIPO, dtype: int64\n",
      "Elementos null/NaN 61331\n",
      "__________________\n",
      "Elementos diferentes de null/NaN: 4\n",
      "__________________\n",
      "(4,)\n",
      "None\n"
     ]
    }
   ],
   "source": [
    "c = 'ESTU_CARRDESEADA_TIPO'\n",
    "print(data_2006[c].value_counts().sort_index().index)\n",
    "print(data_2006[c].value_counts().sort_index())\n",
    "print(missing_data(data_2006[c]))"
   ]
  },
  {
   "cell_type": "code",
   "execution_count": 78,
   "metadata": {
    "collapsed": false
   },
   "outputs": [
    {
     "name": "stdout",
     "output_type": "stream",
     "text": [
      "Float64Index([18.0, 23.0, 45.0, 58.0], dtype='float64')\n",
      "18.0    1\n",
      "23.0    1\n",
      "45.0    1\n",
      "58.0    1\n",
      "Name: ESTU_CARRDESEADA_NUCLEO, dtype: int64\n",
      "Elementos null/NaN 61331\n",
      "__________________\n",
      "Elementos diferentes de null/NaN: 4\n",
      "__________________\n",
      "(4,)\n",
      "None\n"
     ]
    }
   ],
   "source": [
    "c = 'ESTU_CARRDESEADA_NUCLEO'\n",
    "print(data_2006[c].value_counts().sort_index().index)\n",
    "print(data_2006[c].value_counts().sort_index())\n",
    "print(missing_data(data_2006[c]))"
   ]
  },
  {
   "cell_type": "code",
   "execution_count": 79,
   "metadata": {
    "collapsed": false,
    "scrolled": true
   },
   "outputs": [
    {
     "name": "stdout",
     "output_type": "stream",
     "text": [
      "Float64Index([1101.0, 1102.0, 1103.0, 1104.0, 1105.0, 1106.0, 1107.0, 1108.0,\n",
      "              1109.0, 1110.0,\n",
      "              ...\n",
      "              9103.0, 9104.0, 9105.0, 9107.0, 9110.0, 9111.0, 9112.0, 9113.0,\n",
      "              9114.0, 9115.0],\n",
      "             dtype='float64', length=298)\n",
      "1101.0     1523\n",
      "1102.0      101\n",
      "1103.0       93\n",
      "1104.0      429\n",
      "1105.0       59\n",
      "1106.0       57\n",
      "1107.0        7\n",
      "1108.0       14\n",
      "1109.0        1\n",
      "1110.0     1083\n",
      "1111.0      375\n",
      "1112.0      180\n",
      "1113.0       38\n",
      "1114.0       47\n",
      "1115.0        4\n",
      "1117.0       30\n",
      "1118.0        1\n",
      "1119.0       21\n",
      "1120.0        3\n",
      "1121.0        7\n",
      "1122.0      109\n",
      "1123.0        2\n",
      "1124.0        2\n",
      "1125.0        1\n",
      "1201.0      499\n",
      "1202.0       15\n",
      "1203.0    14762\n",
      "1204.0       70\n",
      "1205.0       27\n",
      "1206.0     4827\n",
      "          ...  \n",
      "4812.0        8\n",
      "4813.0       16\n",
      "4814.0       30\n",
      "4817.0       12\n",
      "4818.0        6\n",
      "4822.0        5\n",
      "4823.0        5\n",
      "4825.0        6\n",
      "4826.0        6\n",
      "4827.0        3\n",
      "4828.0       24\n",
      "4829.0        3\n",
      "4832.0        3\n",
      "4835.0       11\n",
      "4837.0        2\n",
      "4838.0        9\n",
      "5801.0        2\n",
      "5802.0       10\n",
      "9101.0      117\n",
      "9102.0       15\n",
      "9103.0      187\n",
      "9104.0      141\n",
      "9105.0       39\n",
      "9107.0        8\n",
      "9110.0      162\n",
      "9111.0      603\n",
      "9112.0       32\n",
      "9113.0        1\n",
      "9114.0       18\n",
      "9115.0      117\n",
      "Name: ESTU_IES_COD_DESEADA, dtype: int64\n",
      "Elementos null/NaN 25117\n",
      "__________________\n",
      "Elementos diferentes de null/NaN: 36218\n",
      "__________________\n",
      "(36218,)\n",
      "None\n"
     ]
    }
   ],
   "source": [
    "c = 'ESTU_IES_COD_DESEADA'\n",
    "print(data_2006[c].value_counts().sort_index().index)\n",
    "print(data_2006[c].value_counts().sort_index())\n",
    "print(missing_data(data_2006[c]))"
   ]
  },
  {
   "cell_type": "code",
   "execution_count": 80,
   "metadata": {
    "collapsed": false,
    "scrolled": true
   },
   "outputs": [
    {
     "name": "stdout",
     "output_type": "stream",
     "text": [
      "Index(['AGUACHICA', 'ANDES', 'ARAUCA', 'ARMENIA', 'BARRANCABERMEJA',\n",
      "       'BARRANQUILLA', 'BELLO', 'BOGOTÃ D.C.', 'BUCARAMANGA', 'BUENAVENTURA',\n",
      "       'BUGA', 'CALDAS', 'CALI', 'CARMEN DE VIBORAL', 'CARTAGENA', 'CARTAGO',\n",
      "       'CAUCASIA', 'CHIA', 'CHIQUINQUIRA', 'CUCUTA', 'DUITAMA', 'ENVIGADO',\n",
      "       'FACATATIVA', 'FLORENCIA', 'FUSAGASUGA', 'GIRARDOT', 'HONDA', 'IBAGUE',\n",
      "       'LETICIA', 'MADRID', 'MANIZALES', 'MEDELLIN', 'MOCOA', 'MONTERIA',\n",
      "       'MOSQUERA', 'NEIVA', 'NILO', 'OCAÃA', 'PALMIRA', 'PAMPLONA', 'PASTO',\n",
      "       'PENSILVANIA', 'PEREIRA', 'POPAYAN', 'PUERTO BERRIO', 'QUIBDO',\n",
      "       'RIOHACHA', 'RIONEGRO', 'ROLDANILLO', 'SABANETA', 'SAN ANDRES',\n",
      "       'SAN GIL', 'SAN JUAN DEL CESAR', 'SANTA MARTA', 'SANTA ROSA DE CABAL',\n",
      "       'SANTA ROSA DE OSOS', 'SANTAFÃ DE ANTIOQUIA', 'SEVILLA', 'SINCELEJO',\n",
      "       'SOCORRO', 'SOGAMOSO', 'SOLEDAD', 'TOLU', 'TULUA', 'TUNJA', 'TURBO',\n",
      "       'UBATE', 'VALLEDUPAR', 'VILLAVICENCIO', 'YOPAL'],\n",
      "      dtype='object')\n",
      "AGUACHICA                    2\n",
      "ANDES                        2\n",
      "ARAUCA                       2\n",
      "ARMENIA                    265\n",
      "BARRANCABERMEJA              4\n",
      "BARRANQUILLA               243\n",
      "BELLO                        3\n",
      "BOGOTÃ D.C.              5977\n",
      "BUCARAMANGA                147\n",
      "BUENAVENTURA               109\n",
      "BUGA                       146\n",
      "CALDAS                       5\n",
      "CALI                     18886\n",
      "CARMEN DE VIBORAL            7\n",
      "CARTAGENA                  113\n",
      "CARTAGO                     47\n",
      "CAUCASIA                     1\n",
      "CHIA                       105\n",
      "CHIQUINQUIRA                 1\n",
      "CUCUTA                      41\n",
      "DUITAMA                      7\n",
      "ENVIGADO                     2\n",
      "FACATATIVA                   2\n",
      "FLORENCIA                    4\n",
      "FUSAGASUGA                   9\n",
      "GIRARDOT                     8\n",
      "HONDA                        4\n",
      "IBAGUE                      47\n",
      "LETICIA                      1\n",
      "MADRID                      15\n",
      "                         ...  \n",
      "PASTO                     5173\n",
      "PENSILVANIA                 22\n",
      "PEREIRA                    521\n",
      "POPAYAN                   1141\n",
      "PUERTO BERRIO                3\n",
      "QUIBDO                       1\n",
      "RIOHACHA                     1\n",
      "RIONEGRO                    30\n",
      "ROLDANILLO                  25\n",
      "SABANETA                     2\n",
      "SAN ANDRES                   1\n",
      "SAN GIL                      1\n",
      "SAN JUAN DEL CESAR           1\n",
      "SANTA MARTA                 11\n",
      "SANTA ROSA DE CABAL          8\n",
      "SANTA ROSA DE OSOS          22\n",
      "SANTAFÃ DE ANTIOQUIA        3\n",
      "SEVILLA                      4\n",
      "SINCELEJO                    5\n",
      "SOCORRO                      2\n",
      "SOGAMOSO                    14\n",
      "SOLEDAD                      2\n",
      "TOLU                         6\n",
      "TULUA                      704\n",
      "TUNJA                       72\n",
      "TURBO                        3\n",
      "UBATE                        8\n",
      "VALLEDUPAR                   3\n",
      "VILLAVICENCIO               21\n",
      "YOPAL                        7\n",
      "Name: ESTU_IES_MPIO_DESEADA, dtype: int64\n",
      "Elementos null/NaN 25117\n",
      "__________________\n",
      "Elementos diferentes de null/NaN: 36218\n",
      "__________________\n",
      "(36218,)\n",
      "None\n"
     ]
    }
   ],
   "source": [
    "c = 'ESTU_IES_MPIO_DESEADA'\n",
    "print(data_2006[c].value_counts().sort_index().index)\n",
    "print(data_2006[c].value_counts().sort_index())\n",
    "print(missing_data(data_2006[c]))"
   ]
  },
  {
   "cell_type": "code",
   "execution_count": 81,
   "metadata": {
    "collapsed": true
   },
   "outputs": [],
   "source": [
    "data_2006['ESTU_IES_MPIO_DESEADA'] = data_2006['ESTU_IES_MPIO_DESEADA'].replace('BOGOTÃ D.C.', 'BOGOTA')\n",
    "data_2006['ESTU_IES_MPIO_DESEADA'] = data_2006['ESTU_IES_MPIO_DESEADA'].replace('OCAÃA', 'OCAÑA')\n",
    "data_2006['ESTU_IES_MPIO_DESEADA'] = data_2006['ESTU_IES_MPIO_DESEADA'].replace('SANTAFÃ DE ANTIOQUIA', 'SANTAFE DE ANTIOQUIA')"
   ]
  },
  {
   "cell_type": "code",
   "execution_count": 82,
   "metadata": {
    "collapsed": false,
    "scrolled": true
   },
   "outputs": [
    {
     "name": "stdout",
     "output_type": "stream",
     "text": [
      "Index(['AMAZONAS', 'ANTIOQUIA', 'ARAUCA', 'ATLÃNTICO', 'BOGOTÃ', 'BOLÃVAR',\n",
      "       'BOYACÃ', 'CALDAS', 'CAQUETÃ', 'CASANARE', 'CAUCA', 'CESAR', 'CHOCÃ',\n",
      "       'CUNDINAMARCA', 'CÃRDOBA', 'HUILA', 'LA GUAJIRA', 'MAGDALENA', 'META',\n",
      "       'NARIÃO', 'NORTE SANTANDER', 'PUTUMAYO', 'QUINDÃO', 'RISARALDA',\n",
      "       'SAN ANDRÃS', 'SANTANDER', 'SUCRE', 'TOLIMA', 'VALLE'],\n",
      "      dtype='object')\n",
      "AMAZONAS               1\n",
      "ANTIOQUIA           1185\n",
      "ARAUCA                 2\n",
      "ATLÃNTICO           245\n",
      "BOGOTÃ             5977\n",
      "BOLÃVAR             113\n",
      "BOYACÃ               94\n",
      "CALDAS               477\n",
      "CAQUETÃ               4\n",
      "CASANARE               7\n",
      "CAUCA               1141\n",
      "CESAR                  5\n",
      "CHOCÃ                 1\n",
      "CUNDINAMARCA         227\n",
      "CÃRDOBA              42\n",
      "HUILA                 64\n",
      "LA GUAJIRA             2\n",
      "MAGDALENA             11\n",
      "META                  21\n",
      "NARIÃO             5173\n",
      "NORTE SANTANDER       57\n",
      "PUTUMAYO               1\n",
      "QUINDÃO             265\n",
      "RISARALDA            529\n",
      "SAN ANDRÃS            1\n",
      "SANTANDER            154\n",
      "SUCRE                 11\n",
      "TOLIMA                51\n",
      "VALLE              20357\n",
      "Name: ESTU_IES_DEPT_DESEADA, dtype: int64\n",
      "Elementos null/NaN 25117\n",
      "__________________\n",
      "Elementos diferentes de null/NaN: 36218\n",
      "__________________\n",
      "(36218,)\n",
      "None\n"
     ]
    }
   ],
   "source": [
    "c = 'ESTU_IES_DEPT_DESEADA'\n",
    "print(data_2006[c].value_counts().sort_index().index)\n",
    "print(data_2006[c].value_counts().sort_index())\n",
    "print(missing_data(data_2006[c]))"
   ]
  },
  {
   "cell_type": "code",
   "execution_count": 83,
   "metadata": {
    "collapsed": true
   },
   "outputs": [],
   "source": [
    "data_2006['ESTU_IES_DEPT_DESEADA'] = data_2006['ESTU_IES_DEPT_DESEADA'].replace('ATLÃNTICO', 'ATLANTICO')\n",
    "data_2006['ESTU_IES_DEPT_DESEADA'] = data_2006['ESTU_IES_DEPT_DESEADA'].replace('BOGOTÃ D.C.', 'BOGOTA')\n",
    "data_2006['ESTU_IES_DEPT_DESEADA'] = data_2006['ESTU_IES_DEPT_DESEADA'].replace('BOLÃVAR', 'BOLIVAR')\n",
    "data_2006['ESTU_IES_DEPT_DESEADA'] = data_2006['ESTU_IES_DEPT_DESEADA'].replace('BOYACÃ', 'BOYACA')\n",
    "data_2006['ESTU_IES_DEPT_DESEADA'] = data_2006['ESTU_IES_DEPT_DESEADA'].replace('CAQUETÃ', 'CAQUETA')\n",
    "data_2006['ESTU_IES_DEPT_DESEADA'] = data_2006['ESTU_IES_DEPT_DESEADA'].replace('CHOCÃ', 'CHOCO')\n",
    "data_2006['ESTU_IES_DEPT_DESEADA'] = data_2006['ESTU_IES_DEPT_DESEADA'].replace('CÃRDOBA', 'CORDOBA')\n",
    "data_2006['ESTU_IES_DEPT_DESEADA'] = data_2006['ESTU_IES_DEPT_DESEADA'].replace('NARIÃO', 'NARIÑO')\n",
    "data_2006['ESTU_IES_DEPT_DESEADA'] = data_2006['ESTU_IES_DEPT_DESEADA'].replace('QUINDÃO', 'QUINDIO')\n",
    "data_2006['ESTU_IES_DEPT_DESEADA'] = data_2006['ESTU_IES_DEPT_DESEADA'].replace('SAN ANDRÃS', 'SAN ANDRES')"
   ]
  },
  {
   "cell_type": "code",
   "execution_count": 84,
   "metadata": {
    "collapsed": false
   },
   "outputs": [
    {
     "name": "stdout",
     "output_type": "stream",
     "text": [
      "Float64Index([1.0, 2.0, 3.0, 4.0, 5.0, 6.0, 7.0, 8.0], dtype='float64')\n",
      "1.0     1316\n",
      "2.0     6976\n",
      "3.0    22987\n",
      "4.0     4766\n",
      "5.0     3449\n",
      "6.0     2146\n",
      "7.0     2556\n",
      "8.0     2575\n",
      "Name: ESTU_RAZONINSTITUTO, dtype: int64\n",
      "Elementos null/NaN 14564\n",
      "__________________\n",
      "Elementos diferentes de null/NaN: 46771\n",
      "__________________\n",
      "(46771,)\n",
      "None\n"
     ]
    }
   ],
   "source": [
    "c = 'ESTU_RAZONINSTITUTO'\n",
    "print(data_2006[c].value_counts().sort_index().index)\n",
    "print(data_2006[c].value_counts().sort_index())\n",
    "print(missing_data(data_2006[c]))"
   ]
  },
  {
   "cell_type": "code",
   "execution_count": 85,
   "metadata": {
    "collapsed": false,
    "scrolled": true
   },
   "outputs": [
    {
     "name": "stdout",
     "output_type": "stream",
     "text": [
      "Float64Index([    5.0,    23.0,    36.0,    63.0,    68.0,    87.0,   102.0,\n",
      "                103.0,   105.0,   107.0,\n",
      "              ...\n",
      "              21807.0, 21809.0, 21810.0, 21889.0, 22046.0, 22050.0, 22581.0,\n",
      "              22967.0, 24642.0, 24643.0],\n",
      "             dtype='float64', length=2387)\n",
      "5.0          7\n",
      "23.0         1\n",
      "36.0         1\n",
      "63.0         1\n",
      "68.0        13\n",
      "87.0         1\n",
      "102.0        3\n",
      "103.0        2\n",
      "105.0        7\n",
      "107.0        1\n",
      "108.0        1\n",
      "109.0        7\n",
      "111.0        1\n",
      "116.0       55\n",
      "117.0        2\n",
      "119.0        1\n",
      "120.0        1\n",
      "125.0        1\n",
      "128.0        3\n",
      "129.0        9\n",
      "130.0        3\n",
      "131.0        7\n",
      "133.0        1\n",
      "142.0        2\n",
      "151.0        3\n",
      "152.0       16\n",
      "160.0        2\n",
      "165.0        1\n",
      "168.0        1\n",
      "169.0        1\n",
      "          ... \n",
      "20142.0      1\n",
      "20143.0    939\n",
      "20144.0     12\n",
      "20146.0    110\n",
      "20177.0     10\n",
      "20184.0      2\n",
      "20228.0      2\n",
      "20233.0      2\n",
      "20247.0      1\n",
      "20257.0      8\n",
      "20266.0      1\n",
      "20267.0      5\n",
      "20277.0      2\n",
      "20282.0      2\n",
      "21463.0     22\n",
      "21480.0      1\n",
      "21577.0      1\n",
      "21794.0      1\n",
      "21805.0      1\n",
      "21806.0      1\n",
      "21807.0      1\n",
      "21809.0      2\n",
      "21810.0      1\n",
      "21889.0      1\n",
      "22046.0      1\n",
      "22050.0      1\n",
      "22581.0      1\n",
      "22967.0      1\n",
      "24642.0      1\n",
      "24643.0      1\n",
      "Name: ESTU_CARRDESEADA_COD, dtype: int64\n",
      "Elementos null/NaN 26101\n",
      "__________________\n",
      "Elementos diferentes de null/NaN: 35234\n",
      "__________________\n",
      "(35234,)\n",
      "None\n"
     ]
    }
   ],
   "source": [
    "c = 'ESTU_CARRDESEADA_COD'\n",
    "print(data_2006[c].value_counts().sort_index().index)\n",
    "print(data_2006[c].value_counts().sort_index())\n",
    "print(missing_data(data_2006[c]))"
   ]
  },
  {
   "cell_type": "code",
   "execution_count": 86,
   "metadata": {
    "collapsed": false
   },
   "outputs": [
    {
     "name": "stdout",
     "output_type": "stream",
     "text": [
      "Float64Index([1.0, 2.0, 3.0, 4.0, 5.0, 6.0], dtype='float64')\n",
      "1.0    14658\n",
      "2.0    16006\n",
      "3.0     7605\n",
      "4.0     4331\n",
      "5.0     3207\n",
      "6.0     1125\n",
      "Name: ESTU_CARRDESEADA_RAZON, dtype: int64\n",
      "Elementos null/NaN 14403\n",
      "__________________\n",
      "Elementos diferentes de null/NaN: 46932\n",
      "__________________\n",
      "(46932,)\n",
      "None\n"
     ]
    }
   ],
   "source": [
    "c = 'ESTU_CARRDESEADA_RAZON'\n",
    "print(data_2006[c].value_counts().sort_index().index)\n",
    "print(data_2006[c].value_counts().sort_index())\n",
    "print(missing_data(data_2006[c]))"
   ]
  },
  {
   "cell_type": "markdown",
   "metadata": {},
   "source": [
    "### TARGETS"
   ]
  },
  {
   "cell_type": "code",
   "execution_count": 87,
   "metadata": {
    "collapsed": false,
    "scrolled": true
   },
   "outputs": [
    {
     "name": "stdout",
     "output_type": "stream",
     "text": [
      "Index(['0', '17,3', '25,35', '30,45', '34,35', '37,61', '40,49', '43,11',\n",
      "       '45,57', '47,92', '50,2', '52,45', '54,69', '56,97', '59,31', '61,76',\n",
      "       '64,37', '67,23', '70,47', '74,34', '79,39', '87,38'],\n",
      "      dtype='object')\n",
      "0           5\n",
      "17,3       70\n",
      "25,35     373\n",
      "30,45     995\n",
      "34,35    2215\n",
      "37,61    3844\n",
      "40,49    5458\n",
      "43,11    6703\n",
      "45,57    7360\n",
      "47,92    7450\n",
      "50,2     6814\n",
      "52,45    5907\n",
      "54,69    4614\n",
      "56,97    3495\n",
      "59,31    2480\n",
      "61,76    1534\n",
      "64,37    1007\n",
      "67,23     563\n",
      "70,47     278\n",
      "74,34     103\n",
      "79,39      55\n",
      "87,38      12\n",
      "Name: PUNT_LENGUAJE, dtype: int64\n",
      "Elementos null/NaN 0\n",
      "__________________\n",
      "Elementos diferentes de null/NaN: 61335\n",
      "__________________\n",
      "(61335,)\n",
      "None\n"
     ]
    }
   ],
   "source": [
    "c = 'PUNT_LENGUAJE'\n",
    "print(data_2006[c].value_counts().sort_index().index)\n",
    "print(data_2006[c].value_counts().sort_index())\n",
    "print(missing_data(data_2006[c]))"
   ]
  },
  {
   "cell_type": "code",
   "execution_count": 89,
   "metadata": {
    "collapsed": false
   },
   "outputs": [],
   "source": [
    "c = 'PUNT_LENGUAJE'\n",
    "for i in data_2006[c].value_counts().sort_index().index:\n",
    "    if ',' in i:\n",
    "        data_2006[c] = data_2006[c].replace(i, i.replace(',', '.'))\n",
    "\n",
    "for i in data_2006[c].value_counts().sort_index().index:\n",
    "    if type(i) == str:\n",
    "        data_2006[c] = data_2006[c].replace(i, float(i))"
   ]
  },
  {
   "cell_type": "code",
   "execution_count": 91,
   "metadata": {
    "collapsed": false,
    "scrolled": true
   },
   "outputs": [
    {
     "name": "stdout",
     "output_type": "stream",
     "text": [
      "Index(['0', '102,25', '107,84', '18,97', '28,53', '34,47', '38,94', '42,62',\n",
      "       '45,81', '48,68', '51,32', '53,81', '56,19', '58,51', '60,8', '63,08',\n",
      "       '65,39', '67,77', '70,24', '72,86', '75,7', '78,85', '82,49', '86,9',\n",
      "       '92,78'],\n",
      "      dtype='object')\n",
      "0           28\n",
      "102,25      80\n",
      "107,84      21\n",
      "18,97      189\n",
      "28,53      721\n",
      "34,47     2014\n",
      "38,94     4087\n",
      "42,62     6508\n",
      "45,81     8189\n",
      "48,68     8557\n",
      "51,32     8068\n",
      "53,81     6444\n",
      "56,19     4817\n",
      "58,51     3271\n",
      "60,8      2404\n",
      "63,08     1622\n",
      "65,39     1079\n",
      "67,77      863\n",
      "70,24      615\n",
      "72,86      527\n",
      "75,7       413\n",
      "78,85      286\n",
      "82,49      238\n",
      "86,9       180\n",
      "92,78      114\n",
      "Name: PUNT_MATEMATICAS, dtype: int64\n",
      "Elementos null/NaN 0\n",
      "__________________\n",
      "Elementos diferentes de null/NaN: 61335\n",
      "__________________\n",
      "(61335,)\n",
      "None\n"
     ]
    }
   ],
   "source": [
    "c = 'PUNT_MATEMATICAS'\n",
    "print(data_2006[c].value_counts().sort_index().index)\n",
    "print(data_2006[c].value_counts().sort_index())\n",
    "print(missing_data(data_2006[c]))"
   ]
  },
  {
   "cell_type": "code",
   "execution_count": 92,
   "metadata": {
    "collapsed": false
   },
   "outputs": [],
   "source": [
    "c = 'PUNT_MATEMATICAS'\n",
    "for i in data_2006[c].value_counts().sort_index().index:\n",
    "    if ',' in i:\n",
    "        data_2006[c] = data_2006[c].replace(i, i.replace(',', '.'))\n",
    "\n",
    "for i in data_2006[c].value_counts().sort_index().index:\n",
    "    if type(i) == str:\n",
    "        data_2006[c] = data_2006[c].replace(i, float(i))"
   ]
  },
  {
   "cell_type": "code",
   "execution_count": 93,
   "metadata": {
    "collapsed": false,
    "scrolled": true
   },
   "outputs": [
    {
     "name": "stdout",
     "output_type": "stream",
     "text": [
      "Index(['0', '21,2', '26,95', '30,5', '33,14', '35,3', '37,17', '38,83',\n",
      "       '40,35', '41,77', '43,12', '44,41', '45,67', '46,91', '48,14', '49,37',\n",
      "       '50,62', '51,89', '53,2', '54,56', '56,01', '57,55', '59,24', '61,14',\n",
      "       '63,33'],\n",
      "      dtype='object')\n",
      "0           8\n",
      "21,2       36\n",
      "26,95     199\n",
      "30,5      574\n",
      "33,14    1189\n",
      "35,3     2269\n",
      "37,17    3530\n",
      "38,83    4794\n",
      "40,35    5801\n",
      "41,77    6198\n",
      "43,12    6392\n",
      "44,41    6153\n",
      "45,67    5701\n",
      "46,91    4854\n",
      "48,14    3936\n",
      "49,37    3141\n",
      "50,62    2408\n",
      "51,89    1649\n",
      "53,2     1127\n",
      "54,56     722\n",
      "56,01     402\n",
      "57,55     163\n",
      "59,24      66\n",
      "61,14      22\n",
      "63,33       1\n",
      "Name: PUNT_C_SOCIALES, dtype: int64\n",
      "Elementos null/NaN 0\n",
      "__________________\n",
      "Elementos diferentes de null/NaN: 61335\n",
      "__________________\n",
      "(61335,)\n",
      "None\n"
     ]
    }
   ],
   "source": [
    "c = 'PUNT_C_SOCIALES'\n",
    "print(data_2006[c].value_counts().sort_index().index)\n",
    "print(data_2006[c].value_counts().sort_index())\n",
    "print(missing_data(data_2006[c]))"
   ]
  },
  {
   "cell_type": "code",
   "execution_count": 94,
   "metadata": {
    "collapsed": false
   },
   "outputs": [],
   "source": [
    "c = 'PUNT_C_SOCIALES'\n",
    "for i in data_2006[c].value_counts().sort_index().index:\n",
    "    if ',' in i:\n",
    "        data_2006[c] = data_2006[c].replace(i, i.replace(',', '.'))\n",
    "\n",
    "for i in data_2006[c].value_counts().sort_index().index:\n",
    "    if type(i) == str:\n",
    "        data_2006[c] = data_2006[c].replace(i, float(i))"
   ]
  },
  {
   "cell_type": "code",
   "execution_count": 95,
   "metadata": {
    "collapsed": false,
    "scrolled": true
   },
   "outputs": [
    {
     "name": "stdout",
     "output_type": "stream",
     "text": [
      "Index(['0', '104,43', '17,55', '23,47', '27,96', '31,67', '34,89', '37,78',\n",
      "       '40,43', '42,93', '45,3', '47,6', '49,86', '52,11', '54,37', '56,68',\n",
      "       '59,08', '61,61', '64,34', '67,36', '70,84', '75,05', '8,17', '80,64',\n",
      "       '89,62'],\n",
      "      dtype='object')\n",
      "0           37\n",
      "104,43       1\n",
      "17,55       83\n",
      "23,47      375\n",
      "27,96     1046\n",
      "31,67     2425\n",
      "34,89     4067\n",
      "37,78     5821\n",
      "40,43     6401\n",
      "42,93     7760\n",
      "45,3      7493\n",
      "47,6      6687\n",
      "49,86     5484\n",
      "52,11     4354\n",
      "54,37     3457\n",
      "56,68     2368\n",
      "59,08     1596\n",
      "61,61      992\n",
      "64,34      493\n",
      "67,36      235\n",
      "70,84      108\n",
      "75,05       33\n",
      "8,17        10\n",
      "80,64        7\n",
      "89,62        2\n",
      "Name: PUNT_FILOSOFIA, dtype: int64\n",
      "Elementos null/NaN 0\n",
      "__________________\n",
      "Elementos diferentes de null/NaN: 61335\n",
      "__________________\n",
      "(61335,)\n",
      "None\n"
     ]
    }
   ],
   "source": [
    "c = 'PUNT_FILOSOFIA'\n",
    "print(data_2006[c].value_counts().sort_index().index)\n",
    "print(data_2006[c].value_counts().sort_index())\n",
    "print(missing_data(data_2006[c]))"
   ]
  },
  {
   "cell_type": "code",
   "execution_count": 96,
   "metadata": {
    "collapsed": false
   },
   "outputs": [],
   "source": [
    "c = 'PUNT_FILOSOFIA'\n",
    "for i in data_2006[c].value_counts().sort_index().index:\n",
    "    if ',' in i:\n",
    "        data_2006[c] = data_2006[c].replace(i, i.replace(',', '.'))\n",
    "\n",
    "for i in data_2006[c].value_counts().sort_index().index:\n",
    "    if type(i) == str:\n",
    "        data_2006[c] = data_2006[c].replace(i, float(i))"
   ]
  },
  {
   "cell_type": "code",
   "execution_count": 97,
   "metadata": {
    "collapsed": false,
    "scrolled": true
   },
   "outputs": [
    {
     "name": "stdout",
     "output_type": "stream",
     "text": [
      "Index(['0', '12,65', '20,53', '21,91', '25,44', '25,53', '26,43', '26,96',\n",
      "       '27,63', '29,36', '30,33', '30,39', '30,82', '31,38', '31,91', '32,56',\n",
      "       '32,97', '33,6', '34,05', '34,2', '34,51', '35,2', '35,36', '35,66',\n",
      "       '36,11', '36,47', '36,88', '37,26', '37,39', '37,9', '38,88', '39,08',\n",
      "       '39,45', '39,77', '40,21', '40,26', '41,05', '41,4', '41,51', '41,84',\n",
      "       '42,11', '42,5', '42,8', '43,46', '43,82', '44,12', '44,34', '44,66',\n",
      "       '45,23', '46,04', '46,05', '46,31', '46,51', '46,76', '47,57', '48,23',\n",
      "       '48,47', '48,63', '48,84', '49,86', '50,4', '50,43', '50,61', '50,75',\n",
      "       '50,92', '52,14', '52,59', '52,77', '52,89', '53,04', '54,45', '54,69',\n",
      "       '54,99', '55,22', '56,83', '57,19', '57,3', '57,39', '57,49', '59,36',\n",
      "       '59,63', '59,76', '59,93', '62,11', '62,34', '62,38', '62,45', '62,52',\n",
      "       '62,6', '65,21', '65,51', '65,64', '68,91', '68,97', '69,08', '69,28',\n",
      "       '73,74', '74,07', '81,7', '94,21'],\n",
      "      dtype='object')\n",
      "0           4\n",
      "12,65      23\n",
      "20,53      88\n",
      "21,91       1\n",
      "25,44       1\n",
      "25,53     389\n",
      "26,43       4\n",
      "26,96       1\n",
      "27,63       2\n",
      "29,36     927\n",
      "30,33       4\n",
      "30,39       2\n",
      "30,82      12\n",
      "31,38       3\n",
      "31,91       1\n",
      "32,56    1856\n",
      "32,97       1\n",
      "33,6        6\n",
      "34,05      27\n",
      "34,2        8\n",
      "34,51       4\n",
      "35,2        1\n",
      "35,36    3196\n",
      "35,66       2\n",
      "36,11       1\n",
      "36,47      10\n",
      "36,88      29\n",
      "37,26       7\n",
      "37,39      21\n",
      "37,9     4596\n",
      "         ... \n",
      "54,45      27\n",
      "54,69       1\n",
      "54,99       8\n",
      "55,22    3064\n",
      "56,83      22\n",
      "57,19       1\n",
      "57,3        6\n",
      "57,39       1\n",
      "57,49    2259\n",
      "59,36      22\n",
      "59,63       1\n",
      "59,76       1\n",
      "59,93    1710\n",
      "62,11      14\n",
      "62,34       2\n",
      "62,38       1\n",
      "62,45       5\n",
      "62,52       1\n",
      "62,6     1195\n",
      "65,21      14\n",
      "65,51       1\n",
      "65,64     760\n",
      "68,91       6\n",
      "68,97       1\n",
      "69,08       1\n",
      "69,28     414\n",
      "73,74       3\n",
      "74,07     144\n",
      "81,7       15\n",
      "94,21       3\n",
      "Name: PUNT_BIOLOGIA, dtype: int64\n",
      "Elementos null/NaN 0\n",
      "__________________\n",
      "Elementos diferentes de null/NaN: 61335\n",
      "__________________\n",
      "(61335,)\n",
      "None\n"
     ]
    }
   ],
   "source": [
    "c = 'PUNT_BIOLOGIA'\n",
    "print(data_2006[c].value_counts().sort_index().index)\n",
    "print(data_2006[c].value_counts().sort_index())\n",
    "print(missing_data(data_2006[c]))"
   ]
  },
  {
   "cell_type": "code",
   "execution_count": 98,
   "metadata": {
    "collapsed": false
   },
   "outputs": [],
   "source": [
    "c = 'PUNT_BIOLOGIA'\n",
    "for i in data_2006[c].value_counts().sort_index().index:\n",
    "    if ',' in i:\n",
    "        data_2006[c] = data_2006[c].replace(i, i.replace(',', '.'))\n",
    "\n",
    "for i in data_2006[c].value_counts().sort_index().index:\n",
    "    if type(i) == str:\n",
    "        data_2006[c] = data_2006[c].replace(i, float(i))"
   ]
  },
  {
   "cell_type": "code",
   "execution_count": 99,
   "metadata": {
    "collapsed": false,
    "scrolled": true
   },
   "outputs": [
    {
     "name": "stdout",
     "output_type": "stream",
     "text": [
      "Index(['0', '18,77', '19,01', '21,4', '25,8', '27,53', '28,5', '30,25',\n",
      "       '30,48', '30,58',\n",
      "       ...\n",
      "       '62,13', '63,38', '64,08', '64,98', '66,27', '66,76', '68,37', '69,99',\n",
      "       '74,27', '81,11'],\n",
      "      dtype='object', length=116)\n",
      "0           4\n",
      "18,77      32\n",
      "19,01       1\n",
      "21,4        1\n",
      "25,8      271\n",
      "27,53       2\n",
      "28,5        3\n",
      "30,25     789\n",
      "30,48       2\n",
      "30,58       2\n",
      "30,82       1\n",
      "30,84       1\n",
      "32,2        1\n",
      "32,62       1\n",
      "33,03       9\n",
      "33,65    2093\n",
      "33,91       3\n",
      "34,01       4\n",
      "34,42       1\n",
      "34,72       1\n",
      "35,28       2\n",
      "36,03       2\n",
      "36,05       1\n",
      "36,47    4067\n",
      "36,52      17\n",
      "36,77       6\n",
      "36,88      11\n",
      "36,9        7\n",
      "38,4        1\n",
      "38,53       1\n",
      "         ... \n",
      "54,01    1515\n",
      "54,06       1\n",
      "54,89       2\n",
      "55,05       3\n",
      "55,1       16\n",
      "55,8      907\n",
      "56,81       1\n",
      "56,98       1\n",
      "57,29      10\n",
      "57,66     628\n",
      "58,02       1\n",
      "58,15       1\n",
      "58,23       1\n",
      "59          3\n",
      "59,03       2\n",
      "59,61       6\n",
      "59,63     405\n",
      "61          2\n",
      "61,17       1\n",
      "61,74     226\n",
      "62,13       2\n",
      "63,38       1\n",
      "64,08     151\n",
      "64,98       2\n",
      "66,27       1\n",
      "66,76      91\n",
      "68,37       1\n",
      "69,99      44\n",
      "74,27      19\n",
      "81,11       3\n",
      "Name: PUNT_QUIMICA, dtype: int64\n",
      "Elementos null/NaN 0\n",
      "__________________\n",
      "Elementos diferentes de null/NaN: 61335\n",
      "__________________\n",
      "(61335,)\n",
      "None\n"
     ]
    }
   ],
   "source": [
    "c = 'PUNT_QUIMICA'\n",
    "print(data_2006[c].value_counts().sort_index().index)\n",
    "print(data_2006[c].value_counts().sort_index())\n",
    "print(missing_data(data_2006[c]))"
   ]
  },
  {
   "cell_type": "code",
   "execution_count": 100,
   "metadata": {
    "collapsed": false
   },
   "outputs": [],
   "source": [
    "c = 'PUNT_QUIMICA'\n",
    "for i in data_2006[c].value_counts().sort_index().index:\n",
    "    if ',' in i:\n",
    "        data_2006[c] = data_2006[c].replace(i, i.replace(',', '.'))\n",
    "\n",
    "for i in data_2006[c].value_counts().sort_index().index:\n",
    "    if type(i) == str:\n",
    "        data_2006[c] = data_2006[c].replace(i, float(i))"
   ]
  },
  {
   "cell_type": "code",
   "execution_count": 101,
   "metadata": {
    "collapsed": false,
    "scrolled": true
   },
   "outputs": [
    {
     "name": "stdout",
     "output_type": "stream",
     "text": [
      "Index(['0', '100,9', '16,25', '16,65', '17,42', '19,63', '20,14', '21,16',\n",
      "       '25,99', '26,43',\n",
      "       ...\n",
      "       '70,23', '71,15', '72,02', '74,02', '76,4', '77,2', '80,88', '83,81',\n",
      "       '85,34', '91,29'],\n",
      "      dtype='object', length=119)\n",
      "0          13\n",
      "100,9       2\n",
      "16,25     107\n",
      "16,65       1\n",
      "17,42       1\n",
      "19,63       1\n",
      "20,14       1\n",
      "21,16       8\n",
      "25,99     566\n",
      "26,43       2\n",
      "26,8        1\n",
      "27,47       4\n",
      "27,7        1\n",
      "28,61       1\n",
      "30,97      13\n",
      "32,05    1716\n",
      "32,53       8\n",
      "32,91       8\n",
      "33,55       6\n",
      "33,75       4\n",
      "34,71       1\n",
      "35,99       3\n",
      "36,62    3794\n",
      "37,11      17\n",
      "37,14      12\n",
      "37,53       6\n",
      "38,13       8\n",
      "38,31      10\n",
      "38,89       1\n",
      "39,77       2\n",
      "         ... \n",
      "59,52       1\n",
      "60,02       2\n",
      "60,41       1\n",
      "60,58       3\n",
      "60,82       1\n",
      "61,25    1194\n",
      "61,51       1\n",
      "62,46       3\n",
      "62,76       1\n",
      "62,84       1\n",
      "63,3        8\n",
      "63,6      618\n",
      "64,12       1\n",
      "65,67       2\n",
      "66        362\n",
      "66,07       2\n",
      "66,8        1\n",
      "67,52       1\n",
      "68,51     202\n",
      "68,95       2\n",
      "70,23       1\n",
      "71,15     104\n",
      "72,02       1\n",
      "74,02      62\n",
      "76,4        1\n",
      "77,2       41\n",
      "80,88      16\n",
      "83,81       1\n",
      "85,34      14\n",
      "91,29       1\n",
      "Name: PUNT_FISICA, dtype: int64\n",
      "Elementos null/NaN 0\n",
      "__________________\n",
      "Elementos diferentes de null/NaN: 61335\n",
      "__________________\n",
      "(61335,)\n",
      "None\n"
     ]
    }
   ],
   "source": [
    "c = 'PUNT_FISICA'\n",
    "print(data_2006[c].value_counts().sort_index().index)\n",
    "print(data_2006[c].value_counts().sort_index())\n",
    "print(missing_data(data_2006[c]))"
   ]
  },
  {
   "cell_type": "code",
   "execution_count": 102,
   "metadata": {
    "collapsed": false
   },
   "outputs": [],
   "source": [
    "c = 'PUNT_FISICA'\n",
    "for i in data_2006[c].value_counts().sort_index().index:\n",
    "    if ',' in i:\n",
    "        data_2006[c] = data_2006[c].replace(i, i.replace(',', '.'))\n",
    "\n",
    "for i in data_2006[c].value_counts().sort_index().index:\n",
    "    if type(i) == str:\n",
    "        data_2006[c] = data_2006[c].replace(i, float(i))"
   ]
  },
  {
   "cell_type": "code",
   "execution_count": 103,
   "metadata": {
    "collapsed": false,
    "scrolled": true
   },
   "outputs": [
    {
     "name": "stdout",
     "output_type": "stream",
     "text": [
      "Index(['ALEMÃN', 'FRANCÃS', 'INGLÃS'], dtype='object')\n",
      "ALEMÃN        62\n",
      "FRANCÃS      456\n",
      "INGLÃS     60817\n",
      "Name: NOMBRE_IDIOMA, dtype: int64\n",
      "Elementos null/NaN 0\n",
      "__________________\n",
      "Elementos diferentes de null/NaN: 61335\n",
      "__________________\n",
      "(61335,)\n",
      "None\n"
     ]
    }
   ],
   "source": [
    "c = 'NOMBRE_IDIOMA'\n",
    "print(data_2006[c].value_counts().sort_index().index)\n",
    "print(data_2006[c].value_counts().sort_index())\n",
    "print(missing_data(data_2006[c]))"
   ]
  },
  {
   "cell_type": "code",
   "execution_count": 105,
   "metadata": {
    "collapsed": true
   },
   "outputs": [],
   "source": [
    "data_2006['NOMBRE_IDIOMA'] = data_2006['NOMBRE_IDIOMA'].replace('ALEMÃN', 'ALEMAN')\n",
    "data_2006['NOMBRE_IDIOMA'] = data_2006['NOMBRE_IDIOMA'].replace('FRANCÃS', 'FRANCES')\n",
    "data_2006['NOMBRE_IDIOMA'] = data_2006['NOMBRE_IDIOMA'].replace('INGLÃS', 'INGLES')"
   ]
  },
  {
   "cell_type": "code",
   "execution_count": 106,
   "metadata": {
    "collapsed": false,
    "scrolled": true
   },
   "outputs": [
    {
     "name": "stdout",
     "output_type": "stream",
     "text": [
      "Index(['-1', '0', '15,62', '16,12', '19,28', '23,14', '23,61', '27,53',\n",
      "       '27,81', '28,24', '30,46', '31,31', '31,72', '33,03', '34,2', '34,59',\n",
      "       '35,34', '36,7', '37,07', '37,5', '38,95', '39,31', '39,55', '41,03',\n",
      "       '41,39', '42,99', '43,35', '44,86', '45,25', '45,42', '46,69', '47,1',\n",
      "       '47,37', '48,49', '48,94', '49,37', '50,29', '50,8', '51,44', '52,11',\n",
      "       '52,7', '53,62', '53,98', '54,68', '55,93', '55,96', '56,78', '58',\n",
      "       '58,51', '59,04', '60,24', '61,36', '61,56', '62,73', '64,46', '64,66',\n",
      "       '65,59', '67,98', '68,69', '69,08', '72,66', '73,73', '74', '80,21',\n",
      "       '81,23', '82,36', '84,92', '85,62'],\n",
      "      dtype='object')\n",
      "-1          1\n",
      "0          32\n",
      "15,62     210\n",
      "16,12       3\n",
      "19,28       1\n",
      "23,14     885\n",
      "23,61       8\n",
      "27,53       6\n",
      "27,81    2139\n",
      "28,24       9\n",
      "30,46       2\n",
      "31,31    4086\n",
      "31,72      26\n",
      "33,03       2\n",
      "34,2     5772\n",
      "34,59      43\n",
      "35,34       2\n",
      "36,7     7121\n",
      "37,07      37\n",
      "37,5        5\n",
      "38,95    7017\n",
      "39,31      28\n",
      "39,55       1\n",
      "41,03    6471\n",
      "41,39      31\n",
      "42,99    5471\n",
      "43,35      22\n",
      "44,86    4202\n",
      "45,25      14\n",
      "45,42       4\n",
      "         ... \n",
      "51,44       2\n",
      "52,11    1351\n",
      "52,7        4\n",
      "53,62       6\n",
      "53,98    1095\n",
      "54,68       3\n",
      "55,93     906\n",
      "55,96       7\n",
      "56,78      10\n",
      "58        784\n",
      "58,51       4\n",
      "59,04      14\n",
      "60,24     727\n",
      "61,36       2\n",
      "61,56      17\n",
      "62,73     768\n",
      "64,46      22\n",
      "64,66       6\n",
      "65,59     861\n",
      "67,98      32\n",
      "68,69       3\n",
      "69,08     953\n",
      "72,66      52\n",
      "73,73    1025\n",
      "74          1\n",
      "80,21      37\n",
      "81,23     989\n",
      "82,36       2\n",
      "84,92      18\n",
      "85,62     586\n",
      "Name: PUNT_IDIOMA, dtype: int64\n",
      "Elementos null/NaN 0\n",
      "__________________\n",
      "Elementos diferentes de null/NaN: 61335\n",
      "__________________\n",
      "(61335,)\n",
      "None\n"
     ]
    }
   ],
   "source": [
    "c = 'PUNT_IDIOMA'\n",
    "print(data_2006[c].value_counts().sort_index().index)\n",
    "print(data_2006[c].value_counts().sort_index())\n",
    "print(missing_data(data_2006[c]))"
   ]
  },
  {
   "cell_type": "code",
   "execution_count": 107,
   "metadata": {
    "collapsed": false
   },
   "outputs": [],
   "source": [
    "c = 'PUNT_IDIOMA'\n",
    "for i in data_2006[c].value_counts().sort_index().index:\n",
    "    if ',' in i:\n",
    "        data_2006[c] = data_2006[c].replace(i, i.replace(',', '.'))\n",
    "\n",
    "for i in data_2006[c].value_counts().sort_index().index:\n",
    "    if type(i) == str:\n",
    "        data_2006[c] = data_2006[c].replace(i, float(i))"
   ]
  },
  {
   "cell_type": "code",
   "execution_count": 108,
   "metadata": {
    "collapsed": false
   },
   "outputs": [
    {
     "name": "stdout",
     "output_type": "stream",
     "text": [
      "Float64Index([-1.0], dtype='float64')\n",
      "-1.0    1\n",
      "Name: DESEMP_IDIOMA, dtype: int64\n",
      "Elementos null/NaN 61334\n",
      "__________________\n",
      "Elementos diferentes de null/NaN: 1\n",
      "__________________\n",
      "(1,)\n",
      "None\n"
     ]
    }
   ],
   "source": [
    "c = 'DESEMP_IDIOMA'\n",
    "print(data_2006[c].value_counts().sort_index().index)\n",
    "print(data_2006[c].value_counts().sort_index())\n",
    "print(missing_data(data_2006[c]))"
   ]
  },
  {
   "cell_type": "code",
   "execution_count": 109,
   "metadata": {
    "collapsed": true
   },
   "outputs": [],
   "source": [
    "data_2006 = data_2006.drop(['DESEMP_IDIOMA'], axis=1)"
   ]
  },
  {
   "cell_type": "code",
   "execution_count": 110,
   "metadata": {
    "collapsed": false
   },
   "outputs": [
    {
     "name": "stdout",
     "output_type": "stream",
     "text": [
      "Index(['PROFUNDIZACIÃN EN BIOLOGÃA', 'PROFUNDIZACIÃN EN CIENCIAS SOCIALES',\n",
      "       'PROFUNDIZACIÃN EN LENGUAJE', 'PROFUNDIZACIÃN EN MATEMÃTICA'],\n",
      "      dtype='object')\n",
      "PROFUNDIZACIÃN EN BIOLOGÃA            20896\n",
      "PROFUNDIZACIÃN EN CIENCIAS SOCIALES     8077\n",
      "PROFUNDIZACIÃN EN LENGUAJE             21849\n",
      "PROFUNDIZACIÃN EN MATEMÃTICA          10513\n",
      "Name: NOMBRE_PROFUNDIZACION, dtype: int64\n",
      "Elementos null/NaN 0\n",
      "__________________\n",
      "Elementos diferentes de null/NaN: 61335\n",
      "__________________\n",
      "(61335,)\n",
      "None\n"
     ]
    }
   ],
   "source": [
    "c = 'NOMBRE_PROFUNDIZACION'\n",
    "print(data_2006[c].value_counts().sort_index().index)\n",
    "print(data_2006[c].value_counts().sort_index())\n",
    "print(missing_data(data_2006[c]))"
   ]
  },
  {
   "cell_type": "code",
   "execution_count": 111,
   "metadata": {
    "collapsed": true
   },
   "outputs": [],
   "source": [
    "data_2006['NOMBRE_PROFUNDIZACION'] = data_2006['NOMBRE_PROFUNDIZACION'].replace('PROFUNDIZACIÃN EN BIOLOGÃA', 'BIOLOGIA')\n",
    "data_2006['NOMBRE_PROFUNDIZACION'] = data_2006['NOMBRE_PROFUNDIZACION'].replace('PROFUNDIZACIÃN EN CIENCIAS SOCIALES', 'CIENCIAS SOCIALES')\n",
    "data_2006['NOMBRE_PROFUNDIZACION'] = data_2006['NOMBRE_PROFUNDIZACION'].replace('PROFUNDIZACIÃN EN LENGUAJE', 'LENGUAJE')\n",
    "data_2006['NOMBRE_PROFUNDIZACION'] = data_2006['NOMBRE_PROFUNDIZACION'].replace('PROFUNDIZACIÃN EN MATEMÃTICA', 'MATEMATICA')"
   ]
  },
  {
   "cell_type": "code",
   "execution_count": 112,
   "metadata": {
    "collapsed": false,
    "scrolled": true
   },
   "outputs": [
    {
     "name": "stdout",
     "output_type": "stream",
     "text": [
      "Index(['-1', '0', '1,2', '1,88', '1,9', '10', '2,5', '2,78', '2,93', '3',\n",
      "       '3,5', '3,54', '3,62', '3,66', '3,9', '4,17', '4,23', '4,3', '4,38',\n",
      "       '4,65', '4,68', '4,8', '4,91', '5,06', '5,09', '5,2', '5,33', '5,41',\n",
      "       '5,51', '5,69', '5,7', '5,75', '5,92', '6,02', '6,08', '6,3', '6,34',\n",
      "       '6,35', '6,42', '6,65', '6,77', '6,81', '6,98', '7,16', '7,33', '7,34',\n",
      "       '7,62', '7,76', '7,98', '8,21', '8,3', '8,98', '9,11', '9,13'],\n",
      "      dtype='object')\n",
      "-1       238\n",
      "0        708\n",
      "1,2      697\n",
      "1,88     464\n",
      "1,9     1251\n",
      "10        24\n",
      "2,5     1618\n",
      "2,78     365\n",
      "2,93    1415\n",
      "3       1736\n",
      "3,5     1334\n",
      "3,54    1175\n",
      "3,62    2516\n",
      "3,66     986\n",
      "3,9      710\n",
      "4,17    3362\n",
      "4,23    1531\n",
      "4,3      310\n",
      "4,38    2652\n",
      "4,65    3733\n",
      "4,68    1964\n",
      "4,8       93\n",
      "4,91    3877\n",
      "5,06    1732\n",
      "5,09    3172\n",
      "5,2       18\n",
      "5,33    4289\n",
      "5,41    1309\n",
      "5,51    2695\n",
      "5,69    3574\n",
      "5,7        3\n",
      "5,75     930\n",
      "5,92    1924\n",
      "6,02    2251\n",
      "6,08     575\n",
      "6,3        1\n",
      "6,34    1369\n",
      "6,35    1259\n",
      "6,42     378\n",
      "6,65     773\n",
      "6,77     235\n",
      "6,81     681\n",
      "6,98     373\n",
      "7,16     162\n",
      "7,33     291\n",
      "7,34     156\n",
      "7,62     120\n",
      "7,76      70\n",
      "7,98      92\n",
      "8,21      50\n",
      "8,3       15\n",
      "8,98      26\n",
      "9,11      46\n",
      "9,13       7\n",
      "Name: PUNT_PROFUNDIZACION, dtype: int64\n",
      "Elementos null/NaN 0\n",
      "__________________\n",
      "Elementos diferentes de null/NaN: 61335\n",
      "__________________\n",
      "(61335,)\n",
      "None\n"
     ]
    }
   ],
   "source": [
    "c = 'PUNT_PROFUNDIZACION'\n",
    "print(data_2006[c].value_counts().sort_index().index)\n",
    "print(data_2006[c].value_counts().sort_index())\n",
    "print(missing_data(data_2006[c]))"
   ]
  },
  {
   "cell_type": "code",
   "execution_count": 113,
   "metadata": {
    "collapsed": false
   },
   "outputs": [],
   "source": [
    "c = 'PUNT_PROFUNDIZACION'\n",
    "for i in data_2006[c].value_counts().sort_index().index:\n",
    "    if ',' in i:\n",
    "        data_2006[c] = data_2006[c].replace(i, i.replace(',', '.'))\n",
    "\n",
    "for i in data_2006[c].value_counts().sort_index().index:\n",
    "    if type(i) == str:\n",
    "        data_2006[c] = data_2006[c].replace(i, float(i))"
   ]
  },
  {
   "cell_type": "code",
   "execution_count": 114,
   "metadata": {
    "collapsed": false
   },
   "outputs": [
    {
     "name": "stdout",
     "output_type": "stream",
     "text": [
      "Index(['-1', 'GB', 'I', 'II', 'III'], dtype='object')\n",
      "-1       238\n",
      "GB     12931\n",
      "I      19566\n",
      "II     19647\n",
      "III     8953\n",
      "Name: DESEMP_PROFUNDIZACION, dtype: int64\n",
      "Elementos null/NaN 0\n",
      "__________________\n",
      "Elementos diferentes de null/NaN: 61335\n",
      "__________________\n",
      "(61335,)\n",
      "None\n"
     ]
    }
   ],
   "source": [
    "c = 'DESEMP_PROFUNDIZACION'\n",
    "print(data_2006[c].value_counts().sort_index().index)\n",
    "print(data_2006[c].value_counts().sort_index())\n",
    "print(missing_data(data_2006[c]))"
   ]
  },
  {
   "cell_type": "code",
   "execution_count": 115,
   "metadata": {
    "collapsed": true
   },
   "outputs": [],
   "source": [
    "data_2006['DESEMP_PROFUNDIZACION'] = data_2006['DESEMP_PROFUNDIZACION'].replace('-1', np.nan)"
   ]
  },
  {
   "cell_type": "code",
   "execution_count": 116,
   "metadata": {
    "collapsed": false
   },
   "outputs": [
    {
     "name": "stdout",
     "output_type": "stream",
     "text": [
      "Index(['MEDIO AMBIENTE', 'VIOLENCIA Y SOCIEDAD'], dtype='object')\n",
      "MEDIO AMBIENTE          32491\n",
      "VIOLENCIA Y SOCIEDAD    28844\n",
      "Name: NOMBRE_INTERDISCIPLINAR, dtype: int64\n",
      "Elementos null/NaN 0\n",
      "__________________\n",
      "Elementos diferentes de null/NaN: 61335\n",
      "__________________\n",
      "(61335,)\n",
      "None\n"
     ]
    }
   ],
   "source": [
    "c = 'NOMBRE_INTERDISCIPLINAR'\n",
    "print(data_2006[c].value_counts().sort_index().index)\n",
    "print(data_2006[c].value_counts().sort_index())\n",
    "print(missing_data(data_2006[c]))"
   ]
  },
  {
   "cell_type": "code",
   "execution_count": 117,
   "metadata": {
    "collapsed": false,
    "scrolled": true
   },
   "outputs": [
    {
     "name": "stdout",
     "output_type": "stream",
     "text": [
      "Index(['-1', '0', '15,54', '24,76', '30,79', '35,57', '39,72', '43,53',\n",
      "       '45,32', '47,18', '47,63', '49,11', '50,28', '50,8', '51,28', '52,19',\n",
      "       '53,06', '53,91', '54,52', '54,79', '55,71', '56,72', '57,91', '58,47',\n",
      "       '59,42', '61,76', '62,84', '64,05', '67,95', '74,43', '84,21', '93,9'],\n",
      "      dtype='object')\n",
      "-1         11\n",
      "0         237\n",
      "15,54     286\n",
      "24,76     892\n",
      "30,79    1904\n",
      "35,57    3184\n",
      "39,72    4157\n",
      "43,53    4957\n",
      "45,32     831\n",
      "47,18    4677\n",
      "47,63    2137\n",
      "49,11    3657\n",
      "50,28    4763\n",
      "50,8     3707\n",
      "51,28    5091\n",
      "52,19    4914\n",
      "53,06    4154\n",
      "53,91    2968\n",
      "54,52    2575\n",
      "54,79    1941\n",
      "55,71    1138\n",
      "56,72     496\n",
      "57,91     176\n",
      "58,47    1476\n",
      "59,42      45\n",
      "61,76       3\n",
      "62,84     654\n",
      "64,05       1\n",
      "67,95     234\n",
      "74,43      62\n",
      "84,21       6\n",
      "93,9        1\n",
      "Name: PUNT_INTERDISCIPLINAR, dtype: int64\n",
      "Elementos null/NaN 0\n",
      "__________________\n",
      "Elementos diferentes de null/NaN: 61335\n",
      "__________________\n",
      "(61335,)\n",
      "None\n"
     ]
    }
   ],
   "source": [
    "c = 'PUNT_INTERDISCIPLINAR'\n",
    "print(data_2006[c].value_counts().sort_index().index)\n",
    "print(data_2006[c].value_counts().sort_index())\n",
    "print(missing_data(data_2006[c]))"
   ]
  },
  {
   "cell_type": "code",
   "execution_count": 118,
   "metadata": {
    "collapsed": false
   },
   "outputs": [],
   "source": [
    "c = 'PUNT_INTERDISCIPLINAR'\n",
    "for i in data_2006[c].value_counts().sort_index().index:\n",
    "    if ',' in i:\n",
    "        data_2006[c] = data_2006[c].replace(i, i.replace(',', '.'))\n",
    "\n",
    "for i in data_2006[c].value_counts().sort_index().index:\n",
    "    if type(i) == str:\n",
    "        data_2006[c] = data_2006[c].replace(i, float(i))"
   ]
  },
  {
   "cell_type": "code",
   "execution_count": 119,
   "metadata": {
    "collapsed": false,
    "scrolled": true
   },
   "outputs": [
    {
     "name": "stdout",
     "output_type": "stream",
     "text": [
      "Float64Index([  1.0,   2.0,   3.0,   4.0,   5.0,   6.0,   7.0,   8.0,   9.0,\n",
      "               10.0,\n",
      "              ...\n",
      "              960.0, 961.0, 962.0, 963.0, 964.0, 965.0, 966.0, 967.0, 968.0,\n",
      "              969.0],\n",
      "             dtype='float64', length=969)\n",
      "1.0      100\n",
      "2.0       95\n",
      "3.0       91\n",
      "4.0       99\n",
      "5.0       88\n",
      "6.0       86\n",
      "7.0       79\n",
      "8.0       82\n",
      "9.0       87\n",
      "10.0      78\n",
      "11.0      79\n",
      "12.0      83\n",
      "13.0      74\n",
      "14.0      75\n",
      "15.0      75\n",
      "16.0      75\n",
      "17.0      74\n",
      "18.0      72\n",
      "19.0      75\n",
      "20.0      73\n",
      "21.0      70\n",
      "22.0      73\n",
      "23.0      75\n",
      "24.0      70\n",
      "25.0      77\n",
      "26.0      60\n",
      "27.0      69\n",
      "28.0      74\n",
      "29.0      67\n",
      "30.0      76\n",
      "        ... \n",
      "940.0     80\n",
      "941.0     80\n",
      "942.0     69\n",
      "943.0     86\n",
      "944.0     66\n",
      "945.0     72\n",
      "946.0     71\n",
      "947.0     79\n",
      "948.0     78\n",
      "949.0     70\n",
      "950.0     78\n",
      "951.0     70\n",
      "952.0     80\n",
      "953.0     76\n",
      "954.0     69\n",
      "955.0     76\n",
      "956.0     65\n",
      "957.0     74\n",
      "958.0     76\n",
      "959.0     70\n",
      "960.0     75\n",
      "961.0     68\n",
      "962.0     76\n",
      "963.0     82\n",
      "964.0     71\n",
      "965.0     66\n",
      "966.0     71\n",
      "967.0     75\n",
      "968.0     73\n",
      "969.0     26\n",
      "Name: ESTU_PUESTO, dtype: int64\n",
      "Elementos null/NaN 1\n",
      "__________________\n",
      "Elementos diferentes de null/NaN: 61334\n",
      "__________________\n",
      "(61334,)\n",
      "None\n"
     ]
    }
   ],
   "source": [
    "c = 'ESTU_PUESTO'\n",
    "print(data_2006[c].value_counts().sort_index().index)\n",
    "print(data_2006[c].value_counts().sort_index())\n",
    "print(missing_data(data_2006[c]))"
   ]
  },
  {
   "cell_type": "markdown",
   "metadata": {},
   "source": [
    "# FILE 2 -> 2006_2"
   ]
  },
  {
   "cell_type": "code",
   "execution_count": 8,
   "metadata": {
    "collapsed": false
   },
   "outputs": [
    {
     "name": "stderr",
     "output_type": "stream",
     "text": [
      "/usr/local/anaconda3/lib/python3.5/site-packages/IPython/core/interactiveshell.py:2723: DtypeWarning: Columns (30) have mixed types. Specify dtype option on import or set low_memory=False.\n",
      "  interactivity=interactivity, compiler=compiler, result=result)\n"
     ]
    }
   ],
   "source": [
    "data_2006_2 = pd.read_csv('../DatosFTPICFES/SABER11/SB11-BASES_DE_DATOS/SB11-20062-RGSTRO-CLFCCN-V1-0.txt', delimiter = '|',\n",
    "                         encoding = \"iso-8859-1\")"
   ]
  },
  {
   "cell_type": "code",
   "execution_count": 9,
   "metadata": {
    "collapsed": false
   },
   "outputs": [
    {
     "data": {
      "text/plain": [
       "(408326, 85)"
      ]
     },
     "execution_count": 9,
     "metadata": {},
     "output_type": "execute_result"
    }
   ],
   "source": [
    "data_2006_2.shape"
   ]
  },
  {
   "cell_type": "code",
   "execution_count": 10,
   "metadata": {
    "collapsed": false,
    "scrolled": true
   },
   "outputs": [
    {
     "data": {
      "text/html": [
       "<div>\n",
       "<table border=\"1\" class=\"dataframe\">\n",
       "  <thead>\n",
       "    <tr style=\"text-align: right;\">\n",
       "      <th></th>\n",
       "      <th>0</th>\n",
       "      <th>1</th>\n",
       "      <th>2</th>\n",
       "    </tr>\n",
       "  </thead>\n",
       "  <tbody>\n",
       "    <tr>\n",
       "      <th>ESTU_CONSECUTIVO</th>\n",
       "      <td>SB1120062000001</td>\n",
       "      <td>SB1120062000002</td>\n",
       "      <td>SB1120062000003</td>\n",
       "    </tr>\n",
       "    <tr>\n",
       "      <th>PERIODO</th>\n",
       "      <td>20062</td>\n",
       "      <td>20062</td>\n",
       "      <td>20062</td>\n",
       "    </tr>\n",
       "    <tr>\n",
       "      <th>ESTU_TIPO_DOCUMENTO</th>\n",
       "      <td>T</td>\n",
       "      <td>T</td>\n",
       "      <td>T</td>\n",
       "    </tr>\n",
       "    <tr>\n",
       "      <th>ESTU_PAIS_RESIDE</th>\n",
       "      <td>CO</td>\n",
       "      <td>CO</td>\n",
       "      <td>CO</td>\n",
       "    </tr>\n",
       "    <tr>\n",
       "      <th>ESTU_GENERO</th>\n",
       "      <td>F</td>\n",
       "      <td>F</td>\n",
       "      <td>F</td>\n",
       "    </tr>\n",
       "    <tr>\n",
       "      <th>ESTU_NACIMIENTO_DIA</th>\n",
       "      <td>1</td>\n",
       "      <td>26</td>\n",
       "      <td>11</td>\n",
       "    </tr>\n",
       "    <tr>\n",
       "      <th>ESTU_NACIMIENTO_MES</th>\n",
       "      <td>6</td>\n",
       "      <td>7</td>\n",
       "      <td>1</td>\n",
       "    </tr>\n",
       "    <tr>\n",
       "      <th>ESTU_NACIMIENTO_ANNO</th>\n",
       "      <td>1994</td>\n",
       "      <td>1990</td>\n",
       "      <td>1989</td>\n",
       "    </tr>\n",
       "    <tr>\n",
       "      <th>ESTU_EDAD</th>\n",
       "      <td>12</td>\n",
       "      <td>15</td>\n",
       "      <td>17</td>\n",
       "    </tr>\n",
       "    <tr>\n",
       "      <th>ESTU_LIMITA_BAJAVISION</th>\n",
       "      <td>NaN</td>\n",
       "      <td>NaN</td>\n",
       "      <td>NaN</td>\n",
       "    </tr>\n",
       "    <tr>\n",
       "      <th>ESTU_LIMITA_SORDOCEGUERA</th>\n",
       "      <td>NaN</td>\n",
       "      <td>NaN</td>\n",
       "      <td>NaN</td>\n",
       "    </tr>\n",
       "    <tr>\n",
       "      <th>ESTU_LIMITA_COGNITIVA</th>\n",
       "      <td>NaN</td>\n",
       "      <td>NaN</td>\n",
       "      <td>NaN</td>\n",
       "    </tr>\n",
       "    <tr>\n",
       "      <th>ESTU_LIMITA_INVIDENTE</th>\n",
       "      <td>NaN</td>\n",
       "      <td>NaN</td>\n",
       "      <td>NaN</td>\n",
       "    </tr>\n",
       "    <tr>\n",
       "      <th>ESTU_LIMITA_MOTRIZ</th>\n",
       "      <td>NaN</td>\n",
       "      <td>NaN</td>\n",
       "      <td>NaN</td>\n",
       "    </tr>\n",
       "    <tr>\n",
       "      <th>ESTU_LIMITA_SORDOINTERPRETE</th>\n",
       "      <td>NaN</td>\n",
       "      <td>NaN</td>\n",
       "      <td>NaN</td>\n",
       "    </tr>\n",
       "    <tr>\n",
       "      <th>ESTU_LIMITA_SORDONOINTERPRETE</th>\n",
       "      <td>NaN</td>\n",
       "      <td>NaN</td>\n",
       "      <td>NaN</td>\n",
       "    </tr>\n",
       "    <tr>\n",
       "      <th>ESTU_COD_RESIDE_MCPIO</th>\n",
       "      <td>13001</td>\n",
       "      <td>13001</td>\n",
       "      <td>13001</td>\n",
       "    </tr>\n",
       "    <tr>\n",
       "      <th>ESTU_RESIDE_MCPIO</th>\n",
       "      <td>CARTAGENA</td>\n",
       "      <td>CARTAGENA</td>\n",
       "      <td>CARTAGENA</td>\n",
       "    </tr>\n",
       "    <tr>\n",
       "      <th>ESTU_RESIDE_DEPTO</th>\n",
       "      <td>BOLÃVAR</td>\n",
       "      <td>BOLÃVAR</td>\n",
       "      <td>BOLÃVAR</td>\n",
       "    </tr>\n",
       "    <tr>\n",
       "      <th>ESTU_ZONA_RESIDE</th>\n",
       "      <td>1</td>\n",
       "      <td>1</td>\n",
       "      <td>1</td>\n",
       "    </tr>\n",
       "    <tr>\n",
       "      <th>ESTU_AREA_RESIDE</th>\n",
       "      <td>NaN</td>\n",
       "      <td>NaN</td>\n",
       "      <td>NaN</td>\n",
       "    </tr>\n",
       "    <tr>\n",
       "      <th>ESTU_COD_MCPIO_PRESENTACION</th>\n",
       "      <td>13001</td>\n",
       "      <td>13001</td>\n",
       "      <td>13001</td>\n",
       "    </tr>\n",
       "    <tr>\n",
       "      <th>ESTU_MCPIO_PRESENTACION</th>\n",
       "      <td>CARTAGENA</td>\n",
       "      <td>CARTAGENA</td>\n",
       "      <td>CARTAGENA</td>\n",
       "    </tr>\n",
       "    <tr>\n",
       "      <th>ESTU_DEPTO_PRESENTACION</th>\n",
       "      <td>BOLÃVAR</td>\n",
       "      <td>BOLÃVAR</td>\n",
       "      <td>BOLÃVAR</td>\n",
       "    </tr>\n",
       "    <tr>\n",
       "      <th>ESTU_EXAM_NOMBREEXAMEN</th>\n",
       "      <td>EXAMEN DE ESTADO  (2006)</td>\n",
       "      <td>EXAMEN DE ESTADO  (2006)</td>\n",
       "      <td>EXAMEN DE ESTADO  (2006)</td>\n",
       "    </tr>\n",
       "    <tr>\n",
       "      <th>IND_ESTUDIO_BACHILLERATO</th>\n",
       "      <td>1</td>\n",
       "      <td>1</td>\n",
       "      <td>1</td>\n",
       "    </tr>\n",
       "    <tr>\n",
       "      <th>IND_ANNO_TERMINO_BACHILLERATO</th>\n",
       "      <td>2006</td>\n",
       "      <td>2006</td>\n",
       "      <td>2006</td>\n",
       "    </tr>\n",
       "    <tr>\n",
       "      <th>IND_TERMINO_BACHILLERATO</th>\n",
       "      <td>NaN</td>\n",
       "      <td>NaN</td>\n",
       "      <td>NaN</td>\n",
       "    </tr>\n",
       "    <tr>\n",
       "      <th>IND_COD_ICFES_TERMINO</th>\n",
       "      <td>113597</td>\n",
       "      <td>113597</td>\n",
       "      <td>113597</td>\n",
       "    </tr>\n",
       "    <tr>\n",
       "      <th>COLE_COD_ICFES</th>\n",
       "      <td>113597</td>\n",
       "      <td>113597</td>\n",
       "      <td>113597</td>\n",
       "    </tr>\n",
       "    <tr>\n",
       "      <th>...</th>\n",
       "      <td>...</td>\n",
       "      <td>...</td>\n",
       "      <td>...</td>\n",
       "    </tr>\n",
       "    <tr>\n",
       "      <th>FAMI_INGRESO_FMILIAR_MENSUAL</th>\n",
       "      <td>NaN</td>\n",
       "      <td>NaN</td>\n",
       "      <td>NaN</td>\n",
       "    </tr>\n",
       "    <tr>\n",
       "      <th>ESTU_TRABAJA</th>\n",
       "      <td>NaN</td>\n",
       "      <td>NaN</td>\n",
       "      <td>NaN</td>\n",
       "    </tr>\n",
       "    <tr>\n",
       "      <th>ESTU_HORAS_TRABAJA</th>\n",
       "      <td>NaN</td>\n",
       "      <td>NaN</td>\n",
       "      <td>NaN</td>\n",
       "    </tr>\n",
       "    <tr>\n",
       "      <th>COLE_VALOR_PENSION</th>\n",
       "      <td>7</td>\n",
       "      <td>7</td>\n",
       "      <td>7</td>\n",
       "    </tr>\n",
       "    <tr>\n",
       "      <th>ESTU_CARRDESEADA_TIPO</th>\n",
       "      <td>NaN</td>\n",
       "      <td>NaN</td>\n",
       "      <td>NaN</td>\n",
       "    </tr>\n",
       "    <tr>\n",
       "      <th>ESTU_CARRDESEADA_NUCLEO</th>\n",
       "      <td>NaN</td>\n",
       "      <td>NaN</td>\n",
       "      <td>NaN</td>\n",
       "    </tr>\n",
       "    <tr>\n",
       "      <th>ESTU_IES_COD_DESEADA</th>\n",
       "      <td>1711</td>\n",
       "      <td>NaN</td>\n",
       "      <td>1711</td>\n",
       "    </tr>\n",
       "    <tr>\n",
       "      <th>ESTU_IES_DESEADA_NOMBRE</th>\n",
       "      <td>UNIVERSIDAD DE LA SABANA</td>\n",
       "      <td>NaN</td>\n",
       "      <td>UNIVERSIDAD DE LA SABANA</td>\n",
       "    </tr>\n",
       "    <tr>\n",
       "      <th>ESTU_IES_COD_MPIO_DESEADA</th>\n",
       "      <td>25175</td>\n",
       "      <td>NaN</td>\n",
       "      <td>25175</td>\n",
       "    </tr>\n",
       "    <tr>\n",
       "      <th>ESTU_IES_MPIO_DESEADA</th>\n",
       "      <td>CHIA</td>\n",
       "      <td>NaN</td>\n",
       "      <td>CHIA</td>\n",
       "    </tr>\n",
       "    <tr>\n",
       "      <th>ESTU_IES_DEPT_DESEADA</th>\n",
       "      <td>CUNDINAMARCA</td>\n",
       "      <td>NaN</td>\n",
       "      <td>CUNDINAMARCA</td>\n",
       "    </tr>\n",
       "    <tr>\n",
       "      <th>ESTU_RAZONINSTITUTO</th>\n",
       "      <td>3</td>\n",
       "      <td>3</td>\n",
       "      <td>3</td>\n",
       "    </tr>\n",
       "    <tr>\n",
       "      <th>ESTU_CARRDESEADA_COD</th>\n",
       "      <td>15254</td>\n",
       "      <td>NaN</td>\n",
       "      <td>7320</td>\n",
       "    </tr>\n",
       "    <tr>\n",
       "      <th>ESTU_CARRDESEADA_RAZON</th>\n",
       "      <td>2</td>\n",
       "      <td>2</td>\n",
       "      <td>3</td>\n",
       "    </tr>\n",
       "    <tr>\n",
       "      <th>PUNT_LENGUAJE</th>\n",
       "      <td>49,43</td>\n",
       "      <td>57,14</td>\n",
       "      <td>57,14</td>\n",
       "    </tr>\n",
       "    <tr>\n",
       "      <th>PUNT_MATEMATICAS</th>\n",
       "      <td>42,69</td>\n",
       "      <td>55,8</td>\n",
       "      <td>42,69</td>\n",
       "    </tr>\n",
       "    <tr>\n",
       "      <th>PUNT_C_SOCIALES</th>\n",
       "      <td>47,97</td>\n",
       "      <td>69,03</td>\n",
       "      <td>46,05</td>\n",
       "    </tr>\n",
       "    <tr>\n",
       "      <th>PUNT_FILOSOFIA</th>\n",
       "      <td>44,92</td>\n",
       "      <td>58,26</td>\n",
       "      <td>51,78</td>\n",
       "    </tr>\n",
       "    <tr>\n",
       "      <th>PUNT_BIOLOGIA</th>\n",
       "      <td>39,22</td>\n",
       "      <td>61,19</td>\n",
       "      <td>44,05</td>\n",
       "    </tr>\n",
       "    <tr>\n",
       "      <th>PUNT_QUIMICA</th>\n",
       "      <td>47,6</td>\n",
       "      <td>50,87</td>\n",
       "      <td>45,87</td>\n",
       "    </tr>\n",
       "    <tr>\n",
       "      <th>PUNT_FISICA</th>\n",
       "      <td>26,2</td>\n",
       "      <td>53,97</td>\n",
       "      <td>51,55</td>\n",
       "    </tr>\n",
       "    <tr>\n",
       "      <th>NOMBRE_IDIOMA</th>\n",
       "      <td>INGLÃS</td>\n",
       "      <td>INGLÃS</td>\n",
       "      <td>INGLÃS</td>\n",
       "    </tr>\n",
       "    <tr>\n",
       "      <th>PUNT_IDIOMA</th>\n",
       "      <td>49,6</td>\n",
       "      <td>69,4</td>\n",
       "      <td>47,66</td>\n",
       "    </tr>\n",
       "    <tr>\n",
       "      <th>DESEMP_IDIOMA</th>\n",
       "      <td>NaN</td>\n",
       "      <td>NaN</td>\n",
       "      <td>NaN</td>\n",
       "    </tr>\n",
       "    <tr>\n",
       "      <th>NOMBRE_PROFUNDIZACION</th>\n",
       "      <td>PROFUNDIZACIÃN EN MATEMÃTICA</td>\n",
       "      <td>PROFUNDIZACIÃN EN CIENCIAS SOCIALES</td>\n",
       "      <td>PROFUNDIZACIÃN EN LENGUAJE</td>\n",
       "    </tr>\n",
       "    <tr>\n",
       "      <th>PUNT_PROFUNDIZACION</th>\n",
       "      <td>5,19</td>\n",
       "      <td>6,44</td>\n",
       "      <td>5,29</td>\n",
       "    </tr>\n",
       "    <tr>\n",
       "      <th>DESEMP_PROFUNDIZACION</th>\n",
       "      <td>I</td>\n",
       "      <td>II</td>\n",
       "      <td>I</td>\n",
       "    </tr>\n",
       "    <tr>\n",
       "      <th>NOMBRE_INTERDISCIPLINAR</th>\n",
       "      <td>MEDIO AMBIENTE</td>\n",
       "      <td>VIOLENCIA Y SOCIEDAD</td>\n",
       "      <td>VIOLENCIA Y SOCIEDAD</td>\n",
       "    </tr>\n",
       "    <tr>\n",
       "      <th>PUNT_INTERDISCIPLINAR</th>\n",
       "      <td>49,02</td>\n",
       "      <td>57,28</td>\n",
       "      <td>44,42</td>\n",
       "    </tr>\n",
       "    <tr>\n",
       "      <th>ESTU_PUESTO</th>\n",
       "      <td>635</td>\n",
       "      <td>18</td>\n",
       "      <td>263</td>\n",
       "    </tr>\n",
       "  </tbody>\n",
       "</table>\n",
       "<p>85 rows × 3 columns</p>\n",
       "</div>"
      ],
      "text/plain": [
       "                                                            0  \\\n",
       "ESTU_CONSECUTIVO                              SB1120062000001   \n",
       "PERIODO                                                 20062   \n",
       "ESTU_TIPO_DOCUMENTO                                         T   \n",
       "ESTU_PAIS_RESIDE                                           CO   \n",
       "ESTU_GENERO                                                 F   \n",
       "ESTU_NACIMIENTO_DIA                                         1   \n",
       "ESTU_NACIMIENTO_MES                                         6   \n",
       "ESTU_NACIMIENTO_ANNO                                     1994   \n",
       "ESTU_EDAD                                                  12   \n",
       "ESTU_LIMITA_BAJAVISION                                    NaN   \n",
       "ESTU_LIMITA_SORDOCEGUERA                                  NaN   \n",
       "ESTU_LIMITA_COGNITIVA                                     NaN   \n",
       "ESTU_LIMITA_INVIDENTE                                     NaN   \n",
       "ESTU_LIMITA_MOTRIZ                                        NaN   \n",
       "ESTU_LIMITA_SORDOINTERPRETE                               NaN   \n",
       "ESTU_LIMITA_SORDONOINTERPRETE                             NaN   \n",
       "ESTU_COD_RESIDE_MCPIO                                   13001   \n",
       "ESTU_RESIDE_MCPIO                                   CARTAGENA   \n",
       "ESTU_RESIDE_DEPTO                                    BOLÃVAR   \n",
       "ESTU_ZONA_RESIDE                                            1   \n",
       "ESTU_AREA_RESIDE                                          NaN   \n",
       "ESTU_COD_MCPIO_PRESENTACION                             13001   \n",
       "ESTU_MCPIO_PRESENTACION                             CARTAGENA   \n",
       "ESTU_DEPTO_PRESENTACION                              BOLÃVAR   \n",
       "ESTU_EXAM_NOMBREEXAMEN               EXAMEN DE ESTADO  (2006)   \n",
       "IND_ESTUDIO_BACHILLERATO                                    1   \n",
       "IND_ANNO_TERMINO_BACHILLERATO                            2006   \n",
       "IND_TERMINO_BACHILLERATO                                  NaN   \n",
       "IND_COD_ICFES_TERMINO                                  113597   \n",
       "COLE_COD_ICFES                                         113597   \n",
       "...                                                       ...   \n",
       "FAMI_INGRESO_FMILIAR_MENSUAL                              NaN   \n",
       "ESTU_TRABAJA                                              NaN   \n",
       "ESTU_HORAS_TRABAJA                                        NaN   \n",
       "COLE_VALOR_PENSION                                          7   \n",
       "ESTU_CARRDESEADA_TIPO                                     NaN   \n",
       "ESTU_CARRDESEADA_NUCLEO                                   NaN   \n",
       "ESTU_IES_COD_DESEADA                                     1711   \n",
       "ESTU_IES_DESEADA_NOMBRE              UNIVERSIDAD DE LA SABANA   \n",
       "ESTU_IES_COD_MPIO_DESEADA                               25175   \n",
       "ESTU_IES_MPIO_DESEADA                                    CHIA   \n",
       "ESTU_IES_DEPT_DESEADA                            CUNDINAMARCA   \n",
       "ESTU_RAZONINSTITUTO                                         3   \n",
       "ESTU_CARRDESEADA_COD                                    15254   \n",
       "ESTU_CARRDESEADA_RAZON                                      2   \n",
       "PUNT_LENGUAJE                                           49,43   \n",
       "PUNT_MATEMATICAS                                        42,69   \n",
       "PUNT_C_SOCIALES                                         47,97   \n",
       "PUNT_FILOSOFIA                                          44,92   \n",
       "PUNT_BIOLOGIA                                           39,22   \n",
       "PUNT_QUIMICA                                             47,6   \n",
       "PUNT_FISICA                                              26,2   \n",
       "NOMBRE_IDIOMA                                         INGLÃS   \n",
       "PUNT_IDIOMA                                              49,6   \n",
       "DESEMP_IDIOMA                                             NaN   \n",
       "NOMBRE_PROFUNDIZACION          PROFUNDIZACIÃN EN MATEMÃTICA   \n",
       "PUNT_PROFUNDIZACION                                      5,19   \n",
       "DESEMP_PROFUNDIZACION                                       I   \n",
       "NOMBRE_INTERDISCIPLINAR                        MEDIO AMBIENTE   \n",
       "PUNT_INTERDISCIPLINAR                                   49,02   \n",
       "ESTU_PUESTO                                               635   \n",
       "\n",
       "                                                                  1  \\\n",
       "ESTU_CONSECUTIVO                                    SB1120062000002   \n",
       "PERIODO                                                       20062   \n",
       "ESTU_TIPO_DOCUMENTO                                               T   \n",
       "ESTU_PAIS_RESIDE                                                 CO   \n",
       "ESTU_GENERO                                                       F   \n",
       "ESTU_NACIMIENTO_DIA                                              26   \n",
       "ESTU_NACIMIENTO_MES                                               7   \n",
       "ESTU_NACIMIENTO_ANNO                                           1990   \n",
       "ESTU_EDAD                                                        15   \n",
       "ESTU_LIMITA_BAJAVISION                                          NaN   \n",
       "ESTU_LIMITA_SORDOCEGUERA                                        NaN   \n",
       "ESTU_LIMITA_COGNITIVA                                           NaN   \n",
       "ESTU_LIMITA_INVIDENTE                                           NaN   \n",
       "ESTU_LIMITA_MOTRIZ                                              NaN   \n",
       "ESTU_LIMITA_SORDOINTERPRETE                                     NaN   \n",
       "ESTU_LIMITA_SORDONOINTERPRETE                                   NaN   \n",
       "ESTU_COD_RESIDE_MCPIO                                         13001   \n",
       "ESTU_RESIDE_MCPIO                                         CARTAGENA   \n",
       "ESTU_RESIDE_DEPTO                                          BOLÃVAR   \n",
       "ESTU_ZONA_RESIDE                                                  1   \n",
       "ESTU_AREA_RESIDE                                                NaN   \n",
       "ESTU_COD_MCPIO_PRESENTACION                                   13001   \n",
       "ESTU_MCPIO_PRESENTACION                                   CARTAGENA   \n",
       "ESTU_DEPTO_PRESENTACION                                    BOLÃVAR   \n",
       "ESTU_EXAM_NOMBREEXAMEN                     EXAMEN DE ESTADO  (2006)   \n",
       "IND_ESTUDIO_BACHILLERATO                                          1   \n",
       "IND_ANNO_TERMINO_BACHILLERATO                                  2006   \n",
       "IND_TERMINO_BACHILLERATO                                        NaN   \n",
       "IND_COD_ICFES_TERMINO                                        113597   \n",
       "COLE_COD_ICFES                                               113597   \n",
       "...                                                             ...   \n",
       "FAMI_INGRESO_FMILIAR_MENSUAL                                    NaN   \n",
       "ESTU_TRABAJA                                                    NaN   \n",
       "ESTU_HORAS_TRABAJA                                              NaN   \n",
       "COLE_VALOR_PENSION                                                7   \n",
       "ESTU_CARRDESEADA_TIPO                                           NaN   \n",
       "ESTU_CARRDESEADA_NUCLEO                                         NaN   \n",
       "ESTU_IES_COD_DESEADA                                            NaN   \n",
       "ESTU_IES_DESEADA_NOMBRE                                         NaN   \n",
       "ESTU_IES_COD_MPIO_DESEADA                                       NaN   \n",
       "ESTU_IES_MPIO_DESEADA                                           NaN   \n",
       "ESTU_IES_DEPT_DESEADA                                           NaN   \n",
       "ESTU_RAZONINSTITUTO                                               3   \n",
       "ESTU_CARRDESEADA_COD                                            NaN   \n",
       "ESTU_CARRDESEADA_RAZON                                            2   \n",
       "PUNT_LENGUAJE                                                 57,14   \n",
       "PUNT_MATEMATICAS                                               55,8   \n",
       "PUNT_C_SOCIALES                                               69,03   \n",
       "PUNT_FILOSOFIA                                                58,26   \n",
       "PUNT_BIOLOGIA                                                 61,19   \n",
       "PUNT_QUIMICA                                                  50,87   \n",
       "PUNT_FISICA                                                   53,97   \n",
       "NOMBRE_IDIOMA                                               INGLÃS   \n",
       "PUNT_IDIOMA                                                    69,4   \n",
       "DESEMP_IDIOMA                                                   NaN   \n",
       "NOMBRE_PROFUNDIZACION          PROFUNDIZACIÃN EN CIENCIAS SOCIALES   \n",
       "PUNT_PROFUNDIZACION                                            6,44   \n",
       "DESEMP_PROFUNDIZACION                                            II   \n",
       "NOMBRE_INTERDISCIPLINAR                        VIOLENCIA Y SOCIEDAD   \n",
       "PUNT_INTERDISCIPLINAR                                         57,28   \n",
       "ESTU_PUESTO                                                      18   \n",
       "\n",
       "                                                         2  \n",
       "ESTU_CONSECUTIVO                           SB1120062000003  \n",
       "PERIODO                                              20062  \n",
       "ESTU_TIPO_DOCUMENTO                                      T  \n",
       "ESTU_PAIS_RESIDE                                        CO  \n",
       "ESTU_GENERO                                              F  \n",
       "ESTU_NACIMIENTO_DIA                                     11  \n",
       "ESTU_NACIMIENTO_MES                                      1  \n",
       "ESTU_NACIMIENTO_ANNO                                  1989  \n",
       "ESTU_EDAD                                               17  \n",
       "ESTU_LIMITA_BAJAVISION                                 NaN  \n",
       "ESTU_LIMITA_SORDOCEGUERA                               NaN  \n",
       "ESTU_LIMITA_COGNITIVA                                  NaN  \n",
       "ESTU_LIMITA_INVIDENTE                                  NaN  \n",
       "ESTU_LIMITA_MOTRIZ                                     NaN  \n",
       "ESTU_LIMITA_SORDOINTERPRETE                            NaN  \n",
       "ESTU_LIMITA_SORDONOINTERPRETE                          NaN  \n",
       "ESTU_COD_RESIDE_MCPIO                                13001  \n",
       "ESTU_RESIDE_MCPIO                                CARTAGENA  \n",
       "ESTU_RESIDE_DEPTO                                 BOLÃVAR  \n",
       "ESTU_ZONA_RESIDE                                         1  \n",
       "ESTU_AREA_RESIDE                                       NaN  \n",
       "ESTU_COD_MCPIO_PRESENTACION                          13001  \n",
       "ESTU_MCPIO_PRESENTACION                          CARTAGENA  \n",
       "ESTU_DEPTO_PRESENTACION                           BOLÃVAR  \n",
       "ESTU_EXAM_NOMBREEXAMEN            EXAMEN DE ESTADO  (2006)  \n",
       "IND_ESTUDIO_BACHILLERATO                                 1  \n",
       "IND_ANNO_TERMINO_BACHILLERATO                         2006  \n",
       "IND_TERMINO_BACHILLERATO                               NaN  \n",
       "IND_COD_ICFES_TERMINO                               113597  \n",
       "COLE_COD_ICFES                                      113597  \n",
       "...                                                    ...  \n",
       "FAMI_INGRESO_FMILIAR_MENSUAL                           NaN  \n",
       "ESTU_TRABAJA                                           NaN  \n",
       "ESTU_HORAS_TRABAJA                                     NaN  \n",
       "COLE_VALOR_PENSION                                       7  \n",
       "ESTU_CARRDESEADA_TIPO                                  NaN  \n",
       "ESTU_CARRDESEADA_NUCLEO                                NaN  \n",
       "ESTU_IES_COD_DESEADA                                  1711  \n",
       "ESTU_IES_DESEADA_NOMBRE           UNIVERSIDAD DE LA SABANA  \n",
       "ESTU_IES_COD_MPIO_DESEADA                            25175  \n",
       "ESTU_IES_MPIO_DESEADA                                 CHIA  \n",
       "ESTU_IES_DEPT_DESEADA                         CUNDINAMARCA  \n",
       "ESTU_RAZONINSTITUTO                                      3  \n",
       "ESTU_CARRDESEADA_COD                                  7320  \n",
       "ESTU_CARRDESEADA_RAZON                                   3  \n",
       "PUNT_LENGUAJE                                        57,14  \n",
       "PUNT_MATEMATICAS                                     42,69  \n",
       "PUNT_C_SOCIALES                                      46,05  \n",
       "PUNT_FILOSOFIA                                       51,78  \n",
       "PUNT_BIOLOGIA                                        44,05  \n",
       "PUNT_QUIMICA                                         45,87  \n",
       "PUNT_FISICA                                          51,55  \n",
       "NOMBRE_IDIOMA                                      INGLÃS  \n",
       "PUNT_IDIOMA                                          47,66  \n",
       "DESEMP_IDIOMA                                          NaN  \n",
       "NOMBRE_PROFUNDIZACION          PROFUNDIZACIÃN EN LENGUAJE  \n",
       "PUNT_PROFUNDIZACION                                   5,29  \n",
       "DESEMP_PROFUNDIZACION                                    I  \n",
       "NOMBRE_INTERDISCIPLINAR               VIOLENCIA Y SOCIEDAD  \n",
       "PUNT_INTERDISCIPLINAR                                44,42  \n",
       "ESTU_PUESTO                                            263  \n",
       "\n",
       "[85 rows x 3 columns]"
      ]
     },
     "execution_count": 10,
     "metadata": {},
     "output_type": "execute_result"
    }
   ],
   "source": [
    "data_2006_2.head(3).T"
   ]
  },
  {
   "cell_type": "markdown",
   "metadata": {},
   "source": [
    "First delete the columns that wont' contribute to the work"
   ]
  },
  {
   "cell_type": "code",
   "execution_count": 11,
   "metadata": {
    "collapsed": true
   },
   "outputs": [],
   "source": [
    "data_2006_2 = data_2006_2.drop(['ESTU_CONSECUTIVO', 'PERIODO', 'ESTU_TIPO_DOCUMENTO', 'ESTU_RESIDE_MCPIO', 'ESTU_MCPIO_PRESENTACION',\n",
    "                               'ESTU_IES_DESEADA_NOMBRE', 'ESTU_IES_MPIO_DESEADA'], axis=1)"
   ]
  },
  {
   "cell_type": "code",
   "execution_count": null,
   "metadata": {
    "collapsed": true
   },
   "outputs": [],
   "source": [
    "c = 'ESTU_PAIS_RESIDE'\n",
    "print(data_2006_2[c].value_counts().sort_index().index)\n",
    "print(data_2006_2[c].value_counts().sort_index())\n",
    "print(missing_data(data_2006_2[c]))"
   ]
  },
  {
   "cell_type": "code",
   "execution_count": null,
   "metadata": {
    "collapsed": true
   },
   "outputs": [],
   "source": [
    "c = 'ESTU_GENERO'\n",
    "print(data_2006_2[c].value_counts().sort_index().index)\n",
    "print(data_2006_2[c].value_counts().sort_index())\n",
    "print(missing_data(data_2006_2[c]))"
   ]
  },
  {
   "cell_type": "code",
   "execution_count": null,
   "metadata": {
    "collapsed": true
   },
   "outputs": [],
   "source": [
    "c = 'ESTU_NACIMIENTO_DIA'\n",
    "print(data_2006_2[c].value_counts().sort_index().index)\n",
    "print(data_2006_2[c].value_counts().sort_index())\n",
    "print(missing_data(data_2006_2[c]))"
   ]
  },
  {
   "cell_type": "code",
   "execution_count": null,
   "metadata": {
    "collapsed": true
   },
   "outputs": [],
   "source": [
    "c = 'ESTU_NACIMIENTO_MES'\n",
    "print(data_2006_2[c].value_counts().sort_index().index)\n",
    "print(data_2006_2[c].value_counts().sort_index())\n",
    "print(missing_data(data_2006_2[c]))"
   ]
  },
  {
   "cell_type": "code",
   "execution_count": null,
   "metadata": {
    "collapsed": true
   },
   "outputs": [],
   "source": [
    "c = 'ESTU_NACIMIENTO_ANNO'\n",
    "print(data_2006_2[c].value_counts().sort_index().index)\n",
    "print(data_2006_2[c].value_counts().sort_index())\n",
    "print(missing_data(data_2006_2[c]))"
   ]
  },
  {
   "cell_type": "code",
   "execution_count": null,
   "metadata": {
    "collapsed": true
   },
   "outputs": [],
   "source": [
    "c = 'ESTU_EDAD'\n",
    "print(data_2006_2[c].value_counts().sort_index().index)\n",
    "print(data_2006_2[c].value_counts().sort_index())\n",
    "print(missing_data(data_2006_2[c]))"
   ]
  },
  {
   "cell_type": "code",
   "execution_count": null,
   "metadata": {
    "collapsed": true
   },
   "outputs": [],
   "source": [
    "c = 'ESTU_LIMITA_BAJAVISION'\n",
    "print(data_2006_2[c].value_counts().sort_index().index)\n",
    "print(data_2006_2[c].value_counts().sort_index())\n",
    "print(missing_data(data_2006_2[c]))"
   ]
  },
  {
   "cell_type": "code",
   "execution_count": null,
   "metadata": {
    "collapsed": true
   },
   "outputs": [],
   "source": [
    "c = 'ESTU_LIMITA_SORDOCEGUERA'\n",
    "print(data_2006_2[c].value_counts().sort_index().index)\n",
    "print(data_2006_2[c].value_counts().sort_index())\n",
    "print(missing_data(data_2006_2[c]))"
   ]
  },
  {
   "cell_type": "code",
   "execution_count": null,
   "metadata": {
    "collapsed": true
   },
   "outputs": [],
   "source": [
    "c = 'ESTU_LIMITA_COGNITIVA'\n",
    "print(data_2006_2[c].value_counts().sort_index().index)\n",
    "print(data_2006_2[c].value_counts().sort_index())\n",
    "print(missing_data(data_2006_2[c]))"
   ]
  },
  {
   "cell_type": "code",
   "execution_count": null,
   "metadata": {
    "collapsed": true
   },
   "outputs": [],
   "source": [
    "c = 'ESTU_LIMITA_INVIDENTE'\n",
    "print(data_2006_2[c].value_counts().sort_index().index)\n",
    "print(data_2006_2[c].value_counts().sort_index())\n",
    "print(missing_data(data_2006_2[c]))"
   ]
  },
  {
   "cell_type": "code",
   "execution_count": null,
   "metadata": {
    "collapsed": true
   },
   "outputs": [],
   "source": [
    "c = 'ESTU_LIMITA_MOTRIZ'\n",
    "print(data_2006_2[c].value_counts().sort_index().index)\n",
    "print(data_2006_2[c].value_counts().sort_index())\n",
    "print(missing_data(data_2006_2[c]))"
   ]
  },
  {
   "cell_type": "code",
   "execution_count": null,
   "metadata": {
    "collapsed": true
   },
   "outputs": [],
   "source": [
    "c = 'ESTU_LIMITA_SORDOINTERPRETE'\n",
    "print(data_2006_2[c].value_counts().sort_index().index)\n",
    "print(data_2006_2[c].value_counts().sort_index())\n",
    "print(missing_data(data_2006_2[c]))"
   ]
  },
  {
   "cell_type": "code",
   "execution_count": null,
   "metadata": {
    "collapsed": true
   },
   "outputs": [],
   "source": [
    "c = 'ESTU_LIMITA_SORDONOINTERPRETE'\n",
    "print(data_2006_2[c].value_counts().sort_index().index)\n",
    "print(data_2006_2[c].value_counts().sort_index())\n",
    "print(missing_data(data_2006_2[c]))"
   ]
  },
  {
   "cell_type": "code",
   "execution_count": null,
   "metadata": {
    "collapsed": true
   },
   "outputs": [],
   "source": [
    "c = 'ESTU_COD_RESIDE_MCPIO'\n",
    "print(data_2006_2[c].value_counts().sort_index().index)\n",
    "print(data_2006_2[c].value_counts().sort_index())\n",
    "print(missing_data(data_2006_2[c]))"
   ]
  },
  {
   "cell_type": "code",
   "execution_count": null,
   "metadata": {
    "collapsed": true
   },
   "outputs": [],
   "source": [
    "c = 'ESTU_RESIDE_DEPTO'\n",
    "print(data_2006_2[c].value_counts().sort_index().index)\n",
    "print(data_2006_2[c].value_counts().sort_index())\n",
    "print(missing_data(data_2006_2[c]))"
   ]
  },
  {
   "cell_type": "code",
   "execution_count": null,
   "metadata": {
    "collapsed": true
   },
   "outputs": [],
   "source": [
    "c = 'ESTU_ZONA_RESIDE'\n",
    "print(data_2006_2[c].value_counts().sort_index().index)\n",
    "print(data_2006_2[c].value_counts().sort_index())\n",
    "print(missing_data(data_2006_2[c]))"
   ]
  },
  {
   "cell_type": "code",
   "execution_count": null,
   "metadata": {
    "collapsed": true
   },
   "outputs": [],
   "source": [
    "c = 'ESTU_AREA_RESIDE'\n",
    "print(data_2006_2[c].value_counts().sort_index().index)\n",
    "print(data_2006_2[c].value_counts().sort_index())\n",
    "print(missing_data(data_2006_2[c]))"
   ]
  },
  {
   "cell_type": "code",
   "execution_count": null,
   "metadata": {
    "collapsed": true
   },
   "outputs": [],
   "source": [
    "c = 'ESTU_COD_MCPIO_PRESENTACION'\n",
    "print(data_2006_2[c].value_counts().sort_index().index)\n",
    "print(data_2006_2[c].value_counts().sort_index())\n",
    "print(missing_data(data_2006_2[c]))"
   ]
  },
  {
   "cell_type": "code",
   "execution_count": null,
   "metadata": {
    "collapsed": true
   },
   "outputs": [],
   "source": [
    "c = 'ESTU_DEPTO_PRESENTACION'\n",
    "print(data_2006_2[c].value_counts().sort_index().index)\n",
    "print(data_2006_2[c].value_counts().sort_index())\n",
    "print(missing_data(data_2006_2[c]))"
   ]
  },
  {
   "cell_type": "code",
   "execution_count": null,
   "metadata": {
    "collapsed": true
   },
   "outputs": [],
   "source": [
    "c = 'ESTU_EXAM_NOMBREEXAMEN'\n",
    "print(data_2006_2[c].value_counts().sort_index().index)\n",
    "print(data_2006_2[c].value_counts().sort_index())\n",
    "print(missing_data(data_2006_2[c]))"
   ]
  },
  {
   "cell_type": "code",
   "execution_count": null,
   "metadata": {
    "collapsed": true
   },
   "outputs": [],
   "source": [
    "c = 'IND_ESTUDIO_BACHILLERATO'\n",
    "print(data_2006_2[c].value_counts().sort_index().index)\n",
    "print(data_2006_2[c].value_counts().sort_index())\n",
    "print(missing_data(data_2006_2[c]))"
   ]
  },
  {
   "cell_type": "code",
   "execution_count": null,
   "metadata": {
    "collapsed": true
   },
   "outputs": [],
   "source": [
    "c = 'IND_ANNO_TERMINO_BACHILLERATO'\n",
    "print(data_2006_2[c].value_counts().sort_index().index)\n",
    "print(data_2006_2[c].value_counts().sort_index())\n",
    "print(missing_data(data_2006_2[c]))"
   ]
  },
  {
   "cell_type": "code",
   "execution_count": null,
   "metadata": {
    "collapsed": true
   },
   "outputs": [],
   "source": [
    "c = 'IND_TERMINO_BACHILLERATO'\n",
    "print(data_2006_2[c].value_counts().sort_index().index)\n",
    "print(data_2006_2[c].value_counts().sort_index())\n",
    "print(missing_data(data_2006_2[c]))"
   ]
  },
  {
   "cell_type": "code",
   "execution_count": null,
   "metadata": {
    "collapsed": true
   },
   "outputs": [],
   "source": [
    "c = 'IND_COD_ICFES_TERMINO'\n",
    "print(data_2006_2[c].value_counts().sort_index().index)\n",
    "print(data_2006_2[c].value_counts().sort_index())\n",
    "print(missing_data(data_2006_2[c]))"
   ]
  },
  {
   "cell_type": "code",
   "execution_count": null,
   "metadata": {
    "collapsed": true
   },
   "outputs": [],
   "source": [
    "c = 'COLE_COD_ICFES'\n",
    "print(data_2006_2[c].value_counts().sort_index().index)\n",
    "print(data_2006_2[c].value_counts().sort_index())\n",
    "print(missing_data(data_2006_2[c]))"
   ]
  },
  {
   "cell_type": "code",
   "execution_count": null,
   "metadata": {
    "collapsed": true
   },
   "outputs": [],
   "source": [
    "c = 'COLE_COD_DANE_INSTITUCION'\n",
    "print(data_2006_2[c].value_counts().sort_index().index)\n",
    "print(data_2006_2[c].value_counts().sort_index())\n",
    "print(missing_data(data_2006_2[c]))"
   ]
  },
  {
   "cell_type": "code",
   "execution_count": null,
   "metadata": {
    "collapsed": true
   },
   "outputs": [],
   "source": [
    "c = 'COLE_NOMBRE_SEDE'\n",
    "print(data_2006_2[c].value_counts().sort_index().index)\n",
    "print(data_2006_2[c].value_counts().sort_index())\n",
    "print(missing_data(data_2006_2[c]))"
   ]
  },
  {
   "cell_type": "code",
   "execution_count": null,
   "metadata": {
    "collapsed": true
   },
   "outputs": [],
   "source": [
    "c = 'COLE_CALENDARIO'\n",
    "print(data_2006_2[c].value_counts().sort_index().index)\n",
    "print(data_2006_2[c].value_counts().sort_index())\n",
    "print(missing_data(data_2006_2[c]))"
   ]
  },
  {
   "cell_type": "code",
   "execution_count": null,
   "metadata": {
    "collapsed": true
   },
   "outputs": [],
   "source": [
    "c = 'COLE_GENERO'\n",
    "print(data_2006_2[c].value_counts().sort_index().index)\n",
    "print(data_2006_2[c].value_counts().sort_index())\n",
    "print(missing_data(data_2006_2[c]))"
   ]
  },
  {
   "cell_type": "code",
   "execution_count": null,
   "metadata": {
    "collapsed": true
   },
   "outputs": [],
   "source": [
    "c = 'COLE_NATURALEZA'\n",
    "print(data_2006_2[c].value_counts().sort_index().index)\n",
    "print(data_2006_2[c].value_counts().sort_index())\n",
    "print(missing_data(data_2006_2[c]))"
   ]
  },
  {
   "cell_type": "code",
   "execution_count": null,
   "metadata": {
    "collapsed": true
   },
   "outputs": [],
   "source": [
    "c = 'COLE_BILINGUE'\n",
    "print(data_2006_2[c].value_counts().sort_index().index)\n",
    "print(data_2006_2[c].value_counts().sort_index())\n",
    "print(missing_data(data_2006_2[c]))"
   ]
  },
  {
   "cell_type": "code",
   "execution_count": null,
   "metadata": {
    "collapsed": true
   },
   "outputs": [],
   "source": [
    "c = 'COLE_JORNADA'\n",
    "print(data_2006_2[c].value_counts().sort_index().index)\n",
    "print(data_2006_2[c].value_counts().sort_index())\n",
    "print(missing_data(data_2006_2[c]))"
   ]
  },
  {
   "cell_type": "code",
   "execution_count": null,
   "metadata": {
    "collapsed": true
   },
   "outputs": [],
   "source": [
    "c = 'COLE_CARACTER'\n",
    "print(data_2006_2[c].value_counts().sort_index().index)\n",
    "print(data_2006_2[c].value_counts().sort_index())\n",
    "print(missing_data(data_2006_2[c]))"
   ]
  },
  {
   "cell_type": "code",
   "execution_count": null,
   "metadata": {
    "collapsed": true
   },
   "outputs": [],
   "source": [
    "c = 'ESTU_ETNIA'\n",
    "print(data_2006_2[c].value_counts().sort_index().index)\n",
    "print(data_2006_2[c].value_counts().sort_index())\n",
    "print(missing_data(data_2006_2[c]))"
   ]
  },
  {
   "cell_type": "code",
   "execution_count": null,
   "metadata": {
    "collapsed": true
   },
   "outputs": [],
   "source": [
    "c = 'FAMI_LEE_ESCRIBE_PADRE'\n",
    "print(data_2006_2[c].value_counts().sort_index().index)\n",
    "print(data_2006_2[c].value_counts().sort_index())\n",
    "print(missing_data(data_2006_2[c]))"
   ]
  },
  {
   "cell_type": "code",
   "execution_count": null,
   "metadata": {
    "collapsed": true
   },
   "outputs": [],
   "source": [
    "c = 'FAMI_LEE_ESCRIBE_MADRE'\n",
    "print(data_2006_2[c].value_counts().sort_index().index)\n",
    "print(data_2006_2[c].value_counts().sort_index())\n",
    "print(missing_data(data_2006_2[c]))"
   ]
  },
  {
   "cell_type": "code",
   "execution_count": null,
   "metadata": {
    "collapsed": true
   },
   "outputs": [],
   "source": [
    "c = 'FAMI_EDUCA_PADRE'\n",
    "print(data_2006_2[c].value_counts().sort_index().index)\n",
    "print(data_2006_2[c].value_counts().sort_index())\n",
    "print(missing_data(data_2006_2[c]))"
   ]
  },
  {
   "cell_type": "code",
   "execution_count": null,
   "metadata": {
    "collapsed": true
   },
   "outputs": [],
   "source": [
    "c = 'FAMI_EDUCA_MADRE'\n",
    "print(data_2006_2[c].value_counts().sort_index().index)\n",
    "print(data_2006_2[c].value_counts().sort_index())\n",
    "print(missing_data(data_2006_2[c]))"
   ]
  },
  {
   "cell_type": "code",
   "execution_count": null,
   "metadata": {
    "collapsed": true
   },
   "outputs": [],
   "source": [
    "c = 'FAMI_OCUPA_PADRE'\n",
    "print(data_2006_2[c].value_counts().sort_index().index)\n",
    "print(data_2006_2[c].value_counts().sort_index())\n",
    "print(missing_data(data_2006_2[c]))"
   ]
  },
  {
   "cell_type": "code",
   "execution_count": null,
   "metadata": {
    "collapsed": true
   },
   "outputs": [],
   "source": [
    "c = 'FAMI_OCUPA_MADRE'\n",
    "print(data_2006_2[c].value_counts().sort_index().index)\n",
    "print(data_2006_2[c].value_counts().sort_index())\n",
    "print(missing_data(data_2006_2[c]))"
   ]
  },
  {
   "cell_type": "code",
   "execution_count": null,
   "metadata": {
    "collapsed": true
   },
   "outputs": [],
   "source": [
    "c = 'FAMI_NUM_HERMANOS'\n",
    "print(data_2006_2[c].value_counts().sort_index().index)\n",
    "print(data_2006_2[c].value_counts().sort_index())\n",
    "print(missing_data(data_2006_2[c]))"
   ]
  },
  {
   "cell_type": "code",
   "execution_count": null,
   "metadata": {
    "collapsed": true
   },
   "outputs": [],
   "source": [
    "c = 'FAMI_EDUCA_HERMANO'\n",
    "print(data_2006_2[c].value_counts().sort_index().index)\n",
    "print(data_2006_2[c].value_counts().sort_index())\n",
    "print(missing_data(data_2006_2[c]))"
   ]
  },
  {
   "cell_type": "code",
   "execution_count": null,
   "metadata": {
    "collapsed": true
   },
   "outputs": [],
   "source": [
    "c = 'FAMI_HERMANOS_ESTUDIAN'\n",
    "print(data_2006_2[c].value_counts().sort_index().index)\n",
    "print(data_2006_2[c].value_counts().sort_index())\n",
    "print(missing_data(data_2006_2[c]))"
   ]
  },
  {
   "cell_type": "code",
   "execution_count": null,
   "metadata": {
    "collapsed": true
   },
   "outputs": [],
   "source": [
    "c = 'FAMI_ESTRATO_VIVIENDA'\n",
    "print(data_2006_2[c].value_counts().sort_index().index)\n",
    "print(data_2006_2[c].value_counts().sort_index())\n",
    "print(missing_data(data_2006_2[c]))"
   ]
  },
  {
   "cell_type": "code",
   "execution_count": null,
   "metadata": {
    "collapsed": true
   },
   "outputs": [],
   "source": [
    "c = 'FAMI_NIVEL_SISBEN'\n",
    "print(data_2006_2[c].value_counts().sort_index().index)\n",
    "print(data_2006_2[c].value_counts().sort_index())\n",
    "print(missing_data(data_2006_2[c]))"
   ]
  },
  {
   "cell_type": "code",
   "execution_count": null,
   "metadata": {
    "collapsed": true
   },
   "outputs": [],
   "source": [
    "c = 'FAMI_PERSONAS_HOGAR'\n",
    "print(data_2006_2[c].value_counts().sort_index().index)\n",
    "print(data_2006_2[c].value_counts().sort_index())\n",
    "print(missing_data(data_2006_2[c]))"
   ]
  },
  {
   "cell_type": "code",
   "execution_count": null,
   "metadata": {
    "collapsed": true
   },
   "outputs": [],
   "source": [
    "c = 'FAMI_PISOSHOGAR'\n",
    "print(data_2006_2[c].value_counts().sort_index().index)\n",
    "print(data_2006_2[c].value_counts().sort_index())\n",
    "print(missing_data(data_2006_2[c]))"
   ]
  },
  {
   "cell_type": "code",
   "execution_count": null,
   "metadata": {
    "collapsed": true
   },
   "outputs": [],
   "source": [
    "c = 'FAMI_CUARTOS_HOGAR'\n",
    "print(data_2006_2[c].value_counts().sort_index().index)\n",
    "print(data_2006_2[c].value_counts().sort_index())\n",
    "print(missing_data(data_2006_2[c]))"
   ]
  },
  {
   "cell_type": "code",
   "execution_count": null,
   "metadata": {
    "collapsed": true
   },
   "outputs": [],
   "source": [
    "c = 'FAMI_DORMITORIOS_HOGAR'\n",
    "print(data_2006_2[c].value_counts().sort_index().index)\n",
    "print(data_2006_2[c].value_counts().sort_index())\n",
    "print(missing_data(data_2006_2[c]))"
   ]
  },
  {
   "cell_type": "code",
   "execution_count": null,
   "metadata": {
    "collapsed": true
   },
   "outputs": [],
   "source": [
    "c = 'FAMI_COMPUTADOR'\n",
    "print(data_2006_2[c].value_counts().sort_index().index)\n",
    "print(data_2006_2[c].value_counts().sort_index())\n",
    "print(missing_data(data_2006_2[c]))"
   ]
  },
  {
   "cell_type": "code",
   "execution_count": null,
   "metadata": {
    "collapsed": true
   },
   "outputs": [],
   "source": [
    "c = 'FAMI_INGRESO_FMILIAR_MENSUAL'\n",
    "print(data_2006_2[c].value_counts().sort_index().index)\n",
    "print(data_2006_2[c].value_counts().sort_index())\n",
    "print(missing_data(data_2006_2[c]))"
   ]
  },
  {
   "cell_type": "code",
   "execution_count": null,
   "metadata": {
    "collapsed": true
   },
   "outputs": [],
   "source": [
    "c = 'ESTU_TRABAJA'\n",
    "print(data_2006_2[c].value_counts().sort_index().index)\n",
    "print(data_2006_2[c].value_counts().sort_index())\n",
    "print(missing_data(data_2006_2[c]))"
   ]
  },
  {
   "cell_type": "code",
   "execution_count": null,
   "metadata": {
    "collapsed": true
   },
   "outputs": [],
   "source": [
    "c = 'ESTU_HORAS_TRABAJA'\n",
    "print(data_2006_2[c].value_counts().sort_index().index)\n",
    "print(data_2006_2[c].value_counts().sort_index())\n",
    "print(missing_data(data_2006_2[c]))"
   ]
  },
  {
   "cell_type": "code",
   "execution_count": null,
   "metadata": {
    "collapsed": true
   },
   "outputs": [],
   "source": [
    "c = 'COLE_VALOR_PENSION'\n",
    "print(data_2006_2[c].value_counts().sort_index().index)\n",
    "print(data_2006_2[c].value_counts().sort_index())\n",
    "print(missing_data(data_2006_2[c]))"
   ]
  },
  {
   "cell_type": "code",
   "execution_count": null,
   "metadata": {
    "collapsed": true
   },
   "outputs": [],
   "source": [
    "c = 'ESTU_CARRDESEADA_TIPO'\n",
    "print(data_2006_2[c].value_counts().sort_index().index)\n",
    "print(data_2006_2[c].value_counts().sort_index())\n",
    "print(missing_data(data_2006_2[c]))"
   ]
  },
  {
   "cell_type": "code",
   "execution_count": null,
   "metadata": {
    "collapsed": true
   },
   "outputs": [],
   "source": [
    "c = 'ESTU_CARRDESEADA_NUCLEO'\n",
    "print(data_2006_2[c].value_counts().sort_index().index)\n",
    "print(data_2006_2[c].value_counts().sort_index())\n",
    "print(missing_data(data_2006_2[c]))"
   ]
  },
  {
   "cell_type": "code",
   "execution_count": null,
   "metadata": {
    "collapsed": true
   },
   "outputs": [],
   "source": [
    "c = 'ESTU_IES_COD_DESEADA'\n",
    "print(data_2006_2[c].value_counts().sort_index().index)\n",
    "print(data_2006_2[c].value_counts().sort_index())\n",
    "print(missing_data(data_2006_2[c]))"
   ]
  },
  {
   "cell_type": "code",
   "execution_count": null,
   "metadata": {
    "collapsed": true
   },
   "outputs": [],
   "source": [
    "c = 'ESTU_IES_COD_MPIO_DESEADA'\n",
    "print(data_2006_2[c].value_counts().sort_index().index)\n",
    "print(data_2006_2[c].value_counts().sort_index())\n",
    "print(missing_data(data_2006_2[c]))"
   ]
  },
  {
   "cell_type": "code",
   "execution_count": null,
   "metadata": {
    "collapsed": true
   },
   "outputs": [],
   "source": [
    "c = 'ESTU_IES_DEPT_DESEADA'\n",
    "print(data_2006_2[c].value_counts().sort_index().index)\n",
    "print(data_2006_2[c].value_counts().sort_index())\n",
    "print(missing_data(data_2006_2[c]))"
   ]
  },
  {
   "cell_type": "code",
   "execution_count": null,
   "metadata": {
    "collapsed": true
   },
   "outputs": [],
   "source": [
    "c = 'ESTU_RAZONINSTITUTO'\n",
    "print(data_2006_2[c].value_counts().sort_index().index)\n",
    "print(data_2006_2[c].value_counts().sort_index())\n",
    "print(missing_data(data_2006_2[c]))"
   ]
  },
  {
   "cell_type": "code",
   "execution_count": null,
   "metadata": {
    "collapsed": true
   },
   "outputs": [],
   "source": [
    "c = 'ESTU_CARRDESEADA_COD'\n",
    "print(data_2006_2[c].value_counts().sort_index().index)\n",
    "print(data_2006_2[c].value_counts().sort_index())\n",
    "print(missing_data(data_2006_2[c]))"
   ]
  },
  {
   "cell_type": "code",
   "execution_count": null,
   "metadata": {
    "collapsed": true
   },
   "outputs": [],
   "source": [
    "c = 'ESTU_CARRDESEADA_RAZON'\n",
    "print(data_2006_2[c].value_counts().sort_index().index)\n",
    "print(data_2006_2[c].value_counts().sort_index())\n",
    "print(missing_data(data_2006_2[c]))"
   ]
  },
  {
   "cell_type": "markdown",
   "metadata": {},
   "source": [
    "### TARGETS"
   ]
  },
  {
   "cell_type": "code",
   "execution_count": null,
   "metadata": {
    "collapsed": true
   },
   "outputs": [],
   "source": [
    "c = 'PUNT_LENGUAJE'\n",
    "print(data_2006_2[c].value_counts().sort_index().index)\n",
    "print(data_2006_2[c].value_counts().sort_index())\n",
    "print(missing_data(data_2006_2[c]))"
   ]
  },
  {
   "cell_type": "code",
   "execution_count": null,
   "metadata": {
    "collapsed": true
   },
   "outputs": [],
   "source": [
    "c = 'PUNT_MATEMATICAS'\n",
    "print(data_2006_2[c].value_counts().sort_index().index)\n",
    "print(data_2006_2[c].value_counts().sort_index())\n",
    "print(missing_data(data_2006_2[c]))"
   ]
  },
  {
   "cell_type": "code",
   "execution_count": null,
   "metadata": {
    "collapsed": true
   },
   "outputs": [],
   "source": [
    "c = 'PUNT_C_SOCIALES'\n",
    "print(data_2006_2[c].value_counts().sort_index().index)\n",
    "print(data_2006_2[c].value_counts().sort_index())\n",
    "print(missing_data(data_2006_2[c]))"
   ]
  },
  {
   "cell_type": "code",
   "execution_count": null,
   "metadata": {
    "collapsed": true
   },
   "outputs": [],
   "source": [
    "c = 'PUNT_FILOSOFIA'\n",
    "print(data_2006_2[c].value_counts().sort_index().index)\n",
    "print(data_2006_2[c].value_counts().sort_index())\n",
    "print(missing_data(data_2006_2[c]))"
   ]
  },
  {
   "cell_type": "code",
   "execution_count": null,
   "metadata": {
    "collapsed": true
   },
   "outputs": [],
   "source": [
    "c = 'PUNT_BIOLOGIA'\n",
    "print(data_2006_2[c].value_counts().sort_index().index)\n",
    "print(data_2006_2[c].value_counts().sort_index())\n",
    "print(missing_data(data_2006_2[c]))"
   ]
  },
  {
   "cell_type": "code",
   "execution_count": null,
   "metadata": {
    "collapsed": true
   },
   "outputs": [],
   "source": [
    "c = 'PUNT_QUIMICA'\n",
    "print(data_2006_2[c].value_counts().sort_index().index)\n",
    "print(data_2006_2[c].value_counts().sort_index())\n",
    "print(missing_data(data_2006_2[c]))"
   ]
  },
  {
   "cell_type": "code",
   "execution_count": null,
   "metadata": {
    "collapsed": true
   },
   "outputs": [],
   "source": [
    "c = 'PUNT_FISICA'\n",
    "print(data_2006_2[c].value_counts().sort_index().index)\n",
    "print(data_2006_2[c].value_counts().sort_index())\n",
    "print(missing_data(data_2006_2[c]))"
   ]
  },
  {
   "cell_type": "code",
   "execution_count": null,
   "metadata": {
    "collapsed": true
   },
   "outputs": [],
   "source": [
    "c = 'NOMBRE_IDIOMA'\n",
    "print(data_2006_2[c].value_counts().sort_index().index)\n",
    "print(data_2006_2[c].value_counts().sort_index())\n",
    "print(missing_data(data_2006_2[c]))"
   ]
  },
  {
   "cell_type": "code",
   "execution_count": null,
   "metadata": {
    "collapsed": true
   },
   "outputs": [],
   "source": [
    "c = 'PUNT_IDIOMA'\n",
    "print(data_2006_2[c].value_counts().sort_index().index)\n",
    "print(data_2006_2[c].value_counts().sort_index())\n",
    "print(missing_data(data_2006_2[c]))"
   ]
  },
  {
   "cell_type": "code",
   "execution_count": null,
   "metadata": {
    "collapsed": true
   },
   "outputs": [],
   "source": [
    "c = 'DESEMP_IDIOMA'\n",
    "print(data_2006_2[c].value_counts().sort_index().index)\n",
    "print(data_2006_2[c].value_counts().sort_index())\n",
    "print(missing_data(data_2006_2[c]))"
   ]
  },
  {
   "cell_type": "code",
   "execution_count": null,
   "metadata": {
    "collapsed": true
   },
   "outputs": [],
   "source": [
    "c = 'NOMBRE_PROFUNDIZACION'\n",
    "print(data_2006_2[c].value_counts().sort_index().index)\n",
    "print(data_2006_2[c].value_counts().sort_index())\n",
    "print(missing_data(data_2006_2[c]))"
   ]
  },
  {
   "cell_type": "code",
   "execution_count": null,
   "metadata": {
    "collapsed": true
   },
   "outputs": [],
   "source": [
    "c = 'PUNT_PROFUNDIZACION'\n",
    "print(data_2006_2[c].value_counts().sort_index().index)\n",
    "print(data_2006_2[c].value_counts().sort_index())\n",
    "print(missing_data(data_2006_2[c]))"
   ]
  },
  {
   "cell_type": "code",
   "execution_count": null,
   "metadata": {
    "collapsed": true
   },
   "outputs": [],
   "source": [
    "c = 'DESEMP_PROFUNDIZACION'\n",
    "print(data_2006_2[c].value_counts().sort_index().index)\n",
    "print(data_2006_2[c].value_counts().sort_index())\n",
    "print(missing_data(data_2006_2[c]))"
   ]
  },
  {
   "cell_type": "code",
   "execution_count": null,
   "metadata": {
    "collapsed": true
   },
   "outputs": [],
   "source": [
    "c = 'NOMBRE_INTERDISCIPLINAR'\n",
    "print(data_2006_2[c].value_counts().sort_index().index)\n",
    "print(data_2006_2[c].value_counts().sort_index())\n",
    "print(missing_data(data_2006_2[c]))"
   ]
  },
  {
   "cell_type": "code",
   "execution_count": null,
   "metadata": {
    "collapsed": true
   },
   "outputs": [],
   "source": [
    "c = 'PUNT_INTERDISCIPLINAR'\n",
    "print(data_2006_2[c].value_counts().sort_index().index)\n",
    "print(data_2006_2[c].value_counts().sort_index())\n",
    "print(missing_data(data_2006_2[c]))"
   ]
  },
  {
   "cell_type": "code",
   "execution_count": null,
   "metadata": {
    "collapsed": true
   },
   "outputs": [],
   "source": [
    "c = 'ESTU_PUESTO'\n",
    "print(data_2006_2[c].value_counts().sort_index().index)\n",
    "print(data_2006_2[c].value_counts().sort_index())\n",
    "print(missing_data(data_2006_2[c]))"
   ]
  }
 ],
 "metadata": {
  "kernelspec": {
   "display_name": "Python 3 + Anaconda",
   "language": "python",
   "name": "pyconda3"
  },
  "language_info": {
   "codemirror_mode": {
    "name": "ipython",
    "version": 3
   },
   "file_extension": ".py",
   "mimetype": "text/x-python",
   "name": "python",
   "nbconvert_exporter": "python",
   "pygments_lexer": "ipython3",
   "version": "3.5.1"
  }
 },
 "nbformat": 4,
 "nbformat_minor": 0
}
