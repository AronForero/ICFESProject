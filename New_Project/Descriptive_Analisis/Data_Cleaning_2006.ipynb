{
 "cells": [
  {
   "cell_type": "code",
   "execution_count": 1,
   "metadata": {
    "collapsed": true
   },
   "outputs": [],
   "source": [
    "import pandas as pd\n",
    "import numpy as np\n",
    "%run -i ../tools/functions.py\n",
    "%run -i ../tools/label_encoder.py"
   ]
  },
  {
   "cell_type": "code",
   "execution_count": 2,
   "metadata": {
    "collapsed": true
   },
   "outputs": [],
   "source": [
    "data_2006 = pd.read_csv('../DatosFTPICFES/SABER11/SB11-BASES_DE_DATOS/SB11-20061-RGSTRO-CLFCCN-V1-0.txt', delimiter='|',\n",
    "                       encoding = \"iso-8859-1\")"
   ]
  },
  {
   "cell_type": "code",
   "execution_count": 3,
   "metadata": {
    "collapsed": false
   },
   "outputs": [
    {
     "data": {
      "text/plain": [
       "(61335, 85)"
      ]
     },
     "execution_count": 3,
     "metadata": {},
     "output_type": "execute_result"
    }
   ],
   "source": [
    "data_2006.shape"
   ]
  },
  {
   "cell_type": "code",
   "execution_count": 4,
   "metadata": {
    "collapsed": false,
    "scrolled": true
   },
   "outputs": [
    {
     "data": {
      "text/html": [
       "<div>\n",
       "<table border=\"1\" class=\"dataframe\">\n",
       "  <thead>\n",
       "    <tr style=\"text-align: right;\">\n",
       "      <th></th>\n",
       "      <th>0</th>\n",
       "      <th>1</th>\n",
       "      <th>2</th>\n",
       "    </tr>\n",
       "  </thead>\n",
       "  <tbody>\n",
       "    <tr>\n",
       "      <th>ESTU_CONSECUTIVO</th>\n",
       "      <td>SB1120061000001</td>\n",
       "      <td>SB1120061000002</td>\n",
       "      <td>SB1120061000003</td>\n",
       "    </tr>\n",
       "    <tr>\n",
       "      <th>PERIODO</th>\n",
       "      <td>20061</td>\n",
       "      <td>20061</td>\n",
       "      <td>20061</td>\n",
       "    </tr>\n",
       "    <tr>\n",
       "      <th>ESTU_TIPO_DOCUMENTO</th>\n",
       "      <td>T</td>\n",
       "      <td>R</td>\n",
       "      <td>C</td>\n",
       "    </tr>\n",
       "    <tr>\n",
       "      <th>ESTU_PAIS_RESIDE</th>\n",
       "      <td>CO</td>\n",
       "      <td>CO</td>\n",
       "      <td>CO</td>\n",
       "    </tr>\n",
       "    <tr>\n",
       "      <th>ESTU_GENERO</th>\n",
       "      <td>F</td>\n",
       "      <td>F</td>\n",
       "      <td>F</td>\n",
       "    </tr>\n",
       "    <tr>\n",
       "      <th>ESTU_NACIMIENTO_DIA</th>\n",
       "      <td>24</td>\n",
       "      <td>29</td>\n",
       "      <td>24</td>\n",
       "    </tr>\n",
       "    <tr>\n",
       "      <th>ESTU_NACIMIENTO_MES</th>\n",
       "      <td>4</td>\n",
       "      <td>12</td>\n",
       "      <td>10</td>\n",
       "    </tr>\n",
       "    <tr>\n",
       "      <th>ESTU_NACIMIENTO_ANNO</th>\n",
       "      <td>1989</td>\n",
       "      <td>1988</td>\n",
       "      <td>1987</td>\n",
       "    </tr>\n",
       "    <tr>\n",
       "      <th>ESTU_EDAD</th>\n",
       "      <td>16</td>\n",
       "      <td>17</td>\n",
       "      <td>18</td>\n",
       "    </tr>\n",
       "    <tr>\n",
       "      <th>ESTU_LIMITA_BAJAVISION</th>\n",
       "      <td>NaN</td>\n",
       "      <td>NaN</td>\n",
       "      <td>NaN</td>\n",
       "    </tr>\n",
       "    <tr>\n",
       "      <th>ESTU_LIMITA_SORDOCEGUERA</th>\n",
       "      <td>NaN</td>\n",
       "      <td>NaN</td>\n",
       "      <td>NaN</td>\n",
       "    </tr>\n",
       "    <tr>\n",
       "      <th>ESTU_LIMITA_COGNITIVA</th>\n",
       "      <td>NaN</td>\n",
       "      <td>NaN</td>\n",
       "      <td>NaN</td>\n",
       "    </tr>\n",
       "    <tr>\n",
       "      <th>ESTU_LIMITA_INVIDENTE</th>\n",
       "      <td>NaN</td>\n",
       "      <td>NaN</td>\n",
       "      <td>NaN</td>\n",
       "    </tr>\n",
       "    <tr>\n",
       "      <th>ESTU_LIMITA_MOTRIZ</th>\n",
       "      <td>NaN</td>\n",
       "      <td>NaN</td>\n",
       "      <td>NaN</td>\n",
       "    </tr>\n",
       "    <tr>\n",
       "      <th>ESTU_LIMITA_SORDOINTERPRETE</th>\n",
       "      <td>NaN</td>\n",
       "      <td>NaN</td>\n",
       "      <td>NaN</td>\n",
       "    </tr>\n",
       "    <tr>\n",
       "      <th>ESTU_LIMITA_SORDONOINTERPRETE</th>\n",
       "      <td>NaN</td>\n",
       "      <td>NaN</td>\n",
       "      <td>NaN</td>\n",
       "    </tr>\n",
       "    <tr>\n",
       "      <th>ESTU_COD_RESIDE_MCPIO</th>\n",
       "      <td>76823</td>\n",
       "      <td>76823</td>\n",
       "      <td>11001</td>\n",
       "    </tr>\n",
       "    <tr>\n",
       "      <th>ESTU_RESIDE_MCPIO</th>\n",
       "      <td>TORO</td>\n",
       "      <td>TORO</td>\n",
       "      <td>BOGOTÃ D.C.</td>\n",
       "    </tr>\n",
       "    <tr>\n",
       "      <th>ESTU_RESIDE_DEPTO</th>\n",
       "      <td>VALLE</td>\n",
       "      <td>VALLE</td>\n",
       "      <td>BOGOTÃ</td>\n",
       "    </tr>\n",
       "    <tr>\n",
       "      <th>ESTU_ZONA_RESIDE</th>\n",
       "      <td>10</td>\n",
       "      <td>10</td>\n",
       "      <td>1</td>\n",
       "    </tr>\n",
       "    <tr>\n",
       "      <th>ESTU_AREA_RESIDE</th>\n",
       "      <td>NaN</td>\n",
       "      <td>NaN</td>\n",
       "      <td>NaN</td>\n",
       "    </tr>\n",
       "    <tr>\n",
       "      <th>ESTU_COD_MCPIO_PRESENTACION</th>\n",
       "      <td>76823</td>\n",
       "      <td>76823</td>\n",
       "      <td>44035</td>\n",
       "    </tr>\n",
       "    <tr>\n",
       "      <th>ESTU_MCPIO_PRESENTACION</th>\n",
       "      <td>TORO</td>\n",
       "      <td>TORO</td>\n",
       "      <td>ALBANIA</td>\n",
       "    </tr>\n",
       "    <tr>\n",
       "      <th>ESTU_DEPTO_PRESENTACION</th>\n",
       "      <td>VALLE</td>\n",
       "      <td>VALLE</td>\n",
       "      <td>LA GUAJIRA</td>\n",
       "    </tr>\n",
       "    <tr>\n",
       "      <th>ESTU_EXAM_NOMBREEXAMEN</th>\n",
       "      <td>EXAMEN DE ESTADO  (2006)</td>\n",
       "      <td>EXAMEN DE ESTADO  (2006)</td>\n",
       "      <td>EXAMEN DE ESTADO  (2006)</td>\n",
       "    </tr>\n",
       "    <tr>\n",
       "      <th>IND_ESTUDIO_BACHILLERATO</th>\n",
       "      <td>1</td>\n",
       "      <td>1</td>\n",
       "      <td>1</td>\n",
       "    </tr>\n",
       "    <tr>\n",
       "      <th>IND_ANNO_TERMINO_BACHILLERATO</th>\n",
       "      <td>2005</td>\n",
       "      <td>2005</td>\n",
       "      <td>2005</td>\n",
       "    </tr>\n",
       "    <tr>\n",
       "      <th>IND_TERMINO_BACHILLERATO</th>\n",
       "      <td>NaN</td>\n",
       "      <td>NaN</td>\n",
       "      <td>NaN</td>\n",
       "    </tr>\n",
       "    <tr>\n",
       "      <th>IND_COD_ICFES_TERMINO</th>\n",
       "      <td>18861</td>\n",
       "      <td>18861</td>\n",
       "      <td>50724</td>\n",
       "    </tr>\n",
       "    <tr>\n",
       "      <th>COLE_COD_ICFES</th>\n",
       "      <td>18861</td>\n",
       "      <td>18861</td>\n",
       "      <td>50724</td>\n",
       "    </tr>\n",
       "    <tr>\n",
       "      <th>...</th>\n",
       "      <td>...</td>\n",
       "      <td>...</td>\n",
       "      <td>...</td>\n",
       "    </tr>\n",
       "    <tr>\n",
       "      <th>FAMI_INGRESO_FMILIAR_MENSUAL</th>\n",
       "      <td>NaN</td>\n",
       "      <td>NaN</td>\n",
       "      <td>6</td>\n",
       "    </tr>\n",
       "    <tr>\n",
       "      <th>ESTU_TRABAJA</th>\n",
       "      <td>NaN</td>\n",
       "      <td>NaN</td>\n",
       "      <td>0</td>\n",
       "    </tr>\n",
       "    <tr>\n",
       "      <th>ESTU_HORAS_TRABAJA</th>\n",
       "      <td>NaN</td>\n",
       "      <td>NaN</td>\n",
       "      <td>NaN</td>\n",
       "    </tr>\n",
       "    <tr>\n",
       "      <th>COLE_VALOR_PENSION</th>\n",
       "      <td>0</td>\n",
       "      <td>0</td>\n",
       "      <td>7</td>\n",
       "    </tr>\n",
       "    <tr>\n",
       "      <th>ESTU_CARRDESEADA_TIPO</th>\n",
       "      <td>NaN</td>\n",
       "      <td>NaN</td>\n",
       "      <td>NaN</td>\n",
       "    </tr>\n",
       "    <tr>\n",
       "      <th>ESTU_CARRDESEADA_NUCLEO</th>\n",
       "      <td>NaN</td>\n",
       "      <td>NaN</td>\n",
       "      <td>NaN</td>\n",
       "    </tr>\n",
       "    <tr>\n",
       "      <th>ESTU_IES_COD_DESEADA</th>\n",
       "      <td>NaN</td>\n",
       "      <td>NaN</td>\n",
       "      <td>NaN</td>\n",
       "    </tr>\n",
       "    <tr>\n",
       "      <th>ESTU_IES_DESEADA_NOMBRE</th>\n",
       "      <td>NaN</td>\n",
       "      <td>NaN</td>\n",
       "      <td>NaN</td>\n",
       "    </tr>\n",
       "    <tr>\n",
       "      <th>ESTU_IES_COD_MPIO_DESEADA</th>\n",
       "      <td>NaN</td>\n",
       "      <td>NaN</td>\n",
       "      <td>NaN</td>\n",
       "    </tr>\n",
       "    <tr>\n",
       "      <th>ESTU_IES_MPIO_DESEADA</th>\n",
       "      <td>NaN</td>\n",
       "      <td>NaN</td>\n",
       "      <td>NaN</td>\n",
       "    </tr>\n",
       "    <tr>\n",
       "      <th>ESTU_IES_DEPT_DESEADA</th>\n",
       "      <td>NaN</td>\n",
       "      <td>NaN</td>\n",
       "      <td>NaN</td>\n",
       "    </tr>\n",
       "    <tr>\n",
       "      <th>ESTU_RAZONINSTITUTO</th>\n",
       "      <td>NaN</td>\n",
       "      <td>NaN</td>\n",
       "      <td>6</td>\n",
       "    </tr>\n",
       "    <tr>\n",
       "      <th>ESTU_CARRDESEADA_COD</th>\n",
       "      <td>NaN</td>\n",
       "      <td>NaN</td>\n",
       "      <td>NaN</td>\n",
       "    </tr>\n",
       "    <tr>\n",
       "      <th>ESTU_CARRDESEADA_RAZON</th>\n",
       "      <td>NaN</td>\n",
       "      <td>NaN</td>\n",
       "      <td>2</td>\n",
       "    </tr>\n",
       "    <tr>\n",
       "      <th>PUNT_LENGUAJE</th>\n",
       "      <td>45,57</td>\n",
       "      <td>40,49</td>\n",
       "      <td>59,31</td>\n",
       "    </tr>\n",
       "    <tr>\n",
       "      <th>PUNT_MATEMATICAS</th>\n",
       "      <td>45,81</td>\n",
       "      <td>56,19</td>\n",
       "      <td>58,51</td>\n",
       "    </tr>\n",
       "    <tr>\n",
       "      <th>PUNT_C_SOCIALES</th>\n",
       "      <td>44,41</td>\n",
       "      <td>46,91</td>\n",
       "      <td>51,89</td>\n",
       "    </tr>\n",
       "    <tr>\n",
       "      <th>PUNT_FILOSOFIA</th>\n",
       "      <td>23,47</td>\n",
       "      <td>37,78</td>\n",
       "      <td>49,86</td>\n",
       "    </tr>\n",
       "    <tr>\n",
       "      <th>PUNT_BIOLOGIA</th>\n",
       "      <td>44,66</td>\n",
       "      <td>46,76</td>\n",
       "      <td>62,6</td>\n",
       "    </tr>\n",
       "    <tr>\n",
       "      <th>PUNT_QUIMICA</th>\n",
       "      <td>43,19</td>\n",
       "      <td>48,75</td>\n",
       "      <td>52,25</td>\n",
       "    </tr>\n",
       "    <tr>\n",
       "      <th>PUNT_FISICA</th>\n",
       "      <td>40,38</td>\n",
       "      <td>49,27</td>\n",
       "      <td>51,81</td>\n",
       "    </tr>\n",
       "    <tr>\n",
       "      <th>NOMBRE_IDIOMA</th>\n",
       "      <td>INGLÃS</td>\n",
       "      <td>INGLÃS</td>\n",
       "      <td>INGLÃS</td>\n",
       "    </tr>\n",
       "    <tr>\n",
       "      <th>PUNT_IDIOMA</th>\n",
       "      <td>41,03</td>\n",
       "      <td>34,2</td>\n",
       "      <td>85,62</td>\n",
       "    </tr>\n",
       "    <tr>\n",
       "      <th>DESEMP_IDIOMA</th>\n",
       "      <td>NaN</td>\n",
       "      <td>NaN</td>\n",
       "      <td>NaN</td>\n",
       "    </tr>\n",
       "    <tr>\n",
       "      <th>NOMBRE_PROFUNDIZACION</th>\n",
       "      <td>PROFUNDIZACIÃN EN BIOLOGÃA</td>\n",
       "      <td>PROFUNDIZACIÃN EN BIOLOGÃA</td>\n",
       "      <td>PROFUNDIZACIÃN EN LENGUAJE</td>\n",
       "    </tr>\n",
       "    <tr>\n",
       "      <th>PUNT_PROFUNDIZACION</th>\n",
       "      <td>5,33</td>\n",
       "      <td>5,69</td>\n",
       "      <td>7,33</td>\n",
       "    </tr>\n",
       "    <tr>\n",
       "      <th>DESEMP_PROFUNDIZACION</th>\n",
       "      <td>II</td>\n",
       "      <td>II</td>\n",
       "      <td>III</td>\n",
       "    </tr>\n",
       "    <tr>\n",
       "      <th>NOMBRE_INTERDISCIPLINAR</th>\n",
       "      <td>MEDIO AMBIENTE</td>\n",
       "      <td>MEDIO AMBIENTE</td>\n",
       "      <td>VIOLENCIA Y SOCIEDAD</td>\n",
       "    </tr>\n",
       "    <tr>\n",
       "      <th>PUNT_INTERDISCIPLINAR</th>\n",
       "      <td>53,91</td>\n",
       "      <td>54,79</td>\n",
       "      <td>62,84</td>\n",
       "    </tr>\n",
       "    <tr>\n",
       "      <th>ESTU_PUESTO</th>\n",
       "      <td>831</td>\n",
       "      <td>547</td>\n",
       "      <td>30</td>\n",
       "    </tr>\n",
       "  </tbody>\n",
       "</table>\n",
       "<p>85 rows × 3 columns</p>\n",
       "</div>"
      ],
      "text/plain": [
       "                                                          0  \\\n",
       "ESTU_CONSECUTIVO                            SB1120061000001   \n",
       "PERIODO                                               20061   \n",
       "ESTU_TIPO_DOCUMENTO                                       T   \n",
       "ESTU_PAIS_RESIDE                                         CO   \n",
       "ESTU_GENERO                                               F   \n",
       "ESTU_NACIMIENTO_DIA                                      24   \n",
       "ESTU_NACIMIENTO_MES                                       4   \n",
       "ESTU_NACIMIENTO_ANNO                                   1989   \n",
       "ESTU_EDAD                                                16   \n",
       "ESTU_LIMITA_BAJAVISION                                  NaN   \n",
       "ESTU_LIMITA_SORDOCEGUERA                                NaN   \n",
       "ESTU_LIMITA_COGNITIVA                                   NaN   \n",
       "ESTU_LIMITA_INVIDENTE                                   NaN   \n",
       "ESTU_LIMITA_MOTRIZ                                      NaN   \n",
       "ESTU_LIMITA_SORDOINTERPRETE                             NaN   \n",
       "ESTU_LIMITA_SORDONOINTERPRETE                           NaN   \n",
       "ESTU_COD_RESIDE_MCPIO                                 76823   \n",
       "ESTU_RESIDE_MCPIO                                      TORO   \n",
       "ESTU_RESIDE_DEPTO                                     VALLE   \n",
       "ESTU_ZONA_RESIDE                                         10   \n",
       "ESTU_AREA_RESIDE                                        NaN   \n",
       "ESTU_COD_MCPIO_PRESENTACION                           76823   \n",
       "ESTU_MCPIO_PRESENTACION                                TORO   \n",
       "ESTU_DEPTO_PRESENTACION                               VALLE   \n",
       "ESTU_EXAM_NOMBREEXAMEN             EXAMEN DE ESTADO  (2006)   \n",
       "IND_ESTUDIO_BACHILLERATO                                  1   \n",
       "IND_ANNO_TERMINO_BACHILLERATO                          2005   \n",
       "IND_TERMINO_BACHILLERATO                                NaN   \n",
       "IND_COD_ICFES_TERMINO                                 18861   \n",
       "COLE_COD_ICFES                                        18861   \n",
       "...                                                     ...   \n",
       "FAMI_INGRESO_FMILIAR_MENSUAL                            NaN   \n",
       "ESTU_TRABAJA                                            NaN   \n",
       "ESTU_HORAS_TRABAJA                                      NaN   \n",
       "COLE_VALOR_PENSION                                        0   \n",
       "ESTU_CARRDESEADA_TIPO                                   NaN   \n",
       "ESTU_CARRDESEADA_NUCLEO                                 NaN   \n",
       "ESTU_IES_COD_DESEADA                                    NaN   \n",
       "ESTU_IES_DESEADA_NOMBRE                                 NaN   \n",
       "ESTU_IES_COD_MPIO_DESEADA                               NaN   \n",
       "ESTU_IES_MPIO_DESEADA                                   NaN   \n",
       "ESTU_IES_DEPT_DESEADA                                   NaN   \n",
       "ESTU_RAZONINSTITUTO                                     NaN   \n",
       "ESTU_CARRDESEADA_COD                                    NaN   \n",
       "ESTU_CARRDESEADA_RAZON                                  NaN   \n",
       "PUNT_LENGUAJE                                         45,57   \n",
       "PUNT_MATEMATICAS                                      45,81   \n",
       "PUNT_C_SOCIALES                                       44,41   \n",
       "PUNT_FILOSOFIA                                        23,47   \n",
       "PUNT_BIOLOGIA                                         44,66   \n",
       "PUNT_QUIMICA                                          43,19   \n",
       "PUNT_FISICA                                           40,38   \n",
       "NOMBRE_IDIOMA                                       INGLÃS   \n",
       "PUNT_IDIOMA                                           41,03   \n",
       "DESEMP_IDIOMA                                           NaN   \n",
       "NOMBRE_PROFUNDIZACION          PROFUNDIZACIÃN EN BIOLOGÃA   \n",
       "PUNT_PROFUNDIZACION                                    5,33   \n",
       "DESEMP_PROFUNDIZACION                                    II   \n",
       "NOMBRE_INTERDISCIPLINAR                      MEDIO AMBIENTE   \n",
       "PUNT_INTERDISCIPLINAR                                 53,91   \n",
       "ESTU_PUESTO                                             831   \n",
       "\n",
       "                                                          1  \\\n",
       "ESTU_CONSECUTIVO                            SB1120061000002   \n",
       "PERIODO                                               20061   \n",
       "ESTU_TIPO_DOCUMENTO                                       R   \n",
       "ESTU_PAIS_RESIDE                                         CO   \n",
       "ESTU_GENERO                                               F   \n",
       "ESTU_NACIMIENTO_DIA                                      29   \n",
       "ESTU_NACIMIENTO_MES                                      12   \n",
       "ESTU_NACIMIENTO_ANNO                                   1988   \n",
       "ESTU_EDAD                                                17   \n",
       "ESTU_LIMITA_BAJAVISION                                  NaN   \n",
       "ESTU_LIMITA_SORDOCEGUERA                                NaN   \n",
       "ESTU_LIMITA_COGNITIVA                                   NaN   \n",
       "ESTU_LIMITA_INVIDENTE                                   NaN   \n",
       "ESTU_LIMITA_MOTRIZ                                      NaN   \n",
       "ESTU_LIMITA_SORDOINTERPRETE                             NaN   \n",
       "ESTU_LIMITA_SORDONOINTERPRETE                           NaN   \n",
       "ESTU_COD_RESIDE_MCPIO                                 76823   \n",
       "ESTU_RESIDE_MCPIO                                      TORO   \n",
       "ESTU_RESIDE_DEPTO                                     VALLE   \n",
       "ESTU_ZONA_RESIDE                                         10   \n",
       "ESTU_AREA_RESIDE                                        NaN   \n",
       "ESTU_COD_MCPIO_PRESENTACION                           76823   \n",
       "ESTU_MCPIO_PRESENTACION                                TORO   \n",
       "ESTU_DEPTO_PRESENTACION                               VALLE   \n",
       "ESTU_EXAM_NOMBREEXAMEN             EXAMEN DE ESTADO  (2006)   \n",
       "IND_ESTUDIO_BACHILLERATO                                  1   \n",
       "IND_ANNO_TERMINO_BACHILLERATO                          2005   \n",
       "IND_TERMINO_BACHILLERATO                                NaN   \n",
       "IND_COD_ICFES_TERMINO                                 18861   \n",
       "COLE_COD_ICFES                                        18861   \n",
       "...                                                     ...   \n",
       "FAMI_INGRESO_FMILIAR_MENSUAL                            NaN   \n",
       "ESTU_TRABAJA                                            NaN   \n",
       "ESTU_HORAS_TRABAJA                                      NaN   \n",
       "COLE_VALOR_PENSION                                        0   \n",
       "ESTU_CARRDESEADA_TIPO                                   NaN   \n",
       "ESTU_CARRDESEADA_NUCLEO                                 NaN   \n",
       "ESTU_IES_COD_DESEADA                                    NaN   \n",
       "ESTU_IES_DESEADA_NOMBRE                                 NaN   \n",
       "ESTU_IES_COD_MPIO_DESEADA                               NaN   \n",
       "ESTU_IES_MPIO_DESEADA                                   NaN   \n",
       "ESTU_IES_DEPT_DESEADA                                   NaN   \n",
       "ESTU_RAZONINSTITUTO                                     NaN   \n",
       "ESTU_CARRDESEADA_COD                                    NaN   \n",
       "ESTU_CARRDESEADA_RAZON                                  NaN   \n",
       "PUNT_LENGUAJE                                         40,49   \n",
       "PUNT_MATEMATICAS                                      56,19   \n",
       "PUNT_C_SOCIALES                                       46,91   \n",
       "PUNT_FILOSOFIA                                        37,78   \n",
       "PUNT_BIOLOGIA                                         46,76   \n",
       "PUNT_QUIMICA                                          48,75   \n",
       "PUNT_FISICA                                           49,27   \n",
       "NOMBRE_IDIOMA                                       INGLÃS   \n",
       "PUNT_IDIOMA                                            34,2   \n",
       "DESEMP_IDIOMA                                           NaN   \n",
       "NOMBRE_PROFUNDIZACION          PROFUNDIZACIÃN EN BIOLOGÃA   \n",
       "PUNT_PROFUNDIZACION                                    5,69   \n",
       "DESEMP_PROFUNDIZACION                                    II   \n",
       "NOMBRE_INTERDISCIPLINAR                      MEDIO AMBIENTE   \n",
       "PUNT_INTERDISCIPLINAR                                 54,79   \n",
       "ESTU_PUESTO                                             547   \n",
       "\n",
       "                                                         2  \n",
       "ESTU_CONSECUTIVO                           SB1120061000003  \n",
       "PERIODO                                              20061  \n",
       "ESTU_TIPO_DOCUMENTO                                      C  \n",
       "ESTU_PAIS_RESIDE                                        CO  \n",
       "ESTU_GENERO                                              F  \n",
       "ESTU_NACIMIENTO_DIA                                     24  \n",
       "ESTU_NACIMIENTO_MES                                     10  \n",
       "ESTU_NACIMIENTO_ANNO                                  1987  \n",
       "ESTU_EDAD                                               18  \n",
       "ESTU_LIMITA_BAJAVISION                                 NaN  \n",
       "ESTU_LIMITA_SORDOCEGUERA                               NaN  \n",
       "ESTU_LIMITA_COGNITIVA                                  NaN  \n",
       "ESTU_LIMITA_INVIDENTE                                  NaN  \n",
       "ESTU_LIMITA_MOTRIZ                                     NaN  \n",
       "ESTU_LIMITA_SORDOINTERPRETE                            NaN  \n",
       "ESTU_LIMITA_SORDONOINTERPRETE                          NaN  \n",
       "ESTU_COD_RESIDE_MCPIO                                11001  \n",
       "ESTU_RESIDE_MCPIO                             BOGOTÃ D.C.  \n",
       "ESTU_RESIDE_DEPTO                                  BOGOTÃ  \n",
       "ESTU_ZONA_RESIDE                                         1  \n",
       "ESTU_AREA_RESIDE                                       NaN  \n",
       "ESTU_COD_MCPIO_PRESENTACION                          44035  \n",
       "ESTU_MCPIO_PRESENTACION                            ALBANIA  \n",
       "ESTU_DEPTO_PRESENTACION                         LA GUAJIRA  \n",
       "ESTU_EXAM_NOMBREEXAMEN            EXAMEN DE ESTADO  (2006)  \n",
       "IND_ESTUDIO_BACHILLERATO                                 1  \n",
       "IND_ANNO_TERMINO_BACHILLERATO                         2005  \n",
       "IND_TERMINO_BACHILLERATO                               NaN  \n",
       "IND_COD_ICFES_TERMINO                                50724  \n",
       "COLE_COD_ICFES                                       50724  \n",
       "...                                                    ...  \n",
       "FAMI_INGRESO_FMILIAR_MENSUAL                             6  \n",
       "ESTU_TRABAJA                                             0  \n",
       "ESTU_HORAS_TRABAJA                                     NaN  \n",
       "COLE_VALOR_PENSION                                       7  \n",
       "ESTU_CARRDESEADA_TIPO                                  NaN  \n",
       "ESTU_CARRDESEADA_NUCLEO                                NaN  \n",
       "ESTU_IES_COD_DESEADA                                   NaN  \n",
       "ESTU_IES_DESEADA_NOMBRE                                NaN  \n",
       "ESTU_IES_COD_MPIO_DESEADA                              NaN  \n",
       "ESTU_IES_MPIO_DESEADA                                  NaN  \n",
       "ESTU_IES_DEPT_DESEADA                                  NaN  \n",
       "ESTU_RAZONINSTITUTO                                      6  \n",
       "ESTU_CARRDESEADA_COD                                   NaN  \n",
       "ESTU_CARRDESEADA_RAZON                                   2  \n",
       "PUNT_LENGUAJE                                        59,31  \n",
       "PUNT_MATEMATICAS                                     58,51  \n",
       "PUNT_C_SOCIALES                                      51,89  \n",
       "PUNT_FILOSOFIA                                       49,86  \n",
       "PUNT_BIOLOGIA                                         62,6  \n",
       "PUNT_QUIMICA                                         52,25  \n",
       "PUNT_FISICA                                          51,81  \n",
       "NOMBRE_IDIOMA                                      INGLÃS  \n",
       "PUNT_IDIOMA                                          85,62  \n",
       "DESEMP_IDIOMA                                          NaN  \n",
       "NOMBRE_PROFUNDIZACION          PROFUNDIZACIÃN EN LENGUAJE  \n",
       "PUNT_PROFUNDIZACION                                   7,33  \n",
       "DESEMP_PROFUNDIZACION                                  III  \n",
       "NOMBRE_INTERDISCIPLINAR               VIOLENCIA Y SOCIEDAD  \n",
       "PUNT_INTERDISCIPLINAR                                62,84  \n",
       "ESTU_PUESTO                                             30  \n",
       "\n",
       "[85 rows x 3 columns]"
      ]
     },
     "execution_count": 4,
     "metadata": {},
     "output_type": "execute_result"
    }
   ],
   "source": [
    "data_2006.head(3).T"
   ]
  },
  {
   "cell_type": "markdown",
   "metadata": {},
   "source": [
    "Deleting the columns that won't contribute to the work"
   ]
  },
  {
   "cell_type": "code",
   "execution_count": 5,
   "metadata": {
    "collapsed": true
   },
   "outputs": [],
   "source": [
    "data_2006 = data_2006.drop(['ESTU_CONSECUTIVO', 'ESTU_TIPO_DOCUMENTO', 'ESTU_COD_RESIDE_MCPIO', 'ESTU_COD_MCPIO_PRESENTACION',\n",
    "                            'ESTU_IES_DESEADA_NOMBRE', 'ESTU_IES_COD_MPIO_DESEADA', 'PERIODO'], axis=1)"
   ]
  },
  {
   "cell_type": "code",
   "execution_count": 6,
   "metadata": {
    "collapsed": false,
    "scrolled": true
   },
   "outputs": [
    {
     "name": "stdout",
     "output_type": "stream",
     "text": [
      "Index(['AR', 'AT', 'BO', 'CA', 'CL', 'CN', 'CO', 'CU', 'DE', 'EC', 'ES', 'GT',\n",
      "       'IR', 'JM', 'KP', 'PA', 'PE', 'RU', 'SA', 'US', 'VE'],\n",
      "      dtype='object')\n",
      "AR        3\n",
      "AT        1\n",
      "BO        1\n",
      "CA        1\n",
      "CL        1\n",
      "CN        1\n",
      "CO    61239\n",
      "CU        1\n",
      "DE        1\n",
      "EC        5\n",
      "ES        2\n",
      "GT        2\n",
      "IR        1\n",
      "JM        1\n",
      "KP        1\n",
      "PA        1\n",
      "PE        3\n",
      "RU        1\n",
      "SA        1\n",
      "US       16\n",
      "VE        1\n",
      "Name: ESTU_PAIS_RESIDE, dtype: int64\n",
      "Elementos null/NaN 51\n",
      "__________________\n",
      "Elementos diferentes de null/NaN: 61284\n",
      "__________________\n",
      "(61284,)\n",
      "None\n"
     ]
    }
   ],
   "source": [
    "c = 'ESTU_PAIS_RESIDE'\n",
    "print(data_2006[c].value_counts().sort_index().index)\n",
    "print(data_2006[c].value_counts().sort_index())\n",
    "print(missing_data(data_2006[c]))"
   ]
  },
  {
   "cell_type": "code",
   "execution_count": 7,
   "metadata": {
    "collapsed": false
   },
   "outputs": [
    {
     "name": "stdout",
     "output_type": "stream",
     "text": [
      "Index(['F', 'M'], dtype='object')\n",
      "F    33064\n",
      "M    28248\n",
      "Name: ESTU_GENERO, dtype: int64\n",
      "Elementos null/NaN 23\n",
      "__________________\n",
      "Elementos diferentes de null/NaN: 61312\n",
      "__________________\n",
      "(61312,)\n",
      "None\n"
     ]
    }
   ],
   "source": [
    "c = 'ESTU_GENERO'\n",
    "print(data_2006[c].value_counts().sort_index().index)\n",
    "print(data_2006[c].value_counts().sort_index())\n",
    "print(missing_data(data_2006[c]))"
   ]
  },
  {
   "cell_type": "code",
   "execution_count": 8,
   "metadata": {
    "collapsed": false,
    "scrolled": true
   },
   "outputs": [
    {
     "name": "stdout",
     "output_type": "stream",
     "text": [
      "Float64Index([ 1.0,  2.0,  3.0,  4.0,  5.0,  6.0,  7.0,  8.0,  9.0, 10.0, 11.0,\n",
      "              12.0, 13.0, 14.0, 15.0, 16.0, 17.0, 18.0, 19.0, 20.0, 21.0, 22.0,\n",
      "              23.0, 24.0, 25.0, 26.0, 27.0, 28.0, 29.0, 30.0, 31.0],\n",
      "             dtype='float64')\n",
      "1.0     2160\n",
      "2.0     1967\n",
      "3.0     1935\n",
      "4.0     2040\n",
      "5.0     2108\n",
      "6.0     2030\n",
      "7.0     1914\n",
      "8.0     2019\n",
      "9.0     2038\n",
      "10.0    2225\n",
      "11.0    1969\n",
      "12.0    2041\n",
      "13.0    1999\n",
      "14.0    1908\n",
      "15.0    2073\n",
      "16.0    2035\n",
      "17.0    2080\n",
      "18.0    1931\n",
      "19.0    1987\n",
      "20.0    2155\n",
      "21.0    1897\n",
      "22.0    2012\n",
      "23.0    1988\n",
      "24.0    1997\n",
      "25.0    2058\n",
      "26.0    1988\n",
      "27.0    2035\n",
      "28.0    2087\n",
      "29.0    1789\n",
      "30.0    1719\n",
      "31.0    1115\n",
      "Name: ESTU_NACIMIENTO_DIA, dtype: int64\n",
      "Elementos null/NaN 36\n",
      "__________________\n",
      "Elementos diferentes de null/NaN: 61299\n",
      "__________________\n",
      "(61299,)\n",
      "None\n"
     ]
    }
   ],
   "source": [
    "c = 'ESTU_NACIMIENTO_DIA'\n",
    "print(data_2006[c].value_counts().sort_index().index)\n",
    "print(data_2006[c].value_counts().sort_index())\n",
    "print(missing_data(data_2006[c]))"
   ]
  },
  {
   "cell_type": "code",
   "execution_count": 9,
   "metadata": {
    "collapsed": false
   },
   "outputs": [
    {
     "name": "stdout",
     "output_type": "stream",
     "text": [
      "Float64Index([1.0, 2.0, 3.0, 4.0, 5.0, 6.0, 7.0, 8.0, 9.0, 10.0, 11.0, 12.0], dtype='float64')\n",
      "1.0     5115\n",
      "2.0     4734\n",
      "3.0     5237\n",
      "4.0     5051\n",
      "5.0     5072\n",
      "6.0     4991\n",
      "7.0     5073\n",
      "8.0     5245\n",
      "9.0     5345\n",
      "10.0    5316\n",
      "11.0    5010\n",
      "12.0    5110\n",
      "Name: ESTU_NACIMIENTO_MES, dtype: int64\n",
      "Elementos null/NaN 36\n",
      "__________________\n",
      "Elementos diferentes de null/NaN: 61299\n",
      "__________________\n",
      "(61299,)\n",
      "None\n"
     ]
    }
   ],
   "source": [
    "c = 'ESTU_NACIMIENTO_MES'\n",
    "print(data_2006[c].value_counts().sort_index().index)\n",
    "print(data_2006[c].value_counts().sort_index())\n",
    "print(missing_data(data_2006[c]))"
   ]
  },
  {
   "cell_type": "code",
   "execution_count": 10,
   "metadata": {
    "collapsed": false,
    "scrolled": true
   },
   "outputs": [
    {
     "name": "stdout",
     "output_type": "stream",
     "text": [
      "Float64Index([1930.0, 1933.0, 1934.0, 1935.0, 1936.0, 1938.0, 1940.0, 1941.0,\n",
      "              1942.0, 1944.0, 1946.0, 1947.0, 1948.0, 1949.0, 1950.0, 1951.0,\n",
      "              1952.0, 1953.0, 1954.0, 1955.0, 1956.0, 1957.0, 1958.0, 1959.0,\n",
      "              1960.0, 1961.0, 1962.0, 1963.0, 1964.0, 1965.0, 1966.0, 1967.0,\n",
      "              1968.0, 1969.0, 1970.0, 1971.0, 1972.0, 1973.0, 1974.0, 1975.0,\n",
      "              1976.0, 1977.0, 1978.0, 1979.0, 1980.0, 1981.0, 1982.0, 1983.0,\n",
      "              1984.0, 1985.0, 1986.0, 1987.0, 1988.0, 1989.0, 1990.0, 1991.0,\n",
      "              1992.0, 1993.0, 1994.0, 1995.0, 1997.0, 1998.0, 2000.0, 2001.0,\n",
      "              2002.0, 2084.0, 2088.0, 2089.0],\n",
      "             dtype='float64')\n",
      "1930.0        2\n",
      "1933.0        1\n",
      "1934.0        3\n",
      "1935.0        2\n",
      "1936.0        1\n",
      "1938.0        1\n",
      "1940.0        2\n",
      "1941.0        2\n",
      "1942.0        1\n",
      "1944.0        1\n",
      "1946.0        1\n",
      "1947.0        1\n",
      "1948.0        1\n",
      "1949.0        6\n",
      "1950.0        2\n",
      "1951.0        1\n",
      "1952.0       10\n",
      "1953.0        8\n",
      "1954.0       12\n",
      "1955.0       10\n",
      "1956.0       11\n",
      "1957.0       23\n",
      "1958.0       16\n",
      "1959.0       24\n",
      "1960.0       26\n",
      "1961.0       39\n",
      "1962.0       33\n",
      "1963.0       42\n",
      "1964.0       33\n",
      "1965.0       48\n",
      "          ...  \n",
      "1974.0      103\n",
      "1975.0      125\n",
      "1976.0      143\n",
      "1977.0      172\n",
      "1978.0      163\n",
      "1979.0      209\n",
      "1980.0      245\n",
      "1981.0      284\n",
      "1982.0      359\n",
      "1983.0      436\n",
      "1984.0      667\n",
      "1985.0     1195\n",
      "1986.0     2885\n",
      "1987.0     7112\n",
      "1988.0    14525\n",
      "1989.0    22950\n",
      "1990.0     6850\n",
      "1991.0      688\n",
      "1992.0      299\n",
      "1993.0      199\n",
      "1994.0      571\n",
      "1995.0        1\n",
      "1997.0        2\n",
      "1998.0        1\n",
      "2000.0        8\n",
      "2001.0        3\n",
      "2002.0        3\n",
      "2084.0        1\n",
      "2088.0        1\n",
      "2089.0        2\n",
      "Name: ESTU_NACIMIENTO_ANNO, dtype: int64\n",
      "Elementos null/NaN 36\n",
      "__________________\n",
      "Elementos diferentes de null/NaN: 61299\n",
      "__________________\n",
      "(61299,)\n",
      "None\n"
     ]
    }
   ],
   "source": [
    "c = 'ESTU_NACIMIENTO_ANNO'\n",
    "print(data_2006[c].value_counts().sort_index().index)\n",
    "print(data_2006[c].value_counts().sort_index())\n",
    "print(missing_data(data_2006[c]))"
   ]
  },
  {
   "cell_type": "code",
   "execution_count": 11,
   "metadata": {
    "collapsed": true
   },
   "outputs": [],
   "source": [
    "for i in data_2006['ESTU_NACIMIENTO_ANNO'].value_counts().sort_index().index:\n",
    "    if i > 1996:\n",
    "        data_2006['ESTU_NACIMIENTO_ANNO'] = data_2006['ESTU_NACIMIENTO_ANNO'].replace(i, np.nan)"
   ]
  },
  {
   "cell_type": "code",
   "execution_count": 12,
   "metadata": {
    "collapsed": false,
    "scrolled": true
   },
   "outputs": [
    {
     "name": "stdout",
     "output_type": "stream",
     "text": [
      "Int64Index([11, 12, 13, 14, 15, 16, 17, 18, 19, 20, 21, 22, 23, 24, 25, 26, 27,\n",
      "            28, 29, 30, 31, 32, 33, 34, 35, 36, 37, 38, 39, 40, 41, 42, 43, 44,\n",
      "            45, 46, 47, 48, 49, 50, 51, 52, 53, 54, 55, 56, 57, 58, 60, 61, 63,\n",
      "            64, 65, 66, 67, 69, 70, 71, 72, 75],\n",
      "           dtype='int64')\n",
      "11      529\n",
      "12      296\n",
      "13      315\n",
      "14      584\n",
      "15     4627\n",
      "16    22133\n",
      "17    15883\n",
      "18     8129\n",
      "19     3296\n",
      "20     1382\n",
      "21      712\n",
      "22      469\n",
      "23      373\n",
      "24      280\n",
      "25      263\n",
      "26      201\n",
      "27      186\n",
      "28      170\n",
      "29      142\n",
      "30      122\n",
      "31      114\n",
      "32       93\n",
      "33      104\n",
      "34       99\n",
      "35       93\n",
      "36      122\n",
      "37       95\n",
      "38       88\n",
      "39       56\n",
      "40       56\n",
      "41       35\n",
      "42       46\n",
      "43       32\n",
      "44       35\n",
      "45       31\n",
      "46       22\n",
      "47       20\n",
      "48       21\n",
      "49       12\n",
      "50       10\n",
      "51       11\n",
      "52        8\n",
      "53       11\n",
      "54        1\n",
      "55        1\n",
      "56        6\n",
      "57        2\n",
      "58        1\n",
      "60        1\n",
      "61        1\n",
      "63        1\n",
      "64        2\n",
      "65        2\n",
      "66        1\n",
      "67        1\n",
      "69        1\n",
      "70        2\n",
      "71        2\n",
      "72        2\n",
      "75        2\n",
      "Name: ESTU_EDAD, dtype: int64\n",
      "Elementos null/NaN 0\n",
      "__________________\n",
      "Elementos diferentes de null/NaN: 61335\n",
      "__________________\n",
      "(61335,)\n",
      "None\n"
     ]
    }
   ],
   "source": [
    "c = 'ESTU_EDAD'\n",
    "print(data_2006[c].value_counts().sort_index().index)\n",
    "print(data_2006[c].value_counts().sort_index())\n",
    "print(missing_data(data_2006[c]))"
   ]
  },
  {
   "cell_type": "code",
   "execution_count": 13,
   "metadata": {
    "collapsed": false
   },
   "outputs": [
    {
     "name": "stdout",
     "output_type": "stream",
     "text": [
      "Float64Index([], dtype='float64')\n",
      "Series([], Name: ESTU_LIMITA_BAJAVISION, dtype: int64)\n",
      "Elementos null/NaN 61335\n",
      "__________________\n",
      "Elementos diferentes de null/NaN: 0\n",
      "__________________\n",
      "(0,)\n",
      "None\n"
     ]
    }
   ],
   "source": [
    "c = 'ESTU_LIMITA_BAJAVISION'\n",
    "print(data_2006[c].value_counts().sort_index().index)\n",
    "print(data_2006[c].value_counts().sort_index())\n",
    "print(missing_data(data_2006[c]))"
   ]
  },
  {
   "cell_type": "code",
   "execution_count": 14,
   "metadata": {
    "collapsed": true
   },
   "outputs": [],
   "source": [
    "data_2006 = data_2006.drop(['ESTU_LIMITA_BAJAVISION'], axis = 1)"
   ]
  },
  {
   "cell_type": "code",
   "execution_count": 15,
   "metadata": {
    "collapsed": false
   },
   "outputs": [
    {
     "name": "stdout",
     "output_type": "stream",
     "text": [
      "Float64Index([], dtype='float64')\n",
      "Series([], Name: ESTU_LIMITA_SORDOCEGUERA, dtype: int64)\n",
      "Elementos null/NaN 61335\n",
      "__________________\n",
      "Elementos diferentes de null/NaN: 0\n",
      "__________________\n",
      "(0,)\n",
      "None\n"
     ]
    }
   ],
   "source": [
    "c = 'ESTU_LIMITA_SORDOCEGUERA'\n",
    "print(data_2006[c].value_counts().sort_index().index)\n",
    "print(data_2006[c].value_counts().sort_index())\n",
    "print(missing_data(data_2006[c]))"
   ]
  },
  {
   "cell_type": "code",
   "execution_count": 16,
   "metadata": {
    "collapsed": true
   },
   "outputs": [],
   "source": [
    "data_2006 = data_2006.drop(['ESTU_LIMITA_SORDOCEGUERA'], axis = 1)"
   ]
  },
  {
   "cell_type": "code",
   "execution_count": 17,
   "metadata": {
    "collapsed": false
   },
   "outputs": [
    {
     "name": "stdout",
     "output_type": "stream",
     "text": [
      "Float64Index([], dtype='float64')\n",
      "Series([], Name: ESTU_LIMITA_COGNITIVA, dtype: int64)\n",
      "Elementos null/NaN 61335\n",
      "__________________\n",
      "Elementos diferentes de null/NaN: 0\n",
      "__________________\n",
      "(0,)\n",
      "None\n"
     ]
    }
   ],
   "source": [
    "c = 'ESTU_LIMITA_COGNITIVA'\n",
    "print(data_2006[c].value_counts().sort_index().index)\n",
    "print(data_2006[c].value_counts().sort_index())\n",
    "print(missing_data(data_2006[c]))"
   ]
  },
  {
   "cell_type": "code",
   "execution_count": 18,
   "metadata": {
    "collapsed": true
   },
   "outputs": [],
   "source": [
    "data_2006 = data_2006.drop(['ESTU_LIMITA_COGNITIVA'], axis = 1)"
   ]
  },
  {
   "cell_type": "code",
   "execution_count": 19,
   "metadata": {
    "collapsed": false
   },
   "outputs": [
    {
     "name": "stdout",
     "output_type": "stream",
     "text": [
      "Float64Index([], dtype='float64')\n",
      "Series([], Name: ESTU_LIMITA_INVIDENTE, dtype: int64)\n",
      "Elementos null/NaN 61335\n",
      "__________________\n",
      "Elementos diferentes de null/NaN: 0\n",
      "__________________\n",
      "(0,)\n",
      "None\n"
     ]
    }
   ],
   "source": [
    "c = 'ESTU_LIMITA_INVIDENTE'\n",
    "print(data_2006[c].value_counts().sort_index().index)\n",
    "print(data_2006[c].value_counts().sort_index())\n",
    "print(missing_data(data_2006[c]))"
   ]
  },
  {
   "cell_type": "code",
   "execution_count": 20,
   "metadata": {
    "collapsed": true
   },
   "outputs": [],
   "source": [
    "data_2006 = data_2006.drop(['ESTU_LIMITA_INVIDENTE'], axis = 1)"
   ]
  },
  {
   "cell_type": "code",
   "execution_count": 21,
   "metadata": {
    "collapsed": false,
    "scrolled": true
   },
   "outputs": [
    {
     "name": "stdout",
     "output_type": "stream",
     "text": [
      "Float64Index([], dtype='float64')\n",
      "Series([], Name: ESTU_LIMITA_MOTRIZ, dtype: int64)\n",
      "Elementos null/NaN 61335\n",
      "__________________\n",
      "Elementos diferentes de null/NaN: 0\n",
      "__________________\n",
      "(0,)\n",
      "None\n"
     ]
    }
   ],
   "source": [
    "c = 'ESTU_LIMITA_MOTRIZ'\n",
    "print(data_2006[c].value_counts().sort_index().index)\n",
    "print(data_2006[c].value_counts().sort_index())\n",
    "print(missing_data(data_2006[c]))"
   ]
  },
  {
   "cell_type": "code",
   "execution_count": 22,
   "metadata": {
    "collapsed": true
   },
   "outputs": [],
   "source": [
    "data_2006 = data_2006.drop(['ESTU_LIMITA_MOTRIZ'], axis = 1)"
   ]
  },
  {
   "cell_type": "code",
   "execution_count": 23,
   "metadata": {
    "collapsed": false
   },
   "outputs": [
    {
     "name": "stdout",
     "output_type": "stream",
     "text": [
      "Float64Index([], dtype='float64')\n",
      "Series([], Name: ESTU_LIMITA_SORDOINTERPRETE, dtype: int64)\n",
      "Elementos null/NaN 61335\n",
      "__________________\n",
      "Elementos diferentes de null/NaN: 0\n",
      "__________________\n",
      "(0,)\n",
      "None\n"
     ]
    }
   ],
   "source": [
    "c = 'ESTU_LIMITA_SORDOINTERPRETE'\n",
    "print(data_2006[c].value_counts().sort_index().index)\n",
    "print(data_2006[c].value_counts().sort_index())\n",
    "print(missing_data(data_2006[c]))"
   ]
  },
  {
   "cell_type": "code",
   "execution_count": 24,
   "metadata": {
    "collapsed": true
   },
   "outputs": [],
   "source": [
    "data_2006 = data_2006.drop(['ESTU_LIMITA_SORDOINTERPRETE'], axis = 1)"
   ]
  },
  {
   "cell_type": "code",
   "execution_count": 25,
   "metadata": {
    "collapsed": false,
    "scrolled": true
   },
   "outputs": [
    {
     "name": "stdout",
     "output_type": "stream",
     "text": [
      "Float64Index([], dtype='float64')\n",
      "Series([], Name: ESTU_LIMITA_SORDONOINTERPRETE, dtype: int64)\n",
      "Elementos null/NaN 61335\n",
      "__________________\n",
      "Elementos diferentes de null/NaN: 0\n",
      "__________________\n",
      "(0,)\n",
      "None\n"
     ]
    }
   ],
   "source": [
    "c = 'ESTU_LIMITA_SORDONOINTERPRETE'\n",
    "print(data_2006[c].value_counts().sort_index().index)\n",
    "print(data_2006[c].value_counts().sort_index())\n",
    "print(missing_data(data_2006[c]))"
   ]
  },
  {
   "cell_type": "code",
   "execution_count": 26,
   "metadata": {
    "collapsed": true
   },
   "outputs": [],
   "source": [
    "data_2006 = data_2006.drop(['ESTU_LIMITA_SORDONOINTERPRETE'], axis = 1)"
   ]
  },
  {
   "cell_type": "code",
   "execution_count": 27,
   "metadata": {
    "collapsed": false,
    "scrolled": true
   },
   "outputs": [
    {
     "name": "stdout",
     "output_type": "stream",
     "text": [
      "Index(['ABEJORRAL', 'ACACIAS', 'AGUA DE DIOS', 'AGUADAS', 'AGUAZUL',\n",
      "       'ALBAN (SAN JOSE)', 'ALBANIA', 'ALCALA', 'ALDANA', 'ANCUYA',\n",
      "       ...\n",
      "       'YACUANQUER', 'YAGUARA', 'YALI', 'YARUMAL', 'YOLOMBO', 'YOPAL',\n",
      "       'YOTOCO', 'YUMBO', 'ZARZAL', 'ZIPAQUIRA'],\n",
      "      dtype='object', length=316)\n",
      "ABEJORRAL                       6\n",
      "ACACIAS                         1\n",
      "AGUA DE DIOS                    1\n",
      "AGUADAS                         1\n",
      "AGUAZUL                         1\n",
      "ALBAN (SAN JOSE)               71\n",
      "ALBANIA                        24\n",
      "ALCALA                        112\n",
      "ALDANA                         50\n",
      "ANCUYA                         54\n",
      "ANDALUCIA                     207\n",
      "ANDES                           2\n",
      "ANSERMANUEVO                  116\n",
      "APARTADO                        8\n",
      "APIA                            1\n",
      "AQUITANIA                       1\n",
      "ARBELAEZ                        1\n",
      "ARBOLEDA (BERRUECOS)           39\n",
      "ARGELIA                        47\n",
      "ARMENIA                       147\n",
      "ARMERO (GUAYABAL)               1\n",
      "ATRATO (YUTO)                   1\n",
      "BALBOA                         14\n",
      "BARANOA                         1\n",
      "BARBACOAS                     116\n",
      "BARRANCABERMEJA                 1\n",
      "BARRANCAS                       1\n",
      "BARRANQUILLA                  513\n",
      "BELEN                          57\n",
      "BELLO                          88\n",
      "                             ... \n",
      "TUMACO                       1129\n",
      "TUNJA                          58\n",
      "TUQUERRES                     391\n",
      "TURBACO                         3\n",
      "TUTA                            1\n",
      "UBATE                          11\n",
      "ULLOA                          55\n",
      "VALENCIA                       18\n",
      "VALLEDUPAR                     61\n",
      "VENTAQUEMADA                    1\n",
      "VERSALLES                      74\n",
      "VIJES                          76\n",
      "VILLA DE LEYVA                  1\n",
      "VILLA DEL ROSARIO               1\n",
      "VILLA GUAMEZ (LA HORMIGA)       2\n",
      "VILLA RICA                      5\n",
      "VILLAGARZON                    71\n",
      "VILLAMARIA                      2\n",
      "VILLAVICENCIO                 110\n",
      "VILLETA                        10\n",
      "YACUANQUER                     66\n",
      "YAGUARA                        15\n",
      "YALI                            3\n",
      "YARUMAL                         1\n",
      "YOLOMBO                        12\n",
      "YOPAL                          52\n",
      "YOTOCO                        106\n",
      "YUMBO                         828\n",
      "ZARZAL                        446\n",
      "ZIPAQUIRA                      52\n",
      "Name: ESTU_RESIDE_MCPIO, dtype: int64\n",
      "Elementos null/NaN 23\n",
      "__________________\n",
      "Elementos diferentes de null/NaN: 61312\n",
      "__________________\n",
      "(61312,)\n",
      "None\n"
     ]
    }
   ],
   "source": [
    "c = 'ESTU_RESIDE_MCPIO'\n",
    "print(data_2006[c].value_counts().sort_index().index)\n",
    "print(data_2006[c].value_counts().sort_index())\n",
    "print(missing_data(data_2006[c]))"
   ]
  },
  {
   "cell_type": "code",
   "execution_count": 28,
   "metadata": {
    "collapsed": false,
    "scrolled": true
   },
   "outputs": [
    {
     "name": "stdout",
     "output_type": "stream",
     "text": [
      "Index(['ANTIOQUIA', 'ATLÃNTICO', 'BOGOTÃ', 'BOLÃVAR', 'BOYACÃ', 'CALDAS',\n",
      "       'CAQUETÃ', 'CASANARE', 'CAUCA', 'CESAR', 'CHOCÃ', 'CUNDINAMARCA',\n",
      "       'CÃRDOBA', 'GUAVIARE', 'HUILA', 'LA GUAJIRA', 'MAGDALENA', 'META',\n",
      "       'NARIÃO', 'NORTE SANTANDER', 'PUTUMAYO', 'QUINDÃO', 'RISARALDA',\n",
      "       'SAN ANDRÃS', 'SANTANDER', 'SUCRE', 'TOLIMA', 'VALLE'],\n",
      "      dtype='object')\n",
      "ANTIOQUIA           1395\n",
      "ATLÃNTICO           535\n",
      "BOGOTÃ             4432\n",
      "BOLÃVAR             170\n",
      "BOYACÃ              219\n",
      "CALDAS               157\n",
      "CAQUETÃ              15\n",
      "CASANARE              68\n",
      "CAUCA               1016\n",
      "CESAR                 62\n",
      "CHOCÃ                 2\n",
      "CUNDINAMARCA         630\n",
      "CÃRDOBA              54\n",
      "GUAVIARE               1\n",
      "HUILA                197\n",
      "LA GUAJIRA            36\n",
      "MAGDALENA             37\n",
      "META                 121\n",
      "NARIÃO            12304\n",
      "NORTE SANTANDER      130\n",
      "PUTUMAYO              86\n",
      "QUINDÃO             180\n",
      "RISARALDA            235\n",
      "SAN ANDRÃS            1\n",
      "SANTANDER            379\n",
      "SUCRE                 18\n",
      "TOLIMA               179\n",
      "VALLE              38652\n",
      "Name: ESTU_RESIDE_DEPTO, dtype: int64\n",
      "Elementos null/NaN 24\n",
      "__________________\n",
      "Elementos diferentes de null/NaN: 61311\n",
      "__________________\n",
      "(61311,)\n",
      "None\n"
     ]
    }
   ],
   "source": [
    "c = 'ESTU_RESIDE_DEPTO'\n",
    "print(data_2006[c].value_counts().sort_index().index)\n",
    "print(data_2006[c].value_counts().sort_index())\n",
    "print(missing_data(data_2006[c]))"
   ]
  },
  {
   "cell_type": "code",
   "execution_count": 29,
   "metadata": {
    "collapsed": true
   },
   "outputs": [],
   "source": [
    "data_2006['ESTU_RESIDE_DEPTO'] = data_2006['ESTU_RESIDE_DEPTO'].replace('ATLÃNTICO', 'ATLANTICO')\n",
    "data_2006['ESTU_RESIDE_DEPTO'] = data_2006['ESTU_RESIDE_DEPTO'].replace('BOGOTÃ', 'BOGOTA')\n",
    "data_2006['ESTU_RESIDE_DEPTO'] = data_2006['ESTU_RESIDE_DEPTO'].replace('BOLÃVAR', 'BOLIVAR')\n",
    "data_2006['ESTU_RESIDE_DEPTO'] = data_2006['ESTU_RESIDE_DEPTO'].replace('BOYACÃ', 'BOYACA')\n",
    "data_2006['ESTU_RESIDE_DEPTO'] = data_2006['ESTU_RESIDE_DEPTO'].replace('CAQUETÃ', 'CAQUETA')\n",
    "data_2006['ESTU_RESIDE_DEPTO'] = data_2006['ESTU_RESIDE_DEPTO'].replace('CHOCÃ', 'CHOCO')\n",
    "data_2006['ESTU_RESIDE_DEPTO'] = data_2006['ESTU_RESIDE_DEPTO'].replace('CÃRDOBA', 'CORDOBA')\n",
    "data_2006['ESTU_RESIDE_DEPTO'] = data_2006['ESTU_RESIDE_DEPTO'].replace('NARIÃO', 'NARIÑO')\n",
    "data_2006['ESTU_RESIDE_DEPTO'] = data_2006['ESTU_RESIDE_DEPTO'].replace('QUINDÃO', 'QUINDIO')\n",
    "data_2006['ESTU_RESIDE_DEPTO'] = data_2006['ESTU_RESIDE_DEPTO'].replace('SAN ANDRÃS', 'SAN ANDRES')"
   ]
  },
  {
   "cell_type": "code",
   "execution_count": 30,
   "metadata": {
    "collapsed": false
   },
   "outputs": [
    {
     "name": "stdout",
     "output_type": "stream",
     "text": [
      "Float64Index([1.0, 2.0, 3.0, 4.0, 5.0, 6.0, 7.0, 8.0, 9.0, 10.0], dtype='float64')\n",
      "1.0      6457\n",
      "2.0      2812\n",
      "3.0       943\n",
      "4.0      5737\n",
      "5.0      1465\n",
      "6.0      2313\n",
      "7.0      3622\n",
      "8.0      1157\n",
      "9.0      1445\n",
      "10.0    35358\n",
      "Name: ESTU_ZONA_RESIDE, dtype: int64\n",
      "Elementos null/NaN 26\n",
      "__________________\n",
      "Elementos diferentes de null/NaN: 61309\n",
      "__________________\n",
      "(61309,)\n",
      "None\n"
     ]
    }
   ],
   "source": [
    "c = 'ESTU_ZONA_RESIDE'\n",
    "print(data_2006[c].value_counts().sort_index().index)\n",
    "print(data_2006[c].value_counts().sort_index())\n",
    "print(missing_data(data_2006[c]))"
   ]
  },
  {
   "cell_type": "code",
   "execution_count": 31,
   "metadata": {
    "collapsed": false
   },
   "outputs": [
    {
     "name": "stdout",
     "output_type": "stream",
     "text": [
      "Float64Index([1.0, 2.0], dtype='float64')\n",
      "1.0    466\n",
      "2.0    126\n",
      "Name: ESTU_AREA_RESIDE, dtype: int64\n",
      "Elementos null/NaN 60743\n",
      "__________________\n",
      "Elementos diferentes de null/NaN: 592\n",
      "__________________\n",
      "(592,)\n",
      "None\n"
     ]
    }
   ],
   "source": [
    "c = 'ESTU_AREA_RESIDE'\n",
    "print(data_2006[c].value_counts().sort_index().index)\n",
    "print(data_2006[c].value_counts().sort_index())\n",
    "print(missing_data(data_2006[c]))"
   ]
  },
  {
   "cell_type": "code",
   "execution_count": 32,
   "metadata": {
    "collapsed": false,
    "scrolled": true
   },
   "outputs": [
    {
     "name": "stdout",
     "output_type": "stream",
     "text": [
      "Index(['ALBANIA', 'ALCALA', 'ANDALUCIA', 'ANSERMANUEVO', 'APARTADO', 'ARMENIA',\n",
      "       'BARBACOAS', 'BARRANCABERMEJA', 'BARRANQUILLA', 'BELLO',\n",
      "       ...\n",
      "       'TUMACO', 'TUNJA', 'TUQUERRES', 'UBATE', 'VALLEDUPAR', 'VILLAVICENCIO',\n",
      "       'YOPAL', 'YUMBO', 'ZARZAL', 'ZIPAQUIRA'],\n",
      "      dtype='object', length=102)\n",
      "ALBANIA                      30\n",
      "ALCALA                      168\n",
      "ANDALUCIA                   208\n",
      "ANSERMANUEVO                118\n",
      "APARTADO                     11\n",
      "ARMENIA                     169\n",
      "BARBACOAS                   163\n",
      "BARRANCABERMEJA               1\n",
      "BARRANQUILLA                543\n",
      "BELLO                        89\n",
      "BOGOTÃ D.C.               4301\n",
      "BOLIVAR                      35\n",
      "BUCARAMANGA                 348\n",
      "BUENAVENTURA               2308\n",
      "BUESACO                     209\n",
      "BUGA                       1600\n",
      "BUGALAGRANDE                200\n",
      "CAICEDONIA                  283\n",
      "CALI                      19610\n",
      "CALIMA (DARIEN)             149\n",
      "CANDELARIA                  712\n",
      "CARTAGENA                   179\n",
      "CARTAGO                    1598\n",
      "CHAPARRAL                    36\n",
      "CHIA                        176\n",
      "CONSACA                      69\n",
      "CUCUTA                      121\n",
      "CUMBAL                      265\n",
      "DAGUA                       233\n",
      "EL CERRITO                  696\n",
      "                          ...  \n",
      "RIONEGRO                     53\n",
      "ROLDANILLO                  530\n",
      "SAMANIEGO                   256\n",
      "SAN GIL                       8\n",
      "SAN PABLO                   169\n",
      "SANDONA                     281\n",
      "SANTA MARTA                  36\n",
      "SANTA ROSA DE OSOS           40\n",
      "SANTANDER DE QUILICHAO       76\n",
      "SEVILLA                     345\n",
      "SINCELEJO                    18\n",
      "SOACHA                      184\n",
      "SOGAMOSO                     70\n",
      "TAMINANGO                   136\n",
      "TANGUA                       48\n",
      "TIMBIO                        1\n",
      "TIMBIQUI                     42\n",
      "TORO                        159\n",
      "TRUJILLO                    150\n",
      "TULUA                      2423\n",
      "TUMACO                     1155\n",
      "TUNJA                       151\n",
      "TUQUERRES                   495\n",
      "UBATE                        35\n",
      "VALLEDUPAR                   70\n",
      "VILLAVICENCIO               122\n",
      "YOPAL                        69\n",
      "YUMBO                      1012\n",
      "ZARZAL                      465\n",
      "ZIPAQUIRA                    80\n",
      "Name: ESTU_MCPIO_PRESENTACION, dtype: int64\n",
      "Elementos null/NaN 0\n",
      "__________________\n",
      "Elementos diferentes de null/NaN: 61335\n",
      "__________________\n",
      "(61335,)\n",
      "None\n"
     ]
    }
   ],
   "source": [
    "c = 'ESTU_MCPIO_PRESENTACION'\n",
    "print(data_2006[c].value_counts().sort_index().index)\n",
    "print(data_2006[c].value_counts().sort_index())\n",
    "print(missing_data(data_2006[c]))"
   ]
  },
  {
   "cell_type": "code",
   "execution_count": 33,
   "metadata": {
    "collapsed": false,
    "scrolled": true
   },
   "outputs": [
    {
     "name": "stdout",
     "output_type": "stream",
     "text": [
      "Index(['ANTIOQUIA', 'ATLÃNTICO', 'BOGOTÃ', 'BOLÃVAR', 'BOYACÃ', 'CALDAS',\n",
      "       'CAQUETÃ', 'CASANARE', 'CAUCA', 'CESAR', 'CUNDINAMARCA', 'CÃRDOBA',\n",
      "       'HUILA', 'LA GUAJIRA', 'MAGDALENA', 'META', 'NARIÃO',\n",
      "       'NORTE SANTANDER', 'PUTUMAYO', 'QUINDÃO', 'RISARALDA', 'SANTANDER',\n",
      "       'SUCRE', 'TOLIMA', 'VALLE'],\n",
      "      dtype='object')\n",
      "ANTIOQUIA           1373\n",
      "ATLÃNTICO           543\n",
      "BOGOTÃ             4301\n",
      "BOLÃVAR             179\n",
      "BOYACÃ              221\n",
      "CALDAS               168\n",
      "CAQUETÃ              15\n",
      "CASANARE              69\n",
      "CAUCA                972\n",
      "CESAR                 70\n",
      "CUNDINAMARCA         588\n",
      "CÃRDOBA              53\n",
      "HUILA                195\n",
      "LA GUAJIRA            40\n",
      "MAGDALENA             36\n",
      "META                 122\n",
      "NARIÃO            12476\n",
      "NORTE SANTANDER      127\n",
      "PUTUMAYO              78\n",
      "QUINDÃO             169\n",
      "RISARALDA            219\n",
      "SANTANDER            380\n",
      "SUCRE                 18\n",
      "TOLIMA               158\n",
      "VALLE              38765\n",
      "Name: ESTU_DEPTO_PRESENTACION, dtype: int64\n",
      "Elementos null/NaN 0\n",
      "__________________\n",
      "Elementos diferentes de null/NaN: 61335\n",
      "__________________\n",
      "(61335,)\n",
      "None\n"
     ]
    }
   ],
   "source": [
    "c = 'ESTU_DEPTO_PRESENTACION'\n",
    "print(data_2006[c].value_counts().sort_index().index)\n",
    "print(data_2006[c].value_counts().sort_index())\n",
    "print(missing_data(data_2006[c]))"
   ]
  },
  {
   "cell_type": "code",
   "execution_count": 34,
   "metadata": {
    "collapsed": true
   },
   "outputs": [],
   "source": [
    "data_2006['ESTU_DEPTO_PRESENTACION'] = data_2006['ESTU_DEPTO_PRESENTACION'].replace('ATLÃNTICO', 'ATLANTICO')\n",
    "data_2006['ESTU_DEPTO_PRESENTACION'] = data_2006['ESTU_DEPTO_PRESENTACION'].replace('BOGOTÃ', 'BOGOTA')\n",
    "data_2006['ESTU_DEPTO_PRESENTACION'] = data_2006['ESTU_DEPTO_PRESENTACION'].replace('BOLÃVAR', 'BOLIVAR')\n",
    "data_2006['ESTU_DEPTO_PRESENTACION'] = data_2006['ESTU_DEPTO_PRESENTACION'].replace('BOYACÃ', 'BOYACA')\n",
    "data_2006['ESTU_DEPTO_PRESENTACION'] = data_2006['ESTU_DEPTO_PRESENTACION'].replace('CAQUETÃ', 'CAQUETA')\n",
    "data_2006['ESTU_DEPTO_PRESENTACION'] = data_2006['ESTU_DEPTO_PRESENTACION'].replace('CÃRDOBA', 'CORDOBA')\n",
    "data_2006['ESTU_DEPTO_PRESENTACION'] = data_2006['ESTU_DEPTO_PRESENTACION'].replace('NARIÃO', 'NARIÑO')\n",
    "data_2006['ESTU_DEPTO_PRESENTACION'] = data_2006['ESTU_DEPTO_PRESENTACION'].replace('QUINDÃO', 'QUINDIO')"
   ]
  },
  {
   "cell_type": "code",
   "execution_count": 35,
   "metadata": {
    "collapsed": false
   },
   "outputs": [
    {
     "name": "stdout",
     "output_type": "stream",
     "text": [
      "Index(['EXAMEN DE ESTADO  (2006)'], dtype='object')\n",
      "EXAMEN DE ESTADO  (2006)    61335\n",
      "Name: ESTU_EXAM_NOMBREEXAMEN, dtype: int64\n",
      "Elementos null/NaN 0\n",
      "__________________\n",
      "Elementos diferentes de null/NaN: 61335\n",
      "__________________\n",
      "(61335,)\n",
      "None\n"
     ]
    }
   ],
   "source": [
    "c = 'ESTU_EXAM_NOMBREEXAMEN'\n",
    "print(data_2006[c].value_counts().sort_index().index)\n",
    "print(data_2006[c].value_counts().sort_index())\n",
    "print(missing_data(data_2006[c]))"
   ]
  },
  {
   "cell_type": "code",
   "execution_count": 36,
   "metadata": {
    "collapsed": true
   },
   "outputs": [],
   "source": [
    "data_2006 = data_2006.drop(['ESTU_EXAM_NOMBREEXAMEN'], axis = 1)"
   ]
  },
  {
   "cell_type": "code",
   "execution_count": 37,
   "metadata": {
    "collapsed": false
   },
   "outputs": [
    {
     "name": "stdout",
     "output_type": "stream",
     "text": [
      "Float64Index([0.0, 1.0], dtype='float64')\n",
      "0.0     5696\n",
      "1.0    55634\n",
      "Name: IND_ESTUDIO_BACHILLERATO, dtype: int64\n",
      "Elementos null/NaN 5\n",
      "__________________\n",
      "Elementos diferentes de null/NaN: 61330\n",
      "__________________\n",
      "(61330,)\n",
      "None\n"
     ]
    }
   ],
   "source": [
    "c = 'IND_ESTUDIO_BACHILLERATO'\n",
    "print(data_2006[c].value_counts().sort_index().index)\n",
    "print(data_2006[c].value_counts().sort_index())\n",
    "print(missing_data(data_2006[c]))"
   ]
  },
  {
   "cell_type": "code",
   "execution_count": 38,
   "metadata": {
    "collapsed": false,
    "scrolled": true
   },
   "outputs": [
    {
     "name": "stdout",
     "output_type": "stream",
     "text": [
      "Float64Index([1973.0, 1986.0, 1989.0, 1993.0, 1996.0, 1997.0, 1998.0, 1999.0,\n",
      "              2000.0, 2001.0, 2002.0, 2003.0, 2004.0, 2005.0, 2006.0, 2007.0,\n",
      "              2008.0, 2009.0, 2010.0, 2011.0, 9999.0],\n",
      "             dtype='float64')\n",
      "1973.0        1\n",
      "1986.0        2\n",
      "1989.0        1\n",
      "1993.0        3\n",
      "1996.0        4\n",
      "1997.0        2\n",
      "1998.0        1\n",
      "1999.0        3\n",
      "2000.0        5\n",
      "2001.0        4\n",
      "2002.0       12\n",
      "2003.0        7\n",
      "2004.0        9\n",
      "2005.0     2251\n",
      "2006.0    55638\n",
      "2007.0      239\n",
      "2008.0       18\n",
      "2009.0       10\n",
      "2010.0        2\n",
      "2011.0        1\n",
      "9999.0        1\n",
      "Name: IND_ANNO_TERMINO_BACHILLERATO, dtype: int64\n",
      "Elementos null/NaN 3121\n",
      "__________________\n",
      "Elementos diferentes de null/NaN: 58214\n",
      "__________________\n",
      "(58214,)\n",
      "None\n"
     ]
    }
   ],
   "source": [
    "c = 'IND_ANNO_TERMINO_BACHILLERATO'\n",
    "print(data_2006[c].value_counts().sort_index().index)\n",
    "print(data_2006[c].value_counts().sort_index())\n",
    "print(missing_data(data_2006[c]))"
   ]
  },
  {
   "cell_type": "code",
   "execution_count": 39,
   "metadata": {
    "collapsed": true
   },
   "outputs": [],
   "source": [
    "for i in data_2006[c].value_counts().sort_index().index:\n",
    "    if i > 2009:\n",
    "        data_2006['IND_ANNO_TERMINO_BACHILLERATO'] = data_2006['IND_ANNO_TERMINO_BACHILLERATO'].replace(i, np.nan)"
   ]
  },
  {
   "cell_type": "code",
   "execution_count": 40,
   "metadata": {
    "collapsed": false
   },
   "outputs": [
    {
     "name": "stdout",
     "output_type": "stream",
     "text": [
      "Float64Index([1.0], dtype='float64')\n",
      "1.0    116\n",
      "Name: IND_TERMINO_BACHILLERATO, dtype: int64\n",
      "Elementos null/NaN 61219\n",
      "__________________\n",
      "Elementos diferentes de null/NaN: 116\n",
      "__________________\n",
      "(116,)\n",
      "None\n"
     ]
    }
   ],
   "source": [
    "c = 'IND_TERMINO_BACHILLERATO'\n",
    "print(data_2006[c].value_counts().sort_index().index)\n",
    "print(data_2006[c].value_counts().sort_index())\n",
    "print(missing_data(data_2006[c]))"
   ]
  },
  {
   "cell_type": "code",
   "execution_count": 41,
   "metadata": {
    "collapsed": false,
    "scrolled": true
   },
   "outputs": [
    {
     "name": "stdout",
     "output_type": "stream",
     "text": [
      "Float64Index([     3.0,     59.0,    182.0,    240.0,    265.0,   3046.0,\n",
      "                3327.0,   3418.0,   3459.0,   3525.0,\n",
      "              ...\n",
      "              164194.0, 164483.0, 166280.0, 168294.0, 168393.0, 170456.0,\n",
      "              172908.0, 173302.0, 175208.0, 999999.0],\n",
      "             dtype='float64', length=1649)\n",
      "3.0          35\n",
      "59.0          1\n",
      "182.0        68\n",
      "240.0         2\n",
      "265.0        87\n",
      "3046.0       70\n",
      "3327.0       15\n",
      "3418.0       40\n",
      "3459.0       97\n",
      "3525.0       91\n",
      "4234.0       36\n",
      "6775.0       11\n",
      "7013.0       48\n",
      "7070.0      114\n",
      "7088.0       53\n",
      "7344.0        1\n",
      "7542.0        1\n",
      "8995.0        1\n",
      "9110.0       66\n",
      "9589.0       36\n",
      "10058.0       1\n",
      "10066.0       2\n",
      "10280.0       1\n",
      "10660.0       1\n",
      "11213.0     192\n",
      "11221.0       2\n",
      "11239.0      68\n",
      "11247.0       1\n",
      "11254.0      25\n",
      "11262.0      46\n",
      "           ... \n",
      "130294.0      1\n",
      "130419.0      1\n",
      "130427.0      3\n",
      "135434.0      2\n",
      "136093.0      1\n",
      "136879.0      1\n",
      "136994.0      1\n",
      "139402.0      1\n",
      "139444.0      1\n",
      "143032.0      2\n",
      "143826.0      1\n",
      "144048.0      1\n",
      "145441.0      1\n",
      "150409.0      1\n",
      "150474.0      1\n",
      "150953.0      1\n",
      "154963.0      1\n",
      "160440.0      1\n",
      "162099.0      1\n",
      "162958.0      1\n",
      "164194.0      1\n",
      "164483.0      1\n",
      "166280.0      1\n",
      "168294.0      1\n",
      "168393.0      1\n",
      "170456.0      1\n",
      "172908.0      1\n",
      "173302.0      1\n",
      "175208.0      1\n",
      "999999.0    232\n",
      "Name: IND_COD_ICFES_TERMINO, dtype: int64\n",
      "Elementos null/NaN 345\n",
      "__________________\n",
      "Elementos diferentes de null/NaN: 60990\n",
      "__________________\n",
      "(60990,)\n",
      "None\n"
     ]
    }
   ],
   "source": [
    "c = 'IND_COD_ICFES_TERMINO'\n",
    "print(data_2006[c].value_counts().sort_index().index)\n",
    "print(data_2006[c].value_counts().sort_index())\n",
    "print(missing_data(data_2006[c]))"
   ]
  },
  {
   "cell_type": "code",
   "execution_count": 42,
   "metadata": {
    "collapsed": false,
    "scrolled": true
   },
   "outputs": [
    {
     "name": "stdout",
     "output_type": "stream",
     "text": [
      "Int64Index([   182,    265,   3046,   3327,   3418,   3459,   3525,   4234,\n",
      "              6775,   7013,\n",
      "            ...\n",
      "            124834, 124867, 124875, 124990, 125021, 125047, 125054, 125104,\n",
      "            125112, 125138],\n",
      "           dtype='int64', length=1502)\n",
      "182        68\n",
      "265        90\n",
      "3046       70\n",
      "3327       15\n",
      "3418       40\n",
      "3459       97\n",
      "3525       91\n",
      "4234       36\n",
      "6775       11\n",
      "7013       51\n",
      "7070      118\n",
      "7088       54\n",
      "9589       36\n",
      "11213     208\n",
      "11239      70\n",
      "11254      26\n",
      "11262      48\n",
      "11270     151\n",
      "11288     113\n",
      "11296     285\n",
      "11312     142\n",
      "11320     143\n",
      "11338     509\n",
      "11379      40\n",
      "11395      43\n",
      "11403      75\n",
      "11411     136\n",
      "11429      94\n",
      "11437      91\n",
      "11445     123\n",
      "         ... \n",
      "124487     13\n",
      "124495      1\n",
      "124503      7\n",
      "124511      8\n",
      "124537     10\n",
      "124545     80\n",
      "124552     10\n",
      "124560     64\n",
      "124578     17\n",
      "124602      9\n",
      "124628     11\n",
      "124636     97\n",
      "124644      6\n",
      "124651      9\n",
      "124677      5\n",
      "124693      7\n",
      "124701      8\n",
      "124735     18\n",
      "124750     56\n",
      "124818     27\n",
      "124834      8\n",
      "124867     54\n",
      "124875     17\n",
      "124990     18\n",
      "125021     26\n",
      "125047     42\n",
      "125054      9\n",
      "125104     59\n",
      "125112     35\n",
      "125138     20\n",
      "Name: COLE_COD_ICFES, dtype: int64\n",
      "Elementos null/NaN 0\n",
      "__________________\n",
      "Elementos diferentes de null/NaN: 61335\n",
      "__________________\n",
      "(61335,)\n",
      "None\n"
     ]
    }
   ],
   "source": [
    "c = 'COLE_COD_ICFES'\n",
    "print(data_2006[c].value_counts().sort_index().index)\n",
    "print(data_2006[c].value_counts().sort_index())\n",
    "print(missing_data(data_2006[c]))"
   ]
  },
  {
   "cell_type": "code",
   "execution_count": 43,
   "metadata": {
    "collapsed": false,
    "scrolled": true
   },
   "outputs": [
    {
     "name": "stdout",
     "output_type": "stream",
     "text": [
      "Index(['            ', '010500103391', '051100116867', '105001000566',\n",
      "       '105001003395', '105001003425', '105042000732', '105361000443',\n",
      "       '105387000077', '108001003289',\n",
      "       ...\n",
      "       '519698000003', '525899000016', '537610908071', '576001091472',\n",
      "       '576622134546', '625214000001', '625269000075', '625286000041',\n",
      "       '625843000124', '841551000001'],\n",
      "      dtype='object', length=1327)\n",
      "                673\n",
      "010500103391     26\n",
      "051100116867     25\n",
      "105001000566     15\n",
      "105001003395     17\n",
      "105001003425      6\n",
      "105042000732     16\n",
      "105361000443     29\n",
      "105387000077      5\n",
      "108001003289     14\n",
      "111001010251      9\n",
      "111001011029     14\n",
      "111001034134     18\n",
      "111001092410     46\n",
      "111001102148     18\n",
      "111848003031     28\n",
      "115759001887     31\n",
      "117433000859     10\n",
      "117616000696     11\n",
      "125175000299     32\n",
      "125754002147     18\n",
      "125899000657     36\n",
      "141885000013     19\n",
      "150226000013      9\n",
      "152001000599    285\n",
      "152001000661    169\n",
      "152001000769    248\n",
      "152001000777    471\n",
      "152001000785    509\n",
      "152001000793     91\n",
      "               ... \n",
      "476001006333     19\n",
      "476001020719     14\n",
      "476001038251    100\n",
      "476126000418      8\n",
      "476130000571     54\n",
      "476130000813      7\n",
      "476130000902     15\n",
      "476130000961      4\n",
      "476130001186     20\n",
      "476248000478     72\n",
      "476248000648     10\n",
      "476248000877      4\n",
      "476248032012     31\n",
      "476520003813     16\n",
      "476520006324      7\n",
      "476892001183     11\n",
      "476892099710     21\n",
      "476892099728     11\n",
      "476895000382     33\n",
      "519001000002     23\n",
      "519698000003      8\n",
      "525899000016      8\n",
      "537610908071     21\n",
      "576001091472      6\n",
      "576622134546     14\n",
      "625214000001     20\n",
      "625269000075     14\n",
      "625286000041     33\n",
      "625843000124      3\n",
      "841551000001     25\n",
      "Name: COLE_COD_DANE_INSTITUCION, dtype: int64\n",
      "Elementos null/NaN 0\n",
      "__________________\n",
      "Elementos diferentes de null/NaN: 61335\n",
      "__________________\n",
      "(61335,)\n",
      "None\n"
     ]
    }
   ],
   "source": [
    "c = 'COLE_COD_DANE_INSTITUCION'\n",
    "print(data_2006[c].value_counts().sort_index().index)\n",
    "print(data_2006[c].value_counts().sort_index())\n",
    "print(missing_data(data_2006[c]))"
   ]
  },
  {
   "cell_type": "code",
   "execution_count": 44,
   "metadata": {
    "collapsed": true
   },
   "outputs": [],
   "source": [
    "data_2006['COLE_COD_DANE_INSTITUCION'] = data_2006['COLE_COD_DANE_INSTITUCION'].replace('            ', np.nan)\n",
    "for i in data_2006[c].value_counts().sort_index().index:\n",
    "    if type(i) == str:\n",
    "        data_2006['COLE_COD_DANE_INSTITUCION'] = data_2006['COLE_COD_DANE_INSTITUCION'].replace(i, float(i))"
   ]
  },
  {
   "cell_type": "code",
   "execution_count": 45,
   "metadata": {
    "collapsed": false,
    "scrolled": true
   },
   "outputs": [
    {
     "name": "stdout",
     "output_type": "stream",
     "text": [
      "Index([' COL FUND STA ISABEL DE HUNGRIA', ' ESCUELA URBANA JOSE ANTONIO GALAN',\n",
      "       ' FUND COL PAR SAN PEDRO CLAVER',\n",
      "       '07/01 INSTITUCION EDUCATIVA JORGE ISAACS INEM',\n",
      "       '20/01 INSTITUCION EDUCATIVA, SIETE DE AGOSTO',\n",
      "       '28/01 INSTITUCIÃN EDUCATIVA SANTA FE',\n",
      "       '32/01 INSTITUCION EDUCATIVA NORMAL SUPERIOR SANTIAGO DE CALI',\n",
      "       '38/01 INSTITUCION EDUCATIVA AGUSTIN NIETO CABALLERO',\n",
      "       '39/01 INSTITUCION EDUCATIVA BOYACA',\n",
      "       '41/01 INSTITUCION EDUCATIVA VILLA DEL SUR',\n",
      "       ...\n",
      "       'SUSANA LOPEZ DE VALENCIA', 'TABLONES',\n",
      "       'TECNOLÃGICO EN INFORMATICA Y COMERCIO DE BUENAVENTURA INCOMEB',\n",
      "       'TERESA CALDERÃN DE LASSO',\n",
      "       'TÃCNICO INDUSTRIAL GERARDO VALENCIA CANO - SEDE PRINCIPAL',\n",
      "       'UNIDAD TECNOLOGICA DEL SUR',\n",
      "       'UNION PROFESIONAL PARA LA EDUCACION Y EL TRABAJO UPET',\n",
      "       'UNIVERSIDAD NACIONAL ABIERTA Y A DISTANCIA', 'VERNOT SCHOOL',\n",
      "       'XINSTITUTO TECNICO COMERCIAL PILOTO'],\n",
      "      dtype='object', length=1359)\n",
      " COL FUND STA ISABEL DE HUNGRIA                                       842\n",
      " ESCUELA URBANA JOSE ANTONIO GALAN                                     25\n",
      " FUND COL PAR SAN PEDRO CLAVER                                         65\n",
      "07/01 INSTITUCION EDUCATIVA JORGE ISAACS INEM                         581\n",
      "20/01 INSTITUCION EDUCATIVA, SIETE DE AGOSTO                           70\n",
      "28/01 INSTITUCIÃN EDUCATIVA SANTA FE                                 106\n",
      "32/01 INSTITUCION EDUCATIVA NORMAL SUPERIOR SANTIAGO DE CALI          168\n",
      "38/01 INSTITUCION EDUCATIVA AGUSTIN NIETO CABALLERO                   111\n",
      "39/01 INSTITUCION EDUCATIVA BOYACA                                     79\n",
      "41/01 INSTITUCION EDUCATIVA VILLA DEL SUR                             147\n",
      "44/01 INSTITUCIÃN EDUCATIVA COMERCIAL CIUDAD DE CALI                 249\n",
      "58/01 INSTITUCION EDUCATIVA GABRIELA MISTRAL                           97\n",
      "69/01 INSTITUCION EDUCATIVA LA ESPERANZA                               33\n",
      "74/01 INSTITUCION EDUCATIVA JUANA DE CAICEDO Y CUERO                   26\n",
      "80/01 INSTITUCIÃN EDUCATIVA PANCE                                     11\n",
      "81/02 INSTITUCION EDUCATIVA LA BUITRERA JOSE MARIA GARCIA DE TOLED     15\n",
      "84/04  JOSE HOLGUIN GARCES                                             13\n",
      "86/02 INSTITUCION EDUCATIVA LA LEONERA  ITA FARALLONES                 14\n",
      "ABSALON TORRES CAMACHO                                                102\n",
      "ACADE MILIT JOAQUÃN DE CAICEDO Y CUERO                                24\n",
      "ACADEMIA ACADEMIA SAM                                                   9\n",
      "ACADEMIA COLOMBIANA DE ENSEÃANZA                                      23\n",
      "ACADEMIA COMERCIAL REAL                                                15\n",
      "ACADEMIA DE CIENCIAS DE COLOMBIA AKADEMOS                              14\n",
      "ACADEMIA MILIT CORONEL MIGUEL CABAL BARONA                             16\n",
      "ACADEMIA MILITAR GENERAL JOSÃ MARÃA CABAL                            36\n",
      "AGRICOLA CAMPOALEGRE                                                   38\n",
      "AGRICOLA PRESBITERO HORACIO GOMEZ GALLO                                30\n",
      "ALAIN VALENCIA                                                          4\n",
      "ALFONSO LOPEZ PUMAREJO                                                232\n",
      "                                                                     ... \n",
      "SEDE PRINCIPAL  TRES ESQUINAS                                          30\n",
      "SEDE PRINCIPAL AGUACLARA                                               39\n",
      "SEDE PRINCIPAL CONCENTRACIÃN DE DESARROLLO RURAL                      50\n",
      "SEDE PRINCIPAL GIMNASIO DEL PACIFICO CENTRAL                          355\n",
      "SEDE PRINCIPAL INSTITUTO JULIA RESTREPO                               176\n",
      "SEDE PRINCIPAL INSTITUTO TEC.  INDUSTRIAL C.S.L.                      169\n",
      "SEDE PRINCIPAL LA GRACIELA                                             96\n",
      "SEDE PRINCIPAL LICEO MODERNO                                          174\n",
      "SEDE PRINCIPAL NO. 7 MARIA ANTONIA RUIZ                                52\n",
      "SEDE PRINCIPAL UNIDAD DOCENTE JOVITA SANTA COLOMA                      59\n",
      "SEM DE CRISTO SACERDOTE                                                36\n",
      "SEMILLA DE LA ESPERANZA                                                10\n",
      "SEMINARIO MENOR ARQUIDIOCESANO                                         55\n",
      "SERVICIO EDUCATIVO NAL DE ADULTOS SENDAS                               55\n",
      "SEVILLA                                                               164\n",
      "SIMON BOLIVAR                                                         158\n",
      "SIMON RODRIGUEZ                                                        14\n",
      "SIXTO MARIA ROJAS                                                      39\n",
      "SOC ESCUELA KARL C PARRISH                                             40\n",
      "SOR MARIA JULIANA                                                      89\n",
      "SUSANA LOPEZ DE VALENCIA                                               32\n",
      "TABLONES                                                               27\n",
      "TECNOLÃGICO EN INFORMATICA Y COMERCIO DE BUENAVENTURA INCOMEB         26\n",
      "TERESA CALDERÃN DE LASSO                                              27\n",
      "TÃCNICO INDUSTRIAL GERARDO VALENCIA CANO - SEDE PRINCIPAL            181\n",
      "UNIDAD TECNOLOGICA DEL SUR                                             27\n",
      "UNION PROFESIONAL PARA LA EDUCACION Y EL TRABAJO UPET                   4\n",
      "UNIVERSIDAD NACIONAL ABIERTA Y A DISTANCIA                              8\n",
      "VERNOT SCHOOL                                                           8\n",
      "XINSTITUTO TECNICO COMERCIAL PILOTO                                     5\n",
      "Name: COLE_NOMBRE_SEDE, dtype: int64\n",
      "Elementos null/NaN 0\n",
      "__________________\n",
      "Elementos diferentes de null/NaN: 61335\n",
      "__________________\n",
      "(61335,)\n",
      "None\n"
     ]
    }
   ],
   "source": [
    "c = 'COLE_NOMBRE_SEDE'\n",
    "print(data_2006[c].value_counts().sort_index().index)\n",
    "print(data_2006[c].value_counts().sort_index())\n",
    "print(missing_data(data_2006[c]))"
   ]
  },
  {
   "cell_type": "code",
   "execution_count": 46,
   "metadata": {
    "collapsed": true
   },
   "outputs": [],
   "source": [
    "data_2006 = data_2006.drop(['COLE_NOMBRE_SEDE'], axis = 1)"
   ]
  },
  {
   "cell_type": "code",
   "execution_count": 47,
   "metadata": {
    "collapsed": false
   },
   "outputs": [
    {
     "name": "stdout",
     "output_type": "stream",
     "text": [
      "Index(['A', 'B', 'F'], dtype='object')\n",
      "A    39078\n",
      "B    12717\n",
      "F     9540\n",
      "Name: COLE_CALENDARIO, dtype: int64\n",
      "Elementos null/NaN 0\n",
      "__________________\n",
      "Elementos diferentes de null/NaN: 61335\n",
      "__________________\n",
      "(61335,)\n",
      "None\n"
     ]
    }
   ],
   "source": [
    "c = 'COLE_CALENDARIO'\n",
    "print(data_2006[c].value_counts().sort_index().index)\n",
    "print(data_2006[c].value_counts().sort_index())\n",
    "print(missing_data(data_2006[c]))"
   ]
  },
  {
   "cell_type": "code",
   "execution_count": 48,
   "metadata": {
    "collapsed": false
   },
   "outputs": [
    {
     "name": "stdout",
     "output_type": "stream",
     "text": [
      "Index(['F', 'M', 'X'], dtype='object')\n",
      "F     4289\n",
      "M     1107\n",
      "X    55939\n",
      "Name: COLE_GENERO, dtype: int64\n",
      "Elementos null/NaN 0\n",
      "__________________\n",
      "Elementos diferentes de null/NaN: 61335\n",
      "__________________\n",
      "(61335,)\n",
      "None\n"
     ]
    }
   ],
   "source": [
    "c = 'COLE_GENERO'\n",
    "print(data_2006[c].value_counts().sort_index().index)\n",
    "print(data_2006[c].value_counts().sort_index())\n",
    "print(missing_data(data_2006[c]))"
   ]
  },
  {
   "cell_type": "code",
   "execution_count": 49,
   "metadata": {
    "collapsed": false
   },
   "outputs": [
    {
     "name": "stdout",
     "output_type": "stream",
     "text": [
      "Index(['N', 'O'], dtype='object')\n",
      "N    25071\n",
      "O    36264\n",
      "Name: COLE_NATURALEZA, dtype: int64\n",
      "Elementos null/NaN 0\n",
      "__________________\n",
      "Elementos diferentes de null/NaN: 61335\n",
      "__________________\n",
      "(61335,)\n",
      "None\n"
     ]
    }
   ],
   "source": [
    "c = 'COLE_NATURALEZA'\n",
    "print(data_2006[c].value_counts().sort_index().index)\n",
    "print(data_2006[c].value_counts().sort_index())\n",
    "print(missing_data(data_2006[c]))"
   ]
  },
  {
   "cell_type": "code",
   "execution_count": 50,
   "metadata": {
    "collapsed": false
   },
   "outputs": [
    {
     "name": "stdout",
     "output_type": "stream",
     "text": [
      "Float64Index([0.0, 1.0], dtype='float64')\n",
      "0.0    55867\n",
      "1.0     4032\n",
      "Name: COLE_BILINGUE, dtype: int64\n",
      "Elementos null/NaN 1436\n",
      "__________________\n",
      "Elementos diferentes de null/NaN: 59899\n",
      "__________________\n",
      "(59899,)\n",
      "None\n"
     ]
    }
   ],
   "source": [
    "c = 'COLE_BILINGUE'\n",
    "print(data_2006[c].value_counts().sort_index().index)\n",
    "print(data_2006[c].value_counts().sort_index())\n",
    "print(missing_data(data_2006[c]))"
   ]
  },
  {
   "cell_type": "code",
   "execution_count": 51,
   "metadata": {
    "collapsed": false
   },
   "outputs": [
    {
     "name": "stdout",
     "output_type": "stream",
     "text": [
      "Index(['COMPLETA U ORDINARIA', 'MAÃANA', 'NOCHE', 'SABATINA - DOMINICAL',\n",
      "       'TARDE'],\n",
      "      dtype='object')\n",
      "COMPLETA U ORDINARIA     9572\n",
      "MAÃANA                 38309\n",
      "NOCHE                    4447\n",
      "SABATINA - DOMINICAL     1816\n",
      "TARDE                    7191\n",
      "Name: COLE_JORNADA, dtype: int64\n",
      "Elementos null/NaN 0\n",
      "__________________\n",
      "Elementos diferentes de null/NaN: 61335\n",
      "__________________\n",
      "(61335,)\n",
      "None\n"
     ]
    }
   ],
   "source": [
    "c = 'COLE_JORNADA'\n",
    "print(data_2006[c].value_counts().sort_index().index)\n",
    "print(data_2006[c].value_counts().sort_index())\n",
    "print(missing_data(data_2006[c]))"
   ]
  },
  {
   "cell_type": "code",
   "execution_count": 52,
   "metadata": {
    "collapsed": true
   },
   "outputs": [],
   "source": [
    "data_2006['COLE_JORNADA'] = data_2006['COLE_JORNADA'].replace('MAÃANA', 'MAÑANA')"
   ]
  },
  {
   "cell_type": "code",
   "execution_count": 53,
   "metadata": {
    "collapsed": false
   },
   "outputs": [
    {
     "name": "stdout",
     "output_type": "stream",
     "text": [
      "Index(['ACADEMICO', 'ACADEMICO Y TECNICO', 'NORMALISTA', 'TECNICO'], dtype='object')\n",
      "ACADEMICO              29847\n",
      "ACADEMICO Y TECNICO    11777\n",
      "NORMALISTA              1301\n",
      "TECNICO                18410\n",
      "Name: COLE_CARACTER, dtype: int64\n",
      "Elementos null/NaN 0\n",
      "__________________\n",
      "Elementos diferentes de null/NaN: 61335\n",
      "__________________\n",
      "(61335,)\n",
      "None\n"
     ]
    }
   ],
   "source": [
    "c = 'COLE_CARACTER'\n",
    "print(data_2006[c].value_counts().sort_index().index)\n",
    "print(data_2006[c].value_counts().sort_index())\n",
    "print(missing_data(data_2006[c]))"
   ]
  },
  {
   "cell_type": "code",
   "execution_count": 54,
   "metadata": {
    "collapsed": false,
    "scrolled": true
   },
   "outputs": [
    {
     "name": "stdout",
     "output_type": "stream",
     "text": [
      "Float64Index([ 1.0,  2.0,  3.0,  4.0,  5.0,  6.0,  7.0,  8.0,  9.0, 10.0, 11.0,\n",
      "              12.0, 13.0, 14.0, 15.0, 16.0, 99.0],\n",
      "             dtype='float64')\n",
      "1.0     2932\n",
      "2.0       21\n",
      "3.0      101\n",
      "4.0        3\n",
      "5.0        2\n",
      "6.0        5\n",
      "7.0        5\n",
      "8.0       13\n",
      "9.0       12\n",
      "10.0       3\n",
      "11.0     772\n",
      "12.0       2\n",
      "13.0      19\n",
      "14.0       1\n",
      "15.0       1\n",
      "16.0       4\n",
      "99.0    1541\n",
      "Name: ESTU_ETNIA, dtype: int64\n",
      "Elementos null/NaN 55898\n",
      "__________________\n",
      "Elementos diferentes de null/NaN: 5437\n",
      "__________________\n",
      "(5437,)\n",
      "None\n"
     ]
    }
   ],
   "source": [
    "c = 'ESTU_ETNIA'\n",
    "print(data_2006[c].value_counts().sort_index().index)\n",
    "print(data_2006[c].value_counts().sort_index())\n",
    "print(missing_data(data_2006[c]))"
   ]
  },
  {
   "cell_type": "code",
   "execution_count": 55,
   "metadata": {
    "collapsed": false
   },
   "outputs": [
    {
     "name": "stdout",
     "output_type": "stream",
     "text": [
      "Float64Index([0.0, 1.0], dtype='float64')\n",
      "0.0     1\n",
      "1.0    84\n",
      "Name: FAMI_LEE_ESCRIBE_PADRE, dtype: int64\n",
      "Elementos null/NaN 61250\n",
      "__________________\n",
      "Elementos diferentes de null/NaN: 85\n",
      "__________________\n",
      "(85,)\n",
      "None\n"
     ]
    }
   ],
   "source": [
    "c = 'FAMI_LEE_ESCRIBE_PADRE'\n",
    "print(data_2006[c].value_counts().sort_index().index)\n",
    "print(data_2006[c].value_counts().sort_index())\n",
    "print(missing_data(data_2006[c]))"
   ]
  },
  {
   "cell_type": "code",
   "execution_count": 56,
   "metadata": {
    "collapsed": false
   },
   "outputs": [
    {
     "name": "stdout",
     "output_type": "stream",
     "text": [
      "Float64Index([0.0, 1.0], dtype='float64')\n",
      "0.0     3\n",
      "1.0    82\n",
      "Name: FAMI_LEE_ESCRIBE_MADRE, dtype: int64\n",
      "Elementos null/NaN 61250\n",
      "__________________\n",
      "Elementos diferentes de null/NaN: 85\n",
      "__________________\n",
      "(85,)\n",
      "None\n"
     ]
    }
   ],
   "source": [
    "c = 'FAMI_LEE_ESCRIBE_MADRE'\n",
    "print(data_2006[c].value_counts().sort_index().index)\n",
    "print(data_2006[c].value_counts().sort_index())\n",
    "print(missing_data(data_2006[c]))"
   ]
  },
  {
   "cell_type": "code",
   "execution_count": 57,
   "metadata": {
    "collapsed": false,
    "scrolled": true
   },
   "outputs": [
    {
     "name": "stdout",
     "output_type": "stream",
     "text": [
      "Float64Index([ 0.0,  1.0,  2.0,  3.0,  4.0,  5.0,  6.0,  7.0,  8.0,  9.0, 10.0,\n",
      "              11.0, 12.0, 13.0, 14.0, 15.0, 16.0, 17.0, 99.0],\n",
      "             dtype='float64')\n",
      "0.0      80\n",
      "1.0       4\n",
      "2.0       9\n",
      "3.0      21\n",
      "4.0      32\n",
      "5.0       7\n",
      "6.0      12\n",
      "7.0       4\n",
      "8.0       3\n",
      "9.0     299\n",
      "10.0    218\n",
      "11.0    163\n",
      "12.0    270\n",
      "13.0     26\n",
      "14.0     82\n",
      "15.0     51\n",
      "16.0    448\n",
      "17.0    316\n",
      "99.0     14\n",
      "Name: FAMI_EDUCA_PADRE, dtype: int64\n",
      "Elementos null/NaN 59276\n",
      "__________________\n",
      "Elementos diferentes de null/NaN: 2059\n",
      "__________________\n",
      "(2059,)\n",
      "None\n"
     ]
    }
   ],
   "source": [
    "c = 'FAMI_EDUCA_PADRE'\n",
    "print(data_2006[c].value_counts().sort_index().index)\n",
    "print(data_2006[c].value_counts().sort_index())\n",
    "print(missing_data(data_2006[c]))"
   ]
  },
  {
   "cell_type": "code",
   "execution_count": 58,
   "metadata": {
    "collapsed": false,
    "scrolled": true
   },
   "outputs": [
    {
     "name": "stdout",
     "output_type": "stream",
     "text": [
      "Float64Index([ 0.0,  2.0,  3.0,  4.0,  5.0,  6.0,  7.0,  8.0,  9.0, 10.0, 11.0,\n",
      "              12.0, 13.0, 14.0, 15.0, 16.0, 17.0, 99.0],\n",
      "             dtype='float64')\n",
      "0.0      50\n",
      "2.0       9\n",
      "3.0      19\n",
      "4.0      37\n",
      "5.0       9\n",
      "6.0       7\n",
      "7.0      11\n",
      "8.0       1\n",
      "9.0     301\n",
      "10.0    223\n",
      "11.0    182\n",
      "12.0    302\n",
      "13.0     34\n",
      "14.0    108\n",
      "15.0     84\n",
      "16.0    453\n",
      "17.0    213\n",
      "99.0     17\n",
      "Name: FAMI_EDUCA_MADRE, dtype: int64\n",
      "Elementos null/NaN 59275\n",
      "__________________\n",
      "Elementos diferentes de null/NaN: 2060\n",
      "__________________\n",
      "(2060,)\n",
      "None\n"
     ]
    }
   ],
   "source": [
    "c = 'FAMI_EDUCA_MADRE'\n",
    "print(data_2006[c].value_counts().sort_index().index)\n",
    "print(data_2006[c].value_counts().sort_index())\n",
    "print(missing_data(data_2006[c]))"
   ]
  },
  {
   "cell_type": "code",
   "execution_count": 59,
   "metadata": {
    "collapsed": false,
    "scrolled": true
   },
   "outputs": [
    {
     "name": "stdout",
     "output_type": "stream",
     "text": [
      "Float64Index([ 1.0,  2.0,  3.0,  4.0,  5.0,  6.0,  7.0,  8.0,  9.0, 10.0, 11.0,\n",
      "              12.0, 13.0, 14.0, 15.0, 16.0, 17.0, 18.0, 19.0, 20.0, 21.0, 22.0,\n",
      "              23.0, 26.0, 99.0],\n",
      "             dtype='float64')\n",
      "1.0       1\n",
      "2.0       1\n",
      "3.0       5\n",
      "4.0       6\n",
      "5.0      15\n",
      "6.0      17\n",
      "7.0       5\n",
      "8.0      11\n",
      "9.0      13\n",
      "10.0      1\n",
      "11.0      2\n",
      "12.0     11\n",
      "13.0    207\n",
      "14.0    220\n",
      "15.0    143\n",
      "16.0     96\n",
      "17.0     91\n",
      "18.0     51\n",
      "19.0    195\n",
      "20.0    173\n",
      "21.0    374\n",
      "22.0     29\n",
      "23.0    166\n",
      "26.0    213\n",
      "99.0      7\n",
      "Name: FAMI_OCUPA_PADRE, dtype: int64\n",
      "Elementos null/NaN 59282\n",
      "__________________\n",
      "Elementos diferentes de null/NaN: 2053\n",
      "__________________\n",
      "(2053,)\n",
      "None\n"
     ]
    }
   ],
   "source": [
    "c = 'FAMI_OCUPA_PADRE'\n",
    "print(data_2006[c].value_counts().sort_index().index)\n",
    "print(data_2006[c].value_counts().sort_index())\n",
    "print(missing_data(data_2006[c]))"
   ]
  },
  {
   "cell_type": "code",
   "execution_count": 60,
   "metadata": {
    "collapsed": false,
    "scrolled": true
   },
   "outputs": [
    {
     "name": "stdout",
     "output_type": "stream",
     "text": [
      "Float64Index([ 2.0,  3.0,  4.0,  5.0,  6.0,  7.0,  8.0,  9.0, 10.0, 11.0, 12.0,\n",
      "              13.0, 14.0, 15.0, 16.0, 17.0, 18.0, 19.0, 20.0, 21.0, 22.0, 23.0,\n",
      "              26.0, 99.0],\n",
      "             dtype='float64')\n",
      "2.0       2\n",
      "3.0       1\n",
      "4.0      11\n",
      "5.0       6\n",
      "6.0       8\n",
      "7.0       3\n",
      "8.0       4\n",
      "9.0       3\n",
      "10.0     49\n",
      "11.0      1\n",
      "12.0      5\n",
      "13.0     78\n",
      "14.0    119\n",
      "15.0     86\n",
      "16.0    110\n",
      "17.0     96\n",
      "18.0     54\n",
      "19.0     98\n",
      "20.0    117\n",
      "21.0    207\n",
      "22.0    750\n",
      "23.0     95\n",
      "26.0    154\n",
      "99.0      1\n",
      "Name: FAMI_OCUPA_MADRE, dtype: int64\n",
      "Elementos null/NaN 59277\n",
      "__________________\n",
      "Elementos diferentes de null/NaN: 2058\n",
      "__________________\n",
      "(2058,)\n",
      "None\n"
     ]
    }
   ],
   "source": [
    "c = 'FAMI_OCUPA_MADRE'\n",
    "print(data_2006[c].value_counts().sort_index().index)\n",
    "print(data_2006[c].value_counts().sort_index())\n",
    "print(missing_data(data_2006[c]))"
   ]
  },
  {
   "cell_type": "code",
   "execution_count": 61,
   "metadata": {
    "collapsed": false
   },
   "outputs": [
    {
     "name": "stdout",
     "output_type": "stream",
     "text": [
      "Float64Index([0.0, 1.0, 2.0, 3.0, 4.0, 5.0, 6.0, 7.0, 8.0, 10.0], dtype='float64')\n",
      "0.0      7\n",
      "1.0     29\n",
      "2.0     23\n",
      "3.0     19\n",
      "4.0      6\n",
      "5.0      2\n",
      "6.0      1\n",
      "7.0      3\n",
      "8.0      1\n",
      "10.0     1\n",
      "Name: FAMI_NUM_HERMANOS, dtype: int64\n",
      "Elementos null/NaN 61243\n",
      "__________________\n",
      "Elementos diferentes de null/NaN: 92\n",
      "__________________\n",
      "(92,)\n",
      "None\n"
     ]
    }
   ],
   "source": [
    "c = 'FAMI_NUM_HERMANOS'\n",
    "print(data_2006[c].value_counts().sort_index().index)\n",
    "print(data_2006[c].value_counts().sort_index())\n",
    "print(missing_data(data_2006[c]))"
   ]
  },
  {
   "cell_type": "code",
   "execution_count": 62,
   "metadata": {
    "collapsed": false,
    "scrolled": true
   },
   "outputs": [
    {
     "name": "stdout",
     "output_type": "stream",
     "text": [
      "Float64Index([1.0, 2.0, 3.0, 4.0, 5.0, 6.0, 7.0, 8.0, 9.0, 88.0, 99.0], dtype='float64')\n",
      "1.0      6\n",
      "2.0      8\n",
      "3.0     15\n",
      "4.0     69\n",
      "5.0     10\n",
      "6.0     31\n",
      "7.0     21\n",
      "8.0     55\n",
      "9.0     19\n",
      "88.0    96\n",
      "99.0     9\n",
      "Name: FAMI_EDUCA_HERMANO, dtype: int64\n",
      "Elementos null/NaN 60996\n",
      "__________________\n",
      "Elementos diferentes de null/NaN: 339\n",
      "__________________\n",
      "(339,)\n",
      "None\n"
     ]
    }
   ],
   "source": [
    "c = 'FAMI_EDUCA_HERMANO'\n",
    "print(data_2006[c].value_counts().sort_index().index)\n",
    "print(data_2006[c].value_counts().sort_index())\n",
    "print(missing_data(data_2006[c]))"
   ]
  },
  {
   "cell_type": "code",
   "execution_count": 63,
   "metadata": {
    "collapsed": false
   },
   "outputs": [
    {
     "name": "stdout",
     "output_type": "stream",
     "text": [
      "Float64Index([1.0, 2.0, 88.0], dtype='float64')\n",
      "1.0     43\n",
      "2.0      4\n",
      "88.0    38\n",
      "Name: FAMI_HERMANOS_ESTUDIAN, dtype: int64\n",
      "Elementos null/NaN 61250\n",
      "__________________\n",
      "Elementos diferentes de null/NaN: 85\n",
      "__________________\n",
      "(85,)\n",
      "None\n"
     ]
    }
   ],
   "source": [
    "c = 'FAMI_HERMANOS_ESTUDIAN'\n",
    "print(data_2006[c].value_counts().sort_index().index)\n",
    "print(data_2006[c].value_counts().sort_index())\n",
    "print(missing_data(data_2006[c]))"
   ]
  },
  {
   "cell_type": "code",
   "execution_count": 64,
   "metadata": {
    "collapsed": false
   },
   "outputs": [
    {
     "name": "stdout",
     "output_type": "stream",
     "text": [
      "Float64Index([1.0, 2.0, 3.0, 4.0, 5.0, 6.0, 8.0], dtype='float64')\n",
      "1.0    359\n",
      "2.0    444\n",
      "3.0    369\n",
      "4.0    295\n",
      "5.0    272\n",
      "6.0    330\n",
      "8.0      3\n",
      "Name: FAMI_ESTRATO_VIVIENDA, dtype: int64\n",
      "Elementos null/NaN 59263\n",
      "__________________\n",
      "Elementos diferentes de null/NaN: 2072\n",
      "__________________\n",
      "(2072,)\n",
      "None\n"
     ]
    }
   ],
   "source": [
    "c = 'FAMI_ESTRATO_VIVIENDA'\n",
    "print(data_2006[c].value_counts().sort_index().index)\n",
    "print(data_2006[c].value_counts().sort_index())\n",
    "print(missing_data(data_2006[c]))"
   ]
  },
  {
   "cell_type": "code",
   "execution_count": 65,
   "metadata": {
    "collapsed": true
   },
   "outputs": [],
   "source": [
    "data_2006['FAMI_ESTRATO_VIVIENDA'] = data_2006['FAMI_ESTRATO_VIVIENDA'].replace(8.0, np.nan)"
   ]
  },
  {
   "cell_type": "code",
   "execution_count": 66,
   "metadata": {
    "collapsed": false
   },
   "outputs": [
    {
     "name": "stdout",
     "output_type": "stream",
     "text": [
      "Float64Index([1.0, 2.0, 3.0, 4.0, 5.0], dtype='float64')\n",
      "1.0     451\n",
      "2.0     257\n",
      "3.0      69\n",
      "4.0      24\n",
      "5.0    1191\n",
      "Name: FAMI_NIVEL_SISBEN, dtype: int64\n",
      "Elementos null/NaN 59343\n",
      "__________________\n",
      "Elementos diferentes de null/NaN: 1992\n",
      "__________________\n",
      "(1992,)\n",
      "None\n"
     ]
    }
   ],
   "source": [
    "c = 'FAMI_NIVEL_SISBEN'\n",
    "print(data_2006[c].value_counts().sort_index().index)\n",
    "print(data_2006[c].value_counts().sort_index())\n",
    "print(missing_data(data_2006[c]))"
   ]
  },
  {
   "cell_type": "code",
   "execution_count": 67,
   "metadata": {
    "collapsed": false
   },
   "outputs": [
    {
     "name": "stdout",
     "output_type": "stream",
     "text": [
      "Float64Index([1.0, 2.0, 3.0, 4.0, 5.0, 6.0, 7.0, 8.0, 9.0, 10.0, 11.0, 12.0], dtype='float64')\n",
      "1.0      68\n",
      "2.0     224\n",
      "3.0     440\n",
      "4.0     585\n",
      "5.0     367\n",
      "6.0     153\n",
      "7.0      68\n",
      "8.0      32\n",
      "9.0      12\n",
      "10.0     20\n",
      "11.0      7\n",
      "12.0     14\n",
      "Name: FAMI_PERSONAS_HOGAR, dtype: int64\n",
      "Elementos null/NaN 59345\n",
      "__________________\n",
      "Elementos diferentes de null/NaN: 1990\n",
      "__________________\n",
      "(1990,)\n",
      "None\n"
     ]
    }
   ],
   "source": [
    "c = 'FAMI_PERSONAS_HOGAR'\n",
    "print(data_2006[c].value_counts().sort_index().index)\n",
    "print(data_2006[c].value_counts().sort_index())\n",
    "print(missing_data(data_2006[c]))"
   ]
  },
  {
   "cell_type": "code",
   "execution_count": 68,
   "metadata": {
    "collapsed": false
   },
   "outputs": [
    {
     "name": "stdout",
     "output_type": "stream",
     "text": [
      "Float64Index([1.0, 2.0, 3.0, 4.0, 5.0], dtype='float64')\n",
      "1.0     41\n",
      "2.0    396\n",
      "3.0    115\n",
      "4.0    834\n",
      "5.0    606\n",
      "Name: FAMI_PISOSHOGAR, dtype: int64\n",
      "Elementos null/NaN 59343\n",
      "__________________\n",
      "Elementos diferentes de null/NaN: 1992\n",
      "__________________\n",
      "(1992,)\n",
      "None\n"
     ]
    }
   ],
   "source": [
    "c = 'FAMI_PISOSHOGAR'\n",
    "print(data_2006[c].value_counts().sort_index().index)\n",
    "print(data_2006[c].value_counts().sort_index())\n",
    "print(missing_data(data_2006[c]))"
   ]
  },
  {
   "cell_type": "code",
   "execution_count": 69,
   "metadata": {
    "collapsed": false
   },
   "outputs": [
    {
     "name": "stdout",
     "output_type": "stream",
     "text": [
      "Float64Index([1.0, 2.0, 3.0, 4.0, 5.0, 6.0, 7.0, 8.0, 9.0, 10.0], dtype='float64')\n",
      "1.0       9\n",
      "2.0      39\n",
      "3.0      96\n",
      "4.0     100\n",
      "5.0      76\n",
      "6.0      39\n",
      "7.0      27\n",
      "8.0      10\n",
      "9.0       2\n",
      "10.0      5\n",
      "Name: FAMI_CUARTOS_HOGAR, dtype: int64\n",
      "Elementos null/NaN 60932\n",
      "__________________\n",
      "Elementos diferentes de null/NaN: 403\n",
      "__________________\n",
      "(403,)\n",
      "None\n"
     ]
    }
   ],
   "source": [
    "c = 'FAMI_CUARTOS_HOGAR'\n",
    "print(data_2006[c].value_counts().sort_index().index)\n",
    "print(data_2006[c].value_counts().sort_index())\n",
    "print(missing_data(data_2006[c]))"
   ]
  },
  {
   "cell_type": "code",
   "execution_count": 70,
   "metadata": {
    "collapsed": false
   },
   "outputs": [
    {
     "name": "stdout",
     "output_type": "stream",
     "text": [
      "Float64Index([1.0, 2.0, 3.0, 4.0, 5.0, 6.0, 7.0, 8.0, 9.0, 10.0], dtype='float64')\n",
      "1.0     136\n",
      "2.0     518\n",
      "3.0     807\n",
      "4.0     367\n",
      "5.0     100\n",
      "6.0      24\n",
      "7.0      10\n",
      "8.0       3\n",
      "9.0       3\n",
      "10.0      3\n",
      "Name: FAMI_DORMITORIOS_HOGAR, dtype: int64\n",
      "Elementos null/NaN 59364\n",
      "__________________\n",
      "Elementos diferentes de null/NaN: 1971\n",
      "__________________\n",
      "(1971,)\n",
      "None\n"
     ]
    }
   ],
   "source": [
    "c = 'FAMI_DORMITORIOS_HOGAR'\n",
    "print(data_2006[c].value_counts().sort_index().index)\n",
    "print(data_2006[c].value_counts().sort_index())\n",
    "print(missing_data(data_2006[c]))"
   ]
  },
  {
   "cell_type": "code",
   "execution_count": 71,
   "metadata": {
    "collapsed": false
   },
   "outputs": [
    {
     "name": "stdout",
     "output_type": "stream",
     "text": [
      "Float64Index([0.0, 1.0, 3.0, 4.0], dtype='float64')\n",
      "0.0     422\n",
      "1.0      16\n",
      "3.0    1551\n",
      "4.0       3\n",
      "Name: FAMI_COMPUTADOR, dtype: int64\n",
      "Elementos null/NaN 59343\n",
      "__________________\n",
      "Elementos diferentes de null/NaN: 1992\n",
      "__________________\n",
      "(1992,)\n",
      "None\n"
     ]
    }
   ],
   "source": [
    "c = 'FAMI_COMPUTADOR'\n",
    "print(data_2006[c].value_counts().sort_index().index)\n",
    "print(data_2006[c].value_counts().sort_index())\n",
    "print(missing_data(data_2006[c]))"
   ]
  },
  {
   "cell_type": "code",
   "execution_count": 72,
   "metadata": {
    "collapsed": false
   },
   "outputs": [
    {
     "name": "stdout",
     "output_type": "stream",
     "text": [
      "Float64Index([1.0, 2.0, 3.0, 4.0, 5.0, 6.0, 7.0], dtype='float64')\n",
      "1.0    253\n",
      "2.0    572\n",
      "3.0    303\n",
      "4.0    225\n",
      "5.0    148\n",
      "6.0    144\n",
      "7.0    347\n",
      "Name: FAMI_INGRESO_FMILIAR_MENSUAL, dtype: int64\n",
      "Elementos null/NaN 59343\n",
      "__________________\n",
      "Elementos diferentes de null/NaN: 1992\n",
      "__________________\n",
      "(1992,)\n",
      "None\n"
     ]
    }
   ],
   "source": [
    "c = 'FAMI_INGRESO_FMILIAR_MENSUAL'\n",
    "print(data_2006[c].value_counts().sort_index().index)\n",
    "print(data_2006[c].value_counts().sort_index())\n",
    "print(missing_data(data_2006[c]))"
   ]
  },
  {
   "cell_type": "code",
   "execution_count": 73,
   "metadata": {
    "collapsed": false
   },
   "outputs": [
    {
     "name": "stdout",
     "output_type": "stream",
     "text": [
      "Float64Index([0.0, 1.0, 2.0, 3.0, 4.0, 5.0, 6.0, 7.0], dtype='float64')\n",
      "0.0    993\n",
      "1.0     17\n",
      "2.0      3\n",
      "3.0    316\n",
      "4.0    159\n",
      "5.0    304\n",
      "6.0      4\n",
      "7.0      3\n",
      "Name: ESTU_TRABAJA, dtype: int64\n",
      "Elementos null/NaN 59536\n",
      "__________________\n",
      "Elementos diferentes de null/NaN: 1799\n",
      "__________________\n",
      "(1799,)\n",
      "None\n"
     ]
    }
   ],
   "source": [
    "c = 'ESTU_TRABAJA'\n",
    "print(data_2006[c].value_counts().sort_index().index)\n",
    "print(data_2006[c].value_counts().sort_index())\n",
    "print(missing_data(data_2006[c]))"
   ]
  },
  {
   "cell_type": "code",
   "execution_count": 74,
   "metadata": {
    "collapsed": false,
    "scrolled": true
   },
   "outputs": [
    {
     "name": "stdout",
     "output_type": "stream",
     "text": [
      "Float64Index([ 0.0,  1.0,  2.0,  3.0,  4.0,  5.0,  6.0,  7.0,  8.0,  9.0, 10.0,\n",
      "              11.0, 12.0, 13.0, 14.0, 15.0, 16.0, 17.0, 18.0, 19.0, 20.0],\n",
      "             dtype='float64')\n",
      "0.0       1\n",
      "1.0       1\n",
      "2.0       3\n",
      "3.0       6\n",
      "4.0      22\n",
      "5.0      18\n",
      "6.0      19\n",
      "7.0       4\n",
      "8.0      63\n",
      "9.0       8\n",
      "10.0     39\n",
      "11.0      3\n",
      "12.0     14\n",
      "13.0      2\n",
      "14.0      8\n",
      "15.0     11\n",
      "16.0     13\n",
      "17.0      2\n",
      "18.0     22\n",
      "19.0     10\n",
      "20.0    514\n",
      "Name: ESTU_HORAS_TRABAJA, dtype: int64\n",
      "Elementos null/NaN 60552\n",
      "__________________\n",
      "Elementos diferentes de null/NaN: 783\n",
      "__________________\n",
      "(783,)\n",
      "None\n"
     ]
    }
   ],
   "source": [
    "c = 'ESTU_HORAS_TRABAJA'\n",
    "print(data_2006[c].value_counts().sort_index().index)\n",
    "print(data_2006[c].value_counts().sort_index())\n",
    "print(missing_data(data_2006[c]))"
   ]
  },
  {
   "cell_type": "code",
   "execution_count": 75,
   "metadata": {
    "collapsed": false
   },
   "outputs": [
    {
     "name": "stdout",
     "output_type": "stream",
     "text": [
      "Float64Index([0.0, 1.0, 2.0, 3.0, 4.0, 5.0, 6.0, 7.0, 8.0, 11.0], dtype='float64')\n",
      "0.0     30110\n",
      "1.0      9177\n",
      "2.0      4981\n",
      "3.0      3684\n",
      "4.0      2970\n",
      "5.0      2970\n",
      "6.0      2511\n",
      "7.0      4901\n",
      "8.0        10\n",
      "11.0        1\n",
      "Name: COLE_VALOR_PENSION, dtype: int64\n",
      "Elementos null/NaN 20\n",
      "__________________\n",
      "Elementos diferentes de null/NaN: 61315\n",
      "__________________\n",
      "(61315,)\n",
      "None\n"
     ]
    }
   ],
   "source": [
    "c = 'COLE_VALOR_PENSION'\n",
    "print(data_2006[c].value_counts().sort_index().index)\n",
    "print(data_2006[c].value_counts().sort_index())\n",
    "print(missing_data(data_2006[c]))"
   ]
  },
  {
   "cell_type": "code",
   "execution_count": 76,
   "metadata": {
    "collapsed": false
   },
   "outputs": [
    {
     "name": "stdout",
     "output_type": "stream",
     "text": [
      "Float64Index([1.0, 2.0, 3.0], dtype='float64')\n",
      "1.0    1\n",
      "2.0    2\n",
      "3.0    1\n",
      "Name: ESTU_CARRDESEADA_TIPO, dtype: int64\n",
      "Elementos null/NaN 61331\n",
      "__________________\n",
      "Elementos diferentes de null/NaN: 4\n",
      "__________________\n",
      "(4,)\n",
      "None\n"
     ]
    }
   ],
   "source": [
    "c = 'ESTU_CARRDESEADA_TIPO'\n",
    "print(data_2006[c].value_counts().sort_index().index)\n",
    "print(data_2006[c].value_counts().sort_index())\n",
    "print(missing_data(data_2006[c]))"
   ]
  },
  {
   "cell_type": "code",
   "execution_count": 77,
   "metadata": {
    "collapsed": false
   },
   "outputs": [
    {
     "name": "stdout",
     "output_type": "stream",
     "text": [
      "Float64Index([18.0, 23.0, 45.0, 58.0], dtype='float64')\n",
      "18.0    1\n",
      "23.0    1\n",
      "45.0    1\n",
      "58.0    1\n",
      "Name: ESTU_CARRDESEADA_NUCLEO, dtype: int64\n",
      "Elementos null/NaN 61331\n",
      "__________________\n",
      "Elementos diferentes de null/NaN: 4\n",
      "__________________\n",
      "(4,)\n",
      "None\n"
     ]
    }
   ],
   "source": [
    "c = 'ESTU_CARRDESEADA_NUCLEO'\n",
    "print(data_2006[c].value_counts().sort_index().index)\n",
    "print(data_2006[c].value_counts().sort_index())\n",
    "print(missing_data(data_2006[c]))"
   ]
  },
  {
   "cell_type": "code",
   "execution_count": 78,
   "metadata": {
    "collapsed": false,
    "scrolled": true
   },
   "outputs": [
    {
     "name": "stdout",
     "output_type": "stream",
     "text": [
      "Float64Index([1101.0, 1102.0, 1103.0, 1104.0, 1105.0, 1106.0, 1107.0, 1108.0,\n",
      "              1109.0, 1110.0,\n",
      "              ...\n",
      "              9103.0, 9104.0, 9105.0, 9107.0, 9110.0, 9111.0, 9112.0, 9113.0,\n",
      "              9114.0, 9115.0],\n",
      "             dtype='float64', length=298)\n",
      "1101.0     1523\n",
      "1102.0      101\n",
      "1103.0       93\n",
      "1104.0      429\n",
      "1105.0       59\n",
      "1106.0       57\n",
      "1107.0        7\n",
      "1108.0       14\n",
      "1109.0        1\n",
      "1110.0     1083\n",
      "1111.0      375\n",
      "1112.0      180\n",
      "1113.0       38\n",
      "1114.0       47\n",
      "1115.0        4\n",
      "1117.0       30\n",
      "1118.0        1\n",
      "1119.0       21\n",
      "1120.0        3\n",
      "1121.0        7\n",
      "1122.0      109\n",
      "1123.0        2\n",
      "1124.0        2\n",
      "1125.0        1\n",
      "1201.0      499\n",
      "1202.0       15\n",
      "1203.0    14762\n",
      "1204.0       70\n",
      "1205.0       27\n",
      "1206.0     4827\n",
      "          ...  \n",
      "4812.0        8\n",
      "4813.0       16\n",
      "4814.0       30\n",
      "4817.0       12\n",
      "4818.0        6\n",
      "4822.0        5\n",
      "4823.0        5\n",
      "4825.0        6\n",
      "4826.0        6\n",
      "4827.0        3\n",
      "4828.0       24\n",
      "4829.0        3\n",
      "4832.0        3\n",
      "4835.0       11\n",
      "4837.0        2\n",
      "4838.0        9\n",
      "5801.0        2\n",
      "5802.0       10\n",
      "9101.0      117\n",
      "9102.0       15\n",
      "9103.0      187\n",
      "9104.0      141\n",
      "9105.0       39\n",
      "9107.0        8\n",
      "9110.0      162\n",
      "9111.0      603\n",
      "9112.0       32\n",
      "9113.0        1\n",
      "9114.0       18\n",
      "9115.0      117\n",
      "Name: ESTU_IES_COD_DESEADA, dtype: int64\n",
      "Elementos null/NaN 25117\n",
      "__________________\n",
      "Elementos diferentes de null/NaN: 36218\n",
      "__________________\n",
      "(36218,)\n",
      "None\n"
     ]
    }
   ],
   "source": [
    "c = 'ESTU_IES_COD_DESEADA'\n",
    "print(data_2006[c].value_counts().sort_index().index)\n",
    "print(data_2006[c].value_counts().sort_index())\n",
    "print(missing_data(data_2006[c]))"
   ]
  },
  {
   "cell_type": "code",
   "execution_count": 79,
   "metadata": {
    "collapsed": false,
    "scrolled": true
   },
   "outputs": [
    {
     "name": "stdout",
     "output_type": "stream",
     "text": [
      "Index(['AGUACHICA', 'ANDES', 'ARAUCA', 'ARMENIA', 'BARRANCABERMEJA',\n",
      "       'BARRANQUILLA', 'BELLO', 'BOGOTÃ D.C.', 'BUCARAMANGA', 'BUENAVENTURA',\n",
      "       'BUGA', 'CALDAS', 'CALI', 'CARMEN DE VIBORAL', 'CARTAGENA', 'CARTAGO',\n",
      "       'CAUCASIA', 'CHIA', 'CHIQUINQUIRA', 'CUCUTA', 'DUITAMA', 'ENVIGADO',\n",
      "       'FACATATIVA', 'FLORENCIA', 'FUSAGASUGA', 'GIRARDOT', 'HONDA', 'IBAGUE',\n",
      "       'LETICIA', 'MADRID', 'MANIZALES', 'MEDELLIN', 'MOCOA', 'MONTERIA',\n",
      "       'MOSQUERA', 'NEIVA', 'NILO', 'OCAÃA', 'PALMIRA', 'PAMPLONA', 'PASTO',\n",
      "       'PENSILVANIA', 'PEREIRA', 'POPAYAN', 'PUERTO BERRIO', 'QUIBDO',\n",
      "       'RIOHACHA', 'RIONEGRO', 'ROLDANILLO', 'SABANETA', 'SAN ANDRES',\n",
      "       'SAN GIL', 'SAN JUAN DEL CESAR', 'SANTA MARTA', 'SANTA ROSA DE CABAL',\n",
      "       'SANTA ROSA DE OSOS', 'SANTAFÃ DE ANTIOQUIA', 'SEVILLA', 'SINCELEJO',\n",
      "       'SOCORRO', 'SOGAMOSO', 'SOLEDAD', 'TOLU', 'TULUA', 'TUNJA', 'TURBO',\n",
      "       'UBATE', 'VALLEDUPAR', 'VILLAVICENCIO', 'YOPAL'],\n",
      "      dtype='object')\n",
      "AGUACHICA                    2\n",
      "ANDES                        2\n",
      "ARAUCA                       2\n",
      "ARMENIA                    265\n",
      "BARRANCABERMEJA              4\n",
      "BARRANQUILLA               243\n",
      "BELLO                        3\n",
      "BOGOTÃ D.C.              5977\n",
      "BUCARAMANGA                147\n",
      "BUENAVENTURA               109\n",
      "BUGA                       146\n",
      "CALDAS                       5\n",
      "CALI                     18886\n",
      "CARMEN DE VIBORAL            7\n",
      "CARTAGENA                  113\n",
      "CARTAGO                     47\n",
      "CAUCASIA                     1\n",
      "CHIA                       105\n",
      "CHIQUINQUIRA                 1\n",
      "CUCUTA                      41\n",
      "DUITAMA                      7\n",
      "ENVIGADO                     2\n",
      "FACATATIVA                   2\n",
      "FLORENCIA                    4\n",
      "FUSAGASUGA                   9\n",
      "GIRARDOT                     8\n",
      "HONDA                        4\n",
      "IBAGUE                      47\n",
      "LETICIA                      1\n",
      "MADRID                      15\n",
      "                         ...  \n",
      "PASTO                     5173\n",
      "PENSILVANIA                 22\n",
      "PEREIRA                    521\n",
      "POPAYAN                   1141\n",
      "PUERTO BERRIO                3\n",
      "QUIBDO                       1\n",
      "RIOHACHA                     1\n",
      "RIONEGRO                    30\n",
      "ROLDANILLO                  25\n",
      "SABANETA                     2\n",
      "SAN ANDRES                   1\n",
      "SAN GIL                      1\n",
      "SAN JUAN DEL CESAR           1\n",
      "SANTA MARTA                 11\n",
      "SANTA ROSA DE CABAL          8\n",
      "SANTA ROSA DE OSOS          22\n",
      "SANTAFÃ DE ANTIOQUIA        3\n",
      "SEVILLA                      4\n",
      "SINCELEJO                    5\n",
      "SOCORRO                      2\n",
      "SOGAMOSO                    14\n",
      "SOLEDAD                      2\n",
      "TOLU                         6\n",
      "TULUA                      704\n",
      "TUNJA                       72\n",
      "TURBO                        3\n",
      "UBATE                        8\n",
      "VALLEDUPAR                   3\n",
      "VILLAVICENCIO               21\n",
      "YOPAL                        7\n",
      "Name: ESTU_IES_MPIO_DESEADA, dtype: int64\n",
      "Elementos null/NaN 25117\n",
      "__________________\n",
      "Elementos diferentes de null/NaN: 36218\n",
      "__________________\n",
      "(36218,)\n",
      "None\n"
     ]
    }
   ],
   "source": [
    "c = 'ESTU_IES_MPIO_DESEADA'\n",
    "print(data_2006[c].value_counts().sort_index().index)\n",
    "print(data_2006[c].value_counts().sort_index())\n",
    "print(missing_data(data_2006[c]))"
   ]
  },
  {
   "cell_type": "code",
   "execution_count": 80,
   "metadata": {
    "collapsed": true
   },
   "outputs": [],
   "source": [
    "data_2006['ESTU_IES_MPIO_DESEADA'] = data_2006['ESTU_IES_MPIO_DESEADA'].replace('BOGOTÃ D.C.', 'BOGOTA')\n",
    "data_2006['ESTU_IES_MPIO_DESEADA'] = data_2006['ESTU_IES_MPIO_DESEADA'].replace('OCAÃA', 'OCAÑA')\n",
    "data_2006['ESTU_IES_MPIO_DESEADA'] = data_2006['ESTU_IES_MPIO_DESEADA'].replace('SANTAFÃ DE ANTIOQUIA', 'SANTAFE DE ANTIOQUIA')"
   ]
  },
  {
   "cell_type": "code",
   "execution_count": 81,
   "metadata": {
    "collapsed": false,
    "scrolled": true
   },
   "outputs": [
    {
     "name": "stdout",
     "output_type": "stream",
     "text": [
      "Index(['AMAZONAS', 'ANTIOQUIA', 'ARAUCA', 'ATLÃNTICO', 'BOGOTÃ', 'BOLÃVAR',\n",
      "       'BOYACÃ', 'CALDAS', 'CAQUETÃ', 'CASANARE', 'CAUCA', 'CESAR', 'CHOCÃ',\n",
      "       'CUNDINAMARCA', 'CÃRDOBA', 'HUILA', 'LA GUAJIRA', 'MAGDALENA', 'META',\n",
      "       'NARIÃO', 'NORTE SANTANDER', 'PUTUMAYO', 'QUINDÃO', 'RISARALDA',\n",
      "       'SAN ANDRÃS', 'SANTANDER', 'SUCRE', 'TOLIMA', 'VALLE'],\n",
      "      dtype='object')\n",
      "AMAZONAS               1\n",
      "ANTIOQUIA           1185\n",
      "ARAUCA                 2\n",
      "ATLÃNTICO           245\n",
      "BOGOTÃ             5977\n",
      "BOLÃVAR             113\n",
      "BOYACÃ               94\n",
      "CALDAS               477\n",
      "CAQUETÃ               4\n",
      "CASANARE               7\n",
      "CAUCA               1141\n",
      "CESAR                  5\n",
      "CHOCÃ                 1\n",
      "CUNDINAMARCA         227\n",
      "CÃRDOBA              42\n",
      "HUILA                 64\n",
      "LA GUAJIRA             2\n",
      "MAGDALENA             11\n",
      "META                  21\n",
      "NARIÃO             5173\n",
      "NORTE SANTANDER       57\n",
      "PUTUMAYO               1\n",
      "QUINDÃO             265\n",
      "RISARALDA            529\n",
      "SAN ANDRÃS            1\n",
      "SANTANDER            154\n",
      "SUCRE                 11\n",
      "TOLIMA                51\n",
      "VALLE              20357\n",
      "Name: ESTU_IES_DEPT_DESEADA, dtype: int64\n",
      "Elementos null/NaN 25117\n",
      "__________________\n",
      "Elementos diferentes de null/NaN: 36218\n",
      "__________________\n",
      "(36218,)\n",
      "None\n"
     ]
    }
   ],
   "source": [
    "c = 'ESTU_IES_DEPT_DESEADA'\n",
    "print(data_2006[c].value_counts().sort_index().index)\n",
    "print(data_2006[c].value_counts().sort_index())\n",
    "print(missing_data(data_2006[c]))"
   ]
  },
  {
   "cell_type": "code",
   "execution_count": 82,
   "metadata": {
    "collapsed": true
   },
   "outputs": [],
   "source": [
    "data_2006['ESTU_IES_DEPT_DESEADA'] = data_2006['ESTU_IES_DEPT_DESEADA'].replace('ATLÃNTICO', 'ATLANTICO')\n",
    "data_2006['ESTU_IES_DEPT_DESEADA'] = data_2006['ESTU_IES_DEPT_DESEADA'].replace('BOGOTÃ D.C.', 'BOGOTA')\n",
    "data_2006['ESTU_IES_DEPT_DESEADA'] = data_2006['ESTU_IES_DEPT_DESEADA'].replace('BOLÃVAR', 'BOLIVAR')\n",
    "data_2006['ESTU_IES_DEPT_DESEADA'] = data_2006['ESTU_IES_DEPT_DESEADA'].replace('BOYACÃ', 'BOYACA')\n",
    "data_2006['ESTU_IES_DEPT_DESEADA'] = data_2006['ESTU_IES_DEPT_DESEADA'].replace('CAQUETÃ', 'CAQUETA')\n",
    "data_2006['ESTU_IES_DEPT_DESEADA'] = data_2006['ESTU_IES_DEPT_DESEADA'].replace('CHOCÃ', 'CHOCO')\n",
    "data_2006['ESTU_IES_DEPT_DESEADA'] = data_2006['ESTU_IES_DEPT_DESEADA'].replace('CÃRDOBA', 'CORDOBA')\n",
    "data_2006['ESTU_IES_DEPT_DESEADA'] = data_2006['ESTU_IES_DEPT_DESEADA'].replace('NARIÃO', 'NARIÑO')\n",
    "data_2006['ESTU_IES_DEPT_DESEADA'] = data_2006['ESTU_IES_DEPT_DESEADA'].replace('QUINDÃO', 'QUINDIO')\n",
    "data_2006['ESTU_IES_DEPT_DESEADA'] = data_2006['ESTU_IES_DEPT_DESEADA'].replace('SAN ANDRÃS', 'SAN ANDRES')"
   ]
  },
  {
   "cell_type": "code",
   "execution_count": 83,
   "metadata": {
    "collapsed": false
   },
   "outputs": [
    {
     "name": "stdout",
     "output_type": "stream",
     "text": [
      "Float64Index([1.0, 2.0, 3.0, 4.0, 5.0, 6.0, 7.0, 8.0], dtype='float64')\n",
      "1.0     1316\n",
      "2.0     6976\n",
      "3.0    22987\n",
      "4.0     4766\n",
      "5.0     3449\n",
      "6.0     2146\n",
      "7.0     2556\n",
      "8.0     2575\n",
      "Name: ESTU_RAZONINSTITUTO, dtype: int64\n",
      "Elementos null/NaN 14564\n",
      "__________________\n",
      "Elementos diferentes de null/NaN: 46771\n",
      "__________________\n",
      "(46771,)\n",
      "None\n"
     ]
    }
   ],
   "source": [
    "c = 'ESTU_RAZONINSTITUTO'\n",
    "print(data_2006[c].value_counts().sort_index().index)\n",
    "print(data_2006[c].value_counts().sort_index())\n",
    "print(missing_data(data_2006[c]))"
   ]
  },
  {
   "cell_type": "code",
   "execution_count": 84,
   "metadata": {
    "collapsed": false,
    "scrolled": true
   },
   "outputs": [
    {
     "name": "stdout",
     "output_type": "stream",
     "text": [
      "Float64Index([    5.0,    23.0,    36.0,    63.0,    68.0,    87.0,   102.0,\n",
      "                103.0,   105.0,   107.0,\n",
      "              ...\n",
      "              21807.0, 21809.0, 21810.0, 21889.0, 22046.0, 22050.0, 22581.0,\n",
      "              22967.0, 24642.0, 24643.0],\n",
      "             dtype='float64', length=2387)\n",
      "5.0          7\n",
      "23.0         1\n",
      "36.0         1\n",
      "63.0         1\n",
      "68.0        13\n",
      "87.0         1\n",
      "102.0        3\n",
      "103.0        2\n",
      "105.0        7\n",
      "107.0        1\n",
      "108.0        1\n",
      "109.0        7\n",
      "111.0        1\n",
      "116.0       55\n",
      "117.0        2\n",
      "119.0        1\n",
      "120.0        1\n",
      "125.0        1\n",
      "128.0        3\n",
      "129.0        9\n",
      "130.0        3\n",
      "131.0        7\n",
      "133.0        1\n",
      "142.0        2\n",
      "151.0        3\n",
      "152.0       16\n",
      "160.0        2\n",
      "165.0        1\n",
      "168.0        1\n",
      "169.0        1\n",
      "          ... \n",
      "20142.0      1\n",
      "20143.0    939\n",
      "20144.0     12\n",
      "20146.0    110\n",
      "20177.0     10\n",
      "20184.0      2\n",
      "20228.0      2\n",
      "20233.0      2\n",
      "20247.0      1\n",
      "20257.0      8\n",
      "20266.0      1\n",
      "20267.0      5\n",
      "20277.0      2\n",
      "20282.0      2\n",
      "21463.0     22\n",
      "21480.0      1\n",
      "21577.0      1\n",
      "21794.0      1\n",
      "21805.0      1\n",
      "21806.0      1\n",
      "21807.0      1\n",
      "21809.0      2\n",
      "21810.0      1\n",
      "21889.0      1\n",
      "22046.0      1\n",
      "22050.0      1\n",
      "22581.0      1\n",
      "22967.0      1\n",
      "24642.0      1\n",
      "24643.0      1\n",
      "Name: ESTU_CARRDESEADA_COD, dtype: int64\n",
      "Elementos null/NaN 26101\n",
      "__________________\n",
      "Elementos diferentes de null/NaN: 35234\n",
      "__________________\n",
      "(35234,)\n",
      "None\n"
     ]
    }
   ],
   "source": [
    "c = 'ESTU_CARRDESEADA_COD'\n",
    "print(data_2006[c].value_counts().sort_index().index)\n",
    "print(data_2006[c].value_counts().sort_index())\n",
    "print(missing_data(data_2006[c]))"
   ]
  },
  {
   "cell_type": "code",
   "execution_count": 85,
   "metadata": {
    "collapsed": false
   },
   "outputs": [
    {
     "name": "stdout",
     "output_type": "stream",
     "text": [
      "Float64Index([1.0, 2.0, 3.0, 4.0, 5.0, 6.0], dtype='float64')\n",
      "1.0    14658\n",
      "2.0    16006\n",
      "3.0     7605\n",
      "4.0     4331\n",
      "5.0     3207\n",
      "6.0     1125\n",
      "Name: ESTU_CARRDESEADA_RAZON, dtype: int64\n",
      "Elementos null/NaN 14403\n",
      "__________________\n",
      "Elementos diferentes de null/NaN: 46932\n",
      "__________________\n",
      "(46932,)\n",
      "None\n"
     ]
    }
   ],
   "source": [
    "c = 'ESTU_CARRDESEADA_RAZON'\n",
    "print(data_2006[c].value_counts().sort_index().index)\n",
    "print(data_2006[c].value_counts().sort_index())\n",
    "print(missing_data(data_2006[c]))"
   ]
  },
  {
   "cell_type": "markdown",
   "metadata": {},
   "source": [
    "### TARGETS"
   ]
  },
  {
   "cell_type": "code",
   "execution_count": 86,
   "metadata": {
    "collapsed": false,
    "scrolled": true
   },
   "outputs": [
    {
     "name": "stdout",
     "output_type": "stream",
     "text": [
      "Index(['0', '17,3', '25,35', '30,45', '34,35', '37,61', '40,49', '43,11',\n",
      "       '45,57', '47,92', '50,2', '52,45', '54,69', '56,97', '59,31', '61,76',\n",
      "       '64,37', '67,23', '70,47', '74,34', '79,39', '87,38'],\n",
      "      dtype='object')\n",
      "0           5\n",
      "17,3       70\n",
      "25,35     373\n",
      "30,45     995\n",
      "34,35    2215\n",
      "37,61    3844\n",
      "40,49    5458\n",
      "43,11    6703\n",
      "45,57    7360\n",
      "47,92    7450\n",
      "50,2     6814\n",
      "52,45    5907\n",
      "54,69    4614\n",
      "56,97    3495\n",
      "59,31    2480\n",
      "61,76    1534\n",
      "64,37    1007\n",
      "67,23     563\n",
      "70,47     278\n",
      "74,34     103\n",
      "79,39      55\n",
      "87,38      12\n",
      "Name: PUNT_LENGUAJE, dtype: int64\n",
      "Elementos null/NaN 0\n",
      "__________________\n",
      "Elementos diferentes de null/NaN: 61335\n",
      "__________________\n",
      "(61335,)\n",
      "None\n"
     ]
    }
   ],
   "source": [
    "c = 'PUNT_LENGUAJE'\n",
    "print(data_2006[c].value_counts().sort_index().index)\n",
    "print(data_2006[c].value_counts().sort_index())\n",
    "print(missing_data(data_2006[c]))"
   ]
  },
  {
   "cell_type": "code",
   "execution_count": 87,
   "metadata": {
    "collapsed": false
   },
   "outputs": [],
   "source": [
    "c = 'PUNT_LENGUAJE'\n",
    "for i in data_2006[c].value_counts().sort_index().index:\n",
    "    if ',' in i:\n",
    "        data_2006[c] = data_2006[c].replace(i, i.replace(',', '.'))\n",
    "\n",
    "for i in data_2006[c].value_counts().sort_index().index:\n",
    "    if type(i) == str:\n",
    "        data_2006[c] = data_2006[c].replace(i, float(i))"
   ]
  },
  {
   "cell_type": "code",
   "execution_count": 88,
   "metadata": {
    "collapsed": false,
    "scrolled": true
   },
   "outputs": [
    {
     "name": "stdout",
     "output_type": "stream",
     "text": [
      "Index(['0', '102,25', '107,84', '18,97', '28,53', '34,47', '38,94', '42,62',\n",
      "       '45,81', '48,68', '51,32', '53,81', '56,19', '58,51', '60,8', '63,08',\n",
      "       '65,39', '67,77', '70,24', '72,86', '75,7', '78,85', '82,49', '86,9',\n",
      "       '92,78'],\n",
      "      dtype='object')\n",
      "0           28\n",
      "102,25      80\n",
      "107,84      21\n",
      "18,97      189\n",
      "28,53      721\n",
      "34,47     2014\n",
      "38,94     4087\n",
      "42,62     6508\n",
      "45,81     8189\n",
      "48,68     8557\n",
      "51,32     8068\n",
      "53,81     6444\n",
      "56,19     4817\n",
      "58,51     3271\n",
      "60,8      2404\n",
      "63,08     1622\n",
      "65,39     1079\n",
      "67,77      863\n",
      "70,24      615\n",
      "72,86      527\n",
      "75,7       413\n",
      "78,85      286\n",
      "82,49      238\n",
      "86,9       180\n",
      "92,78      114\n",
      "Name: PUNT_MATEMATICAS, dtype: int64\n",
      "Elementos null/NaN 0\n",
      "__________________\n",
      "Elementos diferentes de null/NaN: 61335\n",
      "__________________\n",
      "(61335,)\n",
      "None\n"
     ]
    }
   ],
   "source": [
    "c = 'PUNT_MATEMATICAS'\n",
    "print(data_2006[c].value_counts().sort_index().index)\n",
    "print(data_2006[c].value_counts().sort_index())\n",
    "print(missing_data(data_2006[c]))"
   ]
  },
  {
   "cell_type": "code",
   "execution_count": 89,
   "metadata": {
    "collapsed": false
   },
   "outputs": [],
   "source": [
    "c = 'PUNT_MATEMATICAS'\n",
    "for i in data_2006[c].value_counts().sort_index().index:\n",
    "    if ',' in i:\n",
    "        data_2006[c] = data_2006[c].replace(i, i.replace(',', '.'))\n",
    "\n",
    "for i in data_2006[c].value_counts().sort_index().index:\n",
    "    if type(i) == str:\n",
    "        data_2006[c] = data_2006[c].replace(i, float(i))"
   ]
  },
  {
   "cell_type": "code",
   "execution_count": 90,
   "metadata": {
    "collapsed": false,
    "scrolled": true
   },
   "outputs": [
    {
     "name": "stdout",
     "output_type": "stream",
     "text": [
      "Index(['0', '21,2', '26,95', '30,5', '33,14', '35,3', '37,17', '38,83',\n",
      "       '40,35', '41,77', '43,12', '44,41', '45,67', '46,91', '48,14', '49,37',\n",
      "       '50,62', '51,89', '53,2', '54,56', '56,01', '57,55', '59,24', '61,14',\n",
      "       '63,33'],\n",
      "      dtype='object')\n",
      "0           8\n",
      "21,2       36\n",
      "26,95     199\n",
      "30,5      574\n",
      "33,14    1189\n",
      "35,3     2269\n",
      "37,17    3530\n",
      "38,83    4794\n",
      "40,35    5801\n",
      "41,77    6198\n",
      "43,12    6392\n",
      "44,41    6153\n",
      "45,67    5701\n",
      "46,91    4854\n",
      "48,14    3936\n",
      "49,37    3141\n",
      "50,62    2408\n",
      "51,89    1649\n",
      "53,2     1127\n",
      "54,56     722\n",
      "56,01     402\n",
      "57,55     163\n",
      "59,24      66\n",
      "61,14      22\n",
      "63,33       1\n",
      "Name: PUNT_C_SOCIALES, dtype: int64\n",
      "Elementos null/NaN 0\n",
      "__________________\n",
      "Elementos diferentes de null/NaN: 61335\n",
      "__________________\n",
      "(61335,)\n",
      "None\n"
     ]
    }
   ],
   "source": [
    "c = 'PUNT_C_SOCIALES'\n",
    "print(data_2006[c].value_counts().sort_index().index)\n",
    "print(data_2006[c].value_counts().sort_index())\n",
    "print(missing_data(data_2006[c]))"
   ]
  },
  {
   "cell_type": "code",
   "execution_count": 91,
   "metadata": {
    "collapsed": false
   },
   "outputs": [],
   "source": [
    "c = 'PUNT_C_SOCIALES'\n",
    "for i in data_2006[c].value_counts().sort_index().index:\n",
    "    if ',' in i:\n",
    "        data_2006[c] = data_2006[c].replace(i, i.replace(',', '.'))\n",
    "\n",
    "for i in data_2006[c].value_counts().sort_index().index:\n",
    "    if type(i) == str:\n",
    "        data_2006[c] = data_2006[c].replace(i, float(i))"
   ]
  },
  {
   "cell_type": "code",
   "execution_count": 92,
   "metadata": {
    "collapsed": false,
    "scrolled": true
   },
   "outputs": [
    {
     "name": "stdout",
     "output_type": "stream",
     "text": [
      "Index(['0', '104,43', '17,55', '23,47', '27,96', '31,67', '34,89', '37,78',\n",
      "       '40,43', '42,93', '45,3', '47,6', '49,86', '52,11', '54,37', '56,68',\n",
      "       '59,08', '61,61', '64,34', '67,36', '70,84', '75,05', '8,17', '80,64',\n",
      "       '89,62'],\n",
      "      dtype='object')\n",
      "0           37\n",
      "104,43       1\n",
      "17,55       83\n",
      "23,47      375\n",
      "27,96     1046\n",
      "31,67     2425\n",
      "34,89     4067\n",
      "37,78     5821\n",
      "40,43     6401\n",
      "42,93     7760\n",
      "45,3      7493\n",
      "47,6      6687\n",
      "49,86     5484\n",
      "52,11     4354\n",
      "54,37     3457\n",
      "56,68     2368\n",
      "59,08     1596\n",
      "61,61      992\n",
      "64,34      493\n",
      "67,36      235\n",
      "70,84      108\n",
      "75,05       33\n",
      "8,17        10\n",
      "80,64        7\n",
      "89,62        2\n",
      "Name: PUNT_FILOSOFIA, dtype: int64\n",
      "Elementos null/NaN 0\n",
      "__________________\n",
      "Elementos diferentes de null/NaN: 61335\n",
      "__________________\n",
      "(61335,)\n",
      "None\n"
     ]
    }
   ],
   "source": [
    "c = 'PUNT_FILOSOFIA'\n",
    "print(data_2006[c].value_counts().sort_index().index)\n",
    "print(data_2006[c].value_counts().sort_index())\n",
    "print(missing_data(data_2006[c]))"
   ]
  },
  {
   "cell_type": "code",
   "execution_count": 93,
   "metadata": {
    "collapsed": false
   },
   "outputs": [],
   "source": [
    "c = 'PUNT_FILOSOFIA'\n",
    "for i in data_2006[c].value_counts().sort_index().index:\n",
    "    if ',' in i:\n",
    "        data_2006[c] = data_2006[c].replace(i, i.replace(',', '.'))\n",
    "\n",
    "for i in data_2006[c].value_counts().sort_index().index:\n",
    "    if type(i) == str:\n",
    "        data_2006[c] = data_2006[c].replace(i, float(i))"
   ]
  },
  {
   "cell_type": "code",
   "execution_count": 94,
   "metadata": {
    "collapsed": false,
    "scrolled": true
   },
   "outputs": [
    {
     "name": "stdout",
     "output_type": "stream",
     "text": [
      "Index(['0', '12,65', '20,53', '21,91', '25,44', '25,53', '26,43', '26,96',\n",
      "       '27,63', '29,36', '30,33', '30,39', '30,82', '31,38', '31,91', '32,56',\n",
      "       '32,97', '33,6', '34,05', '34,2', '34,51', '35,2', '35,36', '35,66',\n",
      "       '36,11', '36,47', '36,88', '37,26', '37,39', '37,9', '38,88', '39,08',\n",
      "       '39,45', '39,77', '40,21', '40,26', '41,05', '41,4', '41,51', '41,84',\n",
      "       '42,11', '42,5', '42,8', '43,46', '43,82', '44,12', '44,34', '44,66',\n",
      "       '45,23', '46,04', '46,05', '46,31', '46,51', '46,76', '47,57', '48,23',\n",
      "       '48,47', '48,63', '48,84', '49,86', '50,4', '50,43', '50,61', '50,75',\n",
      "       '50,92', '52,14', '52,59', '52,77', '52,89', '53,04', '54,45', '54,69',\n",
      "       '54,99', '55,22', '56,83', '57,19', '57,3', '57,39', '57,49', '59,36',\n",
      "       '59,63', '59,76', '59,93', '62,11', '62,34', '62,38', '62,45', '62,52',\n",
      "       '62,6', '65,21', '65,51', '65,64', '68,91', '68,97', '69,08', '69,28',\n",
      "       '73,74', '74,07', '81,7', '94,21'],\n",
      "      dtype='object')\n",
      "0           4\n",
      "12,65      23\n",
      "20,53      88\n",
      "21,91       1\n",
      "25,44       1\n",
      "25,53     389\n",
      "26,43       4\n",
      "26,96       1\n",
      "27,63       2\n",
      "29,36     927\n",
      "30,33       4\n",
      "30,39       2\n",
      "30,82      12\n",
      "31,38       3\n",
      "31,91       1\n",
      "32,56    1856\n",
      "32,97       1\n",
      "33,6        6\n",
      "34,05      27\n",
      "34,2        8\n",
      "34,51       4\n",
      "35,2        1\n",
      "35,36    3196\n",
      "35,66       2\n",
      "36,11       1\n",
      "36,47      10\n",
      "36,88      29\n",
      "37,26       7\n",
      "37,39      21\n",
      "37,9     4596\n",
      "         ... \n",
      "54,45      27\n",
      "54,69       1\n",
      "54,99       8\n",
      "55,22    3064\n",
      "56,83      22\n",
      "57,19       1\n",
      "57,3        6\n",
      "57,39       1\n",
      "57,49    2259\n",
      "59,36      22\n",
      "59,63       1\n",
      "59,76       1\n",
      "59,93    1710\n",
      "62,11      14\n",
      "62,34       2\n",
      "62,38       1\n",
      "62,45       5\n",
      "62,52       1\n",
      "62,6     1195\n",
      "65,21      14\n",
      "65,51       1\n",
      "65,64     760\n",
      "68,91       6\n",
      "68,97       1\n",
      "69,08       1\n",
      "69,28     414\n",
      "73,74       3\n",
      "74,07     144\n",
      "81,7       15\n",
      "94,21       3\n",
      "Name: PUNT_BIOLOGIA, dtype: int64\n",
      "Elementos null/NaN 0\n",
      "__________________\n",
      "Elementos diferentes de null/NaN: 61335\n",
      "__________________\n",
      "(61335,)\n",
      "None\n"
     ]
    }
   ],
   "source": [
    "c = 'PUNT_BIOLOGIA'\n",
    "print(data_2006[c].value_counts().sort_index().index)\n",
    "print(data_2006[c].value_counts().sort_index())\n",
    "print(missing_data(data_2006[c]))"
   ]
  },
  {
   "cell_type": "code",
   "execution_count": 95,
   "metadata": {
    "collapsed": false
   },
   "outputs": [],
   "source": [
    "c = 'PUNT_BIOLOGIA'\n",
    "for i in data_2006[c].value_counts().sort_index().index:\n",
    "    if ',' in i:\n",
    "        data_2006[c] = data_2006[c].replace(i, i.replace(',', '.'))\n",
    "\n",
    "for i in data_2006[c].value_counts().sort_index().index:\n",
    "    if type(i) == str:\n",
    "        data_2006[c] = data_2006[c].replace(i, float(i))"
   ]
  },
  {
   "cell_type": "code",
   "execution_count": 96,
   "metadata": {
    "collapsed": false,
    "scrolled": true
   },
   "outputs": [
    {
     "name": "stdout",
     "output_type": "stream",
     "text": [
      "Index(['0', '18,77', '19,01', '21,4', '25,8', '27,53', '28,5', '30,25',\n",
      "       '30,48', '30,58',\n",
      "       ...\n",
      "       '62,13', '63,38', '64,08', '64,98', '66,27', '66,76', '68,37', '69,99',\n",
      "       '74,27', '81,11'],\n",
      "      dtype='object', length=116)\n",
      "0           4\n",
      "18,77      32\n",
      "19,01       1\n",
      "21,4        1\n",
      "25,8      271\n",
      "27,53       2\n",
      "28,5        3\n",
      "30,25     789\n",
      "30,48       2\n",
      "30,58       2\n",
      "30,82       1\n",
      "30,84       1\n",
      "32,2        1\n",
      "32,62       1\n",
      "33,03       9\n",
      "33,65    2093\n",
      "33,91       3\n",
      "34,01       4\n",
      "34,42       1\n",
      "34,72       1\n",
      "35,28       2\n",
      "36,03       2\n",
      "36,05       1\n",
      "36,47    4067\n",
      "36,52      17\n",
      "36,77       6\n",
      "36,88      11\n",
      "36,9        7\n",
      "38,4        1\n",
      "38,53       1\n",
      "         ... \n",
      "54,01    1515\n",
      "54,06       1\n",
      "54,89       2\n",
      "55,05       3\n",
      "55,1       16\n",
      "55,8      907\n",
      "56,81       1\n",
      "56,98       1\n",
      "57,29      10\n",
      "57,66     628\n",
      "58,02       1\n",
      "58,15       1\n",
      "58,23       1\n",
      "59          3\n",
      "59,03       2\n",
      "59,61       6\n",
      "59,63     405\n",
      "61          2\n",
      "61,17       1\n",
      "61,74     226\n",
      "62,13       2\n",
      "63,38       1\n",
      "64,08     151\n",
      "64,98       2\n",
      "66,27       1\n",
      "66,76      91\n",
      "68,37       1\n",
      "69,99      44\n",
      "74,27      19\n",
      "81,11       3\n",
      "Name: PUNT_QUIMICA, dtype: int64\n",
      "Elementos null/NaN 0\n",
      "__________________\n",
      "Elementos diferentes de null/NaN: 61335\n",
      "__________________\n",
      "(61335,)\n",
      "None\n"
     ]
    }
   ],
   "source": [
    "c = 'PUNT_QUIMICA'\n",
    "print(data_2006[c].value_counts().sort_index().index)\n",
    "print(data_2006[c].value_counts().sort_index())\n",
    "print(missing_data(data_2006[c]))"
   ]
  },
  {
   "cell_type": "code",
   "execution_count": 97,
   "metadata": {
    "collapsed": false
   },
   "outputs": [],
   "source": [
    "c = 'PUNT_QUIMICA'\n",
    "for i in data_2006[c].value_counts().sort_index().index:\n",
    "    if ',' in i:\n",
    "        data_2006[c] = data_2006[c].replace(i, i.replace(',', '.'))\n",
    "\n",
    "for i in data_2006[c].value_counts().sort_index().index:\n",
    "    if type(i) == str:\n",
    "        data_2006[c] = data_2006[c].replace(i, float(i))"
   ]
  },
  {
   "cell_type": "code",
   "execution_count": 98,
   "metadata": {
    "collapsed": false,
    "scrolled": true
   },
   "outputs": [
    {
     "name": "stdout",
     "output_type": "stream",
     "text": [
      "Index(['0', '100,9', '16,25', '16,65', '17,42', '19,63', '20,14', '21,16',\n",
      "       '25,99', '26,43',\n",
      "       ...\n",
      "       '70,23', '71,15', '72,02', '74,02', '76,4', '77,2', '80,88', '83,81',\n",
      "       '85,34', '91,29'],\n",
      "      dtype='object', length=119)\n",
      "0          13\n",
      "100,9       2\n",
      "16,25     107\n",
      "16,65       1\n",
      "17,42       1\n",
      "19,63       1\n",
      "20,14       1\n",
      "21,16       8\n",
      "25,99     566\n",
      "26,43       2\n",
      "26,8        1\n",
      "27,47       4\n",
      "27,7        1\n",
      "28,61       1\n",
      "30,97      13\n",
      "32,05    1716\n",
      "32,53       8\n",
      "32,91       8\n",
      "33,55       6\n",
      "33,75       4\n",
      "34,71       1\n",
      "35,99       3\n",
      "36,62    3794\n",
      "37,11      17\n",
      "37,14      12\n",
      "37,53       6\n",
      "38,13       8\n",
      "38,31      10\n",
      "38,89       1\n",
      "39,77       2\n",
      "         ... \n",
      "59,52       1\n",
      "60,02       2\n",
      "60,41       1\n",
      "60,58       3\n",
      "60,82       1\n",
      "61,25    1194\n",
      "61,51       1\n",
      "62,46       3\n",
      "62,76       1\n",
      "62,84       1\n",
      "63,3        8\n",
      "63,6      618\n",
      "64,12       1\n",
      "65,67       2\n",
      "66        362\n",
      "66,07       2\n",
      "66,8        1\n",
      "67,52       1\n",
      "68,51     202\n",
      "68,95       2\n",
      "70,23       1\n",
      "71,15     104\n",
      "72,02       1\n",
      "74,02      62\n",
      "76,4        1\n",
      "77,2       41\n",
      "80,88      16\n",
      "83,81       1\n",
      "85,34      14\n",
      "91,29       1\n",
      "Name: PUNT_FISICA, dtype: int64\n",
      "Elementos null/NaN 0\n",
      "__________________\n",
      "Elementos diferentes de null/NaN: 61335\n",
      "__________________\n",
      "(61335,)\n",
      "None\n"
     ]
    }
   ],
   "source": [
    "c = 'PUNT_FISICA'\n",
    "print(data_2006[c].value_counts().sort_index().index)\n",
    "print(data_2006[c].value_counts().sort_index())\n",
    "print(missing_data(data_2006[c]))"
   ]
  },
  {
   "cell_type": "code",
   "execution_count": 99,
   "metadata": {
    "collapsed": false
   },
   "outputs": [],
   "source": [
    "c = 'PUNT_FISICA'\n",
    "for i in data_2006[c].value_counts().sort_index().index:\n",
    "    if ',' in i:\n",
    "        data_2006[c] = data_2006[c].replace(i, i.replace(',', '.'))\n",
    "\n",
    "for i in data_2006[c].value_counts().sort_index().index:\n",
    "    if type(i) == str:\n",
    "        data_2006[c] = data_2006[c].replace(i, float(i))"
   ]
  },
  {
   "cell_type": "code",
   "execution_count": 100,
   "metadata": {
    "collapsed": false,
    "scrolled": true
   },
   "outputs": [
    {
     "name": "stdout",
     "output_type": "stream",
     "text": [
      "Index(['ALEMÃN', 'FRANCÃS', 'INGLÃS'], dtype='object')\n",
      "ALEMÃN        62\n",
      "FRANCÃS      456\n",
      "INGLÃS     60817\n",
      "Name: NOMBRE_IDIOMA, dtype: int64\n",
      "Elementos null/NaN 0\n",
      "__________________\n",
      "Elementos diferentes de null/NaN: 61335\n",
      "__________________\n",
      "(61335,)\n",
      "None\n"
     ]
    }
   ],
   "source": [
    "c = 'NOMBRE_IDIOMA'\n",
    "print(data_2006[c].value_counts().sort_index().index)\n",
    "print(data_2006[c].value_counts().sort_index())\n",
    "print(missing_data(data_2006[c]))"
   ]
  },
  {
   "cell_type": "code",
   "execution_count": 101,
   "metadata": {
    "collapsed": true
   },
   "outputs": [],
   "source": [
    "data_2006['NOMBRE_IDIOMA'] = data_2006['NOMBRE_IDIOMA'].replace('ALEMÃN', 'ALEMAN')\n",
    "data_2006['NOMBRE_IDIOMA'] = data_2006['NOMBRE_IDIOMA'].replace('FRANCÃS', 'FRANCES')\n",
    "data_2006['NOMBRE_IDIOMA'] = data_2006['NOMBRE_IDIOMA'].replace('INGLÃS', 'INGLES')"
   ]
  },
  {
   "cell_type": "code",
   "execution_count": 102,
   "metadata": {
    "collapsed": false,
    "scrolled": true
   },
   "outputs": [
    {
     "name": "stdout",
     "output_type": "stream",
     "text": [
      "Index(['-1', '0', '15,62', '16,12', '19,28', '23,14', '23,61', '27,53',\n",
      "       '27,81', '28,24', '30,46', '31,31', '31,72', '33,03', '34,2', '34,59',\n",
      "       '35,34', '36,7', '37,07', '37,5', '38,95', '39,31', '39,55', '41,03',\n",
      "       '41,39', '42,99', '43,35', '44,86', '45,25', '45,42', '46,69', '47,1',\n",
      "       '47,37', '48,49', '48,94', '49,37', '50,29', '50,8', '51,44', '52,11',\n",
      "       '52,7', '53,62', '53,98', '54,68', '55,93', '55,96', '56,78', '58',\n",
      "       '58,51', '59,04', '60,24', '61,36', '61,56', '62,73', '64,46', '64,66',\n",
      "       '65,59', '67,98', '68,69', '69,08', '72,66', '73,73', '74', '80,21',\n",
      "       '81,23', '82,36', '84,92', '85,62'],\n",
      "      dtype='object')\n",
      "-1          1\n",
      "0          32\n",
      "15,62     210\n",
      "16,12       3\n",
      "19,28       1\n",
      "23,14     885\n",
      "23,61       8\n",
      "27,53       6\n",
      "27,81    2139\n",
      "28,24       9\n",
      "30,46       2\n",
      "31,31    4086\n",
      "31,72      26\n",
      "33,03       2\n",
      "34,2     5772\n",
      "34,59      43\n",
      "35,34       2\n",
      "36,7     7121\n",
      "37,07      37\n",
      "37,5        5\n",
      "38,95    7017\n",
      "39,31      28\n",
      "39,55       1\n",
      "41,03    6471\n",
      "41,39      31\n",
      "42,99    5471\n",
      "43,35      22\n",
      "44,86    4202\n",
      "45,25      14\n",
      "45,42       4\n",
      "         ... \n",
      "51,44       2\n",
      "52,11    1351\n",
      "52,7        4\n",
      "53,62       6\n",
      "53,98    1095\n",
      "54,68       3\n",
      "55,93     906\n",
      "55,96       7\n",
      "56,78      10\n",
      "58        784\n",
      "58,51       4\n",
      "59,04      14\n",
      "60,24     727\n",
      "61,36       2\n",
      "61,56      17\n",
      "62,73     768\n",
      "64,46      22\n",
      "64,66       6\n",
      "65,59     861\n",
      "67,98      32\n",
      "68,69       3\n",
      "69,08     953\n",
      "72,66      52\n",
      "73,73    1025\n",
      "74          1\n",
      "80,21      37\n",
      "81,23     989\n",
      "82,36       2\n",
      "84,92      18\n",
      "85,62     586\n",
      "Name: PUNT_IDIOMA, dtype: int64\n",
      "Elementos null/NaN 0\n",
      "__________________\n",
      "Elementos diferentes de null/NaN: 61335\n",
      "__________________\n",
      "(61335,)\n",
      "None\n"
     ]
    }
   ],
   "source": [
    "c = 'PUNT_IDIOMA'\n",
    "print(data_2006[c].value_counts().sort_index().index)\n",
    "print(data_2006[c].value_counts().sort_index())\n",
    "print(missing_data(data_2006[c]))"
   ]
  },
  {
   "cell_type": "code",
   "execution_count": 103,
   "metadata": {
    "collapsed": false
   },
   "outputs": [],
   "source": [
    "c = 'PUNT_IDIOMA'\n",
    "for i in data_2006[c].value_counts().sort_index().index:\n",
    "    if ',' in i:\n",
    "        data_2006[c] = data_2006[c].replace(i, i.replace(',', '.'))\n",
    "\n",
    "for i in data_2006[c].value_counts().sort_index().index:\n",
    "    if type(i) == str:\n",
    "        data_2006[c] = data_2006[c].replace(i, float(i))"
   ]
  },
  {
   "cell_type": "code",
   "execution_count": 104,
   "metadata": {
    "collapsed": false
   },
   "outputs": [
    {
     "name": "stdout",
     "output_type": "stream",
     "text": [
      "Float64Index([-1.0], dtype='float64')\n",
      "-1.0    1\n",
      "Name: DESEMP_IDIOMA, dtype: int64\n",
      "Elementos null/NaN 61334\n",
      "__________________\n",
      "Elementos diferentes de null/NaN: 1\n",
      "__________________\n",
      "(1,)\n",
      "None\n"
     ]
    }
   ],
   "source": [
    "c = 'DESEMP_IDIOMA'\n",
    "print(data_2006[c].value_counts().sort_index().index)\n",
    "print(data_2006[c].value_counts().sort_index())\n",
    "print(missing_data(data_2006[c]))"
   ]
  },
  {
   "cell_type": "code",
   "execution_count": 105,
   "metadata": {
    "collapsed": true
   },
   "outputs": [],
   "source": [
    "data_2006 = data_2006.drop(['DESEMP_IDIOMA'], axis=1)"
   ]
  },
  {
   "cell_type": "code",
   "execution_count": 106,
   "metadata": {
    "collapsed": false
   },
   "outputs": [
    {
     "name": "stdout",
     "output_type": "stream",
     "text": [
      "Index(['PROFUNDIZACIÃN EN BIOLOGÃA', 'PROFUNDIZACIÃN EN CIENCIAS SOCIALES',\n",
      "       'PROFUNDIZACIÃN EN LENGUAJE', 'PROFUNDIZACIÃN EN MATEMÃTICA'],\n",
      "      dtype='object')\n",
      "PROFUNDIZACIÃN EN BIOLOGÃA            20896\n",
      "PROFUNDIZACIÃN EN CIENCIAS SOCIALES     8077\n",
      "PROFUNDIZACIÃN EN LENGUAJE             21849\n",
      "PROFUNDIZACIÃN EN MATEMÃTICA          10513\n",
      "Name: NOMBRE_PROFUNDIZACION, dtype: int64\n",
      "Elementos null/NaN 0\n",
      "__________________\n",
      "Elementos diferentes de null/NaN: 61335\n",
      "__________________\n",
      "(61335,)\n",
      "None\n"
     ]
    }
   ],
   "source": [
    "c = 'NOMBRE_PROFUNDIZACION'\n",
    "print(data_2006[c].value_counts().sort_index().index)\n",
    "print(data_2006[c].value_counts().sort_index())\n",
    "print(missing_data(data_2006[c]))"
   ]
  },
  {
   "cell_type": "code",
   "execution_count": 107,
   "metadata": {
    "collapsed": true
   },
   "outputs": [],
   "source": [
    "data_2006['NOMBRE_PROFUNDIZACION'] = data_2006['NOMBRE_PROFUNDIZACION'].replace('PROFUNDIZACIÃN EN BIOLOGÃA', 'BIOLOGIA')\n",
    "data_2006['NOMBRE_PROFUNDIZACION'] = data_2006['NOMBRE_PROFUNDIZACION'].replace('PROFUNDIZACIÃN EN CIENCIAS SOCIALES', 'CIENCIAS SOCIALES')\n",
    "data_2006['NOMBRE_PROFUNDIZACION'] = data_2006['NOMBRE_PROFUNDIZACION'].replace('PROFUNDIZACIÃN EN LENGUAJE', 'LENGUAJE')\n",
    "data_2006['NOMBRE_PROFUNDIZACION'] = data_2006['NOMBRE_PROFUNDIZACION'].replace('PROFUNDIZACIÃN EN MATEMÃTICA', 'MATEMATICA')"
   ]
  },
  {
   "cell_type": "code",
   "execution_count": 108,
   "metadata": {
    "collapsed": false,
    "scrolled": true
   },
   "outputs": [
    {
     "name": "stdout",
     "output_type": "stream",
     "text": [
      "Index(['-1', '0', '1,2', '1,88', '1,9', '10', '2,5', '2,78', '2,93', '3',\n",
      "       '3,5', '3,54', '3,62', '3,66', '3,9', '4,17', '4,23', '4,3', '4,38',\n",
      "       '4,65', '4,68', '4,8', '4,91', '5,06', '5,09', '5,2', '5,33', '5,41',\n",
      "       '5,51', '5,69', '5,7', '5,75', '5,92', '6,02', '6,08', '6,3', '6,34',\n",
      "       '6,35', '6,42', '6,65', '6,77', '6,81', '6,98', '7,16', '7,33', '7,34',\n",
      "       '7,62', '7,76', '7,98', '8,21', '8,3', '8,98', '9,11', '9,13'],\n",
      "      dtype='object')\n",
      "-1       238\n",
      "0        708\n",
      "1,2      697\n",
      "1,88     464\n",
      "1,9     1251\n",
      "10        24\n",
      "2,5     1618\n",
      "2,78     365\n",
      "2,93    1415\n",
      "3       1736\n",
      "3,5     1334\n",
      "3,54    1175\n",
      "3,62    2516\n",
      "3,66     986\n",
      "3,9      710\n",
      "4,17    3362\n",
      "4,23    1531\n",
      "4,3      310\n",
      "4,38    2652\n",
      "4,65    3733\n",
      "4,68    1964\n",
      "4,8       93\n",
      "4,91    3877\n",
      "5,06    1732\n",
      "5,09    3172\n",
      "5,2       18\n",
      "5,33    4289\n",
      "5,41    1309\n",
      "5,51    2695\n",
      "5,69    3574\n",
      "5,7        3\n",
      "5,75     930\n",
      "5,92    1924\n",
      "6,02    2251\n",
      "6,08     575\n",
      "6,3        1\n",
      "6,34    1369\n",
      "6,35    1259\n",
      "6,42     378\n",
      "6,65     773\n",
      "6,77     235\n",
      "6,81     681\n",
      "6,98     373\n",
      "7,16     162\n",
      "7,33     291\n",
      "7,34     156\n",
      "7,62     120\n",
      "7,76      70\n",
      "7,98      92\n",
      "8,21      50\n",
      "8,3       15\n",
      "8,98      26\n",
      "9,11      46\n",
      "9,13       7\n",
      "Name: PUNT_PROFUNDIZACION, dtype: int64\n",
      "Elementos null/NaN 0\n",
      "__________________\n",
      "Elementos diferentes de null/NaN: 61335\n",
      "__________________\n",
      "(61335,)\n",
      "None\n"
     ]
    }
   ],
   "source": [
    "c = 'PUNT_PROFUNDIZACION'\n",
    "print(data_2006[c].value_counts().sort_index().index)\n",
    "print(data_2006[c].value_counts().sort_index())\n",
    "print(missing_data(data_2006[c]))"
   ]
  },
  {
   "cell_type": "code",
   "execution_count": 109,
   "metadata": {
    "collapsed": false
   },
   "outputs": [],
   "source": [
    "c = 'PUNT_PROFUNDIZACION'\n",
    "for i in data_2006[c].value_counts().sort_index().index:\n",
    "    if ',' in i:\n",
    "        data_2006[c] = data_2006[c].replace(i, i.replace(',', '.'))\n",
    "\n",
    "for i in data_2006[c].value_counts().sort_index().index:\n",
    "    if type(i) == str:\n",
    "        data_2006[c] = data_2006[c].replace(i, float(i))"
   ]
  },
  {
   "cell_type": "code",
   "execution_count": 110,
   "metadata": {
    "collapsed": false
   },
   "outputs": [
    {
     "name": "stdout",
     "output_type": "stream",
     "text": [
      "Index(['-1', 'GB', 'I', 'II', 'III'], dtype='object')\n",
      "-1       238\n",
      "GB     12931\n",
      "I      19566\n",
      "II     19647\n",
      "III     8953\n",
      "Name: DESEMP_PROFUNDIZACION, dtype: int64\n",
      "Elementos null/NaN 0\n",
      "__________________\n",
      "Elementos diferentes de null/NaN: 61335\n",
      "__________________\n",
      "(61335,)\n",
      "None\n"
     ]
    }
   ],
   "source": [
    "c = 'DESEMP_PROFUNDIZACION'\n",
    "print(data_2006[c].value_counts().sort_index().index)\n",
    "print(data_2006[c].value_counts().sort_index())\n",
    "print(missing_data(data_2006[c]))"
   ]
  },
  {
   "cell_type": "code",
   "execution_count": 111,
   "metadata": {
    "collapsed": true
   },
   "outputs": [],
   "source": [
    "data_2006['DESEMP_PROFUNDIZACION'] = data_2006['DESEMP_PROFUNDIZACION'].replace('-1', np.nan)"
   ]
  },
  {
   "cell_type": "code",
   "execution_count": 112,
   "metadata": {
    "collapsed": false
   },
   "outputs": [
    {
     "name": "stdout",
     "output_type": "stream",
     "text": [
      "Index(['MEDIO AMBIENTE', 'VIOLENCIA Y SOCIEDAD'], dtype='object')\n",
      "MEDIO AMBIENTE          32491\n",
      "VIOLENCIA Y SOCIEDAD    28844\n",
      "Name: NOMBRE_INTERDISCIPLINAR, dtype: int64\n",
      "Elementos null/NaN 0\n",
      "__________________\n",
      "Elementos diferentes de null/NaN: 61335\n",
      "__________________\n",
      "(61335,)\n",
      "None\n"
     ]
    }
   ],
   "source": [
    "c = 'NOMBRE_INTERDISCIPLINAR'\n",
    "print(data_2006[c].value_counts().sort_index().index)\n",
    "print(data_2006[c].value_counts().sort_index())\n",
    "print(missing_data(data_2006[c]))"
   ]
  },
  {
   "cell_type": "code",
   "execution_count": 113,
   "metadata": {
    "collapsed": false,
    "scrolled": true
   },
   "outputs": [
    {
     "name": "stdout",
     "output_type": "stream",
     "text": [
      "Index(['-1', '0', '15,54', '24,76', '30,79', '35,57', '39,72', '43,53',\n",
      "       '45,32', '47,18', '47,63', '49,11', '50,28', '50,8', '51,28', '52,19',\n",
      "       '53,06', '53,91', '54,52', '54,79', '55,71', '56,72', '57,91', '58,47',\n",
      "       '59,42', '61,76', '62,84', '64,05', '67,95', '74,43', '84,21', '93,9'],\n",
      "      dtype='object')\n",
      "-1         11\n",
      "0         237\n",
      "15,54     286\n",
      "24,76     892\n",
      "30,79    1904\n",
      "35,57    3184\n",
      "39,72    4157\n",
      "43,53    4957\n",
      "45,32     831\n",
      "47,18    4677\n",
      "47,63    2137\n",
      "49,11    3657\n",
      "50,28    4763\n",
      "50,8     3707\n",
      "51,28    5091\n",
      "52,19    4914\n",
      "53,06    4154\n",
      "53,91    2968\n",
      "54,52    2575\n",
      "54,79    1941\n",
      "55,71    1138\n",
      "56,72     496\n",
      "57,91     176\n",
      "58,47    1476\n",
      "59,42      45\n",
      "61,76       3\n",
      "62,84     654\n",
      "64,05       1\n",
      "67,95     234\n",
      "74,43      62\n",
      "84,21       6\n",
      "93,9        1\n",
      "Name: PUNT_INTERDISCIPLINAR, dtype: int64\n",
      "Elementos null/NaN 0\n",
      "__________________\n",
      "Elementos diferentes de null/NaN: 61335\n",
      "__________________\n",
      "(61335,)\n",
      "None\n"
     ]
    }
   ],
   "source": [
    "c = 'PUNT_INTERDISCIPLINAR'\n",
    "print(data_2006[c].value_counts().sort_index().index)\n",
    "print(data_2006[c].value_counts().sort_index())\n",
    "print(missing_data(data_2006[c]))"
   ]
  },
  {
   "cell_type": "code",
   "execution_count": 114,
   "metadata": {
    "collapsed": false
   },
   "outputs": [],
   "source": [
    "c = 'PUNT_INTERDISCIPLINAR'\n",
    "for i in data_2006[c].value_counts().sort_index().index:\n",
    "    if ',' in i:\n",
    "        data_2006[c] = data_2006[c].replace(i, i.replace(',', '.'))\n",
    "\n",
    "for i in data_2006[c].value_counts().sort_index().index:\n",
    "    if type(i) == str:\n",
    "        data_2006[c] = data_2006[c].replace(i, float(i))"
   ]
  },
  {
   "cell_type": "code",
   "execution_count": 115,
   "metadata": {
    "collapsed": false,
    "scrolled": true
   },
   "outputs": [
    {
     "name": "stdout",
     "output_type": "stream",
     "text": [
      "Float64Index([  1.0,   2.0,   3.0,   4.0,   5.0,   6.0,   7.0,   8.0,   9.0,\n",
      "               10.0,\n",
      "              ...\n",
      "              960.0, 961.0, 962.0, 963.0, 964.0, 965.0, 966.0, 967.0, 968.0,\n",
      "              969.0],\n",
      "             dtype='float64', length=969)\n",
      "1.0      100\n",
      "2.0       95\n",
      "3.0       91\n",
      "4.0       99\n",
      "5.0       88\n",
      "6.0       86\n",
      "7.0       79\n",
      "8.0       82\n",
      "9.0       87\n",
      "10.0      78\n",
      "11.0      79\n",
      "12.0      83\n",
      "13.0      74\n",
      "14.0      75\n",
      "15.0      75\n",
      "16.0      75\n",
      "17.0      74\n",
      "18.0      72\n",
      "19.0      75\n",
      "20.0      73\n",
      "21.0      70\n",
      "22.0      73\n",
      "23.0      75\n",
      "24.0      70\n",
      "25.0      77\n",
      "26.0      60\n",
      "27.0      69\n",
      "28.0      74\n",
      "29.0      67\n",
      "30.0      76\n",
      "        ... \n",
      "940.0     80\n",
      "941.0     80\n",
      "942.0     69\n",
      "943.0     86\n",
      "944.0     66\n",
      "945.0     72\n",
      "946.0     71\n",
      "947.0     79\n",
      "948.0     78\n",
      "949.0     70\n",
      "950.0     78\n",
      "951.0     70\n",
      "952.0     80\n",
      "953.0     76\n",
      "954.0     69\n",
      "955.0     76\n",
      "956.0     65\n",
      "957.0     74\n",
      "958.0     76\n",
      "959.0     70\n",
      "960.0     75\n",
      "961.0     68\n",
      "962.0     76\n",
      "963.0     82\n",
      "964.0     71\n",
      "965.0     66\n",
      "966.0     71\n",
      "967.0     75\n",
      "968.0     73\n",
      "969.0     26\n",
      "Name: ESTU_PUESTO, dtype: int64\n",
      "Elementos null/NaN 1\n",
      "__________________\n",
      "Elementos diferentes de null/NaN: 61334\n",
      "__________________\n",
      "(61334,)\n",
      "None\n"
     ]
    }
   ],
   "source": [
    "c = 'ESTU_PUESTO'\n",
    "print(data_2006[c].value_counts().sort_index().index)\n",
    "print(data_2006[c].value_counts().sort_index())\n",
    "print(missing_data(data_2006[c]))"
   ]
  },
  {
   "cell_type": "markdown",
   "metadata": {},
   "source": [
    "# FILE 2 -> 2006_2"
   ]
  },
  {
   "cell_type": "code",
   "execution_count": 116,
   "metadata": {
    "collapsed": false
   },
   "outputs": [
    {
     "name": "stderr",
     "output_type": "stream",
     "text": [
      "/usr/local/anaconda3/lib/python3.5/site-packages/IPython/core/interactiveshell.py:2723: DtypeWarning: Columns (30) have mixed types. Specify dtype option on import or set low_memory=False.\n",
      "  interactivity=interactivity, compiler=compiler, result=result)\n"
     ]
    }
   ],
   "source": [
    "data_2006_2 = pd.read_csv('../DatosFTPICFES/SABER11/SB11-BASES_DE_DATOS/SB11-20062-RGSTRO-CLFCCN-V1-0.txt', delimiter = '|',\n",
    "                         encoding = \"iso-8859-1\")"
   ]
  },
  {
   "cell_type": "code",
   "execution_count": 117,
   "metadata": {
    "collapsed": false
   },
   "outputs": [
    {
     "data": {
      "text/plain": [
       "(408326, 85)"
      ]
     },
     "execution_count": 117,
     "metadata": {},
     "output_type": "execute_result"
    }
   ],
   "source": [
    "data_2006_2.shape"
   ]
  },
  {
   "cell_type": "code",
   "execution_count": 118,
   "metadata": {
    "collapsed": false,
    "scrolled": true
   },
   "outputs": [
    {
     "data": {
      "text/html": [
       "<div>\n",
       "<table border=\"1\" class=\"dataframe\">\n",
       "  <thead>\n",
       "    <tr style=\"text-align: right;\">\n",
       "      <th></th>\n",
       "      <th>0</th>\n",
       "      <th>1</th>\n",
       "      <th>2</th>\n",
       "    </tr>\n",
       "  </thead>\n",
       "  <tbody>\n",
       "    <tr>\n",
       "      <th>ESTU_CONSECUTIVO</th>\n",
       "      <td>SB1120062000001</td>\n",
       "      <td>SB1120062000002</td>\n",
       "      <td>SB1120062000003</td>\n",
       "    </tr>\n",
       "    <tr>\n",
       "      <th>PERIODO</th>\n",
       "      <td>20062</td>\n",
       "      <td>20062</td>\n",
       "      <td>20062</td>\n",
       "    </tr>\n",
       "    <tr>\n",
       "      <th>ESTU_TIPO_DOCUMENTO</th>\n",
       "      <td>T</td>\n",
       "      <td>T</td>\n",
       "      <td>T</td>\n",
       "    </tr>\n",
       "    <tr>\n",
       "      <th>ESTU_PAIS_RESIDE</th>\n",
       "      <td>CO</td>\n",
       "      <td>CO</td>\n",
       "      <td>CO</td>\n",
       "    </tr>\n",
       "    <tr>\n",
       "      <th>ESTU_GENERO</th>\n",
       "      <td>F</td>\n",
       "      <td>F</td>\n",
       "      <td>F</td>\n",
       "    </tr>\n",
       "    <tr>\n",
       "      <th>ESTU_NACIMIENTO_DIA</th>\n",
       "      <td>1</td>\n",
       "      <td>26</td>\n",
       "      <td>11</td>\n",
       "    </tr>\n",
       "    <tr>\n",
       "      <th>ESTU_NACIMIENTO_MES</th>\n",
       "      <td>6</td>\n",
       "      <td>7</td>\n",
       "      <td>1</td>\n",
       "    </tr>\n",
       "    <tr>\n",
       "      <th>ESTU_NACIMIENTO_ANNO</th>\n",
       "      <td>1994</td>\n",
       "      <td>1990</td>\n",
       "      <td>1989</td>\n",
       "    </tr>\n",
       "    <tr>\n",
       "      <th>ESTU_EDAD</th>\n",
       "      <td>12</td>\n",
       "      <td>15</td>\n",
       "      <td>17</td>\n",
       "    </tr>\n",
       "    <tr>\n",
       "      <th>ESTU_LIMITA_BAJAVISION</th>\n",
       "      <td>NaN</td>\n",
       "      <td>NaN</td>\n",
       "      <td>NaN</td>\n",
       "    </tr>\n",
       "    <tr>\n",
       "      <th>ESTU_LIMITA_SORDOCEGUERA</th>\n",
       "      <td>NaN</td>\n",
       "      <td>NaN</td>\n",
       "      <td>NaN</td>\n",
       "    </tr>\n",
       "    <tr>\n",
       "      <th>ESTU_LIMITA_COGNITIVA</th>\n",
       "      <td>NaN</td>\n",
       "      <td>NaN</td>\n",
       "      <td>NaN</td>\n",
       "    </tr>\n",
       "    <tr>\n",
       "      <th>ESTU_LIMITA_INVIDENTE</th>\n",
       "      <td>NaN</td>\n",
       "      <td>NaN</td>\n",
       "      <td>NaN</td>\n",
       "    </tr>\n",
       "    <tr>\n",
       "      <th>ESTU_LIMITA_MOTRIZ</th>\n",
       "      <td>NaN</td>\n",
       "      <td>NaN</td>\n",
       "      <td>NaN</td>\n",
       "    </tr>\n",
       "    <tr>\n",
       "      <th>ESTU_LIMITA_SORDOINTERPRETE</th>\n",
       "      <td>NaN</td>\n",
       "      <td>NaN</td>\n",
       "      <td>NaN</td>\n",
       "    </tr>\n",
       "    <tr>\n",
       "      <th>ESTU_LIMITA_SORDONOINTERPRETE</th>\n",
       "      <td>NaN</td>\n",
       "      <td>NaN</td>\n",
       "      <td>NaN</td>\n",
       "    </tr>\n",
       "    <tr>\n",
       "      <th>ESTU_COD_RESIDE_MCPIO</th>\n",
       "      <td>13001</td>\n",
       "      <td>13001</td>\n",
       "      <td>13001</td>\n",
       "    </tr>\n",
       "    <tr>\n",
       "      <th>ESTU_RESIDE_MCPIO</th>\n",
       "      <td>CARTAGENA</td>\n",
       "      <td>CARTAGENA</td>\n",
       "      <td>CARTAGENA</td>\n",
       "    </tr>\n",
       "    <tr>\n",
       "      <th>ESTU_RESIDE_DEPTO</th>\n",
       "      <td>BOLÃVAR</td>\n",
       "      <td>BOLÃVAR</td>\n",
       "      <td>BOLÃVAR</td>\n",
       "    </tr>\n",
       "    <tr>\n",
       "      <th>ESTU_ZONA_RESIDE</th>\n",
       "      <td>1</td>\n",
       "      <td>1</td>\n",
       "      <td>1</td>\n",
       "    </tr>\n",
       "    <tr>\n",
       "      <th>ESTU_AREA_RESIDE</th>\n",
       "      <td>NaN</td>\n",
       "      <td>NaN</td>\n",
       "      <td>NaN</td>\n",
       "    </tr>\n",
       "    <tr>\n",
       "      <th>ESTU_COD_MCPIO_PRESENTACION</th>\n",
       "      <td>13001</td>\n",
       "      <td>13001</td>\n",
       "      <td>13001</td>\n",
       "    </tr>\n",
       "    <tr>\n",
       "      <th>ESTU_MCPIO_PRESENTACION</th>\n",
       "      <td>CARTAGENA</td>\n",
       "      <td>CARTAGENA</td>\n",
       "      <td>CARTAGENA</td>\n",
       "    </tr>\n",
       "    <tr>\n",
       "      <th>ESTU_DEPTO_PRESENTACION</th>\n",
       "      <td>BOLÃVAR</td>\n",
       "      <td>BOLÃVAR</td>\n",
       "      <td>BOLÃVAR</td>\n",
       "    </tr>\n",
       "    <tr>\n",
       "      <th>ESTU_EXAM_NOMBREEXAMEN</th>\n",
       "      <td>EXAMEN DE ESTADO  (2006)</td>\n",
       "      <td>EXAMEN DE ESTADO  (2006)</td>\n",
       "      <td>EXAMEN DE ESTADO  (2006)</td>\n",
       "    </tr>\n",
       "    <tr>\n",
       "      <th>IND_ESTUDIO_BACHILLERATO</th>\n",
       "      <td>1</td>\n",
       "      <td>1</td>\n",
       "      <td>1</td>\n",
       "    </tr>\n",
       "    <tr>\n",
       "      <th>IND_ANNO_TERMINO_BACHILLERATO</th>\n",
       "      <td>2006</td>\n",
       "      <td>2006</td>\n",
       "      <td>2006</td>\n",
       "    </tr>\n",
       "    <tr>\n",
       "      <th>IND_TERMINO_BACHILLERATO</th>\n",
       "      <td>NaN</td>\n",
       "      <td>NaN</td>\n",
       "      <td>NaN</td>\n",
       "    </tr>\n",
       "    <tr>\n",
       "      <th>IND_COD_ICFES_TERMINO</th>\n",
       "      <td>113597</td>\n",
       "      <td>113597</td>\n",
       "      <td>113597</td>\n",
       "    </tr>\n",
       "    <tr>\n",
       "      <th>COLE_COD_ICFES</th>\n",
       "      <td>113597</td>\n",
       "      <td>113597</td>\n",
       "      <td>113597</td>\n",
       "    </tr>\n",
       "    <tr>\n",
       "      <th>...</th>\n",
       "      <td>...</td>\n",
       "      <td>...</td>\n",
       "      <td>...</td>\n",
       "    </tr>\n",
       "    <tr>\n",
       "      <th>FAMI_INGRESO_FMILIAR_MENSUAL</th>\n",
       "      <td>NaN</td>\n",
       "      <td>NaN</td>\n",
       "      <td>NaN</td>\n",
       "    </tr>\n",
       "    <tr>\n",
       "      <th>ESTU_TRABAJA</th>\n",
       "      <td>NaN</td>\n",
       "      <td>NaN</td>\n",
       "      <td>NaN</td>\n",
       "    </tr>\n",
       "    <tr>\n",
       "      <th>ESTU_HORAS_TRABAJA</th>\n",
       "      <td>NaN</td>\n",
       "      <td>NaN</td>\n",
       "      <td>NaN</td>\n",
       "    </tr>\n",
       "    <tr>\n",
       "      <th>COLE_VALOR_PENSION</th>\n",
       "      <td>7</td>\n",
       "      <td>7</td>\n",
       "      <td>7</td>\n",
       "    </tr>\n",
       "    <tr>\n",
       "      <th>ESTU_CARRDESEADA_TIPO</th>\n",
       "      <td>NaN</td>\n",
       "      <td>NaN</td>\n",
       "      <td>NaN</td>\n",
       "    </tr>\n",
       "    <tr>\n",
       "      <th>ESTU_CARRDESEADA_NUCLEO</th>\n",
       "      <td>NaN</td>\n",
       "      <td>NaN</td>\n",
       "      <td>NaN</td>\n",
       "    </tr>\n",
       "    <tr>\n",
       "      <th>ESTU_IES_COD_DESEADA</th>\n",
       "      <td>1711</td>\n",
       "      <td>NaN</td>\n",
       "      <td>1711</td>\n",
       "    </tr>\n",
       "    <tr>\n",
       "      <th>ESTU_IES_DESEADA_NOMBRE</th>\n",
       "      <td>UNIVERSIDAD DE LA SABANA</td>\n",
       "      <td>NaN</td>\n",
       "      <td>UNIVERSIDAD DE LA SABANA</td>\n",
       "    </tr>\n",
       "    <tr>\n",
       "      <th>ESTU_IES_COD_MPIO_DESEADA</th>\n",
       "      <td>25175</td>\n",
       "      <td>NaN</td>\n",
       "      <td>25175</td>\n",
       "    </tr>\n",
       "    <tr>\n",
       "      <th>ESTU_IES_MPIO_DESEADA</th>\n",
       "      <td>CHIA</td>\n",
       "      <td>NaN</td>\n",
       "      <td>CHIA</td>\n",
       "    </tr>\n",
       "    <tr>\n",
       "      <th>ESTU_IES_DEPT_DESEADA</th>\n",
       "      <td>CUNDINAMARCA</td>\n",
       "      <td>NaN</td>\n",
       "      <td>CUNDINAMARCA</td>\n",
       "    </tr>\n",
       "    <tr>\n",
       "      <th>ESTU_RAZONINSTITUTO</th>\n",
       "      <td>3</td>\n",
       "      <td>3</td>\n",
       "      <td>3</td>\n",
       "    </tr>\n",
       "    <tr>\n",
       "      <th>ESTU_CARRDESEADA_COD</th>\n",
       "      <td>15254</td>\n",
       "      <td>NaN</td>\n",
       "      <td>7320</td>\n",
       "    </tr>\n",
       "    <tr>\n",
       "      <th>ESTU_CARRDESEADA_RAZON</th>\n",
       "      <td>2</td>\n",
       "      <td>2</td>\n",
       "      <td>3</td>\n",
       "    </tr>\n",
       "    <tr>\n",
       "      <th>PUNT_LENGUAJE</th>\n",
       "      <td>49,43</td>\n",
       "      <td>57,14</td>\n",
       "      <td>57,14</td>\n",
       "    </tr>\n",
       "    <tr>\n",
       "      <th>PUNT_MATEMATICAS</th>\n",
       "      <td>42,69</td>\n",
       "      <td>55,8</td>\n",
       "      <td>42,69</td>\n",
       "    </tr>\n",
       "    <tr>\n",
       "      <th>PUNT_C_SOCIALES</th>\n",
       "      <td>47,97</td>\n",
       "      <td>69,03</td>\n",
       "      <td>46,05</td>\n",
       "    </tr>\n",
       "    <tr>\n",
       "      <th>PUNT_FILOSOFIA</th>\n",
       "      <td>44,92</td>\n",
       "      <td>58,26</td>\n",
       "      <td>51,78</td>\n",
       "    </tr>\n",
       "    <tr>\n",
       "      <th>PUNT_BIOLOGIA</th>\n",
       "      <td>39,22</td>\n",
       "      <td>61,19</td>\n",
       "      <td>44,05</td>\n",
       "    </tr>\n",
       "    <tr>\n",
       "      <th>PUNT_QUIMICA</th>\n",
       "      <td>47,6</td>\n",
       "      <td>50,87</td>\n",
       "      <td>45,87</td>\n",
       "    </tr>\n",
       "    <tr>\n",
       "      <th>PUNT_FISICA</th>\n",
       "      <td>26,2</td>\n",
       "      <td>53,97</td>\n",
       "      <td>51,55</td>\n",
       "    </tr>\n",
       "    <tr>\n",
       "      <th>NOMBRE_IDIOMA</th>\n",
       "      <td>INGLÃS</td>\n",
       "      <td>INGLÃS</td>\n",
       "      <td>INGLÃS</td>\n",
       "    </tr>\n",
       "    <tr>\n",
       "      <th>PUNT_IDIOMA</th>\n",
       "      <td>49,6</td>\n",
       "      <td>69,4</td>\n",
       "      <td>47,66</td>\n",
       "    </tr>\n",
       "    <tr>\n",
       "      <th>DESEMP_IDIOMA</th>\n",
       "      <td>NaN</td>\n",
       "      <td>NaN</td>\n",
       "      <td>NaN</td>\n",
       "    </tr>\n",
       "    <tr>\n",
       "      <th>NOMBRE_PROFUNDIZACION</th>\n",
       "      <td>PROFUNDIZACIÃN EN MATEMÃTICA</td>\n",
       "      <td>PROFUNDIZACIÃN EN CIENCIAS SOCIALES</td>\n",
       "      <td>PROFUNDIZACIÃN EN LENGUAJE</td>\n",
       "    </tr>\n",
       "    <tr>\n",
       "      <th>PUNT_PROFUNDIZACION</th>\n",
       "      <td>5,19</td>\n",
       "      <td>6,44</td>\n",
       "      <td>5,29</td>\n",
       "    </tr>\n",
       "    <tr>\n",
       "      <th>DESEMP_PROFUNDIZACION</th>\n",
       "      <td>I</td>\n",
       "      <td>II</td>\n",
       "      <td>I</td>\n",
       "    </tr>\n",
       "    <tr>\n",
       "      <th>NOMBRE_INTERDISCIPLINAR</th>\n",
       "      <td>MEDIO AMBIENTE</td>\n",
       "      <td>VIOLENCIA Y SOCIEDAD</td>\n",
       "      <td>VIOLENCIA Y SOCIEDAD</td>\n",
       "    </tr>\n",
       "    <tr>\n",
       "      <th>PUNT_INTERDISCIPLINAR</th>\n",
       "      <td>49,02</td>\n",
       "      <td>57,28</td>\n",
       "      <td>44,42</td>\n",
       "    </tr>\n",
       "    <tr>\n",
       "      <th>ESTU_PUESTO</th>\n",
       "      <td>635</td>\n",
       "      <td>18</td>\n",
       "      <td>263</td>\n",
       "    </tr>\n",
       "  </tbody>\n",
       "</table>\n",
       "<p>85 rows × 3 columns</p>\n",
       "</div>"
      ],
      "text/plain": [
       "                                                            0  \\\n",
       "ESTU_CONSECUTIVO                              SB1120062000001   \n",
       "PERIODO                                                 20062   \n",
       "ESTU_TIPO_DOCUMENTO                                         T   \n",
       "ESTU_PAIS_RESIDE                                           CO   \n",
       "ESTU_GENERO                                                 F   \n",
       "ESTU_NACIMIENTO_DIA                                         1   \n",
       "ESTU_NACIMIENTO_MES                                         6   \n",
       "ESTU_NACIMIENTO_ANNO                                     1994   \n",
       "ESTU_EDAD                                                  12   \n",
       "ESTU_LIMITA_BAJAVISION                                    NaN   \n",
       "ESTU_LIMITA_SORDOCEGUERA                                  NaN   \n",
       "ESTU_LIMITA_COGNITIVA                                     NaN   \n",
       "ESTU_LIMITA_INVIDENTE                                     NaN   \n",
       "ESTU_LIMITA_MOTRIZ                                        NaN   \n",
       "ESTU_LIMITA_SORDOINTERPRETE                               NaN   \n",
       "ESTU_LIMITA_SORDONOINTERPRETE                             NaN   \n",
       "ESTU_COD_RESIDE_MCPIO                                   13001   \n",
       "ESTU_RESIDE_MCPIO                                   CARTAGENA   \n",
       "ESTU_RESIDE_DEPTO                                    BOLÃVAR   \n",
       "ESTU_ZONA_RESIDE                                            1   \n",
       "ESTU_AREA_RESIDE                                          NaN   \n",
       "ESTU_COD_MCPIO_PRESENTACION                             13001   \n",
       "ESTU_MCPIO_PRESENTACION                             CARTAGENA   \n",
       "ESTU_DEPTO_PRESENTACION                              BOLÃVAR   \n",
       "ESTU_EXAM_NOMBREEXAMEN               EXAMEN DE ESTADO  (2006)   \n",
       "IND_ESTUDIO_BACHILLERATO                                    1   \n",
       "IND_ANNO_TERMINO_BACHILLERATO                            2006   \n",
       "IND_TERMINO_BACHILLERATO                                  NaN   \n",
       "IND_COD_ICFES_TERMINO                                  113597   \n",
       "COLE_COD_ICFES                                         113597   \n",
       "...                                                       ...   \n",
       "FAMI_INGRESO_FMILIAR_MENSUAL                              NaN   \n",
       "ESTU_TRABAJA                                              NaN   \n",
       "ESTU_HORAS_TRABAJA                                        NaN   \n",
       "COLE_VALOR_PENSION                                          7   \n",
       "ESTU_CARRDESEADA_TIPO                                     NaN   \n",
       "ESTU_CARRDESEADA_NUCLEO                                   NaN   \n",
       "ESTU_IES_COD_DESEADA                                     1711   \n",
       "ESTU_IES_DESEADA_NOMBRE              UNIVERSIDAD DE LA SABANA   \n",
       "ESTU_IES_COD_MPIO_DESEADA                               25175   \n",
       "ESTU_IES_MPIO_DESEADA                                    CHIA   \n",
       "ESTU_IES_DEPT_DESEADA                            CUNDINAMARCA   \n",
       "ESTU_RAZONINSTITUTO                                         3   \n",
       "ESTU_CARRDESEADA_COD                                    15254   \n",
       "ESTU_CARRDESEADA_RAZON                                      2   \n",
       "PUNT_LENGUAJE                                           49,43   \n",
       "PUNT_MATEMATICAS                                        42,69   \n",
       "PUNT_C_SOCIALES                                         47,97   \n",
       "PUNT_FILOSOFIA                                          44,92   \n",
       "PUNT_BIOLOGIA                                           39,22   \n",
       "PUNT_QUIMICA                                             47,6   \n",
       "PUNT_FISICA                                              26,2   \n",
       "NOMBRE_IDIOMA                                         INGLÃS   \n",
       "PUNT_IDIOMA                                              49,6   \n",
       "DESEMP_IDIOMA                                             NaN   \n",
       "NOMBRE_PROFUNDIZACION          PROFUNDIZACIÃN EN MATEMÃTICA   \n",
       "PUNT_PROFUNDIZACION                                      5,19   \n",
       "DESEMP_PROFUNDIZACION                                       I   \n",
       "NOMBRE_INTERDISCIPLINAR                        MEDIO AMBIENTE   \n",
       "PUNT_INTERDISCIPLINAR                                   49,02   \n",
       "ESTU_PUESTO                                               635   \n",
       "\n",
       "                                                                  1  \\\n",
       "ESTU_CONSECUTIVO                                    SB1120062000002   \n",
       "PERIODO                                                       20062   \n",
       "ESTU_TIPO_DOCUMENTO                                               T   \n",
       "ESTU_PAIS_RESIDE                                                 CO   \n",
       "ESTU_GENERO                                                       F   \n",
       "ESTU_NACIMIENTO_DIA                                              26   \n",
       "ESTU_NACIMIENTO_MES                                               7   \n",
       "ESTU_NACIMIENTO_ANNO                                           1990   \n",
       "ESTU_EDAD                                                        15   \n",
       "ESTU_LIMITA_BAJAVISION                                          NaN   \n",
       "ESTU_LIMITA_SORDOCEGUERA                                        NaN   \n",
       "ESTU_LIMITA_COGNITIVA                                           NaN   \n",
       "ESTU_LIMITA_INVIDENTE                                           NaN   \n",
       "ESTU_LIMITA_MOTRIZ                                              NaN   \n",
       "ESTU_LIMITA_SORDOINTERPRETE                                     NaN   \n",
       "ESTU_LIMITA_SORDONOINTERPRETE                                   NaN   \n",
       "ESTU_COD_RESIDE_MCPIO                                         13001   \n",
       "ESTU_RESIDE_MCPIO                                         CARTAGENA   \n",
       "ESTU_RESIDE_DEPTO                                          BOLÃVAR   \n",
       "ESTU_ZONA_RESIDE                                                  1   \n",
       "ESTU_AREA_RESIDE                                                NaN   \n",
       "ESTU_COD_MCPIO_PRESENTACION                                   13001   \n",
       "ESTU_MCPIO_PRESENTACION                                   CARTAGENA   \n",
       "ESTU_DEPTO_PRESENTACION                                    BOLÃVAR   \n",
       "ESTU_EXAM_NOMBREEXAMEN                     EXAMEN DE ESTADO  (2006)   \n",
       "IND_ESTUDIO_BACHILLERATO                                          1   \n",
       "IND_ANNO_TERMINO_BACHILLERATO                                  2006   \n",
       "IND_TERMINO_BACHILLERATO                                        NaN   \n",
       "IND_COD_ICFES_TERMINO                                        113597   \n",
       "COLE_COD_ICFES                                               113597   \n",
       "...                                                             ...   \n",
       "FAMI_INGRESO_FMILIAR_MENSUAL                                    NaN   \n",
       "ESTU_TRABAJA                                                    NaN   \n",
       "ESTU_HORAS_TRABAJA                                              NaN   \n",
       "COLE_VALOR_PENSION                                                7   \n",
       "ESTU_CARRDESEADA_TIPO                                           NaN   \n",
       "ESTU_CARRDESEADA_NUCLEO                                         NaN   \n",
       "ESTU_IES_COD_DESEADA                                            NaN   \n",
       "ESTU_IES_DESEADA_NOMBRE                                         NaN   \n",
       "ESTU_IES_COD_MPIO_DESEADA                                       NaN   \n",
       "ESTU_IES_MPIO_DESEADA                                           NaN   \n",
       "ESTU_IES_DEPT_DESEADA                                           NaN   \n",
       "ESTU_RAZONINSTITUTO                                               3   \n",
       "ESTU_CARRDESEADA_COD                                            NaN   \n",
       "ESTU_CARRDESEADA_RAZON                                            2   \n",
       "PUNT_LENGUAJE                                                 57,14   \n",
       "PUNT_MATEMATICAS                                               55,8   \n",
       "PUNT_C_SOCIALES                                               69,03   \n",
       "PUNT_FILOSOFIA                                                58,26   \n",
       "PUNT_BIOLOGIA                                                 61,19   \n",
       "PUNT_QUIMICA                                                  50,87   \n",
       "PUNT_FISICA                                                   53,97   \n",
       "NOMBRE_IDIOMA                                               INGLÃS   \n",
       "PUNT_IDIOMA                                                    69,4   \n",
       "DESEMP_IDIOMA                                                   NaN   \n",
       "NOMBRE_PROFUNDIZACION          PROFUNDIZACIÃN EN CIENCIAS SOCIALES   \n",
       "PUNT_PROFUNDIZACION                                            6,44   \n",
       "DESEMP_PROFUNDIZACION                                            II   \n",
       "NOMBRE_INTERDISCIPLINAR                        VIOLENCIA Y SOCIEDAD   \n",
       "PUNT_INTERDISCIPLINAR                                         57,28   \n",
       "ESTU_PUESTO                                                      18   \n",
       "\n",
       "                                                         2  \n",
       "ESTU_CONSECUTIVO                           SB1120062000003  \n",
       "PERIODO                                              20062  \n",
       "ESTU_TIPO_DOCUMENTO                                      T  \n",
       "ESTU_PAIS_RESIDE                                        CO  \n",
       "ESTU_GENERO                                              F  \n",
       "ESTU_NACIMIENTO_DIA                                     11  \n",
       "ESTU_NACIMIENTO_MES                                      1  \n",
       "ESTU_NACIMIENTO_ANNO                                  1989  \n",
       "ESTU_EDAD                                               17  \n",
       "ESTU_LIMITA_BAJAVISION                                 NaN  \n",
       "ESTU_LIMITA_SORDOCEGUERA                               NaN  \n",
       "ESTU_LIMITA_COGNITIVA                                  NaN  \n",
       "ESTU_LIMITA_INVIDENTE                                  NaN  \n",
       "ESTU_LIMITA_MOTRIZ                                     NaN  \n",
       "ESTU_LIMITA_SORDOINTERPRETE                            NaN  \n",
       "ESTU_LIMITA_SORDONOINTERPRETE                          NaN  \n",
       "ESTU_COD_RESIDE_MCPIO                                13001  \n",
       "ESTU_RESIDE_MCPIO                                CARTAGENA  \n",
       "ESTU_RESIDE_DEPTO                                 BOLÃVAR  \n",
       "ESTU_ZONA_RESIDE                                         1  \n",
       "ESTU_AREA_RESIDE                                       NaN  \n",
       "ESTU_COD_MCPIO_PRESENTACION                          13001  \n",
       "ESTU_MCPIO_PRESENTACION                          CARTAGENA  \n",
       "ESTU_DEPTO_PRESENTACION                           BOLÃVAR  \n",
       "ESTU_EXAM_NOMBREEXAMEN            EXAMEN DE ESTADO  (2006)  \n",
       "IND_ESTUDIO_BACHILLERATO                                 1  \n",
       "IND_ANNO_TERMINO_BACHILLERATO                         2006  \n",
       "IND_TERMINO_BACHILLERATO                               NaN  \n",
       "IND_COD_ICFES_TERMINO                               113597  \n",
       "COLE_COD_ICFES                                      113597  \n",
       "...                                                    ...  \n",
       "FAMI_INGRESO_FMILIAR_MENSUAL                           NaN  \n",
       "ESTU_TRABAJA                                           NaN  \n",
       "ESTU_HORAS_TRABAJA                                     NaN  \n",
       "COLE_VALOR_PENSION                                       7  \n",
       "ESTU_CARRDESEADA_TIPO                                  NaN  \n",
       "ESTU_CARRDESEADA_NUCLEO                                NaN  \n",
       "ESTU_IES_COD_DESEADA                                  1711  \n",
       "ESTU_IES_DESEADA_NOMBRE           UNIVERSIDAD DE LA SABANA  \n",
       "ESTU_IES_COD_MPIO_DESEADA                            25175  \n",
       "ESTU_IES_MPIO_DESEADA                                 CHIA  \n",
       "ESTU_IES_DEPT_DESEADA                         CUNDINAMARCA  \n",
       "ESTU_RAZONINSTITUTO                                      3  \n",
       "ESTU_CARRDESEADA_COD                                  7320  \n",
       "ESTU_CARRDESEADA_RAZON                                   3  \n",
       "PUNT_LENGUAJE                                        57,14  \n",
       "PUNT_MATEMATICAS                                     42,69  \n",
       "PUNT_C_SOCIALES                                      46,05  \n",
       "PUNT_FILOSOFIA                                       51,78  \n",
       "PUNT_BIOLOGIA                                        44,05  \n",
       "PUNT_QUIMICA                                         45,87  \n",
       "PUNT_FISICA                                          51,55  \n",
       "NOMBRE_IDIOMA                                      INGLÃS  \n",
       "PUNT_IDIOMA                                          47,66  \n",
       "DESEMP_IDIOMA                                          NaN  \n",
       "NOMBRE_PROFUNDIZACION          PROFUNDIZACIÃN EN LENGUAJE  \n",
       "PUNT_PROFUNDIZACION                                   5,29  \n",
       "DESEMP_PROFUNDIZACION                                    I  \n",
       "NOMBRE_INTERDISCIPLINAR               VIOLENCIA Y SOCIEDAD  \n",
       "PUNT_INTERDISCIPLINAR                                44,42  \n",
       "ESTU_PUESTO                                            263  \n",
       "\n",
       "[85 rows x 3 columns]"
      ]
     },
     "execution_count": 118,
     "metadata": {},
     "output_type": "execute_result"
    }
   ],
   "source": [
    "data_2006_2.head(3).T"
   ]
  },
  {
   "cell_type": "markdown",
   "metadata": {},
   "source": [
    "First delete the columns that wont' contribute to the work"
   ]
  },
  {
   "cell_type": "code",
   "execution_count": 119,
   "metadata": {
    "collapsed": true
   },
   "outputs": [],
   "source": [
    "data_2006_2 = data_2006_2.drop(['ESTU_CONSECUTIVO', 'PERIODO', 'ESTU_TIPO_DOCUMENTO', 'ESTU_COD_RESIDE_MCPIO', \n",
    "                                'ESTU_COD_MCPIO_PRESENTACION', 'ESTU_IES_DESEADA_NOMBRE', 'ESTU_IES_COD_MPIO_DESEADA'], axis=1)"
   ]
  },
  {
   "cell_type": "code",
   "execution_count": 120,
   "metadata": {
    "collapsed": false,
    "scrolled": true
   },
   "outputs": [
    {
     "name": "stdout",
     "output_type": "stream",
     "text": [
      "Index(['AR', 'BO', 'BR', 'CO', 'CR', 'DE', 'DM', 'DO', 'EC', 'ES', 'ET', 'IT',\n",
      "       'JP', 'KR', 'MX', 'PE', 'UK', 'US', 'VE'],\n",
      "      dtype='object')\n",
      "AR         4\n",
      "BO         2\n",
      "BR         1\n",
      "CO    408129\n",
      "CR         1\n",
      "DE         2\n",
      "DM         1\n",
      "DO         1\n",
      "EC         5\n",
      "ES         3\n",
      "ET         1\n",
      "IT         1\n",
      "JP         1\n",
      "KR         2\n",
      "MX         2\n",
      "PE         9\n",
      "UK         1\n",
      "US        21\n",
      "VE        16\n",
      "Name: ESTU_PAIS_RESIDE, dtype: int64\n",
      "Elementos null/NaN 123\n",
      "__________________\n",
      "Elementos diferentes de null/NaN: 408203\n",
      "__________________\n",
      "(408203,)\n",
      "None\n"
     ]
    }
   ],
   "source": [
    "c = 'ESTU_PAIS_RESIDE'\n",
    "print(data_2006_2[c].value_counts().sort_index().index)\n",
    "print(data_2006_2[c].value_counts().sort_index())\n",
    "print(missing_data(data_2006_2[c]))"
   ]
  },
  {
   "cell_type": "code",
   "execution_count": 121,
   "metadata": {
    "collapsed": false
   },
   "outputs": [
    {
     "name": "stdout",
     "output_type": "stream",
     "text": [
      "Index(['F', 'M'], dtype='object')\n",
      "F    220451\n",
      "M    187717\n",
      "Name: ESTU_GENERO, dtype: int64\n",
      "Elementos null/NaN 158\n",
      "__________________\n",
      "Elementos diferentes de null/NaN: 408168\n",
      "__________________\n",
      "(408168,)\n",
      "None\n"
     ]
    }
   ],
   "source": [
    "c = 'ESTU_GENERO'\n",
    "print(data_2006_2[c].value_counts().sort_index().index)\n",
    "print(data_2006_2[c].value_counts().sort_index())\n",
    "print(missing_data(data_2006_2[c]))"
   ]
  },
  {
   "cell_type": "code",
   "execution_count": 122,
   "metadata": {
    "collapsed": false,
    "scrolled": true
   },
   "outputs": [
    {
     "name": "stdout",
     "output_type": "stream",
     "text": [
      "Float64Index([ 1.0,  2.0,  3.0,  4.0,  5.0,  6.0,  7.0,  8.0,  9.0, 10.0, 11.0,\n",
      "              12.0, 13.0, 14.0, 15.0, 16.0, 17.0, 18.0, 19.0, 20.0, 21.0, 22.0,\n",
      "              23.0, 24.0, 25.0, 26.0, 27.0, 28.0, 29.0, 30.0, 31.0],\n",
      "             dtype='float64')\n",
      "1.0     13667\n",
      "2.0     13431\n",
      "3.0     13280\n",
      "4.0     13508\n",
      "5.0     13625\n",
      "6.0     13526\n",
      "7.0     13381\n",
      "8.0     13344\n",
      "9.0     13283\n",
      "10.0    13896\n",
      "11.0    13174\n",
      "12.0    13655\n",
      "13.0    13057\n",
      "14.0    13372\n",
      "15.0    13711\n",
      "16.0    13347\n",
      "17.0    13638\n",
      "18.0    13425\n",
      "19.0    13065\n",
      "20.0    13836\n",
      "21.0    13050\n",
      "22.0    13292\n",
      "23.0    13159\n",
      "24.0    13281\n",
      "25.0    13222\n",
      "26.0    13476\n",
      "27.0    13306\n",
      "28.0    13681\n",
      "29.0    12284\n",
      "30.0    12221\n",
      "31.0     7445\n",
      "Name: ESTU_NACIMIENTO_DIA, dtype: int64\n",
      "Elementos null/NaN 688\n",
      "__________________\n",
      "Elementos diferentes de null/NaN: 407638\n",
      "__________________\n",
      "(407638,)\n",
      "None\n"
     ]
    }
   ],
   "source": [
    "c = 'ESTU_NACIMIENTO_DIA'\n",
    "print(data_2006_2[c].value_counts().sort_index().index)\n",
    "print(data_2006_2[c].value_counts().sort_index())\n",
    "print(missing_data(data_2006_2[c]))"
   ]
  },
  {
   "cell_type": "code",
   "execution_count": 123,
   "metadata": {
    "collapsed": false
   },
   "outputs": [
    {
     "name": "stdout",
     "output_type": "stream",
     "text": [
      "Float64Index([1.0, 2.0, 3.0, 4.0, 5.0, 6.0, 7.0, 8.0, 9.0, 10.0, 11.0, 12.0], dtype='float64')\n",
      "1.0     34113\n",
      "2.0     30507\n",
      "3.0     33774\n",
      "4.0     32565\n",
      "5.0     33724\n",
      "6.0     32777\n",
      "7.0     33736\n",
      "8.0     34443\n",
      "9.0     35786\n",
      "10.0    36282\n",
      "11.0    34855\n",
      "12.0    35076\n",
      "Name: ESTU_NACIMIENTO_MES, dtype: int64\n",
      "Elementos null/NaN 688\n",
      "__________________\n",
      "Elementos diferentes de null/NaN: 407638\n",
      "__________________\n",
      "(407638,)\n",
      "None\n"
     ]
    }
   ],
   "source": [
    "c = 'ESTU_NACIMIENTO_MES'\n",
    "print(data_2006_2[c].value_counts().sort_index().index)\n",
    "print(data_2006_2[c].value_counts().sort_index())\n",
    "print(missing_data(data_2006_2[c]))"
   ]
  },
  {
   "cell_type": "code",
   "execution_count": 124,
   "metadata": {
    "collapsed": false,
    "scrolled": true
   },
   "outputs": [
    {
     "name": "stdout",
     "output_type": "stream",
     "text": [
      "Float64Index([ 982.0, 1930.0, 1931.0, 1932.0, 1933.0, 1934.0, 1935.0, 1936.0,\n",
      "              1937.0, 1938.0, 1939.0, 1940.0, 1941.0, 1942.0, 1943.0, 1944.0,\n",
      "              1945.0, 1946.0, 1947.0, 1948.0, 1949.0, 1950.0, 1951.0, 1952.0,\n",
      "              1953.0, 1954.0, 1955.0, 1956.0, 1957.0, 1958.0, 1959.0, 1960.0,\n",
      "              1961.0, 1962.0, 1963.0, 1964.0, 1965.0, 1966.0, 1967.0, 1968.0,\n",
      "              1969.0, 1970.0, 1971.0, 1972.0, 1973.0, 1974.0, 1975.0, 1976.0,\n",
      "              1977.0, 1978.0, 1979.0, 1980.0, 1981.0, 1982.0, 1983.0, 1984.0,\n",
      "              1985.0, 1986.0, 1987.0, 1988.0, 1989.0, 1990.0, 1991.0, 1992.0,\n",
      "              1993.0, 1994.0, 1995.0, 1996.0, 1997.0, 1998.0, 1999.0, 2000.0,\n",
      "              2001.0, 2002.0, 2088.0, 2089.0, 2090.0, 2091.0],\n",
      "             dtype='float64')\n",
      "982.0          1\n",
      "1930.0        14\n",
      "1931.0         5\n",
      "1932.0         5\n",
      "1933.0         3\n",
      "1934.0         2\n",
      "1935.0         5\n",
      "1936.0         9\n",
      "1937.0        17\n",
      "1938.0        17\n",
      "1939.0        14\n",
      "1940.0         9\n",
      "1941.0         3\n",
      "1942.0         2\n",
      "1943.0         9\n",
      "1944.0         6\n",
      "1945.0        12\n",
      "1946.0         9\n",
      "1947.0        10\n",
      "1948.0        14\n",
      "1949.0        21\n",
      "1950.0        29\n",
      "1951.0        26\n",
      "1952.0        26\n",
      "1953.0        36\n",
      "1954.0        47\n",
      "1955.0        74\n",
      "1956.0        86\n",
      "1957.0        97\n",
      "1958.0        89\n",
      "           ...  \n",
      "1977.0       845\n",
      "1978.0       912\n",
      "1979.0      1116\n",
      "1980.0      1385\n",
      "1981.0      1472\n",
      "1982.0      1848\n",
      "1983.0      2387\n",
      "1984.0      3730\n",
      "1985.0      6779\n",
      "1986.0     14845\n",
      "1987.0     34490\n",
      "1988.0     74011\n",
      "1989.0    141551\n",
      "1990.0     91467\n",
      "1991.0     10263\n",
      "1992.0      3127\n",
      "1993.0      2485\n",
      "1994.0      6730\n",
      "1995.0         4\n",
      "1996.0         3\n",
      "1997.0         2\n",
      "1998.0        14\n",
      "1999.0         1\n",
      "2000.0        21\n",
      "2001.0        10\n",
      "2002.0         9\n",
      "2088.0         2\n",
      "2089.0         1\n",
      "2090.0         4\n",
      "2091.0         1\n",
      "Name: ESTU_NACIMIENTO_ANNO, dtype: int64\n",
      "Elementos null/NaN 688\n",
      "__________________\n",
      "Elementos diferentes de null/NaN: 407638\n",
      "__________________\n",
      "(407638,)\n",
      "None\n"
     ]
    }
   ],
   "source": [
    "c = 'ESTU_NACIMIENTO_ANNO'\n",
    "print(data_2006_2[c].value_counts().sort_index().index)\n",
    "print(data_2006_2[c].value_counts().sort_index())\n",
    "print(missing_data(data_2006_2[c]))"
   ]
  },
  {
   "cell_type": "code",
   "execution_count": 125,
   "metadata": {
    "collapsed": true
   },
   "outputs": [],
   "source": [
    "for i in data_2006_2[c].value_counts().sort_index().index:\n",
    "    if i < 1930:\n",
    "        data_2006_2['ESTU_NACIMIENTO_ANNO'] = data_2006_2['ESTU_NACIMIENTO_ANNO'].replace(i, np.nan)\n",
    "    elif i > 1995:\n",
    "        data_2006_2['ESTU_NACIMIENTO_ANNO'] = data_2006_2['ESTU_NACIMIENTO_ANNO'].replace(i, np.nan)"
   ]
  },
  {
   "cell_type": "code",
   "execution_count": 126,
   "metadata": {
    "collapsed": false,
    "scrolled": true
   },
   "outputs": [
    {
     "name": "stdout",
     "output_type": "stream",
     "text": [
      "Int64Index([11, 12, 13, 14, 15, 16, 17, 18, 19, 20, 21, 22, 23, 24, 25, 26, 27,\n",
      "            28, 29, 30, 31, 32, 33, 34, 35, 36, 37, 38, 39, 40, 41, 42, 43, 44,\n",
      "            45, 46, 47, 48, 49, 50, 51, 52, 53, 54, 55, 56, 57, 58, 59, 60, 61,\n",
      "            62, 63, 64, 65, 66, 67, 68, 69, 70, 71, 72, 73, 74, 75, 76],\n",
      "           dtype='int64')\n",
      "11      2497\n",
      "12      5539\n",
      "13      2900\n",
      "14      4200\n",
      "15     25970\n",
      "16    140057\n",
      "17    110345\n",
      "18     55159\n",
      "19     25264\n",
      "20     10787\n",
      "21      5345\n",
      "22      3091\n",
      "23      2157\n",
      "24      1714\n",
      "25      1377\n",
      "26      1303\n",
      "27      1053\n",
      "28       865\n",
      "29       809\n",
      "30       689\n",
      "31       672\n",
      "32       563\n",
      "33       578\n",
      "34       541\n",
      "35       464\n",
      "36       639\n",
      "37       570\n",
      "38       476\n",
      "39       385\n",
      "40       354\n",
      "       ...  \n",
      "47        94\n",
      "48       100\n",
      "49        97\n",
      "50        78\n",
      "51        61\n",
      "52        46\n",
      "53        31\n",
      "54        30\n",
      "55        23\n",
      "56        24\n",
      "57        20\n",
      "58        12\n",
      "59         8\n",
      "60        14\n",
      "61         9\n",
      "62         4\n",
      "63         9\n",
      "64         1\n",
      "65         8\n",
      "66        10\n",
      "67        13\n",
      "68        18\n",
      "69        14\n",
      "70        11\n",
      "71         3\n",
      "72         3\n",
      "73         4\n",
      "74         4\n",
      "75        10\n",
      "76         9\n",
      "Name: ESTU_EDAD, dtype: int64\n",
      "Elementos null/NaN 0\n",
      "__________________\n",
      "Elementos diferentes de null/NaN: 408326\n",
      "__________________\n",
      "(408326,)\n",
      "None\n"
     ]
    }
   ],
   "source": [
    "c = 'ESTU_EDAD'\n",
    "print(data_2006_2[c].value_counts().sort_index().index)\n",
    "print(data_2006_2[c].value_counts().sort_index())\n",
    "print(missing_data(data_2006_2[c]))"
   ]
  },
  {
   "cell_type": "code",
   "execution_count": 127,
   "metadata": {
    "collapsed": false
   },
   "outputs": [
    {
     "name": "stdout",
     "output_type": "stream",
     "text": [
      "Float64Index([], dtype='float64')\n",
      "Series([], Name: ESTU_LIMITA_BAJAVISION, dtype: int64)\n",
      "Elementos null/NaN 408326\n",
      "__________________\n",
      "Elementos diferentes de null/NaN: 0\n",
      "__________________\n",
      "(0,)\n",
      "None\n"
     ]
    }
   ],
   "source": [
    "c = 'ESTU_LIMITA_BAJAVISION'\n",
    "print(data_2006_2[c].value_counts().sort_index().index)\n",
    "print(data_2006_2[c].value_counts().sort_index())\n",
    "print(missing_data(data_2006_2[c]))"
   ]
  },
  {
   "cell_type": "code",
   "execution_count": 128,
   "metadata": {
    "collapsed": true
   },
   "outputs": [],
   "source": [
    "data_2006_2 = data_2006_2.drop(['ESTU_LIMITA_BAJAVISION'], axis = 1)"
   ]
  },
  {
   "cell_type": "code",
   "execution_count": 129,
   "metadata": {
    "collapsed": false
   },
   "outputs": [
    {
     "name": "stdout",
     "output_type": "stream",
     "text": [
      "Float64Index([], dtype='float64')\n",
      "Series([], Name: ESTU_LIMITA_SORDOCEGUERA, dtype: int64)\n",
      "Elementos null/NaN 408326\n",
      "__________________\n",
      "Elementos diferentes de null/NaN: 0\n",
      "__________________\n",
      "(0,)\n",
      "None\n"
     ]
    }
   ],
   "source": [
    "c = 'ESTU_LIMITA_SORDOCEGUERA'\n",
    "print(data_2006_2[c].value_counts().sort_index().index)\n",
    "print(data_2006_2[c].value_counts().sort_index())\n",
    "print(missing_data(data_2006_2[c]))"
   ]
  },
  {
   "cell_type": "code",
   "execution_count": 130,
   "metadata": {
    "collapsed": false,
    "scrolled": true
   },
   "outputs": [],
   "source": [
    "data_2006_2 = data_2006_2.drop([c], axis = 1)"
   ]
  },
  {
   "cell_type": "code",
   "execution_count": 131,
   "metadata": {
    "collapsed": false
   },
   "outputs": [
    {
     "name": "stdout",
     "output_type": "stream",
     "text": [
      "Float64Index([], dtype='float64')\n",
      "Series([], Name: ESTU_LIMITA_COGNITIVA, dtype: int64)\n",
      "Elementos null/NaN 408326\n",
      "__________________\n",
      "Elementos diferentes de null/NaN: 0\n",
      "__________________\n",
      "(0,)\n",
      "None\n"
     ]
    }
   ],
   "source": [
    "c = 'ESTU_LIMITA_COGNITIVA'\n",
    "print(data_2006_2[c].value_counts().sort_index().index)\n",
    "print(data_2006_2[c].value_counts().sort_index())\n",
    "print(missing_data(data_2006_2[c]))"
   ]
  },
  {
   "cell_type": "code",
   "execution_count": 132,
   "metadata": {
    "collapsed": false,
    "scrolled": true
   },
   "outputs": [],
   "source": [
    "data_2006_2 = data_2006_2.drop([c], axis = 1)"
   ]
  },
  {
   "cell_type": "code",
   "execution_count": 133,
   "metadata": {
    "collapsed": false
   },
   "outputs": [
    {
     "name": "stdout",
     "output_type": "stream",
     "text": [
      "Float64Index([], dtype='float64')\n",
      "Series([], Name: ESTU_LIMITA_INVIDENTE, dtype: int64)\n",
      "Elementos null/NaN 408326\n",
      "__________________\n",
      "Elementos diferentes de null/NaN: 0\n",
      "__________________\n",
      "(0,)\n",
      "None\n"
     ]
    }
   ],
   "source": [
    "c = 'ESTU_LIMITA_INVIDENTE'\n",
    "print(data_2006_2[c].value_counts().sort_index().index)\n",
    "print(data_2006_2[c].value_counts().sort_index())\n",
    "print(missing_data(data_2006_2[c]))"
   ]
  },
  {
   "cell_type": "code",
   "execution_count": 134,
   "metadata": {
    "collapsed": false,
    "scrolled": true
   },
   "outputs": [],
   "source": [
    "data_2006_2 = data_2006_2.drop([c], axis = 1)"
   ]
  },
  {
   "cell_type": "code",
   "execution_count": 135,
   "metadata": {
    "collapsed": false
   },
   "outputs": [
    {
     "name": "stdout",
     "output_type": "stream",
     "text": [
      "Float64Index([], dtype='float64')\n",
      "Series([], Name: ESTU_LIMITA_MOTRIZ, dtype: int64)\n",
      "Elementos null/NaN 408326\n",
      "__________________\n",
      "Elementos diferentes de null/NaN: 0\n",
      "__________________\n",
      "(0,)\n",
      "None\n"
     ]
    }
   ],
   "source": [
    "c = 'ESTU_LIMITA_MOTRIZ'\n",
    "print(data_2006_2[c].value_counts().sort_index().index)\n",
    "print(data_2006_2[c].value_counts().sort_index())\n",
    "print(missing_data(data_2006_2[c]))"
   ]
  },
  {
   "cell_type": "code",
   "execution_count": 136,
   "metadata": {
    "collapsed": false,
    "scrolled": true
   },
   "outputs": [],
   "source": [
    "data_2006_2 = data_2006_2.drop([c], axis = 1)"
   ]
  },
  {
   "cell_type": "code",
   "execution_count": 137,
   "metadata": {
    "collapsed": false
   },
   "outputs": [
    {
     "name": "stdout",
     "output_type": "stream",
     "text": [
      "Float64Index([], dtype='float64')\n",
      "Series([], Name: ESTU_LIMITA_SORDOINTERPRETE, dtype: int64)\n",
      "Elementos null/NaN 408326\n",
      "__________________\n",
      "Elementos diferentes de null/NaN: 0\n",
      "__________________\n",
      "(0,)\n",
      "None\n"
     ]
    }
   ],
   "source": [
    "c = 'ESTU_LIMITA_SORDOINTERPRETE'\n",
    "print(data_2006_2[c].value_counts().sort_index().index)\n",
    "print(data_2006_2[c].value_counts().sort_index())\n",
    "print(missing_data(data_2006_2[c]))"
   ]
  },
  {
   "cell_type": "code",
   "execution_count": 138,
   "metadata": {
    "collapsed": false,
    "scrolled": true
   },
   "outputs": [],
   "source": [
    "data_2006_2 = data_2006_2.drop([c], axis = 1)"
   ]
  },
  {
   "cell_type": "code",
   "execution_count": 139,
   "metadata": {
    "collapsed": false
   },
   "outputs": [
    {
     "name": "stdout",
     "output_type": "stream",
     "text": [
      "Float64Index([], dtype='float64')\n",
      "Series([], Name: ESTU_LIMITA_SORDONOINTERPRETE, dtype: int64)\n",
      "Elementos null/NaN 408326\n",
      "__________________\n",
      "Elementos diferentes de null/NaN: 0\n",
      "__________________\n",
      "(0,)\n",
      "None\n"
     ]
    }
   ],
   "source": [
    "c = 'ESTU_LIMITA_SORDONOINTERPRETE'\n",
    "print(data_2006_2[c].value_counts().sort_index().index)\n",
    "print(data_2006_2[c].value_counts().sort_index())\n",
    "print(missing_data(data_2006_2[c]))"
   ]
  },
  {
   "cell_type": "code",
   "execution_count": 140,
   "metadata": {
    "collapsed": false,
    "scrolled": true
   },
   "outputs": [],
   "source": [
    "data_2006_2 = data_2006_2.drop([c], axis = 1)"
   ]
  },
  {
   "cell_type": "code",
   "execution_count": 141,
   "metadata": {
    "collapsed": false,
    "scrolled": true
   },
   "outputs": [
    {
     "name": "stdout",
     "output_type": "stream",
     "text": [
      "Index(['ABEJORRAL', 'ABREGO', 'ABRIAQUI', 'ACACIAS', 'ACANDI', 'ACEVEDO',\n",
      "       'ACHI', 'AGRADO', 'AGUA DE DIOS', 'AGUACHICA',\n",
      "       ...\n",
      "       'YUMBO', 'ZAMBRANO', 'ZAPATOCA', 'ZAPAYAN', 'ZARAGOZA', 'ZARZAL',\n",
      "       'ZETAQUIRA', 'ZIPACON', 'ZIPAQUIRA', 'ZONA BANANERA'],\n",
      "      dtype='object', length=968)\n",
      "ABEJORRAL                    128\n",
      "ABREGO                       118\n",
      "ABRIAQUI                      24\n",
      "ACACIAS                      782\n",
      "ACANDI                        35\n",
      "ACEVEDO                       90\n",
      "ACHI                         166\n",
      "AGRADO                        94\n",
      "AGUA DE DIOS                 156\n",
      "AGUACHICA                    771\n",
      "AGUADA                        23\n",
      "AGUADAS                      232\n",
      "AGUAZUL                      449\n",
      "AGUSTIN CODAZZI              510\n",
      "AIPE                         113\n",
      "ALBAN                         66\n",
      "ALBANIA                      135\n",
      "ALCALA                         6\n",
      "ALDANA                         1\n",
      "ALEJANDRIA                    29\n",
      "ALGARROBO                    110\n",
      "ALGECIRAS                    100\n",
      "ALMAGUER                      48\n",
      "ALMEIDA                       37\n",
      "ALPUJARRA                     46\n",
      "ALTAMIRA                      29\n",
      "ALTO BAUDO (PIE DE PATO)      70\n",
      "ALTOS DEL ROSARIO             68\n",
      "ALVARADO                      57\n",
      "AMAGA                        257\n",
      "                            ... \n",
      "VILLAMARIA                   487\n",
      "VILLANUEVA                   696\n",
      "VILLAPINZON                  218\n",
      "VILLARRICA                    75\n",
      "VILLAVICENCIO               4880\n",
      "VILLAVIEJA                    59\n",
      "VILLETA                      306\n",
      "VIOTA                        106\n",
      "VIRACACHA                     23\n",
      "VISTA HERMOSA                 55\n",
      "VITERBO                      212\n",
      "YACOPI                        81\n",
      "YAGUARA                      129\n",
      "YALI                          56\n",
      "YARUMAL                      446\n",
      "YAVARATE                      11\n",
      "YOLOMBO                      150\n",
      "YONDO (CASABE)                98\n",
      "YOPAL                       1353\n",
      "YOTOCO                         1\n",
      "YUMBO                        105\n",
      "ZAMBRANO                     118\n",
      "ZAPATOCA                      83\n",
      "ZAPAYAN                       51\n",
      "ZARAGOZA                     205\n",
      "ZARZAL                        20\n",
      "ZETAQUIRA                     92\n",
      "ZIPACON                       30\n",
      "ZIPAQUIRA                   1461\n",
      "ZONA BANANERA                370\n",
      "Name: ESTU_RESIDE_MCPIO, dtype: int64\n",
      "Elementos null/NaN 158\n",
      "__________________\n",
      "Elementos diferentes de null/NaN: 408168\n",
      "__________________\n",
      "(408168,)\n",
      "None\n"
     ]
    }
   ],
   "source": [
    "c = 'ESTU_RESIDE_MCPIO'\n",
    "print(data_2006_2[c].value_counts().sort_index().index)\n",
    "print(data_2006_2[c].value_counts().sort_index())\n",
    "print(missing_data(data_2006_2[c]))"
   ]
  },
  {
   "cell_type": "code",
   "execution_count": 142,
   "metadata": {
    "collapsed": false,
    "scrolled": true
   },
   "outputs": [
    {
     "name": "stdout",
     "output_type": "stream",
     "text": [
      "Index(['AMAZONAS', 'ANTIOQUIA', 'ARAUCA', 'ATLÃNTICO', 'BOGOTÃ', 'BOLÃVAR',\n",
      "       'BOYACÃ', 'CALDAS', 'CAQUETÃ', 'CASANARE', 'CAUCA', 'CESAR', 'CHOCÃ',\n",
      "       'CUNDINAMARCA', 'CÃRDOBA', 'GUAINÃA', 'GUAVIARE', 'HUILA',\n",
      "       'LA GUAJIRA', 'MAGDALENA', 'META', 'NARIÃO', 'NORTE SANTANDER',\n",
      "       'PUTUMAYO', 'QUINDÃO', 'RISARALDA', 'SAN ANDRÃS', 'SANTANDER',\n",
      "       'SUCRE', 'TOLIMA', 'VALLE', 'VAUPÃS', 'VICHADA'],\n",
      "      dtype='object')\n",
      "AMAZONAS             622\n",
      "ANTIOQUIA          61166\n",
      "ARAUCA              1994\n",
      "ATLÃNTICO         26149\n",
      "BOGOTÃ            86742\n",
      "BOLÃVAR           20702\n",
      "BOYACÃ            15029\n",
      "CALDAS             10328\n",
      "CAQUETÃ            2770\n",
      "CASANARE            3162\n",
      "CAUCA               8306\n",
      "CESAR               9325\n",
      "CHOCÃ              3600\n",
      "CUNDINAMARCA       27681\n",
      "CÃRDOBA           15118\n",
      "GUAINÃA             108\n",
      "GUAVIARE             480\n",
      "HUILA               9106\n",
      "LA GUAJIRA          5733\n",
      "MAGDALENA          11315\n",
      "META                8052\n",
      "NARIÃO              400\n",
      "NORTE SANTANDER    13841\n",
      "PUTUMAYO            1883\n",
      "QUINDÃO            5587\n",
      "RISARALDA           9396\n",
      "SAN ANDRÃS          774\n",
      "SANTANDER          22510\n",
      "SUCRE               9731\n",
      "TOLIMA             14086\n",
      "VALLE               1987\n",
      "VAUPÃS              176\n",
      "VICHADA              309\n",
      "Name: ESTU_RESIDE_DEPTO, dtype: int64\n",
      "Elementos null/NaN 158\n",
      "__________________\n",
      "Elementos diferentes de null/NaN: 408168\n",
      "__________________\n",
      "(408168,)\n",
      "None\n"
     ]
    }
   ],
   "source": [
    "c = 'ESTU_RESIDE_DEPTO'\n",
    "print(data_2006_2[c].value_counts().sort_index().index)\n",
    "print(data_2006_2[c].value_counts().sort_index())\n",
    "print(missing_data(data_2006_2[c]))"
   ]
  },
  {
   "cell_type": "code",
   "execution_count": 143,
   "metadata": {
    "collapsed": false
   },
   "outputs": [],
   "source": [
    "data_2006_2['ESTU_RESIDE_DEPTO'] = data_2006_2['ESTU_RESIDE_DEPTO'].replace('ATLÃNTICO', 'ATLANTICO')\n",
    "data_2006_2['ESTU_RESIDE_DEPTO'] = data_2006_2['ESTU_RESIDE_DEPTO'].replace('BOGOTÃ', 'BOGOTA')\n",
    "data_2006_2['ESTU_RESIDE_DEPTO'] = data_2006_2['ESTU_RESIDE_DEPTO'].replace('BOLÃVAR', 'BOLIVAR')\n",
    "data_2006_2['ESTU_RESIDE_DEPTO'] = data_2006_2['ESTU_RESIDE_DEPTO'].replace('BOYACÃ', 'BOYACA')\n",
    "data_2006_2['ESTU_RESIDE_DEPTO'] = data_2006_2['ESTU_RESIDE_DEPTO'].replace('CAQUETÃ', 'CAQUETA')\n",
    "data_2006_2['ESTU_RESIDE_DEPTO'] = data_2006_2['ESTU_RESIDE_DEPTO'].replace('CHOCÃ', 'CHOCO')\n",
    "data_2006_2['ESTU_RESIDE_DEPTO'] = data_2006_2['ESTU_RESIDE_DEPTO'].replace('CÃRDOBA', 'CORDOBA')\n",
    "data_2006_2['ESTU_RESIDE_DEPTO'] = data_2006_2['ESTU_RESIDE_DEPTO'].replace('GUAINÃA', 'GUAINIA')\n",
    "data_2006_2['ESTU_RESIDE_DEPTO'] = data_2006_2['ESTU_RESIDE_DEPTO'].replace('NARIÃO', 'NARIÑO')\n",
    "data_2006_2['ESTU_RESIDE_DEPTO'] = data_2006_2['ESTU_RESIDE_DEPTO'].replace('QUINDÃO', 'QUINDIO')\n",
    "data_2006_2['ESTU_RESIDE_DEPTO'] = data_2006_2['ESTU_RESIDE_DEPTO'].replace('SAN ANDRÃS', 'SAN ANDRES')\n",
    "data_2006_2['ESTU_RESIDE_DEPTO'] = data_2006_2['ESTU_RESIDE_DEPTO'].replace('VAUPÃS', 'VAUPES')"
   ]
  },
  {
   "cell_type": "code",
   "execution_count": 144,
   "metadata": {
    "collapsed": false
   },
   "outputs": [
    {
     "name": "stdout",
     "output_type": "stream",
     "text": [
      "Float64Index([1.0, 2.0, 3.0, 4.0, 5.0, 6.0, 7.0, 8.0, 9.0, 10.0], dtype='float64')\n",
      "1.0      19141\n",
      "2.0       2497\n",
      "3.0      11556\n",
      "4.0      42368\n",
      "5.0      15453\n",
      "6.0       8708\n",
      "7.0       9729\n",
      "8.0      23537\n",
      "9.0      16890\n",
      "10.0    258288\n",
      "Name: ESTU_ZONA_RESIDE, dtype: int64\n",
      "Elementos null/NaN 159\n",
      "__________________\n",
      "Elementos diferentes de null/NaN: 408167\n",
      "__________________\n",
      "(408167,)\n",
      "None\n"
     ]
    }
   ],
   "source": [
    "c = 'ESTU_ZONA_RESIDE'\n",
    "print(data_2006_2[c].value_counts().sort_index().index)\n",
    "print(data_2006_2[c].value_counts().sort_index())\n",
    "print(missing_data(data_2006_2[c]))"
   ]
  },
  {
   "cell_type": "code",
   "execution_count": 145,
   "metadata": {
    "collapsed": false
   },
   "outputs": [
    {
     "name": "stdout",
     "output_type": "stream",
     "text": [
      "Float64Index([1.0, 2.0], dtype='float64')\n",
      "1.0    2017\n",
      "2.0     579\n",
      "Name: ESTU_AREA_RESIDE, dtype: int64\n",
      "Elementos null/NaN 405730\n",
      "__________________\n",
      "Elementos diferentes de null/NaN: 2596\n",
      "__________________\n",
      "(2596,)\n",
      "None\n"
     ]
    }
   ],
   "source": [
    "c = 'ESTU_AREA_RESIDE'\n",
    "print(data_2006_2[c].value_counts().sort_index().index)\n",
    "print(data_2006_2[c].value_counts().sort_index())\n",
    "print(missing_data(data_2006_2[c]))"
   ]
  },
  {
   "cell_type": "code",
   "execution_count": 146,
   "metadata": {
    "collapsed": false,
    "scrolled": true
   },
   "outputs": [
    {
     "name": "stdout",
     "output_type": "stream",
     "text": [
      "Index(['ABEJORRAL', 'ABREGO', 'ACACIAS', 'ACANDI', 'ACHI', 'AGUACHICA',\n",
      "       'AGUADAS', 'AGUAZUL', 'AGUSTIN CODAZZI', 'AIPE',\n",
      "       ...\n",
      "       'VILLAVICENCIO', 'VILLETA', 'VIOTA', 'YARUMAL', 'YAVARATE', 'YOLOMBO',\n",
      "       'YOPAL', 'ZAPATOCA', 'ZARAGOZA', 'ZIPAQUIRA'],\n",
      "      dtype='object', length=353)\n",
      "ABEJORRAL                     131\n",
      "ABREGO                        125\n",
      "ACACIAS                       801\n",
      "ACANDI                         35\n",
      "ACHI                          181\n",
      "AGUACHICA                    1260\n",
      "AGUADAS                       241\n",
      "AGUAZUL                       378\n",
      "AGUSTIN CODAZZI               525\n",
      "AIPE                          126\n",
      "ALTO BAUDO (PIE DE PATO)       71\n",
      "AMAGA                         620\n",
      "AMALFI                        257\n",
      "ANDES                         728\n",
      "ANOLAIMA                      259\n",
      "ANSERMA                       523\n",
      "APARTADO                     1753\n",
      "ARACATACA                     373\n",
      "ARAUCA                        749\n",
      "ARAUQUITA                     247\n",
      "ARBELAEZ                      204\n",
      "ARBOLEDAS                      70\n",
      "ARBOLETES                     375\n",
      "ARIGUANI (EL DIFICIL)         299\n",
      "ARJONA                        668\n",
      "ARMENIA                      3743\n",
      "ASTREA                        161\n",
      "ATRATO (YUTO)                  95\n",
      "AYAPEL                        391\n",
      "BAGADO                         72\n",
      "                             ... \n",
      "TUNJA                        3637\n",
      "TURBACO                       760\n",
      "TURBO                        1041\n",
      "TURMEQUE                      251\n",
      "TUTA                           94\n",
      "UBATE                        1060\n",
      "UNGUIA                         35\n",
      "URRAO                         449\n",
      "VALLEDUPAR                   4587\n",
      "VEGACHI                       144\n",
      "VELEZ                         404\n",
      "VENADILLO                     159\n",
      "VENTAQUEMADA                  158\n",
      "VIGIA DEL FUERTE               79\n",
      "VILLA DE LEYVA                286\n",
      "VILLA DEL ROSARIO             663\n",
      "VILLA GUAMEZ (LA HORMIGA)     332\n",
      "VILLAGARZON                    92\n",
      "VILLAMARIA                    445\n",
      "VILLANUEVA                    687\n",
      "VILLAVICENCIO                5636\n",
      "VILLETA                       683\n",
      "VIOTA                          78\n",
      "YARUMAL                       687\n",
      "YAVARATE                       11\n",
      "YOLOMBO                       215\n",
      "YOPAL                        1703\n",
      "ZAPATOCA                      117\n",
      "ZARAGOZA                      196\n",
      "ZIPAQUIRA                    2389\n",
      "Name: ESTU_MCPIO_PRESENTACION, dtype: int64\n",
      "Elementos null/NaN 0\n",
      "__________________\n",
      "Elementos diferentes de null/NaN: 408326\n",
      "__________________\n",
      "(408326,)\n",
      "None\n"
     ]
    }
   ],
   "source": [
    "c = 'ESTU_MCPIO_PRESENTACION'\n",
    "print(data_2006_2[c].value_counts().sort_index().index)\n",
    "print(data_2006_2[c].value_counts().sort_index())\n",
    "print(missing_data(data_2006_2[c]))"
   ]
  },
  {
   "cell_type": "code",
   "execution_count": 147,
   "metadata": {
    "collapsed": false,
    "scrolled": true
   },
   "outputs": [
    {
     "name": "stdout",
     "output_type": "stream",
     "text": [
      "Index(['AMAZONAS', 'ANTIOQUIA', 'ARAUCA', 'ATLÃNTICO', 'BOGOTÃ', 'BOLÃVAR',\n",
      "       'BOYACÃ', 'CALDAS', 'CAQUETÃ', 'CASANARE', 'CAUCA', 'CESAR', 'CHOCÃ',\n",
      "       'CUNDINAMARCA', 'CÃRDOBA', 'GUAINÃA', 'GUAVIARE', 'HUILA',\n",
      "       'LA GUAJIRA', 'MAGDALENA', 'META', 'NARIÃO', 'NORTE SANTANDER',\n",
      "       'PUTUMAYO', 'QUINDÃO', 'RISARALDA', 'SAN ANDRÃS', 'SANTANDER',\n",
      "       'SUCRE', 'TOLIMA', 'VALLE', 'VAUPÃS', 'VICHADA'],\n",
      "      dtype='object')\n",
      "AMAZONAS             625\n",
      "ANTIOQUIA          60872\n",
      "ARAUCA              2090\n",
      "ATLÃNTICO         26575\n",
      "BOGOTÃ            86273\n",
      "BOLÃVAR           20110\n",
      "BOYACÃ            15531\n",
      "CALDAS             10611\n",
      "CAQUETÃ            2796\n",
      "CASANARE            3190\n",
      "CAUCA               8326\n",
      "CESAR               9528\n",
      "CHOCÃ              3665\n",
      "CUNDINAMARCA       27293\n",
      "CÃRDOBA           15209\n",
      "GUAINÃA             110\n",
      "GUAVIARE             507\n",
      "HUILA               9191\n",
      "LA GUAJIRA          5750\n",
      "MAGDALENA          11083\n",
      "META                8208\n",
      "NARIÃO              344\n",
      "NORTE SANTANDER    13901\n",
      "PUTUMAYO            1961\n",
      "QUINDÃO            5626\n",
      "RISARALDA           9435\n",
      "SAN ANDRÃS          792\n",
      "SANTANDER          22845\n",
      "SUCRE               9792\n",
      "TOLIMA             13772\n",
      "VALLE               1792\n",
      "VAUPÃS              182\n",
      "VICHADA              341\n",
      "Name: ESTU_DEPTO_PRESENTACION, dtype: int64\n",
      "Elementos null/NaN 0\n",
      "__________________\n",
      "Elementos diferentes de null/NaN: 408326\n",
      "__________________\n",
      "(408326,)\n",
      "None\n"
     ]
    }
   ],
   "source": [
    "c = 'ESTU_DEPTO_PRESENTACION'\n",
    "print(data_2006_2[c].value_counts().sort_index().index)\n",
    "print(data_2006_2[c].value_counts().sort_index())\n",
    "print(missing_data(data_2006_2[c]))"
   ]
  },
  {
   "cell_type": "code",
   "execution_count": 148,
   "metadata": {
    "collapsed": true
   },
   "outputs": [],
   "source": [
    "data_2006_2['ESTU_DEPTO_PRESENTACION'] = data_2006_2['ESTU_DEPTO_PRESENTACION'].replace('ATLÃNTICO', 'ATLANTICO')\n",
    "data_2006_2['ESTU_DEPTO_PRESENTACION'] = data_2006_2['ESTU_DEPTO_PRESENTACION'].replace('BOGOTÃ', 'BOGOTA')\n",
    "data_2006_2['ESTU_DEPTO_PRESENTACION'] = data_2006_2['ESTU_DEPTO_PRESENTACION'].replace('BOLÃVAR', 'BOLIVAR')\n",
    "data_2006_2['ESTU_DEPTO_PRESENTACION'] = data_2006_2['ESTU_DEPTO_PRESENTACION'].replace('BOYACÃ', 'BOYACA')\n",
    "data_2006_2['ESTU_DEPTO_PRESENTACION'] = data_2006_2['ESTU_DEPTO_PRESENTACION'].replace('CAQUETÃ', 'CAQUETA')\n",
    "data_2006_2['ESTU_DEPTO_PRESENTACION'] = data_2006_2['ESTU_DEPTO_PRESENTACION'].replace('CHOCÃ', 'CHOCO')\n",
    "data_2006_2['ESTU_DEPTO_PRESENTACION'] = data_2006_2['ESTU_DEPTO_PRESENTACION'].replace('CÃRDOBA', 'CORDOBA')\n",
    "data_2006_2['ESTU_DEPTO_PRESENTACION'] = data_2006_2['ESTU_DEPTO_PRESENTACION'].replace('GUAINÃA', 'GUAINIA')\n",
    "data_2006_2['ESTU_DEPTO_PRESENTACION'] = data_2006_2['ESTU_DEPTO_PRESENTACION'].replace('NARIÃO', 'NARIÑO')\n",
    "data_2006_2['ESTU_DEPTO_PRESENTACION'] = data_2006_2['ESTU_DEPTO_PRESENTACION'].replace('QUINDÃO', 'QUINDIO')\n",
    "data_2006_2['ESTU_DEPTO_PRESENTACION'] = data_2006_2['ESTU_DEPTO_PRESENTACION'].replace('SAN ANDRÃS', 'SAN ANDRES')\n",
    "data_2006_2['ESTU_DEPTO_PRESENTACION'] = data_2006_2['ESTU_DEPTO_PRESENTACION'].replace('VAUPÃS', 'VAUPES')"
   ]
  },
  {
   "cell_type": "code",
   "execution_count": 149,
   "metadata": {
    "collapsed": false
   },
   "outputs": [
    {
     "name": "stdout",
     "output_type": "stream",
     "text": [
      "Index(['EXAMEN DE ESTADO  (2006)'], dtype='object')\n",
      "EXAMEN DE ESTADO  (2006)    408326\n",
      "Name: ESTU_EXAM_NOMBREEXAMEN, dtype: int64\n",
      "Elementos null/NaN 0\n",
      "__________________\n",
      "Elementos diferentes de null/NaN: 408326\n",
      "__________________\n",
      "(408326,)\n",
      "None\n"
     ]
    }
   ],
   "source": [
    "c = 'ESTU_EXAM_NOMBREEXAMEN'\n",
    "print(data_2006_2[c].value_counts().sort_index().index)\n",
    "print(data_2006_2[c].value_counts().sort_index())\n",
    "print(missing_data(data_2006_2[c]))"
   ]
  },
  {
   "cell_type": "code",
   "execution_count": 150,
   "metadata": {
    "collapsed": false,
    "scrolled": true
   },
   "outputs": [],
   "source": [
    "data_2006_2 = data_2006_2.drop([c], axis = 1)"
   ]
  },
  {
   "cell_type": "code",
   "execution_count": 151,
   "metadata": {
    "collapsed": false
   },
   "outputs": [
    {
     "name": "stdout",
     "output_type": "stream",
     "text": [
      "Float64Index([0.0, 1.0], dtype='float64')\n",
      "0.0     14335\n",
      "1.0    393953\n",
      "Name: IND_ESTUDIO_BACHILLERATO, dtype: int64\n",
      "Elementos null/NaN 38\n",
      "__________________\n",
      "Elementos diferentes de null/NaN: 408288\n",
      "__________________\n",
      "(408288,)\n",
      "None\n"
     ]
    }
   ],
   "source": [
    "c = 'IND_ESTUDIO_BACHILLERATO'\n",
    "print(data_2006_2[c].value_counts().sort_index().index)\n",
    "print(data_2006_2[c].value_counts().sort_index())\n",
    "print(missing_data(data_2006_2[c]))"
   ]
  },
  {
   "cell_type": "code",
   "execution_count": 152,
   "metadata": {
    "collapsed": false,
    "scrolled": true
   },
   "outputs": [
    {
     "name": "stdout",
     "output_type": "stream",
     "text": [
      "Float64Index([1950.0, 1957.0, 1966.0, 1973.0, 1977.0, 1979.0, 1984.0, 1986.0,\n",
      "              1987.0, 1988.0, 1989.0, 1991.0, 1992.0, 1993.0, 1994.0, 1995.0,\n",
      "              1996.0, 1997.0, 1998.0, 1999.0, 2000.0, 2001.0, 2002.0, 2003.0,\n",
      "              2004.0, 2005.0, 2006.0, 2007.0, 2008.0, 2009.0, 2010.0, 2011.0,\n",
      "              9999.0],\n",
      "             dtype='float64')\n",
      "1950.0         1\n",
      "1957.0         1\n",
      "1966.0         1\n",
      "1973.0         1\n",
      "1977.0         2\n",
      "1979.0         1\n",
      "1984.0         1\n",
      "1986.0         2\n",
      "1987.0         1\n",
      "1988.0         1\n",
      "1989.0         2\n",
      "1991.0         1\n",
      "1992.0         1\n",
      "1993.0         1\n",
      "1994.0         3\n",
      "1995.0         1\n",
      "1996.0         1\n",
      "1997.0         2\n",
      "1998.0         4\n",
      "1999.0         5\n",
      "2000.0         6\n",
      "2001.0         7\n",
      "2002.0        10\n",
      "2003.0         9\n",
      "2004.0        35\n",
      "2005.0       101\n",
      "2006.0    390389\n",
      "2007.0      1912\n",
      "2008.0       138\n",
      "2009.0        45\n",
      "2010.0        13\n",
      "2011.0         3\n",
      "9999.0         1\n",
      "Name: IND_ANNO_TERMINO_BACHILLERATO, dtype: int64\n",
      "Elementos null/NaN 15624\n",
      "__________________\n",
      "Elementos diferentes de null/NaN: 392702\n",
      "__________________\n",
      "(392702,)\n",
      "None\n"
     ]
    }
   ],
   "source": [
    "c = 'IND_ANNO_TERMINO_BACHILLERATO'\n",
    "print(data_2006_2[c].value_counts().sort_index().index)\n",
    "print(data_2006_2[c].value_counts().sort_index())\n",
    "print(missing_data(data_2006_2[c]))"
   ]
  },
  {
   "cell_type": "code",
   "execution_count": 153,
   "metadata": {
    "collapsed": true
   },
   "outputs": [],
   "source": [
    "for i in data_2006_2[c].value_counts().sort_index().index:\n",
    "    if i > 2009:\n",
    "        data_2006_2['IND_ANNO_TERMINO_BACHILLERATO'] = data_2006_2['IND_ANNO_TERMINO_BACHILLERATO'].replace(i, np.nan)"
   ]
  },
  {
   "cell_type": "code",
   "execution_count": 154,
   "metadata": {
    "collapsed": false
   },
   "outputs": [
    {
     "name": "stdout",
     "output_type": "stream",
     "text": [
      "Float64Index([1.0], dtype='float64')\n",
      "1.0    363\n",
      "Name: IND_TERMINO_BACHILLERATO, dtype: int64\n",
      "Elementos null/NaN 407963\n",
      "__________________\n",
      "Elementos diferentes de null/NaN: 363\n",
      "__________________\n",
      "(363,)\n",
      "None\n"
     ]
    }
   ],
   "source": [
    "c = 'IND_TERMINO_BACHILLERATO'\n",
    "print(data_2006_2[c].value_counts().sort_index().index)\n",
    "print(data_2006_2[c].value_counts().sort_index())\n",
    "print(missing_data(data_2006_2[c]))"
   ]
  },
  {
   "cell_type": "code",
   "execution_count": 155,
   "metadata": {
    "collapsed": false,
    "scrolled": true
   },
   "outputs": [
    {
     "name": "stdout",
     "output_type": "stream",
     "text": [
      "Float64Index([     3.0,     18.0,     59.0,     67.0,     75.0,     83.0,\n",
      "                  91.0,    125.0,    141.0,    174.0,\n",
      "              ...\n",
      "              170480.0, 170779.0, 170803.0, 170845.0, 171363.0, 171488.0,\n",
      "              173260.0, 176198.0, 176255.0, 999999.0],\n",
      "             dtype='float64', length=8448)\n",
      "3.0          285\n",
      "18.0          21\n",
      "59.0        1199\n",
      "67.0           1\n",
      "75.0          58\n",
      "83.0          60\n",
      "91.0         104\n",
      "125.0         70\n",
      "141.0        115\n",
      "174.0        101\n",
      "190.0         88\n",
      "208.0         86\n",
      "216.0         32\n",
      "232.0         32\n",
      "240.0        124\n",
      "265.0        118\n",
      "273.0         48\n",
      "281.0         72\n",
      "315.0        171\n",
      "349.0         23\n",
      "356.0         31\n",
      "364.0         66\n",
      "372.0         63\n",
      "380.0        125\n",
      "398.0         22\n",
      "406.0         30\n",
      "422.0         15\n",
      "430.0        107\n",
      "448.0         29\n",
      "455.0         87\n",
      "            ... \n",
      "166595.0       1\n",
      "166603.0       1\n",
      "166637.0       1\n",
      "166777.0       7\n",
      "167254.0       1\n",
      "167361.0       2\n",
      "167643.0       1\n",
      "167650.0       1\n",
      "167841.0       1\n",
      "168203.0       1\n",
      "168344.0       3\n",
      "168708.0       1\n",
      "168971.0       1\n",
      "169268.0       1\n",
      "169359.0       1\n",
      "169714.0       1\n",
      "169748.0       1\n",
      "169904.0       2\n",
      "170050.0       1\n",
      "170472.0       2\n",
      "170480.0       1\n",
      "170779.0       1\n",
      "170803.0       1\n",
      "170845.0       1\n",
      "171363.0       1\n",
      "171488.0       1\n",
      "173260.0       1\n",
      "176198.0       3\n",
      "176255.0       1\n",
      "999999.0     708\n",
      "Name: IND_COD_ICFES_TERMINO, dtype: int64\n",
      "Elementos null/NaN 1099\n",
      "__________________\n",
      "Elementos diferentes de null/NaN: 407227\n",
      "__________________\n",
      "(407227,)\n",
      "None\n"
     ]
    }
   ],
   "source": [
    "c = 'IND_COD_ICFES_TERMINO'\n",
    "print(data_2006_2[c].value_counts().sort_index().index)\n",
    "print(data_2006_2[c].value_counts().sort_index())\n",
    "print(missing_data(data_2006_2[c]))"
   ]
  },
  {
   "cell_type": "code",
   "execution_count": 156,
   "metadata": {
    "collapsed": false,
    "scrolled": true
   },
   "outputs": [
    {
     "name": "stdout",
     "output_type": "stream",
     "text": [
      "Int64Index([    18,     59,     75,     83,     91,    125,    141,    174,\n",
      "               190,    208,\n",
      "            ...\n",
      "            129163, 129197, 129205, 129221, 129247, 129254, 129296, 129353,\n",
      "            129387, 129395],\n",
      "           dtype='int64', length=8018)\n",
      "18          21\n",
      "59        1206\n",
      "75          58\n",
      "83          60\n",
      "91         104\n",
      "125         70\n",
      "141        116\n",
      "174        101\n",
      "190         88\n",
      "208         86\n",
      "216         32\n",
      "232         32\n",
      "240        123\n",
      "265        121\n",
      "273         48\n",
      "281         73\n",
      "315        171\n",
      "349         23\n",
      "356         31\n",
      "364         66\n",
      "372         63\n",
      "380        125\n",
      "398         22\n",
      "406         30\n",
      "422         15\n",
      "430        107\n",
      "448         29\n",
      "455         87\n",
      "463        138\n",
      "471        169\n",
      "          ... \n",
      "128850      13\n",
      "128884      17\n",
      "128892       6\n",
      "128900      95\n",
      "128926      11\n",
      "128934       9\n",
      "128942      54\n",
      "128959      16\n",
      "128967      24\n",
      "128975      29\n",
      "129007      14\n",
      "129023      16\n",
      "129031      16\n",
      "129049      13\n",
      "129056       8\n",
      "129072      12\n",
      "129080      17\n",
      "129106      16\n",
      "129122       8\n",
      "129130      39\n",
      "129163      13\n",
      "129197      21\n",
      "129205      29\n",
      "129221      21\n",
      "129247      14\n",
      "129254       5\n",
      "129296      34\n",
      "129353      11\n",
      "129387      30\n",
      "129395       8\n",
      "Name: COLE_COD_ICFES, dtype: int64\n",
      "Elementos null/NaN 0\n",
      "__________________\n",
      "Elementos diferentes de null/NaN: 408326\n",
      "__________________\n",
      "(408326,)\n",
      "None\n"
     ]
    }
   ],
   "source": [
    "c = 'COLE_COD_ICFES'\n",
    "print(data_2006_2[c].value_counts().sort_index().index)\n",
    "print(data_2006_2[c].value_counts().sort_index())\n",
    "print(missing_data(data_2006_2[c]))"
   ]
  },
  {
   "cell_type": "code",
   "execution_count": 157,
   "metadata": {
    "collapsed": true
   },
   "outputs": [],
   "source": [
    "for i in data_2006_2[c].value_counts().sort_index().index:\n",
    "    if len(str(i)) < 4:\n",
    "        data_2006_2[c] = data_2006_2[c].replace(i, np.nan)"
   ]
  },
  {
   "cell_type": "code",
   "execution_count": 158,
   "metadata": {
    "collapsed": false,
    "scrolled": true
   },
   "outputs": [
    {
     "name": "stdout",
     "output_type": "stream",
     "text": [
      "Index(['            ', '105001000108', '111001024732', '168001003591',\n",
      "       '111001019411', '113001003274', '105001013340', '108758000031',\n",
      "       '111001010839', '111279000362',\n",
      "       ...\n",
      "         268245000351,   108001011290,   376109003930,   405001016946,\n",
      "         311001041521, '225224000024',   213473001601, '311001050074',\n",
      "         219693000621,   217486000863],\n",
      "      dtype='object', length=7111)\n",
      "                3456\n",
      "105001000108    1206\n",
      "111001024732     985\n",
      "168001003591     820\n",
      "111001019411     795\n",
      "113001003274     694\n",
      "105001013340     639\n",
      "108758000031     631\n",
      "111001010839     607\n",
      "111279000362     600\n",
      "305440000994     572\n",
      "111001010910     566\n",
      "173001001053     558\n",
      "105001024571     528\n",
      "111001011690     518\n",
      "166001002339     517\n",
      "154001003779     501\n",
      "163001001325     499\n",
      "113001000852     498\n",
      "154001000079     492\n",
      "111102000753     486\n",
      "168001000444     483\n",
      "313001006701     482\n",
      "173001000308     481\n",
      "111001011070     480\n",
      "150001000979     477\n",
      "111001083011     456\n",
      "111001010928     455\n",
      "311001004820     446\n",
      "111848003031     443\n",
      "                ... \n",
      "325438001588       1\n",
      "366001000742       1\n",
      "368081001739       1\n",
      "125322000429       1\n",
      "168745000141       1\n",
      "254001008058       1\n",
      "370001000057       1\n",
      "311001032131       1\n",
      "105364000401       1\n",
      "305001009848       1\n",
      "311001003963       1\n",
      "117001003822       1\n",
      "247001005052       1\n",
      "185410000016       1\n",
      "419256002711       1\n",
      "241807000427       1\n",
      "323001006944       1\n",
      "305308000589       1\n",
      "311848000308       1\n",
      "115176000041       1\n",
      "268245000351       1\n",
      "108001011290       1\n",
      "376109003930       1\n",
      "405001016946       1\n",
      "311001041521       1\n",
      "225224000024       1\n",
      "213473001601       1\n",
      "311001050074       1\n",
      "219693000621       1\n",
      "217486000863       1\n",
      "Name: COLE_COD_DANE_INSTITUCION, dtype: int64\n",
      "Elementos null/NaN 0\n",
      "__________________\n",
      "Elementos diferentes de null/NaN: 408326\n",
      "__________________\n",
      "(408326,)\n",
      "None\n"
     ]
    }
   ],
   "source": [
    "c = 'COLE_COD_DANE_INSTITUCION'\n",
    "print(data_2006_2[c].value_counts().index)\n",
    "print(data_2006_2[c].value_counts())\n",
    "print(missing_data(data_2006_2[c]))"
   ]
  },
  {
   "cell_type": "code",
   "execution_count": 159,
   "metadata": {
    "collapsed": false,
    "scrolled": true
   },
   "outputs": [
    {
     "name": "stdout",
     "output_type": "stream",
     "text": [
      "Index([' COLEGIO MARYLAND', ' ESCUELA URBANA JOSE ANTONIO GALAN',\n",
      "       ' I.E. AGRICOLA DE MACANAL - SEDE PRINCIPAL',\n",
      "       ' I.E. LA CANDELARIA - SEDE PRINCIPAL',\n",
      "       ' I.E. MARCO AURELIO BERNAL - SEDE PRINCIPAL',\n",
      "       ' I.E.T. SAN DIEGO DE ALCALA - SEDE PRINCIPAL',\n",
      "       ' I.E.T. SERGIO CAMARGO - SEDE PRINCIPAL',\n",
      "       ' IE JUAN PABLO II - SEDE PRINCIPAL',\n",
      "       ' INSTITUCION EDUCATIVA DEPARTAMENTAL TAPIAS',\n",
      "       'ACAD AMERICANA DE SISTEMAS Y COMERCIO                                                               ',\n",
      "       ...\n",
      "       'UNIDAD TECNOLOGICA DE OCCIDENTE',\n",
      "       'UNION PROFESIONAL PARA LA EDUCACION Y EL TRABAJO UPET',\n",
      "       'UNIVERSIDAD NACIONAL ABIERTA Y A DISTANCIA', 'URBANA MIXTA NO.1',\n",
      "       'VALSALICE', 'VERDE AMAZONICO', 'VILLA CECILIA SEDE', 'VILLA CORELCA',\n",
      "       'VILLA DE LOS ANDES',\n",
      "       'ZION SCHOOL                                                 '],\n",
      "      dtype='object', length=6760)\n",
      " COLEGIO MARYLAND                                                                                        17\n",
      " ESCUELA URBANA JOSE ANTONIO GALAN                                                                       24\n",
      " I.E. AGRICOLA DE MACANAL - SEDE PRINCIPAL                                                               32\n",
      " I.E. LA CANDELARIA - SEDE PRINCIPAL                                                                     24\n",
      " I.E. MARCO AURELIO BERNAL - SEDE PRINCIPAL                                                             129\n",
      " I.E.T. SAN DIEGO DE ALCALA - SEDE PRINCIPAL                                                             13\n",
      " I.E.T. SERGIO CAMARGO - SEDE PRINCIPAL                                                                  21\n",
      " IE JUAN PABLO II - SEDE PRINCIPAL                                                                        8\n",
      " INSTITUCION EDUCATIVA DEPARTAMENTAL TAPIAS                                                              18\n",
      "ACAD AMERICANA DE SISTEMAS Y COMERCIO                                                                    28\n",
      "ACAD CENTRAL DE SISTEMAS ACSI                                                                            72\n",
      "ACAD MILIT MARISCAL SUCRE                                                                                73\n",
      "ACAD MILIT NAL HEROES GRANADINOS                                                                         34\n",
      "ACAD PANTANO DE VARGAS                                                                                   35\n",
      "ACAD. MILITAR GRAL. CUSTODIO GARCIA R.                                                                   17\n",
      "ACADEMIA CIAL DE LOS ANDES                                                                               38\n",
      "ACADEMIA COMERCIAL REAL                                                                                   5\n",
      "ACADEMIA DE CIENCIAS DE COLOMBIA AKADEMOS                                                                 5\n",
      "ACADEMIA E INSTITUTO CAMPAÃA LIBERTADORA                                                                 2\n",
      "ACADEMIA GRAN COLOMBIA                                                                                   51\n",
      "ACADEMIA GUSTAVO ROJAS PINILLAS                                                                          20\n",
      "ACADEMIA LA SALLE SAN BENILDO                                                                            90\n",
      "ACADEMIA LEGION BRITANICA                                                                                12\n",
      "ACADEMIA MILITAR GENERAL JOSE ANTONIO ANZOATEGUI                                                         24\n",
      "ACADEMIA MILITAR GRAL TOMAS CIPRIANO DE MOSQUERA                                                         29\n",
      "ACADEMIA MILITAR JOSE ANTONIO PAEZ                                                                       49\n",
      "ACADEMIA MILITAR MARISCAL SUCRE                                                                          79\n",
      "ACCION COMUNAL                                                                                          129\n",
      "ACEVEDO Y GOMEZ                                                                                          25\n",
      "AGROAMBIENTAL JOEL SIERRA                                                                                 6\n",
      "                                                                                                       ... \n",
      "TIERRA LIBRE                                                                                             19\n",
      "TULIO ARBELAEZ                                                                                           28\n",
      "TÃCNICO DEPARTAMENTAL NATANIA                                                                           53\n",
      "TÃCNICO INDUSTRIAL RAFAEL POMBO                                                                        123\n",
      "UNAD  BACHILLERATO DIVERSIFICADO A DISTANCIA PARA ADULTOS                                               140\n",
      "UNAD COLEGIO DE BACHILLERATO DIVERSIFICADO A DISTANCIA PARA ADULTOS                                       3\n",
      "UNAD UNIVERSIDAD NACIONAL ABIERTA Y A DISTANCIA                                                           8\n",
      "UNID EDUC BAHIA SOLANO                                                                                   30\n",
      "UNID EDUC JEAN PIAGET                                                                                    55\n",
      "UNID EDUC PRADOS DE ALAMEDA                                                                               7\n",
      "UNID EDUC SAN ANTONIO DEL ARIARI                                                                         40\n",
      "UNID PEDAGOGICA BILINGÃE PIERRE DE FERMAT                                                               29\n",
      "UNIDAD BASICA LAGUNA                                                                                      1\n",
      "UNIDAD EDUCATIVA                                                                                         20\n",
      "UNIDAD EDUCATIVA BASICA ALEJANDRO CHESNAIE                                                                6\n",
      "UNIDAD EDUCATIVA CABUYARO                                                                                38\n",
      "UNIDAD EDUCATIVA SAN MARCOS                                                                             150\n",
      "UNIDAD EDUCATIVA SANTA TERESA DE PACHAQUIARO                                                             22\n",
      "UNIDAD EDUCATIVA TECNICO AGROPECURIO                                                                     39\n",
      "UNIDAD EDUCATIVA URBANA                                                                                  31\n",
      "UNIDAD TECNOLOGICA DE OCCIDENTE                                                                           5\n",
      "UNION PROFESIONAL PARA LA EDUCACION Y EL TRABAJO UPET                                                    21\n",
      "UNIVERSIDAD NACIONAL ABIERTA Y A DISTANCIA                                                               91\n",
      "URBANA MIXTA NO.1                                                                                        19\n",
      "VALSALICE                                                                                                58\n",
      "VERDE AMAZONICO                                                                                          32\n",
      "VILLA CECILIA SEDE                                                                                       10\n",
      "VILLA CORELCA                                                                                            44\n",
      "VILLA DE LOS ANDES                                                                                       26\n",
      "ZION SCHOOL                                                                                               5\n",
      "Name: COLE_NOMBRE_SEDE, dtype: int64\n",
      "Elementos null/NaN 0\n",
      "__________________\n",
      "Elementos diferentes de null/NaN: 408326\n",
      "__________________\n",
      "(408326,)\n",
      "None\n"
     ]
    }
   ],
   "source": [
    "c = 'COLE_NOMBRE_SEDE'\n",
    "print(data_2006_2[c].value_counts().sort_index().index)\n",
    "print(data_2006_2[c].value_counts().sort_index())\n",
    "print(missing_data(data_2006_2[c]))"
   ]
  },
  {
   "cell_type": "code",
   "execution_count": 160,
   "metadata": {
    "collapsed": false,
    "scrolled": true
   },
   "outputs": [],
   "source": [
    "data_2006_2 = data_2006_2.drop([c], axis = 1)"
   ]
  },
  {
   "cell_type": "code",
   "execution_count": 161,
   "metadata": {
    "collapsed": false
   },
   "outputs": [
    {
     "name": "stdout",
     "output_type": "stream",
     "text": [
      "Index(['A', 'B', 'F'], dtype='object')\n",
      "A    361430\n",
      "B       625\n",
      "F     46271\n",
      "Name: COLE_CALENDARIO, dtype: int64\n",
      "Elementos null/NaN 0\n",
      "__________________\n",
      "Elementos diferentes de null/NaN: 408326\n",
      "__________________\n",
      "(408326,)\n",
      "None\n"
     ]
    }
   ],
   "source": [
    "c = 'COLE_CALENDARIO'\n",
    "print(data_2006_2[c].value_counts().sort_index().index)\n",
    "print(data_2006_2[c].value_counts().sort_index())\n",
    "print(missing_data(data_2006_2[c]))"
   ]
  },
  {
   "cell_type": "code",
   "execution_count": 162,
   "metadata": {
    "collapsed": false
   },
   "outputs": [
    {
     "name": "stdout",
     "output_type": "stream",
     "text": [
      "Index(['F', 'M', 'X'], dtype='object')\n",
      "F     25958\n",
      "M      6840\n",
      "X    375528\n",
      "Name: COLE_GENERO, dtype: int64\n",
      "Elementos null/NaN 0\n",
      "__________________\n",
      "Elementos diferentes de null/NaN: 408326\n",
      "__________________\n",
      "(408326,)\n",
      "None\n"
     ]
    }
   ],
   "source": [
    "c = 'COLE_GENERO'\n",
    "print(data_2006_2[c].value_counts().sort_index().index)\n",
    "print(data_2006_2[c].value_counts().sort_index())\n",
    "print(missing_data(data_2006_2[c]))"
   ]
  },
  {
   "cell_type": "code",
   "execution_count": 163,
   "metadata": {
    "collapsed": false
   },
   "outputs": [
    {
     "name": "stdout",
     "output_type": "stream",
     "text": [
      "Index(['N', 'O'], dtype='object')\n",
      "N    105473\n",
      "O    302853\n",
      "Name: COLE_NATURALEZA, dtype: int64\n",
      "Elementos null/NaN 0\n",
      "__________________\n",
      "Elementos diferentes de null/NaN: 408326\n",
      "__________________\n",
      "(408326,)\n",
      "None\n"
     ]
    }
   ],
   "source": [
    "c = 'COLE_NATURALEZA'\n",
    "print(data_2006_2[c].value_counts().sort_index().index)\n",
    "print(data_2006_2[c].value_counts().sort_index())\n",
    "print(missing_data(data_2006_2[c]))"
   ]
  },
  {
   "cell_type": "code",
   "execution_count": 164,
   "metadata": {
    "collapsed": false
   },
   "outputs": [
    {
     "name": "stdout",
     "output_type": "stream",
     "text": [
      "Float64Index([0.0, 1.0], dtype='float64')\n",
      "0.0    391471\n",
      "1.0      2942\n",
      "Name: COLE_BILINGUE, dtype: int64\n",
      "Elementos null/NaN 13913\n",
      "__________________\n",
      "Elementos diferentes de null/NaN: 394413\n",
      "__________________\n",
      "(394413,)\n",
      "None\n"
     ]
    }
   ],
   "source": [
    "c = 'COLE_BILINGUE'\n",
    "print(data_2006_2[c].value_counts().sort_index().index)\n",
    "print(data_2006_2[c].value_counts().sort_index())\n",
    "print(missing_data(data_2006_2[c]))"
   ]
  },
  {
   "cell_type": "code",
   "execution_count": 165,
   "metadata": {
    "collapsed": false
   },
   "outputs": [
    {
     "name": "stdout",
     "output_type": "stream",
     "text": [
      "Index(['COMPLETA U ORDINARIA', 'MAÃANA', 'NOCHE', 'SABATINA - DOMINICAL',\n",
      "       'TARDE'],\n",
      "      dtype='object')\n",
      "COMPLETA U ORDINARIA     84513\n",
      "MAÃANA                 200755\n",
      "NOCHE                    29743\n",
      "SABATINA - DOMINICAL      9514\n",
      "TARDE                    83801\n",
      "Name: COLE_JORNADA, dtype: int64\n",
      "Elementos null/NaN 0\n",
      "__________________\n",
      "Elementos diferentes de null/NaN: 408326\n",
      "__________________\n",
      "(408326,)\n",
      "None\n"
     ]
    }
   ],
   "source": [
    "c = 'COLE_JORNADA'\n",
    "print(data_2006_2[c].value_counts().sort_index().index)\n",
    "print(data_2006_2[c].value_counts().sort_index())\n",
    "print(missing_data(data_2006_2[c]))"
   ]
  },
  {
   "cell_type": "code",
   "execution_count": 166,
   "metadata": {
    "collapsed": true
   },
   "outputs": [],
   "source": [
    "data_2006_2[c] = data_2006_2[c].replace('MAÃANA', 'MAÑANA')"
   ]
  },
  {
   "cell_type": "code",
   "execution_count": 167,
   "metadata": {
    "collapsed": false
   },
   "outputs": [
    {
     "name": "stdout",
     "output_type": "stream",
     "text": [
      "Index(['ACADEMICO', 'ACADEMICO Y TECNICO', 'DESCONOCIDO', 'NORMALISTA',\n",
      "       'TECNICO'],\n",
      "      dtype='object')\n",
      "ACADEMICO              241756\n",
      "ACADEMICO Y TECNICO     83512\n",
      "DESCONOCIDO               182\n",
      "NORMALISTA              10066\n",
      "TECNICO                 72810\n",
      "Name: COLE_CARACTER, dtype: int64\n",
      "Elementos null/NaN 0\n",
      "__________________\n",
      "Elementos diferentes de null/NaN: 408326\n",
      "__________________\n",
      "(408326,)\n",
      "None\n"
     ]
    }
   ],
   "source": [
    "c = 'COLE_CARACTER'\n",
    "print(data_2006_2[c].value_counts().sort_index().index)\n",
    "print(data_2006_2[c].value_counts().sort_index())\n",
    "print(missing_data(data_2006_2[c]))"
   ]
  },
  {
   "cell_type": "code",
   "execution_count": 168,
   "metadata": {
    "collapsed": false,
    "scrolled": true
   },
   "outputs": [
    {
     "name": "stdout",
     "output_type": "stream",
     "text": [
      "Float64Index([ 1.0,  2.0,  3.0,  4.0,  5.0,  6.0,  7.0,  8.0,  9.0, 10.0, 11.0,\n",
      "              12.0, 13.0, 14.0, 15.0, 16.0, 99.0],\n",
      "             dtype='float64')\n",
      "1.0     6788\n",
      "2.0      671\n",
      "3.0      786\n",
      "4.0      124\n",
      "5.0       45\n",
      "6.0      302\n",
      "7.0      116\n",
      "8.0      373\n",
      "9.0      717\n",
      "10.0    1275\n",
      "11.0      91\n",
      "12.0     126\n",
      "13.0     110\n",
      "14.0      48\n",
      "15.0      91\n",
      "16.0      50\n",
      "99.0    7487\n",
      "Name: ESTU_ETNIA, dtype: int64\n",
      "Elementos null/NaN 389126\n",
      "__________________\n",
      "Elementos diferentes de null/NaN: 19200\n",
      "__________________\n",
      "(19200,)\n",
      "None\n"
     ]
    }
   ],
   "source": [
    "c = 'ESTU_ETNIA'\n",
    "print(data_2006_2[c].value_counts().sort_index().index)\n",
    "print(data_2006_2[c].value_counts().sort_index())\n",
    "print(missing_data(data_2006_2[c]))"
   ]
  },
  {
   "cell_type": "code",
   "execution_count": 169,
   "metadata": {
    "collapsed": false
   },
   "outputs": [
    {
     "name": "stdout",
     "output_type": "stream",
     "text": [
      "Float64Index([0.0, 1.0], dtype='float64')\n",
      "0.0     17\n",
      "1.0    606\n",
      "Name: FAMI_LEE_ESCRIBE_PADRE, dtype: int64\n",
      "Elementos null/NaN 407703\n",
      "__________________\n",
      "Elementos diferentes de null/NaN: 623\n",
      "__________________\n",
      "(623,)\n",
      "None\n"
     ]
    }
   ],
   "source": [
    "c = 'FAMI_LEE_ESCRIBE_PADRE'\n",
    "print(data_2006_2[c].value_counts().sort_index().index)\n",
    "print(data_2006_2[c].value_counts().sort_index())\n",
    "print(missing_data(data_2006_2[c]))"
   ]
  },
  {
   "cell_type": "code",
   "execution_count": 170,
   "metadata": {
    "collapsed": false
   },
   "outputs": [
    {
     "name": "stdout",
     "output_type": "stream",
     "text": [
      "Float64Index([0.0, 1.0], dtype='float64')\n",
      "0.0     18\n",
      "1.0    605\n",
      "Name: FAMI_LEE_ESCRIBE_MADRE, dtype: int64\n",
      "Elementos null/NaN 407703\n",
      "__________________\n",
      "Elementos diferentes de null/NaN: 623\n",
      "__________________\n",
      "(623,)\n",
      "None\n"
     ]
    }
   ],
   "source": [
    "c = 'FAMI_LEE_ESCRIBE_MADRE'\n",
    "print(data_2006_2[c].value_counts().sort_index().index)\n",
    "print(data_2006_2[c].value_counts().sort_index())\n",
    "print(missing_data(data_2006_2[c]))"
   ]
  },
  {
   "cell_type": "code",
   "execution_count": 171,
   "metadata": {
    "collapsed": false,
    "scrolled": true
   },
   "outputs": [
    {
     "name": "stdout",
     "output_type": "stream",
     "text": [
      "Float64Index([ 0.0,  1.0,  2.0,  3.0,  4.0,  5.0,  7.0,  8.0,  9.0, 10.0, 11.0,\n",
      "              12.0, 13.0, 14.0, 15.0, 16.0, 17.0, 99.0],\n",
      "             dtype='float64')\n",
      "0.0      611\n",
      "1.0       10\n",
      "2.0       23\n",
      "3.0       21\n",
      "4.0       15\n",
      "5.0       10\n",
      "7.0        8\n",
      "8.0        2\n",
      "9.0     2242\n",
      "10.0    1682\n",
      "11.0    1227\n",
      "12.0    1837\n",
      "13.0     217\n",
      "14.0     498\n",
      "15.0     240\n",
      "16.0    1049\n",
      "17.0     389\n",
      "99.0      67\n",
      "Name: FAMI_EDUCA_PADRE, dtype: int64\n",
      "Elementos null/NaN 398178\n",
      "__________________\n",
      "Elementos diferentes de null/NaN: 10148\n",
      "__________________\n",
      "(10148,)\n",
      "None\n"
     ]
    }
   ],
   "source": [
    "c = 'FAMI_EDUCA_PADRE'\n",
    "print(data_2006_2[c].value_counts().sort_index().index)\n",
    "print(data_2006_2[c].value_counts().sort_index())\n",
    "print(missing_data(data_2006_2[c]))"
   ]
  },
  {
   "cell_type": "code",
   "execution_count": 172,
   "metadata": {
    "collapsed": false,
    "scrolled": true
   },
   "outputs": [
    {
     "name": "stdout",
     "output_type": "stream",
     "text": [
      "Float64Index([ 0.0,  1.0,  2.0,  3.0,  4.0,  5.0,  6.0,  7.0,  8.0,  9.0, 10.0,\n",
      "              11.0, 12.0, 13.0, 14.0, 15.0, 16.0, 17.0, 99.0],\n",
      "             dtype='float64')\n",
      "0.0      325\n",
      "1.0       10\n",
      "2.0       12\n",
      "3.0       21\n",
      "4.0       17\n",
      "5.0       16\n",
      "6.0        1\n",
      "7.0        8\n",
      "8.0        1\n",
      "9.0     2086\n",
      "10.0    1746\n",
      "11.0    1503\n",
      "12.0    1979\n",
      "13.0     229\n",
      "14.0     630\n",
      "15.0     225\n",
      "16.0     918\n",
      "17.0     339\n",
      "99.0      82\n",
      "Name: FAMI_EDUCA_MADRE, dtype: int64\n",
      "Elementos null/NaN 398178\n",
      "__________________\n",
      "Elementos diferentes de null/NaN: 10148\n",
      "__________________\n",
      "(10148,)\n",
      "None\n"
     ]
    }
   ],
   "source": [
    "c = 'FAMI_EDUCA_MADRE'\n",
    "print(data_2006_2[c].value_counts().sort_index().index)\n",
    "print(data_2006_2[c].value_counts().sort_index())\n",
    "print(missing_data(data_2006_2[c]))"
   ]
  },
  {
   "cell_type": "code",
   "execution_count": 173,
   "metadata": {
    "collapsed": false,
    "scrolled": true
   },
   "outputs": [
    {
     "name": "stdout",
     "output_type": "stream",
     "text": [
      "Float64Index([ 1.0,  2.0,  3.0,  4.0,  5.0,  6.0,  7.0,  8.0,  9.0, 10.0, 11.0,\n",
      "              12.0, 13.0, 14.0, 15.0, 16.0, 17.0, 18.0, 19.0, 20.0, 21.0, 22.0,\n",
      "              23.0, 24.0, 25.0, 26.0, 99.0],\n",
      "             dtype='float64')\n",
      "1.0        3\n",
      "2.0        3\n",
      "3.0        1\n",
      "4.0        2\n",
      "5.0        7\n",
      "6.0        3\n",
      "7.0       10\n",
      "8.0        5\n",
      "9.0       31\n",
      "10.0       2\n",
      "11.0       9\n",
      "12.0      22\n",
      "13.0     327\n",
      "14.0    1020\n",
      "15.0     227\n",
      "16.0     347\n",
      "17.0     498\n",
      "18.0     365\n",
      "19.0    1223\n",
      "20.0     539\n",
      "21.0    2889\n",
      "22.0     257\n",
      "23.0     760\n",
      "24.0       3\n",
      "25.0       2\n",
      "26.0    1539\n",
      "99.0      54\n",
      "Name: FAMI_OCUPA_PADRE, dtype: int64\n",
      "Elementos null/NaN 398178\n",
      "__________________\n",
      "Elementos diferentes de null/NaN: 10148\n",
      "__________________\n",
      "(10148,)\n",
      "None\n"
     ]
    }
   ],
   "source": [
    "c = 'FAMI_OCUPA_PADRE'\n",
    "print(data_2006_2[c].value_counts().sort_index().index)\n",
    "print(data_2006_2[c].value_counts().sort_index())\n",
    "print(missing_data(data_2006_2[c]))"
   ]
  },
  {
   "cell_type": "code",
   "execution_count": 174,
   "metadata": {
    "collapsed": false,
    "scrolled": true
   },
   "outputs": [
    {
     "name": "stdout",
     "output_type": "stream",
     "text": [
      "Float64Index([ 1.0,  2.0,  4.0,  5.0,  6.0,  7.0,  8.0,  9.0, 10.0, 11.0, 12.0,\n",
      "              13.0, 14.0, 15.0, 16.0, 17.0, 18.0, 19.0, 20.0, 21.0, 22.0, 23.0,\n",
      "              24.0, 25.0, 26.0, 99.0],\n",
      "             dtype='float64')\n",
      "1.0        1\n",
      "2.0        4\n",
      "4.0        3\n",
      "5.0        6\n",
      "6.0        2\n",
      "7.0        2\n",
      "8.0        3\n",
      "9.0        6\n",
      "10.0      53\n",
      "11.0       5\n",
      "12.0      13\n",
      "13.0     147\n",
      "14.0     425\n",
      "15.0     159\n",
      "16.0     349\n",
      "17.0     392\n",
      "18.0     363\n",
      "19.0     697\n",
      "20.0     326\n",
      "21.0    1224\n",
      "22.0    4695\n",
      "23.0     427\n",
      "24.0       1\n",
      "25.0       2\n",
      "26.0     823\n",
      "99.0      20\n",
      "Name: FAMI_OCUPA_MADRE, dtype: int64\n",
      "Elementos null/NaN 398178\n",
      "__________________\n",
      "Elementos diferentes de null/NaN: 10148\n",
      "__________________\n",
      "(10148,)\n",
      "None\n"
     ]
    }
   ],
   "source": [
    "c = 'FAMI_OCUPA_MADRE'\n",
    "print(data_2006_2[c].value_counts().sort_index().index)\n",
    "print(data_2006_2[c].value_counts().sort_index())\n",
    "print(missing_data(data_2006_2[c]))"
   ]
  },
  {
   "cell_type": "code",
   "execution_count": 175,
   "metadata": {
    "collapsed": false,
    "scrolled": true
   },
   "outputs": [
    {
     "name": "stdout",
     "output_type": "stream",
     "text": [
      "Float64Index([0.0, 1.0, 2.0, 3.0, 4.0, 5.0, 6.0, 7.0, 8.0, 9.0, 10.0], dtype='float64')\n",
      "0.0      69\n",
      "1.0     152\n",
      "2.0     170\n",
      "3.0     109\n",
      "4.0      52\n",
      "5.0      28\n",
      "6.0      24\n",
      "7.0       6\n",
      "8.0       5\n",
      "9.0       2\n",
      "10.0      7\n",
      "Name: FAMI_NUM_HERMANOS, dtype: int64\n",
      "Elementos null/NaN 407702\n",
      "__________________\n",
      "Elementos diferentes de null/NaN: 624\n",
      "__________________\n",
      "(624,)\n",
      "None\n"
     ]
    }
   ],
   "source": [
    "c = 'FAMI_NUM_HERMANOS'\n",
    "print(data_2006_2[c].value_counts().sort_index().index)\n",
    "print(data_2006_2[c].value_counts().sort_index())\n",
    "print(missing_data(data_2006_2[c]))"
   ]
  },
  {
   "cell_type": "code",
   "execution_count": 176,
   "metadata": {
    "collapsed": false,
    "scrolled": true
   },
   "outputs": [
    {
     "name": "stdout",
     "output_type": "stream",
     "text": [
      "Float64Index([1.0, 2.0, 3.0, 4.0, 5.0, 6.0, 7.0, 8.0, 9.0, 88.0, 99.0], dtype='float64')\n",
      "1.0      30\n",
      "2.0      74\n",
      "3.0     152\n",
      "4.0     416\n",
      "5.0     108\n",
      "6.0     158\n",
      "7.0     112\n",
      "8.0     243\n",
      "9.0      24\n",
      "88.0    499\n",
      "99.0     35\n",
      "Name: FAMI_EDUCA_HERMANO, dtype: int64\n",
      "Elementos null/NaN 406475\n",
      "__________________\n",
      "Elementos diferentes de null/NaN: 1851\n",
      "__________________\n",
      "(1851,)\n",
      "None\n"
     ]
    }
   ],
   "source": [
    "c = 'FAMI_EDUCA_HERMANO'\n",
    "print(data_2006_2[c].value_counts().sort_index().index)\n",
    "print(data_2006_2[c].value_counts().sort_index())\n",
    "print(missing_data(data_2006_2[c]))"
   ]
  },
  {
   "cell_type": "code",
   "execution_count": 177,
   "metadata": {
    "collapsed": false
   },
   "outputs": [
    {
     "name": "stdout",
     "output_type": "stream",
     "text": [
      "Float64Index([1.0, 2.0, 88.0], dtype='float64')\n",
      "1.0     276\n",
      "2.0      38\n",
      "88.0    241\n",
      "Name: FAMI_HERMANOS_ESTUDIAN, dtype: int64\n",
      "Elementos null/NaN 407771\n",
      "__________________\n",
      "Elementos diferentes de null/NaN: 555\n",
      "__________________\n",
      "(555,)\n",
      "None\n"
     ]
    }
   ],
   "source": [
    "c = 'FAMI_HERMANOS_ESTUDIAN'\n",
    "print(data_2006_2[c].value_counts().sort_index().index)\n",
    "print(data_2006_2[c].value_counts().sort_index())\n",
    "print(missing_data(data_2006_2[c]))"
   ]
  },
  {
   "cell_type": "code",
   "execution_count": 178,
   "metadata": {
    "collapsed": false
   },
   "outputs": [
    {
     "name": "stdout",
     "output_type": "stream",
     "text": [
      "Float64Index([1.0, 2.0, 3.0, 4.0, 5.0, 6.0, 8.0], dtype='float64')\n",
      "1.0    2383\n",
      "2.0    3669\n",
      "3.0    2619\n",
      "4.0     866\n",
      "5.0     358\n",
      "6.0     247\n",
      "8.0      43\n",
      "Name: FAMI_ESTRATO_VIVIENDA, dtype: int64\n",
      "Elementos null/NaN 398141\n",
      "__________________\n",
      "Elementos diferentes de null/NaN: 10185\n",
      "__________________\n",
      "(10185,)\n",
      "None\n"
     ]
    }
   ],
   "source": [
    "c = 'FAMI_ESTRATO_VIVIENDA'\n",
    "print(data_2006_2[c].value_counts().sort_index().index)\n",
    "print(data_2006_2[c].value_counts().sort_index())\n",
    "print(missing_data(data_2006_2[c]))"
   ]
  },
  {
   "cell_type": "code",
   "execution_count": 179,
   "metadata": {
    "collapsed": false
   },
   "outputs": [
    {
     "name": "stdout",
     "output_type": "stream",
     "text": [
      "Float64Index([1.0, 2.0, 3.0, 4.0, 5.0], dtype='float64')\n",
      "1.0    3226\n",
      "2.0    2473\n",
      "3.0     622\n",
      "4.0     102\n",
      "5.0    3712\n",
      "Name: FAMI_NIVEL_SISBEN, dtype: int64\n",
      "Elementos null/NaN 398191\n",
      "__________________\n",
      "Elementos diferentes de null/NaN: 10135\n",
      "__________________\n",
      "(10135,)\n",
      "None\n"
     ]
    }
   ],
   "source": [
    "c = 'FAMI_NIVEL_SISBEN'\n",
    "print(data_2006_2[c].value_counts().sort_index().index)\n",
    "print(data_2006_2[c].value_counts().sort_index())\n",
    "print(missing_data(data_2006_2[c]))"
   ]
  },
  {
   "cell_type": "code",
   "execution_count": 180,
   "metadata": {
    "collapsed": false
   },
   "outputs": [
    {
     "name": "stdout",
     "output_type": "stream",
     "text": [
      "Float64Index([1.0, 2.0, 3.0, 4.0, 5.0, 6.0, 7.0, 8.0, 9.0, 10.0, 11.0, 12.0], dtype='float64')\n",
      "1.0      316\n",
      "2.0     1043\n",
      "3.0     2052\n",
      "4.0     2622\n",
      "5.0     2026\n",
      "6.0     1047\n",
      "7.0      434\n",
      "8.0      265\n",
      "9.0      118\n",
      "10.0      87\n",
      "11.0      34\n",
      "12.0      78\n",
      "Name: FAMI_PERSONAS_HOGAR, dtype: int64\n",
      "Elementos null/NaN 398204\n",
      "__________________\n",
      "Elementos diferentes de null/NaN: 10122\n",
      "__________________\n",
      "(10122,)\n",
      "None\n"
     ]
    }
   ],
   "source": [
    "c = 'FAMI_PERSONAS_HOGAR'\n",
    "print(data_2006_2[c].value_counts().sort_index().index)\n",
    "print(data_2006_2[c].value_counts().sort_index())\n",
    "print(missing_data(data_2006_2[c]))"
   ]
  },
  {
   "cell_type": "code",
   "execution_count": 181,
   "metadata": {
    "collapsed": false
   },
   "outputs": [
    {
     "name": "stdout",
     "output_type": "stream",
     "text": [
      "Float64Index([1.0, 2.0, 3.0, 4.0, 5.0], dtype='float64')\n",
      "1.0     313\n",
      "2.0    3097\n",
      "3.0     521\n",
      "4.0    5345\n",
      "5.0     859\n",
      "Name: FAMI_PISOSHOGAR, dtype: int64\n",
      "Elementos null/NaN 398191\n",
      "__________________\n",
      "Elementos diferentes de null/NaN: 10135\n",
      "__________________\n",
      "(10135,)\n",
      "None\n"
     ]
    }
   ],
   "source": [
    "c = 'FAMI_PISOSHOGAR'\n",
    "print(data_2006_2[c].value_counts().sort_index().index)\n",
    "print(data_2006_2[c].value_counts().sort_index())\n",
    "print(missing_data(data_2006_2[c]))"
   ]
  },
  {
   "cell_type": "code",
   "execution_count": 182,
   "metadata": {
    "collapsed": false
   },
   "outputs": [
    {
     "name": "stdout",
     "output_type": "stream",
     "text": [
      "Float64Index([1.0, 2.0, 3.0, 4.0, 5.0, 6.0, 7.0, 8.0, 9.0, 10.0], dtype='float64')\n",
      "1.0      48\n",
      "2.0     240\n",
      "3.0     532\n",
      "4.0     575\n",
      "5.0     369\n",
      "6.0     194\n",
      "7.0      70\n",
      "8.0      45\n",
      "9.0      20\n",
      "10.0     29\n",
      "Name: FAMI_CUARTOS_HOGAR, dtype: int64\n",
      "Elementos null/NaN 406204\n",
      "__________________\n",
      "Elementos diferentes de null/NaN: 2122\n",
      "__________________\n",
      "(2122,)\n",
      "None\n"
     ]
    }
   ],
   "source": [
    "c = 'FAMI_CUARTOS_HOGAR'\n",
    "print(data_2006_2[c].value_counts().sort_index().index)\n",
    "print(data_2006_2[c].value_counts().sort_index())\n",
    "print(missing_data(data_2006_2[c]))"
   ]
  },
  {
   "cell_type": "code",
   "execution_count": 183,
   "metadata": {
    "collapsed": false
   },
   "outputs": [
    {
     "name": "stdout",
     "output_type": "stream",
     "text": [
      "Float64Index([1.0, 2.0, 3.0, 4.0, 5.0, 6.0, 7.0, 8.0, 9.0, 10.0], dtype='float64')\n",
      "1.0      766\n",
      "2.0     3072\n",
      "3.0     4106\n",
      "4.0     1475\n",
      "5.0      417\n",
      "6.0      144\n",
      "7.0       34\n",
      "8.0       25\n",
      "9.0        7\n",
      "10.0      24\n",
      "Name: FAMI_DORMITORIOS_HOGAR, dtype: int64\n",
      "Elementos null/NaN 398256\n",
      "__________________\n",
      "Elementos diferentes de null/NaN: 10070\n",
      "__________________\n",
      "(10070,)\n",
      "None\n"
     ]
    }
   ],
   "source": [
    "c = 'FAMI_DORMITORIOS_HOGAR'\n",
    "print(data_2006_2[c].value_counts().sort_index().index)\n",
    "print(data_2006_2[c].value_counts().sort_index())\n",
    "print(missing_data(data_2006_2[c]))"
   ]
  },
  {
   "cell_type": "code",
   "execution_count": 184,
   "metadata": {
    "collapsed": false
   },
   "outputs": [
    {
     "name": "stdout",
     "output_type": "stream",
     "text": [
      "Float64Index([0.0, 1.0, 2.0, 3.0, 4.0], dtype='float64')\n",
      "0.0    3095\n",
      "1.0      59\n",
      "2.0       7\n",
      "3.0    6958\n",
      "4.0      16\n",
      "Name: FAMI_COMPUTADOR, dtype: int64\n",
      "Elementos null/NaN 398191\n",
      "__________________\n",
      "Elementos diferentes de null/NaN: 10135\n",
      "__________________\n",
      "(10135,)\n",
      "None\n"
     ]
    }
   ],
   "source": [
    "c = 'FAMI_COMPUTADOR'\n",
    "print(data_2006_2[c].value_counts().sort_index().index)\n",
    "print(data_2006_2[c].value_counts().sort_index())\n",
    "print(missing_data(data_2006_2[c]))"
   ]
  },
  {
   "cell_type": "code",
   "execution_count": 185,
   "metadata": {
    "collapsed": false
   },
   "outputs": [
    {
     "name": "stdout",
     "output_type": "stream",
     "text": [
      "Float64Index([1.0, 2.0, 3.0, 4.0, 5.0, 6.0, 7.0], dtype='float64')\n",
      "1.0    1793\n",
      "2.0    4187\n",
      "3.0    2080\n",
      "4.0    1121\n",
      "5.0     423\n",
      "6.0     266\n",
      "7.0     265\n",
      "Name: FAMI_INGRESO_FMILIAR_MENSUAL, dtype: int64\n",
      "Elementos null/NaN 398191\n",
      "__________________\n",
      "Elementos diferentes de null/NaN: 10135\n",
      "__________________\n",
      "(10135,)\n",
      "None\n"
     ]
    }
   ],
   "source": [
    "c = 'FAMI_INGRESO_FMILIAR_MENSUAL'\n",
    "print(data_2006_2[c].value_counts().sort_index().index)\n",
    "print(data_2006_2[c].value_counts().sort_index())\n",
    "print(missing_data(data_2006_2[c]))"
   ]
  },
  {
   "cell_type": "code",
   "execution_count": 186,
   "metadata": {
    "collapsed": false
   },
   "outputs": [
    {
     "name": "stdout",
     "output_type": "stream",
     "text": [
      "Float64Index([0.0, 1.0, 2.0, 3.0, 4.0, 5.0, 6.0, 7.0], dtype='float64')\n",
      "0.0    5158\n",
      "1.0      97\n",
      "2.0      33\n",
      "3.0    2375\n",
      "4.0     716\n",
      "5.0    1075\n",
      "6.0      13\n",
      "7.0      26\n",
      "Name: ESTU_TRABAJA, dtype: int64\n",
      "Elementos null/NaN 398833\n",
      "__________________\n",
      "Elementos diferentes de null/NaN: 9493\n",
      "__________________\n",
      "(9493,)\n",
      "None\n"
     ]
    }
   ],
   "source": [
    "c = 'ESTU_TRABAJA'\n",
    "print(data_2006_2[c].value_counts().sort_index().index)\n",
    "print(data_2006_2[c].value_counts().sort_index())\n",
    "print(missing_data(data_2006_2[c]))"
   ]
  },
  {
   "cell_type": "code",
   "execution_count": 187,
   "metadata": {
    "collapsed": false,
    "scrolled": true
   },
   "outputs": [
    {
     "name": "stdout",
     "output_type": "stream",
     "text": [
      "Float64Index([ 0.0,  1.0,  2.0,  3.0,  4.0,  5.0,  6.0,  7.0,  8.0,  9.0, 10.0,\n",
      "              11.0, 12.0, 13.0, 14.0, 15.0, 16.0, 17.0, 18.0, 19.0, 20.0],\n",
      "             dtype='float64')\n",
      "0.0       10\n",
      "1.0        6\n",
      "2.0       18\n",
      "3.0       24\n",
      "4.0       82\n",
      "5.0       47\n",
      "6.0       66\n",
      "7.0       32\n",
      "8.0      337\n",
      "9.0       65\n",
      "10.0     140\n",
      "11.0      16\n",
      "12.0     105\n",
      "13.0      10\n",
      "14.0      19\n",
      "15.0      49\n",
      "16.0      71\n",
      "17.0      14\n",
      "18.0      82\n",
      "19.0      28\n",
      "20.0    2925\n",
      "Name: ESTU_HORAS_TRABAJA, dtype: int64\n",
      "Elementos null/NaN 404180\n",
      "__________________\n",
      "Elementos diferentes de null/NaN: 4146\n",
      "__________________\n",
      "(4146,)\n",
      "None\n"
     ]
    }
   ],
   "source": [
    "c = 'ESTU_HORAS_TRABAJA'\n",
    "print(data_2006_2[c].value_counts().sort_index().index)\n",
    "print(data_2006_2[c].value_counts().sort_index())\n",
    "print(missing_data(data_2006_2[c]))"
   ]
  },
  {
   "cell_type": "code",
   "execution_count": 188,
   "metadata": {
    "collapsed": false
   },
   "outputs": [
    {
     "name": "stdout",
     "output_type": "stream",
     "text": [
      "Float64Index([0.0, 1.0, 2.0, 3.0, 4.0, 5.0, 6.0, 7.0, 8.0, 9.0, 11.0, 12.0], dtype='float64')\n",
      "0.0     222791\n",
      "1.0      94831\n",
      "2.0      16314\n",
      "3.0      13268\n",
      "4.0      16440\n",
      "5.0      19864\n",
      "6.0      15490\n",
      "7.0       9159\n",
      "8.0         82\n",
      "9.0         12\n",
      "11.0         1\n",
      "12.0         3\n",
      "Name: COLE_VALOR_PENSION, dtype: int64\n",
      "Elementos null/NaN 71\n",
      "__________________\n",
      "Elementos diferentes de null/NaN: 408255\n",
      "__________________\n",
      "(408255,)\n",
      "None\n"
     ]
    }
   ],
   "source": [
    "c = 'COLE_VALOR_PENSION'\n",
    "print(data_2006_2[c].value_counts().sort_index().index)\n",
    "print(data_2006_2[c].value_counts().sort_index())\n",
    "print(missing_data(data_2006_2[c]))"
   ]
  },
  {
   "cell_type": "code",
   "execution_count": 189,
   "metadata": {
    "collapsed": false
   },
   "outputs": [
    {
     "name": "stdout",
     "output_type": "stream",
     "text": [
      "Float64Index([0.0, 1.0, 2.0, 3.0], dtype='float64')\n",
      "0.0     2\n",
      "1.0     4\n",
      "2.0     2\n",
      "3.0    11\n",
      "Name: ESTU_CARRDESEADA_TIPO, dtype: int64\n",
      "Elementos null/NaN 408307\n",
      "__________________\n",
      "Elementos diferentes de null/NaN: 19\n",
      "__________________\n",
      "(19,)\n",
      "None\n"
     ]
    }
   ],
   "source": [
    "c = 'ESTU_CARRDESEADA_TIPO'\n",
    "print(data_2006_2[c].value_counts().sort_index().index)\n",
    "print(data_2006_2[c].value_counts().sort_index())\n",
    "print(missing_data(data_2006_2[c]))"
   ]
  },
  {
   "cell_type": "code",
   "execution_count": 190,
   "metadata": {
    "collapsed": false,
    "scrolled": true
   },
   "outputs": [
    {
     "name": "stdout",
     "output_type": "stream",
     "text": [
      "Float64Index([7.0, 9.0, 12.0, 27.0, 30.0, 31.0, 32.0, 41.0, 59.0, 66.0, 69.0,\n",
      "              99.0],\n",
      "             dtype='float64')\n",
      "7.0     2\n",
      "9.0     3\n",
      "12.0    2\n",
      "27.0    1\n",
      "30.0    1\n",
      "31.0    2\n",
      "32.0    1\n",
      "41.0    1\n",
      "59.0    1\n",
      "66.0    1\n",
      "69.0    1\n",
      "99.0    1\n",
      "Name: ESTU_CARRDESEADA_NUCLEO, dtype: int64\n",
      "Elementos null/NaN 408309\n",
      "__________________\n",
      "Elementos diferentes de null/NaN: 17\n",
      "__________________\n",
      "(17,)\n",
      "None\n"
     ]
    }
   ],
   "source": [
    "c = 'ESTU_CARRDESEADA_NUCLEO'\n",
    "print(data_2006_2[c].value_counts().sort_index().index)\n",
    "print(data_2006_2[c].value_counts().sort_index())\n",
    "print(missing_data(data_2006_2[c]))"
   ]
  },
  {
   "cell_type": "code",
   "execution_count": 191,
   "metadata": {
    "collapsed": false,
    "scrolled": true
   },
   "outputs": [
    {
     "name": "stdout",
     "output_type": "stream",
     "text": [
      "Float64Index([ 1101.0,  1102.0,  1103.0,  1104.0,  1105.0,  1106.0,  1107.0,\n",
      "               1108.0,  1109.0,  1110.0,\n",
      "              ...\n",
      "               9105.0,  9107.0,  9109.0,  9110.0,  9111.0,  9112.0,  9113.0,\n",
      "               9114.0,  9115.0, 73502.0],\n",
      "             dtype='float64', length=332)\n",
      "1101.0     47660\n",
      "1102.0      3308\n",
      "1103.0      1603\n",
      "1104.0       126\n",
      "1105.0      3624\n",
      "1106.0      4337\n",
      "1107.0       447\n",
      "1108.0       569\n",
      "1109.0       132\n",
      "1110.0      3945\n",
      "1111.0      4175\n",
      "1112.0      3737\n",
      "1113.0      5289\n",
      "1114.0      4454\n",
      "1115.0      1179\n",
      "1117.0      1264\n",
      "1118.0      1782\n",
      "1119.0      2593\n",
      "1120.0      3145\n",
      "1121.0       392\n",
      "1122.0        63\n",
      "1123.0       200\n",
      "1124.0        76\n",
      "1125.0        20\n",
      "1201.0     30553\n",
      "1202.0      5943\n",
      "1203.0      2436\n",
      "1204.0     11548\n",
      "1205.0      8617\n",
      "1206.0       408\n",
      "           ...  \n",
      "4814.0        52\n",
      "4817.0       583\n",
      "4818.0       188\n",
      "4822.0       106\n",
      "4823.0        80\n",
      "4825.0        44\n",
      "4826.0       191\n",
      "4827.0       120\n",
      "4828.0        46\n",
      "4829.0        45\n",
      "4832.0        63\n",
      "4835.0       180\n",
      "4837.0        84\n",
      "4838.0       127\n",
      "5801.0        31\n",
      "5802.0       117\n",
      "9101.0      1067\n",
      "9102.0       687\n",
      "9103.0       922\n",
      "9104.0      2230\n",
      "9105.0       613\n",
      "9107.0       189\n",
      "9109.0        43\n",
      "9110.0      9598\n",
      "9111.0       321\n",
      "9112.0      2433\n",
      "9113.0       182\n",
      "9114.0       446\n",
      "9115.0        48\n",
      "73502.0        1\n",
      "Name: ESTU_IES_COD_DESEADA, dtype: int64\n",
      "Elementos null/NaN 129258\n",
      "__________________\n",
      "Elementos diferentes de null/NaN: 279068\n",
      "__________________\n",
      "(279068,)\n",
      "None\n"
     ]
    }
   ],
   "source": [
    "c = 'ESTU_IES_COD_DESEADA'\n",
    "print(data_2006_2[c].value_counts().sort_index().index)\n",
    "print(data_2006_2[c].value_counts().sort_index())\n",
    "print(missing_data(data_2006_2[c]))"
   ]
  },
  {
   "cell_type": "code",
   "execution_count": 192,
   "metadata": {
    "collapsed": false,
    "scrolled": true
   },
   "outputs": [
    {
     "name": "stdout",
     "output_type": "stream",
     "text": [
      "Index(['AGUACHICA', 'ANDES', 'APARTADO', 'ARAUCA', 'ARMENIA',\n",
      "       'BARRANCABERMEJA', 'BARRANQUILLA', 'BELLO', 'BOGOTÃ D.C.',\n",
      "       'BUCARAMANGA', 'BUENAVENTURA', 'BUGA', 'CALDAS', 'CALI',\n",
      "       'CARMEN DE VIBORAL', 'CARTAGENA', 'CARTAGO', 'CAUCASIA', 'CERETE',\n",
      "       'CHIA', 'CHIQUINQUIRA', 'CIENAGA', 'COPACABANA', 'CUCUTA', 'DUITAMA',\n",
      "       'ENVIGADO', 'ESPINAL', 'FACATATIVA', 'FLORENCIA', 'FUSAGASUGA',\n",
      "       'GIRARDOT', 'HONDA', 'IBAGUE', 'LETICIA', 'MADRID', 'MALAGA',\n",
      "       'MANIZALES', 'MEDELLIN', 'MOCOA', 'MONTERIA', 'MOSQUERA', 'NEIVA',\n",
      "       'NILO', 'OCAÃA', 'PALMIRA', 'PAMPLONA', 'PASTO', 'PENSILVANIA',\n",
      "       'PEREIRA', 'POPAYAN', 'PUERTO BERRIO', 'PUERTO TEJADA', 'QUIBDO',\n",
      "       'RIOHACHA', 'RIONEGRO', 'ROLDANILLO', 'SABANETA', 'SAN ANDRES',\n",
      "       'SAN GIL', 'SAN JUAN DEL CESAR', 'SANTA MARTA', 'SANTA ROSA DE CABAL',\n",
      "       'SANTA ROSA DE OSOS', 'SANTAFÃ DE ANTIOQUIA', 'SEVILLA', 'SIBUNDOY',\n",
      "       'SINCELEJO', 'SOCORRO', 'SOGAMOSO', 'SOLEDAD', 'TOLU', 'TULUA', 'TUNJA',\n",
      "       'TURBO', 'UBATE', 'VALLEDUPAR', 'VILLAVICENCIO', 'YOPAL'],\n",
      "      dtype='object')\n",
      "AGUACHICA                   200\n",
      "ANDES                       280\n",
      "APARTADO                      2\n",
      "ARAUCA                       76\n",
      "ARMENIA                    2327\n",
      "BARRANCABERMEJA             299\n",
      "BARRANQUILLA              15424\n",
      "BELLO                       181\n",
      "BOGOTÃ D.C.             106738\n",
      "BUCARAMANGA               16086\n",
      "BUENAVENTURA                 63\n",
      "BUGA                         57\n",
      "CALDAS                      105\n",
      "CALI                       4742\n",
      "CARMEN DE VIBORAL           154\n",
      "CARTAGENA                 11662\n",
      "CARTAGO                      51\n",
      "CAUCASIA                    618\n",
      "CERETE                       15\n",
      "CHIA                       1210\n",
      "CHIQUINQUIRA                132\n",
      "CIENAGA                      81\n",
      "COPACABANA                    7\n",
      "CUCUTA                     3594\n",
      "DUITAMA                     447\n",
      "ENVIGADO                    127\n",
      "ESPINAL                      63\n",
      "FACATATIVA                   31\n",
      "FLORENCIA                  1179\n",
      "FUSAGASUGA                  912\n",
      "                          ...  \n",
      "PEREIRA                    5588\n",
      "POPAYAN                    4174\n",
      "PUERTO BERRIO               216\n",
      "PUERTO TEJADA                 4\n",
      "QUIBDO                     1782\n",
      "RIOHACHA                    873\n",
      "RIONEGRO                    208\n",
      "ROLDANILLO                    2\n",
      "SABANETA                     14\n",
      "SAN ANDRES                   97\n",
      "SAN GIL                     144\n",
      "SAN JUAN DEL CESAR           94\n",
      "SANTA MARTA                5860\n",
      "SANTA ROSA DE CABAL          71\n",
      "SANTA ROSA DE OSOS           21\n",
      "SANTAFÃ DE ANTIOQUIA        16\n",
      "SEVILLA                       4\n",
      "SIBUNDOY                      3\n",
      "SINCELEJO                  3270\n",
      "SOCORRO                     167\n",
      "SOGAMOSO                    569\n",
      "SOLEDAD                     220\n",
      "TOLU                         94\n",
      "TULUA                        94\n",
      "TUNJA                      4948\n",
      "TURBO                       471\n",
      "UBATE                       206\n",
      "VALLEDUPAR                 3145\n",
      "VILLAVICENCIO              2903\n",
      "YOPAL                        16\n",
      "Name: ESTU_IES_MPIO_DESEADA, dtype: int64\n",
      "Elementos null/NaN 129258\n",
      "__________________\n",
      "Elementos diferentes de null/NaN: 279068\n",
      "__________________\n",
      "(279068,)\n",
      "None\n"
     ]
    }
   ],
   "source": [
    "c = 'ESTU_IES_MPIO_DESEADA'\n",
    "print(data_2006_2[c].value_counts().sort_index().index)\n",
    "print(data_2006_2[c].value_counts().sort_index())\n",
    "print(missing_data(data_2006_2[c]))"
   ]
  },
  {
   "cell_type": "code",
   "execution_count": 193,
   "metadata": {
    "collapsed": true
   },
   "outputs": [],
   "source": [
    "data_2006_2[c] = data_2006_2[c].replace('BOGOTÃ D.C.', 'BOGOTA')\n",
    "data_2006_2[c] = data_2006_2[c].replace('OCAÃA', 'OCAÑA')\n",
    "data_2006_2[c] = data_2006_2[c].replace('SANTAFÃ DE ANTIOQUIA', 'SANTAFE DE ANTIOQUIA')"
   ]
  },
  {
   "cell_type": "code",
   "execution_count": 194,
   "metadata": {
    "collapsed": false,
    "scrolled": true
   },
   "outputs": [
    {
     "name": "stdout",
     "output_type": "stream",
     "text": [
      "Index(['AMAZONAS', 'ANTIOQUIA', 'ARAUCA', 'ATLÃNTICO', 'BOGOTÃ', 'BOLÃVAR',\n",
      "       'BOYACÃ', 'CALDAS', 'CAQUETÃ', 'CASANARE', 'CAUCA', 'CESAR', 'CHOCÃ',\n",
      "       'CUNDINAMARCA', 'CÃRDOBA', 'HUILA', 'LA GUAJIRA', 'MAGDALENA', 'META',\n",
      "       'NARIÃO', 'NORTE SANTANDER', 'PUTUMAYO', 'QUINDÃO', 'RISARALDA',\n",
      "       'SAN ANDRÃS', 'SANTANDER', 'SUCRE', 'TOLIMA', 'VALLE'],\n",
      "      dtype='object')\n",
      "AMAZONAS               20\n",
      "ANTIOQUIA           49214\n",
      "ARAUCA                 76\n",
      "ATLÃNTICO          15644\n",
      "BOGOTÃ            106738\n",
      "BOLÃVAR            11662\n",
      "BOYACÃ              6096\n",
      "CALDAS               6929\n",
      "CAQUETÃ             1179\n",
      "CASANARE               16\n",
      "CAUCA                4178\n",
      "CESAR                3345\n",
      "CHOCÃ               1782\n",
      "CUNDINAMARCA         4467\n",
      "CÃRDOBA             6376\n",
      "HUILA                4602\n",
      "LA GUAJIRA            967\n",
      "MAGDALENA            5941\n",
      "META                 2903\n",
      "NARIÃO               536\n",
      "NORTE SANTANDER      7150\n",
      "PUTUMAYO               46\n",
      "QUINDÃO             2327\n",
      "RISARALDA            5659\n",
      "SAN ANDRÃS            97\n",
      "SANTANDER           16703\n",
      "SUCRE                3364\n",
      "TOLIMA               5869\n",
      "VALLE                5182\n",
      "Name: ESTU_IES_DEPT_DESEADA, dtype: int64\n",
      "Elementos null/NaN 129258\n",
      "__________________\n",
      "Elementos diferentes de null/NaN: 279068\n",
      "__________________\n",
      "(279068,)\n",
      "None\n"
     ]
    }
   ],
   "source": [
    "c = 'ESTU_IES_DEPT_DESEADA'\n",
    "print(data_2006_2[c].value_counts().sort_index().index)\n",
    "print(data_2006_2[c].value_counts().sort_index())\n",
    "print(missing_data(data_2006_2[c]))"
   ]
  },
  {
   "cell_type": "code",
   "execution_count": 195,
   "metadata": {
    "collapsed": true
   },
   "outputs": [],
   "source": [
    "data_2006_2['ESTU_IES_DEPT_DESEADA'] = data_2006_2['ESTU_IES_DEPT_DESEADA'].replace('ATLÃNTICO', 'ATLANTICO')\n",
    "data_2006_2['ESTU_IES_DEPT_DESEADA'] = data_2006_2['ESTU_IES_DEPT_DESEADA'].replace('BOGOTÃ', 'BOGOTA')\n",
    "data_2006_2['ESTU_IES_DEPT_DESEADA'] = data_2006_2['ESTU_IES_DEPT_DESEADA'].replace('BOLÃVAR', 'BOLIVAR')\n",
    "data_2006_2['ESTU_IES_DEPT_DESEADA'] = data_2006_2['ESTU_IES_DEPT_DESEADA'].replace('BOYACÃ', 'BOYACA')\n",
    "data_2006_2['ESTU_IES_DEPT_DESEADA'] = data_2006_2['ESTU_IES_DEPT_DESEADA'].replace('CAQUETÃ', 'CAQUETA')\n",
    "data_2006_2['ESTU_IES_DEPT_DESEADA'] = data_2006_2['ESTU_IES_DEPT_DESEADA'].replace('CHOCÃ', 'CHOCO')\n",
    "data_2006_2['ESTU_IES_DEPT_DESEADA'] = data_2006_2['ESTU_IES_DEPT_DESEADA'].replace('CÃRDOBA', 'CORDOBA')\n",
    "data_2006_2['ESTU_IES_DEPT_DESEADA'] = data_2006_2['ESTU_IES_DEPT_DESEADA'].replace('NARIÃO', 'NARIÑO')\n",
    "data_2006_2['ESTU_IES_DEPT_DESEADA'] = data_2006_2['ESTU_IES_DEPT_DESEADA'].replace('QUINDÃO', 'QUINDIO')\n",
    "data_2006_2['ESTU_IES_DEPT_DESEADA'] = data_2006_2['ESTU_IES_DEPT_DESEADA'].replace('SAN ANDRÃS', 'SAN ANDRES')"
   ]
  },
  {
   "cell_type": "code",
   "execution_count": 196,
   "metadata": {
    "collapsed": false
   },
   "outputs": [
    {
     "name": "stdout",
     "output_type": "stream",
     "text": [
      "Float64Index([1.0, 2.0, 3.0, 4.0, 5.0, 6.0, 7.0, 8.0], dtype='float64')\n",
      "1.0      8967\n",
      "2.0     38405\n",
      "3.0    133877\n",
      "4.0     37921\n",
      "5.0     28529\n",
      "6.0     17806\n",
      "7.0     21686\n",
      "8.0     21974\n",
      "Name: ESTU_RAZONINSTITUTO, dtype: int64\n",
      "Elementos null/NaN 99161\n",
      "__________________\n",
      "Elementos diferentes de null/NaN: 309165\n",
      "__________________\n",
      "(309165,)\n",
      "None\n"
     ]
    }
   ],
   "source": [
    "c = 'ESTU_RAZONINSTITUTO'\n",
    "print(data_2006_2[c].value_counts().sort_index().index)\n",
    "print(data_2006_2[c].value_counts().sort_index())\n",
    "print(missing_data(data_2006_2[c]))"
   ]
  },
  {
   "cell_type": "code",
   "execution_count": 197,
   "metadata": {
    "collapsed": false,
    "scrolled": true
   },
   "outputs": [
    {
     "name": "stdout",
     "output_type": "stream",
     "text": [
      "Float64Index([    1.0,     2.0,     4.0,     5.0,     7.0,    18.0,    26.0,\n",
      "                 27.0,    36.0,    53.0,\n",
      "              ...\n",
      "              22889.0, 22892.0, 22923.0, 22939.0, 22965.0, 22967.0, 22980.0,\n",
      "              22986.0, 24642.0, 24643.0],\n",
      "             dtype='float64', length=5639)\n",
      "1.0          1\n",
      "2.0          3\n",
      "4.0         98\n",
      "5.0        288\n",
      "7.0         11\n",
      "18.0        16\n",
      "26.0         2\n",
      "27.0         3\n",
      "36.0        43\n",
      "53.0        16\n",
      "57.0         1\n",
      "58.0         1\n",
      "59.0         1\n",
      "60.0         5\n",
      "61.0         3\n",
      "63.0        47\n",
      "64.0        36\n",
      "66.0         7\n",
      "68.0         9\n",
      "74.0        11\n",
      "78.0         1\n",
      "86.0         7\n",
      "87.0        88\n",
      "88.0         2\n",
      "89.0         9\n",
      "95.0         1\n",
      "98.0         3\n",
      "101.0        3\n",
      "102.0      431\n",
      "103.0      801\n",
      "          ... \n",
      "22437.0      1\n",
      "22441.0      1\n",
      "22468.0      2\n",
      "22478.0      1\n",
      "22497.0      5\n",
      "22516.0      1\n",
      "22588.0      1\n",
      "22620.0      1\n",
      "22640.0      1\n",
      "22658.0      3\n",
      "22669.0      1\n",
      "22682.0      1\n",
      "22696.0      1\n",
      "22705.0      2\n",
      "22739.0      3\n",
      "22817.0      1\n",
      "22831.0      1\n",
      "22852.0      1\n",
      "22862.0      2\n",
      "22869.0      1\n",
      "22889.0      1\n",
      "22892.0      3\n",
      "22923.0      1\n",
      "22939.0      1\n",
      "22965.0      1\n",
      "22967.0      6\n",
      "22980.0      1\n",
      "22986.0      1\n",
      "24642.0    185\n",
      "24643.0      2\n",
      "Name: ESTU_CARRDESEADA_COD, dtype: int64\n",
      "Elementos null/NaN 135538\n",
      "__________________\n",
      "Elementos diferentes de null/NaN: 272788\n",
      "__________________\n",
      "(272788,)\n",
      "None\n"
     ]
    }
   ],
   "source": [
    "c = 'ESTU_CARRDESEADA_COD'\n",
    "print(data_2006_2[c].value_counts().sort_index().index)\n",
    "print(data_2006_2[c].value_counts().sort_index())\n",
    "print(missing_data(data_2006_2[c]))"
   ]
  },
  {
   "cell_type": "code",
   "execution_count": 198,
   "metadata": {
    "collapsed": false
   },
   "outputs": [
    {
     "name": "stdout",
     "output_type": "stream",
     "text": [
      "Float64Index([1.0, 2.0, 3.0, 4.0, 5.0, 6.0, 7.0], dtype='float64')\n",
      "1.0     89035\n",
      "2.0    102280\n",
      "3.0     52505\n",
      "4.0     32440\n",
      "5.0     25645\n",
      "6.0      9511\n",
      "7.0         1\n",
      "Name: ESTU_CARRDESEADA_RAZON, dtype: int64\n",
      "Elementos null/NaN 96909\n",
      "__________________\n",
      "Elementos diferentes de null/NaN: 311417\n",
      "__________________\n",
      "(311417,)\n",
      "None\n"
     ]
    }
   ],
   "source": [
    "c = 'ESTU_CARRDESEADA_RAZON'\n",
    "print(data_2006_2[c].value_counts().sort_index().index)\n",
    "print(data_2006_2[c].value_counts().sort_index())\n",
    "print(missing_data(data_2006_2[c]))"
   ]
  },
  {
   "cell_type": "markdown",
   "metadata": {},
   "source": [
    "### TARGETS"
   ]
  },
  {
   "cell_type": "code",
   "execution_count": 199,
   "metadata": {
    "collapsed": false,
    "scrolled": true
   },
   "outputs": [
    {
     "name": "stdout",
     "output_type": "stream",
     "text": [
      "Index(['0', '100,28', '18,11', '26,06', '31,04', '34,81', '37,92', '40,63',\n",
      "       '43,06', '45,3', '47,41', '49,43', '51,38', '53,3', '55,21', '57,14',\n",
      "       '59,11', '61,16', '63,33', '65,67', '68,26', '71,24', '74,87', '79,68',\n",
      "       '87,44'],\n",
      "      dtype='object')\n",
      "0            28\n",
      "100,28        1\n",
      "18,11       262\n",
      "26,06      1263\n",
      "31,04      3958\n",
      "34,81      9518\n",
      "37,92     18494\n",
      "40,63     29398\n",
      "43,06     40732\n",
      "45,3      48735\n",
      "47,41     51634\n",
      "49,43     49836\n",
      "51,38     43756\n",
      "53,3      35002\n",
      "55,21     26471\n",
      "57,14     18835\n",
      "59,11     12571\n",
      "61,16      8107\n",
      "63,33      4711\n",
      "65,67      2657\n",
      "68,26      1417\n",
      "71,24       616\n",
      "74,87       232\n",
      "79,68        79\n",
      "87,44        13\n",
      "Name: PUNT_LENGUAJE, dtype: int64\n",
      "Elementos null/NaN 0\n",
      "__________________\n",
      "Elementos diferentes de null/NaN: 408326\n",
      "__________________\n",
      "(408326,)\n",
      "None\n"
     ]
    }
   ],
   "source": [
    "c = 'PUNT_LENGUAJE'\n",
    "print(data_2006_2[c].value_counts().sort_index().index)\n",
    "print(data_2006_2[c].value_counts().sort_index())\n",
    "print(missing_data(data_2006_2[c]))"
   ]
  },
  {
   "cell_type": "code",
   "execution_count": 200,
   "metadata": {
    "collapsed": false
   },
   "outputs": [],
   "source": [
    "for i in data_2006_2[c].value_counts().sort_index().index:\n",
    "    if ',' in i:\n",
    "        data_2006_2[c] = data_2006_2[c].replace(i, i.replace(',', '.'))\n",
    "\n",
    "for i in data_2006_2[c].value_counts().sort_index().index:\n",
    "    if type(i) == str:\n",
    "        data_2006_2[c] = data_2006_2[c].replace(i, float(i))"
   ]
  },
  {
   "cell_type": "code",
   "execution_count": 201,
   "metadata": {
    "collapsed": false,
    "scrolled": true
   },
   "outputs": [
    {
     "name": "stdout",
     "output_type": "stream",
     "text": [
      "Index(['0', '115,67', '14,92', '24,75', '30,91', '35,55', '39,38', '42,69',\n",
      "       '45,66', '48,4', '50,97', '53,42', '55,8', '58,15', '60,48', '62,84',\n",
      "       '65,25', '67,77', '70,42', '73,29', '76,47', '80,14', '84,58', '90,48',\n",
      "       '99,98'],\n",
      "      dtype='object')\n",
      "0           230\n",
      "115,67        1\n",
      "14,92      1750\n",
      "24,75      7180\n",
      "30,91     19642\n",
      "35,55     37762\n",
      "39,38     55434\n",
      "42,69     64521\n",
      "45,66     61917\n",
      "48,4      51453\n",
      "50,97     37720\n",
      "53,42     25844\n",
      "55,8      16840\n",
      "58,15     10754\n",
      "60,48      6764\n",
      "62,84      4193\n",
      "65,25      2682\n",
      "67,77      1655\n",
      "70,42       877\n",
      "73,29       530\n",
      "76,47       307\n",
      "80,14       157\n",
      "84,58        71\n",
      "90,48        34\n",
      "99,98         8\n",
      "Name: PUNT_MATEMATICAS, dtype: int64\n",
      "Elementos null/NaN 0\n",
      "__________________\n",
      "Elementos diferentes de null/NaN: 408326\n",
      "__________________\n",
      "(408326,)\n",
      "None\n"
     ]
    }
   ],
   "source": [
    "c = 'PUNT_MATEMATICAS'\n",
    "print(data_2006_2[c].value_counts().sort_index().index)\n",
    "print(data_2006_2[c].value_counts().sort_index())\n",
    "print(missing_data(data_2006_2[c]))"
   ]
  },
  {
   "cell_type": "code",
   "execution_count": 202,
   "metadata": {
    "collapsed": true
   },
   "outputs": [],
   "source": [
    "for i in data_2006_2[c].value_counts().sort_index().index:\n",
    "    if ',' in i:\n",
    "        data_2006_2[c] = data_2006_2[c].replace(i, i.replace(',', '.'))\n",
    "\n",
    "for i in data_2006_2[c].value_counts().sort_index().index:\n",
    "    if type(i) == str:\n",
    "        data_2006_2[c] = data_2006_2[c].replace(i, float(i))"
   ]
  },
  {
   "cell_type": "code",
   "execution_count": 203,
   "metadata": {
    "collapsed": false,
    "scrolled": true
   },
   "outputs": [
    {
     "name": "stdout",
     "output_type": "stream",
     "text": [
      "Index(['0', '109,76', '12,87', '18,82', '23,29', '26,95', '3,34', '30,09',\n",
      "       '32,88', '35,42', '37,77', '39,97', '42,07', '44,09', '46,05', '47,97',\n",
      "       '49,87', '51,76', '53,67', '55,59', '57,56', '59,6', '61,72', '63,97',\n",
      "       '66,39', '69,03', '72', '75,45', '79,68', '85,34', '94,52'],\n",
      "      dtype='object')\n",
      "0            23\n",
      "109,76        1\n",
      "12,87       231\n",
      "18,82       821\n",
      "23,29      2290\n",
      "26,95      5370\n",
      "3,34         46\n",
      "30,09      9897\n",
      "32,88     16246\n",
      "35,42     23534\n",
      "37,77     30827\n",
      "39,97     36481\n",
      "42,07     40120\n",
      "44,09     41211\n",
      "46,05     39622\n",
      "47,97     36306\n",
      "49,87     31125\n",
      "51,76     25875\n",
      "53,67     20500\n",
      "55,59     15305\n",
      "57,56     11135\n",
      "59,6       8031\n",
      "61,72      5439\n",
      "63,97      3579\n",
      "66,39      2179\n",
      "69,03      1215\n",
      "72          553\n",
      "75,45       241\n",
      "79,68        97\n",
      "85,34        23\n",
      "94,52         3\n",
      "Name: PUNT_C_SOCIALES, dtype: int64\n",
      "Elementos null/NaN 0\n",
      "__________________\n",
      "Elementos diferentes de null/NaN: 408326\n",
      "__________________\n",
      "(408326,)\n",
      "None\n"
     ]
    }
   ],
   "source": [
    "c = 'PUNT_C_SOCIALES'\n",
    "print(data_2006_2[c].value_counts().sort_index().index)\n",
    "print(data_2006_2[c].value_counts().sort_index())\n",
    "print(missing_data(data_2006_2[c]))"
   ]
  },
  {
   "cell_type": "code",
   "execution_count": 204,
   "metadata": {
    "collapsed": true
   },
   "outputs": [],
   "source": [
    "for i in data_2006_2[c].value_counts().sort_index().index:\n",
    "    if ',' in i:\n",
    "        data_2006_2[c] = data_2006_2[c].replace(i, i.replace(',', '.'))\n",
    "\n",
    "for i in data_2006_2[c].value_counts().sort_index().index:\n",
    "    if type(i) == str:\n",
    "        data_2006_2[c] = data_2006_2[c].replace(i, float(i))"
   ]
  },
  {
   "cell_type": "code",
   "execution_count": 205,
   "metadata": {
    "collapsed": false,
    "scrolled": true
   },
   "outputs": [
    {
     "name": "stdout",
     "output_type": "stream",
     "text": [
      "Index(['0', '13,2', '22,6', '28,47', '32,89', '36,49', '39,6', '42,38',\n",
      "       '44,92', '47,3', '49,58', '51,78', '53,94', '56,09', '58,26', '60,49',\n",
      "       '62,81', '65,26', '67,91', '70,86', '74,26', '78,4', '83,91', '92,81'],\n",
      "      dtype='object')\n",
      "0           95\n",
      "13,2       394\n",
      "22,6      1858\n",
      "28,47     5616\n",
      "32,89    12631\n",
      "36,49    22881\n",
      "39,6     34224\n",
      "42,38    44090\n",
      "44,92    50479\n",
      "47,3     51861\n",
      "49,58    48552\n",
      "51,78    41622\n",
      "53,94    32973\n",
      "56,09    24115\n",
      "58,26    16434\n",
      "60,49    10201\n",
      "62,81     5735\n",
      "65,26     2772\n",
      "67,91     1166\n",
      "70,86      460\n",
      "74,26      131\n",
      "78,4        29\n",
      "83,91        5\n",
      "92,81        2\n",
      "Name: PUNT_FILOSOFIA, dtype: int64\n",
      "Elementos null/NaN 0\n",
      "__________________\n",
      "Elementos diferentes de null/NaN: 408326\n",
      "__________________\n",
      "(408326,)\n",
      "None\n"
     ]
    }
   ],
   "source": [
    "c = 'PUNT_FILOSOFIA'\n",
    "print(data_2006_2[c].value_counts().sort_index().index)\n",
    "print(data_2006_2[c].value_counts().sort_index())\n",
    "print(missing_data(data_2006_2[c]))"
   ]
  },
  {
   "cell_type": "code",
   "execution_count": 206,
   "metadata": {
    "collapsed": true
   },
   "outputs": [],
   "source": [
    "for i in data_2006_2[c].value_counts().sort_index().index:\n",
    "    if ',' in i:\n",
    "        data_2006_2[c] = data_2006_2[c].replace(i, i.replace(',', '.'))\n",
    "\n",
    "for i in data_2006_2[c].value_counts().sort_index().index:\n",
    "    if type(i) == str:\n",
    "        data_2006_2[c] = data_2006_2[c].replace(i, float(i))"
   ]
  },
  {
   "cell_type": "code",
   "execution_count": 207,
   "metadata": {
    "collapsed": false,
    "scrolled": true
   },
   "outputs": [
    {
     "name": "stdout",
     "output_type": "stream",
     "text": [
      "Index(['0', '20,41', '28', '32,72', '36,28', '39,22', '41,76', '44,05',\n",
      "       '46,16', '48,15', '50,05', '51,89', '53,71', '55,53', '57,36', '59,24',\n",
      "       '61,19', '63,27', '65,51', '68', '70,86', '74,35', '78,99', '86,48',\n",
      "       '98,9'],\n",
      "      dtype='object')\n",
      "0          110\n",
      "20,41      883\n",
      "28        3472\n",
      "32,72     9976\n",
      "36,28    20689\n",
      "39,22    33626\n",
      "41,76    44430\n",
      "44,05    49999\n",
      "46,16    49369\n",
      "48,15    45001\n",
      "50,05    37499\n",
      "51,89    29823\n",
      "53,71    23771\n",
      "55,53    18183\n",
      "57,36    13553\n",
      "59,24    10026\n",
      "61,19     7168\n",
      "63,27     4727\n",
      "65,51     2991\n",
      "68        1698\n",
      "70,86      834\n",
      "74,35      348\n",
      "78,99      125\n",
      "86,48       23\n",
      "98,9         2\n",
      "Name: PUNT_BIOLOGIA, dtype: int64\n",
      "Elementos null/NaN 0\n",
      "__________________\n",
      "Elementos diferentes de null/NaN: 408326\n",
      "__________________\n",
      "(408326,)\n",
      "None\n"
     ]
    }
   ],
   "source": [
    "c = 'PUNT_BIOLOGIA'\n",
    "print(data_2006_2[c].value_counts().sort_index().index)\n",
    "print(data_2006_2[c].value_counts().sort_index())\n",
    "print(missing_data(data_2006_2[c]))"
   ]
  },
  {
   "cell_type": "code",
   "execution_count": 208,
   "metadata": {
    "collapsed": true
   },
   "outputs": [],
   "source": [
    "for i in data_2006_2[c].value_counts().sort_index().index:\n",
    "    if ',' in i:\n",
    "        data_2006_2[c] = data_2006_2[c].replace(i, i.replace(',', '.'))\n",
    "\n",
    "for i in data_2006_2[c].value_counts().sort_index().index:\n",
    "    if type(i) == str:\n",
    "        data_2006_2[c] = data_2006_2[c].replace(i, float(i))"
   ]
  },
  {
   "cell_type": "code",
   "execution_count": 209,
   "metadata": {
    "collapsed": false,
    "scrolled": true
   },
   "outputs": [
    {
     "name": "stdout",
     "output_type": "stream",
     "text": [
      "Index(['0', '23,17', '29,92', '34,1', '37,23', '39,81', '42,03', '44,03',\n",
      "       '45,87', '47,6', '49,26', '50,87', '52,46', '54,05', '55,66', '57,31',\n",
      "       '59,03', '60,85', '62,83', '65,03', '67,58', '70,68', '74,83', '81,54'],\n",
      "      dtype='object')\n",
      "0          105\n",
      "23,17      841\n",
      "29,92     3804\n",
      "34,1     11306\n",
      "37,23    24049\n",
      "39,81    39722\n",
      "42,03    54270\n",
      "44,03    60478\n",
      "45,87    58208\n",
      "47,6     49192\n",
      "49,26    36967\n",
      "50,87    24993\n",
      "52,46    16200\n",
      "54,05    10256\n",
      "55,66     6498\n",
      "57,31     4148\n",
      "59,03     2723\n",
      "60,85     1826\n",
      "62,83     1177\n",
      "65,03      759\n",
      "67,58      461\n",
      "70,68      243\n",
      "74,83       85\n",
      "81,54       15\n",
      "Name: PUNT_QUIMICA, dtype: int64\n",
      "Elementos null/NaN 0\n",
      "__________________\n",
      "Elementos diferentes de null/NaN: 408326\n",
      "__________________\n",
      "(408326,)\n",
      "None\n"
     ]
    }
   ],
   "source": [
    "c = 'PUNT_QUIMICA'\n",
    "print(data_2006_2[c].value_counts().sort_index().index)\n",
    "print(data_2006_2[c].value_counts().sort_index())\n",
    "print(missing_data(data_2006_2[c]))"
   ]
  },
  {
   "cell_type": "code",
   "execution_count": 210,
   "metadata": {
    "collapsed": true
   },
   "outputs": [],
   "source": [
    "for i in data_2006_2[c].value_counts().sort_index().index:\n",
    "    if ',' in i:\n",
    "        data_2006_2[c] = data_2006_2[c].replace(i, i.replace(',', '.'))\n",
    "\n",
    "for i in data_2006_2[c].value_counts().sort_index().index:\n",
    "    if type(i) == str:\n",
    "        data_2006_2[c] = data_2006_2[c].replace(i, float(i))"
   ]
  },
  {
   "cell_type": "code",
   "execution_count": 211,
   "metadata": {
    "collapsed": false,
    "scrolled": true
   },
   "outputs": [
    {
     "name": "stdout",
     "output_type": "stream",
     "text": [
      "Index(['0', '102,04', '16,58', '26,2', '32,15', '36,62', '40,3', '43,5',\n",
      "       '46,37', '49,04', '51,55', '53,97', '56,34', '58,68', '61,03', '63,43',\n",
      "       '65,89', '68,47', '71,22', '74,2', '77,52', '81,35', '86', '92,17'],\n",
      "      dtype='object')\n",
      "0           140\n",
      "102,04        4\n",
      "16,58      1366\n",
      "26,2       6237\n",
      "32,15     17334\n",
      "36,62     35168\n",
      "40,3      54709\n",
      "43,5      67395\n",
      "46,37     68073\n",
      "49,04     57098\n",
      "51,55     41428\n",
      "53,97     26501\n",
      "56,34     15131\n",
      "58,68      8198\n",
      "61,03      4428\n",
      "63,43      2321\n",
      "65,89      1296\n",
      "68,47       689\n",
      "71,22       390\n",
      "74,2        210\n",
      "77,52       101\n",
      "81,35        60\n",
      "86           33\n",
      "92,17        16\n",
      "Name: PUNT_FISICA, dtype: int64\n",
      "Elementos null/NaN 0\n",
      "__________________\n",
      "Elementos diferentes de null/NaN: 408326\n",
      "__________________\n",
      "(408326,)\n",
      "None\n"
     ]
    }
   ],
   "source": [
    "c = 'PUNT_FISICA'\n",
    "print(data_2006_2[c].value_counts().sort_index().index)\n",
    "print(data_2006_2[c].value_counts().sort_index())\n",
    "print(missing_data(data_2006_2[c]))"
   ]
  },
  {
   "cell_type": "code",
   "execution_count": 212,
   "metadata": {
    "collapsed": true
   },
   "outputs": [],
   "source": [
    "for i in data_2006_2[c].value_counts().sort_index().index:\n",
    "    if ',' in i:\n",
    "        data_2006_2[c] = data_2006_2[c].replace(i, i.replace(',', '.'))\n",
    "\n",
    "for i in data_2006_2[c].value_counts().sort_index().index:\n",
    "    if type(i) == str:\n",
    "        data_2006_2[c] = data_2006_2[c].replace(i, float(i))"
   ]
  },
  {
   "cell_type": "code",
   "execution_count": 213,
   "metadata": {
    "collapsed": false
   },
   "outputs": [
    {
     "name": "stdout",
     "output_type": "stream",
     "text": [
      "Index(['ALEMÃN', 'FRANCÃS', 'INGLÃS'], dtype='object')\n",
      "ALEMÃN        222\n",
      "FRANCÃS      1994\n",
      "INGLÃS     406110\n",
      "Name: NOMBRE_IDIOMA, dtype: int64\n",
      "Elementos null/NaN 0\n",
      "__________________\n",
      "Elementos diferentes de null/NaN: 408326\n",
      "__________________\n",
      "(408326,)\n",
      "None\n"
     ]
    }
   ],
   "source": [
    "c = 'NOMBRE_IDIOMA'\n",
    "print(data_2006_2[c].value_counts().sort_index().index)\n",
    "print(data_2006_2[c].value_counts().sort_index())\n",
    "print(missing_data(data_2006_2[c]))"
   ]
  },
  {
   "cell_type": "code",
   "execution_count": 214,
   "metadata": {
    "collapsed": true
   },
   "outputs": [],
   "source": [
    "data_2006_2[c] = data_2006_2[c].replace('ALEMÃN', 'ALEMAN')\n",
    "data_2006_2[c] = data_2006_2[c].replace('FRANCÃS', 'FRANCES')\n",
    "data_2006_2[c] = data_2006_2[c].replace('INGLÃS', 'INGLES')"
   ]
  },
  {
   "cell_type": "code",
   "execution_count": 215,
   "metadata": {
    "collapsed": false,
    "scrolled": true
   },
   "outputs": [
    {
     "name": "stdout",
     "output_type": "stream",
     "text": [
      "Index(['0', '12,9', '17,81', '20,62', '23,5', '25,29', '25,47', '29,17',\n",
      "       '29,91', '30,94', '32,24', '33,38', '34,92', '35,54', '36,22', '37,34',\n",
      "       '38,68', '38,97', '39,58', '40,9', '41,7', '41,79', '42,94', '43,74',\n",
      "       '44,24', '44,86', '45,71', '46,43', '46,7', '47,66', '48,47', '48,49',\n",
      "       '49,6', '50,26', '50,38', '51,56', '52,03', '52,23', '53,56', '53,82',\n",
      "       '54,03', '55,64', '55,67', '55,82', '57,6', '57,63', '57,84', '59,47',\n",
      "       '59,64', '60,2', '61,86', '62,81', '63,43', '64,33', '65,63', '65,79',\n",
      "       '67,18', '68,07', '69,4', '70,65', '70,9', '74,16', '74,34', '75,28',\n",
      "       '78,94', '81,77', '82,77', '94,27'],\n",
      "      dtype='object')\n",
      "0          216\n",
      "12,9       409\n",
      "17,81        6\n",
      "20,62     1931\n",
      "23,5         2\n",
      "25,29       37\n",
      "25,47     5672\n",
      "29,17    12924\n",
      "29,91      115\n",
      "30,94        6\n",
      "32,24    23262\n",
      "33,38      208\n",
      "34,92    34873\n",
      "35,54       18\n",
      "36,22      304\n",
      "37,34    43626\n",
      "38,68      320\n",
      "38,97       19\n",
      "39,58    48021\n",
      "40,9       312\n",
      "41,7     47552\n",
      "41,79       30\n",
      "42,94      236\n",
      "43,74    42259\n",
      "44,24       32\n",
      "44,86      169\n",
      "45,71    34740\n",
      "46,43       26\n",
      "46,7       108\n",
      "47,66    27084\n",
      "         ...  \n",
      "53,56    10758\n",
      "53,82       13\n",
      "54,03       11\n",
      "55,64     8396\n",
      "55,67       13\n",
      "55,82        2\n",
      "57,6        12\n",
      "57,63        2\n",
      "57,84     6634\n",
      "59,47        1\n",
      "59,64       11\n",
      "60,2      5949\n",
      "61,86        5\n",
      "62,81     4976\n",
      "63,43        9\n",
      "64,33        6\n",
      "65,63        6\n",
      "65,79     4357\n",
      "67,18        3\n",
      "68,07        5\n",
      "69,4      3456\n",
      "70,65        5\n",
      "70,9         1\n",
      "74,16     2610\n",
      "74,34        4\n",
      "75,28        5\n",
      "78,94        1\n",
      "81,77     1490\n",
      "82,77        3\n",
      "94,27      452\n",
      "Name: PUNT_IDIOMA, dtype: int64\n",
      "Elementos null/NaN 0\n",
      "__________________\n",
      "Elementos diferentes de null/NaN: 408326\n",
      "__________________\n",
      "(408326,)\n",
      "None\n"
     ]
    }
   ],
   "source": [
    "c = 'PUNT_IDIOMA'\n",
    "print(data_2006_2[c].value_counts().sort_index().index)\n",
    "print(data_2006_2[c].value_counts().sort_index())\n",
    "print(missing_data(data_2006_2[c]))"
   ]
  },
  {
   "cell_type": "code",
   "execution_count": 216,
   "metadata": {
    "collapsed": true
   },
   "outputs": [],
   "source": [
    "for i in data_2006_2[c].value_counts().sort_index().index:\n",
    "    if ',' in i:\n",
    "        data_2006_2[c] = data_2006_2[c].replace(i, i.replace(',', '.'))\n",
    "\n",
    "for i in data_2006_2[c].value_counts().sort_index().index:\n",
    "    if type(i) == str:\n",
    "        data_2006_2[c] = data_2006_2[c].replace(i, float(i))"
   ]
  },
  {
   "cell_type": "code",
   "execution_count": 217,
   "metadata": {
    "collapsed": false
   },
   "outputs": [
    {
     "name": "stdout",
     "output_type": "stream",
     "text": [
      "Float64Index([], dtype='float64')\n",
      "Series([], Name: DESEMP_IDIOMA, dtype: int64)\n",
      "Elementos null/NaN 408326\n",
      "__________________\n",
      "Elementos diferentes de null/NaN: 0\n",
      "__________________\n",
      "(0,)\n",
      "None\n"
     ]
    }
   ],
   "source": [
    "c = 'DESEMP_IDIOMA'\n",
    "print(data_2006_2[c].value_counts().sort_index().index)\n",
    "print(data_2006_2[c].value_counts().sort_index())\n",
    "print(missing_data(data_2006_2[c]))"
   ]
  },
  {
   "cell_type": "code",
   "execution_count": 218,
   "metadata": {
    "collapsed": true
   },
   "outputs": [],
   "source": [
    "data_2006_2 = data_2006_2.drop([c], axis=1)"
   ]
  },
  {
   "cell_type": "code",
   "execution_count": 219,
   "metadata": {
    "collapsed": false
   },
   "outputs": [
    {
     "name": "stdout",
     "output_type": "stream",
     "text": [
      "Index(['PROFUNDIZACIÃN EN BIOLOGÃA', 'PROFUNDIZACIÃN EN CIENCIAS SOCIALES',\n",
      "       'PROFUNDIZACIÃN EN LENGUAJE', 'PROFUNDIZACIÃN EN MATEMÃTICA'],\n",
      "      dtype='object')\n",
      "PROFUNDIZACIÃN EN BIOLOGÃA            124403\n",
      "PROFUNDIZACIÃN EN CIENCIAS SOCIALES     68474\n",
      "PROFUNDIZACIÃN EN LENGUAJE             156531\n",
      "PROFUNDIZACIÃN EN MATEMÃTICA           58918\n",
      "Name: NOMBRE_PROFUNDIZACION, dtype: int64\n",
      "Elementos null/NaN 0\n",
      "__________________\n",
      "Elementos diferentes de null/NaN: 408326\n",
      "__________________\n",
      "(408326,)\n",
      "None\n"
     ]
    }
   ],
   "source": [
    "c = 'NOMBRE_PROFUNDIZACION'\n",
    "print(data_2006_2[c].value_counts().sort_index().index)\n",
    "print(data_2006_2[c].value_counts().sort_index())\n",
    "print(missing_data(data_2006_2[c]))"
   ]
  },
  {
   "cell_type": "code",
   "execution_count": 220,
   "metadata": {
    "collapsed": true
   },
   "outputs": [],
   "source": [
    "data_2006_2[c] = data_2006_2[c].replace('PROFUNDIZACIÃN EN BIOLOGÃA', 'BIOLOGIA')\n",
    "data_2006_2[c] = data_2006_2[c].replace('PROFUNDIZACIÃN EN CIENCIAS SOCIALES', 'CIENCIAS SOCIALES')\n",
    "data_2006_2[c] = data_2006_2[c].replace('PROFUNDIZACIÃN EN LENGUAJE', 'LENGUAJE')\n",
    "data_2006_2[c] = data_2006_2[c].replace('PROFUNDIZACIÃN EN MATEMÃTICA', 'MATEMATICA')"
   ]
  },
  {
   "cell_type": "code",
   "execution_count": 221,
   "metadata": {
    "collapsed": false,
    "scrolled": true
   },
   "outputs": [
    {
     "name": "stdout",
     "output_type": "stream",
     "text": [
      "Index(['-1', '0', '1,4', '10', '2,4', '2,69', '2,85', '3,06', '3,23', '3,53',\n",
      "       '3,59', '3,68', '4,01', '4,05', '4,07', '4,21', '4,46', '4,49', '4,52',\n",
      "       '4,63', '4,85', '4,86', '4,92', '4,98', '5,19', '5,24', '5,27', '5,29',\n",
      "       '5,5', '5,58', '5,59', '5,62', '5,81', '5,88', '5,89', '6,01', '6,13',\n",
      "       '6,17', '6,19', '6,44', '6,46', '6,47', '6,51', '6,78', '6,83', '6,86',\n",
      "       '6,93', '7,12', '7,26', '7,28', '7,51', '7,55', '7,81', '8,01', '8,49',\n",
      "       '8,64', '8,65', '8,78'],\n",
      "      dtype='object')\n",
      "-1       2549\n",
      "0        1878\n",
      "1,4       629\n",
      "10         58\n",
      "2,4      1693\n",
      "2,69     1179\n",
      "2,85     4699\n",
      "3,06     3128\n",
      "3,23     2854\n",
      "3,53     3365\n",
      "3,59     4877\n",
      "3,68    12449\n",
      "4,01     7742\n",
      "4,05     6385\n",
      "4,07     6535\n",
      "4,21    21941\n",
      "4,46     8038\n",
      "4,49     8914\n",
      "4,52    14646\n",
      "4,63    28894\n",
      "4,85     9996\n",
      "4,86     9625\n",
      "4,92    20045\n",
      "4,98    29828\n",
      "5,19     9008\n",
      "5,24     9959\n",
      "5,27    21790\n",
      "5,29    24592\n",
      "5,5      7315\n",
      "5,58    19404\n",
      "5,59    16677\n",
      "5,62     9234\n",
      "5,81     5040\n",
      "5,88    14745\n",
      "5,89     9276\n",
      "6,01     6950\n",
      "6,13     3146\n",
      "6,17    10457\n",
      "6,19     4057\n",
      "6,44     4400\n",
      "6,46     1892\n",
      "6,47     6147\n",
      "6,51     1440\n",
      "6,78     3240\n",
      "6,83     1027\n",
      "6,86      394\n",
      "6,93     2039\n",
      "7,12     1453\n",
      "7,26      578\n",
      "7,28       78\n",
      "7,51      500\n",
      "7,55      754\n",
      "7,81      303\n",
      "8,01      130\n",
      "8,49      202\n",
      "8,64        2\n",
      "8,65      126\n",
      "8,78       24\n",
      "Name: PUNT_PROFUNDIZACION, dtype: int64\n",
      "Elementos null/NaN 0\n",
      "__________________\n",
      "Elementos diferentes de null/NaN: 408326\n",
      "__________________\n",
      "(408326,)\n",
      "None\n"
     ]
    }
   ],
   "source": [
    "c = 'PUNT_PROFUNDIZACION'\n",
    "print(data_2006_2[c].value_counts().sort_index().index)\n",
    "print(data_2006_2[c].value_counts().sort_index())\n",
    "print(missing_data(data_2006_2[c]))"
   ]
  },
  {
   "cell_type": "code",
   "execution_count": 222,
   "metadata": {
    "collapsed": true
   },
   "outputs": [],
   "source": [
    "for i in data_2006_2[c].value_counts().sort_index().index:\n",
    "    if ',' in i:\n",
    "        data_2006_2[c] = data_2006_2[c].replace(i, i.replace(',', '.'))\n",
    "\n",
    "for i in data_2006_2[c].value_counts().sort_index().index:\n",
    "    if type(i) == str:\n",
    "        data_2006_2[c] = data_2006_2[c].replace(i, float(i))"
   ]
  },
  {
   "cell_type": "code",
   "execution_count": 223,
   "metadata": {
    "collapsed": false
   },
   "outputs": [
    {
     "name": "stdout",
     "output_type": "stream",
     "text": [
      "Index(['-1', 'GB', 'I', 'II', 'III'], dtype='object')\n",
      "-1       2549\n",
      "GB     191306\n",
      "I      168165\n",
      "II      43911\n",
      "III      2395\n",
      "Name: DESEMP_PROFUNDIZACION, dtype: int64\n",
      "Elementos null/NaN 0\n",
      "__________________\n",
      "Elementos diferentes de null/NaN: 408326\n",
      "__________________\n",
      "(408326,)\n",
      "None\n"
     ]
    }
   ],
   "source": [
    "c = 'DESEMP_PROFUNDIZACION'\n",
    "print(data_2006_2[c].value_counts().sort_index().index)\n",
    "print(data_2006_2[c].value_counts().sort_index())\n",
    "print(missing_data(data_2006_2[c]))"
   ]
  },
  {
   "cell_type": "code",
   "execution_count": 224,
   "metadata": {
    "collapsed": true
   },
   "outputs": [],
   "source": [
    "data_2006_2[c] = data_2006_2[c].replace('-1', np.nan)"
   ]
  },
  {
   "cell_type": "code",
   "execution_count": 225,
   "metadata": {
    "collapsed": false
   },
   "outputs": [
    {
     "name": "stdout",
     "output_type": "stream",
     "text": [
      "Index(['MEDIO AMBIENTE', 'VIOLENCIA Y SOCIEDAD'], dtype='object')\n",
      "MEDIO AMBIENTE          220008\n",
      "VIOLENCIA Y SOCIEDAD    188318\n",
      "Name: NOMBRE_INTERDISCIPLINAR, dtype: int64\n",
      "Elementos null/NaN 0\n",
      "__________________\n",
      "Elementos diferentes de null/NaN: 408326\n",
      "__________________\n",
      "(408326,)\n",
      "None\n"
     ]
    }
   ],
   "source": [
    "c = 'NOMBRE_INTERDISCIPLINAR'\n",
    "print(data_2006_2[c].value_counts().sort_index().index)\n",
    "print(data_2006_2[c].value_counts().sort_index())\n",
    "print(missing_data(data_2006_2[c]))"
   ]
  },
  {
   "cell_type": "code",
   "execution_count": 226,
   "metadata": {
    "collapsed": false,
    "scrolled": true
   },
   "outputs": [
    {
     "name": "stdout",
     "output_type": "stream",
     "text": [
      "Index(['-1', '0', '16,07', '26,76', '33,84', '39,51', '44,42', '44,66',\n",
      "       '47,31', '48,9', '49,02', '50,35', '51,5', '52,54', '53,14', '53,53',\n",
      "       '54,5', '55,5', '56,55', '57,28', '57,7', '59,05', '60,78', '61,43',\n",
      "       '63,45', '65,75', '67,75', '70,44', '75,81', '82,57', '92,9'],\n",
      "      dtype='object')\n",
      "-1         825\n",
      "0         1143\n",
      "16,07     3122\n",
      "26,76    10120\n",
      "33,84    21935\n",
      "39,51    34243\n",
      "44,42    39811\n",
      "44,66     4240\n",
      "47,31    12792\n",
      "48,9     34957\n",
      "49,02    25201\n",
      "50,35    37142\n",
      "51,5     41933\n",
      "52,54    38213\n",
      "53,14    23758\n",
      "53,53    28191\n",
      "54,5     17076\n",
      "55,5      8564\n",
      "56,55     3723\n",
      "57,28    12583\n",
      "57,7      1292\n",
      "59,05      331\n",
      "60,78       72\n",
      "61,43     5078\n",
      "63,45        4\n",
      "65,75     1554\n",
      "67,75        1\n",
      "70,44      353\n",
      "75,81       64\n",
      "82,57        4\n",
      "92,9         1\n",
      "Name: PUNT_INTERDISCIPLINAR, dtype: int64\n",
      "Elementos null/NaN 0\n",
      "__________________\n",
      "Elementos diferentes de null/NaN: 408326\n",
      "__________________\n",
      "(408326,)\n",
      "None\n"
     ]
    }
   ],
   "source": [
    "c = 'PUNT_INTERDISCIPLINAR'\n",
    "print(data_2006_2[c].value_counts().sort_index().index)\n",
    "print(data_2006_2[c].value_counts().sort_index())\n",
    "print(missing_data(data_2006_2[c]))"
   ]
  },
  {
   "cell_type": "code",
   "execution_count": 227,
   "metadata": {
    "collapsed": true
   },
   "outputs": [],
   "source": [
    "for i in data_2006_2[c].value_counts().sort_index().index:\n",
    "    if ',' in i:\n",
    "        data_2006_2[c] = data_2006_2[c].replace(i, i.replace(',', '.'))\n",
    "\n",
    "for i in data_2006_2[c].value_counts().sort_index().index:\n",
    "    if type(i) == str:\n",
    "        data_2006_2[c] = data_2006_2[c].replace(i, float(i))"
   ]
  },
  {
   "cell_type": "code",
   "execution_count": 228,
   "metadata": {
    "collapsed": false,
    "scrolled": true
   },
   "outputs": [
    {
     "name": "stdout",
     "output_type": "stream",
     "text": [
      "Int64Index([  1,   2,   3,   4,   5,   6,   7,   8,   9,  10,\n",
      "            ...\n",
      "            957, 958, 959, 960, 961, 962, 963, 964, 965, 966],\n",
      "           dtype='int64', length=966)\n",
      "1      412\n",
      "2      403\n",
      "3      408\n",
      "4      388\n",
      "5      385\n",
      "6      394\n",
      "7      404\n",
      "8      389\n",
      "9      386\n",
      "10     377\n",
      "11     399\n",
      "12     398\n",
      "13     385\n",
      "14     378\n",
      "15     389\n",
      "16     399\n",
      "17     386\n",
      "18     402\n",
      "19     400\n",
      "20     386\n",
      "21     398\n",
      "22     400\n",
      "23     393\n",
      "24     411\n",
      "25     394\n",
      "26     393\n",
      "27     388\n",
      "28     394\n",
      "29     388\n",
      "30     411\n",
      "      ... \n",
      "937    420\n",
      "938    429\n",
      "939    416\n",
      "940    418\n",
      "941    426\n",
      "942    415\n",
      "943    419\n",
      "944    417\n",
      "945    410\n",
      "946    398\n",
      "947    410\n",
      "948    418\n",
      "949    405\n",
      "950    417\n",
      "951    425\n",
      "952    419\n",
      "953    395\n",
      "954    405\n",
      "955    405\n",
      "956    407\n",
      "957    413\n",
      "958    423\n",
      "959    416\n",
      "960    407\n",
      "961    399\n",
      "962    398\n",
      "963    411\n",
      "964    414\n",
      "965    406\n",
      "966    205\n",
      "Name: ESTU_PUESTO, dtype: int64\n",
      "Elementos null/NaN 0\n",
      "__________________\n",
      "Elementos diferentes de null/NaN: 408326\n",
      "__________________\n",
      "(408326,)\n",
      "None\n"
     ]
    }
   ],
   "source": [
    "c = 'ESTU_PUESTO'\n",
    "print(data_2006_2[c].value_counts().sort_index().index)\n",
    "print(data_2006_2[c].value_counts().sort_index())\n",
    "print(missing_data(data_2006_2[c]))"
   ]
  },
  {
   "cell_type": "markdown",
   "metadata": {},
   "source": [
    "Now i can transform the obtained DataFrames in csv files"
   ]
  },
  {
   "cell_type": "code",
   "execution_count": 230,
   "metadata": {
    "collapsed": true
   },
   "outputs": [],
   "source": [
    "data_2006.to_csv('../DatosFTPICFES/SABER11/SB11-BASES_DE_DATOS/READY/2006_1.csv', sep = ';', index = False)\n",
    "data_2006_2.to_csv('../DatosFTPICFES/SABER11/SB11-BASES_DE_DATOS/READY/2006_2.csv', sep = ';', index = False)"
   ]
  }
 ],
 "metadata": {
  "kernelspec": {
   "display_name": "Python 3 + Anaconda",
   "language": "python",
   "name": "pyconda3"
  },
  "language_info": {
   "codemirror_mode": {
    "name": "ipython",
    "version": 3
   },
   "file_extension": ".py",
   "mimetype": "text/x-python",
   "name": "python",
   "nbconvert_exporter": "python",
   "pygments_lexer": "ipython3",
   "version": "3.5.1"
  }
 },
 "nbformat": 4,
 "nbformat_minor": 0
}
