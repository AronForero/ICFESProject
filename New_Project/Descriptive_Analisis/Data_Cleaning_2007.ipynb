{
 "cells": [
  {
   "cell_type": "code",
   "execution_count": 1,
   "metadata": {
    "collapsed": true
   },
   "outputs": [],
   "source": [
    "import pandas as pd\n",
    "import numpy as np\n",
    "%run -i ../tools/functions.py\n",
    "%run -i ../tools/label_encoder.py"
   ]
  },
  {
   "cell_type": "code",
   "execution_count": 2,
   "metadata": {
    "collapsed": true
   },
   "outputs": [],
   "source": [
    "data_2007 = pd.read_csv('../DatosFTPICFES/SABER11/SB11-BASES_DE_DATOS/SB11-20071-RGSTRO-CLFCCN-V1-0.txt', delimiter = '|')"
   ]
  },
  {
   "cell_type": "code",
   "execution_count": 3,
   "metadata": {
    "collapsed": false
   },
   "outputs": [
    {
     "data": {
      "text/plain": [
       "(69301, 84)"
      ]
     },
     "execution_count": 3,
     "metadata": {},
     "output_type": "execute_result"
    }
   ],
   "source": [
    "data_2007.shape"
   ]
  },
  {
   "cell_type": "code",
   "execution_count": 4,
   "metadata": {
    "collapsed": false,
    "scrolled": true
   },
   "outputs": [
    {
     "data": {
      "text/html": [
       "<div>\n",
       "<table border=\"1\" class=\"dataframe\">\n",
       "  <thead>\n",
       "    <tr style=\"text-align: right;\">\n",
       "      <th></th>\n",
       "      <th>0</th>\n",
       "      <th>1</th>\n",
       "      <th>2</th>\n",
       "    </tr>\n",
       "  </thead>\n",
       "  <tbody>\n",
       "    <tr>\n",
       "      <th>ESTU_CONSECUTIVO</th>\n",
       "      <td>SB11200710000001</td>\n",
       "      <td>SB11200710000002</td>\n",
       "      <td>SB11200710000003</td>\n",
       "    </tr>\n",
       "    <tr>\n",
       "      <th>PERIODO</th>\n",
       "      <td>20071</td>\n",
       "      <td>20071</td>\n",
       "      <td>20071</td>\n",
       "    </tr>\n",
       "    <tr>\n",
       "      <th>ESTU_TIPO_DOCUMENTO</th>\n",
       "      <td>T</td>\n",
       "      <td>T</td>\n",
       "      <td>T</td>\n",
       "    </tr>\n",
       "    <tr>\n",
       "      <th>ESTU_PAIS_RESIDE</th>\n",
       "      <td>CO</td>\n",
       "      <td>CO</td>\n",
       "      <td>CO</td>\n",
       "    </tr>\n",
       "    <tr>\n",
       "      <th>ESTU_GENERO</th>\n",
       "      <td>F</td>\n",
       "      <td>M</td>\n",
       "      <td>F</td>\n",
       "    </tr>\n",
       "    <tr>\n",
       "      <th>ESTU_NACIMIENTO_DIA</th>\n",
       "      <td>22</td>\n",
       "      <td>19</td>\n",
       "      <td>21</td>\n",
       "    </tr>\n",
       "    <tr>\n",
       "      <th>ESTU_NACIMIENTO_MES</th>\n",
       "      <td>2</td>\n",
       "      <td>5</td>\n",
       "      <td>10</td>\n",
       "    </tr>\n",
       "    <tr>\n",
       "      <th>ESTU_NACIMIENTO_ANNO</th>\n",
       "      <td>1991</td>\n",
       "      <td>1994</td>\n",
       "      <td>1990</td>\n",
       "    </tr>\n",
       "    <tr>\n",
       "      <th>ESTU_EDAD</th>\n",
       "      <td>16</td>\n",
       "      <td>12</td>\n",
       "      <td>16</td>\n",
       "    </tr>\n",
       "    <tr>\n",
       "      <th>ESTU_LIMITA_BAJAVISION</th>\n",
       "      <td>NaN</td>\n",
       "      <td>NaN</td>\n",
       "      <td>NaN</td>\n",
       "    </tr>\n",
       "    <tr>\n",
       "      <th>ESTU_LIMITA_SORDOCEGUERA</th>\n",
       "      <td>NaN</td>\n",
       "      <td>NaN</td>\n",
       "      <td>NaN</td>\n",
       "    </tr>\n",
       "    <tr>\n",
       "      <th>ESTU_LIMITA_COGNITIVA</th>\n",
       "      <td>NaN</td>\n",
       "      <td>NaN</td>\n",
       "      <td>NaN</td>\n",
       "    </tr>\n",
       "    <tr>\n",
       "      <th>ESTU_LIMITA_INVIDENTE</th>\n",
       "      <td>NaN</td>\n",
       "      <td>NaN</td>\n",
       "      <td>NaN</td>\n",
       "    </tr>\n",
       "    <tr>\n",
       "      <th>ESTU_LIMITA_MOTRIZ</th>\n",
       "      <td>NaN</td>\n",
       "      <td>NaN</td>\n",
       "      <td>NaN</td>\n",
       "    </tr>\n",
       "    <tr>\n",
       "      <th>ESTU_LIMITA_SORDOINTERPRETE</th>\n",
       "      <td>NaN</td>\n",
       "      <td>NaN</td>\n",
       "      <td>NaN</td>\n",
       "    </tr>\n",
       "    <tr>\n",
       "      <th>ESTU_LIMITA_SORDONOINTERPRETE</th>\n",
       "      <td>NaN</td>\n",
       "      <td>NaN</td>\n",
       "      <td>NaN</td>\n",
       "    </tr>\n",
       "    <tr>\n",
       "      <th>ESTU_COD_RESIDE_MCPIO</th>\n",
       "      <td>76122</td>\n",
       "      <td>76122</td>\n",
       "      <td>76122</td>\n",
       "    </tr>\n",
       "    <tr>\n",
       "      <th>ESTU_RESIDE_MCPIO</th>\n",
       "      <td>CAICEDONIA</td>\n",
       "      <td>CAICEDONIA</td>\n",
       "      <td>CAICEDONIA</td>\n",
       "    </tr>\n",
       "    <tr>\n",
       "      <th>ESTU_RESIDE_DEPTO</th>\n",
       "      <td>VALLE</td>\n",
       "      <td>VALLE</td>\n",
       "      <td>VALLE</td>\n",
       "    </tr>\n",
       "    <tr>\n",
       "      <th>ESTU_ZONA_RESIDE</th>\n",
       "      <td>10</td>\n",
       "      <td>10</td>\n",
       "      <td>10</td>\n",
       "    </tr>\n",
       "    <tr>\n",
       "      <th>ESTU_AREA_RESIDE</th>\n",
       "      <td>NaN</td>\n",
       "      <td>NaN</td>\n",
       "      <td>NaN</td>\n",
       "    </tr>\n",
       "    <tr>\n",
       "      <th>ESTU_COD_MCPIO_PRESENTACION</th>\n",
       "      <td>76122</td>\n",
       "      <td>76122</td>\n",
       "      <td>76122</td>\n",
       "    </tr>\n",
       "    <tr>\n",
       "      <th>ESTU_MCPIO_PRESENTACION</th>\n",
       "      <td>CAICEDONIA</td>\n",
       "      <td>CAICEDONIA</td>\n",
       "      <td>CAICEDONIA</td>\n",
       "    </tr>\n",
       "    <tr>\n",
       "      <th>ESTU_DEPTO_PRESENTACION</th>\n",
       "      <td>VALLE</td>\n",
       "      <td>VALLE</td>\n",
       "      <td>VALLE</td>\n",
       "    </tr>\n",
       "    <tr>\n",
       "      <th>ESTU_EXAM_NOMBREEXAMEN</th>\n",
       "      <td>EXAMEN DE ESTADO 2007-1</td>\n",
       "      <td>EXAMEN DE ESTADO 2007-1</td>\n",
       "      <td>EXAMEN DE ESTADO 2007-1</td>\n",
       "    </tr>\n",
       "    <tr>\n",
       "      <th>IND_ESTUDIO_BACHILLERATO</th>\n",
       "      <td>1</td>\n",
       "      <td>1</td>\n",
       "      <td>1</td>\n",
       "    </tr>\n",
       "    <tr>\n",
       "      <th>IND_ANNO_TERMINO_BACHILLERATO</th>\n",
       "      <td>2007</td>\n",
       "      <td>2007</td>\n",
       "      <td>2007</td>\n",
       "    </tr>\n",
       "    <tr>\n",
       "      <th>IND_TERMINO_BACHILLERATO</th>\n",
       "      <td>NaN</td>\n",
       "      <td>NaN</td>\n",
       "      <td>NaN</td>\n",
       "    </tr>\n",
       "    <tr>\n",
       "      <th>IND_COD_ICFES_TERMINO</th>\n",
       "      <td>18226</td>\n",
       "      <td>18226</td>\n",
       "      <td>18226</td>\n",
       "    </tr>\n",
       "    <tr>\n",
       "      <th>COLE_COD_ICFES</th>\n",
       "      <td>18226</td>\n",
       "      <td>18226</td>\n",
       "      <td>18226</td>\n",
       "    </tr>\n",
       "    <tr>\n",
       "      <th>...</th>\n",
       "      <td>...</td>\n",
       "      <td>...</td>\n",
       "      <td>...</td>\n",
       "    </tr>\n",
       "    <tr>\n",
       "      <th>FAMI_COMPUTADOR</th>\n",
       "      <td>NaN</td>\n",
       "      <td>NaN</td>\n",
       "      <td>NaN</td>\n",
       "    </tr>\n",
       "    <tr>\n",
       "      <th>FAMI_INGRESO_FMILIAR_MENSUAL</th>\n",
       "      <td>NaN</td>\n",
       "      <td>NaN</td>\n",
       "      <td>NaN</td>\n",
       "    </tr>\n",
       "    <tr>\n",
       "      <th>ESTU_TRABAJA</th>\n",
       "      <td>NaN</td>\n",
       "      <td>NaN</td>\n",
       "      <td>NaN</td>\n",
       "    </tr>\n",
       "    <tr>\n",
       "      <th>ESTU_HORAS_TRABAJA</th>\n",
       "      <td>NaN</td>\n",
       "      <td>NaN</td>\n",
       "      <td>NaN</td>\n",
       "    </tr>\n",
       "    <tr>\n",
       "      <th>COLE_VALOR_PENSION</th>\n",
       "      <td>0</td>\n",
       "      <td>0</td>\n",
       "      <td>0</td>\n",
       "    </tr>\n",
       "    <tr>\n",
       "      <th>ESTU_CARRDESEADA_TIPO</th>\n",
       "      <td>NaN</td>\n",
       "      <td>NaN</td>\n",
       "      <td>NaN</td>\n",
       "    </tr>\n",
       "    <tr>\n",
       "      <th>ESTU_CARRDESEADA_NUCLEO</th>\n",
       "      <td>NaN</td>\n",
       "      <td>NaN</td>\n",
       "      <td>NaN</td>\n",
       "    </tr>\n",
       "    <tr>\n",
       "      <th>ESTU_IES_COD_DESEADA</th>\n",
       "      <td>1805</td>\n",
       "      <td>1208</td>\n",
       "      <td>NaN</td>\n",
       "    </tr>\n",
       "    <tr>\n",
       "      <th>ESTU_IES_DESEADA_NOMBRE</th>\n",
       "      <td>UNIVERSIDAD SANTIAGO DE CALI</td>\n",
       "      <td>UNIVERSIDAD DEL QUINDIO</td>\n",
       "      <td>NaN</td>\n",
       "    </tr>\n",
       "    <tr>\n",
       "      <th>ESTU_IES_COD_MPIO_DESEADA</th>\n",
       "      <td>76001</td>\n",
       "      <td>63001</td>\n",
       "      <td>NaN</td>\n",
       "    </tr>\n",
       "    <tr>\n",
       "      <th>ESTU_IES_MPIO_DESEADA</th>\n",
       "      <td>CALI</td>\n",
       "      <td>ARMENIA</td>\n",
       "      <td>NaN</td>\n",
       "    </tr>\n",
       "    <tr>\n",
       "      <th>ESTU_IES_DEPT_DESEADA</th>\n",
       "      <td>VALLE</td>\n",
       "      <td>QUINDÍO</td>\n",
       "      <td>NaN</td>\n",
       "    </tr>\n",
       "    <tr>\n",
       "      <th>ESTU_RAZONINSTITUTO</th>\n",
       "      <td>8</td>\n",
       "      <td>7</td>\n",
       "      <td>NaN</td>\n",
       "    </tr>\n",
       "    <tr>\n",
       "      <th>ESTU_CARRDESEADA_COD</th>\n",
       "      <td>16268</td>\n",
       "      <td>12411</td>\n",
       "      <td>NaN</td>\n",
       "    </tr>\n",
       "    <tr>\n",
       "      <th>ESTU_CARRDESEADA_RAZON</th>\n",
       "      <td>2</td>\n",
       "      <td>2</td>\n",
       "      <td>NaN</td>\n",
       "    </tr>\n",
       "    <tr>\n",
       "      <th>PUNT_LENGUAJE</th>\n",
       "      <td>46,31</td>\n",
       "      <td>56,32</td>\n",
       "      <td>52,33</td>\n",
       "    </tr>\n",
       "    <tr>\n",
       "      <th>PUNT_MATEMATICAS</th>\n",
       "      <td>37,74</td>\n",
       "      <td>59,27</td>\n",
       "      <td>41,17</td>\n",
       "    </tr>\n",
       "    <tr>\n",
       "      <th>PUNT_C_SOCIALES</th>\n",
       "      <td>48,89</td>\n",
       "      <td>58,98</td>\n",
       "      <td>48,89</td>\n",
       "    </tr>\n",
       "    <tr>\n",
       "      <th>PUNT_FILOSOFIA</th>\n",
       "      <td>41,41</td>\n",
       "      <td>43,87</td>\n",
       "      <td>57,8</td>\n",
       "    </tr>\n",
       "    <tr>\n",
       "      <th>PUNT_BIOLOGIA</th>\n",
       "      <td>40,38</td>\n",
       "      <td>53,91</td>\n",
       "      <td>52,12</td>\n",
       "    </tr>\n",
       "    <tr>\n",
       "      <th>PUNT_QUIMICA</th>\n",
       "      <td>38,8</td>\n",
       "      <td>52,17</td>\n",
       "      <td>34,53</td>\n",
       "    </tr>\n",
       "    <tr>\n",
       "      <th>PUNT_FISICA</th>\n",
       "      <td>46,28</td>\n",
       "      <td>33,79</td>\n",
       "      <td>23,28</td>\n",
       "    </tr>\n",
       "    <tr>\n",
       "      <th>PUNT_INGLES</th>\n",
       "      <td>38,66</td>\n",
       "      <td>42,76</td>\n",
       "      <td>40,78</td>\n",
       "    </tr>\n",
       "    <tr>\n",
       "      <th>DESEMP_INGLES</th>\n",
       "      <td>NaN</td>\n",
       "      <td>NaN</td>\n",
       "      <td>NaN</td>\n",
       "    </tr>\n",
       "    <tr>\n",
       "      <th>NOMBRE_PROFUNDIZACION</th>\n",
       "      <td>PROFUNDIZACIÓN EN LENGUAJE</td>\n",
       "      <td>PROFUNDIZACIÓN EN MATEMÁTICA</td>\n",
       "      <td>PROFUNDIZACIÓN EN BIOLOGÍA</td>\n",
       "    </tr>\n",
       "    <tr>\n",
       "      <th>PUNT_PROFUNDIZACION</th>\n",
       "      <td>4,89</td>\n",
       "      <td>5,74</td>\n",
       "      <td>5,53</td>\n",
       "    </tr>\n",
       "    <tr>\n",
       "      <th>DESEMP_PROFUNDIZACION</th>\n",
       "      <td>I</td>\n",
       "      <td>II</td>\n",
       "      <td>I</td>\n",
       "    </tr>\n",
       "    <tr>\n",
       "      <th>NOMBRE_INTERDISCIPLINAR</th>\n",
       "      <td>VIOLENCIA Y SOCIEDAD</td>\n",
       "      <td>VIOLENCIA Y SOCIEDAD</td>\n",
       "      <td>VIOLENCIA Y SOCIEDAD</td>\n",
       "    </tr>\n",
       "    <tr>\n",
       "      <th>PUNT_INTERDISCIPLINAR</th>\n",
       "      <td>46,46</td>\n",
       "      <td>46,46</td>\n",
       "      <td>46,46</td>\n",
       "    </tr>\n",
       "    <tr>\n",
       "      <th>ESTU_PUESTO</th>\n",
       "      <td>695</td>\n",
       "      <td>183</td>\n",
       "      <td>577</td>\n",
       "    </tr>\n",
       "  </tbody>\n",
       "</table>\n",
       "<p>84 rows × 3 columns</p>\n",
       "</div>"
      ],
      "text/plain": [
       "                                                          0  \\\n",
       "ESTU_CONSECUTIVO                           SB11200710000001   \n",
       "PERIODO                                               20071   \n",
       "ESTU_TIPO_DOCUMENTO                                       T   \n",
       "ESTU_PAIS_RESIDE                                         CO   \n",
       "ESTU_GENERO                                               F   \n",
       "ESTU_NACIMIENTO_DIA                                      22   \n",
       "ESTU_NACIMIENTO_MES                                       2   \n",
       "ESTU_NACIMIENTO_ANNO                                   1991   \n",
       "ESTU_EDAD                                                16   \n",
       "ESTU_LIMITA_BAJAVISION                                  NaN   \n",
       "ESTU_LIMITA_SORDOCEGUERA                                NaN   \n",
       "ESTU_LIMITA_COGNITIVA                                   NaN   \n",
       "ESTU_LIMITA_INVIDENTE                                   NaN   \n",
       "ESTU_LIMITA_MOTRIZ                                      NaN   \n",
       "ESTU_LIMITA_SORDOINTERPRETE                             NaN   \n",
       "ESTU_LIMITA_SORDONOINTERPRETE                           NaN   \n",
       "ESTU_COD_RESIDE_MCPIO                                 76122   \n",
       "ESTU_RESIDE_MCPIO                                CAICEDONIA   \n",
       "ESTU_RESIDE_DEPTO                                     VALLE   \n",
       "ESTU_ZONA_RESIDE                                         10   \n",
       "ESTU_AREA_RESIDE                                        NaN   \n",
       "ESTU_COD_MCPIO_PRESENTACION                           76122   \n",
       "ESTU_MCPIO_PRESENTACION                          CAICEDONIA   \n",
       "ESTU_DEPTO_PRESENTACION                               VALLE   \n",
       "ESTU_EXAM_NOMBREEXAMEN              EXAMEN DE ESTADO 2007-1   \n",
       "IND_ESTUDIO_BACHILLERATO                                  1   \n",
       "IND_ANNO_TERMINO_BACHILLERATO                          2007   \n",
       "IND_TERMINO_BACHILLERATO                                NaN   \n",
       "IND_COD_ICFES_TERMINO                                 18226   \n",
       "COLE_COD_ICFES                                        18226   \n",
       "...                                                     ...   \n",
       "FAMI_COMPUTADOR                                         NaN   \n",
       "FAMI_INGRESO_FMILIAR_MENSUAL                            NaN   \n",
       "ESTU_TRABAJA                                            NaN   \n",
       "ESTU_HORAS_TRABAJA                                      NaN   \n",
       "COLE_VALOR_PENSION                                        0   \n",
       "ESTU_CARRDESEADA_TIPO                                   NaN   \n",
       "ESTU_CARRDESEADA_NUCLEO                                 NaN   \n",
       "ESTU_IES_COD_DESEADA                                   1805   \n",
       "ESTU_IES_DESEADA_NOMBRE        UNIVERSIDAD SANTIAGO DE CALI   \n",
       "ESTU_IES_COD_MPIO_DESEADA                             76001   \n",
       "ESTU_IES_MPIO_DESEADA                                  CALI   \n",
       "ESTU_IES_DEPT_DESEADA                                 VALLE   \n",
       "ESTU_RAZONINSTITUTO                                       8   \n",
       "ESTU_CARRDESEADA_COD                                  16268   \n",
       "ESTU_CARRDESEADA_RAZON                                    2   \n",
       "PUNT_LENGUAJE                                         46,31   \n",
       "PUNT_MATEMATICAS                                      37,74   \n",
       "PUNT_C_SOCIALES                                       48,89   \n",
       "PUNT_FILOSOFIA                                        41,41   \n",
       "PUNT_BIOLOGIA                                         40,38   \n",
       "PUNT_QUIMICA                                           38,8   \n",
       "PUNT_FISICA                                           46,28   \n",
       "PUNT_INGLES                                           38,66   \n",
       "DESEMP_INGLES                                           NaN   \n",
       "NOMBRE_PROFUNDIZACION            PROFUNDIZACIÓN EN LENGUAJE   \n",
       "PUNT_PROFUNDIZACION                                    4,89   \n",
       "DESEMP_PROFUNDIZACION                                     I   \n",
       "NOMBRE_INTERDISCIPLINAR                VIOLENCIA Y SOCIEDAD   \n",
       "PUNT_INTERDISCIPLINAR                                 46,46   \n",
       "ESTU_PUESTO                                             695   \n",
       "\n",
       "                                                          1  \\\n",
       "ESTU_CONSECUTIVO                           SB11200710000002   \n",
       "PERIODO                                               20071   \n",
       "ESTU_TIPO_DOCUMENTO                                       T   \n",
       "ESTU_PAIS_RESIDE                                         CO   \n",
       "ESTU_GENERO                                               M   \n",
       "ESTU_NACIMIENTO_DIA                                      19   \n",
       "ESTU_NACIMIENTO_MES                                       5   \n",
       "ESTU_NACIMIENTO_ANNO                                   1994   \n",
       "ESTU_EDAD                                                12   \n",
       "ESTU_LIMITA_BAJAVISION                                  NaN   \n",
       "ESTU_LIMITA_SORDOCEGUERA                                NaN   \n",
       "ESTU_LIMITA_COGNITIVA                                   NaN   \n",
       "ESTU_LIMITA_INVIDENTE                                   NaN   \n",
       "ESTU_LIMITA_MOTRIZ                                      NaN   \n",
       "ESTU_LIMITA_SORDOINTERPRETE                             NaN   \n",
       "ESTU_LIMITA_SORDONOINTERPRETE                           NaN   \n",
       "ESTU_COD_RESIDE_MCPIO                                 76122   \n",
       "ESTU_RESIDE_MCPIO                                CAICEDONIA   \n",
       "ESTU_RESIDE_DEPTO                                     VALLE   \n",
       "ESTU_ZONA_RESIDE                                         10   \n",
       "ESTU_AREA_RESIDE                                        NaN   \n",
       "ESTU_COD_MCPIO_PRESENTACION                           76122   \n",
       "ESTU_MCPIO_PRESENTACION                          CAICEDONIA   \n",
       "ESTU_DEPTO_PRESENTACION                               VALLE   \n",
       "ESTU_EXAM_NOMBREEXAMEN              EXAMEN DE ESTADO 2007-1   \n",
       "IND_ESTUDIO_BACHILLERATO                                  1   \n",
       "IND_ANNO_TERMINO_BACHILLERATO                          2007   \n",
       "IND_TERMINO_BACHILLERATO                                NaN   \n",
       "IND_COD_ICFES_TERMINO                                 18226   \n",
       "COLE_COD_ICFES                                        18226   \n",
       "...                                                     ...   \n",
       "FAMI_COMPUTADOR                                         NaN   \n",
       "FAMI_INGRESO_FMILIAR_MENSUAL                            NaN   \n",
       "ESTU_TRABAJA                                            NaN   \n",
       "ESTU_HORAS_TRABAJA                                      NaN   \n",
       "COLE_VALOR_PENSION                                        0   \n",
       "ESTU_CARRDESEADA_TIPO                                   NaN   \n",
       "ESTU_CARRDESEADA_NUCLEO                                 NaN   \n",
       "ESTU_IES_COD_DESEADA                                   1208   \n",
       "ESTU_IES_DESEADA_NOMBRE             UNIVERSIDAD DEL QUINDIO   \n",
       "ESTU_IES_COD_MPIO_DESEADA                             63001   \n",
       "ESTU_IES_MPIO_DESEADA                               ARMENIA   \n",
       "ESTU_IES_DEPT_DESEADA                               QUINDÍO   \n",
       "ESTU_RAZONINSTITUTO                                       7   \n",
       "ESTU_CARRDESEADA_COD                                  12411   \n",
       "ESTU_CARRDESEADA_RAZON                                    2   \n",
       "PUNT_LENGUAJE                                         56,32   \n",
       "PUNT_MATEMATICAS                                      59,27   \n",
       "PUNT_C_SOCIALES                                       58,98   \n",
       "PUNT_FILOSOFIA                                        43,87   \n",
       "PUNT_BIOLOGIA                                         53,91   \n",
       "PUNT_QUIMICA                                          52,17   \n",
       "PUNT_FISICA                                           33,79   \n",
       "PUNT_INGLES                                           42,76   \n",
       "DESEMP_INGLES                                           NaN   \n",
       "NOMBRE_PROFUNDIZACION          PROFUNDIZACIÓN EN MATEMÁTICA   \n",
       "PUNT_PROFUNDIZACION                                    5,74   \n",
       "DESEMP_PROFUNDIZACION                                    II   \n",
       "NOMBRE_INTERDISCIPLINAR                VIOLENCIA Y SOCIEDAD   \n",
       "PUNT_INTERDISCIPLINAR                                 46,46   \n",
       "ESTU_PUESTO                                             183   \n",
       "\n",
       "                                                        2  \n",
       "ESTU_CONSECUTIVO                         SB11200710000003  \n",
       "PERIODO                                             20071  \n",
       "ESTU_TIPO_DOCUMENTO                                     T  \n",
       "ESTU_PAIS_RESIDE                                       CO  \n",
       "ESTU_GENERO                                             F  \n",
       "ESTU_NACIMIENTO_DIA                                    21  \n",
       "ESTU_NACIMIENTO_MES                                    10  \n",
       "ESTU_NACIMIENTO_ANNO                                 1990  \n",
       "ESTU_EDAD                                              16  \n",
       "ESTU_LIMITA_BAJAVISION                                NaN  \n",
       "ESTU_LIMITA_SORDOCEGUERA                              NaN  \n",
       "ESTU_LIMITA_COGNITIVA                                 NaN  \n",
       "ESTU_LIMITA_INVIDENTE                                 NaN  \n",
       "ESTU_LIMITA_MOTRIZ                                    NaN  \n",
       "ESTU_LIMITA_SORDOINTERPRETE                           NaN  \n",
       "ESTU_LIMITA_SORDONOINTERPRETE                         NaN  \n",
       "ESTU_COD_RESIDE_MCPIO                               76122  \n",
       "ESTU_RESIDE_MCPIO                              CAICEDONIA  \n",
       "ESTU_RESIDE_DEPTO                                   VALLE  \n",
       "ESTU_ZONA_RESIDE                                       10  \n",
       "ESTU_AREA_RESIDE                                      NaN  \n",
       "ESTU_COD_MCPIO_PRESENTACION                         76122  \n",
       "ESTU_MCPIO_PRESENTACION                        CAICEDONIA  \n",
       "ESTU_DEPTO_PRESENTACION                             VALLE  \n",
       "ESTU_EXAM_NOMBREEXAMEN            EXAMEN DE ESTADO 2007-1  \n",
       "IND_ESTUDIO_BACHILLERATO                                1  \n",
       "IND_ANNO_TERMINO_BACHILLERATO                        2007  \n",
       "IND_TERMINO_BACHILLERATO                              NaN  \n",
       "IND_COD_ICFES_TERMINO                               18226  \n",
       "COLE_COD_ICFES                                      18226  \n",
       "...                                                   ...  \n",
       "FAMI_COMPUTADOR                                       NaN  \n",
       "FAMI_INGRESO_FMILIAR_MENSUAL                          NaN  \n",
       "ESTU_TRABAJA                                          NaN  \n",
       "ESTU_HORAS_TRABAJA                                    NaN  \n",
       "COLE_VALOR_PENSION                                      0  \n",
       "ESTU_CARRDESEADA_TIPO                                 NaN  \n",
       "ESTU_CARRDESEADA_NUCLEO                               NaN  \n",
       "ESTU_IES_COD_DESEADA                                  NaN  \n",
       "ESTU_IES_DESEADA_NOMBRE                               NaN  \n",
       "ESTU_IES_COD_MPIO_DESEADA                             NaN  \n",
       "ESTU_IES_MPIO_DESEADA                                 NaN  \n",
       "ESTU_IES_DEPT_DESEADA                                 NaN  \n",
       "ESTU_RAZONINSTITUTO                                   NaN  \n",
       "ESTU_CARRDESEADA_COD                                  NaN  \n",
       "ESTU_CARRDESEADA_RAZON                                NaN  \n",
       "PUNT_LENGUAJE                                       52,33  \n",
       "PUNT_MATEMATICAS                                    41,17  \n",
       "PUNT_C_SOCIALES                                     48,89  \n",
       "PUNT_FILOSOFIA                                       57,8  \n",
       "PUNT_BIOLOGIA                                       52,12  \n",
       "PUNT_QUIMICA                                        34,53  \n",
       "PUNT_FISICA                                         23,28  \n",
       "PUNT_INGLES                                         40,78  \n",
       "DESEMP_INGLES                                         NaN  \n",
       "NOMBRE_PROFUNDIZACION          PROFUNDIZACIÓN EN BIOLOGÍA  \n",
       "PUNT_PROFUNDIZACION                                  5,53  \n",
       "DESEMP_PROFUNDIZACION                                   I  \n",
       "NOMBRE_INTERDISCIPLINAR              VIOLENCIA Y SOCIEDAD  \n",
       "PUNT_INTERDISCIPLINAR                               46,46  \n",
       "ESTU_PUESTO                                           577  \n",
       "\n",
       "[84 rows x 3 columns]"
      ]
     },
     "execution_count": 4,
     "metadata": {},
     "output_type": "execute_result"
    }
   ],
   "source": [
    "data_2007.head(3).T"
   ]
  },
  {
   "cell_type": "code",
   "execution_count": 5,
   "metadata": {
    "collapsed": true
   },
   "outputs": [],
   "source": [
    "data_2007 = data_2007.drop(['ESTU_CONSECUTIVO', 'PERIODO', 'ESTU_TIPO_DOCUMENTO', 'ESTU_COD_RESIDE_MCPIO', \n",
    "                            'ESTU_COD_MCPIO_PRESENTACION'], axis=1)"
   ]
  },
  {
   "cell_type": "code",
   "execution_count": 6,
   "metadata": {
    "collapsed": false,
    "scrolled": true
   },
   "outputs": [
    {
     "name": "stdout",
     "output_type": "stream",
     "text": [
      "Index(['BE', 'BR', 'CN', 'CO', 'CU', 'DE', 'DO', 'EC', 'ES', 'FM', 'JO', 'KP',\n",
      "       'LB', 'MA', 'PA', 'RU', 'US', 'VE'],\n",
      "      dtype='object')\n",
      "BE        1\n",
      "BR        1\n",
      "CN        2\n",
      "CO    69214\n",
      "CU        1\n",
      "DE        2\n",
      "DO        2\n",
      "EC        4\n",
      "ES        3\n",
      "FM        1\n",
      "JO        1\n",
      "KP        1\n",
      "LB        1\n",
      "MA        1\n",
      "PA        2\n",
      "RU        1\n",
      "US       12\n",
      "VE        3\n",
      "Name: ESTU_PAIS_RESIDE, dtype: int64\n",
      "Elementos null/NaN 48\n",
      "__________________\n",
      "Elementos diferentes de null/NaN: 69253\n",
      "__________________\n",
      "(69253,)\n",
      "None\n"
     ]
    }
   ],
   "source": [
    "c = 'ESTU_PAIS_RESIDE'\n",
    "print(data_2007[c].value_counts().sort_index().index)\n",
    "print(data_2007[c].value_counts().sort_index())\n",
    "print(missing_data(data_2007[c]))"
   ]
  },
  {
   "cell_type": "code",
   "execution_count": 7,
   "metadata": {
    "collapsed": false
   },
   "outputs": [
    {
     "name": "stdout",
     "output_type": "stream",
     "text": [
      "Index(['F', 'M'], dtype='object')\n",
      "F    37314\n",
      "M    31964\n",
      "Name: ESTU_GENERO, dtype: int64\n",
      "Elementos null/NaN 23\n",
      "__________________\n",
      "Elementos diferentes de null/NaN: 69278\n",
      "__________________\n",
      "(69278,)\n",
      "None\n"
     ]
    }
   ],
   "source": [
    "c = 'ESTU_GENERO'\n",
    "print(data_2007[c].value_counts().sort_index().index)\n",
    "print(data_2007[c].value_counts().sort_index())\n",
    "print(missing_data(data_2007[c]))"
   ]
  },
  {
   "cell_type": "code",
   "execution_count": 8,
   "metadata": {
    "collapsed": false,
    "scrolled": true
   },
   "outputs": [
    {
     "name": "stdout",
     "output_type": "stream",
     "text": [
      "Float64Index([ 1.0,  2.0,  3.0,  4.0,  5.0,  6.0,  7.0,  8.0,  9.0, 10.0, 11.0,\n",
      "              12.0, 13.0, 14.0, 15.0, 16.0, 17.0, 18.0, 19.0, 20.0, 21.0, 22.0,\n",
      "              23.0, 24.0, 25.0, 26.0, 27.0, 28.0, 29.0, 30.0, 31.0],\n",
      "             dtype='float64')\n",
      "1     2502\n",
      "2     2339\n",
      "3     2373\n",
      "4     2285\n",
      "5     2301\n",
      "6     2233\n",
      "7     2224\n",
      "8     2214\n",
      "9     2201\n",
      "10    2428\n",
      "11    2230\n",
      "12    2284\n",
      "13    2221\n",
      "14    2138\n",
      "15    2393\n",
      "16    2277\n",
      "17    2185\n",
      "18    2274\n",
      "19    2175\n",
      "20    2337\n",
      "21    2252\n",
      "22    2329\n",
      "23    2163\n",
      "24    2263\n",
      "25    2225\n",
      "26    2270\n",
      "27    2338\n",
      "28    2505\n",
      "29    2036\n",
      "30    2005\n",
      "31    1228\n",
      "Name: ESTU_NACIMIENTO_DIA, dtype: int64\n",
      "Elementos null/NaN 73\n",
      "__________________\n",
      "Elementos diferentes de null/NaN: 69228\n",
      "__________________\n",
      "(69228,)\n",
      "None\n"
     ]
    }
   ],
   "source": [
    "c = 'ESTU_NACIMIENTO_DIA'\n",
    "print(data_2007[c].value_counts().sort_index().index)\n",
    "print(data_2007[c].value_counts().sort_index())\n",
    "print(missing_data(data_2007[c]))"
   ]
  },
  {
   "cell_type": "code",
   "execution_count": 9,
   "metadata": {
    "collapsed": false
   },
   "outputs": [
    {
     "name": "stdout",
     "output_type": "stream",
     "text": [
      "Float64Index([1.0, 2.0, 3.0, 4.0, 5.0, 6.0, 7.0, 8.0, 9.0, 10.0, 11.0, 12.0], dtype='float64')\n",
      "1     5758\n",
      "2     5214\n",
      "3     5920\n",
      "4     5612\n",
      "5     5945\n",
      "6     5675\n",
      "7     5826\n",
      "8     5879\n",
      "9     6156\n",
      "10    5915\n",
      "11    5496\n",
      "12    5832\n",
      "Name: ESTU_NACIMIENTO_MES, dtype: int64\n",
      "Elementos null/NaN 73\n",
      "__________________\n",
      "Elementos diferentes de null/NaN: 69228\n",
      "__________________\n",
      "(69228,)\n",
      "None\n"
     ]
    }
   ],
   "source": [
    "c = 'ESTU_NACIMIENTO_MES'\n",
    "print(data_2007[c].value_counts().sort_index().index)\n",
    "print(data_2007[c].value_counts().sort_index())\n",
    "print(missing_data(data_2007[c]))"
   ]
  },
  {
   "cell_type": "code",
   "execution_count": 10,
   "metadata": {
    "collapsed": false,
    "scrolled": true
   },
   "outputs": [
    {
     "name": "stdout",
     "output_type": "stream",
     "text": [
      "Float64Index([1930.0, 1931.0, 1932.0, 1933.0, 1936.0, 1939.0, 1940.0, 1941.0,\n",
      "              1942.0, 1943.0, 1944.0, 1945.0, 1946.0, 1947.0, 1948.0, 1949.0,\n",
      "              1950.0, 1951.0, 1952.0, 1953.0, 1954.0, 1955.0, 1956.0, 1957.0,\n",
      "              1958.0, 1959.0, 1960.0, 1961.0, 1962.0, 1963.0, 1964.0, 1965.0,\n",
      "              1966.0, 1967.0, 1968.0, 1969.0, 1970.0, 1971.0, 1972.0, 1973.0,\n",
      "              1974.0, 1975.0, 1976.0, 1977.0, 1978.0, 1979.0, 1980.0, 1981.0,\n",
      "              1982.0, 1983.0, 1984.0, 1985.0, 1986.0, 1987.0, 1988.0, 1989.0,\n",
      "              1990.0, 1991.0, 1992.0, 1993.0, 1994.0, 1995.0, 1996.0, 1997.0,\n",
      "              1998.0, 2000.0, 2001.0, 2002.0, 2087.0, 2090.0, 2091.0],\n",
      "             dtype='float64')\n",
      "1930        4\n",
      "1931        3\n",
      "1932        2\n",
      "1933        1\n",
      "1936        2\n",
      "1939        1\n",
      "1940        4\n",
      "1941        3\n",
      "1942        2\n",
      "1943        1\n",
      "1944        4\n",
      "1945        4\n",
      "1946        5\n",
      "1947        3\n",
      "1948        5\n",
      "1949        4\n",
      "1950        4\n",
      "1951        4\n",
      "1952        5\n",
      "1953       19\n",
      "1954       14\n",
      "1955       20\n",
      "1956       24\n",
      "1957       24\n",
      "1958       23\n",
      "1959       25\n",
      "1960       45\n",
      "1961       44\n",
      "1962       40\n",
      "1963       56\n",
      "        ...  \n",
      "1975      161\n",
      "1976      167\n",
      "1977      216\n",
      "1978      194\n",
      "1979      247\n",
      "1980      338\n",
      "1981      324\n",
      "1982      387\n",
      "1983      453\n",
      "1984      576\n",
      "1985      791\n",
      "1986     1483\n",
      "1987     3229\n",
      "1988     8043\n",
      "1989    16055\n",
      "1990    25223\n",
      "1991     7602\n",
      "1992      752\n",
      "1993      363\n",
      "1994      915\n",
      "1995        7\n",
      "1996        1\n",
      "1997        1\n",
      "1998        3\n",
      "2000        4\n",
      "2001        6\n",
      "2002        3\n",
      "2087        1\n",
      "2090        1\n",
      "2091        1\n",
      "Name: ESTU_NACIMIENTO_ANNO, dtype: int64\n",
      "Elementos null/NaN 73\n",
      "__________________\n",
      "Elementos diferentes de null/NaN: 69228\n",
      "__________________\n",
      "(69228,)\n",
      "None\n"
     ]
    }
   ],
   "source": [
    "c = 'ESTU_NACIMIENTO_ANNO'\n",
    "print(data_2007[c].value_counts().sort_index().index)\n",
    "print(data_2007[c].value_counts().sort_index())\n",
    "print(missing_data(data_2007[c]))"
   ]
  },
  {
   "cell_type": "code",
   "execution_count": 11,
   "metadata": {
    "collapsed": true
   },
   "outputs": [],
   "source": [
    "for i in data_2007[c].value_counts().sort_index().index:\n",
    "    if i > 1995:\n",
    "        data_2007[c] = data_2007[c].replace(i, np.nan)"
   ]
  },
  {
   "cell_type": "code",
   "execution_count": 12,
   "metadata": {
    "collapsed": false,
    "scrolled": true
   },
   "outputs": [
    {
     "name": "stdout",
     "output_type": "stream",
     "text": [
      "Int64Index([12, 13, 14, 15, 16, 17, 18, 19, 20, 21, 22, 23, 24, 25, 26, 27, 28,\n",
      "            29, 30, 31, 32, 33, 34, 35, 36, 37, 38, 39, 40, 41, 42, 43, 44, 45,\n",
      "            46, 47, 48, 49, 50, 51, 52, 53, 54, 55, 56, 57, 58, 59, 60, 61, 62,\n",
      "            63, 64, 65, 66, 67, 70, 74, 75, 76, 77],\n",
      "           dtype='int64')\n",
      "12      797\n",
      "13      555\n",
      "14      695\n",
      "15     4642\n",
      "16    23837\n",
      "17    17890\n",
      "18     9534\n",
      "19     3817\n",
      "20     1714\n",
      "21      898\n",
      "22      600\n",
      "23      495\n",
      "24      377\n",
      "25      344\n",
      "26      331\n",
      "27      274\n",
      "28      214\n",
      "29      222\n",
      "30      167\n",
      "31      161\n",
      "32      149\n",
      "33      137\n",
      "34      131\n",
      "35      126\n",
      "36      139\n",
      "37      186\n",
      "38      131\n",
      "39      119\n",
      "40       72\n",
      "41       75\n",
      "      ...  \n",
      "43       55\n",
      "44       48\n",
      "45       41\n",
      "46       52\n",
      "47       28\n",
      "48       20\n",
      "49       24\n",
      "50       24\n",
      "51       26\n",
      "52       12\n",
      "53       20\n",
      "54        7\n",
      "55        3\n",
      "56        5\n",
      "57        4\n",
      "58        4\n",
      "59        4\n",
      "60        6\n",
      "61        4\n",
      "62        4\n",
      "63        1\n",
      "64        1\n",
      "65        4\n",
      "66        1\n",
      "67        4\n",
      "70        2\n",
      "74        2\n",
      "75        2\n",
      "76        5\n",
      "77        1\n",
      "Name: ESTU_EDAD, dtype: int64\n",
      "Elementos null/NaN 0\n",
      "__________________\n",
      "Elementos diferentes de null/NaN: 69301\n",
      "__________________\n",
      "(69301,)\n",
      "None\n"
     ]
    }
   ],
   "source": [
    "c = 'ESTU_EDAD'\n",
    "print(data_2007[c].value_counts().sort_index().index)\n",
    "print(data_2007[c].value_counts().sort_index())\n",
    "print(missing_data(data_2007[c]))"
   ]
  },
  {
   "cell_type": "code",
   "execution_count": 13,
   "metadata": {
    "collapsed": false,
    "scrolled": true
   },
   "outputs": [
    {
     "name": "stdout",
     "output_type": "stream",
     "text": [
      "Float64Index([], dtype='float64')\n",
      "Series([], Name: ESTU_LIMITA_BAJAVISION, dtype: int64)\n",
      "Elementos null/NaN 69301\n",
      "__________________\n",
      "Elementos diferentes de null/NaN: 0\n",
      "__________________\n",
      "(0,)\n",
      "None\n"
     ]
    }
   ],
   "source": [
    "c = 'ESTU_LIMITA_BAJAVISION'\n",
    "print(data_2007[c].value_counts().sort_index().index)\n",
    "print(data_2007[c].value_counts().sort_index())\n",
    "print(missing_data(data_2007[c]))"
   ]
  },
  {
   "cell_type": "code",
   "execution_count": 14,
   "metadata": {
    "collapsed": true
   },
   "outputs": [],
   "source": [
    "data_2007 = data_2007.drop([c], axis = 1)"
   ]
  },
  {
   "cell_type": "code",
   "execution_count": 15,
   "metadata": {
    "collapsed": false
   },
   "outputs": [
    {
     "name": "stdout",
     "output_type": "stream",
     "text": [
      "Float64Index([], dtype='float64')\n",
      "Series([], Name: ESTU_LIMITA_SORDOCEGUERA, dtype: int64)\n",
      "Elementos null/NaN 69301\n",
      "__________________\n",
      "Elementos diferentes de null/NaN: 0\n",
      "__________________\n",
      "(0,)\n",
      "None\n"
     ]
    }
   ],
   "source": [
    "c = 'ESTU_LIMITA_SORDOCEGUERA'\n",
    "print(data_2007[c].value_counts().sort_index().index)\n",
    "print(data_2007[c].value_counts().sort_index())\n",
    "print(missing_data(data_2007[c]))"
   ]
  },
  {
   "cell_type": "code",
   "execution_count": 16,
   "metadata": {
    "collapsed": true
   },
   "outputs": [],
   "source": [
    "data_2007 = data_2007.drop([c], axis = 1)"
   ]
  },
  {
   "cell_type": "code",
   "execution_count": 17,
   "metadata": {
    "collapsed": false
   },
   "outputs": [
    {
     "name": "stdout",
     "output_type": "stream",
     "text": [
      "Float64Index([], dtype='float64')\n",
      "Series([], Name: ESTU_LIMITA_COGNITIVA, dtype: int64)\n",
      "Elementos null/NaN 69301\n",
      "__________________\n",
      "Elementos diferentes de null/NaN: 0\n",
      "__________________\n",
      "(0,)\n",
      "None\n"
     ]
    }
   ],
   "source": [
    "c = 'ESTU_LIMITA_COGNITIVA'\n",
    "print(data_2007[c].value_counts().sort_index().index)\n",
    "print(data_2007[c].value_counts().sort_index())\n",
    "print(missing_data(data_2007[c]))"
   ]
  },
  {
   "cell_type": "code",
   "execution_count": 18,
   "metadata": {
    "collapsed": true
   },
   "outputs": [],
   "source": [
    "data_2007 = data_2007.drop([c], axis = 1)"
   ]
  },
  {
   "cell_type": "code",
   "execution_count": 19,
   "metadata": {
    "collapsed": false
   },
   "outputs": [
    {
     "name": "stdout",
     "output_type": "stream",
     "text": [
      "Float64Index([], dtype='float64')\n",
      "Series([], Name: ESTU_LIMITA_INVIDENTE, dtype: int64)\n",
      "Elementos null/NaN 69301\n",
      "__________________\n",
      "Elementos diferentes de null/NaN: 0\n",
      "__________________\n",
      "(0,)\n",
      "None\n"
     ]
    }
   ],
   "source": [
    "c = 'ESTU_LIMITA_INVIDENTE'\n",
    "print(data_2007[c].value_counts().sort_index().index)\n",
    "print(data_2007[c].value_counts().sort_index())\n",
    "print(missing_data(data_2007[c]))"
   ]
  },
  {
   "cell_type": "code",
   "execution_count": 20,
   "metadata": {
    "collapsed": true
   },
   "outputs": [],
   "source": [
    "data_2007 = data_2007.drop([c], axis = 1)"
   ]
  },
  {
   "cell_type": "code",
   "execution_count": 21,
   "metadata": {
    "collapsed": false
   },
   "outputs": [
    {
     "name": "stdout",
     "output_type": "stream",
     "text": [
      "Float64Index([], dtype='float64')\n",
      "Series([], Name: ESTU_LIMITA_MOTRIZ, dtype: int64)\n",
      "Elementos null/NaN 69301\n",
      "__________________\n",
      "Elementos diferentes de null/NaN: 0\n",
      "__________________\n",
      "(0,)\n",
      "None\n"
     ]
    }
   ],
   "source": [
    "c = 'ESTU_LIMITA_MOTRIZ'\n",
    "print(data_2007[c].value_counts().sort_index().index)\n",
    "print(data_2007[c].value_counts().sort_index())\n",
    "print(missing_data(data_2007[c]))"
   ]
  },
  {
   "cell_type": "code",
   "execution_count": 22,
   "metadata": {
    "collapsed": true
   },
   "outputs": [],
   "source": [
    "data_2007 = data_2007.drop([c], axis = 1)"
   ]
  },
  {
   "cell_type": "code",
   "execution_count": 23,
   "metadata": {
    "collapsed": false
   },
   "outputs": [
    {
     "name": "stdout",
     "output_type": "stream",
     "text": [
      "Float64Index([], dtype='float64')\n",
      "Series([], Name: ESTU_LIMITA_SORDOINTERPRETE, dtype: int64)\n",
      "Elementos null/NaN 69301\n",
      "__________________\n",
      "Elementos diferentes de null/NaN: 0\n",
      "__________________\n",
      "(0,)\n",
      "None\n"
     ]
    }
   ],
   "source": [
    "c = 'ESTU_LIMITA_SORDOINTERPRETE'\n",
    "print(data_2007[c].value_counts().sort_index().index)\n",
    "print(data_2007[c].value_counts().sort_index())\n",
    "print(missing_data(data_2007[c]))"
   ]
  },
  {
   "cell_type": "code",
   "execution_count": 24,
   "metadata": {
    "collapsed": true
   },
   "outputs": [],
   "source": [
    "data_2007 = data_2007.drop([c], axis = 1)"
   ]
  },
  {
   "cell_type": "code",
   "execution_count": 25,
   "metadata": {
    "collapsed": false
   },
   "outputs": [
    {
     "name": "stdout",
     "output_type": "stream",
     "text": [
      "Float64Index([], dtype='float64')\n",
      "Series([], Name: ESTU_LIMITA_SORDONOINTERPRETE, dtype: int64)\n",
      "Elementos null/NaN 69301\n",
      "__________________\n",
      "Elementos diferentes de null/NaN: 0\n",
      "__________________\n",
      "(0,)\n",
      "None\n"
     ]
    }
   ],
   "source": [
    "c = 'ESTU_LIMITA_SORDONOINTERPRETE'\n",
    "print(data_2007[c].value_counts().sort_index().index)\n",
    "print(data_2007[c].value_counts().sort_index())\n",
    "print(missing_data(data_2007[c]))"
   ]
  },
  {
   "cell_type": "code",
   "execution_count": 26,
   "metadata": {
    "collapsed": true
   },
   "outputs": [],
   "source": [
    "data_2007 = data_2007.drop([c], axis = 1)"
   ]
  },
  {
   "cell_type": "code",
   "execution_count": 27,
   "metadata": {
    "collapsed": false,
    "scrolled": true
   },
   "outputs": [
    {
     "name": "stdout",
     "output_type": "stream",
     "text": [
      "Index(['ABEJORRAL', 'ABRIAQUI', 'ACACIAS', 'ACEVEDO', 'AGRADO', 'AGUA DE DIOS',\n",
      "       'AGUADAS', 'AGUAZUL', 'AGUSTIN CODAZZI', 'ALBAN',\n",
      "       ...\n",
      "       'VILLAVICENCIO', 'VILLETA', 'VISTA HERMOSA', 'YACUANQUER', 'YOLOMBO',\n",
      "       'YOPAL', 'YOTOCO', 'YUMBO', 'ZARZAL', 'ZIPAQUIRA'],\n",
      "      dtype='object', length=366)\n",
      "ABEJORRAL                       6\n",
      "ABRIAQUI                        2\n",
      "ACACIAS                        13\n",
      "ACEVEDO                         2\n",
      "AGRADO                          1\n",
      "AGUA DE DIOS                    1\n",
      "AGUADAS                         1\n",
      "AGUAZUL                         2\n",
      "AGUSTIN CODAZZI                 7\n",
      "ALBAN                           1\n",
      "ALBAN (SAN JOSE)              122\n",
      "ALBANIA                        41\n",
      "ALCALA                        103\n",
      "ALDANA                         65\n",
      "ALMAGUER                        1\n",
      "AMAGA                           4\n",
      "ANCUYA                         67\n",
      "ANDALUCIA                     200\n",
      "ANDES                           7\n",
      "ANORI                           2\n",
      "ANSERMANUEVO                  127\n",
      "APARTADO                       20\n",
      "APIA                            5\n",
      "ARATOCA                         1\n",
      "ARAUCA                         16\n",
      "ARBOLEDA (BERRUECOS)           48\n",
      "ARGELIA                        56\n",
      "ARMENIA                       176\n",
      "ARMERO (GUAYABAL)               1\n",
      "ATRATO (YUTO)                   3\n",
      "                             ... \n",
      "TUMACO                       1305\n",
      "TUNJA                          67\n",
      "TUQUERRES                     375\n",
      "TURBACO                         1\n",
      "UBATE                          10\n",
      "ULLOA                          28\n",
      "URIBIA                          2\n",
      "UTICA                           2\n",
      "VALENCIA                       12\n",
      "VALLEDUPAR                    116\n",
      "VELEZ                           1\n",
      "VENADILLO                       1\n",
      "VERSALLES                      74\n",
      "VICTORIA                        5\n",
      "VIJES                         112\n",
      "VILLA DEL ROSARIO               1\n",
      "VILLA GUAMEZ (LA HORMIGA)      21\n",
      "VILLA RICA                      1\n",
      "VILLAMARIA                      2\n",
      "VILLANUEVA                      1\n",
      "VILLAVICENCIO                 239\n",
      "VILLETA                        44\n",
      "VISTA HERMOSA                   1\n",
      "YACUANQUER                    105\n",
      "YOLOMBO                         7\n",
      "YOPAL                          77\n",
      "YOTOCO                        126\n",
      "YUMBO                        1162\n",
      "ZARZAL                        489\n",
      "ZIPAQUIRA                      77\n",
      "Name: ESTU_RESIDE_MCPIO, dtype: int64\n",
      "Elementos null/NaN 24\n",
      "__________________\n",
      "Elementos diferentes de null/NaN: 69277\n",
      "__________________\n",
      "(69277,)\n",
      "None\n"
     ]
    }
   ],
   "source": [
    "c = 'ESTU_RESIDE_MCPIO'\n",
    "print(data_2007[c].value_counts().sort_index().index)\n",
    "print(data_2007[c].value_counts().sort_index())\n",
    "print(missing_data(data_2007[c]))"
   ]
  },
  {
   "cell_type": "code",
   "execution_count": 28,
   "metadata": {
    "collapsed": false,
    "scrolled": true
   },
   "outputs": [
    {
     "name": "stdout",
     "output_type": "stream",
     "text": [
      "Index(['ANTIOQUIA', 'ARAUCA', 'ATLÁNTICO', 'BOGOTÁ', 'BOLÍVAR', 'BOYACÁ',\n",
      "       'CALDAS', 'CAQUETÁ', 'CASANARE', 'CAUCA', 'CESAR', 'CHOCÓ',\n",
      "       'CUNDINAMARCA', 'CÓRDOBA', 'GUAINÍA', 'HUILA', 'LA GUAJIRA',\n",
      "       'MAGDALENA', 'META', 'NARIÑO', 'NORTE SANTANDER', 'PUTUMAYO', 'QUINDÍO',\n",
      "       'RISARALDA', 'SAN ANDRÉS', 'SANTANDER', 'TOLIMA', 'VALLE'],\n",
      "      dtype='object')\n",
      "ANTIOQUIA           2112\n",
      "ARAUCA                16\n",
      "ATLÁNTICO            590\n",
      "BOGOTÁ              6157\n",
      "BOLÍVAR              224\n",
      "BOYACÁ               209\n",
      "CALDAS               392\n",
      "CAQUETÁ               61\n",
      "CASANARE              82\n",
      "CAUCA               1155\n",
      "CESAR                123\n",
      "CHOCÓ                  5\n",
      "CUNDINAMARCA         960\n",
      "CÓRDOBA               46\n",
      "GUAINÍA                7\n",
      "HUILA                357\n",
      "LA GUAJIRA            87\n",
      "MAGDALENA             75\n",
      "META                 272\n",
      "NARIÑO             13348\n",
      "NORTE SANTANDER      173\n",
      "PUTUMAYO              48\n",
      "QUINDÍO              192\n",
      "RISARALDA            312\n",
      "SAN ANDRÉS             1\n",
      "SANTANDER            565\n",
      "TOLIMA               362\n",
      "VALLE              41344\n",
      "Name: ESTU_RESIDE_DEPTO, dtype: int64\n",
      "Elementos null/NaN 26\n",
      "__________________\n",
      "Elementos diferentes de null/NaN: 69275\n",
      "__________________\n",
      "(69275,)\n",
      "None\n"
     ]
    }
   ],
   "source": [
    "c = 'ESTU_RESIDE_DEPTO'\n",
    "print(data_2007[c].value_counts().sort_index().index)\n",
    "print(data_2007[c].value_counts().sort_index())\n",
    "print(missing_data(data_2007[c]))"
   ]
  },
  {
   "cell_type": "code",
   "execution_count": 29,
   "metadata": {
    "collapsed": false
   },
   "outputs": [
    {
     "name": "stdout",
     "output_type": "stream",
     "text": [
      "Float64Index([1.0, 2.0, 3.0, 4.0, 5.0, 6.0, 7.0, 8.0, 9.0, 10.0], dtype='float64')\n",
      "1      6456\n",
      "2      3147\n",
      "3      1088\n",
      "4      6572\n",
      "5      1889\n",
      "6      3012\n",
      "7      4017\n",
      "8      1441\n",
      "9      1637\n",
      "10    40014\n",
      "Name: ESTU_ZONA_RESIDE, dtype: int64\n",
      "Elementos null/NaN 28\n",
      "__________________\n",
      "Elementos diferentes de null/NaN: 69273\n",
      "__________________\n",
      "(69273,)\n",
      "None\n"
     ]
    }
   ],
   "source": [
    "c = 'ESTU_ZONA_RESIDE'\n",
    "print(data_2007[c].value_counts().sort_index().index)\n",
    "print(data_2007[c].value_counts().sort_index())\n",
    "print(missing_data(data_2007[c]))"
   ]
  },
  {
   "cell_type": "code",
   "execution_count": 30,
   "metadata": {
    "collapsed": false
   },
   "outputs": [
    {
     "name": "stdout",
     "output_type": "stream",
     "text": [
      "Float64Index([1.0, 2.0], dtype='float64')\n",
      "1    2981\n",
      "2     718\n",
      "Name: ESTU_AREA_RESIDE, dtype: int64\n",
      "Elementos null/NaN 65602\n",
      "__________________\n",
      "Elementos diferentes de null/NaN: 3699\n",
      "__________________\n",
      "(3699,)\n",
      "None\n"
     ]
    }
   ],
   "source": [
    "c = 'ESTU_AREA_RESIDE'\n",
    "print(data_2007[c].value_counts().sort_index().index)\n",
    "print(data_2007[c].value_counts().sort_index())\n",
    "print(missing_data(data_2007[c]))"
   ]
  },
  {
   "cell_type": "code",
   "execution_count": 31,
   "metadata": {
    "collapsed": false,
    "scrolled": true
   },
   "outputs": [
    {
     "name": "stdout",
     "output_type": "stream",
     "text": [
      "Index(['ALBANIA', 'ALCALA', 'ANDALUCIA', 'ANSERMANUEVO', 'APARTADO', 'ARAUCA',\n",
      "       'ARMENIA', 'BARBACOAS', 'BARRANCABERMEJA', 'BARRANQUILLA',\n",
      "       ...\n",
      "       'TUNJA', 'TUQUERRES', 'UBATE', 'VALLEDUPAR', 'VELEZ', 'VILLAVICENCIO',\n",
      "       'YOPAL', 'YUMBO', 'ZARZAL', 'ZIPAQUIRA'],\n",
      "      dtype='object', length=112)\n",
      "ALBANIA                      46\n",
      "ALCALA                      134\n",
      "ANDALUCIA                   203\n",
      "ANSERMANUEVO                138\n",
      "APARTADO                     41\n",
      "ARAUCA                       16\n",
      "ARMENIA                     177\n",
      "BARBACOAS                   193\n",
      "BARRANCABERMEJA               2\n",
      "BARRANQUILLA                603\n",
      "BELLO                       187\n",
      "BOGOTÁ D.C.                6047\n",
      "BOLIVAR                      89\n",
      "BUCARAMANGA                 531\n",
      "BUENAVENTURA               2400\n",
      "BUESACO                     251\n",
      "BUGA                       1695\n",
      "BUGALAGRANDE                213\n",
      "CAICEDONIA                  305\n",
      "CALI                      20663\n",
      "CALIMA (DARIEN)             190\n",
      "CAMPOALEGRE                   3\n",
      "CANDELARIA                  675\n",
      "CARTAGENA                   217\n",
      "CARTAGO                    1849\n",
      "CHAPARRAL                    84\n",
      "CHIA                        286\n",
      "CONSACA                     107\n",
      "CUCUTA                      163\n",
      "CUMBAL                      342\n",
      "                          ...  \n",
      "ROLDANILLO                  589\n",
      "SAMANIEGO                   300\n",
      "SAN GIL                       3\n",
      "SAN PABLO                   176\n",
      "SANDONA                     324\n",
      "SANTA MARTA                  81\n",
      "SANTA ROSA DE OSOS           26\n",
      "SANTANDER DE QUILICHAO       78\n",
      "SEVILLA                     390\n",
      "SOACHA                      239\n",
      "SOCORRO                       1\n",
      "SOGAMOSO                    126\n",
      "TAMINANGO                   135\n",
      "TANGUA                       48\n",
      "TIMBIO                       45\n",
      "TIMBIQUI                     15\n",
      "TORO                        151\n",
      "TRUJILLO                    220\n",
      "TULUA                      2557\n",
      "TUMACO                     1348\n",
      "TUNJA                        76\n",
      "TUQUERRES                   530\n",
      "UBATE                        23\n",
      "VALLEDUPAR                  125\n",
      "VELEZ                        25\n",
      "VILLAVICENCIO               271\n",
      "YOPAL                        80\n",
      "YUMBO                      1345\n",
      "ZARZAL                      506\n",
      "ZIPAQUIRA                    91\n",
      "Name: ESTU_MCPIO_PRESENTACION, dtype: int64\n",
      "Elementos null/NaN 0\n",
      "__________________\n",
      "Elementos diferentes de null/NaN: 69301\n",
      "__________________\n",
      "(69301,)\n",
      "None\n"
     ]
    }
   ],
   "source": [
    "c = 'ESTU_MCPIO_PRESENTACION'\n",
    "print(data_2007[c].value_counts().sort_index().index)\n",
    "print(data_2007[c].value_counts().sort_index())\n",
    "print(missing_data(data_2007[c]))"
   ]
  },
  {
   "cell_type": "code",
   "execution_count": 32,
   "metadata": {
    "collapsed": false,
    "scrolled": true
   },
   "outputs": [
    {
     "name": "stdout",
     "output_type": "stream",
     "text": [
      "Index(['ANTIOQUIA', 'ARAUCA', 'ATLÁNTICO', 'BOGOTÁ', 'BOLÍVAR', 'BOYACÁ',\n",
      "       'CALDAS', 'CAQUETÁ', 'CASANARE', 'CAUCA', 'CESAR', 'CUNDINAMARCA',\n",
      "       'CÓRDOBA', 'GUAINÍA', 'HUILA', 'LA GUAJIRA', 'MAGDALENA', 'META',\n",
      "       'NARIÑO', 'NORTE SANTANDER', 'PUTUMAYO', 'QUINDÍO', 'RISARALDA',\n",
      "       'SANTANDER', 'TOLIMA', 'VALLE'],\n",
      "      dtype='object')\n",
      "ANTIOQUIA           2080\n",
      "ARAUCA                16\n",
      "ATLÁNTICO            603\n",
      "BOGOTÁ              6047\n",
      "BOLÍVAR              225\n",
      "BOYACÁ               202\n",
      "CALDAS               488\n",
      "CAQUETÁ               60\n",
      "CASANARE              81\n",
      "CAUCA               1097\n",
      "CESAR                125\n",
      "CUNDINAMARCA         886\n",
      "CÓRDOBA               43\n",
      "GUAINÍA                7\n",
      "HUILA                356\n",
      "LA GUAJIRA            90\n",
      "MAGDALENA             81\n",
      "META                 278\n",
      "NARIÑO             13578\n",
      "NORTE SANTANDER      171\n",
      "PUTUMAYO              41\n",
      "QUINDÍO              177\n",
      "RISARALDA            309\n",
      "SANTANDER            563\n",
      "TOLIMA               261\n",
      "VALLE              41436\n",
      "Name: ESTU_DEPTO_PRESENTACION, dtype: int64\n",
      "Elementos null/NaN 0\n",
      "__________________\n",
      "Elementos diferentes de null/NaN: 69301\n",
      "__________________\n",
      "(69301,)\n",
      "None\n"
     ]
    }
   ],
   "source": [
    "c = 'ESTU_DEPTO_PRESENTACION'\n",
    "print(data_2007[c].value_counts().sort_index().index)\n",
    "print(data_2007[c].value_counts().sort_index())\n",
    "print(missing_data(data_2007[c]))"
   ]
  },
  {
   "cell_type": "code",
   "execution_count": 33,
   "metadata": {
    "collapsed": false
   },
   "outputs": [
    {
     "name": "stdout",
     "output_type": "stream",
     "text": [
      "Index(['EXAMEN DE ESTADO 2007-1'], dtype='object')\n",
      "EXAMEN DE ESTADO 2007-1    69301\n",
      "Name: ESTU_EXAM_NOMBREEXAMEN, dtype: int64\n",
      "Elementos null/NaN 0\n",
      "__________________\n",
      "Elementos diferentes de null/NaN: 69301\n",
      "__________________\n",
      "(69301,)\n",
      "None\n"
     ]
    }
   ],
   "source": [
    "c = 'ESTU_EXAM_NOMBREEXAMEN'\n",
    "print(data_2007[c].value_counts().sort_index().index)\n",
    "print(data_2007[c].value_counts().sort_index())\n",
    "print(missing_data(data_2007[c]))"
   ]
  },
  {
   "cell_type": "code",
   "execution_count": 34,
   "metadata": {
    "collapsed": true
   },
   "outputs": [],
   "source": [
    "data_2007 = data_2007.drop([c], axis = 1)"
   ]
  },
  {
   "cell_type": "code",
   "execution_count": 35,
   "metadata": {
    "collapsed": false
   },
   "outputs": [
    {
     "name": "stdout",
     "output_type": "stream",
     "text": [
      "Float64Index([0.0, 1.0], dtype='float64')\n",
      "0     6614\n",
      "1    62679\n",
      "Name: IND_ESTUDIO_BACHILLERATO, dtype: int64\n",
      "Elementos null/NaN 8\n",
      "__________________\n",
      "Elementos diferentes de null/NaN: 69293\n",
      "__________________\n",
      "(69293,)\n",
      "None\n"
     ]
    }
   ],
   "source": [
    "c = 'IND_ESTUDIO_BACHILLERATO'\n",
    "print(data_2007[c].value_counts().sort_index().index)\n",
    "print(data_2007[c].value_counts().sort_index())\n",
    "print(missing_data(data_2007[c]))"
   ]
  },
  {
   "cell_type": "code",
   "execution_count": 36,
   "metadata": {
    "collapsed": false,
    "scrolled": true
   },
   "outputs": [
    {
     "name": "stdout",
     "output_type": "stream",
     "text": [
      "Float64Index([1978.0, 1980.0, 1981.0, 1982.0, 1984.0, 1990.0, 1992.0, 1995.0,\n",
      "              1997.0, 1998.0, 1999.0, 2000.0, 2001.0, 2002.0, 2003.0, 2004.0,\n",
      "              2005.0, 2006.0, 2007.0, 2008.0, 2009.0, 2010.0, 2013.0, 9999.0],\n",
      "             dtype='float64')\n",
      "1978        1\n",
      "1980        1\n",
      "1981        1\n",
      "1982        1\n",
      "1984        1\n",
      "1990        1\n",
      "1992        1\n",
      "1995        2\n",
      "1997        2\n",
      "1998        1\n",
      "1999        1\n",
      "2000        2\n",
      "2001        2\n",
      "2002        3\n",
      "2003        3\n",
      "2004        9\n",
      "2005       13\n",
      "2006      131\n",
      "2007    66118\n",
      "2008      336\n",
      "2009       21\n",
      "2010        4\n",
      "2013        1\n",
      "9999        1\n",
      "Name: IND_ANNO_TERMINO_BACHILLERATO, dtype: int64\n",
      "Elementos null/NaN 2644\n",
      "__________________\n",
      "Elementos diferentes de null/NaN: 66657\n",
      "__________________\n",
      "(66657,)\n",
      "None\n"
     ]
    }
   ],
   "source": [
    "c = 'IND_ANNO_TERMINO_BACHILLERATO'\n",
    "print(data_2007[c].value_counts().sort_index().index)\n",
    "print(data_2007[c].value_counts().sort_index())\n",
    "print(missing_data(data_2007[c]))"
   ]
  },
  {
   "cell_type": "code",
   "execution_count": 37,
   "metadata": {
    "collapsed": true
   },
   "outputs": [],
   "source": [
    "for i in data_2007[c].value_counts().sort_index().index:\n",
    "    if i > 2010:\n",
    "        data_2007[c] = data_2007[c].replace(i, np.nan)"
   ]
  },
  {
   "cell_type": "code",
   "execution_count": 38,
   "metadata": {
    "collapsed": false
   },
   "outputs": [
    {
     "name": "stdout",
     "output_type": "stream",
     "text": [
      "Float64Index([1.0], dtype='float64')\n",
      "1    230\n",
      "Name: IND_TERMINO_BACHILLERATO, dtype: int64\n",
      "Elementos null/NaN 69071\n",
      "__________________\n",
      "Elementos diferentes de null/NaN: 230\n",
      "__________________\n",
      "(230,)\n",
      "None\n"
     ]
    }
   ],
   "source": [
    "c = 'IND_TERMINO_BACHILLERATO'\n",
    "print(data_2007[c].value_counts().sort_index().index)\n",
    "print(data_2007[c].value_counts().sort_index())\n",
    "print(missing_data(data_2007[c]))"
   ]
  },
  {
   "cell_type": "code",
   "execution_count": 39,
   "metadata": {
    "collapsed": false,
    "scrolled": true
   },
   "outputs": [
    {
     "name": "stdout",
     "output_type": "stream",
     "text": [
      "Float64Index([     2.0,      3.0,    182.0,    638.0,   1503.0,   3046.0,\n",
      "                3327.0,   3418.0,   3459.0,   3525.0,\n",
      "              ...\n",
      "              168575.0, 170456.0, 170654.0, 170803.0, 172734.0, 173526.0,\n",
      "              175687.0, 175893.0, 176370.0, 999999.0],\n",
      "             dtype='float64', length=1899)\n",
      "2           2\n",
      "3          96\n",
      "182        86\n",
      "638        40\n",
      "1503       44\n",
      "3046       44\n",
      "3327       18\n",
      "3418       41\n",
      "3459       83\n",
      "3525      111\n",
      "4234       40\n",
      "5504        1\n",
      "6023      110\n",
      "6437        1\n",
      "6635        1\n",
      "6775       19\n",
      "6981       11\n",
      "7013       65\n",
      "7054        7\n",
      "7070       97\n",
      "7088       49\n",
      "7153        1\n",
      "7419        1\n",
      "9110      140\n",
      "9225        1\n",
      "9894        1\n",
      "9910        2\n",
      "9951        1\n",
      "9993       24\n",
      "10009       7\n",
      "         ... \n",
      "139840      1\n",
      "141465      1\n",
      "141911      1\n",
      "142927      1\n",
      "143149      1\n",
      "143263      1\n",
      "143271      1\n",
      "143495      2\n",
      "143834      3\n",
      "146316      3\n",
      "152173      1\n",
      "153692      2\n",
      "156067      1\n",
      "156372      1\n",
      "156471      1\n",
      "157024      1\n",
      "160515      1\n",
      "163907      1\n",
      "164129      1\n",
      "164822      1\n",
      "168575      1\n",
      "170456      1\n",
      "170654      1\n",
      "170803      1\n",
      "172734      1\n",
      "173526      1\n",
      "175687      1\n",
      "175893      1\n",
      "176370      1\n",
      "999999    177\n",
      "Name: IND_COD_ICFES_TERMINO, dtype: int64\n",
      "Elementos null/NaN 267\n",
      "__________________\n",
      "Elementos diferentes de null/NaN: 69034\n",
      "__________________\n",
      "(69034,)\n",
      "None\n"
     ]
    }
   ],
   "source": [
    "c = 'IND_COD_ICFES_TERMINO'\n",
    "print(data_2007[c].value_counts().sort_index().index)\n",
    "print(data_2007[c].value_counts().sort_index())\n",
    "print(missing_data(data_2007[c]))"
   ]
  },
  {
   "cell_type": "code",
   "execution_count": 40,
   "metadata": {
    "collapsed": false,
    "scrolled": true
   },
   "outputs": [
    {
     "name": "stdout",
     "output_type": "stream",
     "text": [
      "Int64Index([   182,    638,   1503,   3046,   3327,   3418,   3459,   3525,\n",
      "              4234,   6023,\n",
      "            ...\n",
      "            130674, 130724, 130732, 130799, 130815, 130823, 131045, 131169,\n",
      "            131201, 131581],\n",
      "           dtype='int64', length=1709)\n",
      "182        86\n",
      "638        40\n",
      "1503       44\n",
      "3046       44\n",
      "3327       18\n",
      "3418       41\n",
      "3459       85\n",
      "3525      111\n",
      "4234       41\n",
      "6023      110\n",
      "6775       19\n",
      "6981       11\n",
      "7013       67\n",
      "7054        8\n",
      "7070      100\n",
      "7088       49\n",
      "11213     230\n",
      "11239      67\n",
      "11254      40\n",
      "11262      35\n",
      "11270     126\n",
      "11288     120\n",
      "11296     250\n",
      "11312     168\n",
      "11320     149\n",
      "11338     397\n",
      "11379      19\n",
      "11395      29\n",
      "11403      58\n",
      "11411     161\n",
      "         ... \n",
      "130161     18\n",
      "130187     13\n",
      "130195     13\n",
      "130203     53\n",
      "130211      4\n",
      "130229      8\n",
      "130237      8\n",
      "130278     28\n",
      "130294      8\n",
      "130377      5\n",
      "130385      7\n",
      "130427    149\n",
      "130500     11\n",
      "130534     10\n",
      "130567     23\n",
      "130583     12\n",
      "130591     20\n",
      "130617     14\n",
      "130625     33\n",
      "130641     13\n",
      "130674      8\n",
      "130724     14\n",
      "130732     14\n",
      "130799     22\n",
      "130815      7\n",
      "130823     10\n",
      "131045     38\n",
      "131169     10\n",
      "131201     44\n",
      "131581     18\n",
      "Name: COLE_COD_ICFES, dtype: int64\n",
      "Elementos null/NaN 0\n",
      "__________________\n",
      "Elementos diferentes de null/NaN: 69301\n",
      "__________________\n",
      "(69301,)\n",
      "None\n"
     ]
    }
   ],
   "source": [
    "c = 'COLE_COD_ICFES'\n",
    "print(data_2007[c].value_counts().sort_index().index)\n",
    "print(data_2007[c].value_counts().sort_index())\n",
    "print(missing_data(data_2007[c]))"
   ]
  },
  {
   "cell_type": "code",
   "execution_count": 41,
   "metadata": {
    "collapsed": true
   },
   "outputs": [],
   "source": [
    "for i in data_2007[c].value_counts().sort_index().index:\n",
    "    if len(str(i)) < 4:\n",
    "        data_2007[c] = data_2007[c].replace(i, np.nan)"
   ]
  },
  {
   "cell_type": "code",
   "execution_count": 42,
   "metadata": {
    "collapsed": false,
    "scrolled": true
   },
   "outputs": [
    {
     "name": "stdout",
     "output_type": "stream",
     "text": [
      "Index(['            ', '010500103391', '051100116867', '105001000566',\n",
      "       '105001003387', '105001003395', '105001003425', '105001014397',\n",
      "       '105001022446', '105088001512',\n",
      "       ...\n",
      "       '568001009690', '568001009700', '576001091472', '576622134546',\n",
      "       '625214000001', '625269000075', '625269000082', '625286000041',\n",
      "       '625843000124', '841551000001'],\n",
      "      dtype='object', length=1508)\n",
      "                1012\n",
      "010500103391      24\n",
      "051100116867      41\n",
      "105001000566      26\n",
      "105001003387      16\n",
      "105001003395      62\n",
      "105001003425       9\n",
      "105001014397       4\n",
      "105001022446       9\n",
      "105088001512      38\n",
      "105088002993      10\n",
      "105129000534      44\n",
      "105361000443      20\n",
      "105376000440      11\n",
      "105697000069      24\n",
      "105792000190       9\n",
      "108001003289      16\n",
      "111001009971      19\n",
      "111001010251      16\n",
      "111001010839      40\n",
      "111001010910       6\n",
      "111001011029       9\n",
      "111001012360      23\n",
      "111001030856      11\n",
      "111001034134      13\n",
      "111001036781      49\n",
      "111001075515      20\n",
      "111001092410      80\n",
      "111001102148      14\n",
      "111848003031      23\n",
      "                ... \n",
      "476130000813       7\n",
      "476130000902      11\n",
      "476130000961      13\n",
      "476130001186      17\n",
      "476130001208      13\n",
      "476248000478     116\n",
      "476248000648       9\n",
      "476248000877       1\n",
      "476248032012      29\n",
      "476520003813      14\n",
      "476520006324       6\n",
      "476892001183      13\n",
      "476892099710      20\n",
      "476892099728      14\n",
      "476895000382      39\n",
      "519001000002      48\n",
      "519698000003      23\n",
      "525899000016      15\n",
      "541548000100       7\n",
      "552356000068       3\n",
      "568001009690      23\n",
      "568001009700      19\n",
      "576001091472       9\n",
      "576622134546      19\n",
      "625214000001      20\n",
      "625269000075       9\n",
      "625269000082      14\n",
      "625286000041      66\n",
      "625843000124       6\n",
      "841551000001      14\n",
      "Name: COLE_COD_DANE_INSTITUCION, dtype: int64\n",
      "Elementos null/NaN 0\n",
      "__________________\n",
      "Elementos diferentes de null/NaN: 69301\n",
      "__________________\n",
      "(69301,)\n",
      "None\n"
     ]
    }
   ],
   "source": [
    "c = 'COLE_COD_DANE_INSTITUCION'\n",
    "print(data_2007[c].value_counts().sort_index().index)\n",
    "print(data_2007[c].value_counts().sort_index())\n",
    "print(missing_data(data_2007[c]))"
   ]
  },
  {
   "cell_type": "code",
   "execution_count": 43,
   "metadata": {
    "collapsed": true
   },
   "outputs": [],
   "source": [
    "data_2007[c] = data_2007[c].replace('            ', np.nan)"
   ]
  },
  {
   "cell_type": "code",
   "execution_count": 44,
   "metadata": {
    "collapsed": false,
    "scrolled": true
   },
   "outputs": [
    {
     "name": "stdout",
     "output_type": "stream",
     "text": [
      "Index([' COL FUND STA ISABEL DE HUNGRIA', ' ESCUELA URBANA JOSE ANTONIO GALAN',\n",
      "       ' FUND COL PAR SAN PEDRO CLAVER',\n",
      "       '07/01 INSTITUCION EDUCATIVA JORGE ISAACS INEM',\n",
      "       '20/01 INSTITUCION EDUCATIVA, SIETE DE AGOSTO',\n",
      "       '28/01 INSTITUCIÓN EDUCATIVA SANTA FE',\n",
      "       '32/01 INSTITUCION EDUCATIVA NORMAL SUPERIOR SANTIAGO DE CALI',\n",
      "       '38/01 INSTITUCION EDUCATIVA AGUSTIN NIETO CABALLERO',\n",
      "       '39/01 INSTITUCION EDUCATIVA BOYACA',\n",
      "       '41/01 INSTITUCION EDUCATIVA VILLA DEL SUR',\n",
      "       ...\n",
      "       'SUSANA LOPEZ DE VALENCIA', 'TABLONES',\n",
      "       'TECNOLÓGICO EN INFORMATICA Y COMERCIO DE BUENAVENTURA INCOMEB',\n",
      "       'TERESA CALDERÓN DE LASSO',\n",
      "       'TÉCNICO INDUSTRIAL GERARDO VALENCIA CANO - SEDE PRINCIPAL',\n",
      "       'UNIDAD TECNOLOGICA DE OCCIDENTE', 'UNIDAD TECNOLOGICA DEL SUR',\n",
      "       'UNION PROFESIONAL PARA LA EDUCACION Y EL TRABAJO UPET',\n",
      "       'UNIVERSIDAD NACIONAL ABIERTA Y A DISTANCIA',\n",
      "       'XINSTITUTO TECNICO COMERCIAL PILOTO'],\n",
      "      dtype='object', length=1547)\n",
      " COL FUND STA ISABEL DE HUNGRIA                                                                         371\n",
      " ESCUELA URBANA JOSE ANTONIO GALAN                                                                       39\n",
      " FUND COL PAR SAN PEDRO CLAVER                                                                           80\n",
      "07/01 INSTITUCION EDUCATIVA JORGE ISAACS INEM                                                           520\n",
      "20/01 INSTITUCION EDUCATIVA, SIETE DE AGOSTO                                                             87\n",
      "28/01 INSTITUCIÓN EDUCATIVA SANTA FE                                                                     93\n",
      "32/01 INSTITUCION EDUCATIVA NORMAL SUPERIOR SANTIAGO DE CALI                                            165\n",
      "38/01 INSTITUCION EDUCATIVA AGUSTIN NIETO CABALLERO                                                     121\n",
      "39/01 INSTITUCION EDUCATIVA BOYACA                                                                      120\n",
      "41/01 INSTITUCION EDUCATIVA VILLA DEL SUR                                                               118\n",
      "44/01 INSTITUCIÓN EDUCATIVA COMERCIAL CIUDAD DE CALI                                                    299\n",
      "58/01 INSTITUCION EDUCATIVA GABRIELA MISTRAL                                                            115\n",
      "69/01 INSTITUCION EDUCATIVA LA ESPERANZA                                                                 22\n",
      "74/01 INSTITUCION EDUCATIVA JUANA DE CAICEDO Y CUERO                                                     46\n",
      "80/01 INSTITUCIÓN EDUCATIVA PANCE                                                                        19\n",
      "81/02 INSTITUCION EDUCATIVA LA BUITRERA JOSE MARIA GARCIA DE TOLED                                       30\n",
      "84/04  JOSE HOLGUIN GARCES                                                                                5\n",
      "85/02 SAT JOSE HOLGUIN GARCES                                                                            14\n",
      "86/02 INSTITUCION EDUCATIVA LA LEONERA  ITA FARALLONES                                                   17\n",
      "ABSALON TORRES CAMACHO                                                                                  105\n",
      "ACAD AMERICANA DE SISTEMAS Y COMERCIO                                                                    12\n",
      "ACADE MILIT JOAQUÍN DE CAICEDO Y CUERO                                                                   20\n",
      "ACADEMIA ACADEMIA SAM                                                                                    12\n",
      "ACADEMIA COLOMBIANA DE ENSEÑANZA                                                                         21\n",
      "ACADEMIA COMERCIAL REAL                                                                                  18\n",
      "ACADEMIA DE CIENCIAS DE COLOMBIA AKADEMOS                                                                19\n",
      "ACADEMIA MILIT CORONEL MIGUEL CABAL BARONA                                                               13\n",
      "ACADEMIA MILITAR GENERAL CUSTODIO GARCIA ROVIRA                                                          22\n",
      "ACADEMIA MILITAR GENERAL JOSÉ MARÍA CABAL                                                                32\n",
      "AGRICOLA CAMPOALEGRE                                                                                     36\n",
      "                                                                                                       ... \n",
      "SEDE PRINCIPAL AGUACLARA                                                                                 83\n",
      "SEDE PRINCIPAL CONCENTRACIÓN DE DESARROLLO RURAL                                                         30\n",
      "SEDE PRINCIPAL GIMNASIO DEL PACIFICO CENTRAL                                                            372\n",
      "SEDE PRINCIPAL INSTITUTO JULIA RESTREPO                                                                 287\n",
      "SEDE PRINCIPAL INSTITUTO TEC.  INDUSTRIAL C.S.L.                                                        191\n",
      "SEDE PRINCIPAL LA GRACIELA                                                                               80\n",
      "SEDE PRINCIPAL LICEO MODERNO                                                                            178\n",
      "SEDE PRINCIPAL NO. 7 MARIA ANTONIA RUIZ                                                                  35\n",
      "SEDE PRINCIPAL UNIDAD DOCENTE JOVITA SANTA COLOMA                                                        79\n",
      "SEM DE CRISTO SACERDOTE                                                                                  40\n",
      "SEMILLA DE LA ESPERANZA                                                                                  18\n",
      "SEMINARIO MENOR ARQUIDIOCESANO                                                                           57\n",
      "SERVICIO EDUCATIVO NAL DE ADULTOS SENDAS                                                                110\n",
      "SEVILLA                                                                                                 195\n",
      "SIMON BOLIVAR                                                                                           198\n",
      "SIMON RODRIGUEZ                                                                                          60\n",
      "SIXTO MARIA ROJAS                                                                                        47\n",
      "SOC ESCUELA KARL C PARRISH                                                                               41\n",
      "SOR MARIA JULIANA                                                                                       133\n",
      "STUDIO SISTEMAS AGENCIA CRISTIANA DE SERVICIO Y EDUCACION                                               113\n",
      "SUSANA LOPEZ DE VALENCIA                                                                                 35\n",
      "TABLONES                                                                                                 32\n",
      "TECNOLÓGICO EN INFORMATICA Y COMERCIO DE BUENAVENTURA INCOMEB                                            22\n",
      "TERESA CALDERÓN DE LASSO                                                                                 31\n",
      "TÉCNICO INDUSTRIAL GERARDO VALENCIA CANO - SEDE PRINCIPAL                                               213\n",
      "UNIDAD TECNOLOGICA DE OCCIDENTE                                                                           8\n",
      "UNIDAD TECNOLOGICA DEL SUR                                                                                4\n",
      "UNION PROFESIONAL PARA LA EDUCACION Y EL TRABAJO UPET                                                    17\n",
      "UNIVERSIDAD NACIONAL ABIERTA Y A DISTANCIA                                                               15\n",
      "XINSTITUTO TECNICO COMERCIAL PILOTO                                                                       8\n",
      "Name: COLE_NOMBRE_SEDE, dtype: int64\n",
      "Elementos null/NaN 0\n",
      "__________________\n",
      "Elementos diferentes de null/NaN: 69301\n",
      "__________________\n",
      "(69301,)\n",
      "None\n"
     ]
    }
   ],
   "source": [
    "c = 'COLE_NOMBRE_SEDE'\n",
    "print(data_2007[c].value_counts().sort_index().index)\n",
    "print(data_2007[c].value_counts().sort_index())\n",
    "print(missing_data(data_2007[c]))"
   ]
  },
  {
   "cell_type": "code",
   "execution_count": 45,
   "metadata": {
    "collapsed": true
   },
   "outputs": [],
   "source": [
    "data_2007 = data_2007.drop([c], axis = 1)"
   ]
  },
  {
   "cell_type": "code",
   "execution_count": 46,
   "metadata": {
    "collapsed": false
   },
   "outputs": [
    {
     "name": "stdout",
     "output_type": "stream",
     "text": [
      "Index(['A', 'B', 'F'], dtype='object')\n",
      "A    42311\n",
      "B    13208\n",
      "F    13782\n",
      "Name: COLE_CALENDARIO, dtype: int64\n",
      "Elementos null/NaN 0\n",
      "__________________\n",
      "Elementos diferentes de null/NaN: 69301\n",
      "__________________\n",
      "(69301,)\n",
      "None\n"
     ]
    }
   ],
   "source": [
    "c = 'COLE_CALENDARIO'\n",
    "print(data_2007[c].value_counts().sort_index().index)\n",
    "print(data_2007[c].value_counts().sort_index())\n",
    "print(missing_data(data_2007[c]))"
   ]
  },
  {
   "cell_type": "code",
   "execution_count": 47,
   "metadata": {
    "collapsed": false
   },
   "outputs": [
    {
     "name": "stdout",
     "output_type": "stream",
     "text": [
      "Index(['F', 'M', 'X'], dtype='object')\n",
      "F     4454\n",
      "M     1141\n",
      "X    63706\n",
      "Name: COLE_GENERO, dtype: int64\n",
      "Elementos null/NaN 0\n",
      "__________________\n",
      "Elementos diferentes de null/NaN: 69301\n",
      "__________________\n",
      "(69301,)\n",
      "None\n"
     ]
    }
   ],
   "source": [
    "c = 'COLE_GENERO'\n",
    "print(data_2007[c].value_counts().sort_index().index)\n",
    "print(data_2007[c].value_counts().sort_index())\n",
    "print(missing_data(data_2007[c]))"
   ]
  },
  {
   "cell_type": "code",
   "execution_count": 48,
   "metadata": {
    "collapsed": false
   },
   "outputs": [
    {
     "name": "stdout",
     "output_type": "stream",
     "text": [
      "Index(['N', 'O'], dtype='object')\n",
      "N    29309\n",
      "O    39992\n",
      "Name: COLE_NATURALEZA, dtype: int64\n",
      "Elementos null/NaN 0\n",
      "__________________\n",
      "Elementos diferentes de null/NaN: 69301\n",
      "__________________\n",
      "(69301,)\n",
      "None\n"
     ]
    }
   ],
   "source": [
    "c = 'COLE_NATURALEZA'\n",
    "print(data_2007[c].value_counts().sort_index().index)\n",
    "print(data_2007[c].value_counts().sort_index())\n",
    "print(missing_data(data_2007[c]))"
   ]
  },
  {
   "cell_type": "code",
   "execution_count": 49,
   "metadata": {
    "collapsed": false
   },
   "outputs": [
    {
     "name": "stdout",
     "output_type": "stream",
     "text": [
      "Float64Index([0.0, 1.0], dtype='float64')\n",
      "0    61864\n",
      "1     4174\n",
      "Name: COLE_BILINGUE, dtype: int64\n",
      "Elementos null/NaN 3263\n",
      "__________________\n",
      "Elementos diferentes de null/NaN: 66038\n",
      "__________________\n",
      "(66038,)\n",
      "None\n"
     ]
    }
   ],
   "source": [
    "c = 'COLE_BILINGUE'\n",
    "print(data_2007[c].value_counts().sort_index().index)\n",
    "print(data_2007[c].value_counts().sort_index())\n",
    "print(missing_data(data_2007[c]))"
   ]
  },
  {
   "cell_type": "code",
   "execution_count": 50,
   "metadata": {
    "collapsed": false
   },
   "outputs": [
    {
     "name": "stdout",
     "output_type": "stream",
     "text": [
      "Index(['COMPLETA U ORDINARIA', 'MAÑANA', 'NOCHE', 'SABATINA - DOMINICAL',\n",
      "       'TARDE'],\n",
      "      dtype='object')\n",
      "COMPLETA U ORDINARIA    10380\n",
      "MAÑANA                  41999\n",
      "NOCHE                    6343\n",
      "SABATINA - DOMINICAL     2732\n",
      "TARDE                    7847\n",
      "Name: COLE_JORNADA, dtype: int64\n",
      "Elementos null/NaN 0\n",
      "__________________\n",
      "Elementos diferentes de null/NaN: 69301\n",
      "__________________\n",
      "(69301,)\n",
      "None\n"
     ]
    }
   ],
   "source": [
    "c = 'COLE_JORNADA'\n",
    "print(data_2007[c].value_counts().sort_index().index)\n",
    "print(data_2007[c].value_counts().sort_index())\n",
    "print(missing_data(data_2007[c]))"
   ]
  },
  {
   "cell_type": "code",
   "execution_count": 51,
   "metadata": {
    "collapsed": false
   },
   "outputs": [
    {
     "name": "stdout",
     "output_type": "stream",
     "text": [
      "Index(['ACADEMICO', 'ACADEMICO Y TECNICO', 'NORMALISTA', 'TECNICO'], dtype='object')\n",
      "ACADEMICO              35806\n",
      "ACADEMICO Y TECNICO    12107\n",
      "NORMALISTA              1440\n",
      "TECNICO                19948\n",
      "Name: COLE_CARACTER, dtype: int64\n",
      "Elementos null/NaN 0\n",
      "__________________\n",
      "Elementos diferentes de null/NaN: 69301\n",
      "__________________\n",
      "(69301,)\n",
      "None\n"
     ]
    }
   ],
   "source": [
    "c = 'COLE_CARACTER'\n",
    "print(data_2007[c].value_counts().sort_index().index)\n",
    "print(data_2007[c].value_counts().sort_index())\n",
    "print(missing_data(data_2007[c]))"
   ]
  },
  {
   "cell_type": "code",
   "execution_count": 52,
   "metadata": {
    "collapsed": false,
    "scrolled": true
   },
   "outputs": [
    {
     "name": "stdout",
     "output_type": "stream",
     "text": [
      "Float64Index([ 1.0,  2.0,  3.0,  4.0,  5.0,  6.0,  7.0,  8.0,  9.0, 10.0, 11.0,\n",
      "              12.0, 13.0, 14.0, 15.0, 16.0, 99.0],\n",
      "             dtype='float64')\n",
      "1     3156\n",
      "2       19\n",
      "3       99\n",
      "4        6\n",
      "5        4\n",
      "6        4\n",
      "7        8\n",
      "8        6\n",
      "9       20\n",
      "10       6\n",
      "11    1040\n",
      "12       8\n",
      "13      21\n",
      "14       9\n",
      "15       3\n",
      "16       3\n",
      "99    1593\n",
      "Name: ESTU_ETNIA, dtype: int64\n",
      "Elementos null/NaN 63296\n",
      "__________________\n",
      "Elementos diferentes de null/NaN: 6005\n",
      "__________________\n",
      "(6005,)\n",
      "None\n"
     ]
    }
   ],
   "source": [
    "c = 'ESTU_ETNIA'\n",
    "print(data_2007[c].value_counts().sort_index().index)\n",
    "print(data_2007[c].value_counts().sort_index())\n",
    "print(missing_data(data_2007[c]))"
   ]
  },
  {
   "cell_type": "code",
   "execution_count": 53,
   "metadata": {
    "collapsed": false
   },
   "outputs": [
    {
     "name": "stdout",
     "output_type": "stream",
     "text": [
      "Float64Index([0.0, 1.0], dtype='float64')\n",
      "0      8\n",
      "1    934\n",
      "Name: FAMI_LEE_ESCRIBE_PADRE, dtype: int64\n",
      "Elementos null/NaN 68359\n",
      "__________________\n",
      "Elementos diferentes de null/NaN: 942\n",
      "__________________\n",
      "(942,)\n",
      "None\n"
     ]
    }
   ],
   "source": [
    "c = 'FAMI_LEE_ESCRIBE_PADRE'\n",
    "print(data_2007[c].value_counts().sort_index().index)\n",
    "print(data_2007[c].value_counts().sort_index())\n",
    "print(missing_data(data_2007[c]))"
   ]
  },
  {
   "cell_type": "code",
   "execution_count": 54,
   "metadata": {
    "collapsed": false
   },
   "outputs": [
    {
     "name": "stdout",
     "output_type": "stream",
     "text": [
      "Float64Index([0.0, 1.0], dtype='float64')\n",
      "0     13\n",
      "1    929\n",
      "Name: FAMI_LEE_ESCRIBE_MADRE, dtype: int64\n",
      "Elementos null/NaN 68359\n",
      "__________________\n",
      "Elementos diferentes de null/NaN: 942\n",
      "__________________\n",
      "(942,)\n",
      "None\n"
     ]
    }
   ],
   "source": [
    "c = 'FAMI_LEE_ESCRIBE_MADRE'\n",
    "print(data_2007[c].value_counts().sort_index().index)\n",
    "print(data_2007[c].value_counts().sort_index())\n",
    "print(missing_data(data_2007[c]))"
   ]
  },
  {
   "cell_type": "code",
   "execution_count": 55,
   "metadata": {
    "collapsed": false,
    "scrolled": true
   },
   "outputs": [
    {
     "name": "stdout",
     "output_type": "stream",
     "text": [
      "Float64Index([ 0.0,  1.0,  2.0,  3.0,  4.0,  5.0,  7.0,  9.0, 10.0, 11.0, 12.0,\n",
      "              13.0, 14.0, 15.0, 16.0, 17.0, 99.0],\n",
      "             dtype='float64')\n",
      "0     126\n",
      "1       4\n",
      "2      11\n",
      "3      10\n",
      "4      12\n",
      "5       5\n",
      "7       1\n",
      "9     528\n",
      "10    438\n",
      "11    360\n",
      "12    705\n",
      "13     55\n",
      "14    154\n",
      "15     99\n",
      "16    710\n",
      "17    421\n",
      "99     72\n",
      "Name: FAMI_EDUCA_PADRE, dtype: int64\n",
      "Elementos null/NaN 65590\n",
      "__________________\n",
      "Elementos diferentes de null/NaN: 3711\n",
      "__________________\n",
      "(3711,)\n",
      "None\n"
     ]
    }
   ],
   "source": [
    "c = 'FAMI_EDUCA_PADRE'\n",
    "print(data_2007[c].value_counts().sort_index().index)\n",
    "print(data_2007[c].value_counts().sort_index())\n",
    "print(missing_data(data_2007[c]))"
   ]
  },
  {
   "cell_type": "code",
   "execution_count": 56,
   "metadata": {
    "collapsed": false
   },
   "outputs": [
    {
     "name": "stdout",
     "output_type": "stream",
     "text": [
      "Float64Index([ 0.0,  1.0,  2.0,  3.0,  4.0,  5.0,  7.0,  9.0, 10.0, 11.0, 12.0,\n",
      "              13.0, 14.0, 15.0, 16.0, 17.0, 99.0],\n",
      "             dtype='float64')\n",
      "0      62\n",
      "1       5\n",
      "2      16\n",
      "3      10\n",
      "4       1\n",
      "5       7\n",
      "7       2\n",
      "9     518\n",
      "10    437\n",
      "11    428\n",
      "12    743\n",
      "13     77\n",
      "14    208\n",
      "15    114\n",
      "16    723\n",
      "17    310\n",
      "99     50\n",
      "Name: FAMI_EDUCA_MADRE, dtype: int64\n",
      "Elementos null/NaN 65590\n",
      "__________________\n",
      "Elementos diferentes de null/NaN: 3711\n",
      "__________________\n",
      "(3711,)\n",
      "None\n"
     ]
    }
   ],
   "source": [
    "c = 'FAMI_EDUCA_MADRE'\n",
    "print(data_2007[c].value_counts().sort_index().index)\n",
    "print(data_2007[c].value_counts().sort_index())\n",
    "print(missing_data(data_2007[c]))"
   ]
  },
  {
   "cell_type": "code",
   "execution_count": 57,
   "metadata": {
    "collapsed": false,
    "scrolled": true
   },
   "outputs": [
    {
     "name": "stdout",
     "output_type": "stream",
     "text": [
      "Float64Index([ 1.0,  2.0,  3.0,  6.0,  7.0,  9.0, 10.0, 11.0, 12.0, 13.0, 14.0,\n",
      "              15.0, 16.0, 17.0, 18.0, 19.0, 20.0, 21.0, 22.0, 23.0, 24.0, 25.0,\n",
      "              26.0, 99.0],\n",
      "             dtype='float64')\n",
      "1       1\n",
      "2       2\n",
      "3       1\n",
      "6       1\n",
      "7       2\n",
      "9      23\n",
      "10      1\n",
      "11     10\n",
      "12      8\n",
      "13    292\n",
      "14    367\n",
      "15    173\n",
      "16    165\n",
      "17    210\n",
      "18     83\n",
      "19    398\n",
      "20    305\n",
      "21    862\n",
      "22     51\n",
      "23    227\n",
      "24      3\n",
      "25      3\n",
      "26    439\n",
      "99     84\n",
      "Name: FAMI_OCUPA_PADRE, dtype: int64\n",
      "Elementos null/NaN 65590\n",
      "__________________\n",
      "Elementos diferentes de null/NaN: 3711\n",
      "__________________\n",
      "(3711,)\n",
      "None\n"
     ]
    }
   ],
   "source": [
    "c = 'FAMI_OCUPA_PADRE'\n",
    "print(data_2007[c].value_counts().sort_index().index)\n",
    "print(data_2007[c].value_counts().sort_index())\n",
    "print(missing_data(data_2007[c]))"
   ]
  },
  {
   "cell_type": "code",
   "execution_count": 58,
   "metadata": {
    "collapsed": false,
    "scrolled": true
   },
   "outputs": [
    {
     "name": "stdout",
     "output_type": "stream",
     "text": [
      "Float64Index([ 2.0,  6.0,  7.0,  8.0,  9.0, 10.0, 11.0, 12.0, 13.0, 14.0, 15.0,\n",
      "              16.0, 17.0, 18.0, 19.0, 20.0, 21.0, 22.0, 23.0, 24.0, 25.0, 26.0,\n",
      "              99.0],\n",
      "             dtype='float64')\n",
      "2        1\n",
      "6        2\n",
      "7        1\n",
      "8        1\n",
      "9        6\n",
      "10      33\n",
      "11       2\n",
      "12       3\n",
      "13     131\n",
      "14     212\n",
      "15     106\n",
      "16     190\n",
      "17     195\n",
      "18     117\n",
      "19     200\n",
      "20     197\n",
      "21     372\n",
      "22    1548\n",
      "23     119\n",
      "24       1\n",
      "25       4\n",
      "26     239\n",
      "99      31\n",
      "Name: FAMI_OCUPA_MADRE, dtype: int64\n",
      "Elementos null/NaN 65590\n",
      "__________________\n",
      "Elementos diferentes de null/NaN: 3711\n",
      "__________________\n",
      "(3711,)\n",
      "None\n"
     ]
    }
   ],
   "source": [
    "c = 'FAMI_OCUPA_MADRE'\n",
    "print(data_2007[c].value_counts().sort_index().index)\n",
    "print(data_2007[c].value_counts().sort_index())\n",
    "print(missing_data(data_2007[c]))"
   ]
  },
  {
   "cell_type": "code",
   "execution_count": 59,
   "metadata": {
    "collapsed": false,
    "scrolled": true
   },
   "outputs": [
    {
     "name": "stdout",
     "output_type": "stream",
     "text": [
      "Float64Index([0.0, 1.0, 2.0, 3.0, 4.0, 5.0, 6.0, 7.0, 8.0, 9.0, 10.0], dtype='float64')\n",
      "0     139\n",
      "1     354\n",
      "2     243\n",
      "3     116\n",
      "4      59\n",
      "5      21\n",
      "6      19\n",
      "7       3\n",
      "8       3\n",
      "9       1\n",
      "10      1\n",
      "Name: FAMI_NUM_HERMANOS, dtype: int64\n",
      "Elementos null/NaN 68342\n",
      "__________________\n",
      "Elementos diferentes de null/NaN: 959\n",
      "__________________\n",
      "(959,)\n",
      "None\n"
     ]
    }
   ],
   "source": [
    "c = 'FAMI_NUM_HERMANOS'\n",
    "print(data_2007[c].value_counts().sort_index().index)\n",
    "print(data_2007[c].value_counts().sort_index())\n",
    "print(missing_data(data_2007[c]))"
   ]
  },
  {
   "cell_type": "code",
   "execution_count": 60,
   "metadata": {
    "collapsed": false
   },
   "outputs": [
    {
     "name": "stdout",
     "output_type": "stream",
     "text": [
      "Float64Index([1.0, 2.0, 3.0, 4.0, 5.0, 6.0, 7.0, 8.0, 9.0, 88.0, 99.0], dtype='float64')\n",
      "1      30\n",
      "2      63\n",
      "3     116\n",
      "4     253\n",
      "5      35\n",
      "6      70\n",
      "7     115\n",
      "8     112\n",
      "9      11\n",
      "88    401\n",
      "99     31\n",
      "Name: FAMI_EDUCA_HERMANO, dtype: int64\n",
      "Elementos null/NaN 68064\n",
      "__________________\n",
      "Elementos diferentes de null/NaN: 1237\n",
      "__________________\n",
      "(1237,)\n",
      "None\n"
     ]
    }
   ],
   "source": [
    "c = 'FAMI_EDUCA_HERMANO'\n",
    "print(data_2007[c].value_counts().sort_index().index)\n",
    "print(data_2007[c].value_counts().sort_index())\n",
    "print(missing_data(data_2007[c]))"
   ]
  },
  {
   "cell_type": "code",
   "execution_count": 61,
   "metadata": {
    "collapsed": false
   },
   "outputs": [
    {
     "name": "stdout",
     "output_type": "stream",
     "text": [
      "Float64Index([1.0, 2.0, 88.0], dtype='float64')\n",
      "1     451\n",
      "2      43\n",
      "88    326\n",
      "Name: FAMI_HERMANOS_ESTUDIAN, dtype: int64\n",
      "Elementos null/NaN 68481\n",
      "__________________\n",
      "Elementos diferentes de null/NaN: 820\n",
      "__________________\n",
      "(820,)\n",
      "None\n"
     ]
    }
   ],
   "source": [
    "c = 'FAMI_HERMANOS_ESTUDIAN'\n",
    "print(data_2007[c].value_counts().sort_index().index)\n",
    "print(data_2007[c].value_counts().sort_index())\n",
    "print(missing_data(data_2007[c]))"
   ]
  },
  {
   "cell_type": "code",
   "execution_count": 62,
   "metadata": {
    "collapsed": false
   },
   "outputs": [
    {
     "name": "stdout",
     "output_type": "stream",
     "text": [
      "Float64Index([1.0, 2.0, 3.0, 4.0, 5.0, 6.0, 8.0], dtype='float64')\n",
      "1     802\n",
      "2    1005\n",
      "3     780\n",
      "4     365\n",
      "5     324\n",
      "6     437\n",
      "8      16\n",
      "Name: FAMI_ESTRATO_VIVIENDA, dtype: int64\n",
      "Elementos null/NaN 65572\n",
      "__________________\n",
      "Elementos diferentes de null/NaN: 3729\n",
      "__________________\n",
      "(3729,)\n",
      "None\n"
     ]
    }
   ],
   "source": [
    "c = 'FAMI_ESTRATO_VIVIENDA'\n",
    "print(data_2007[c].value_counts().sort_index().index)\n",
    "print(data_2007[c].value_counts().sort_index())\n",
    "print(missing_data(data_2007[c]))"
   ]
  },
  {
   "cell_type": "code",
   "execution_count": 63,
   "metadata": {
    "collapsed": true
   },
   "outputs": [],
   "source": [
    "data_2007[c] = data_2007[c].replace(8.0, np.nan)"
   ]
  },
  {
   "cell_type": "code",
   "execution_count": 64,
   "metadata": {
    "collapsed": false
   },
   "outputs": [
    {
     "name": "stdout",
     "output_type": "stream",
     "text": [
      "Float64Index([1.0, 2.0, 3.0, 4.0, 5.0], dtype='float64')\n",
      "1     960\n",
      "2     589\n",
      "3     123\n",
      "4      63\n",
      "5    1976\n",
      "Name: FAMI_NIVEL_SISBEN, dtype: int64\n",
      "Elementos null/NaN 65590\n",
      "__________________\n",
      "Elementos diferentes de null/NaN: 3711\n",
      "__________________\n",
      "(3711,)\n",
      "None\n"
     ]
    }
   ],
   "source": [
    "c = 'FAMI_NIVEL_SISBEN'\n",
    "print(data_2007[c].value_counts().sort_index().index)\n",
    "print(data_2007[c].value_counts().sort_index())\n",
    "print(missing_data(data_2007[c]))"
   ]
  },
  {
   "cell_type": "code",
   "execution_count": 65,
   "metadata": {
    "collapsed": false
   },
   "outputs": [
    {
     "name": "stdout",
     "output_type": "stream",
     "text": [
      "Float64Index([1.0, 2.0, 3.0, 4.0, 5.0, 6.0, 7.0, 8.0, 9.0, 10.0, 11.0, 12.0], dtype='float64')\n",
      "1      107\n",
      "2      303\n",
      "3      787\n",
      "4     1115\n",
      "5      770\n",
      "6      314\n",
      "7      142\n",
      "8       86\n",
      "9       36\n",
      "10      25\n",
      "11       7\n",
      "12      16\n",
      "Name: FAMI_PERSONAS_HOGAR, dtype: int64\n",
      "Elementos null/NaN 65593\n",
      "__________________\n",
      "Elementos diferentes de null/NaN: 3708\n",
      "__________________\n",
      "(3708,)\n",
      "None\n"
     ]
    }
   ],
   "source": [
    "c = 'FAMI_PERSONAS_HOGAR'\n",
    "print(data_2007[c].value_counts().sort_index().index)\n",
    "print(data_2007[c].value_counts().sort_index())\n",
    "print(missing_data(data_2007[c]))"
   ]
  },
  {
   "cell_type": "code",
   "execution_count": 66,
   "metadata": {
    "collapsed": false
   },
   "outputs": [
    {
     "name": "stdout",
     "output_type": "stream",
     "text": [
      "Float64Index([1.0, 2.0, 3.0, 4.0, 5.0], dtype='float64')\n",
      "1      95\n",
      "2    1065\n",
      "3     238\n",
      "4    1570\n",
      "5     743\n",
      "Name: FAMI_PISOSHOGAR, dtype: int64\n",
      "Elementos null/NaN 65590\n",
      "__________________\n",
      "Elementos diferentes de null/NaN: 3711\n",
      "__________________\n",
      "(3711,)\n",
      "None\n"
     ]
    }
   ],
   "source": [
    "c = 'FAMI_PISOSHOGAR'\n",
    "print(data_2007[c].value_counts().sort_index().index)\n",
    "print(data_2007[c].value_counts().sort_index())\n",
    "print(missing_data(data_2007[c]))"
   ]
  },
  {
   "cell_type": "code",
   "execution_count": 67,
   "metadata": {
    "collapsed": false
   },
   "outputs": [
    {
     "name": "stdout",
     "output_type": "stream",
     "text": [
      "Float64Index([1.0, 2.0, 3.0, 4.0, 5.0, 6.0, 7.0, 8.0, 9.0, 10.0], dtype='float64')\n",
      "1      25\n",
      "2     136\n",
      "3     349\n",
      "4     388\n",
      "5     318\n",
      "6     165\n",
      "7      62\n",
      "8      32\n",
      "9      16\n",
      "10     17\n",
      "Name: FAMI_CUARTOS_HOGAR, dtype: int64\n",
      "Elementos null/NaN 67793\n",
      "__________________\n",
      "Elementos diferentes de null/NaN: 1508\n",
      "__________________\n",
      "(1508,)\n",
      "None\n"
     ]
    }
   ],
   "source": [
    "c = 'FAMI_CUARTOS_HOGAR'\n",
    "print(data_2007[c].value_counts().sort_index().index)\n",
    "print(data_2007[c].value_counts().sort_index())\n",
    "print(missing_data(data_2007[c]))"
   ]
  },
  {
   "cell_type": "code",
   "execution_count": 68,
   "metadata": {
    "collapsed": false
   },
   "outputs": [
    {
     "name": "stdout",
     "output_type": "stream",
     "text": [
      "Float64Index([1.0, 2.0, 3.0, 4.0, 5.0, 6.0, 7.0, 8.0, 10.0], dtype='float64')\n",
      "1      200\n",
      "2     1060\n",
      "3     1584\n",
      "4      604\n",
      "5      165\n",
      "6       44\n",
      "7       17\n",
      "8        3\n",
      "10       4\n",
      "Name: FAMI_DORMITORIOS_HOGAR, dtype: int64\n",
      "Elementos null/NaN 65620\n",
      "__________________\n",
      "Elementos diferentes de null/NaN: 3681\n",
      "__________________\n",
      "(3681,)\n",
      "None\n"
     ]
    }
   ],
   "source": [
    "c = 'FAMI_DORMITORIOS_HOGAR'\n",
    "print(data_2007[c].value_counts().sort_index().index)\n",
    "print(data_2007[c].value_counts().sort_index())\n",
    "print(missing_data(data_2007[c]))"
   ]
  },
  {
   "cell_type": "code",
   "execution_count": 69,
   "metadata": {
    "collapsed": false
   },
   "outputs": [
    {
     "name": "stdout",
     "output_type": "stream",
     "text": [
      "Float64Index([0.0, 1.0, 2.0, 3.0, 4.0], dtype='float64')\n",
      "0    1103\n",
      "1      69\n",
      "2      43\n",
      "3    2465\n",
      "4      31\n",
      "Name: FAMI_COMPUTADOR, dtype: int64\n",
      "Elementos null/NaN 65590\n",
      "__________________\n",
      "Elementos diferentes de null/NaN: 3711\n",
      "__________________\n",
      "(3711,)\n",
      "None\n"
     ]
    }
   ],
   "source": [
    "c = 'FAMI_COMPUTADOR'\n",
    "print(data_2007[c].value_counts().sort_index().index)\n",
    "print(data_2007[c].value_counts().sort_index())\n",
    "print(missing_data(data_2007[c]))"
   ]
  },
  {
   "cell_type": "code",
   "execution_count": 70,
   "metadata": {
    "collapsed": false
   },
   "outputs": [
    {
     "name": "stdout",
     "output_type": "stream",
     "text": [
      "Float64Index([1.0, 2.0, 3.0, 4.0, 5.0, 6.0, 7.0], dtype='float64')\n",
      "1     607\n",
      "2    1302\n",
      "3     572\n",
      "4     416\n",
      "5     182\n",
      "6     191\n",
      "7     441\n",
      "Name: FAMI_INGRESO_FMILIAR_MENSUAL, dtype: int64\n",
      "Elementos null/NaN 65590\n",
      "__________________\n",
      "Elementos diferentes de null/NaN: 3711\n",
      "__________________\n",
      "(3711,)\n",
      "None\n"
     ]
    }
   ],
   "source": [
    "c = 'FAMI_INGRESO_FMILIAR_MENSUAL'\n",
    "print(data_2007[c].value_counts().sort_index().index)\n",
    "print(data_2007[c].value_counts().sort_index())\n",
    "print(missing_data(data_2007[c]))"
   ]
  },
  {
   "cell_type": "code",
   "execution_count": 71,
   "metadata": {
    "collapsed": false
   },
   "outputs": [
    {
     "name": "stdout",
     "output_type": "stream",
     "text": [
      "Float64Index([0.0, 1.0, 2.0, 3.0, 4.0, 5.0, 6.0, 7.0], dtype='float64')\n",
      "0    2205\n",
      "1      66\n",
      "2      30\n",
      "3     385\n",
      "4     212\n",
      "5     313\n",
      "6       1\n",
      "7       5\n",
      "Name: ESTU_TRABAJA, dtype: int64\n",
      "Elementos null/NaN 66084\n",
      "__________________\n",
      "Elementos diferentes de null/NaN: 3217\n",
      "__________________\n",
      "(3217,)\n",
      "None\n"
     ]
    }
   ],
   "source": [
    "c = 'ESTU_TRABAJA'\n",
    "print(data_2007[c].value_counts().sort_index().index)\n",
    "print(data_2007[c].value_counts().sort_index())\n",
    "print(missing_data(data_2007[c]))"
   ]
  },
  {
   "cell_type": "code",
   "execution_count": 72,
   "metadata": {
    "collapsed": false,
    "scrolled": true
   },
   "outputs": [
    {
     "name": "stdout",
     "output_type": "stream",
     "text": [
      "Float64Index([ 0.0,  1.0,  2.0,  3.0,  4.0,  5.0,  6.0,  7.0,  8.0,  9.0, 10.0,\n",
      "              11.0, 12.0, 13.0, 14.0, 15.0, 16.0, 17.0, 18.0, 19.0, 20.0],\n",
      "             dtype='float64')\n",
      "0       2\n",
      "1       3\n",
      "2       8\n",
      "3       5\n",
      "4      19\n",
      "5      19\n",
      "6      27\n",
      "7      11\n",
      "8      86\n",
      "9      14\n",
      "10     39\n",
      "11      5\n",
      "12     21\n",
      "13      8\n",
      "14     11\n",
      "15     18\n",
      "16     20\n",
      "17      2\n",
      "18     15\n",
      "19     10\n",
      "20    647\n",
      "Name: ESTU_HORAS_TRABAJA, dtype: int64\n",
      "Elementos null/NaN 68311\n",
      "__________________\n",
      "Elementos diferentes de null/NaN: 990\n",
      "__________________\n",
      "(990,)\n",
      "None\n"
     ]
    }
   ],
   "source": [
    "c = 'ESTU_HORAS_TRABAJA'\n",
    "print(data_2007[c].value_counts().sort_index().index)\n",
    "print(data_2007[c].value_counts().sort_index())\n",
    "print(missing_data(data_2007[c]))"
   ]
  },
  {
   "cell_type": "code",
   "execution_count": 73,
   "metadata": {
    "collapsed": false,
    "scrolled": true
   },
   "outputs": [
    {
     "name": "stdout",
     "output_type": "stream",
     "text": [
      "Float64Index([0.0, 1.0, 2.0, 3.0, 4.0, 5.0, 6.0, 7.0, 8.0, 9.0, 10.0, 11.0,\n",
      "              12.0],\n",
      "             dtype='float64')\n",
      "0     35981\n",
      "1      7675\n",
      "2      5548\n",
      "3      4684\n",
      "4      3807\n",
      "5      3074\n",
      "6      2667\n",
      "7      5712\n",
      "8        86\n",
      "9         7\n",
      "10        6\n",
      "11       10\n",
      "12        7\n",
      "Name: COLE_VALOR_PENSION, dtype: int64\n",
      "Elementos null/NaN 37\n",
      "__________________\n",
      "Elementos diferentes de null/NaN: 69264\n",
      "__________________\n",
      "(69264,)\n",
      "None\n"
     ]
    }
   ],
   "source": [
    "c = 'COLE_VALOR_PENSION'\n",
    "print(data_2007[c].value_counts().sort_index().index)\n",
    "print(data_2007[c].value_counts().sort_index())\n",
    "print(missing_data(data_2007[c]))"
   ]
  },
  {
   "cell_type": "code",
   "execution_count": 74,
   "metadata": {
    "collapsed": false
   },
   "outputs": [
    {
     "name": "stdout",
     "output_type": "stream",
     "text": [
      "Float64Index([0.0, 1.0, 3.0], dtype='float64')\n",
      "0    1\n",
      "1    1\n",
      "3    9\n",
      "Name: ESTU_CARRDESEADA_TIPO, dtype: int64\n",
      "Elementos null/NaN 69290\n",
      "__________________\n",
      "Elementos diferentes de null/NaN: 11\n",
      "__________________\n",
      "(11,)\n",
      "None\n"
     ]
    }
   ],
   "source": [
    "c = 'ESTU_CARRDESEADA_TIPO'\n",
    "print(data_2007[c].value_counts().sort_index().index)\n",
    "print(data_2007[c].value_counts().sort_index())\n",
    "print(missing_data(data_2007[c]))"
   ]
  },
  {
   "cell_type": "code",
   "execution_count": 75,
   "metadata": {
    "collapsed": false
   },
   "outputs": [
    {
     "name": "stdout",
     "output_type": "stream",
     "text": [
      "Float64Index([9.0, 27.0, 45.0, 57.0], dtype='float64')\n",
      "9     3\n",
      "27    1\n",
      "45    4\n",
      "57    2\n",
      "Name: ESTU_CARRDESEADA_NUCLEO, dtype: int64\n",
      "Elementos null/NaN 69291\n",
      "__________________\n",
      "Elementos diferentes de null/NaN: 10\n",
      "__________________\n",
      "(10,)\n",
      "None\n"
     ]
    }
   ],
   "source": [
    "c = 'ESTU_CARRDESEADA_NUCLEO'\n",
    "print(data_2007[c].value_counts().sort_index().index)\n",
    "print(data_2007[c].value_counts().sort_index())\n",
    "print(missing_data(data_2007[c]))"
   ]
  },
  {
   "cell_type": "code",
   "execution_count": 76,
   "metadata": {
    "collapsed": false,
    "scrolled": true
   },
   "outputs": [
    {
     "name": "stdout",
     "output_type": "stream",
     "text": [
      "Float64Index([1101.0, 1102.0, 1103.0, 1104.0, 1105.0, 1106.0, 1107.0, 1108.0,\n",
      "              1109.0, 1110.0,\n",
      "              ...\n",
      "              9104.0, 9105.0, 9107.0, 9109.0, 9110.0, 9111.0, 9112.0, 9113.0,\n",
      "              9114.0, 9115.0],\n",
      "             dtype='float64', length=300)\n",
      "1101     2079\n",
      "1102      132\n",
      "1103      151\n",
      "1104      511\n",
      "1105       90\n",
      "1106       35\n",
      "1107       11\n",
      "1108        7\n",
      "1109        3\n",
      "1110      953\n",
      "1111      578\n",
      "1112      251\n",
      "1113       31\n",
      "1114      109\n",
      "1115       22\n",
      "1117       59\n",
      "1119      100\n",
      "1120        3\n",
      "1121        6\n",
      "1122      295\n",
      "1124        3\n",
      "1125        1\n",
      "1201      628\n",
      "1202       45\n",
      "1203    17013\n",
      "1204      155\n",
      "1205       36\n",
      "1206     5744\n",
      "1207       70\n",
      "1208      267\n",
      "        ...  \n",
      "4813       14\n",
      "4814       38\n",
      "4817       11\n",
      "4818        6\n",
      "4822       12\n",
      "4823       13\n",
      "4825        8\n",
      "4826        9\n",
      "4827       19\n",
      "4828       51\n",
      "4829        2\n",
      "4832        4\n",
      "4835       11\n",
      "4837        4\n",
      "4838       14\n",
      "5801        6\n",
      "5802        6\n",
      "9101      139\n",
      "9102       26\n",
      "9103      210\n",
      "9104      157\n",
      "9105       41\n",
      "9107       10\n",
      "9109        1\n",
      "9110      353\n",
      "9111      899\n",
      "9112       65\n",
      "9113        5\n",
      "9114       13\n",
      "9115      256\n",
      "Name: ESTU_IES_COD_DESEADA, dtype: int64\n",
      "Elementos null/NaN 24464\n",
      "__________________\n",
      "Elementos diferentes de null/NaN: 44837\n",
      "__________________\n",
      "(44837,)\n",
      "None\n"
     ]
    }
   ],
   "source": [
    "c = 'ESTU_IES_COD_DESEADA'\n",
    "print(data_2007[c].value_counts().sort_index().index)\n",
    "print(data_2007[c].value_counts().sort_index())\n",
    "print(missing_data(data_2007[c]))"
   ]
  },
  {
   "cell_type": "code",
   "execution_count": 77,
   "metadata": {
    "collapsed": false,
    "scrolled": true
   },
   "outputs": [
    {
     "name": "stdout",
     "output_type": "stream",
     "text": [
      "Index(['CENTRO DE EDUCACION MILITAR',\n",
      "       'CENTRO EDUCACIONAL DE COMPUTOS Y SISTEMAS-CEDESISTEMAS-',\n",
      "       'COLEGIO DE ESTUDIOS SUPERIORES DE ADMINISTRACION-CESA-',\n",
      "       'COLEGIO INTEGRADO NACIONAL ORIENTE DE CALDAS',\n",
      "       'COLEGIO MAYOR DE ANTIOQUIA', 'COLEGIO MAYOR DE BOLIVAR',\n",
      "       'COLEGIO MAYOR DE NUESTRA SEÑORA DEL ROSARIO',\n",
      "       'COLEGIO MAYOR DEL CAUCA', 'COLEGIO ODONTOLOGICO COLOMBIANO',\n",
      "       'CONSERVATORIO DEL TOLIMA',\n",
      "       ...\n",
      "       'UNIVERSIDAD SANTIAGO DE CALI',\n",
      "       'UNIVERSIDAD SANTIAGO DE CALI  SECCIONAL PALMIRA',\n",
      "       'UNIVERSIDAD SANTO TOMAS', 'UNIVERSIDAD SERGIO ARBOLEDA',\n",
      "       'UNIVERSIDAD SIMON BOLIVAR', 'UNIVERSIDAD SURCOLOMBIANA',\n",
      "       'UNIVERSIDAD TECNOLOGICA DE BOLIVAR',\n",
      "       'UNIVERSIDAD TECNOLOGICA DE PEREIRA',\n",
      "       'UNIVERSIDAD-COLEGIO MAYOR DE CUNDINAMARCA',\n",
      "       'UNIVERSITARIA AGUSTINIANA- UNIAGUSTINIANA'],\n",
      "      dtype='object', length=256)\n",
      "CENTRO DE EDUCACION MILITAR                                                         170\n",
      "CENTRO EDUCACIONAL DE COMPUTOS Y SISTEMAS-CEDESISTEMAS-                              32\n",
      "COLEGIO DE ESTUDIOS SUPERIORES DE ADMINISTRACION-CESA-                              109\n",
      "COLEGIO INTEGRADO NACIONAL ORIENTE DE CALDAS                                         16\n",
      "COLEGIO MAYOR DE ANTIOQUIA                                                           36\n",
      "COLEGIO MAYOR DE BOLIVAR                                                             14\n",
      "COLEGIO MAYOR DE NUESTRA SEÑORA DEL ROSARIO                                         121\n",
      "COLEGIO MAYOR DEL CAUCA                                                              41\n",
      "COLEGIO ODONTOLOGICO COLOMBIANO                                                     137\n",
      "CONSERVATORIO DEL TOLIMA                                                             17\n",
      "CORPORACION ACADEMIA SUPERIOR DE ARTES                                               26\n",
      "CORPORACION ACADEMIA TECNOLOGICA DE COLOMBIA -ATEC-                                  18\n",
      "CORPORACION AUTONOMA DE NARIÑO -AUNAR-                                              146\n",
      "CORPORACION BOLIVARIANA DE EDUCACION SUPERIOR - CORBES -                             14\n",
      "CORPORACION CENTRO DE ESTUDIOS ARTISTICOS Y TECNICOS-CEART-                          20\n",
      "CORPORACION CENTRO DE NUESTRA SEÑORA DE LAS MERCEDES                                 18\n",
      "CORPORACION CENTRO TECNICO ARQUITECTONICO                                            22\n",
      "CORPORACION COLEGIATURA COLOMBIANA                                                   39\n",
      "CORPORACION CRISTIANA UNIVERSITARIA DE SAN ANDRES, PROVIDENCIA Y SANTA CATALINA       3\n",
      "CORPORACION DE EDUCACION DEL NORTE DEL TOLIMA - COREDUCACION                          7\n",
      "CORPORACION DE EDUCACION NACIONAL DE ADMINISTRACION-CENDA-                           22\n",
      "CORPORACION DE EDUCACION SUPERIORMIGUEL CAMACHO PEREA                                38\n",
      "CORPORACION DE ESTUDIOS SUPERIORES SALAMANDRA                                        84\n",
      "CORPORACION DE ESTUDIOS TECNOLOGICOS DEL NORTE DEL VALLE                             77\n",
      "CORPORACION EDUCATIVA -ITAE-                                                         12\n",
      "CORPORACION EDUCATIVA DE CARRERAS INTERMEDIAS TECNICAS-CIT-                          51\n",
      "CORPORACION EDUCATIVA DEL LITORAL                                                    11\n",
      "CORPORACION EDUCATIVA DEL ORIENTE                                                    10\n",
      "CORPORACION EDUCATIVA INSTITUTO TECNICO SUPERIOR DE ARTES, IDEARTES                  19\n",
      "CORPORACION EDUCATIVA TALLER 5 CENTRO DE DISEÑO                                      11\n",
      "                                                                                   ... \n",
      "UNIVERSIDAD EAFIT-                                                                   85\n",
      "UNIVERSIDAD EAN                                                                       9\n",
      "UNIVERSIDAD EL BOSQUE                                                                40\n",
      "UNIVERSIDAD EXTERNADO DE COLOMBIA                                                   265\n",
      "UNIVERSIDAD FRANCISCO DE PAULA SANTANDER                                             34\n",
      "UNIVERSIDAD ICESI                                                                   888\n",
      "UNIVERSIDAD INCCA DE COLOMBIA                                                        13\n",
      "UNIVERSIDAD INDUSTRIAL DE SANTANDER                                                 155\n",
      "UNIVERSIDAD LA GRAN COLOMBIA                                                         62\n",
      "UNIVERSIDAD LIBRE                                                                   480\n",
      "UNIVERSIDAD MANUELA BELTRAN-UMB-                                                      4\n",
      "UNIVERSIDAD MARIANA                                                                 323\n",
      "UNIVERSIDAD METROPOLITANA                                                             6\n",
      "UNIVERSIDAD MILITAR-NUEVA GRANADA                                                    59\n",
      "UNIVERSIDAD NACIONAL ABIERTA Y A DISTANCIA UNAD                                     120\n",
      "UNIVERSIDAD NACIONAL DE COLOMBIA                                                   2877\n",
      "UNIVERSIDAD PEDAGOGICA NACIONAL                                                      90\n",
      "UNIVERSIDAD PEDAGOGICA Y TECNOLOGICA DE COLOMBIA                                     56\n",
      "UNIVERSIDAD PONTIFICIA BOLIVARIANA                                                  108\n",
      "UNIVERSIDAD POPULAR DEL CESAR                                                         3\n",
      "UNIVERSIDAD SANTIAGO DE CALI                                                       1407\n",
      "UNIVERSIDAD SANTIAGO DE CALI  SECCIONAL PALMIRA                                      58\n",
      "UNIVERSIDAD SANTO TOMAS                                                              77\n",
      "UNIVERSIDAD SERGIO ARBOLEDA                                                          56\n",
      "UNIVERSIDAD SIMON BOLIVAR                                                             4\n",
      "UNIVERSIDAD SURCOLOMBIANA                                                           109\n",
      "UNIVERSIDAD TECNOLOGICA DE BOLIVAR                                                    3\n",
      "UNIVERSIDAD TECNOLOGICA DE PEREIRA                                                  578\n",
      "UNIVERSIDAD-COLEGIO MAYOR DE CUNDINAMARCA                                             6\n",
      "UNIVERSITARIA AGUSTINIANA- UNIAGUSTINIANA                                             9\n",
      "Name: ESTU_IES_DESEADA_NOMBRE, dtype: int64\n",
      "Elementos null/NaN 24464\n",
      "__________________\n",
      "Elementos diferentes de null/NaN: 44837\n",
      "__________________\n",
      "(44837,)\n",
      "None\n"
     ]
    }
   ],
   "source": [
    "c = 'ESTU_IES_DESEADA_NOMBRE'\n",
    "print(data_2007[c].value_counts().sort_index().index)\n",
    "print(data_2007[c].value_counts().sort_index())\n",
    "print(missing_data(data_2007[c]))"
   ]
  },
  {
   "cell_type": "code",
   "execution_count": 78,
   "metadata": {
    "collapsed": true
   },
   "outputs": [],
   "source": [
    "data_2007 = data_2007.drop([c], axis = 1)"
   ]
  },
  {
   "cell_type": "code",
   "execution_count": 79,
   "metadata": {
    "collapsed": false,
    "scrolled": true
   },
   "outputs": [
    {
     "name": "stdout",
     "output_type": "stream",
     "text": [
      "Float64Index([ 5001.0,  5034.0,  5045.0,  5088.0,  5129.0,  5154.0,  5212.0,\n",
      "               5266.0,  5579.0,  5615.0,  5686.0,  5837.0,  8001.0, 11001.0,\n",
      "              13001.0, 15001.0, 15176.0, 15238.0, 15759.0, 17001.0, 17541.0,\n",
      "              18001.0, 19001.0, 20001.0, 23001.0, 23162.0, 25175.0, 25290.0,\n",
      "              25307.0, 25430.0, 25473.0, 25488.0, 25843.0, 41001.0, 44001.0,\n",
      "              44650.0, 47001.0, 47189.0, 50001.0, 52001.0, 54001.0, 54518.0,\n",
      "              63001.0, 66001.0, 66682.0, 68001.0, 68081.0, 68679.0, 70820.0,\n",
      "              73001.0, 73268.0, 73349.0, 76001.0, 76109.0, 76111.0, 76147.0,\n",
      "              76520.0, 76622.0, 76736.0, 76834.0, 81001.0, 85001.0, 86749.0,\n",
      "              88001.0, 91001.0],\n",
      "             dtype='float64')\n",
      "5001      1457\n",
      "5034         6\n",
      "5045         1\n",
      "5088         6\n",
      "5129         4\n",
      "5154         3\n",
      "5212         1\n",
      "5266         3\n",
      "5579         1\n",
      "5615        14\n",
      "5686         2\n",
      "5837        10\n",
      "8001       372\n",
      "11001     7827\n",
      "13001      150\n",
      "15001       55\n",
      "15176        3\n",
      "15238       11\n",
      "15759        7\n",
      "17001      606\n",
      "17541       16\n",
      "18001       22\n",
      "19001     1037\n",
      "20001        3\n",
      "23001       37\n",
      "23162        1\n",
      "25175      182\n",
      "25290       26\n",
      "25307       21\n",
      "25430       26\n",
      "         ...  \n",
      "44650        1\n",
      "47001       15\n",
      "47189        1\n",
      "50001      101\n",
      "52001     6240\n",
      "54001       64\n",
      "54518       16\n",
      "63001      330\n",
      "66001      796\n",
      "66682       14\n",
      "68001      269\n",
      "68081        2\n",
      "68679        1\n",
      "70820        4\n",
      "73001       96\n",
      "73268        4\n",
      "73349        7\n",
      "76001    22695\n",
      "76109      295\n",
      "76111      283\n",
      "76147       77\n",
      "76520      588\n",
      "76622       60\n",
      "76736        1\n",
      "76834      717\n",
      "81001        3\n",
      "85001        4\n",
      "86749        1\n",
      "88001        3\n",
      "91001        1\n",
      "Name: ESTU_IES_COD_MPIO_DESEADA, dtype: int64\n",
      "Elementos null/NaN 24464\n",
      "__________________\n",
      "Elementos diferentes de null/NaN: 44837\n",
      "__________________\n",
      "(44837,)\n",
      "None\n"
     ]
    }
   ],
   "source": [
    "c = 'ESTU_IES_COD_MPIO_DESEADA'\n",
    "print(data_2007[c].value_counts().sort_index().index)\n",
    "print(data_2007[c].value_counts().sort_index())\n",
    "print(missing_data(data_2007[c]))"
   ]
  },
  {
   "cell_type": "code",
   "execution_count": 80,
   "metadata": {
    "collapsed": true
   },
   "outputs": [],
   "source": [
    "data_2007 = data_2007.drop([c], axis = 1)"
   ]
  },
  {
   "cell_type": "code",
   "execution_count": 81,
   "metadata": {
    "collapsed": false,
    "scrolled": true
   },
   "outputs": [
    {
     "name": "stdout",
     "output_type": "stream",
     "text": [
      "Index(['ANDES', 'APARTADO', 'ARAUCA', 'ARMENIA', 'BARRANCABERMEJA',\n",
      "       'BARRANQUILLA', 'BELLO', 'BOGOTÁ D.C.', 'BUCARAMANGA', 'BUENAVENTURA',\n",
      "       'BUGA', 'CALDAS', 'CALI', 'CARTAGENA', 'CARTAGO', 'CAUCASIA', 'CERETE',\n",
      "       'CHIA', 'CHIQUINQUIRA', 'CIENAGA', 'COPACABANA', 'CUCUTA', 'DUITAMA',\n",
      "       'ENVIGADO', 'ESPINAL', 'FLORENCIA', 'FUSAGASUGA', 'GIRARDOT', 'HONDA',\n",
      "       'IBAGUE', 'LETICIA', 'MADRID', 'MANIZALES', 'MEDELLIN', 'MONTERIA',\n",
      "       'MOSQUERA', 'NEIVA', 'NILO', 'PALMIRA', 'PAMPLONA', 'PASTO',\n",
      "       'PENSILVANIA', 'PEREIRA', 'POPAYAN', 'PUERTO BERRIO', 'RIOHACHA',\n",
      "       'RIONEGRO', 'ROLDANILLO', 'SAN ANDRES', 'SAN GIL', 'SAN JUAN DEL CESAR',\n",
      "       'SANTA MARTA', 'SANTA ROSA DE CABAL', 'SANTA ROSA DE OSOS', 'SEVILLA',\n",
      "       'SIBUNDOY', 'SOGAMOSO', 'TOLU', 'TULUA', 'TUNJA', 'TURBO', 'UBATE',\n",
      "       'VALLEDUPAR', 'VILLAVICENCIO', 'YOPAL'],\n",
      "      dtype='object')\n",
      "ANDES                      6\n",
      "APARTADO                   1\n",
      "ARAUCA                     3\n",
      "ARMENIA                  330\n",
      "BARRANCABERMEJA            2\n",
      "BARRANQUILLA             372\n",
      "BELLO                      6\n",
      "BOGOTÁ D.C.             7827\n",
      "BUCARAMANGA              269\n",
      "BUENAVENTURA             295\n",
      "BUGA                     283\n",
      "CALDAS                     4\n",
      "CALI                   22695\n",
      "CARTAGENA                150\n",
      "CARTAGO                   77\n",
      "CAUCASIA                   3\n",
      "CERETE                     1\n",
      "CHIA                     182\n",
      "CHIQUINQUIRA               3\n",
      "CIENAGA                    1\n",
      "COPACABANA                 1\n",
      "CUCUTA                    64\n",
      "DUITAMA                   11\n",
      "ENVIGADO                   3\n",
      "ESPINAL                    4\n",
      "FLORENCIA                 22\n",
      "FUSAGASUGA                26\n",
      "GIRARDOT                  21\n",
      "HONDA                      7\n",
      "IBAGUE                    96\n",
      "                       ...  \n",
      "MOSQUERA                   5\n",
      "NEIVA                    113\n",
      "NILO                      98\n",
      "PALMIRA                  588\n",
      "PAMPLONA                  16\n",
      "PASTO                   6240\n",
      "PENSILVANIA               16\n",
      "PEREIRA                  796\n",
      "POPAYAN                 1037\n",
      "PUERTO BERRIO              1\n",
      "RIOHACHA                   8\n",
      "RIONEGRO                  14\n",
      "ROLDANILLO                60\n",
      "SAN ANDRES                 3\n",
      "SAN GIL                    1\n",
      "SAN JUAN DEL CESAR         1\n",
      "SANTA MARTA               15\n",
      "SANTA ROSA DE CABAL       14\n",
      "SANTA ROSA DE OSOS         2\n",
      "SEVILLA                    1\n",
      "SIBUNDOY                   1\n",
      "SOGAMOSO                   7\n",
      "TOLU                       4\n",
      "TULUA                    717\n",
      "TUNJA                     55\n",
      "TURBO                     10\n",
      "UBATE                     14\n",
      "VALLEDUPAR                 3\n",
      "VILLAVICENCIO            101\n",
      "YOPAL                      4\n",
      "Name: ESTU_IES_MPIO_DESEADA, dtype: int64\n",
      "Elementos null/NaN 24464\n",
      "__________________\n",
      "Elementos diferentes de null/NaN: 44837\n",
      "__________________\n",
      "(44837,)\n",
      "None\n"
     ]
    }
   ],
   "source": [
    "c = 'ESTU_IES_MPIO_DESEADA'\n",
    "print(data_2007[c].value_counts().sort_index().index)\n",
    "print(data_2007[c].value_counts().sort_index())\n",
    "print(missing_data(data_2007[c]))"
   ]
  },
  {
   "cell_type": "code",
   "execution_count": 82,
   "metadata": {
    "collapsed": false,
    "scrolled": true
   },
   "outputs": [
    {
     "name": "stdout",
     "output_type": "stream",
     "text": [
      "Index(['AMAZONAS', 'ANTIOQUIA', 'ARAUCA', 'ATLÁNTICO', 'BOGOTÁ', 'BOLÍVAR',\n",
      "       'BOYACÁ', 'CALDAS', 'CAQUETÁ', 'CASANARE', 'CAUCA', 'CESAR',\n",
      "       'CUNDINAMARCA', 'CÓRDOBA', 'HUILA', 'LA GUAJIRA', 'MAGDALENA', 'META',\n",
      "       'NARIÑO', 'NORTE SANTANDER', 'PUTUMAYO', 'QUINDÍO', 'RISARALDA',\n",
      "       'SAN ANDRÉS', 'SANTANDER', 'SUCRE', 'TOLIMA', 'VALLE'],\n",
      "      dtype='object')\n",
      "AMAZONAS               1\n",
      "ANTIOQUIA           1508\n",
      "ARAUCA                 3\n",
      "ATLÁNTICO            372\n",
      "BOGOTÁ              7827\n",
      "BOLÍVAR              150\n",
      "BOYACÁ                76\n",
      "CALDAS               622\n",
      "CAQUETÁ               22\n",
      "CASANARE               4\n",
      "CAUCA               1037\n",
      "CESAR                  3\n",
      "CUNDINAMARCA         372\n",
      "CÓRDOBA               38\n",
      "HUILA                113\n",
      "LA GUAJIRA             9\n",
      "MAGDALENA             16\n",
      "META                 101\n",
      "NARIÑO              6240\n",
      "NORTE SANTANDER       80\n",
      "PUTUMAYO               1\n",
      "QUINDÍO              330\n",
      "RISARALDA            810\n",
      "SAN ANDRÉS             3\n",
      "SANTANDER            272\n",
      "SUCRE                  4\n",
      "TOLIMA               107\n",
      "VALLE              24716\n",
      "Name: ESTU_IES_DEPT_DESEADA, dtype: int64\n",
      "Elementos null/NaN 24464\n",
      "__________________\n",
      "Elementos diferentes de null/NaN: 44837\n",
      "__________________\n",
      "(44837,)\n",
      "None\n"
     ]
    }
   ],
   "source": [
    "c = 'ESTU_IES_DEPT_DESEADA'\n",
    "print(data_2007[c].value_counts().sort_index().index)\n",
    "print(data_2007[c].value_counts().sort_index())\n",
    "print(missing_data(data_2007[c]))"
   ]
  },
  {
   "cell_type": "code",
   "execution_count": 83,
   "metadata": {
    "collapsed": false
   },
   "outputs": [
    {
     "name": "stdout",
     "output_type": "stream",
     "text": [
      "Float64Index([1.0, 2.0, 3.0, 4.0, 5.0, 6.0, 7.0, 8.0], dtype='float64')\n",
      "1     1342\n",
      "2     7143\n",
      "3    24957\n",
      "4     5489\n",
      "5     3992\n",
      "6     2499\n",
      "7     2636\n",
      "8     3151\n",
      "Name: ESTU_RAZONINSTITUTO, dtype: int64\n",
      "Elementos null/NaN 18092\n",
      "__________________\n",
      "Elementos diferentes de null/NaN: 51209\n",
      "__________________\n",
      "(51209,)\n",
      "None\n"
     ]
    }
   ],
   "source": [
    "c = 'ESTU_RAZONINSTITUTO'\n",
    "print(data_2007[c].value_counts().sort_index().index)\n",
    "print(data_2007[c].value_counts().sort_index())\n",
    "print(missing_data(data_2007[c]))"
   ]
  },
  {
   "cell_type": "code",
   "execution_count": 84,
   "metadata": {
    "collapsed": false,
    "scrolled": true
   },
   "outputs": [
    {
     "name": "stdout",
     "output_type": "stream",
     "text": [
      "Float64Index([    1.0,     5.0,     7.0,    63.0,    64.0,    68.0,    86.0,\n",
      "                103.0,   105.0,   106.0,\n",
      "              ...\n",
      "              22441.0, 22546.0, 22581.0, 22764.0, 22773.0, 22839.0, 22967.0,\n",
      "              22973.0, 22996.0, 24642.0],\n",
      "             dtype='float64', length=2683)\n",
      "1         1\n",
      "5         6\n",
      "7         8\n",
      "63        3\n",
      "64        1\n",
      "68       17\n",
      "86        1\n",
      "103       4\n",
      "105       1\n",
      "106       1\n",
      "107       1\n",
      "108       4\n",
      "116      62\n",
      "117       2\n",
      "120       6\n",
      "128       6\n",
      "129      11\n",
      "130       3\n",
      "131       4\n",
      "133       1\n",
      "142       7\n",
      "143       3\n",
      "152      28\n",
      "160       1\n",
      "161       1\n",
      "163       1\n",
      "164       1\n",
      "165       1\n",
      "166       1\n",
      "170      16\n",
      "         ..\n",
      "21987     1\n",
      "21989     1\n",
      "21990     1\n",
      "21991     1\n",
      "21992     4\n",
      "21996     1\n",
      "22003     5\n",
      "22043    30\n",
      "22044     9\n",
      "22045     2\n",
      "22046    14\n",
      "22047    47\n",
      "22048     5\n",
      "22049    14\n",
      "22050    16\n",
      "22051    26\n",
      "22052    36\n",
      "22053    15\n",
      "22054    10\n",
      "22055     2\n",
      "22441     1\n",
      "22546     1\n",
      "22581     1\n",
      "22764     3\n",
      "22773     1\n",
      "22839     3\n",
      "22967     2\n",
      "22973     2\n",
      "22996     1\n",
      "24642    18\n",
      "Name: ESTU_CARRDESEADA_COD, dtype: int64\n",
      "Elementos null/NaN 25790\n",
      "__________________\n",
      "Elementos diferentes de null/NaN: 43511\n",
      "__________________\n",
      "(43511,)\n",
      "None\n"
     ]
    }
   ],
   "source": [
    "c = 'ESTU_CARRDESEADA_COD'\n",
    "print(data_2007[c].value_counts().sort_index().index)\n",
    "print(data_2007[c].value_counts().sort_index())\n",
    "print(missing_data(data_2007[c]))"
   ]
  },
  {
   "cell_type": "code",
   "execution_count": 85,
   "metadata": {
    "collapsed": false
   },
   "outputs": [
    {
     "name": "stdout",
     "output_type": "stream",
     "text": [
      "Float64Index([1.0, 2.0, 3.0, 4.0, 5.0, 6.0], dtype='float64')\n",
      "1    15977\n",
      "2    17951\n",
      "3     8967\n",
      "4     4529\n",
      "5     3247\n",
      "6     1233\n",
      "Name: ESTU_CARRDESEADA_RAZON, dtype: int64\n",
      "Elementos null/NaN 17397\n",
      "__________________\n",
      "Elementos diferentes de null/NaN: 51904\n",
      "__________________\n",
      "(51904,)\n",
      "None\n"
     ]
    }
   ],
   "source": [
    "c = 'ESTU_CARRDESEADA_RAZON'\n",
    "print(data_2007[c].value_counts().sort_index().index)\n",
    "print(data_2007[c].value_counts().sort_index())\n",
    "print(missing_data(data_2007[c]))"
   ]
  },
  {
   "cell_type": "markdown",
   "metadata": {},
   "source": [
    "## TARGETS"
   ]
  },
  {
   "cell_type": "code",
   "execution_count": 86,
   "metadata": {
    "collapsed": false,
    "scrolled": true
   },
   "outputs": [
    {
     "name": "stdout",
     "output_type": "stream",
     "text": [
      "Index(['-1', '0', '17,12', '25,02', '29,97', '33,71', '36,8', '39,5', '41,93',\n",
      "       '44,18', '46,31', '48,36', '50,35', '52,33', '54,31', '56,32', '58,39',\n",
      "       '60,55', '62,85', '65,33', '68,09', '71,26', '75,08', '80,12'],\n",
      "      dtype='object')\n",
      "-1          8\n",
      "0           4\n",
      "17,12      32\n",
      "25,02      95\n",
      "29,97     358\n",
      "33,71     858\n",
      "36,8     1906\n",
      "39,5     3068\n",
      "41,93    4551\n",
      "44,18    5801\n",
      "46,31    7007\n",
      "48,36    7688\n",
      "50,35    7782\n",
      "52,33    7502\n",
      "54,31    7027\n",
      "56,32    5563\n",
      "58,39    4249\n",
      "60,55    2874\n",
      "62,85    1628\n",
      "65,33     785\n",
      "68,09     366\n",
      "71,26     117\n",
      "75,08      29\n",
      "80,12       3\n",
      "Name: PUNT_LENGUAJE, dtype: int64\n",
      "Elementos null/NaN 0\n",
      "__________________\n",
      "Elementos diferentes de null/NaN: 69301\n",
      "__________________\n",
      "(69301,)\n",
      "None\n"
     ]
    }
   ],
   "source": [
    "c = 'PUNT_LENGUAJE'\n",
    "print(data_2007[c].value_counts().sort_index().index)\n",
    "print(data_2007[c].value_counts().sort_index())\n",
    "print(missing_data(data_2007[c]))"
   ]
  },
  {
   "cell_type": "code",
   "execution_count": 87,
   "metadata": {
    "collapsed": false,
    "scrolled": true
   },
   "outputs": [],
   "source": [
    "for i in data_2007[c].value_counts().sort_index().index:\n",
    "    if ',' in i:\n",
    "        data_2007[c] = data_2007[c].replace(i, i.replace(',', '.'))\n",
    "\n",
    "for i in data_2007[c].value_counts().sort_index().index:\n",
    "    if type(i) == str:\n",
    "        data_2007[c] = data_2007[c].replace(i, float(i))"
   ]
  },
  {
   "cell_type": "code",
   "execution_count": 88,
   "metadata": {
    "collapsed": false,
    "scrolled": true
   },
   "outputs": [
    {
     "name": "stdout",
     "output_type": "stream",
     "text": [
      "Index(['-1', '0', '100,93', '11,3', '117,16', '22,06', '28,76', '33,72',\n",
      "       '37,74', '41,17', '44,22', '47,01', '49,62', '52,1', '54,52', '56,89',\n",
      "       '59,27', '61,68', '64,15', '66,75', '69,51', '72,51', '75,87', '79,77',\n",
      "       '84,52', '90,85'],\n",
      "      dtype='object')\n",
      "-1           6\n",
      "0           21\n",
      "100,93      35\n",
      "11,3       154\n",
      "117,16      10\n",
      "22,06      777\n",
      "28,76     2256\n",
      "33,72     4922\n",
      "37,74     7746\n",
      "41,17     9904\n",
      "44,22     9970\n",
      "47,01     8901\n",
      "49,62     6928\n",
      "52,1      4929\n",
      "54,52     3442\n",
      "56,89     2461\n",
      "59,27     1780\n",
      "61,68     1348\n",
      "64,15     1026\n",
      "66,75      817\n",
      "69,51      639\n",
      "72,51      484\n",
      "75,87      321\n",
      "79,77      206\n",
      "84,52      139\n",
      "90,85       79\n",
      "Name: PUNT_MATEMATICAS, dtype: int64\n",
      "Elementos null/NaN 0\n",
      "__________________\n",
      "Elementos diferentes de null/NaN: 69301\n",
      "__________________\n",
      "(69301,)\n",
      "None\n"
     ]
    }
   ],
   "source": [
    "c = 'PUNT_MATEMATICAS'\n",
    "print(data_2007[c].value_counts().sort_index().index)\n",
    "print(data_2007[c].value_counts().sort_index())\n",
    "print(missing_data(data_2007[c]))"
   ]
  },
  {
   "cell_type": "code",
   "execution_count": 89,
   "metadata": {
    "collapsed": true
   },
   "outputs": [],
   "source": [
    "for i in data_2007[c].value_counts().sort_index().index:\n",
    "    if ',' in i:\n",
    "        data_2007[c] = data_2007[c].replace(i, i.replace(',', '.'))\n",
    "\n",
    "for i in data_2007[c].value_counts().sort_index().index:\n",
    "    if type(i) == str:\n",
    "        data_2007[c] = data_2007[c].replace(i, float(i))"
   ]
  },
  {
   "cell_type": "code",
   "execution_count": 90,
   "metadata": {
    "collapsed": false,
    "scrolled": true
   },
   "outputs": [
    {
     "name": "stdout",
     "output_type": "stream",
     "text": [
      "Index(['-1', '0', '1,17', '10,49', '16,27', '20,62', '24,18', '27,26', '30',\n",
      "       '32,5', '34,83', '37,03', '39,13', '41,15', '43,12', '45,06', '46,98',\n",
      "       '48,89', '50,82', '52,77', '54,76', '56,83', '58,98', '61,25', '63,7',\n",
      "       '66,37', '69,36', '72,84', '77,09', '82,77', '91,97'],\n",
      "      dtype='object')\n",
      "-1          4\n",
      "0           2\n",
      "1,17        4\n",
      "10,49      25\n",
      "16,27      70\n",
      "20,62     192\n",
      "24,18     470\n",
      "27,26     912\n",
      "30       1443\n",
      "32,5     2287\n",
      "34,83    3212\n",
      "37,03    3984\n",
      "39,13    4911\n",
      "41,15    5340\n",
      "43,12    5787\n",
      "45,06    6016\n",
      "46,98    5889\n",
      "48,89    5795\n",
      "50,82    5335\n",
      "52,77    4690\n",
      "54,76    3899\n",
      "56,83    3213\n",
      "58,98    2366\n",
      "61,25    1645\n",
      "63,7      952\n",
      "66,37     526\n",
      "69,36     234\n",
      "72,84      71\n",
      "77,09      16\n",
      "82,77      10\n",
      "91,97       1\n",
      "Name: PUNT_C_SOCIALES, dtype: int64\n",
      "Elementos null/NaN 0\n",
      "__________________\n",
      "Elementos diferentes de null/NaN: 69301\n",
      "__________________\n",
      "(69301,)\n",
      "None\n"
     ]
    }
   ],
   "source": [
    "c = 'PUNT_C_SOCIALES'\n",
    "print(data_2007[c].value_counts().sort_index().index)\n",
    "print(data_2007[c].value_counts().sort_index())\n",
    "print(missing_data(data_2007[c]))"
   ]
  },
  {
   "cell_type": "code",
   "execution_count": 91,
   "metadata": {
    "collapsed": true
   },
   "outputs": [],
   "source": [
    "for i in data_2007[c].value_counts().sort_index().index:\n",
    "    if ',' in i:\n",
    "        data_2007[c] = data_2007[c].replace(i, i.replace(',', '.'))\n",
    "\n",
    "for i in data_2007[c].value_counts().sort_index().index:\n",
    "    if type(i) == str:\n",
    "        data_2007[c] = data_2007[c].replace(i, float(i))"
   ]
  },
  {
   "cell_type": "code",
   "execution_count": 92,
   "metadata": {
    "collapsed": false,
    "scrolled": true
   },
   "outputs": [
    {
     "name": "stdout",
     "output_type": "stream",
     "text": [
      "Index(['-1', '0', '10,39', '19,44', '25,1', '29,38', '32,93', '36,02', '38,82',\n",
      "       '41,41', '43,87', '46,23', '48,54', '50,82', '53,1', '55,42', '57,8',\n",
      "       '60,28', '62,91', '65,75', '68,9', '72,5', '76,85'],\n",
      "      dtype='object')\n",
      "-1         48\n",
      "0          23\n",
      "10,39      70\n",
      "19,44     308\n",
      "25,1     1010\n",
      "29,38    2386\n",
      "32,93    4127\n",
      "36,02    6280\n",
      "38,82    8156\n",
      "41,41    9216\n",
      "43,87    9416\n",
      "46,23    8488\n",
      "48,54    6930\n",
      "50,82    5243\n",
      "53,1     3487\n",
      "55,42    2099\n",
      "57,8     1092\n",
      "60,28     544\n",
      "62,91     260\n",
      "65,75      89\n",
      "68,9       25\n",
      "72,5        2\n",
      "76,85       2\n",
      "Name: PUNT_FILOSOFIA, dtype: int64\n",
      "Elementos null/NaN 0\n",
      "__________________\n",
      "Elementos diferentes de null/NaN: 69301\n",
      "__________________\n",
      "(69301,)\n",
      "None\n"
     ]
    }
   ],
   "source": [
    "c = 'PUNT_FILOSOFIA'\n",
    "print(data_2007[c].value_counts().sort_index().index)\n",
    "print(data_2007[c].value_counts().sort_index())\n",
    "print(missing_data(data_2007[c]))"
   ]
  },
  {
   "cell_type": "code",
   "execution_count": 93,
   "metadata": {
    "collapsed": true
   },
   "outputs": [],
   "source": [
    "for i in data_2007[c].value_counts().sort_index().index:\n",
    "    if ',' in i:\n",
    "        data_2007[c] = data_2007[c].replace(i, i.replace(',', '.'))\n",
    "\n",
    "for i in data_2007[c].value_counts().sort_index().index:\n",
    "    if type(i) == str:\n",
    "        data_2007[c] = data_2007[c].replace(i, float(i))"
   ]
  },
  {
   "cell_type": "code",
   "execution_count": 94,
   "metadata": {
    "collapsed": false,
    "scrolled": true
   },
   "outputs": [
    {
     "name": "stdout",
     "output_type": "stream",
     "text": [
      "Index(['0', '19,32', '26,84', '31,5', '35', '37,88', '40,38', '42,62', '44,69',\n",
      "       '46,64', '48,51', '50,32', '52,12', '53,91', '55,73', '57,59', '59,54',\n",
      "       '61,6', '63,84', '66,32', '69,19', '72,68', '77,33', '84,83', '97,26'],\n",
      "      dtype='object')\n",
      "0          20\n",
      "19,32     124\n",
      "26,84     582\n",
      "31,5     1552\n",
      "35       3248\n",
      "37,88    5187\n",
      "40,38    7159\n",
      "42,62    8467\n",
      "44,69    8576\n",
      "46,64    8248\n",
      "48,51    6951\n",
      "50,32    5590\n",
      "52,12    4218\n",
      "53,91    3153\n",
      "55,73    2129\n",
      "57,59    1521\n",
      "59,54    1077\n",
      "61,6      675\n",
      "63,84     394\n",
      "66,32     234\n",
      "69,19     124\n",
      "72,68      49\n",
      "77,33      19\n",
      "84,83       3\n",
      "97,26       1\n",
      "Name: PUNT_BIOLOGIA, dtype: int64\n",
      "Elementos null/NaN 0\n",
      "__________________\n",
      "Elementos diferentes de null/NaN: 69301\n",
      "__________________\n",
      "(69301,)\n",
      "None\n"
     ]
    }
   ],
   "source": [
    "c = 'PUNT_BIOLOGIA'\n",
    "print(data_2007[c].value_counts().sort_index().index)\n",
    "print(data_2007[c].value_counts().sort_index())\n",
    "print(missing_data(data_2007[c]))"
   ]
  },
  {
   "cell_type": "code",
   "execution_count": 95,
   "metadata": {
    "collapsed": true
   },
   "outputs": [],
   "source": [
    "for i in data_2007[c].value_counts().sort_index().index:\n",
    "    if ',' in i:\n",
    "        data_2007[c] = data_2007[c].replace(i, i.replace(',', '.'))\n",
    "\n",
    "for i in data_2007[c].value_counts().sort_index().index:\n",
    "    if type(i) == str:\n",
    "        data_2007[c] = data_2007[c].replace(i, float(i))"
   ]
  },
  {
   "cell_type": "code",
   "execution_count": 96,
   "metadata": {
    "collapsed": false,
    "scrolled": true
   },
   "outputs": [
    {
     "name": "stdout",
     "output_type": "stream",
     "text": [
      "Index(['0', '17,7', '24,52', '28,75', '31,92', '34,53', '36,78', '38,8',\n",
      "       '40,66', '42,4', '44,07', '45,7', '47,3', '48,89', '50,51', '52,17',\n",
      "       '53,9', '55,73', '57,72', '59,94', '62,49', '65,61', '69,76', '76,48',\n",
      "       '87,65'],\n",
      "      dtype='object')\n",
      "0           8\n",
      "17,7       80\n",
      "24,52     354\n",
      "28,75    1129\n",
      "31,92    2615\n",
      "34,53    4927\n",
      "36,78    7079\n",
      "38,8     9020\n",
      "40,66    9124\n",
      "42,4     8665\n",
      "44,07    6969\n",
      "45,7     5342\n",
      "47,3     3901\n",
      "48,89    2927\n",
      "50,51    2061\n",
      "52,17    1521\n",
      "53,9     1195\n",
      "55,73     898\n",
      "57,72     658\n",
      "59,94     458\n",
      "62,49     230\n",
      "65,61     106\n",
      "69,76      30\n",
      "76,48       2\n",
      "87,65       2\n",
      "Name: PUNT_QUIMICA, dtype: int64\n",
      "Elementos null/NaN 0\n",
      "__________________\n",
      "Elementos diferentes de null/NaN: 69301\n",
      "__________________\n",
      "(69301,)\n",
      "None\n"
     ]
    }
   ],
   "source": [
    "c = 'PUNT_QUIMICA'\n",
    "print(data_2007[c].value_counts().sort_index().index)\n",
    "print(data_2007[c].value_counts().sort_index())\n",
    "print(missing_data(data_2007[c]))"
   ]
  },
  {
   "cell_type": "code",
   "execution_count": 97,
   "metadata": {
    "collapsed": true
   },
   "outputs": [],
   "source": [
    "for i in data_2007[c].value_counts().sort_index().index:\n",
    "    if ',' in i:\n",
    "        data_2007[c] = data_2007[c].replace(i, i.replace(',', '.'))\n",
    "\n",
    "for i in data_2007[c].value_counts().sort_index().index:\n",
    "    if type(i) == str:\n",
    "        data_2007[c] = data_2007[c].replace(i, float(i))"
   ]
  },
  {
   "cell_type": "code",
   "execution_count": 98,
   "metadata": {
    "collapsed": false,
    "scrolled": true
   },
   "outputs": [
    {
     "name": "stdout",
     "output_type": "stream",
     "text": [
      "Index(['0', '13,6', '23,28', '29,28', '33,79', '37,5', '40,72', '43,61',\n",
      "       '46,28', '48,79', '51,2', '53,55', '55,86', '58,17', '60,52', '62,93',\n",
      "       '65,44', '68,1', '70,98', '74,19', '77,89', '82,38', '88,36'],\n",
      "      dtype='object')\n",
      "0           23\n",
      "13,6       125\n",
      "23,28      752\n",
      "29,28     2397\n",
      "33,79     5211\n",
      "37,5      8962\n",
      "40,72    11669\n",
      "43,61    12320\n",
      "46,28    10420\n",
      "48,79     7609\n",
      "51,2      4647\n",
      "53,55     2646\n",
      "55,86     1345\n",
      "58,17      601\n",
      "60,52      289\n",
      "62,93      153\n",
      "65,44       70\n",
      "68,1        25\n",
      "70,98       27\n",
      "74,19        5\n",
      "77,89        3\n",
      "82,38        1\n",
      "88,36        1\n",
      "Name: PUNT_FISICA, dtype: int64\n",
      "Elementos null/NaN 0\n",
      "__________________\n",
      "Elementos diferentes de null/NaN: 69301\n",
      "__________________\n",
      "(69301,)\n",
      "None\n"
     ]
    }
   ],
   "source": [
    "c = 'PUNT_FISICA'\n",
    "print(data_2007[c].value_counts().sort_index().index)\n",
    "print(data_2007[c].value_counts().sort_index())\n",
    "print(missing_data(data_2007[c]))"
   ]
  },
  {
   "cell_type": "code",
   "execution_count": 99,
   "metadata": {
    "collapsed": true
   },
   "outputs": [],
   "source": [
    "for i in data_2007[c].value_counts().sort_index().index:\n",
    "    if ',' in i:\n",
    "        data_2007[c] = data_2007[c].replace(i, i.replace(',', '.'))\n",
    "\n",
    "for i in data_2007[c].value_counts().sort_index().index:\n",
    "    if type(i) == str:\n",
    "        data_2007[c] = data_2007[c].replace(i, float(i))"
   ]
  },
  {
   "cell_type": "code",
   "execution_count": 100,
   "metadata": {
    "collapsed": false,
    "scrolled": true
   },
   "outputs": [
    {
     "name": "stdout",
     "output_type": "stream",
     "text": [
      "Index(['-1', '0', '14,87', '22,51', '27,27', '30,86', '33,81', '36,37',\n",
      "       '38,66', '40,78', '42,76', '44,66', '46,51', '48,32', '50,13', '51,96',\n",
      "       '53,84', '55,79', '57,85', '60,09', '62,57', '65,44', '68,92', '73,55',\n",
      "       '81,04', '93,46'],\n",
      "      dtype='object')\n",
      "-1         19\n",
      "0          12\n",
      "14,87      91\n",
      "22,51     434\n",
      "27,27    1277\n",
      "30,86    2775\n",
      "33,81    4742\n",
      "36,37    6576\n",
      "38,66    7899\n",
      "40,78    8002\n",
      "42,76    7635\n",
      "44,66    6227\n",
      "46,51    4921\n",
      "48,32    3789\n",
      "50,13    2751\n",
      "51,96    2151\n",
      "53,84    1697\n",
      "55,79    1425\n",
      "57,85    1272\n",
      "60,09    1312\n",
      "62,57    1320\n",
      "65,44    1248\n",
      "68,92     948\n",
      "73,55     547\n",
      "81,04     192\n",
      "93,46      39\n",
      "Name: PUNT_INGLES, dtype: int64\n",
      "Elementos null/NaN 0\n",
      "__________________\n",
      "Elementos diferentes de null/NaN: 69301\n",
      "__________________\n",
      "(69301,)\n",
      "None\n"
     ]
    }
   ],
   "source": [
    "c = 'PUNT_INGLES'\n",
    "print(data_2007[c].value_counts().sort_index().index)\n",
    "print(data_2007[c].value_counts().sort_index())\n",
    "print(missing_data(data_2007[c]))"
   ]
  },
  {
   "cell_type": "code",
   "execution_count": 101,
   "metadata": {
    "collapsed": true
   },
   "outputs": [],
   "source": [
    "for i in data_2007[c].value_counts().sort_index().index:\n",
    "    if ',' in i:\n",
    "        data_2007[c] = data_2007[c].replace(i, i.replace(',', '.'))\n",
    "\n",
    "for i in data_2007[c].value_counts().sort_index().index:\n",
    "    if type(i) == str:\n",
    "        data_2007[c] = data_2007[c].replace(i, float(i))"
   ]
  },
  {
   "cell_type": "code",
   "execution_count": 102,
   "metadata": {
    "collapsed": false
   },
   "outputs": [
    {
     "name": "stdout",
     "output_type": "stream",
     "text": [
      "Float64Index([-1.0], dtype='float64')\n",
      "-1    19\n",
      "Name: DESEMP_INGLES, dtype: int64\n",
      "Elementos null/NaN 69282\n",
      "__________________\n",
      "Elementos diferentes de null/NaN: 19\n",
      "__________________\n",
      "(19,)\n",
      "None\n"
     ]
    }
   ],
   "source": [
    "c = 'DESEMP_INGLES'\n",
    "print(data_2007[c].value_counts().sort_index().index)\n",
    "print(data_2007[c].value_counts().sort_index())\n",
    "print(missing_data(data_2007[c]))"
   ]
  },
  {
   "cell_type": "code",
   "execution_count": 103,
   "metadata": {
    "collapsed": false
   },
   "outputs": [
    {
     "name": "stdout",
     "output_type": "stream",
     "text": [
      "Index(['PROFUNDIZACIÓN EN BIOLOGÍA', 'PROFUNDIZACIÓN EN CIENCIAS SOCIALES',\n",
      "       'PROFUNDIZACIÓN EN LENGUAJE', 'PROFUNDIZACIÓN EN MATEMÁTICA'],\n",
      "      dtype='object')\n",
      "PROFUNDIZACIÓN EN BIOLOGÍA             21791\n",
      "PROFUNDIZACIÓN EN CIENCIAS SOCIALES    10650\n",
      "PROFUNDIZACIÓN EN LENGUAJE             25583\n",
      "PROFUNDIZACIÓN EN MATEMÁTICA           11277\n",
      "Name: NOMBRE_PROFUNDIZACION, dtype: int64\n",
      "Elementos null/NaN 0\n",
      "__________________\n",
      "Elementos diferentes de null/NaN: 69301\n",
      "__________________\n",
      "(69301,)\n",
      "None\n"
     ]
    }
   ],
   "source": [
    "c = 'NOMBRE_PROFUNDIZACION'\n",
    "print(data_2007[c].value_counts().sort_index().index)\n",
    "print(data_2007[c].value_counts().sort_index())\n",
    "print(missing_data(data_2007[c]))"
   ]
  },
  {
   "cell_type": "code",
   "execution_count": 104,
   "metadata": {
    "collapsed": false,
    "scrolled": true
   },
   "outputs": [
    {
     "name": "stdout",
     "output_type": "stream",
     "text": [
      "Index(['-1', '0', '10', '2,23', '2,54', '2,73', '3,08', '3,13', '3,37', '3,57',\n",
      "       '3,7', '3,87', '3,92', '4,1', '4,15', '4,34', '4,38', '4,52', '4,54',\n",
      "       '4,71', '4,78', '4,89', '5,05', '5,13', '5,21', '5,22', '5,38', '5,44',\n",
      "       '5,53', '5,55', '5,7', '5,74', '5,83', '5,88', '6,03', '6,04', '6,15',\n",
      "       '6,24', '6,34', '6,37', '6,48', '6,62', '6,65', '6,76', '6,84', '7',\n",
      "       '7,08', '7,21', '7,27', '7,41', '7,65', '7,78', '7,81', '7,92', '8,55',\n",
      "       '8,65', '8,73'],\n",
      "      dtype='object')\n",
      "-1      1871\n",
      "0        292\n",
      "10        11\n",
      "2,23     533\n",
      "2,54     192\n",
      "2,73     318\n",
      "3,08     372\n",
      "3,13    1357\n",
      "3,37     549\n",
      "3,57     893\n",
      "3,7     2471\n",
      "3,87     998\n",
      "3,92    1008\n",
      "4,1     1734\n",
      "4,15    3432\n",
      "4,34    1436\n",
      "4,38    1748\n",
      "4,52    2670\n",
      "4,54    3590\n",
      "4,71    1716\n",
      "4,78    2177\n",
      "4,89    6486\n",
      "5,05    1644\n",
      "5,13    2120\n",
      "5,21    3487\n",
      "5,22    2730\n",
      "5,38    1459\n",
      "5,44    1551\n",
      "5,53    3163\n",
      "5,55    2251\n",
      "5,7     1101\n",
      "5,74     951\n",
      "5,83    2494\n",
      "5,88    1741\n",
      "6,03     692\n",
      "6,04     587\n",
      "6,15    1675\n",
      "6,24    1232\n",
      "6,34     316\n",
      "6,37     405\n",
      "6,48    1009\n",
      "6,62     735\n",
      "6,65     126\n",
      "6,76     209\n",
      "6,84     542\n",
      "7         80\n",
      "7,08     403\n",
      "7,21      82\n",
      "7,27     223\n",
      "7,41      50\n",
      "7,65     171\n",
      "7,78      26\n",
      "7,81      71\n",
      "7,92      31\n",
      "8,55      54\n",
      "8,65      21\n",
      "8,73      15\n",
      "Name: PUNT_PROFUNDIZACION, dtype: int64\n",
      "Elementos null/NaN 0\n",
      "__________________\n",
      "Elementos diferentes de null/NaN: 69301\n",
      "__________________\n",
      "(69301,)\n",
      "None\n"
     ]
    }
   ],
   "source": [
    "c = 'PUNT_PROFUNDIZACION'\n",
    "print(data_2007[c].value_counts().sort_index().index)\n",
    "print(data_2007[c].value_counts().sort_index())\n",
    "print(missing_data(data_2007[c]))"
   ]
  },
  {
   "cell_type": "code",
   "execution_count": 105,
   "metadata": {
    "collapsed": true
   },
   "outputs": [],
   "source": [
    "for i in data_2007[c].value_counts().sort_index().index:\n",
    "    if ',' in i:\n",
    "        data_2007[c] = data_2007[c].replace(i, i.replace(',', '.'))\n",
    "\n",
    "for i in data_2007[c].value_counts().sort_index().index:\n",
    "    if type(i) == str:\n",
    "        data_2007[c] = data_2007[c].replace(i, float(i))"
   ]
  },
  {
   "cell_type": "code",
   "execution_count": 106,
   "metadata": {
    "collapsed": false,
    "scrolled": true
   },
   "outputs": [
    {
     "name": "stdout",
     "output_type": "stream",
     "text": [
      "Index(['-1', 'GB', 'I', 'II', 'III'], dtype='object')\n",
      "-1      1871\n",
      "GB     31987\n",
      "I      27401\n",
      "II      7207\n",
      "III      835\n",
      "Name: DESEMP_PROFUNDIZACION, dtype: int64\n",
      "Elementos null/NaN 0\n",
      "__________________\n",
      "Elementos diferentes de null/NaN: 69301\n",
      "__________________\n",
      "(69301,)\n",
      "None\n"
     ]
    }
   ],
   "source": [
    "c = 'DESEMP_PROFUNDIZACION'\n",
    "print(data_2007[c].value_counts().sort_index().index)\n",
    "print(data_2007[c].value_counts().sort_index())\n",
    "print(missing_data(data_2007[c]))"
   ]
  },
  {
   "cell_type": "code",
   "execution_count": 107,
   "metadata": {
    "collapsed": true
   },
   "outputs": [],
   "source": [
    "data_2007[c] = data_2007[c].replace('-1', np.nan)"
   ]
  },
  {
   "cell_type": "code",
   "execution_count": 108,
   "metadata": {
    "collapsed": false
   },
   "outputs": [
    {
     "name": "stdout",
     "output_type": "stream",
     "text": [
      "Index(['MEDIO AMBIENTE', 'VIOLENCIA Y SOCIEDAD'], dtype='object')\n",
      "MEDIO AMBIENTE          35417\n",
      "VIOLENCIA Y SOCIEDAD    33884\n",
      "Name: NOMBRE_INTERDISCIPLINAR, dtype: int64\n",
      "Elementos null/NaN 0\n",
      "__________________\n",
      "Elementos diferentes de null/NaN: 69301\n",
      "__________________\n",
      "(69301,)\n",
      "None\n"
     ]
    }
   ],
   "source": [
    "c = 'NOMBRE_INTERDISCIPLINAR'\n",
    "print(data_2007[c].value_counts().sort_index().index)\n",
    "print(data_2007[c].value_counts().sort_index())\n",
    "print(missing_data(data_2007[c]))"
   ]
  },
  {
   "cell_type": "code",
   "execution_count": 109,
   "metadata": {
    "collapsed": false,
    "scrolled": true
   },
   "outputs": [
    {
     "name": "stdout",
     "output_type": "stream",
     "text": [
      "Index(['-1', '0', '11,14', '21,62', '28,47', '33,81', '38,38', '42,52',\n",
      "       '42,54', '45,5', '46,46', '47,41', '48,9', '50,19', '50,38', '51,37',\n",
      "       '52,5', '53,62', '54,42', '54,77', '55,99', '57,35', '58,78', '58,95',\n",
      "       '60,99', '63,78', '64,13', '70,05', '79,56', '94,45'],\n",
      "      dtype='object')\n",
      "-1         24\n",
      "0         129\n",
      "11,14     262\n",
      "21,62     910\n",
      "28,47    2150\n",
      "33,81    3821\n",
      "38,38    5197\n",
      "42,52    5752\n",
      "42,54     502\n",
      "45,5     1571\n",
      "46,46    5427\n",
      "47,41    3332\n",
      "48,9     4791\n",
      "50,19    5735\n",
      "50,38    4387\n",
      "51,37    6017\n",
      "52,5     5183\n",
      "53,62    3897\n",
      "54,42    3061\n",
      "54,77    2412\n",
      "55,99    1206\n",
      "57,35     469\n",
      "58,78    1772\n",
      "58,95     166\n",
      "60,99      30\n",
      "63,78     800\n",
      "64,13       5\n",
      "70,05     255\n",
      "79,56      31\n",
      "94,45       7\n",
      "Name: PUNT_INTERDISCIPLINAR, dtype: int64\n",
      "Elementos null/NaN 0\n",
      "__________________\n",
      "Elementos diferentes de null/NaN: 69301\n",
      "__________________\n",
      "(69301,)\n",
      "None\n"
     ]
    }
   ],
   "source": [
    "c = 'PUNT_INTERDISCIPLINAR'\n",
    "print(data_2007[c].value_counts().sort_index().index)\n",
    "print(data_2007[c].value_counts().sort_index())\n",
    "print(missing_data(data_2007[c]))"
   ]
  },
  {
   "cell_type": "code",
   "execution_count": 110,
   "metadata": {
    "collapsed": true
   },
   "outputs": [],
   "source": [
    "for i in data_2007[c].value_counts().sort_index().index:\n",
    "    if ',' in i:\n",
    "        data_2007[c] = data_2007[c].replace(i, i.replace(',', '.'))\n",
    "\n",
    "for i in data_2007[c].value_counts().sort_index().index:\n",
    "    if type(i) == str:\n",
    "        data_2007[c] = data_2007[c].replace(i, float(i))"
   ]
  },
  {
   "cell_type": "code",
   "execution_count": 111,
   "metadata": {
    "collapsed": false,
    "scrolled": true
   },
   "outputs": [
    {
     "name": "stdout",
     "output_type": "stream",
     "text": [
      "Float64Index([  1.0,   2.0,   3.0,   4.0,   5.0,   6.0,   7.0,   8.0,   9.0,\n",
      "               10.0,\n",
      "              ...\n",
      "              962.0, 963.0, 964.0, 965.0, 966.0, 967.0, 968.0, 969.0, 970.0,\n",
      "              971.0],\n",
      "             dtype='float64', length=971)\n",
      "1      95\n",
      "2      84\n",
      "3      94\n",
      "4      89\n",
      "5      92\n",
      "6      91\n",
      "7      75\n",
      "8      89\n",
      "9      84\n",
      "10     77\n",
      "11     77\n",
      "12     87\n",
      "13     75\n",
      "14     94\n",
      "15     93\n",
      "16     77\n",
      "17     71\n",
      "18     72\n",
      "19     74\n",
      "20     79\n",
      "21     72\n",
      "22     78\n",
      "23     68\n",
      "24     73\n",
      "25     80\n",
      "26     85\n",
      "27     67\n",
      "28     70\n",
      "29     76\n",
      "30     74\n",
      "       ..\n",
      "942    90\n",
      "943    85\n",
      "944    99\n",
      "945    85\n",
      "946    81\n",
      "947    83\n",
      "948    77\n",
      "949    81\n",
      "950    83\n",
      "951    92\n",
      "952    89\n",
      "953    93\n",
      "954    81\n",
      "955    80\n",
      "956    87\n",
      "957    89\n",
      "958    76\n",
      "959    86\n",
      "960    89\n",
      "961    87\n",
      "962    86\n",
      "963    96\n",
      "964    78\n",
      "965    93\n",
      "966    87\n",
      "967    89\n",
      "968    88\n",
      "969    88\n",
      "970    68\n",
      "971     3\n",
      "Name: ESTU_PUESTO, dtype: int64\n",
      "Elementos null/NaN 82\n",
      "__________________\n",
      "Elementos diferentes de null/NaN: 69219\n",
      "__________________\n",
      "(69219,)\n",
      "None\n"
     ]
    }
   ],
   "source": [
    "c = 'ESTU_PUESTO'\n",
    "print(data_2007[c].value_counts().sort_index().index)\n",
    "print(data_2007[c].value_counts().sort_index())\n",
    "print(missing_data(data_2007[c]))"
   ]
  },
  {
   "cell_type": "markdown",
   "metadata": {},
   "source": [
    "# Now the other file... 2007_2"
   ]
  },
  {
   "cell_type": "code",
   "execution_count": 112,
   "metadata": {
    "collapsed": false,
    "scrolled": true
   },
   "outputs": [
    {
     "name": "stderr",
     "output_type": "stream",
     "text": [
      "/usr/local/lib/python3.4/dist-packages/IPython/core/interactiveshell.py:2902: DtypeWarning: Columns (30) have mixed types. Specify dtype option on import or set low_memory=False.\n",
      "  interactivity=interactivity, compiler=compiler, result=result)\n"
     ]
    }
   ],
   "source": [
    "data_2007_2 = pd.read_csv('../DatosFTPICFES/SABER11/SB11-BASES_DE_DATOS/SB11-20072-RGSTRO-CLFCCN-V1-0.txt', delimiter='|')"
   ]
  },
  {
   "cell_type": "code",
   "execution_count": 113,
   "metadata": {
    "collapsed": false
   },
   "outputs": [
    {
     "data": {
      "text/plain": [
       "(444713, 84)"
      ]
     },
     "execution_count": 113,
     "metadata": {},
     "output_type": "execute_result"
    }
   ],
   "source": [
    "data_2007_2.shape"
   ]
  },
  {
   "cell_type": "code",
   "execution_count": 114,
   "metadata": {
    "collapsed": false,
    "scrolled": true
   },
   "outputs": [
    {
     "data": {
      "text/html": [
       "<div>\n",
       "<table border=\"1\" class=\"dataframe\">\n",
       "  <thead>\n",
       "    <tr style=\"text-align: right;\">\n",
       "      <th></th>\n",
       "      <th>0</th>\n",
       "      <th>1</th>\n",
       "      <th>2</th>\n",
       "    </tr>\n",
       "  </thead>\n",
       "  <tbody>\n",
       "    <tr>\n",
       "      <th>ESTU_CONSECUTIVO</th>\n",
       "      <td>SABER1120072000001</td>\n",
       "      <td>SABER1120072000002</td>\n",
       "      <td>SABER1120072000003</td>\n",
       "    </tr>\n",
       "    <tr>\n",
       "      <th>PERIODO</th>\n",
       "      <td>20072</td>\n",
       "      <td>20072</td>\n",
       "      <td>20072</td>\n",
       "    </tr>\n",
       "    <tr>\n",
       "      <th>ESTU_TIPO_DOCUMENTO</th>\n",
       "      <td>T</td>\n",
       "      <td>T</td>\n",
       "      <td>T</td>\n",
       "    </tr>\n",
       "    <tr>\n",
       "      <th>ESTU_PAIS_RESIDE</th>\n",
       "      <td>CO</td>\n",
       "      <td>CO</td>\n",
       "      <td>CO</td>\n",
       "    </tr>\n",
       "    <tr>\n",
       "      <th>ESTU_GENERO</th>\n",
       "      <td>F</td>\n",
       "      <td>M</td>\n",
       "      <td>F</td>\n",
       "    </tr>\n",
       "    <tr>\n",
       "      <th>ESTU_NACIMIENTO_DIA</th>\n",
       "      <td>30</td>\n",
       "      <td>13</td>\n",
       "      <td>23</td>\n",
       "    </tr>\n",
       "    <tr>\n",
       "      <th>ESTU_NACIMIENTO_MES</th>\n",
       "      <td>12</td>\n",
       "      <td>6</td>\n",
       "      <td>10</td>\n",
       "    </tr>\n",
       "    <tr>\n",
       "      <th>ESTU_NACIMIENTO_ANNO</th>\n",
       "      <td>1990</td>\n",
       "      <td>1991</td>\n",
       "      <td>1990</td>\n",
       "    </tr>\n",
       "    <tr>\n",
       "      <th>ESTU_EDAD</th>\n",
       "      <td>16</td>\n",
       "      <td>16</td>\n",
       "      <td>16</td>\n",
       "    </tr>\n",
       "    <tr>\n",
       "      <th>ESTU_LIMITA_BAJAVISION</th>\n",
       "      <td>NaN</td>\n",
       "      <td>NaN</td>\n",
       "      <td>NaN</td>\n",
       "    </tr>\n",
       "    <tr>\n",
       "      <th>ESTU_LIMITA_SORDOCEGUERA</th>\n",
       "      <td>NaN</td>\n",
       "      <td>NaN</td>\n",
       "      <td>NaN</td>\n",
       "    </tr>\n",
       "    <tr>\n",
       "      <th>ESTU_LIMITA_COGNITIVA</th>\n",
       "      <td>NaN</td>\n",
       "      <td>NaN</td>\n",
       "      <td>NaN</td>\n",
       "    </tr>\n",
       "    <tr>\n",
       "      <th>ESTU_LIMITA_INVIDENTE</th>\n",
       "      <td>NaN</td>\n",
       "      <td>NaN</td>\n",
       "      <td>NaN</td>\n",
       "    </tr>\n",
       "    <tr>\n",
       "      <th>ESTU_LIMITA_MOTRIZ</th>\n",
       "      <td>NaN</td>\n",
       "      <td>NaN</td>\n",
       "      <td>NaN</td>\n",
       "    </tr>\n",
       "    <tr>\n",
       "      <th>ESTU_LIMITA_SORDOINTERPRETE</th>\n",
       "      <td>NaN</td>\n",
       "      <td>NaN</td>\n",
       "      <td>NaN</td>\n",
       "    </tr>\n",
       "    <tr>\n",
       "      <th>ESTU_LIMITA_SORDONOINTERPRETE</th>\n",
       "      <td>NaN</td>\n",
       "      <td>NaN</td>\n",
       "      <td>NaN</td>\n",
       "    </tr>\n",
       "    <tr>\n",
       "      <th>ESTU_COD_RESIDE_MCPIO</th>\n",
       "      <td>66001</td>\n",
       "      <td>5615</td>\n",
       "      <td>66001</td>\n",
       "    </tr>\n",
       "    <tr>\n",
       "      <th>ESTU_RESIDE_MCPIO</th>\n",
       "      <td>PEREIRA</td>\n",
       "      <td>RIONEGRO</td>\n",
       "      <td>PEREIRA</td>\n",
       "    </tr>\n",
       "    <tr>\n",
       "      <th>ESTU_RESIDE_DEPTO</th>\n",
       "      <td>RISARALDA</td>\n",
       "      <td>ANTIOQUIA</td>\n",
       "      <td>RISARALDA</td>\n",
       "    </tr>\n",
       "    <tr>\n",
       "      <th>ESTU_ZONA_RESIDE</th>\n",
       "      <td>10</td>\n",
       "      <td>10</td>\n",
       "      <td>10</td>\n",
       "    </tr>\n",
       "    <tr>\n",
       "      <th>ESTU_AREA_RESIDE</th>\n",
       "      <td>NaN</td>\n",
       "      <td>NaN</td>\n",
       "      <td>NaN</td>\n",
       "    </tr>\n",
       "    <tr>\n",
       "      <th>ESTU_COD_MCPIO_PRESENTACION</th>\n",
       "      <td>66001</td>\n",
       "      <td>5615</td>\n",
       "      <td>66001</td>\n",
       "    </tr>\n",
       "    <tr>\n",
       "      <th>ESTU_MCPIO_PRESENTACION</th>\n",
       "      <td>PEREIRA</td>\n",
       "      <td>RIONEGRO</td>\n",
       "      <td>PEREIRA</td>\n",
       "    </tr>\n",
       "    <tr>\n",
       "      <th>ESTU_DEPTO_PRESENTACION</th>\n",
       "      <td>RISARALDA</td>\n",
       "      <td>ANTIOQUIA</td>\n",
       "      <td>RISARALDA</td>\n",
       "    </tr>\n",
       "    <tr>\n",
       "      <th>ESTU_EXAM_NOMBREEXAMEN</th>\n",
       "      <td>EXAMEN DE ESTADO 2007-2</td>\n",
       "      <td>EXAMEN DE ESTADO 2007-2</td>\n",
       "      <td>EXAMEN DE ESTADO 2007-2</td>\n",
       "    </tr>\n",
       "    <tr>\n",
       "      <th>IND_ESTUDIO_BACHILLERATO</th>\n",
       "      <td>1</td>\n",
       "      <td>1</td>\n",
       "      <td>1</td>\n",
       "    </tr>\n",
       "    <tr>\n",
       "      <th>IND_ANNO_TERMINO_BACHILLERATO</th>\n",
       "      <td>2007</td>\n",
       "      <td>2007</td>\n",
       "      <td>2007</td>\n",
       "    </tr>\n",
       "    <tr>\n",
       "      <th>IND_TERMINO_BACHILLERATO</th>\n",
       "      <td>NaN</td>\n",
       "      <td>NaN</td>\n",
       "      <td>NaN</td>\n",
       "    </tr>\n",
       "    <tr>\n",
       "      <th>IND_COD_ICFES_TERMINO</th>\n",
       "      <td>13318</td>\n",
       "      <td>101964</td>\n",
       "      <td>13318</td>\n",
       "    </tr>\n",
       "    <tr>\n",
       "      <th>COLE_COD_ICFES</th>\n",
       "      <td>13318</td>\n",
       "      <td>101964</td>\n",
       "      <td>13318</td>\n",
       "    </tr>\n",
       "    <tr>\n",
       "      <th>...</th>\n",
       "      <td>...</td>\n",
       "      <td>...</td>\n",
       "      <td>...</td>\n",
       "    </tr>\n",
       "    <tr>\n",
       "      <th>FAMI_COMPUTADOR</th>\n",
       "      <td>NaN</td>\n",
       "      <td>NaN</td>\n",
       "      <td>NaN</td>\n",
       "    </tr>\n",
       "    <tr>\n",
       "      <th>FAMI_INGRESO_FMILIAR_MENSUAL</th>\n",
       "      <td>NaN</td>\n",
       "      <td>NaN</td>\n",
       "      <td>NaN</td>\n",
       "    </tr>\n",
       "    <tr>\n",
       "      <th>ESTU_TRABAJA</th>\n",
       "      <td>NaN</td>\n",
       "      <td>NaN</td>\n",
       "      <td>NaN</td>\n",
       "    </tr>\n",
       "    <tr>\n",
       "      <th>ESTU_HORAS_TRABAJA</th>\n",
       "      <td>NaN</td>\n",
       "      <td>NaN</td>\n",
       "      <td>NaN</td>\n",
       "    </tr>\n",
       "    <tr>\n",
       "      <th>COLE_VALOR_PENSION</th>\n",
       "      <td>0</td>\n",
       "      <td>4</td>\n",
       "      <td>0</td>\n",
       "    </tr>\n",
       "    <tr>\n",
       "      <th>ESTU_CARRDESEADA_TIPO</th>\n",
       "      <td>NaN</td>\n",
       "      <td>NaN</td>\n",
       "      <td>NaN</td>\n",
       "    </tr>\n",
       "    <tr>\n",
       "      <th>ESTU_CARRDESEADA_NUCLEO</th>\n",
       "      <td>NaN</td>\n",
       "      <td>NaN</td>\n",
       "      <td>NaN</td>\n",
       "    </tr>\n",
       "    <tr>\n",
       "      <th>ESTU_IES_COD_DESEADA</th>\n",
       "      <td>1111</td>\n",
       "      <td>9103</td>\n",
       "      <td>1111</td>\n",
       "    </tr>\n",
       "    <tr>\n",
       "      <th>ESTU_IES_DESEADA_NOMBRE</th>\n",
       "      <td>UNIVERSIDAD TECNOLOGICA DE PEREIRA</td>\n",
       "      <td>ESCUELA MILITAR DE AVIACION</td>\n",
       "      <td>UNIVERSIDAD TECNOLOGICA DE PEREIRA</td>\n",
       "    </tr>\n",
       "    <tr>\n",
       "      <th>ESTU_IES_COD_MPIO_DESEADA</th>\n",
       "      <td>66001</td>\n",
       "      <td>76001</td>\n",
       "      <td>66001</td>\n",
       "    </tr>\n",
       "    <tr>\n",
       "      <th>ESTU_IES_MPIO_DESEADA</th>\n",
       "      <td>PEREIRA</td>\n",
       "      <td>CALI</td>\n",
       "      <td>PEREIRA</td>\n",
       "    </tr>\n",
       "    <tr>\n",
       "      <th>ESTU_IES_DEPT_DESEADA</th>\n",
       "      <td>RISARALDA</td>\n",
       "      <td>VALLE</td>\n",
       "      <td>RISARALDA</td>\n",
       "    </tr>\n",
       "    <tr>\n",
       "      <th>ESTU_RAZONINSTITUTO</th>\n",
       "      <td>3</td>\n",
       "      <td>3</td>\n",
       "      <td>3</td>\n",
       "    </tr>\n",
       "    <tr>\n",
       "      <th>ESTU_CARRDESEADA_COD</th>\n",
       "      <td>16985</td>\n",
       "      <td>8188</td>\n",
       "      <td>14477</td>\n",
       "    </tr>\n",
       "    <tr>\n",
       "      <th>ESTU_CARRDESEADA_RAZON</th>\n",
       "      <td>1</td>\n",
       "      <td>2</td>\n",
       "      <td>1</td>\n",
       "    </tr>\n",
       "    <tr>\n",
       "      <th>PUNT_LENGUAJE</th>\n",
       "      <td>45,01</td>\n",
       "      <td>53,22</td>\n",
       "      <td>45,01</td>\n",
       "    </tr>\n",
       "    <tr>\n",
       "      <th>PUNT_MATEMATICAS</th>\n",
       "      <td>40,82</td>\n",
       "      <td>53,2</td>\n",
       "      <td>44,48</td>\n",
       "    </tr>\n",
       "    <tr>\n",
       "      <th>PUNT_C_SOCIALES</th>\n",
       "      <td>46,81</td>\n",
       "      <td>50,42</td>\n",
       "      <td>44,96</td>\n",
       "    </tr>\n",
       "    <tr>\n",
       "      <th>PUNT_FILOSOFIA</th>\n",
       "      <td>48,41</td>\n",
       "      <td>43,59</td>\n",
       "      <td>35,44</td>\n",
       "    </tr>\n",
       "    <tr>\n",
       "      <th>PUNT_BIOLOGIA</th>\n",
       "      <td>45,64</td>\n",
       "      <td>58,09</td>\n",
       "      <td>53,95</td>\n",
       "    </tr>\n",
       "    <tr>\n",
       "      <th>PUNT_QUIMICA</th>\n",
       "      <td>47,22</td>\n",
       "      <td>50,66</td>\n",
       "      <td>47,22</td>\n",
       "    </tr>\n",
       "    <tr>\n",
       "      <th>PUNT_FISICA</th>\n",
       "      <td>38,57</td>\n",
       "      <td>51,73</td>\n",
       "      <td>41,52</td>\n",
       "    </tr>\n",
       "    <tr>\n",
       "      <th>PUNT_INGLES</th>\n",
       "      <td>36,71</td>\n",
       "      <td>69,48</td>\n",
       "      <td>45,98</td>\n",
       "    </tr>\n",
       "    <tr>\n",
       "      <th>DESEMP_INGLES</th>\n",
       "      <td>A-</td>\n",
       "      <td>B1</td>\n",
       "      <td>A1</td>\n",
       "    </tr>\n",
       "    <tr>\n",
       "      <th>NOMBRE_PROFUNDIZACION</th>\n",
       "      <td>PROFUNDIZACIÓN EN CIENCIAS SOCIALES</td>\n",
       "      <td>PROFUNDIZACIÓN EN MATEMÁTICA</td>\n",
       "      <td>PROFUNDIZACIÓN EN BIOLOGÍA</td>\n",
       "    </tr>\n",
       "    <tr>\n",
       "      <th>PUNT_PROFUNDIZACION</th>\n",
       "      <td>5,31</td>\n",
       "      <td>4,83</td>\n",
       "      <td>5,88</td>\n",
       "    </tr>\n",
       "    <tr>\n",
       "      <th>DESEMP_PROFUNDIZACION</th>\n",
       "      <td>I</td>\n",
       "      <td>I</td>\n",
       "      <td>I</td>\n",
       "    </tr>\n",
       "    <tr>\n",
       "      <th>NOMBRE_INTERDISCIPLINAR</th>\n",
       "      <td>MEDIO AMBIENTE</td>\n",
       "      <td>VIOLENCIA Y SOCIEDAD</td>\n",
       "      <td>MEDIO AMBIENTE</td>\n",
       "    </tr>\n",
       "    <tr>\n",
       "      <th>PUNT_INTERDISCIPLINAR</th>\n",
       "      <td>52,46</td>\n",
       "      <td>42,54</td>\n",
       "      <td>60,63</td>\n",
       "    </tr>\n",
       "    <tr>\n",
       "      <th>ESTU_PUESTO</th>\n",
       "      <td>474</td>\n",
       "      <td>53</td>\n",
       "      <td>378</td>\n",
       "    </tr>\n",
       "  </tbody>\n",
       "</table>\n",
       "<p>84 rows × 3 columns</p>\n",
       "</div>"
      ],
      "text/plain": [
       "                                                                 0  \\\n",
       "ESTU_CONSECUTIVO                                SABER1120072000001   \n",
       "PERIODO                                                      20072   \n",
       "ESTU_TIPO_DOCUMENTO                                              T   \n",
       "ESTU_PAIS_RESIDE                                                CO   \n",
       "ESTU_GENERO                                                      F   \n",
       "ESTU_NACIMIENTO_DIA                                             30   \n",
       "ESTU_NACIMIENTO_MES                                             12   \n",
       "ESTU_NACIMIENTO_ANNO                                          1990   \n",
       "ESTU_EDAD                                                       16   \n",
       "ESTU_LIMITA_BAJAVISION                                         NaN   \n",
       "ESTU_LIMITA_SORDOCEGUERA                                       NaN   \n",
       "ESTU_LIMITA_COGNITIVA                                          NaN   \n",
       "ESTU_LIMITA_INVIDENTE                                          NaN   \n",
       "ESTU_LIMITA_MOTRIZ                                             NaN   \n",
       "ESTU_LIMITA_SORDOINTERPRETE                                    NaN   \n",
       "ESTU_LIMITA_SORDONOINTERPRETE                                  NaN   \n",
       "ESTU_COD_RESIDE_MCPIO                                        66001   \n",
       "ESTU_RESIDE_MCPIO                                          PEREIRA   \n",
       "ESTU_RESIDE_DEPTO                                        RISARALDA   \n",
       "ESTU_ZONA_RESIDE                                                10   \n",
       "ESTU_AREA_RESIDE                                               NaN   \n",
       "ESTU_COD_MCPIO_PRESENTACION                                  66001   \n",
       "ESTU_MCPIO_PRESENTACION                                    PEREIRA   \n",
       "ESTU_DEPTO_PRESENTACION                                  RISARALDA   \n",
       "ESTU_EXAM_NOMBREEXAMEN                     EXAMEN DE ESTADO 2007-2   \n",
       "IND_ESTUDIO_BACHILLERATO                                         1   \n",
       "IND_ANNO_TERMINO_BACHILLERATO                                 2007   \n",
       "IND_TERMINO_BACHILLERATO                                       NaN   \n",
       "IND_COD_ICFES_TERMINO                                        13318   \n",
       "COLE_COD_ICFES                                               13318   \n",
       "...                                                            ...   \n",
       "FAMI_COMPUTADOR                                                NaN   \n",
       "FAMI_INGRESO_FMILIAR_MENSUAL                                   NaN   \n",
       "ESTU_TRABAJA                                                   NaN   \n",
       "ESTU_HORAS_TRABAJA                                             NaN   \n",
       "COLE_VALOR_PENSION                                               0   \n",
       "ESTU_CARRDESEADA_TIPO                                          NaN   \n",
       "ESTU_CARRDESEADA_NUCLEO                                        NaN   \n",
       "ESTU_IES_COD_DESEADA                                          1111   \n",
       "ESTU_IES_DESEADA_NOMBRE         UNIVERSIDAD TECNOLOGICA DE PEREIRA   \n",
       "ESTU_IES_COD_MPIO_DESEADA                                    66001   \n",
       "ESTU_IES_MPIO_DESEADA                                      PEREIRA   \n",
       "ESTU_IES_DEPT_DESEADA                                    RISARALDA   \n",
       "ESTU_RAZONINSTITUTO                                              3   \n",
       "ESTU_CARRDESEADA_COD                                         16985   \n",
       "ESTU_CARRDESEADA_RAZON                                           1   \n",
       "PUNT_LENGUAJE                                                45,01   \n",
       "PUNT_MATEMATICAS                                             40,82   \n",
       "PUNT_C_SOCIALES                                              46,81   \n",
       "PUNT_FILOSOFIA                                               48,41   \n",
       "PUNT_BIOLOGIA                                                45,64   \n",
       "PUNT_QUIMICA                                                 47,22   \n",
       "PUNT_FISICA                                                  38,57   \n",
       "PUNT_INGLES                                                  36,71   \n",
       "DESEMP_INGLES                                                   A-   \n",
       "NOMBRE_PROFUNDIZACION          PROFUNDIZACIÓN EN CIENCIAS SOCIALES   \n",
       "PUNT_PROFUNDIZACION                                           5,31   \n",
       "DESEMP_PROFUNDIZACION                                            I   \n",
       "NOMBRE_INTERDISCIPLINAR                             MEDIO AMBIENTE   \n",
       "PUNT_INTERDISCIPLINAR                                        52,46   \n",
       "ESTU_PUESTO                                                    474   \n",
       "\n",
       "                                                          1  \\\n",
       "ESTU_CONSECUTIVO                         SABER1120072000002   \n",
       "PERIODO                                               20072   \n",
       "ESTU_TIPO_DOCUMENTO                                       T   \n",
       "ESTU_PAIS_RESIDE                                         CO   \n",
       "ESTU_GENERO                                               M   \n",
       "ESTU_NACIMIENTO_DIA                                      13   \n",
       "ESTU_NACIMIENTO_MES                                       6   \n",
       "ESTU_NACIMIENTO_ANNO                                   1991   \n",
       "ESTU_EDAD                                                16   \n",
       "ESTU_LIMITA_BAJAVISION                                  NaN   \n",
       "ESTU_LIMITA_SORDOCEGUERA                                NaN   \n",
       "ESTU_LIMITA_COGNITIVA                                   NaN   \n",
       "ESTU_LIMITA_INVIDENTE                                   NaN   \n",
       "ESTU_LIMITA_MOTRIZ                                      NaN   \n",
       "ESTU_LIMITA_SORDOINTERPRETE                             NaN   \n",
       "ESTU_LIMITA_SORDONOINTERPRETE                           NaN   \n",
       "ESTU_COD_RESIDE_MCPIO                                  5615   \n",
       "ESTU_RESIDE_MCPIO                                  RIONEGRO   \n",
       "ESTU_RESIDE_DEPTO                                 ANTIOQUIA   \n",
       "ESTU_ZONA_RESIDE                                         10   \n",
       "ESTU_AREA_RESIDE                                        NaN   \n",
       "ESTU_COD_MCPIO_PRESENTACION                            5615   \n",
       "ESTU_MCPIO_PRESENTACION                            RIONEGRO   \n",
       "ESTU_DEPTO_PRESENTACION                           ANTIOQUIA   \n",
       "ESTU_EXAM_NOMBREEXAMEN              EXAMEN DE ESTADO 2007-2   \n",
       "IND_ESTUDIO_BACHILLERATO                                  1   \n",
       "IND_ANNO_TERMINO_BACHILLERATO                          2007   \n",
       "IND_TERMINO_BACHILLERATO                                NaN   \n",
       "IND_COD_ICFES_TERMINO                                101964   \n",
       "COLE_COD_ICFES                                       101964   \n",
       "...                                                     ...   \n",
       "FAMI_COMPUTADOR                                         NaN   \n",
       "FAMI_INGRESO_FMILIAR_MENSUAL                            NaN   \n",
       "ESTU_TRABAJA                                            NaN   \n",
       "ESTU_HORAS_TRABAJA                                      NaN   \n",
       "COLE_VALOR_PENSION                                        4   \n",
       "ESTU_CARRDESEADA_TIPO                                   NaN   \n",
       "ESTU_CARRDESEADA_NUCLEO                                 NaN   \n",
       "ESTU_IES_COD_DESEADA                                   9103   \n",
       "ESTU_IES_DESEADA_NOMBRE         ESCUELA MILITAR DE AVIACION   \n",
       "ESTU_IES_COD_MPIO_DESEADA                             76001   \n",
       "ESTU_IES_MPIO_DESEADA                                  CALI   \n",
       "ESTU_IES_DEPT_DESEADA                                 VALLE   \n",
       "ESTU_RAZONINSTITUTO                                       3   \n",
       "ESTU_CARRDESEADA_COD                                   8188   \n",
       "ESTU_CARRDESEADA_RAZON                                    2   \n",
       "PUNT_LENGUAJE                                         53,22   \n",
       "PUNT_MATEMATICAS                                       53,2   \n",
       "PUNT_C_SOCIALES                                       50,42   \n",
       "PUNT_FILOSOFIA                                        43,59   \n",
       "PUNT_BIOLOGIA                                         58,09   \n",
       "PUNT_QUIMICA                                          50,66   \n",
       "PUNT_FISICA                                           51,73   \n",
       "PUNT_INGLES                                           69,48   \n",
       "DESEMP_INGLES                                            B1   \n",
       "NOMBRE_PROFUNDIZACION          PROFUNDIZACIÓN EN MATEMÁTICA   \n",
       "PUNT_PROFUNDIZACION                                    4,83   \n",
       "DESEMP_PROFUNDIZACION                                     I   \n",
       "NOMBRE_INTERDISCIPLINAR                VIOLENCIA Y SOCIEDAD   \n",
       "PUNT_INTERDISCIPLINAR                                 42,54   \n",
       "ESTU_PUESTO                                              53   \n",
       "\n",
       "                                                                2  \n",
       "ESTU_CONSECUTIVO                               SABER1120072000003  \n",
       "PERIODO                                                     20072  \n",
       "ESTU_TIPO_DOCUMENTO                                             T  \n",
       "ESTU_PAIS_RESIDE                                               CO  \n",
       "ESTU_GENERO                                                     F  \n",
       "ESTU_NACIMIENTO_DIA                                            23  \n",
       "ESTU_NACIMIENTO_MES                                            10  \n",
       "ESTU_NACIMIENTO_ANNO                                         1990  \n",
       "ESTU_EDAD                                                      16  \n",
       "ESTU_LIMITA_BAJAVISION                                        NaN  \n",
       "ESTU_LIMITA_SORDOCEGUERA                                      NaN  \n",
       "ESTU_LIMITA_COGNITIVA                                         NaN  \n",
       "ESTU_LIMITA_INVIDENTE                                         NaN  \n",
       "ESTU_LIMITA_MOTRIZ                                            NaN  \n",
       "ESTU_LIMITA_SORDOINTERPRETE                                   NaN  \n",
       "ESTU_LIMITA_SORDONOINTERPRETE                                 NaN  \n",
       "ESTU_COD_RESIDE_MCPIO                                       66001  \n",
       "ESTU_RESIDE_MCPIO                                         PEREIRA  \n",
       "ESTU_RESIDE_DEPTO                                       RISARALDA  \n",
       "ESTU_ZONA_RESIDE                                               10  \n",
       "ESTU_AREA_RESIDE                                              NaN  \n",
       "ESTU_COD_MCPIO_PRESENTACION                                 66001  \n",
       "ESTU_MCPIO_PRESENTACION                                   PEREIRA  \n",
       "ESTU_DEPTO_PRESENTACION                                 RISARALDA  \n",
       "ESTU_EXAM_NOMBREEXAMEN                    EXAMEN DE ESTADO 2007-2  \n",
       "IND_ESTUDIO_BACHILLERATO                                        1  \n",
       "IND_ANNO_TERMINO_BACHILLERATO                                2007  \n",
       "IND_TERMINO_BACHILLERATO                                      NaN  \n",
       "IND_COD_ICFES_TERMINO                                       13318  \n",
       "COLE_COD_ICFES                                              13318  \n",
       "...                                                           ...  \n",
       "FAMI_COMPUTADOR                                               NaN  \n",
       "FAMI_INGRESO_FMILIAR_MENSUAL                                  NaN  \n",
       "ESTU_TRABAJA                                                  NaN  \n",
       "ESTU_HORAS_TRABAJA                                            NaN  \n",
       "COLE_VALOR_PENSION                                              0  \n",
       "ESTU_CARRDESEADA_TIPO                                         NaN  \n",
       "ESTU_CARRDESEADA_NUCLEO                                       NaN  \n",
       "ESTU_IES_COD_DESEADA                                         1111  \n",
       "ESTU_IES_DESEADA_NOMBRE        UNIVERSIDAD TECNOLOGICA DE PEREIRA  \n",
       "ESTU_IES_COD_MPIO_DESEADA                                   66001  \n",
       "ESTU_IES_MPIO_DESEADA                                     PEREIRA  \n",
       "ESTU_IES_DEPT_DESEADA                                   RISARALDA  \n",
       "ESTU_RAZONINSTITUTO                                             3  \n",
       "ESTU_CARRDESEADA_COD                                        14477  \n",
       "ESTU_CARRDESEADA_RAZON                                          1  \n",
       "PUNT_LENGUAJE                                               45,01  \n",
       "PUNT_MATEMATICAS                                            44,48  \n",
       "PUNT_C_SOCIALES                                             44,96  \n",
       "PUNT_FILOSOFIA                                              35,44  \n",
       "PUNT_BIOLOGIA                                               53,95  \n",
       "PUNT_QUIMICA                                                47,22  \n",
       "PUNT_FISICA                                                 41,52  \n",
       "PUNT_INGLES                                                 45,98  \n",
       "DESEMP_INGLES                                                  A1  \n",
       "NOMBRE_PROFUNDIZACION                  PROFUNDIZACIÓN EN BIOLOGÍA  \n",
       "PUNT_PROFUNDIZACION                                          5,88  \n",
       "DESEMP_PROFUNDIZACION                                           I  \n",
       "NOMBRE_INTERDISCIPLINAR                            MEDIO AMBIENTE  \n",
       "PUNT_INTERDISCIPLINAR                                       60,63  \n",
       "ESTU_PUESTO                                                   378  \n",
       "\n",
       "[84 rows x 3 columns]"
      ]
     },
     "execution_count": 114,
     "metadata": {},
     "output_type": "execute_result"
    }
   ],
   "source": [
    "data_2007_2.head(3).T"
   ]
  },
  {
   "cell_type": "code",
   "execution_count": 115,
   "metadata": {
    "collapsed": true
   },
   "outputs": [],
   "source": [
    "data_2007_2 = data_2007_2.drop(['ESTU_CONSECUTIVO', 'PERIODO', 'ESTU_TIPO_DOCUMENTO', 'ESTU_COD_RESIDE_MCPIO',\n",
    "                               'ESTU_COD_MCPIO_PRESENTACION', 'COLE_NOMBRE_SEDE', 'ESTU_IES_DESEADA_NOMBRE',\n",
    "                               'ESTU_IES_COD_MPIO_DESEADA'], axis = 1)"
   ]
  },
  {
   "cell_type": "code",
   "execution_count": 116,
   "metadata": {
    "collapsed": false,
    "scrolled": true
   },
   "outputs": [
    {
     "name": "stdout",
     "output_type": "stream",
     "text": [
      "Index(['AR', 'BO', 'BR', 'CA', 'CH', 'CL', 'CO', 'CU', 'EC', 'ES', 'IT', 'KR',\n",
      "       'MX', 'PA', 'PE', 'US', 'VE'],\n",
      "      dtype='object')\n",
      "AR         4\n",
      "BO         2\n",
      "BR         4\n",
      "CA         2\n",
      "CH         1\n",
      "CL         2\n",
      "CO    444455\n",
      "CU         1\n",
      "EC         4\n",
      "ES         1\n",
      "IT         2\n",
      "KR         1\n",
      "MX         1\n",
      "PA         1\n",
      "PE         4\n",
      "US        14\n",
      "VE        19\n",
      "Name: ESTU_PAIS_RESIDE, dtype: int64\n",
      "Elementos null/NaN 195\n",
      "__________________\n",
      "Elementos diferentes de null/NaN: 444518\n",
      "__________________\n",
      "(444518,)\n",
      "None\n"
     ]
    }
   ],
   "source": [
    "c = 'ESTU_PAIS_RESIDE'\n",
    "print(data_2007_2[c].value_counts().sort_index().index)\n",
    "print(data_2007_2[c].value_counts().sort_index())\n",
    "print(missing_data(data_2007_2[c]))"
   ]
  },
  {
   "cell_type": "code",
   "execution_count": 117,
   "metadata": {
    "collapsed": false
   },
   "outputs": [
    {
     "name": "stdout",
     "output_type": "stream",
     "text": [
      "Index(['F', 'M'], dtype='object')\n",
      "F    240489\n",
      "M    204049\n",
      "Name: ESTU_GENERO, dtype: int64\n",
      "Elementos null/NaN 175\n",
      "__________________\n",
      "Elementos diferentes de null/NaN: 444538\n",
      "__________________\n",
      "(444538,)\n",
      "None\n"
     ]
    }
   ],
   "source": [
    "c = 'ESTU_GENERO'\n",
    "print(data_2007_2[c].value_counts().sort_index().index)\n",
    "print(data_2007_2[c].value_counts().sort_index())\n",
    "print(missing_data(data_2007_2[c]))"
   ]
  },
  {
   "cell_type": "code",
   "execution_count": 118,
   "metadata": {
    "collapsed": false,
    "scrolled": true
   },
   "outputs": [
    {
     "name": "stdout",
     "output_type": "stream",
     "text": [
      "Float64Index([ 1.0,  2.0,  3.0,  4.0,  5.0,  6.0,  7.0,  8.0,  9.0, 10.0, 11.0,\n",
      "              12.0, 13.0, 14.0, 15.0, 16.0, 17.0, 18.0, 19.0, 20.0, 21.0, 22.0,\n",
      "              23.0, 24.0, 25.0, 26.0, 27.0, 28.0, 29.0, 30.0, 31.0],\n",
      "             dtype='float64')\n",
      "1     14943\n",
      "2     14665\n",
      "3     14596\n",
      "4     14614\n",
      "5     14659\n",
      "6     14549\n",
      "7     14615\n",
      "8     14487\n",
      "9     14417\n",
      "10    15328\n",
      "11    14731\n",
      "12    14709\n",
      "13    14288\n",
      "14    14328\n",
      "15    14936\n",
      "16    14651\n",
      "17    14479\n",
      "18    14603\n",
      "19    14416\n",
      "20    15178\n",
      "21    14419\n",
      "22    14588\n",
      "23    14336\n",
      "24    14763\n",
      "25    14307\n",
      "26    14387\n",
      "27    14582\n",
      "28    14975\n",
      "29    13408\n",
      "30    13270\n",
      "31     8091\n",
      "Name: ESTU_NACIMIENTO_DIA, dtype: int64\n",
      "Elementos null/NaN 395\n",
      "__________________\n",
      "Elementos diferentes de null/NaN: 444318\n",
      "__________________\n",
      "(444318,)\n",
      "None\n"
     ]
    }
   ],
   "source": [
    "c = 'ESTU_NACIMIENTO_DIA'\n",
    "print(data_2007_2[c].value_counts().sort_index().index)\n",
    "print(data_2007_2[c].value_counts().sort_index())\n",
    "print(missing_data(data_2007_2[c]))"
   ]
  },
  {
   "cell_type": "code",
   "execution_count": 119,
   "metadata": {
    "collapsed": false,
    "scrolled": true
   },
   "outputs": [
    {
     "name": "stdout",
     "output_type": "stream",
     "text": [
      "Float64Index([1.0, 2.0, 3.0, 4.0, 5.0, 6.0, 7.0, 8.0, 9.0, 10.0, 11.0, 12.0], dtype='float64')\n",
      "1     36143\n",
      "2     32548\n",
      "3     36461\n",
      "4     35236\n",
      "5     36560\n",
      "6     35075\n",
      "7     37075\n",
      "8     37498\n",
      "9     38921\n",
      "10    39468\n",
      "11    36974\n",
      "12    42359\n",
      "Name: ESTU_NACIMIENTO_MES, dtype: int64\n",
      "Elementos null/NaN 395\n",
      "__________________\n",
      "Elementos diferentes de null/NaN: 444318\n",
      "__________________\n",
      "(444318,)\n",
      "None\n"
     ]
    }
   ],
   "source": [
    "c = 'ESTU_NACIMIENTO_MES'\n",
    "print(data_2007_2[c].value_counts().sort_index().index)\n",
    "print(data_2007_2[c].value_counts().sort_index())\n",
    "print(missing_data(data_2007_2[c]))"
   ]
  },
  {
   "cell_type": "code",
   "execution_count": 120,
   "metadata": {
    "collapsed": false,
    "scrolled": true
   },
   "outputs": [
    {
     "name": "stdout",
     "output_type": "stream",
     "text": [
      "Float64Index([  14.0, 1924.0, 1930.0, 1931.0, 1932.0, 1933.0, 1934.0, 1935.0,\n",
      "              1936.0, 1937.0, 1938.0, 1939.0, 1940.0, 1941.0, 1942.0, 1943.0,\n",
      "              1944.0, 1945.0, 1946.0, 1947.0, 1948.0, 1949.0, 1950.0, 1951.0,\n",
      "              1952.0, 1953.0, 1954.0, 1955.0, 1956.0, 1957.0, 1958.0, 1959.0,\n",
      "              1960.0, 1961.0, 1962.0, 1963.0, 1964.0, 1965.0, 1966.0, 1967.0,\n",
      "              1968.0, 1969.0, 1970.0, 1971.0, 1972.0, 1973.0, 1974.0, 1975.0,\n",
      "              1976.0, 1977.0, 1978.0, 1979.0, 1980.0, 1981.0, 1982.0, 1983.0,\n",
      "              1984.0, 1985.0, 1986.0, 1987.0, 1988.0, 1989.0, 1990.0, 1991.0,\n",
      "              1992.0, 1993.0, 1994.0, 1995.0, 1996.0, 1997.0, 1998.0, 1999.0,\n",
      "              2000.0, 2001.0, 2002.0, 2085.0, 2086.0, 2088.0, 2090.0, 2091.0],\n",
      "             dtype='float64')\n",
      "14           1\n",
      "1924         3\n",
      "1930        17\n",
      "1931        15\n",
      "1932        18\n",
      "1933        15\n",
      "1934        12\n",
      "1935         6\n",
      "1936         2\n",
      "1937         1\n",
      "1938         5\n",
      "1939         5\n",
      "1940         4\n",
      "1941         7\n",
      "1942         4\n",
      "1943         8\n",
      "1944        10\n",
      "1945         7\n",
      "1946        10\n",
      "1947        16\n",
      "1948        27\n",
      "1949        11\n",
      "1950        46\n",
      "1951        34\n",
      "1952        39\n",
      "1953        56\n",
      "1954        73\n",
      "1955        64\n",
      "1956        83\n",
      "1957       107\n",
      "         ...  \n",
      "1978       883\n",
      "1979       978\n",
      "1980      1250\n",
      "1981      1338\n",
      "1982      1550\n",
      "1983      1875\n",
      "1984      2448\n",
      "1985      3840\n",
      "1986      6912\n",
      "1987     15454\n",
      "1988     37815\n",
      "1989     83119\n",
      "1990    160461\n",
      "1991    104431\n",
      "1992      9111\n",
      "1993      1124\n",
      "1994      2431\n",
      "1995        13\n",
      "1996         1\n",
      "1997         2\n",
      "1998        21\n",
      "1999         2\n",
      "2000        30\n",
      "2001        14\n",
      "2002        17\n",
      "2085         1\n",
      "2086         1\n",
      "2088         1\n",
      "2090         2\n",
      "2091         1\n",
      "Name: ESTU_NACIMIENTO_ANNO, dtype: int64\n",
      "Elementos null/NaN 395\n",
      "__________________\n",
      "Elementos diferentes de null/NaN: 444318\n",
      "__________________\n",
      "(444318,)\n",
      "None\n"
     ]
    }
   ],
   "source": [
    "c = 'ESTU_NACIMIENTO_ANNO'\n",
    "print(data_2007_2[c].value_counts().sort_index().index)\n",
    "print(data_2007_2[c].value_counts().sort_index())\n",
    "print(missing_data(data_2007_2[c]))"
   ]
  },
  {
   "cell_type": "code",
   "execution_count": 121,
   "metadata": {
    "collapsed": true
   },
   "outputs": [],
   "source": [
    "for i in data_2007_2[c].value_counts().sort_index().index:\n",
    "    if i < 1930:\n",
    "        data_2007_2[c] = data_2007_2[c].replace(i, np.nan)\n",
    "    elif i > 1995:\n",
    "        data_2007_2[c] = data_2007_2[c].replace(i, np.nan)"
   ]
  },
  {
   "cell_type": "code",
   "execution_count": 122,
   "metadata": {
    "collapsed": false,
    "scrolled": true
   },
   "outputs": [
    {
     "name": "stdout",
     "output_type": "stream",
     "text": [
      "Int64Index([12, 13, 14, 15, 16, 17, 18, 19, 20, 21, 22, 23, 24, 25, 26, 27, 28,\n",
      "            29, 30, 31, 32, 33, 34, 35, 36, 37, 38, 39, 40, 41, 42, 43, 44, 45,\n",
      "            46, 47, 48, 49, 50, 51, 52, 53, 54, 55, 56, 57, 58, 59, 60, 61, 62,\n",
      "            63, 64, 65, 66, 67, 68, 69, 70, 71, 72, 73, 74, 75, 76, 77],\n",
      "           dtype='int64')\n",
      "12       863\n",
      "13      2073\n",
      "14      2104\n",
      "15     28014\n",
      "16    161883\n",
      "17    122996\n",
      "18     61658\n",
      "19     26736\n",
      "20     11249\n",
      "21      5354\n",
      "22      3217\n",
      "23      2187\n",
      "24      1737\n",
      "25      1495\n",
      "26      1292\n",
      "27      1153\n",
      "28       940\n",
      "29       867\n",
      "30       792\n",
      "31       697\n",
      "32       688\n",
      "33       690\n",
      "34       611\n",
      "35       549\n",
      "36       539\n",
      "37       524\n",
      "38       452\n",
      "39       399\n",
      "40       366\n",
      "41       309\n",
      "       ...  \n",
      "48       117\n",
      "49       120\n",
      "50        96\n",
      "51        86\n",
      "52        63\n",
      "53        70\n",
      "54        47\n",
      "55        36\n",
      "56        46\n",
      "57        25\n",
      "58        19\n",
      "59        19\n",
      "60        18\n",
      "61        10\n",
      "62         6\n",
      "63        10\n",
      "64         8\n",
      "65         3\n",
      "66         7\n",
      "67         5\n",
      "68         6\n",
      "69         5\n",
      "70         1\n",
      "71         3\n",
      "72         5\n",
      "73        12\n",
      "74        14\n",
      "75        19\n",
      "76        19\n",
      "77        12\n",
      "Name: ESTU_EDAD, dtype: int64\n",
      "Elementos null/NaN 0\n",
      "__________________\n",
      "Elementos diferentes de null/NaN: 444713\n",
      "__________________\n",
      "(444713,)\n",
      "None\n"
     ]
    }
   ],
   "source": [
    "c = 'ESTU_EDAD'\n",
    "print(data_2007_2[c].value_counts().sort_index().index)\n",
    "print(data_2007_2[c].value_counts().sort_index())\n",
    "print(missing_data(data_2007_2[c]))"
   ]
  },
  {
   "cell_type": "code",
   "execution_count": 123,
   "metadata": {
    "collapsed": false
   },
   "outputs": [
    {
     "name": "stdout",
     "output_type": "stream",
     "text": [
      "Float64Index([], dtype='float64')\n",
      "Series([], Name: ESTU_LIMITA_BAJAVISION, dtype: int64)\n",
      "Elementos null/NaN 444713\n",
      "__________________\n",
      "Elementos diferentes de null/NaN: 0\n",
      "__________________\n",
      "(0,)\n",
      "None\n"
     ]
    }
   ],
   "source": [
    "c = 'ESTU_LIMITA_BAJAVISION'\n",
    "print(data_2007_2[c].value_counts().sort_index().index)\n",
    "print(data_2007_2[c].value_counts().sort_index())\n",
    "print(missing_data(data_2007_2[c]))"
   ]
  },
  {
   "cell_type": "code",
   "execution_count": 124,
   "metadata": {
    "collapsed": true
   },
   "outputs": [],
   "source": [
    "data_2007_2 = data_2007_2.drop([c], axis=1)"
   ]
  },
  {
   "cell_type": "code",
   "execution_count": 125,
   "metadata": {
    "collapsed": false
   },
   "outputs": [
    {
     "name": "stdout",
     "output_type": "stream",
     "text": [
      "Float64Index([], dtype='float64')\n",
      "Series([], Name: ESTU_LIMITA_SORDOCEGUERA, dtype: int64)\n",
      "Elementos null/NaN 444713\n",
      "__________________\n",
      "Elementos diferentes de null/NaN: 0\n",
      "__________________\n",
      "(0,)\n",
      "None\n"
     ]
    }
   ],
   "source": [
    "c = 'ESTU_LIMITA_SORDOCEGUERA'\n",
    "print(data_2007_2[c].value_counts().sort_index().index)\n",
    "print(data_2007_2[c].value_counts().sort_index())\n",
    "print(missing_data(data_2007_2[c]))"
   ]
  },
  {
   "cell_type": "code",
   "execution_count": 126,
   "metadata": {
    "collapsed": true
   },
   "outputs": [],
   "source": [
    "data_2007_2 = data_2007_2.drop([c], axis=1)"
   ]
  },
  {
   "cell_type": "code",
   "execution_count": 127,
   "metadata": {
    "collapsed": false
   },
   "outputs": [
    {
     "name": "stdout",
     "output_type": "stream",
     "text": [
      "Float64Index([], dtype='float64')\n",
      "Series([], Name: ESTU_LIMITA_COGNITIVA, dtype: int64)\n",
      "Elementos null/NaN 444713\n",
      "__________________\n",
      "Elementos diferentes de null/NaN: 0\n",
      "__________________\n",
      "(0,)\n",
      "None\n"
     ]
    }
   ],
   "source": [
    "c = 'ESTU_LIMITA_COGNITIVA'\n",
    "print(data_2007_2[c].value_counts().sort_index().index)\n",
    "print(data_2007_2[c].value_counts().sort_index())\n",
    "print(missing_data(data_2007_2[c]))"
   ]
  },
  {
   "cell_type": "code",
   "execution_count": 128,
   "metadata": {
    "collapsed": true
   },
   "outputs": [],
   "source": [
    "data_2007_2 = data_2007_2.drop([c], axis=1)"
   ]
  },
  {
   "cell_type": "code",
   "execution_count": 129,
   "metadata": {
    "collapsed": false
   },
   "outputs": [
    {
     "name": "stdout",
     "output_type": "stream",
     "text": [
      "Float64Index([], dtype='float64')\n",
      "Series([], Name: ESTU_LIMITA_INVIDENTE, dtype: int64)\n",
      "Elementos null/NaN 444713\n",
      "__________________\n",
      "Elementos diferentes de null/NaN: 0\n",
      "__________________\n",
      "(0,)\n",
      "None\n"
     ]
    }
   ],
   "source": [
    "c = 'ESTU_LIMITA_INVIDENTE'\n",
    "print(data_2007_2[c].value_counts().sort_index().index)\n",
    "print(data_2007_2[c].value_counts().sort_index())\n",
    "print(missing_data(data_2007_2[c]))"
   ]
  },
  {
   "cell_type": "code",
   "execution_count": 130,
   "metadata": {
    "collapsed": true
   },
   "outputs": [],
   "source": [
    "data_2007_2 = data_2007_2.drop([c], axis=1)"
   ]
  },
  {
   "cell_type": "code",
   "execution_count": 131,
   "metadata": {
    "collapsed": false
   },
   "outputs": [
    {
     "name": "stdout",
     "output_type": "stream",
     "text": [
      "Float64Index([], dtype='float64')\n",
      "Series([], Name: ESTU_LIMITA_MOTRIZ, dtype: int64)\n",
      "Elementos null/NaN 444713\n",
      "__________________\n",
      "Elementos diferentes de null/NaN: 0\n",
      "__________________\n",
      "(0,)\n",
      "None\n"
     ]
    }
   ],
   "source": [
    "c = 'ESTU_LIMITA_MOTRIZ'\n",
    "print(data_2007_2[c].value_counts().sort_index().index)\n",
    "print(data_2007_2[c].value_counts().sort_index())\n",
    "print(missing_data(data_2007_2[c]))"
   ]
  },
  {
   "cell_type": "code",
   "execution_count": 132,
   "metadata": {
    "collapsed": true
   },
   "outputs": [],
   "source": [
    "data_2007_2 = data_2007_2.drop([c], axis=1)"
   ]
  },
  {
   "cell_type": "code",
   "execution_count": 133,
   "metadata": {
    "collapsed": false
   },
   "outputs": [
    {
     "name": "stdout",
     "output_type": "stream",
     "text": [
      "Float64Index([], dtype='float64')\n",
      "Series([], Name: ESTU_LIMITA_SORDOINTERPRETE, dtype: int64)\n",
      "Elementos null/NaN 444713\n",
      "__________________\n",
      "Elementos diferentes de null/NaN: 0\n",
      "__________________\n",
      "(0,)\n",
      "None\n"
     ]
    }
   ],
   "source": [
    "c = 'ESTU_LIMITA_SORDOINTERPRETE'\n",
    "print(data_2007_2[c].value_counts().sort_index().index)\n",
    "print(data_2007_2[c].value_counts().sort_index())\n",
    "print(missing_data(data_2007_2[c]))"
   ]
  },
  {
   "cell_type": "code",
   "execution_count": 134,
   "metadata": {
    "collapsed": true
   },
   "outputs": [],
   "source": [
    "data_2007_2 = data_2007_2.drop([c], axis=1)"
   ]
  },
  {
   "cell_type": "code",
   "execution_count": 135,
   "metadata": {
    "collapsed": false
   },
   "outputs": [
    {
     "name": "stdout",
     "output_type": "stream",
     "text": [
      "Float64Index([], dtype='float64')\n",
      "Series([], Name: ESTU_LIMITA_SORDONOINTERPRETE, dtype: int64)\n",
      "Elementos null/NaN 444713\n",
      "__________________\n",
      "Elementos diferentes de null/NaN: 0\n",
      "__________________\n",
      "(0,)\n",
      "None\n"
     ]
    }
   ],
   "source": [
    "c = 'ESTU_LIMITA_SORDONOINTERPRETE'\n",
    "print(data_2007_2[c].value_counts().sort_index().index)\n",
    "print(data_2007_2[c].value_counts().sort_index())\n",
    "print(missing_data(data_2007_2[c]))"
   ]
  },
  {
   "cell_type": "code",
   "execution_count": 136,
   "metadata": {
    "collapsed": true
   },
   "outputs": [],
   "source": [
    "data_2007_2 = data_2007_2.drop([c], axis=1)"
   ]
  },
  {
   "cell_type": "code",
   "execution_count": 137,
   "metadata": {
    "collapsed": false,
    "scrolled": true
   },
   "outputs": [
    {
     "name": "stdout",
     "output_type": "stream",
     "text": [
      "Index(['ABEJORRAL', 'ABREGO', 'ABRIAQUI', 'ACACIAS', 'ACANDI', 'ACEVEDO',\n",
      "       'ACHI', 'AGRADO', 'AGUA DE DIOS', 'AGUACHICA',\n",
      "       ...\n",
      "       'YUMBO', 'ZAMBRANO', 'ZAPATOCA', 'ZAPAYAN', 'ZARAGOZA', 'ZARZAL',\n",
      "       'ZETAQUIRA', 'ZIPACON', 'ZIPAQUIRA', 'ZONA BANANERA'],\n",
      "      dtype='object', length=972)\n",
      "ABEJORRAL                    154\n",
      "ABREGO                       112\n",
      "ABRIAQUI                      25\n",
      "ACACIAS                      864\n",
      "ACANDI                        50\n",
      "ACEVEDO                       86\n",
      "ACHI                         172\n",
      "AGRADO                        81\n",
      "AGUA DE DIOS                 146\n",
      "AGUACHICA                    847\n",
      "AGUADA                        16\n",
      "AGUADAS                      229\n",
      "AGUAZUL                      464\n",
      "AGUSTIN CODAZZI              582\n",
      "AIPE                         147\n",
      "ALBAN                         62\n",
      "ALBANIA                      304\n",
      "ALCALA                         9\n",
      "ALEJANDRIA                    24\n",
      "ALGARROBO                    114\n",
      "ALGECIRAS                    111\n",
      "ALMAGUER                      98\n",
      "ALMEIDA                       18\n",
      "ALPUJARRA                     53\n",
      "ALTAMIRA                      29\n",
      "ALTO BAUDO (PIE DE PATO)      33\n",
      "ALTOS DEL ROSARIO             48\n",
      "ALVARADO                      89\n",
      "AMAGA                        297\n",
      "AMALFI                       194\n",
      "                            ... \n",
      "VILLAMARIA                   533\n",
      "VILLANUEVA                   788\n",
      "VILLAPINZON                  177\n",
      "VILLARRICA                    56\n",
      "VILLAVICENCIO               5049\n",
      "VILLAVIEJA                    80\n",
      "VILLETA                      369\n",
      "VIOTA                        190\n",
      "VIRACACHA                     33\n",
      "VISTA HERMOSA                 84\n",
      "VITERBO                      177\n",
      "YACOPI                       104\n",
      "YAGUARA                      126\n",
      "YALI                          38\n",
      "YARUMAL                      491\n",
      "YAVARATE                      11\n",
      "YOLOMBO                      178\n",
      "YONDO (CASABE)                77\n",
      "YOPAL                       1467\n",
      "YOTOCO                         1\n",
      "YUMBO                         42\n",
      "ZAMBRANO                     104\n",
      "ZAPATOCA                      92\n",
      "ZAPAYAN                       19\n",
      "ZARAGOZA                     177\n",
      "ZARZAL                        15\n",
      "ZETAQUIRA                    112\n",
      "ZIPACON                       51\n",
      "ZIPAQUIRA                   1525\n",
      "ZONA BANANERA                525\n",
      "Name: ESTU_RESIDE_MCPIO, dtype: int64\n",
      "Elementos null/NaN 177\n",
      "__________________\n",
      "Elementos diferentes de null/NaN: 444536\n",
      "__________________\n",
      "(444536,)\n",
      "None\n"
     ]
    }
   ],
   "source": [
    "c = 'ESTU_RESIDE_MCPIO'\n",
    "print(data_2007_2[c].value_counts().sort_index().index)\n",
    "print(data_2007_2[c].value_counts().sort_index())\n",
    "print(missing_data(data_2007_2[c]))"
   ]
  },
  {
   "cell_type": "code",
   "execution_count": 138,
   "metadata": {
    "collapsed": false,
    "scrolled": true
   },
   "outputs": [
    {
     "name": "stdout",
     "output_type": "stream",
     "text": [
      "Index(['AMAZONAS', 'ANTIOQUIA', 'ARAUCA', 'ATLÁNTICO', 'BOGOTÁ', 'BOLÍVAR',\n",
      "       'BOYACÁ', 'CALDAS', 'CAQUETÁ', 'CASANARE', 'CAUCA', 'CESAR', 'CHOCÓ',\n",
      "       'CUNDINAMARCA', 'CÓRDOBA', 'GUAINÍA', 'GUAVIARE', 'HUILA', 'LA GUAJIRA',\n",
      "       'MAGDALENA', 'META', 'NARIÑO', 'NORTE SANTANDER', 'PUTUMAYO', 'QUINDÍO',\n",
      "       'RISARALDA', 'SAN ANDRÉS', 'SANTANDER', 'SUCRE', 'TOLIMA', 'VALLE',\n",
      "       'VAUPÉS', 'VICHADA'],\n",
      "      dtype='object')\n",
      "AMAZONAS             714\n",
      "ANTIOQUIA          66778\n",
      "ARAUCA              2424\n",
      "ATLÁNTICO          28009\n",
      "BOGOTÁ             93768\n",
      "BOLÍVAR            22917\n",
      "BOYACÁ             16383\n",
      "CALDAS             10693\n",
      "CAQUETÁ             3177\n",
      "CASANARE            3570\n",
      "CAUCA               9202\n",
      "CESAR              11043\n",
      "CHOCÓ               3683\n",
      "CUNDINAMARCA       30661\n",
      "CÓRDOBA            16229\n",
      "GUAINÍA              147\n",
      "GUAVIARE             494\n",
      "HUILA              10086\n",
      "LA GUAJIRA          6320\n",
      "MAGDALENA          12549\n",
      "META                8832\n",
      "NARIÑO               397\n",
      "NORTE SANTANDER    14970\n",
      "PUTUMAYO            2056\n",
      "QUINDÍO             6336\n",
      "RISARALDA           9700\n",
      "SAN ANDRÉS           772\n",
      "SANTANDER          23887\n",
      "SUCRE              10567\n",
      "TOLIMA             15652\n",
      "VALLE               1935\n",
      "VAUPÉS               170\n",
      "VICHADA              415\n",
      "Name: ESTU_RESIDE_DEPTO, dtype: int64\n",
      "Elementos null/NaN 177\n",
      "__________________\n",
      "Elementos diferentes de null/NaN: 444536\n",
      "__________________\n",
      "(444536,)\n",
      "None\n"
     ]
    }
   ],
   "source": [
    "c = 'ESTU_RESIDE_DEPTO'\n",
    "print(data_2007_2[c].value_counts().sort_index().index)\n",
    "print(data_2007_2[c].value_counts().sort_index())\n",
    "print(missing_data(data_2007_2[c]))"
   ]
  },
  {
   "cell_type": "code",
   "execution_count": 139,
   "metadata": {
    "collapsed": false
   },
   "outputs": [
    {
     "name": "stdout",
     "output_type": "stream",
     "text": [
      "Float64Index([1.0, 2.0, 3.0, 4.0, 5.0, 6.0, 7.0, 8.0, 9.0, 10.0], dtype='float64')\n",
      "1      19072\n",
      "2       3286\n",
      "3      11965\n",
      "4      45428\n",
      "5      16620\n",
      "6       9421\n",
      "7       9983\n",
      "8      25989\n",
      "9      18399\n",
      "10    284365\n",
      "Name: ESTU_ZONA_RESIDE, dtype: int64\n",
      "Elementos null/NaN 185\n",
      "__________________\n",
      "Elementos diferentes de null/NaN: 444528\n",
      "__________________\n",
      "(444528,)\n",
      "None\n"
     ]
    }
   ],
   "source": [
    "c = 'ESTU_ZONA_RESIDE'\n",
    "print(data_2007_2[c].value_counts().sort_index().index)\n",
    "print(data_2007_2[c].value_counts().sort_index())\n",
    "print(missing_data(data_2007_2[c]))"
   ]
  },
  {
   "cell_type": "code",
   "execution_count": 140,
   "metadata": {
    "collapsed": false
   },
   "outputs": [
    {
     "name": "stdout",
     "output_type": "stream",
     "text": [
      "Float64Index([1.0, 2.0], dtype='float64')\n",
      "1    15258\n",
      "2     3768\n",
      "Name: ESTU_AREA_RESIDE, dtype: int64\n",
      "Elementos null/NaN 425687\n",
      "__________________\n",
      "Elementos diferentes de null/NaN: 19026\n",
      "__________________\n",
      "(19026,)\n",
      "None\n"
     ]
    }
   ],
   "source": [
    "c = 'ESTU_AREA_RESIDE'\n",
    "print(data_2007_2[c].value_counts().sort_index().index)\n",
    "print(data_2007_2[c].value_counts().sort_index())\n",
    "print(missing_data(data_2007_2[c]))"
   ]
  },
  {
   "cell_type": "code",
   "execution_count": 141,
   "metadata": {
    "collapsed": false,
    "scrolled": true
   },
   "outputs": [
    {
     "name": "stdout",
     "output_type": "stream",
     "text": [
      "Index(['ABEJORRAL', 'ABREGO', 'ACACIAS', 'ACANDI', 'ACHI', 'AGUACHICA',\n",
      "       'AGUADAS', 'AGUAZUL', 'AGUSTIN CODAZZI', 'AIPE',\n",
      "       ...\n",
      "       'VILLAVICENCIO', 'VILLETA', 'VIOTA', 'YARUMAL', 'YAVARATE', 'YOLOMBO',\n",
      "       'YOPAL', 'ZAPATOCA', 'ZARAGOZA', 'ZIPAQUIRA'],\n",
      "      dtype='object', length=359)\n",
      "ABEJORRAL                     158\n",
      "ABREGO                        113\n",
      "ACACIAS                      1085\n",
      "ACANDI                         50\n",
      "ACHI                          197\n",
      "AGUACHICA                    1348\n",
      "AGUADAS                       230\n",
      "AGUAZUL                       442\n",
      "AGUSTIN CODAZZI               590\n",
      "AIPE                          150\n",
      "ALTO BAUDO (PIE DE PATO)       32\n",
      "AMAGA                         699\n",
      "AMALFI                        309\n",
      "ANDES                         726\n",
      "ANOLAIMA                      236\n",
      "ANSERMA                       680\n",
      "APARTADO                     1732\n",
      "ARACATACA                     366\n",
      "ARAUCA                       1020\n",
      "ARAUQUITA                     253\n",
      "ARBELAEZ                      172\n",
      "ARBOLEDAS                     101\n",
      "ARBOLETES                     440\n",
      "ARIGUANI (EL DIFICIL)         241\n",
      "ARJONA                        718\n",
      "ARMENIA                      4416\n",
      "ASTREA                        213\n",
      "ATRATO (YUTO)                  76\n",
      "AYAPEL                        428\n",
      "BAGADO                         64\n",
      "                             ... \n",
      "TUMACO                         56\n",
      "TUNJA                        3945\n",
      "TURBACO                       967\n",
      "TURBO                        1218\n",
      "TURMEQUE                      271\n",
      "TUTA                          116\n",
      "UBATE                        1116\n",
      "UNGUIA                         70\n",
      "URRAO                         477\n",
      "VALLEDUPAR                   5741\n",
      "VEGACHI                       148\n",
      "VELEZ                         519\n",
      "VENADILLO                     194\n",
      "VENTAQUEMADA                  130\n",
      "VIGIA DEL FUERTE               74\n",
      "VILLA DE LEYVA                238\n",
      "VILLA DEL ROSARIO             746\n",
      "VILLA GUAMEZ (LA HORMIGA)     363\n",
      "VILLAGARZON                   125\n",
      "VILLANUEVA                    829\n",
      "VILLAVICENCIO                5681\n",
      "VILLETA                       883\n",
      "VIOTA                         148\n",
      "YARUMAL                       749\n",
      "YAVARATE                       11\n",
      "YOLOMBO                       235\n",
      "YOPAL                        1705\n",
      "ZAPATOCA                      111\n",
      "ZARAGOZA                      161\n",
      "ZIPAQUIRA                    2751\n",
      "Name: ESTU_MCPIO_PRESENTACION, dtype: int64\n",
      "Elementos null/NaN 0\n",
      "__________________\n",
      "Elementos diferentes de null/NaN: 444713\n",
      "__________________\n",
      "(444713,)\n",
      "None\n"
     ]
    }
   ],
   "source": [
    "c = 'ESTU_MCPIO_PRESENTACION'\n",
    "print(data_2007_2[c].value_counts().sort_index().index)\n",
    "print(data_2007_2[c].value_counts().sort_index())\n",
    "print(missing_data(data_2007_2[c]))"
   ]
  },
  {
   "cell_type": "code",
   "execution_count": 142,
   "metadata": {
    "collapsed": false,
    "scrolled": true
   },
   "outputs": [
    {
     "name": "stdout",
     "output_type": "stream",
     "text": [
      "Index(['AMAZONAS', 'ANTIOQUIA', 'ARAUCA', 'ATLÁNTICO', 'BOGOTÁ', 'BOLÍVAR',\n",
      "       'BOYACÁ', 'CALDAS', 'CAQUETÁ', 'CASANARE', 'CAUCA', 'CESAR', 'CHOCÓ',\n",
      "       'CUNDINAMARCA', 'CÓRDOBA', 'GUAINÍA', 'GUAVIARE', 'HUILA', 'LA GUAJIRA',\n",
      "       'MAGDALENA', 'META', 'NARIÑO', 'NORTE SANTANDER', 'PUTUMAYO', 'QUINDÍO',\n",
      "       'RISARALDA', 'SAN ANDRÉS', 'SANTANDER', 'SUCRE', 'TOLIMA', 'VALLE',\n",
      "       'VAUPÉS', 'VICHADA'],\n",
      "      dtype='object')\n",
      "AMAZONAS             725\n",
      "ANTIOQUIA          66511\n",
      "ARAUCA              2527\n",
      "ATLÁNTICO          28488\n",
      "BOGOTÁ             93502\n",
      "BOLÍVAR            22203\n",
      "BOYACÁ             17097\n",
      "CALDAS             11128\n",
      "CAQUETÁ             3210\n",
      "CASANARE            3581\n",
      "CAUCA               9340\n",
      "CESAR              11226\n",
      "CHOCÓ               3697\n",
      "CUNDINAMARCA       29918\n",
      "CÓRDOBA            16236\n",
      "GUAINÍA              149\n",
      "GUAVIARE             533\n",
      "HUILA              10194\n",
      "LA GUAJIRA          6325\n",
      "MAGDALENA          12342\n",
      "META                8973\n",
      "NARIÑO               309\n",
      "NORTE SANTANDER    15076\n",
      "PUTUMAYO            2128\n",
      "QUINDÍO             6387\n",
      "RISARALDA           9694\n",
      "SAN ANDRÉS           776\n",
      "SANTANDER          24311\n",
      "SUCRE              10633\n",
      "TOLIMA             15202\n",
      "VALLE               1698\n",
      "VAUPÉS               170\n",
      "VICHADA              424\n",
      "Name: ESTU_DEPTO_PRESENTACION, dtype: int64\n",
      "Elementos null/NaN 0\n",
      "__________________\n",
      "Elementos diferentes de null/NaN: 444713\n",
      "__________________\n",
      "(444713,)\n",
      "None\n"
     ]
    }
   ],
   "source": [
    "c = 'ESTU_DEPTO_PRESENTACION'\n",
    "print(data_2007_2[c].value_counts().sort_index().index)\n",
    "print(data_2007_2[c].value_counts().sort_index())\n",
    "print(missing_data(data_2007_2[c]))"
   ]
  },
  {
   "cell_type": "code",
   "execution_count": 143,
   "metadata": {
    "collapsed": false
   },
   "outputs": [
    {
     "name": "stdout",
     "output_type": "stream",
     "text": [
      "Index(['EXAMEN DE ESTADO 2007-2'], dtype='object')\n",
      "EXAMEN DE ESTADO 2007-2    444713\n",
      "Name: ESTU_EXAM_NOMBREEXAMEN, dtype: int64\n",
      "Elementos null/NaN 0\n",
      "__________________\n",
      "Elementos diferentes de null/NaN: 444713\n",
      "__________________\n",
      "(444713,)\n",
      "None\n"
     ]
    }
   ],
   "source": [
    "c = 'ESTU_EXAM_NOMBREEXAMEN'\n",
    "print(data_2007_2[c].value_counts().sort_index().index)\n",
    "print(data_2007_2[c].value_counts().sort_index())\n",
    "print(missing_data(data_2007_2[c]))"
   ]
  },
  {
   "cell_type": "code",
   "execution_count": 144,
   "metadata": {
    "collapsed": true
   },
   "outputs": [],
   "source": [
    "data_2007_2 = data_2007_2.drop([c], axis=1)"
   ]
  },
  {
   "cell_type": "code",
   "execution_count": 145,
   "metadata": {
    "collapsed": false
   },
   "outputs": [
    {
     "name": "stdout",
     "output_type": "stream",
     "text": [
      "Float64Index([0.0, 1.0], dtype='float64')\n",
      "0     16409\n",
      "1    428279\n",
      "Name: IND_ESTUDIO_BACHILLERATO, dtype: int64\n",
      "Elementos null/NaN 25\n",
      "__________________\n",
      "Elementos diferentes de null/NaN: 444688\n",
      "__________________\n",
      "(444688,)\n",
      "None\n"
     ]
    }
   ],
   "source": [
    "c = 'IND_ESTUDIO_BACHILLERATO'\n",
    "print(data_2007_2[c].value_counts().sort_index().index)\n",
    "print(data_2007_2[c].value_counts().sort_index())\n",
    "print(missing_data(data_2007_2[c]))"
   ]
  },
  {
   "cell_type": "code",
   "execution_count": 146,
   "metadata": {
    "collapsed": false,
    "scrolled": true
   },
   "outputs": [
    {
     "name": "stdout",
     "output_type": "stream",
     "text": [
      "Float64Index([1992.0, 1993.0, 1994.0, 1995.0, 1996.0, 1997.0, 1998.0, 1999.0,\n",
      "              2000.0, 2001.0, 2003.0, 2004.0, 2005.0, 2006.0, 2007.0, 2008.0,\n",
      "              2009.0, 2010.0, 2011.0, 9999.0],\n",
      "             dtype='float64')\n",
      "1992         1\n",
      "1993         1\n",
      "1994         1\n",
      "1995         1\n",
      "1996         1\n",
      "1997         2\n",
      "1998         2\n",
      "1999         1\n",
      "2000         1\n",
      "2001         1\n",
      "2003         3\n",
      "2004         1\n",
      "2005        13\n",
      "2006        29\n",
      "2007    441700\n",
      "2008      2717\n",
      "2009       168\n",
      "2010        24\n",
      "2011         6\n",
      "9999         1\n",
      "Name: IND_ANNO_TERMINO_BACHILLERATO, dtype: int64\n",
      "Elementos null/NaN 39\n",
      "__________________\n",
      "Elementos diferentes de null/NaN: 444674\n",
      "__________________\n",
      "(444674,)\n",
      "None\n"
     ]
    }
   ],
   "source": [
    "c = 'IND_ANNO_TERMINO_BACHILLERATO'\n",
    "print(data_2007_2[c].value_counts().sort_index().index)\n",
    "print(data_2007_2[c].value_counts().sort_index())\n",
    "print(missing_data(data_2007_2[c]))"
   ]
  },
  {
   "cell_type": "code",
   "execution_count": 147,
   "metadata": {
    "collapsed": true
   },
   "outputs": [],
   "source": [
    "for i in data_2007_2[c].value_counts().sort_index().index:\n",
    "    if i < 1930:\n",
    "        data_2007_2[c] = data_2007_2[c].replace(i, np.nan)\n",
    "    elif i > 2010:\n",
    "        data_2007_2[c] = data_2007_2[c].replace(i, np.nan)"
   ]
  },
  {
   "cell_type": "code",
   "execution_count": 148,
   "metadata": {
    "collapsed": false
   },
   "outputs": [
    {
     "name": "stdout",
     "output_type": "stream",
     "text": [
      "Float64Index([0.0, 1.0], dtype='float64')\n",
      "0      1\n",
      "1    667\n",
      "Name: IND_TERMINO_BACHILLERATO, dtype: int64\n",
      "Elementos null/NaN 444045\n",
      "__________________\n",
      "Elementos diferentes de null/NaN: 668\n",
      "__________________\n",
      "(668,)\n",
      "None\n"
     ]
    }
   ],
   "source": [
    "c = 'IND_TERMINO_BACHILLERATO'\n",
    "print(data_2007_2[c].value_counts().sort_index().index)\n",
    "print(data_2007_2[c].value_counts().sort_index())\n",
    "print(missing_data(data_2007_2[c]))"
   ]
  },
  {
   "cell_type": "code",
   "execution_count": 149,
   "metadata": {
    "collapsed": false,
    "scrolled": true
   },
   "outputs": [
    {
     "name": "stdout",
     "output_type": "stream",
     "text": [
      "Float64Index([     2.0,      3.0,     18.0,     59.0,     67.0,     75.0,\n",
      "                  83.0,     91.0,    125.0,    141.0,\n",
      "              ...\n",
      "              172650.0, 172726.0, 173732.0, 173948.0, 174714.0, 175307.0,\n",
      "              175315.0, 175505.0, 176354.0, 999999.0],\n",
      "             dtype='float64', length=8780)\n",
      "2            6\n",
      "3          371\n",
      "18          17\n",
      "59        1109\n",
      "67           2\n",
      "75          72\n",
      "83          27\n",
      "91          92\n",
      "125         69\n",
      "141        104\n",
      "174        110\n",
      "190         71\n",
      "208         90\n",
      "216         43\n",
      "232         49\n",
      "240         59\n",
      "257         65\n",
      "265         10\n",
      "273         48\n",
      "281         77\n",
      "315        163\n",
      "349         31\n",
      "356         24\n",
      "364         62\n",
      "372         66\n",
      "380        135\n",
      "398         37\n",
      "406         26\n",
      "422         23\n",
      "430        105\n",
      "          ... \n",
      "167403       1\n",
      "167650       1\n",
      "167882       1\n",
      "168344       3\n",
      "168690       1\n",
      "168963       1\n",
      "168971       1\n",
      "169102       1\n",
      "169276       1\n",
      "169607       1\n",
      "169698       1\n",
      "169748       1\n",
      "169904       1\n",
      "170050       1\n",
      "170365       2\n",
      "170472       1\n",
      "170480       2\n",
      "170779       1\n",
      "171918       1\n",
      "172064       1\n",
      "172650       1\n",
      "172726       1\n",
      "173732       1\n",
      "173948       1\n",
      "174714       2\n",
      "175307       1\n",
      "175315       1\n",
      "175505       1\n",
      "176354       1\n",
      "999999     692\n",
      "Name: IND_COD_ICFES_TERMINO, dtype: int64\n",
      "Elementos null/NaN 1008\n",
      "__________________\n",
      "Elementos diferentes de null/NaN: 443705\n",
      "__________________\n",
      "(443705,)\n",
      "None\n"
     ]
    }
   ],
   "source": [
    "c = 'IND_COD_ICFES_TERMINO'\n",
    "print(data_2007_2[c].value_counts().sort_index().index)\n",
    "print(data_2007_2[c].value_counts().sort_index())\n",
    "print(missing_data(data_2007_2[c]))"
   ]
  },
  {
   "cell_type": "code",
   "execution_count": 150,
   "metadata": {
    "collapsed": false,
    "scrolled": true
   },
   "outputs": [
    {
     "name": "stdout",
     "output_type": "stream",
     "text": [
      "Int64Index([    18,     59,     75,     83,     91,    125,    141,    174,\n",
      "               190,    208,\n",
      "            ...\n",
      "            135525, 135533, 135541, 135566, 135574, 135590, 135616, 135640,\n",
      "            135673, 135707],\n",
      "           dtype='int64', length=8358)\n",
      "18          17\n",
      "59        1116\n",
      "75          72\n",
      "83          27\n",
      "91          92\n",
      "125         69\n",
      "141        104\n",
      "174        109\n",
      "190         72\n",
      "208         91\n",
      "216         43\n",
      "232         50\n",
      "240         61\n",
      "257         66\n",
      "265         11\n",
      "273         48\n",
      "281         78\n",
      "315        163\n",
      "349         31\n",
      "356         24\n",
      "364         62\n",
      "372         67\n",
      "380        135\n",
      "398         37\n",
      "406         26\n",
      "422         23\n",
      "430        105\n",
      "448         27\n",
      "455        101\n",
      "463        157\n",
      "          ... \n",
      "135269      11\n",
      "135277      18\n",
      "135293      12\n",
      "135301      18\n",
      "135319      31\n",
      "135327      26\n",
      "135335       8\n",
      "135350       8\n",
      "135376      20\n",
      "135418      22\n",
      "135426      14\n",
      "135434      43\n",
      "135442       8\n",
      "135459      53\n",
      "135467      15\n",
      "135475      17\n",
      "135483      14\n",
      "135491      31\n",
      "135509      12\n",
      "135517      13\n",
      "135525      29\n",
      "135533      10\n",
      "135541       5\n",
      "135566       7\n",
      "135574       4\n",
      "135590      10\n",
      "135616      32\n",
      "135640      14\n",
      "135673       9\n",
      "135707       3\n",
      "Name: COLE_COD_ICFES, dtype: int64\n",
      "Elementos null/NaN 0\n",
      "__________________\n",
      "Elementos diferentes de null/NaN: 444713\n",
      "__________________\n",
      "(444713,)\n",
      "None\n"
     ]
    }
   ],
   "source": [
    "c = 'COLE_COD_ICFES'\n",
    "print(data_2007_2[c].value_counts().sort_index().index)\n",
    "print(data_2007_2[c].value_counts().sort_index())\n",
    "print(missing_data(data_2007_2[c]))"
   ]
  },
  {
   "cell_type": "code",
   "execution_count": 151,
   "metadata": {
    "collapsed": true
   },
   "outputs": [],
   "source": [
    "for i in data_2007_2[c].value_counts().sort_index().index:\n",
    "    if len(str(i)) < 4:\n",
    "        data_2007_2[c] = data_2007_2[c].replace(i, np.nan)"
   ]
  },
  {
   "cell_type": "code",
   "execution_count": 152,
   "metadata": {
    "collapsed": false,
    "scrolled": true
   },
   "outputs": [
    {
     "name": "stdout",
     "output_type": "stream",
     "text": [
      "Index(['            ', '111001024732',   105001000108, '111001019411',\n",
      "       '105001013340', '168001003591', '111001010839', '113001003274',\n",
      "       '111279000362', '108758000031',\n",
      "       ...\n",
      "       '115407000023', '305001011516', '305266001407',   305001025592,\n",
      "         111001009521, '313001001076', '313001000541',   205615000508,\n",
      "         625126000093,   205690000319],\n",
      "      dtype='object', length=7617)\n",
      "                2293\n",
      "111001024732    1037\n",
      "105001000108     969\n",
      "111001019411     891\n",
      "105001013340     882\n",
      "168001003591     679\n",
      "111001010839     636\n",
      "113001003274     606\n",
      "111279000362     598\n",
      "108758000031     591\n",
      "173001001053     565\n",
      "168001000444     561\n",
      "111001011690     552\n",
      "113001000852     538\n",
      "313001006701     533\n",
      "105154000301     532\n",
      "305001004293     525\n",
      "173001000308     516\n",
      "166001002339     508\n",
      "111001083011     495\n",
      "111001011819     493\n",
      "311001004820     491\n",
      "111001011070     485\n",
      "111001010910     482\n",
      "111001006122     478\n",
      "111848003031     474\n",
      "125754003267     473\n",
      "111102000753     473\n",
      "154001000079     470\n",
      "105001024073     470\n",
      "                ... \n",
      "311769001927       1\n",
      "305001025177       1\n",
      "311001001618       1\n",
      "347001051954       1\n",
      "305001024057       1\n",
      "305887000412       1\n",
      "105615000236       1\n",
      "308758076517       1\n",
      "127787000029       1\n",
      "105308000253       1\n",
      "368755000253       1\n",
      "305615000987       1\n",
      "111001001538       1\n",
      "225151000195       1\n",
      "108549000075       1\n",
      "354001004677       1\n",
      "205674000350       1\n",
      "405615001180       1\n",
      "273283000521       1\n",
      "305376000198       1\n",
      "115407000023       1\n",
      "305001011516       1\n",
      "305266001407       1\n",
      "305001025592       1\n",
      "111001009521       1\n",
      "313001001076       1\n",
      "313001000541       1\n",
      "205615000508       1\n",
      "625126000093       1\n",
      "205690000319       1\n",
      "Name: COLE_COD_DANE_INSTITUCION, dtype: int64\n",
      "Elementos null/NaN 0\n",
      "__________________\n",
      "Elementos diferentes de null/NaN: 444713\n",
      "__________________\n",
      "(444713,)\n",
      "None\n"
     ]
    }
   ],
   "source": [
    "c = 'COLE_COD_DANE_INSTITUCION'\n",
    "print(data_2007_2[c].value_counts().index)\n",
    "print(data_2007_2[c].value_counts())\n",
    "print(missing_data(data_2007_2[c]))"
   ]
  },
  {
   "cell_type": "code",
   "execution_count": 153,
   "metadata": {
    "collapsed": true
   },
   "outputs": [],
   "source": [
    "data_2007_2[c] = data_2007_2[c].replace('            ', np.nan)\n",
    "for i in data_2007_2[c].value_counts().index:\n",
    "    if type(i) == str:\n",
    "        data_2007_2[c] = data_2007_2[c].replace(i, float(i))"
   ]
  },
  {
   "cell_type": "code",
   "execution_count": 154,
   "metadata": {
    "collapsed": false
   },
   "outputs": [
    {
     "name": "stdout",
     "output_type": "stream",
     "text": [
      "Index(['A', 'B', 'F'], dtype='object')\n",
      "A    391617\n",
      "B       398\n",
      "F     52698\n",
      "Name: COLE_CALENDARIO, dtype: int64\n",
      "Elementos null/NaN 0\n",
      "__________________\n",
      "Elementos diferentes de null/NaN: 444713\n",
      "__________________\n",
      "(444713,)\n",
      "None\n"
     ]
    }
   ],
   "source": [
    "c = 'COLE_CALENDARIO'\n",
    "print(data_2007_2[c].value_counts().sort_index().index)\n",
    "print(data_2007_2[c].value_counts().sort_index())\n",
    "print(missing_data(data_2007_2[c]))"
   ]
  },
  {
   "cell_type": "code",
   "execution_count": 155,
   "metadata": {
    "collapsed": false
   },
   "outputs": [
    {
     "name": "stdout",
     "output_type": "stream",
     "text": [
      "Index(['F', 'M', 'X'], dtype='object')\n",
      "F     26352\n",
      "M      6996\n",
      "X    411365\n",
      "Name: COLE_GENERO, dtype: int64\n",
      "Elementos null/NaN 0\n",
      "__________________\n",
      "Elementos diferentes de null/NaN: 444713\n",
      "__________________\n",
      "(444713,)\n",
      "None\n"
     ]
    }
   ],
   "source": [
    "c = 'COLE_GENERO'\n",
    "print(data_2007_2[c].value_counts().sort_index().index)\n",
    "print(data_2007_2[c].value_counts().sort_index())\n",
    "print(missing_data(data_2007_2[c]))"
   ]
  },
  {
   "cell_type": "code",
   "execution_count": 156,
   "metadata": {
    "collapsed": false
   },
   "outputs": [
    {
     "name": "stdout",
     "output_type": "stream",
     "text": [
      "Index(['N', 'O'], dtype='object')\n",
      "N    115221\n",
      "O    329492\n",
      "Name: COLE_NATURALEZA, dtype: int64\n",
      "Elementos null/NaN 0\n",
      "__________________\n",
      "Elementos diferentes de null/NaN: 444713\n",
      "__________________\n",
      "(444713,)\n",
      "None\n"
     ]
    }
   ],
   "source": [
    "c = 'COLE_NATURALEZA'\n",
    "print(data_2007_2[c].value_counts().sort_index().index)\n",
    "print(data_2007_2[c].value_counts().sort_index())\n",
    "print(missing_data(data_2007_2[c]))"
   ]
  },
  {
   "cell_type": "code",
   "execution_count": 157,
   "metadata": {
    "collapsed": false
   },
   "outputs": [
    {
     "name": "stdout",
     "output_type": "stream",
     "text": [
      "Float64Index([0.0, 1.0], dtype='float64')\n",
      "0    412845\n",
      "1      3136\n",
      "Name: COLE_BILINGUE, dtype: int64\n",
      "Elementos null/NaN 28732\n",
      "__________________\n",
      "Elementos diferentes de null/NaN: 415981\n",
      "__________________\n",
      "(415981,)\n",
      "None\n"
     ]
    }
   ],
   "source": [
    "c = 'COLE_BILINGUE'\n",
    "print(data_2007_2[c].value_counts().sort_index().index)\n",
    "print(data_2007_2[c].value_counts().sort_index())\n",
    "print(missing_data(data_2007_2[c]))"
   ]
  },
  {
   "cell_type": "code",
   "execution_count": 158,
   "metadata": {
    "collapsed": false
   },
   "outputs": [
    {
     "name": "stdout",
     "output_type": "stream",
     "text": [
      "Index(['COMPLETA U ORDINARIA', 'MAÑANA', 'NOCHE', 'SABATINA - DOMINICAL',\n",
      "       'TARDE'],\n",
      "      dtype='object')\n",
      "COMPLETA U ORDINARIA     90649\n",
      "MAÑANA                  223641\n",
      "NOCHE                    30356\n",
      "SABATINA - DOMINICAL     12379\n",
      "TARDE                    87688\n",
      "Name: COLE_JORNADA, dtype: int64\n",
      "Elementos null/NaN 0\n",
      "__________________\n",
      "Elementos diferentes de null/NaN: 444713\n",
      "__________________\n",
      "(444713,)\n",
      "None\n"
     ]
    }
   ],
   "source": [
    "c = 'COLE_JORNADA'\n",
    "print(data_2007_2[c].value_counts().sort_index().index)\n",
    "print(data_2007_2[c].value_counts().sort_index())\n",
    "print(missing_data(data_2007_2[c]))"
   ]
  },
  {
   "cell_type": "code",
   "execution_count": 159,
   "metadata": {
    "collapsed": false
   },
   "outputs": [
    {
     "name": "stdout",
     "output_type": "stream",
     "text": [
      "Index(['ACADEMICO', 'ACADEMICO Y TECNICO', 'DESCONOCIDO', 'NORMALISTA',\n",
      "       'TECNICO'],\n",
      "      dtype='object')\n",
      "ACADEMICO              267672\n",
      "ACADEMICO Y TECNICO     88020\n",
      "DESCONOCIDO               186\n",
      "NORMALISTA              10853\n",
      "TECNICO                 77982\n",
      "Name: COLE_CARACTER, dtype: int64\n",
      "Elementos null/NaN 0\n",
      "__________________\n",
      "Elementos diferentes de null/NaN: 444713\n",
      "__________________\n",
      "(444713,)\n",
      "None\n"
     ]
    }
   ],
   "source": [
    "c = 'COLE_CARACTER'\n",
    "print(data_2007_2[c].value_counts().sort_index().index)\n",
    "print(data_2007_2[c].value_counts().sort_index())\n",
    "print(missing_data(data_2007_2[c]))"
   ]
  },
  {
   "cell_type": "code",
   "execution_count": 160,
   "metadata": {
    "collapsed": false,
    "scrolled": true
   },
   "outputs": [
    {
     "name": "stdout",
     "output_type": "stream",
     "text": [
      "Float64Index([ 1.0,  2.0,  3.0,  4.0,  5.0,  6.0,  7.0,  8.0,  9.0, 10.0, 11.0,\n",
      "              12.0, 13.0, 14.0, 15.0, 16.0, 17.0, 99.0],\n",
      "             dtype='float64')\n",
      "1      8458\n",
      "2       684\n",
      "3       852\n",
      "4       191\n",
      "5        87\n",
      "6       304\n",
      "7       144\n",
      "8       443\n",
      "9       732\n",
      "10     1394\n",
      "11       67\n",
      "12      162\n",
      "13      101\n",
      "14       48\n",
      "15       93\n",
      "16       73\n",
      "17        1\n",
      "99    15995\n",
      "Name: ESTU_ETNIA, dtype: int64\n",
      "Elementos null/NaN 414884\n",
      "__________________\n",
      "Elementos diferentes de null/NaN: 29829\n",
      "__________________\n",
      "(29829,)\n",
      "None\n"
     ]
    }
   ],
   "source": [
    "c = 'ESTU_ETNIA'\n",
    "print(data_2007_2[c].value_counts().sort_index().index)\n",
    "print(data_2007_2[c].value_counts().sort_index())\n",
    "print(missing_data(data_2007_2[c]))"
   ]
  },
  {
   "cell_type": "code",
   "execution_count": 161,
   "metadata": {
    "collapsed": false
   },
   "outputs": [
    {
     "name": "stdout",
     "output_type": "stream",
     "text": [
      "Float64Index([0.0, 1.0], dtype='float64')\n",
      "0     134\n",
      "1    6568\n",
      "Name: FAMI_LEE_ESCRIBE_PADRE, dtype: int64\n",
      "Elementos null/NaN 438011\n",
      "__________________\n",
      "Elementos diferentes de null/NaN: 6702\n",
      "__________________\n",
      "(6702,)\n",
      "None\n"
     ]
    }
   ],
   "source": [
    "c = 'FAMI_LEE_ESCRIBE_PADRE'\n",
    "print(data_2007_2[c].value_counts().sort_index().index)\n",
    "print(data_2007_2[c].value_counts().sort_index())\n",
    "print(missing_data(data_2007_2[c]))"
   ]
  },
  {
   "cell_type": "code",
   "execution_count": 162,
   "metadata": {
    "collapsed": false
   },
   "outputs": [
    {
     "name": "stdout",
     "output_type": "stream",
     "text": [
      "Float64Index([0.0, 1.0], dtype='float64')\n",
      "0      93\n",
      "1    6609\n",
      "Name: FAMI_LEE_ESCRIBE_MADRE, dtype: int64\n",
      "Elementos null/NaN 438011\n",
      "__________________\n",
      "Elementos diferentes de null/NaN: 6702\n",
      "__________________\n",
      "(6702,)\n",
      "None\n"
     ]
    }
   ],
   "source": [
    "c = 'FAMI_LEE_ESCRIBE_MADRE'\n",
    "print(data_2007_2[c].value_counts().sort_index().index)\n",
    "print(data_2007_2[c].value_counts().sort_index())\n",
    "print(missing_data(data_2007_2[c]))"
   ]
  },
  {
   "cell_type": "code",
   "execution_count": 163,
   "metadata": {
    "collapsed": false,
    "scrolled": true
   },
   "outputs": [
    {
     "name": "stdout",
     "output_type": "stream",
     "text": [
      "Float64Index([ 0.0,  1.0,  2.0,  3.0,  4.0,  5.0,  6.0,  7.0,  8.0,  9.0, 10.0,\n",
      "              11.0, 12.0, 13.0, 14.0, 15.0, 16.0, 17.0, 99.0],\n",
      "             dtype='float64')\n",
      "0      781\n",
      "1       11\n",
      "2       33\n",
      "3       17\n",
      "4       13\n",
      "5       14\n",
      "6        5\n",
      "7        4\n",
      "8        2\n",
      "9     3292\n",
      "10    2951\n",
      "11    2552\n",
      "12    3800\n",
      "13     349\n",
      "14     940\n",
      "15     425\n",
      "16    1898\n",
      "17     711\n",
      "99     375\n",
      "Name: FAMI_EDUCA_PADRE, dtype: int64\n",
      "Elementos null/NaN 426540\n",
      "__________________\n",
      "Elementos diferentes de null/NaN: 18173\n",
      "__________________\n",
      "(18173,)\n",
      "None\n"
     ]
    }
   ],
   "source": [
    "c = 'FAMI_EDUCA_PADRE'\n",
    "print(data_2007_2[c].value_counts().sort_index().index)\n",
    "print(data_2007_2[c].value_counts().sort_index())\n",
    "print(missing_data(data_2007_2[c]))"
   ]
  },
  {
   "cell_type": "code",
   "execution_count": 164,
   "metadata": {
    "collapsed": false,
    "scrolled": true
   },
   "outputs": [
    {
     "name": "stdout",
     "output_type": "stream",
     "text": [
      "Float64Index([ 0.0,  1.0,  2.0,  3.0,  4.0,  5.0,  6.0,  7.0,  8.0,  9.0, 10.0,\n",
      "              11.0, 12.0, 13.0, 14.0, 15.0, 16.0, 17.0, 99.0],\n",
      "             dtype='float64')\n",
      "0      402\n",
      "1        4\n",
      "2       30\n",
      "3       18\n",
      "4       18\n",
      "5       18\n",
      "6        1\n",
      "7        8\n",
      "8        1\n",
      "9     2797\n",
      "10    2852\n",
      "11    3019\n",
      "12    4293\n",
      "13     428\n",
      "14    1210\n",
      "15     453\n",
      "16    1736\n",
      "17     629\n",
      "99     257\n",
      "Name: FAMI_EDUCA_MADRE, dtype: int64\n",
      "Elementos null/NaN 426539\n",
      "__________________\n",
      "Elementos diferentes de null/NaN: 18174\n",
      "__________________\n",
      "(18174,)\n",
      "None\n"
     ]
    }
   ],
   "source": [
    "c = 'FAMI_EDUCA_MADRE'\n",
    "print(data_2007_2[c].value_counts().sort_index().index)\n",
    "print(data_2007_2[c].value_counts().sort_index())\n",
    "print(missing_data(data_2007_2[c]))"
   ]
  },
  {
   "cell_type": "code",
   "execution_count": 165,
   "metadata": {
    "collapsed": false,
    "scrolled": true
   },
   "outputs": [
    {
     "name": "stdout",
     "output_type": "stream",
     "text": [
      "Float64Index([ 1.0,  2.0,  4.0,  5.0,  6.0,  7.0,  8.0,  9.0, 10.0, 11.0, 12.0,\n",
      "              13.0, 14.0, 15.0, 16.0, 17.0, 18.0, 19.0, 20.0, 21.0, 22.0, 23.0,\n",
      "              24.0, 25.0, 26.0, 99.0],\n",
      "             dtype='float64')\n",
      "1        2\n",
      "2        4\n",
      "4        1\n",
      "5        8\n",
      "6        3\n",
      "7       19\n",
      "8        3\n",
      "9       37\n",
      "10       3\n",
      "11       6\n",
      "12      20\n",
      "13     539\n",
      "14    1747\n",
      "15     451\n",
      "16     612\n",
      "17    1096\n",
      "18     743\n",
      "19    2444\n",
      "20    1111\n",
      "21    5111\n",
      "22     329\n",
      "23    1039\n",
      "24      15\n",
      "25      10\n",
      "26    2305\n",
      "99     517\n",
      "Name: FAMI_OCUPA_PADRE, dtype: int64\n",
      "Elementos null/NaN 426538\n",
      "__________________\n",
      "Elementos diferentes de null/NaN: 18175\n",
      "__________________\n",
      "(18175,)\n",
      "None\n"
     ]
    }
   ],
   "source": [
    "c = 'FAMI_OCUPA_PADRE'\n",
    "print(data_2007_2[c].value_counts().sort_index().index)\n",
    "print(data_2007_2[c].value_counts().sort_index())\n",
    "print(missing_data(data_2007_2[c]))"
   ]
  },
  {
   "cell_type": "code",
   "execution_count": 166,
   "metadata": {
    "collapsed": false,
    "scrolled": true
   },
   "outputs": [
    {
     "name": "stdout",
     "output_type": "stream",
     "text": [
      "Float64Index([ 1.0,  2.0,  3.0,  4.0,  5.0,  6.0,  7.0,  8.0,  9.0, 10.0, 12.0,\n",
      "              13.0, 14.0, 15.0, 16.0, 17.0, 18.0, 19.0, 20.0, 21.0, 22.0, 23.0,\n",
      "              24.0, 25.0, 26.0, 99.0],\n",
      "             dtype='float64')\n",
      "1        1\n",
      "2        4\n",
      "3        2\n",
      "4        3\n",
      "5        2\n",
      "6        8\n",
      "7        3\n",
      "8        1\n",
      "9       18\n",
      "10      55\n",
      "12      10\n",
      "13     272\n",
      "14     890\n",
      "15     248\n",
      "16     580\n",
      "17     917\n",
      "18     812\n",
      "19    1147\n",
      "20     545\n",
      "21    2082\n",
      "22    8502\n",
      "23     514\n",
      "24      17\n",
      "25      27\n",
      "26    1358\n",
      "99     158\n",
      "Name: FAMI_OCUPA_MADRE, dtype: int64\n",
      "Elementos null/NaN 426537\n",
      "__________________\n",
      "Elementos diferentes de null/NaN: 18176\n",
      "__________________\n",
      "(18176,)\n",
      "None\n"
     ]
    }
   ],
   "source": [
    "c = 'FAMI_OCUPA_MADRE'\n",
    "print(data_2007_2[c].value_counts().sort_index().index)\n",
    "print(data_2007_2[c].value_counts().sort_index())\n",
    "print(missing_data(data_2007_2[c]))"
   ]
  },
  {
   "cell_type": "code",
   "execution_count": 167,
   "metadata": {
    "collapsed": false,
    "scrolled": true
   },
   "outputs": [
    {
     "name": "stdout",
     "output_type": "stream",
     "text": [
      "Float64Index([0.0, 1.0, 2.0, 3.0, 4.0, 5.0, 6.0, 7.0, 8.0, 9.0, 10.0], dtype='float64')\n",
      "0      724\n",
      "1     1905\n",
      "2     2068\n",
      "3     1095\n",
      "4      513\n",
      "5      250\n",
      "6      108\n",
      "7       60\n",
      "8       45\n",
      "9       21\n",
      "10      30\n",
      "Name: FAMI_NUM_HERMANOS, dtype: int64\n",
      "Elementos null/NaN 437894\n",
      "__________________\n",
      "Elementos diferentes de null/NaN: 6819\n",
      "__________________\n",
      "(6819,)\n",
      "None\n"
     ]
    }
   ],
   "source": [
    "c = 'FAMI_NUM_HERMANOS'\n",
    "print(data_2007_2[c].value_counts().sort_index().index)\n",
    "print(data_2007_2[c].value_counts().sort_index())\n",
    "print(missing_data(data_2007_2[c]))"
   ]
  },
  {
   "cell_type": "code",
   "execution_count": 168,
   "metadata": {
    "collapsed": false
   },
   "outputs": [
    {
     "name": "stdout",
     "output_type": "stream",
     "text": [
      "Float64Index([1.0, 2.0, 3.0, 4.0, 5.0, 6.0, 7.0, 8.0, 9.0, 88.0, 99.0], dtype='float64')\n",
      "1      183\n",
      "2      285\n",
      "3      800\n",
      "4     1805\n",
      "5      245\n",
      "6      553\n",
      "7      734\n",
      "8      992\n",
      "9      136\n",
      "88    2223\n",
      "99     137\n",
      "Name: FAMI_EDUCA_HERMANO, dtype: int64\n",
      "Elementos null/NaN 436620\n",
      "__________________\n",
      "Elementos diferentes de null/NaN: 8093\n",
      "__________________\n",
      "(8093,)\n",
      "None\n"
     ]
    }
   ],
   "source": [
    "c = 'FAMI_EDUCA_HERMANO'\n",
    "print(data_2007_2[c].value_counts().sort_index().index)\n",
    "print(data_2007_2[c].value_counts().sort_index())\n",
    "print(missing_data(data_2007_2[c]))"
   ]
  },
  {
   "cell_type": "code",
   "execution_count": 169,
   "metadata": {
    "collapsed": false
   },
   "outputs": [
    {
     "name": "stdout",
     "output_type": "stream",
     "text": [
      "Float64Index([1.0, 2.0, 88.0], dtype='float64')\n",
      "1     3523\n",
      "2      316\n",
      "88    2257\n",
      "Name: FAMI_HERMANOS_ESTUDIAN, dtype: int64\n",
      "Elementos null/NaN 438617\n",
      "__________________\n",
      "Elementos diferentes de null/NaN: 6096\n",
      "__________________\n",
      "(6096,)\n",
      "None\n"
     ]
    }
   ],
   "source": [
    "c = 'FAMI_HERMANOS_ESTUDIAN'\n",
    "print(data_2007_2[c].value_counts().sort_index().index)\n",
    "print(data_2007_2[c].value_counts().sort_index())\n",
    "print(missing_data(data_2007_2[c]))"
   ]
  },
  {
   "cell_type": "code",
   "execution_count": 170,
   "metadata": {
    "collapsed": false
   },
   "outputs": [
    {
     "name": "stdout",
     "output_type": "stream",
     "text": [
      "Float64Index([1.0, 2.0, 3.0, 4.0, 5.0, 6.0, 8.0], dtype='float64')\n",
      "1    4204\n",
      "2    7371\n",
      "3    4662\n",
      "4    1202\n",
      "5     434\n",
      "6     236\n",
      "8      54\n",
      "Name: FAMI_ESTRATO_VIVIENDA, dtype: int64\n",
      "Elementos null/NaN 426550\n",
      "__________________\n",
      "Elementos diferentes de null/NaN: 18163\n",
      "__________________\n",
      "(18163,)\n",
      "None\n"
     ]
    }
   ],
   "source": [
    "c = 'FAMI_ESTRATO_VIVIENDA'\n",
    "print(data_2007_2[c].value_counts().sort_index().index)\n",
    "print(data_2007_2[c].value_counts().sort_index())\n",
    "print(missing_data(data_2007_2[c]))"
   ]
  },
  {
   "cell_type": "code",
   "execution_count": 171,
   "metadata": {
    "collapsed": true
   },
   "outputs": [],
   "source": [
    "data_2007_2[c] = data_2007_2[c].replace(8.0, np.nan)"
   ]
  },
  {
   "cell_type": "code",
   "execution_count": 172,
   "metadata": {
    "collapsed": false
   },
   "outputs": [
    {
     "name": "stdout",
     "output_type": "stream",
     "text": [
      "Float64Index([1.0, 2.0, 3.0, 4.0, 5.0], dtype='float64')\n",
      "1    5348\n",
      "2    4869\n",
      "3    1095\n",
      "4     256\n",
      "5    6596\n",
      "Name: FAMI_NIVEL_SISBEN, dtype: int64\n",
      "Elementos null/NaN 426549\n",
      "__________________\n",
      "Elementos diferentes de null/NaN: 18164\n",
      "__________________\n",
      "(18164,)\n",
      "None\n"
     ]
    }
   ],
   "source": [
    "c = 'FAMI_NIVEL_SISBEN'\n",
    "print(data_2007_2[c].value_counts().sort_index().index)\n",
    "print(data_2007_2[c].value_counts().sort_index())\n",
    "print(missing_data(data_2007_2[c]))"
   ]
  },
  {
   "cell_type": "code",
   "execution_count": 173,
   "metadata": {
    "collapsed": false
   },
   "outputs": [
    {
     "name": "stdout",
     "output_type": "stream",
     "text": [
      "Float64Index([1.0, 2.0, 3.0, 4.0, 5.0, 6.0, 7.0, 8.0, 9.0, 10.0, 11.0, 12.0], dtype='float64')\n",
      "1      303\n",
      "2     1289\n",
      "3     3377\n",
      "4     4972\n",
      "5     4133\n",
      "6     2044\n",
      "7      958\n",
      "8      481\n",
      "9      212\n",
      "10     139\n",
      "11      69\n",
      "12     166\n",
      "Name: FAMI_PERSONAS_HOGAR, dtype: int64\n",
      "Elementos null/NaN 426570\n",
      "__________________\n",
      "Elementos diferentes de null/NaN: 18143\n",
      "__________________\n",
      "(18143,)\n",
      "None\n"
     ]
    }
   ],
   "source": [
    "c = 'FAMI_PERSONAS_HOGAR'\n",
    "print(data_2007_2[c].value_counts().sort_index().index)\n",
    "print(data_2007_2[c].value_counts().sort_index())\n",
    "print(missing_data(data_2007_2[c]))"
   ]
  },
  {
   "cell_type": "code",
   "execution_count": 174,
   "metadata": {
    "collapsed": false
   },
   "outputs": [
    {
     "name": "stdout",
     "output_type": "stream",
     "text": [
      "Float64Index([1.0, 2.0, 3.0, 4.0, 5.0], dtype='float64')\n",
      "1     550\n",
      "2    6386\n",
      "3    1129\n",
      "4    9290\n",
      "5     809\n",
      "Name: FAMI_PISOSHOGAR, dtype: int64\n",
      "Elementos null/NaN 426549\n",
      "__________________\n",
      "Elementos diferentes de null/NaN: 18164\n",
      "__________________\n",
      "(18164,)\n",
      "None\n"
     ]
    }
   ],
   "source": [
    "c = 'FAMI_PISOSHOGAR'\n",
    "print(data_2007_2[c].value_counts().sort_index().index)\n",
    "print(data_2007_2[c].value_counts().sort_index())\n",
    "print(missing_data(data_2007_2[c]))"
   ]
  },
  {
   "cell_type": "code",
   "execution_count": 175,
   "metadata": {
    "collapsed": false
   },
   "outputs": [
    {
     "name": "stdout",
     "output_type": "stream",
     "text": [
      "Float64Index([1.0, 2.0, 3.0, 4.0, 5.0, 6.0, 7.0, 8.0, 9.0, 10.0], dtype='float64')\n",
      "1      124\n",
      "2      859\n",
      "3     2169\n",
      "4     2477\n",
      "5     1983\n",
      "6     1003\n",
      "7      437\n",
      "8      197\n",
      "9       97\n",
      "10      98\n",
      "Name: FAMI_CUARTOS_HOGAR, dtype: int64\n",
      "Elementos null/NaN 435269\n",
      "__________________\n",
      "Elementos diferentes de null/NaN: 9444\n",
      "__________________\n",
      "(9444,)\n",
      "None\n"
     ]
    }
   ],
   "source": [
    "c = 'FAMI_CUARTOS_HOGAR'\n",
    "print(data_2007_2[c].value_counts().sort_index().index)\n",
    "print(data_2007_2[c].value_counts().sort_index())\n",
    "print(missing_data(data_2007_2[c]))"
   ]
  },
  {
   "cell_type": "code",
   "execution_count": 176,
   "metadata": {
    "collapsed": false
   },
   "outputs": [
    {
     "name": "stdout",
     "output_type": "stream",
     "text": [
      "Float64Index([1.0, 2.0, 3.0, 4.0, 5.0, 6.0, 7.0, 8.0, 9.0, 10.0], dtype='float64')\n",
      "1     1038\n",
      "2     5835\n",
      "3     7592\n",
      "4     2543\n",
      "5      676\n",
      "6      246\n",
      "7       70\n",
      "8       42\n",
      "9       10\n",
      "10      49\n",
      "Name: FAMI_DORMITORIOS_HOGAR, dtype: int64\n",
      "Elementos null/NaN 426612\n",
      "__________________\n",
      "Elementos diferentes de null/NaN: 18101\n",
      "__________________\n",
      "(18101,)\n",
      "None\n"
     ]
    }
   ],
   "source": [
    "c = 'FAMI_DORMITORIOS_HOGAR'\n",
    "print(data_2007_2[c].value_counts().sort_index().index)\n",
    "print(data_2007_2[c].value_counts().sort_index())\n",
    "print(missing_data(data_2007_2[c]))"
   ]
  },
  {
   "cell_type": "code",
   "execution_count": 177,
   "metadata": {
    "collapsed": false
   },
   "outputs": [
    {
     "name": "stdout",
     "output_type": "stream",
     "text": [
      "Float64Index([0.0, 1.0, 2.0, 3.0, 4.0], dtype='float64')\n",
      "0     7130\n",
      "1      122\n",
      "2       55\n",
      "3    10574\n",
      "4      283\n",
      "Name: FAMI_COMPUTADOR, dtype: int64\n",
      "Elementos null/NaN 426549\n",
      "__________________\n",
      "Elementos diferentes de null/NaN: 18164\n",
      "__________________\n",
      "(18164,)\n",
      "None\n"
     ]
    }
   ],
   "source": [
    "c = 'FAMI_COMPUTADOR'\n",
    "print(data_2007_2[c].value_counts().sort_index().index)\n",
    "print(data_2007_2[c].value_counts().sort_index())\n",
    "print(missing_data(data_2007_2[c]))"
   ]
  },
  {
   "cell_type": "code",
   "execution_count": 178,
   "metadata": {
    "collapsed": false
   },
   "outputs": [
    {
     "name": "stdout",
     "output_type": "stream",
     "text": [
      "Float64Index([1.0, 2.0, 3.0, 4.0, 5.0, 6.0, 7.0], dtype='float64')\n",
      "1    3498\n",
      "2    7900\n",
      "3    3681\n",
      "4    1837\n",
      "5     624\n",
      "6     275\n",
      "7     349\n",
      "Name: FAMI_INGRESO_FMILIAR_MENSUAL, dtype: int64\n",
      "Elementos null/NaN 426549\n",
      "__________________\n",
      "Elementos diferentes de null/NaN: 18164\n",
      "__________________\n",
      "(18164,)\n",
      "None\n"
     ]
    }
   ],
   "source": [
    "c = 'FAMI_INGRESO_FMILIAR_MENSUAL'\n",
    "print(data_2007_2[c].value_counts().sort_index().index)\n",
    "print(data_2007_2[c].value_counts().sort_index())\n",
    "print(missing_data(data_2007_2[c]))"
   ]
  },
  {
   "cell_type": "code",
   "execution_count": 179,
   "metadata": {
    "collapsed": false
   },
   "outputs": [
    {
     "name": "stdout",
     "output_type": "stream",
     "text": [
      "Float64Index([0.0, 1.0, 2.0, 3.0, 4.0, 5.0, 6.0, 7.0], dtype='float64')\n",
      "0    11620\n",
      "1      585\n",
      "2      248\n",
      "3     1996\n",
      "4      675\n",
      "5      975\n",
      "6       24\n",
      "7       61\n",
      "Name: ESTU_TRABAJA, dtype: int64\n",
      "Elementos null/NaN 428529\n",
      "__________________\n",
      "Elementos diferentes de null/NaN: 16184\n",
      "__________________\n",
      "(16184,)\n",
      "None\n"
     ]
    }
   ],
   "source": [
    "c = 'ESTU_TRABAJA'\n",
    "print(data_2007_2[c].value_counts().sort_index().index)\n",
    "print(data_2007_2[c].value_counts().sort_index())\n",
    "print(missing_data(data_2007_2[c]))"
   ]
  },
  {
   "cell_type": "code",
   "execution_count": 180,
   "metadata": {
    "collapsed": false,
    "scrolled": true
   },
   "outputs": [
    {
     "name": "stdout",
     "output_type": "stream",
     "text": [
      "Float64Index([ 0.0,  1.0,  2.0,  3.0,  4.0,  5.0,  6.0,  7.0,  8.0,  9.0, 10.0,\n",
      "              11.0, 12.0, 13.0, 14.0, 15.0, 16.0, 17.0, 18.0, 19.0, 20.0],\n",
      "             dtype='float64')\n",
      "0        9\n",
      "1        8\n",
      "2       19\n",
      "3       31\n",
      "4       84\n",
      "5       66\n",
      "6      103\n",
      "7       50\n",
      "8      328\n",
      "9       73\n",
      "10     186\n",
      "11      21\n",
      "12     117\n",
      "13      18\n",
      "14      36\n",
      "15      93\n",
      "16      83\n",
      "17       8\n",
      "18      88\n",
      "19      22\n",
      "20    2823\n",
      "Name: ESTU_HORAS_TRABAJA, dtype: int64\n",
      "Elementos null/NaN 440447\n",
      "__________________\n",
      "Elementos diferentes de null/NaN: 4266\n",
      "__________________\n",
      "(4266,)\n",
      "None\n"
     ]
    }
   ],
   "source": [
    "c = 'ESTU_HORAS_TRABAJA'\n",
    "print(data_2007_2[c].value_counts().sort_index().index)\n",
    "print(data_2007_2[c].value_counts().sort_index())\n",
    "print(missing_data(data_2007_2[c]))"
   ]
  },
  {
   "cell_type": "code",
   "execution_count": 181,
   "metadata": {
    "collapsed": false
   },
   "outputs": [
    {
     "name": "stdout",
     "output_type": "stream",
     "text": [
      "Float64Index([0.0, 1.0, 2.0, 3.0, 4.0, 5.0, 6.0, 7.0, 8.0, 9.0, 10.0, 11.0,\n",
      "              12.0],\n",
      "             dtype='float64')\n",
      "0     290177\n",
      "1      64137\n",
      "2      14258\n",
      "3      12604\n",
      "4      16476\n",
      "5      20511\n",
      "6      15279\n",
      "7      10123\n",
      "8        840\n",
      "9        119\n",
      "10        49\n",
      "11        50\n",
      "12        28\n",
      "Name: COLE_VALOR_PENSION, dtype: int64\n",
      "Elementos null/NaN 62\n",
      "__________________\n",
      "Elementos diferentes de null/NaN: 444651\n",
      "__________________\n",
      "(444651,)\n",
      "None\n"
     ]
    }
   ],
   "source": [
    "c = 'COLE_VALOR_PENSION'\n",
    "print(data_2007_2[c].value_counts().sort_index().index)\n",
    "print(data_2007_2[c].value_counts().sort_index())\n",
    "print(missing_data(data_2007_2[c]))"
   ]
  },
  {
   "cell_type": "code",
   "execution_count": 182,
   "metadata": {
    "collapsed": false
   },
   "outputs": [
    {
     "name": "stdout",
     "output_type": "stream",
     "text": [
      "Float64Index([0.0, 1.0, 2.0, 3.0], dtype='float64')\n",
      "0     7\n",
      "1    12\n",
      "2     8\n",
      "3    48\n",
      "Name: ESTU_CARRDESEADA_TIPO, dtype: int64\n",
      "Elementos null/NaN 444638\n",
      "__________________\n",
      "Elementos diferentes de null/NaN: 75\n",
      "__________________\n",
      "(75,)\n",
      "None\n"
     ]
    }
   ],
   "source": [
    "c = 'ESTU_CARRDESEADA_TIPO'\n",
    "print(data_2007_2[c].value_counts().sort_index().index)\n",
    "print(data_2007_2[c].value_counts().sort_index())\n",
    "print(missing_data(data_2007_2[c]))"
   ]
  },
  {
   "cell_type": "code",
   "execution_count": 183,
   "metadata": {
    "collapsed": false,
    "scrolled": true
   },
   "outputs": [
    {
     "name": "stdout",
     "output_type": "stream",
     "text": [
      "Float64Index([  1.0,   4.0,   7.0,   9.0,  11.0,  12.0,  13.0,  18.0,  20.0,\n",
      "               21.0,  23.0,  24.0,  25.0,  27.0,  28.0,  30.0,  31.0,  32.0,\n",
      "               33.0,  34.0,  40.0,  41.0,  45.0,  57.0,  58.0,  59.0,  62.0,\n",
      "               68.0,  99.0, 155.0, 160.0, 178.0, 181.0],\n",
      "             dtype='float64')\n",
      "1      1\n",
      "4      2\n",
      "7      1\n",
      "9      5\n",
      "11     1\n",
      "12     1\n",
      "13     4\n",
      "18     1\n",
      "20     1\n",
      "21     2\n",
      "23     1\n",
      "24     1\n",
      "25     1\n",
      "27     2\n",
      "28     3\n",
      "30     2\n",
      "31     3\n",
      "32     1\n",
      "33     2\n",
      "34     1\n",
      "40     3\n",
      "41     6\n",
      "45     6\n",
      "57     2\n",
      "58     2\n",
      "59     4\n",
      "62     2\n",
      "68     1\n",
      "99     2\n",
      "155    1\n",
      "160    1\n",
      "178    1\n",
      "181    1\n",
      "Name: ESTU_CARRDESEADA_NUCLEO, dtype: int64\n",
      "Elementos null/NaN 444645\n",
      "__________________\n",
      "Elementos diferentes de null/NaN: 68\n",
      "__________________\n",
      "(68,)\n",
      "None\n"
     ]
    }
   ],
   "source": [
    "c = 'ESTU_CARRDESEADA_NUCLEO'\n",
    "print(data_2007_2[c].value_counts().sort_index().index)\n",
    "print(data_2007_2[c].value_counts().sort_index())\n",
    "print(missing_data(data_2007_2[c]))"
   ]
  },
  {
   "cell_type": "code",
   "execution_count": 184,
   "metadata": {
    "collapsed": false,
    "scrolled": true
   },
   "outputs": [
    {
     "name": "stdout",
     "output_type": "stream",
     "text": [
      "Float64Index([ 1101.0,  1102.0,  1103.0,  1104.0,  1105.0,  1106.0,  1107.0,\n",
      "               1108.0,  1109.0,  1110.0,\n",
      "              ...\n",
      "               9105.0,  9107.0,  9109.0,  9110.0,  9111.0,  9112.0,  9113.0,\n",
      "               9114.0,  9115.0, 41962.0],\n",
      "             dtype='float64', length=328)\n",
      "1101     60915\n",
      "1102      4113\n",
      "1103      1750\n",
      "1104       215\n",
      "1105      4479\n",
      "1106      5033\n",
      "1107       460\n",
      "1108       867\n",
      "1109       194\n",
      "1110      4591\n",
      "1111      5283\n",
      "1112      4127\n",
      "1113      8059\n",
      "1114      5676\n",
      "1115      1496\n",
      "1117      1627\n",
      "1118      1900\n",
      "1119      3198\n",
      "1120      4122\n",
      "1121       503\n",
      "1122        87\n",
      "1123       315\n",
      "1124       131\n",
      "1125        19\n",
      "1201     36192\n",
      "1202      7663\n",
      "1203      3025\n",
      "1204     12723\n",
      "1205     11545\n",
      "1206       499\n",
      "         ...  \n",
      "4813       642\n",
      "4814       146\n",
      "4817      1532\n",
      "4818       348\n",
      "4822       179\n",
      "4825        54\n",
      "4826       175\n",
      "4827       207\n",
      "4828         2\n",
      "4829        74\n",
      "4832        74\n",
      "4835       467\n",
      "4837        88\n",
      "4838       147\n",
      "5801        68\n",
      "5802       216\n",
      "9101      2498\n",
      "9102       804\n",
      "9103      1085\n",
      "9104      3580\n",
      "9105       765\n",
      "9107       228\n",
      "9109        68\n",
      "9110     14409\n",
      "9111       370\n",
      "9112      3810\n",
      "9113       216\n",
      "9114       771\n",
      "9115        57\n",
      "41962        1\n",
      "Name: ESTU_IES_COD_DESEADA, dtype: int64\n",
      "Elementos null/NaN 81126\n",
      "__________________\n",
      "Elementos diferentes de null/NaN: 363587\n",
      "__________________\n",
      "(363587,)\n",
      "None\n"
     ]
    }
   ],
   "source": [
    "c = 'ESTU_IES_COD_DESEADA'\n",
    "print(data_2007_2[c].value_counts().sort_index().index)\n",
    "print(data_2007_2[c].value_counts().sort_index())\n",
    "print(missing_data(data_2007_2[c]))"
   ]
  },
  {
   "cell_type": "code",
   "execution_count": 185,
   "metadata": {
    "collapsed": false,
    "scrolled": true
   },
   "outputs": [
    {
     "name": "stdout",
     "output_type": "stream",
     "text": [
      "Index(['AGUACHICA', 'ANDES', 'APARTADO', 'ARAUCA', 'ARMENIA',\n",
      "       'BARRANCABERMEJA', 'BARRANQUILLA', 'BELLO', 'BOGOTÁ D.C.',\n",
      "       'BUCARAMANGA', 'BUENAVENTURA', 'BUGA', 'CALDAS', 'CALI',\n",
      "       'CARMEN DE VIBORAL', 'CARTAGENA', 'CARTAGO', 'CAUCASIA', 'CERETE',\n",
      "       'CHIA', 'CHIQUINQUIRA', 'CIENAGA', 'COPACABANA', 'CUCUTA', 'DUITAMA',\n",
      "       'ENVIGADO', 'ESPINAL', 'FACATATIVA', 'FLORENCIA', 'FUSAGASUGA',\n",
      "       'GIRARDOT', 'HONDA', 'IBAGUE', 'LETICIA', 'MADRID', 'MALAGA',\n",
      "       'MANIZALES', 'MEDELLIN', 'MOCOA', 'MONTERIA', 'MOSQUERA', 'NEIVA',\n",
      "       'NILO', 'OCAÑA', 'PALMIRA', 'PAMPLONA', 'PASTO', 'PENSILVANIA',\n",
      "       'PEREIRA', 'POPAYAN', 'PUERTO BERRIO', 'PUERTO TEJADA', 'QUIBDO',\n",
      "       'RIOHACHA', 'RIONEGRO', 'ROLDANILLO', 'SABANETA', 'SAN ANDRES',\n",
      "       'SAN GIL', 'SAN JUAN DEL CESAR', 'SANTA MARTA', 'SANTA ROSA DE CABAL',\n",
      "       'SANTA ROSA DE OSOS', 'SANTAFÉ DE ANTIOQUIA', 'SEVILLA', 'SIBUNDOY',\n",
      "       'SINCELEJO', 'SOCORRO', 'SOGAMOSO', 'SOLEDAD', 'TOLU', 'TULUA', 'TUNJA',\n",
      "       'TURBO', 'UBATE', 'VALLEDUPAR', 'VILLAVICENCIO', 'YOPAL'],\n",
      "      dtype='object')\n",
      "AGUACHICA                  315\n",
      "ANDES                      267\n",
      "APARTADO                     9\n",
      "ARAUCA                     131\n",
      "ARMENIA                   3454\n",
      "BARRANCABERMEJA            551\n",
      "BARRANQUILLA             22773\n",
      "BELLO                      206\n",
      "BOGOTÁ D.C.             138965\n",
      "BUCARAMANGA              19477\n",
      "BUENAVENTURA                87\n",
      "BUGA                        66\n",
      "CALDAS                     140\n",
      "CALI                      6245\n",
      "CARMEN DE VIBORAL          334\n",
      "CARTAGENA                16415\n",
      "CARTAGO                    133\n",
      "CAUCASIA                   620\n",
      "CERETE                      36\n",
      "CHIA                      1630\n",
      "CHIQUINQUIRA               194\n",
      "CIENAGA                    173\n",
      "COPACABANA                  18\n",
      "CUCUTA                    4477\n",
      "DUITAMA                    460\n",
      "ENVIGADO                   124\n",
      "ESPINAL                    114\n",
      "FACATATIVA                  51\n",
      "FLORENCIA                 1496\n",
      "FUSAGASUGA                1264\n",
      "                         ...  \n",
      "PEREIRA                   7051\n",
      "POPAYAN                   4968\n",
      "PUERTO BERRIO              170\n",
      "PUERTO TEJADA                6\n",
      "QUIBDO                    1900\n",
      "RIOHACHA                  1429\n",
      "RIONEGRO                   290\n",
      "ROLDANILLO                   9\n",
      "SABANETA                    23\n",
      "SAN ANDRES                 135\n",
      "SAN GIL                    376\n",
      "SAN JUAN DEL CESAR         191\n",
      "SANTA MARTA               7554\n",
      "SANTA ROSA DE CABAL         60\n",
      "SANTA ROSA DE OSOS          24\n",
      "SANTAFÉ DE ANTIOQUIA        28\n",
      "SEVILLA                      4\n",
      "SIBUNDOY                    19\n",
      "SINCELEJO                 4407\n",
      "SOCORRO                    231\n",
      "SOGAMOSO                   867\n",
      "SOLEDAD                    365\n",
      "TOLU                       166\n",
      "TULUA                       86\n",
      "TUNJA                     6028\n",
      "TURBO                      963\n",
      "UBATE                      226\n",
      "VALLEDUPAR                4122\n",
      "VILLAVICENCIO             3724\n",
      "YOPAL                      130\n",
      "Name: ESTU_IES_MPIO_DESEADA, dtype: int64\n",
      "Elementos null/NaN 81126\n",
      "__________________\n",
      "Elementos diferentes de null/NaN: 363587\n",
      "__________________\n",
      "(363587,)\n",
      "None\n"
     ]
    }
   ],
   "source": [
    "c = 'ESTU_IES_MPIO_DESEADA'\n",
    "print(data_2007_2[c].value_counts().sort_index().index)\n",
    "print(data_2007_2[c].value_counts().sort_index())\n",
    "print(missing_data(data_2007_2[c]))"
   ]
  },
  {
   "cell_type": "code",
   "execution_count": 186,
   "metadata": {
    "collapsed": false,
    "scrolled": true
   },
   "outputs": [
    {
     "name": "stdout",
     "output_type": "stream",
     "text": [
      "Index(['AMAZONAS', 'ANTIOQUIA', 'ARAUCA', 'ATLÁNTICO', 'BOGOTÁ', 'BOLÍVAR',\n",
      "       'BOYACÁ', 'CALDAS', 'CAQUETÁ', 'CASANARE', 'CAUCA', 'CESAR', 'CHOCÓ',\n",
      "       'CUNDINAMARCA', 'CÓRDOBA', 'HUILA', 'LA GUAJIRA', 'MAGDALENA', 'META',\n",
      "       'NARIÑO', 'NORTE SANTANDER', 'PUTUMAYO', 'QUINDÍO', 'RISARALDA',\n",
      "       'SAN ANDRÉS', 'SANTANDER', 'SUCRE', 'TOLIMA', 'VALLE'],\n",
      "      dtype='object')\n",
      "AMAZONAS               19\n",
      "ANTIOQUIA           60868\n",
      "ARAUCA                131\n",
      "ATLÁNTICO           23138\n",
      "BOGOTÁ             138965\n",
      "BOLÍVAR             16415\n",
      "BOYACÁ               7549\n",
      "CALDAS               7742\n",
      "CAQUETÁ              1496\n",
      "CASANARE              130\n",
      "CAUCA                4974\n",
      "CESAR                4437\n",
      "CHOCÓ                1900\n",
      "CUNDINAMARCA         5792\n",
      "CÓRDOBA              9685\n",
      "HUILA                5941\n",
      "LA GUAJIRA           1620\n",
      "MAGDALENA            7727\n",
      "META                 3724\n",
      "NARIÑO                661\n",
      "NORTE SANTANDER     10310\n",
      "PUTUMAYO               72\n",
      "QUINDÍO              3454\n",
      "RISARALDA            7111\n",
      "SAN ANDRÉS            135\n",
      "SANTANDER           20644\n",
      "SUCRE                4573\n",
      "TOLIMA               7488\n",
      "VALLE                6886\n",
      "Name: ESTU_IES_DEPT_DESEADA, dtype: int64\n",
      "Elementos null/NaN 81126\n",
      "__________________\n",
      "Elementos diferentes de null/NaN: 363587\n",
      "__________________\n",
      "(363587,)\n",
      "None\n"
     ]
    }
   ],
   "source": [
    "c = 'ESTU_IES_DEPT_DESEADA'\n",
    "print(data_2007_2[c].value_counts().sort_index().index)\n",
    "print(data_2007_2[c].value_counts().sort_index())\n",
    "print(missing_data(data_2007_2[c]))"
   ]
  },
  {
   "cell_type": "code",
   "execution_count": 187,
   "metadata": {
    "collapsed": false
   },
   "outputs": [
    {
     "name": "stdout",
     "output_type": "stream",
     "text": [
      "Float64Index([1.0, 2.0, 3.0, 4.0, 5.0, 6.0, 7.0, 8.0], dtype='float64')\n",
      "1     10449\n",
      "2     55444\n",
      "3    164788\n",
      "4     40575\n",
      "5     32269\n",
      "6     18165\n",
      "7     17746\n",
      "8     21053\n",
      "Name: ESTU_RAZONINSTITUTO, dtype: int64\n",
      "Elementos null/NaN 84224\n",
      "__________________\n",
      "Elementos diferentes de null/NaN: 360489\n",
      "__________________\n",
      "(360489,)\n",
      "None\n"
     ]
    }
   ],
   "source": [
    "c = 'ESTU_RAZONINSTITUTO'\n",
    "print(data_2007_2[c].value_counts().sort_index().index)\n",
    "print(data_2007_2[c].value_counts().sort_index())\n",
    "print(missing_data(data_2007_2[c]))"
   ]
  },
  {
   "cell_type": "code",
   "execution_count": 188,
   "metadata": {
    "collapsed": false,
    "scrolled": true
   },
   "outputs": [
    {
     "name": "stdout",
     "output_type": "stream",
     "text": [
      "Float64Index([    1.0,     4.0,     5.0,     7.0,    10.0,    18.0,    23.0,\n",
      "                 26.0,    27.0,    36.0,\n",
      "              ...\n",
      "              23009.0, 23010.0, 23011.0, 23031.0, 24642.0, 24643.0, 24648.0,\n",
      "              24650.0, 24651.0, 24657.0],\n",
      "             dtype='float64', length=6318)\n",
      "1          8\n",
      "4         92\n",
      "5        285\n",
      "7         15\n",
      "10         1\n",
      "18        30\n",
      "23         1\n",
      "26         5\n",
      "27         6\n",
      "36        52\n",
      "56         6\n",
      "58         4\n",
      "59         3\n",
      "60         5\n",
      "61        12\n",
      "63        54\n",
      "64        36\n",
      "66         3\n",
      "67         5\n",
      "68         3\n",
      "74        28\n",
      "78         3\n",
      "79         3\n",
      "80         2\n",
      "86         9\n",
      "87        63\n",
      "89         2\n",
      "95         2\n",
      "98        10\n",
      "101        5\n",
      "        ... \n",
      "22977      1\n",
      "22978      1\n",
      "22979      3\n",
      "22980     42\n",
      "22981     29\n",
      "22983      6\n",
      "22985      5\n",
      "22986    122\n",
      "22991      1\n",
      "22993      1\n",
      "22996      1\n",
      "22997      1\n",
      "22999      1\n",
      "23000      3\n",
      "23003      2\n",
      "23004      6\n",
      "23005     12\n",
      "23006     14\n",
      "23007     28\n",
      "23008     14\n",
      "23009      2\n",
      "23010      2\n",
      "23011      2\n",
      "23031     16\n",
      "24642     28\n",
      "24643      9\n",
      "24648      3\n",
      "24650      3\n",
      "24651      7\n",
      "24657      3\n",
      "Name: ESTU_CARRDESEADA_COD, dtype: int64\n",
      "Elementos null/NaN 88463\n",
      "__________________\n",
      "Elementos diferentes de null/NaN: 356250\n",
      "__________________\n",
      "(356250,)\n",
      "None\n"
     ]
    }
   ],
   "source": [
    "c = 'ESTU_CARRDESEADA_COD'\n",
    "print(data_2007_2[c].value_counts().sort_index().index)\n",
    "print(data_2007_2[c].value_counts().sort_index())\n",
    "print(missing_data(data_2007_2[c]))"
   ]
  },
  {
   "cell_type": "code",
   "execution_count": 189,
   "metadata": {
    "collapsed": false
   },
   "outputs": [
    {
     "name": "stdout",
     "output_type": "stream",
     "text": [
      "Float64Index([1.0, 2.0, 3.0, 4.0, 5.0, 6.0, 7.0], dtype='float64')\n",
      "1     87723\n",
      "2    134712\n",
      "3     64339\n",
      "4     32978\n",
      "5     27884\n",
      "6      7438\n",
      "7         5\n",
      "Name: ESTU_CARRDESEADA_RAZON, dtype: int64\n",
      "Elementos null/NaN 89634\n",
      "__________________\n",
      "Elementos diferentes de null/NaN: 355079\n",
      "__________________\n",
      "(355079,)\n",
      "None\n"
     ]
    }
   ],
   "source": [
    "c = 'ESTU_CARRDESEADA_RAZON'\n",
    "print(data_2007_2[c].value_counts().sort_index().index)\n",
    "print(data_2007_2[c].value_counts().sort_index())\n",
    "print(missing_data(data_2007_2[c]))"
   ]
  },
  {
   "cell_type": "markdown",
   "metadata": {},
   "source": [
    "## TARGETS"
   ]
  },
  {
   "cell_type": "code",
   "execution_count": 190,
   "metadata": {
    "collapsed": false,
    "scrolled": true
   },
   "outputs": [
    {
     "name": "stdout",
     "output_type": "stream",
     "text": [
      "Index(['-1', '0', '18,21', '26,04', '30,93', '34,62', '37,68', '40,35',\n",
      "       '42,76', '45,01', '47,14', '49,19', '51,21', '53,22', '55,25', '57,32',\n",
      "       '59,48', '61,76', '64,21', '66,94', '70,06', '73,82', '78,79', '86,72',\n",
      "       '99,69'],\n",
      "      dtype='object')\n",
      "-1          11\n",
      "0          116\n",
      "18,21      825\n",
      "26,04     3519\n",
      "30,93     9437\n",
      "34,62    19080\n",
      "37,68    30660\n",
      "40,35    41747\n",
      "42,76    50440\n",
      "45,01    54124\n",
      "47,14    53072\n",
      "49,19    47974\n",
      "51,21    40285\n",
      "53,22    31675\n",
      "55,25    23545\n",
      "57,32    16469\n",
      "59,48    10406\n",
      "61,76     6060\n",
      "64,21     3152\n",
      "66,94     1380\n",
      "70,06      530\n",
      "73,82      164\n",
      "78,79       35\n",
      "86,72        6\n",
      "99,69        1\n",
      "Name: PUNT_LENGUAJE, dtype: int64\n",
      "Elementos null/NaN 0\n",
      "__________________\n",
      "Elementos diferentes de null/NaN: 444713\n",
      "__________________\n",
      "(444713,)\n",
      "None\n"
     ]
    }
   ],
   "source": [
    "c = 'PUNT_LENGUAJE'\n",
    "print(data_2007_2[c].value_counts().sort_index().index)\n",
    "print(data_2007_2[c].value_counts().sort_index())\n",
    "print(missing_data(data_2007_2[c]))"
   ]
  },
  {
   "cell_type": "code",
   "execution_count": 191,
   "metadata": {
    "collapsed": false
   },
   "outputs": [],
   "source": [
    "for i in data_2007_2[c].value_counts().sort_index().index:\n",
    "    if ',' in i:\n",
    "        data_2007_2[c] = data_2007_2[c].replace(i, i.replace(',', '.'))\n",
    "\n",
    "for i in data_2007_2[c].value_counts().sort_index().index:\n",
    "    if type(i) == str:\n",
    "        data_2007_2[c] = data_2007_2[c].replace(i, float(i))"
   ]
  },
  {
   "cell_type": "code",
   "execution_count": 192,
   "metadata": {
    "collapsed": false,
    "scrolled": true
   },
   "outputs": [
    {
     "name": "stdout",
     "output_type": "stream",
     "text": [
      "Index(['-1', '0', '105,63', '121,49', '21', '30,49', '36,38', '40,82', '44,48',\n",
      "       '47,67', '50,54', '53,2', '55,71', '58,13', '60,49', '62,82', '65,16',\n",
      "       '67,54', '69,99', '72,55', '75,27', '78,22', '81,5', '85,28', '89,86',\n",
      "       '95,93'],\n",
      "      dtype='object')\n",
      "-1            7\n",
      "0          1600\n",
      "105,63       78\n",
      "121,49       16\n",
      "21         9664\n",
      "30,49     28536\n",
      "36,38     52849\n",
      "40,82     71587\n",
      "44,48     76096\n",
      "47,67     65758\n",
      "50,54     49328\n",
      "53,2      32743\n",
      "55,71     20341\n",
      "58,13     12457\n",
      "60,49      7661\n",
      "62,82      4932\n",
      "65,16      3348\n",
      "67,54      2312\n",
      "69,99      1644\n",
      "72,55      1216\n",
      "75,27       873\n",
      "78,22       645\n",
      "81,5        422\n",
      "85,28       280\n",
      "89,86       193\n",
      "95,93       127\n",
      "Name: PUNT_MATEMATICAS, dtype: int64\n",
      "Elementos null/NaN 0\n",
      "__________________\n",
      "Elementos diferentes de null/NaN: 444713\n",
      "__________________\n",
      "(444713,)\n",
      "None\n"
     ]
    }
   ],
   "source": [
    "c = 'PUNT_MATEMATICAS'\n",
    "print(data_2007_2[c].value_counts().sort_index().index)\n",
    "print(data_2007_2[c].value_counts().sort_index())\n",
    "print(missing_data(data_2007_2[c]))"
   ]
  },
  {
   "cell_type": "code",
   "execution_count": 193,
   "metadata": {
    "collapsed": false
   },
   "outputs": [],
   "source": [
    "for i in data_2007_2[c].value_counts().sort_index().index:\n",
    "    if ',' in i:\n",
    "        data_2007_2[c] = data_2007_2[c].replace(i, i.replace(',', '.'))\n",
    "\n",
    "for i in data_2007_2[c].value_counts().sort_index().index:\n",
    "    if type(i) == str:\n",
    "        data_2007_2[c] = data_2007_2[c].replace(i, float(i))"
   ]
  },
  {
   "cell_type": "code",
   "execution_count": 194,
   "metadata": {
    "collapsed": false,
    "scrolled": true
   },
   "outputs": [
    {
     "name": "stdout",
     "output_type": "stream",
     "text": [
      "Index(['-1', '0', '15,86', '21,46', '25,63', '29,02', '31,93', '34,51',\n",
      "       '36,86', '39,05', '41,1', '43,06', '44,96', '46,81', '48,62', '50,42',\n",
      "       '52,23', '54,05', '55,9', '57,79', '59,76', '6,74', '61,83', '64,02',\n",
      "       '66,38', '68,97', '71,89', '75,29', '79,47', '85,09', '94,22'],\n",
      "      dtype='object')\n",
      "-1         384\n",
      "0           72\n",
      "15,86      954\n",
      "21,46     3006\n",
      "25,63     7413\n",
      "29,02    14358\n",
      "31,93    23322\n",
      "34,51    32136\n",
      "36,86    38664\n",
      "39,05    42853\n",
      "41,1     43730\n",
      "43,06    42037\n",
      "44,96    38190\n",
      "46,81    34060\n",
      "48,62    28477\n",
      "50,42    23958\n",
      "52,23    19558\n",
      "54,05    15418\n",
      "55,9     11730\n",
      "57,79     8427\n",
      "59,76     6178\n",
      "6,74       288\n",
      "61,83     3956\n",
      "64,02     2512\n",
      "66,38     1564\n",
      "68,97      842\n",
      "71,89      405\n",
      "75,29      154\n",
      "79,47       47\n",
      "85,09       19\n",
      "94,22        1\n",
      "Name: PUNT_C_SOCIALES, dtype: int64\n",
      "Elementos null/NaN 0\n",
      "__________________\n",
      "Elementos diferentes de null/NaN: 444713\n",
      "__________________\n",
      "(444713,)\n",
      "None\n"
     ]
    }
   ],
   "source": [
    "c = 'PUNT_C_SOCIALES'\n",
    "print(data_2007_2[c].value_counts().sort_index().index)\n",
    "print(data_2007_2[c].value_counts().sort_index())\n",
    "print(missing_data(data_2007_2[c]))"
   ]
  },
  {
   "cell_type": "code",
   "execution_count": 195,
   "metadata": {
    "collapsed": false
   },
   "outputs": [],
   "source": [
    "for i in data_2007_2[c].value_counts().sort_index().index:\n",
    "    if ',' in i:\n",
    "        data_2007_2[c] = data_2007_2[c].replace(i, i.replace(',', '.'))\n",
    "\n",
    "for i in data_2007_2[c].value_counts().sort_index().index:\n",
    "    if type(i) == str:\n",
    "        data_2007_2[c] = data_2007_2[c].replace(i, float(i))"
   ]
  },
  {
   "cell_type": "code",
   "execution_count": 196,
   "metadata": {
    "collapsed": false,
    "scrolled": true
   },
   "outputs": [
    {
     "name": "stdout",
     "output_type": "stream",
     "text": [
      "Index(['-1', '0', '18,24', '24,08', '28,53', '32,22', '35,44', '38,35',\n",
      "       '41,05', '43,59', '46,04', '48,41', '50,76', '53,1', '55,47', '57,9',\n",
      "       '60,41', '63,07', '65,93', '69,09', '72,7', '8,97'],\n",
      "      dtype='object')\n",
      "-1          20\n",
      "0           55\n",
      "18,24     2216\n",
      "24,08     7490\n",
      "28,53    18500\n",
      "32,22    35032\n",
      "35,44    54673\n",
      "38,35    69648\n",
      "41,05    74723\n",
      "43,59    67091\n",
      "46,04    51371\n",
      "48,41    32822\n",
      "50,76    18033\n",
      "53,1      8104\n",
      "55,47     3177\n",
      "57,9      1039\n",
      "60,41      248\n",
      "63,07       64\n",
      "65,93       15\n",
      "69,09        3\n",
      "72,7         1\n",
      "8,97       388\n",
      "Name: PUNT_FILOSOFIA, dtype: int64\n",
      "Elementos null/NaN 0\n",
      "__________________\n",
      "Elementos diferentes de null/NaN: 444713\n",
      "__________________\n",
      "(444713,)\n",
      "None\n"
     ]
    }
   ],
   "source": [
    "c = 'PUNT_FILOSOFIA'\n",
    "print(data_2007_2[c].value_counts().sort_index().index)\n",
    "print(data_2007_2[c].value_counts().sort_index())\n",
    "print(missing_data(data_2007_2[c]))"
   ]
  },
  {
   "cell_type": "code",
   "execution_count": 197,
   "metadata": {
    "collapsed": false
   },
   "outputs": [],
   "source": [
    "for i in data_2007_2[c].value_counts().sort_index().index:\n",
    "    if ',' in i:\n",
    "        data_2007_2[c] = data_2007_2[c].replace(i, i.replace(',', '.'))\n",
    "\n",
    "for i in data_2007_2[c].value_counts().sort_index().index:\n",
    "    if type(i) == str:\n",
    "        data_2007_2[c] = data_2007_2[c].replace(i, float(i))"
   ]
  },
  {
   "cell_type": "code",
   "execution_count": 198,
   "metadata": {
    "collapsed": false,
    "scrolled": true
   },
   "outputs": [
    {
     "name": "stdout",
     "output_type": "stream",
     "text": [
      "Index(['-1', '0', '19,02', '26,7', '31,53', '35,2', '38,26', '40,94', '43,37',\n",
      "       '45,64', '47,79', '49,87', '51,92', '53,95', '55,99', '58,09', '60,25',\n",
      "       '62,54', '65', '67,71', '70,81', '74,54', '79,45', '87,23', '99,86'],\n",
      "      dtype='object')\n",
      "-1          34\n",
      "0          103\n",
      "19,02      829\n",
      "26,7      3867\n",
      "31,53    11698\n",
      "35,2     25475\n",
      "38,26    42313\n",
      "40,94    56654\n",
      "43,37    62818\n",
      "45,64    60559\n",
      "47,79    51415\n",
      "49,87    40187\n",
      "51,92    29683\n",
      "53,95    21022\n",
      "55,99    14681\n",
      "58,09     9735\n",
      "60,25     6160\n",
      "62,54     3663\n",
      "65        1999\n",
      "67,71     1048\n",
      "70,81      463\n",
      "74,54      197\n",
      "79,45       88\n",
      "87,23       19\n",
      "99,86        3\n",
      "Name: PUNT_BIOLOGIA, dtype: int64\n",
      "Elementos null/NaN 0\n",
      "__________________\n",
      "Elementos diferentes de null/NaN: 444713\n",
      "__________________\n",
      "(444713,)\n",
      "None\n"
     ]
    }
   ],
   "source": [
    "c = 'PUNT_BIOLOGIA'\n",
    "print(data_2007_2[c].value_counts().sort_index().index)\n",
    "print(data_2007_2[c].value_counts().sort_index())\n",
    "print(missing_data(data_2007_2[c]))"
   ]
  },
  {
   "cell_type": "code",
   "execution_count": 199,
   "metadata": {
    "collapsed": false
   },
   "outputs": [],
   "source": [
    "for i in data_2007_2[c].value_counts().sort_index().index:\n",
    "    if ',' in i:\n",
    "        data_2007_2[c] = data_2007_2[c].replace(i, i.replace(',', '.'))\n",
    "\n",
    "for i in data_2007_2[c].value_counts().sort_index().index:\n",
    "    if type(i) == str:\n",
    "        data_2007_2[c] = data_2007_2[c].replace(i, float(i))"
   ]
  },
  {
   "cell_type": "code",
   "execution_count": 200,
   "metadata": {
    "collapsed": false,
    "scrolled": true
   },
   "outputs": [
    {
     "name": "stdout",
     "output_type": "stream",
     "text": [
      "Index(['-1', '0', '21,83', '28,75', '33,07', '36,34', '39,03', '41,37',\n",
      "       '43,47', '45,4', '47,22', '48,97', '50,66', '52,34', '54,01', '55,7',\n",
      "       '57,44', '59,25', '61,18', '63,27', '65,59', '68,28', '71,54', '75,87',\n",
      "       '82,82'],\n",
      "      dtype='object')\n",
      "-1           3\n",
      "0           84\n",
      "21,83      718\n",
      "28,75     3306\n",
      "33,07    10201\n",
      "36,34    23164\n",
      "39,03    39905\n",
      "41,37    56418\n",
      "43,47    66107\n",
      "45,4     65853\n",
      "47,22    55987\n",
      "48,97    43309\n",
      "50,66    30226\n",
      "52,34    19467\n",
      "54,01    12342\n",
      "55,7      7420\n",
      "57,44     4337\n",
      "59,25     2582\n",
      "61,18     1509\n",
      "63,27      949\n",
      "65,59      498\n",
      "68,28      238\n",
      "71,54       74\n",
      "75,87       15\n",
      "82,82        1\n",
      "Name: PUNT_QUIMICA, dtype: int64\n",
      "Elementos null/NaN 0\n",
      "__________________\n",
      "Elementos diferentes de null/NaN: 444713\n",
      "__________________\n",
      "(444713,)\n",
      "None\n"
     ]
    }
   ],
   "source": [
    "c = 'PUNT_QUIMICA'\n",
    "print(data_2007_2[c].value_counts().sort_index().index)\n",
    "print(data_2007_2[c].value_counts().sort_index())\n",
    "print(missing_data(data_2007_2[c]))"
   ]
  },
  {
   "cell_type": "code",
   "execution_count": 201,
   "metadata": {
    "collapsed": false
   },
   "outputs": [],
   "source": [
    "for i in data_2007_2[c].value_counts().sort_index().index:\n",
    "    if ',' in i:\n",
    "        data_2007_2[c] = data_2007_2[c].replace(i, i.replace(',', '.'))\n",
    "\n",
    "for i in data_2007_2[c].value_counts().sort_index().index:\n",
    "    if type(i) == str:\n",
    "        data_2007_2[c] = data_2007_2[c].replace(i, float(i))"
   ]
  },
  {
   "cell_type": "code",
   "execution_count": 202,
   "metadata": {
    "collapsed": false,
    "scrolled": true
   },
   "outputs": [
    {
     "name": "stdout",
     "output_type": "stream",
     "text": [
      "Index(['-1', '0', '11,26', '20,96', '27', '31,55', '35,31', '38,57', '41,52',\n",
      "       '44,26', '46,84', '49,32', '51,73', '54,12', '56,51', '58,93', '61,41',\n",
      "       '64', '66,74', '69,69', '72,97', '76,74', '81,3', '87,34', '97,06'],\n",
      "      dtype='object')\n",
      "-1           8\n",
      "0           41\n",
      "11,26      421\n",
      "20,96     2223\n",
      "27        7848\n",
      "31,55    19388\n",
      "35,31    36845\n",
      "38,57    55349\n",
      "41,52    67831\n",
      "44,26    70400\n",
      "46,84    61778\n",
      "49,32    47159\n",
      "51,73    31723\n",
      "54,12    19307\n",
      "56,51    11230\n",
      "58,93     6180\n",
      "61,41     3336\n",
      "64        1746\n",
      "66,74      969\n",
      "69,69      477\n",
      "72,97      258\n",
      "76,74      120\n",
      "81,3        49\n",
      "87,34       25\n",
      "97,06        2\n",
      "Name: PUNT_FISICA, dtype: int64\n",
      "Elementos null/NaN 0\n",
      "__________________\n",
      "Elementos diferentes de null/NaN: 444713\n",
      "__________________\n",
      "(444713,)\n",
      "None\n"
     ]
    }
   ],
   "source": [
    "c = 'PUNT_FISICA'\n",
    "print(data_2007_2[c].value_counts().sort_index().index)\n",
    "print(data_2007_2[c].value_counts().sort_index())\n",
    "print(missing_data(data_2007_2[c]))"
   ]
  },
  {
   "cell_type": "code",
   "execution_count": 203,
   "metadata": {
    "collapsed": false
   },
   "outputs": [],
   "source": [
    "for i in data_2007_2[c].value_counts().sort_index().index:\n",
    "    if ',' in i:\n",
    "        data_2007_2[c] = data_2007_2[c].replace(i, i.replace(',', '.'))\n",
    "\n",
    "for i in data_2007_2[c].value_counts().sort_index().index:\n",
    "    if type(i) == str:\n",
    "        data_2007_2[c] = data_2007_2[c].replace(i, float(i))"
   ]
  },
  {
   "cell_type": "code",
   "execution_count": 204,
   "metadata": {
    "collapsed": false,
    "scrolled": true
   },
   "outputs": [
    {
     "name": "stdout",
     "output_type": "stream",
     "text": [
      "Index(['-1', '0', '111,94', '13,96', '17,91', '21,08', '23,77', '26,13',\n",
      "       '28,24', '30,17', '31,96', '33,63', '35,21', '36,71', '38,15', '39,54',\n",
      "       '40,88', '42,2', '43,48', '44,74', '45,98', '47,21', '48,43', '49,65',\n",
      "       '50,87', '52,09', '53,32', '54,57', '55,84', '57,13', '58,45', '59,81',\n",
      "       '61,22', '62,69', '64,23', '65,86', '67,6', '69,48', '71,53', '73,83',\n",
      "       '76,45', '79,55', '8,61', '83,41', '88,67', '97,34'],\n",
      "      dtype='object')\n",
      "-1          242\n",
      "0            28\n",
      "111,94      544\n",
      "13,96        42\n",
      "17,91        75\n",
      "21,08       205\n",
      "23,77       524\n",
      "26,13      1434\n",
      "28,24      3107\n",
      "30,17      5916\n",
      "31,96     10252\n",
      "33,63     16064\n",
      "35,21     23119\n",
      "36,71     29892\n",
      "38,15     35650\n",
      "39,54     39629\n",
      "40,88     40419\n",
      "42,2      38445\n",
      "43,48     33909\n",
      "44,74     28619\n",
      "45,98     23192\n",
      "47,21     18177\n",
      "48,43     14121\n",
      "49,65     11053\n",
      "50,87      8618\n",
      "52,09      7145\n",
      "53,32      6039\n",
      "54,57      5321\n",
      "55,84      4627\n",
      "57,13      4200\n",
      "58,45      3863\n",
      "59,81      3542\n",
      "61,22      3217\n",
      "62,69      2877\n",
      "64,23      2646\n",
      "65,86      2498\n",
      "67,6       2263\n",
      "69,48      2151\n",
      "71,53      1969\n",
      "73,83      1813\n",
      "76,45      1710\n",
      "79,55      1682\n",
      "8,61         14\n",
      "83,41      1525\n",
      "88,67      1291\n",
      "97,34      1044\n",
      "Name: PUNT_INGLES, dtype: int64\n",
      "Elementos null/NaN 0\n",
      "__________________\n",
      "Elementos diferentes de null/NaN: 444713\n",
      "__________________\n",
      "(444713,)\n",
      "None\n"
     ]
    }
   ],
   "source": [
    "c = 'PUNT_INGLES'\n",
    "print(data_2007_2[c].value_counts().sort_index().index)\n",
    "print(data_2007_2[c].value_counts().sort_index())\n",
    "print(missing_data(data_2007_2[c]))"
   ]
  },
  {
   "cell_type": "code",
   "execution_count": 205,
   "metadata": {
    "collapsed": false
   },
   "outputs": [],
   "source": [
    "for i in data_2007_2[c].value_counts().sort_index().index:\n",
    "    if ',' in i:\n",
    "        data_2007_2[c] = data_2007_2[c].replace(i, i.replace(',', '.'))\n",
    "\n",
    "for i in data_2007_2[c].value_counts().sort_index().index:\n",
    "    if type(i) == str:\n",
    "        data_2007_2[c] = data_2007_2[c].replace(i, float(i))"
   ]
  },
  {
   "cell_type": "code",
   "execution_count": 206,
   "metadata": {
    "collapsed": false
   },
   "outputs": [
    {
     "name": "stdout",
     "output_type": "stream",
     "text": [
      "Index(['-1', 'A-', 'A1', 'A2', 'B+', 'B1'], dtype='object')\n",
      "-1       242\n",
      "A-    244815\n",
      "A1    144834\n",
      "A2     30809\n",
      "B+      4404\n",
      "B1     19609\n",
      "Name: DESEMP_INGLES, dtype: int64\n",
      "Elementos null/NaN 0\n",
      "__________________\n",
      "Elementos diferentes de null/NaN: 444713\n",
      "__________________\n",
      "(444713,)\n",
      "None\n"
     ]
    }
   ],
   "source": [
    "c = 'DESEMP_INGLES'\n",
    "print(data_2007_2[c].value_counts().sort_index().index)\n",
    "print(data_2007_2[c].value_counts().sort_index())\n",
    "print(missing_data(data_2007_2[c]))"
   ]
  },
  {
   "cell_type": "code",
   "execution_count": 207,
   "metadata": {
    "collapsed": true
   },
   "outputs": [],
   "source": [
    "data_2007_2[c] = data_2007_2[c].replace('-1', np.nan)"
   ]
  },
  {
   "cell_type": "code",
   "execution_count": 208,
   "metadata": {
    "collapsed": false
   },
   "outputs": [
    {
     "name": "stdout",
     "output_type": "stream",
     "text": [
      "Index(['PROFUNDIZACIÓN EN BIOLOGÍA', 'PROFUNDIZACIÓN EN CIENCIAS SOCIALES',\n",
      "       'PROFUNDIZACIÓN EN LENGUAJE', 'PROFUNDIZACIÓN EN MATEMÁTICA'],\n",
      "      dtype='object')\n",
      "PROFUNDIZACIÓN EN BIOLOGÍA             126232\n",
      "PROFUNDIZACIÓN EN CIENCIAS SOCIALES     82395\n",
      "PROFUNDIZACIÓN EN LENGUAJE             174597\n",
      "PROFUNDIZACIÓN EN MATEMÁTICA            61489\n",
      "Name: NOMBRE_PROFUNDIZACION, dtype: int64\n",
      "Elementos null/NaN 0\n",
      "__________________\n",
      "Elementos diferentes de null/NaN: 444713\n",
      "__________________\n",
      "(444713,)\n",
      "None\n"
     ]
    }
   ],
   "source": [
    "c = 'NOMBRE_PROFUNDIZACION'\n",
    "print(data_2007_2[c].value_counts().sort_index().index)\n",
    "print(data_2007_2[c].value_counts().sort_index())\n",
    "print(missing_data(data_2007_2[c]))"
   ]
  },
  {
   "cell_type": "code",
   "execution_count": 209,
   "metadata": {
    "collapsed": false,
    "scrolled": true
   },
   "outputs": [
    {
     "name": "stdout",
     "output_type": "stream",
     "text": [
      "Index(['-1', '0', '1,78', '10', '2,72', '2,8', '3,09', '3,24', '3,33', '3,64',\n",
      "       '3,81', '3,9', '4,03', '4,17', '4,22', '4,42', '4,54', '4,6', '4,83',\n",
      "       '4,94', '4,96', '5,18', '5,28', '5,31', '5,5', '5,59', '5,6', '5,67',\n",
      "       '5,8', '5,88', '5,9', '6,04', '6,09', '6,16', '6,21', '6,39', '6,45',\n",
      "       '6,46', '6,54', '6,71', '6,76', '6,89', '6,94', '7,05', '7,09', '7,31',\n",
      "       '7,45', '7,48', '7,55', '7,84', '7,96', '7,98', '8,5', '8,75', '8,76'],\n",
      "      dtype='object')\n",
      "-1        275\n",
      "0        1541\n",
      "1,78      571\n",
      "10         68\n",
      "2,72     1963\n",
      "2,8      4714\n",
      "3,09     2011\n",
      "3,24     2054\n",
      "3,33     4421\n",
      "3,64    13078\n",
      "3,81     7262\n",
      "3,9      5818\n",
      "4,03     7175\n",
      "4,17    24621\n",
      "4,22     9947\n",
      "4,42    10150\n",
      "4,54    15090\n",
      "4,6     44569\n",
      "4,83    12753\n",
      "4,94    22592\n",
      "4,96    45575\n",
      "5,18    11693\n",
      "5,28    53066\n",
      "5,31    10835\n",
      "5,5      8457\n",
      "5,59    22141\n",
      "5,6     19013\n",
      "5,67     8989\n",
      "5,8      4831\n",
      "5,88    15664\n",
      "5,9     10517\n",
      "6,04     6581\n",
      "6,09     2483\n",
      "6,16     8742\n",
      "6,21     4778\n",
      "6,39     1217\n",
      "6,45     4168\n",
      "6,46     4443\n",
      "6,54     1768\n",
      "6,71      624\n",
      "6,76     1760\n",
      "6,89      552\n",
      "6,94     2518\n",
      "7,05      379\n",
      "7,09      749\n",
      "7,31       87\n",
      "7,45      313\n",
      "7,48      264\n",
      "7,55     1069\n",
      "7,84       13\n",
      "7,96      222\n",
      "7,98       81\n",
      "8,5       298\n",
      "8,75      128\n",
      "8,76       22\n",
      "Name: PUNT_PROFUNDIZACION, dtype: int64\n",
      "Elementos null/NaN 0\n",
      "__________________\n",
      "Elementos diferentes de null/NaN: 444713\n",
      "__________________\n",
      "(444713,)\n",
      "None\n"
     ]
    }
   ],
   "source": [
    "c = 'PUNT_PROFUNDIZACION'\n",
    "print(data_2007_2[c].value_counts().sort_index().index)\n",
    "print(data_2007_2[c].value_counts().sort_index())\n",
    "print(missing_data(data_2007_2[c]))"
   ]
  },
  {
   "cell_type": "code",
   "execution_count": 210,
   "metadata": {
    "collapsed": false
   },
   "outputs": [],
   "source": [
    "for i in data_2007_2[c].value_counts().sort_index().index:\n",
    "    if ',' in i:\n",
    "        data_2007_2[c] = data_2007_2[c].replace(i, i.replace(',', '.'))\n",
    "\n",
    "for i in data_2007_2[c].value_counts().sort_index().index:\n",
    "    if type(i) == str:\n",
    "        data_2007_2[c] = data_2007_2[c].replace(i, float(i))"
   ]
  },
  {
   "cell_type": "code",
   "execution_count": 211,
   "metadata": {
    "collapsed": false
   },
   "outputs": [
    {
     "name": "stdout",
     "output_type": "stream",
     "text": [
      "Index(['-1', 'GB', 'I', 'II', 'III'], dtype='object')\n",
      "-1        275\n",
      "GB     202913\n",
      "I      189431\n",
      "II      47849\n",
      "III      4245\n",
      "Name: DESEMP_PROFUNDIZACION, dtype: int64\n",
      "Elementos null/NaN 0\n",
      "__________________\n",
      "Elementos diferentes de null/NaN: 444713\n",
      "__________________\n",
      "(444713,)\n",
      "None\n"
     ]
    }
   ],
   "source": [
    "c = 'DESEMP_PROFUNDIZACION'\n",
    "print(data_2007_2[c].value_counts().sort_index().index)\n",
    "print(data_2007_2[c].value_counts().sort_index())\n",
    "print(missing_data(data_2007_2[c]))"
   ]
  },
  {
   "cell_type": "code",
   "execution_count": 212,
   "metadata": {
    "collapsed": true
   },
   "outputs": [],
   "source": [
    "data_2007_2[c] = data_2007_2[c].replace('-1', np.nan)"
   ]
  },
  {
   "cell_type": "code",
   "execution_count": 213,
   "metadata": {
    "collapsed": false
   },
   "outputs": [
    {
     "name": "stdout",
     "output_type": "stream",
     "text": [
      "Index(['MEDIO AMBIENTE', 'VIOLENCIA Y SOCIEDAD'], dtype='object')\n",
      "MEDIO AMBIENTE          228472\n",
      "VIOLENCIA Y SOCIEDAD    216241\n",
      "Name: NOMBRE_INTERDISCIPLINAR, dtype: int64\n",
      "Elementos null/NaN 0\n",
      "__________________\n",
      "Elementos diferentes de null/NaN: 444713\n",
      "__________________\n",
      "(444713,)\n",
      "None\n"
     ]
    }
   ],
   "source": [
    "c = 'NOMBRE_INTERDISCIPLINAR'\n",
    "print(data_2007_2[c].value_counts().sort_index().index)\n",
    "print(data_2007_2[c].value_counts().sort_index())\n",
    "print(missing_data(data_2007_2[c]))"
   ]
  },
  {
   "cell_type": "code",
   "execution_count": 214,
   "metadata": {
    "collapsed": false,
    "scrolled": true
   },
   "outputs": [
    {
     "name": "stdout",
     "output_type": "stream",
     "text": [
      "Index(['-1', '0', '16,64', '26,56', '33,02', '38,12', '42,54', '45,94',\n",
      "       '46,59', '48,11', '49,51', '50,46', '50,62', '51,58', '52,46', '53,31',\n",
      "       '54,15', '54,28', '55,03', '55,98', '57,08', '58,17', '58,48', '60,63',\n",
      "       '62,28', '64,07', '66,78', '72', '78,6', '88,67'],\n",
      "      dtype='object')\n",
      "-1         479\n",
      "0         2101\n",
      "16,64     3247\n",
      "26,56    10087\n",
      "33,02    20562\n",
      "38,12    32091\n",
      "42,54    39110\n",
      "45,94     7833\n",
      "46,59    38836\n",
      "48,11    19385\n",
      "49,51    31038\n",
      "50,46    31610\n",
      "50,62    37139\n",
      "51,58    36071\n",
      "52,46    30991\n",
      "53,31    23606\n",
      "54,15    17307\n",
      "54,28    21098\n",
      "55,03    11629\n",
      "55,98     6681\n",
      "57,08     3334\n",
      "58,17    11506\n",
      "58,48     1275\n",
      "60,63      340\n",
      "62,28     5012\n",
      "64,07       46\n",
      "66,78     1742\n",
      "72         460\n",
      "78,6        87\n",
      "88,67       10\n",
      "Name: PUNT_INTERDISCIPLINAR, dtype: int64\n",
      "Elementos null/NaN 0\n",
      "__________________\n",
      "Elementos diferentes de null/NaN: 444713\n",
      "__________________\n",
      "(444713,)\n",
      "None\n"
     ]
    }
   ],
   "source": [
    "c = 'PUNT_INTERDISCIPLINAR'\n",
    "print(data_2007_2[c].value_counts().sort_index().index)\n",
    "print(data_2007_2[c].value_counts().sort_index())\n",
    "print(missing_data(data_2007_2[c]))"
   ]
  },
  {
   "cell_type": "code",
   "execution_count": 215,
   "metadata": {
    "collapsed": false
   },
   "outputs": [],
   "source": [
    "for i in data_2007_2[c].value_counts().sort_index().index:\n",
    "    if ',' in i:\n",
    "        data_2007_2[c] = data_2007_2[c].replace(i, i.replace(',', '.'))\n",
    "\n",
    "for i in data_2007_2[c].value_counts().sort_index().index:\n",
    "    if type(i) == str:\n",
    "        data_2007_2[c] = data_2007_2[c].replace(i, float(i))"
   ]
  },
  {
   "cell_type": "code",
   "execution_count": 216,
   "metadata": {
    "collapsed": false,
    "scrolled": true
   },
   "outputs": [
    {
     "name": "stdout",
     "output_type": "stream",
     "text": [
      "Float64Index([  1.0,   2.0,   3.0,   4.0,   5.0,   6.0,   7.0,   8.0,   9.0,\n",
      "               10.0,\n",
      "              ...\n",
      "              953.0, 954.0, 955.0, 956.0, 957.0, 958.0, 959.0, 960.0, 961.0,\n",
      "              962.0],\n",
      "             dtype='float64', length=962)\n",
      "1      379\n",
      "2      384\n",
      "3      382\n",
      "4      361\n",
      "5      395\n",
      "6      388\n",
      "7      371\n",
      "8      378\n",
      "9      387\n",
      "10     395\n",
      "11     396\n",
      "12     385\n",
      "13     399\n",
      "14     398\n",
      "15     410\n",
      "16     405\n",
      "17     397\n",
      "18     404\n",
      "19     408\n",
      "20     411\n",
      "21     393\n",
      "22     414\n",
      "23     406\n",
      "24     421\n",
      "25     407\n",
      "26     414\n",
      "27     404\n",
      "28     402\n",
      "29     416\n",
      "30     422\n",
      "      ... \n",
      "933    454\n",
      "934    442\n",
      "935    442\n",
      "936    452\n",
      "937    462\n",
      "938    463\n",
      "939    455\n",
      "940    457\n",
      "941    460\n",
      "942    460\n",
      "943    460\n",
      "944    456\n",
      "945    469\n",
      "946    465\n",
      "947    458\n",
      "948    445\n",
      "949    460\n",
      "950    456\n",
      "951    454\n",
      "952    457\n",
      "953    448\n",
      "954    446\n",
      "955    452\n",
      "956    451\n",
      "957    446\n",
      "958    460\n",
      "959    452\n",
      "960    437\n",
      "961    439\n",
      "962    186\n",
      "Name: ESTU_PUESTO, dtype: int64\n",
      "Elementos null/NaN 659\n",
      "__________________\n",
      "Elementos diferentes de null/NaN: 444054\n",
      "__________________\n",
      "(444054,)\n",
      "None\n"
     ]
    }
   ],
   "source": [
    "c = 'ESTU_PUESTO'\n",
    "print(data_2007_2[c].value_counts().sort_index().index)\n",
    "print(data_2007_2[c].value_counts().sort_index())\n",
    "print(missing_data(data_2007_2[c]))"
   ]
  },
  {
   "cell_type": "markdown",
   "metadata": {},
   "source": [
    "NOW i can Transform the Obtained Dataframes in csv files"
   ]
  },
  {
   "cell_type": "code",
   "execution_count": 218,
   "metadata": {
    "collapsed": true
   },
   "outputs": [],
   "source": [
    "data_2007.to_csv('../DatosFTPICFES/SABER11/SB11-BASES_DE_DATOS/READY/2007_1.csv', sep=';', index=False)\n",
    "data_2007_2.to_csv('../DatosFTPICFES/SABER11/SB11-BASES_DE_DATOS/READY/2007_2.csv', sep=';', index=False)"
   ]
  }
 ],
 "metadata": {
  "kernelspec": {
   "display_name": "Python 3",
   "language": "python",
   "name": "python3"
  },
  "language_info": {
   "codemirror_mode": {
    "name": "ipython",
    "version": 3
   },
   "file_extension": ".py",
   "mimetype": "text/x-python",
   "name": "python",
   "nbconvert_exporter": "python",
   "pygments_lexer": "ipython3",
   "version": "3.4.2"
  }
 },
 "nbformat": 4,
 "nbformat_minor": 0
}
