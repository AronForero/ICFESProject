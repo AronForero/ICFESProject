{
 "cells": [
  {
   "cell_type": "markdown",
   "metadata": {},
   "source": [
    "# Procesado de Datos"
   ]
  },
  {
   "cell_type": "markdown",
   "metadata": {},
   "source": [
    "Año 2000"
   ]
  },
  {
   "cell_type": "code",
   "execution_count": 1,
   "metadata": {
    "collapsed": false
   },
   "outputs": [],
   "source": [
    "import pandas as pd\n",
    "import matplotlib.pyplot as plt\n",
    "import numpy as np\n",
    "%matplotlib inline\n",
    "%run -i ../tools/functions.py\n",
    "%run -i ../tools/label_encoder.py"
   ]
  },
  {
   "cell_type": "markdown",
   "metadata": {},
   "source": [
    "Charge the file with the data, into a DataFrame"
   ]
  },
  {
   "cell_type": "code",
   "execution_count": null,
   "metadata": {
    "collapsed": false
   },
   "outputs": [],
   "source": [
    "data_2000 = pd.read_csv(\"../DatosFTPICFES/SABER11/SB11-BASES_DE_DATOS/SB11-20001-RGSTRO-CLFCCN-V1-0.txt\", delimiter=\"|\",\n",
    "                        encoding=\"iso-8859-1\")"
   ]
  },
  {
   "cell_type": "code",
   "execution_count": null,
   "metadata": {
    "collapsed": false,
    "scrolled": false
   },
   "outputs": [],
   "source": [
    "data_2000.head(3).T"
   ]
  },
  {
   "cell_type": "code",
   "execution_count": null,
   "metadata": {
    "collapsed": false,
    "scrolled": true
   },
   "outputs": [],
   "source": [
    "data_2000['FAMI_PERSONAS_HOGAR'].value_counts().sort_index()"
   ]
  },
  {
   "cell_type": "markdown",
   "metadata": {},
   "source": [
    "The simbol \"@\" will be changed for the number 4, because the average in Colombian's homes is near to 4."
   ]
  },
  {
   "cell_type": "code",
   "execution_count": null,
   "metadata": {
    "collapsed": true
   },
   "outputs": [],
   "source": [
    "data_2000 = letters_to_num(data_2000, [\"@\"], [\"4\"], \"FAMI_PERSONAS_HOGAR\")"
   ]
  },
  {
   "cell_type": "markdown",
   "metadata": {},
   "source": [
    "Then, the following columns will be reviewed"
   ]
  },
  {
   "cell_type": "code",
   "execution_count": null,
   "metadata": {
    "collapsed": false,
    "scrolled": true
   },
   "outputs": [],
   "source": [
    "data_2000['FAMI_VIVIENDA_PROPIA'].value_counts().sort_index()"
   ]
  },
  {
   "cell_type": "markdown",
   "metadata": {},
   "source": [
    "There are very few rows with the value \"@\", so the rows that has it will be deleted. "
   ]
  },
  {
   "cell_type": "code",
   "execution_count": null,
   "metadata": {
    "collapsed": false
   },
   "outputs": [],
   "source": [
    "data_2000 = drop_lines(data_2000, \"FAMI_VIVIENDA_PROPIA\", \"@\")"
   ]
  },
  {
   "cell_type": "code",
   "execution_count": null,
   "metadata": {
    "collapsed": false
   },
   "outputs": [],
   "source": [
    "data_2000['FAMI_DEUDA_VIVIENDA'].value_counts().sort_index()"
   ]
  },
  {
   "cell_type": "code",
   "execution_count": null,
   "metadata": {
    "collapsed": true
   },
   "outputs": [],
   "source": [
    "data_2000 = drop_lines(data_2000, \"FAMI_DEUDA_VIVIENDA\", \"@\")"
   ]
  },
  {
   "cell_type": "code",
   "execution_count": null,
   "metadata": {
    "collapsed": false
   },
   "outputs": [],
   "source": [
    "data_2000['FAMI_LEE_ESCRIBE_PADRE'].value_counts().sort_index()"
   ]
  },
  {
   "cell_type": "code",
   "execution_count": null,
   "metadata": {
    "collapsed": true
   },
   "outputs": [],
   "source": [
    "data_2000 = drop_lines(data_2000, \"FAMI_LEE_ESCRIBE_PADRE\", \"@\")"
   ]
  },
  {
   "cell_type": "code",
   "execution_count": null,
   "metadata": {
    "collapsed": false
   },
   "outputs": [],
   "source": [
    "data_2000['FAMI_LEE_ESCRIBE_MADRE'].value_counts().sort_index()"
   ]
  },
  {
   "cell_type": "code",
   "execution_count": null,
   "metadata": {
    "collapsed": true
   },
   "outputs": [],
   "source": [
    "data_2000 = drop_lines(data_2000, \"FAMI_LEE_ESCRIBE_MADRE\", \"@\")"
   ]
  },
  {
   "cell_type": "code",
   "execution_count": null,
   "metadata": {
    "collapsed": false
   },
   "outputs": [],
   "source": [
    "data_2000['FAMI_SOST_PERSONAL'].value_counts().sort_index()"
   ]
  },
  {
   "cell_type": "code",
   "execution_count": null,
   "metadata": {
    "collapsed": true
   },
   "outputs": [],
   "source": [
    "data_2000 = drop_lines(data_2000, \"FAMI_SOST_PERSONAL\", \"@\")"
   ]
  },
  {
   "cell_type": "code",
   "execution_count": null,
   "metadata": {
    "collapsed": false
   },
   "outputs": [],
   "source": [
    "data_2000['ESTU_TRABAJA'].value_counts().sort_index()"
   ]
  },
  {
   "cell_type": "code",
   "execution_count": null,
   "metadata": {
    "collapsed": true
   },
   "outputs": [],
   "source": [
    "data_2000 = drop_lines(data_2000, \"ESTU_TRABAJA\", \"@\")"
   ]
  },
  {
   "cell_type": "code",
   "execution_count": null,
   "metadata": {
    "collapsed": false
   },
   "outputs": [],
   "source": [
    "data_2000['COLE_CALENDARIO'].value_counts().sort_index()"
   ]
  },
  {
   "cell_type": "code",
   "execution_count": null,
   "metadata": {
    "collapsed": false
   },
   "outputs": [],
   "source": [
    "data_2000['COLE_CARACTER'].value_counts().sort_index()"
   ]
  },
  {
   "cell_type": "code",
   "execution_count": null,
   "metadata": {
    "collapsed": false
   },
   "outputs": [],
   "source": [
    "remaining_c = data_2000.columns.difference(['FAMI_PERSONAS_HOGAR', 'FAMI_VIVIENDA_PROPIA', 'FAMI_DEUDA_VIVIENDA', 'FAMI_LEE_ESCRIBE_PADRE',\n",
    "                     'FAMI_LEE_ESCRIBE_MADRE', 'FAMI_SOST_PERSONAL', 'ESTU_TRABAJA', 'COLE_CALENDARIO',\n",
    "                     'COLE_CARACTER'])"
   ]
  },
  {
   "cell_type": "code",
   "execution_count": null,
   "metadata": {
    "collapsed": false
   },
   "outputs": [],
   "source": [
    "remaining_c"
   ]
  },
  {
   "cell_type": "markdown",
   "metadata": {},
   "source": [
    "Columnas:\n",
    "- COD_IDIOMA: BIEN, int64\n",
    "- COD_INTERDISCIPLINAR: Bien, int64\n",
    "- COLE_BILINGUE: Bien, float64\n",
    "- COLE_COD_ICFES: Bien, int64\n",
    "- COLE_DEPTO_UBICACION: Bien, **OBJECT**\n",
    "- COLE_JORNADA: Bien, **OBJECT**\n",
    "- COLE_MCPIO_UBICACION: Bien, **OBJECT**\n",
    "- COLE_NOMBRE_SEDE: Bien, **OBJECT**\n",
    "- COLE_VALOR_PENSION: existen VALORES NaN, str **REVISAR**\n",
    "- ESTU_ACT_PROX_ANNO: existen @ que se cambiaron por el valor 4 que falta, **OBJECT**\n",
    "- ESTU_CARRDESEADA_RAZON: existen valores NaN, str **REVISAR**\n",
    "- ESTU_DEPTO_PRESENTACION: Bien, **OBJECT**\n",
    "- ESTU_GENERO: Bien, **OBJECT**\n",
    "- ESTU_LIMITA_INVIDENTE: Bien, **OBJECT**, Muchos valores NaN\n",
    "- ESTU_LIMITA_MOTRIZ: Bien, **OBJECT**, Muchos valores NaN\n",
    "- ESTU_LIMITA_SORDONOINTERPRETE: Bien, **OBJECT**, Muchos valores NaN\n",
    "- ESTU_MCPIO_PRESENTACION: Bien, **OBJECT**\n",
    "- ESTU_NACIMIENTO_ANNO: Bien, Float64, Se eliminaron algunas filas porque no tenian logica (años 195, 196, 197, 198)\n",
    "- ESTU_NACIMIENTO_DIA: Bien, Float64\n",
    "- ESTU_NACIMIENTO_MES: Bien, Float64\n",
    "- ESTU_RAZONINSTITUTO: Valores 'nan', ***REVISAR***\n",
    "- ESTU_RESIDE_DEPTO: Bien, **OBJECT**\n",
    "- ESTU_RESIDE_MCPIO: Bien, **OBJECT**\n",
    "- ESTU_TIPO_DOCUMENTO: Bien, **OBJECT**\n",
    "- FAMI_APORTANTES: Bien, **OBJECT**, se eliminan las filas que poseen '@' y se cambia el '+' por '+9'\n",
    "- FAMI_EDUCA_MADRE: Bien, **OBJECT**, se eliminan las filas que poseen '@'\n",
    "- FAMI_EDUCA_PADRE: Bien, **OBJECT**, se eliminan las filas que poseen '@'\n",
    "- FAMI_INGRESO_FMILIAR_MENSUAL: Bien, **OBJECT**, se eliminan las filas que poseen '@'\n",
    "- FAMI_NUM_HERMANOS: Bien, **OBJECT**, se eliminan las filas que poseen '@' y se cambia el '+' por '+10'\n",
    "- FAMI_NUM_HERMANOS_EDUSUPERIOR: Bien, **OBJECT**, se eliminan las filas que poseen '@' y se cambia el + por '+10'\n",
    "- FAMI_OCUPA_MADRE: Bien, **OBJECT** se eliminan las filas que poseen '@'\n",
    "- FAMI_OCUPA_PADRE: Bien, **OBJECT** se eliminan las filas que poseen '@'\n",
    "- FAMI_POSICION_HERMANOS: Bien **OBJECT**, se eliminan las filas que poseen '@' y se cambia el '+' por '+10'\n",
    "- PUNT_BIOLOGIA: Bien, **OBJECT**\n",
    "- PUNT_FILOSOFIA: Bien, **OBJECT**\n",
    "- PUNT_FISICA: Bien, **OBJECT**\n",
    "- PUNT_GEOGRAFIA: Bien, **OBJECT**\n",
    "- PUNT_HISTORIA: Bien, **OBJECT**\n",
    "- PUNT_IDIOMA: Bien, **OBJECT**\n",
    "- PUNT_INTERDISCIPLINAR: Bien, **OBJECT**\n",
    "- PUNT_LENGUAJE: Bien, **OBJECT**\n",
    "- PUNT_MATEMATICAS: Bien, **OBJECT**\n",
    "- PUNT_QUIMICA: Bien, **OBJECT**\n",
    "___________________\n",
    "\n",
    "ELIMINACIONES\n",
    "\n",
    "- ESTU_CONSECUTIVO: Eliminada. no aporta para la prediccion ***ELIMINADA***\n",
    "- ESTU_CARRDESEADA_COD: Datos con errores y demasiadas inconsistencias, ***ELIMINADA***\n",
    "- ESTU_IES_COD_DESEADA: Datos con errores y demasiadas inconsistencias, ***ELIMINADA***\n",
    "- ESTU_LIMITA_SORDOINTERPRETE: No tiene valores en ninguna fila, ***ELIMINADA***\n",
    "- IND_ANNO_TERMINO_BACHILLERATO: Datos con errores y demasiadas inconsistencias. ***ELIMINADA***"
   ]
  },
  {
   "cell_type": "markdown",
   "metadata": {},
   "source": [
    "Cambio de la @ por 4 en la columna *ESTU_ACT_PROX_ANNO*"
   ]
  },
  {
   "cell_type": "code",
   "execution_count": null,
   "metadata": {
    "collapsed": false
   },
   "outputs": [],
   "source": [
    "data_2000['ESTU_ACT_PROX_ANNO'].value_counts().sort_index()"
   ]
  },
  {
   "cell_type": "code",
   "execution_count": null,
   "metadata": {
    "collapsed": false
   },
   "outputs": [],
   "source": [
    "data_2000['ESTU_ACT_PROX_ANNO'] = data_2000['ESTU_ACT_PROX_ANNO'].replace('@', '4')"
   ]
  },
  {
   "cell_type": "markdown",
   "metadata": {},
   "source": [
    "Se eliminan las lineas que tienen años invalidos"
   ]
  },
  {
   "cell_type": "code",
   "execution_count": null,
   "metadata": {
    "collapsed": false
   },
   "outputs": [],
   "source": [
    "data_2000 = drop_lines(data_2000, 'ESTU_NACIMIENTO_ANNO', 195.0)\n",
    "data_2000 = drop_lines(data_2000, 'ESTU_NACIMIENTO_ANNO', 196.0)\n",
    "data_2000 = drop_lines(data_2000, 'ESTU_NACIMIENTO_ANNO', 197.0)\n",
    "data_2000 = drop_lines(data_2000, 'ESTU_NACIMIENTO_ANNO', 198.0)"
   ]
  },
  {
   "cell_type": "markdown",
   "metadata": {},
   "source": [
    "Se hacen los cambios segun la columna FAMI_APORTANTES"
   ]
  },
  {
   "cell_type": "code",
   "execution_count": null,
   "metadata": {
    "collapsed": true
   },
   "outputs": [],
   "source": [
    "data_2000 = drop_lines(data_2000, 'FAMI_APORTANTES', '@')"
   ]
  },
  {
   "cell_type": "code",
   "execution_count": null,
   "metadata": {
    "collapsed": true
   },
   "outputs": [],
   "source": [
    "data_2000['FAMI_APORTANTES'] = data_2000['FAMI_APORTANTES'].replace('+', '+9')"
   ]
  },
  {
   "cell_type": "markdown",
   "metadata": {},
   "source": [
    "Se eliminan las filas que poseen '@' FAMI_EDUCA_MADRE"
   ]
  },
  {
   "cell_type": "code",
   "execution_count": null,
   "metadata": {
    "collapsed": true
   },
   "outputs": [],
   "source": [
    "data_2000 = drop_lines(data_2000, 'FAMI_EDUCA_MADRE', '@')"
   ]
  },
  {
   "cell_type": "markdown",
   "metadata": {},
   "source": [
    "Se eliminan las filas que poseen '@' en FAMI_EDUCA_PADRE"
   ]
  },
  {
   "cell_type": "code",
   "execution_count": null,
   "metadata": {
    "collapsed": true
   },
   "outputs": [],
   "source": [
    "data_2000 = drop_lines(data_2000, 'FAMI_EDUCA_PADRE', '@')"
   ]
  },
  {
   "cell_type": "markdown",
   "metadata": {},
   "source": [
    "Se eliminan las filas que poseen '@' en FAMI_INGRESO_FMILIAR_MENSUAL"
   ]
  },
  {
   "cell_type": "code",
   "execution_count": null,
   "metadata": {
    "collapsed": true
   },
   "outputs": [],
   "source": [
    "data_2000 = drop_lines(data_2000, 'FAMI_INGRESO_FMILIAR_MENSUAL', '@')"
   ]
  },
  {
   "cell_type": "markdown",
   "metadata": {},
   "source": [
    "Se eliminan las filas que poseen '@' y se cambia el '+' por '+10' en FAMI_NUM_HERMANOS"
   ]
  },
  {
   "cell_type": "code",
   "execution_count": null,
   "metadata": {
    "collapsed": true
   },
   "outputs": [],
   "source": [
    "data_2000 = drop_lines(data_2000, 'FAMI_NUM_HERMANOS', '@')\n",
    "data_2000['FAMI_NUM_HERMANOS'] = data_2000['FAMI_NUM_HERMANOS'].replace('+', '+10')"
   ]
  },
  {
   "cell_type": "code",
   "execution_count": null,
   "metadata": {
    "collapsed": true
   },
   "outputs": [],
   "source": [
    "#lo mismo que la anterior pero en FAMI_NUM_HERMANOS_EDUSUPERIOR\n",
    "data_2000 = drop_lines(data_2000, 'FAMI_NUM_HERMANOS_EDUSUPERIOR', '@')\n",
    "data_2000['FAMI_NUM_HERMANOS_EDUSUPERIOR'] = data_2000['FAMI_NUM_HERMANOS_EDUSUPERIOR'].replace('+', '+10')"
   ]
  },
  {
   "cell_type": "code",
   "execution_count": null,
   "metadata": {
    "collapsed": true
   },
   "outputs": [],
   "source": [
    "#se eliminan las filas que poseen el valor '@'\n",
    "data_2000 = drop_lines(data_2000, 'FAMI_OCUPA_MADRE', '@')"
   ]
  },
  {
   "cell_type": "code",
   "execution_count": null,
   "metadata": {
    "collapsed": true
   },
   "outputs": [],
   "source": [
    "#se eliminan las filas que poseen el valor '@'\n",
    "data_2000 = drop_lines(data_2000, 'FAMI_OCUPA_PADRE', '@')"
   ]
  },
  {
   "cell_type": "code",
   "execution_count": null,
   "metadata": {
    "collapsed": true
   },
   "outputs": [],
   "source": [
    "#Se eliminan las filas que tienen valores '@' y se cambia '+' por '+10'\n",
    "data_2000 = drop_lines(data_2000, 'FAMI_POSICION_HERMANOS', '@')\n",
    "data_2000['FAMI_POSICION_HERMANOS'] = data_2000['FAMI_POSICION_HERMANOS'].replace('+', '+10')"
   ]
  },
  {
   "cell_type": "markdown",
   "metadata": {},
   "source": [
    "Deletion of the selected columns"
   ]
  },
  {
   "cell_type": "code",
   "execution_count": null,
   "metadata": {
    "collapsed": true
   },
   "outputs": [],
   "source": [
    "data_2000 = data_2000.drop(['ESTU_CARRDESEADA_COD', 'ESTU_IES_COD_DESEADA', 'ESTU_LIMITA_SORDOINTERPRETE',\n",
    " 'IND_ANNO_TERMINO_BACHILLERATO'], axis=1)"
   ]
  },
  {
   "cell_type": "markdown",
   "metadata": {},
   "source": [
    "___________"
   ]
  },
  {
   "cell_type": "markdown",
   "metadata": {},
   "source": [
    "___________"
   ]
  },
  {
   "cell_type": "markdown",
   "metadata": {},
   "source": [
    "___________"
   ]
  },
  {
   "cell_type": "markdown",
   "metadata": {
    "collapsed": true
   },
   "source": [
    "# En este momento ya estaria listo el primer archivo, para su posterior uso en un modelo de prediccion"
   ]
  },
  {
   "cell_type": "code",
   "execution_count": null,
   "metadata": {
    "collapsed": true
   },
   "outputs": [],
   "source": [
    "from sklearn.linear_model import LinearRegression"
   ]
  },
  {
   "cell_type": "code",
   "execution_count": null,
   "metadata": {
    "collapsed": true
   },
   "outputs": [],
   "source": [
    "LR = LinearRegression()"
   ]
  },
  {
   "cell_type": "markdown",
   "metadata": {},
   "source": [
    "The data will be prepared to be splitted into **X** and **y**  \n",
    "\n",
    "The first step is encode the data. The result will be stored in a new DataFram called ***encoded_data***"
   ]
  },
  {
   "cell_type": "code",
   "execution_count": null,
   "metadata": {
    "collapsed": false
   },
   "outputs": [],
   "source": [
    "encoded_data = pd.DataFrame.copy(data_2000)"
   ]
  },
  {
   "cell_type": "code",
   "execution_count": null,
   "metadata": {
    "collapsed": true
   },
   "outputs": [],
   "source": [
    "encoded_data = label_encoder(encoded_data)"
   ]
  },
  {
   "cell_type": "markdown",
   "metadata": {
    "collapsed": true
   },
   "source": [
    "But, this function just modified the columns that has dtype = object, so i have to check the other columns. \n",
    "The COLE_BILINGUE column, is a Float64 dtype and the function doesn't affected it.  \n",
    "The solution is replace the NaN values found in the column and changes it for the \"0\" to indicate that the school is not Bilingual."
   ]
  },
  {
   "cell_type": "code",
   "execution_count": null,
   "metadata": {
    "collapsed": true
   },
   "outputs": [],
   "source": [
    "\"\"\"Now i fix the problem with the COLE_BILINGUE\"\"\"\n",
    "encoded_data = letters_to_num(encoded_data, \"NaN\", \"0\", \"COLE_BILINGUE\")\n",
    "data_2000 = letters_to_num(data_2000, 'NaN', '0', 'COLE_BILINGUE')"
   ]
  },
  {
   "cell_type": "markdown",
   "metadata": {},
   "source": [
    "So now, using the function ***missing_data*** located in the file called ***functions.py***, we can check the whole DataFrame to discover another columns with NaN values"
   ]
  },
  {
   "cell_type": "code",
   "execution_count": null,
   "metadata": {
    "collapsed": false,
    "scrolled": true
   },
   "outputs": [],
   "source": [
    "missing_data(encoded_data)"
   ]
  },
  {
   "cell_type": "markdown",
   "metadata": {
    "collapsed": true
   },
   "source": [
    "The NaN values are located in the columns related to the student's birth date.  \n",
    "And one important thing we can see in the result is that when one column is NaN the other two column are NaN too, so we can delete this 14 columns with not so much troubles.  \n",
    "I just found one exception in the row number 55189, that just the Year is NaN.  \n",
    "BUT i have to delete this in the encoded DataFrame ***encoded_data*** to split the data and avoid some troubles that can appear.  "
   ]
  },
  {
   "cell_type": "code",
   "execution_count": null,
   "metadata": {
    "collapsed": false
   },
   "outputs": [],
   "source": [
    "encoded_data.loc[encoded_data['ESTU_NACIMIENTO_ANNO'].isnull()]\n",
    "#ESTU_NACIMIENTO_MES\n",
    "#ESTU_NACIMIENTO_ANNO"
   ]
  },
  {
   "cell_type": "code",
   "execution_count": null,
   "metadata": {
    "collapsed": false
   },
   "outputs": [],
   "source": [
    "\"\"\"First i have to put the NaN values as a Number because of the column's dtype\"\"\"\n",
    "encoded_data = letters_to_num(encoded_data, \"NaN\", \"-1\", \"ESTU_NACIMIENTO_ANNO\")\n",
    "data_2000 = letters_to_num(data_2000, 'NaN', '-1', 'ESTU_NACIMIENTO_ANNO')"
   ]
  },
  {
   "cell_type": "code",
   "execution_count": null,
   "metadata": {
    "collapsed": false
   },
   "outputs": [],
   "source": [
    "\"\"\"Then i can delete the lines\"\"\"\n",
    "encoded_data = drop_lines(encoded_data, 'ESTU_NACIMIENTO_ANNO', '-1')\n",
    "data_2000 = drop_lines(data_2000, 'ESTU_NACIMIENTO_ANNO', '-1')"
   ]
  },
  {
   "cell_type": "markdown",
   "metadata": {},
   "source": [
    "**Now it's time for a little test with sklearn linear regression**"
   ]
  },
  {
   "cell_type": "markdown",
   "metadata": {},
   "source": [
    "Now it's time to exclude columns that do not serve us for our objective as the student's consecutive.  \n",
    "- COLE_COD_ICFES\n",
    "- COLE_NOMBRE_SEDE\n",
    "- ESTU_TIPO_DOCUMENTO  \n",
    "\n",
    "Also the data is divided for train [0, 50000] and for test [50000,73551]."
   ]
  },
  {
   "cell_type": "code",
   "execution_count": null,
   "metadata": {
    "collapsed": false
   },
   "outputs": [],
   "source": [
    "print(\"Shape of the original DF:\", data_2000.shape)\n",
    "print(\"Shape of the encoded DF:\", encoded_data.shape)"
   ]
  },
  {
   "cell_type": "code",
   "execution_count": null,
   "metadata": {
    "collapsed": false
   },
   "outputs": [],
   "source": [
    "y = data_2000.filter(items = ['PUNT_BIOLOGIA', 'PUNT_MATEMATICAS', 'PUNT_FILOSOFIA', 'PUNT_FISICA', 'PUNT_HISTORIA',\n",
    "                     'PUNT_QUIMICA', 'PUNT_LENGUAJE', 'PUNT_GEOGRAFIA', 'PUNT_IDIOMA', 'PUNT_INTERDISCIPLINAR'], axis=1)\n",
    "print(y.shape)"
   ]
  },
  {
   "cell_type": "markdown",
   "metadata": {},
   "source": [
    "So, Now I have a DataFrame with all the posible targets that will be taken into account for the work"
   ]
  },
  {
   "cell_type": "code",
   "execution_count": null,
   "metadata": {
    "collapsed": true
   },
   "outputs": [],
   "source": [
    "\"\"\"I split the data into X_train and y_train, taking just the corresponding columns\"\"\"\n",
    "X_train = encoded_data.loc[:50000, 'COLE_COD_ICFES':]\n",
    "y_train = y.loc[:50000, 'PUNT_MATEMATICAS'] #i take the score in Maths\n",
    "###########################################################################################\n",
    "\"\"\"Now, i delete the columns that are not useful to the work\"\"\"\n",
    "X_train = X_train.drop(['COLE_COD_ICFES', 'COLE_NOMBRE_SEDE', 'ESTU_TIPO_DOCUMENTO'], axis=1)\n",
    "\"\"\"Now it's time to drop the others subject's scores, because this is what i want to predict\"\"\"\n",
    "X_train = X_train.drop(['PUNT_BIOLOGIA', 'PUNT_MATEMATICAS', 'PUNT_FILOSOFIA', 'PUNT_FISICA', \n",
    "                        'PUNT_HISTORIA', 'PUNT_QUIMICA', 'PUNT_LENGUAJE', 'PUNT_GEOGRAFIA', 'PUNT_IDIOMA',\n",
    "                        'PUNT_INTERDISCIPLINAR'], axis=1)"
   ]
  },
  {
   "cell_type": "code",
   "execution_count": null,
   "metadata": {
    "collapsed": false
   },
   "outputs": [],
   "source": [
    "print(data_2000.shape, encoded_data.shape)"
   ]
  },
  {
   "cell_type": "markdown",
   "metadata": {},
   "source": [
    "First try to predict one subject score"
   ]
  },
  {
   "cell_type": "code",
   "execution_count": null,
   "metadata": {
    "collapsed": false,
    "scrolled": false
   },
   "outputs": [],
   "source": [
    "LR.fit(X_train, y_train)"
   ]
  },
  {
   "cell_type": "markdown",
   "metadata": {},
   "source": [
    "Now i can prepare the Data to test the model"
   ]
  },
  {
   "cell_type": "code",
   "execution_count": null,
   "metadata": {
    "collapsed": true
   },
   "outputs": [],
   "source": [
    "\"\"\"I split the data into X_test and y_test, taking just the corresponding columns\"\"\"\n",
    "X_test = encoded_data.loc[50000:, 'COLE_COD_ICFES':]\n",
    "y_test = y.loc[50000:, 'PUNT_MATEMATICAS'] #i take the score in Maths\n",
    "\"\"\"Now, i delete the columns that are not useful to the work\"\"\"\n",
    "X_test = X_test.drop(['COLE_COD_ICFES', 'COLE_NOMBRE_SEDE', 'ESTU_TIPO_DOCUMENTO'], axis=1)\n",
    "\"\"\"Now it's time to drop the others subject's scores, because this is what i want to predict\"\"\"\n",
    "X_test = X_test.drop(['PUNT_BIOLOGIA', 'PUNT_MATEMATICAS', 'PUNT_FILOSOFIA', 'PUNT_FISICA', \n",
    "                        'PUNT_HISTORIA', 'PUNT_QUIMICA', 'PUNT_LENGUAJE', 'PUNT_GEOGRAFIA', 'PUNT_IDIOMA',\n",
    "                        'PUNT_INTERDISCIPLINAR'], axis=1)"
   ]
  },
  {
   "cell_type": "code",
   "execution_count": null,
   "metadata": {
    "collapsed": false
   },
   "outputs": [],
   "source": [
    "LR.score(X_train, y_train)"
   ]
  },
  {
   "cell_type": "code",
   "execution_count": null,
   "metadata": {
    "collapsed": false
   },
   "outputs": [],
   "source": [
    "LR.score(X_test, y_test)"
   ]
  },
  {
   "cell_type": "markdown",
   "metadata": {},
   "source": [
    "I have to do a reshape in the sample that i pass to the predictor because the functions ask for it."
   ]
  },
  {
   "cell_type": "code",
   "execution_count": null,
   "metadata": {
    "collapsed": false
   },
   "outputs": [],
   "source": [
    "LR.predict(X_test.iloc[123].reshape(1,-1))"
   ]
  },
  {
   "cell_type": "code",
   "execution_count": null,
   "metadata": {
    "collapsed": false,
    "scrolled": true
   },
   "outputs": [],
   "source": [
    "y_test.iloc[123]"
   ]
  },
  {
   "cell_type": "markdown",
   "metadata": {},
   "source": [
    "Here i can plot a figure to see the behavior of the target.  "
   ]
  },
  {
   "cell_type": "code",
   "execution_count": null,
   "metadata": {
    "collapsed": false,
    "scrolled": true
   },
   "outputs": [],
   "source": [
    "plt.figure(figsize=(18, 4))\n",
    "plt.plot(y['PUNT_MATEMATICAS'])"
   ]
  },
  {
   "cell_type": "markdown",
   "metadata": {},
   "source": [
    "About that figure ploted above, i can see that the behavior of the target is so chaotic and is dificult to predict with a simple Linear Regression."
   ]
  },
  {
   "cell_type": "markdown",
   "metadata": {
    "collapsed": true
   },
   "source": [
    "# The second file is the 2000_2 that correspond to the second period of the year."
   ]
  },
  {
   "cell_type": "code",
   "execution_count": 2,
   "metadata": {
    "collapsed": false
   },
   "outputs": [
    {
     "name": "stderr",
     "output_type": "stream",
     "text": [
      "/usr/local/anaconda3/lib/python3.5/site-packages/IPython/core/interactiveshell.py:2723: DtypeWarning: Columns (5,7,12,13,15,16) have mixed types. Specify dtype option on import or set low_memory=False.\n",
      "  interactivity=interactivity, compiler=compiler, result=result)\n"
     ]
    }
   ],
   "source": [
    "data_2000_2 = pd.read_csv(\"../DatosFTPICFES/SABER11/SB11-BASES_DE_DATOS/SB11-20002-RGSTRO-CLFCCN-V1-0.txt\", delimiter=\"|\",\n",
    "                         encoding=\"iso-8859-1\")"
   ]
  },
  {
   "cell_type": "code",
   "execution_count": 3,
   "metadata": {
    "collapsed": false
   },
   "outputs": [
    {
     "data": {
      "text/plain": [
       "(354862, 58)"
      ]
     },
     "execution_count": 3,
     "metadata": {},
     "output_type": "execute_result"
    }
   ],
   "source": [
    "data_2000_2.shape"
   ]
  },
  {
   "cell_type": "code",
   "execution_count": 4,
   "metadata": {
    "collapsed": false,
    "scrolled": true
   },
   "outputs": [
    {
     "data": {
      "text/html": [
       "<div>\n",
       "<table border=\"1\" class=\"dataframe\">\n",
       "  <thead>\n",
       "    <tr style=\"text-align: right;\">\n",
       "      <th></th>\n",
       "      <th>0</th>\n",
       "      <th>1</th>\n",
       "      <th>2</th>\n",
       "    </tr>\n",
       "  </thead>\n",
       "  <tbody>\n",
       "    <tr>\n",
       "      <th>ESTU_CONSECUTIVO</th>\n",
       "      <td>SB11200020145911</td>\n",
       "      <td>SB11200020210439</td>\n",
       "      <td>SB11200020155853</td>\n",
       "    </tr>\n",
       "    <tr>\n",
       "      <th>COLE_COD_ICFES</th>\n",
       "      <td>75648</td>\n",
       "      <td>364</td>\n",
       "      <td>56820</td>\n",
       "    </tr>\n",
       "    <tr>\n",
       "      <th>COLE_NOMBRE_SEDE</th>\n",
       "      <td>LICEO ALCALDIA DE MEDELLIN</td>\n",
       "      <td>COLEGIO MARIA AUXILIADORA</td>\n",
       "      <td>INSTITUTO TECNOLOGICO METROPOLITANO</td>\n",
       "    </tr>\n",
       "    <tr>\n",
       "      <th>IND_ANNO_TERMINO_BACHILLERATO</th>\n",
       "      <td>2000</td>\n",
       "      <td>2000</td>\n",
       "      <td>2000</td>\n",
       "    </tr>\n",
       "    <tr>\n",
       "      <th>COLE_JORNADA</th>\n",
       "      <td>M</td>\n",
       "      <td>C</td>\n",
       "      <td>N</td>\n",
       "    </tr>\n",
       "    <tr>\n",
       "      <th>COLE_VALOR_PENSION</th>\n",
       "      <td>8</td>\n",
       "      <td>5</td>\n",
       "      <td>1</td>\n",
       "    </tr>\n",
       "    <tr>\n",
       "      <th>ESTU_GENERO</th>\n",
       "      <td>F</td>\n",
       "      <td>F</td>\n",
       "      <td>F</td>\n",
       "    </tr>\n",
       "    <tr>\n",
       "      <th>ESTU_NACIMIENTO_DIA</th>\n",
       "      <td>2</td>\n",
       "      <td>27</td>\n",
       "      <td>3</td>\n",
       "    </tr>\n",
       "    <tr>\n",
       "      <th>ESTU_NACIMIENTO_MES</th>\n",
       "      <td>1</td>\n",
       "      <td>4</td>\n",
       "      <td>1</td>\n",
       "    </tr>\n",
       "    <tr>\n",
       "      <th>ESTU_NACIMIENTO_ANNO</th>\n",
       "      <td>1984</td>\n",
       "      <td>1984</td>\n",
       "      <td>1978</td>\n",
       "    </tr>\n",
       "    <tr>\n",
       "      <th>ESTU_DEPTO_PRESENTACION</th>\n",
       "      <td>ANTIOQUIA</td>\n",
       "      <td>ANTIOQUIA</td>\n",
       "      <td>ANTIOQUIA</td>\n",
       "    </tr>\n",
       "    <tr>\n",
       "      <th>ESTU_MCPIO_PRESENTACION</th>\n",
       "      <td>MEDELLIN</td>\n",
       "      <td>MEDELLIN</td>\n",
       "      <td>MEDELLIN</td>\n",
       "    </tr>\n",
       "    <tr>\n",
       "      <th>ESTU_ETNIA</th>\n",
       "      <td>NaN</td>\n",
       "      <td>NaN</td>\n",
       "      <td>NaN</td>\n",
       "    </tr>\n",
       "    <tr>\n",
       "      <th>ESTU_LIMITA_INVIDENTE</th>\n",
       "      <td>NaN</td>\n",
       "      <td>NaN</td>\n",
       "      <td>NaN</td>\n",
       "    </tr>\n",
       "    <tr>\n",
       "      <th>ESTU_LIMITA_SORDOINTERPRETE</th>\n",
       "      <td>NaN</td>\n",
       "      <td>NaN</td>\n",
       "      <td>NaN</td>\n",
       "    </tr>\n",
       "    <tr>\n",
       "      <th>ESTU_LIMITA_SORDONOINTERPRETE</th>\n",
       "      <td>NaN</td>\n",
       "      <td>NaN</td>\n",
       "      <td>NaN</td>\n",
       "    </tr>\n",
       "    <tr>\n",
       "      <th>ESTU_LIMITA_MOTRIZ</th>\n",
       "      <td>NaN</td>\n",
       "      <td>NaN</td>\n",
       "      <td>NaN</td>\n",
       "    </tr>\n",
       "    <tr>\n",
       "      <th>PUNT_BIOLOGIA</th>\n",
       "      <td>49</td>\n",
       "      <td>48</td>\n",
       "      <td>42</td>\n",
       "    </tr>\n",
       "    <tr>\n",
       "      <th>PUNT_MATEMATICAS</th>\n",
       "      <td>39</td>\n",
       "      <td>47</td>\n",
       "      <td>40</td>\n",
       "    </tr>\n",
       "    <tr>\n",
       "      <th>PUNT_FILOSOFIA</th>\n",
       "      <td>48</td>\n",
       "      <td>57</td>\n",
       "      <td>53</td>\n",
       "    </tr>\n",
       "    <tr>\n",
       "      <th>PUNT_FISICA</th>\n",
       "      <td>44</td>\n",
       "      <td>52</td>\n",
       "      <td>44</td>\n",
       "    </tr>\n",
       "    <tr>\n",
       "      <th>PUNT_HISTORIA</th>\n",
       "      <td>46</td>\n",
       "      <td>46</td>\n",
       "      <td>46</td>\n",
       "    </tr>\n",
       "    <tr>\n",
       "      <th>PUNT_QUIMICA</th>\n",
       "      <td>47</td>\n",
       "      <td>38</td>\n",
       "      <td>42</td>\n",
       "    </tr>\n",
       "    <tr>\n",
       "      <th>PUNT_LENGUAJE</th>\n",
       "      <td>55</td>\n",
       "      <td>52</td>\n",
       "      <td>43</td>\n",
       "    </tr>\n",
       "    <tr>\n",
       "      <th>PUNT_GEOGRAFIA</th>\n",
       "      <td>40</td>\n",
       "      <td>49</td>\n",
       "      <td>45</td>\n",
       "    </tr>\n",
       "    <tr>\n",
       "      <th>COD_INTERDISCIPLINAR</th>\n",
       "      <td>43</td>\n",
       "      <td>43</td>\n",
       "      <td>43</td>\n",
       "    </tr>\n",
       "    <tr>\n",
       "      <th>PUNT_INTERDISCIPLINAR</th>\n",
       "      <td>51</td>\n",
       "      <td>25</td>\n",
       "      <td>44</td>\n",
       "    </tr>\n",
       "    <tr>\n",
       "      <th>COD_IDIOMA</th>\n",
       "      <td>51</td>\n",
       "      <td>51</td>\n",
       "      <td>51</td>\n",
       "    </tr>\n",
       "    <tr>\n",
       "      <th>PUNT_IDIOMA</th>\n",
       "      <td>37</td>\n",
       "      <td>42</td>\n",
       "      <td>43</td>\n",
       "    </tr>\n",
       "    <tr>\n",
       "      <th>ESTU_IES_COD_DESEADA</th>\n",
       "      <td>NaN</td>\n",
       "      <td>1712</td>\n",
       "      <td>1201</td>\n",
       "    </tr>\n",
       "    <tr>\n",
       "      <th>ESTU_RAZONINSTITUTO</th>\n",
       "      <td>NaN</td>\n",
       "      <td>7</td>\n",
       "      <td>3</td>\n",
       "    </tr>\n",
       "    <tr>\n",
       "      <th>ESTU_CARRDESEADA_COD</th>\n",
       "      <td>NaN</td>\n",
       "      <td>48117</td>\n",
       "      <td>12136</td>\n",
       "    </tr>\n",
       "    <tr>\n",
       "      <th>ESTU_CARRDESEADA_RAZON</th>\n",
       "      <td>NaN</td>\n",
       "      <td>3</td>\n",
       "      <td>5</td>\n",
       "    </tr>\n",
       "    <tr>\n",
       "      <th>FAMI_PERSONAS_HOGAR</th>\n",
       "      <td>4</td>\n",
       "      <td>4</td>\n",
       "      <td>6</td>\n",
       "    </tr>\n",
       "    <tr>\n",
       "      <th>FAMI_VIVIENDA_PROPIA</th>\n",
       "      <td>S</td>\n",
       "      <td>S</td>\n",
       "      <td>S</td>\n",
       "    </tr>\n",
       "    <tr>\n",
       "      <th>FAMI_DEUDA_VIVIENDA</th>\n",
       "      <td>N</td>\n",
       "      <td>NaN</td>\n",
       "      <td>N</td>\n",
       "    </tr>\n",
       "    <tr>\n",
       "      <th>FAMI_APORTANTES</th>\n",
       "      <td>2</td>\n",
       "      <td>1</td>\n",
       "      <td>1</td>\n",
       "    </tr>\n",
       "    <tr>\n",
       "      <th>FAMI_INGRESO_FMILIAR_MENSUAL</th>\n",
       "      <td>1</td>\n",
       "      <td>1</td>\n",
       "      <td>1</td>\n",
       "    </tr>\n",
       "    <tr>\n",
       "      <th>FAMI_LEE_ESCRIBE_PADRE</th>\n",
       "      <td>S</td>\n",
       "      <td>S</td>\n",
       "      <td>S</td>\n",
       "    </tr>\n",
       "    <tr>\n",
       "      <th>FAMI_LEE_ESCRIBE_MADRE</th>\n",
       "      <td>S</td>\n",
       "      <td>S</td>\n",
       "      <td>S</td>\n",
       "    </tr>\n",
       "    <tr>\n",
       "      <th>FAMI_EDUCA_PADRE</th>\n",
       "      <td>4</td>\n",
       "      <td>7</td>\n",
       "      <td>3</td>\n",
       "    </tr>\n",
       "    <tr>\n",
       "      <th>FAMI_EDUCA_MADRE</th>\n",
       "      <td>4</td>\n",
       "      <td>7</td>\n",
       "      <td>3</td>\n",
       "    </tr>\n",
       "    <tr>\n",
       "      <th>FAMI_OCUPA_PADRE</th>\n",
       "      <td>09</td>\n",
       "      <td>04</td>\n",
       "      <td>08</td>\n",
       "    </tr>\n",
       "    <tr>\n",
       "      <th>FAMI_OCUPA_MADRE</th>\n",
       "      <td>09</td>\n",
       "      <td>04</td>\n",
       "      <td>10</td>\n",
       "    </tr>\n",
       "    <tr>\n",
       "      <th>FAMI_NUM_HERMANOS</th>\n",
       "      <td>6</td>\n",
       "      <td>1</td>\n",
       "      <td>2</td>\n",
       "    </tr>\n",
       "    <tr>\n",
       "      <th>FAMI_NUM_HERMANOS_EDUSUPERIOR</th>\n",
       "      <td>0</td>\n",
       "      <td>1</td>\n",
       "      <td>1</td>\n",
       "    </tr>\n",
       "    <tr>\n",
       "      <th>FAMI_POSICION_HERMANOS</th>\n",
       "      <td>6</td>\n",
       "      <td>2</td>\n",
       "      <td>1</td>\n",
       "    </tr>\n",
       "    <tr>\n",
       "      <th>FAMI_SOST_PERSONAL</th>\n",
       "      <td>T</td>\n",
       "      <td>T</td>\n",
       "      <td>T</td>\n",
       "    </tr>\n",
       "    <tr>\n",
       "      <th>ESTU_TRABAJA</th>\n",
       "      <td>N</td>\n",
       "      <td>N</td>\n",
       "      <td>N</td>\n",
       "    </tr>\n",
       "    <tr>\n",
       "      <th>ESTU_ACT_PROX_ANNO</th>\n",
       "      <td>3</td>\n",
       "      <td>1</td>\n",
       "      <td>3</td>\n",
       "    </tr>\n",
       "    <tr>\n",
       "      <th>COLE_CALENDARIO</th>\n",
       "      <td>A</td>\n",
       "      <td>A</td>\n",
       "      <td>F</td>\n",
       "    </tr>\n",
       "    <tr>\n",
       "      <th>COLE_BILINGUE</th>\n",
       "      <td>NaN</td>\n",
       "      <td>NaN</td>\n",
       "      <td>NaN</td>\n",
       "    </tr>\n",
       "    <tr>\n",
       "      <th>COLE_CARACTER</th>\n",
       "      <td>ACADEMICO</td>\n",
       "      <td>ACADEMICO</td>\n",
       "      <td>ACADEMICO Y TECNICO</td>\n",
       "    </tr>\n",
       "    <tr>\n",
       "      <th>COLE_DEPTO_UBICACION</th>\n",
       "      <td>ANTIOQUIA</td>\n",
       "      <td>ANTIOQUIA</td>\n",
       "      <td>ANTIOQUIA</td>\n",
       "    </tr>\n",
       "    <tr>\n",
       "      <th>COLE_MCPIO_UBICACION</th>\n",
       "      <td>MEDELLIN</td>\n",
       "      <td>MEDELLIN</td>\n",
       "      <td>MEDELLIN</td>\n",
       "    </tr>\n",
       "    <tr>\n",
       "      <th>ESTU_TIPO_DOCUMENTO</th>\n",
       "      <td>T</td>\n",
       "      <td>T</td>\n",
       "      <td>C</td>\n",
       "    </tr>\n",
       "    <tr>\n",
       "      <th>ESTU_RESIDE_DEPTO</th>\n",
       "      <td>ANTIOQUIA</td>\n",
       "      <td>ANTIOQUIA</td>\n",
       "      <td>ANTIOQUIA</td>\n",
       "    </tr>\n",
       "    <tr>\n",
       "      <th>ESTU_RESIDE_MCPIO</th>\n",
       "      <td>MEDELLIN</td>\n",
       "      <td>MEDELLIN</td>\n",
       "      <td>MEDELLIN</td>\n",
       "    </tr>\n",
       "  </tbody>\n",
       "</table>\n",
       "</div>"
      ],
      "text/plain": [
       "                                                        0  \\\n",
       "ESTU_CONSECUTIVO                         SB11200020145911   \n",
       "COLE_COD_ICFES                                      75648   \n",
       "COLE_NOMBRE_SEDE               LICEO ALCALDIA DE MEDELLIN   \n",
       "IND_ANNO_TERMINO_BACHILLERATO                        2000   \n",
       "COLE_JORNADA                                            M   \n",
       "COLE_VALOR_PENSION                                      8   \n",
       "ESTU_GENERO                                             F   \n",
       "ESTU_NACIMIENTO_DIA                                     2   \n",
       "ESTU_NACIMIENTO_MES                                     1   \n",
       "ESTU_NACIMIENTO_ANNO                                 1984   \n",
       "ESTU_DEPTO_PRESENTACION                         ANTIOQUIA   \n",
       "ESTU_MCPIO_PRESENTACION                          MEDELLIN   \n",
       "ESTU_ETNIA                                            NaN   \n",
       "ESTU_LIMITA_INVIDENTE                                 NaN   \n",
       "ESTU_LIMITA_SORDOINTERPRETE                           NaN   \n",
       "ESTU_LIMITA_SORDONOINTERPRETE                         NaN   \n",
       "ESTU_LIMITA_MOTRIZ                                    NaN   \n",
       "PUNT_BIOLOGIA                                          49   \n",
       "PUNT_MATEMATICAS                                       39   \n",
       "PUNT_FILOSOFIA                                         48   \n",
       "PUNT_FISICA                                            44   \n",
       "PUNT_HISTORIA                                          46   \n",
       "PUNT_QUIMICA                                           47   \n",
       "PUNT_LENGUAJE                                          55   \n",
       "PUNT_GEOGRAFIA                                         40   \n",
       "COD_INTERDISCIPLINAR                                   43   \n",
       "PUNT_INTERDISCIPLINAR                                  51   \n",
       "COD_IDIOMA                                             51   \n",
       "PUNT_IDIOMA                                            37   \n",
       "ESTU_IES_COD_DESEADA                                  NaN   \n",
       "ESTU_RAZONINSTITUTO                                   NaN   \n",
       "ESTU_CARRDESEADA_COD                                  NaN   \n",
       "ESTU_CARRDESEADA_RAZON                                NaN   \n",
       "FAMI_PERSONAS_HOGAR                                     4   \n",
       "FAMI_VIVIENDA_PROPIA                                    S   \n",
       "FAMI_DEUDA_VIVIENDA                                     N   \n",
       "FAMI_APORTANTES                                         2   \n",
       "FAMI_INGRESO_FMILIAR_MENSUAL                            1   \n",
       "FAMI_LEE_ESCRIBE_PADRE                                  S   \n",
       "FAMI_LEE_ESCRIBE_MADRE                                  S   \n",
       "FAMI_EDUCA_PADRE                                        4   \n",
       "FAMI_EDUCA_MADRE                                        4   \n",
       "FAMI_OCUPA_PADRE                                       09   \n",
       "FAMI_OCUPA_MADRE                                       09   \n",
       "FAMI_NUM_HERMANOS                                       6   \n",
       "FAMI_NUM_HERMANOS_EDUSUPERIOR                           0   \n",
       "FAMI_POSICION_HERMANOS                                  6   \n",
       "FAMI_SOST_PERSONAL                                      T   \n",
       "ESTU_TRABAJA                                            N   \n",
       "ESTU_ACT_PROX_ANNO                                      3   \n",
       "COLE_CALENDARIO                                         A   \n",
       "COLE_BILINGUE                                         NaN   \n",
       "COLE_CARACTER                                   ACADEMICO   \n",
       "COLE_DEPTO_UBICACION                            ANTIOQUIA   \n",
       "COLE_MCPIO_UBICACION                             MEDELLIN   \n",
       "ESTU_TIPO_DOCUMENTO                                     T   \n",
       "ESTU_RESIDE_DEPTO                               ANTIOQUIA   \n",
       "ESTU_RESIDE_MCPIO                                MEDELLIN   \n",
       "\n",
       "                                                       1  \\\n",
       "ESTU_CONSECUTIVO                        SB11200020210439   \n",
       "COLE_COD_ICFES                                       364   \n",
       "COLE_NOMBRE_SEDE               COLEGIO MARIA AUXILIADORA   \n",
       "IND_ANNO_TERMINO_BACHILLERATO                       2000   \n",
       "COLE_JORNADA                                           C   \n",
       "COLE_VALOR_PENSION                                     5   \n",
       "ESTU_GENERO                                            F   \n",
       "ESTU_NACIMIENTO_DIA                                   27   \n",
       "ESTU_NACIMIENTO_MES                                    4   \n",
       "ESTU_NACIMIENTO_ANNO                                1984   \n",
       "ESTU_DEPTO_PRESENTACION                        ANTIOQUIA   \n",
       "ESTU_MCPIO_PRESENTACION                         MEDELLIN   \n",
       "ESTU_ETNIA                                           NaN   \n",
       "ESTU_LIMITA_INVIDENTE                                NaN   \n",
       "ESTU_LIMITA_SORDOINTERPRETE                          NaN   \n",
       "ESTU_LIMITA_SORDONOINTERPRETE                        NaN   \n",
       "ESTU_LIMITA_MOTRIZ                                   NaN   \n",
       "PUNT_BIOLOGIA                                         48   \n",
       "PUNT_MATEMATICAS                                      47   \n",
       "PUNT_FILOSOFIA                                        57   \n",
       "PUNT_FISICA                                           52   \n",
       "PUNT_HISTORIA                                         46   \n",
       "PUNT_QUIMICA                                          38   \n",
       "PUNT_LENGUAJE                                         52   \n",
       "PUNT_GEOGRAFIA                                        49   \n",
       "COD_INTERDISCIPLINAR                                  43   \n",
       "PUNT_INTERDISCIPLINAR                                 25   \n",
       "COD_IDIOMA                                            51   \n",
       "PUNT_IDIOMA                                           42   \n",
       "ESTU_IES_COD_DESEADA                                1712   \n",
       "ESTU_RAZONINSTITUTO                                    7   \n",
       "ESTU_CARRDESEADA_COD                               48117   \n",
       "ESTU_CARRDESEADA_RAZON                                 3   \n",
       "FAMI_PERSONAS_HOGAR                                    4   \n",
       "FAMI_VIVIENDA_PROPIA                                   S   \n",
       "FAMI_DEUDA_VIVIENDA                                  NaN   \n",
       "FAMI_APORTANTES                                        1   \n",
       "FAMI_INGRESO_FMILIAR_MENSUAL                           1   \n",
       "FAMI_LEE_ESCRIBE_PADRE                                 S   \n",
       "FAMI_LEE_ESCRIBE_MADRE                                 S   \n",
       "FAMI_EDUCA_PADRE                                       7   \n",
       "FAMI_EDUCA_MADRE                                       7   \n",
       "FAMI_OCUPA_PADRE                                      04   \n",
       "FAMI_OCUPA_MADRE                                      04   \n",
       "FAMI_NUM_HERMANOS                                      1   \n",
       "FAMI_NUM_HERMANOS_EDUSUPERIOR                          1   \n",
       "FAMI_POSICION_HERMANOS                                 2   \n",
       "FAMI_SOST_PERSONAL                                     T   \n",
       "ESTU_TRABAJA                                           N   \n",
       "ESTU_ACT_PROX_ANNO                                     1   \n",
       "COLE_CALENDARIO                                        A   \n",
       "COLE_BILINGUE                                        NaN   \n",
       "COLE_CARACTER                                  ACADEMICO   \n",
       "COLE_DEPTO_UBICACION                           ANTIOQUIA   \n",
       "COLE_MCPIO_UBICACION                            MEDELLIN   \n",
       "ESTU_TIPO_DOCUMENTO                                    T   \n",
       "ESTU_RESIDE_DEPTO                              ANTIOQUIA   \n",
       "ESTU_RESIDE_MCPIO                               MEDELLIN   \n",
       "\n",
       "                                                                 2  \n",
       "ESTU_CONSECUTIVO                                  SB11200020155853  \n",
       "COLE_COD_ICFES                                               56820  \n",
       "COLE_NOMBRE_SEDE               INSTITUTO TECNOLOGICO METROPOLITANO  \n",
       "IND_ANNO_TERMINO_BACHILLERATO                                 2000  \n",
       "COLE_JORNADA                                                     N  \n",
       "COLE_VALOR_PENSION                                               1  \n",
       "ESTU_GENERO                                                      F  \n",
       "ESTU_NACIMIENTO_DIA                                              3  \n",
       "ESTU_NACIMIENTO_MES                                              1  \n",
       "ESTU_NACIMIENTO_ANNO                                          1978  \n",
       "ESTU_DEPTO_PRESENTACION                                  ANTIOQUIA  \n",
       "ESTU_MCPIO_PRESENTACION                                   MEDELLIN  \n",
       "ESTU_ETNIA                                                     NaN  \n",
       "ESTU_LIMITA_INVIDENTE                                          NaN  \n",
       "ESTU_LIMITA_SORDOINTERPRETE                                    NaN  \n",
       "ESTU_LIMITA_SORDONOINTERPRETE                                  NaN  \n",
       "ESTU_LIMITA_MOTRIZ                                             NaN  \n",
       "PUNT_BIOLOGIA                                                   42  \n",
       "PUNT_MATEMATICAS                                                40  \n",
       "PUNT_FILOSOFIA                                                  53  \n",
       "PUNT_FISICA                                                     44  \n",
       "PUNT_HISTORIA                                                   46  \n",
       "PUNT_QUIMICA                                                    42  \n",
       "PUNT_LENGUAJE                                                   43  \n",
       "PUNT_GEOGRAFIA                                                  45  \n",
       "COD_INTERDISCIPLINAR                                            43  \n",
       "PUNT_INTERDISCIPLINAR                                           44  \n",
       "COD_IDIOMA                                                      51  \n",
       "PUNT_IDIOMA                                                     43  \n",
       "ESTU_IES_COD_DESEADA                                          1201  \n",
       "ESTU_RAZONINSTITUTO                                              3  \n",
       "ESTU_CARRDESEADA_COD                                         12136  \n",
       "ESTU_CARRDESEADA_RAZON                                           5  \n",
       "FAMI_PERSONAS_HOGAR                                              6  \n",
       "FAMI_VIVIENDA_PROPIA                                             S  \n",
       "FAMI_DEUDA_VIVIENDA                                              N  \n",
       "FAMI_APORTANTES                                                  1  \n",
       "FAMI_INGRESO_FMILIAR_MENSUAL                                     1  \n",
       "FAMI_LEE_ESCRIBE_PADRE                                           S  \n",
       "FAMI_LEE_ESCRIBE_MADRE                                           S  \n",
       "FAMI_EDUCA_PADRE                                                 3  \n",
       "FAMI_EDUCA_MADRE                                                 3  \n",
       "FAMI_OCUPA_PADRE                                                08  \n",
       "FAMI_OCUPA_MADRE                                                10  \n",
       "FAMI_NUM_HERMANOS                                                2  \n",
       "FAMI_NUM_HERMANOS_EDUSUPERIOR                                    1  \n",
       "FAMI_POSICION_HERMANOS                                           1  \n",
       "FAMI_SOST_PERSONAL                                               T  \n",
       "ESTU_TRABAJA                                                     N  \n",
       "ESTU_ACT_PROX_ANNO                                               3  \n",
       "COLE_CALENDARIO                                                  F  \n",
       "COLE_BILINGUE                                                  NaN  \n",
       "COLE_CARACTER                                  ACADEMICO Y TECNICO  \n",
       "COLE_DEPTO_UBICACION                                     ANTIOQUIA  \n",
       "COLE_MCPIO_UBICACION                                      MEDELLIN  \n",
       "ESTU_TIPO_DOCUMENTO                                              C  \n",
       "ESTU_RESIDE_DEPTO                                        ANTIOQUIA  \n",
       "ESTU_RESIDE_MCPIO                                         MEDELLIN  "
      ]
     },
     "execution_count": 4,
     "metadata": {},
     "output_type": "execute_result"
    }
   ],
   "source": [
    "data_2000_2.head(3).T"
   ]
  },
  {
   "cell_type": "markdown",
   "metadata": {},
   "source": [
    "The first thing i want to do is delete the columns that does not contribute to the task"
   ]
  },
  {
   "cell_type": "markdown",
   "metadata": {},
   "source": [
    "The columns that does not contribute to the task are:\n",
    "- ESTU_CONSECUTIVO\n",
    "- COLE_NOMBRE_SEDE\n",
    "- ESTU_TIPO_DOCUMENTO"
   ]
  },
  {
   "cell_type": "code",
   "execution_count": 5,
   "metadata": {
    "collapsed": false
   },
   "outputs": [],
   "source": [
    "data_2000_2 = data_2000_2.drop(['ESTU_CONSECUTIVO', 'COLE_NOMBRE_SEDE', 'ESTU_TIPO_DOCUMENTO'], axis=1)"
   ]
  },
  {
   "cell_type": "markdown",
   "metadata": {},
   "source": [
    "Now i can check the other columns to delete the lines that has strange characters and to decide what to do with the NaN values"
   ]
  },
  {
   "cell_type": "code",
   "execution_count": 6,
   "metadata": {
    "collapsed": false
   },
   "outputs": [
    {
     "data": {
      "text/plain": [
       "Index(['COLE_COD_ICFES', 'IND_ANNO_TERMINO_BACHILLERATO', 'COLE_JORNADA',\n",
       "       'COLE_VALOR_PENSION', 'ESTU_GENERO', 'ESTU_NACIMIENTO_DIA',\n",
       "       'ESTU_NACIMIENTO_MES', 'ESTU_NACIMIENTO_ANNO',\n",
       "       'ESTU_DEPTO_PRESENTACION', 'ESTU_MCPIO_PRESENTACION', 'ESTU_ETNIA',\n",
       "       'ESTU_LIMITA_INVIDENTE', 'ESTU_LIMITA_SORDOINTERPRETE',\n",
       "       'ESTU_LIMITA_SORDONOINTERPRETE', 'ESTU_LIMITA_MOTRIZ', 'PUNT_BIOLOGIA',\n",
       "       'PUNT_MATEMATICAS', 'PUNT_FILOSOFIA', 'PUNT_FISICA', 'PUNT_HISTORIA',\n",
       "       'PUNT_QUIMICA', 'PUNT_LENGUAJE', 'PUNT_GEOGRAFIA',\n",
       "       'COD_INTERDISCIPLINAR', 'PUNT_INTERDISCIPLINAR', 'COD_IDIOMA',\n",
       "       'PUNT_IDIOMA', 'ESTU_IES_COD_DESEADA', 'ESTU_RAZONINSTITUTO',\n",
       "       'ESTU_CARRDESEADA_COD', 'ESTU_CARRDESEADA_RAZON', 'FAMI_PERSONAS_HOGAR',\n",
       "       'FAMI_VIVIENDA_PROPIA', 'FAMI_DEUDA_VIVIENDA', 'FAMI_APORTANTES',\n",
       "       'FAMI_INGRESO_FMILIAR_MENSUAL', 'FAMI_LEE_ESCRIBE_PADRE',\n",
       "       'FAMI_LEE_ESCRIBE_MADRE', 'FAMI_EDUCA_PADRE', 'FAMI_EDUCA_MADRE',\n",
       "       'FAMI_OCUPA_PADRE', 'FAMI_OCUPA_MADRE', 'FAMI_NUM_HERMANOS',\n",
       "       'FAMI_NUM_HERMANOS_EDUSUPERIOR', 'FAMI_POSICION_HERMANOS',\n",
       "       'FAMI_SOST_PERSONAL', 'ESTU_TRABAJA', 'ESTU_ACT_PROX_ANNO',\n",
       "       'COLE_CALENDARIO', 'COLE_BILINGUE', 'COLE_CARACTER',\n",
       "       'COLE_DEPTO_UBICACION', 'COLE_MCPIO_UBICACION', 'ESTU_RESIDE_DEPTO',\n",
       "       'ESTU_RESIDE_MCPIO'],\n",
       "      dtype='object')"
      ]
     },
     "execution_count": 6,
     "metadata": {},
     "output_type": "execute_result"
    }
   ],
   "source": [
    "data_2000_2.columns"
   ]
  },
  {
   "cell_type": "code",
   "execution_count": 7,
   "metadata": {
    "collapsed": false,
    "scrolled": true
   },
   "outputs": [
    {
     "name": "stdout",
     "output_type": "stream",
     "text": [
      "Float64Index([   18.0,    59.0,    75.0,    83.0,    91.0,   117.0,   125.0,\n",
      "                141.0,   158.0,   174.0,\n",
      "              ...\n",
      "              93740.0, 93757.0, 93765.0, 93773.0, 93781.0, 93799.0, 93807.0,\n",
      "              93815.0, 93823.0, 93831.0],\n",
      "             dtype='float64', length=6573)\n",
      "18.0        22\n",
      "59.0       913\n",
      "75.0        51\n",
      "83.0        56\n",
      "91.0       133\n",
      "117.0       38\n",
      "125.0      102\n",
      "141.0       81\n",
      "158.0       40\n",
      "174.0      107\n",
      "190.0       55\n",
      "208.0      108\n",
      "216.0       33\n",
      "232.0       31\n",
      "240.0      197\n",
      "257.0      109\n",
      "265.0      697\n",
      "273.0       90\n",
      "281.0       74\n",
      "315.0      180\n",
      "349.0       12\n",
      "356.0       32\n",
      "364.0       78\n",
      "372.0       68\n",
      "380.0      234\n",
      "398.0       42\n",
      "406.0       60\n",
      "422.0       33\n",
      "430.0       88\n",
      "448.0       25\n",
      "          ... \n",
      "93542.0     20\n",
      "93559.0     22\n",
      "93567.0     31\n",
      "93575.0      5\n",
      "93583.0     39\n",
      "93591.0     53\n",
      "93609.0     13\n",
      "93617.0     18\n",
      "93625.0     26\n",
      "93633.0     10\n",
      "93641.0     19\n",
      "93658.0     15\n",
      "93666.0     39\n",
      "93674.0     32\n",
      "93682.0     14\n",
      "93690.0      2\n",
      "93708.0     11\n",
      "93716.0     68\n",
      "93724.0      4\n",
      "93732.0     16\n",
      "93740.0     15\n",
      "93757.0      9\n",
      "93765.0     36\n",
      "93773.0     17\n",
      "93781.0     10\n",
      "93799.0     36\n",
      "93807.0     40\n",
      "93815.0     31\n",
      "93823.0     18\n",
      "93831.0     58\n",
      "Name: COLE_COD_ICFES, dtype: int64\n"
     ]
    }
   ],
   "source": [
    "\"\"\"It looks like a good columns, type: float64\"\"\"\n",
    "print(data_2000_2['COLE_COD_ICFES'].value_counts().sort_index().index)\n",
    "print(data_2000_2['COLE_COD_ICFES'].value_counts().sort_index())"
   ]
  },
  {
   "cell_type": "code",
   "execution_count": 8,
   "metadata": {
    "collapsed": false,
    "scrolled": true
   },
   "outputs": [
    {
     "name": "stdout",
     "output_type": "stream",
     "text": [
      "Index(['1959', '1979', '1980', '1981', '1982', '1983', '1984', '1987', '1988',\n",
      "       '1989', '1991', '1992', '1993', '1994', '1995', '1996', '1997', '1998',\n",
      "       '1999', '2', '2  0', '2  1', '2 *0', '2 0', '2 00', '2*00', '20',\n",
      "       '20 *', '20 0', '20 1', '20*', '20**', '20*0', '200', '200*', '2000',\n",
      "       '2001', '2002', '2006', '201', '2010', '2011', '2020', '2022', '2030',\n",
      "       '2060', '2099'],\n",
      "      dtype='object')\n",
      "1959         1\n",
      "1979         1\n",
      "1980         1\n",
      "1981         1\n",
      "1982         1\n",
      "1983         1\n",
      "1984         1\n",
      "1987         1\n",
      "1988         1\n",
      "1989         3\n",
      "1991         2\n",
      "1992         1\n",
      "1993         2\n",
      "1994         1\n",
      "1995         4\n",
      "1996         6\n",
      "1997         7\n",
      "1998        20\n",
      "1999       226\n",
      "2           74\n",
      "2  0        58\n",
      "2  1         1\n",
      "2 *0         1\n",
      "2 0         30\n",
      "2 00      1140\n",
      "2*00         4\n",
      "20         152\n",
      "20 *         2\n",
      "20 0       458\n",
      "20 1         1\n",
      "20*          2\n",
      "20**         5\n",
      "20*0         7\n",
      "200        306\n",
      "200*         2\n",
      "2000    352083\n",
      "2001       122\n",
      "2002         3\n",
      "2006         1\n",
      "201          2\n",
      "2010        16\n",
      "2011        36\n",
      "2020         1\n",
      "2022         1\n",
      "2030         1\n",
      "2060         1\n",
      "2099         2\n",
      "Name: IND_ANNO_TERMINO_BACHILLERATO, dtype: int64\n"
     ]
    }
   ],
   "source": [
    "\"\"\"There are some years that are not valid, so this lines will be deleted\"\"\"\n",
    "print(data_2000_2['IND_ANNO_TERMINO_BACHILLERATO'].value_counts().sort_index().index)\n",
    "print(data_2000_2['IND_ANNO_TERMINO_BACHILLERATO'].value_counts().sort_index())"
   ]
  },
  {
   "cell_type": "code",
   "execution_count": 9,
   "metadata": {
    "collapsed": false
   },
   "outputs": [],
   "source": [
    "data_2000_2 = drop_lines(data_2000_2, 'IND_ANNO_TERMINO_BACHILLERATO', '201')\n",
    "data_2000_2 = drop_lines(data_2000_2, 'IND_ANNO_TERMINO_BACHILLERATO', '2')\n",
    "data_2000_2 = drop_lines(data_2000_2, 'IND_ANNO_TERMINO_BACHILLERATO', '2  0')\n",
    "data_2000_2 = drop_lines(data_2000_2, 'IND_ANNO_TERMINO_BACHILLERATO', '2  1')\n",
    "data_2000_2 = drop_lines(data_2000_2, 'IND_ANNO_TERMINO_BACHILLERATO', '2 *0')\n",
    "data_2000_2 = drop_lines(data_2000_2, 'IND_ANNO_TERMINO_BACHILLERATO', '2 0')\n",
    "data_2000_2 = drop_lines(data_2000_2, 'IND_ANNO_TERMINO_BACHILLERATO', '2 00')\n",
    "data_2000_2 = drop_lines(data_2000_2, 'IND_ANNO_TERMINO_BACHILLERATO', '2*00')\n",
    "data_2000_2 = drop_lines(data_2000_2, 'IND_ANNO_TERMINO_BACHILLERATO', '20')\n",
    "data_2000_2 = drop_lines(data_2000_2, 'IND_ANNO_TERMINO_BACHILLERATO', '20 *')\n",
    "data_2000_2 = drop_lines(data_2000_2, 'IND_ANNO_TERMINO_BACHILLERATO', '20 0')\n",
    "data_2000_2 = drop_lines(data_2000_2, 'IND_ANNO_TERMINO_BACHILLERATO', '20 1')\n",
    "data_2000_2 = drop_lines(data_2000_2, 'IND_ANNO_TERMINO_BACHILLERATO', '20*')\n",
    "data_2000_2 = drop_lines(data_2000_2, 'IND_ANNO_TERMINO_BACHILLERATO', '20**')\n",
    "data_2000_2 = drop_lines(data_2000_2, 'IND_ANNO_TERMINO_BACHILLERATO', '20*0')\n",
    "data_2000_2 = drop_lines(data_2000_2, 'IND_ANNO_TERMINO_BACHILLERATO', '200')\n",
    "data_2000_2 = drop_lines(data_2000_2, 'IND_ANNO_TERMINO_BACHILLERATO', '200*')"
   ]
  },
  {
   "cell_type": "code",
   "execution_count": 10,
   "metadata": {
    "collapsed": false,
    "scrolled": true
   },
   "outputs": [
    {
     "name": "stdout",
     "output_type": "stream",
     "text": [
      "Index(['C', 'M', 'N', 'S', 'T'], dtype='object')\n",
      "C     82291\n",
      "M    146632\n",
      "N     46800\n",
      "S       449\n",
      "T     76445\n",
      "Name: COLE_JORNADA, dtype: int64\n"
     ]
    }
   ],
   "source": [
    "\"\"\"This columns looks good\"\"\"\n",
    "print(data_2000_2['COLE_JORNADA'].value_counts().sort_index().index)\n",
    "print(data_2000_2['COLE_JORNADA'].value_counts().sort_index())"
   ]
  },
  {
   "cell_type": "code",
   "execution_count": 11,
   "metadata": {
    "collapsed": false,
    "scrolled": false
   },
   "outputs": [
    {
     "name": "stdout",
     "output_type": "stream",
     "text": [
      "Elementos null/NaN 19353\n",
      "__________________\n",
      "Elementos diferentes de null/NaN: 333264\n",
      "__________________\n",
      "(333264,)\n"
     ]
    }
   ],
   "source": [
    "\"\"\"Obtained an error, a this happens because of the NaN values, i decide to do a first treatment, just deleting the \n",
    "data. Then in another time i can find another way to treat this NaN values. This almost 20000 lines just represent \n",
    "a 5% of the data\"\"\"\n",
    "#print(data_2000_2['COLE_VALOR_PENSION'].value_counts().sort_index().index)\n",
    "#print(data_2000_2['COLE_VALOR_PENSION'].value_counts().sort_index())\n",
    "missing_data(data_2000_2['COLE_VALOR_PENSION'])"
   ]
  },
  {
   "cell_type": "code",
   "execution_count": 12,
   "metadata": {
    "collapsed": false
   },
   "outputs": [],
   "source": [
    "\"\"\"Deleting the lines that has de NaN value in the columns COLE_VALOR_PENSION\"\"\"\n",
    "data_2000_2.drop(data_2000_2[data_2000_2['COLE_VALOR_PENSION'].isnull()].index, inplace=True)"
   ]
  },
  {
   "cell_type": "code",
   "execution_count": 13,
   "metadata": {
    "collapsed": false
   },
   "outputs": [
    {
     "data": {
      "text/plain": [
       "0"
      ]
     },
     "execution_count": 13,
     "metadata": {},
     "output_type": "execute_result"
    }
   ],
   "source": [
    "\"\"\"Checking if that worked\"\"\"\n",
    "data_2000_2['COLE_VALOR_PENSION'].isnull().sum()"
   ]
  },
  {
   "cell_type": "code",
   "execution_count": 14,
   "metadata": {
    "collapsed": false
   },
   "outputs": [
    {
     "data": {
      "text/plain": [
       "1      99503\n",
       "8      61552\n",
       "1.0    39173\n",
       "8.0    28694\n",
       "2      23161\n",
       "3      18513\n",
       "4      14730\n",
       "5      10992\n",
       "6       8598\n",
       "2.0     7539\n",
       "3.0     5704\n",
       "4.0     5328\n",
       "5.0     4826\n",
       "7       2586\n",
       "6.0     1834\n",
       "7.0      503\n",
       "*         28\n",
       "Name: COLE_VALOR_PENSION, dtype: int64"
      ]
     },
     "execution_count": 14,
     "metadata": {},
     "output_type": "execute_result"
    }
   ],
   "source": [
    "data_2000_2['COLE_VALOR_PENSION'].value_counts()"
   ]
  },
  {
   "cell_type": "code",
   "execution_count": 15,
   "metadata": {
    "collapsed": true
   },
   "outputs": [],
   "source": [
    "\"\"\"So now, i can replace the duplicates written as floats. I insert the string values corresponding to each number\"\"\"\n",
    "data_2000_2['COLE_VALOR_PENSION'] = data_2000_2['COLE_VALOR_PENSION'].replace(1.0, '1')\n",
    "data_2000_2['COLE_VALOR_PENSION'] = data_2000_2['COLE_VALOR_PENSION'].replace(8.0, '8')\n",
    "data_2000_2['COLE_VALOR_PENSION'] = data_2000_2['COLE_VALOR_PENSION'].replace(2.0, '2')\n",
    "data_2000_2['COLE_VALOR_PENSION'] = data_2000_2['COLE_VALOR_PENSION'].replace(3.0, '3')\n",
    "data_2000_2['COLE_VALOR_PENSION'] = data_2000_2['COLE_VALOR_PENSION'].replace(4.0, '4')\n",
    "data_2000_2['COLE_VALOR_PENSION'] = data_2000_2['COLE_VALOR_PENSION'].replace(5.0, '5')\n",
    "data_2000_2['COLE_VALOR_PENSION'] = data_2000_2['COLE_VALOR_PENSION'].replace(6.0, '6')\n",
    "data_2000_2['COLE_VALOR_PENSION'] = data_2000_2['COLE_VALOR_PENSION'].replace(7.0, '7')\n",
    "\n",
    "\"\"\"Now the files with the '*' value are deleted\"\"\"\n",
    "data_2000_2 = drop_lines(data_2000_2, 'COLE_VALOR_PENSION', '*')"
   ]
  },
  {
   "cell_type": "code",
   "execution_count": 16,
   "metadata": {
    "collapsed": false
   },
   "outputs": [
    {
     "name": "stdout",
     "output_type": "stream",
     "text": [
      "Index(['1', '2', '3', '4', '5', '6', '7', '8'], dtype='object')\n",
      "1    138676\n",
      "2     30700\n",
      "3     24217\n",
      "4     20058\n",
      "5     15818\n",
      "6     10432\n",
      "7      3089\n",
      "8     90246\n",
      "Name: COLE_VALOR_PENSION, dtype: int64\n"
     ]
    }
   ],
   "source": [
    "print(data_2000_2['COLE_VALOR_PENSION'].value_counts().sort_index().index)\n",
    "print(data_2000_2['COLE_VALOR_PENSION'].value_counts().sort_index())"
   ]
  },
  {
   "cell_type": "code",
   "execution_count": 17,
   "metadata": {
    "collapsed": false
   },
   "outputs": [
    {
     "name": "stdout",
     "output_type": "stream",
     "text": [
      "Index(['F', 'M'], dtype='object')\n",
      "F    180197\n",
      "M    153039\n",
      "Name: ESTU_GENERO, dtype: int64\n"
     ]
    }
   ],
   "source": [
    "\"\"\"This column is ok\"\"\"\n",
    "print(data_2000_2['ESTU_GENERO'].value_counts().sort_index().index)\n",
    "print(data_2000_2['ESTU_GENERO'].value_counts().sort_index())"
   ]
  },
  {
   "cell_type": "code",
   "execution_count": 18,
   "metadata": {
    "collapsed": false
   },
   "outputs": [
    {
     "name": "stdout",
     "output_type": "stream",
     "text": [
      "Index(['01', '20', '05', '10', '03', '28', '15', '18', '12', '07', '04', '06',\n",
      "       '23', '08', '02', '17', '11', '25', '26', '16', '22', '14', '24', '27',\n",
      "       '09', '13', '19', '21', '29', '30', '31',  1.0,  5.0,  3.0, 15.0, 10.0,\n",
      "        6.0, 20.0, 25.0,  2.0, 12.0,  7.0,  8.0, 27.0, 28.0, 17.0, 16.0,  9.0,\n",
      "       11.0, 18.0,  4.0, 14.0, 23.0, 19.0, 22.0, 24.0, 26.0, 13.0, 21.0, 29.0,\n",
      "       30.0, 31.0,  '1',  '2',  '3',  '*', '1*',  '0',  '4',  '8', '2*',  '7',\n",
      "        0.0,  '9',  '5', '00',  '6', '32', '39', '*1', '*9', '0*'],\n",
      "      dtype='object')\n",
      "01      8320\n",
      "20      8290\n",
      "05      8258\n",
      "10      8254\n",
      "03      8186\n",
      "28      8169\n",
      "15      8091\n",
      "18      8049\n",
      "12      7993\n",
      "07      7985\n",
      "04      7975\n",
      "06      7967\n",
      "23      7965\n",
      "08      7964\n",
      "02      7955\n",
      "17      7938\n",
      "11      7928\n",
      "25      7879\n",
      "26      7877\n",
      "16      7831\n",
      "22      7829\n",
      "14      7804\n",
      "24      7792\n",
      "27      7785\n",
      "09      7764\n",
      "13      7685\n",
      "19      7632\n",
      "21      7583\n",
      "29      7395\n",
      "30      7228\n",
      "        ... \n",
      "23.0    2944\n",
      "19.0    2927\n",
      "22.0    2921\n",
      "24.0    2913\n",
      "26.0    2868\n",
      "13.0    2846\n",
      "21.0    2820\n",
      "29.0    2784\n",
      "30.0    2713\n",
      "31.0    1615\n",
      "1        196\n",
      "2        176\n",
      "3         42\n",
      "*         22\n",
      "1*        14\n",
      "0         13\n",
      "4          9\n",
      "8          8\n",
      "2*         6\n",
      "7          6\n",
      "0.0        5\n",
      "9          4\n",
      "5          3\n",
      "00         2\n",
      "6          2\n",
      "32         1\n",
      "39         1\n",
      "*1         1\n",
      "*9         1\n",
      "0*         1\n",
      "Name: ESTU_NACIMIENTO_DIA, dtype: int64\n",
      "Elementos null/NaN 262\n",
      "__________________\n",
      "Elementos diferentes de null/NaN: 332974\n",
      "__________________\n",
      "(332974,)\n"
     ]
    }
   ],
   "source": [
    "\"\"\"I get errors with this column\"\"\"\n",
    "print(data_2000_2['ESTU_NACIMIENTO_DIA'].value_counts().index)\n",
    "print(data_2000_2['ESTU_NACIMIENTO_DIA'].value_counts())\n",
    "missing_data(data_2000_2['ESTU_NACIMIENTO_DIA'])"
   ]
  },
  {
   "cell_type": "code",
   "execution_count": 19,
   "metadata": {
    "collapsed": true
   },
   "outputs": [],
   "source": [
    "\"\"\"how there is just 268 lines with NaN values, i decide to delete them\"\"\"\n",
    "data_2000_2.drop(data_2000_2[data_2000_2['ESTU_NACIMIENTO_DIA'].isnull()].index, inplace=True)"
   ]
  },
  {
   "cell_type": "code",
   "execution_count": 20,
   "metadata": {
    "collapsed": true
   },
   "outputs": [],
   "source": [
    "\"\"\"With the NaN values deleted, there is some lines that has to be erased\"\"\"\n",
    "data_2000_2 = drop_lines(data_2000_2, 'ESTU_NACIMIENTO_DIA', '*')\n",
    "data_2000_2 = drop_lines(data_2000_2, 'ESTU_NACIMIENTO_DIA', '1*')\n",
    "data_2000_2 = drop_lines(data_2000_2, 'ESTU_NACIMIENTO_DIA', '0')\n",
    "data_2000_2 = drop_lines(data_2000_2, 'ESTU_NACIMIENTO_DIA', '2*')\n",
    "data_2000_2 = drop_lines(data_2000_2, 'ESTU_NACIMIENTO_DIA', 0.0)\n",
    "data_2000_2 = drop_lines(data_2000_2, 'ESTU_NACIMIENTO_DIA', '00')\n",
    "data_2000_2 = drop_lines(data_2000_2, 'ESTU_NACIMIENTO_DIA', '*1')\n",
    "data_2000_2 = drop_lines(data_2000_2, 'ESTU_NACIMIENTO_DIA', '0*')\n",
    "data_2000_2 = drop_lines(data_2000_2, 'ESTU_NACIMIENTO_DIA', '*9')\n",
    "data_2000_2 = drop_lines(data_2000_2, 'ESTU_NACIMIENTO_DIA', '32')\n",
    "data_2000_2 = drop_lines(data_2000_2, 'ESTU_NACIMIENTO_DIA', '39')\n",
    "\n",
    "\"\"\"Now it's time to replace the number values for string values\"\"\"\n",
    "data_2000_2['ESTU_NACIMIENTO_DIA'] = data_2000_2['ESTU_NACIMIENTO_DIA'].replace(1.0, '1')\n",
    "data_2000_2['ESTU_NACIMIENTO_DIA'] = data_2000_2['ESTU_NACIMIENTO_DIA'].replace(2.0, '2')\n",
    "data_2000_2['ESTU_NACIMIENTO_DIA'] = data_2000_2['ESTU_NACIMIENTO_DIA'].replace(3.0, '3')\n",
    "data_2000_2['ESTU_NACIMIENTO_DIA'] = data_2000_2['ESTU_NACIMIENTO_DIA'].replace(4.0, '4')\n",
    "data_2000_2['ESTU_NACIMIENTO_DIA'] = data_2000_2['ESTU_NACIMIENTO_DIA'].replace(5.0, '5')\n",
    "data_2000_2['ESTU_NACIMIENTO_DIA'] = data_2000_2['ESTU_NACIMIENTO_DIA'].replace(6.0, '6')\n",
    "data_2000_2['ESTU_NACIMIENTO_DIA'] = data_2000_2['ESTU_NACIMIENTO_DIA'].replace(7.0, '7')\n",
    "data_2000_2['ESTU_NACIMIENTO_DIA'] = data_2000_2['ESTU_NACIMIENTO_DIA'].replace(8.0, '8')\n",
    "data_2000_2['ESTU_NACIMIENTO_DIA'] = data_2000_2['ESTU_NACIMIENTO_DIA'].replace(9.0, '9')\n",
    "data_2000_2['ESTU_NACIMIENTO_DIA'] = data_2000_2['ESTU_NACIMIENTO_DIA'].replace(10.0, '10')\n",
    "data_2000_2['ESTU_NACIMIENTO_DIA'] = data_2000_2['ESTU_NACIMIENTO_DIA'].replace(11.0, '11')\n",
    "data_2000_2['ESTU_NACIMIENTO_DIA'] = data_2000_2['ESTU_NACIMIENTO_DIA'].replace(12.0, '12')\n",
    "data_2000_2['ESTU_NACIMIENTO_DIA'] = data_2000_2['ESTU_NACIMIENTO_DIA'].replace(13.0, '13')\n",
    "data_2000_2['ESTU_NACIMIENTO_DIA'] = data_2000_2['ESTU_NACIMIENTO_DIA'].replace(14.0, '14')\n",
    "data_2000_2['ESTU_NACIMIENTO_DIA'] = data_2000_2['ESTU_NACIMIENTO_DIA'].replace(15.0, '15')\n",
    "data_2000_2['ESTU_NACIMIENTO_DIA'] = data_2000_2['ESTU_NACIMIENTO_DIA'].replace(16.0, '16')\n",
    "data_2000_2['ESTU_NACIMIENTO_DIA'] = data_2000_2['ESTU_NACIMIENTO_DIA'].replace(17.0, '17')\n",
    "data_2000_2['ESTU_NACIMIENTO_DIA'] = data_2000_2['ESTU_NACIMIENTO_DIA'].replace(18.0, '18')\n",
    "data_2000_2['ESTU_NACIMIENTO_DIA'] = data_2000_2['ESTU_NACIMIENTO_DIA'].replace(19.0, '19')\n",
    "data_2000_2['ESTU_NACIMIENTO_DIA'] = data_2000_2['ESTU_NACIMIENTO_DIA'].replace(20.0, '20')\n",
    "data_2000_2['ESTU_NACIMIENTO_DIA'] = data_2000_2['ESTU_NACIMIENTO_DIA'].replace(21.0, '21')\n",
    "data_2000_2['ESTU_NACIMIENTO_DIA'] = data_2000_2['ESTU_NACIMIENTO_DIA'].replace(22.0, '22')\n",
    "data_2000_2['ESTU_NACIMIENTO_DIA'] = data_2000_2['ESTU_NACIMIENTO_DIA'].replace(23.0, '23')\n",
    "data_2000_2['ESTU_NACIMIENTO_DIA'] = data_2000_2['ESTU_NACIMIENTO_DIA'].replace(24.0, '24')\n",
    "data_2000_2['ESTU_NACIMIENTO_DIA'] = data_2000_2['ESTU_NACIMIENTO_DIA'].replace(25.0, '25')\n",
    "data_2000_2['ESTU_NACIMIENTO_DIA'] = data_2000_2['ESTU_NACIMIENTO_DIA'].replace(26.0, '26')\n",
    "data_2000_2['ESTU_NACIMIENTO_DIA'] = data_2000_2['ESTU_NACIMIENTO_DIA'].replace(27.0, '27')\n",
    "data_2000_2['ESTU_NACIMIENTO_DIA'] = data_2000_2['ESTU_NACIMIENTO_DIA'].replace(28.0, '28')\n",
    "data_2000_2['ESTU_NACIMIENTO_DIA'] = data_2000_2['ESTU_NACIMIENTO_DIA'].replace(29.0, '29')\n",
    "data_2000_2['ESTU_NACIMIENTO_DIA'] = data_2000_2['ESTU_NACIMIENTO_DIA'].replace(30.0, '30')\n",
    "data_2000_2['ESTU_NACIMIENTO_DIA'] = data_2000_2['ESTU_NACIMIENTO_DIA'].replace(31.0, '31')\n",
    "\n",
    "\n",
    "\"\"\"And Finally a change some values to left everything in just one way\"\"\"\n",
    "data_2000_2['ESTU_NACIMIENTO_DIA'] = data_2000_2['ESTU_NACIMIENTO_DIA'].replace('01', '1')\n",
    "data_2000_2['ESTU_NACIMIENTO_DIA'] = data_2000_2['ESTU_NACIMIENTO_DIA'].replace('05', '5')\n",
    "data_2000_2['ESTU_NACIMIENTO_DIA'] = data_2000_2['ESTU_NACIMIENTO_DIA'].replace('03', '3')\n",
    "data_2000_2['ESTU_NACIMIENTO_DIA'] = data_2000_2['ESTU_NACIMIENTO_DIA'].replace('07', '7')\n",
    "data_2000_2['ESTU_NACIMIENTO_DIA'] = data_2000_2['ESTU_NACIMIENTO_DIA'].replace('04', '4')\n",
    "data_2000_2['ESTU_NACIMIENTO_DIA'] = data_2000_2['ESTU_NACIMIENTO_DIA'].replace('06', '6')\n",
    "data_2000_2['ESTU_NACIMIENTO_DIA'] = data_2000_2['ESTU_NACIMIENTO_DIA'].replace('08', '8')\n",
    "data_2000_2['ESTU_NACIMIENTO_DIA'] = data_2000_2['ESTU_NACIMIENTO_DIA'].replace('02', '2')\n",
    "data_2000_2['ESTU_NACIMIENTO_DIA'] = data_2000_2['ESTU_NACIMIENTO_DIA'].replace('09', '9')"
   ]
  },
  {
   "cell_type": "code",
   "execution_count": 21,
   "metadata": {
    "collapsed": false,
    "scrolled": true
   },
   "outputs": [
    {
     "name": "stdout",
     "output_type": "stream",
     "text": [
      "Index(['1', '10', '11', '12', '13', '14', '15', '16', '17', '18', '19', '2',\n",
      "       '20', '21', '22', '23', '24', '25', '26', '27', '28', '29', '3', '30',\n",
      "       '31', '4', '5', '6', '7', '8', '9'],\n",
      "      dtype='object')\n",
      "1     11748\n",
      "5     11430\n",
      "20    11328\n",
      "3     11297\n",
      "10    11295\n",
      "28    11157\n",
      "2     11143\n",
      "15    11137\n",
      "6     11008\n",
      "18    11006\n",
      "12    11002\n",
      "7     10995\n",
      "8     10976\n",
      "4     10939\n",
      "17    10921\n",
      "23    10909\n",
      "25    10901\n",
      "11    10888\n",
      "16    10814\n",
      "27    10783\n",
      "14    10751\n",
      "22    10750\n",
      "26    10745\n",
      "9     10740\n",
      "24    10705\n",
      "19    10559\n",
      "13    10531\n",
      "21    10403\n",
      "29    10179\n",
      "30     9941\n",
      "31     5926\n",
      "Name: ESTU_NACIMIENTO_DIA, dtype: int64\n"
     ]
    }
   ],
   "source": [
    "print(data_2000_2['ESTU_NACIMIENTO_DIA'].value_counts().sort_index().index)\n",
    "print(data_2000_2['ESTU_NACIMIENTO_DIA'].value_counts())"
   ]
  },
  {
   "cell_type": "code",
   "execution_count": 22,
   "metadata": {
    "collapsed": false,
    "scrolled": false
   },
   "outputs": [
    {
     "name": "stdout",
     "output_type": "stream",
     "text": [
      "Float64Index([1.0, 2.0, 3.0, 4.0, 5.0, 6.0, 7.0, 8.0, 9.0, 10.0, 11.0, 12.0], dtype='float64')\n",
      "1.0     27749\n",
      "2.0     24812\n",
      "3.0     27836\n",
      "4.0     26482\n",
      "5.0     27544\n",
      "6.0     26308\n",
      "7.0     27071\n",
      "8.0     28093\n",
      "9.0     29721\n",
      "10.0    29553\n",
      "11.0    28529\n",
      "12.0    28326\n",
      "Name: ESTU_NACIMIENTO_MES, dtype: int64\n"
     ]
    }
   ],
   "source": [
    "\"\"\"This column is OK\"\"\"\n",
    "print(data_2000_2['ESTU_NACIMIENTO_MES'].value_counts().sort_index().index)\n",
    "print(data_2000_2['ESTU_NACIMIENTO_MES'].value_counts().sort_index())"
   ]
  },
  {
   "cell_type": "code",
   "execution_count": 23,
   "metadata": {
    "collapsed": false,
    "scrolled": true
   },
   "outputs": [
    {
     "name": "stdout",
     "output_type": "stream",
     "text": [
      "Index(['*', '**', '*7', '*9', '*972', '0', '0*3', '00', '0973', '098',\n",
      "       ...\n",
      "       '2000', '2980', '7', '8', '9', '9 0', '9*1', '95', '97', '98'],\n",
      "      dtype='object', length=122)\n",
      "*            3\n",
      "**           4\n",
      "*7           1\n",
      "*9           1\n",
      "*972         1\n",
      "0            2\n",
      "0*3          1\n",
      "00           1\n",
      "0973         1\n",
      "098          1\n",
      "1            2\n",
      "1  0         1\n",
      "1  9         1\n",
      "1 *6         1\n",
      "1 *8         1\n",
      "1 *9         1\n",
      "1 8          1\n",
      "1 9*         5\n",
      "1 96         1\n",
      "1 97         4\n",
      "1*           2\n",
      "1*8          1\n",
      "17           1\n",
      "19           8\n",
      "19 *         8\n",
      "19 0         1\n",
      "19 1         1\n",
      "19 6         4\n",
      "19 7        17\n",
      "19 8         4\n",
      "         ...  \n",
      "1980     19760\n",
      "1981     38164\n",
      "1982     68431\n",
      "1983    102955\n",
      "1984     60732\n",
      "1985      5430\n",
      "1986       196\n",
      "1987        50\n",
      "1988        53\n",
      "1989        51\n",
      "199          2\n",
      "199*        21\n",
      "1990        19\n",
      "1991         1\n",
      "1996         1\n",
      "1997         3\n",
      "1998         1\n",
      "1999         1\n",
      "2 *7         2\n",
      "2 00         1\n",
      "2000         3\n",
      "2980         1\n",
      "7            1\n",
      "8            1\n",
      "9            3\n",
      "9 0          1\n",
      "9*1          1\n",
      "95           1\n",
      "97           1\n",
      "98           3\n",
      "Name: ESTU_NACIMIENTO_ANNO, dtype: int64\n"
     ]
    }
   ],
   "source": [
    "\"\"\"This column present A LOT of incoherences.\"\"\"\n",
    "print(data_2000_2['ESTU_NACIMIENTO_ANNO'].value_counts().sort_index().index)\n",
    "print(data_2000_2['ESTU_NACIMIENTO_ANNO'].value_counts().sort_index())"
   ]
  },
  {
   "cell_type": "code",
   "execution_count": 24,
   "metadata": {
    "collapsed": true
   },
   "outputs": [],
   "source": [
    "\"\"\"All of that incoherences found, will be deleted\"\"\"\n",
    "data_2000_2 = drop_lines(data_2000_2, 'ESTU_NACIMIENTO_ANNO', '*')\n",
    "data_2000_2 = drop_lines(data_2000_2, 'ESTU_NACIMIENTO_ANNO', '**')\n",
    "data_2000_2 = drop_lines(data_2000_2, 'ESTU_NACIMIENTO_ANNO', '*7')\n",
    "data_2000_2 = drop_lines(data_2000_2, 'ESTU_NACIMIENTO_ANNO', '*9')\n",
    "data_2000_2 = drop_lines(data_2000_2, 'ESTU_NACIMIENTO_ANNO', '*972')\n",
    "data_2000_2 = drop_lines(data_2000_2, 'ESTU_NACIMIENTO_ANNO', '0')\n",
    "data_2000_2 = drop_lines(data_2000_2, 'ESTU_NACIMIENTO_ANNO', '0*3')\n",
    "data_2000_2 = drop_lines(data_2000_2, 'ESTU_NACIMIENTO_ANNO', '00')\n",
    "data_2000_2 = drop_lines(data_2000_2, 'ESTU_NACIMIENTO_ANNO', '0973')\n",
    "data_2000_2 = drop_lines(data_2000_2, 'ESTU_NACIMIENTO_ANNO', '098')\n",
    "data_2000_2 = drop_lines(data_2000_2, 'ESTU_NACIMIENTO_ANNO', '1')\n",
    "data_2000_2 = drop_lines(data_2000_2, 'ESTU_NACIMIENTO_ANNO', '1  0')\n",
    "data_2000_2 = drop_lines(data_2000_2, 'ESTU_NACIMIENTO_ANNO', '1  9')\n",
    "data_2000_2 = drop_lines(data_2000_2, 'ESTU_NACIMIENTO_ANNO', '1 *6')\n",
    "data_2000_2 = drop_lines(data_2000_2, 'ESTU_NACIMIENTO_ANNO', '1 *8')\n",
    "data_2000_2 = drop_lines(data_2000_2, 'ESTU_NACIMIENTO_ANNO', '1 *9')\n",
    "data_2000_2 = drop_lines(data_2000_2, 'ESTU_NACIMIENTO_ANNO', '1 8')\n",
    "data_2000_2 = drop_lines(data_2000_2, 'ESTU_NACIMIENTO_ANNO', '1 9*')\n",
    "data_2000_2 = drop_lines(data_2000_2, 'ESTU_NACIMIENTO_ANNO', '1 9*')\n",
    "data_2000_2 = drop_lines(data_2000_2, 'ESTU_NACIMIENTO_ANNO', '1 96')\n",
    "data_2000_2 = drop_lines(data_2000_2, 'ESTU_NACIMIENTO_ANNO', '1 97')\n",
    "data_2000_2 = drop_lines(data_2000_2, 'ESTU_NACIMIENTO_ANNO', '1*')\n",
    "data_2000_2 = drop_lines(data_2000_2, 'ESTU_NACIMIENTO_ANNO', '1*8')\n",
    "data_2000_2 = drop_lines(data_2000_2, 'ESTU_NACIMIENTO_ANNO', '17')\n",
    "data_2000_2 = drop_lines(data_2000_2, 'ESTU_NACIMIENTO_ANNO', '19')\n",
    "data_2000_2 = drop_lines(data_2000_2, 'ESTU_NACIMIENTO_ANNO', '19 *')\n",
    "data_2000_2 = drop_lines(data_2000_2, 'ESTU_NACIMIENTO_ANNO', '19 0')\n",
    "data_2000_2 = drop_lines(data_2000_2, 'ESTU_NACIMIENTO_ANNO', '19 1')\n",
    "data_2000_2 = drop_lines(data_2000_2, 'ESTU_NACIMIENTO_ANNO', '19 5')\n",
    "data_2000_2 = drop_lines(data_2000_2, 'ESTU_NACIMIENTO_ANNO', '19 6')\n",
    "data_2000_2 = drop_lines(data_2000_2, 'ESTU_NACIMIENTO_ANNO', '19 7')\n",
    "data_2000_2 = drop_lines(data_2000_2, 'ESTU_NACIMIENTO_ANNO', '19 8')\n",
    "data_2000_2 = drop_lines(data_2000_2, 'ESTU_NACIMIENTO_ANNO', '19*')\n",
    "data_2000_2 = drop_lines(data_2000_2, 'ESTU_NACIMIENTO_ANNO', '19*0')\n",
    "data_2000_2 = drop_lines(data_2000_2, 'ESTU_NACIMIENTO_ANNO', '19*1')\n",
    "data_2000_2 = drop_lines(data_2000_2, 'ESTU_NACIMIENTO_ANNO', '19*4')\n",
    "data_2000_2 = drop_lines(data_2000_2, 'ESTU_NACIMIENTO_ANNO', '19*8')\n",
    "data_2000_2 = drop_lines(data_2000_2, 'ESTU_NACIMIENTO_ANNO', '191')\n",
    "data_2000_2 = drop_lines(data_2000_2, 'ESTU_NACIMIENTO_ANNO', '194')\n",
    "data_2000_2 = drop_lines(data_2000_2, 'ESTU_NACIMIENTO_ANNO', '195')\n",
    "data_2000_2 = drop_lines(data_2000_2, 'ESTU_NACIMIENTO_ANNO', '196')\n",
    "data_2000_2 = drop_lines(data_2000_2, 'ESTU_NACIMIENTO_ANNO', '197')\n",
    "data_2000_2 = drop_lines(data_2000_2, 'ESTU_NACIMIENTO_ANNO', '197*')\n",
    "data_2000_2 = drop_lines(data_2000_2, 'ESTU_NACIMIENTO_ANNO', '198')\n",
    "data_2000_2 = drop_lines(data_2000_2, 'ESTU_NACIMIENTO_ANNO', '198*')\n",
    "data_2000_2 = drop_lines(data_2000_2, 'ESTU_NACIMIENTO_ANNO', '199')\n",
    "data_2000_2 = drop_lines(data_2000_2, 'ESTU_NACIMIENTO_ANNO', '199*')\n",
    "data_2000_2 = drop_lines(data_2000_2, 'ESTU_NACIMIENTO_ANNO', '2 *7')\n",
    "data_2000_2 = drop_lines(data_2000_2, 'ESTU_NACIMIENTO_ANNO', '2 00')\n",
    "data_2000_2 = drop_lines(data_2000_2, 'ESTU_NACIMIENTO_ANNO', '7')\n",
    "data_2000_2 = drop_lines(data_2000_2, 'ESTU_NACIMIENTO_ANNO', '8')\n",
    "data_2000_2 = drop_lines(data_2000_2, 'ESTU_NACIMIENTO_ANNO', '9')\n",
    "data_2000_2 = drop_lines(data_2000_2, 'ESTU_NACIMIENTO_ANNO', '9 0')\n",
    "data_2000_2 = drop_lines(data_2000_2, 'ESTU_NACIMIENTO_ANNO', '9 2')\n",
    "data_2000_2 = drop_lines(data_2000_2, 'ESTU_NACIMIENTO_ANNO', '9*1')\n",
    "data_2000_2 = drop_lines(data_2000_2, 'ESTU_NACIMIENTO_ANNO', '95')\n",
    "data_2000_2 = drop_lines(data_2000_2, 'ESTU_NACIMIENTO_ANNO', '97')\n",
    "data_2000_2 = drop_lines(data_2000_2, 'ESTU_NACIMIENTO_ANNO', '98')\n",
    "data_2000_2 = drop_lines(data_2000_2, 'ESTU_NACIMIENTO_ANNO', '2980')"
   ]
  },
  {
   "cell_type": "code",
   "execution_count": 25,
   "metadata": {
    "collapsed": false,
    "scrolled": true
   },
   "outputs": [
    {
     "name": "stdout",
     "output_type": "stream",
     "text": [
      "Index(['1928', '1930', '1932', '1933', '1934', '1936', '1937', '1938', '1939',\n",
      "       '1940', '1941', '1942', '1943', '1944', '1945', '1946', '1947', '1948',\n",
      "       '1949', '1950', '1951', '1952', '1953', '1954', '1955', '1956', '1957',\n",
      "       '1958', '1959', '1960', '1961', '1962', '1963', '1964', '1965', '1966',\n",
      "       '1967', '1968', '1969', '1970', '1971', '1972', '1973', '1974', '1975',\n",
      "       '1976', '1977', '1978', '1979', '1980', '1981', '1982', '1983', '1984',\n",
      "       '1985', '1986', '1987', '1988', '1989', '1990', '1991', '1996', '1997',\n",
      "       '1998', '1999', '2000'],\n",
      "      dtype='object')\n",
      "1928         1\n",
      "1930         1\n",
      "1932         3\n",
      "1933         2\n",
      "1934         1\n",
      "1936         1\n",
      "1937         1\n",
      "1938        21\n",
      "1939        10\n",
      "1940         4\n",
      "1941         4\n",
      "1942         9\n",
      "1943         5\n",
      "1944        16\n",
      "1945        16\n",
      "1946        20\n",
      "1947        26\n",
      "1948        40\n",
      "1949        31\n",
      "1950        49\n",
      "1951        59\n",
      "1952        87\n",
      "1953        87\n",
      "1954       125\n",
      "1955       136\n",
      "1956       145\n",
      "1957       184\n",
      "1958       212\n",
      "1959       218\n",
      "1960       287\n",
      "         ...  \n",
      "1967       675\n",
      "1968       744\n",
      "1969       875\n",
      "1970       839\n",
      "1971       964\n",
      "1972      1118\n",
      "1973      1227\n",
      "1974      1454\n",
      "1975      1871\n",
      "1976      2314\n",
      "1977      3427\n",
      "1978      5525\n",
      "1979     10449\n",
      "1980     19760\n",
      "1981     38164\n",
      "1982     68431\n",
      "1983    102955\n",
      "1984     60732\n",
      "1985      5430\n",
      "1986       196\n",
      "1987        50\n",
      "1988        53\n",
      "1989        51\n",
      "1990        19\n",
      "1991         1\n",
      "1996         1\n",
      "1997         3\n",
      "1998         1\n",
      "1999         1\n",
      "2000         3\n",
      "Name: ESTU_NACIMIENTO_ANNO, dtype: int64\n"
     ]
    }
   ],
   "source": [
    "\"\"\"I Check the changes\"\"\"\n",
    "print(data_2000_2['ESTU_NACIMIENTO_ANNO'].value_counts().sort_index().index)\n",
    "print(data_2000_2['ESTU_NACIMIENTO_ANNO'].value_counts().sort_index())"
   ]
  },
  {
   "cell_type": "code",
   "execution_count": 26,
   "metadata": {
    "collapsed": false
   },
   "outputs": [
    {
     "name": "stdout",
     "output_type": "stream",
     "text": [
      "Index(['AMAZONAS', 'ANTIOQUIA', 'ARAUCA', 'ATLANTICO', 'BOGOTA', 'BOLIVAR',\n",
      "       'BOYACA', 'CALDAS', 'CAQUETA', 'CASANARE', 'CAUCA', 'CESAR', 'CHOCO',\n",
      "       'CORDOBA', 'CUNDINAMARCA', 'GUAINIA', 'GUAVIARE', 'HUILA', 'LA GUAJIRA',\n",
      "       'MAGDALENA', 'META', 'NARIÑO', 'NORTE SANTANDER', 'PUTUMAYO', 'QUINDIO',\n",
      "       'RISARALDA', 'SAN ANDRES', 'SANTANDER', 'SUCRE', 'TOLIMA', 'VALLE',\n",
      "       'VAUPES', 'VICHADA'],\n",
      "      dtype='object')\n",
      "AMAZONAS             478\n",
      "ANTIOQUIA          49461\n",
      "ARAUCA              1558\n",
      "ATLANTICO          25614\n",
      "BOGOTA             64106\n",
      "BOLIVAR            16606\n",
      "BOYACA             13959\n",
      "CALDAS              9849\n",
      "CAQUETA             2479\n",
      "CASANARE            2014\n",
      "CAUCA               1264\n",
      "CESAR               8127\n",
      "CHOCO               2972\n",
      "CORDOBA            13805\n",
      "CUNDINAMARCA       19633\n",
      "GUAINIA              113\n",
      "GUAVIARE             352\n",
      "HUILA               8488\n",
      "LA GUAJIRA          4341\n",
      "MAGDALENA           9489\n",
      "META                6137\n",
      "NARIÑO               368\n",
      "NORTE SANTANDER    11881\n",
      "PUTUMAYO            1407\n",
      "QUINDIO             5391\n",
      "RISARALDA           8666\n",
      "SAN ANDRES           602\n",
      "SANTANDER          19752\n",
      "SUCRE               6862\n",
      "TOLIMA             12430\n",
      "VALLE               3641\n",
      "VAUPES                84\n",
      "VICHADA              214\n",
      "Name: ESTU_DEPTO_PRESENTACION, dtype: int64\n"
     ]
    }
   ],
   "source": [
    "\"\"\"This Column looks OK\"\"\"\n",
    "print(data_2000_2['ESTU_DEPTO_PRESENTACION'].value_counts().sort_index().index)\n",
    "print(data_2000_2['ESTU_DEPTO_PRESENTACION'].value_counts().sort_index())"
   ]
  },
  {
   "cell_type": "code",
   "execution_count": 27,
   "metadata": {
    "collapsed": false,
    "scrolled": true
   },
   "outputs": [
    {
     "name": "stdout",
     "output_type": "stream",
     "text": [
      "Index(['ABEJORRAL', 'ABREGO', 'ACACIAS', 'ACANDI', 'ACHI', 'AGUACHICA',\n",
      "       'AGUADAS', 'AGUAZUL', 'AGUSTIN CODAZZI', 'AIPE',\n",
      "       ...\n",
      "       'VILLANUEVA', 'VILLAVICENCIO', 'VILLETA', 'VIOTA', 'YARUMAL', 'YOLOMBO',\n",
      "       'YOPAL', 'ZAPATOCA', 'ZARAGOZA', 'ZIPAQUIRA'],\n",
      "      dtype='object', length=312)\n",
      "ABEJORRAL                  167\n",
      "ABREGO                      32\n",
      "ACACIAS                    565\n",
      "ACANDI                      39\n",
      "ACHI                        59\n",
      "AGUACHICA                 1372\n",
      "AGUADAS                    178\n",
      "AGUAZUL                    194\n",
      "AGUSTIN CODAZZI            402\n",
      "AIPE                       145\n",
      "AMAGA                      600\n",
      "AMALFI                     221\n",
      "ANDES                      406\n",
      "ANSERMA                    543\n",
      "ANTIOQUIA                  522\n",
      "APARTADO                  1083\n",
      "ARACATACA                  328\n",
      "ARAUCA                     641\n",
      "ARAUQUITA                  129\n",
      "ARBELAEZ                   138\n",
      "ARBOLEDAS                   45\n",
      "ARBOLETES                  400\n",
      "ARIGUANI (EL DIFICIL)      240\n",
      "ARJONA                     570\n",
      "ARMENIA                   3907\n",
      "ASTREA                      83\n",
      "AYAPEL                     270\n",
      "BAGADO                      65\n",
      "BAHIA SOLANO (MUTIS)        87\n",
      "BAJO BAUDO   (PIZARRO)      33\n",
      "                          ... \n",
      "TOLU                       219\n",
      "TOLUVIEJO                   89\n",
      "TULUA                      274\n",
      "TUMACO                      92\n",
      "TUNJA                     3538\n",
      "TURBACO                    700\n",
      "TURBO                      620\n",
      "TURMEQUE                   164\n",
      "TUTA                        65\n",
      "UBATE                      684\n",
      "UNGUIA                      53\n",
      "URRAO                      266\n",
      "VALLEDUPAR                4802\n",
      "VELEZ                      416\n",
      "VENADILLO                  232\n",
      "VENTAQUEMADA                70\n",
      "VIGIA DEL FUERTE            10\n",
      "VILLA DE LEYVA             190\n",
      "VILLA DEL ROSARIO          544\n",
      "VILLAMARIA                  68\n",
      "VILLANUEVA                 696\n",
      "VILLAVICENCIO             4384\n",
      "VILLETA                    380\n",
      "VIOTA                       82\n",
      "YARUMAL                    641\n",
      "YOLOMBO                    272\n",
      "YOPAL                     1032\n",
      "ZAPATOCA                   115\n",
      "ZARAGOZA                   153\n",
      "ZIPAQUIRA                 1465\n",
      "Name: ESTU_MCPIO_PRESENTACION, dtype: int64\n"
     ]
    }
   ],
   "source": [
    "\"\"\"Checked. Looks OK\"\"\"\n",
    "print(data_2000_2['ESTU_MCPIO_PRESENTACION'].value_counts().sort_index().index)\n",
    "print(data_2000_2['ESTU_MCPIO_PRESENTACION'].value_counts().sort_index())"
   ]
  },
  {
   "cell_type": "code",
   "execution_count": 28,
   "metadata": {
    "collapsed": false,
    "scrolled": false
   },
   "outputs": [
    {
     "name": "stdout",
     "output_type": "stream",
     "text": [
      "Index(['99', 99.0, '01',  '*',  1.0, '08', '03', '02',  2.0,  3.0, '06',  6.0,\n",
      "        5.0, '05', '07',  8.0,  7.0, '04',  4.0,  '9',  9.0,  '1'],\n",
      "      dtype='object')\n",
      "99      28203\n",
      "99.0    11095\n",
      "01       6184\n",
      "*        3380\n",
      "1.0      1996\n",
      "08       1411\n",
      "03        734\n",
      "02        557\n",
      "2.0       496\n",
      "3.0       329\n",
      "06        220\n",
      "6.0        90\n",
      "5.0        86\n",
      "05         74\n",
      "07         56\n",
      "8.0        33\n",
      "7.0        29\n",
      "04         26\n",
      "4.0        21\n",
      "9          10\n",
      "9.0         2\n",
      "1           1\n",
      "Name: ESTU_ETNIA, dtype: int64\n"
     ]
    }
   ],
   "source": [
    "\"\"\"This column has some troubles.\"\"\"\n",
    "print(data_2000_2['ESTU_ETNIA'].value_counts().index)\n",
    "print(data_2000_2['ESTU_ETNIA'].value_counts())"
   ]
  },
  {
   "cell_type": "code",
   "execution_count": 29,
   "metadata": {
    "collapsed": false
   },
   "outputs": [
    {
     "data": {
      "text/plain": [
       "\"And now it's ready\""
      ]
     },
     "execution_count": 29,
     "metadata": {},
     "output_type": "execute_result"
    }
   ],
   "source": [
    "data_2000_2['ESTU_ETNIA'] = data_2000_2['ESTU_ETNIA'].replace('01', '1')\n",
    "data_2000_2['ESTU_ETNIA'] = data_2000_2['ESTU_ETNIA'].replace('02', '2')\n",
    "data_2000_2['ESTU_ETNIA'] = data_2000_2['ESTU_ETNIA'].replace('03', '3')\n",
    "data_2000_2['ESTU_ETNIA'] = data_2000_2['ESTU_ETNIA'].replace('04', '4')\n",
    "data_2000_2['ESTU_ETNIA'] = data_2000_2['ESTU_ETNIA'].replace('05', '5')\n",
    "data_2000_2['ESTU_ETNIA'] = data_2000_2['ESTU_ETNIA'].replace('06', '6')\n",
    "data_2000_2['ESTU_ETNIA'] = data_2000_2['ESTU_ETNIA'].replace('07', '7')\n",
    "data_2000_2['ESTU_ETNIA'] = data_2000_2['ESTU_ETNIA'].replace('08', '8')\n",
    "data_2000_2['ESTU_ETNIA'] = data_2000_2['ESTU_ETNIA'].replace(99.0, '99')\n",
    "data_2000_2['ESTU_ETNIA'] = data_2000_2['ESTU_ETNIA'].replace(1.0, '1')\n",
    "data_2000_2['ESTU_ETNIA'] = data_2000_2['ESTU_ETNIA'].replace(2.0, '2')\n",
    "data_2000_2['ESTU_ETNIA'] = data_2000_2['ESTU_ETNIA'].replace(3.0, '3')\n",
    "data_2000_2['ESTU_ETNIA'] = data_2000_2['ESTU_ETNIA'].replace(4.0, '4')\n",
    "data_2000_2['ESTU_ETNIA'] = data_2000_2['ESTU_ETNIA'].replace(5.0, '5')\n",
    "data_2000_2['ESTU_ETNIA'] = data_2000_2['ESTU_ETNIA'].replace(6.0, '6')\n",
    "data_2000_2['ESTU_ETNIA'] = data_2000_2['ESTU_ETNIA'].replace(7.0, '7')\n",
    "data_2000_2['ESTU_ETNIA'] = data_2000_2['ESTU_ETNIA'].replace(8.0, '8')\n",
    "data_2000_2['ESTU_ETNIA'] = data_2000_2['ESTU_ETNIA'].replace(9.0, '9')\n",
    "data_2000_2 = drop_lines(data_2000_2, 'ESTU_ETNIA', '*')\n",
    "\n",
    "\"\"\"And now it's ready\"\"\""
   ]
  },
  {
   "cell_type": "code",
   "execution_count": 30,
   "metadata": {
    "collapsed": false
   },
   "outputs": [
    {
     "name": "stdout",
     "output_type": "stream",
     "text": [
      "Index(['I'], dtype='object')\n",
      "I    28\n",
      "Name: ESTU_LIMITA_INVIDENTE, dtype: int64\n",
      "Elementos null/NaN 328735\n",
      "__________________\n",
      "Elementos diferentes de null/NaN: 28\n",
      "__________________\n",
      "(28,)\n",
      "None\n"
     ]
    }
   ],
   "source": [
    "\"\"\"Even if this column has to many NaN values, is OK, in the encode process that NaN values will be -1\"\"\"\n",
    "print(data_2000_2['ESTU_LIMITA_INVIDENTE'].value_counts().sort_index().index)\n",
    "print(data_2000_2['ESTU_LIMITA_INVIDENTE'].value_counts().sort_index())\n",
    "print(missing_data(data_2000_2['ESTU_LIMITA_INVIDENTE']))"
   ]
  },
  {
   "cell_type": "code",
   "execution_count": 31,
   "metadata": {
    "collapsed": false
   },
   "outputs": [
    {
     "name": "stdout",
     "output_type": "stream",
     "text": [
      "Float64Index([], dtype='float64')\n",
      "Series([], Name: ESTU_LIMITA_SORDOINTERPRETE, dtype: int64)\n"
     ]
    }
   ],
   "source": [
    "\"\"\"This column hasn't got any row with a value so this column will be deleted.\"\"\"\n",
    "print(data_2000_2['ESTU_LIMITA_SORDOINTERPRETE'].value_counts().sort_index().index)\n",
    "print(data_2000_2['ESTU_LIMITA_SORDOINTERPRETE'].value_counts().sort_index())"
   ]
  },
  {
   "cell_type": "code",
   "execution_count": 32,
   "metadata": {
    "collapsed": false
   },
   "outputs": [
    {
     "data": {
      "text/plain": [
       "'Deleted'"
      ]
     },
     "execution_count": 32,
     "metadata": {},
     "output_type": "execute_result"
    }
   ],
   "source": [
    "\"\"\"Deleting...\"\"\"\n",
    "data_2000_2.drop('ESTU_LIMITA_SORDOINTERPRETE', axis=1, inplace=True)\n",
    "\"\"\"Deleted\"\"\""
   ]
  },
  {
   "cell_type": "code",
   "execution_count": 33,
   "metadata": {
    "collapsed": false
   },
   "outputs": [
    {
     "name": "stdout",
     "output_type": "stream",
     "text": [
      "Index(['S'], dtype='object')\n",
      "S    44\n",
      "Name: ESTU_LIMITA_SORDONOINTERPRETE, dtype: int64\n"
     ]
    }
   ],
   "source": [
    "\"\"\"Even if this column has to many NaN values, is OK, in the encode process that NaN values will be -1\"\"\"\n",
    "print(data_2000_2['ESTU_LIMITA_SORDONOINTERPRETE'].value_counts().sort_index().index)\n",
    "print(data_2000_2['ESTU_LIMITA_SORDONOINTERPRETE'].value_counts().sort_index())"
   ]
  },
  {
   "cell_type": "code",
   "execution_count": 34,
   "metadata": {
    "collapsed": false
   },
   "outputs": [
    {
     "name": "stdout",
     "output_type": "stream",
     "text": [
      "Index(['M'], dtype='object')\n",
      "M    64\n",
      "Name: ESTU_LIMITA_MOTRIZ, dtype: int64\n"
     ]
    }
   ],
   "source": [
    "\"\"\"Even if this column has to many NaN values, is OK, in the encode process that NaN values will be -1\"\"\"\n",
    "print(data_2000_2['ESTU_LIMITA_MOTRIZ'].value_counts().sort_index().index)\n",
    "print(data_2000_2['ESTU_LIMITA_MOTRIZ'].value_counts().sort_index())"
   ]
  },
  {
   "cell_type": "code",
   "execution_count": 35,
   "metadata": {
    "collapsed": false,
    "scrolled": true
   },
   "outputs": [
    {
     "name": "stdout",
     "output_type": "stream",
     "text": [
      "Int64Index([ 0, 14, 21, 22, 26, 27, 29, 30, 32, 33, 34, 35, 36, 38, 40, 41, 42,\n",
      "            43, 45, 46, 47, 48, 49, 50, 51, 52, 53, 54, 55, 56, 57, 58, 59, 60,\n",
      "            61, 62, 64, 65, 67, 69, 70, 71, 73, 76],\n",
      "           dtype='int64')\n",
      "0        62\n",
      "14       82\n",
      "21        1\n",
      "22      259\n",
      "26        3\n",
      "27      932\n",
      "29       17\n",
      "30     2551\n",
      "32       41\n",
      "33     5690\n",
      "34       94\n",
      "35    10634\n",
      "36      144\n",
      "38    17655\n",
      "40    25047\n",
      "41    31153\n",
      "42      315\n",
      "43    35736\n",
      "45    37033\n",
      "46    35867\n",
      "47    31072\n",
      "48      281\n",
      "49    26103\n",
      "50    20010\n",
      "51    15307\n",
      "52      135\n",
      "53    11028\n",
      "54     7534\n",
      "55     5105\n",
      "56       24\n",
      "57     3473\n",
      "58     2113\n",
      "59     1314\n",
      "60        7\n",
      "61      837\n",
      "62      490\n",
      "64      287\n",
      "65      139\n",
      "67      106\n",
      "69       47\n",
      "70        1\n",
      "71       19\n",
      "73       12\n",
      "76        3\n",
      "Name: PUNT_BIOLOGIA, dtype: int64\n"
     ]
    }
   ],
   "source": [
    "\"\"\"TARGET: Looks OK\"\"\"\n",
    "print(data_2000_2['PUNT_BIOLOGIA'].value_counts().sort_index().index)\n",
    "print(data_2000_2['PUNT_BIOLOGIA'].value_counts().sort_index())"
   ]
  },
  {
   "cell_type": "code",
   "execution_count": 36,
   "metadata": {
    "collapsed": false,
    "scrolled": true
   },
   "outputs": [
    {
     "name": "stdout",
     "output_type": "stream",
     "text": [
      "Int64Index([ 0, 14, 21, 22, 26, 27, 29, 30, 32, 33, 34, 35, 36, 38, 40, 41, 42,\n",
      "            43, 45, 46, 47, 48, 49, 50, 51, 52, 53, 54, 55, 56, 57, 58, 59, 60,\n",
      "            61, 62, 64, 65, 67, 69, 70, 71, 73, 76],\n",
      "           dtype='int64')\n",
      "0        62\n",
      "14       82\n",
      "21        1\n",
      "22      259\n",
      "26        3\n",
      "27      932\n",
      "29       17\n",
      "30     2551\n",
      "32       41\n",
      "33     5690\n",
      "34       94\n",
      "35    10634\n",
      "36      144\n",
      "38    17655\n",
      "40    25047\n",
      "41    31153\n",
      "42      315\n",
      "43    35736\n",
      "45    37033\n",
      "46    35867\n",
      "47    31072\n",
      "48      281\n",
      "49    26103\n",
      "50    20010\n",
      "51    15307\n",
      "52      135\n",
      "53    11028\n",
      "54     7534\n",
      "55     5105\n",
      "56       24\n",
      "57     3473\n",
      "58     2113\n",
      "59     1314\n",
      "60        7\n",
      "61      837\n",
      "62      490\n",
      "64      287\n",
      "65      139\n",
      "67      106\n",
      "69       47\n",
      "70        1\n",
      "71       19\n",
      "73       12\n",
      "76        3\n",
      "Name: PUNT_BIOLOGIA, dtype: int64\n"
     ]
    }
   ],
   "source": [
    "\"\"\"TARGET: Looks OK\"\"\"\n",
    "print(data_2000_2['PUNT_BIOLOGIA'].value_counts().sort_index().index)\n",
    "print(data_2000_2['PUNT_BIOLOGIA'].value_counts().sort_index())"
   ]
  },
  {
   "cell_type": "code",
   "execution_count": 37,
   "metadata": {
    "collapsed": false,
    "scrolled": true
   },
   "outputs": [
    {
     "name": "stdout",
     "output_type": "stream",
     "text": [
      "Int64Index([ 0,  8,  9, 17, 22, 23, 26, 27, 29, 30, 32, 34, 35, 36, 37, 38, 39,\n",
      "            40, 41, 42, 44, 45, 46, 47, 48, 49, 50, 51, 52, 53, 54, 55, 56, 57,\n",
      "            58, 59, 60, 61, 62, 64, 66, 68, 70, 72, 75, 78],\n",
      "           dtype='int64')\n",
      "0       210\n",
      "8         1\n",
      "9        84\n",
      "17      192\n",
      "22        7\n",
      "23      424\n",
      "26       11\n",
      "27     1244\n",
      "29       32\n",
      "30     2927\n",
      "32     6317\n",
      "34      101\n",
      "35    11254\n",
      "36      150\n",
      "37    17926\n",
      "38      220\n",
      "39    24685\n",
      "40      262\n",
      "41    30439\n",
      "42    34702\n",
      "44    35812\n",
      "45      292\n",
      "46    33993\n",
      "47    29969\n",
      "48      259\n",
      "49    24726\n",
      "50    20026\n",
      "51      176\n",
      "52    15084\n",
      "53    11493\n",
      "54       96\n",
      "55     8352\n",
      "56     6021\n",
      "57       49\n",
      "58     4106\n",
      "59     2831\n",
      "60       30\n",
      "61     1804\n",
      "62     1118\n",
      "64      665\n",
      "66      340\n",
      "68      185\n",
      "70       91\n",
      "72       39\n",
      "75       16\n",
      "78        2\n",
      "Name: PUNT_FILOSOFIA, dtype: int64\n"
     ]
    }
   ],
   "source": [
    "\"\"\"TARGET: Looks OK\"\"\"\n",
    "print(data_2000_2['PUNT_FILOSOFIA'].value_counts().sort_index().index)\n",
    "print(data_2000_2['PUNT_FILOSOFIA'].value_counts().sort_index())"
   ]
  },
  {
   "cell_type": "code",
   "execution_count": 38,
   "metadata": {
    "collapsed": false,
    "scrolled": true
   },
   "outputs": [
    {
     "name": "stdout",
     "output_type": "stream",
     "text": [
      "Int64Index([ 0, 14, 23, 29, 33, 36, 39, 42, 44, 46, 48, 50, 51, 52, 53, 55, 56,\n",
      "            57, 58, 60, 61, 63, 64, 66, 68, 69, 71, 73, 75, 77, 79, 82, 84],\n",
      "           dtype='int64')\n",
      "0        41\n",
      "14      183\n",
      "23      951\n",
      "29     3375\n",
      "33     8792\n",
      "36    17825\n",
      "39    30011\n",
      "42    40538\n",
      "44    47306\n",
      "46    47495\n",
      "48    42026\n",
      "50    32971\n",
      "51    22982\n",
      "52      199\n",
      "53    14590\n",
      "55     8777\n",
      "56     4836\n",
      "57       36\n",
      "58     2523\n",
      "60     1383\n",
      "61      772\n",
      "63      434\n",
      "64      284\n",
      "66      166\n",
      "68       89\n",
      "69       62\n",
      "71       44\n",
      "73       26\n",
      "75       18\n",
      "77       16\n",
      "79        6\n",
      "82        2\n",
      "84        4\n",
      "Name: PUNT_FISICA, dtype: int64\n"
     ]
    }
   ],
   "source": [
    "\"\"\"TARGET: Looks OK\"\"\"\n",
    "print(data_2000_2['PUNT_FISICA'].value_counts().sort_index().index)\n",
    "print(data_2000_2['PUNT_FISICA'].value_counts().sort_index())"
   ]
  },
  {
   "cell_type": "code",
   "execution_count": 39,
   "metadata": {
    "collapsed": false,
    "scrolled": true
   },
   "outputs": [
    {
     "name": "stdout",
     "output_type": "stream",
     "text": [
      "Int64Index([ 0, 12, 19, 23, 24, 26, 27, 29, 30, 31, 32, 33, 34, 35, 36, 37, 38,\n",
      "            39, 40, 41, 42, 43, 44, 45, 46, 47, 48, 49, 50, 51, 52, 53, 54, 55,\n",
      "            56, 57, 58, 60, 61, 62, 63, 65, 67, 70, 73],\n",
      "           dtype='int64')\n",
      "0        24\n",
      "12       43\n",
      "19      125\n",
      "23        3\n",
      "24      441\n",
      "26        7\n",
      "27     1342\n",
      "29       30\n",
      "30     3213\n",
      "31       43\n",
      "32     6479\n",
      "33      107\n",
      "34    11175\n",
      "35      140\n",
      "36    17064\n",
      "37    22647\n",
      "38      223\n",
      "39    26929\n",
      "40    29625\n",
      "41      281\n",
      "42    29589\n",
      "43    29189\n",
      "44    26837\n",
      "45      245\n",
      "46    24011\n",
      "47    20854\n",
      "48    17941\n",
      "49    15102\n",
      "50      117\n",
      "51    12241\n",
      "52     9748\n",
      "53     7768\n",
      "54     5561\n",
      "55       51\n",
      "56     3849\n",
      "57     2627\n",
      "58     1545\n",
      "60      884\n",
      "61        4\n",
      "62      381\n",
      "63      184\n",
      "65       64\n",
      "67       21\n",
      "70        5\n",
      "73        4\n",
      "Name: PUNT_HISTORIA, dtype: int64\n"
     ]
    }
   ],
   "source": [
    "\"\"\"TARGET: Looks OK\"\"\"\n",
    "print(data_2000_2['PUNT_HISTORIA'].value_counts().sort_index().index)\n",
    "print(data_2000_2['PUNT_HISTORIA'].value_counts().sort_index())"
   ]
  },
  {
   "cell_type": "code",
   "execution_count": 40,
   "metadata": {
    "collapsed": false,
    "scrolled": true
   },
   "outputs": [
    {
     "name": "stdout",
     "output_type": "stream",
     "text": [
      "Int64Index([ 0, 18, 25, 29, 32, 34, 35, 36, 37, 38, 39, 40, 41, 42, 43, 44, 45,\n",
      "            46, 47, 48, 49, 50, 51, 52, 53, 54, 55, 56, 57, 58, 59, 60, 61, 62,\n",
      "            63, 64, 65, 66, 68, 70, 73, 77, 84, 95],\n",
      "           dtype='int64')\n",
      "0        61\n",
      "18       84\n",
      "25      249\n",
      "29      669\n",
      "32     1892\n",
      "34     4576\n",
      "35       71\n",
      "36     9158\n",
      "37      121\n",
      "38    15901\n",
      "39    23062\n",
      "40      290\n",
      "41    29674\n",
      "42    34313\n",
      "43      380\n",
      "44    35841\n",
      "45    33481\n",
      "46    28819\n",
      "47    24319\n",
      "48    19326\n",
      "49    15284\n",
      "50       99\n",
      "51    11733\n",
      "52     8920\n",
      "53     6876\n",
      "54     5471\n",
      "55     4279\n",
      "56     3394\n",
      "57     2695\n",
      "58       10\n",
      "59     2132\n",
      "60     1614\n",
      "61     1234\n",
      "62        2\n",
      "63      884\n",
      "64      676\n",
      "65        1\n",
      "66      459\n",
      "68      329\n",
      "70      208\n",
      "73       98\n",
      "77       56\n",
      "84       20\n",
      "95        2\n",
      "Name: PUNT_QUIMICA, dtype: int64\n"
     ]
    }
   ],
   "source": [
    "\"\"\"TARGET: Looks OK\"\"\"\n",
    "print(data_2000_2['PUNT_QUIMICA'].value_counts().sort_index().index)\n",
    "print(data_2000_2['PUNT_QUIMICA'].value_counts().sort_index())"
   ]
  },
  {
   "cell_type": "code",
   "execution_count": 41,
   "metadata": {
    "collapsed": false,
    "scrolled": true
   },
   "outputs": [
    {
     "name": "stdout",
     "output_type": "stream",
     "text": [
      "Int64Index([ 0, 11, 19, 24, 27, 28, 30, 31, 32, 34, 36, 38, 40, 41, 42, 43, 44,\n",
      "            45, 46, 47, 48, 49, 50, 51, 52, 53, 54, 55, 56, 57, 58, 59, 60, 61,\n",
      "            62, 63, 64, 65, 66, 68, 71, 73, 77],\n",
      "           dtype='int64')\n",
      "0        67\n",
      "11       85\n",
      "19      124\n",
      "24      259\n",
      "27      608\n",
      "28        9\n",
      "30     1332\n",
      "31       16\n",
      "32     2873\n",
      "34     5585\n",
      "36     9010\n",
      "38    13337\n",
      "40    17535\n",
      "41    21940\n",
      "42      229\n",
      "43    25385\n",
      "44    26982\n",
      "45      277\n",
      "46    28298\n",
      "47    27163\n",
      "48    26446\n",
      "49      300\n",
      "50    24664\n",
      "51    22100\n",
      "52    19813\n",
      "53      161\n",
      "54    16166\n",
      "55    12710\n",
      "56     9522\n",
      "57       43\n",
      "58     6687\n",
      "59     4232\n",
      "60        8\n",
      "61     2579\n",
      "62     1248\n",
      "63        8\n",
      "64      573\n",
      "65        2\n",
      "66      273\n",
      "68       80\n",
      "71       26\n",
      "73        7\n",
      "77        1\n",
      "Name: PUNT_LENGUAJE, dtype: int64\n"
     ]
    }
   ],
   "source": [
    "\"\"\"TARGET: Looks OK\"\"\"\n",
    "print(data_2000_2['PUNT_LENGUAJE'].value_counts().sort_index().index)\n",
    "print(data_2000_2['PUNT_LENGUAJE'].value_counts().sort_index())"
   ]
  },
  {
   "cell_type": "code",
   "execution_count": 42,
   "metadata": {
    "collapsed": false,
    "scrolled": true
   },
   "outputs": [
    {
     "name": "stdout",
     "output_type": "stream",
     "text": [
      "Int64Index([ 0, 10, 18, 22, 25, 26, 28, 29, 30, 31, 33, 35, 36, 37, 38, 39, 40,\n",
      "            41, 42, 43, 44, 45, 46, 47, 48, 49, 50, 51, 52, 53, 54, 55, 56, 57,\n",
      "            58, 60, 61, 62, 63, 65, 67, 70],\n",
      "           dtype='int64')\n",
      "0        78\n",
      "10       89\n",
      "18      148\n",
      "22      399\n",
      "25        4\n",
      "26     1007\n",
      "28       16\n",
      "29     2152\n",
      "30       33\n",
      "31     4412\n",
      "33     7789\n",
      "35    12228\n",
      "36      138\n",
      "37    17078\n",
      "38      224\n",
      "39    22134\n",
      "40    26279\n",
      "41      269\n",
      "42    29063\n",
      "43    30288\n",
      "44      277\n",
      "45    29609\n",
      "46    27929\n",
      "47    25552\n",
      "48      239\n",
      "49    22475\n",
      "50    19015\n",
      "51    15627\n",
      "52      138\n",
      "53    11915\n",
      "54     8744\n",
      "55     6014\n",
      "56       38\n",
      "57     3719\n",
      "58     2003\n",
      "60     1014\n",
      "61        7\n",
      "62      419\n",
      "63      145\n",
      "65       42\n",
      "67       13\n",
      "70        1\n",
      "Name: PUNT_GEOGRAFIA, dtype: int64\n"
     ]
    }
   ],
   "source": [
    "\"\"\"TARGET: Looks OK\"\"\"\n",
    "print(data_2000_2['PUNT_GEOGRAFIA'].value_counts().sort_index().index)\n",
    "print(data_2000_2['PUNT_GEOGRAFIA'].value_counts().sort_index())"
   ]
  },
  {
   "cell_type": "code",
   "execution_count": 43,
   "metadata": {
    "collapsed": false
   },
   "outputs": [
    {
     "name": "stdout",
     "output_type": "stream",
     "text": [
      "Int64Index([43, 44, 45], dtype='int64')\n",
      "43    134713\n",
      "44    165188\n",
      "45     28862\n",
      "Name: COD_INTERDISCIPLINAR, dtype: int64\n"
     ]
    }
   ],
   "source": [
    "\"\"\"This column Looks OK\"\"\"\n",
    "print(data_2000_2['COD_INTERDISCIPLINAR'].value_counts().sort_index().index)\n",
    "print(data_2000_2['COD_INTERDISCIPLINAR'].value_counts().sort_index())"
   ]
  },
  {
   "cell_type": "code",
   "execution_count": 44,
   "metadata": {
    "collapsed": false,
    "scrolled": true
   },
   "outputs": [
    {
     "name": "stdout",
     "output_type": "stream",
     "text": [
      "Int64Index([ 0, 24, 25, 27, 29, 30, 32, 37, 38, 40, 41, 42, 43, 44, 45, 46, 47,\n",
      "            48, 49, 50, 51, 52, 53, 54, 55, 56, 57, 58, 59, 60, 61, 62, 63, 64,\n",
      "            65, 66, 67, 68, 69, 70, 71, 72, 73, 74, 76, 78, 81, 83, 88, 90,\n",
      "            95],\n",
      "           dtype='int64')\n",
      "0      1544\n",
      "24     4661\n",
      "25      183\n",
      "27       22\n",
      "29        1\n",
      "30      970\n",
      "32    12411\n",
      "37    22252\n",
      "38      356\n",
      "40        2\n",
      "41     2798\n",
      "42    29228\n",
      "43        4\n",
      "44      342\n",
      "45    30808\n",
      "46        4\n",
      "47        6\n",
      "48    30107\n",
      "49        1\n",
      "50       10\n",
      "51    18388\n",
      "52       15\n",
      "53     5305\n",
      "54    11058\n",
      "55      105\n",
      "56      578\n",
      "57      983\n",
      "58    12611\n",
      "59     5114\n",
      "60     8790\n",
      "61    14663\n",
      "62    23380\n",
      "63    15945\n",
      "64    21068\n",
      "65    17490\n",
      "66    13097\n",
      "67     8329\n",
      "68     5630\n",
      "69     4191\n",
      "70     2774\n",
      "71      973\n",
      "72       89\n",
      "73      322\n",
      "74     1259\n",
      "76        9\n",
      "78      523\n",
      "81       18\n",
      "83      233\n",
      "88       73\n",
      "90       15\n",
      "95       25\n",
      "Name: PUNT_INTERDISCIPLINAR, dtype: int64\n"
     ]
    }
   ],
   "source": [
    "\"\"\"TARGET: Looks OK\"\"\"\n",
    "print(data_2000_2['PUNT_INTERDISCIPLINAR'].value_counts().sort_index().index)\n",
    "print(data_2000_2['PUNT_INTERDISCIPLINAR'].value_counts().sort_index())"
   ]
  },
  {
   "cell_type": "code",
   "execution_count": 45,
   "metadata": {
    "collapsed": false
   },
   "outputs": [
    {
     "name": "stdout",
     "output_type": "stream",
     "text": [
      "Int64Index([51, 52, 53], dtype='int64')\n",
      "51    326236\n",
      "52      2395\n",
      "53       132\n",
      "Name: COD_IDIOMA, dtype: int64\n"
     ]
    }
   ],
   "source": [
    "\"\"\"This column loooks OK\"\"\"\n",
    "print(data_2000_2['COD_IDIOMA'].value_counts().sort_index().index)\n",
    "print(data_2000_2['COD_IDIOMA'].value_counts().sort_index())"
   ]
  },
  {
   "cell_type": "code",
   "execution_count": 46,
   "metadata": {
    "collapsed": false,
    "scrolled": true
   },
   "outputs": [
    {
     "name": "stdout",
     "output_type": "stream",
     "text": [
      "Int64Index([ 0, 14, 21, 24, 25, 29, 31, 32, 33, 34, 35, 36, 37, 38, 39, 40, 41,\n",
      "            42, 43, 44, 45, 46, 47, 48, 49, 50, 51, 52, 53, 54, 55, 56, 57, 58,\n",
      "            59, 60, 61, 62, 63, 64, 66, 67, 68, 69, 71, 72, 74, 77, 79, 82, 86,\n",
      "            98],\n",
      "           dtype='int64')\n",
      "0       249\n",
      "14      161\n",
      "21      598\n",
      "24        6\n",
      "25     2024\n",
      "29     5207\n",
      "31    10609\n",
      "32       56\n",
      "33    18716\n",
      "34      199\n",
      "35    27679\n",
      "36       11\n",
      "37    35362\n",
      "38       17\n",
      "39    39391\n",
      "40    38627\n",
      "41      276\n",
      "42    35253\n",
      "43    28513\n",
      "44    22026\n",
      "45      253\n",
      "46    16195\n",
      "47    11048\n",
      "48     7751\n",
      "49     5600\n",
      "50     4094\n",
      "51       58\n",
      "52     3217\n",
      "53     2504\n",
      "54     2012\n",
      "55     1728\n",
      "56       20\n",
      "57     1561\n",
      "58     1247\n",
      "59     1133\n",
      "60        7\n",
      "61     1017\n",
      "62       12\n",
      "63      921\n",
      "64      788\n",
      "66      698\n",
      "67        2\n",
      "68      614\n",
      "69        5\n",
      "71      501\n",
      "72        7\n",
      "74      401\n",
      "77        3\n",
      "79      258\n",
      "82        1\n",
      "86      107\n",
      "98       20\n",
      "Name: PUNT_IDIOMA, dtype: int64\n"
     ]
    }
   ],
   "source": [
    "\"\"\"TARGET: Looks OK\"\"\"\n",
    "print(data_2000_2['PUNT_IDIOMA'].value_counts().sort_index().index)\n",
    "print(data_2000_2['PUNT_IDIOMA'].value_counts().sort_index())"
   ]
  },
  {
   "cell_type": "code",
   "execution_count": 55,
   "metadata": {
    "collapsed": false,
    "scrolled": true
   },
   "outputs": [
    {
     "name": "stdout",
     "output_type": "stream",
     "text": [
      "Index(['*  *', '* *', '* 0', '* 01', '* 02', '* 06', '* 07', '* 10', '* 13',\n",
      "       '* 20',\n",
      "       ...\n",
      "       '9836', '99', '99 9', '9900', '9909', '9949', '999', '9998', '9999',\n",
      "       'NaN'],\n",
      "      dtype='object', length=1535)\n",
      "*  *        5\n",
      "* *         9\n",
      "* 0         1\n",
      "* 01        5\n",
      "* 02        1\n",
      "* 06        2\n",
      "* 07        3\n",
      "* 10        1\n",
      "* 13        1\n",
      "* 20        1\n",
      "* 28        1\n",
      "* 30        1\n",
      "* 70        1\n",
      "**         36\n",
      "** 0        1\n",
      "****       36\n",
      "***0        1\n",
      "***1        1\n",
      "***2        1\n",
      "***9        2\n",
      "**01        1\n",
      "**05        1\n",
      "**1*        1\n",
      "**14        1\n",
      "**9*        1\n",
      "*0          6\n",
      "*0 3        1\n",
      "*00         1\n",
      "*02         2\n",
      "*03         1\n",
      "        ...  \n",
      "8681        2\n",
      "8799        1\n",
      "8829        1\n",
      "8849        1\n",
      "8888        1\n",
      "9          40\n",
      "9  9        9\n",
      "9 9         7\n",
      "9 99       16\n",
      "9***        2\n",
      "9103        1\n",
      "9113        1\n",
      "9201        1\n",
      "9202        1\n",
      "9206        1\n",
      "9211        1\n",
      "952         1\n",
      "9807        1\n",
      "9813        1\n",
      "9822        1\n",
      "9836        1\n",
      "99         31\n",
      "99 9       21\n",
      "9900        1\n",
      "9909        1\n",
      "9949        1\n",
      "999       139\n",
      "9998        1\n",
      "9999    25676\n",
      "NaN        16\n",
      "Name: ESTU_IES_COD_DESEADA, dtype: int64\n"
     ]
    }
   ],
   "source": [
    "\"\"\"This column has a lot of incoherences, this incoherences will be replaced for NaN\"\"\"\n",
    "print(data_2000_2['ESTU_IES_COD_DESEADA'].value_counts().sort_index().index)\n",
    "print(data_2000_2['ESTU_IES_COD_DESEADA'].value_counts().sort_index())"
   ]
  },
  {
   "cell_type": "code",
   "execution_count": 56,
   "metadata": {
    "collapsed": false
   },
   "outputs": [],
   "source": [
    "\"\"\"The codes of the universities are of 4 digits\"\"\"\n",
    "#data_2000_2['ESTU_IES_COD_DESEADA'] = data_2000_2['ESTU_IES_COD_DESEADA'].replace('*', 'NaN')\n",
    "data_2000_2['ESTU_IES_COD_DESEADA'] = data_2000_2['ESTU_IES_COD_DESEADA'].replace('*  *', 'NaN')\n",
    "data_2000_2['ESTU_IES_COD_DESEADA'] = data_2000_2['ESTU_IES_COD_DESEADA'].replace('* *', 'NaN')\n",
    "data_2000_2['ESTU_IES_COD_DESEADA'] = data_2000_2['ESTU_IES_COD_DESEADA'].replace('* 0', 'NaN')\n",
    "data_2000_2['ESTU_IES_COD_DESEADA'] = data_2000_2['ESTU_IES_COD_DESEADA'].replace('* 01', 'NaN')\n",
    "data_2000_2['ESTU_IES_COD_DESEADA'] = data_2000_2['ESTU_IES_COD_DESEADA'].replace('* 02', 'NaN')\n",
    "data_2000_2['ESTU_IES_COD_DESEADA'] = data_2000_2['ESTU_IES_COD_DESEADA'].replace('* 06', 'NaN')\n",
    "data_2000_2['ESTU_IES_COD_DESEADA'] = data_2000_2['ESTU_IES_COD_DESEADA'].replace('* 07', 'NaN')\n",
    "data_2000_2['ESTU_IES_COD_DESEADA'] = data_2000_2['ESTU_IES_COD_DESEADA'].replace('* 10', 'NaN')\n",
    "data_2000_2['ESTU_IES_COD_DESEADA'] = data_2000_2['ESTU_IES_COD_DESEADA'].replace('* 13', 'NaN')\n",
    "data_2000_2['ESTU_IES_COD_DESEADA'] = data_2000_2['ESTU_IES_COD_DESEADA'].replace('* 20', 'NaN')\n",
    "data_2000_2['ESTU_IES_COD_DESEADA'] = data_2000_2['ESTU_IES_COD_DESEADA'].replace('* 28', 'NaN')\n",
    "data_2000_2['ESTU_IES_COD_DESEADA'] = data_2000_2['ESTU_IES_COD_DESEADA'].replace('* 30', 'NaN')\n",
    "data_2000_2['ESTU_IES_COD_DESEADA'] = data_2000_2['ESTU_IES_COD_DESEADA'].replace('* 70', 'NaN')\n",
    "data_2000_2['ESTU_IES_COD_DESEADA'] = data_2000_2['ESTU_IES_COD_DESEADA'].replace('**', 'NaN')\n",
    "data_2000_2['ESTU_IES_COD_DESEADA'] = data_2000_2['ESTU_IES_COD_DESEADA'].replace('** 0', 'NaN')\n",
    "data_2000_2['ESTU_IES_COD_DESEADA'] = data_2000_2['ESTU_IES_COD_DESEADA'].replace('****', 'NaN')\n",
    "data_2000_2['ESTU_IES_COD_DESEADA'] = data_2000_2['ESTU_IES_COD_DESEADA'].replace('***0', 'NaN')\n",
    "data_2000_2['ESTU_IES_COD_DESEADA'] = data_2000_2['ESTU_IES_COD_DESEADA'].replace('***1', 'NaN')\n",
    "data_2000_2['ESTU_IES_COD_DESEADA'] = data_2000_2['ESTU_IES_COD_DESEADA'].replace('***2', 'NaN')\n",
    "data_2000_2['ESTU_IES_COD_DESEADA'] = data_2000_2['ESTU_IES_COD_DESEADA'].replace('***9', 'NaN')\n",
    "data_2000_2['ESTU_IES_COD_DESEADA'] = data_2000_2['ESTU_IES_COD_DESEADA'].replace('**01', 'NaN')\n",
    "data_2000_2['ESTU_IES_COD_DESEADA'] = data_2000_2['ESTU_IES_COD_DESEADA'].replace('**05', 'NaN')\n",
    "data_2000_2['ESTU_IES_COD_DESEADA'] = data_2000_2['ESTU_IES_COD_DESEADA'].replace('**1*', 'NaN')\n",
    "data_2000_2['ESTU_IES_COD_DESEADA'] = data_2000_2['ESTU_IES_COD_DESEADA'].replace('**14', 'NaN')\n",
    "data_2000_2['ESTU_IES_COD_DESEADA'] = data_2000_2['ESTU_IES_COD_DESEADA'].replace('**9*', 'NaN')\n",
    "data_2000_2['ESTU_IES_COD_DESEADA'] = data_2000_2['ESTU_IES_COD_DESEADA'].replace('*0', 'NaN')\n",
    "data_2000_2['ESTU_IES_COD_DESEADA'] = data_2000_2['ESTU_IES_COD_DESEADA'].replace('*0 3', 'NaN')\n",
    "data_2000_2['ESTU_IES_COD_DESEADA'] = data_2000_2['ESTU_IES_COD_DESEADA'].replace('*00', 'NaN')\n",
    "data_2000_2['ESTU_IES_COD_DESEADA'] = data_2000_2['ESTU_IES_COD_DESEADA'].replace('*02', 'NaN')\n",
    "data_2000_2['ESTU_IES_COD_DESEADA'] = data_2000_2['ESTU_IES_COD_DESEADA'].replace('*03', 'NaN')\n",
    "data_2000_2['ESTU_IES_COD_DESEADA'] = data_2000_2['ESTU_IES_COD_DESEADA'].replace('*07', 'NaN')\n",
    "data_2000_2['ESTU_IES_COD_DESEADA'] = data_2000_2['ESTU_IES_COD_DESEADA'].replace('*08', 'NaN')\n",
    "data_2000_2['ESTU_IES_COD_DESEADA'] = data_2000_2['ESTU_IES_COD_DESEADA'].replace('*1', 'NaN')\n",
    "data_2000_2['ESTU_IES_COD_DESEADA'] = data_2000_2['ESTU_IES_COD_DESEADA'].replace('*1 0', 'NaN')\n",
    "data_2000_2['ESTU_IES_COD_DESEADA'] = data_2000_2['ESTU_IES_COD_DESEADA'].replace('*1 3', 'NaN')\n",
    "data_2000_2['ESTU_IES_COD_DESEADA'] = data_2000_2['ESTU_IES_COD_DESEADA'].replace('*10', 'NaN')\n",
    "data_2000_2['ESTU_IES_COD_DESEADA'] = data_2000_2['ESTU_IES_COD_DESEADA'].replace('*101', 'NaN')\n",
    "data_2000_2['ESTU_IES_COD_DESEADA'] = data_2000_2['ESTU_IES_COD_DESEADA'].replace('*106', 'NaN')\n",
    "data_2000_2['ESTU_IES_COD_DESEADA'] = data_2000_2['ESTU_IES_COD_DESEADA'].replace('*11', 'NaN')\n",
    "data_2000_2['ESTU_IES_COD_DESEADA'] = data_2000_2['ESTU_IES_COD_DESEADA'].replace('*112', 'NaN')\n",
    "data_2000_2['ESTU_IES_COD_DESEADA'] = data_2000_2['ESTU_IES_COD_DESEADA'].replace('*113', 'NaN')\n",
    "data_2000_2['ESTU_IES_COD_DESEADA'] = data_2000_2['ESTU_IES_COD_DESEADA'].replace('*117', 'NaN')\n",
    "data_2000_2['ESTU_IES_COD_DESEADA'] = data_2000_2['ESTU_IES_COD_DESEADA'].replace('*118', 'NaN')\n",
    "data_2000_2['ESTU_IES_COD_DESEADA'] = data_2000_2['ESTU_IES_COD_DESEADA'].replace('*13', 'NaN')\n",
    "data_2000_2['ESTU_IES_COD_DESEADA'] = data_2000_2['ESTU_IES_COD_DESEADA'].replace('*16', 'NaN')\n",
    "data_2000_2['ESTU_IES_COD_DESEADA'] = data_2000_2['ESTU_IES_COD_DESEADA'].replace('*17', 'NaN')\n",
    "data_2000_2['ESTU_IES_COD_DESEADA'] = data_2000_2['ESTU_IES_COD_DESEADA'].replace('*2', 'NaN')\n",
    "data_2000_2['ESTU_IES_COD_DESEADA'] = data_2000_2['ESTU_IES_COD_DESEADA'].replace('*2 1', 'NaN')\n",
    "data_2000_2['ESTU_IES_COD_DESEADA'] = data_2000_2['ESTU_IES_COD_DESEADA'].replace('*2 4', 'NaN')\n",
    "data_2000_2['ESTU_IES_COD_DESEADA'] = data_2000_2['ESTU_IES_COD_DESEADA'].replace('*20', 'NaN')\n",
    "data_2000_2['ESTU_IES_COD_DESEADA'] = data_2000_2['ESTU_IES_COD_DESEADA'].replace('*204', 'NaN')\n",
    "data_2000_2['ESTU_IES_COD_DESEADA'] = data_2000_2['ESTU_IES_COD_DESEADA'].replace('*205', 'NaN')\n",
    "data_2000_2['ESTU_IES_COD_DESEADA'] = data_2000_2['ESTU_IES_COD_DESEADA'].replace('*209', 'NaN')\n",
    "data_2000_2['ESTU_IES_COD_DESEADA'] = data_2000_2['ESTU_IES_COD_DESEADA'].replace('*217', 'NaN')\n",
    "data_2000_2['ESTU_IES_COD_DESEADA'] = data_2000_2['ESTU_IES_COD_DESEADA'].replace('*218', 'NaN')\n",
    "data_2000_2['ESTU_IES_COD_DESEADA'] = data_2000_2['ESTU_IES_COD_DESEADA'].replace('*22', 'NaN')\n",
    "data_2000_2['ESTU_IES_COD_DESEADA'] = data_2000_2['ESTU_IES_COD_DESEADA'].replace('*23', 'NaN')\n",
    "data_2000_2['ESTU_IES_COD_DESEADA'] = data_2000_2['ESTU_IES_COD_DESEADA'].replace('*28', 'NaN')\n",
    "data_2000_2['ESTU_IES_COD_DESEADA'] = data_2000_2['ESTU_IES_COD_DESEADA'].replace('*290', 'NaN')\n",
    "data_2000_2['ESTU_IES_COD_DESEADA'] = data_2000_2['ESTU_IES_COD_DESEADA'].replace('*301', 'NaN')\n",
    "data_2000_2['ESTU_IES_COD_DESEADA'] = data_2000_2['ESTU_IES_COD_DESEADA'].replace('*31', 'NaN')\n",
    "data_2000_2['ESTU_IES_COD_DESEADA'] = data_2000_2['ESTU_IES_COD_DESEADA'].replace('*33*', 'NaN')\n",
    "data_2000_2['ESTU_IES_COD_DESEADA'] = data_2000_2['ESTU_IES_COD_DESEADA'].replace('*40', 'NaN')\n",
    "data_2000_2['ESTU_IES_COD_DESEADA'] = data_2000_2['ESTU_IES_COD_DESEADA'].replace('*5', 'NaN')\n",
    "data_2000_2['ESTU_IES_COD_DESEADA'] = data_2000_2['ESTU_IES_COD_DESEADA'].replace('*50', 'NaN')\n",
    "data_2000_2['ESTU_IES_COD_DESEADA'] = data_2000_2['ESTU_IES_COD_DESEADA'].replace('*6', 'NaN')\n",
    "data_2000_2['ESTU_IES_COD_DESEADA'] = data_2000_2['ESTU_IES_COD_DESEADA'].replace('*62', 'NaN')\n",
    "data_2000_2['ESTU_IES_COD_DESEADA'] = data_2000_2['ESTU_IES_COD_DESEADA'].replace('*7', 'NaN')\n",
    "data_2000_2['ESTU_IES_COD_DESEADA'] = data_2000_2['ESTU_IES_COD_DESEADA'].replace('*7*', 'NaN')\n",
    "data_2000_2['ESTU_IES_COD_DESEADA'] = data_2000_2['ESTU_IES_COD_DESEADA'].replace('*704', 'NaN')\n",
    "data_2000_2['ESTU_IES_COD_DESEADA'] = data_2000_2['ESTU_IES_COD_DESEADA'].replace('*723', 'NaN')\n",
    "data_2000_2['ESTU_IES_COD_DESEADA'] = data_2000_2['ESTU_IES_COD_DESEADA'].replace('*729', 'NaN')\n",
    "data_2000_2['ESTU_IES_COD_DESEADA'] = data_2000_2['ESTU_IES_COD_DESEADA'].replace('*80', 'NaN')\n",
    "data_2000_2['ESTU_IES_COD_DESEADA'] = data_2000_2['ESTU_IES_COD_DESEADA'].replace('*81', 'NaN')\n",
    "data_2000_2['ESTU_IES_COD_DESEADA'] = data_2000_2['ESTU_IES_COD_DESEADA'].replace('*812', 'NaN')\n",
    "data_2000_2['ESTU_IES_COD_DESEADA'] = data_2000_2['ESTU_IES_COD_DESEADA'].replace('*825', 'NaN')\n",
    "data_2000_2['ESTU_IES_COD_DESEADA'] = data_2000_2['ESTU_IES_COD_DESEADA'].replace('*82', 'NaN')\n",
    "data_2000_2['ESTU_IES_COD_DESEADA'] = data_2000_2['ESTU_IES_COD_DESEADA'].replace('*836', 'NaN')\n",
    "data_2000_2['ESTU_IES_COD_DESEADA'] = data_2000_2['ESTU_IES_COD_DESEADA'].replace('*9*9', 'NaN')\n",
    "data_2000_2['ESTU_IES_COD_DESEADA'] = data_2000_2['ESTU_IES_COD_DESEADA'].replace('*999', 'NaN')\n",
    "data_2000_2['ESTU_IES_COD_DESEADA'] = data_2000_2['ESTU_IES_COD_DESEADA'].replace('001', 'NaN')\n",
    "data_2000_2['ESTU_IES_COD_DESEADA'] = data_2000_2['ESTU_IES_COD_DESEADA'].replace('009', 'NaN')\n",
    "data_2000_2['ESTU_IES_COD_DESEADA'] = data_2000_2['ESTU_IES_COD_DESEADA'].replace('01', 'NaN')\n",
    "data_2000_2['ESTU_IES_COD_DESEADA'] = data_2000_2['ESTU_IES_COD_DESEADA'].replace('017', 'NaN')\n",
    "data_2000_2['ESTU_IES_COD_DESEADA'] = data_2000_2['ESTU_IES_COD_DESEADA'].replace('02', 'NaN')\n",
    "data_2000_2['ESTU_IES_COD_DESEADA'] = data_2000_2['ESTU_IES_COD_DESEADA'].replace('03', 'NaN')\n",
    "data_2000_2['ESTU_IES_COD_DESEADA'] = data_2000_2['ESTU_IES_COD_DESEADA'].replace('04', 'NaN')\n",
    "data_2000_2['ESTU_IES_COD_DESEADA'] = data_2000_2['ESTU_IES_COD_DESEADA'].replace('04 6', 'NaN')\n",
    "data_2000_2['ESTU_IES_COD_DESEADA'] = data_2000_2['ESTU_IES_COD_DESEADA'].replace('04**', 'NaN')\n",
    "data_2000_2['ESTU_IES_COD_DESEADA'] = data_2000_2['ESTU_IES_COD_DESEADA'].replace('04*5', 'NaN')\n",
    "data_2000_2['ESTU_IES_COD_DESEADA'] = data_2000_2['ESTU_IES_COD_DESEADA'].replace('04*8', 'NaN')\n",
    "data_2000_2['ESTU_IES_COD_DESEADA'] = data_2000_2['ESTU_IES_COD_DESEADA'].replace('05', 'NaN')\n",
    "data_2000_2['ESTU_IES_COD_DESEADA'] = data_2000_2['ESTU_IES_COD_DESEADA'].replace('06', 'NaN')\n",
    "data_2000_2['ESTU_IES_COD_DESEADA'] = data_2000_2['ESTU_IES_COD_DESEADA'].replace('07', 'NaN')\n",
    "data_2000_2['ESTU_IES_COD_DESEADA'] = data_2000_2['ESTU_IES_COD_DESEADA'].replace('08', 'NaN')\n",
    "data_2000_2['ESTU_IES_COD_DESEADA'] = data_2000_2['ESTU_IES_COD_DESEADA'].replace('08 7', 'NaN')\n",
    "data_2000_2['ESTU_IES_COD_DESEADA'] = data_2000_2['ESTU_IES_COD_DESEADA'].replace('08*8', 'NaN')\n",
    "data_2000_2['ESTU_IES_COD_DESEADA'] = data_2000_2['ESTU_IES_COD_DESEADA'].replace('089*', 'NaN')\n",
    "data_2000_2['ESTU_IES_COD_DESEADA'] = data_2000_2['ESTU_IES_COD_DESEADA'].replace('09', 'NaN')\n",
    "data_2000_2['ESTU_IES_COD_DESEADA'] = data_2000_2['ESTU_IES_COD_DESEADA'].replace('1', 'NaN')\n",
    "data_2000_2['ESTU_IES_COD_DESEADA'] = data_2000_2['ESTU_IES_COD_DESEADA'].replace('1  *', 'NaN')\n",
    "data_2000_2['ESTU_IES_COD_DESEADA'] = data_2000_2['ESTU_IES_COD_DESEADA'].replace('1  0', 'NaN')\n",
    "data_2000_2['ESTU_IES_COD_DESEADA'] = data_2000_2['ESTU_IES_COD_DESEADA'].replace('1  1', 'NaN')\n",
    "data_2000_2['ESTU_IES_COD_DESEADA'] = data_2000_2['ESTU_IES_COD_DESEADA'].replace('1  2', 'NaN')\n",
    "data_2000_2['ESTU_IES_COD_DESEADA'] = data_2000_2['ESTU_IES_COD_DESEADA'].replace('1  3', 'NaN')\n",
    "data_2000_2['ESTU_IES_COD_DESEADA'] = data_2000_2['ESTU_IES_COD_DESEADA'].replace('1  4', 'NaN')\n",
    "data_2000_2['ESTU_IES_COD_DESEADA'] = data_2000_2['ESTU_IES_COD_DESEADA'].replace('1  5', 'NaN')\n",
    "data_2000_2['ESTU_IES_COD_DESEADA'] = data_2000_2['ESTU_IES_COD_DESEADA'].replace('1  6', 'NaN')\n",
    "data_2000_2['ESTU_IES_COD_DESEADA'] = data_2000_2['ESTU_IES_COD_DESEADA'].replace('1  7', 'NaN')\n",
    "data_2000_2['ESTU_IES_COD_DESEADA'] = data_2000_2['ESTU_IES_COD_DESEADA'].replace('1  8', 'NaN')\n",
    "data_2000_2['ESTU_IES_COD_DESEADA'] = data_2000_2['ESTU_IES_COD_DESEADA'].replace('1  9', 'NaN')\n",
    "data_2000_2['ESTU_IES_COD_DESEADA'] = data_2000_2['ESTU_IES_COD_DESEADA'].replace('1 *', 'NaN')\n",
    "data_2000_2['ESTU_IES_COD_DESEADA'] = data_2000_2['ESTU_IES_COD_DESEADA'].replace('1 **', 'NaN')\n",
    "data_2000_2['ESTU_IES_COD_DESEADA'] = data_2000_2['ESTU_IES_COD_DESEADA'].replace('1 *0', 'NaN')\n",
    "data_2000_2['ESTU_IES_COD_DESEADA'] = data_2000_2['ESTU_IES_COD_DESEADA'].replace('1 *1', 'NaN')\n",
    "data_2000_2['ESTU_IES_COD_DESEADA'] = data_2000_2['ESTU_IES_COD_DESEADA'].replace('1 *3', 'NaN')\n",
    "data_2000_2['ESTU_IES_COD_DESEADA'] = data_2000_2['ESTU_IES_COD_DESEADA'].replace('1 *5', 'NaN')\n",
    "data_2000_2['ESTU_IES_COD_DESEADA'] = data_2000_2['ESTU_IES_COD_DESEADA'].replace('1 *6', 'NaN')\n",
    "data_2000_2['ESTU_IES_COD_DESEADA'] = data_2000_2['ESTU_IES_COD_DESEADA'].replace('1 *7', 'NaN')\n",
    "data_2000_2['ESTU_IES_COD_DESEADA'] = data_2000_2['ESTU_IES_COD_DESEADA'].replace('1 *8', 'NaN')\n",
    "data_2000_2['ESTU_IES_COD_DESEADA'] = data_2000_2['ESTU_IES_COD_DESEADA'].replace('1 0', 'NaN')\n",
    "data_2000_2['ESTU_IES_COD_DESEADA'] = data_2000_2['ESTU_IES_COD_DESEADA'].replace('1 0*', 'NaN')\n",
    "data_2000_2['ESTU_IES_COD_DESEADA'] = data_2000_2['ESTU_IES_COD_DESEADA'].replace('1 00', 'NaN')\n",
    "data_2000_2['ESTU_IES_COD_DESEADA'] = data_2000_2['ESTU_IES_COD_DESEADA'].replace('1 01', 'NaN')\n",
    "data_2000_2['ESTU_IES_COD_DESEADA'] = data_2000_2['ESTU_IES_COD_DESEADA'].replace('1 02', 'NaN')\n",
    "data_2000_2['ESTU_IES_COD_DESEADA'] = data_2000_2['ESTU_IES_COD_DESEADA'].replace('1 03', 'NaN')\n",
    "data_2000_2['ESTU_IES_COD_DESEADA'] = data_2000_2['ESTU_IES_COD_DESEADA'].replace('1 04', 'NaN')\n",
    "data_2000_2['ESTU_IES_COD_DESEADA'] = data_2000_2['ESTU_IES_COD_DESEADA'].replace('1 05', 'NaN')\n",
    "data_2000_2['ESTU_IES_COD_DESEADA'] = data_2000_2['ESTU_IES_COD_DESEADA'].replace('1 06', 'NaN')\n",
    "data_2000_2['ESTU_IES_COD_DESEADA'] = data_2000_2['ESTU_IES_COD_DESEADA'].replace('1 07', 'NaN')\n",
    "data_2000_2['ESTU_IES_COD_DESEADA'] = data_2000_2['ESTU_IES_COD_DESEADA'].replace('1 08', 'NaN')\n",
    "data_2000_2['ESTU_IES_COD_DESEADA'] = data_2000_2['ESTU_IES_COD_DESEADA'].replace('1 09', 'NaN')\n",
    "data_2000_2['ESTU_IES_COD_DESEADA'] = data_2000_2['ESTU_IES_COD_DESEADA'].replace('1 1', 'NaN')\n",
    "data_2000_2['ESTU_IES_COD_DESEADA'] = data_2000_2['ESTU_IES_COD_DESEADA'].replace('1 1*', 'NaN')\n",
    "data_2000_2['ESTU_IES_COD_DESEADA'] = data_2000_2['ESTU_IES_COD_DESEADA'].replace('1 10', 'NaN')\n",
    "data_2000_2['ESTU_IES_COD_DESEADA'] = data_2000_2['ESTU_IES_COD_DESEADA'].replace('1 11', 'NaN')\n",
    "data_2000_2['ESTU_IES_COD_DESEADA'] = data_2000_2['ESTU_IES_COD_DESEADA'].replace('1 12', 'NaN')\n",
    "data_2000_2['ESTU_IES_COD_DESEADA'] = data_2000_2['ESTU_IES_COD_DESEADA'].replace('1 13', 'NaN')\n",
    "data_2000_2['ESTU_IES_COD_DESEADA'] = data_2000_2['ESTU_IES_COD_DESEADA'].replace('1 14', 'NaN')\n",
    "data_2000_2['ESTU_IES_COD_DESEADA'] = data_2000_2['ESTU_IES_COD_DESEADA'].replace('1 15', 'NaN')\n",
    "data_2000_2['ESTU_IES_COD_DESEADA'] = data_2000_2['ESTU_IES_COD_DESEADA'].replace('1 16', 'NaN')\n",
    "data_2000_2['ESTU_IES_COD_DESEADA'] = data_2000_2['ESTU_IES_COD_DESEADA'].replace('1 17', 'NaN')\n",
    "data_2000_2['ESTU_IES_COD_DESEADA'] = data_2000_2['ESTU_IES_COD_DESEADA'].replace('1 18', 'NaN')\n",
    "data_2000_2['ESTU_IES_COD_DESEADA'] = data_2000_2['ESTU_IES_COD_DESEADA'].replace('1 19', 'NaN')\n",
    "data_2000_2['ESTU_IES_COD_DESEADA'] = data_2000_2['ESTU_IES_COD_DESEADA'].replace('1 2', 'NaN')\n",
    "data_2000_2['ESTU_IES_COD_DESEADA'] = data_2000_2['ESTU_IES_COD_DESEADA'].replace('1 2*', 'NaN')\n",
    "data_2000_2['ESTU_IES_COD_DESEADA'] = data_2000_2['ESTU_IES_COD_DESEADA'].replace('1 20', 'NaN')\n",
    "data_2000_2['ESTU_IES_COD_DESEADA'] = data_2000_2['ESTU_IES_COD_DESEADA'].replace('1 22', 'NaN')\n",
    "data_2000_2['ESTU_IES_COD_DESEADA'] = data_2000_2['ESTU_IES_COD_DESEADA'].replace('1 23', 'NaN')\n",
    "data_2000_2['ESTU_IES_COD_DESEADA'] = data_2000_2['ESTU_IES_COD_DESEADA'].replace('1 24', 'NaN')\n",
    "data_2000_2['ESTU_IES_COD_DESEADA'] = data_2000_2['ESTU_IES_COD_DESEADA'].replace('1 25', 'NaN')\n",
    "data_2000_2['ESTU_IES_COD_DESEADA'] = data_2000_2['ESTU_IES_COD_DESEADA'].replace('1 26', 'NaN')\n",
    "data_2000_2['ESTU_IES_COD_DESEADA'] = data_2000_2['ESTU_IES_COD_DESEADA'].replace('1 27', 'NaN')\n",
    "data_2000_2['ESTU_IES_COD_DESEADA'] = data_2000_2['ESTU_IES_COD_DESEADA'].replace('1 29', 'NaN')\n",
    "data_2000_2['ESTU_IES_COD_DESEADA'] = data_2000_2['ESTU_IES_COD_DESEADA'].replace('1 3', 'NaN')\n",
    "data_2000_2['ESTU_IES_COD_DESEADA'] = data_2000_2['ESTU_IES_COD_DESEADA'].replace('1 4', 'NaN')\n",
    "data_2000_2['ESTU_IES_COD_DESEADA'] = data_2000_2['ESTU_IES_COD_DESEADA'].replace('1 5', 'NaN')\n",
    "data_2000_2['ESTU_IES_COD_DESEADA'] = data_2000_2['ESTU_IES_COD_DESEADA'].replace('1 7', 'NaN')\n",
    "data_2000_2['ESTU_IES_COD_DESEADA'] = data_2000_2['ESTU_IES_COD_DESEADA'].replace('1 72', 'NaN')\n",
    "data_2000_2['ESTU_IES_COD_DESEADA'] = data_2000_2['ESTU_IES_COD_DESEADA'].replace('1 79', 'NaN')\n",
    "data_2000_2['ESTU_IES_COD_DESEADA'] = data_2000_2['ESTU_IES_COD_DESEADA'].replace('1 9', 'NaN')\n",
    "data_2000_2['ESTU_IES_COD_DESEADA'] = data_2000_2['ESTU_IES_COD_DESEADA'].replace('1*', 'NaN')\n",
    "data_2000_2['ESTU_IES_COD_DESEADA'] = data_2000_2['ESTU_IES_COD_DESEADA'].replace('1* 0', 'NaN')\n",
    "data_2000_2['ESTU_IES_COD_DESEADA'] = data_2000_2['ESTU_IES_COD_DESEADA'].replace('1* 1', 'NaN')\n",
    "data_2000_2['ESTU_IES_COD_DESEADA'] = data_2000_2['ESTU_IES_COD_DESEADA'].replace('1* 2', 'NaN')\n",
    "data_2000_2['ESTU_IES_COD_DESEADA'] = data_2000_2['ESTU_IES_COD_DESEADA'].replace('1* 4', 'NaN')\n",
    "data_2000_2['ESTU_IES_COD_DESEADA'] = data_2000_2['ESTU_IES_COD_DESEADA'].replace('1* 5', 'NaN')\n",
    "data_2000_2['ESTU_IES_COD_DESEADA'] = data_2000_2['ESTU_IES_COD_DESEADA'].replace('1* 6', 'NaN')\n",
    "data_2000_2['ESTU_IES_COD_DESEADA'] = data_2000_2['ESTU_IES_COD_DESEADA'].replace('1* 7', 'NaN')\n",
    "data_2000_2['ESTU_IES_COD_DESEADA'] = data_2000_2['ESTU_IES_COD_DESEADA'].replace('1* 8', 'NaN')\n",
    "data_2000_2['ESTU_IES_COD_DESEADA'] = data_2000_2['ESTU_IES_COD_DESEADA'].replace('1**', 'NaN')\n",
    "data_2000_2['ESTU_IES_COD_DESEADA'] = data_2000_2['ESTU_IES_COD_DESEADA'].replace('1***', 'NaN')\n",
    "data_2000_2['ESTU_IES_COD_DESEADA'] = data_2000_2['ESTU_IES_COD_DESEADA'].replace('1**1', 'NaN')\n",
    "data_2000_2['ESTU_IES_COD_DESEADA'] = data_2000_2['ESTU_IES_COD_DESEADA'].replace('1*0', 'NaN')\n",
    "data_2000_2['ESTU_IES_COD_DESEADA'] = data_2000_2['ESTU_IES_COD_DESEADA'].replace('1*0*', 'NaN')\n",
    "data_2000_2['ESTU_IES_COD_DESEADA'] = data_2000_2['ESTU_IES_COD_DESEADA'].replace('1*01', 'NaN')\n",
    "data_2000_2['ESTU_IES_COD_DESEADA'] = data_2000_2['ESTU_IES_COD_DESEADA'].replace('1*02', 'NaN')\n",
    "data_2000_2['ESTU_IES_COD_DESEADA'] = data_2000_2['ESTU_IES_COD_DESEADA'].replace('1*04', 'NaN')\n",
    "data_2000_2['ESTU_IES_COD_DESEADA'] = data_2000_2['ESTU_IES_COD_DESEADA'].replace('1*06', 'NaN')\n",
    "data_2000_2['ESTU_IES_COD_DESEADA'] = data_2000_2['ESTU_IES_COD_DESEADA'].replace('1*09', 'NaN')\n",
    "data_2000_2['ESTU_IES_COD_DESEADA'] = data_2000_2['ESTU_IES_COD_DESEADA'].replace('1*1', 'NaN')\n",
    "data_2000_2['ESTU_IES_COD_DESEADA'] = data_2000_2['ESTU_IES_COD_DESEADA'].replace('1*10', 'NaN')\n",
    "data_2000_2['ESTU_IES_COD_DESEADA'] = data_2000_2['ESTU_IES_COD_DESEADA'].replace('1*12', 'NaN')\n",
    "data_2000_2['ESTU_IES_COD_DESEADA'] = data_2000_2['ESTU_IES_COD_DESEADA'].replace('1*13', 'NaN')\n",
    "data_2000_2['ESTU_IES_COD_DESEADA'] = data_2000_2['ESTU_IES_COD_DESEADA'].replace('1*2', 'NaN')\n",
    "data_2000_2['ESTU_IES_COD_DESEADA'] = data_2000_2['ESTU_IES_COD_DESEADA'].replace('1*24', 'NaN')\n",
    "data_2000_2['ESTU_IES_COD_DESEADA'] = data_2000_2['ESTU_IES_COD_DESEADA'].replace('1*3', 'NaN')\n",
    "data_2000_2['ESTU_IES_COD_DESEADA'] = data_2000_2['ESTU_IES_COD_DESEADA'].replace('1*5', 'NaN')\n",
    "data_2000_2['ESTU_IES_COD_DESEADA'] = data_2000_2['ESTU_IES_COD_DESEADA'].replace('1*7', 'NaN')\n",
    "data_2000_2['ESTU_IES_COD_DESEADA'] = data_2000_2['ESTU_IES_COD_DESEADA'].replace('1*8', 'NaN')\n",
    "data_2000_2['ESTU_IES_COD_DESEADA'] = data_2000_2['ESTU_IES_COD_DESEADA'].replace('10', 'NaN')\n",
    "data_2000_2['ESTU_IES_COD_DESEADA'] = data_2000_2['ESTU_IES_COD_DESEADA'].replace('10 2', 'NaN')\n",
    "data_2000_2['ESTU_IES_COD_DESEADA'] = data_2000_2['ESTU_IES_COD_DESEADA'].replace('10 5', 'NaN')\n",
    "data_2000_2['ESTU_IES_COD_DESEADA'] = data_2000_2['ESTU_IES_COD_DESEADA'].replace('10*', 'NaN')\n",
    "data_2000_2['ESTU_IES_COD_DESEADA'] = data_2000_2['ESTU_IES_COD_DESEADA'].replace('100', 'NaN')\n",
    "data_2000_2['ESTU_IES_COD_DESEADA'] = data_2000_2['ESTU_IES_COD_DESEADA'].replace('101', 'NaN')\n",
    "data_2000_2['ESTU_IES_COD_DESEADA'] = data_2000_2['ESTU_IES_COD_DESEADA'].replace('102', 'NaN')\n",
    "data_2000_2['ESTU_IES_COD_DESEADA'] = data_2000_2['ESTU_IES_COD_DESEADA'].replace('103', 'NaN')\n",
    "data_2000_2['ESTU_IES_COD_DESEADA'] = data_2000_2['ESTU_IES_COD_DESEADA'].replace('104', 'NaN')\n",
    "data_2000_2['ESTU_IES_COD_DESEADA'] = data_2000_2['ESTU_IES_COD_DESEADA'].replace('105', 'NaN')\n",
    "data_2000_2['ESTU_IES_COD_DESEADA'] = data_2000_2['ESTU_IES_COD_DESEADA'].replace('106', 'NaN')\n",
    "data_2000_2['ESTU_IES_COD_DESEADA'] = data_2000_2['ESTU_IES_COD_DESEADA'].replace('107', 'NaN')\n",
    "data_2000_2['ESTU_IES_COD_DESEADA'] = data_2000_2['ESTU_IES_COD_DESEADA'].replace('109', 'NaN')\n",
    "data_2000_2['ESTU_IES_COD_DESEADA'] = data_2000_2['ESTU_IES_COD_DESEADA'].replace('11', 'NaN')\n",
    "data_2000_2['ESTU_IES_COD_DESEADA'] = data_2000_2['ESTU_IES_COD_DESEADA'].replace('11 *', 'NaN')\n",
    "data_2000_2['ESTU_IES_COD_DESEADA'] = data_2000_2['ESTU_IES_COD_DESEADA'].replace('11 0', 'NaN')\n",
    "data_2000_2['ESTU_IES_COD_DESEADA'] = data_2000_2['ESTU_IES_COD_DESEADA'].replace('11 1', 'NaN')\n",
    "data_2000_2['ESTU_IES_COD_DESEADA'] = data_2000_2['ESTU_IES_COD_DESEADA'].replace('11 2', 'NaN')\n",
    "data_2000_2['ESTU_IES_COD_DESEADA'] = data_2000_2['ESTU_IES_COD_DESEADA'].replace('11 3', 'NaN')\n",
    "data_2000_2['ESTU_IES_COD_DESEADA'] = data_2000_2['ESTU_IES_COD_DESEADA'].replace('11 4', 'NaN')\n",
    "data_2000_2['ESTU_IES_COD_DESEADA'] = data_2000_2['ESTU_IES_COD_DESEADA'].replace('11 5', 'NaN')\n",
    "data_2000_2['ESTU_IES_COD_DESEADA'] = data_2000_2['ESTU_IES_COD_DESEADA'].replace('11 6', 'NaN')\n",
    "data_2000_2['ESTU_IES_COD_DESEADA'] = data_2000_2['ESTU_IES_COD_DESEADA'].replace('11 7', 'NaN')\n",
    "data_2000_2['ESTU_IES_COD_DESEADA'] = data_2000_2['ESTU_IES_COD_DESEADA'].replace('11 8', 'NaN')\n",
    "data_2000_2['ESTU_IES_COD_DESEADA'] = data_2000_2['ESTU_IES_COD_DESEADA'].replace('11 9', 'NaN')\n",
    "data_2000_2['ESTU_IES_COD_DESEADA'] = data_2000_2['ESTU_IES_COD_DESEADA'].replace('11*', 'NaN')\n",
    "data_2000_2['ESTU_IES_COD_DESEADA'] = data_2000_2['ESTU_IES_COD_DESEADA'].replace('11*1', 'NaN')\n",
    "data_2000_2['ESTU_IES_COD_DESEADA'] = data_2000_2['ESTU_IES_COD_DESEADA'].replace('11*2', 'NaN')\n",
    "data_2000_2['ESTU_IES_COD_DESEADA'] = data_2000_2['ESTU_IES_COD_DESEADA'].replace('11*5', 'NaN')\n",
    "data_2000_2['ESTU_IES_COD_DESEADA'] = data_2000_2['ESTU_IES_COD_DESEADA'].replace('110', 'NaN')\n",
    "data_2000_2['ESTU_IES_COD_DESEADA'] = data_2000_2['ESTU_IES_COD_DESEADA'].replace('110*', 'NaN')\n",
    "data_2000_2['ESTU_IES_COD_DESEADA'] = data_2000_2['ESTU_IES_COD_DESEADA'].replace('111', 'NaN')\n",
    "data_2000_2['ESTU_IES_COD_DESEADA'] = data_2000_2['ESTU_IES_COD_DESEADA'].replace('111*', 'NaN')\n",
    "data_2000_2['ESTU_IES_COD_DESEADA'] = data_2000_2['ESTU_IES_COD_DESEADA'].replace('112', 'NaN')\n",
    "data_2000_2['ESTU_IES_COD_DESEADA'] = data_2000_2['ESTU_IES_COD_DESEADA'].replace('112*', 'NaN')\n",
    "data_2000_2['ESTU_IES_COD_DESEADA'] = data_2000_2['ESTU_IES_COD_DESEADA'].replace('113', 'NaN')\n",
    "data_2000_2['ESTU_IES_COD_DESEADA'] = data_2000_2['ESTU_IES_COD_DESEADA'].replace('114', 'NaN')\n",
    "data_2000_2['ESTU_IES_COD_DESEADA'] = data_2000_2['ESTU_IES_COD_DESEADA'].replace('115', 'NaN')\n",
    "data_2000_2['ESTU_IES_COD_DESEADA'] = data_2000_2['ESTU_IES_COD_DESEADA'].replace('116', 'NaN')\n",
    "data_2000_2['ESTU_IES_COD_DESEADA'] = data_2000_2['ESTU_IES_COD_DESEADA'].replace('118', 'NaN')\n",
    "data_2000_2['ESTU_IES_COD_DESEADA'] = data_2000_2['ESTU_IES_COD_DESEADA'].replace('119', 'NaN')\n",
    "data_2000_2['ESTU_IES_COD_DESEADA'] = data_2000_2['ESTU_IES_COD_DESEADA'].replace('12', 'NaN')\n",
    "data_2000_2['ESTU_IES_COD_DESEADA'] = data_2000_2['ESTU_IES_COD_DESEADA'].replace('12 *', 'NaN')\n",
    "data_2000_2['ESTU_IES_COD_DESEADA'] = data_2000_2['ESTU_IES_COD_DESEADA'].replace('12 1', 'NaN')\n",
    "data_2000_2['ESTU_IES_COD_DESEADA'] = data_2000_2['ESTU_IES_COD_DESEADA'].replace('12 2', 'NaN')\n",
    "data_2000_2['ESTU_IES_COD_DESEADA'] = data_2000_2['ESTU_IES_COD_DESEADA'].replace('12 3', 'NaN')\n",
    "data_2000_2['ESTU_IES_COD_DESEADA'] = data_2000_2['ESTU_IES_COD_DESEADA'].replace('12 4', 'NaN')\n",
    "data_2000_2['ESTU_IES_COD_DESEADA'] = data_2000_2['ESTU_IES_COD_DESEADA'].replace('12 5', 'NaN')\n",
    "data_2000_2['ESTU_IES_COD_DESEADA'] = data_2000_2['ESTU_IES_COD_DESEADA'].replace('12 6', 'NaN')\n",
    "data_2000_2['ESTU_IES_COD_DESEADA'] = data_2000_2['ESTU_IES_COD_DESEADA'].replace('12 7', 'NaN')\n",
    "data_2000_2['ESTU_IES_COD_DESEADA'] = data_2000_2['ESTU_IES_COD_DESEADA'].replace('12 8', 'NaN')\n",
    "data_2000_2['ESTU_IES_COD_DESEADA'] = data_2000_2['ESTU_IES_COD_DESEADA'].replace('12 9', 'NaN')\n",
    "data_2000_2['ESTU_IES_COD_DESEADA'] = data_2000_2['ESTU_IES_COD_DESEADA'].replace('12*', 'NaN')\n",
    "data_2000_2['ESTU_IES_COD_DESEADA'] = data_2000_2['ESTU_IES_COD_DESEADA'].replace('12*9', 'NaN')\n",
    "data_2000_2['ESTU_IES_COD_DESEADA'] = data_2000_2['ESTU_IES_COD_DESEADA'].replace('120', 'NaN')\n",
    "data_2000_2['ESTU_IES_COD_DESEADA'] = data_2000_2['ESTU_IES_COD_DESEADA'].replace('120*', 'NaN')\n",
    "data_2000_2['ESTU_IES_COD_DESEADA'] = data_2000_2['ESTU_IES_COD_DESEADA'].replace('121', 'NaN')\n",
    "data_2000_2['ESTU_IES_COD_DESEADA'] = data_2000_2['ESTU_IES_COD_DESEADA'].replace('121*', 'NaN')\n",
    "data_2000_2['ESTU_IES_COD_DESEADA'] = data_2000_2['ESTU_IES_COD_DESEADA'].replace('127', 'NaN')\n",
    "data_2000_2['ESTU_IES_COD_DESEADA'] = data_2000_2['ESTU_IES_COD_DESEADA'].replace('13', 'NaN')\n",
    "data_2000_2['ESTU_IES_COD_DESEADA'] = data_2000_2['ESTU_IES_COD_DESEADA'].replace('13 1', 'NaN')\n",
    "data_2000_2['ESTU_IES_COD_DESEADA'] = data_2000_2['ESTU_IES_COD_DESEADA'].replace('13*', 'NaN')\n",
    "data_2000_2['ESTU_IES_COD_DESEADA'] = data_2000_2['ESTU_IES_COD_DESEADA'].replace('130', 'NaN')\n",
    "data_2000_2['ESTU_IES_COD_DESEADA'] = data_2000_2['ESTU_IES_COD_DESEADA'].replace('130*', 'NaN')\n",
    "data_2000_2['ESTU_IES_COD_DESEADA'] = data_2000_2['ESTU_IES_COD_DESEADA'].replace('14*', 'NaN')\n",
    "data_2000_2['ESTU_IES_COD_DESEADA'] = data_2000_2['ESTU_IES_COD_DESEADA'].replace('15', 'NaN')\n",
    "data_2000_2['ESTU_IES_COD_DESEADA'] = data_2000_2['ESTU_IES_COD_DESEADA'].replace('15 *', 'NaN')\n",
    "data_2000_2['ESTU_IES_COD_DESEADA'] = data_2000_2['ESTU_IES_COD_DESEADA'].replace('15*', 'NaN')\n",
    "data_2000_2['ESTU_IES_COD_DESEADA'] = data_2000_2['ESTU_IES_COD_DESEADA'].replace('162', 'NaN')\n",
    "data_2000_2['ESTU_IES_COD_DESEADA'] = data_2000_2['ESTU_IES_COD_DESEADA'].replace('17', 'NaN')\n",
    "data_2000_2['ESTU_IES_COD_DESEADA'] = data_2000_2['ESTU_IES_COD_DESEADA'].replace('17 *', 'NaN')\n",
    "data_2000_2['ESTU_IES_COD_DESEADA'] = data_2000_2['ESTU_IES_COD_DESEADA'].replace('17 0', 'NaN')\n",
    "data_2000_2['ESTU_IES_COD_DESEADA'] = data_2000_2['ESTU_IES_COD_DESEADA'].replace('17 1', 'NaN')\n",
    "data_2000_2['ESTU_IES_COD_DESEADA'] = data_2000_2['ESTU_IES_COD_DESEADA'].replace('17 2', 'NaN')\n",
    "data_2000_2['ESTU_IES_COD_DESEADA'] = data_2000_2['ESTU_IES_COD_DESEADA'].replace('17 3', 'NaN')\n",
    "data_2000_2['ESTU_IES_COD_DESEADA'] = data_2000_2['ESTU_IES_COD_DESEADA'].replace('17 5', 'NaN')\n",
    "data_2000_2['ESTU_IES_COD_DESEADA'] = data_2000_2['ESTU_IES_COD_DESEADA'].replace('17 7', 'NaN')\n",
    "data_2000_2['ESTU_IES_COD_DESEADA'] = data_2000_2['ESTU_IES_COD_DESEADA'].replace('17 8', 'NaN')\n",
    "data_2000_2['ESTU_IES_COD_DESEADA'] = data_2000_2['ESTU_IES_COD_DESEADA'].replace('17*', 'NaN')\n",
    "data_2000_2['ESTU_IES_COD_DESEADA'] = data_2000_2['ESTU_IES_COD_DESEADA'].replace('17*8', 'NaN')\n",
    "data_2000_2['ESTU_IES_COD_DESEADA'] = data_2000_2['ESTU_IES_COD_DESEADA'].replace('170', 'NaN')\n",
    "data_2000_2['ESTU_IES_COD_DESEADA'] = data_2000_2['ESTU_IES_COD_DESEADA'].replace('170*', 'NaN')\n",
    "data_2000_2['ESTU_IES_COD_DESEADA'] = data_2000_2['ESTU_IES_COD_DESEADA'].replace('171', 'NaN')\n",
    "data_2000_2['ESTU_IES_COD_DESEADA'] = data_2000_2['ESTU_IES_COD_DESEADA'].replace('172', 'NaN')\n",
    "data_2000_2['ESTU_IES_COD_DESEADA'] = data_2000_2['ESTU_IES_COD_DESEADA'].replace('176', 'NaN')\n",
    "data_2000_2['ESTU_IES_COD_DESEADA'] = data_2000_2['ESTU_IES_COD_DESEADA'].replace('18', 'NaN')\n",
    "data_2000_2['ESTU_IES_COD_DESEADA'] = data_2000_2['ESTU_IES_COD_DESEADA'].replace('18 *', 'NaN')\n",
    "data_2000_2['ESTU_IES_COD_DESEADA'] = data_2000_2['ESTU_IES_COD_DESEADA'].replace('18 2', 'NaN')\n",
    "data_2000_2['ESTU_IES_COD_DESEADA'] = data_2000_2['ESTU_IES_COD_DESEADA'].replace('18 3', 'NaN')\n",
    "data_2000_2['ESTU_IES_COD_DESEADA'] = data_2000_2['ESTU_IES_COD_DESEADA'].replace('18 4', 'NaN')\n",
    "data_2000_2['ESTU_IES_COD_DESEADA'] = data_2000_2['ESTU_IES_COD_DESEADA'].replace('18 5', 'NaN')\n",
    "data_2000_2['ESTU_IES_COD_DESEADA'] = data_2000_2['ESTU_IES_COD_DESEADA'].replace('18 6', 'NaN')\n",
    "data_2000_2['ESTU_IES_COD_DESEADA'] = data_2000_2['ESTU_IES_COD_DESEADA'].replace('18 7', 'NaN')\n",
    "data_2000_2['ESTU_IES_COD_DESEADA'] = data_2000_2['ESTU_IES_COD_DESEADA'].replace('18 8', 'NaN')\n",
    "data_2000_2['ESTU_IES_COD_DESEADA'] = data_2000_2['ESTU_IES_COD_DESEADA'].replace('18 9', 'NaN')\n",
    "data_2000_2['ESTU_IES_COD_DESEADA'] = data_2000_2['ESTU_IES_COD_DESEADA'].replace('18*', 'NaN')\n",
    "data_2000_2['ESTU_IES_COD_DESEADA'] = data_2000_2['ESTU_IES_COD_DESEADA'].replace('180', 'NaN')\n",
    "data_2000_2['ESTU_IES_COD_DESEADA'] = data_2000_2['ESTU_IES_COD_DESEADA'].replace('181', 'NaN')\n",
    "data_2000_2['ESTU_IES_COD_DESEADA'] = data_2000_2['ESTU_IES_COD_DESEADA'].replace('181*', 'NaN')\n",
    "data_2000_2['ESTU_IES_COD_DESEADA'] = data_2000_2['ESTU_IES_COD_DESEADA'].replace('182', 'NaN')\n",
    "data_2000_2['ESTU_IES_COD_DESEADA'] = data_2000_2['ESTU_IES_COD_DESEADA'].replace('182*', 'NaN')\n",
    "data_2000_2['ESTU_IES_COD_DESEADA'] = data_2000_2['ESTU_IES_COD_DESEADA'].replace('189', 'NaN')\n",
    "data_2000_2['ESTU_IES_COD_DESEADA'] = data_2000_2['ESTU_IES_COD_DESEADA'].replace('19', 'NaN')\n",
    "data_2000_2['ESTU_IES_COD_DESEADA'] = data_2000_2['ESTU_IES_COD_DESEADA'].replace('2', 'NaN')\n",
    "data_2000_2['ESTU_IES_COD_DESEADA'] = data_2000_2['ESTU_IES_COD_DESEADA'].replace('2  3', 'NaN')\n",
    "data_2000_2['ESTU_IES_COD_DESEADA'] = data_2000_2['ESTU_IES_COD_DESEADA'].replace('2  4', 'NaN')\n",
    "data_2000_2['ESTU_IES_COD_DESEADA'] = data_2000_2['ESTU_IES_COD_DESEADA'].replace('2  5', 'NaN')\n",
    "data_2000_2['ESTU_IES_COD_DESEADA'] = data_2000_2['ESTU_IES_COD_DESEADA'].replace('2  6', 'NaN')\n",
    "data_2000_2['ESTU_IES_COD_DESEADA'] = data_2000_2['ESTU_IES_COD_DESEADA'].replace('2  7', 'NaN')\n",
    "data_2000_2['ESTU_IES_COD_DESEADA'] = data_2000_2['ESTU_IES_COD_DESEADA'].replace('2 *', 'NaN')\n",
    "data_2000_2['ESTU_IES_COD_DESEADA'] = data_2000_2['ESTU_IES_COD_DESEADA'].replace('2 *5', 'NaN')\n",
    "data_2000_2['ESTU_IES_COD_DESEADA'] = data_2000_2['ESTU_IES_COD_DESEADA'].replace('2 *6', 'NaN')\n",
    "data_2000_2['ESTU_IES_COD_DESEADA'] = data_2000_2['ESTU_IES_COD_DESEADA'].replace('2 0', 'NaN')\n",
    "data_2000_2['ESTU_IES_COD_DESEADA'] = data_2000_2['ESTU_IES_COD_DESEADA'].replace('2 02', 'NaN')\n",
    "data_2000_2['ESTU_IES_COD_DESEADA'] = data_2000_2['ESTU_IES_COD_DESEADA'].replace('2 04', 'NaN')\n",
    "data_2000_2['ESTU_IES_COD_DESEADA'] = data_2000_2['ESTU_IES_COD_DESEADA'].replace('2 05', 'NaN')\n",
    "data_2000_2['ESTU_IES_COD_DESEADA'] = data_2000_2['ESTU_IES_COD_DESEADA'].replace('2 06', 'NaN')\n",
    "data_2000_2['ESTU_IES_COD_DESEADA'] = data_2000_2['ESTU_IES_COD_DESEADA'].replace('2 07', 'NaN')\n",
    "data_2000_2['ESTU_IES_COD_DESEADA'] = data_2000_2['ESTU_IES_COD_DESEADA'].replace('2 08', 'NaN')\n",
    "data_2000_2['ESTU_IES_COD_DESEADA'] = data_2000_2['ESTU_IES_COD_DESEADA'].replace('2 09', 'NaN')\n",
    "data_2000_2['ESTU_IES_COD_DESEADA'] = data_2000_2['ESTU_IES_COD_DESEADA'].replace('2 1', 'NaN')\n",
    "data_2000_2['ESTU_IES_COD_DESEADA'] = data_2000_2['ESTU_IES_COD_DESEADA'].replace('2 13', 'NaN')\n",
    "data_2000_2['ESTU_IES_COD_DESEADA'] = data_2000_2['ESTU_IES_COD_DESEADA'].replace('2 14', 'NaN')\n",
    "data_2000_2['ESTU_IES_COD_DESEADA'] = data_2000_2['ESTU_IES_COD_DESEADA'].replace('2 15', 'NaN')\n",
    "data_2000_2['ESTU_IES_COD_DESEADA'] = data_2000_2['ESTU_IES_COD_DESEADA'].replace('2 2', 'NaN')\n",
    "data_2000_2['ESTU_IES_COD_DESEADA'] = data_2000_2['ESTU_IES_COD_DESEADA'].replace('2 2*', 'NaN')\n",
    "data_2000_2['ESTU_IES_COD_DESEADA'] = data_2000_2['ESTU_IES_COD_DESEADA'].replace('2 23', 'NaN')\n",
    "data_2000_2['ESTU_IES_COD_DESEADA'] = data_2000_2['ESTU_IES_COD_DESEADA'].replace('2 25', 'NaN')\n",
    "data_2000_2['ESTU_IES_COD_DESEADA'] = data_2000_2['ESTU_IES_COD_DESEADA'].replace('2 27', 'NaN')\n",
    "data_2000_2['ESTU_IES_COD_DESEADA'] = data_2000_2['ESTU_IES_COD_DESEADA'].replace('2 28', 'NaN')\n",
    "data_2000_2['ESTU_IES_COD_DESEADA'] = data_2000_2['ESTU_IES_COD_DESEADA'].replace('2 29', 'NaN')\n",
    "data_2000_2['ESTU_IES_COD_DESEADA'] = data_2000_2['ESTU_IES_COD_DESEADA'].replace('2 3', 'NaN')\n",
    "data_2000_2['ESTU_IES_COD_DESEADA'] = data_2000_2['ESTU_IES_COD_DESEADA'].replace('2 3*', 'NaN')\n",
    "data_2000_2['ESTU_IES_COD_DESEADA'] = data_2000_2['ESTU_IES_COD_DESEADA'].replace('2 32', 'NaN')\n",
    "data_2000_2['ESTU_IES_COD_DESEADA'] = data_2000_2['ESTU_IES_COD_DESEADA'].replace('2 33', 'NaN')\n",
    "data_2000_2['ESTU_IES_COD_DESEADA'] = data_2000_2['ESTU_IES_COD_DESEADA'].replace('2 4', 'NaN')\n",
    "data_2000_2['ESTU_IES_COD_DESEADA'] = data_2000_2['ESTU_IES_COD_DESEADA'].replace('2 5', 'NaN')\n",
    "data_2000_2['ESTU_IES_COD_DESEADA'] = data_2000_2['ESTU_IES_COD_DESEADA'].replace('2 8', 'NaN')\n",
    "data_2000_2['ESTU_IES_COD_DESEADA'] = data_2000_2['ESTU_IES_COD_DESEADA'].replace('2 9', 'NaN')\n",
    "data_2000_2['ESTU_IES_COD_DESEADA'] = data_2000_2['ESTU_IES_COD_DESEADA'].replace('2*', 'NaN')\n",
    "data_2000_2['ESTU_IES_COD_DESEADA'] = data_2000_2['ESTU_IES_COD_DESEADA'].replace('2* 1', 'NaN')\n",
    "data_2000_2['ESTU_IES_COD_DESEADA'] = data_2000_2['ESTU_IES_COD_DESEADA'].replace('2* 9', 'NaN')\n",
    "data_2000_2['ESTU_IES_COD_DESEADA'] = data_2000_2['ESTU_IES_COD_DESEADA'].replace('2*0', 'NaN')\n",
    "data_2000_2['ESTU_IES_COD_DESEADA'] = data_2000_2['ESTU_IES_COD_DESEADA'].replace('2*05', 'NaN')\n",
    "data_2000_2['ESTU_IES_COD_DESEADA'] = data_2000_2['ESTU_IES_COD_DESEADA'].replace('2*15', 'NaN')\n",
    "data_2000_2['ESTU_IES_COD_DESEADA'] = data_2000_2['ESTU_IES_COD_DESEADA'].replace('2*2', 'NaN')\n",
    "data_2000_2['ESTU_IES_COD_DESEADA'] = data_2000_2['ESTU_IES_COD_DESEADA'].replace('2*3', 'NaN')\n",
    "data_2000_2['ESTU_IES_COD_DESEADA'] = data_2000_2['ESTU_IES_COD_DESEADA'].replace('2*5', 'NaN')\n",
    "data_2000_2['ESTU_IES_COD_DESEADA'] = data_2000_2['ESTU_IES_COD_DESEADA'].replace('2*8', 'NaN')\n",
    "data_2000_2['ESTU_IES_COD_DESEADA'] = data_2000_2['ESTU_IES_COD_DESEADA'].replace('20', 'NaN')\n",
    "data_2000_2['ESTU_IES_COD_DESEADA'] = data_2000_2['ESTU_IES_COD_DESEADA'].replace('200', 'NaN')\n",
    "data_2000_2['ESTU_IES_COD_DESEADA'] = data_2000_2['ESTU_IES_COD_DESEADA'].replace('201', 'NaN')\n",
    "data_2000_2['ESTU_IES_COD_DESEADA'] = data_2000_2['ESTU_IES_COD_DESEADA'].replace('202', 'NaN')\n",
    "data_2000_2['ESTU_IES_COD_DESEADA'] = data_2000_2['ESTU_IES_COD_DESEADA'].replace('203', 'NaN')\n",
    "data_2000_2['ESTU_IES_COD_DESEADA'] = data_2000_2['ESTU_IES_COD_DESEADA'].replace('204', 'NaN')\n",
    "data_2000_2['ESTU_IES_COD_DESEADA'] = data_2000_2['ESTU_IES_COD_DESEADA'].replace('205', 'NaN')\n",
    "data_2000_2['ESTU_IES_COD_DESEADA'] = data_2000_2['ESTU_IES_COD_DESEADA'].replace('207', 'NaN')\n",
    "data_2000_2['ESTU_IES_COD_DESEADA'] = data_2000_2['ESTU_IES_COD_DESEADA'].replace('208', 'NaN')\n",
    "data_2000_2['ESTU_IES_COD_DESEADA'] = data_2000_2['ESTU_IES_COD_DESEADA'].replace('209', 'NaN')\n",
    "data_2000_2['ESTU_IES_COD_DESEADA'] = data_2000_2['ESTU_IES_COD_DESEADA'].replace('21', 'NaN')\n",
    "data_2000_2['ESTU_IES_COD_DESEADA'] = data_2000_2['ESTU_IES_COD_DESEADA'].replace('21 *', 'NaN')\n",
    "data_2000_2['ESTU_IES_COD_DESEADA'] = data_2000_2['ESTU_IES_COD_DESEADA'].replace('21 1', 'NaN')\n",
    "data_2000_2['ESTU_IES_COD_DESEADA'] = data_2000_2['ESTU_IES_COD_DESEADA'].replace('21 2', 'NaN')\n",
    "data_2000_2['ESTU_IES_COD_DESEADA'] = data_2000_2['ESTU_IES_COD_DESEADA'].replace('21 3', 'NaN')\n",
    "data_2000_2['ESTU_IES_COD_DESEADA'] = data_2000_2['ESTU_IES_COD_DESEADA'].replace('21 5', 'NaN')\n",
    "data_2000_2['ESTU_IES_COD_DESEADA'] = data_2000_2['ESTU_IES_COD_DESEADA'].replace('21 6', 'NaN')\n",
    "data_2000_2['ESTU_IES_COD_DESEADA'] = data_2000_2['ESTU_IES_COD_DESEADA'].replace('21*', 'NaN')\n",
    "data_2000_2['ESTU_IES_COD_DESEADA'] = data_2000_2['ESTU_IES_COD_DESEADA'].replace('210', 'NaN')\n",
    "data_2000_2['ESTU_IES_COD_DESEADA'] = data_2000_2['ESTU_IES_COD_DESEADA'].replace('210*', 'NaN')\n",
    "data_2000_2['ESTU_IES_COD_DESEADA'] = data_2000_2['ESTU_IES_COD_DESEADA'].replace('211', 'NaN')\n",
    "data_2000_2['ESTU_IES_COD_DESEADA'] = data_2000_2['ESTU_IES_COD_DESEADA'].replace('211*', 'NaN')\n",
    "data_2000_2['ESTU_IES_COD_DESEADA'] = data_2000_2['ESTU_IES_COD_DESEADA'].replace('212', 'NaN')\n",
    "data_2000_2['ESTU_IES_COD_DESEADA'] = data_2000_2['ESTU_IES_COD_DESEADA'].replace('213', 'NaN')\n",
    "data_2000_2['ESTU_IES_COD_DESEADA'] = data_2000_2['ESTU_IES_COD_DESEADA'].replace('214', 'NaN')\n",
    "data_2000_2['ESTU_IES_COD_DESEADA'] = data_2000_2['ESTU_IES_COD_DESEADA'].replace('215', 'NaN')\n",
    "data_2000_2['ESTU_IES_COD_DESEADA'] = data_2000_2['ESTU_IES_COD_DESEADA'].replace('216', 'NaN')\n",
    "data_2000_2['ESTU_IES_COD_DESEADA'] = data_2000_2['ESTU_IES_COD_DESEADA'].replace('217', 'NaN')\n",
    "data_2000_2['ESTU_IES_COD_DESEADA'] = data_2000_2['ESTU_IES_COD_DESEADA'].replace('22', 'NaN')\n",
    "data_2000_2['ESTU_IES_COD_DESEADA'] = data_2000_2['ESTU_IES_COD_DESEADA'].replace('22 *', 'NaN')\n",
    "data_2000_2['ESTU_IES_COD_DESEADA'] = data_2000_2['ESTU_IES_COD_DESEADA'].replace('22 9', 'NaN')\n",
    "data_2000_2['ESTU_IES_COD_DESEADA'] = data_2000_2['ESTU_IES_COD_DESEADA'].replace('22*', 'NaN')\n",
    "data_2000_2['ESTU_IES_COD_DESEADA'] = data_2000_2['ESTU_IES_COD_DESEADA'].replace('220', 'NaN')\n",
    "data_2000_2['ESTU_IES_COD_DESEADA'] = data_2000_2['ESTU_IES_COD_DESEADA'].replace('23', 'NaN')\n",
    "data_2000_2['ESTU_IES_COD_DESEADA'] = data_2000_2['ESTU_IES_COD_DESEADA'].replace('24', 'NaN')\n",
    "data_2000_2['ESTU_IES_COD_DESEADA'] = data_2000_2['ESTU_IES_COD_DESEADA'].replace('25', 'NaN')\n",
    "data_2000_2['ESTU_IES_COD_DESEADA'] = data_2000_2['ESTU_IES_COD_DESEADA'].replace('26', 'NaN')\n",
    "data_2000_2['ESTU_IES_COD_DESEADA'] = data_2000_2['ESTU_IES_COD_DESEADA'].replace('262*', 'NaN')\n",
    "data_2000_2['ESTU_IES_COD_DESEADA'] = data_2000_2['ESTU_IES_COD_DESEADA'].replace('27', 'NaN')\n",
    "data_2000_2['ESTU_IES_COD_DESEADA'] = data_2000_2['ESTU_IES_COD_DESEADA'].replace('27 1', 'NaN')\n",
    "data_2000_2['ESTU_IES_COD_DESEADA'] = data_2000_2['ESTU_IES_COD_DESEADA'].replace('27 5', 'NaN')\n",
    "data_2000_2['ESTU_IES_COD_DESEADA'] = data_2000_2['ESTU_IES_COD_DESEADA'].replace('27 8', 'NaN')\n",
    "data_2000_2['ESTU_IES_COD_DESEADA'] = data_2000_2['ESTU_IES_COD_DESEADA'].replace('27*', 'NaN')\n",
    "data_2000_2['ESTU_IES_COD_DESEADA'] = data_2000_2['ESTU_IES_COD_DESEADA'].replace('270', 'NaN')\n",
    "data_2000_2['ESTU_IES_COD_DESEADA'] = data_2000_2['ESTU_IES_COD_DESEADA'].replace('271', 'NaN')\n",
    "data_2000_2['ESTU_IES_COD_DESEADA'] = data_2000_2['ESTU_IES_COD_DESEADA'].replace('272', 'NaN')\n",
    "data_2000_2['ESTU_IES_COD_DESEADA'] = data_2000_2['ESTU_IES_COD_DESEADA'].replace('273', 'NaN')\n",
    "data_2000_2['ESTU_IES_COD_DESEADA'] = data_2000_2['ESTU_IES_COD_DESEADA'].replace('28', 'NaN')\n",
    "data_2000_2['ESTU_IES_COD_DESEADA'] = data_2000_2['ESTU_IES_COD_DESEADA'].replace('28 0', 'NaN')\n",
    "data_2000_2['ESTU_IES_COD_DESEADA'] = data_2000_2['ESTU_IES_COD_DESEADA'].replace('28 8', 'NaN')\n",
    "data_2000_2['ESTU_IES_COD_DESEADA'] = data_2000_2['ESTU_IES_COD_DESEADA'].replace('28*', 'NaN')\n",
    "data_2000_2['ESTU_IES_COD_DESEADA'] = data_2000_2['ESTU_IES_COD_DESEADA'].replace('28*2', 'NaN')\n",
    "data_2000_2['ESTU_IES_COD_DESEADA'] = data_2000_2['ESTU_IES_COD_DESEADA'].replace('280', 'NaN')\n",
    "data_2000_2['ESTU_IES_COD_DESEADA'] = data_2000_2['ESTU_IES_COD_DESEADA'].replace('280*', 'NaN')\n",
    "data_2000_2['ESTU_IES_COD_DESEADA'] = data_2000_2['ESTU_IES_COD_DESEADA'].replace('281', 'NaN')\n",
    "data_2000_2['ESTU_IES_COD_DESEADA'] = data_2000_2['ESTU_IES_COD_DESEADA'].replace('281*', 'NaN')\n",
    "data_2000_2['ESTU_IES_COD_DESEADA'] = data_2000_2['ESTU_IES_COD_DESEADA'].replace('282', 'NaN')\n",
    "data_2000_2['ESTU_IES_COD_DESEADA'] = data_2000_2['ESTU_IES_COD_DESEADA'].replace('283', 'NaN')\n",
    "data_2000_2['ESTU_IES_COD_DESEADA'] = data_2000_2['ESTU_IES_COD_DESEADA'].replace('290', 'NaN')\n",
    "data_2000_2['ESTU_IES_COD_DESEADA'] = data_2000_2['ESTU_IES_COD_DESEADA'].replace('3', 'NaN')\n",
    "data_2000_2['ESTU_IES_COD_DESEADA'] = data_2000_2['ESTU_IES_COD_DESEADA'].replace('3  1', 'NaN')\n",
    "data_2000_2['ESTU_IES_COD_DESEADA'] = data_2000_2['ESTU_IES_COD_DESEADA'].replace('3  3', 'NaN')\n",
    "data_2000_2['ESTU_IES_COD_DESEADA'] = data_2000_2['ESTU_IES_COD_DESEADA'].replace('3  5', 'NaN')\n",
    "data_2000_2['ESTU_IES_COD_DESEADA'] = data_2000_2['ESTU_IES_COD_DESEADA'].replace('3  6', 'NaN')\n",
    "data_2000_2['ESTU_IES_COD_DESEADA'] = data_2000_2['ESTU_IES_COD_DESEADA'].replace('3 *', 'NaN')\n",
    "data_2000_2['ESTU_IES_COD_DESEADA'] = data_2000_2['ESTU_IES_COD_DESEADA'].replace('3 *06', 'NaN')\n",
    "data_2000_2['ESTU_IES_COD_DESEADA'] = data_2000_2['ESTU_IES_COD_DESEADA'].replace('3 0', 'NaN')\n",
    "data_2000_2['ESTU_IES_COD_DESEADA'] = data_2000_2['ESTU_IES_COD_DESEADA'].replace('3 04', 'NaN')\n",
    "data_2000_2['ESTU_IES_COD_DESEADA'] = data_2000_2['ESTU_IES_COD_DESEADA'].replace('3 05', 'NaN')\n",
    "data_2000_2['ESTU_IES_COD_DESEADA'] = data_2000_2['ESTU_IES_COD_DESEADA'].replace('3 09', 'NaN')\n",
    "data_2000_2['ESTU_IES_COD_DESEADA'] = data_2000_2['ESTU_IES_COD_DESEADA'].replace('3 1', 'NaN')\n",
    "data_2000_2['ESTU_IES_COD_DESEADA'] = data_2000_2['ESTU_IES_COD_DESEADA'].replace('3 10', 'NaN')\n",
    "data_2000_2['ESTU_IES_COD_DESEADA'] = data_2000_2['ESTU_IES_COD_DESEADA'].replace('3 11', 'NaN')\n",
    "data_2000_2['ESTU_IES_COD_DESEADA'] = data_2000_2['ESTU_IES_COD_DESEADA'].replace('3 12', 'NaN')\n",
    "data_2000_2['ESTU_IES_COD_DESEADA'] = data_2000_2['ESTU_IES_COD_DESEADA'].replace('3 16', 'NaN')\n",
    "data_2000_2['ESTU_IES_COD_DESEADA'] = data_2000_2['ESTU_IES_COD_DESEADA'].replace('3 17', 'NaN')\n",
    "data_2000_2['ESTU_IES_COD_DESEADA'] = data_2000_2['ESTU_IES_COD_DESEADA'].replace('3 2', 'NaN')\n",
    "data_2000_2['ESTU_IES_COD_DESEADA'] = data_2000_2['ESTU_IES_COD_DESEADA'].replace('3 21', 'NaN')\n",
    "data_2000_2['ESTU_IES_COD_DESEADA'] = data_2000_2['ESTU_IES_COD_DESEADA'].replace('3 25', 'NaN')\n",
    "data_2000_2['ESTU_IES_COD_DESEADA'] = data_2000_2['ESTU_IES_COD_DESEADA'].replace('3 26', 'NaN')\n",
    "data_2000_2['ESTU_IES_COD_DESEADA'] = data_2000_2['ESTU_IES_COD_DESEADA'].replace('3 29', 'NaN')\n",
    "data_2000_2['ESTU_IES_COD_DESEADA'] = data_2000_2['ESTU_IES_COD_DESEADA'].replace('3 30', 'NaN')\n",
    "data_2000_2['ESTU_IES_COD_DESEADA'] = data_2000_2['ESTU_IES_COD_DESEADA'].replace('3 44', 'NaN')\n",
    "data_2000_2['ESTU_IES_COD_DESEADA'] = data_2000_2['ESTU_IES_COD_DESEADA'].replace('3*', 'NaN')\n",
    "data_2000_2['ESTU_IES_COD_DESEADA'] = data_2000_2['ESTU_IES_COD_DESEADA'].replace('3* 1', 'NaN')\n",
    "data_2000_2['ESTU_IES_COD_DESEADA'] = data_2000_2['ESTU_IES_COD_DESEADA'].replace('3* 3', 'NaN')\n",
    "data_2000_2['ESTU_IES_COD_DESEADA'] = data_2000_2['ESTU_IES_COD_DESEADA'].replace('3*15', 'NaN')\n",
    "data_2000_2['ESTU_IES_COD_DESEADA'] = data_2000_2['ESTU_IES_COD_DESEADA'].replace('3*6', 'NaN')\n",
    "data_2000_2['ESTU_IES_COD_DESEADA'] = data_2000_2['ESTU_IES_COD_DESEADA'].replace('3*7', 'NaN')\n",
    "data_2000_2['ESTU_IES_COD_DESEADA'] = data_2000_2['ESTU_IES_COD_DESEADA'].replace('301', 'NaN')\n",
    "data_2000_2['ESTU_IES_COD_DESEADA'] = data_2000_2['ESTU_IES_COD_DESEADA'].replace('305', 'NaN')\n",
    "data_2000_2['ESTU_IES_COD_DESEADA'] = data_2000_2['ESTU_IES_COD_DESEADA'].replace('31', 'NaN')\n",
    "data_2000_2['ESTU_IES_COD_DESEADA'] = data_2000_2['ESTU_IES_COD_DESEADA'].replace('31 0', 'NaN')\n",
    "data_2000_2['ESTU_IES_COD_DESEADA'] = data_2000_2['ESTU_IES_COD_DESEADA'].replace('31 1', 'NaN')\n",
    "data_2000_2['ESTU_IES_COD_DESEADA'] = data_2000_2['ESTU_IES_COD_DESEADA'].replace('31 3', 'NaN')\n",
    "data_2000_2['ESTU_IES_COD_DESEADA'] = data_2000_2['ESTU_IES_COD_DESEADA'].replace('31 4', 'NaN')\n",
    "data_2000_2['ESTU_IES_COD_DESEADA'] = data_2000_2['ESTU_IES_COD_DESEADA'].replace('31 5', 'NaN')\n",
    "data_2000_2['ESTU_IES_COD_DESEADA'] = data_2000_2['ESTU_IES_COD_DESEADA'].replace('31 6', 'NaN')\n",
    "data_2000_2['ESTU_IES_COD_DESEADA'] = data_2000_2['ESTU_IES_COD_DESEADA'].replace('31 9', 'NaN')\n",
    "data_2000_2['ESTU_IES_COD_DESEADA'] = data_2000_2['ESTU_IES_COD_DESEADA'].replace('31*', 'NaN')\n",
    "data_2000_2['ESTU_IES_COD_DESEADA'] = data_2000_2['ESTU_IES_COD_DESEADA'].replace('31*5', 'NaN')\n",
    "data_2000_2['ESTU_IES_COD_DESEADA'] = data_2000_2['ESTU_IES_COD_DESEADA'].replace('310', 'NaN')\n",
    "data_2000_2['ESTU_IES_COD_DESEADA'] = data_2000_2['ESTU_IES_COD_DESEADA'].replace('311', 'NaN')\n",
    "data_2000_2['ESTU_IES_COD_DESEADA'] = data_2000_2['ESTU_IES_COD_DESEADA'].replace('315', 'NaN')\n",
    "data_2000_2['ESTU_IES_COD_DESEADA'] = data_2000_2['ESTU_IES_COD_DESEADA'].replace('32', 'NaN')\n",
    "data_2000_2['ESTU_IES_COD_DESEADA'] = data_2000_2['ESTU_IES_COD_DESEADA'].replace('32 4', 'NaN')\n",
    "data_2000_2['ESTU_IES_COD_DESEADA'] = data_2000_2['ESTU_IES_COD_DESEADA'].replace('32*', 'NaN')\n",
    "data_2000_2['ESTU_IES_COD_DESEADA'] = data_2000_2['ESTU_IES_COD_DESEADA'].replace('320', 'NaN')\n",
    "data_2000_2['ESTU_IES_COD_DESEADA'] = data_2000_2['ESTU_IES_COD_DESEADA'].replace('320*', 'NaN')\n",
    "data_2000_2['ESTU_IES_COD_DESEADA'] = data_2000_2['ESTU_IES_COD_DESEADA'].replace('33 2', 'NaN')\n",
    "data_2000_2['ESTU_IES_COD_DESEADA'] = data_2000_2['ESTU_IES_COD_DESEADA'].replace('36', 'NaN')\n",
    "data_2000_2['ESTU_IES_COD_DESEADA'] = data_2000_2['ESTU_IES_COD_DESEADA'].replace('37', 'NaN')\n",
    "data_2000_2['ESTU_IES_COD_DESEADA'] = data_2000_2['ESTU_IES_COD_DESEADA'].replace('37 1', 'NaN')\n",
    "data_2000_2['ESTU_IES_COD_DESEADA'] = data_2000_2['ESTU_IES_COD_DESEADA'].replace('37 3', 'NaN')\n",
    "data_2000_2['ESTU_IES_COD_DESEADA'] = data_2000_2['ESTU_IES_COD_DESEADA'].replace('37 7', 'NaN')\n",
    "data_2000_2['ESTU_IES_COD_DESEADA'] = data_2000_2['ESTU_IES_COD_DESEADA'].replace('37*2', 'NaN')\n",
    "data_2000_2['ESTU_IES_COD_DESEADA'] = data_2000_2['ESTU_IES_COD_DESEADA'].replace('370', 'NaN')\n",
    "data_2000_2['ESTU_IES_COD_DESEADA'] = data_2000_2['ESTU_IES_COD_DESEADA'].replace('371', 'NaN')\n",
    "data_2000_2['ESTU_IES_COD_DESEADA'] = data_2000_2['ESTU_IES_COD_DESEADA'].replace('371*', 'NaN')\n",
    "data_2000_2['ESTU_IES_COD_DESEADA'] = data_2000_2['ESTU_IES_COD_DESEADA'].replace('38', 'NaN')\n",
    "data_2000_2['ESTU_IES_COD_DESEADA'] = data_2000_2['ESTU_IES_COD_DESEADA'].replace('38 0', 'NaN')\n",
    "data_2000_2['ESTU_IES_COD_DESEADA'] = data_2000_2['ESTU_IES_COD_DESEADA'].replace('38 1', 'NaN')\n",
    "data_2000_2['ESTU_IES_COD_DESEADA'] = data_2000_2['ESTU_IES_COD_DESEADA'].replace('38 2', 'NaN')\n",
    "data_2000_2['ESTU_IES_COD_DESEADA'] = data_2000_2['ESTU_IES_COD_DESEADA'].replace('38*', 'NaN')\n",
    "data_2000_2['ESTU_IES_COD_DESEADA'] = data_2000_2['ESTU_IES_COD_DESEADA'].replace('380', 'NaN')\n",
    "data_2000_2['ESTU_IES_COD_DESEADA'] = data_2000_2['ESTU_IES_COD_DESEADA'].replace('381', 'NaN')\n",
    "data_2000_2['ESTU_IES_COD_DESEADA'] = data_2000_2['ESTU_IES_COD_DESEADA'].replace('382', 'NaN')\n",
    "data_2000_2['ESTU_IES_COD_DESEADA'] = data_2000_2['ESTU_IES_COD_DESEADA'].replace('383', 'NaN')\n",
    "data_2000_2['ESTU_IES_COD_DESEADA'] = data_2000_2['ESTU_IES_COD_DESEADA'].replace('4', 'NaN')\n",
    "data_2000_2['ESTU_IES_COD_DESEADA'] = data_2000_2['ESTU_IES_COD_DESEADA'].replace('4  0', 'NaN')\n",
    "data_2000_2['ESTU_IES_COD_DESEADA'] = data_2000_2['ESTU_IES_COD_DESEADA'].replace('4  3', 'NaN')\n",
    "data_2000_2['ESTU_IES_COD_DESEADA'] = data_2000_2['ESTU_IES_COD_DESEADA'].replace('4  7', 'NaN')\n",
    "data_2000_2['ESTU_IES_COD_DESEADA'] = data_2000_2['ESTU_IES_COD_DESEADA'].replace('4 0', 'NaN')\n",
    "data_2000_2['ESTU_IES_COD_DESEADA'] = data_2000_2['ESTU_IES_COD_DESEADA'].replace('4 01', 'NaN')\n",
    "data_2000_2['ESTU_IES_COD_DESEADA'] = data_2000_2['ESTU_IES_COD_DESEADA'].replace('4 02', 'NaN')\n",
    "data_2000_2['ESTU_IES_COD_DESEADA'] = data_2000_2['ESTU_IES_COD_DESEADA'].replace('4 04', 'NaN')\n",
    "data_2000_2['ESTU_IES_COD_DESEADA'] = data_2000_2['ESTU_IES_COD_DESEADA'].replace('4 05', 'NaN')\n",
    "data_2000_2['ESTU_IES_COD_DESEADA'] = data_2000_2['ESTU_IES_COD_DESEADA'].replace('4 08', 'NaN')\n",
    "data_2000_2['ESTU_IES_COD_DESEADA'] = data_2000_2['ESTU_IES_COD_DESEADA'].replace('4 09', 'NaN')\n",
    "data_2000_2['ESTU_IES_COD_DESEADA'] = data_2000_2['ESTU_IES_COD_DESEADA'].replace('4 1', 'NaN')\n",
    "data_2000_2['ESTU_IES_COD_DESEADA'] = data_2000_2['ESTU_IES_COD_DESEADA'].replace('4 10', 'NaN')\n",
    "data_2000_2['ESTU_IES_COD_DESEADA'] = data_2000_2['ESTU_IES_COD_DESEADA'].replace('4 11', 'NaN')\n",
    "data_2000_2['ESTU_IES_COD_DESEADA'] = data_2000_2['ESTU_IES_COD_DESEADA'].replace('4 12', 'NaN')\n",
    "data_2000_2['ESTU_IES_COD_DESEADA'] = data_2000_2['ESTU_IES_COD_DESEADA'].replace('4 13', 'NaN')\n",
    "data_2000_2['ESTU_IES_COD_DESEADA'] = data_2000_2['ESTU_IES_COD_DESEADA'].replace('4 14', 'NaN')\n",
    "data_2000_2['ESTU_IES_COD_DESEADA'] = data_2000_2['ESTU_IES_COD_DESEADA'].replace('4 17', 'NaN')\n",
    "data_2000_2['ESTU_IES_COD_DESEADA'] = data_2000_2['ESTU_IES_COD_DESEADA'].replace('4 21', 'NaN')\n",
    "data_2000_2['ESTU_IES_COD_DESEADA'] = data_2000_2['ESTU_IES_COD_DESEADA'].replace('4 22', 'NaN')\n",
    "data_2000_2['ESTU_IES_COD_DESEADA'] = data_2000_2['ESTU_IES_COD_DESEADA'].replace('4 23', 'NaN')\n",
    "data_2000_2['ESTU_IES_COD_DESEADA'] = data_2000_2['ESTU_IES_COD_DESEADA'].replace('4 3', 'NaN')\n",
    "data_2000_2['ESTU_IES_COD_DESEADA'] = data_2000_2['ESTU_IES_COD_DESEADA'].replace('4 3*', 'NaN')\n",
    "data_2000_2['ESTU_IES_COD_DESEADA'] = data_2000_2['ESTU_IES_COD_DESEADA'].replace('4 32', 'NaN')\n",
    "data_2000_2['ESTU_IES_COD_DESEADA'] = data_2000_2['ESTU_IES_COD_DESEADA'].replace('4 36', 'NaN')\n",
    "data_2000_2['ESTU_IES_COD_DESEADA'] = data_2000_2['ESTU_IES_COD_DESEADA'].replace('4*', 'NaN')\n",
    "data_2000_2['ESTU_IES_COD_DESEADA'] = data_2000_2['ESTU_IES_COD_DESEADA'].replace('4* 1', 'NaN')\n",
    "data_2000_2['ESTU_IES_COD_DESEADA'] = data_2000_2['ESTU_IES_COD_DESEADA'].replace('4* 6', 'NaN')\n",
    "data_2000_2['ESTU_IES_COD_DESEADA'] = data_2000_2['ESTU_IES_COD_DESEADA'].replace('4*1', 'NaN')\n",
    "data_2000_2['ESTU_IES_COD_DESEADA'] = data_2000_2['ESTU_IES_COD_DESEADA'].replace('4*13', 'NaN')\n",
    "data_2000_2['ESTU_IES_COD_DESEADA'] = data_2000_2['ESTU_IES_COD_DESEADA'].replace('4*2', 'NaN')\n",
    "data_2000_2['ESTU_IES_COD_DESEADA'] = data_2000_2['ESTU_IES_COD_DESEADA'].replace('4*4', 'NaN')\n",
    "data_2000_2['ESTU_IES_COD_DESEADA'] = data_2000_2['ESTU_IES_COD_DESEADA'].replace('4*5', 'NaN')\n",
    "data_2000_2['ESTU_IES_COD_DESEADA'] = data_2000_2['ESTU_IES_COD_DESEADA'].replace('41 3', 'NaN')\n",
    "data_2000_2['ESTU_IES_COD_DESEADA'] = data_2000_2['ESTU_IES_COD_DESEADA'].replace('41 6', 'NaN')\n",
    "data_2000_2['ESTU_IES_COD_DESEADA'] = data_2000_2['ESTU_IES_COD_DESEADA'].replace('41 7', 'NaN')\n",
    "data_2000_2['ESTU_IES_COD_DESEADA'] = data_2000_2['ESTU_IES_COD_DESEADA'].replace('41*', 'NaN')\n",
    "data_2000_2['ESTU_IES_COD_DESEADA'] = data_2000_2['ESTU_IES_COD_DESEADA'].replace('410', 'NaN')\n",
    "data_2000_2['ESTU_IES_COD_DESEADA'] = data_2000_2['ESTU_IES_COD_DESEADA'].replace('411', 'NaN')\n",
    "data_2000_2['ESTU_IES_COD_DESEADA'] = data_2000_2['ESTU_IES_COD_DESEADA'].replace('430', 'NaN')\n",
    "data_2000_2['ESTU_IES_COD_DESEADA'] = data_2000_2['ESTU_IES_COD_DESEADA'].replace('47', 'NaN')\n",
    "data_2000_2['ESTU_IES_COD_DESEADA'] = data_2000_2['ESTU_IES_COD_DESEADA'].replace('47 *', 'NaN')\n",
    "data_2000_2['ESTU_IES_COD_DESEADA'] = data_2000_2['ESTU_IES_COD_DESEADA'].replace('47 2', 'NaN')\n",
    "data_2000_2['ESTU_IES_COD_DESEADA'] = data_2000_2['ESTU_IES_COD_DESEADA'].replace('47 4', 'NaN')\n",
    "data_2000_2['ESTU_IES_COD_DESEADA'] = data_2000_2['ESTU_IES_COD_DESEADA'].replace('47*', 'NaN')\n",
    "data_2000_2['ESTU_IES_COD_DESEADA'] = data_2000_2['ESTU_IES_COD_DESEADA'].replace('470', 'NaN')\n",
    "data_2000_2['ESTU_IES_COD_DESEADA'] = data_2000_2['ESTU_IES_COD_DESEADA'].replace('470*', 'NaN')\n",
    "data_2000_2['ESTU_IES_COD_DESEADA'] = data_2000_2['ESTU_IES_COD_DESEADA'].replace('471', 'NaN')\n",
    "data_2000_2['ESTU_IES_COD_DESEADA'] = data_2000_2['ESTU_IES_COD_DESEADA'].replace('472', 'NaN')\n",
    "data_2000_2['ESTU_IES_COD_DESEADA'] = data_2000_2['ESTU_IES_COD_DESEADA'].replace('472*', 'NaN')\n",
    "data_2000_2['ESTU_IES_COD_DESEADA'] = data_2000_2['ESTU_IES_COD_DESEADA'].replace('48', 'NaN')\n",
    "data_2000_2['ESTU_IES_COD_DESEADA'] = data_2000_2['ESTU_IES_COD_DESEADA'].replace('48 *', 'NaN')\n",
    "data_2000_2['ESTU_IES_COD_DESEADA'] = data_2000_2['ESTU_IES_COD_DESEADA'].replace('48 2', 'NaN')\n",
    "data_2000_2['ESTU_IES_COD_DESEADA'] = data_2000_2['ESTU_IES_COD_DESEADA'].replace('48 3', 'NaN')\n",
    "data_2000_2['ESTU_IES_COD_DESEADA'] = data_2000_2['ESTU_IES_COD_DESEADA'].replace('48 5', 'NaN')\n",
    "data_2000_2['ESTU_IES_COD_DESEADA'] = data_2000_2['ESTU_IES_COD_DESEADA'].replace('48 7', 'NaN')\n",
    "data_2000_2['ESTU_IES_COD_DESEADA'] = data_2000_2['ESTU_IES_COD_DESEADA'].replace('48 8', 'NaN')\n",
    "data_2000_2['ESTU_IES_COD_DESEADA'] = data_2000_2['ESTU_IES_COD_DESEADA'].replace('48 9', 'NaN')\n",
    "data_2000_2['ESTU_IES_COD_DESEADA'] = data_2000_2['ESTU_IES_COD_DESEADA'].replace('48*', 'NaN')\n",
    "data_2000_2['ESTU_IES_COD_DESEADA'] = data_2000_2['ESTU_IES_COD_DESEADA'].replace('48*8', 'NaN')\n",
    "data_2000_2['ESTU_IES_COD_DESEADA'] = data_2000_2['ESTU_IES_COD_DESEADA'].replace('480', 'NaN')\n",
    "data_2000_2['ESTU_IES_COD_DESEADA'] = data_2000_2['ESTU_IES_COD_DESEADA'].replace('481', 'NaN')\n",
    "data_2000_2['ESTU_IES_COD_DESEADA'] = data_2000_2['ESTU_IES_COD_DESEADA'].replace('482', 'NaN')\n",
    "data_2000_2['ESTU_IES_COD_DESEADA'] = data_2000_2['ESTU_IES_COD_DESEADA'].replace('483', 'NaN')\n",
    "data_2000_2['ESTU_IES_COD_DESEADA'] = data_2000_2['ESTU_IES_COD_DESEADA'].replace('483*', 'NaN')\n",
    "data_2000_2['ESTU_IES_COD_DESEADA'] = data_2000_2['ESTU_IES_COD_DESEADA'].replace('5', 'NaN')\n",
    "data_2000_2['ESTU_IES_COD_DESEADA'] = data_2000_2['ESTU_IES_COD_DESEADA'].replace('5*0', 'NaN')\n",
    "data_2000_2['ESTU_IES_COD_DESEADA'] = data_2000_2['ESTU_IES_COD_DESEADA'].replace('518', 'NaN')\n",
    "data_2000_2['ESTU_IES_COD_DESEADA'] = data_2000_2['ESTU_IES_COD_DESEADA'].replace('518*', 'NaN')\n",
    "data_2000_2['ESTU_IES_COD_DESEADA'] = data_2000_2['ESTU_IES_COD_DESEADA'].replace('520', 'NaN')\n",
    "data_2000_2['ESTU_IES_COD_DESEADA'] = data_2000_2['ESTU_IES_COD_DESEADA'].replace('6', 'NaN')\n",
    "data_2000_2['ESTU_IES_COD_DESEADA'] = data_2000_2['ESTU_IES_COD_DESEADA'].replace('6  4', 'NaN')\n",
    "data_2000_2['ESTU_IES_COD_DESEADA'] = data_2000_2['ESTU_IES_COD_DESEADA'].replace('6 97', 'NaN')\n",
    "data_2000_2['ESTU_IES_COD_DESEADA'] = data_2000_2['ESTU_IES_COD_DESEADA'].replace('60', 'NaN')\n",
    "data_2000_2['ESTU_IES_COD_DESEADA'] = data_2000_2['ESTU_IES_COD_DESEADA'].replace('653', 'NaN')\n",
    "data_2000_2['ESTU_IES_COD_DESEADA'] = data_2000_2['ESTU_IES_COD_DESEADA'].replace('678', 'NaN')\n",
    "data_2000_2['ESTU_IES_COD_DESEADA'] = data_2000_2['ESTU_IES_COD_DESEADA'].replace('7', 'NaN')\n",
    "data_2000_2['ESTU_IES_COD_DESEADA'] = data_2000_2['ESTU_IES_COD_DESEADA'].replace('7 1', 'NaN')\n",
    "data_2000_2['ESTU_IES_COD_DESEADA'] = data_2000_2['ESTU_IES_COD_DESEADA'].replace('7 2', 'NaN')\n",
    "data_2000_2['ESTU_IES_COD_DESEADA'] = data_2000_2['ESTU_IES_COD_DESEADA'].replace('7 3', 'NaN')\n",
    "data_2000_2['ESTU_IES_COD_DESEADA'] = data_2000_2['ESTU_IES_COD_DESEADA'].replace('7 4', 'NaN')\n",
    "data_2000_2['ESTU_IES_COD_DESEADA'] = data_2000_2['ESTU_IES_COD_DESEADA'].replace('7 5', 'NaN')\n",
    "data_2000_2['ESTU_IES_COD_DESEADA'] = data_2000_2['ESTU_IES_COD_DESEADA'].replace('7 7', 'NaN')\n",
    "data_2000_2['ESTU_IES_COD_DESEADA'] = data_2000_2['ESTU_IES_COD_DESEADA'].replace('7 9', 'NaN')\n",
    "data_2000_2['ESTU_IES_COD_DESEADA'] = data_2000_2['ESTU_IES_COD_DESEADA'].replace('7*4', 'NaN')\n",
    "data_2000_2['ESTU_IES_COD_DESEADA'] = data_2000_2['ESTU_IES_COD_DESEADA'].replace('7*7', 'NaN')\n",
    "data_2000_2['ESTU_IES_COD_DESEADA'] = data_2000_2['ESTU_IES_COD_DESEADA'].replace('70', 'NaN')\n",
    "data_2000_2['ESTU_IES_COD_DESEADA'] = data_2000_2['ESTU_IES_COD_DESEADA'].replace('701', 'NaN')\n",
    "data_2000_2['ESTU_IES_COD_DESEADA'] = data_2000_2['ESTU_IES_COD_DESEADA'].replace('702', 'NaN')\n",
    "data_2000_2['ESTU_IES_COD_DESEADA'] = data_2000_2['ESTU_IES_COD_DESEADA'].replace('703', 'NaN')\n",
    "data_2000_2['ESTU_IES_COD_DESEADA'] = data_2000_2['ESTU_IES_COD_DESEADA'].replace('704', 'NaN')\n",
    "data_2000_2['ESTU_IES_COD_DESEADA'] = data_2000_2['ESTU_IES_COD_DESEADA'].replace('705', 'NaN')\n",
    "data_2000_2['ESTU_IES_COD_DESEADA'] = data_2000_2['ESTU_IES_COD_DESEADA'].replace('706', 'NaN')\n",
    "data_2000_2['ESTU_IES_COD_DESEADA'] = data_2000_2['ESTU_IES_COD_DESEADA'].replace('707', 'NaN')\n",
    "data_2000_2['ESTU_IES_COD_DESEADA'] = data_2000_2['ESTU_IES_COD_DESEADA'].replace('708', 'NaN')\n",
    "data_2000_2['ESTU_IES_COD_DESEADA'] = data_2000_2['ESTU_IES_COD_DESEADA'].replace('709', 'NaN')\n",
    "data_2000_2['ESTU_IES_COD_DESEADA'] = data_2000_2['ESTU_IES_COD_DESEADA'].replace('710', 'NaN')\n",
    "data_2000_2['ESTU_IES_COD_DESEADA'] = data_2000_2['ESTU_IES_COD_DESEADA'].replace('711', 'NaN')\n",
    "data_2000_2['ESTU_IES_COD_DESEADA'] = data_2000_2['ESTU_IES_COD_DESEADA'].replace('712', 'NaN')\n",
    "data_2000_2['ESTU_IES_COD_DESEADA'] = data_2000_2['ESTU_IES_COD_DESEADA'].replace('713', 'NaN')\n",
    "data_2000_2['ESTU_IES_COD_DESEADA'] = data_2000_2['ESTU_IES_COD_DESEADA'].replace('716', 'NaN')\n",
    "data_2000_2['ESTU_IES_COD_DESEADA'] = data_2000_2['ESTU_IES_COD_DESEADA'].replace('718', 'NaN')\n",
    "data_2000_2['ESTU_IES_COD_DESEADA'] = data_2000_2['ESTU_IES_COD_DESEADA'].replace('72', 'NaN')\n",
    "data_2000_2['ESTU_IES_COD_DESEADA'] = data_2000_2['ESTU_IES_COD_DESEADA'].replace('72*', 'NaN')\n",
    "data_2000_2['ESTU_IES_COD_DESEADA'] = data_2000_2['ESTU_IES_COD_DESEADA'].replace('720', 'NaN')\n",
    "data_2000_2['ESTU_IES_COD_DESEADA'] = data_2000_2['ESTU_IES_COD_DESEADA'].replace('723', 'NaN')\n",
    "data_2000_2['ESTU_IES_COD_DESEADA'] = data_2000_2['ESTU_IES_COD_DESEADA'].replace('724', 'NaN')\n",
    "data_2000_2['ESTU_IES_COD_DESEADA'] = data_2000_2['ESTU_IES_COD_DESEADA'].replace('727', 'NaN')\n",
    "data_2000_2['ESTU_IES_COD_DESEADA'] = data_2000_2['ESTU_IES_COD_DESEADA'].replace('728', 'NaN')\n",
    "data_2000_2['ESTU_IES_COD_DESEADA'] = data_2000_2['ESTU_IES_COD_DESEADA'].replace('73', 'NaN')\n",
    "data_2000_2['ESTU_IES_COD_DESEADA'] = data_2000_2['ESTU_IES_COD_DESEADA'].replace('759', 'NaN')\n",
    "data_2000_2['ESTU_IES_COD_DESEADA'] = data_2000_2['ESTU_IES_COD_DESEADA'].replace('8', 'NaN')\n",
    "data_2000_2['ESTU_IES_COD_DESEADA'] = data_2000_2['ESTU_IES_COD_DESEADA'].replace('8 0', 'NaN')\n",
    "data_2000_2['ESTU_IES_COD_DESEADA'] = data_2000_2['ESTU_IES_COD_DESEADA'].replace('8 5', 'NaN')\n",
    "data_2000_2['ESTU_IES_COD_DESEADA'] = data_2000_2['ESTU_IES_COD_DESEADA'].replace('8 6', 'NaN')\n",
    "data_2000_2['ESTU_IES_COD_DESEADA'] = data_2000_2['ESTU_IES_COD_DESEADA'].replace('8 8', 'NaN')\n",
    "data_2000_2['ESTU_IES_COD_DESEADA'] = data_2000_2['ESTU_IES_COD_DESEADA'].replace('8*', 'NaN')\n",
    "data_2000_2['ESTU_IES_COD_DESEADA'] = data_2000_2['ESTU_IES_COD_DESEADA'].replace('80', 'NaN')\n",
    "data_2000_2['ESTU_IES_COD_DESEADA'] = data_2000_2['ESTU_IES_COD_DESEADA'].replace('801', 'NaN')\n",
    "data_2000_2['ESTU_IES_COD_DESEADA'] = data_2000_2['ESTU_IES_COD_DESEADA'].replace('802', 'NaN')\n",
    "data_2000_2['ESTU_IES_COD_DESEADA'] = data_2000_2['ESTU_IES_COD_DESEADA'].replace('804', 'NaN')\n",
    "data_2000_2['ESTU_IES_COD_DESEADA'] = data_2000_2['ESTU_IES_COD_DESEADA'].replace('805', 'NaN')\n",
    "data_2000_2['ESTU_IES_COD_DESEADA'] = data_2000_2['ESTU_IES_COD_DESEADA'].replace('806', 'NaN')\n",
    "data_2000_2['ESTU_IES_COD_DESEADA'] = data_2000_2['ESTU_IES_COD_DESEADA'].replace('807', 'NaN')\n",
    "data_2000_2['ESTU_IES_COD_DESEADA'] = data_2000_2['ESTU_IES_COD_DESEADA'].replace('808', 'NaN')\n",
    "data_2000_2['ESTU_IES_COD_DESEADA'] = data_2000_2['ESTU_IES_COD_DESEADA'].replace('809', 'NaN')\n",
    "data_2000_2['ESTU_IES_COD_DESEADA'] = data_2000_2['ESTU_IES_COD_DESEADA'].replace('81', 'NaN')\n",
    "data_2000_2['ESTU_IES_COD_DESEADA'] = data_2000_2['ESTU_IES_COD_DESEADA'].replace('810', 'NaN')\n",
    "data_2000_2['ESTU_IES_COD_DESEADA'] = data_2000_2['ESTU_IES_COD_DESEADA'].replace('811', 'NaN')\n",
    "data_2000_2['ESTU_IES_COD_DESEADA'] = data_2000_2['ESTU_IES_COD_DESEADA'].replace('812', 'NaN')\n",
    "data_2000_2['ESTU_IES_COD_DESEADA'] = data_2000_2['ESTU_IES_COD_DESEADA'].replace('813', 'NaN')\n",
    "data_2000_2['ESTU_IES_COD_DESEADA'] = data_2000_2['ESTU_IES_COD_DESEADA'].replace('816', 'NaN')\n",
    "data_2000_2['ESTU_IES_COD_DESEADA'] = data_2000_2['ESTU_IES_COD_DESEADA'].replace('817', 'NaN')\n",
    "data_2000_2['ESTU_IES_COD_DESEADA'] = data_2000_2['ESTU_IES_COD_DESEADA'].replace('818', 'NaN')\n",
    "data_2000_2['ESTU_IES_COD_DESEADA'] = data_2000_2['ESTU_IES_COD_DESEADA'].replace('819', 'NaN')\n",
    "data_2000_2['ESTU_IES_COD_DESEADA'] = data_2000_2['ESTU_IES_COD_DESEADA'].replace('82', 'NaN')\n",
    "data_2000_2['ESTU_IES_COD_DESEADA'] = data_2000_2['ESTU_IES_COD_DESEADA'].replace('820', 'NaN')\n",
    "data_2000_2['ESTU_IES_COD_DESEADA'] = data_2000_2['ESTU_IES_COD_DESEADA'].replace('821', 'NaN')\n",
    "data_2000_2['ESTU_IES_COD_DESEADA'] = data_2000_2['ESTU_IES_COD_DESEADA'].replace('822', 'NaN')\n",
    "data_2000_2['ESTU_IES_COD_DESEADA'] = data_2000_2['ESTU_IES_COD_DESEADA'].replace('823', 'NaN')\n",
    "data_2000_2['ESTU_IES_COD_DESEADA'] = data_2000_2['ESTU_IES_COD_DESEADA'].replace('824', 'NaN')\n",
    "data_2000_2['ESTU_IES_COD_DESEADA'] = data_2000_2['ESTU_IES_COD_DESEADA'].replace('825', 'NaN')\n",
    "data_2000_2['ESTU_IES_COD_DESEADA'] = data_2000_2['ESTU_IES_COD_DESEADA'].replace('826', 'NaN')\n",
    "data_2000_2['ESTU_IES_COD_DESEADA'] = data_2000_2['ESTU_IES_COD_DESEADA'].replace('827', 'NaN')\n",
    "data_2000_2['ESTU_IES_COD_DESEADA'] = data_2000_2['ESTU_IES_COD_DESEADA'].replace('828', 'NaN')\n",
    "data_2000_2['ESTU_IES_COD_DESEADA'] = data_2000_2['ESTU_IES_COD_DESEADA'].replace('83', 'NaN')\n",
    "data_2000_2['ESTU_IES_COD_DESEADA'] = data_2000_2['ESTU_IES_COD_DESEADA'].replace('832', 'NaN')\n",
    "data_2000_2['ESTU_IES_COD_DESEADA'] = data_2000_2['ESTU_IES_COD_DESEADA'].replace('834', 'NaN')\n",
    "data_2000_2['ESTU_IES_COD_DESEADA'] = data_2000_2['ESTU_IES_COD_DESEADA'].replace('837', 'NaN')\n",
    "data_2000_2['ESTU_IES_COD_DESEADA'] = data_2000_2['ESTU_IES_COD_DESEADA'].replace('843', 'NaN')\n",
    "data_2000_2['ESTU_IES_COD_DESEADA'] = data_2000_2['ESTU_IES_COD_DESEADA'].replace('86', 'NaN')\n",
    "data_2000_2['ESTU_IES_COD_DESEADA'] = data_2000_2['ESTU_IES_COD_DESEADA'].replace('9', 'NaN')\n",
    "data_2000_2['ESTU_IES_COD_DESEADA'] = data_2000_2['ESTU_IES_COD_DESEADA'].replace('9  9', 'NaN')\n",
    "data_2000_2['ESTU_IES_COD_DESEADA'] = data_2000_2['ESTU_IES_COD_DESEADA'].replace('9 9', 'NaN')\n",
    "data_2000_2['ESTU_IES_COD_DESEADA'] = data_2000_2['ESTU_IES_COD_DESEADA'].replace('9 99', 'NaN')\n",
    "data_2000_2['ESTU_IES_COD_DESEADA'] = data_2000_2['ESTU_IES_COD_DESEADA'].replace('9***', 'NaN')\n",
    "data_2000_2['ESTU_IES_COD_DESEADA'] = data_2000_2['ESTU_IES_COD_DESEADA'].replace('952', 'NaN')\n",
    "data_2000_2['ESTU_IES_COD_DESEADA'] = data_2000_2['ESTU_IES_COD_DESEADA'].replace('99', 'NaN')\n",
    "data_2000_2['ESTU_IES_COD_DESEADA'] = data_2000_2['ESTU_IES_COD_DESEADA'].replace('99 9', 'NaN')\n",
    "data_2000_2['ESTU_IES_COD_DESEADA'] = data_2000_2['ESTU_IES_COD_DESEADA'].replace('999', 'NaN')"
   ]
  },
  {
   "cell_type": "code",
   "execution_count": 57,
   "metadata": {
    "collapsed": false
   },
   "outputs": [
    {
     "name": "stdout",
     "output_type": "stream",
     "text": [
      "Index(['*', '1', '2', '3', '4', '5', '6', '7', '8'], dtype='object')\n",
      "*      152\n",
      "1     6194\n",
      "2    84885\n",
      "3    43572\n",
      "4    35013\n",
      "5    40274\n",
      "6    30993\n",
      "7    21551\n",
      "8    39611\n",
      "Name: ESTU_RAZONINSTITUTO, dtype: int64\n"
     ]
    }
   ],
   "source": [
    "\"\"\"\"\"\"\n",
    "print(data_2000_2['ESTU_RAZONINSTITUTO'].value_counts().sort_index().index)\n",
    "print(data_2000_2['ESTU_RAZONINSTITUTO'].value_counts().sort_index())"
   ]
  },
  {
   "cell_type": "code",
   "execution_count": null,
   "metadata": {
    "collapsed": true
   },
   "outputs": [],
   "source": [
    "\"\"\"Maybe Delete or replace for anything else\"\"\"\n",
    "#data_2000_2['ESTU_RAZONINSTITUTO'] = data_2000_2['ESTU_RAZONINSTITUTO'].replace('*', )"
   ]
  },
  {
   "cell_type": "code",
   "execution_count": 58,
   "metadata": {
    "collapsed": false,
    "scrolled": true
   },
   "outputs": [
    {
     "name": "stdout",
     "output_type": "stream",
     "text": [
      "Index(['*', '*   *', '*  2*', '* *', '* * 1', '* * 3', '* * 4', '* *0', '* *1',\n",
      "       '* *2',\n",
      "       ...\n",
      "       '99113', '99155', '999', '999 9', '99909', '9999', '99990', '99991',\n",
      "       '99998', '99999'],\n",
      "      dtype='object', length=4622)\n",
      "*            7\n",
      "*   *        1\n",
      "*  2*        1\n",
      "* *          7\n",
      "* * 1        4\n",
      "* * 3        1\n",
      "* * 4        1\n",
      "* *0         2\n",
      "* *1         3\n",
      "* *2         1\n",
      "* *3         1\n",
      "* *4         1\n",
      "* *9         1\n",
      "* 07         1\n",
      "* 1 *        2\n",
      "* 1 2        1\n",
      "* 1*         1\n",
      "* 11         1\n",
      "* 110        1\n",
      "* 117        1\n",
      "* 118        1\n",
      "* 123        1\n",
      "* 161        1\n",
      "* 2*         1\n",
      "* 33         1\n",
      "* 4 *        1\n",
      "* 4*         2\n",
      "* 707        1\n",
      "* 8          1\n",
      "* 8 6        1\n",
      "         ...  \n",
      "98110        2\n",
      "98112        1\n",
      "98113        3\n",
      "98114        2\n",
      "98119        5\n",
      "98128        1\n",
      "98142        1\n",
      "98145        1\n",
      "98155        1\n",
      "98186        1\n",
      "98197        1\n",
      "98201        2\n",
      "98210        1\n",
      "99           6\n",
      "99  9        1\n",
      "99 9         5\n",
      "99 99        8\n",
      "99091        1\n",
      "99099        1\n",
      "99108        1\n",
      "99113        1\n",
      "99155        1\n",
      "999         60\n",
      "999 9        7\n",
      "99909        2\n",
      "9999       330\n",
      "99990        1\n",
      "99991        1\n",
      "99998        1\n",
      "99999    22587\n",
      "Name: ESTU_CARRDESEADA_COD, dtype: int64\n"
     ]
    }
   ],
   "source": [
    "\"\"\"Into this column i found a LOT of incoherences.\"\"\"\n",
    "print(data_2000_2['ESTU_CARRDESEADA_COD'].value_counts().sort_index().index)\n",
    "print(data_2000_2['ESTU_CARRDESEADA_COD'].value_counts().sort_index())"
   ]
  },
  {
   "cell_type": "code",
   "execution_count": 79,
   "metadata": {
    "collapsed": false
   },
   "outputs": [],
   "source": [
    "\"\"\"Here i'm replacing the values with anomalies for NaN, and i will let the rows that has got any number because the \n",
    "codes of the programs are so diverse. And then i will put NaN where the values has some space\"\"\"\n",
    "for i in data_2000_2['ESTU_CARRDESEADA_COD'].value_counts().sort_index().index:\n",
    "    if '*' in i:\n",
    "        data_2000_2['ESTU_CARRDESEADA_COD'] = data_2000_2['ESTU_CARRDESEADA_COD'].replace(i, 'NaN')\n",
    "    elif(' ' in i):\n",
    "        data_2000_2['ESTU_CARRDESEADA_COD'] = data_2000_2['ESTU_CARRDESEADA_COD'].replace(i, 'NaN')"
   ]
  },
  {
   "cell_type": "code",
   "execution_count": 82,
   "metadata": {
    "collapsed": false
   },
   "outputs": [
    {
     "name": "stdout",
     "output_type": "stream",
     "text": [
      "Index(['*', '1', '2', '3', '4', '5', '6'], dtype='object')\n",
      "*       94\n",
      "1    89716\n",
      "2    77343\n",
      "3    84559\n",
      "4    24041\n",
      "5    26284\n",
      "6    10038\n",
      "Name: ESTU_CARRDESEADA_RAZON, dtype: int64\n"
     ]
    }
   ],
   "source": [
    "\"\"\"In this column i found just an incoherence with the * values\"\"\"\n",
    "print(data_2000_2['ESTU_CARRDESEADA_RAZON'].value_counts().sort_index().index)\n",
    "print(data_2000_2['ESTU_CARRDESEADA_RAZON'].value_counts().sort_index())"
   ]
  },
  {
   "cell_type": "code",
   "execution_count": 83,
   "metadata": {
    "collapsed": true
   },
   "outputs": [],
   "source": [
    "data_2000_2['ESTU_CARRDESEADA_RAZON'] = data_2000_2['ESTU_CARRDESEADA_RAZON'].replace('*', 'NaN')"
   ]
  },
  {
   "cell_type": "code",
   "execution_count": 85,
   "metadata": {
    "collapsed": false
   },
   "outputs": [
    {
     "name": "stdout",
     "output_type": "stream",
     "text": [
      "Index(['*', '+', '1', '2', '3', '4', '5', '6', '7', '8', '9'], dtype='object')\n",
      "*      787\n",
      "+    15185\n",
      "1      778\n",
      "2     9311\n",
      "3    31877\n",
      "4    70938\n",
      "5    83024\n",
      "6    55930\n",
      "7    31570\n",
      "8    17664\n",
      "9    10304\n",
      "Name: FAMI_PERSONAS_HOGAR, dtype: int64\n"
     ]
    }
   ],
   "source": [
    "\"\"\"Incoherences with the * and the + values. I decide to let the + values as +9 human being in home,\n",
    "and the * as NaN\"\"\"\n",
    "print(data_2000_2['FAMI_PERSONAS_HOGAR'].value_counts().sort_index().index)\n",
    "print(data_2000_2['FAMI_PERSONAS_HOGAR'].value_counts().sort_index())"
   ]
  },
  {
   "cell_type": "code",
   "execution_count": 86,
   "metadata": {
    "collapsed": true
   },
   "outputs": [],
   "source": [
    "data_2000_2['FAMI_PERSONAS_HOGAR'] = data_2000_2['FAMI_PERSONAS_HOGAR'].replace('*', 'NaN')\n",
    "data_2000_2['FAMI_PERSONAS_HOGAR'] = data_2000_2['FAMI_PERSONAS_HOGAR'].replace('+', '+9')"
   ]
  },
  {
   "cell_type": "code",
   "execution_count": 89,
   "metadata": {
    "collapsed": false,
    "scrolled": true
   },
   "outputs": [
    {
     "name": "stdout",
     "output_type": "stream",
     "text": [
      "Index(['*', 'N', 'S'], dtype='object')\n",
      "*        30\n",
      "N     89693\n",
      "S    233779\n",
      "Name: FAMI_VIVIENDA_PROPIA, dtype: int64\n"
     ]
    }
   ],
   "source": [
    "\"\"\"Has got some * values, this values will be replaced for NaN\"\"\"\n",
    "print(data_2000_2['FAMI_VIVIENDA_PROPIA'].value_counts().sort_index().index)\n",
    "print(data_2000_2['FAMI_VIVIENDA_PROPIA'].value_counts().sort_index())"
   ]
  },
  {
   "cell_type": "code",
   "execution_count": 90,
   "metadata": {
    "collapsed": true
   },
   "outputs": [],
   "source": [
    "data_2000_2['FAMI_VIVIENDA_PROPIA'] = data_2000_2['FAMI_VIVIENDA_PROPIA'].replace('*', 'NaN')"
   ]
  },
  {
   "cell_type": "code",
   "execution_count": 92,
   "metadata": {
    "collapsed": false
   },
   "outputs": [
    {
     "name": "stdout",
     "output_type": "stream",
     "text": [
      "Index(['*', '1', '2', 'N', 'S'], dtype='object')\n",
      "*        15\n",
      "1        12\n",
      "2        33\n",
      "N    157191\n",
      "S     54281\n",
      "Name: FAMI_DEUDA_VIVIENDA, dtype: int64\n"
     ]
    }
   ],
   "source": [
    "\"\"\"This column must be like a boolean, with just two values (S/N) but it has four different values, so i decided to\n",
    "replace the * values for NaN, and replace the 1 for S, and the 2 for N because of the amounts\"\"\"\n",
    "print(data_2000_2['FAMI_DEUDA_VIVIENDA'].value_counts().sort_index().index)\n",
    "print(data_2000_2['FAMI_DEUDA_VIVIENDA'].value_counts().sort_index())"
   ]
  },
  {
   "cell_type": "code",
   "execution_count": 93,
   "metadata": {
    "collapsed": true
   },
   "outputs": [],
   "source": [
    "data_2000_2['FAMI_DEUDA_VIVIENDA'] = data_2000_2['FAMI_DEUDA_VIVIENDA'].replace('*', 'NaN')\n",
    "data_2000_2['FAMI_DEUDA_VIVIENDA'] = data_2000_2['FAMI_DEUDA_VIVIENDA'].replace('1', 'S')\n",
    "data_2000_2['FAMI_DEUDA_VIVIENDA'] = data_2000_2['FAMI_DEUDA_VIVIENDA'].replace('2', 'N')"
   ]
  },
  {
   "cell_type": "code",
   "execution_count": 96,
   "metadata": {
    "collapsed": false
   },
   "outputs": [
    {
     "name": "stdout",
     "output_type": "stream",
     "text": [
      "Index(['*', '+', '0', '1', '2', '3', '4', '5', '6', '7', '8', '9'], dtype='object')\n",
      "*       587\n",
      "+       270\n",
      "0      1582\n",
      "1    173779\n",
      "2    117988\n",
      "3     21449\n",
      "4      6150\n",
      "5      1642\n",
      "6       571\n",
      "7       220\n",
      "8       109\n",
      "9        74\n",
      "Name: FAMI_APORTANTES, dtype: int64\n"
     ]
    }
   ],
   "source": [
    "\"\"\"I really don't know what means the 0...\"\"\"\n",
    "print(data_2000_2['FAMI_APORTANTES'].value_counts().sort_index().index)\n",
    "print(data_2000_2['FAMI_APORTANTES'].value_counts().sort_index())"
   ]
  },
  {
   "cell_type": "code",
   "execution_count": null,
   "metadata": {
    "collapsed": true
   },
   "outputs": [],
   "source": [
    "\"\"\"\"\"\"\n",
    "print(data_2000_2[''].value_counts().sort_index().index)\n",
    "print(data_2000_2[''].value_counts().sort_index())"
   ]
  },
  {
   "cell_type": "code",
   "execution_count": 49,
   "metadata": {
    "collapsed": false
   },
   "outputs": [
    {
     "data": {
      "text/plain": [
       "Index(['COLE_COD_ICFES', 'IND_ANNO_TERMINO_BACHILLERATO', 'COLE_JORNADA',\n",
       "       'COLE_VALOR_PENSION', 'ESTU_GENERO', 'ESTU_NACIMIENTO_DIA',\n",
       "       'ESTU_NACIMIENTO_MES', 'ESTU_NACIMIENTO_ANNO',\n",
       "       'ESTU_DEPTO_PRESENTACION', 'ESTU_MCPIO_PRESENTACION', 'ESTU_ETNIA',\n",
       "       'ESTU_LIMITA_INVIDENTE', 'ESTU_LIMITA_SORDONOINTERPRETE',\n",
       "       'ESTU_LIMITA_MOTRIZ', 'PUNT_BIOLOGIA', 'PUNT_MATEMATICAS',\n",
       "       'PUNT_FILOSOFIA', 'PUNT_FISICA', 'PUNT_HISTORIA', 'PUNT_QUIMICA',\n",
       "       'PUNT_LENGUAJE', 'PUNT_GEOGRAFIA', 'COD_INTERDISCIPLINAR',\n",
       "       'PUNT_INTERDISCIPLINAR', 'COD_IDIOMA', 'PUNT_IDIOMA',\n",
       "       'ESTU_IES_COD_DESEADA', 'ESTU_RAZONINSTITUTO', 'ESTU_CARRDESEADA_COD',\n",
       "       'ESTU_CARRDESEADA_RAZON', 'FAMI_PERSONAS_HOGAR', 'FAMI_VIVIENDA_PROPIA',\n",
       "       'FAMI_DEUDA_VIVIENDA', 'FAMI_APORTANTES',\n",
       "       'FAMI_INGRESO_FMILIAR_MENSUAL', 'FAMI_LEE_ESCRIBE_PADRE',\n",
       "       'FAMI_LEE_ESCRIBE_MADRE', 'FAMI_EDUCA_PADRE', 'FAMI_EDUCA_MADRE',\n",
       "       'FAMI_OCUPA_PADRE', 'FAMI_OCUPA_MADRE', 'FAMI_NUM_HERMANOS',\n",
       "       'FAMI_NUM_HERMANOS_EDUSUPERIOR', 'FAMI_POSICION_HERMANOS',\n",
       "       'FAMI_SOST_PERSONAL', 'ESTU_TRABAJA', 'ESTU_ACT_PROX_ANNO',\n",
       "       'COLE_CALENDARIO', 'COLE_BILINGUE', 'COLE_CARACTER',\n",
       "       'COLE_DEPTO_UBICACION', 'COLE_MCPIO_UBICACION', 'ESTU_RESIDE_DEPTO',\n",
       "       'ESTU_RESIDE_MCPIO'],\n",
       "      dtype='object')"
      ]
     },
     "execution_count": 49,
     "metadata": {},
     "output_type": "execute_result"
    }
   ],
   "source": [
    "data_2000_2.columns"
   ]
  },
  {
   "cell_type": "code",
   "execution_count": null,
   "metadata": {
    "collapsed": true
   },
   "outputs": [],
   "source": []
  }
 ],
 "metadata": {
  "kernelspec": {
   "display_name": "Python 3 + Anaconda",
   "language": "python",
   "name": "pyconda3"
  },
  "language_info": {
   "codemirror_mode": {
    "name": "ipython",
    "version": 3
   },
   "file_extension": ".py",
   "mimetype": "text/x-python",
   "name": "python",
   "nbconvert_exporter": "python",
   "pygments_lexer": "ipython3",
   "version": "3.5.1"
  }
 },
 "nbformat": 4,
 "nbformat_minor": 0
}
