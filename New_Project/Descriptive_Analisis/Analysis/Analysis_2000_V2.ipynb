{
 "cells": [
  {
   "cell_type": "markdown",
   "metadata": {},
   "source": [
    "# Experimentation\n",
    "* Data 2000"
   ]
  },
  {
   "cell_type": "code",
   "execution_count": 33,
   "metadata": {
    "collapsed": true
   },
   "outputs": [],
   "source": [
    "import pandas as pd\n",
    "import numpy as np\n",
    "from time import time\n",
    "import matplotlib.pyplot as plt\n",
    "from sklearn.linear_model import LinearRegression\n",
    "from sklearn.preprocessing import PolynomialFeatures\n",
    "from sklearn.cross_validation import cross_val_score\n",
    "from sklearn.cross_validation import KFold\n",
    "%matplotlib inline\n",
    "%run -i ../../tools/label_encoder.py"
   ]
  },
  {
   "cell_type": "markdown",
   "metadata": {},
   "source": [
    "## Estadisticos y Errores\n",
    "## Metrics\n",
    "\n",
    "The metric that will be taken into acount in this project mean of the absolute value of the differences, also known as MEAN ABSOLUTE ERROR.  \n",
    "\n",
    "The form of the metric is the following:\n",
    "\n",
    "Metric = $\\frac{\\sum|Y.Real-Y.Prediction|}{n}$  \n",
    "\n",
    "Knowing that ***n*** is the shape of the target.\n"
   ]
  },
  {
   "cell_type": "code",
   "execution_count": 103,
   "metadata": {
    "collapsed": true
   },
   "outputs": [],
   "source": [
    "def MAD(Y, YP): #MAE - MEAN ABSOLUTE ERROR FOR ME\n",
    "    m = np.mean(abs(Y-YP))\n",
    "    return m"
   ]
  },
  {
   "cell_type": "code",
   "execution_count": 101,
   "metadata": {
    "collapsed": true
   },
   "outputs": [],
   "source": [
    "def plot_predictions(Model, c, X, Y, kf): #PERFECT FUNCTION - DECIDED IF LET IT GET THE SCORES OR NOT\n",
    "    fig, axes = plt.subplots(2, 3, sharex=False, figsize=(13, 8))\n",
    "    axs = [i for i in axes.flatten()]\n",
    "    j = 0\n",
    "    for n, i in (kf):\n",
    "        New_X = data_2000.filter(items = X_list)\n",
    "        New_Y = data_2000.filter(items = y_list)\n",
    "        ax = axs[j]\n",
    "        Model.fit(X.iloc[n], Y[c].iloc[n])\n",
    "        Y_pred = Model.predict(X.iloc[i])\n",
    "        print('mean_score:', MAD(Y[c].iloc[i], Y_pred))\n",
    "        ax.plot(Y[c].iloc[i], Y_pred)\n",
    "        ax.set_title('Fold: '+str(j))\n",
    "        ax.set_xlabel('Real_Value')\n",
    "        ax.set_ylabel('Prediction')\n",
    "        j += 1\n",
    "        ax.grid()\n",
    "    plt.tight_layout(h_pad=2)"
   ]
  },
  {
   "cell_type": "code",
   "execution_count": null,
   "metadata": {
    "collapsed": true
   },
   "outputs": [],
   "source": [
    "def get_exp_prediction(exp, S_Data, target, folds):\n",
    "    \"\"\"Required the exponent, the sorted data by values of the target, and the column that will be analyzed return the\n",
    "    score of the model, and the plot of the prediction\"\"\"\n",
    "    y_list = ['PUNT_BIOLOGIA', 'PUNT_MATEMATICAS', 'PUNT_FILOSOFIA', 'PUNT_FISICA', 'PUNT_HISTORIA', 'PUNT_QUIMICA', \n",
    "          'PUNT_LENGUAJE', 'PUNT_GEOGRAFIA', 'PUNT_INTERDISCIPLINAR', 'PUNT_IDIOMA']\n",
    "    X_list = S_Data.columns.difference(y_list)\n",
    "    New_X = S_Data.filter(items = X_list)\n",
    "    exped_X = New_X**exp\n",
    "    Y_train = D_sorted.filter(items = y_list)\n",
    "    \n",
    "    k = KFold(exped_X.shape[0], n_folds=folds) #Number of kfolds\n",
    "    Lm = LinearRegression()\n",
    "    scores = cross_val_score(Lm, exped_X, Y_train[target], scoring='neg_mean_absolute_error', cv=k, n_jobs=-1)\n",
    "    \n",
    "    print('The Model with the Data raised to the power of', exp, 'give this scores:')\n",
    "    print(scores)\n",
    "    print('The mean of the scores is:', np.mean(scores))\n",
    "    plot_predictions(Lm, target, exped_X, Y_train, k)"
   ]
  },
  {
   "cell_type": "code",
   "execution_count": null,
   "metadata": {
    "collapsed": true
   },
   "outputs": [],
   "source": [
    "def get_Poly_prediction(deg, D_sorted, c):\n",
    "    \"\"\"Required the degree to the PolynomialFeature object and the sorted data by values of the target,\n",
    "    return the score of the model, statistics and the plots of the prediction\"\"\"\n",
    "    start_time = time()\n",
    "    y_list = ['PUNT_BIOLOGIA', 'PUNT_MATEMATICAS', 'PUNT_FILOSOFIA', 'PUNT_FISICA', 'PUNT_HISTORIA', 'PUNT_QUIMICA', \n",
    "          'PUNT_LENGUAJE', 'PUNT_GEOGRAFIA', 'PUNT_INTERDISCIPLINAR', 'PUNT_IDIOMA']\n",
    "    X_list = D_sorted.columns.difference(y_list)\n",
    "    \n",
    "    New_X = D_sorted.filter(items = X_list)\n",
    "    Y_train = D_sorted.filter(items = y_list)\n",
    "    \n",
    "    Poly = PolynomialFeatures(degree = deg)\n",
    "    Poly_X = Poly.fit_transform(New_X)\n",
    "    \n",
    "    Lm = LinearRegression()\n",
    "    Lm.fit(Poly_X, Y_train[c])\n",
    "    print('The Model with the new \"PolyData\" with degree', deg, 'gives:')\n",
    "    print('Score:', Lm.score(Poly_X, Y_train[c])*100)\n",
    "    LR_Statistics(Poly_X, Y_train[c], Lm.predict(Poly_X))\n",
    "    plot_predictions(Lm, c, Poly_X, Y_train)\n",
    "    del(Poly, Lm)\n",
    "    print('The prediction took:', time()-start_time, 'seconds')"
   ]
  },
  {
   "cell_type": "code",
   "execution_count": 6,
   "metadata": {
    "collapsed": true
   },
   "outputs": [],
   "source": [
    "data_2000 = pd.read_csv('../../DatosFTPICFES/SABER11/SB11-BASES_DE_DATOS/READY/2000_1.csv', delimiter=';')"
   ]
  },
  {
   "cell_type": "code",
   "execution_count": 7,
   "metadata": {
    "collapsed": false
   },
   "outputs": [
    {
     "data": {
      "text/html": [
       "<div>\n",
       "<table border=\"1\" class=\"dataframe\">\n",
       "  <thead>\n",
       "    <tr style=\"text-align: right;\">\n",
       "      <th></th>\n",
       "      <th>COLE_COD_ICFES</th>\n",
       "      <th>IND_ANNO_TERMINO_BACHILLERATO</th>\n",
       "      <th>COLE_JORNADA</th>\n",
       "      <th>COLE_VALOR_PENSION</th>\n",
       "      <th>ESTU_GENERO</th>\n",
       "      <th>ESTU_NACIMIENTO_DIA</th>\n",
       "      <th>ESTU_NACIMIENTO_MES</th>\n",
       "      <th>ESTU_NACIMIENTO_ANNO</th>\n",
       "      <th>ESTU_LIMITA_INVIDENTE</th>\n",
       "      <th>ESTU_LIMITA_SORDONOINTERPRETE</th>\n",
       "      <th>...</th>\n",
       "      <th>FAMI_OCUPA_MADRE</th>\n",
       "      <th>FAMI_NUM_HERMANOS</th>\n",
       "      <th>FAMI_NUM_HERMANOS_EDUSUPERIOR</th>\n",
       "      <th>FAMI_SOST_PERSONAL</th>\n",
       "      <th>ESTU_TRABAJA</th>\n",
       "      <th>ESTU_ACT_PROX_ANNO</th>\n",
       "      <th>COLE_CALENDARIO</th>\n",
       "      <th>COLE_CARACTER</th>\n",
       "      <th>ESTU_RESIDE_DEPTO</th>\n",
       "      <th>ESTU_RESIDE_MCPIO</th>\n",
       "    </tr>\n",
       "  </thead>\n",
       "  <tbody>\n",
       "    <tr>\n",
       "      <th>0</th>\n",
       "      <td>83048</td>\n",
       "      <td>1999</td>\n",
       "      <td>0</td>\n",
       "      <td>3.0</td>\n",
       "      <td>0</td>\n",
       "      <td>19.0</td>\n",
       "      <td>3.0</td>\n",
       "      <td>1981.0</td>\n",
       "      <td>1</td>\n",
       "      <td>0</td>\n",
       "      <td>...</td>\n",
       "      <td>1</td>\n",
       "      <td>9</td>\n",
       "      <td>2</td>\n",
       "      <td>2</td>\n",
       "      <td>0</td>\n",
       "      <td>1</td>\n",
       "      <td>2</td>\n",
       "      <td>0</td>\n",
       "      <td>3</td>\n",
       "      <td>38</td>\n",
       "    </tr>\n",
       "    <tr>\n",
       "      <th>1</th>\n",
       "      <td>3327</td>\n",
       "      <td>2000</td>\n",
       "      <td>0</td>\n",
       "      <td>8.0</td>\n",
       "      <td>0</td>\n",
       "      <td>28.0</td>\n",
       "      <td>4.0</td>\n",
       "      <td>1982.0</td>\n",
       "      <td>1</td>\n",
       "      <td>0</td>\n",
       "      <td>...</td>\n",
       "      <td>10</td>\n",
       "      <td>2</td>\n",
       "      <td>2</td>\n",
       "      <td>2</td>\n",
       "      <td>0</td>\n",
       "      <td>1</td>\n",
       "      <td>1</td>\n",
       "      <td>0</td>\n",
       "      <td>2</td>\n",
       "      <td>33</td>\n",
       "    </tr>\n",
       "    <tr>\n",
       "      <th>2</th>\n",
       "      <td>19364</td>\n",
       "      <td>2000</td>\n",
       "      <td>0</td>\n",
       "      <td>7.0</td>\n",
       "      <td>1</td>\n",
       "      <td>30.0</td>\n",
       "      <td>4.0</td>\n",
       "      <td>1982.0</td>\n",
       "      <td>1</td>\n",
       "      <td>0</td>\n",
       "      <td>...</td>\n",
       "      <td>4</td>\n",
       "      <td>1</td>\n",
       "      <td>1</td>\n",
       "      <td>2</td>\n",
       "      <td>0</td>\n",
       "      <td>2</td>\n",
       "      <td>1</td>\n",
       "      <td>0</td>\n",
       "      <td>3</td>\n",
       "      <td>38</td>\n",
       "    </tr>\n",
       "    <tr>\n",
       "      <th>3</th>\n",
       "      <td>19364</td>\n",
       "      <td>2000</td>\n",
       "      <td>0</td>\n",
       "      <td>7.0</td>\n",
       "      <td>1</td>\n",
       "      <td>6.0</td>\n",
       "      <td>8.0</td>\n",
       "      <td>1982.0</td>\n",
       "      <td>1</td>\n",
       "      <td>0</td>\n",
       "      <td>...</td>\n",
       "      <td>4</td>\n",
       "      <td>0</td>\n",
       "      <td>0</td>\n",
       "      <td>2</td>\n",
       "      <td>0</td>\n",
       "      <td>3</td>\n",
       "      <td>1</td>\n",
       "      <td>0</td>\n",
       "      <td>3</td>\n",
       "      <td>38</td>\n",
       "    </tr>\n",
       "    <tr>\n",
       "      <th>4</th>\n",
       "      <td>24281</td>\n",
       "      <td>2000</td>\n",
       "      <td>0</td>\n",
       "      <td>7.0</td>\n",
       "      <td>0</td>\n",
       "      <td>16.0</td>\n",
       "      <td>4.0</td>\n",
       "      <td>1982.0</td>\n",
       "      <td>1</td>\n",
       "      <td>0</td>\n",
       "      <td>...</td>\n",
       "      <td>4</td>\n",
       "      <td>1</td>\n",
       "      <td>1</td>\n",
       "      <td>2</td>\n",
       "      <td>0</td>\n",
       "      <td>1</td>\n",
       "      <td>1</td>\n",
       "      <td>0</td>\n",
       "      <td>3</td>\n",
       "      <td>38</td>\n",
       "    </tr>\n",
       "  </tbody>\n",
       "</table>\n",
       "<p>5 rows × 47 columns</p>\n",
       "</div>"
      ],
      "text/plain": [
       "   COLE_COD_ICFES  IND_ANNO_TERMINO_BACHILLERATO  COLE_JORNADA  \\\n",
       "0           83048                           1999             0   \n",
       "1            3327                           2000             0   \n",
       "2           19364                           2000             0   \n",
       "3           19364                           2000             0   \n",
       "4           24281                           2000             0   \n",
       "\n",
       "   COLE_VALOR_PENSION  ESTU_GENERO  ESTU_NACIMIENTO_DIA  ESTU_NACIMIENTO_MES  \\\n",
       "0                 3.0            0                 19.0                  3.0   \n",
       "1                 8.0            0                 28.0                  4.0   \n",
       "2                 7.0            1                 30.0                  4.0   \n",
       "3                 7.0            1                  6.0                  8.0   \n",
       "4                 7.0            0                 16.0                  4.0   \n",
       "\n",
       "   ESTU_NACIMIENTO_ANNO  ESTU_LIMITA_INVIDENTE  ESTU_LIMITA_SORDONOINTERPRETE  \\\n",
       "0                1981.0                      1                              0   \n",
       "1                1982.0                      1                              0   \n",
       "2                1982.0                      1                              0   \n",
       "3                1982.0                      1                              0   \n",
       "4                1982.0                      1                              0   \n",
       "\n",
       "         ...          FAMI_OCUPA_MADRE  FAMI_NUM_HERMANOS  \\\n",
       "0        ...                         1                  9   \n",
       "1        ...                        10                  2   \n",
       "2        ...                         4                  1   \n",
       "3        ...                         4                  0   \n",
       "4        ...                         4                  1   \n",
       "\n",
       "   FAMI_NUM_HERMANOS_EDUSUPERIOR  FAMI_SOST_PERSONAL  ESTU_TRABAJA  \\\n",
       "0                              2                   2             0   \n",
       "1                              2                   2             0   \n",
       "2                              1                   2             0   \n",
       "3                              0                   2             0   \n",
       "4                              1                   2             0   \n",
       "\n",
       "   ESTU_ACT_PROX_ANNO  COLE_CALENDARIO  COLE_CARACTER  ESTU_RESIDE_DEPTO  \\\n",
       "0                   1                2              0                  3   \n",
       "1                   1                1              0                  2   \n",
       "2                   2                1              0                  3   \n",
       "3                   3                1              0                  3   \n",
       "4                   1                1              0                  3   \n",
       "\n",
       "   ESTU_RESIDE_MCPIO  \n",
       "0                 38  \n",
       "1                 33  \n",
       "2                 38  \n",
       "3                 38  \n",
       "4                 38  \n",
       "\n",
       "[5 rows x 47 columns]"
      ]
     },
     "execution_count": 7,
     "metadata": {},
     "output_type": "execute_result"
    }
   ],
   "source": [
    "data_2000.head()"
   ]
  },
  {
   "cell_type": "code",
   "execution_count": 41,
   "metadata": {
    "collapsed": true
   },
   "outputs": [],
   "source": [
    "y_list = ['PUNT_BIOLOGIA', 'PUNT_MATEMATICAS', 'PUNT_FILOSOFIA', 'PUNT_FISICA', 'PUNT_HISTORIA', 'PUNT_QUIMICA', \n",
    "          'PUNT_LENGUAJE', 'PUNT_GEOGRAFIA', 'PUNT_INTERDISCIPLINAR', 'PUNT_IDIOMA']\n",
    "X_list = data_2000.columns.difference(y_list)\n",
    "S_data = data_2000.sort_values(by='PUNT_BIOLOGIA')\n",
    "X = S_data.filter(items = X_list)\n",
    "Y = S_data.filter(items = y_list)"
   ]
  },
  {
   "cell_type": "code",
   "execution_count": 42,
   "metadata": {
    "collapsed": false
   },
   "outputs": [
    {
     "name": "stdout",
     "output_type": "stream",
     "text": [
      "Scores: [  9.18714891   3.22572637   2.21509877   3.97783557  10.49610886]\n",
      "Mean of the Scores: 5.82038369647\n"
     ]
    }
   ],
   "source": [
    "k = 5 #Number of kfolds\n",
    "Lm = LinearRegression()\n",
    "scores = cross_val_score(Lm, X, Y['PUNT_BIOLOGIA'], scoring='mean_absolute_error', cv=k, n_jobs=-1)\n",
    "print('Scores:', -scores)\n",
    "print('Mean of the Scores:', np.mean(-scores))"
   ]
  },
  {
   "cell_type": "code",
   "execution_count": 74,
   "metadata": {
    "collapsed": false
   },
   "outputs": [
    {
     "name": "stdout",
     "output_type": "stream",
     "text": [
      "sklearn.cross_validation.KFold(n=77508, n_folds=5, shuffle=False, random_state=None)\n"
     ]
    }
   ],
   "source": [
    "kf = KFold(X.shape[0], n_folds=5)\n",
    "print(kf) "
   ]
  },
  {
   "cell_type": "code",
   "execution_count": 75,
   "metadata": {
    "collapsed": false
   },
   "outputs": [
    {
     "name": "stdout",
     "output_type": "stream",
     "text": [
      "Scores: [  9.18714891   3.22572637   2.21509877   3.97783557  10.49610886]\n",
      "Mean of the Scores: 5.82038369647\n"
     ]
    }
   ],
   "source": [
    "Lr = LinearRegression()\n",
    "scores = cross_val_score(Lr, X, Y['PUNT_BIOLOGIA'], scoring='mean_absolute_error', cv=kf, n_jobs=-1)\n",
    "print('Scores:', -scores)\n",
    "print('Mean of the Scores:', np.mean(-scores))"
   ]
  },
  {
   "cell_type": "markdown",
   "metadata": {},
   "source": [
    "<span style='color: red'>ESTO HACE LO MISMO QUE EL CROSSVALIDATION PERO MANUALMENTE, Y ASI OBTENGO LOS PREDICT DEL MODELO PARA GRAFICARLOS  </span> \n",
    "\n",
    "* mi problema es obtener los predict del crossvalidation para poder graficar, porque el crossvalidation solo me da los scores."
   ]
  },
  {
   "cell_type": "code",
   "execution_count": 88,
   "metadata": {
    "collapsed": false
   },
   "outputs": [
    {
     "name": "stdout",
     "output_type": "stream",
     "text": [
      "MAD: 9.187148908056187\n",
      "\n",
      "MAD: 3.2257263718241167\n",
      "\n",
      "MAD: 2.215098771870991\n",
      "\n",
      "MAD: 3.9778355678077295\n",
      "\n",
      "MAD: 10.49610886276872\n",
      "\n"
     ]
    }
   ],
   "source": [
    "for i, j in kf:\n",
    "    Lr.fit(X.iloc[i], Y['PUNT_BIOLOGIA'].iloc[i])\n",
    "    print('MAD:', MAD(Y['PUNT_BIOLOGIA'].iloc[j], Lr.predict(X.iloc[j])))\n",
    "    print()"
   ]
  },
  {
   "cell_type": "code",
   "execution_count": 102,
   "metadata": {
    "collapsed": false
   },
   "outputs": [
    {
     "name": "stdout",
     "output_type": "stream",
     "text": [
      "mean_score: 9.187148908056187\n",
      "mean_score: 3.2257263718241167\n",
      "mean_score: 2.215098771870991\n",
      "mean_score: 3.9778355678077295\n",
      "mean_score: 10.49610886276872\n"
     ]
    },
    {
     "data": {
      "image/png": "[encoded data removed]",
      "text/plain": [
       "<matplotlib.figure.Figure at 0x7f39702f1048>"
      ]
     },
     "metadata": {},
     "output_type": "display_data"
    }
   ],
   "source": [
    "plot_predictions(Lr, 'PUNT_BIOLOGIA', X, Y, kf)"
   ]
  }
 ],
 "metadata": {
  "kernelspec": {
   "display_name": "Python 3 + Anaconda",
   "language": "python",
   "name": "pyconda3"
  },
  "language_info": {
   "codemirror_mode": {
    "name": "ipython",
    "version": 3
   },
   "file_extension": ".py",
   "mimetype": "text/x-python",
   "name": "python",
   "nbconvert_exporter": "python",
   "pygments_lexer": "ipython3",
   "version": "3.5.1"
  }
 },
 "nbformat": 4,
 "nbformat_minor": 0
}
