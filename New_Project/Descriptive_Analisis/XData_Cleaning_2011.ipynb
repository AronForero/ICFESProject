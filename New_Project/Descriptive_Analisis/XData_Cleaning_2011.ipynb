{
 "cells": [
  {
   "cell_type": "code",
   "execution_count": 1,
   "metadata": {
    "collapsed": true
   },
   "outputs": [],
   "source": [
    "import pandas as pd\n",
    "import numpy as np\n",
    "%run -i ../tools/functions.py\n",
    "%run -i ../tools/label_encoder.py"
   ]
  },
  {
   "cell_type": "code",
   "execution_count": 2,
   "metadata": {
    "collapsed": false
   },
   "outputs": [
    {
     "name": "stderr",
     "output_type": "stream",
     "text": [
      "/usr/local/lib/python3.4/dist-packages/IPython/core/interactiveshell.py:2902: DtypeWarning: Columns (10,12,14,24) have mixed types. Specify dtype option on import or set low_memory=False.\n",
      "  interactivity=interactivity, compiler=compiler, result=result)\n"
     ]
    }
   ],
   "source": [
    "data_2011 = pd.read_csv('../DatosFTPICFES/SABER11/SB11-BASES_DE_DATOS/SB11-20111-RGSTRO-CLFCCN-V1-0.txt', delimiter = '|')"
   ]
  },
  {
   "cell_type": "code",
   "execution_count": 3,
   "metadata": {
    "collapsed": false
   },
   "outputs": [
    {
     "data": {
      "text/plain": [
       "(86674, 114)"
      ]
     },
     "execution_count": 3,
     "metadata": {},
     "output_type": "execute_result"
    }
   ],
   "source": [
    "data_2011.shape"
   ]
  },
  {
   "cell_type": "code",
   "execution_count": 4,
   "metadata": {
    "collapsed": false,
    "scrolled": true
   },
   "outputs": [
    {
     "data": {
      "text/html": [
       "<div>\n",
       "<table border=\"1\" class=\"dataframe\">\n",
       "  <thead>\n",
       "    <tr style=\"text-align: right;\">\n",
       "      <th></th>\n",
       "      <th>0</th>\n",
       "      <th>1</th>\n",
       "      <th>2</th>\n",
       "    </tr>\n",
       "  </thead>\n",
       "  <tbody>\n",
       "    <tr>\n",
       "      <th>ESTU_CONSECUTIVO</th>\n",
       "      <td>SABER1120111000001</td>\n",
       "      <td>SABER1120111000002</td>\n",
       "      <td>SABER1120111000003</td>\n",
       "    </tr>\n",
       "    <tr>\n",
       "      <th>PERIODO</th>\n",
       "      <td>20111</td>\n",
       "      <td>20111</td>\n",
       "      <td>20111</td>\n",
       "    </tr>\n",
       "    <tr>\n",
       "      <th>ESTU_TIPO_DOCUMENTO</th>\n",
       "      <td>C</td>\n",
       "      <td>C</td>\n",
       "      <td>C</td>\n",
       "    </tr>\n",
       "    <tr>\n",
       "      <th>ESTU_PAIS_RESIDE</th>\n",
       "      <td>CO</td>\n",
       "      <td>CO</td>\n",
       "      <td>CO</td>\n",
       "    </tr>\n",
       "    <tr>\n",
       "      <th>ESTU_GENERO</th>\n",
       "      <td>M</td>\n",
       "      <td>F</td>\n",
       "      <td>M</td>\n",
       "    </tr>\n",
       "    <tr>\n",
       "      <th>ESTU_NACIMIENTO_DIA</th>\n",
       "      <td>20</td>\n",
       "      <td>3</td>\n",
       "      <td>5</td>\n",
       "    </tr>\n",
       "    <tr>\n",
       "      <th>ESTU_NACIMIENTO_MES</th>\n",
       "      <td>4</td>\n",
       "      <td>10</td>\n",
       "      <td>11</td>\n",
       "    </tr>\n",
       "    <tr>\n",
       "      <th>ESTU_NACIMIENTO_ANNO</th>\n",
       "      <td>1988</td>\n",
       "      <td>1990</td>\n",
       "      <td>1991</td>\n",
       "    </tr>\n",
       "    <tr>\n",
       "      <th>ESTU_EDAD</th>\n",
       "      <td>22</td>\n",
       "      <td>20</td>\n",
       "      <td>19</td>\n",
       "    </tr>\n",
       "    <tr>\n",
       "      <th>ESTU_LIMITA_BAJAVISION</th>\n",
       "      <td>NaN</td>\n",
       "      <td>NaN</td>\n",
       "      <td>NaN</td>\n",
       "    </tr>\n",
       "    <tr>\n",
       "      <th>ESTU_LIMITA_SORDOCEGUERA</th>\n",
       "      <td>NaN</td>\n",
       "      <td>NaN</td>\n",
       "      <td>NaN</td>\n",
       "    </tr>\n",
       "    <tr>\n",
       "      <th>ESTU_LIMITA_COGNITIVA</th>\n",
       "      <td>NaN</td>\n",
       "      <td>NaN</td>\n",
       "      <td>NaN</td>\n",
       "    </tr>\n",
       "    <tr>\n",
       "      <th>ESTU_LIMITA_INVIDENTE</th>\n",
       "      <td>NaN</td>\n",
       "      <td>NaN</td>\n",
       "      <td>NaN</td>\n",
       "    </tr>\n",
       "    <tr>\n",
       "      <th>ESTU_LIMITA_MOTRIZ</th>\n",
       "      <td>NaN</td>\n",
       "      <td>NaN</td>\n",
       "      <td>NaN</td>\n",
       "    </tr>\n",
       "    <tr>\n",
       "      <th>ESTU_LIMITA_SORDOINTERPRETE</th>\n",
       "      <td>NaN</td>\n",
       "      <td>NaN</td>\n",
       "      <td>NaN</td>\n",
       "    </tr>\n",
       "    <tr>\n",
       "      <th>ESTU_LIMITA_SORDONOINTERPRETE</th>\n",
       "      <td>NaN</td>\n",
       "      <td>NaN</td>\n",
       "      <td>NaN</td>\n",
       "    </tr>\n",
       "    <tr>\n",
       "      <th>ESTU_ETNIA</th>\n",
       "      <td>NaN</td>\n",
       "      <td>NaN</td>\n",
       "      <td>NaN</td>\n",
       "    </tr>\n",
       "    <tr>\n",
       "      <th>ESTU_COD_RESIDE_MCPIO</th>\n",
       "      <td>5837</td>\n",
       "      <td>5045</td>\n",
       "      <td>5837</td>\n",
       "    </tr>\n",
       "    <tr>\n",
       "      <th>ESTU_RESIDE_MCPIO</th>\n",
       "      <td>TURBO</td>\n",
       "      <td>APARTADO</td>\n",
       "      <td>TURBO</td>\n",
       "    </tr>\n",
       "    <tr>\n",
       "      <th>ESTU_RESIDE_DEPTO</th>\n",
       "      <td>ANTIOQUIA</td>\n",
       "      <td>ANTIOQUIA</td>\n",
       "      <td>ANTIOQUIA</td>\n",
       "    </tr>\n",
       "    <tr>\n",
       "      <th>ESTU_ZONA_RESIDE</th>\n",
       "      <td>10</td>\n",
       "      <td>10</td>\n",
       "      <td>10</td>\n",
       "    </tr>\n",
       "    <tr>\n",
       "      <th>ESTU_AREA_RESIDE</th>\n",
       "      <td>2</td>\n",
       "      <td>2</td>\n",
       "      <td>1</td>\n",
       "    </tr>\n",
       "    <tr>\n",
       "      <th>IND_COD_ICFES_TERMINO</th>\n",
       "      <td>128306</td>\n",
       "      <td>128306</td>\n",
       "      <td>NaN</td>\n",
       "    </tr>\n",
       "    <tr>\n",
       "      <th>COLE_COD_ICFES</th>\n",
       "      <td>128306</td>\n",
       "      <td>128306</td>\n",
       "      <td>131219</td>\n",
       "    </tr>\n",
       "    <tr>\n",
       "      <th>COLE_COD_DANE_INSTITUCION</th>\n",
       "      <td>2.05837e+11</td>\n",
       "      <td>2.05837e+11</td>\n",
       "      <td>3.05837e+11</td>\n",
       "    </tr>\n",
       "    <tr>\n",
       "      <th>COLE_NOMBRE_SEDE</th>\n",
       "      <td>I.E. VEINTICUATRO DE DICIEMBRE</td>\n",
       "      <td>I.E. VEINTICUATRO DE DICIEMBRE</td>\n",
       "      <td>INSTITUTO CORFERRINI</td>\n",
       "    </tr>\n",
       "    <tr>\n",
       "      <th>COLE_CALENDARIO</th>\n",
       "      <td>A</td>\n",
       "      <td>A</td>\n",
       "      <td>F</td>\n",
       "    </tr>\n",
       "    <tr>\n",
       "      <th>COLE_GENERO</th>\n",
       "      <td>X</td>\n",
       "      <td>X</td>\n",
       "      <td>X</td>\n",
       "    </tr>\n",
       "    <tr>\n",
       "      <th>COLE_NATURALEZA</th>\n",
       "      <td>O</td>\n",
       "      <td>O</td>\n",
       "      <td>N</td>\n",
       "    </tr>\n",
       "    <tr>\n",
       "      <th>COLE_BILINGUE</th>\n",
       "      <td>NaN</td>\n",
       "      <td>NaN</td>\n",
       "      <td>NaN</td>\n",
       "    </tr>\n",
       "    <tr>\n",
       "      <th>...</th>\n",
       "      <td>...</td>\n",
       "      <td>...</td>\n",
       "      <td>...</td>\n",
       "    </tr>\n",
       "    <tr>\n",
       "      <th>FAMI_PERSONAS_HOGAR</th>\n",
       "      <td>7</td>\n",
       "      <td>3</td>\n",
       "      <td>3</td>\n",
       "    </tr>\n",
       "    <tr>\n",
       "      <th>FAMI_CUARTOS_HOGAR</th>\n",
       "      <td>NaN</td>\n",
       "      <td>NaN</td>\n",
       "      <td>NaN</td>\n",
       "    </tr>\n",
       "    <tr>\n",
       "      <th>FAMI_PISOSHOGAR</th>\n",
       "      <td>2</td>\n",
       "      <td>4</td>\n",
       "      <td>4</td>\n",
       "    </tr>\n",
       "    <tr>\n",
       "      <th>FAMI_TELEFONO_FIJO</th>\n",
       "      <td>0</td>\n",
       "      <td>0</td>\n",
       "      <td>1</td>\n",
       "    </tr>\n",
       "    <tr>\n",
       "      <th>FAMI_CELULAR</th>\n",
       "      <td>1</td>\n",
       "      <td>1</td>\n",
       "      <td>1</td>\n",
       "    </tr>\n",
       "    <tr>\n",
       "      <th>FAMI_INTERNET</th>\n",
       "      <td>0</td>\n",
       "      <td>1</td>\n",
       "      <td>0</td>\n",
       "    </tr>\n",
       "    <tr>\n",
       "      <th>FAMI_SERVICIO_TELEVISION</th>\n",
       "      <td>1</td>\n",
       "      <td>0</td>\n",
       "      <td>1</td>\n",
       "    </tr>\n",
       "    <tr>\n",
       "      <th>FAMI_COMPUTADOR</th>\n",
       "      <td>0</td>\n",
       "      <td>3</td>\n",
       "      <td>3</td>\n",
       "    </tr>\n",
       "    <tr>\n",
       "      <th>FAMI_LAVADORA</th>\n",
       "      <td>1</td>\n",
       "      <td>0</td>\n",
       "      <td>1</td>\n",
       "    </tr>\n",
       "    <tr>\n",
       "      <th>FAMI_NEVERA</th>\n",
       "      <td>1</td>\n",
       "      <td>1</td>\n",
       "      <td>1</td>\n",
       "    </tr>\n",
       "    <tr>\n",
       "      <th>FAMI_HORNO</th>\n",
       "      <td>0</td>\n",
       "      <td>0</td>\n",
       "      <td>0</td>\n",
       "    </tr>\n",
       "    <tr>\n",
       "      <th>FAMI_DVD</th>\n",
       "      <td>1</td>\n",
       "      <td>0</td>\n",
       "      <td>1</td>\n",
       "    </tr>\n",
       "    <tr>\n",
       "      <th>FAMI_MICROONDAS</th>\n",
       "      <td>1</td>\n",
       "      <td>0</td>\n",
       "      <td>1</td>\n",
       "    </tr>\n",
       "    <tr>\n",
       "      <th>FAMI_AUTOMOVIL</th>\n",
       "      <td>0</td>\n",
       "      <td>0</td>\n",
       "      <td>0</td>\n",
       "    </tr>\n",
       "    <tr>\n",
       "      <th>FAMI_INGRESO_FMILIAR_MENSUAL</th>\n",
       "      <td>2</td>\n",
       "      <td>2</td>\n",
       "      <td>2</td>\n",
       "    </tr>\n",
       "    <tr>\n",
       "      <th>ESTU_TRABAJA</th>\n",
       "      <td>NaN</td>\n",
       "      <td>0</td>\n",
       "      <td>0</td>\n",
       "    </tr>\n",
       "    <tr>\n",
       "      <th>ESTU_HORAS_TRABAJA</th>\n",
       "      <td>NaN</td>\n",
       "      <td>NaN</td>\n",
       "      <td>NaN</td>\n",
       "    </tr>\n",
       "    <tr>\n",
       "      <th>PUNT_LENGUAJE</th>\n",
       "      <td>48,55</td>\n",
       "      <td>43,04</td>\n",
       "      <td>49,71</td>\n",
       "    </tr>\n",
       "    <tr>\n",
       "      <th>PUNT_MATEMATICAS</th>\n",
       "      <td>32,42</td>\n",
       "      <td>36,11</td>\n",
       "      <td>32,42</td>\n",
       "    </tr>\n",
       "    <tr>\n",
       "      <th>PUNT_C_SOCIALES</th>\n",
       "      <td>35,56</td>\n",
       "      <td>31,76</td>\n",
       "      <td>36,48</td>\n",
       "    </tr>\n",
       "    <tr>\n",
       "      <th>PUNT_FILOSOFIA</th>\n",
       "      <td>26,28</td>\n",
       "      <td>29</td>\n",
       "      <td>21,42</td>\n",
       "    </tr>\n",
       "    <tr>\n",
       "      <th>PUNT_BIOLOGIA</th>\n",
       "      <td>43,3</td>\n",
       "      <td>45,4</td>\n",
       "      <td>38,84</td>\n",
       "    </tr>\n",
       "    <tr>\n",
       "      <th>PUNT_QUIMICA</th>\n",
       "      <td>41,62</td>\n",
       "      <td>42,1</td>\n",
       "      <td>25,14</td>\n",
       "    </tr>\n",
       "    <tr>\n",
       "      <th>PUNT_FISICA</th>\n",
       "      <td>48,41</td>\n",
       "      <td>43,04</td>\n",
       "      <td>35,03</td>\n",
       "    </tr>\n",
       "    <tr>\n",
       "      <th>PUNT_INGLES</th>\n",
       "      <td>38,08</td>\n",
       "      <td>39,87</td>\n",
       "      <td>42,76</td>\n",
       "    </tr>\n",
       "    <tr>\n",
       "      <th>DESEMP_INGLES</th>\n",
       "      <td>A-</td>\n",
       "      <td>A-</td>\n",
       "      <td>A-</td>\n",
       "    </tr>\n",
       "    <tr>\n",
       "      <th>NOMBRE_COMP_FLEXIBLE</th>\n",
       "      <td>MEDIO AMBIENTE</td>\n",
       "      <td>VIOLENCIA Y SOCIEDAD</td>\n",
       "      <td>VIOLENCIA Y SOCIEDAD</td>\n",
       "    </tr>\n",
       "    <tr>\n",
       "      <th>PUNT_COMP_FLEXIBLE</th>\n",
       "      <td>50,23</td>\n",
       "      <td>45,58</td>\n",
       "      <td>32,5</td>\n",
       "    </tr>\n",
       "    <tr>\n",
       "      <th>DESEMP_COMP_FLEXIBLE</th>\n",
       "      <td>NaN</td>\n",
       "      <td>NaN</td>\n",
       "      <td>NaN</td>\n",
       "    </tr>\n",
       "    <tr>\n",
       "      <th>ESTU_PUESTO</th>\n",
       "      <td>845</td>\n",
       "      <td>873</td>\n",
       "      <td>951</td>\n",
       "    </tr>\n",
       "  </tbody>\n",
       "</table>\n",
       "<p>114 rows × 3 columns</p>\n",
       "</div>"
      ],
      "text/plain": [
       "                                                            0  \\\n",
       "ESTU_CONSECUTIVO                           SABER1120111000001   \n",
       "PERIODO                                                 20111   \n",
       "ESTU_TIPO_DOCUMENTO                                         C   \n",
       "ESTU_PAIS_RESIDE                                           CO   \n",
       "ESTU_GENERO                                                 M   \n",
       "ESTU_NACIMIENTO_DIA                                        20   \n",
       "ESTU_NACIMIENTO_MES                                         4   \n",
       "ESTU_NACIMIENTO_ANNO                                     1988   \n",
       "ESTU_EDAD                                                  22   \n",
       "ESTU_LIMITA_BAJAVISION                                    NaN   \n",
       "ESTU_LIMITA_SORDOCEGUERA                                  NaN   \n",
       "ESTU_LIMITA_COGNITIVA                                     NaN   \n",
       "ESTU_LIMITA_INVIDENTE                                     NaN   \n",
       "ESTU_LIMITA_MOTRIZ                                        NaN   \n",
       "ESTU_LIMITA_SORDOINTERPRETE                               NaN   \n",
       "ESTU_LIMITA_SORDONOINTERPRETE                             NaN   \n",
       "ESTU_ETNIA                                                NaN   \n",
       "ESTU_COD_RESIDE_MCPIO                                    5837   \n",
       "ESTU_RESIDE_MCPIO                                       TURBO   \n",
       "ESTU_RESIDE_DEPTO                                   ANTIOQUIA   \n",
       "ESTU_ZONA_RESIDE                                           10   \n",
       "ESTU_AREA_RESIDE                                            2   \n",
       "IND_COD_ICFES_TERMINO                                  128306   \n",
       "COLE_COD_ICFES                                         128306   \n",
       "COLE_COD_DANE_INSTITUCION                         2.05837e+11   \n",
       "COLE_NOMBRE_SEDE               I.E. VEINTICUATRO DE DICIEMBRE   \n",
       "COLE_CALENDARIO                                             A   \n",
       "COLE_GENERO                                                 X   \n",
       "COLE_NATURALEZA                                             O   \n",
       "COLE_BILINGUE                                             NaN   \n",
       "...                                                       ...   \n",
       "FAMI_PERSONAS_HOGAR                                         7   \n",
       "FAMI_CUARTOS_HOGAR                                        NaN   \n",
       "FAMI_PISOSHOGAR                                             2   \n",
       "FAMI_TELEFONO_FIJO                                          0   \n",
       "FAMI_CELULAR                                                1   \n",
       "FAMI_INTERNET                                               0   \n",
       "FAMI_SERVICIO_TELEVISION                                    1   \n",
       "FAMI_COMPUTADOR                                             0   \n",
       "FAMI_LAVADORA                                               1   \n",
       "FAMI_NEVERA                                                 1   \n",
       "FAMI_HORNO                                                  0   \n",
       "FAMI_DVD                                                    1   \n",
       "FAMI_MICROONDAS                                             1   \n",
       "FAMI_AUTOMOVIL                                              0   \n",
       "FAMI_INGRESO_FMILIAR_MENSUAL                                2   \n",
       "ESTU_TRABAJA                                              NaN   \n",
       "ESTU_HORAS_TRABAJA                                        NaN   \n",
       "PUNT_LENGUAJE                                           48,55   \n",
       "PUNT_MATEMATICAS                                        32,42   \n",
       "PUNT_C_SOCIALES                                         35,56   \n",
       "PUNT_FILOSOFIA                                          26,28   \n",
       "PUNT_BIOLOGIA                                            43,3   \n",
       "PUNT_QUIMICA                                            41,62   \n",
       "PUNT_FISICA                                             48,41   \n",
       "PUNT_INGLES                                             38,08   \n",
       "DESEMP_INGLES                                              A-   \n",
       "NOMBRE_COMP_FLEXIBLE                           MEDIO AMBIENTE   \n",
       "PUNT_COMP_FLEXIBLE                                      50,23   \n",
       "DESEMP_COMP_FLEXIBLE                                      NaN   \n",
       "ESTU_PUESTO                                               845   \n",
       "\n",
       "                                                            1  \\\n",
       "ESTU_CONSECUTIVO                           SABER1120111000002   \n",
       "PERIODO                                                 20111   \n",
       "ESTU_TIPO_DOCUMENTO                                         C   \n",
       "ESTU_PAIS_RESIDE                                           CO   \n",
       "ESTU_GENERO                                                 F   \n",
       "ESTU_NACIMIENTO_DIA                                         3   \n",
       "ESTU_NACIMIENTO_MES                                        10   \n",
       "ESTU_NACIMIENTO_ANNO                                     1990   \n",
       "ESTU_EDAD                                                  20   \n",
       "ESTU_LIMITA_BAJAVISION                                    NaN   \n",
       "ESTU_LIMITA_SORDOCEGUERA                                  NaN   \n",
       "ESTU_LIMITA_COGNITIVA                                     NaN   \n",
       "ESTU_LIMITA_INVIDENTE                                     NaN   \n",
       "ESTU_LIMITA_MOTRIZ                                        NaN   \n",
       "ESTU_LIMITA_SORDOINTERPRETE                               NaN   \n",
       "ESTU_LIMITA_SORDONOINTERPRETE                             NaN   \n",
       "ESTU_ETNIA                                                NaN   \n",
       "ESTU_COD_RESIDE_MCPIO                                    5045   \n",
       "ESTU_RESIDE_MCPIO                                    APARTADO   \n",
       "ESTU_RESIDE_DEPTO                                   ANTIOQUIA   \n",
       "ESTU_ZONA_RESIDE                                           10   \n",
       "ESTU_AREA_RESIDE                                            2   \n",
       "IND_COD_ICFES_TERMINO                                  128306   \n",
       "COLE_COD_ICFES                                         128306   \n",
       "COLE_COD_DANE_INSTITUCION                         2.05837e+11   \n",
       "COLE_NOMBRE_SEDE               I.E. VEINTICUATRO DE DICIEMBRE   \n",
       "COLE_CALENDARIO                                             A   \n",
       "COLE_GENERO                                                 X   \n",
       "COLE_NATURALEZA                                             O   \n",
       "COLE_BILINGUE                                             NaN   \n",
       "...                                                       ...   \n",
       "FAMI_PERSONAS_HOGAR                                         3   \n",
       "FAMI_CUARTOS_HOGAR                                        NaN   \n",
       "FAMI_PISOSHOGAR                                             4   \n",
       "FAMI_TELEFONO_FIJO                                          0   \n",
       "FAMI_CELULAR                                                1   \n",
       "FAMI_INTERNET                                               1   \n",
       "FAMI_SERVICIO_TELEVISION                                    0   \n",
       "FAMI_COMPUTADOR                                             3   \n",
       "FAMI_LAVADORA                                               0   \n",
       "FAMI_NEVERA                                                 1   \n",
       "FAMI_HORNO                                                  0   \n",
       "FAMI_DVD                                                    0   \n",
       "FAMI_MICROONDAS                                             0   \n",
       "FAMI_AUTOMOVIL                                              0   \n",
       "FAMI_INGRESO_FMILIAR_MENSUAL                                2   \n",
       "ESTU_TRABAJA                                                0   \n",
       "ESTU_HORAS_TRABAJA                                        NaN   \n",
       "PUNT_LENGUAJE                                           43,04   \n",
       "PUNT_MATEMATICAS                                        36,11   \n",
       "PUNT_C_SOCIALES                                         31,76   \n",
       "PUNT_FILOSOFIA                                             29   \n",
       "PUNT_BIOLOGIA                                            45,4   \n",
       "PUNT_QUIMICA                                             42,1   \n",
       "PUNT_FISICA                                             43,04   \n",
       "PUNT_INGLES                                             39,87   \n",
       "DESEMP_INGLES                                              A-   \n",
       "NOMBRE_COMP_FLEXIBLE                     VIOLENCIA Y SOCIEDAD   \n",
       "PUNT_COMP_FLEXIBLE                                      45,58   \n",
       "DESEMP_COMP_FLEXIBLE                                      NaN   \n",
       "ESTU_PUESTO                                               873   \n",
       "\n",
       "                                                  2  \n",
       "ESTU_CONSECUTIVO                 SABER1120111000003  \n",
       "PERIODO                                       20111  \n",
       "ESTU_TIPO_DOCUMENTO                               C  \n",
       "ESTU_PAIS_RESIDE                                 CO  \n",
       "ESTU_GENERO                                       M  \n",
       "ESTU_NACIMIENTO_DIA                               5  \n",
       "ESTU_NACIMIENTO_MES                              11  \n",
       "ESTU_NACIMIENTO_ANNO                           1991  \n",
       "ESTU_EDAD                                        19  \n",
       "ESTU_LIMITA_BAJAVISION                          NaN  \n",
       "ESTU_LIMITA_SORDOCEGUERA                        NaN  \n",
       "ESTU_LIMITA_COGNITIVA                           NaN  \n",
       "ESTU_LIMITA_INVIDENTE                           NaN  \n",
       "ESTU_LIMITA_MOTRIZ                              NaN  \n",
       "ESTU_LIMITA_SORDOINTERPRETE                     NaN  \n",
       "ESTU_LIMITA_SORDONOINTERPRETE                   NaN  \n",
       "ESTU_ETNIA                                      NaN  \n",
       "ESTU_COD_RESIDE_MCPIO                          5837  \n",
       "ESTU_RESIDE_MCPIO                             TURBO  \n",
       "ESTU_RESIDE_DEPTO                         ANTIOQUIA  \n",
       "ESTU_ZONA_RESIDE                                 10  \n",
       "ESTU_AREA_RESIDE                                  1  \n",
       "IND_COD_ICFES_TERMINO                           NaN  \n",
       "COLE_COD_ICFES                               131219  \n",
       "COLE_COD_DANE_INSTITUCION               3.05837e+11  \n",
       "COLE_NOMBRE_SEDE               INSTITUTO CORFERRINI  \n",
       "COLE_CALENDARIO                                   F  \n",
       "COLE_GENERO                                       X  \n",
       "COLE_NATURALEZA                                   N  \n",
       "COLE_BILINGUE                                   NaN  \n",
       "...                                             ...  \n",
       "FAMI_PERSONAS_HOGAR                               3  \n",
       "FAMI_CUARTOS_HOGAR                              NaN  \n",
       "FAMI_PISOSHOGAR                                   4  \n",
       "FAMI_TELEFONO_FIJO                                1  \n",
       "FAMI_CELULAR                                      1  \n",
       "FAMI_INTERNET                                     0  \n",
       "FAMI_SERVICIO_TELEVISION                          1  \n",
       "FAMI_COMPUTADOR                                   3  \n",
       "FAMI_LAVADORA                                     1  \n",
       "FAMI_NEVERA                                       1  \n",
       "FAMI_HORNO                                        0  \n",
       "FAMI_DVD                                          1  \n",
       "FAMI_MICROONDAS                                   1  \n",
       "FAMI_AUTOMOVIL                                    0  \n",
       "FAMI_INGRESO_FMILIAR_MENSUAL                      2  \n",
       "ESTU_TRABAJA                                      0  \n",
       "ESTU_HORAS_TRABAJA                              NaN  \n",
       "PUNT_LENGUAJE                                 49,71  \n",
       "PUNT_MATEMATICAS                              32,42  \n",
       "PUNT_C_SOCIALES                               36,48  \n",
       "PUNT_FILOSOFIA                                21,42  \n",
       "PUNT_BIOLOGIA                                 38,84  \n",
       "PUNT_QUIMICA                                  25,14  \n",
       "PUNT_FISICA                                   35,03  \n",
       "PUNT_INGLES                                   42,76  \n",
       "DESEMP_INGLES                                    A-  \n",
       "NOMBRE_COMP_FLEXIBLE           VIOLENCIA Y SOCIEDAD  \n",
       "PUNT_COMP_FLEXIBLE                             32,5  \n",
       "DESEMP_COMP_FLEXIBLE                            NaN  \n",
       "ESTU_PUESTO                                     951  \n",
       "\n",
       "[114 rows x 3 columns]"
      ]
     },
     "execution_count": 4,
     "metadata": {},
     "output_type": "execute_result"
    }
   ],
   "source": [
    "data_2011.head(3).T"
   ]
  },
  {
   "cell_type": "code",
   "execution_count": 10,
   "metadata": {
    "collapsed": true
   },
   "outputs": [],
   "source": [
    "data_2011 = data_2011.drop(['ESTU_CONSECUTIVO', 'PERIODO', 'ESTU_TIPO_DOCUMENTO', 'ESTU_COD_RESIDE_MCPIO',\n",
    "                           'ESTU_COD_MCPIO_PRESENTACION'], axis=1)"
   ]
  },
  {
   "cell_type": "code",
   "execution_count": null,
   "metadata": {
    "collapsed": true
   },
   "outputs": [],
   "source": [
    "c = 'ESTU_PAIS_RESIDE'\n",
    "data_2011[c].value_counts().sort_index().index\n",
    "data_2011[c].value_counts().sort_index()\n",
    "missing_data(data_2011[c])"
   ]
  },
  {
   "cell_type": "code",
   "execution_count": null,
   "metadata": {
    "collapsed": true
   },
   "outputs": [],
   "source": [
    "c = 'ESTU_GENERO'\n",
    "data_2011[c].value_counts().sort_index().index\n",
    "data_2011[c].value_counts().sort_index()\n",
    "missing_data(data_2011[c])"
   ]
  },
  {
   "cell_type": "code",
   "execution_count": null,
   "metadata": {
    "collapsed": true
   },
   "outputs": [],
   "source": [
    "c = 'ESTU_NACIMIENTO_DIA'\n",
    "data_2011[c].value_counts().sort_index().index\n",
    "data_2011[c].value_counts().sort_index()\n",
    "missing_data(data_2011[c])"
   ]
  },
  {
   "cell_type": "code",
   "execution_count": null,
   "metadata": {
    "collapsed": true
   },
   "outputs": [],
   "source": [
    "c = 'ESTU_NACIMIENTO_MES'\n",
    "data_2011[c].value_counts().sort_index().index\n",
    "data_2011[c].value_counts().sort_index()\n",
    "missing_data(data_2011[c])"
   ]
  },
  {
   "cell_type": "code",
   "execution_count": null,
   "metadata": {
    "collapsed": true
   },
   "outputs": [],
   "source": [
    "c = 'ESTU_NACIMIENTO_ANNO'\n",
    "data_2011[c].value_counts().sort_index().index\n",
    "data_2011[c].value_counts().sort_index()\n",
    "missing_data(data_2011[c])"
   ]
  },
  {
   "cell_type": "code",
   "execution_count": null,
   "metadata": {
    "collapsed": true
   },
   "outputs": [],
   "source": [
    "c = 'ESTU_EDAD'\n",
    "data_2011[c].value_counts().sort_index().index\n",
    "data_2011[c].value_counts().sort_index()\n",
    "missing_data(data_2011[c])"
   ]
  },
  {
   "cell_type": "code",
   "execution_count": null,
   "metadata": {
    "collapsed": true
   },
   "outputs": [],
   "source": [
    "c = 'ESTU_LIMITA_BAJAVISION'\n",
    "data_2011[c].value_counts().sort_index().index\n",
    "data_2011[c].value_counts().sort_index()\n",
    "missing_data(data_2011[c])"
   ]
  },
  {
   "cell_type": "code",
   "execution_count": null,
   "metadata": {
    "collapsed": true
   },
   "outputs": [],
   "source": [
    "c = 'ESTU_LIMITA_SORDOCEGUERA'\n",
    "data_2011[c].value_counts().sort_index().index\n",
    "data_2011[c].value_counts().sort_index()\n",
    "missing_data(data_2011[c])"
   ]
  },
  {
   "cell_type": "code",
   "execution_count": null,
   "metadata": {
    "collapsed": true
   },
   "outputs": [],
   "source": [
    "c = 'ESTU_LIMITA_COGNITIVA'\n",
    "data_2011[c].value_counts().sort_index().index\n",
    "data_2011[c].value_counts().sort_index()\n",
    "missing_data(data_2011[c])"
   ]
  },
  {
   "cell_type": "code",
   "execution_count": null,
   "metadata": {
    "collapsed": true
   },
   "outputs": [],
   "source": [
    "c = 'ESTU_LIMITA_INVIDENTE'\n",
    "data_2011[c].value_counts().sort_index().index\n",
    "data_2011[c].value_counts().sort_index()\n",
    "missing_data(data_2011[c])"
   ]
  },
  {
   "cell_type": "code",
   "execution_count": null,
   "metadata": {
    "collapsed": true
   },
   "outputs": [],
   "source": [
    "c = 'ESTU_LIMITA_MOTRIZ'\n",
    "data_2011[c].value_counts().sort_index().index\n",
    "data_2011[c].value_counts().sort_index()\n",
    "missing_data(data_2011[c])"
   ]
  },
  {
   "cell_type": "code",
   "execution_count": null,
   "metadata": {
    "collapsed": true
   },
   "outputs": [],
   "source": [
    "c = 'ESTU_LIMITA_SORDOINTERPRETE'\n",
    "data_2011[c].value_counts().sort_index().index\n",
    "data_2011[c].value_counts().sort_index()\n",
    "missing_data(data_2011[c])"
   ]
  },
  {
   "cell_type": "code",
   "execution_count": null,
   "metadata": {
    "collapsed": true
   },
   "outputs": [],
   "source": [
    "c = 'ESTU_LIMITA_SORDONOINTERPRETE'\n",
    "data_2011[c].value_counts().sort_index().index\n",
    "data_2011[c].value_counts().sort_index()\n",
    "missing_data(data_2011[c])"
   ]
  },
  {
   "cell_type": "code",
   "execution_count": null,
   "metadata": {
    "collapsed": true
   },
   "outputs": [],
   "source": [
    "c = 'ESTU_ETNIA'\n",
    "data_2011[c].value_counts().sort_index().index\n",
    "data_2011[c].value_counts().sort_index()\n",
    "missing_data(data_2011[c])"
   ]
  },
  {
   "cell_type": "code",
   "execution_count": null,
   "metadata": {
    "collapsed": true
   },
   "outputs": [],
   "source": [
    "c = 'ESTU_RESIDE_MCPIO'\n",
    "data_2011[c].value_counts().sort_index().index\n",
    "data_2011[c].value_counts().sort_index()\n",
    "missing_data(data_2011[c])"
   ]
  },
  {
   "cell_type": "code",
   "execution_count": null,
   "metadata": {
    "collapsed": true
   },
   "outputs": [],
   "source": [
    "c = 'ESTU_RESIDE_DEPTO'\n",
    "data_2011[c].value_counts().sort_index().index\n",
    "data_2011[c].value_counts().sort_index()\n",
    "missing_data(data_2011[c])"
   ]
  },
  {
   "cell_type": "code",
   "execution_count": null,
   "metadata": {
    "collapsed": true
   },
   "outputs": [],
   "source": [
    "c = 'ESTU_ZONA_RESIDE'\n",
    "data_2011[c].value_counts().sort_index().index\n",
    "data_2011[c].value_counts().sort_index()\n",
    "missing_data(data_2011[c])"
   ]
  },
  {
   "cell_type": "code",
   "execution_count": null,
   "metadata": {
    "collapsed": true
   },
   "outputs": [],
   "source": [
    "c = 'ESTU_AREA_RESIDE'\n",
    "data_2011[c].value_counts().sort_index().index\n",
    "data_2011[c].value_counts().sort_index()\n",
    "missing_data(data_2011[c])"
   ]
  },
  {
   "cell_type": "code",
   "execution_count": null,
   "metadata": {
    "collapsed": true
   },
   "outputs": [],
   "source": [
    "c = 'IND_COD_ICFES_TERMINO'\n",
    "data_2011[c].value_counts().sort_index().index\n",
    "data_2011[c].value_counts().sort_index()\n",
    "missing_data(data_2011[c])"
   ]
  },
  {
   "cell_type": "code",
   "execution_count": null,
   "metadata": {
    "collapsed": true
   },
   "outputs": [],
   "source": [
    "c = 'COLE_COD_ICFES'\n",
    "data_2011[c].value_counts().sort_index().index\n",
    "data_2011[c].value_counts().sort_index()\n",
    "missing_data(data_2011[c])"
   ]
  },
  {
   "cell_type": "code",
   "execution_count": null,
   "metadata": {
    "collapsed": true
   },
   "outputs": [],
   "source": [
    "c = 'COLE_COD_DANE_INSTITUCION'\n",
    "data_2011[c].value_counts().sort_index().index\n",
    "data_2011[c].value_counts().sort_index()\n",
    "missing_data(data_2011[c])"
   ]
  },
  {
   "cell_type": "code",
   "execution_count": null,
   "metadata": {
    "collapsed": true
   },
   "outputs": [],
   "source": [
    "c = 'COLE_NOMBRE_SEDE'\n",
    "data_2011[c].value_counts().sort_index().index\n",
    "data_2011[c].value_counts().sort_index()\n",
    "missing_data(data_2011[c])"
   ]
  },
  {
   "cell_type": "code",
   "execution_count": null,
   "metadata": {
    "collapsed": true
   },
   "outputs": [],
   "source": [
    "c = 'COLE_CALENDARIO'\n",
    "data_2011[c].value_counts().sort_index().index\n",
    "data_2011[c].value_counts().sort_index()\n",
    "missing_data(data_2011[c])"
   ]
  },
  {
   "cell_type": "code",
   "execution_count": null,
   "metadata": {
    "collapsed": true
   },
   "outputs": [],
   "source": [
    "c = 'COLE_GENERO'\n",
    "data_2011[c].value_counts().sort_index().index\n",
    "data_2011[c].value_counts().sort_index()\n",
    "missing_data(data_2011[c])"
   ]
  },
  {
   "cell_type": "code",
   "execution_count": null,
   "metadata": {
    "collapsed": true
   },
   "outputs": [],
   "source": [
    "c = 'COLE_NATURALEZA'\n",
    "data_2011[c].value_counts().sort_index().index\n",
    "data_2011[c].value_counts().sort_index()\n",
    "missing_data(data_2011[c])"
   ]
  },
  {
   "cell_type": "code",
   "execution_count": null,
   "metadata": {
    "collapsed": true
   },
   "outputs": [],
   "source": [
    "c = 'COLE_BILINGUE'\n",
    "data_2011[c].value_counts().sort_index().index\n",
    "data_2011[c].value_counts().sort_index()\n",
    "missing_data(data_2011[c])"
   ]
  },
  {
   "cell_type": "code",
   "execution_count": null,
   "metadata": {
    "collapsed": true
   },
   "outputs": [],
   "source": [
    "c = 'COLE_JORNADA'\n",
    "data_2011[c].value_counts().sort_index().index\n",
    "data_2011[c].value_counts().sort_index()\n",
    "missing_data(data_2011[c])"
   ]
  },
  {
   "cell_type": "code",
   "execution_count": null,
   "metadata": {
    "collapsed": true
   },
   "outputs": [],
   "source": [
    "c = 'COLE_CARACTER'\n",
    "data_2011[c].value_counts().sort_index().index\n",
    "data_2011[c].value_counts().sort_index()\n",
    "missing_data(data_2011[c])"
   ]
  },
  {
   "cell_type": "code",
   "execution_count": null,
   "metadata": {
    "collapsed": true
   },
   "outputs": [],
   "source": [
    "c = 'ESTU_CARRDESEADA_TIPO'\n",
    "data_2011[c].value_counts().sort_index().index\n",
    "data_2011[c].value_counts().sort_index()\n",
    "missing_data(data_2011[c])"
   ]
  },
  {
   "cell_type": "code",
   "execution_count": null,
   "metadata": {
    "collapsed": true
   },
   "outputs": [],
   "source": [
    "c = 'ESTU_IES_COD_DESEADA'\n",
    "data_2011[c].value_counts().sort_index().index\n",
    "data_2011[c].value_counts().sort_index()\n",
    "missing_data(data_2011[c])"
   ]
  },
  {
   "cell_type": "code",
   "execution_count": null,
   "metadata": {
    "collapsed": true
   },
   "outputs": [],
   "source": [
    "c = 'ESTU_IES_COD_MPIO_DESEADA'\n",
    "data_2011[c].value_counts().sort_index().index\n",
    "data_2011[c].value_counts().sort_index()\n",
    "missing_data(data_2011[c])"
   ]
  },
  {
   "cell_type": "code",
   "execution_count": null,
   "metadata": {
    "collapsed": true
   },
   "outputs": [],
   "source": [
    "c = 'ESTU_IES_DEPT_DESEADA'\n",
    "data_2011[c].value_counts().sort_index().index\n",
    "data_2011[c].value_counts().sort_index()\n",
    "missing_data(data_2011[c])"
   ]
  },
  {
   "cell_type": "code",
   "execution_count": null,
   "metadata": {
    "collapsed": true
   },
   "outputs": [],
   "source": [
    "c = 'ESTU_IES_DESEADA_NOMBRE'\n",
    "data_2011[c].value_counts().sort_index().index\n",
    "data_2011[c].value_counts().sort_index()\n",
    "missing_data(data_2011[c])"
   ]
  },
  {
   "cell_type": "code",
   "execution_count": null,
   "metadata": {
    "collapsed": true
   },
   "outputs": [],
   "source": [
    "c = 'ESTU_IES_MPIO_DESEADA'\n",
    "data_2011[c].value_counts().sort_index().index\n",
    "data_2011[c].value_counts().sort_index()\n",
    "missing_data(data_2011[c])"
   ]
  },
  {
   "cell_type": "code",
   "execution_count": null,
   "metadata": {
    "collapsed": true
   },
   "outputs": [],
   "source": [
    "c = 'ESTU_TOTAL_ALUMNOS_CURSO'\n",
    "data_2011[c].value_counts().sort_index().index\n",
    "data_2011[c].value_counts().sort_index()\n",
    "missing_data(data_2011[c])"
   ]
  },
  {
   "cell_type": "code",
   "execution_count": null,
   "metadata": {
    "collapsed": true
   },
   "outputs": [],
   "source": [
    "c = 'ESTU_ANO_MATRICULA_PRIMERO'\n",
    "data_2011[c].value_counts().sort_index().index\n",
    "data_2011[c].value_counts().sort_index()\n",
    "missing_data(data_2011[c])"
   ]
  },
  {
   "cell_type": "code",
   "execution_count": null,
   "metadata": {
    "collapsed": true
   },
   "outputs": [],
   "source": [
    "c = 'ESTU_ANO_TERMINO_QUINTO'\n",
    "data_2011[c].value_counts().sort_index().index\n",
    "data_2011[c].value_counts().sort_index()\n",
    "missing_data(data_2011[c])"
   ]
  },
  {
   "cell_type": "code",
   "execution_count": null,
   "metadata": {
    "collapsed": true
   },
   "outputs": [],
   "source": [
    "c = 'ESTU_ANOS_COLEGIO_ACTUAL'\n",
    "data_2011[c].value_counts().sort_index().index\n",
    "data_2011[c].value_counts().sort_index()\n",
    "missing_data(data_2011[c])"
   ]
  },
  {
   "cell_type": "code",
   "execution_count": null,
   "metadata": {
    "collapsed": true
   },
   "outputs": [],
   "source": [
    "c = 'ESTU_ANO_MATRICULA_SEXTO'\n",
    "data_2011[c].value_counts().sort_index().index\n",
    "data_2011[c].value_counts().sort_index()\n",
    "missing_data(data_2011[c])"
   ]
  },
  {
   "cell_type": "code",
   "execution_count": null,
   "metadata": {
    "collapsed": true
   },
   "outputs": [],
   "source": [
    "c = 'ESTU_ANOS_PREESCOLAR'\n",
    "data_2011[c].value_counts().sort_index().index\n",
    "data_2011[c].value_counts().sort_index()\n",
    "missing_data(data_2011[c])"
   ]
  },
  {
   "cell_type": "code",
   "execution_count": null,
   "metadata": {
    "collapsed": true
   },
   "outputs": [],
   "source": [
    "c = 'ESTU_CUANTOS_COLE_ESTUDIO'\n",
    "data_2011[c].value_counts().sort_index().index\n",
    "data_2011[c].value_counts().sort_index()\n",
    "missing_data(data_2011[c])"
   ]
  },
  {
   "cell_type": "code",
   "execution_count": null,
   "metadata": {
    "collapsed": true
   },
   "outputs": [],
   "source": [
    "c = 'ESTU_REPROBO_CUARTO'\n",
    "data_2011[c].value_counts().sort_index().index\n",
    "data_2011[c].value_counts().sort_index()\n",
    "missing_data(data_2011[c])"
   ]
  },
  {
   "cell_type": "code",
   "execution_count": null,
   "metadata": {
    "collapsed": true
   },
   "outputs": [],
   "source": [
    "c = 'ESTU_REPROBO_DECIMO'\n",
    "data_2011[c].value_counts().sort_index().index\n",
    "data_2011[c].value_counts().sort_index()\n",
    "missing_data(data_2011[c])"
   ]
  },
  {
   "cell_type": "code",
   "execution_count": null,
   "metadata": {
    "collapsed": true
   },
   "outputs": [],
   "source": [
    "c = 'ESTU_REPROBO_NOVENO'\n",
    "data_2011[c].value_counts().sort_index().index\n",
    "data_2011[c].value_counts().sort_index()\n",
    "missing_data(data_2011[c])"
   ]
  },
  {
   "cell_type": "code",
   "execution_count": null,
   "metadata": {
    "collapsed": true
   },
   "outputs": [],
   "source": [
    "c = 'ESTU_REPROBO_OCTAVO'\n",
    "data_2011[c].value_counts().sort_index().index\n",
    "data_2011[c].value_counts().sort_index()\n",
    "missing_data(data_2011[c])"
   ]
  },
  {
   "cell_type": "code",
   "execution_count": null,
   "metadata": {
    "collapsed": true
   },
   "outputs": [],
   "source": [
    "c = 'ESTU_REPROBO_PRIMERO'\n",
    "data_2011[c].value_counts().sort_index().index\n",
    "data_2011[c].value_counts().sort_index()\n",
    "missing_data(data_2011[c])"
   ]
  },
  {
   "cell_type": "code",
   "execution_count": null,
   "metadata": {
    "collapsed": true
   },
   "outputs": [],
   "source": [
    "c = 'ESTU_REPROBO_QUINTO'\n",
    "data_2011[c].value_counts().sort_index().index\n",
    "data_2011[c].value_counts().sort_index()\n",
    "missing_data(data_2011[c])"
   ]
  },
  {
   "cell_type": "code",
   "execution_count": null,
   "metadata": {
    "collapsed": true
   },
   "outputs": [],
   "source": [
    "c = 'ESTU_REPROBO_SEGUNDO'\n",
    "data_2011[c].value_counts().sort_index().index\n",
    "data_2011[c].value_counts().sort_index()\n",
    "missing_data(data_2011[c])"
   ]
  },
  {
   "cell_type": "code",
   "execution_count": null,
   "metadata": {
    "collapsed": true
   },
   "outputs": [],
   "source": [
    "c = 'ESTU_REPROBO_SEPTIMO'\n",
    "data_2011[c].value_counts().sort_index().index\n",
    "data_2011[c].value_counts().sort_index()\n",
    "missing_data(data_2011[c])"
   ]
  },
  {
   "cell_type": "code",
   "execution_count": null,
   "metadata": {
    "collapsed": true
   },
   "outputs": [],
   "source": [
    "c = 'ESTU_REPROBO_SEXTO'\n",
    "data_2011[c].value_counts().sort_index().index\n",
    "data_2011[c].value_counts().sort_index()\n",
    "missing_data(data_2011[c])"
   ]
  },
  {
   "cell_type": "code",
   "execution_count": null,
   "metadata": {
    "collapsed": true
   },
   "outputs": [],
   "source": [
    "c = 'ESTU_REPROBO_TERCERO'\n",
    "data_2011[c].value_counts().sort_index().index\n",
    "data_2011[c].value_counts().sort_index()\n",
    "missing_data(data_2011[c])"
   ]
  },
  {
   "cell_type": "code",
   "execution_count": null,
   "metadata": {
    "collapsed": true
   },
   "outputs": [],
   "source": [
    "c = 'ESTU_REPROBO_ONCE_MAS'\n",
    "data_2011[c].value_counts().sort_index().index\n",
    "data_2011[c].value_counts().sort_index()\n",
    "missing_data(data_2011[c])"
   ]
  },
  {
   "cell_type": "code",
   "execution_count": null,
   "metadata": {
    "collapsed": true
   },
   "outputs": [],
   "source": [
    "c = 'ESTU_POR_MEJORARPOSICIONSOCIAL'\n",
    "data_2011[c].value_counts().sort_index().index\n",
    "data_2011[c].value_counts().sort_index()\n",
    "missing_data(data_2011[c])"
   ]
  },
  {
   "cell_type": "code",
   "execution_count": null,
   "metadata": {
    "collapsed": true
   },
   "outputs": [],
   "source": [
    "c = 'ESTU_POR_COLOMBIAAPRENDE'\n",
    "data_2011[c].value_counts().sort_index().index\n",
    "data_2011[c].value_counts().sort_index()\n",
    "missing_data(data_2011[c])"
   ]
  },
  {
   "cell_type": "code",
   "execution_count": null,
   "metadata": {
    "collapsed": true
   },
   "outputs": [],
   "source": [
    "c = 'ESTU_POR_INFLUENCIAALGUIEN'\n",
    "data_2011[c].value_counts().sort_index().index\n",
    "data_2011[c].value_counts().sort_index()\n",
    "missing_data(data_2011[c])"
   ]
  },
  {
   "cell_type": "code",
   "execution_count": null,
   "metadata": {
    "collapsed": true
   },
   "outputs": [],
   "source": [
    "c = 'ESTU_POR_INTERESPERSONAL'\n",
    "data_2011[c].value_counts().sort_index().index\n",
    "data_2011[c].value_counts().sort_index()\n",
    "missing_data(data_2011[c])"
   ]
  },
  {
   "cell_type": "code",
   "execution_count": null,
   "metadata": {
    "collapsed": true
   },
   "outputs": [],
   "source": [
    "c = 'ESTU_POR_BUSCANDOCARRERA'\n",
    "data_2011[c].value_counts().sort_index().index\n",
    "data_2011[c].value_counts().sort_index()\n",
    "missing_data(data_2011[c])"
   ]
  },
  {
   "cell_type": "code",
   "execution_count": null,
   "metadata": {
    "collapsed": true
   },
   "outputs": [],
   "source": [
    "c = 'ESTU_POR_TRADICIONFAMILIAR'\n",
    "data_2011[c].value_counts().sort_index().index\n",
    "data_2011[c].value_counts().sort_index()\n",
    "missing_data(data_2011[c]))"
   ]
  },
  {
   "cell_type": "code",
   "execution_count": null,
   "metadata": {
    "collapsed": true
   },
   "outputs": [],
   "source": [
    "c = 'ESTU_POR_ORIENTACIONVOCACIONAL'\n",
    "data_2011[c].value_counts().sort_index().index\n",
    "data_2011[c].value_counts().sort_index()\n",
    "missing_data(data_2011[c])"
   ]
  },
  {
   "cell_type": "code",
   "execution_count": null,
   "metadata": {
    "collapsed": true
   },
   "outputs": [],
   "source": [
    "c = 'ESTU_RAZON_RETIRO'\n",
    "data_2011[c].value_counts().sort_index().index\n",
    "data_2011[c].value_counts().sort_index()\n",
    "missing_data(data_2011[c])"
   ]
  },
  {
   "cell_type": "code",
   "execution_count": null,
   "metadata": {
    "collapsed": true
   },
   "outputs": [],
   "source": [
    "c = 'ESTU_POR_AMIGOSESTUDIANDO'\n",
    "data_2011[c].value_counts().sort_index().index\n",
    "data_2011[c].value_counts().sort_index()\n",
    "missing_data(data_2011[c])"
   ]
  },
  {
   "cell_type": "code",
   "execution_count": null,
   "metadata": {
    "collapsed": true
   },
   "outputs": [],
   "source": [
    "c = 'ESTU_POR_COSTOMATRICULA'\n",
    "data_2011[c].value_counts().sort_index().index\n",
    "data_2011[c].value_counts().sort_index()\n",
    "missing_data(data_2011[c])"
   ]
  },
  {
   "cell_type": "code",
   "execution_count": null,
   "metadata": {
    "collapsed": true
   },
   "outputs": [],
   "source": [
    "c = 'ESTU_POR_OPORTUNIDADES'\n",
    "data_2011[c].value_counts().sort_index().index\n",
    "data_2011[c].value_counts().sort_index()\n",
    "missing_data(data_2011[c])"
   ]
  },
  {
   "cell_type": "code",
   "execution_count": null,
   "metadata": {
    "collapsed": true
   },
   "outputs": [],
   "source": [
    "c = 'ESTU_POR_OTRARAZON'\n",
    "data_2011[c].value_counts().sort_index().index\n",
    "data_2011[c].value_counts().sort_index()\n",
    "missing_data(data_2011[c])"
   ]
  },
  {
   "cell_type": "code",
   "execution_count": null,
   "metadata": {
    "collapsed": true
   },
   "outputs": [],
   "source": [
    "c = 'ESTU_PRESTIGIOINSTITUCION'\n",
    "data_2011[c].value_counts().sort_index().index\n",
    "data_2011[c].value_counts().sort_index()\n",
    "missing_data(data_2011[c])"
   ]
  },
  {
   "cell_type": "code",
   "execution_count": null,
   "metadata": {
    "collapsed": true
   },
   "outputs": [],
   "source": [
    "c = 'ESTU_POR_UBICACION'\n",
    "data_2011[c].value_counts().sort_index().index\n",
    "data_2011[c].value_counts().sort_index()\n",
    "missing_data(data_2011[c])"
   ]
  },
  {
   "cell_type": "code",
   "execution_count": null,
   "metadata": {
    "collapsed": true
   },
   "outputs": [],
   "source": [
    "c = 'ESTU_POR_UNICAQUEOFRECE'\n",
    "data_2011[c].value_counts().sort_index().index\n",
    "data_2011[c].value_counts().sort_index()\n",
    "missing_data(data_2011[c])"
   ]
  },
  {
   "cell_type": "code",
   "execution_count": null,
   "metadata": {
    "collapsed": true
   },
   "outputs": [],
   "source": [
    "c = 'ESTU_RETIRARSE_COLEGIO'\n",
    "data_2011[c].value_counts().sort_index().index\n",
    "data_2011[c].value_counts().sort_index()\n",
    "missing_data(data_2011[c])"
   ]
  },
  {
   "cell_type": "code",
   "execution_count": null,
   "metadata": {
    "collapsed": true
   },
   "outputs": [],
   "source": [
    "c = 'COLE_VALOR_PENSION'\n",
    "data_2011[c].value_counts().sort_index().index\n",
    "data_2011[c].value_counts().sort_index()\n",
    "missing_data(data_2011[c])"
   ]
  },
  {
   "cell_type": "code",
   "execution_count": null,
   "metadata": {
    "collapsed": true
   },
   "outputs": [],
   "source": [
    "c = 'ESTU_VECES_ESTADO'\n",
    "data_2011[c].value_counts().sort_index().index\n",
    "data_2011[c].value_counts().sort_index()\n",
    "missing_data(data_2011[c])"
   ]
  },
  {
   "cell_type": "code",
   "execution_count": null,
   "metadata": {
    "collapsed": true
   },
   "outputs": [],
   "source": [
    "c = 'ESTU_MCPIO_PRESENTACION'\n",
    "data_2011[c].value_counts().sort_index().index\n",
    "data_2011[c].value_counts().sort_index()\n",
    "missing_data(data_2011[c])"
   ]
  },
  {
   "cell_type": "code",
   "execution_count": null,
   "metadata": {
    "collapsed": true
   },
   "outputs": [],
   "source": [
    "c = 'ESTU_DEPTO_PRESENTACION'\n",
    "data_2011[c].value_counts().sort_index().index\n",
    "data_2011[c].value_counts().sort_index()\n",
    "missing_data(data_2011[c])"
   ]
  },
  {
   "cell_type": "code",
   "execution_count": null,
   "metadata": {
    "collapsed": true
   },
   "outputs": [],
   "source": [
    "c = 'ESTU_EXAM_NOMBREEXAMEN'\n",
    "data_2011[c].value_counts().sort_index().index\n",
    "data_2011[c].value_counts().sort_index()\n",
    "missing_data(data_2011[c])"
   ]
  },
  {
   "cell_type": "code",
   "execution_count": null,
   "metadata": {
    "collapsed": true
   },
   "outputs": [],
   "source": [
    "c = 'FAMI_EDUCA_PADRE'\n",
    "data_2011[c].value_counts().sort_index().index\n",
    "data_2011[c].value_counts().sort_index()\n",
    "missing_data(data_2011[c])"
   ]
  },
  {
   "cell_type": "code",
   "execution_count": null,
   "metadata": {
    "collapsed": true
   },
   "outputs": [],
   "source": [
    "c = 'FAMI_EDUCA_MADRE'\n",
    "data_2011[c].value_counts().sort_index().index\n",
    "data_2011[c].value_counts().sort_index()\n",
    "missing_data(data_2011[c])"
   ]
  },
  {
   "cell_type": "code",
   "execution_count": null,
   "metadata": {
    "collapsed": true
   },
   "outputs": [],
   "source": [
    "c = 'FAMI_OCUPA_PADRE'\n",
    "data_2011[c].value_counts().sort_index().index\n",
    "data_2011[c].value_counts().sort_index()\n",
    "missing_data(data_2011[c])"
   ]
  },
  {
   "cell_type": "code",
   "execution_count": null,
   "metadata": {
    "collapsed": true
   },
   "outputs": [],
   "source": [
    "c = 'FAMI_OCUPA_MADRE'\n",
    "data_2011[c].value_counts().sort_index().index\n",
    "data_2011[c].value_counts().sort_index()\n",
    "missing_data(data_2011[c])"
   ]
  },
  {
   "cell_type": "code",
   "execution_count": null,
   "metadata": {
    "collapsed": true
   },
   "outputs": [],
   "source": [
    "c = 'FAMI_ESTRATO_VIVIENDA'\n",
    "data_2011[c].value_counts().sort_index().index\n",
    "data_2011[c].value_counts().sort_index()\n",
    "missing_data(data_2011[c])"
   ]
  },
  {
   "cell_type": "code",
   "execution_count": null,
   "metadata": {
    "collapsed": true
   },
   "outputs": [],
   "source": [
    "c = 'FAMI_NIVEL_SISBEN'\n",
    "data_2011[c].value_counts().sort_index().index\n",
    "data_2011[c].value_counts().sort_index()\n",
    "missing_data(data_2011[c])"
   ]
  },
  {
   "cell_type": "code",
   "execution_count": null,
   "metadata": {
    "collapsed": true
   },
   "outputs": [],
   "source": [
    "c = 'FAMI_PERSONAS_HOGAR'\n",
    "data_2011[c].value_counts().sort_index().index\n",
    "data_2011[c].value_counts().sort_index()\n",
    "missing_data(data_2011[c])"
   ]
  },
  {
   "cell_type": "code",
   "execution_count": null,
   "metadata": {
    "collapsed": true
   },
   "outputs": [],
   "source": [
    "c = 'FAMI_CUARTOS_HOGAR'\n",
    "data_2011[c].value_counts().sort_index().index\n",
    "data_2011[c].value_counts().sort_index()\n",
    "missing_data(data_2011[c])"
   ]
  },
  {
   "cell_type": "code",
   "execution_count": null,
   "metadata": {
    "collapsed": true
   },
   "outputs": [],
   "source": [
    "c = 'FAMI_PISOSHOGAR'\n",
    "data_2011[c].value_counts().sort_index().index\n",
    "data_2011[c].value_counts().sort_index()\n",
    "missing_data(data_2011[c])"
   ]
  },
  {
   "cell_type": "code",
   "execution_count": null,
   "metadata": {
    "collapsed": true
   },
   "outputs": [],
   "source": [
    "c = 'FAMI_TELEFONO_FIJO'\n",
    "data_2011[c].value_counts().sort_index().index\n",
    "data_2011[c].value_counts().sort_index()\n",
    "missing_data(data_2011[c])"
   ]
  },
  {
   "cell_type": "code",
   "execution_count": null,
   "metadata": {
    "collapsed": true
   },
   "outputs": [],
   "source": [
    "c = 'FAMI_CELULAR'\n",
    "data_2011[c].value_counts().sort_index().index\n",
    "data_2011[c].value_counts().sort_index()\n",
    "missing_data(data_2011[c])"
   ]
  },
  {
   "cell_type": "code",
   "execution_count": null,
   "metadata": {
    "collapsed": true
   },
   "outputs": [],
   "source": [
    "c = 'FAMI_INTERNET'\n",
    "data_2011[c].value_counts().sort_index().index\n",
    "data_2011[c].value_counts().sort_index()\n",
    "missing_data(data_2011[c])"
   ]
  },
  {
   "cell_type": "code",
   "execution_count": null,
   "metadata": {
    "collapsed": true
   },
   "outputs": [],
   "source": [
    "c = 'FAMI_SERVICIO_TELEVISION'\n",
    "data_2011[c].value_counts().sort_index().index\n",
    "data_2011[c].value_counts().sort_index()\n",
    "missing_data(data_2011[c])"
   ]
  },
  {
   "cell_type": "code",
   "execution_count": null,
   "metadata": {
    "collapsed": true
   },
   "outputs": [],
   "source": [
    "c = 'FAMI_COMPUTADOR'\n",
    "data_2011[c].value_counts().sort_index().index\n",
    "data_2011[c].value_counts().sort_index()\n",
    "missing_data(data_2011[c])"
   ]
  },
  {
   "cell_type": "code",
   "execution_count": null,
   "metadata": {
    "collapsed": true
   },
   "outputs": [],
   "source": [
    "c = 'FAMI_LAVADORA'\n",
    "data_2011[c].value_counts().sort_index().index\n",
    "data_2011[c].value_counts().sort_index()\n",
    "missing_data(data_2011[c])"
   ]
  },
  {
   "cell_type": "code",
   "execution_count": null,
   "metadata": {
    "collapsed": true
   },
   "outputs": [],
   "source": [
    "c = 'FAMI_NEVERA'\n",
    "data_2011[c].value_counts().sort_index().index\n",
    "data_2011[c].value_counts().sort_index()\n",
    "missing_data(data_2011[c])"
   ]
  },
  {
   "cell_type": "code",
   "execution_count": null,
   "metadata": {
    "collapsed": true
   },
   "outputs": [],
   "source": [
    "c = 'FAMI_HORNO'\n",
    "data_2011[c].value_counts().sort_index().index\n",
    "data_2011[c].value_counts().sort_index()\n",
    "missing_data(data_2011[c])"
   ]
  },
  {
   "cell_type": "code",
   "execution_count": null,
   "metadata": {
    "collapsed": true
   },
   "outputs": [],
   "source": [
    "c = 'FAMI_DVD'\n",
    "data_2011[c].value_counts().sort_index().index\n",
    "data_2011[c].value_counts().sort_index()\n",
    "missing_data(data_2011[c])"
   ]
  },
  {
   "cell_type": "code",
   "execution_count": null,
   "metadata": {
    "collapsed": true
   },
   "outputs": [],
   "source": [
    "c = 'FAMI_MICROONDAS'\n",
    "data_2011[c].value_counts().sort_index().index\n",
    "data_2011[c].value_counts().sort_index()\n",
    "missing_data(data_2011[c])"
   ]
  },
  {
   "cell_type": "code",
   "execution_count": null,
   "metadata": {
    "collapsed": true
   },
   "outputs": [],
   "source": [
    "c = 'FAMI_AUTOMOVIL'\n",
    "data_2011[c].value_counts().sort_index().index\n",
    "data_2011[c].value_counts().sort_index()\n",
    "missing_data(data_2011[c])"
   ]
  },
  {
   "cell_type": "code",
   "execution_count": null,
   "metadata": {
    "collapsed": true
   },
   "outputs": [],
   "source": [
    "c = 'FAMI_INGRESO_FMILIAR_MENSUAL'\n",
    "data_2011[c].value_counts().sort_index().index\n",
    "data_2011[c].value_counts().sort_index()\n",
    "missing_data(data_2011[c])"
   ]
  },
  {
   "cell_type": "code",
   "execution_count": null,
   "metadata": {
    "collapsed": true
   },
   "outputs": [],
   "source": [
    "c = 'ESTU_TRABAJA'\n",
    "data_2011[c].value_counts().sort_index().index\n",
    "data_2011[c].value_counts().sort_index()\n",
    "missing_data(data_2011[c])"
   ]
  },
  {
   "cell_type": "code",
   "execution_count": null,
   "metadata": {
    "collapsed": true
   },
   "outputs": [],
   "source": [
    "c = 'ESTU_HORAS_TRABAJA'\n",
    "data_2011[c].value_counts().sort_index().index\n",
    "data_2011[c].value_counts().sort_index()\n",
    "missing_data(data_2011[c])"
   ]
  },
  {
   "cell_type": "markdown",
   "metadata": {},
   "source": [
    "## TARGETS"
   ]
  },
  {
   "cell_type": "code",
   "execution_count": null,
   "metadata": {
    "collapsed": true
   },
   "outputs": [],
   "source": [
    "c = 'PUNT_LENGUAJE'\n",
    "data_2011[c].value_counts().sort_index().index\n",
    "data_2011[c].value_counts().sort_index()\n",
    "missing_data(data_2011[c])"
   ]
  },
  {
   "cell_type": "code",
   "execution_count": null,
   "metadata": {
    "collapsed": true
   },
   "outputs": [],
   "source": [
    "c = 'PUNT_MATEMATICAS'\n",
    "data_2011[c].value_counts().sort_index().index\n",
    "data_2011[c].value_counts().sort_index()\n",
    "missing_data(data_2011[c])"
   ]
  },
  {
   "cell_type": "code",
   "execution_count": null,
   "metadata": {
    "collapsed": true
   },
   "outputs": [],
   "source": [
    "c = 'PUNT_C_SOCIALES'\n",
    "data_2011[c].value_counts().sort_index().index\n",
    "data_2011[c].value_counts().sort_index()\n",
    "missing_data(data_2011[c])"
   ]
  },
  {
   "cell_type": "code",
   "execution_count": null,
   "metadata": {
    "collapsed": true
   },
   "outputs": [],
   "source": [
    "c = 'PUNT_FILOSOFIA'\n",
    "data_2011[c].value_counts().sort_index().index\n",
    "data_2011[c].value_counts().sort_index()\n",
    "missing_data(data_2011[c])"
   ]
  },
  {
   "cell_type": "code",
   "execution_count": null,
   "metadata": {
    "collapsed": true
   },
   "outputs": [],
   "source": [
    "c = 'PUNT_BIOLOGIA'\n",
    "data_2011[c].value_counts().sort_index().index\n",
    "data_2011[c].value_counts().sort_index()\n",
    "missing_data(data_2011[c])"
   ]
  },
  {
   "cell_type": "code",
   "execution_count": null,
   "metadata": {
    "collapsed": true
   },
   "outputs": [],
   "source": [
    "c = 'PUNT_QUIMICA'\n",
    "data_2011[c].value_counts().sort_index().index\n",
    "data_2011[c].value_counts().sort_index()\n",
    "missing_data(data_2011[c])"
   ]
  },
  {
   "cell_type": "code",
   "execution_count": null,
   "metadata": {
    "collapsed": true
   },
   "outputs": [],
   "source": [
    "c = 'PUNT_FISICA'\n",
    "data_2011[c].value_counts().sort_index().index\n",
    "data_2011[c].value_counts().sort_index()\n",
    "missing_data(data_2011[c])"
   ]
  },
  {
   "cell_type": "code",
   "execution_count": null,
   "metadata": {
    "collapsed": true
   },
   "outputs": [],
   "source": [
    "c = 'PUNT_INGLES'\n",
    "data_2011[c].value_counts().sort_index().index\n",
    "data_2011[c].value_counts().sort_index()\n",
    "missing_data(data_2011[c])"
   ]
  },
  {
   "cell_type": "code",
   "execution_count": null,
   "metadata": {
    "collapsed": true
   },
   "outputs": [],
   "source": [
    "c = 'DESEMP_INGLES'\n",
    "data_2011[c].value_counts().sort_index().index\n",
    "data_2011[c].value_counts().sort_index()\n",
    "missing_data(data_2011[c])"
   ]
  },
  {
   "cell_type": "code",
   "execution_count": null,
   "metadata": {
    "collapsed": true
   },
   "outputs": [],
   "source": [
    "c = 'NOMBRE_COMP_FLEXIBLE'\n",
    "data_2011[c].value_counts().sort_index().index\n",
    "data_2011[c].value_counts().sort_index()\n",
    "missing_data(data_2011[c])"
   ]
  },
  {
   "cell_type": "code",
   "execution_count": null,
   "metadata": {
    "collapsed": true
   },
   "outputs": [],
   "source": [
    "c = 'PUNT_COMP_FLEXIBLE'\n",
    "data_2011[c].value_counts().sort_index().index\n",
    "data_2011[c].value_counts().sort_index()\n",
    "missing_data(data_2011[c])"
   ]
  },
  {
   "cell_type": "code",
   "execution_count": null,
   "metadata": {
    "collapsed": true
   },
   "outputs": [],
   "source": [
    "c = 'DESEMP_COMP_FLEXIBLE'\n",
    "data_2011[c].value_counts().sort_index().index\n",
    "data_2011[c].value_counts().sort_index()\n",
    "missing_data(data_2011[c])"
   ]
  },
  {
   "cell_type": "code",
   "execution_count": null,
   "metadata": {
    "collapsed": false
   },
   "outputs": [],
   "source": [
    "c = 'ESTU_PUESTO'\n",
    "data_2011[c].value_counts().sort_index().index\n",
    "data_2011[c].value_counts().sort_index()\n",
    "missing_data(data_2011[c])"
   ]
  },
  {
   "cell_type": "markdown",
   "metadata": {},
   "source": [
    "## FILE 2: 2011_2"
   ]
  },
  {
   "cell_type": "code",
   "execution_count": 3,
   "metadata": {
    "collapsed": false
   },
   "outputs": [
    {
     "name": "stderr",
     "output_type": "stream",
     "text": [
      "/usr/local/lib/python3.4/dist-packages/IPython/core/interactiveshell.py:2902: DtypeWarning: Columns (10,11,12,14,15,24,101,102,103,104,105,106,107,108,111) have mixed types. Specify dtype option on import or set low_memory=False.\n",
      "  interactivity=interactivity, compiler=compiler, result=result)\n"
     ]
    }
   ],
   "source": [
    "data_2011_2 = pd.read_csv('../DatosFTPICFES/SABER11/SB11-BASES_DE_DATOS/SB11-20112-RGSTRO-CLFCCN-V1-0.txt', delimiter='|')"
   ]
  },
  {
   "cell_type": "code",
   "execution_count": 4,
   "metadata": {
    "collapsed": false
   },
   "outputs": [
    {
     "data": {
      "text/plain": [
       "(564171, 114)"
      ]
     },
     "execution_count": 4,
     "metadata": {},
     "output_type": "execute_result"
    }
   ],
   "source": [
    "data_2011_2.shape"
   ]
  },
  {
   "cell_type": "code",
   "execution_count": 5,
   "metadata": {
    "collapsed": false,
    "scrolled": true
   },
   "outputs": [
    {
     "data": {
      "text/html": [
       "<div>\n",
       "<table border=\"1\" class=\"dataframe\">\n",
       "  <thead>\n",
       "    <tr style=\"text-align: right;\">\n",
       "      <th></th>\n",
       "      <th>0</th>\n",
       "      <th>1</th>\n",
       "      <th>2</th>\n",
       "    </tr>\n",
       "  </thead>\n",
       "  <tbody>\n",
       "    <tr>\n",
       "      <th>ESTU_CONSECUTIVO</th>\n",
       "      <td>SABER1120112000001</td>\n",
       "      <td>SABER1120112000002</td>\n",
       "      <td>SABER1120112000003</td>\n",
       "    </tr>\n",
       "    <tr>\n",
       "      <th>PERIODO</th>\n",
       "      <td>20112</td>\n",
       "      <td>20112</td>\n",
       "      <td>20112</td>\n",
       "    </tr>\n",
       "    <tr>\n",
       "      <th>ESTU_TIPO_DOCUMENTO</th>\n",
       "      <td>T</td>\n",
       "      <td>T</td>\n",
       "      <td>T</td>\n",
       "    </tr>\n",
       "    <tr>\n",
       "      <th>ESTU_PAIS_RESIDE</th>\n",
       "      <td>CO</td>\n",
       "      <td>CO</td>\n",
       "      <td>CO</td>\n",
       "    </tr>\n",
       "    <tr>\n",
       "      <th>ESTU_GENERO</th>\n",
       "      <td>F</td>\n",
       "      <td>F</td>\n",
       "      <td>M</td>\n",
       "    </tr>\n",
       "    <tr>\n",
       "      <th>ESTU_NACIMIENTO_DIA</th>\n",
       "      <td>7</td>\n",
       "      <td>18</td>\n",
       "      <td>13</td>\n",
       "    </tr>\n",
       "    <tr>\n",
       "      <th>ESTU_NACIMIENTO_MES</th>\n",
       "      <td>2</td>\n",
       "      <td>3</td>\n",
       "      <td>3</td>\n",
       "    </tr>\n",
       "    <tr>\n",
       "      <th>ESTU_NACIMIENTO_ANNO</th>\n",
       "      <td>1995</td>\n",
       "      <td>2001</td>\n",
       "      <td>1994</td>\n",
       "    </tr>\n",
       "    <tr>\n",
       "      <th>ESTU_EDAD</th>\n",
       "      <td>16</td>\n",
       "      <td>10</td>\n",
       "      <td>17</td>\n",
       "    </tr>\n",
       "    <tr>\n",
       "      <th>ESTU_LIMITA_BAJAVISION</th>\n",
       "      <td>NaN</td>\n",
       "      <td>NaN</td>\n",
       "      <td>NaN</td>\n",
       "    </tr>\n",
       "    <tr>\n",
       "      <th>ESTU_LIMITA_SORDOCEGUERA</th>\n",
       "      <td>NaN</td>\n",
       "      <td>NaN</td>\n",
       "      <td>NaN</td>\n",
       "    </tr>\n",
       "    <tr>\n",
       "      <th>ESTU_LIMITA_COGNITIVA</th>\n",
       "      <td>NaN</td>\n",
       "      <td>NaN</td>\n",
       "      <td>NaN</td>\n",
       "    </tr>\n",
       "    <tr>\n",
       "      <th>ESTU_LIMITA_INVIDENTE</th>\n",
       "      <td>NaN</td>\n",
       "      <td>NaN</td>\n",
       "      <td>NaN</td>\n",
       "    </tr>\n",
       "    <tr>\n",
       "      <th>ESTU_LIMITA_MOTRIZ</th>\n",
       "      <td>NaN</td>\n",
       "      <td>NaN</td>\n",
       "      <td>NaN</td>\n",
       "    </tr>\n",
       "    <tr>\n",
       "      <th>ESTU_LIMITA_SORDOINTERPRETE</th>\n",
       "      <td>NaN</td>\n",
       "      <td>NaN</td>\n",
       "      <td>NaN</td>\n",
       "    </tr>\n",
       "    <tr>\n",
       "      <th>ESTU_LIMITA_SORDONOINTERPRETE</th>\n",
       "      <td>NaN</td>\n",
       "      <td>NaN</td>\n",
       "      <td>NaN</td>\n",
       "    </tr>\n",
       "    <tr>\n",
       "      <th>ESTU_ETNIA</th>\n",
       "      <td>NaN</td>\n",
       "      <td>NaN</td>\n",
       "      <td>NaN</td>\n",
       "    </tr>\n",
       "    <tr>\n",
       "      <th>ESTU_COD_RESIDE_MCPIO</th>\n",
       "      <td>11001</td>\n",
       "      <td>54001</td>\n",
       "      <td>18029</td>\n",
       "    </tr>\n",
       "    <tr>\n",
       "      <th>ESTU_RESIDE_MCPIO</th>\n",
       "      <td>BOGOTÁ D.C.</td>\n",
       "      <td>CUCUTA</td>\n",
       "      <td>ALBANIA</td>\n",
       "    </tr>\n",
       "    <tr>\n",
       "      <th>ESTU_RESIDE_DEPTO</th>\n",
       "      <td>BOGOTÁ</td>\n",
       "      <td>NORTE SANTANDER</td>\n",
       "      <td>CAQUETÁ</td>\n",
       "    </tr>\n",
       "    <tr>\n",
       "      <th>ESTU_ZONA_RESIDE</th>\n",
       "      <td>4</td>\n",
       "      <td>10</td>\n",
       "      <td>10</td>\n",
       "    </tr>\n",
       "    <tr>\n",
       "      <th>ESTU_AREA_RESIDE</th>\n",
       "      <td>1</td>\n",
       "      <td>1</td>\n",
       "      <td>1</td>\n",
       "    </tr>\n",
       "    <tr>\n",
       "      <th>IND_COD_ICFES_TERMINO</th>\n",
       "      <td>109488</td>\n",
       "      <td>92353</td>\n",
       "      <td>45716</td>\n",
       "    </tr>\n",
       "    <tr>\n",
       "      <th>COLE_COD_ICFES</th>\n",
       "      <td>109488</td>\n",
       "      <td>92353</td>\n",
       "      <td>45716</td>\n",
       "    </tr>\n",
       "    <tr>\n",
       "      <th>COLE_COD_DANE_INSTITUCION</th>\n",
       "      <td>1.11001e+11</td>\n",
       "      <td>3.54001e+11</td>\n",
       "      <td>1.83029e+11</td>\n",
       "    </tr>\n",
       "    <tr>\n",
       "      <th>COLE_NOMBRE_SEDE</th>\n",
       "      <td>CENT EDUC DIST ALEJANDRO OBREGON</td>\n",
       "      <td>COL TEC MARIA GORETTI</td>\n",
       "      <td>SAN CARLOS</td>\n",
       "    </tr>\n",
       "    <tr>\n",
       "      <th>COLE_CALENDARIO</th>\n",
       "      <td>A</td>\n",
       "      <td>A</td>\n",
       "      <td>A</td>\n",
       "    </tr>\n",
       "    <tr>\n",
       "      <th>COLE_GENERO</th>\n",
       "      <td>X</td>\n",
       "      <td>X</td>\n",
       "      <td>X</td>\n",
       "    </tr>\n",
       "    <tr>\n",
       "      <th>COLE_NATURALEZA</th>\n",
       "      <td>O</td>\n",
       "      <td>N</td>\n",
       "      <td>O</td>\n",
       "    </tr>\n",
       "    <tr>\n",
       "      <th>COLE_BILINGUE</th>\n",
       "      <td>0</td>\n",
       "      <td>0</td>\n",
       "      <td>1</td>\n",
       "    </tr>\n",
       "    <tr>\n",
       "      <th>...</th>\n",
       "      <td>...</td>\n",
       "      <td>...</td>\n",
       "      <td>...</td>\n",
       "    </tr>\n",
       "    <tr>\n",
       "      <th>FAMI_PERSONAS_HOGAR</th>\n",
       "      <td>7</td>\n",
       "      <td>3</td>\n",
       "      <td>6</td>\n",
       "    </tr>\n",
       "    <tr>\n",
       "      <th>FAMI_CUARTOS_HOGAR</th>\n",
       "      <td>NaN</td>\n",
       "      <td>NaN</td>\n",
       "      <td>NaN</td>\n",
       "    </tr>\n",
       "    <tr>\n",
       "      <th>FAMI_PISOSHOGAR</th>\n",
       "      <td>4</td>\n",
       "      <td>2</td>\n",
       "      <td>2</td>\n",
       "    </tr>\n",
       "    <tr>\n",
       "      <th>FAMI_TELEFONO_FIJO</th>\n",
       "      <td>1</td>\n",
       "      <td>0</td>\n",
       "      <td>0</td>\n",
       "    </tr>\n",
       "    <tr>\n",
       "      <th>FAMI_CELULAR</th>\n",
       "      <td>1</td>\n",
       "      <td>1</td>\n",
       "      <td>1</td>\n",
       "    </tr>\n",
       "    <tr>\n",
       "      <th>FAMI_INTERNET</th>\n",
       "      <td>0</td>\n",
       "      <td>0</td>\n",
       "      <td>0</td>\n",
       "    </tr>\n",
       "    <tr>\n",
       "      <th>FAMI_SERVICIO_TELEVISION</th>\n",
       "      <td>1</td>\n",
       "      <td>0</td>\n",
       "      <td>0</td>\n",
       "    </tr>\n",
       "    <tr>\n",
       "      <th>FAMI_COMPUTADOR</th>\n",
       "      <td>3</td>\n",
       "      <td>0</td>\n",
       "      <td>3</td>\n",
       "    </tr>\n",
       "    <tr>\n",
       "      <th>FAMI_LAVADORA</th>\n",
       "      <td>1</td>\n",
       "      <td>0</td>\n",
       "      <td>1</td>\n",
       "    </tr>\n",
       "    <tr>\n",
       "      <th>FAMI_NEVERA</th>\n",
       "      <td>1</td>\n",
       "      <td>1</td>\n",
       "      <td>1</td>\n",
       "    </tr>\n",
       "    <tr>\n",
       "      <th>FAMI_HORNO</th>\n",
       "      <td>1</td>\n",
       "      <td>0</td>\n",
       "      <td>0</td>\n",
       "    </tr>\n",
       "    <tr>\n",
       "      <th>FAMI_DVD</th>\n",
       "      <td>1</td>\n",
       "      <td>1</td>\n",
       "      <td>0</td>\n",
       "    </tr>\n",
       "    <tr>\n",
       "      <th>FAMI_MICROONDAS</th>\n",
       "      <td>1</td>\n",
       "      <td>0</td>\n",
       "      <td>0</td>\n",
       "    </tr>\n",
       "    <tr>\n",
       "      <th>FAMI_AUTOMOVIL</th>\n",
       "      <td>0</td>\n",
       "      <td>0</td>\n",
       "      <td>0</td>\n",
       "    </tr>\n",
       "    <tr>\n",
       "      <th>FAMI_INGRESO_FMILIAR_MENSUAL</th>\n",
       "      <td>3</td>\n",
       "      <td>1</td>\n",
       "      <td>2</td>\n",
       "    </tr>\n",
       "    <tr>\n",
       "      <th>ESTU_TRABAJA</th>\n",
       "      <td>6</td>\n",
       "      <td>0</td>\n",
       "      <td>0</td>\n",
       "    </tr>\n",
       "    <tr>\n",
       "      <th>ESTU_HORAS_TRABAJA</th>\n",
       "      <td>NaN</td>\n",
       "      <td>NaN</td>\n",
       "      <td>NaN</td>\n",
       "    </tr>\n",
       "    <tr>\n",
       "      <th>PUNT_LENGUAJE</th>\n",
       "      <td>39</td>\n",
       "      <td>33</td>\n",
       "      <td>57</td>\n",
       "    </tr>\n",
       "    <tr>\n",
       "      <th>PUNT_MATEMATICAS</th>\n",
       "      <td>49</td>\n",
       "      <td>31</td>\n",
       "      <td>55</td>\n",
       "    </tr>\n",
       "    <tr>\n",
       "      <th>PUNT_C_SOCIALES</th>\n",
       "      <td>44</td>\n",
       "      <td>25</td>\n",
       "      <td>54</td>\n",
       "    </tr>\n",
       "    <tr>\n",
       "      <th>PUNT_FILOSOFIA</th>\n",
       "      <td>37</td>\n",
       "      <td>33</td>\n",
       "      <td>54</td>\n",
       "    </tr>\n",
       "    <tr>\n",
       "      <th>PUNT_BIOLOGIA</th>\n",
       "      <td>48</td>\n",
       "      <td>41</td>\n",
       "      <td>55</td>\n",
       "    </tr>\n",
       "    <tr>\n",
       "      <th>PUNT_QUIMICA</th>\n",
       "      <td>47</td>\n",
       "      <td>38</td>\n",
       "      <td>41</td>\n",
       "    </tr>\n",
       "    <tr>\n",
       "      <th>PUNT_FISICA</th>\n",
       "      <td>45</td>\n",
       "      <td>45</td>\n",
       "      <td>49</td>\n",
       "    </tr>\n",
       "    <tr>\n",
       "      <th>PUNT_INGLES</th>\n",
       "      <td>41</td>\n",
       "      <td>43</td>\n",
       "      <td>45</td>\n",
       "    </tr>\n",
       "    <tr>\n",
       "      <th>DESEMP_INGLES</th>\n",
       "      <td>A-</td>\n",
       "      <td>A1</td>\n",
       "      <td>A1</td>\n",
       "    </tr>\n",
       "    <tr>\n",
       "      <th>NOMBRE_COMP_FLEXIBLE</th>\n",
       "      <td>PROFUNDIZACIÓN EN LENGUAJE</td>\n",
       "      <td>VIOLENCIA Y SOCIEDAD</td>\n",
       "      <td>VIOLENCIA Y SOCIEDAD</td>\n",
       "    </tr>\n",
       "    <tr>\n",
       "      <th>PUNT_COMP_FLEXIBLE</th>\n",
       "      <td>4</td>\n",
       "      <td>45</td>\n",
       "      <td>45</td>\n",
       "    </tr>\n",
       "    <tr>\n",
       "      <th>DESEMP_COMP_FLEXIBLE</th>\n",
       "      <td>GB</td>\n",
       "      <td>NaN</td>\n",
       "      <td>NaN</td>\n",
       "    </tr>\n",
       "    <tr>\n",
       "      <th>ESTU_PUESTO</th>\n",
       "      <td>427</td>\n",
       "      <td>903</td>\n",
       "      <td>145</td>\n",
       "    </tr>\n",
       "  </tbody>\n",
       "</table>\n",
       "<p>114 rows × 3 columns</p>\n",
       "</div>"
      ],
      "text/plain": [
       "                                                              0  \\\n",
       "ESTU_CONSECUTIVO                             SABER1120112000001   \n",
       "PERIODO                                                   20112   \n",
       "ESTU_TIPO_DOCUMENTO                                           T   \n",
       "ESTU_PAIS_RESIDE                                             CO   \n",
       "ESTU_GENERO                                                   F   \n",
       "ESTU_NACIMIENTO_DIA                                           7   \n",
       "ESTU_NACIMIENTO_MES                                           2   \n",
       "ESTU_NACIMIENTO_ANNO                                       1995   \n",
       "ESTU_EDAD                                                    16   \n",
       "ESTU_LIMITA_BAJAVISION                                      NaN   \n",
       "ESTU_LIMITA_SORDOCEGUERA                                    NaN   \n",
       "ESTU_LIMITA_COGNITIVA                                       NaN   \n",
       "ESTU_LIMITA_INVIDENTE                                       NaN   \n",
       "ESTU_LIMITA_MOTRIZ                                          NaN   \n",
       "ESTU_LIMITA_SORDOINTERPRETE                                 NaN   \n",
       "ESTU_LIMITA_SORDONOINTERPRETE                               NaN   \n",
       "ESTU_ETNIA                                                  NaN   \n",
       "ESTU_COD_RESIDE_MCPIO                                     11001   \n",
       "ESTU_RESIDE_MCPIO                                   BOGOTÁ D.C.   \n",
       "ESTU_RESIDE_DEPTO                                        BOGOTÁ   \n",
       "ESTU_ZONA_RESIDE                                              4   \n",
       "ESTU_AREA_RESIDE                                              1   \n",
       "IND_COD_ICFES_TERMINO                                    109488   \n",
       "COLE_COD_ICFES                                           109488   \n",
       "COLE_COD_DANE_INSTITUCION                           1.11001e+11   \n",
       "COLE_NOMBRE_SEDE               CENT EDUC DIST ALEJANDRO OBREGON   \n",
       "COLE_CALENDARIO                                               A   \n",
       "COLE_GENERO                                                   X   \n",
       "COLE_NATURALEZA                                               O   \n",
       "COLE_BILINGUE                                                 0   \n",
       "...                                                         ...   \n",
       "FAMI_PERSONAS_HOGAR                                           7   \n",
       "FAMI_CUARTOS_HOGAR                                          NaN   \n",
       "FAMI_PISOSHOGAR                                               4   \n",
       "FAMI_TELEFONO_FIJO                                            1   \n",
       "FAMI_CELULAR                                                  1   \n",
       "FAMI_INTERNET                                                 0   \n",
       "FAMI_SERVICIO_TELEVISION                                      1   \n",
       "FAMI_COMPUTADOR                                               3   \n",
       "FAMI_LAVADORA                                                 1   \n",
       "FAMI_NEVERA                                                   1   \n",
       "FAMI_HORNO                                                    1   \n",
       "FAMI_DVD                                                      1   \n",
       "FAMI_MICROONDAS                                               1   \n",
       "FAMI_AUTOMOVIL                                                0   \n",
       "FAMI_INGRESO_FMILIAR_MENSUAL                                  3   \n",
       "ESTU_TRABAJA                                                  6   \n",
       "ESTU_HORAS_TRABAJA                                          NaN   \n",
       "PUNT_LENGUAJE                                                39   \n",
       "PUNT_MATEMATICAS                                             49   \n",
       "PUNT_C_SOCIALES                                              44   \n",
       "PUNT_FILOSOFIA                                               37   \n",
       "PUNT_BIOLOGIA                                                48   \n",
       "PUNT_QUIMICA                                                 47   \n",
       "PUNT_FISICA                                                  45   \n",
       "PUNT_INGLES                                                  41   \n",
       "DESEMP_INGLES                                                A-   \n",
       "NOMBRE_COMP_FLEXIBLE                 PROFUNDIZACIÓN EN LENGUAJE   \n",
       "PUNT_COMP_FLEXIBLE                                            4   \n",
       "DESEMP_COMP_FLEXIBLE                                         GB   \n",
       "ESTU_PUESTO                                                 427   \n",
       "\n",
       "                                                   1                     2  \n",
       "ESTU_CONSECUTIVO                  SABER1120112000002    SABER1120112000003  \n",
       "PERIODO                                        20112                 20112  \n",
       "ESTU_TIPO_DOCUMENTO                                T                     T  \n",
       "ESTU_PAIS_RESIDE                                  CO                    CO  \n",
       "ESTU_GENERO                                        F                     M  \n",
       "ESTU_NACIMIENTO_DIA                               18                    13  \n",
       "ESTU_NACIMIENTO_MES                                3                     3  \n",
       "ESTU_NACIMIENTO_ANNO                            2001                  1994  \n",
       "ESTU_EDAD                                         10                    17  \n",
       "ESTU_LIMITA_BAJAVISION                           NaN                   NaN  \n",
       "ESTU_LIMITA_SORDOCEGUERA                         NaN                   NaN  \n",
       "ESTU_LIMITA_COGNITIVA                            NaN                   NaN  \n",
       "ESTU_LIMITA_INVIDENTE                            NaN                   NaN  \n",
       "ESTU_LIMITA_MOTRIZ                               NaN                   NaN  \n",
       "ESTU_LIMITA_SORDOINTERPRETE                      NaN                   NaN  \n",
       "ESTU_LIMITA_SORDONOINTERPRETE                    NaN                   NaN  \n",
       "ESTU_ETNIA                                       NaN                   NaN  \n",
       "ESTU_COD_RESIDE_MCPIO                          54001                 18029  \n",
       "ESTU_RESIDE_MCPIO                             CUCUTA               ALBANIA  \n",
       "ESTU_RESIDE_DEPTO                    NORTE SANTANDER               CAQUETÁ  \n",
       "ESTU_ZONA_RESIDE                                  10                    10  \n",
       "ESTU_AREA_RESIDE                                   1                     1  \n",
       "IND_COD_ICFES_TERMINO                          92353                 45716  \n",
       "COLE_COD_ICFES                                 92353                 45716  \n",
       "COLE_COD_DANE_INSTITUCION                3.54001e+11           1.83029e+11  \n",
       "COLE_NOMBRE_SEDE               COL TEC MARIA GORETTI            SAN CARLOS  \n",
       "COLE_CALENDARIO                                    A                     A  \n",
       "COLE_GENERO                                        X                     X  \n",
       "COLE_NATURALEZA                                    N                     O  \n",
       "COLE_BILINGUE                                      0                     1  \n",
       "...                                              ...                   ...  \n",
       "FAMI_PERSONAS_HOGAR                                3                     6  \n",
       "FAMI_CUARTOS_HOGAR                               NaN                   NaN  \n",
       "FAMI_PISOSHOGAR                                    2                     2  \n",
       "FAMI_TELEFONO_FIJO                                 0                     0  \n",
       "FAMI_CELULAR                                       1                     1  \n",
       "FAMI_INTERNET                                      0                     0  \n",
       "FAMI_SERVICIO_TELEVISION                           0                     0  \n",
       "FAMI_COMPUTADOR                                    0                     3  \n",
       "FAMI_LAVADORA                                      0                     1  \n",
       "FAMI_NEVERA                                        1                     1  \n",
       "FAMI_HORNO                                         0                     0  \n",
       "FAMI_DVD                                           1                     0  \n",
       "FAMI_MICROONDAS                                    0                     0  \n",
       "FAMI_AUTOMOVIL                                     0                     0  \n",
       "FAMI_INGRESO_FMILIAR_MENSUAL                       1                     2  \n",
       "ESTU_TRABAJA                                       0                     0  \n",
       "ESTU_HORAS_TRABAJA                               NaN                   NaN  \n",
       "PUNT_LENGUAJE                                     33                    57  \n",
       "PUNT_MATEMATICAS                                  31                    55  \n",
       "PUNT_C_SOCIALES                                   25                    54  \n",
       "PUNT_FILOSOFIA                                    33                    54  \n",
       "PUNT_BIOLOGIA                                     41                    55  \n",
       "PUNT_QUIMICA                                      38                    41  \n",
       "PUNT_FISICA                                       45                    49  \n",
       "PUNT_INGLES                                       43                    45  \n",
       "DESEMP_INGLES                                     A1                    A1  \n",
       "NOMBRE_COMP_FLEXIBLE            VIOLENCIA Y SOCIEDAD  VIOLENCIA Y SOCIEDAD  \n",
       "PUNT_COMP_FLEXIBLE                                45                    45  \n",
       "DESEMP_COMP_FLEXIBLE                             NaN                   NaN  \n",
       "ESTU_PUESTO                                      903                   145  \n",
       "\n",
       "[114 rows x 3 columns]"
      ]
     },
     "execution_count": 5,
     "metadata": {},
     "output_type": "execute_result"
    }
   ],
   "source": [
    "data_2011_2.head(3).T"
   ]
  },
  {
   "cell_type": "code",
   "execution_count": 7,
   "metadata": {
    "collapsed": true
   },
   "outputs": [],
   "source": [
    "data_2011_2 = data_2011_2.drop(['ESTU_CONSECUTIVO', 'PERIODO', 'ESTU_TIPO_DOCUMENTO', 'ESTU_COD_RESIDE_MCPIO',\n",
    "                               'ESTU_IES_DESEADA_NOMBRE', 'ESTU_IES_COD_MPIO_DESEADA', 'ESTU_COD_MCPIO_PRESENTACION'], axis=1)"
   ]
  },
  {
   "cell_type": "code",
   "execution_count": null,
   "metadata": {
    "collapsed": true
   },
   "outputs": [],
   "source": [
    "c = 'ESTU_PAIS_RESIDE'\n",
    "data_2011_2[c].value_counts().sort_index().index\n",
    "data_2011_2[c].value_counts().sort_index()\n",
    "missing_data(data_2011_2[c])"
   ]
  },
  {
   "cell_type": "code",
   "execution_count": null,
   "metadata": {
    "collapsed": true
   },
   "outputs": [],
   "source": [
    "c = 'ESTU_GENERO'\n",
    "data_2011_2[c].value_counts().sort_index().index\n",
    "data_2011_2[c].value_counts().sort_index()\n",
    "missing_data(data_2011_2[c])"
   ]
  },
  {
   "cell_type": "code",
   "execution_count": null,
   "metadata": {
    "collapsed": true
   },
   "outputs": [],
   "source": [
    "c = 'ESTU_NACIMIENTO_DIA'\n",
    "data_2011_2[c].value_counts().sort_index().index\n",
    "data_2011_2[c].value_counts().sort_index()\n",
    "missing_data(data_2011_2[c])"
   ]
  },
  {
   "cell_type": "code",
   "execution_count": null,
   "metadata": {
    "collapsed": true
   },
   "outputs": [],
   "source": [
    "c = 'ESTU_NACIMIENTO_MES'\n",
    "data_2011_2[c].value_counts().sort_index().index\n",
    "data_2011_2[c].value_counts().sort_index()\n",
    "missing_data(data_2011_2[c])"
   ]
  },
  {
   "cell_type": "code",
   "execution_count": null,
   "metadata": {
    "collapsed": true
   },
   "outputs": [],
   "source": [
    "c = 'ESTU_NACIMIENTO_ANNO'\n",
    "data_2011_2[c].value_counts().sort_index().index\n",
    "data_2011_2[c].value_counts().sort_index()\n",
    "missing_data(data_2011_2[c])"
   ]
  },
  {
   "cell_type": "code",
   "execution_count": null,
   "metadata": {
    "collapsed": true
   },
   "outputs": [],
   "source": [
    "c = 'ESTU_EDAD'\n",
    "data_2011_2[c].value_counts().sort_index().index\n",
    "data_2011_2[c].value_counts().sort_index()\n",
    "missing_data(data_2011_2[c])"
   ]
  },
  {
   "cell_type": "code",
   "execution_count": null,
   "metadata": {
    "collapsed": true
   },
   "outputs": [],
   "source": [
    "c = 'ESTU_LIMITA_BAJAVISION'\n",
    "data_2011_2[c].value_counts().sort_index().index\n",
    "data_2011_2[c].value_counts().sort_index()\n",
    "missing_data(data_2011_2[c])"
   ]
  },
  {
   "cell_type": "code",
   "execution_count": null,
   "metadata": {
    "collapsed": true
   },
   "outputs": [],
   "source": [
    "c = 'ESTU_LIMITA_SORDOCEGUERA'\n",
    "data_2011_2[c].value_counts().sort_index().index\n",
    "data_2011_2[c].value_counts().sort_index()\n",
    "missing_data(data_2011_2[c])"
   ]
  },
  {
   "cell_type": "code",
   "execution_count": null,
   "metadata": {
    "collapsed": true
   },
   "outputs": [],
   "source": [
    "c = 'ESTU_LIMITA_COGNITIVA'\n",
    "data_2011_2[c].value_counts().sort_index().index\n",
    "data_2011_2[c].value_counts().sort_index()\n",
    "missing_data(data_2011_2[c])"
   ]
  },
  {
   "cell_type": "code",
   "execution_count": null,
   "metadata": {
    "collapsed": true
   },
   "outputs": [],
   "source": [
    "c = 'ESTU_LIMITA_INVIDENTE'\n",
    "data_2011_2[c].value_counts().sort_index().index\n",
    "data_2011_2[c].value_counts().sort_index()\n",
    "missing_data(data_2011_2[c])"
   ]
  },
  {
   "cell_type": "code",
   "execution_count": null,
   "metadata": {
    "collapsed": true
   },
   "outputs": [],
   "source": [
    "c = 'ESTU_LIMITA_MOTRIZ'\n",
    "data_2011_2[c].value_counts().sort_index().index\n",
    "data_2011_2[c].value_counts().sort_index()\n",
    "missing_data(data_2011_2[c])"
   ]
  },
  {
   "cell_type": "code",
   "execution_count": null,
   "metadata": {
    "collapsed": true
   },
   "outputs": [],
   "source": [
    "c = 'ESTU_LIMITA_SORDOINTERPRETE'\n",
    "data_2011_2[c].value_counts().sort_index().index\n",
    "data_2011_2[c].value_counts().sort_index()\n",
    "missing_data(data_2011_2[c])"
   ]
  },
  {
   "cell_type": "code",
   "execution_count": null,
   "metadata": {
    "collapsed": true
   },
   "outputs": [],
   "source": [
    "c = 'ESTU_LIMITA_SORDONOINTERPRETE'\n",
    "data_2011_2[c].value_counts().sort_index().index\n",
    "data_2011_2[c].value_counts().sort_index()\n",
    "missing_data(data_2011_2[c])"
   ]
  },
  {
   "cell_type": "code",
   "execution_count": null,
   "metadata": {
    "collapsed": true
   },
   "outputs": [],
   "source": [
    "c = 'ESTU_ETNIA'\n",
    "data_2011_2[c].value_counts().sort_index().index\n",
    "data_2011_2[c].value_counts().sort_index()\n",
    "missing_data(data_2011_2[c])"
   ]
  },
  {
   "cell_type": "code",
   "execution_count": null,
   "metadata": {
    "collapsed": true
   },
   "outputs": [],
   "source": [
    "c = 'ESTU_RESIDE_MCPIO'\n",
    "data_2011_2[c].value_counts().sort_index().index\n",
    "data_2011_2[c].value_counts().sort_index()\n",
    "missing_data(data_2011_2[c])"
   ]
  },
  {
   "cell_type": "code",
   "execution_count": null,
   "metadata": {
    "collapsed": true
   },
   "outputs": [],
   "source": [
    "c = 'ESTU_RESIDE_DEPTO'\n",
    "data_2011_2[c].value_counts().sort_index().index\n",
    "data_2011_2[c].value_counts().sort_index()\n",
    "missing_data(data_2011_2[c])"
   ]
  },
  {
   "cell_type": "code",
   "execution_count": null,
   "metadata": {
    "collapsed": true
   },
   "outputs": [],
   "source": [
    "c = 'ESTU_ZONA_RESIDE'\n",
    "data_2011_2[c].value_counts().sort_index().index\n",
    "data_2011_2[c].value_counts().sort_index()\n",
    "missing_data(data_2011_2[c])"
   ]
  },
  {
   "cell_type": "code",
   "execution_count": null,
   "metadata": {
    "collapsed": true
   },
   "outputs": [],
   "source": [
    "c = 'ESTU_AREA_RESIDE'\n",
    "data_2011_2[c].value_counts().sort_index().index\n",
    "data_2011_2[c].value_counts().sort_index()\n",
    "missing_data(data_2011_2[c])"
   ]
  },
  {
   "cell_type": "code",
   "execution_count": null,
   "metadata": {
    "collapsed": true
   },
   "outputs": [],
   "source": [
    "c = 'IND_COD_ICFES_TERMINO'\n",
    "data_2011_2[c].value_counts().sort_index().index\n",
    "data_2011_2[c].value_counts().sort_index()\n",
    "missing_data(data_2011_2[c])"
   ]
  },
  {
   "cell_type": "code",
   "execution_count": null,
   "metadata": {
    "collapsed": true
   },
   "outputs": [],
   "source": [
    "c = 'COLE_COD_ICFES'\n",
    "data_2011_2[c].value_counts().sort_index().index\n",
    "data_2011_2[c].value_counts().sort_index()\n",
    "missing_data(data_2011_2[c])"
   ]
  },
  {
   "cell_type": "code",
   "execution_count": null,
   "metadata": {
    "collapsed": true
   },
   "outputs": [],
   "source": [
    "c = 'COLE_COD_DANE_INSTITUCION'\n",
    "data_2011_2[c].value_counts().sort_index().index\n",
    "data_2011_2[c].value_counts().sort_index()\n",
    "missing_data(data_2011_2[c])"
   ]
  },
  {
   "cell_type": "code",
   "execution_count": null,
   "metadata": {
    "collapsed": true
   },
   "outputs": [],
   "source": [
    "c = 'COLE_NOMBRE_SEDE'\n",
    "data_2011_2[c].value_counts().sort_index().index\n",
    "data_2011_2[c].value_counts().sort_index()\n",
    "missing_data(data_2011_2[c])"
   ]
  },
  {
   "cell_type": "code",
   "execution_count": null,
   "metadata": {
    "collapsed": true
   },
   "outputs": [],
   "source": [
    "c = 'COLE_CALENDARIO'\n",
    "data_2011_2[c].value_counts().sort_index().index\n",
    "data_2011_2[c].value_counts().sort_index()\n",
    "missing_data(data_2011_2[c])"
   ]
  },
  {
   "cell_type": "code",
   "execution_count": null,
   "metadata": {
    "collapsed": true
   },
   "outputs": [],
   "source": [
    "c = 'COLE_GENERO'\n",
    "data_2011_2[c].value_counts().sort_index().index\n",
    "data_2011_2[c].value_counts().sort_index()\n",
    "missing_data(data_2011_2[c])"
   ]
  },
  {
   "cell_type": "code",
   "execution_count": null,
   "metadata": {
    "collapsed": true
   },
   "outputs": [],
   "source": [
    "c = 'COLE_NATURALEZA'\n",
    "data_2011_2[c].value_counts().sort_index().index\n",
    "data_2011_2[c].value_counts().sort_index()\n",
    "missing_data(data_2011_2[c])"
   ]
  },
  {
   "cell_type": "code",
   "execution_count": null,
   "metadata": {
    "collapsed": true
   },
   "outputs": [],
   "source": [
    "c = 'COLE_BILINGUE'\n",
    "data_2011_2[c].value_counts().sort_index().index\n",
    "data_2011_2[c].value_counts().sort_index()\n",
    "missing_data(data_2011_2[c])"
   ]
  },
  {
   "cell_type": "code",
   "execution_count": null,
   "metadata": {
    "collapsed": true
   },
   "outputs": [],
   "source": [
    "c = 'COLE_JORNADA'\n",
    "data_2011_2[c].value_counts().sort_index().index\n",
    "data_2011_2[c].value_counts().sort_index()\n",
    "missing_data(data_2011_2[c])"
   ]
  },
  {
   "cell_type": "code",
   "execution_count": null,
   "metadata": {
    "collapsed": true
   },
   "outputs": [],
   "source": [
    "c = 'COLE_CARACTER'\n",
    "data_2011_2[c].value_counts().sort_index().index\n",
    "data_2011_2[c].value_counts().sort_index()\n",
    "missing_data(data_2011_2[c])"
   ]
  },
  {
   "cell_type": "code",
   "execution_count": null,
   "metadata": {
    "collapsed": true
   },
   "outputs": [],
   "source": [
    "c = 'COLE_VALOR_PENSION'\n",
    "data_2011_2[c].value_counts().sort_index().index\n",
    "data_2011_2[c].value_counts().sort_index()\n",
    "missing_data(data_2011_2[c])"
   ]
  },
  {
   "cell_type": "code",
   "execution_count": null,
   "metadata": {
    "collapsed": true
   },
   "outputs": [],
   "source": [
    "c = 'ESTU_CARRDESEADA_TIPO'\n",
    "data_2011_2[c].value_counts().sort_index().index\n",
    "data_2011_2[c].value_counts().sort_index()\n",
    "missing_data(data_2011_2[c])"
   ]
  },
  {
   "cell_type": "code",
   "execution_count": null,
   "metadata": {
    "collapsed": true
   },
   "outputs": [],
   "source": [
    "c = 'ESTU_IES_COD_DESEADA'\n",
    "data_2011_2[c].value_counts().sort_index().index\n",
    "data_2011_2[c].value_counts().sort_index()\n",
    "missing_data(data_2011_2[c])"
   ]
  },
  {
   "cell_type": "code",
   "execution_count": null,
   "metadata": {
    "collapsed": true
   },
   "outputs": [],
   "source": [
    "c = 'ESTU_IES_DEPT_DESEADA'\n",
    "data_2011_2[c].value_counts().sort_index().index\n",
    "data_2011_2[c].value_counts().sort_index()\n",
    "missing_data(data_2011_2[c])"
   ]
  },
  {
   "cell_type": "code",
   "execution_count": null,
   "metadata": {
    "collapsed": true
   },
   "outputs": [],
   "source": [
    "c = 'ESTU_IES_MPIO_DESEADA'\n",
    "data_2011_2[c].value_counts().sort_index().index\n",
    "data_2011_2[c].value_counts().sort_index()\n",
    "missing_data(data_2011_2[c])"
   ]
  },
  {
   "cell_type": "code",
   "execution_count": null,
   "metadata": {
    "collapsed": true
   },
   "outputs": [],
   "source": [
    "c = 'ESTU_TOTAL_ALUMNOS_CURSO'\n",
    "data_2011_2[c].value_counts().sort_index().index\n",
    "data_2011_2[c].value_counts().sort_index()\n",
    "missing_data(data_2011_2[c])"
   ]
  },
  {
   "cell_type": "code",
   "execution_count": null,
   "metadata": {
    "collapsed": true
   },
   "outputs": [],
   "source": [
    "c = 'ESTU_ANO_MATRICULA_PRIMERO'\n",
    "data_2011_2[c].value_counts().sort_index().index\n",
    "data_2011_2[c].value_counts().sort_index()\n",
    "missing_data(data_2011_2[c])"
   ]
  },
  {
   "cell_type": "code",
   "execution_count": null,
   "metadata": {
    "collapsed": true
   },
   "outputs": [],
   "source": [
    "c = 'ESTU_ANO_TERMINO_QUINTO'\n",
    "data_2011_2[c].value_counts().sort_index().index\n",
    "data_2011_2[c].value_counts().sort_index()\n",
    "missing_data(data_2011_2[c])"
   ]
  },
  {
   "cell_type": "code",
   "execution_count": null,
   "metadata": {
    "collapsed": true
   },
   "outputs": [],
   "source": [
    "c = 'ESTU_ANOS_COLEGIO_ACTUAL'\n",
    "data_2011_2[c].value_counts().sort_index().index\n",
    "data_2011_2[c].value_counts().sort_index()\n",
    "missing_data(data_2011_2[c])"
   ]
  },
  {
   "cell_type": "code",
   "execution_count": null,
   "metadata": {
    "collapsed": true
   },
   "outputs": [],
   "source": [
    "c = 'ESTU_ANO_MATRICULA_SEXTO'\n",
    "data_2011_2[c].value_counts().sort_index().index\n",
    "data_2011_2[c].value_counts().sort_index()\n",
    "missing_data(data_2011_2[c])"
   ]
  },
  {
   "cell_type": "code",
   "execution_count": null,
   "metadata": {
    "collapsed": true
   },
   "outputs": [],
   "source": [
    "c = 'ESTU_ANOS_PREESCOLAR'\n",
    "data_2011_2[c].value_counts().sort_index().index\n",
    "data_2011_2[c].value_counts().sort_index()\n",
    "missing_data(data_2011_2[c])"
   ]
  },
  {
   "cell_type": "code",
   "execution_count": null,
   "metadata": {
    "collapsed": true
   },
   "outputs": [],
   "source": [
    "c = 'ESTU_CUANTOS_COLE_ESTUDIO'\n",
    "data_2011_2[c].value_counts().sort_index().index\n",
    "data_2011_2[c].value_counts().sort_index()\n",
    "missing_data(data_2011_2[c])"
   ]
  },
  {
   "cell_type": "code",
   "execution_count": null,
   "metadata": {
    "collapsed": true
   },
   "outputs": [],
   "source": [
    "c = 'ESTU_REPROBO_CUARTO'\n",
    "data_2011_2[c].value_counts().sort_index().index\n",
    "data_2011_2[c].value_counts().sort_index()\n",
    "missing_data(data_2011_2[c])"
   ]
  },
  {
   "cell_type": "code",
   "execution_count": null,
   "metadata": {
    "collapsed": true
   },
   "outputs": [],
   "source": [
    "c = 'ESTU_REPROBO_DECIMO'\n",
    "data_2011_2[c].value_counts().sort_index().index\n",
    "data_2011_2[c].value_counts().sort_index()\n",
    "missing_data(data_2011_2[c])"
   ]
  },
  {
   "cell_type": "code",
   "execution_count": null,
   "metadata": {
    "collapsed": true
   },
   "outputs": [],
   "source": [
    "c = 'ESTU_REPROBO_NOVENO'\n",
    "data_2011_2[c].value_counts().sort_index().index\n",
    "data_2011_2[c].value_counts().sort_index()\n",
    "missing_data(data_2011_2[c])"
   ]
  },
  {
   "cell_type": "code",
   "execution_count": null,
   "metadata": {
    "collapsed": true
   },
   "outputs": [],
   "source": [
    "c = 'ESTU_REPROBO_OCTAVO'\n",
    "data_2011_2[c].value_counts().sort_index().index\n",
    "data_2011_2[c].value_counts().sort_index()\n",
    "missing_data(data_2011_2[c])"
   ]
  },
  {
   "cell_type": "code",
   "execution_count": null,
   "metadata": {
    "collapsed": true
   },
   "outputs": [],
   "source": [
    "c = 'ESTU_REPROBO_PRIMERO'\n",
    "data_2011_2[c].value_counts().sort_index().index\n",
    "data_2011_2[c].value_counts().sort_index()\n",
    "missing_data(data_2011_2[c])"
   ]
  },
  {
   "cell_type": "code",
   "execution_count": null,
   "metadata": {
    "collapsed": true
   },
   "outputs": [],
   "source": [
    "c = 'ESTU_REPROBO_QUINTO'\n",
    "data_2011_2[c].value_counts().sort_index().index\n",
    "data_2011_2[c].value_counts().sort_index()\n",
    "missing_data(data_2011_2[c])"
   ]
  },
  {
   "cell_type": "code",
   "execution_count": null,
   "metadata": {
    "collapsed": true
   },
   "outputs": [],
   "source": [
    "c = 'ESTU_REPROBO_SEGUNDO'\n",
    "data_2011_2[c].value_counts().sort_index().index\n",
    "data_2011_2[c].value_counts().sort_index()\n",
    "missing_data(data_2011_2[c])"
   ]
  },
  {
   "cell_type": "code",
   "execution_count": null,
   "metadata": {
    "collapsed": true
   },
   "outputs": [],
   "source": [
    "c = 'ESTU_REPROBO_SEPTIMO'\n",
    "data_2011_2[c].value_counts().sort_index().index\n",
    "data_2011_2[c].value_counts().sort_index()\n",
    "missing_data(data_2011_2[c])"
   ]
  },
  {
   "cell_type": "code",
   "execution_count": null,
   "metadata": {
    "collapsed": true
   },
   "outputs": [],
   "source": [
    "c = 'ESTU_REPROBO_SEXTO'\n",
    "data_2011_2[c].value_counts().sort_index().index\n",
    "data_2011_2[c].value_counts().sort_index()\n",
    "missing_data(data_2011_2[c])"
   ]
  },
  {
   "cell_type": "code",
   "execution_count": null,
   "metadata": {
    "collapsed": true
   },
   "outputs": [],
   "source": [
    "c = 'ESTU_REPROBO_TERCERO'\n",
    "data_2011_2[c].value_counts().sort_index().index\n",
    "data_2011_2[c].value_counts().sort_index()\n",
    "missing_data(data_2011_2[c])"
   ]
  },
  {
   "cell_type": "code",
   "execution_count": null,
   "metadata": {
    "collapsed": true
   },
   "outputs": [],
   "source": [
    "c = 'ESTU_REPROBO_ONCE_MAS'\n",
    "data_2011_2[c].value_counts().sort_index().index\n",
    "data_2011_2[c].value_counts().sort_index()\n",
    "missing_data(data_2011_2[c])"
   ]
  },
  {
   "cell_type": "code",
   "execution_count": null,
   "metadata": {
    "collapsed": true
   },
   "outputs": [],
   "source": [
    "c = 'ESTU_POR_MEJORARPOSICIONSOCIAL'\n",
    "data_2011_2[c].value_counts().sort_index().index\n",
    "data_2011_2[c].value_counts().sort_index()\n",
    "missing_data(data_2011_2[c])"
   ]
  },
  {
   "cell_type": "code",
   "execution_count": null,
   "metadata": {
    "collapsed": true
   },
   "outputs": [],
   "source": [
    "c = 'ESTU_POR_COLOMBIAAPRENDE'\n",
    "data_2011_2[c].value_counts().sort_index().index\n",
    "data_2011_2[c].value_counts().sort_index()\n",
    "missing_data(data_2011_2[c])"
   ]
  },
  {
   "cell_type": "code",
   "execution_count": null,
   "metadata": {
    "collapsed": true
   },
   "outputs": [],
   "source": [
    "c = 'ESTU_POR_INFLUENCIAALGUIEN'\n",
    "data_2011_2[c].value_counts().sort_index().index\n",
    "data_2011_2[c].value_counts().sort_index()\n",
    "missing_data(data_2011_2[c])"
   ]
  },
  {
   "cell_type": "code",
   "execution_count": null,
   "metadata": {
    "collapsed": true
   },
   "outputs": [],
   "source": [
    "c = 'ESTU_POR_INTERESPERSONAL'\n",
    "data_2011_2[c].value_counts().sort_index().index\n",
    "data_2011_2[c].value_counts().sort_index()\n",
    "missing_data(data_2011_2[c])"
   ]
  },
  {
   "cell_type": "code",
   "execution_count": null,
   "metadata": {
    "collapsed": true
   },
   "outputs": [],
   "source": [
    "c = 'ESTU_POR_BUSCANDOCARRERA'\n",
    "data_2011_2[c].value_counts().sort_index().index\n",
    "data_2011_2[c].value_counts().sort_index()\n",
    "missing_data(data_2011_2[c])"
   ]
  },
  {
   "cell_type": "code",
   "execution_count": null,
   "metadata": {
    "collapsed": true
   },
   "outputs": [],
   "source": [
    "c = 'ESTU_POR_TRADICIONFAMILIAR'\n",
    "data_2011_2[c].value_counts().sort_index().index\n",
    "data_2011_2[c].value_counts().sort_index()\n",
    "missing_data(data_2011_2[c])"
   ]
  },
  {
   "cell_type": "code",
   "execution_count": null,
   "metadata": {
    "collapsed": true
   },
   "outputs": [],
   "source": [
    "c = 'ESTU_POR_ORIENTACIONVOCACIONAL'\n",
    "data_2011_2[c].value_counts().sort_index().index\n",
    "data_2011_2[c].value_counts().sort_index()\n",
    "missing_data(data_2011_2[c])"
   ]
  },
  {
   "cell_type": "code",
   "execution_count": null,
   "metadata": {
    "collapsed": true
   },
   "outputs": [],
   "source": [
    "c = 'ESTU_RAZON_RETIRO'\n",
    "data_2011_2[c].value_counts().sort_index().index\n",
    "data_2011_2[c].value_counts().sort_index()\n",
    "missing_data(data_2011_2[c])"
   ]
  },
  {
   "cell_type": "code",
   "execution_count": null,
   "metadata": {
    "collapsed": true
   },
   "outputs": [],
   "source": [
    "c = 'ESTU_POR_AMIGOSESTUDIANDO'\n",
    "data_2011_2[c].value_counts().sort_index().index\n",
    "data_2011_2[c].value_counts().sort_index()\n",
    "missing_data(data_2011_2[c])"
   ]
  },
  {
   "cell_type": "code",
   "execution_count": null,
   "metadata": {
    "collapsed": true
   },
   "outputs": [],
   "source": [
    "c = 'ESTU_POR_COSTOMATRICULA'\n",
    "data_2011_2[c].value_counts().sort_index().index\n",
    "data_2011_2[c].value_counts().sort_index()\n",
    "missing_data(data_2011_2[c])"
   ]
  },
  {
   "cell_type": "code",
   "execution_count": null,
   "metadata": {
    "collapsed": true
   },
   "outputs": [],
   "source": [
    "c = 'ESTU_POR_OPORTUNIDADES'\n",
    "data_2011_2[c].value_counts().sort_index().index\n",
    "data_2011_2[c].value_counts().sort_index()\n",
    "missing_data(data_2011_2[c])"
   ]
  },
  {
   "cell_type": "code",
   "execution_count": null,
   "metadata": {
    "collapsed": true
   },
   "outputs": [],
   "source": [
    "c = 'ESTU_POR_OTRARAZON'\n",
    "data_2011_2[c].value_counts().sort_index().index\n",
    "data_2011_2[c].value_counts().sort_index()\n",
    "missing_data(data_2011_2[c])"
   ]
  },
  {
   "cell_type": "code",
   "execution_count": null,
   "metadata": {
    "collapsed": true
   },
   "outputs": [],
   "source": [
    "c = 'ESTU_PRESTIGIOINSTITUCION'\n",
    "data_2011_2[c].value_counts().sort_index().index\n",
    "data_2011_2[c].value_counts().sort_index()\n",
    "missing_data(data_2011_2[c])"
   ]
  },
  {
   "cell_type": "code",
   "execution_count": null,
   "metadata": {
    "collapsed": true
   },
   "outputs": [],
   "source": [
    "c = 'ESTU_POR_UBICACION'\n",
    "data_2011_2[c].value_counts().sort_index().index\n",
    "data_2011_2[c].value_counts().sort_index()\n",
    "missing_data(data_2011_2[c])"
   ]
  },
  {
   "cell_type": "code",
   "execution_count": null,
   "metadata": {
    "collapsed": true
   },
   "outputs": [],
   "source": [
    "c = 'ESTU_POR_UNICAQUEOFRECE'\n",
    "data_2011_2[c].value_counts().sort_index().index\n",
    "data_2011_2[c].value_counts().sort_index()\n",
    "missing_data(data_2011_2[c])"
   ]
  },
  {
   "cell_type": "code",
   "execution_count": null,
   "metadata": {
    "collapsed": true
   },
   "outputs": [],
   "source": [
    "c = 'ESTU_RETIRARSE_COLEGIO'\n",
    "data_2011_2[c].value_counts().sort_index().index\n",
    "data_2011_2[c].value_counts().sort_index()\n",
    "missing_data(data_2011_2[c])"
   ]
  },
  {
   "cell_type": "code",
   "execution_count": null,
   "metadata": {
    "collapsed": true
   },
   "outputs": [],
   "source": [
    "c = 'ESTU_VECES_ESTADO'\n",
    "data_2011_2[c].value_counts().sort_index().index\n",
    "data_2011_2[c].value_counts().sort_index()\n",
    "missing_data(data_2011_2[c])"
   ]
  },
  {
   "cell_type": "code",
   "execution_count": null,
   "metadata": {
    "collapsed": true
   },
   "outputs": [],
   "source": [
    "c = 'ESTU_MCPIO_PRESENTACION'\n",
    "data_2011_2[c].value_counts().sort_index().index\n",
    "data_2011_2[c].value_counts().sort_index()\n",
    "missing_data(data_2011_2[c])"
   ]
  },
  {
   "cell_type": "code",
   "execution_count": null,
   "metadata": {
    "collapsed": true
   },
   "outputs": [],
   "source": [
    "c = 'ESTU_DEPTO_PRESENTACION'\n",
    "data_2011_2[c].value_counts().sort_index().index\n",
    "data_2011_2[c].value_counts().sort_index()\n",
    "missing_data(data_2011_2[c])"
   ]
  },
  {
   "cell_type": "code",
   "execution_count": null,
   "metadata": {
    "collapsed": true
   },
   "outputs": [],
   "source": [
    "c = 'ESTU_EXAM_NOMBREEXAMEN'\n",
    "data_2011_2[c].value_counts().sort_index().index\n",
    "data_2011_2[c].value_counts().sort_index()\n",
    "missing_data(data_2011_2[c])"
   ]
  },
  {
   "cell_type": "code",
   "execution_count": null,
   "metadata": {
    "collapsed": true
   },
   "outputs": [],
   "source": [
    "c = 'FAMI_EDUCA_PADRE'\n",
    "data_2011_2[c].value_counts().sort_index().index\n",
    "data_2011_2[c].value_counts().sort_index()\n",
    "missing_data(data_2011_2[c])"
   ]
  },
  {
   "cell_type": "code",
   "execution_count": null,
   "metadata": {
    "collapsed": true
   },
   "outputs": [],
   "source": [
    "c = 'FAMI_EDUCA_MADRE'\n",
    "data_2011_2[c].value_counts().sort_index().index\n",
    "data_2011_2[c].value_counts().sort_index()\n",
    "missing_data(data_2011_2[c])"
   ]
  },
  {
   "cell_type": "code",
   "execution_count": null,
   "metadata": {
    "collapsed": true
   },
   "outputs": [],
   "source": [
    "c = 'FAMI_OCUPA_PADRE'\n",
    "data_2011_2[c].value_counts().sort_index().index\n",
    "data_2011_2[c].value_counts().sort_index()\n",
    "missing_data(data_2011_2[c])"
   ]
  },
  {
   "cell_type": "code",
   "execution_count": null,
   "metadata": {
    "collapsed": true
   },
   "outputs": [],
   "source": [
    "c = 'FAMI_OCUPA_MADRE'\n",
    "data_2011_2[c].value_counts().sort_index().index\n",
    "data_2011_2[c].value_counts().sort_index()\n",
    "missing_data(data_2011_2[c])"
   ]
  },
  {
   "cell_type": "code",
   "execution_count": null,
   "metadata": {
    "collapsed": true
   },
   "outputs": [],
   "source": [
    "c = 'FAMI_ESTRATO_VIVIENDA'\n",
    "data_2011_2[c].value_counts().sort_index().index\n",
    "data_2011_2[c].value_counts().sort_index()\n",
    "missing_data(data_2011_2[c])"
   ]
  },
  {
   "cell_type": "code",
   "execution_count": null,
   "metadata": {
    "collapsed": true
   },
   "outputs": [],
   "source": [
    "c = 'FAMI_NIVEL_SISBEN'\n",
    "data_2011_2[c].value_counts().sort_index().index\n",
    "data_2011_2[c].value_counts().sort_index()\n",
    "missing_data(data_2011_2[c])"
   ]
  },
  {
   "cell_type": "code",
   "execution_count": null,
   "metadata": {
    "collapsed": true
   },
   "outputs": [],
   "source": [
    "c = 'FAMI_PERSONAS_HOGAR'\n",
    "data_2011_2[c].value_counts().sort_index().index\n",
    "data_2011_2[c].value_counts().sort_index()\n",
    "missing_data(data_2011_2[c])"
   ]
  },
  {
   "cell_type": "code",
   "execution_count": null,
   "metadata": {
    "collapsed": true
   },
   "outputs": [],
   "source": [
    "c = 'FAMI_CUARTOS_HOGAR'\n",
    "data_2011_2[c].value_counts().sort_index().index\n",
    "data_2011_2[c].value_counts().sort_index()\n",
    "missing_data(data_2011_2[c])"
   ]
  },
  {
   "cell_type": "code",
   "execution_count": null,
   "metadata": {
    "collapsed": true
   },
   "outputs": [],
   "source": [
    "c = 'FAMI_PISOSHOGAR'\n",
    "data_2011_2[c].value_counts().sort_index().index\n",
    "data_2011_2[c].value_counts().sort_index()\n",
    "missing_data(data_2011_2[c])"
   ]
  },
  {
   "cell_type": "code",
   "execution_count": null,
   "metadata": {
    "collapsed": true
   },
   "outputs": [],
   "source": [
    "c = 'FAMI_TELEFONO_FIJO'\n",
    "data_2011_2[c].value_counts().sort_index().index\n",
    "data_2011_2[c].value_counts().sort_index()\n",
    "missing_data(data_2011_2[c])"
   ]
  },
  {
   "cell_type": "code",
   "execution_count": null,
   "metadata": {
    "collapsed": true
   },
   "outputs": [],
   "source": [
    "c = 'FAMI_CELULAR'\n",
    "data_2011_2[c].value_counts().sort_index().index\n",
    "data_2011_2[c].value_counts().sort_index()\n",
    "missing_data(data_2011_2[c])"
   ]
  },
  {
   "cell_type": "code",
   "execution_count": null,
   "metadata": {
    "collapsed": true
   },
   "outputs": [],
   "source": [
    "c = 'FAMI_INTERNET'\n",
    "data_2011_2[c].value_counts().sort_index().index\n",
    "data_2011_2[c].value_counts().sort_index()\n",
    "missing_data(data_2011_2[c])"
   ]
  },
  {
   "cell_type": "code",
   "execution_count": null,
   "metadata": {
    "collapsed": true
   },
   "outputs": [],
   "source": [
    "c = 'FAMI_SERVICIO_TELEVISION'\n",
    "data_2011_2[c].value_counts().sort_index().index\n",
    "data_2011_2[c].value_counts().sort_index()\n",
    "missing_data(data_2011_2[c])"
   ]
  },
  {
   "cell_type": "code",
   "execution_count": null,
   "metadata": {
    "collapsed": true
   },
   "outputs": [],
   "source": [
    "c = 'FAMI_COMPUTADOR'\n",
    "data_2011_2[c].value_counts().sort_index().index\n",
    "data_2011_2[c].value_counts().sort_index()\n",
    "missing_data(data_2011_2[c])"
   ]
  },
  {
   "cell_type": "code",
   "execution_count": null,
   "metadata": {
    "collapsed": true
   },
   "outputs": [],
   "source": [
    "c = 'FAMI_LAVADORA'\n",
    "data_2011_2[c].value_counts().sort_index().index\n",
    "data_2011_2[c].value_counts().sort_index()\n",
    "missing_data(data_2011_2[c])"
   ]
  },
  {
   "cell_type": "code",
   "execution_count": null,
   "metadata": {
    "collapsed": true
   },
   "outputs": [],
   "source": [
    "c = 'FAMI_NEVERA'\n",
    "data_2011_2[c].value_counts().sort_index().index\n",
    "data_2011_2[c].value_counts().sort_index()\n",
    "missing_data(data_2011_2[c])"
   ]
  },
  {
   "cell_type": "code",
   "execution_count": null,
   "metadata": {
    "collapsed": true
   },
   "outputs": [],
   "source": [
    "c = 'FAMI_HORNO'\n",
    "data_2011_2[c].value_counts().sort_index().index\n",
    "data_2011_2[c].value_counts().sort_index()\n",
    "missing_data(data_2011_2[c])"
   ]
  },
  {
   "cell_type": "code",
   "execution_count": null,
   "metadata": {
    "collapsed": true
   },
   "outputs": [],
   "source": [
    "c = 'FAMI_DVD'\n",
    "data_2011_2[c].value_counts().sort_index().index\n",
    "data_2011_2[c].value_counts().sort_index()\n",
    "missing_data(data_2011_2[c])"
   ]
  },
  {
   "cell_type": "code",
   "execution_count": null,
   "metadata": {
    "collapsed": true
   },
   "outputs": [],
   "source": [
    "c = 'FAMI_MICROONDAS'\n",
    "data_2011_2[c].value_counts().sort_index().index\n",
    "data_2011_2[c].value_counts().sort_index()\n",
    "missing_data(data_2011_2[c])"
   ]
  },
  {
   "cell_type": "code",
   "execution_count": null,
   "metadata": {
    "collapsed": true
   },
   "outputs": [],
   "source": [
    "c = 'FAMI_AUTOMOVIL'\n",
    "data_2011_2[c].value_counts().sort_index().index\n",
    "data_2011_2[c].value_counts().sort_index()\n",
    "missing_data(data_2011_2[c])"
   ]
  },
  {
   "cell_type": "code",
   "execution_count": null,
   "metadata": {
    "collapsed": true
   },
   "outputs": [],
   "source": [
    "c = 'FAMI_INGRESO_FMILIAR_MENSUAL'\n",
    "data_2011_2[c].value_counts().sort_index().index\n",
    "data_2011_2[c].value_counts().sort_index()\n",
    "missing_data(data_2011_2[c])"
   ]
  },
  {
   "cell_type": "code",
   "execution_count": null,
   "metadata": {
    "collapsed": true
   },
   "outputs": [],
   "source": [
    "c = 'ESTU_TRABAJA'\n",
    "data_2011_2[c].value_counts().sort_index().index\n",
    "data_2011_2[c].value_counts().sort_index()\n",
    "missing_data(data_2011_2[c])"
   ]
  },
  {
   "cell_type": "code",
   "execution_count": null,
   "metadata": {
    "collapsed": true
   },
   "outputs": [],
   "source": [
    "c = 'ESTU_HORAS_TRABAJA'\n",
    "data_2011_2[c].value_counts().sort_index().index\n",
    "data_2011_2[c].value_counts().sort_index()\n",
    "missing_data(data_2011_2[c])"
   ]
  },
  {
   "cell_type": "markdown",
   "metadata": {},
   "source": [
    "## TARGETS"
   ]
  },
  {
   "cell_type": "code",
   "execution_count": null,
   "metadata": {
    "collapsed": true
   },
   "outputs": [],
   "source": [
    "c = 'PUNT_LENGUAJE'\n",
    "data_2011_2[c].value_counts().sort_index().index\n",
    "data_2011_2[c].value_counts().sort_index()\n",
    "missing_data(data_2011_2[c])"
   ]
  },
  {
   "cell_type": "code",
   "execution_count": null,
   "metadata": {
    "collapsed": true
   },
   "outputs": [],
   "source": [
    "c = 'PUNT_MATEMATICAS'\n",
    "data_2011_2[c].value_counts().sort_index().index\n",
    "data_2011_2[c].value_counts().sort_index()\n",
    "missing_data(data_2011_2[c])"
   ]
  },
  {
   "cell_type": "code",
   "execution_count": null,
   "metadata": {
    "collapsed": true
   },
   "outputs": [],
   "source": [
    "c = 'PUNT_C_SOCIALES'\n",
    "data_2011_2[c].value_counts().sort_index().index\n",
    "data_2011_2[c].value_counts().sort_index()\n",
    "missing_data(data_2011_2[c])"
   ]
  },
  {
   "cell_type": "code",
   "execution_count": null,
   "metadata": {
    "collapsed": true
   },
   "outputs": [],
   "source": [
    "c = 'PUNT_FILOSOFIA'\n",
    "data_2011_2[c].value_counts().sort_index().index\n",
    "data_2011_2[c].value_counts().sort_index()\n",
    "missing_data(data_2011_2[c])"
   ]
  },
  {
   "cell_type": "code",
   "execution_count": null,
   "metadata": {
    "collapsed": true
   },
   "outputs": [],
   "source": [
    "c = 'PUNT_BIOLOGIA'\n",
    "data_2011_2[c].value_counts().sort_index().index\n",
    "data_2011_2[c].value_counts().sort_index()\n",
    "missing_data(data_2011_2[c])"
   ]
  },
  {
   "cell_type": "code",
   "execution_count": null,
   "metadata": {
    "collapsed": true
   },
   "outputs": [],
   "source": [
    "c = 'PUNT_QUIMICA'\n",
    "data_2011_2[c].value_counts().sort_index().index\n",
    "data_2011_2[c].value_counts().sort_index()\n",
    "missing_data(data_2011_2[c])"
   ]
  },
  {
   "cell_type": "code",
   "execution_count": null,
   "metadata": {
    "collapsed": true
   },
   "outputs": [],
   "source": [
    "c = 'PUNT_FISICA'\n",
    "data_2011_2[c].value_counts().sort_index().index\n",
    "data_2011_2[c].value_counts().sort_index()\n",
    "missing_data(data_2011_2[c])"
   ]
  },
  {
   "cell_type": "code",
   "execution_count": null,
   "metadata": {
    "collapsed": true
   },
   "outputs": [],
   "source": [
    "c = 'PUNT_INGLES'\n",
    "data_2011_2[c].value_counts().sort_index().index\n",
    "data_2011_2[c].value_counts().sort_index()\n",
    "missing_data(data_2011_2[c])"
   ]
  },
  {
   "cell_type": "code",
   "execution_count": null,
   "metadata": {
    "collapsed": true
   },
   "outputs": [],
   "source": [
    "c = 'DESEMP_INGLES'\n",
    "data_2011_2[c].value_counts().sort_index().index\n",
    "data_2011_2[c].value_counts().sort_index()\n",
    "missing_data(data_2011_2[c])"
   ]
  },
  {
   "cell_type": "code",
   "execution_count": null,
   "metadata": {
    "collapsed": true
   },
   "outputs": [],
   "source": [
    "c = 'NOMBRE_COMP_FLEXIBLE'\n",
    "data_2011_2[c].value_counts().sort_index().index\n",
    "data_2011_2[c].value_counts().sort_index()\n",
    "missing_data(data_2011_2[c])"
   ]
  },
  {
   "cell_type": "code",
   "execution_count": null,
   "metadata": {
    "collapsed": true
   },
   "outputs": [],
   "source": [
    "c = 'PUNT_COMP_FLEXIBLE'\n",
    "data_2011_2[c].value_counts().sort_index().index\n",
    "data_2011_2[c].value_counts().sort_index()\n",
    "missing_data(data_2011_2[c])"
   ]
  },
  {
   "cell_type": "code",
   "execution_count": null,
   "metadata": {
    "collapsed": true
   },
   "outputs": [],
   "source": [
    "c = 'DESEMP_COMP_FLEXIBLE'\n",
    "data_2011_2[c].value_counts().sort_index().index\n",
    "data_2011_2[c].value_counts().sort_index()\n",
    "missing_data(data_2011_2[c])"
   ]
  },
  {
   "cell_type": "code",
   "execution_count": null,
   "metadata": {
    "collapsed": false
   },
   "outputs": [],
   "source": [
    "c = 'ESTU_PUESTO'\n",
    "data_2011_2[c].value_counts().sort_index().index\n",
    "data_2011_2[c].value_counts().sort_index()\n",
    "missing_data(data_2011_2[c])"
   ]
  },
  {
   "cell_type": "markdown",
   "metadata": {},
   "source": [
    "Now i can transform the obtained Dataframes in csv files"
   ]
  },
  {
   "cell_type": "code",
   "execution_count": null,
   "metadata": {
    "collapsed": true
   },
   "outputs": [],
   "source": []
  }
 ],
 "metadata": {
  "kernelspec": {
   "display_name": "Python 3",
   "language": "python",
   "name": "python3"
  },
  "language_info": {
   "codemirror_mode": {
    "name": "ipython",
    "version": 3
   },
   "file_extension": ".py",
   "mimetype": "text/x-python",
   "name": "python",
   "nbconvert_exporter": "python",
   "pygments_lexer": "ipython3",
   "version": "3.4.2"
  }
 },
 "nbformat": 4,
 "nbformat_minor": 0
}
