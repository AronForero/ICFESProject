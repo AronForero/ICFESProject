{
 "cells": [
  {
   "cell_type": "code",
   "execution_count": 1,
   "metadata": {
    "collapsed": true
   },
   "outputs": [],
   "source": [
    "import pandas as pd\n",
    "import numpy as np\n",
    "%run -i ../tools/functions.py\n",
    "%run -i ../tools/label_encoder.py"
   ]
  },
  {
   "cell_type": "code",
   "execution_count": 2,
   "metadata": {
    "collapsed": false
   },
   "outputs": [
    {
     "name": "stderr",
     "output_type": "stream",
     "text": [
      "/usr/local/anaconda3/lib/python3.5/site-packages/IPython/core/interactiveshell.py:2723: DtypeWarning: Columns (3,12,13,14,15,16,19,20,22,23) have mixed types. Specify dtype option on import or set low_memory=False.\n",
      "  interactivity=interactivity, compiler=compiler, result=result)\n"
     ]
    }
   ],
   "source": [
    "data_2004 = pd.read_csv('../DatosFTPICFES/SABER11/SB11-BASES_DE_DATOS/SB11-20041-RGSTRO-CLFCCN-V1-0.txt', delimiter = '|',\n",
    "                       encoding = \"iso-8859-1\")"
   ]
  },
  {
   "cell_type": "code",
   "execution_count": 3,
   "metadata": {
    "collapsed": false
   },
   "outputs": [
    {
     "data": {
      "text/plain": [
       "(64779, 58)"
      ]
     },
     "execution_count": 3,
     "metadata": {},
     "output_type": "execute_result"
    }
   ],
   "source": [
    "data_2004.shape"
   ]
  },
  {
   "cell_type": "code",
   "execution_count": 4,
   "metadata": {
    "collapsed": false,
    "scrolled": true
   },
   "outputs": [
    {
     "data": {
      "text/html": [
       "<div>\n",
       "<table border=\"1\" class=\"dataframe\">\n",
       "  <thead>\n",
       "    <tr style=\"text-align: right;\">\n",
       "      <th></th>\n",
       "      <th>0</th>\n",
       "      <th>1</th>\n",
       "      <th>2</th>\n",
       "    </tr>\n",
       "  </thead>\n",
       "  <tbody>\n",
       "    <tr>\n",
       "      <th>ESTU_CONSECUTIVO</th>\n",
       "      <td>SB11200410000001</td>\n",
       "      <td>SB11200410000002</td>\n",
       "      <td>SB11200410000003</td>\n",
       "    </tr>\n",
       "    <tr>\n",
       "      <th>COLE_COD_ICFES</th>\n",
       "      <td>66191</td>\n",
       "      <td>18036</td>\n",
       "      <td>50716</td>\n",
       "    </tr>\n",
       "    <tr>\n",
       "      <th>COLE_NOMBRE_SEDE</th>\n",
       "      <td>COLEGIO PATRICIO SYMES</td>\n",
       "      <td>INSTITUTO COMERCIAL TEOFILO ROBERTO POTES</td>\n",
       "      <td>CENTRO DOCENTE FRANCISCO JOSE DE CALDAS</td>\n",
       "    </tr>\n",
       "    <tr>\n",
       "      <th>IND_ANNO_TERMINO_BACHILLERATO</th>\n",
       "      <td>2004</td>\n",
       "      <td>2004</td>\n",
       "      <td>2004</td>\n",
       "    </tr>\n",
       "    <tr>\n",
       "      <th>COLE_JORNADA</th>\n",
       "      <td>M</td>\n",
       "      <td>C</td>\n",
       "      <td>M</td>\n",
       "    </tr>\n",
       "    <tr>\n",
       "      <th>COLE_VALOR_PENSION</th>\n",
       "      <td>5</td>\n",
       "      <td>1</td>\n",
       "      <td>1</td>\n",
       "    </tr>\n",
       "    <tr>\n",
       "      <th>ESTU_GENERO</th>\n",
       "      <td>M</td>\n",
       "      <td>M</td>\n",
       "      <td>M</td>\n",
       "    </tr>\n",
       "    <tr>\n",
       "      <th>ESTU_NACIMIENTO_DIA</th>\n",
       "      <td>8</td>\n",
       "      <td>12</td>\n",
       "      <td>5</td>\n",
       "    </tr>\n",
       "    <tr>\n",
       "      <th>ESTU_NACIMIENTO_MES</th>\n",
       "      <td>1</td>\n",
       "      <td>5</td>\n",
       "      <td>1</td>\n",
       "    </tr>\n",
       "    <tr>\n",
       "      <th>ESTU_NACIMIENTO_ANNO</th>\n",
       "      <td>1988</td>\n",
       "      <td>1986</td>\n",
       "      <td>1987</td>\n",
       "    </tr>\n",
       "    <tr>\n",
       "      <th>ESTU_DEPTO_PRESENTACION</th>\n",
       "      <td>VALLE</td>\n",
       "      <td>VALLE</td>\n",
       "      <td>VALLE</td>\n",
       "    </tr>\n",
       "    <tr>\n",
       "      <th>ESTU_MCPIO_PRESENTACION</th>\n",
       "      <td>BUENAVENTURA</td>\n",
       "      <td>BUENAVENTURA</td>\n",
       "      <td>BUENAVENTURA</td>\n",
       "    </tr>\n",
       "    <tr>\n",
       "      <th>ESTU_LIMITA_INVIDENTE</th>\n",
       "      <td>NaN</td>\n",
       "      <td>NaN</td>\n",
       "      <td>NaN</td>\n",
       "    </tr>\n",
       "    <tr>\n",
       "      <th>ESTU_LIMITA_SORDOINTERPRETE</th>\n",
       "      <td>NaN</td>\n",
       "      <td>NaN</td>\n",
       "      <td>NaN</td>\n",
       "    </tr>\n",
       "    <tr>\n",
       "      <th>ESTU_LIMITA_SORDONOINTERPRETE</th>\n",
       "      <td>NaN</td>\n",
       "      <td>NaN</td>\n",
       "      <td>NaN</td>\n",
       "    </tr>\n",
       "    <tr>\n",
       "      <th>ESTU_LIMITA_MOTRIZ</th>\n",
       "      <td>NaN</td>\n",
       "      <td>NaN</td>\n",
       "      <td>NaN</td>\n",
       "    </tr>\n",
       "    <tr>\n",
       "      <th>PUNT_BIOLOGIA</th>\n",
       "      <td>49.9</td>\n",
       "      <td>40.6</td>\n",
       "      <td>43.5</td>\n",
       "    </tr>\n",
       "    <tr>\n",
       "      <th>PUNT_MATEMATICAS</th>\n",
       "      <td>47.1</td>\n",
       "      <td>42.8</td>\n",
       "      <td>42.8</td>\n",
       "    </tr>\n",
       "    <tr>\n",
       "      <th>PUNT_FILOSOFIA</th>\n",
       "      <td>49.9</td>\n",
       "      <td>44.6</td>\n",
       "      <td>49.9</td>\n",
       "    </tr>\n",
       "    <tr>\n",
       "      <th>PUNT_FISICA</th>\n",
       "      <td>47.8</td>\n",
       "      <td>41.9</td>\n",
       "      <td>46</td>\n",
       "    </tr>\n",
       "    <tr>\n",
       "      <th>PUNT_HISTORIA</th>\n",
       "      <td>38</td>\n",
       "      <td>40.8</td>\n",
       "      <td>38</td>\n",
       "    </tr>\n",
       "    <tr>\n",
       "      <th>PUNT_QUIMICA</th>\n",
       "      <td>47.2</td>\n",
       "      <td>43.2</td>\n",
       "      <td>31.8</td>\n",
       "    </tr>\n",
       "    <tr>\n",
       "      <th>PUNT_LENGUAJE</th>\n",
       "      <td>47.1</td>\n",
       "      <td>47.1</td>\n",
       "      <td>53</td>\n",
       "    </tr>\n",
       "    <tr>\n",
       "      <th>PUNT_GEOGRAFIA</th>\n",
       "      <td>39.3</td>\n",
       "      <td>43.8</td>\n",
       "      <td>45.1</td>\n",
       "    </tr>\n",
       "    <tr>\n",
       "      <th>COD_INTERDISCIPLINAR</th>\n",
       "      <td>43</td>\n",
       "      <td>43</td>\n",
       "      <td>43</td>\n",
       "    </tr>\n",
       "    <tr>\n",
       "      <th>PUNT_INTERDISCIPLINAR</th>\n",
       "      <td>45.8</td>\n",
       "      <td>45.8</td>\n",
       "      <td>56.9</td>\n",
       "    </tr>\n",
       "    <tr>\n",
       "      <th>COD_IDIOMA</th>\n",
       "      <td>52</td>\n",
       "      <td>52</td>\n",
       "      <td>53</td>\n",
       "    </tr>\n",
       "    <tr>\n",
       "      <th>PUNT_IDIOMA</th>\n",
       "      <td>45.3</td>\n",
       "      <td>30.2</td>\n",
       "      <td>40.7</td>\n",
       "    </tr>\n",
       "    <tr>\n",
       "      <th>ESTU_IES_COD_DESEADA</th>\n",
       "      <td>1203</td>\n",
       "      <td>NaN</td>\n",
       "      <td>NaN</td>\n",
       "    </tr>\n",
       "    <tr>\n",
       "      <th>ESTU_RAZONINSTITUTO</th>\n",
       "      <td>2</td>\n",
       "      <td>NaN</td>\n",
       "      <td>NaN</td>\n",
       "    </tr>\n",
       "    <tr>\n",
       "      <th>ESTU_CARRDESEADA_COD</th>\n",
       "      <td>213</td>\n",
       "      <td>NaN</td>\n",
       "      <td>NaN</td>\n",
       "    </tr>\n",
       "    <tr>\n",
       "      <th>ESTU_CARRDESEADA_RAZON</th>\n",
       "      <td>3</td>\n",
       "      <td>NaN</td>\n",
       "      <td>5</td>\n",
       "    </tr>\n",
       "    <tr>\n",
       "      <th>FAMI_PERSONAS_HOGAR</th>\n",
       "      <td>7</td>\n",
       "      <td>6</td>\n",
       "      <td>6</td>\n",
       "    </tr>\n",
       "    <tr>\n",
       "      <th>FAMI_VIVIENDA_PROPIA</th>\n",
       "      <td>N</td>\n",
       "      <td>S</td>\n",
       "      <td>S</td>\n",
       "    </tr>\n",
       "    <tr>\n",
       "      <th>FAMI_DEUDA_VIVIENDA</th>\n",
       "      <td>N</td>\n",
       "      <td>N</td>\n",
       "      <td>N</td>\n",
       "    </tr>\n",
       "    <tr>\n",
       "      <th>FAMI_APORTANTES</th>\n",
       "      <td>2</td>\n",
       "      <td>2</td>\n",
       "      <td>1</td>\n",
       "    </tr>\n",
       "    <tr>\n",
       "      <th>FAMI_INGRESO_FMILIAR_MENSUAL</th>\n",
       "      <td>2</td>\n",
       "      <td>NaN</td>\n",
       "      <td>0</td>\n",
       "    </tr>\n",
       "    <tr>\n",
       "      <th>FAMI_LEE_ESCRIBE_PADRE</th>\n",
       "      <td>S</td>\n",
       "      <td>S</td>\n",
       "      <td>S</td>\n",
       "    </tr>\n",
       "    <tr>\n",
       "      <th>FAMI_LEE_ESCRIBE_MADRE</th>\n",
       "      <td>S</td>\n",
       "      <td>S</td>\n",
       "      <td>S</td>\n",
       "    </tr>\n",
       "    <tr>\n",
       "      <th>FAMI_EDUCA_PADRE</th>\n",
       "      <td>5</td>\n",
       "      <td>2</td>\n",
       "      <td>4</td>\n",
       "    </tr>\n",
       "    <tr>\n",
       "      <th>FAMI_EDUCA_MADRE</th>\n",
       "      <td>4</td>\n",
       "      <td>7</td>\n",
       "      <td>3</td>\n",
       "    </tr>\n",
       "    <tr>\n",
       "      <th>FAMI_OCUPA_PADRE</th>\n",
       "      <td>4</td>\n",
       "      <td>8</td>\n",
       "      <td>6</td>\n",
       "    </tr>\n",
       "    <tr>\n",
       "      <th>FAMI_OCUPA_MADRE</th>\n",
       "      <td>10</td>\n",
       "      <td>3</td>\n",
       "      <td>10</td>\n",
       "    </tr>\n",
       "    <tr>\n",
       "      <th>FAMI_NUM_HERMANOS</th>\n",
       "      <td>7</td>\n",
       "      <td>3</td>\n",
       "      <td>5</td>\n",
       "    </tr>\n",
       "    <tr>\n",
       "      <th>FAMI_NUM_HERMANOS_EDUSUPERIOR</th>\n",
       "      <td>NaN</td>\n",
       "      <td>NaN</td>\n",
       "      <td>3</td>\n",
       "    </tr>\n",
       "    <tr>\n",
       "      <th>FAMI_POSICION_HERMANOS</th>\n",
       "      <td>4</td>\n",
       "      <td>2</td>\n",
       "      <td>NaN</td>\n",
       "    </tr>\n",
       "    <tr>\n",
       "      <th>FAMI_SOST_PERSONAL</th>\n",
       "      <td>T</td>\n",
       "      <td>T</td>\n",
       "      <td>T</td>\n",
       "    </tr>\n",
       "    <tr>\n",
       "      <th>ESTU_TRABAJA</th>\n",
       "      <td>N</td>\n",
       "      <td>N</td>\n",
       "      <td>N</td>\n",
       "    </tr>\n",
       "    <tr>\n",
       "      <th>ESTU_ACT_PROX_ANNO</th>\n",
       "      <td>3</td>\n",
       "      <td>1</td>\n",
       "      <td>1</td>\n",
       "    </tr>\n",
       "    <tr>\n",
       "      <th>FAMI_ESTRATO_VIVIENDA</th>\n",
       "      <td>3</td>\n",
       "      <td>1</td>\n",
       "      <td>1</td>\n",
       "    </tr>\n",
       "    <tr>\n",
       "      <th>COLE_CALENDARIO</th>\n",
       "      <td>B</td>\n",
       "      <td>B</td>\n",
       "      <td>B</td>\n",
       "    </tr>\n",
       "    <tr>\n",
       "      <th>COLE_BILINGUE</th>\n",
       "      <td>NaN</td>\n",
       "      <td>NaN</td>\n",
       "      <td>NaN</td>\n",
       "    </tr>\n",
       "    <tr>\n",
       "      <th>COLE_CARACTER</th>\n",
       "      <td>TECNICO</td>\n",
       "      <td>TECNICO</td>\n",
       "      <td>ACADEMICO</td>\n",
       "    </tr>\n",
       "    <tr>\n",
       "      <th>COLE_DEPTO_UBICACION</th>\n",
       "      <td>VALLE</td>\n",
       "      <td>VALLE</td>\n",
       "      <td>VALLE</td>\n",
       "    </tr>\n",
       "    <tr>\n",
       "      <th>COLE_MCPIO_UBICACION</th>\n",
       "      <td>BUENAVENTURA</td>\n",
       "      <td>BUENAVENTURA</td>\n",
       "      <td>BUENAVENTURA</td>\n",
       "    </tr>\n",
       "    <tr>\n",
       "      <th>ESTU_RESIDE_DEPTO</th>\n",
       "      <td>VALLE</td>\n",
       "      <td>VALLE</td>\n",
       "      <td>VALLE</td>\n",
       "    </tr>\n",
       "    <tr>\n",
       "      <th>ESTU_RESIDE_MCPIO</th>\n",
       "      <td>BUENAVENTURA</td>\n",
       "      <td>BUENAVENTURA</td>\n",
       "      <td>BUENAVENTURA</td>\n",
       "    </tr>\n",
       "    <tr>\n",
       "      <th>ESTU_TIPO_DOCUMENTO</th>\n",
       "      <td>R</td>\n",
       "      <td>T</td>\n",
       "      <td>R</td>\n",
       "    </tr>\n",
       "  </tbody>\n",
       "</table>\n",
       "</div>"
      ],
      "text/plain": [
       "                                                    0  \\\n",
       "ESTU_CONSECUTIVO                     SB11200410000001   \n",
       "COLE_COD_ICFES                                  66191   \n",
       "COLE_NOMBRE_SEDE               COLEGIO PATRICIO SYMES   \n",
       "IND_ANNO_TERMINO_BACHILLERATO                    2004   \n",
       "COLE_JORNADA                                        M   \n",
       "COLE_VALOR_PENSION                                  5   \n",
       "ESTU_GENERO                                         M   \n",
       "ESTU_NACIMIENTO_DIA                                 8   \n",
       "ESTU_NACIMIENTO_MES                                 1   \n",
       "ESTU_NACIMIENTO_ANNO                             1988   \n",
       "ESTU_DEPTO_PRESENTACION                         VALLE   \n",
       "ESTU_MCPIO_PRESENTACION                  BUENAVENTURA   \n",
       "ESTU_LIMITA_INVIDENTE                             NaN   \n",
       "ESTU_LIMITA_SORDOINTERPRETE                       NaN   \n",
       "ESTU_LIMITA_SORDONOINTERPRETE                     NaN   \n",
       "ESTU_LIMITA_MOTRIZ                                NaN   \n",
       "PUNT_BIOLOGIA                                    49.9   \n",
       "PUNT_MATEMATICAS                                 47.1   \n",
       "PUNT_FILOSOFIA                                   49.9   \n",
       "PUNT_FISICA                                      47.8   \n",
       "PUNT_HISTORIA                                      38   \n",
       "PUNT_QUIMICA                                     47.2   \n",
       "PUNT_LENGUAJE                                    47.1   \n",
       "PUNT_GEOGRAFIA                                   39.3   \n",
       "COD_INTERDISCIPLINAR                               43   \n",
       "PUNT_INTERDISCIPLINAR                            45.8   \n",
       "COD_IDIOMA                                         52   \n",
       "PUNT_IDIOMA                                      45.3   \n",
       "ESTU_IES_COD_DESEADA                             1203   \n",
       "ESTU_RAZONINSTITUTO                                 2   \n",
       "ESTU_CARRDESEADA_COD                              213   \n",
       "ESTU_CARRDESEADA_RAZON                              3   \n",
       "FAMI_PERSONAS_HOGAR                                 7   \n",
       "FAMI_VIVIENDA_PROPIA                                N   \n",
       "FAMI_DEUDA_VIVIENDA                                 N   \n",
       "FAMI_APORTANTES                                     2   \n",
       "FAMI_INGRESO_FMILIAR_MENSUAL                        2   \n",
       "FAMI_LEE_ESCRIBE_PADRE                              S   \n",
       "FAMI_LEE_ESCRIBE_MADRE                              S   \n",
       "FAMI_EDUCA_PADRE                                    5   \n",
       "FAMI_EDUCA_MADRE                                    4   \n",
       "FAMI_OCUPA_PADRE                                    4   \n",
       "FAMI_OCUPA_MADRE                                   10   \n",
       "FAMI_NUM_HERMANOS                                   7   \n",
       "FAMI_NUM_HERMANOS_EDUSUPERIOR                     NaN   \n",
       "FAMI_POSICION_HERMANOS                              4   \n",
       "FAMI_SOST_PERSONAL                                  T   \n",
       "ESTU_TRABAJA                                        N   \n",
       "ESTU_ACT_PROX_ANNO                                  3   \n",
       "FAMI_ESTRATO_VIVIENDA                               3   \n",
       "COLE_CALENDARIO                                     B   \n",
       "COLE_BILINGUE                                     NaN   \n",
       "COLE_CARACTER                                 TECNICO   \n",
       "COLE_DEPTO_UBICACION                            VALLE   \n",
       "COLE_MCPIO_UBICACION                     BUENAVENTURA   \n",
       "ESTU_RESIDE_DEPTO                               VALLE   \n",
       "ESTU_RESIDE_MCPIO                        BUENAVENTURA   \n",
       "ESTU_TIPO_DOCUMENTO                                 R   \n",
       "\n",
       "                                                                       1  \\\n",
       "ESTU_CONSECUTIVO                                        SB11200410000002   \n",
       "COLE_COD_ICFES                                                     18036   \n",
       "COLE_NOMBRE_SEDE               INSTITUTO COMERCIAL TEOFILO ROBERTO POTES   \n",
       "IND_ANNO_TERMINO_BACHILLERATO                                       2004   \n",
       "COLE_JORNADA                                                           C   \n",
       "COLE_VALOR_PENSION                                                     1   \n",
       "ESTU_GENERO                                                            M   \n",
       "ESTU_NACIMIENTO_DIA                                                   12   \n",
       "ESTU_NACIMIENTO_MES                                                    5   \n",
       "ESTU_NACIMIENTO_ANNO                                                1986   \n",
       "ESTU_DEPTO_PRESENTACION                                            VALLE   \n",
       "ESTU_MCPIO_PRESENTACION                                     BUENAVENTURA   \n",
       "ESTU_LIMITA_INVIDENTE                                                NaN   \n",
       "ESTU_LIMITA_SORDOINTERPRETE                                          NaN   \n",
       "ESTU_LIMITA_SORDONOINTERPRETE                                        NaN   \n",
       "ESTU_LIMITA_MOTRIZ                                                   NaN   \n",
       "PUNT_BIOLOGIA                                                       40.6   \n",
       "PUNT_MATEMATICAS                                                    42.8   \n",
       "PUNT_FILOSOFIA                                                      44.6   \n",
       "PUNT_FISICA                                                         41.9   \n",
       "PUNT_HISTORIA                                                       40.8   \n",
       "PUNT_QUIMICA                                                        43.2   \n",
       "PUNT_LENGUAJE                                                       47.1   \n",
       "PUNT_GEOGRAFIA                                                      43.8   \n",
       "COD_INTERDISCIPLINAR                                                  43   \n",
       "PUNT_INTERDISCIPLINAR                                               45.8   \n",
       "COD_IDIOMA                                                            52   \n",
       "PUNT_IDIOMA                                                         30.2   \n",
       "ESTU_IES_COD_DESEADA                                                 NaN   \n",
       "ESTU_RAZONINSTITUTO                                                  NaN   \n",
       "ESTU_CARRDESEADA_COD                                                 NaN   \n",
       "ESTU_CARRDESEADA_RAZON                                               NaN   \n",
       "FAMI_PERSONAS_HOGAR                                                    6   \n",
       "FAMI_VIVIENDA_PROPIA                                                   S   \n",
       "FAMI_DEUDA_VIVIENDA                                                    N   \n",
       "FAMI_APORTANTES                                                        2   \n",
       "FAMI_INGRESO_FMILIAR_MENSUAL                                         NaN   \n",
       "FAMI_LEE_ESCRIBE_PADRE                                                 S   \n",
       "FAMI_LEE_ESCRIBE_MADRE                                                 S   \n",
       "FAMI_EDUCA_PADRE                                                       2   \n",
       "FAMI_EDUCA_MADRE                                                       7   \n",
       "FAMI_OCUPA_PADRE                                                       8   \n",
       "FAMI_OCUPA_MADRE                                                       3   \n",
       "FAMI_NUM_HERMANOS                                                      3   \n",
       "FAMI_NUM_HERMANOS_EDUSUPERIOR                                        NaN   \n",
       "FAMI_POSICION_HERMANOS                                                 2   \n",
       "FAMI_SOST_PERSONAL                                                     T   \n",
       "ESTU_TRABAJA                                                           N   \n",
       "ESTU_ACT_PROX_ANNO                                                     1   \n",
       "FAMI_ESTRATO_VIVIENDA                                                  1   \n",
       "COLE_CALENDARIO                                                        B   \n",
       "COLE_BILINGUE                                                        NaN   \n",
       "COLE_CARACTER                                                    TECNICO   \n",
       "COLE_DEPTO_UBICACION                                               VALLE   \n",
       "COLE_MCPIO_UBICACION                                        BUENAVENTURA   \n",
       "ESTU_RESIDE_DEPTO                                                  VALLE   \n",
       "ESTU_RESIDE_MCPIO                                           BUENAVENTURA   \n",
       "ESTU_TIPO_DOCUMENTO                                                    T   \n",
       "\n",
       "                                                                     2  \n",
       "ESTU_CONSECUTIVO                                      SB11200410000003  \n",
       "COLE_COD_ICFES                                                   50716  \n",
       "COLE_NOMBRE_SEDE               CENTRO DOCENTE FRANCISCO JOSE DE CALDAS  \n",
       "IND_ANNO_TERMINO_BACHILLERATO                                     2004  \n",
       "COLE_JORNADA                                                         M  \n",
       "COLE_VALOR_PENSION                                                   1  \n",
       "ESTU_GENERO                                                          M  \n",
       "ESTU_NACIMIENTO_DIA                                                  5  \n",
       "ESTU_NACIMIENTO_MES                                                  1  \n",
       "ESTU_NACIMIENTO_ANNO                                              1987  \n",
       "ESTU_DEPTO_PRESENTACION                                          VALLE  \n",
       "ESTU_MCPIO_PRESENTACION                                   BUENAVENTURA  \n",
       "ESTU_LIMITA_INVIDENTE                                              NaN  \n",
       "ESTU_LIMITA_SORDOINTERPRETE                                        NaN  \n",
       "ESTU_LIMITA_SORDONOINTERPRETE                                      NaN  \n",
       "ESTU_LIMITA_MOTRIZ                                                 NaN  \n",
       "PUNT_BIOLOGIA                                                     43.5  \n",
       "PUNT_MATEMATICAS                                                  42.8  \n",
       "PUNT_FILOSOFIA                                                    49.9  \n",
       "PUNT_FISICA                                                         46  \n",
       "PUNT_HISTORIA                                                       38  \n",
       "PUNT_QUIMICA                                                      31.8  \n",
       "PUNT_LENGUAJE                                                       53  \n",
       "PUNT_GEOGRAFIA                                                    45.1  \n",
       "COD_INTERDISCIPLINAR                                                43  \n",
       "PUNT_INTERDISCIPLINAR                                             56.9  \n",
       "COD_IDIOMA                                                          53  \n",
       "PUNT_IDIOMA                                                       40.7  \n",
       "ESTU_IES_COD_DESEADA                                               NaN  \n",
       "ESTU_RAZONINSTITUTO                                                NaN  \n",
       "ESTU_CARRDESEADA_COD                                               NaN  \n",
       "ESTU_CARRDESEADA_RAZON                                               5  \n",
       "FAMI_PERSONAS_HOGAR                                                  6  \n",
       "FAMI_VIVIENDA_PROPIA                                                 S  \n",
       "FAMI_DEUDA_VIVIENDA                                                  N  \n",
       "FAMI_APORTANTES                                                      1  \n",
       "FAMI_INGRESO_FMILIAR_MENSUAL                                         0  \n",
       "FAMI_LEE_ESCRIBE_PADRE                                               S  \n",
       "FAMI_LEE_ESCRIBE_MADRE                                               S  \n",
       "FAMI_EDUCA_PADRE                                                     4  \n",
       "FAMI_EDUCA_MADRE                                                     3  \n",
       "FAMI_OCUPA_PADRE                                                     6  \n",
       "FAMI_OCUPA_MADRE                                                    10  \n",
       "FAMI_NUM_HERMANOS                                                    5  \n",
       "FAMI_NUM_HERMANOS_EDUSUPERIOR                                        3  \n",
       "FAMI_POSICION_HERMANOS                                             NaN  \n",
       "FAMI_SOST_PERSONAL                                                   T  \n",
       "ESTU_TRABAJA                                                         N  \n",
       "ESTU_ACT_PROX_ANNO                                                   1  \n",
       "FAMI_ESTRATO_VIVIENDA                                                1  \n",
       "COLE_CALENDARIO                                                      B  \n",
       "COLE_BILINGUE                                                      NaN  \n",
       "COLE_CARACTER                                                ACADEMICO  \n",
       "COLE_DEPTO_UBICACION                                             VALLE  \n",
       "COLE_MCPIO_UBICACION                                      BUENAVENTURA  \n",
       "ESTU_RESIDE_DEPTO                                                VALLE  \n",
       "ESTU_RESIDE_MCPIO                                         BUENAVENTURA  \n",
       "ESTU_TIPO_DOCUMENTO                                                  R  "
      ]
     },
     "execution_count": 4,
     "metadata": {},
     "output_type": "execute_result"
    }
   ],
   "source": [
    "data_2004.head(3).T"
   ]
  },
  {
   "cell_type": "markdown",
   "metadata": {},
   "source": [
    "The first like always is delete the columns that won't contribute to the work"
   ]
  },
  {
   "cell_type": "code",
   "execution_count": 5,
   "metadata": {
    "collapsed": false
   },
   "outputs": [],
   "source": [
    "data_2004 = data_2004.drop(['ESTU_CONSECUTIVO', 'COLE_NOMBRE_SEDE', 'ESTU_TIPO_DOCUMENTO'], axis=1)"
   ]
  },
  {
   "cell_type": "code",
   "execution_count": 6,
   "metadata": {
    "collapsed": false,
    "scrolled": true
   },
   "outputs": [
    {
     "name": "stdout",
     "output_type": "stream",
     "text": [
      "Int64Index([   182,    265,    638,   1024,   1503,   2998,   3145,   3327,\n",
      "              3418,   3459,\n",
      "            ...\n",
      "            112466, 112474, 112482, 112508, 112516, 112532, 112557, 112607,\n",
      "            112623, 112706],\n",
      "           dtype='int64', length=1795)\n",
      "182        58\n",
      "265       193\n",
      "638        53\n",
      "1024       33\n",
      "1503       66\n",
      "2998       29\n",
      "3145       27\n",
      "3327       12\n",
      "3418       43\n",
      "3459       71\n",
      "3483       21\n",
      "4234       42\n",
      "5629       37\n",
      "6775       11\n",
      "6981       24\n",
      "7013       70\n",
      "7054       28\n",
      "7070      152\n",
      "7088       53\n",
      "7732        2\n",
      "7872        2\n",
      "8086       12\n",
      "8581      112\n",
      "9589       19\n",
      "9696       25\n",
      "9985       17\n",
      "10199       7\n",
      "10298     137\n",
      "10967      35\n",
      "11130      19\n",
      "         ... \n",
      "112003     25\n",
      "112011     93\n",
      "112029      2\n",
      "112037     16\n",
      "112060      4\n",
      "112078      9\n",
      "112102      1\n",
      "112110      7\n",
      "112136      8\n",
      "112169     16\n",
      "112177      6\n",
      "112219     17\n",
      "112227     14\n",
      "112235     11\n",
      "112243     10\n",
      "112250     14\n",
      "112268     17\n",
      "112276     18\n",
      "112284     21\n",
      "112300      2\n",
      "112466     22\n",
      "112474     12\n",
      "112482      9\n",
      "112508     33\n",
      "112516      7\n",
      "112532      7\n",
      "112557      9\n",
      "112607     25\n",
      "112623     14\n",
      "112706      7\n",
      "Name: COLE_COD_ICFES, dtype: int64\n",
      "Elementos null/NaN 0\n",
      "__________________\n",
      "Elementos diferentes de null/NaN: 64779\n",
      "__________________\n",
      "(64779,)\n",
      "None\n"
     ]
    }
   ],
   "source": [
    "print(data_2004['COLE_COD_ICFES'].value_counts().sort_index().index)\n",
    "print(data_2004['COLE_COD_ICFES'].value_counts().sort_index())\n",
    "print(missing_data(data_2004['COLE_COD_ICFES']))"
   ]
  },
  {
   "cell_type": "code",
   "execution_count": 7,
   "metadata": {
    "collapsed": false,
    "scrolled": true
   },
   "outputs": [
    {
     "name": "stdout",
     "output_type": "stream",
     "text": [
      "Index([2004.0, '2004', 2003.0, '2003', 2002.0, 2001.0, 2000.0, '2002', '2001',\n",
      "       1999.0, '1998', '1999', 1995.0, 1997.0, 1998.0, '2000', '1997', 1996.0,\n",
      "       1993.0, '1995', 1992.0, 1987.0, 1950.0, 1983.0, 1990.0, '1978', 1973.0,\n",
      "       1974.0, 1976.0, 1984.0, 1991.0, 1989.0, '1993', 1994.0, '1996', 'D019',\n",
      "       '1990', '1994', '1979', '1992'],\n",
      "      dtype='object')\n",
      "2004.0    37647\n",
      "2004       9356\n",
      "2003.0     7454\n",
      "2003       5162\n",
      "2002.0       96\n",
      "2001.0       61\n",
      "2000.0       47\n",
      "2002         39\n",
      "2001         27\n",
      "1999.0       19\n",
      "1998         12\n",
      "1999         12\n",
      "1995.0       10\n",
      "1997.0       10\n",
      "1998.0       10\n",
      "2000         10\n",
      "1997          7\n",
      "1996.0        6\n",
      "1993.0        5\n",
      "1995          3\n",
      "1992.0        3\n",
      "1987.0        2\n",
      "1950.0        2\n",
      "1983.0        2\n",
      "1990.0        2\n",
      "1978          1\n",
      "1973.0        1\n",
      "1974.0        1\n",
      "1976.0        1\n",
      "1984.0        1\n",
      "1991.0        1\n",
      "1989.0        1\n",
      "1993          1\n",
      "1994.0        1\n",
      "1996          1\n",
      "D019          1\n",
      "1990          1\n",
      "1994          1\n",
      "1979          1\n",
      "1992          1\n",
      "Name: IND_ANNO_TERMINO_BACHILLERATO, dtype: int64\n",
      "Elementos null/NaN 4760\n",
      "__________________\n",
      "Elementos diferentes de null/NaN: 60019\n",
      "__________________\n",
      "(60019,)\n",
      "None\n"
     ]
    }
   ],
   "source": [
    "print(data_2004['IND_ANNO_TERMINO_BACHILLERATO'].value_counts().index)\n",
    "print(data_2004['IND_ANNO_TERMINO_BACHILLERATO'].value_counts())\n",
    "print(missing_data(data_2004['IND_ANNO_TERMINO_BACHILLERATO']))"
   ]
  },
  {
   "cell_type": "code",
   "execution_count": 8,
   "metadata": {
    "collapsed": false
   },
   "outputs": [
    {
     "name": "stdout",
     "output_type": "stream",
     "text": [
      "Index(['C', 'M', 'N', 'S', 'T'], dtype='object')\n",
      "C    16028\n",
      "M    28164\n",
      "N    11674\n",
      "S     1323\n",
      "T     7590\n",
      "Name: COLE_JORNADA, dtype: int64\n",
      "Elementos null/NaN 0\n",
      "__________________\n",
      "Elementos diferentes de null/NaN: 64779\n",
      "__________________\n",
      "(64779,)\n",
      "None\n"
     ]
    }
   ],
   "source": [
    "print(data_2004['COLE_JORNADA'].value_counts().sort_index().index)\n",
    "print(data_2004['COLE_JORNADA'].value_counts().sort_index())\n",
    "print(missing_data(data_2004['COLE_JORNADA']))"
   ]
  },
  {
   "cell_type": "code",
   "execution_count": 9,
   "metadata": {
    "collapsed": false
   },
   "outputs": [
    {
     "name": "stdout",
     "output_type": "stream",
     "text": [
      "Float64Index([1.0, 2.0, 3.0, 4.0, 5.0, 6.0, 7.0, 8.0], dtype='float64')\n",
      "1.0    15057\n",
      "2.0     8142\n",
      "3.0     5107\n",
      "4.0     3767\n",
      "5.0     3661\n",
      "6.0     2202\n",
      "7.0     4194\n",
      "8.0    17850\n",
      "Name: COLE_VALOR_PENSION, dtype: int64\n",
      "Elementos null/NaN 4799\n",
      "__________________\n",
      "Elementos diferentes de null/NaN: 59980\n",
      "__________________\n",
      "(59980,)\n",
      "None\n"
     ]
    }
   ],
   "source": [
    "print(data_2004['COLE_VALOR_PENSION'].value_counts().sort_index().index)\n",
    "print(data_2004['COLE_VALOR_PENSION'].value_counts().sort_index())\n",
    "print(missing_data(data_2004['COLE_VALOR_PENSION']))"
   ]
  },
  {
   "cell_type": "code",
   "execution_count": 10,
   "metadata": {
    "collapsed": false
   },
   "outputs": [
    {
     "name": "stdout",
     "output_type": "stream",
     "text": [
      "Index(['F', 'M'], dtype='object')\n",
      "F    35129\n",
      "M    29650\n",
      "Name: ESTU_GENERO, dtype: int64\n",
      "Elementos null/NaN 0\n",
      "__________________\n",
      "Elementos diferentes de null/NaN: 64779\n",
      "__________________\n",
      "(64779,)\n",
      "None\n"
     ]
    }
   ],
   "source": [
    "print(data_2004['ESTU_GENERO'].value_counts().sort_index().index)\n",
    "print(data_2004['ESTU_GENERO'].value_counts().sort_index())\n",
    "print(missing_data(data_2004['ESTU_GENERO']))"
   ]
  },
  {
   "cell_type": "code",
   "execution_count": 11,
   "metadata": {
    "collapsed": false,
    "scrolled": true
   },
   "outputs": [
    {
     "name": "stdout",
     "output_type": "stream",
     "text": [
      "Float64Index([ 1.0,  2.0,  3.0,  4.0,  5.0,  6.0,  7.0,  8.0,  9.0, 10.0, 11.0,\n",
      "              12.0, 13.0, 14.0, 15.0, 16.0, 17.0, 18.0, 19.0, 20.0, 21.0, 22.0,\n",
      "              23.0, 24.0, 25.0, 26.0, 27.0, 28.0, 29.0, 30.0, 31.0],\n",
      "             dtype='float64')\n",
      "1.0     2081\n",
      "2.0     1970\n",
      "3.0     1972\n",
      "4.0     2032\n",
      "5.0     2126\n",
      "6.0     1928\n",
      "7.0     1989\n",
      "8.0     2046\n",
      "9.0     1983\n",
      "10.0    2068\n",
      "11.0    1984\n",
      "12.0    2097\n",
      "13.0    1982\n",
      "14.0    1912\n",
      "15.0    2175\n",
      "16.0    1962\n",
      "17.0    1968\n",
      "18.0    1946\n",
      "19.0    1949\n",
      "20.0    2157\n",
      "21.0    1892\n",
      "22.0    1991\n",
      "23.0    2031\n",
      "24.0    1987\n",
      "25.0    2004\n",
      "26.0    1962\n",
      "27.0    1910\n",
      "28.0    2067\n",
      "29.0    1773\n",
      "30.0    1773\n",
      "31.0    1023\n",
      "Name: ESTU_NACIMIENTO_DIA, dtype: int64\n",
      "Elementos null/NaN 4039\n",
      "__________________\n",
      "Elementos diferentes de null/NaN: 60740\n",
      "__________________\n",
      "(60740,)\n",
      "None\n"
     ]
    }
   ],
   "source": [
    "print(data_2004['ESTU_NACIMIENTO_DIA'].value_counts().sort_index().index)\n",
    "print(data_2004['ESTU_NACIMIENTO_DIA'].value_counts().sort_index())\n",
    "print(missing_data(data_2004['ESTU_NACIMIENTO_DIA']))"
   ]
  },
  {
   "cell_type": "code",
   "execution_count": 12,
   "metadata": {
    "collapsed": false,
    "scrolled": true
   },
   "outputs": [
    {
     "name": "stdout",
     "output_type": "stream",
     "text": [
      "Float64Index([ 1.0,  2.0,  3.0,  4.0,  5.0,  6.0,  7.0,  8.0,  9.0, 10.0, 11.0,\n",
      "              12.0, 16.0, 18.0, 19.0, 22.0],\n",
      "             dtype='float64')\n",
      "1.0     4925\n",
      "2.0     4575\n",
      "3.0     5112\n",
      "4.0     4964\n",
      "5.0     5091\n",
      "6.0     5000\n",
      "7.0     5173\n",
      "8.0     5174\n",
      "9.0     5370\n",
      "10.0    5258\n",
      "11.0    4944\n",
      "12.0    5147\n",
      "16.0       1\n",
      "18.0       2\n",
      "19.0       2\n",
      "22.0       1\n",
      "Name: ESTU_NACIMIENTO_MES, dtype: int64\n",
      "Elementos null/NaN 4040\n",
      "__________________\n",
      "Elementos diferentes de null/NaN: 60739\n",
      "__________________\n",
      "(60739,)\n",
      "None\n"
     ]
    }
   ],
   "source": [
    "print(data_2004['ESTU_NACIMIENTO_MES'].value_counts().sort_index().index)\n",
    "print(data_2004['ESTU_NACIMIENTO_MES'].value_counts().sort_index())\n",
    "print(missing_data(data_2004['ESTU_NACIMIENTO_MES']))"
   ]
  },
  {
   "cell_type": "code",
   "execution_count": 13,
   "metadata": {
    "collapsed": true
   },
   "outputs": [],
   "source": [
    "data_2004['ESTU_NACIMIENTO_MES'] = data_2004['ESTU_NACIMIENTO_MES'].replace(16.0, np.nan)\n",
    "data_2004['ESTU_NACIMIENTO_MES'] = data_2004['ESTU_NACIMIENTO_MES'].replace(18.0, np.nan)\n",
    "data_2004['ESTU_NACIMIENTO_MES'] = data_2004['ESTU_NACIMIENTO_MES'].replace(19.0, np.nan)\n",
    "data_2004['ESTU_NACIMIENTO_MES'] = data_2004['ESTU_NACIMIENTO_MES'].replace(22.0, np.nan)"
   ]
  },
  {
   "cell_type": "code",
   "execution_count": 14,
   "metadata": {
    "collapsed": false,
    "scrolled": true
   },
   "outputs": [
    {
     "name": "stdout",
     "output_type": "stream",
     "text": [
      "Float64Index([  82.0,   86.0,   88.0,  183.0,  186.0,  984.0,  985.0, 1659.0,\n",
      "              1920.0, 1923.0, 1925.0, 1928.0, 1936.0, 1937.0, 1938.0, 1939.0,\n",
      "              1940.0, 1941.0, 1942.0, 1943.0, 1944.0, 1945.0, 1946.0, 1947.0,\n",
      "              1948.0, 1949.0, 1950.0, 1951.0, 1952.0, 1953.0, 1954.0, 1955.0,\n",
      "              1956.0, 1957.0, 1958.0, 1959.0, 1960.0, 1961.0, 1962.0, 1963.0,\n",
      "              1964.0, 1965.0, 1966.0, 1967.0, 1968.0, 1969.0, 1970.0, 1971.0,\n",
      "              1972.0, 1973.0, 1974.0, 1975.0, 1976.0, 1977.0, 1978.0, 1979.0,\n",
      "              1980.0, 1981.0, 1982.0, 1983.0, 1984.0, 1985.0, 1986.0, 1987.0,\n",
      "              1988.0, 1989.0, 1990.0, 1991.0, 1992.0, 1993.0, 1994.0, 1995.0,\n",
      "              1998.0],\n",
      "             dtype='float64')\n",
      "82.0          1\n",
      "86.0          1\n",
      "88.0          1\n",
      "183.0         1\n",
      "186.0         1\n",
      "984.0         1\n",
      "985.0         2\n",
      "1659.0        1\n",
      "1920.0        2\n",
      "1923.0        1\n",
      "1925.0        1\n",
      "1928.0        1\n",
      "1936.0        1\n",
      "1937.0        1\n",
      "1938.0        2\n",
      "1939.0        1\n",
      "1940.0        3\n",
      "1941.0        4\n",
      "1942.0        1\n",
      "1943.0        4\n",
      "1944.0        3\n",
      "1945.0        5\n",
      "1946.0        7\n",
      "1947.0        9\n",
      "1948.0        9\n",
      "1949.0       13\n",
      "1950.0       16\n",
      "1951.0       18\n",
      "1952.0       18\n",
      "1953.0       21\n",
      "          ...  \n",
      "1967.0      190\n",
      "1968.0      178\n",
      "1969.0      194\n",
      "1970.0      197\n",
      "1971.0      201\n",
      "1972.0      222\n",
      "1973.0      221\n",
      "1974.0      237\n",
      "1975.0      265\n",
      "1976.0      313\n",
      "1977.0      351\n",
      "1978.0      424\n",
      "1979.0      570\n",
      "1980.0      637\n",
      "1981.0      820\n",
      "1982.0     1203\n",
      "1983.0     1883\n",
      "1984.0     3866\n",
      "1985.0     8120\n",
      "1986.0    14162\n",
      "1987.0    18728\n",
      "1988.0     5695\n",
      "1989.0      427\n",
      "1990.0      100\n",
      "1991.0       51\n",
      "1992.0       46\n",
      "1993.0       52\n",
      "1994.0       40\n",
      "1995.0      125\n",
      "1998.0        1\n",
      "Name: ESTU_NACIMIENTO_ANNO, dtype: int64\n",
      "Elementos null/NaN 4040\n",
      "__________________\n",
      "Elementos diferentes de null/NaN: 60739\n",
      "__________________\n",
      "(60739,)\n",
      "None\n"
     ]
    }
   ],
   "source": [
    "print(data_2004['ESTU_NACIMIENTO_ANNO'].value_counts().sort_index().index)\n",
    "print(data_2004['ESTU_NACIMIENTO_ANNO'].value_counts().sort_index())\n",
    "print(missing_data(data_2004['ESTU_NACIMIENTO_ANNO']))"
   ]
  },
  {
   "cell_type": "code",
   "execution_count": 15,
   "metadata": {
    "collapsed": true
   },
   "outputs": [],
   "source": [
    "for i in data_2004['ESTU_NACIMIENTO_ANNO'].value_counts().sort_index().index:\n",
    "    if i < 1900:\n",
    "        data_2004['ESTU_NACIMIENTO_ANNO'] = data_2004['ESTU_NACIMIENTO_ANNO'].replace(i, np.nan)"
   ]
  },
  {
   "cell_type": "code",
   "execution_count": 16,
   "metadata": {
    "collapsed": false,
    "scrolled": true
   },
   "outputs": [
    {
     "name": "stdout",
     "output_type": "stream",
     "text": [
      "Index(['ANTIOQUIA', 'ARAUCA', 'ATLANTICO', 'BOGOTA', 'BOLIVAR', 'BOYACA',\n",
      "       'CALDAS', 'CAQUETA', 'CASANARE', 'CAUCA', 'CESAR', 'CHOCO', 'CORDOBA',\n",
      "       'CUNDINAMARCA', 'HUILA', 'LA GUAJIRA', 'MAGDALENA', 'META', 'NARIÑO',\n",
      "       'NORTE SANTANDER', 'PUTUMAYO', 'QUINDIO', 'RISARALDA', 'SANTANDER',\n",
      "       'SUCRE', 'TOLIMA', 'VALLE'],\n",
      "      dtype='object')\n",
      "ANTIOQUIA           2912\n",
      "ARAUCA                30\n",
      "ATLANTICO            475\n",
      "BOGOTA              6882\n",
      "BOLIVAR              368\n",
      "BOYACA               567\n",
      "CALDAS               451\n",
      "CAQUETA              178\n",
      "CASANARE             153\n",
      "CAUCA               1247\n",
      "CESAR                104\n",
      "CHOCO                  1\n",
      "CORDOBA              180\n",
      "CUNDINAMARCA        1508\n",
      "HUILA                387\n",
      "LA GUAJIRA           222\n",
      "MAGDALENA             61\n",
      "META                 295\n",
      "NARIÑO             11767\n",
      "NORTE SANTANDER      525\n",
      "PUTUMAYO              48\n",
      "QUINDIO              440\n",
      "RISARALDA            274\n",
      "SANTANDER            693\n",
      "SUCRE                 23\n",
      "TOLIMA               538\n",
      "VALLE              34450\n",
      "Name: ESTU_DEPTO_PRESENTACION, dtype: int64\n",
      "Elementos null/NaN 0\n",
      "__________________\n",
      "Elementos diferentes de null/NaN: 64779\n",
      "__________________\n",
      "(64779,)\n",
      "None\n"
     ]
    }
   ],
   "source": [
    "print(data_2004['ESTU_DEPTO_PRESENTACION'].value_counts().sort_index().index)\n",
    "print(data_2004['ESTU_DEPTO_PRESENTACION'].value_counts().sort_index())\n",
    "print(missing_data(data_2004['ESTU_DEPTO_PRESENTACION']))"
   ]
  },
  {
   "cell_type": "code",
   "execution_count": 17,
   "metadata": {
    "collapsed": false,
    "scrolled": true
   },
   "outputs": [
    {
     "name": "stdout",
     "output_type": "stream",
     "text": [
      "Index(['ACACIAS', 'AGUACHICA', 'ALBANIA', 'ALCALA', 'ANDALUCIA',\n",
      "       'ANSERMANUEVO', 'APARTADO', 'ARAUCA', 'ARMENIA', 'BARBACOAS',\n",
      "       ...\n",
      "       'TUQUERRES', 'UBATE', 'VALLEDUPAR', 'VELEZ', 'VILLAVICENCIO', 'YOLOMBO',\n",
      "       'YOPAL', 'YUMBO', 'ZARZAL', 'ZIPAQUIRA'],\n",
      "      dtype='object', length=124)\n",
      "ACACIAS                       7\n",
      "AGUACHICA                    32\n",
      "ALBANIA                      41\n",
      "ALCALA                      106\n",
      "ANDALUCIA                   166\n",
      "ANSERMANUEVO                 70\n",
      "APARTADO                     91\n",
      "ARAUCA                       21\n",
      "ARMENIA                     366\n",
      "BARBACOAS                   131\n",
      "BARRANCABERMEJA              32\n",
      "BARRANQUILLA                475\n",
      "BELLO                       260\n",
      "BOGOTA D.C.                6882\n",
      "BOLIVAR                      44\n",
      "BOSCONIA                      9\n",
      "BUCARAMANGA                 547\n",
      "BUENAVENTURA               2066\n",
      "BUESACO                     196\n",
      "BUGA                       1404\n",
      "BUGALAGRANDE                238\n",
      "CAICEDONIA                  274\n",
      "CALI                      17653\n",
      "CALIMA (DARIEN)              90\n",
      "CAMPOALEGRE                   3\n",
      "CANDELARIA                  657\n",
      "CARTAGENA                   322\n",
      "CARTAGO                    1262\n",
      "CAUCASIA                    169\n",
      "CHAPARRAL                    82\n",
      "                          ...  \n",
      "SAN MARTIN                   15\n",
      "SAN PABLO                   140\n",
      "SANDONA                     227\n",
      "SANTA MARTA                  61\n",
      "SANTA ROSA DE OSOS           15\n",
      "SANTANDER DE QUILICHAO      120\n",
      "SEVILLA                     306\n",
      "SINCELEJO                    23\n",
      "SOACHA                      365\n",
      "SOGAMOSO                    211\n",
      "TAME                          9\n",
      "TAMINANGO                   134\n",
      "TANGUA                       63\n",
      "TIERRALTA                    15\n",
      "TIMBIO                       30\n",
      "TORO                        118\n",
      "TRUJILLO                    120\n",
      "TULUA                      2102\n",
      "TUMACO                      911\n",
      "TUNJA                       356\n",
      "TUQUERRES                   502\n",
      "UBATE                        86\n",
      "VALLEDUPAR                   63\n",
      "VELEZ                        34\n",
      "VILLAVICENCIO               228\n",
      "YOLOMBO                       7\n",
      "YOPAL                       153\n",
      "YUMBO                       969\n",
      "ZARZAL                      370\n",
      "ZIPAQUIRA                    83\n",
      "Name: ESTU_MCPIO_PRESENTACION, dtype: int64\n",
      "Elementos null/NaN 0\n",
      "__________________\n",
      "Elementos diferentes de null/NaN: 64779\n",
      "__________________\n",
      "(64779,)\n",
      "None\n"
     ]
    }
   ],
   "source": [
    "print(data_2004['ESTU_MCPIO_PRESENTACION'].value_counts().sort_index().index)\n",
    "print(data_2004['ESTU_MCPIO_PRESENTACION'].value_counts().sort_index())\n",
    "print(missing_data(data_2004['ESTU_MCPIO_PRESENTACION']))"
   ]
  },
  {
   "cell_type": "code",
   "execution_count": 18,
   "metadata": {
    "collapsed": false
   },
   "outputs": [
    {
     "name": "stdout",
     "output_type": "stream",
     "text": [
      "Index(['I'], dtype='object')\n",
      "I    5\n",
      "Name: ESTU_LIMITA_INVIDENTE, dtype: int64\n",
      "Elementos null/NaN 64774\n",
      "__________________\n",
      "Elementos diferentes de null/NaN: 5\n",
      "__________________\n",
      "(5,)\n",
      "None\n"
     ]
    }
   ],
   "source": [
    "print(data_2004['ESTU_LIMITA_INVIDENTE'].value_counts().sort_index().index)\n",
    "print(data_2004['ESTU_LIMITA_INVIDENTE'].value_counts().sort_index())\n",
    "print(missing_data(data_2004['ESTU_LIMITA_INVIDENTE']))"
   ]
  },
  {
   "cell_type": "code",
   "execution_count": 19,
   "metadata": {
    "collapsed": false,
    "scrolled": true
   },
   "outputs": [
    {
     "name": "stdout",
     "output_type": "stream",
     "text": [
      "Index(['R'], dtype='object')\n",
      "R    10\n",
      "Name: ESTU_LIMITA_SORDOINTERPRETE, dtype: int64\n",
      "Elementos null/NaN 64769\n",
      "__________________\n",
      "Elementos diferentes de null/NaN: 10\n",
      "__________________\n",
      "(10,)\n",
      "None\n"
     ]
    }
   ],
   "source": [
    "print(data_2004['ESTU_LIMITA_SORDOINTERPRETE'].value_counts().sort_index().index)\n",
    "print(data_2004['ESTU_LIMITA_SORDOINTERPRETE'].value_counts().sort_index())\n",
    "print(missing_data(data_2004['ESTU_LIMITA_SORDOINTERPRETE']))"
   ]
  },
  {
   "cell_type": "code",
   "execution_count": 20,
   "metadata": {
    "collapsed": false
   },
   "outputs": [
    {
     "name": "stdout",
     "output_type": "stream",
     "text": [
      "Index(['S'], dtype='object')\n",
      "S    1\n",
      "Name: ESTU_LIMITA_SORDONOINTERPRETE, dtype: int64\n",
      "Elementos null/NaN 64778\n",
      "__________________\n",
      "Elementos diferentes de null/NaN: 1\n",
      "__________________\n",
      "(1,)\n",
      "None\n"
     ]
    }
   ],
   "source": [
    "print(data_2004['ESTU_LIMITA_SORDONOINTERPRETE'].value_counts().sort_index().index)\n",
    "print(data_2004['ESTU_LIMITA_SORDONOINTERPRETE'].value_counts().sort_index())\n",
    "print(missing_data(data_2004['ESTU_LIMITA_SORDONOINTERPRETE']))"
   ]
  },
  {
   "cell_type": "code",
   "execution_count": 21,
   "metadata": {
    "collapsed": true
   },
   "outputs": [],
   "source": [
    "\"\"\"Since the column is almost empy i will just delete the column.\"\"\"\n",
    "data_2004 = data_2004.drop(['ESTU_LIMITA_SORDONOINTERPRETE'], axis=1)"
   ]
  },
  {
   "cell_type": "code",
   "execution_count": 22,
   "metadata": {
    "collapsed": false
   },
   "outputs": [
    {
     "name": "stdout",
     "output_type": "stream",
     "text": [
      "Index(['M'], dtype='object')\n",
      "M    4\n",
      "Name: ESTU_LIMITA_MOTRIZ, dtype: int64\n",
      "Elementos null/NaN 64775\n",
      "__________________\n",
      "Elementos diferentes de null/NaN: 4\n",
      "__________________\n",
      "(4,)\n",
      "None\n"
     ]
    }
   ],
   "source": [
    "print(data_2004['ESTU_LIMITA_MOTRIZ'].value_counts().sort_index().index)\n",
    "print(data_2004['ESTU_LIMITA_MOTRIZ'].value_counts().sort_index())\n",
    "print(missing_data(data_2004['ESTU_LIMITA_MOTRIZ']))"
   ]
  },
  {
   "cell_type": "code",
   "execution_count": 23,
   "metadata": {
    "collapsed": false,
    "scrolled": true
   },
   "outputs": [
    {
     "name": "stdout",
     "output_type": "stream",
     "text": [
      "Float64Index([1101.0, 1102.0, 1103.0, 1104.0, 1106.0, 1107.0, 1108.0, 1110.0,\n",
      "              1111.0, 1112.0,\n",
      "              ...\n",
      "              2830.0, 2831.0, 2832.0, 2833.0, 2837.0, 2839.0, 9103.0, 9104.0,\n",
      "              9105.0, 9107.0],\n",
      "             dtype='float64', length=151)\n",
      "1101.0     3489\n",
      "1102.0      309\n",
      "1103.0      173\n",
      "1104.0      379\n",
      "1106.0      211\n",
      "1107.0        3\n",
      "1108.0       39\n",
      "1110.0     1710\n",
      "1111.0      288\n",
      "1112.0      348\n",
      "1113.0       32\n",
      "1114.0       88\n",
      "1115.0       12\n",
      "1117.0       96\n",
      "1118.0        5\n",
      "1119.0       83\n",
      "1120.0        9\n",
      "1121.0        6\n",
      "1122.0      127\n",
      "1201.0     1524\n",
      "1202.0       34\n",
      "1203.0    17568\n",
      "1204.0      245\n",
      "1205.0       18\n",
      "1206.0     3283\n",
      "1207.0      134\n",
      "1208.0      180\n",
      "1209.0      167\n",
      "1210.0        2\n",
      "1212.0      115\n",
      "          ...  \n",
      "2737.0       28\n",
      "2741.0        6\n",
      "2801.0      426\n",
      "2805.0       47\n",
      "2806.0       30\n",
      "2809.0       14\n",
      "2810.0       21\n",
      "2811.0       64\n",
      "2812.0        5\n",
      "2813.0       82\n",
      "2817.0       49\n",
      "2818.0       16\n",
      "2819.0       38\n",
      "2820.0        8\n",
      "2823.0        4\n",
      "2824.0       28\n",
      "2825.0       19\n",
      "2827.0       53\n",
      "2828.0       17\n",
      "2829.0       24\n",
      "2830.0       25\n",
      "2831.0       52\n",
      "2832.0      137\n",
      "2833.0       83\n",
      "2837.0       15\n",
      "2839.0       11\n",
      "9103.0       50\n",
      "9104.0      102\n",
      "9105.0        9\n",
      "9107.0       20\n",
      "Name: ESTU_IES_COD_DESEADA, dtype: int64\n",
      "Elementos null/NaN 19511\n",
      "__________________\n",
      "Elementos diferentes de null/NaN: 45268\n",
      "__________________\n",
      "(45268,)\n",
      "None\n"
     ]
    }
   ],
   "source": [
    "print(data_2004['ESTU_IES_COD_DESEADA'].value_counts().sort_index().index)\n",
    "print(data_2004['ESTU_IES_COD_DESEADA'].value_counts().sort_index())\n",
    "print(missing_data(data_2004['ESTU_IES_COD_DESEADA']))"
   ]
  },
  {
   "cell_type": "code",
   "execution_count": 24,
   "metadata": {
    "collapsed": false
   },
   "outputs": [
    {
     "name": "stdout",
     "output_type": "stream",
     "text": [
      "Float64Index([1.0, 2.0, 3.0, 4.0, 5.0, 6.0, 7.0, 8.0], dtype='float64')\n",
      "1.0      965\n",
      "2.0    21993\n",
      "3.0     4893\n",
      "4.0     3061\n",
      "5.0     8124\n",
      "6.0     3345\n",
      "7.0     3054\n",
      "8.0     1749\n",
      "Name: ESTU_RAZONINSTITUTO, dtype: int64\n",
      "Elementos null/NaN 17595\n",
      "__________________\n",
      "Elementos diferentes de null/NaN: 47184\n",
      "__________________\n",
      "(47184,)\n",
      "None\n"
     ]
    }
   ],
   "source": [
    "print(data_2004['ESTU_RAZONINSTITUTO'].value_counts().sort_index().index)\n",
    "print(data_2004['ESTU_RAZONINSTITUTO'].value_counts().sort_index())\n",
    "print(missing_data(data_2004['ESTU_RAZONINSTITUTO']))"
   ]
  },
  {
   "cell_type": "code",
   "execution_count": 25,
   "metadata": {
    "collapsed": false
   },
   "outputs": [
    {
     "name": "stdout",
     "output_type": "stream",
     "text": [
      "Float64Index([201.0, 202.0, 203.0, 204.0, 205.0, 206.0, 207.0, 208.0, 209.0,\n",
      "              210.0, 211.0, 212.0, 213.0, 214.0, 215.0, 216.0, 217.0, 218.0,\n",
      "              219.0, 220.0, 221.0, 222.0, 223.0, 224.0, 225.0, 226.0],\n",
      "             dtype='float64')\n",
      "201.0    3305\n",
      "202.0     992\n",
      "203.0     210\n",
      "204.0    8886\n",
      "205.0     279\n",
      "206.0    2426\n",
      "207.0      57\n",
      "208.0     337\n",
      "209.0    2038\n",
      "210.0     712\n",
      "211.0    1261\n",
      "212.0     502\n",
      "213.0    2288\n",
      "214.0     858\n",
      "215.0    2695\n",
      "216.0    7701\n",
      "217.0    1744\n",
      "218.0      73\n",
      "219.0     665\n",
      "220.0     732\n",
      "221.0      66\n",
      "222.0     118\n",
      "223.0     267\n",
      "224.0    3984\n",
      "225.0    4403\n",
      "226.0     965\n",
      "Name: ESTU_CARRDESEADA_COD, dtype: int64\n",
      "Elementos null/NaN 17215\n",
      "__________________\n",
      "Elementos diferentes de null/NaN: 47564\n",
      "__________________\n",
      "(47564,)\n",
      "None\n"
     ]
    }
   ],
   "source": [
    "print(data_2004['ESTU_CARRDESEADA_COD'].value_counts().sort_index().index)\n",
    "print(data_2004['ESTU_CARRDESEADA_COD'].value_counts().sort_index())\n",
    "print(missing_data(data_2004['ESTU_CARRDESEADA_COD']))"
   ]
  },
  {
   "cell_type": "code",
   "execution_count": 26,
   "metadata": {
    "collapsed": false
   },
   "outputs": [
    {
     "name": "stdout",
     "output_type": "stream",
     "text": [
      "Float64Index([1.0, 2.0, 3.0, 4.0, 5.0, 6.0], dtype='float64')\n",
      "1.0    17192\n",
      "2.0    13883\n",
      "3.0     5098\n",
      "4.0     4097\n",
      "5.0     3797\n",
      "6.0     1163\n",
      "Name: ESTU_CARRDESEADA_RAZON, dtype: int64\n",
      "Elementos null/NaN 19549\n",
      "__________________\n",
      "Elementos diferentes de null/NaN: 45230\n",
      "__________________\n",
      "(45230,)\n",
      "None\n"
     ]
    }
   ],
   "source": [
    "print(data_2004['ESTU_CARRDESEADA_RAZON'].value_counts().sort_index().index)\n",
    "print(data_2004['ESTU_CARRDESEADA_RAZON'].value_counts().sort_index())\n",
    "print(missing_data(data_2004['ESTU_CARRDESEADA_RAZON']))"
   ]
  },
  {
   "cell_type": "code",
   "execution_count": 27,
   "metadata": {
    "collapsed": false
   },
   "outputs": [
    {
     "name": "stdout",
     "output_type": "stream",
     "text": [
      "Index(['+', '1', '2', '3', '4', '5', '6', '7', '8', '9'], dtype='object')\n",
      "+     1500\n",
      "1      325\n",
      "2     2402\n",
      "3     8092\n",
      "4    16490\n",
      "5    14403\n",
      "6     7615\n",
      "7     3763\n",
      "8     2166\n",
      "9     1131\n",
      "Name: FAMI_PERSONAS_HOGAR, dtype: int64\n",
      "Elementos null/NaN 6892\n",
      "__________________\n",
      "Elementos diferentes de null/NaN: 57887\n",
      "__________________\n",
      "(57887,)\n",
      "None\n"
     ]
    }
   ],
   "source": [
    "print(data_2004['FAMI_PERSONAS_HOGAR'].value_counts().sort_index().index)\n",
    "print(data_2004['FAMI_PERSONAS_HOGAR'].value_counts().sort_index())\n",
    "print(missing_data(data_2004['FAMI_PERSONAS_HOGAR']))"
   ]
  },
  {
   "cell_type": "code",
   "execution_count": 28,
   "metadata": {
    "collapsed": true
   },
   "outputs": [],
   "source": [
    "data_2004['FAMI_PERSONAS_HOGAR'] = data_2004['FAMI_PERSONAS_HOGAR'].replace('+', '+9')"
   ]
  },
  {
   "cell_type": "code",
   "execution_count": 29,
   "metadata": {
    "collapsed": false
   },
   "outputs": [
    {
     "name": "stdout",
     "output_type": "stream",
     "text": [
      "Index(['N', 'S'], dtype='object')\n",
      "N    17942\n",
      "S    39825\n",
      "Name: FAMI_VIVIENDA_PROPIA, dtype: int64\n",
      "Elementos null/NaN 7012\n",
      "__________________\n",
      "Elementos diferentes de null/NaN: 57767\n",
      "__________________\n",
      "(57767,)\n",
      "None\n"
     ]
    }
   ],
   "source": [
    "print(data_2004['FAMI_VIVIENDA_PROPIA'].value_counts().sort_index().index)\n",
    "print(data_2004['FAMI_VIVIENDA_PROPIA'].value_counts().sort_index())\n",
    "print(missing_data(data_2004['FAMI_VIVIENDA_PROPIA']))"
   ]
  },
  {
   "cell_type": "code",
   "execution_count": 30,
   "metadata": {
    "collapsed": false
   },
   "outputs": [
    {
     "name": "stdout",
     "output_type": "stream",
     "text": [
      "Index(['N', 'S'], dtype='object')\n",
      "N    49713\n",
      "S     8054\n",
      "Name: FAMI_DEUDA_VIVIENDA, dtype: int64\n",
      "Elementos null/NaN 7012\n",
      "__________________\n",
      "Elementos diferentes de null/NaN: 57767\n",
      "__________________\n",
      "(57767,)\n",
      "None\n"
     ]
    }
   ],
   "source": [
    "print(data_2004['FAMI_DEUDA_VIVIENDA'].value_counts().sort_index().index)\n",
    "print(data_2004['FAMI_DEUDA_VIVIENDA'].value_counts().sort_index())\n",
    "print(missing_data(data_2004['FAMI_DEUDA_VIVIENDA']))"
   ]
  },
  {
   "cell_type": "code",
   "execution_count": 31,
   "metadata": {
    "collapsed": false
   },
   "outputs": [
    {
     "name": "stdout",
     "output_type": "stream",
     "text": [
      "Index(['+', '1', '2', '3', '4', '5', '6', '7', '8', '9'], dtype='object')\n",
      "+       34\n",
      "1    29666\n",
      "2    22218\n",
      "3     4084\n",
      "4     1119\n",
      "5      359\n",
      "6      119\n",
      "7       52\n",
      "8       25\n",
      "9       16\n",
      "Name: FAMI_APORTANTES, dtype: int64\n",
      "Elementos null/NaN 7087\n",
      "__________________\n",
      "Elementos diferentes de null/NaN: 57692\n",
      "__________________\n",
      "(57692,)\n",
      "None\n"
     ]
    }
   ],
   "source": [
    "print(data_2004['FAMI_APORTANTES'].value_counts().sort_index().index)\n",
    "print(data_2004['FAMI_APORTANTES'].value_counts().sort_index())\n",
    "print(missing_data(data_2004['FAMI_APORTANTES']))"
   ]
  },
  {
   "cell_type": "code",
   "execution_count": 32,
   "metadata": {
    "collapsed": true
   },
   "outputs": [],
   "source": [
    "data_2004['FAMI_APORTANTES'] = data_2004['FAMI_APORTANTES'].replace('+', '+9')"
   ]
  },
  {
   "cell_type": "code",
   "execution_count": 33,
   "metadata": {
    "collapsed": false
   },
   "outputs": [
    {
     "name": "stdout",
     "output_type": "stream",
     "text": [
      "Float64Index([0.0, 1.0, 2.0, 3.0, 4.0, 5.0, 6.0, 7.0, 8.0, 9.0], dtype='float64')\n",
      "0.0    10573\n",
      "1.0    23846\n",
      "2.0     9707\n",
      "3.0     4824\n",
      "4.0     1767\n",
      "5.0      854\n",
      "6.0      923\n",
      "7.0      469\n",
      "8.0      475\n",
      "9.0     1296\n",
      "Name: FAMI_INGRESO_FMILIAR_MENSUAL, dtype: int64\n",
      "Elementos null/NaN 10045\n",
      "__________________\n",
      "Elementos diferentes de null/NaN: 54734\n",
      "__________________\n",
      "(54734,)\n",
      "None\n"
     ]
    }
   ],
   "source": [
    "print(data_2004['FAMI_INGRESO_FMILIAR_MENSUAL'].value_counts().sort_index().index)\n",
    "print(data_2004['FAMI_INGRESO_FMILIAR_MENSUAL'].value_counts().sort_index())\n",
    "print(missing_data(data_2004['FAMI_INGRESO_FMILIAR_MENSUAL']))"
   ]
  },
  {
   "cell_type": "code",
   "execution_count": 34,
   "metadata": {
    "collapsed": false
   },
   "outputs": [
    {
     "name": "stdout",
     "output_type": "stream",
     "text": [
      "Index(['N', 'S'], dtype='object')\n",
      "N     1483\n",
      "S    50972\n",
      "Name: FAMI_LEE_ESCRIBE_PADRE, dtype: int64\n",
      "Elementos null/NaN 12324\n",
      "__________________\n",
      "Elementos diferentes de null/NaN: 52455\n",
      "__________________\n",
      "(52455,)\n",
      "None\n"
     ]
    }
   ],
   "source": [
    "print(data_2004['FAMI_LEE_ESCRIBE_PADRE'].value_counts().sort_index().index)\n",
    "print(data_2004['FAMI_LEE_ESCRIBE_PADRE'].value_counts().sort_index())\n",
    "print(missing_data(data_2004['FAMI_LEE_ESCRIBE_PADRE']))"
   ]
  },
  {
   "cell_type": "code",
   "execution_count": 35,
   "metadata": {
    "collapsed": false
   },
   "outputs": [
    {
     "name": "stdout",
     "output_type": "stream",
     "text": [
      "Index(['N', 'S'], dtype='object')\n",
      "N     1552\n",
      "S    53706\n",
      "Name: FAMI_LEE_ESCRIBE_MADRE, dtype: int64\n",
      "Elementos null/NaN 9521\n",
      "__________________\n",
      "Elementos diferentes de null/NaN: 55258\n",
      "__________________\n",
      "(55258,)\n",
      "None\n"
     ]
    }
   ],
   "source": [
    "print(data_2004['FAMI_LEE_ESCRIBE_MADRE'].value_counts().sort_index().index)\n",
    "print(data_2004['FAMI_LEE_ESCRIBE_MADRE'].value_counts().sort_index())\n",
    "print(missing_data(data_2004['FAMI_LEE_ESCRIBE_MADRE']))"
   ]
  },
  {
   "cell_type": "code",
   "execution_count": 36,
   "metadata": {
    "collapsed": false
   },
   "outputs": [
    {
     "name": "stdout",
     "output_type": "stream",
     "text": [
      "Float64Index([1.0, 2.0, 3.0, 4.0, 5.0, 6.0, 7.0, 8.0], dtype='float64')\n",
      "1.0     1653\n",
      "2.0      400\n",
      "3.0    20047\n",
      "4.0    12788\n",
      "5.0     3404\n",
      "6.0     2569\n",
      "7.0     5612\n",
      "8.0     3117\n",
      "Name: FAMI_EDUCA_PADRE, dtype: int64\n",
      "Elementos null/NaN 15189\n",
      "__________________\n",
      "Elementos diferentes de null/NaN: 49590\n",
      "__________________\n",
      "(49590,)\n",
      "None\n"
     ]
    }
   ],
   "source": [
    "print(data_2004['FAMI_EDUCA_PADRE'].value_counts().sort_index().index)\n",
    "print(data_2004['FAMI_EDUCA_PADRE'].value_counts().sort_index())\n",
    "print(missing_data(data_2004['FAMI_EDUCA_PADRE']))"
   ]
  },
  {
   "cell_type": "code",
   "execution_count": 37,
   "metadata": {
    "collapsed": false
   },
   "outputs": [
    {
     "name": "stdout",
     "output_type": "stream",
     "text": [
      "Float64Index([1.0, 2.0, 3.0, 4.0, 5.0, 6.0, 7.0, 8.0], dtype='float64')\n",
      "1.0     1671\n",
      "2.0      452\n",
      "3.0    21757\n",
      "4.0    15011\n",
      "5.0     4171\n",
      "6.0     2177\n",
      "7.0     5324\n",
      "8.0     2371\n",
      "Name: FAMI_EDUCA_MADRE, dtype: int64\n",
      "Elementos null/NaN 11845\n",
      "__________________\n",
      "Elementos diferentes de null/NaN: 52934\n",
      "__________________\n",
      "(52934,)\n",
      "None\n"
     ]
    }
   ],
   "source": [
    "print(data_2004['FAMI_EDUCA_MADRE'].value_counts().sort_index().index)\n",
    "print(data_2004['FAMI_EDUCA_MADRE'].value_counts().sort_index())\n",
    "print(missing_data(data_2004['FAMI_EDUCA_MADRE']))"
   ]
  },
  {
   "cell_type": "code",
   "execution_count": 38,
   "metadata": {
    "collapsed": false
   },
   "outputs": [
    {
     "name": "stdout",
     "output_type": "stream",
     "text": [
      "Float64Index([1.0, 2.0, 3.0, 4.0, 5.0, 6.0, 7.0, 8.0, 9.0, 10.0, 11.0, 12.0], dtype='float64')\n",
      "1.0      1131\n",
      "2.0      1539\n",
      "3.0      3353\n",
      "4.0      4002\n",
      "5.0     14572\n",
      "6.0      7501\n",
      "7.0       403\n",
      "8.0     11587\n",
      "9.0      2953\n",
      "10.0      822\n",
      "11.0       58\n",
      "12.0     1812\n",
      "Name: FAMI_OCUPA_PADRE, dtype: int64\n",
      "Elementos null/NaN 15046\n",
      "__________________\n",
      "Elementos diferentes de null/NaN: 49733\n",
      "__________________\n",
      "(49733,)\n",
      "None\n"
     ]
    }
   ],
   "source": [
    "print(data_2004['FAMI_OCUPA_PADRE'].value_counts().sort_index().index)\n",
    "print(data_2004['FAMI_OCUPA_PADRE'].value_counts().sort_index())\n",
    "print(missing_data(data_2004['FAMI_OCUPA_PADRE']))"
   ]
  },
  {
   "cell_type": "code",
   "execution_count": 39,
   "metadata": {
    "collapsed": false
   },
   "outputs": [
    {
     "name": "stdout",
     "output_type": "stream",
     "text": [
      "Float64Index([1.0, 2.0, 3.0, 4.0, 5.0, 6.0, 7.0, 8.0, 9.0, 10.0, 11.0, 12.0], dtype='float64')\n",
      "1.0       459\n",
      "2.0       944\n",
      "3.0      1720\n",
      "4.0      4413\n",
      "5.0      6774\n",
      "6.0      5224\n",
      "7.0       433\n",
      "8.0      3657\n",
      "9.0      1037\n",
      "10.0    26917\n",
      "11.0      215\n",
      "12.0     1152\n",
      "Name: FAMI_OCUPA_MADRE, dtype: int64\n",
      "Elementos null/NaN 11834\n",
      "__________________\n",
      "Elementos diferentes de null/NaN: 52945\n",
      "__________________\n",
      "(52945,)\n",
      "None\n"
     ]
    }
   ],
   "source": [
    "print(data_2004['FAMI_OCUPA_MADRE'].value_counts().sort_index().index)\n",
    "print(data_2004['FAMI_OCUPA_MADRE'].value_counts().sort_index())\n",
    "print(missing_data(data_2004['FAMI_OCUPA_MADRE']))"
   ]
  },
  {
   "cell_type": "code",
   "execution_count": 40,
   "metadata": {
    "collapsed": false
   },
   "outputs": [
    {
     "name": "stdout",
     "output_type": "stream",
     "text": [
      "Index(['+', '1', '2', '3', '4', '5', '6', '7', '8', '9'], dtype='object')\n",
      "+      924\n",
      "1    14443\n",
      "2    15646\n",
      "3     9110\n",
      "4     5309\n",
      "5     3120\n",
      "6     1904\n",
      "7     1317\n",
      "8      899\n",
      "9      520\n",
      "Name: FAMI_NUM_HERMANOS, dtype: int64\n",
      "Elementos null/NaN 11587\n",
      "__________________\n",
      "Elementos diferentes de null/NaN: 53192\n",
      "__________________\n",
      "(53192,)\n",
      "None\n"
     ]
    }
   ],
   "source": [
    "print(data_2004['FAMI_NUM_HERMANOS'].value_counts().sort_index().index)\n",
    "print(data_2004['FAMI_NUM_HERMANOS'].value_counts().sort_index())\n",
    "print(missing_data(data_2004['FAMI_NUM_HERMANOS']))"
   ]
  },
  {
   "cell_type": "code",
   "execution_count": 41,
   "metadata": {
    "collapsed": true
   },
   "outputs": [],
   "source": [
    "data_2004['FAMI_NUM_HERMANOS'] = data_2004['FAMI_NUM_HERMANOS'].replace('+', '+9')"
   ]
  },
  {
   "cell_type": "code",
   "execution_count": 42,
   "metadata": {
    "collapsed": false,
    "scrolled": true
   },
   "outputs": [
    {
     "name": "stdout",
     "output_type": "stream",
     "text": [
      "Index(['+', '1', '2', '3', '4', '5', '6', '7', '8', '9'], dtype='object')\n",
      "+       34\n",
      "1    15123\n",
      "2     5168\n",
      "3     1503\n",
      "4      447\n",
      "5      197\n",
      "6       78\n",
      "7       55\n",
      "8       28\n",
      "9       17\n",
      "Name: FAMI_NUM_HERMANOS_EDUSUPERIOR, dtype: int64\n",
      "Elementos null/NaN 42129\n",
      "__________________\n",
      "Elementos diferentes de null/NaN: 22650\n",
      "__________________\n",
      "(22650,)\n",
      "None\n"
     ]
    }
   ],
   "source": [
    "print(data_2004['FAMI_NUM_HERMANOS_EDUSUPERIOR'].value_counts().sort_index().index)\n",
    "print(data_2004['FAMI_NUM_HERMANOS_EDUSUPERIOR'].value_counts().sort_index())\n",
    "print(missing_data(data_2004['FAMI_NUM_HERMANOS_EDUSUPERIOR']))"
   ]
  },
  {
   "cell_type": "code",
   "execution_count": 43,
   "metadata": {
    "collapsed": true
   },
   "outputs": [],
   "source": [
    "data_2004['FAMI_NUM_HERMANOS_EDUSUPERIOR'] = data_2004['FAMI_NUM_HERMANOS_EDUSUPERIOR'].replace('+', '+9')"
   ]
  },
  {
   "cell_type": "code",
   "execution_count": 44,
   "metadata": {
    "collapsed": false,
    "scrolled": true
   },
   "outputs": [
    {
     "name": "stdout",
     "output_type": "stream",
     "text": [
      "Index(['+', '1', '2', '3', '4', '5', '6', '7', '8', '9'], dtype='object')\n",
      "+      377\n",
      "1    19959\n",
      "2    16357\n",
      "3     9175\n",
      "4     4184\n",
      "5     2206\n",
      "6     1282\n",
      "7      727\n",
      "8      513\n",
      "9      299\n",
      "Name: FAMI_POSICION_HERMANOS, dtype: int64\n",
      "Elementos null/NaN 9700\n",
      "__________________\n",
      "Elementos diferentes de null/NaN: 55079\n",
      "__________________\n",
      "(55079,)\n",
      "None\n"
     ]
    }
   ],
   "source": [
    "print(data_2004['FAMI_POSICION_HERMANOS'].value_counts().sort_index().index)\n",
    "print(data_2004['FAMI_POSICION_HERMANOS'].value_counts().sort_index())\n",
    "print(missing_data(data_2004['FAMI_POSICION_HERMANOS']))"
   ]
  },
  {
   "cell_type": "code",
   "execution_count": 45,
   "metadata": {
    "collapsed": true
   },
   "outputs": [],
   "source": [
    "data_2004['FAMI_POSICION_HERMANOS'] = data_2004['FAMI_POSICION_HERMANOS'].replace('+', '+9')"
   ]
  },
  {
   "cell_type": "code",
   "execution_count": 46,
   "metadata": {
    "collapsed": false
   },
   "outputs": [
    {
     "name": "stdout",
     "output_type": "stream",
     "text": [
      "Index(['N', 'P', 'T'], dtype='object')\n",
      "N     4661\n",
      "P     3511\n",
      "T    49116\n",
      "Name: FAMI_SOST_PERSONAL, dtype: int64\n",
      "Elementos null/NaN 7491\n",
      "__________________\n",
      "Elementos diferentes de null/NaN: 57288\n",
      "__________________\n",
      "(57288,)\n",
      "None\n"
     ]
    }
   ],
   "source": [
    "print(data_2004['FAMI_SOST_PERSONAL'].value_counts().sort_index().index)\n",
    "print(data_2004['FAMI_SOST_PERSONAL'].value_counts().sort_index())\n",
    "print(missing_data(data_2004['FAMI_SOST_PERSONAL']))"
   ]
  },
  {
   "cell_type": "code",
   "execution_count": 47,
   "metadata": {
    "collapsed": false
   },
   "outputs": [
    {
     "name": "stdout",
     "output_type": "stream",
     "text": [
      "Index(['N', 'S'], dtype='object')\n",
      "N    49654\n",
      "S     7485\n",
      "Name: ESTU_TRABAJA, dtype: int64\n",
      "Elementos null/NaN 7640\n",
      "__________________\n",
      "Elementos diferentes de null/NaN: 57139\n",
      "__________________\n",
      "(57139,)\n",
      "None\n"
     ]
    }
   ],
   "source": [
    "print(data_2004['ESTU_TRABAJA'].value_counts().sort_index().index)\n",
    "print(data_2004['ESTU_TRABAJA'].value_counts().sort_index())\n",
    "print(missing_data(data_2004['ESTU_TRABAJA']))"
   ]
  },
  {
   "cell_type": "code",
   "execution_count": 48,
   "metadata": {
    "collapsed": false
   },
   "outputs": [
    {
     "name": "stdout",
     "output_type": "stream",
     "text": [
      "Float64Index([1.0, 2.0, 3.0], dtype='float64')\n",
      "1.0    33476\n",
      "2.0     1919\n",
      "3.0    22215\n",
      "Name: ESTU_ACT_PROX_ANNO, dtype: int64\n",
      "Elementos null/NaN 7169\n",
      "__________________\n",
      "Elementos diferentes de null/NaN: 57610\n",
      "__________________\n",
      "(57610,)\n",
      "None\n"
     ]
    }
   ],
   "source": [
    "print(data_2004['ESTU_ACT_PROX_ANNO'].value_counts().sort_index().index)\n",
    "print(data_2004['ESTU_ACT_PROX_ANNO'].value_counts().sort_index())\n",
    "print(missing_data(data_2004['ESTU_ACT_PROX_ANNO']))"
   ]
  },
  {
   "cell_type": "code",
   "execution_count": 49,
   "metadata": {
    "collapsed": false
   },
   "outputs": [
    {
     "name": "stdout",
     "output_type": "stream",
     "text": [
      "Float64Index([1.0, 2.0, 3.0, 4.0, 5.0, 6.0], dtype='float64')\n",
      "1.0    13419\n",
      "2.0    22293\n",
      "3.0    14864\n",
      "4.0     3271\n",
      "5.0     2418\n",
      "6.0     1804\n",
      "Name: FAMI_ESTRATO_VIVIENDA, dtype: int64\n",
      "Elementos null/NaN 6710\n",
      "__________________\n",
      "Elementos diferentes de null/NaN: 58069\n",
      "__________________\n",
      "(58069,)\n",
      "None\n"
     ]
    }
   ],
   "source": [
    "print(data_2004['FAMI_ESTRATO_VIVIENDA'].value_counts().sort_index().index)\n",
    "print(data_2004['FAMI_ESTRATO_VIVIENDA'].value_counts().sort_index())\n",
    "print(missing_data(data_2004['FAMI_ESTRATO_VIVIENDA']))"
   ]
  },
  {
   "cell_type": "code",
   "execution_count": 50,
   "metadata": {
    "collapsed": false
   },
   "outputs": [
    {
     "name": "stdout",
     "output_type": "stream",
     "text": [
      "Index(['A', 'B', 'F'], dtype='object')\n",
      "A      430\n",
      "B    47247\n",
      "F    17102\n",
      "Name: COLE_CALENDARIO, dtype: int64\n",
      "Elementos null/NaN 0\n",
      "__________________\n",
      "Elementos diferentes de null/NaN: 64779\n",
      "__________________\n",
      "(64779,)\n",
      "None\n"
     ]
    }
   ],
   "source": [
    "print(data_2004['COLE_CALENDARIO'].value_counts().sort_index().index)\n",
    "print(data_2004['COLE_CALENDARIO'].value_counts().sort_index())\n",
    "print(missing_data(data_2004['COLE_CALENDARIO']))"
   ]
  },
  {
   "cell_type": "code",
   "execution_count": 51,
   "metadata": {
    "collapsed": false
   },
   "outputs": [
    {
     "name": "stdout",
     "output_type": "stream",
     "text": [
      "Float64Index([1.0, 2.0], dtype='float64')\n",
      "1.0    2045\n",
      "2.0     213\n",
      "Name: COLE_BILINGUE, dtype: int64\n",
      "Elementos null/NaN 62521\n",
      "__________________\n",
      "Elementos diferentes de null/NaN: 2258\n",
      "__________________\n",
      "(2258,)\n",
      "None\n"
     ]
    }
   ],
   "source": [
    "print(data_2004['COLE_BILINGUE'].value_counts().sort_index().index)\n",
    "print(data_2004['COLE_BILINGUE'].value_counts().sort_index())\n",
    "print(missing_data(data_2004['COLE_BILINGUE']))"
   ]
  },
  {
   "cell_type": "code",
   "execution_count": 52,
   "metadata": {
    "collapsed": false
   },
   "outputs": [
    {
     "name": "stdout",
     "output_type": "stream",
     "text": [
      "Index(['ACADEMICO', 'ACADEMICO Y TECNICO', 'NORMALISTA', 'TECNICO'], dtype='object')\n",
      "ACADEMICO              33956\n",
      "ACADEMICO Y TECNICO    13019\n",
      "NORMALISTA               921\n",
      "TECNICO                16883\n",
      "Name: COLE_CARACTER, dtype: int64\n",
      "Elementos null/NaN 0\n",
      "__________________\n",
      "Elementos diferentes de null/NaN: 64779\n",
      "__________________\n",
      "(64779,)\n",
      "None\n"
     ]
    }
   ],
   "source": [
    "print(data_2004['COLE_CARACTER'].value_counts().sort_index().index)\n",
    "print(data_2004['COLE_CARACTER'].value_counts().sort_index())\n",
    "print(missing_data(data_2004['COLE_CARACTER']))"
   ]
  },
  {
   "cell_type": "code",
   "execution_count": 53,
   "metadata": {
    "collapsed": false,
    "scrolled": true
   },
   "outputs": [
    {
     "name": "stdout",
     "output_type": "stream",
     "text": [
      "Index(['ANTIOQUIA', 'ARAUCA', 'ATLANTICO', 'BOGOTA', 'BOLIVAR', 'BOYACA',\n",
      "       'CALDAS', 'CAQUETA', 'CASANARE', 'CAUCA', 'CESAR', 'CORDOBA',\n",
      "       'CUNDINAMARCA', 'GUAINIA', 'HUILA', 'LA GUAJIRA', 'MAGDALENA', 'META',\n",
      "       'NARIÑO', 'NORTE SANTANDER', 'PUTUMAYO', 'QUINDIO', 'RISARALDA',\n",
      "       'SANTANDER', 'SUCRE', 'TOLIMA', 'VALLE'],\n",
      "      dtype='object')\n",
      "ANTIOQUIA           2896\n",
      "ARAUCA                28\n",
      "ATLANTICO            473\n",
      "BOGOTA              6465\n",
      "BOLIVAR              396\n",
      "BOYACA               578\n",
      "CALDAS               460\n",
      "CAQUETA              178\n",
      "CASANARE             147\n",
      "CAUCA               1235\n",
      "CESAR                 77\n",
      "CORDOBA              189\n",
      "CUNDINAMARCA        1791\n",
      "GUAINIA                1\n",
      "HUILA                388\n",
      "LA GUAJIRA           236\n",
      "MAGDALENA             61\n",
      "META                 294\n",
      "NARIÑO             11769\n",
      "NORTE SANTANDER      526\n",
      "PUTUMAYO              47\n",
      "QUINDIO              437\n",
      "RISARALDA            259\n",
      "SANTANDER            688\n",
      "SUCRE                 10\n",
      "TOLIMA               650\n",
      "VALLE              34500\n",
      "Name: COLE_DEPTO_UBICACION, dtype: int64\n",
      "Elementos null/NaN 0\n",
      "__________________\n",
      "Elementos diferentes de null/NaN: 64779\n",
      "__________________\n",
      "(64779,)\n",
      "None\n"
     ]
    }
   ],
   "source": [
    "print(data_2004['COLE_DEPTO_UBICACION'].value_counts().sort_index().index)\n",
    "print(data_2004['COLE_DEPTO_UBICACION'].value_counts().sort_index())\n",
    "print(missing_data(data_2004['COLE_DEPTO_UBICACION']))"
   ]
  },
  {
   "cell_type": "code",
   "execution_count": 54,
   "metadata": {
    "collapsed": false,
    "scrolled": true
   },
   "outputs": [
    {
     "name": "stdout",
     "output_type": "stream",
     "text": [
      "Index(['AGUA DE DIOS', 'AGUACHICA', 'AGUAZUL', 'ALBAN (SAN JOSE)', 'ALBANIA',\n",
      "       'ALCALA', 'ALDANA', 'ALGECIRAS', 'ANCUYA', 'ANDALUCIA',\n",
      "       ...\n",
      "       'VILLA GUAMEZ (LA HORMIGA)', 'VILLAVICENCIO', 'VILLETA', 'YACUANQUER',\n",
      "       'YAGUARA', 'YOPAL', 'YOTOCO', 'YUMBO', 'ZARZAL', 'ZIPAQUIRA'],\n",
      "      dtype='object', length=272)\n",
      "AGUA DE DIOS                   16\n",
      "AGUACHICA                       2\n",
      "AGUAZUL                        12\n",
      "ALBAN (SAN JOSE)               94\n",
      "ALBANIA                        41\n",
      "ALCALA                         79\n",
      "ALDANA                         84\n",
      "ALGECIRAS                       5\n",
      "ANCUYA                         86\n",
      "ANDALUCIA                     180\n",
      "ANSERMANUEVO                   79\n",
      "ANTIOQUIA                      17\n",
      "APARTADO                       94\n",
      "APIA                           53\n",
      "ARAUCA                         19\n",
      "ARBOLEDA (BERRUECOS)           45\n",
      "ARGELIA                        35\n",
      "ARMENIA                       254\n",
      "AYAPEL                          5\n",
      "BARBACOAS                     118\n",
      "BARBOSA                        36\n",
      "BARRANCABERMEJA                26\n",
      "BARRANQUILLA                  422\n",
      "BELEN                          76\n",
      "BELEN DE LOS ANDAQUIES         16\n",
      "BELLO                         167\n",
      "BOGOTÁ D.C.                  6465\n",
      "BOLIVAR                        65\n",
      "BOSCONIA                        9\n",
      "BUCARAMANGA                   381\n",
      "                             ... \n",
      "TIBU                           11\n",
      "TIMANA                          7\n",
      "TIMBIO                         30\n",
      "TOCAIMA                         3\n",
      "TORO                          118\n",
      "TRUJILLO                      135\n",
      "TULUA                        1914\n",
      "TUMACO                        849\n",
      "TUNJA                         242\n",
      "TUQUERRES                     404\n",
      "TURBACO                        41\n",
      "TUTA                           19\n",
      "UBATE                          46\n",
      "ULLOA                          32\n",
      "VALENCIA                       51\n",
      "VALLEDUPAR                     46\n",
      "VELEZ                          13\n",
      "VENECIA (OSPINA PEREZ)          9\n",
      "VERSALLES                      60\n",
      "VIJES                          83\n",
      "VILLA GUAMEZ (LA HORMIGA)       6\n",
      "VILLAVICENCIO                 216\n",
      "VILLETA                        86\n",
      "YACUANQUER                    117\n",
      "YAGUARA                        13\n",
      "YOPAL                          93\n",
      "YOTOCO                         96\n",
      "YUMBO                         925\n",
      "ZARZAL                        327\n",
      "ZIPAQUIRA                      49\n",
      "Name: COLE_MCPIO_UBICACION, dtype: int64\n",
      "Elementos null/NaN 0\n",
      "__________________\n",
      "Elementos diferentes de null/NaN: 64779\n",
      "__________________\n",
      "(64779,)\n",
      "None\n"
     ]
    }
   ],
   "source": [
    "print(data_2004['COLE_MCPIO_UBICACION'].value_counts().sort_index().index)\n",
    "print(data_2004['COLE_MCPIO_UBICACION'].value_counts().sort_index())\n",
    "print(missing_data(data_2004['COLE_MCPIO_UBICACION']))"
   ]
  },
  {
   "cell_type": "code",
   "execution_count": 55,
   "metadata": {
    "collapsed": false,
    "scrolled": true
   },
   "outputs": [
    {
     "name": "stdout",
     "output_type": "stream",
     "text": [
      "Index(['ANTIOQUIA', 'ARAUCA', 'ATLANTICO', 'BOGOTA', 'BOLIVAR', 'BOYACA',\n",
      "       'CALDAS', 'CAQUETA', 'CASANARE', 'CAUCA', 'CESAR', 'CHOCO', 'CORDOBA',\n",
      "       'CUNDINAMARCA', 'HUILA', 'LA GUAJIRA', 'MAGDALENA', 'META', 'NARIÑO',\n",
      "       'NORTE SANTANDER', 'PUTUMAYO', 'QUINDIO', 'RISARALDA', 'SANTANDER',\n",
      "       'SUCRE', 'TOLIMA', 'VALLE'],\n",
      "      dtype='object')\n",
      "ANTIOQUIA           2912\n",
      "ARAUCA                30\n",
      "ATLANTICO            475\n",
      "BOGOTA              6882\n",
      "BOLIVAR              368\n",
      "BOYACA               567\n",
      "CALDAS               451\n",
      "CAQUETA              178\n",
      "CASANARE             153\n",
      "CAUCA               1247\n",
      "CESAR                104\n",
      "CHOCO                  1\n",
      "CORDOBA              180\n",
      "CUNDINAMARCA        1508\n",
      "HUILA                387\n",
      "LA GUAJIRA           222\n",
      "MAGDALENA             61\n",
      "META                 295\n",
      "NARIÑO             11767\n",
      "NORTE SANTANDER      525\n",
      "PUTUMAYO              48\n",
      "QUINDIO              440\n",
      "RISARALDA            274\n",
      "SANTANDER            693\n",
      "SUCRE                 23\n",
      "TOLIMA               538\n",
      "VALLE              34450\n",
      "Name: ESTU_RESIDE_DEPTO, dtype: int64\n",
      "Elementos null/NaN 0\n",
      "__________________\n",
      "Elementos diferentes de null/NaN: 64779\n",
      "__________________\n",
      "(64779,)\n",
      "None\n"
     ]
    }
   ],
   "source": [
    "print(data_2004['ESTU_RESIDE_DEPTO'].value_counts().sort_index().index)\n",
    "print(data_2004['ESTU_RESIDE_DEPTO'].value_counts().sort_index())\n",
    "print(missing_data(data_2004['ESTU_RESIDE_DEPTO']))"
   ]
  },
  {
   "cell_type": "code",
   "execution_count": 56,
   "metadata": {
    "collapsed": false,
    "scrolled": true
   },
   "outputs": [
    {
     "name": "stdout",
     "output_type": "stream",
     "text": [
      "Index(['ACACIAS', 'ACEVEDO', 'AGUA DE DIOS', 'AGUACHICA', 'AGUAZUL', 'ALBAN',\n",
      "       'ALBAN (SAN JOSE)', 'ALBANIA', 'ALCALA', 'ALDANA',\n",
      "       ...\n",
      "       'YACOPI', 'YACUANQUER', 'YAGUARA', 'YARUMAL', 'YOLOMBO', 'YOPAL',\n",
      "       'YOTOCO', 'YUMBO', 'ZARZAL', 'ZIPAQUIRA'],\n",
      "      dtype='object', length=410)\n",
      "ACACIAS                        4\n",
      "ACEVEDO                        1\n",
      "AGUA DE DIOS                  41\n",
      "AGUACHICA                      2\n",
      "AGUAZUL                        7\n",
      "ALBAN                          1\n",
      "ALBAN (SAN JOSE)              93\n",
      "ALBANIA                       41\n",
      "ALCALA                        81\n",
      "ALDANA                        68\n",
      "ALGECIRAS                      5\n",
      "ANAPOIMA                       1\n",
      "ANCUYA                        78\n",
      "ANDALUCIA                    172\n",
      "ANDES                         15\n",
      "ANGOSTURA                      2\n",
      "ANSERMANUEVO                  70\n",
      "ANTIOQUIA                     33\n",
      "APARTADO                      66\n",
      "ARAUCA                        21\n",
      "ARBOLEDA (BERRUECOS)          44\n",
      "ARGELIA                       39\n",
      "ARMENIA                      249\n",
      "AYAPEL                         5\n",
      "BALBOA                         1\n",
      "BARANOA                        1\n",
      "BARBACOAS                    113\n",
      "BARBOSA                       36\n",
      "BARRANCABERMEJA               25\n",
      "BARRANQUILLA                 445\n",
      "                            ... \n",
      "VALDIVIA                       2\n",
      "VALENCIA                      42\n",
      "VALLEDUPAR                    45\n",
      "VELEZ                         12\n",
      "VENADILLO                      3\n",
      "VENECIA                       15\n",
      "VENECIA (OSPINA PEREZ)         1\n",
      "VENTAQUEMADA                   2\n",
      "VERSALLES                     61\n",
      "VIJES                         80\n",
      "VILLA DE LEYVA                 2\n",
      "VILLA DEL ROSARIO              1\n",
      "VILLA GUAMEZ (LA HORMIGA)      7\n",
      "VILLA RICA                     1\n",
      "VILLAMARIA                     6\n",
      "VILLANUEVA                    16\n",
      "VILLAPINZON                    1\n",
      "VILLAVICENCIO                163\n",
      "VILLETA                       86\n",
      "VIRACACHA                      1\n",
      "YACOPI                         2\n",
      "YACUANQUER                   108\n",
      "YAGUARA                        8\n",
      "YARUMAL                       10\n",
      "YOLOMBO                        7\n",
      "YOPAL                         96\n",
      "YOTOCO                       103\n",
      "YUMBO                        811\n",
      "ZARZAL                       344\n",
      "ZIPAQUIRA                     74\n",
      "Name: ESTU_RESIDE_MCPIO, dtype: int64\n",
      "Elementos null/NaN 1\n",
      "__________________\n",
      "Elementos diferentes de null/NaN: 64778\n",
      "__________________\n",
      "(64778,)\n",
      "None\n"
     ]
    }
   ],
   "source": [
    "print(data_2004['ESTU_RESIDE_MCPIO'].value_counts().sort_index().index)\n",
    "print(data_2004['ESTU_RESIDE_MCPIO'].value_counts().sort_index())\n",
    "print(missing_data(data_2004['ESTU_RESIDE_MCPIO']))"
   ]
  },
  {
   "cell_type": "markdown",
   "metadata": {},
   "source": [
    "### TARGETS"
   ]
  },
  {
   "cell_type": "code",
   "execution_count": 57,
   "metadata": {
    "collapsed": false,
    "scrolled": true
   },
   "outputs": [
    {
     "name": "stdout",
     "output_type": "stream",
     "text": [
      "Index([  43.5,   42.1,   44.9,   40.6,   46.2,   39.0,   47.5,   48.7,   37.2,\n",
      "         49.9, '42.1', '43.5', '40.6',   51.2, '44.9',   35.2,   '39', '46.2',\n",
      "         52.4,   53.6, '47.5', '37.2',   54.7, '48.7',   33.0,   56.0, '35.2',\n",
      "         57.3, '49.9',   58.6, '51.2',   60.0,   '33',   30.4, '52.4',   61.3,\n",
      "       '53.6',   62.8, '54.7', '30.4',   64.4,   '56',   66.2, '57.3',   27.2,\n",
      "       '58.6',   68.1,   '60', '61.3', '27.2', '62.8',   70.3,   22.7, '64.4',\n",
      "         72.9, '66.2', '68.1', '22.7',   76.1, '70.3',   80.4,   15.6,   87.6,\n",
      "          '0', '76.1', '15.6', '72.9', '87.6',   99.7, '80.4',  '---',    0.0],\n",
      "      dtype='object')\n",
      "43.5    5047\n",
      "42.1    4905\n",
      "44.9    4647\n",
      "40.6    4417\n",
      "46.2    3983\n",
      "39.0    3713\n",
      "47.5    3358\n",
      "48.7    2771\n",
      "37.2    2570\n",
      "49.9    2140\n",
      "42.1    1971\n",
      "43.5    1778\n",
      "40.6    1705\n",
      "51.2    1643\n",
      "44.9    1619\n",
      "35.2    1461\n",
      "39      1446\n",
      "46.2    1310\n",
      "52.4    1292\n",
      "53.6    1081\n",
      "47.5    1038\n",
      "37.2    1037\n",
      "54.7     915\n",
      "48.7     845\n",
      "33.0     811\n",
      "56.0     694\n",
      "35.2     667\n",
      "57.3     615\n",
      "49.9     564\n",
      "58.6     471\n",
      "        ... \n",
      "66.2     133\n",
      "57.3     119\n",
      "27.2     105\n",
      "58.6      91\n",
      "68.1      86\n",
      "60        84\n",
      "61.3      69\n",
      "27.2      52\n",
      "62.8      48\n",
      "70.3      47\n",
      "22.7      40\n",
      "64.4      40\n",
      "72.9      37\n",
      "66.2      31\n",
      "68.1      24\n",
      "22.7      18\n",
      "76.1      16\n",
      "70.3      11\n",
      "80.4      10\n",
      "15.6       9\n",
      "87.6       5\n",
      "0          5\n",
      "76.1       5\n",
      "15.6       5\n",
      "72.9       3\n",
      "87.6       2\n",
      "99.7       1\n",
      "80.4       1\n",
      "---        1\n",
      "0.0        1\n",
      "Name: PUNT_BIOLOGIA, dtype: int64\n",
      "Elementos null/NaN 0\n",
      "__________________\n",
      "Elementos diferentes de null/NaN: 64779\n",
      "__________________\n",
      "(64779,)\n",
      "None\n"
     ]
    }
   ],
   "source": [
    "print(data_2004['PUNT_BIOLOGIA'].value_counts().index)\n",
    "print(data_2004['PUNT_BIOLOGIA'].value_counts())\n",
    "print(missing_data(data_2004['PUNT_BIOLOGIA']))"
   ]
  },
  {
   "cell_type": "code",
   "execution_count": 58,
   "metadata": {
    "collapsed": true
   },
   "outputs": [],
   "source": [
    "data_2004['PUNT_BIOLOGIA'] = data_2004['PUNT_BIOLOGIA'].replace('---', np.nan)\n",
    "for i in data_2004['PUNT_BIOLOGIA'].value_counts().index:\n",
    "    if type(i) == str:\n",
    "        data_2004['PUNT_BIOLOGIA'] = data_2004['PUNT_BIOLOGIA'].replace(i, float(i))"
   ]
  },
  {
   "cell_type": "code",
   "execution_count": 59,
   "metadata": {
    "collapsed": false,
    "scrolled": true
   },
   "outputs": [
    {
     "name": "stdout",
     "output_type": "stream",
     "text": [
      "Index(['---', '0', '1', '13.4', '20', '24.8', '28.9', '32.3', '35.2', '38',\n",
      "       '40.5', '42.8', '45', '47.1', '49.1', '51.2', '53.1', '55.1', '57.1',\n",
      "       '59', '60.9', '62.9', '65', '67', '69.2', '71.4', '73.8', '76.2',\n",
      "       '78.9', '81.8', '85', '98.2'],\n",
      "      dtype='object')\n",
      "---       13\n",
      "0          8\n",
      "1         33\n",
      "13.4      99\n",
      "20       300\n",
      "24.8     897\n",
      "28.9    1943\n",
      "32.3    3714\n",
      "35.2    5915\n",
      "38      7858\n",
      "40.5    8917\n",
      "42.8    9047\n",
      "45      7800\n",
      "47.1    6309\n",
      "49.1    4503\n",
      "51.2    2844\n",
      "53.1    1815\n",
      "55.1    1043\n",
      "57.1     619\n",
      "59       394\n",
      "60.9     244\n",
      "62.9     156\n",
      "65       107\n",
      "67        70\n",
      "69.2      40\n",
      "71.4      33\n",
      "73.8      33\n",
      "76.2      11\n",
      "78.9       7\n",
      "81.8       3\n",
      "85         3\n",
      "98.2       1\n",
      "Name: PUNT_MATEMATICAS, dtype: int64\n",
      "Elementos null/NaN 0\n",
      "__________________\n",
      "Elementos diferentes de null/NaN: 64779\n",
      "__________________\n",
      "(64779,)\n",
      "None\n"
     ]
    }
   ],
   "source": [
    "print(data_2004['PUNT_MATEMATICAS'].value_counts().sort_index().index)\n",
    "print(data_2004['PUNT_MATEMATICAS'].value_counts().sort_index())\n",
    "print(missing_data(data_2004['PUNT_MATEMATICAS']))"
   ]
  },
  {
   "cell_type": "code",
   "execution_count": 60,
   "metadata": {
    "collapsed": true
   },
   "outputs": [],
   "source": [
    "data_2004['PUNT_MATEMATICAS'] = data_2004['PUNT_MATEMATICAS'].replace('---', np.nan)\n",
    "for i in data_2004['PUNT_MATEMATICAS'].value_counts().index:\n",
    "    if type(i) == str:\n",
    "        data_2004['PUNT_MATEMATICAS'] = data_2004['PUNT_MATEMATICAS'].replace(i, float(i))"
   ]
  },
  {
   "cell_type": "code",
   "execution_count": 61,
   "metadata": {
    "collapsed": false,
    "scrolled": true
   },
   "outputs": [
    {
     "name": "stdout",
     "output_type": "stream",
     "text": [
      "Index(['---', '0', '102.3', '11.7', '20.5', '26', '29.9', '33.2', '35.9',\n",
      "       '38.4', '40.7', '42.7', '44.6', '46.4', '48.2', '49.9', '51.5', '53.1',\n",
      "       '54.6', '56.2', '57.7', '59.4', '60.9', '62.5', '64.1', '65.8', '67.6',\n",
      "       '69.3', '71.3', '73.4', '75.5', '78', '80.8', '84.1', '88', '93.5'],\n",
      "      dtype='object')\n",
      "---        53\n",
      "0          17\n",
      "102.3       1\n",
      "11.7       28\n",
      "20.5       57\n",
      "26        140\n",
      "29.9      366\n",
      "33.2      748\n",
      "35.9     1510\n",
      "38.4     2441\n",
      "40.7     3606\n",
      "42.7     4583\n",
      "44.6     5129\n",
      "46.4     5600\n",
      "48.2     5305\n",
      "49.9     5171\n",
      "51.5     4679\n",
      "53.1     4073\n",
      "54.6     3464\n",
      "56.2     3071\n",
      "57.7     2563\n",
      "59.4     2333\n",
      "60.9     1869\n",
      "62.5     1712\n",
      "64.1     1340\n",
      "65.8     1163\n",
      "67.6     1004\n",
      "69.3      819\n",
      "71.3      695\n",
      "73.4      486\n",
      "75.5      338\n",
      "78        236\n",
      "80.8      104\n",
      "84.1       58\n",
      "88         12\n",
      "93.5        5\n",
      "Name: PUNT_FILOSOFIA, dtype: int64\n",
      "Elementos null/NaN 0\n",
      "__________________\n",
      "Elementos diferentes de null/NaN: 64779\n",
      "__________________\n",
      "(64779,)\n",
      "None\n"
     ]
    }
   ],
   "source": [
    "print(data_2004['PUNT_FILOSOFIA'].value_counts().sort_index().index)\n",
    "print(data_2004['PUNT_FILOSOFIA'].value_counts().sort_index())\n",
    "print(missing_data(data_2004['PUNT_FILOSOFIA']))"
   ]
  },
  {
   "cell_type": "code",
   "execution_count": 62,
   "metadata": {
    "collapsed": true
   },
   "outputs": [],
   "source": [
    "data_2004['PUNT_FILOSOFIA'] = data_2004['PUNT_FILOSOFIA'].replace('---', np.nan)\n",
    "for i in data_2004['PUNT_FILOSOFIA'].value_counts().index:\n",
    "    if type(i) == str:\n",
    "        data_2004['PUNT_FILOSOFIA'] = data_2004['PUNT_FILOSOFIA'].replace(i, float(i))"
   ]
  },
  {
   "cell_type": "code",
   "execution_count": 63,
   "metadata": {
    "collapsed": false,
    "scrolled": true
   },
   "outputs": [
    {
     "name": "stdout",
     "output_type": "stream",
     "text": [
      "Index([   '44',  '41.9',    '46',  '47.8',  '39.5',  '49.5',  '37.1',  '51.3',\n",
      "          44.0,  '34.2',    41.9,    46.0,  '52.9',    47.8,    39.5,    49.5,\n",
      "        '54.5',    37.1,  '30.8',    51.3,  '56.1',    34.2,    52.9,  '26.7',\n",
      "          54.5,  '57.7',    30.8,    56.1,  '59.3',    57.7,  '60.9',    59.3,\n",
      "          '21',    26.7,    60.9,  '62.4',    '64',    62.4,  '65.7',    21.0,\n",
      "          64.0,  '67.5',    65.7,    '71',  '69.2',    67.5,  '11.9',    69.2,\n",
      "          77.3,    75.0,    71.0,    '75',    72.9,    82.6,  '72.9',   '---',\n",
      "        '77.3',    11.9,    90.1,    95.6,     '0',  '79.8',    '86',  '82.6',\n",
      "       '104.8',    86.0,    79.8,     0.0],\n",
      "      dtype='object')\n",
      "44       6945\n",
      "41.9     6485\n",
      "46       6474\n",
      "47.8     5373\n",
      "39.5     5221\n",
      "49.5     4000\n",
      "37.1     3737\n",
      "51.3     2821\n",
      "44.0     2082\n",
      "34.2     2052\n",
      "41.9     2023\n",
      "46.0     2016\n",
      "52.9     1785\n",
      "47.8     1725\n",
      "39.5     1613\n",
      "49.5     1286\n",
      "54.5     1105\n",
      "37.1     1077\n",
      "30.8     1018\n",
      "51.3      953\n",
      "56.1      643\n",
      "34.2      617\n",
      "52.9      582\n",
      "26.7      401\n",
      "54.5      394\n",
      "57.7      365\n",
      "30.8      300\n",
      "56.1      244\n",
      "59.3      197\n",
      "57.7      194\n",
      "         ... \n",
      "65.7       44\n",
      "21.0       38\n",
      "64.0       38\n",
      "67.5       34\n",
      "65.7       28\n",
      "71         18\n",
      "69.2       18\n",
      "67.5       18\n",
      "11.9       17\n",
      "69.2       17\n",
      "77.3        9\n",
      "75.0        7\n",
      "71.0        7\n",
      "75          6\n",
      "72.9        5\n",
      "82.6        4\n",
      "72.9        4\n",
      "---         4\n",
      "77.3        3\n",
      "11.9        3\n",
      "90.1        2\n",
      "95.6        2\n",
      "0           2\n",
      "79.8        1\n",
      "86          1\n",
      "82.6        1\n",
      "104.8       1\n",
      "86.0        1\n",
      "79.8        1\n",
      "0.0         1\n",
      "Name: PUNT_FISICA, dtype: int64\n",
      "Elementos null/NaN 0\n",
      "__________________\n",
      "Elementos diferentes de null/NaN: 64779\n",
      "__________________\n",
      "(64779,)\n",
      "None\n"
     ]
    }
   ],
   "source": [
    "print(data_2004['PUNT_FISICA'].value_counts().index)\n",
    "print(data_2004['PUNT_FISICA'].value_counts())\n",
    "print(missing_data(data_2004['PUNT_FISICA']))"
   ]
  },
  {
   "cell_type": "code",
   "execution_count": 64,
   "metadata": {
    "collapsed": true
   },
   "outputs": [],
   "source": [
    "data_2004['PUNT_FISICA'] = data_2004['PUNT_FISICA'].replace('---', np.nan)\n",
    "for i in data_2004['PUNT_FISICA'].value_counts().index:\n",
    "    if type(i) == str:\n",
    "        data_2004['PUNT_FISICA'] = data_2004['PUNT_FISICA'].replace(i, float(i))"
   ]
  },
  {
   "cell_type": "code",
   "execution_count": 65,
   "metadata": {
    "collapsed": false,
    "scrolled": true
   },
   "outputs": [
    {
     "name": "stdout",
     "output_type": "stream",
     "text": [
      "Index([  40.8,   42.2, '40.8',   39.5, '42.2',   43.5, '39.5',   '38', '43.5',\n",
      "         38.0,   44.7, '44.7', '36.5',   45.9,   36.5, '45.9',   47.1, '34.8',\n",
      "         34.8, '47.1',   48.4, '48.4', '33.1',   33.1,   49.6, '49.6',   31.1,\n",
      "       '31.1',   50.8, '50.8', '28.9',   52.1, '52.1',   28.9,   53.3, '53.3',\n",
      "       '26.3',   26.3, '54.6',   54.6,   '23', '56.1',   23.0,   56.1,   57.4,\n",
      "       '57.4', '18.6',   '59',   18.6,   59.0,    '0',  '---',   60.6,   11.6,\n",
      "         62.4, '11.6', '62.4', '60.6'],\n",
      "      dtype='object')\n",
      "40.8    3541\n",
      "42.2    3463\n",
      "40.8    3445\n",
      "39.5    3386\n",
      "42.2    3367\n",
      "43.5    3149\n",
      "39.5    3146\n",
      "38      3083\n",
      "43.5    2984\n",
      "38.0    2927\n",
      "44.7    2734\n",
      "44.7    2627\n",
      "36.5    2395\n",
      "45.9    2259\n",
      "36.5    2253\n",
      "45.9    2104\n",
      "47.1    1802\n",
      "34.8    1741\n",
      "34.8    1703\n",
      "47.1    1599\n",
      "48.4    1257\n",
      "48.4    1200\n",
      "33.1    1148\n",
      "33.1    1081\n",
      "49.6     871\n",
      "49.6     849\n",
      "31.1     632\n",
      "31.1     622\n",
      "50.8     549\n",
      "50.8     526\n",
      "28.9     353\n",
      "52.1     340\n",
      "52.1     312\n",
      "28.9     308\n",
      "53.3     203\n",
      "53.3     173\n",
      "26.3     126\n",
      "26.3     116\n",
      "54.6      89\n",
      "54.6      85\n",
      "23        44\n",
      "56.1      40\n",
      "23.0      39\n",
      "56.1      33\n",
      "57.4      20\n",
      "57.4      11\n",
      "18.6      10\n",
      "59         8\n",
      "18.6       7\n",
      "59.0       5\n",
      "0          4\n",
      "---        2\n",
      "60.6       2\n",
      "11.6       2\n",
      "62.4       1\n",
      "11.6       1\n",
      "62.4       1\n",
      "60.6       1\n",
      "Name: PUNT_HISTORIA, dtype: int64\n",
      "Elementos null/NaN 0\n",
      "__________________\n",
      "Elementos diferentes de null/NaN: 64779\n",
      "__________________\n",
      "(64779,)\n",
      "None\n"
     ]
    }
   ],
   "source": [
    "print(data_2004['PUNT_HISTORIA'].value_counts().index)\n",
    "print(data_2004['PUNT_HISTORIA'].value_counts())\n",
    "print(missing_data(data_2004['PUNT_HISTORIA']))"
   ]
  },
  {
   "cell_type": "code",
   "execution_count": 66,
   "metadata": {
    "collapsed": true
   },
   "outputs": [],
   "source": [
    "data_2004['PUNT_HISTORIA'] = data_2004['PUNT_HISTORIA'].replace('---', np.nan)\n",
    "for i in data_2004['PUNT_HISTORIA'].value_counts().index:\n",
    "    if type(i) == str:\n",
    "        data_2004['PUNT_HISTORIA'] = data_2004['PUNT_HISTORIA'].replace(i, float(i))"
   ]
  },
  {
   "cell_type": "code",
   "execution_count": 67,
   "metadata": {
    "collapsed": false,
    "scrolled": true
   },
   "outputs": [
    {
     "name": "stdout",
     "output_type": "stream",
     "text": [
      "Float64Index([ 0.0, 17.4, 24.4, 28.7, 31.8, 34.3, 36.5, 38.4, 40.1, 41.6, 43.2,\n",
      "              44.5, 45.8, 47.2, 48.4, 49.7, 50.9, 52.0, 53.3, 54.5, 55.8, 57.0,\n",
      "              58.3, 59.7, 61.1, 62.5, 64.2, 65.9, 67.8, 70.0, 72.6, 75.7, 80.0,\n",
      "              87.1, 98.8],\n",
      "             dtype='float64')\n",
      "0.0        1\n",
      "17.4      16\n",
      "24.4      68\n",
      "28.7     239\n",
      "31.8     726\n",
      "34.3    1788\n",
      "36.5    3116\n",
      "38.4    4913\n",
      "40.1    6416\n",
      "41.6    7680\n",
      "43.2    7580\n",
      "44.5    6906\n",
      "45.8    5767\n",
      "47.2    4644\n",
      "48.4    3446\n",
      "49.7    2568\n",
      "50.9    1930\n",
      "52.0    1370\n",
      "53.3    1125\n",
      "54.5     821\n",
      "55.8     729\n",
      "57.0     578\n",
      "58.3     508\n",
      "59.7     375\n",
      "61.1     343\n",
      "62.5     262\n",
      "64.2     230\n",
      "65.9     153\n",
      "67.8     135\n",
      "70.0     151\n",
      "72.6      78\n",
      "75.7      52\n",
      "80.0      35\n",
      "87.1      23\n",
      "98.8       7\n",
      "Name: PUNT_QUIMICA, dtype: int64\n",
      "Elementos null/NaN 0\n",
      "__________________\n",
      "Elementos diferentes de null/NaN: 64779\n",
      "__________________\n",
      "(64779,)\n",
      "None\n"
     ]
    }
   ],
   "source": [
    "print(data_2004['PUNT_QUIMICA'].value_counts().sort_index().index)\n",
    "print(data_2004['PUNT_QUIMICA'].value_counts().sort_index())\n",
    "print(missing_data(data_2004['PUNT_QUIMICA']))"
   ]
  },
  {
   "cell_type": "code",
   "execution_count": 68,
   "metadata": {
    "collapsed": false,
    "scrolled": true
   },
   "outputs": [
    {
     "name": "stdout",
     "output_type": "stream",
     "text": [
      "Index([   47.1,    48.7,    45.7,    50.1,    44.1,    51.5,    53.0,    42.6,\n",
      "          54.4,    40.9,    56.0,    57.5,    59.1,    39.3,    60.7,  '47.1',\n",
      "        '45.7',    62.5,  '44.1',  '48.7',    37.4,    64.4,  '42.6',  '50.1',\n",
      "        '51.5',    66.4,  '40.9',    68.6,    '53',  '39.3',  '54.4',    71.1,\n",
      "          35.4,    '56',    74.1,  '57.5',  '37.4',  '59.1',    77.6,  '60.7',\n",
      "          33.3,  '62.5',  '35.4',    82.4,  '64.4',  '66.4',  '68.6',  '33.3',\n",
      "          30.9,    90.2,  '71.1',  '74.1',  '77.6',  '30.9',  '82.4',    28.0,\n",
      "         103.1,  '90.2',    '28',  '24.5',   104.6, '103.1',    24.5,    12.2,\n",
      "        '19.8',  '12.2',    19.8, '104.6',     '0',   '---'],\n",
      "      dtype='object')\n",
      "47.1     3646\n",
      "48.7     3602\n",
      "45.7     3484\n",
      "50.1     3372\n",
      "44.1     3190\n",
      "51.5     2965\n",
      "53.0     2874\n",
      "42.6     2814\n",
      "54.4     2515\n",
      "40.9     2257\n",
      "56.0     2238\n",
      "57.5     1862\n",
      "59.1     1655\n",
      "39.3     1613\n",
      "60.7     1443\n",
      "47.1     1428\n",
      "45.7     1380\n",
      "62.5     1324\n",
      "44.1     1279\n",
      "48.7     1232\n",
      "37.4     1144\n",
      "64.4     1143\n",
      "42.6     1127\n",
      "50.1     1115\n",
      "51.5     1021\n",
      "66.4      955\n",
      "40.9      948\n",
      "68.6      849\n",
      "53        810\n",
      "39.3      765\n",
      "         ... \n",
      "33.3      350\n",
      "62.5      309\n",
      "35.4      297\n",
      "82.4      295\n",
      "64.4      253\n",
      "66.4      231\n",
      "68.6      187\n",
      "33.3      175\n",
      "30.9      164\n",
      "90.2      132\n",
      "71.1      130\n",
      "74.1      126\n",
      "77.6       99\n",
      "30.9       85\n",
      "82.4       64\n",
      "28.0       64\n",
      "103.1      49\n",
      "90.2       33\n",
      "28         19\n",
      "24.5       16\n",
      "104.6      16\n",
      "103.1      15\n",
      "24.5       12\n",
      "12.2        4\n",
      "19.8        4\n",
      "12.2        3\n",
      "19.8        3\n",
      "104.6       2\n",
      "0           1\n",
      "---         1\n",
      "Name: PUNT_LENGUAJE, dtype: int64\n",
      "Elementos null/NaN 0\n",
      "__________________\n",
      "Elementos diferentes de null/NaN: 64779\n",
      "__________________\n",
      "(64779,)\n",
      "None\n"
     ]
    }
   ],
   "source": [
    "print(data_2004['PUNT_LENGUAJE'].value_counts().index)\n",
    "print(data_2004['PUNT_LENGUAJE'].value_counts())\n",
    "print(missing_data(data_2004['PUNT_LENGUAJE']))"
   ]
  },
  {
   "cell_type": "code",
   "execution_count": 69,
   "metadata": {
    "collapsed": true
   },
   "outputs": [],
   "source": [
    "data_2004['PUNT_LENGUAJE'] = data_2004['PUNT_LENGUAJE'].replace('---', np.nan)\n",
    "for i in data_2004['PUNT_LENGUAJE'].value_counts().index:\n",
    "    if type(i) == str:\n",
    "        data_2004['PUNT_LENGUAJE'] = data_2004['PUNT_LENGUAJE'].replace(i, float(i))"
   ]
  },
  {
   "cell_type": "code",
   "execution_count": 70,
   "metadata": {
    "collapsed": false,
    "scrolled": true
   },
   "outputs": [
    {
     "name": "stdout",
     "output_type": "stream",
     "text": [
      "Index(['42.3', '43.8', '40.9', '45.1', '39.3', '46.5', '37.7', '47.7', '48.9',\n",
      "       '35.8', '50.2', '51.4',   42.3,   43.8,   40.9, '52.7',   45.1, '33.9',\n",
      "         39.3,   46.5, '53.9',   47.7,   37.7,   48.9, '55.2',   50.2,   35.8,\n",
      "       '31.6', '56.5',   51.4, '57.8',   52.7,   33.9, '59.3',   53.9,   55.2,\n",
      "       '60.7', '28.8',   56.5,   31.6,   57.8, '62.3',   59.3, '63.9', '25.5',\n",
      "         28.8,   60.7, '65.8',   62.3, '67.7',   25.5, '20.9',   63.9,   65.8,\n",
      "         '70',   20.9, '13.4',   67.7,   70.0, '72.7',    '0',  '---',   76.1,\n",
      "         13.4,    0.0],\n",
      "      dtype='object')\n",
      "42.3    4740\n",
      "43.8    4540\n",
      "40.9    4417\n",
      "45.1    4105\n",
      "39.3    3907\n",
      "46.5    3694\n",
      "37.7    3154\n",
      "47.7    3040\n",
      "48.9    2516\n",
      "35.8    2275\n",
      "50.2    2118\n",
      "51.4    1724\n",
      "42.3    1597\n",
      "43.8    1543\n",
      "40.9    1536\n",
      "52.7    1466\n",
      "45.1    1441\n",
      "33.9    1358\n",
      "39.3    1299\n",
      "46.5    1297\n",
      "53.9    1110\n",
      "47.7    1083\n",
      "37.7    1058\n",
      "48.9     924\n",
      "55.2     890\n",
      "50.2     769\n",
      "35.8     724\n",
      "31.6     689\n",
      "56.5     671\n",
      "51.4     580\n",
      "        ... \n",
      "55.2     295\n",
      "60.7     290\n",
      "28.8     269\n",
      "56.5     230\n",
      "31.6     209\n",
      "57.8     153\n",
      "62.3     134\n",
      "59.3     101\n",
      "63.9      99\n",
      "25.5      99\n",
      "28.8      87\n",
      "60.7      80\n",
      "65.8      60\n",
      "62.3      46\n",
      "67.7      35\n",
      "25.5      26\n",
      "20.9      25\n",
      "63.9      19\n",
      "65.8      16\n",
      "70        13\n",
      "20.9      13\n",
      "13.4      10\n",
      "67.7       6\n",
      "70.0       5\n",
      "72.7       5\n",
      "0          4\n",
      "---        4\n",
      "76.1       1\n",
      "13.4       1\n",
      "0.0        1\n",
      "Name: PUNT_GEOGRAFIA, dtype: int64\n",
      "Elementos null/NaN 0\n",
      "__________________\n",
      "Elementos diferentes de null/NaN: 64779\n",
      "__________________\n",
      "(64779,)\n",
      "None\n"
     ]
    }
   ],
   "source": [
    "print(data_2004['PUNT_GEOGRAFIA'].value_counts().index)\n",
    "print(data_2004['PUNT_GEOGRAFIA'].value_counts())\n",
    "print(missing_data(data_2004['PUNT_GEOGRAFIA']))"
   ]
  },
  {
   "cell_type": "code",
   "execution_count": 71,
   "metadata": {
    "collapsed": true
   },
   "outputs": [],
   "source": [
    "data_2004['PUNT_GEOGRAFIA'] = data_2004['PUNT_GEOGRAFIA'].replace('---', np.nan)\n",
    "for i in data_2004['PUNT_GEOGRAFIA'].value_counts().index:\n",
    "    if type(i) == str:\n",
    "        data_2004['PUNT_GEOGRAFIA'] = data_2004['PUNT_GEOGRAFIA'].replace(i, float(i))"
   ]
  },
  {
   "cell_type": "code",
   "execution_count": 72,
   "metadata": {
    "collapsed": false
   },
   "outputs": [
    {
     "name": "stdout",
     "output_type": "stream",
     "text": [
      "Int64Index([43, 44, 45], dtype='int64')\n",
      "43    33251\n",
      "44    23366\n",
      "45     8162\n",
      "Name: COD_INTERDISCIPLINAR, dtype: int64\n",
      "Elementos null/NaN 0\n",
      "__________________\n",
      "Elementos diferentes de null/NaN: 64779\n",
      "__________________\n",
      "(64779,)\n",
      "None\n"
     ]
    }
   ],
   "source": [
    "print(data_2004['COD_INTERDISCIPLINAR'].value_counts().sort_index().index)\n",
    "print(data_2004['COD_INTERDISCIPLINAR'].value_counts().sort_index())\n",
    "print(missing_data(data_2004['COD_INTERDISCIPLINAR']))"
   ]
  },
  {
   "cell_type": "code",
   "execution_count": 73,
   "metadata": {
    "collapsed": false,
    "scrolled": true
   },
   "outputs": [
    {
     "name": "stdout",
     "output_type": "stream",
     "text": [
      "Index(['---', '0', '103', '109.4', '18.2', '25.3', '25.7', '31.7', '33.3',\n",
      "       '36.9', '38.4', '38.5', '40.6', '41.6', '42.4', '45.8', '46.2', '48.9',\n",
      "       '50', '50.8', '51.8', '53.6', '54.6', '55.3', '56.9', '57.5', '6.8',\n",
      "       '60', '60.3', '60.5', '63', '63.9', '65.5', '66.1', '67.8', '69.3',\n",
      "       '71.7', '72.8', '72.9', '77', '79.4', '80.6', '82.2', '90.2', '91'],\n",
      "      dtype='object')\n",
      "---       134\n",
      "0         248\n",
      "103         2\n",
      "109.4       8\n",
      "18.2      535\n",
      "25.3      576\n",
      "25.7      879\n",
      "31.7     1090\n",
      "33.3     1647\n",
      "36.9     1153\n",
      "38.4     2997\n",
      "38.5      532\n",
      "40.6     1551\n",
      "41.6     1012\n",
      "42.4     4022\n",
      "45.8     7261\n",
      "46.2      830\n",
      "48.9     3476\n",
      "50       4503\n",
      "50.8      693\n",
      "51.8     2644\n",
      "53.6     5582\n",
      "54.6     1629\n",
      "55.3      596\n",
      "56.9     5610\n",
      "57.5      999\n",
      "6.8       210\n",
      "60       4751\n",
      "60.3      420\n",
      "60.5      580\n",
      "63       3481\n",
      "63.9      267\n",
      "65.5      272\n",
      "66.1     2135\n",
      "67.8       96\n",
      "69.3     1111\n",
      "71.7      219\n",
      "72.8       48\n",
      "72.9      509\n",
      "77        198\n",
      "79.4      136\n",
      "80.6       11\n",
      "82.2       58\n",
      "90.2       10\n",
      "91         58\n",
      "Name: PUNT_INTERDISCIPLINAR, dtype: int64\n",
      "Elementos null/NaN 0\n",
      "__________________\n",
      "Elementos diferentes de null/NaN: 64779\n",
      "__________________\n",
      "(64779,)\n",
      "None\n"
     ]
    }
   ],
   "source": [
    "print(data_2004['PUNT_INTERDISCIPLINAR'].value_counts().sort_index().index)\n",
    "print(data_2004['PUNT_INTERDISCIPLINAR'].value_counts().sort_index())\n",
    "print(missing_data(data_2004['PUNT_INTERDISCIPLINAR']))"
   ]
  },
  {
   "cell_type": "code",
   "execution_count": 74,
   "metadata": {
    "collapsed": true
   },
   "outputs": [],
   "source": [
    "data_2004['PUNT_INTERDISCIPLINAR'] = data_2004['PUNT_INTERDISCIPLINAR'].replace('---', np.nan)\n",
    "for i in data_2004['PUNT_INTERDISCIPLINAR'].value_counts().index:\n",
    "    if type(i) == str:\n",
    "        data_2004['PUNT_INTERDISCIPLINAR'] = data_2004['PUNT_INTERDISCIPLINAR'].replace(i, float(i))"
   ]
  },
  {
   "cell_type": "code",
   "execution_count": 75,
   "metadata": {
    "collapsed": false
   },
   "outputs": [
    {
     "name": "stdout",
     "output_type": "stream",
     "text": [
      "Int64Index([51, 52, 53, 99], dtype='int64')\n",
      "51    64260\n",
      "52      431\n",
      "53       77\n",
      "99       11\n",
      "Name: COD_IDIOMA, dtype: int64\n",
      "Elementos null/NaN 0\n",
      "__________________\n",
      "Elementos diferentes de null/NaN: 64779\n",
      "__________________\n",
      "(64779,)\n",
      "None\n"
     ]
    }
   ],
   "source": [
    "print(data_2004['COD_IDIOMA'].value_counts().sort_index().index)\n",
    "print(data_2004['COD_IDIOMA'].value_counts().sort_index())\n",
    "print(missing_data(data_2004['COD_IDIOMA']))"
   ]
  },
  {
   "cell_type": "code",
   "execution_count": 76,
   "metadata": {
    "collapsed": false,
    "scrolled": true
   },
   "outputs": [
    {
     "name": "stdout",
     "output_type": "stream",
     "text": [
      "Index(['*', '---', '0', '13.9', '21.2', '22.1', '25.6', '26.7', '28.9', '29.9',\n",
      "       '30.2', '31.5', '32.7', '32.9', '33.7', '35', '35.3', '35.7', '37.1',\n",
      "       '37.3', '37.5', '38.9', '39.1', '39.2', '40.6', '40.7', '40.9', '42',\n",
      "       '42.2', '42.4', '43.4', '43.7', '43.9', '44.7', '45.1', '45.3', '45.9',\n",
      "       '46.5', '46.7', '47.2', '48', '48.4', '49.3', '49.6', '50.5', '50.8',\n",
      "       '51.6', '51.8', '52', '53', '53.2', '54.1', '54.3', '54.5', '55.5',\n",
      "       '55.7', '56.8', '57', '58', '58.1', '58.4', '59.3', '59.4', '59.8',\n",
      "       '60.7', '60.8', '61.3', '62.2', '62.9', '63.7', '64.7', '65.3', '65.4',\n",
      "       '66.7', '67.1', '68.9', '69.1', '71.3', '71.5', '73.9', '74.1', '74.8',\n",
      "       '77.2', '79.2', '81.6', '81.8', '86.5', '88.9', '98.8'],\n",
      "      dtype='object')\n",
      "*         11\n",
      "---       14\n",
      "0          8\n",
      "13.9      26\n",
      "21.2     113\n",
      "22.1       1\n",
      "25.6     373\n",
      "26.7       2\n",
      "28.9    1223\n",
      "29.9       4\n",
      "30.2       8\n",
      "31.5    2463\n",
      "32.7       8\n",
      "32.9      11\n",
      "33.7    4346\n",
      "35         3\n",
      "35.3      21\n",
      "35.7    6411\n",
      "37.1       9\n",
      "37.3      31\n",
      "37.5    7861\n",
      "38.9       9\n",
      "39.1    8307\n",
      "39.2      29\n",
      "40.6    8083\n",
      "40.7       8\n",
      "40.9      29\n",
      "42      6690\n",
      "42.2       5\n",
      "42.4      33\n",
      "        ... \n",
      "58.1       7\n",
      "58.4     312\n",
      "59.3       1\n",
      "59.4       7\n",
      "59.8     304\n",
      "60.7       3\n",
      "60.8      11\n",
      "61.3     326\n",
      "62.2      16\n",
      "62.9     308\n",
      "63.7      23\n",
      "64.7     338\n",
      "65.3      21\n",
      "65.4       1\n",
      "66.7     346\n",
      "67.1      14\n",
      "68.9     343\n",
      "69.1      22\n",
      "71.3      20\n",
      "71.5     316\n",
      "73.9      27\n",
      "74.1       3\n",
      "74.8     278\n",
      "77.2      14\n",
      "79.2     207\n",
      "81.6       8\n",
      "81.8       1\n",
      "86.5     121\n",
      "88.9       1\n",
      "98.8      32\n",
      "Name: PUNT_IDIOMA, dtype: int64\n",
      "Elementos null/NaN 0\n",
      "__________________\n",
      "Elementos diferentes de null/NaN: 64779\n",
      "__________________\n",
      "(64779,)\n",
      "None\n"
     ]
    }
   ],
   "source": [
    "print(data_2004['PUNT_IDIOMA'].value_counts().sort_index().index)\n",
    "print(data_2004['PUNT_IDIOMA'].value_counts().sort_index())\n",
    "print(missing_data(data_2004['PUNT_IDIOMA']))"
   ]
  },
  {
   "cell_type": "code",
   "execution_count": 77,
   "metadata": {
    "collapsed": false
   },
   "outputs": [],
   "source": [
    "data_2004['PUNT_IDIOMA'] = data_2004['PUNT_IDIOMA'].replace('---', np.nan)\n",
    "data_2004['PUNT_IDIOMA'] = data_2004['PUNT_IDIOMA'].replace('*', np.nan)\n",
    "for i in data_2004['PUNT_IDIOMA'].value_counts().index:\n",
    "    if type(i) == str:\n",
    "        data_2004['PUNT_IDIOMA'] = data_2004['PUNT_IDIOMA'].replace(i, float(i))"
   ]
  },
  {
   "cell_type": "markdown",
   "metadata": {},
   "source": [
    "# FILE 2 -> 2004_2"
   ]
  },
  {
   "cell_type": "code",
   "execution_count": 78,
   "metadata": {
    "collapsed": false
   },
   "outputs": [
    {
     "name": "stderr",
     "output_type": "stream",
     "text": [
      "/usr/local/anaconda3/lib/python3.5/site-packages/IPython/core/interactiveshell.py:2723: DtypeWarning: Columns (12,13,14,15,16,17,19,20,21,22,23,27,28) have mixed types. Specify dtype option on import or set low_memory=False.\n",
      "  interactivity=interactivity, compiler=compiler, result=result)\n"
     ]
    }
   ],
   "source": [
    "data_2004_2 = pd.read_csv('../DatosFTPICFES/SABER11/SB11-BASES_DE_DATOS/SB11-20042-RGSTRO-CLFCCN-V1-0.txt', delimiter = '|',\n",
    "                         encoding = \"iso-8859-1\")"
   ]
  },
  {
   "cell_type": "code",
   "execution_count": 79,
   "metadata": {
    "collapsed": false
   },
   "outputs": [
    {
     "data": {
      "text/plain": [
       "(366549, 40)"
      ]
     },
     "execution_count": 79,
     "metadata": {},
     "output_type": "execute_result"
    }
   ],
   "source": [
    "data_2004_2.shape"
   ]
  },
  {
   "cell_type": "code",
   "execution_count": 80,
   "metadata": {
    "collapsed": false,
    "scrolled": true
   },
   "outputs": [
    {
     "data": {
      "text/html": [
       "<div>\n",
       "<table border=\"1\" class=\"dataframe\">\n",
       "  <thead>\n",
       "    <tr style=\"text-align: right;\">\n",
       "      <th></th>\n",
       "      <th>0</th>\n",
       "      <th>1</th>\n",
       "      <th>2</th>\n",
       "    </tr>\n",
       "  </thead>\n",
       "  <tbody>\n",
       "    <tr>\n",
       "      <th>ESTU_CONSECUTIVO</th>\n",
       "      <td>SB11200420000001</td>\n",
       "      <td>SB11200420000002</td>\n",
       "      <td>SB11200420000003</td>\n",
       "    </tr>\n",
       "    <tr>\n",
       "      <th>COLE_COD_ICFES</th>\n",
       "      <td>68601</td>\n",
       "      <td>68601</td>\n",
       "      <td>68601</td>\n",
       "    </tr>\n",
       "    <tr>\n",
       "      <th>COLE_NOMBRE_SEDE</th>\n",
       "      <td>CENTRO DE EDUCACION DE JOVENES Y ADULTOS EDUCA...</td>\n",
       "      <td>CENTRO DE EDUCACION DE JOVENES Y ADULTOS EDUCA...</td>\n",
       "      <td>CENTRO DE EDUCACION DE JOVENES Y ADULTOS EDUCA...</td>\n",
       "    </tr>\n",
       "    <tr>\n",
       "      <th>IND_ANNO_TERMINO_BACHILLERATO</th>\n",
       "      <td>2004</td>\n",
       "      <td>2004</td>\n",
       "      <td>2004</td>\n",
       "    </tr>\n",
       "    <tr>\n",
       "      <th>COLE_JORNADA</th>\n",
       "      <td>N</td>\n",
       "      <td>N</td>\n",
       "      <td>N</td>\n",
       "    </tr>\n",
       "    <tr>\n",
       "      <th>COLE_VALOR_PENSION</th>\n",
       "      <td>0</td>\n",
       "      <td>0</td>\n",
       "      <td>0</td>\n",
       "    </tr>\n",
       "    <tr>\n",
       "      <th>ESTU_GENERO</th>\n",
       "      <td>F</td>\n",
       "      <td>M</td>\n",
       "      <td>M</td>\n",
       "    </tr>\n",
       "    <tr>\n",
       "      <th>ESTU_NACIMIENTO_DIA</th>\n",
       "      <td>10</td>\n",
       "      <td>6</td>\n",
       "      <td>17</td>\n",
       "    </tr>\n",
       "    <tr>\n",
       "      <th>ESTU_NACIMIENTO_MES</th>\n",
       "      <td>2</td>\n",
       "      <td>6</td>\n",
       "      <td>4</td>\n",
       "    </tr>\n",
       "    <tr>\n",
       "      <th>ESTU_NACIMIENTO_ANNO</th>\n",
       "      <td>1988</td>\n",
       "      <td>1988</td>\n",
       "      <td>1988</td>\n",
       "    </tr>\n",
       "    <tr>\n",
       "      <th>ESTU_DEPTO_PRESENTACION</th>\n",
       "      <td>RISARALDA</td>\n",
       "      <td>RISARALDA</td>\n",
       "      <td>RISARALDA</td>\n",
       "    </tr>\n",
       "    <tr>\n",
       "      <th>ESTU_MCPIO_PRESENTACION</th>\n",
       "      <td>PEREIRA</td>\n",
       "      <td>PEREIRA</td>\n",
       "      <td>PEREIRA</td>\n",
       "    </tr>\n",
       "    <tr>\n",
       "      <th>ESTU_LIMITA_INVIDENTE</th>\n",
       "      <td>NaN</td>\n",
       "      <td>NaN</td>\n",
       "      <td>NaN</td>\n",
       "    </tr>\n",
       "    <tr>\n",
       "      <th>ESTU_LIMITA_SORDOINTERPRETE</th>\n",
       "      <td>NaN</td>\n",
       "      <td>NaN</td>\n",
       "      <td>NaN</td>\n",
       "    </tr>\n",
       "    <tr>\n",
       "      <th>ESTU_LIMITA_SORDONOINTERPRETE</th>\n",
       "      <td>NaN</td>\n",
       "      <td>NaN</td>\n",
       "      <td>NaN</td>\n",
       "    </tr>\n",
       "    <tr>\n",
       "      <th>ESTU_LIMITA_MOTRIZ</th>\n",
       "      <td>NaN</td>\n",
       "      <td>NaN</td>\n",
       "      <td>NaN</td>\n",
       "    </tr>\n",
       "    <tr>\n",
       "      <th>PUNT_BIOLOGIA</th>\n",
       "      <td>45.79</td>\n",
       "      <td>42.86</td>\n",
       "      <td>52.54</td>\n",
       "    </tr>\n",
       "    <tr>\n",
       "      <th>PUNT_MATEMATICAS</th>\n",
       "      <td>48.19</td>\n",
       "      <td>49.87</td>\n",
       "      <td>44.85</td>\n",
       "    </tr>\n",
       "    <tr>\n",
       "      <th>PUNT_FILOSOFIA</th>\n",
       "      <td>46.6</td>\n",
       "      <td>37.25</td>\n",
       "      <td>44.94</td>\n",
       "    </tr>\n",
       "    <tr>\n",
       "      <th>PUNT_FISICA</th>\n",
       "      <td>37.52</td>\n",
       "      <td>34.59</td>\n",
       "      <td>46.63</td>\n",
       "    </tr>\n",
       "    <tr>\n",
       "      <th>PUNT_HISTORIA</th>\n",
       "      <td>45.16</td>\n",
       "      <td>36.42</td>\n",
       "      <td>41.17</td>\n",
       "    </tr>\n",
       "    <tr>\n",
       "      <th>PUNT_QUIMICA</th>\n",
       "      <td>42.23</td>\n",
       "      <td>45.98</td>\n",
       "      <td>48.33</td>\n",
       "    </tr>\n",
       "    <tr>\n",
       "      <th>PUNT_LENGUAJE</th>\n",
       "      <td>50.08</td>\n",
       "      <td>50.08</td>\n",
       "      <td>48.55</td>\n",
       "    </tr>\n",
       "    <tr>\n",
       "      <th>PUNT_GEOGRAFIA</th>\n",
       "      <td>46.81</td>\n",
       "      <td>45.35</td>\n",
       "      <td>49.61</td>\n",
       "    </tr>\n",
       "    <tr>\n",
       "      <th>COD_INTERDISCIPLINAR</th>\n",
       "      <td>43</td>\n",
       "      <td>43</td>\n",
       "      <td>43</td>\n",
       "    </tr>\n",
       "    <tr>\n",
       "      <th>PUNT_INTERDISCIPLINAR</th>\n",
       "      <td>56.61</td>\n",
       "      <td>56.61</td>\n",
       "      <td>59.77</td>\n",
       "    </tr>\n",
       "    <tr>\n",
       "      <th>COD_IDIOMA</th>\n",
       "      <td>51</td>\n",
       "      <td>51</td>\n",
       "      <td>51</td>\n",
       "    </tr>\n",
       "    <tr>\n",
       "      <th>PUNT_IDIOMA</th>\n",
       "      <td>47.70</td>\n",
       "      <td>36.79</td>\n",
       "      <td>30.84</td>\n",
       "    </tr>\n",
       "    <tr>\n",
       "      <th>ESTU_IES_COD_DESEADA</th>\n",
       "      <td>2711</td>\n",
       "      <td>1111</td>\n",
       "      <td>1111</td>\n",
       "    </tr>\n",
       "    <tr>\n",
       "      <th>ESTU_RAZONINSTITUTO</th>\n",
       "      <td>NaN</td>\n",
       "      <td>6</td>\n",
       "      <td>NaN</td>\n",
       "    </tr>\n",
       "    <tr>\n",
       "      <th>ESTU_CARRDESEADA_COD</th>\n",
       "      <td>4158</td>\n",
       "      <td>267</td>\n",
       "      <td>269</td>\n",
       "    </tr>\n",
       "    <tr>\n",
       "      <th>ESTU_CARRDESEADA_RAZON</th>\n",
       "      <td>2</td>\n",
       "      <td>1</td>\n",
       "      <td>2</td>\n",
       "    </tr>\n",
       "    <tr>\n",
       "      <th>COLE_CALENDARIO</th>\n",
       "      <td>A</td>\n",
       "      <td>A</td>\n",
       "      <td>A</td>\n",
       "    </tr>\n",
       "    <tr>\n",
       "      <th>COLE_BILINGUE</th>\n",
       "      <td>NaN</td>\n",
       "      <td>NaN</td>\n",
       "      <td>NaN</td>\n",
       "    </tr>\n",
       "    <tr>\n",
       "      <th>COLE_CARACTER</th>\n",
       "      <td>ACADEMICO</td>\n",
       "      <td>ACADEMICO</td>\n",
       "      <td>ACADEMICO</td>\n",
       "    </tr>\n",
       "    <tr>\n",
       "      <th>COLE_DEPTO_UBICACION</th>\n",
       "      <td>RISARALDA</td>\n",
       "      <td>RISARALDA</td>\n",
       "      <td>RISARALDA</td>\n",
       "    </tr>\n",
       "    <tr>\n",
       "      <th>COLE_MCPIO_UBICACION</th>\n",
       "      <td>PEREIRA</td>\n",
       "      <td>PEREIRA</td>\n",
       "      <td>PEREIRA</td>\n",
       "    </tr>\n",
       "    <tr>\n",
       "      <th>ESTU_TIPO_DOCUMENTO</th>\n",
       "      <td>T</td>\n",
       "      <td>T</td>\n",
       "      <td>T</td>\n",
       "    </tr>\n",
       "    <tr>\n",
       "      <th>ESTU_RESIDE_DEPTO</th>\n",
       "      <td>RISARALDA</td>\n",
       "      <td>RISARALDA</td>\n",
       "      <td>RISARALDA</td>\n",
       "    </tr>\n",
       "    <tr>\n",
       "      <th>ESTU_RESIDE_MCPIO</th>\n",
       "      <td>PEREIRA</td>\n",
       "      <td>PEREIRA</td>\n",
       "      <td>PEREIRA</td>\n",
       "    </tr>\n",
       "  </tbody>\n",
       "</table>\n",
       "</div>"
      ],
      "text/plain": [
       "                                                                               0  \\\n",
       "ESTU_CONSECUTIVO                                                SB11200420000001   \n",
       "COLE_COD_ICFES                                                             68601   \n",
       "COLE_NOMBRE_SEDE               CENTRO DE EDUCACION DE JOVENES Y ADULTOS EDUCA...   \n",
       "IND_ANNO_TERMINO_BACHILLERATO                                               2004   \n",
       "COLE_JORNADA                                                                   N   \n",
       "COLE_VALOR_PENSION                                                             0   \n",
       "ESTU_GENERO                                                                    F   \n",
       "ESTU_NACIMIENTO_DIA                                                           10   \n",
       "ESTU_NACIMIENTO_MES                                                            2   \n",
       "ESTU_NACIMIENTO_ANNO                                                        1988   \n",
       "ESTU_DEPTO_PRESENTACION                                                RISARALDA   \n",
       "ESTU_MCPIO_PRESENTACION                                                  PEREIRA   \n",
       "ESTU_LIMITA_INVIDENTE                                                        NaN   \n",
       "ESTU_LIMITA_SORDOINTERPRETE                                                  NaN   \n",
       "ESTU_LIMITA_SORDONOINTERPRETE                                                NaN   \n",
       "ESTU_LIMITA_MOTRIZ                                                           NaN   \n",
       "PUNT_BIOLOGIA                                                              45.79   \n",
       "PUNT_MATEMATICAS                                                           48.19   \n",
       "PUNT_FILOSOFIA                                                              46.6   \n",
       "PUNT_FISICA                                                                37.52   \n",
       "PUNT_HISTORIA                                                              45.16   \n",
       "PUNT_QUIMICA                                                               42.23   \n",
       "PUNT_LENGUAJE                                                              50.08   \n",
       "PUNT_GEOGRAFIA                                                             46.81   \n",
       "COD_INTERDISCIPLINAR                                                          43   \n",
       "PUNT_INTERDISCIPLINAR                                                      56.61   \n",
       "COD_IDIOMA                                                                    51   \n",
       "PUNT_IDIOMA                                                                47.70   \n",
       "ESTU_IES_COD_DESEADA                                                        2711   \n",
       "ESTU_RAZONINSTITUTO                                                          NaN   \n",
       "ESTU_CARRDESEADA_COD                                                        4158   \n",
       "ESTU_CARRDESEADA_RAZON                                                         2   \n",
       "COLE_CALENDARIO                                                                A   \n",
       "COLE_BILINGUE                                                                NaN   \n",
       "COLE_CARACTER                                                          ACADEMICO   \n",
       "COLE_DEPTO_UBICACION                                                   RISARALDA   \n",
       "COLE_MCPIO_UBICACION                                                     PEREIRA   \n",
       "ESTU_TIPO_DOCUMENTO                                                            T   \n",
       "ESTU_RESIDE_DEPTO                                                      RISARALDA   \n",
       "ESTU_RESIDE_MCPIO                                                        PEREIRA   \n",
       "\n",
       "                                                                               1  \\\n",
       "ESTU_CONSECUTIVO                                                SB11200420000002   \n",
       "COLE_COD_ICFES                                                             68601   \n",
       "COLE_NOMBRE_SEDE               CENTRO DE EDUCACION DE JOVENES Y ADULTOS EDUCA...   \n",
       "IND_ANNO_TERMINO_BACHILLERATO                                               2004   \n",
       "COLE_JORNADA                                                                   N   \n",
       "COLE_VALOR_PENSION                                                             0   \n",
       "ESTU_GENERO                                                                    M   \n",
       "ESTU_NACIMIENTO_DIA                                                            6   \n",
       "ESTU_NACIMIENTO_MES                                                            6   \n",
       "ESTU_NACIMIENTO_ANNO                                                        1988   \n",
       "ESTU_DEPTO_PRESENTACION                                                RISARALDA   \n",
       "ESTU_MCPIO_PRESENTACION                                                  PEREIRA   \n",
       "ESTU_LIMITA_INVIDENTE                                                        NaN   \n",
       "ESTU_LIMITA_SORDOINTERPRETE                                                  NaN   \n",
       "ESTU_LIMITA_SORDONOINTERPRETE                                                NaN   \n",
       "ESTU_LIMITA_MOTRIZ                                                           NaN   \n",
       "PUNT_BIOLOGIA                                                              42.86   \n",
       "PUNT_MATEMATICAS                                                           49.87   \n",
       "PUNT_FILOSOFIA                                                             37.25   \n",
       "PUNT_FISICA                                                                34.59   \n",
       "PUNT_HISTORIA                                                              36.42   \n",
       "PUNT_QUIMICA                                                               45.98   \n",
       "PUNT_LENGUAJE                                                              50.08   \n",
       "PUNT_GEOGRAFIA                                                             45.35   \n",
       "COD_INTERDISCIPLINAR                                                          43   \n",
       "PUNT_INTERDISCIPLINAR                                                      56.61   \n",
       "COD_IDIOMA                                                                    51   \n",
       "PUNT_IDIOMA                                                                36.79   \n",
       "ESTU_IES_COD_DESEADA                                                        1111   \n",
       "ESTU_RAZONINSTITUTO                                                            6   \n",
       "ESTU_CARRDESEADA_COD                                                         267   \n",
       "ESTU_CARRDESEADA_RAZON                                                         1   \n",
       "COLE_CALENDARIO                                                                A   \n",
       "COLE_BILINGUE                                                                NaN   \n",
       "COLE_CARACTER                                                          ACADEMICO   \n",
       "COLE_DEPTO_UBICACION                                                   RISARALDA   \n",
       "COLE_MCPIO_UBICACION                                                     PEREIRA   \n",
       "ESTU_TIPO_DOCUMENTO                                                            T   \n",
       "ESTU_RESIDE_DEPTO                                                      RISARALDA   \n",
       "ESTU_RESIDE_MCPIO                                                        PEREIRA   \n",
       "\n",
       "                                                                               2  \n",
       "ESTU_CONSECUTIVO                                                SB11200420000003  \n",
       "COLE_COD_ICFES                                                             68601  \n",
       "COLE_NOMBRE_SEDE               CENTRO DE EDUCACION DE JOVENES Y ADULTOS EDUCA...  \n",
       "IND_ANNO_TERMINO_BACHILLERATO                                               2004  \n",
       "COLE_JORNADA                                                                   N  \n",
       "COLE_VALOR_PENSION                                                             0  \n",
       "ESTU_GENERO                                                                    M  \n",
       "ESTU_NACIMIENTO_DIA                                                           17  \n",
       "ESTU_NACIMIENTO_MES                                                            4  \n",
       "ESTU_NACIMIENTO_ANNO                                                        1988  \n",
       "ESTU_DEPTO_PRESENTACION                                                RISARALDA  \n",
       "ESTU_MCPIO_PRESENTACION                                                  PEREIRA  \n",
       "ESTU_LIMITA_INVIDENTE                                                        NaN  \n",
       "ESTU_LIMITA_SORDOINTERPRETE                                                  NaN  \n",
       "ESTU_LIMITA_SORDONOINTERPRETE                                                NaN  \n",
       "ESTU_LIMITA_MOTRIZ                                                           NaN  \n",
       "PUNT_BIOLOGIA                                                              52.54  \n",
       "PUNT_MATEMATICAS                                                           44.85  \n",
       "PUNT_FILOSOFIA                                                             44.94  \n",
       "PUNT_FISICA                                                                46.63  \n",
       "PUNT_HISTORIA                                                              41.17  \n",
       "PUNT_QUIMICA                                                               48.33  \n",
       "PUNT_LENGUAJE                                                              48.55  \n",
       "PUNT_GEOGRAFIA                                                             49.61  \n",
       "COD_INTERDISCIPLINAR                                                          43  \n",
       "PUNT_INTERDISCIPLINAR                                                      59.77  \n",
       "COD_IDIOMA                                                                    51  \n",
       "PUNT_IDIOMA                                                                30.84  \n",
       "ESTU_IES_COD_DESEADA                                                        1111  \n",
       "ESTU_RAZONINSTITUTO                                                          NaN  \n",
       "ESTU_CARRDESEADA_COD                                                         269  \n",
       "ESTU_CARRDESEADA_RAZON                                                         2  \n",
       "COLE_CALENDARIO                                                                A  \n",
       "COLE_BILINGUE                                                                NaN  \n",
       "COLE_CARACTER                                                          ACADEMICO  \n",
       "COLE_DEPTO_UBICACION                                                   RISARALDA  \n",
       "COLE_MCPIO_UBICACION                                                     PEREIRA  \n",
       "ESTU_TIPO_DOCUMENTO                                                            T  \n",
       "ESTU_RESIDE_DEPTO                                                      RISARALDA  \n",
       "ESTU_RESIDE_MCPIO                                                        PEREIRA  "
      ]
     },
     "execution_count": 80,
     "metadata": {},
     "output_type": "execute_result"
    }
   ],
   "source": [
    "data_2004_2.head(3).T"
   ]
  },
  {
   "cell_type": "markdown",
   "metadata": {},
   "source": [
    "The first is delete the columns that won't contribute with the work"
   ]
  },
  {
   "cell_type": "code",
   "execution_count": 81,
   "metadata": {
    "collapsed": false
   },
   "outputs": [],
   "source": [
    "data_2004_2 = data_2004_2.drop(['ESTU_CONSECUTIVO', 'COLE_NOMBRE_SEDE', 'ESTU_TIPO_DOCUMENTO'], axis=1)"
   ]
  },
  {
   "cell_type": "code",
   "execution_count": 82,
   "metadata": {
    "collapsed": false,
    "scrolled": true
   },
   "outputs": [
    {
     "name": "stdout",
     "output_type": "stream",
     "text": [
      "Float64Index([    18.0,     59.0,     75.0,     83.0,     91.0,    125.0,\n",
      "                 141.0,    174.0,    190.0,    208.0,\n",
      "              ...\n",
      "              117630.0, 117648.0, 117655.0, 117705.0, 117721.0, 117739.0,\n",
      "              117747.0, 117754.0, 117762.0, 117820.0],\n",
      "             dtype='float64', length=7610)\n",
      "18.0          11\n",
      "59.0        1259\n",
      "75.0          54\n",
      "83.0          37\n",
      "91.0         113\n",
      "125.0         71\n",
      "141.0        108\n",
      "174.0        113\n",
      "190.0         88\n",
      "208.0         97\n",
      "216.0         30\n",
      "232.0         30\n",
      "240.0        117\n",
      "257.0         68\n",
      "265.0        144\n",
      "273.0         73\n",
      "281.0         79\n",
      "315.0        167\n",
      "349.0         22\n",
      "356.0         29\n",
      "364.0         44\n",
      "372.0         62\n",
      "380.0        204\n",
      "398.0         31\n",
      "406.0         53\n",
      "422.0         27\n",
      "430.0         80\n",
      "448.0         26\n",
      "455.0         87\n",
      "463.0        130\n",
      "            ... \n",
      "117366.0       4\n",
      "117382.0      35\n",
      "117390.0      17\n",
      "117432.0      45\n",
      "117465.0      27\n",
      "117473.0      18\n",
      "117481.0      49\n",
      "117499.0      51\n",
      "117507.0       9\n",
      "117515.0      11\n",
      "117523.0       9\n",
      "117549.0       8\n",
      "117556.0       8\n",
      "117564.0      30\n",
      "117572.0      18\n",
      "117580.0      19\n",
      "117598.0      29\n",
      "117606.0       3\n",
      "117614.0      17\n",
      "117622.0       6\n",
      "117630.0       3\n",
      "117648.0      18\n",
      "117655.0      11\n",
      "117705.0      11\n",
      "117721.0      11\n",
      "117739.0      19\n",
      "117747.0      32\n",
      "117754.0      55\n",
      "117762.0      27\n",
      "117820.0      26\n",
      "Name: COLE_COD_ICFES, dtype: int64\n",
      "Elementos null/NaN 213\n",
      "__________________\n",
      "Elementos diferentes de null/NaN: 366336\n",
      "__________________\n",
      "(366336,)\n",
      "None\n"
     ]
    }
   ],
   "source": [
    "print(data_2004_2['COLE_COD_ICFES'].value_counts().sort_index().index)\n",
    "print(data_2004_2['COLE_COD_ICFES'].value_counts().sort_index())\n",
    "print(missing_data(data_2004_2['COLE_COD_ICFES']))"
   ]
  },
  {
   "cell_type": "code",
   "execution_count": 83,
   "metadata": {
    "collapsed": false,
    "scrolled": true
   },
   "outputs": [
    {
     "name": "stdout",
     "output_type": "stream",
     "text": [
      "Float64Index([1950.0, 1951.0, 1952.0, 1953.0, 1954.0, 1955.0, 1956.0, 1957.0,\n",
      "              1958.0, 1959.0, 1960.0, 1961.0, 1962.0, 1963.0, 1964.0, 1965.0,\n",
      "              1966.0, 1968.0, 1969.0, 1970.0, 1971.0, 1972.0, 1973.0, 1974.0,\n",
      "              1975.0, 1976.0, 1977.0, 1978.0, 1979.0, 1980.0, 1981.0, 1982.0,\n",
      "              1983.0, 1984.0, 1985.0, 1986.0, 1987.0, 1988.0, 1989.0, 1990.0,\n",
      "              1991.0, 1992.0, 1993.0, 1994.0, 1995.0, 1996.0, 1997.0, 1998.0,\n",
      "              1999.0, 2000.0, 2001.0, 2002.0, 2003.0, 2004.0],\n",
      "             dtype='float64')\n",
      "1950.0        72\n",
      "1951.0         7\n",
      "1952.0         2\n",
      "1953.0         2\n",
      "1954.0         4\n",
      "1955.0         3\n",
      "1956.0         2\n",
      "1957.0         5\n",
      "1958.0         3\n",
      "1959.0         1\n",
      "1960.0         6\n",
      "1961.0         7\n",
      "1962.0         2\n",
      "1963.0         2\n",
      "1964.0         7\n",
      "1965.0         9\n",
      "1966.0         7\n",
      "1968.0         6\n",
      "1969.0         3\n",
      "1970.0         7\n",
      "1971.0         9\n",
      "1972.0        13\n",
      "1973.0         5\n",
      "1974.0        24\n",
      "1975.0        31\n",
      "1976.0        10\n",
      "1977.0        18\n",
      "1978.0        16\n",
      "1979.0        25\n",
      "1980.0        26\n",
      "1981.0        23\n",
      "1982.0        38\n",
      "1983.0        27\n",
      "1984.0        82\n",
      "1985.0        55\n",
      "1986.0        62\n",
      "1987.0        71\n",
      "1988.0        86\n",
      "1989.0        84\n",
      "1990.0        91\n",
      "1991.0       135\n",
      "1992.0       162\n",
      "1993.0       188\n",
      "1994.0       358\n",
      "1995.0       300\n",
      "1996.0       396\n",
      "1997.0       529\n",
      "1998.0       793\n",
      "1999.0       985\n",
      "2000.0      1596\n",
      "2001.0      2067\n",
      "2002.0      2203\n",
      "2003.0      1923\n",
      "2004.0    352557\n",
      "Name: IND_ANNO_TERMINO_BACHILLERATO, dtype: int64\n",
      "Elementos null/NaN 1404\n",
      "__________________\n",
      "Elementos diferentes de null/NaN: 365145\n",
      "__________________\n",
      "(365145,)\n",
      "None\n"
     ]
    }
   ],
   "source": [
    "print(data_2004_2['IND_ANNO_TERMINO_BACHILLERATO'].value_counts().sort_index().index)\n",
    "print(data_2004_2['IND_ANNO_TERMINO_BACHILLERATO'].value_counts().sort_index())\n",
    "print(missing_data(data_2004_2['IND_ANNO_TERMINO_BACHILLERATO']))"
   ]
  },
  {
   "cell_type": "code",
   "execution_count": 84,
   "metadata": {
    "collapsed": false
   },
   "outputs": [
    {
     "name": "stdout",
     "output_type": "stream",
     "text": [
      "Index(['C', 'M', 'N', 'S', 'T'], dtype='object')\n",
      "C     88005\n",
      "M    164662\n",
      "N     28232\n",
      "S      2987\n",
      "T     82444\n",
      "Name: COLE_JORNADA, dtype: int64\n",
      "Elementos null/NaN 219\n",
      "__________________\n",
      "Elementos diferentes de null/NaN: 366330\n",
      "__________________\n",
      "(366330,)\n",
      "None\n"
     ]
    }
   ],
   "source": [
    "print(data_2004_2['COLE_JORNADA'].value_counts().sort_index().index)\n",
    "print(data_2004_2['COLE_JORNADA'].value_counts().sort_index())\n",
    "print(missing_data(data_2004_2['COLE_JORNADA']))"
   ]
  },
  {
   "cell_type": "code",
   "execution_count": 85,
   "metadata": {
    "collapsed": false
   },
   "outputs": [
    {
     "name": "stdout",
     "output_type": "stream",
     "text": [
      "Float64Index([0.0, 1.0, 2.0, 3.0, 4.0, 5.0, 6.0, 7.0], dtype='float64')\n",
      "0.0    169810\n",
      "1.0    107221\n",
      "2.0     17367\n",
      "3.0     14735\n",
      "4.0     17576\n",
      "5.0     17974\n",
      "6.0     14593\n",
      "7.0      5869\n",
      "Name: COLE_VALOR_PENSION, dtype: int64\n",
      "Elementos null/NaN 1404\n",
      "__________________\n",
      "Elementos diferentes de null/NaN: 365145\n",
      "__________________\n",
      "(365145,)\n",
      "None\n"
     ]
    }
   ],
   "source": [
    "print(data_2004_2['COLE_VALOR_PENSION'].value_counts().sort_index().index)\n",
    "print(data_2004_2['COLE_VALOR_PENSION'].value_counts().sort_index())\n",
    "print(missing_data(data_2004_2['COLE_VALOR_PENSION']))"
   ]
  },
  {
   "cell_type": "code",
   "execution_count": 86,
   "metadata": {
    "collapsed": false
   },
   "outputs": [
    {
     "name": "stdout",
     "output_type": "stream",
     "text": [
      "Index(['F', 'M'], dtype='object')\n",
      "F    198164\n",
      "M    168384\n",
      "Name: ESTU_GENERO, dtype: int64\n",
      "Elementos null/NaN 1\n",
      "__________________\n",
      "Elementos diferentes de null/NaN: 366548\n",
      "__________________\n",
      "(366548,)\n",
      "None\n"
     ]
    }
   ],
   "source": [
    "print(data_2004_2['ESTU_GENERO'].value_counts().sort_index().index)\n",
    "print(data_2004_2['ESTU_GENERO'].value_counts().sort_index())\n",
    "print(missing_data(data_2004_2['ESTU_GENERO']))"
   ]
  },
  {
   "cell_type": "code",
   "execution_count": 87,
   "metadata": {
    "collapsed": false,
    "scrolled": true
   },
   "outputs": [
    {
     "name": "stdout",
     "output_type": "stream",
     "text": [
      "Float64Index([ 1.0,  2.0,  3.0,  4.0,  5.0,  6.0,  7.0,  8.0,  9.0, 10.0, 11.0,\n",
      "              12.0, 13.0, 14.0, 15.0, 16.0, 17.0, 18.0, 19.0, 20.0, 21.0, 22.0,\n",
      "              23.0, 24.0, 25.0, 26.0, 27.0, 28.0, 29.0, 30.0, 31.0],\n",
      "             dtype='float64')\n",
      "1.0     12152\n",
      "2.0     12086\n",
      "3.0     12011\n",
      "4.0     11913\n",
      "5.0     12117\n",
      "6.0     12038\n",
      "7.0     12149\n",
      "8.0     12057\n",
      "9.0     11878\n",
      "10.0    12495\n",
      "11.0    11881\n",
      "12.0    11948\n",
      "13.0    11700\n",
      "14.0    12009\n",
      "15.0    12273\n",
      "16.0    12075\n",
      "17.0    11986\n",
      "18.0    12040\n",
      "19.0    11775\n",
      "20.0    12391\n",
      "21.0    11461\n",
      "22.0    11883\n",
      "23.0    11997\n",
      "24.0    11874\n",
      "25.0    12151\n",
      "26.0    12016\n",
      "27.0    12028\n",
      "28.0    12127\n",
      "29.0    11074\n",
      "30.0    10885\n",
      "31.0     6678\n",
      "Name: ESTU_NACIMIENTO_DIA, dtype: int64\n",
      "Elementos null/NaN 1401\n",
      "__________________\n",
      "Elementos diferentes de null/NaN: 365148\n",
      "__________________\n",
      "(365148,)\n",
      "None\n"
     ]
    }
   ],
   "source": [
    "print(data_2004_2['ESTU_NACIMIENTO_DIA'].value_counts().sort_index().index)\n",
    "print(data_2004_2['ESTU_NACIMIENTO_DIA'].value_counts().sort_index())\n",
    "print(missing_data(data_2004_2['ESTU_NACIMIENTO_DIA']))"
   ]
  },
  {
   "cell_type": "code",
   "execution_count": 88,
   "metadata": {
    "collapsed": false
   },
   "outputs": [
    {
     "name": "stdout",
     "output_type": "stream",
     "text": [
      "Float64Index([1.0, 2.0, 3.0, 4.0, 5.0, 6.0, 7.0, 8.0, 9.0, 10.0, 11.0, 12.0], dtype='float64')\n",
      "1.0     29602\n",
      "2.0     27372\n",
      "3.0     30068\n",
      "4.0     29387\n",
      "5.0     30625\n",
      "6.0     29493\n",
      "7.0     30718\n",
      "8.0     30675\n",
      "9.0     32731\n",
      "10.0    32356\n",
      "11.0    31066\n",
      "12.0    31055\n",
      "Name: ESTU_NACIMIENTO_MES, dtype: int64\n",
      "Elementos null/NaN 1401\n",
      "__________________\n",
      "Elementos diferentes de null/NaN: 365148\n",
      "__________________\n",
      "(365148,)\n",
      "None\n"
     ]
    }
   ],
   "source": [
    "print(data_2004_2['ESTU_NACIMIENTO_MES'].value_counts().sort_index().index)\n",
    "print(data_2004_2['ESTU_NACIMIENTO_MES'].value_counts().sort_index())\n",
    "print(missing_data(data_2004_2['ESTU_NACIMIENTO_MES']))"
   ]
  },
  {
   "cell_type": "code",
   "execution_count": 89,
   "metadata": {
    "collapsed": false,
    "scrolled": true
   },
   "outputs": [
    {
     "name": "stdout",
     "output_type": "stream",
     "text": [
      "Float64Index([1940.0, 1941.0, 1946.0, 1947.0, 1948.0, 1949.0, 1950.0, 1951.0,\n",
      "              1952.0, 1953.0, 1954.0, 1955.0, 1956.0, 1957.0, 1958.0, 1959.0,\n",
      "              1960.0, 1961.0, 1962.0, 1963.0, 1964.0, 1965.0, 1966.0, 1967.0,\n",
      "              1968.0, 1969.0, 1970.0, 1971.0, 1972.0, 1973.0, 1974.0, 1975.0,\n",
      "              1976.0, 1977.0, 1978.0, 1979.0, 1980.0, 1981.0, 1982.0, 1983.0,\n",
      "              1984.0, 1985.0, 1986.0, 1987.0, 1988.0, 1989.0, 1990.0, 1991.0,\n",
      "              1992.0, 1993.0, 1994.0, 2040.0, 2041.0, 2042.0, 2043.0, 2044.0,\n",
      "              2045.0, 2046.0, 2047.0, 2048.0, 2049.0],\n",
      "             dtype='float64')\n",
      "1940.0         1\n",
      "1941.0         1\n",
      "1946.0         1\n",
      "1947.0         1\n",
      "1948.0         1\n",
      "1949.0         1\n",
      "1950.0        19\n",
      "1951.0        23\n",
      "1952.0        31\n",
      "1953.0        54\n",
      "1954.0        46\n",
      "1955.0        73\n",
      "1956.0        75\n",
      "1957.0        85\n",
      "1958.0       109\n",
      "1959.0       108\n",
      "1960.0       140\n",
      "1961.0       154\n",
      "1962.0       193\n",
      "1963.0       246\n",
      "1964.0       293\n",
      "1965.0       482\n",
      "1966.0       635\n",
      "1967.0       850\n",
      "1968.0       646\n",
      "1969.0       435\n",
      "1970.0       502\n",
      "1971.0       472\n",
      "1972.0       505\n",
      "1973.0       550\n",
      "           ...  \n",
      "1975.0       679\n",
      "1976.0       772\n",
      "1977.0       814\n",
      "1978.0      1026\n",
      "1979.0      1252\n",
      "1980.0      1724\n",
      "1981.0      2329\n",
      "1982.0      3746\n",
      "1983.0      6500\n",
      "1984.0     15520\n",
      "1985.0     35938\n",
      "1986.0     71175\n",
      "1987.0    123407\n",
      "1988.0     80561\n",
      "1989.0      8244\n",
      "1990.0      1120\n",
      "1991.0       706\n",
      "1992.0       504\n",
      "1993.0       359\n",
      "1994.0      1266\n",
      "2040.0        18\n",
      "2041.0         2\n",
      "2042.0         6\n",
      "2043.0         1\n",
      "2044.0         6\n",
      "2045.0        15\n",
      "2046.0        18\n",
      "2047.0        13\n",
      "2048.0        19\n",
      "2049.0        24\n",
      "Name: ESTU_NACIMIENTO_ANNO, dtype: int64\n",
      "Elementos null/NaN 1401\n",
      "__________________\n",
      "Elementos diferentes de null/NaN: 365148\n",
      "__________________\n",
      "(365148,)\n",
      "None\n"
     ]
    }
   ],
   "source": [
    "print(data_2004_2['ESTU_NACIMIENTO_ANNO'].value_counts().sort_index().index)\n",
    "print(data_2004_2['ESTU_NACIMIENTO_ANNO'].value_counts().sort_index())\n",
    "print(missing_data(data_2004_2['ESTU_NACIMIENTO_ANNO']))"
   ]
  },
  {
   "cell_type": "code",
   "execution_count": 90,
   "metadata": {
    "collapsed": true
   },
   "outputs": [],
   "source": [
    "for i in data_2004_2['ESTU_NACIMIENTO_ANNO'].value_counts().sort_index().index:\n",
    "    if i > 1994:\n",
    "        data_2004_2['ESTU_NACIMIENTO_ANNO'] = data_2004_2['ESTU_NACIMIENTO_ANNO'].replace(i, np.nan)"
   ]
  },
  {
   "cell_type": "code",
   "execution_count": 91,
   "metadata": {
    "collapsed": false,
    "scrolled": true
   },
   "outputs": [
    {
     "name": "stdout",
     "output_type": "stream",
     "text": [
      "Index(['AMAZONAS', 'ANTIOQUIA', 'ARAUCA', 'ATLANTICO', 'BOGOTA', 'BOLIVAR',\n",
      "       'BOYACA', 'CALDAS', 'CAQUETA', 'CASANARE', 'CAUCA', 'CESAR', 'CHOCO',\n",
      "       'CORDOBA', 'CUNDINAMARCA', 'GUAINIA', 'GUAVIARE', 'HUILA', 'LA GUAJIRA',\n",
      "       'MAGDALENA', 'META', 'NARIÑO', 'NORTE SANTANDER', 'PUTUMAYO', 'QUINDIO',\n",
      "       'RISARALDA', 'SAN ANDRES', 'SANTANDER', 'SUCRE', 'TOLIMA', 'VALLE',\n",
      "       'VAUPES', 'VICHADA'],\n",
      "      dtype='object')\n",
      "AMAZONAS             640\n",
      "ANTIOQUIA          53539\n",
      "ARAUCA              1770\n",
      "ATLANTICO          24629\n",
      "BOGOTA             78202\n",
      "BOLIVAR            18017\n",
      "BOYACA             14796\n",
      "CALDAS             10366\n",
      "CAQUETA             2374\n",
      "CASANARE            2624\n",
      "CAUCA               7300\n",
      "CESAR               7668\n",
      "CHOCO               3558\n",
      "CORDOBA            12986\n",
      "CUNDINAMARCA       23318\n",
      "GUAINIA              101\n",
      "GUAVIARE             471\n",
      "HUILA               8671\n",
      "LA GUAJIRA          4641\n",
      "MAGDALENA           9990\n",
      "META                6978\n",
      "NARIÑO               524\n",
      "NORTE SANTANDER    12302\n",
      "PUTUMAYO            1736\n",
      "QUINDIO             5325\n",
      "RISARALDA           8305\n",
      "SAN ANDRES           713\n",
      "SANTANDER          21681\n",
      "SUCRE               7676\n",
      "TOLIMA             12738\n",
      "VALLE               2492\n",
      "VAUPES               110\n",
      "VICHADA              307\n",
      "Name: ESTU_DEPTO_PRESENTACION, dtype: int64\n",
      "Elementos null/NaN 1\n",
      "__________________\n",
      "Elementos diferentes de null/NaN: 366548\n",
      "__________________\n",
      "(366548,)\n",
      "None\n"
     ]
    }
   ],
   "source": [
    "print(data_2004_2['ESTU_DEPTO_PRESENTACION'].value_counts().sort_index().index)\n",
    "print(data_2004_2['ESTU_DEPTO_PRESENTACION'].value_counts().sort_index())\n",
    "print(missing_data(data_2004_2['ESTU_DEPTO_PRESENTACION']))"
   ]
  },
  {
   "cell_type": "code",
   "execution_count": 92,
   "metadata": {
    "collapsed": false,
    "scrolled": true
   },
   "outputs": [
    {
     "name": "stdout",
     "output_type": "stream",
     "text": [
      "Index(['ABEJORRAL', 'ABREGO', 'ACACIAS', 'ACANDI', 'ACHI', 'AGUACHICA',\n",
      "       'AGUADAS', 'AGUAZUL', 'AGUSTIN CODAZZI', 'AIPE',\n",
      "       ...\n",
      "       'VILLAVICENCIO', 'VILLETA', 'VIOTA', 'YARUMAL', 'YAVARATE', 'YOLOMBO',\n",
      "       'YOPAL', 'ZAPATOCA', 'ZARAGOZA', 'ZIPAQUIRA'],\n",
      "      dtype='object', length=343)\n",
      "ABEJORRAL                    118\n",
      "ABREGO                        85\n",
      "ACACIAS                      697\n",
      "ACANDI                        38\n",
      "ACHI                         115\n",
      "AGUACHICA                    996\n",
      "AGUADAS                      259\n",
      "AGUAZUL                      312\n",
      "AGUSTIN CODAZZI              385\n",
      "AIPE                         136\n",
      "ALTO BAUDO (PIE DE PATO)      28\n",
      "AMAGA                        537\n",
      "AMALFI                       246\n",
      "ANDES                        460\n",
      "ANOLAIMA                     168\n",
      "ANSERMA                      491\n",
      "ANTIOQUIA                    614\n",
      "APARTADO                    1293\n",
      "ARACATACA                    265\n",
      "ARAUCA                       738\n",
      "ARAUQUITA                    165\n",
      "ARBELAEZ                     193\n",
      "ARBOLEDAS                     38\n",
      "ARBOLETES                    349\n",
      "ARIGUANI (EL DIFICIL)        292\n",
      "ARJONA                       583\n",
      "ARMENIA                     3615\n",
      "ASTREA                       118\n",
      "ATRATO (YUTO)                 33\n",
      "AYAPEL                       290\n",
      "                            ... \n",
      "TULUA                        205\n",
      "TUMACO                       100\n",
      "TUNJA                       3620\n",
      "TURBACO                      720\n",
      "TURBO                        914\n",
      "TURMEQUE                     228\n",
      "TUTA                         123\n",
      "UBATE                        975\n",
      "UNGUIA                        70\n",
      "URRAO                        335\n",
      "VALLEDUPAR                  4502\n",
      "VELEZ                        417\n",
      "VENADILLO                    199\n",
      "VENTAQUEMADA                 143\n",
      "VIGIA DEL FUERTE              36\n",
      "VILLA DE LEYVA               270\n",
      "VILLA DEL ROSARIO            575\n",
      "VILLAGARZON                   95\n",
      "VILLAMARIA                   239\n",
      "VILLANUEVA                   632\n",
      "VILLAVICENCIO               4940\n",
      "VILLETA                      673\n",
      "VIOTA                         60\n",
      "YARUMAL                      646\n",
      "YAVARATE                       1\n",
      "YOLOMBO                      196\n",
      "YOPAL                       1231\n",
      "ZAPATOCA                     146\n",
      "ZARAGOZA                     154\n",
      "ZIPAQUIRA                   1907\n",
      "Name: ESTU_MCPIO_PRESENTACION, dtype: int64\n",
      "Elementos null/NaN 1\n",
      "__________________\n",
      "Elementos diferentes de null/NaN: 366548\n",
      "__________________\n",
      "(366548,)\n",
      "None\n"
     ]
    }
   ],
   "source": [
    "print(data_2004_2['ESTU_MCPIO_PRESENTACION'].value_counts().sort_index().index)\n",
    "print(data_2004_2['ESTU_MCPIO_PRESENTACION'].value_counts().sort_index())\n",
    "print(missing_data(data_2004_2['ESTU_MCPIO_PRESENTACION']))"
   ]
  },
  {
   "cell_type": "code",
   "execution_count": 93,
   "metadata": {
    "collapsed": false
   },
   "outputs": [
    {
     "name": "stdout",
     "output_type": "stream",
     "text": [
      "Index(['I'], dtype='object')\n",
      "I    53\n",
      "Name: ESTU_LIMITA_INVIDENTE, dtype: int64\n",
      "Elementos null/NaN 366496\n",
      "__________________\n",
      "Elementos diferentes de null/NaN: 53\n",
      "__________________\n",
      "(53,)\n",
      "None\n"
     ]
    }
   ],
   "source": [
    "print(data_2004_2['ESTU_LIMITA_INVIDENTE'].value_counts().sort_index().index)\n",
    "print(data_2004_2['ESTU_LIMITA_INVIDENTE'].value_counts().sort_index())\n",
    "print(missing_data(data_2004_2['ESTU_LIMITA_INVIDENTE']))"
   ]
  },
  {
   "cell_type": "code",
   "execution_count": 94,
   "metadata": {
    "collapsed": false
   },
   "outputs": [
    {
     "name": "stdout",
     "output_type": "stream",
     "text": [
      "Index(['R'], dtype='object')\n",
      "R    131\n",
      "Name: ESTU_LIMITA_SORDOINTERPRETE, dtype: int64\n",
      "Elementos null/NaN 366418\n",
      "__________________\n",
      "Elementos diferentes de null/NaN: 131\n",
      "__________________\n",
      "(131,)\n",
      "None\n"
     ]
    }
   ],
   "source": [
    "print(data_2004_2['ESTU_LIMITA_SORDOINTERPRETE'].value_counts().sort_index().index)\n",
    "print(data_2004_2['ESTU_LIMITA_SORDOINTERPRETE'].value_counts().sort_index())\n",
    "print(missing_data(data_2004_2['ESTU_LIMITA_SORDOINTERPRETE']))"
   ]
  },
  {
   "cell_type": "code",
   "execution_count": 95,
   "metadata": {
    "collapsed": false
   },
   "outputs": [
    {
     "name": "stdout",
     "output_type": "stream",
     "text": [
      "Index(['S'], dtype='object')\n",
      "S    24\n",
      "Name: ESTU_LIMITA_SORDONOINTERPRETE, dtype: int64\n",
      "Elementos null/NaN 366525\n",
      "__________________\n",
      "Elementos diferentes de null/NaN: 24\n",
      "__________________\n",
      "(24,)\n",
      "None\n"
     ]
    }
   ],
   "source": [
    "print(data_2004_2['ESTU_LIMITA_SORDONOINTERPRETE'].value_counts().sort_index().index)\n",
    "print(data_2004_2['ESTU_LIMITA_SORDONOINTERPRETE'].value_counts().sort_index())\n",
    "print(missing_data(data_2004_2['ESTU_LIMITA_SORDONOINTERPRETE']))"
   ]
  },
  {
   "cell_type": "code",
   "execution_count": 96,
   "metadata": {
    "collapsed": false
   },
   "outputs": [
    {
     "name": "stdout",
     "output_type": "stream",
     "text": [
      "Index(['M'], dtype='object')\n",
      "M    103\n",
      "Name: ESTU_LIMITA_MOTRIZ, dtype: int64\n",
      "Elementos null/NaN 366446\n",
      "__________________\n",
      "Elementos diferentes de null/NaN: 103\n",
      "__________________\n",
      "(103,)\n",
      "None\n"
     ]
    }
   ],
   "source": [
    "print(data_2004_2['ESTU_LIMITA_MOTRIZ'].value_counts().sort_index().index)\n",
    "print(data_2004_2['ESTU_LIMITA_MOTRIZ'].value_counts().sort_index())\n",
    "print(missing_data(data_2004_2['ESTU_LIMITA_MOTRIZ']))"
   ]
  },
  {
   "cell_type": "code",
   "execution_count": 97,
   "metadata": {
    "collapsed": false,
    "scrolled": true
   },
   "outputs": [
    {
     "name": "stdout",
     "output_type": "stream",
     "text": [
      "Index([1101.0, 1201.0, 1204.0, '1201', 1205.0, 1202.0, 9110.0, '1101', 2106.0,\n",
      "       1113.0,\n",
      "       ...\n",
      "       '4726', '2744', '4109', 'YYYY', '2836', '3715', '1730', '2715', '2730',\n",
      "       '4106'],\n",
      "      dtype='object', length=651)\n",
      "1101.0    49733\n",
      "1201.0    27442\n",
      "1204.0    10862\n",
      "1201       7745\n",
      "1205.0     7338\n",
      "1202.0     7138\n",
      "9110.0     6780\n",
      "1101       6529\n",
      "2106.0     6224\n",
      "1113.0     4898\n",
      "1301.0     4831\n",
      "1213.0     4762\n",
      "1207.0     4409\n",
      "9104.0     4120\n",
      "1106.0     4046\n",
      "1110.0     3963\n",
      "1701.0     3922\n",
      "1114.0     3909\n",
      "1112.0     3703\n",
      "1111.0     3565\n",
      "1105.0     3364\n",
      "1212.0     3339\n",
      "2905.0     3199\n",
      "1804.0     2980\n",
      "1209.0     2886\n",
      "1203.0     2699\n",
      "1813.0     2448\n",
      "1102.0     2392\n",
      "1120.0     2299\n",
      "1713.0     2265\n",
      "          ...  \n",
      "2738          3\n",
      "2716          3\n",
      "9115          3\n",
      "3809          3\n",
      "3719          3\n",
      "3828          3\n",
      "3833          3\n",
      "2822          2\n",
      "3706          2\n",
      "2746          2\n",
      "2849          2\n",
      "4101          2\n",
      "4704          2\n",
      "2903          2\n",
      "3723          2\n",
      "2841          2\n",
      "3832          2\n",
      "2822.0        2\n",
      "3831          2\n",
      "2904          2\n",
      "4726          2\n",
      "2744          1\n",
      "4109          1\n",
      "YYYY          1\n",
      "2836          1\n",
      "3715          1\n",
      "1730          1\n",
      "2715          1\n",
      "2730          1\n",
      "4106          1\n",
      "Name: ESTU_IES_COD_DESEADA, dtype: int64\n",
      "Elementos null/NaN 40470\n",
      "__________________\n",
      "Elementos diferentes de null/NaN: 326079\n",
      "__________________\n",
      "(326079,)\n",
      "None\n"
     ]
    }
   ],
   "source": [
    "print(data_2004_2['ESTU_IES_COD_DESEADA'].value_counts().index)\n",
    "print(data_2004_2['ESTU_IES_COD_DESEADA'].value_counts())\n",
    "print(missing_data(data_2004_2['ESTU_IES_COD_DESEADA']))"
   ]
  },
  {
   "cell_type": "code",
   "execution_count": 98,
   "metadata": {
    "collapsed": true
   },
   "outputs": [],
   "source": [
    "data_2004_2['ESTU_IES_COD_DESEADA'] = data_2004_2['ESTU_IES_COD_DESEADA'].replace('YYYY', np.nan)\n",
    "data_2004_2['ESTU_IES_COD_DESEADA'] = data_2004_2['ESTU_IES_COD_DESEADA'].replace('ZZZZ', np.nan)\n",
    "for i in data_2004_2['ESTU_IES_COD_DESEADA'].value_counts().index:\n",
    "    if type(i) == str:\n",
    "        data_2004_2['ESTU_IES_COD_DESEADA'] = data_2004_2['ESTU_IES_COD_DESEADA'].replace(i, float(i))"
   ]
  },
  {
   "cell_type": "code",
   "execution_count": 99,
   "metadata": {
    "collapsed": false
   },
   "outputs": [
    {
     "name": "stdout",
     "output_type": "stream",
     "text": [
      "Float64Index([1.0, 2.0, 3.0, 4.0, 5.0, 6.0, 7.0, 8.0], dtype='float64')\n",
      "1.0      6822\n",
      "2.0     42850\n",
      "3.0    130024\n",
      "4.0     30400\n",
      "5.0     27212\n",
      "6.0     18317\n",
      "7.0     21625\n",
      "8.0     19450\n",
      "Name: ESTU_RAZONINSTITUTO, dtype: int64\n",
      "Elementos null/NaN 69849\n",
      "__________________\n",
      "Elementos diferentes de null/NaN: 296700\n",
      "__________________\n",
      "(296700,)\n",
      "None\n"
     ]
    }
   ],
   "source": [
    "print(data_2004_2['ESTU_RAZONINSTITUTO'].value_counts().sort_index().index)\n",
    "print(data_2004_2['ESTU_RAZONINSTITUTO'].value_counts().sort_index())\n",
    "print(missing_data(data_2004_2['ESTU_RAZONINSTITUTO']))"
   ]
  },
  {
   "cell_type": "code",
   "execution_count": 100,
   "metadata": {
    "collapsed": false,
    "scrolled": true
   },
   "outputs": [
    {
     "name": "stdout",
     "output_type": "stream",
     "text": [
      "Float64Index([    1.0,     2.0,     3.0,     4.0,     5.0,     6.0,     7.0,\n",
      "                  8.0,     9.0,    10.0,\n",
      "              ...\n",
      "              19599.0, 19600.0, 19607.0, 19609.0, 19612.0, 19629.0, 19634.0,\n",
      "              19642.0, 19647.0, 19653.0],\n",
      "             dtype='float64', length=3766)\n",
      "1.0          532\n",
      "2.0         1762\n",
      "3.0          535\n",
      "4.0         2053\n",
      "5.0          769\n",
      "6.0          921\n",
      "7.0         1848\n",
      "8.0          236\n",
      "9.0        10946\n",
      "10.0         213\n",
      "11.0        1491\n",
      "12.0         130\n",
      "13.0         307\n",
      "14.0        3216\n",
      "15.0         526\n",
      "16.0         330\n",
      "17.0        2346\n",
      "18.0         831\n",
      "19.0        2538\n",
      "20.0         412\n",
      "21.0         113\n",
      "22.0         183\n",
      "23.0         743\n",
      "24.0         248\n",
      "25.0        1281\n",
      "26.0        4776\n",
      "27.0         260\n",
      "28.0        1948\n",
      "29.0        1188\n",
      "30.0        1684\n",
      "           ...  \n",
      "19535.0       11\n",
      "19537.0       23\n",
      "19548.0        6\n",
      "19556.0        4\n",
      "19562.0       11\n",
      "19567.0        2\n",
      "19568.0        1\n",
      "19571.0        1\n",
      "19572.0        5\n",
      "19573.0        4\n",
      "19575.0        3\n",
      "19576.0        1\n",
      "19577.0        2\n",
      "19580.0       12\n",
      "19585.0        1\n",
      "19589.0        2\n",
      "19592.0        2\n",
      "19596.0        2\n",
      "19597.0        1\n",
      "19598.0       59\n",
      "19599.0       12\n",
      "19600.0        4\n",
      "19607.0        1\n",
      "19609.0       23\n",
      "19612.0      336\n",
      "19629.0      853\n",
      "19634.0       51\n",
      "19642.0       49\n",
      "19647.0      128\n",
      "19653.0        5\n",
      "Name: ESTU_CARRDESEADA_COD, dtype: int64\n",
      "Elementos null/NaN 47663\n",
      "__________________\n",
      "Elementos diferentes de null/NaN: 318886\n",
      "__________________\n",
      "(318886,)\n",
      "None\n"
     ]
    }
   ],
   "source": [
    "print(data_2004_2['ESTU_CARRDESEADA_COD'].value_counts().sort_index().index)\n",
    "print(data_2004_2['ESTU_CARRDESEADA_COD'].value_counts().sort_index())\n",
    "print(missing_data(data_2004_2['ESTU_CARRDESEADA_COD']))"
   ]
  },
  {
   "cell_type": "code",
   "execution_count": 101,
   "metadata": {
    "collapsed": false
   },
   "outputs": [
    {
     "name": "stdout",
     "output_type": "stream",
     "text": [
      "Float64Index([1.0, 2.0, 3.0, 4.0, 5.0, 6.0], dtype='float64')\n",
      "1.0    101633\n",
      "2.0    104586\n",
      "3.0     42447\n",
      "4.0     27123\n",
      "5.0     24143\n",
      "6.0      7218\n",
      "Name: ESTU_CARRDESEADA_RAZON, dtype: int64\n",
      "Elementos null/NaN 59399\n",
      "__________________\n",
      "Elementos diferentes de null/NaN: 307150\n",
      "__________________\n",
      "(307150,)\n",
      "None\n"
     ]
    }
   ],
   "source": [
    "print(data_2004_2['ESTU_CARRDESEADA_RAZON'].value_counts().sort_index().index)\n",
    "print(data_2004_2['ESTU_CARRDESEADA_RAZON'].value_counts().sort_index())\n",
    "print(missing_data(data_2004_2['ESTU_CARRDESEADA_RAZON']))"
   ]
  },
  {
   "cell_type": "code",
   "execution_count": 102,
   "metadata": {
    "collapsed": false
   },
   "outputs": [
    {
     "name": "stdout",
     "output_type": "stream",
     "text": [
      "Index(['A', 'B', 'F'], dtype='object')\n",
      "A    339051\n",
      "B       532\n",
      "F     26745\n",
      "Name: COLE_CALENDARIO, dtype: int64\n",
      "Elementos null/NaN 221\n",
      "__________________\n",
      "Elementos diferentes de null/NaN: 366328\n",
      "__________________\n",
      "(366328,)\n",
      "None\n"
     ]
    }
   ],
   "source": [
    "print(data_2004_2['COLE_CALENDARIO'].value_counts().sort_index().index)\n",
    "print(data_2004_2['COLE_CALENDARIO'].value_counts().sort_index())\n",
    "print(missing_data(data_2004_2['COLE_CALENDARIO']))"
   ]
  },
  {
   "cell_type": "code",
   "execution_count": 103,
   "metadata": {
    "collapsed": false
   },
   "outputs": [
    {
     "name": "stdout",
     "output_type": "stream",
     "text": [
      "Float64Index([1.0, 2.0], dtype='float64')\n",
      "1.0    1679\n",
      "2.0     152\n",
      "Name: COLE_BILINGUE, dtype: int64\n",
      "Elementos null/NaN 364718\n",
      "__________________\n",
      "Elementos diferentes de null/NaN: 1831\n",
      "__________________\n",
      "(1831,)\n",
      "None\n"
     ]
    }
   ],
   "source": [
    "print(data_2004_2['COLE_BILINGUE'].value_counts().sort_index().index)\n",
    "print(data_2004_2['COLE_BILINGUE'].value_counts().sort_index())\n",
    "print(missing_data(data_2004_2['COLE_BILINGUE']))"
   ]
  },
  {
   "cell_type": "code",
   "execution_count": 104,
   "metadata": {
    "collapsed": false
   },
   "outputs": [
    {
     "name": "stdout",
     "output_type": "stream",
     "text": [
      "Index(['ACADEMICO', 'ACADEMICO Y TECNICO', 'NORMALISTA', 'TECNICO'], dtype='object')\n",
      "ACADEMICO              204033\n",
      "ACADEMICO Y TECNICO     96546\n",
      "NORMALISTA               7239\n",
      "TECNICO                 58510\n",
      "Name: COLE_CARACTER, dtype: int64\n",
      "Elementos null/NaN 221\n",
      "__________________\n",
      "Elementos diferentes de null/NaN: 366328\n",
      "__________________\n",
      "(366328,)\n",
      "None\n"
     ]
    }
   ],
   "source": [
    "print(data_2004_2['COLE_CARACTER'].value_counts().sort_index().index)\n",
    "print(data_2004_2['COLE_CARACTER'].value_counts().sort_index())\n",
    "print(missing_data(data_2004_2['COLE_CARACTER']))"
   ]
  },
  {
   "cell_type": "code",
   "execution_count": 105,
   "metadata": {
    "collapsed": false,
    "scrolled": true
   },
   "outputs": [
    {
     "name": "stdout",
     "output_type": "stream",
     "text": [
      "Index(['AMAZONAS', 'ANTIOQUIA', 'ARAUCA', 'ATLANTICO', 'BOGOTA', 'BOLIVAR',\n",
      "       'BOYACA', 'CALDAS', 'CAQUETA', 'CASANARE', 'CAUCA', 'CESAR', 'CHOCO',\n",
      "       'CORDOBA', 'CUNDINAMARCA', 'GUAINIA', 'GUAVIARE', 'HUILA', 'LA GUAJIRA',\n",
      "       'MAGDALENA', 'META', 'NARIÑO', 'NORTE SANTANDER', 'PUTUMAYO', 'QUINDIO',\n",
      "       'RISARALDA', 'SAN ANDRES', 'SANTANDER', 'SUCRE', 'TOLIMA', 'VALLE',\n",
      "       'VAUPES', 'VICHADA'],\n",
      "      dtype='object')\n",
      "AMAZONAS             640\n",
      "ANTIOQUIA          53658\n",
      "ARAUCA              1722\n",
      "ATLANTICO          23883\n",
      "BOGOTA             77569\n",
      "BOLIVAR            18568\n",
      "BOYACA             14392\n",
      "CALDAS             10004\n",
      "CAQUETA             2383\n",
      "CASANARE            2640\n",
      "CAUCA               7356\n",
      "CESAR               7602\n",
      "CHOCO               3494\n",
      "CORDOBA            12942\n",
      "CUNDINAMARCA       24286\n",
      "GUAINIA               99\n",
      "GUAVIARE             448\n",
      "HUILA               8613\n",
      "LA GUAJIRA          4668\n",
      "MAGDALENA          10251\n",
      "META                6874\n",
      "NARIÑO               519\n",
      "NORTE SANTANDER    12261\n",
      "PUTUMAYO            1727\n",
      "QUINDIO             5265\n",
      "RISARALDA           8315\n",
      "SAN ANDRES           713\n",
      "SANTANDER          21513\n",
      "SUCRE               7786\n",
      "TOLIMA             13228\n",
      "VALLE               2517\n",
      "VAUPES               109\n",
      "VICHADA              283\n",
      "Name: COLE_DEPTO_UBICACION, dtype: int64\n",
      "Elementos null/NaN 221\n",
      "__________________\n",
      "Elementos diferentes de null/NaN: 366328\n",
      "__________________\n",
      "(366328,)\n",
      "None\n"
     ]
    }
   ],
   "source": [
    "print(data_2004_2['COLE_DEPTO_UBICACION'].value_counts().sort_index().index)\n",
    "print(data_2004_2['COLE_DEPTO_UBICACION'].value_counts().sort_index())\n",
    "print(missing_data(data_2004_2['COLE_DEPTO_UBICACION']))"
   ]
  },
  {
   "cell_type": "code",
   "execution_count": 106,
   "metadata": {
    "collapsed": false,
    "scrolled": true
   },
   "outputs": [
    {
     "name": "stdout",
     "output_type": "stream",
     "text": [
      "Index(['ABEJORRAL', 'ABREGO', 'ABRIAQUI', 'ACACIAS', 'ACANDI', 'ACEVEDO',\n",
      "       'ACHI', 'AGRADO', 'AGUA DE DIOS', 'AGUACHICA',\n",
      "       ...\n",
      "       'YOPAL', 'YUMBO', 'ZAMBRANO', 'ZAPATOCA', 'ZAPAYAN', 'ZARAGOZA',\n",
      "       'ZETAQUIRA', 'ZIPACON', 'ZIPAQUIRA', 'ZONA BANANERA'],\n",
      "      dtype='object', length=941)\n",
      "ABEJORRAL                    104\n",
      "ABREGO                        65\n",
      "ABRIAQUI                      18\n",
      "ACACIAS                      562\n",
      "ACANDI                        38\n",
      "ACEVEDO                       68\n",
      "ACHI                          97\n",
      "AGRADO                        47\n",
      "AGUA DE DIOS                 117\n",
      "AGUACHICA                    675\n",
      "AGUADA                        27\n",
      "AGUADAS                      258\n",
      "AGUAZUL                      331\n",
      "AGUSTIN CODAZZI              387\n",
      "AIPE                         134\n",
      "ALBAN                         41\n",
      "ALBANIA                      104\n",
      "ALEJANDRIA                    48\n",
      "ALGARROBO                     68\n",
      "ALGECIRAS                    101\n",
      "ALMAGUER                      79\n",
      "ALMEIDA                       20\n",
      "ALPUJARRA                     40\n",
      "ALTAMIRA                      18\n",
      "ALTO BAUDO (PIE DE PATO)      89\n",
      "ALTOS DEL ROSARIO             30\n",
      "ALVARADO                      83\n",
      "AMAGA                        209\n",
      "AMALFI                       141\n",
      "AMBALEMA                     103\n",
      "                            ... \n",
      "VILLAHERMOSA                  57\n",
      "VILLAMARIA                   411\n",
      "VILLANUEVA                   677\n",
      "VILLAPINZON                  192\n",
      "VILLARRICA                    57\n",
      "VILLAVICENCIO               4434\n",
      "VILLAVIEJA                    66\n",
      "VILLETA                      344\n",
      "VIOTA                         97\n",
      "VIRACACHA                     31\n",
      "VISTA HERMOSA                 30\n",
      "VITERBO                      160\n",
      "YACOPI                        90\n",
      "YACUANQUER                     5\n",
      "YAGUARA                      108\n",
      "YALI                          38\n",
      "YARUMAL                      401\n",
      "YAVARATE                       4\n",
      "YOLOMBO                      114\n",
      "YONDO (CASABE)                83\n",
      "YOPAL                       1057\n",
      "YUMBO                         46\n",
      "ZAMBRANO                      81\n",
      "ZAPATOCA                      92\n",
      "ZAPAYAN                       29\n",
      "ZARAGOZA                     151\n",
      "ZETAQUIRA                     50\n",
      "ZIPACON                       19\n",
      "ZIPAQUIRA                   1104\n",
      "ZONA BANANERA                362\n",
      "Name: COLE_MCPIO_UBICACION, dtype: int64\n",
      "Elementos null/NaN 221\n",
      "__________________\n",
      "Elementos diferentes de null/NaN: 366328\n",
      "__________________\n",
      "(366328,)\n",
      "None\n"
     ]
    }
   ],
   "source": [
    "print(data_2004_2['COLE_MCPIO_UBICACION'].value_counts().sort_index().index)\n",
    "print(data_2004_2['COLE_MCPIO_UBICACION'].value_counts().sort_index())\n",
    "print(missing_data(data_2004_2['COLE_MCPIO_UBICACION']))"
   ]
  },
  {
   "cell_type": "code",
   "execution_count": 107,
   "metadata": {
    "collapsed": false,
    "scrolled": true
   },
   "outputs": [
    {
     "name": "stdout",
     "output_type": "stream",
     "text": [
      "Index(['AMAZONAS', 'ANTIOQUIA', 'ARAUCA', 'ATLANTICO', 'BOGOTA', 'BOLIVAR',\n",
      "       'BOYACA', 'CALDAS', 'CAQUETA', 'CASANARE', 'CAUCA', 'CESAR', 'CHOCO',\n",
      "       'CORDOBA', 'CUNDINAMARCA', 'GUAINIA', 'GUAVIARE', 'HUILA', 'LA GUAJIRA',\n",
      "       'MAGDALENA', 'META', 'NARIÑO', 'NORTE SANTANDER', 'PUTUMAYO', 'QUINDIO',\n",
      "       'RISARALDA', 'SAN ANDRES', 'SANTANDER', 'SUCRE', 'TOLIMA', 'VALLE',\n",
      "       'VAUPES', 'VICHADA'],\n",
      "      dtype='object')\n",
      "AMAZONAS             640\n",
      "ANTIOQUIA          53539\n",
      "ARAUCA              1770\n",
      "ATLANTICO          24629\n",
      "BOGOTA             78202\n",
      "BOLIVAR            18017\n",
      "BOYACA             14796\n",
      "CALDAS             10366\n",
      "CAQUETA             2374\n",
      "CASANARE            2624\n",
      "CAUCA               7300\n",
      "CESAR               7668\n",
      "CHOCO               3558\n",
      "CORDOBA            12986\n",
      "CUNDINAMARCA       23318\n",
      "GUAINIA              101\n",
      "GUAVIARE             471\n",
      "HUILA               8671\n",
      "LA GUAJIRA          4641\n",
      "MAGDALENA           9990\n",
      "META                6978\n",
      "NARIÑO               524\n",
      "NORTE SANTANDER    12302\n",
      "PUTUMAYO            1736\n",
      "QUINDIO             5325\n",
      "RISARALDA           8305\n",
      "SAN ANDRES           713\n",
      "SANTANDER          21681\n",
      "SUCRE               7676\n",
      "TOLIMA             12738\n",
      "VALLE               2492\n",
      "VAUPES               110\n",
      "VICHADA              307\n",
      "Name: ESTU_RESIDE_DEPTO, dtype: int64\n",
      "Elementos null/NaN 1\n",
      "__________________\n",
      "Elementos diferentes de null/NaN: 366548\n",
      "__________________\n",
      "(366548,)\n",
      "None\n"
     ]
    }
   ],
   "source": [
    "print(data_2004_2['ESTU_RESIDE_DEPTO'].value_counts().sort_index().index)\n",
    "print(data_2004_2['ESTU_RESIDE_DEPTO'].value_counts().sort_index())\n",
    "print(missing_data(data_2004_2['ESTU_RESIDE_DEPTO']))"
   ]
  },
  {
   "cell_type": "code",
   "execution_count": 108,
   "metadata": {
    "collapsed": false,
    "scrolled": true
   },
   "outputs": [
    {
     "name": "stdout",
     "output_type": "stream",
     "text": [
      "Index(['ABEJORRAL', 'ABREGO', 'ABRIAQUI', 'ACACIAS', 'ACANDI', 'ACEVEDO',\n",
      "       'ACHI', 'AGRADO', 'AGUA DE DIOS', 'AGUACHICA',\n",
      "       ...\n",
      "       'YUMBO', 'ZAMBRANO', 'ZAPATOCA', 'ZAPAYAN', 'ZARAGOZA', 'ZARZAL',\n",
      "       'ZETAQUIRA', 'ZIPACON', 'ZIPAQUIRA', 'ZONA BANANERA'],\n",
      "      dtype='object', length=952)\n",
      "ABEJORRAL                    107\n",
      "ABREGO                        81\n",
      "ABRIAQUI                      19\n",
      "ACACIAS                      648\n",
      "ACANDI                        38\n",
      "ACEVEDO                       59\n",
      "ACHI                          99\n",
      "AGRADO                        51\n",
      "AGUA DE DIOS                 122\n",
      "AGUACHICA                    669\n",
      "AGUADA                        50\n",
      "AGUADAS                      259\n",
      "AGUAZUL                      325\n",
      "AGUSTIN CODAZZI              387\n",
      "AIPE                         135\n",
      "ALBAN                         50\n",
      "ALBANIA                      106\n",
      "ALEJANDRIA                    48\n",
      "ALGARROBO                     66\n",
      "ALGECIRAS                    103\n",
      "ALMAGUER                      75\n",
      "ALMEIDA                       20\n",
      "ALPUJARRA                     41\n",
      "ALTAMIRA                      18\n",
      "ALTO BAUDO (PIE DE PATO)      20\n",
      "ALTOS DEL ROSARIO             30\n",
      "ALVARADO                      80\n",
      "AMAGA                        212\n",
      "AMALFI                       144\n",
      "AMBALEMA                     101\n",
      "                            ... \n",
      "VILLAMARIA                   385\n",
      "VILLANUEVA                   680\n",
      "VILLAPINZON                  175\n",
      "VILLARRICA                    57\n",
      "VILLAVICENCIO               4407\n",
      "VILLAVIEJA                    58\n",
      "VILLETA                      342\n",
      "VIOTA                        100\n",
      "VIRACACHA                     33\n",
      "VISTA HERMOSA                 31\n",
      "VITERBO                      160\n",
      "YACOPI                        81\n",
      "YACUANQUER                     5\n",
      "YAGUARA                       98\n",
      "YALI                          36\n",
      "YARUMAL                      414\n",
      "YAVARATE                       1\n",
      "YOLOMBO                      142\n",
      "YONDO (CASABE)                84\n",
      "YOPAL                       1065\n",
      "YUMBO                         49\n",
      "ZAMBRANO                      81\n",
      "ZAPATOCA                      91\n",
      "ZAPAYAN                       24\n",
      "ZARAGOZA                     151\n",
      "ZARZAL                        16\n",
      "ZETAQUIRA                     49\n",
      "ZIPACON                       32\n",
      "ZIPAQUIRA                   1177\n",
      "ZONA BANANERA                302\n",
      "Name: ESTU_RESIDE_MCPIO, dtype: int64\n",
      "Elementos null/NaN 1\n",
      "__________________\n",
      "Elementos diferentes de null/NaN: 366548\n",
      "__________________\n",
      "(366548,)\n",
      "None\n"
     ]
    }
   ],
   "source": [
    "print(data_2004_2['ESTU_RESIDE_MCPIO'].value_counts().sort_index().index)\n",
    "print(data_2004_2['ESTU_RESIDE_MCPIO'].value_counts().sort_index())\n",
    "print(missing_data(data_2004_2['ESTU_RESIDE_MCPIO']))"
   ]
  },
  {
   "cell_type": "markdown",
   "metadata": {},
   "source": [
    "### TARGETS"
   ]
  },
  {
   "cell_type": "code",
   "execution_count": 109,
   "metadata": {
    "collapsed": false,
    "scrolled": true
   },
   "outputs": [
    {
     "name": "stdout",
     "output_type": "stream",
     "text": [
      "Index([  45.79,   44.36,   47.18,   42.86,   48.54,    41.3,   49.88,   51.21,\n",
      "       '44.36', '45.79',   39.62, '42.86', '47.18',  '41.3',   52.54, '48.54',\n",
      "       '39.62',    37.8,   53.88, '49.88', '51.21',  '37.8',   55.25,   35.79,\n",
      "       '52.54',   56.64, '35.79', '53.88',   58.08,   33.52, '55.25', '33.52',\n",
      "         59.58, '56.64',   30.85, '58.08',   61.17, '30.85', '59.58',   62.86,\n",
      "       '61.17',   27.55, '27.55',   64.68, '62.86',   66.71, '64.68',   23.09,\n",
      "       '23.09',   68.99, '66.71',   15.76, '15.76', '68.99',   71.68,     '0',\n",
      "         '---', '71.68',     0.0,    75.0,   79.48,    '75'],\n",
      "      dtype='object')\n",
      "45.79    24354\n",
      "44.36    24172\n",
      "47.18    23190\n",
      "42.86    21693\n",
      "48.54    21084\n",
      "41.3     18267\n",
      "49.88    17986\n",
      "51.21    14344\n",
      "44.36    14195\n",
      "45.79    13989\n",
      "39.62    13683\n",
      "42.86    13542\n",
      "47.18    12690\n",
      "41.3     11859\n",
      "52.54    11429\n",
      "48.54    10693\n",
      "39.62     9258\n",
      "37.8      9027\n",
      "53.88     8811\n",
      "49.88     8803\n",
      "51.21     6778\n",
      "37.8      6471\n",
      "55.25     6367\n",
      "35.79     5475\n",
      "52.54     4958\n",
      "56.64     4266\n",
      "35.79     3921\n",
      "53.88     3591\n",
      "58.08     2967\n",
      "33.52     2633\n",
      "         ...  \n",
      "59.58     1822\n",
      "56.64     1713\n",
      "30.85     1098\n",
      "58.08     1078\n",
      "61.17     1067\n",
      "30.85      935\n",
      "59.58      681\n",
      "62.86      629\n",
      "61.17      396\n",
      "27.55      388\n",
      "27.55      351\n",
      "64.68      311\n",
      "62.86      222\n",
      "66.71      168\n",
      "64.68      119\n",
      "23.09      101\n",
      "23.09       90\n",
      "68.99       58\n",
      "66.71       49\n",
      "15.76       39\n",
      "15.76       33\n",
      "68.99       26\n",
      "71.68       26\n",
      "0           13\n",
      "---         13\n",
      "71.68       10\n",
      "0.0          9\n",
      "75.0         8\n",
      "79.48        5\n",
      "75           2\n",
      "Name: PUNT_BIOLOGIA, dtype: int64\n",
      "Elementos null/NaN 0\n",
      "__________________\n",
      "Elementos diferentes de null/NaN: 366549\n",
      "__________________\n",
      "(366549,)\n",
      "None\n"
     ]
    }
   ],
   "source": [
    "print(data_2004_2['PUNT_BIOLOGIA'].value_counts().index)\n",
    "print(data_2004_2['PUNT_BIOLOGIA'].value_counts())\n",
    "print(missing_data(data_2004_2['PUNT_BIOLOGIA']))"
   ]
  },
  {
   "cell_type": "code",
   "execution_count": 110,
   "metadata": {
    "collapsed": true
   },
   "outputs": [],
   "source": [
    "data_2004_2['PUNT_BIOLOGIA'] = data_2004_2['PUNT_BIOLOGIA'].replace('---', np.nan)\n",
    "for i in data_2004_2['PUNT_BIOLOGIA'].value_counts().index:\n",
    "    if type(i) == str:\n",
    "        data_2004_2['PUNT_BIOLOGIA'] = data_2004_2['PUNT_BIOLOGIA'].replace(i, float(i))"
   ]
  },
  {
   "cell_type": "code",
   "execution_count": 111,
   "metadata": {
    "collapsed": false,
    "scrolled": true
   },
   "outputs": [
    {
     "name": "stdout",
     "output_type": "stream",
     "text": [
      "Index(['39.73', '41.46', '37.95', '43.17', '36.11', '44.85', '46.52', '34.19',\n",
      "         41.46,   39.73, '48.19',   43.17, '32.16',   37.95,   44.85,   36.11,\n",
      "       '49.87',   46.52, '29.99',   34.19,   48.19, '51.57',   32.16,   49.87,\n",
      "       '27.65', '53.31',   29.99,   51.57, '25.06', '55.09',   53.31,   27.65,\n",
      "         55.09, '56.93', '22.14',   25.06,   56.93, '58.86', '60.89',   58.86,\n",
      "       '18.71',   22.14, '63.05',   60.89, '14.48',   18.71,   63.05,     '0',\n",
      "        '65.4',  '8.79',   '---',    65.4,   14.48, '67.99',     0.0, '70.92',\n",
      "         67.99,    8.79,   70.92, '74.34', '78.57',   74.34, '84.27'],\n",
      "      dtype='object')\n",
      "39.73    32710\n",
      "41.46    32136\n",
      "37.95    29703\n",
      "43.17    28679\n",
      "36.11    24295\n",
      "44.85    23743\n",
      "46.52    17978\n",
      "34.19    17847\n",
      "41.46    12794\n",
      "39.73    12470\n",
      "48.19    12214\n",
      "43.17    11747\n",
      "32.16    11467\n",
      "37.95    11325\n",
      "44.85     9707\n",
      "36.11     8949\n",
      "49.87     7849\n",
      "46.52     7745\n",
      "29.99     6657\n",
      "34.19     6415\n",
      "48.19     5500\n",
      "51.57     4763\n",
      "32.16     4196\n",
      "49.87     3704\n",
      "27.65     3538\n",
      "53.31     2680\n",
      "29.99     2359\n",
      "51.57     2294\n",
      "25.06     1565\n",
      "55.09     1525\n",
      "         ...  \n",
      "56.93      777\n",
      "22.14      650\n",
      "25.06      534\n",
      "56.93      446\n",
      "58.86      387\n",
      "60.89      249\n",
      "58.86      248\n",
      "18.71      235\n",
      "22.14      202\n",
      "63.05      127\n",
      "60.89      126\n",
      "14.48       99\n",
      "18.71       88\n",
      "63.05       82\n",
      "0           63\n",
      "65.4        63\n",
      "8.79        54\n",
      "---         40\n",
      "65.4        29\n",
      "14.48       25\n",
      "67.99       24\n",
      "0.0         20\n",
      "70.92       17\n",
      "67.99       16\n",
      "8.79        12\n",
      "70.92        8\n",
      "74.34        5\n",
      "78.57        4\n",
      "74.34        2\n",
      "84.27        1\n",
      "Name: PUNT_MATEMATICAS, dtype: int64\n",
      "Elementos null/NaN 0\n",
      "__________________\n",
      "Elementos diferentes de null/NaN: 366549\n",
      "__________________\n",
      "(366549,)\n",
      "None\n"
     ]
    }
   ],
   "source": [
    "print(data_2004_2['PUNT_MATEMATICAS'].value_counts().index)\n",
    "print(data_2004_2['PUNT_MATEMATICAS'].value_counts())\n",
    "print(missing_data(data_2004_2['PUNT_MATEMATICAS']))"
   ]
  },
  {
   "cell_type": "code",
   "execution_count": 112,
   "metadata": {
    "collapsed": true
   },
   "outputs": [],
   "source": [
    "c = \"PUNT_MATEMATICAS\"\n",
    "data_2004_2[c] = data_2004_2[c].replace('---', np.nan)\n",
    "for i in data_2004_2[c].value_counts().index:\n",
    "    if type(i) == str:\n",
    "        data_2004_2[c] = data_2004_2[c].replace(i, float(i))"
   ]
  },
  {
   "cell_type": "code",
   "execution_count": 113,
   "metadata": {
    "collapsed": false,
    "scrolled": true
   },
   "outputs": [
    {
     "name": "stdout",
     "output_type": "stream",
     "text": [
      "Index(['---', '0', '10.99', '19.73', '25.06', '28.99', '32.17', '34.87',\n",
      "       '37.25', '39.39', '41.37', '43.2', '44.94', '46.6', '48.19', '49.74',\n",
      "       '51.25', '52.74', '54.21', '55.68', '57.15', '58.63', '60.14', '61.68',\n",
      "       '63.26', '64.91', '66.63'],\n",
      "      dtype='object')\n",
      "---        166\n",
      "0           35\n",
      "10.99      115\n",
      "19.73      295\n",
      "25.06      923\n",
      "28.99     2651\n",
      "32.17     6238\n",
      "34.87    12373\n",
      "37.25    20972\n",
      "39.39    31530\n",
      "41.37    40782\n",
      "43.2     47165\n",
      "44.94    48493\n",
      "46.6     44970\n",
      "48.19    37356\n",
      "49.74    28293\n",
      "51.25    19525\n",
      "52.74    11826\n",
      "54.21     6758\n",
      "55.68     3460\n",
      "57.15     1625\n",
      "58.63      636\n",
      "60.14      271\n",
      "61.68       71\n",
      "63.26       14\n",
      "64.91        5\n",
      "66.63        1\n",
      "Name: PUNT_FILOSOFIA, dtype: int64\n",
      "Elementos null/NaN 0\n",
      "__________________\n",
      "Elementos diferentes de null/NaN: 366549\n",
      "__________________\n",
      "(366549,)\n",
      "None\n"
     ]
    }
   ],
   "source": [
    "print(data_2004_2['PUNT_FILOSOFIA'].value_counts().sort_index().index)\n",
    "print(data_2004_2['PUNT_FILOSOFIA'].value_counts().sort_index())\n",
    "print(missing_data(data_2004_2['PUNT_FILOSOFIA']))"
   ]
  },
  {
   "cell_type": "code",
   "execution_count": 114,
   "metadata": {
    "collapsed": true
   },
   "outputs": [],
   "source": [
    "c = \"PUNT_FILOSOFIA\"\n",
    "data_2004_2[c] = data_2004_2[c].replace('---', np.nan)\n",
    "for i in data_2004_2[c].value_counts().index:\n",
    "    if type(i) == str:\n",
    "        data_2004_2[c] = data_2004_2[c].replace(i, float(i))"
   ]
  },
  {
   "cell_type": "code",
   "execution_count": 115,
   "metadata": {
    "collapsed": false,
    "scrolled": true
   },
   "outputs": [
    {
     "name": "stdout",
     "output_type": "stream",
     "text": [
      "Index([  42.45,   40.12,   44.61,   37.52,   46.63,   48.54,   34.59,   50.36,\n",
      "         31.14,   52.12, '42.45', '40.12', '44.61',   53.83, '37.52',   26.87,\n",
      "       '46.63', '34.59', '48.54',    55.5, '31.14', '50.36',   21.11,   57.14,\n",
      "       '52.12', '26.87',   58.78, '53.83',   60.41,  '55.5',   11.65, '21.11',\n",
      "         62.04, '57.14',   63.69,   65.36, '58.78',   67.08, '11.65',   68.84,\n",
      "       '60.41',     0.0,   70.67,   72.58, '63.69', '62.04',   74.61,   76.78,\n",
      "         79.13,   81.73,     '0', '67.08', '65.36',   '---',   84.68, '74.61',\n",
      "       '68.84', '70.67', '92.43', '79.13',   98.21, '72.58', '81.73'],\n",
      "      dtype='object')\n",
      "42.45    46791\n",
      "40.12    43850\n",
      "44.61    43307\n",
      "37.52    35414\n",
      "46.63    35300\n",
      "48.54    25820\n",
      "34.59    24074\n",
      "50.36    17166\n",
      "31.14    13059\n",
      "52.12    10686\n",
      "42.45     7267\n",
      "40.12     7192\n",
      "44.61     6650\n",
      "53.83     6281\n",
      "37.52     5952\n",
      "26.87     5736\n",
      "46.63     5317\n",
      "34.59     4213\n",
      "48.54     3661\n",
      "55.5      3480\n",
      "31.14     2335\n",
      "50.36     2282\n",
      "21.11     1805\n",
      "57.14     1799\n",
      "52.12     1341\n",
      "26.87     1051\n",
      "58.78     1008\n",
      "53.83      689\n",
      "60.41      572\n",
      "55.5       382\n",
      "         ...  \n",
      "57.14      192\n",
      "63.69      166\n",
      "65.36      109\n",
      "58.78      104\n",
      "67.08       90\n",
      "11.65       62\n",
      "68.84       61\n",
      "60.41       47\n",
      "0.0         39\n",
      "70.67       28\n",
      "72.58       25\n",
      "63.69       21\n",
      "62.04       19\n",
      "74.61       14\n",
      "76.78       13\n",
      "79.13        8\n",
      "81.73        6\n",
      "0            6\n",
      "67.08        6\n",
      "65.36        6\n",
      "---          5\n",
      "84.68        5\n",
      "74.61        4\n",
      "68.84        2\n",
      "70.67        2\n",
      "92.43        2\n",
      "79.13        1\n",
      "98.21        1\n",
      "72.58        1\n",
      "81.73        1\n",
      "Name: PUNT_FISICA, dtype: int64\n",
      "Elementos null/NaN 0\n",
      "__________________\n",
      "Elementos diferentes de null/NaN: 366549\n",
      "__________________\n",
      "(366549,)\n",
      "None\n"
     ]
    }
   ],
   "source": [
    "print(data_2004_2['PUNT_FISICA'].value_counts().index)\n",
    "print(data_2004_2['PUNT_FISICA'].value_counts())\n",
    "print(missing_data(data_2004_2['PUNT_FISICA']))"
   ]
  },
  {
   "cell_type": "code",
   "execution_count": 116,
   "metadata": {
    "collapsed": true
   },
   "outputs": [],
   "source": [
    "c = \"PUNT_FISICA\"\n",
    "data_2004_2[c] = data_2004_2[c].replace('---', np.nan)\n",
    "for i in data_2004_2[c].value_counts().index:\n",
    "    if type(i) == str:\n",
    "        data_2004_2[c] = data_2004_2[c].replace(i, float(i))"
   ]
  },
  {
   "cell_type": "code",
   "execution_count": 117,
   "metadata": {
    "collapsed": false,
    "scrolled": true
   },
   "outputs": [
    {
     "name": "stdout",
     "output_type": "stream",
     "text": [
      "Index([  42.56,   43.89,   41.17,   45.16,   46.39,   39.71,    47.6,   38.14,\n",
      "          48.8,   49.98,   36.42,   51.16,   52.34,   34.52,   53.53,   54.75,\n",
      "       '41.17', '42.56', '39.71', '43.89',   32.36,   55.99, '45.16', '38.14',\n",
      "       '46.39',   57.27,  '47.6', '36.42',  '48.8',   58.61, '49.98',   29.82,\n",
      "       '34.52', '51.16',    60.0, '52.34', '32.36', '53.53',   61.49,   26.66,\n",
      "       '54.75', '55.99', '29.82',   63.07, '57.27', '58.61', '26.66',   22.36,\n",
      "          64.8,    '60', '61.49',   66.72, '22.36',   15.29, '63.07', '15.29',\n",
      "        '64.8',   '---',   68.91,     0.0,   71.48, '68.91', '66.72'],\n",
      "      dtype='object')\n",
      "42.56    29437\n",
      "43.89    28978\n",
      "41.17    28138\n",
      "45.16    27403\n",
      "46.39    25058\n",
      "39.71    24554\n",
      "47.6     21971\n",
      "38.14    19646\n",
      "48.8     18867\n",
      "49.98    15649\n",
      "36.42    13678\n",
      "51.16    12845\n",
      "52.34    10065\n",
      "34.52     8525\n",
      "53.53     7962\n",
      "54.75     6039\n",
      "41.17     4984\n",
      "42.56     4898\n",
      "39.71     4677\n",
      "43.89     4589\n",
      "32.36     4341\n",
      "55.99     4248\n",
      "45.16     4079\n",
      "38.14     3844\n",
      "46.39     3461\n",
      "57.27     3006\n",
      "47.6      2926\n",
      "36.42     2892\n",
      "48.8      2351\n",
      "58.61     1997\n",
      "         ...  \n",
      "51.16     1425\n",
      "60.0      1154\n",
      "52.34     1076\n",
      "32.36     1016\n",
      "53.53      848\n",
      "61.49      674\n",
      "26.66      622\n",
      "54.75      620\n",
      "55.99      447\n",
      "29.82      404\n",
      "63.07      286\n",
      "57.27      276\n",
      "58.61      174\n",
      "26.66      166\n",
      "22.36      165\n",
      "64.8       127\n",
      "60         108\n",
      "61.49       44\n",
      "66.72       43\n",
      "22.36       37\n",
      "15.29       36\n",
      "63.07       25\n",
      "15.29       14\n",
      "64.8         9\n",
      "---          6\n",
      "68.91        4\n",
      "0.0          3\n",
      "71.48        2\n",
      "68.91        1\n",
      "66.72        1\n",
      "Name: PUNT_HISTORIA, dtype: int64\n",
      "Elementos null/NaN 0\n",
      "__________________\n",
      "Elementos diferentes de null/NaN: 366549\n",
      "__________________\n",
      "(366549,)\n",
      "None\n"
     ]
    }
   ],
   "source": [
    "print(data_2004_2['PUNT_HISTORIA'].value_counts().index)\n",
    "print(data_2004_2['PUNT_HISTORIA'].value_counts())\n",
    "print(missing_data(data_2004_2['PUNT_HISTORIA']))"
   ]
  },
  {
   "cell_type": "code",
   "execution_count": 118,
   "metadata": {
    "collapsed": true
   },
   "outputs": [],
   "source": [
    "c = \"PUNT_HISTORIA\"\n",
    "data_2004_2[c] = data_2004_2[c].replace('---', np.nan)\n",
    "for i in data_2004_2[c].value_counts().index:\n",
    "    if type(i) == str:\n",
    "        data_2004_2[c] = data_2004_2[c].replace(i, float(i))"
   ]
  },
  {
   "cell_type": "code",
   "execution_count": 119,
   "metadata": {
    "collapsed": false,
    "scrolled": true
   },
   "outputs": [
    {
     "name": "stdout",
     "output_type": "stream",
     "text": [
      "Index([  40.87,   42.23,   39.44,   43.52,   37.91,   44.77,   36.25,   45.98,\n",
      "         47.16,   34.41,   48.33,   49.49,   32.33, '39.44', '40.87', '37.91',\n",
      "         50.65, '42.23', '36.25', '43.52',    51.8, '44.77',   29.89, '34.41',\n",
      "         52.97, '45.98',   54.16, '32.33',   55.38, '47.16',   56.63,   26.87,\n",
      "       '48.33', '29.89',   57.93, '49.49',   59.29, '50.65',   60.73, '26.87',\n",
      "         62.27,  '51.8',   22.81, '52.97',   63.95, '54.16',    65.8, '55.38',\n",
      "       '56.63',   67.91, '22.81', '57.93',   16.16,   70.38, '59.29', '16.16',\n",
      "         73.42, '60.73', '62.27', '63.95',     0.0,  '65.8', '67.91',   '---',\n",
      "         77.54, '73.42',   84.24,     '0', '70.38'],\n",
      "      dtype='object')\n",
      "40.87    37919\n",
      "42.23    36422\n",
      "39.44    35005\n",
      "43.52    32262\n",
      "37.91    29632\n",
      "44.77    26084\n",
      "36.25    21709\n",
      "45.98    20313\n",
      "47.16    14917\n",
      "34.41    13464\n",
      "48.33    10835\n",
      "49.49     7783\n",
      "32.33     7064\n",
      "39.44     6390\n",
      "40.87     6330\n",
      "37.91     5665\n",
      "50.65     5479\n",
      "42.23     5364\n",
      "36.25     4720\n",
      "43.52     4489\n",
      "51.8      3905\n",
      "44.77     3264\n",
      "29.89     3193\n",
      "34.41     3161\n",
      "52.97     2819\n",
      "45.98     2259\n",
      "54.16     2038\n",
      "32.33     1734\n",
      "55.38     1510\n",
      "47.16     1468\n",
      "         ...  \n",
      "26.87      307\n",
      "62.27      292\n",
      "51.8       279\n",
      "22.81      278\n",
      "52.97      227\n",
      "63.95      187\n",
      "54.16      136\n",
      "65.8       134\n",
      "55.38      110\n",
      "56.63       84\n",
      "67.91       81\n",
      "22.81       79\n",
      "57.93       54\n",
      "16.16       52\n",
      "70.38       37\n",
      "59.29       28\n",
      "16.16       28\n",
      "73.42       23\n",
      "60.73       22\n",
      "62.27       19\n",
      "63.95       12\n",
      "0.0          8\n",
      "65.8         7\n",
      "67.91        6\n",
      "---          4\n",
      "77.54        4\n",
      "73.42        2\n",
      "84.24        2\n",
      "0            2\n",
      "70.38        2\n",
      "Name: PUNT_QUIMICA, dtype: int64\n",
      "Elementos null/NaN 0\n",
      "__________________\n",
      "Elementos diferentes de null/NaN: 366549\n",
      "__________________\n",
      "(366549,)\n",
      "None\n"
     ]
    }
   ],
   "source": [
    "print(data_2004_2['PUNT_QUIMICA'].value_counts().index)\n",
    "print(data_2004_2['PUNT_QUIMICA'].value_counts())\n",
    "print(missing_data(data_2004_2['PUNT_QUIMICA']))"
   ]
  },
  {
   "cell_type": "code",
   "execution_count": 120,
   "metadata": {
    "collapsed": true
   },
   "outputs": [],
   "source": [
    "c = \"PUNT_QUIMICA\"\n",
    "data_2004_2[c] = data_2004_2[c].replace('---', np.nan)\n",
    "for i in data_2004_2[c].value_counts().index:\n",
    "    if type(i) == str:\n",
    "        data_2004_2[c] = data_2004_2[c].replace(i, float(i))"
   ]
  },
  {
   "cell_type": "code",
   "execution_count": 121,
   "metadata": {
    "collapsed": false,
    "scrolled": true
   },
   "outputs": [
    {
     "name": "stdout",
     "output_type": "stream",
     "text": [
      "Index([  53.12,    51.6,   50.08,   54.64,   48.55,   56.17,    47.0,   57.73,\n",
      "         45.42,   59.31,   43.79,   60.94,   42.11,   62.62,   64.36,   40.36,\n",
      "          66.2,   38.51,   68.15,   36.54, '50.08',  '51.6', '48.55', '53.12',\n",
      "          '47', '54.64',   70.25, '45.42', '56.17', '43.79', '57.73', '59.31',\n",
      "         34.41, '42.11',   72.56, '60.94', '40.36', '62.62', '38.51',   75.15,\n",
      "         32.07, '64.36',  '66.2', '36.54',   78.15, '68.15',   29.43, '34.41',\n",
      "       '70.25',   81.81, '32.07',   26.35, '72.56', '75.15', '29.43',   86.69,\n",
      "       '78.15',   22.59, '26.35', '81.81',   94.53,   17.58, '22.59', '86.69',\n",
      "       '17.58',    9.56,  '9.56',   '---',     0.0,   97.07, '97.07'],\n",
      "      dtype='object')\n",
      "53.12    24231\n",
      "51.6     24039\n",
      "50.08    23480\n",
      "54.64    22777\n",
      "48.55    22298\n",
      "56.17    21434\n",
      "47.0     20662\n",
      "57.73    19440\n",
      "45.42    17773\n",
      "59.31    16895\n",
      "43.79    15136\n",
      "60.94    14352\n",
      "42.11    11779\n",
      "62.62    11524\n",
      "64.36     8917\n",
      "40.36     8860\n",
      "66.2      6687\n",
      "38.51     6033\n",
      "68.15     4860\n",
      "36.54     4057\n",
      "50.08     3781\n",
      "51.6      3746\n",
      "48.55     3660\n",
      "53.12     3596\n",
      "47        3550\n",
      "54.64     3388\n",
      "70.25     3359\n",
      "45.42     3169\n",
      "56.17     2976\n",
      "43.79     2673\n",
      "         ...  \n",
      "64.36     1113\n",
      "66.2       855\n",
      "36.54      847\n",
      "78.15      679\n",
      "68.15      585\n",
      "29.43      562\n",
      "34.41      446\n",
      "70.25      383\n",
      "81.81      310\n",
      "32.07      264\n",
      "26.35      220\n",
      "72.56      210\n",
      "75.15      140\n",
      "29.43      121\n",
      "86.69       80\n",
      "78.15       72\n",
      "22.59       67\n",
      "26.35       44\n",
      "81.81       37\n",
      "94.53       26\n",
      "17.58       23\n",
      "22.59       18\n",
      "86.69       11\n",
      "17.58        6\n",
      "9.56         6\n",
      "9.56         5\n",
      "---          5\n",
      "0.0          5\n",
      "97.07        1\n",
      "97.07        1\n",
      "Name: PUNT_LENGUAJE, dtype: int64\n",
      "Elementos null/NaN 0\n",
      "__________________\n",
      "Elementos diferentes de null/NaN: 366549\n",
      "__________________\n",
      "(366549,)\n",
      "None\n"
     ]
    }
   ],
   "source": [
    "print(data_2004_2['PUNT_LENGUAJE'].value_counts().index)\n",
    "print(data_2004_2['PUNT_LENGUAJE'].value_counts())\n",
    "print(missing_data(data_2004_2['PUNT_LENGUAJE']))"
   ]
  },
  {
   "cell_type": "code",
   "execution_count": 122,
   "metadata": {
    "collapsed": true
   },
   "outputs": [],
   "source": [
    "c = \"PUNT_LENGUAJE\"\n",
    "data_2004_2[c] = data_2004_2[c].replace('---', np.nan)\n",
    "for i in data_2004_2[c].value_counts().index:\n",
    "    if type(i) == str:\n",
    "        data_2004_2[c] = data_2004_2[c].replace(i, float(i))"
   ]
  },
  {
   "cell_type": "code",
   "execution_count": 123,
   "metadata": {
    "collapsed": false,
    "scrolled": true
   },
   "outputs": [
    {
     "name": "stdout",
     "output_type": "stream",
     "text": [
      "Index([  49.61,   50.98,   52.33,   48.23,   53.68,   46.81,   55.04,   45.35,\n",
      "          56.4,   43.84,   57.79,   42.26,    59.2, '48.23', '49.61', '46.81',\n",
      "         40.59, '50.98', '45.35', '52.33', '43.84', '53.68',   60.66, '55.04',\n",
      "       '42.26',    38.8,  '56.4',   62.17, '40.59', '57.79',   36.87,   63.75,\n",
      "        '38.8',  '59.2', '60.66',   65.42, '36.87',   34.72, '62.17',    67.2,\n",
      "       '34.72',    32.3, '63.75',   69.14, '65.42',  '32.3',   29.46,  '67.2',\n",
      "         71.27, '29.46', '69.14',    73.7,   25.95, '71.27', '25.95',   76.54,\n",
      "         21.21,  '73.7', '21.21', '76.54',   '---',   80.04,   13.45, '13.45',\n",
      "           0.0, '80.04',     '0', '84.78'],\n",
      "      dtype='object')\n",
      "49.61    19476\n",
      "50.98    19351\n",
      "52.33    19156\n",
      "48.23    18979\n",
      "53.68    17970\n",
      "46.81    17765\n",
      "55.04    16477\n",
      "45.35    16011\n",
      "56.4     14367\n",
      "43.84    14058\n",
      "57.79    12086\n",
      "42.26    11676\n",
      "59.2      9666\n",
      "48.23     9469\n",
      "49.61     9379\n",
      "46.81     9016\n",
      "40.59     8952\n",
      "50.98     8691\n",
      "45.35     8496\n",
      "52.33     8188\n",
      "43.84     7603\n",
      "53.68     7569\n",
      "60.66     7559\n",
      "55.04     6476\n",
      "42.26     6200\n",
      "38.8      6129\n",
      "56.4      5555\n",
      "62.17     5486\n",
      "40.59     5161\n",
      "57.79     4464\n",
      "         ...  \n",
      "62.17     1723\n",
      "67.2      1452\n",
      "34.72     1371\n",
      "32.3      1129\n",
      "63.75     1123\n",
      "69.14      724\n",
      "65.42      698\n",
      "32.3       629\n",
      "29.46      444\n",
      "67.2       389\n",
      "71.27      353\n",
      "29.46      249\n",
      "69.14      184\n",
      "73.7       156\n",
      "25.95      141\n",
      "71.27       96\n",
      "25.95       88\n",
      "76.54       49\n",
      "21.21       48\n",
      "73.7        34\n",
      "21.21       21\n",
      "76.54       15\n",
      "---         14\n",
      "80.04       14\n",
      "13.45       11\n",
      "13.45        9\n",
      "0.0          6\n",
      "80.04        4\n",
      "0            2\n",
      "84.78        1\n",
      "Name: PUNT_GEOGRAFIA, dtype: int64\n",
      "Elementos null/NaN 0\n",
      "__________________\n",
      "Elementos diferentes de null/NaN: 366549\n",
      "__________________\n",
      "(366549,)\n",
      "None\n"
     ]
    }
   ],
   "source": [
    "print(data_2004_2['PUNT_GEOGRAFIA'].value_counts().index)\n",
    "print(data_2004_2['PUNT_GEOGRAFIA'].value_counts())\n",
    "print(missing_data(data_2004_2['PUNT_GEOGRAFIA']))"
   ]
  },
  {
   "cell_type": "code",
   "execution_count": 124,
   "metadata": {
    "collapsed": true
   },
   "outputs": [],
   "source": [
    "c = \"PUNT_GEOGRAFIA\"\n",
    "data_2004_2[c] = data_2004_2[c].replace('---', np.nan)\n",
    "for i in data_2004_2[c].value_counts().index:\n",
    "    if type(i) == str:\n",
    "        data_2004_2[c] = data_2004_2[c].replace(i, float(i))"
   ]
  },
  {
   "cell_type": "code",
   "execution_count": 125,
   "metadata": {
    "collapsed": false
   },
   "outputs": [
    {
     "name": "stdout",
     "output_type": "stream",
     "text": [
      "Int64Index([43, 44, 45, 99], dtype='int64')\n",
      "43    183493\n",
      "44    139976\n",
      "45     43078\n",
      "99         2\n",
      "Name: COD_INTERDISCIPLINAR, dtype: int64\n",
      "Elementos null/NaN 0\n",
      "__________________\n",
      "Elementos diferentes de null/NaN: 366549\n",
      "__________________\n",
      "(366549,)\n",
      "None\n"
     ]
    }
   ],
   "source": [
    "print(data_2004_2['COD_INTERDISCIPLINAR'].value_counts().sort_index().index)\n",
    "print(data_2004_2['COD_INTERDISCIPLINAR'].value_counts().sort_index())\n",
    "print(missing_data(data_2004_2['COD_INTERDISCIPLINAR']))"
   ]
  },
  {
   "cell_type": "code",
   "execution_count": 126,
   "metadata": {
    "collapsed": false,
    "scrolled": true
   },
   "outputs": [
    {
     "name": "stdout",
     "output_type": "stream",
     "text": [
      "Index(['---', '0', '22.06', '23.24', '31.01', '32.26', '33.15', '35.96',\n",
      "       '39.81', '40.24', '40.3', '43.1', '45.55', '45.76', '46.08', '48.9',\n",
      "       '49.7', '50.49', '51.68', '53.3', '54.52', '54.77', '56.61', '57.51',\n",
      "       '58.84', '59.77', '60.81', '62.83', '62.91', '64.68', '66.12', '66.89',\n",
      "       '69.53', '69.66', '71.18', '73.3', '75.9', '77.47', '77.7', '81.42',\n",
      "       '81.43', '83.33', '88.5', '91.93', '96.32', '99.58'],\n",
      "      dtype='object')\n",
      "---       2207\n",
      "0         2104\n",
      "22.06     1294\n",
      "23.24     4595\n",
      "31.01    11512\n",
      "32.26     5010\n",
      "33.15     3440\n",
      "35.96    18967\n",
      "39.81    23312\n",
      "40.24     6090\n",
      "40.3     13448\n",
      "43.1     22868\n",
      "45.55    23572\n",
      "45.76     7626\n",
      "46.08    19218\n",
      "48.9     14097\n",
      "49.7     31443\n",
      "50.49     7751\n",
      "51.68     9769\n",
      "53.3     33307\n",
      "54.52     6416\n",
      "54.77     6331\n",
      "56.61    29433\n",
      "57.51     3856\n",
      "58.84     4491\n",
      "59.77    21910\n",
      "60.81     2206\n",
      "62.83     2803\n",
      "62.91    13236\n",
      "64.68     1095\n",
      "66.12     6530\n",
      "66.89     1546\n",
      "69.53     2480\n",
      "69.66      418\n",
      "71.18      749\n",
      "73.3       686\n",
      "75.9       301\n",
      "77.47       88\n",
      "77.7       147\n",
      "81.42      114\n",
      "81.43       15\n",
      "83.33       24\n",
      "88.5        29\n",
      "91.93        2\n",
      "96.32        1\n",
      "99.58       12\n",
      "Name: PUNT_INTERDISCIPLINAR, dtype: int64\n",
      "Elementos null/NaN 0\n",
      "__________________\n",
      "Elementos diferentes de null/NaN: 366549\n",
      "__________________\n",
      "(366549,)\n",
      "None\n"
     ]
    }
   ],
   "source": [
    "print(data_2004_2['PUNT_INTERDISCIPLINAR'].value_counts().sort_index().index)\n",
    "print(data_2004_2['PUNT_INTERDISCIPLINAR'].value_counts().sort_index())\n",
    "print(missing_data(data_2004_2['PUNT_INTERDISCIPLINAR']))"
   ]
  },
  {
   "cell_type": "code",
   "execution_count": 127,
   "metadata": {
    "collapsed": true
   },
   "outputs": [],
   "source": [
    "c = \"PUNT_INTERDISCIPLINAR\"\n",
    "data_2004_2[c] = data_2004_2[c].replace('---', np.nan)\n",
    "for i in data_2004_2[c].value_counts().index:\n",
    "    if type(i) == str:\n",
    "        data_2004_2[c] = data_2004_2[c].replace(i, float(i))"
   ]
  },
  {
   "cell_type": "code",
   "execution_count": 128,
   "metadata": {
    "collapsed": false
   },
   "outputs": [
    {
     "name": "stdout",
     "output_type": "stream",
     "text": [
      "Int64Index([51, 52, 53, 99], dtype='int64')\n",
      "51    364138\n",
      "52      1728\n",
      "53       293\n",
      "99       390\n",
      "Name: COD_IDIOMA, dtype: int64\n",
      "Elementos null/NaN 0\n",
      "__________________\n",
      "Elementos diferentes de null/NaN: 366549\n",
      "__________________\n",
      "(366549,)\n",
      "None\n"
     ]
    }
   ],
   "source": [
    "print(data_2004_2['COD_IDIOMA'].value_counts().sort_index().index)\n",
    "print(data_2004_2['COD_IDIOMA'].value_counts().sort_index())\n",
    "print(missing_data(data_2004_2['COD_IDIOMA']))"
   ]
  },
  {
   "cell_type": "code",
   "execution_count": 129,
   "metadata": {
    "collapsed": false,
    "scrolled": true
   },
   "outputs": [
    {
     "name": "stdout",
     "output_type": "stream",
     "text": [
      "Index(['38.40', '36.79', '39.90', '35.02', '41.31', '33.06', '42.66', '43.97',\n",
      "       '30.84', '45.24',\n",
      "       ...\n",
      "         41.32,   46.48,  '51.3',    24.2,  '48.9', '120.1',   42.67,   49.86,\n",
      "         77.01,     0.0],\n",
      "      dtype='object', length=166)\n",
      "38.40    47709\n",
      "36.79    46077\n",
      "39.90    43128\n",
      "35.02    38667\n",
      "41.31    35886\n",
      "33.06    28029\n",
      "42.66    26471\n",
      "43.97    18271\n",
      "30.84    16833\n",
      "45.24    12020\n",
      "28.22     8204\n",
      "46.47     7721\n",
      "47.70     5028\n",
      "48.90     3431\n",
      "24.96     3296\n",
      "50.09     2451\n",
      "51.29     1963\n",
      "52.52     1670\n",
      "53.75     1374\n",
      "55.02     1120\n",
      "56.31     1053\n",
      "20.54      925\n",
      "57.66      913\n",
      "59.09      882\n",
      "60.59      806\n",
      "62.20      748\n",
      "38.4       694\n",
      "39.9       657\n",
      "36.79      643\n",
      "63.95      626\n",
      "         ...  \n",
      "60.27        3\n",
      "99.40        3\n",
      "105.6        3\n",
      "70.83        3\n",
      "35.03        2\n",
      "114.8        2\n",
      "103.5        2\n",
      "72.73        2\n",
      "24.97        2\n",
      "85.69        2\n",
      "108.7        2\n",
      "16.97        1\n",
      "13.25        1\n",
      "126.2        1\n",
      "87.84        1\n",
      "68.94        1\n",
      "59.15        1\n",
      "54.77        1\n",
      "44.02        1\n",
      "86.98        1\n",
      "41.32        1\n",
      "46.48        1\n",
      "51.3         1\n",
      "24.2         1\n",
      "48.9         1\n",
      "120.1        1\n",
      "42.67        1\n",
      "49.86        1\n",
      "77.01        1\n",
      "0.0          1\n",
      "Name: PUNT_IDIOMA, dtype: int64\n",
      "Elementos null/NaN 0\n",
      "__________________\n",
      "Elementos diferentes de null/NaN: 366549\n",
      "__________________\n",
      "(366549,)\n",
      "None\n"
     ]
    }
   ],
   "source": [
    "print(data_2004_2['PUNT_IDIOMA'].value_counts().index)\n",
    "print(data_2004_2['PUNT_IDIOMA'].value_counts())\n",
    "print(missing_data(data_2004_2['PUNT_IDIOMA']))"
   ]
  },
  {
   "cell_type": "code",
   "execution_count": 130,
   "metadata": {
    "collapsed": false
   },
   "outputs": [],
   "source": [
    "c = \"PUNT_IDIOMA\"\n",
    "data_2004_2[c] = data_2004_2[c].replace('---', np.nan)\n",
    "data_2004_2[c] = data_2004_2[c].replace('*', np.nan)\n",
    "for i in data_2004_2[c].value_counts().index:\n",
    "    if type(i) == str:\n",
    "        data_2004_2[c] = data_2004_2[c].replace(i, float(i))"
   ]
  },
  {
   "cell_type": "markdown",
   "metadata": {},
   "source": [
    "Now i can transform the DataFrame in csv files"
   ]
  },
  {
   "cell_type": "code",
   "execution_count": 132,
   "metadata": {
    "collapsed": true
   },
   "outputs": [],
   "source": [
    "data_2004.to_csv('../DatosFTPICFES/SABER11/SB11-BASES_DE_DATOS/READY/2004_1.csv')\n",
    "data_2004_2.to_csv('../DatosFTPICFES/SABER11/SB11-BASES_DE_DATOS/READY/2004_2.csv')"
   ]
  }
 ],
 "metadata": {
  "kernelspec": {
   "display_name": "Python 3 + Anaconda",
   "language": "python",
   "name": "pyconda3"
  },
  "language_info": {
   "codemirror_mode": {
    "name": "ipython",
    "version": 3
   },
   "file_extension": ".py",
   "mimetype": "text/x-python",
   "name": "python",
   "nbconvert_exporter": "python",
   "pygments_lexer": "ipython3",
   "version": "3.5.1"
  }
 },
 "nbformat": 4,
 "nbformat_minor": 0
}
