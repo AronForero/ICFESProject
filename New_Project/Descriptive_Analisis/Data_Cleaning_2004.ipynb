{
 "cells": [
  {
   "cell_type": "code",
   "execution_count": 1,
   "metadata": {
    "collapsed": true
   },
   "outputs": [],
   "source": [
    "import pandas as pd\n",
    "import numpy as np\n",
    "%run -i ../tools/functions.py\n",
    "%run -i ../tools/label_encoder.py"
   ]
  },
  {
   "cell_type": "code",
   "execution_count": 2,
   "metadata": {
    "collapsed": false
   },
   "outputs": [
    {
     "name": "stderr",
     "output_type": "stream",
     "text": [
      "/usr/local/anaconda3/lib/python3.5/site-packages/IPython/core/interactiveshell.py:2723: DtypeWarning: Columns (3,12,13,14,15,16,19,20,22,23) have mixed types. Specify dtype option on import or set low_memory=False.\n",
      "  interactivity=interactivity, compiler=compiler, result=result)\n"
     ]
    }
   ],
   "source": [
    "data_2004 = pd.read_csv('../DatosFTPICFES/SABER11/SB11-BASES_DE_DATOS/SB11-20041-RGSTRO-CLFCCN-V1-0.txt', delimiter = '|',\n",
    "                       encoding = \"iso-8859-1\")"
   ]
  },
  {
   "cell_type": "code",
   "execution_count": 3,
   "metadata": {
    "collapsed": false
   },
   "outputs": [
    {
     "data": {
      "text/plain": [
       "(64779, 58)"
      ]
     },
     "execution_count": 3,
     "metadata": {},
     "output_type": "execute_result"
    }
   ],
   "source": [
    "data_2004.shape"
   ]
  },
  {
   "cell_type": "code",
   "execution_count": 4,
   "metadata": {
    "collapsed": false,
    "scrolled": true
   },
   "outputs": [
    {
     "data": {
      "text/html": [
       "<div>\n",
       "<table border=\"1\" class=\"dataframe\">\n",
       "  <thead>\n",
       "    <tr style=\"text-align: right;\">\n",
       "      <th></th>\n",
       "      <th>0</th>\n",
       "      <th>1</th>\n",
       "      <th>2</th>\n",
       "    </tr>\n",
       "  </thead>\n",
       "  <tbody>\n",
       "    <tr>\n",
       "      <th>ESTU_CONSECUTIVO</th>\n",
       "      <td>SB11200410000001</td>\n",
       "      <td>SB11200410000002</td>\n",
       "      <td>SB11200410000003</td>\n",
       "    </tr>\n",
       "    <tr>\n",
       "      <th>COLE_COD_ICFES</th>\n",
       "      <td>66191</td>\n",
       "      <td>18036</td>\n",
       "      <td>50716</td>\n",
       "    </tr>\n",
       "    <tr>\n",
       "      <th>COLE_NOMBRE_SEDE</th>\n",
       "      <td>COLEGIO PATRICIO SYMES</td>\n",
       "      <td>INSTITUTO COMERCIAL TEOFILO ROBERTO POTES</td>\n",
       "      <td>CENTRO DOCENTE FRANCISCO JOSE DE CALDAS</td>\n",
       "    </tr>\n",
       "    <tr>\n",
       "      <th>IND_ANNO_TERMINO_BACHILLERATO</th>\n",
       "      <td>2004</td>\n",
       "      <td>2004</td>\n",
       "      <td>2004</td>\n",
       "    </tr>\n",
       "    <tr>\n",
       "      <th>COLE_JORNADA</th>\n",
       "      <td>M</td>\n",
       "      <td>C</td>\n",
       "      <td>M</td>\n",
       "    </tr>\n",
       "    <tr>\n",
       "      <th>COLE_VALOR_PENSION</th>\n",
       "      <td>5</td>\n",
       "      <td>1</td>\n",
       "      <td>1</td>\n",
       "    </tr>\n",
       "    <tr>\n",
       "      <th>ESTU_GENERO</th>\n",
       "      <td>M</td>\n",
       "      <td>M</td>\n",
       "      <td>M</td>\n",
       "    </tr>\n",
       "    <tr>\n",
       "      <th>ESTU_NACIMIENTO_DIA</th>\n",
       "      <td>8</td>\n",
       "      <td>12</td>\n",
       "      <td>5</td>\n",
       "    </tr>\n",
       "    <tr>\n",
       "      <th>ESTU_NACIMIENTO_MES</th>\n",
       "      <td>1</td>\n",
       "      <td>5</td>\n",
       "      <td>1</td>\n",
       "    </tr>\n",
       "    <tr>\n",
       "      <th>ESTU_NACIMIENTO_ANNO</th>\n",
       "      <td>1988</td>\n",
       "      <td>1986</td>\n",
       "      <td>1987</td>\n",
       "    </tr>\n",
       "    <tr>\n",
       "      <th>ESTU_DEPTO_PRESENTACION</th>\n",
       "      <td>VALLE</td>\n",
       "      <td>VALLE</td>\n",
       "      <td>VALLE</td>\n",
       "    </tr>\n",
       "    <tr>\n",
       "      <th>ESTU_MCPIO_PRESENTACION</th>\n",
       "      <td>BUENAVENTURA</td>\n",
       "      <td>BUENAVENTURA</td>\n",
       "      <td>BUENAVENTURA</td>\n",
       "    </tr>\n",
       "    <tr>\n",
       "      <th>ESTU_LIMITA_INVIDENTE</th>\n",
       "      <td>NaN</td>\n",
       "      <td>NaN</td>\n",
       "      <td>NaN</td>\n",
       "    </tr>\n",
       "    <tr>\n",
       "      <th>ESTU_LIMITA_SORDOINTERPRETE</th>\n",
       "      <td>NaN</td>\n",
       "      <td>NaN</td>\n",
       "      <td>NaN</td>\n",
       "    </tr>\n",
       "    <tr>\n",
       "      <th>ESTU_LIMITA_SORDONOINTERPRETE</th>\n",
       "      <td>NaN</td>\n",
       "      <td>NaN</td>\n",
       "      <td>NaN</td>\n",
       "    </tr>\n",
       "    <tr>\n",
       "      <th>ESTU_LIMITA_MOTRIZ</th>\n",
       "      <td>NaN</td>\n",
       "      <td>NaN</td>\n",
       "      <td>NaN</td>\n",
       "    </tr>\n",
       "    <tr>\n",
       "      <th>PUNT_BIOLOGIA</th>\n",
       "      <td>49.9</td>\n",
       "      <td>40.6</td>\n",
       "      <td>43.5</td>\n",
       "    </tr>\n",
       "    <tr>\n",
       "      <th>PUNT_MATEMATICAS</th>\n",
       "      <td>47.1</td>\n",
       "      <td>42.8</td>\n",
       "      <td>42.8</td>\n",
       "    </tr>\n",
       "    <tr>\n",
       "      <th>PUNT_FILOSOFIA</th>\n",
       "      <td>49.9</td>\n",
       "      <td>44.6</td>\n",
       "      <td>49.9</td>\n",
       "    </tr>\n",
       "    <tr>\n",
       "      <th>PUNT_FISICA</th>\n",
       "      <td>47.8</td>\n",
       "      <td>41.9</td>\n",
       "      <td>46</td>\n",
       "    </tr>\n",
       "    <tr>\n",
       "      <th>PUNT_HISTORIA</th>\n",
       "      <td>38</td>\n",
       "      <td>40.8</td>\n",
       "      <td>38</td>\n",
       "    </tr>\n",
       "    <tr>\n",
       "      <th>PUNT_QUIMICA</th>\n",
       "      <td>47.2</td>\n",
       "      <td>43.2</td>\n",
       "      <td>31.8</td>\n",
       "    </tr>\n",
       "    <tr>\n",
       "      <th>PUNT_LENGUAJE</th>\n",
       "      <td>47.1</td>\n",
       "      <td>47.1</td>\n",
       "      <td>53</td>\n",
       "    </tr>\n",
       "    <tr>\n",
       "      <th>PUNT_GEOGRAFIA</th>\n",
       "      <td>39.3</td>\n",
       "      <td>43.8</td>\n",
       "      <td>45.1</td>\n",
       "    </tr>\n",
       "    <tr>\n",
       "      <th>COD_INTERDISCIPLINAR</th>\n",
       "      <td>43</td>\n",
       "      <td>43</td>\n",
       "      <td>43</td>\n",
       "    </tr>\n",
       "    <tr>\n",
       "      <th>PUNT_INTERDISCIPLINAR</th>\n",
       "      <td>45.8</td>\n",
       "      <td>45.8</td>\n",
       "      <td>56.9</td>\n",
       "    </tr>\n",
       "    <tr>\n",
       "      <th>COD_IDIOMA</th>\n",
       "      <td>52</td>\n",
       "      <td>52</td>\n",
       "      <td>53</td>\n",
       "    </tr>\n",
       "    <tr>\n",
       "      <th>PUNT_IDIOMA</th>\n",
       "      <td>45.3</td>\n",
       "      <td>30.2</td>\n",
       "      <td>40.7</td>\n",
       "    </tr>\n",
       "    <tr>\n",
       "      <th>ESTU_IES_COD_DESEADA</th>\n",
       "      <td>1203</td>\n",
       "      <td>NaN</td>\n",
       "      <td>NaN</td>\n",
       "    </tr>\n",
       "    <tr>\n",
       "      <th>ESTU_RAZONINSTITUTO</th>\n",
       "      <td>2</td>\n",
       "      <td>NaN</td>\n",
       "      <td>NaN</td>\n",
       "    </tr>\n",
       "    <tr>\n",
       "      <th>ESTU_CARRDESEADA_COD</th>\n",
       "      <td>213</td>\n",
       "      <td>NaN</td>\n",
       "      <td>NaN</td>\n",
       "    </tr>\n",
       "    <tr>\n",
       "      <th>ESTU_CARRDESEADA_RAZON</th>\n",
       "      <td>3</td>\n",
       "      <td>NaN</td>\n",
       "      <td>5</td>\n",
       "    </tr>\n",
       "    <tr>\n",
       "      <th>FAMI_PERSONAS_HOGAR</th>\n",
       "      <td>7</td>\n",
       "      <td>6</td>\n",
       "      <td>6</td>\n",
       "    </tr>\n",
       "    <tr>\n",
       "      <th>FAMI_VIVIENDA_PROPIA</th>\n",
       "      <td>N</td>\n",
       "      <td>S</td>\n",
       "      <td>S</td>\n",
       "    </tr>\n",
       "    <tr>\n",
       "      <th>FAMI_DEUDA_VIVIENDA</th>\n",
       "      <td>N</td>\n",
       "      <td>N</td>\n",
       "      <td>N</td>\n",
       "    </tr>\n",
       "    <tr>\n",
       "      <th>FAMI_APORTANTES</th>\n",
       "      <td>2</td>\n",
       "      <td>2</td>\n",
       "      <td>1</td>\n",
       "    </tr>\n",
       "    <tr>\n",
       "      <th>FAMI_INGRESO_FMILIAR_MENSUAL</th>\n",
       "      <td>2</td>\n",
       "      <td>NaN</td>\n",
       "      <td>0</td>\n",
       "    </tr>\n",
       "    <tr>\n",
       "      <th>FAMI_LEE_ESCRIBE_PADRE</th>\n",
       "      <td>S</td>\n",
       "      <td>S</td>\n",
       "      <td>S</td>\n",
       "    </tr>\n",
       "    <tr>\n",
       "      <th>FAMI_LEE_ESCRIBE_MADRE</th>\n",
       "      <td>S</td>\n",
       "      <td>S</td>\n",
       "      <td>S</td>\n",
       "    </tr>\n",
       "    <tr>\n",
       "      <th>FAMI_EDUCA_PADRE</th>\n",
       "      <td>5</td>\n",
       "      <td>2</td>\n",
       "      <td>4</td>\n",
       "    </tr>\n",
       "    <tr>\n",
       "      <th>FAMI_EDUCA_MADRE</th>\n",
       "      <td>4</td>\n",
       "      <td>7</td>\n",
       "      <td>3</td>\n",
       "    </tr>\n",
       "    <tr>\n",
       "      <th>FAMI_OCUPA_PADRE</th>\n",
       "      <td>4</td>\n",
       "      <td>8</td>\n",
       "      <td>6</td>\n",
       "    </tr>\n",
       "    <tr>\n",
       "      <th>FAMI_OCUPA_MADRE</th>\n",
       "      <td>10</td>\n",
       "      <td>3</td>\n",
       "      <td>10</td>\n",
       "    </tr>\n",
       "    <tr>\n",
       "      <th>FAMI_NUM_HERMANOS</th>\n",
       "      <td>7</td>\n",
       "      <td>3</td>\n",
       "      <td>5</td>\n",
       "    </tr>\n",
       "    <tr>\n",
       "      <th>FAMI_NUM_HERMANOS_EDUSUPERIOR</th>\n",
       "      <td>NaN</td>\n",
       "      <td>NaN</td>\n",
       "      <td>3</td>\n",
       "    </tr>\n",
       "    <tr>\n",
       "      <th>FAMI_POSICION_HERMANOS</th>\n",
       "      <td>4</td>\n",
       "      <td>2</td>\n",
       "      <td>NaN</td>\n",
       "    </tr>\n",
       "    <tr>\n",
       "      <th>FAMI_SOST_PERSONAL</th>\n",
       "      <td>T</td>\n",
       "      <td>T</td>\n",
       "      <td>T</td>\n",
       "    </tr>\n",
       "    <tr>\n",
       "      <th>ESTU_TRABAJA</th>\n",
       "      <td>N</td>\n",
       "      <td>N</td>\n",
       "      <td>N</td>\n",
       "    </tr>\n",
       "    <tr>\n",
       "      <th>ESTU_ACT_PROX_ANNO</th>\n",
       "      <td>3</td>\n",
       "      <td>1</td>\n",
       "      <td>1</td>\n",
       "    </tr>\n",
       "    <tr>\n",
       "      <th>FAMI_ESTRATO_VIVIENDA</th>\n",
       "      <td>3</td>\n",
       "      <td>1</td>\n",
       "      <td>1</td>\n",
       "    </tr>\n",
       "    <tr>\n",
       "      <th>COLE_CALENDARIO</th>\n",
       "      <td>B</td>\n",
       "      <td>B</td>\n",
       "      <td>B</td>\n",
       "    </tr>\n",
       "    <tr>\n",
       "      <th>COLE_BILINGUE</th>\n",
       "      <td>NaN</td>\n",
       "      <td>NaN</td>\n",
       "      <td>NaN</td>\n",
       "    </tr>\n",
       "    <tr>\n",
       "      <th>COLE_CARACTER</th>\n",
       "      <td>TECNICO</td>\n",
       "      <td>TECNICO</td>\n",
       "      <td>ACADEMICO</td>\n",
       "    </tr>\n",
       "    <tr>\n",
       "      <th>COLE_DEPTO_UBICACION</th>\n",
       "      <td>VALLE</td>\n",
       "      <td>VALLE</td>\n",
       "      <td>VALLE</td>\n",
       "    </tr>\n",
       "    <tr>\n",
       "      <th>COLE_MCPIO_UBICACION</th>\n",
       "      <td>BUENAVENTURA</td>\n",
       "      <td>BUENAVENTURA</td>\n",
       "      <td>BUENAVENTURA</td>\n",
       "    </tr>\n",
       "    <tr>\n",
       "      <th>ESTU_RESIDE_DEPTO</th>\n",
       "      <td>VALLE</td>\n",
       "      <td>VALLE</td>\n",
       "      <td>VALLE</td>\n",
       "    </tr>\n",
       "    <tr>\n",
       "      <th>ESTU_RESIDE_MCPIO</th>\n",
       "      <td>BUENAVENTURA</td>\n",
       "      <td>BUENAVENTURA</td>\n",
       "      <td>BUENAVENTURA</td>\n",
       "    </tr>\n",
       "    <tr>\n",
       "      <th>ESTU_TIPO_DOCUMENTO</th>\n",
       "      <td>R</td>\n",
       "      <td>T</td>\n",
       "      <td>R</td>\n",
       "    </tr>\n",
       "  </tbody>\n",
       "</table>\n",
       "</div>"
      ],
      "text/plain": [
       "                                                    0  \\\n",
       "ESTU_CONSECUTIVO                     SB11200410000001   \n",
       "COLE_COD_ICFES                                  66191   \n",
       "COLE_NOMBRE_SEDE               COLEGIO PATRICIO SYMES   \n",
       "IND_ANNO_TERMINO_BACHILLERATO                    2004   \n",
       "COLE_JORNADA                                        M   \n",
       "COLE_VALOR_PENSION                                  5   \n",
       "ESTU_GENERO                                         M   \n",
       "ESTU_NACIMIENTO_DIA                                 8   \n",
       "ESTU_NACIMIENTO_MES                                 1   \n",
       "ESTU_NACIMIENTO_ANNO                             1988   \n",
       "ESTU_DEPTO_PRESENTACION                         VALLE   \n",
       "ESTU_MCPIO_PRESENTACION                  BUENAVENTURA   \n",
       "ESTU_LIMITA_INVIDENTE                             NaN   \n",
       "ESTU_LIMITA_SORDOINTERPRETE                       NaN   \n",
       "ESTU_LIMITA_SORDONOINTERPRETE                     NaN   \n",
       "ESTU_LIMITA_MOTRIZ                                NaN   \n",
       "PUNT_BIOLOGIA                                    49.9   \n",
       "PUNT_MATEMATICAS                                 47.1   \n",
       "PUNT_FILOSOFIA                                   49.9   \n",
       "PUNT_FISICA                                      47.8   \n",
       "PUNT_HISTORIA                                      38   \n",
       "PUNT_QUIMICA                                     47.2   \n",
       "PUNT_LENGUAJE                                    47.1   \n",
       "PUNT_GEOGRAFIA                                   39.3   \n",
       "COD_INTERDISCIPLINAR                               43   \n",
       "PUNT_INTERDISCIPLINAR                            45.8   \n",
       "COD_IDIOMA                                         52   \n",
       "PUNT_IDIOMA                                      45.3   \n",
       "ESTU_IES_COD_DESEADA                             1203   \n",
       "ESTU_RAZONINSTITUTO                                 2   \n",
       "ESTU_CARRDESEADA_COD                              213   \n",
       "ESTU_CARRDESEADA_RAZON                              3   \n",
       "FAMI_PERSONAS_HOGAR                                 7   \n",
       "FAMI_VIVIENDA_PROPIA                                N   \n",
       "FAMI_DEUDA_VIVIENDA                                 N   \n",
       "FAMI_APORTANTES                                     2   \n",
       "FAMI_INGRESO_FMILIAR_MENSUAL                        2   \n",
       "FAMI_LEE_ESCRIBE_PADRE                              S   \n",
       "FAMI_LEE_ESCRIBE_MADRE                              S   \n",
       "FAMI_EDUCA_PADRE                                    5   \n",
       "FAMI_EDUCA_MADRE                                    4   \n",
       "FAMI_OCUPA_PADRE                                    4   \n",
       "FAMI_OCUPA_MADRE                                   10   \n",
       "FAMI_NUM_HERMANOS                                   7   \n",
       "FAMI_NUM_HERMANOS_EDUSUPERIOR                     NaN   \n",
       "FAMI_POSICION_HERMANOS                              4   \n",
       "FAMI_SOST_PERSONAL                                  T   \n",
       "ESTU_TRABAJA                                        N   \n",
       "ESTU_ACT_PROX_ANNO                                  3   \n",
       "FAMI_ESTRATO_VIVIENDA                               3   \n",
       "COLE_CALENDARIO                                     B   \n",
       "COLE_BILINGUE                                     NaN   \n",
       "COLE_CARACTER                                 TECNICO   \n",
       "COLE_DEPTO_UBICACION                            VALLE   \n",
       "COLE_MCPIO_UBICACION                     BUENAVENTURA   \n",
       "ESTU_RESIDE_DEPTO                               VALLE   \n",
       "ESTU_RESIDE_MCPIO                        BUENAVENTURA   \n",
       "ESTU_TIPO_DOCUMENTO                                 R   \n",
       "\n",
       "                                                                       1  \\\n",
       "ESTU_CONSECUTIVO                                        SB11200410000002   \n",
       "COLE_COD_ICFES                                                     18036   \n",
       "COLE_NOMBRE_SEDE               INSTITUTO COMERCIAL TEOFILO ROBERTO POTES   \n",
       "IND_ANNO_TERMINO_BACHILLERATO                                       2004   \n",
       "COLE_JORNADA                                                           C   \n",
       "COLE_VALOR_PENSION                                                     1   \n",
       "ESTU_GENERO                                                            M   \n",
       "ESTU_NACIMIENTO_DIA                                                   12   \n",
       "ESTU_NACIMIENTO_MES                                                    5   \n",
       "ESTU_NACIMIENTO_ANNO                                                1986   \n",
       "ESTU_DEPTO_PRESENTACION                                            VALLE   \n",
       "ESTU_MCPIO_PRESENTACION                                     BUENAVENTURA   \n",
       "ESTU_LIMITA_INVIDENTE                                                NaN   \n",
       "ESTU_LIMITA_SORDOINTERPRETE                                          NaN   \n",
       "ESTU_LIMITA_SORDONOINTERPRETE                                        NaN   \n",
       "ESTU_LIMITA_MOTRIZ                                                   NaN   \n",
       "PUNT_BIOLOGIA                                                       40.6   \n",
       "PUNT_MATEMATICAS                                                    42.8   \n",
       "PUNT_FILOSOFIA                                                      44.6   \n",
       "PUNT_FISICA                                                         41.9   \n",
       "PUNT_HISTORIA                                                       40.8   \n",
       "PUNT_QUIMICA                                                        43.2   \n",
       "PUNT_LENGUAJE                                                       47.1   \n",
       "PUNT_GEOGRAFIA                                                      43.8   \n",
       "COD_INTERDISCIPLINAR                                                  43   \n",
       "PUNT_INTERDISCIPLINAR                                               45.8   \n",
       "COD_IDIOMA                                                            52   \n",
       "PUNT_IDIOMA                                                         30.2   \n",
       "ESTU_IES_COD_DESEADA                                                 NaN   \n",
       "ESTU_RAZONINSTITUTO                                                  NaN   \n",
       "ESTU_CARRDESEADA_COD                                                 NaN   \n",
       "ESTU_CARRDESEADA_RAZON                                               NaN   \n",
       "FAMI_PERSONAS_HOGAR                                                    6   \n",
       "FAMI_VIVIENDA_PROPIA                                                   S   \n",
       "FAMI_DEUDA_VIVIENDA                                                    N   \n",
       "FAMI_APORTANTES                                                        2   \n",
       "FAMI_INGRESO_FMILIAR_MENSUAL                                         NaN   \n",
       "FAMI_LEE_ESCRIBE_PADRE                                                 S   \n",
       "FAMI_LEE_ESCRIBE_MADRE                                                 S   \n",
       "FAMI_EDUCA_PADRE                                                       2   \n",
       "FAMI_EDUCA_MADRE                                                       7   \n",
       "FAMI_OCUPA_PADRE                                                       8   \n",
       "FAMI_OCUPA_MADRE                                                       3   \n",
       "FAMI_NUM_HERMANOS                                                      3   \n",
       "FAMI_NUM_HERMANOS_EDUSUPERIOR                                        NaN   \n",
       "FAMI_POSICION_HERMANOS                                                 2   \n",
       "FAMI_SOST_PERSONAL                                                     T   \n",
       "ESTU_TRABAJA                                                           N   \n",
       "ESTU_ACT_PROX_ANNO                                                     1   \n",
       "FAMI_ESTRATO_VIVIENDA                                                  1   \n",
       "COLE_CALENDARIO                                                        B   \n",
       "COLE_BILINGUE                                                        NaN   \n",
       "COLE_CARACTER                                                    TECNICO   \n",
       "COLE_DEPTO_UBICACION                                               VALLE   \n",
       "COLE_MCPIO_UBICACION                                        BUENAVENTURA   \n",
       "ESTU_RESIDE_DEPTO                                                  VALLE   \n",
       "ESTU_RESIDE_MCPIO                                           BUENAVENTURA   \n",
       "ESTU_TIPO_DOCUMENTO                                                    T   \n",
       "\n",
       "                                                                     2  \n",
       "ESTU_CONSECUTIVO                                      SB11200410000003  \n",
       "COLE_COD_ICFES                                                   50716  \n",
       "COLE_NOMBRE_SEDE               CENTRO DOCENTE FRANCISCO JOSE DE CALDAS  \n",
       "IND_ANNO_TERMINO_BACHILLERATO                                     2004  \n",
       "COLE_JORNADA                                                         M  \n",
       "COLE_VALOR_PENSION                                                   1  \n",
       "ESTU_GENERO                                                          M  \n",
       "ESTU_NACIMIENTO_DIA                                                  5  \n",
       "ESTU_NACIMIENTO_MES                                                  1  \n",
       "ESTU_NACIMIENTO_ANNO                                              1987  \n",
       "ESTU_DEPTO_PRESENTACION                                          VALLE  \n",
       "ESTU_MCPIO_PRESENTACION                                   BUENAVENTURA  \n",
       "ESTU_LIMITA_INVIDENTE                                              NaN  \n",
       "ESTU_LIMITA_SORDOINTERPRETE                                        NaN  \n",
       "ESTU_LIMITA_SORDONOINTERPRETE                                      NaN  \n",
       "ESTU_LIMITA_MOTRIZ                                                 NaN  \n",
       "PUNT_BIOLOGIA                                                     43.5  \n",
       "PUNT_MATEMATICAS                                                  42.8  \n",
       "PUNT_FILOSOFIA                                                    49.9  \n",
       "PUNT_FISICA                                                         46  \n",
       "PUNT_HISTORIA                                                       38  \n",
       "PUNT_QUIMICA                                                      31.8  \n",
       "PUNT_LENGUAJE                                                       53  \n",
       "PUNT_GEOGRAFIA                                                    45.1  \n",
       "COD_INTERDISCIPLINAR                                                43  \n",
       "PUNT_INTERDISCIPLINAR                                             56.9  \n",
       "COD_IDIOMA                                                          53  \n",
       "PUNT_IDIOMA                                                       40.7  \n",
       "ESTU_IES_COD_DESEADA                                               NaN  \n",
       "ESTU_RAZONINSTITUTO                                                NaN  \n",
       "ESTU_CARRDESEADA_COD                                               NaN  \n",
       "ESTU_CARRDESEADA_RAZON                                               5  \n",
       "FAMI_PERSONAS_HOGAR                                                  6  \n",
       "FAMI_VIVIENDA_PROPIA                                                 S  \n",
       "FAMI_DEUDA_VIVIENDA                                                  N  \n",
       "FAMI_APORTANTES                                                      1  \n",
       "FAMI_INGRESO_FMILIAR_MENSUAL                                         0  \n",
       "FAMI_LEE_ESCRIBE_PADRE                                               S  \n",
       "FAMI_LEE_ESCRIBE_MADRE                                               S  \n",
       "FAMI_EDUCA_PADRE                                                     4  \n",
       "FAMI_EDUCA_MADRE                                                     3  \n",
       "FAMI_OCUPA_PADRE                                                     6  \n",
       "FAMI_OCUPA_MADRE                                                    10  \n",
       "FAMI_NUM_HERMANOS                                                    5  \n",
       "FAMI_NUM_HERMANOS_EDUSUPERIOR                                        3  \n",
       "FAMI_POSICION_HERMANOS                                             NaN  \n",
       "FAMI_SOST_PERSONAL                                                   T  \n",
       "ESTU_TRABAJA                                                         N  \n",
       "ESTU_ACT_PROX_ANNO                                                   1  \n",
       "FAMI_ESTRATO_VIVIENDA                                                1  \n",
       "COLE_CALENDARIO                                                      B  \n",
       "COLE_BILINGUE                                                      NaN  \n",
       "COLE_CARACTER                                                ACADEMICO  \n",
       "COLE_DEPTO_UBICACION                                             VALLE  \n",
       "COLE_MCPIO_UBICACION                                      BUENAVENTURA  \n",
       "ESTU_RESIDE_DEPTO                                                VALLE  \n",
       "ESTU_RESIDE_MCPIO                                         BUENAVENTURA  \n",
       "ESTU_TIPO_DOCUMENTO                                                  R  "
      ]
     },
     "execution_count": 4,
     "metadata": {},
     "output_type": "execute_result"
    }
   ],
   "source": [
    "data_2004.head(3).T"
   ]
  },
  {
   "cell_type": "markdown",
   "metadata": {},
   "source": [
    "The first like always is delete the columns that won't contribute to the work"
   ]
  },
  {
   "cell_type": "code",
   "execution_count": 6,
   "metadata": {
    "collapsed": false
   },
   "outputs": [],
   "source": [
    "data_2004 = data_2004.drop(['ESTU_CONSECUTIVO', 'COLE_NOMBRE_SEDE', 'ESTU_TIPO_DOCUMENTO'], axis=1)"
   ]
  },
  {
   "cell_type": "code",
   "execution_count": null,
   "metadata": {
    "collapsed": true
   },
   "outputs": [],
   "source": [
    "print(data_2004['COLE_COD_ICFES'].value_counts().sort_index().index)\n",
    "print(data_2004['COLE_COD_ICFES'].value_counts().sort_index())\n",
    "print(missing_data(data_2004['COLE_COD_ICFES']))"
   ]
  },
  {
   "cell_type": "code",
   "execution_count": null,
   "metadata": {
    "collapsed": true
   },
   "outputs": [],
   "source": [
    "print(data_2004['IND_ANNO_TERMINO_BACHILLERATO'].value_counts().sort_index().index)\n",
    "print(data_2004['IND_ANNO_TERMINO_BACHILLERATO'].value_counts().sort_index())\n",
    "print(missing_data(data_2004['IND_ANNO_TERMINO_BACHILLERATO']))"
   ]
  },
  {
   "cell_type": "code",
   "execution_count": null,
   "metadata": {
    "collapsed": true
   },
   "outputs": [],
   "source": [
    "print(data_2004['COLE_JORNADA'].value_counts().sort_index().index)\n",
    "print(data_2004['COLE_JORNADA'].value_counts().sort_index())\n",
    "print(missing_data(data_2004['COLE_JORNADA']))"
   ]
  },
  {
   "cell_type": "code",
   "execution_count": null,
   "metadata": {
    "collapsed": true
   },
   "outputs": [],
   "source": [
    "print(data_2004['COLE_VALOR_PENSION'].value_counts().sort_index().index)\n",
    "print(data_2004['COLE_VALOR_PENSION'].value_counts().sort_index())\n",
    "print(missing_data(data_2004['COLE_VALOR_PENSION']))"
   ]
  },
  {
   "cell_type": "code",
   "execution_count": null,
   "metadata": {
    "collapsed": true
   },
   "outputs": [],
   "source": [
    "print(data_2004['ESTU_GENERO'].value_counts().sort_index().index)\n",
    "print(data_2004['ESTU_GENERO'].value_counts().sort_index())\n",
    "print(missing_data(data_2004['ESTU_GENERO']))"
   ]
  },
  {
   "cell_type": "code",
   "execution_count": null,
   "metadata": {
    "collapsed": true
   },
   "outputs": [],
   "source": [
    "print(data_2004['ESTU_NACIMIENTO_DIA'].value_counts().sort_index().index)\n",
    "print(data_2004['ESTU_NACIMIENTO_DIA'].value_counts().sort_index())\n",
    "print(missing_data(data_2004['ESTU_NACIMIENTO_DIA']))"
   ]
  },
  {
   "cell_type": "code",
   "execution_count": null,
   "metadata": {
    "collapsed": true
   },
   "outputs": [],
   "source": [
    "print(data_2004['ESTU_NACIMIENTO_MES'].value_counts().sort_index().index)\n",
    "print(data_2004['ESTU_NACIMIENTO_MES'].value_counts().sort_index())\n",
    "print(missing_data(data_2004['ESTU_NACIMIENTO_MES']))"
   ]
  },
  {
   "cell_type": "code",
   "execution_count": null,
   "metadata": {
    "collapsed": true
   },
   "outputs": [],
   "source": [
    "print(data_2004['ESTU_NACIMIENTO_ANNO'].value_counts().sort_index().index)\n",
    "print(data_2004['ESTU_NACIMIENTO_ANNO'].value_counts().sort_index())\n",
    "print(missing_data(data_2004['ESTU_NACIMIENTO_ANNO']))"
   ]
  },
  {
   "cell_type": "code",
   "execution_count": null,
   "metadata": {
    "collapsed": true
   },
   "outputs": [],
   "source": [
    "print(data_2004['ESTU_DEPTO_PRESENTACION'].value_counts().sort_index().index)\n",
    "print(data_2004['ESTU_DEPTO_PRESENTACION'].value_counts().sort_index())\n",
    "print(missing_data(data_2004['ESTU_DEPTO_PRESENTACION']))"
   ]
  },
  {
   "cell_type": "code",
   "execution_count": null,
   "metadata": {
    "collapsed": true
   },
   "outputs": [],
   "source": [
    "print(data_2004['ESTU_MCPIO_PRESENTACION'].value_counts().sort_index().index)\n",
    "print(data_2004['ESTU_MCPIO_PRESENTACION'].value_counts().sort_index())\n",
    "print(missing_data(data_2004['ESTU_MCPIO_PRESENTACION']))"
   ]
  },
  {
   "cell_type": "code",
   "execution_count": null,
   "metadata": {
    "collapsed": true
   },
   "outputs": [],
   "source": [
    "print(data_2004['ESTU_LIMITA_INVIDENTE'].value_counts().sort_index().index)\n",
    "print(data_2004['ESTU_LIMITA_INVIDENTE'].value_counts().sort_index())\n",
    "print(missing_data(data_2004['ESTU_LIMITA_INVIDENTE']))"
   ]
  },
  {
   "cell_type": "code",
   "execution_count": null,
   "metadata": {
    "collapsed": true
   },
   "outputs": [],
   "source": [
    "print(data_2004['ESTU_LIMITA_SORDOINTERPRETE'].value_counts().sort_index().index)\n",
    "print(data_2004['ESTU_LIMITA_SORDOINTERPRETE'].value_counts().sort_index())\n",
    "print(missing_data(data_2004['ESTU_LIMITA_SORDOINTERPRETE']))"
   ]
  },
  {
   "cell_type": "code",
   "execution_count": null,
   "metadata": {
    "collapsed": true
   },
   "outputs": [],
   "source": [
    "print(data_2004['ESTU_LIMITA_SORDONOINTERPRETE'].value_counts().sort_index().index)\n",
    "print(data_2004['ESTU_LIMITA_SORDONOINTERPRETE'].value_counts().sort_index())\n",
    "print(missing_data(data_2004['ESTU_LIMITA_SORDONOINTERPRETE']))"
   ]
  },
  {
   "cell_type": "code",
   "execution_count": null,
   "metadata": {
    "collapsed": true
   },
   "outputs": [],
   "source": [
    "print(data_2004['ESTU_LIMITA_MOTRIZ'].value_counts().sort_index().index)\n",
    "print(data_2004['ESTU_LIMITA_MOTRIZ'].value_counts().sort_index())\n",
    "print(missing_data(data_2004['ESTU_LIMITA_MOTRIZ']))"
   ]
  },
  {
   "cell_type": "code",
   "execution_count": null,
   "metadata": {
    "collapsed": true
   },
   "outputs": [],
   "source": [
    "print(data_2004['ESTU_IES_COD_DESEADA'].value_counts().sort_index().index)\n",
    "print(data_2004['ESTU_IES_COD_DESEADA'].value_counts().sort_index())\n",
    "print(missing_data(data_2004['ESTU_IES_COD_DESEADA']))"
   ]
  },
  {
   "cell_type": "code",
   "execution_count": null,
   "metadata": {
    "collapsed": true
   },
   "outputs": [],
   "source": [
    "print(data_2004['ESTU_RAZONINSTITUTO'].value_counts().sort_index().index)\n",
    "print(data_2004['ESTU_RAZONINSTITUTO'].value_counts().sort_index())\n",
    "print(missing_data(data_2004['ESTU_RAZONINSTITUTO']))"
   ]
  },
  {
   "cell_type": "code",
   "execution_count": null,
   "metadata": {
    "collapsed": true
   },
   "outputs": [],
   "source": [
    "print(data_2004['ESTU_CARRDESEADA_COD'].value_counts().sort_index().index)\n",
    "print(data_2004['ESTU_CARRDESEADA_COD'].value_counts().sort_index())\n",
    "print(missing_data(data_2004['ESTU_CARRDESEADA_COD']))"
   ]
  },
  {
   "cell_type": "code",
   "execution_count": null,
   "metadata": {
    "collapsed": true
   },
   "outputs": [],
   "source": [
    "print(data_2004['ESTU_CARRDESEADA_RAZON'].value_counts().sort_index().index)\n",
    "print(data_2004['ESTU_CARRDESEADA_RAZON'].value_counts().sort_index())\n",
    "print(missing_data(data_2004['ESTU_CARRDESEADA_RAZON']))"
   ]
  },
  {
   "cell_type": "code",
   "execution_count": null,
   "metadata": {
    "collapsed": true
   },
   "outputs": [],
   "source": [
    "print(data_2004['FAMI_PERSONAS_HOGAR'].value_counts().sort_index().index)\n",
    "print(data_2004['FAMI_PERSONAS_HOGAR'].value_counts().sort_index())\n",
    "print(missing_data(data_2004['FAMI_PERSONAS_HOGAR']))"
   ]
  },
  {
   "cell_type": "code",
   "execution_count": null,
   "metadata": {
    "collapsed": true
   },
   "outputs": [],
   "source": [
    "print(data_2004['FAMI_VIVIENDA_PROPIA'].value_counts().sort_index().index)\n",
    "print(data_2004['FAMI_VIVIENDA_PROPIA'].value_counts().sort_index())\n",
    "print(missing_data(data_2004['FAMI_VIVIENDA_PROPIA']))"
   ]
  },
  {
   "cell_type": "code",
   "execution_count": null,
   "metadata": {
    "collapsed": true
   },
   "outputs": [],
   "source": [
    "print(data_2004['FAMI_DEUDA_VIVIENDA'].value_counts().sort_index().index)\n",
    "print(data_2004['FAMI_DEUDA_VIVIENDA'].value_counts().sort_index())\n",
    "print(missing_data(data_2004['FAMI_DEUDA_VIVIENDA']))"
   ]
  },
  {
   "cell_type": "code",
   "execution_count": null,
   "metadata": {
    "collapsed": true
   },
   "outputs": [],
   "source": [
    "print(data_2004['FAMI_APORTANTES'].value_counts().sort_index().index)\n",
    "print(data_2004['FAMI_APORTANTES'].value_counts().sort_index())\n",
    "print(missing_data(data_2004['FAMI_APORTANTES']))"
   ]
  },
  {
   "cell_type": "code",
   "execution_count": null,
   "metadata": {
    "collapsed": true
   },
   "outputs": [],
   "source": [
    "print(data_2004['FAMI_INGRESO_FMILIAR_MENSUAL'].value_counts().sort_index().index)\n",
    "print(data_2004['FAMI_INGRESO_FMILIAR_MENSUAL'].value_counts().sort_index())\n",
    "print(missing_data(data_2004['FAMI_INGRESO_FMILIAR_MENSUAL']))"
   ]
  },
  {
   "cell_type": "code",
   "execution_count": null,
   "metadata": {
    "collapsed": true
   },
   "outputs": [],
   "source": [
    "print(data_2004['FAMI_LEE_ESCRIBE_PADRE'].value_counts().sort_index().index)\n",
    "print(data_2004['FAMI_LEE_ESCRIBE_PADRE'].value_counts().sort_index())\n",
    "print(missing_data(data_2004['FAMI_LEE_ESCRIBE_PADRE']))"
   ]
  },
  {
   "cell_type": "code",
   "execution_count": null,
   "metadata": {
    "collapsed": true
   },
   "outputs": [],
   "source": [
    "print(data_2004['FAMI_LEE_ESCRIBE_MADRE'].value_counts().sort_index().index)\n",
    "print(data_2004['FAMI_LEE_ESCRIBE_MADRE'].value_counts().sort_index())\n",
    "print(missing_data(data_2004['FAMI_LEE_ESCRIBE_MADRE']))"
   ]
  },
  {
   "cell_type": "code",
   "execution_count": null,
   "metadata": {
    "collapsed": true
   },
   "outputs": [],
   "source": [
    "print(data_2004['FAMI_EDUCA_PADRE'].value_counts().sort_index().index)\n",
    "print(data_2004['FAMI_EDUCA_PADRE'].value_counts().sort_index())\n",
    "print(missing_data(data_2004['FAMI_EDUCA_PADRE']))"
   ]
  },
  {
   "cell_type": "code",
   "execution_count": null,
   "metadata": {
    "collapsed": true
   },
   "outputs": [],
   "source": [
    "print(data_2004['FAMI_EDUCA_MADRE'].value_counts().sort_index().index)\n",
    "print(data_2004['FAMI_EDUCA_MADRE'].value_counts().sort_index())\n",
    "print(missing_data(data_2004['FAMI_EDUCA_MADRE']))"
   ]
  },
  {
   "cell_type": "code",
   "execution_count": null,
   "metadata": {
    "collapsed": true
   },
   "outputs": [],
   "source": [
    "print(data_2004['FAMI_OCUPA_PADRE'].value_counts().sort_index().index)\n",
    "print(data_2004['FAMI_OCUPA_PADRE'].value_counts().sort_index())\n",
    "print(missing_data(data_2004['FAMI_OCUPA_PADRE']))"
   ]
  },
  {
   "cell_type": "code",
   "execution_count": null,
   "metadata": {
    "collapsed": true
   },
   "outputs": [],
   "source": [
    "print(data_2004['FAMI_OCUPA_MADRE'].value_counts().sort_index().index)\n",
    "print(data_2004['FAMI_OCUPA_MADRE'].value_counts().sort_index())\n",
    "print(missing_data(data_2004['FAMI_OCUPA_MADRE']))"
   ]
  },
  {
   "cell_type": "code",
   "execution_count": null,
   "metadata": {
    "collapsed": true
   },
   "outputs": [],
   "source": [
    "print(data_2004['FAMI_NUM_HERMANOS'].value_counts().sort_index().index)\n",
    "print(data_2004['FAMI_NUM_HERMANOS'].value_counts().sort_index())\n",
    "print(missing_data(data_2004['FAMI_NUM_HERMANOS']))"
   ]
  },
  {
   "cell_type": "code",
   "execution_count": null,
   "metadata": {
    "collapsed": true
   },
   "outputs": [],
   "source": [
    "print(data_2004['FAMI_NUM_HERMANOS_EDUSUPERIOR'].value_counts().sort_index().index)\n",
    "print(data_2004['FAMI_NUM_HERMANOS_EDUSUPERIOR'].value_counts().sort_index())\n",
    "print(missing_data(data_2004['FAMI_NUM_HERMANOS_EDUSUPERIOR']))"
   ]
  },
  {
   "cell_type": "code",
   "execution_count": null,
   "metadata": {
    "collapsed": true
   },
   "outputs": [],
   "source": [
    "print(data_2004['FAMI_POSICION_HERMANOS'].value_counts().sort_index().index)\n",
    "print(data_2004['FAMI_POSICION_HERMANOS'].value_counts().sort_index())\n",
    "print(missing_data(data_2004['FAMI_POSICION_HERMANOS']))"
   ]
  },
  {
   "cell_type": "code",
   "execution_count": null,
   "metadata": {
    "collapsed": true
   },
   "outputs": [],
   "source": [
    "print(data_2004['FAMI_SOST_PERSONAL'].value_counts().sort_index().index)\n",
    "print(data_2004['FAMI_SOST_PERSONAL'].value_counts().sort_index())\n",
    "print(missing_data(data_2004['FAMI_SOST_PERSONAL']))"
   ]
  },
  {
   "cell_type": "code",
   "execution_count": null,
   "metadata": {
    "collapsed": true
   },
   "outputs": [],
   "source": [
    "print(data_2004['ESTU_TRABAJA'].value_counts().sort_index().index)\n",
    "print(data_2004['ESTU_TRABAJA'].value_counts().sort_index())\n",
    "print(missing_data(data_2004['ESTU_TRABAJA']))"
   ]
  },
  {
   "cell_type": "code",
   "execution_count": null,
   "metadata": {
    "collapsed": true
   },
   "outputs": [],
   "source": [
    "print(data_2004['ESTU_ACT_PROX_ANNO'].value_counts().sort_index().index)\n",
    "print(data_2004['ESTU_ACT_PROX_ANNO'].value_counts().sort_index())\n",
    "print(missing_data(data_2004['ESTU_ACT_PROX_ANNO']))"
   ]
  },
  {
   "cell_type": "code",
   "execution_count": null,
   "metadata": {
    "collapsed": true
   },
   "outputs": [],
   "source": [
    "print(data_2004['FAMI_ESTRATO_VIVIENDA'].value_counts().sort_index().index)\n",
    "print(data_2004['FAMI_ESTRATO_VIVIENDA'].value_counts().sort_index())\n",
    "print(missing_data(data_2004['FAMI_ESTRATO_VIVIENDA']))"
   ]
  },
  {
   "cell_type": "code",
   "execution_count": null,
   "metadata": {
    "collapsed": true
   },
   "outputs": [],
   "source": [
    "print(data_2004['COLE_CALENDARIO'].value_counts().sort_index().index)\n",
    "print(data_2004['COLE_CALENDARIO'].value_counts().sort_index())\n",
    "print(missing_data(data_2004['COLE_CALENDARIO']))"
   ]
  },
  {
   "cell_type": "code",
   "execution_count": null,
   "metadata": {
    "collapsed": true
   },
   "outputs": [],
   "source": [
    "print(data_2004['COLE_BILINGUE'].value_counts().sort_index().index)\n",
    "print(data_2004['COLE_BILINGUE'].value_counts().sort_index())\n",
    "print(missing_data(data_2004['COLE_BILINGUE']))"
   ]
  },
  {
   "cell_type": "code",
   "execution_count": null,
   "metadata": {
    "collapsed": true
   },
   "outputs": [],
   "source": [
    "print(data_2004['COLE_CARACTER'].value_counts().sort_index().index)\n",
    "print(data_2004['COLE_CARACTER'].value_counts().sort_index())\n",
    "print(missing_data(data_2004['COLE_CARACTER']))"
   ]
  },
  {
   "cell_type": "code",
   "execution_count": null,
   "metadata": {
    "collapsed": true
   },
   "outputs": [],
   "source": [
    "print(data_2004['COLE_DEPTO_UBICACION'].value_counts().sort_index().index)\n",
    "print(data_2004['COLE_DEPTO_UBICACION'].value_counts().sort_index())\n",
    "print(missing_data(data_2004['COLE_DEPTO_UBICACION']))"
   ]
  },
  {
   "cell_type": "code",
   "execution_count": null,
   "metadata": {
    "collapsed": true
   },
   "outputs": [],
   "source": [
    "print(data_2004['COLE_MCPIO_UBICACION'].value_counts().sort_index().index)\n",
    "print(data_2004['COLE_MCPIO_UBICACION'].value_counts().sort_index())\n",
    "print(missing_data(data_2004['COLE_MCPIO_UBICACION']))"
   ]
  },
  {
   "cell_type": "code",
   "execution_count": null,
   "metadata": {
    "collapsed": true
   },
   "outputs": [],
   "source": [
    "print(data_2004['ESTU_RESIDE_DEPTO'].value_counts().sort_index().index)\n",
    "print(data_2004['ESTU_RESIDE_DEPTO'].value_counts().sort_index())\n",
    "print(missing_data(data_2004['ESTU_RESIDE_DEPTO']))"
   ]
  },
  {
   "cell_type": "code",
   "execution_count": null,
   "metadata": {
    "collapsed": true
   },
   "outputs": [],
   "source": [
    "print(data_2004['ESTU_RESIDE_MCPIO'].value_counts().sort_index().index)\n",
    "print(data_2004['ESTU_RESIDE_MCPIO'].value_counts().sort_index())\n",
    "print(missing_data(data_2004['ESTU_RESIDE_MCPIO']))"
   ]
  },
  {
   "cell_type": "markdown",
   "metadata": {},
   "source": [
    "### TARGETS"
   ]
  },
  {
   "cell_type": "code",
   "execution_count": null,
   "metadata": {
    "collapsed": true
   },
   "outputs": [],
   "source": [
    "print(data_2004['PUNT_BIOLOGIA'].value_counts().sort_index().index)\n",
    "print(data_2004['PUNT_BIOLOGIA'].value_counts().sort_index())\n",
    "print(missing_data(data_2004['PUNT_BIOLOGIA']))"
   ]
  },
  {
   "cell_type": "code",
   "execution_count": null,
   "metadata": {
    "collapsed": true
   },
   "outputs": [],
   "source": [
    "print(data_2004['PUNT_MATEMATICAS'].value_counts().sort_index().index)\n",
    "print(data_2004['PUNT_MATEMATICAS'].value_counts().sort_index())\n",
    "print(missing_data(data_2004['PUNT_MATEMATICAS']))"
   ]
  },
  {
   "cell_type": "code",
   "execution_count": null,
   "metadata": {
    "collapsed": true
   },
   "outputs": [],
   "source": [
    "print(data_2004['PUNT_FILOSOFIA'].value_counts().sort_index().index)\n",
    "print(data_2004['PUNT_FILOSOFIA'].value_counts().sort_index())\n",
    "print(missing_data(data_2004['PUNT_FILOSOFIA']))"
   ]
  },
  {
   "cell_type": "code",
   "execution_count": null,
   "metadata": {
    "collapsed": true
   },
   "outputs": [],
   "source": [
    "print(data_2004['PUNT_FISICA'].value_counts().sort_index().index)\n",
    "print(data_2004['PUNT_FISICA'].value_counts().sort_index())\n",
    "print(missing_data(data_2004['PUNT_FISICA']))"
   ]
  },
  {
   "cell_type": "code",
   "execution_count": null,
   "metadata": {
    "collapsed": true
   },
   "outputs": [],
   "source": [
    "print(data_2004['PUNT_HISTORIA'].value_counts().sort_index().index)\n",
    "print(data_2004['PUNT_HISTORIA'].value_counts().sort_index())\n",
    "print(missing_data(data_2004['PUNT_HISTORIA']))"
   ]
  },
  {
   "cell_type": "code",
   "execution_count": null,
   "metadata": {
    "collapsed": true
   },
   "outputs": [],
   "source": [
    "print(data_2004['PUNT_QUIMICA'].value_counts().sort_index().index)\n",
    "print(data_2004['PUNT_QUIMICA'].value_counts().sort_index())\n",
    "print(missing_data(data_2004['PUNT_QUIMICA']))"
   ]
  },
  {
   "cell_type": "code",
   "execution_count": null,
   "metadata": {
    "collapsed": true
   },
   "outputs": [],
   "source": [
    "print(data_2004['PUNT_LENGUAJE'].value_counts().sort_index().index)\n",
    "print(data_2004['PUNT_LENGUAJE'].value_counts().sort_index())\n",
    "print(missing_data(data_2004['PUNT_LENGUAJE']))"
   ]
  },
  {
   "cell_type": "code",
   "execution_count": null,
   "metadata": {
    "collapsed": true
   },
   "outputs": [],
   "source": [
    "print(data_2004['PUNT_GEOGRAFIA'].value_counts().sort_index().index)\n",
    "print(data_2004['PUNT_GEOGRAFIA'].value_counts().sort_index())\n",
    "print(missing_data(data_2004['PUNT_GEOGRAFIA']))"
   ]
  },
  {
   "cell_type": "code",
   "execution_count": null,
   "metadata": {
    "collapsed": true
   },
   "outputs": [],
   "source": [
    "print(data_2004['COD_INTERDISCIPLINAR'].value_counts().sort_index().index)\n",
    "print(data_2004['COD_INTERDISCIPLINAR'].value_counts().sort_index())\n",
    "print(missing_data(data_2004['COD_INTERDISCIPLINAR']))"
   ]
  },
  {
   "cell_type": "code",
   "execution_count": null,
   "metadata": {
    "collapsed": true
   },
   "outputs": [],
   "source": [
    "print(data_2004['PUNT_INTERDISCIPLINAR'].value_counts().sort_index().index)\n",
    "print(data_2004['PUNT_INTERDISCIPLINAR'].value_counts().sort_index())\n",
    "print(missing_data(data_2004['PUNT_INTERDISCIPLINAR']))"
   ]
  },
  {
   "cell_type": "code",
   "execution_count": null,
   "metadata": {
    "collapsed": true
   },
   "outputs": [],
   "source": [
    "print(data_2004['COD_IDIOMA'].value_counts().sort_index().index)\n",
    "print(data_2004['COD_IDIOMA'].value_counts().sort_index())\n",
    "print(missing_data(data_2004['COD_IDIOMA']))"
   ]
  },
  {
   "cell_type": "code",
   "execution_count": null,
   "metadata": {
    "collapsed": true
   },
   "outputs": [],
   "source": [
    "print(data_2004['PUNT_IDIOMA'].value_counts().sort_index().index)\n",
    "print(data_2004['PUNT_IDIOMA'].value_counts().sort_index())\n",
    "print(missing_data(data_2004['PUNT_IDIOMA']))"
   ]
  },
  {
   "cell_type": "markdown",
   "metadata": {},
   "source": [
    "# FILE 2 -> 2004_2"
   ]
  },
  {
   "cell_type": "code",
   "execution_count": 9,
   "metadata": {
    "collapsed": false
   },
   "outputs": [
    {
     "name": "stderr",
     "output_type": "stream",
     "text": [
      "/usr/local/anaconda3/lib/python3.5/site-packages/IPython/core/interactiveshell.py:2723: DtypeWarning: Columns (12,13,14,15,16,17,19,20,21,22,23,27,28) have mixed types. Specify dtype option on import or set low_memory=False.\n",
      "  interactivity=interactivity, compiler=compiler, result=result)\n"
     ]
    }
   ],
   "source": [
    "data_2004_2 = pd.read_csv('../DatosFTPICFES/SABER11/SB11-BASES_DE_DATOS/SB11-20042-RGSTRO-CLFCCN-V1-0.txt', delimiter = '|',\n",
    "                         encoding = \"iso-8859-1\")"
   ]
  },
  {
   "cell_type": "code",
   "execution_count": 11,
   "metadata": {
    "collapsed": false
   },
   "outputs": [
    {
     "data": {
      "text/plain": [
       "(366549, 40)"
      ]
     },
     "execution_count": 11,
     "metadata": {},
     "output_type": "execute_result"
    }
   ],
   "source": [
    "data_2004_2.shape"
   ]
  },
  {
   "cell_type": "code",
   "execution_count": 12,
   "metadata": {
    "collapsed": false,
    "scrolled": true
   },
   "outputs": [
    {
     "data": {
      "text/html": [
       "<div>\n",
       "<table border=\"1\" class=\"dataframe\">\n",
       "  <thead>\n",
       "    <tr style=\"text-align: right;\">\n",
       "      <th></th>\n",
       "      <th>0</th>\n",
       "      <th>1</th>\n",
       "      <th>2</th>\n",
       "    </tr>\n",
       "  </thead>\n",
       "  <tbody>\n",
       "    <tr>\n",
       "      <th>ESTU_CONSECUTIVO</th>\n",
       "      <td>SB11200420000001</td>\n",
       "      <td>SB11200420000002</td>\n",
       "      <td>SB11200420000003</td>\n",
       "    </tr>\n",
       "    <tr>\n",
       "      <th>COLE_COD_ICFES</th>\n",
       "      <td>68601</td>\n",
       "      <td>68601</td>\n",
       "      <td>68601</td>\n",
       "    </tr>\n",
       "    <tr>\n",
       "      <th>COLE_NOMBRE_SEDE</th>\n",
       "      <td>CENTRO DE EDUCACION DE JOVENES Y ADULTOS EDUCA...</td>\n",
       "      <td>CENTRO DE EDUCACION DE JOVENES Y ADULTOS EDUCA...</td>\n",
       "      <td>CENTRO DE EDUCACION DE JOVENES Y ADULTOS EDUCA...</td>\n",
       "    </tr>\n",
       "    <tr>\n",
       "      <th>IND_ANNO_TERMINO_BACHILLERATO</th>\n",
       "      <td>2004</td>\n",
       "      <td>2004</td>\n",
       "      <td>2004</td>\n",
       "    </tr>\n",
       "    <tr>\n",
       "      <th>COLE_JORNADA</th>\n",
       "      <td>N</td>\n",
       "      <td>N</td>\n",
       "      <td>N</td>\n",
       "    </tr>\n",
       "    <tr>\n",
       "      <th>COLE_VALOR_PENSION</th>\n",
       "      <td>0</td>\n",
       "      <td>0</td>\n",
       "      <td>0</td>\n",
       "    </tr>\n",
       "    <tr>\n",
       "      <th>ESTU_GENERO</th>\n",
       "      <td>F</td>\n",
       "      <td>M</td>\n",
       "      <td>M</td>\n",
       "    </tr>\n",
       "    <tr>\n",
       "      <th>ESTU_NACIMIENTO_DIA</th>\n",
       "      <td>10</td>\n",
       "      <td>6</td>\n",
       "      <td>17</td>\n",
       "    </tr>\n",
       "    <tr>\n",
       "      <th>ESTU_NACIMIENTO_MES</th>\n",
       "      <td>2</td>\n",
       "      <td>6</td>\n",
       "      <td>4</td>\n",
       "    </tr>\n",
       "    <tr>\n",
       "      <th>ESTU_NACIMIENTO_ANNO</th>\n",
       "      <td>1988</td>\n",
       "      <td>1988</td>\n",
       "      <td>1988</td>\n",
       "    </tr>\n",
       "    <tr>\n",
       "      <th>ESTU_DEPTO_PRESENTACION</th>\n",
       "      <td>RISARALDA</td>\n",
       "      <td>RISARALDA</td>\n",
       "      <td>RISARALDA</td>\n",
       "    </tr>\n",
       "    <tr>\n",
       "      <th>ESTU_MCPIO_PRESENTACION</th>\n",
       "      <td>PEREIRA</td>\n",
       "      <td>PEREIRA</td>\n",
       "      <td>PEREIRA</td>\n",
       "    </tr>\n",
       "    <tr>\n",
       "      <th>ESTU_LIMITA_INVIDENTE</th>\n",
       "      <td>NaN</td>\n",
       "      <td>NaN</td>\n",
       "      <td>NaN</td>\n",
       "    </tr>\n",
       "    <tr>\n",
       "      <th>ESTU_LIMITA_SORDOINTERPRETE</th>\n",
       "      <td>NaN</td>\n",
       "      <td>NaN</td>\n",
       "      <td>NaN</td>\n",
       "    </tr>\n",
       "    <tr>\n",
       "      <th>ESTU_LIMITA_SORDONOINTERPRETE</th>\n",
       "      <td>NaN</td>\n",
       "      <td>NaN</td>\n",
       "      <td>NaN</td>\n",
       "    </tr>\n",
       "    <tr>\n",
       "      <th>ESTU_LIMITA_MOTRIZ</th>\n",
       "      <td>NaN</td>\n",
       "      <td>NaN</td>\n",
       "      <td>NaN</td>\n",
       "    </tr>\n",
       "    <tr>\n",
       "      <th>PUNT_BIOLOGIA</th>\n",
       "      <td>45.79</td>\n",
       "      <td>42.86</td>\n",
       "      <td>52.54</td>\n",
       "    </tr>\n",
       "    <tr>\n",
       "      <th>PUNT_MATEMATICAS</th>\n",
       "      <td>48.19</td>\n",
       "      <td>49.87</td>\n",
       "      <td>44.85</td>\n",
       "    </tr>\n",
       "    <tr>\n",
       "      <th>PUNT_FILOSOFIA</th>\n",
       "      <td>46.6</td>\n",
       "      <td>37.25</td>\n",
       "      <td>44.94</td>\n",
       "    </tr>\n",
       "    <tr>\n",
       "      <th>PUNT_FISICA</th>\n",
       "      <td>37.52</td>\n",
       "      <td>34.59</td>\n",
       "      <td>46.63</td>\n",
       "    </tr>\n",
       "    <tr>\n",
       "      <th>PUNT_HISTORIA</th>\n",
       "      <td>45.16</td>\n",
       "      <td>36.42</td>\n",
       "      <td>41.17</td>\n",
       "    </tr>\n",
       "    <tr>\n",
       "      <th>PUNT_QUIMICA</th>\n",
       "      <td>42.23</td>\n",
       "      <td>45.98</td>\n",
       "      <td>48.33</td>\n",
       "    </tr>\n",
       "    <tr>\n",
       "      <th>PUNT_LENGUAJE</th>\n",
       "      <td>50.08</td>\n",
       "      <td>50.08</td>\n",
       "      <td>48.55</td>\n",
       "    </tr>\n",
       "    <tr>\n",
       "      <th>PUNT_GEOGRAFIA</th>\n",
       "      <td>46.81</td>\n",
       "      <td>45.35</td>\n",
       "      <td>49.61</td>\n",
       "    </tr>\n",
       "    <tr>\n",
       "      <th>COD_INTERDISCIPLINAR</th>\n",
       "      <td>43</td>\n",
       "      <td>43</td>\n",
       "      <td>43</td>\n",
       "    </tr>\n",
       "    <tr>\n",
       "      <th>PUNT_INTERDISCIPLINAR</th>\n",
       "      <td>56.61</td>\n",
       "      <td>56.61</td>\n",
       "      <td>59.77</td>\n",
       "    </tr>\n",
       "    <tr>\n",
       "      <th>COD_IDIOMA</th>\n",
       "      <td>51</td>\n",
       "      <td>51</td>\n",
       "      <td>51</td>\n",
       "    </tr>\n",
       "    <tr>\n",
       "      <th>PUNT_IDIOMA</th>\n",
       "      <td>47.70</td>\n",
       "      <td>36.79</td>\n",
       "      <td>30.84</td>\n",
       "    </tr>\n",
       "    <tr>\n",
       "      <th>ESTU_IES_COD_DESEADA</th>\n",
       "      <td>2711</td>\n",
       "      <td>1111</td>\n",
       "      <td>1111</td>\n",
       "    </tr>\n",
       "    <tr>\n",
       "      <th>ESTU_RAZONINSTITUTO</th>\n",
       "      <td>NaN</td>\n",
       "      <td>6</td>\n",
       "      <td>NaN</td>\n",
       "    </tr>\n",
       "    <tr>\n",
       "      <th>ESTU_CARRDESEADA_COD</th>\n",
       "      <td>4158</td>\n",
       "      <td>267</td>\n",
       "      <td>269</td>\n",
       "    </tr>\n",
       "    <tr>\n",
       "      <th>ESTU_CARRDESEADA_RAZON</th>\n",
       "      <td>2</td>\n",
       "      <td>1</td>\n",
       "      <td>2</td>\n",
       "    </tr>\n",
       "    <tr>\n",
       "      <th>COLE_CALENDARIO</th>\n",
       "      <td>A</td>\n",
       "      <td>A</td>\n",
       "      <td>A</td>\n",
       "    </tr>\n",
       "    <tr>\n",
       "      <th>COLE_BILINGUE</th>\n",
       "      <td>NaN</td>\n",
       "      <td>NaN</td>\n",
       "      <td>NaN</td>\n",
       "    </tr>\n",
       "    <tr>\n",
       "      <th>COLE_CARACTER</th>\n",
       "      <td>ACADEMICO</td>\n",
       "      <td>ACADEMICO</td>\n",
       "      <td>ACADEMICO</td>\n",
       "    </tr>\n",
       "    <tr>\n",
       "      <th>COLE_DEPTO_UBICACION</th>\n",
       "      <td>RISARALDA</td>\n",
       "      <td>RISARALDA</td>\n",
       "      <td>RISARALDA</td>\n",
       "    </tr>\n",
       "    <tr>\n",
       "      <th>COLE_MCPIO_UBICACION</th>\n",
       "      <td>PEREIRA</td>\n",
       "      <td>PEREIRA</td>\n",
       "      <td>PEREIRA</td>\n",
       "    </tr>\n",
       "    <tr>\n",
       "      <th>ESTU_TIPO_DOCUMENTO</th>\n",
       "      <td>T</td>\n",
       "      <td>T</td>\n",
       "      <td>T</td>\n",
       "    </tr>\n",
       "    <tr>\n",
       "      <th>ESTU_RESIDE_DEPTO</th>\n",
       "      <td>RISARALDA</td>\n",
       "      <td>RISARALDA</td>\n",
       "      <td>RISARALDA</td>\n",
       "    </tr>\n",
       "    <tr>\n",
       "      <th>ESTU_RESIDE_MCPIO</th>\n",
       "      <td>PEREIRA</td>\n",
       "      <td>PEREIRA</td>\n",
       "      <td>PEREIRA</td>\n",
       "    </tr>\n",
       "  </tbody>\n",
       "</table>\n",
       "</div>"
      ],
      "text/plain": [
       "                                                                               0  \\\n",
       "ESTU_CONSECUTIVO                                                SB11200420000001   \n",
       "COLE_COD_ICFES                                                             68601   \n",
       "COLE_NOMBRE_SEDE               CENTRO DE EDUCACION DE JOVENES Y ADULTOS EDUCA...   \n",
       "IND_ANNO_TERMINO_BACHILLERATO                                               2004   \n",
       "COLE_JORNADA                                                                   N   \n",
       "COLE_VALOR_PENSION                                                             0   \n",
       "ESTU_GENERO                                                                    F   \n",
       "ESTU_NACIMIENTO_DIA                                                           10   \n",
       "ESTU_NACIMIENTO_MES                                                            2   \n",
       "ESTU_NACIMIENTO_ANNO                                                        1988   \n",
       "ESTU_DEPTO_PRESENTACION                                                RISARALDA   \n",
       "ESTU_MCPIO_PRESENTACION                                                  PEREIRA   \n",
       "ESTU_LIMITA_INVIDENTE                                                        NaN   \n",
       "ESTU_LIMITA_SORDOINTERPRETE                                                  NaN   \n",
       "ESTU_LIMITA_SORDONOINTERPRETE                                                NaN   \n",
       "ESTU_LIMITA_MOTRIZ                                                           NaN   \n",
       "PUNT_BIOLOGIA                                                              45.79   \n",
       "PUNT_MATEMATICAS                                                           48.19   \n",
       "PUNT_FILOSOFIA                                                              46.6   \n",
       "PUNT_FISICA                                                                37.52   \n",
       "PUNT_HISTORIA                                                              45.16   \n",
       "PUNT_QUIMICA                                                               42.23   \n",
       "PUNT_LENGUAJE                                                              50.08   \n",
       "PUNT_GEOGRAFIA                                                             46.81   \n",
       "COD_INTERDISCIPLINAR                                                          43   \n",
       "PUNT_INTERDISCIPLINAR                                                      56.61   \n",
       "COD_IDIOMA                                                                    51   \n",
       "PUNT_IDIOMA                                                                47.70   \n",
       "ESTU_IES_COD_DESEADA                                                        2711   \n",
       "ESTU_RAZONINSTITUTO                                                          NaN   \n",
       "ESTU_CARRDESEADA_COD                                                        4158   \n",
       "ESTU_CARRDESEADA_RAZON                                                         2   \n",
       "COLE_CALENDARIO                                                                A   \n",
       "COLE_BILINGUE                                                                NaN   \n",
       "COLE_CARACTER                                                          ACADEMICO   \n",
       "COLE_DEPTO_UBICACION                                                   RISARALDA   \n",
       "COLE_MCPIO_UBICACION                                                     PEREIRA   \n",
       "ESTU_TIPO_DOCUMENTO                                                            T   \n",
       "ESTU_RESIDE_DEPTO                                                      RISARALDA   \n",
       "ESTU_RESIDE_MCPIO                                                        PEREIRA   \n",
       "\n",
       "                                                                               1  \\\n",
       "ESTU_CONSECUTIVO                                                SB11200420000002   \n",
       "COLE_COD_ICFES                                                             68601   \n",
       "COLE_NOMBRE_SEDE               CENTRO DE EDUCACION DE JOVENES Y ADULTOS EDUCA...   \n",
       "IND_ANNO_TERMINO_BACHILLERATO                                               2004   \n",
       "COLE_JORNADA                                                                   N   \n",
       "COLE_VALOR_PENSION                                                             0   \n",
       "ESTU_GENERO                                                                    M   \n",
       "ESTU_NACIMIENTO_DIA                                                            6   \n",
       "ESTU_NACIMIENTO_MES                                                            6   \n",
       "ESTU_NACIMIENTO_ANNO                                                        1988   \n",
       "ESTU_DEPTO_PRESENTACION                                                RISARALDA   \n",
       "ESTU_MCPIO_PRESENTACION                                                  PEREIRA   \n",
       "ESTU_LIMITA_INVIDENTE                                                        NaN   \n",
       "ESTU_LIMITA_SORDOINTERPRETE                                                  NaN   \n",
       "ESTU_LIMITA_SORDONOINTERPRETE                                                NaN   \n",
       "ESTU_LIMITA_MOTRIZ                                                           NaN   \n",
       "PUNT_BIOLOGIA                                                              42.86   \n",
       "PUNT_MATEMATICAS                                                           49.87   \n",
       "PUNT_FILOSOFIA                                                             37.25   \n",
       "PUNT_FISICA                                                                34.59   \n",
       "PUNT_HISTORIA                                                              36.42   \n",
       "PUNT_QUIMICA                                                               45.98   \n",
       "PUNT_LENGUAJE                                                              50.08   \n",
       "PUNT_GEOGRAFIA                                                             45.35   \n",
       "COD_INTERDISCIPLINAR                                                          43   \n",
       "PUNT_INTERDISCIPLINAR                                                      56.61   \n",
       "COD_IDIOMA                                                                    51   \n",
       "PUNT_IDIOMA                                                                36.79   \n",
       "ESTU_IES_COD_DESEADA                                                        1111   \n",
       "ESTU_RAZONINSTITUTO                                                            6   \n",
       "ESTU_CARRDESEADA_COD                                                         267   \n",
       "ESTU_CARRDESEADA_RAZON                                                         1   \n",
       "COLE_CALENDARIO                                                                A   \n",
       "COLE_BILINGUE                                                                NaN   \n",
       "COLE_CARACTER                                                          ACADEMICO   \n",
       "COLE_DEPTO_UBICACION                                                   RISARALDA   \n",
       "COLE_MCPIO_UBICACION                                                     PEREIRA   \n",
       "ESTU_TIPO_DOCUMENTO                                                            T   \n",
       "ESTU_RESIDE_DEPTO                                                      RISARALDA   \n",
       "ESTU_RESIDE_MCPIO                                                        PEREIRA   \n",
       "\n",
       "                                                                               2  \n",
       "ESTU_CONSECUTIVO                                                SB11200420000003  \n",
       "COLE_COD_ICFES                                                             68601  \n",
       "COLE_NOMBRE_SEDE               CENTRO DE EDUCACION DE JOVENES Y ADULTOS EDUCA...  \n",
       "IND_ANNO_TERMINO_BACHILLERATO                                               2004  \n",
       "COLE_JORNADA                                                                   N  \n",
       "COLE_VALOR_PENSION                                                             0  \n",
       "ESTU_GENERO                                                                    M  \n",
       "ESTU_NACIMIENTO_DIA                                                           17  \n",
       "ESTU_NACIMIENTO_MES                                                            4  \n",
       "ESTU_NACIMIENTO_ANNO                                                        1988  \n",
       "ESTU_DEPTO_PRESENTACION                                                RISARALDA  \n",
       "ESTU_MCPIO_PRESENTACION                                                  PEREIRA  \n",
       "ESTU_LIMITA_INVIDENTE                                                        NaN  \n",
       "ESTU_LIMITA_SORDOINTERPRETE                                                  NaN  \n",
       "ESTU_LIMITA_SORDONOINTERPRETE                                                NaN  \n",
       "ESTU_LIMITA_MOTRIZ                                                           NaN  \n",
       "PUNT_BIOLOGIA                                                              52.54  \n",
       "PUNT_MATEMATICAS                                                           44.85  \n",
       "PUNT_FILOSOFIA                                                             44.94  \n",
       "PUNT_FISICA                                                                46.63  \n",
       "PUNT_HISTORIA                                                              41.17  \n",
       "PUNT_QUIMICA                                                               48.33  \n",
       "PUNT_LENGUAJE                                                              48.55  \n",
       "PUNT_GEOGRAFIA                                                             49.61  \n",
       "COD_INTERDISCIPLINAR                                                          43  \n",
       "PUNT_INTERDISCIPLINAR                                                      59.77  \n",
       "COD_IDIOMA                                                                    51  \n",
       "PUNT_IDIOMA                                                                30.84  \n",
       "ESTU_IES_COD_DESEADA                                                        1111  \n",
       "ESTU_RAZONINSTITUTO                                                          NaN  \n",
       "ESTU_CARRDESEADA_COD                                                         269  \n",
       "ESTU_CARRDESEADA_RAZON                                                         2  \n",
       "COLE_CALENDARIO                                                                A  \n",
       "COLE_BILINGUE                                                                NaN  \n",
       "COLE_CARACTER                                                          ACADEMICO  \n",
       "COLE_DEPTO_UBICACION                                                   RISARALDA  \n",
       "COLE_MCPIO_UBICACION                                                     PEREIRA  \n",
       "ESTU_TIPO_DOCUMENTO                                                            T  \n",
       "ESTU_RESIDE_DEPTO                                                      RISARALDA  \n",
       "ESTU_RESIDE_MCPIO                                                        PEREIRA  "
      ]
     },
     "execution_count": 12,
     "metadata": {},
     "output_type": "execute_result"
    }
   ],
   "source": [
    "data_2004_2.head(3).T"
   ]
  },
  {
   "cell_type": "markdown",
   "metadata": {},
   "source": [
    "The first is delete the columns that won't contribute with the work"
   ]
  },
  {
   "cell_type": "code",
   "execution_count": 14,
   "metadata": {
    "collapsed": false
   },
   "outputs": [],
   "source": [
    "data_2004_2 = data_2004_2.drop(['ESTU_CONSECUTIVO', 'COLE_NOMBRE_SEDE', 'ESTU_TIPO_DOCUMENTO'], axis=1)"
   ]
  },
  {
   "cell_type": "code",
   "execution_count": null,
   "metadata": {
    "collapsed": true
   },
   "outputs": [],
   "source": [
    "print(data_2004_2['COLE_COD_ICFES'].value_counts().sort_index().index)\n",
    "print(data_2004_2['COLE_COD_ICFES'].value_counts().sort_index())\n",
    "print(missing_data(data_2004_2['COLE_COD_ICFES']))"
   ]
  },
  {
   "cell_type": "code",
   "execution_count": null,
   "metadata": {
    "collapsed": true
   },
   "outputs": [],
   "source": [
    "print(data_2004_2['IND_ANNO_TERMINO_BACHILLERATO'].value_counts().sort_index().index)\n",
    "print(data_2004_2['IND_ANNO_TERMINO_BACHILLERATO'].value_counts().sort_index())\n",
    "print(missing_data(data_2004_2['IND_ANNO_TERMINO_BACHILLERATO']))"
   ]
  },
  {
   "cell_type": "code",
   "execution_count": null,
   "metadata": {
    "collapsed": true
   },
   "outputs": [],
   "source": [
    "print(data_2004_2['COLE_JORNADA'].value_counts().sort_index().index)\n",
    "print(data_2004_2['COLE_JORNADA'].value_counts().sort_index())\n",
    "print(missing_data(data_2004_2['COLE_JORNADA']))"
   ]
  },
  {
   "cell_type": "code",
   "execution_count": null,
   "metadata": {
    "collapsed": true
   },
   "outputs": [],
   "source": [
    "print(data_2004_2['COLE_VALOR_PENSION'].value_counts().sort_index().index)\n",
    "print(data_2004_2['COLE_VALOR_PENSION'].value_counts().sort_index())\n",
    "print(missing_data(data_2004_2['COLE_VALOR_PENSION']))"
   ]
  },
  {
   "cell_type": "code",
   "execution_count": null,
   "metadata": {
    "collapsed": true
   },
   "outputs": [],
   "source": [
    "print(data_2004_2['ESTU_GENERO'].value_counts().sort_index().index)\n",
    "print(data_2004_2['ESTU_GENERO'].value_counts().sort_index())\n",
    "print(missing_data(data_2004_2['ESTU_GENERO']))"
   ]
  },
  {
   "cell_type": "code",
   "execution_count": null,
   "metadata": {
    "collapsed": true
   },
   "outputs": [],
   "source": [
    "print(data_2004_2['ESTU_NACIMIENTO_DIA'].value_counts().sort_index().index)\n",
    "print(data_2004_2['ESTU_NACIMIENTO_DIA'].value_counts().sort_index())\n",
    "print(missing_data(data_2004_2['ESTU_NACIMIENTO_DIA']))"
   ]
  },
  {
   "cell_type": "code",
   "execution_count": null,
   "metadata": {
    "collapsed": true
   },
   "outputs": [],
   "source": [
    "print(data_2004_2['ESTU_NACIMIENTO_MES'].value_counts().sort_index().index)\n",
    "print(data_2004_2['ESTU_NACIMIENTO_MES'].value_counts().sort_index())\n",
    "print(missing_data(data_2004_2['ESTU_NACIMIENTO_MES']))"
   ]
  },
  {
   "cell_type": "code",
   "execution_count": null,
   "metadata": {
    "collapsed": true
   },
   "outputs": [],
   "source": [
    "print(data_2004_2['ESTU_NACIMIENTO_ANNO'].value_counts().sort_index().index)\n",
    "print(data_2004_2['ESTU_NACIMIENTO_ANNO'].value_counts().sort_index())\n",
    "print(missing_data(data_2004_2['ESTU_NACIMIENTO_ANNO']))"
   ]
  },
  {
   "cell_type": "code",
   "execution_count": null,
   "metadata": {
    "collapsed": true
   },
   "outputs": [],
   "source": [
    "print(data_2004_2['ESTU_DEPTO_PRESENTACION'].value_counts().sort_index().index)\n",
    "print(data_2004_2['ESTU_DEPTO_PRESENTACION'].value_counts().sort_index())\n",
    "print(missing_data(data_2004_2['ESTU_DEPTO_PRESENTACION']))"
   ]
  },
  {
   "cell_type": "code",
   "execution_count": null,
   "metadata": {
    "collapsed": true
   },
   "outputs": [],
   "source": [
    "print(data_2004_2['ESTU_MCPIO_PRESENTACION'].value_counts().sort_index().index)\n",
    "print(data_2004_2['ESTU_MCPIO_PRESENTACION'].value_counts().sort_index())\n",
    "print(missing_data(data_2004_2['ESTU_MCPIO_PRESENTACION']))"
   ]
  },
  {
   "cell_type": "code",
   "execution_count": null,
   "metadata": {
    "collapsed": true
   },
   "outputs": [],
   "source": [
    "print(data_2004_2['ESTU_LIMITA_INVIDENTE'].value_counts().sort_index().index)\n",
    "print(data_2004_2['ESTU_LIMITA_INVIDENTE'].value_counts().sort_index())\n",
    "print(missing_data(data_2004_2['ESTU_LIMITA_INVIDENTE']))"
   ]
  },
  {
   "cell_type": "code",
   "execution_count": null,
   "metadata": {
    "collapsed": true
   },
   "outputs": [],
   "source": [
    "print(data_2004_2['ESTU_LIMITA_SORDOINTERPRETE'].value_counts().sort_index().index)\n",
    "print(data_2004_2['ESTU_LIMITA_SORDOINTERPRETE'].value_counts().sort_index())\n",
    "print(missing_data(data_2004_2['ESTU_LIMITA_SORDOINTERPRETE']))"
   ]
  },
  {
   "cell_type": "code",
   "execution_count": null,
   "metadata": {
    "collapsed": true
   },
   "outputs": [],
   "source": [
    "print(data_2004_2['ESTU_LIMITA_SORDONOINTERPRETE'].value_counts().sort_index().index)\n",
    "print(data_2004_2['ESTU_LIMITA_SORDONOINTERPRETE'].value_counts().sort_index())\n",
    "print(missing_data(data_2004_2['ESTU_LIMITA_SORDONOINTERPRETE']))"
   ]
  },
  {
   "cell_type": "code",
   "execution_count": null,
   "metadata": {
    "collapsed": true
   },
   "outputs": [],
   "source": [
    "print(data_2004_2['ESTU_LIMITA_MOTRIZ'].value_counts().sort_index().index)\n",
    "print(data_2004_2['ESTU_LIMITA_MOTRIZ'].value_counts().sort_index())\n",
    "print(missing_data(data_2004_2['ESTU_LIMITA_MOTRIZ']))"
   ]
  },
  {
   "cell_type": "code",
   "execution_count": null,
   "metadata": {
    "collapsed": true
   },
   "outputs": [],
   "source": [
    "print(data_2004_2['ESTU_IES_COD_DESEADA'].value_counts().sort_index().index)\n",
    "print(data_2004_2['ESTU_IES_COD_DESEADA'].value_counts().sort_index())\n",
    "print(missing_data(data_2004_2['ESTU_IES_COD_DESEADA']))"
   ]
  },
  {
   "cell_type": "code",
   "execution_count": null,
   "metadata": {
    "collapsed": true
   },
   "outputs": [],
   "source": [
    "print(data_2004_2['ESTU_RAZONINSTITUTO'].value_counts().sort_index().index)\n",
    "print(data_2004_2['ESTU_RAZONINSTITUTO'].value_counts().sort_index())\n",
    "print(missing_data(data_2004_2['ESTU_RAZONINSTITUTO']))"
   ]
  },
  {
   "cell_type": "code",
   "execution_count": null,
   "metadata": {
    "collapsed": true
   },
   "outputs": [],
   "source": [
    "print(data_2004_2['ESTU_CARRDESEADA_COD'].value_counts().sort_index().index)\n",
    "print(data_2004_2['ESTU_CARRDESEADA_COD'].value_counts().sort_index())\n",
    "print(missing_data(data_2004_2['ESTU_CARRDESEADA_COD']))"
   ]
  },
  {
   "cell_type": "code",
   "execution_count": null,
   "metadata": {
    "collapsed": true
   },
   "outputs": [],
   "source": [
    "print(data_2004_2['ESTU_CARRDESEADA_RAZON'].value_counts().sort_index().index)\n",
    "print(data_2004_2['ESTU_CARRDESEADA_RAZON'].value_counts().sort_index())\n",
    "print(missing_data(data_2004_2['ESTU_CARRDESEADA_RAZON']))"
   ]
  },
  {
   "cell_type": "code",
   "execution_count": null,
   "metadata": {
    "collapsed": true
   },
   "outputs": [],
   "source": [
    "print(data_2004_2['COLE_CALENDARIO'].value_counts().sort_index().index)\n",
    "print(data_2004_2['COLE_CALENDARIO'].value_counts().sort_index())\n",
    "print(missing_data(data_2004_2['COLE_CALENDARIO']))"
   ]
  },
  {
   "cell_type": "code",
   "execution_count": null,
   "metadata": {
    "collapsed": true
   },
   "outputs": [],
   "source": [
    "print(data_2004_2['COLE_BILINGUE'].value_counts().sort_index().index)\n",
    "print(data_2004_2['COLE_BILINGUE'].value_counts().sort_index())\n",
    "print(missing_data(data_2004_2['COLE_BILINGUE']))"
   ]
  },
  {
   "cell_type": "code",
   "execution_count": null,
   "metadata": {
    "collapsed": true
   },
   "outputs": [],
   "source": [
    "print(data_2004_2['COLE_CARACTER'].value_counts().sort_index().index)\n",
    "print(data_2004_2['COLE_CARACTER'].value_counts().sort_index())\n",
    "print(missing_data(data_2004_2['COLE_CARACTER']))"
   ]
  },
  {
   "cell_type": "code",
   "execution_count": null,
   "metadata": {
    "collapsed": true
   },
   "outputs": [],
   "source": [
    "print(data_2004_2['COLE_DEPTO_UBICACION'].value_counts().sort_index().index)\n",
    "print(data_2004_2['COLE_DEPTO_UBICACION'].value_counts().sort_index())\n",
    "print(missing_data(data_2004_2['COLE_DEPTO_UBICACION']))"
   ]
  },
  {
   "cell_type": "code",
   "execution_count": null,
   "metadata": {
    "collapsed": true
   },
   "outputs": [],
   "source": [
    "print(data_2004_2['COLE_MCPIO_UBICACION'].value_counts().sort_index().index)\n",
    "print(data_2004_2['COLE_MCPIO_UBICACION'].value_counts().sort_index())\n",
    "print(missing_data(data_2004_2['COLE_MCPIO_UBICACION']))"
   ]
  },
  {
   "cell_type": "code",
   "execution_count": null,
   "metadata": {
    "collapsed": true
   },
   "outputs": [],
   "source": [
    "print(data_2004_2['ESTU_RESIDE_DEPTO'].value_counts().sort_index().index)\n",
    "print(data_2004_2['ESTU_RESIDE_DEPTO'].value_counts().sort_index())\n",
    "print(missing_data(data_2004_2['ESTU_RESIDE_DEPTO']))"
   ]
  },
  {
   "cell_type": "code",
   "execution_count": null,
   "metadata": {
    "collapsed": true
   },
   "outputs": [],
   "source": [
    "print(data_2004_2['ESTU_RESIDE_MCPIO'].value_counts().sort_index().index)\n",
    "print(data_2004_2['ESTU_RESIDE_MCPIO'].value_counts().sort_index())\n",
    "print(missing_data(data_2004_2['ESTU_RESIDE_MCPIO']))"
   ]
  },
  {
   "cell_type": "markdown",
   "metadata": {},
   "source": [
    "### TARGETS"
   ]
  },
  {
   "cell_type": "code",
   "execution_count": null,
   "metadata": {
    "collapsed": true
   },
   "outputs": [],
   "source": [
    "print(data_2004_2['PUNT_BIOLOGIA'].value_counts().sort_index().index)\n",
    "print(data_2004_2['PUNT_BIOLOGIA'].value_counts().sort_index())\n",
    "print(missing_data(data_2004_2['PUNT_BIOLOGIA']))"
   ]
  },
  {
   "cell_type": "code",
   "execution_count": null,
   "metadata": {
    "collapsed": true
   },
   "outputs": [],
   "source": [
    "print(data_2004_2['PUNT_MATEMATICAS'].value_counts().sort_index().index)\n",
    "print(data_2004_2['PUNT_MATEMATICAS'].value_counts().sort_index())\n",
    "print(missing_data(data_2004_2['PUNT_MATEMATICAS']))"
   ]
  },
  {
   "cell_type": "code",
   "execution_count": null,
   "metadata": {
    "collapsed": true
   },
   "outputs": [],
   "source": [
    "print(data_2004_2['PUNT_FILOSOFIA'].value_counts().sort_index().index)\n",
    "print(data_2004_2['PUNT_FILOSOFIA'].value_counts().sort_index())\n",
    "print(missing_data(data_2004_2['PUNT_FILOSOFIA']))"
   ]
  },
  {
   "cell_type": "code",
   "execution_count": null,
   "metadata": {
    "collapsed": true
   },
   "outputs": [],
   "source": [
    "print(data_2004_2['PUNT_FISICA'].value_counts().sort_index().index)\n",
    "print(data_2004_2['PUNT_FISICA'].value_counts().sort_index())\n",
    "print(missing_data(data_2004_2['PUNT_FISICA']))"
   ]
  },
  {
   "cell_type": "code",
   "execution_count": null,
   "metadata": {
    "collapsed": true
   },
   "outputs": [],
   "source": [
    "print(data_2004_2['PUNT_HISTORIA'].value_counts().sort_index().index)\n",
    "print(data_2004_2['PUNT_HISTORIA'].value_counts().sort_index())\n",
    "print(missing_data(data_2004_2['PUNT_HISTORIA']))"
   ]
  },
  {
   "cell_type": "code",
   "execution_count": null,
   "metadata": {
    "collapsed": true
   },
   "outputs": [],
   "source": [
    "print(data_2004_2['PUNT_QUIMICA'].value_counts().sort_index().index)\n",
    "print(data_2004_2['PUNT_QUIMICA'].value_counts().sort_index())\n",
    "print(missing_data(data_2004_2['PUNT_QUIMICA']))"
   ]
  },
  {
   "cell_type": "code",
   "execution_count": null,
   "metadata": {
    "collapsed": true
   },
   "outputs": [],
   "source": [
    "print(data_2004_2['PUNT_LENGUAJE'].value_counts().sort_index().index)\n",
    "print(data_2004_2['PUNT_LENGUAJE'].value_counts().sort_index())\n",
    "print(missing_data(data_2004_2['PUNT_LENGUAJE']))"
   ]
  },
  {
   "cell_type": "code",
   "execution_count": null,
   "metadata": {
    "collapsed": true
   },
   "outputs": [],
   "source": [
    "print(data_2004_2['PUNT_GEOGRAFIA'].value_counts().sort_index().index)\n",
    "print(data_2004_2['PUNT_GEOGRAFIA'].value_counts().sort_index())\n",
    "print(missing_data(data_2004_2['PUNT_GEOGRAFIA']))"
   ]
  },
  {
   "cell_type": "code",
   "execution_count": null,
   "metadata": {
    "collapsed": true
   },
   "outputs": [],
   "source": [
    "print(data_2004_2['COD_INTERDISCIPLINAR'].value_counts().sort_index().index)\n",
    "print(data_2004_2['COD_INTERDISCIPLINAR'].value_counts().sort_index())\n",
    "print(missing_data(data_2004_2['COD_INTERDISCIPLINAR']))"
   ]
  },
  {
   "cell_type": "code",
   "execution_count": null,
   "metadata": {
    "collapsed": true
   },
   "outputs": [],
   "source": [
    "print(data_2004_2['PUNT_INTERDISCIPLINAR'].value_counts().sort_index().index)\n",
    "print(data_2004_2['PUNT_INTERDISCIPLINAR'].value_counts().sort_index())\n",
    "print(missing_data(data_2004_2['PUNT_INTERDISCIPLINAR']))"
   ]
  },
  {
   "cell_type": "code",
   "execution_count": null,
   "metadata": {
    "collapsed": true
   },
   "outputs": [],
   "source": [
    "print(data_2004_2['COD_IDIOMA'].value_counts().sort_index().index)\n",
    "print(data_2004_2['COD_IDIOMA'].value_counts().sort_index())\n",
    "print(missing_data(data_2004_2['COD_IDIOMA']))"
   ]
  },
  {
   "cell_type": "code",
   "execution_count": null,
   "metadata": {
    "collapsed": true
   },
   "outputs": [],
   "source": [
    "print(data_2004_2['PUNT_IDIOMA'].value_counts().sort_index().index)\n",
    "print(data_2004_2['PUNT_IDIOMA'].value_counts().sort_index())\n",
    "print(missing_data(data_2004_2['PUNT_IDIOMA']))"
   ]
  }
 ],
 "metadata": {
  "kernelspec": {
   "display_name": "Python 3 + Anaconda",
   "language": "python",
   "name": "pyconda3"
  },
  "language_info": {
   "codemirror_mode": {
    "name": "ipython",
    "version": 3
   },
   "file_extension": ".py",
   "mimetype": "text/x-python",
   "name": "python",
   "nbconvert_exporter": "python",
   "pygments_lexer": "ipython3",
   "version": "3.5.1"
  }
 },
 "nbformat": 4,
 "nbformat_minor": 0
}
