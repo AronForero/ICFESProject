{
 "cells": [
  {
   "cell_type": "markdown",
   "metadata": {},
   "source": [
    "# Procesado de Datos"
   ]
  },
  {
   "cell_type": "markdown",
   "metadata": {},
   "source": [
    "Year 2000"
   ]
  },
  {
   "cell_type": "code",
   "execution_count": 1,
   "metadata": {
    "collapsed": false
   },
   "outputs": [],
   "source": [
    "import pandas as pd\n",
    "import matplotlib.pyplot as plt\n",
    "import numpy as np\n",
    "%matplotlib inline\n",
    "%run -i ../tools/functions.py\n",
    "%run -i ../tools/label_encoder.py"
   ]
  },
  {
   "cell_type": "markdown",
   "metadata": {},
   "source": [
    "Charge the file with the data, into a DataFrame"
   ]
  },
  {
   "cell_type": "code",
   "execution_count": 2,
   "metadata": {
    "collapsed": false
   },
   "outputs": [
    {
     "name": "stderr",
     "output_type": "stream",
     "text": [
      "/usr/local/anaconda3/lib/python3.5/site-packages/IPython/core/interactiveshell.py:2723: DtypeWarning: Columns (5,12,14,15,29,31) have mixed types. Specify dtype option on import or set low_memory=False.\n",
      "  interactivity=interactivity, compiler=compiler, result=result)\n"
     ]
    }
   ],
   "source": [
    "data_2000 = pd.read_csv(\"../DatosFTPICFES/SABER11/SB11-BASES_DE_DATOS/SB11-20001-RGSTRO-CLFCCN-V1-0.txt\", delimiter=\"|\",\n",
    "                        encoding=\"iso-8859-1\")"
   ]
  },
  {
   "cell_type": "code",
   "execution_count": 3,
   "metadata": {
    "collapsed": false,
    "scrolled": true
   },
   "outputs": [
    {
     "data": {
      "text/html": [
       "<div>\n",
       "<table border=\"1\" class=\"dataframe\">\n",
       "  <thead>\n",
       "    <tr style=\"text-align: right;\">\n",
       "      <th></th>\n",
       "      <th>0</th>\n",
       "      <th>1</th>\n",
       "      <th>2</th>\n",
       "    </tr>\n",
       "  </thead>\n",
       "  <tbody>\n",
       "    <tr>\n",
       "      <th>ESTU_CONSECUTIVO</th>\n",
       "      <td>SB11200010000203</td>\n",
       "      <td>SB11200010000204</td>\n",
       "      <td>SB11200010000205</td>\n",
       "    </tr>\n",
       "    <tr>\n",
       "      <th>COLE_COD_ICFES</th>\n",
       "      <td>83048</td>\n",
       "      <td>3327</td>\n",
       "      <td>19364</td>\n",
       "    </tr>\n",
       "    <tr>\n",
       "      <th>COLE_NOMBRE_SEDE</th>\n",
       "      <td>INSTITUTO STUDIUM</td>\n",
       "      <td>COLEGIO HEBREO UNION</td>\n",
       "      <td>COLEGIO ANGLO COLOMBIANO</td>\n",
       "    </tr>\n",
       "    <tr>\n",
       "      <th>IND_ANNO_TERMINO_BACHILLERATO</th>\n",
       "      <td>1999</td>\n",
       "      <td>2000</td>\n",
       "      <td>2000</td>\n",
       "    </tr>\n",
       "    <tr>\n",
       "      <th>COLE_JORNADA</th>\n",
       "      <td>C</td>\n",
       "      <td>C</td>\n",
       "      <td>C</td>\n",
       "    </tr>\n",
       "    <tr>\n",
       "      <th>COLE_VALOR_PENSION</th>\n",
       "      <td>3</td>\n",
       "      <td>8</td>\n",
       "      <td>7</td>\n",
       "    </tr>\n",
       "    <tr>\n",
       "      <th>ESTU_GENERO</th>\n",
       "      <td>F</td>\n",
       "      <td>F</td>\n",
       "      <td>M</td>\n",
       "    </tr>\n",
       "    <tr>\n",
       "      <th>ESTU_NACIMIENTO_DIA</th>\n",
       "      <td>19</td>\n",
       "      <td>28</td>\n",
       "      <td>30</td>\n",
       "    </tr>\n",
       "    <tr>\n",
       "      <th>ESTU_NACIMIENTO_MES</th>\n",
       "      <td>3</td>\n",
       "      <td>4</td>\n",
       "      <td>4</td>\n",
       "    </tr>\n",
       "    <tr>\n",
       "      <th>ESTU_NACIMIENTO_ANNO</th>\n",
       "      <td>1981</td>\n",
       "      <td>1982</td>\n",
       "      <td>1982</td>\n",
       "    </tr>\n",
       "    <tr>\n",
       "      <th>ESTU_DEPTO_PRESENTACION</th>\n",
       "      <td>BOGOTA</td>\n",
       "      <td>ATLANTICO</td>\n",
       "      <td>BOGOTA</td>\n",
       "    </tr>\n",
       "    <tr>\n",
       "      <th>ESTU_MCPIO_PRESENTACION</th>\n",
       "      <td>BOGOTA D.C.</td>\n",
       "      <td>BARRANQUILLA</td>\n",
       "      <td>BOGOTA D.C.</td>\n",
       "    </tr>\n",
       "    <tr>\n",
       "      <th>ESTU_LIMITA_INVIDENTE</th>\n",
       "      <td>NaN</td>\n",
       "      <td>NaN</td>\n",
       "      <td>NaN</td>\n",
       "    </tr>\n",
       "    <tr>\n",
       "      <th>ESTU_LIMITA_SORDOINTERPRETE</th>\n",
       "      <td>NaN</td>\n",
       "      <td>NaN</td>\n",
       "      <td>NaN</td>\n",
       "    </tr>\n",
       "    <tr>\n",
       "      <th>ESTU_LIMITA_SORDONOINTERPRETE</th>\n",
       "      <td>NaN</td>\n",
       "      <td>NaN</td>\n",
       "      <td>NaN</td>\n",
       "    </tr>\n",
       "    <tr>\n",
       "      <th>ESTU_LIMITA_MOTRIZ</th>\n",
       "      <td>NaN</td>\n",
       "      <td>NaN</td>\n",
       "      <td>NaN</td>\n",
       "    </tr>\n",
       "    <tr>\n",
       "      <th>PUNT_BIOLOGIA</th>\n",
       "      <td>52</td>\n",
       "      <td>51</td>\n",
       "      <td>59</td>\n",
       "    </tr>\n",
       "    <tr>\n",
       "      <th>PUNT_MATEMATICAS</th>\n",
       "      <td>47</td>\n",
       "      <td>52</td>\n",
       "      <td>58</td>\n",
       "    </tr>\n",
       "    <tr>\n",
       "      <th>PUNT_FILOSOFIA</th>\n",
       "      <td>55</td>\n",
       "      <td>59</td>\n",
       "      <td>44</td>\n",
       "    </tr>\n",
       "    <tr>\n",
       "      <th>PUNT_FISICA</th>\n",
       "      <td>49</td>\n",
       "      <td>43</td>\n",
       "      <td>60</td>\n",
       "    </tr>\n",
       "    <tr>\n",
       "      <th>PUNT_HISTORIA</th>\n",
       "      <td>63</td>\n",
       "      <td>52</td>\n",
       "      <td>50</td>\n",
       "    </tr>\n",
       "    <tr>\n",
       "      <th>PUNT_QUIMICA</th>\n",
       "      <td>49</td>\n",
       "      <td>54</td>\n",
       "      <td>68</td>\n",
       "    </tr>\n",
       "    <tr>\n",
       "      <th>PUNT_LENGUAJE</th>\n",
       "      <td>56</td>\n",
       "      <td>53</td>\n",
       "      <td>50</td>\n",
       "    </tr>\n",
       "    <tr>\n",
       "      <th>PUNT_GEOGRAFIA</th>\n",
       "      <td>56</td>\n",
       "      <td>57</td>\n",
       "      <td>43</td>\n",
       "    </tr>\n",
       "    <tr>\n",
       "      <th>COD_INTERDISCIPLINAR</th>\n",
       "      <td>43</td>\n",
       "      <td>45</td>\n",
       "      <td>43</td>\n",
       "    </tr>\n",
       "    <tr>\n",
       "      <th>PUNT_INTERDISCIPLINAR</th>\n",
       "      <td>55</td>\n",
       "      <td>47</td>\n",
       "      <td>53</td>\n",
       "    </tr>\n",
       "    <tr>\n",
       "      <th>COD_IDIOMA</th>\n",
       "      <td>51</td>\n",
       "      <td>51</td>\n",
       "      <td>51</td>\n",
       "    </tr>\n",
       "    <tr>\n",
       "      <th>PUNT_IDIOMA</th>\n",
       "      <td>45</td>\n",
       "      <td>58</td>\n",
       "      <td>75</td>\n",
       "    </tr>\n",
       "    <tr>\n",
       "      <th>ESTU_IES_COD_DESEADA</th>\n",
       "      <td>NaN</td>\n",
       "      <td>9999</td>\n",
       "      <td>9999</td>\n",
       "    </tr>\n",
       "    <tr>\n",
       "      <th>ESTU_RAZONINSTITUTO</th>\n",
       "      <td>8</td>\n",
       "      <td>NaN</td>\n",
       "      <td>2</td>\n",
       "    </tr>\n",
       "    <tr>\n",
       "      <th>ESTU_CARRDESEADA_COD</th>\n",
       "      <td>1707</td>\n",
       "      <td>4701</td>\n",
       "      <td>99999</td>\n",
       "    </tr>\n",
       "    <tr>\n",
       "      <th>ESTU_CARRDESEADA_RAZON</th>\n",
       "      <td>2</td>\n",
       "      <td>3</td>\n",
       "      <td>2</td>\n",
       "    </tr>\n",
       "    <tr>\n",
       "      <th>FAMI_PERSONAS_HOGAR</th>\n",
       "      <td>2</td>\n",
       "      <td>@</td>\n",
       "      <td>5</td>\n",
       "    </tr>\n",
       "    <tr>\n",
       "      <th>FAMI_VIVIENDA_PROPIA</th>\n",
       "      <td>S</td>\n",
       "      <td>N</td>\n",
       "      <td>S</td>\n",
       "    </tr>\n",
       "    <tr>\n",
       "      <th>FAMI_DEUDA_VIVIENDA</th>\n",
       "      <td>N</td>\n",
       "      <td>NaN</td>\n",
       "      <td>S</td>\n",
       "    </tr>\n",
       "    <tr>\n",
       "      <th>FAMI_APORTANTES</th>\n",
       "      <td>1</td>\n",
       "      <td>2</td>\n",
       "      <td>2</td>\n",
       "    </tr>\n",
       "    <tr>\n",
       "      <th>FAMI_INGRESO_FMILIAR_MENSUAL</th>\n",
       "      <td>4</td>\n",
       "      <td>4</td>\n",
       "      <td>9</td>\n",
       "    </tr>\n",
       "    <tr>\n",
       "      <th>FAMI_LEE_ESCRIBE_PADRE</th>\n",
       "      <td>S</td>\n",
       "      <td>S</td>\n",
       "      <td>S</td>\n",
       "    </tr>\n",
       "    <tr>\n",
       "      <th>FAMI_LEE_ESCRIBE_MADRE</th>\n",
       "      <td>S</td>\n",
       "      <td>S</td>\n",
       "      <td>S</td>\n",
       "    </tr>\n",
       "    <tr>\n",
       "      <th>FAMI_EDUCA_PADRE</th>\n",
       "      <td>4</td>\n",
       "      <td>7</td>\n",
       "      <td>8</td>\n",
       "    </tr>\n",
       "    <tr>\n",
       "      <th>FAMI_EDUCA_MADRE</th>\n",
       "      <td>8</td>\n",
       "      <td>4</td>\n",
       "      <td>7</td>\n",
       "    </tr>\n",
       "    <tr>\n",
       "      <th>FAMI_OCUPA_PADRE</th>\n",
       "      <td>05</td>\n",
       "      <td>03</td>\n",
       "      <td>04</td>\n",
       "    </tr>\n",
       "    <tr>\n",
       "      <th>FAMI_OCUPA_MADRE</th>\n",
       "      <td>NaN</td>\n",
       "      <td>10</td>\n",
       "      <td>04</td>\n",
       "    </tr>\n",
       "    <tr>\n",
       "      <th>FAMI_NUM_HERMANOS</th>\n",
       "      <td>NaN</td>\n",
       "      <td>2</td>\n",
       "      <td>1</td>\n",
       "    </tr>\n",
       "    <tr>\n",
       "      <th>FAMI_NUM_HERMANOS_EDUSUPERIOR</th>\n",
       "      <td>2</td>\n",
       "      <td>2</td>\n",
       "      <td>1</td>\n",
       "    </tr>\n",
       "    <tr>\n",
       "      <th>FAMI_POSICION_HERMANOS</th>\n",
       "      <td>3</td>\n",
       "      <td>3</td>\n",
       "      <td>2</td>\n",
       "    </tr>\n",
       "    <tr>\n",
       "      <th>FAMI_SOST_PERSONAL</th>\n",
       "      <td>T</td>\n",
       "      <td>T</td>\n",
       "      <td>T</td>\n",
       "    </tr>\n",
       "    <tr>\n",
       "      <th>ESTU_TRABAJA</th>\n",
       "      <td>N</td>\n",
       "      <td>N</td>\n",
       "      <td>N</td>\n",
       "    </tr>\n",
       "    <tr>\n",
       "      <th>ESTU_ACT_PROX_ANNO</th>\n",
       "      <td>1</td>\n",
       "      <td>1</td>\n",
       "      <td>2</td>\n",
       "    </tr>\n",
       "    <tr>\n",
       "      <th>COLE_CALENDARIO</th>\n",
       "      <td>F</td>\n",
       "      <td>B</td>\n",
       "      <td>B</td>\n",
       "    </tr>\n",
       "    <tr>\n",
       "      <th>COLE_BILINGUE</th>\n",
       "      <td>NaN</td>\n",
       "      <td>NaN</td>\n",
       "      <td>1</td>\n",
       "    </tr>\n",
       "    <tr>\n",
       "      <th>COLE_CARACTER</th>\n",
       "      <td>ACADEMICO</td>\n",
       "      <td>ACADEMICO</td>\n",
       "      <td>ACADEMICO</td>\n",
       "    </tr>\n",
       "    <tr>\n",
       "      <th>COLE_DEPTO_UBICACION</th>\n",
       "      <td>BOGOTA</td>\n",
       "      <td>ATLANTICO</td>\n",
       "      <td>BOGOTA</td>\n",
       "    </tr>\n",
       "    <tr>\n",
       "      <th>COLE_MCPIO_UBICACION</th>\n",
       "      <td>BOGOTç D.C.</td>\n",
       "      <td>BARRANQUILLA</td>\n",
       "      <td>BOGOTç D.C.</td>\n",
       "    </tr>\n",
       "    <tr>\n",
       "      <th>ESTU_TIPO_DOCUMENTO</th>\n",
       "      <td>C</td>\n",
       "      <td>N</td>\n",
       "      <td>T</td>\n",
       "    </tr>\n",
       "    <tr>\n",
       "      <th>ESTU_RESIDE_DEPTO</th>\n",
       "      <td>BOGOTA</td>\n",
       "      <td>ATLANTICO</td>\n",
       "      <td>BOGOTA</td>\n",
       "    </tr>\n",
       "    <tr>\n",
       "      <th>ESTU_RESIDE_MCPIO</th>\n",
       "      <td>BOGOTA D.C.</td>\n",
       "      <td>BARRANQUILLA</td>\n",
       "      <td>BOGOTA D.C.</td>\n",
       "    </tr>\n",
       "  </tbody>\n",
       "</table>\n",
       "</div>"
      ],
      "text/plain": [
       "                                               0                     1  \\\n",
       "ESTU_CONSECUTIVO                SB11200010000203      SB11200010000204   \n",
       "COLE_COD_ICFES                             83048                  3327   \n",
       "COLE_NOMBRE_SEDE               INSTITUTO STUDIUM  COLEGIO HEBREO UNION   \n",
       "IND_ANNO_TERMINO_BACHILLERATO               1999                  2000   \n",
       "COLE_JORNADA                                   C                     C   \n",
       "COLE_VALOR_PENSION                             3                     8   \n",
       "ESTU_GENERO                                    F                     F   \n",
       "ESTU_NACIMIENTO_DIA                           19                    28   \n",
       "ESTU_NACIMIENTO_MES                            3                     4   \n",
       "ESTU_NACIMIENTO_ANNO                        1981                  1982   \n",
       "ESTU_DEPTO_PRESENTACION                   BOGOTA             ATLANTICO   \n",
       "ESTU_MCPIO_PRESENTACION              BOGOTA D.C.          BARRANQUILLA   \n",
       "ESTU_LIMITA_INVIDENTE                        NaN                   NaN   \n",
       "ESTU_LIMITA_SORDOINTERPRETE                  NaN                   NaN   \n",
       "ESTU_LIMITA_SORDONOINTERPRETE                NaN                   NaN   \n",
       "ESTU_LIMITA_MOTRIZ                           NaN                   NaN   \n",
       "PUNT_BIOLOGIA                                 52                    51   \n",
       "PUNT_MATEMATICAS                              47                    52   \n",
       "PUNT_FILOSOFIA                                55                    59   \n",
       "PUNT_FISICA                                   49                    43   \n",
       "PUNT_HISTORIA                                 63                    52   \n",
       "PUNT_QUIMICA                                  49                    54   \n",
       "PUNT_LENGUAJE                                 56                    53   \n",
       "PUNT_GEOGRAFIA                                56                    57   \n",
       "COD_INTERDISCIPLINAR                          43                    45   \n",
       "PUNT_INTERDISCIPLINAR                         55                    47   \n",
       "COD_IDIOMA                                    51                    51   \n",
       "PUNT_IDIOMA                                   45                    58   \n",
       "ESTU_IES_COD_DESEADA                         NaN                  9999   \n",
       "ESTU_RAZONINSTITUTO                            8                   NaN   \n",
       "ESTU_CARRDESEADA_COD                        1707                  4701   \n",
       "ESTU_CARRDESEADA_RAZON                         2                     3   \n",
       "FAMI_PERSONAS_HOGAR                            2                     @   \n",
       "FAMI_VIVIENDA_PROPIA                           S                     N   \n",
       "FAMI_DEUDA_VIVIENDA                            N                   NaN   \n",
       "FAMI_APORTANTES                                1                     2   \n",
       "FAMI_INGRESO_FMILIAR_MENSUAL                   4                     4   \n",
       "FAMI_LEE_ESCRIBE_PADRE                         S                     S   \n",
       "FAMI_LEE_ESCRIBE_MADRE                         S                     S   \n",
       "FAMI_EDUCA_PADRE                               4                     7   \n",
       "FAMI_EDUCA_MADRE                               8                     4   \n",
       "FAMI_OCUPA_PADRE                              05                    03   \n",
       "FAMI_OCUPA_MADRE                             NaN                    10   \n",
       "FAMI_NUM_HERMANOS                            NaN                     2   \n",
       "FAMI_NUM_HERMANOS_EDUSUPERIOR                  2                     2   \n",
       "FAMI_POSICION_HERMANOS                         3                     3   \n",
       "FAMI_SOST_PERSONAL                             T                     T   \n",
       "ESTU_TRABAJA                                   N                     N   \n",
       "ESTU_ACT_PROX_ANNO                             1                     1   \n",
       "COLE_CALENDARIO                                F                     B   \n",
       "COLE_BILINGUE                                NaN                   NaN   \n",
       "COLE_CARACTER                          ACADEMICO             ACADEMICO   \n",
       "COLE_DEPTO_UBICACION                      BOGOTA             ATLANTICO   \n",
       "COLE_MCPIO_UBICACION                 BOGOTç D.C.          BARRANQUILLA   \n",
       "ESTU_TIPO_DOCUMENTO                            C                     N   \n",
       "ESTU_RESIDE_DEPTO                         BOGOTA             ATLANTICO   \n",
       "ESTU_RESIDE_MCPIO                    BOGOTA D.C.          BARRANQUILLA   \n",
       "\n",
       "                                                      2  \n",
       "ESTU_CONSECUTIVO                       SB11200010000205  \n",
       "COLE_COD_ICFES                                    19364  \n",
       "COLE_NOMBRE_SEDE               COLEGIO ANGLO COLOMBIANO  \n",
       "IND_ANNO_TERMINO_BACHILLERATO                      2000  \n",
       "COLE_JORNADA                                          C  \n",
       "COLE_VALOR_PENSION                                    7  \n",
       "ESTU_GENERO                                           M  \n",
       "ESTU_NACIMIENTO_DIA                                  30  \n",
       "ESTU_NACIMIENTO_MES                                   4  \n",
       "ESTU_NACIMIENTO_ANNO                               1982  \n",
       "ESTU_DEPTO_PRESENTACION                          BOGOTA  \n",
       "ESTU_MCPIO_PRESENTACION                     BOGOTA D.C.  \n",
       "ESTU_LIMITA_INVIDENTE                               NaN  \n",
       "ESTU_LIMITA_SORDOINTERPRETE                         NaN  \n",
       "ESTU_LIMITA_SORDONOINTERPRETE                       NaN  \n",
       "ESTU_LIMITA_MOTRIZ                                  NaN  \n",
       "PUNT_BIOLOGIA                                        59  \n",
       "PUNT_MATEMATICAS                                     58  \n",
       "PUNT_FILOSOFIA                                       44  \n",
       "PUNT_FISICA                                          60  \n",
       "PUNT_HISTORIA                                        50  \n",
       "PUNT_QUIMICA                                         68  \n",
       "PUNT_LENGUAJE                                        50  \n",
       "PUNT_GEOGRAFIA                                       43  \n",
       "COD_INTERDISCIPLINAR                                 43  \n",
       "PUNT_INTERDISCIPLINAR                                53  \n",
       "COD_IDIOMA                                           51  \n",
       "PUNT_IDIOMA                                          75  \n",
       "ESTU_IES_COD_DESEADA                               9999  \n",
       "ESTU_RAZONINSTITUTO                                   2  \n",
       "ESTU_CARRDESEADA_COD                              99999  \n",
       "ESTU_CARRDESEADA_RAZON                                2  \n",
       "FAMI_PERSONAS_HOGAR                                   5  \n",
       "FAMI_VIVIENDA_PROPIA                                  S  \n",
       "FAMI_DEUDA_VIVIENDA                                   S  \n",
       "FAMI_APORTANTES                                       2  \n",
       "FAMI_INGRESO_FMILIAR_MENSUAL                          9  \n",
       "FAMI_LEE_ESCRIBE_PADRE                                S  \n",
       "FAMI_LEE_ESCRIBE_MADRE                                S  \n",
       "FAMI_EDUCA_PADRE                                      8  \n",
       "FAMI_EDUCA_MADRE                                      7  \n",
       "FAMI_OCUPA_PADRE                                     04  \n",
       "FAMI_OCUPA_MADRE                                     04  \n",
       "FAMI_NUM_HERMANOS                                     1  \n",
       "FAMI_NUM_HERMANOS_EDUSUPERIOR                         1  \n",
       "FAMI_POSICION_HERMANOS                                2  \n",
       "FAMI_SOST_PERSONAL                                    T  \n",
       "ESTU_TRABAJA                                          N  \n",
       "ESTU_ACT_PROX_ANNO                                    2  \n",
       "COLE_CALENDARIO                                       B  \n",
       "COLE_BILINGUE                                         1  \n",
       "COLE_CARACTER                                 ACADEMICO  \n",
       "COLE_DEPTO_UBICACION                             BOGOTA  \n",
       "COLE_MCPIO_UBICACION                        BOGOTç D.C.  \n",
       "ESTU_TIPO_DOCUMENTO                                   T  \n",
       "ESTU_RESIDE_DEPTO                                BOGOTA  \n",
       "ESTU_RESIDE_MCPIO                           BOGOTA D.C.  "
      ]
     },
     "execution_count": 3,
     "metadata": {},
     "output_type": "execute_result"
    }
   ],
   "source": [
    "data_2000.head(3).T"
   ]
  },
  {
   "cell_type": "code",
   "execution_count": 4,
   "metadata": {
    "collapsed": false,
    "scrolled": true
   },
   "outputs": [
    {
     "name": "stdout",
     "output_type": "stream",
     "text": [
      "Index(['1', '2', '3', '5', '6', '7', '8', '9', '@'], dtype='object')\n",
      "1      274\n",
      "2     2744\n",
      "3     8917\n",
      "5    18814\n",
      "6    11487\n",
      "7     6493\n",
      "8     3781\n",
      "9     2208\n",
      "@    19122\n",
      "Name: FAMI_PERSONAS_HOGAR, dtype: int64\n",
      "Elementos null/NaN 3786\n",
      "__________________\n",
      "Elementos diferentes de null/NaN: 73840\n",
      "__________________\n",
      "(73840,)\n",
      "None\n"
     ]
    }
   ],
   "source": [
    "print(data_2000['FAMI_PERSONAS_HOGAR'].value_counts().sort_index().index)\n",
    "print(data_2000['FAMI_PERSONAS_HOGAR'].value_counts().sort_index())\n",
    "print(missing_data(data_2000['FAMI_PERSONAS_HOGAR']))"
   ]
  },
  {
   "cell_type": "markdown",
   "metadata": {},
   "source": [
    "The simbol \"@\" will be changed for the number 4, because the average in Colombian's homes is near to 4."
   ]
  },
  {
   "cell_type": "code",
   "execution_count": 5,
   "metadata": {
    "collapsed": true
   },
   "outputs": [],
   "source": [
    "data_2000['FAMI_PERSONAS_HOGAR'] = data_2000['FAMI_PERSONAS_HOGAR'].replace('@', '4')\n",
    "data_2000['FAMI_PERSONAS_HOGAR'] = data_2000['FAMI_PERSONAS_HOGAR'].replace(np.nan, 'NaN')"
   ]
  },
  {
   "cell_type": "markdown",
   "metadata": {},
   "source": [
    "Then, the following columns will be reviewed"
   ]
  },
  {
   "cell_type": "code",
   "execution_count": 6,
   "metadata": {
    "collapsed": false,
    "scrolled": true
   },
   "outputs": [
    {
     "name": "stdout",
     "output_type": "stream",
     "text": [
      "Index(['@', 'N', 'S'], dtype='object')\n",
      "@        4\n",
      "N    20144\n",
      "S    53182\n",
      "Name: FAMI_VIVIENDA_PROPIA, dtype: int64\n",
      "Elementos null/NaN 4296\n",
      "__________________\n",
      "Elementos diferentes de null/NaN: 73330\n",
      "__________________\n",
      "(73330,)\n",
      "None\n"
     ]
    }
   ],
   "source": [
    "print(data_2000['FAMI_VIVIENDA_PROPIA'].value_counts().sort_index().index)\n",
    "print(data_2000['FAMI_VIVIENDA_PROPIA'].value_counts().sort_index())\n",
    "print(missing_data(data_2000['FAMI_VIVIENDA_PROPIA']))"
   ]
  },
  {
   "cell_type": "markdown",
   "metadata": {},
   "source": [
    "There are very few rows with the value \"@\", so the rows that has it will be replaced for 'NaN' values, and the np.nan values too. "
   ]
  },
  {
   "cell_type": "code",
   "execution_count": 7,
   "metadata": {
    "collapsed": false
   },
   "outputs": [],
   "source": [
    "data_2000['FAMI_VIVIENDA_PROPIA'] = data_2000['FAMI_VIVIENDA_PROPIA'].replace('@', 'NaN')\n",
    "data_2000['FAMI_VIVIENDA_PROPIA'] = data_2000['FAMI_VIVIENDA_PROPIA'].replace(np.nan, 'NaN')"
   ]
  },
  {
   "cell_type": "code",
   "execution_count": 8,
   "metadata": {
    "collapsed": false
   },
   "outputs": [
    {
     "name": "stdout",
     "output_type": "stream",
     "text": [
      "Index(['@', 'N', 'S'], dtype='object')\n",
      "@        3\n",
      "N    36147\n",
      "S    11464\n",
      "Name: FAMI_DEUDA_VIVIENDA, dtype: int64\n",
      "Elementos null/NaN 30012\n",
      "__________________\n",
      "Elementos diferentes de null/NaN: 47614\n",
      "__________________\n",
      "(47614,)\n",
      "None\n"
     ]
    }
   ],
   "source": [
    "print(data_2000['FAMI_DEUDA_VIVIENDA'].value_counts().sort_index().index)\n",
    "print(data_2000['FAMI_DEUDA_VIVIENDA'].value_counts().sort_index())\n",
    "print(missing_data(data_2000['FAMI_DEUDA_VIVIENDA']))"
   ]
  },
  {
   "cell_type": "code",
   "execution_count": 9,
   "metadata": {
    "collapsed": true
   },
   "outputs": [],
   "source": [
    "data_2000['FAMI_DEUDA_VIVIENDA'] = data_2000['FAMI_DEUDA_VIVIENDA'].replace('@', 'NaN')\n",
    "data_2000['FAMI_DEUDA_VIVIENDA'] = data_2000['FAMI_DEUDA_VIVIENDA'].replace(np.nan, 'NaN')"
   ]
  },
  {
   "cell_type": "code",
   "execution_count": 10,
   "metadata": {
    "collapsed": false
   },
   "outputs": [
    {
     "name": "stdout",
     "output_type": "stream",
     "text": [
      "Index(['@', 'N', 'S'], dtype='object')\n",
      "@       35\n",
      "N     2264\n",
      "S    67427\n",
      "Name: FAMI_LEE_ESCRIBE_PADRE, dtype: int64\n",
      "Elementos null/NaN 7900\n",
      "__________________\n",
      "Elementos diferentes de null/NaN: 69726\n",
      "__________________\n",
      "(69726,)\n",
      "None\n"
     ]
    }
   ],
   "source": [
    "print(data_2000['FAMI_LEE_ESCRIBE_PADRE'].value_counts().sort_index().index)\n",
    "print(data_2000['FAMI_LEE_ESCRIBE_PADRE'].value_counts().sort_index())\n",
    "print(missing_data(data_2000['FAMI_LEE_ESCRIBE_PADRE']))"
   ]
  },
  {
   "cell_type": "code",
   "execution_count": 11,
   "metadata": {
    "collapsed": true
   },
   "outputs": [],
   "source": [
    "data_2000['FAMI_LEE_ESCRIBE_PADRE'] = data_2000['FAMI_LEE_ESCRIBE_PADRE'].replace('@', 'NaN')\n",
    "data_2000['FAMI_LEE_ESCRIBE_PADRE'] = data_2000['FAMI_LEE_ESCRIBE_PADRE'].replace(np.nan, 'NaN')"
   ]
  },
  {
   "cell_type": "code",
   "execution_count": 12,
   "metadata": {
    "collapsed": false
   },
   "outputs": [
    {
     "name": "stdout",
     "output_type": "stream",
     "text": [
      "Index(['@', 'N', 'S'], dtype='object')\n",
      "@       43\n",
      "N     2847\n",
      "S    72004\n",
      "Name: FAMI_LEE_ESCRIBE_MADRE, dtype: int64\n",
      "Elementos null/NaN 2732\n",
      "__________________\n",
      "Elementos diferentes de null/NaN: 74894\n",
      "__________________\n",
      "(74894,)\n",
      "None\n"
     ]
    }
   ],
   "source": [
    "print(data_2000['FAMI_LEE_ESCRIBE_MADRE'].value_counts().sort_index().index)\n",
    "print(data_2000['FAMI_LEE_ESCRIBE_MADRE'].value_counts().sort_index())\n",
    "print(missing_data(data_2000['FAMI_LEE_ESCRIBE_MADRE']))"
   ]
  },
  {
   "cell_type": "code",
   "execution_count": 13,
   "metadata": {
    "collapsed": true
   },
   "outputs": [],
   "source": [
    "data_2000['FAMI_LEE_ESCRIBE_MADRE'] = data_2000['FAMI_LEE_ESCRIBE_MADRE'].replace('@', 'NaN')\n",
    "data_2000['FAMI_LEE_ESCRIBE_MADRE'] = data_2000['FAMI_LEE_ESCRIBE_MADRE'].replace(np.nan, 'NaN')"
   ]
  },
  {
   "cell_type": "code",
   "execution_count": 14,
   "metadata": {
    "collapsed": false
   },
   "outputs": [
    {
     "name": "stdout",
     "output_type": "stream",
     "text": [
      "Index(['@', 'N', 'P', 'T'], dtype='object')\n",
      "@        3\n",
      "N     6586\n",
      "P    10348\n",
      "T    57627\n",
      "Name: FAMI_SOST_PERSONAL, dtype: int64\n",
      "Elementos null/NaN 3062\n",
      "__________________\n",
      "Elementos diferentes de null/NaN: 74564\n",
      "__________________\n",
      "(74564,)\n",
      "None\n"
     ]
    }
   ],
   "source": [
    "print(data_2000['FAMI_SOST_PERSONAL'].value_counts().sort_index().index)\n",
    "print(data_2000['FAMI_SOST_PERSONAL'].value_counts().sort_index())\n",
    "print(missing_data(data_2000['FAMI_SOST_PERSONAL']))"
   ]
  },
  {
   "cell_type": "code",
   "execution_count": 15,
   "metadata": {
    "collapsed": true
   },
   "outputs": [],
   "source": [
    "data_2000['FAMI_SOST_PERSONAL'] = data_2000['FAMI_SOST_PERSONAL'].replace('@', 'NaN')\n",
    "data_2000['FAMI_SOST_PERSONAL'] = data_2000['FAMI_SOST_PERSONAL'].replace(np.nan, 'NaN')"
   ]
  },
  {
   "cell_type": "code",
   "execution_count": 16,
   "metadata": {
    "collapsed": false
   },
   "outputs": [
    {
     "name": "stdout",
     "output_type": "stream",
     "text": [
      "Index(['@', 'N', 'S'], dtype='object')\n",
      "@        2\n",
      "N    63214\n",
      "S    10620\n",
      "Name: ESTU_TRABAJA, dtype: int64\n",
      "Elementos null/NaN 3790\n",
      "__________________\n",
      "Elementos diferentes de null/NaN: 73836\n",
      "__________________\n",
      "(73836,)\n",
      "None\n"
     ]
    }
   ],
   "source": [
    "print(data_2000['ESTU_TRABAJA'].value_counts().sort_index().index)\n",
    "print(data_2000['ESTU_TRABAJA'].value_counts().sort_index())\n",
    "print(missing_data(data_2000['ESTU_TRABAJA']))"
   ]
  },
  {
   "cell_type": "code",
   "execution_count": 17,
   "metadata": {
    "collapsed": true
   },
   "outputs": [],
   "source": [
    "data_2000['ESTU_TRABAJA'] = data_2000['ESTU_TRABAJA'].replace('@', 'NaN')\n",
    "data_2000['ESTU_TRABAJA'] = data_2000['ESTU_TRABAJA'].replace(np.nan, 'NaN')"
   ]
  },
  {
   "cell_type": "code",
   "execution_count": 18,
   "metadata": {
    "collapsed": false
   },
   "outputs": [
    {
     "name": "stdout",
     "output_type": "stream",
     "text": [
      "Index(['A', 'B', 'F'], dtype='object')\n",
      "A     6708\n",
      "B    49464\n",
      "F    21454\n",
      "Name: COLE_CALENDARIO, dtype: int64\n",
      "Elementos null/NaN 0\n",
      "__________________\n",
      "Elementos diferentes de null/NaN: 77626\n",
      "__________________\n",
      "(77626,)\n",
      "None\n"
     ]
    }
   ],
   "source": [
    "print(data_2000['COLE_CALENDARIO'].value_counts().sort_index().index)\n",
    "print(data_2000['COLE_CALENDARIO'].value_counts().sort_index())\n",
    "print(missing_data(data_2000['COLE_CALENDARIO']))"
   ]
  },
  {
   "cell_type": "code",
   "execution_count": 19,
   "metadata": {
    "collapsed": false
   },
   "outputs": [
    {
     "name": "stdout",
     "output_type": "stream",
     "text": [
      "Index(['ACADEMICO', 'ACADEMICO Y TECNICO', 'NORMALISTA', 'TECNICO'], dtype='object')\n",
      "ACADEMICO              38234\n",
      "ACADEMICO Y TECNICO    17844\n",
      "NORMALISTA              1168\n",
      "TECNICO                20380\n",
      "Name: COLE_CARACTER, dtype: int64\n",
      "Elementos null/NaN 0\n",
      "__________________\n",
      "Elementos diferentes de null/NaN: 77626\n",
      "__________________\n",
      "(77626,)\n",
      "None\n"
     ]
    }
   ],
   "source": [
    "print(data_2000['COLE_CARACTER'].value_counts().sort_index().index)\n",
    "print(data_2000['COLE_CARACTER'].value_counts().sort_index())\n",
    "print(missing_data(data_2000['COLE_CARACTER']))"
   ]
  },
  {
   "cell_type": "code",
   "execution_count": 20,
   "metadata": {
    "collapsed": false
   },
   "outputs": [],
   "source": [
    "remaining_c = data_2000.columns.difference(['FAMI_PERSONAS_HOGAR', 'FAMI_VIVIENDA_PROPIA', 'FAMI_DEUDA_VIVIENDA', 'FAMI_LEE_ESCRIBE_PADRE',\n",
    "                     'FAMI_LEE_ESCRIBE_MADRE', 'FAMI_SOST_PERSONAL', 'ESTU_TRABAJA', 'COLE_CALENDARIO',\n",
    "                     'COLE_CARACTER'])"
   ]
  },
  {
   "cell_type": "code",
   "execution_count": 21,
   "metadata": {
    "collapsed": false
   },
   "outputs": [
    {
     "data": {
      "text/plain": [
       "Index(['COD_IDIOMA', 'COD_INTERDISCIPLINAR', 'COLE_BILINGUE', 'COLE_COD_ICFES',\n",
       "       'COLE_DEPTO_UBICACION', 'COLE_JORNADA', 'COLE_MCPIO_UBICACION',\n",
       "       'COLE_NOMBRE_SEDE', 'COLE_VALOR_PENSION', 'ESTU_ACT_PROX_ANNO',\n",
       "       'ESTU_CARRDESEADA_COD', 'ESTU_CARRDESEADA_RAZON', 'ESTU_CONSECUTIVO',\n",
       "       'ESTU_DEPTO_PRESENTACION', 'ESTU_GENERO', 'ESTU_IES_COD_DESEADA',\n",
       "       'ESTU_LIMITA_INVIDENTE', 'ESTU_LIMITA_MOTRIZ',\n",
       "       'ESTU_LIMITA_SORDOINTERPRETE', 'ESTU_LIMITA_SORDONOINTERPRETE',\n",
       "       'ESTU_MCPIO_PRESENTACION', 'ESTU_NACIMIENTO_ANNO',\n",
       "       'ESTU_NACIMIENTO_DIA', 'ESTU_NACIMIENTO_MES', 'ESTU_RAZONINSTITUTO',\n",
       "       'ESTU_RESIDE_DEPTO', 'ESTU_RESIDE_MCPIO', 'ESTU_TIPO_DOCUMENTO',\n",
       "       'FAMI_APORTANTES', 'FAMI_EDUCA_MADRE', 'FAMI_EDUCA_PADRE',\n",
       "       'FAMI_INGRESO_FMILIAR_MENSUAL', 'FAMI_NUM_HERMANOS',\n",
       "       'FAMI_NUM_HERMANOS_EDUSUPERIOR', 'FAMI_OCUPA_MADRE', 'FAMI_OCUPA_PADRE',\n",
       "       'FAMI_POSICION_HERMANOS', 'IND_ANNO_TERMINO_BACHILLERATO',\n",
       "       'PUNT_BIOLOGIA', 'PUNT_FILOSOFIA', 'PUNT_FISICA', 'PUNT_GEOGRAFIA',\n",
       "       'PUNT_HISTORIA', 'PUNT_IDIOMA', 'PUNT_INTERDISCIPLINAR',\n",
       "       'PUNT_LENGUAJE', 'PUNT_MATEMATICAS', 'PUNT_QUIMICA'],\n",
       "      dtype='object')"
      ]
     },
     "execution_count": 21,
     "metadata": {},
     "output_type": "execute_result"
    }
   ],
   "source": [
    "remaining_c"
   ]
  },
  {
   "cell_type": "markdown",
   "metadata": {},
   "source": [
    "Cambio de la @ por 4 en la columna *ESTU_ACT_PROX_ANNO*"
   ]
  },
  {
   "cell_type": "code",
   "execution_count": 22,
   "metadata": {
    "collapsed": false
   },
   "outputs": [
    {
     "name": "stdout",
     "output_type": "stream",
     "text": [
      "Index(['1', '2', '3', '@'], dtype='object')\n",
      "1    19322\n",
      "2     1917\n",
      "3    55913\n",
      "@       46\n",
      "Name: ESTU_ACT_PROX_ANNO, dtype: int64\n",
      "Elementos null/NaN 428\n",
      "__________________\n",
      "Elementos diferentes de null/NaN: 77198\n",
      "__________________\n",
      "(77198,)\n",
      "None\n"
     ]
    }
   ],
   "source": [
    "print(data_2000['ESTU_ACT_PROX_ANNO'].value_counts().sort_index().index)\n",
    "print(data_2000['ESTU_ACT_PROX_ANNO'].value_counts().sort_index())\n",
    "print(missing_data(data_2000['ESTU_ACT_PROX_ANNO']))"
   ]
  },
  {
   "cell_type": "code",
   "execution_count": 23,
   "metadata": {
    "collapsed": false
   },
   "outputs": [],
   "source": [
    "\"\"\"The simbol @ will be replaced for the number(string) 4, and the np.nan values will be replaced for strings 'NaN'.\"\"\"\n",
    "data_2000['ESTU_ACT_PROX_ANNO'] = data_2000['ESTU_ACT_PROX_ANNO'].replace('@', '4')\n",
    "data_2000['ESTU_ACT_PROX_ANNO'] = data_2000['ESTU_ACT_PROX_ANNO'].replace(np.nan, 'NaN')"
   ]
  },
  {
   "cell_type": "markdown",
   "metadata": {},
   "source": [
    "Se eliminan las lineas que tienen años invalidos"
   ]
  },
  {
   "cell_type": "code",
   "execution_count": 24,
   "metadata": {
    "collapsed": false,
    "scrolled": true
   },
   "outputs": [
    {
     "name": "stdout",
     "output_type": "stream",
     "text": [
      "Float64Index([ 195.0,  196.0,  197.0,  198.0, 1934.0, 1935.0, 1937.0, 1938.0,\n",
      "              1939.0, 1940.0, 1941.0, 1942.0, 1943.0, 1944.0, 1945.0, 1946.0,\n",
      "              1947.0, 1948.0, 1949.0, 1950.0, 1951.0, 1952.0, 1953.0, 1954.0,\n",
      "              1955.0, 1956.0, 1957.0, 1958.0, 1959.0, 1960.0, 1961.0, 1962.0,\n",
      "              1963.0, 1964.0, 1965.0, 1966.0, 1967.0, 1968.0, 1969.0, 1970.0,\n",
      "              1971.0, 1972.0, 1973.0, 1974.0, 1975.0, 1976.0, 1977.0, 1978.0,\n",
      "              1979.0, 1980.0, 1981.0, 1982.0, 1983.0, 1984.0, 1985.0, 1986.0,\n",
      "              1987.0, 1988.0, 1989.0],\n",
      "             dtype='float64')\n",
      "195.0         2\n",
      "196.0        13\n",
      "197.0        14\n",
      "198.0        70\n",
      "1934.0        1\n",
      "1935.0        1\n",
      "1937.0        1\n",
      "1938.0        4\n",
      "1939.0        4\n",
      "1940.0        5\n",
      "1941.0        3\n",
      "1942.0        7\n",
      "1943.0        1\n",
      "1944.0        3\n",
      "1945.0        9\n",
      "1946.0        8\n",
      "1947.0       14\n",
      "1948.0       10\n",
      "1949.0       33\n",
      "1950.0       27\n",
      "1951.0       45\n",
      "1952.0       45\n",
      "1953.0       51\n",
      "1954.0       70\n",
      "1955.0       91\n",
      "1956.0      112\n",
      "1957.0      111\n",
      "1958.0      141\n",
      "1959.0      170\n",
      "1960.0      182\n",
      "1961.0      222\n",
      "1962.0      264\n",
      "1963.0      301\n",
      "1964.0      319\n",
      "1965.0      314\n",
      "1966.0      327\n",
      "1967.0      397\n",
      "1968.0      426\n",
      "1969.0      408\n",
      "1970.0      500\n",
      "1971.0      531\n",
      "1972.0      596\n",
      "1973.0      591\n",
      "1974.0      739\n",
      "1975.0      850\n",
      "1976.0     1051\n",
      "1977.0     1442\n",
      "1978.0     2078\n",
      "1979.0     4303\n",
      "1980.0     6919\n",
      "1981.0    11857\n",
      "1982.0    17753\n",
      "1983.0    19081\n",
      "1984.0     4839\n",
      "1985.0      198\n",
      "1986.0       13\n",
      "1987.0       14\n",
      "1988.0       13\n",
      "1989.0       13\n",
      "Name: ESTU_NACIMIENTO_ANNO, dtype: int64\n",
      "Elementos null/NaN 19\n",
      "__________________\n",
      "Elementos diferentes de null/NaN: 77607\n",
      "__________________\n",
      "(77607,)\n",
      "None\n"
     ]
    }
   ],
   "source": [
    "print(data_2000['ESTU_NACIMIENTO_ANNO'].value_counts().sort_index().index)\n",
    "print(data_2000['ESTU_NACIMIENTO_ANNO'].value_counts().sort_index())\n",
    "print(missing_data(data_2000['ESTU_NACIMIENTO_ANNO']))"
   ]
  },
  {
   "cell_type": "code",
   "execution_count": 25,
   "metadata": {
    "collapsed": false
   },
   "outputs": [],
   "source": [
    "for i in data_2000['ESTU_NACIMIENTO_ANNO'].value_counts().sort_index().index:\n",
    "    if len(str(i))<4:\n",
    "        data_2000['ESTU_NACIMIENTO_ANNO'] = data_2000['ESTU_NACIMIENTO_ANNO'].replace(i, np.nan)"
   ]
  },
  {
   "cell_type": "markdown",
   "metadata": {},
   "source": [
    "Se hacen los cambios segun la columna FAMI_APORTANTES"
   ]
  },
  {
   "cell_type": "code",
   "execution_count": 26,
   "metadata": {
    "collapsed": false,
    "scrolled": true
   },
   "outputs": [
    {
     "name": "stdout",
     "output_type": "stream",
     "text": [
      "Index(['+', '0', '1', '2', '3', '4', '5', '6', '7', '8', '9', '@'], dtype='object')\n",
      "+       66\n",
      "0      251\n",
      "1    39360\n",
      "2    28171\n",
      "3     5815\n",
      "4     1607\n",
      "5      483\n",
      "6      156\n",
      "7       47\n",
      "8       30\n",
      "9       25\n",
      "@      212\n",
      "Name: FAMI_APORTANTES, dtype: int64\n",
      "Elementos null/NaN 1403\n",
      "__________________\n",
      "Elementos diferentes de null/NaN: 76223\n",
      "__________________\n",
      "(76223,)\n",
      "None\n"
     ]
    }
   ],
   "source": [
    "print(data_2000['FAMI_APORTANTES'].value_counts().sort_index().index)\n",
    "print(data_2000['FAMI_APORTANTES'].value_counts().sort_index())\n",
    "print(missing_data(data_2000['FAMI_APORTANTES']))"
   ]
  },
  {
   "cell_type": "code",
   "execution_count": 27,
   "metadata": {
    "collapsed": true
   },
   "outputs": [],
   "source": [
    "data_2000['FAMI_APORTANTES'] = data_2000['FAMI_APORTANTES'].replace('@', 'NaN')\n",
    "data_2000['FAMI_APORTANTES'] = data_2000['FAMI_APORTANTES'].replace('+', '+9')\n",
    "data_2000['FAMI_APORTANTES'] = data_2000['FAMI_APORTANTES'].replace(np.nan, 'NaN')"
   ]
  },
  {
   "cell_type": "markdown",
   "metadata": {},
   "source": [
    "Se eliminan las filas que poseen '@' FAMI_EDUCA_MADRE"
   ]
  },
  {
   "cell_type": "code",
   "execution_count": 28,
   "metadata": {
    "collapsed": false
   },
   "outputs": [
    {
     "name": "stdout",
     "output_type": "stream",
     "text": [
      "Index(['1', '2', '3', '4', '5', '6', '7', '8', '@'], dtype='object')\n",
      "1     3250\n",
      "2      936\n",
      "3    34447\n",
      "4    19198\n",
      "5     3962\n",
      "6     2339\n",
      "7     4973\n",
      "8     2039\n",
      "@      886\n",
      "Name: FAMI_EDUCA_MADRE, dtype: int64\n",
      "Elementos null/NaN 5596\n",
      "__________________\n",
      "Elementos diferentes de null/NaN: 72030\n",
      "__________________\n",
      "(72030,)\n",
      "None\n"
     ]
    }
   ],
   "source": [
    "print(data_2000['FAMI_EDUCA_MADRE'].value_counts().sort_index().index)\n",
    "print(data_2000['FAMI_EDUCA_MADRE'].value_counts().sort_index())\n",
    "print(missing_data(data_2000['FAMI_EDUCA_MADRE']))"
   ]
  },
  {
   "cell_type": "code",
   "execution_count": 29,
   "metadata": {
    "collapsed": true
   },
   "outputs": [],
   "source": [
    "data_2000['FAMI_EDUCA_MADRE'] = data_2000['FAMI_EDUCA_MADRE'].replace('@', 'NaN')\n",
    "data_2000['FAMI_EDUCA_MADRE'] = data_2000['FAMI_EDUCA_MADRE'].replace(np.nan, 'NaN')"
   ]
  },
  {
   "cell_type": "markdown",
   "metadata": {},
   "source": [
    "Se eliminan las filas que poseen '@' en FAMI_EDUCA_PADRE"
   ]
  },
  {
   "cell_type": "code",
   "execution_count": 30,
   "metadata": {
    "collapsed": false
   },
   "outputs": [
    {
     "name": "stdout",
     "output_type": "stream",
     "text": [
      "Index(['1', '2', '3', '4', '5', '6', '7', '8', '@'], dtype='object')\n",
      "1     3122\n",
      "2      841\n",
      "3    31984\n",
      "4    16489\n",
      "5     3121\n",
      "6     2895\n",
      "7     5877\n",
      "8     3023\n",
      "@      880\n",
      "Name: FAMI_EDUCA_PADRE, dtype: int64\n",
      "Elementos null/NaN 9394\n",
      "__________________\n",
      "Elementos diferentes de null/NaN: 68232\n",
      "__________________\n",
      "(68232,)\n",
      "None\n"
     ]
    }
   ],
   "source": [
    "print(data_2000['FAMI_EDUCA_PADRE'].value_counts().sort_index().index)\n",
    "print(data_2000['FAMI_EDUCA_PADRE'].value_counts().sort_index())\n",
    "print(missing_data(data_2000['FAMI_EDUCA_PADRE']))"
   ]
  },
  {
   "cell_type": "code",
   "execution_count": 31,
   "metadata": {
    "collapsed": true
   },
   "outputs": [],
   "source": [
    "data_2000['FAMI_EDUCA_PADRE'] = data_2000['FAMI_EDUCA_PADRE'].replace('@', 'NaN')\n",
    "data_2000['FAMI_EDUCA_PADRE'] = data_2000['FAMI_EDUCA_PADRE'].replace(np.nan, 'NaN')"
   ]
  },
  {
   "cell_type": "code",
   "execution_count": 32,
   "metadata": {
    "collapsed": false
   },
   "outputs": [
    {
     "name": "stdout",
     "output_type": "stream",
     "text": [
      "Index(['0', '1', '2', '3', '4', '5', '6', '7', '8', '9', '@'], dtype='object')\n",
      "0    18391\n",
      "1    29605\n",
      "2    13103\n",
      "3     6760\n",
      "4     2677\n",
      "5     1237\n",
      "6      940\n",
      "7      561\n",
      "8      550\n",
      "9     1692\n",
      "@       40\n",
      "Name: FAMI_INGRESO_FMILIAR_MENSUAL, dtype: int64\n",
      "Elementos null/NaN 2070\n",
      "__________________\n",
      "Elementos diferentes de null/NaN: 75556\n",
      "__________________\n",
      "(75556,)\n",
      "None\n"
     ]
    }
   ],
   "source": [
    "print(data_2000['FAMI_INGRESO_FMILIAR_MENSUAL'].value_counts().sort_index().index)\n",
    "print(data_2000['FAMI_INGRESO_FMILIAR_MENSUAL'].value_counts().sort_index())\n",
    "print(missing_data(data_2000['FAMI_INGRESO_FMILIAR_MENSUAL']))"
   ]
  },
  {
   "cell_type": "code",
   "execution_count": 33,
   "metadata": {
    "collapsed": true
   },
   "outputs": [],
   "source": [
    "data_2000['FAMI_INGRESO_FMILIAR_MENSUAL'] = data_2000['FAMI_INGRESO_FMILIAR_MENSUAL'].replace('@', 'NaN')\n",
    "data_2000['FAMI_INGRESO_FMILIAR_MENSUAL'] = data_2000['FAMI_INGRESO_FMILIAR_MENSUAL'].replace(np.nan, 'NaN')"
   ]
  },
  {
   "cell_type": "code",
   "execution_count": 34,
   "metadata": {
    "collapsed": false
   },
   "outputs": [
    {
     "name": "stdout",
     "output_type": "stream",
     "text": [
      "Index(['+', '0', '1', '2', '3', '4', '5', '6', '7', '8', '9', '@'], dtype='object')\n",
      "+     1991\n",
      "0     3873\n",
      "1    15009\n",
      "2    18138\n",
      "3    12042\n",
      "4     7558\n",
      "5     4911\n",
      "6     3255\n",
      "7     2351\n",
      "8     1672\n",
      "9     1218\n",
      "@      216\n",
      "Name: FAMI_NUM_HERMANOS, dtype: int64\n",
      "Elementos null/NaN 5392\n",
      "__________________\n",
      "Elementos diferentes de null/NaN: 72234\n",
      "__________________\n",
      "(72234,)\n",
      "None\n"
     ]
    }
   ],
   "source": [
    "print(data_2000['FAMI_NUM_HERMANOS'].value_counts().sort_index().index)\n",
    "print(data_2000['FAMI_NUM_HERMANOS'].value_counts().sort_index())\n",
    "print(missing_data(data_2000['FAMI_NUM_HERMANOS']))"
   ]
  },
  {
   "cell_type": "code",
   "execution_count": 35,
   "metadata": {
    "collapsed": true
   },
   "outputs": [],
   "source": [
    "data_2000['FAMI_NUM_HERMANOS'] = data_2000['FAMI_NUM_HERMANOS'].replace('+', '+9')\n",
    "data_2000['FAMI_NUM_HERMANOS'] = data_2000['FAMI_NUM_HERMANOS'].replace('@', 'NaN')\n",
    "data_2000['FAMI_NUM_HERMANOS'] = data_2000['FAMI_NUM_HERMANOS'].replace(np.nan, 'NaN')"
   ]
  },
  {
   "cell_type": "code",
   "execution_count": 36,
   "metadata": {
    "collapsed": false
   },
   "outputs": [
    {
     "name": "stdout",
     "output_type": "stream",
     "text": [
      "Index(['+', '0', '1', '2', '3', '4', '5', '6', '7', '8', '9', '@'], dtype='object')\n",
      "+       71\n",
      "0    38329\n",
      "1    18432\n",
      "2     7448\n",
      "3     2363\n",
      "4      899\n",
      "5      380\n",
      "6      143\n",
      "7       76\n",
      "8       41\n",
      "9       35\n",
      "@       82\n",
      "Name: FAMI_NUM_HERMANOS_EDUSUPERIOR, dtype: int64\n",
      "Elementos null/NaN 9327\n",
      "__________________\n",
      "Elementos diferentes de null/NaN: 68299\n",
      "__________________\n",
      "(68299,)\n",
      "None\n"
     ]
    }
   ],
   "source": [
    "print(data_2000['FAMI_NUM_HERMANOS_EDUSUPERIOR'].value_counts().sort_index().index)\n",
    "print(data_2000['FAMI_NUM_HERMANOS_EDUSUPERIOR'].value_counts().sort_index())\n",
    "print(missing_data(data_2000['FAMI_NUM_HERMANOS_EDUSUPERIOR']))"
   ]
  },
  {
   "cell_type": "code",
   "execution_count": 37,
   "metadata": {
    "collapsed": true
   },
   "outputs": [],
   "source": [
    "#lo mismo que la anterior pero en FAMI_NUM_HERMANOS_EDUSUPERIOR\n",
    "data_2000['FAMI_NUM_HERMANOS_EDUSUPERIOR'] = data_2000['FAMI_NUM_HERMANOS_EDUSUPERIOR'].replace('+', '+9')\n",
    "data_2000['FAMI_NUM_HERMANOS_EDUSUPERIOR'] = data_2000['FAMI_NUM_HERMANOS_EDUSUPERIOR'].replace('@', 'NaN')\n",
    "data_2000['FAMI_NUM_HERMANOS_EDUSUPERIOR'] = data_2000['FAMI_NUM_HERMANOS_EDUSUPERIOR'].replace(np.nan, 'NaN')"
   ]
  },
  {
   "cell_type": "code",
   "execution_count": 38,
   "metadata": {
    "collapsed": false
   },
   "outputs": [
    {
     "name": "stdout",
     "output_type": "stream",
     "text": [
      "Index(['0', '01', '02', '03', '04', '05', '06', '07', '08', '09', '10', '11',\n",
      "       '12', '@'],\n",
      "      dtype='object')\n",
      "0         1\n",
      "01      509\n",
      "02      904\n",
      "03     1623\n",
      "04     4035\n",
      "05     8869\n",
      "06     6607\n",
      "07      536\n",
      "08     4898\n",
      "09     1200\n",
      "10    37723\n",
      "11      310\n",
      "12     1342\n",
      "@      1521\n",
      "Name: FAMI_OCUPA_MADRE, dtype: int64\n",
      "Elementos null/NaN 7548\n",
      "__________________\n",
      "Elementos diferentes de null/NaN: 70078\n",
      "__________________\n",
      "(70078,)\n",
      "None\n"
     ]
    }
   ],
   "source": [
    "print(data_2000['FAMI_OCUPA_MADRE'].value_counts().sort_index().index)\n",
    "print(data_2000['FAMI_OCUPA_MADRE'].value_counts().sort_index())\n",
    "print(missing_data(data_2000['FAMI_OCUPA_MADRE']))"
   ]
  },
  {
   "cell_type": "code",
   "execution_count": 39,
   "metadata": {
    "collapsed": true
   },
   "outputs": [],
   "source": [
    "#se eliminan las filas que poseen el valor '@'\n",
    "data_2000['FAMI_OCUPA_MADRE'] = data_2000['FAMI_OCUPA_MADRE'].replace('0', '00')\n",
    "data_2000['FAMI_OCUPA_MADRE'] = data_2000['FAMI_OCUPA_MADRE'].replace('@', 'NaN')\n",
    "data_2000['FAMI_OCUPA_MADRE'] = data_2000['FAMI_OCUPA_MADRE'].replace(np.nan, 'NaN')"
   ]
  },
  {
   "cell_type": "code",
   "execution_count": 40,
   "metadata": {
    "collapsed": false
   },
   "outputs": [
    {
     "name": "stdout",
     "output_type": "stream",
     "text": [
      "Index(['0', '01', '02', '03', '04', '05', '06', '07', '08', '09', '10', '11',\n",
      "       '12', '@'],\n",
      "      dtype='object')\n",
      "0         1\n",
      "01     1312\n",
      "02     1716\n",
      "03     3531\n",
      "04     4447\n",
      "05    18363\n",
      "06     8983\n",
      "07      533\n",
      "08    16999\n",
      "09     4535\n",
      "10      932\n",
      "11       42\n",
      "12     1953\n",
      "@      1786\n",
      "Name: FAMI_OCUPA_PADRE, dtype: int64\n",
      "Elementos null/NaN 12493\n",
      "__________________\n",
      "Elementos diferentes de null/NaN: 65133\n",
      "__________________\n",
      "(65133,)\n",
      "None\n"
     ]
    }
   ],
   "source": [
    "print(data_2000['FAMI_OCUPA_PADRE'].value_counts().sort_index().index)\n",
    "print(data_2000['FAMI_OCUPA_PADRE'].value_counts().sort_index())\n",
    "print(missing_data(data_2000['FAMI_OCUPA_PADRE']))"
   ]
  },
  {
   "cell_type": "code",
   "execution_count": 41,
   "metadata": {
    "collapsed": true
   },
   "outputs": [],
   "source": [
    "#se eliminan las filas que poseen el valor '@'\n",
    "data_2000['FAMI_OCUPA_MADRE'] = data_2000['FAMI_OCUPA_MADRE'].replace('0', '00')\n",
    "data_2000['FAMI_OCUPA_MADRE'] = data_2000['FAMI_OCUPA_MADRE'].replace('@', 'NaN')\n",
    "data_2000['FAMI_OCUPA_MADRE'] = data_2000['FAMI_OCUPA_MADRE'].replace(np.nan, 'NaN')"
   ]
  },
  {
   "cell_type": "code",
   "execution_count": 42,
   "metadata": {
    "collapsed": false
   },
   "outputs": [
    {
     "name": "stdout",
     "output_type": "stream",
     "text": [
      "Index(['+', '1', '2', '3', '4', '5', '6', '7', '8', '9', '@'], dtype='object')\n",
      "+      819\n",
      "1    25279\n",
      "2    19469\n",
      "3    11925\n",
      "4     6252\n",
      "5     3669\n",
      "6     2256\n",
      "7     1463\n",
      "8     1012\n",
      "9      698\n",
      "@       19\n",
      "Name: FAMI_POSICION_HERMANOS, dtype: int64\n",
      "Elementos null/NaN 4765\n",
      "__________________\n",
      "Elementos diferentes de null/NaN: 72861\n",
      "__________________\n",
      "(72861,)\n",
      "None\n"
     ]
    }
   ],
   "source": [
    "print(data_2000['FAMI_POSICION_HERMANOS'].value_counts().sort_index().index)\n",
    "print(data_2000['FAMI_POSICION_HERMANOS'].value_counts().sort_index())\n",
    "print(missing_data(data_2000['FAMI_POSICION_HERMANOS']))"
   ]
  },
  {
   "cell_type": "code",
   "execution_count": 43,
   "metadata": {
    "collapsed": true
   },
   "outputs": [],
   "source": [
    "#Se eliminan las filas que tienen valores '@' y se cambia '+' por '+10'\n",
    "data_2000['FAMI_POSICION_HERMANOS'] = data_2000['FAMI_POSICION_HERMANOS'].replace('+', '+9')\n",
    "data_2000['FAMI_POSICION_HERMANOS'] = data_2000['FAMI_POSICION_HERMANOS'].replace('@', 'NaN')"
   ]
  },
  {
   "cell_type": "markdown",
   "metadata": {},
   "source": [
    "Now i can change the Problematic columns"
   ]
  },
  {
   "cell_type": "code",
   "execution_count": 44,
   "metadata": {
    "collapsed": false,
    "scrolled": true
   },
   "outputs": [
    {
     "name": "stdout",
     "output_type": "stream",
     "text": [
      "Index(['0', '0 000', '0000', '00000', '01', '01001', '01101', '0134', '01826',\n",
      "       '02',\n",
      "       ...\n",
      "       '@@0', '@@1', '@@149', '@@4', '@@6', '@@7', '@@9', '@@@', '@@@@9',\n",
      "       '@@@@@'],\n",
      "      dtype='object', length=2577)\n",
      "0         6\n",
      "0 000     1\n",
      "0000      1\n",
      "00000    50\n",
      "01        3\n",
      "01001     1\n",
      "01101     1\n",
      "0134      1\n",
      "01826     1\n",
      "02        1\n",
      "0206      1\n",
      "02113     1\n",
      "02150     1\n",
      "02823     1\n",
      "03301     1\n",
      "04107     1\n",
      "04108     2\n",
      "04118     3\n",
      "04702     2\n",
      "05        2\n",
      "05106     1\n",
      "05210     1\n",
      "06241     1\n",
      "0694@     1\n",
      "0704      1\n",
      "07953     1\n",
      "08105     1\n",
      "1        24\n",
      "1   0     1\n",
      "1  0      2\n",
      "         ..\n",
      "@3        1\n",
      "@30       1\n",
      "@304      1\n",
      "@30@@     1\n",
      "@33       1\n",
      "@3@       1\n",
      "@4        1\n",
      "@44       1\n",
      "@5        1\n",
      "@5 @      1\n",
      "@6@       1\n",
      "@811      1\n",
      "@8117     1\n",
      "@839      1\n",
      "@8@       1\n",
      "@92       1\n",
      "@@        9\n",
      "@@  6     1\n",
      "@@  9     1\n",
      "@@ 3      1\n",
      "@@0       2\n",
      "@@1       3\n",
      "@@149     1\n",
      "@@4       1\n",
      "@@6       1\n",
      "@@7       1\n",
      "@@9       1\n",
      "@@@       1\n",
      "@@@@9     1\n",
      "@@@@@     1\n",
      "Name: ESTU_CARRDESEADA_COD, dtype: int64\n",
      "Elementos null/NaN 4333\n",
      "__________________\n",
      "Elementos diferentes de null/NaN: 73293\n",
      "__________________\n",
      "(73293,)\n",
      "None\n"
     ]
    }
   ],
   "source": [
    "print(data_2000['ESTU_CARRDESEADA_COD'].value_counts().sort_index().index)\n",
    "print(data_2000['ESTU_CARRDESEADA_COD'].value_counts().sort_index())\n",
    "print(missing_data(data_2000['ESTU_CARRDESEADA_COD']))"
   ]
  },
  {
   "cell_type": "code",
   "execution_count": 45,
   "metadata": {
    "collapsed": true
   },
   "outputs": [],
   "source": [
    "\"\"\"Here i'm replacing the values with anomalies for NaN, and i will let the rows that has got any number because the \n",
    "codes of the programs are so diverse. And then i will put NaN where the values has some space or np.nan\"\"\"\n",
    "for i in data_2000['ESTU_CARRDESEADA_COD'].value_counts().sort_index().index:\n",
    "    if '@' in i:\n",
    "        data_2000['ESTU_CARRDESEADA_COD'] = data_2000['ESTU_CARRDESEADA_COD'].replace(i, 'NaN')\n",
    "    elif ' ' in i:\n",
    "        data_2000['ESTU_CARRDESEADA_COD'] = data_2000['ESTU_CARRDESEADA_COD'].replace(i, 'NaN')\n",
    "    elif i!='NaN':\n",
    "        if int(i)==0:\n",
    "            data_2000['ESTU_CARRDESEADA_COD'] = data_2000['ESTU_CARRDESEADA_COD'].replace(i, 'NaN')\n",
    "data_2000['ESTU_CARRDESEADA_COD'] = data_2000['ESTU_CARRDESEADA_COD'].replace(np.nan, 'NaN')"
   ]
  },
  {
   "cell_type": "code",
   "execution_count": 46,
   "metadata": {
    "collapsed": false,
    "scrolled": true
   },
   "outputs": [
    {
     "name": "stdout",
     "output_type": "stream",
     "text": [
      "Index(['0', '0 01', '0000', '0009', '001', '01', '01 @', '0111', '0123',\n",
      "       '0129',\n",
      "       ...\n",
      "       '@5', '@60', '@71', '@80', '@805', '@83', '@905', '@@', '@@@', '@@@@'],\n",
      "      dtype='object', length=792)\n",
      "0       13\n",
      "0 01     1\n",
      "0000    45\n",
      "0009     1\n",
      "001      3\n",
      "01       3\n",
      "01 @     1\n",
      "0111     1\n",
      "0123     1\n",
      "0129     1\n",
      "01@0     1\n",
      "0201     5\n",
      "0203    17\n",
      "0206     5\n",
      "0207     1\n",
      "0208     1\n",
      "0213     1\n",
      "0219     1\n",
      "0248     1\n",
      "03       5\n",
      "032      1\n",
      "0330     1\n",
      "034@     1\n",
      "03@      1\n",
      "04       5\n",
      "0446     1\n",
      "0488     1\n",
      "05       4\n",
      "0589     2\n",
      "06       3\n",
      "        ..\n",
      "@ 05     1\n",
      "@ 0@     1\n",
      "@ 16     2\n",
      "@ 33     2\n",
      "@ 80     1\n",
      "@ @      3\n",
      "@0       2\n",
      "@0 8     1\n",
      "@00      1\n",
      "@017     1\n",
      "@03      1\n",
      "@1       4\n",
      "@10      1\n",
      "@11      4\n",
      "@110     1\n",
      "@2       3\n",
      "@203     1\n",
      "@3       1\n",
      "@3 0     1\n",
      "@32      1\n",
      "@5       1\n",
      "@60      1\n",
      "@71      2\n",
      "@80      1\n",
      "@805     1\n",
      "@83      1\n",
      "@905     1\n",
      "@@      19\n",
      "@@@      1\n",
      "@@@@     9\n",
      "Name: ESTU_IES_COD_DESEADA, dtype: int64\n",
      "Elementos null/NaN 6664\n",
      "__________________\n",
      "Elementos diferentes de null/NaN: 70962\n",
      "__________________\n",
      "(70962,)\n",
      "None\n"
     ]
    }
   ],
   "source": [
    "print(data_2000['ESTU_IES_COD_DESEADA'].value_counts().sort_index().index)\n",
    "print(data_2000['ESTU_IES_COD_DESEADA'].value_counts().sort_index())\n",
    "print(missing_data(data_2000['ESTU_IES_COD_DESEADA']))"
   ]
  },
  {
   "cell_type": "code",
   "execution_count": 47,
   "metadata": {
    "collapsed": true
   },
   "outputs": [],
   "source": [
    "for i in data_2000['ESTU_IES_COD_DESEADA'].value_counts().sort_index().index:\n",
    "    if '@' in i:\n",
    "        data_2000['ESTU_IES_COD_DESEADA'] = data_2000['ESTU_IES_COD_DESEADA'].replace(i, 'NaN')\n",
    "    elif ' ' in i:\n",
    "        data_2000['ESTU_IES_COD_DESEADA'] = data_2000['ESTU_IES_COD_DESEADA'].replace(i, 'NaN')\n",
    "    elif i!='NaN':\n",
    "        if int(i)==0:\n",
    "            data_2000['ESTU_IES_COD_DESEADA'] = data_2000['ESTU_IES_COD_DESEADA'].replace(i, 'NaN')\n",
    "        elif len(i)<4:\n",
    "            data_2000['ESTU_IES_COD_DESEADA'] = data_2000['ESTU_IES_COD_DESEADA'].replace(i, 'NaN')\n",
    "        elif len(i)>4:\n",
    "            data_2000['ESTU_IES_COD_DESEADA'] = data_2000['ESTU_IES_COD_DESEADA'].replace(i, 'NaN')\n",
    "data_2000['ESTU_IES_COD_DESEADA'] = data_2000['ESTU_IES_COD_DESEADA'].replace(np.nan, 'NaN')"
   ]
  },
  {
   "cell_type": "code",
   "execution_count": 48,
   "metadata": {
    "collapsed": false,
    "scrolled": true
   },
   "outputs": [
    {
     "name": "stdout",
     "output_type": "stream",
     "text": [
      "Index(['0 0', '1 99', '19', '1900', '1920', '1960', '1962', '1964', '1967',\n",
      "       '1968', '1969', '1970', '1972', '1974', '1976', '1977', '1978', '1979',\n",
      "       '198', '1980', '1981', '1982', '1983', '1984', '1989', '199', '1990',\n",
      "       '1991', '1995', '1996', '1997', '1998', '1999', '199@', '19@9', '2',\n",
      "       '2  0', '2 0', '2 00', '20', '20 0', '20**', '20*0', '200', '2000',\n",
      "       '2001', '2002', '2011', '2020', '2090', '2099', '20@', '20@0', '20@@',\n",
      "       '2@00', '8316', '9', '99'],\n",
      "      dtype='object')\n",
      "0 0         1\n",
      "1 99        1\n",
      "19          1\n",
      "1900       13\n",
      "1920       15\n",
      "1960        1\n",
      "1962        1\n",
      "1964        1\n",
      "1967        1\n",
      "1968        1\n",
      "1969        5\n",
      "1970        1\n",
      "1972        1\n",
      "1974        1\n",
      "1976        1\n",
      "1977        6\n",
      "1978        4\n",
      "1979        5\n",
      "198         2\n",
      "1980        8\n",
      "1981        7\n",
      "1982        3\n",
      "1983        6\n",
      "1984        3\n",
      "1989        2\n",
      "199         8\n",
      "1990        1\n",
      "1991        2\n",
      "1995        1\n",
      "1996        1\n",
      "1997        6\n",
      "1998       14\n",
      "1999    16551\n",
      "199@        2\n",
      "19@9        1\n",
      "2           2\n",
      "2  0        2\n",
      "2 0         1\n",
      "2 00      112\n",
      "20         29\n",
      "20 0       59\n",
      "20**        4\n",
      "20*0        1\n",
      "200        63\n",
      "2000    60389\n",
      "2001       29\n",
      "2002        1\n",
      "2011       11\n",
      "2020       10\n",
      "2090        1\n",
      "2099        9\n",
      "20@         1\n",
      "20@0        4\n",
      "20@@        3\n",
      "2@00        1\n",
      "8316        1\n",
      "9           1\n",
      "99          2\n",
      "Name: IND_ANNO_TERMINO_BACHILLERATO, dtype: int64\n",
      "Elementos null/NaN 212\n",
      "__________________\n",
      "Elementos diferentes de null/NaN: 77414\n",
      "__________________\n",
      "(77414,)\n",
      "None\n"
     ]
    }
   ],
   "source": [
    "print(data_2000['IND_ANNO_TERMINO_BACHILLERATO'].value_counts().sort_index().index)\n",
    "print(data_2000['IND_ANNO_TERMINO_BACHILLERATO'].value_counts().sort_index())\n",
    "print(missing_data(data_2000['IND_ANNO_TERMINO_BACHILLERATO']))"
   ]
  },
  {
   "cell_type": "code",
   "execution_count": 49,
   "metadata": {
    "collapsed": false
   },
   "outputs": [],
   "source": [
    "for i in data_2000['IND_ANNO_TERMINO_BACHILLERATO'].value_counts().sort_index().index:\n",
    "    if '@' in i:\n",
    "        data_2000['IND_ANNO_TERMINO_BACHILLERATO'] = data_2000['IND_ANNO_TERMINO_BACHILLERATO'].replace(i, 'NaN')\n",
    "    elif '*' in i:\n",
    "        data_2000['IND_ANNO_TERMINO_BACHILLERATO'] = data_2000['IND_ANNO_TERMINO_BACHILLERATO'].replace(i, 'NaN')\n",
    "    elif ' ' in i:\n",
    "        data_2000['IND_ANNO_TERMINO_BACHILLERATO'] = data_2000['IND_ANNO_TERMINO_BACHILLERATO'].replace(i, 'NaN')\n",
    "    elif i!='NaN':\n",
    "        if int(i)==0:\n",
    "            data_2000['IND_ANNO_TERMINO_BACHILLERATO'] = data_2000['IND_ANNO_TERMINO_BACHILLERATO'].replace(i, 'NaN')\n",
    "        elif len(i)<4:\n",
    "            data_2000['IND_ANNO_TERMINO_BACHILLERATO'] = data_2000['IND_ANNO_TERMINO_BACHILLERATO'].replace(i, 'NaN')\n",
    "        elif len(i)>4:\n",
    "            data_2000['IND_ANNO_TERMINO_BACHILLERATO'] = data_2000['IND_ANNO_TERMINO_BACHILLERATO'].replace(i, 'NaN')\n",
    "        elif int(i)>2002:\n",
    "            data_2000['IND_ANNO_TERMINO_BACHILLERATO'] = data_2000['IND_ANNO_TERMINO_BACHILLERATO'].replace(i, 'NaN')\n",
    "data_2000['IND_ANNO_TERMINO_BACHILLERATO'] = data_2000['IND_ANNO_TERMINO_BACHILLERATO'].replace(np.nan, 'NaN')"
   ]
  },
  {
   "cell_type": "markdown",
   "metadata": {},
   "source": [
    "Deletion of the selected columns"
   ]
  },
  {
   "cell_type": "markdown",
   "metadata": {},
   "source": [
    "ELIMINACIONES (se eliminan porque se considera que no aportaran nada a la prediccion)\n",
    "\n",
    "- ESTU_CONSECUTIVO: Eliminada. no aporta para la prediccion ***ELIMINADA***\n",
    "- ESTU_LIMITA_SORDOINTERPRETE: No tiene valores en ninguna fila, ***ELIMINADA***"
   ]
  },
  {
   "cell_type": "code",
   "execution_count": 50,
   "metadata": {
    "collapsed": true
   },
   "outputs": [],
   "source": [
    "data_2000 = data_2000.drop(['ESTU_LIMITA_SORDOINTERPRETE', 'ESTU_CONSECUTIVO', 'COLE_NOMBRE_SEDE', 'ESTU_TIPO_DOCUMENTO'], axis=1)"
   ]
  },
  {
   "cell_type": "markdown",
   "metadata": {},
   "source": [
    "___________"
   ]
  },
  {
   "cell_type": "markdown",
   "metadata": {},
   "source": [
    "___________"
   ]
  },
  {
   "cell_type": "markdown",
   "metadata": {},
   "source": [
    "___________"
   ]
  },
  {
   "cell_type": "markdown",
   "metadata": {
    "collapsed": true
   },
   "source": [
    "# The second file is the 2000_2 that correspond to the second period of the year."
   ]
  },
  {
   "cell_type": "code",
   "execution_count": 51,
   "metadata": {
    "collapsed": false
   },
   "outputs": [
    {
     "name": "stderr",
     "output_type": "stream",
     "text": [
      "/usr/local/anaconda3/lib/python3.5/site-packages/IPython/core/interactiveshell.py:2723: DtypeWarning: Columns (5,7,12,13,15,16) have mixed types. Specify dtype option on import or set low_memory=False.\n",
      "  interactivity=interactivity, compiler=compiler, result=result)\n"
     ]
    }
   ],
   "source": [
    "data_2000_2 = pd.read_csv(\"../DatosFTPICFES/SABER11/SB11-BASES_DE_DATOS/SB11-20002-RGSTRO-CLFCCN-V1-0.txt\", delimiter=\"|\",\n",
    "                         encoding=\"iso-8859-1\")"
   ]
  },
  {
   "cell_type": "code",
   "execution_count": 52,
   "metadata": {
    "collapsed": false
   },
   "outputs": [
    {
     "data": {
      "text/plain": [
       "(354862, 58)"
      ]
     },
     "execution_count": 52,
     "metadata": {},
     "output_type": "execute_result"
    }
   ],
   "source": [
    "data_2000_2.shape"
   ]
  },
  {
   "cell_type": "code",
   "execution_count": 53,
   "metadata": {
    "collapsed": false,
    "scrolled": true
   },
   "outputs": [
    {
     "data": {
      "text/html": [
       "<div>\n",
       "<table border=\"1\" class=\"dataframe\">\n",
       "  <thead>\n",
       "    <tr style=\"text-align: right;\">\n",
       "      <th></th>\n",
       "      <th>0</th>\n",
       "      <th>1</th>\n",
       "      <th>2</th>\n",
       "    </tr>\n",
       "  </thead>\n",
       "  <tbody>\n",
       "    <tr>\n",
       "      <th>ESTU_CONSECUTIVO</th>\n",
       "      <td>SB11200020145911</td>\n",
       "      <td>SB11200020210439</td>\n",
       "      <td>SB11200020155853</td>\n",
       "    </tr>\n",
       "    <tr>\n",
       "      <th>COLE_COD_ICFES</th>\n",
       "      <td>75648</td>\n",
       "      <td>364</td>\n",
       "      <td>56820</td>\n",
       "    </tr>\n",
       "    <tr>\n",
       "      <th>COLE_NOMBRE_SEDE</th>\n",
       "      <td>LICEO ALCALDIA DE MEDELLIN</td>\n",
       "      <td>COLEGIO MARIA AUXILIADORA</td>\n",
       "      <td>INSTITUTO TECNOLOGICO METROPOLITANO</td>\n",
       "    </tr>\n",
       "    <tr>\n",
       "      <th>IND_ANNO_TERMINO_BACHILLERATO</th>\n",
       "      <td>2000</td>\n",
       "      <td>2000</td>\n",
       "      <td>2000</td>\n",
       "    </tr>\n",
       "    <tr>\n",
       "      <th>COLE_JORNADA</th>\n",
       "      <td>M</td>\n",
       "      <td>C</td>\n",
       "      <td>N</td>\n",
       "    </tr>\n",
       "    <tr>\n",
       "      <th>COLE_VALOR_PENSION</th>\n",
       "      <td>8</td>\n",
       "      <td>5</td>\n",
       "      <td>1</td>\n",
       "    </tr>\n",
       "    <tr>\n",
       "      <th>ESTU_GENERO</th>\n",
       "      <td>F</td>\n",
       "      <td>F</td>\n",
       "      <td>F</td>\n",
       "    </tr>\n",
       "    <tr>\n",
       "      <th>ESTU_NACIMIENTO_DIA</th>\n",
       "      <td>2</td>\n",
       "      <td>27</td>\n",
       "      <td>3</td>\n",
       "    </tr>\n",
       "    <tr>\n",
       "      <th>ESTU_NACIMIENTO_MES</th>\n",
       "      <td>1</td>\n",
       "      <td>4</td>\n",
       "      <td>1</td>\n",
       "    </tr>\n",
       "    <tr>\n",
       "      <th>ESTU_NACIMIENTO_ANNO</th>\n",
       "      <td>1984</td>\n",
       "      <td>1984</td>\n",
       "      <td>1978</td>\n",
       "    </tr>\n",
       "    <tr>\n",
       "      <th>ESTU_DEPTO_PRESENTACION</th>\n",
       "      <td>ANTIOQUIA</td>\n",
       "      <td>ANTIOQUIA</td>\n",
       "      <td>ANTIOQUIA</td>\n",
       "    </tr>\n",
       "    <tr>\n",
       "      <th>ESTU_MCPIO_PRESENTACION</th>\n",
       "      <td>MEDELLIN</td>\n",
       "      <td>MEDELLIN</td>\n",
       "      <td>MEDELLIN</td>\n",
       "    </tr>\n",
       "    <tr>\n",
       "      <th>ESTU_ETNIA</th>\n",
       "      <td>NaN</td>\n",
       "      <td>NaN</td>\n",
       "      <td>NaN</td>\n",
       "    </tr>\n",
       "    <tr>\n",
       "      <th>ESTU_LIMITA_INVIDENTE</th>\n",
       "      <td>NaN</td>\n",
       "      <td>NaN</td>\n",
       "      <td>NaN</td>\n",
       "    </tr>\n",
       "    <tr>\n",
       "      <th>ESTU_LIMITA_SORDOINTERPRETE</th>\n",
       "      <td>NaN</td>\n",
       "      <td>NaN</td>\n",
       "      <td>NaN</td>\n",
       "    </tr>\n",
       "    <tr>\n",
       "      <th>ESTU_LIMITA_SORDONOINTERPRETE</th>\n",
       "      <td>NaN</td>\n",
       "      <td>NaN</td>\n",
       "      <td>NaN</td>\n",
       "    </tr>\n",
       "    <tr>\n",
       "      <th>ESTU_LIMITA_MOTRIZ</th>\n",
       "      <td>NaN</td>\n",
       "      <td>NaN</td>\n",
       "      <td>NaN</td>\n",
       "    </tr>\n",
       "    <tr>\n",
       "      <th>PUNT_BIOLOGIA</th>\n",
       "      <td>49</td>\n",
       "      <td>48</td>\n",
       "      <td>42</td>\n",
       "    </tr>\n",
       "    <tr>\n",
       "      <th>PUNT_MATEMATICAS</th>\n",
       "      <td>39</td>\n",
       "      <td>47</td>\n",
       "      <td>40</td>\n",
       "    </tr>\n",
       "    <tr>\n",
       "      <th>PUNT_FILOSOFIA</th>\n",
       "      <td>48</td>\n",
       "      <td>57</td>\n",
       "      <td>53</td>\n",
       "    </tr>\n",
       "    <tr>\n",
       "      <th>PUNT_FISICA</th>\n",
       "      <td>44</td>\n",
       "      <td>52</td>\n",
       "      <td>44</td>\n",
       "    </tr>\n",
       "    <tr>\n",
       "      <th>PUNT_HISTORIA</th>\n",
       "      <td>46</td>\n",
       "      <td>46</td>\n",
       "      <td>46</td>\n",
       "    </tr>\n",
       "    <tr>\n",
       "      <th>PUNT_QUIMICA</th>\n",
       "      <td>47</td>\n",
       "      <td>38</td>\n",
       "      <td>42</td>\n",
       "    </tr>\n",
       "    <tr>\n",
       "      <th>PUNT_LENGUAJE</th>\n",
       "      <td>55</td>\n",
       "      <td>52</td>\n",
       "      <td>43</td>\n",
       "    </tr>\n",
       "    <tr>\n",
       "      <th>PUNT_GEOGRAFIA</th>\n",
       "      <td>40</td>\n",
       "      <td>49</td>\n",
       "      <td>45</td>\n",
       "    </tr>\n",
       "    <tr>\n",
       "      <th>COD_INTERDISCIPLINAR</th>\n",
       "      <td>43</td>\n",
       "      <td>43</td>\n",
       "      <td>43</td>\n",
       "    </tr>\n",
       "    <tr>\n",
       "      <th>PUNT_INTERDISCIPLINAR</th>\n",
       "      <td>51</td>\n",
       "      <td>25</td>\n",
       "      <td>44</td>\n",
       "    </tr>\n",
       "    <tr>\n",
       "      <th>COD_IDIOMA</th>\n",
       "      <td>51</td>\n",
       "      <td>51</td>\n",
       "      <td>51</td>\n",
       "    </tr>\n",
       "    <tr>\n",
       "      <th>PUNT_IDIOMA</th>\n",
       "      <td>37</td>\n",
       "      <td>42</td>\n",
       "      <td>43</td>\n",
       "    </tr>\n",
       "    <tr>\n",
       "      <th>ESTU_IES_COD_DESEADA</th>\n",
       "      <td>NaN</td>\n",
       "      <td>1712</td>\n",
       "      <td>1201</td>\n",
       "    </tr>\n",
       "    <tr>\n",
       "      <th>ESTU_RAZONINSTITUTO</th>\n",
       "      <td>NaN</td>\n",
       "      <td>7</td>\n",
       "      <td>3</td>\n",
       "    </tr>\n",
       "    <tr>\n",
       "      <th>ESTU_CARRDESEADA_COD</th>\n",
       "      <td>NaN</td>\n",
       "      <td>48117</td>\n",
       "      <td>12136</td>\n",
       "    </tr>\n",
       "    <tr>\n",
       "      <th>ESTU_CARRDESEADA_RAZON</th>\n",
       "      <td>NaN</td>\n",
       "      <td>3</td>\n",
       "      <td>5</td>\n",
       "    </tr>\n",
       "    <tr>\n",
       "      <th>FAMI_PERSONAS_HOGAR</th>\n",
       "      <td>4</td>\n",
       "      <td>4</td>\n",
       "      <td>6</td>\n",
       "    </tr>\n",
       "    <tr>\n",
       "      <th>FAMI_VIVIENDA_PROPIA</th>\n",
       "      <td>S</td>\n",
       "      <td>S</td>\n",
       "      <td>S</td>\n",
       "    </tr>\n",
       "    <tr>\n",
       "      <th>FAMI_DEUDA_VIVIENDA</th>\n",
       "      <td>N</td>\n",
       "      <td>NaN</td>\n",
       "      <td>N</td>\n",
       "    </tr>\n",
       "    <tr>\n",
       "      <th>FAMI_APORTANTES</th>\n",
       "      <td>2</td>\n",
       "      <td>1</td>\n",
       "      <td>1</td>\n",
       "    </tr>\n",
       "    <tr>\n",
       "      <th>FAMI_INGRESO_FMILIAR_MENSUAL</th>\n",
       "      <td>1</td>\n",
       "      <td>1</td>\n",
       "      <td>1</td>\n",
       "    </tr>\n",
       "    <tr>\n",
       "      <th>FAMI_LEE_ESCRIBE_PADRE</th>\n",
       "      <td>S</td>\n",
       "      <td>S</td>\n",
       "      <td>S</td>\n",
       "    </tr>\n",
       "    <tr>\n",
       "      <th>FAMI_LEE_ESCRIBE_MADRE</th>\n",
       "      <td>S</td>\n",
       "      <td>S</td>\n",
       "      <td>S</td>\n",
       "    </tr>\n",
       "    <tr>\n",
       "      <th>FAMI_EDUCA_PADRE</th>\n",
       "      <td>4</td>\n",
       "      <td>7</td>\n",
       "      <td>3</td>\n",
       "    </tr>\n",
       "    <tr>\n",
       "      <th>FAMI_EDUCA_MADRE</th>\n",
       "      <td>4</td>\n",
       "      <td>7</td>\n",
       "      <td>3</td>\n",
       "    </tr>\n",
       "    <tr>\n",
       "      <th>FAMI_OCUPA_PADRE</th>\n",
       "      <td>09</td>\n",
       "      <td>04</td>\n",
       "      <td>08</td>\n",
       "    </tr>\n",
       "    <tr>\n",
       "      <th>FAMI_OCUPA_MADRE</th>\n",
       "      <td>09</td>\n",
       "      <td>04</td>\n",
       "      <td>10</td>\n",
       "    </tr>\n",
       "    <tr>\n",
       "      <th>FAMI_NUM_HERMANOS</th>\n",
       "      <td>6</td>\n",
       "      <td>1</td>\n",
       "      <td>2</td>\n",
       "    </tr>\n",
       "    <tr>\n",
       "      <th>FAMI_NUM_HERMANOS_EDUSUPERIOR</th>\n",
       "      <td>0</td>\n",
       "      <td>1</td>\n",
       "      <td>1</td>\n",
       "    </tr>\n",
       "    <tr>\n",
       "      <th>FAMI_POSICION_HERMANOS</th>\n",
       "      <td>6</td>\n",
       "      <td>2</td>\n",
       "      <td>1</td>\n",
       "    </tr>\n",
       "    <tr>\n",
       "      <th>FAMI_SOST_PERSONAL</th>\n",
       "      <td>T</td>\n",
       "      <td>T</td>\n",
       "      <td>T</td>\n",
       "    </tr>\n",
       "    <tr>\n",
       "      <th>ESTU_TRABAJA</th>\n",
       "      <td>N</td>\n",
       "      <td>N</td>\n",
       "      <td>N</td>\n",
       "    </tr>\n",
       "    <tr>\n",
       "      <th>ESTU_ACT_PROX_ANNO</th>\n",
       "      <td>3</td>\n",
       "      <td>1</td>\n",
       "      <td>3</td>\n",
       "    </tr>\n",
       "    <tr>\n",
       "      <th>COLE_CALENDARIO</th>\n",
       "      <td>A</td>\n",
       "      <td>A</td>\n",
       "      <td>F</td>\n",
       "    </tr>\n",
       "    <tr>\n",
       "      <th>COLE_BILINGUE</th>\n",
       "      <td>NaN</td>\n",
       "      <td>NaN</td>\n",
       "      <td>NaN</td>\n",
       "    </tr>\n",
       "    <tr>\n",
       "      <th>COLE_CARACTER</th>\n",
       "      <td>ACADEMICO</td>\n",
       "      <td>ACADEMICO</td>\n",
       "      <td>ACADEMICO Y TECNICO</td>\n",
       "    </tr>\n",
       "    <tr>\n",
       "      <th>COLE_DEPTO_UBICACION</th>\n",
       "      <td>ANTIOQUIA</td>\n",
       "      <td>ANTIOQUIA</td>\n",
       "      <td>ANTIOQUIA</td>\n",
       "    </tr>\n",
       "    <tr>\n",
       "      <th>COLE_MCPIO_UBICACION</th>\n",
       "      <td>MEDELLIN</td>\n",
       "      <td>MEDELLIN</td>\n",
       "      <td>MEDELLIN</td>\n",
       "    </tr>\n",
       "    <tr>\n",
       "      <th>ESTU_TIPO_DOCUMENTO</th>\n",
       "      <td>T</td>\n",
       "      <td>T</td>\n",
       "      <td>C</td>\n",
       "    </tr>\n",
       "    <tr>\n",
       "      <th>ESTU_RESIDE_DEPTO</th>\n",
       "      <td>ANTIOQUIA</td>\n",
       "      <td>ANTIOQUIA</td>\n",
       "      <td>ANTIOQUIA</td>\n",
       "    </tr>\n",
       "    <tr>\n",
       "      <th>ESTU_RESIDE_MCPIO</th>\n",
       "      <td>MEDELLIN</td>\n",
       "      <td>MEDELLIN</td>\n",
       "      <td>MEDELLIN</td>\n",
       "    </tr>\n",
       "  </tbody>\n",
       "</table>\n",
       "</div>"
      ],
      "text/plain": [
       "                                                        0  \\\n",
       "ESTU_CONSECUTIVO                         SB11200020145911   \n",
       "COLE_COD_ICFES                                      75648   \n",
       "COLE_NOMBRE_SEDE               LICEO ALCALDIA DE MEDELLIN   \n",
       "IND_ANNO_TERMINO_BACHILLERATO                        2000   \n",
       "COLE_JORNADA                                            M   \n",
       "COLE_VALOR_PENSION                                      8   \n",
       "ESTU_GENERO                                             F   \n",
       "ESTU_NACIMIENTO_DIA                                     2   \n",
       "ESTU_NACIMIENTO_MES                                     1   \n",
       "ESTU_NACIMIENTO_ANNO                                 1984   \n",
       "ESTU_DEPTO_PRESENTACION                         ANTIOQUIA   \n",
       "ESTU_MCPIO_PRESENTACION                          MEDELLIN   \n",
       "ESTU_ETNIA                                            NaN   \n",
       "ESTU_LIMITA_INVIDENTE                                 NaN   \n",
       "ESTU_LIMITA_SORDOINTERPRETE                           NaN   \n",
       "ESTU_LIMITA_SORDONOINTERPRETE                         NaN   \n",
       "ESTU_LIMITA_MOTRIZ                                    NaN   \n",
       "PUNT_BIOLOGIA                                          49   \n",
       "PUNT_MATEMATICAS                                       39   \n",
       "PUNT_FILOSOFIA                                         48   \n",
       "PUNT_FISICA                                            44   \n",
       "PUNT_HISTORIA                                          46   \n",
       "PUNT_QUIMICA                                           47   \n",
       "PUNT_LENGUAJE                                          55   \n",
       "PUNT_GEOGRAFIA                                         40   \n",
       "COD_INTERDISCIPLINAR                                   43   \n",
       "PUNT_INTERDISCIPLINAR                                  51   \n",
       "COD_IDIOMA                                             51   \n",
       "PUNT_IDIOMA                                            37   \n",
       "ESTU_IES_COD_DESEADA                                  NaN   \n",
       "ESTU_RAZONINSTITUTO                                   NaN   \n",
       "ESTU_CARRDESEADA_COD                                  NaN   \n",
       "ESTU_CARRDESEADA_RAZON                                NaN   \n",
       "FAMI_PERSONAS_HOGAR                                     4   \n",
       "FAMI_VIVIENDA_PROPIA                                    S   \n",
       "FAMI_DEUDA_VIVIENDA                                     N   \n",
       "FAMI_APORTANTES                                         2   \n",
       "FAMI_INGRESO_FMILIAR_MENSUAL                            1   \n",
       "FAMI_LEE_ESCRIBE_PADRE                                  S   \n",
       "FAMI_LEE_ESCRIBE_MADRE                                  S   \n",
       "FAMI_EDUCA_PADRE                                        4   \n",
       "FAMI_EDUCA_MADRE                                        4   \n",
       "FAMI_OCUPA_PADRE                                       09   \n",
       "FAMI_OCUPA_MADRE                                       09   \n",
       "FAMI_NUM_HERMANOS                                       6   \n",
       "FAMI_NUM_HERMANOS_EDUSUPERIOR                           0   \n",
       "FAMI_POSICION_HERMANOS                                  6   \n",
       "FAMI_SOST_PERSONAL                                      T   \n",
       "ESTU_TRABAJA                                            N   \n",
       "ESTU_ACT_PROX_ANNO                                      3   \n",
       "COLE_CALENDARIO                                         A   \n",
       "COLE_BILINGUE                                         NaN   \n",
       "COLE_CARACTER                                   ACADEMICO   \n",
       "COLE_DEPTO_UBICACION                            ANTIOQUIA   \n",
       "COLE_MCPIO_UBICACION                             MEDELLIN   \n",
       "ESTU_TIPO_DOCUMENTO                                     T   \n",
       "ESTU_RESIDE_DEPTO                               ANTIOQUIA   \n",
       "ESTU_RESIDE_MCPIO                                MEDELLIN   \n",
       "\n",
       "                                                       1  \\\n",
       "ESTU_CONSECUTIVO                        SB11200020210439   \n",
       "COLE_COD_ICFES                                       364   \n",
       "COLE_NOMBRE_SEDE               COLEGIO MARIA AUXILIADORA   \n",
       "IND_ANNO_TERMINO_BACHILLERATO                       2000   \n",
       "COLE_JORNADA                                           C   \n",
       "COLE_VALOR_PENSION                                     5   \n",
       "ESTU_GENERO                                            F   \n",
       "ESTU_NACIMIENTO_DIA                                   27   \n",
       "ESTU_NACIMIENTO_MES                                    4   \n",
       "ESTU_NACIMIENTO_ANNO                                1984   \n",
       "ESTU_DEPTO_PRESENTACION                        ANTIOQUIA   \n",
       "ESTU_MCPIO_PRESENTACION                         MEDELLIN   \n",
       "ESTU_ETNIA                                           NaN   \n",
       "ESTU_LIMITA_INVIDENTE                                NaN   \n",
       "ESTU_LIMITA_SORDOINTERPRETE                          NaN   \n",
       "ESTU_LIMITA_SORDONOINTERPRETE                        NaN   \n",
       "ESTU_LIMITA_MOTRIZ                                   NaN   \n",
       "PUNT_BIOLOGIA                                         48   \n",
       "PUNT_MATEMATICAS                                      47   \n",
       "PUNT_FILOSOFIA                                        57   \n",
       "PUNT_FISICA                                           52   \n",
       "PUNT_HISTORIA                                         46   \n",
       "PUNT_QUIMICA                                          38   \n",
       "PUNT_LENGUAJE                                         52   \n",
       "PUNT_GEOGRAFIA                                        49   \n",
       "COD_INTERDISCIPLINAR                                  43   \n",
       "PUNT_INTERDISCIPLINAR                                 25   \n",
       "COD_IDIOMA                                            51   \n",
       "PUNT_IDIOMA                                           42   \n",
       "ESTU_IES_COD_DESEADA                                1712   \n",
       "ESTU_RAZONINSTITUTO                                    7   \n",
       "ESTU_CARRDESEADA_COD                               48117   \n",
       "ESTU_CARRDESEADA_RAZON                                 3   \n",
       "FAMI_PERSONAS_HOGAR                                    4   \n",
       "FAMI_VIVIENDA_PROPIA                                   S   \n",
       "FAMI_DEUDA_VIVIENDA                                  NaN   \n",
       "FAMI_APORTANTES                                        1   \n",
       "FAMI_INGRESO_FMILIAR_MENSUAL                           1   \n",
       "FAMI_LEE_ESCRIBE_PADRE                                 S   \n",
       "FAMI_LEE_ESCRIBE_MADRE                                 S   \n",
       "FAMI_EDUCA_PADRE                                       7   \n",
       "FAMI_EDUCA_MADRE                                       7   \n",
       "FAMI_OCUPA_PADRE                                      04   \n",
       "FAMI_OCUPA_MADRE                                      04   \n",
       "FAMI_NUM_HERMANOS                                      1   \n",
       "FAMI_NUM_HERMANOS_EDUSUPERIOR                          1   \n",
       "FAMI_POSICION_HERMANOS                                 2   \n",
       "FAMI_SOST_PERSONAL                                     T   \n",
       "ESTU_TRABAJA                                           N   \n",
       "ESTU_ACT_PROX_ANNO                                     1   \n",
       "COLE_CALENDARIO                                        A   \n",
       "COLE_BILINGUE                                        NaN   \n",
       "COLE_CARACTER                                  ACADEMICO   \n",
       "COLE_DEPTO_UBICACION                           ANTIOQUIA   \n",
       "COLE_MCPIO_UBICACION                            MEDELLIN   \n",
       "ESTU_TIPO_DOCUMENTO                                    T   \n",
       "ESTU_RESIDE_DEPTO                              ANTIOQUIA   \n",
       "ESTU_RESIDE_MCPIO                               MEDELLIN   \n",
       "\n",
       "                                                                 2  \n",
       "ESTU_CONSECUTIVO                                  SB11200020155853  \n",
       "COLE_COD_ICFES                                               56820  \n",
       "COLE_NOMBRE_SEDE               INSTITUTO TECNOLOGICO METROPOLITANO  \n",
       "IND_ANNO_TERMINO_BACHILLERATO                                 2000  \n",
       "COLE_JORNADA                                                     N  \n",
       "COLE_VALOR_PENSION                                               1  \n",
       "ESTU_GENERO                                                      F  \n",
       "ESTU_NACIMIENTO_DIA                                              3  \n",
       "ESTU_NACIMIENTO_MES                                              1  \n",
       "ESTU_NACIMIENTO_ANNO                                          1978  \n",
       "ESTU_DEPTO_PRESENTACION                                  ANTIOQUIA  \n",
       "ESTU_MCPIO_PRESENTACION                                   MEDELLIN  \n",
       "ESTU_ETNIA                                                     NaN  \n",
       "ESTU_LIMITA_INVIDENTE                                          NaN  \n",
       "ESTU_LIMITA_SORDOINTERPRETE                                    NaN  \n",
       "ESTU_LIMITA_SORDONOINTERPRETE                                  NaN  \n",
       "ESTU_LIMITA_MOTRIZ                                             NaN  \n",
       "PUNT_BIOLOGIA                                                   42  \n",
       "PUNT_MATEMATICAS                                                40  \n",
       "PUNT_FILOSOFIA                                                  53  \n",
       "PUNT_FISICA                                                     44  \n",
       "PUNT_HISTORIA                                                   46  \n",
       "PUNT_QUIMICA                                                    42  \n",
       "PUNT_LENGUAJE                                                   43  \n",
       "PUNT_GEOGRAFIA                                                  45  \n",
       "COD_INTERDISCIPLINAR                                            43  \n",
       "PUNT_INTERDISCIPLINAR                                           44  \n",
       "COD_IDIOMA                                                      51  \n",
       "PUNT_IDIOMA                                                     43  \n",
       "ESTU_IES_COD_DESEADA                                          1201  \n",
       "ESTU_RAZONINSTITUTO                                              3  \n",
       "ESTU_CARRDESEADA_COD                                         12136  \n",
       "ESTU_CARRDESEADA_RAZON                                           5  \n",
       "FAMI_PERSONAS_HOGAR                                              6  \n",
       "FAMI_VIVIENDA_PROPIA                                             S  \n",
       "FAMI_DEUDA_VIVIENDA                                              N  \n",
       "FAMI_APORTANTES                                                  1  \n",
       "FAMI_INGRESO_FMILIAR_MENSUAL                                     1  \n",
       "FAMI_LEE_ESCRIBE_PADRE                                           S  \n",
       "FAMI_LEE_ESCRIBE_MADRE                                           S  \n",
       "FAMI_EDUCA_PADRE                                                 3  \n",
       "FAMI_EDUCA_MADRE                                                 3  \n",
       "FAMI_OCUPA_PADRE                                                08  \n",
       "FAMI_OCUPA_MADRE                                                10  \n",
       "FAMI_NUM_HERMANOS                                                2  \n",
       "FAMI_NUM_HERMANOS_EDUSUPERIOR                                    1  \n",
       "FAMI_POSICION_HERMANOS                                           1  \n",
       "FAMI_SOST_PERSONAL                                               T  \n",
       "ESTU_TRABAJA                                                     N  \n",
       "ESTU_ACT_PROX_ANNO                                               3  \n",
       "COLE_CALENDARIO                                                  F  \n",
       "COLE_BILINGUE                                                  NaN  \n",
       "COLE_CARACTER                                  ACADEMICO Y TECNICO  \n",
       "COLE_DEPTO_UBICACION                                     ANTIOQUIA  \n",
       "COLE_MCPIO_UBICACION                                      MEDELLIN  \n",
       "ESTU_TIPO_DOCUMENTO                                              C  \n",
       "ESTU_RESIDE_DEPTO                                        ANTIOQUIA  \n",
       "ESTU_RESIDE_MCPIO                                         MEDELLIN  "
      ]
     },
     "execution_count": 53,
     "metadata": {},
     "output_type": "execute_result"
    }
   ],
   "source": [
    "data_2000_2.head(3).T"
   ]
  },
  {
   "cell_type": "markdown",
   "metadata": {},
   "source": [
    "The first thing i want to do is delete the columns that does not contribute to the task"
   ]
  },
  {
   "cell_type": "markdown",
   "metadata": {},
   "source": [
    "The columns that does not contribute to the task are:\n",
    "- ESTU_CONSECUTIVO\n",
    "- COLE_NOMBRE_SEDE\n",
    "- ESTU_TIPO_DOCUMENTO"
   ]
  },
  {
   "cell_type": "code",
   "execution_count": 54,
   "metadata": {
    "collapsed": false
   },
   "outputs": [],
   "source": [
    "data_2000_2 = data_2000_2.drop(['ESTU_CONSECUTIVO', 'COLE_NOMBRE_SEDE', 'ESTU_TIPO_DOCUMENTO', 'COLE_COD_ICFES'], axis=1)"
   ]
  },
  {
   "cell_type": "markdown",
   "metadata": {},
   "source": [
    "Now i can check the other columns to delete the lines that has strange characters and to decide what to do with the NaN values"
   ]
  },
  {
   "cell_type": "code",
   "execution_count": 55,
   "metadata": {
    "collapsed": false
   },
   "outputs": [
    {
     "data": {
      "text/plain": [
       "Index(['IND_ANNO_TERMINO_BACHILLERATO', 'COLE_JORNADA', 'COLE_VALOR_PENSION',\n",
       "       'ESTU_GENERO', 'ESTU_NACIMIENTO_DIA', 'ESTU_NACIMIENTO_MES',\n",
       "       'ESTU_NACIMIENTO_ANNO', 'ESTU_DEPTO_PRESENTACION',\n",
       "       'ESTU_MCPIO_PRESENTACION', 'ESTU_ETNIA', 'ESTU_LIMITA_INVIDENTE',\n",
       "       'ESTU_LIMITA_SORDOINTERPRETE', 'ESTU_LIMITA_SORDONOINTERPRETE',\n",
       "       'ESTU_LIMITA_MOTRIZ', 'PUNT_BIOLOGIA', 'PUNT_MATEMATICAS',\n",
       "       'PUNT_FILOSOFIA', 'PUNT_FISICA', 'PUNT_HISTORIA', 'PUNT_QUIMICA',\n",
       "       'PUNT_LENGUAJE', 'PUNT_GEOGRAFIA', 'COD_INTERDISCIPLINAR',\n",
       "       'PUNT_INTERDISCIPLINAR', 'COD_IDIOMA', 'PUNT_IDIOMA',\n",
       "       'ESTU_IES_COD_DESEADA', 'ESTU_RAZONINSTITUTO', 'ESTU_CARRDESEADA_COD',\n",
       "       'ESTU_CARRDESEADA_RAZON', 'FAMI_PERSONAS_HOGAR', 'FAMI_VIVIENDA_PROPIA',\n",
       "       'FAMI_DEUDA_VIVIENDA', 'FAMI_APORTANTES',\n",
       "       'FAMI_INGRESO_FMILIAR_MENSUAL', 'FAMI_LEE_ESCRIBE_PADRE',\n",
       "       'FAMI_LEE_ESCRIBE_MADRE', 'FAMI_EDUCA_PADRE', 'FAMI_EDUCA_MADRE',\n",
       "       'FAMI_OCUPA_PADRE', 'FAMI_OCUPA_MADRE', 'FAMI_NUM_HERMANOS',\n",
       "       'FAMI_NUM_HERMANOS_EDUSUPERIOR', 'FAMI_POSICION_HERMANOS',\n",
       "       'FAMI_SOST_PERSONAL', 'ESTU_TRABAJA', 'ESTU_ACT_PROX_ANNO',\n",
       "       'COLE_CALENDARIO', 'COLE_BILINGUE', 'COLE_CARACTER',\n",
       "       'COLE_DEPTO_UBICACION', 'COLE_MCPIO_UBICACION', 'ESTU_RESIDE_DEPTO',\n",
       "       'ESTU_RESIDE_MCPIO'],\n",
       "      dtype='object')"
      ]
     },
     "execution_count": 55,
     "metadata": {},
     "output_type": "execute_result"
    }
   ],
   "source": [
    "data_2000_2.columns"
   ]
  },
  {
   "cell_type": "code",
   "execution_count": 56,
   "metadata": {
    "collapsed": false,
    "scrolled": true
   },
   "outputs": [
    {
     "name": "stdout",
     "output_type": "stream",
     "text": [
      "Index(['1959', '1979', '1980', '1981', '1982', '1983', '1984', '1987', '1988',\n",
      "       '1989', '1991', '1992', '1993', '1994', '1995', '1996', '1997', '1998',\n",
      "       '1999', '2', '2  0', '2  1', '2 *0', '2 0', '2 00', '2*00', '20',\n",
      "       '20 *', '20 0', '20 1', '20*', '20**', '20*0', '200', '200*', '2000',\n",
      "       '2001', '2002', '2006', '201', '2010', '2011', '2020', '2022', '2030',\n",
      "       '2060', '2099'],\n",
      "      dtype='object')\n",
      "1959         1\n",
      "1979         1\n",
      "1980         1\n",
      "1981         1\n",
      "1982         1\n",
      "1983         1\n",
      "1984         1\n",
      "1987         1\n",
      "1988         1\n",
      "1989         3\n",
      "1991         2\n",
      "1992         1\n",
      "1993         2\n",
      "1994         1\n",
      "1995         4\n",
      "1996         6\n",
      "1997         7\n",
      "1998        20\n",
      "1999       226\n",
      "2           74\n",
      "2  0        58\n",
      "2  1         1\n",
      "2 *0         1\n",
      "2 0         30\n",
      "2 00      1140\n",
      "2*00         4\n",
      "20         152\n",
      "20 *         2\n",
      "20 0       458\n",
      "20 1         1\n",
      "20*          2\n",
      "20**         5\n",
      "20*0         7\n",
      "200        306\n",
      "200*         2\n",
      "2000    352083\n",
      "2001       122\n",
      "2002         3\n",
      "2006         1\n",
      "201          2\n",
      "2010        16\n",
      "2011        36\n",
      "2020         1\n",
      "2022         1\n",
      "2030         1\n",
      "2060         1\n",
      "2099         2\n",
      "Name: IND_ANNO_TERMINO_BACHILLERATO, dtype: int64\n",
      "Elementos null/NaN 69\n",
      "__________________\n",
      "Elementos diferentes de null/NaN: 354793\n",
      "__________________\n",
      "(354793,)\n",
      "None\n"
     ]
    }
   ],
   "source": [
    "\"\"\"There are some years that are not valid, so this lines will be deleted\"\"\"\n",
    "print(data_2000_2['IND_ANNO_TERMINO_BACHILLERATO'].value_counts().sort_index().index)\n",
    "print(data_2000_2['IND_ANNO_TERMINO_BACHILLERATO'].value_counts().sort_index())\n",
    "print(missing_data(data_2000_2['IND_ANNO_TERMINO_BACHILLERATO']))"
   ]
  },
  {
   "cell_type": "code",
   "execution_count": 57,
   "metadata": {
    "collapsed": true
   },
   "outputs": [],
   "source": [
    "for i in data_2000_2['IND_ANNO_TERMINO_BACHILLERATO'].value_counts().sort_index().index:\n",
    "    if \"*\" in i:\n",
    "        data_2000_2['IND_ANNO_TERMINO_BACHILLERATO'] = data_2000_2['IND_ANNO_TERMINO_BACHILLERATO'].replace(i, 'NaN')\n",
    "    elif (' ' in i):\n",
    "        data_2000_2['IND_ANNO_TERMINO_BACHILLERATO'] = data_2000_2['IND_ANNO_TERMINO_BACHILLERATO'].replace(i, 'NaN')\n",
    "    elif (len(i)<4):\n",
    "        data_2000_2['IND_ANNO_TERMINO_BACHILLERATO'] = data_2000_2['IND_ANNO_TERMINO_BACHILLERATO'].replace(i, 'NaN')\n",
    "    elif (int(i) > 2002):\n",
    "        data_2000_2['IND_ANNO_TERMINO_BACHILLERATO'] = data_2000_2['IND_ANNO_TERMINO_BACHILLERATO'].replace(i, 'NaN')"
   ]
  },
  {
   "cell_type": "code",
   "execution_count": 58,
   "metadata": {
    "collapsed": true
   },
   "outputs": [],
   "source": [
    "\"\"\"So now i can replace the np.nan values for strings 'NaN' \"\"\"\n",
    "data_2000_2['IND_ANNO_TERMINO_BACHILLERATO'] = data_2000_2['IND_ANNO_TERMINO_BACHILLERATO'].replace(np.nan, 'NaN')"
   ]
  },
  {
   "cell_type": "code",
   "execution_count": 59,
   "metadata": {
    "collapsed": false,
    "scrolled": true
   },
   "outputs": [
    {
     "name": "stdout",
     "output_type": "stream",
     "text": [
      "Index(['C', 'M', 'N', 'S', 'T'], dtype='object')\n",
      "C     82722\n",
      "M    147493\n",
      "N     47287\n",
      "S       463\n",
      "T     76897\n",
      "Name: COLE_JORNADA, dtype: int64\n",
      "Elementos null/NaN 0\n",
      "__________________\n",
      "Elementos diferentes de null/NaN: 354862\n",
      "__________________\n",
      "(354862,)\n",
      "None\n"
     ]
    }
   ],
   "source": [
    "\"\"\"This columns looks good\"\"\"\n",
    "print(data_2000_2['COLE_JORNADA'].value_counts().sort_index().index)\n",
    "print(data_2000_2['COLE_JORNADA'].value_counts().sort_index())\n",
    "print(missing_data(data_2000_2['COLE_JORNADA']))"
   ]
  },
  {
   "cell_type": "code",
   "execution_count": 60,
   "metadata": {
    "collapsed": false,
    "scrolled": true
   },
   "outputs": [
    {
     "name": "stdout",
     "output_type": "stream",
     "text": [
      "Index(['1', '8', 1.0, 8.0, '2', '3', '4', '5', '6', 2.0, 3.0, 4.0, 5.0, '7',\n",
      "       6.0, 7.0, '*'],\n",
      "      dtype='object')\n",
      "1      100240\n",
      "8       61989\n",
      "1.0     39398\n",
      "8.0     28857\n",
      "2       23349\n",
      "3       18586\n",
      "4       14797\n",
      "5       11036\n",
      "6        8632\n",
      "2.0      7584\n",
      "3.0      5725\n",
      "4.0      5342\n",
      "5.0      4839\n",
      "7        2592\n",
      "6.0      1837\n",
      "7.0       505\n",
      "*          28\n",
      "Name: COLE_VALOR_PENSION, dtype: int64\n",
      "Elementos null/NaN 19526\n",
      "__________________\n",
      "Elementos diferentes de null/NaN: 335336\n",
      "__________________\n",
      "(335336,)\n",
      "None\n"
     ]
    }
   ],
   "source": [
    "\"\"\"Obtained an error, this happens because of the combination of strings a numbers in just one column, so\n",
    "i decide to do a first treatment, just replacing this np.nan values for 'NaN' (String) values.\"\"\"\n",
    "print(data_2000_2['COLE_VALOR_PENSION'].value_counts().index)\n",
    "print(data_2000_2['COLE_VALOR_PENSION'].value_counts())\n",
    "print(missing_data(data_2000_2['COLE_VALOR_PENSION']))"
   ]
  },
  {
   "cell_type": "code",
   "execution_count": 61,
   "metadata": {
    "collapsed": true
   },
   "outputs": [],
   "source": [
    "data_2000_2['COLE_VALOR_PENSION'] = data_2000_2['COLE_VALOR_PENSION'].replace(1.0, '1')\n",
    "data_2000_2['COLE_VALOR_PENSION'] = data_2000_2['COLE_VALOR_PENSION'].replace(2.0, '2')\n",
    "data_2000_2['COLE_VALOR_PENSION'] = data_2000_2['COLE_VALOR_PENSION'].replace(3.0, '3')\n",
    "data_2000_2['COLE_VALOR_PENSION'] = data_2000_2['COLE_VALOR_PENSION'].replace(4.0, '4')\n",
    "data_2000_2['COLE_VALOR_PENSION'] = data_2000_2['COLE_VALOR_PENSION'].replace(5.0, '5')\n",
    "data_2000_2['COLE_VALOR_PENSION'] = data_2000_2['COLE_VALOR_PENSION'].replace(6.0, '6')\n",
    "data_2000_2['COLE_VALOR_PENSION'] = data_2000_2['COLE_VALOR_PENSION'].replace(7.0, '7')\n",
    "data_2000_2['COLE_VALOR_PENSION'] = data_2000_2['COLE_VALOR_PENSION'].replace(8.0, '8')\n",
    "data_2000_2['COLE_VALOR_PENSION'] = data_2000_2['COLE_VALOR_PENSION'].replace('*', 'NaN')"
   ]
  },
  {
   "cell_type": "code",
   "execution_count": 62,
   "metadata": {
    "collapsed": false,
    "scrolled": true
   },
   "outputs": [],
   "source": [
    "\"\"\"Here i replace this np.NaN values for strings 'NaN'.\"\"\"\n",
    "data_2000_2['COLE_VALOR_PENSION'] = data_2000_2['COLE_VALOR_PENSION'].replace(np.NaN, 'NaN')"
   ]
  },
  {
   "cell_type": "markdown",
   "metadata": {},
   "source": [
    "__________"
   ]
  },
  {
   "cell_type": "code",
   "execution_count": 63,
   "metadata": {
    "collapsed": false,
    "scrolled": true
   },
   "outputs": [
    {
     "name": "stdout",
     "output_type": "stream",
     "text": [
      "Index(['F', 'M'], dtype='object')\n",
      "F    191518\n",
      "M    163343\n",
      "Name: ESTU_GENERO, dtype: int64\n",
      "Elementos null/NaN 1\n",
      "__________________\n",
      "Elementos diferentes de null/NaN: 354861\n",
      "__________________\n",
      "(354861,)\n",
      "None\n"
     ]
    }
   ],
   "source": [
    "\"\"\"This column is ok, but has a np.nan value that will be replaced for a string 'NaN'.\"\"\"\n",
    "print(data_2000_2['ESTU_GENERO'].value_counts().sort_index().index)\n",
    "print(data_2000_2['ESTU_GENERO'].value_counts().sort_index())\n",
    "print(missing_data(data_2000_2['ESTU_GENERO']))"
   ]
  },
  {
   "cell_type": "code",
   "execution_count": 64,
   "metadata": {
    "collapsed": true
   },
   "outputs": [],
   "source": [
    "data_2000_2['ESTU_GENERO'] = data_2000_2['ESTU_GENERO'].replace(np.nan, 'NaN')"
   ]
  },
  {
   "cell_type": "code",
   "execution_count": 65,
   "metadata": {
    "collapsed": false,
    "scrolled": true
   },
   "outputs": [
    {
     "name": "stdout",
     "output_type": "stream",
     "text": [
      "Index(['01', '20', '05', '10', '03', '28', '15', '18', '12', '04', '07', '08',\n",
      "       '23', '02', '06', '17', '26', '11', '25', '22', '16', '14', '24', '09',\n",
      "       '27', '13', '19', '21', '29', '30', '31',  1.0,  5.0,  3.0, 15.0,  6.0,\n",
      "       12.0, 25.0,  2.0, 20.0, 10.0, 27.0,  7.0,  8.0, 16.0, 28.0, 17.0,  9.0,\n",
      "        4.0, 11.0, 18.0, 14.0, 23.0, 22.0, 19.0, 24.0, 26.0, 13.0, 21.0, 29.0,\n",
      "       30.0, 31.0,  '1',  '2',  '3',  '*', '1*',  '0',  '8',  '4', '2*',  '7',\n",
      "        0.0,  '5',  '9', '00',  '6', '*9', '0*', '39', '*1', '32'],\n",
      "      dtype='object')\n",
      "01      8817\n",
      "20      8787\n",
      "05      8728\n",
      "10      8690\n",
      "03      8674\n",
      "28      8583\n",
      "15      8580\n",
      "18      8523\n",
      "12      8470\n",
      "04      8465\n",
      "07      8457\n",
      "08      8438\n",
      "23      8421\n",
      "02      8419\n",
      "06      8398\n",
      "17      8378\n",
      "26      8366\n",
      "11      8354\n",
      "25      8322\n",
      "22      8289\n",
      "16      8286\n",
      "14      8280\n",
      "24      8274\n",
      "09      8237\n",
      "27      8224\n",
      "13      8094\n",
      "19      8085\n",
      "21      8016\n",
      "29      7828\n",
      "30      7635\n",
      "        ... \n",
      "23.0    3190\n",
      "22.0    3174\n",
      "19.0    3144\n",
      "24.0    3137\n",
      "26.0    3106\n",
      "13.0    3094\n",
      "21.0    3066\n",
      "29.0    3009\n",
      "30.0    2922\n",
      "31.0    1755\n",
      "1        227\n",
      "2        203\n",
      "3         44\n",
      "*         25\n",
      "1*        14\n",
      "0         13\n",
      "8          9\n",
      "4          9\n",
      "2*         8\n",
      "7          7\n",
      "0.0        6\n",
      "5          6\n",
      "9          5\n",
      "00         2\n",
      "6          2\n",
      "*9         1\n",
      "0*         1\n",
      "39         1\n",
      "*1         1\n",
      "32         1\n",
      "Name: ESTU_NACIMIENTO_DIA, dtype: int64\n",
      "Elementos null/NaN 357\n",
      "__________________\n",
      "Elementos diferentes de null/NaN: 354505\n",
      "__________________\n",
      "(354505,)\n",
      "None\n"
     ]
    }
   ],
   "source": [
    "\"\"\"I get errors with this column\"\"\"\n",
    "print(data_2000_2['ESTU_NACIMIENTO_DIA'].value_counts().index)\n",
    "print(data_2000_2['ESTU_NACIMIENTO_DIA'].value_counts())\n",
    "print(missing_data(data_2000_2['ESTU_NACIMIENTO_DIA']))"
   ]
  },
  {
   "cell_type": "code",
   "execution_count": 66,
   "metadata": {
    "collapsed": false
   },
   "outputs": [],
   "source": [
    "\"\"\"The First step is replace the incoherences for 'NaN' values\"\"\"\n",
    "for i in data_2000_2['ESTU_NACIMIENTO_DIA'].value_counts().index:\n",
    "    if '*' in str(i):\n",
    "        data_2000_2['ESTU_NACIMIENTO_DIA'] = data_2000_2['ESTU_NACIMIENTO_DIA'].replace(i, 'NaN')\n",
    "    elif(int(i)>31):\n",
    "        data_2000_2['ESTU_NACIMIENTO_DIA'] = data_2000_2['ESTU_NACIMIENTO_DIA'].replace(i, 'NaN')\n",
    "    elif(int(i) == 0):\n",
    "        data_2000_2['ESTU_NACIMIENTO_DIA'] = data_2000_2['ESTU_NACIMIENTO_DIA'].replace(i, 'NaN')"
   ]
  },
  {
   "cell_type": "code",
   "execution_count": 67,
   "metadata": {
    "collapsed": true
   },
   "outputs": [],
   "source": [
    "\"\"\"Then, I decide to replace the np.NaN values for Strings 'NaN'\"\"\"\n",
    "data_2000_2['ESTU_NACIMIENTO_DIA'] = data_2000_2['ESTU_NACIMIENTO_DIA'].replace(np.nan, 'NaN')"
   ]
  },
  {
   "cell_type": "code",
   "execution_count": 68,
   "metadata": {
    "collapsed": true
   },
   "outputs": [],
   "source": [
    "\"\"\"Now it's time to replace the number values for string values\"\"\"\n",
    "data_2000_2['ESTU_NACIMIENTO_DIA'] = data_2000_2['ESTU_NACIMIENTO_DIA'].replace(1.0, '01')\n",
    "data_2000_2['ESTU_NACIMIENTO_DIA'] = data_2000_2['ESTU_NACIMIENTO_DIA'].replace(2.0, '02')\n",
    "data_2000_2['ESTU_NACIMIENTO_DIA'] = data_2000_2['ESTU_NACIMIENTO_DIA'].replace(3.0, '03')\n",
    "data_2000_2['ESTU_NACIMIENTO_DIA'] = data_2000_2['ESTU_NACIMIENTO_DIA'].replace(4.0, '04')\n",
    "data_2000_2['ESTU_NACIMIENTO_DIA'] = data_2000_2['ESTU_NACIMIENTO_DIA'].replace(5.0, '05')\n",
    "data_2000_2['ESTU_NACIMIENTO_DIA'] = data_2000_2['ESTU_NACIMIENTO_DIA'].replace(6.0, '06')\n",
    "data_2000_2['ESTU_NACIMIENTO_DIA'] = data_2000_2['ESTU_NACIMIENTO_DIA'].replace(7.0, '07')\n",
    "data_2000_2['ESTU_NACIMIENTO_DIA'] = data_2000_2['ESTU_NACIMIENTO_DIA'].replace(8.0, '08')\n",
    "data_2000_2['ESTU_NACIMIENTO_DIA'] = data_2000_2['ESTU_NACIMIENTO_DIA'].replace(9.0, '09')\n",
    "data_2000_2['ESTU_NACIMIENTO_DIA'] = data_2000_2['ESTU_NACIMIENTO_DIA'].replace(10.0, '10')\n",
    "data_2000_2['ESTU_NACIMIENTO_DIA'] = data_2000_2['ESTU_NACIMIENTO_DIA'].replace(11.0, '11')\n",
    "data_2000_2['ESTU_NACIMIENTO_DIA'] = data_2000_2['ESTU_NACIMIENTO_DIA'].replace(12.0, '12')\n",
    "data_2000_2['ESTU_NACIMIENTO_DIA'] = data_2000_2['ESTU_NACIMIENTO_DIA'].replace(13.0, '13')\n",
    "data_2000_2['ESTU_NACIMIENTO_DIA'] = data_2000_2['ESTU_NACIMIENTO_DIA'].replace(14.0, '14')\n",
    "data_2000_2['ESTU_NACIMIENTO_DIA'] = data_2000_2['ESTU_NACIMIENTO_DIA'].replace(15.0, '15')\n",
    "data_2000_2['ESTU_NACIMIENTO_DIA'] = data_2000_2['ESTU_NACIMIENTO_DIA'].replace(16.0, '16')\n",
    "data_2000_2['ESTU_NACIMIENTO_DIA'] = data_2000_2['ESTU_NACIMIENTO_DIA'].replace(17.0, '17')\n",
    "data_2000_2['ESTU_NACIMIENTO_DIA'] = data_2000_2['ESTU_NACIMIENTO_DIA'].replace(18.0, '18')\n",
    "data_2000_2['ESTU_NACIMIENTO_DIA'] = data_2000_2['ESTU_NACIMIENTO_DIA'].replace(19.0, '19')\n",
    "data_2000_2['ESTU_NACIMIENTO_DIA'] = data_2000_2['ESTU_NACIMIENTO_DIA'].replace(20.0, '20')\n",
    "data_2000_2['ESTU_NACIMIENTO_DIA'] = data_2000_2['ESTU_NACIMIENTO_DIA'].replace(21.0, '21')\n",
    "data_2000_2['ESTU_NACIMIENTO_DIA'] = data_2000_2['ESTU_NACIMIENTO_DIA'].replace(22.0, '22')\n",
    "data_2000_2['ESTU_NACIMIENTO_DIA'] = data_2000_2['ESTU_NACIMIENTO_DIA'].replace(23.0, '23')\n",
    "data_2000_2['ESTU_NACIMIENTO_DIA'] = data_2000_2['ESTU_NACIMIENTO_DIA'].replace(24.0, '24')\n",
    "data_2000_2['ESTU_NACIMIENTO_DIA'] = data_2000_2['ESTU_NACIMIENTO_DIA'].replace(25.0, '25')\n",
    "data_2000_2['ESTU_NACIMIENTO_DIA'] = data_2000_2['ESTU_NACIMIENTO_DIA'].replace(26.0, '26')\n",
    "data_2000_2['ESTU_NACIMIENTO_DIA'] = data_2000_2['ESTU_NACIMIENTO_DIA'].replace(27.0, '27')\n",
    "data_2000_2['ESTU_NACIMIENTO_DIA'] = data_2000_2['ESTU_NACIMIENTO_DIA'].replace(28.0, '28')\n",
    "data_2000_2['ESTU_NACIMIENTO_DIA'] = data_2000_2['ESTU_NACIMIENTO_DIA'].replace(29.0, '29')\n",
    "data_2000_2['ESTU_NACIMIENTO_DIA'] = data_2000_2['ESTU_NACIMIENTO_DIA'].replace(30.0, '30')\n",
    "data_2000_2['ESTU_NACIMIENTO_DIA'] = data_2000_2['ESTU_NACIMIENTO_DIA'].replace(31.0, '31')\n",
    "\n",
    "\"\"\"And Finally a change some values to left everything in just one way\"\"\"\n",
    "data_2000_2['ESTU_NACIMIENTO_DIA'] = data_2000_2['ESTU_NACIMIENTO_DIA'].replace('1', '01')\n",
    "data_2000_2['ESTU_NACIMIENTO_DIA'] = data_2000_2['ESTU_NACIMIENTO_DIA'].replace('5', '05')\n",
    "data_2000_2['ESTU_NACIMIENTO_DIA'] = data_2000_2['ESTU_NACIMIENTO_DIA'].replace('3', '03')\n",
    "data_2000_2['ESTU_NACIMIENTO_DIA'] = data_2000_2['ESTU_NACIMIENTO_DIA'].replace('7', '07')\n",
    "data_2000_2['ESTU_NACIMIENTO_DIA'] = data_2000_2['ESTU_NACIMIENTO_DIA'].replace('4', '04')\n",
    "data_2000_2['ESTU_NACIMIENTO_DIA'] = data_2000_2['ESTU_NACIMIENTO_DIA'].replace('6', '06')\n",
    "data_2000_2['ESTU_NACIMIENTO_DIA'] = data_2000_2['ESTU_NACIMIENTO_DIA'].replace('8', '08')\n",
    "data_2000_2['ESTU_NACIMIENTO_DIA'] = data_2000_2['ESTU_NACIMIENTO_DIA'].replace('2', '02')\n",
    "data_2000_2['ESTU_NACIMIENTO_DIA'] = data_2000_2['ESTU_NACIMIENTO_DIA'].replace('9', '09')"
   ]
  },
  {
   "cell_type": "markdown",
   "metadata": {},
   "source": [
    "___"
   ]
  },
  {
   "cell_type": "code",
   "execution_count": 69,
   "metadata": {
    "collapsed": false,
    "scrolled": false
   },
   "outputs": [
    {
     "name": "stdout",
     "output_type": "stream",
     "text": [
      "Float64Index([1.0, 2.0, 3.0, 4.0, 5.0, 6.0, 7.0, 8.0, 9.0, 10.0, 11.0, 12.0], dtype='float64')\n",
      "1.0     29589\n",
      "2.0     26373\n",
      "3.0     29718\n",
      "4.0     28230\n",
      "5.0     29402\n",
      "6.0     28017\n",
      "7.0     28894\n",
      "8.0     29919\n",
      "9.0     31605\n",
      "10.0    31510\n",
      "11.0    30372\n",
      "12.0    30155\n",
      "Name: ESTU_NACIMIENTO_MES, dtype: int64\n",
      "Elementos null/NaN 1078\n",
      "__________________\n",
      "Elementos diferentes de null/NaN: 353784\n",
      "__________________\n",
      "(353784,)\n",
      "None\n"
     ]
    }
   ],
   "source": [
    "\"\"\"This column is OK, in this column exist 1078 np.nan, but as they are numpy dtype, i will let this column like it's\n",
    "in this moment\"\"\"\n",
    "print(data_2000_2['ESTU_NACIMIENTO_MES'].value_counts().sort_index().index)\n",
    "print(data_2000_2['ESTU_NACIMIENTO_MES'].value_counts().sort_index())\n",
    "print(missing_data(data_2000_2['ESTU_NACIMIENTO_MES']))"
   ]
  },
  {
   "cell_type": "code",
   "execution_count": 70,
   "metadata": {
    "collapsed": false,
    "scrolled": true
   },
   "outputs": [
    {
     "name": "stdout",
     "output_type": "stream",
     "text": [
      "Index(['*', '**', '*7', '*9', '*972', '0', '0*3', '00', '0973', '098',\n",
      "       ...\n",
      "       '8', '9', '9 0', '9 2', '9*1', '913', '95', '97', '978', '98'],\n",
      "      dtype='object', length=131)\n",
      "*           4\n",
      "**          5\n",
      "*7          1\n",
      "*9          1\n",
      "*972        1\n",
      "0           2\n",
      "0*3         1\n",
      "00          1\n",
      "0973        1\n",
      "098         1\n",
      "1           2\n",
      "1  0        1\n",
      "1  9        1\n",
      "1 *         1\n",
      "1 *1        1\n",
      "1 *6        1\n",
      "1 *8        1\n",
      "1 *9        1\n",
      "1 56        1\n",
      "1 8         1\n",
      "1 9*        5\n",
      "1 96        1\n",
      "1 97        5\n",
      "1*          3\n",
      "1*8         1\n",
      "17          1\n",
      "19         13\n",
      "19 *        8\n",
      "19 0        2\n",
      "19 1        2\n",
      "        ...  \n",
      "1984    64283\n",
      "1985     5787\n",
      "1986      210\n",
      "1987       53\n",
      "1988       58\n",
      "1989       53\n",
      "199         2\n",
      "199*       23\n",
      "1990       23\n",
      "1991        1\n",
      "1996        1\n",
      "1997        3\n",
      "1998        1\n",
      "1999        1\n",
      "2 *7        2\n",
      "2 00        1\n",
      "20*8        1\n",
      "2000        4\n",
      "2980        1\n",
      "7           2\n",
      "8           2\n",
      "9           3\n",
      "9 0         1\n",
      "9 2         1\n",
      "9*1         1\n",
      "913         1\n",
      "95          1\n",
      "97          1\n",
      "978         1\n",
      "98          5\n",
      "Name: ESTU_NACIMIENTO_ANNO, dtype: int64\n",
      "Elementos null/NaN 141\n",
      "__________________\n",
      "Elementos diferentes de null/NaN: 354721\n",
      "__________________\n",
      "(354721,)\n",
      "None\n"
     ]
    }
   ],
   "source": [
    "\"\"\"This column present A LOT of incoherences.\"\"\"\n",
    "print(data_2000_2['ESTU_NACIMIENTO_ANNO'].value_counts().sort_index().index)\n",
    "print(data_2000_2['ESTU_NACIMIENTO_ANNO'].value_counts().sort_index())\n",
    "print(missing_data(data_2000_2['ESTU_NACIMIENTO_ANNO']))"
   ]
  },
  {
   "cell_type": "code",
   "execution_count": 71,
   "metadata": {
    "collapsed": false
   },
   "outputs": [],
   "source": [
    "\"\"\"So, the first thing i have to do is replace the incoherent values with a string NaN\"\"\"\n",
    "for i in data_2000_2['ESTU_NACIMIENTO_ANNO'].value_counts().sort_index().index:\n",
    "    if '*' in i:\n",
    "        data_2000_2['ESTU_NACIMIENTO_ANNO'] = data_2000_2['ESTU_NACIMIENTO_ANNO'].replace(i, 'NaN')\n",
    "    elif(' ' in i):\n",
    "        data_2000_2['ESTU_NACIMIENTO_ANNO'] = data_2000_2['ESTU_NACIMIENTO_ANNO'].replace(i, 'NaN')\n",
    "    elif(len(i)<4):\n",
    "        data_2000_2['ESTU_NACIMIENTO_ANNO'] = data_2000_2['ESTU_NACIMIENTO_ANNO'].replace(i, 'NaN')\n",
    "    elif(int(i)>2002):\n",
    "        data_2000_2['ESTU_NACIMIENTO_ANNO'] = data_2000_2['ESTU_NACIMIENTO_ANNO'].replace(i, 'NaN')\n",
    "    elif(int(i)<1900):\n",
    "        data_2000_2['ESTU_NACIMIENTO_ANNO'] = data_2000_2['ESTU_NACIMIENTO_ANNO'].replace(i, 'NaN')\n",
    "\"\"\"And finally i can change the np.nan values for strings 'NaN'.\"\"\"\n",
    "data_2000_2['ESTU_NACIMIENTO_ANNO'] = data_2000_2['ESTU_NACIMIENTO_ANNO'].replace(np.nan, 'NaN')"
   ]
  },
  {
   "cell_type": "code",
   "execution_count": 72,
   "metadata": {
    "collapsed": false,
    "scrolled": true
   },
   "outputs": [
    {
     "name": "stdout",
     "output_type": "stream",
     "text": [
      "Index(['AMAZONAS', 'ANTIOQUIA', 'ARAUCA', 'ATLANTICO', 'BOGOTA', 'BOLIVAR',\n",
      "       'BOYACA', 'CALDAS', 'CAQUETA', 'CASANARE', 'CAUCA', 'CESAR', 'CHOCO',\n",
      "       'CORDOBA', 'CUNDINAMARCA', 'GUAINIA', 'GUAVIARE', 'HUILA', 'LA GUAJIRA',\n",
      "       'MAGDALENA', 'META', 'NARIÑO', 'NORTE SANTANDER', 'PUTUMAYO', 'QUINDIO',\n",
      "       'RISARALDA', 'SAN ANDRES', 'SANTANDER', 'SUCRE', 'TOLIMA', 'VALLE',\n",
      "       'VAUPES', 'VICHADA'],\n",
      "      dtype='object')\n",
      "AMAZONAS             505\n",
      "ANTIOQUIA          51972\n",
      "ARAUCA              1613\n",
      "ATLANTICO          27134\n",
      "BOGOTA             72937\n",
      "BOLIVAR            17375\n",
      "BOYACA             14382\n",
      "CALDAS             10211\n",
      "CAQUETA             2596\n",
      "CASANARE            2098\n",
      "CAUCA               1331\n",
      "CESAR               8480\n",
      "CHOCO               3213\n",
      "CORDOBA            14624\n",
      "CUNDINAMARCA       20923\n",
      "GUAINIA              117\n",
      "GUAVIARE             365\n",
      "HUILA               8846\n",
      "LA GUAJIRA          4613\n",
      "MAGDALENA          10044\n",
      "META                6352\n",
      "NARIÑO               403\n",
      "NORTE SANTANDER    12505\n",
      "PUTUMAYO            1571\n",
      "QUINDIO             5764\n",
      "RISARALDA           9133\n",
      "SAN ANDRES           642\n",
      "SANTANDER          20723\n",
      "SUCRE               7200\n",
      "TOLIMA             13011\n",
      "VALLE               3868\n",
      "VAUPES                91\n",
      "VICHADA              219\n",
      "Name: ESTU_DEPTO_PRESENTACION, dtype: int64\n",
      "Elementos null/NaN 1\n",
      "__________________\n",
      "Elementos diferentes de null/NaN: 354861\n",
      "__________________\n",
      "(354861,)\n",
      "None\n"
     ]
    }
   ],
   "source": [
    "\"\"\"This Column looks OK, just has one np.nan value, that i will replace immediately.\"\"\"\n",
    "print(data_2000_2['ESTU_DEPTO_PRESENTACION'].value_counts().sort_index().index)\n",
    "print(data_2000_2['ESTU_DEPTO_PRESENTACION'].value_counts().sort_index())\n",
    "print(missing_data(data_2000_2['ESTU_DEPTO_PRESENTACION']))"
   ]
  },
  {
   "cell_type": "code",
   "execution_count": 73,
   "metadata": {
    "collapsed": true
   },
   "outputs": [],
   "source": [
    "\"\"\"Replacing the np.nan value\"\"\"\n",
    "data_2000_2['ESTU_DEPTO_PRESENTACION'] = data_2000_2['ESTU_DEPTO_PRESENTACION'].replace(np.nan, 'NaN')"
   ]
  },
  {
   "cell_type": "code",
   "execution_count": 74,
   "metadata": {
    "collapsed": false,
    "scrolled": true
   },
   "outputs": [
    {
     "name": "stdout",
     "output_type": "stream",
     "text": [
      "Index(['ABEJORRAL', 'ABREGO', 'ACACIAS', 'ACANDI', 'ACHI', 'AGUACHICA',\n",
      "       'AGUADAS', 'AGUAZUL', 'AGUSTIN CODAZZI', 'AIPE',\n",
      "       ...\n",
      "       'VILLANUEVA', 'VILLAVICENCIO', 'VILLETA', 'VIOTA', 'YARUMAL', 'YOLOMBO',\n",
      "       'YOPAL', 'ZAPATOCA', 'ZARAGOZA', 'ZIPAQUIRA'],\n",
      "      dtype='object', length=312)\n",
      "ABEJORRAL                  174\n",
      "ABREGO                      35\n",
      "ACACIAS                    577\n",
      "ACANDI                      40\n",
      "ACHI                        60\n",
      "AGUACHICA                 1441\n",
      "AGUADAS                    196\n",
      "AGUAZUL                    200\n",
      "AGUSTIN CODAZZI            419\n",
      "AIPE                       155\n",
      "AMAGA                      638\n",
      "AMALFI                     238\n",
      "ANDES                      422\n",
      "ANSERMA                    564\n",
      "ANTIOQUIA                  549\n",
      "APARTADO                  1181\n",
      "ARACATACA                  347\n",
      "ARAUCA                     667\n",
      "ARAUQUITA                  131\n",
      "ARBELAEZ                   147\n",
      "ARBOLEDAS                   49\n",
      "ARBOLETES                  434\n",
      "ARIGUANI (EL DIFICIL)      242\n",
      "ARJONA                     604\n",
      "ARMENIA                   4180\n",
      "ASTREA                      87\n",
      "AYAPEL                     295\n",
      "BAGADO                      65\n",
      "BAHIA SOLANO (MUTIS)        89\n",
      "BAJO BAUDO   (PIZARRO)      35\n",
      "                          ... \n",
      "TOLU                       237\n",
      "TOLUVIEJO                   94\n",
      "TULUA                      296\n",
      "TUMACO                     113\n",
      "TUNJA                     3644\n",
      "TURBACO                    719\n",
      "TURBO                      664\n",
      "TURMEQUE                   170\n",
      "TUTA                        67\n",
      "UBATE                      704\n",
      "UNGUIA                      55\n",
      "URRAO                      270\n",
      "VALLEDUPAR                5000\n",
      "VELEZ                      428\n",
      "VENADILLO                  251\n",
      "VENTAQUEMADA                72\n",
      "VIGIA DEL FUERTE            10\n",
      "VILLA DE LEYVA             200\n",
      "VILLA DEL ROSARIO          578\n",
      "VILLAMARIA                  74\n",
      "VILLANUEVA                 731\n",
      "VILLAVICENCIO             4522\n",
      "VILLETA                    393\n",
      "VIOTA                       87\n",
      "YARUMAL                    680\n",
      "YOLOMBO                    274\n",
      "YOPAL                     1074\n",
      "ZAPATOCA                   121\n",
      "ZARAGOZA                   161\n",
      "ZIPAQUIRA                 1515\n",
      "Name: ESTU_MCPIO_PRESENTACION, dtype: int64\n",
      "Elementos null/NaN 1\n",
      "__________________\n",
      "Elementos diferentes de null/NaN: 354861\n",
      "__________________\n",
      "(354861,)\n",
      "None\n"
     ]
    }
   ],
   "source": [
    "\"\"\"Checked. Looks OK, but has one np.nan value that will be replaced immediately\"\"\"\n",
    "print(data_2000_2['ESTU_MCPIO_PRESENTACION'].value_counts().sort_index().index)\n",
    "print(data_2000_2['ESTU_MCPIO_PRESENTACION'].value_counts().sort_index())\n",
    "print(missing_data(data_2000_2['ESTU_MCPIO_PRESENTACION']))"
   ]
  },
  {
   "cell_type": "code",
   "execution_count": 75,
   "metadata": {
    "collapsed": true
   },
   "outputs": [],
   "source": [
    "\"\"\"Here i replace the np.nan value for an string 'NaN'\"\"\"\n",
    "data_2000_2['ESTU_MCPIO_PRESENTACION'] = data_2000_2['ESTU_MCPIO_PRESENTACION'].replace(np.nan, 'NaN')"
   ]
  },
  {
   "cell_type": "code",
   "execution_count": 76,
   "metadata": {
    "collapsed": false,
    "scrolled": true
   },
   "outputs": [
    {
     "name": "stdout",
     "output_type": "stream",
     "text": [
      "Index(['99', 99.0, '01',  '*',  1.0, '08', '03', '02',  2.0,  3.0, '06',  6.0,\n",
      "        5.0, '05', '07',  8.0,  7.0, '04',  4.0,  '9',  9.0,  '1'],\n",
      "      dtype='object')\n",
      "99      29745\n",
      "99.0    11620\n",
      "01       6631\n",
      "*        4215\n",
      "1.0      2147\n",
      "08       1478\n",
      "03        798\n",
      "02        596\n",
      "2.0       524\n",
      "3.0       346\n",
      "06        235\n",
      "6.0        92\n",
      "5.0        88\n",
      "05         81\n",
      "07         62\n",
      "8.0        35\n",
      "7.0        31\n",
      "04         27\n",
      "4.0        21\n",
      "9          10\n",
      "9.0         2\n",
      "1           1\n",
      "Name: ESTU_ETNIA, dtype: int64\n",
      "Elementos null/NaN 296077\n",
      "__________________\n",
      "Elementos diferentes de null/NaN: 58785\n",
      "__________________\n",
      "(58785,)\n",
      "None\n"
     ]
    }
   ],
   "source": [
    "\"\"\"This column has some troubles.\"\"\"\n",
    "print(data_2000_2['ESTU_ETNIA'].value_counts().index)\n",
    "print(data_2000_2['ESTU_ETNIA'].value_counts())\n",
    "print(missing_data(data_2000_2['ESTU_ETNIA']))"
   ]
  },
  {
   "cell_type": "code",
   "execution_count": 77,
   "metadata": {
    "collapsed": false
   },
   "outputs": [
    {
     "data": {
      "text/plain": [
       "\"And now it's ready\""
      ]
     },
     "execution_count": 77,
     "metadata": {},
     "output_type": "execute_result"
    }
   ],
   "source": [
    "data_2000_2['ESTU_ETNIA'] = data_2000_2['ESTU_ETNIA'].replace('1', '01')\n",
    "data_2000_2['ESTU_ETNIA'] = data_2000_2['ESTU_ETNIA'].replace('2', '02')\n",
    "data_2000_2['ESTU_ETNIA'] = data_2000_2['ESTU_ETNIA'].replace('3', '03')\n",
    "data_2000_2['ESTU_ETNIA'] = data_2000_2['ESTU_ETNIA'].replace('4', '04')\n",
    "data_2000_2['ESTU_ETNIA'] = data_2000_2['ESTU_ETNIA'].replace('5', '05')\n",
    "data_2000_2['ESTU_ETNIA'] = data_2000_2['ESTU_ETNIA'].replace('6', '06')\n",
    "data_2000_2['ESTU_ETNIA'] = data_2000_2['ESTU_ETNIA'].replace('7', '07')\n",
    "data_2000_2['ESTU_ETNIA'] = data_2000_2['ESTU_ETNIA'].replace('8', '08')\n",
    "data_2000_2['ESTU_ETNIA'] = data_2000_2['ESTU_ETNIA'].replace('9', '09')\n",
    "data_2000_2['ESTU_ETNIA'] = data_2000_2['ESTU_ETNIA'].replace(99.0, '99')\n",
    "data_2000_2['ESTU_ETNIA'] = data_2000_2['ESTU_ETNIA'].replace(1.0, '01')\n",
    "data_2000_2['ESTU_ETNIA'] = data_2000_2['ESTU_ETNIA'].replace(2.0, '02')\n",
    "data_2000_2['ESTU_ETNIA'] = data_2000_2['ESTU_ETNIA'].replace(3.0, '03')\n",
    "data_2000_2['ESTU_ETNIA'] = data_2000_2['ESTU_ETNIA'].replace(4.0, '04')\n",
    "data_2000_2['ESTU_ETNIA'] = data_2000_2['ESTU_ETNIA'].replace(5.0, '05')\n",
    "data_2000_2['ESTU_ETNIA'] = data_2000_2['ESTU_ETNIA'].replace(6.0, '06')\n",
    "data_2000_2['ESTU_ETNIA'] = data_2000_2['ESTU_ETNIA'].replace(7.0, '07')\n",
    "data_2000_2['ESTU_ETNIA'] = data_2000_2['ESTU_ETNIA'].replace(8.0, '08')\n",
    "data_2000_2['ESTU_ETNIA'] = data_2000_2['ESTU_ETNIA'].replace(9.0, '09')\n",
    "data_2000_2['ESTU_ETNIA'] = data_2000_2['ESTU_ETNIA'].replace('*', 'NaN')\n",
    "data_2000_2['ESTU_ETNIA'] = data_2000_2['ESTU_ETNIA'].replace(np.nan, 'NaN')\n",
    "\n",
    "\"\"\"And now it's ready\"\"\""
   ]
  },
  {
   "cell_type": "code",
   "execution_count": 78,
   "metadata": {
    "collapsed": false
   },
   "outputs": [
    {
     "name": "stdout",
     "output_type": "stream",
     "text": [
      "Index(['I'], dtype='object')\n",
      "I    31\n",
      "Name: ESTU_LIMITA_INVIDENTE, dtype: int64\n",
      "Elementos null/NaN 354831\n",
      "__________________\n",
      "Elementos diferentes de null/NaN: 31\n",
      "__________________\n",
      "(31,)\n",
      "None\n"
     ]
    }
   ],
   "source": [
    "\"\"\"Even if this column has to many NaN values, is OK, in the encode process that NaN values will be -1\"\"\"\n",
    "print(data_2000_2['ESTU_LIMITA_INVIDENTE'].value_counts().sort_index().index)\n",
    "print(data_2000_2['ESTU_LIMITA_INVIDENTE'].value_counts().sort_index())\n",
    "print(missing_data(data_2000_2['ESTU_LIMITA_INVIDENTE']))"
   ]
  },
  {
   "cell_type": "code",
   "execution_count": 79,
   "metadata": {
    "collapsed": false
   },
   "outputs": [
    {
     "name": "stdout",
     "output_type": "stream",
     "text": [
      "Float64Index([], dtype='float64')\n",
      "Series([], Name: ESTU_LIMITA_SORDOINTERPRETE, dtype: int64)\n"
     ]
    }
   ],
   "source": [
    "\"\"\"This column does not have any row with a value so this column will be deleted.\"\"\"\n",
    "print(data_2000_2['ESTU_LIMITA_SORDOINTERPRETE'].value_counts().sort_index().index)\n",
    "print(data_2000_2['ESTU_LIMITA_SORDOINTERPRETE'].value_counts().sort_index())"
   ]
  },
  {
   "cell_type": "code",
   "execution_count": 80,
   "metadata": {
    "collapsed": false
   },
   "outputs": [
    {
     "data": {
      "text/plain": [
       "'Deleted'"
      ]
     },
     "execution_count": 80,
     "metadata": {},
     "output_type": "execute_result"
    }
   ],
   "source": [
    "\"\"\"Deleting...\"\"\"\n",
    "data_2000_2.drop('ESTU_LIMITA_SORDOINTERPRETE', axis=1, inplace=True)\n",
    "\"\"\"Deleted\"\"\""
   ]
  },
  {
   "cell_type": "code",
   "execution_count": 81,
   "metadata": {
    "collapsed": false
   },
   "outputs": [
    {
     "name": "stdout",
     "output_type": "stream",
     "text": [
      "Index(['S'], dtype='object')\n",
      "S    45\n",
      "Name: ESTU_LIMITA_SORDONOINTERPRETE, dtype: int64\n",
      "Elementos null/NaN 354817\n",
      "__________________\n",
      "Elementos diferentes de null/NaN: 45\n",
      "__________________\n",
      "(45,)\n",
      "None\n"
     ]
    }
   ],
   "source": [
    "\"\"\"Even if this column has to many NaN values, is OK, in the encode process that NaN values will be -1\"\"\"\n",
    "print(data_2000_2['ESTU_LIMITA_SORDONOINTERPRETE'].value_counts().sort_index().index)\n",
    "print(data_2000_2['ESTU_LIMITA_SORDONOINTERPRETE'].value_counts().sort_index())\n",
    "print(missing_data(data_2000_2['ESTU_LIMITA_SORDONOINTERPRETE']))"
   ]
  },
  {
   "cell_type": "code",
   "execution_count": 82,
   "metadata": {
    "collapsed": false
   },
   "outputs": [
    {
     "name": "stdout",
     "output_type": "stream",
     "text": [
      "Index(['M'], dtype='object')\n",
      "M    71\n",
      "Name: ESTU_LIMITA_MOTRIZ, dtype: int64\n",
      "Elementos null/NaN 354791\n",
      "__________________\n",
      "Elementos diferentes de null/NaN: 71\n",
      "__________________\n",
      "(71,)\n",
      "None\n"
     ]
    }
   ],
   "source": [
    "\"\"\"Even if this column has to many NaN values, is OK, in the encode process that NaN values will be -1\"\"\"\n",
    "print(data_2000_2['ESTU_LIMITA_MOTRIZ'].value_counts().sort_index().index)\n",
    "print(data_2000_2['ESTU_LIMITA_MOTRIZ'].value_counts().sort_index())\n",
    "print(missing_data(data_2000_2['ESTU_LIMITA_MOTRIZ']))"
   ]
  },
  {
   "cell_type": "code",
   "execution_count": 83,
   "metadata": {
    "collapsed": false,
    "scrolled": true
   },
   "outputs": [
    {
     "name": "stdout",
     "output_type": "stream",
     "text": [
      "Int64Index([ 0, 14, 21, 22, 26, 27, 29, 30, 32, 33, 34, 35, 36, 38, 40, 41, 42,\n",
      "            43, 45, 46, 47, 48, 49, 50, 51, 52, 53, 54, 55, 56, 57, 58, 59, 60,\n",
      "            61, 62, 64, 65, 67, 69, 70, 71, 73, 76],\n",
      "           dtype='int64')\n",
      "0        71\n",
      "14       83\n",
      "21        1\n",
      "22      287\n",
      "26        5\n",
      "27     1015\n",
      "29       20\n",
      "30     2733\n",
      "32       45\n",
      "33     6150\n",
      "34      109\n",
      "35    11497\n",
      "36      157\n",
      "38    19087\n",
      "40    27028\n",
      "41    33633\n",
      "42      325\n",
      "43    38472\n",
      "45    40073\n",
      "46    38751\n",
      "47    33632\n",
      "48      291\n",
      "49    28248\n",
      "50    21594\n",
      "51    16506\n",
      "52      138\n",
      "53    11851\n",
      "54     8108\n",
      "55     5464\n",
      "56       24\n",
      "57     3713\n",
      "58     2273\n",
      "59     1400\n",
      "60        7\n",
      "61      887\n",
      "62      535\n",
      "64      306\n",
      "65      148\n",
      "67      110\n",
      "69       49\n",
      "70        1\n",
      "71       20\n",
      "73       12\n",
      "76        3\n",
      "Name: PUNT_BIOLOGIA, dtype: int64\n"
     ]
    },
    {
     "ename": "KeyError",
     "evalue": "'PUNT_'",
     "output_type": "error",
     "traceback": [
      "\u001b[1;31m---------------------------------------------------------------------------\u001b[0m",
      "\u001b[1;31mKeyError\u001b[0m                                  Traceback (most recent call last)",
      "\u001b[1;32m/usr/local/anaconda3/lib/python3.5/site-packages/pandas/indexes/base.py\u001b[0m in \u001b[0;36mget_loc\u001b[1;34m(self, key, method, tolerance)\u001b[0m\n\u001b[0;32m   1875\u001b[0m             \u001b[1;32mtry\u001b[0m\u001b[1;33m:\u001b[0m\u001b[1;33m\u001b[0m\u001b[0m\n\u001b[1;32m-> 1876\u001b[1;33m                 \u001b[1;32mreturn\u001b[0m \u001b[0mself\u001b[0m\u001b[1;33m.\u001b[0m\u001b[0m_engine\u001b[0m\u001b[1;33m.\u001b[0m\u001b[0mget_loc\u001b[0m\u001b[1;33m(\u001b[0m\u001b[0mkey\u001b[0m\u001b[1;33m)\u001b[0m\u001b[1;33m\u001b[0m\u001b[0m\n\u001b[0m\u001b[0;32m   1877\u001b[0m             \u001b[1;32mexcept\u001b[0m \u001b[0mKeyError\u001b[0m\u001b[1;33m:\u001b[0m\u001b[1;33m\u001b[0m\u001b[0m\n",
      "\u001b[1;32mpandas/index.pyx\u001b[0m in \u001b[0;36mpandas.index.IndexEngine.get_loc (pandas/index.c:4027)\u001b[1;34m()\u001b[0m\n",
      "\u001b[1;32mpandas/index.pyx\u001b[0m in \u001b[0;36mpandas.index.IndexEngine.get_loc (pandas/index.c:3891)\u001b[1;34m()\u001b[0m\n",
      "\u001b[1;32mpandas/hashtable.pyx\u001b[0m in \u001b[0;36mpandas.hashtable.PyObjectHashTable.get_item (pandas/hashtable.c:12408)\u001b[1;34m()\u001b[0m\n",
      "\u001b[1;32mpandas/hashtable.pyx\u001b[0m in \u001b[0;36mpandas.hashtable.PyObjectHashTable.get_item (pandas/hashtable.c:12359)\u001b[1;34m()\u001b[0m\n",
      "\u001b[1;31mKeyError\u001b[0m: 'PUNT_'",
      "\nDuring handling of the above exception, another exception occurred:\n",
      "\u001b[1;31mKeyError\u001b[0m                                  Traceback (most recent call last)",
      "\u001b[1;32m/home/Foreroo/Proyecto/New_Project/tools/label_encoder.py\u001b[0m in \u001b[0;36m<module>\u001b[1;34m()\u001b[0m\n\u001b[0;32m      2\u001b[0m \u001b[0mprint\u001b[0m\u001b[1;33m(\u001b[0m\u001b[0mdata_2000_2\u001b[0m\u001b[1;33m[\u001b[0m\u001b[1;34m'PUNT_BIOLOGIA'\u001b[0m\u001b[1;33m]\u001b[0m\u001b[1;33m.\u001b[0m\u001b[0mvalue_counts\u001b[0m\u001b[1;33m(\u001b[0m\u001b[1;33m)\u001b[0m\u001b[1;33m.\u001b[0m\u001b[0msort_index\u001b[0m\u001b[1;33m(\u001b[0m\u001b[1;33m)\u001b[0m\u001b[1;33m.\u001b[0m\u001b[0mindex\u001b[0m\u001b[1;33m)\u001b[0m\u001b[1;33m\u001b[0m\u001b[0m\n\u001b[0;32m      3\u001b[0m \u001b[0mprint\u001b[0m\u001b[1;33m(\u001b[0m\u001b[0mdata_2000_2\u001b[0m\u001b[1;33m[\u001b[0m\u001b[1;34m'PUNT_BIOLOGIA'\u001b[0m\u001b[1;33m]\u001b[0m\u001b[1;33m.\u001b[0m\u001b[0mvalue_counts\u001b[0m\u001b[1;33m(\u001b[0m\u001b[1;33m)\u001b[0m\u001b[1;33m.\u001b[0m\u001b[0msort_index\u001b[0m\u001b[1;33m(\u001b[0m\u001b[1;33m)\u001b[0m\u001b[1;33m)\u001b[0m\u001b[1;33m\u001b[0m\u001b[0m\n\u001b[1;32m----> 4\u001b[1;33m \u001b[0mprint\u001b[0m\u001b[1;33m(\u001b[0m\u001b[0mmissing_data\u001b[0m\u001b[1;33m(\u001b[0m\u001b[0mdata_2000_2\u001b[0m\u001b[1;33m[\u001b[0m\u001b[1;34m'PUNT_'\u001b[0m\u001b[1;33m]\u001b[0m\u001b[1;33m)\u001b[0m\u001b[1;33m)\u001b[0m\u001b[1;33m\u001b[0m\u001b[0m\n\u001b[0m",
      "\u001b[1;32m/usr/local/anaconda3/lib/python3.5/site-packages/pandas/core/frame.py\u001b[0m in \u001b[0;36m__getitem__\u001b[1;34m(self, key)\u001b[0m\n\u001b[0;32m   1990\u001b[0m             \u001b[1;32mreturn\u001b[0m \u001b[0mself\u001b[0m\u001b[1;33m.\u001b[0m\u001b[0m_getitem_multilevel\u001b[0m\u001b[1;33m(\u001b[0m\u001b[0mkey\u001b[0m\u001b[1;33m)\u001b[0m\u001b[1;33m\u001b[0m\u001b[0m\n\u001b[0;32m   1991\u001b[0m         \u001b[1;32melse\u001b[0m\u001b[1;33m:\u001b[0m\u001b[1;33m\u001b[0m\u001b[0m\n\u001b[1;32m-> 1992\u001b[1;33m             \u001b[1;32mreturn\u001b[0m \u001b[0mself\u001b[0m\u001b[1;33m.\u001b[0m\u001b[0m_getitem_column\u001b[0m\u001b[1;33m(\u001b[0m\u001b[0mkey\u001b[0m\u001b[1;33m)\u001b[0m\u001b[1;33m\u001b[0m\u001b[0m\n\u001b[0m\u001b[0;32m   1993\u001b[0m \u001b[1;33m\u001b[0m\u001b[0m\n\u001b[0;32m   1994\u001b[0m     \u001b[1;32mdef\u001b[0m \u001b[0m_getitem_column\u001b[0m\u001b[1;33m(\u001b[0m\u001b[0mself\u001b[0m\u001b[1;33m,\u001b[0m \u001b[0mkey\u001b[0m\u001b[1;33m)\u001b[0m\u001b[1;33m:\u001b[0m\u001b[1;33m\u001b[0m\u001b[0m\n",
      "\u001b[1;32m/usr/local/anaconda3/lib/python3.5/site-packages/pandas/core/frame.py\u001b[0m in \u001b[0;36m_getitem_column\u001b[1;34m(self, key)\u001b[0m\n\u001b[0;32m   1997\u001b[0m         \u001b[1;31m# get column\u001b[0m\u001b[1;33m\u001b[0m\u001b[1;33m\u001b[0m\u001b[0m\n\u001b[0;32m   1998\u001b[0m         \u001b[1;32mif\u001b[0m \u001b[0mself\u001b[0m\u001b[1;33m.\u001b[0m\u001b[0mcolumns\u001b[0m\u001b[1;33m.\u001b[0m\u001b[0mis_unique\u001b[0m\u001b[1;33m:\u001b[0m\u001b[1;33m\u001b[0m\u001b[0m\n\u001b[1;32m-> 1999\u001b[1;33m             \u001b[1;32mreturn\u001b[0m \u001b[0mself\u001b[0m\u001b[1;33m.\u001b[0m\u001b[0m_get_item_cache\u001b[0m\u001b[1;33m(\u001b[0m\u001b[0mkey\u001b[0m\u001b[1;33m)\u001b[0m\u001b[1;33m\u001b[0m\u001b[0m\n\u001b[0m\u001b[0;32m   2000\u001b[0m \u001b[1;33m\u001b[0m\u001b[0m\n\u001b[0;32m   2001\u001b[0m         \u001b[1;31m# duplicate columns & possible reduce dimensionality\u001b[0m\u001b[1;33m\u001b[0m\u001b[1;33m\u001b[0m\u001b[0m\n",
      "\u001b[1;32m/usr/local/anaconda3/lib/python3.5/site-packages/pandas/core/generic.py\u001b[0m in \u001b[0;36m_get_item_cache\u001b[1;34m(self, item)\u001b[0m\n\u001b[0;32m   1343\u001b[0m         \u001b[0mres\u001b[0m \u001b[1;33m=\u001b[0m \u001b[0mcache\u001b[0m\u001b[1;33m.\u001b[0m\u001b[0mget\u001b[0m\u001b[1;33m(\u001b[0m\u001b[0mitem\u001b[0m\u001b[1;33m)\u001b[0m\u001b[1;33m\u001b[0m\u001b[0m\n\u001b[0;32m   1344\u001b[0m         \u001b[1;32mif\u001b[0m \u001b[0mres\u001b[0m \u001b[1;32mis\u001b[0m \u001b[1;32mNone\u001b[0m\u001b[1;33m:\u001b[0m\u001b[1;33m\u001b[0m\u001b[0m\n\u001b[1;32m-> 1345\u001b[1;33m             \u001b[0mvalues\u001b[0m \u001b[1;33m=\u001b[0m \u001b[0mself\u001b[0m\u001b[1;33m.\u001b[0m\u001b[0m_data\u001b[0m\u001b[1;33m.\u001b[0m\u001b[0mget\u001b[0m\u001b[1;33m(\u001b[0m\u001b[0mitem\u001b[0m\u001b[1;33m)\u001b[0m\u001b[1;33m\u001b[0m\u001b[0m\n\u001b[0m\u001b[0;32m   1346\u001b[0m             \u001b[0mres\u001b[0m \u001b[1;33m=\u001b[0m \u001b[0mself\u001b[0m\u001b[1;33m.\u001b[0m\u001b[0m_box_item_values\u001b[0m\u001b[1;33m(\u001b[0m\u001b[0mitem\u001b[0m\u001b[1;33m,\u001b[0m \u001b[0mvalues\u001b[0m\u001b[1;33m)\u001b[0m\u001b[1;33m\u001b[0m\u001b[0m\n\u001b[0;32m   1347\u001b[0m             \u001b[0mcache\u001b[0m\u001b[1;33m[\u001b[0m\u001b[0mitem\u001b[0m\u001b[1;33m]\u001b[0m \u001b[1;33m=\u001b[0m \u001b[0mres\u001b[0m\u001b[1;33m\u001b[0m\u001b[0m\n",
      "\u001b[1;32m/usr/local/anaconda3/lib/python3.5/site-packages/pandas/core/internals.py\u001b[0m in \u001b[0;36mget\u001b[1;34m(self, item, fastpath)\u001b[0m\n\u001b[0;32m   3223\u001b[0m \u001b[1;33m\u001b[0m\u001b[0m\n\u001b[0;32m   3224\u001b[0m             \u001b[1;32mif\u001b[0m \u001b[1;32mnot\u001b[0m \u001b[0misnull\u001b[0m\u001b[1;33m(\u001b[0m\u001b[0mitem\u001b[0m\u001b[1;33m)\u001b[0m\u001b[1;33m:\u001b[0m\u001b[1;33m\u001b[0m\u001b[0m\n\u001b[1;32m-> 3225\u001b[1;33m                 \u001b[0mloc\u001b[0m \u001b[1;33m=\u001b[0m \u001b[0mself\u001b[0m\u001b[1;33m.\u001b[0m\u001b[0mitems\u001b[0m\u001b[1;33m.\u001b[0m\u001b[0mget_loc\u001b[0m\u001b[1;33m(\u001b[0m\u001b[0mitem\u001b[0m\u001b[1;33m)\u001b[0m\u001b[1;33m\u001b[0m\u001b[0m\n\u001b[0m\u001b[0;32m   3226\u001b[0m             \u001b[1;32melse\u001b[0m\u001b[1;33m:\u001b[0m\u001b[1;33m\u001b[0m\u001b[0m\n\u001b[0;32m   3227\u001b[0m                 \u001b[0mindexer\u001b[0m \u001b[1;33m=\u001b[0m \u001b[0mnp\u001b[0m\u001b[1;33m.\u001b[0m\u001b[0marange\u001b[0m\u001b[1;33m(\u001b[0m\u001b[0mlen\u001b[0m\u001b[1;33m(\u001b[0m\u001b[0mself\u001b[0m\u001b[1;33m.\u001b[0m\u001b[0mitems\u001b[0m\u001b[1;33m)\u001b[0m\u001b[1;33m)\u001b[0m\u001b[1;33m[\u001b[0m\u001b[0misnull\u001b[0m\u001b[1;33m(\u001b[0m\u001b[0mself\u001b[0m\u001b[1;33m.\u001b[0m\u001b[0mitems\u001b[0m\u001b[1;33m)\u001b[0m\u001b[1;33m]\u001b[0m\u001b[1;33m\u001b[0m\u001b[0m\n",
      "\u001b[1;32m/usr/local/anaconda3/lib/python3.5/site-packages/pandas/indexes/base.py\u001b[0m in \u001b[0;36mget_loc\u001b[1;34m(self, key, method, tolerance)\u001b[0m\n\u001b[0;32m   1876\u001b[0m                 \u001b[1;32mreturn\u001b[0m \u001b[0mself\u001b[0m\u001b[1;33m.\u001b[0m\u001b[0m_engine\u001b[0m\u001b[1;33m.\u001b[0m\u001b[0mget_loc\u001b[0m\u001b[1;33m(\u001b[0m\u001b[0mkey\u001b[0m\u001b[1;33m)\u001b[0m\u001b[1;33m\u001b[0m\u001b[0m\n\u001b[0;32m   1877\u001b[0m             \u001b[1;32mexcept\u001b[0m \u001b[0mKeyError\u001b[0m\u001b[1;33m:\u001b[0m\u001b[1;33m\u001b[0m\u001b[0m\n\u001b[1;32m-> 1878\u001b[1;33m                 \u001b[1;32mreturn\u001b[0m \u001b[0mself\u001b[0m\u001b[1;33m.\u001b[0m\u001b[0m_engine\u001b[0m\u001b[1;33m.\u001b[0m\u001b[0mget_loc\u001b[0m\u001b[1;33m(\u001b[0m\u001b[0mself\u001b[0m\u001b[1;33m.\u001b[0m\u001b[0m_maybe_cast_indexer\u001b[0m\u001b[1;33m(\u001b[0m\u001b[0mkey\u001b[0m\u001b[1;33m)\u001b[0m\u001b[1;33m)\u001b[0m\u001b[1;33m\u001b[0m\u001b[0m\n\u001b[0m\u001b[0;32m   1879\u001b[0m \u001b[1;33m\u001b[0m\u001b[0m\n\u001b[0;32m   1880\u001b[0m         \u001b[0mindexer\u001b[0m \u001b[1;33m=\u001b[0m \u001b[0mself\u001b[0m\u001b[1;33m.\u001b[0m\u001b[0mget_indexer\u001b[0m\u001b[1;33m(\u001b[0m\u001b[1;33m[\u001b[0m\u001b[0mkey\u001b[0m\u001b[1;33m]\u001b[0m\u001b[1;33m,\u001b[0m \u001b[0mmethod\u001b[0m\u001b[1;33m=\u001b[0m\u001b[0mmethod\u001b[0m\u001b[1;33m,\u001b[0m \u001b[0mtolerance\u001b[0m\u001b[1;33m=\u001b[0m\u001b[0mtolerance\u001b[0m\u001b[1;33m)\u001b[0m\u001b[1;33m\u001b[0m\u001b[0m\n",
      "\u001b[1;32mpandas/index.pyx\u001b[0m in \u001b[0;36mpandas.index.IndexEngine.get_loc (pandas/index.c:4027)\u001b[1;34m()\u001b[0m\n",
      "\u001b[1;32mpandas/index.pyx\u001b[0m in \u001b[0;36mpandas.index.IndexEngine.get_loc (pandas/index.c:3891)\u001b[1;34m()\u001b[0m\n",
      "\u001b[1;32mpandas/hashtable.pyx\u001b[0m in \u001b[0;36mpandas.hashtable.PyObjectHashTable.get_item (pandas/hashtable.c:12408)\u001b[1;34m()\u001b[0m\n",
      "\u001b[1;32mpandas/hashtable.pyx\u001b[0m in \u001b[0;36mpandas.hashtable.PyObjectHashTable.get_item (pandas/hashtable.c:12359)\u001b[1;34m()\u001b[0m\n",
      "\u001b[1;31mKeyError\u001b[0m: 'PUNT_'"
     ]
    }
   ],
   "source": [
    "\"\"\"TARGET: Looks OK\"\"\"\n",
    "print(data_2000_2['PUNT_BIOLOGIA'].value_counts().sort_index().index)\n",
    "print(data_2000_2['PUNT_BIOLOGIA'].value_counts().sort_index())\n",
    "print(missing_data(data_2000_2['PUNT_']))"
   ]
  },
  {
   "cell_type": "code",
   "execution_count": 84,
   "metadata": {
    "collapsed": false,
    "scrolled": true
   },
   "outputs": [
    {
     "name": "stdout",
     "output_type": "stream",
     "text": [
      "Int64Index([ 0,  8,  9, 17, 22, 23, 26, 27, 29, 30, 32, 34, 35, 36, 37, 38, 39,\n",
      "            40, 41, 42, 44, 45, 46, 47, 48, 49, 50, 51, 52, 53, 54, 55, 56, 57,\n",
      "            58, 59, 60, 61, 62, 64, 66, 68, 70, 72, 75, 78],\n",
      "           dtype='int64')\n",
      "0       231\n",
      "8         1\n",
      "9        89\n",
      "17      206\n",
      "22        7\n",
      "23      468\n",
      "26       12\n",
      "27     1352\n",
      "29       33\n",
      "30     3191\n",
      "32     6858\n",
      "34      105\n",
      "35    12229\n",
      "36      162\n",
      "37    19409\n",
      "38      230\n",
      "39    26731\n",
      "40      277\n",
      "41    32953\n",
      "42    37569\n",
      "44    38653\n",
      "45      308\n",
      "46    36671\n",
      "47    32346\n",
      "48      268\n",
      "49    26726\n",
      "50    21487\n",
      "51      184\n",
      "52    16251\n",
      "53    12290\n",
      "54      101\n",
      "55     8971\n",
      "56     6445\n",
      "57       51\n",
      "58     4402\n",
      "59     3026\n",
      "60       30\n",
      "61     1924\n",
      "62     1182\n",
      "64      713\n",
      "66      371\n",
      "68      196\n",
      "70       95\n",
      "72       40\n",
      "75       16\n",
      "78        2\n",
      "Name: PUNT_FILOSOFIA, dtype: int64\n",
      "Elementos null/NaN 0\n",
      "__________________\n",
      "Elementos diferentes de null/NaN: 354862\n",
      "__________________\n",
      "(354862,)\n",
      "None\n"
     ]
    }
   ],
   "source": [
    "\"\"\"TARGET: Looks OK\"\"\"\n",
    "print(data_2000_2['PUNT_FILOSOFIA'].value_counts().sort_index().index)\n",
    "print(data_2000_2['PUNT_FILOSOFIA'].value_counts().sort_index())\n",
    "print(missing_data(data_2000_2['PUNT_FILOSOFIA']))"
   ]
  },
  {
   "cell_type": "code",
   "execution_count": 85,
   "metadata": {
    "collapsed": false,
    "scrolled": true
   },
   "outputs": [
    {
     "name": "stdout",
     "output_type": "stream",
     "text": [
      "Int64Index([ 0, 14, 23, 29, 33, 36, 39, 42, 44, 46, 48, 50, 51, 52, 53, 55, 56,\n",
      "            57, 58, 60, 61, 63, 64, 66, 68, 69, 71, 73, 75, 77, 79, 82, 84],\n",
      "           dtype='int64')\n",
      "0        47\n",
      "14      194\n",
      "23     1040\n",
      "29     3646\n",
      "33     9476\n",
      "36    19259\n",
      "39    32370\n",
      "42    43821\n",
      "44    51143\n",
      "46    51328\n",
      "48    45292\n",
      "50    35515\n",
      "51    24840\n",
      "52      206\n",
      "53    15708\n",
      "55     9443\n",
      "56     5233\n",
      "57       37\n",
      "58     2739\n",
      "60     1477\n",
      "61      827\n",
      "63      462\n",
      "64      300\n",
      "66      174\n",
      "68       94\n",
      "69       69\n",
      "71       46\n",
      "73       29\n",
      "75       19\n",
      "77       16\n",
      "79        6\n",
      "82        2\n",
      "84        4\n",
      "Name: PUNT_FISICA, dtype: int64\n",
      "Elementos null/NaN 0\n",
      "__________________\n",
      "Elementos diferentes de null/NaN: 354862\n",
      "__________________\n",
      "(354862,)\n",
      "None\n"
     ]
    }
   ],
   "source": [
    "\"\"\"TARGET: Looks OK\"\"\"\n",
    "print(data_2000_2['PUNT_FISICA'].value_counts().sort_index().index)\n",
    "print(data_2000_2['PUNT_FISICA'].value_counts().sort_index())\n",
    "print(missing_data(data_2000_2['PUNT_FISICA']))"
   ]
  },
  {
   "cell_type": "code",
   "execution_count": 86,
   "metadata": {
    "collapsed": false,
    "scrolled": true
   },
   "outputs": [
    {
     "name": "stdout",
     "output_type": "stream",
     "text": [
      "Int64Index([ 0, 12, 19, 23, 24, 26, 27, 29, 30, 31, 32, 33, 34, 35, 36, 37, 38,\n",
      "            39, 40, 41, 42, 43, 44, 45, 46, 47, 48, 49, 50, 51, 52, 53, 54, 55,\n",
      "            56, 57, 58, 60, 61, 62, 63, 65, 67, 70, 73],\n",
      "           dtype='int64')\n",
      "0        24\n",
      "12       49\n",
      "19      134\n",
      "23        3\n",
      "24      473\n",
      "26        9\n",
      "27     1473\n",
      "29       31\n",
      "30     3480\n",
      "31       46\n",
      "32     7018\n",
      "33      116\n",
      "34    12050\n",
      "35      152\n",
      "36    18438\n",
      "37    24459\n",
      "38      241\n",
      "39    29072\n",
      "40    31974\n",
      "41      297\n",
      "42    31915\n",
      "43    31523\n",
      "44    28958\n",
      "45      252\n",
      "46    25901\n",
      "47    22567\n",
      "48    19366\n",
      "49    16310\n",
      "50      124\n",
      "51    13206\n",
      "52    10492\n",
      "53     8381\n",
      "54     6015\n",
      "55       52\n",
      "56     4130\n",
      "57     2811\n",
      "58     1664\n",
      "60      943\n",
      "61        4\n",
      "62      407\n",
      "63      194\n",
      "65       76\n",
      "67       23\n",
      "70        5\n",
      "73        4\n",
      "Name: PUNT_HISTORIA, dtype: int64\n",
      "Elementos null/NaN 0\n",
      "__________________\n",
      "Elementos diferentes de null/NaN: 354862\n",
      "__________________\n",
      "(354862,)\n",
      "None\n"
     ]
    }
   ],
   "source": [
    "\"\"\"TARGET: Looks OK\"\"\"\n",
    "print(data_2000_2['PUNT_HISTORIA'].value_counts().sort_index().index)\n",
    "print(data_2000_2['PUNT_HISTORIA'].value_counts().sort_index())\n",
    "print(missing_data(data_2000_2['PUNT_HISTORIA']))"
   ]
  },
  {
   "cell_type": "code",
   "execution_count": 87,
   "metadata": {
    "collapsed": false,
    "scrolled": true
   },
   "outputs": [
    {
     "name": "stdout",
     "output_type": "stream",
     "text": [
      "Int64Index([ 0, 18, 25, 29, 32, 34, 35, 36, 37, 38, 39, 40, 41, 42, 43, 44, 45,\n",
      "            46, 47, 48, 49, 50, 51, 52, 53, 54, 55, 56, 57, 58, 59, 60, 61, 62,\n",
      "            63, 64, 65, 66, 68, 70, 73, 77, 84, 95],\n",
      "           dtype='int64')\n",
      "0        74\n",
      "18       90\n",
      "25      270\n",
      "29      731\n",
      "32     2048\n",
      "34     4955\n",
      "35       75\n",
      "36     9924\n",
      "37      131\n",
      "38    17163\n",
      "39    24906\n",
      "40      310\n",
      "41    32078\n",
      "42    37007\n",
      "43      398\n",
      "44    38737\n",
      "45    36081\n",
      "46    31191\n",
      "47    26224\n",
      "48    20831\n",
      "49    16517\n",
      "50      100\n",
      "51    12688\n",
      "52     9640\n",
      "53     7457\n",
      "54     5863\n",
      "55     4584\n",
      "56     3653\n",
      "57     2899\n",
      "58       11\n",
      "59     2274\n",
      "60     1739\n",
      "61     1310\n",
      "62        2\n",
      "63      947\n",
      "64      721\n",
      "65        1\n",
      "66      480\n",
      "68      345\n",
      "70      219\n",
      "73      105\n",
      "77       59\n",
      "84       22\n",
      "95        2\n",
      "Name: PUNT_QUIMICA, dtype: int64\n",
      "Elementos null/NaN 0\n",
      "__________________\n",
      "Elementos diferentes de null/NaN: 354862\n",
      "__________________\n",
      "(354862,)\n",
      "None\n"
     ]
    }
   ],
   "source": [
    "\"\"\"TARGET: Looks OK\"\"\"\n",
    "print(data_2000_2['PUNT_QUIMICA'].value_counts().sort_index().index)\n",
    "print(data_2000_2['PUNT_QUIMICA'].value_counts().sort_index())\n",
    "print(missing_data(data_2000_2['PUNT_QUIMICA']))"
   ]
  },
  {
   "cell_type": "code",
   "execution_count": 88,
   "metadata": {
    "collapsed": false,
    "scrolled": true
   },
   "outputs": [
    {
     "name": "stdout",
     "output_type": "stream",
     "text": [
      "Int64Index([ 0, 11, 19, 24, 27, 28, 30, 31, 32, 34, 36, 38, 40, 41, 42, 43, 44,\n",
      "            45, 46, 47, 48, 49, 50, 51, 52, 53, 54, 55, 56, 57, 58, 59, 60, 61,\n",
      "            62, 63, 64, 65, 66, 68, 71, 73, 77],\n",
      "           dtype='int64')\n",
      "0        75\n",
      "11       97\n",
      "19      132\n",
      "24      278\n",
      "27      653\n",
      "28       10\n",
      "30     1457\n",
      "31       18\n",
      "32     3131\n",
      "34     6020\n",
      "36     9744\n",
      "38    14457\n",
      "40    18978\n",
      "41    23726\n",
      "42      247\n",
      "43    27435\n",
      "44    29083\n",
      "45      292\n",
      "46    30528\n",
      "47    29334\n",
      "48    28534\n",
      "49      308\n",
      "50    26568\n",
      "51    23842\n",
      "52    21399\n",
      "53      166\n",
      "54    17400\n",
      "55    13713\n",
      "56    10250\n",
      "57       45\n",
      "58     7184\n",
      "59     4579\n",
      "60        8\n",
      "61     2781\n",
      "62     1350\n",
      "63        8\n",
      "64      615\n",
      "65        2\n",
      "66      292\n",
      "68       87\n",
      "71       27\n",
      "73        8\n",
      "77        1\n",
      "Name: PUNT_LENGUAJE, dtype: int64\n",
      "Elementos null/NaN 0\n",
      "__________________\n",
      "Elementos diferentes de null/NaN: 354862\n",
      "__________________\n",
      "(354862,)\n",
      "None\n"
     ]
    }
   ],
   "source": [
    "\"\"\"TARGET: Looks OK\"\"\"\n",
    "print(data_2000_2['PUNT_LENGUAJE'].value_counts().sort_index().index)\n",
    "print(data_2000_2['PUNT_LENGUAJE'].value_counts().sort_index())\n",
    "print(missing_data(data_2000_2['PUNT_LENGUAJE']))"
   ]
  },
  {
   "cell_type": "code",
   "execution_count": 89,
   "metadata": {
    "collapsed": false,
    "scrolled": true
   },
   "outputs": [
    {
     "name": "stdout",
     "output_type": "stream",
     "text": [
      "Int64Index([ 0, 10, 18, 22, 25, 26, 28, 29, 30, 31, 33, 35, 36, 37, 38, 39, 40,\n",
      "            41, 42, 43, 44, 45, 46, 47, 48, 49, 50, 51, 52, 53, 54, 55, 56, 57,\n",
      "            58, 60, 61, 62, 63, 65, 67, 70],\n",
      "           dtype='int64')\n",
      "0        89\n",
      "10      100\n",
      "18      164\n",
      "22      431\n",
      "25        4\n",
      "26     1090\n",
      "28       17\n",
      "29     2310\n",
      "30       34\n",
      "31     4775\n",
      "33     8424\n",
      "35    13167\n",
      "36      144\n",
      "37    18404\n",
      "38      236\n",
      "39    23902\n",
      "40    28331\n",
      "41      284\n",
      "42    31395\n",
      "43    32680\n",
      "44      290\n",
      "45    32056\n",
      "46    30194\n",
      "47    27555\n",
      "48      251\n",
      "49    24237\n",
      "50    20491\n",
      "51    16877\n",
      "52      139\n",
      "53    12909\n",
      "54     9448\n",
      "55     6446\n",
      "56       39\n",
      "57     4001\n",
      "58     2163\n",
      "60     1106\n",
      "61        7\n",
      "62      451\n",
      "63      158\n",
      "65       48\n",
      "67       14\n",
      "70        1\n",
      "Name: PUNT_GEOGRAFIA, dtype: int64\n",
      "Elementos null/NaN 0\n",
      "__________________\n",
      "Elementos diferentes de null/NaN: 354862\n",
      "__________________\n",
      "(354862,)\n",
      "None\n"
     ]
    }
   ],
   "source": [
    "\"\"\"TARGET: Looks OK\"\"\"\n",
    "print(data_2000_2['PUNT_GEOGRAFIA'].value_counts().sort_index().index)\n",
    "print(data_2000_2['PUNT_GEOGRAFIA'].value_counts().sort_index())\n",
    "print(missing_data(data_2000_2['PUNT_GEOGRAFIA']))"
   ]
  },
  {
   "cell_type": "code",
   "execution_count": 90,
   "metadata": {
    "collapsed": false
   },
   "outputs": [
    {
     "name": "stdout",
     "output_type": "stream",
     "text": [
      "Int64Index([43, 44, 45], dtype='int64')\n",
      "43    144864\n",
      "44    178538\n",
      "45     31460\n",
      "Name: COD_INTERDISCIPLINAR, dtype: int64\n",
      "Elementos null/NaN 0\n",
      "__________________\n",
      "Elementos diferentes de null/NaN: 354862\n",
      "__________________\n",
      "(354862,)\n",
      "None\n"
     ]
    }
   ],
   "source": [
    "\"\"\"This column Looks OK\"\"\"\n",
    "print(data_2000_2['COD_INTERDISCIPLINAR'].value_counts().sort_index().index)\n",
    "print(data_2000_2['COD_INTERDISCIPLINAR'].value_counts().sort_index())\n",
    "print(missing_data(data_2000_2['COD_INTERDISCIPLINAR']))"
   ]
  },
  {
   "cell_type": "code",
   "execution_count": 91,
   "metadata": {
    "collapsed": false,
    "scrolled": true
   },
   "outputs": [
    {
     "name": "stdout",
     "output_type": "stream",
     "text": [
      "Int64Index([ 0, 24, 25, 27, 29, 30, 32, 35, 37, 38, 40, 41, 42, 43, 44, 45, 46,\n",
      "            47, 48, 49, 50, 51, 52, 53, 54, 55, 56, 57, 58, 59, 60, 61, 62, 63,\n",
      "            64, 65, 66, 67, 68, 69, 70, 71, 72, 73, 74, 76, 78, 81, 83, 88, 90,\n",
      "            95],\n",
      "           dtype='int64')\n",
      "0      1667\n",
      "24     5056\n",
      "25      193\n",
      "27       24\n",
      "29        1\n",
      "30     1055\n",
      "32    13423\n",
      "35        1\n",
      "37    24105\n",
      "38      371\n",
      "40        2\n",
      "41     3031\n",
      "42    31592\n",
      "43        4\n",
      "44      360\n",
      "45    33347\n",
      "46        4\n",
      "47        6\n",
      "48    32515\n",
      "49        2\n",
      "50       12\n",
      "51    19883\n",
      "52       16\n",
      "53     5761\n",
      "54    11902\n",
      "55      113\n",
      "56      624\n",
      "57     1073\n",
      "58    13659\n",
      "59     5506\n",
      "60     9478\n",
      "61    15816\n",
      "62    25316\n",
      "63    17175\n",
      "64    22657\n",
      "65    18797\n",
      "66    14136\n",
      "67     8889\n",
      "68     6015\n",
      "69     4477\n",
      "70     2985\n",
      "71     1041\n",
      "72       92\n",
      "73      340\n",
      "74     1364\n",
      "76       10\n",
      "78      574\n",
      "81       18\n",
      "83      253\n",
      "88       78\n",
      "90       16\n",
      "95       27\n",
      "Name: PUNT_INTERDISCIPLINAR, dtype: int64\n",
      "Elementos null/NaN 0\n",
      "__________________\n",
      "Elementos diferentes de null/NaN: 354862\n",
      "__________________\n",
      "(354862,)\n",
      "None\n"
     ]
    }
   ],
   "source": [
    "\"\"\"TARGET: Looks OK\"\"\"\n",
    "print(data_2000_2['PUNT_INTERDISCIPLINAR'].value_counts().sort_index().index)\n",
    "print(data_2000_2['PUNT_INTERDISCIPLINAR'].value_counts().sort_index())\n",
    "print(missing_data(data_2000_2['PUNT_INTERDISCIPLINAR']))"
   ]
  },
  {
   "cell_type": "code",
   "execution_count": 92,
   "metadata": {
    "collapsed": false
   },
   "outputs": [
    {
     "name": "stdout",
     "output_type": "stream",
     "text": [
      "Int64Index([51, 52, 53], dtype='int64')\n",
      "51    352123\n",
      "52      2591\n",
      "53       148\n",
      "Name: COD_IDIOMA, dtype: int64\n",
      "Elementos null/NaN 0\n",
      "__________________\n",
      "Elementos diferentes de null/NaN: 354862\n",
      "__________________\n",
      "(354862,)\n",
      "None\n"
     ]
    }
   ],
   "source": [
    "\"\"\"This column loooks OK\"\"\"\n",
    "print(data_2000_2['COD_IDIOMA'].value_counts().sort_index().index)\n",
    "print(data_2000_2['COD_IDIOMA'].value_counts().sort_index())\n",
    "print(missing_data(data_2000_2['COD_IDIOMA']))"
   ]
  },
  {
   "cell_type": "code",
   "execution_count": 93,
   "metadata": {
    "collapsed": false,
    "scrolled": true
   },
   "outputs": [
    {
     "name": "stdout",
     "output_type": "stream",
     "text": [
      "Int64Index([ 0, 14, 21, 24, 25, 29, 31, 32, 33, 34, 35, 36, 37, 38, 39, 40, 41,\n",
      "            42, 43, 44, 45, 46, 47, 48, 49, 50, 51, 52, 53, 54, 55, 56, 57, 58,\n",
      "            59, 60, 61, 62, 63, 64, 66, 67, 68, 69, 71, 72, 74, 77, 79, 82, 86,\n",
      "            98],\n",
      "           dtype='int64')\n",
      "0       265\n",
      "14      174\n",
      "21      654\n",
      "24        7\n",
      "25     2186\n",
      "29     5607\n",
      "31    11448\n",
      "32       60\n",
      "33    20215\n",
      "34      212\n",
      "35    29818\n",
      "36       13\n",
      "37    38113\n",
      "38       18\n",
      "39    42414\n",
      "40    41780\n",
      "41      302\n",
      "42    38088\n",
      "43    30818\n",
      "44    23793\n",
      "45      272\n",
      "46    17499\n",
      "47    11963\n",
      "48     8425\n",
      "49     6036\n",
      "50     4402\n",
      "51       63\n",
      "52     3456\n",
      "53     2703\n",
      "54     2179\n",
      "55     1846\n",
      "56       20\n",
      "57     1665\n",
      "58     1346\n",
      "59     1213\n",
      "60        7\n",
      "61     1111\n",
      "62       12\n",
      "63      997\n",
      "64      852\n",
      "66      749\n",
      "67        2\n",
      "68      667\n",
      "69        5\n",
      "71      539\n",
      "72        7\n",
      "74      429\n",
      "77        3\n",
      "79      275\n",
      "82        1\n",
      "86      113\n",
      "98       20\n",
      "Name: PUNT_IDIOMA, dtype: int64\n",
      "Elementos null/NaN 0\n",
      "__________________\n",
      "Elementos diferentes de null/NaN: 354862\n",
      "__________________\n",
      "(354862,)\n",
      "None\n"
     ]
    }
   ],
   "source": [
    "\"\"\"TARGET: Looks OK\"\"\"\n",
    "print(data_2000_2['PUNT_IDIOMA'].value_counts().sort_index().index)\n",
    "print(data_2000_2['PUNT_IDIOMA'].value_counts().sort_index())\n",
    "print(missing_data(data_2000_2['PUNT_IDIOMA']))"
   ]
  },
  {
   "cell_type": "code",
   "execution_count": 94,
   "metadata": {
    "collapsed": false,
    "scrolled": true
   },
   "outputs": [
    {
     "name": "stdout",
     "output_type": "stream",
     "text": [
      "Index(['*', '*  *', '*  4', '* *', '* 0', '* 01', '* 02', '* 06', '* 07',\n",
      "       '* 10',\n",
      "       ...\n",
      "       '99', '99 9', '99**', '9900', '9909', '9949', '999', '999*', '9998',\n",
      "       '9999'],\n",
      "      dtype='object', length=1632)\n",
      "*          17\n",
      "*  *        6\n",
      "*  4        1\n",
      "* *        11\n",
      "* 0         1\n",
      "* 01        5\n",
      "* 02        1\n",
      "* 06        2\n",
      "* 07        3\n",
      "* 10        1\n",
      "* 13        1\n",
      "* 14        1\n",
      "* 20        1\n",
      "* 24        1\n",
      "* 28        1\n",
      "* 30        2\n",
      "* 70        1\n",
      "* 89        1\n",
      "**         43\n",
      "** 0        1\n",
      "****       39\n",
      "***0        1\n",
      "***1        1\n",
      "***2        1\n",
      "***3        1\n",
      "***9        2\n",
      "**01        1\n",
      "**05        1\n",
      "**1*        1\n",
      "**14        1\n",
      "        ...  \n",
      "8811        1\n",
      "8829        1\n",
      "8849        1\n",
      "8888        1\n",
      "9          51\n",
      "9  9       10\n",
      "9 9        11\n",
      "9 99       21\n",
      "9***        2\n",
      "9103        1\n",
      "9113        1\n",
      "9201        1\n",
      "9202        1\n",
      "9206        1\n",
      "9211        1\n",
      "952         1\n",
      "9807        1\n",
      "9813        1\n",
      "9822        1\n",
      "9836        1\n",
      "99         35\n",
      "99 9       25\n",
      "99**        1\n",
      "9900        1\n",
      "9909        1\n",
      "9949        1\n",
      "999       153\n",
      "999*        1\n",
      "9998        1\n",
      "9999    27695\n",
      "Name: ESTU_IES_COD_DESEADA, dtype: int64\n"
     ]
    }
   ],
   "source": [
    "\"\"\"This column has a lot of incoherences, this incoherences will be replaced for NaN\"\"\"\n",
    "print(data_2000_2['ESTU_IES_COD_DESEADA'].value_counts().sort_index().index)\n",
    "print(data_2000_2['ESTU_IES_COD_DESEADA'].value_counts().sort_index())"
   ]
  },
  {
   "cell_type": "code",
   "execution_count": 95,
   "metadata": {
    "collapsed": true
   },
   "outputs": [],
   "source": [
    "\"\"\"The codes of the universities are of 4 digits, so i will replace the codes that has some '*', or space (' '), or that has more\n",
    "or less than 4 digits\"\"\"\n",
    "for i in data_2000_2['ESTU_IES_COD_DESEADA'].value_counts().sort_index().index:\n",
    "    if '*' in i:\n",
    "        data_2000_2['ESTU_IES_COD_DESEADA'] = data_2000_2['ESTU_IES_COD_DESEADA'].replace(i, 'NaN')\n",
    "    elif ' ' in i:\n",
    "        data_2000_2['ESTU_IES_COD_DESEADA'] = data_2000_2['ESTU_IES_COD_DESEADA'].replace(i, 'NaN')\n",
    "    elif len(i)<4:\n",
    "        data_2000_2['ESTU_IES_COD_DESEADA'] = data_2000_2['ESTU_IES_COD_DESEADA'].replace(i, 'NaN')\n",
    "    elif len(i)>4:\n",
    "        data_2000_2['ESTU_IES_COD_DESEADA'] = data_2000_2['ESTU_IES_COD_DESEADA'].replace(i, 'NaN')"
   ]
  },
  {
   "cell_type": "code",
   "execution_count": 96,
   "metadata": {
    "collapsed": false,
    "scrolled": true
   },
   "outputs": [
    {
     "name": "stdout",
     "output_type": "stream",
     "text": [
      "Index(['*', '1', '2', '3', '4', '5', '6', '7', '8'], dtype='object')\n",
      "*      453\n",
      "1     6668\n",
      "2    91289\n",
      "3    46148\n",
      "4    37703\n",
      "5    43637\n",
      "6    33567\n",
      "7    23380\n",
      "8    42835\n",
      "Name: ESTU_RAZONINSTITUTO, dtype: int64\n",
      "Elementos null/NaN 29182\n",
      "__________________\n",
      "Elementos diferentes de null/NaN: 325680\n",
      "__________________\n",
      "(325680,)\n",
      "None\n"
     ]
    }
   ],
   "source": [
    "\"\"\"Looks OK, just replace the * values for NaN, and the np.nan values for strings 'NaN'.\"\"\"\n",
    "print(data_2000_2['ESTU_RAZONINSTITUTO'].value_counts().sort_index().index)\n",
    "print(data_2000_2['ESTU_RAZONINSTITUTO'].value_counts().sort_index())\n",
    "print(missing_data(data_2000_2['ESTU_RAZONINSTITUTO']))"
   ]
  },
  {
   "cell_type": "code",
   "execution_count": 97,
   "metadata": {
    "collapsed": true
   },
   "outputs": [],
   "source": [
    "\"\"\"Will be replace for '*' values\"\"\"\n",
    "data_2000_2['ESTU_RAZONINSTITUTO'] = data_2000_2['ESTU_RAZONINSTITUTO'].replace('*', 'NaN')\n",
    "data_2000_2['ESTU_RAZONINSTITUTO'] = data_2000_2['ESTU_RAZONINSTITUTO'].replace(np.nan, 'NaN')"
   ]
  },
  {
   "cell_type": "code",
   "execution_count": 98,
   "metadata": {
    "collapsed": false,
    "scrolled": true
   },
   "outputs": [
    {
     "name": "stdout",
     "output_type": "stream",
     "text": [
      "Index(['*', '*   *', '*  2*', '* *', '* * 0', '* * 1', '* * 3', '* * 4',\n",
      "       '* *0', '* *1',\n",
      "       ...\n",
      "       '99113', '99155', '999', '999 9', '99909', '9999', '99990', '99991',\n",
      "       '99998', '99999'],\n",
      "      dtype='object', length=4908)\n",
      "*           12\n",
      "*   *        1\n",
      "*  2*        1\n",
      "* *          8\n",
      "* * 0        1\n",
      "* * 1        4\n",
      "* * 3        1\n",
      "* * 4        1\n",
      "* *0         2\n",
      "* *1         3\n",
      "* *2         2\n",
      "* *3         1\n",
      "* *4         2\n",
      "* *5         1\n",
      "* *9         1\n",
      "* 07         1\n",
      "* 1 *        3\n",
      "* 1 2        1\n",
      "* 1*         1\n",
      "* 11         1\n",
      "* 110        1\n",
      "* 117        1\n",
      "* 118        1\n",
      "* 123        1\n",
      "* 161        1\n",
      "* 18         1\n",
      "* 2*         1\n",
      "* 24         1\n",
      "* 33         1\n",
      "* 4 *        1\n",
      "         ...  \n",
      "98112        1\n",
      "98113        3\n",
      "98114        2\n",
      "98119        5\n",
      "98125        1\n",
      "98128        1\n",
      "98142        1\n",
      "98145        1\n",
      "98155        1\n",
      "98186        1\n",
      "98197        1\n",
      "98201        2\n",
      "98210        1\n",
      "99           9\n",
      "99  9        2\n",
      "99 9         6\n",
      "99 99       10\n",
      "99091        1\n",
      "99099        1\n",
      "99108        1\n",
      "99113        1\n",
      "99155        1\n",
      "999         70\n",
      "999 9       11\n",
      "99909        2\n",
      "9999       359\n",
      "99990        1\n",
      "99991        1\n",
      "99998        1\n",
      "99999    24410\n",
      "Name: ESTU_CARRDESEADA_COD, dtype: int64\n",
      "Elementos null/NaN 15720\n",
      "__________________\n",
      "Elementos diferentes de null/NaN: 339142\n",
      "__________________\n",
      "(339142,)\n",
      "None\n"
     ]
    }
   ],
   "source": [
    "\"\"\"Into this column i found a LOT of incoherences.\"\"\"\n",
    "print(data_2000_2['ESTU_CARRDESEADA_COD'].value_counts().sort_index().index)\n",
    "print(data_2000_2['ESTU_CARRDESEADA_COD'].value_counts().sort_index())\n",
    "print(missing_data(data_2000_2['ESTU_CARRDESEADA_COD']))"
   ]
  },
  {
   "cell_type": "code",
   "execution_count": 99,
   "metadata": {
    "collapsed": false
   },
   "outputs": [],
   "source": [
    "\"\"\"Here i'm replacing the values with anomalies for NaN, and i will let the rows that has got any number because the \n",
    "codes of the programs are so diverse. And then i will put NaN where the values has some space or np.nan\"\"\"\n",
    "for i in data_2000_2['ESTU_CARRDESEADA_COD'].value_counts().sort_index().index:\n",
    "    if '*' in i:\n",
    "        data_2000_2['ESTU_CARRDESEADA_COD'] = data_2000_2['ESTU_CARRDESEADA_COD'].replace(i, 'NaN')\n",
    "    elif(' ' in i):\n",
    "        data_2000_2['ESTU_CARRDESEADA_COD'] = data_2000_2['ESTU_CARRDESEADA_COD'].replace(i, 'NaN')\n",
    "    #And i decided to replace the code 0 or 00... for 'NaN' because there is no program with that code\n",
    "    elif i!='NaN':\n",
    "        if int(i)==0:\n",
    "            data_2000_2['ESTU_CARRDESEADA_COD'] = data_2000_2['ESTU_CARRDESEADA_COD'].replace(i, 'NaN')\n",
    "\n",
    "data_2000_2['ESTU_CARRDESEADA_COD'] = data_2000_2['ESTU_CARRDESEADA_COD'].replace(np.nan, 'NaN')\n"
   ]
  },
  {
   "cell_type": "code",
   "execution_count": 100,
   "metadata": {
    "collapsed": false
   },
   "outputs": [
    {
     "name": "stdout",
     "output_type": "stream",
     "text": [
      "Index(['*', '1', '2', '3', '4', '5', '6'], dtype='object')\n",
      "*      277\n",
      "1    96330\n",
      "2    83232\n",
      "3    91159\n",
      "4    26027\n",
      "5    28603\n",
      "6    10772\n",
      "Name: ESTU_CARRDESEADA_RAZON, dtype: int64\n",
      "Elementos null/NaN 18462\n",
      "__________________\n",
      "Elementos diferentes de null/NaN: 336400\n",
      "__________________\n",
      "(336400,)\n",
      "None\n"
     ]
    }
   ],
   "source": [
    "\"\"\"In this column i found just an incoherence with the * values\"\"\"\n",
    "print(data_2000_2['ESTU_CARRDESEADA_RAZON'].value_counts().sort_index().index)\n",
    "print(data_2000_2['ESTU_CARRDESEADA_RAZON'].value_counts().sort_index())\n",
    "print(missing_data(data_2000_2['ESTU_CARRDESEADA_RAZON']))"
   ]
  },
  {
   "cell_type": "code",
   "execution_count": 101,
   "metadata": {
    "collapsed": true
   },
   "outputs": [],
   "source": [
    "\"\"\"The changes are done here.\"\"\"\n",
    "data_2000_2['ESTU_CARRDESEADA_RAZON'] = data_2000_2['ESTU_CARRDESEADA_RAZON'].replace('*', 'NaN')\n",
    "data_2000_2['ESTU_CARRDESEADA_RAZON'] = data_2000_2['ESTU_CARRDESEADA_RAZON'].replace(np.nan, 'NaN')"
   ]
  },
  {
   "cell_type": "code",
   "execution_count": 102,
   "metadata": {
    "collapsed": false
   },
   "outputs": [
    {
     "name": "stdout",
     "output_type": "stream",
     "text": [
      "Index(['*', '+', '1', '2', '3', '4', '5', '6', '7', '8', '9'], dtype='object')\n",
      "*      875\n",
      "+    16277\n",
      "1      839\n",
      "2    10092\n",
      "3    34503\n",
      "4    76612\n",
      "5    89426\n",
      "6    60176\n",
      "7    33852\n",
      "8    18915\n",
      "9    11081\n",
      "Name: FAMI_PERSONAS_HOGAR, dtype: int64\n",
      "Elementos null/NaN 2214\n",
      "__________________\n",
      "Elementos diferentes de null/NaN: 352648\n",
      "__________________\n",
      "(352648,)\n",
      "None\n"
     ]
    }
   ],
   "source": [
    "\"\"\"Incoherences with the * and the + values. I decide to let the + values as +9 human being in home,\n",
    "and the * as NaN\"\"\"\n",
    "print(data_2000_2['FAMI_PERSONAS_HOGAR'].value_counts().sort_index().index)\n",
    "print(data_2000_2['FAMI_PERSONAS_HOGAR'].value_counts().sort_index())\n",
    "print(missing_data(data_2000_2['FAMI_PERSONAS_HOGAR']))"
   ]
  },
  {
   "cell_type": "code",
   "execution_count": 103,
   "metadata": {
    "collapsed": true
   },
   "outputs": [],
   "source": [
    "data_2000_2['FAMI_PERSONAS_HOGAR'] = data_2000_2['FAMI_PERSONAS_HOGAR'].replace('*', 'NaN')\n",
    "data_2000_2['FAMI_PERSONAS_HOGAR'] = data_2000_2['FAMI_PERSONAS_HOGAR'].replace('+', '+9')\n",
    "data_2000_2['FAMI_PERSONAS_HOGAR'] = data_2000_2['FAMI_PERSONAS_HOGAR'].replace(np.nan, 'NaN')"
   ]
  },
  {
   "cell_type": "code",
   "execution_count": 104,
   "metadata": {
    "collapsed": false,
    "scrolled": true
   },
   "outputs": [
    {
     "name": "stdout",
     "output_type": "stream",
     "text": [
      "Index(['*', 'N', 'S'], dtype='object')\n",
      "*        31\n",
      "N     94751\n",
      "S    246076\n",
      "Name: FAMI_VIVIENDA_PROPIA, dtype: int64\n",
      "Elementos null/NaN 14004\n",
      "__________________\n",
      "Elementos diferentes de null/NaN: 340858\n",
      "__________________\n",
      "(340858,)\n",
      "None\n"
     ]
    }
   ],
   "source": [
    "\"\"\"Has got some * values, this values will be replaced for NaN\"\"\"\n",
    "print(data_2000_2['FAMI_VIVIENDA_PROPIA'].value_counts().sort_index().index)\n",
    "print(data_2000_2['FAMI_VIVIENDA_PROPIA'].value_counts().sort_index())\n",
    "print(missing_data(data_2000_2['FAMI_VIVIENDA_PROPIA']))"
   ]
  },
  {
   "cell_type": "code",
   "execution_count": 105,
   "metadata": {
    "collapsed": true
   },
   "outputs": [],
   "source": [
    "data_2000_2['FAMI_VIVIENDA_PROPIA'] = data_2000_2['FAMI_VIVIENDA_PROPIA'].replace('*', 'NaN')\n",
    "data_2000_2['FAMI_VIVIENDA_PROPIA'] = data_2000_2['FAMI_VIVIENDA_PROPIA'].replace(np.nan, 'NaN')"
   ]
  },
  {
   "cell_type": "code",
   "execution_count": 106,
   "metadata": {
    "collapsed": false
   },
   "outputs": [
    {
     "name": "stdout",
     "output_type": "stream",
     "text": [
      "Index(['*', '1', '2', 'N', 'S'], dtype='object')\n",
      "*        15\n",
      "1        12\n",
      "2        36\n",
      "N    164956\n",
      "S     57085\n",
      "Name: FAMI_DEUDA_VIVIENDA, dtype: int64\n",
      "Elementos null/NaN 132758\n",
      "__________________\n",
      "Elementos diferentes de null/NaN: 222104\n",
      "__________________\n",
      "(222104,)\n",
      "None\n"
     ]
    }
   ],
   "source": [
    "\"\"\"This column must be like a boolean, with just two values (S/N) but it has four different values, so i decided to\n",
    "replace the * values for NaN, and replace the 1 for S, and the 2 for N because of the amounts, and ofcourse the np.nan \n",
    "for string 'NaN'.\"\"\"\n",
    "print(data_2000_2['FAMI_DEUDA_VIVIENDA'].value_counts().sort_index().index)\n",
    "print(data_2000_2['FAMI_DEUDA_VIVIENDA'].value_counts().sort_index())\n",
    "print(missing_data(data_2000_2['FAMI_DEUDA_VIVIENDA']))"
   ]
  },
  {
   "cell_type": "code",
   "execution_count": 107,
   "metadata": {
    "collapsed": true
   },
   "outputs": [],
   "source": [
    "data_2000_2['FAMI_DEUDA_VIVIENDA'] = data_2000_2['FAMI_DEUDA_VIVIENDA'].replace('*', 'NaN')\n",
    "data_2000_2['FAMI_DEUDA_VIVIENDA'] = data_2000_2['FAMI_DEUDA_VIVIENDA'].replace('1', 'S')\n",
    "data_2000_2['FAMI_DEUDA_VIVIENDA'] = data_2000_2['FAMI_DEUDA_VIVIENDA'].replace('2', 'N')\n",
    "data_2000_2['FAMI_DEUDA_VIVIENDA'] = data_2000_2['FAMI_DEUDA_VIVIENDA'].replace(np.nan, 'NaN')"
   ]
  },
  {
   "cell_type": "code",
   "execution_count": 108,
   "metadata": {
    "collapsed": false
   },
   "outputs": [
    {
     "name": "stdout",
     "output_type": "stream",
     "text": [
      "Index(['*', '+', '0', '1', '2', '3', '4', '5', '6', '7', '8', '9'], dtype='object')\n",
      "*       652\n",
      "+       293\n",
      "0      1702\n",
      "1    186479\n",
      "2    127341\n",
      "3     23267\n",
      "4      6674\n",
      "5      1790\n",
      "6       623\n",
      "7       238\n",
      "8       119\n",
      "9        77\n",
      "Name: FAMI_APORTANTES, dtype: int64\n",
      "Elementos null/NaN 5607\n",
      "__________________\n",
      "Elementos diferentes de null/NaN: 349255\n",
      "__________________\n",
      "(349255,)\n",
      "None\n"
     ]
    }
   ],
   "source": [
    "\"\"\"I really don't know what means the 0...\"\"\"\n",
    "print(data_2000_2['FAMI_APORTANTES'].value_counts().sort_index().index)\n",
    "print(data_2000_2['FAMI_APORTANTES'].value_counts().sort_index())\n",
    "print(missing_data(data_2000_2['FAMI_APORTANTES']))"
   ]
  },
  {
   "cell_type": "code",
   "execution_count": 109,
   "metadata": {
    "collapsed": true
   },
   "outputs": [],
   "source": [
    "\"\"\"The 0 counts, so i will replace the simbol + for '+9' and '*' for 'NaN'\"\"\"\n",
    "data_2000_2['FAMI_APORTANTES'] = data_2000_2['FAMI_APORTANTES'].replace('+', '+9')\n",
    "data_2000_2['FAMI_APORTANTES'] = data_2000_2['FAMI_APORTANTES'].replace('*', 'NaN')\n",
    "data_2000_2['FAMI_APORTANTES'] = data_2000_2['FAMI_APORTANTES'].replace(np.nan, 'NaN')"
   ]
  },
  {
   "cell_type": "code",
   "execution_count": 110,
   "metadata": {
    "collapsed": false
   },
   "outputs": [
    {
     "name": "stdout",
     "output_type": "stream",
     "text": [
      "Index(['*', '0', '1', '2', '3', '4', '5', '6', '7', '8', '9'], dtype='object')\n",
      "*       154\n",
      "0     90451\n",
      "1    139851\n",
      "2     59043\n",
      "3     32157\n",
      "4     12181\n",
      "5      5304\n",
      "6      3233\n",
      "7      1683\n",
      "8      1259\n",
      "9      1992\n",
      "Name: FAMI_INGRESO_FMILIAR_MENSUAL, dtype: int64\n",
      "Elementos null/NaN 7554\n",
      "__________________\n",
      "Elementos diferentes de null/NaN: 347308\n",
      "__________________\n",
      "(347308,)\n",
      "None\n"
     ]
    }
   ],
   "source": [
    "\"\"\"In this column there is some '*' that will be replaced for 'NaN' and the np.nan too\"\"\"\n",
    "print(data_2000_2['FAMI_INGRESO_FMILIAR_MENSUAL'].value_counts().sort_index().index)\n",
    "print(data_2000_2['FAMI_INGRESO_FMILIAR_MENSUAL'].value_counts().sort_index())\n",
    "print(missing_data(data_2000_2['FAMI_INGRESO_FMILIAR_MENSUAL']))"
   ]
  },
  {
   "cell_type": "code",
   "execution_count": 111,
   "metadata": {
    "collapsed": true
   },
   "outputs": [],
   "source": [
    "data_2000_2['FAMI_APORTANTES'] = data_2000_2['FAMI_APORTANTES'].replace('*', 'NaN')\n",
    "data_2000_2['FAMI_APORTANTES'] = data_2000_2['FAMI_APORTANTES'].replace(np.nan, 'NaN')"
   ]
  },
  {
   "cell_type": "code",
   "execution_count": 112,
   "metadata": {
    "collapsed": false
   },
   "outputs": [
    {
     "name": "stdout",
     "output_type": "stream",
     "text": [
      "Index(['*', 'N', 'S'], dtype='object')\n",
      "*       157\n",
      "N     14185\n",
      "S    310143\n",
      "Name: FAMI_LEE_ESCRIBE_PADRE, dtype: int64\n",
      "Elementos null/NaN 30377\n",
      "__________________\n",
      "Elementos diferentes de null/NaN: 324485\n",
      "__________________\n",
      "(324485,)\n",
      "None\n"
     ]
    }
   ],
   "source": [
    "\"\"\"Here the '*' will be replaced for 'NaN' and the np.nan too\"\"\"\n",
    "print(data_2000_2['FAMI_LEE_ESCRIBE_PADRE'].value_counts().sort_index().index)\n",
    "print(data_2000_2['FAMI_LEE_ESCRIBE_PADRE'].value_counts().sort_index())\n",
    "print(missing_data(data_2000_2['FAMI_LEE_ESCRIBE_PADRE']))"
   ]
  },
  {
   "cell_type": "code",
   "execution_count": 113,
   "metadata": {
    "collapsed": true
   },
   "outputs": [],
   "source": [
    "data_2000_2['FAMI_LEE_ESCRIBE_PADRE'] = data_2000_2['FAMI_LEE_ESCRIBE_PADRE'].replace('*', 'NaN')\n",
    "data_2000_2['FAMI_LEE_ESCRIBE_PADRE'] = data_2000_2['FAMI_LEE_ESCRIBE_PADRE'].replace(np.nan, 'NaN')"
   ]
  },
  {
   "cell_type": "code",
   "execution_count": 114,
   "metadata": {
    "collapsed": false
   },
   "outputs": [
    {
     "name": "stdout",
     "output_type": "stream",
     "text": [
      "Index(['*', 'N', 'S'], dtype='object')\n",
      "*       199\n",
      "N     13128\n",
      "S    331082\n",
      "Name: FAMI_LEE_ESCRIBE_MADRE, dtype: int64\n",
      "Elementos null/NaN 10453\n",
      "__________________\n",
      "Elementos diferentes de null/NaN: 344409\n",
      "__________________\n",
      "(344409,)\n",
      "None\n"
     ]
    }
   ],
   "source": [
    "\"\"\"Here the '*' will be replaced for 'NaN' and the np.nan too\"\"\"\n",
    "print(data_2000_2['FAMI_LEE_ESCRIBE_MADRE'].value_counts().sort_index().index)\n",
    "print(data_2000_2['FAMI_LEE_ESCRIBE_MADRE'].value_counts().sort_index())\n",
    "print(missing_data(data_2000_2['FAMI_LEE_ESCRIBE_MADRE']))"
   ]
  },
  {
   "cell_type": "code",
   "execution_count": 115,
   "metadata": {
    "collapsed": true
   },
   "outputs": [],
   "source": [
    "data_2000_2['FAMI_LEE_ESCRIBE_PADRE'] = data_2000_2['FAMI_LEE_ESCRIBE_PADRE'].replace('*', 'NaN')\n",
    "data_2000_2['FAMI_LEE_ESCRIBE_PADRE'] = data_2000_2['FAMI_LEE_ESCRIBE_PADRE'].replace(np.nan, 'NaN')"
   ]
  },
  {
   "cell_type": "code",
   "execution_count": 116,
   "metadata": {
    "collapsed": false,
    "scrolled": true
   },
   "outputs": [
    {
     "name": "stdout",
     "output_type": "stream",
     "text": [
      "Index(['*', '1', '2', '3', '4', '5', '6', '7', '8', '9'], dtype='object')\n",
      "*      3772\n",
      "1     18816\n",
      "2      3879\n",
      "3    143497\n",
      "4     77995\n",
      "5     17344\n",
      "6     15463\n",
      "7     26599\n",
      "8     10412\n",
      "9         1\n",
      "Name: FAMI_EDUCA_PADRE, dtype: int64\n",
      "Elementos null/NaN 37084\n",
      "__________________\n",
      "Elementos diferentes de null/NaN: 317778\n",
      "__________________\n",
      "(317778,)\n",
      "None\n"
     ]
    }
   ],
   "source": [
    "\"\"\"Here the same treatment, but the 9 will be replaced for 'NaN' too\"\"\"\n",
    "print(data_2000_2['FAMI_EDUCA_PADRE'].value_counts().sort_index().index)\n",
    "print(data_2000_2['FAMI_EDUCA_PADRE'].value_counts().sort_index())\n",
    "print(missing_data(data_2000_2['FAMI_EDUCA_PADRE']))"
   ]
  },
  {
   "cell_type": "code",
   "execution_count": 117,
   "metadata": {
    "collapsed": true
   },
   "outputs": [],
   "source": [
    "data_2000_2['FAMI_EDUCA_PADRE'] = data_2000_2['FAMI_EDUCA_PADRE'].replace('9', 'NaN')\n",
    "data_2000_2['FAMI_EDUCA_PADRE'] = data_2000_2['FAMI_EDUCA_PADRE'].replace('*', 'NaN')\n",
    "data_2000_2['FAMI_EDUCA_PADRE'] = data_2000_2['FAMI_EDUCA_PADRE'].replace(np.nan, 'NaN')"
   ]
  },
  {
   "cell_type": "code",
   "execution_count": 118,
   "metadata": {
    "collapsed": false
   },
   "outputs": [
    {
     "name": "stdout",
     "output_type": "stream",
     "text": [
      "Index(['*', '1', '2', '3', '4', '5', '6', '7', '8'], dtype='object')\n",
      "*      3856\n",
      "1     15742\n",
      "2      4077\n",
      "3    153266\n",
      "4     91878\n",
      "5     22419\n",
      "6     12741\n",
      "7     19957\n",
      "8      9045\n",
      "Name: FAMI_EDUCA_MADRE, dtype: int64\n",
      "Elementos null/NaN 21881\n",
      "__________________\n",
      "Elementos diferentes de null/NaN: 332981\n",
      "__________________\n",
      "(332981,)\n",
      "None\n"
     ]
    }
   ],
   "source": [
    "\"\"\"The same treatment\"\"\"\n",
    "print(data_2000_2['FAMI_EDUCA_MADRE'].value_counts().sort_index().index)\n",
    "print(data_2000_2['FAMI_EDUCA_MADRE'].value_counts().sort_index())\n",
    "print(missing_data(data_2000_2['FAMI_EDUCA_MADRE']))"
   ]
  },
  {
   "cell_type": "code",
   "execution_count": 119,
   "metadata": {
    "collapsed": true
   },
   "outputs": [],
   "source": [
    "data_2000_2['FAMI_EDUCA_MADRE'] = data_2000_2['FAMI_EDUCA_MADRE'].replace('*', 'NaN')\n",
    "data_2000_2['FAMI_EDUCA_MADRE'] = data_2000_2['FAMI_EDUCA_MADRE'].replace(np.nan, 'NaN')"
   ]
  },
  {
   "cell_type": "code",
   "execution_count": 120,
   "metadata": {
    "collapsed": false,
    "scrolled": true
   },
   "outputs": [
    {
     "name": "stdout",
     "output_type": "stream",
     "text": [
      "Index(['*', '0', '01', '02', '03', '04', '05', '06', '07', '08', '09', '10',\n",
      "       '11', '12', '2', '3', '5', '6', '8', '9'],\n",
      "      dtype='object')\n",
      "*      7803\n",
      "0         9\n",
      "01     3554\n",
      "02     5874\n",
      "03    15364\n",
      "04    21257\n",
      "05    98334\n",
      "06    42778\n",
      "07     2791\n",
      "08    78105\n",
      "09    16656\n",
      "10     4502\n",
      "11      180\n",
      "12    11866\n",
      "2         9\n",
      "3         1\n",
      "5        15\n",
      "6         7\n",
      "8        39\n",
      "9         5\n",
      "Name: FAMI_OCUPA_PADRE, dtype: int64\n",
      "Elementos null/NaN 45713\n",
      "__________________\n",
      "Elementos diferentes de null/NaN: 309149\n",
      "__________________\n",
      "(309149,)\n",
      "None\n"
     ]
    }
   ],
   "source": [
    "\"\"\"The '*' will be replaced for 'NaN' and the number with just 1 character will be replaced for themselves but with \n",
    "one 0 before (ex: 3->03)\"\"\"\n",
    "print(data_2000_2['FAMI_OCUPA_PADRE'].value_counts().sort_index().index)\n",
    "print(data_2000_2['FAMI_OCUPA_PADRE'].value_counts().sort_index())\n",
    "print(missing_data(data_2000_2['FAMI_OCUPA_PADRE']))"
   ]
  },
  {
   "cell_type": "code",
   "execution_count": 121,
   "metadata": {
    "collapsed": true
   },
   "outputs": [],
   "source": [
    "data_2000_2['FAMI_OCUPA_PADRE'] = data_2000_2['FAMI_OCUPA_PADRE'].replace('0', '00')\n",
    "data_2000_2['FAMI_OCUPA_PADRE'] = data_2000_2['FAMI_OCUPA_PADRE'].replace('2', '02')\n",
    "data_2000_2['FAMI_OCUPA_PADRE'] = data_2000_2['FAMI_OCUPA_PADRE'].replace('3', '03')\n",
    "data_2000_2['FAMI_OCUPA_PADRE'] = data_2000_2['FAMI_OCUPA_PADRE'].replace('5', '05')\n",
    "data_2000_2['FAMI_OCUPA_PADRE'] = data_2000_2['FAMI_OCUPA_PADRE'].replace('6', '06')\n",
    "data_2000_2['FAMI_OCUPA_PADRE'] = data_2000_2['FAMI_OCUPA_PADRE'].replace('8', '08')\n",
    "data_2000_2['FAMI_OCUPA_PADRE'] = data_2000_2['FAMI_OCUPA_PADRE'].replace('9', '09')\n",
    "data_2000_2['FAMI_OCUPA_PADRE'] = data_2000_2['FAMI_OCUPA_PADRE'].replace('*', 'NaN')\n",
    "data_2000_2['FAMI_OCUPA_PADRE'] = data_2000_2['FAMI_OCUPA_PADRE'].replace(np.nan, 'NaN')"
   ]
  },
  {
   "cell_type": "code",
   "execution_count": 122,
   "metadata": {
    "collapsed": false,
    "scrolled": true
   },
   "outputs": [
    {
     "name": "stdout",
     "output_type": "stream",
     "text": [
      "Index(['*', '0', '01', '02', '03', '04', '05', '06', '07', '08', '09', '1',\n",
      "       '10', '11', '12', '2', '5', '6', '8', '9'],\n",
      "      dtype='object')\n",
      "*       6286\n",
      "0         61\n",
      "01      1447\n",
      "02      2993\n",
      "03      5430\n",
      "04     19758\n",
      "05     37920\n",
      "06     34454\n",
      "07      2223\n",
      "08     21318\n",
      "09      4498\n",
      "1          4\n",
      "10    185422\n",
      "11      1348\n",
      "12      6416\n",
      "2         12\n",
      "5          6\n",
      "6          7\n",
      "8         10\n",
      "9          1\n",
      "Name: FAMI_OCUPA_MADRE, dtype: int64\n",
      "Elementos null/NaN 25248\n",
      "__________________\n",
      "Elementos diferentes de null/NaN: 329614\n",
      "__________________\n",
      "(329614,)\n",
      "None\n"
     ]
    }
   ],
   "source": [
    "\"\"\"Same treatment that the last one\"\"\"\n",
    "print(data_2000_2['FAMI_OCUPA_MADRE'].value_counts().sort_index().index)\n",
    "print(data_2000_2['FAMI_OCUPA_MADRE'].value_counts().sort_index())\n",
    "print(missing_data(data_2000_2['FAMI_OCUPA_MADRE']))"
   ]
  },
  {
   "cell_type": "code",
   "execution_count": 123,
   "metadata": {
    "collapsed": true
   },
   "outputs": [],
   "source": [
    "data_2000_2['FAMI_OCUPA_MADRE'] = data_2000_2['FAMI_OCUPA_MADRE'].replace('0', '00')\n",
    "data_2000_2['FAMI_OCUPA_MADRE'] = data_2000_2['FAMI_OCUPA_MADRE'].replace('1', '01')\n",
    "data_2000_2['FAMI_OCUPA_MADRE'] = data_2000_2['FAMI_OCUPA_MADRE'].replace('2', '02')\n",
    "data_2000_2['FAMI_OCUPA_MADRE'] = data_2000_2['FAMI_OCUPA_MADRE'].replace('5', '05')\n",
    "data_2000_2['FAMI_OCUPA_MADRE'] = data_2000_2['FAMI_OCUPA_MADRE'].replace('6', '06')\n",
    "data_2000_2['FAMI_OCUPA_MADRE'] = data_2000_2['FAMI_OCUPA_MADRE'].replace('8', '08')\n",
    "data_2000_2['FAMI_OCUPA_MADRE'] = data_2000_2['FAMI_OCUPA_MADRE'].replace('9', '09')\n",
    "data_2000_2['FAMI_OCUPA_MADRE'] = data_2000_2['FAMI_OCUPA_MADRE'].replace('*', 'NaN')\n",
    "data_2000_2['FAMI_OCUPA_MADRE'] = data_2000_2['FAMI_OCUPA_MADRE'].replace(np.nan, 'NaN')"
   ]
  },
  {
   "cell_type": "code",
   "execution_count": 124,
   "metadata": {
    "collapsed": false
   },
   "outputs": [
    {
     "name": "stdout",
     "output_type": "stream",
     "text": [
      "Index(['*', '+', '0', '1', '2', '3', '4', '5', '6', '7', '8', '9'], dtype='object')\n",
      "*      938\n",
      "+     9262\n",
      "0    14756\n",
      "1    61235\n",
      "2    85155\n",
      "3    61027\n",
      "4    37496\n",
      "5    23128\n",
      "6    15292\n",
      "7    10459\n",
      "8     7244\n",
      "9     5034\n",
      "Name: FAMI_NUM_HERMANOS, dtype: int64\n",
      "Elementos null/NaN 23836\n",
      "__________________\n",
      "Elementos diferentes de null/NaN: 331026\n",
      "__________________\n",
      "(331026,)\n",
      "None\n"
     ]
    }
   ],
   "source": [
    "\"\"\"The simbol '+' will be replaced for '+9' and the '*' and the np.nan will be replaced for 'NaN'.\"\"\"\n",
    "print(data_2000_2['FAMI_NUM_HERMANOS'].value_counts().sort_index().index)\n",
    "print(data_2000_2['FAMI_NUM_HERMANOS'].value_counts().sort_index())\n",
    "print(missing_data(data_2000_2['FAMI_NUM_HERMANOS']))"
   ]
  },
  {
   "cell_type": "code",
   "execution_count": 125,
   "metadata": {
    "collapsed": true
   },
   "outputs": [],
   "source": [
    "data_2000_2['FAMI_NUM_HERMANOS'] = data_2000_2['FAMI_NUM_HERMANOS'].replace('+', '+9')\n",
    "data_2000_2['FAMI_NUM_HERMANOS'] = data_2000_2['FAMI_NUM_HERMANOS'].replace('*', 'NaN')\n",
    "data_2000_2['FAMI_NUM_HERMANOS'] = data_2000_2['FAMI_NUM_HERMANOS'].replace(np.nan, 'NaN')"
   ]
  },
  {
   "cell_type": "code",
   "execution_count": 126,
   "metadata": {
    "collapsed": false
   },
   "outputs": [
    {
     "name": "stdout",
     "output_type": "stream",
     "text": [
      "Index(['*', '+', '0', '1', '2', '3', '4', '5', '6', '7', '8', '9'], dtype='object')\n",
      "*       295\n",
      "+       271\n",
      "0    175243\n",
      "1     87520\n",
      "2     36835\n",
      "3     11977\n",
      "4      4164\n",
      "5      1640\n",
      "6       683\n",
      "7       380\n",
      "8       169\n",
      "9        98\n",
      "Name: FAMI_NUM_HERMANOS_EDUSUPERIOR, dtype: int64\n",
      "Elementos null/NaN 35587\n",
      "__________________\n",
      "Elementos diferentes de null/NaN: 319275\n",
      "__________________\n",
      "(319275,)\n",
      "None\n"
     ]
    }
   ],
   "source": [
    "\"\"\"The same that the last one\"\"\"\n",
    "print(data_2000_2['FAMI_NUM_HERMANOS_EDUSUPERIOR'].value_counts().sort_index().index)\n",
    "print(data_2000_2['FAMI_NUM_HERMANOS_EDUSUPERIOR'].value_counts().sort_index())\n",
    "print(missing_data(data_2000_2['FAMI_NUM_HERMANOS_EDUSUPERIOR']))"
   ]
  },
  {
   "cell_type": "code",
   "execution_count": 127,
   "metadata": {
    "collapsed": true
   },
   "outputs": [],
   "source": [
    "data_2000_2['FAMI_NUM_HERMANOS_EDUSUPERIOR'] = data_2000_2['FAMI_NUM_HERMANOS_EDUSUPERIOR'].replace('+', '+9')\n",
    "data_2000_2['FAMI_NUM_HERMANOS_EDUSUPERIOR'] = data_2000_2['FAMI_NUM_HERMANOS_EDUSUPERIOR'].replace('*', 'NaN')\n",
    "data_2000_2['FAMI_NUM_HERMANOS_EDUSUPERIOR'] = data_2000_2['FAMI_NUM_HERMANOS_EDUSUPERIOR'].replace(np.nan, 'NaN')"
   ]
  },
  {
   "cell_type": "code",
   "execution_count": 128,
   "metadata": {
    "collapsed": false
   },
   "outputs": [
    {
     "name": "stdout",
     "output_type": "stream",
     "text": [
      "Index(['*', '+', '1', '2', '3', '4', '5', '6', '7', '8', '9'], dtype='object')\n",
      "*        71\n",
      "+      4363\n",
      "1    114955\n",
      "2     89267\n",
      "3     57139\n",
      "4     30787\n",
      "5     16923\n",
      "6     10043\n",
      "7      6740\n",
      "8      4457\n",
      "9      3154\n",
      "Name: FAMI_POSICION_HERMANOS, dtype: int64\n",
      "Elementos null/NaN 16963\n",
      "__________________\n",
      "Elementos diferentes de null/NaN: 337899\n",
      "__________________\n",
      "(337899,)\n",
      "None\n"
     ]
    }
   ],
   "source": [
    "\"\"\"The same that the last one\"\"\"\n",
    "print(data_2000_2['FAMI_POSICION_HERMANOS'].value_counts().sort_index().index)\n",
    "print(data_2000_2['FAMI_POSICION_HERMANOS'].value_counts().sort_index())\n",
    "print(missing_data(data_2000_2['FAMI_POSICION_HERMANOS']))"
   ]
  },
  {
   "cell_type": "code",
   "execution_count": 129,
   "metadata": {
    "collapsed": true
   },
   "outputs": [],
   "source": [
    "data_2000_2['FAMI_POSICION_HERMANOS'] = data_2000_2['FAMI_POSICION_HERMANOS'].replace('+', '+9')\n",
    "data_2000_2['FAMI_POSICION_HERMANOS'] = data_2000_2['FAMI_POSICION_HERMANOS'].replace('*', 'NaN')\n",
    "data_2000_2['FAMI_POSICION_HERMANOS'] = data_2000_2['FAMI_POSICION_HERMANOS'].replace(np.nan, 'NaN')"
   ]
  },
  {
   "cell_type": "code",
   "execution_count": 130,
   "metadata": {
    "collapsed": false
   },
   "outputs": [
    {
     "name": "stdout",
     "output_type": "stream",
     "text": [
      "Index(['*', 'N', 'P', 'T'], dtype='object')\n",
      "*        12\n",
      "N     17065\n",
      "P     38753\n",
      "T    286569\n",
      "Name: FAMI_SOST_PERSONAL, dtype: int64\n",
      "Elementos null/NaN 12463\n",
      "__________________\n",
      "Elementos diferentes de null/NaN: 342399\n",
      "__________________\n",
      "(342399,)\n",
      "None\n"
     ]
    }
   ],
   "source": [
    "\"\"\"Put NaN where '*' or np.nan\"\"\"\n",
    "print(data_2000_2['FAMI_SOST_PERSONAL'].value_counts().sort_index().index)\n",
    "print(data_2000_2['FAMI_SOST_PERSONAL'].value_counts().sort_index())\n",
    "print(missing_data(data_2000_2['FAMI_SOST_PERSONAL']))"
   ]
  },
  {
   "cell_type": "code",
   "execution_count": 131,
   "metadata": {
    "collapsed": true
   },
   "outputs": [],
   "source": [
    "data_2000_2['FAMI_SOST_PERSONAL'] = data_2000_2['FAMI_SOST_PERSONAL'].replace('*', 'NaN')\n",
    "data_2000_2['FAMI_SOST_PERSONAL'] = data_2000_2['FAMI_SOST_PERSONAL'].replace(np.nan, 'NaN')"
   ]
  },
  {
   "cell_type": "code",
   "execution_count": 132,
   "metadata": {
    "collapsed": false
   },
   "outputs": [
    {
     "name": "stdout",
     "output_type": "stream",
     "text": [
      "Index(['*', 'N', 'S'], dtype='object')\n",
      "*         7\n",
      "N    307159\n",
      "S     35629\n",
      "Name: ESTU_TRABAJA, dtype: int64\n",
      "Elementos null/NaN 12067\n",
      "__________________\n",
      "Elementos diferentes de null/NaN: 342795\n",
      "__________________\n",
      "(342795,)\n",
      "None\n"
     ]
    }
   ],
   "source": [
    "\"\"\"The same that the last one\"\"\"\n",
    "print(data_2000_2['ESTU_TRABAJA'].value_counts().sort_index().index)\n",
    "print(data_2000_2['ESTU_TRABAJA'].value_counts().sort_index())\n",
    "print(missing_data(data_2000_2['ESTU_TRABAJA']))"
   ]
  },
  {
   "cell_type": "code",
   "execution_count": 133,
   "metadata": {
    "collapsed": true
   },
   "outputs": [],
   "source": [
    "data_2000_2['ESTU_TRABAJA'] = data_2000_2['ESTU_TRABAJA'].replace('*', 'NaN')\n",
    "data_2000_2['ESTU_TRABAJA'] = data_2000_2['ESTU_TRABAJA'].replace(np.nan, 'NaN')"
   ]
  },
  {
   "cell_type": "code",
   "execution_count": 134,
   "metadata": {
    "collapsed": false
   },
   "outputs": [
    {
     "name": "stdout",
     "output_type": "stream",
     "text": [
      "Index(['*', '1', '2', '3'], dtype='object')\n",
      "*       119\n",
      "1    103527\n",
      "2      7368\n",
      "3    242182\n",
      "Name: ESTU_ACT_PROX_ANNO, dtype: int64\n",
      "Elementos null/NaN 1666\n",
      "__________________\n",
      "Elementos diferentes de null/NaN: 353196\n",
      "__________________\n",
      "(353196,)\n",
      "None\n"
     ]
    }
   ],
   "source": [
    "\"\"\"The same that the last one\"\"\"\n",
    "print(data_2000_2['ESTU_ACT_PROX_ANNO'].value_counts().sort_index().index)\n",
    "print(data_2000_2['ESTU_ACT_PROX_ANNO'].value_counts().sort_index())\n",
    "print(missing_data(data_2000_2['ESTU_ACT_PROX_ANNO']))"
   ]
  },
  {
   "cell_type": "code",
   "execution_count": 135,
   "metadata": {
    "collapsed": true
   },
   "outputs": [],
   "source": [
    "data_2000_2['ESTU_ACT_PROX_ANNO'] = data_2000_2['ESTU_ACT_PROX_ANNO'].replace('*', 'NaN')\n",
    "data_2000_2['ESTU_ACT_PROX_ANNO'] = data_2000_2['ESTU_ACT_PROX_ANNO'].replace(np.nan, 'NaN')"
   ]
  },
  {
   "cell_type": "code",
   "execution_count": 136,
   "metadata": {
    "collapsed": false
   },
   "outputs": [
    {
     "name": "stdout",
     "output_type": "stream",
     "text": [
      "Index(['A', 'B', 'F'], dtype='object')\n",
      "A    322428\n",
      "B      1569\n",
      "F     30864\n",
      "Name: COLE_CALENDARIO, dtype: int64\n",
      "Elementos null/NaN 1\n",
      "__________________\n",
      "Elementos diferentes de null/NaN: 354861\n",
      "__________________\n",
      "(354861,)\n",
      "None\n"
     ]
    }
   ],
   "source": [
    "\"\"\"just change the np.nan value for 'NaN'\"\"\"\n",
    "print(data_2000_2['COLE_CALENDARIO'].value_counts().sort_index().index)\n",
    "print(data_2000_2['COLE_CALENDARIO'].value_counts().sort_index())\n",
    "print(missing_data(data_2000_2['COLE_CALENDARIO']))"
   ]
  },
  {
   "cell_type": "code",
   "execution_count": 137,
   "metadata": {
    "collapsed": true
   },
   "outputs": [],
   "source": [
    "data_2000_2['COLE_CALENDARIO'] = data_2000_2['COLE_CALENDARIO'].replace(np.nan, 'NaN')"
   ]
  },
  {
   "cell_type": "code",
   "execution_count": 138,
   "metadata": {
    "collapsed": false
   },
   "outputs": [
    {
     "name": "stdout",
     "output_type": "stream",
     "text": [
      "Float64Index([1.0, 2.0], dtype='float64')\n",
      "1.0    1861\n",
      "2.0      59\n",
      "Name: COLE_BILINGUE, dtype: int64\n",
      "Elementos null/NaN 352942\n",
      "__________________\n",
      "Elementos diferentes de null/NaN: 1920\n",
      "__________________\n",
      "(1920,)\n",
      "None\n"
     ]
    }
   ],
   "source": [
    "\"\"\"This column will stand like it is at this moment\"\"\"\n",
    "print(data_2000_2['COLE_BILINGUE'].value_counts().sort_index().index)\n",
    "print(data_2000_2['COLE_BILINGUE'].value_counts().sort_index())\n",
    "print(missing_data(data_2000_2['COLE_BILINGUE']))"
   ]
  },
  {
   "cell_type": "code",
   "execution_count": 139,
   "metadata": {
    "collapsed": false
   },
   "outputs": [
    {
     "name": "stdout",
     "output_type": "stream",
     "text": [
      "Index(['ACADEMICO', 'ACADEMICO Y TECNICO', 'NORMALISTA', 'TECNICO'], dtype='object')\n",
      "ACADEMICO              190524\n",
      "ACADEMICO Y TECNICO    104497\n",
      "NORMALISTA               6519\n",
      "TECNICO                 53321\n",
      "Name: COLE_CARACTER, dtype: int64\n",
      "Elementos null/NaN 1\n",
      "__________________\n",
      "Elementos diferentes de null/NaN: 354861\n",
      "__________________\n",
      "(354861,)\n",
      "None\n"
     ]
    }
   ],
   "source": [
    "\"\"\"Just will change the np.nan value for a 'NaN'\"\"\"\n",
    "print(data_2000_2['COLE_CARACTER'].value_counts().sort_index().index)\n",
    "print(data_2000_2['COLE_CARACTER'].value_counts().sort_index())\n",
    "print(missing_data(data_2000_2['COLE_CARACTER']))"
   ]
  },
  {
   "cell_type": "code",
   "execution_count": 140,
   "metadata": {
    "collapsed": true
   },
   "outputs": [],
   "source": [
    "data_2000_2['COLE_CARACTER'] = data_2000_2['COLE_CARACTER'].replace(np.nan, 'NaN')"
   ]
  },
  {
   "cell_type": "code",
   "execution_count": 141,
   "metadata": {
    "collapsed": false,
    "scrolled": true
   },
   "outputs": [
    {
     "name": "stdout",
     "output_type": "stream",
     "text": [
      "Index(['AMAZONAS', 'ANTIOQUIA', 'ARAUCA', 'ATLANTICO', 'BOGOTA', 'BOLIVAR',\n",
      "       'BOYACA', 'CALDAS', 'CAQUETA', 'CASANARE', 'CAUCA', 'CESAR', 'CHOCO',\n",
      "       'CORDOBA', 'CUNDINAMARCA', 'GUAINIA', 'GUAVIARE', 'HUILA', 'LA GUAJIRA',\n",
      "       'MAGDALENA', 'META', 'NARIÑO', 'NORTE SANTANDER', 'PUTUMAYO', 'QUINDIO',\n",
      "       'RISARALDA', 'SAN ANDRES', 'SANTANDER', 'SUCRE', 'TOLIMA', 'VALLE',\n",
      "       'VAUPES', 'VICHADA'],\n",
      "      dtype='object')\n",
      "AMAZONAS             507\n",
      "ANTIOQUIA          52108\n",
      "ARAUCA              1579\n",
      "ATLANTICO          26411\n",
      "BOGOTA             71985\n",
      "BOLIVAR            17949\n",
      "BOYACA             14121\n",
      "CALDAS              9919\n",
      "CAQUETA             2600\n",
      "CASANARE            2084\n",
      "CAUCA               1405\n",
      "CESAR               8451\n",
      "CHOCO               3210\n",
      "CORDOBA            14608\n",
      "CUNDINAMARCA       21885\n",
      "GUAINIA              117\n",
      "GUAVIARE             289\n",
      "HUILA               8809\n",
      "LA GUAJIRA          4616\n",
      "MAGDALENA          10315\n",
      "META                6403\n",
      "NARIÑO               405\n",
      "NORTE SANTANDER    12527\n",
      "PUTUMAYO            1572\n",
      "QUINDIO             5761\n",
      "RISARALDA           9104\n",
      "SAN ANDRES           640\n",
      "SANTANDER          20547\n",
      "SUCRE               7301\n",
      "TOLIMA             13483\n",
      "VALLE               3837\n",
      "VAUPES                91\n",
      "VICHADA              222\n",
      "Name: COLE_DEPTO_UBICACION, dtype: int64\n",
      "Elementos null/NaN 1\n",
      "__________________\n",
      "Elementos diferentes de null/NaN: 354861\n",
      "__________________\n",
      "(354861,)\n",
      "None\n"
     ]
    }
   ],
   "source": [
    "\"\"\"Just will change the np.nan value for a 'NaN'\"\"\"\n",
    "print(data_2000_2['COLE_DEPTO_UBICACION'].value_counts().sort_index().index)\n",
    "print(data_2000_2['COLE_DEPTO_UBICACION'].value_counts().sort_index())\n",
    "print(missing_data(data_2000_2['COLE_DEPTO_UBICACION']))"
   ]
  },
  {
   "cell_type": "code",
   "execution_count": 142,
   "metadata": {
    "collapsed": true
   },
   "outputs": [],
   "source": [
    "data_2000_2['COLE_DEPTO_UBICACION'] = data_2000_2['COLE_DEPTO_UBICACION'].replace(np.nan, 'NaN')"
   ]
  },
  {
   "cell_type": "code",
   "execution_count": 143,
   "metadata": {
    "collapsed": false,
    "scrolled": true
   },
   "outputs": [
    {
     "name": "stdout",
     "output_type": "stream",
     "text": [
      "Index(['ABEJORRAL', 'ABREGO', 'ABRIAQUI', 'ACACIAS', 'ACANDI', 'ACEVEDO',\n",
      "       'ACHI', 'AGRADO', 'AGUA DE DIOS', 'AGUACHICA',\n",
      "       ...\n",
      "       'YOPAL', 'YUMBO', 'ZAMBRANO', 'ZAPATOCA', 'ZAPAYAN', 'ZARAGOZA',\n",
      "       'ZETAQUIRA', 'ZIPACON', 'ZIPAQUIRA', 'ZONA BANANERA'],\n",
      "      dtype='object', length=901)\n",
      "ABEJORRAL                    167\n",
      "ABREGO                       126\n",
      "ABRIAQUI                      22\n",
      "ACACIAS                      451\n",
      "ACANDI                        40\n",
      "ACEVEDO                       75\n",
      "ACHI                          50\n",
      "AGRADO                        67\n",
      "AGUA DE DIOS                 166\n",
      "AGUACHICA                    986\n",
      "AGUADA                        15\n",
      "AGUADAS                      196\n",
      "AGUAZUL                      213\n",
      "AGUSTIN CODAZZI              415\n",
      "AIPE                         162\n",
      "ALBAN                         58\n",
      "ALBANIA                       93\n",
      "ALEJANDRIA                    54\n",
      "ALGARROBO                     34\n",
      "ALGECIRAS                    144\n",
      "ALMAGUER                      18\n",
      "ALMEIDA                        8\n",
      "ALPUJARRA                     52\n",
      "ALTAMIRA                      24\n",
      "ALTO BAUDO (PIE DE PATO)      14\n",
      "ALTOS DEL ROSARIO             21\n",
      "ALVARADO                      49\n",
      "AMAGA                        322\n",
      "AMALFI                       161\n",
      "AMBALEMA                     103\n",
      "                            ... \n",
      "VILLAGARZON                  106\n",
      "VILLAGOMEZ                    51\n",
      "VILLAHERMOSA                  79\n",
      "VILLAMARIA                   482\n",
      "VILLANUEVA                   755\n",
      "VILLAPINZON                  173\n",
      "VILLARRICA                    62\n",
      "VILLAVICENCIO               4341\n",
      "VILLAVIEJA                    43\n",
      "VILLETA                      271\n",
      "VIOTA                        116\n",
      "VIRACACHA                     20\n",
      "VISTA HERMOSA                 20\n",
      "VITERBO                      196\n",
      "YACOPI                        63\n",
      "YAGUARA                       73\n",
      "YALI                          49\n",
      "YARUMAL                      388\n",
      "YOLOMBO                      140\n",
      "YONDO (CASABE)                87\n",
      "YOPAL                        837\n",
      "YUMBO                        153\n",
      "ZAMBRANO                      91\n",
      "ZAPATOCA                     105\n",
      "ZAPAYAN                       21\n",
      "ZARAGOZA                     161\n",
      "ZETAQUIRA                     74\n",
      "ZIPACON                       24\n",
      "ZIPAQUIRA                   1004\n",
      "ZONA BANANERA                240\n",
      "Name: COLE_MCPIO_UBICACION, dtype: int64\n",
      "Elementos null/NaN 1\n",
      "__________________\n",
      "Elementos diferentes de null/NaN: 354861\n",
      "__________________\n",
      "(354861,)\n",
      "None\n"
     ]
    }
   ],
   "source": [
    "\"\"\"Just chage the np.nan value for a 'NaN'\"\"\"\n",
    "print(data_2000_2['COLE_MCPIO_UBICACION'].value_counts().sort_index().index)\n",
    "print(data_2000_2['COLE_MCPIO_UBICACION'].value_counts().sort_index())\n",
    "print(missing_data(data_2000_2['COLE_MCPIO_UBICACION']))"
   ]
  },
  {
   "cell_type": "code",
   "execution_count": 144,
   "metadata": {
    "collapsed": true
   },
   "outputs": [],
   "source": [
    "data_2000_2['COLE_MCPIO_UBICACION'] = data_2000_2['COLE_MCPIO_UBICACION'].replace(np.nan, 'NaN')"
   ]
  },
  {
   "cell_type": "code",
   "execution_count": 145,
   "metadata": {
    "collapsed": false,
    "scrolled": true
   },
   "outputs": [
    {
     "name": "stdout",
     "output_type": "stream",
     "text": [
      "Index(['AMAZONAS', 'ANTIOQUIA', 'ARAUCA', 'ATLANTICO', 'BOGOTA', 'BOLIVAR',\n",
      "       'BOYACA', 'CALDAS', 'CAQUETA', 'CASANARE', 'CAUCA', 'CESAR', 'CHOCO',\n",
      "       'CORDOBA', 'CUNDINAMARCA', 'GUAINIA', 'GUAVIARE', 'HUILA', 'LA GUAJIRA',\n",
      "       'MAGDALENA', 'META', 'NARIÑO', 'NORTE SANTANDER', 'PUTUMAYO', 'QUINDIO',\n",
      "       'RISARALDA', 'SAN ANDRES', 'SANTANDER', 'SUCRE', 'TOLIMA', 'VALLE',\n",
      "       'VAUPES', 'VICHADA'],\n",
      "      dtype='object')\n",
      "AMAZONAS             505\n",
      "ANTIOQUIA          51972\n",
      "ARAUCA              1613\n",
      "ATLANTICO          27134\n",
      "BOGOTA             72937\n",
      "BOLIVAR            17375\n",
      "BOYACA             14382\n",
      "CALDAS             10211\n",
      "CAQUETA             2596\n",
      "CASANARE            2098\n",
      "CAUCA               1331\n",
      "CESAR               8480\n",
      "CHOCO               3213\n",
      "CORDOBA            14624\n",
      "CUNDINAMARCA       20923\n",
      "GUAINIA              117\n",
      "GUAVIARE             365\n",
      "HUILA               8846\n",
      "LA GUAJIRA          4613\n",
      "MAGDALENA          10044\n",
      "META                6352\n",
      "NARIÑO               403\n",
      "NORTE SANTANDER    12505\n",
      "PUTUMAYO            1571\n",
      "QUINDIO             5764\n",
      "RISARALDA           9133\n",
      "SAN ANDRES           642\n",
      "SANTANDER          20723\n",
      "SUCRE               7200\n",
      "TOLIMA             13011\n",
      "VALLE               3868\n",
      "VAUPES                91\n",
      "VICHADA              219\n",
      "Name: ESTU_RESIDE_DEPTO, dtype: int64\n",
      "Elementos null/NaN 1\n",
      "__________________\n",
      "Elementos diferentes de null/NaN: 354861\n",
      "__________________\n",
      "(354861,)\n",
      "None\n"
     ]
    }
   ],
   "source": [
    "\"\"\"the same that the last one\"\"\"\n",
    "print(data_2000_2['ESTU_RESIDE_DEPTO'].value_counts().sort_index().index)\n",
    "print(data_2000_2['ESTU_RESIDE_DEPTO'].value_counts().sort_index())\n",
    "print(missing_data(data_2000_2['ESTU_RESIDE_DEPTO']))"
   ]
  },
  {
   "cell_type": "code",
   "execution_count": 146,
   "metadata": {
    "collapsed": true
   },
   "outputs": [],
   "source": [
    "data_2000_2['ESTU_RESIDE_DEPTO'] = data_2000_2['ESTU_RESIDE_DEPTO'].replace(np.nan, 'NaN')"
   ]
  },
  {
   "cell_type": "code",
   "execution_count": 147,
   "metadata": {
    "collapsed": false,
    "scrolled": true
   },
   "outputs": [
    {
     "name": "stdout",
     "output_type": "stream",
     "text": [
      "Index(['ABEJORRAL', 'ABREGO', 'ABRIAQUI', 'ACACIAS', 'ACANDI', 'ACEVEDO',\n",
      "       'ACHI', 'AGRADO', 'AGUA DE DIOS', 'AGUACHICA',\n",
      "       ...\n",
      "       'YOLOMBO', 'YOPAL', 'YOTOCO', 'YUMBO', 'ZAMBRANO', 'ZAPATOCA',\n",
      "       'ZARAGOZA', 'ZETAQUIRA', 'ZIPACON', 'ZIPAQUIRA'],\n",
      "      dtype='object', length=890)\n",
      "ABEJORRAL                174\n",
      "ABREGO                   124\n",
      "ABRIAQUI                  23\n",
      "ACACIAS                  455\n",
      "ACANDI                    40\n",
      "ACEVEDO                   74\n",
      "ACHI                      53\n",
      "AGRADO                    66\n",
      "AGUA DE DIOS             263\n",
      "AGUACHICA                961\n",
      "AGUADA                    15\n",
      "AGUADAS                  197\n",
      "AGUAZUL                  224\n",
      "AGUSTIN CODAZZI          413\n",
      "AIPE                     157\n",
      "ALBAN                    297\n",
      "ALBANIA                   60\n",
      "ALCALA                     3\n",
      "ALEJANDRIA                84\n",
      "ALGECIRAS                143\n",
      "ALMAGUER                  18\n",
      "ALMEIDA                    8\n",
      "ALPUJARRA                 51\n",
      "ALTAMIRA                  17\n",
      "ALTO BAUDO (PIE DE P      14\n",
      "ALTOS DEL ROSARIO         10\n",
      "ALVARADO                  47\n",
      "AMAGA                    341\n",
      "AMALFI                   162\n",
      "AMBALEMA                 102\n",
      "                        ... \n",
      "VILLA DEL ROSARIO        654\n",
      "VILLA GUAMEZ (LA HOR      59\n",
      "VILLAGARZON              107\n",
      "VILLAGOMEZ                50\n",
      "VILLAHERMOSA              78\n",
      "VILLAMARIA               477\n",
      "VILLANUEVA               752\n",
      "VILLAPINZON              165\n",
      "VILLARRICA                66\n",
      "VILLAVICENCIO           4218\n",
      "VILLAVIEJA                34\n",
      "VILLETA                  277\n",
      "VIOTA                     83\n",
      "VIRACACHA                 20\n",
      "VISTA HERMOSA             15\n",
      "VITERBO                  189\n",
      "YACOPI                    63\n",
      "YAGUARA                   73\n",
      "YALI                      48\n",
      "YARUMAL                  422\n",
      "YOLOMBO                  139\n",
      "YOPAL                    888\n",
      "YOTOCO                     1\n",
      "YUMBO                    154\n",
      "ZAMBRANO                  88\n",
      "ZAPATOCA                 110\n",
      "ZARAGOZA                 162\n",
      "ZETAQUIRA                 74\n",
      "ZIPACON                   25\n",
      "ZIPAQUIRA                984\n",
      "Name: ESTU_RESIDE_MCPIO, dtype: int64\n",
      "Elementos null/NaN 1\n",
      "__________________\n",
      "Elementos diferentes de null/NaN: 354861\n",
      "__________________\n",
      "(354861,)\n",
      "None\n"
     ]
    }
   ],
   "source": [
    "\"\"\"The same that the last one\"\"\"\n",
    "print(data_2000_2['ESTU_RESIDE_MCPIO'].value_counts().sort_index().index)\n",
    "print(data_2000_2['ESTU_RESIDE_MCPIO'].value_counts().sort_index())\n",
    "print(missing_data(data_2000_2['ESTU_RESIDE_MCPIO']))"
   ]
  },
  {
   "cell_type": "code",
   "execution_count": 148,
   "metadata": {
    "collapsed": true
   },
   "outputs": [],
   "source": [
    "data_2000_2['ESTU_RESIDE_MCPIO'] = data_2000_2['ESTU_RESIDE_MCPIO'].replace(np.nan, 'NaN')"
   ]
  },
  {
   "cell_type": "markdown",
   "metadata": {},
   "source": [
    "Now i can encode the obtained Dataframes."
   ]
  },
  {
   "cell_type": "code",
   "execution_count": 153,
   "metadata": {
    "collapsed": false
   },
   "outputs": [],
   "source": [
    "df_2000_1 = label_encoder(data_2000)\n",
    "df_2000_2 = label_encoder(data_2000_2)"
   ]
  },
  {
   "cell_type": "code",
   "execution_count": 168,
   "metadata": {
    "collapsed": false
   },
   "outputs": [],
   "source": [
    "df_2000_1.fillna(-1, inplace = True)\n",
    "df_2000_2.fillna(-1, inplace = True)"
   ]
  },
  {
   "cell_type": "markdown",
   "metadata": {},
   "source": [
    "### Now the second file it's ready to be used in a Predictor.\n",
    "\n",
    "# The Last Step is save the obtained DataFrames as Files"
   ]
  },
  {
   "cell_type": "code",
   "execution_count": 175,
   "metadata": {
    "collapsed": true
   },
   "outputs": [],
   "source": [
    "df_2000_1.to_csv('../DatosFTPICFES/SABER11/SB11-BASES_DE_DATOS/READY/2000_1.csv', sep=';', index = False)\n",
    "df_2000_2.to_csv('../DatosFTPICFES/SABER11/SB11-BASES_DE_DATOS/READY/2000_2.csv', sep=';', index = False)"
   ]
  }
 ],
 "metadata": {
  "kernelspec": {
   "display_name": "Python 3 + Anaconda",
   "language": "python",
   "name": "pyconda3"
  },
  "language_info": {
   "codemirror_mode": {
    "name": "ipython",
    "version": 3
   },
   "file_extension": ".py",
   "mimetype": "text/x-python",
   "name": "python",
   "nbconvert_exporter": "python",
   "pygments_lexer": "ipython3",
   "version": "3.5.1"
  }
 },
 "nbformat": 4,
 "nbformat_minor": 0
}
