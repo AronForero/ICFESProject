{
 "cells": [
  {
   "cell_type": "markdown",
   "metadata": {},
   "source": [
    "# Procesado de Datos"
   ]
  },
  {
   "cell_type": "markdown",
   "metadata": {},
   "source": [
    "Year 2000"
   ]
  },
  {
   "cell_type": "code",
   "execution_count": 1,
   "metadata": {
    "collapsed": false
   },
   "outputs": [],
   "source": [
    "import pandas as pd\n",
    "import numpy as np\n",
    "import matplotlib.pyplot as plt\n",
    "%matplotlib inline\n",
    "%run -i ../tools/functions.py\n",
    "%run -i ../tools/label_encoder.py"
   ]
  },
  {
   "cell_type": "markdown",
   "metadata": {},
   "source": [
    "Charge the file with the data, into a DataFrame"
   ]
  },
  {
   "cell_type": "code",
   "execution_count": 2,
   "metadata": {
    "collapsed": false
   },
   "outputs": [
    {
     "name": "stderr",
     "output_type": "stream",
     "text": [
      "/usr/local/anaconda3/lib/python3.5/site-packages/IPython/core/interactiveshell.py:2723: DtypeWarning: Columns (5,12,14,15,29,31) have mixed types. Specify dtype option on import or set low_memory=False.\n",
      "  interactivity=interactivity, compiler=compiler, result=result)\n"
     ]
    }
   ],
   "source": [
    "data_2000 = pd.read_csv(\"../DatosFTPICFES/SABER11/SB11-BASES_DE_DATOS/SB11-20001-RGSTRO-CLFCCN-V1-0.txt\", delimiter=\"|\",\n",
    "                        encoding=\"iso-8859-1\")"
   ]
  },
  {
   "cell_type": "code",
   "execution_count": 3,
   "metadata": {
    "collapsed": false
   },
   "outputs": [
    {
     "data": {
      "text/plain": [
       "(77626, 57)"
      ]
     },
     "execution_count": 3,
     "metadata": {},
     "output_type": "execute_result"
    }
   ],
   "source": [
    "data_2000.shape"
   ]
  },
  {
   "cell_type": "code",
   "execution_count": 4,
   "metadata": {
    "collapsed": false,
    "scrolled": true
   },
   "outputs": [
    {
     "data": {
      "text/html": [
       "<div>\n",
       "<table border=\"1\" class=\"dataframe\">\n",
       "  <thead>\n",
       "    <tr style=\"text-align: right;\">\n",
       "      <th></th>\n",
       "      <th>0</th>\n",
       "      <th>1</th>\n",
       "      <th>2</th>\n",
       "    </tr>\n",
       "  </thead>\n",
       "  <tbody>\n",
       "    <tr>\n",
       "      <th>ESTU_CONSECUTIVO</th>\n",
       "      <td>SB11200010000203</td>\n",
       "      <td>SB11200010000204</td>\n",
       "      <td>SB11200010000205</td>\n",
       "    </tr>\n",
       "    <tr>\n",
       "      <th>COLE_COD_ICFES</th>\n",
       "      <td>83048</td>\n",
       "      <td>3327</td>\n",
       "      <td>19364</td>\n",
       "    </tr>\n",
       "    <tr>\n",
       "      <th>COLE_NOMBRE_SEDE</th>\n",
       "      <td>INSTITUTO STUDIUM</td>\n",
       "      <td>COLEGIO HEBREO UNION</td>\n",
       "      <td>COLEGIO ANGLO COLOMBIANO</td>\n",
       "    </tr>\n",
       "    <tr>\n",
       "      <th>IND_ANNO_TERMINO_BACHILLERATO</th>\n",
       "      <td>1999</td>\n",
       "      <td>2000</td>\n",
       "      <td>2000</td>\n",
       "    </tr>\n",
       "    <tr>\n",
       "      <th>COLE_JORNADA</th>\n",
       "      <td>C</td>\n",
       "      <td>C</td>\n",
       "      <td>C</td>\n",
       "    </tr>\n",
       "    <tr>\n",
       "      <th>COLE_VALOR_PENSION</th>\n",
       "      <td>3</td>\n",
       "      <td>8</td>\n",
       "      <td>7</td>\n",
       "    </tr>\n",
       "    <tr>\n",
       "      <th>ESTU_GENERO</th>\n",
       "      <td>F</td>\n",
       "      <td>F</td>\n",
       "      <td>M</td>\n",
       "    </tr>\n",
       "    <tr>\n",
       "      <th>ESTU_NACIMIENTO_DIA</th>\n",
       "      <td>19</td>\n",
       "      <td>28</td>\n",
       "      <td>30</td>\n",
       "    </tr>\n",
       "    <tr>\n",
       "      <th>ESTU_NACIMIENTO_MES</th>\n",
       "      <td>3</td>\n",
       "      <td>4</td>\n",
       "      <td>4</td>\n",
       "    </tr>\n",
       "    <tr>\n",
       "      <th>ESTU_NACIMIENTO_ANNO</th>\n",
       "      <td>1981</td>\n",
       "      <td>1982</td>\n",
       "      <td>1982</td>\n",
       "    </tr>\n",
       "    <tr>\n",
       "      <th>ESTU_DEPTO_PRESENTACION</th>\n",
       "      <td>BOGOTA</td>\n",
       "      <td>ATLANTICO</td>\n",
       "      <td>BOGOTA</td>\n",
       "    </tr>\n",
       "    <tr>\n",
       "      <th>ESTU_MCPIO_PRESENTACION</th>\n",
       "      <td>BOGOTA D.C.</td>\n",
       "      <td>BARRANQUILLA</td>\n",
       "      <td>BOGOTA D.C.</td>\n",
       "    </tr>\n",
       "    <tr>\n",
       "      <th>ESTU_LIMITA_INVIDENTE</th>\n",
       "      <td>NaN</td>\n",
       "      <td>NaN</td>\n",
       "      <td>NaN</td>\n",
       "    </tr>\n",
       "    <tr>\n",
       "      <th>ESTU_LIMITA_SORDOINTERPRETE</th>\n",
       "      <td>NaN</td>\n",
       "      <td>NaN</td>\n",
       "      <td>NaN</td>\n",
       "    </tr>\n",
       "    <tr>\n",
       "      <th>ESTU_LIMITA_SORDONOINTERPRETE</th>\n",
       "      <td>NaN</td>\n",
       "      <td>NaN</td>\n",
       "      <td>NaN</td>\n",
       "    </tr>\n",
       "    <tr>\n",
       "      <th>ESTU_LIMITA_MOTRIZ</th>\n",
       "      <td>NaN</td>\n",
       "      <td>NaN</td>\n",
       "      <td>NaN</td>\n",
       "    </tr>\n",
       "    <tr>\n",
       "      <th>PUNT_BIOLOGIA</th>\n",
       "      <td>52</td>\n",
       "      <td>51</td>\n",
       "      <td>59</td>\n",
       "    </tr>\n",
       "    <tr>\n",
       "      <th>PUNT_MATEMATICAS</th>\n",
       "      <td>47</td>\n",
       "      <td>52</td>\n",
       "      <td>58</td>\n",
       "    </tr>\n",
       "    <tr>\n",
       "      <th>PUNT_FILOSOFIA</th>\n",
       "      <td>55</td>\n",
       "      <td>59</td>\n",
       "      <td>44</td>\n",
       "    </tr>\n",
       "    <tr>\n",
       "      <th>PUNT_FISICA</th>\n",
       "      <td>49</td>\n",
       "      <td>43</td>\n",
       "      <td>60</td>\n",
       "    </tr>\n",
       "    <tr>\n",
       "      <th>PUNT_HISTORIA</th>\n",
       "      <td>63</td>\n",
       "      <td>52</td>\n",
       "      <td>50</td>\n",
       "    </tr>\n",
       "    <tr>\n",
       "      <th>PUNT_QUIMICA</th>\n",
       "      <td>49</td>\n",
       "      <td>54</td>\n",
       "      <td>68</td>\n",
       "    </tr>\n",
       "    <tr>\n",
       "      <th>PUNT_LENGUAJE</th>\n",
       "      <td>56</td>\n",
       "      <td>53</td>\n",
       "      <td>50</td>\n",
       "    </tr>\n",
       "    <tr>\n",
       "      <th>PUNT_GEOGRAFIA</th>\n",
       "      <td>56</td>\n",
       "      <td>57</td>\n",
       "      <td>43</td>\n",
       "    </tr>\n",
       "    <tr>\n",
       "      <th>COD_INTERDISCIPLINAR</th>\n",
       "      <td>43</td>\n",
       "      <td>45</td>\n",
       "      <td>43</td>\n",
       "    </tr>\n",
       "    <tr>\n",
       "      <th>PUNT_INTERDISCIPLINAR</th>\n",
       "      <td>55</td>\n",
       "      <td>47</td>\n",
       "      <td>53</td>\n",
       "    </tr>\n",
       "    <tr>\n",
       "      <th>COD_IDIOMA</th>\n",
       "      <td>51</td>\n",
       "      <td>51</td>\n",
       "      <td>51</td>\n",
       "    </tr>\n",
       "    <tr>\n",
       "      <th>PUNT_IDIOMA</th>\n",
       "      <td>45</td>\n",
       "      <td>58</td>\n",
       "      <td>75</td>\n",
       "    </tr>\n",
       "    <tr>\n",
       "      <th>ESTU_IES_COD_DESEADA</th>\n",
       "      <td>NaN</td>\n",
       "      <td>9999</td>\n",
       "      <td>9999</td>\n",
       "    </tr>\n",
       "    <tr>\n",
       "      <th>ESTU_RAZONINSTITUTO</th>\n",
       "      <td>8</td>\n",
       "      <td>NaN</td>\n",
       "      <td>2</td>\n",
       "    </tr>\n",
       "    <tr>\n",
       "      <th>ESTU_CARRDESEADA_COD</th>\n",
       "      <td>1707</td>\n",
       "      <td>4701</td>\n",
       "      <td>99999</td>\n",
       "    </tr>\n",
       "    <tr>\n",
       "      <th>ESTU_CARRDESEADA_RAZON</th>\n",
       "      <td>2</td>\n",
       "      <td>3</td>\n",
       "      <td>2</td>\n",
       "    </tr>\n",
       "    <tr>\n",
       "      <th>FAMI_PERSONAS_HOGAR</th>\n",
       "      <td>2</td>\n",
       "      <td>@</td>\n",
       "      <td>5</td>\n",
       "    </tr>\n",
       "    <tr>\n",
       "      <th>FAMI_VIVIENDA_PROPIA</th>\n",
       "      <td>S</td>\n",
       "      <td>N</td>\n",
       "      <td>S</td>\n",
       "    </tr>\n",
       "    <tr>\n",
       "      <th>FAMI_DEUDA_VIVIENDA</th>\n",
       "      <td>N</td>\n",
       "      <td>NaN</td>\n",
       "      <td>S</td>\n",
       "    </tr>\n",
       "    <tr>\n",
       "      <th>FAMI_APORTANTES</th>\n",
       "      <td>1</td>\n",
       "      <td>2</td>\n",
       "      <td>2</td>\n",
       "    </tr>\n",
       "    <tr>\n",
       "      <th>FAMI_INGRESO_FMILIAR_MENSUAL</th>\n",
       "      <td>4</td>\n",
       "      <td>4</td>\n",
       "      <td>9</td>\n",
       "    </tr>\n",
       "    <tr>\n",
       "      <th>FAMI_LEE_ESCRIBE_PADRE</th>\n",
       "      <td>S</td>\n",
       "      <td>S</td>\n",
       "      <td>S</td>\n",
       "    </tr>\n",
       "    <tr>\n",
       "      <th>FAMI_LEE_ESCRIBE_MADRE</th>\n",
       "      <td>S</td>\n",
       "      <td>S</td>\n",
       "      <td>S</td>\n",
       "    </tr>\n",
       "    <tr>\n",
       "      <th>FAMI_EDUCA_PADRE</th>\n",
       "      <td>4</td>\n",
       "      <td>7</td>\n",
       "      <td>8</td>\n",
       "    </tr>\n",
       "    <tr>\n",
       "      <th>FAMI_EDUCA_MADRE</th>\n",
       "      <td>8</td>\n",
       "      <td>4</td>\n",
       "      <td>7</td>\n",
       "    </tr>\n",
       "    <tr>\n",
       "      <th>FAMI_OCUPA_PADRE</th>\n",
       "      <td>05</td>\n",
       "      <td>03</td>\n",
       "      <td>04</td>\n",
       "    </tr>\n",
       "    <tr>\n",
       "      <th>FAMI_OCUPA_MADRE</th>\n",
       "      <td>NaN</td>\n",
       "      <td>10</td>\n",
       "      <td>04</td>\n",
       "    </tr>\n",
       "    <tr>\n",
       "      <th>FAMI_NUM_HERMANOS</th>\n",
       "      <td>NaN</td>\n",
       "      <td>2</td>\n",
       "      <td>1</td>\n",
       "    </tr>\n",
       "    <tr>\n",
       "      <th>FAMI_NUM_HERMANOS_EDUSUPERIOR</th>\n",
       "      <td>2</td>\n",
       "      <td>2</td>\n",
       "      <td>1</td>\n",
       "    </tr>\n",
       "    <tr>\n",
       "      <th>FAMI_POSICION_HERMANOS</th>\n",
       "      <td>3</td>\n",
       "      <td>3</td>\n",
       "      <td>2</td>\n",
       "    </tr>\n",
       "    <tr>\n",
       "      <th>FAMI_SOST_PERSONAL</th>\n",
       "      <td>T</td>\n",
       "      <td>T</td>\n",
       "      <td>T</td>\n",
       "    </tr>\n",
       "    <tr>\n",
       "      <th>ESTU_TRABAJA</th>\n",
       "      <td>N</td>\n",
       "      <td>N</td>\n",
       "      <td>N</td>\n",
       "    </tr>\n",
       "    <tr>\n",
       "      <th>ESTU_ACT_PROX_ANNO</th>\n",
       "      <td>1</td>\n",
       "      <td>1</td>\n",
       "      <td>2</td>\n",
       "    </tr>\n",
       "    <tr>\n",
       "      <th>COLE_CALENDARIO</th>\n",
       "      <td>F</td>\n",
       "      <td>B</td>\n",
       "      <td>B</td>\n",
       "    </tr>\n",
       "    <tr>\n",
       "      <th>COLE_BILINGUE</th>\n",
       "      <td>NaN</td>\n",
       "      <td>NaN</td>\n",
       "      <td>1</td>\n",
       "    </tr>\n",
       "    <tr>\n",
       "      <th>COLE_CARACTER</th>\n",
       "      <td>ACADEMICO</td>\n",
       "      <td>ACADEMICO</td>\n",
       "      <td>ACADEMICO</td>\n",
       "    </tr>\n",
       "    <tr>\n",
       "      <th>COLE_DEPTO_UBICACION</th>\n",
       "      <td>BOGOTA</td>\n",
       "      <td>ATLANTICO</td>\n",
       "      <td>BOGOTA</td>\n",
       "    </tr>\n",
       "    <tr>\n",
       "      <th>COLE_MCPIO_UBICACION</th>\n",
       "      <td>BOGOTç D.C.</td>\n",
       "      <td>BARRANQUILLA</td>\n",
       "      <td>BOGOTç D.C.</td>\n",
       "    </tr>\n",
       "    <tr>\n",
       "      <th>ESTU_TIPO_DOCUMENTO</th>\n",
       "      <td>C</td>\n",
       "      <td>N</td>\n",
       "      <td>T</td>\n",
       "    </tr>\n",
       "    <tr>\n",
       "      <th>ESTU_RESIDE_DEPTO</th>\n",
       "      <td>BOGOTA</td>\n",
       "      <td>ATLANTICO</td>\n",
       "      <td>BOGOTA</td>\n",
       "    </tr>\n",
       "    <tr>\n",
       "      <th>ESTU_RESIDE_MCPIO</th>\n",
       "      <td>BOGOTA D.C.</td>\n",
       "      <td>BARRANQUILLA</td>\n",
       "      <td>BOGOTA D.C.</td>\n",
       "    </tr>\n",
       "  </tbody>\n",
       "</table>\n",
       "</div>"
      ],
      "text/plain": [
       "                                               0                     1  \\\n",
       "ESTU_CONSECUTIVO                SB11200010000203      SB11200010000204   \n",
       "COLE_COD_ICFES                             83048                  3327   \n",
       "COLE_NOMBRE_SEDE               INSTITUTO STUDIUM  COLEGIO HEBREO UNION   \n",
       "IND_ANNO_TERMINO_BACHILLERATO               1999                  2000   \n",
       "COLE_JORNADA                                   C                     C   \n",
       "COLE_VALOR_PENSION                             3                     8   \n",
       "ESTU_GENERO                                    F                     F   \n",
       "ESTU_NACIMIENTO_DIA                           19                    28   \n",
       "ESTU_NACIMIENTO_MES                            3                     4   \n",
       "ESTU_NACIMIENTO_ANNO                        1981                  1982   \n",
       "ESTU_DEPTO_PRESENTACION                   BOGOTA             ATLANTICO   \n",
       "ESTU_MCPIO_PRESENTACION              BOGOTA D.C.          BARRANQUILLA   \n",
       "ESTU_LIMITA_INVIDENTE                        NaN                   NaN   \n",
       "ESTU_LIMITA_SORDOINTERPRETE                  NaN                   NaN   \n",
       "ESTU_LIMITA_SORDONOINTERPRETE                NaN                   NaN   \n",
       "ESTU_LIMITA_MOTRIZ                           NaN                   NaN   \n",
       "PUNT_BIOLOGIA                                 52                    51   \n",
       "PUNT_MATEMATICAS                              47                    52   \n",
       "PUNT_FILOSOFIA                                55                    59   \n",
       "PUNT_FISICA                                   49                    43   \n",
       "PUNT_HISTORIA                                 63                    52   \n",
       "PUNT_QUIMICA                                  49                    54   \n",
       "PUNT_LENGUAJE                                 56                    53   \n",
       "PUNT_GEOGRAFIA                                56                    57   \n",
       "COD_INTERDISCIPLINAR                          43                    45   \n",
       "PUNT_INTERDISCIPLINAR                         55                    47   \n",
       "COD_IDIOMA                                    51                    51   \n",
       "PUNT_IDIOMA                                   45                    58   \n",
       "ESTU_IES_COD_DESEADA                         NaN                  9999   \n",
       "ESTU_RAZONINSTITUTO                            8                   NaN   \n",
       "ESTU_CARRDESEADA_COD                        1707                  4701   \n",
       "ESTU_CARRDESEADA_RAZON                         2                     3   \n",
       "FAMI_PERSONAS_HOGAR                            2                     @   \n",
       "FAMI_VIVIENDA_PROPIA                           S                     N   \n",
       "FAMI_DEUDA_VIVIENDA                            N                   NaN   \n",
       "FAMI_APORTANTES                                1                     2   \n",
       "FAMI_INGRESO_FMILIAR_MENSUAL                   4                     4   \n",
       "FAMI_LEE_ESCRIBE_PADRE                         S                     S   \n",
       "FAMI_LEE_ESCRIBE_MADRE                         S                     S   \n",
       "FAMI_EDUCA_PADRE                               4                     7   \n",
       "FAMI_EDUCA_MADRE                               8                     4   \n",
       "FAMI_OCUPA_PADRE                              05                    03   \n",
       "FAMI_OCUPA_MADRE                             NaN                    10   \n",
       "FAMI_NUM_HERMANOS                            NaN                     2   \n",
       "FAMI_NUM_HERMANOS_EDUSUPERIOR                  2                     2   \n",
       "FAMI_POSICION_HERMANOS                         3                     3   \n",
       "FAMI_SOST_PERSONAL                             T                     T   \n",
       "ESTU_TRABAJA                                   N                     N   \n",
       "ESTU_ACT_PROX_ANNO                             1                     1   \n",
       "COLE_CALENDARIO                                F                     B   \n",
       "COLE_BILINGUE                                NaN                   NaN   \n",
       "COLE_CARACTER                          ACADEMICO             ACADEMICO   \n",
       "COLE_DEPTO_UBICACION                      BOGOTA             ATLANTICO   \n",
       "COLE_MCPIO_UBICACION                 BOGOTç D.C.          BARRANQUILLA   \n",
       "ESTU_TIPO_DOCUMENTO                            C                     N   \n",
       "ESTU_RESIDE_DEPTO                         BOGOTA             ATLANTICO   \n",
       "ESTU_RESIDE_MCPIO                    BOGOTA D.C.          BARRANQUILLA   \n",
       "\n",
       "                                                      2  \n",
       "ESTU_CONSECUTIVO                       SB11200010000205  \n",
       "COLE_COD_ICFES                                    19364  \n",
       "COLE_NOMBRE_SEDE               COLEGIO ANGLO COLOMBIANO  \n",
       "IND_ANNO_TERMINO_BACHILLERATO                      2000  \n",
       "COLE_JORNADA                                          C  \n",
       "COLE_VALOR_PENSION                                    7  \n",
       "ESTU_GENERO                                           M  \n",
       "ESTU_NACIMIENTO_DIA                                  30  \n",
       "ESTU_NACIMIENTO_MES                                   4  \n",
       "ESTU_NACIMIENTO_ANNO                               1982  \n",
       "ESTU_DEPTO_PRESENTACION                          BOGOTA  \n",
       "ESTU_MCPIO_PRESENTACION                     BOGOTA D.C.  \n",
       "ESTU_LIMITA_INVIDENTE                               NaN  \n",
       "ESTU_LIMITA_SORDOINTERPRETE                         NaN  \n",
       "ESTU_LIMITA_SORDONOINTERPRETE                       NaN  \n",
       "ESTU_LIMITA_MOTRIZ                                  NaN  \n",
       "PUNT_BIOLOGIA                                        59  \n",
       "PUNT_MATEMATICAS                                     58  \n",
       "PUNT_FILOSOFIA                                       44  \n",
       "PUNT_FISICA                                          60  \n",
       "PUNT_HISTORIA                                        50  \n",
       "PUNT_QUIMICA                                         68  \n",
       "PUNT_LENGUAJE                                        50  \n",
       "PUNT_GEOGRAFIA                                       43  \n",
       "COD_INTERDISCIPLINAR                                 43  \n",
       "PUNT_INTERDISCIPLINAR                                53  \n",
       "COD_IDIOMA                                           51  \n",
       "PUNT_IDIOMA                                          75  \n",
       "ESTU_IES_COD_DESEADA                               9999  \n",
       "ESTU_RAZONINSTITUTO                                   2  \n",
       "ESTU_CARRDESEADA_COD                              99999  \n",
       "ESTU_CARRDESEADA_RAZON                                2  \n",
       "FAMI_PERSONAS_HOGAR                                   5  \n",
       "FAMI_VIVIENDA_PROPIA                                  S  \n",
       "FAMI_DEUDA_VIVIENDA                                   S  \n",
       "FAMI_APORTANTES                                       2  \n",
       "FAMI_INGRESO_FMILIAR_MENSUAL                          9  \n",
       "FAMI_LEE_ESCRIBE_PADRE                                S  \n",
       "FAMI_LEE_ESCRIBE_MADRE                                S  \n",
       "FAMI_EDUCA_PADRE                                      8  \n",
       "FAMI_EDUCA_MADRE                                      7  \n",
       "FAMI_OCUPA_PADRE                                     04  \n",
       "FAMI_OCUPA_MADRE                                     04  \n",
       "FAMI_NUM_HERMANOS                                     1  \n",
       "FAMI_NUM_HERMANOS_EDUSUPERIOR                         1  \n",
       "FAMI_POSICION_HERMANOS                                2  \n",
       "FAMI_SOST_PERSONAL                                    T  \n",
       "ESTU_TRABAJA                                          N  \n",
       "ESTU_ACT_PROX_ANNO                                    2  \n",
       "COLE_CALENDARIO                                       B  \n",
       "COLE_BILINGUE                                         1  \n",
       "COLE_CARACTER                                 ACADEMICO  \n",
       "COLE_DEPTO_UBICACION                             BOGOTA  \n",
       "COLE_MCPIO_UBICACION                        BOGOTç D.C.  \n",
       "ESTU_TIPO_DOCUMENTO                                   T  \n",
       "ESTU_RESIDE_DEPTO                                BOGOTA  \n",
       "ESTU_RESIDE_MCPIO                           BOGOTA D.C.  "
      ]
     },
     "execution_count": 4,
     "metadata": {},
     "output_type": "execute_result"
    }
   ],
   "source": [
    "data_2000.head(3).T"
   ]
  },
  {
   "cell_type": "code",
   "execution_count": 5,
   "metadata": {
    "collapsed": false
   },
   "outputs": [
    {
     "name": "stdout",
     "output_type": "stream",
     "text": [
      "Index(['1', '2', '3', '5', '6', '7', '8', '9', '@'], dtype='object')\n",
      "1      274\n",
      "2     2744\n",
      "3     8917\n",
      "5    18814\n",
      "6    11487\n",
      "7     6493\n",
      "8     3781\n",
      "9     2208\n",
      "@    19122\n",
      "Name: FAMI_PERSONAS_HOGAR, dtype: int64\n",
      "Elementos null/NaN 3786\n",
      "__________________\n",
      "Elementos diferentes de null/NaN: 73840\n",
      "__________________\n",
      "(73840,)\n",
      "None\n"
     ]
    }
   ],
   "source": [
    "print(data_2000['FAMI_PERSONAS_HOGAR'].value_counts().sort_index().index)\n",
    "print(data_2000['FAMI_PERSONAS_HOGAR'].value_counts().sort_index())\n",
    "print(missing_data(data_2000['FAMI_PERSONAS_HOGAR']))"
   ]
  },
  {
   "cell_type": "markdown",
   "metadata": {},
   "source": [
    "The simbol \"@\" will be changed for the number 4, because the average in Colombian's homes is near to 4."
   ]
  },
  {
   "cell_type": "code",
   "execution_count": 6,
   "metadata": {
    "collapsed": true
   },
   "outputs": [],
   "source": [
    "data_2000['FAMI_PERSONAS_HOGAR'] = data_2000['FAMI_PERSONAS_HOGAR'].replace('@', '4')"
   ]
  },
  {
   "cell_type": "markdown",
   "metadata": {},
   "source": [
    "Then, the following columns will be reviewed"
   ]
  },
  {
   "cell_type": "code",
   "execution_count": 7,
   "metadata": {
    "collapsed": false,
    "scrolled": true
   },
   "outputs": [
    {
     "name": "stdout",
     "output_type": "stream",
     "text": [
      "Index(['@', 'N', 'S'], dtype='object')\n",
      "@        4\n",
      "N    20144\n",
      "S    53182\n",
      "Name: FAMI_VIVIENDA_PROPIA, dtype: int64\n",
      "Elementos null/NaN 4296\n",
      "__________________\n",
      "Elementos diferentes de null/NaN: 73330\n",
      "__________________\n",
      "(73330,)\n",
      "None\n"
     ]
    }
   ],
   "source": [
    "print(data_2000['FAMI_VIVIENDA_PROPIA'].value_counts().sort_index().index)\n",
    "print(data_2000['FAMI_VIVIENDA_PROPIA'].value_counts().sort_index())\n",
    "print(missing_data(data_2000['FAMI_VIVIENDA_PROPIA']))"
   ]
  },
  {
   "cell_type": "markdown",
   "metadata": {},
   "source": [
    "There are very few rows with the value \"@\", so the rows that has it will be replaced for 'NaN' values, and the np.nan values too. "
   ]
  },
  {
   "cell_type": "code",
   "execution_count": 8,
   "metadata": {
    "collapsed": false
   },
   "outputs": [],
   "source": [
    "data_2000['FAMI_VIVIENDA_PROPIA'] = data_2000['FAMI_VIVIENDA_PROPIA'].replace('@', np.nan)"
   ]
  },
  {
   "cell_type": "code",
   "execution_count": 9,
   "metadata": {
    "collapsed": false
   },
   "outputs": [
    {
     "name": "stdout",
     "output_type": "stream",
     "text": [
      "Index(['@', 'N', 'S'], dtype='object')\n",
      "@        3\n",
      "N    36147\n",
      "S    11464\n",
      "Name: FAMI_DEUDA_VIVIENDA, dtype: int64\n",
      "Elementos null/NaN 30012\n",
      "__________________\n",
      "Elementos diferentes de null/NaN: 47614\n",
      "__________________\n",
      "(47614,)\n",
      "None\n"
     ]
    }
   ],
   "source": [
    "print(data_2000['FAMI_DEUDA_VIVIENDA'].value_counts().sort_index().index)\n",
    "print(data_2000['FAMI_DEUDA_VIVIENDA'].value_counts().sort_index())\n",
    "print(missing_data(data_2000['FAMI_DEUDA_VIVIENDA']))"
   ]
  },
  {
   "cell_type": "code",
   "execution_count": 10,
   "metadata": {
    "collapsed": true
   },
   "outputs": [],
   "source": [
    "data_2000['FAMI_DEUDA_VIVIENDA'] = data_2000['FAMI_DEUDA_VIVIENDA'].replace('@', np.nan)"
   ]
  },
  {
   "cell_type": "code",
   "execution_count": 11,
   "metadata": {
    "collapsed": false
   },
   "outputs": [
    {
     "name": "stdout",
     "output_type": "stream",
     "text": [
      "Index(['@', 'N', 'S'], dtype='object')\n",
      "@       35\n",
      "N     2264\n",
      "S    67427\n",
      "Name: FAMI_LEE_ESCRIBE_PADRE, dtype: int64\n",
      "Elementos null/NaN 7900\n",
      "__________________\n",
      "Elementos diferentes de null/NaN: 69726\n",
      "__________________\n",
      "(69726,)\n",
      "None\n"
     ]
    }
   ],
   "source": [
    "print(data_2000['FAMI_LEE_ESCRIBE_PADRE'].value_counts().sort_index().index)\n",
    "print(data_2000['FAMI_LEE_ESCRIBE_PADRE'].value_counts().sort_index())\n",
    "print(missing_data(data_2000['FAMI_LEE_ESCRIBE_PADRE']))"
   ]
  },
  {
   "cell_type": "code",
   "execution_count": 12,
   "metadata": {
    "collapsed": true
   },
   "outputs": [],
   "source": [
    "data_2000['FAMI_LEE_ESCRIBE_PADRE'] = data_2000['FAMI_LEE_ESCRIBE_PADRE'].replace('@', np.nan)"
   ]
  },
  {
   "cell_type": "code",
   "execution_count": 13,
   "metadata": {
    "collapsed": false
   },
   "outputs": [
    {
     "name": "stdout",
     "output_type": "stream",
     "text": [
      "Index(['@', 'N', 'S'], dtype='object')\n",
      "@       43\n",
      "N     2847\n",
      "S    72004\n",
      "Name: FAMI_LEE_ESCRIBE_MADRE, dtype: int64\n",
      "Elementos null/NaN 2732\n",
      "__________________\n",
      "Elementos diferentes de null/NaN: 74894\n",
      "__________________\n",
      "(74894,)\n",
      "None\n"
     ]
    }
   ],
   "source": [
    "print(data_2000['FAMI_LEE_ESCRIBE_MADRE'].value_counts().sort_index().index)\n",
    "print(data_2000['FAMI_LEE_ESCRIBE_MADRE'].value_counts().sort_index())\n",
    "print(missing_data(data_2000['FAMI_LEE_ESCRIBE_MADRE']))"
   ]
  },
  {
   "cell_type": "code",
   "execution_count": 14,
   "metadata": {
    "collapsed": true
   },
   "outputs": [],
   "source": [
    "data_2000['FAMI_LEE_ESCRIBE_MADRE'] = data_2000['FAMI_LEE_ESCRIBE_MADRE'].replace('@', np.nan)"
   ]
  },
  {
   "cell_type": "code",
   "execution_count": 15,
   "metadata": {
    "collapsed": false
   },
   "outputs": [
    {
     "name": "stdout",
     "output_type": "stream",
     "text": [
      "Index(['@', 'N', 'P', 'T'], dtype='object')\n",
      "@        3\n",
      "N     6586\n",
      "P    10348\n",
      "T    57627\n",
      "Name: FAMI_SOST_PERSONAL, dtype: int64\n",
      "Elementos null/NaN 3062\n",
      "__________________\n",
      "Elementos diferentes de null/NaN: 74564\n",
      "__________________\n",
      "(74564,)\n",
      "None\n"
     ]
    }
   ],
   "source": [
    "print(data_2000['FAMI_SOST_PERSONAL'].value_counts().sort_index().index)\n",
    "print(data_2000['FAMI_SOST_PERSONAL'].value_counts().sort_index())\n",
    "print(missing_data(data_2000['FAMI_SOST_PERSONAL']))"
   ]
  },
  {
   "cell_type": "code",
   "execution_count": 16,
   "metadata": {
    "collapsed": true
   },
   "outputs": [],
   "source": [
    "data_2000['FAMI_SOST_PERSONAL'] = data_2000['FAMI_SOST_PERSONAL'].replace('@', np.nan)"
   ]
  },
  {
   "cell_type": "code",
   "execution_count": 17,
   "metadata": {
    "collapsed": false
   },
   "outputs": [
    {
     "name": "stdout",
     "output_type": "stream",
     "text": [
      "Index(['@', 'N', 'S'], dtype='object')\n",
      "@        2\n",
      "N    63214\n",
      "S    10620\n",
      "Name: ESTU_TRABAJA, dtype: int64\n",
      "Elementos null/NaN 3790\n",
      "__________________\n",
      "Elementos diferentes de null/NaN: 73836\n",
      "__________________\n",
      "(73836,)\n",
      "None\n"
     ]
    }
   ],
   "source": [
    "print(data_2000['ESTU_TRABAJA'].value_counts().sort_index().index)\n",
    "print(data_2000['ESTU_TRABAJA'].value_counts().sort_index())\n",
    "print(missing_data(data_2000['ESTU_TRABAJA']))"
   ]
  },
  {
   "cell_type": "code",
   "execution_count": 18,
   "metadata": {
    "collapsed": true
   },
   "outputs": [],
   "source": [
    "data_2000['ESTU_TRABAJA'] = data_2000['ESTU_TRABAJA'].replace('@', np.nan)"
   ]
  },
  {
   "cell_type": "code",
   "execution_count": 19,
   "metadata": {
    "collapsed": false
   },
   "outputs": [
    {
     "name": "stdout",
     "output_type": "stream",
     "text": [
      "Index(['A', 'B', 'F'], dtype='object')\n",
      "A     6708\n",
      "B    49464\n",
      "F    21454\n",
      "Name: COLE_CALENDARIO, dtype: int64\n",
      "Elementos null/NaN 0\n",
      "__________________\n",
      "Elementos diferentes de null/NaN: 77626\n",
      "__________________\n",
      "(77626,)\n",
      "None\n"
     ]
    }
   ],
   "source": [
    "print(data_2000['COLE_CALENDARIO'].value_counts().sort_index().index)\n",
    "print(data_2000['COLE_CALENDARIO'].value_counts().sort_index())\n",
    "print(missing_data(data_2000['COLE_CALENDARIO']))"
   ]
  },
  {
   "cell_type": "code",
   "execution_count": 20,
   "metadata": {
    "collapsed": false
   },
   "outputs": [
    {
     "name": "stdout",
     "output_type": "stream",
     "text": [
      "Index(['ACADEMICO', 'ACADEMICO Y TECNICO', 'NORMALISTA', 'TECNICO'], dtype='object')\n",
      "ACADEMICO              38234\n",
      "ACADEMICO Y TECNICO    17844\n",
      "NORMALISTA              1168\n",
      "TECNICO                20380\n",
      "Name: COLE_CARACTER, dtype: int64\n",
      "Elementos null/NaN 0\n",
      "__________________\n",
      "Elementos diferentes de null/NaN: 77626\n",
      "__________________\n",
      "(77626,)\n",
      "None\n"
     ]
    }
   ],
   "source": [
    "print(data_2000['COLE_CARACTER'].value_counts().sort_index().index)\n",
    "print(data_2000['COLE_CARACTER'].value_counts().sort_index())\n",
    "print(missing_data(data_2000['COLE_CARACTER']))"
   ]
  },
  {
   "cell_type": "code",
   "execution_count": 21,
   "metadata": {
    "collapsed": false
   },
   "outputs": [],
   "source": [
    "remaining_c = data_2000.columns.difference(['FAMI_PERSONAS_HOGAR', 'FAMI_VIVIENDA_PROPIA', 'FAMI_DEUDA_VIVIENDA', 'FAMI_LEE_ESCRIBE_PADRE',\n",
    "                     'FAMI_LEE_ESCRIBE_MADRE', 'FAMI_SOST_PERSONAL', 'ESTU_TRABAJA', 'COLE_CALENDARIO',\n",
    "                     'COLE_CARACTER'])"
   ]
  },
  {
   "cell_type": "code",
   "execution_count": 22,
   "metadata": {
    "collapsed": false,
    "scrolled": false
   },
   "outputs": [
    {
     "data": {
      "text/plain": [
       "Index(['COD_IDIOMA', 'COD_INTERDISCIPLINAR', 'COLE_BILINGUE', 'COLE_COD_ICFES',\n",
       "       'COLE_DEPTO_UBICACION', 'COLE_JORNADA', 'COLE_MCPIO_UBICACION',\n",
       "       'COLE_NOMBRE_SEDE', 'COLE_VALOR_PENSION', 'ESTU_ACT_PROX_ANNO',\n",
       "       'ESTU_CARRDESEADA_COD', 'ESTU_CARRDESEADA_RAZON', 'ESTU_CONSECUTIVO',\n",
       "       'ESTU_DEPTO_PRESENTACION', 'ESTU_GENERO', 'ESTU_IES_COD_DESEADA',\n",
       "       'ESTU_LIMITA_INVIDENTE', 'ESTU_LIMITA_MOTRIZ',\n",
       "       'ESTU_LIMITA_SORDOINTERPRETE', 'ESTU_LIMITA_SORDONOINTERPRETE',\n",
       "       'ESTU_MCPIO_PRESENTACION', 'ESTU_NACIMIENTO_ANNO',\n",
       "       'ESTU_NACIMIENTO_DIA', 'ESTU_NACIMIENTO_MES', 'ESTU_RAZONINSTITUTO',\n",
       "       'ESTU_RESIDE_DEPTO', 'ESTU_RESIDE_MCPIO', 'ESTU_TIPO_DOCUMENTO',\n",
       "       'FAMI_APORTANTES', 'FAMI_EDUCA_MADRE', 'FAMI_EDUCA_PADRE',\n",
       "       'FAMI_INGRESO_FMILIAR_MENSUAL', 'FAMI_NUM_HERMANOS',\n",
       "       'FAMI_NUM_HERMANOS_EDUSUPERIOR', 'FAMI_OCUPA_MADRE', 'FAMI_OCUPA_PADRE',\n",
       "       'FAMI_POSICION_HERMANOS', 'IND_ANNO_TERMINO_BACHILLERATO',\n",
       "       'PUNT_BIOLOGIA', 'PUNT_FILOSOFIA', 'PUNT_FISICA', 'PUNT_GEOGRAFIA',\n",
       "       'PUNT_HISTORIA', 'PUNT_IDIOMA', 'PUNT_INTERDISCIPLINAR',\n",
       "       'PUNT_LENGUAJE', 'PUNT_MATEMATICAS', 'PUNT_QUIMICA'],\n",
       "      dtype='object')"
      ]
     },
     "execution_count": 22,
     "metadata": {},
     "output_type": "execute_result"
    }
   ],
   "source": [
    "remaining_c"
   ]
  },
  {
   "cell_type": "code",
   "execution_count": 23,
   "metadata": {
    "collapsed": false
   },
   "outputs": [
    {
     "name": "stdout",
     "output_type": "stream",
     "text": [
      "Index(['1', '3', '2', '5', '4', 3.0, 1.0, 2.0, '6', 4.0, 5.0, 6.0, '@'], dtype='object')\n",
      "1      17543\n",
      "3      14623\n",
      "2      13583\n",
      "5       4933\n",
      "4       4571\n",
      "3.0     4537\n",
      "1.0     4537\n",
      "2.0     3898\n",
      "6       1658\n",
      "4.0     1078\n",
      "5.0     1075\n",
      "6.0      381\n",
      "@         18\n",
      "Name: ESTU_CARRDESEADA_RAZON, dtype: int64\n",
      "Elementos null/NaN 5191\n",
      "__________________\n",
      "Elementos diferentes de null/NaN: 72435\n",
      "__________________\n",
      "(72435,)\n",
      "None\n"
     ]
    }
   ],
   "source": [
    "print(data_2000['ESTU_CARRDESEADA_RAZON'].value_counts().index)\n",
    "print(data_2000['ESTU_CARRDESEADA_RAZON'].value_counts())\n",
    "print(missing_data(data_2000['ESTU_CARRDESEADA_RAZON']))"
   ]
  },
  {
   "cell_type": "code",
   "execution_count": 24,
   "metadata": {
    "collapsed": false
   },
   "outputs": [],
   "source": [
    "data_2000['ESTU_CARRDESEADA_RAZON'] = data_2000['ESTU_CARRDESEADA_RAZON'].replace('@', np.nan)\n",
    "for i in data_2000['ESTU_CARRDESEADA_RAZON'].value_counts().index:\n",
    "    if type(i) == float:\n",
    "        data_2000['ESTU_CARRDESEADA_RAZON'] = data_2000['ESTU_CARRDESEADA_RAZON'].replace(i, str(i)[:-2])"
   ]
  },
  {
   "cell_type": "code",
   "execution_count": 25,
   "metadata": {
    "collapsed": false
   },
   "outputs": [
    {
     "name": "stdout",
     "output_type": "stream",
     "text": [
      "Index(['2', '3', '5', '8', '4', '6', 2.0, '7', 3.0, 8.0, 5.0, 4.0, 6.0, '1',\n",
      "       7.0, 1.0, '@'],\n",
      "      dtype='object')\n",
      "2      15413\n",
      "3       9103\n",
      "5       7725\n",
      "8       6352\n",
      "4       6253\n",
      "6       5142\n",
      "2.0     5042\n",
      "7       3861\n",
      "3.0     2478\n",
      "8.0     1757\n",
      "5.0     1510\n",
      "4.0     1379\n",
      "6.0     1316\n",
      "1       1134\n",
      "7.0     1058\n",
      "1.0      263\n",
      "@         16\n",
      "Name: ESTU_RAZONINSTITUTO, dtype: int64\n",
      "Elementos null/NaN 7824\n",
      "__________________\n",
      "Elementos diferentes de null/NaN: 69802\n",
      "__________________\n",
      "(69802,)\n",
      "None\n"
     ]
    }
   ],
   "source": [
    "print(data_2000['ESTU_RAZONINSTITUTO'].value_counts().index)\n",
    "print(data_2000['ESTU_RAZONINSTITUTO'].value_counts())\n",
    "print(missing_data(data_2000['ESTU_RAZONINSTITUTO']))"
   ]
  },
  {
   "cell_type": "code",
   "execution_count": 26,
   "metadata": {
    "collapsed": true
   },
   "outputs": [],
   "source": [
    "data_2000['ESTU_RAZONINSTITUTO'] = data_2000['ESTU_RAZONINSTITUTO'].replace('@',np.nan)\n",
    "for i in data_2000['ESTU_RAZONINSTITUTO'].value_counts().index:\n",
    "    if type(i) == float:\n",
    "        data_2000['ESTU_RAZONINSTITUTO'] = data_2000['ESTU_RAZONINSTITUTO'].replace(i, str(i)[:-2])"
   ]
  },
  {
   "cell_type": "code",
   "execution_count": 27,
   "metadata": {
    "collapsed": false
   },
   "outputs": [
    {
     "name": "stdout",
     "output_type": "stream",
     "text": [
      "Index(['1', '8', '2', 1.0, '3', '4', 8.0, '7', '5', 2.0, 3.0, 4.0, '6', 5.0,\n",
      "       6.0, 7.0, '@'],\n",
      "      dtype='object')\n",
      "1      17641\n",
      "8      14402\n",
      "2       9159\n",
      "1.0     5909\n",
      "3       5850\n",
      "4       3106\n",
      "8.0     2843\n",
      "7       2750\n",
      "5       2009\n",
      "2.0     1898\n",
      "3.0     1824\n",
      "4.0     1367\n",
      "6       1341\n",
      "5.0     1217\n",
      "6.0      488\n",
      "7.0      296\n",
      "@         16\n",
      "Name: COLE_VALOR_PENSION, dtype: int64\n",
      "Elementos null/NaN 5510\n",
      "__________________\n",
      "Elementos diferentes de null/NaN: 72116\n",
      "__________________\n",
      "(72116,)\n",
      "None\n"
     ]
    }
   ],
   "source": [
    "print(data_2000['COLE_VALOR_PENSION'].value_counts().index)\n",
    "print(data_2000['COLE_VALOR_PENSION'].value_counts())\n",
    "print(missing_data(data_2000['COLE_VALOR_PENSION']))"
   ]
  },
  {
   "cell_type": "markdown",
   "metadata": {},
   "source": [
    "Cambio de la @ por 4 en la columna *ESTU_ACT_PROX_ANNO*"
   ]
  },
  {
   "cell_type": "code",
   "execution_count": 28,
   "metadata": {
    "collapsed": true
   },
   "outputs": [],
   "source": [
    "data_2000['COLE_VALOR_PENSION'] = data_2000['COLE_VALOR_PENSION'].replace('@', np.nan)\n",
    "for i in data_2000['COLE_VALOR_PENSION'].value_counts().index:\n",
    "    if type(i) == str:\n",
    "        data_2000['COLE_VALOR_PENSION'] = data_2000['COLE_VALOR_PENSION'].replace(i, float(i))"
   ]
  },
  {
   "cell_type": "code",
   "execution_count": 29,
   "metadata": {
    "collapsed": false,
    "scrolled": true
   },
   "outputs": [
    {
     "name": "stdout",
     "output_type": "stream",
     "text": [
      "Index(['ANTIOQUIA', 'ARAUCA', 'ATLANTICO', 'BOGOTA', 'BOLIVAR', 'BOYACA',\n",
      "       'CALDAS', 'CAQUETA', 'CASANARE', 'CAUCA', 'CESAR', 'CHOCO', 'CORDOBA',\n",
      "       'CUNDINAMARCA', 'HUILA', 'LA GUAJIRA', 'MAGDALENA', 'META', 'NARIO',\n",
      "       'NORTE SANTANDER', 'PUTUMAYO', 'QUINDIO', 'RISARALDA', 'SANTANDER',\n",
      "       'SUCRE', 'TOLIMA', 'VALLE'],\n",
      "      dtype='object')\n",
      "ANTIOQUIA           3808\n",
      "ARAUCA               110\n",
      "ATLANTICO           1098\n",
      "BOGOTA              6843\n",
      "BOLIVAR              325\n",
      "BOYACA               214\n",
      "CALDAS               317\n",
      "CAQUETA              250\n",
      "CASANARE             132\n",
      "CAUCA               8276\n",
      "CESAR                181\n",
      "CHOCO                 57\n",
      "CORDOBA              328\n",
      "CUNDINAMARCA         838\n",
      "HUILA                514\n",
      "LA GUAJIRA           191\n",
      "MAGDALENA            175\n",
      "META                 417\n",
      "NARIO             11600\n",
      "NORTE SANTANDER      385\n",
      "PUTUMAYO             113\n",
      "QUINDIO              528\n",
      "RISARALDA            533\n",
      "SANTANDER            564\n",
      "SUCRE                 66\n",
      "TOLIMA               437\n",
      "VALLE              39326\n",
      "Name: COLE_DEPTO_UBICACION, dtype: int64\n",
      "Elementos null/NaN 0\n",
      "__________________\n",
      "Elementos diferentes de null/NaN: 77626\n",
      "__________________\n",
      "(77626,)\n",
      "None\n"
     ]
    }
   ],
   "source": [
    "print(data_2000['COLE_DEPTO_UBICACION'].value_counts().sort_index().index)\n",
    "print(data_2000['COLE_DEPTO_UBICACION'].value_counts().sort_index())\n",
    "print(missing_data(data_2000['COLE_DEPTO_UBICACION']))"
   ]
  },
  {
   "cell_type": "code",
   "execution_count": 30,
   "metadata": {
    "collapsed": true
   },
   "outputs": [],
   "source": [
    "data_2000['COLE_DEPTO_UBICACION'] = data_2000['COLE_DEPTO_UBICACION'].replace('NARI\\x84O', 'NARIÑO')"
   ]
  },
  {
   "cell_type": "code",
   "execution_count": 31,
   "metadata": {
    "collapsed": false,
    "scrolled": true
   },
   "outputs": [
    {
     "name": "stdout",
     "output_type": "stream",
     "text": [
      "Index(['ANTIOQUIA', 'ARAUCA', 'ATLANTICO', 'BOGOTA', 'BOLIVAR', 'BOYACA',\n",
      "       'CALDAS', 'CAQUETA', 'CASANARE', 'CAUCA', 'CESAR', 'CHOCO', 'CORDOBA',\n",
      "       'CUNDINAMARCA', 'GUAVIARE', 'HUILA', 'LA GUAJIRA', 'MAGDALENA', 'META',\n",
      "       'NARIO', 'NORTE SANTANDER', 'PUTUMAYO', 'QUINDIO', 'RISARALDA',\n",
      "       'SANTANDER', 'SUCRE', 'TOLIMA', 'VALLE'],\n",
      "      dtype='object')\n",
      "ANTIOQUIA           3794\n",
      "ARAUCA               108\n",
      "ATLANTICO           1103\n",
      "BOGOTA              6857\n",
      "BOLIVAR              321\n",
      "BOYACA               249\n",
      "CALDAS               312\n",
      "CAQUETA              261\n",
      "CASANARE             131\n",
      "CAUCA               8332\n",
      "CESAR                182\n",
      "CHOCO                 57\n",
      "CORDOBA              332\n",
      "CUNDINAMARCA         808\n",
      "GUAVIARE              28\n",
      "HUILA                498\n",
      "LA GUAJIRA           192\n",
      "MAGDALENA            175\n",
      "META                 391\n",
      "NARIO             11616\n",
      "NORTE SANTANDER      387\n",
      "PUTUMAYO             126\n",
      "QUINDIO              541\n",
      "RISARALDA            548\n",
      "SANTANDER            530\n",
      "SUCRE                 80\n",
      "TOLIMA               443\n",
      "VALLE              39224\n",
      "Name: ESTU_DEPTO_PRESENTACION, dtype: int64\n",
      "Elementos null/NaN 0\n",
      "__________________\n",
      "Elementos diferentes de null/NaN: 77626\n",
      "__________________\n",
      "(77626,)\n",
      "None\n"
     ]
    }
   ],
   "source": [
    "print(data_2000['ESTU_DEPTO_PRESENTACION'].value_counts().sort_index().index)\n",
    "print(data_2000['ESTU_DEPTO_PRESENTACION'].value_counts().sort_index())\n",
    "print(missing_data(data_2000['ESTU_DEPTO_PRESENTACION']))"
   ]
  },
  {
   "cell_type": "code",
   "execution_count": 32,
   "metadata": {
    "collapsed": true
   },
   "outputs": [],
   "source": [
    "data_2000['ESTU_DEPTO_PRESENTACION'] = data_2000['ESTU_DEPTO_PRESENTACION'].replace('NARI\\x84O', 'NARIÑO')"
   ]
  },
  {
   "cell_type": "code",
   "execution_count": 33,
   "metadata": {
    "collapsed": false
   },
   "outputs": [
    {
     "name": "stdout",
     "output_type": "stream",
     "text": [
      "Index(['1', '2', '3', '@'], dtype='object')\n",
      "1    19322\n",
      "2     1917\n",
      "3    55913\n",
      "@       46\n",
      "Name: ESTU_ACT_PROX_ANNO, dtype: int64\n",
      "Elementos null/NaN 428\n",
      "__________________\n",
      "Elementos diferentes de null/NaN: 77198\n",
      "__________________\n",
      "(77198,)\n",
      "None\n"
     ]
    }
   ],
   "source": [
    "print(data_2000['ESTU_ACT_PROX_ANNO'].value_counts().sort_index().index)\n",
    "print(data_2000['ESTU_ACT_PROX_ANNO'].value_counts().sort_index())\n",
    "print(missing_data(data_2000['ESTU_ACT_PROX_ANNO']))"
   ]
  },
  {
   "cell_type": "code",
   "execution_count": 34,
   "metadata": {
    "collapsed": false
   },
   "outputs": [],
   "source": [
    "\"\"\"The simbol @ will be replaced for the number(string) 4.\"\"\"\n",
    "data_2000['ESTU_ACT_PROX_ANNO'] = data_2000['ESTU_ACT_PROX_ANNO'].replace('@', '4')"
   ]
  },
  {
   "cell_type": "markdown",
   "metadata": {},
   "source": [
    "Se eliminan las lineas que tienen años invalidos"
   ]
  },
  {
   "cell_type": "code",
   "execution_count": 35,
   "metadata": {
    "collapsed": false,
    "scrolled": true
   },
   "outputs": [
    {
     "name": "stdout",
     "output_type": "stream",
     "text": [
      "Float64Index([ 195.0,  196.0,  197.0,  198.0, 1934.0, 1935.0, 1937.0, 1938.0,\n",
      "              1939.0, 1940.0, 1941.0, 1942.0, 1943.0, 1944.0, 1945.0, 1946.0,\n",
      "              1947.0, 1948.0, 1949.0, 1950.0, 1951.0, 1952.0, 1953.0, 1954.0,\n",
      "              1955.0, 1956.0, 1957.0, 1958.0, 1959.0, 1960.0, 1961.0, 1962.0,\n",
      "              1963.0, 1964.0, 1965.0, 1966.0, 1967.0, 1968.0, 1969.0, 1970.0,\n",
      "              1971.0, 1972.0, 1973.0, 1974.0, 1975.0, 1976.0, 1977.0, 1978.0,\n",
      "              1979.0, 1980.0, 1981.0, 1982.0, 1983.0, 1984.0, 1985.0, 1986.0,\n",
      "              1987.0, 1988.0, 1989.0],\n",
      "             dtype='float64')\n",
      "195.0         2\n",
      "196.0        13\n",
      "197.0        14\n",
      "198.0        70\n",
      "1934.0        1\n",
      "1935.0        1\n",
      "1937.0        1\n",
      "1938.0        4\n",
      "1939.0        4\n",
      "1940.0        5\n",
      "1941.0        3\n",
      "1942.0        7\n",
      "1943.0        1\n",
      "1944.0        3\n",
      "1945.0        9\n",
      "1946.0        8\n",
      "1947.0       14\n",
      "1948.0       10\n",
      "1949.0       33\n",
      "1950.0       27\n",
      "1951.0       45\n",
      "1952.0       45\n",
      "1953.0       51\n",
      "1954.0       70\n",
      "1955.0       91\n",
      "1956.0      112\n",
      "1957.0      111\n",
      "1958.0      141\n",
      "1959.0      170\n",
      "1960.0      182\n",
      "1961.0      222\n",
      "1962.0      264\n",
      "1963.0      301\n",
      "1964.0      319\n",
      "1965.0      314\n",
      "1966.0      327\n",
      "1967.0      397\n",
      "1968.0      426\n",
      "1969.0      408\n",
      "1970.0      500\n",
      "1971.0      531\n",
      "1972.0      596\n",
      "1973.0      591\n",
      "1974.0      739\n",
      "1975.0      850\n",
      "1976.0     1051\n",
      "1977.0     1442\n",
      "1978.0     2078\n",
      "1979.0     4303\n",
      "1980.0     6919\n",
      "1981.0    11857\n",
      "1982.0    17753\n",
      "1983.0    19081\n",
      "1984.0     4839\n",
      "1985.0      198\n",
      "1986.0       13\n",
      "1987.0       14\n",
      "1988.0       13\n",
      "1989.0       13\n",
      "Name: ESTU_NACIMIENTO_ANNO, dtype: int64\n",
      "Elementos null/NaN 19\n",
      "__________________\n",
      "Elementos diferentes de null/NaN: 77607\n",
      "__________________\n",
      "(77607,)\n",
      "None\n"
     ]
    }
   ],
   "source": [
    "print(data_2000['ESTU_NACIMIENTO_ANNO'].value_counts().sort_index().index)\n",
    "print(data_2000['ESTU_NACIMIENTO_ANNO'].value_counts().sort_index())\n",
    "print(missing_data(data_2000['ESTU_NACIMIENTO_ANNO']))"
   ]
  },
  {
   "cell_type": "code",
   "execution_count": 36,
   "metadata": {
    "collapsed": false,
    "scrolled": true
   },
   "outputs": [
    {
     "name": "stdout",
     "output_type": "stream",
     "text": [
      "Float64Index([ 1.0,  2.0,  3.0,  4.0,  5.0,  6.0,  7.0,  8.0,  9.0, 10.0, 11.0,\n",
      "              12.0, 13.0, 14.0, 15.0, 16.0, 17.0, 18.0, 19.0, 20.0, 21.0, 22.0,\n",
      "              23.0, 24.0, 25.0, 26.0, 27.0, 28.0, 29.0, 30.0, 31.0],\n",
      "             dtype='float64')\n",
      "1.0     2844\n",
      "2.0     2589\n",
      "3.0     2612\n",
      "4.0     2506\n",
      "5.0     2739\n",
      "6.0     2449\n",
      "7.0     2515\n",
      "8.0     2590\n",
      "9.0     2533\n",
      "10.0    2654\n",
      "11.0    2548\n",
      "12.0    2593\n",
      "13.0    2408\n",
      "14.0    2561\n",
      "15.0    2669\n",
      "16.0    2486\n",
      "17.0    2573\n",
      "18.0    2589\n",
      "19.0    2496\n",
      "20.0    2631\n",
      "21.0    2426\n",
      "22.0    2486\n",
      "23.0    2535\n",
      "24.0    2655\n",
      "25.0    2597\n",
      "26.0    2481\n",
      "27.0    2449\n",
      "28.0    2592\n",
      "29.0    2231\n",
      "30.0    2259\n",
      "31.0    1312\n",
      "Name: ESTU_NACIMIENTO_DIA, dtype: int64\n",
      "Elementos null/NaN 18\n",
      "__________________\n",
      "Elementos diferentes de null/NaN: 77608\n",
      "__________________\n",
      "(77608,)\n",
      "None\n"
     ]
    }
   ],
   "source": [
    "print(data_2000['ESTU_NACIMIENTO_DIA'].value_counts().sort_index().index)\n",
    "print(data_2000['ESTU_NACIMIENTO_DIA'].value_counts().sort_index())\n",
    "print(missing_data(data_2000['ESTU_NACIMIENTO_DIA']))"
   ]
  },
  {
   "cell_type": "code",
   "execution_count": 37,
   "metadata": {
    "collapsed": false,
    "scrolled": true
   },
   "outputs": [
    {
     "name": "stdout",
     "output_type": "stream",
     "text": [
      "Float64Index([1.0, 2.0, 3.0, 4.0, 5.0, 6.0, 7.0, 8.0, 9.0, 10.0, 11.0, 12.0], dtype='float64')\n",
      "1.0     6419\n",
      "2.0     5792\n",
      "3.0     6483\n",
      "4.0     6170\n",
      "5.0     6492\n",
      "6.0     6267\n",
      "7.0     6555\n",
      "8.0     6571\n",
      "9.0     6867\n",
      "10.0    6825\n",
      "11.0    6500\n",
      "12.0    6667\n",
      "Name: ESTU_NACIMIENTO_MES, dtype: int64\n",
      "Elementos null/NaN 18\n",
      "__________________\n",
      "Elementos diferentes de null/NaN: 77608\n",
      "__________________\n",
      "(77608,)\n",
      "None\n"
     ]
    }
   ],
   "source": [
    "print(data_2000['ESTU_NACIMIENTO_MES'].value_counts().sort_index().index)\n",
    "print(data_2000['ESTU_NACIMIENTO_MES'].value_counts().sort_index())\n",
    "print(missing_data(data_2000['ESTU_NACIMIENTO_MES']))"
   ]
  },
  {
   "cell_type": "code",
   "execution_count": 38,
   "metadata": {
    "collapsed": false
   },
   "outputs": [],
   "source": [
    "for i in data_2000['ESTU_NACIMIENTO_ANNO'].value_counts().sort_index().index:\n",
    "    if len(str(i)[:-2])<4:\n",
    "        data_2000['ESTU_NACIMIENTO_ANNO'] = data_2000['ESTU_NACIMIENTO_ANNO'].replace(i, np.nan)"
   ]
  },
  {
   "cell_type": "markdown",
   "metadata": {},
   "source": [
    "Se hacen los cambios segun la columna FAMI_APORTANTES"
   ]
  },
  {
   "cell_type": "code",
   "execution_count": 39,
   "metadata": {
    "collapsed": false,
    "scrolled": true
   },
   "outputs": [
    {
     "name": "stdout",
     "output_type": "stream",
     "text": [
      "Index(['+', '0', '1', '2', '3', '4', '5', '6', '7', '8', '9', '@'], dtype='object')\n",
      "+       66\n",
      "0      251\n",
      "1    39360\n",
      "2    28171\n",
      "3     5815\n",
      "4     1607\n",
      "5      483\n",
      "6      156\n",
      "7       47\n",
      "8       30\n",
      "9       25\n",
      "@      212\n",
      "Name: FAMI_APORTANTES, dtype: int64\n",
      "Elementos null/NaN 1403\n",
      "__________________\n",
      "Elementos diferentes de null/NaN: 76223\n",
      "__________________\n",
      "(76223,)\n",
      "None\n"
     ]
    }
   ],
   "source": [
    "print(data_2000['FAMI_APORTANTES'].value_counts().sort_index().index)\n",
    "print(data_2000['FAMI_APORTANTES'].value_counts().sort_index())\n",
    "print(missing_data(data_2000['FAMI_APORTANTES']))"
   ]
  },
  {
   "cell_type": "code",
   "execution_count": 40,
   "metadata": {
    "collapsed": true
   },
   "outputs": [],
   "source": [
    "data_2000['FAMI_APORTANTES'] = data_2000['FAMI_APORTANTES'].replace('@', np.nan)\n",
    "data_2000['FAMI_APORTANTES'] = data_2000['FAMI_APORTANTES'].replace('+', '+9')"
   ]
  },
  {
   "cell_type": "markdown",
   "metadata": {},
   "source": [
    "Se eliminan las filas que poseen '@' FAMI_EDUCA_MADRE"
   ]
  },
  {
   "cell_type": "code",
   "execution_count": 41,
   "metadata": {
    "collapsed": false
   },
   "outputs": [
    {
     "name": "stdout",
     "output_type": "stream",
     "text": [
      "Index(['1', '2', '3', '4', '5', '6', '7', '8', '@'], dtype='object')\n",
      "1     3250\n",
      "2      936\n",
      "3    34447\n",
      "4    19198\n",
      "5     3962\n",
      "6     2339\n",
      "7     4973\n",
      "8     2039\n",
      "@      886\n",
      "Name: FAMI_EDUCA_MADRE, dtype: int64\n",
      "Elementos null/NaN 5596\n",
      "__________________\n",
      "Elementos diferentes de null/NaN: 72030\n",
      "__________________\n",
      "(72030,)\n",
      "None\n"
     ]
    }
   ],
   "source": [
    "print(data_2000['FAMI_EDUCA_MADRE'].value_counts().sort_index().index)\n",
    "print(data_2000['FAMI_EDUCA_MADRE'].value_counts().sort_index())\n",
    "print(missing_data(data_2000['FAMI_EDUCA_MADRE']))"
   ]
  },
  {
   "cell_type": "code",
   "execution_count": 42,
   "metadata": {
    "collapsed": true
   },
   "outputs": [],
   "source": [
    "data_2000['FAMI_EDUCA_MADRE'] = data_2000['FAMI_EDUCA_MADRE'].replace('@', np.nan)"
   ]
  },
  {
   "cell_type": "markdown",
   "metadata": {},
   "source": [
    "Se eliminan las filas que poseen '@' en FAMI_EDUCA_PADRE"
   ]
  },
  {
   "cell_type": "code",
   "execution_count": 43,
   "metadata": {
    "collapsed": false
   },
   "outputs": [
    {
     "name": "stdout",
     "output_type": "stream",
     "text": [
      "Index(['1', '2', '3', '4', '5', '6', '7', '8', '@'], dtype='object')\n",
      "1     3122\n",
      "2      841\n",
      "3    31984\n",
      "4    16489\n",
      "5     3121\n",
      "6     2895\n",
      "7     5877\n",
      "8     3023\n",
      "@      880\n",
      "Name: FAMI_EDUCA_PADRE, dtype: int64\n",
      "Elementos null/NaN 9394\n",
      "__________________\n",
      "Elementos diferentes de null/NaN: 68232\n",
      "__________________\n",
      "(68232,)\n",
      "None\n"
     ]
    }
   ],
   "source": [
    "print(data_2000['FAMI_EDUCA_PADRE'].value_counts().sort_index().index)\n",
    "print(data_2000['FAMI_EDUCA_PADRE'].value_counts().sort_index())\n",
    "print(missing_data(data_2000['FAMI_EDUCA_PADRE']))"
   ]
  },
  {
   "cell_type": "code",
   "execution_count": 44,
   "metadata": {
    "collapsed": true
   },
   "outputs": [],
   "source": [
    "data_2000['FAMI_EDUCA_PADRE'] = data_2000['FAMI_EDUCA_PADRE'].replace('@', np.nan)"
   ]
  },
  {
   "cell_type": "code",
   "execution_count": 45,
   "metadata": {
    "collapsed": false
   },
   "outputs": [
    {
     "name": "stdout",
     "output_type": "stream",
     "text": [
      "Index(['0', '1', '2', '3', '4', '5', '6', '7', '8', '9', '@'], dtype='object')\n",
      "0    18391\n",
      "1    29605\n",
      "2    13103\n",
      "3     6760\n",
      "4     2677\n",
      "5     1237\n",
      "6      940\n",
      "7      561\n",
      "8      550\n",
      "9     1692\n",
      "@       40\n",
      "Name: FAMI_INGRESO_FMILIAR_MENSUAL, dtype: int64\n",
      "Elementos null/NaN 2070\n",
      "__________________\n",
      "Elementos diferentes de null/NaN: 75556\n",
      "__________________\n",
      "(75556,)\n",
      "None\n"
     ]
    }
   ],
   "source": [
    "print(data_2000['FAMI_INGRESO_FMILIAR_MENSUAL'].value_counts().sort_index().index)\n",
    "print(data_2000['FAMI_INGRESO_FMILIAR_MENSUAL'].value_counts().sort_index())\n",
    "print(missing_data(data_2000['FAMI_INGRESO_FMILIAR_MENSUAL']))"
   ]
  },
  {
   "cell_type": "code",
   "execution_count": 46,
   "metadata": {
    "collapsed": true
   },
   "outputs": [],
   "source": [
    "data_2000['FAMI_INGRESO_FMILIAR_MENSUAL'] = data_2000['FAMI_INGRESO_FMILIAR_MENSUAL'].replace('@', np.nan)"
   ]
  },
  {
   "cell_type": "code",
   "execution_count": 47,
   "metadata": {
    "collapsed": false
   },
   "outputs": [
    {
     "name": "stdout",
     "output_type": "stream",
     "text": [
      "Index(['+', '0', '1', '2', '3', '4', '5', '6', '7', '8', '9', '@'], dtype='object')\n",
      "+     1991\n",
      "0     3873\n",
      "1    15009\n",
      "2    18138\n",
      "3    12042\n",
      "4     7558\n",
      "5     4911\n",
      "6     3255\n",
      "7     2351\n",
      "8     1672\n",
      "9     1218\n",
      "@      216\n",
      "Name: FAMI_NUM_HERMANOS, dtype: int64\n",
      "Elementos null/NaN 5392\n",
      "__________________\n",
      "Elementos diferentes de null/NaN: 72234\n",
      "__________________\n",
      "(72234,)\n",
      "None\n"
     ]
    }
   ],
   "source": [
    "print(data_2000['FAMI_NUM_HERMANOS'].value_counts().sort_index().index)\n",
    "print(data_2000['FAMI_NUM_HERMANOS'].value_counts().sort_index())\n",
    "print(missing_data(data_2000['FAMI_NUM_HERMANOS']))"
   ]
  },
  {
   "cell_type": "code",
   "execution_count": 48,
   "metadata": {
    "collapsed": true
   },
   "outputs": [],
   "source": [
    "data_2000['FAMI_NUM_HERMANOS'] = data_2000['FAMI_NUM_HERMANOS'].replace('+', '+9')\n",
    "data_2000['FAMI_NUM_HERMANOS'] = data_2000['FAMI_NUM_HERMANOS'].replace('@', np.nan)"
   ]
  },
  {
   "cell_type": "code",
   "execution_count": 49,
   "metadata": {
    "collapsed": false
   },
   "outputs": [
    {
     "name": "stdout",
     "output_type": "stream",
     "text": [
      "Index(['+', '0', '1', '2', '3', '4', '5', '6', '7', '8', '9', '@'], dtype='object')\n",
      "+       71\n",
      "0    38329\n",
      "1    18432\n",
      "2     7448\n",
      "3     2363\n",
      "4      899\n",
      "5      380\n",
      "6      143\n",
      "7       76\n",
      "8       41\n",
      "9       35\n",
      "@       82\n",
      "Name: FAMI_NUM_HERMANOS_EDUSUPERIOR, dtype: int64\n",
      "Elementos null/NaN 9327\n",
      "__________________\n",
      "Elementos diferentes de null/NaN: 68299\n",
      "__________________\n",
      "(68299,)\n",
      "None\n"
     ]
    }
   ],
   "source": [
    "print(data_2000['FAMI_NUM_HERMANOS_EDUSUPERIOR'].value_counts().sort_index().index)\n",
    "print(data_2000['FAMI_NUM_HERMANOS_EDUSUPERIOR'].value_counts().sort_index())\n",
    "print(missing_data(data_2000['FAMI_NUM_HERMANOS_EDUSUPERIOR']))"
   ]
  },
  {
   "cell_type": "code",
   "execution_count": 50,
   "metadata": {
    "collapsed": true
   },
   "outputs": [],
   "source": [
    "#lo mismo que la anterior pero en FAMI_NUM_HERMANOS_EDUSUPERIOR\n",
    "data_2000['FAMI_NUM_HERMANOS_EDUSUPERIOR'] = data_2000['FAMI_NUM_HERMANOS_EDUSUPERIOR'].replace('+', '+9')\n",
    "data_2000['FAMI_NUM_HERMANOS_EDUSUPERIOR'] = data_2000['FAMI_NUM_HERMANOS_EDUSUPERIOR'].replace('@', np.nan)"
   ]
  },
  {
   "cell_type": "code",
   "execution_count": 51,
   "metadata": {
    "collapsed": false
   },
   "outputs": [
    {
     "name": "stdout",
     "output_type": "stream",
     "text": [
      "Index(['0', '01', '02', '03', '04', '05', '06', '07', '08', '09', '10', '11',\n",
      "       '12', '@'],\n",
      "      dtype='object')\n",
      "0         1\n",
      "01      509\n",
      "02      904\n",
      "03     1623\n",
      "04     4035\n",
      "05     8869\n",
      "06     6607\n",
      "07      536\n",
      "08     4898\n",
      "09     1200\n",
      "10    37723\n",
      "11      310\n",
      "12     1342\n",
      "@      1521\n",
      "Name: FAMI_OCUPA_MADRE, dtype: int64\n",
      "Elementos null/NaN 7548\n",
      "__________________\n",
      "Elementos diferentes de null/NaN: 70078\n",
      "__________________\n",
      "(70078,)\n",
      "None\n"
     ]
    }
   ],
   "source": [
    "print(data_2000['FAMI_OCUPA_MADRE'].value_counts().sort_index().index)\n",
    "print(data_2000['FAMI_OCUPA_MADRE'].value_counts().sort_index())\n",
    "print(missing_data(data_2000['FAMI_OCUPA_MADRE']))"
   ]
  },
  {
   "cell_type": "code",
   "execution_count": 52,
   "metadata": {
    "collapsed": true
   },
   "outputs": [],
   "source": [
    "#se eliminan las filas que poseen el valor '@'\n",
    "data_2000['FAMI_OCUPA_MADRE'] = data_2000['FAMI_OCUPA_MADRE'].replace('0', '0')\n",
    "data_2000['FAMI_OCUPA_MADRE'] = data_2000['FAMI_OCUPA_MADRE'].replace('01', '1')\n",
    "data_2000['FAMI_OCUPA_MADRE'] = data_2000['FAMI_OCUPA_MADRE'].replace('02', '2')\n",
    "data_2000['FAMI_OCUPA_MADRE'] = data_2000['FAMI_OCUPA_MADRE'].replace('03', '3')\n",
    "data_2000['FAMI_OCUPA_MADRE'] = data_2000['FAMI_OCUPA_MADRE'].replace('04', '4')\n",
    "data_2000['FAMI_OCUPA_MADRE'] = data_2000['FAMI_OCUPA_MADRE'].replace('05', '5')\n",
    "data_2000['FAMI_OCUPA_MADRE'] = data_2000['FAMI_OCUPA_MADRE'].replace('06', '6')\n",
    "data_2000['FAMI_OCUPA_MADRE'] = data_2000['FAMI_OCUPA_MADRE'].replace('07', '7')\n",
    "data_2000['FAMI_OCUPA_MADRE'] = data_2000['FAMI_OCUPA_MADRE'].replace('08', '8')\n",
    "data_2000['FAMI_OCUPA_MADRE'] = data_2000['FAMI_OCUPA_MADRE'].replace('09', '9')\n",
    "data_2000['FAMI_OCUPA_MADRE'] = data_2000['FAMI_OCUPA_MADRE'].replace('@', np.nan)"
   ]
  },
  {
   "cell_type": "code",
   "execution_count": 53,
   "metadata": {
    "collapsed": false
   },
   "outputs": [
    {
     "name": "stdout",
     "output_type": "stream",
     "text": [
      "Index(['0', '01', '02', '03', '04', '05', '06', '07', '08', '09', '10', '11',\n",
      "       '12', '@'],\n",
      "      dtype='object')\n",
      "0         1\n",
      "01     1312\n",
      "02     1716\n",
      "03     3531\n",
      "04     4447\n",
      "05    18363\n",
      "06     8983\n",
      "07      533\n",
      "08    16999\n",
      "09     4535\n",
      "10      932\n",
      "11       42\n",
      "12     1953\n",
      "@      1786\n",
      "Name: FAMI_OCUPA_PADRE, dtype: int64\n",
      "Elementos null/NaN 12493\n",
      "__________________\n",
      "Elementos diferentes de null/NaN: 65133\n",
      "__________________\n",
      "(65133,)\n",
      "None\n"
     ]
    }
   ],
   "source": [
    "print(data_2000['FAMI_OCUPA_PADRE'].value_counts().sort_index().index)\n",
    "print(data_2000['FAMI_OCUPA_PADRE'].value_counts().sort_index())\n",
    "print(missing_data(data_2000['FAMI_OCUPA_PADRE']))"
   ]
  },
  {
   "cell_type": "code",
   "execution_count": 54,
   "metadata": {
    "collapsed": true
   },
   "outputs": [],
   "source": [
    "#se eliminan las filas que poseen el valor '@'\n",
    "data_2000['FAMI_OCUPA_PADRE'] = data_2000['FAMI_OCUPA_PADRE'].replace('0', '0')\n",
    "data_2000['FAMI_OCUPA_PADRE'] = data_2000['FAMI_OCUPA_PADRE'].replace('01', '1')\n",
    "data_2000['FAMI_OCUPA_PADRE'] = data_2000['FAMI_OCUPA_PADRE'].replace('02', '2')\n",
    "data_2000['FAMI_OCUPA_PADRE'] = data_2000['FAMI_OCUPA_PADRE'].replace('03', '3')\n",
    "data_2000['FAMI_OCUPA_PADRE'] = data_2000['FAMI_OCUPA_PADRE'].replace('04', '4')\n",
    "data_2000['FAMI_OCUPA_PADRE'] = data_2000['FAMI_OCUPA_PADRE'].replace('05', '5')\n",
    "data_2000['FAMI_OCUPA_PADRE'] = data_2000['FAMI_OCUPA_PADRE'].replace('06', '6')\n",
    "data_2000['FAMI_OCUPA_PADRE'] = data_2000['FAMI_OCUPA_PADRE'].replace('07', '7')\n",
    "data_2000['FAMI_OCUPA_PADRE'] = data_2000['FAMI_OCUPA_PADRE'].replace('08', '8')\n",
    "data_2000['FAMI_OCUPA_PADRE'] = data_2000['FAMI_OCUPA_PADRE'].replace('09', '9')\n",
    "data_2000['FAMI_OCUPA_PADRE'] = data_2000['FAMI_OCUPA_PADRE'].replace('@', np.nan)"
   ]
  },
  {
   "cell_type": "code",
   "execution_count": 55,
   "metadata": {
    "collapsed": false
   },
   "outputs": [
    {
     "name": "stdout",
     "output_type": "stream",
     "text": [
      "Index(['+', '1', '2', '3', '4', '5', '6', '7', '8', '9', '@'], dtype='object')\n",
      "+      819\n",
      "1    25279\n",
      "2    19469\n",
      "3    11925\n",
      "4     6252\n",
      "5     3669\n",
      "6     2256\n",
      "7     1463\n",
      "8     1012\n",
      "9      698\n",
      "@       19\n",
      "Name: FAMI_POSICION_HERMANOS, dtype: int64\n",
      "Elementos null/NaN 4765\n",
      "__________________\n",
      "Elementos diferentes de null/NaN: 72861\n",
      "__________________\n",
      "(72861,)\n",
      "None\n"
     ]
    }
   ],
   "source": [
    "print(data_2000['FAMI_POSICION_HERMANOS'].value_counts().sort_index().index)\n",
    "print(data_2000['FAMI_POSICION_HERMANOS'].value_counts().sort_index())\n",
    "print(missing_data(data_2000['FAMI_POSICION_HERMANOS']))"
   ]
  },
  {
   "cell_type": "code",
   "execution_count": 56,
   "metadata": {
    "collapsed": true
   },
   "outputs": [],
   "source": [
    "#Se eliminan las filas que tienen valores '@' y se cambia '+' por '+10'\n",
    "data_2000['FAMI_POSICION_HERMANOS'] = data_2000['FAMI_POSICION_HERMANOS'].replace('+', '+9')\n",
    "data_2000['FAMI_POSICION_HERMANOS'] = data_2000['FAMI_POSICION_HERMANOS'].replace('@', np.nan)"
   ]
  },
  {
   "cell_type": "markdown",
   "metadata": {},
   "source": [
    "Now i can change the Problematic columns"
   ]
  },
  {
   "cell_type": "code",
   "execution_count": 57,
   "metadata": {
    "collapsed": false,
    "scrolled": true
   },
   "outputs": [
    {
     "name": "stdout",
     "output_type": "stream",
     "text": [
      "Index(['0', '0 000', '0000', '00000', '01', '01001', '01101', '0134', '01826',\n",
      "       '02',\n",
      "       ...\n",
      "       '@@0', '@@1', '@@149', '@@4', '@@6', '@@7', '@@9', '@@@', '@@@@9',\n",
      "       '@@@@@'],\n",
      "      dtype='object', length=2577)\n",
      "0         6\n",
      "0 000     1\n",
      "0000      1\n",
      "00000    50\n",
      "01        3\n",
      "01001     1\n",
      "01101     1\n",
      "0134      1\n",
      "01826     1\n",
      "02        1\n",
      "0206      1\n",
      "02113     1\n",
      "02150     1\n",
      "02823     1\n",
      "03301     1\n",
      "04107     1\n",
      "04108     2\n",
      "04118     3\n",
      "04702     2\n",
      "05        2\n",
      "05106     1\n",
      "05210     1\n",
      "06241     1\n",
      "0694@     1\n",
      "0704      1\n",
      "07953     1\n",
      "08105     1\n",
      "1        24\n",
      "1   0     1\n",
      "1  0      2\n",
      "         ..\n",
      "@3        1\n",
      "@30       1\n",
      "@304      1\n",
      "@30@@     1\n",
      "@33       1\n",
      "@3@       1\n",
      "@4        1\n",
      "@44       1\n",
      "@5        1\n",
      "@5 @      1\n",
      "@6@       1\n",
      "@811      1\n",
      "@8117     1\n",
      "@839      1\n",
      "@8@       1\n",
      "@92       1\n",
      "@@        9\n",
      "@@  6     1\n",
      "@@  9     1\n",
      "@@ 3      1\n",
      "@@0       2\n",
      "@@1       3\n",
      "@@149     1\n",
      "@@4       1\n",
      "@@6       1\n",
      "@@7       1\n",
      "@@9       1\n",
      "@@@       1\n",
      "@@@@9     1\n",
      "@@@@@     1\n",
      "Name: ESTU_CARRDESEADA_COD, dtype: int64\n",
      "Elementos null/NaN 4333\n",
      "__________________\n",
      "Elementos diferentes de null/NaN: 73293\n",
      "__________________\n",
      "(73293,)\n",
      "None\n"
     ]
    }
   ],
   "source": [
    "print(data_2000['ESTU_CARRDESEADA_COD'].value_counts().sort_index().index)\n",
    "print(data_2000['ESTU_CARRDESEADA_COD'].value_counts().sort_index())\n",
    "print(missing_data(data_2000['ESTU_CARRDESEADA_COD']))"
   ]
  },
  {
   "cell_type": "code",
   "execution_count": 58,
   "metadata": {
    "collapsed": true
   },
   "outputs": [],
   "source": [
    "\"\"\"Here i'm replacing the values with anomalies for NaN, and i will let the rows that has got any number because the \n",
    "codes of the programs are so diverse. And then i will put NaN where the values has some space or np.nan\"\"\"\n",
    "for i in data_2000['ESTU_CARRDESEADA_COD'].value_counts().sort_index().index:\n",
    "    if '@' in i:\n",
    "        data_2000['ESTU_CARRDESEADA_COD'] = data_2000['ESTU_CARRDESEADA_COD'].replace(i, np.nan)\n",
    "    elif ' ' in i:\n",
    "        data_2000['ESTU_CARRDESEADA_COD'] = data_2000['ESTU_CARRDESEADA_COD'].replace(i, np.nan)\n",
    "    elif int(i)==0:\n",
    "        data_2000['ESTU_CARRDESEADA_COD'] = data_2000['ESTU_CARRDESEADA_COD'].replace(i, np.nan)"
   ]
  },
  {
   "cell_type": "code",
   "execution_count": 59,
   "metadata": {
    "collapsed": false,
    "scrolled": true
   },
   "outputs": [
    {
     "name": "stdout",
     "output_type": "stream",
     "text": [
      "Index(['0', '0 01', '0000', '0009', '001', '01', '01 @', '0111', '0123',\n",
      "       '0129',\n",
      "       ...\n",
      "       '@5', '@60', '@71', '@80', '@805', '@83', '@905', '@@', '@@@', '@@@@'],\n",
      "      dtype='object', length=792)\n",
      "0       13\n",
      "0 01     1\n",
      "0000    45\n",
      "0009     1\n",
      "001      3\n",
      "01       3\n",
      "01 @     1\n",
      "0111     1\n",
      "0123     1\n",
      "0129     1\n",
      "01@0     1\n",
      "0201     5\n",
      "0203    17\n",
      "0206     5\n",
      "0207     1\n",
      "0208     1\n",
      "0213     1\n",
      "0219     1\n",
      "0248     1\n",
      "03       5\n",
      "032      1\n",
      "0330     1\n",
      "034@     1\n",
      "03@      1\n",
      "04       5\n",
      "0446     1\n",
      "0488     1\n",
      "05       4\n",
      "0589     2\n",
      "06       3\n",
      "        ..\n",
      "@ 05     1\n",
      "@ 0@     1\n",
      "@ 16     2\n",
      "@ 33     2\n",
      "@ 80     1\n",
      "@ @      3\n",
      "@0       2\n",
      "@0 8     1\n",
      "@00      1\n",
      "@017     1\n",
      "@03      1\n",
      "@1       4\n",
      "@10      1\n",
      "@11      4\n",
      "@110     1\n",
      "@2       3\n",
      "@203     1\n",
      "@3       1\n",
      "@3 0     1\n",
      "@32      1\n",
      "@5       1\n",
      "@60      1\n",
      "@71      2\n",
      "@80      1\n",
      "@805     1\n",
      "@83      1\n",
      "@905     1\n",
      "@@      19\n",
      "@@@      1\n",
      "@@@@     9\n",
      "Name: ESTU_IES_COD_DESEADA, dtype: int64\n",
      "Elementos null/NaN 6664\n",
      "__________________\n",
      "Elementos diferentes de null/NaN: 70962\n",
      "__________________\n",
      "(70962,)\n",
      "None\n"
     ]
    }
   ],
   "source": [
    "print(data_2000['ESTU_IES_COD_DESEADA'].value_counts().sort_index().index)\n",
    "print(data_2000['ESTU_IES_COD_DESEADA'].value_counts().sort_index())\n",
    "print(missing_data(data_2000['ESTU_IES_COD_DESEADA']))"
   ]
  },
  {
   "cell_type": "code",
   "execution_count": 60,
   "metadata": {
    "collapsed": true
   },
   "outputs": [],
   "source": [
    "for i in data_2000['ESTU_IES_COD_DESEADA'].value_counts().sort_index().index:\n",
    "    if '@' in i:\n",
    "        data_2000['ESTU_IES_COD_DESEADA'] = data_2000['ESTU_IES_COD_DESEADA'].replace(i, np.nan)\n",
    "    elif ' ' in i:\n",
    "        data_2000['ESTU_IES_COD_DESEADA'] = data_2000['ESTU_IES_COD_DESEADA'].replace(i, np.nan)\n",
    "    elif int(i)==0:\n",
    "        data_2000['ESTU_IES_COD_DESEADA'] = data_2000['ESTU_IES_COD_DESEADA'].replace(i, np.nan)\n",
    "    elif len(i)<4:\n",
    "        data_2000['ESTU_IES_COD_DESEADA'] = data_2000['ESTU_IES_COD_DESEADA'].replace(i, np.nan)\n",
    "    elif len(i)>4:\n",
    "        data_2000['ESTU_IES_COD_DESEADA'] = data_2000['ESTU_IES_COD_DESEADA'].replace(i, np.nan)"
   ]
  },
  {
   "cell_type": "code",
   "execution_count": 61,
   "metadata": {
    "collapsed": false,
    "scrolled": true
   },
   "outputs": [
    {
     "name": "stdout",
     "output_type": "stream",
     "text": [
      "Index(['0 0', '1 99', '19', '1900', '1920', '1960', '1962', '1964', '1967',\n",
      "       '1968', '1969', '1970', '1972', '1974', '1976', '1977', '1978', '1979',\n",
      "       '198', '1980', '1981', '1982', '1983', '1984', '1989', '199', '1990',\n",
      "       '1991', '1995', '1996', '1997', '1998', '1999', '199@', '19@9', '2',\n",
      "       '2  0', '2 0', '2 00', '20', '20 0', '20**', '20*0', '200', '2000',\n",
      "       '2001', '2002', '2011', '2020', '2090', '2099', '20@', '20@0', '20@@',\n",
      "       '2@00', '8316', '9', '99'],\n",
      "      dtype='object')\n",
      "0 0         1\n",
      "1 99        1\n",
      "19          1\n",
      "1900       13\n",
      "1920       15\n",
      "1960        1\n",
      "1962        1\n",
      "1964        1\n",
      "1967        1\n",
      "1968        1\n",
      "1969        5\n",
      "1970        1\n",
      "1972        1\n",
      "1974        1\n",
      "1976        1\n",
      "1977        6\n",
      "1978        4\n",
      "1979        5\n",
      "198         2\n",
      "1980        8\n",
      "1981        7\n",
      "1982        3\n",
      "1983        6\n",
      "1984        3\n",
      "1989        2\n",
      "199         8\n",
      "1990        1\n",
      "1991        2\n",
      "1995        1\n",
      "1996        1\n",
      "1997        6\n",
      "1998       14\n",
      "1999    16551\n",
      "199@        2\n",
      "19@9        1\n",
      "2           2\n",
      "2  0        2\n",
      "2 0         1\n",
      "2 00      112\n",
      "20         29\n",
      "20 0       59\n",
      "20**        4\n",
      "20*0        1\n",
      "200        63\n",
      "2000    60389\n",
      "2001       29\n",
      "2002        1\n",
      "2011       11\n",
      "2020       10\n",
      "2090        1\n",
      "2099        9\n",
      "20@         1\n",
      "20@0        4\n",
      "20@@        3\n",
      "2@00        1\n",
      "8316        1\n",
      "9           1\n",
      "99          2\n",
      "Name: IND_ANNO_TERMINO_BACHILLERATO, dtype: int64\n",
      "Elementos null/NaN 212\n",
      "__________________\n",
      "Elementos diferentes de null/NaN: 77414\n",
      "__________________\n",
      "(77414,)\n",
      "None\n"
     ]
    }
   ],
   "source": [
    "print(data_2000['IND_ANNO_TERMINO_BACHILLERATO'].value_counts().sort_index().index)\n",
    "print(data_2000['IND_ANNO_TERMINO_BACHILLERATO'].value_counts().sort_index())\n",
    "print(missing_data(data_2000['IND_ANNO_TERMINO_BACHILLERATO']))"
   ]
  },
  {
   "cell_type": "code",
   "execution_count": 62,
   "metadata": {
    "collapsed": false
   },
   "outputs": [],
   "source": [
    "for i in data_2000['IND_ANNO_TERMINO_BACHILLERATO'].value_counts().sort_index().index:\n",
    "    if '@' in i:\n",
    "        data_2000['IND_ANNO_TERMINO_BACHILLERATO'] = data_2000['IND_ANNO_TERMINO_BACHILLERATO'].replace(i, np.nan)\n",
    "    elif '*' in i:\n",
    "        data_2000['IND_ANNO_TERMINO_BACHILLERATO'] = data_2000['IND_ANNO_TERMINO_BACHILLERATO'].replace(i, np.nan)\n",
    "    elif ' ' in i:\n",
    "        data_2000['IND_ANNO_TERMINO_BACHILLERATO'] = data_2000['IND_ANNO_TERMINO_BACHILLERATO'].replace(i, np.nan)\n",
    "    elif int(i)==0:\n",
    "        data_2000['IND_ANNO_TERMINO_BACHILLERATO'] = data_2000['IND_ANNO_TERMINO_BACHILLERATO'].replace(i, np.nan)\n",
    "    elif len(i)<4:\n",
    "        data_2000['IND_ANNO_TERMINO_BACHILLERATO'] = data_2000['IND_ANNO_TERMINO_BACHILLERATO'].replace(i, np.nan)\n",
    "    elif len(i)>4:\n",
    "        data_2000['IND_ANNO_TERMINO_BACHILLERATO'] = data_2000['IND_ANNO_TERMINO_BACHILLERATO'].replace(i, np.nan)\n",
    "    elif int(i)>2002:\n",
    "        data_2000['IND_ANNO_TERMINO_BACHILLERATO'] = data_2000['IND_ANNO_TERMINO_BACHILLERATO'].replace(i, np.nan)"
   ]
  },
  {
   "cell_type": "markdown",
   "metadata": {},
   "source": [
    "Deletion of the selected columns"
   ]
  },
  {
   "cell_type": "markdown",
   "metadata": {},
   "source": [
    "ELIMINACIONES (se eliminan porque se considera que no aportaran nada a la prediccion)\n",
    "\n",
    "- ESTU_CONSECUTIVO: Eliminada. no aporta para la prediccion ***ELIMINADA***\n",
    "- ESTU_LIMITA_SORDOINTERPRETE: No tiene valores en ninguna fila, ***ELIMINADA***"
   ]
  },
  {
   "cell_type": "code",
   "execution_count": 63,
   "metadata": {
    "collapsed": true
   },
   "outputs": [],
   "source": [
    "data_2000 = data_2000.drop(['ESTU_LIMITA_SORDOINTERPRETE', 'ESTU_CONSECUTIVO', 'COLE_NOMBRE_SEDE', 'ESTU_TIPO_DOCUMENTO'], axis=1)"
   ]
  },
  {
   "cell_type": "markdown",
   "metadata": {},
   "source": [
    "## TARGETS"
   ]
  },
  {
   "cell_type": "code",
   "execution_count": 64,
   "metadata": {
    "collapsed": false,
    "scrolled": true
   },
   "outputs": [
    {
     "name": "stdout",
     "output_type": "stream",
     "text": [
      "Int64Index([  0,  11,  19,  24,  27,  30,  32,  35,  36,  38,  40,  41,  43,\n",
      "             44,  46,  47,  48,  50,  51,  52,  54,  55,  56,  58,  59,  60,\n",
      "             62,  64,  66,  68,  70,  73,  76,  81,  88, 100],\n",
      "           dtype='int64')\n",
      "0        25\n",
      "11       13\n",
      "19       25\n",
      "24       74\n",
      "27      238\n",
      "30      567\n",
      "32     1185\n",
      "35     2207\n",
      "36     3497\n",
      "38     4994\n",
      "40     6265\n",
      "41     7471\n",
      "43     8041\n",
      "44     7888\n",
      "46     7153\n",
      "47     6157\n",
      "48     5074\n",
      "50     4130\n",
      "51     3132\n",
      "52     2389\n",
      "54     1851\n",
      "55     1316\n",
      "56     1084\n",
      "58      721\n",
      "59      611\n",
      "60      445\n",
      "62      329\n",
      "64      218\n",
      "66      190\n",
      "68      120\n",
      "70       93\n",
      "73       72\n",
      "76       26\n",
      "81       18\n",
      "88        6\n",
      "100       1\n",
      "Name: PUNT_BIOLOGIA, dtype: int64\n",
      "Elementos null/NaN 0\n",
      "__________________\n",
      "Elementos diferentes de null/NaN: 77626\n",
      "__________________\n",
      "(77626,)\n",
      "None\n"
     ]
    }
   ],
   "source": [
    "c = 'PUNT_BIOLOGIA'\n",
    "print(data_2000[c].value_counts().sort_index().index)\n",
    "print(data_2000[c].value_counts().sort_index())\n",
    "print(missing_data(data_2000[c]))"
   ]
  },
  {
   "cell_type": "code",
   "execution_count": 65,
   "metadata": {
    "collapsed": false,
    "scrolled": true
   },
   "outputs": [
    {
     "name": "stdout",
     "output_type": "stream",
     "text": [
      "Int64Index([ 0, 10, 19, 24, 28, 31, 34, 36, 39, 41, 42, 44, 46, 47, 49, 50, 52,\n",
      "            53, 55, 56, 58, 59, 61, 62, 64, 66, 67, 69, 71, 74, 79],\n",
      "           dtype='int64')\n",
      "0      109\n",
      "10      51\n",
      "19     107\n",
      "24     271\n",
      "28     628\n",
      "31    1401\n",
      "34    2588\n",
      "36    4345\n",
      "39    6024\n",
      "41    7608\n",
      "42    8501\n",
      "44    8935\n",
      "46    8315\n",
      "47    7313\n",
      "49    5932\n",
      "50    4688\n",
      "52    3434\n",
      "53    2508\n",
      "55    1694\n",
      "56    1157\n",
      "58     774\n",
      "59     502\n",
      "61     313\n",
      "62     198\n",
      "64     106\n",
      "66      73\n",
      "67      23\n",
      "69      16\n",
      "71       9\n",
      "74       2\n",
      "79       1\n",
      "Name: PUNT_FILOSOFIA, dtype: int64\n",
      "Elementos null/NaN 0\n",
      "__________________\n",
      "Elementos diferentes de null/NaN: 77626\n",
      "__________________\n",
      "(77626,)\n",
      "None\n"
     ]
    }
   ],
   "source": [
    "c = 'PUNT_FILOSOFIA'\n",
    "print(data_2000[c].value_counts().sort_index().index)\n",
    "print(data_2000[c].value_counts().sort_index())\n",
    "print(missing_data(data_2000[c]))"
   ]
  },
  {
   "cell_type": "code",
   "execution_count": 66,
   "metadata": {
    "collapsed": false,
    "scrolled": true
   },
   "outputs": [
    {
     "name": "stdout",
     "output_type": "stream",
     "text": [
      "Int64Index([ 0, 12, 21, 27, 31, 35, 38, 40, 43, 45, 47, 49, 50, 52, 54, 55, 57,\n",
      "            59, 60, 62, 63, 65, 67, 68, 70, 72, 74, 76, 78, 81, 87],\n",
      "           dtype='int64')\n",
      "0        16\n",
      "12       35\n",
      "21      228\n",
      "27      777\n",
      "31     1976\n",
      "35     4242\n",
      "38     7000\n",
      "40     9456\n",
      "43    10980\n",
      "45    10935\n",
      "47     9568\n",
      "49     7453\n",
      "50     5391\n",
      "52     3418\n",
      "54     2227\n",
      "55     1356\n",
      "57      888\n",
      "59      592\n",
      "60      370\n",
      "62      276\n",
      "63      153\n",
      "65      112\n",
      "67       76\n",
      "68       41\n",
      "70       26\n",
      "72       15\n",
      "74        9\n",
      "76        3\n",
      "78        5\n",
      "81        1\n",
      "87        1\n",
      "Name: PUNT_FISICA, dtype: int64\n",
      "Elementos null/NaN 0\n",
      "__________________\n",
      "Elementos diferentes de null/NaN: 77626\n",
      "__________________\n",
      "(77626,)\n",
      "None\n"
     ]
    }
   ],
   "source": [
    "c = 'PUNT_FISICA'\n",
    "print(data_2000[c].value_counts().sort_index().index)\n",
    "print(data_2000[c].value_counts().sort_index())\n",
    "print(missing_data(data_2000[c]))"
   ]
  },
  {
   "cell_type": "code",
   "execution_count": 67,
   "metadata": {
    "collapsed": false,
    "scrolled": true
   },
   "outputs": [
    {
     "name": "stdout",
     "output_type": "stream",
     "text": [
      "Int64Index([ 0,  9, 16, 21, 25, 28, 30, 32, 34, 36, 38, 40, 41, 43, 44, 46, 47,\n",
      "            48, 50, 51, 53, 54, 56, 57, 59, 60, 62, 64, 66, 68, 71, 74],\n",
      "           dtype='int64')\n",
      "0       13\n",
      "9        5\n",
      "16      13\n",
      "21      35\n",
      "25     134\n",
      "28     327\n",
      "30     748\n",
      "32    1382\n",
      "34    2480\n",
      "36    3631\n",
      "38    4941\n",
      "40    5862\n",
      "41    6806\n",
      "43    7257\n",
      "44    7255\n",
      "46    6848\n",
      "47    6270\n",
      "48    5359\n",
      "50    4565\n",
      "51    3847\n",
      "53    3012\n",
      "54    2272\n",
      "56    1722\n",
      "57    1149\n",
      "59     773\n",
      "60     465\n",
      "62     261\n",
      "64     123\n",
      "66      51\n",
      "68      18\n",
      "71       1\n",
      "74       1\n",
      "Name: PUNT_GEOGRAFIA, dtype: int64\n",
      "Elementos null/NaN 0\n",
      "__________________\n",
      "Elementos diferentes de null/NaN: 77626\n",
      "__________________\n",
      "(77626,)\n",
      "None\n"
     ]
    }
   ],
   "source": [
    "c = 'PUNT_GEOGRAFIA'\n",
    "print(data_2000[c].value_counts().sort_index().index)\n",
    "print(data_2000[c].value_counts().sort_index())\n",
    "print(missing_data(data_2000[c]))"
   ]
  },
  {
   "cell_type": "code",
   "execution_count": 68,
   "metadata": {
    "collapsed": false,
    "scrolled": true
   },
   "outputs": [
    {
     "name": "stdout",
     "output_type": "stream",
     "text": [
      "Int64Index([ 0, 11, 18, 22, 26, 28, 31, 33, 34, 36, 38, 39, 41, 42, 43, 45, 46,\n",
      "            47, 49, 50, 51, 52, 54, 55, 57, 58, 60, 61, 63, 65, 67, 70, 73],\n",
      "           dtype='int64')\n",
      "0        8\n",
      "11       3\n",
      "18      15\n",
      "22      49\n",
      "26     125\n",
      "28     329\n",
      "31     716\n",
      "33    1347\n",
      "34    2083\n",
      "36    3204\n",
      "38    4431\n",
      "39    5428\n",
      "41    6165\n",
      "42    6666\n",
      "43    6815\n",
      "45    6652\n",
      "46    6352\n",
      "47    5637\n",
      "49    4842\n",
      "50    4184\n",
      "51    3378\n",
      "52    2644\n",
      "54    2054\n",
      "55    1592\n",
      "57    1043\n",
      "58     790\n",
      "60     445\n",
      "61     324\n",
      "63     161\n",
      "65      90\n",
      "67      41\n",
      "70      10\n",
      "73       3\n",
      "Name: PUNT_HISTORIA, dtype: int64\n",
      "Elementos null/NaN 0\n",
      "__________________\n",
      "Elementos diferentes de null/NaN: 77626\n",
      "__________________\n",
      "(77626,)\n",
      "None\n"
     ]
    }
   ],
   "source": [
    "c = 'PUNT_HISTORIA'\n",
    "print(data_2000[c].value_counts().sort_index().index)\n",
    "print(data_2000[c].value_counts().sort_index())\n",
    "print(missing_data(data_2000[c]))"
   ]
  },
  {
   "cell_type": "code",
   "execution_count": 69,
   "metadata": {
    "collapsed": false,
    "scrolled": true
   },
   "outputs": [
    {
     "name": "stdout",
     "output_type": "stream",
     "text": [
      "Int64Index([ 0, 14, 21, 25, 26, 29, 30, 31, 32, 34, 36, 37, 38, 39, 40, 41, 42,\n",
      "            43, 45, 46, 47, 48, 49, 51, 52, 53, 54, 55, 56, 57, 58, 59, 60, 61,\n",
      "            63, 64, 65, 66, 67, 68, 69, 70, 71, 73, 74, 75, 76, 79, 81, 86, 87,\n",
      "            98, 99],\n",
      "           dtype='int64')\n",
      "0       75\n",
      "14      53\n",
      "21     159\n",
      "25       2\n",
      "26     538\n",
      "29    1403\n",
      "30       1\n",
      "31    3025\n",
      "32      17\n",
      "34    5214\n",
      "36    7351\n",
      "37    9020\n",
      "38      61\n",
      "39    9819\n",
      "40    9201\n",
      "41      67\n",
      "42    7834\n",
      "43    6064\n",
      "45    4274\n",
      "46    2869\n",
      "47    1898\n",
      "48    1285\n",
      "49     928\n",
      "51     693\n",
      "52     548\n",
      "53     476\n",
      "54     382\n",
      "55       2\n",
      "56     344\n",
      "57     328\n",
      "58     292\n",
      "59      10\n",
      "60     267\n",
      "61     312\n",
      "63     302\n",
      "64       4\n",
      "65     316\n",
      "66     329\n",
      "67      12\n",
      "68      28\n",
      "69     361\n",
      "70       2\n",
      "71     417\n",
      "73       4\n",
      "74      35\n",
      "75     385\n",
      "76       8\n",
      "79     390\n",
      "81       4\n",
      "86     188\n",
      "87       3\n",
      "98       4\n",
      "99      22\n",
      "Name: PUNT_IDIOMA, dtype: int64\n",
      "Elementos null/NaN 0\n",
      "__________________\n",
      "Elementos diferentes de null/NaN: 77626\n",
      "__________________\n",
      "(77626,)\n",
      "None\n"
     ]
    }
   ],
   "source": [
    "c = 'PUNT_IDIOMA'\n",
    "print(data_2000[c].value_counts().sort_index().index)\n",
    "print(data_2000[c].value_counts().sort_index())\n",
    "print(missing_data(data_2000[c]))"
   ]
  },
  {
   "cell_type": "code",
   "execution_count": 70,
   "metadata": {
    "collapsed": false,
    "scrolled": true
   },
   "outputs": [
    {
     "name": "stdout",
     "output_type": "stream",
     "text": [
      "Int64Index([ 0, 18, 22, 23, 30, 32, 34, 35, 36, 37, 38, 39, 41, 42, 43, 44, 45,\n",
      "            46, 47, 48, 49, 50, 51, 52, 53, 54, 55, 56, 57, 58, 59, 60, 61, 62,\n",
      "            63, 64, 65, 66, 68, 70, 72, 77, 78, 82, 89, 91],\n",
      "           dtype='int64')\n",
      "0       370\n",
      "18        1\n",
      "22      675\n",
      "23      510\n",
      "30     1942\n",
      "32        4\n",
      "34     1228\n",
      "35     3603\n",
      "36        2\n",
      "37        4\n",
      "38        1\n",
      "39     4788\n",
      "41     1628\n",
      "42        7\n",
      "43     5075\n",
      "44       91\n",
      "45      254\n",
      "46     5660\n",
      "47     3168\n",
      "48     2272\n",
      "49     8556\n",
      "50     4399\n",
      "51     4511\n",
      "52    10370\n",
      "53     3859\n",
      "54     3070\n",
      "55     4045\n",
      "56     1540\n",
      "57     1168\n",
      "58     2004\n",
      "59      193\n",
      "60      445\n",
      "61      933\n",
      "62       57\n",
      "63       29\n",
      "64      133\n",
      "65      533\n",
      "66        6\n",
      "68       47\n",
      "70      269\n",
      "72       16\n",
      "77        4\n",
      "78      129\n",
      "82        1\n",
      "89        1\n",
      "91       25\n",
      "Name: PUNT_INTERDISCIPLINAR, dtype: int64\n",
      "Elementos null/NaN 0\n",
      "__________________\n",
      "Elementos diferentes de null/NaN: 77626\n",
      "__________________\n",
      "(77626,)\n",
      "None\n"
     ]
    }
   ],
   "source": [
    "c = 'PUNT_INTERDISCIPLINAR'\n",
    "print(data_2000[c].value_counts().sort_index().index)\n",
    "print(data_2000[c].value_counts().sort_index())\n",
    "print(missing_data(data_2000[c]))"
   ]
  },
  {
   "cell_type": "code",
   "execution_count": 71,
   "metadata": {
    "collapsed": false,
    "scrolled": true
   },
   "outputs": [
    {
     "name": "stdout",
     "output_type": "stream",
     "text": [
      "Int64Index([ 0,  9, 17, 21, 25, 28, 30, 33, 35, 36, 38, 40, 41, 43, 44, 46, 47,\n",
      "            49, 50, 52, 53, 55, 56, 58, 59, 61, 63, 65, 67, 69],\n",
      "           dtype='int64')\n",
      "0        4\n",
      "9        2\n",
      "17      12\n",
      "21      60\n",
      "25     197\n",
      "28     393\n",
      "30     952\n",
      "33    1687\n",
      "35    2574\n",
      "36    3665\n",
      "38    4771\n",
      "40    5732\n",
      "41    6588\n",
      "43    7012\n",
      "44    7304\n",
      "46    7228\n",
      "47    6565\n",
      "49    5840\n",
      "50    4913\n",
      "52    3997\n",
      "53    3061\n",
      "55    2060\n",
      "56    1372\n",
      "58     804\n",
      "59     460\n",
      "61     232\n",
      "63      80\n",
      "65      40\n",
      "67      16\n",
      "69       5\n",
      "Name: PUNT_LENGUAJE, dtype: int64\n",
      "Elementos null/NaN 0\n",
      "__________________\n",
      "Elementos diferentes de null/NaN: 77626\n",
      "__________________\n",
      "(77626,)\n",
      "None\n"
     ]
    }
   ],
   "source": [
    "c = 'PUNT_LENGUAJE'\n",
    "print(data_2000[c].value_counts().sort_index().index)\n",
    "print(data_2000[c].value_counts().sort_index())\n",
    "print(missing_data(data_2000[c]))"
   ]
  },
  {
   "cell_type": "code",
   "execution_count": 72,
   "metadata": {
    "collapsed": false,
    "scrolled": true
   },
   "outputs": [
    {
     "name": "stdout",
     "output_type": "stream",
     "text": [
      "Int64Index([ 0,  1,  3,  9, 13, 16, 19, 22, 24, 26, 28, 29, 31, 33, 34, 36, 38,\n",
      "            39, 41, 42, 44, 45, 47, 48, 50, 52, 54, 56, 58, 61, 63, 67, 71, 76,\n",
      "            86],\n",
      "           dtype='int64')\n",
      "0       40\n",
      "1        4\n",
      "3        6\n",
      "9        6\n",
      "13       9\n",
      "16      17\n",
      "19      19\n",
      "22      29\n",
      "24      42\n",
      "26      74\n",
      "28     125\n",
      "29     258\n",
      "31     519\n",
      "33    1018\n",
      "34    1677\n",
      "36    2748\n",
      "38    3914\n",
      "39    5478\n",
      "41    6947\n",
      "42    8012\n",
      "44    8281\n",
      "45    8426\n",
      "47    7729\n",
      "48    6413\n",
      "50    5090\n",
      "52    3724\n",
      "54    2695\n",
      "56    1746\n",
      "58    1092\n",
      "61     721\n",
      "63     378\n",
      "67     215\n",
      "71     115\n",
      "76      44\n",
      "86      15\n",
      "Name: PUNT_MATEMATICAS, dtype: int64\n",
      "Elementos null/NaN 0\n",
      "__________________\n",
      "Elementos diferentes de null/NaN: 77626\n",
      "__________________\n",
      "(77626,)\n",
      "None\n"
     ]
    }
   ],
   "source": [
    "c = 'PUNT_MATEMATICAS'\n",
    "print(data_2000[c].value_counts().sort_index().index)\n",
    "print(data_2000[c].value_counts().sort_index())\n",
    "print(missing_data(data_2000[c]))"
   ]
  },
  {
   "cell_type": "code",
   "execution_count": 73,
   "metadata": {
    "collapsed": false,
    "scrolled": true
   },
   "outputs": [
    {
     "name": "stdout",
     "output_type": "stream",
     "text": [
      "Int64Index([ 0, 17, 24, 28, 31, 33, 35, 37, 39, 40, 41, 43, 44, 45, 46, 47, 49,\n",
      "            50, 51, 52, 53, 54, 55, 57, 58, 59, 61, 62, 64, 66, 68, 70, 73, 77,\n",
      "            84],\n",
      "           dtype='int64')\n",
      "0        7\n",
      "17      12\n",
      "24      36\n",
      "28     177\n",
      "31     520\n",
      "33    1234\n",
      "35    2411\n",
      "37    3927\n",
      "39    5504\n",
      "40    6990\n",
      "41    7513\n",
      "43    7641\n",
      "44    7224\n",
      "45    6286\n",
      "46    5184\n",
      "47    4346\n",
      "49    3543\n",
      "50    2821\n",
      "51    2326\n",
      "52    1828\n",
      "53    1486\n",
      "54    1250\n",
      "55    1088\n",
      "57     896\n",
      "58     803\n",
      "59     660\n",
      "61     556\n",
      "62     421\n",
      "64     327\n",
      "66     238\n",
      "68     152\n",
      "70     116\n",
      "73      77\n",
      "77      22\n",
      "84       4\n",
      "Name: PUNT_QUIMICA, dtype: int64\n",
      "Elementos null/NaN 0\n",
      "__________________\n",
      "Elementos diferentes de null/NaN: 77626\n",
      "__________________\n",
      "(77626,)\n",
      "None\n"
     ]
    }
   ],
   "source": [
    "c = 'PUNT_QUIMICA'\n",
    "print(data_2000[c].value_counts().sort_index().index)\n",
    "print(data_2000[c].value_counts().sort_index())\n",
    "print(missing_data(data_2000[c]))"
   ]
  },
  {
   "cell_type": "markdown",
   "metadata": {},
   "source": [
    "___________"
   ]
  },
  {
   "cell_type": "markdown",
   "metadata": {},
   "source": [
    "### TRATAMIENTO DE NANS"
   ]
  },
  {
   "cell_type": "code",
   "execution_count": 74,
   "metadata": {
    "collapsed": false,
    "scrolled": true
   },
   "outputs": [
    {
     "name": "stdout",
     "output_type": "stream",
     "text": [
      "Elementos null/NaN COLE_COD_ICFES                       0\n",
      "IND_ANNO_TERMINO_BACHILLERATO      545\n",
      "COLE_JORNADA                         0\n",
      "COLE_VALOR_PENSION                5526\n",
      "ESTU_GENERO                          0\n",
      "ESTU_NACIMIENTO_DIA                 18\n",
      "ESTU_NACIMIENTO_MES                 18\n",
      "ESTU_NACIMIENTO_ANNO               118\n",
      "ESTU_DEPTO_PRESENTACION              0\n",
      "ESTU_MCPIO_PRESENTACION              0\n",
      "ESTU_LIMITA_INVIDENTE            77620\n",
      "ESTU_LIMITA_SORDONOINTERPRETE    77619\n",
      "ESTU_LIMITA_MOTRIZ               77607\n",
      "PUNT_BIOLOGIA                        0\n",
      "PUNT_MATEMATICAS                     0\n",
      "PUNT_FILOSOFIA                       0\n",
      "PUNT_FISICA                          0\n",
      "PUNT_HISTORIA                        0\n",
      "PUNT_QUIMICA                         0\n",
      "PUNT_LENGUAJE                        0\n",
      "PUNT_GEOGRAFIA                       0\n",
      "COD_INTERDISCIPLINAR                 0\n",
      "PUNT_INTERDISCIPLINAR                0\n",
      "COD_IDIOMA                           0\n",
      "PUNT_IDIOMA                          0\n",
      "ESTU_IES_COD_DESEADA              7702\n",
      "ESTU_RAZONINSTITUTO               7840\n",
      "ESTU_CARRDESEADA_COD              5205\n",
      "ESTU_CARRDESEADA_RAZON            5209\n",
      "FAMI_PERSONAS_HOGAR               3786\n",
      "FAMI_VIVIENDA_PROPIA              4300\n",
      "FAMI_DEUDA_VIVIENDA              30015\n",
      "FAMI_APORTANTES                   1615\n",
      "FAMI_INGRESO_FMILIAR_MENSUAL      2110\n",
      "FAMI_LEE_ESCRIBE_PADRE            7935\n",
      "FAMI_LEE_ESCRIBE_MADRE            2775\n",
      "FAMI_EDUCA_PADRE                 10274\n",
      "FAMI_EDUCA_MADRE                  6482\n",
      "FAMI_OCUPA_PADRE                 14279\n",
      "FAMI_OCUPA_MADRE                  9069\n",
      "FAMI_NUM_HERMANOS                 5608\n",
      "FAMI_NUM_HERMANOS_EDUSUPERIOR     9409\n",
      "FAMI_POSICION_HERMANOS            4784\n",
      "FAMI_SOST_PERSONAL                3065\n",
      "ESTU_TRABAJA                      3792\n",
      "ESTU_ACT_PROX_ANNO                 428\n",
      "COLE_CALENDARIO                      0\n",
      "COLE_BILINGUE                    75292\n",
      "COLE_CARACTER                        0\n",
      "COLE_DEPTO_UBICACION                 0\n",
      "COLE_MCPIO_UBICACION                 0\n",
      "ESTU_RESIDE_DEPTO                    0\n",
      "ESTU_RESIDE_MCPIO                    0\n",
      "dtype: int64\n",
      "__________________\n",
      "Elementos diferentes de null/NaN: COLE_COD_ICFES                   0\n",
      "IND_ANNO_TERMINO_BACHILLERATO    0\n",
      "COLE_JORNADA                     0\n",
      "COLE_VALOR_PENSION               0\n",
      "ESTU_GENERO                      0\n",
      "ESTU_NACIMIENTO_DIA              0\n",
      "ESTU_NACIMIENTO_MES              0\n",
      "ESTU_NACIMIENTO_ANNO             0\n",
      "ESTU_DEPTO_PRESENTACION          0\n",
      "ESTU_MCPIO_PRESENTACION          0\n",
      "ESTU_LIMITA_INVIDENTE            0\n",
      "ESTU_LIMITA_SORDONOINTERPRETE    0\n",
      "ESTU_LIMITA_MOTRIZ               0\n",
      "PUNT_BIOLOGIA                    0\n",
      "PUNT_MATEMATICAS                 0\n",
      "PUNT_FILOSOFIA                   0\n",
      "PUNT_FISICA                      0\n",
      "PUNT_HISTORIA                    0\n",
      "PUNT_QUIMICA                     0\n",
      "PUNT_LENGUAJE                    0\n",
      "PUNT_GEOGRAFIA                   0\n",
      "COD_INTERDISCIPLINAR             0\n",
      "PUNT_INTERDISCIPLINAR            0\n",
      "COD_IDIOMA                       0\n",
      "PUNT_IDIOMA                      0\n",
      "ESTU_IES_COD_DESEADA             0\n",
      "ESTU_RAZONINSTITUTO              0\n",
      "ESTU_CARRDESEADA_COD             0\n",
      "ESTU_CARRDESEADA_RAZON           0\n",
      "FAMI_PERSONAS_HOGAR              0\n",
      "FAMI_VIVIENDA_PROPIA             0\n",
      "FAMI_DEUDA_VIVIENDA              0\n",
      "FAMI_APORTANTES                  0\n",
      "FAMI_INGRESO_FMILIAR_MENSUAL     0\n",
      "FAMI_LEE_ESCRIBE_PADRE           0\n",
      "FAMI_LEE_ESCRIBE_MADRE           0\n",
      "FAMI_EDUCA_PADRE                 0\n",
      "FAMI_EDUCA_MADRE                 0\n",
      "FAMI_OCUPA_PADRE                 0\n",
      "FAMI_OCUPA_MADRE                 0\n",
      "FAMI_NUM_HERMANOS                0\n",
      "FAMI_NUM_HERMANOS_EDUSUPERIOR    0\n",
      "FAMI_POSICION_HERMANOS           0\n",
      "FAMI_SOST_PERSONAL               0\n",
      "ESTU_TRABAJA                     0\n",
      "ESTU_ACT_PROX_ANNO               0\n",
      "COLE_CALENDARIO                  0\n",
      "COLE_BILINGUE                    0\n",
      "COLE_CARACTER                    0\n",
      "COLE_DEPTO_UBICACION             0\n",
      "COLE_MCPIO_UBICACION             0\n",
      "ESTU_RESIDE_DEPTO                0\n",
      "ESTU_RESIDE_MCPIO                0\n",
      "dtype: int64\n",
      "__________________\n",
      "(0, 53)\n"
     ]
    }
   ],
   "source": [
    "missing_data(data_2000)"
   ]
  },
  {
   "cell_type": "code",
   "execution_count": 75,
   "metadata": {
    "collapsed": false
   },
   "outputs": [],
   "source": [
    "def Do_resamples(df, col, typ):\n",
    "    p = get_proportions(df, col)\n",
    "    df, r = resample_NaN_proportion(df, col, p, typ)\n",
    "    while(r != 0):\n",
    "        df, r = resample_NaN_proportion(df, col, p, typ)\n"
   ]
  },
  {
   "cell_type": "markdown",
   "metadata": {},
   "source": [
    "According to **DANE** in [ENCUESTA NACIONAL DE CALIDAD DE VIDA](https://www.dane.gov.co/index.php/estadisticas-por-tema/pobreza-y-condiciones-de-vida/calidad-de-vida-ecv), the average of people per home in colombia, along the last years was between 3 or 4...\n",
    "With this, i can decide to distribute the NaN elements between the known categories according to the proportions that represents each one."
   ]
  },
  {
   "cell_type": "code",
   "execution_count": 76,
   "metadata": {
    "collapsed": false
   },
   "outputs": [
    {
     "data": {
      "text/plain": [
       "<Container object of 9 artists>"
      ]
     },
     "execution_count": 76,
     "metadata": {},
     "output_type": "execute_result"
    },
    {
     "data": {
      "image/png": "[encoded data removed]",
      "text/plain": [
       "<matplotlib.figure.Figure at 0x7fd402a8ffd0>"
      ]
     },
     "metadata": {},
     "output_type": "display_data"
    }
   ],
   "source": [
    "labels = data_2000['FAMI_PERSONAS_HOGAR'].value_counts().sort_index().index\n",
    "heights = data_2000['FAMI_PERSONAS_HOGAR'].value_counts().sort_index().values\n",
    "plt.bar(labels, heights)"
   ]
  },
  {
   "cell_type": "code",
   "execution_count": 77,
   "metadata": {
    "collapsed": false
   },
   "outputs": [
    {
     "name": "stdout",
     "output_type": "stream",
     "text": [
      "cant null antes: 3786\n",
      "cant null despues: 0\n"
     ]
    }
   ],
   "source": [
    "Do_resamples(data_2000, 'FAMI_PERSONAS_HOGAR', str)"
   ]
  },
  {
   "cell_type": "code",
   "execution_count": 78,
   "metadata": {
    "collapsed": false,
    "scrolled": true
   },
   "outputs": [
    {
     "name": "stdout",
     "output_type": "stream",
     "text": [
      "cant null antes: 545\n",
      "cant null despues: 1\n",
      "cant null antes: 1\n",
      "cant null despues: 0\n"
     ]
    }
   ],
   "source": [
    "Do_resamples(data_2000, 'IND_ANNO_TERMINO_BACHILLERATO', str)"
   ]
  },
  {
   "cell_type": "code",
   "execution_count": 79,
   "metadata": {
    "collapsed": false,
    "scrolled": true
   },
   "outputs": [
    {
     "name": "stdout",
     "output_type": "stream",
     "text": [
      "cant null antes: 5526\n",
      "cant null despues: 1\n",
      "cant null antes: 1\n",
      "cant null despues: 0\n"
     ]
    }
   ],
   "source": [
    "Do_resamples(data_2000, 'COLE_VALOR_PENSION', int)"
   ]
  },
  {
   "cell_type": "code",
   "execution_count": 113,
   "metadata": {
    "collapsed": false
   },
   "outputs": [],
   "source": [
    "\"\"\"In this column i found that the same rows of the ESTU_NACIMIENTO_DIA are the same rows in the ESTU_NACIMIENTO_MES/ANNO\n",
    "with nan values, so that rows will be deleted\"\"\"\n",
    "indexes = data_2000[data_2000['ESTU_NACIMIENTO_ANNO'].isnull()].index\n",
    "data_2000 = data_2000.drop(indexes)"
   ]
  },
  {
   "cell_type": "code",
   "execution_count": 81,
   "metadata": {
    "collapsed": true
   },
   "outputs": [],
   "source": [
    "data_2000['ESTU_LIMITA_INVIDENTE'].fillna('V', inplace=True)"
   ]
  },
  {
   "cell_type": "code",
   "execution_count": 82,
   "metadata": {
    "collapsed": true
   },
   "outputs": [],
   "source": [
    "data_2000['ESTU_LIMITA_SORDONOINTERPRETE'].fillna('NS', inplace=True)"
   ]
  },
  {
   "cell_type": "code",
   "execution_count": 83,
   "metadata": {
    "collapsed": true
   },
   "outputs": [],
   "source": [
    "data_2000['ESTU_LIMITA_MOTRIZ'].fillna('NL', inplace=True)"
   ]
  },
  {
   "cell_type": "code",
   "execution_count": 84,
   "metadata": {
    "collapsed": true
   },
   "outputs": [],
   "source": [
    "data_2000['ESTU_IES_COD_DESEADA'].fillna(method='bfill', inplace=True)"
   ]
  },
  {
   "cell_type": "code",
   "execution_count": 85,
   "metadata": {
    "collapsed": false
   },
   "outputs": [
    {
     "name": "stdout",
     "output_type": "stream",
     "text": [
      "cant null antes: 7840\n",
      "cant null despues: 0\n"
     ]
    }
   ],
   "source": [
    "Do_resamples(data_2000, 'ESTU_RAZONINSTITUTO', str)"
   ]
  },
  {
   "cell_type": "code",
   "execution_count": 86,
   "metadata": {
    "collapsed": false
   },
   "outputs": [],
   "source": [
    "data_2000['ESTU_CARRDESEADA_COD'].fillna(method = 'bfill', inplace=True)"
   ]
  },
  {
   "cell_type": "code",
   "execution_count": 87,
   "metadata": {
    "collapsed": false
   },
   "outputs": [
    {
     "name": "stdout",
     "output_type": "stream",
     "text": [
      "cant null antes: 5209\n",
      "cant null despues: 1\n",
      "cant null antes: 1\n",
      "cant null despues: 0\n"
     ]
    }
   ],
   "source": [
    "Do_resamples(data_2000, 'ESTU_CARRDESEADA_RAZON', str)"
   ]
  },
  {
   "cell_type": "code",
   "execution_count": 88,
   "metadata": {
    "collapsed": false
   },
   "outputs": [
    {
     "name": "stdout",
     "output_type": "stream",
     "text": [
      "cant null antes: 4300\n",
      "cant null despues: 0\n"
     ]
    }
   ],
   "source": [
    "Do_resamples(data_2000, 'FAMI_VIVIENDA_PROPIA', str)"
   ]
  },
  {
   "cell_type": "code",
   "execution_count": 89,
   "metadata": {
    "collapsed": false
   },
   "outputs": [
    {
     "name": "stdout",
     "output_type": "stream",
     "text": [
      "cant null antes: 30015\n",
      "cant null despues: 0\n"
     ]
    }
   ],
   "source": [
    "Do_resamples(data_2000, 'FAMI_DEUDA_VIVIENDA', str)"
   ]
  },
  {
   "cell_type": "code",
   "execution_count": 90,
   "metadata": {
    "collapsed": false
   },
   "outputs": [
    {
     "name": "stdout",
     "output_type": "stream",
     "text": [
      "cant null antes: 1615\n",
      "cant null despues: 0\n"
     ]
    }
   ],
   "source": [
    "Do_resamples(data_2000, 'FAMI_APORTANTES', str)"
   ]
  },
  {
   "cell_type": "code",
   "execution_count": 91,
   "metadata": {
    "collapsed": false
   },
   "outputs": [
    {
     "name": "stdout",
     "output_type": "stream",
     "text": [
      "cant null antes: 2110\n",
      "cant null despues: 0\n"
     ]
    }
   ],
   "source": [
    "Do_resamples(data_2000, 'FAMI_INGRESO_FMILIAR_MENSUAL', str)"
   ]
  },
  {
   "cell_type": "code",
   "execution_count": 92,
   "metadata": {
    "collapsed": false
   },
   "outputs": [
    {
     "name": "stdout",
     "output_type": "stream",
     "text": [
      "cant null antes: 7935\n",
      "cant null despues: 0\n"
     ]
    }
   ],
   "source": [
    "Do_resamples(data_2000, 'FAMI_LEE_ESCRIBE_PADRE', str)"
   ]
  },
  {
   "cell_type": "code",
   "execution_count": 93,
   "metadata": {
    "collapsed": false
   },
   "outputs": [
    {
     "name": "stdout",
     "output_type": "stream",
     "text": [
      "cant null antes: 2775\n",
      "cant null despues: 0\n"
     ]
    }
   ],
   "source": [
    "Do_resamples(data_2000, 'FAMI_LEE_ESCRIBE_MADRE', str)"
   ]
  },
  {
   "cell_type": "code",
   "execution_count": 94,
   "metadata": {
    "collapsed": false
   },
   "outputs": [
    {
     "name": "stdout",
     "output_type": "stream",
     "text": [
      "cant null antes: 10274\n",
      "cant null despues: 1\n",
      "cant null antes: 1\n",
      "cant null despues: 0\n"
     ]
    }
   ],
   "source": [
    "Do_resamples(data_2000, 'FAMI_EDUCA_PADRE', str)"
   ]
  },
  {
   "cell_type": "code",
   "execution_count": 95,
   "metadata": {
    "collapsed": false
   },
   "outputs": [
    {
     "name": "stdout",
     "output_type": "stream",
     "text": [
      "cant null antes: 6482\n",
      "cant null despues: 0\n"
     ]
    }
   ],
   "source": [
    "Do_resamples(data_2000, 'FAMI_EDUCA_MADRE', str)"
   ]
  },
  {
   "cell_type": "code",
   "execution_count": 96,
   "metadata": {
    "collapsed": false
   },
   "outputs": [
    {
     "name": "stdout",
     "output_type": "stream",
     "text": [
      "cant null antes: 14279\n",
      "cant null despues: 1\n",
      "cant null antes: 1\n",
      "cant null despues: 0\n"
     ]
    }
   ],
   "source": [
    "Do_resamples(data_2000, 'FAMI_OCUPA_PADRE', str)"
   ]
  },
  {
   "cell_type": "code",
   "execution_count": 97,
   "metadata": {
    "collapsed": false
   },
   "outputs": [
    {
     "name": "stdout",
     "output_type": "stream",
     "text": [
      "cant null antes: 9069\n",
      "cant null despues: 0\n"
     ]
    }
   ],
   "source": [
    "Do_resamples(data_2000, 'FAMI_OCUPA_MADRE', str)"
   ]
  },
  {
   "cell_type": "code",
   "execution_count": 98,
   "metadata": {
    "collapsed": false
   },
   "outputs": [
    {
     "name": "stdout",
     "output_type": "stream",
     "text": [
      "cant null antes: 5608\n",
      "cant null despues: 0\n"
     ]
    }
   ],
   "source": [
    "Do_resamples(data_2000, 'FAMI_NUM_HERMANOS', str)"
   ]
  },
  {
   "cell_type": "code",
   "execution_count": 99,
   "metadata": {
    "collapsed": false
   },
   "outputs": [
    {
     "name": "stdout",
     "output_type": "stream",
     "text": [
      "cant null antes: 9409\n",
      "cant null despues: 0\n"
     ]
    }
   ],
   "source": [
    "Do_resamples(data_2000, 'FAMI_NUM_HERMANOS_EDUSUPERIOR', str)"
   ]
  },
  {
   "cell_type": "code",
   "execution_count": 100,
   "metadata": {
    "collapsed": false
   },
   "outputs": [
    {
     "name": "stdout",
     "output_type": "stream",
     "text": [
      "cant null antes: 4784\n",
      "cant null despues: 0\n"
     ]
    }
   ],
   "source": [
    "Do_resamples(data_2000, 'FAMI_POSICION_HERMANOS', str)"
   ]
  },
  {
   "cell_type": "code",
   "execution_count": 101,
   "metadata": {
    "collapsed": false
   },
   "outputs": [
    {
     "name": "stdout",
     "output_type": "stream",
     "text": [
      "cant null antes: 3065\n",
      "cant null despues: 0\n"
     ]
    }
   ],
   "source": [
    "Do_resamples(data_2000, 'FAMI_SOST_PERSONAL', str)"
   ]
  },
  {
   "cell_type": "code",
   "execution_count": 102,
   "metadata": {
    "collapsed": false
   },
   "outputs": [
    {
     "name": "stdout",
     "output_type": "stream",
     "text": [
      "cant null antes: 3792\n",
      "cant null despues: 0\n"
     ]
    }
   ],
   "source": [
    "Do_resamples(data_2000, 'ESTU_TRABAJA', str)"
   ]
  },
  {
   "cell_type": "code",
   "execution_count": 103,
   "metadata": {
    "collapsed": false
   },
   "outputs": [
    {
     "name": "stdout",
     "output_type": "stream",
     "text": [
      "cant null antes: 428\n",
      "cant null despues: 0\n"
     ]
    }
   ],
   "source": [
    "Do_resamples(data_2000, 'ESTU_ACT_PROX_ANNO', str)"
   ]
  },
  {
   "cell_type": "code",
   "execution_count": 104,
   "metadata": {
    "collapsed": false
   },
   "outputs": [
    {
     "name": "stdout",
     "output_type": "stream",
     "text": [
      "cant null antes: 75292\n",
      "cant null despues: 0\n"
     ]
    }
   ],
   "source": [
    "Do_resamples(data_2000, 'COLE_BILINGUE', float)"
   ]
  },
  {
   "cell_type": "markdown",
   "metadata": {},
   "source": [
    "___________"
   ]
  },
  {
   "cell_type": "markdown",
   "metadata": {},
   "source": [
    "___________"
   ]
  },
  {
   "cell_type": "markdown",
   "metadata": {
    "collapsed": true
   },
   "source": [
    "# The second file is the 2000_2 that correspond to the second period of the year."
   ]
  },
  {
   "cell_type": "code",
   "execution_count": null,
   "metadata": {
    "collapsed": false
   },
   "outputs": [],
   "source": [
    "data_2000_2 = pd.read_csv(\"../DatosFTPICFES/SABER11/SB11-BASES_DE_DATOS/SB11-20002-RGSTRO-CLFCCN-V1-0.txt\", delimiter=\"|\",\n",
    "                         encoding=\"iso-8859-1\")"
   ]
  },
  {
   "cell_type": "code",
   "execution_count": null,
   "metadata": {
    "collapsed": false
   },
   "outputs": [],
   "source": [
    "data_2000_2.shape"
   ]
  },
  {
   "cell_type": "code",
   "execution_count": null,
   "metadata": {
    "collapsed": false,
    "scrolled": true
   },
   "outputs": [],
   "source": [
    "data_2000_2.head(3).T"
   ]
  },
  {
   "cell_type": "markdown",
   "metadata": {},
   "source": [
    "The first thing i want to do is delete the columns that does not contribute to the task"
   ]
  },
  {
   "cell_type": "markdown",
   "metadata": {},
   "source": [
    "The columns that does not contribute to the task are:\n",
    "- ESTU_CONSECUTIVO\n",
    "- COLE_NOMBRE_SEDE\n",
    "- ESTU_TIPO_DOCUMENTO"
   ]
  },
  {
   "cell_type": "code",
   "execution_count": null,
   "metadata": {
    "collapsed": false
   },
   "outputs": [],
   "source": [
    "data_2000_2 = data_2000_2.drop(['ESTU_CONSECUTIVO', 'COLE_NOMBRE_SEDE', 'ESTU_TIPO_DOCUMENTO'], axis=1)"
   ]
  },
  {
   "cell_type": "markdown",
   "metadata": {},
   "source": [
    "Now i can check the other columns to delete the lines that has strange characters and to decide what to do with the NaN values"
   ]
  },
  {
   "cell_type": "code",
   "execution_count": null,
   "metadata": {
    "collapsed": false,
    "scrolled": false
   },
   "outputs": [],
   "source": [
    "data_2000_2.columns"
   ]
  },
  {
   "cell_type": "code",
   "execution_count": null,
   "metadata": {
    "collapsed": false,
    "scrolled": true
   },
   "outputs": [],
   "source": [
    "\"\"\"all ok\"\"\"\n",
    "print(data_2000_2['COLE_COD_ICFES'].value_counts().sort_index().index)\n",
    "print(data_2000_2['COLE_COD_ICFES'].value_counts().sort_index())\n",
    "print(missing_data(data_2000_2['COLE_COD_ICFES']))"
   ]
  },
  {
   "cell_type": "code",
   "execution_count": null,
   "metadata": {
    "collapsed": false,
    "scrolled": true
   },
   "outputs": [],
   "source": [
    "\"\"\"There are some years that are not valid, so this lines will be deleted\"\"\"\n",
    "print(data_2000_2['IND_ANNO_TERMINO_BACHILLERATO'].value_counts().sort_index().index)\n",
    "print(data_2000_2['IND_ANNO_TERMINO_BACHILLERATO'].value_counts().sort_index())\n",
    "print(missing_data(data_2000_2['IND_ANNO_TERMINO_BACHILLERATO']))"
   ]
  },
  {
   "cell_type": "code",
   "execution_count": null,
   "metadata": {
    "collapsed": true
   },
   "outputs": [],
   "source": [
    "for i in data_2000_2['IND_ANNO_TERMINO_BACHILLERATO'].value_counts().sort_index().index:\n",
    "    if \"*\" in i:\n",
    "        data_2000_2['IND_ANNO_TERMINO_BACHILLERATO'] = data_2000_2['IND_ANNO_TERMINO_BACHILLERATO'].replace(i, np.nan)\n",
    "    elif (' ' in i):\n",
    "        data_2000_2['IND_ANNO_TERMINO_BACHILLERATO'] = data_2000_2['IND_ANNO_TERMINO_BACHILLERATO'].replace(i, np.nan)\n",
    "    elif (len(i)<4):\n",
    "        data_2000_2['IND_ANNO_TERMINO_BACHILLERATO'] = data_2000_2['IND_ANNO_TERMINO_BACHILLERATO'].replace(i, np.nan)\n",
    "    elif (int(i) > 2002):\n",
    "        data_2000_2['IND_ANNO_TERMINO_BACHILLERATO'] = data_2000_2['IND_ANNO_TERMINO_BACHILLERATO'].replace(i, np.nan)"
   ]
  },
  {
   "cell_type": "code",
   "execution_count": null,
   "metadata": {
    "collapsed": false,
    "scrolled": true
   },
   "outputs": [],
   "source": [
    "\"\"\"This columns looks good\"\"\"\n",
    "print(data_2000_2['COLE_JORNADA'].value_counts().sort_index().index)\n",
    "print(data_2000_2['COLE_JORNADA'].value_counts().sort_index())\n",
    "print(missing_data(data_2000_2['COLE_JORNADA']))"
   ]
  },
  {
   "cell_type": "code",
   "execution_count": null,
   "metadata": {
    "collapsed": false,
    "scrolled": true
   },
   "outputs": [],
   "source": [
    "\"\"\"Obtained an error, this happens because of the combination of strings a numbers in just one column, so\n",
    "i decide to do a first treatment\"\"\"\n",
    "print(data_2000_2['COLE_VALOR_PENSION'].value_counts().index)\n",
    "print(data_2000_2['COLE_VALOR_PENSION'].value_counts())\n",
    "print(missing_data(data_2000_2['COLE_VALOR_PENSION']))"
   ]
  },
  {
   "cell_type": "code",
   "execution_count": null,
   "metadata": {
    "collapsed": true
   },
   "outputs": [],
   "source": [
    "data_2000_2['COLE_VALOR_PENSION'] = data_2000_2['COLE_VALOR_PENSION'].replace(1.0, '1')\n",
    "data_2000_2['COLE_VALOR_PENSION'] = data_2000_2['COLE_VALOR_PENSION'].replace(2.0, '2')\n",
    "data_2000_2['COLE_VALOR_PENSION'] = data_2000_2['COLE_VALOR_PENSION'].replace(3.0, '3')\n",
    "data_2000_2['COLE_VALOR_PENSION'] = data_2000_2['COLE_VALOR_PENSION'].replace(4.0, '4')\n",
    "data_2000_2['COLE_VALOR_PENSION'] = data_2000_2['COLE_VALOR_PENSION'].replace(5.0, '5')\n",
    "data_2000_2['COLE_VALOR_PENSION'] = data_2000_2['COLE_VALOR_PENSION'].replace(6.0, '6')\n",
    "data_2000_2['COLE_VALOR_PENSION'] = data_2000_2['COLE_VALOR_PENSION'].replace(7.0, '7')\n",
    "data_2000_2['COLE_VALOR_PENSION'] = data_2000_2['COLE_VALOR_PENSION'].replace(8.0, '8')\n",
    "data_2000_2['COLE_VALOR_PENSION'] = data_2000_2['COLE_VALOR_PENSION'].replace('*', np.nan)"
   ]
  },
  {
   "cell_type": "markdown",
   "metadata": {},
   "source": [
    "__________"
   ]
  },
  {
   "cell_type": "code",
   "execution_count": null,
   "metadata": {
    "collapsed": false,
    "scrolled": true
   },
   "outputs": [],
   "source": [
    "\"\"\"This column is ok\"\"\"\n",
    "print(data_2000_2['ESTU_GENERO'].value_counts().sort_index().index)\n",
    "print(data_2000_2['ESTU_GENERO'].value_counts().sort_index())\n",
    "print(missing_data(data_2000_2['ESTU_GENERO']))"
   ]
  },
  {
   "cell_type": "code",
   "execution_count": null,
   "metadata": {
    "collapsed": false,
    "scrolled": true
   },
   "outputs": [],
   "source": [
    "\"\"\"I get errors with this column\"\"\"\n",
    "print(data_2000_2['ESTU_NACIMIENTO_DIA'].value_counts().index)\n",
    "print(data_2000_2['ESTU_NACIMIENTO_DIA'].value_counts())\n",
    "print(missing_data(data_2000_2['ESTU_NACIMIENTO_DIA']))"
   ]
  },
  {
   "cell_type": "code",
   "execution_count": null,
   "metadata": {
    "collapsed": false
   },
   "outputs": [],
   "source": [
    "\"\"\"The First step is replace the incoherences for np.nan values\"\"\"\n",
    "for i in data_2000_2['ESTU_NACIMIENTO_DIA'].value_counts().index:\n",
    "    if '*' in str(i):\n",
    "        data_2000_2['ESTU_NACIMIENTO_DIA'] = data_2000_2['ESTU_NACIMIENTO_DIA'].replace(i, np.nan)\n",
    "    elif(int(i)>31):\n",
    "        data_2000_2['ESTU_NACIMIENTO_DIA'] = data_2000_2['ESTU_NACIMIENTO_DIA'].replace(i, np.nan)\n",
    "    elif(int(i) == 0):\n",
    "        data_2000_2['ESTU_NACIMIENTO_DIA'] = data_2000_2['ESTU_NACIMIENTO_DIA'].replace(i, np.nan)"
   ]
  },
  {
   "cell_type": "code",
   "execution_count": null,
   "metadata": {
    "collapsed": true
   },
   "outputs": [],
   "source": [
    "\"\"\"Now it's time to replace the number values for string values\"\"\"\n",
    "data_2000_2['ESTU_NACIMIENTO_DIA'] = data_2000_2['ESTU_NACIMIENTO_DIA'].replace(1.0, '01')\n",
    "data_2000_2['ESTU_NACIMIENTO_DIA'] = data_2000_2['ESTU_NACIMIENTO_DIA'].replace(2.0, '02')\n",
    "data_2000_2['ESTU_NACIMIENTO_DIA'] = data_2000_2['ESTU_NACIMIENTO_DIA'].replace(3.0, '03')\n",
    "data_2000_2['ESTU_NACIMIENTO_DIA'] = data_2000_2['ESTU_NACIMIENTO_DIA'].replace(4.0, '04')\n",
    "data_2000_2['ESTU_NACIMIENTO_DIA'] = data_2000_2['ESTU_NACIMIENTO_DIA'].replace(5.0, '05')\n",
    "data_2000_2['ESTU_NACIMIENTO_DIA'] = data_2000_2['ESTU_NACIMIENTO_DIA'].replace(6.0, '06')\n",
    "data_2000_2['ESTU_NACIMIENTO_DIA'] = data_2000_2['ESTU_NACIMIENTO_DIA'].replace(7.0, '07')\n",
    "data_2000_2['ESTU_NACIMIENTO_DIA'] = data_2000_2['ESTU_NACIMIENTO_DIA'].replace(8.0, '08')\n",
    "data_2000_2['ESTU_NACIMIENTO_DIA'] = data_2000_2['ESTU_NACIMIENTO_DIA'].replace(9.0, '09')\n",
    "data_2000_2['ESTU_NACIMIENTO_DIA'] = data_2000_2['ESTU_NACIMIENTO_DIA'].replace(10.0, '10')\n",
    "data_2000_2['ESTU_NACIMIENTO_DIA'] = data_2000_2['ESTU_NACIMIENTO_DIA'].replace(11.0, '11')\n",
    "data_2000_2['ESTU_NACIMIENTO_DIA'] = data_2000_2['ESTU_NACIMIENTO_DIA'].replace(12.0, '12')\n",
    "data_2000_2['ESTU_NACIMIENTO_DIA'] = data_2000_2['ESTU_NACIMIENTO_DIA'].replace(13.0, '13')\n",
    "data_2000_2['ESTU_NACIMIENTO_DIA'] = data_2000_2['ESTU_NACIMIENTO_DIA'].replace(14.0, '14')\n",
    "data_2000_2['ESTU_NACIMIENTO_DIA'] = data_2000_2['ESTU_NACIMIENTO_DIA'].replace(15.0, '15')\n",
    "data_2000_2['ESTU_NACIMIENTO_DIA'] = data_2000_2['ESTU_NACIMIENTO_DIA'].replace(16.0, '16')\n",
    "data_2000_2['ESTU_NACIMIENTO_DIA'] = data_2000_2['ESTU_NACIMIENTO_DIA'].replace(17.0, '17')\n",
    "data_2000_2['ESTU_NACIMIENTO_DIA'] = data_2000_2['ESTU_NACIMIENTO_DIA'].replace(18.0, '18')\n",
    "data_2000_2['ESTU_NACIMIENTO_DIA'] = data_2000_2['ESTU_NACIMIENTO_DIA'].replace(19.0, '19')\n",
    "data_2000_2['ESTU_NACIMIENTO_DIA'] = data_2000_2['ESTU_NACIMIENTO_DIA'].replace(20.0, '20')\n",
    "data_2000_2['ESTU_NACIMIENTO_DIA'] = data_2000_2['ESTU_NACIMIENTO_DIA'].replace(21.0, '21')\n",
    "data_2000_2['ESTU_NACIMIENTO_DIA'] = data_2000_2['ESTU_NACIMIENTO_DIA'].replace(22.0, '22')\n",
    "data_2000_2['ESTU_NACIMIENTO_DIA'] = data_2000_2['ESTU_NACIMIENTO_DIA'].replace(23.0, '23')\n",
    "data_2000_2['ESTU_NACIMIENTO_DIA'] = data_2000_2['ESTU_NACIMIENTO_DIA'].replace(24.0, '24')\n",
    "data_2000_2['ESTU_NACIMIENTO_DIA'] = data_2000_2['ESTU_NACIMIENTO_DIA'].replace(25.0, '25')\n",
    "data_2000_2['ESTU_NACIMIENTO_DIA'] = data_2000_2['ESTU_NACIMIENTO_DIA'].replace(26.0, '26')\n",
    "data_2000_2['ESTU_NACIMIENTO_DIA'] = data_2000_2['ESTU_NACIMIENTO_DIA'].replace(27.0, '27')\n",
    "data_2000_2['ESTU_NACIMIENTO_DIA'] = data_2000_2['ESTU_NACIMIENTO_DIA'].replace(28.0, '28')\n",
    "data_2000_2['ESTU_NACIMIENTO_DIA'] = data_2000_2['ESTU_NACIMIENTO_DIA'].replace(29.0, '29')\n",
    "data_2000_2['ESTU_NACIMIENTO_DIA'] = data_2000_2['ESTU_NACIMIENTO_DIA'].replace(30.0, '30')\n",
    "data_2000_2['ESTU_NACIMIENTO_DIA'] = data_2000_2['ESTU_NACIMIENTO_DIA'].replace(31.0, '31')\n",
    "\n",
    "\"\"\"And Finally a change some values to left everything in just one way\"\"\"\n",
    "data_2000_2['ESTU_NACIMIENTO_DIA'] = data_2000_2['ESTU_NACIMIENTO_DIA'].replace('1', '01')\n",
    "data_2000_2['ESTU_NACIMIENTO_DIA'] = data_2000_2['ESTU_NACIMIENTO_DIA'].replace('5', '05')\n",
    "data_2000_2['ESTU_NACIMIENTO_DIA'] = data_2000_2['ESTU_NACIMIENTO_DIA'].replace('3', '03')\n",
    "data_2000_2['ESTU_NACIMIENTO_DIA'] = data_2000_2['ESTU_NACIMIENTO_DIA'].replace('7', '07')\n",
    "data_2000_2['ESTU_NACIMIENTO_DIA'] = data_2000_2['ESTU_NACIMIENTO_DIA'].replace('4', '04')\n",
    "data_2000_2['ESTU_NACIMIENTO_DIA'] = data_2000_2['ESTU_NACIMIENTO_DIA'].replace('6', '06')\n",
    "data_2000_2['ESTU_NACIMIENTO_DIA'] = data_2000_2['ESTU_NACIMIENTO_DIA'].replace('8', '08')\n",
    "data_2000_2['ESTU_NACIMIENTO_DIA'] = data_2000_2['ESTU_NACIMIENTO_DIA'].replace('2', '02')\n",
    "data_2000_2['ESTU_NACIMIENTO_DIA'] = data_2000_2['ESTU_NACIMIENTO_DIA'].replace('9', '09')"
   ]
  },
  {
   "cell_type": "markdown",
   "metadata": {},
   "source": [
    "___"
   ]
  },
  {
   "cell_type": "code",
   "execution_count": null,
   "metadata": {
    "collapsed": false,
    "scrolled": false
   },
   "outputs": [],
   "source": [
    "\"\"\"This column is OK, in this column exist 1078 np.nan, but as they are numpy dtype, i will let this column like it's\n",
    "in this moment\"\"\"\n",
    "print(data_2000_2['ESTU_NACIMIENTO_MES'].value_counts().sort_index().index)\n",
    "print(data_2000_2['ESTU_NACIMIENTO_MES'].value_counts().sort_index())\n",
    "print(missing_data(data_2000_2['ESTU_NACIMIENTO_MES']))"
   ]
  },
  {
   "cell_type": "code",
   "execution_count": null,
   "metadata": {
    "collapsed": false,
    "scrolled": true
   },
   "outputs": [],
   "source": [
    "\"\"\"This column present A LOT of incoherences.\"\"\"\n",
    "print(data_2000_2['ESTU_NACIMIENTO_ANNO'].value_counts().sort_index().index)\n",
    "print(data_2000_2['ESTU_NACIMIENTO_ANNO'].value_counts().sort_index())\n",
    "print(missing_data(data_2000_2['ESTU_NACIMIENTO_ANNO']))"
   ]
  },
  {
   "cell_type": "code",
   "execution_count": null,
   "metadata": {
    "collapsed": false
   },
   "outputs": [],
   "source": [
    "\"\"\"So, the first thing i have to do is replace the incoherent values with a string NaN\"\"\"\n",
    "for i in data_2000_2['ESTU_NACIMIENTO_ANNO'].value_counts().sort_index().index:\n",
    "    if '*' in i:\n",
    "        data_2000_2['ESTU_NACIMIENTO_ANNO'] = data_2000_2['ESTU_NACIMIENTO_ANNO'].replace(i, np.nan)\n",
    "    elif(' ' in i):\n",
    "        data_2000_2['ESTU_NACIMIENTO_ANNO'] = data_2000_2['ESTU_NACIMIENTO_ANNO'].replace(i, np.nan)\n",
    "    elif(len(i)<4):\n",
    "        data_2000_2['ESTU_NACIMIENTO_ANNO'] = data_2000_2['ESTU_NACIMIENTO_ANNO'].replace(i, np.nan)\n",
    "    elif(int(i)>2002):\n",
    "        data_2000_2['ESTU_NACIMIENTO_ANNO'] = data_2000_2['ESTU_NACIMIENTO_ANNO'].replace(i, np.nan)\n",
    "    elif(int(i)<1900):\n",
    "        data_2000_2['ESTU_NACIMIENTO_ANNO'] = data_2000_2['ESTU_NACIMIENTO_ANNO'].replace(i, np.nan)"
   ]
  },
  {
   "cell_type": "code",
   "execution_count": null,
   "metadata": {
    "collapsed": false,
    "scrolled": true
   },
   "outputs": [],
   "source": [
    "\"\"\"This Column looks OK, just has one np.nan value, that i will replace immediately.\"\"\"\n",
    "print(data_2000_2['ESTU_DEPTO_PRESENTACION'].value_counts().sort_index().index)\n",
    "print(data_2000_2['ESTU_DEPTO_PRESENTACION'].value_counts().sort_index())\n",
    "print(missing_data(data_2000_2['ESTU_DEPTO_PRESENTACION']))"
   ]
  },
  {
   "cell_type": "code",
   "execution_count": null,
   "metadata": {
    "collapsed": false,
    "scrolled": true
   },
   "outputs": [],
   "source": [
    "\"\"\"Checked. Looks OK, but has one np.nan value that will be replaced immediately\"\"\"\n",
    "print(data_2000_2['ESTU_MCPIO_PRESENTACION'].value_counts().sort_index().index)\n",
    "print(data_2000_2['ESTU_MCPIO_PRESENTACION'].value_counts().sort_index())\n",
    "print(missing_data(data_2000_2['ESTU_MCPIO_PRESENTACION']))"
   ]
  },
  {
   "cell_type": "code",
   "execution_count": null,
   "metadata": {
    "collapsed": false
   },
   "outputs": [],
   "source": [
    "data_2000_2['ESTU_ETNIA'] = data_2000_2['ESTU_ETNIA'].replace('1', '01')\n",
    "data_2000_2['ESTU_ETNIA'] = data_2000_2['ESTU_ETNIA'].replace('2', '02')\n",
    "data_2000_2['ESTU_ETNIA'] = data_2000_2['ESTU_ETNIA'].replace('3', '03')\n",
    "data_2000_2['ESTU_ETNIA'] = data_2000_2['ESTU_ETNIA'].replace('4', '04')\n",
    "data_2000_2['ESTU_ETNIA'] = data_2000_2['ESTU_ETNIA'].replace('5', '05')\n",
    "data_2000_2['ESTU_ETNIA'] = data_2000_2['ESTU_ETNIA'].replace('6', '06')\n",
    "data_2000_2['ESTU_ETNIA'] = data_2000_2['ESTU_ETNIA'].replace('7', '07')\n",
    "data_2000_2['ESTU_ETNIA'] = data_2000_2['ESTU_ETNIA'].replace('8', '08')\n",
    "data_2000_2['ESTU_ETNIA'] = data_2000_2['ESTU_ETNIA'].replace('9', '09')\n",
    "data_2000_2['ESTU_ETNIA'] = data_2000_2['ESTU_ETNIA'].replace(99.0, '99')\n",
    "data_2000_2['ESTU_ETNIA'] = data_2000_2['ESTU_ETNIA'].replace(1.0, '01')\n",
    "data_2000_2['ESTU_ETNIA'] = data_2000_2['ESTU_ETNIA'].replace(2.0, '02')\n",
    "data_2000_2['ESTU_ETNIA'] = data_2000_2['ESTU_ETNIA'].replace(3.0, '03')\n",
    "data_2000_2['ESTU_ETNIA'] = data_2000_2['ESTU_ETNIA'].replace(4.0, '04')\n",
    "data_2000_2['ESTU_ETNIA'] = data_2000_2['ESTU_ETNIA'].replace(5.0, '05')\n",
    "data_2000_2['ESTU_ETNIA'] = data_2000_2['ESTU_ETNIA'].replace(6.0, '06')\n",
    "data_2000_2['ESTU_ETNIA'] = data_2000_2['ESTU_ETNIA'].replace(7.0, '07')\n",
    "data_2000_2['ESTU_ETNIA'] = data_2000_2['ESTU_ETNIA'].replace(8.0, '08')\n",
    "data_2000_2['ESTU_ETNIA'] = data_2000_2['ESTU_ETNIA'].replace(9.0, '09')\n",
    "data_2000_2['ESTU_ETNIA'] = data_2000_2['ESTU_ETNIA'].replace('*', np.nan)\n",
    "\n",
    "\"\"\"And now it's ready\"\"\""
   ]
  },
  {
   "cell_type": "code",
   "execution_count": null,
   "metadata": {
    "collapsed": false
   },
   "outputs": [],
   "source": [
    "\"\"\"Even if this column has to many NaN values, is OK, in the encode process that NaN values will be -1\"\"\"\n",
    "print(data_2000_2['ESTU_LIMITA_INVIDENTE'].value_counts().sort_index().index)\n",
    "print(data_2000_2['ESTU_LIMITA_INVIDENTE'].value_counts().sort_index())\n",
    "print(missing_data(data_2000_2['ESTU_LIMITA_INVIDENTE']))"
   ]
  },
  {
   "cell_type": "code",
   "execution_count": null,
   "metadata": {
    "collapsed": false
   },
   "outputs": [],
   "source": [
    "\"\"\"This column does not have any row with a value so this column will be deleted.\"\"\"\n",
    "print(data_2000_2['ESTU_LIMITA_SORDOINTERPRETE'].value_counts().sort_index().index)\n",
    "print(data_2000_2['ESTU_LIMITA_SORDOINTERPRETE'].value_counts().sort_index())"
   ]
  },
  {
   "cell_type": "code",
   "execution_count": null,
   "metadata": {
    "collapsed": false
   },
   "outputs": [],
   "source": [
    "\"\"\"Deleting...\"\"\"\n",
    "data_2000_2.drop('ESTU_LIMITA_SORDOINTERPRETE', axis=1, inplace=True)\n",
    "\"\"\"Deleted\"\"\""
   ]
  },
  {
   "cell_type": "code",
   "execution_count": null,
   "metadata": {
    "collapsed": false
   },
   "outputs": [],
   "source": [
    "\"\"\"Even if this column has to many NaN values, is OK, in the encode process that NaN values will be -1\"\"\"\n",
    "print(data_2000_2['ESTU_LIMITA_SORDONOINTERPRETE'].value_counts().sort_index().index)\n",
    "print(data_2000_2['ESTU_LIMITA_SORDONOINTERPRETE'].value_counts().sort_index())\n",
    "print(missing_data(data_2000_2['ESTU_LIMITA_SORDONOINTERPRETE']))"
   ]
  },
  {
   "cell_type": "code",
   "execution_count": null,
   "metadata": {
    "collapsed": false
   },
   "outputs": [],
   "source": [
    "\"\"\"Even if this column has to many NaN values, is OK, in the encode process that NaN values will be -1\"\"\"\n",
    "print(data_2000_2['ESTU_LIMITA_MOTRIZ'].value_counts().sort_index().index)\n",
    "print(data_2000_2['ESTU_LIMITA_MOTRIZ'].value_counts().sort_index())\n",
    "print(missing_data(data_2000_2['ESTU_LIMITA_MOTRIZ']))"
   ]
  },
  {
   "cell_type": "code",
   "execution_count": null,
   "metadata": {
    "collapsed": false,
    "scrolled": true
   },
   "outputs": [],
   "source": [
    "\"\"\"TARGET: Looks OK\"\"\"\n",
    "print(data_2000_2['PUNT_BIOLOGIA'].value_counts().sort_index().index)\n",
    "print(data_2000_2['PUNT_BIOLOGIA'].value_counts().sort_index())\n",
    "print(missing_data(data_2000_2['PUNT_BIOLOGIA']))"
   ]
  },
  {
   "cell_type": "code",
   "execution_count": null,
   "metadata": {
    "collapsed": false,
    "scrolled": true
   },
   "outputs": [],
   "source": [
    "\"\"\"TARGET: Looks OK\"\"\"\n",
    "print(data_2000_2['PUNT_FILOSOFIA'].value_counts().sort_index().index)\n",
    "print(data_2000_2['PUNT_FILOSOFIA'].value_counts().sort_index())\n",
    "print(missing_data(data_2000_2['PUNT_FILOSOFIA']))"
   ]
  },
  {
   "cell_type": "code",
   "execution_count": null,
   "metadata": {
    "collapsed": false,
    "scrolled": true
   },
   "outputs": [],
   "source": [
    "\"\"\"TARGET: Looks OK\"\"\"\n",
    "print(data_2000_2['PUNT_FISICA'].value_counts().sort_index().index)\n",
    "print(data_2000_2['PUNT_FISICA'].value_counts().sort_index())\n",
    "print(missing_data(data_2000_2['PUNT_FISICA']))"
   ]
  },
  {
   "cell_type": "code",
   "execution_count": null,
   "metadata": {
    "collapsed": false,
    "scrolled": true
   },
   "outputs": [],
   "source": [
    "\"\"\"TARGET: Looks OK\"\"\"\n",
    "print(data_2000_2['PUNT_HISTORIA'].value_counts().sort_index().index)\n",
    "print(data_2000_2['PUNT_HISTORIA'].value_counts().sort_index())\n",
    "print(missing_data(data_2000_2['PUNT_HISTORIA']))"
   ]
  },
  {
   "cell_type": "code",
   "execution_count": null,
   "metadata": {
    "collapsed": false,
    "scrolled": true
   },
   "outputs": [],
   "source": [
    "\"\"\"TARGET: Looks OK\"\"\"\n",
    "print(data_2000_2['PUNT_QUIMICA'].value_counts().sort_index().index)\n",
    "print(data_2000_2['PUNT_QUIMICA'].value_counts().sort_index())\n",
    "print(missing_data(data_2000_2['PUNT_QUIMICA']))"
   ]
  },
  {
   "cell_type": "code",
   "execution_count": null,
   "metadata": {
    "collapsed": false,
    "scrolled": true
   },
   "outputs": [],
   "source": [
    "\"\"\"TARGET: Looks OK\"\"\"\n",
    "print(data_2000_2['PUNT_LENGUAJE'].value_counts().sort_index().index)\n",
    "print(data_2000_2['PUNT_LENGUAJE'].value_counts().sort_index())\n",
    "print(missing_data(data_2000_2['PUNT_LENGUAJE']))"
   ]
  },
  {
   "cell_type": "code",
   "execution_count": null,
   "metadata": {
    "collapsed": false,
    "scrolled": true
   },
   "outputs": [],
   "source": [
    "\"\"\"TARGET: Looks OK\"\"\"\n",
    "print(data_2000_2['PUNT_GEOGRAFIA'].value_counts().sort_index().index)\n",
    "print(data_2000_2['PUNT_GEOGRAFIA'].value_counts().sort_index())\n",
    "print(missing_data(data_2000_2['PUNT_GEOGRAFIA']))"
   ]
  },
  {
   "cell_type": "code",
   "execution_count": null,
   "metadata": {
    "collapsed": false
   },
   "outputs": [],
   "source": [
    "\"\"\"This column Looks OK\"\"\"\n",
    "print(data_2000_2['COD_INTERDISCIPLINAR'].value_counts().sort_index().index)\n",
    "print(data_2000_2['COD_INTERDISCIPLINAR'].value_counts().sort_index())\n",
    "print(missing_data(data_2000_2['COD_INTERDISCIPLINAR']))"
   ]
  },
  {
   "cell_type": "code",
   "execution_count": null,
   "metadata": {
    "collapsed": false,
    "scrolled": true
   },
   "outputs": [],
   "source": [
    "\"\"\"TARGET: Looks OK\"\"\"\n",
    "print(data_2000_2['PUNT_INTERDISCIPLINAR'].value_counts().sort_index().index)\n",
    "print(data_2000_2['PUNT_INTERDISCIPLINAR'].value_counts().sort_index())\n",
    "print(missing_data(data_2000_2['PUNT_INTERDISCIPLINAR']))"
   ]
  },
  {
   "cell_type": "code",
   "execution_count": null,
   "metadata": {
    "collapsed": false
   },
   "outputs": [],
   "source": [
    "\"\"\"This column loooks OK\"\"\"\n",
    "print(data_2000_2['COD_IDIOMA'].value_counts().sort_index().index)\n",
    "print(data_2000_2['COD_IDIOMA'].value_counts().sort_index())\n",
    "print(missing_data(data_2000_2['COD_IDIOMA']))"
   ]
  },
  {
   "cell_type": "code",
   "execution_count": null,
   "metadata": {
    "collapsed": false,
    "scrolled": true
   },
   "outputs": [],
   "source": [
    "\"\"\"TARGET: Looks OK\"\"\"\n",
    "print(data_2000_2['PUNT_IDIOMA'].value_counts().sort_index().index)\n",
    "print(data_2000_2['PUNT_IDIOMA'].value_counts().sort_index())\n",
    "print(missing_data(data_2000_2['PUNT_IDIOMA']))"
   ]
  },
  {
   "cell_type": "code",
   "execution_count": null,
   "metadata": {
    "collapsed": false,
    "scrolled": true
   },
   "outputs": [],
   "source": [
    "\"\"\"This column has a lot of incoherences, this incoherences will be replaced for NaN\"\"\"\n",
    "print(data_2000_2['ESTU_IES_COD_DESEADA'].value_counts().sort_index().index)\n",
    "print(data_2000_2['ESTU_IES_COD_DESEADA'].value_counts().sort_index())"
   ]
  },
  {
   "cell_type": "code",
   "execution_count": null,
   "metadata": {
    "collapsed": true
   },
   "outputs": [],
   "source": [
    "\"\"\"The codes of the universities are of 4 digits, so i will replace the codes that has some '*', or space (' '), or that has more\n",
    "or less than 4 digits\"\"\"\n",
    "for i in data_2000_2['ESTU_IES_COD_DESEADA'].value_counts().sort_index().index:\n",
    "    if '*' in i:\n",
    "        data_2000_2['ESTU_IES_COD_DESEADA'] = data_2000_2['ESTU_IES_COD_DESEADA'].replace(i, np.nan)\n",
    "    elif ' ' in i:\n",
    "        data_2000_2['ESTU_IES_COD_DESEADA'] = data_2000_2['ESTU_IES_COD_DESEADA'].replace(i, np.nan)\n",
    "    elif len(i)<4:\n",
    "        data_2000_2['ESTU_IES_COD_DESEADA'] = data_2000_2['ESTU_IES_COD_DESEADA'].replace(i, np.nan)\n",
    "    elif len(i)>4:\n",
    "        data_2000_2['ESTU_IES_COD_DESEADA'] = data_2000_2['ESTU_IES_COD_DESEADA'].replace(i, np.nan)"
   ]
  },
  {
   "cell_type": "code",
   "execution_count": null,
   "metadata": {
    "collapsed": false,
    "scrolled": true
   },
   "outputs": [],
   "source": [
    "\"\"\"Looks OK, just replace the * values for np.nan\"\"\"\n",
    "print(data_2000_2['ESTU_RAZONINSTITUTO'].value_counts().sort_index().index)\n",
    "print(data_2000_2['ESTU_RAZONINSTITUTO'].value_counts().sort_index())\n",
    "print(missing_data(data_2000_2['ESTU_RAZONINSTITUTO']))"
   ]
  },
  {
   "cell_type": "code",
   "execution_count": null,
   "metadata": {
    "collapsed": true
   },
   "outputs": [],
   "source": [
    "\"\"\"Will be replace for '*' values\"\"\"\n",
    "data_2000_2['ESTU_RAZONINSTITUTO'] = data_2000_2['ESTU_RAZONINSTITUTO'].replace('*', np.nan)"
   ]
  },
  {
   "cell_type": "code",
   "execution_count": null,
   "metadata": {
    "collapsed": false,
    "scrolled": true
   },
   "outputs": [],
   "source": [
    "\"\"\"Into this column i found a LOT of incoherences.\"\"\"\n",
    "print(data_2000_2['ESTU_CARRDESEADA_COD'].value_counts().sort_index().index)\n",
    "print(data_2000_2['ESTU_CARRDESEADA_COD'].value_counts().sort_index())\n",
    "print(missing_data(data_2000_2['ESTU_CARRDESEADA_COD']))"
   ]
  },
  {
   "cell_type": "code",
   "execution_count": null,
   "metadata": {
    "collapsed": false
   },
   "outputs": [],
   "source": [
    "\"\"\"Here i'm replacing the values with anomalies for NaN, and i will let the rows that has got any number because the \n",
    "codes of the programs are so diverse. And then i will put NaN where the values has some space or np.nan\"\"\"\n",
    "for i in data_2000_2['ESTU_CARRDESEADA_COD'].value_counts().sort_index().index:\n",
    "    if '*' in i:\n",
    "        data_2000_2['ESTU_CARRDESEADA_COD'] = data_2000_2['ESTU_CARRDESEADA_COD'].replace(i, np.nan)\n",
    "    elif(' ' in i):\n",
    "        data_2000_2['ESTU_CARRDESEADA_COD'] = data_2000_2['ESTU_CARRDESEADA_COD'].replace(i, np.nan)\n",
    "    #And i decided to replace the code 0 or 00... for 'NaN' because there is no program with that code\n",
    "    elif int(i)==0:\n",
    "        data_2000_2['ESTU_CARRDESEADA_COD'] = data_2000_2['ESTU_CARRDESEADA_COD'].replace(i, np.nan)"
   ]
  },
  {
   "cell_type": "code",
   "execution_count": null,
   "metadata": {
    "collapsed": false
   },
   "outputs": [],
   "source": [
    "\"\"\"In this column i found just an incoherence with the * values\"\"\"\n",
    "print(data_2000_2['ESTU_CARRDESEADA_RAZON'].value_counts().sort_index().index)\n",
    "print(data_2000_2['ESTU_CARRDESEADA_RAZON'].value_counts().sort_index())\n",
    "print(missing_data(data_2000_2['ESTU_CARRDESEADA_RAZON']))"
   ]
  },
  {
   "cell_type": "code",
   "execution_count": null,
   "metadata": {
    "collapsed": true
   },
   "outputs": [],
   "source": [
    "\"\"\"The changes are done here.\"\"\"\n",
    "data_2000_2['ESTU_CARRDESEADA_RAZON'] = data_2000_2['ESTU_CARRDESEADA_RAZON'].replace('*', np.nan)"
   ]
  },
  {
   "cell_type": "code",
   "execution_count": null,
   "metadata": {
    "collapsed": false
   },
   "outputs": [],
   "source": [
    "\"\"\"Incoherences with the * and the + values. I decide to let the + values as +9 human being in home,\n",
    "and the * as NaN\"\"\"\n",
    "print(data_2000_2['FAMI_PERSONAS_HOGAR'].value_counts().sort_index().index)\n",
    "print(data_2000_2['FAMI_PERSONAS_HOGAR'].value_counts().sort_index())\n",
    "print(missing_data(data_2000_2['FAMI_PERSONAS_HOGAR']))"
   ]
  },
  {
   "cell_type": "code",
   "execution_count": null,
   "metadata": {
    "collapsed": true
   },
   "outputs": [],
   "source": [
    "data_2000_2['FAMI_PERSONAS_HOGAR'] = data_2000_2['FAMI_PERSONAS_HOGAR'].replace('*', np.nan)\n",
    "data_2000_2['FAMI_PERSONAS_HOGAR'] = data_2000_2['FAMI_PERSONAS_HOGAR'].replace('+', '+9')"
   ]
  },
  {
   "cell_type": "code",
   "execution_count": null,
   "metadata": {
    "collapsed": false,
    "scrolled": true
   },
   "outputs": [],
   "source": [
    "\"\"\"Has got some * values, this values will be replaced for NaN\"\"\"\n",
    "print(data_2000_2['FAMI_VIVIENDA_PROPIA'].value_counts().sort_index().index)\n",
    "print(data_2000_2['FAMI_VIVIENDA_PROPIA'].value_counts().sort_index())\n",
    "print(missing_data(data_2000_2['FAMI_VIVIENDA_PROPIA']))"
   ]
  },
  {
   "cell_type": "code",
   "execution_count": null,
   "metadata": {
    "collapsed": true
   },
   "outputs": [],
   "source": [
    "data_2000_2['FAMI_VIVIENDA_PROPIA'] = data_2000_2['FAMI_VIVIENDA_PROPIA'].replace('*', np.nan)"
   ]
  },
  {
   "cell_type": "code",
   "execution_count": null,
   "metadata": {
    "collapsed": false
   },
   "outputs": [],
   "source": [
    "\"\"\"This column must be like a boolean, with just two values (S/N) but it has four different values, so i decided to\n",
    "replace the * values for NaN, and replace the 1 for S, and the 2 for N because of the amounts,\"\"\"\n",
    "print(data_2000_2['FAMI_DEUDA_VIVIENDA'].value_counts().sort_index().index)\n",
    "print(data_2000_2['FAMI_DEUDA_VIVIENDA'].value_counts().sort_index())\n",
    "print(missing_data(data_2000_2['FAMI_DEUDA_VIVIENDA']))"
   ]
  },
  {
   "cell_type": "code",
   "execution_count": null,
   "metadata": {
    "collapsed": true
   },
   "outputs": [],
   "source": [
    "data_2000_2['FAMI_DEUDA_VIVIENDA'] = data_2000_2['FAMI_DEUDA_VIVIENDA'].replace('*', np.nan)\n",
    "data_2000_2['FAMI_DEUDA_VIVIENDA'] = data_2000_2['FAMI_DEUDA_VIVIENDA'].replace('1', 'S')\n",
    "data_2000_2['FAMI_DEUDA_VIVIENDA'] = data_2000_2['FAMI_DEUDA_VIVIENDA'].replace('2', 'N')"
   ]
  },
  {
   "cell_type": "code",
   "execution_count": null,
   "metadata": {
    "collapsed": false
   },
   "outputs": [],
   "source": [
    "\"\"\"I really don't know what means the 0...\"\"\"\n",
    "print(data_2000_2['FAMI_APORTANTES'].value_counts().sort_index().index)\n",
    "print(data_2000_2['FAMI_APORTANTES'].value_counts().sort_index())\n",
    "print(missing_data(data_2000_2['FAMI_APORTANTES']))"
   ]
  },
  {
   "cell_type": "code",
   "execution_count": null,
   "metadata": {
    "collapsed": true
   },
   "outputs": [],
   "source": [
    "\"\"\"The 0 counts, so i will replace the simbol + for '+9' and '*' for 'NaN'\"\"\"\n",
    "data_2000_2['FAMI_APORTANTES'] = data_2000_2['FAMI_APORTANTES'].replace('+', '+9')\n",
    "data_2000_2['FAMI_APORTANTES'] = data_2000_2['FAMI_APORTANTES'].replace('*', np.nan)"
   ]
  },
  {
   "cell_type": "code",
   "execution_count": null,
   "metadata": {
    "collapsed": false
   },
   "outputs": [],
   "source": [
    "\"\"\"In this column there is some '*' that will be replaced for 'NaN' and the np.nan too\"\"\"\n",
    "print(data_2000_2['FAMI_INGRESO_FMILIAR_MENSUAL'].value_counts().sort_index().index)\n",
    "print(data_2000_2['FAMI_INGRESO_FMILIAR_MENSUAL'].value_counts().sort_index())\n",
    "print(missing_data(data_2000_2['FAMI_INGRESO_FMILIAR_MENSUAL']))"
   ]
  },
  {
   "cell_type": "code",
   "execution_count": null,
   "metadata": {
    "collapsed": true
   },
   "outputs": [],
   "source": [
    "data_2000_2['FAMI_APORTANTES'] = data_2000_2['FAMI_APORTANTES'].replace('*', np.nan)"
   ]
  },
  {
   "cell_type": "code",
   "execution_count": null,
   "metadata": {
    "collapsed": false
   },
   "outputs": [],
   "source": [
    "\"\"\"Here the '*' will be replaced for 'NaN' and the np.nan too\"\"\"\n",
    "print(data_2000_2['FAMI_LEE_ESCRIBE_PADRE'].value_counts().sort_index().index)\n",
    "print(data_2000_2['FAMI_LEE_ESCRIBE_PADRE'].value_counts().sort_index())\n",
    "print(missing_data(data_2000_2['FAMI_LEE_ESCRIBE_PADRE']))"
   ]
  },
  {
   "cell_type": "code",
   "execution_count": null,
   "metadata": {
    "collapsed": true
   },
   "outputs": [],
   "source": [
    "data_2000_2['FAMI_LEE_ESCRIBE_PADRE'] = data_2000_2['FAMI_LEE_ESCRIBE_PADRE'].replace('*', np.nan)"
   ]
  },
  {
   "cell_type": "code",
   "execution_count": null,
   "metadata": {
    "collapsed": false
   },
   "outputs": [],
   "source": [
    "\"\"\"Here the '*' will be replaced for 'NaN' and the np.nan too\"\"\"\n",
    "print(data_2000_2['FAMI_LEE_ESCRIBE_MADRE'].value_counts().sort_index().index)\n",
    "print(data_2000_2['FAMI_LEE_ESCRIBE_MADRE'].value_counts().sort_index())\n",
    "print(missing_data(data_2000_2['FAMI_LEE_ESCRIBE_MADRE']))"
   ]
  },
  {
   "cell_type": "code",
   "execution_count": null,
   "metadata": {
    "collapsed": true
   },
   "outputs": [],
   "source": [
    "data_2000_2['FAMI_LEE_ESCRIBE_PADRE'] = data_2000_2['FAMI_LEE_ESCRIBE_PADRE'].replace('*', np.nan)"
   ]
  },
  {
   "cell_type": "code",
   "execution_count": null,
   "metadata": {
    "collapsed": false,
    "scrolled": true
   },
   "outputs": [],
   "source": [
    "\"\"\"Here the same treatment, but the 9 will be replaced for 'NaN' too\"\"\"\n",
    "print(data_2000_2['FAMI_EDUCA_PADRE'].value_counts().sort_index().index)\n",
    "print(data_2000_2['FAMI_EDUCA_PADRE'].value_counts().sort_index())\n",
    "print(missing_data(data_2000_2['FAMI_EDUCA_PADRE']))"
   ]
  },
  {
   "cell_type": "code",
   "execution_count": null,
   "metadata": {
    "collapsed": true
   },
   "outputs": [],
   "source": [
    "data_2000_2['FAMI_EDUCA_PADRE'] = data_2000_2['FAMI_EDUCA_PADRE'].replace('9', np.nan)\n",
    "data_2000_2['FAMI_EDUCA_PADRE'] = data_2000_2['FAMI_EDUCA_PADRE'].replace('*', np.nan)"
   ]
  },
  {
   "cell_type": "code",
   "execution_count": null,
   "metadata": {
    "collapsed": false
   },
   "outputs": [],
   "source": [
    "\"\"\"The same treatment\"\"\"\n",
    "print(data_2000_2['FAMI_EDUCA_MADRE'].value_counts().sort_index().index)\n",
    "print(data_2000_2['FAMI_EDUCA_MADRE'].value_counts().sort_index())\n",
    "print(missing_data(data_2000_2['FAMI_EDUCA_MADRE']))"
   ]
  },
  {
   "cell_type": "code",
   "execution_count": null,
   "metadata": {
    "collapsed": true
   },
   "outputs": [],
   "source": [
    "data_2000_2['FAMI_EDUCA_MADRE'] = data_2000_2['FAMI_EDUCA_MADRE'].replace('*', np.nan)"
   ]
  },
  {
   "cell_type": "code",
   "execution_count": null,
   "metadata": {
    "collapsed": false,
    "scrolled": true
   },
   "outputs": [],
   "source": [
    "\"\"\"The '*' will be replaced for 'NaN' and the number with just 1 character will be replaced for themselves but with \n",
    "one 0 before (ex: 3->03)\"\"\"\n",
    "print(data_2000_2['FAMI_OCUPA_PADRE'].value_counts().sort_index().index)\n",
    "print(data_2000_2['FAMI_OCUPA_PADRE'].value_counts().sort_index())\n",
    "print(missing_data(data_2000_2['FAMI_OCUPA_PADRE']))"
   ]
  },
  {
   "cell_type": "code",
   "execution_count": null,
   "metadata": {
    "collapsed": true
   },
   "outputs": [],
   "source": [
    "data_2000_2['FAMI_OCUPA_PADRE'] = data_2000_2['FAMI_OCUPA_PADRE'].replace('0', '00')\n",
    "data_2000_2['FAMI_OCUPA_PADRE'] = data_2000_2['FAMI_OCUPA_PADRE'].replace('2', '02')\n",
    "data_2000_2['FAMI_OCUPA_PADRE'] = data_2000_2['FAMI_OCUPA_PADRE'].replace('3', '03')\n",
    "data_2000_2['FAMI_OCUPA_PADRE'] = data_2000_2['FAMI_OCUPA_PADRE'].replace('5', '05')\n",
    "data_2000_2['FAMI_OCUPA_PADRE'] = data_2000_2['FAMI_OCUPA_PADRE'].replace('6', '06')\n",
    "data_2000_2['FAMI_OCUPA_PADRE'] = data_2000_2['FAMI_OCUPA_PADRE'].replace('8', '08')\n",
    "data_2000_2['FAMI_OCUPA_PADRE'] = data_2000_2['FAMI_OCUPA_PADRE'].replace('9', '09')\n",
    "data_2000_2['FAMI_OCUPA_PADRE'] = data_2000_2['FAMI_OCUPA_PADRE'].replace('*', np.nan)"
   ]
  },
  {
   "cell_type": "code",
   "execution_count": null,
   "metadata": {
    "collapsed": false,
    "scrolled": true
   },
   "outputs": [],
   "source": [
    "\"\"\"Same treatment that the last one\"\"\"\n",
    "print(data_2000_2['FAMI_OCUPA_MADRE'].value_counts().sort_index().index)\n",
    "print(data_2000_2['FAMI_OCUPA_MADRE'].value_counts().sort_index())\n",
    "print(missing_data(data_2000_2['FAMI_OCUPA_MADRE']))"
   ]
  },
  {
   "cell_type": "code",
   "execution_count": null,
   "metadata": {
    "collapsed": true
   },
   "outputs": [],
   "source": [
    "data_2000_2['FAMI_OCUPA_MADRE'] = data_2000_2['FAMI_OCUPA_MADRE'].replace('0', '00')\n",
    "data_2000_2['FAMI_OCUPA_MADRE'] = data_2000_2['FAMI_OCUPA_MADRE'].replace('1', '01')\n",
    "data_2000_2['FAMI_OCUPA_MADRE'] = data_2000_2['FAMI_OCUPA_MADRE'].replace('2', '02')\n",
    "data_2000_2['FAMI_OCUPA_MADRE'] = data_2000_2['FAMI_OCUPA_MADRE'].replace('5', '05')\n",
    "data_2000_2['FAMI_OCUPA_MADRE'] = data_2000_2['FAMI_OCUPA_MADRE'].replace('6', '06')\n",
    "data_2000_2['FAMI_OCUPA_MADRE'] = data_2000_2['FAMI_OCUPA_MADRE'].replace('8', '08')\n",
    "data_2000_2['FAMI_OCUPA_MADRE'] = data_2000_2['FAMI_OCUPA_MADRE'].replace('9', '09')\n",
    "data_2000_2['FAMI_OCUPA_MADRE'] = data_2000_2['FAMI_OCUPA_MADRE'].replace('*', np.nan)"
   ]
  },
  {
   "cell_type": "code",
   "execution_count": null,
   "metadata": {
    "collapsed": false
   },
   "outputs": [],
   "source": [
    "\"\"\"The simbol '+' will be replaced for '+9' and the '*' and the np.nan will be replaced for 'NaN'.\"\"\"\n",
    "print(data_2000_2['FAMI_NUM_HERMANOS'].value_counts().sort_index().index)\n",
    "print(data_2000_2['FAMI_NUM_HERMANOS'].value_counts().sort_index())\n",
    "print(missing_data(data_2000_2['FAMI_NUM_HERMANOS']))"
   ]
  },
  {
   "cell_type": "code",
   "execution_count": null,
   "metadata": {
    "collapsed": true
   },
   "outputs": [],
   "source": [
    "data_2000_2['FAMI_NUM_HERMANOS'] = data_2000_2['FAMI_NUM_HERMANOS'].replace('+', '+9')\n",
    "data_2000_2['FAMI_NUM_HERMANOS'] = data_2000_2['FAMI_NUM_HERMANOS'].replace('*', np.nan)"
   ]
  },
  {
   "cell_type": "code",
   "execution_count": null,
   "metadata": {
    "collapsed": false
   },
   "outputs": [],
   "source": [
    "\"\"\"The same that the last one\"\"\"\n",
    "print(data_2000_2['FAMI_NUM_HERMANOS_EDUSUPERIOR'].value_counts().sort_index().index)\n",
    "print(data_2000_2['FAMI_NUM_HERMANOS_EDUSUPERIOR'].value_counts().sort_index())\n",
    "print(missing_data(data_2000_2['FAMI_NUM_HERMANOS_EDUSUPERIOR']))"
   ]
  },
  {
   "cell_type": "code",
   "execution_count": null,
   "metadata": {
    "collapsed": true
   },
   "outputs": [],
   "source": [
    "data_2000_2['FAMI_NUM_HERMANOS_EDUSUPERIOR'] = data_2000_2['FAMI_NUM_HERMANOS_EDUSUPERIOR'].replace('+', '+9')\n",
    "data_2000_2['FAMI_NUM_HERMANOS_EDUSUPERIOR'] = data_2000_2['FAMI_NUM_HERMANOS_EDUSUPERIOR'].replace('*', np.nan)"
   ]
  },
  {
   "cell_type": "code",
   "execution_count": null,
   "metadata": {
    "collapsed": false
   },
   "outputs": [],
   "source": [
    "\"\"\"The same that the last one\"\"\"\n",
    "print(data_2000_2['FAMI_POSICION_HERMANOS'].value_counts().sort_index().index)\n",
    "print(data_2000_2['FAMI_POSICION_HERMANOS'].value_counts().sort_index())\n",
    "print(missing_data(data_2000_2['FAMI_POSICION_HERMANOS']))"
   ]
  },
  {
   "cell_type": "code",
   "execution_count": null,
   "metadata": {
    "collapsed": true
   },
   "outputs": [],
   "source": [
    "data_2000_2['FAMI_POSICION_HERMANOS'] = data_2000_2['FAMI_POSICION_HERMANOS'].replace('+', '+9')\n",
    "data_2000_2['FAMI_POSICION_HERMANOS'] = data_2000_2['FAMI_POSICION_HERMANOS'].replace('*', np.nan)"
   ]
  },
  {
   "cell_type": "code",
   "execution_count": null,
   "metadata": {
    "collapsed": false
   },
   "outputs": [],
   "source": [
    "\"\"\"Put NaN where '*' or np.nan\"\"\"\n",
    "print(data_2000_2['FAMI_SOST_PERSONAL'].value_counts().sort_index().index)\n",
    "print(data_2000_2['FAMI_SOST_PERSONAL'].value_counts().sort_index())\n",
    "print(missing_data(data_2000_2['FAMI_SOST_PERSONAL']))"
   ]
  },
  {
   "cell_type": "code",
   "execution_count": null,
   "metadata": {
    "collapsed": true
   },
   "outputs": [],
   "source": [
    "data_2000_2['FAMI_SOST_PERSONAL'] = data_2000_2['FAMI_SOST_PERSONAL'].replace('*', np.nan)"
   ]
  },
  {
   "cell_type": "code",
   "execution_count": null,
   "metadata": {
    "collapsed": false
   },
   "outputs": [],
   "source": [
    "\"\"\"The same that the last one\"\"\"\n",
    "print(data_2000_2['ESTU_TRABAJA'].value_counts().sort_index().index)\n",
    "print(data_2000_2['ESTU_TRABAJA'].value_counts().sort_index())\n",
    "print(missing_data(data_2000_2['ESTU_TRABAJA']))"
   ]
  },
  {
   "cell_type": "code",
   "execution_count": null,
   "metadata": {
    "collapsed": true
   },
   "outputs": [],
   "source": [
    "data_2000_2['ESTU_TRABAJA'] = data_2000_2['ESTU_TRABAJA'].replace('*', np.nan)"
   ]
  },
  {
   "cell_type": "code",
   "execution_count": null,
   "metadata": {
    "collapsed": false
   },
   "outputs": [],
   "source": [
    "\"\"\"The same that the last one\"\"\"\n",
    "print(data_2000_2['ESTU_ACT_PROX_ANNO'].value_counts().sort_index().index)\n",
    "print(data_2000_2['ESTU_ACT_PROX_ANNO'].value_counts().sort_index())\n",
    "print(missing_data(data_2000_2['ESTU_ACT_PROX_ANNO']))"
   ]
  },
  {
   "cell_type": "code",
   "execution_count": null,
   "metadata": {
    "collapsed": true
   },
   "outputs": [],
   "source": [
    "data_2000_2['ESTU_ACT_PROX_ANNO'] = data_2000_2['ESTU_ACT_PROX_ANNO'].replace('*', np.nan)"
   ]
  },
  {
   "cell_type": "code",
   "execution_count": null,
   "metadata": {
    "collapsed": false
   },
   "outputs": [],
   "source": [
    "\"\"\"just change the np.nan value for 'NaN'\"\"\"\n",
    "print(data_2000_2['COLE_CALENDARIO'].value_counts().sort_index().index)\n",
    "print(data_2000_2['COLE_CALENDARIO'].value_counts().sort_index())\n",
    "print(missing_data(data_2000_2['COLE_CALENDARIO']))"
   ]
  },
  {
   "cell_type": "code",
   "execution_count": null,
   "metadata": {
    "collapsed": false
   },
   "outputs": [],
   "source": [
    "\"\"\"This column will stand like it is at this moment\"\"\"\n",
    "print(data_2000_2['COLE_BILINGUE'].value_counts().sort_index().index)\n",
    "print(data_2000_2['COLE_BILINGUE'].value_counts().sort_index())\n",
    "print(missing_data(data_2000_2['COLE_BILINGUE']))"
   ]
  },
  {
   "cell_type": "code",
   "execution_count": null,
   "metadata": {
    "collapsed": false
   },
   "outputs": [],
   "source": [
    "\"\"\"Just will change the np.nan value for a 'NaN'\"\"\"\n",
    "print(data_2000_2['COLE_CARACTER'].value_counts().sort_index().index)\n",
    "print(data_2000_2['COLE_CARACTER'].value_counts().sort_index())\n",
    "print(missing_data(data_2000_2['COLE_CARACTER']))"
   ]
  },
  {
   "cell_type": "code",
   "execution_count": null,
   "metadata": {
    "collapsed": false,
    "scrolled": true
   },
   "outputs": [],
   "source": [
    "\"\"\"Just will change the np.nan value for a 'NaN'\"\"\"\n",
    "print(data_2000_2['COLE_DEPTO_UBICACION'].value_counts().sort_index().index)\n",
    "print(data_2000_2['COLE_DEPTO_UBICACION'].value_counts().sort_index())\n",
    "print(missing_data(data_2000_2['COLE_DEPTO_UBICACION']))"
   ]
  },
  {
   "cell_type": "code",
   "execution_count": null,
   "metadata": {
    "collapsed": false,
    "scrolled": true
   },
   "outputs": [],
   "source": [
    "\"\"\"Just chage the np.nan value for a 'NaN'\"\"\"\n",
    "print(data_2000_2['COLE_MCPIO_UBICACION'].value_counts().sort_index().index)\n",
    "print(data_2000_2['COLE_MCPIO_UBICACION'].value_counts().sort_index())\n",
    "print(missing_data(data_2000_2['COLE_MCPIO_UBICACION']))"
   ]
  },
  {
   "cell_type": "code",
   "execution_count": null,
   "metadata": {
    "collapsed": false,
    "scrolled": true
   },
   "outputs": [],
   "source": [
    "\"\"\"the same that the last one\"\"\"\n",
    "print(data_2000_2['ESTU_RESIDE_DEPTO'].value_counts().sort_index().index)\n",
    "print(data_2000_2['ESTU_RESIDE_DEPTO'].value_counts().sort_index())\n",
    "print(missing_data(data_2000_2['ESTU_RESIDE_DEPTO']))"
   ]
  },
  {
   "cell_type": "code",
   "execution_count": null,
   "metadata": {
    "collapsed": false,
    "scrolled": true
   },
   "outputs": [],
   "source": [
    "\"\"\"The same that the last one\"\"\"\n",
    "print(data_2000_2['ESTU_RESIDE_MCPIO'].value_counts().sort_index().index)\n",
    "print(data_2000_2['ESTU_RESIDE_MCPIO'].value_counts().sort_index())\n",
    "print(missing_data(data_2000_2['ESTU_RESIDE_MCPIO']))"
   ]
  },
  {
   "cell_type": "markdown",
   "metadata": {},
   "source": [
    "# The Last Step is save the obtained DataFrames as Files"
   ]
  },
  {
   "cell_type": "code",
   "execution_count": 115,
   "metadata": {
    "collapsed": false
   },
   "outputs": [],
   "source": [
    "data_2000.to_csv('../DatosFTPICFES/SABER11/SB11-BASES_DE_DATOS/READY/2000_1.csv', sep=';', index = False)\n",
    "data_2000_2.to_csv('../DatosFTPICFES/SABER11/SB11-BASES_DE_DATOS/READY/2000_2.csv', sep=';', index = False)"
   ]
  }
 ],
 "metadata": {
  "kernelspec": {
   "display_name": "Python 3 + Anaconda",
   "language": "python",
   "name": "pyconda3"
  },
  "language_info": {
   "codemirror_mode": {
    "name": "ipython",
    "version": 3
   },
   "file_extension": ".py",
   "mimetype": "text/x-python",
   "name": "python",
   "nbconvert_exporter": "python",
   "pygments_lexer": "ipython3",
   "version": "3.5.1"
  }
 },
 "nbformat": 4,
 "nbformat_minor": 0
}
