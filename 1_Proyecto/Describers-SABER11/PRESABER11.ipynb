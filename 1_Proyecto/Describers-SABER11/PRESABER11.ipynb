{
 "cells": [
  {
   "cell_type": "code",
   "execution_count": 1,
   "metadata": {
    "collapsed": true
   },
   "outputs": [],
   "source": [
    "import pandas as pd\n",
    "%run -i ../tools/functions.py"
   ]
  },
  {
   "cell_type": "code",
   "execution_count": 2,
   "metadata": {},
   "outputs": [
    {
     "name": "stderr",
     "output_type": "stream",
     "text": [
      "/home/aronf/anaconda3/lib/python3.6/site-packages/IPython/core/interactiveshell.py:2698: DtypeWarning: Columns (11) have mixed types. Specify dtype option on import or set low_memory=False.\n",
      "  interactivity=interactivity, compiler=compiler, result=result)\n"
     ]
    }
   ],
   "source": [
    "file1 = pd.read_csv(\"../DatosFTPICFES/SABER11/SB11-PRESABER/PRESABER11-20142-RGSTRO-CLFCCN.txt\", delimiter = \"|\")"
   ]
  },
  {
   "cell_type": "code",
   "execution_count": 12,
   "metadata": {},
   "outputs": [
    {
     "data": {
      "text/plain": [
       "PERIODO                                        20142\n",
       "ESTU_CONSECUTIVO                 PRESABER20142000006\n",
       "ESTU_ESTUDIANTE                           INDIVIDUAL\n",
       "ESTU_EDAD                                         17\n",
       "ESTU_TIPO_DOCUMENTO                               TI\n",
       "ESTU_PAIS_RESIDE                                   1\n",
       "ESTU_GENERO                                        F\n",
       "ESTU_FECHA_NACIMIENTO                     05/08/1997\n",
       "ESTU_ETNIA                                       100\n",
       "ESTU_LIMITA_MOTRIZ                               NaN\n",
       "ESTU_LIMITA_CONDICIONESPECIAL                    NaN\n",
       "ESTU_LIMITA_SDOWN                                NaN\n",
       "ESTU_LIMITA_AUTISMO                              NaN\n",
       "COLE_COD_MCPIO_UBICACION                         NaN\n",
       "ESTU_RESIDE_MCPIO                    PUERTO COLOMBIA\n",
       "ESTU_RESIDE_DEPTO                          ATLANTICO\n",
       "ESTU_COD_RESIDE_MCPIO                           8573\n",
       "ESTU_ZONA_RESIDE                                   1\n",
       "COLE_COD_DANE_INSTITUCION                        NaN\n",
       "COLE_COD_ICFES                                   NaN\n",
       "COLE_NOMBRE_SEDE                                 NaN\n",
       "COLE_JORNADA                                     NaN\n",
       "COLE_GENERO                                      NaN\n",
       "COLE_CARACTER                                    NaN\n",
       "COLE_NATURALEZA                                 OTRO\n",
       "COLE_BILINGUE                                    NaN\n",
       "COLE_CALENDARIO                                  NaN\n",
       "COLE_AREA_UBICACION                              NaN\n",
       "COLE_DEPTO_UBICACION                             NaN\n",
       "COLE_MCPIO_UBICACION                             NaN\n",
       "                                        ...         \n",
       "ESTU_OTRO_PLANTEL                                NaN\n",
       "ESTU_COD_OTRO_PAIS_PLANTEL                         1\n",
       "FAMI_PERSONAS_HOGAR                                3\n",
       "FAMI_PISOSHOGAR                                    4\n",
       "ESTU_COD_PLANTEL                               11064\n",
       "FAMI_NIVEL_SISBEN                                  5\n",
       "FAMI_AUTOMOVIL                                     S\n",
       "FAMI_COMPUTADOR                                    S\n",
       "FAMI_DVD                                           S\n",
       "FAMI_HORNO                                         S\n",
       "FAMI_MICROONDAS                                    S\n",
       "FAMI_INTERNET                                      S\n",
       "FAMI_LAVADORA                                      S\n",
       "FAMI_NEVERA                                        S\n",
       "FAMI_TELEFONO_FIJO                                 S\n",
       "FAMI_TELEFONO_CELULAR                              S\n",
       "FAMI_SERVICIO_TELEVISION                           S\n",
       "ESTU_VECES_ESTADO                                UNA\n",
       "ESTU_COD_DEPTO_PRESENTACION                        8\n",
       "ESTU_COD_MCPIO_PRESENTACION                     8001\n",
       "ESTU_MCPIO_PRESENTACION                 BARRANQUILLA\n",
       "ESTU_DEPTO_PRESENTACION                    ATLANTICO\n",
       "DECIL_LECTURA_CRITICA                            D07\n",
       "DECIL_MATEMATICAS                                D09\n",
       "DECIL_C_NATURALES                                D06\n",
       "DECIL_SOCIALES_CIUDADANAS                        D06\n",
       "DESEMP_INGLES                                     B1\n",
       "DECIL_INGLES                                     D10\n",
       "DECIL_RAZONA_CUANT                               D10\n",
       "DECIL_COMP_CIUDADANA                             D05\n",
       "Name: 5, Length: 76, dtype: object"
      ]
     },
     "execution_count": 12,
     "metadata": {},
     "output_type": "execute_result"
    }
   ],
   "source": [
    "file1.iloc[5]"
   ]
  },
  {
   "cell_type": "code",
   "execution_count": 10,
   "metadata": {
    "collapsed": true
   },
   "outputs": [],
   "source": [
    "file2 = pd.read_csv(\"../DatosFTPICFES/SABER11/SB11-PRESABER/PRESABER11-20171-RGSTRO-CLFCCN_2.txt\", delimiter = \"|\")"
   ]
  },
  {
   "cell_type": "code",
   "execution_count": 11,
   "metadata": {},
   "outputs": [
    {
     "data": {
      "text/plain": [
       "ESTU_TIPODOCUMENTO                                                        TI\n",
       "ESTU_NACIONALIDAD                                                   COLOMBIA\n",
       "ESTU_GENERO                                                         Femenino\n",
       "ESTU_FECHANACIMIENTO                                              19/11/2001\n",
       "PERIODO                                                                20171\n",
       "ESTU_CONSECUTIVO                                        PRESABER201710013765\n",
       "ESTU_ESTUDIANTE                                                   ESTUDIANTE\n",
       "ESTU_TIENE_ETNIA                                                          NO\n",
       "ESTU_ETNIA                                                               NaN\n",
       "ESTU_LIMITA_MOTRIZ                                                       NaN\n",
       "ESTU_LIMITA_INVIDENTE                                                    NaN\n",
       "ESTU_LIMITA_CONDICIONESPECIAL                                            NaN\n",
       "ESTU_LIMITA_SORDO                                                        NaN\n",
       "ESTU_LIMITA_SDOWN                                                        NaN\n",
       "ESTU_LIMITA_AUTISMO                                                      NaN\n",
       "ESTU_PAIS_RESIDE                                                    COLOMBIA\n",
       "ESTU_DEPTO_RESIDE                                                      VALLE\n",
       "ESTU_COD_RESIDE_DEPTO                                                     76\n",
       "ESTU_MCPIO_RESIDE                                                 EL CERRITO\n",
       "ESTU_COD_RESIDE_MCPIO                                                  76248\n",
       "COLE_COD_DANE_ESTABLECIMIENTO                                   476248000478\n",
       "COLE_NOMBRE_ESTABLECIMIENTO           INST TEC CIAL E INDUSTRIAL PROVIDENCIA\n",
       "COLE_GENERO                                                            MIXTO\n",
       "COLE_NATURALEZA                                                   NO OFICIAL\n",
       "COLE_CALENDARIO                                                            B\n",
       "COLE_BILINGUE                                                             NO\n",
       "COLE_CARACTER                                              TÉCNICO/ACADÉMICO\n",
       "COLE_COD_DANE_SEDE                                              476248000478\n",
       "COLE_NOMBRE_SEDE                 INST TEC COMERCIAL E INDUSTRIAL PROVIDENCIA\n",
       "COLE_SEDE_PRINCIPAL                                                       SI\n",
       "COLE_AREA_UBICACION                                                    RURAL\n",
       "COLE_COD_MCPIO_UBICACION                                               76248\n",
       "COLE_MCPIO_UBICACION                                              EL CERRITO\n",
       "COLE_COD_DEPTO_UBICACION                                                  76\n",
       "COLE_DEPTO_UBICACION                                                   VALLE\n",
       "ESTU_COD_MCPIO_PRESENTACION                                            76520\n",
       "ESTU_MCPIO_PRESENTACION                                              PALMIRA\n",
       "ESTU_DEPTO_PRESENTACION                                                VALLE\n",
       "ESTU_COD_DEPTO_PRESENTACION                                               76\n",
       "DESEMP_MATEMATICAS                                                         2\n",
       "PERCENTIL_MATEMATICAS                                                     27\n",
       "PERCENTIL_INGLES                                                          38\n",
       "DESEMP_INGLES                                                             A1\n",
       "DESEMP_C_NATURALES                                                         2\n",
       "PERCENTIL_C_NATURALES                                                     29\n",
       "DESEMP_LECTURA_CRITICA                                                     2\n",
       "PERCENTIL_LECTURA_CRITICA                                                  3\n",
       "DESEMP_SOCIALES_CIUDADANAS                                                 2\n",
       "PERCENTIL_SOCIALES_CIUDADANAS                                             25\n",
       "ESTU_ESTADOINVESTIGACION                                            Publicar\n",
       "Name: 2, dtype: object"
      ]
     },
     "execution_count": 11,
     "metadata": {},
     "output_type": "execute_result"
    }
   ],
   "source": [
    "file2.iloc[2]"
   ]
  },
  {
   "cell_type": "code",
   "execution_count": null,
   "metadata": {
    "collapsed": true
   },
   "outputs": [],
   "source": []
  }
 ],
 "metadata": {
  "kernelspec": {
   "display_name": "Python 3",
   "language": "python",
   "name": "python3"
  },
  "language_info": {
   "codemirror_mode": {
    "name": "ipython",
    "version": 3
   },
   "file_extension": ".py",
   "mimetype": "text/x-python",
   "name": "python",
   "nbconvert_exporter": "python",
   "pygments_lexer": "ipython3",
   "version": "3.6.2"
  }
 },
 "nbformat": 4,
 "nbformat_minor": 2
}
