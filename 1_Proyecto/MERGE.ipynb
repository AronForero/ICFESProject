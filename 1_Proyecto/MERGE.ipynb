{
 "cells": [
  {
   "cell_type": "code",
   "execution_count": 1,
   "metadata": {
    "collapsed": true
   },
   "outputs": [],
   "source": [
    "import pandas as pd"
   ]
  },
  {
   "cell_type": "code",
   "execution_count": 2,
   "metadata": {
    "collapsed": false
   },
   "outputs": [
    {
     "name": "stderr",
     "output_type": "stream",
     "text": [
      "/usr/local/lib/python3.4/dist-packages/IPython/core/interactiveshell.py:2902: DtypeWarning: Columns (51) have mixed types. Specify dtype option on import or set low_memory=False.\n",
      "  interactivity=interactivity, compiler=compiler, result=result)\n"
     ]
    }
   ],
   "source": [
    "SB11_2009 = pd.read_csv(\"DatosFTPICFES/SABER11/SB11-BASES_DE_DATOS/SB11-20091-RGSTRO-CLFCCN-V1-0utf8.txt\", delimiter=\"|\")\n",
    "SB11_20092 = pd.read_csv(\"DatosFTPICFES/SABER11/SB11-BASES_DE_DATOS/SB11-20092-RGSTRO-CLFCCN-V1-0utf8.txt\", delimiter=\"|\")"
   ]
  },
  {
   "cell_type": "code",
   "execution_count": 3,
   "metadata": {
    "collapsed": false
   },
   "outputs": [
    {
     "data": {
      "text/plain": [
       "(69743, 97)"
      ]
     },
     "execution_count": 3,
     "metadata": {},
     "output_type": "execute_result"
    }
   ],
   "source": [
    "SB11_2009.shape"
   ]
  },
  {
   "cell_type": "code",
   "execution_count": 4,
   "metadata": {
    "collapsed": false
   },
   "outputs": [
    {
     "data": {
      "text/plain": [
       "(518220, 121)"
      ]
     },
     "execution_count": 4,
     "metadata": {},
     "output_type": "execute_result"
    }
   ],
   "source": [
    "SB11_20092.shape"
   ]
  },
  {
   "cell_type": "code",
   "execution_count": 3,
   "metadata": {
    "collapsed": false
   },
   "outputs": [
    {
     "name": "stderr",
     "output_type": "stream",
     "text": [
      "/usr/local/lib/python3.4/dist-packages/IPython/core/interactiveshell.py:2902: DtypeWarning: Columns (2) have mixed types. Specify dtype option on import or set low_memory=False.\n",
      "  interactivity=interactivity, compiler=compiler, result=result)\n"
     ]
    }
   ],
   "source": [
    "INSE_2004 = pd.read_csv(\"DatosFTPICFES/SABER11/SB11-INDICE-SOCIOECONOMICO/SB11-2009-INSE-v1.0/SB11-INSE-2009.txt\", delimiter=\";\")"
   ]
  },
  {
   "cell_type": "code",
   "execution_count": 6,
   "metadata": {
    "collapsed": false
   },
   "outputs": [
    {
     "data": {
      "text/plain": [
       "(529706, 4)"
      ]
     },
     "execution_count": 6,
     "metadata": {},
     "output_type": "execute_result"
    }
   ],
   "source": [
    "INSE_2004.shape"
   ]
  },
  {
   "cell_type": "markdown",
   "metadata": {},
   "source": [
    "Guardo las columnas de cada archivo"
   ]
  },
  {
   "cell_type": "code",
   "execution_count": 7,
   "metadata": {
    "collapsed": false
   },
   "outputs": [],
   "source": [
    "l = []\n",
    "l = SB11_2009.columns\n",
    "p = []\n",
    "p = SB11_20092.columns\n",
    "k = []\n",
    "k = INSE_2004.columns"
   ]
  },
  {
   "cell_type": "markdown",
   "metadata": {},
   "source": [
    "Comparo las columnas con las del otro archivo para conocer las diferencias"
   ]
  },
  {
   "cell_type": "code",
   "execution_count": 8,
   "metadata": {
    "collapsed": false
   },
   "outputs": [
    {
     "name": "stdout",
     "output_type": "stream",
     "text": [
      "37\n",
      "13\n"
     ]
    }
   ],
   "source": [
    "dif1 = p.difference(l)\n",
    "dif2 = l.difference(p)\n",
    "print(len(dif1))\n",
    "print(len(dif2))"
   ]
  },
  {
   "cell_type": "markdown",
   "metadata": {},
   "source": [
    "guardo en un archivo .csv las columnas, y las paso a un archivo de excel para ver claramente"
   ]
  },
  {
   "cell_type": "code",
   "execution_count": null,
   "metadata": {
    "collapsed": false
   },
   "outputs": [],
   "source": [
    "f = open('comparacion_columnas.csv', 'w')\n",
    "\n",
    "for i in l:\n",
    "    f.write(i)\n",
    "    f.write(';')\n",
    "f.write('/n')\n",
    "for i in p:\n",
    "    f.write(i)\n",
    "    f.write(';')\n",
    "f.write('/n')\n",
    "for i in k:\n",
    "    f.write(i)\n",
    "    f.write(';')\n",
    "\n",
    "f.close()"
   ]
  },
  {
   "cell_type": "markdown",
   "metadata": {},
   "source": [
    "Creo dos archivos para probar la funcion MERGE"
   ]
  },
  {
   "cell_type": "code",
   "execution_count": null,
   "metadata": {
    "collapsed": false
   },
   "outputs": [],
   "source": [
    "x = open('archivo1.txt', 'w')\n",
    "x.write(\"posicion\")\n",
    "x.write(';')\n",
    "x.write('letra\\n')\n",
    "for i in range(10):\n",
    "    x.write(str(i))\n",
    "    x.write(';')\n",
    "    x.write(str(i**2))\n",
    "    x.write('\\n')\n",
    "x.close()"
   ]
  },
  {
   "cell_type": "code",
   "execution_count": 22,
   "metadata": {
    "collapsed": false
   },
   "outputs": [],
   "source": [
    "y = open('archivo2.txt', 'w')\n",
    "y.write(\"posicion\")\n",
    "y.write(';')\n",
    "y.write('palabra')\n",
    "y.write(';')\n",
    "y.write('letra\\n')\n",
    "for i in range(10,15):\n",
    "    y.write(str(i))\n",
    "    y.write(';')\n",
    "    y.write(str(i**2))\n",
    "    y.write(';')\n",
    "    y.write(str(i/2))\n",
    "    y.write('\\n')\n",
    "for i in range(0,5):\n",
    "    y.write(str(i))\n",
    "    y.write(';')\n",
    "    y.write(str(i**3))\n",
    "    y.write(';')\n",
    "    y.write(str(i/3))\n",
    "    y.write('\\n')\n",
    "y.close()"
   ]
  },
  {
   "cell_type": "code",
   "execution_count": 9,
   "metadata": {
    "collapsed": false
   },
   "outputs": [],
   "source": [
    "file1 = pd.read_csv(\"archivo1.txt\", delimiter=';')\n",
    "file2 = pd.read_csv(\"archivo2.txt\", delimiter=';')"
   ]
  },
  {
   "cell_type": "markdown",
   "metadata": {},
   "source": [
    "la funcion merge nos permite unir las tablas, el parametro on nos permite escoger de acuerdo a que columna se va a realizar el merge.  \n",
    "Existe el parametro how, que con el valor outer nos permite obtener la union de las tablas y el atributo inner nos permite obtener la interseccion de las tablas igual que con el parametro on"
   ]
  },
  {
   "cell_type": "code",
   "execution_count": 16,
   "metadata": {
    "collapsed": false
   },
   "outputs": [],
   "source": [
    "file3 = file1.merge(file2, how = 'outer')"
   ]
  },
  {
   "cell_type": "code",
   "execution_count": 11,
   "metadata": {
    "collapsed": false
   },
   "outputs": [
    {
     "data": {
      "text/html": [
       "<div>\n",
       "<table border=\"1\" class=\"dataframe\">\n",
       "  <thead>\n",
       "    <tr style=\"text-align: right;\">\n",
       "      <th></th>\n",
       "      <th>posicion</th>\n",
       "      <th>letra</th>\n",
       "    </tr>\n",
       "  </thead>\n",
       "  <tbody>\n",
       "    <tr>\n",
       "      <th>0</th>\n",
       "      <td>0</td>\n",
       "      <td>0</td>\n",
       "    </tr>\n",
       "    <tr>\n",
       "      <th>1</th>\n",
       "      <td>1</td>\n",
       "      <td>1</td>\n",
       "    </tr>\n",
       "    <tr>\n",
       "      <th>2</th>\n",
       "      <td>2</td>\n",
       "      <td>4</td>\n",
       "    </tr>\n",
       "    <tr>\n",
       "      <th>3</th>\n",
       "      <td>3</td>\n",
       "      <td>9</td>\n",
       "    </tr>\n",
       "    <tr>\n",
       "      <th>4</th>\n",
       "      <td>4</td>\n",
       "      <td>16</td>\n",
       "    </tr>\n",
       "    <tr>\n",
       "      <th>5</th>\n",
       "      <td>5</td>\n",
       "      <td>25</td>\n",
       "    </tr>\n",
       "    <tr>\n",
       "      <th>6</th>\n",
       "      <td>6</td>\n",
       "      <td>36</td>\n",
       "    </tr>\n",
       "    <tr>\n",
       "      <th>7</th>\n",
       "      <td>7</td>\n",
       "      <td>49</td>\n",
       "    </tr>\n",
       "    <tr>\n",
       "      <th>8</th>\n",
       "      <td>8</td>\n",
       "      <td>64</td>\n",
       "    </tr>\n",
       "    <tr>\n",
       "      <th>9</th>\n",
       "      <td>9</td>\n",
       "      <td>81</td>\n",
       "    </tr>\n",
       "  </tbody>\n",
       "</table>\n",
       "</div>"
      ],
      "text/plain": [
       "   posicion  letra\n",
       "0         0      0\n",
       "1         1      1\n",
       "2         2      4\n",
       "3         3      9\n",
       "4         4     16\n",
       "5         5     25\n",
       "6         6     36\n",
       "7         7     49\n",
       "8         8     64\n",
       "9         9     81"
      ]
     },
     "execution_count": 11,
     "metadata": {},
     "output_type": "execute_result"
    }
   ],
   "source": [
    "file1"
   ]
  },
  {
   "cell_type": "code",
   "execution_count": 12,
   "metadata": {
    "collapsed": false
   },
   "outputs": [
    {
     "data": {
      "text/html": [
       "<div>\n",
       "<table border=\"1\" class=\"dataframe\">\n",
       "  <thead>\n",
       "    <tr style=\"text-align: right;\">\n",
       "      <th></th>\n",
       "      <th>posicion</th>\n",
       "      <th>palabra</th>\n",
       "      <th>letra</th>\n",
       "    </tr>\n",
       "  </thead>\n",
       "  <tbody>\n",
       "    <tr>\n",
       "      <th>0</th>\n",
       "      <td>10</td>\n",
       "      <td>100</td>\n",
       "      <td>5.000000</td>\n",
       "    </tr>\n",
       "    <tr>\n",
       "      <th>1</th>\n",
       "      <td>11</td>\n",
       "      <td>121</td>\n",
       "      <td>5.500000</td>\n",
       "    </tr>\n",
       "    <tr>\n",
       "      <th>2</th>\n",
       "      <td>12</td>\n",
       "      <td>144</td>\n",
       "      <td>6.000000</td>\n",
       "    </tr>\n",
       "    <tr>\n",
       "      <th>3</th>\n",
       "      <td>13</td>\n",
       "      <td>169</td>\n",
       "      <td>6.500000</td>\n",
       "    </tr>\n",
       "    <tr>\n",
       "      <th>4</th>\n",
       "      <td>14</td>\n",
       "      <td>196</td>\n",
       "      <td>7.000000</td>\n",
       "    </tr>\n",
       "    <tr>\n",
       "      <th>5</th>\n",
       "      <td>0</td>\n",
       "      <td>0</td>\n",
       "      <td>0.000000</td>\n",
       "    </tr>\n",
       "    <tr>\n",
       "      <th>6</th>\n",
       "      <td>1</td>\n",
       "      <td>1</td>\n",
       "      <td>0.333333</td>\n",
       "    </tr>\n",
       "    <tr>\n",
       "      <th>7</th>\n",
       "      <td>2</td>\n",
       "      <td>8</td>\n",
       "      <td>0.666667</td>\n",
       "    </tr>\n",
       "    <tr>\n",
       "      <th>8</th>\n",
       "      <td>3</td>\n",
       "      <td>27</td>\n",
       "      <td>1.000000</td>\n",
       "    </tr>\n",
       "    <tr>\n",
       "      <th>9</th>\n",
       "      <td>4</td>\n",
       "      <td>64</td>\n",
       "      <td>1.333333</td>\n",
       "    </tr>\n",
       "  </tbody>\n",
       "</table>\n",
       "</div>"
      ],
      "text/plain": [
       "   posicion  palabra     letra\n",
       "0        10      100  5.000000\n",
       "1        11      121  5.500000\n",
       "2        12      144  6.000000\n",
       "3        13      169  6.500000\n",
       "4        14      196  7.000000\n",
       "5         0        0  0.000000\n",
       "6         1        1  0.333333\n",
       "7         2        8  0.666667\n",
       "8         3       27  1.000000\n",
       "9         4       64  1.333333"
      ]
     },
     "execution_count": 12,
     "metadata": {},
     "output_type": "execute_result"
    }
   ],
   "source": [
    "file2"
   ]
  },
  {
   "cell_type": "code",
   "execution_count": 17,
   "metadata": {
    "collapsed": false
   },
   "outputs": [
    {
     "data": {
      "text/html": [
       "<div>\n",
       "<table border=\"1\" class=\"dataframe\">\n",
       "  <thead>\n",
       "    <tr style=\"text-align: right;\">\n",
       "      <th></th>\n",
       "      <th>posicion</th>\n",
       "      <th>letra</th>\n",
       "      <th>palabra</th>\n",
       "    </tr>\n",
       "  </thead>\n",
       "  <tbody>\n",
       "    <tr>\n",
       "      <th>0</th>\n",
       "      <td>0</td>\n",
       "      <td>0.000000</td>\n",
       "      <td>0</td>\n",
       "    </tr>\n",
       "    <tr>\n",
       "      <th>1</th>\n",
       "      <td>1</td>\n",
       "      <td>1.000000</td>\n",
       "      <td>NaN</td>\n",
       "    </tr>\n",
       "    <tr>\n",
       "      <th>2</th>\n",
       "      <td>2</td>\n",
       "      <td>4.000000</td>\n",
       "      <td>NaN</td>\n",
       "    </tr>\n",
       "    <tr>\n",
       "      <th>3</th>\n",
       "      <td>3</td>\n",
       "      <td>9.000000</td>\n",
       "      <td>NaN</td>\n",
       "    </tr>\n",
       "    <tr>\n",
       "      <th>4</th>\n",
       "      <td>4</td>\n",
       "      <td>16.000000</td>\n",
       "      <td>NaN</td>\n",
       "    </tr>\n",
       "    <tr>\n",
       "      <th>5</th>\n",
       "      <td>5</td>\n",
       "      <td>25.000000</td>\n",
       "      <td>NaN</td>\n",
       "    </tr>\n",
       "    <tr>\n",
       "      <th>6</th>\n",
       "      <td>6</td>\n",
       "      <td>36.000000</td>\n",
       "      <td>NaN</td>\n",
       "    </tr>\n",
       "    <tr>\n",
       "      <th>7</th>\n",
       "      <td>7</td>\n",
       "      <td>49.000000</td>\n",
       "      <td>NaN</td>\n",
       "    </tr>\n",
       "    <tr>\n",
       "      <th>8</th>\n",
       "      <td>8</td>\n",
       "      <td>64.000000</td>\n",
       "      <td>NaN</td>\n",
       "    </tr>\n",
       "    <tr>\n",
       "      <th>9</th>\n",
       "      <td>9</td>\n",
       "      <td>81.000000</td>\n",
       "      <td>NaN</td>\n",
       "    </tr>\n",
       "    <tr>\n",
       "      <th>10</th>\n",
       "      <td>10</td>\n",
       "      <td>5.000000</td>\n",
       "      <td>100</td>\n",
       "    </tr>\n",
       "    <tr>\n",
       "      <th>11</th>\n",
       "      <td>11</td>\n",
       "      <td>5.500000</td>\n",
       "      <td>121</td>\n",
       "    </tr>\n",
       "    <tr>\n",
       "      <th>12</th>\n",
       "      <td>12</td>\n",
       "      <td>6.000000</td>\n",
       "      <td>144</td>\n",
       "    </tr>\n",
       "    <tr>\n",
       "      <th>13</th>\n",
       "      <td>13</td>\n",
       "      <td>6.500000</td>\n",
       "      <td>169</td>\n",
       "    </tr>\n",
       "    <tr>\n",
       "      <th>14</th>\n",
       "      <td>14</td>\n",
       "      <td>7.000000</td>\n",
       "      <td>196</td>\n",
       "    </tr>\n",
       "    <tr>\n",
       "      <th>15</th>\n",
       "      <td>1</td>\n",
       "      <td>0.333333</td>\n",
       "      <td>1</td>\n",
       "    </tr>\n",
       "    <tr>\n",
       "      <th>16</th>\n",
       "      <td>2</td>\n",
       "      <td>0.666667</td>\n",
       "      <td>8</td>\n",
       "    </tr>\n",
       "    <tr>\n",
       "      <th>17</th>\n",
       "      <td>3</td>\n",
       "      <td>1.000000</td>\n",
       "      <td>27</td>\n",
       "    </tr>\n",
       "    <tr>\n",
       "      <th>18</th>\n",
       "      <td>4</td>\n",
       "      <td>1.333333</td>\n",
       "      <td>64</td>\n",
       "    </tr>\n",
       "  </tbody>\n",
       "</table>\n",
       "</div>"
      ],
      "text/plain": [
       "    posicion      letra  palabra\n",
       "0          0   0.000000        0\n",
       "1          1   1.000000      NaN\n",
       "2          2   4.000000      NaN\n",
       "3          3   9.000000      NaN\n",
       "4          4  16.000000      NaN\n",
       "5          5  25.000000      NaN\n",
       "6          6  36.000000      NaN\n",
       "7          7  49.000000      NaN\n",
       "8          8  64.000000      NaN\n",
       "9          9  81.000000      NaN\n",
       "10        10   5.000000      100\n",
       "11        11   5.500000      121\n",
       "12        12   6.000000      144\n",
       "13        13   6.500000      169\n",
       "14        14   7.000000      196\n",
       "15         1   0.333333        1\n",
       "16         2   0.666667        8\n",
       "17         3   1.000000       27\n",
       "18         4   1.333333       64"
      ]
     },
     "execution_count": 17,
     "metadata": {},
     "output_type": "execute_result"
    }
   ],
   "source": [
    "file3"
   ]
  },
  {
   "cell_type": "markdown",
   "metadata": {},
   "source": [
    "## Primer Intento de MERGE (Simple, entre los archivos SB11_2009 y SB11_20092, con el parametro on, en la columna del codigo de identificacion del estudiante y con el parametro how)"
   ]
  },
  {
   "cell_type": "markdown",
   "metadata": {},
   "source": [
    "Se puede observar que no hay estudiantes en comun entre los dos archivos."
   ]
  },
  {
   "cell_type": "code",
   "execution_count": 10,
   "metadata": {
    "collapsed": true
   },
   "outputs": [],
   "source": [
    "Merge_SB11_2009 = SB11_2009.merge(SB11_20092, on = 'ESTU_CONSECUTIVO')"
   ]
  },
  {
   "cell_type": "code",
   "execution_count": 11,
   "metadata": {
    "collapsed": false
   },
   "outputs": [
    {
     "data": {
      "text/plain": [
       "(0, 217)"
      ]
     },
     "execution_count": 11,
     "metadata": {},
     "output_type": "execute_result"
    }
   ],
   "source": [
    "Merge_SB11_2009.shape"
   ]
  },
  {
   "cell_type": "markdown",
   "metadata": {},
   "source": [
    "Se Puede observar que con el outer obtenemos la union por filas de los dos archivos"
   ]
  },
  {
   "cell_type": "code",
   "execution_count": 12,
   "metadata": {
    "collapsed": true
   },
   "outputs": [],
   "source": [
    "Merge_SB11_2009_2 = SB11_2009.merge(SB11_20092, how = 'outer')"
   ]
  },
  {
   "cell_type": "code",
   "execution_count": 13,
   "metadata": {
    "collapsed": false
   },
   "outputs": [
    {
     "data": {
      "text/plain": [
       "(587963, 134)"
      ]
     },
     "execution_count": 13,
     "metadata": {},
     "output_type": "execute_result"
    }
   ],
   "source": [
    "Merge_SB11_2009_2.shape"
   ]
  },
  {
   "cell_type": "markdown",
   "metadata": {},
   "source": [
    "Se puede observar que con el inner obtenemos la interserccion entre las dos tablas"
   ]
  },
  {
   "cell_type": "code",
   "execution_count": 14,
   "metadata": {
    "collapsed": true
   },
   "outputs": [],
   "source": [
    "Merge_SB11_2009_3 = SB11_2009.merge(SB11_20092, how = 'inner')"
   ]
  },
  {
   "cell_type": "code",
   "execution_count": 15,
   "metadata": {
    "collapsed": false
   },
   "outputs": [
    {
     "data": {
      "text/plain": [
       "(0, 134)"
      ]
     },
     "execution_count": 15,
     "metadata": {},
     "output_type": "execute_result"
    }
   ],
   "source": [
    "Merge_SB11_2009_3.shape"
   ]
  },
  {
   "cell_type": "markdown",
   "metadata": {},
   "source": [
    "poniendo las dos condiciones (outer y on...) obtenemos una tabla donde observamos una union de la cantidad de filas y una union entre la cantidad de columnas"
   ]
  },
  {
   "cell_type": "code",
   "execution_count": 4,
   "metadata": {
    "collapsed": false
   },
   "outputs": [],
   "source": [
    "Merge_SB11_2009_4 = SB11_2009.merge(SB11_20092, how = 'outer', on = 'ESTU_CONSECUTIVO')"
   ]
  },
  {
   "cell_type": "code",
   "execution_count": 5,
   "metadata": {
    "collapsed": false
   },
   "outputs": [
    {
     "data": {
      "text/plain": [
       "(587963, 217)"
      ]
     },
     "execution_count": 5,
     "metadata": {},
     "output_type": "execute_result"
    }
   ],
   "source": [
    "Merge_SB11_2009_4.shape"
   ]
  },
  {
   "cell_type": "code",
   "execution_count": null,
   "metadata": {
    "collapsed": true
   },
   "outputs": [],
   "source": []
  },
  {
   "cell_type": "markdown",
   "metadata": {},
   "source": [
    "IDEA: como no tengo estudiantes repetidos... entonces puedo preocuparme solo por poner todos los parametros de las dos tablas y ya.  \n",
    "### Es posible que Merge_SB11_2009_4 sea la que busco"
   ]
  },
  {
   "cell_type": "code",
   "execution_count": 7,
   "metadata": {
    "collapsed": true
   },
   "outputs": [],
   "source": [
    "Merge_SB11_2009_4.to_csv('Merge_SB11_2009.csv', sep=\"|\")"
   ]
  },
  {
   "cell_type": "markdown",
   "metadata": {
    "collapsed": true
   },
   "source": [
    "## MERGE con Indice SocioEconomico"
   ]
  },
  {
   "cell_type": "code",
   "execution_count": 9,
   "metadata": {
    "collapsed": false
   },
   "outputs": [
    {
     "name": "stderr",
     "output_type": "stream",
     "text": [
      "/usr/local/lib/python3.4/dist-packages/IPython/core/interactiveshell.py:2902: DtypeWarning: Columns (2) have mixed types. Specify dtype option on import or set low_memory=False.\n",
      "  interactivity=interactivity, compiler=compiler, result=result)\n"
     ]
    }
   ],
   "source": [
    "INSE = pd.read_csv(\"DatosFTPICFES/SABER11/SB11-INDICE-SOCIOECONOMICO/SB11-2009-INSE-v1.0/SB11-INSE-2009.txt\", delimiter=\";\")"
   ]
  },
  {
   "cell_type": "code",
   "execution_count": 10,
   "metadata": {
    "collapsed": false
   },
   "outputs": [
    {
     "data": {
      "text/html": [
       "<div>\n",
       "<table border=\"1\" class=\"dataframe\">\n",
       "  <thead>\n",
       "    <tr style=\"text-align: right;\">\n",
       "      <th></th>\n",
       "      <th>ESTU_CONSECUTIVO</th>\n",
       "      <th>periodo</th>\n",
       "      <th>INSE_091</th>\n",
       "      <th>INSE_092</th>\n",
       "    </tr>\n",
       "  </thead>\n",
       "  <tbody>\n",
       "    <tr>\n",
       "      <th>0</th>\n",
       "      <td>SB20091006852</td>\n",
       "      <td>20091</td>\n",
       "      <td>82,70</td>\n",
       "      <td>NaN</td>\n",
       "    </tr>\n",
       "    <tr>\n",
       "      <th>1</th>\n",
       "      <td>SB20091016905</td>\n",
       "      <td>20091</td>\n",
       "      <td>22,80</td>\n",
       "      <td>NaN</td>\n",
       "    </tr>\n",
       "    <tr>\n",
       "      <th>2</th>\n",
       "      <td>SB20091016597</td>\n",
       "      <td>20091</td>\n",
       "      <td>36,29</td>\n",
       "      <td>NaN</td>\n",
       "    </tr>\n",
       "    <tr>\n",
       "      <th>3</th>\n",
       "      <td>SB20091016742</td>\n",
       "      <td>20091</td>\n",
       "      <td>15,24</td>\n",
       "      <td>NaN</td>\n",
       "    </tr>\n",
       "    <tr>\n",
       "      <th>4</th>\n",
       "      <td>SB20091014237</td>\n",
       "      <td>20091</td>\n",
       "      <td>38,60</td>\n",
       "      <td>NaN</td>\n",
       "    </tr>\n",
       "  </tbody>\n",
       "</table>\n",
       "</div>"
      ],
      "text/plain": [
       "  ESTU_CONSECUTIVO  periodo INSE_091 INSE_092\n",
       "0    SB20091006852    20091    82,70      NaN\n",
       "1    SB20091016905    20091    22,80      NaN\n",
       "2    SB20091016597    20091    36,29      NaN\n",
       "3    SB20091016742    20091    15,24      NaN\n",
       "4    SB20091014237    20091    38,60      NaN"
      ]
     },
     "execution_count": 10,
     "metadata": {},
     "output_type": "execute_result"
    }
   ],
   "source": [
    "INSE.head()"
   ]
  },
  {
   "cell_type": "code",
   "execution_count": 6,
   "metadata": {
    "collapsed": false
   },
   "outputs": [
    {
     "name": "stderr",
     "output_type": "stream",
     "text": [
      "/usr/local/lib/python3.4/dist-packages/IPython/core/interactiveshell.py:2902: DtypeWarning: Columns (3,4,5,19,20,60,61,62,63,64,66,67,72,74,75,80,81,82,83,84,85,86,87,88,89,90,91,92,93,94,95,96,99,100,101,115,116,148,149,150,151,152,154,155,158,160,161,180,181,183,184,189,190,195,196,199,201,202,203,204,205,206,207,208,209,210,211,212,213,214,215,216) have mixed types. Specify dtype option on import or set low_memory=False.\n",
      "  interactivity=interactivity, compiler=compiler, result=result)\n"
     ]
    }
   ],
   "source": [
    "Merge_SB11_2009_4 = pd.read_csv(\"Merge_SB11_2009.csv\", delimiter=\"|\")"
   ]
  },
  {
   "cell_type": "markdown",
   "metadata": {},
   "source": [
    "Se encuentran coincidencias entre los codigos que existen en el MERGE y en el archivo de INSE"
   ]
  },
  {
   "cell_type": "code",
   "execution_count": 11,
   "metadata": {
    "collapsed": false
   },
   "outputs": [],
   "source": [
    "Pruba = INSE.merge(Merge_SB11_2009_4, how='inner')"
   ]
  },
  {
   "cell_type": "code",
   "execution_count": 15,
   "metadata": {
    "collapsed": true
   },
   "outputs": [
    {
     "data": {
      "text/plain": [
       "ESTU_CONSECUTIVO                   SB20091016905\n",
       "periodo                                    20091\n",
       "INSE_091                                   22,80\n",
       "INSE_092                                     NaN\n",
       "Unnamed: 0                                  8629\n",
       "PERIODO_x                                  20091\n",
       "ESTU_TIPO_DOCUMENTO_x                          T\n",
       "ESTU_PAIS_RESIDE_x                            CO\n",
       "ESTU_GENERO_x                                  F\n",
       "ESTU_NACIMIENTO_DIA_x                         12\n",
       "ESTU_NACIMIENTO_MES_x                          1\n",
       "ESTU_NACIMIENTO_ANNO_x                      1993\n",
       "ESTU_EDAD_x                                   16\n",
       "ESTU_LIMITA_BAJAVISION_x                     NaN\n",
       "ESTU_LIMITA_SORDOCEGUERA_x                   NaN\n",
       "ESTU_LIMITA_COGNITIVA_x                      NaN\n",
       "ESTU_LIMITA_INVIDENTE_x                      NaN\n",
       "ESTU_LIMITA_MOTRIZ_x                         NaN\n",
       "ESTU_LIMITA_SORDOINTERPRETE_x                NaN\n",
       "ESTU_LIMITA_SORDONOINTERPRETE_x              NaN\n",
       "ESTU_ETNIA_x                                 NaN\n",
       "ESTU_COD_RESIDE_MCPIO_x                    76520\n",
       "ESTU_RESIDE_MCPIO_x                      PALMIRA\n",
       "ESTU_RESIDE_DEPTO_x                        VALLE\n",
       "ESTU_ZONA_RESIDE_x                            10\n",
       "ESTU_AREA_RESIDE_x                             1\n",
       "FAMI_EDUCA_PADRE_x                            10\n",
       "FAMI_EDUCA_MADRE_x                            10\n",
       "FAMI_OCUPA_PADRE_x                            21\n",
       "FAMI_OCUPA_MADRE_x                            22\n",
       "                                       ...      \n",
       "ESTU_POR_AMIGOSESTUDIANDO                    NaN\n",
       "ESTU_POR_COSTOMATRICULA                      NaN\n",
       "ESTU_POR_OPORTUNIDADES                       NaN\n",
       "ESTU_POR_OTRARAZON                           NaN\n",
       "ESTU_PRESTIGIOINSTITUCION                    NaN\n",
       "ESTU_POR_UBICACION                           NaN\n",
       "ESTU_POR_UNICAQUEOFRECE                      NaN\n",
       "ESTU_RETIRARSE_COLEGIO                       NaN\n",
       "ESTU_PROGRAMA_ACADEMICODESEADO               NaN\n",
       "ESTU_VECES_ESTADO_y                          NaN\n",
       "ESTU_CARRDESEADA_RAZON_y                     NaN\n",
       "ESTU_MCPIO_PRESENTACION_y                    NaN\n",
       "ESTU_COD_MCPIO_PRESENTACION_y                NaN\n",
       "ESTU_DEPTO_PRESENTACION_y                    NaN\n",
       "ESTU_EXAM_NOMBREEXAMEN_y                     NaN\n",
       "PUNT_LENGUAJE_y                              NaN\n",
       "PUNT_MATEMATICAS_y                           NaN\n",
       "PUNT_C_SOCIALES_y                            NaN\n",
       "PUNT_FILOSOFIA_y                             NaN\n",
       "PUNT_BIOLOGIA_y                              NaN\n",
       "PUNT_QUIMICA_y                               NaN\n",
       "PUNT_FISICA_y                                NaN\n",
       "PUNT_INGLES_y                                NaN\n",
       "DESEMP_INGLES_y                              NaN\n",
       "NOMBRE_PROFUNDIZACION_y                      NaN\n",
       "PUNT_PROFUNDIZACION_y                        NaN\n",
       "DESEMP_PROFUNDIZACION_y                      NaN\n",
       "NOMBRE_INTERDISCIPLINAR_y                    NaN\n",
       "PUNT_INTERDISCIPLINAR_y                      NaN\n",
       "ESTU_PUESTO_y                                NaN\n",
       "Name: 1, dtype: object"
      ]
     },
     "execution_count": 15,
     "metadata": {},
     "output_type": "execute_result"
    }
   ],
   "source": [
    "Pruba.iloc[1]"
   ]
  }
 ],
 "metadata": {
  "kernelspec": {
   "display_name": "Python 3",
   "language": "python",
   "name": "python3"
  },
  "language_info": {
   "codemirror_mode": {
    "name": "ipython",
    "version": 3
   },
   "file_extension": ".py",
   "mimetype": "text/x-python",
   "name": "python",
   "nbconvert_exporter": "python",
   "pygments_lexer": "ipython3",
   "version": "3.4.2"
  }
 },
 "nbformat": 4,
 "nbformat_minor": 2
}
