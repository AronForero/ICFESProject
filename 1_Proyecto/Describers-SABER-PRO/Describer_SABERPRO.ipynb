{
 "cells": [
  {
   "cell_type": "code",
   "execution_count": 1,
   "metadata": {
    "collapsed": true
   },
   "outputs": [],
   "source": [
    "import pandas as pd"
   ]
  },
  {
   "cell_type": "code",
   "execution_count": 2,
   "metadata": {
    "collapsed": true
   },
   "outputs": [],
   "source": [
    "%run -i ../tools/functions.py"
   ]
  },
  {
   "cell_type": "code",
   "execution_count": 3,
   "metadata": {
    "collapsed": true
   },
   "outputs": [],
   "source": [
    "SBPRO_2006_ESP = pd.read_csv(\"../DatosFTPICFES/SABERPRO/SBPRO-20061-RGSTRO-RECLFCCN-ESP.txt\", delimiter=\"|\")"
   ]
  },
  {
   "cell_type": "code",
   "execution_count": 7,
   "metadata": {
    "collapsed": false
   },
   "outputs": [
    {
     "data": {
      "text/html": [
       "<div>\n",
       "<table border=\"1\" class=\"dataframe\">\n",
       "  <thead>\n",
       "    <tr style=\"text-align: right;\">\n",
       "      <th></th>\n",
       "      <th>ESTU_CONSECUTIVO</th>\n",
       "      <th>COMP_NOMBRE</th>\n",
       "      <th>COMP_ID</th>\n",
       "      <th>CACO_PUNTAJE</th>\n",
       "      <th>CACO_DESEMPENO</th>\n",
       "      <th>CACO_PERIODO</th>\n",
       "      <th>PRUE_ID</th>\n",
       "      <th>PRUE_NOMBRE</th>\n",
       "    </tr>\n",
       "  </thead>\n",
       "  <tbody>\n",
       "    <tr>\n",
       "      <th>0</th>\n",
       "      <td>SBPRO20061001950</td>\n",
       "      <td>ESTU_PUNTAJE</td>\n",
       "      <td>0</td>\n",
       "      <td>114,69</td>\n",
       "      <td>NaN</td>\n",
       "      <td>20061</td>\n",
       "      <td>0</td>\n",
       "      <td>TECNOLÓGICO EN SISTEMAS Y AFINES</td>\n",
       "    </tr>\n",
       "    <tr>\n",
       "      <th>1</th>\n",
       "      <td>SBPRO20061001950</td>\n",
       "      <td>BASES DE DATOS</td>\n",
       "      <td>950</td>\n",
       "      <td>10,2</td>\n",
       "      <td>M</td>\n",
       "      <td>20061</td>\n",
       "      <td>153</td>\n",
       "      <td>TECNOLÓGICO EN SISTEMAS Y AFINES</td>\n",
       "    </tr>\n",
       "    <tr>\n",
       "      <th>2</th>\n",
       "      <td>SBPRO20061001950</td>\n",
       "      <td>INGENIERÍA DE SOFTWARE</td>\n",
       "      <td>951</td>\n",
       "      <td>11,2</td>\n",
       "      <td>A</td>\n",
       "      <td>20061</td>\n",
       "      <td>153</td>\n",
       "      <td>TECNOLÓGICO EN SISTEMAS Y AFINES</td>\n",
       "    </tr>\n",
       "    <tr>\n",
       "      <th>3</th>\n",
       "      <td>SBPRO20061001950</td>\n",
       "      <td>INTRODUCCIÓN A LOS COMPUTADORES</td>\n",
       "      <td>952</td>\n",
       "      <td>9,9</td>\n",
       "      <td>M</td>\n",
       "      <td>20061</td>\n",
       "      <td>153</td>\n",
       "      <td>TECNOLÓGICO EN SISTEMAS Y AFINES</td>\n",
       "    </tr>\n",
       "    <tr>\n",
       "      <th>4</th>\n",
       "      <td>SBPRO20061001950</td>\n",
       "      <td>MATEMÁTICA</td>\n",
       "      <td>953</td>\n",
       "      <td>10,5</td>\n",
       "      <td>M</td>\n",
       "      <td>20061</td>\n",
       "      <td>153</td>\n",
       "      <td>TECNOLÓGICO EN SISTEMAS Y AFINES</td>\n",
       "    </tr>\n",
       "  </tbody>\n",
       "</table>\n",
       "</div>"
      ],
      "text/plain": [
       "   ESTU_CONSECUTIVO                      COMP_NOMBRE  COMP_ID CACO_PUNTAJE  \\\n",
       "0  SBPRO20061001950                     ESTU_PUNTAJE        0       114,69   \n",
       "1  SBPRO20061001950                   BASES DE DATOS      950         10,2   \n",
       "2  SBPRO20061001950           INGENIERÍA DE SOFTWARE      951         11,2   \n",
       "3  SBPRO20061001950  INTRODUCCIÓN A LOS COMPUTADORES      952          9,9   \n",
       "4  SBPRO20061001950                       MATEMÁTICA      953         10,5   \n",
       "\n",
       "  CACO_DESEMPENO  CACO_PERIODO  PRUE_ID                       PRUE_NOMBRE  \n",
       "0            NaN         20061        0  TECNOLÓGICO EN SISTEMAS Y AFINES  \n",
       "1              M         20061      153  TECNOLÓGICO EN SISTEMAS Y AFINES  \n",
       "2              A         20061      153  TECNOLÓGICO EN SISTEMAS Y AFINES  \n",
       "3              M         20061      153  TECNOLÓGICO EN SISTEMAS Y AFINES  \n",
       "4              M         20061      153  TECNOLÓGICO EN SISTEMAS Y AFINES  "
      ]
     },
     "execution_count": 7,
     "metadata": {},
     "output_type": "execute_result"
    }
   ],
   "source": [
    "SBPRO_2006_ESP.head()"
   ]
  },
  {
   "cell_type": "code",
   "execution_count": 6,
   "metadata": {
    "collapsed": false
   },
   "outputs": [
    {
     "name": "stdout",
     "output_type": "stream",
     "text": [
      "File Shape (255531, 8)\n",
      "Columns found:  3\n",
      "None\n"
     ]
    },
    {
     "data": {
      "text/html": [
       "<div>\n",
       "<table border=\"1\" class=\"dataframe\">\n",
       "  <thead>\n",
       "    <tr style=\"text-align: right;\">\n",
       "      <th></th>\n",
       "      <th>COMP_ID</th>\n",
       "      <th>CACO_PERIODO</th>\n",
       "      <th>PRUE_ID</th>\n",
       "    </tr>\n",
       "  </thead>\n",
       "  <tbody>\n",
       "    <tr>\n",
       "      <th>count</th>\n",
       "      <td>255531.000000</td>\n",
       "      <td>255531</td>\n",
       "      <td>255531.000000</td>\n",
       "    </tr>\n",
       "    <tr>\n",
       "      <th>mean</th>\n",
       "      <td>623.484677</td>\n",
       "      <td>20061</td>\n",
       "      <td>74.504796</td>\n",
       "    </tr>\n",
       "    <tr>\n",
       "      <th>std</th>\n",
       "      <td>391.690302</td>\n",
       "      <td>0</td>\n",
       "      <td>94.590870</td>\n",
       "    </tr>\n",
       "    <tr>\n",
       "      <th>min</th>\n",
       "      <td>0.000000</td>\n",
       "      <td>20061</td>\n",
       "      <td>0.000000</td>\n",
       "    </tr>\n",
       "    <tr>\n",
       "      <th>25%</th>\n",
       "      <td>535.000000</td>\n",
       "      <td>20061</td>\n",
       "      <td>4.000000</td>\n",
       "    </tr>\n",
       "    <tr>\n",
       "      <th>50%</th>\n",
       "      <td>589.000000</td>\n",
       "      <td>20061</td>\n",
       "      <td>39.000000</td>\n",
       "    </tr>\n",
       "    <tr>\n",
       "      <th>75%</th>\n",
       "      <td>861.000000</td>\n",
       "      <td>20061</td>\n",
       "      <td>42.000000</td>\n",
       "    </tr>\n",
       "    <tr>\n",
       "      <th>max</th>\n",
       "      <td>1312.000000</td>\n",
       "      <td>20061</td>\n",
       "      <td>288.000000</td>\n",
       "    </tr>\n",
       "  </tbody>\n",
       "</table>\n",
       "</div>"
      ],
      "text/plain": [
       "             COMP_ID  CACO_PERIODO        PRUE_ID\n",
       "count  255531.000000        255531  255531.000000\n",
       "mean      623.484677         20061      74.504796\n",
       "std       391.690302             0      94.590870\n",
       "min         0.000000         20061       0.000000\n",
       "25%       535.000000         20061       4.000000\n",
       "50%       589.000000         20061      39.000000\n",
       "75%       861.000000         20061      42.000000\n",
       "max      1312.000000         20061     288.000000"
      ]
     },
     "execution_count": 6,
     "metadata": {},
     "output_type": "execute_result"
    }
   ],
   "source": [
    "print(\"File Shape\", SBPRO_2006_ESP.shape)\n",
    "print(shape_cols(SBPRO_2006_ESP))\n",
    "SBPRO_2006_ESP.describe()"
   ]
  },
  {
   "cell_type": "code",
   "execution_count": null,
   "metadata": {
    "collapsed": true
   },
   "outputs": [],
   "source": []
  },
  {
   "cell_type": "code",
   "execution_count": null,
   "metadata": {
    "collapsed": true
   },
   "outputs": [],
   "source": []
  },
  {
   "cell_type": "code",
   "execution_count": null,
   "metadata": {
    "collapsed": true
   },
   "outputs": [],
   "source": []
  }
 ],
 "metadata": {
  "kernelspec": {
   "display_name": "Python 3",
   "language": "python",
   "name": "python3"
  },
  "language_info": {
   "codemirror_mode": {
    "name": "ipython",
    "version": 3
   },
   "file_extension": ".py",
   "mimetype": "text/x-python",
   "name": "python",
   "nbconvert_exporter": "python",
   "pygments_lexer": "ipython3",
   "version": "3.4.2"
  }
 },
 "nbformat": 4,
 "nbformat_minor": 0
}
