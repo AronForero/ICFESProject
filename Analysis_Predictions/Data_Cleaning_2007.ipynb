{
 "cells": [
  {
   "cell_type": "code",
   "execution_count": 2,
   "metadata": {
    "collapsed": true
   },
   "outputs": [],
   "source": [
    "import pandas as pd\n",
    "import numpy as np\n",
    "%run -i ../tools/functions.py\n",
    "%run -i ../tools/label_encoder.py"
   ]
  },
  {
   "cell_type": "code",
   "execution_count": 2,
   "metadata": {},
   "outputs": [],
   "source": [
    "data_2007 = pd.read_csv('../DatosFTPICFES/SABER11/SB11-BASES_DE_DATOS/SB11-20071-RGSTRO-CLFCCN-V1-0.txt', delimiter = '|')"
   ]
  },
  {
   "cell_type": "code",
   "execution_count": 3,
   "metadata": {},
   "outputs": [
    {
     "data": {
      "text/plain": [
       "(69301, 84)"
      ]
     },
     "execution_count": 3,
     "metadata": {},
     "output_type": "execute_result"
    }
   ],
   "source": [
    "data_2007.shape"
   ]
  },
  {
   "cell_type": "code",
   "execution_count": 4,
   "metadata": {
    "scrolled": true
   },
   "outputs": [
    {
     "data": {
      "text/html": [
       "<div>\n",
       "<style>\n",
       "    .dataframe thead tr:only-child th {\n",
       "        text-align: right;\n",
       "    }\n",
       "\n",
       "    .dataframe thead th {\n",
       "        text-align: left;\n",
       "    }\n",
       "\n",
       "    .dataframe tbody tr th {\n",
       "        vertical-align: top;\n",
       "    }\n",
       "</style>\n",
       "<table border=\"1\" class=\"dataframe\">\n",
       "  <thead>\n",
       "    <tr style=\"text-align: right;\">\n",
       "      <th></th>\n",
       "      <th>0</th>\n",
       "      <th>1</th>\n",
       "      <th>2</th>\n",
       "    </tr>\n",
       "  </thead>\n",
       "  <tbody>\n",
       "    <tr>\n",
       "      <th>ESTU_CONSECUTIVO</th>\n",
       "      <td>SB11200710000001</td>\n",
       "      <td>SB11200710000002</td>\n",
       "      <td>SB11200710000003</td>\n",
       "    </tr>\n",
       "    <tr>\n",
       "      <th>PERIODO</th>\n",
       "      <td>20071</td>\n",
       "      <td>20071</td>\n",
       "      <td>20071</td>\n",
       "    </tr>\n",
       "    <tr>\n",
       "      <th>ESTU_TIPO_DOCUMENTO</th>\n",
       "      <td>T</td>\n",
       "      <td>T</td>\n",
       "      <td>T</td>\n",
       "    </tr>\n",
       "    <tr>\n",
       "      <th>ESTU_PAIS_RESIDE</th>\n",
       "      <td>CO</td>\n",
       "      <td>CO</td>\n",
       "      <td>CO</td>\n",
       "    </tr>\n",
       "    <tr>\n",
       "      <th>ESTU_GENERO</th>\n",
       "      <td>F</td>\n",
       "      <td>M</td>\n",
       "      <td>F</td>\n",
       "    </tr>\n",
       "    <tr>\n",
       "      <th>ESTU_NACIMIENTO_DIA</th>\n",
       "      <td>22</td>\n",
       "      <td>19</td>\n",
       "      <td>21</td>\n",
       "    </tr>\n",
       "    <tr>\n",
       "      <th>ESTU_NACIMIENTO_MES</th>\n",
       "      <td>2</td>\n",
       "      <td>5</td>\n",
       "      <td>10</td>\n",
       "    </tr>\n",
       "    <tr>\n",
       "      <th>ESTU_NACIMIENTO_ANNO</th>\n",
       "      <td>1991</td>\n",
       "      <td>1994</td>\n",
       "      <td>1990</td>\n",
       "    </tr>\n",
       "    <tr>\n",
       "      <th>ESTU_EDAD</th>\n",
       "      <td>16</td>\n",
       "      <td>12</td>\n",
       "      <td>16</td>\n",
       "    </tr>\n",
       "    <tr>\n",
       "      <th>ESTU_LIMITA_BAJAVISION</th>\n",
       "      <td>NaN</td>\n",
       "      <td>NaN</td>\n",
       "      <td>NaN</td>\n",
       "    </tr>\n",
       "    <tr>\n",
       "      <th>ESTU_LIMITA_SORDOCEGUERA</th>\n",
       "      <td>NaN</td>\n",
       "      <td>NaN</td>\n",
       "      <td>NaN</td>\n",
       "    </tr>\n",
       "    <tr>\n",
       "      <th>ESTU_LIMITA_COGNITIVA</th>\n",
       "      <td>NaN</td>\n",
       "      <td>NaN</td>\n",
       "      <td>NaN</td>\n",
       "    </tr>\n",
       "    <tr>\n",
       "      <th>ESTU_LIMITA_INVIDENTE</th>\n",
       "      <td>NaN</td>\n",
       "      <td>NaN</td>\n",
       "      <td>NaN</td>\n",
       "    </tr>\n",
       "    <tr>\n",
       "      <th>ESTU_LIMITA_MOTRIZ</th>\n",
       "      <td>NaN</td>\n",
       "      <td>NaN</td>\n",
       "      <td>NaN</td>\n",
       "    </tr>\n",
       "    <tr>\n",
       "      <th>ESTU_LIMITA_SORDOINTERPRETE</th>\n",
       "      <td>NaN</td>\n",
       "      <td>NaN</td>\n",
       "      <td>NaN</td>\n",
       "    </tr>\n",
       "    <tr>\n",
       "      <th>ESTU_LIMITA_SORDONOINTERPRETE</th>\n",
       "      <td>NaN</td>\n",
       "      <td>NaN</td>\n",
       "      <td>NaN</td>\n",
       "    </tr>\n",
       "    <tr>\n",
       "      <th>ESTU_COD_RESIDE_MCPIO</th>\n",
       "      <td>76122</td>\n",
       "      <td>76122</td>\n",
       "      <td>76122</td>\n",
       "    </tr>\n",
       "    <tr>\n",
       "      <th>ESTU_RESIDE_MCPIO</th>\n",
       "      <td>CAICEDONIA</td>\n",
       "      <td>CAICEDONIA</td>\n",
       "      <td>CAICEDONIA</td>\n",
       "    </tr>\n",
       "    <tr>\n",
       "      <th>ESTU_RESIDE_DEPTO</th>\n",
       "      <td>VALLE</td>\n",
       "      <td>VALLE</td>\n",
       "      <td>VALLE</td>\n",
       "    </tr>\n",
       "    <tr>\n",
       "      <th>ESTU_ZONA_RESIDE</th>\n",
       "      <td>10</td>\n",
       "      <td>10</td>\n",
       "      <td>10</td>\n",
       "    </tr>\n",
       "    <tr>\n",
       "      <th>ESTU_AREA_RESIDE</th>\n",
       "      <td>NaN</td>\n",
       "      <td>NaN</td>\n",
       "      <td>NaN</td>\n",
       "    </tr>\n",
       "    <tr>\n",
       "      <th>ESTU_COD_MCPIO_PRESENTACION</th>\n",
       "      <td>76122</td>\n",
       "      <td>76122</td>\n",
       "      <td>76122</td>\n",
       "    </tr>\n",
       "    <tr>\n",
       "      <th>ESTU_MCPIO_PRESENTACION</th>\n",
       "      <td>CAICEDONIA</td>\n",
       "      <td>CAICEDONIA</td>\n",
       "      <td>CAICEDONIA</td>\n",
       "    </tr>\n",
       "    <tr>\n",
       "      <th>ESTU_DEPTO_PRESENTACION</th>\n",
       "      <td>VALLE</td>\n",
       "      <td>VALLE</td>\n",
       "      <td>VALLE</td>\n",
       "    </tr>\n",
       "    <tr>\n",
       "      <th>ESTU_EXAM_NOMBREEXAMEN</th>\n",
       "      <td>EXAMEN DE ESTADO 2007-1</td>\n",
       "      <td>EXAMEN DE ESTADO 2007-1</td>\n",
       "      <td>EXAMEN DE ESTADO 2007-1</td>\n",
       "    </tr>\n",
       "    <tr>\n",
       "      <th>IND_ESTUDIO_BACHILLERATO</th>\n",
       "      <td>1</td>\n",
       "      <td>1</td>\n",
       "      <td>1</td>\n",
       "    </tr>\n",
       "    <tr>\n",
       "      <th>IND_ANNO_TERMINO_BACHILLERATO</th>\n",
       "      <td>2007</td>\n",
       "      <td>2007</td>\n",
       "      <td>2007</td>\n",
       "    </tr>\n",
       "    <tr>\n",
       "      <th>IND_TERMINO_BACHILLERATO</th>\n",
       "      <td>NaN</td>\n",
       "      <td>NaN</td>\n",
       "      <td>NaN</td>\n",
       "    </tr>\n",
       "    <tr>\n",
       "      <th>IND_COD_ICFES_TERMINO</th>\n",
       "      <td>18226</td>\n",
       "      <td>18226</td>\n",
       "      <td>18226</td>\n",
       "    </tr>\n",
       "    <tr>\n",
       "      <th>COLE_COD_ICFES</th>\n",
       "      <td>18226</td>\n",
       "      <td>18226</td>\n",
       "      <td>18226</td>\n",
       "    </tr>\n",
       "    <tr>\n",
       "      <th>...</th>\n",
       "      <td>...</td>\n",
       "      <td>...</td>\n",
       "      <td>...</td>\n",
       "    </tr>\n",
       "    <tr>\n",
       "      <th>FAMI_COMPUTADOR</th>\n",
       "      <td>NaN</td>\n",
       "      <td>NaN</td>\n",
       "      <td>NaN</td>\n",
       "    </tr>\n",
       "    <tr>\n",
       "      <th>FAMI_INGRESO_FMILIAR_MENSUAL</th>\n",
       "      <td>NaN</td>\n",
       "      <td>NaN</td>\n",
       "      <td>NaN</td>\n",
       "    </tr>\n",
       "    <tr>\n",
       "      <th>ESTU_TRABAJA</th>\n",
       "      <td>NaN</td>\n",
       "      <td>NaN</td>\n",
       "      <td>NaN</td>\n",
       "    </tr>\n",
       "    <tr>\n",
       "      <th>ESTU_HORAS_TRABAJA</th>\n",
       "      <td>NaN</td>\n",
       "      <td>NaN</td>\n",
       "      <td>NaN</td>\n",
       "    </tr>\n",
       "    <tr>\n",
       "      <th>COLE_VALOR_PENSION</th>\n",
       "      <td>0</td>\n",
       "      <td>0</td>\n",
       "      <td>0</td>\n",
       "    </tr>\n",
       "    <tr>\n",
       "      <th>ESTU_CARRDESEADA_TIPO</th>\n",
       "      <td>NaN</td>\n",
       "      <td>NaN</td>\n",
       "      <td>NaN</td>\n",
       "    </tr>\n",
       "    <tr>\n",
       "      <th>ESTU_CARRDESEADA_NUCLEO</th>\n",
       "      <td>NaN</td>\n",
       "      <td>NaN</td>\n",
       "      <td>NaN</td>\n",
       "    </tr>\n",
       "    <tr>\n",
       "      <th>ESTU_IES_COD_DESEADA</th>\n",
       "      <td>1805</td>\n",
       "      <td>1208</td>\n",
       "      <td>NaN</td>\n",
       "    </tr>\n",
       "    <tr>\n",
       "      <th>ESTU_IES_DESEADA_NOMBRE</th>\n",
       "      <td>UNIVERSIDAD SANTIAGO DE CALI</td>\n",
       "      <td>UNIVERSIDAD DEL QUINDIO</td>\n",
       "      <td>NaN</td>\n",
       "    </tr>\n",
       "    <tr>\n",
       "      <th>ESTU_IES_COD_MPIO_DESEADA</th>\n",
       "      <td>76001</td>\n",
       "      <td>63001</td>\n",
       "      <td>NaN</td>\n",
       "    </tr>\n",
       "    <tr>\n",
       "      <th>ESTU_IES_MPIO_DESEADA</th>\n",
       "      <td>CALI</td>\n",
       "      <td>ARMENIA</td>\n",
       "      <td>NaN</td>\n",
       "    </tr>\n",
       "    <tr>\n",
       "      <th>ESTU_IES_DEPT_DESEADA</th>\n",
       "      <td>VALLE</td>\n",
       "      <td>QUINDÍO</td>\n",
       "      <td>NaN</td>\n",
       "    </tr>\n",
       "    <tr>\n",
       "      <th>ESTU_RAZONINSTITUTO</th>\n",
       "      <td>8</td>\n",
       "      <td>7</td>\n",
       "      <td>NaN</td>\n",
       "    </tr>\n",
       "    <tr>\n",
       "      <th>ESTU_CARRDESEADA_COD</th>\n",
       "      <td>16268</td>\n",
       "      <td>12411</td>\n",
       "      <td>NaN</td>\n",
       "    </tr>\n",
       "    <tr>\n",
       "      <th>ESTU_CARRDESEADA_RAZON</th>\n",
       "      <td>2</td>\n",
       "      <td>2</td>\n",
       "      <td>NaN</td>\n",
       "    </tr>\n",
       "    <tr>\n",
       "      <th>PUNT_LENGUAJE</th>\n",
       "      <td>46,31</td>\n",
       "      <td>56,32</td>\n",
       "      <td>52,33</td>\n",
       "    </tr>\n",
       "    <tr>\n",
       "      <th>PUNT_MATEMATICAS</th>\n",
       "      <td>37,74</td>\n",
       "      <td>59,27</td>\n",
       "      <td>41,17</td>\n",
       "    </tr>\n",
       "    <tr>\n",
       "      <th>PUNT_C_SOCIALES</th>\n",
       "      <td>48,89</td>\n",
       "      <td>58,98</td>\n",
       "      <td>48,89</td>\n",
       "    </tr>\n",
       "    <tr>\n",
       "      <th>PUNT_FILOSOFIA</th>\n",
       "      <td>41,41</td>\n",
       "      <td>43,87</td>\n",
       "      <td>57,8</td>\n",
       "    </tr>\n",
       "    <tr>\n",
       "      <th>PUNT_BIOLOGIA</th>\n",
       "      <td>40,38</td>\n",
       "      <td>53,91</td>\n",
       "      <td>52,12</td>\n",
       "    </tr>\n",
       "    <tr>\n",
       "      <th>PUNT_QUIMICA</th>\n",
       "      <td>38,8</td>\n",
       "      <td>52,17</td>\n",
       "      <td>34,53</td>\n",
       "    </tr>\n",
       "    <tr>\n",
       "      <th>PUNT_FISICA</th>\n",
       "      <td>46,28</td>\n",
       "      <td>33,79</td>\n",
       "      <td>23,28</td>\n",
       "    </tr>\n",
       "    <tr>\n",
       "      <th>PUNT_INGLES</th>\n",
       "      <td>38,66</td>\n",
       "      <td>42,76</td>\n",
       "      <td>40,78</td>\n",
       "    </tr>\n",
       "    <tr>\n",
       "      <th>DESEMP_INGLES</th>\n",
       "      <td>NaN</td>\n",
       "      <td>NaN</td>\n",
       "      <td>NaN</td>\n",
       "    </tr>\n",
       "    <tr>\n",
       "      <th>NOMBRE_PROFUNDIZACION</th>\n",
       "      <td>PROFUNDIZACIÓN EN LENGUAJE</td>\n",
       "      <td>PROFUNDIZACIÓN EN MATEMÁTICA</td>\n",
       "      <td>PROFUNDIZACIÓN EN BIOLOGÍA</td>\n",
       "    </tr>\n",
       "    <tr>\n",
       "      <th>PUNT_PROFUNDIZACION</th>\n",
       "      <td>4,89</td>\n",
       "      <td>5,74</td>\n",
       "      <td>5,53</td>\n",
       "    </tr>\n",
       "    <tr>\n",
       "      <th>DESEMP_PROFUNDIZACION</th>\n",
       "      <td>I</td>\n",
       "      <td>II</td>\n",
       "      <td>I</td>\n",
       "    </tr>\n",
       "    <tr>\n",
       "      <th>NOMBRE_INTERDISCIPLINAR</th>\n",
       "      <td>VIOLENCIA Y SOCIEDAD</td>\n",
       "      <td>VIOLENCIA Y SOCIEDAD</td>\n",
       "      <td>VIOLENCIA Y SOCIEDAD</td>\n",
       "    </tr>\n",
       "    <tr>\n",
       "      <th>PUNT_INTERDISCIPLINAR</th>\n",
       "      <td>46,46</td>\n",
       "      <td>46,46</td>\n",
       "      <td>46,46</td>\n",
       "    </tr>\n",
       "    <tr>\n",
       "      <th>ESTU_PUESTO</th>\n",
       "      <td>695</td>\n",
       "      <td>183</td>\n",
       "      <td>577</td>\n",
       "    </tr>\n",
       "  </tbody>\n",
       "</table>\n",
       "<p>84 rows × 3 columns</p>\n",
       "</div>"
      ],
      "text/plain": [
       "                                                          0  \\\n",
       "ESTU_CONSECUTIVO                           SB11200710000001   \n",
       "PERIODO                                               20071   \n",
       "ESTU_TIPO_DOCUMENTO                                       T   \n",
       "ESTU_PAIS_RESIDE                                         CO   \n",
       "ESTU_GENERO                                               F   \n",
       "ESTU_NACIMIENTO_DIA                                      22   \n",
       "ESTU_NACIMIENTO_MES                                       2   \n",
       "ESTU_NACIMIENTO_ANNO                                   1991   \n",
       "ESTU_EDAD                                                16   \n",
       "ESTU_LIMITA_BAJAVISION                                  NaN   \n",
       "ESTU_LIMITA_SORDOCEGUERA                                NaN   \n",
       "ESTU_LIMITA_COGNITIVA                                   NaN   \n",
       "ESTU_LIMITA_INVIDENTE                                   NaN   \n",
       "ESTU_LIMITA_MOTRIZ                                      NaN   \n",
       "ESTU_LIMITA_SORDOINTERPRETE                             NaN   \n",
       "ESTU_LIMITA_SORDONOINTERPRETE                           NaN   \n",
       "ESTU_COD_RESIDE_MCPIO                                 76122   \n",
       "ESTU_RESIDE_MCPIO                                CAICEDONIA   \n",
       "ESTU_RESIDE_DEPTO                                     VALLE   \n",
       "ESTU_ZONA_RESIDE                                         10   \n",
       "ESTU_AREA_RESIDE                                        NaN   \n",
       "ESTU_COD_MCPIO_PRESENTACION                           76122   \n",
       "ESTU_MCPIO_PRESENTACION                          CAICEDONIA   \n",
       "ESTU_DEPTO_PRESENTACION                               VALLE   \n",
       "ESTU_EXAM_NOMBREEXAMEN              EXAMEN DE ESTADO 2007-1   \n",
       "IND_ESTUDIO_BACHILLERATO                                  1   \n",
       "IND_ANNO_TERMINO_BACHILLERATO                          2007   \n",
       "IND_TERMINO_BACHILLERATO                                NaN   \n",
       "IND_COD_ICFES_TERMINO                                 18226   \n",
       "COLE_COD_ICFES                                        18226   \n",
       "...                                                     ...   \n",
       "FAMI_COMPUTADOR                                         NaN   \n",
       "FAMI_INGRESO_FMILIAR_MENSUAL                            NaN   \n",
       "ESTU_TRABAJA                                            NaN   \n",
       "ESTU_HORAS_TRABAJA                                      NaN   \n",
       "COLE_VALOR_PENSION                                        0   \n",
       "ESTU_CARRDESEADA_TIPO                                   NaN   \n",
       "ESTU_CARRDESEADA_NUCLEO                                 NaN   \n",
       "ESTU_IES_COD_DESEADA                                   1805   \n",
       "ESTU_IES_DESEADA_NOMBRE        UNIVERSIDAD SANTIAGO DE CALI   \n",
       "ESTU_IES_COD_MPIO_DESEADA                             76001   \n",
       "ESTU_IES_MPIO_DESEADA                                  CALI   \n",
       "ESTU_IES_DEPT_DESEADA                                 VALLE   \n",
       "ESTU_RAZONINSTITUTO                                       8   \n",
       "ESTU_CARRDESEADA_COD                                  16268   \n",
       "ESTU_CARRDESEADA_RAZON                                    2   \n",
       "PUNT_LENGUAJE                                         46,31   \n",
       "PUNT_MATEMATICAS                                      37,74   \n",
       "PUNT_C_SOCIALES                                       48,89   \n",
       "PUNT_FILOSOFIA                                        41,41   \n",
       "PUNT_BIOLOGIA                                         40,38   \n",
       "PUNT_QUIMICA                                           38,8   \n",
       "PUNT_FISICA                                           46,28   \n",
       "PUNT_INGLES                                           38,66   \n",
       "DESEMP_INGLES                                           NaN   \n",
       "NOMBRE_PROFUNDIZACION            PROFUNDIZACIÓN EN LENGUAJE   \n",
       "PUNT_PROFUNDIZACION                                    4,89   \n",
       "DESEMP_PROFUNDIZACION                                     I   \n",
       "NOMBRE_INTERDISCIPLINAR                VIOLENCIA Y SOCIEDAD   \n",
       "PUNT_INTERDISCIPLINAR                                 46,46   \n",
       "ESTU_PUESTO                                             695   \n",
       "\n",
       "                                                          1  \\\n",
       "ESTU_CONSECUTIVO                           SB11200710000002   \n",
       "PERIODO                                               20071   \n",
       "ESTU_TIPO_DOCUMENTO                                       T   \n",
       "ESTU_PAIS_RESIDE                                         CO   \n",
       "ESTU_GENERO                                               M   \n",
       "ESTU_NACIMIENTO_DIA                                      19   \n",
       "ESTU_NACIMIENTO_MES                                       5   \n",
       "ESTU_NACIMIENTO_ANNO                                   1994   \n",
       "ESTU_EDAD                                                12   \n",
       "ESTU_LIMITA_BAJAVISION                                  NaN   \n",
       "ESTU_LIMITA_SORDOCEGUERA                                NaN   \n",
       "ESTU_LIMITA_COGNITIVA                                   NaN   \n",
       "ESTU_LIMITA_INVIDENTE                                   NaN   \n",
       "ESTU_LIMITA_MOTRIZ                                      NaN   \n",
       "ESTU_LIMITA_SORDOINTERPRETE                             NaN   \n",
       "ESTU_LIMITA_SORDONOINTERPRETE                           NaN   \n",
       "ESTU_COD_RESIDE_MCPIO                                 76122   \n",
       "ESTU_RESIDE_MCPIO                                CAICEDONIA   \n",
       "ESTU_RESIDE_DEPTO                                     VALLE   \n",
       "ESTU_ZONA_RESIDE                                         10   \n",
       "ESTU_AREA_RESIDE                                        NaN   \n",
       "ESTU_COD_MCPIO_PRESENTACION                           76122   \n",
       "ESTU_MCPIO_PRESENTACION                          CAICEDONIA   \n",
       "ESTU_DEPTO_PRESENTACION                               VALLE   \n",
       "ESTU_EXAM_NOMBREEXAMEN              EXAMEN DE ESTADO 2007-1   \n",
       "IND_ESTUDIO_BACHILLERATO                                  1   \n",
       "IND_ANNO_TERMINO_BACHILLERATO                          2007   \n",
       "IND_TERMINO_BACHILLERATO                                NaN   \n",
       "IND_COD_ICFES_TERMINO                                 18226   \n",
       "COLE_COD_ICFES                                        18226   \n",
       "...                                                     ...   \n",
       "FAMI_COMPUTADOR                                         NaN   \n",
       "FAMI_INGRESO_FMILIAR_MENSUAL                            NaN   \n",
       "ESTU_TRABAJA                                            NaN   \n",
       "ESTU_HORAS_TRABAJA                                      NaN   \n",
       "COLE_VALOR_PENSION                                        0   \n",
       "ESTU_CARRDESEADA_TIPO                                   NaN   \n",
       "ESTU_CARRDESEADA_NUCLEO                                 NaN   \n",
       "ESTU_IES_COD_DESEADA                                   1208   \n",
       "ESTU_IES_DESEADA_NOMBRE             UNIVERSIDAD DEL QUINDIO   \n",
       "ESTU_IES_COD_MPIO_DESEADA                             63001   \n",
       "ESTU_IES_MPIO_DESEADA                               ARMENIA   \n",
       "ESTU_IES_DEPT_DESEADA                               QUINDÍO   \n",
       "ESTU_RAZONINSTITUTO                                       7   \n",
       "ESTU_CARRDESEADA_COD                                  12411   \n",
       "ESTU_CARRDESEADA_RAZON                                    2   \n",
       "PUNT_LENGUAJE                                         56,32   \n",
       "PUNT_MATEMATICAS                                      59,27   \n",
       "PUNT_C_SOCIALES                                       58,98   \n",
       "PUNT_FILOSOFIA                                        43,87   \n",
       "PUNT_BIOLOGIA                                         53,91   \n",
       "PUNT_QUIMICA                                          52,17   \n",
       "PUNT_FISICA                                           33,79   \n",
       "PUNT_INGLES                                           42,76   \n",
       "DESEMP_INGLES                                           NaN   \n",
       "NOMBRE_PROFUNDIZACION          PROFUNDIZACIÓN EN MATEMÁTICA   \n",
       "PUNT_PROFUNDIZACION                                    5,74   \n",
       "DESEMP_PROFUNDIZACION                                    II   \n",
       "NOMBRE_INTERDISCIPLINAR                VIOLENCIA Y SOCIEDAD   \n",
       "PUNT_INTERDISCIPLINAR                                 46,46   \n",
       "ESTU_PUESTO                                             183   \n",
       "\n",
       "                                                        2  \n",
       "ESTU_CONSECUTIVO                         SB11200710000003  \n",
       "PERIODO                                             20071  \n",
       "ESTU_TIPO_DOCUMENTO                                     T  \n",
       "ESTU_PAIS_RESIDE                                       CO  \n",
       "ESTU_GENERO                                             F  \n",
       "ESTU_NACIMIENTO_DIA                                    21  \n",
       "ESTU_NACIMIENTO_MES                                    10  \n",
       "ESTU_NACIMIENTO_ANNO                                 1990  \n",
       "ESTU_EDAD                                              16  \n",
       "ESTU_LIMITA_BAJAVISION                                NaN  \n",
       "ESTU_LIMITA_SORDOCEGUERA                              NaN  \n",
       "ESTU_LIMITA_COGNITIVA                                 NaN  \n",
       "ESTU_LIMITA_INVIDENTE                                 NaN  \n",
       "ESTU_LIMITA_MOTRIZ                                    NaN  \n",
       "ESTU_LIMITA_SORDOINTERPRETE                           NaN  \n",
       "ESTU_LIMITA_SORDONOINTERPRETE                         NaN  \n",
       "ESTU_COD_RESIDE_MCPIO                               76122  \n",
       "ESTU_RESIDE_MCPIO                              CAICEDONIA  \n",
       "ESTU_RESIDE_DEPTO                                   VALLE  \n",
       "ESTU_ZONA_RESIDE                                       10  \n",
       "ESTU_AREA_RESIDE                                      NaN  \n",
       "ESTU_COD_MCPIO_PRESENTACION                         76122  \n",
       "ESTU_MCPIO_PRESENTACION                        CAICEDONIA  \n",
       "ESTU_DEPTO_PRESENTACION                             VALLE  \n",
       "ESTU_EXAM_NOMBREEXAMEN            EXAMEN DE ESTADO 2007-1  \n",
       "IND_ESTUDIO_BACHILLERATO                                1  \n",
       "IND_ANNO_TERMINO_BACHILLERATO                        2007  \n",
       "IND_TERMINO_BACHILLERATO                              NaN  \n",
       "IND_COD_ICFES_TERMINO                               18226  \n",
       "COLE_COD_ICFES                                      18226  \n",
       "...                                                   ...  \n",
       "FAMI_COMPUTADOR                                       NaN  \n",
       "FAMI_INGRESO_FMILIAR_MENSUAL                          NaN  \n",
       "ESTU_TRABAJA                                          NaN  \n",
       "ESTU_HORAS_TRABAJA                                    NaN  \n",
       "COLE_VALOR_PENSION                                      0  \n",
       "ESTU_CARRDESEADA_TIPO                                 NaN  \n",
       "ESTU_CARRDESEADA_NUCLEO                               NaN  \n",
       "ESTU_IES_COD_DESEADA                                  NaN  \n",
       "ESTU_IES_DESEADA_NOMBRE                               NaN  \n",
       "ESTU_IES_COD_MPIO_DESEADA                             NaN  \n",
       "ESTU_IES_MPIO_DESEADA                                 NaN  \n",
       "ESTU_IES_DEPT_DESEADA                                 NaN  \n",
       "ESTU_RAZONINSTITUTO                                   NaN  \n",
       "ESTU_CARRDESEADA_COD                                  NaN  \n",
       "ESTU_CARRDESEADA_RAZON                                NaN  \n",
       "PUNT_LENGUAJE                                       52,33  \n",
       "PUNT_MATEMATICAS                                    41,17  \n",
       "PUNT_C_SOCIALES                                     48,89  \n",
       "PUNT_FILOSOFIA                                       57,8  \n",
       "PUNT_BIOLOGIA                                       52,12  \n",
       "PUNT_QUIMICA                                        34,53  \n",
       "PUNT_FISICA                                         23,28  \n",
       "PUNT_INGLES                                         40,78  \n",
       "DESEMP_INGLES                                         NaN  \n",
       "NOMBRE_PROFUNDIZACION          PROFUNDIZACIÓN EN BIOLOGÍA  \n",
       "PUNT_PROFUNDIZACION                                  5,53  \n",
       "DESEMP_PROFUNDIZACION                                   I  \n",
       "NOMBRE_INTERDISCIPLINAR              VIOLENCIA Y SOCIEDAD  \n",
       "PUNT_INTERDISCIPLINAR                               46,46  \n",
       "ESTU_PUESTO                                           577  \n",
       "\n",
       "[84 rows x 3 columns]"
      ]
     },
     "execution_count": 4,
     "metadata": {},
     "output_type": "execute_result"
    }
   ],
   "source": [
    "data_2007.head(3).T"
   ]
  },
  {
   "cell_type": "code",
   "execution_count": 5,
   "metadata": {
    "collapsed": true
   },
   "outputs": [],
   "source": [
    "data_2007 = data_2007.drop(['ESTU_CONSECUTIVO', 'PERIODO', 'ESTU_TIPO_DOCUMENTO', 'ESTU_COD_RESIDE_MCPIO', \n",
    "                            'ESTU_COD_MCPIO_PRESENTACION'], axis=1)"
   ]
  },
  {
   "cell_type": "code",
   "execution_count": 6,
   "metadata": {
    "scrolled": true
   },
   "outputs": [
    {
     "name": "stdout",
     "output_type": "stream",
     "text": [
      "Index(['BE', 'BR', 'CN', 'CO', 'CU', 'DE', 'DO', 'EC', 'ES', 'FM', 'JO', 'KP',\n",
      "       'LB', 'MA', 'PA', 'RU', 'US', 'VE'],\n",
      "      dtype='object')\n",
      "BE        1\n",
      "BR        1\n",
      "CN        2\n",
      "CO    69214\n",
      "CU        1\n",
      "DE        2\n",
      "DO        2\n",
      "EC        4\n",
      "ES        3\n",
      "FM        1\n",
      "JO        1\n",
      "KP        1\n",
      "LB        1\n",
      "MA        1\n",
      "PA        2\n",
      "RU        1\n",
      "US       12\n",
      "VE        3\n",
      "Name: ESTU_PAIS_RESIDE, dtype: int64\n",
      "Elementos null/NaN 48\n",
      "__________________\n",
      "Elementos diferentes de null/NaN: 69253\n",
      "__________________\n",
      "(69253,)\n",
      "None\n"
     ]
    }
   ],
   "source": [
    "c = 'ESTU_PAIS_RESIDE'\n",
    "print(data_2007[c].value_counts().sort_index().index)\n",
    "print(data_2007[c].value_counts().sort_index())\n",
    "print(missing_data(data_2007[c]))"
   ]
  },
  {
   "cell_type": "code",
   "execution_count": 7,
   "metadata": {},
   "outputs": [
    {
     "name": "stdout",
     "output_type": "stream",
     "text": [
      "cant null antes: 48\n",
      "cant null despues: 0\n"
     ]
    }
   ],
   "source": [
    "Do_resamples(data_2007, 'ESTU_PAIS_RESIDE', str)"
   ]
  },
  {
   "cell_type": "code",
   "execution_count": 8,
   "metadata": {},
   "outputs": [
    {
     "name": "stdout",
     "output_type": "stream",
     "text": [
      "Index(['F', 'M'], dtype='object')\n",
      "F    37314\n",
      "M    31964\n",
      "Name: ESTU_GENERO, dtype: int64\n",
      "Elementos null/NaN 23\n",
      "__________________\n",
      "Elementos diferentes de null/NaN: 69278\n",
      "__________________\n",
      "(69278,)\n",
      "None\n"
     ]
    }
   ],
   "source": [
    "c = 'ESTU_GENERO'\n",
    "print(data_2007[c].value_counts().sort_index().index)\n",
    "print(data_2007[c].value_counts().sort_index())\n",
    "print(missing_data(data_2007[c]))"
   ]
  },
  {
   "cell_type": "code",
   "execution_count": 9,
   "metadata": {},
   "outputs": [
    {
     "name": "stdout",
     "output_type": "stream",
     "text": [
      "cant null antes: 23\n",
      "cant null despues: 0\n"
     ]
    }
   ],
   "source": [
    "Do_resamples(data_2007, 'ESTU_GENERO', str)"
   ]
  },
  {
   "cell_type": "code",
   "execution_count": 10,
   "metadata": {
    "scrolled": true
   },
   "outputs": [
    {
     "name": "stdout",
     "output_type": "stream",
     "text": [
      "Float64Index([ 1.0,  2.0,  3.0,  4.0,  5.0,  6.0,  7.0,  8.0,  9.0, 10.0, 11.0,\n",
      "              12.0, 13.0, 14.0, 15.0, 16.0, 17.0, 18.0, 19.0, 20.0, 21.0, 22.0,\n",
      "              23.0, 24.0, 25.0, 26.0, 27.0, 28.0, 29.0, 30.0, 31.0],\n",
      "             dtype='float64')\n",
      "1.0     2502\n",
      "2.0     2339\n",
      "3.0     2373\n",
      "4.0     2285\n",
      "5.0     2301\n",
      "6.0     2233\n",
      "7.0     2224\n",
      "8.0     2214\n",
      "9.0     2201\n",
      "10.0    2428\n",
      "11.0    2230\n",
      "12.0    2284\n",
      "13.0    2221\n",
      "14.0    2138\n",
      "15.0    2393\n",
      "16.0    2277\n",
      "17.0    2185\n",
      "18.0    2274\n",
      "19.0    2175\n",
      "20.0    2337\n",
      "21.0    2252\n",
      "22.0    2329\n",
      "23.0    2163\n",
      "24.0    2263\n",
      "25.0    2225\n",
      "26.0    2270\n",
      "27.0    2338\n",
      "28.0    2505\n",
      "29.0    2036\n",
      "30.0    2005\n",
      "31.0    1228\n",
      "Name: ESTU_NACIMIENTO_DIA, dtype: int64\n",
      "Elementos null/NaN 73\n",
      "__________________\n",
      "Elementos diferentes de null/NaN: 69228\n",
      "__________________\n",
      "(69228,)\n",
      "None\n"
     ]
    }
   ],
   "source": [
    "c = 'ESTU_NACIMIENTO_DIA'\n",
    "print(data_2007[c].value_counts().sort_index().index)\n",
    "print(data_2007[c].value_counts().sort_index())\n",
    "print(missing_data(data_2007[c]))"
   ]
  },
  {
   "cell_type": "code",
   "execution_count": 11,
   "metadata": {},
   "outputs": [
    {
     "name": "stdout",
     "output_type": "stream",
     "text": [
      "Float64Index([1.0, 2.0, 3.0, 4.0, 5.0, 6.0, 7.0, 8.0, 9.0, 10.0, 11.0, 12.0], dtype='float64')\n",
      "1.0     5758\n",
      "2.0     5214\n",
      "3.0     5920\n",
      "4.0     5612\n",
      "5.0     5945\n",
      "6.0     5675\n",
      "7.0     5826\n",
      "8.0     5879\n",
      "9.0     6156\n",
      "10.0    5915\n",
      "11.0    5496\n",
      "12.0    5832\n",
      "Name: ESTU_NACIMIENTO_MES, dtype: int64\n",
      "Elementos null/NaN 73\n",
      "__________________\n",
      "Elementos diferentes de null/NaN: 69228\n",
      "__________________\n",
      "(69228,)\n",
      "None\n"
     ]
    }
   ],
   "source": [
    "c = 'ESTU_NACIMIENTO_MES'\n",
    "print(data_2007[c].value_counts().sort_index().index)\n",
    "print(data_2007[c].value_counts().sort_index())\n",
    "print(missing_data(data_2007[c]))"
   ]
  },
  {
   "cell_type": "code",
   "execution_count": 12,
   "metadata": {
    "scrolled": true
   },
   "outputs": [
    {
     "name": "stdout",
     "output_type": "stream",
     "text": [
      "Float64Index([1930.0, 1931.0, 1932.0, 1933.0, 1936.0, 1939.0, 1940.0, 1941.0,\n",
      "              1942.0, 1943.0, 1944.0, 1945.0, 1946.0, 1947.0, 1948.0, 1949.0,\n",
      "              1950.0, 1951.0, 1952.0, 1953.0, 1954.0, 1955.0, 1956.0, 1957.0,\n",
      "              1958.0, 1959.0, 1960.0, 1961.0, 1962.0, 1963.0, 1964.0, 1965.0,\n",
      "              1966.0, 1967.0, 1968.0, 1969.0, 1970.0, 1971.0, 1972.0, 1973.0,\n",
      "              1974.0, 1975.0, 1976.0, 1977.0, 1978.0, 1979.0, 1980.0, 1981.0,\n",
      "              1982.0, 1983.0, 1984.0, 1985.0, 1986.0, 1987.0, 1988.0, 1989.0,\n",
      "              1990.0, 1991.0, 1992.0, 1993.0, 1994.0, 1995.0, 1996.0, 1997.0,\n",
      "              1998.0, 2000.0, 2001.0, 2002.0, 2087.0, 2090.0, 2091.0],\n",
      "             dtype='float64')\n",
      "1930.0        4\n",
      "1931.0        3\n",
      "1932.0        2\n",
      "1933.0        1\n",
      "1936.0        2\n",
      "1939.0        1\n",
      "1940.0        4\n",
      "1941.0        3\n",
      "1942.0        2\n",
      "1943.0        1\n",
      "1944.0        4\n",
      "1945.0        4\n",
      "1946.0        5\n",
      "1947.0        3\n",
      "1948.0        5\n",
      "1949.0        4\n",
      "1950.0        4\n",
      "1951.0        4\n",
      "1952.0        5\n",
      "1953.0       19\n",
      "1954.0       14\n",
      "1955.0       20\n",
      "1956.0       24\n",
      "1957.0       24\n",
      "1958.0       23\n",
      "1959.0       25\n",
      "1960.0       45\n",
      "1961.0       44\n",
      "1962.0       40\n",
      "1963.0       56\n",
      "          ...  \n",
      "1975.0      161\n",
      "1976.0      167\n",
      "1977.0      216\n",
      "1978.0      194\n",
      "1979.0      247\n",
      "1980.0      338\n",
      "1981.0      324\n",
      "1982.0      387\n",
      "1983.0      453\n",
      "1984.0      576\n",
      "1985.0      791\n",
      "1986.0     1483\n",
      "1987.0     3229\n",
      "1988.0     8043\n",
      "1989.0    16055\n",
      "1990.0    25223\n",
      "1991.0     7602\n",
      "1992.0      752\n",
      "1993.0      363\n",
      "1994.0      915\n",
      "1995.0        7\n",
      "1996.0        1\n",
      "1997.0        1\n",
      "1998.0        3\n",
      "2000.0        4\n",
      "2001.0        6\n",
      "2002.0        3\n",
      "2087.0        1\n",
      "2090.0        1\n",
      "2091.0        1\n",
      "Name: ESTU_NACIMIENTO_ANNO, Length: 71, dtype: int64\n",
      "Elementos null/NaN 73\n",
      "__________________\n",
      "Elementos diferentes de null/NaN: 69228\n",
      "__________________\n",
      "(69228,)\n",
      "None\n"
     ]
    }
   ],
   "source": [
    "c = 'ESTU_NACIMIENTO_ANNO'\n",
    "print(data_2007[c].value_counts().sort_index().index)\n",
    "print(data_2007[c].value_counts().sort_index())\n",
    "print(missing_data(data_2007[c]))"
   ]
  },
  {
   "cell_type": "code",
   "execution_count": 13,
   "metadata": {
    "collapsed": true
   },
   "outputs": [],
   "source": [
    "for i in data_2007[c].value_counts().sort_index().index:\n",
    "    if i > 1995:\n",
    "        data_2007[c] = data_2007[c].replace(i, np.nan)"
   ]
  },
  {
   "cell_type": "code",
   "execution_count": 14,
   "metadata": {},
   "outputs": [],
   "source": [
    "anno = data_2007[data_2007['ESTU_NACIMIENTO_ANNO'].isnull()].index\n",
    "data_2007 = data_2007.drop(anno)"
   ]
  },
  {
   "cell_type": "code",
   "execution_count": 15,
   "metadata": {
    "scrolled": true
   },
   "outputs": [
    {
     "name": "stdout",
     "output_type": "stream",
     "text": [
      "Int64Index([12, 13, 14, 15, 16, 17, 18, 19, 20, 21, 22, 23, 24, 25, 26, 27, 28,\n",
      "            29, 30, 31, 32, 33, 34, 35, 36, 37, 38, 39, 40, 41, 42, 43, 44, 45,\n",
      "            46, 47, 48, 49, 50, 51, 52, 53, 54, 55, 56, 57, 58, 59, 60, 61, 62,\n",
      "            63, 64, 65, 66, 67, 70, 74, 75, 76, 77],\n",
      "           dtype='int64')\n",
      "12      797\n",
      "13      554\n",
      "14      694\n",
      "15     4639\n",
      "16    23822\n",
      "17    17879\n",
      "18     9501\n",
      "19     3809\n",
      "20     1711\n",
      "21      894\n",
      "22      598\n",
      "23      494\n",
      "24      375\n",
      "25      343\n",
      "26      331\n",
      "27      272\n",
      "28      214\n",
      "29      221\n",
      "30      166\n",
      "31      160\n",
      "32      149\n",
      "33      137\n",
      "34      131\n",
      "35      126\n",
      "36      139\n",
      "37      184\n",
      "38      131\n",
      "39      119\n",
      "40       72\n",
      "41       75\n",
      "      ...  \n",
      "43       55\n",
      "44       48\n",
      "45       41\n",
      "46       51\n",
      "47       28\n",
      "48       20\n",
      "49       24\n",
      "50       24\n",
      "51       26\n",
      "52       12\n",
      "53       20\n",
      "54        7\n",
      "55        3\n",
      "56        5\n",
      "57        4\n",
      "58        4\n",
      "59        4\n",
      "60        6\n",
      "61        4\n",
      "62        4\n",
      "63        1\n",
      "64        1\n",
      "65        4\n",
      "66        1\n",
      "67        4\n",
      "70        2\n",
      "74        2\n",
      "75        2\n",
      "76        5\n",
      "77        1\n",
      "Name: ESTU_EDAD, Length: 61, dtype: int64\n",
      "Elementos null/NaN 0\n",
      "__________________\n",
      "Elementos diferentes de null/NaN: 69207\n",
      "__________________\n",
      "(69207,)\n",
      "None\n"
     ]
    }
   ],
   "source": [
    "c = 'ESTU_EDAD'\n",
    "print(data_2007[c].value_counts().sort_index().index)\n",
    "print(data_2007[c].value_counts().sort_index())\n",
    "print(missing_data(data_2007[c]))"
   ]
  },
  {
   "cell_type": "code",
   "execution_count": 16,
   "metadata": {
    "scrolled": true
   },
   "outputs": [
    {
     "name": "stdout",
     "output_type": "stream",
     "text": [
      "Float64Index([], dtype='float64')\n",
      "Series([], Name: ESTU_LIMITA_BAJAVISION, dtype: int64)\n",
      "Elementos null/NaN 69207\n",
      "__________________\n",
      "Elementos diferentes de null/NaN: 0\n",
      "__________________\n",
      "(0,)\n",
      "None\n"
     ]
    }
   ],
   "source": [
    "c = 'ESTU_LIMITA_BAJAVISION'\n",
    "print(data_2007[c].value_counts().sort_index().index)\n",
    "print(data_2007[c].value_counts().sort_index())\n",
    "print(missing_data(data_2007[c]))"
   ]
  },
  {
   "cell_type": "code",
   "execution_count": 17,
   "metadata": {
    "collapsed": true
   },
   "outputs": [],
   "source": [
    "data_2007 = data_2007.drop([c], axis = 1)"
   ]
  },
  {
   "cell_type": "code",
   "execution_count": 18,
   "metadata": {},
   "outputs": [
    {
     "name": "stdout",
     "output_type": "stream",
     "text": [
      "Float64Index([], dtype='float64')\n",
      "Series([], Name: ESTU_LIMITA_SORDOCEGUERA, dtype: int64)\n",
      "Elementos null/NaN 69207\n",
      "__________________\n",
      "Elementos diferentes de null/NaN: 0\n",
      "__________________\n",
      "(0,)\n",
      "None\n"
     ]
    }
   ],
   "source": [
    "c = 'ESTU_LIMITA_SORDOCEGUERA'\n",
    "print(data_2007[c].value_counts().sort_index().index)\n",
    "print(data_2007[c].value_counts().sort_index())\n",
    "print(missing_data(data_2007[c]))"
   ]
  },
  {
   "cell_type": "code",
   "execution_count": 19,
   "metadata": {
    "collapsed": true
   },
   "outputs": [],
   "source": [
    "data_2007 = data_2007.drop([c], axis = 1)"
   ]
  },
  {
   "cell_type": "code",
   "execution_count": 20,
   "metadata": {},
   "outputs": [
    {
     "name": "stdout",
     "output_type": "stream",
     "text": [
      "Float64Index([], dtype='float64')\n",
      "Series([], Name: ESTU_LIMITA_COGNITIVA, dtype: int64)\n",
      "Elementos null/NaN 69207\n",
      "__________________\n",
      "Elementos diferentes de null/NaN: 0\n",
      "__________________\n",
      "(0,)\n",
      "None\n"
     ]
    }
   ],
   "source": [
    "c = 'ESTU_LIMITA_COGNITIVA'\n",
    "print(data_2007[c].value_counts().sort_index().index)\n",
    "print(data_2007[c].value_counts().sort_index())\n",
    "print(missing_data(data_2007[c]))"
   ]
  },
  {
   "cell_type": "code",
   "execution_count": 21,
   "metadata": {
    "collapsed": true
   },
   "outputs": [],
   "source": [
    "data_2007 = data_2007.drop([c], axis = 1)"
   ]
  },
  {
   "cell_type": "code",
   "execution_count": 22,
   "metadata": {},
   "outputs": [
    {
     "name": "stdout",
     "output_type": "stream",
     "text": [
      "Float64Index([], dtype='float64')\n",
      "Series([], Name: ESTU_LIMITA_INVIDENTE, dtype: int64)\n",
      "Elementos null/NaN 69207\n",
      "__________________\n",
      "Elementos diferentes de null/NaN: 0\n",
      "__________________\n",
      "(0,)\n",
      "None\n"
     ]
    }
   ],
   "source": [
    "c = 'ESTU_LIMITA_INVIDENTE'\n",
    "print(data_2007[c].value_counts().sort_index().index)\n",
    "print(data_2007[c].value_counts().sort_index())\n",
    "print(missing_data(data_2007[c]))"
   ]
  },
  {
   "cell_type": "code",
   "execution_count": 23,
   "metadata": {
    "collapsed": true
   },
   "outputs": [],
   "source": [
    "data_2007 = data_2007.drop([c], axis = 1)"
   ]
  },
  {
   "cell_type": "code",
   "execution_count": 24,
   "metadata": {},
   "outputs": [
    {
     "name": "stdout",
     "output_type": "stream",
     "text": [
      "Float64Index([], dtype='float64')\n",
      "Series([], Name: ESTU_LIMITA_MOTRIZ, dtype: int64)\n",
      "Elementos null/NaN 69207\n",
      "__________________\n",
      "Elementos diferentes de null/NaN: 0\n",
      "__________________\n",
      "(0,)\n",
      "None\n"
     ]
    }
   ],
   "source": [
    "c = 'ESTU_LIMITA_MOTRIZ'\n",
    "print(data_2007[c].value_counts().sort_index().index)\n",
    "print(data_2007[c].value_counts().sort_index())\n",
    "print(missing_data(data_2007[c]))"
   ]
  },
  {
   "cell_type": "code",
   "execution_count": 25,
   "metadata": {
    "collapsed": true
   },
   "outputs": [],
   "source": [
    "data_2007 = data_2007.drop([c], axis = 1)"
   ]
  },
  {
   "cell_type": "code",
   "execution_count": 26,
   "metadata": {},
   "outputs": [
    {
     "name": "stdout",
     "output_type": "stream",
     "text": [
      "Float64Index([], dtype='float64')\n",
      "Series([], Name: ESTU_LIMITA_SORDOINTERPRETE, dtype: int64)\n",
      "Elementos null/NaN 69207\n",
      "__________________\n",
      "Elementos diferentes de null/NaN: 0\n",
      "__________________\n",
      "(0,)\n",
      "None\n"
     ]
    }
   ],
   "source": [
    "c = 'ESTU_LIMITA_SORDOINTERPRETE'\n",
    "print(data_2007[c].value_counts().sort_index().index)\n",
    "print(data_2007[c].value_counts().sort_index())\n",
    "print(missing_data(data_2007[c]))"
   ]
  },
  {
   "cell_type": "code",
   "execution_count": 27,
   "metadata": {
    "collapsed": true
   },
   "outputs": [],
   "source": [
    "data_2007 = data_2007.drop([c], axis = 1)"
   ]
  },
  {
   "cell_type": "code",
   "execution_count": 28,
   "metadata": {},
   "outputs": [
    {
     "name": "stdout",
     "output_type": "stream",
     "text": [
      "Float64Index([], dtype='float64')\n",
      "Series([], Name: ESTU_LIMITA_SORDONOINTERPRETE, dtype: int64)\n",
      "Elementos null/NaN 69207\n",
      "__________________\n",
      "Elementos diferentes de null/NaN: 0\n",
      "__________________\n",
      "(0,)\n",
      "None\n"
     ]
    }
   ],
   "source": [
    "c = 'ESTU_LIMITA_SORDONOINTERPRETE'\n",
    "print(data_2007[c].value_counts().sort_index().index)\n",
    "print(data_2007[c].value_counts().sort_index())\n",
    "print(missing_data(data_2007[c]))"
   ]
  },
  {
   "cell_type": "code",
   "execution_count": 29,
   "metadata": {
    "collapsed": true
   },
   "outputs": [],
   "source": [
    "data_2007 = data_2007.drop([c], axis = 1)"
   ]
  },
  {
   "cell_type": "code",
   "execution_count": 30,
   "metadata": {
    "scrolled": true
   },
   "outputs": [
    {
     "name": "stdout",
     "output_type": "stream",
     "text": [
      "Index(['ABEJORRAL', 'ABRIAQUI', 'ACACIAS', 'ACEVEDO', 'AGRADO', 'AGUA DE DIOS',\n",
      "       'AGUADAS', 'AGUAZUL', 'AGUSTIN CODAZZI', 'ALBAN',\n",
      "       ...\n",
      "       'VILLAVICENCIO', 'VILLETA', 'VISTA HERMOSA', 'YACUANQUER', 'YOLOMBO',\n",
      "       'YOPAL', 'YOTOCO', 'YUMBO', 'ZARZAL', 'ZIPAQUIRA'],\n",
      "      dtype='object', length=366)\n",
      "ABEJORRAL                       6\n",
      "ABRIAQUI                        2\n",
      "ACACIAS                        13\n",
      "ACEVEDO                         2\n",
      "AGRADO                          1\n",
      "AGUA DE DIOS                    1\n",
      "AGUADAS                         1\n",
      "AGUAZUL                         2\n",
      "AGUSTIN CODAZZI                 7\n",
      "ALBAN                           1\n",
      "ALBAN (SAN JOSE)              122\n",
      "ALBANIA                        41\n",
      "ALCALA                        103\n",
      "ALDANA                         65\n",
      "ALMAGUER                        1\n",
      "AMAGA                           4\n",
      "ANCUYA                         67\n",
      "ANDALUCIA                     200\n",
      "ANDES                           7\n",
      "ANORI                           2\n",
      "ANSERMANUEVO                  127\n",
      "APARTADO                       20\n",
      "APIA                            5\n",
      "ARATOCA                         1\n",
      "ARAUCA                         16\n",
      "ARBOLEDA (BERRUECOS)           48\n",
      "ARGELIA                        56\n",
      "ARMENIA                       176\n",
      "ARMERO (GUAYABAL)               1\n",
      "ATRATO (YUTO)                   3\n",
      "                             ... \n",
      "TUMACO                       1304\n",
      "TUNJA                          66\n",
      "TUQUERRES                     375\n",
      "TURBACO                         1\n",
      "UBATE                          10\n",
      "ULLOA                          28\n",
      "URIBIA                          2\n",
      "UTICA                           2\n",
      "VALENCIA                       12\n",
      "VALLEDUPAR                    116\n",
      "VELEZ                           1\n",
      "VENADILLO                       1\n",
      "VERSALLES                      74\n",
      "VICTORIA                        5\n",
      "VIJES                         112\n",
      "VILLA DEL ROSARIO               1\n",
      "VILLA GUAMEZ (LA HORMIGA)      21\n",
      "VILLA RICA                      1\n",
      "VILLAMARIA                      2\n",
      "VILLANUEVA                      1\n",
      "VILLAVICENCIO                 239\n",
      "VILLETA                        44\n",
      "VISTA HERMOSA                   1\n",
      "YACUANQUER                    104\n",
      "YOLOMBO                         7\n",
      "YOPAL                          77\n",
      "YOTOCO                        126\n",
      "YUMBO                        1153\n",
      "ZARZAL                        489\n",
      "ZIPAQUIRA                      77\n",
      "Name: ESTU_RESIDE_MCPIO, Length: 366, dtype: int64\n",
      "Elementos null/NaN 0\n",
      "__________________\n",
      "Elementos diferentes de null/NaN: 69207\n",
      "__________________\n",
      "(69207,)\n",
      "None\n"
     ]
    }
   ],
   "source": [
    "c = 'ESTU_RESIDE_MCPIO'\n",
    "print(data_2007[c].value_counts().sort_index().index)\n",
    "print(data_2007[c].value_counts().sort_index())\n",
    "print(missing_data(data_2007[c]))"
   ]
  },
  {
   "cell_type": "code",
   "execution_count": 31,
   "metadata": {
    "scrolled": true
   },
   "outputs": [
    {
     "name": "stdout",
     "output_type": "stream",
     "text": [
      "Index(['ANTIOQUIA', 'ARAUCA', 'ATLÁNTICO', 'BOGOTÁ', 'BOLÍVAR', 'BOYACÁ',\n",
      "       'CALDAS', 'CAQUETÁ', 'CASANARE', 'CAUCA', 'CESAR', 'CHOCÓ',\n",
      "       'CUNDINAMARCA', 'CÓRDOBA', 'GUAINÍA', 'HUILA', 'LA GUAJIRA',\n",
      "       'MAGDALENA', 'META', 'NARIÑO', 'NORTE SANTANDER', 'PUTUMAYO', 'QUINDÍO',\n",
      "       'RISARALDA', 'SAN ANDRÉS', 'SANTANDER', 'TOLIMA', 'VALLE'],\n",
      "      dtype='object')\n",
      "ANTIOQUIA           2112\n",
      "ARAUCA                16\n",
      "ATLÁNTICO            589\n",
      "BOGOTÁ              6147\n",
      "BOLÍVAR              224\n",
      "BOYACÁ               208\n",
      "CALDAS               392\n",
      "CAQUETÁ               61\n",
      "CASANARE              82\n",
      "CAUCA               1149\n",
      "CESAR                123\n",
      "CHOCÓ                  5\n",
      "CUNDINAMARCA         958\n",
      "CÓRDOBA               46\n",
      "GUAINÍA                7\n",
      "HUILA                356\n",
      "LA GUAJIRA            87\n",
      "MAGDALENA             74\n",
      "META                 272\n",
      "NARIÑO             13337\n",
      "NORTE SANTANDER      173\n",
      "PUTUMAYO              48\n",
      "QUINDÍO              192\n",
      "RISARALDA            311\n",
      "SAN ANDRÉS             1\n",
      "SANTANDER            565\n",
      "TOLIMA               359\n",
      "VALLE              41311\n",
      "Name: ESTU_RESIDE_DEPTO, dtype: int64\n",
      "Elementos null/NaN 2\n",
      "__________________\n",
      "Elementos diferentes de null/NaN: 69205\n",
      "__________________\n",
      "(69205,)\n",
      "None\n"
     ]
    }
   ],
   "source": [
    "c = 'ESTU_RESIDE_DEPTO'\n",
    "print(data_2007[c].value_counts().sort_index().index)\n",
    "print(data_2007[c].value_counts().sort_index())\n",
    "print(missing_data(data_2007[c]))"
   ]
  },
  {
   "cell_type": "code",
   "execution_count": 32,
   "metadata": {},
   "outputs": [],
   "source": [
    "depto = data_2007[data_2007['ESTU_RESIDE_DEPTO'].isnull()].index\n",
    "data_2007 = data_2007.drop(depto)"
   ]
  },
  {
   "cell_type": "code",
   "execution_count": 33,
   "metadata": {},
   "outputs": [
    {
     "name": "stdout",
     "output_type": "stream",
     "text": [
      "Float64Index([1.0, 2.0, 3.0, 4.0, 5.0, 6.0, 7.0, 8.0, 9.0, 10.0], dtype='float64')\n",
      "1.0      6451\n",
      "2.0      3146\n",
      "3.0      1086\n",
      "4.0      6569\n",
      "5.0      1887\n",
      "6.0      3008\n",
      "7.0      4014\n",
      "8.0      1438\n",
      "9.0      1636\n",
      "10.0    39960\n",
      "Name: ESTU_ZONA_RESIDE, dtype: int64\n",
      "Elementos null/NaN 10\n",
      "__________________\n",
      "Elementos diferentes de null/NaN: 69195\n",
      "__________________\n",
      "(69195,)\n",
      "None\n"
     ]
    }
   ],
   "source": [
    "c = 'ESTU_ZONA_RESIDE'\n",
    "print(data_2007[c].value_counts().sort_index().index)\n",
    "print(data_2007[c].value_counts().sort_index())\n",
    "print(missing_data(data_2007[c]))"
   ]
  },
  {
   "cell_type": "code",
   "execution_count": 34,
   "metadata": {},
   "outputs": [
    {
     "name": "stdout",
     "output_type": "stream",
     "text": [
      "cant null antes: 10\n",
      "cant null despues: 1\n",
      "cant null antes: 1\n",
      "cant null despues: 0\n"
     ]
    }
   ],
   "source": [
    "Do_resamples(data_2007, 'ESTU_ZONA_RESIDE', float)"
   ]
  },
  {
   "cell_type": "code",
   "execution_count": 35,
   "metadata": {},
   "outputs": [
    {
     "name": "stdout",
     "output_type": "stream",
     "text": [
      "Float64Index([1.0, 2.0], dtype='float64')\n",
      "1.0    2979\n",
      "2.0     714\n",
      "Name: ESTU_AREA_RESIDE, dtype: int64\n",
      "Elementos null/NaN 65512\n",
      "__________________\n",
      "Elementos diferentes de null/NaN: 3693\n",
      "__________________\n",
      "(3693,)\n",
      "None\n"
     ]
    }
   ],
   "source": [
    "c = 'ESTU_AREA_RESIDE'\n",
    "print(data_2007[c].value_counts().sort_index().index)\n",
    "print(data_2007[c].value_counts().sort_index())\n",
    "print(missing_data(data_2007[c]))"
   ]
  },
  {
   "cell_type": "code",
   "execution_count": 36,
   "metadata": {},
   "outputs": [
    {
     "name": "stdout",
     "output_type": "stream",
     "text": [
      "cant null antes: 65512\n",
      "cant null despues: 0\n"
     ]
    }
   ],
   "source": [
    "Do_resamples(data_2007, 'ESTU_AREA_RESIDE', float)"
   ]
  },
  {
   "cell_type": "code",
   "execution_count": 37,
   "metadata": {
    "scrolled": true
   },
   "outputs": [
    {
     "name": "stdout",
     "output_type": "stream",
     "text": [
      "Index(['ALBANIA', 'ALCALA', 'ANDALUCIA', 'ANSERMANUEVO', 'APARTADO', 'ARAUCA',\n",
      "       'ARMENIA', 'BARBACOAS', 'BARRANCABERMEJA', 'BARRANQUILLA',\n",
      "       ...\n",
      "       'TUNJA', 'TUQUERRES', 'UBATE', 'VALLEDUPAR', 'VELEZ', 'VILLAVICENCIO',\n",
      "       'YOPAL', 'YUMBO', 'ZARZAL', 'ZIPAQUIRA'],\n",
      "      dtype='object', length=112)\n",
      "ALBANIA                      46\n",
      "ALCALA                      134\n",
      "ANDALUCIA                   203\n",
      "ANSERMANUEVO                138\n",
      "APARTADO                     41\n",
      "ARAUCA                       16\n",
      "ARMENIA                     177\n",
      "BARBACOAS                   192\n",
      "BARRANCABERMEJA               2\n",
      "BARRANQUILLA                602\n",
      "BELLO                       187\n",
      "BOGOTÁ D.C.                6034\n",
      "BOLIVAR                      89\n",
      "BUCARAMANGA                 531\n",
      "BUENAVENTURA               2397\n",
      "BUESACO                     251\n",
      "BUGA                       1694\n",
      "BUGALAGRANDE                213\n",
      "CAICEDONIA                  305\n",
      "CALI                      20647\n",
      "CALIMA (DARIEN)             190\n",
      "CAMPOALEGRE                   3\n",
      "CANDELARIA                  675\n",
      "CARTAGENA                   216\n",
      "CARTAGO                    1846\n",
      "CHAPARRAL                    84\n",
      "CHIA                        285\n",
      "CONSACA                     107\n",
      "CUCUTA                      163\n",
      "CUMBAL                      341\n",
      "                          ...  \n",
      "ROLDANILLO                  589\n",
      "SAMANIEGO                   300\n",
      "SAN GIL                       3\n",
      "SAN PABLO                   176\n",
      "SANDONA                     324\n",
      "SANTA MARTA                  79\n",
      "SANTA ROSA DE OSOS           26\n",
      "SANTANDER DE QUILICHAO       77\n",
      "SEVILLA                     389\n",
      "SOACHA                      238\n",
      "SOCORRO                       1\n",
      "SOGAMOSO                    126\n",
      "TAMINANGO                   135\n",
      "TANGUA                       48\n",
      "TIMBIO                       45\n",
      "TIMBIQUI                     15\n",
      "TORO                        151\n",
      "TRUJILLO                    220\n",
      "TULUA                      2553\n",
      "TUMACO                     1347\n",
      "TUNJA                        75\n",
      "TUQUERRES                   529\n",
      "UBATE                        23\n",
      "VALLEDUPAR                  125\n",
      "VELEZ                        25\n",
      "VILLAVICENCIO               270\n",
      "YOPAL                        80\n",
      "YUMBO                      1336\n",
      "ZARZAL                      506\n",
      "ZIPAQUIRA                    91\n",
      "Name: ESTU_MCPIO_PRESENTACION, Length: 112, dtype: int64\n",
      "Elementos null/NaN 0\n",
      "__________________\n",
      "Elementos diferentes de null/NaN: 69205\n",
      "__________________\n",
      "(69205,)\n",
      "None\n"
     ]
    }
   ],
   "source": [
    "c = 'ESTU_MCPIO_PRESENTACION'\n",
    "print(data_2007[c].value_counts().sort_index().index)\n",
    "print(data_2007[c].value_counts().sort_index())\n",
    "print(missing_data(data_2007[c]))"
   ]
  },
  {
   "cell_type": "code",
   "execution_count": 38,
   "metadata": {
    "scrolled": true
   },
   "outputs": [
    {
     "name": "stdout",
     "output_type": "stream",
     "text": [
      "Index(['ANTIOQUIA', 'ARAUCA', 'ATLÁNTICO', 'BOGOTÁ', 'BOLÍVAR', 'BOYACÁ',\n",
      "       'CALDAS', 'CAQUETÁ', 'CASANARE', 'CAUCA', 'CESAR', 'CUNDINAMARCA',\n",
      "       'CÓRDOBA', 'GUAINÍA', 'HUILA', 'LA GUAJIRA', 'MAGDALENA', 'META',\n",
      "       'NARIÑO', 'NORTE SANTANDER', 'PUTUMAYO', 'QUINDÍO', 'RISARALDA',\n",
      "       'SANTANDER', 'TOLIMA', 'VALLE'],\n",
      "      dtype='object')\n",
      "ANTIOQUIA           2077\n",
      "ARAUCA                16\n",
      "ATLÁNTICO            602\n",
      "BOGOTÁ              6034\n",
      "BOLÍVAR              224\n",
      "BOYACÁ               201\n",
      "CALDAS               487\n",
      "CAQUETÁ               60\n",
      "CASANARE              81\n",
      "CAUCA               1091\n",
      "CESAR                125\n",
      "CUNDINAMARCA         884\n",
      "CÓRDOBA               43\n",
      "GUAINÍA                7\n",
      "HUILA                355\n",
      "LA GUAJIRA            90\n",
      "MAGDALENA             79\n",
      "META                 277\n",
      "NARIÑO             13564\n",
      "NORTE SANTANDER      171\n",
      "PUTUMAYO              41\n",
      "QUINDÍO              177\n",
      "RISARALDA            307\n",
      "SANTANDER            563\n",
      "TOLIMA               258\n",
      "VALLE              41391\n",
      "Name: ESTU_DEPTO_PRESENTACION, dtype: int64\n",
      "Elementos null/NaN 0\n",
      "__________________\n",
      "Elementos diferentes de null/NaN: 69205\n",
      "__________________\n",
      "(69205,)\n",
      "None\n"
     ]
    }
   ],
   "source": [
    "c = 'ESTU_DEPTO_PRESENTACION'\n",
    "print(data_2007[c].value_counts().sort_index().index)\n",
    "print(data_2007[c].value_counts().sort_index())\n",
    "print(missing_data(data_2007[c]))"
   ]
  },
  {
   "cell_type": "code",
   "execution_count": 39,
   "metadata": {},
   "outputs": [
    {
     "name": "stdout",
     "output_type": "stream",
     "text": [
      "Index(['EXAMEN DE ESTADO 2007-1'], dtype='object')\n",
      "EXAMEN DE ESTADO 2007-1    69205\n",
      "Name: ESTU_EXAM_NOMBREEXAMEN, dtype: int64\n",
      "Elementos null/NaN 0\n",
      "__________________\n",
      "Elementos diferentes de null/NaN: 69205\n",
      "__________________\n",
      "(69205,)\n",
      "None\n"
     ]
    }
   ],
   "source": [
    "c = 'ESTU_EXAM_NOMBREEXAMEN'\n",
    "print(data_2007[c].value_counts().sort_index().index)\n",
    "print(data_2007[c].value_counts().sort_index())\n",
    "print(missing_data(data_2007[c]))"
   ]
  },
  {
   "cell_type": "code",
   "execution_count": 40,
   "metadata": {
    "collapsed": true
   },
   "outputs": [],
   "source": [
    "data_2007 = data_2007.drop([c], axis = 1)"
   ]
  },
  {
   "cell_type": "code",
   "execution_count": 41,
   "metadata": {},
   "outputs": [
    {
     "name": "stdout",
     "output_type": "stream",
     "text": [
      "Float64Index([0.0, 1.0], dtype='float64')\n",
      "0.0     6607\n",
      "1.0    62590\n",
      "Name: IND_ESTUDIO_BACHILLERATO, dtype: int64\n",
      "Elementos null/NaN 8\n",
      "__________________\n",
      "Elementos diferentes de null/NaN: 69197\n",
      "__________________\n",
      "(69197,)\n",
      "None\n"
     ]
    }
   ],
   "source": [
    "c = 'IND_ESTUDIO_BACHILLERATO'\n",
    "print(data_2007[c].value_counts().sort_index().index)\n",
    "print(data_2007[c].value_counts().sort_index())\n",
    "print(missing_data(data_2007[c]))"
   ]
  },
  {
   "cell_type": "code",
   "execution_count": 42,
   "metadata": {},
   "outputs": [
    {
     "name": "stdout",
     "output_type": "stream",
     "text": [
      "cant null antes: 8\n",
      "cant null despues: 0\n"
     ]
    }
   ],
   "source": [
    "Do_resamples(data_2007, 'IND_ESTUDIO_BACHILLERATO', float)"
   ]
  },
  {
   "cell_type": "code",
   "execution_count": 43,
   "metadata": {
    "scrolled": true
   },
   "outputs": [
    {
     "name": "stdout",
     "output_type": "stream",
     "text": [
      "Float64Index([1978.0, 1980.0, 1981.0, 1982.0, 1984.0, 1990.0, 1992.0, 1995.0,\n",
      "              1997.0, 1998.0, 1999.0, 2000.0, 2001.0, 2002.0, 2003.0, 2004.0,\n",
      "              2005.0, 2006.0, 2007.0, 2008.0, 2009.0, 2010.0, 2013.0, 9999.0],\n",
      "             dtype='float64')\n",
      "1978.0        1\n",
      "1980.0        1\n",
      "1981.0        1\n",
      "1982.0        1\n",
      "1984.0        1\n",
      "1990.0        1\n",
      "1992.0        1\n",
      "1995.0        2\n",
      "1997.0        2\n",
      "1998.0        1\n",
      "1999.0        1\n",
      "2000.0        2\n",
      "2001.0        2\n",
      "2002.0        2\n",
      "2003.0        3\n",
      "2004.0        9\n",
      "2005.0       13\n",
      "2006.0      131\n",
      "2007.0    66030\n",
      "2008.0      336\n",
      "2009.0       21\n",
      "2010.0        4\n",
      "2013.0        1\n",
      "9999.0        1\n",
      "Name: IND_ANNO_TERMINO_BACHILLERATO, dtype: int64\n",
      "Elementos null/NaN 2637\n",
      "__________________\n",
      "Elementos diferentes de null/NaN: 66568\n",
      "__________________\n",
      "(66568,)\n",
      "None\n"
     ]
    }
   ],
   "source": [
    "c = 'IND_ANNO_TERMINO_BACHILLERATO'\n",
    "print(data_2007[c].value_counts().sort_index().index)\n",
    "print(data_2007[c].value_counts().sort_index())\n",
    "print(missing_data(data_2007[c]))"
   ]
  },
  {
   "cell_type": "code",
   "execution_count": 44,
   "metadata": {
    "collapsed": true
   },
   "outputs": [],
   "source": [
    "for i in data_2007[c].value_counts().sort_index().index:\n",
    "    if i > 2010:\n",
    "        data_2007[c] = data_2007[c].replace(i, np.nan)"
   ]
  },
  {
   "cell_type": "code",
   "execution_count": 45,
   "metadata": {},
   "outputs": [
    {
     "name": "stdout",
     "output_type": "stream",
     "text": [
      "cant null antes: 2639\n",
      "cant null despues: 1\n",
      "cant null antes: 1\n",
      "cant null despues: 0\n"
     ]
    }
   ],
   "source": [
    "Do_resamples(data_2007, 'IND_ANNO_TERMINO_BACHILLERATO', float)"
   ]
  },
  {
   "cell_type": "code",
   "execution_count": 46,
   "metadata": {},
   "outputs": [
    {
     "name": "stdout",
     "output_type": "stream",
     "text": [
      "Float64Index([1.0], dtype='float64')\n",
      "1.0    226\n",
      "Name: IND_TERMINO_BACHILLERATO, dtype: int64\n",
      "Elementos null/NaN 68979\n",
      "__________________\n",
      "Elementos diferentes de null/NaN: 226\n",
      "__________________\n",
      "(226,)\n",
      "None\n"
     ]
    }
   ],
   "source": [
    "c = 'IND_TERMINO_BACHILLERATO'\n",
    "print(data_2007[c].value_counts().sort_index().index)\n",
    "print(data_2007[c].value_counts().sort_index())\n",
    "print(missing_data(data_2007[c]))"
   ]
  },
  {
   "cell_type": "code",
   "execution_count": 47,
   "metadata": {
    "collapsed": true
   },
   "outputs": [],
   "source": [
    "data_2007 = data_2007.drop(['IND_TERMINO_BACHILLERATO'], axis=1)"
   ]
  },
  {
   "cell_type": "code",
   "execution_count": 48,
   "metadata": {
    "scrolled": true
   },
   "outputs": [
    {
     "name": "stdout",
     "output_type": "stream",
     "text": [
      "Float64Index([     2.0,      3.0,    182.0,    638.0,   1503.0,   3046.0,\n",
      "                3327.0,   3418.0,   3459.0,   3525.0,\n",
      "              ...\n",
      "              168575.0, 170456.0, 170654.0, 170803.0, 172734.0, 173526.0,\n",
      "              175687.0, 175893.0, 176370.0, 999999.0],\n",
      "             dtype='float64', length=1892)\n",
      "2.0           2\n",
      "3.0          95\n",
      "182.0        86\n",
      "638.0        40\n",
      "1503.0       44\n",
      "3046.0       44\n",
      "3327.0       18\n",
      "3418.0       41\n",
      "3459.0       83\n",
      "3525.0      110\n",
      "4234.0       40\n",
      "5504.0        1\n",
      "6023.0      110\n",
      "6437.0        1\n",
      "6635.0        1\n",
      "6775.0       19\n",
      "6981.0       11\n",
      "7013.0       65\n",
      "7054.0        7\n",
      "7070.0       97\n",
      "7088.0       49\n",
      "7153.0        1\n",
      "7419.0        1\n",
      "9110.0      137\n",
      "9225.0        1\n",
      "9894.0        1\n",
      "9910.0        2\n",
      "9951.0        1\n",
      "9993.0       24\n",
      "10009.0       7\n",
      "           ... \n",
      "139436.0      1\n",
      "139840.0      1\n",
      "141465.0      1\n",
      "141911.0      1\n",
      "142927.0      1\n",
      "143149.0      1\n",
      "143263.0      1\n",
      "143271.0      1\n",
      "143495.0      2\n",
      "143834.0      3\n",
      "146316.0      3\n",
      "152173.0      1\n",
      "153692.0      2\n",
      "156372.0      1\n",
      "156471.0      1\n",
      "157024.0      1\n",
      "160515.0      1\n",
      "163907.0      1\n",
      "164129.0      1\n",
      "164822.0      1\n",
      "168575.0      1\n",
      "170456.0      1\n",
      "170654.0      1\n",
      "170803.0      1\n",
      "172734.0      1\n",
      "173526.0      1\n",
      "175687.0      1\n",
      "175893.0      1\n",
      "176370.0      1\n",
      "999999.0    177\n",
      "Name: IND_COD_ICFES_TERMINO, Length: 1892, dtype: int64\n",
      "Elementos null/NaN 246\n",
      "__________________\n",
      "Elementos diferentes de null/NaN: 68959\n",
      "__________________\n",
      "(68959,)\n",
      "None\n"
     ]
    }
   ],
   "source": [
    "c = 'IND_COD_ICFES_TERMINO'\n",
    "print(data_2007[c].value_counts().sort_index().index)\n",
    "print(data_2007[c].value_counts().sort_index())\n",
    "print(missing_data(data_2007[c]))"
   ]
  },
  {
   "cell_type": "code",
   "execution_count": 49,
   "metadata": {
    "collapsed": true
   },
   "outputs": [],
   "source": [
    "idx = data_2007[data_2007['IND_COD_ICFES_TERMINO'].isnull()].index\n",
    "data_2007 =data_2007.drop(idx)"
   ]
  },
  {
   "cell_type": "code",
   "execution_count": 50,
   "metadata": {
    "scrolled": true
   },
   "outputs": [
    {
     "name": "stdout",
     "output_type": "stream",
     "text": [
      "Int64Index([   182,    638,   1503,   3046,   3327,   3418,   3459,   3525,\n",
      "              4234,   6023,\n",
      "            ...\n",
      "            130674, 130724, 130732, 130799, 130815, 130823, 131045, 131169,\n",
      "            131201, 131581],\n",
      "           dtype='int64', length=1708)\n",
      "182        86\n",
      "638        40\n",
      "1503       44\n",
      "3046       44\n",
      "3327       18\n",
      "3418       41\n",
      "3459       83\n",
      "3525      110\n",
      "4234       40\n",
      "6023      110\n",
      "6775       19\n",
      "6981       11\n",
      "7013       67\n",
      "7054        8\n",
      "7070       99\n",
      "7088       49\n",
      "11213     229\n",
      "11239      67\n",
      "11254      40\n",
      "11262      35\n",
      "11270     124\n",
      "11288     118\n",
      "11296     250\n",
      "11312     166\n",
      "11320     148\n",
      "11338     395\n",
      "11379      19\n",
      "11395      29\n",
      "11403      58\n",
      "11411     160\n",
      "         ... \n",
      "130161     18\n",
      "130187     13\n",
      "130195     13\n",
      "130203     53\n",
      "130211      4\n",
      "130229      8\n",
      "130237      8\n",
      "130278     28\n",
      "130294      8\n",
      "130377      5\n",
      "130385      7\n",
      "130427    149\n",
      "130500     11\n",
      "130534     10\n",
      "130567     23\n",
      "130583     12\n",
      "130591     20\n",
      "130617     14\n",
      "130625     33\n",
      "130641     13\n",
      "130674      8\n",
      "130724     14\n",
      "130732     14\n",
      "130799     21\n",
      "130815      7\n",
      "130823     10\n",
      "131045     38\n",
      "131169     10\n",
      "131201     44\n",
      "131581     17\n",
      "Name: COLE_COD_ICFES, Length: 1708, dtype: int64\n",
      "Elementos null/NaN 0\n",
      "__________________\n",
      "Elementos diferentes de null/NaN: 68959\n",
      "__________________\n",
      "(68959,)\n",
      "None\n"
     ]
    }
   ],
   "source": [
    "c = 'COLE_COD_ICFES'\n",
    "print(data_2007[c].value_counts().sort_index().index)\n",
    "print(data_2007[c].value_counts().sort_index())\n",
    "print(missing_data(data_2007[c]))"
   ]
  },
  {
   "cell_type": "code",
   "execution_count": 51,
   "metadata": {
    "collapsed": true
   },
   "outputs": [],
   "source": [
    "for i in data_2007[c].value_counts().sort_index().index:\n",
    "    if len(str(i)) < 4:\n",
    "        data_2007[c] = data_2007[c].replace(i, np.nan)"
   ]
  },
  {
   "cell_type": "code",
   "execution_count": 52,
   "metadata": {
    "collapsed": true
   },
   "outputs": [],
   "source": [
    "data_2007['COLE_COD_ICFES'].fillna(method='bfill', inplace=True)"
   ]
  },
  {
   "cell_type": "code",
   "execution_count": 53,
   "metadata": {
    "scrolled": true
   },
   "outputs": [
    {
     "name": "stdout",
     "output_type": "stream",
     "text": [
      "Index(['            ', '010500103391', '051100116867', '105001000566',\n",
      "       '105001003387', '105001003395', '105001003425', '105001014397',\n",
      "       '105001022446', '105088001512',\n",
      "       ...\n",
      "       '568001009690', '568001009700', '576001091472', '576622134546',\n",
      "       '625214000001', '625269000075', '625269000082', '625286000041',\n",
      "       '625843000124', '841551000001'],\n",
      "      dtype='object', length=1507)\n",
      "                1002\n",
      "010500103391      24\n",
      "051100116867      39\n",
      "105001000566      26\n",
      "105001003387      16\n",
      "105001003395      61\n",
      "105001003425       9\n",
      "105001014397       4\n",
      "105001022446       9\n",
      "105088001512      37\n",
      "105088002993      10\n",
      "105129000534      44\n",
      "105361000443      20\n",
      "105376000440      11\n",
      "105697000069      24\n",
      "105792000190       9\n",
      "108001003289      16\n",
      "111001009971      19\n",
      "111001010251      15\n",
      "111001010839      40\n",
      "111001010910       6\n",
      "111001011029       9\n",
      "111001012360      23\n",
      "111001030856      11\n",
      "111001034134      13\n",
      "111001036781      49\n",
      "111001075515      20\n",
      "111001092410      80\n",
      "111001102148      13\n",
      "111848003031      23\n",
      "                ... \n",
      "476130000813       7\n",
      "476130000902      11\n",
      "476130000961      13\n",
      "476130001186      17\n",
      "476130001208      13\n",
      "476248000478     115\n",
      "476248000648       9\n",
      "476248000877       1\n",
      "476248032012      29\n",
      "476520003813      14\n",
      "476520006324       6\n",
      "476892001183      13\n",
      "476892099710      20\n",
      "476892099728      14\n",
      "476895000382      39\n",
      "519001000002      48\n",
      "519698000003      23\n",
      "525899000016      15\n",
      "541548000100       7\n",
      "552356000068       3\n",
      "568001009690      23\n",
      "568001009700      19\n",
      "576001091472       9\n",
      "576622134546      19\n",
      "625214000001      20\n",
      "625269000075       9\n",
      "625269000082      14\n",
      "625286000041      66\n",
      "625843000124       6\n",
      "841551000001      14\n",
      "Name: COLE_COD_DANE_INSTITUCION, Length: 1507, dtype: int64\n",
      "Elementos null/NaN 0\n",
      "__________________\n",
      "Elementos diferentes de null/NaN: 68959\n",
      "__________________\n",
      "(68959,)\n",
      "None\n"
     ]
    }
   ],
   "source": [
    "c = 'COLE_COD_DANE_INSTITUCION'\n",
    "print(data_2007[c].value_counts().sort_index().index)\n",
    "print(data_2007[c].value_counts().sort_index())\n",
    "print(missing_data(data_2007[c]))"
   ]
  },
  {
   "cell_type": "code",
   "execution_count": 54,
   "metadata": {
    "collapsed": true
   },
   "outputs": [],
   "source": [
    "data_2007[c] = data_2007[c].replace('            ', np.nan)"
   ]
  },
  {
   "cell_type": "code",
   "execution_count": 55,
   "metadata": {
    "collapsed": true
   },
   "outputs": [],
   "source": [
    "data_2007[c].fillna(method='bfill', inplace=True)"
   ]
  },
  {
   "cell_type": "code",
   "execution_count": 56,
   "metadata": {
    "scrolled": true
   },
   "outputs": [
    {
     "name": "stdout",
     "output_type": "stream",
     "text": [
      "Index([' COL FUND STA ISABEL DE HUNGRIA', ' ESCUELA URBANA JOSE ANTONIO GALAN',\n",
      "       ' FUND COL PAR SAN PEDRO CLAVER',\n",
      "       '07/01 INSTITUCION EDUCATIVA JORGE ISAACS INEM',\n",
      "       '20/01 INSTITUCION EDUCATIVA, SIETE DE AGOSTO',\n",
      "       '28/01 INSTITUCIÓN EDUCATIVA SANTA FE',\n",
      "       '32/01 INSTITUCION EDUCATIVA NORMAL SUPERIOR SANTIAGO DE CALI',\n",
      "       '38/01 INSTITUCION EDUCATIVA AGUSTIN NIETO CABALLERO',\n",
      "       '39/01 INSTITUCION EDUCATIVA BOYACA',\n",
      "       '41/01 INSTITUCION EDUCATIVA VILLA DEL SUR',\n",
      "       ...\n",
      "       'SUSANA LOPEZ DE VALENCIA', 'TABLONES',\n",
      "       'TECNOLÓGICO EN INFORMATICA Y COMERCIO DE BUENAVENTURA INCOMEB',\n",
      "       'TERESA CALDERÓN DE LASSO',\n",
      "       'TÉCNICO INDUSTRIAL GERARDO VALENCIA CANO - SEDE PRINCIPAL',\n",
      "       'UNIDAD TECNOLOGICA DE OCCIDENTE', 'UNIDAD TECNOLOGICA DEL SUR',\n",
      "       'UNION PROFESIONAL PARA LA EDUCACION Y EL TRABAJO UPET',\n",
      "       'UNIVERSIDAD NACIONAL ABIERTA Y A DISTANCIA',\n",
      "       'XINSTITUTO TECNICO COMERCIAL PILOTO'],\n",
      "      dtype='object', length=1546)\n",
      " COL FUND STA ISABEL DE HUNGRIA                                                                         370\n",
      " ESCUELA URBANA JOSE ANTONIO GALAN                                                                       39\n",
      " FUND COL PAR SAN PEDRO CLAVER                                                                           79\n",
      "07/01 INSTITUCION EDUCATIVA JORGE ISAACS INEM                                                           517\n",
      "20/01 INSTITUCION EDUCATIVA, SIETE DE AGOSTO                                                             86\n",
      "28/01 INSTITUCIÓN EDUCATIVA SANTA FE                                                                     92\n",
      "32/01 INSTITUCION EDUCATIVA NORMAL SUPERIOR SANTIAGO DE CALI                                            165\n",
      "38/01 INSTITUCION EDUCATIVA AGUSTIN NIETO CABALLERO                                                     121\n",
      "39/01 INSTITUCION EDUCATIVA BOYACA                                                                      120\n",
      "41/01 INSTITUCION EDUCATIVA VILLA DEL SUR                                                               117\n",
      "44/01 INSTITUCIÓN EDUCATIVA COMERCIAL CIUDAD DE CALI                                                    299\n",
      "58/01 INSTITUCION EDUCATIVA GABRIELA MISTRAL                                                            115\n",
      "69/01 INSTITUCION EDUCATIVA LA ESPERANZA                                                                 22\n",
      "74/01 INSTITUCION EDUCATIVA JUANA DE CAICEDO Y CUERO                                                     46\n",
      "80/01 INSTITUCIÓN EDUCATIVA PANCE                                                                        19\n",
      "81/02 INSTITUCION EDUCATIVA LA BUITRERA JOSE MARIA GARCIA DE TOLED                                       30\n",
      "84/04  JOSE HOLGUIN GARCES                                                                                4\n",
      "85/02 SAT JOSE HOLGUIN GARCES                                                                            14\n",
      "86/02 INSTITUCION EDUCATIVA LA LEONERA  ITA FARALLONES                                                   17\n",
      "ABSALON TORRES CAMACHO                                                                                  105\n",
      "ACAD AMERICANA DE SISTEMAS Y COMERCIO                                                                    12\n",
      "ACADE MILIT JOAQUÍN DE CAICEDO Y CUERO                                                                   20\n",
      "ACADEMIA ACADEMIA SAM                                                                                    12\n",
      "ACADEMIA COLOMBIANA DE ENSEÑANZA                                                                         20\n",
      "ACADEMIA COMERCIAL REAL                                                                                  18\n",
      "ACADEMIA DE CIENCIAS DE COLOMBIA AKADEMOS                                                                19\n",
      "ACADEMIA MILIT CORONEL MIGUEL CABAL BARONA                                                               13\n",
      "ACADEMIA MILITAR GENERAL CUSTODIO GARCIA ROVIRA                                                          21\n",
      "ACADEMIA MILITAR GENERAL JOSÉ MARÍA CABAL                                                                32\n",
      "AGRICOLA CAMPOALEGRE                                                                                     36\n",
      "                                                                                                       ... \n",
      "SEDE PRINCIPAL AGUACLARA                                                                                 83\n",
      "SEDE PRINCIPAL CONCENTRACIÓN DE DESARROLLO RURAL                                                         30\n",
      "SEDE PRINCIPAL GIMNASIO DEL PACIFICO CENTRAL                                                            368\n",
      "SEDE PRINCIPAL INSTITUTO JULIA RESTREPO                                                                 286\n",
      "SEDE PRINCIPAL INSTITUTO TEC.  INDUSTRIAL C.S.L.                                                        191\n",
      "SEDE PRINCIPAL LA GRACIELA                                                                               79\n",
      "SEDE PRINCIPAL LICEO MODERNO                                                                            178\n",
      "SEDE PRINCIPAL NO. 7 MARIA ANTONIA RUIZ                                                                  35\n",
      "SEDE PRINCIPAL UNIDAD DOCENTE JOVITA SANTA COLOMA                                                        79\n",
      "SEM DE CRISTO SACERDOTE                                                                                  40\n",
      "SEMILLA DE LA ESPERANZA                                                                                  18\n",
      "SEMINARIO MENOR ARQUIDIOCESANO                                                                           57\n",
      "SERVICIO EDUCATIVO NAL DE ADULTOS SENDAS                                                                110\n",
      "SEVILLA                                                                                                 194\n",
      "SIMON BOLIVAR                                                                                           198\n",
      "SIMON RODRIGUEZ                                                                                          60\n",
      "SIXTO MARIA ROJAS                                                                                        47\n",
      "SOC ESCUELA KARL C PARRISH                                                                               41\n",
      "SOR MARIA JULIANA                                                                                       132\n",
      "STUDIO SISTEMAS AGENCIA CRISTIANA DE SERVICIO Y EDUCACION                                               113\n",
      "SUSANA LOPEZ DE VALENCIA                                                                                 35\n",
      "TABLONES                                                                                                 32\n",
      "TECNOLÓGICO EN INFORMATICA Y COMERCIO DE BUENAVENTURA INCOMEB                                            22\n",
      "TERESA CALDERÓN DE LASSO                                                                                 31\n",
      "TÉCNICO INDUSTRIAL GERARDO VALENCIA CANO - SEDE PRINCIPAL                                               210\n",
      "UNIDAD TECNOLOGICA DE OCCIDENTE                                                                           8\n",
      "UNIDAD TECNOLOGICA DEL SUR                                                                                4\n",
      "UNION PROFESIONAL PARA LA EDUCACION Y EL TRABAJO UPET                                                    16\n",
      "UNIVERSIDAD NACIONAL ABIERTA Y A DISTANCIA                                                               15\n",
      "XINSTITUTO TECNICO COMERCIAL PILOTO                                                                       7\n",
      "Name: COLE_NOMBRE_SEDE, Length: 1546, dtype: int64\n",
      "Elementos null/NaN 0\n",
      "__________________\n",
      "Elementos diferentes de null/NaN: 68959\n",
      "__________________\n",
      "(68959,)\n",
      "None\n"
     ]
    }
   ],
   "source": [
    "c = 'COLE_NOMBRE_SEDE'\n",
    "print(data_2007[c].value_counts().sort_index().index)\n",
    "print(data_2007[c].value_counts().sort_index())\n",
    "print(missing_data(data_2007[c]))"
   ]
  },
  {
   "cell_type": "code",
   "execution_count": 57,
   "metadata": {
    "collapsed": true
   },
   "outputs": [],
   "source": [
    "data_2007 = data_2007.drop([c], axis = 1)"
   ]
  },
  {
   "cell_type": "code",
   "execution_count": 58,
   "metadata": {},
   "outputs": [
    {
     "name": "stdout",
     "output_type": "stream",
     "text": [
      "Index(['A', 'B', 'F'], dtype='object')\n",
      "A    42148\n",
      "B    13125\n",
      "F    13686\n",
      "Name: COLE_CALENDARIO, dtype: int64\n",
      "Elementos null/NaN 0\n",
      "__________________\n",
      "Elementos diferentes de null/NaN: 68959\n",
      "__________________\n",
      "(68959,)\n",
      "None\n"
     ]
    }
   ],
   "source": [
    "c = 'COLE_CALENDARIO'\n",
    "print(data_2007[c].value_counts().sort_index().index)\n",
    "print(data_2007[c].value_counts().sort_index())\n",
    "print(missing_data(data_2007[c]))"
   ]
  },
  {
   "cell_type": "code",
   "execution_count": 59,
   "metadata": {},
   "outputs": [
    {
     "name": "stdout",
     "output_type": "stream",
     "text": [
      "Index(['F', 'M', 'X'], dtype='object')\n",
      "F     4434\n",
      "M     1137\n",
      "X    63388\n",
      "Name: COLE_GENERO, dtype: int64\n",
      "Elementos null/NaN 0\n",
      "__________________\n",
      "Elementos diferentes de null/NaN: 68959\n",
      "__________________\n",
      "(68959,)\n",
      "None\n"
     ]
    }
   ],
   "source": [
    "c = 'COLE_GENERO'\n",
    "print(data_2007[c].value_counts().sort_index().index)\n",
    "print(data_2007[c].value_counts().sort_index())\n",
    "print(missing_data(data_2007[c]))"
   ]
  },
  {
   "cell_type": "code",
   "execution_count": 60,
   "metadata": {},
   "outputs": [
    {
     "name": "stdout",
     "output_type": "stream",
     "text": [
      "Index(['N', 'O'], dtype='object')\n",
      "N    29131\n",
      "O    39828\n",
      "Name: COLE_NATURALEZA, dtype: int64\n",
      "Elementos null/NaN 0\n",
      "__________________\n",
      "Elementos diferentes de null/NaN: 68959\n",
      "__________________\n",
      "(68959,)\n",
      "None\n"
     ]
    }
   ],
   "source": [
    "c = 'COLE_NATURALEZA'\n",
    "print(data_2007[c].value_counts().sort_index().index)\n",
    "print(data_2007[c].value_counts().sort_index())\n",
    "print(missing_data(data_2007[c]))"
   ]
  },
  {
   "cell_type": "code",
   "execution_count": 61,
   "metadata": {},
   "outputs": [
    {
     "name": "stdout",
     "output_type": "stream",
     "text": [
      "Float64Index([0.0, 1.0], dtype='float64')\n",
      "0.0    61584\n",
      "1.0     4134\n",
      "Name: COLE_BILINGUE, dtype: int64\n",
      "Elementos null/NaN 3241\n",
      "__________________\n",
      "Elementos diferentes de null/NaN: 65718\n",
      "__________________\n",
      "(65718,)\n",
      "None\n"
     ]
    }
   ],
   "source": [
    "c = 'COLE_BILINGUE'\n",
    "print(data_2007[c].value_counts().sort_index().index)\n",
    "print(data_2007[c].value_counts().sort_index())\n",
    "print(missing_data(data_2007[c]))"
   ]
  },
  {
   "cell_type": "code",
   "execution_count": 62,
   "metadata": {},
   "outputs": [
    {
     "name": "stdout",
     "output_type": "stream",
     "text": [
      "cant null antes: 3241\n",
      "cant null despues: 0\n"
     ]
    }
   ],
   "source": [
    "Do_resamples(data_2007, 'COLE_BILINGUE', float)"
   ]
  },
  {
   "cell_type": "code",
   "execution_count": 63,
   "metadata": {},
   "outputs": [
    {
     "name": "stdout",
     "output_type": "stream",
     "text": [
      "Index(['COMPLETA U ORDINARIA', 'MAÑANA', 'NOCHE', 'SABATINA - DOMINICAL',\n",
      "       'TARDE'],\n",
      "      dtype='object')\n",
      "COMPLETA U ORDINARIA    10311\n",
      "MAÑANA                  41805\n",
      "NOCHE                    6304\n",
      "SABATINA - DOMINICAL     2714\n",
      "TARDE                    7825\n",
      "Name: COLE_JORNADA, dtype: int64\n",
      "Elementos null/NaN 0\n",
      "__________________\n",
      "Elementos diferentes de null/NaN: 68959\n",
      "__________________\n",
      "(68959,)\n",
      "None\n"
     ]
    }
   ],
   "source": [
    "c = 'COLE_JORNADA'\n",
    "print(data_2007[c].value_counts().sort_index().index)\n",
    "print(data_2007[c].value_counts().sort_index())\n",
    "print(missing_data(data_2007[c]))"
   ]
  },
  {
   "cell_type": "code",
   "execution_count": 64,
   "metadata": {},
   "outputs": [
    {
     "name": "stdout",
     "output_type": "stream",
     "text": [
      "Index(['ACADEMICO', 'ACADEMICO Y TECNICO', 'NORMALISTA', 'TECNICO'], dtype='object')\n",
      "ACADEMICO              35586\n",
      "ACADEMICO Y TECNICO    12058\n",
      "NORMALISTA              1438\n",
      "TECNICO                19877\n",
      "Name: COLE_CARACTER, dtype: int64\n",
      "Elementos null/NaN 0\n",
      "__________________\n",
      "Elementos diferentes de null/NaN: 68959\n",
      "__________________\n",
      "(68959,)\n",
      "None\n"
     ]
    }
   ],
   "source": [
    "c = 'COLE_CARACTER'\n",
    "print(data_2007[c].value_counts().sort_index().index)\n",
    "print(data_2007[c].value_counts().sort_index())\n",
    "print(missing_data(data_2007[c]))"
   ]
  },
  {
   "cell_type": "code",
   "execution_count": 65,
   "metadata": {
    "scrolled": true
   },
   "outputs": [
    {
     "name": "stdout",
     "output_type": "stream",
     "text": [
      "Float64Index([ 1.0,  2.0,  3.0,  4.0,  5.0,  6.0,  7.0,  8.0,  9.0, 10.0, 11.0,\n",
      "              12.0, 13.0, 14.0, 15.0, 16.0, 99.0],\n",
      "             dtype='float64')\n",
      "1.0     3141\n",
      "2.0       19\n",
      "3.0       98\n",
      "4.0        5\n",
      "5.0        4\n",
      "6.0        4\n",
      "7.0        8\n",
      "8.0        6\n",
      "9.0       20\n",
      "10.0       6\n",
      "11.0    1033\n",
      "12.0       8\n",
      "13.0      21\n",
      "14.0       9\n",
      "15.0       3\n",
      "16.0       3\n",
      "99.0    1569\n",
      "Name: ESTU_ETNIA, dtype: int64\n",
      "Elementos null/NaN 63002\n",
      "__________________\n",
      "Elementos diferentes de null/NaN: 5957\n",
      "__________________\n",
      "(5957,)\n",
      "None\n"
     ]
    }
   ],
   "source": [
    "c = 'ESTU_ETNIA'\n",
    "print(data_2007[c].value_counts().sort_index().index)\n",
    "print(data_2007[c].value_counts().sort_index())\n",
    "print(missing_data(data_2007[c]))"
   ]
  },
  {
   "cell_type": "code",
   "execution_count": 67,
   "metadata": {},
   "outputs": [],
   "source": [
    "data_2007['ESTU_ETNIA'].fillna(99, inplace=True)"
   ]
  },
  {
   "cell_type": "code",
   "execution_count": 68,
   "metadata": {},
   "outputs": [
    {
     "name": "stdout",
     "output_type": "stream",
     "text": [
      "Float64Index([0.0, 1.0], dtype='float64')\n",
      "0.0      8\n",
      "1.0    931\n",
      "Name: FAMI_LEE_ESCRIBE_PADRE, dtype: int64\n",
      "Elementos null/NaN 68020\n",
      "__________________\n",
      "Elementos diferentes de null/NaN: 939\n",
      "__________________\n",
      "(939,)\n",
      "None\n"
     ]
    }
   ],
   "source": [
    "c = 'FAMI_LEE_ESCRIBE_PADRE'\n",
    "print(data_2007[c].value_counts().sort_index().index)\n",
    "print(data_2007[c].value_counts().sort_index())\n",
    "print(missing_data(data_2007[c]))"
   ]
  },
  {
   "cell_type": "code",
   "execution_count": 69,
   "metadata": {
    "collapsed": true
   },
   "outputs": [],
   "source": [
    "data_2007 = data_2007.drop([c], axis=1)"
   ]
  },
  {
   "cell_type": "code",
   "execution_count": 70,
   "metadata": {},
   "outputs": [
    {
     "name": "stdout",
     "output_type": "stream",
     "text": [
      "Float64Index([0.0, 1.0], dtype='float64')\n",
      "0.0     13\n",
      "1.0    926\n",
      "Name: FAMI_LEE_ESCRIBE_MADRE, dtype: int64\n",
      "Elementos null/NaN 68020\n",
      "__________________\n",
      "Elementos diferentes de null/NaN: 939\n",
      "__________________\n",
      "(939,)\n",
      "None\n"
     ]
    }
   ],
   "source": [
    "c = 'FAMI_LEE_ESCRIBE_MADRE'\n",
    "print(data_2007[c].value_counts().sort_index().index)\n",
    "print(data_2007[c].value_counts().sort_index())\n",
    "print(missing_data(data_2007[c]))"
   ]
  },
  {
   "cell_type": "code",
   "execution_count": 71,
   "metadata": {
    "collapsed": true
   },
   "outputs": [],
   "source": [
    "data_2007 = data_2007.drop([c], axis=1)"
   ]
  },
  {
   "cell_type": "code",
   "execution_count": 72,
   "metadata": {
    "scrolled": true
   },
   "outputs": [
    {
     "name": "stdout",
     "output_type": "stream",
     "text": [
      "Float64Index([ 0.0,  1.0,  2.0,  3.0,  4.0,  5.0,  9.0, 10.0, 11.0, 12.0, 13.0,\n",
      "              14.0, 15.0, 16.0, 17.0, 99.0],\n",
      "             dtype='float64')\n",
      "0.0     119\n",
      "1.0       3\n",
      "2.0       8\n",
      "3.0       9\n",
      "4.0       8\n",
      "5.0       2\n",
      "9.0     508\n",
      "10.0    420\n",
      "11.0    345\n",
      "12.0    683\n",
      "13.0     53\n",
      "14.0    150\n",
      "15.0     95\n",
      "16.0    682\n",
      "17.0    410\n",
      "99.0     72\n",
      "Name: FAMI_EDUCA_PADRE, dtype: int64\n",
      "Elementos null/NaN 65392\n",
      "__________________\n",
      "Elementos diferentes de null/NaN: 3567\n",
      "__________________\n",
      "(3567,)\n",
      "None\n"
     ]
    }
   ],
   "source": [
    "c = 'FAMI_EDUCA_PADRE'\n",
    "print(data_2007[c].value_counts().sort_index().index)\n",
    "print(data_2007[c].value_counts().sort_index())\n",
    "print(missing_data(data_2007[c]))"
   ]
  },
  {
   "cell_type": "code",
   "execution_count": 73,
   "metadata": {},
   "outputs": [
    {
     "name": "stdout",
     "output_type": "stream",
     "text": [
      "cant null antes: 65392\n",
      "cant null despues: 0\n"
     ]
    }
   ],
   "source": [
    "Do_resamples(data_2007, c, float)"
   ]
  },
  {
   "cell_type": "code",
   "execution_count": 74,
   "metadata": {
    "scrolled": true
   },
   "outputs": [
    {
     "name": "stdout",
     "output_type": "stream",
     "text": [
      "Float64Index([ 0.0,  1.0,  2.0,  3.0,  4.0,  5.0,  7.0,  9.0, 10.0, 11.0, 12.0,\n",
      "              13.0, 14.0, 15.0, 16.0, 17.0, 99.0],\n",
      "             dtype='float64')\n",
      "0.0      60\n",
      "1.0       4\n",
      "2.0      13\n",
      "3.0       7\n",
      "4.0       1\n",
      "5.0       3\n",
      "7.0       2\n",
      "9.0     490\n",
      "10.0    419\n",
      "11.0    412\n",
      "12.0    721\n",
      "13.0     75\n",
      "14.0    203\n",
      "15.0    109\n",
      "16.0    697\n",
      "17.0    301\n",
      "99.0     50\n",
      "Name: FAMI_EDUCA_MADRE, dtype: int64\n",
      "Elementos null/NaN 65392\n",
      "__________________\n",
      "Elementos diferentes de null/NaN: 3567\n",
      "__________________\n",
      "(3567,)\n",
      "None\n"
     ]
    }
   ],
   "source": [
    "c = 'FAMI_EDUCA_MADRE'\n",
    "print(data_2007[c].value_counts().sort_index().index)\n",
    "print(data_2007[c].value_counts().sort_index())\n",
    "print(missing_data(data_2007[c]))"
   ]
  },
  {
   "cell_type": "code",
   "execution_count": 75,
   "metadata": {},
   "outputs": [
    {
     "name": "stdout",
     "output_type": "stream",
     "text": [
      "cant null antes: 65392\n",
      "cant null despues: 1\n",
      "cant null antes: 1\n",
      "cant null despues: 0\n"
     ]
    }
   ],
   "source": [
    "Do_resamples(data_2007, c, float)"
   ]
  },
  {
   "cell_type": "code",
   "execution_count": 76,
   "metadata": {
    "scrolled": true
   },
   "outputs": [
    {
     "name": "stdout",
     "output_type": "stream",
     "text": [
      "Float64Index([ 6.0,  7.0,  9.0, 10.0, 11.0, 12.0, 13.0, 14.0, 15.0, 16.0, 17.0,\n",
      "              18.0, 19.0, 20.0, 21.0, 22.0, 23.0, 24.0, 25.0, 26.0, 99.0],\n",
      "             dtype='float64')\n",
      "6.0       1\n",
      "7.0       2\n",
      "9.0      19\n",
      "10.0      1\n",
      "11.0      6\n",
      "12.0      4\n",
      "13.0    284\n",
      "14.0    357\n",
      "15.0    163\n",
      "16.0    163\n",
      "17.0    203\n",
      "18.0     82\n",
      "19.0    385\n",
      "20.0    295\n",
      "21.0    839\n",
      "22.0     47\n",
      "23.0    212\n",
      "24.0      3\n",
      "25.0      3\n",
      "26.0    414\n",
      "99.0     84\n",
      "Name: FAMI_OCUPA_PADRE, dtype: int64\n",
      "Elementos null/NaN 65392\n",
      "__________________\n",
      "Elementos diferentes de null/NaN: 3567\n",
      "__________________\n",
      "(3567,)\n",
      "None\n"
     ]
    }
   ],
   "source": [
    "c = 'FAMI_OCUPA_PADRE'\n",
    "print(data_2007[c].value_counts().sort_index().index)\n",
    "print(data_2007[c].value_counts().sort_index())\n",
    "print(missing_data(data_2007[c]))"
   ]
  },
  {
   "cell_type": "code",
   "execution_count": 77,
   "metadata": {},
   "outputs": [
    {
     "name": "stdout",
     "output_type": "stream",
     "text": [
      "cant null antes: 65392\n",
      "cant null despues: 2\n",
      "cant null antes: 2\n",
      "cant null despues: 0\n"
     ]
    }
   ],
   "source": [
    "Do_resamples(data_2007, c, float)"
   ]
  },
  {
   "cell_type": "code",
   "execution_count": 78,
   "metadata": {
    "scrolled": true
   },
   "outputs": [
    {
     "name": "stdout",
     "output_type": "stream",
     "text": [
      "Float64Index([ 6.0,  7.0,  8.0,  9.0, 10.0, 12.0, 13.0, 14.0, 15.0, 16.0, 17.0,\n",
      "              18.0, 19.0, 20.0, 21.0, 22.0, 23.0, 24.0, 25.0, 26.0, 99.0],\n",
      "             dtype='float64')\n",
      "6.0        1\n",
      "7.0        1\n",
      "8.0        1\n",
      "9.0        5\n",
      "10.0      24\n",
      "12.0       1\n",
      "13.0     128\n",
      "14.0     208\n",
      "15.0     103\n",
      "16.0     184\n",
      "17.0     189\n",
      "18.0     109\n",
      "19.0     194\n",
      "20.0     187\n",
      "21.0     364\n",
      "22.0    1494\n",
      "23.0     114\n",
      "24.0       1\n",
      "25.0       4\n",
      "26.0     224\n",
      "99.0      31\n",
      "Name: FAMI_OCUPA_MADRE, dtype: int64\n",
      "Elementos null/NaN 65392\n",
      "__________________\n",
      "Elementos diferentes de null/NaN: 3567\n",
      "__________________\n",
      "(3567,)\n",
      "None\n"
     ]
    }
   ],
   "source": [
    "c = 'FAMI_OCUPA_MADRE'\n",
    "print(data_2007[c].value_counts().sort_index().index)\n",
    "print(data_2007[c].value_counts().sort_index())\n",
    "print(missing_data(data_2007[c]))"
   ]
  },
  {
   "cell_type": "code",
   "execution_count": 79,
   "metadata": {},
   "outputs": [
    {
     "name": "stdout",
     "output_type": "stream",
     "text": [
      "cant null antes: 65392\n",
      "cant null despues: 2\n",
      "cant null antes: 2\n",
      "cant null despues: 0\n"
     ]
    }
   ],
   "source": [
    "Do_resamples(data_2007, c, float)"
   ]
  },
  {
   "cell_type": "code",
   "execution_count": 80,
   "metadata": {
    "scrolled": true
   },
   "outputs": [
    {
     "name": "stdout",
     "output_type": "stream",
     "text": [
      "Float64Index([0.0, 1.0, 2.0, 3.0, 4.0, 5.0, 6.0, 7.0, 8.0, 9.0, 10.0], dtype='float64')\n",
      "0.0     139\n",
      "1.0     352\n",
      "2.0     242\n",
      "3.0     115\n",
      "4.0      59\n",
      "5.0      21\n",
      "6.0      19\n",
      "7.0       3\n",
      "8.0       3\n",
      "9.0       1\n",
      "10.0      1\n",
      "Name: FAMI_NUM_HERMANOS, dtype: int64\n",
      "Elementos null/NaN 68004\n",
      "__________________\n",
      "Elementos diferentes de null/NaN: 955\n",
      "__________________\n",
      "(955,)\n",
      "None\n"
     ]
    }
   ],
   "source": [
    "c = 'FAMI_NUM_HERMANOS'\n",
    "print(data_2007[c].value_counts().sort_index().index)\n",
    "print(data_2007[c].value_counts().sort_index())\n",
    "print(missing_data(data_2007[c]))"
   ]
  },
  {
   "cell_type": "code",
   "execution_count": 81,
   "metadata": {},
   "outputs": [
    {
     "name": "stdout",
     "output_type": "stream",
     "text": [
      "cant null antes: 68004\n",
      "cant null despues: 1\n",
      "cant null antes: 1\n",
      "cant null despues: 0\n"
     ]
    }
   ],
   "source": [
    "Do_resamples(data_2007, c, float)"
   ]
  },
  {
   "cell_type": "code",
   "execution_count": 82,
   "metadata": {},
   "outputs": [
    {
     "name": "stdout",
     "output_type": "stream",
     "text": [
      "Float64Index([1.0, 2.0, 3.0, 4.0, 5.0, 6.0, 7.0, 8.0, 9.0, 88.0, 99.0], dtype='float64')\n",
      "1.0      30\n",
      "2.0      63\n",
      "3.0     116\n",
      "4.0     252\n",
      "5.0      35\n",
      "6.0      69\n",
      "7.0     115\n",
      "8.0     110\n",
      "9.0      11\n",
      "88.0    398\n",
      "99.0     31\n",
      "Name: FAMI_EDUCA_HERMANO, dtype: int64\n",
      "Elementos null/NaN 67729\n",
      "__________________\n",
      "Elementos diferentes de null/NaN: 1230\n",
      "__________________\n",
      "(1230,)\n",
      "None\n"
     ]
    }
   ],
   "source": [
    "c = 'FAMI_EDUCA_HERMANO'\n",
    "print(data_2007[c].value_counts().sort_index().index)\n",
    "print(data_2007[c].value_counts().sort_index())\n",
    "print(missing_data(data_2007[c]))"
   ]
  },
  {
   "cell_type": "code",
   "execution_count": 83,
   "metadata": {},
   "outputs": [
    {
     "name": "stdout",
     "output_type": "stream",
     "text": [
      "cant null antes: 67729\n",
      "cant null despues: 1\n",
      "cant null antes: 1\n",
      "cant null despues: 0\n"
     ]
    }
   ],
   "source": [
    "Do_resamples(data_2007, c, float)"
   ]
  },
  {
   "cell_type": "code",
   "execution_count": 84,
   "metadata": {},
   "outputs": [
    {
     "name": "stdout",
     "output_type": "stream",
     "text": [
      "Float64Index([1.0, 2.0, 88.0], dtype='float64')\n",
      "1.0     449\n",
      "2.0      42\n",
      "88.0    325\n",
      "Name: FAMI_HERMANOS_ESTUDIAN, dtype: int64\n",
      "Elementos null/NaN 68143\n",
      "__________________\n",
      "Elementos diferentes de null/NaN: 816\n",
      "__________________\n",
      "(816,)\n",
      "None\n"
     ]
    }
   ],
   "source": [
    "c = 'FAMI_HERMANOS_ESTUDIAN'\n",
    "print(data_2007[c].value_counts().sort_index().index)\n",
    "print(data_2007[c].value_counts().sort_index())\n",
    "print(missing_data(data_2007[c]))"
   ]
  },
  {
   "cell_type": "code",
   "execution_count": 85,
   "metadata": {},
   "outputs": [
    {
     "name": "stdout",
     "output_type": "stream",
     "text": [
      "cant null antes: 68143\n",
      "cant null despues: 1\n",
      "cant null antes: 1\n",
      "cant null despues: 0\n"
     ]
    }
   ],
   "source": [
    "Do_resamples(data_2007, c, float)"
   ]
  },
  {
   "cell_type": "code",
   "execution_count": 86,
   "metadata": {},
   "outputs": [
    {
     "name": "stdout",
     "output_type": "stream",
     "text": [
      "Float64Index([1.0, 2.0, 3.0, 4.0, 5.0, 6.0, 8.0], dtype='float64')\n",
      "1.0    770\n",
      "2.0    960\n",
      "3.0    750\n",
      "4.0    351\n",
      "5.0    302\n",
      "6.0    420\n",
      "8.0     14\n",
      "Name: FAMI_ESTRATO_VIVIENDA, dtype: int64\n",
      "Elementos null/NaN 65392\n",
      "__________________\n",
      "Elementos diferentes de null/NaN: 3567\n",
      "__________________\n",
      "(3567,)\n",
      "None\n"
     ]
    }
   ],
   "source": [
    "c = 'FAMI_ESTRATO_VIVIENDA'\n",
    "print(data_2007[c].value_counts().sort_index().index)\n",
    "print(data_2007[c].value_counts().sort_index())\n",
    "print(missing_data(data_2007[c]))"
   ]
  },
  {
   "cell_type": "code",
   "execution_count": 87,
   "metadata": {
    "collapsed": true
   },
   "outputs": [],
   "source": [
    "data_2007[c] = data_2007[c].replace(8.0, np.nan)"
   ]
  },
  {
   "cell_type": "code",
   "execution_count": 88,
   "metadata": {},
   "outputs": [
    {
     "name": "stdout",
     "output_type": "stream",
     "text": [
      "cant null antes: 65406\n",
      "cant null despues: 0\n"
     ]
    }
   ],
   "source": [
    "Do_resamples(data_2007, c, float)"
   ]
  },
  {
   "cell_type": "code",
   "execution_count": 89,
   "metadata": {},
   "outputs": [
    {
     "name": "stdout",
     "output_type": "stream",
     "text": [
      "Float64Index([1.0, 2.0, 3.0, 4.0, 5.0], dtype='float64')\n",
      "1.0     919\n",
      "2.0     551\n",
      "3.0     116\n",
      "4.0      61\n",
      "5.0    1920\n",
      "Name: FAMI_NIVEL_SISBEN, dtype: int64\n",
      "Elementos null/NaN 65392\n",
      "__________________\n",
      "Elementos diferentes de null/NaN: 3567\n",
      "__________________\n",
      "(3567,)\n",
      "None\n"
     ]
    }
   ],
   "source": [
    "c = 'FAMI_NIVEL_SISBEN'\n",
    "print(data_2007[c].value_counts().sort_index().index)\n",
    "print(data_2007[c].value_counts().sort_index())\n",
    "print(missing_data(data_2007[c]))"
   ]
  },
  {
   "cell_type": "code",
   "execution_count": 90,
   "metadata": {},
   "outputs": [
    {
     "name": "stdout",
     "output_type": "stream",
     "text": [
      "cant null antes: 65392\n",
      "cant null despues: 0\n"
     ]
    }
   ],
   "source": [
    "Do_resamples(data_2007, c, float)"
   ]
  },
  {
   "cell_type": "code",
   "execution_count": 113,
   "metadata": {},
   "outputs": [
    {
     "name": "stdout",
     "output_type": "stream",
     "text": [
      "Float64Index([1.0, 2.0, 3.0, 4.0, 5.0, 6.0, 7.0, 8.0, 9.0, 10.0, 11.0, 12.0], dtype='float64')\n",
      "1.0      102\n",
      "2.0      292\n",
      "3.0      753\n",
      "4.0     1081\n",
      "5.0      740\n",
      "6.0      302\n",
      "7.0      137\n",
      "8.0       80\n",
      "9.0       34\n",
      "10.0      24\n",
      "11.0       6\n",
      "12.0      15\n",
      "Name: FAMI_PERSONAS_HOGAR, dtype: int64\n",
      "Elementos null/NaN 65393\n",
      "__________________\n",
      "Elementos diferentes de null/NaN: 3566\n",
      "__________________\n",
      "(3566,)\n",
      "None\n"
     ]
    }
   ],
   "source": [
    "c = 'FAMI_PERSONAS_HOGAR'\n",
    "print(data_2007[c].value_counts().sort_index().index)\n",
    "print(data_2007[c].value_counts().sort_index())\n",
    "print(missing_data(data_2007[c]))"
   ]
  },
  {
   "cell_type": "code",
   "execution_count": 114,
   "metadata": {},
   "outputs": [
    {
     "name": "stdout",
     "output_type": "stream",
     "text": [
      "cant null antes: 65393\n",
      "cant null despues: 2\n",
      "cant null antes: 2\n",
      "cant null despues: 0\n"
     ]
    }
   ],
   "source": [
    "Do_resamples(data_2007, c, float)"
   ]
  },
  {
   "cell_type": "code",
   "execution_count": 115,
   "metadata": {},
   "outputs": [
    {
     "name": "stdout",
     "output_type": "stream",
     "text": [
      "Float64Index([1.0, 2.0, 3.0, 4.0, 5.0], dtype='float64')\n",
      "1.0      91\n",
      "2.0    1030\n",
      "3.0     226\n",
      "4.0    1501\n",
      "5.0     719\n",
      "Name: FAMI_PISOSHOGAR, dtype: int64\n",
      "Elementos null/NaN 65392\n",
      "__________________\n",
      "Elementos diferentes de null/NaN: 3567\n",
      "__________________\n",
      "(3567,)\n",
      "None\n"
     ]
    }
   ],
   "source": [
    "c = 'FAMI_PISOSHOGAR'\n",
    "print(data_2007[c].value_counts().sort_index().index)\n",
    "print(data_2007[c].value_counts().sort_index())\n",
    "print(missing_data(data_2007[c]))"
   ]
  },
  {
   "cell_type": "code",
   "execution_count": 116,
   "metadata": {},
   "outputs": [
    {
     "name": "stdout",
     "output_type": "stream",
     "text": [
      "cant null antes: 65392\n",
      "cant null despues: 1\n",
      "cant null antes: 1\n",
      "cant null despues: 0\n"
     ]
    }
   ],
   "source": [
    "Do_resamples(data_2007, c, float)"
   ]
  },
  {
   "cell_type": "code",
   "execution_count": 117,
   "metadata": {},
   "outputs": [
    {
     "name": "stdout",
     "output_type": "stream",
     "text": [
      "Float64Index([1.0, 2.0, 3.0, 4.0, 5.0, 6.0, 7.0, 8.0, 9.0, 10.0], dtype='float64')\n",
      "1.0      24\n",
      "2.0     132\n",
      "3.0     340\n",
      "4.0     383\n",
      "5.0     316\n",
      "6.0     165\n",
      "7.0      62\n",
      "8.0      32\n",
      "9.0      16\n",
      "10.0     15\n",
      "Name: FAMI_CUARTOS_HOGAR, dtype: int64\n",
      "Elementos null/NaN 67474\n",
      "__________________\n",
      "Elementos diferentes de null/NaN: 1485\n",
      "__________________\n",
      "(1485,)\n",
      "None\n"
     ]
    }
   ],
   "source": [
    "c = 'FAMI_CUARTOS_HOGAR'\n",
    "print(data_2007[c].value_counts().sort_index().index)\n",
    "print(data_2007[c].value_counts().sort_index())\n",
    "print(missing_data(data_2007[c]))"
   ]
  },
  {
   "cell_type": "code",
   "execution_count": 118,
   "metadata": {},
   "outputs": [
    {
     "name": "stdout",
     "output_type": "stream",
     "text": [
      "cant null antes: 67474\n",
      "cant null despues: 0\n"
     ]
    }
   ],
   "source": [
    "Do_resamples(data_2007, c, float)"
   ]
  },
  {
   "cell_type": "code",
   "execution_count": 119,
   "metadata": {},
   "outputs": [
    {
     "name": "stdout",
     "output_type": "stream",
     "text": [
      "Float64Index([1.0, 2.0, 3.0, 4.0, 5.0, 6.0, 7.0, 8.0, 10.0], dtype='float64')\n",
      "1.0      193\n",
      "2.0     1024\n",
      "3.0     1524\n",
      "4.0      585\n",
      "5.0      155\n",
      "6.0       41\n",
      "7.0       17\n",
      "8.0        3\n",
      "10.0       4\n",
      "Name: FAMI_DORMITORIOS_HOGAR, dtype: int64\n",
      "Elementos null/NaN 65413\n",
      "__________________\n",
      "Elementos diferentes de null/NaN: 3546\n",
      "__________________\n",
      "(3546,)\n",
      "None\n"
     ]
    }
   ],
   "source": [
    "c = 'FAMI_DORMITORIOS_HOGAR'\n",
    "print(data_2007[c].value_counts().sort_index().index)\n",
    "print(data_2007[c].value_counts().sort_index())\n",
    "print(missing_data(data_2007[c]))"
   ]
  },
  {
   "cell_type": "code",
   "execution_count": 120,
   "metadata": {},
   "outputs": [
    {
     "name": "stdout",
     "output_type": "stream",
     "text": [
      "cant null antes: 65413\n",
      "cant null despues: 1\n",
      "cant null antes: 1\n",
      "cant null despues: 0\n"
     ]
    }
   ],
   "source": [
    "Do_resamples(data_2007, c, float)"
   ]
  },
  {
   "cell_type": "code",
   "execution_count": 121,
   "metadata": {},
   "outputs": [
    {
     "name": "stdout",
     "output_type": "stream",
     "text": [
      "Float64Index([0.0, 1.0, 2.0, 3.0, 4.0], dtype='float64')\n",
      "0.0    1070\n",
      "1.0      56\n",
      "2.0      43\n",
      "3.0    2367\n",
      "4.0      31\n",
      "Name: FAMI_COMPUTADOR, dtype: int64\n",
      "Elementos null/NaN 65392\n",
      "__________________\n",
      "Elementos diferentes de null/NaN: 3567\n",
      "__________________\n",
      "(3567,)\n",
      "None\n"
     ]
    }
   ],
   "source": [
    "c = 'FAMI_COMPUTADOR'\n",
    "print(data_2007[c].value_counts().sort_index().index)\n",
    "print(data_2007[c].value_counts().sort_index())\n",
    "print(missing_data(data_2007[c]))"
   ]
  },
  {
   "cell_type": "code",
   "execution_count": 122,
   "metadata": {},
   "outputs": [
    {
     "name": "stdout",
     "output_type": "stream",
     "text": [
      "cant null antes: 65392\n",
      "cant null despues: 0\n"
     ]
    }
   ],
   "source": [
    "Do_resamples(data_2007, c, float)"
   ]
  },
  {
   "cell_type": "code",
   "execution_count": 124,
   "metadata": {},
   "outputs": [
    {
     "name": "stdout",
     "output_type": "stream",
     "text": [
      "Float64Index([1.0, 2.0, 3.0, 4.0, 5.0, 6.0, 7.0], dtype='float64')\n",
      "1.0     582\n",
      "2.0    1250\n",
      "3.0     544\n",
      "4.0     406\n",
      "5.0     172\n",
      "6.0     187\n",
      "7.0     426\n",
      "Name: FAMI_INGRESO_FMILIAR_MENSUAL, dtype: int64\n",
      "Elementos null/NaN 65392\n",
      "__________________\n",
      "Elementos diferentes de null/NaN: 3567\n",
      "__________________\n",
      "(3567,)\n",
      "None\n"
     ]
    }
   ],
   "source": [
    "c = 'FAMI_INGRESO_FMILIAR_MENSUAL'\n",
    "print(data_2007[c].value_counts().sort_index().index)\n",
    "print(data_2007[c].value_counts().sort_index())\n",
    "print(missing_data(data_2007[c]))"
   ]
  },
  {
   "cell_type": "code",
   "execution_count": 125,
   "metadata": {},
   "outputs": [
    {
     "name": "stdout",
     "output_type": "stream",
     "text": [
      "cant null antes: 65392\n",
      "cant null despues: 0\n"
     ]
    }
   ],
   "source": [
    "Do_resamples(data_2007, c, float)"
   ]
  },
  {
   "cell_type": "code",
   "execution_count": 126,
   "metadata": {},
   "outputs": [
    {
     "name": "stdout",
     "output_type": "stream",
     "text": [
      "Float64Index([0.0, 1.0, 2.0, 3.0, 4.0, 5.0, 6.0, 7.0], dtype='float64')\n",
      "0.0    2139\n",
      "1.0      66\n",
      "2.0      30\n",
      "3.0     364\n",
      "4.0     196\n",
      "5.0     303\n",
      "6.0       1\n",
      "7.0       5\n",
      "Name: ESTU_TRABAJA, dtype: int64\n",
      "Elementos null/NaN 65855\n",
      "__________________\n",
      "Elementos diferentes de null/NaN: 3104\n",
      "__________________\n",
      "(3104,)\n",
      "None\n"
     ]
    }
   ],
   "source": [
    "c = 'ESTU_TRABAJA'\n",
    "print(data_2007[c].value_counts().sort_index().index)\n",
    "print(data_2007[c].value_counts().sort_index())\n",
    "print(missing_data(data_2007[c]))"
   ]
  },
  {
   "cell_type": "code",
   "execution_count": 127,
   "metadata": {},
   "outputs": [
    {
     "name": "stdout",
     "output_type": "stream",
     "text": [
      "cant null antes: 65855\n",
      "cant null despues: 1\n",
      "cant null antes: 1\n",
      "cant null despues: 0\n"
     ]
    }
   ],
   "source": [
    "Do_resamples(data_2007, c, float)"
   ]
  },
  {
   "cell_type": "code",
   "execution_count": 128,
   "metadata": {
    "scrolled": true
   },
   "outputs": [
    {
     "name": "stdout",
     "output_type": "stream",
     "text": [
      "Float64Index([ 0.0,  1.0,  2.0,  3.0,  4.0,  5.0,  6.0,  7.0,  8.0,  9.0, 10.0,\n",
      "              11.0, 12.0, 13.0, 14.0, 15.0, 16.0, 17.0, 18.0, 19.0, 20.0],\n",
      "             dtype='float64')\n",
      "0.0       2\n",
      "1.0       3\n",
      "2.0       8\n",
      "3.0       5\n",
      "4.0      19\n",
      "5.0      19\n",
      "6.0      27\n",
      "7.0      10\n",
      "8.0      82\n",
      "9.0      13\n",
      "10.0     38\n",
      "11.0      5\n",
      "12.0     21\n",
      "13.0      8\n",
      "14.0     10\n",
      "15.0     18\n",
      "16.0     20\n",
      "17.0      2\n",
      "18.0     15\n",
      "19.0     10\n",
      "20.0    621\n",
      "Name: ESTU_HORAS_TRABAJA, dtype: int64\n",
      "Elementos null/NaN 68003\n",
      "__________________\n",
      "Elementos diferentes de null/NaN: 956\n",
      "__________________\n",
      "(956,)\n",
      "None\n"
     ]
    }
   ],
   "source": [
    "c = 'ESTU_HORAS_TRABAJA'\n",
    "print(data_2007[c].value_counts().sort_index().index)\n",
    "print(data_2007[c].value_counts().sort_index())\n",
    "print(missing_data(data_2007[c]))"
   ]
  },
  {
   "cell_type": "code",
   "execution_count": 129,
   "metadata": {},
   "outputs": [
    {
     "name": "stdout",
     "output_type": "stream",
     "text": [
      "cant null antes: 68003\n",
      "cant null despues: 0\n"
     ]
    }
   ],
   "source": [
    "Do_resamples(data_2007, c, float)"
   ]
  },
  {
   "cell_type": "code",
   "execution_count": 130,
   "metadata": {
    "scrolled": true
   },
   "outputs": [
    {
     "name": "stdout",
     "output_type": "stream",
     "text": [
      "Float64Index([0.0, 1.0, 2.0, 3.0, 4.0, 5.0, 6.0, 7.0, 8.0, 9.0, 10.0, 11.0,\n",
      "              12.0],\n",
      "             dtype='float64')\n",
      "0.0     35844\n",
      "1.0      7632\n",
      "2.0      5522\n",
      "3.0      4661\n",
      "4.0      3784\n",
      "5.0      3057\n",
      "6.0      2654\n",
      "7.0      5667\n",
      "8.0        85\n",
      "9.0         7\n",
      "10.0        6\n",
      "11.0       10\n",
      "12.0        7\n",
      "Name: COLE_VALOR_PENSION, dtype: int64\n",
      "Elementos null/NaN 23\n",
      "__________________\n",
      "Elementos diferentes de null/NaN: 68936\n",
      "__________________\n",
      "(68936,)\n",
      "None\n"
     ]
    }
   ],
   "source": [
    "c = 'COLE_VALOR_PENSION'\n",
    "print(data_2007[c].value_counts().sort_index().index)\n",
    "print(data_2007[c].value_counts().sort_index())\n",
    "print(missing_data(data_2007[c]))"
   ]
  },
  {
   "cell_type": "code",
   "execution_count": 131,
   "metadata": {},
   "outputs": [
    {
     "name": "stdout",
     "output_type": "stream",
     "text": [
      "cant null antes: 23\n",
      "cant null despues: 0\n"
     ]
    }
   ],
   "source": [
    "Do_resamples(data_2007, c, float)"
   ]
  },
  {
   "cell_type": "code",
   "execution_count": 132,
   "metadata": {},
   "outputs": [
    {
     "name": "stdout",
     "output_type": "stream",
     "text": [
      "Float64Index([0.0, 1.0, 3.0], dtype='float64')\n",
      "0.0    1\n",
      "1.0    1\n",
      "3.0    9\n",
      "Name: ESTU_CARRDESEADA_TIPO, dtype: int64\n",
      "Elementos null/NaN 68948\n",
      "__________________\n",
      "Elementos diferentes de null/NaN: 11\n",
      "__________________\n",
      "(11,)\n",
      "None\n"
     ]
    }
   ],
   "source": [
    "c = 'ESTU_CARRDESEADA_TIPO'\n",
    "print(data_2007[c].value_counts().sort_index().index)\n",
    "print(data_2007[c].value_counts().sort_index())\n",
    "print(missing_data(data_2007[c]))"
   ]
  },
  {
   "cell_type": "code",
   "execution_count": 133,
   "metadata": {
    "collapsed": true
   },
   "outputs": [],
   "source": [
    "data_2007 = data_2007.drop([c], axis=1)"
   ]
  },
  {
   "cell_type": "code",
   "execution_count": 134,
   "metadata": {},
   "outputs": [
    {
     "name": "stdout",
     "output_type": "stream",
     "text": [
      "Float64Index([9.0, 27.0, 45.0, 57.0], dtype='float64')\n",
      "9.0     3\n",
      "27.0    1\n",
      "45.0    4\n",
      "57.0    2\n",
      "Name: ESTU_CARRDESEADA_NUCLEO, dtype: int64\n",
      "Elementos null/NaN 68949\n",
      "__________________\n",
      "Elementos diferentes de null/NaN: 10\n",
      "__________________\n",
      "(10,)\n",
      "None\n"
     ]
    }
   ],
   "source": [
    "c = 'ESTU_CARRDESEADA_NUCLEO'\n",
    "print(data_2007[c].value_counts().sort_index().index)\n",
    "print(data_2007[c].value_counts().sort_index())\n",
    "print(missing_data(data_2007[c]))"
   ]
  },
  {
   "cell_type": "code",
   "execution_count": 135,
   "metadata": {
    "collapsed": true
   },
   "outputs": [],
   "source": [
    "data_2007 = data_2007.drop([c], axis=1)"
   ]
  },
  {
   "cell_type": "code",
   "execution_count": 137,
   "metadata": {
    "scrolled": true
   },
   "outputs": [
    {
     "name": "stdout",
     "output_type": "stream",
     "text": [
      "Float64Index([1101.0, 1102.0, 1103.0, 1104.0, 1105.0, 1106.0, 1107.0, 1108.0,\n",
      "              1109.0, 1110.0,\n",
      "              ...\n",
      "              9104.0, 9105.0, 9107.0, 9109.0, 9110.0, 9111.0, 9112.0, 9113.0,\n",
      "              9114.0, 9115.0],\n",
      "             dtype='float64', length=300)\n",
      "1101.0     2063\n",
      "1102.0      131\n",
      "1103.0      150\n",
      "1104.0      508\n",
      "1105.0       90\n",
      "1106.0       35\n",
      "1107.0       11\n",
      "1108.0        7\n",
      "1109.0        3\n",
      "1110.0      948\n",
      "1111.0      575\n",
      "1112.0      249\n",
      "1113.0       31\n",
      "1114.0      107\n",
      "1115.0       22\n",
      "1117.0       57\n",
      "1119.0       98\n",
      "1120.0        3\n",
      "1121.0        6\n",
      "1122.0      293\n",
      "1124.0        2\n",
      "1125.0        1\n",
      "1201.0      621\n",
      "1202.0       45\n",
      "1203.0    16955\n",
      "1204.0      155\n",
      "1205.0       36\n",
      "1206.0     5719\n",
      "1207.0       69\n",
      "1208.0      266\n",
      "          ...  \n",
      "4813.0       14\n",
      "4814.0       38\n",
      "4817.0       11\n",
      "4818.0        6\n",
      "4822.0       12\n",
      "4823.0       13\n",
      "4825.0        8\n",
      "4826.0        9\n",
      "4827.0       19\n",
      "4828.0       51\n",
      "4829.0        2\n",
      "4832.0        4\n",
      "4835.0       11\n",
      "4837.0        4\n",
      "4838.0       14\n",
      "5801.0        6\n",
      "5802.0        6\n",
      "9101.0      138\n",
      "9102.0       25\n",
      "9103.0      210\n",
      "9104.0      156\n",
      "9105.0       39\n",
      "9107.0        9\n",
      "9109.0        1\n",
      "9110.0      350\n",
      "9111.0      892\n",
      "9112.0       65\n",
      "9113.0        5\n",
      "9114.0       13\n",
      "9115.0      255\n",
      "Name: ESTU_IES_COD_DESEADA, Length: 300, dtype: int64\n",
      "Elementos null/NaN 24352\n",
      "__________________\n",
      "Elementos diferentes de null/NaN: 44607\n",
      "__________________\n",
      "(44607,)\n",
      "None\n"
     ]
    }
   ],
   "source": [
    "c = 'ESTU_IES_COD_DESEADA'\n",
    "print(data_2007[c].value_counts().sort_index().index)\n",
    "print(data_2007[c].value_counts().sort_index())\n",
    "print(missing_data(data_2007[c]))"
   ]
  },
  {
   "cell_type": "code",
   "execution_count": 138,
   "metadata": {},
   "outputs": [],
   "source": [
    "data_2007[c].fillna(method='bfill', inplace=True)\n",
    "data_2007[c].fillna(method='ffill', inplace=True)"
   ]
  },
  {
   "cell_type": "code",
   "execution_count": 142,
   "metadata": {
    "collapsed": true
   },
   "outputs": [
    {
     "ename": "KeyError",
     "evalue": "'ESTU_IES_COD_MPIO_DESEADA'",
     "output_type": "error",
     "traceback": [
      "\u001b[0;31m---------------------------------------------------------------------------\u001b[0m",
      "\u001b[0;31mKeyError\u001b[0m                                  Traceback (most recent call last)",
      "\u001b[0;32m~/anaconda3/lib/python3.6/site-packages/pandas/core/indexes/base.py\u001b[0m in \u001b[0;36mget_loc\u001b[0;34m(self, key, method, tolerance)\u001b[0m\n\u001b[1;32m   2441\u001b[0m             \u001b[0;32mtry\u001b[0m\u001b[0;34m:\u001b[0m\u001b[0;34m\u001b[0m\u001b[0m\n\u001b[0;32m-> 2442\u001b[0;31m                 \u001b[0;32mreturn\u001b[0m \u001b[0mself\u001b[0m\u001b[0;34m.\u001b[0m\u001b[0m_engine\u001b[0m\u001b[0;34m.\u001b[0m\u001b[0mget_loc\u001b[0m\u001b[0;34m(\u001b[0m\u001b[0mkey\u001b[0m\u001b[0;34m)\u001b[0m\u001b[0;34m\u001b[0m\u001b[0m\n\u001b[0m\u001b[1;32m   2443\u001b[0m             \u001b[0;32mexcept\u001b[0m \u001b[0mKeyError\u001b[0m\u001b[0;34m:\u001b[0m\u001b[0;34m\u001b[0m\u001b[0m\n",
      "\u001b[0;32mpandas/_libs/index.pyx\u001b[0m in \u001b[0;36mpandas._libs.index.IndexEngine.get_loc\u001b[0;34m()\u001b[0m\n",
      "\u001b[0;32mpandas/_libs/index.pyx\u001b[0m in \u001b[0;36mpandas._libs.index.IndexEngine.get_loc\u001b[0;34m()\u001b[0m\n",
      "\u001b[0;32mpandas/_libs/hashtable_class_helper.pxi\u001b[0m in \u001b[0;36mpandas._libs.hashtable.PyObjectHashTable.get_item\u001b[0;34m()\u001b[0m\n",
      "\u001b[0;32mpandas/_libs/hashtable_class_helper.pxi\u001b[0m in \u001b[0;36mpandas._libs.hashtable.PyObjectHashTable.get_item\u001b[0;34m()\u001b[0m\n",
      "\u001b[0;31mKeyError\u001b[0m: 'ESTU_IES_COD_MPIO_DESEADA'",
      "\nDuring handling of the above exception, another exception occurred:\n",
      "\u001b[0;31mKeyError\u001b[0m                                  Traceback (most recent call last)",
      "\u001b[0;32m~/Documents/DataScience/Proyecto/ICFES_Project/ICFESProject/New_Project/tools/label_encoder.py\u001b[0m in \u001b[0;36m<module>\u001b[0;34m()\u001b[0m\n\u001b[1;32m      1\u001b[0m \u001b[0mc\u001b[0m \u001b[0;34m=\u001b[0m \u001b[0;34m'ESTU_IES_COD_MPIO_DESEADA'\u001b[0m\u001b[0;34m\u001b[0m\u001b[0m\n\u001b[0;32m----> 2\u001b[0;31m \u001b[0mprint\u001b[0m\u001b[0;34m(\u001b[0m\u001b[0mdata_2007\u001b[0m\u001b[0;34m[\u001b[0m\u001b[0mc\u001b[0m\u001b[0;34m]\u001b[0m\u001b[0;34m.\u001b[0m\u001b[0mvalue_counts\u001b[0m\u001b[0;34m(\u001b[0m\u001b[0;34m)\u001b[0m\u001b[0;34m.\u001b[0m\u001b[0msort_index\u001b[0m\u001b[0;34m(\u001b[0m\u001b[0;34m)\u001b[0m\u001b[0;34m.\u001b[0m\u001b[0mindex\u001b[0m\u001b[0;34m)\u001b[0m\u001b[0;34m\u001b[0m\u001b[0m\n\u001b[0m\u001b[1;32m      3\u001b[0m \u001b[0mprint\u001b[0m\u001b[0;34m(\u001b[0m\u001b[0mdata_2007\u001b[0m\u001b[0;34m[\u001b[0m\u001b[0mc\u001b[0m\u001b[0;34m]\u001b[0m\u001b[0;34m.\u001b[0m\u001b[0mvalue_counts\u001b[0m\u001b[0;34m(\u001b[0m\u001b[0;34m)\u001b[0m\u001b[0;34m.\u001b[0m\u001b[0msort_index\u001b[0m\u001b[0;34m(\u001b[0m\u001b[0;34m)\u001b[0m\u001b[0;34m)\u001b[0m\u001b[0;34m\u001b[0m\u001b[0m\n\u001b[1;32m      4\u001b[0m \u001b[0mprint\u001b[0m\u001b[0;34m(\u001b[0m\u001b[0mmissing_data\u001b[0m\u001b[0;34m(\u001b[0m\u001b[0mdata_2007\u001b[0m\u001b[0;34m[\u001b[0m\u001b[0mc\u001b[0m\u001b[0;34m]\u001b[0m\u001b[0;34m)\u001b[0m\u001b[0;34m)\u001b[0m\u001b[0;34m\u001b[0m\u001b[0m\n",
      "\u001b[0;32m~/anaconda3/lib/python3.6/site-packages/pandas/core/frame.py\u001b[0m in \u001b[0;36m__getitem__\u001b[0;34m(self, key)\u001b[0m\n\u001b[1;32m   1962\u001b[0m             \u001b[0;32mreturn\u001b[0m \u001b[0mself\u001b[0m\u001b[0;34m.\u001b[0m\u001b[0m_getitem_multilevel\u001b[0m\u001b[0;34m(\u001b[0m\u001b[0mkey\u001b[0m\u001b[0;34m)\u001b[0m\u001b[0;34m\u001b[0m\u001b[0m\n\u001b[1;32m   1963\u001b[0m         \u001b[0;32melse\u001b[0m\u001b[0;34m:\u001b[0m\u001b[0;34m\u001b[0m\u001b[0m\n\u001b[0;32m-> 1964\u001b[0;31m             \u001b[0;32mreturn\u001b[0m \u001b[0mself\u001b[0m\u001b[0;34m.\u001b[0m\u001b[0m_getitem_column\u001b[0m\u001b[0;34m(\u001b[0m\u001b[0mkey\u001b[0m\u001b[0;34m)\u001b[0m\u001b[0;34m\u001b[0m\u001b[0m\n\u001b[0m\u001b[1;32m   1965\u001b[0m \u001b[0;34m\u001b[0m\u001b[0m\n\u001b[1;32m   1966\u001b[0m     \u001b[0;32mdef\u001b[0m \u001b[0m_getitem_column\u001b[0m\u001b[0;34m(\u001b[0m\u001b[0mself\u001b[0m\u001b[0;34m,\u001b[0m \u001b[0mkey\u001b[0m\u001b[0;34m)\u001b[0m\u001b[0;34m:\u001b[0m\u001b[0;34m\u001b[0m\u001b[0m\n",
      "\u001b[0;32m~/anaconda3/lib/python3.6/site-packages/pandas/core/frame.py\u001b[0m in \u001b[0;36m_getitem_column\u001b[0;34m(self, key)\u001b[0m\n\u001b[1;32m   1969\u001b[0m         \u001b[0;31m# get column\u001b[0m\u001b[0;34m\u001b[0m\u001b[0;34m\u001b[0m\u001b[0m\n\u001b[1;32m   1970\u001b[0m         \u001b[0;32mif\u001b[0m \u001b[0mself\u001b[0m\u001b[0;34m.\u001b[0m\u001b[0mcolumns\u001b[0m\u001b[0;34m.\u001b[0m\u001b[0mis_unique\u001b[0m\u001b[0;34m:\u001b[0m\u001b[0;34m\u001b[0m\u001b[0m\n\u001b[0;32m-> 1971\u001b[0;31m             \u001b[0;32mreturn\u001b[0m \u001b[0mself\u001b[0m\u001b[0;34m.\u001b[0m\u001b[0m_get_item_cache\u001b[0m\u001b[0;34m(\u001b[0m\u001b[0mkey\u001b[0m\u001b[0;34m)\u001b[0m\u001b[0;34m\u001b[0m\u001b[0m\n\u001b[0m\u001b[1;32m   1972\u001b[0m \u001b[0;34m\u001b[0m\u001b[0m\n\u001b[1;32m   1973\u001b[0m         \u001b[0;31m# duplicate columns & possible reduce dimensionality\u001b[0m\u001b[0;34m\u001b[0m\u001b[0;34m\u001b[0m\u001b[0m\n",
      "\u001b[0;32m~/anaconda3/lib/python3.6/site-packages/pandas/core/generic.py\u001b[0m in \u001b[0;36m_get_item_cache\u001b[0;34m(self, item)\u001b[0m\n\u001b[1;32m   1643\u001b[0m         \u001b[0mres\u001b[0m \u001b[0;34m=\u001b[0m \u001b[0mcache\u001b[0m\u001b[0;34m.\u001b[0m\u001b[0mget\u001b[0m\u001b[0;34m(\u001b[0m\u001b[0mitem\u001b[0m\u001b[0;34m)\u001b[0m\u001b[0;34m\u001b[0m\u001b[0m\n\u001b[1;32m   1644\u001b[0m         \u001b[0;32mif\u001b[0m \u001b[0mres\u001b[0m \u001b[0;32mis\u001b[0m \u001b[0;32mNone\u001b[0m\u001b[0;34m:\u001b[0m\u001b[0;34m\u001b[0m\u001b[0m\n\u001b[0;32m-> 1645\u001b[0;31m             \u001b[0mvalues\u001b[0m \u001b[0;34m=\u001b[0m \u001b[0mself\u001b[0m\u001b[0;34m.\u001b[0m\u001b[0m_data\u001b[0m\u001b[0;34m.\u001b[0m\u001b[0mget\u001b[0m\u001b[0;34m(\u001b[0m\u001b[0mitem\u001b[0m\u001b[0;34m)\u001b[0m\u001b[0;34m\u001b[0m\u001b[0m\n\u001b[0m\u001b[1;32m   1646\u001b[0m             \u001b[0mres\u001b[0m \u001b[0;34m=\u001b[0m \u001b[0mself\u001b[0m\u001b[0;34m.\u001b[0m\u001b[0m_box_item_values\u001b[0m\u001b[0;34m(\u001b[0m\u001b[0mitem\u001b[0m\u001b[0;34m,\u001b[0m \u001b[0mvalues\u001b[0m\u001b[0;34m)\u001b[0m\u001b[0;34m\u001b[0m\u001b[0m\n\u001b[1;32m   1647\u001b[0m             \u001b[0mcache\u001b[0m\u001b[0;34m[\u001b[0m\u001b[0mitem\u001b[0m\u001b[0;34m]\u001b[0m \u001b[0;34m=\u001b[0m \u001b[0mres\u001b[0m\u001b[0;34m\u001b[0m\u001b[0m\n",
      "\u001b[0;32m~/anaconda3/lib/python3.6/site-packages/pandas/core/internals.py\u001b[0m in \u001b[0;36mget\u001b[0;34m(self, item, fastpath)\u001b[0m\n\u001b[1;32m   3588\u001b[0m \u001b[0;34m\u001b[0m\u001b[0m\n\u001b[1;32m   3589\u001b[0m             \u001b[0;32mif\u001b[0m \u001b[0;32mnot\u001b[0m \u001b[0misnull\u001b[0m\u001b[0;34m(\u001b[0m\u001b[0mitem\u001b[0m\u001b[0;34m)\u001b[0m\u001b[0;34m:\u001b[0m\u001b[0;34m\u001b[0m\u001b[0m\n\u001b[0;32m-> 3590\u001b[0;31m                 \u001b[0mloc\u001b[0m \u001b[0;34m=\u001b[0m \u001b[0mself\u001b[0m\u001b[0;34m.\u001b[0m\u001b[0mitems\u001b[0m\u001b[0;34m.\u001b[0m\u001b[0mget_loc\u001b[0m\u001b[0;34m(\u001b[0m\u001b[0mitem\u001b[0m\u001b[0;34m)\u001b[0m\u001b[0;34m\u001b[0m\u001b[0m\n\u001b[0m\u001b[1;32m   3591\u001b[0m             \u001b[0;32melse\u001b[0m\u001b[0;34m:\u001b[0m\u001b[0;34m\u001b[0m\u001b[0m\n\u001b[1;32m   3592\u001b[0m                 \u001b[0mindexer\u001b[0m \u001b[0;34m=\u001b[0m \u001b[0mnp\u001b[0m\u001b[0;34m.\u001b[0m\u001b[0marange\u001b[0m\u001b[0;34m(\u001b[0m\u001b[0mlen\u001b[0m\u001b[0;34m(\u001b[0m\u001b[0mself\u001b[0m\u001b[0;34m.\u001b[0m\u001b[0mitems\u001b[0m\u001b[0;34m)\u001b[0m\u001b[0;34m)\u001b[0m\u001b[0;34m[\u001b[0m\u001b[0misnull\u001b[0m\u001b[0;34m(\u001b[0m\u001b[0mself\u001b[0m\u001b[0;34m.\u001b[0m\u001b[0mitems\u001b[0m\u001b[0;34m)\u001b[0m\u001b[0;34m]\u001b[0m\u001b[0;34m\u001b[0m\u001b[0m\n",
      "\u001b[0;32m~/anaconda3/lib/python3.6/site-packages/pandas/core/indexes/base.py\u001b[0m in \u001b[0;36mget_loc\u001b[0;34m(self, key, method, tolerance)\u001b[0m\n\u001b[1;32m   2442\u001b[0m                 \u001b[0;32mreturn\u001b[0m \u001b[0mself\u001b[0m\u001b[0;34m.\u001b[0m\u001b[0m_engine\u001b[0m\u001b[0;34m.\u001b[0m\u001b[0mget_loc\u001b[0m\u001b[0;34m(\u001b[0m\u001b[0mkey\u001b[0m\u001b[0;34m)\u001b[0m\u001b[0;34m\u001b[0m\u001b[0m\n\u001b[1;32m   2443\u001b[0m             \u001b[0;32mexcept\u001b[0m \u001b[0mKeyError\u001b[0m\u001b[0;34m:\u001b[0m\u001b[0;34m\u001b[0m\u001b[0m\n\u001b[0;32m-> 2444\u001b[0;31m                 \u001b[0;32mreturn\u001b[0m \u001b[0mself\u001b[0m\u001b[0;34m.\u001b[0m\u001b[0m_engine\u001b[0m\u001b[0;34m.\u001b[0m\u001b[0mget_loc\u001b[0m\u001b[0;34m(\u001b[0m\u001b[0mself\u001b[0m\u001b[0;34m.\u001b[0m\u001b[0m_maybe_cast_indexer\u001b[0m\u001b[0;34m(\u001b[0m\u001b[0mkey\u001b[0m\u001b[0;34m)\u001b[0m\u001b[0;34m)\u001b[0m\u001b[0;34m\u001b[0m\u001b[0m\n\u001b[0m\u001b[1;32m   2445\u001b[0m \u001b[0;34m\u001b[0m\u001b[0m\n\u001b[1;32m   2446\u001b[0m         \u001b[0mindexer\u001b[0m \u001b[0;34m=\u001b[0m \u001b[0mself\u001b[0m\u001b[0;34m.\u001b[0m\u001b[0mget_indexer\u001b[0m\u001b[0;34m(\u001b[0m\u001b[0;34m[\u001b[0m\u001b[0mkey\u001b[0m\u001b[0;34m]\u001b[0m\u001b[0;34m,\u001b[0m \u001b[0mmethod\u001b[0m\u001b[0;34m=\u001b[0m\u001b[0mmethod\u001b[0m\u001b[0;34m,\u001b[0m \u001b[0mtolerance\u001b[0m\u001b[0;34m=\u001b[0m\u001b[0mtolerance\u001b[0m\u001b[0;34m)\u001b[0m\u001b[0;34m\u001b[0m\u001b[0m\n",
      "\u001b[0;32mpandas/_libs/index.pyx\u001b[0m in \u001b[0;36mpandas._libs.index.IndexEngine.get_loc\u001b[0;34m()\u001b[0m\n",
      "\u001b[0;32mpandas/_libs/index.pyx\u001b[0m in \u001b[0;36mpandas._libs.index.IndexEngine.get_loc\u001b[0;34m()\u001b[0m\n",
      "\u001b[0;32mpandas/_libs/hashtable_class_helper.pxi\u001b[0m in \u001b[0;36mpandas._libs.hashtable.PyObjectHashTable.get_item\u001b[0;34m()\u001b[0m\n",
      "\u001b[0;32mpandas/_libs/hashtable_class_helper.pxi\u001b[0m in \u001b[0;36mpandas._libs.hashtable.PyObjectHashTable.get_item\u001b[0;34m()\u001b[0m\n",
      "\u001b[0;31mKeyError\u001b[0m: 'ESTU_IES_COD_MPIO_DESEADA'"
     ]
    }
   ],
   "source": [
    "c = 'ESTU_IES_COD_MPIO_DESEADA'\n",
    "print(data_2007[c].value_counts().sort_index().index)\n",
    "print(data_2007[c].value_counts().sort_index())\n",
    "print(missing_data(data_2007[c]))"
   ]
  },
  {
   "cell_type": "code",
   "execution_count": 106,
   "metadata": {
    "collapsed": true
   },
   "outputs": [],
   "source": [
    "data_2007 = data_2007.drop([c], axis = 1)"
   ]
  },
  {
   "cell_type": "code",
   "execution_count": 145,
   "metadata": {
    "scrolled": true
   },
   "outputs": [
    {
     "name": "stdout",
     "output_type": "stream",
     "text": [
      "Index(['ANDES', 'APARTADO', 'ARAUCA', 'ARMENIA', 'BARRANCABERMEJA',\n",
      "       'BARRANQUILLA', 'BELLO', 'BOGOTÁ D.C.', 'BUCARAMANGA', 'BUENAVENTURA',\n",
      "       'BUGA', 'CALDAS', 'CALI', 'CARTAGENA', 'CARTAGO', 'CAUCASIA', 'CERETE',\n",
      "       'CHIA', 'CHIQUINQUIRA', 'CIENAGA', 'COPACABANA', 'CUCUTA', 'DUITAMA',\n",
      "       'ENVIGADO', 'ESPINAL', 'FLORENCIA', 'FUSAGASUGA', 'GIRARDOT', 'HONDA',\n",
      "       'IBAGUE', 'LETICIA', 'MADRID', 'MANIZALES', 'MEDELLIN', 'MONTERIA',\n",
      "       'MOSQUERA', 'NEIVA', 'NILO', 'PALMIRA', 'PAMPLONA', 'PASTO',\n",
      "       'PENSILVANIA', 'PEREIRA', 'POPAYAN', 'PUERTO BERRIO', 'RIOHACHA',\n",
      "       'RIONEGRO', 'ROLDANILLO', 'SAN ANDRES', 'SAN GIL', 'SAN JUAN DEL CESAR',\n",
      "       'SANTA MARTA', 'SANTA ROSA DE CABAL', 'SANTA ROSA DE OSOS', 'SEVILLA',\n",
      "       'SIBUNDOY', 'SOGAMOSO', 'TOLU', 'TULUA', 'TUNJA', 'TURBO', 'UBATE',\n",
      "       'VALLEDUPAR', 'VILLAVICENCIO', 'YOPAL'],\n",
      "      dtype='object')\n",
      "ANDES                      6\n",
      "APARTADO                   1\n",
      "ARAUCA                     2\n",
      "ARMENIA                  329\n",
      "BARRANCABERMEJA            2\n",
      "BARRANQUILLA             371\n",
      "BELLO                      6\n",
      "BOGOTÁ D.C.             7761\n",
      "BUCARAMANGA              269\n",
      "BUENAVENTURA             293\n",
      "BUGA                     282\n",
      "CALDAS                     4\n",
      "CALI                   22606\n",
      "CARTAGENA                148\n",
      "CARTAGO                   75\n",
      "CAUCASIA                   3\n",
      "CERETE                     1\n",
      "CHIA                     180\n",
      "CHIQUINQUIRA               3\n",
      "CIENAGA                    1\n",
      "COPACABANA                 1\n",
      "CUCUTA                    64\n",
      "DUITAMA                   11\n",
      "ENVIGADO                   3\n",
      "ESPINAL                    4\n",
      "FLORENCIA                 22\n",
      "FUSAGASUGA                25\n",
      "GIRARDOT                  21\n",
      "HONDA                      7\n",
      "IBAGUE                    95\n",
      "                       ...  \n",
      "MOSQUERA                   5\n",
      "NEIVA                    111\n",
      "NILO                      97\n",
      "PALMIRA                  584\n",
      "PAMPLONA                  16\n",
      "PASTO                   6215\n",
      "PENSILVANIA               16\n",
      "PEREIRA                  792\n",
      "POPAYAN                 1032\n",
      "PUERTO BERRIO              1\n",
      "RIOHACHA                   8\n",
      "RIONEGRO                  14\n",
      "ROLDANILLO                60\n",
      "SAN ANDRES                 3\n",
      "SAN GIL                    1\n",
      "SAN JUAN DEL CESAR         1\n",
      "SANTA MARTA               14\n",
      "SANTA ROSA DE CABAL       14\n",
      "SANTA ROSA DE OSOS         2\n",
      "SEVILLA                    1\n",
      "SIBUNDOY                   1\n",
      "SOGAMOSO                   7\n",
      "TOLU                       4\n",
      "TULUA                    715\n",
      "TUNJA                     54\n",
      "TURBO                     10\n",
      "UBATE                     14\n",
      "VALLEDUPAR                 3\n",
      "VILLAVICENCIO             99\n",
      "YOPAL                      4\n",
      "Name: ESTU_IES_MPIO_DESEADA, Length: 65, dtype: int64\n",
      "Elementos null/NaN 24352\n",
      "__________________\n",
      "Elementos diferentes de null/NaN: 44607\n",
      "__________________\n",
      "(44607,)\n",
      "None\n"
     ]
    }
   ],
   "source": [
    "c = 'ESTU_IES_MPIO_DESEADA'\n",
    "print(data_2007[c].value_counts().sort_index().index)\n",
    "print(data_2007[c].value_counts().sort_index())\n",
    "print(missing_data(data_2007[c]))"
   ]
  },
  {
   "cell_type": "code",
   "execution_count": 146,
   "metadata": {
    "collapsed": true
   },
   "outputs": [],
   "source": [
    "data_2007[c].fillna(method='bfill', inplace=True)\n",
    "data_2007[c].fillna(method='ffill', inplace=True)"
   ]
  },
  {
   "cell_type": "code",
   "execution_count": 148,
   "metadata": {
    "scrolled": true
   },
   "outputs": [
    {
     "name": "stdout",
     "output_type": "stream",
     "text": [
      "Index(['AMAZONAS', 'ANTIOQUIA', 'ARAUCA', 'ATLÁNTICO', 'BOGOTÁ', 'BOLÍVAR',\n",
      "       'BOYACÁ', 'CALDAS', 'CAQUETÁ', 'CASANARE', 'CAUCA', 'CESAR',\n",
      "       'CUNDINAMARCA', 'CÓRDOBA', 'HUILA', 'LA GUAJIRA', 'MAGDALENA', 'META',\n",
      "       'NARIÑO', 'NORTE SANTANDER', 'PUTUMAYO', 'QUINDÍO', 'RISARALDA',\n",
      "       'SAN ANDRÉS', 'SANTANDER', 'SUCRE', 'TOLIMA', 'VALLE'],\n",
      "      dtype='object')\n",
      "AMAZONAS               1\n",
      "ANTIOQUIA           1498\n",
      "ARAUCA                 2\n",
      "ATLÁNTICO            371\n",
      "BOGOTÁ              7761\n",
      "BOLÍVAR              148\n",
      "BOYACÁ                75\n",
      "CALDAS               619\n",
      "CAQUETÁ               22\n",
      "CASANARE               4\n",
      "CAUCA               1032\n",
      "CESAR                  3\n",
      "CUNDINAMARCA         367\n",
      "CÓRDOBA               38\n",
      "HUILA                111\n",
      "LA GUAJIRA             9\n",
      "MAGDALENA             15\n",
      "META                  99\n",
      "NARIÑO              6215\n",
      "NORTE SANTANDER       80\n",
      "PUTUMAYO               1\n",
      "QUINDÍO              329\n",
      "RISARALDA            806\n",
      "SAN ANDRÉS             3\n",
      "SANTANDER            272\n",
      "SUCRE                  4\n",
      "TOLIMA               106\n",
      "VALLE              24616\n",
      "Name: ESTU_IES_DEPT_DESEADA, dtype: int64\n",
      "Elementos null/NaN 24352\n",
      "__________________\n",
      "Elementos diferentes de null/NaN: 44607\n",
      "__________________\n",
      "(44607,)\n",
      "None\n"
     ]
    }
   ],
   "source": [
    "c = 'ESTU_IES_DEPT_DESEADA'\n",
    "print(data_2007[c].value_counts().sort_index().index)\n",
    "print(data_2007[c].value_counts().sort_index())\n",
    "print(missing_data(data_2007[c]))"
   ]
  },
  {
   "cell_type": "code",
   "execution_count": 149,
   "metadata": {
    "collapsed": true
   },
   "outputs": [],
   "source": [
    "data_2007[c].fillna(method='bfill', inplace=True)\n",
    "data_2007[c].fillna(method='ffill', inplace=True)"
   ]
  },
  {
   "cell_type": "code",
   "execution_count": 150,
   "metadata": {},
   "outputs": [
    {
     "name": "stdout",
     "output_type": "stream",
     "text": [
      "Float64Index([1.0, 2.0, 3.0, 4.0, 5.0, 6.0, 7.0, 8.0], dtype='float64')\n",
      "1.0     1332\n",
      "2.0     7113\n",
      "3.0    24825\n",
      "4.0     5462\n",
      "5.0     3978\n",
      "6.0     2494\n",
      "7.0     2619\n",
      "8.0     3124\n",
      "Name: ESTU_RAZONINSTITUTO, dtype: int64\n",
      "Elementos null/NaN 18012\n",
      "__________________\n",
      "Elementos diferentes de null/NaN: 50947\n",
      "__________________\n",
      "(50947,)\n",
      "None\n"
     ]
    }
   ],
   "source": [
    "c = 'ESTU_RAZONINSTITUTO'\n",
    "print(data_2007[c].value_counts().sort_index().index)\n",
    "print(data_2007[c].value_counts().sort_index())\n",
    "print(missing_data(data_2007[c]))"
   ]
  },
  {
   "cell_type": "code",
   "execution_count": 151,
   "metadata": {},
   "outputs": [
    {
     "name": "stdout",
     "output_type": "stream",
     "text": [
      "cant null antes: 18012\n",
      "cant null despues: 0\n"
     ]
    }
   ],
   "source": [
    "Do_resamples(data_2007, c, float)"
   ]
  },
  {
   "cell_type": "code",
   "execution_count": 152,
   "metadata": {
    "scrolled": true
   },
   "outputs": [
    {
     "name": "stdout",
     "output_type": "stream",
     "text": [
      "Float64Index([    1.0,     5.0,     7.0,    63.0,    64.0,    68.0,    86.0,\n",
      "                103.0,   105.0,   106.0,\n",
      "              ...\n",
      "              22441.0, 22546.0, 22581.0, 22764.0, 22773.0, 22839.0, 22967.0,\n",
      "              22973.0, 22996.0, 24642.0],\n",
      "             dtype='float64', length=2677)\n",
      "1.0         1\n",
      "5.0         6\n",
      "7.0         8\n",
      "63.0        3\n",
      "64.0        1\n",
      "68.0       17\n",
      "86.0        1\n",
      "103.0       4\n",
      "105.0       1\n",
      "106.0       1\n",
      "107.0       1\n",
      "108.0       4\n",
      "116.0      62\n",
      "117.0       2\n",
      "120.0       6\n",
      "128.0       6\n",
      "129.0      11\n",
      "130.0       3\n",
      "131.0       4\n",
      "133.0       1\n",
      "142.0       7\n",
      "143.0       3\n",
      "152.0      28\n",
      "160.0       1\n",
      "161.0       1\n",
      "163.0       1\n",
      "164.0       1\n",
      "165.0       1\n",
      "166.0       1\n",
      "170.0      16\n",
      "           ..\n",
      "21987.0     1\n",
      "21989.0     1\n",
      "21990.0     1\n",
      "21991.0     1\n",
      "21992.0     4\n",
      "21996.0     1\n",
      "22003.0     5\n",
      "22043.0    30\n",
      "22044.0     9\n",
      "22045.0     2\n",
      "22046.0    14\n",
      "22047.0    46\n",
      "22048.0     5\n",
      "22049.0    14\n",
      "22050.0    15\n",
      "22051.0    26\n",
      "22052.0    36\n",
      "22053.0    15\n",
      "22054.0    10\n",
      "22055.0     2\n",
      "22441.0     1\n",
      "22546.0     1\n",
      "22581.0     1\n",
      "22764.0     3\n",
      "22773.0     1\n",
      "22839.0     3\n",
      "22967.0     2\n",
      "22973.0     2\n",
      "22996.0     1\n",
      "24642.0    18\n",
      "Name: ESTU_CARRDESEADA_COD, Length: 2677, dtype: int64\n",
      "Elementos null/NaN 25673\n",
      "__________________\n",
      "Elementos diferentes de null/NaN: 43286\n",
      "__________________\n",
      "(43286,)\n",
      "None\n"
     ]
    }
   ],
   "source": [
    "c = 'ESTU_CARRDESEADA_COD'\n",
    "print(data_2007[c].value_counts().sort_index().index)\n",
    "print(data_2007[c].value_counts().sort_index())\n",
    "print(missing_data(data_2007[c]))"
   ]
  },
  {
   "cell_type": "code",
   "execution_count": 153,
   "metadata": {},
   "outputs": [
    {
     "name": "stdout",
     "output_type": "stream",
     "text": [
      "cant null antes: 25673\n",
      "cant null despues: 0\n"
     ]
    }
   ],
   "source": [
    "Do_resamples(data_2007, c, float)"
   ]
  },
  {
   "cell_type": "code",
   "execution_count": 154,
   "metadata": {},
   "outputs": [
    {
     "name": "stdout",
     "output_type": "stream",
     "text": [
      "Float64Index([1.0, 2.0, 3.0, 4.0, 5.0, 6.0], dtype='float64')\n",
      "1.0    15898\n",
      "2.0    17857\n",
      "3.0     8932\n",
      "4.0     4503\n",
      "5.0     3226\n",
      "6.0     1225\n",
      "Name: ESTU_CARRDESEADA_RAZON, dtype: int64\n",
      "Elementos null/NaN 17318\n",
      "__________________\n",
      "Elementos diferentes de null/NaN: 51641\n",
      "__________________\n",
      "(51641,)\n",
      "None\n"
     ]
    }
   ],
   "source": [
    "c = 'ESTU_CARRDESEADA_RAZON'\n",
    "print(data_2007[c].value_counts().sort_index().index)\n",
    "print(data_2007[c].value_counts().sort_index())\n",
    "print(missing_data(data_2007[c]))"
   ]
  },
  {
   "cell_type": "code",
   "execution_count": 155,
   "metadata": {},
   "outputs": [
    {
     "name": "stdout",
     "output_type": "stream",
     "text": [
      "cant null antes: 17318\n",
      "cant null despues: 1\n",
      "cant null antes: 1\n",
      "cant null despues: 0\n"
     ]
    }
   ],
   "source": [
    "Do_resamples(data_2007, c, float)"
   ]
  },
  {
   "cell_type": "markdown",
   "metadata": {},
   "source": [
    "## TARGETS"
   ]
  },
  {
   "cell_type": "code",
   "execution_count": 157,
   "metadata": {
    "scrolled": true
   },
   "outputs": [
    {
     "name": "stdout",
     "output_type": "stream",
     "text": [
      "Index(['-1', '0', '17,12', '25,02', '29,97', '33,71', '36,8', '39,5', '41,93',\n",
      "       '44,18', '46,31', '48,36', '50,35', '52,33', '54,31', '56,32', '58,39',\n",
      "       '60,55', '62,85', '65,33', '68,09', '71,26', '75,08', '80,12'],\n",
      "      dtype='object')\n",
      "-1          8\n",
      "0           4\n",
      "17,12      32\n",
      "25,02      94\n",
      "29,97     356\n",
      "33,71     856\n",
      "36,8     1900\n",
      "39,5     3052\n",
      "41,93    4538\n",
      "44,18    5765\n",
      "46,31    6976\n",
      "48,36    7651\n",
      "50,35    7745\n",
      "52,33    7464\n",
      "54,31    6997\n",
      "56,32    5534\n",
      "58,39    4224\n",
      "60,55    2851\n",
      "62,85    1618\n",
      "65,33     784\n",
      "68,09     361\n",
      "71,26     117\n",
      "75,08      29\n",
      "80,12       3\n",
      "Name: PUNT_LENGUAJE, dtype: int64\n",
      "Elementos null/NaN 0\n",
      "__________________\n",
      "Elementos diferentes de null/NaN: 68959\n",
      "__________________\n",
      "(68959,)\n",
      "None\n"
     ]
    }
   ],
   "source": [
    "c = 'PUNT_LENGUAJE'\n",
    "print(data_2007[c].value_counts().sort_index().index)\n",
    "print(data_2007[c].value_counts().sort_index())\n",
    "print(missing_data(data_2007[c]))"
   ]
  },
  {
   "cell_type": "code",
   "execution_count": 158,
   "metadata": {
    "scrolled": true
   },
   "outputs": [],
   "source": [
    "for i in data_2007[c].value_counts().sort_index().index:\n",
    "    if ',' in i:\n",
    "        data_2007[c] = data_2007[c].replace(i, i.replace(',', '.'))\n",
    "\n",
    "for i in data_2007[c].value_counts().sort_index().index:\n",
    "    if type(i) == str:\n",
    "        data_2007[c] = data_2007[c].replace(i, float(i))\n",
    "        \n",
    "data_2007[c] = data_2007[c].replace(-1, np.mean(data_2007[c]))"
   ]
  },
  {
   "cell_type": "code",
   "execution_count": 160,
   "metadata": {
    "scrolled": true
   },
   "outputs": [
    {
     "name": "stdout",
     "output_type": "stream",
     "text": [
      "Index(['-1', '0', '100,93', '11,3', '117,16', '22,06', '28,76', '33,72',\n",
      "       '37,74', '41,17', '44,22', '47,01', '49,62', '52,1', '54,52', '56,89',\n",
      "       '59,27', '61,68', '64,15', '66,75', '69,51', '72,51', '75,87', '79,77',\n",
      "       '84,52', '90,85'],\n",
      "      dtype='object')\n",
      "-1           5\n",
      "0           20\n",
      "100,93      35\n",
      "11,3       153\n",
      "117,16      10\n",
      "22,06      772\n",
      "28,76     2246\n",
      "33,72     4898\n",
      "37,74     7714\n",
      "41,17     9859\n",
      "44,22     9921\n",
      "47,01     8843\n",
      "49,62     6901\n",
      "52,1      4903\n",
      "54,52     3429\n",
      "56,89     2450\n",
      "59,27     1770\n",
      "61,68     1340\n",
      "64,15     1021\n",
      "66,75      814\n",
      "69,51      638\n",
      "72,51      479\n",
      "75,87      316\n",
      "79,77      205\n",
      "84,52      138\n",
      "90,85       79\n",
      "Name: PUNT_MATEMATICAS, dtype: int64\n",
      "Elementos null/NaN 0\n",
      "__________________\n",
      "Elementos diferentes de null/NaN: 68959\n",
      "__________________\n",
      "(68959,)\n",
      "None\n"
     ]
    }
   ],
   "source": [
    "c = 'PUNT_MATEMATICAS'\n",
    "print(data_2007[c].value_counts().sort_index().index)\n",
    "print(data_2007[c].value_counts().sort_index())\n",
    "print(missing_data(data_2007[c]))"
   ]
  },
  {
   "cell_type": "code",
   "execution_count": 161,
   "metadata": {
    "collapsed": true
   },
   "outputs": [],
   "source": [
    "for i in data_2007[c].value_counts().sort_index().index:\n",
    "    if ',' in i:\n",
    "        data_2007[c] = data_2007[c].replace(i, i.replace(',', '.'))\n",
    "\n",
    "for i in data_2007[c].value_counts().sort_index().index:\n",
    "    if type(i) == str:\n",
    "        data_2007[c] = data_2007[c].replace(i, float(i))\n",
    "        \n",
    "        \n",
    "data_2007[c] = data_2007[c].replace(-1, np.mean(data_2007[c]))"
   ]
  },
  {
   "cell_type": "code",
   "execution_count": 162,
   "metadata": {
    "scrolled": true
   },
   "outputs": [
    {
     "name": "stdout",
     "output_type": "stream",
     "text": [
      "Index(['-1', '0', '1,17', '10,49', '16,27', '20,62', '24,18', '27,26', '30',\n",
      "       '32,5', '34,83', '37,03', '39,13', '41,15', '43,12', '45,06', '46,98',\n",
      "       '48,89', '50,82', '52,77', '54,76', '56,83', '58,98', '61,25', '63,7',\n",
      "       '66,37', '69,36', '72,84', '77,09', '82,77', '91,97'],\n",
      "      dtype='object')\n",
      "-1          4\n",
      "0           2\n",
      "1,17        4\n",
      "10,49      25\n",
      "16,27      70\n",
      "20,62     192\n",
      "24,18     470\n",
      "27,26     907\n",
      "30       1438\n",
      "32,5     2278\n",
      "34,83    3201\n",
      "37,03    3960\n",
      "39,13    4891\n",
      "41,15    5319\n",
      "43,12    5761\n",
      "45,06    5985\n",
      "46,98    5861\n",
      "48,89    5763\n",
      "50,82    5305\n",
      "52,77    4663\n",
      "54,76    3875\n",
      "56,83    3196\n",
      "58,98    2355\n",
      "61,25    1638\n",
      "63,7      943\n",
      "66,37     525\n",
      "69,36     231\n",
      "72,84      70\n",
      "77,09      16\n",
      "82,77      10\n",
      "91,97       1\n",
      "Name: PUNT_C_SOCIALES, dtype: int64\n",
      "Elementos null/NaN 0\n",
      "__________________\n",
      "Elementos diferentes de null/NaN: 68959\n",
      "__________________\n",
      "(68959,)\n",
      "None\n"
     ]
    }
   ],
   "source": [
    "c = 'PUNT_C_SOCIALES'\n",
    "print(data_2007[c].value_counts().sort_index().index)\n",
    "print(data_2007[c].value_counts().sort_index())\n",
    "print(missing_data(data_2007[c]))"
   ]
  },
  {
   "cell_type": "code",
   "execution_count": 163,
   "metadata": {
    "collapsed": true
   },
   "outputs": [],
   "source": [
    "for i in data_2007[c].value_counts().sort_index().index:\n",
    "    if ',' in i:\n",
    "        data_2007[c] = data_2007[c].replace(i, i.replace(',', '.'))\n",
    "\n",
    "for i in data_2007[c].value_counts().sort_index().index:\n",
    "    if type(i) == str:\n",
    "        data_2007[c] = data_2007[c].replace(i, float(i))\n",
    "        \n",
    "data_2007[c] = data_2007[c].replace(-1, np.mean(data_2007[c]))"
   ]
  },
  {
   "cell_type": "code",
   "execution_count": 164,
   "metadata": {
    "scrolled": true
   },
   "outputs": [
    {
     "name": "stdout",
     "output_type": "stream",
     "text": [
      "Index(['-1', '0', '10,39', '19,44', '25,1', '29,38', '32,93', '36,02', '38,82',\n",
      "       '41,41', '43,87', '46,23', '48,54', '50,82', '53,1', '55,42', '57,8',\n",
      "       '60,28', '62,91', '65,75', '68,9', '72,5', '76,85'],\n",
      "      dtype='object')\n",
      "-1         48\n",
      "0          23\n",
      "10,39      70\n",
      "19,44     308\n",
      "25,1     1005\n",
      "29,38    2372\n",
      "32,93    4116\n",
      "36,02    6247\n",
      "38,82    8123\n",
      "41,41    9159\n",
      "43,87    9378\n",
      "46,23    8440\n",
      "48,54    6897\n",
      "50,82    5221\n",
      "53,1     3465\n",
      "55,42    2087\n",
      "57,8     1086\n",
      "60,28     539\n",
      "62,91     257\n",
      "65,75      89\n",
      "68,9       25\n",
      "72,5        2\n",
      "76,85       2\n",
      "Name: PUNT_FILOSOFIA, dtype: int64\n",
      "Elementos null/NaN 0\n",
      "__________________\n",
      "Elementos diferentes de null/NaN: 68959\n",
      "__________________\n",
      "(68959,)\n",
      "None\n"
     ]
    }
   ],
   "source": [
    "c = 'PUNT_FILOSOFIA'\n",
    "print(data_2007[c].value_counts().sort_index().index)\n",
    "print(data_2007[c].value_counts().sort_index())\n",
    "print(missing_data(data_2007[c]))"
   ]
  },
  {
   "cell_type": "code",
   "execution_count": 165,
   "metadata": {
    "collapsed": true
   },
   "outputs": [],
   "source": [
    "for i in data_2007[c].value_counts().sort_index().index:\n",
    "    if ',' in i:\n",
    "        data_2007[c] = data_2007[c].replace(i, i.replace(',', '.'))\n",
    "\n",
    "for i in data_2007[c].value_counts().sort_index().index:\n",
    "    if type(i) == str:\n",
    "        data_2007[c] = data_2007[c].replace(i, float(i))\n",
    "        \n",
    "data_2007[c] = data_2007[c].replace(-1, np.mean(data_2007[c]))"
   ]
  },
  {
   "cell_type": "code",
   "execution_count": 166,
   "metadata": {
    "scrolled": true
   },
   "outputs": [
    {
     "name": "stdout",
     "output_type": "stream",
     "text": [
      "Index(['0', '19,32', '26,84', '31,5', '35', '37,88', '40,38', '42,62', '44,69',\n",
      "       '46,64', '48,51', '50,32', '52,12', '53,91', '55,73', '57,59', '59,54',\n",
      "       '61,6', '63,84', '66,32', '69,19', '72,68', '77,33', '84,83', '97,26'],\n",
      "      dtype='object')\n",
      "0          20\n",
      "19,32     123\n",
      "26,84     581\n",
      "31,5     1548\n",
      "35       3230\n",
      "37,88    5161\n",
      "40,38    7121\n",
      "42,62    8439\n",
      "44,69    8538\n",
      "46,64    8204\n",
      "48,51    6910\n",
      "50,32    5563\n",
      "52,12    4202\n",
      "53,91    3133\n",
      "55,73    2115\n",
      "57,59    1514\n",
      "59,54    1070\n",
      "61,6      672\n",
      "63,84     389\n",
      "66,32     233\n",
      "69,19     123\n",
      "72,68      47\n",
      "77,33      19\n",
      "84,83       3\n",
      "97,26       1\n",
      "Name: PUNT_BIOLOGIA, dtype: int64\n",
      "Elementos null/NaN 0\n",
      "__________________\n",
      "Elementos diferentes de null/NaN: 68959\n",
      "__________________\n",
      "(68959,)\n",
      "None\n"
     ]
    }
   ],
   "source": [
    "c = 'PUNT_BIOLOGIA'\n",
    "print(data_2007[c].value_counts().sort_index().index)\n",
    "print(data_2007[c].value_counts().sort_index())\n",
    "print(missing_data(data_2007[c]))"
   ]
  },
  {
   "cell_type": "code",
   "execution_count": 167,
   "metadata": {
    "collapsed": true
   },
   "outputs": [],
   "source": [
    "for i in data_2007[c].value_counts().sort_index().index:\n",
    "    if ',' in i:\n",
    "        data_2007[c] = data_2007[c].replace(i, i.replace(',', '.'))\n",
    "\n",
    "for i in data_2007[c].value_counts().sort_index().index:\n",
    "    if type(i) == str:\n",
    "        data_2007[c] = data_2007[c].replace(i, float(i))"
   ]
  },
  {
   "cell_type": "code",
   "execution_count": 168,
   "metadata": {
    "scrolled": true
   },
   "outputs": [
    {
     "name": "stdout",
     "output_type": "stream",
     "text": [
      "Index(['0', '17,7', '24,52', '28,75', '31,92', '34,53', '36,78', '38,8',\n",
      "       '40,66', '42,4', '44,07', '45,7', '47,3', '48,89', '50,51', '52,17',\n",
      "       '53,9', '55,73', '57,72', '59,94', '62,49', '65,61', '69,76', '76,48',\n",
      "       '87,65'],\n",
      "      dtype='object')\n",
      "0           8\n",
      "17,7       80\n",
      "24,52     353\n",
      "28,75    1118\n",
      "31,92    2601\n",
      "34,53    4906\n",
      "36,78    7044\n",
      "38,8     8973\n",
      "40,66    9095\n",
      "42,4     8621\n",
      "44,07    6927\n",
      "45,7     5322\n",
      "47,3     3877\n",
      "48,89    2909\n",
      "50,51    2055\n",
      "52,17    1518\n",
      "53,9     1184\n",
      "55,73     894\n",
      "57,72     653\n",
      "59,94     455\n",
      "62,49     226\n",
      "65,61     106\n",
      "69,76      30\n",
      "76,48       2\n",
      "87,65       2\n",
      "Name: PUNT_QUIMICA, dtype: int64\n",
      "Elementos null/NaN 0\n",
      "__________________\n",
      "Elementos diferentes de null/NaN: 68959\n",
      "__________________\n",
      "(68959,)\n",
      "None\n"
     ]
    }
   ],
   "source": [
    "c = 'PUNT_QUIMICA'\n",
    "print(data_2007[c].value_counts().sort_index().index)\n",
    "print(data_2007[c].value_counts().sort_index())\n",
    "print(missing_data(data_2007[c]))"
   ]
  },
  {
   "cell_type": "code",
   "execution_count": 169,
   "metadata": {
    "collapsed": true
   },
   "outputs": [],
   "source": [
    "for i in data_2007[c].value_counts().sort_index().index:\n",
    "    if ',' in i:\n",
    "        data_2007[c] = data_2007[c].replace(i, i.replace(',', '.'))\n",
    "\n",
    "for i in data_2007[c].value_counts().sort_index().index:\n",
    "    if type(i) == str:\n",
    "        data_2007[c] = data_2007[c].replace(i, float(i))"
   ]
  },
  {
   "cell_type": "code",
   "execution_count": 170,
   "metadata": {
    "scrolled": true
   },
   "outputs": [
    {
     "name": "stdout",
     "output_type": "stream",
     "text": [
      "Index(['0', '13,6', '23,28', '29,28', '33,79', '37,5', '40,72', '43,61',\n",
      "       '46,28', '48,79', '51,2', '53,55', '55,86', '58,17', '60,52', '62,93',\n",
      "       '65,44', '68,1', '70,98', '74,19', '77,89', '82,38', '88,36'],\n",
      "      dtype='object')\n",
      "0           23\n",
      "13,6       124\n",
      "23,28      745\n",
      "29,28     2386\n",
      "33,79     5181\n",
      "37,5      8925\n",
      "40,72    11605\n",
      "43,61    12269\n",
      "46,28    10369\n",
      "48,79     7581\n",
      "51,2      4622\n",
      "53,55     2626\n",
      "55,86     1335\n",
      "58,17      597\n",
      "60,52      287\n",
      "62,93      153\n",
      "65,44       70\n",
      "68,1        24\n",
      "70,98       27\n",
      "74,19        5\n",
      "77,89        3\n",
      "82,38        1\n",
      "88,36        1\n",
      "Name: PUNT_FISICA, dtype: int64\n",
      "Elementos null/NaN 0\n",
      "__________________\n",
      "Elementos diferentes de null/NaN: 68959\n",
      "__________________\n",
      "(68959,)\n",
      "None\n"
     ]
    }
   ],
   "source": [
    "c = 'PUNT_FISICA'\n",
    "print(data_2007[c].value_counts().sort_index().index)\n",
    "print(data_2007[c].value_counts().sort_index())\n",
    "print(missing_data(data_2007[c]))"
   ]
  },
  {
   "cell_type": "code",
   "execution_count": 171,
   "metadata": {
    "collapsed": true
   },
   "outputs": [],
   "source": [
    "for i in data_2007[c].value_counts().sort_index().index:\n",
    "    if ',' in i:\n",
    "        data_2007[c] = data_2007[c].replace(i, i.replace(',', '.'))\n",
    "\n",
    "for i in data_2007[c].value_counts().sort_index().index:\n",
    "    if type(i) == str:\n",
    "        data_2007[c] = data_2007[c].replace(i, float(i))"
   ]
  },
  {
   "cell_type": "code",
   "execution_count": 172,
   "metadata": {
    "scrolled": true
   },
   "outputs": [
    {
     "name": "stdout",
     "output_type": "stream",
     "text": [
      "Index(['-1', '0', '14,87', '22,51', '27,27', '30,86', '33,81', '36,37',\n",
      "       '38,66', '40,78', '42,76', '44,66', '46,51', '48,32', '50,13', '51,96',\n",
      "       '53,84', '55,79', '57,85', '60,09', '62,57', '65,44', '68,92', '73,55',\n",
      "       '81,04', '93,46'],\n",
      "      dtype='object')\n",
      "-1         19\n",
      "0          12\n",
      "14,87      91\n",
      "22,51     433\n",
      "27,27    1273\n",
      "30,86    2756\n",
      "33,81    4721\n",
      "36,37    6535\n",
      "38,66    7859\n",
      "40,78    7968\n",
      "42,76    7607\n",
      "44,66    6195\n",
      "46,51    4900\n",
      "48,32    3773\n",
      "50,13    2739\n",
      "51,96    2144\n",
      "53,84    1689\n",
      "55,79    1417\n",
      "57,85    1266\n",
      "60,09    1306\n",
      "62,57    1310\n",
      "65,44    1234\n",
      "68,92     937\n",
      "73,55     545\n",
      "81,04     192\n",
      "93,46      38\n",
      "Name: PUNT_INGLES, dtype: int64\n",
      "Elementos null/NaN 0\n",
      "__________________\n",
      "Elementos diferentes de null/NaN: 68959\n",
      "__________________\n",
      "(68959,)\n",
      "None\n"
     ]
    }
   ],
   "source": [
    "c = 'PUNT_INGLES'\n",
    "print(data_2007[c].value_counts().sort_index().index)\n",
    "print(data_2007[c].value_counts().sort_index())\n",
    "print(missing_data(data_2007[c]))"
   ]
  },
  {
   "cell_type": "code",
   "execution_count": 173,
   "metadata": {
    "collapsed": true
   },
   "outputs": [],
   "source": [
    "for i in data_2007[c].value_counts().sort_index().index:\n",
    "    if ',' in i:\n",
    "        data_2007[c] = data_2007[c].replace(i, i.replace(',', '.'))\n",
    "\n",
    "for i in data_2007[c].value_counts().sort_index().index:\n",
    "    if type(i) == str:\n",
    "        data_2007[c] = data_2007[c].replace(i, float(i))\n",
    "        \n",
    "data_2007[c] = data_2007[c].replace(-1, np.mean(data_2007[c]))"
   ]
  },
  {
   "cell_type": "code",
   "execution_count": 174,
   "metadata": {},
   "outputs": [
    {
     "name": "stdout",
     "output_type": "stream",
     "text": [
      "Float64Index([-1.0], dtype='float64')\n",
      "-1.0    19\n",
      "Name: DESEMP_INGLES, dtype: int64\n",
      "Elementos null/NaN 68940\n",
      "__________________\n",
      "Elementos diferentes de null/NaN: 19\n",
      "__________________\n",
      "(19,)\n",
      "None\n"
     ]
    }
   ],
   "source": [
    "c = 'DESEMP_INGLES'\n",
    "print(data_2007[c].value_counts().sort_index().index)\n",
    "print(data_2007[c].value_counts().sort_index())\n",
    "print(missing_data(data_2007[c]))"
   ]
  },
  {
   "cell_type": "code",
   "execution_count": 175,
   "metadata": {
    "collapsed": true
   },
   "outputs": [],
   "source": [
    "data_2007 = data_2007.drop([c], axis=1)"
   ]
  },
  {
   "cell_type": "code",
   "execution_count": 176,
   "metadata": {},
   "outputs": [
    {
     "name": "stdout",
     "output_type": "stream",
     "text": [
      "Index(['PROFUNDIZACIÓN EN BIOLOGÍA', 'PROFUNDIZACIÓN EN CIENCIAS SOCIALES',\n",
      "       'PROFUNDIZACIÓN EN LENGUAJE', 'PROFUNDIZACIÓN EN MATEMÁTICA'],\n",
      "      dtype='object')\n",
      "PROFUNDIZACIÓN EN BIOLOGÍA             21666\n",
      "PROFUNDIZACIÓN EN CIENCIAS SOCIALES    10591\n",
      "PROFUNDIZACIÓN EN LENGUAJE             25476\n",
      "PROFUNDIZACIÓN EN MATEMÁTICA           11226\n",
      "Name: NOMBRE_PROFUNDIZACION, dtype: int64\n",
      "Elementos null/NaN 0\n",
      "__________________\n",
      "Elementos diferentes de null/NaN: 68959\n",
      "__________________\n",
      "(68959,)\n",
      "None\n"
     ]
    }
   ],
   "source": [
    "c = 'NOMBRE_PROFUNDIZACION'\n",
    "print(data_2007[c].value_counts().sort_index().index)\n",
    "print(data_2007[c].value_counts().sort_index())\n",
    "print(missing_data(data_2007[c]))"
   ]
  },
  {
   "cell_type": "code",
   "execution_count": 177,
   "metadata": {
    "scrolled": true
   },
   "outputs": [
    {
     "name": "stdout",
     "output_type": "stream",
     "text": [
      "Index(['-1', '0', '10', '2,23', '2,54', '2,73', '3,08', '3,13', '3,37', '3,57',\n",
      "       '3,7', '3,87', '3,92', '4,1', '4,15', '4,34', '4,38', '4,52', '4,54',\n",
      "       '4,71', '4,78', '4,89', '5,05', '5,13', '5,21', '5,22', '5,38', '5,44',\n",
      "       '5,53', '5,55', '5,7', '5,74', '5,83', '5,88', '6,03', '6,04', '6,15',\n",
      "       '6,24', '6,34', '6,37', '6,48', '6,62', '6,65', '6,76', '6,84', '7',\n",
      "       '7,08', '7,21', '7,27', '7,41', '7,65', '7,78', '7,81', '7,92', '8,55',\n",
      "       '8,65', '8,73'],\n",
      "      dtype='object')\n",
      "-1      1863\n",
      "0        292\n",
      "10        11\n",
      "2,23     533\n",
      "2,54     190\n",
      "2,73     315\n",
      "3,08     372\n",
      "3,13    1352\n",
      "3,37     546\n",
      "3,57     889\n",
      "3,7     2462\n",
      "3,87     994\n",
      "3,92    1001\n",
      "4,1     1720\n",
      "4,15    3417\n",
      "4,34    1430\n",
      "4,38    1737\n",
      "4,52    2655\n",
      "4,54    3578\n",
      "4,71    1707\n",
      "4,78    2171\n",
      "4,89    6454\n",
      "5,05    1636\n",
      "5,13    2106\n",
      "5,21    3472\n",
      "5,22    2717\n",
      "5,38    1452\n",
      "5,44    1543\n",
      "5,53    3150\n",
      "5,55    2238\n",
      "5,7     1097\n",
      "5,74     951\n",
      "5,83    2472\n",
      "5,88    1732\n",
      "6,03     688\n",
      "6,04     586\n",
      "6,15    1666\n",
      "6,24    1230\n",
      "6,34     313\n",
      "6,37     399\n",
      "6,48    1000\n",
      "6,62     730\n",
      "6,65     126\n",
      "6,76     208\n",
      "6,84     542\n",
      "7         78\n",
      "7,08     399\n",
      "7,21      81\n",
      "7,27     223\n",
      "7,41      50\n",
      "7,65     170\n",
      "7,78      25\n",
      "7,81      71\n",
      "7,92      30\n",
      "8,55      53\n",
      "8,65      21\n",
      "8,73      15\n",
      "Name: PUNT_PROFUNDIZACION, dtype: int64\n",
      "Elementos null/NaN 0\n",
      "__________________\n",
      "Elementos diferentes de null/NaN: 68959\n",
      "__________________\n",
      "(68959,)\n",
      "None\n"
     ]
    }
   ],
   "source": [
    "c = 'PUNT_PROFUNDIZACION'\n",
    "print(data_2007[c].value_counts().sort_index().index)\n",
    "print(data_2007[c].value_counts().sort_index())\n",
    "print(missing_data(data_2007[c]))"
   ]
  },
  {
   "cell_type": "code",
   "execution_count": 178,
   "metadata": {
    "collapsed": true
   },
   "outputs": [],
   "source": [
    "for i in data_2007[c].value_counts().sort_index().index:\n",
    "    if ',' in i:\n",
    "        data_2007[c] = data_2007[c].replace(i, i.replace(',', '.'))\n",
    "\n",
    "for i in data_2007[c].value_counts().sort_index().index:\n",
    "    if type(i) == str:\n",
    "        data_2007[c] = data_2007[c].replace(i, float(i))\n",
    "        \n",
    "data_2007[c] = data_2007[c].replace(-1, np.mean(data_2007[c]))"
   ]
  },
  {
   "cell_type": "code",
   "execution_count": 179,
   "metadata": {
    "scrolled": true
   },
   "outputs": [
    {
     "name": "stdout",
     "output_type": "stream",
     "text": [
      "Index(['-1', 'GB', 'I', 'II', 'III'], dtype='object')\n",
      "-1      1863\n",
      "GB     31833\n",
      "I      27263\n",
      "II      7172\n",
      "III      828\n",
      "Name: DESEMP_PROFUNDIZACION, dtype: int64\n",
      "Elementos null/NaN 0\n",
      "__________________\n",
      "Elementos diferentes de null/NaN: 68959\n",
      "__________________\n",
      "(68959,)\n",
      "None\n"
     ]
    }
   ],
   "source": [
    "c = 'DESEMP_PROFUNDIZACION'\n",
    "print(data_2007[c].value_counts().sort_index().index)\n",
    "print(data_2007[c].value_counts().sort_index())\n",
    "print(missing_data(data_2007[c]))"
   ]
  },
  {
   "cell_type": "code",
   "execution_count": 180,
   "metadata": {
    "collapsed": true
   },
   "outputs": [],
   "source": [
    "data_2007[c] = data_2007[c].replace('-1', np.nan)\n",
    "data_2007[c].fillna(method='bfill', inplace=True)"
   ]
  },
  {
   "cell_type": "code",
   "execution_count": 181,
   "metadata": {},
   "outputs": [
    {
     "name": "stdout",
     "output_type": "stream",
     "text": [
      "Index(['MEDIO AMBIENTE', 'VIOLENCIA Y SOCIEDAD'], dtype='object')\n",
      "MEDIO AMBIENTE          35241\n",
      "VIOLENCIA Y SOCIEDAD    33718\n",
      "Name: NOMBRE_INTERDISCIPLINAR, dtype: int64\n",
      "Elementos null/NaN 0\n",
      "__________________\n",
      "Elementos diferentes de null/NaN: 68959\n",
      "__________________\n",
      "(68959,)\n",
      "None\n"
     ]
    }
   ],
   "source": [
    "c = 'NOMBRE_INTERDISCIPLINAR'\n",
    "print(data_2007[c].value_counts().sort_index().index)\n",
    "print(data_2007[c].value_counts().sort_index())\n",
    "print(missing_data(data_2007[c]))"
   ]
  },
  {
   "cell_type": "code",
   "execution_count": 182,
   "metadata": {
    "scrolled": true
   },
   "outputs": [
    {
     "name": "stdout",
     "output_type": "stream",
     "text": [
      "Index(['-1', '0', '11,14', '21,62', '28,47', '33,81', '38,38', '42,52',\n",
      "       '42,54', '45,5', '46,46', '47,41', '48,9', '50,19', '50,38', '51,37',\n",
      "       '52,5', '53,62', '54,42', '54,77', '55,99', '57,35', '58,78', '58,95',\n",
      "       '60,99', '63,78', '64,13', '70,05', '79,56', '94,45'],\n",
      "      dtype='object')\n",
      "-1         23\n",
      "0         129\n",
      "11,14     260\n",
      "21,62     907\n",
      "28,47    2139\n",
      "33,81    3795\n",
      "38,38    5182\n",
      "42,52    5722\n",
      "42,54     500\n",
      "45,5     1564\n",
      "46,46    5400\n",
      "47,41    3318\n",
      "48,9     4768\n",
      "50,19    5704\n",
      "50,38    4365\n",
      "51,37    5990\n",
      "52,5     5156\n",
      "53,62    3871\n",
      "54,42    3046\n",
      "54,77    2401\n",
      "55,99    1201\n",
      "57,35     467\n",
      "58,78    1766\n",
      "58,95     166\n",
      "60,99      30\n",
      "63,78     794\n",
      "64,13       5\n",
      "70,05     252\n",
      "79,56      31\n",
      "94,45       7\n",
      "Name: PUNT_INTERDISCIPLINAR, dtype: int64\n",
      "Elementos null/NaN 0\n",
      "__________________\n",
      "Elementos diferentes de null/NaN: 68959\n",
      "__________________\n",
      "(68959,)\n",
      "None\n"
     ]
    }
   ],
   "source": [
    "c = 'PUNT_INTERDISCIPLINAR'\n",
    "print(data_2007[c].value_counts().sort_index().index)\n",
    "print(data_2007[c].value_counts().sort_index())\n",
    "print(missing_data(data_2007[c]))"
   ]
  },
  {
   "cell_type": "code",
   "execution_count": 183,
   "metadata": {
    "collapsed": true
   },
   "outputs": [],
   "source": [
    "for i in data_2007[c].value_counts().sort_index().index:\n",
    "    if ',' in i:\n",
    "        data_2007[c] = data_2007[c].replace(i, i.replace(',', '.'))\n",
    "\n",
    "for i in data_2007[c].value_counts().sort_index().index:\n",
    "    if type(i) == str:\n",
    "        data_2007[c] = data_2007[c].replace(i, float(i))\n",
    "        \n",
    "data_2007[c] = data_2007[c].replace(-1, np.mean(data_2007[c]))"
   ]
  },
  {
   "cell_type": "code",
   "execution_count": 184,
   "metadata": {
    "scrolled": true
   },
   "outputs": [
    {
     "name": "stdout",
     "output_type": "stream",
     "text": [
      "Float64Index([  1.0,   2.0,   3.0,   4.0,   5.0,   6.0,   7.0,   8.0,   9.0,\n",
      "               10.0,\n",
      "              ...\n",
      "              962.0, 963.0, 964.0, 965.0, 966.0, 967.0, 968.0, 969.0, 970.0,\n",
      "              971.0],\n",
      "             dtype='float64', length=971)\n",
      "1.0      95\n",
      "2.0      82\n",
      "3.0      93\n",
      "4.0      87\n",
      "5.0      88\n",
      "6.0      91\n",
      "7.0      75\n",
      "8.0      89\n",
      "9.0      84\n",
      "10.0     77\n",
      "11.0     77\n",
      "12.0     86\n",
      "13.0     74\n",
      "14.0     94\n",
      "15.0     93\n",
      "16.0     77\n",
      "17.0     70\n",
      "18.0     72\n",
      "19.0     74\n",
      "20.0     79\n",
      "21.0     72\n",
      "22.0     78\n",
      "23.0     68\n",
      "24.0     71\n",
      "25.0     79\n",
      "26.0     85\n",
      "27.0     65\n",
      "28.0     69\n",
      "29.0     76\n",
      "30.0     72\n",
      "         ..\n",
      "942.0    89\n",
      "943.0    85\n",
      "944.0    98\n",
      "945.0    85\n",
      "946.0    81\n",
      "947.0    83\n",
      "948.0    77\n",
      "949.0    81\n",
      "950.0    81\n",
      "951.0    90\n",
      "952.0    89\n",
      "953.0    92\n",
      "954.0    81\n",
      "955.0    80\n",
      "956.0    87\n",
      "957.0    89\n",
      "958.0    76\n",
      "959.0    86\n",
      "960.0    89\n",
      "961.0    86\n",
      "962.0    85\n",
      "963.0    96\n",
      "964.0    78\n",
      "965.0    93\n",
      "966.0    87\n",
      "967.0    87\n",
      "968.0    88\n",
      "969.0    87\n",
      "970.0    68\n",
      "971.0     3\n",
      "Name: ESTU_PUESTO, Length: 971, dtype: int64\n",
      "Elementos null/NaN 81\n",
      "__________________\n",
      "Elementos diferentes de null/NaN: 68878\n",
      "__________________\n",
      "(68878,)\n",
      "None\n"
     ]
    }
   ],
   "source": [
    "c = 'ESTU_PUESTO'\n",
    "print(data_2007[c].value_counts().sort_index().index)\n",
    "print(data_2007[c].value_counts().sort_index())\n",
    "print(missing_data(data_2007[c]))"
   ]
  },
  {
   "cell_type": "code",
   "execution_count": 186,
   "metadata": {},
   "outputs": [],
   "source": [
    "data_2007[c].fillna(method='bfill', inplace=True)\n",
    "data_2007[c].fillna(method='ffill', inplace=True)"
   ]
  },
  {
   "cell_type": "markdown",
   "metadata": {},
   "source": [
    "___"
   ]
  },
  {
   "cell_type": "markdown",
   "metadata": {},
   "source": [
    "___"
   ]
  },
  {
   "cell_type": "markdown",
   "metadata": {},
   "source": [
    "___"
   ]
  },
  {
   "cell_type": "markdown",
   "metadata": {},
   "source": [
    "# Now the other file... 2007_2"
   ]
  },
  {
   "cell_type": "code",
   "execution_count": 3,
   "metadata": {
    "scrolled": true
   },
   "outputs": [
    {
     "name": "stderr",
     "output_type": "stream",
     "text": [
      "/home/aronf/anaconda3/lib/python3.6/site-packages/IPython/core/interactiveshell.py:2698: DtypeWarning: Columns (30) have mixed types. Specify dtype option on import or set low_memory=False.\n",
      "  interactivity=interactivity, compiler=compiler, result=result)\n"
     ]
    }
   ],
   "source": [
    "data_2007_2 = pd.read_csv('../DatosFTPICFES/SABER11/SB11-BASES_DE_DATOS/SB11-20072-RGSTRO-CLFCCN-V1-0.txt', delimiter='|')"
   ]
  },
  {
   "cell_type": "code",
   "execution_count": 4,
   "metadata": {},
   "outputs": [
    {
     "data": {
      "text/plain": [
       "(444713, 84)"
      ]
     },
     "execution_count": 4,
     "metadata": {},
     "output_type": "execute_result"
    }
   ],
   "source": [
    "data_2007_2.shape"
   ]
  },
  {
   "cell_type": "code",
   "execution_count": 5,
   "metadata": {
    "scrolled": true
   },
   "outputs": [
    {
     "data": {
      "text/html": [
       "<div>\n",
       "<style>\n",
       "    .dataframe thead tr:only-child th {\n",
       "        text-align: right;\n",
       "    }\n",
       "\n",
       "    .dataframe thead th {\n",
       "        text-align: left;\n",
       "    }\n",
       "\n",
       "    .dataframe tbody tr th {\n",
       "        vertical-align: top;\n",
       "    }\n",
       "</style>\n",
       "<table border=\"1\" class=\"dataframe\">\n",
       "  <thead>\n",
       "    <tr style=\"text-align: right;\">\n",
       "      <th></th>\n",
       "      <th>0</th>\n",
       "      <th>1</th>\n",
       "      <th>2</th>\n",
       "    </tr>\n",
       "  </thead>\n",
       "  <tbody>\n",
       "    <tr>\n",
       "      <th>ESTU_CONSECUTIVO</th>\n",
       "      <td>SABER1120072000001</td>\n",
       "      <td>SABER1120072000002</td>\n",
       "      <td>SABER1120072000003</td>\n",
       "    </tr>\n",
       "    <tr>\n",
       "      <th>PERIODO</th>\n",
       "      <td>20072</td>\n",
       "      <td>20072</td>\n",
       "      <td>20072</td>\n",
       "    </tr>\n",
       "    <tr>\n",
       "      <th>ESTU_TIPO_DOCUMENTO</th>\n",
       "      <td>T</td>\n",
       "      <td>T</td>\n",
       "      <td>T</td>\n",
       "    </tr>\n",
       "    <tr>\n",
       "      <th>ESTU_PAIS_RESIDE</th>\n",
       "      <td>CO</td>\n",
       "      <td>CO</td>\n",
       "      <td>CO</td>\n",
       "    </tr>\n",
       "    <tr>\n",
       "      <th>ESTU_GENERO</th>\n",
       "      <td>F</td>\n",
       "      <td>M</td>\n",
       "      <td>F</td>\n",
       "    </tr>\n",
       "    <tr>\n",
       "      <th>ESTU_NACIMIENTO_DIA</th>\n",
       "      <td>30</td>\n",
       "      <td>13</td>\n",
       "      <td>23</td>\n",
       "    </tr>\n",
       "    <tr>\n",
       "      <th>ESTU_NACIMIENTO_MES</th>\n",
       "      <td>12</td>\n",
       "      <td>6</td>\n",
       "      <td>10</td>\n",
       "    </tr>\n",
       "    <tr>\n",
       "      <th>ESTU_NACIMIENTO_ANNO</th>\n",
       "      <td>1990</td>\n",
       "      <td>1991</td>\n",
       "      <td>1990</td>\n",
       "    </tr>\n",
       "    <tr>\n",
       "      <th>ESTU_EDAD</th>\n",
       "      <td>16</td>\n",
       "      <td>16</td>\n",
       "      <td>16</td>\n",
       "    </tr>\n",
       "    <tr>\n",
       "      <th>ESTU_LIMITA_BAJAVISION</th>\n",
       "      <td>NaN</td>\n",
       "      <td>NaN</td>\n",
       "      <td>NaN</td>\n",
       "    </tr>\n",
       "    <tr>\n",
       "      <th>ESTU_LIMITA_SORDOCEGUERA</th>\n",
       "      <td>NaN</td>\n",
       "      <td>NaN</td>\n",
       "      <td>NaN</td>\n",
       "    </tr>\n",
       "    <tr>\n",
       "      <th>ESTU_LIMITA_COGNITIVA</th>\n",
       "      <td>NaN</td>\n",
       "      <td>NaN</td>\n",
       "      <td>NaN</td>\n",
       "    </tr>\n",
       "    <tr>\n",
       "      <th>ESTU_LIMITA_INVIDENTE</th>\n",
       "      <td>NaN</td>\n",
       "      <td>NaN</td>\n",
       "      <td>NaN</td>\n",
       "    </tr>\n",
       "    <tr>\n",
       "      <th>ESTU_LIMITA_MOTRIZ</th>\n",
       "      <td>NaN</td>\n",
       "      <td>NaN</td>\n",
       "      <td>NaN</td>\n",
       "    </tr>\n",
       "    <tr>\n",
       "      <th>ESTU_LIMITA_SORDOINTERPRETE</th>\n",
       "      <td>NaN</td>\n",
       "      <td>NaN</td>\n",
       "      <td>NaN</td>\n",
       "    </tr>\n",
       "    <tr>\n",
       "      <th>ESTU_LIMITA_SORDONOINTERPRETE</th>\n",
       "      <td>NaN</td>\n",
       "      <td>NaN</td>\n",
       "      <td>NaN</td>\n",
       "    </tr>\n",
       "    <tr>\n",
       "      <th>ESTU_COD_RESIDE_MCPIO</th>\n",
       "      <td>66001</td>\n",
       "      <td>5615</td>\n",
       "      <td>66001</td>\n",
       "    </tr>\n",
       "    <tr>\n",
       "      <th>ESTU_RESIDE_MCPIO</th>\n",
       "      <td>PEREIRA</td>\n",
       "      <td>RIONEGRO</td>\n",
       "      <td>PEREIRA</td>\n",
       "    </tr>\n",
       "    <tr>\n",
       "      <th>ESTU_RESIDE_DEPTO</th>\n",
       "      <td>RISARALDA</td>\n",
       "      <td>ANTIOQUIA</td>\n",
       "      <td>RISARALDA</td>\n",
       "    </tr>\n",
       "    <tr>\n",
       "      <th>ESTU_ZONA_RESIDE</th>\n",
       "      <td>10</td>\n",
       "      <td>10</td>\n",
       "      <td>10</td>\n",
       "    </tr>\n",
       "    <tr>\n",
       "      <th>ESTU_AREA_RESIDE</th>\n",
       "      <td>NaN</td>\n",
       "      <td>NaN</td>\n",
       "      <td>NaN</td>\n",
       "    </tr>\n",
       "    <tr>\n",
       "      <th>ESTU_COD_MCPIO_PRESENTACION</th>\n",
       "      <td>66001</td>\n",
       "      <td>5615</td>\n",
       "      <td>66001</td>\n",
       "    </tr>\n",
       "    <tr>\n",
       "      <th>ESTU_MCPIO_PRESENTACION</th>\n",
       "      <td>PEREIRA</td>\n",
       "      <td>RIONEGRO</td>\n",
       "      <td>PEREIRA</td>\n",
       "    </tr>\n",
       "    <tr>\n",
       "      <th>ESTU_DEPTO_PRESENTACION</th>\n",
       "      <td>RISARALDA</td>\n",
       "      <td>ANTIOQUIA</td>\n",
       "      <td>RISARALDA</td>\n",
       "    </tr>\n",
       "    <tr>\n",
       "      <th>ESTU_EXAM_NOMBREEXAMEN</th>\n",
       "      <td>EXAMEN DE ESTADO 2007-2</td>\n",
       "      <td>EXAMEN DE ESTADO 2007-2</td>\n",
       "      <td>EXAMEN DE ESTADO 2007-2</td>\n",
       "    </tr>\n",
       "    <tr>\n",
       "      <th>IND_ESTUDIO_BACHILLERATO</th>\n",
       "      <td>1</td>\n",
       "      <td>1</td>\n",
       "      <td>1</td>\n",
       "    </tr>\n",
       "    <tr>\n",
       "      <th>IND_ANNO_TERMINO_BACHILLERATO</th>\n",
       "      <td>2007</td>\n",
       "      <td>2007</td>\n",
       "      <td>2007</td>\n",
       "    </tr>\n",
       "    <tr>\n",
       "      <th>IND_TERMINO_BACHILLERATO</th>\n",
       "      <td>NaN</td>\n",
       "      <td>NaN</td>\n",
       "      <td>NaN</td>\n",
       "    </tr>\n",
       "    <tr>\n",
       "      <th>IND_COD_ICFES_TERMINO</th>\n",
       "      <td>13318</td>\n",
       "      <td>101964</td>\n",
       "      <td>13318</td>\n",
       "    </tr>\n",
       "    <tr>\n",
       "      <th>COLE_COD_ICFES</th>\n",
       "      <td>13318</td>\n",
       "      <td>101964</td>\n",
       "      <td>13318</td>\n",
       "    </tr>\n",
       "    <tr>\n",
       "      <th>...</th>\n",
       "      <td>...</td>\n",
       "      <td>...</td>\n",
       "      <td>...</td>\n",
       "    </tr>\n",
       "    <tr>\n",
       "      <th>FAMI_COMPUTADOR</th>\n",
       "      <td>NaN</td>\n",
       "      <td>NaN</td>\n",
       "      <td>NaN</td>\n",
       "    </tr>\n",
       "    <tr>\n",
       "      <th>FAMI_INGRESO_FMILIAR_MENSUAL</th>\n",
       "      <td>NaN</td>\n",
       "      <td>NaN</td>\n",
       "      <td>NaN</td>\n",
       "    </tr>\n",
       "    <tr>\n",
       "      <th>ESTU_TRABAJA</th>\n",
       "      <td>NaN</td>\n",
       "      <td>NaN</td>\n",
       "      <td>NaN</td>\n",
       "    </tr>\n",
       "    <tr>\n",
       "      <th>ESTU_HORAS_TRABAJA</th>\n",
       "      <td>NaN</td>\n",
       "      <td>NaN</td>\n",
       "      <td>NaN</td>\n",
       "    </tr>\n",
       "    <tr>\n",
       "      <th>COLE_VALOR_PENSION</th>\n",
       "      <td>0</td>\n",
       "      <td>4</td>\n",
       "      <td>0</td>\n",
       "    </tr>\n",
       "    <tr>\n",
       "      <th>ESTU_CARRDESEADA_TIPO</th>\n",
       "      <td>NaN</td>\n",
       "      <td>NaN</td>\n",
       "      <td>NaN</td>\n",
       "    </tr>\n",
       "    <tr>\n",
       "      <th>ESTU_CARRDESEADA_NUCLEO</th>\n",
       "      <td>NaN</td>\n",
       "      <td>NaN</td>\n",
       "      <td>NaN</td>\n",
       "    </tr>\n",
       "    <tr>\n",
       "      <th>ESTU_IES_COD_DESEADA</th>\n",
       "      <td>1111</td>\n",
       "      <td>9103</td>\n",
       "      <td>1111</td>\n",
       "    </tr>\n",
       "    <tr>\n",
       "      <th>ESTU_IES_DESEADA_NOMBRE</th>\n",
       "      <td>UNIVERSIDAD TECNOLOGICA DE PEREIRA</td>\n",
       "      <td>ESCUELA MILITAR DE AVIACION</td>\n",
       "      <td>UNIVERSIDAD TECNOLOGICA DE PEREIRA</td>\n",
       "    </tr>\n",
       "    <tr>\n",
       "      <th>ESTU_IES_COD_MPIO_DESEADA</th>\n",
       "      <td>66001</td>\n",
       "      <td>76001</td>\n",
       "      <td>66001</td>\n",
       "    </tr>\n",
       "    <tr>\n",
       "      <th>ESTU_IES_MPIO_DESEADA</th>\n",
       "      <td>PEREIRA</td>\n",
       "      <td>CALI</td>\n",
       "      <td>PEREIRA</td>\n",
       "    </tr>\n",
       "    <tr>\n",
       "      <th>ESTU_IES_DEPT_DESEADA</th>\n",
       "      <td>RISARALDA</td>\n",
       "      <td>VALLE</td>\n",
       "      <td>RISARALDA</td>\n",
       "    </tr>\n",
       "    <tr>\n",
       "      <th>ESTU_RAZONINSTITUTO</th>\n",
       "      <td>3</td>\n",
       "      <td>3</td>\n",
       "      <td>3</td>\n",
       "    </tr>\n",
       "    <tr>\n",
       "      <th>ESTU_CARRDESEADA_COD</th>\n",
       "      <td>16985</td>\n",
       "      <td>8188</td>\n",
       "      <td>14477</td>\n",
       "    </tr>\n",
       "    <tr>\n",
       "      <th>ESTU_CARRDESEADA_RAZON</th>\n",
       "      <td>1</td>\n",
       "      <td>2</td>\n",
       "      <td>1</td>\n",
       "    </tr>\n",
       "    <tr>\n",
       "      <th>PUNT_LENGUAJE</th>\n",
       "      <td>45,01</td>\n",
       "      <td>53,22</td>\n",
       "      <td>45,01</td>\n",
       "    </tr>\n",
       "    <tr>\n",
       "      <th>PUNT_MATEMATICAS</th>\n",
       "      <td>40,82</td>\n",
       "      <td>53,2</td>\n",
       "      <td>44,48</td>\n",
       "    </tr>\n",
       "    <tr>\n",
       "      <th>PUNT_C_SOCIALES</th>\n",
       "      <td>46,81</td>\n",
       "      <td>50,42</td>\n",
       "      <td>44,96</td>\n",
       "    </tr>\n",
       "    <tr>\n",
       "      <th>PUNT_FILOSOFIA</th>\n",
       "      <td>48,41</td>\n",
       "      <td>43,59</td>\n",
       "      <td>35,44</td>\n",
       "    </tr>\n",
       "    <tr>\n",
       "      <th>PUNT_BIOLOGIA</th>\n",
       "      <td>45,64</td>\n",
       "      <td>58,09</td>\n",
       "      <td>53,95</td>\n",
       "    </tr>\n",
       "    <tr>\n",
       "      <th>PUNT_QUIMICA</th>\n",
       "      <td>47,22</td>\n",
       "      <td>50,66</td>\n",
       "      <td>47,22</td>\n",
       "    </tr>\n",
       "    <tr>\n",
       "      <th>PUNT_FISICA</th>\n",
       "      <td>38,57</td>\n",
       "      <td>51,73</td>\n",
       "      <td>41,52</td>\n",
       "    </tr>\n",
       "    <tr>\n",
       "      <th>PUNT_INGLES</th>\n",
       "      <td>36,71</td>\n",
       "      <td>69,48</td>\n",
       "      <td>45,98</td>\n",
       "    </tr>\n",
       "    <tr>\n",
       "      <th>DESEMP_INGLES</th>\n",
       "      <td>A-</td>\n",
       "      <td>B1</td>\n",
       "      <td>A1</td>\n",
       "    </tr>\n",
       "    <tr>\n",
       "      <th>NOMBRE_PROFUNDIZACION</th>\n",
       "      <td>PROFUNDIZACIÓN EN CIENCIAS SOCIALES</td>\n",
       "      <td>PROFUNDIZACIÓN EN MATEMÁTICA</td>\n",
       "      <td>PROFUNDIZACIÓN EN BIOLOGÍA</td>\n",
       "    </tr>\n",
       "    <tr>\n",
       "      <th>PUNT_PROFUNDIZACION</th>\n",
       "      <td>5,31</td>\n",
       "      <td>4,83</td>\n",
       "      <td>5,88</td>\n",
       "    </tr>\n",
       "    <tr>\n",
       "      <th>DESEMP_PROFUNDIZACION</th>\n",
       "      <td>I</td>\n",
       "      <td>I</td>\n",
       "      <td>I</td>\n",
       "    </tr>\n",
       "    <tr>\n",
       "      <th>NOMBRE_INTERDISCIPLINAR</th>\n",
       "      <td>MEDIO AMBIENTE</td>\n",
       "      <td>VIOLENCIA Y SOCIEDAD</td>\n",
       "      <td>MEDIO AMBIENTE</td>\n",
       "    </tr>\n",
       "    <tr>\n",
       "      <th>PUNT_INTERDISCIPLINAR</th>\n",
       "      <td>52,46</td>\n",
       "      <td>42,54</td>\n",
       "      <td>60,63</td>\n",
       "    </tr>\n",
       "    <tr>\n",
       "      <th>ESTU_PUESTO</th>\n",
       "      <td>474</td>\n",
       "      <td>53</td>\n",
       "      <td>378</td>\n",
       "    </tr>\n",
       "  </tbody>\n",
       "</table>\n",
       "<p>84 rows × 3 columns</p>\n",
       "</div>"
      ],
      "text/plain": [
       "                                                                 0  \\\n",
       "ESTU_CONSECUTIVO                                SABER1120072000001   \n",
       "PERIODO                                                      20072   \n",
       "ESTU_TIPO_DOCUMENTO                                              T   \n",
       "ESTU_PAIS_RESIDE                                                CO   \n",
       "ESTU_GENERO                                                      F   \n",
       "ESTU_NACIMIENTO_DIA                                             30   \n",
       "ESTU_NACIMIENTO_MES                                             12   \n",
       "ESTU_NACIMIENTO_ANNO                                          1990   \n",
       "ESTU_EDAD                                                       16   \n",
       "ESTU_LIMITA_BAJAVISION                                         NaN   \n",
       "ESTU_LIMITA_SORDOCEGUERA                                       NaN   \n",
       "ESTU_LIMITA_COGNITIVA                                          NaN   \n",
       "ESTU_LIMITA_INVIDENTE                                          NaN   \n",
       "ESTU_LIMITA_MOTRIZ                                             NaN   \n",
       "ESTU_LIMITA_SORDOINTERPRETE                                    NaN   \n",
       "ESTU_LIMITA_SORDONOINTERPRETE                                  NaN   \n",
       "ESTU_COD_RESIDE_MCPIO                                        66001   \n",
       "ESTU_RESIDE_MCPIO                                          PEREIRA   \n",
       "ESTU_RESIDE_DEPTO                                        RISARALDA   \n",
       "ESTU_ZONA_RESIDE                                                10   \n",
       "ESTU_AREA_RESIDE                                               NaN   \n",
       "ESTU_COD_MCPIO_PRESENTACION                                  66001   \n",
       "ESTU_MCPIO_PRESENTACION                                    PEREIRA   \n",
       "ESTU_DEPTO_PRESENTACION                                  RISARALDA   \n",
       "ESTU_EXAM_NOMBREEXAMEN                     EXAMEN DE ESTADO 2007-2   \n",
       "IND_ESTUDIO_BACHILLERATO                                         1   \n",
       "IND_ANNO_TERMINO_BACHILLERATO                                 2007   \n",
       "IND_TERMINO_BACHILLERATO                                       NaN   \n",
       "IND_COD_ICFES_TERMINO                                        13318   \n",
       "COLE_COD_ICFES                                               13318   \n",
       "...                                                            ...   \n",
       "FAMI_COMPUTADOR                                                NaN   \n",
       "FAMI_INGRESO_FMILIAR_MENSUAL                                   NaN   \n",
       "ESTU_TRABAJA                                                   NaN   \n",
       "ESTU_HORAS_TRABAJA                                             NaN   \n",
       "COLE_VALOR_PENSION                                               0   \n",
       "ESTU_CARRDESEADA_TIPO                                          NaN   \n",
       "ESTU_CARRDESEADA_NUCLEO                                        NaN   \n",
       "ESTU_IES_COD_DESEADA                                          1111   \n",
       "ESTU_IES_DESEADA_NOMBRE         UNIVERSIDAD TECNOLOGICA DE PEREIRA   \n",
       "ESTU_IES_COD_MPIO_DESEADA                                    66001   \n",
       "ESTU_IES_MPIO_DESEADA                                      PEREIRA   \n",
       "ESTU_IES_DEPT_DESEADA                                    RISARALDA   \n",
       "ESTU_RAZONINSTITUTO                                              3   \n",
       "ESTU_CARRDESEADA_COD                                         16985   \n",
       "ESTU_CARRDESEADA_RAZON                                           1   \n",
       "PUNT_LENGUAJE                                                45,01   \n",
       "PUNT_MATEMATICAS                                             40,82   \n",
       "PUNT_C_SOCIALES                                              46,81   \n",
       "PUNT_FILOSOFIA                                               48,41   \n",
       "PUNT_BIOLOGIA                                                45,64   \n",
       "PUNT_QUIMICA                                                 47,22   \n",
       "PUNT_FISICA                                                  38,57   \n",
       "PUNT_INGLES                                                  36,71   \n",
       "DESEMP_INGLES                                                   A-   \n",
       "NOMBRE_PROFUNDIZACION          PROFUNDIZACIÓN EN CIENCIAS SOCIALES   \n",
       "PUNT_PROFUNDIZACION                                           5,31   \n",
       "DESEMP_PROFUNDIZACION                                            I   \n",
       "NOMBRE_INTERDISCIPLINAR                             MEDIO AMBIENTE   \n",
       "PUNT_INTERDISCIPLINAR                                        52,46   \n",
       "ESTU_PUESTO                                                    474   \n",
       "\n",
       "                                                          1  \\\n",
       "ESTU_CONSECUTIVO                         SABER1120072000002   \n",
       "PERIODO                                               20072   \n",
       "ESTU_TIPO_DOCUMENTO                                       T   \n",
       "ESTU_PAIS_RESIDE                                         CO   \n",
       "ESTU_GENERO                                               M   \n",
       "ESTU_NACIMIENTO_DIA                                      13   \n",
       "ESTU_NACIMIENTO_MES                                       6   \n",
       "ESTU_NACIMIENTO_ANNO                                   1991   \n",
       "ESTU_EDAD                                                16   \n",
       "ESTU_LIMITA_BAJAVISION                                  NaN   \n",
       "ESTU_LIMITA_SORDOCEGUERA                                NaN   \n",
       "ESTU_LIMITA_COGNITIVA                                   NaN   \n",
       "ESTU_LIMITA_INVIDENTE                                   NaN   \n",
       "ESTU_LIMITA_MOTRIZ                                      NaN   \n",
       "ESTU_LIMITA_SORDOINTERPRETE                             NaN   \n",
       "ESTU_LIMITA_SORDONOINTERPRETE                           NaN   \n",
       "ESTU_COD_RESIDE_MCPIO                                  5615   \n",
       "ESTU_RESIDE_MCPIO                                  RIONEGRO   \n",
       "ESTU_RESIDE_DEPTO                                 ANTIOQUIA   \n",
       "ESTU_ZONA_RESIDE                                         10   \n",
       "ESTU_AREA_RESIDE                                        NaN   \n",
       "ESTU_COD_MCPIO_PRESENTACION                            5615   \n",
       "ESTU_MCPIO_PRESENTACION                            RIONEGRO   \n",
       "ESTU_DEPTO_PRESENTACION                           ANTIOQUIA   \n",
       "ESTU_EXAM_NOMBREEXAMEN              EXAMEN DE ESTADO 2007-2   \n",
       "IND_ESTUDIO_BACHILLERATO                                  1   \n",
       "IND_ANNO_TERMINO_BACHILLERATO                          2007   \n",
       "IND_TERMINO_BACHILLERATO                                NaN   \n",
       "IND_COD_ICFES_TERMINO                                101964   \n",
       "COLE_COD_ICFES                                       101964   \n",
       "...                                                     ...   \n",
       "FAMI_COMPUTADOR                                         NaN   \n",
       "FAMI_INGRESO_FMILIAR_MENSUAL                            NaN   \n",
       "ESTU_TRABAJA                                            NaN   \n",
       "ESTU_HORAS_TRABAJA                                      NaN   \n",
       "COLE_VALOR_PENSION                                        4   \n",
       "ESTU_CARRDESEADA_TIPO                                   NaN   \n",
       "ESTU_CARRDESEADA_NUCLEO                                 NaN   \n",
       "ESTU_IES_COD_DESEADA                                   9103   \n",
       "ESTU_IES_DESEADA_NOMBRE         ESCUELA MILITAR DE AVIACION   \n",
       "ESTU_IES_COD_MPIO_DESEADA                             76001   \n",
       "ESTU_IES_MPIO_DESEADA                                  CALI   \n",
       "ESTU_IES_DEPT_DESEADA                                 VALLE   \n",
       "ESTU_RAZONINSTITUTO                                       3   \n",
       "ESTU_CARRDESEADA_COD                                   8188   \n",
       "ESTU_CARRDESEADA_RAZON                                    2   \n",
       "PUNT_LENGUAJE                                         53,22   \n",
       "PUNT_MATEMATICAS                                       53,2   \n",
       "PUNT_C_SOCIALES                                       50,42   \n",
       "PUNT_FILOSOFIA                                        43,59   \n",
       "PUNT_BIOLOGIA                                         58,09   \n",
       "PUNT_QUIMICA                                          50,66   \n",
       "PUNT_FISICA                                           51,73   \n",
       "PUNT_INGLES                                           69,48   \n",
       "DESEMP_INGLES                                            B1   \n",
       "NOMBRE_PROFUNDIZACION          PROFUNDIZACIÓN EN MATEMÁTICA   \n",
       "PUNT_PROFUNDIZACION                                    4,83   \n",
       "DESEMP_PROFUNDIZACION                                     I   \n",
       "NOMBRE_INTERDISCIPLINAR                VIOLENCIA Y SOCIEDAD   \n",
       "PUNT_INTERDISCIPLINAR                                 42,54   \n",
       "ESTU_PUESTO                                              53   \n",
       "\n",
       "                                                                2  \n",
       "ESTU_CONSECUTIVO                               SABER1120072000003  \n",
       "PERIODO                                                     20072  \n",
       "ESTU_TIPO_DOCUMENTO                                             T  \n",
       "ESTU_PAIS_RESIDE                                               CO  \n",
       "ESTU_GENERO                                                     F  \n",
       "ESTU_NACIMIENTO_DIA                                            23  \n",
       "ESTU_NACIMIENTO_MES                                            10  \n",
       "ESTU_NACIMIENTO_ANNO                                         1990  \n",
       "ESTU_EDAD                                                      16  \n",
       "ESTU_LIMITA_BAJAVISION                                        NaN  \n",
       "ESTU_LIMITA_SORDOCEGUERA                                      NaN  \n",
       "ESTU_LIMITA_COGNITIVA                                         NaN  \n",
       "ESTU_LIMITA_INVIDENTE                                         NaN  \n",
       "ESTU_LIMITA_MOTRIZ                                            NaN  \n",
       "ESTU_LIMITA_SORDOINTERPRETE                                   NaN  \n",
       "ESTU_LIMITA_SORDONOINTERPRETE                                 NaN  \n",
       "ESTU_COD_RESIDE_MCPIO                                       66001  \n",
       "ESTU_RESIDE_MCPIO                                         PEREIRA  \n",
       "ESTU_RESIDE_DEPTO                                       RISARALDA  \n",
       "ESTU_ZONA_RESIDE                                               10  \n",
       "ESTU_AREA_RESIDE                                              NaN  \n",
       "ESTU_COD_MCPIO_PRESENTACION                                 66001  \n",
       "ESTU_MCPIO_PRESENTACION                                   PEREIRA  \n",
       "ESTU_DEPTO_PRESENTACION                                 RISARALDA  \n",
       "ESTU_EXAM_NOMBREEXAMEN                    EXAMEN DE ESTADO 2007-2  \n",
       "IND_ESTUDIO_BACHILLERATO                                        1  \n",
       "IND_ANNO_TERMINO_BACHILLERATO                                2007  \n",
       "IND_TERMINO_BACHILLERATO                                      NaN  \n",
       "IND_COD_ICFES_TERMINO                                       13318  \n",
       "COLE_COD_ICFES                                              13318  \n",
       "...                                                           ...  \n",
       "FAMI_COMPUTADOR                                               NaN  \n",
       "FAMI_INGRESO_FMILIAR_MENSUAL                                  NaN  \n",
       "ESTU_TRABAJA                                                  NaN  \n",
       "ESTU_HORAS_TRABAJA                                            NaN  \n",
       "COLE_VALOR_PENSION                                              0  \n",
       "ESTU_CARRDESEADA_TIPO                                         NaN  \n",
       "ESTU_CARRDESEADA_NUCLEO                                       NaN  \n",
       "ESTU_IES_COD_DESEADA                                         1111  \n",
       "ESTU_IES_DESEADA_NOMBRE        UNIVERSIDAD TECNOLOGICA DE PEREIRA  \n",
       "ESTU_IES_COD_MPIO_DESEADA                                   66001  \n",
       "ESTU_IES_MPIO_DESEADA                                     PEREIRA  \n",
       "ESTU_IES_DEPT_DESEADA                                   RISARALDA  \n",
       "ESTU_RAZONINSTITUTO                                             3  \n",
       "ESTU_CARRDESEADA_COD                                        14477  \n",
       "ESTU_CARRDESEADA_RAZON                                          1  \n",
       "PUNT_LENGUAJE                                               45,01  \n",
       "PUNT_MATEMATICAS                                            44,48  \n",
       "PUNT_C_SOCIALES                                             44,96  \n",
       "PUNT_FILOSOFIA                                              35,44  \n",
       "PUNT_BIOLOGIA                                               53,95  \n",
       "PUNT_QUIMICA                                                47,22  \n",
       "PUNT_FISICA                                                 41,52  \n",
       "PUNT_INGLES                                                 45,98  \n",
       "DESEMP_INGLES                                                  A1  \n",
       "NOMBRE_PROFUNDIZACION                  PROFUNDIZACIÓN EN BIOLOGÍA  \n",
       "PUNT_PROFUNDIZACION                                          5,88  \n",
       "DESEMP_PROFUNDIZACION                                           I  \n",
       "NOMBRE_INTERDISCIPLINAR                            MEDIO AMBIENTE  \n",
       "PUNT_INTERDISCIPLINAR                                       60,63  \n",
       "ESTU_PUESTO                                                   378  \n",
       "\n",
       "[84 rows x 3 columns]"
      ]
     },
     "execution_count": 5,
     "metadata": {},
     "output_type": "execute_result"
    }
   ],
   "source": [
    "data_2007_2.head(3).T"
   ]
  },
  {
   "cell_type": "code",
   "execution_count": 6,
   "metadata": {
    "collapsed": true
   },
   "outputs": [],
   "source": [
    "data_2007_2 = data_2007_2.drop(['ESTU_CONSECUTIVO', 'PERIODO', 'ESTU_TIPO_DOCUMENTO', 'ESTU_COD_RESIDE_MCPIO',\n",
    "                               'ESTU_COD_MCPIO_PRESENTACION', 'COLE_NOMBRE_SEDE', 'ESTU_IES_DESEADA_NOMBRE',\n",
    "                               'ESTU_IES_COD_MPIO_DESEADA'], axis = 1)"
   ]
  },
  {
   "cell_type": "code",
   "execution_count": 7,
   "metadata": {
    "scrolled": true
   },
   "outputs": [
    {
     "name": "stdout",
     "output_type": "stream",
     "text": [
      "Index(['AR', 'BO', 'BR', 'CA', 'CH', 'CL', 'CO', 'CU', 'EC', 'ES', 'IT', 'KR',\n",
      "       'MX', 'PA', 'PE', 'US', 'VE'],\n",
      "      dtype='object')\n",
      "AR         4\n",
      "BO         2\n",
      "BR         4\n",
      "CA         2\n",
      "CH         1\n",
      "CL         2\n",
      "CO    444455\n",
      "CU         1\n",
      "EC         4\n",
      "ES         1\n",
      "IT         2\n",
      "KR         1\n",
      "MX         1\n",
      "PA         1\n",
      "PE         4\n",
      "US        14\n",
      "VE        19\n",
      "Name: ESTU_PAIS_RESIDE, dtype: int64\n",
      "Elementos null/NaN 195\n",
      "__________________\n",
      "Elementos diferentes de null/NaN: 444518\n",
      "__________________\n",
      "(444518,)\n",
      "None\n"
     ]
    }
   ],
   "source": [
    "c = 'ESTU_PAIS_RESIDE'\n",
    "print(data_2007_2[c].value_counts().sort_index().index)\n",
    "print(data_2007_2[c].value_counts().sort_index())\n",
    "print(missing_data(data_2007_2[c]))"
   ]
  },
  {
   "cell_type": "code",
   "execution_count": 8,
   "metadata": {},
   "outputs": [
    {
     "name": "stdout",
     "output_type": "stream",
     "text": [
      "cant null antes: 195\n",
      "cant null despues: 0\n"
     ]
    }
   ],
   "source": [
    "Do_resamples(data_2007_2, c, str)"
   ]
  },
  {
   "cell_type": "code",
   "execution_count": 9,
   "metadata": {},
   "outputs": [
    {
     "name": "stdout",
     "output_type": "stream",
     "text": [
      "Index(['F', 'M'], dtype='object')\n",
      "F    240489\n",
      "M    204049\n",
      "Name: ESTU_GENERO, dtype: int64\n",
      "Elementos null/NaN 175\n",
      "__________________\n",
      "Elementos diferentes de null/NaN: 444538\n",
      "__________________\n",
      "(444538,)\n",
      "None\n"
     ]
    }
   ],
   "source": [
    "c = 'ESTU_GENERO'\n",
    "print(data_2007_2[c].value_counts().sort_index().index)\n",
    "print(data_2007_2[c].value_counts().sort_index())\n",
    "print(missing_data(data_2007_2[c]))"
   ]
  },
  {
   "cell_type": "code",
   "execution_count": 10,
   "metadata": {},
   "outputs": [
    {
     "name": "stdout",
     "output_type": "stream",
     "text": [
      "cant null antes: 175\n",
      "cant null despues: 0\n"
     ]
    }
   ],
   "source": [
    "Do_resamples(data_2007_2, c, str)"
   ]
  },
  {
   "cell_type": "code",
   "execution_count": 11,
   "metadata": {
    "scrolled": true
   },
   "outputs": [
    {
     "name": "stdout",
     "output_type": "stream",
     "text": [
      "Float64Index([ 1.0,  2.0,  3.0,  4.0,  5.0,  6.0,  7.0,  8.0,  9.0, 10.0, 11.0,\n",
      "              12.0, 13.0, 14.0, 15.0, 16.0, 17.0, 18.0, 19.0, 20.0, 21.0, 22.0,\n",
      "              23.0, 24.0, 25.0, 26.0, 27.0, 28.0, 29.0, 30.0, 31.0],\n",
      "             dtype='float64')\n",
      "1.0     14943\n",
      "2.0     14665\n",
      "3.0     14596\n",
      "4.0     14614\n",
      "5.0     14659\n",
      "6.0     14549\n",
      "7.0     14615\n",
      "8.0     14487\n",
      "9.0     14417\n",
      "10.0    15328\n",
      "11.0    14731\n",
      "12.0    14709\n",
      "13.0    14288\n",
      "14.0    14328\n",
      "15.0    14936\n",
      "16.0    14651\n",
      "17.0    14479\n",
      "18.0    14603\n",
      "19.0    14416\n",
      "20.0    15178\n",
      "21.0    14419\n",
      "22.0    14588\n",
      "23.0    14336\n",
      "24.0    14763\n",
      "25.0    14307\n",
      "26.0    14387\n",
      "27.0    14582\n",
      "28.0    14975\n",
      "29.0    13408\n",
      "30.0    13270\n",
      "31.0     8091\n",
      "Name: ESTU_NACIMIENTO_DIA, dtype: int64\n",
      "Elementos null/NaN 395\n",
      "__________________\n",
      "Elementos diferentes de null/NaN: 444318\n",
      "__________________\n",
      "(444318,)\n",
      "None\n"
     ]
    }
   ],
   "source": [
    "c = 'ESTU_NACIMIENTO_DIA'\n",
    "print(data_2007_2[c].value_counts().sort_index().index)\n",
    "print(data_2007_2[c].value_counts().sort_index())\n",
    "print(missing_data(data_2007_2[c]))"
   ]
  },
  {
   "cell_type": "code",
   "execution_count": 12,
   "metadata": {
    "scrolled": true
   },
   "outputs": [
    {
     "name": "stdout",
     "output_type": "stream",
     "text": [
      "Float64Index([1.0, 2.0, 3.0, 4.0, 5.0, 6.0, 7.0, 8.0, 9.0, 10.0, 11.0, 12.0], dtype='float64')\n",
      "1.0     36143\n",
      "2.0     32548\n",
      "3.0     36461\n",
      "4.0     35236\n",
      "5.0     36560\n",
      "6.0     35075\n",
      "7.0     37075\n",
      "8.0     37498\n",
      "9.0     38921\n",
      "10.0    39468\n",
      "11.0    36974\n",
      "12.0    42359\n",
      "Name: ESTU_NACIMIENTO_MES, dtype: int64\n",
      "Elementos null/NaN 395\n",
      "__________________\n",
      "Elementos diferentes de null/NaN: 444318\n",
      "__________________\n",
      "(444318,)\n",
      "None\n"
     ]
    }
   ],
   "source": [
    "c = 'ESTU_NACIMIENTO_MES'\n",
    "print(data_2007_2[c].value_counts().sort_index().index)\n",
    "print(data_2007_2[c].value_counts().sort_index())\n",
    "print(missing_data(data_2007_2[c]))"
   ]
  },
  {
   "cell_type": "code",
   "execution_count": 13,
   "metadata": {
    "scrolled": true
   },
   "outputs": [
    {
     "name": "stdout",
     "output_type": "stream",
     "text": [
      "Float64Index([  14.0, 1924.0, 1930.0, 1931.0, 1932.0, 1933.0, 1934.0, 1935.0,\n",
      "              1936.0, 1937.0, 1938.0, 1939.0, 1940.0, 1941.0, 1942.0, 1943.0,\n",
      "              1944.0, 1945.0, 1946.0, 1947.0, 1948.0, 1949.0, 1950.0, 1951.0,\n",
      "              1952.0, 1953.0, 1954.0, 1955.0, 1956.0, 1957.0, 1958.0, 1959.0,\n",
      "              1960.0, 1961.0, 1962.0, 1963.0, 1964.0, 1965.0, 1966.0, 1967.0,\n",
      "              1968.0, 1969.0, 1970.0, 1971.0, 1972.0, 1973.0, 1974.0, 1975.0,\n",
      "              1976.0, 1977.0, 1978.0, 1979.0, 1980.0, 1981.0, 1982.0, 1983.0,\n",
      "              1984.0, 1985.0, 1986.0, 1987.0, 1988.0, 1989.0, 1990.0, 1991.0,\n",
      "              1992.0, 1993.0, 1994.0, 1995.0, 1996.0, 1997.0, 1998.0, 1999.0,\n",
      "              2000.0, 2001.0, 2002.0, 2085.0, 2086.0, 2088.0, 2090.0, 2091.0],\n",
      "             dtype='float64')\n",
      "14.0           1\n",
      "1924.0         3\n",
      "1930.0        17\n",
      "1931.0        15\n",
      "1932.0        18\n",
      "1933.0        15\n",
      "1934.0        12\n",
      "1935.0         6\n",
      "1936.0         2\n",
      "1937.0         1\n",
      "1938.0         5\n",
      "1939.0         5\n",
      "1940.0         4\n",
      "1941.0         7\n",
      "1942.0         4\n",
      "1943.0         8\n",
      "1944.0        10\n",
      "1945.0         7\n",
      "1946.0        10\n",
      "1947.0        16\n",
      "1948.0        27\n",
      "1949.0        11\n",
      "1950.0        46\n",
      "1951.0        34\n",
      "1952.0        39\n",
      "1953.0        56\n",
      "1954.0        73\n",
      "1955.0        64\n",
      "1956.0        83\n",
      "1957.0       107\n",
      "           ...  \n",
      "1978.0       883\n",
      "1979.0       978\n",
      "1980.0      1250\n",
      "1981.0      1338\n",
      "1982.0      1550\n",
      "1983.0      1875\n",
      "1984.0      2448\n",
      "1985.0      3840\n",
      "1986.0      6912\n",
      "1987.0     15454\n",
      "1988.0     37815\n",
      "1989.0     83119\n",
      "1990.0    160461\n",
      "1991.0    104431\n",
      "1992.0      9111\n",
      "1993.0      1124\n",
      "1994.0      2431\n",
      "1995.0        13\n",
      "1996.0         1\n",
      "1997.0         2\n",
      "1998.0        21\n",
      "1999.0         2\n",
      "2000.0        30\n",
      "2001.0        14\n",
      "2002.0        17\n",
      "2085.0         1\n",
      "2086.0         1\n",
      "2088.0         1\n",
      "2090.0         2\n",
      "2091.0         1\n",
      "Name: ESTU_NACIMIENTO_ANNO, Length: 80, dtype: int64\n",
      "Elementos null/NaN 395\n",
      "__________________\n",
      "Elementos diferentes de null/NaN: 444318\n",
      "__________________\n",
      "(444318,)\n",
      "None\n"
     ]
    }
   ],
   "source": [
    "c = 'ESTU_NACIMIENTO_ANNO'\n",
    "print(data_2007_2[c].value_counts().sort_index().index)\n",
    "print(data_2007_2[c].value_counts().sort_index())\n",
    "print(missing_data(data_2007_2[c]))"
   ]
  },
  {
   "cell_type": "code",
   "execution_count": 14,
   "metadata": {
    "collapsed": true
   },
   "outputs": [],
   "source": [
    "for i in data_2007_2[c].value_counts().sort_index().index:\n",
    "    if i < 1930:\n",
    "        data_2007_2[c] = data_2007_2[c].replace(i, np.nan)\n",
    "    elif i > 1995:\n",
    "        data_2007_2[c] = data_2007_2[c].replace(i, np.nan)"
   ]
  },
  {
   "cell_type": "code",
   "execution_count": 15,
   "metadata": {
    "collapsed": true
   },
   "outputs": [],
   "source": [
    "anno = data_2007_2[data_2007_2[c].isnull()].index\n",
    "data_2007_2 = data_2007_2.drop(anno)"
   ]
  },
  {
   "cell_type": "code",
   "execution_count": 18,
   "metadata": {
    "scrolled": true
   },
   "outputs": [
    {
     "name": "stdout",
     "output_type": "stream",
     "text": [
      "Int64Index([12, 13, 14, 15, 16, 17, 18, 19, 20, 21, 22, 23, 24, 25, 26, 27, 28,\n",
      "            29, 30, 31, 32, 33, 34, 35, 36, 37, 38, 39, 40, 41, 42, 43, 44, 45,\n",
      "            46, 47, 48, 49, 50, 51, 52, 53, 54, 55, 56, 57, 58, 59, 60, 61, 62,\n",
      "            63, 64, 65, 66, 67, 68, 69, 70, 71, 72, 73, 74, 75, 76, 77],\n",
      "           dtype='int64')\n",
      "12       862\n",
      "13      2070\n",
      "14      2101\n",
      "15     27987\n",
      "16    161787\n",
      "17    122950\n",
      "18     61512\n",
      "19     26663\n",
      "20     11227\n",
      "21      5342\n",
      "22      3210\n",
      "23      2177\n",
      "24      1732\n",
      "25      1489\n",
      "26      1285\n",
      "27      1150\n",
      "28       939\n",
      "29       865\n",
      "30       792\n",
      "31       693\n",
      "32       688\n",
      "33       687\n",
      "34       609\n",
      "35       548\n",
      "36       539\n",
      "37       523\n",
      "38       450\n",
      "39       396\n",
      "40       365\n",
      "41       309\n",
      "       ...  \n",
      "48       117\n",
      "49       120\n",
      "50        96\n",
      "51        86\n",
      "52        63\n",
      "53        70\n",
      "54        47\n",
      "55        36\n",
      "56        46\n",
      "57        25\n",
      "58        19\n",
      "59        19\n",
      "60        18\n",
      "61        10\n",
      "62         6\n",
      "63        10\n",
      "64         8\n",
      "65         3\n",
      "66         7\n",
      "67         5\n",
      "68         6\n",
      "69         5\n",
      "70         1\n",
      "71         3\n",
      "72         5\n",
      "73        12\n",
      "74        14\n",
      "75        18\n",
      "76        19\n",
      "77        12\n",
      "Name: ESTU_EDAD, Length: 66, dtype: int64\n",
      "Elementos null/NaN 0\n",
      "__________________\n",
      "Elementos diferentes de null/NaN: 444221\n",
      "__________________\n",
      "(444221,)\n",
      "None\n"
     ]
    }
   ],
   "source": [
    "c = 'ESTU_EDAD'\n",
    "print(data_2007_2[c].value_counts().sort_index().index)\n",
    "print(data_2007_2[c].value_counts().sort_index())\n",
    "print(missing_data(data_2007_2[c]))"
   ]
  },
  {
   "cell_type": "code",
   "execution_count": 19,
   "metadata": {},
   "outputs": [
    {
     "name": "stdout",
     "output_type": "stream",
     "text": [
      "Float64Index([], dtype='float64')\n",
      "Series([], Name: ESTU_LIMITA_BAJAVISION, dtype: int64)\n",
      "Elementos null/NaN 444221\n",
      "__________________\n",
      "Elementos diferentes de null/NaN: 0\n",
      "__________________\n",
      "(0,)\n",
      "None\n"
     ]
    }
   ],
   "source": [
    "c = 'ESTU_LIMITA_BAJAVISION'\n",
    "print(data_2007_2[c].value_counts().sort_index().index)\n",
    "print(data_2007_2[c].value_counts().sort_index())\n",
    "print(missing_data(data_2007_2[c]))"
   ]
  },
  {
   "cell_type": "code",
   "execution_count": 20,
   "metadata": {
    "collapsed": true
   },
   "outputs": [],
   "source": [
    "data_2007_2 = data_2007_2.drop([c], axis=1)"
   ]
  },
  {
   "cell_type": "code",
   "execution_count": 21,
   "metadata": {},
   "outputs": [
    {
     "name": "stdout",
     "output_type": "stream",
     "text": [
      "Float64Index([], dtype='float64')\n",
      "Series([], Name: ESTU_LIMITA_SORDOCEGUERA, dtype: int64)\n",
      "Elementos null/NaN 444221\n",
      "__________________\n",
      "Elementos diferentes de null/NaN: 0\n",
      "__________________\n",
      "(0,)\n",
      "None\n"
     ]
    }
   ],
   "source": [
    "c = 'ESTU_LIMITA_SORDOCEGUERA'\n",
    "print(data_2007_2[c].value_counts().sort_index().index)\n",
    "print(data_2007_2[c].value_counts().sort_index())\n",
    "print(missing_data(data_2007_2[c]))"
   ]
  },
  {
   "cell_type": "code",
   "execution_count": 22,
   "metadata": {
    "collapsed": true
   },
   "outputs": [],
   "source": [
    "data_2007_2 = data_2007_2.drop([c], axis=1)"
   ]
  },
  {
   "cell_type": "code",
   "execution_count": 23,
   "metadata": {},
   "outputs": [
    {
     "name": "stdout",
     "output_type": "stream",
     "text": [
      "Float64Index([], dtype='float64')\n",
      "Series([], Name: ESTU_LIMITA_COGNITIVA, dtype: int64)\n",
      "Elementos null/NaN 444221\n",
      "__________________\n",
      "Elementos diferentes de null/NaN: 0\n",
      "__________________\n",
      "(0,)\n",
      "None\n"
     ]
    }
   ],
   "source": [
    "c = 'ESTU_LIMITA_COGNITIVA'\n",
    "print(data_2007_2[c].value_counts().sort_index().index)\n",
    "print(data_2007_2[c].value_counts().sort_index())\n",
    "print(missing_data(data_2007_2[c]))"
   ]
  },
  {
   "cell_type": "code",
   "execution_count": 24,
   "metadata": {
    "collapsed": true
   },
   "outputs": [],
   "source": [
    "data_2007_2 = data_2007_2.drop([c], axis=1)"
   ]
  },
  {
   "cell_type": "code",
   "execution_count": 25,
   "metadata": {},
   "outputs": [
    {
     "name": "stdout",
     "output_type": "stream",
     "text": [
      "Float64Index([], dtype='float64')\n",
      "Series([], Name: ESTU_LIMITA_INVIDENTE, dtype: int64)\n",
      "Elementos null/NaN 444221\n",
      "__________________\n",
      "Elementos diferentes de null/NaN: 0\n",
      "__________________\n",
      "(0,)\n",
      "None\n"
     ]
    }
   ],
   "source": [
    "c = 'ESTU_LIMITA_INVIDENTE'\n",
    "print(data_2007_2[c].value_counts().sort_index().index)\n",
    "print(data_2007_2[c].value_counts().sort_index())\n",
    "print(missing_data(data_2007_2[c]))"
   ]
  },
  {
   "cell_type": "code",
   "execution_count": 26,
   "metadata": {
    "collapsed": true
   },
   "outputs": [],
   "source": [
    "data_2007_2 = data_2007_2.drop([c], axis=1)"
   ]
  },
  {
   "cell_type": "code",
   "execution_count": 27,
   "metadata": {},
   "outputs": [
    {
     "name": "stdout",
     "output_type": "stream",
     "text": [
      "Float64Index([], dtype='float64')\n",
      "Series([], Name: ESTU_LIMITA_MOTRIZ, dtype: int64)\n",
      "Elementos null/NaN 444221\n",
      "__________________\n",
      "Elementos diferentes de null/NaN: 0\n",
      "__________________\n",
      "(0,)\n",
      "None\n"
     ]
    }
   ],
   "source": [
    "c = 'ESTU_LIMITA_MOTRIZ'\n",
    "print(data_2007_2[c].value_counts().sort_index().index)\n",
    "print(data_2007_2[c].value_counts().sort_index())\n",
    "print(missing_data(data_2007_2[c]))"
   ]
  },
  {
   "cell_type": "code",
   "execution_count": 28,
   "metadata": {
    "collapsed": true
   },
   "outputs": [],
   "source": [
    "data_2007_2 = data_2007_2.drop([c], axis=1)"
   ]
  },
  {
   "cell_type": "code",
   "execution_count": 29,
   "metadata": {},
   "outputs": [
    {
     "name": "stdout",
     "output_type": "stream",
     "text": [
      "Float64Index([], dtype='float64')\n",
      "Series([], Name: ESTU_LIMITA_SORDOINTERPRETE, dtype: int64)\n",
      "Elementos null/NaN 444221\n",
      "__________________\n",
      "Elementos diferentes de null/NaN: 0\n",
      "__________________\n",
      "(0,)\n",
      "None\n"
     ]
    }
   ],
   "source": [
    "c = 'ESTU_LIMITA_SORDOINTERPRETE'\n",
    "print(data_2007_2[c].value_counts().sort_index().index)\n",
    "print(data_2007_2[c].value_counts().sort_index())\n",
    "print(missing_data(data_2007_2[c]))"
   ]
  },
  {
   "cell_type": "code",
   "execution_count": 30,
   "metadata": {
    "collapsed": true
   },
   "outputs": [],
   "source": [
    "data_2007_2 = data_2007_2.drop([c], axis=1)"
   ]
  },
  {
   "cell_type": "code",
   "execution_count": 31,
   "metadata": {},
   "outputs": [
    {
     "name": "stdout",
     "output_type": "stream",
     "text": [
      "Float64Index([], dtype='float64')\n",
      "Series([], Name: ESTU_LIMITA_SORDONOINTERPRETE, dtype: int64)\n",
      "Elementos null/NaN 444221\n",
      "__________________\n",
      "Elementos diferentes de null/NaN: 0\n",
      "__________________\n",
      "(0,)\n",
      "None\n"
     ]
    }
   ],
   "source": [
    "c = 'ESTU_LIMITA_SORDONOINTERPRETE'\n",
    "print(data_2007_2[c].value_counts().sort_index().index)\n",
    "print(data_2007_2[c].value_counts().sort_index())\n",
    "print(missing_data(data_2007_2[c]))"
   ]
  },
  {
   "cell_type": "code",
   "execution_count": 32,
   "metadata": {
    "collapsed": true
   },
   "outputs": [],
   "source": [
    "data_2007_2 = data_2007_2.drop([c], axis=1)"
   ]
  },
  {
   "cell_type": "code",
   "execution_count": 33,
   "metadata": {
    "scrolled": true
   },
   "outputs": [
    {
     "name": "stdout",
     "output_type": "stream",
     "text": [
      "Index(['ABEJORRAL', 'ABREGO', 'ABRIAQUI', 'ACACIAS', 'ACANDI', 'ACEVEDO',\n",
      "       'ACHI', 'AGRADO', 'AGUA DE DIOS', 'AGUACHICA',\n",
      "       ...\n",
      "       'YUMBO', 'ZAMBRANO', 'ZAPATOCA', 'ZAPAYAN', 'ZARAGOZA', 'ZARZAL',\n",
      "       'ZETAQUIRA', 'ZIPACON', 'ZIPAQUIRA', 'ZONA BANANERA'],\n",
      "      dtype='object', length=972)\n",
      "ABEJORRAL                    154\n",
      "ABREGO                       112\n",
      "ABRIAQUI                      25\n",
      "ACACIAS                      864\n",
      "ACANDI                        50\n",
      "ACEVEDO                       86\n",
      "ACHI                         172\n",
      "AGRADO                        81\n",
      "AGUA DE DIOS                 146\n",
      "AGUACHICA                    847\n",
      "AGUADA                        16\n",
      "AGUADAS                      229\n",
      "AGUAZUL                      464\n",
      "AGUSTIN CODAZZI              582\n",
      "AIPE                         147\n",
      "ALBAN                         62\n",
      "ALBANIA                      302\n",
      "ALCALA                         9\n",
      "ALEJANDRIA                    24\n",
      "ALGARROBO                    114\n",
      "ALGECIRAS                    111\n",
      "ALMAGUER                      98\n",
      "ALMEIDA                       18\n",
      "ALPUJARRA                     53\n",
      "ALTAMIRA                      29\n",
      "ALTO BAUDO (PIE DE PATO)      33\n",
      "ALTOS DEL ROSARIO             48\n",
      "ALVARADO                      89\n",
      "AMAGA                        297\n",
      "AMALFI                       194\n",
      "                            ... \n",
      "VILLAMARIA                   533\n",
      "VILLANUEVA                   788\n",
      "VILLAPINZON                  177\n",
      "VILLARRICA                    56\n",
      "VILLAVICENCIO               5046\n",
      "VILLAVIEJA                    80\n",
      "VILLETA                      369\n",
      "VIOTA                        190\n",
      "VIRACACHA                     33\n",
      "VISTA HERMOSA                 84\n",
      "VITERBO                      177\n",
      "YACOPI                       104\n",
      "YAGUARA                      126\n",
      "YALI                          38\n",
      "YARUMAL                      490\n",
      "YAVARATE                      11\n",
      "YOLOMBO                      178\n",
      "YONDO (CASABE)                77\n",
      "YOPAL                       1465\n",
      "YOTOCO                         1\n",
      "YUMBO                         42\n",
      "ZAMBRANO                     104\n",
      "ZAPATOCA                      92\n",
      "ZAPAYAN                       19\n",
      "ZARAGOZA                     177\n",
      "ZARZAL                        15\n",
      "ZETAQUIRA                    112\n",
      "ZIPACON                       51\n",
      "ZIPAQUIRA                   1525\n",
      "ZONA BANANERA                524\n",
      "Name: ESTU_RESIDE_MCPIO, Length: 972, dtype: int64\n",
      "Elementos null/NaN 0\n",
      "__________________\n",
      "Elementos diferentes de null/NaN: 444221\n",
      "__________________\n",
      "(444221,)\n",
      "None\n"
     ]
    }
   ],
   "source": [
    "c = 'ESTU_RESIDE_MCPIO'\n",
    "print(data_2007_2[c].value_counts().sort_index().index)\n",
    "print(data_2007_2[c].value_counts().sort_index())\n",
    "print(missing_data(data_2007_2[c]))"
   ]
  },
  {
   "cell_type": "code",
   "execution_count": 34,
   "metadata": {
    "scrolled": true
   },
   "outputs": [
    {
     "name": "stdout",
     "output_type": "stream",
     "text": [
      "Index(['AMAZONAS', 'ANTIOQUIA', 'ARAUCA', 'ATLÁNTICO', 'BOGOTÁ', 'BOLÍVAR',\n",
      "       'BOYACÁ', 'CALDAS', 'CAQUETÁ', 'CASANARE', 'CAUCA', 'CESAR', 'CHOCÓ',\n",
      "       'CUNDINAMARCA', 'CÓRDOBA', 'GUAINÍA', 'GUAVIARE', 'HUILA', 'LA GUAJIRA',\n",
      "       'MAGDALENA', 'META', 'NARIÑO', 'NORTE SANTANDER', 'PUTUMAYO', 'QUINDÍO',\n",
      "       'RISARALDA', 'SAN ANDRÉS', 'SANTANDER', 'SUCRE', 'TOLIMA', 'VALLE',\n",
      "       'VAUPÉS', 'VICHADA'],\n",
      "      dtype='object')\n",
      "AMAZONAS             714\n",
      "ANTIOQUIA          66739\n",
      "ARAUCA              2424\n",
      "ATLÁNTICO          27993\n",
      "BOGOTÁ             93691\n",
      "BOLÍVAR            22900\n",
      "BOYACÁ             16374\n",
      "CALDAS             10689\n",
      "CAQUETÁ             3175\n",
      "CASANARE            3560\n",
      "CAUCA               9197\n",
      "CESAR              11042\n",
      "CHOCÓ               3682\n",
      "CUNDINAMARCA       30638\n",
      "CÓRDOBA            16222\n",
      "GUAINÍA              146\n",
      "GUAVIARE             494\n",
      "HUILA              10079\n",
      "LA GUAJIRA          6317\n",
      "MAGDALENA          12536\n",
      "META                8825\n",
      "NARIÑO               397\n",
      "NORTE SANTANDER    14961\n",
      "PUTUMAYO            2054\n",
      "QUINDÍO             6331\n",
      "RISARALDA           9688\n",
      "SAN ANDRÉS           772\n",
      "SANTANDER          23868\n",
      "SUCRE              10557\n",
      "TOLIMA             15639\n",
      "VALLE               1932\n",
      "VAUPÉS               170\n",
      "VICHADA              415\n",
      "Name: ESTU_RESIDE_DEPTO, dtype: int64\n",
      "Elementos null/NaN 0\n",
      "__________________\n",
      "Elementos diferentes de null/NaN: 444221\n",
      "__________________\n",
      "(444221,)\n",
      "None\n"
     ]
    }
   ],
   "source": [
    "c = 'ESTU_RESIDE_DEPTO'\n",
    "print(data_2007_2[c].value_counts().sort_index().index)\n",
    "print(data_2007_2[c].value_counts().sort_index())\n",
    "print(missing_data(data_2007_2[c]))"
   ]
  },
  {
   "cell_type": "code",
   "execution_count": 35,
   "metadata": {},
   "outputs": [
    {
     "name": "stdout",
     "output_type": "stream",
     "text": [
      "Float64Index([1.0, 2.0, 3.0, 4.0, 5.0, 6.0, 7.0, 8.0, 9.0, 10.0], dtype='float64')\n",
      "1.0      19053\n",
      "2.0       3283\n",
      "3.0      11956\n",
      "4.0      45395\n",
      "5.0      16606\n",
      "6.0       9415\n",
      "7.0       9980\n",
      "8.0      25971\n",
      "9.0      18390\n",
      "10.0    284098\n",
      "Name: ESTU_ZONA_RESIDE, dtype: int64\n",
      "Elementos null/NaN 74\n",
      "__________________\n",
      "Elementos diferentes de null/NaN: 444147\n",
      "__________________\n",
      "(444147,)\n",
      "None\n"
     ]
    }
   ],
   "source": [
    "c = 'ESTU_ZONA_RESIDE'\n",
    "print(data_2007_2[c].value_counts().sort_index().index)\n",
    "print(data_2007_2[c].value_counts().sort_index())\n",
    "print(missing_data(data_2007_2[c]))"
   ]
  },
  {
   "cell_type": "code",
   "execution_count": 36,
   "metadata": {},
   "outputs": [
    {
     "name": "stdout",
     "output_type": "stream",
     "text": [
      "cant null antes: 74\n",
      "cant null despues: 0\n"
     ]
    }
   ],
   "source": [
    "Do_resamples(data_2007_2, c, float)"
   ]
  },
  {
   "cell_type": "code",
   "execution_count": 37,
   "metadata": {},
   "outputs": [
    {
     "name": "stdout",
     "output_type": "stream",
     "text": [
      "Float64Index([1.0, 2.0], dtype='float64')\n",
      "1.0    15244\n",
      "2.0     3763\n",
      "Name: ESTU_AREA_RESIDE, dtype: int64\n",
      "Elementos null/NaN 425214\n",
      "__________________\n",
      "Elementos diferentes de null/NaN: 19007\n",
      "__________________\n",
      "(19007,)\n",
      "None\n"
     ]
    }
   ],
   "source": [
    "c = 'ESTU_AREA_RESIDE'\n",
    "print(data_2007_2[c].value_counts().sort_index().index)\n",
    "print(data_2007_2[c].value_counts().sort_index())\n",
    "print(missing_data(data_2007_2[c]))"
   ]
  },
  {
   "cell_type": "code",
   "execution_count": 38,
   "metadata": {},
   "outputs": [
    {
     "name": "stdout",
     "output_type": "stream",
     "text": [
      "cant null antes: 425214\n",
      "cant null despues: 0\n"
     ]
    }
   ],
   "source": [
    "Do_resamples(data_2007_2, c, float)"
   ]
  },
  {
   "cell_type": "code",
   "execution_count": 39,
   "metadata": {
    "scrolled": true
   },
   "outputs": [
    {
     "name": "stdout",
     "output_type": "stream",
     "text": [
      "Index(['ABEJORRAL', 'ABREGO', 'ACACIAS', 'ACANDI', 'ACHI', 'AGUACHICA',\n",
      "       'AGUADAS', 'AGUAZUL', 'AGUSTIN CODAZZI', 'AIPE',\n",
      "       ...\n",
      "       'VILLAVICENCIO', 'VILLETA', 'VIOTA', 'YARUMAL', 'YAVARATE', 'YOLOMBO',\n",
      "       'YOPAL', 'ZAPATOCA', 'ZARAGOZA', 'ZIPAQUIRA'],\n",
      "      dtype='object', length=359)\n",
      "ABEJORRAL                     158\n",
      "ABREGO                        112\n",
      "ACACIAS                      1083\n",
      "ACANDI                         50\n",
      "ACHI                          197\n",
      "AGUACHICA                    1348\n",
      "AGUADAS                       230\n",
      "AGUAZUL                       442\n",
      "AGUSTIN CODAZZI               590\n",
      "AIPE                          150\n",
      "ALTO BAUDO (PIE DE PATO)       32\n",
      "AMAGA                         697\n",
      "AMALFI                        309\n",
      "ANDES                         726\n",
      "ANOLAIMA                      236\n",
      "ANSERMA                       680\n",
      "APARTADO                     1728\n",
      "ARACATACA                     366\n",
      "ARAUCA                       1020\n",
      "ARAUQUITA                     253\n",
      "ARBELAEZ                      171\n",
      "ARBOLEDAS                     101\n",
      "ARBOLETES                     439\n",
      "ARIGUANI (EL DIFICIL)         241\n",
      "ARJONA                        718\n",
      "ARMENIA                      4411\n",
      "ASTREA                        213\n",
      "ATRATO (YUTO)                  76\n",
      "AYAPEL                        428\n",
      "BAGADO                         64\n",
      "                             ... \n",
      "TUMACO                         56\n",
      "TUNJA                        3941\n",
      "TURBACO                       965\n",
      "TURBO                        1214\n",
      "TURMEQUE                      271\n",
      "TUTA                          116\n",
      "UBATE                        1115\n",
      "UNGUIA                         70\n",
      "URRAO                         476\n",
      "VALLEDUPAR                   5738\n",
      "VEGACHI                       148\n",
      "VELEZ                         519\n",
      "VENADILLO                     194\n",
      "VENTAQUEMADA                  130\n",
      "VIGIA DEL FUERTE               74\n",
      "VILLA DE LEYVA                238\n",
      "VILLA DEL ROSARIO             746\n",
      "VILLA GUAMEZ (LA HORMIGA)     363\n",
      "VILLAGARZON                   125\n",
      "VILLANUEVA                    826\n",
      "VILLAVICENCIO                5674\n",
      "VILLETA                       883\n",
      "VIOTA                         148\n",
      "YARUMAL                       748\n",
      "YAVARATE                       11\n",
      "YOLOMBO                       235\n",
      "YOPAL                        1701\n",
      "ZAPATOCA                      111\n",
      "ZARAGOZA                      161\n",
      "ZIPAQUIRA                    2748\n",
      "Name: ESTU_MCPIO_PRESENTACION, Length: 359, dtype: int64\n",
      "Elementos null/NaN 0\n",
      "__________________\n",
      "Elementos diferentes de null/NaN: 444221\n",
      "__________________\n",
      "(444221,)\n",
      "None\n"
     ]
    }
   ],
   "source": [
    "c = 'ESTU_MCPIO_PRESENTACION'\n",
    "print(data_2007_2[c].value_counts().sort_index().index)\n",
    "print(data_2007_2[c].value_counts().sort_index())\n",
    "print(missing_data(data_2007_2[c]))"
   ]
  },
  {
   "cell_type": "code",
   "execution_count": 41,
   "metadata": {
    "scrolled": true
   },
   "outputs": [
    {
     "name": "stdout",
     "output_type": "stream",
     "text": [
      "Index(['AMAZONAS', 'ANTIOQUIA', 'ARAUCA', 'ATLÁNTICO', 'BOGOTÁ', 'BOLÍVAR',\n",
      "       'BOYACÁ', 'CALDAS', 'CAQUETÁ', 'CASANARE', 'CAUCA', 'CESAR', 'CHOCÓ',\n",
      "       'CUNDINAMARCA', 'CÓRDOBA', 'GUAINÍA', 'GUAVIARE', 'HUILA', 'LA GUAJIRA',\n",
      "       'MAGDALENA', 'META', 'NARIÑO', 'NORTE SANTANDER', 'PUTUMAYO', 'QUINDÍO',\n",
      "       'RISARALDA', 'SAN ANDRÉS', 'SANTANDER', 'SUCRE', 'TOLIMA', 'VALLE',\n",
      "       'VAUPÉS', 'VICHADA'],\n",
      "      dtype='object')\n",
      "AMAZONAS             725\n",
      "ANTIOQUIA          66453\n",
      "ARAUCA              2527\n",
      "ATLÁNTICO          28461\n",
      "BOGOTÁ             93380\n",
      "BOLÍVAR            22180\n",
      "BOYACÁ             17077\n",
      "CALDAS             11123\n",
      "CAQUETÁ             3208\n",
      "CASANARE            3570\n",
      "CAUCA               9331\n",
      "CESAR              11221\n",
      "CHOCÓ               3691\n",
      "CUNDINAMARCA       29881\n",
      "CÓRDOBA            16222\n",
      "GUAINÍA              148\n",
      "GUAVIARE             533\n",
      "HUILA              10187\n",
      "LA GUAJIRA          6315\n",
      "MAGDALENA          12325\n",
      "META                8961\n",
      "NARIÑO               309\n",
      "NORTE SANTANDER    15065\n",
      "PUTUMAYO            2126\n",
      "QUINDÍO             6379\n",
      "RISARALDA           9678\n",
      "SAN ANDRÉS           776\n",
      "SANTANDER          24272\n",
      "SUCRE              10622\n",
      "TOLIMA             15186\n",
      "VALLE               1696\n",
      "VAUPÉS               169\n",
      "VICHADA              424\n",
      "Name: ESTU_DEPTO_PRESENTACION, dtype: int64\n",
      "Elementos null/NaN 0\n",
      "__________________\n",
      "Elementos diferentes de null/NaN: 444221\n",
      "__________________\n",
      "(444221,)\n",
      "None\n"
     ]
    }
   ],
   "source": [
    "c = 'ESTU_DEPTO_PRESENTACION'\n",
    "print(data_2007_2[c].value_counts().sort_index().index)\n",
    "print(data_2007_2[c].value_counts().sort_index())\n",
    "print(missing_data(data_2007_2[c]))"
   ]
  },
  {
   "cell_type": "code",
   "execution_count": 43,
   "metadata": {},
   "outputs": [
    {
     "name": "stdout",
     "output_type": "stream",
     "text": [
      "Index(['EXAMEN DE ESTADO 2007-2'], dtype='object')\n",
      "EXAMEN DE ESTADO 2007-2    444221\n",
      "Name: ESTU_EXAM_NOMBREEXAMEN, dtype: int64\n",
      "Elementos null/NaN 0\n",
      "__________________\n",
      "Elementos diferentes de null/NaN: 444221\n",
      "__________________\n",
      "(444221,)\n",
      "None\n"
     ]
    }
   ],
   "source": [
    "c = 'ESTU_EXAM_NOMBREEXAMEN'\n",
    "print(data_2007_2[c].value_counts().sort_index().index)\n",
    "print(data_2007_2[c].value_counts().sort_index())\n",
    "print(missing_data(data_2007_2[c]))"
   ]
  },
  {
   "cell_type": "code",
   "execution_count": 44,
   "metadata": {
    "collapsed": true
   },
   "outputs": [],
   "source": [
    "data_2007_2 = data_2007_2.drop([c], axis=1)"
   ]
  },
  {
   "cell_type": "code",
   "execution_count": 45,
   "metadata": {},
   "outputs": [
    {
     "name": "stdout",
     "output_type": "stream",
     "text": [
      "Float64Index([0.0, 1.0], dtype='float64')\n",
      "0.0     16390\n",
      "1.0    427806\n",
      "Name: IND_ESTUDIO_BACHILLERATO, dtype: int64\n",
      "Elementos null/NaN 25\n",
      "__________________\n",
      "Elementos diferentes de null/NaN: 444196\n",
      "__________________\n",
      "(444196,)\n",
      "None\n"
     ]
    }
   ],
   "source": [
    "c = 'IND_ESTUDIO_BACHILLERATO'\n",
    "print(data_2007_2[c].value_counts().sort_index().index)\n",
    "print(data_2007_2[c].value_counts().sort_index())\n",
    "print(missing_data(data_2007_2[c]))"
   ]
  },
  {
   "cell_type": "code",
   "execution_count": 46,
   "metadata": {},
   "outputs": [
    {
     "name": "stdout",
     "output_type": "stream",
     "text": [
      "cant null antes: 25\n",
      "cant null despues: 0\n"
     ]
    }
   ],
   "source": [
    "Do_resamples(data_2007_2, c, float)"
   ]
  },
  {
   "cell_type": "code",
   "execution_count": 47,
   "metadata": {
    "scrolled": true
   },
   "outputs": [
    {
     "name": "stdout",
     "output_type": "stream",
     "text": [
      "Float64Index([1992.0, 1993.0, 1994.0, 1995.0, 1996.0, 1997.0, 1998.0, 1999.0,\n",
      "              2000.0, 2001.0, 2003.0, 2004.0, 2005.0, 2006.0, 2007.0, 2008.0,\n",
      "              2009.0, 2010.0, 2011.0, 9999.0],\n",
      "             dtype='float64')\n",
      "1992.0         1\n",
      "1993.0         1\n",
      "1994.0         1\n",
      "1995.0         1\n",
      "1996.0         1\n",
      "1997.0         2\n",
      "1998.0         2\n",
      "1999.0         1\n",
      "2000.0         1\n",
      "2001.0         1\n",
      "2003.0         3\n",
      "2004.0         1\n",
      "2005.0        13\n",
      "2006.0        29\n",
      "2007.0    441212\n",
      "2008.0      2714\n",
      "2009.0       168\n",
      "2010.0        24\n",
      "2011.0         6\n",
      "9999.0         1\n",
      "Name: IND_ANNO_TERMINO_BACHILLERATO, dtype: int64\n",
      "Elementos null/NaN 38\n",
      "__________________\n",
      "Elementos diferentes de null/NaN: 444183\n",
      "__________________\n",
      "(444183,)\n",
      "None\n"
     ]
    }
   ],
   "source": [
    "c = 'IND_ANNO_TERMINO_BACHILLERATO'\n",
    "print(data_2007_2[c].value_counts().sort_index().index)\n",
    "print(data_2007_2[c].value_counts().sort_index())\n",
    "print(missing_data(data_2007_2[c]))"
   ]
  },
  {
   "cell_type": "code",
   "execution_count": 48,
   "metadata": {
    "collapsed": true
   },
   "outputs": [],
   "source": [
    "for i in data_2007_2[c].value_counts().sort_index().index:\n",
    "    if i < 1930:\n",
    "        data_2007_2[c] = data_2007_2[c].replace(i, np.nan)\n",
    "    elif i > 2010:\n",
    "        data_2007_2[c] = data_2007_2[c].replace(i, np.nan)"
   ]
  },
  {
   "cell_type": "code",
   "execution_count": 49,
   "metadata": {},
   "outputs": [
    {
     "name": "stdout",
     "output_type": "stream",
     "text": [
      "cant null antes: 45\n",
      "cant null despues: 0\n"
     ]
    }
   ],
   "source": [
    "Do_resamples(data_2007_2, c, float)"
   ]
  },
  {
   "cell_type": "code",
   "execution_count": 50,
   "metadata": {},
   "outputs": [
    {
     "name": "stdout",
     "output_type": "stream",
     "text": [
      "Float64Index([0.0, 1.0], dtype='float64')\n",
      "0.0      1\n",
      "1.0    660\n",
      "Name: IND_TERMINO_BACHILLERATO, dtype: int64\n",
      "Elementos null/NaN 443560\n",
      "__________________\n",
      "Elementos diferentes de null/NaN: 661\n",
      "__________________\n",
      "(661,)\n",
      "None\n"
     ]
    }
   ],
   "source": [
    "c = 'IND_TERMINO_BACHILLERATO'\n",
    "print(data_2007_2[c].value_counts().sort_index().index)\n",
    "print(data_2007_2[c].value_counts().sort_index())\n",
    "print(missing_data(data_2007_2[c]))"
   ]
  },
  {
   "cell_type": "code",
   "execution_count": 51,
   "metadata": {
    "collapsed": true
   },
   "outputs": [],
   "source": [
    "data_2007_2 = data_2007_2.drop([c], axis=1)"
   ]
  },
  {
   "cell_type": "code",
   "execution_count": 52,
   "metadata": {
    "scrolled": true
   },
   "outputs": [
    {
     "name": "stdout",
     "output_type": "stream",
     "text": [
      "Float64Index([     2.0,      3.0,     18.0,     59.0,     67.0,     75.0,\n",
      "                  83.0,     91.0,    125.0,    141.0,\n",
      "              ...\n",
      "              172650.0, 172726.0, 173732.0, 173948.0, 174714.0, 175307.0,\n",
      "              175315.0, 175505.0, 176354.0, 999999.0],\n",
      "             dtype='float64', length=8774)\n",
      "2.0            6\n",
      "3.0          367\n",
      "18.0          17\n",
      "59.0        1109\n",
      "67.0           2\n",
      "75.0          72\n",
      "83.0          27\n",
      "91.0          92\n",
      "125.0         69\n",
      "141.0        104\n",
      "174.0        110\n",
      "190.0         71\n",
      "208.0         90\n",
      "216.0         43\n",
      "232.0         49\n",
      "240.0         59\n",
      "257.0         65\n",
      "265.0         10\n",
      "273.0         47\n",
      "281.0         77\n",
      "315.0        163\n",
      "349.0         31\n",
      "356.0         24\n",
      "364.0         62\n",
      "372.0         66\n",
      "380.0        135\n",
      "398.0         37\n",
      "406.0         26\n",
      "422.0         23\n",
      "430.0        105\n",
      "            ... \n",
      "167403.0       1\n",
      "167650.0       1\n",
      "167882.0       1\n",
      "168344.0       3\n",
      "168690.0       1\n",
      "168963.0       1\n",
      "168971.0       1\n",
      "169102.0       1\n",
      "169276.0       1\n",
      "169607.0       1\n",
      "169698.0       1\n",
      "169748.0       1\n",
      "169904.0       1\n",
      "170050.0       1\n",
      "170365.0       2\n",
      "170472.0       1\n",
      "170480.0       2\n",
      "170779.0       1\n",
      "171918.0       1\n",
      "172064.0       1\n",
      "172650.0       1\n",
      "172726.0       1\n",
      "173732.0       1\n",
      "173948.0       1\n",
      "174714.0       2\n",
      "175307.0       1\n",
      "175315.0       1\n",
      "175505.0       1\n",
      "176354.0       1\n",
      "999999.0     692\n",
      "Name: IND_COD_ICFES_TERMINO, Length: 8774, dtype: int64\n",
      "Elementos null/NaN 867\n",
      "__________________\n",
      "Elementos diferentes de null/NaN: 443354\n",
      "__________________\n",
      "(443354,)\n",
      "None\n"
     ]
    }
   ],
   "source": [
    "c = 'IND_COD_ICFES_TERMINO'\n",
    "print(data_2007_2[c].value_counts().sort_index().index)\n",
    "print(data_2007_2[c].value_counts().sort_index())\n",
    "print(missing_data(data_2007_2[c]))"
   ]
  },
  {
   "cell_type": "code",
   "execution_count": 53,
   "metadata": {},
   "outputs": [
    {
     "name": "stdout",
     "output_type": "stream",
     "text": [
      "cant null antes: 867\n",
      "cant null despues: 791\n",
      "cant null antes: 791\n",
      "cant null despues: 715\n",
      "cant null antes: 715\n",
      "cant null despues: 639\n",
      "cant null antes: 639\n",
      "cant null despues: 563\n",
      "cant null antes: 563\n",
      "cant null despues: 487\n",
      "cant null antes: 487\n",
      "cant null despues: 411\n",
      "cant null antes: 411\n",
      "cant null despues: 335\n",
      "cant null antes: 335\n",
      "cant null despues: 259\n",
      "cant null antes: 259\n",
      "cant null despues: 183\n",
      "cant null antes: 183\n",
      "cant null despues: 107\n",
      "cant null antes: 107\n",
      "cant null despues: 31\n",
      "cant null antes: 31\n",
      "cant null despues: 0\n"
     ]
    }
   ],
   "source": [
    "Do_resamples(data_2007_2, c, float)"
   ]
  },
  {
   "cell_type": "code",
   "execution_count": 54,
   "metadata": {
    "scrolled": true
   },
   "outputs": [
    {
     "name": "stdout",
     "output_type": "stream",
     "text": [
      "Int64Index([    18,     59,     75,     83,     91,    125,    141,    174,\n",
      "               190,    208,\n",
      "            ...\n",
      "            135525, 135533, 135541, 135566, 135574, 135590, 135616, 135640,\n",
      "            135673, 135707],\n",
      "           dtype='int64', length=8357)\n",
      "18          17\n",
      "59        1115\n",
      "75          72\n",
      "83          27\n",
      "91          92\n",
      "125         69\n",
      "141        104\n",
      "174        109\n",
      "190         72\n",
      "208         91\n",
      "216         43\n",
      "232         50\n",
      "240         61\n",
      "257         66\n",
      "265         11\n",
      "273         47\n",
      "281         78\n",
      "315        163\n",
      "349         31\n",
      "356         24\n",
      "364         62\n",
      "372         67\n",
      "380        135\n",
      "398         37\n",
      "406         26\n",
      "422         23\n",
      "430        105\n",
      "448         27\n",
      "455        101\n",
      "463        157\n",
      "          ... \n",
      "135269      11\n",
      "135277      18\n",
      "135293      12\n",
      "135301      18\n",
      "135319      31\n",
      "135327      26\n",
      "135335       8\n",
      "135350       8\n",
      "135376      20\n",
      "135418      22\n",
      "135426      14\n",
      "135434      43\n",
      "135442       8\n",
      "135459      53\n",
      "135467      15\n",
      "135475      17\n",
      "135483      14\n",
      "135491      31\n",
      "135509      12\n",
      "135517      13\n",
      "135525      29\n",
      "135533      10\n",
      "135541       5\n",
      "135566       7\n",
      "135574       4\n",
      "135590      10\n",
      "135616      31\n",
      "135640      14\n",
      "135673       9\n",
      "135707       3\n",
      "Name: COLE_COD_ICFES, Length: 8357, dtype: int64\n",
      "Elementos null/NaN 0\n",
      "__________________\n",
      "Elementos diferentes de null/NaN: 444221\n",
      "__________________\n",
      "(444221,)\n",
      "None\n"
     ]
    }
   ],
   "source": [
    "c = 'COLE_COD_ICFES'\n",
    "print(data_2007_2[c].value_counts().sort_index().index)\n",
    "print(data_2007_2[c].value_counts().sort_index())\n",
    "print(missing_data(data_2007_2[c]))"
   ]
  },
  {
   "cell_type": "code",
   "execution_count": 55,
   "metadata": {
    "collapsed": true
   },
   "outputs": [],
   "source": [
    "for i in data_2007_2[c].value_counts().sort_index().index:\n",
    "    if len(str(i)) < 4:\n",
    "        data_2007_2[c] = data_2007_2[c].replace(i, np.nan)"
   ]
  },
  {
   "cell_type": "code",
   "execution_count": 56,
   "metadata": {
    "collapsed": true
   },
   "outputs": [],
   "source": [
    "idx = data_2007_2[data_2007_2[c].isnull()].index\n",
    "data_2007_2 = data_2007_2.drop(idx)"
   ]
  },
  {
   "cell_type": "code",
   "execution_count": 57,
   "metadata": {
    "scrolled": true
   },
   "outputs": [
    {
     "name": "stdout",
     "output_type": "stream",
     "text": [
      "Index(['            ', '111001024732', '111001019411', '168001003591',\n",
      "       '111001010839', '113001003274', '111279000362', '108758000031',\n",
      "       '173001001053', '168001000444',\n",
      "       ...\n",
      "       '205893000306', '108001002657',   205690000319, '519137000004',\n",
      "       '125438000213',   105615000236, '205631000020',   115299000038,\n",
      "         305001025592, '305088001848'],\n",
      "      dtype='object', length=7555)\n",
      "                2287\n",
      "111001024732    1037\n",
      "111001019411     891\n",
      "168001003591     677\n",
      "111001010839     632\n",
      "113001003274     603\n",
      "111279000362     598\n",
      "108758000031     591\n",
      "173001001053     563\n",
      "168001000444     561\n",
      "111001011690     550\n",
      "113001000852     538\n",
      "313001006701     533\n",
      "105154000301     532\n",
      "305001004293     525\n",
      "173001000308     515\n",
      "166001002339     507\n",
      "111001083011     494\n",
      "111001011819     493\n",
      "311001004820     490\n",
      "111001011070     483\n",
      "111001010910     482\n",
      "111001006122     478\n",
      "111848003031     474\n",
      "111102000753     473\n",
      "125754003267     471\n",
      "105001024073     470\n",
      "154001000079     470\n",
      "111001009652     469\n",
      "111001010928     461\n",
      "                ... \n",
      "108549000075       1\n",
      "205034000299       1\n",
      "117653000124       1\n",
      "425377076754       1\n",
      "217541000851       1\n",
      "347001051954       1\n",
      "441799000543       1\n",
      "105306000175       1\n",
      "311001042934       1\n",
      "285001001773       1\n",
      "217486000791       1\n",
      "105308000253       1\n",
      "111001001538       1\n",
      "305021000359       1\n",
      "117001006163       1\n",
      "308433000654       1\n",
      "115183000022       1\n",
      "308758076517       1\n",
      "205615000508       1\n",
      "373001008286       1\n",
      "205893000306       1\n",
      "108001002657       1\n",
      "205690000319       1\n",
      "519137000004       1\n",
      "125438000213       1\n",
      "105615000236       1\n",
      "205631000020       1\n",
      "115299000038       1\n",
      "305001025592       1\n",
      "305088001848       1\n",
      "Name: COLE_COD_DANE_INSTITUCION, Length: 7555, dtype: int64\n",
      "Elementos null/NaN 0\n",
      "__________________\n",
      "Elementos diferentes de null/NaN: 437486\n",
      "__________________\n",
      "(437486,)\n",
      "None\n"
     ]
    }
   ],
   "source": [
    "c = 'COLE_COD_DANE_INSTITUCION'\n",
    "print(data_2007_2[c].value_counts().index)\n",
    "print(data_2007_2[c].value_counts())\n",
    "print(missing_data(data_2007_2[c]))"
   ]
  },
  {
   "cell_type": "code",
   "execution_count": 58,
   "metadata": {
    "collapsed": true
   },
   "outputs": [],
   "source": [
    "data_2007_2[c] = data_2007_2[c].replace('            ', np.nan)\n",
    "for i in data_2007_2[c].value_counts().index:\n",
    "    if type(i) == str:\n",
    "        data_2007_2[c] = data_2007_2[c].replace(i, float(i))"
   ]
  },
  {
   "cell_type": "code",
   "execution_count": 59,
   "metadata": {},
   "outputs": [
    {
     "name": "stdout",
     "output_type": "stream",
     "text": [
      "cant null antes: 2287\n",
      "cant null despues: 825\n",
      "cant null antes: 825\n",
      "cant null despues: 0\n"
     ]
    }
   ],
   "source": [
    "Do_resamples(data_2007_2, c, float)"
   ]
  },
  {
   "cell_type": "code",
   "execution_count": 60,
   "metadata": {},
   "outputs": [
    {
     "name": "stdout",
     "output_type": "stream",
     "text": [
      "Index(['A', 'B', 'F'], dtype='object')\n",
      "A    385858\n",
      "B       396\n",
      "F     51232\n",
      "Name: COLE_CALENDARIO, dtype: int64\n",
      "Elementos null/NaN 0\n",
      "__________________\n",
      "Elementos diferentes de null/NaN: 437486\n",
      "__________________\n",
      "(437486,)\n",
      "None\n"
     ]
    }
   ],
   "source": [
    "c = 'COLE_CALENDARIO'\n",
    "print(data_2007_2[c].value_counts().sort_index().index)\n",
    "print(data_2007_2[c].value_counts().sort_index())\n",
    "print(missing_data(data_2007_2[c]))"
   ]
  },
  {
   "cell_type": "code",
   "execution_count": 61,
   "metadata": {},
   "outputs": [
    {
     "name": "stdout",
     "output_type": "stream",
     "text": [
      "Index(['F', 'M', 'X'], dtype='object')\n",
      "F     23631\n",
      "M      6285\n",
      "X    407570\n",
      "Name: COLE_GENERO, dtype: int64\n",
      "Elementos null/NaN 0\n",
      "__________________\n",
      "Elementos diferentes de null/NaN: 437486\n",
      "__________________\n",
      "(437486,)\n",
      "None\n"
     ]
    }
   ],
   "source": [
    "c = 'COLE_GENERO'\n",
    "print(data_2007_2[c].value_counts().sort_index().index)\n",
    "print(data_2007_2[c].value_counts().sort_index())\n",
    "print(missing_data(data_2007_2[c]))"
   ]
  },
  {
   "cell_type": "code",
   "execution_count": 62,
   "metadata": {},
   "outputs": [
    {
     "name": "stdout",
     "output_type": "stream",
     "text": [
      "Index(['N', 'O'], dtype='object')\n",
      "N    111908\n",
      "O    325578\n",
      "Name: COLE_NATURALEZA, dtype: int64\n",
      "Elementos null/NaN 0\n",
      "__________________\n",
      "Elementos diferentes de null/NaN: 437486\n",
      "__________________\n",
      "(437486,)\n",
      "None\n"
     ]
    }
   ],
   "source": [
    "c = 'COLE_NATURALEZA'\n",
    "print(data_2007_2[c].value_counts().sort_index().index)\n",
    "print(data_2007_2[c].value_counts().sort_index())\n",
    "print(missing_data(data_2007_2[c]))"
   ]
  },
  {
   "cell_type": "code",
   "execution_count": 63,
   "metadata": {},
   "outputs": [
    {
     "name": "stdout",
     "output_type": "stream",
     "text": [
      "Float64Index([0.0, 1.0], dtype='float64')\n",
      "0.0    405660\n",
      "1.0      3131\n",
      "Name: COLE_BILINGUE, dtype: int64\n",
      "Elementos null/NaN 28695\n",
      "__________________\n",
      "Elementos diferentes de null/NaN: 408791\n",
      "__________________\n",
      "(408791,)\n",
      "None\n"
     ]
    }
   ],
   "source": [
    "c = 'COLE_BILINGUE'\n",
    "print(data_2007_2[c].value_counts().sort_index().index)\n",
    "print(data_2007_2[c].value_counts().sort_index())\n",
    "print(missing_data(data_2007_2[c]))"
   ]
  },
  {
   "cell_type": "code",
   "execution_count": 64,
   "metadata": {},
   "outputs": [
    {
     "name": "stdout",
     "output_type": "stream",
     "text": [
      "cant null antes: 28695\n",
      "cant null despues: 0\n"
     ]
    }
   ],
   "source": [
    "Do_resamples(data_2007_2, c, float)"
   ]
  },
  {
   "cell_type": "code",
   "execution_count": 65,
   "metadata": {},
   "outputs": [
    {
     "name": "stdout",
     "output_type": "stream",
     "text": [
      "Index(['COMPLETA U ORDINARIA', 'MAÑANA', 'NOCHE', 'SABATINA - DOMINICAL',\n",
      "       'TARDE'],\n",
      "      dtype='object')\n",
      "COMPLETA U ORDINARIA     88938\n",
      "MAÑANA                  219145\n",
      "NOCHE                    30267\n",
      "SABATINA - DOMINICAL     12131\n",
      "TARDE                    87005\n",
      "Name: COLE_JORNADA, dtype: int64\n",
      "Elementos null/NaN 0\n",
      "__________________\n",
      "Elementos diferentes de null/NaN: 437486\n",
      "__________________\n",
      "(437486,)\n",
      "None\n"
     ]
    }
   ],
   "source": [
    "c = 'COLE_JORNADA'\n",
    "print(data_2007_2[c].value_counts().sort_index().index)\n",
    "print(data_2007_2[c].value_counts().sort_index())\n",
    "print(missing_data(data_2007_2[c]))"
   ]
  },
  {
   "cell_type": "code",
   "execution_count": 66,
   "metadata": {},
   "outputs": [
    {
     "name": "stdout",
     "output_type": "stream",
     "text": [
      "Index(['ACADEMICO', 'ACADEMICO Y TECNICO', 'DESCONOCIDO', 'NORMALISTA',\n",
      "       'TECNICO'],\n",
      "      dtype='object')\n",
      "ACADEMICO              263471\n",
      "ACADEMICO Y TECNICO     85908\n",
      "DESCONOCIDO               186\n",
      "NORMALISTA              10837\n",
      "TECNICO                 77084\n",
      "Name: COLE_CARACTER, dtype: int64\n",
      "Elementos null/NaN 0\n",
      "__________________\n",
      "Elementos diferentes de null/NaN: 437486\n",
      "__________________\n",
      "(437486,)\n",
      "None\n"
     ]
    }
   ],
   "source": [
    "c = 'COLE_CARACTER'\n",
    "print(data_2007_2[c].value_counts().sort_index().index)\n",
    "print(data_2007_2[c].value_counts().sort_index())\n",
    "print(missing_data(data_2007_2[c]))"
   ]
  },
  {
   "cell_type": "code",
   "execution_count": 67,
   "metadata": {
    "scrolled": true
   },
   "outputs": [
    {
     "name": "stdout",
     "output_type": "stream",
     "text": [
      "Float64Index([ 1.0,  2.0,  3.0,  4.0,  5.0,  6.0,  7.0,  8.0,  9.0, 10.0, 11.0,\n",
      "              12.0, 13.0, 14.0, 15.0, 16.0, 17.0, 99.0],\n",
      "             dtype='float64')\n",
      "1.0      8418\n",
      "2.0       674\n",
      "3.0       852\n",
      "4.0       191\n",
      "5.0        84\n",
      "6.0       303\n",
      "7.0       142\n",
      "8.0       443\n",
      "9.0       732\n",
      "10.0     1394\n",
      "11.0       67\n",
      "12.0      162\n",
      "13.0      101\n",
      "14.0       46\n",
      "15.0       93\n",
      "16.0       73\n",
      "17.0        1\n",
      "99.0    15813\n",
      "Name: ESTU_ETNIA, dtype: int64\n",
      "Elementos null/NaN 407897\n",
      "__________________\n",
      "Elementos diferentes de null/NaN: 29589\n",
      "__________________\n",
      "(29589,)\n",
      "None\n"
     ]
    }
   ],
   "source": [
    "c = 'ESTU_ETNIA'\n",
    "print(data_2007_2[c].value_counts().sort_index().index)\n",
    "print(data_2007_2[c].value_counts().sort_index())\n",
    "print(missing_data(data_2007_2[c]))"
   ]
  },
  {
   "cell_type": "code",
   "execution_count": 68,
   "metadata": {
    "collapsed": true
   },
   "outputs": [],
   "source": [
    "data_2007_2[c].fillna(99, inplace=True)"
   ]
  },
  {
   "cell_type": "code",
   "execution_count": 69,
   "metadata": {},
   "outputs": [
    {
     "name": "stdout",
     "output_type": "stream",
     "text": [
      "Float64Index([0.0, 1.0], dtype='float64')\n",
      "0.0     134\n",
      "1.0    6547\n",
      "Name: FAMI_LEE_ESCRIBE_PADRE, dtype: int64\n",
      "Elementos null/NaN 430805\n",
      "__________________\n",
      "Elementos diferentes de null/NaN: 6681\n",
      "__________________\n",
      "(6681,)\n",
      "None\n"
     ]
    }
   ],
   "source": [
    "c = 'FAMI_LEE_ESCRIBE_PADRE'\n",
    "print(data_2007_2[c].value_counts().sort_index().index)\n",
    "print(data_2007_2[c].value_counts().sort_index())\n",
    "print(missing_data(data_2007_2[c]))"
   ]
  },
  {
   "cell_type": "code",
   "execution_count": 70,
   "metadata": {},
   "outputs": [
    {
     "name": "stdout",
     "output_type": "stream",
     "text": [
      "cant null antes: 430805\n",
      "cant null despues: 0\n"
     ]
    }
   ],
   "source": [
    "Do_resamples(data_2007_2, c, float)"
   ]
  },
  {
   "cell_type": "code",
   "execution_count": 71,
   "metadata": {},
   "outputs": [
    {
     "name": "stdout",
     "output_type": "stream",
     "text": [
      "Float64Index([0.0, 1.0], dtype='float64')\n",
      "0.0      93\n",
      "1.0    6588\n",
      "Name: FAMI_LEE_ESCRIBE_MADRE, dtype: int64\n",
      "Elementos null/NaN 430805\n",
      "__________________\n",
      "Elementos diferentes de null/NaN: 6681\n",
      "__________________\n",
      "(6681,)\n",
      "None\n"
     ]
    }
   ],
   "source": [
    "c = 'FAMI_LEE_ESCRIBE_MADRE'\n",
    "print(data_2007_2[c].value_counts().sort_index().index)\n",
    "print(data_2007_2[c].value_counts().sort_index())\n",
    "print(missing_data(data_2007_2[c]))"
   ]
  },
  {
   "cell_type": "code",
   "execution_count": 72,
   "metadata": {},
   "outputs": [
    {
     "name": "stdout",
     "output_type": "stream",
     "text": [
      "cant null antes: 430805\n",
      "cant null despues: 0\n"
     ]
    }
   ],
   "source": [
    "Do_resamples(data_2007_2, c, float)"
   ]
  },
  {
   "cell_type": "code",
   "execution_count": 73,
   "metadata": {
    "scrolled": true
   },
   "outputs": [
    {
     "name": "stdout",
     "output_type": "stream",
     "text": [
      "Float64Index([ 0.0,  1.0,  2.0,  3.0,  4.0,  5.0,  6.0,  7.0,  8.0,  9.0, 10.0,\n",
      "              11.0, 12.0, 13.0, 14.0, 15.0, 16.0, 17.0, 99.0],\n",
      "             dtype='float64')\n",
      "0.0      768\n",
      "1.0       11\n",
      "2.0       33\n",
      "3.0       16\n",
      "4.0       13\n",
      "5.0       14\n",
      "6.0        5\n",
      "7.0        4\n",
      "8.0        2\n",
      "9.0     3235\n",
      "10.0    2917\n",
      "11.0    2513\n",
      "12.0    3753\n",
      "13.0     340\n",
      "14.0     919\n",
      "15.0     416\n",
      "16.0    1836\n",
      "17.0     678\n",
      "99.0     372\n",
      "Name: FAMI_EDUCA_PADRE, dtype: int64\n",
      "Elementos null/NaN 419641\n",
      "__________________\n",
      "Elementos diferentes de null/NaN: 17845\n",
      "__________________\n",
      "(17845,)\n",
      "None\n"
     ]
    }
   ],
   "source": [
    "c = 'FAMI_EDUCA_PADRE'\n",
    "print(data_2007_2[c].value_counts().sort_index().index)\n",
    "print(data_2007_2[c].value_counts().sort_index())\n",
    "print(missing_data(data_2007_2[c]))"
   ]
  },
  {
   "cell_type": "code",
   "execution_count": 74,
   "metadata": {},
   "outputs": [
    {
     "name": "stdout",
     "output_type": "stream",
     "text": [
      "cant null antes: 419641\n",
      "cant null despues: 0\n"
     ]
    }
   ],
   "source": [
    "Do_resamples(data_2007_2, c, float)"
   ]
  },
  {
   "cell_type": "code",
   "execution_count": 75,
   "metadata": {
    "scrolled": true
   },
   "outputs": [
    {
     "name": "stdout",
     "output_type": "stream",
     "text": [
      "Float64Index([ 0.0,  1.0,  2.0,  3.0,  4.0,  5.0,  6.0,  7.0,  8.0,  9.0, 10.0,\n",
      "              11.0, 12.0, 13.0, 14.0, 15.0, 16.0, 17.0, 99.0],\n",
      "             dtype='float64')\n",
      "0.0      395\n",
      "1.0        4\n",
      "2.0       29\n",
      "3.0       18\n",
      "4.0       18\n",
      "5.0       18\n",
      "6.0        1\n",
      "7.0        8\n",
      "8.0        1\n",
      "9.0     2751\n",
      "10.0    2811\n",
      "11.0    2981\n",
      "12.0    4230\n",
      "13.0     421\n",
      "14.0    1184\n",
      "15.0     447\n",
      "16.0    1668\n",
      "17.0     611\n",
      "99.0     250\n",
      "Name: FAMI_EDUCA_MADRE, dtype: int64\n",
      "Elementos null/NaN 419640\n",
      "__________________\n",
      "Elementos diferentes de null/NaN: 17846\n",
      "__________________\n",
      "(17846,)\n",
      "None\n"
     ]
    }
   ],
   "source": [
    "c = 'FAMI_EDUCA_MADRE'\n",
    "print(data_2007_2[c].value_counts().sort_index().index)\n",
    "print(data_2007_2[c].value_counts().sort_index())\n",
    "print(missing_data(data_2007_2[c]))"
   ]
  },
  {
   "cell_type": "code",
   "execution_count": 76,
   "metadata": {},
   "outputs": [
    {
     "name": "stdout",
     "output_type": "stream",
     "text": [
      "cant null antes: 419640\n",
      "cant null despues: 1\n",
      "cant null antes: 1\n",
      "cant null despues: 0\n"
     ]
    }
   ],
   "source": [
    "Do_resamples(data_2007_2, c, float)"
   ]
  },
  {
   "cell_type": "code",
   "execution_count": 77,
   "metadata": {
    "scrolled": true
   },
   "outputs": [
    {
     "name": "stdout",
     "output_type": "stream",
     "text": [
      "Float64Index([ 1.0,  2.0,  4.0,  5.0,  6.0,  7.0,  8.0,  9.0, 10.0, 11.0, 12.0,\n",
      "              13.0, 14.0, 15.0, 16.0, 17.0, 18.0, 19.0, 20.0, 21.0, 22.0, 23.0,\n",
      "              24.0, 25.0, 26.0, 99.0],\n",
      "             dtype='float64')\n",
      "1.0        2\n",
      "2.0        4\n",
      "4.0        1\n",
      "5.0        8\n",
      "6.0        3\n",
      "7.0       19\n",
      "8.0        3\n",
      "9.0       36\n",
      "10.0       3\n",
      "11.0       6\n",
      "12.0      20\n",
      "13.0     511\n",
      "14.0    1715\n",
      "15.0     435\n",
      "16.0     599\n",
      "17.0    1074\n",
      "18.0     734\n",
      "19.0    2402\n",
      "20.0    1093\n",
      "21.0    5061\n",
      "22.0     319\n",
      "23.0    1006\n",
      "24.0      15\n",
      "25.0      10\n",
      "26.0    2254\n",
      "99.0     514\n",
      "Name: FAMI_OCUPA_PADRE, dtype: int64\n",
      "Elementos null/NaN 419639\n",
      "__________________\n",
      "Elementos diferentes de null/NaN: 17847\n",
      "__________________\n",
      "(17847,)\n",
      "None\n"
     ]
    }
   ],
   "source": [
    "c = 'FAMI_OCUPA_PADRE'\n",
    "print(data_2007_2[c].value_counts().sort_index().index)\n",
    "print(data_2007_2[c].value_counts().sort_index())\n",
    "print(missing_data(data_2007_2[c]))"
   ]
  },
  {
   "cell_type": "code",
   "execution_count": 78,
   "metadata": {},
   "outputs": [
    {
     "name": "stdout",
     "output_type": "stream",
     "text": [
      "cant null antes: 419639\n",
      "cant null despues: 0\n"
     ]
    }
   ],
   "source": [
    "Do_resamples(data_2007_2, c, float)"
   ]
  },
  {
   "cell_type": "code",
   "execution_count": 79,
   "metadata": {
    "scrolled": true
   },
   "outputs": [
    {
     "name": "stdout",
     "output_type": "stream",
     "text": [
      "Float64Index([ 1.0,  2.0,  3.0,  4.0,  5.0,  6.0,  7.0,  8.0,  9.0, 10.0, 12.0,\n",
      "              13.0, 14.0, 15.0, 16.0, 17.0, 18.0, 19.0, 20.0, 21.0, 22.0, 23.0,\n",
      "              24.0, 25.0, 26.0, 99.0],\n",
      "             dtype='float64')\n",
      "1.0        1\n",
      "2.0        4\n",
      "3.0        2\n",
      "4.0        3\n",
      "5.0        2\n",
      "6.0        8\n",
      "7.0        3\n",
      "8.0        1\n",
      "9.0       18\n",
      "10.0      54\n",
      "12.0      10\n",
      "13.0     258\n",
      "14.0     873\n",
      "15.0     239\n",
      "16.0     567\n",
      "17.0     898\n",
      "18.0     799\n",
      "19.0    1128\n",
      "20.0     532\n",
      "21.0    2048\n",
      "22.0    8388\n",
      "23.0     487\n",
      "24.0      17\n",
      "25.0      27\n",
      "26.0    1325\n",
      "99.0     156\n",
      "Name: FAMI_OCUPA_MADRE, dtype: int64\n",
      "Elementos null/NaN 419638\n",
      "__________________\n",
      "Elementos diferentes de null/NaN: 17848\n",
      "__________________\n",
      "(17848,)\n",
      "None\n"
     ]
    }
   ],
   "source": [
    "c = 'FAMI_OCUPA_MADRE'\n",
    "print(data_2007_2[c].value_counts().sort_index().index)\n",
    "print(data_2007_2[c].value_counts().sort_index())\n",
    "print(missing_data(data_2007_2[c]))"
   ]
  },
  {
   "cell_type": "code",
   "execution_count": 80,
   "metadata": {},
   "outputs": [
    {
     "name": "stdout",
     "output_type": "stream",
     "text": [
      "cant null antes: 419638\n",
      "cant null despues: 0\n"
     ]
    }
   ],
   "source": [
    "Do_resamples(data_2007_2, c, float)"
   ]
  },
  {
   "cell_type": "code",
   "execution_count": 81,
   "metadata": {
    "scrolled": true
   },
   "outputs": [
    {
     "name": "stdout",
     "output_type": "stream",
     "text": [
      "Float64Index([0.0, 1.0, 2.0, 3.0, 4.0, 5.0, 6.0, 7.0, 8.0, 9.0, 10.0], dtype='float64')\n",
      "0.0      717\n",
      "1.0     1899\n",
      "2.0     2060\n",
      "3.0     1095\n",
      "4.0      511\n",
      "5.0      250\n",
      "6.0      108\n",
      "7.0       60\n",
      "8.0       45\n",
      "9.0       20\n",
      "10.0      30\n",
      "Name: FAMI_NUM_HERMANOS, dtype: int64\n",
      "Elementos null/NaN 430691\n",
      "__________________\n",
      "Elementos diferentes de null/NaN: 6795\n",
      "__________________\n",
      "(6795,)\n",
      "None\n"
     ]
    }
   ],
   "source": [
    "c = 'FAMI_NUM_HERMANOS'\n",
    "print(data_2007_2[c].value_counts().sort_index().index)\n",
    "print(data_2007_2[c].value_counts().sort_index())\n",
    "print(missing_data(data_2007_2[c]))"
   ]
  },
  {
   "cell_type": "code",
   "execution_count": 82,
   "metadata": {},
   "outputs": [
    {
     "name": "stdout",
     "output_type": "stream",
     "text": [
      "cant null antes: 430691\n",
      "cant null despues: 0\n"
     ]
    }
   ],
   "source": [
    "Do_resamples(data_2007_2, c, float)"
   ]
  },
  {
   "cell_type": "code",
   "execution_count": 83,
   "metadata": {},
   "outputs": [
    {
     "name": "stdout",
     "output_type": "stream",
     "text": [
      "Float64Index([1.0, 2.0, 3.0, 4.0, 5.0, 6.0, 7.0, 8.0, 9.0, 88.0, 99.0], dtype='float64')\n",
      "1.0      182\n",
      "2.0      285\n",
      "3.0      800\n",
      "4.0     1800\n",
      "5.0      242\n",
      "6.0      551\n",
      "7.0      730\n",
      "8.0      989\n",
      "9.0      136\n",
      "88.0    2214\n",
      "99.0     137\n",
      "Name: FAMI_EDUCA_HERMANO, dtype: int64\n",
      "Elementos null/NaN 429420\n",
      "__________________\n",
      "Elementos diferentes de null/NaN: 8066\n",
      "__________________\n",
      "(8066,)\n",
      "None\n"
     ]
    }
   ],
   "source": [
    "c = 'FAMI_EDUCA_HERMANO'\n",
    "print(data_2007_2[c].value_counts().sort_index().index)\n",
    "print(data_2007_2[c].value_counts().sort_index())\n",
    "print(missing_data(data_2007_2[c]))"
   ]
  },
  {
   "cell_type": "code",
   "execution_count": 84,
   "metadata": {},
   "outputs": [
    {
     "name": "stdout",
     "output_type": "stream",
     "text": [
      "cant null antes: 429420\n",
      "cant null despues: 0\n"
     ]
    }
   ],
   "source": [
    "Do_resamples(data_2007_2, c, float)"
   ]
  },
  {
   "cell_type": "code",
   "execution_count": 85,
   "metadata": {},
   "outputs": [
    {
     "name": "stdout",
     "output_type": "stream",
     "text": [
      "Float64Index([1.0, 2.0, 88.0], dtype='float64')\n",
      "1.0     3515\n",
      "2.0      315\n",
      "88.0    2249\n",
      "Name: FAMI_HERMANOS_ESTUDIAN, dtype: int64\n",
      "Elementos null/NaN 431407\n",
      "__________________\n",
      "Elementos diferentes de null/NaN: 6079\n",
      "__________________\n",
      "(6079,)\n",
      "None\n"
     ]
    }
   ],
   "source": [
    "c = 'FAMI_HERMANOS_ESTUDIAN'\n",
    "print(data_2007_2[c].value_counts().sort_index().index)\n",
    "print(data_2007_2[c].value_counts().sort_index())\n",
    "print(missing_data(data_2007_2[c]))"
   ]
  },
  {
   "cell_type": "code",
   "execution_count": 86,
   "metadata": {},
   "outputs": [
    {
     "name": "stdout",
     "output_type": "stream",
     "text": [
      "cant null antes: 431407\n",
      "cant null despues: 0\n"
     ]
    }
   ],
   "source": [
    "Do_resamples(data_2007_2, c, float)"
   ]
  },
  {
   "cell_type": "code",
   "execution_count": 87,
   "metadata": {},
   "outputs": [
    {
     "name": "stdout",
     "output_type": "stream",
     "text": [
      "Float64Index([1.0, 2.0, 3.0, 4.0, 5.0, 6.0, 8.0], dtype='float64')\n",
      "1.0    4172\n",
      "2.0    7320\n",
      "3.0    4591\n",
      "4.0    1150\n",
      "5.0     387\n",
      "6.0     198\n",
      "8.0      54\n",
      "Name: FAMI_ESTRATO_VIVIENDA, dtype: int64\n",
      "Elementos null/NaN 419614\n",
      "__________________\n",
      "Elementos diferentes de null/NaN: 17872\n",
      "__________________\n",
      "(17872,)\n",
      "None\n"
     ]
    }
   ],
   "source": [
    "c = 'FAMI_ESTRATO_VIVIENDA'\n",
    "print(data_2007_2[c].value_counts().sort_index().index)\n",
    "print(data_2007_2[c].value_counts().sort_index())\n",
    "print(missing_data(data_2007_2[c]))"
   ]
  },
  {
   "cell_type": "code",
   "execution_count": 88,
   "metadata": {
    "collapsed": true
   },
   "outputs": [],
   "source": [
    "data_2007_2[c] = data_2007_2[c].replace(8.0, np.nan)"
   ]
  },
  {
   "cell_type": "code",
   "execution_count": 89,
   "metadata": {},
   "outputs": [
    {
     "name": "stdout",
     "output_type": "stream",
     "text": [
      "cant null antes: 419668\n",
      "cant null despues: 0\n"
     ]
    }
   ],
   "source": [
    "Do_resamples(data_2007_2, c, float)"
   ]
  },
  {
   "cell_type": "code",
   "execution_count": 90,
   "metadata": {},
   "outputs": [
    {
     "name": "stdout",
     "output_type": "stream",
     "text": [
      "Float64Index([1.0, 2.0, 3.0, 4.0, 5.0], dtype='float64')\n",
      "1.0    5285\n",
      "2.0    4813\n",
      "3.0    1063\n",
      "4.0     255\n",
      "5.0    6420\n",
      "Name: FAMI_NIVEL_SISBEN, dtype: int64\n",
      "Elementos null/NaN 419650\n",
      "__________________\n",
      "Elementos diferentes de null/NaN: 17836\n",
      "__________________\n",
      "(17836,)\n",
      "None\n"
     ]
    }
   ],
   "source": [
    "c = 'FAMI_NIVEL_SISBEN'\n",
    "print(data_2007_2[c].value_counts().sort_index().index)\n",
    "print(data_2007_2[c].value_counts().sort_index())\n",
    "print(missing_data(data_2007_2[c]))"
   ]
  },
  {
   "cell_type": "code",
   "execution_count": 91,
   "metadata": {},
   "outputs": [
    {
     "name": "stdout",
     "output_type": "stream",
     "text": [
      "cant null antes: 419650\n",
      "cant null despues: 0\n"
     ]
    }
   ],
   "source": [
    "Do_resamples(data_2007_2, c, float)"
   ]
  },
  {
   "cell_type": "code",
   "execution_count": 92,
   "metadata": {},
   "outputs": [
    {
     "name": "stdout",
     "output_type": "stream",
     "text": [
      "Float64Index([1.0, 2.0, 3.0, 4.0, 5.0, 6.0, 7.0, 8.0, 9.0, 10.0, 11.0, 12.0], dtype='float64')\n",
      "1.0      295\n",
      "2.0     1253\n",
      "3.0     3306\n",
      "4.0     4886\n",
      "5.0     4073\n",
      "6.0     2017\n",
      "7.0      947\n",
      "8.0      477\n",
      "9.0      212\n",
      "10.0     139\n",
      "11.0      67\n",
      "12.0     164\n",
      "Name: FAMI_PERSONAS_HOGAR, dtype: int64\n",
      "Elementos null/NaN 419650\n",
      "__________________\n",
      "Elementos diferentes de null/NaN: 17836\n",
      "__________________\n",
      "(17836,)\n",
      "None\n"
     ]
    }
   ],
   "source": [
    "c = 'FAMI_PERSONAS_HOGAR'\n",
    "print(data_2007_2[c].value_counts().sort_index().index)\n",
    "print(data_2007_2[c].value_counts().sort_index())\n",
    "print(missing_data(data_2007_2[c]))"
   ]
  },
  {
   "cell_type": "code",
   "execution_count": 94,
   "metadata": {},
   "outputs": [
    {
     "name": "stdout",
     "output_type": "stream",
     "text": [
      "cant null antes: 111330\n",
      "cant null despues: 1\n",
      "cant null antes: 1\n",
      "cant null despues: 0\n"
     ]
    }
   ],
   "source": [
    "Do_resamples(data_2007_2, c, float)"
   ]
  },
  {
   "cell_type": "code",
   "execution_count": 95,
   "metadata": {},
   "outputs": [
    {
     "name": "stdout",
     "output_type": "stream",
     "text": [
      "Float64Index([1.0, 2.0, 3.0, 4.0, 5.0], dtype='float64')\n",
      "1.0     541\n",
      "2.0    6320\n",
      "3.0    1119\n",
      "4.0    9109\n",
      "5.0     747\n",
      "Name: FAMI_PISOSHOGAR, dtype: int64\n",
      "Elementos null/NaN 419650\n",
      "__________________\n",
      "Elementos diferentes de null/NaN: 17836\n",
      "__________________\n",
      "(17836,)\n",
      "None\n"
     ]
    }
   ],
   "source": [
    "c = 'FAMI_PISOSHOGAR'\n",
    "print(data_2007_2[c].value_counts().sort_index().index)\n",
    "print(data_2007_2[c].value_counts().sort_index())\n",
    "print(missing_data(data_2007_2[c]))"
   ]
  },
  {
   "cell_type": "code",
   "execution_count": 96,
   "metadata": {},
   "outputs": [
    {
     "name": "stdout",
     "output_type": "stream",
     "text": [
      "cant null antes: 419650\n",
      "cant null despues: 0\n"
     ]
    }
   ],
   "source": [
    "Do_resamples(data_2007_2, c, float)"
   ]
  },
  {
   "cell_type": "code",
   "execution_count": 97,
   "metadata": {},
   "outputs": [
    {
     "name": "stdout",
     "output_type": "stream",
     "text": [
      "Float64Index([1.0, 2.0, 3.0, 4.0, 5.0, 6.0, 7.0, 8.0, 9.0, 10.0], dtype='float64')\n",
      "1.0      124\n",
      "2.0      854\n",
      "3.0     2164\n",
      "4.0     2468\n",
      "5.0     1977\n",
      "6.0      999\n",
      "7.0      434\n",
      "8.0      194\n",
      "9.0       97\n",
      "10.0      98\n",
      "Name: FAMI_CUARTOS_HOGAR, dtype: int64\n",
      "Elementos null/NaN 428077\n",
      "__________________\n",
      "Elementos diferentes de null/NaN: 9409\n",
      "__________________\n",
      "(9409,)\n",
      "None\n"
     ]
    }
   ],
   "source": [
    "c = 'FAMI_CUARTOS_HOGAR'\n",
    "print(data_2007_2[c].value_counts().sort_index().index)\n",
    "print(data_2007_2[c].value_counts().sort_index())\n",
    "print(missing_data(data_2007_2[c]))"
   ]
  },
  {
   "cell_type": "code",
   "execution_count": 98,
   "metadata": {},
   "outputs": [
    {
     "name": "stdout",
     "output_type": "stream",
     "text": [
      "cant null antes: 428077\n",
      "cant null despues: 0\n"
     ]
    }
   ],
   "source": [
    "Do_resamples(data_2007_2, c, float)"
   ]
  },
  {
   "cell_type": "code",
   "execution_count": 99,
   "metadata": {},
   "outputs": [
    {
     "name": "stdout",
     "output_type": "stream",
     "text": [
      "Float64Index([1.0, 2.0, 3.0, 4.0, 5.0, 6.0, 7.0, 8.0, 9.0, 10.0], dtype='float64')\n",
      "1.0     1014\n",
      "2.0     5741\n",
      "3.0     7466\n",
      "4.0     2483\n",
      "5.0      659\n",
      "6.0      242\n",
      "7.0       70\n",
      "8.0       42\n",
      "9.0        9\n",
      "10.0      48\n",
      "Name: FAMI_DORMITORIOS_HOGAR, dtype: int64\n",
      "Elementos null/NaN 419712\n",
      "__________________\n",
      "Elementos diferentes de null/NaN: 17774\n",
      "__________________\n",
      "(17774,)\n",
      "None\n"
     ]
    }
   ],
   "source": [
    "c = 'FAMI_DORMITORIOS_HOGAR'\n",
    "print(data_2007_2[c].value_counts().sort_index().index)\n",
    "print(data_2007_2[c].value_counts().sort_index())\n",
    "print(missing_data(data_2007_2[c]))"
   ]
  },
  {
   "cell_type": "code",
   "execution_count": null,
   "metadata": {
    "collapsed": true
   },
   "outputs": [],
   "source": []
  },
  {
   "cell_type": "code",
   "execution_count": null,
   "metadata": {
    "collapsed": true
   },
   "outputs": [],
   "source": []
  },
  {
   "cell_type": "code",
   "execution_count": null,
   "metadata": {
    "collapsed": true
   },
   "outputs": [],
   "source": []
  },
  {
   "cell_type": "code",
   "execution_count": null,
   "metadata": {
    "collapsed": true
   },
   "outputs": [],
   "source": []
  },
  {
   "cell_type": "code",
   "execution_count": null,
   "metadata": {
    "collapsed": true
   },
   "outputs": [],
   "source": []
  },
  {
   "cell_type": "code",
   "execution_count": null,
   "metadata": {
    "collapsed": true
   },
   "outputs": [],
   "source": []
  },
  {
   "cell_type": "code",
   "execution_count": null,
   "metadata": {
    "collapsed": true
   },
   "outputs": [],
   "source": []
  },
  {
   "cell_type": "code",
   "execution_count": null,
   "metadata": {
    "collapsed": true
   },
   "outputs": [],
   "source": []
  },
  {
   "cell_type": "code",
   "execution_count": null,
   "metadata": {
    "collapsed": true
   },
   "outputs": [],
   "source": []
  },
  {
   "cell_type": "code",
   "execution_count": 101,
   "metadata": {},
   "outputs": [
    {
     "name": "stdout",
     "output_type": "stream",
     "text": [
      "cant null antes: 11793\n",
      "cant null despues: 0\n"
     ]
    }
   ],
   "source": [
    "Do_resamples(data_2007_2, c, float)"
   ]
  },
  {
   "cell_type": "code",
   "execution_count": 102,
   "metadata": {},
   "outputs": [
    {
     "name": "stdout",
     "output_type": "stream",
     "text": [
      "Float64Index([0.0, 1.0, 2.0, 3.0, 4.0], dtype='float64')\n",
      "0.0     7061\n",
      "1.0      122\n",
      "2.0       55\n",
      "3.0    10316\n",
      "4.0      282\n",
      "Name: FAMI_COMPUTADOR, dtype: int64\n",
      "Elementos null/NaN 419650\n",
      "__________________\n",
      "Elementos diferentes de null/NaN: 17836\n",
      "__________________\n",
      "(17836,)\n",
      "None\n"
     ]
    }
   ],
   "source": [
    "c = 'FAMI_COMPUTADOR'\n",
    "print(data_2007_2[c].value_counts().sort_index().index)\n",
    "print(data_2007_2[c].value_counts().sort_index())\n",
    "print(missing_data(data_2007_2[c]))"
   ]
  },
  {
   "cell_type": "code",
   "execution_count": 103,
   "metadata": {},
   "outputs": [
    {
     "name": "stdout",
     "output_type": "stream",
     "text": [
      "cant null antes: 419650\n",
      "cant null despues: 0\n"
     ]
    }
   ],
   "source": [
    "Do_resamples(data_2007_2, c, float)"
   ]
  },
  {
   "cell_type": "code",
   "execution_count": 153,
   "metadata": {},
   "outputs": [
    {
     "name": "stdout",
     "output_type": "stream",
     "text": [
      "Float64Index([1.0, 2.0, 3.0, 4.0, 5.0, 6.0, 7.0], dtype='float64')\n",
      "1.0    108631\n",
      "2.0    170879\n",
      "3.0      3625\n",
      "4.0      1792\n",
      "5.0       592\n",
      "6.0       261\n",
      "7.0       313\n",
      "Name: FAMI_INGRESO_FMILIAR_MENSUAL, dtype: int64\n",
      "Elementos null/NaN 151393\n",
      "__________________\n",
      "Elementos diferentes de null/NaN: 286093\n",
      "__________________\n",
      "(286093,)\n",
      "None\n"
     ]
    }
   ],
   "source": [
    "c = 'FAMI_INGRESO_FMILIAR_MENSUAL'\n",
    "print(data_2007_2[c].value_counts().sort_index().index)\n",
    "print(data_2007_2[c].value_counts().sort_index())\n",
    "print(missing_data(data_2007_2[c]))"
   ]
  },
  {
   "cell_type": "code",
   "execution_count": 159,
   "metadata": {
    "scrolled": true
   },
   "outputs": [
    {
     "name": "stdout",
     "output_type": "stream",
     "text": [
      "cant null antes: 79596\n",
      "cant null despues: 0\n"
     ]
    }
   ],
   "source": [
    "Do_resamples(data_2007_2, c, float)"
   ]
  },
  {
   "cell_type": "code",
   "execution_count": 160,
   "metadata": {},
   "outputs": [
    {
     "name": "stdout",
     "output_type": "stream",
     "text": [
      "Float64Index([0.0, 1.0, 2.0, 3.0, 4.0, 5.0, 6.0, 7.0], dtype='float64')\n",
      "0.0    12882\n",
      "1.0      584\n",
      "2.0      247\n",
      "3.0     1949\n",
      "4.0      620\n",
      "5.0      935\n",
      "6.0       24\n",
      "7.0       60\n",
      "Name: ESTU_TRABAJA, dtype: int64\n",
      "Elementos null/NaN 420185\n",
      "__________________\n",
      "Elementos diferentes de null/NaN: 17301\n",
      "__________________\n",
      "(17301,)\n",
      "None\n"
     ]
    }
   ],
   "source": [
    "c = 'ESTU_TRABAJA'\n",
    "print(data_2007_2[c].value_counts().sort_index().index)\n",
    "print(data_2007_2[c].value_counts().sort_index())\n",
    "print(missing_data(data_2007_2[c]))"
   ]
  },
  {
   "cell_type": "code",
   "execution_count": 161,
   "metadata": {},
   "outputs": [
    {
     "name": "stdout",
     "output_type": "stream",
     "text": [
      "cant null antes: 420185\n",
      "cant null despues: 0\n",
      "1085.4796071052551\n"
     ]
    }
   ],
   "source": [
    "st = time()\n",
    "Do_resamples(data_2007_2, c, float)\n",
    "print(time()-st)"
   ]
  },
  {
   "cell_type": "code",
   "execution_count": 236,
   "metadata": {
    "scrolled": true
   },
   "outputs": [
    {
     "name": "stdout",
     "output_type": "stream",
     "text": [
      "Float64Index([ 0.0,  1.0,  2.0,  3.0,  4.0,  5.0,  6.0,  7.0,  8.0,  9.0, 10.0,\n",
      "              11.0, 12.0, 13.0, 14.0, 15.0, 16.0, 17.0, 18.0, 19.0, 20.0],\n",
      "             dtype='float64')\n",
      "0.0      950\n",
      "1.0      845\n",
      "2.0     2006\n",
      "3.0     3273\n",
      "4.0     8762\n",
      "5.0     5771\n",
      "6.0      100\n",
      "7.0       50\n",
      "8.0      321\n",
      "9.0       70\n",
      "10.0     181\n",
      "11.0      21\n",
      "12.0     116\n",
      "13.0      18\n",
      "14.0      36\n",
      "15.0      88\n",
      "16.0      81\n",
      "17.0       7\n",
      "18.0      85\n",
      "19.0      22\n",
      "20.0    2733\n",
      "Name: ESTU_HORAS_TRABAJA, dtype: int64\n",
      "Elementos null/NaN 411950\n",
      "__________________\n",
      "Elementos diferentes de null/NaN: 25536\n",
      "__________________\n",
      "(25536,)\n",
      "None\n"
     ]
    }
   ],
   "source": [
    "c = 'ESTU_HORAS_TRABAJA'\n",
    "print(data_2007_2[c].value_counts().sort_index().index)\n",
    "print(data_2007_2[c].value_counts().sort_index())\n",
    "print(missing_data(data_2007_2[c]))"
   ]
  },
  {
   "cell_type": "code",
   "execution_count": 237,
   "metadata": {},
   "outputs": [
    {
     "name": "stdout",
     "output_type": "stream",
     "text": [
      "cant null antes: 411950\n",
      "cant null despues: 0\n"
     ]
    }
   ],
   "source": [
    "Do_resamples(data_2007_2, c, float)"
   ]
  },
  {
   "cell_type": "code",
   "execution_count": 238,
   "metadata": {
    "scrolled": true
   },
   "outputs": [
    {
     "name": "stdout",
     "output_type": "stream",
     "text": [
      "Float64Index([ 0.0,  1.0,  2.0,  3.0,  4.0,  5.0,  6.0,  7.0,  8.0,  9.0, 10.0,\n",
      "              11.0, 12.0, 13.0, 14.0, 15.0, 16.0, 17.0, 18.0, 19.0, 20.0],\n",
      "             dtype='float64')\n",
      "0.0      16276\n",
      "1.0      14477\n",
      "2.0      34367\n",
      "3.0      56073\n",
      "4.0     150112\n",
      "5.0      98870\n",
      "6.0       1713\n",
      "7.0        857\n",
      "8.0       5499\n",
      "9.0       1199\n",
      "10.0      3101\n",
      "11.0       360\n",
      "12.0      1987\n",
      "13.0       308\n",
      "14.0       617\n",
      "15.0      1508\n",
      "16.0      1388\n",
      "17.0       120\n",
      "18.0      1456\n",
      "19.0       377\n",
      "20.0     46821\n",
      "Name: ESTU_HORAS_TRABAJA, dtype: int64\n",
      "Elementos null/NaN 0\n",
      "__________________\n",
      "Elementos diferentes de null/NaN: 437486\n",
      "__________________\n",
      "(437486,)\n",
      "None\n"
     ]
    }
   ],
   "source": [
    "c = 'ESTU_HORAS_TRABAJA'\n",
    "print(data_2007_2[c].value_counts().sort_index().index)\n",
    "print(data_2007_2[c].value_counts().sort_index())\n",
    "print(missing_data(data_2007_2[c]))"
   ]
  },
  {
   "cell_type": "code",
   "execution_count": 239,
   "metadata": {
    "scrolled": true
   },
   "outputs": [
    {
     "name": "stdout",
     "output_type": "stream",
     "text": [
      "Float64Index([0.0, 1.0, 2.0, 3.0, 4.0, 5.0, 6.0, 7.0, 8.0, 9.0, 10.0, 11.0,\n",
      "              12.0],\n",
      "             dtype='float64')\n",
      "0.0     287078\n",
      "1.0      62916\n",
      "2.0      14197\n",
      "3.0      12573\n",
      "4.0      16398\n",
      "5.0      20033\n",
      "6.0      14018\n",
      "7.0       9131\n",
      "8.0        835\n",
      "9.0        119\n",
      "10.0        48\n",
      "11.0        50\n",
      "12.0        28\n",
      "Name: COLE_VALOR_PENSION, dtype: int64\n",
      "Elementos null/NaN 62\n",
      "__________________\n",
      "Elementos diferentes de null/NaN: 437424\n",
      "__________________\n",
      "(437424,)\n",
      "None\n"
     ]
    }
   ],
   "source": [
    "c = 'COLE_VALOR_PENSION'\n",
    "print(data_2007_2[c].value_counts().sort_index().index)\n",
    "print(data_2007_2[c].value_counts().sort_index())\n",
    "print(missing_data(data_2007_2[c]))"
   ]
  },
  {
   "cell_type": "code",
   "execution_count": 241,
   "metadata": {
    "collapsed": true
   },
   "outputs": [],
   "source": [
    "%run -i ../tools/functions.py"
   ]
  },
  {
   "cell_type": "code",
   "execution_count": 242,
   "metadata": {},
   "outputs": [
    {
     "name": "stdout",
     "output_type": "stream",
     "text": [
      "cant null antes: 0\n",
      "cant null despues: 0\n"
     ]
    }
   ],
   "source": [
    "Do_resamples(data_2007_2, c, float)"
   ]
  },
  {
   "cell_type": "code",
   "execution_count": 244,
   "metadata": {},
   "outputs": [
    {
     "name": "stdout",
     "output_type": "stream",
     "text": [
      "Float64Index([0.0, 1.0, 2.0, 3.0], dtype='float64')\n",
      "0.0     7\n",
      "1.0    12\n",
      "2.0     8\n",
      "3.0    47\n",
      "Name: ESTU_CARRDESEADA_TIPO, dtype: int64\n",
      "Elementos null/NaN 437412\n",
      "__________________\n",
      "Elementos diferentes de null/NaN: 74\n",
      "__________________\n",
      "(74,)\n",
      "None\n"
     ]
    }
   ],
   "source": [
    "c = 'ESTU_CARRDESEADA_TIPO'\n",
    "print(data_2007_2[c].value_counts().sort_index().index)\n",
    "print(data_2007_2[c].value_counts().sort_index())\n",
    "print(missing_data(data_2007_2[c]))"
   ]
  },
  {
   "cell_type": "code",
   "execution_count": 245,
   "metadata": {
    "collapsed": true
   },
   "outputs": [],
   "source": [
    "data_2007_2 = data_2007_2.drop(([c]), axis=1)"
   ]
  },
  {
   "cell_type": "code",
   "execution_count": 246,
   "metadata": {
    "scrolled": true
   },
   "outputs": [
    {
     "name": "stdout",
     "output_type": "stream",
     "text": [
      "Float64Index([  1.0,   4.0,   7.0,   9.0,  11.0,  12.0,  13.0,  18.0,  20.0,\n",
      "               21.0,  23.0,  24.0,  25.0,  27.0,  28.0,  30.0,  31.0,  32.0,\n",
      "               33.0,  34.0,  40.0,  41.0,  45.0,  57.0,  58.0,  59.0,  62.0,\n",
      "               68.0,  99.0, 155.0, 160.0, 178.0, 181.0],\n",
      "             dtype='float64')\n",
      "1.0      1\n",
      "4.0      2\n",
      "7.0      1\n",
      "9.0      5\n",
      "11.0     1\n",
      "12.0     1\n",
      "13.0     4\n",
      "18.0     1\n",
      "20.0     1\n",
      "21.0     2\n",
      "23.0     1\n",
      "24.0     1\n",
      "25.0     1\n",
      "27.0     2\n",
      "28.0     3\n",
      "30.0     2\n",
      "31.0     3\n",
      "32.0     1\n",
      "33.0     2\n",
      "34.0     1\n",
      "40.0     3\n",
      "41.0     6\n",
      "45.0     5\n",
      "57.0     2\n",
      "58.0     2\n",
      "59.0     4\n",
      "62.0     2\n",
      "68.0     1\n",
      "99.0     2\n",
      "155.0    1\n",
      "160.0    1\n",
      "178.0    1\n",
      "181.0    1\n",
      "Name: ESTU_CARRDESEADA_NUCLEO, dtype: int64\n",
      "Elementos null/NaN 437419\n",
      "__________________\n",
      "Elementos diferentes de null/NaN: 67\n",
      "__________________\n",
      "(67,)\n",
      "None\n"
     ]
    }
   ],
   "source": [
    "c = 'ESTU_CARRDESEADA_NUCLEO'\n",
    "print(data_2007_2[c].value_counts().sort_index().index)\n",
    "print(data_2007_2[c].value_counts().sort_index())\n",
    "print(missing_data(data_2007_2[c]))"
   ]
  },
  {
   "cell_type": "code",
   "execution_count": 247,
   "metadata": {
    "collapsed": true
   },
   "outputs": [],
   "source": [
    "data_2007_2 = data_2007_2.drop(([c]), axis=1)"
   ]
  },
  {
   "cell_type": "code",
   "execution_count": 248,
   "metadata": {
    "scrolled": true
   },
   "outputs": [
    {
     "name": "stdout",
     "output_type": "stream",
     "text": [
      "Float64Index([ 1101.0,  1102.0,  1103.0,  1104.0,  1105.0,  1106.0,  1107.0,\n",
      "               1108.0,  1109.0,  1110.0,\n",
      "              ...\n",
      "               9105.0,  9107.0,  9109.0,  9110.0,  9111.0,  9112.0,  9113.0,\n",
      "               9114.0,  9115.0, 41962.0],\n",
      "             dtype='float64', length=328)\n",
      "1101.0     60845\n",
      "1102.0      3547\n",
      "1103.0      1746\n",
      "1104.0       215\n",
      "1105.0      4473\n",
      "1106.0      5025\n",
      "1107.0       460\n",
      "1108.0       866\n",
      "1109.0       194\n",
      "1110.0      4589\n",
      "1111.0      5275\n",
      "1112.0      4127\n",
      "1113.0      8050\n",
      "1114.0      5673\n",
      "1115.0      1495\n",
      "1117.0      1624\n",
      "1118.0      1895\n",
      "1119.0      3195\n",
      "1120.0      4119\n",
      "1121.0       503\n",
      "1122.0        87\n",
      "1123.0       315\n",
      "1124.0       131\n",
      "1125.0        18\n",
      "1201.0     33065\n",
      "1202.0      7652\n",
      "1203.0      3021\n",
      "1204.0     12711\n",
      "1205.0     11534\n",
      "1206.0       499\n",
      "           ...  \n",
      "4813.0       642\n",
      "4814.0       146\n",
      "4817.0      1532\n",
      "4818.0       348\n",
      "4822.0       178\n",
      "4825.0        54\n",
      "4826.0       174\n",
      "4827.0       203\n",
      "4828.0         2\n",
      "4829.0        74\n",
      "4832.0        74\n",
      "4835.0       465\n",
      "4837.0        88\n",
      "4838.0       147\n",
      "5801.0        68\n",
      "5802.0       216\n",
      "9101.0      2490\n",
      "9102.0       804\n",
      "9103.0      1075\n",
      "9104.0      3553\n",
      "9105.0       762\n",
      "9107.0       227\n",
      "9109.0        68\n",
      "9110.0     14389\n",
      "9111.0       370\n",
      "9112.0      3700\n",
      "9113.0       216\n",
      "9114.0       769\n",
      "9115.0        56\n",
      "41962.0        1\n",
      "Name: ESTU_IES_COD_DESEADA, Length: 328, dtype: int64\n",
      "Elementos null/NaN 80372\n",
      "__________________\n",
      "Elementos diferentes de null/NaN: 357114\n",
      "__________________\n",
      "(357114,)\n",
      "None\n"
     ]
    }
   ],
   "source": [
    "c = 'ESTU_IES_COD_DESEADA'\n",
    "print(data_2007_2[c].value_counts().sort_index().index)\n",
    "print(data_2007_2[c].value_counts().sort_index())\n",
    "print(missing_data(data_2007_2[c]))"
   ]
  },
  {
   "cell_type": "code",
   "execution_count": 249,
   "metadata": {},
   "outputs": [
    {
     "name": "stdout",
     "output_type": "stream",
     "text": [
      "cant null antes: 80372\n",
      "cant null despues: 1\n",
      "cant null antes: 1\n",
      "cant null despues: 0\n"
     ]
    }
   ],
   "source": [
    "Do_resamples(data_2007_2, c, float)"
   ]
  },
  {
   "cell_type": "code",
   "execution_count": 251,
   "metadata": {
    "scrolled": true
   },
   "outputs": [
    {
     "name": "stdout",
     "output_type": "stream",
     "text": [
      "Index(['AGUACHICA', 'ANDES', 'APARTADO', 'ARAUCA', 'ARMENIA',\n",
      "       'BARRANCABERMEJA', 'BARRANQUILLA', 'BELLO', 'BOGOTÁ D.C.',\n",
      "       'BUCARAMANGA', 'BUENAVENTURA', 'BUGA', 'CALDAS', 'CALI',\n",
      "       'CARMEN DE VIBORAL', 'CARTAGENA', 'CARTAGO', 'CAUCASIA', 'CERETE',\n",
      "       'CHIA', 'CHIQUINQUIRA', 'CIENAGA', 'COPACABANA', 'CUCUTA', 'DUITAMA',\n",
      "       'ENVIGADO', 'ESPINAL', 'FACATATIVA', 'FLORENCIA', 'FUSAGASUGA',\n",
      "       'GIRARDOT', 'HONDA', 'IBAGUE', 'LETICIA', 'MADRID', 'MALAGA',\n",
      "       'MANIZALES', 'MEDELLIN', 'MOCOA', 'MONTERIA', 'MOSQUERA', 'NEIVA',\n",
      "       'NILO', 'OCAÑA', 'PALMIRA', 'PAMPLONA', 'PASTO', 'PENSILVANIA',\n",
      "       'PEREIRA', 'POPAYAN', 'PUERTO BERRIO', 'PUERTO TEJADA', 'QUIBDO',\n",
      "       'RIOHACHA', 'RIONEGRO', 'ROLDANILLO', 'SABANETA', 'SAN ANDRES',\n",
      "       'SAN GIL', 'SAN JUAN DEL CESAR', 'SANTA MARTA', 'SANTA ROSA DE CABAL',\n",
      "       'SANTA ROSA DE OSOS', 'SANTAFÉ DE ANTIOQUIA', 'SEVILLA', 'SIBUNDOY',\n",
      "       'SINCELEJO', 'SOCORRO', 'SOGAMOSO', 'SOLEDAD', 'TOLU', 'TULUA', 'TUNJA',\n",
      "       'TURBO', 'UBATE', 'VALLEDUPAR', 'VILLAVICENCIO', 'YOPAL'],\n",
      "      dtype='object')\n",
      "AGUACHICA                  315\n",
      "ANDES                      267\n",
      "APARTADO                     9\n",
      "ARAUCA                     131\n",
      "ARMENIA                   3450\n",
      "BARRANCABERMEJA            551\n",
      "BARRANQUILLA             22750\n",
      "BELLO                      202\n",
      "BOGOTÁ D.C.             138691\n",
      "BUCARAMANGA              19449\n",
      "BUENAVENTURA                87\n",
      "BUGA                        65\n",
      "CALDAS                     127\n",
      "CALI                      6225\n",
      "CARMEN DE VIBORAL          334\n",
      "CARTAGENA                16395\n",
      "CARTAGO                    133\n",
      "CAUCASIA                   619\n",
      "CERETE                      36\n",
      "CHIA                      1622\n",
      "CHIQUINQUIRA               194\n",
      "CIENAGA                    173\n",
      "COPACABANA                  18\n",
      "CUCUTA                    4471\n",
      "DUITAMA                    460\n",
      "ENVIGADO                   120\n",
      "ESPINAL                    114\n",
      "FACATATIVA                  51\n",
      "FLORENCIA                 1495\n",
      "FUSAGASUGA                1264\n",
      "                         ...  \n",
      "PEREIRA                   7038\n",
      "POPAYAN                   4965\n",
      "PUERTO BERRIO              170\n",
      "PUERTO TEJADA                6\n",
      "QUIBDO                    1895\n",
      "RIOHACHA                  1427\n",
      "RIONEGRO                   287\n",
      "ROLDANILLO                   9\n",
      "SABANETA                    22\n",
      "SAN ANDRES                 135\n",
      "SAN GIL                    374\n",
      "SAN JUAN DEL CESAR         191\n",
      "SANTA MARTA               7547\n",
      "SANTA ROSA DE CABAL         60\n",
      "SANTA ROSA DE OSOS          24\n",
      "SANTAFÉ DE ANTIOQUIA        28\n",
      "SEVILLA                      4\n",
      "SIBUNDOY                    18\n",
      "SINCELEJO                 4402\n",
      "SOCORRO                    231\n",
      "SOGAMOSO                   866\n",
      "SOLEDAD                    364\n",
      "TOLU                       164\n",
      "TULUA                       86\n",
      "TUNJA                     6017\n",
      "TURBO                      959\n",
      "UBATE                      226\n",
      "VALLEDUPAR                4119\n",
      "VILLAVICENCIO             3720\n",
      "YOPAL                      129\n",
      "Name: ESTU_IES_MPIO_DESEADA, Length: 78, dtype: int64\n",
      "Elementos null/NaN 80372\n",
      "__________________\n",
      "Elementos diferentes de null/NaN: 357114\n",
      "__________________\n",
      "(357114,)\n",
      "None\n"
     ]
    }
   ],
   "source": [
    "c = 'ESTU_IES_MPIO_DESEADA'\n",
    "print(data_2007_2[c].value_counts().sort_index().index)\n",
    "print(data_2007_2[c].value_counts().sort_index())\n",
    "print(missing_data(data_2007_2[c]))"
   ]
  },
  {
   "cell_type": "code",
   "execution_count": 252,
   "metadata": {},
   "outputs": [
    {
     "name": "stdout",
     "output_type": "stream",
     "text": [
      "cant null antes: 80372\n",
      "cant null despues: 3\n",
      "cant null antes: 3\n",
      "cant null despues: 0\n"
     ]
    }
   ],
   "source": [
    "Do_resamples(data_2007_2, c, str)"
   ]
  },
  {
   "cell_type": "code",
   "execution_count": 253,
   "metadata": {
    "scrolled": true
   },
   "outputs": [
    {
     "name": "stdout",
     "output_type": "stream",
     "text": [
      "Index(['AMAZONAS', 'ANTIOQUIA', 'ARAUCA', 'ATLÁNTICO', 'BOGOTÁ', 'BOLÍVAR',\n",
      "       'BOYACÁ', 'CALDAS', 'CAQUETÁ', 'CASANARE', 'CAUCA', 'CESAR', 'CHOCÓ',\n",
      "       'CUNDINAMARCA', 'CÓRDOBA', 'HUILA', 'LA GUAJIRA', 'MAGDALENA', 'META',\n",
      "       'NARIÑO', 'NORTE SANTANDER', 'PUTUMAYO', 'QUINDÍO', 'RISARALDA',\n",
      "       'SAN ANDRÉS', 'SANTANDER', 'SUCRE', 'TOLIMA', 'VALLE'],\n",
      "      dtype='object')\n",
      "AMAZONAS               18\n",
      "ANTIOQUIA           54876\n",
      "ARAUCA                131\n",
      "ATLÁNTICO           23114\n",
      "BOGOTÁ             138691\n",
      "BOLÍVAR             16395\n",
      "BOYACÁ               7537\n",
      "CALDAS               7736\n",
      "CAQUETÁ              1495\n",
      "CASANARE              129\n",
      "CAUCA                4971\n",
      "CESAR                4434\n",
      "CHOCÓ                1895\n",
      "CUNDINAMARCA         5777\n",
      "CÓRDOBA              9674\n",
      "HUILA                5938\n",
      "LA GUAJIRA           1618\n",
      "MAGDALENA            7720\n",
      "META                 3720\n",
      "NARIÑO                661\n",
      "NORTE SANTANDER     10300\n",
      "PUTUMAYO               71\n",
      "QUINDÍO              3450\n",
      "RISARALDA            7098\n",
      "SAN ANDRÉS            135\n",
      "SANTANDER           20614\n",
      "SUCRE                4566\n",
      "TOLIMA               7485\n",
      "VALLE                6865\n",
      "Name: ESTU_IES_DEPT_DESEADA, dtype: int64\n",
      "Elementos null/NaN 80372\n",
      "__________________\n",
      "Elementos diferentes de null/NaN: 357114\n",
      "__________________\n",
      "(357114,)\n",
      "None\n"
     ]
    }
   ],
   "source": [
    "c = 'ESTU_IES_DEPT_DESEADA'\n",
    "print(data_2007_2[c].value_counts().sort_index().index)\n",
    "print(data_2007_2[c].value_counts().sort_index())\n",
    "print(missing_data(data_2007_2[c]))"
   ]
  },
  {
   "cell_type": "code",
   "execution_count": 254,
   "metadata": {},
   "outputs": [
    {
     "name": "stdout",
     "output_type": "stream",
     "text": [
      "cant null antes: 80372\n",
      "cant null despues: 4\n",
      "cant null antes: 4\n",
      "cant null despues: 0\n"
     ]
    }
   ],
   "source": [
    "Do_resamples(data_2007_2, c, str)"
   ]
  },
  {
   "cell_type": "code",
   "execution_count": 255,
   "metadata": {},
   "outputs": [
    {
     "name": "stdout",
     "output_type": "stream",
     "text": [
      "Float64Index([1.0, 2.0, 3.0, 4.0, 5.0, 6.0, 7.0, 8.0], dtype='float64')\n",
      "1.0     10360\n",
      "2.0     54766\n",
      "3.0    161147\n",
      "4.0     40085\n",
      "5.0     31983\n",
      "6.0     17700\n",
      "7.0     17553\n",
      "8.0     20443\n",
      "Name: ESTU_RAZONINSTITUTO, dtype: int64\n",
      "Elementos null/NaN 83449\n",
      "__________________\n",
      "Elementos diferentes de null/NaN: 354037\n",
      "__________________\n",
      "(354037,)\n",
      "None\n"
     ]
    }
   ],
   "source": [
    "c = 'ESTU_RAZONINSTITUTO'\n",
    "print(data_2007_2[c].value_counts().sort_index().index)\n",
    "print(data_2007_2[c].value_counts().sort_index())\n",
    "print(missing_data(data_2007_2[c]))"
   ]
  },
  {
   "cell_type": "code",
   "execution_count": 256,
   "metadata": {},
   "outputs": [
    {
     "name": "stdout",
     "output_type": "stream",
     "text": [
      "cant null antes: 83449\n",
      "cant null despues: 0\n"
     ]
    }
   ],
   "source": [
    "Do_resamples(data_2007_2, c, float)"
   ]
  },
  {
   "cell_type": "code",
   "execution_count": 258,
   "metadata": {
    "scrolled": true
   },
   "outputs": [
    {
     "name": "stdout",
     "output_type": "stream",
     "text": [
      "Float64Index([    1.0,     4.0,     5.0,     7.0,    10.0,    18.0,    23.0,\n",
      "                 26.0,    27.0,    36.0,\n",
      "              ...\n",
      "              23009.0, 23010.0, 23011.0, 23031.0, 24642.0, 24643.0, 24648.0,\n",
      "              24650.0, 24651.0, 24657.0],\n",
      "             dtype='float64', length=6312)\n",
      "1.0          8\n",
      "4.0         92\n",
      "5.0        285\n",
      "7.0         15\n",
      "10.0         1\n",
      "18.0        30\n",
      "23.0         1\n",
      "26.0         5\n",
      "27.0         6\n",
      "36.0        38\n",
      "56.0         6\n",
      "58.0         4\n",
      "59.0         3\n",
      "60.0         5\n",
      "61.0        12\n",
      "63.0        54\n",
      "64.0        36\n",
      "66.0         3\n",
      "67.0         5\n",
      "68.0         3\n",
      "74.0        28\n",
      "78.0         3\n",
      "79.0         3\n",
      "80.0         2\n",
      "86.0         9\n",
      "87.0        63\n",
      "89.0         2\n",
      "95.0         2\n",
      "98.0        10\n",
      "101.0        5\n",
      "          ... \n",
      "22977.0      1\n",
      "22978.0      1\n",
      "22979.0      3\n",
      "22980.0     42\n",
      "22981.0     25\n",
      "22983.0      4\n",
      "22985.0      5\n",
      "22986.0    121\n",
      "22991.0      1\n",
      "22993.0      1\n",
      "22996.0      1\n",
      "22997.0      1\n",
      "22999.0      1\n",
      "23000.0      3\n",
      "23003.0      2\n",
      "23004.0      6\n",
      "23005.0     12\n",
      "23006.0     14\n",
      "23007.0     28\n",
      "23008.0     14\n",
      "23009.0      2\n",
      "23010.0      2\n",
      "23011.0      2\n",
      "23031.0     16\n",
      "24642.0     27\n",
      "24643.0      8\n",
      "24648.0      3\n",
      "24650.0      3\n",
      "24651.0      7\n",
      "24657.0      3\n",
      "Name: ESTU_CARRDESEADA_COD, Length: 6312, dtype: int64\n",
      "Elementos null/NaN 87647\n",
      "__________________\n",
      "Elementos diferentes de null/NaN: 349839\n",
      "__________________\n",
      "(349839,)\n",
      "None\n"
     ]
    }
   ],
   "source": [
    "c = 'ESTU_CARRDESEADA_COD'\n",
    "print(data_2007_2[c].value_counts().sort_index().index)\n",
    "print(data_2007_2[c].value_counts().sort_index())\n",
    "print(missing_data(data_2007_2[c]))"
   ]
  },
  {
   "cell_type": "code",
   "execution_count": 259,
   "metadata": {},
   "outputs": [
    {
     "name": "stdout",
     "output_type": "stream",
     "text": [
      "cant null antes: 87647\n",
      "cant null despues: 0\n"
     ]
    }
   ],
   "source": [
    "Do_resamples(data_2007_2, c, float)"
   ]
  },
  {
   "cell_type": "code",
   "execution_count": 260,
   "metadata": {},
   "outputs": [
    {
     "name": "stdout",
     "output_type": "stream",
     "text": [
      "Float64Index([1.0, 2.0, 3.0, 4.0, 5.0, 6.0, 7.0], dtype='float64')\n",
      "1.0     86542\n",
      "2.0    131727\n",
      "3.0     63159\n",
      "4.0     32554\n",
      "5.0     27309\n",
      "6.0      7375\n",
      "7.0         5\n",
      "Name: ESTU_CARRDESEADA_RAZON, dtype: int64\n",
      "Elementos null/NaN 88815\n",
      "__________________\n",
      "Elementos diferentes de null/NaN: 348671\n",
      "__________________\n",
      "(348671,)\n",
      "None\n"
     ]
    }
   ],
   "source": [
    "c = 'ESTU_CARRDESEADA_RAZON'\n",
    "print(data_2007_2[c].value_counts().sort_index().index)\n",
    "print(data_2007_2[c].value_counts().sort_index())\n",
    "print(missing_data(data_2007_2[c]))"
   ]
  },
  {
   "cell_type": "code",
   "execution_count": 261,
   "metadata": {},
   "outputs": [
    {
     "name": "stdout",
     "output_type": "stream",
     "text": [
      "cant null antes: 88815\n",
      "cant null despues: 1\n",
      "cant null antes: 1\n",
      "cant null despues: 0\n"
     ]
    }
   ],
   "source": [
    "Do_resamples(data_2007_2, c, float)"
   ]
  },
  {
   "cell_type": "markdown",
   "metadata": {},
   "source": [
    "## TARGETS"
   ]
  },
  {
   "cell_type": "code",
   "execution_count": 262,
   "metadata": {
    "scrolled": true
   },
   "outputs": [
    {
     "name": "stdout",
     "output_type": "stream",
     "text": [
      "Index(['-1', '0', '18,21', '26,04', '30,93', '34,62', '37,68', '40,35',\n",
      "       '42,76', '45,01', '47,14', '49,19', '51,21', '53,22', '55,25', '57,32',\n",
      "       '59,48', '61,76', '64,21', '66,94', '70,06', '73,82', '78,79', '86,72'],\n",
      "      dtype='object')\n",
      "-1          11\n",
      "0          115\n",
      "18,21      820\n",
      "26,04     3504\n",
      "30,93     9371\n",
      "34,62    18954\n",
      "37,68    30412\n",
      "40,35    41393\n",
      "42,76    49888\n",
      "45,01    53450\n",
      "47,14    52350\n",
      "49,19    47239\n",
      "51,21    39466\n",
      "53,22    30910\n",
      "55,25    22891\n",
      "57,32    15927\n",
      "59,48    10005\n",
      "61,76     5813\n",
      "64,21     3001\n",
      "66,94     1284\n",
      "70,06      494\n",
      "73,82      152\n",
      "78,79       31\n",
      "86,72        5\n",
      "Name: PUNT_LENGUAJE, dtype: int64\n",
      "Elementos null/NaN 0\n",
      "__________________\n",
      "Elementos diferentes de null/NaN: 437486\n",
      "__________________\n",
      "(437486,)\n",
      "None\n"
     ]
    }
   ],
   "source": [
    "c = 'PUNT_LENGUAJE'\n",
    "print(data_2007_2[c].value_counts().sort_index().index)\n",
    "print(data_2007_2[c].value_counts().sort_index())\n",
    "print(missing_data(data_2007_2[c]))"
   ]
  },
  {
   "cell_type": "code",
   "execution_count": 263,
   "metadata": {},
   "outputs": [],
   "source": [
    "for i in data_2007_2[c].value_counts().sort_index().index:\n",
    "    if ',' in i:\n",
    "        data_2007_2[c] = data_2007_2[c].replace(i, i.replace(',', '.'))\n",
    "\n",
    "for i in data_2007_2[c].value_counts().sort_index().index:\n",
    "    if type(i) == str:\n",
    "        data_2007_2[c] = data_2007_2[c].replace(i, float(i))\n",
    "        \n",
    "data_2007_2[c] = data_2007_2[c].replace(-1, np.mean(data_2007_2[c]))"
   ]
  },
  {
   "cell_type": "code",
   "execution_count": 264,
   "metadata": {
    "scrolled": true
   },
   "outputs": [
    {
     "name": "stdout",
     "output_type": "stream",
     "text": [
      "Index(['-1', '0', '105,63', '121,49', '21', '30,49', '36,38', '40,82', '44,48',\n",
      "       '47,67', '50,54', '53,2', '55,71', '58,13', '60,49', '62,82', '65,16',\n",
      "       '67,54', '69,99', '72,55', '75,27', '78,22', '81,5', '85,28', '89,86',\n",
      "       '95,93'],\n",
      "      dtype='object')\n",
      "-1            7\n",
      "0          1585\n",
      "105,63       70\n",
      "121,49       15\n",
      "21         9541\n",
      "30,49     28236\n",
      "36,38     52172\n",
      "40,82     70662\n",
      "44,48     75109\n",
      "47,67     64803\n",
      "50,54     48545\n",
      "53,2      32059\n",
      "55,71     19903\n",
      "58,13     12119\n",
      "60,49      7397\n",
      "62,82      4731\n",
      "65,16      3208\n",
      "67,54      2209\n",
      "69,99      1589\n",
      "72,55      1155\n",
      "75,27       818\n",
      "78,22       604\n",
      "81,5        395\n",
      "85,28       253\n",
      "89,86       182\n",
      "95,93       119\n",
      "Name: PUNT_MATEMATICAS, dtype: int64\n",
      "Elementos null/NaN 0\n",
      "__________________\n",
      "Elementos diferentes de null/NaN: 437486\n",
      "__________________\n",
      "(437486,)\n",
      "None\n"
     ]
    }
   ],
   "source": [
    "c = 'PUNT_MATEMATICAS'\n",
    "print(data_2007_2[c].value_counts().sort_index().index)\n",
    "print(data_2007_2[c].value_counts().sort_index())\n",
    "print(missing_data(data_2007_2[c]))"
   ]
  },
  {
   "cell_type": "code",
   "execution_count": 265,
   "metadata": {},
   "outputs": [],
   "source": [
    "for i in data_2007_2[c].value_counts().sort_index().index:\n",
    "    if ',' in i:\n",
    "        data_2007_2[c] = data_2007_2[c].replace(i, i.replace(',', '.'))\n",
    "\n",
    "for i in data_2007_2[c].value_counts().sort_index().index:\n",
    "    if type(i) == str:\n",
    "        data_2007_2[c] = data_2007_2[c].replace(i, float(i))\n",
    "        \n",
    "data_2007_2[c] = data_2007_2[c].replace(-1, np.mean(data_2007_2[c]))"
   ]
  },
  {
   "cell_type": "code",
   "execution_count": 266,
   "metadata": {
    "scrolled": true
   },
   "outputs": [
    {
     "name": "stdout",
     "output_type": "stream",
     "text": [
      "Index(['-1', '0', '15,86', '21,46', '25,63', '29,02', '31,93', '34,51',\n",
      "       '36,86', '39,05', '41,1', '43,06', '44,96', '46,81', '48,62', '50,42',\n",
      "       '52,23', '54,05', '55,9', '57,79', '59,76', '6,74', '61,83', '64,02',\n",
      "       '66,38', '68,97', '71,89', '75,29', '79,47', '85,09', '94,22'],\n",
      "      dtype='object')\n",
      "-1         377\n",
      "0           71\n",
      "15,86      941\n",
      "21,46     2981\n",
      "25,63     7358\n",
      "29,02    14239\n",
      "31,93    23108\n",
      "34,51    31810\n",
      "36,86    38283\n",
      "39,05    42350\n",
      "41,1     43206\n",
      "43,06    41482\n",
      "44,96    37625\n",
      "46,81    33491\n",
      "48,62    27883\n",
      "50,42    23453\n",
      "52,23    19098\n",
      "54,05    15003\n",
      "55,9     11353\n",
      "57,79     8128\n",
      "59,76     5917\n",
      "6,74       286\n",
      "61,83     3797\n",
      "64,02     2380\n",
      "66,38     1475\n",
      "68,97      798\n",
      "71,89      385\n",
      "75,29      146\n",
      "79,47       44\n",
      "85,09       17\n",
      "94,22        1\n",
      "Name: PUNT_C_SOCIALES, dtype: int64\n",
      "Elementos null/NaN 0\n",
      "__________________\n",
      "Elementos diferentes de null/NaN: 437486\n",
      "__________________\n",
      "(437486,)\n",
      "None\n"
     ]
    }
   ],
   "source": [
    "c = 'PUNT_C_SOCIALES'\n",
    "print(data_2007_2[c].value_counts().sort_index().index)\n",
    "print(data_2007_2[c].value_counts().sort_index())\n",
    "print(missing_data(data_2007_2[c]))"
   ]
  },
  {
   "cell_type": "code",
   "execution_count": 267,
   "metadata": {},
   "outputs": [],
   "source": [
    "for i in data_2007_2[c].value_counts().sort_index().index:\n",
    "    if ',' in i:\n",
    "        data_2007_2[c] = data_2007_2[c].replace(i, i.replace(',', '.'))\n",
    "\n",
    "for i in data_2007_2[c].value_counts().sort_index().index:\n",
    "    if type(i) == str:\n",
    "        data_2007_2[c] = data_2007_2[c].replace(i, float(i))\n",
    "        \n",
    "data_2007_2[c] = data_2007_2[c].replace(-1, np.mean(data_2007_2[c]))"
   ]
  },
  {
   "cell_type": "code",
   "execution_count": 268,
   "metadata": {
    "scrolled": true
   },
   "outputs": [
    {
     "name": "stdout",
     "output_type": "stream",
     "text": [
      "Index(['-1', '0', '18,24', '24,08', '28,53', '32,22', '35,44', '38,35',\n",
      "       '41,05', '43,59', '46,04', '48,41', '50,76', '53,1', '55,47', '57,9',\n",
      "       '60,41', '63,07', '65,93', '69,09', '72,7', '8,97'],\n",
      "      dtype='object')\n",
      "-1          20\n",
      "0           55\n",
      "18,24     2189\n",
      "24,08     7402\n",
      "28,53    18278\n",
      "32,22    34633\n",
      "35,44    53975\n",
      "38,35    68640\n",
      "41,05    73493\n",
      "43,59    65887\n",
      "46,04    50418\n",
      "48,41    32157\n",
      "50,76    17640\n",
      "53,1      7893\n",
      "55,47     3094\n",
      "57,9      1008\n",
      "60,41      241\n",
      "63,07       63\n",
      "65,93       14\n",
      "69,09        3\n",
      "72,7         1\n",
      "8,97       382\n",
      "Name: PUNT_FILOSOFIA, dtype: int64\n",
      "Elementos null/NaN 0\n",
      "__________________\n",
      "Elementos diferentes de null/NaN: 437486\n",
      "__________________\n",
      "(437486,)\n",
      "None\n"
     ]
    }
   ],
   "source": [
    "c = 'PUNT_FILOSOFIA'\n",
    "print(data_2007_2[c].value_counts().sort_index().index)\n",
    "print(data_2007_2[c].value_counts().sort_index())\n",
    "print(missing_data(data_2007_2[c]))"
   ]
  },
  {
   "cell_type": "code",
   "execution_count": 269,
   "metadata": {},
   "outputs": [],
   "source": [
    "for i in data_2007_2[c].value_counts().sort_index().index:\n",
    "    if ',' in i:\n",
    "        data_2007_2[c] = data_2007_2[c].replace(i, i.replace(',', '.'))\n",
    "\n",
    "for i in data_2007_2[c].value_counts().sort_index().index:\n",
    "    if type(i) == str:\n",
    "        data_2007_2[c] = data_2007_2[c].replace(i, float(i))\n",
    "        \n",
    "data_2007_2[c] = data_2007_2[c].replace(-1, np.mean(data_2007_2[c]))"
   ]
  },
  {
   "cell_type": "code",
   "execution_count": 270,
   "metadata": {
    "scrolled": true
   },
   "outputs": [
    {
     "name": "stdout",
     "output_type": "stream",
     "text": [
      "Index(['-1', '0', '19,02', '26,7', '31,53', '35,2', '38,26', '40,94', '43,37',\n",
      "       '45,64', '47,79', '49,87', '51,92', '53,95', '55,99', '58,09', '60,25',\n",
      "       '62,54', '65', '67,71', '70,81', '74,54', '79,45', '87,23', '99,86'],\n",
      "      dtype='object')\n",
      "-1          32\n",
      "0          103\n",
      "19,02      827\n",
      "26,7      3841\n",
      "31,53    11593\n",
      "35,2     25200\n",
      "38,26    41879\n",
      "40,94    56038\n",
      "43,37    61990\n",
      "45,64    59744\n",
      "47,79    50577\n",
      "49,87    39386\n",
      "51,92    29035\n",
      "53,95    20489\n",
      "55,99    14254\n",
      "58,09     9430\n",
      "60,25     5931\n",
      "62,54     3523\n",
      "65        1897\n",
      "67,71     1001\n",
      "70,81      435\n",
      "74,54      179\n",
      "79,45       82\n",
      "87,23       17\n",
      "99,86        3\n",
      "Name: PUNT_BIOLOGIA, dtype: int64\n",
      "Elementos null/NaN 0\n",
      "__________________\n",
      "Elementos diferentes de null/NaN: 437486\n",
      "__________________\n",
      "(437486,)\n",
      "None\n"
     ]
    }
   ],
   "source": [
    "c = 'PUNT_BIOLOGIA'\n",
    "print(data_2007_2[c].value_counts().sort_index().index)\n",
    "print(data_2007_2[c].value_counts().sort_index())\n",
    "print(missing_data(data_2007_2[c]))"
   ]
  },
  {
   "cell_type": "code",
   "execution_count": 271,
   "metadata": {},
   "outputs": [],
   "source": [
    "for i in data_2007_2[c].value_counts().sort_index().index:\n",
    "    if ',' in i:\n",
    "        data_2007_2[c] = data_2007_2[c].replace(i, i.replace(',', '.'))\n",
    "\n",
    "for i in data_2007_2[c].value_counts().sort_index().index:\n",
    "    if type(i) == str:\n",
    "        data_2007_2[c] = data_2007_2[c].replace(i, float(i))\n",
    "        \n",
    "data_2007_2[c] = data_2007_2[c].replace(-1, np.mean(data_2007_2[c]))"
   ]
  },
  {
   "cell_type": "code",
   "execution_count": 272,
   "metadata": {
    "scrolled": true
   },
   "outputs": [
    {
     "name": "stdout",
     "output_type": "stream",
     "text": [
      "Index(['-1', '0', '21,83', '28,75', '33,07', '36,34', '39,03', '41,37',\n",
      "       '43,47', '45,4', '47,22', '48,97', '50,66', '52,34', '54,01', '55,7',\n",
      "       '57,44', '59,25', '61,18', '63,27', '65,59', '68,28', '71,54', '75,87',\n",
      "       '82,82'],\n",
      "      dtype='object')\n",
      "-1           3\n",
      "0           84\n",
      "21,83      706\n",
      "28,75     3259\n",
      "33,07    10096\n",
      "36,34    22878\n",
      "39,03    39419\n",
      "41,37    55717\n",
      "43,47    65172\n",
      "45,4     64847\n",
      "47,22    55054\n",
      "48,97    42502\n",
      "50,66    29615\n",
      "52,34    19028\n",
      "54,01    12029\n",
      "55,7      7209\n",
      "57,44     4202\n",
      "59,25     2500\n",
      "61,18     1450\n",
      "63,27      919\n",
      "65,59      482\n",
      "68,28      225\n",
      "71,54       74\n",
      "75,87       15\n",
      "82,82        1\n",
      "Name: PUNT_QUIMICA, dtype: int64\n",
      "Elementos null/NaN 0\n",
      "__________________\n",
      "Elementos diferentes de null/NaN: 437486\n",
      "__________________\n",
      "(437486,)\n",
      "None\n"
     ]
    }
   ],
   "source": [
    "c = 'PUNT_QUIMICA'\n",
    "print(data_2007_2[c].value_counts().sort_index().index)\n",
    "print(data_2007_2[c].value_counts().sort_index())\n",
    "print(missing_data(data_2007_2[c]))"
   ]
  },
  {
   "cell_type": "code",
   "execution_count": 273,
   "metadata": {},
   "outputs": [],
   "source": [
    "for i in data_2007_2[c].value_counts().sort_index().index:\n",
    "    if ',' in i:\n",
    "        data_2007_2[c] = data_2007_2[c].replace(i, i.replace(',', '.'))\n",
    "\n",
    "for i in data_2007_2[c].value_counts().sort_index().index:\n",
    "    if type(i) == str:\n",
    "        data_2007_2[c] = data_2007_2[c].replace(i, float(i))\n",
    "        \n",
    "data_2007_2[c] = data_2007_2[c].replace(-1, np.mean(data_2007_2[c]))"
   ]
  },
  {
   "cell_type": "code",
   "execution_count": 274,
   "metadata": {
    "scrolled": true
   },
   "outputs": [
    {
     "name": "stdout",
     "output_type": "stream",
     "text": [
      "Index(['-1', '0', '11,26', '20,96', '27', '31,55', '35,31', '38,57', '41,52',\n",
      "       '44,26', '46,84', '49,32', '51,73', '54,12', '56,51', '58,93', '61,41',\n",
      "       '64', '66,74', '69,69', '72,97', '76,74', '81,3', '87,34', '97,06'],\n",
      "      dtype='object')\n",
      "-1           8\n",
      "0           41\n",
      "11,26      420\n",
      "20,96     2206\n",
      "27        7762\n",
      "31,55    19152\n",
      "35,31    36391\n",
      "38,57    54654\n",
      "41,52    66921\n",
      "44,26    69402\n",
      "46,84    60789\n",
      "49,32    46328\n",
      "51,73    31075\n",
      "54,12    18795\n",
      "56,51    10908\n",
      "58,93     5970\n",
      "61,41     3198\n",
      "64        1663\n",
      "66,74      917\n",
      "69,69      455\n",
      "72,97      246\n",
      "76,74      114\n",
      "81,3        46\n",
      "87,34       23\n",
      "97,06        2\n",
      "Name: PUNT_FISICA, dtype: int64\n",
      "Elementos null/NaN 0\n",
      "__________________\n",
      "Elementos diferentes de null/NaN: 437486\n",
      "__________________\n",
      "(437486,)\n",
      "None\n"
     ]
    }
   ],
   "source": [
    "c = 'PUNT_FISICA'\n",
    "print(data_2007_2[c].value_counts().sort_index().index)\n",
    "print(data_2007_2[c].value_counts().sort_index())\n",
    "print(missing_data(data_2007_2[c]))"
   ]
  },
  {
   "cell_type": "code",
   "execution_count": 275,
   "metadata": {},
   "outputs": [],
   "source": [
    "for i in data_2007_2[c].value_counts().sort_index().index:\n",
    "    if ',' in i:\n",
    "        data_2007_2[c] = data_2007_2[c].replace(i, i.replace(',', '.'))\n",
    "\n",
    "for i in data_2007_2[c].value_counts().sort_index().index:\n",
    "    if type(i) == str:\n",
    "        data_2007_2[c] = data_2007_2[c].replace(i, float(i))\n",
    "        \n",
    "data_2007_2[c] = data_2007_2[c].replace(-1, np.mean(data_2007_2[c]))"
   ]
  },
  {
   "cell_type": "code",
   "execution_count": 276,
   "metadata": {
    "scrolled": true
   },
   "outputs": [
    {
     "name": "stdout",
     "output_type": "stream",
     "text": [
      "Index(['-1', '0', '111,94', '13,96', '17,91', '21,08', '23,77', '26,13',\n",
      "       '28,24', '30,17', '31,96', '33,63', '35,21', '36,71', '38,15', '39,54',\n",
      "       '40,88', '42,2', '43,48', '44,74', '45,98', '47,21', '48,43', '49,65',\n",
      "       '50,87', '52,09', '53,32', '54,57', '55,84', '57,13', '58,45', '59,81',\n",
      "       '61,22', '62,69', '64,23', '65,86', '67,6', '69,48', '71,53', '73,83',\n",
      "       '76,45', '79,55', '8,61', '83,41', '88,67', '97,34'],\n",
      "      dtype='object')\n",
      "-1          234\n",
      "0            26\n",
      "111,94      471\n",
      "13,96        42\n",
      "17,91        75\n",
      "21,08       204\n",
      "23,77       516\n",
      "26,13      1424\n",
      "28,24      3083\n",
      "30,17      5870\n",
      "31,96     10168\n",
      "33,63     15925\n",
      "35,21     22897\n",
      "36,71     29616\n",
      "38,15     35293\n",
      "39,54     39208\n",
      "40,88     39966\n",
      "42,2      37968\n",
      "43,48     33483\n",
      "44,74     28202\n",
      "45,98     22822\n",
      "47,21     17862\n",
      "48,43     13867\n",
      "49,65     10843\n",
      "50,87      8464\n",
      "52,09      6955\n",
      "53,32      5892\n",
      "54,57      5174\n",
      "55,84      4494\n",
      "57,13      4092\n",
      "58,45      3739\n",
      "59,81      3408\n",
      "61,22      3078\n",
      "62,69      2765\n",
      "64,23      2550\n",
      "65,86      2392\n",
      "67,6       2163\n",
      "69,48      2040\n",
      "71,53      1838\n",
      "73,83      1715\n",
      "76,45      1599\n",
      "79,55      1540\n",
      "8,61         14\n",
      "83,41      1412\n",
      "88,67      1175\n",
      "97,34       922\n",
      "Name: PUNT_INGLES, dtype: int64\n",
      "Elementos null/NaN 0\n",
      "__________________\n",
      "Elementos diferentes de null/NaN: 437486\n",
      "__________________\n",
      "(437486,)\n",
      "None\n"
     ]
    }
   ],
   "source": [
    "c = 'PUNT_INGLES'\n",
    "print(data_2007_2[c].value_counts().sort_index().index)\n",
    "print(data_2007_2[c].value_counts().sort_index())\n",
    "print(missing_data(data_2007_2[c]))"
   ]
  },
  {
   "cell_type": "code",
   "execution_count": 277,
   "metadata": {},
   "outputs": [],
   "source": [
    "for i in data_2007_2[c].value_counts().sort_index().index:\n",
    "    if ',' in i:\n",
    "        data_2007_2[c] = data_2007_2[c].replace(i, i.replace(',', '.'))\n",
    "\n",
    "for i in data_2007_2[c].value_counts().sort_index().index:\n",
    "    if type(i) == str:\n",
    "        data_2007_2[c] = data_2007_2[c].replace(i, float(i))\n",
    "        \n",
    "data_2007_2[c] = data_2007_2[c].replace(-1, np.mean(data_2007_2[c]))"
   ]
  },
  {
   "cell_type": "code",
   "execution_count": 278,
   "metadata": {},
   "outputs": [
    {
     "name": "stdout",
     "output_type": "stream",
     "text": [
      "Index(['-1', 'A-', 'A1', 'A2', 'B+', 'B1'], dtype='object')\n",
      "-1       234\n",
      "A-    242295\n",
      "A1    142498\n",
      "A2     29877\n",
      "B+      3980\n",
      "B1     18602\n",
      "Name: DESEMP_INGLES, dtype: int64\n",
      "Elementos null/NaN 0\n",
      "__________________\n",
      "Elementos diferentes de null/NaN: 437486\n",
      "__________________\n",
      "(437486,)\n",
      "None\n"
     ]
    }
   ],
   "source": [
    "c = 'DESEMP_INGLES'\n",
    "print(data_2007_2[c].value_counts().sort_index().index)\n",
    "print(data_2007_2[c].value_counts().sort_index())\n",
    "print(missing_data(data_2007_2[c]))"
   ]
  },
  {
   "cell_type": "code",
   "execution_count": 280,
   "metadata": {},
   "outputs": [],
   "source": [
    "data_2007_2[c] = data_2007_2[c].replace('-1', 'A1')"
   ]
  },
  {
   "cell_type": "code",
   "execution_count": 281,
   "metadata": {},
   "outputs": [
    {
     "name": "stdout",
     "output_type": "stream",
     "text": [
      "Index(['PROFUNDIZACIÓN EN BIOLOGÍA', 'PROFUNDIZACIÓN EN CIENCIAS SOCIALES',\n",
      "       'PROFUNDIZACIÓN EN LENGUAJE', 'PROFUNDIZACIÓN EN MATEMÁTICA'],\n",
      "      dtype='object')\n",
      "PROFUNDIZACIÓN EN BIOLOGÍA             124891\n",
      "PROFUNDIZACIÓN EN CIENCIAS SOCIALES     81138\n",
      "PROFUNDIZACIÓN EN LENGUAJE             171065\n",
      "PROFUNDIZACIÓN EN MATEMÁTICA            60392\n",
      "Name: NOMBRE_PROFUNDIZACION, dtype: int64\n",
      "Elementos null/NaN 0\n",
      "__________________\n",
      "Elementos diferentes de null/NaN: 437486\n",
      "__________________\n",
      "(437486,)\n",
      "None\n"
     ]
    }
   ],
   "source": [
    "c = 'NOMBRE_PROFUNDIZACION'\n",
    "print(data_2007_2[c].value_counts().sort_index().index)\n",
    "print(data_2007_2[c].value_counts().sort_index())\n",
    "print(missing_data(data_2007_2[c]))"
   ]
  },
  {
   "cell_type": "code",
   "execution_count": 282,
   "metadata": {
    "scrolled": true
   },
   "outputs": [
    {
     "name": "stdout",
     "output_type": "stream",
     "text": [
      "Index(['-1', '0', '1,78', '10', '2,72', '2,8', '3,09', '3,24', '3,33', '3,64',\n",
      "       '3,81', '3,9', '4,03', '4,17', '4,22', '4,42', '4,54', '4,6', '4,83',\n",
      "       '4,94', '4,96', '5,18', '5,28', '5,31', '5,5', '5,59', '5,6', '5,67',\n",
      "       '5,8', '5,88', '5,9', '6,04', '6,09', '6,16', '6,21', '6,39', '6,45',\n",
      "       '6,46', '6,54', '6,71', '6,76', '6,89', '6,94', '7,05', '7,09', '7,31',\n",
      "       '7,45', '7,48', '7,55', '7,84', '7,96', '7,98', '8,5', '8,75', '8,76'],\n",
      "      dtype='object')\n",
      "-1        271\n",
      "0        1523\n",
      "1,78      565\n",
      "10         64\n",
      "2,72     1939\n",
      "2,8      4659\n",
      "3,09     1976\n",
      "3,24     2042\n",
      "3,33     4375\n",
      "3,64    12922\n",
      "3,81     7181\n",
      "3,9      5752\n",
      "4,03     7131\n",
      "4,17    24272\n",
      "4,22     9822\n",
      "4,42    10003\n",
      "4,54    14974\n",
      "4,6     43913\n",
      "4,83    12561\n",
      "4,94    22385\n",
      "4,96    44779\n",
      "5,18    11513\n",
      "5,28    52168\n",
      "5,31    10668\n",
      "5,5      8309\n",
      "5,59    21929\n",
      "5,6     18479\n",
      "5,67     8854\n",
      "5,8      4723\n",
      "5,88    15480\n",
      "5,9     10188\n",
      "6,04     6439\n",
      "6,09     2413\n",
      "6,16     8613\n",
      "6,21     4595\n",
      "6,39     1178\n",
      "6,45     4076\n",
      "6,46     4325\n",
      "6,54     1701\n",
      "6,71      592\n",
      "6,76     1701\n",
      "6,89      535\n",
      "6,94     2444\n",
      "7,05      360\n",
      "7,09      722\n",
      "7,31       82\n",
      "7,45      290\n",
      "7,48      252\n",
      "7,55     1032\n",
      "7,84       13\n",
      "7,96      205\n",
      "7,98       77\n",
      "8,5       285\n",
      "8,75      115\n",
      "8,76       21\n",
      "Name: PUNT_PROFUNDIZACION, dtype: int64\n",
      "Elementos null/NaN 0\n",
      "__________________\n",
      "Elementos diferentes de null/NaN: 437486\n",
      "__________________\n",
      "(437486,)\n",
      "None\n"
     ]
    }
   ],
   "source": [
    "c = 'PUNT_PROFUNDIZACION'\n",
    "print(data_2007_2[c].value_counts().sort_index().index)\n",
    "print(data_2007_2[c].value_counts().sort_index())\n",
    "print(missing_data(data_2007_2[c]))"
   ]
  },
  {
   "cell_type": "code",
   "execution_count": 283,
   "metadata": {},
   "outputs": [],
   "source": [
    "for i in data_2007_2[c].value_counts().sort_index().index:\n",
    "    if ',' in i:\n",
    "        data_2007_2[c] = data_2007_2[c].replace(i, i.replace(',', '.'))\n",
    "\n",
    "for i in data_2007_2[c].value_counts().sort_index().index:\n",
    "    if type(i) == str:\n",
    "        data_2007_2[c] = data_2007_2[c].replace(i, float(i))\n",
    "        \n",
    "data_2007_2[c] = data_2007_2[c].replace(-1, np.mean(data_2007_2[c]))"
   ]
  },
  {
   "cell_type": "code",
   "execution_count": 284,
   "metadata": {},
   "outputs": [
    {
     "name": "stdout",
     "output_type": "stream",
     "text": [
      "Index(['-1', 'GB', 'I', 'II', 'III'], dtype='object')\n",
      "-1        271\n",
      "GB     200531\n",
      "I      186082\n",
      "II      46549\n",
      "III      4053\n",
      "Name: DESEMP_PROFUNDIZACION, dtype: int64\n",
      "Elementos null/NaN 0\n",
      "__________________\n",
      "Elementos diferentes de null/NaN: 437486\n",
      "__________________\n",
      "(437486,)\n",
      "None\n"
     ]
    }
   ],
   "source": [
    "c = 'DESEMP_PROFUNDIZACION'\n",
    "print(data_2007_2[c].value_counts().sort_index().index)\n",
    "print(data_2007_2[c].value_counts().sort_index())\n",
    "print(missing_data(data_2007_2[c]))"
   ]
  },
  {
   "cell_type": "code",
   "execution_count": 285,
   "metadata": {
    "collapsed": true
   },
   "outputs": [],
   "source": [
    "data_2007_2[c] = data_2007_2[c].replace('-1', 'GB')"
   ]
  },
  {
   "cell_type": "code",
   "execution_count": 286,
   "metadata": {},
   "outputs": [
    {
     "name": "stdout",
     "output_type": "stream",
     "text": [
      "Index(['MEDIO AMBIENTE', 'VIOLENCIA Y SOCIEDAD'], dtype='object')\n",
      "MEDIO AMBIENTE          225139\n",
      "VIOLENCIA Y SOCIEDAD    212347\n",
      "Name: NOMBRE_INTERDISCIPLINAR, dtype: int64\n",
      "Elementos null/NaN 0\n",
      "__________________\n",
      "Elementos diferentes de null/NaN: 437486\n",
      "__________________\n",
      "(437486,)\n",
      "None\n"
     ]
    }
   ],
   "source": [
    "c = 'NOMBRE_INTERDISCIPLINAR'\n",
    "print(data_2007_2[c].value_counts().sort_index().index)\n",
    "print(data_2007_2[c].value_counts().sort_index())\n",
    "print(missing_data(data_2007_2[c]))"
   ]
  },
  {
   "cell_type": "code",
   "execution_count": 287,
   "metadata": {
    "scrolled": true
   },
   "outputs": [
    {
     "name": "stdout",
     "output_type": "stream",
     "text": [
      "Index(['-1', '0', '16,64', '26,56', '33,02', '38,12', '42,54', '45,94',\n",
      "       '46,59', '48,11', '49,51', '50,46', '50,62', '51,58', '52,46', '53,31',\n",
      "       '54,15', '54,28', '55,03', '55,98', '57,08', '58,17', '58,48', '60,63',\n",
      "       '62,28', '64,07', '66,78', '72', '78,6', '88,67'],\n",
      "      dtype='object')\n",
      "-1         475\n",
      "0         2085\n",
      "16,64     3208\n",
      "26,56     9954\n",
      "33,02    20263\n",
      "38,12    31610\n",
      "42,54    38445\n",
      "45,94     7781\n",
      "46,59    38127\n",
      "48,11    19198\n",
      "49,51    30717\n",
      "50,46    31026\n",
      "50,62    36726\n",
      "51,58    35613\n",
      "52,46    30501\n",
      "53,31    23214\n",
      "54,15    16934\n",
      "54,28    20661\n",
      "55,03    11362\n",
      "55,98     6498\n",
      "57,08     3212\n",
      "58,17    11191\n",
      "58,48     1230\n",
      "60,63      326\n",
      "62,28     4872\n",
      "64,07       46\n",
      "66,78     1679\n",
      "72         442\n",
      "78,6        81\n",
      "88,67        9\n",
      "Name: PUNT_INTERDISCIPLINAR, dtype: int64\n",
      "Elementos null/NaN 0\n",
      "__________________\n",
      "Elementos diferentes de null/NaN: 437486\n",
      "__________________\n",
      "(437486,)\n",
      "None\n"
     ]
    }
   ],
   "source": [
    "c = 'PUNT_INTERDISCIPLINAR'\n",
    "print(data_2007_2[c].value_counts().sort_index().index)\n",
    "print(data_2007_2[c].value_counts().sort_index())\n",
    "print(missing_data(data_2007_2[c]))"
   ]
  },
  {
   "cell_type": "code",
   "execution_count": 288,
   "metadata": {},
   "outputs": [],
   "source": [
    "for i in data_2007_2[c].value_counts().sort_index().index:\n",
    "    if ',' in i:\n",
    "        data_2007_2[c] = data_2007_2[c].replace(i, i.replace(',', '.'))\n",
    "\n",
    "for i in data_2007_2[c].value_counts().sort_index().index:\n",
    "    if type(i) == str:\n",
    "        data_2007_2[c] = data_2007_2[c].replace(i, float(i))\n",
    "        \n",
    "data_2007_2[c] = data_2007_2[c].replace(-1, np.mean(data_2007_2[c]))"
   ]
  },
  {
   "cell_type": "code",
   "execution_count": 289,
   "metadata": {
    "scrolled": true
   },
   "outputs": [
    {
     "name": "stdout",
     "output_type": "stream",
     "text": [
      "Float64Index([  1.0,   2.0,   3.0,   4.0,   5.0,   6.0,   7.0,   8.0,   9.0,\n",
      "               10.0,\n",
      "              ...\n",
      "              953.0, 954.0, 955.0, 956.0, 957.0, 958.0, 959.0, 960.0, 961.0,\n",
      "              962.0],\n",
      "             dtype='float64', length=962)\n",
      "1.0      334\n",
      "2.0      356\n",
      "3.0      353\n",
      "4.0      332\n",
      "5.0      367\n",
      "6.0      352\n",
      "7.0      340\n",
      "8.0      348\n",
      "9.0      355\n",
      "10.0     365\n",
      "11.0     370\n",
      "12.0     362\n",
      "13.0     381\n",
      "14.0     377\n",
      "15.0     388\n",
      "16.0     386\n",
      "17.0     376\n",
      "18.0     387\n",
      "19.0     388\n",
      "20.0     382\n",
      "21.0     377\n",
      "22.0     385\n",
      "23.0     388\n",
      "24.0     402\n",
      "25.0     388\n",
      "26.0     389\n",
      "27.0     376\n",
      "28.0     377\n",
      "29.0     396\n",
      "30.0     400\n",
      "        ... \n",
      "933.0    449\n",
      "934.0    439\n",
      "935.0    440\n",
      "936.0    445\n",
      "937.0    457\n",
      "938.0    460\n",
      "939.0    453\n",
      "940.0    455\n",
      "941.0    453\n",
      "942.0    455\n",
      "943.0    459\n",
      "944.0    450\n",
      "945.0    467\n",
      "946.0    462\n",
      "947.0    453\n",
      "948.0    444\n",
      "949.0    457\n",
      "950.0    453\n",
      "951.0    452\n",
      "952.0    451\n",
      "953.0    441\n",
      "954.0    443\n",
      "955.0    450\n",
      "956.0    448\n",
      "957.0    443\n",
      "958.0    456\n",
      "959.0    451\n",
      "960.0    433\n",
      "961.0    435\n",
      "962.0    186\n",
      "Name: ESTU_PUESTO, Length: 962, dtype: int64\n",
      "Elementos null/NaN 644\n",
      "__________________\n",
      "Elementos diferentes de null/NaN: 436842\n",
      "__________________\n",
      "(436842,)\n",
      "None\n"
     ]
    }
   ],
   "source": [
    "c = 'ESTU_PUESTO'\n",
    "print(data_2007_2[c].value_counts().sort_index().index)\n",
    "print(data_2007_2[c].value_counts().sort_index())\n",
    "print(missing_data(data_2007_2[c]))"
   ]
  },
  {
   "cell_type": "code",
   "execution_count": 291,
   "metadata": {},
   "outputs": [],
   "source": [
    "data_2007_2.fillna(method='bfill', inplace=True)\n",
    "data_2007_2.fillna(method='ffill', inplace=True)"
   ]
  },
  {
   "cell_type": "markdown",
   "metadata": {},
   "source": [
    "NOW i can Transform the Obtained Dataframes in csv files"
   ]
  },
  {
   "cell_type": "code",
   "execution_count": 292,
   "metadata": {
    "collapsed": true
   },
   "outputs": [],
   "source": [
    "#data_2007 = label_encoder(data_2007)\n",
    "data_2007_2 = label_encoder(data_2007_2)"
   ]
  },
  {
   "cell_type": "code",
   "execution_count": 293,
   "metadata": {
    "collapsed": true
   },
   "outputs": [],
   "source": [
    "#data_2007.to_csv('../DatosFTPICFES/SABER11/SB11-BASES_DE_DATOS/READY/2007_1.csv', sep=';', index=False)\n",
    "data_2007_2.to_csv('../DatosFTPICFES/SABER11/SB11-BASES_DE_DATOS/READY/2007_2.csv', sep=';', index=False)"
   ]
  }
 ],
 "metadata": {
  "kernelspec": {
   "display_name": "Python 3",
   "language": "python",
   "name": "python3"
  },
  "language_info": {
   "codemirror_mode": {
    "name": "ipython",
    "version": 3
   },
   "file_extension": ".py",
   "mimetype": "text/x-python",
   "name": "python",
   "nbconvert_exporter": "python",
   "pygments_lexer": "ipython3",
   "version": "3.6.2"
  }
 },
 "nbformat": 4,
 "nbformat_minor": 1
}
