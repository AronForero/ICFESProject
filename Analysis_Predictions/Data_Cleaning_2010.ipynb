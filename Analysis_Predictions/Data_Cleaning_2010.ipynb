{
 "cells": [
  {
   "cell_type": "code",
   "execution_count": 1,
   "metadata": {
    "collapsed": true
   },
   "outputs": [],
   "source": [
    "import pandas as pd\n",
    "import numpy as np\n",
    "%run -i ../tools/functions.py\n",
    "%run -i ../tools/label_encoder.py"
   ]
  },
  {
   "cell_type": "code",
   "execution_count": 2,
   "metadata": {
    "collapsed": true
   },
   "outputs": [],
   "source": [
    "data_2010 = pd.read_csv('../DatosFTPICFES/SABER11/SB11-BASES_DE_DATOS/SB11-20101-RGSTRO-CLFCCN-V1-0.txt', delimiter='|')"
   ]
  },
  {
   "cell_type": "code",
   "execution_count": 3,
   "metadata": {
    "collapsed": false
   },
   "outputs": [
    {
     "data": {
      "text/plain": [
       "(30321, 79)"
      ]
     },
     "execution_count": 3,
     "metadata": {},
     "output_type": "execute_result"
    }
   ],
   "source": [
    "data_2010.shape"
   ]
  },
  {
   "cell_type": "code",
   "execution_count": 4,
   "metadata": {
    "collapsed": false,
    "scrolled": true
   },
   "outputs": [
    {
     "data": {
      "text/html": [
       "<div>\n",
       "<table border=\"1\" class=\"dataframe\">\n",
       "  <thead>\n",
       "    <tr style=\"text-align: right;\">\n",
       "      <th></th>\n",
       "      <th>0</th>\n",
       "      <th>1</th>\n",
       "      <th>2</th>\n",
       "    </tr>\n",
       "  </thead>\n",
       "  <tbody>\n",
       "    <tr>\n",
       "      <th>ESTU_CONSECUTIVO</th>\n",
       "      <td>SB11201010000001</td>\n",
       "      <td>SB11201010000002</td>\n",
       "      <td>SB11201010000003</td>\n",
       "    </tr>\n",
       "    <tr>\n",
       "      <th>PERIODO</th>\n",
       "      <td>20101</td>\n",
       "      <td>20101</td>\n",
       "      <td>20101</td>\n",
       "    </tr>\n",
       "    <tr>\n",
       "      <th>ESTU_TIPO_DOCUMENTO</th>\n",
       "      <td>C</td>\n",
       "      <td>C</td>\n",
       "      <td>C</td>\n",
       "    </tr>\n",
       "    <tr>\n",
       "      <th>ESTU_PAIS_RESIDE</th>\n",
       "      <td>CO</td>\n",
       "      <td>CO</td>\n",
       "      <td>CO</td>\n",
       "    </tr>\n",
       "    <tr>\n",
       "      <th>ESTU_GENERO</th>\n",
       "      <td>F</td>\n",
       "      <td>M</td>\n",
       "      <td>M</td>\n",
       "    </tr>\n",
       "    <tr>\n",
       "      <th>ESTU_NACIMIENTO_DIA</th>\n",
       "      <td>24</td>\n",
       "      <td>5</td>\n",
       "      <td>3</td>\n",
       "    </tr>\n",
       "    <tr>\n",
       "      <th>ESTU_NACIMIENTO_MES</th>\n",
       "      <td>11</td>\n",
       "      <td>3</td>\n",
       "      <td>7</td>\n",
       "    </tr>\n",
       "    <tr>\n",
       "      <th>ESTU_NACIMIENTO_ANNO</th>\n",
       "      <td>1983</td>\n",
       "      <td>1988</td>\n",
       "      <td>1987</td>\n",
       "    </tr>\n",
       "    <tr>\n",
       "      <th>ESTU_EDAD</th>\n",
       "      <td>26</td>\n",
       "      <td>22</td>\n",
       "      <td>22</td>\n",
       "    </tr>\n",
       "    <tr>\n",
       "      <th>ESTU_LIMITA_BAJAVISION</th>\n",
       "      <td>NaN</td>\n",
       "      <td>NaN</td>\n",
       "      <td>NaN</td>\n",
       "    </tr>\n",
       "    <tr>\n",
       "      <th>ESTU_LIMITA_SORDOCEGUERA</th>\n",
       "      <td>NaN</td>\n",
       "      <td>NaN</td>\n",
       "      <td>NaN</td>\n",
       "    </tr>\n",
       "    <tr>\n",
       "      <th>ESTU_LIMITA_COGNITIVA</th>\n",
       "      <td>NaN</td>\n",
       "      <td>NaN</td>\n",
       "      <td>NaN</td>\n",
       "    </tr>\n",
       "    <tr>\n",
       "      <th>ESTU_LIMITA_INVIDENTE</th>\n",
       "      <td>NaN</td>\n",
       "      <td>NaN</td>\n",
       "      <td>NaN</td>\n",
       "    </tr>\n",
       "    <tr>\n",
       "      <th>ESTU_LIMITA_MOTRIZ</th>\n",
       "      <td>NaN</td>\n",
       "      <td>NaN</td>\n",
       "      <td>NaN</td>\n",
       "    </tr>\n",
       "    <tr>\n",
       "      <th>ESTU_LIMITA_SORDOINTERPRETE</th>\n",
       "      <td>NaN</td>\n",
       "      <td>NaN</td>\n",
       "      <td>NaN</td>\n",
       "    </tr>\n",
       "    <tr>\n",
       "      <th>ESTU_LIMITA_SORDONOINTERPRETE</th>\n",
       "      <td>NaN</td>\n",
       "      <td>NaN</td>\n",
       "      <td>NaN</td>\n",
       "    </tr>\n",
       "    <tr>\n",
       "      <th>ESTU_ETNIA</th>\n",
       "      <td>NaN</td>\n",
       "      <td>NaN</td>\n",
       "      <td>NaN</td>\n",
       "    </tr>\n",
       "    <tr>\n",
       "      <th>ESTU_COD_RESIDE_MCPIO</th>\n",
       "      <td>11001</td>\n",
       "      <td>95001</td>\n",
       "      <td>11001</td>\n",
       "    </tr>\n",
       "    <tr>\n",
       "      <th>ESTU_RESIDE_MCPIO</th>\n",
       "      <td>BOGOTÁ D.C.</td>\n",
       "      <td>SAN JOSE DEL GUAVIARE</td>\n",
       "      <td>BOGOTÁ D.C.</td>\n",
       "    </tr>\n",
       "    <tr>\n",
       "      <th>ESTU_RESIDE_DEPTO</th>\n",
       "      <td>BOGOTÁ</td>\n",
       "      <td>GUAVIARE</td>\n",
       "      <td>BOGOTÁ</td>\n",
       "    </tr>\n",
       "    <tr>\n",
       "      <th>ESTU_ZONA_RESIDE</th>\n",
       "      <td>8</td>\n",
       "      <td>10</td>\n",
       "      <td>10</td>\n",
       "    </tr>\n",
       "    <tr>\n",
       "      <th>ESTU_AREA_RESIDE</th>\n",
       "      <td>1</td>\n",
       "      <td>1</td>\n",
       "      <td>1</td>\n",
       "    </tr>\n",
       "    <tr>\n",
       "      <th>FAMI_EDUCA_PADRE</th>\n",
       "      <td>16</td>\n",
       "      <td>99</td>\n",
       "      <td>13</td>\n",
       "    </tr>\n",
       "    <tr>\n",
       "      <th>FAMI_EDUCA_MADRE</th>\n",
       "      <td>15</td>\n",
       "      <td>99</td>\n",
       "      <td>13</td>\n",
       "    </tr>\n",
       "    <tr>\n",
       "      <th>FAMI_OCUPA_PADRE</th>\n",
       "      <td>17</td>\n",
       "      <td>21</td>\n",
       "      <td>13</td>\n",
       "    </tr>\n",
       "    <tr>\n",
       "      <th>FAMI_OCUPA_MADRE</th>\n",
       "      <td>22</td>\n",
       "      <td>22</td>\n",
       "      <td>20</td>\n",
       "    </tr>\n",
       "    <tr>\n",
       "      <th>FAMI_ESTRATO_VIVIENDA</th>\n",
       "      <td>3</td>\n",
       "      <td>1</td>\n",
       "      <td>NaN</td>\n",
       "    </tr>\n",
       "    <tr>\n",
       "      <th>FAMI_NIVEL_SISBEN</th>\n",
       "      <td>5</td>\n",
       "      <td>1</td>\n",
       "      <td>3</td>\n",
       "    </tr>\n",
       "    <tr>\n",
       "      <th>FAMI_PERSONAS_HOGAR</th>\n",
       "      <td>3</td>\n",
       "      <td>3</td>\n",
       "      <td>4</td>\n",
       "    </tr>\n",
       "    <tr>\n",
       "      <th>FAMI_CUARTOS_HOGAR</th>\n",
       "      <td>3</td>\n",
       "      <td>1</td>\n",
       "      <td>2</td>\n",
       "    </tr>\n",
       "    <tr>\n",
       "      <th>...</th>\n",
       "      <td>...</td>\n",
       "      <td>...</td>\n",
       "      <td>...</td>\n",
       "    </tr>\n",
       "    <tr>\n",
       "      <th>IND_COD_ICFES_TERMINO</th>\n",
       "      <td>20974</td>\n",
       "      <td>146415</td>\n",
       "      <td>9110</td>\n",
       "    </tr>\n",
       "    <tr>\n",
       "      <th>COLE_COD_ICFES</th>\n",
       "      <td>20974</td>\n",
       "      <td>146415</td>\n",
       "      <td>85340</td>\n",
       "    </tr>\n",
       "    <tr>\n",
       "      <th>COLE_COD_DANE_INSTITUCION</th>\n",
       "      <td>111001009971</td>\n",
       "      <td>341078000785</td>\n",
       "      <td></td>\n",
       "    </tr>\n",
       "    <tr>\n",
       "      <th>COLE_NOMBRE_SEDE</th>\n",
       "      <td>COL DIST REP DE COLOMBIA</td>\n",
       "      <td>INSTITUTO DE EXCELENCIA HUMANA Y ACADÉMICA  ID...</td>\n",
       "      <td>COLEGIO INSCAP</td>\n",
       "    </tr>\n",
       "    <tr>\n",
       "      <th>COLE_CALENDARIO</th>\n",
       "      <td>F</td>\n",
       "      <td>F</td>\n",
       "      <td>F</td>\n",
       "    </tr>\n",
       "    <tr>\n",
       "      <th>COLE_GENERO</th>\n",
       "      <td>X</td>\n",
       "      <td>X</td>\n",
       "      <td>X</td>\n",
       "    </tr>\n",
       "    <tr>\n",
       "      <th>COLE_NATURALEZA</th>\n",
       "      <td>O</td>\n",
       "      <td>N</td>\n",
       "      <td>N</td>\n",
       "    </tr>\n",
       "    <tr>\n",
       "      <th>COLE_BILINGUE</th>\n",
       "      <td>0</td>\n",
       "      <td>NaN</td>\n",
       "      <td>0</td>\n",
       "    </tr>\n",
       "    <tr>\n",
       "      <th>COLE_JORNADA</th>\n",
       "      <td>NOCHE</td>\n",
       "      <td>SABATINA - DOMINICAL</td>\n",
       "      <td>NOCHE</td>\n",
       "    </tr>\n",
       "    <tr>\n",
       "      <th>COLE_CARACTER</th>\n",
       "      <td>ACADEMICO</td>\n",
       "      <td>ACADEMICO</td>\n",
       "      <td>ACADEMICO Y TECNICO</td>\n",
       "    </tr>\n",
       "    <tr>\n",
       "      <th>ESTU_VECES_ESTADO</th>\n",
       "      <td>0</td>\n",
       "      <td>0</td>\n",
       "      <td>0</td>\n",
       "    </tr>\n",
       "    <tr>\n",
       "      <th>ESTU_COD_MCPIO_PRESENTACION</th>\n",
       "      <td>11001</td>\n",
       "      <td>95001</td>\n",
       "      <td>11001</td>\n",
       "    </tr>\n",
       "    <tr>\n",
       "      <th>ESTU_MCPIO_PRESENTACION</th>\n",
       "      <td>BOGOTÁ D.C.</td>\n",
       "      <td>SAN JOSE DEL GUAVIARE</td>\n",
       "      <td>BOGOTÁ D.C.</td>\n",
       "    </tr>\n",
       "    <tr>\n",
       "      <th>ESTU_DEPTO_PRESENTACION</th>\n",
       "      <td>BOGOTÁ</td>\n",
       "      <td>GUAVIARE</td>\n",
       "      <td>BOGOTÁ</td>\n",
       "    </tr>\n",
       "    <tr>\n",
       "      <th>ESTU_EXAM_NOMBREEXAMEN</th>\n",
       "      <td>EXAMEN DE ESTADO (ICFES)</td>\n",
       "      <td>EXAMEN DE ESTADO (ICFES)</td>\n",
       "      <td>EXAMEN DE ESTADO (ICFES)</td>\n",
       "    </tr>\n",
       "    <tr>\n",
       "      <th>PUNT_LENGUAJE</th>\n",
       "      <td>48,81</td>\n",
       "      <td>56,74</td>\n",
       "      <td>46,68</td>\n",
       "    </tr>\n",
       "    <tr>\n",
       "      <th>PUNT_MATEMATICAS</th>\n",
       "      <td>43,99</td>\n",
       "      <td>46,77</td>\n",
       "      <td>40,78</td>\n",
       "    </tr>\n",
       "    <tr>\n",
       "      <th>PUNT_C_SOCIALES</th>\n",
       "      <td>41,9</td>\n",
       "      <td>46,27</td>\n",
       "      <td>41,9</td>\n",
       "    </tr>\n",
       "    <tr>\n",
       "      <th>PUNT_FILOSOFIA</th>\n",
       "      <td>29,03</td>\n",
       "      <td>45,93</td>\n",
       "      <td>45,93</td>\n",
       "    </tr>\n",
       "    <tr>\n",
       "      <th>PUNT_BIOLOGIA</th>\n",
       "      <td>34,33</td>\n",
       "      <td>55,46</td>\n",
       "      <td>43,61</td>\n",
       "    </tr>\n",
       "    <tr>\n",
       "      <th>PUNT_QUIMICA</th>\n",
       "      <td>37,51</td>\n",
       "      <td>41,72</td>\n",
       "      <td>45,33</td>\n",
       "    </tr>\n",
       "    <tr>\n",
       "      <th>PUNT_FISICA</th>\n",
       "      <td>32,27</td>\n",
       "      <td>36,7</td>\n",
       "      <td>40,06</td>\n",
       "    </tr>\n",
       "    <tr>\n",
       "      <th>PUNT_INGLES</th>\n",
       "      <td>28,64</td>\n",
       "      <td>47,79</td>\n",
       "      <td>35,25</td>\n",
       "    </tr>\n",
       "    <tr>\n",
       "      <th>DESEMP_INGLES</th>\n",
       "      <td>A-</td>\n",
       "      <td>A1</td>\n",
       "      <td>A-</td>\n",
       "    </tr>\n",
       "    <tr>\n",
       "      <th>NOMBRE_PROFUNDIZACION</th>\n",
       "      <td>PROFUNDIZACIÓN EN LENGUAJE</td>\n",
       "      <td>PROFUNDIZACIÓN EN LENGUAJE</td>\n",
       "      <td>PROFUNDIZACIÓN EN CIENCIAS SOCIALES</td>\n",
       "    </tr>\n",
       "    <tr>\n",
       "      <th>PUNT_PROFUNDIZACION</th>\n",
       "      <td>3,2</td>\n",
       "      <td>4,2</td>\n",
       "      <td>5,4</td>\n",
       "    </tr>\n",
       "    <tr>\n",
       "      <th>DESEMP_PROFUNDIZACION</th>\n",
       "      <td>GB</td>\n",
       "      <td>GB</td>\n",
       "      <td>I</td>\n",
       "    </tr>\n",
       "    <tr>\n",
       "      <th>NOMBRE_INTERDISCIPLINAR</th>\n",
       "      <td>MEDIO AMBIENTE</td>\n",
       "      <td>VIOLENCIA Y SOCIEDAD</td>\n",
       "      <td>VIOLENCIA Y SOCIEDAD</td>\n",
       "    </tr>\n",
       "    <tr>\n",
       "      <th>PUNT_INTERDISCIPLINAR</th>\n",
       "      <td>50,78</td>\n",
       "      <td>47,71</td>\n",
       "      <td>35,93</td>\n",
       "    </tr>\n",
       "    <tr>\n",
       "      <th>ESTU_PUESTO</th>\n",
       "      <td>872</td>\n",
       "      <td>413</td>\n",
       "      <td>666</td>\n",
       "    </tr>\n",
       "  </tbody>\n",
       "</table>\n",
       "<p>79 rows × 3 columns</p>\n",
       "</div>"
      ],
      "text/plain": [
       "                                                        0  \\\n",
       "ESTU_CONSECUTIVO                         SB11201010000001   \n",
       "PERIODO                                             20101   \n",
       "ESTU_TIPO_DOCUMENTO                                     C   \n",
       "ESTU_PAIS_RESIDE                                       CO   \n",
       "ESTU_GENERO                                             F   \n",
       "ESTU_NACIMIENTO_DIA                                    24   \n",
       "ESTU_NACIMIENTO_MES                                    11   \n",
       "ESTU_NACIMIENTO_ANNO                                 1983   \n",
       "ESTU_EDAD                                              26   \n",
       "ESTU_LIMITA_BAJAVISION                                NaN   \n",
       "ESTU_LIMITA_SORDOCEGUERA                              NaN   \n",
       "ESTU_LIMITA_COGNITIVA                                 NaN   \n",
       "ESTU_LIMITA_INVIDENTE                                 NaN   \n",
       "ESTU_LIMITA_MOTRIZ                                    NaN   \n",
       "ESTU_LIMITA_SORDOINTERPRETE                           NaN   \n",
       "ESTU_LIMITA_SORDONOINTERPRETE                         NaN   \n",
       "ESTU_ETNIA                                            NaN   \n",
       "ESTU_COD_RESIDE_MCPIO                               11001   \n",
       "ESTU_RESIDE_MCPIO                             BOGOTÁ D.C.   \n",
       "ESTU_RESIDE_DEPTO                                  BOGOTÁ   \n",
       "ESTU_ZONA_RESIDE                                        8   \n",
       "ESTU_AREA_RESIDE                                        1   \n",
       "FAMI_EDUCA_PADRE                                       16   \n",
       "FAMI_EDUCA_MADRE                                       15   \n",
       "FAMI_OCUPA_PADRE                                       17   \n",
       "FAMI_OCUPA_MADRE                                       22   \n",
       "FAMI_ESTRATO_VIVIENDA                                   3   \n",
       "FAMI_NIVEL_SISBEN                                       5   \n",
       "FAMI_PERSONAS_HOGAR                                     3   \n",
       "FAMI_CUARTOS_HOGAR                                      3   \n",
       "...                                                   ...   \n",
       "IND_COD_ICFES_TERMINO                               20974   \n",
       "COLE_COD_ICFES                                      20974   \n",
       "COLE_COD_DANE_INSTITUCION                    111001009971   \n",
       "COLE_NOMBRE_SEDE                 COL DIST REP DE COLOMBIA   \n",
       "COLE_CALENDARIO                                         F   \n",
       "COLE_GENERO                                             X   \n",
       "COLE_NATURALEZA                                         O   \n",
       "COLE_BILINGUE                                           0   \n",
       "COLE_JORNADA                                        NOCHE   \n",
       "COLE_CARACTER                                   ACADEMICO   \n",
       "ESTU_VECES_ESTADO                                       0   \n",
       "ESTU_COD_MCPIO_PRESENTACION                         11001   \n",
       "ESTU_MCPIO_PRESENTACION                       BOGOTÁ D.C.   \n",
       "ESTU_DEPTO_PRESENTACION                            BOGOTÁ   \n",
       "ESTU_EXAM_NOMBREEXAMEN           EXAMEN DE ESTADO (ICFES)   \n",
       "PUNT_LENGUAJE                                       48,81   \n",
       "PUNT_MATEMATICAS                                    43,99   \n",
       "PUNT_C_SOCIALES                                      41,9   \n",
       "PUNT_FILOSOFIA                                      29,03   \n",
       "PUNT_BIOLOGIA                                       34,33   \n",
       "PUNT_QUIMICA                                        37,51   \n",
       "PUNT_FISICA                                         32,27   \n",
       "PUNT_INGLES                                         28,64   \n",
       "DESEMP_INGLES                                          A-   \n",
       "NOMBRE_PROFUNDIZACION          PROFUNDIZACIÓN EN LENGUAJE   \n",
       "PUNT_PROFUNDIZACION                                   3,2   \n",
       "DESEMP_PROFUNDIZACION                                  GB   \n",
       "NOMBRE_INTERDISCIPLINAR                    MEDIO AMBIENTE   \n",
       "PUNT_INTERDISCIPLINAR                               50,78   \n",
       "ESTU_PUESTO                                           872   \n",
       "\n",
       "                                                                               1  \\\n",
       "ESTU_CONSECUTIVO                                                SB11201010000002   \n",
       "PERIODO                                                                    20101   \n",
       "ESTU_TIPO_DOCUMENTO                                                            C   \n",
       "ESTU_PAIS_RESIDE                                                              CO   \n",
       "ESTU_GENERO                                                                    M   \n",
       "ESTU_NACIMIENTO_DIA                                                            5   \n",
       "ESTU_NACIMIENTO_MES                                                            3   \n",
       "ESTU_NACIMIENTO_ANNO                                                        1988   \n",
       "ESTU_EDAD                                                                     22   \n",
       "ESTU_LIMITA_BAJAVISION                                                       NaN   \n",
       "ESTU_LIMITA_SORDOCEGUERA                                                     NaN   \n",
       "ESTU_LIMITA_COGNITIVA                                                        NaN   \n",
       "ESTU_LIMITA_INVIDENTE                                                        NaN   \n",
       "ESTU_LIMITA_MOTRIZ                                                           NaN   \n",
       "ESTU_LIMITA_SORDOINTERPRETE                                                  NaN   \n",
       "ESTU_LIMITA_SORDONOINTERPRETE                                                NaN   \n",
       "ESTU_ETNIA                                                                   NaN   \n",
       "ESTU_COD_RESIDE_MCPIO                                                      95001   \n",
       "ESTU_RESIDE_MCPIO                                          SAN JOSE DEL GUAVIARE   \n",
       "ESTU_RESIDE_DEPTO                                                       GUAVIARE   \n",
       "ESTU_ZONA_RESIDE                                                              10   \n",
       "ESTU_AREA_RESIDE                                                               1   \n",
       "FAMI_EDUCA_PADRE                                                              99   \n",
       "FAMI_EDUCA_MADRE                                                              99   \n",
       "FAMI_OCUPA_PADRE                                                              21   \n",
       "FAMI_OCUPA_MADRE                                                              22   \n",
       "FAMI_ESTRATO_VIVIENDA                                                          1   \n",
       "FAMI_NIVEL_SISBEN                                                              1   \n",
       "FAMI_PERSONAS_HOGAR                                                            3   \n",
       "FAMI_CUARTOS_HOGAR                                                             1   \n",
       "...                                                                          ...   \n",
       "IND_COD_ICFES_TERMINO                                                     146415   \n",
       "COLE_COD_ICFES                                                            146415   \n",
       "COLE_COD_DANE_INSTITUCION                                           341078000785   \n",
       "COLE_NOMBRE_SEDE               INSTITUTO DE EXCELENCIA HUMANA Y ACADÉMICA  ID...   \n",
       "COLE_CALENDARIO                                                                F   \n",
       "COLE_GENERO                                                                    X   \n",
       "COLE_NATURALEZA                                                                N   \n",
       "COLE_BILINGUE                                                                NaN   \n",
       "COLE_JORNADA                                                SABATINA - DOMINICAL   \n",
       "COLE_CARACTER                                                          ACADEMICO   \n",
       "ESTU_VECES_ESTADO                                                              0   \n",
       "ESTU_COD_MCPIO_PRESENTACION                                                95001   \n",
       "ESTU_MCPIO_PRESENTACION                                    SAN JOSE DEL GUAVIARE   \n",
       "ESTU_DEPTO_PRESENTACION                                                 GUAVIARE   \n",
       "ESTU_EXAM_NOMBREEXAMEN                                  EXAMEN DE ESTADO (ICFES)   \n",
       "PUNT_LENGUAJE                                                              56,74   \n",
       "PUNT_MATEMATICAS                                                           46,77   \n",
       "PUNT_C_SOCIALES                                                            46,27   \n",
       "PUNT_FILOSOFIA                                                             45,93   \n",
       "PUNT_BIOLOGIA                                                              55,46   \n",
       "PUNT_QUIMICA                                                               41,72   \n",
       "PUNT_FISICA                                                                 36,7   \n",
       "PUNT_INGLES                                                                47,79   \n",
       "DESEMP_INGLES                                                                 A1   \n",
       "NOMBRE_PROFUNDIZACION                                 PROFUNDIZACIÓN EN LENGUAJE   \n",
       "PUNT_PROFUNDIZACION                                                          4,2   \n",
       "DESEMP_PROFUNDIZACION                                                         GB   \n",
       "NOMBRE_INTERDISCIPLINAR                                     VIOLENCIA Y SOCIEDAD   \n",
       "PUNT_INTERDISCIPLINAR                                                      47,71   \n",
       "ESTU_PUESTO                                                                  413   \n",
       "\n",
       "                                                                 2  \n",
       "ESTU_CONSECUTIVO                                  SB11201010000003  \n",
       "PERIODO                                                      20101  \n",
       "ESTU_TIPO_DOCUMENTO                                              C  \n",
       "ESTU_PAIS_RESIDE                                                CO  \n",
       "ESTU_GENERO                                                      M  \n",
       "ESTU_NACIMIENTO_DIA                                              3  \n",
       "ESTU_NACIMIENTO_MES                                              7  \n",
       "ESTU_NACIMIENTO_ANNO                                          1987  \n",
       "ESTU_EDAD                                                       22  \n",
       "ESTU_LIMITA_BAJAVISION                                         NaN  \n",
       "ESTU_LIMITA_SORDOCEGUERA                                       NaN  \n",
       "ESTU_LIMITA_COGNITIVA                                          NaN  \n",
       "ESTU_LIMITA_INVIDENTE                                          NaN  \n",
       "ESTU_LIMITA_MOTRIZ                                             NaN  \n",
       "ESTU_LIMITA_SORDOINTERPRETE                                    NaN  \n",
       "ESTU_LIMITA_SORDONOINTERPRETE                                  NaN  \n",
       "ESTU_ETNIA                                                     NaN  \n",
       "ESTU_COD_RESIDE_MCPIO                                        11001  \n",
       "ESTU_RESIDE_MCPIO                                      BOGOTÁ D.C.  \n",
       "ESTU_RESIDE_DEPTO                                           BOGOTÁ  \n",
       "ESTU_ZONA_RESIDE                                                10  \n",
       "ESTU_AREA_RESIDE                                                 1  \n",
       "FAMI_EDUCA_PADRE                                                13  \n",
       "FAMI_EDUCA_MADRE                                                13  \n",
       "FAMI_OCUPA_PADRE                                                13  \n",
       "FAMI_OCUPA_MADRE                                                20  \n",
       "FAMI_ESTRATO_VIVIENDA                                          NaN  \n",
       "FAMI_NIVEL_SISBEN                                                3  \n",
       "FAMI_PERSONAS_HOGAR                                              4  \n",
       "FAMI_CUARTOS_HOGAR                                               2  \n",
       "...                                                            ...  \n",
       "IND_COD_ICFES_TERMINO                                         9110  \n",
       "COLE_COD_ICFES                                               85340  \n",
       "COLE_COD_DANE_INSTITUCION                                           \n",
       "COLE_NOMBRE_SEDE                                    COLEGIO INSCAP  \n",
       "COLE_CALENDARIO                                                  F  \n",
       "COLE_GENERO                                                      X  \n",
       "COLE_NATURALEZA                                                  N  \n",
       "COLE_BILINGUE                                                    0  \n",
       "COLE_JORNADA                                                 NOCHE  \n",
       "COLE_CARACTER                                  ACADEMICO Y TECNICO  \n",
       "ESTU_VECES_ESTADO                                                0  \n",
       "ESTU_COD_MCPIO_PRESENTACION                                  11001  \n",
       "ESTU_MCPIO_PRESENTACION                                BOGOTÁ D.C.  \n",
       "ESTU_DEPTO_PRESENTACION                                     BOGOTÁ  \n",
       "ESTU_EXAM_NOMBREEXAMEN                    EXAMEN DE ESTADO (ICFES)  \n",
       "PUNT_LENGUAJE                                                46,68  \n",
       "PUNT_MATEMATICAS                                             40,78  \n",
       "PUNT_C_SOCIALES                                               41,9  \n",
       "PUNT_FILOSOFIA                                               45,93  \n",
       "PUNT_BIOLOGIA                                                43,61  \n",
       "PUNT_QUIMICA                                                 45,33  \n",
       "PUNT_FISICA                                                  40,06  \n",
       "PUNT_INGLES                                                  35,25  \n",
       "DESEMP_INGLES                                                   A-  \n",
       "NOMBRE_PROFUNDIZACION          PROFUNDIZACIÓN EN CIENCIAS SOCIALES  \n",
       "PUNT_PROFUNDIZACION                                            5,4  \n",
       "DESEMP_PROFUNDIZACION                                            I  \n",
       "NOMBRE_INTERDISCIPLINAR                       VIOLENCIA Y SOCIEDAD  \n",
       "PUNT_INTERDISCIPLINAR                                        35,93  \n",
       "ESTU_PUESTO                                                    666  \n",
       "\n",
       "[79 rows x 3 columns]"
      ]
     },
     "execution_count": 4,
     "metadata": {},
     "output_type": "execute_result"
    }
   ],
   "source": [
    "data_2010.head(3).T"
   ]
  },
  {
   "cell_type": "code",
   "execution_count": 5,
   "metadata": {
    "collapsed": true
   },
   "outputs": [],
   "source": [
    "data_2010 = data_2010.drop(['ESTU_CONSECUTIVO', 'PERIODO', 'ESTU_TIPO_DOCUMENTO', 'ESTU_COD_RESIDE_MCPIO',\n",
    "                           'COLE_NOMBRE_SEDE', 'ESTU_COD_MCPIO_PRESENTACION', 'ESTU_EXAM_NOMBREEXAMEN'],axis=1)"
   ]
  },
  {
   "cell_type": "code",
   "execution_count": 6,
   "metadata": {
    "collapsed": false,
    "scrolled": true
   },
   "outputs": [
    {
     "name": "stdout",
     "output_type": "stream",
     "text": [
      "Index(['AT', 'BR', 'CH', 'CL', 'CO', 'CR', 'CU', 'CZ', 'DE', 'EC', 'ES', 'GT',\n",
      "       'IT', 'LB', 'MX', 'PE', 'RO', 'RU', 'US', 'VE'],\n",
      "      dtype='object')\n",
      "AT        2\n",
      "BR        2\n",
      "CH        1\n",
      "CL        1\n",
      "CO    30220\n",
      "CR        1\n",
      "CU        1\n",
      "CZ        1\n",
      "DE        2\n",
      "EC        4\n",
      "ES        7\n",
      "GT        2\n",
      "IT        1\n",
      "LB        1\n",
      "MX        2\n",
      "PE        1\n",
      "RO        1\n",
      "RU        1\n",
      "US        4\n",
      "VE        6\n",
      "Name: ESTU_PAIS_RESIDE, dtype: int64\n",
      "Elementos null/NaN 60\n",
      "__________________\n",
      "Elementos diferentes de null/NaN: 30261\n",
      "__________________\n",
      "(30261,)\n",
      "None\n"
     ]
    }
   ],
   "source": [
    "c = 'ESTU_PAIS_RESIDE'\n",
    "print(data_2010[c].value_counts().sort_index().index)\n",
    "print(data_2010[c].value_counts().sort_index())\n",
    "print(missing_data(data_2010[c]))"
   ]
  },
  {
   "cell_type": "code",
   "execution_count": 7,
   "metadata": {
    "collapsed": false
   },
   "outputs": [],
   "source": [
    "data_2010['ESTU_PAIS_RESIDE'].fillna('CO', inplace=True)"
   ]
  },
  {
   "cell_type": "code",
   "execution_count": 8,
   "metadata": {
    "collapsed": false
   },
   "outputs": [
    {
     "name": "stdout",
     "output_type": "stream",
     "text": [
      "Index(['F', 'M'], dtype='object')\n",
      "F    15885\n",
      "M    14419\n",
      "Name: ESTU_GENERO, dtype: int64\n",
      "Elementos null/NaN 17\n",
      "__________________\n",
      "Elementos diferentes de null/NaN: 30304\n",
      "__________________\n",
      "(30304,)\n",
      "None\n"
     ]
    }
   ],
   "source": [
    "c = 'ESTU_GENERO'\n",
    "print(data_2010[c].value_counts().sort_index().index)\n",
    "print(data_2010[c].value_counts().sort_index())\n",
    "print(missing_data(data_2010[c]))"
   ]
  },
  {
   "cell_type": "code",
   "execution_count": 9,
   "metadata": {
    "collapsed": false
   },
   "outputs": [
    {
     "name": "stdout",
     "output_type": "stream",
     "text": [
      "cant null antes: 17\n",
      "cant null despues: 0\n"
     ]
    }
   ],
   "source": [
    "Do_resamples(data_2010, 'ESTU_GENERO', str)"
   ]
  },
  {
   "cell_type": "code",
   "execution_count": 12,
   "metadata": {
    "collapsed": false,
    "scrolled": true
   },
   "outputs": [
    {
     "name": "stdout",
     "output_type": "stream",
     "text": [
      "Float64Index([ 1.0,  2.0,  3.0,  4.0,  5.0,  6.0,  7.0,  8.0,  9.0, 10.0, 11.0,\n",
      "              12.0, 13.0, 14.0, 15.0, 16.0, 17.0, 18.0, 19.0, 20.0, 21.0, 22.0,\n",
      "              23.0, 24.0, 25.0, 26.0, 27.0, 28.0, 29.0, 30.0, 31.0],\n",
      "             dtype='float64')\n",
      "1     1041\n",
      "2      943\n",
      "3      960\n",
      "4     1024\n",
      "5     1009\n",
      "6      991\n",
      "7     1006\n",
      "8      996\n",
      "9     1003\n",
      "10    1055\n",
      "11     948\n",
      "12    1060\n",
      "13    1009\n",
      "14     971\n",
      "15    1068\n",
      "16     975\n",
      "17     950\n",
      "18    1035\n",
      "19     959\n",
      "20    1076\n",
      "21     991\n",
      "22    1020\n",
      "23     986\n",
      "24     975\n",
      "25    1050\n",
      "26    1001\n",
      "27     984\n",
      "28    1021\n",
      "29     824\n",
      "30     831\n",
      "31     518\n",
      "Name: ESTU_NACIMIENTO_DIA, dtype: int64\n",
      "Elementos null/NaN 41\n",
      "__________________\n",
      "Elementos diferentes de null/NaN: 30280\n",
      "__________________\n",
      "(30280,)\n",
      "None\n"
     ]
    }
   ],
   "source": [
    "c = 'ESTU_NACIMIENTO_DIA'\n",
    "print(data_2010[c].value_counts().sort_index().index)\n",
    "print(data_2010[c].value_counts().sort_index())\n",
    "print(missing_data(data_2010[c]))"
   ]
  },
  {
   "cell_type": "code",
   "execution_count": 13,
   "metadata": {
    "collapsed": false,
    "scrolled": true
   },
   "outputs": [
    {
     "name": "stdout",
     "output_type": "stream",
     "text": [
      "Float64Index([1.0, 2.0, 3.0, 4.0, 5.0, 6.0, 7.0, 8.0, 9.0, 10.0, 11.0, 12.0], dtype='float64')\n",
      "1     2390\n",
      "2     2237\n",
      "3     2562\n",
      "4     2399\n",
      "5     2508\n",
      "6     2475\n",
      "7     2577\n",
      "8     2608\n",
      "9     2654\n",
      "10    2657\n",
      "11    2454\n",
      "12    2759\n",
      "Name: ESTU_NACIMIENTO_MES, dtype: int64\n",
      "Elementos null/NaN 41\n",
      "__________________\n",
      "Elementos diferentes de null/NaN: 30280\n",
      "__________________\n",
      "(30280,)\n",
      "None\n"
     ]
    }
   ],
   "source": [
    "c = 'ESTU_NACIMIENTO_MES'\n",
    "print(data_2010[c].value_counts().sort_index().index)\n",
    "print(data_2010[c].value_counts().sort_index())\n",
    "print(missing_data(data_2010[c]))"
   ]
  },
  {
   "cell_type": "code",
   "execution_count": 14,
   "metadata": {
    "collapsed": false,
    "scrolled": true
   },
   "outputs": [
    {
     "name": "stdout",
     "output_type": "stream",
     "text": [
      "Float64Index([1938.0, 1939.0, 1940.0, 1942.0, 1943.0, 1944.0, 1945.0, 1946.0,\n",
      "              1947.0, 1948.0, 1949.0, 1950.0, 1951.0, 1952.0, 1953.0, 1954.0,\n",
      "              1955.0, 1956.0, 1957.0, 1958.0, 1959.0, 1960.0, 1961.0, 1962.0,\n",
      "              1963.0, 1964.0, 1965.0, 1966.0, 1967.0, 1968.0, 1969.0, 1970.0,\n",
      "              1971.0, 1972.0, 1973.0, 1974.0, 1975.0, 1976.0, 1977.0, 1978.0,\n",
      "              1979.0, 1980.0, 1981.0, 1982.0, 1983.0, 1984.0, 1985.0, 1986.0,\n",
      "              1987.0, 1988.0, 1989.0, 1990.0, 1991.0, 1992.0, 1993.0, 1994.0,\n",
      "              1995.0, 1996.0, 1997.0, 2000.0, 2001.0, 2002.0, 2013.0],\n",
      "             dtype='float64')\n",
      "1938       1\n",
      "1939       1\n",
      "1940       2\n",
      "1942       2\n",
      "1943       1\n",
      "1944       3\n",
      "1945       1\n",
      "1946       4\n",
      "1947       5\n",
      "1948       4\n",
      "1949       4\n",
      "1950       7\n",
      "1951       5\n",
      "1952      17\n",
      "1953      16\n",
      "1954      10\n",
      "1955      11\n",
      "1956      23\n",
      "1957      24\n",
      "1958      35\n",
      "1959      33\n",
      "1960      36\n",
      "1961      34\n",
      "1962      56\n",
      "1963      57\n",
      "1964      71\n",
      "1965      68\n",
      "1966      76\n",
      "1967      82\n",
      "1968     105\n",
      "        ... \n",
      "1972     117\n",
      "1973     137\n",
      "1974     144\n",
      "1975     127\n",
      "1976     145\n",
      "1977     158\n",
      "1978     197\n",
      "1979     201\n",
      "1980     240\n",
      "1981     228\n",
      "1982     256\n",
      "1983     273\n",
      "1984     310\n",
      "1985     343\n",
      "1986     381\n",
      "1987     462\n",
      "1988     598\n",
      "1989     960\n",
      "1990    1697\n",
      "1991    4120\n",
      "1992    7743\n",
      "1993    8053\n",
      "1994    2058\n",
      "1995     153\n",
      "1996      21\n",
      "1997       6\n",
      "2000      22\n",
      "2001      21\n",
      "2002       2\n",
      "2013       1\n",
      "Name: ESTU_NACIMIENTO_ANNO, dtype: int64\n",
      "Elementos null/NaN 41\n",
      "__________________\n",
      "Elementos diferentes de null/NaN: 30280\n",
      "__________________\n",
      "(30280,)\n",
      "None\n"
     ]
    }
   ],
   "source": [
    "c = 'ESTU_NACIMIENTO_ANNO'\n",
    "print(data_2010[c].value_counts().sort_index().index)\n",
    "print(data_2010[c].value_counts().sort_index())\n",
    "print(missing_data(data_2010[c]))"
   ]
  },
  {
   "cell_type": "code",
   "execution_count": 15,
   "metadata": {
    "collapsed": false
   },
   "outputs": [],
   "source": [
    "data_2010['ESTU_NACIMIENTO_ANNO'] = data_2010['ESTU_NACIMIENTO_ANNO'].replace(2013, 2002)"
   ]
  },
  {
   "cell_type": "code",
   "execution_count": 16,
   "metadata": {
    "collapsed": true
   },
   "outputs": [],
   "source": [
    "anno = data_2010[data_2010[c].isnull()].index\n",
    "data_2010 = data_2010.drop(anno)"
   ]
  },
  {
   "cell_type": "code",
   "execution_count": 19,
   "metadata": {
    "collapsed": false,
    "scrolled": true
   },
   "outputs": [
    {
     "name": "stdout",
     "output_type": "stream",
     "text": [
      "Float64Index([12.0, 13.0, 14.0, 15.0, 16.0, 17.0, 18.0, 19.0, 20.0, 21.0, 22.0,\n",
      "              23.0, 24.0, 25.0, 26.0, 27.0, 28.0, 29.0, 30.0, 31.0, 32.0, 33.0,\n",
      "              34.0, 35.0, 36.0, 37.0, 38.0, 39.0, 40.0, 41.0, 42.0, 43.0, 44.0,\n",
      "              45.0, 46.0, 47.0, 48.0, 49.0, 50.0, 51.0, 52.0, 53.0, 54.0, 55.0,\n",
      "              56.0, 57.0, 58.0, 59.0, 60.0, 61.0, 62.0, 63.0, 64.0, 65.0, 66.0,\n",
      "              67.0, 69.0, 70.0, 71.0],\n",
      "             dtype='float64')\n",
      "12       4\n",
      "13      16\n",
      "14      97\n",
      "15    1300\n",
      "16    7383\n",
      "17    7931\n",
      "18    4972\n",
      "19    1931\n",
      "20    1041\n",
      "21     672\n",
      "22     464\n",
      "23     410\n",
      "24     347\n",
      "25     311\n",
      "26     287\n",
      "27     252\n",
      "28     230\n",
      "29     233\n",
      "30     210\n",
      "31     196\n",
      "32     170\n",
      "33     143\n",
      "34     133\n",
      "35     146\n",
      "36     134\n",
      "37     123\n",
      "38     114\n",
      "39     100\n",
      "40     103\n",
      "41     101\n",
      "42      91\n",
      "43      75\n",
      "44      68\n",
      "45      66\n",
      "46      64\n",
      "47      58\n",
      "48      34\n",
      "49      40\n",
      "50      33\n",
      "51      34\n",
      "52      28\n",
      "53      23\n",
      "54      12\n",
      "55      12\n",
      "56      13\n",
      "57      16\n",
      "58       8\n",
      "59       6\n",
      "60       6\n",
      "61       4\n",
      "62       4\n",
      "63       4\n",
      "64       2\n",
      "65       3\n",
      "66       1\n",
      "67       2\n",
      "69       2\n",
      "70       1\n",
      "71       1\n",
      "Name: ESTU_EDAD, dtype: int64\n",
      "Elementos null/NaN 15\n",
      "__________________\n",
      "Elementos diferentes de null/NaN: 30265\n",
      "__________________\n",
      "(30265,)\n",
      "None\n"
     ]
    }
   ],
   "source": [
    "c = 'ESTU_EDAD'\n",
    "print(data_2010[c].value_counts().sort_index().index)\n",
    "print(data_2010[c].value_counts().sort_index())\n",
    "print(missing_data(data_2010[c]))"
   ]
  },
  {
   "cell_type": "code",
   "execution_count": 20,
   "metadata": {
    "collapsed": true
   },
   "outputs": [],
   "source": [
    "data_2010[c].fillna(int(np.mean(data_2010[c])), inplace=True)"
   ]
  },
  {
   "cell_type": "code",
   "execution_count": 21,
   "metadata": {
    "collapsed": false
   },
   "outputs": [
    {
     "name": "stdout",
     "output_type": "stream",
     "text": [
      "Float64Index([], dtype='float64')\n",
      "Series([], Name: ESTU_LIMITA_BAJAVISION, dtype: int64)\n",
      "Elementos null/NaN 30280\n",
      "__________________\n",
      "Elementos diferentes de null/NaN: 0\n",
      "__________________\n",
      "(0,)\n",
      "None\n"
     ]
    }
   ],
   "source": [
    "c = 'ESTU_LIMITA_BAJAVISION'\n",
    "print(data_2010[c].value_counts().sort_index().index)\n",
    "print(data_2010[c].value_counts().sort_index())\n",
    "print(missing_data(data_2010[c]))"
   ]
  },
  {
   "cell_type": "code",
   "execution_count": 22,
   "metadata": {
    "collapsed": false
   },
   "outputs": [
    {
     "name": "stdout",
     "output_type": "stream",
     "text": [
      "Float64Index([], dtype='float64')\n",
      "Series([], Name: ESTU_LIMITA_SORDOCEGUERA, dtype: int64)\n",
      "Elementos null/NaN 30280\n",
      "__________________\n",
      "Elementos diferentes de null/NaN: 0\n",
      "__________________\n",
      "(0,)\n",
      "None\n"
     ]
    }
   ],
   "source": [
    "c = 'ESTU_LIMITA_SORDOCEGUERA'\n",
    "print(data_2010[c].value_counts().sort_index().index)\n",
    "print(data_2010[c].value_counts().sort_index())\n",
    "print(missing_data(data_2010[c]))"
   ]
  },
  {
   "cell_type": "code",
   "execution_count": 23,
   "metadata": {
    "collapsed": false
   },
   "outputs": [
    {
     "name": "stdout",
     "output_type": "stream",
     "text": [
      "Float64Index([], dtype='float64')\n",
      "Series([], Name: ESTU_LIMITA_COGNITIVA, dtype: int64)\n",
      "Elementos null/NaN 30280\n",
      "__________________\n",
      "Elementos diferentes de null/NaN: 0\n",
      "__________________\n",
      "(0,)\n",
      "None\n"
     ]
    }
   ],
   "source": [
    "c = 'ESTU_LIMITA_COGNITIVA'\n",
    "print(data_2010[c].value_counts().sort_index().index)\n",
    "print(data_2010[c].value_counts().sort_index())\n",
    "print(missing_data(data_2010[c]))"
   ]
  },
  {
   "cell_type": "code",
   "execution_count": 24,
   "metadata": {
    "collapsed": false
   },
   "outputs": [
    {
     "name": "stdout",
     "output_type": "stream",
     "text": [
      "Float64Index([], dtype='float64')\n",
      "Series([], Name: ESTU_LIMITA_INVIDENTE, dtype: int64)\n",
      "Elementos null/NaN 30280\n",
      "__________________\n",
      "Elementos diferentes de null/NaN: 0\n",
      "__________________\n",
      "(0,)\n",
      "None\n"
     ]
    }
   ],
   "source": [
    "c = 'ESTU_LIMITA_INVIDENTE'\n",
    "print(data_2010[c].value_counts().sort_index().index)\n",
    "print(data_2010[c].value_counts().sort_index())\n",
    "print(missing_data(data_2010[c]))"
   ]
  },
  {
   "cell_type": "code",
   "execution_count": 25,
   "metadata": {
    "collapsed": false
   },
   "outputs": [
    {
     "name": "stdout",
     "output_type": "stream",
     "text": [
      "Float64Index([], dtype='float64')\n",
      "Series([], Name: ESTU_LIMITA_MOTRIZ, dtype: int64)\n",
      "Elementos null/NaN 30280\n",
      "__________________\n",
      "Elementos diferentes de null/NaN: 0\n",
      "__________________\n",
      "(0,)\n",
      "None\n"
     ]
    }
   ],
   "source": [
    "c = 'ESTU_LIMITA_MOTRIZ'\n",
    "print(data_2010[c].value_counts().sort_index().index)\n",
    "print(data_2010[c].value_counts().sort_index())\n",
    "print(missing_data(data_2010[c]))"
   ]
  },
  {
   "cell_type": "code",
   "execution_count": 26,
   "metadata": {
    "collapsed": false
   },
   "outputs": [
    {
     "name": "stdout",
     "output_type": "stream",
     "text": [
      "Float64Index([], dtype='float64')\n",
      "Series([], Name: ESTU_LIMITA_SORDOINTERPRETE, dtype: int64)\n",
      "Elementos null/NaN 30280\n",
      "__________________\n",
      "Elementos diferentes de null/NaN: 0\n",
      "__________________\n",
      "(0,)\n",
      "None\n"
     ]
    }
   ],
   "source": [
    "c = 'ESTU_LIMITA_SORDOINTERPRETE'\n",
    "print(data_2010[c].value_counts().sort_index().index)\n",
    "print(data_2010[c].value_counts().sort_index())\n",
    "print(missing_data(data_2010[c]))"
   ]
  },
  {
   "cell_type": "code",
   "execution_count": 27,
   "metadata": {
    "collapsed": false,
    "scrolled": true
   },
   "outputs": [
    {
     "name": "stdout",
     "output_type": "stream",
     "text": [
      "Float64Index([], dtype='float64')\n",
      "Series([], Name: ESTU_LIMITA_SORDONOINTERPRETE, dtype: int64)\n",
      "Elementos null/NaN 30280\n",
      "__________________\n",
      "Elementos diferentes de null/NaN: 0\n",
      "__________________\n",
      "(0,)\n",
      "None\n"
     ]
    }
   ],
   "source": [
    "c = 'ESTU_LIMITA_SORDONOINTERPRETE'\n",
    "print(data_2010[c].value_counts().sort_index().index)\n",
    "print(data_2010[c].value_counts().sort_index())\n",
    "print(missing_data(data_2010[c]))"
   ]
  },
  {
   "cell_type": "code",
   "execution_count": 28,
   "metadata": {
    "collapsed": true
   },
   "outputs": [],
   "source": [
    "data_2010 = data_2010.drop(['ESTU_LIMITA_BAJAVISION', 'ESTU_LIMITA_SORDOCEGUERA', 'ESTU_LIMITA_COGNITIVA',\n",
    "                           'ESTU_LIMITA_INVIDENTE', 'ESTU_LIMITA_MOTRIZ', 'ESTU_LIMITA_SORDOINTERPRETE', \n",
    "                           'ESTU_LIMITA_SORDONOINTERPRETE'], axis=1)"
   ]
  },
  {
   "cell_type": "code",
   "execution_count": 29,
   "metadata": {
    "collapsed": false,
    "scrolled": true
   },
   "outputs": [
    {
     "name": "stdout",
     "output_type": "stream",
     "text": [
      "Float64Index([ 1.0,  2.0,  3.0,  4.0,  5.0,  6.0,  7.0,  8.0,  9.0, 11.0, 12.0,\n",
      "              13.0, 14.0, 15.0, 16.0, 17.0, 99.0],\n",
      "             dtype='float64')\n",
      "1     280\n",
      "2       3\n",
      "3      16\n",
      "4       1\n",
      "5       2\n",
      "6       2\n",
      "7       6\n",
      "8       4\n",
      "9      13\n",
      "11     32\n",
      "12      4\n",
      "13      1\n",
      "14      2\n",
      "15      2\n",
      "16      4\n",
      "17     11\n",
      "99    212\n",
      "Name: ESTU_ETNIA, dtype: int64\n",
      "Elementos null/NaN 29685\n",
      "__________________\n",
      "Elementos diferentes de null/NaN: 595\n",
      "__________________\n",
      "(595,)\n",
      "None\n"
     ]
    }
   ],
   "source": [
    "c = 'ESTU_ETNIA'\n",
    "print(data_2010[c].value_counts().sort_index().index)\n",
    "print(data_2010[c].value_counts().sort_index())\n",
    "print(missing_data(data_2010[c]))"
   ]
  },
  {
   "cell_type": "code",
   "execution_count": 30,
   "metadata": {
    "collapsed": false
   },
   "outputs": [],
   "source": [
    "data_2010[c].fillna(99, inplace=True)"
   ]
  },
  {
   "cell_type": "code",
   "execution_count": 31,
   "metadata": {
    "collapsed": false,
    "scrolled": true
   },
   "outputs": [
    {
     "name": "stdout",
     "output_type": "stream",
     "text": [
      "Index(['ABEJORRAL', 'ACACIAS', 'AGUA DE DIOS', 'AGUACHICA', 'AGUADA',\n",
      "       'AGUAZUL', 'AGUSTIN CODAZZI', 'AIPE', 'ALBAN (SAN JOSE)', 'ALBANIA',\n",
      "       ...\n",
      "       'VISTA HERMOSA', 'YAGUARA', 'YALI', 'YARUMAL', 'YONDO (CASABE)',\n",
      "       'YOPAL', 'YOTOCO', 'YUMBO', 'ZARZAL', 'ZIPAQUIRA'],\n",
      "      dtype='object', length=357)\n",
      "ABEJORRAL                     17\n",
      "ACACIAS                       10\n",
      "AGUA DE DIOS                   2\n",
      "AGUACHICA                     38\n",
      "AGUADA                         9\n",
      "AGUAZUL                       10\n",
      "AGUSTIN CODAZZI               15\n",
      "AIPE                           1\n",
      "ALBAN (SAN JOSE)               1\n",
      "ALBANIA                       76\n",
      "ALCALA                         1\n",
      "ALEJANDRIA                    29\n",
      "ANDALUCIA                      6\n",
      "ANGELOPOLIS                    1\n",
      "ANORI                          1\n",
      "ANSERMANUEVO                  14\n",
      "APARTADO                      65\n",
      "ARAUCA                        25\n",
      "ARCABUCO                      38\n",
      "ARGELIA                        7\n",
      "ARMENIA                       99\n",
      "ARMERO (GUAYABAL)              2\n",
      "ATACO                         14\n",
      "BARBACOAS                      1\n",
      "BARBOSA                       52\n",
      "BARICHARA                      1\n",
      "BARRANCA DE UPIA               1\n",
      "BARRANCABERMEJA                8\n",
      "BARRANCAS                      2\n",
      "BARRANQUILLA                 665\n",
      "                            ... \n",
      "TRUJILLO                       1\n",
      "TULUA                         52\n",
      "TUMACO                        10\n",
      "TUNJA                         92\n",
      "TURBACO                       24\n",
      "UBATE                         20\n",
      "UNE                            2\n",
      "VALDIVIA                       8\n",
      "VALLEDUPAR                   123\n",
      "VEGACHI                        1\n",
      "VELEZ                         35\n",
      "VIANI                          2\n",
      "VILLA DE LEYVA                44\n",
      "VILLA DEL ROSARIO              4\n",
      "VILLA GUAMEZ (LA HORMIGA)     24\n",
      "VILLA RICA                     4\n",
      "VILLAMARIA                     5\n",
      "VILLANUEVA                    11\n",
      "VILLAVICENCIO                234\n",
      "VILLETA                       16\n",
      "VISTA HERMOSA                  6\n",
      "YAGUARA                        1\n",
      "YALI                          26\n",
      "YARUMAL                        2\n",
      "YONDO (CASABE)                 4\n",
      "YOPAL                        192\n",
      "YOTOCO                         6\n",
      "YUMBO                        125\n",
      "ZARZAL                        48\n",
      "ZIPAQUIRA                     74\n",
      "Name: ESTU_RESIDE_MCPIO, dtype: int64\n",
      "Elementos null/NaN 0\n",
      "__________________\n",
      "Elementos diferentes de null/NaN: 30280\n",
      "__________________\n",
      "(30280,)\n",
      "None\n"
     ]
    }
   ],
   "source": [
    "c = 'ESTU_RESIDE_MCPIO'\n",
    "print(data_2010[c].value_counts().sort_index().index)\n",
    "print(data_2010[c].value_counts().sort_index())\n",
    "print(missing_data(data_2010[c]))"
   ]
  },
  {
   "cell_type": "code",
   "execution_count": 32,
   "metadata": {
    "collapsed": false,
    "scrolled": true
   },
   "outputs": [
    {
     "name": "stdout",
     "output_type": "stream",
     "text": [
      "Index(['AMAZONAS', 'ANTIOQUIA', 'ARAUCA', 'ATLÁNTICO', 'BOGOTÁ', 'BOLÍVAR',\n",
      "       'BOYACÁ', 'CALDAS', 'CAQUETÁ', 'CASANARE', 'CAUCA', 'CESAR', 'CHOCÓ',\n",
      "       'CUNDINAMARCA', 'CÓRDOBA', 'GUAINÍA', 'GUAVIARE', 'HUILA', 'LA GUAJIRA',\n",
      "       'MAGDALENA', 'META', 'NARIÑO', 'NORTE SANTANDER', 'PUTUMAYO', 'QUINDÍO',\n",
      "       'RISARALDA', 'SANTANDER', 'TOLIMA', 'VALLE', 'VAUPÉS', 'VICHADA'],\n",
      "      dtype='object')\n",
      "AMAZONAS              1\n",
      "ANTIOQUIA          5109\n",
      "ARAUCA               41\n",
      "ATLÁNTICO           696\n",
      "BOGOTÁ             6458\n",
      "BOLÍVAR             314\n",
      "BOYACÁ              438\n",
      "CALDAS              447\n",
      "CAQUETÁ             100\n",
      "CASANARE            278\n",
      "CAUCA              1119\n",
      "CESAR               178\n",
      "CHOCÓ                10\n",
      "CUNDINAMARCA       1045\n",
      "CÓRDOBA              40\n",
      "GUAINÍA              36\n",
      "GUAVIARE             28\n",
      "HUILA               367\n",
      "LA GUAJIRA          113\n",
      "MAGDALENA            96\n",
      "META                280\n",
      "NARIÑO             1281\n",
      "NORTE SANTANDER     160\n",
      "PUTUMAYO            108\n",
      "QUINDÍO             139\n",
      "RISARALDA           270\n",
      "SANTANDER           865\n",
      "TOLIMA              500\n",
      "VALLE              9755\n",
      "VAUPÉS                7\n",
      "VICHADA               1\n",
      "Name: ESTU_RESIDE_DEPTO, dtype: int64\n",
      "Elementos null/NaN 0\n",
      "__________________\n",
      "Elementos diferentes de null/NaN: 30280\n",
      "__________________\n",
      "(30280,)\n",
      "None\n"
     ]
    }
   ],
   "source": [
    "c = 'ESTU_RESIDE_DEPTO'\n",
    "print(data_2010[c].value_counts().sort_index().index)\n",
    "print(data_2010[c].value_counts().sort_index())\n",
    "print(missing_data(data_2010[c]))"
   ]
  },
  {
   "cell_type": "code",
   "execution_count": 33,
   "metadata": {
    "collapsed": false,
    "scrolled": true
   },
   "outputs": [
    {
     "name": "stdout",
     "output_type": "stream",
     "text": [
      "Float64Index([1.0, 2.0, 3.0, 4.0, 5.0, 6.0, 7.0, 8.0, 9.0, 10.0], dtype='float64')\n",
      "1      4721\n",
      "2      1019\n",
      "3       849\n",
      "4      4334\n",
      "5      1436\n",
      "6      1824\n",
      "7      1084\n",
      "8      1458\n",
      "9      1105\n",
      "10    12442\n",
      "Name: ESTU_ZONA_RESIDE, dtype: int64\n",
      "Elementos null/NaN 8\n",
      "__________________\n",
      "Elementos diferentes de null/NaN: 30272\n",
      "__________________\n",
      "(30272,)\n",
      "None\n"
     ]
    }
   ],
   "source": [
    "c = 'ESTU_ZONA_RESIDE'\n",
    "print(data_2010[c].value_counts().sort_index().index)\n",
    "print(data_2010[c].value_counts().sort_index())\n",
    "print(missing_data(data_2010[c]))"
   ]
  },
  {
   "cell_type": "code",
   "execution_count": 34,
   "metadata": {
    "collapsed": true
   },
   "outputs": [],
   "source": [
    "data_2010['ESTU_ZONA_RESIDE'].fillna(method='bfill', inplace=True)"
   ]
  },
  {
   "cell_type": "code",
   "execution_count": 35,
   "metadata": {
    "collapsed": false
   },
   "outputs": [
    {
     "name": "stdout",
     "output_type": "stream",
     "text": [
      "Float64Index([1.0, 2.0], dtype='float64')\n",
      "1    26061\n",
      "2     4215\n",
      "Name: ESTU_AREA_RESIDE, dtype: int64\n",
      "Elementos null/NaN 4\n",
      "__________________\n",
      "Elementos diferentes de null/NaN: 30276\n",
      "__________________\n",
      "(30276,)\n",
      "None\n"
     ]
    }
   ],
   "source": [
    "c = 'ESTU_AREA_RESIDE'\n",
    "print(data_2010[c].value_counts().sort_index().index)\n",
    "print(data_2010[c].value_counts().sort_index())\n",
    "print(missing_data(data_2010[c]))"
   ]
  },
  {
   "cell_type": "code",
   "execution_count": 36,
   "metadata": {
    "collapsed": false
   },
   "outputs": [
    {
     "name": "stdout",
     "output_type": "stream",
     "text": [
      "cant null antes: 4\n",
      "cant null despues: 0\n"
     ]
    }
   ],
   "source": [
    "Do_resamples(data_2010, 'ESTU_AREA_RESIDE', int)"
   ]
  },
  {
   "cell_type": "code",
   "execution_count": 37,
   "metadata": {
    "collapsed": false,
    "scrolled": true
   },
   "outputs": [
    {
     "name": "stdout",
     "output_type": "stream",
     "text": [
      "Float64Index([ 0.0,  1.0,  2.0,  3.0,  4.0,  5.0,  7.0,  8.0,  9.0, 10.0, 11.0,\n",
      "              12.0, 13.0, 14.0, 15.0, 16.0, 17.0, 99.0],\n",
      "             dtype='float64')\n",
      "0     1097\n",
      "1        2\n",
      "2        5\n",
      "3        5\n",
      "4        2\n",
      "5        5\n",
      "7        4\n",
      "8        2\n",
      "9     3441\n",
      "10    4220\n",
      "11    2677\n",
      "12    5758\n",
      "13     472\n",
      "14    1368\n",
      "15     666\n",
      "16    6048\n",
      "17    2695\n",
      "99    1811\n",
      "Name: FAMI_EDUCA_PADRE, dtype: int64\n",
      "Elementos null/NaN 2\n",
      "__________________\n",
      "Elementos diferentes de null/NaN: 30278\n",
      "__________________\n",
      "(30278,)\n",
      "None\n"
     ]
    }
   ],
   "source": [
    "c = 'FAMI_EDUCA_PADRE'\n",
    "print(data_2010[c].value_counts().sort_index().index)\n",
    "print(data_2010[c].value_counts().sort_index())\n",
    "print(missing_data(data_2010[c]))"
   ]
  },
  {
   "cell_type": "code",
   "execution_count": 38,
   "metadata": {
    "collapsed": false
   },
   "outputs": [
    {
     "name": "stdout",
     "output_type": "stream",
     "text": [
      "cant null antes: 2\n",
      "cant null despues: 0\n"
     ]
    }
   ],
   "source": [
    "Do_resamples(data_2010, 'FAMI_EDUCA_PADRE', float)"
   ]
  },
  {
   "cell_type": "code",
   "execution_count": 39,
   "metadata": {
    "collapsed": false,
    "scrolled": true
   },
   "outputs": [
    {
     "name": "stdout",
     "output_type": "stream",
     "text": [
      "Float64Index([ 0.0,  1.0,  2.0,  3.0,  4.0,  5.0,  7.0,  9.0, 10.0, 11.0, 12.0,\n",
      "              13.0, 14.0, 15.0, 16.0, 17.0, 99.0],\n",
      "             dtype='float64')\n",
      "0      732\n",
      "1        2\n",
      "2        5\n",
      "3        4\n",
      "4        5\n",
      "5        8\n",
      "7        4\n",
      "9     3202\n",
      "10    4354\n",
      "11    3132\n",
      "12    6335\n",
      "13     569\n",
      "14    1846\n",
      "15     786\n",
      "16    6193\n",
      "17    2132\n",
      "99     969\n",
      "Name: FAMI_EDUCA_MADRE, dtype: int64\n",
      "Elementos null/NaN 2\n",
      "__________________\n",
      "Elementos diferentes de null/NaN: 30278\n",
      "__________________\n",
      "(30278,)\n",
      "None\n"
     ]
    }
   ],
   "source": [
    "c = 'FAMI_EDUCA_MADRE'\n",
    "print(data_2010[c].value_counts().sort_index().index)\n",
    "print(data_2010[c].value_counts().sort_index())\n",
    "print(missing_data(data_2010[c]))"
   ]
  },
  {
   "cell_type": "code",
   "execution_count": 40,
   "metadata": {
    "collapsed": false
   },
   "outputs": [
    {
     "name": "stdout",
     "output_type": "stream",
     "text": [
      "cant null antes: 2\n",
      "cant null despues: 0\n"
     ]
    }
   ],
   "source": [
    "Do_resamples(data_2010, 'FAMI_EDUCA_MADRE', int)"
   ]
  },
  {
   "cell_type": "code",
   "execution_count": 41,
   "metadata": {
    "collapsed": false,
    "scrolled": true
   },
   "outputs": [
    {
     "name": "stdout",
     "output_type": "stream",
     "text": [
      "Float64Index([ 1.0,  2.0,  3.0,  5.0,  7.0,  8.0,  9.0, 12.0, 13.0, 14.0, 15.0,\n",
      "              16.0, 17.0, 18.0, 19.0, 20.0, 21.0, 22.0, 23.0, 26.0],\n",
      "             dtype='float64')\n",
      "1        2\n",
      "2        2\n",
      "3        3\n",
      "5        4\n",
      "7        5\n",
      "8        1\n",
      "9       15\n",
      "12       2\n",
      "13    1882\n",
      "14    2574\n",
      "15    1558\n",
      "16    1592\n",
      "17    1959\n",
      "18     863\n",
      "19    4492\n",
      "20    2515\n",
      "21    6209\n",
      "22     486\n",
      "23    1254\n",
      "26    4860\n",
      "Name: FAMI_OCUPA_PADRE, dtype: int64\n",
      "Elementos null/NaN 2\n",
      "__________________\n",
      "Elementos diferentes de null/NaN: 30278\n",
      "__________________\n",
      "(30278,)\n",
      "None\n"
     ]
    }
   ],
   "source": [
    "c = 'FAMI_OCUPA_PADRE'\n",
    "print(data_2010[c].value_counts().sort_index().index)\n",
    "print(data_2010[c].value_counts().sort_index())\n",
    "print(missing_data(data_2010[c]))"
   ]
  },
  {
   "cell_type": "code",
   "execution_count": 42,
   "metadata": {
    "collapsed": false
   },
   "outputs": [
    {
     "name": "stdout",
     "output_type": "stream",
     "text": [
      "cant null antes: 2\n",
      "cant null despues: 0\n"
     ]
    }
   ],
   "source": [
    "Do_resamples(data_2010, 'FAMI_OCUPA_PADRE', int)"
   ]
  },
  {
   "cell_type": "code",
   "execution_count": 43,
   "metadata": {
    "collapsed": false,
    "scrolled": true
   },
   "outputs": [
    {
     "name": "stdout",
     "output_type": "stream",
     "text": [
      "Float64Index([ 1.0,  2.0,  3.0,  5.0,  6.0,  7.0,  9.0, 10.0, 12.0, 13.0, 14.0,\n",
      "              15.0, 16.0, 17.0, 18.0, 19.0, 20.0, 21.0, 22.0, 23.0, 26.0],\n",
      "             dtype='float64')\n",
      "1         1\n",
      "2         1\n",
      "3         1\n",
      "5         1\n",
      "6         1\n",
      "7         1\n",
      "9         7\n",
      "10       18\n",
      "12        3\n",
      "13      809\n",
      "14     1290\n",
      "15      957\n",
      "16     1408\n",
      "17     1807\n",
      "18     1019\n",
      "19     2721\n",
      "20     1914\n",
      "21     3040\n",
      "22    11940\n",
      "23      527\n",
      "26     2812\n",
      "Name: FAMI_OCUPA_MADRE, dtype: int64\n",
      "Elementos null/NaN 2\n",
      "__________________\n",
      "Elementos diferentes de null/NaN: 30278\n",
      "__________________\n",
      "(30278,)\n",
      "None\n"
     ]
    }
   ],
   "source": [
    "c = 'FAMI_OCUPA_MADRE'\n",
    "print(data_2010[c].value_counts().sort_index().index)\n",
    "print(data_2010[c].value_counts().sort_index())\n",
    "print(missing_data(data_2010[c]))"
   ]
  },
  {
   "cell_type": "code",
   "execution_count": 44,
   "metadata": {
    "collapsed": false
   },
   "outputs": [],
   "source": [
    "educa_P = data_2010[data_2010['FAMI_EDUCA_PADRE'].isnull()].index\n",
    "educa_M = data_2010[data_2010['FAMI_EDUCA_MADRE'].isnull()].index\n",
    "ocupa_P = data_2010[data_2010['FAMI_OCUPA_PADRE'].isnull()].index\n",
    "ocupa_M = data_2010[data_2010['FAMI_OCUPA_MADRE'].isnull()].index\n",
    "#Son los mismos 33 index... se eliminaran\n",
    "data_2010 = data_2010.drop(ocupa_M)"
   ]
  },
  {
   "cell_type": "code",
   "execution_count": 45,
   "metadata": {
    "collapsed": false
   },
   "outputs": [
    {
     "name": "stdout",
     "output_type": "stream",
     "text": [
      "Float64Index([1.0, 2.0, 3.0, 4.0, 5.0, 6.0, 8.0], dtype='float64')\n",
      "1    4557\n",
      "2    9222\n",
      "3    7684\n",
      "4    3482\n",
      "5    2721\n",
      "6    2513\n",
      "8       1\n",
      "Name: FAMI_ESTRATO_VIVIENDA, dtype: int64\n",
      "Elementos null/NaN 98\n",
      "__________________\n",
      "Elementos diferentes de null/NaN: 30180\n",
      "__________________\n",
      "(30180,)\n",
      "None\n"
     ]
    }
   ],
   "source": [
    "c = 'FAMI_ESTRATO_VIVIENDA'\n",
    "print(data_2010[c].value_counts().sort_index().index)\n",
    "print(data_2010[c].value_counts().sort_index())\n",
    "print(missing_data(data_2010[c]))"
   ]
  },
  {
   "cell_type": "code",
   "execution_count": 46,
   "metadata": {
    "collapsed": false
   },
   "outputs": [
    {
     "name": "stdout",
     "output_type": "stream",
     "text": [
      "cant null antes: 98\n",
      "cant null despues: 0\n"
     ]
    }
   ],
   "source": [
    "data_2010['FAMI_ESTRATO_VIVIENDA'] = data_2010['FAMI_ESTRATO_VIVIENDA'].replace(8, 6)\n",
    "Do_resamples(data_2010, 'FAMI_ESTRATO_VIVIENDA', float)"
   ]
  },
  {
   "cell_type": "code",
   "execution_count": 47,
   "metadata": {
    "collapsed": false
   },
   "outputs": [
    {
     "name": "stdout",
     "output_type": "stream",
     "text": [
      "Float64Index([1.0, 2.0, 3.0, 4.0, 5.0], dtype='float64')\n",
      "1     5149\n",
      "2     5758\n",
      "3     1277\n",
      "4      329\n",
      "5    17765\n",
      "Name: FAMI_NIVEL_SISBEN, dtype: int64\n",
      "Elementos null/NaN 0\n",
      "__________________\n",
      "Elementos diferentes de null/NaN: 30278\n",
      "__________________\n",
      "(30278,)\n",
      "None\n"
     ]
    }
   ],
   "source": [
    "c = 'FAMI_NIVEL_SISBEN'\n",
    "print(data_2010[c].value_counts().sort_index().index)\n",
    "print(data_2010[c].value_counts().sort_index())\n",
    "print(missing_data(data_2010[c]))"
   ]
  },
  {
   "cell_type": "code",
   "execution_count": 48,
   "metadata": {
    "collapsed": false
   },
   "outputs": [
    {
     "name": "stdout",
     "output_type": "stream",
     "text": [
      "Float64Index([1.0, 2.0, 3.0, 4.0, 5.0, 6.0, 7.0, 8.0, 9.0, 10.0, 11.0, 12.0], dtype='float64')\n",
      "1       306\n",
      "2      2087\n",
      "3      6264\n",
      "4     10168\n",
      "5      6378\n",
      "6      2724\n",
      "7      1114\n",
      "8       575\n",
      "9       290\n",
      "10      167\n",
      "11       78\n",
      "12      127\n",
      "Name: FAMI_PERSONAS_HOGAR, dtype: int64\n",
      "Elementos null/NaN 0\n",
      "__________________\n",
      "Elementos diferentes de null/NaN: 30278\n",
      "__________________\n",
      "(30278,)\n",
      "None\n"
     ]
    }
   ],
   "source": [
    "c = 'FAMI_PERSONAS_HOGAR'\n",
    "print(data_2010[c].value_counts().sort_index().index)\n",
    "print(data_2010[c].value_counts().sort_index())\n",
    "print(missing_data(data_2010[c]))"
   ]
  },
  {
   "cell_type": "code",
   "execution_count": 49,
   "metadata": {
    "collapsed": false
   },
   "outputs": [
    {
     "name": "stdout",
     "output_type": "stream",
     "text": [
      "Float64Index([1.0, 2.0, 3.0, 4.0, 5.0, 6.0, 7.0, 8.0, 9.0, 10.0], dtype='float64')\n",
      "1      1084\n",
      "2      8023\n",
      "3     13035\n",
      "4      5530\n",
      "5      1676\n",
      "6       556\n",
      "7       172\n",
      "8       113\n",
      "9        36\n",
      "10       53\n",
      "Name: FAMI_CUARTOS_HOGAR, dtype: int64\n",
      "Elementos null/NaN 0\n",
      "__________________\n",
      "Elementos diferentes de null/NaN: 30278\n",
      "__________________\n",
      "(30278,)\n",
      "None\n"
     ]
    }
   ],
   "source": [
    "c = 'FAMI_CUARTOS_HOGAR'\n",
    "print(data_2010[c].value_counts().sort_index().index)\n",
    "print(data_2010[c].value_counts().sort_index())\n",
    "print(missing_data(data_2010[c]))"
   ]
  },
  {
   "cell_type": "code",
   "execution_count": 50,
   "metadata": {
    "collapsed": false
   },
   "outputs": [
    {
     "name": "stdout",
     "output_type": "stream",
     "text": [
      "Float64Index([1.0, 2.0, 3.0, 4.0, 5.0], dtype='float64')\n",
      "1      442\n",
      "2     8888\n",
      "3     1193\n",
      "4    19673\n",
      "5       82\n",
      "Name: FAMI_PISOSHOGAR, dtype: int64\n",
      "Elementos null/NaN 0\n",
      "__________________\n",
      "Elementos diferentes de null/NaN: 30278\n",
      "__________________\n",
      "(30278,)\n",
      "None\n"
     ]
    }
   ],
   "source": [
    "c = 'FAMI_PISOSHOGAR'\n",
    "print(data_2010[c].value_counts().sort_index().index)\n",
    "print(data_2010[c].value_counts().sort_index())\n",
    "print(missing_data(data_2010[c]))"
   ]
  },
  {
   "cell_type": "code",
   "execution_count": 51,
   "metadata": {
    "collapsed": false
   },
   "outputs": [
    {
     "name": "stdout",
     "output_type": "stream",
     "text": [
      "Float64Index([0.0, 1.0], dtype='float64')\n",
      "0     7387\n",
      "1    22890\n",
      "Name: FAMI_TELEFONO_FIJO, dtype: int64\n",
      "Elementos null/NaN 1\n",
      "__________________\n",
      "Elementos diferentes de null/NaN: 30277\n",
      "__________________\n",
      "(30277,)\n",
      "None\n"
     ]
    }
   ],
   "source": [
    "c = 'FAMI_TELEFONO_FIJO'\n",
    "print(data_2010[c].value_counts().sort_index().index)\n",
    "print(data_2010[c].value_counts().sort_index())\n",
    "print(missing_data(data_2010[c]))"
   ]
  },
  {
   "cell_type": "code",
   "execution_count": 52,
   "metadata": {
    "collapsed": false
   },
   "outputs": [],
   "source": [
    "data_2010 = data_2010.drop(data_2010[data_2010['FAMI_TELEFONO_FIJO'].isnull()].index)"
   ]
  },
  {
   "cell_type": "code",
   "execution_count": 53,
   "metadata": {
    "collapsed": false
   },
   "outputs": [
    {
     "name": "stdout",
     "output_type": "stream",
     "text": [
      "Float64Index([0.0, 1.0], dtype='float64')\n",
      "0     2935\n",
      "1    27340\n",
      "Name: FAMI_CELULAR, dtype: int64\n",
      "Elementos null/NaN 2\n",
      "__________________\n",
      "Elementos diferentes de null/NaN: 30275\n",
      "__________________\n",
      "(30275,)\n",
      "None\n"
     ]
    }
   ],
   "source": [
    "c = 'FAMI_CELULAR'\n",
    "print(data_2010[c].value_counts().sort_index().index)\n",
    "print(data_2010[c].value_counts().sort_index())\n",
    "print(missing_data(data_2010[c]))"
   ]
  },
  {
   "cell_type": "code",
   "execution_count": 54,
   "metadata": {
    "collapsed": true
   },
   "outputs": [],
   "source": [
    "data_2010 = data_2010.drop(data_2010[data_2010['FAMI_CELULAR'].isnull()].index)"
   ]
  },
  {
   "cell_type": "code",
   "execution_count": 55,
   "metadata": {
    "collapsed": false
   },
   "outputs": [
    {
     "name": "stdout",
     "output_type": "stream",
     "text": [
      "Float64Index([0.0, 1.0], dtype='float64')\n",
      "0    13864\n",
      "1    16411\n",
      "Name: FAMI_INTERNET, dtype: int64\n",
      "Elementos null/NaN 0\n",
      "__________________\n",
      "Elementos diferentes de null/NaN: 30275\n",
      "__________________\n",
      "(30275,)\n",
      "None\n"
     ]
    }
   ],
   "source": [
    "c = 'FAMI_INTERNET'\n",
    "print(data_2010[c].value_counts().sort_index().index)\n",
    "print(data_2010[c].value_counts().sort_index())\n",
    "print(missing_data(data_2010[c]))"
   ]
  },
  {
   "cell_type": "code",
   "execution_count": 56,
   "metadata": {
    "collapsed": false
   },
   "outputs": [
    {
     "name": "stdout",
     "output_type": "stream",
     "text": [
      "Float64Index([0.0, 1.0], dtype='float64')\n",
      "0     7914\n",
      "1    22361\n",
      "Name: FAMI_SERVICIO_TELEVISION, dtype: int64\n",
      "Elementos null/NaN 0\n",
      "__________________\n",
      "Elementos diferentes de null/NaN: 30275\n",
      "__________________\n",
      "(30275,)\n",
      "None\n"
     ]
    }
   ],
   "source": [
    "c = 'FAMI_SERVICIO_TELEVISION'\n",
    "print(data_2010[c].value_counts().sort_index().index)\n",
    "print(data_2010[c].value_counts().sort_index())\n",
    "print(missing_data(data_2010[c]))"
   ]
  },
  {
   "cell_type": "code",
   "execution_count": 57,
   "metadata": {
    "collapsed": false
   },
   "outputs": [
    {
     "name": "stdout",
     "output_type": "stream",
     "text": [
      "Float64Index([0.0, 1.0, 3.0], dtype='float64')\n",
      "0    10327\n",
      "1       25\n",
      "3    19923\n",
      "Name: FAMI_COMPUTADOR, dtype: int64\n",
      "Elementos null/NaN 0\n",
      "__________________\n",
      "Elementos diferentes de null/NaN: 30275\n",
      "__________________\n",
      "(30275,)\n",
      "None\n"
     ]
    }
   ],
   "source": [
    "c = 'FAMI_COMPUTADOR'\n",
    "print(data_2010[c].value_counts().sort_index().index)\n",
    "print(data_2010[c].value_counts().sort_index())\n",
    "print(missing_data(data_2010[c]))"
   ]
  },
  {
   "cell_type": "code",
   "execution_count": 58,
   "metadata": {
    "collapsed": false
   },
   "outputs": [
    {
     "name": "stdout",
     "output_type": "stream",
     "text": [
      "Float64Index([0.0, 1.0], dtype='float64')\n",
      "0     8629\n",
      "1    21646\n",
      "Name: FAMI_LAVADORA, dtype: int64\n",
      "Elementos null/NaN 0\n",
      "__________________\n",
      "Elementos diferentes de null/NaN: 30275\n",
      "__________________\n",
      "(30275,)\n",
      "None\n"
     ]
    }
   ],
   "source": [
    "c = 'FAMI_LAVADORA'\n",
    "print(data_2010[c].value_counts().sort_index().index)\n",
    "print(data_2010[c].value_counts().sort_index())\n",
    "print(missing_data(data_2010[c]))"
   ]
  },
  {
   "cell_type": "code",
   "execution_count": 59,
   "metadata": {
    "collapsed": false
   },
   "outputs": [
    {
     "name": "stdout",
     "output_type": "stream",
     "text": [
      "Float64Index([0.0, 1.0], dtype='float64')\n",
      "0     1949\n",
      "1    28326\n",
      "Name: FAMI_NEVERA, dtype: int64\n",
      "Elementos null/NaN 0\n",
      "__________________\n",
      "Elementos diferentes de null/NaN: 30275\n",
      "__________________\n",
      "(30275,)\n",
      "None\n"
     ]
    }
   ],
   "source": [
    "c = 'FAMI_NEVERA'\n",
    "print(data_2010[c].value_counts().sort_index().index)\n",
    "print(data_2010[c].value_counts().sort_index())\n",
    "print(missing_data(data_2010[c]))"
   ]
  },
  {
   "cell_type": "code",
   "execution_count": 60,
   "metadata": {
    "collapsed": false
   },
   "outputs": [
    {
     "name": "stdout",
     "output_type": "stream",
     "text": [
      "Float64Index([0.0, 1.0], dtype='float64')\n",
      "0    11683\n",
      "1    18592\n",
      "Name: FAMI_HORNO, dtype: int64\n",
      "Elementos null/NaN 0\n",
      "__________________\n",
      "Elementos diferentes de null/NaN: 30275\n",
      "__________________\n",
      "(30275,)\n",
      "None\n"
     ]
    }
   ],
   "source": [
    "c = 'FAMI_HORNO'\n",
    "print(data_2010[c].value_counts().sort_index().index)\n",
    "print(data_2010[c].value_counts().sort_index())\n",
    "print(missing_data(data_2010[c]))"
   ]
  },
  {
   "cell_type": "code",
   "execution_count": 61,
   "metadata": {
    "collapsed": false
   },
   "outputs": [
    {
     "name": "stdout",
     "output_type": "stream",
     "text": [
      "Float64Index([0.0, 1.0], dtype='float64')\n",
      "0     7458\n",
      "1    22817\n",
      "Name: FAMI_DVD, dtype: int64\n",
      "Elementos null/NaN 0\n",
      "__________________\n",
      "Elementos diferentes de null/NaN: 30275\n",
      "__________________\n",
      "(30275,)\n",
      "None\n"
     ]
    }
   ],
   "source": [
    "c = 'FAMI_DVD'\n",
    "print(data_2010[c].value_counts().sort_index().index)\n",
    "print(data_2010[c].value_counts().sort_index())\n",
    "print(missing_data(data_2010[c]))"
   ]
  },
  {
   "cell_type": "code",
   "execution_count": 62,
   "metadata": {
    "collapsed": false
   },
   "outputs": [
    {
     "name": "stdout",
     "output_type": "stream",
     "text": [
      "Float64Index([0.0, 1.0], dtype='float64')\n",
      "0    15924\n",
      "1    14351\n",
      "Name: FAMI_MICROONDAS, dtype: int64\n",
      "Elementos null/NaN 0\n",
      "__________________\n",
      "Elementos diferentes de null/NaN: 30275\n",
      "__________________\n",
      "(30275,)\n",
      "None\n"
     ]
    }
   ],
   "source": [
    "c = 'FAMI_MICROONDAS'\n",
    "print(data_2010[c].value_counts().sort_index().index)\n",
    "print(data_2010[c].value_counts().sort_index())\n",
    "print(missing_data(data_2010[c]))"
   ]
  },
  {
   "cell_type": "code",
   "execution_count": 63,
   "metadata": {
    "collapsed": false
   },
   "outputs": [
    {
     "name": "stdout",
     "output_type": "stream",
     "text": [
      "Float64Index([0.0, 1.0], dtype='float64')\n",
      "0    18294\n",
      "1    11981\n",
      "Name: FAMI_AUTOMOVIL, dtype: int64\n",
      "Elementos null/NaN 0\n",
      "__________________\n",
      "Elementos diferentes de null/NaN: 30275\n",
      "__________________\n",
      "(30275,)\n",
      "None\n"
     ]
    }
   ],
   "source": [
    "c = 'FAMI_AUTOMOVIL'\n",
    "print(data_2010[c].value_counts().sort_index().index)\n",
    "print(data_2010[c].value_counts().sort_index())\n",
    "print(missing_data(data_2010[c]))"
   ]
  },
  {
   "cell_type": "code",
   "execution_count": 64,
   "metadata": {
    "collapsed": false
   },
   "outputs": [
    {
     "name": "stdout",
     "output_type": "stream",
     "text": [
      "Float64Index([1.0, 2.0, 3.0, 4.0, 5.0, 6.0, 7.0], dtype='float64')\n",
      "1     4231\n",
      "2    11197\n",
      "3     5094\n",
      "4     3340\n",
      "5     1783\n",
      "6     1488\n",
      "7     3142\n",
      "Name: FAMI_INGRESO_FMILIAR_MENSUAL, dtype: int64\n",
      "Elementos null/NaN 0\n",
      "__________________\n",
      "Elementos diferentes de null/NaN: 30275\n",
      "__________________\n",
      "(30275,)\n",
      "None\n"
     ]
    }
   ],
   "source": [
    "c = 'FAMI_INGRESO_FMILIAR_MENSUAL'\n",
    "print(data_2010[c].value_counts().sort_index().index)\n",
    "print(data_2010[c].value_counts().sort_index())\n",
    "print(missing_data(data_2010[c]))"
   ]
  },
  {
   "cell_type": "code",
   "execution_count": 65,
   "metadata": {
    "collapsed": false
   },
   "outputs": [
    {
     "name": "stdout",
     "output_type": "stream",
     "text": [
      "Float64Index([0.0, 1.0, 2.0, 3.0, 4.0, 5.0, 6.0, 7.0], dtype='float64')\n",
      "0    24344\n",
      "1        2\n",
      "2        1\n",
      "3       63\n",
      "4       33\n",
      "5       56\n",
      "6     1860\n",
      "7     3870\n",
      "Name: ESTU_TRABAJA, dtype: int64\n",
      "Elementos null/NaN 46\n",
      "__________________\n",
      "Elementos diferentes de null/NaN: 30229\n",
      "__________________\n",
      "(30229,)\n",
      "None\n"
     ]
    }
   ],
   "source": [
    "c = 'ESTU_TRABAJA'\n",
    "print(data_2010[c].value_counts().sort_index().index)\n",
    "print(data_2010[c].value_counts().sort_index())\n",
    "print(missing_data(data_2010[c]))"
   ]
  },
  {
   "cell_type": "code",
   "execution_count": 66,
   "metadata": {
    "collapsed": false
   },
   "outputs": [
    {
     "name": "stdout",
     "output_type": "stream",
     "text": [
      "cant null antes: 46\n",
      "cant null despues: 0\n"
     ]
    }
   ],
   "source": [
    "Do_resamples(data_2010, 'ESTU_TRABAJA', float)"
   ]
  },
  {
   "cell_type": "code",
   "execution_count": 67,
   "metadata": {
    "collapsed": false,
    "scrolled": false
   },
   "outputs": [
    {
     "name": "stdout",
     "output_type": "stream",
     "text": [
      "Float64Index([3.0, 4.0, 5.0, 6.0, 7.0, 8.0, 10.0, 11.0, 12.0, 15.0, 16.0, 18.0,\n",
      "              20.0],\n",
      "             dtype='float64')\n",
      "3      1\n",
      "4      3\n",
      "5      2\n",
      "6      2\n",
      "7      1\n",
      "8     10\n",
      "10    10\n",
      "11     1\n",
      "12     3\n",
      "15     2\n",
      "16     3\n",
      "18     3\n",
      "20    80\n",
      "Name: ESTU_HORAS_TRABAJA, dtype: int64\n",
      "Elementos null/NaN 30154\n",
      "__________________\n",
      "Elementos diferentes de null/NaN: 121\n",
      "__________________\n",
      "(121,)\n",
      "None\n"
     ]
    }
   ],
   "source": [
    "c = 'ESTU_HORAS_TRABAJA'\n",
    "print(data_2010[c].value_counts().sort_index().index)\n",
    "print(data_2010[c].value_counts().sort_index())\n",
    "print(missing_data(data_2010[c]))"
   ]
  },
  {
   "cell_type": "code",
   "execution_count": 68,
   "metadata": {
    "collapsed": false
   },
   "outputs": [
    {
     "name": "stdout",
     "output_type": "stream",
     "text": [
      "cant null antes: 30154\n",
      "cant null despues: 0\n"
     ]
    }
   ],
   "source": [
    "Do_resamples(data_2010, 'ESTU_HORAS_TRABAJA', float)"
   ]
  },
  {
   "cell_type": "code",
   "execution_count": 69,
   "metadata": {
    "collapsed": false,
    "scrolled": true
   },
   "outputs": [
    {
     "name": "stdout",
     "output_type": "stream",
     "text": [
      "Float64Index([0.0, 1.0, 5.0, 8.0, 9.0, 10.0, 11.0, 12.0], dtype='float64')\n",
      "0     7322\n",
      "1        3\n",
      "5        1\n",
      "8     9868\n",
      "9     2083\n",
      "10    1440\n",
      "11    2759\n",
      "12    6782\n",
      "Name: COLE_VALOR_PENSION, dtype: int64\n",
      "Elementos null/NaN 17\n",
      "__________________\n",
      "Elementos diferentes de null/NaN: 30258\n",
      "__________________\n",
      "(30258,)\n",
      "None\n"
     ]
    }
   ],
   "source": [
    "c = 'COLE_VALOR_PENSION'\n",
    "print(data_2010[c].value_counts().sort_index().index)\n",
    "print(data_2010[c].value_counts().sort_index())\n",
    "print(missing_data(data_2010[c]))"
   ]
  },
  {
   "cell_type": "code",
   "execution_count": 70,
   "metadata": {
    "collapsed": false
   },
   "outputs": [
    {
     "name": "stdout",
     "output_type": "stream",
     "text": [
      "cant null antes: 17\n",
      "cant null despues: 0\n"
     ]
    }
   ],
   "source": [
    "Do_resamples(data_2010, 'COLE_VALOR_PENSION', float)"
   ]
  },
  {
   "cell_type": "code",
   "execution_count": 71,
   "metadata": {
    "collapsed": false
   },
   "outputs": [
    {
     "name": "stdout",
     "output_type": "stream",
     "text": [
      "Float64Index([1993.0, 2006.0, 2009.0, 2010.0, 2011.0, 2012.0], dtype='float64')\n",
      "1993        1\n",
      "2006        1\n",
      "2009       28\n",
      "2010    30204\n",
      "2011       29\n",
      "2012        3\n",
      "Name: IND_ANNO_TERMINO_BACHILLERATO, dtype: int64\n",
      "Elementos null/NaN 9\n",
      "__________________\n",
      "Elementos diferentes de null/NaN: 30266\n",
      "__________________\n",
      "(30266,)\n",
      "None\n"
     ]
    }
   ],
   "source": [
    "c = 'IND_ANNO_TERMINO_BACHILLERATO'\n",
    "print(data_2010[c].value_counts().sort_index().index)\n",
    "print(data_2010[c].value_counts().sort_index())\n",
    "print(missing_data(data_2010[c]))"
   ]
  },
  {
   "cell_type": "code",
   "execution_count": 72,
   "metadata": {
    "collapsed": true
   },
   "outputs": [],
   "source": [
    "idx = data_2010[data_2010['IND_ANNO_TERMINO_BACHILLERATO'].isnull()].index\n",
    "data_2010 = data_2010.drop(idx)"
   ]
  },
  {
   "cell_type": "code",
   "execution_count": 73,
   "metadata": {
    "collapsed": false
   },
   "outputs": [
    {
     "name": "stdout",
     "output_type": "stream",
     "text": [
      "Float64Index([1.0, 2.0, 3.0, 4.0, 5.0, 6.0, 7.0, 8.0, 9.0, 10.0, 11.0, 12.0], dtype='float64')\n",
      "1       279\n",
      "2       382\n",
      "3      1232\n",
      "4      1995\n",
      "5      1357\n",
      "6     15459\n",
      "7      6404\n",
      "8      1427\n",
      "9       261\n",
      "10      290\n",
      "11      197\n",
      "12      526\n",
      "Name: IND_MES_TERMINO_BACHILLERATO, dtype: int64\n",
      "Elementos null/NaN 457\n",
      "__________________\n",
      "Elementos diferentes de null/NaN: 29809\n",
      "__________________\n",
      "(29809,)\n",
      "None\n"
     ]
    }
   ],
   "source": [
    "c = 'IND_MES_TERMINO_BACHILLERATO'\n",
    "print(data_2010[c].value_counts().sort_index().index)\n",
    "print(data_2010[c].value_counts().sort_index())\n",
    "print(missing_data(data_2010[c]))"
   ]
  },
  {
   "cell_type": "code",
   "execution_count": 74,
   "metadata": {
    "collapsed": false
   },
   "outputs": [
    {
     "name": "stdout",
     "output_type": "stream",
     "text": [
      "cant null antes: 457\n",
      "cant null despues: 0\n"
     ]
    }
   ],
   "source": [
    "Do_resamples(data_2010, 'IND_MES_TERMINO_BACHILLERATO', float)"
   ]
  },
  {
   "cell_type": "code",
   "execution_count": 75,
   "metadata": {
    "collapsed": false
   },
   "outputs": [
    {
     "name": "stdout",
     "output_type": "stream",
     "text": [
      "Float64Index([1.0], dtype='float64')\n",
      "1    1942\n",
      "Name: IND_TERMINO_BACHILLERATO, dtype: int64\n",
      "Elementos null/NaN 28324\n",
      "__________________\n",
      "Elementos diferentes de null/NaN: 1942\n",
      "__________________\n",
      "(1942,)\n",
      "None\n"
     ]
    }
   ],
   "source": [
    "c = 'IND_TERMINO_BACHILLERATO'\n",
    "print(data_2010[c].value_counts().sort_index().index)\n",
    "print(data_2010[c].value_counts().sort_index())\n",
    "print(missing_data(data_2010[c]))"
   ]
  },
  {
   "cell_type": "code",
   "execution_count": 76,
   "metadata": {
    "collapsed": true
   },
   "outputs": [],
   "source": [
    "data_2010 = data_2010.drop(['IND_TERMINO_BACHILLERATO'], axis=1)"
   ]
  },
  {
   "cell_type": "code",
   "execution_count": 77,
   "metadata": {
    "collapsed": false,
    "scrolled": true
   },
   "outputs": [
    {
     "name": "stdout",
     "output_type": "stream",
     "text": [
      "Float64Index([     2.0,      3.0,    182.0,    638.0,   3046.0,   3327.0,\n",
      "                3418.0,   3459.0,   3525.0,   4234.0,\n",
      "              ...\n",
      "              167205.0, 168161.0, 168500.0, 169664.0, 170381.0, 170449.0,\n",
      "              172098.0, 172734.0, 174003.0, 999999.0],\n",
      "             dtype='float64', length=1154)\n",
      "2           1\n",
      "3          58\n",
      "182       113\n",
      "638       186\n",
      "3046       57\n",
      "3327        7\n",
      "3418       38\n",
      "3459       82\n",
      "3525       74\n",
      "4234       45\n",
      "6023      110\n",
      "6775       12\n",
      "7013       53\n",
      "7054        6\n",
      "7070       73\n",
      "7088       48\n",
      "7682        1\n",
      "8581       10\n",
      "9110       96\n",
      "9910        2\n",
      "9985        9\n",
      "9993       48\n",
      "10009       1\n",
      "10017       2\n",
      "10041       1\n",
      "11239      82\n",
      "11254      32\n",
      "11262      76\n",
      "11270      82\n",
      "11288     103\n",
      "         ... \n",
      "150128      8\n",
      "150136     29\n",
      "150185      1\n",
      "150235      1\n",
      "150243     19\n",
      "150359      6\n",
      "150391     22\n",
      "150409     21\n",
      "150458     36\n",
      "150474      1\n",
      "150482      3\n",
      "150516     38\n",
      "150581     18\n",
      "151373      1\n",
      "152660      1\n",
      "156455      1\n",
      "156554      1\n",
      "159533      1\n",
      "163022      1\n",
      "164129      1\n",
      "167205      1\n",
      "168161      2\n",
      "168500      1\n",
      "169664      1\n",
      "170381      1\n",
      "170449      1\n",
      "172098      1\n",
      "172734      1\n",
      "174003      1\n",
      "999999     30\n",
      "Name: IND_COD_ICFES_TERMINO, dtype: int64\n",
      "Elementos null/NaN 142\n",
      "__________________\n",
      "Elementos diferentes de null/NaN: 30124\n",
      "__________________\n",
      "(30124,)\n",
      "None\n"
     ]
    }
   ],
   "source": [
    "c = 'IND_COD_ICFES_TERMINO'\n",
    "print(data_2010[c].value_counts().sort_index().index)\n",
    "print(data_2010[c].value_counts().sort_index())\n",
    "print(missing_data(data_2010[c]))"
   ]
  },
  {
   "cell_type": "code",
   "execution_count": 78,
   "metadata": {
    "collapsed": false
   },
   "outputs": [
    {
     "name": "stdout",
     "output_type": "stream",
     "text": [
      "cant null antes: 142\n",
      "cant null despues: 0\n"
     ]
    }
   ],
   "source": [
    "Do_resamples(data_2010, 'IND_COD_ICFES_TERMINO', float)"
   ]
  },
  {
   "cell_type": "code",
   "execution_count": 79,
   "metadata": {
    "collapsed": false,
    "scrolled": true
   },
   "outputs": [
    {
     "name": "stdout",
     "output_type": "stream",
     "text": [
      "Int64Index([   182,    638,   3046,   3327,   3418,   3459,   3525,   4234,\n",
      "              6023,   6775,\n",
      "            ...\n",
      "            150128, 150136, 150243, 150359, 150391, 150409, 150458, 150482,\n",
      "            150516, 150581],\n",
      "           dtype='int64', length=1011)\n",
      "182       113\n",
      "638       189\n",
      "3046       57\n",
      "3327        7\n",
      "3418       38\n",
      "3459       82\n",
      "3525       74\n",
      "4234       45\n",
      "6023      115\n",
      "6775       12\n",
      "7013       53\n",
      "7054        6\n",
      "7070       73\n",
      "7088       49\n",
      "8581       10\n",
      "9985        9\n",
      "11239      82\n",
      "11254      33\n",
      "11262      77\n",
      "11270      83\n",
      "11288     103\n",
      "11312     162\n",
      "11452      64\n",
      "11460      39\n",
      "11478      24\n",
      "11627      44\n",
      "11635      38\n",
      "11684      23\n",
      "11692      34\n",
      "11700      26\n",
      "         ... \n",
      "148288      6\n",
      "148833      6\n",
      "149328     49\n",
      "149476      8\n",
      "149492      3\n",
      "149559     10\n",
      "149625      8\n",
      "149682     25\n",
      "149690     14\n",
      "149781      6\n",
      "149799      8\n",
      "149849      6\n",
      "149856      2\n",
      "149864     13\n",
      "149872      1\n",
      "149898      8\n",
      "149948      3\n",
      "149997      6\n",
      "150029     94\n",
      "150037     44\n",
      "150128     10\n",
      "150136     35\n",
      "150243     20\n",
      "150359      7\n",
      "150391     22\n",
      "150409     21\n",
      "150458     36\n",
      "150482      3\n",
      "150516     38\n",
      "150581     18\n",
      "Name: COLE_COD_ICFES, dtype: int64\n",
      "Elementos null/NaN 0\n",
      "__________________\n",
      "Elementos diferentes de null/NaN: 30266\n",
      "__________________\n",
      "(30266,)\n",
      "None\n"
     ]
    }
   ],
   "source": [
    "c = 'COLE_COD_ICFES'\n",
    "print(data_2010[c].value_counts().sort_index().index)\n",
    "print(data_2010[c].value_counts().sort_index())\n",
    "print(missing_data(data_2010[c]))"
   ]
  },
  {
   "cell_type": "code",
   "execution_count": 80,
   "metadata": {
    "collapsed": false,
    "scrolled": true
   },
   "outputs": [
    {
     "name": "stdout",
     "output_type": "stream",
     "text": [
      "Index(['            ', '010500103391', '034100105808', '051100116867',\n",
      "       '105001000566', '105001002071', '105001003387', '105001003395',\n",
      "       '105001003425', '105001024571',\n",
      "       ...\n",
      "       '576001091472', '576622134546', '625214000001', '625269000075',\n",
      "       '625269000082', '625269000084', '625286000041', '625899000007',\n",
      "       '625899000017', '818001100015'],\n",
      "      dtype='object', length=936)\n",
      "                550\n",
      "010500103391     38\n",
      "034100105808     14\n",
      "051100116867      3\n",
      "105001000566     18\n",
      "105001002071      8\n",
      "105001003387     19\n",
      "105001003395     55\n",
      "105001003425     17\n",
      "105001024571    289\n",
      "105088001512     50\n",
      "105088002993     10\n",
      "105088003175     23\n",
      "105628000227      8\n",
      "105667000013     18\n",
      "105893001685      4\n",
      "108001003289      8\n",
      "111001009971     21\n",
      "111001010031     27\n",
      "111001010839     28\n",
      "111001011029      8\n",
      "111001012360     23\n",
      "111001013129     32\n",
      "111001034134     26\n",
      "111001036781     27\n",
      "111001092410     68\n",
      "111001098876     20\n",
      "111001098884     46\n",
      "111001098965     17\n",
      "111001102148     18\n",
      "               ... \n",
      "476130000961      9\n",
      "476130001186     11\n",
      "476130001208     25\n",
      "476233002003     13\n",
      "476248000478     82\n",
      "476248000648      7\n",
      "476248032012     33\n",
      "476520003791     12\n",
      "476520005646      4\n",
      "476520006324     10\n",
      "476520007207     95\n",
      "476892001183     13\n",
      "476892099710     11\n",
      "476892099728     12\n",
      "476895000382     35\n",
      "519001000002     25\n",
      "525899000016     39\n",
      "550711000002      6\n",
      "568001009690      6\n",
      "568432001200     25\n",
      "576001091472     21\n",
      "576622134546     31\n",
      "625214000001     28\n",
      "625269000075     27\n",
      "625269000082     24\n",
      "625269000084      4\n",
      "625286000041     51\n",
      "625899000007      3\n",
      "625899000017     26\n",
      "818001100015      1\n",
      "Name: COLE_COD_DANE_INSTITUCION, dtype: int64\n",
      "Elementos null/NaN 79\n",
      "__________________\n",
      "Elementos diferentes de null/NaN: 30187\n",
      "__________________\n",
      "(30187,)\n",
      "None\n"
     ]
    }
   ],
   "source": [
    "c = 'COLE_COD_DANE_INSTITUCION'\n",
    "print(data_2010[c].value_counts().sort_index().index)\n",
    "print(data_2010[c].value_counts().sort_index())\n",
    "print(missing_data(data_2010[c]))"
   ]
  },
  {
   "cell_type": "code",
   "execution_count": 81,
   "metadata": {
    "collapsed": false
   },
   "outputs": [
    {
     "name": "stdout",
     "output_type": "stream",
     "text": [
      "cant null antes: 629\n",
      "cant null despues: 0\n"
     ]
    }
   ],
   "source": [
    "data_2010['COLE_COD_DANE_INSTITUCION'] = data_2010['COLE_COD_DANE_INSTITUCION'].replace('            ', np.nan)\n",
    "Do_resamples(data_2010, 'COLE_COD_DANE_INSTITUCION', str)"
   ]
  },
  {
   "cell_type": "code",
   "execution_count": 82,
   "metadata": {
    "collapsed": false
   },
   "outputs": [
    {
     "name": "stdout",
     "output_type": "stream",
     "text": [
      "Index(['A', 'B', 'F'], dtype='object')\n",
      "A     3177\n",
      "B    11635\n",
      "F    15454\n",
      "Name: COLE_CALENDARIO, dtype: int64\n",
      "Elementos null/NaN 0\n",
      "__________________\n",
      "Elementos diferentes de null/NaN: 30266\n",
      "__________________\n",
      "(30266,)\n",
      "None\n"
     ]
    }
   ],
   "source": [
    "c = 'COLE_CALENDARIO'\n",
    "print(data_2010[c].value_counts().sort_index().index)\n",
    "print(data_2010[c].value_counts().sort_index())\n",
    "print(missing_data(data_2010[c]))"
   ]
  },
  {
   "cell_type": "code",
   "execution_count": 83,
   "metadata": {
    "collapsed": false
   },
   "outputs": [
    {
     "name": "stdout",
     "output_type": "stream",
     "text": [
      "Index(['F', 'M', 'X'], dtype='object')\n",
      "F     1901\n",
      "M      894\n",
      "X    27471\n",
      "Name: COLE_GENERO, dtype: int64\n",
      "Elementos null/NaN 0\n",
      "__________________\n",
      "Elementos diferentes de null/NaN: 30266\n",
      "__________________\n",
      "(30266,)\n",
      "None\n"
     ]
    }
   ],
   "source": [
    "c = 'COLE_GENERO'\n",
    "print(data_2010[c].value_counts().sort_index().index)\n",
    "print(data_2010[c].value_counts().sort_index())\n",
    "print(missing_data(data_2010[c]))"
   ]
  },
  {
   "cell_type": "code",
   "execution_count": 84,
   "metadata": {
    "collapsed": false
   },
   "outputs": [
    {
     "name": "stdout",
     "output_type": "stream",
     "text": [
      "Index(['N', 'O'], dtype='object')\n",
      "N    28599\n",
      "O     1667\n",
      "Name: COLE_NATURALEZA, dtype: int64\n",
      "Elementos null/NaN 0\n",
      "__________________\n",
      "Elementos diferentes de null/NaN: 30266\n",
      "__________________\n",
      "(30266,)\n",
      "None\n"
     ]
    }
   ],
   "source": [
    "c = 'COLE_NATURALEZA'\n",
    "print(data_2010[c].value_counts().sort_index().index)\n",
    "print(data_2010[c].value_counts().sort_index())\n",
    "print(missing_data(data_2010[c]))"
   ]
  },
  {
   "cell_type": "code",
   "execution_count": 85,
   "metadata": {
    "collapsed": false
   },
   "outputs": [
    {
     "name": "stdout",
     "output_type": "stream",
     "text": [
      "Float64Index([0.0, 1.0], dtype='float64')\n",
      "0    23057\n",
      "1     3614\n",
      "Name: COLE_BILINGUE, dtype: int64\n",
      "Elementos null/NaN 3595\n",
      "__________________\n",
      "Elementos diferentes de null/NaN: 26671\n",
      "__________________\n",
      "(26671,)\n",
      "None\n"
     ]
    }
   ],
   "source": [
    "c = 'COLE_BILINGUE'\n",
    "print(data_2010[c].value_counts().sort_index().index)\n",
    "print(data_2010[c].value_counts().sort_index())\n",
    "print(missing_data(data_2010[c]))"
   ]
  },
  {
   "cell_type": "code",
   "execution_count": 86,
   "metadata": {
    "collapsed": false
   },
   "outputs": [
    {
     "name": "stdout",
     "output_type": "stream",
     "text": [
      "cant null antes: 3595\n",
      "cant null despues: 0\n"
     ]
    }
   ],
   "source": [
    "Do_resamples(data_2010, 'COLE_BILINGUE', float)"
   ]
  },
  {
   "cell_type": "code",
   "execution_count": 87,
   "metadata": {
    "collapsed": false
   },
   "outputs": [
    {
     "name": "stdout",
     "output_type": "stream",
     "text": [
      "Index(['COMPLETA U ORDINARIA', 'MAÑANA', 'NOCHE', 'SABATINA - DOMINICAL',\n",
      "       'TARDE'],\n",
      "      dtype='object')\n",
      "COMPLETA U ORDINARIA    9555\n",
      "MAÑANA                  9528\n",
      "NOCHE                   4761\n",
      "SABATINA - DOMINICAL    5432\n",
      "TARDE                    990\n",
      "Name: COLE_JORNADA, dtype: int64\n",
      "Elementos null/NaN 0\n",
      "__________________\n",
      "Elementos diferentes de null/NaN: 30266\n",
      "__________________\n",
      "(30266,)\n",
      "None\n"
     ]
    }
   ],
   "source": [
    "c = 'COLE_JORNADA'\n",
    "print(data_2010[c].value_counts().sort_index().index)\n",
    "print(data_2010[c].value_counts().sort_index())\n",
    "print(missing_data(data_2010[c]))"
   ]
  },
  {
   "cell_type": "code",
   "execution_count": 88,
   "metadata": {
    "collapsed": false
   },
   "outputs": [
    {
     "name": "stdout",
     "output_type": "stream",
     "text": [
      "Index(['ACADEMICO', 'ACADEMICO Y TECNICO', 'NORMALISTA', 'TECNICO'], dtype='object')\n",
      "ACADEMICO              24916\n",
      "ACADEMICO Y TECNICO     2433\n",
      "NORMALISTA                 4\n",
      "TECNICO                 2913\n",
      "Name: COLE_CARACTER, dtype: int64\n",
      "Elementos null/NaN 0\n",
      "__________________\n",
      "Elementos diferentes de null/NaN: 30266\n",
      "__________________\n",
      "(30266,)\n",
      "None\n"
     ]
    }
   ],
   "source": [
    "c = 'COLE_CARACTER'\n",
    "print(data_2010[c].value_counts().sort_index().index)\n",
    "print(data_2010[c].value_counts().sort_index())\n",
    "print(missing_data(data_2010[c]))"
   ]
  },
  {
   "cell_type": "code",
   "execution_count": 89,
   "metadata": {
    "collapsed": false
   },
   "outputs": [
    {
     "name": "stdout",
     "output_type": "stream",
     "text": [
      "Float64Index([0.0, 1.0, 2.0, 3.0, 4.0], dtype='float64')\n",
      "0    23701\n",
      "1     5355\n",
      "2      972\n",
      "3      236\n",
      "4        2\n",
      "Name: ESTU_VECES_ESTADO, dtype: int64\n",
      "Elementos null/NaN 0\n",
      "__________________\n",
      "Elementos diferentes de null/NaN: 30266\n",
      "__________________\n",
      "(30266,)\n",
      "None\n"
     ]
    }
   ],
   "source": [
    "c = 'ESTU_VECES_ESTADO'\n",
    "print(data_2010[c].value_counts().sort_index().index)\n",
    "print(data_2010[c].value_counts().sort_index())\n",
    "print(missing_data(data_2010[c]))"
   ]
  },
  {
   "cell_type": "code",
   "execution_count": 90,
   "metadata": {
    "collapsed": false,
    "scrolled": true
   },
   "outputs": [
    {
     "name": "stdout",
     "output_type": "stream",
     "text": [
      "Index(['AGUACHICA', 'ALBANIA', 'APARTADO', 'ARAUCA', 'ARMENIA',\n",
      "       'BARRANCABERMEJA', 'BARRANQUILLA', 'BELLO', 'BOGOTÁ D.C.',\n",
      "       'BUCARAMANGA', 'BUENAVENTURA', 'BUGA', 'CALI', 'CARTAGENA', 'CARTAGO',\n",
      "       'CAUCASIA', 'CHAPARRAL', 'CHIA', 'CUCUTA', 'EL TAMBO', 'ESPINAL',\n",
      "       'FACATATIVA', 'FLORENCIA', 'FUSAGASUGA', 'GARZON', 'GIRARDOT',\n",
      "       'GRANADA', 'GUAMO', 'IBAGUE', 'INIRIDA', 'IPIALES', 'LA DORADA',\n",
      "       'MAGANGUE', 'MAICAO', 'MALAGA', 'MANIZALES', 'MEDELLIN', 'MITU',\n",
      "       'MOCOA', 'MONIQUIRA', 'MONTELIBANO', 'MONTERIA', 'NEIVA', 'OCAÑA',\n",
      "       'PALMIRA', 'PAMPLONA', 'PASTO', 'PATIA(EL BORDO)', 'PAZ DE ARIPORO',\n",
      "       'PEREIRA', 'PITALITO', 'POPAYAN', 'PUERTO ASIS', 'PUERTO CARREÑO',\n",
      "       'PUERTO TEJADA', 'QUIBDO', 'RIOHACHA', 'RIONEGRO', 'ROLDANILLO',\n",
      "       'SAN GIL', 'SAN JOSE DEL GUAVIARE', 'SANTA MARTA', 'SANTA ROSA DE OSOS',\n",
      "       'SANTANDER DE QUILICHAO', 'SEVILLA', 'SIBUNDOY', 'SILVIA', 'SOACHA',\n",
      "       'SOCORRO', 'SOGAMOSO', 'TAME', 'TULUA', 'TUMACO', 'TUNJA', 'VALLEDUPAR',\n",
      "       'VELEZ', 'VILLA DE LEYVA', 'VILLAVICENCIO', 'YOPAL', 'YUMBO', 'ZARZAL',\n",
      "       'ZIPAQUIRA'],\n",
      "      dtype='object')\n",
      "AGUACHICA                   41\n",
      "ALBANIA                     61\n",
      "APARTADO                   225\n",
      "ARAUCA                      25\n",
      "ARMENIA                    156\n",
      "BARRANCABERMEJA             73\n",
      "BARRANQUILLA               702\n",
      "BELLO                      433\n",
      "BOGOTÁ D.C.               6489\n",
      "BUCARAMANGA                674\n",
      "BUENAVENTURA               143\n",
      "BUGA                       380\n",
      "CALI                      7641\n",
      "CARTAGENA                  303\n",
      "CARTAGO                    342\n",
      "CAUCASIA                    17\n",
      "CHAPARRAL                  103\n",
      "CHIA                       343\n",
      "CUCUTA                     136\n",
      "EL TAMBO                    18\n",
      "ESPINAL                     18\n",
      "FACATATIVA                 180\n",
      "FLORENCIA                  100\n",
      "FUSAGASUGA                  69\n",
      "GARZON                     147\n",
      "GIRARDOT                    41\n",
      "GRANADA                     32\n",
      "GUAMO                       52\n",
      "IBAGUE                     292\n",
      "INIRIDA                     36\n",
      "                          ... \n",
      "PUERTO ASIS                 72\n",
      "PUERTO CARREÑO               1\n",
      "PUERTO TEJADA               59\n",
      "QUIBDO                       7\n",
      "RIOHACHA                    25\n",
      "RIONEGRO                   787\n",
      "ROLDANILLO                  47\n",
      "SAN GIL                     15\n",
      "SAN JOSE DEL GUAVIARE       27\n",
      "SANTA MARTA                 92\n",
      "SANTA ROSA DE OSOS          58\n",
      "SANTANDER DE QUILICHAO     172\n",
      "SEVILLA                      7\n",
      "SIBUNDOY                     1\n",
      "SILVIA                       1\n",
      "SOACHA                     204\n",
      "SOCORRO                     13\n",
      "SOGAMOSO                   154\n",
      "TAME                        16\n",
      "TULUA                       58\n",
      "TUMACO                       2\n",
      "TUNJA                      198\n",
      "VALLEDUPAR                 143\n",
      "VELEZ                       57\n",
      "VILLA DE LEYVA               3\n",
      "VILLAVICENCIO              273\n",
      "YOPAL                      257\n",
      "YUMBO                       85\n",
      "ZARZAL                      44\n",
      "ZIPAQUIRA                  125\n",
      "Name: ESTU_MCPIO_PRESENTACION, dtype: int64\n",
      "Elementos null/NaN 0\n",
      "__________________\n",
      "Elementos diferentes de null/NaN: 30266\n",
      "__________________\n",
      "(30266,)\n",
      "None\n"
     ]
    }
   ],
   "source": [
    "c = 'ESTU_MCPIO_PRESENTACION'\n",
    "print(data_2010[c].value_counts().sort_index().index)\n",
    "print(data_2010[c].value_counts().sort_index())\n",
    "print(missing_data(data_2010[c]))"
   ]
  },
  {
   "cell_type": "code",
   "execution_count": 91,
   "metadata": {
    "collapsed": false,
    "scrolled": true
   },
   "outputs": [
    {
     "name": "stdout",
     "output_type": "stream",
     "text": [
      "Index(['ANTIOQUIA', 'ARAUCA', 'ATLÁNTICO', 'BOGOTÁ', 'BOLÍVAR', 'BOYACÁ',\n",
      "       'CALDAS', 'CAQUETÁ', 'CASANARE', 'CAUCA', 'CESAR', 'CHOCÓ',\n",
      "       'CUNDINAMARCA', 'CÓRDOBA', 'GUAINÍA', 'GUAVIARE', 'HUILA', 'LA GUAJIRA',\n",
      "       'MAGDALENA', 'META', 'NARIÑO', 'NORTE SANTANDER', 'PUTUMAYO', 'QUINDÍO',\n",
      "       'RISARALDA', 'SANTANDER', 'TOLIMA', 'VALLE', 'VAUPÉS', 'VICHADA'],\n",
      "      dtype='object')\n",
      "ANTIOQUIA          5103\n",
      "ARAUCA               41\n",
      "ATLÁNTICO           702\n",
      "BOGOTÁ             6489\n",
      "BOLÍVAR             313\n",
      "BOYACÁ              449\n",
      "CALDAS              476\n",
      "CAQUETÁ             100\n",
      "CASANARE            268\n",
      "CAUCA              1114\n",
      "CESAR               184\n",
      "CHOCÓ                 7\n",
      "CUNDINAMARCA        962\n",
      "CÓRDOBA              41\n",
      "GUAINÍA              36\n",
      "GUAVIARE             27\n",
      "HUILA               370\n",
      "LA GUAJIRA          114\n",
      "MAGDALENA            92\n",
      "META                305\n",
      "NARIÑO             1290\n",
      "NORTE SANTANDER     157\n",
      "PUTUMAYO            106\n",
      "QUINDÍO             156\n",
      "RISARALDA           271\n",
      "SANTANDER           858\n",
      "TOLIMA              465\n",
      "VALLE              9762\n",
      "VAUPÉS                7\n",
      "VICHADA               1\n",
      "Name: ESTU_DEPTO_PRESENTACION, dtype: int64\n",
      "Elementos null/NaN 0\n",
      "__________________\n",
      "Elementos diferentes de null/NaN: 30266\n",
      "__________________\n",
      "(30266,)\n",
      "None\n"
     ]
    }
   ],
   "source": [
    "c = 'ESTU_DEPTO_PRESENTACION'\n",
    "print(data_2010[c].value_counts().sort_index().index)\n",
    "print(data_2010[c].value_counts().sort_index())\n",
    "print(missing_data(data_2010[c]))"
   ]
  },
  {
   "cell_type": "markdown",
   "metadata": {},
   "source": [
    "## TARGETS"
   ]
  },
  {
   "cell_type": "code",
   "execution_count": 92,
   "metadata": {
    "collapsed": false,
    "scrolled": true
   },
   "outputs": [
    {
     "name": "stdout",
     "output_type": "stream",
     "text": [
      "Index(['0', '19,25', '19,55', '27,17', '27,46', '32,13', '32,41', '35,89',\n",
      "       '36,17', '39,01', '39,27', '41,72', '41,98', '44,17', '44,42', '46,44',\n",
      "       '46,68', '48,57', '48,81', '50,62', '50,85', '52,61', '52,83', '54,57',\n",
      "       '54,79', '56,52', '56,74', '58,49', '58,71', '60,51', '60,74', '62,61',\n",
      "       '62,84', '64,83', '65,07', '67,22', '67,47', '69,87', '70,13', '72,91',\n",
      "       '73,19', '76,6', '76,89', '81,48', '81,79'],\n",
      "      dtype='object')\n",
      "0          11\n",
      "19,25      20\n",
      "19,55      21\n",
      "27,17      84\n",
      "27,46      91\n",
      "32,13     223\n",
      "32,41     292\n",
      "35,89     426\n",
      "36,17     610\n",
      "39,01     769\n",
      "39,27    1015\n",
      "41,72    1110\n",
      "41,98    1410\n",
      "44,17    1326\n",
      "44,42    1595\n",
      "46,44    1474\n",
      "46,68    1712\n",
      "48,57    1468\n",
      "48,81    1714\n",
      "50,62    1264\n",
      "50,85    1477\n",
      "52,61    1228\n",
      "52,83    1244\n",
      "54,57    1081\n",
      "54,79    1100\n",
      "56,52     875\n",
      "56,74     994\n",
      "58,49     785\n",
      "58,71     854\n",
      "60,51     662\n",
      "60,74     712\n",
      "62,61     499\n",
      "62,84     607\n",
      "64,83     359\n",
      "65,07     405\n",
      "67,22     229\n",
      "67,47     216\n",
      "69,87     100\n",
      "70,13     108\n",
      "72,91      35\n",
      "73,19      33\n",
      "76,6        9\n",
      "76,89      13\n",
      "81,48       2\n",
      "81,79       4\n",
      "Name: PUNT_LENGUAJE, dtype: int64\n",
      "Elementos null/NaN 0\n",
      "__________________\n",
      "Elementos diferentes de null/NaN: 30266\n",
      "__________________\n",
      "(30266,)\n",
      "None\n"
     ]
    }
   ],
   "source": [
    "c = 'PUNT_LENGUAJE'\n",
    "print(data_2010[c].value_counts().sort_index().index)\n",
    "print(data_2010[c].value_counts().sort_index())\n",
    "print(missing_data(data_2010[c]))"
   ]
  },
  {
   "cell_type": "code",
   "execution_count": 93,
   "metadata": {
    "collapsed": true
   },
   "outputs": [],
   "source": [
    "clean_target(data_2010, 'PUNT_LENGUAJE')"
   ]
  },
  {
   "cell_type": "code",
   "execution_count": 94,
   "metadata": {
    "collapsed": false,
    "scrolled": true
   },
   "outputs": [
    {
     "name": "stdout",
     "output_type": "stream",
     "text": [
      "Index(['0', '103,94', '104,09', '12,92', '120,23', '120,39', '13,38', '22,65',\n",
      "       '23,04', '28,78', '29,11', '33,46', '33,72', '37,36', '37,56', '40,78',\n",
      "       '40,93', '43,88', '43,99', '46,77', '46,84', '49,52', '49,55', '52,17',\n",
      "       '54,74', '54,77', '57,29', '57,34', '59,86', '59,93', '62,48', '62,56',\n",
      "       '65,19', '65,27', '68,03', '68,11', '71,05', '71,12', '74,33', '74,38',\n",
      "       '77,98', '78', '82,15', '82,16', '87,15', '87,21', '93,69', '93,8'],\n",
      "      dtype='object')\n",
      "0           22\n",
      "103,94       9\n",
      "104,09      12\n",
      "12,92       33\n",
      "120,23       2\n",
      "120,39       2\n",
      "13,38       29\n",
      "22,65      121\n",
      "23,04      154\n",
      "28,78      363\n",
      "29,11      410\n",
      "33,46      802\n",
      "33,72      902\n",
      "37,36     1391\n",
      "37,56     1364\n",
      "40,78     1852\n",
      "40,93     1792\n",
      "43,88     1972\n",
      "43,99     1944\n",
      "46,77     1784\n",
      "46,84     1882\n",
      "49,52     1617\n",
      "49,55     1495\n",
      "52,17     2357\n",
      "54,74      897\n",
      "54,77      959\n",
      "57,29      761\n",
      "57,34      720\n",
      "59,86      615\n",
      "59,93      628\n",
      "62,48      477\n",
      "62,56      469\n",
      "65,19      358\n",
      "65,27      387\n",
      "68,03      263\n",
      "68,11      288\n",
      "71,05      201\n",
      "71,12      222\n",
      "74,33      136\n",
      "74,38      152\n",
      "77,98       97\n",
      "78         105\n",
      "82,15       61\n",
      "82,16       59\n",
      "87,15       38\n",
      "87,21       30\n",
      "93,69       11\n",
      "93,8        21\n",
      "Name: PUNT_MATEMATICAS, dtype: int64\n",
      "Elementos null/NaN 0\n",
      "__________________\n",
      "Elementos diferentes de null/NaN: 30266\n",
      "__________________\n",
      "(30266,)\n",
      "None\n"
     ]
    }
   ],
   "source": [
    "c = 'PUNT_MATEMATICAS'\n",
    "print(data_2010[c].value_counts().sort_index().index)\n",
    "print(data_2010[c].value_counts().sort_index())\n",
    "print(missing_data(data_2010[c]))"
   ]
  },
  {
   "cell_type": "code",
   "execution_count": 95,
   "metadata": {
    "collapsed": true
   },
   "outputs": [],
   "source": [
    "clean_target(data_2010, c)"
   ]
  },
  {
   "cell_type": "code",
   "execution_count": 96,
   "metadata": {
    "collapsed": false,
    "scrolled": true
   },
   "outputs": [
    {
     "name": "stdout",
     "output_type": "stream",
     "text": [
      "Index(['0', '14,4', '14,65', '20,21', '20,49', '24,58', '24,9', '28,18',\n",
      "       '28,54', '31,29', '31,7', '34,08', '34,54', '36,63', '37,14', '39,02',\n",
      "       '39,58', '41,27', '41,9', '43,43', '44,12', '45,51', '46,27', '47,54',\n",
      "       '48,37', '49,54', '5,09', '5,3', '50,44', '51,52', '52,49', '53,5',\n",
      "       '54,54', '55,49', '56,6', '57,51', '58,7', '59,58', '60,83', '61,71',\n",
      "       '63,04', '63,94', '65,33', '66,29', '67,76', '68,81', '70,35', '71,57',\n",
      "       '73,17', '74,66', '76,32', '78,24', '79,96', '82,6', '97,74'],\n",
      "      dtype='object')\n",
      "0           4\n",
      "14,4        7\n",
      "14,65      14\n",
      "20,21      37\n",
      "20,49      45\n",
      "24,58     100\n",
      "24,9      135\n",
      "28,18     234\n",
      "28,54     275\n",
      "31,29     396\n",
      "31,7      497\n",
      "34,08     621\n",
      "34,54     783\n",
      "36,63     897\n",
      "37,14    1076\n",
      "39,02    1075\n",
      "39,58    1279\n",
      "41,27    1213\n",
      "41,9     1490\n",
      "43,43    1283\n",
      "44,12    1467\n",
      "45,51    1228\n",
      "46,27    1579\n",
      "47,54    1266\n",
      "48,37    1488\n",
      "49,54    1104\n",
      "5,09        2\n",
      "5,3         4\n",
      "50,44    1378\n",
      "51,52     957\n",
      "52,49    1258\n",
      "53,5      887\n",
      "54,54     995\n",
      "55,49     740\n",
      "56,6      823\n",
      "57,51     620\n",
      "58,7      607\n",
      "59,58     496\n",
      "60,83     431\n",
      "61,71     351\n",
      "63,04     288\n",
      "63,94     220\n",
      "65,33     175\n",
      "66,29     137\n",
      "67,76      89\n",
      "68,81      89\n",
      "70,35      31\n",
      "71,57      43\n",
      "73,17      19\n",
      "74,66      21\n",
      "76,32       3\n",
      "78,24       5\n",
      "79,96       1\n",
      "82,6        2\n",
      "97,74       1\n",
      "Name: PUNT_C_SOCIALES, dtype: int64\n",
      "Elementos null/NaN 0\n",
      "__________________\n",
      "Elementos diferentes de null/NaN: 30266\n",
      "__________________\n",
      "(30266,)\n",
      "None\n"
     ]
    }
   ],
   "source": [
    "c = 'PUNT_C_SOCIALES'\n",
    "print(data_2010[c].value_counts().sort_index().index)\n",
    "print(data_2010[c].value_counts().sort_index())\n",
    "print(missing_data(data_2010[c]))"
   ]
  },
  {
   "cell_type": "code",
   "execution_count": 97,
   "metadata": {
    "collapsed": true
   },
   "outputs": [],
   "source": [
    "clean_target(data_2010, c)"
   ]
  },
  {
   "cell_type": "code",
   "execution_count": 98,
   "metadata": {
    "collapsed": false,
    "scrolled": true
   },
   "outputs": [
    {
     "name": "stdout",
     "output_type": "stream",
     "text": [
      "Index(['0', '13,56', '13,92', '22,82', '23,18', '28,68', '29,03', '33,15',\n",
      "       '33,5', '36,89', '37,23', '40,17', '40,49', '43,15', '43,46', '45,93',\n",
      "       '46,23', '48,58', '48,87', '51,15', '51,42', '53,66', '53,93', '56,17',\n",
      "       '56,42', '58,71', '58,95', '61,3', '61,53', '64', '64,21', '66,85',\n",
      "       '67,05', '69,92', '70,1', '73,3', '73,47', '77,16'],\n",
      "      dtype='object')\n",
      "0         174\n",
      "13,56      46\n",
      "13,92      45\n",
      "22,82     156\n",
      "23,18     147\n",
      "28,68     373\n",
      "29,03     405\n",
      "33,15     806\n",
      "33,5      822\n",
      "36,89    1234\n",
      "37,23    1280\n",
      "40,17    1682\n",
      "40,49    1717\n",
      "43,15    1865\n",
      "43,46    1952\n",
      "45,93    2003\n",
      "46,23    1911\n",
      "48,58    1847\n",
      "48,87    1701\n",
      "51,15    1525\n",
      "51,42    1494\n",
      "53,66    1236\n",
      "53,93    1239\n",
      "56,17     904\n",
      "56,42     924\n",
      "58,71     658\n",
      "58,95     638\n",
      "61,3      416\n",
      "61,53     388\n",
      "64        215\n",
      "64,21     210\n",
      "66,85      92\n",
      "67,05      96\n",
      "69,92      29\n",
      "70,1       24\n",
      "73,3        5\n",
      "73,47       6\n",
      "77,16       1\n",
      "Name: PUNT_FILOSOFIA, dtype: int64\n",
      "Elementos null/NaN 0\n",
      "__________________\n",
      "Elementos diferentes de null/NaN: 30266\n",
      "__________________\n",
      "(30266,)\n",
      "None\n"
     ]
    }
   ],
   "source": [
    "c = 'PUNT_FILOSOFIA'\n",
    "print(data_2010[c].value_counts().sort_index().index)\n",
    "print(data_2010[c].value_counts().sort_index())\n",
    "print(missing_data(data_2010[c]))"
   ]
  },
  {
   "cell_type": "code",
   "execution_count": 99,
   "metadata": {
    "collapsed": true
   },
   "outputs": [],
   "source": [
    "clean_target(data_2010, c)"
   ]
  },
  {
   "cell_type": "code",
   "execution_count": 100,
   "metadata": {
    "collapsed": false,
    "scrolled": true
   },
   "outputs": [
    {
     "name": "stdout",
     "output_type": "stream",
     "text": [
      "Index(['0', '14,55', '14,61', '22,34', '22,47', '27,25', '27,43', '30,99',\n",
      "       '31,2', '34,09', '34,33', '36,79', '37,04', '39,23', '39,49', '41,48',\n",
      "       '41,75', '43,61', '43,87', '45,64', '45,9', '47,62', '47,86', '49,56',\n",
      "       '49,79', '51,5', '51,72', '53,46', '53,65', '55,46', '55,63', '57,54',\n",
      "       '57,69', '59,74', '59,85', '62,11', '62,19', '64,74', '64,77', '67,73',\n",
      "       '67,76', '71,31', '71,4', '76,04', '76,22', '83,64', '83,92', '96,5'],\n",
      "      dtype='object')\n",
      "0          17\n",
      "14,55      10\n",
      "14,61       8\n",
      "22,34      52\n",
      "22,47      43\n",
      "27,25     123\n",
      "27,43     117\n",
      "30,99     327\n",
      "31,2      339\n",
      "34,09     616\n",
      "34,33     666\n",
      "36,79     925\n",
      "37,04    1050\n",
      "39,23    1333\n",
      "39,49    1382\n",
      "41,48    1622\n",
      "41,75    1606\n",
      "43,61    1749\n",
      "43,87    1743\n",
      "45,64    1598\n",
      "45,9     1623\n",
      "47,62    1454\n",
      "47,86    1403\n",
      "49,56    1220\n",
      "49,79    1229\n",
      "51,5     1058\n",
      "51,72    1024\n",
      "53,46     806\n",
      "53,65     790\n",
      "55,46     723\n",
      "55,63     652\n",
      "57,54     529\n",
      "57,69     483\n",
      "59,74     431\n",
      "59,85     359\n",
      "62,11     259\n",
      "62,19     247\n",
      "64,74     151\n",
      "64,77     159\n",
      "67,73      93\n",
      "67,76     107\n",
      "71,31      47\n",
      "71,4       53\n",
      "76,04      10\n",
      "76,22      19\n",
      "83,64       5\n",
      "83,92       4\n",
      "96,5        2\n",
      "Name: PUNT_BIOLOGIA, dtype: int64\n",
      "Elementos null/NaN 0\n",
      "__________________\n",
      "Elementos diferentes de null/NaN: 30266\n",
      "__________________\n",
      "(30266,)\n",
      "None\n"
     ]
    }
   ],
   "source": [
    "c = 'PUNT_BIOLOGIA'\n",
    "print(data_2010[c].value_counts().sort_index().index)\n",
    "print(data_2010[c].value_counts().sort_index())\n",
    "print(missing_data(data_2010[c]))"
   ]
  },
  {
   "cell_type": "code",
   "execution_count": 101,
   "metadata": {
    "collapsed": true
   },
   "outputs": [],
   "source": [
    "clean_target(data_2010, c)"
   ]
  },
  {
   "cell_type": "code",
   "execution_count": 102,
   "metadata": {
    "collapsed": false,
    "scrolled": true
   },
   "outputs": [
    {
     "name": "stdout",
     "output_type": "stream",
     "text": [
      "Index(['0', '18,08', '18,2', '24,95', '25,08', '29,24', '29,37', '32,49',\n",
      "       '32,63', '35,17', '35,31', '37,51', '37,65', '39,61', '39,76', '41,56',\n",
      "       '41,72', '43,4', '43,56', '45,16', '45,33', '46,88', '47,05', '48,57',\n",
      "       '48,74', '50,26', '50,44', '51,98', '52,15', '53,73', '53,91', '55,55',\n",
      "       '55,74', '57,48', '57,67', '59,56', '59,76', '61,86', '62,07', '64,5',\n",
      "       '64,73', '67,7', '67,94', '71,93', '72,2', '78,73', '79,02', '89,95',\n",
      "       '90,26'],\n",
      "      dtype='object')\n",
      "0          21\n",
      "18,08      30\n",
      "18,2       22\n",
      "24,95     102\n",
      "25,08      99\n",
      "29,24     268\n",
      "29,37     271\n",
      "32,49     595\n",
      "32,63     524\n",
      "35,17     887\n",
      "35,31     848\n",
      "37,51    1161\n",
      "37,65    1168\n",
      "39,61    1415\n",
      "39,76    1371\n",
      "41,56    1372\n",
      "41,72    1369\n",
      "43,4     1326\n",
      "43,56    1372\n",
      "45,16    1165\n",
      "45,33    1288\n",
      "46,88    1005\n",
      "47,05    1087\n",
      "48,57     899\n",
      "48,74     996\n",
      "50,26     831\n",
      "50,44     881\n",
      "51,98     762\n",
      "52,15     799\n",
      "53,73     682\n",
      "53,91     709\n",
      "55,55     665\n",
      "55,74     606\n",
      "57,48     532\n",
      "57,67     469\n",
      "59,56     455\n",
      "59,76     418\n",
      "61,86     352\n",
      "62,07     315\n",
      "64,5      266\n",
      "64,73     227\n",
      "67,7      165\n",
      "67,94     174\n",
      "71,93      96\n",
      "72,2       83\n",
      "78,73      44\n",
      "79,02      50\n",
      "89,95       5\n",
      "90,26      19\n",
      "Name: PUNT_QUIMICA, dtype: int64\n",
      "Elementos null/NaN 0\n",
      "__________________\n",
      "Elementos diferentes de null/NaN: 30266\n",
      "__________________\n",
      "(30266,)\n",
      "None\n"
     ]
    }
   ],
   "source": [
    "c = 'PUNT_QUIMICA'\n",
    "print(data_2010[c].value_counts().sort_index().index)\n",
    "print(data_2010[c].value_counts().sort_index())\n",
    "print(missing_data(data_2010[c]))"
   ]
  },
  {
   "cell_type": "code",
   "execution_count": 103,
   "metadata": {
    "collapsed": true
   },
   "outputs": [],
   "source": [
    "clean_target(data_2010, c)"
   ]
  },
  {
   "cell_type": "code",
   "execution_count": 104,
   "metadata": {
    "collapsed": false,
    "scrolled": true
   },
   "outputs": [
    {
     "name": "stdout",
     "output_type": "stream",
     "text": [
      "Index(['0', '101,55', '11,73', '12,22', '21,52', '22,04', '27,64', '28,19',\n",
      "       '32,27', '32,84', '36,11', '36,7', '39,45', '40,06', '42,48', '43,11',\n",
      "       '45,3', '45,94', '47,97', '48,62', '50,54', '51,21', '53,06', '53,74',\n",
      "       '55,56', '56,25', '58,08', '58,78', '60,63', '61,34', '63,26', '63,99',\n",
      "       '66,01', '66,75', '68,92', '69,68', '72,07', '72,85', '75,56', '76,36',\n",
      "       '79,56', '80,37', '84,38', '85,2', '90,7', '91,53'],\n",
      "      dtype='object')\n",
      "0           78\n",
      "101,55       2\n",
      "11,73       50\n",
      "12,22      101\n",
      "21,52      187\n",
      "22,04      296\n",
      "27,64      526\n",
      "28,19      705\n",
      "32,27     1105\n",
      "32,84     1217\n",
      "36,11     1604\n",
      "36,7      1722\n",
      "39,45     1926\n",
      "40,06     2128\n",
      "42,48     2063\n",
      "43,11     1942\n",
      "45,3      1911\n",
      "45,94     1709\n",
      "47,97     1495\n",
      "48,62     1350\n",
      "50,54     1195\n",
      "51,21     1070\n",
      "53,06      919\n",
      "53,74      779\n",
      "55,56      632\n",
      "56,25      619\n",
      "58,08      431\n",
      "58,78      474\n",
      "60,63      330\n",
      "61,34      347\n",
      "63,26      253\n",
      "63,99      246\n",
      "66,01      163\n",
      "66,75      175\n",
      "68,92       90\n",
      "69,68      108\n",
      "72,07       75\n",
      "72,85       76\n",
      "75,56       48\n",
      "76,36       35\n",
      "79,56       28\n",
      "80,37       23\n",
      "84,38       11\n",
      "85,2        16\n",
      "90,7         3\n",
      "91,53        3\n",
      "Name: PUNT_FISICA, dtype: int64\n",
      "Elementos null/NaN 0\n",
      "__________________\n",
      "Elementos diferentes de null/NaN: 30266\n",
      "__________________\n",
      "(30266,)\n",
      "None\n"
     ]
    }
   ],
   "source": [
    "c = 'PUNT_FISICA'\n",
    "print(data_2010[c].value_counts().sort_index().index)\n",
    "print(data_2010[c].value_counts().sort_index())\n",
    "print(missing_data(data_2010[c]))"
   ]
  },
  {
   "cell_type": "code",
   "execution_count": 105,
   "metadata": {
    "collapsed": true
   },
   "outputs": [],
   "source": [
    "clean_target(data_2010, c)"
   ]
  },
  {
   "cell_type": "code",
   "execution_count": 106,
   "metadata": {
    "collapsed": false,
    "scrolled": true
   },
   "outputs": [
    {
     "name": "stdout",
     "output_type": "stream",
     "text": [
      "Index(['-1', '0', '10,71', '100', '14,14', '17,39', '20,46', '23,36', '26,09',\n",
      "       '28,64', '3,34', '31,02', '33,22', '35,25', '37,1', '38,78', '40,28',\n",
      "       '41,61', '42,76', '43,48', '44,92', '46,35', '47,79', '49,22', '50,66',\n",
      "       '52,09', '53,32', '54,64', '55,95', '57,27', '58,59', '59,9', '61,22',\n",
      "       '62,69', '65,1', '67,51', '69,92', '7,11', '72,32', '74,73', '77,14',\n",
      "       '79,55', '83,41', '87,56', '91,71', '95,85'],\n",
      "      dtype='object')\n",
      "-1          5\n",
      "0           6\n",
      "10,71       6\n",
      "100       149\n",
      "14,14      12\n",
      "17,39      33\n",
      "20,46      65\n",
      "23,36     156\n",
      "26,09     326\n",
      "28,64     564\n",
      "3,34        2\n",
      "31,02     876\n",
      "33,22    1257\n",
      "35,25    1576\n",
      "37,1     1928\n",
      "38,78    2021\n",
      "40,28    1974\n",
      "41,61    1850\n",
      "42,76    1690\n",
      "43,48    1489\n",
      "44,92    1276\n",
      "46,35    1070\n",
      "47,79     925\n",
      "49,22     818\n",
      "50,66     714\n",
      "52,09     572\n",
      "53,32     501\n",
      "54,64     516\n",
      "55,95     414\n",
      "57,27     407\n",
      "58,59     354\n",
      "59,9      348\n",
      "61,22     350\n",
      "62,69     307\n",
      "65,1      329\n",
      "67,51     348\n",
      "69,92     372\n",
      "7,11        5\n",
      "72,32     408\n",
      "74,73     473\n",
      "77,14     543\n",
      "79,55     627\n",
      "83,41     730\n",
      "87,56     751\n",
      "91,71     718\n",
      "95,85     405\n",
      "Name: PUNT_INGLES, dtype: int64\n",
      "Elementos null/NaN 0\n",
      "__________________\n",
      "Elementos diferentes de null/NaN: 30266\n",
      "__________________\n",
      "(30266,)\n",
      "None\n"
     ]
    }
   ],
   "source": [
    "c = 'PUNT_INGLES'\n",
    "print(data_2010[c].value_counts().sort_index().index)\n",
    "print(data_2010[c].value_counts().sort_index())\n",
    "print(missing_data(data_2010[c]))"
   ]
  },
  {
   "cell_type": "code",
   "execution_count": 107,
   "metadata": {
    "collapsed": true
   },
   "outputs": [],
   "source": [
    "data_2010['PUNT_INGLES'] = data_2010['PUNT_INGLES'].replace('-1', '0')\n",
    "clean_target(data_2010,c)"
   ]
  },
  {
   "cell_type": "code",
   "execution_count": 108,
   "metadata": {
    "collapsed": false
   },
   "outputs": [
    {
     "name": "stdout",
     "output_type": "stream",
     "text": [
      "Index(['-1', 'A-', 'A1', 'A2', 'B+', 'B1'], dtype='object')\n",
      "-1        5\n",
      "A-    14347\n",
      "A1     6864\n",
      "A2     2890\n",
      "B+     2753\n",
      "B1     3407\n",
      "Name: DESEMP_INGLES, dtype: int64\n",
      "Elementos null/NaN 0\n",
      "__________________\n",
      "Elementos diferentes de null/NaN: 30266\n",
      "__________________\n",
      "(30266,)\n",
      "None\n"
     ]
    }
   ],
   "source": [
    "c = 'DESEMP_INGLES'\n",
    "print(data_2010[c].value_counts().sort_index().index)\n",
    "print(data_2010[c].value_counts().sort_index())\n",
    "print(missing_data(data_2010[c]))"
   ]
  },
  {
   "cell_type": "code",
   "execution_count": 109,
   "metadata": {
    "collapsed": false
   },
   "outputs": [
    {
     "name": "stdout",
     "output_type": "stream",
     "text": [
      "cant null antes: 5\n",
      "cant null despues: 0\n"
     ]
    }
   ],
   "source": [
    "data_2010['DESEMP_INGLES'] = data_2010['DESEMP_INGLES'].replace('-1', np.nan)\n",
    "Do_resamples(data_2010, 'DESEMP_INGLES', str)"
   ]
  },
  {
   "cell_type": "code",
   "execution_count": 110,
   "metadata": {
    "collapsed": false
   },
   "outputs": [
    {
     "name": "stdout",
     "output_type": "stream",
     "text": [
      "Index(['PROFUNDIZACIÓN EN BIOLOGÍA', 'PROFUNDIZACIÓN EN CIENCIAS SOCIALES',\n",
      "       'PROFUNDIZACIÓN EN LENGUAJE', 'PROFUNDIZACIÓN EN MATEMÁTICA'],\n",
      "      dtype='object')\n",
      "PROFUNDIZACIÓN EN BIOLOGÍA             8433\n",
      "PROFUNDIZACIÓN EN CIENCIAS SOCIALES    6722\n",
      "PROFUNDIZACIÓN EN LENGUAJE             9513\n",
      "PROFUNDIZACIÓN EN MATEMÁTICA           5598\n",
      "Name: NOMBRE_PROFUNDIZACION, dtype: int64\n",
      "Elementos null/NaN 0\n",
      "__________________\n",
      "Elementos diferentes de null/NaN: 30266\n",
      "__________________\n",
      "(30266,)\n",
      "None\n"
     ]
    }
   ],
   "source": [
    "c = 'NOMBRE_PROFUNDIZACION'\n",
    "print(data_2010[c].value_counts().sort_index().index)\n",
    "print(data_2010[c].value_counts().sort_index())\n",
    "print(missing_data(data_2010[c]))"
   ]
  },
  {
   "cell_type": "code",
   "execution_count": 111,
   "metadata": {
    "collapsed": false,
    "scrolled": true
   },
   "outputs": [
    {
     "name": "stdout",
     "output_type": "stream",
     "text": [
      "Index(['0', '10', '2,3', '2,9', '3', '3,2', '3,4', '3,7', '3,8', '4,1', '4,2',\n",
      "       '4,3', '4,6', '4,7', '5', '5,1', '5,3', '5,4', '5,6', '5,7', '5,9', '6',\n",
      "       '6,2', '6,3', '6,5', '6,6', '6,7', '6,8', '6,9', '7,1', '7,3', '7,5',\n",
      "       '7,7', '7,9', '8', '8,6', '8,7', '8,8'],\n",
      "      dtype='object')\n",
      "0       203\n",
      "10       16\n",
      "2,3     204\n",
      "2,9     232\n",
      "3       219\n",
      "3,2     665\n",
      "3,4     248\n",
      "3,7     546\n",
      "3,8    1730\n",
      "4,1     620\n",
      "4,2    2223\n",
      "4,3    1015\n",
      "4,6    3496\n",
      "4,7    1171\n",
      "5      3295\n",
      "5,1    1164\n",
      "5,3    3046\n",
      "5,4     923\n",
      "5,6    2445\n",
      "5,7     640\n",
      "5,9    1886\n",
      "6       416\n",
      "6,2     852\n",
      "6,3     787\n",
      "6,5     401\n",
      "6,6     331\n",
      "6,7     314\n",
      "6,8     249\n",
      "6,9     207\n",
      "7,1     287\n",
      "7,3     131\n",
      "7,5      76\n",
      "7,7      45\n",
      "7,9      99\n",
      "8        27\n",
      "8,6      14\n",
      "8,7      38\n",
      "8,8       5\n",
      "Name: PUNT_PROFUNDIZACION, dtype: int64\n",
      "Elementos null/NaN 0\n",
      "__________________\n",
      "Elementos diferentes de null/NaN: 30266\n",
      "__________________\n",
      "(30266,)\n",
      "None\n"
     ]
    }
   ],
   "source": [
    "c = 'PUNT_PROFUNDIZACION'\n",
    "print(data_2010[c].value_counts().sort_index().index)\n",
    "print(data_2010[c].value_counts().sort_index())\n",
    "print(missing_data(data_2010[c]))"
   ]
  },
  {
   "cell_type": "code",
   "execution_count": 112,
   "metadata": {
    "collapsed": true
   },
   "outputs": [],
   "source": [
    "clean_target(data_2010, c)"
   ]
  },
  {
   "cell_type": "code",
   "execution_count": 113,
   "metadata": {
    "collapsed": false,
    "scrolled": true
   },
   "outputs": [
    {
     "name": "stdout",
     "output_type": "stream",
     "text": [
      "Index(['GB', 'I', 'II', 'III'], dtype='object')\n",
      "GB     12996\n",
      "I      13979\n",
      "II      2946\n",
      "III      345\n",
      "Name: DESEMP_PROFUNDIZACION, dtype: int64\n",
      "Elementos null/NaN 0\n",
      "__________________\n",
      "Elementos diferentes de null/NaN: 30266\n",
      "__________________\n",
      "(30266,)\n",
      "None\n"
     ]
    }
   ],
   "source": [
    "c = 'DESEMP_PROFUNDIZACION'\n",
    "print(data_2010[c].value_counts().sort_index().index)\n",
    "print(data_2010[c].value_counts().sort_index())\n",
    "print(missing_data(data_2010[c]))"
   ]
  },
  {
   "cell_type": "code",
   "execution_count": 114,
   "metadata": {
    "collapsed": false
   },
   "outputs": [
    {
     "name": "stdout",
     "output_type": "stream",
     "text": [
      "Index(['MEDIO AMBIENTE', 'VIOLENCIA Y SOCIEDAD'], dtype='object')\n",
      "MEDIO AMBIENTE          15964\n",
      "VIOLENCIA Y SOCIEDAD    14302\n",
      "Name: NOMBRE_INTERDISCIPLINAR, dtype: int64\n",
      "Elementos null/NaN 0\n",
      "__________________\n",
      "Elementos diferentes de null/NaN: 30266\n",
      "__________________\n",
      "(30266,)\n",
      "None\n"
     ]
    }
   ],
   "source": [
    "c = 'NOMBRE_INTERDISCIPLINAR'\n",
    "print(data_2010[c].value_counts().sort_index().index)\n",
    "print(data_2010[c].value_counts().sort_index())\n",
    "print(missing_data(data_2010[c]))"
   ]
  },
  {
   "cell_type": "code",
   "execution_count": 115,
   "metadata": {
    "collapsed": false,
    "scrolled": true
   },
   "outputs": [
    {
     "name": "stdout",
     "output_type": "stream",
     "text": [
      "Index(['0', '24,75', '31,51', '35,93', '39,41', '42,4', '45,12', '45,54',\n",
      "       '47,27', '47,71', '48,4', '49,29', '50,07', '50,25', '50,78', '51,47',\n",
      "       '52,16', '52,84', '52,88', '53,64', '54,49', '55,49', '55,56', '56,75',\n",
      "       '58,53', '58,65', '61,55', '61,97', '66,29', '72,89', '83,26'],\n",
      "      dtype='object')\n",
      "0         222\n",
      "24,75     454\n",
      "31,51     995\n",
      "35,93    1522\n",
      "39,41    1923\n",
      "42,4     1996\n",
      "45,12    1808\n",
      "45,54     194\n",
      "47,27     560\n",
      "47,71    1475\n",
      "48,4     1024\n",
      "49,29    1495\n",
      "50,07    1710\n",
      "50,25    1204\n",
      "50,78    1927\n",
      "51,47    1904\n",
      "52,16    1696\n",
      "52,84     940\n",
      "52,88    1539\n",
      "53,64    1388\n",
      "54,49    1127\n",
      "55,49     777\n",
      "55,56     664\n",
      "56,75     403\n",
      "58,53     535\n",
      "58,65     113\n",
      "61,55      13\n",
      "61,97     335\n",
      "66,29     185\n",
      "72,89     116\n",
      "83,26      22\n",
      "Name: PUNT_INTERDISCIPLINAR, dtype: int64\n",
      "Elementos null/NaN 0\n",
      "__________________\n",
      "Elementos diferentes de null/NaN: 30266\n",
      "__________________\n",
      "(30266,)\n",
      "None\n"
     ]
    }
   ],
   "source": [
    "c = 'PUNT_INTERDISCIPLINAR'\n",
    "print(data_2010[c].value_counts().sort_index().index)\n",
    "print(data_2010[c].value_counts().sort_index())\n",
    "print(missing_data(data_2010[c]))"
   ]
  },
  {
   "cell_type": "code",
   "execution_count": 116,
   "metadata": {
    "collapsed": true
   },
   "outputs": [],
   "source": [
    "clean_target(data_2010, c)"
   ]
  },
  {
   "cell_type": "code",
   "execution_count": 117,
   "metadata": {
    "collapsed": false,
    "scrolled": true
   },
   "outputs": [
    {
     "name": "stdout",
     "output_type": "stream",
     "text": [
      "Int64Index([   1,    2,    3,    4,    5,    6,    7,    8,    9,   10,\n",
      "            ...\n",
      "             991,  992,  993,  994,  995,  996,  997,  998,  999, 1000],\n",
      "           dtype='int64', length=1000)\n",
      "1       89\n",
      "2       81\n",
      "3       77\n",
      "4       70\n",
      "5       60\n",
      "6       71\n",
      "7       64\n",
      "8       64\n",
      "9       70\n",
      "10      55\n",
      "11      69\n",
      "12      43\n",
      "13      55\n",
      "14      60\n",
      "15      61\n",
      "16      66\n",
      "17      59\n",
      "18      56\n",
      "19      55\n",
      "20      55\n",
      "21      67\n",
      "22      53\n",
      "23      62\n",
      "24      47\n",
      "25      55\n",
      "26      63\n",
      "27      46\n",
      "28      45\n",
      "29      59\n",
      "30      59\n",
      "        ..\n",
      "971     52\n",
      "972     50\n",
      "973     45\n",
      "974     50\n",
      "975     51\n",
      "976     45\n",
      "977     44\n",
      "978     50\n",
      "979     42\n",
      "980     40\n",
      "981     44\n",
      "982     48\n",
      "983     45\n",
      "984     44\n",
      "985     56\n",
      "986     41\n",
      "987     49\n",
      "988     48\n",
      "989     47\n",
      "990     53\n",
      "991     48\n",
      "992     44\n",
      "993     57\n",
      "994     54\n",
      "995     47\n",
      "996     49\n",
      "997     54\n",
      "998     19\n",
      "999      3\n",
      "1000     9\n",
      "Name: ESTU_PUESTO, dtype: int64\n",
      "Elementos null/NaN 0\n",
      "__________________\n",
      "Elementos diferentes de null/NaN: 30266\n",
      "__________________\n",
      "(30266,)\n",
      "None\n"
     ]
    }
   ],
   "source": [
    "c = 'ESTU_PUESTO'\n",
    "print(data_2010[c].value_counts().sort_index().index)\n",
    "print(data_2010[c].value_counts().sort_index())\n",
    "print(missing_data(data_2010[c]))"
   ]
  },
  {
   "cell_type": "markdown",
   "metadata": {},
   "source": [
    "____"
   ]
  },
  {
   "cell_type": "markdown",
   "metadata": {},
   "source": [
    "____"
   ]
  },
  {
   "cell_type": "markdown",
   "metadata": {},
   "source": [
    "____"
   ]
  },
  {
   "cell_type": "markdown",
   "metadata": {},
   "source": [
    "____"
   ]
  },
  {
   "cell_type": "markdown",
   "metadata": {},
   "source": [
    "____"
   ]
  },
  {
   "cell_type": "markdown",
   "metadata": {},
   "source": [
    "____"
   ]
  },
  {
   "cell_type": "markdown",
   "metadata": {},
   "source": [
    "____"
   ]
  },
  {
   "cell_type": "markdown",
   "metadata": {},
   "source": [
    "# FILE 2: 2010_2"
   ]
  },
  {
   "cell_type": "code",
   "execution_count": 24,
   "metadata": {
    "collapsed": false
   },
   "outputs": [
    {
     "name": "stderr",
     "output_type": "stream",
     "text": [
      "/usr/local/lib/python3.4/dist-packages/IPython/core/interactiveshell.py:2902: DtypeWarning: Columns (10,11,12,13,14,15,24) have mixed types. Specify dtype option on import or set low_memory=False.\n",
      "  interactivity=interactivity, compiler=compiler, result=result)\n"
     ]
    }
   ],
   "source": [
    "data_2010_2 = pd.read_csv('../DatosFTPICFES/SABER11/SB11-BASES_DE_DATOS/SB11-20102-RGSTRO-CLFCCN-V1-0.txt', delimiter='|')"
   ]
  },
  {
   "cell_type": "code",
   "execution_count": 25,
   "metadata": {
    "collapsed": false
   },
   "outputs": [
    {
     "data": {
      "text/plain": [
       "(586779, 114)"
      ]
     },
     "execution_count": 25,
     "metadata": {},
     "output_type": "execute_result"
    }
   ],
   "source": [
    "data_2010_2.shape"
   ]
  },
  {
   "cell_type": "code",
   "execution_count": 26,
   "metadata": {
    "collapsed": false,
    "scrolled": true
   },
   "outputs": [
    {
     "data": {
      "text/html": [
       "<div>\n",
       "<table border=\"1\" class=\"dataframe\">\n",
       "  <thead>\n",
       "    <tr style=\"text-align: right;\">\n",
       "      <th></th>\n",
       "      <th>0</th>\n",
       "      <th>1</th>\n",
       "      <th>2</th>\n",
       "    </tr>\n",
       "  </thead>\n",
       "  <tbody>\n",
       "    <tr>\n",
       "      <th>ESTU_CONSECUTIVO</th>\n",
       "      <td>SABER1120102000001</td>\n",
       "      <td>SABER1120102000002</td>\n",
       "      <td>SABER1120102000003</td>\n",
       "    </tr>\n",
       "    <tr>\n",
       "      <th>PERIODO</th>\n",
       "      <td>20102</td>\n",
       "      <td>20102</td>\n",
       "      <td>20102</td>\n",
       "    </tr>\n",
       "    <tr>\n",
       "      <th>ESTU_TIPO_DOCUMENTO</th>\n",
       "      <td>T</td>\n",
       "      <td>T</td>\n",
       "      <td>T</td>\n",
       "    </tr>\n",
       "    <tr>\n",
       "      <th>ESTU_PAIS_RESIDE</th>\n",
       "      <td>CO</td>\n",
       "      <td>CO</td>\n",
       "      <td>CO</td>\n",
       "    </tr>\n",
       "    <tr>\n",
       "      <th>ESTU_GENERO</th>\n",
       "      <td>M</td>\n",
       "      <td>M</td>\n",
       "      <td>F</td>\n",
       "    </tr>\n",
       "    <tr>\n",
       "      <th>ESTU_NACIMIENTO_DIA</th>\n",
       "      <td>8</td>\n",
       "      <td>7</td>\n",
       "      <td>19</td>\n",
       "    </tr>\n",
       "    <tr>\n",
       "      <th>ESTU_NACIMIENTO_MES</th>\n",
       "      <td>10</td>\n",
       "      <td>10</td>\n",
       "      <td>3</td>\n",
       "    </tr>\n",
       "    <tr>\n",
       "      <th>ESTU_NACIMIENTO_ANNO</th>\n",
       "      <td>1992</td>\n",
       "      <td>1993</td>\n",
       "      <td>1994</td>\n",
       "    </tr>\n",
       "    <tr>\n",
       "      <th>ESTU_EDAD</th>\n",
       "      <td>17</td>\n",
       "      <td>16</td>\n",
       "      <td>16</td>\n",
       "    </tr>\n",
       "    <tr>\n",
       "      <th>ESTU_LIMITA_BAJAVISION</th>\n",
       "      <td>NaN</td>\n",
       "      <td>NaN</td>\n",
       "      <td>NaN</td>\n",
       "    </tr>\n",
       "    <tr>\n",
       "      <th>ESTU_LIMITA_SORDOCEGUERA</th>\n",
       "      <td>NaN</td>\n",
       "      <td>NaN</td>\n",
       "      <td>NaN</td>\n",
       "    </tr>\n",
       "    <tr>\n",
       "      <th>ESTU_LIMITA_COGNITIVA</th>\n",
       "      <td>NaN</td>\n",
       "      <td>NaN</td>\n",
       "      <td>NaN</td>\n",
       "    </tr>\n",
       "    <tr>\n",
       "      <th>ESTU_LIMITA_INVIDENTE</th>\n",
       "      <td>NaN</td>\n",
       "      <td>NaN</td>\n",
       "      <td>NaN</td>\n",
       "    </tr>\n",
       "    <tr>\n",
       "      <th>ESTU_LIMITA_MOTRIZ</th>\n",
       "      <td>NaN</td>\n",
       "      <td>NaN</td>\n",
       "      <td>NaN</td>\n",
       "    </tr>\n",
       "    <tr>\n",
       "      <th>ESTU_LIMITA_SORDOINTERPRETE</th>\n",
       "      <td>NaN</td>\n",
       "      <td>NaN</td>\n",
       "      <td>NaN</td>\n",
       "    </tr>\n",
       "    <tr>\n",
       "      <th>ESTU_LIMITA_SORDONOINTERPRETE</th>\n",
       "      <td>NaN</td>\n",
       "      <td>NaN</td>\n",
       "      <td>NaN</td>\n",
       "    </tr>\n",
       "    <tr>\n",
       "      <th>ESTU_ETNIA</th>\n",
       "      <td>NaN</td>\n",
       "      <td>NaN</td>\n",
       "      <td>NaN</td>\n",
       "    </tr>\n",
       "    <tr>\n",
       "      <th>ESTU_COD_RESIDE_MCPIO</th>\n",
       "      <td>11001</td>\n",
       "      <td>68001</td>\n",
       "      <td>73483</td>\n",
       "    </tr>\n",
       "    <tr>\n",
       "      <th>ESTU_RESIDE_MCPIO</th>\n",
       "      <td>BOGOTÁ D.C.</td>\n",
       "      <td>BUCARAMANGA</td>\n",
       "      <td>NATAGAIMA</td>\n",
       "    </tr>\n",
       "    <tr>\n",
       "      <th>ESTU_RESIDE_DEPTO</th>\n",
       "      <td>BOGOTÁ</td>\n",
       "      <td>SANTANDER</td>\n",
       "      <td>TOLIMA</td>\n",
       "    </tr>\n",
       "    <tr>\n",
       "      <th>ESTU_ZONA_RESIDE</th>\n",
       "      <td>4</td>\n",
       "      <td>5</td>\n",
       "      <td>10</td>\n",
       "    </tr>\n",
       "    <tr>\n",
       "      <th>ESTU_AREA_RESIDE</th>\n",
       "      <td>1</td>\n",
       "      <td>1</td>\n",
       "      <td>2</td>\n",
       "    </tr>\n",
       "    <tr>\n",
       "      <th>IND_COD_ICFES_TERMINO</th>\n",
       "      <td>21766</td>\n",
       "      <td>14381</td>\n",
       "      <td>16451</td>\n",
       "    </tr>\n",
       "    <tr>\n",
       "      <th>COLE_COD_ICFES</th>\n",
       "      <td>21766</td>\n",
       "      <td>14381</td>\n",
       "      <td>16451</td>\n",
       "    </tr>\n",
       "    <tr>\n",
       "      <th>COLE_COD_DANE_INSTITUCION</th>\n",
       "      <td>3.11001e+11</td>\n",
       "      <td>1.68001e+11</td>\n",
       "      <td>1.73483e+11</td>\n",
       "    </tr>\n",
       "    <tr>\n",
       "      <th>COLE_NOMBRE_SEDE</th>\n",
       "      <td>COL PARROQ DE NSTRA SEÑORA</td>\n",
       "      <td>IE.TECNOLG.SALESIANO ELOY VALENZUELA</td>\n",
       "      <td>I.E.T. FRANCISCO JOSE DE CALDAS - SEDE PRINCIPAL</td>\n",
       "    </tr>\n",
       "    <tr>\n",
       "      <th>COLE_CALENDARIO</th>\n",
       "      <td>A</td>\n",
       "      <td>A</td>\n",
       "      <td>A</td>\n",
       "    </tr>\n",
       "    <tr>\n",
       "      <th>COLE_GENERO</th>\n",
       "      <td>X</td>\n",
       "      <td>M</td>\n",
       "      <td>X</td>\n",
       "    </tr>\n",
       "    <tr>\n",
       "      <th>COLE_NATURALEZA</th>\n",
       "      <td>N</td>\n",
       "      <td>O</td>\n",
       "      <td>O</td>\n",
       "    </tr>\n",
       "    <tr>\n",
       "      <th>COLE_BILINGUE</th>\n",
       "      <td>0</td>\n",
       "      <td>0</td>\n",
       "      <td>0</td>\n",
       "    </tr>\n",
       "    <tr>\n",
       "      <th>...</th>\n",
       "      <td>...</td>\n",
       "      <td>...</td>\n",
       "      <td>...</td>\n",
       "    </tr>\n",
       "    <tr>\n",
       "      <th>FAMI_PERSONAS_HOGAR</th>\n",
       "      <td>5</td>\n",
       "      <td>5</td>\n",
       "      <td>8</td>\n",
       "    </tr>\n",
       "    <tr>\n",
       "      <th>FAMI_CUARTOS_HOGAR</th>\n",
       "      <td>NaN</td>\n",
       "      <td>NaN</td>\n",
       "      <td>NaN</td>\n",
       "    </tr>\n",
       "    <tr>\n",
       "      <th>FAMI_PISOSHOGAR</th>\n",
       "      <td>4</td>\n",
       "      <td>4</td>\n",
       "      <td>2</td>\n",
       "    </tr>\n",
       "    <tr>\n",
       "      <th>FAMI_TELEFONO_FIJO</th>\n",
       "      <td>0</td>\n",
       "      <td>1</td>\n",
       "      <td>0</td>\n",
       "    </tr>\n",
       "    <tr>\n",
       "      <th>FAMI_CELULAR</th>\n",
       "      <td>1</td>\n",
       "      <td>1</td>\n",
       "      <td>1</td>\n",
       "    </tr>\n",
       "    <tr>\n",
       "      <th>FAMI_INTERNET</th>\n",
       "      <td>0</td>\n",
       "      <td>1</td>\n",
       "      <td>0</td>\n",
       "    </tr>\n",
       "    <tr>\n",
       "      <th>FAMI_SERVICIO_TELEVISION</th>\n",
       "      <td>1</td>\n",
       "      <td>1</td>\n",
       "      <td>0</td>\n",
       "    </tr>\n",
       "    <tr>\n",
       "      <th>FAMI_COMPUTADOR</th>\n",
       "      <td>3</td>\n",
       "      <td>3</td>\n",
       "      <td>0</td>\n",
       "    </tr>\n",
       "    <tr>\n",
       "      <th>FAMI_LAVADORA</th>\n",
       "      <td>1</td>\n",
       "      <td>1</td>\n",
       "      <td>0</td>\n",
       "    </tr>\n",
       "    <tr>\n",
       "      <th>FAMI_NEVERA</th>\n",
       "      <td>1</td>\n",
       "      <td>1</td>\n",
       "      <td>1</td>\n",
       "    </tr>\n",
       "    <tr>\n",
       "      <th>FAMI_HORNO</th>\n",
       "      <td>1</td>\n",
       "      <td>0</td>\n",
       "      <td>0</td>\n",
       "    </tr>\n",
       "    <tr>\n",
       "      <th>FAMI_DVD</th>\n",
       "      <td>1</td>\n",
       "      <td>1</td>\n",
       "      <td>1</td>\n",
       "    </tr>\n",
       "    <tr>\n",
       "      <th>FAMI_MICROONDAS</th>\n",
       "      <td>1</td>\n",
       "      <td>1</td>\n",
       "      <td>0</td>\n",
       "    </tr>\n",
       "    <tr>\n",
       "      <th>FAMI_AUTOMOVIL</th>\n",
       "      <td>1</td>\n",
       "      <td>1</td>\n",
       "      <td>0</td>\n",
       "    </tr>\n",
       "    <tr>\n",
       "      <th>FAMI_INGRESO_FMILIAR_MENSUAL</th>\n",
       "      <td>4</td>\n",
       "      <td>4</td>\n",
       "      <td>2</td>\n",
       "    </tr>\n",
       "    <tr>\n",
       "      <th>ESTU_TRABAJA</th>\n",
       "      <td>0</td>\n",
       "      <td>0</td>\n",
       "      <td>0</td>\n",
       "    </tr>\n",
       "    <tr>\n",
       "      <th>ESTU_HORAS_TRABAJA</th>\n",
       "      <td>NaN</td>\n",
       "      <td>NaN</td>\n",
       "      <td>NaN</td>\n",
       "    </tr>\n",
       "    <tr>\n",
       "      <th>PUNT_LENGUAJE</th>\n",
       "      <td>56,41</td>\n",
       "      <td>59,4</td>\n",
       "      <td>50,6</td>\n",
       "    </tr>\n",
       "    <tr>\n",
       "      <th>PUNT_MATEMATICAS</th>\n",
       "      <td>68,39</td>\n",
       "      <td>69,01</td>\n",
       "      <td>39,12</td>\n",
       "    </tr>\n",
       "    <tr>\n",
       "      <th>PUNT_C_SOCIALES</th>\n",
       "      <td>58,08</td>\n",
       "      <td>69,34</td>\n",
       "      <td>43,18</td>\n",
       "    </tr>\n",
       "    <tr>\n",
       "      <th>PUNT_FILOSOFIA</th>\n",
       "      <td>50,93</td>\n",
       "      <td>75,71</td>\n",
       "      <td>45,2</td>\n",
       "    </tr>\n",
       "    <tr>\n",
       "      <th>PUNT_BIOLOGIA</th>\n",
       "      <td>55,09</td>\n",
       "      <td>65,98</td>\n",
       "      <td>37,43</td>\n",
       "    </tr>\n",
       "    <tr>\n",
       "      <th>PUNT_QUIMICA</th>\n",
       "      <td>59</td>\n",
       "      <td>75,02</td>\n",
       "      <td>40,31</td>\n",
       "    </tr>\n",
       "    <tr>\n",
       "      <th>PUNT_FISICA</th>\n",
       "      <td>63,86</td>\n",
       "      <td>83,07</td>\n",
       "      <td>50,64</td>\n",
       "    </tr>\n",
       "    <tr>\n",
       "      <th>PUNT_INGLES</th>\n",
       "      <td>43,53</td>\n",
       "      <td>89,24</td>\n",
       "      <td>34,94</td>\n",
       "    </tr>\n",
       "    <tr>\n",
       "      <th>DESEMP_INGLES</th>\n",
       "      <td>A-</td>\n",
       "      <td>B+</td>\n",
       "      <td>A-</td>\n",
       "    </tr>\n",
       "    <tr>\n",
       "      <th>NOMBRE_COMP_FLEXIBLE</th>\n",
       "      <td>PROFUNDIZACIÓN EN CIENCIAS SOCIALES</td>\n",
       "      <td>PROFUNDIZACIÓN EN BIOLOGÍA</td>\n",
       "      <td>MEDIO AMBIENTE</td>\n",
       "    </tr>\n",
       "    <tr>\n",
       "      <th>PUNT_COMP_FLEXIBLE</th>\n",
       "      <td>5,2</td>\n",
       "      <td>6,5</td>\n",
       "      <td>54,75</td>\n",
       "    </tr>\n",
       "    <tr>\n",
       "      <th>DESEMP_COMP_FLEXIBLE</th>\n",
       "      <td>II</td>\n",
       "      <td>III</td>\n",
       "      <td>NaN</td>\n",
       "    </tr>\n",
       "    <tr>\n",
       "      <th>ESTU_PUESTO</th>\n",
       "      <td>127</td>\n",
       "      <td>15</td>\n",
       "      <td>807</td>\n",
       "    </tr>\n",
       "  </tbody>\n",
       "</table>\n",
       "<p>114 rows × 3 columns</p>\n",
       "</div>"
      ],
      "text/plain": [
       "                                                                 0  \\\n",
       "ESTU_CONSECUTIVO                                SABER1120102000001   \n",
       "PERIODO                                                      20102   \n",
       "ESTU_TIPO_DOCUMENTO                                              T   \n",
       "ESTU_PAIS_RESIDE                                                CO   \n",
       "ESTU_GENERO                                                      M   \n",
       "ESTU_NACIMIENTO_DIA                                              8   \n",
       "ESTU_NACIMIENTO_MES                                             10   \n",
       "ESTU_NACIMIENTO_ANNO                                          1992   \n",
       "ESTU_EDAD                                                       17   \n",
       "ESTU_LIMITA_BAJAVISION                                         NaN   \n",
       "ESTU_LIMITA_SORDOCEGUERA                                       NaN   \n",
       "ESTU_LIMITA_COGNITIVA                                          NaN   \n",
       "ESTU_LIMITA_INVIDENTE                                          NaN   \n",
       "ESTU_LIMITA_MOTRIZ                                             NaN   \n",
       "ESTU_LIMITA_SORDOINTERPRETE                                    NaN   \n",
       "ESTU_LIMITA_SORDONOINTERPRETE                                  NaN   \n",
       "ESTU_ETNIA                                                     NaN   \n",
       "ESTU_COD_RESIDE_MCPIO                                        11001   \n",
       "ESTU_RESIDE_MCPIO                                      BOGOTÁ D.C.   \n",
       "ESTU_RESIDE_DEPTO                                           BOGOTÁ   \n",
       "ESTU_ZONA_RESIDE                                                 4   \n",
       "ESTU_AREA_RESIDE                                                 1   \n",
       "IND_COD_ICFES_TERMINO                                        21766   \n",
       "COLE_COD_ICFES                                               21766   \n",
       "COLE_COD_DANE_INSTITUCION                              3.11001e+11   \n",
       "COLE_NOMBRE_SEDE                        COL PARROQ DE NSTRA SEÑORA   \n",
       "COLE_CALENDARIO                                                  A   \n",
       "COLE_GENERO                                                      X   \n",
       "COLE_NATURALEZA                                                  N   \n",
       "COLE_BILINGUE                                                    0   \n",
       "...                                                            ...   \n",
       "FAMI_PERSONAS_HOGAR                                              5   \n",
       "FAMI_CUARTOS_HOGAR                                             NaN   \n",
       "FAMI_PISOSHOGAR                                                  4   \n",
       "FAMI_TELEFONO_FIJO                                               0   \n",
       "FAMI_CELULAR                                                     1   \n",
       "FAMI_INTERNET                                                    0   \n",
       "FAMI_SERVICIO_TELEVISION                                         1   \n",
       "FAMI_COMPUTADOR                                                  3   \n",
       "FAMI_LAVADORA                                                    1   \n",
       "FAMI_NEVERA                                                      1   \n",
       "FAMI_HORNO                                                       1   \n",
       "FAMI_DVD                                                         1   \n",
       "FAMI_MICROONDAS                                                  1   \n",
       "FAMI_AUTOMOVIL                                                   1   \n",
       "FAMI_INGRESO_FMILIAR_MENSUAL                                     4   \n",
       "ESTU_TRABAJA                                                     0   \n",
       "ESTU_HORAS_TRABAJA                                             NaN   \n",
       "PUNT_LENGUAJE                                                56,41   \n",
       "PUNT_MATEMATICAS                                             68,39   \n",
       "PUNT_C_SOCIALES                                              58,08   \n",
       "PUNT_FILOSOFIA                                               50,93   \n",
       "PUNT_BIOLOGIA                                                55,09   \n",
       "PUNT_QUIMICA                                                    59   \n",
       "PUNT_FISICA                                                  63,86   \n",
       "PUNT_INGLES                                                  43,53   \n",
       "DESEMP_INGLES                                                   A-   \n",
       "NOMBRE_COMP_FLEXIBLE           PROFUNDIZACIÓN EN CIENCIAS SOCIALES   \n",
       "PUNT_COMP_FLEXIBLE                                             5,2   \n",
       "DESEMP_COMP_FLEXIBLE                                            II   \n",
       "ESTU_PUESTO                                                    127   \n",
       "\n",
       "                                                                  1  \\\n",
       "ESTU_CONSECUTIVO                                 SABER1120102000002   \n",
       "PERIODO                                                       20102   \n",
       "ESTU_TIPO_DOCUMENTO                                               T   \n",
       "ESTU_PAIS_RESIDE                                                 CO   \n",
       "ESTU_GENERO                                                       M   \n",
       "ESTU_NACIMIENTO_DIA                                               7   \n",
       "ESTU_NACIMIENTO_MES                                              10   \n",
       "ESTU_NACIMIENTO_ANNO                                           1993   \n",
       "ESTU_EDAD                                                        16   \n",
       "ESTU_LIMITA_BAJAVISION                                          NaN   \n",
       "ESTU_LIMITA_SORDOCEGUERA                                        NaN   \n",
       "ESTU_LIMITA_COGNITIVA                                           NaN   \n",
       "ESTU_LIMITA_INVIDENTE                                           NaN   \n",
       "ESTU_LIMITA_MOTRIZ                                              NaN   \n",
       "ESTU_LIMITA_SORDOINTERPRETE                                     NaN   \n",
       "ESTU_LIMITA_SORDONOINTERPRETE                                   NaN   \n",
       "ESTU_ETNIA                                                      NaN   \n",
       "ESTU_COD_RESIDE_MCPIO                                         68001   \n",
       "ESTU_RESIDE_MCPIO                                       BUCARAMANGA   \n",
       "ESTU_RESIDE_DEPTO                                         SANTANDER   \n",
       "ESTU_ZONA_RESIDE                                                  5   \n",
       "ESTU_AREA_RESIDE                                                  1   \n",
       "IND_COD_ICFES_TERMINO                                         14381   \n",
       "COLE_COD_ICFES                                                14381   \n",
       "COLE_COD_DANE_INSTITUCION                               1.68001e+11   \n",
       "COLE_NOMBRE_SEDE               IE.TECNOLG.SALESIANO ELOY VALENZUELA   \n",
       "COLE_CALENDARIO                                                   A   \n",
       "COLE_GENERO                                                       M   \n",
       "COLE_NATURALEZA                                                   O   \n",
       "COLE_BILINGUE                                                     0   \n",
       "...                                                             ...   \n",
       "FAMI_PERSONAS_HOGAR                                               5   \n",
       "FAMI_CUARTOS_HOGAR                                              NaN   \n",
       "FAMI_PISOSHOGAR                                                   4   \n",
       "FAMI_TELEFONO_FIJO                                                1   \n",
       "FAMI_CELULAR                                                      1   \n",
       "FAMI_INTERNET                                                     1   \n",
       "FAMI_SERVICIO_TELEVISION                                          1   \n",
       "FAMI_COMPUTADOR                                                   3   \n",
       "FAMI_LAVADORA                                                     1   \n",
       "FAMI_NEVERA                                                       1   \n",
       "FAMI_HORNO                                                        0   \n",
       "FAMI_DVD                                                          1   \n",
       "FAMI_MICROONDAS                                                   1   \n",
       "FAMI_AUTOMOVIL                                                    1   \n",
       "FAMI_INGRESO_FMILIAR_MENSUAL                                      4   \n",
       "ESTU_TRABAJA                                                      0   \n",
       "ESTU_HORAS_TRABAJA                                              NaN   \n",
       "PUNT_LENGUAJE                                                  59,4   \n",
       "PUNT_MATEMATICAS                                              69,01   \n",
       "PUNT_C_SOCIALES                                               69,34   \n",
       "PUNT_FILOSOFIA                                                75,71   \n",
       "PUNT_BIOLOGIA                                                 65,98   \n",
       "PUNT_QUIMICA                                                  75,02   \n",
       "PUNT_FISICA                                                   83,07   \n",
       "PUNT_INGLES                                                   89,24   \n",
       "DESEMP_INGLES                                                    B+   \n",
       "NOMBRE_COMP_FLEXIBLE                     PROFUNDIZACIÓN EN BIOLOGÍA   \n",
       "PUNT_COMP_FLEXIBLE                                              6,5   \n",
       "DESEMP_COMP_FLEXIBLE                                            III   \n",
       "ESTU_PUESTO                                                      15   \n",
       "\n",
       "                                                                              2  \n",
       "ESTU_CONSECUTIVO                                             SABER1120102000003  \n",
       "PERIODO                                                                   20102  \n",
       "ESTU_TIPO_DOCUMENTO                                                           T  \n",
       "ESTU_PAIS_RESIDE                                                             CO  \n",
       "ESTU_GENERO                                                                   F  \n",
       "ESTU_NACIMIENTO_DIA                                                          19  \n",
       "ESTU_NACIMIENTO_MES                                                           3  \n",
       "ESTU_NACIMIENTO_ANNO                                                       1994  \n",
       "ESTU_EDAD                                                                    16  \n",
       "ESTU_LIMITA_BAJAVISION                                                      NaN  \n",
       "ESTU_LIMITA_SORDOCEGUERA                                                    NaN  \n",
       "ESTU_LIMITA_COGNITIVA                                                       NaN  \n",
       "ESTU_LIMITA_INVIDENTE                                                       NaN  \n",
       "ESTU_LIMITA_MOTRIZ                                                          NaN  \n",
       "ESTU_LIMITA_SORDOINTERPRETE                                                 NaN  \n",
       "ESTU_LIMITA_SORDONOINTERPRETE                                               NaN  \n",
       "ESTU_ETNIA                                                                  NaN  \n",
       "ESTU_COD_RESIDE_MCPIO                                                     73483  \n",
       "ESTU_RESIDE_MCPIO                                                     NATAGAIMA  \n",
       "ESTU_RESIDE_DEPTO                                                        TOLIMA  \n",
       "ESTU_ZONA_RESIDE                                                             10  \n",
       "ESTU_AREA_RESIDE                                                              2  \n",
       "IND_COD_ICFES_TERMINO                                                     16451  \n",
       "COLE_COD_ICFES                                                            16451  \n",
       "COLE_COD_DANE_INSTITUCION                                           1.73483e+11  \n",
       "COLE_NOMBRE_SEDE               I.E.T. FRANCISCO JOSE DE CALDAS - SEDE PRINCIPAL  \n",
       "COLE_CALENDARIO                                                               A  \n",
       "COLE_GENERO                                                                   X  \n",
       "COLE_NATURALEZA                                                               O  \n",
       "COLE_BILINGUE                                                                 0  \n",
       "...                                                                         ...  \n",
       "FAMI_PERSONAS_HOGAR                                                           8  \n",
       "FAMI_CUARTOS_HOGAR                                                          NaN  \n",
       "FAMI_PISOSHOGAR                                                               2  \n",
       "FAMI_TELEFONO_FIJO                                                            0  \n",
       "FAMI_CELULAR                                                                  1  \n",
       "FAMI_INTERNET                                                                 0  \n",
       "FAMI_SERVICIO_TELEVISION                                                      0  \n",
       "FAMI_COMPUTADOR                                                               0  \n",
       "FAMI_LAVADORA                                                                 0  \n",
       "FAMI_NEVERA                                                                   1  \n",
       "FAMI_HORNO                                                                    0  \n",
       "FAMI_DVD                                                                      1  \n",
       "FAMI_MICROONDAS                                                               0  \n",
       "FAMI_AUTOMOVIL                                                                0  \n",
       "FAMI_INGRESO_FMILIAR_MENSUAL                                                  2  \n",
       "ESTU_TRABAJA                                                                  0  \n",
       "ESTU_HORAS_TRABAJA                                                          NaN  \n",
       "PUNT_LENGUAJE                                                              50,6  \n",
       "PUNT_MATEMATICAS                                                          39,12  \n",
       "PUNT_C_SOCIALES                                                           43,18  \n",
       "PUNT_FILOSOFIA                                                             45,2  \n",
       "PUNT_BIOLOGIA                                                             37,43  \n",
       "PUNT_QUIMICA                                                              40,31  \n",
       "PUNT_FISICA                                                               50,64  \n",
       "PUNT_INGLES                                                               34,94  \n",
       "DESEMP_INGLES                                                                A-  \n",
       "NOMBRE_COMP_FLEXIBLE                                             MEDIO AMBIENTE  \n",
       "PUNT_COMP_FLEXIBLE                                                        54,75  \n",
       "DESEMP_COMP_FLEXIBLE                                                        NaN  \n",
       "ESTU_PUESTO                                                                 807  \n",
       "\n",
       "[114 rows x 3 columns]"
      ]
     },
     "execution_count": 26,
     "metadata": {},
     "output_type": "execute_result"
    }
   ],
   "source": [
    "data_2010_2.head(3).T"
   ]
  },
  {
   "cell_type": "code",
   "execution_count": 27,
   "metadata": {
    "collapsed": true
   },
   "outputs": [],
   "source": [
    "data_2010_2 = data_2010_2.drop(['ESTU_CONSECUTIVO', 'PERIODO', 'ESTU_TIPO_DOCUMENTO', 'ESTU_COD_RESIDE_MCPIO',\n",
    "                               'COLE_NOMBRE_SEDE', 'ESTU_IES_DESEADA_NOMBRE', 'ESTU_IES_COD_MPIO_DESEADA'], axis=1)"
   ]
  },
  {
   "cell_type": "code",
   "execution_count": 28,
   "metadata": {
    "collapsed": false,
    "scrolled": true
   },
   "outputs": [
    {
     "name": "stdout",
     "output_type": "stream",
     "text": [
      "Index(['AR', 'AW', 'BR', 'CL', 'CN', 'CO', 'CU', 'DE', 'EC', 'ES', 'GT', 'HN',\n",
      "       'IT', 'MX', 'PA', 'PE', 'PY', 'RU', 'US', 'UY', 'VE', 'VN'],\n",
      "      dtype='object')\n",
      "AR         3\n",
      "AW         1\n",
      "BR         7\n",
      "CL         2\n",
      "CN         1\n",
      "CO    586537\n",
      "CU         6\n",
      "DE         1\n",
      "EC         6\n",
      "ES         6\n",
      "GT         3\n",
      "HN         1\n",
      "IT         1\n",
      "MX         5\n",
      "PA         2\n",
      "PE         8\n",
      "PY         3\n",
      "RU         1\n",
      "US        11\n",
      "UY         1\n",
      "VE        63\n",
      "VN         1\n",
      "Name: ESTU_PAIS_RESIDE, dtype: int64\n",
      "Elementos null/NaN 109\n",
      "__________________\n",
      "Elementos diferentes de null/NaN: 586670\n",
      "__________________\n",
      "(586670,)\n",
      "None\n"
     ]
    }
   ],
   "source": [
    "c = 'ESTU_PAIS_RESIDE'\n",
    "print(data_2010_2[c].value_counts().sort_index().index)\n",
    "print(data_2010_2[c].value_counts().sort_index())\n",
    "print(missing_data(data_2010_2[c]))"
   ]
  },
  {
   "cell_type": "code",
   "execution_count": 29,
   "metadata": {
    "collapsed": false
   },
   "outputs": [
    {
     "name": "stdout",
     "output_type": "stream",
     "text": [
      "cant null antes: 109\n",
      "cant null despues: 0\n"
     ]
    }
   ],
   "source": [
    "Do_resamples(data_2010_2, c, str)"
   ]
  },
  {
   "cell_type": "code",
   "execution_count": 30,
   "metadata": {
    "collapsed": false
   },
   "outputs": [
    {
     "name": "stdout",
     "output_type": "stream",
     "text": [
      "Index(['F', 'M'], dtype='object')\n",
      "F    316897\n",
      "M    265810\n",
      "Name: ESTU_GENERO, dtype: int64\n",
      "Elementos null/NaN 4072\n",
      "__________________\n",
      "Elementos diferentes de null/NaN: 582707\n",
      "__________________\n",
      "(582707,)\n",
      "None\n"
     ]
    }
   ],
   "source": [
    "c = 'ESTU_GENERO'\n",
    "print(data_2010_2[c].value_counts().sort_index().index)\n",
    "print(data_2010_2[c].value_counts().sort_index())\n",
    "print(missing_data(data_2010_2[c]))"
   ]
  },
  {
   "cell_type": "code",
   "execution_count": 31,
   "metadata": {
    "collapsed": false
   },
   "outputs": [
    {
     "name": "stdout",
     "output_type": "stream",
     "text": [
      "cant null antes: 4072\n",
      "cant null despues: 0\n"
     ]
    }
   ],
   "source": [
    "Do_resamples(data_2010_2, c, str)"
   ]
  },
  {
   "cell_type": "code",
   "execution_count": 32,
   "metadata": {
    "collapsed": false,
    "scrolled": true
   },
   "outputs": [
    {
     "name": "stdout",
     "output_type": "stream",
     "text": [
      "Float64Index([ 1.0,  2.0,  3.0,  4.0,  5.0,  6.0,  7.0,  8.0,  9.0, 10.0, 11.0,\n",
      "              12.0, 13.0, 14.0, 15.0, 16.0, 17.0, 18.0, 19.0, 20.0, 21.0, 22.0,\n",
      "              23.0, 24.0, 25.0, 26.0, 27.0, 28.0, 29.0, 30.0, 31.0],\n",
      "             dtype='float64')\n",
      "1     19598\n",
      "2     19379\n",
      "3     19382\n",
      "4     19197\n",
      "5     19393\n",
      "6     19119\n",
      "7     19193\n",
      "8     19436\n",
      "9     18781\n",
      "10    19904\n",
      "11    19197\n",
      "12    19630\n",
      "13    19192\n",
      "14    18959\n",
      "15    19675\n",
      "16    19137\n",
      "17    19021\n",
      "18    19080\n",
      "19    18831\n",
      "20    19538\n",
      "21    18818\n",
      "22    19262\n",
      "23    19166\n",
      "24    19165\n",
      "25    18826\n",
      "26    18583\n",
      "27    18899\n",
      "28    19327\n",
      "29    17370\n",
      "30    17039\n",
      "31    10422\n",
      "Name: ESTU_NACIMIENTO_DIA, dtype: int64\n",
      "Elementos null/NaN 4260\n",
      "__________________\n",
      "Elementos diferentes de null/NaN: 582519\n",
      "__________________\n",
      "(582519,)\n",
      "None\n"
     ]
    }
   ],
   "source": [
    "c = 'ESTU_NACIMIENTO_DIA'\n",
    "print(data_2010_2[c].value_counts().sort_index().index)\n",
    "print(data_2010_2[c].value_counts().sort_index())\n",
    "print(missing_data(data_2010_2[c]))"
   ]
  },
  {
   "cell_type": "code",
   "execution_count": 33,
   "metadata": {
    "collapsed": false
   },
   "outputs": [
    {
     "name": "stdout",
     "output_type": "stream",
     "text": [
      "Float64Index([1.0, 2.0, 3.0, 4.0, 5.0, 6.0, 7.0, 8.0, 9.0, 10.0, 11.0, 12.0], dtype='float64')\n",
      "1     47540\n",
      "2     42975\n",
      "3     48547\n",
      "4     46507\n",
      "5     48643\n",
      "6     46209\n",
      "7     48582\n",
      "8     49216\n",
      "9     52020\n",
      "10    51449\n",
      "11    48667\n",
      "12    52164\n",
      "Name: ESTU_NACIMIENTO_MES, dtype: int64\n",
      "Elementos null/NaN 4260\n",
      "__________________\n",
      "Elementos diferentes de null/NaN: 582519\n",
      "__________________\n",
      "(582519,)\n",
      "None\n"
     ]
    }
   ],
   "source": [
    "c = 'ESTU_NACIMIENTO_MES'\n",
    "print(data_2010_2[c].value_counts().sort_index().index)\n",
    "print(data_2010_2[c].value_counts().sort_index())\n",
    "print(missing_data(data_2010_2[c]))"
   ]
  },
  {
   "cell_type": "code",
   "execution_count": 34,
   "metadata": {
    "collapsed": false,
    "scrolled": true
   },
   "outputs": [
    {
     "name": "stdout",
     "output_type": "stream",
     "text": [
      "Float64Index([  75.0,   78.0,   89.0,   90.0,   91.0,   92.0,   93.0,   94.0,\n",
      "              1911.0, 1930.0, 1933.0, 1934.0, 1935.0, 1936.0, 1937.0, 1939.0,\n",
      "              1940.0, 1941.0, 1942.0, 1943.0, 1944.0, 1945.0, 1946.0, 1947.0,\n",
      "              1948.0, 1949.0, 1950.0, 1951.0, 1952.0, 1953.0, 1954.0, 1955.0,\n",
      "              1956.0, 1957.0, 1958.0, 1959.0, 1960.0, 1961.0, 1962.0, 1963.0,\n",
      "              1964.0, 1965.0, 1966.0, 1967.0, 1968.0, 1969.0, 1970.0, 1971.0,\n",
      "              1972.0, 1973.0, 1974.0, 1975.0, 1976.0, 1977.0, 1978.0, 1979.0,\n",
      "              1980.0, 1981.0, 1982.0, 1983.0, 1984.0, 1985.0, 1986.0, 1987.0,\n",
      "              1988.0, 1989.0, 1990.0, 1991.0, 1992.0, 1993.0, 1994.0, 1995.0,\n",
      "              1996.0, 1997.0, 1998.0, 1999.0, 2000.0, 2001.0, 2002.0, 2003.0,\n",
      "              2004.0, 2005.0, 2013.0],\n",
      "             dtype='float64')\n",
      "75           1\n",
      "78           1\n",
      "89           1\n",
      "90           1\n",
      "91           2\n",
      "92           7\n",
      "93           6\n",
      "94           3\n",
      "1911         1\n",
      "1930         3\n",
      "1933         4\n",
      "1934         2\n",
      "1935         2\n",
      "1936         1\n",
      "1937         5\n",
      "1939         7\n",
      "1940         5\n",
      "1941         9\n",
      "1942         7\n",
      "1943        13\n",
      "1944        22\n",
      "1945        16\n",
      "1946        25\n",
      "1947        24\n",
      "1948        36\n",
      "1949        40\n",
      "1950        56\n",
      "1951        65\n",
      "1952        89\n",
      "1953       102\n",
      "         ...  \n",
      "1977      1574\n",
      "1978      1572\n",
      "1979      1791\n",
      "1980      1986\n",
      "1981      2202\n",
      "1982      2658\n",
      "1983      3017\n",
      "1984      3094\n",
      "1985      3391\n",
      "1986      3933\n",
      "1987      4974\n",
      "1988      6703\n",
      "1989     10899\n",
      "1990     21675\n",
      "1991     48739\n",
      "1992    106895\n",
      "1993    205401\n",
      "1994    122278\n",
      "1995      9322\n",
      "1996       407\n",
      "1997       119\n",
      "1998       224\n",
      "1999       196\n",
      "2000      3952\n",
      "2001       271\n",
      "2002        61\n",
      "2003        27\n",
      "2004        27\n",
      "2005         2\n",
      "2013         2\n",
      "Name: ESTU_NACIMIENTO_ANNO, dtype: int64\n",
      "Elementos null/NaN 4260\n",
      "__________________\n",
      "Elementos diferentes de null/NaN: 582519\n",
      "__________________\n",
      "(582519,)\n",
      "None\n"
     ]
    }
   ],
   "source": [
    "c = 'ESTU_NACIMIENTO_ANNO'\n",
    "print(data_2010_2[c].value_counts().sort_index().index)\n",
    "print(data_2010_2[c].value_counts().sort_index())\n",
    "print(missing_data(data_2010_2[c]))"
   ]
  },
  {
   "cell_type": "code",
   "execution_count": 35,
   "metadata": {
    "collapsed": false
   },
   "outputs": [],
   "source": [
    "for i in data_2010_2[c].value_counts().sort_index().index:\n",
    "    if i < 1930:\n",
    "        data_2010_2[c] = data_2010_2[c].replace(i, np.nan)\n",
    "    elif i > 2001:\n",
    "        data_2010_2[c] = data_2010_2[c].replace(i, np.nan)"
   ]
  },
  {
   "cell_type": "code",
   "execution_count": 37,
   "metadata": {
    "collapsed": false
   },
   "outputs": [],
   "source": [
    "anno = data_2010_2[data_2010_2[c].isnull()].index\n",
    "data_2010_2 = data_2010_2.drop(anno)"
   ]
  },
  {
   "cell_type": "code",
   "execution_count": 40,
   "metadata": {
    "collapsed": false,
    "scrolled": true
   },
   "outputs": [
    {
     "name": "stdout",
     "output_type": "stream",
     "text": [
      "Float64Index([ 9.0, 10.0, 11.0, 12.0, 13.0, 14.0, 15.0, 16.0, 17.0, 18.0, 19.0,\n",
      "              20.0, 21.0, 22.0, 23.0, 24.0, 25.0, 26.0, 27.0, 28.0, 29.0, 30.0,\n",
      "              31.0, 32.0, 33.0, 34.0, 35.0, 36.0, 37.0, 38.0, 39.0, 40.0, 41.0,\n",
      "              42.0, 43.0, 44.0, 45.0, 46.0, 47.0, 48.0, 49.0, 50.0, 51.0, 52.0,\n",
      "              53.0, 54.0, 55.0, 56.0, 57.0, 58.0, 59.0, 60.0, 61.0, 62.0, 63.0,\n",
      "              64.0, 65.0, 66.0, 67.0, 68.0, 69.0, 70.0, 71.0, 72.0, 73.0, 74.0,\n",
      "              75.0, 76.0, 77.0, 79.0, 80.0],\n",
      "             dtype='float64')\n",
      "9       2866\n",
      "10      1634\n",
      "11       245\n",
      "12       156\n",
      "13       148\n",
      "14      1524\n",
      "15     32028\n",
      "16    200764\n",
      "17    157300\n",
      "18     77119\n",
      "19     34770\n",
      "20     16010\n",
      "21      8758\n",
      "22      5746\n",
      "23      4531\n",
      "24      3657\n",
      "25      3223\n",
      "26      3092\n",
      "27      2859\n",
      "28      2426\n",
      "29      2105\n",
      "30      1925\n",
      "31      1713\n",
      "32      1523\n",
      "33      1542\n",
      "34      1355\n",
      "35      1309\n",
      "36      1123\n",
      "37      1133\n",
      "38      1018\n",
      "       ...  \n",
      "50       296\n",
      "51       220\n",
      "52       194\n",
      "53       169\n",
      "54       152\n",
      "55       165\n",
      "56       112\n",
      "57        87\n",
      "58        87\n",
      "59        51\n",
      "60        51\n",
      "61        45\n",
      "62        28\n",
      "63        26\n",
      "64        17\n",
      "65        17\n",
      "66        18\n",
      "67        12\n",
      "68         8\n",
      "69         9\n",
      "70         6\n",
      "71         3\n",
      "72         2\n",
      "73         3\n",
      "74         3\n",
      "75         1\n",
      "76         2\n",
      "77         2\n",
      "79         1\n",
      "80         3\n",
      "Name: ESTU_EDAD, dtype: int64\n",
      "Elementos null/NaN 250\n",
      "__________________\n",
      "Elementos diferentes de null/NaN: 582127\n",
      "__________________\n",
      "(582127,)\n",
      "None\n"
     ]
    }
   ],
   "source": [
    "c = 'ESTU_EDAD'\n",
    "print(data_2010_2[c].value_counts().sort_index().index)\n",
    "print(data_2010_2[c].value_counts().sort_index())\n",
    "print(missing_data(data_2010_2[c]))"
   ]
  },
  {
   "cell_type": "code",
   "execution_count": 41,
   "metadata": {
    "collapsed": false
   },
   "outputs": [
    {
     "name": "stdout",
     "output_type": "stream",
     "text": [
      "cant null antes: 250\n",
      "cant null despues: 0\n"
     ]
    }
   ],
   "source": [
    "Do_resamples(data_2010_2, c, float)"
   ]
  },
  {
   "cell_type": "code",
   "execution_count": 42,
   "metadata": {
    "collapsed": false
   },
   "outputs": [
    {
     "name": "stdout",
     "output_type": "stream",
     "text": [
      "Float64Index([], dtype='float64')\n",
      "Series([], Name: ESTU_LIMITA_BAJAVISION, dtype: int64)\n",
      "Elementos null/NaN 582377\n",
      "__________________\n",
      "Elementos diferentes de null/NaN: 0\n",
      "__________________\n",
      "(0,)\n",
      "None\n"
     ]
    }
   ],
   "source": [
    "c = 'ESTU_LIMITA_BAJAVISION'\n",
    "print(data_2010_2[c].value_counts().sort_index().index)\n",
    "print(data_2010_2[c].value_counts().sort_index())\n",
    "print(missing_data(data_2010_2[c]))"
   ]
  },
  {
   "cell_type": "code",
   "execution_count": 43,
   "metadata": {
    "collapsed": false
   },
   "outputs": [
    {
     "name": "stdout",
     "output_type": "stream",
     "text": [
      "Index(['C'], dtype='object')\n",
      "C    16\n",
      "Name: ESTU_LIMITA_SORDOCEGUERA, dtype: int64\n",
      "Elementos null/NaN 582361\n",
      "__________________\n",
      "Elementos diferentes de null/NaN: 16\n",
      "__________________\n",
      "(16,)\n",
      "None\n"
     ]
    }
   ],
   "source": [
    "c = 'ESTU_LIMITA_SORDOCEGUERA'\n",
    "print(data_2010_2[c].value_counts().sort_index().index)\n",
    "print(data_2010_2[c].value_counts().sort_index())\n",
    "print(missing_data(data_2010_2[c]))"
   ]
  },
  {
   "cell_type": "code",
   "execution_count": 44,
   "metadata": {
    "collapsed": false
   },
   "outputs": [
    {
     "name": "stdout",
     "output_type": "stream",
     "text": [
      "Index(['G'], dtype='object')\n",
      "G    171\n",
      "Name: ESTU_LIMITA_COGNITIVA, dtype: int64\n",
      "Elementos null/NaN 582206\n",
      "__________________\n",
      "Elementos diferentes de null/NaN: 171\n",
      "__________________\n",
      "(171,)\n",
      "None\n"
     ]
    }
   ],
   "source": [
    "c = 'ESTU_LIMITA_COGNITIVA'\n",
    "print(data_2010_2[c].value_counts().sort_index().index)\n",
    "print(data_2010_2[c].value_counts().sort_index())\n",
    "print(missing_data(data_2010_2[c]))"
   ]
  },
  {
   "cell_type": "code",
   "execution_count": 45,
   "metadata": {
    "collapsed": false
   },
   "outputs": [
    {
     "name": "stdout",
     "output_type": "stream",
     "text": [
      "Index(['I'], dtype='object')\n",
      "I    72\n",
      "Name: ESTU_LIMITA_INVIDENTE, dtype: int64\n",
      "Elementos null/NaN 582305\n",
      "__________________\n",
      "Elementos diferentes de null/NaN: 72\n",
      "__________________\n",
      "(72,)\n",
      "None\n"
     ]
    }
   ],
   "source": [
    "c = 'ESTU_LIMITA_INVIDENTE'\n",
    "print(data_2010_2[c].value_counts().sort_index().index)\n",
    "print(data_2010_2[c].value_counts().sort_index())\n",
    "print(missing_data(data_2010_2[c]))"
   ]
  },
  {
   "cell_type": "code",
   "execution_count": 46,
   "metadata": {
    "collapsed": false
   },
   "outputs": [
    {
     "name": "stdout",
     "output_type": "stream",
     "text": [
      "Index(['M'], dtype='object')\n",
      "M    324\n",
      "Name: ESTU_LIMITA_MOTRIZ, dtype: int64\n",
      "Elementos null/NaN 582053\n",
      "__________________\n",
      "Elementos diferentes de null/NaN: 324\n",
      "__________________\n",
      "(324,)\n",
      "None\n"
     ]
    }
   ],
   "source": [
    "c = 'ESTU_LIMITA_MOTRIZ'\n",
    "print(data_2010_2[c].value_counts().sort_index().index)\n",
    "print(data_2010_2[c].value_counts().sort_index())\n",
    "print(missing_data(data_2010_2[c]))"
   ]
  },
  {
   "cell_type": "code",
   "execution_count": 47,
   "metadata": {
    "collapsed": false
   },
   "outputs": [
    {
     "name": "stdout",
     "output_type": "stream",
     "text": [
      "Index(['R'], dtype='object')\n",
      "R    230\n",
      "Name: ESTU_LIMITA_SORDOINTERPRETE, dtype: int64\n",
      "Elementos null/NaN 582147\n",
      "__________________\n",
      "Elementos diferentes de null/NaN: 230\n",
      "__________________\n",
      "(230,)\n",
      "None\n"
     ]
    }
   ],
   "source": [
    "c = 'ESTU_LIMITA_SORDOINTERPRETE'\n",
    "print(data_2010_2[c].value_counts().sort_index().index)\n",
    "print(data_2010_2[c].value_counts().sort_index())\n",
    "print(missing_data(data_2010_2[c]))"
   ]
  },
  {
   "cell_type": "code",
   "execution_count": 48,
   "metadata": {
    "collapsed": false
   },
   "outputs": [
    {
     "name": "stdout",
     "output_type": "stream",
     "text": [
      "Index(['S'], dtype='object')\n",
      "S    92\n",
      "Name: ESTU_LIMITA_SORDONOINTERPRETE, dtype: int64\n",
      "Elementos null/NaN 582285\n",
      "__________________\n",
      "Elementos diferentes de null/NaN: 92\n",
      "__________________\n",
      "(92,)\n",
      "None\n"
     ]
    }
   ],
   "source": [
    "c = 'ESTU_LIMITA_SORDONOINTERPRETE'\n",
    "print(data_2010_2[c].value_counts().sort_index().index)\n",
    "print(data_2010_2[c].value_counts().sort_index())\n",
    "print(missing_data(data_2010_2[c]))"
   ]
  },
  {
   "cell_type": "code",
   "execution_count": 50,
   "metadata": {
    "collapsed": true
   },
   "outputs": [],
   "source": [
    "data_2010_2 = data_2010_2.drop(['ESTU_LIMITA_SORDOCEGUERA', 'ESTU_LIMITA_BAJAVISION', 'ESTU_LIMITA_COGNITIVA', \n",
    "                                'ESTU_LIMITA_INVIDENTE', 'ESTU_LIMITA_MOTRIZ', 'ESTU_LIMITA_SORDOINTERPRETE',\n",
    "                               'ESTU_LIMITA_SORDONOINTERPRETE'], axis=1)"
   ]
  },
  {
   "cell_type": "code",
   "execution_count": 51,
   "metadata": {
    "collapsed": false,
    "scrolled": true
   },
   "outputs": [
    {
     "name": "stdout",
     "output_type": "stream",
     "text": [
      "Float64Index([ 1.0,  2.0,  3.0,  4.0,  5.0,  6.0,  7.0,  8.0,  9.0, 10.0, 11.0,\n",
      "              12.0, 13.0, 14.0, 15.0, 16.0, 17.0, 99.0],\n",
      "             dtype='float64')\n",
      "1     18221\n",
      "2        20\n",
      "3      1571\n",
      "4       184\n",
      "5       126\n",
      "6       799\n",
      "7       243\n",
      "8       558\n",
      "9      1211\n",
      "10     2560\n",
      "11     1547\n",
      "12      185\n",
      "13      221\n",
      "14       36\n",
      "15       82\n",
      "16       80\n",
      "17      283\n",
      "99     9012\n",
      "Name: ESTU_ETNIA, dtype: int64\n",
      "Elementos null/NaN 545438\n",
      "__________________\n",
      "Elementos diferentes de null/NaN: 36939\n",
      "__________________\n",
      "(36939,)\n",
      "None\n"
     ]
    }
   ],
   "source": [
    "c = 'ESTU_ETNIA'\n",
    "print(data_2010_2[c].value_counts().sort_index().index)\n",
    "print(data_2010_2[c].value_counts().sort_index())\n",
    "print(missing_data(data_2010_2[c]))"
   ]
  },
  {
   "cell_type": "code",
   "execution_count": 52,
   "metadata": {
    "collapsed": true
   },
   "outputs": [],
   "source": [
    "data_2010_2[c].fillna(99, inplace=True)"
   ]
  },
  {
   "cell_type": "code",
   "execution_count": 56,
   "metadata": {
    "collapsed": false,
    "scrolled": true
   },
   "outputs": [
    {
     "name": "stdout",
     "output_type": "stream",
     "text": [
      "Index(['ABEJORRAL', 'ABREGO', 'ABRIAQUI', 'ACACIAS', 'ACANDI', 'ACEVEDO',\n",
      "       'ACHI', 'AGRADO', 'AGUA DE DIOS', 'AGUACHICA',\n",
      "       ...\n",
      "       'YUMBO', 'ZAMBRANO', 'ZAPATOCA', 'ZAPAYAN', 'ZARAGOZA', 'ZARZAL',\n",
      "       'ZETAQUIRA', 'ZIPACON', 'ZIPAQUIRA', 'ZONA BANANERA'],\n",
      "      dtype='object', length=1030)\n",
      "ABEJORRAL                    133\n",
      "ABREGO                       242\n",
      "ABRIAQUI                      14\n",
      "ACACIAS                     1113\n",
      "ACANDI                        56\n",
      "ACEVEDO                      235\n",
      "ACHI                         205\n",
      "AGRADO                       146\n",
      "AGUA DE DIOS                 167\n",
      "AGUACHICA                   1056\n",
      "AGUADA                        23\n",
      "AGUADAS                      266\n",
      "AGUAZUL                      592\n",
      "AGUSTIN CODAZZI              612\n",
      "AIPE                         193\n",
      "ALBAN                        119\n",
      "ALBAN (SAN JOSE)             130\n",
      "ALBANIA                      308\n",
      "ALCALA                       166\n",
      "ALDANA                        62\n",
      "ALEJANDRIA                    21\n",
      "ALGARROBO                    161\n",
      "ALGECIRAS                    214\n",
      "ALMAGUER                      99\n",
      "ALMEIDA                       26\n",
      "ALPUJARRA                     59\n",
      "ALTAMIRA                      54\n",
      "ALTO BAUDO (PIE DE PATO)      46\n",
      "ALTOS DEL ROSARIO             63\n",
      "ALVARADO                      92\n",
      "                            ... \n",
      "VILLANUEVA                   879\n",
      "VILLAPINZON                  321\n",
      "VILLARRICA                    69\n",
      "VILLAVICENCIO               6724\n",
      "VILLAVIEJA                   106\n",
      "VILLETA                      420\n",
      "VIOTA                        179\n",
      "VIRACACHA                     26\n",
      "VISTA HERMOSA                 89\n",
      "VITERBO                      241\n",
      "YACOPI                       121\n",
      "YACUANQUER                   110\n",
      "YAGUARA                      124\n",
      "YALI                          31\n",
      "YARUMAL                      632\n",
      "YAVARATE                      22\n",
      "YOLOMBO                      261\n",
      "YONDO (CASABE)               110\n",
      "YOPAL                       2214\n",
      "YOTOCO                       130\n",
      "YUMBO                       1449\n",
      "ZAMBRANO                     119\n",
      "ZAPATOCA                     150\n",
      "ZAPAYAN                       61\n",
      "ZARAGOZA                     331\n",
      "ZARZAL                       569\n",
      "ZETAQUIRA                    110\n",
      "ZIPACON                       81\n",
      "ZIPAQUIRA                   1773\n",
      "ZONA BANANERA                657\n",
      "Name: ESTU_RESIDE_MCPIO, dtype: int64\n",
      "Elementos null/NaN 1\n",
      "__________________\n",
      "Elementos diferentes de null/NaN: 582376\n",
      "__________________\n",
      "(582376,)\n",
      "None\n"
     ]
    }
   ],
   "source": [
    "c = 'ESTU_RESIDE_MCPIO'\n",
    "print(data_2010_2[c].value_counts().sort_index().index)\n",
    "print(data_2010_2[c].value_counts().sort_index())\n",
    "print(missing_data(data_2010_2[c]))"
   ]
  },
  {
   "cell_type": "code",
   "execution_count": 57,
   "metadata": {
    "collapsed": false
   },
   "outputs": [
    {
     "name": "stdout",
     "output_type": "stream",
     "text": [
      "cant null antes: 1\n",
      "cant null despues: 0\n"
     ]
    }
   ],
   "source": [
    "Do_resamples(data_2010_2, c, str)"
   ]
  },
  {
   "cell_type": "code",
   "execution_count": 58,
   "metadata": {
    "collapsed": false,
    "scrolled": true
   },
   "outputs": [
    {
     "name": "stdout",
     "output_type": "stream",
     "text": [
      "Index(['AMAZONAS', 'ANTIOQUIA', 'ARAUCA', 'ATLÁNTICO', 'BOGOTÁ', 'BOLÍVAR',\n",
      "       'BOYACÁ', 'CALDAS', 'CAQUETÁ', 'CASANARE', 'CAUCA', 'CESAR', 'CHOCÓ',\n",
      "       'CUNDINAMARCA', 'CÓRDOBA', 'GUAINÍA', 'GUAVIARE', 'HUILA', 'LA GUAJIRA',\n",
      "       'MAGDALENA', 'META', 'NARIÑO', 'NORTE SANTANDER', 'PUTUMAYO', 'QUINDÍO',\n",
      "       'RISARALDA', 'SAN ANDRÉS', 'SANTANDER', 'SUCRE', 'TOLIMA', 'VALLE',\n",
      "       'VAUPÉS', 'VICHADA'],\n",
      "      dtype='object')\n",
      "AMAZONAS              761\n",
      "ANTIOQUIA           79802\n",
      "ARAUCA               3067\n",
      "ATLÁNTICO           28333\n",
      "BOGOTÁ             103369\n",
      "BOLÍVAR             25936\n",
      "BOYACÁ              20296\n",
      "CALDAS              13471\n",
      "CAQUETÁ              4478\n",
      "CASANARE             5009\n",
      "CAUCA               13275\n",
      "CESAR               12136\n",
      "CHOCÓ                4406\n",
      "CUNDINAMARCA        36484\n",
      "CÓRDOBA             18564\n",
      "GUAINÍA               163\n",
      "GUAVIARE              835\n",
      "HUILA               15443\n",
      "LA GUAJIRA           6751\n",
      "MAGDALENA           14048\n",
      "META                11500\n",
      "NARIÑO              18347\n",
      "NORTE SANTANDER     17139\n",
      "PUTUMAYO             3473\n",
      "QUINDÍO              7798\n",
      "RISARALDA           11897\n",
      "SAN ANDRÉS            872\n",
      "SANTANDER           30551\n",
      "SUCRE               11219\n",
      "TOLIMA              18222\n",
      "VALLE               44034\n",
      "VAUPÉS                255\n",
      "VICHADA               443\n",
      "Name: ESTU_RESIDE_DEPTO, dtype: int64\n",
      "Elementos null/NaN 0\n",
      "__________________\n",
      "Elementos diferentes de null/NaN: 582377\n",
      "__________________\n",
      "(582377,)\n",
      "None\n"
     ]
    }
   ],
   "source": [
    "c = 'ESTU_RESIDE_DEPTO'\n",
    "print(data_2010_2[c].value_counts().sort_index().index)\n",
    "print(data_2010_2[c].value_counts().sort_index())\n",
    "print(missing_data(data_2010_2[c]))"
   ]
  },
  {
   "cell_type": "code",
   "execution_count": 59,
   "metadata": {
    "collapsed": false
   },
   "outputs": [
    {
     "name": "stdout",
     "output_type": "stream",
     "text": [
      "cant null antes: 0\n",
      "cant null despues: 0\n"
     ]
    }
   ],
   "source": [
    "Do_resamples(data_2010_2, c, str)"
   ]
  },
  {
   "cell_type": "code",
   "execution_count": 60,
   "metadata": {
    "collapsed": false
   },
   "outputs": [
    {
     "name": "stdout",
     "output_type": "stream",
     "text": [
      "Float64Index([1.0, 2.0, 3.0, 4.0, 5.0, 6.0, 7.0, 8.0, 9.0, 10.0], dtype='float64')\n",
      "1      22898\n",
      "2       6345\n",
      "3      14230\n",
      "4      50227\n",
      "5      22102\n",
      "6      13665\n",
      "7      14779\n",
      "8      28607\n",
      "9      24295\n",
      "10    384713\n",
      "Name: ESTU_ZONA_RESIDE, dtype: int64\n",
      "Elementos null/NaN 516\n",
      "__________________\n",
      "Elementos diferentes de null/NaN: 581861\n",
      "__________________\n",
      "(581861,)\n",
      "None\n"
     ]
    }
   ],
   "source": [
    "c = 'ESTU_ZONA_RESIDE'\n",
    "print(data_2010_2[c].value_counts().sort_index().index)\n",
    "print(data_2010_2[c].value_counts().sort_index())\n",
    "print(missing_data(data_2010_2[c]))"
   ]
  },
  {
   "cell_type": "code",
   "execution_count": 62,
   "metadata": {
    "collapsed": true
   },
   "outputs": [
    {
     "ename": "TypeError",
     "evalue": "unorderable types: str() > float()",
     "output_type": "error",
     "traceback": [
      "\u001b[1;31m---------------------------------------------------------------------------\u001b[0m",
      "\u001b[1;31mTypeError\u001b[0m                                 Traceback (most recent call last)",
      "\u001b[1;32m/home/Foreroo/Proyecto/New_Project/tools/label_encoder.py\u001b[0m in \u001b[0;36m<module>\u001b[1;34m()\u001b[0m\n\u001b[1;32m----> 1\u001b[1;33m \u001b[0mDo_resamples\u001b[0m\u001b[1;33m(\u001b[0m\u001b[0mdata_2010_2\u001b[0m\u001b[1;33m,\u001b[0m \u001b[0mc\u001b[0m\u001b[1;33m,\u001b[0m \u001b[0mfloat\u001b[0m\u001b[1;33m)\u001b[0m\u001b[1;33m\u001b[0m\u001b[0m\n\u001b[0m",
      "\u001b[1;32m/home/Foreroo/Proyecto/New_Project/tools/label_encoder.py\u001b[0m in \u001b[0;36mDo_resamples\u001b[1;34m(df, col, typ)\u001b[0m\n\u001b[0;32m     12\u001b[0m \u001b[1;33m\u001b[0m\u001b[0m\n\u001b[0;32m     13\u001b[0m \u001b[1;32mdef\u001b[0m \u001b[0mDo_resamples\u001b[0m\u001b[1;33m(\u001b[0m\u001b[0mdf\u001b[0m\u001b[1;33m,\u001b[0m \u001b[0mcol\u001b[0m\u001b[1;33m,\u001b[0m \u001b[0mtyp\u001b[0m\u001b[1;33m)\u001b[0m\u001b[1;33m:\u001b[0m\u001b[1;33m\u001b[0m\u001b[0m\n\u001b[1;32m---> 14\u001b[1;33m     \u001b[0mp\u001b[0m \u001b[1;33m=\u001b[0m \u001b[0mget_proportions\u001b[0m\u001b[1;33m(\u001b[0m\u001b[0mdf\u001b[0m\u001b[1;33m,\u001b[0m \u001b[0mcol\u001b[0m\u001b[1;33m)\u001b[0m\u001b[1;33m\u001b[0m\u001b[0m\n\u001b[0m\u001b[0;32m     15\u001b[0m     \u001b[0mdf\u001b[0m\u001b[1;33m,\u001b[0m \u001b[0mr\u001b[0m \u001b[1;33m=\u001b[0m \u001b[0mresample_NaN_proportion\u001b[0m\u001b[1;33m(\u001b[0m\u001b[0mdf\u001b[0m\u001b[1;33m,\u001b[0m \u001b[0mcol\u001b[0m\u001b[1;33m,\u001b[0m \u001b[0mp\u001b[0m\u001b[1;33m,\u001b[0m \u001b[0mtyp\u001b[0m\u001b[1;33m)\u001b[0m\u001b[1;33m\u001b[0m\u001b[0m\n\u001b[0;32m     16\u001b[0m     \u001b[1;32mwhile\u001b[0m\u001b[1;33m(\u001b[0m\u001b[0mr\u001b[0m \u001b[1;33m!=\u001b[0m \u001b[1;36m0\u001b[0m\u001b[1;33m)\u001b[0m\u001b[1;33m:\u001b[0m\u001b[1;33m\u001b[0m\u001b[0m\n",
      "\u001b[1;32m/home/Foreroo/Proyecto/New_Project/tools/label_encoder.py\u001b[0m in \u001b[0;36mget_proportions\u001b[1;34m(df, col)\u001b[0m\n\u001b[0;32m     20\u001b[0m     \u001b[1;34m\"\"\"This function get the proportion of each value found in the DataFramea into a list\"\"\"\u001b[0m\u001b[1;33m\u001b[0m\u001b[0m\n\u001b[0;32m     21\u001b[0m     \u001b[0mp\u001b[0m \u001b[1;33m=\u001b[0m \u001b[1;33m[\u001b[0m\u001b[1;33m]\u001b[0m\u001b[1;33m\u001b[0m\u001b[0m\n\u001b[1;32m---> 22\u001b[1;33m     \u001b[0mTVS\u001b[0m \u001b[1;33m=\u001b[0m \u001b[0mdf\u001b[0m\u001b[1;33m[\u001b[0m\u001b[0mcol\u001b[0m\u001b[1;33m]\u001b[0m\u001b[1;33m.\u001b[0m\u001b[0mvalue_counts\u001b[0m\u001b[1;33m(\u001b[0m\u001b[1;33m)\u001b[0m\u001b[1;33m.\u001b[0m\u001b[0msort_index\u001b[0m\u001b[1;33m(\u001b[0m\u001b[1;33m)\u001b[0m\u001b[1;33m.\u001b[0m\u001b[0mvalues\u001b[0m\u001b[1;33m.\u001b[0m\u001b[0msum\u001b[0m\u001b[1;33m(\u001b[0m\u001b[1;33m)\u001b[0m\u001b[1;33m\u001b[0m\u001b[0m\n\u001b[0m\u001b[0;32m     23\u001b[0m     \u001b[1;32mfor\u001b[0m \u001b[0mj\u001b[0m \u001b[1;32min\u001b[0m \u001b[0mdf\u001b[0m\u001b[1;33m[\u001b[0m\u001b[0mcol\u001b[0m\u001b[1;33m]\u001b[0m\u001b[1;33m.\u001b[0m\u001b[0mvalue_counts\u001b[0m\u001b[1;33m(\u001b[0m\u001b[1;33m)\u001b[0m\u001b[1;33m.\u001b[0m\u001b[0msort_index\u001b[0m\u001b[1;33m(\u001b[0m\u001b[1;33m)\u001b[0m\u001b[1;33m.\u001b[0m\u001b[0mvalues\u001b[0m\u001b[1;33m:\u001b[0m\u001b[1;33m\u001b[0m\u001b[0m\n\u001b[0;32m     24\u001b[0m         \u001b[0mp\u001b[0m\u001b[1;33m.\u001b[0m\u001b[0mappend\u001b[0m\u001b[1;33m(\u001b[0m\u001b[1;33m(\u001b[0m\u001b[0mj\u001b[0m\u001b[1;33m)\u001b[0m\u001b[1;33m/\u001b[0m\u001b[0mTVS\u001b[0m\u001b[1;33m)\u001b[0m\u001b[1;33m\u001b[0m\u001b[0m\n",
      "\u001b[1;32m/usr/local/lib/python3.4/dist-packages/pandas/core/series.py\u001b[0m in \u001b[0;36msort_index\u001b[1;34m(self, axis, level, ascending, inplace, sort_remaining)\u001b[0m\n\u001b[0;32m   1674\u001b[0m         \u001b[1;32melse\u001b[0m\u001b[1;33m:\u001b[0m\u001b[1;33m\u001b[0m\u001b[0m\n\u001b[0;32m   1675\u001b[0m             new_index, indexer = index.sort_values(return_indexer=True,\n\u001b[1;32m-> 1676\u001b[1;33m                                                    ascending=ascending)\n\u001b[0m\u001b[0;32m   1677\u001b[0m \u001b[1;33m\u001b[0m\u001b[0m\n\u001b[0;32m   1678\u001b[0m         \u001b[0mnew_values\u001b[0m \u001b[1;33m=\u001b[0m \u001b[0mself\u001b[0m\u001b[1;33m.\u001b[0m\u001b[0m_values\u001b[0m\u001b[1;33m.\u001b[0m\u001b[0mtake\u001b[0m\u001b[1;33m(\u001b[0m\u001b[0mindexer\u001b[0m\u001b[1;33m)\u001b[0m\u001b[1;33m\u001b[0m\u001b[0m\n",
      "\u001b[1;32m/usr/local/lib/python3.4/dist-packages/pandas/core/index.py\u001b[0m in \u001b[0;36msort_values\u001b[1;34m(self, return_indexer, ascending)\u001b[0m\n\u001b[0;32m   1362\u001b[0m         \u001b[0mReturn\u001b[0m \u001b[0msorted\u001b[0m \u001b[0mcopy\u001b[0m \u001b[0mof\u001b[0m \u001b[0mIndex\u001b[0m\u001b[1;33m\u001b[0m\u001b[0m\n\u001b[0;32m   1363\u001b[0m         \"\"\"\n\u001b[1;32m-> 1364\u001b[1;33m         \u001b[0m_as\u001b[0m \u001b[1;33m=\u001b[0m \u001b[0mself\u001b[0m\u001b[1;33m.\u001b[0m\u001b[0margsort\u001b[0m\u001b[1;33m(\u001b[0m\u001b[1;33m)\u001b[0m\u001b[1;33m\u001b[0m\u001b[0m\n\u001b[0m\u001b[0;32m   1365\u001b[0m         \u001b[1;32mif\u001b[0m \u001b[1;32mnot\u001b[0m \u001b[0mascending\u001b[0m\u001b[1;33m:\u001b[0m\u001b[1;33m\u001b[0m\u001b[0m\n\u001b[0;32m   1366\u001b[0m             \u001b[0m_as\u001b[0m \u001b[1;33m=\u001b[0m \u001b[0m_as\u001b[0m\u001b[1;33m[\u001b[0m\u001b[1;33m:\u001b[0m\u001b[1;33m:\u001b[0m\u001b[1;33m-\u001b[0m\u001b[1;36m1\u001b[0m\u001b[1;33m]\u001b[0m\u001b[1;33m\u001b[0m\u001b[0m\n",
      "\u001b[1;32m/usr/local/lib/python3.4/dist-packages/pandas/core/index.py\u001b[0m in \u001b[0;36margsort\u001b[1;34m(self, *args, **kwargs)\u001b[0m\n\u001b[0;32m   1433\u001b[0m         \u001b[1;32mif\u001b[0m \u001b[0mresult\u001b[0m \u001b[1;32mis\u001b[0m \u001b[1;32mNone\u001b[0m\u001b[1;33m:\u001b[0m\u001b[1;33m\u001b[0m\u001b[0m\n\u001b[0;32m   1434\u001b[0m             \u001b[0mresult\u001b[0m \u001b[1;33m=\u001b[0m \u001b[0mnp\u001b[0m\u001b[1;33m.\u001b[0m\u001b[0marray\u001b[0m\u001b[1;33m(\u001b[0m\u001b[0mself\u001b[0m\u001b[1;33m)\u001b[0m\u001b[1;33m\u001b[0m\u001b[0m\n\u001b[1;32m-> 1435\u001b[1;33m         \u001b[1;32mreturn\u001b[0m \u001b[0mresult\u001b[0m\u001b[1;33m.\u001b[0m\u001b[0margsort\u001b[0m\u001b[1;33m(\u001b[0m\u001b[1;33m*\u001b[0m\u001b[0margs\u001b[0m\u001b[1;33m,\u001b[0m \u001b[1;33m**\u001b[0m\u001b[0mkwargs\u001b[0m\u001b[1;33m)\u001b[0m\u001b[1;33m\u001b[0m\u001b[0m\n\u001b[0m\u001b[0;32m   1436\u001b[0m \u001b[1;33m\u001b[0m\u001b[0m\n\u001b[0;32m   1437\u001b[0m     \u001b[1;32mdef\u001b[0m \u001b[0m__add__\u001b[0m\u001b[1;33m(\u001b[0m\u001b[0mself\u001b[0m\u001b[1;33m,\u001b[0m \u001b[0mother\u001b[0m\u001b[1;33m)\u001b[0m\u001b[1;33m:\u001b[0m\u001b[1;33m\u001b[0m\u001b[0m\n",
      "\u001b[1;31mTypeError\u001b[0m: unorderable types: str() > float()"
     ]
    }
   ],
   "source": [
    "Do_resamples(data_2010_2, c, float)"
   ]
  },
  {
   "cell_type": "code",
   "execution_count": 63,
   "metadata": {
    "collapsed": false
   },
   "outputs": [
    {
     "name": "stdout",
     "output_type": "stream",
     "text": [
      "Float64Index([1.0, 2.0], dtype='float64')\n",
      "1    460020\n",
      "2    122055\n",
      "Name: ESTU_AREA_RESIDE, dtype: int64\n",
      "Elementos null/NaN 302\n",
      "__________________\n",
      "Elementos diferentes de null/NaN: 582075\n",
      "__________________\n",
      "(582075,)\n",
      "None\n"
     ]
    }
   ],
   "source": [
    "c = 'ESTU_AREA_RESIDE'\n",
    "print(data_2010_2[c].value_counts().sort_index().index)\n",
    "print(data_2010_2[c].value_counts().sort_index())\n",
    "print(missing_data(data_2010_2[c]))"
   ]
  },
  {
   "cell_type": "code",
   "execution_count": 64,
   "metadata": {
    "collapsed": false
   },
   "outputs": [
    {
     "name": "stdout",
     "output_type": "stream",
     "text": [
      "cant null antes: 302\n",
      "cant null despues: 0\n"
     ]
    }
   ],
   "source": [
    "Do_resamples(data_2010_2, c, float)"
   ]
  },
  {
   "cell_type": "code",
   "execution_count": 65,
   "metadata": {
    "collapsed": false,
    "scrolled": true
   },
   "outputs": [
    {
     "name": "stdout",
     "output_type": "stream",
     "text": [
      "Float64Index([     0.0,      2.0,      3.0,     18.0,     26.0,     34.0,\n",
      "                  42.0,     50.0,     51.0,     59.0,\n",
      "              ...\n",
      "              598235.0, 599506.0, 606046.0, 615914.0, 620948.0, 620963.0,\n",
      "              627737.0, 629600.0, 637470.0, 999999.0],\n",
      "             dtype='float64', length=13660)\n",
      "0           48\n",
      "2          336\n",
      "3         4999\n",
      "18          17\n",
      "26           2\n",
      "34           1\n",
      "42           1\n",
      "50           1\n",
      "51           1\n",
      "59        1166\n",
      "67          14\n",
      "75          63\n",
      "77           1\n",
      "83          33\n",
      "90           2\n",
      "91          98\n",
      "117          1\n",
      "125         79\n",
      "141        111\n",
      "158          1\n",
      "174         85\n",
      "190         84\n",
      "208         94\n",
      "216         32\n",
      "224          2\n",
      "226          1\n",
      "232         29\n",
      "240        104\n",
      "257         86\n",
      "265        219\n",
      "          ... \n",
      "259176       1\n",
      "265066       1\n",
      "265843       1\n",
      "267237       1\n",
      "268201       1\n",
      "268672       1\n",
      "272476       1\n",
      "273029       1\n",
      "275313       3\n",
      "296657       1\n",
      "344036       1\n",
      "350728       1\n",
      "383109       1\n",
      "416560       1\n",
      "464735       1\n",
      "555219       1\n",
      "581751       1\n",
      "586115       1\n",
      "594846       1\n",
      "595306       1\n",
      "598235       1\n",
      "599506       1\n",
      "606046       1\n",
      "615914       1\n",
      "620948       1\n",
      "620963       1\n",
      "627737       1\n",
      "629600       1\n",
      "637470       1\n",
      "999999    1741\n",
      "Name: IND_COD_ICFES_TERMINO, dtype: int64\n",
      "Elementos null/NaN 8323\n",
      "__________________\n",
      "Elementos diferentes de null/NaN: 574054\n",
      "__________________\n",
      "(574054,)\n",
      "None\n"
     ]
    }
   ],
   "source": [
    "c = 'IND_COD_ICFES_TERMINO'\n",
    "print(data_2010_2[c].value_counts().sort_index().index)\n",
    "print(data_2010_2[c].value_counts().sort_index())\n",
    "print(missing_data(data_2010_2[c]))"
   ]
  },
  {
   "cell_type": "code",
   "execution_count": 66,
   "metadata": {
    "collapsed": false
   },
   "outputs": [
    {
     "name": "stdout",
     "output_type": "stream",
     "text": [
      "cant null antes: 8323\n",
      "cant null despues: 0\n"
     ]
    }
   ],
   "source": [
    "Do_resamples(data_2010_2, c, float)"
   ]
  },
  {
   "cell_type": "code",
   "execution_count": 67,
   "metadata": {
    "collapsed": false,
    "scrolled": true
   },
   "outputs": [
    {
     "name": "stdout",
     "output_type": "stream",
     "text": [
      "Float64Index([     2.0,      3.0,     18.0,     26.0,     34.0,     42.0,\n",
      "                  59.0,     67.0,     75.0,     83.0,\n",
      "              ...\n",
      "              155846.0, 155879.0, 155887.0, 155895.0, 155903.0, 155911.0,\n",
      "              155929.0, 155952.0, 155960.0, 999999.0],\n",
      "             dtype='float64', length=12524)\n",
      "2          421\n",
      "3         3610\n",
      "18          16\n",
      "26           1\n",
      "34           1\n",
      "42           1\n",
      "59        1212\n",
      "67           5\n",
      "75          64\n",
      "83          33\n",
      "91          97\n",
      "125         80\n",
      "141        111\n",
      "174         85\n",
      "190         84\n",
      "208         93\n",
      "216         32\n",
      "232         29\n",
      "240        108\n",
      "257         94\n",
      "265        224\n",
      "273         59\n",
      "281         64\n",
      "315        136\n",
      "349         24\n",
      "356         32\n",
      "364         53\n",
      "372         65\n",
      "380        115\n",
      "398         18\n",
      "          ... \n",
      "155598      21\n",
      "155606       2\n",
      "155622       1\n",
      "155630      23\n",
      "155648     110\n",
      "155671       5\n",
      "155689      23\n",
      "155697      31\n",
      "155705       2\n",
      "155713      10\n",
      "155721      39\n",
      "155739      46\n",
      "155747      72\n",
      "155754      13\n",
      "155770      19\n",
      "155796      22\n",
      "155804       6\n",
      "155812       8\n",
      "155820      54\n",
      "155838       9\n",
      "155846      17\n",
      "155879      18\n",
      "155887      14\n",
      "155895      17\n",
      "155903      13\n",
      "155911      56\n",
      "155929       8\n",
      "155952      15\n",
      "155960       1\n",
      "999999    1813\n",
      "Name: COLE_COD_ICFES, dtype: int64\n",
      "Elementos null/NaN 42\n",
      "__________________\n",
      "Elementos diferentes de null/NaN: 582335\n",
      "__________________\n",
      "(582335,)\n",
      "None\n"
     ]
    }
   ],
   "source": [
    "c = 'COLE_COD_ICFES'\n",
    "print(data_2010_2[c].value_counts().sort_index().index)\n",
    "print(data_2010_2[c].value_counts().sort_index())\n",
    "print(missing_data(data_2010_2[c]))"
   ]
  },
  {
   "cell_type": "code",
   "execution_count": 68,
   "metadata": {
    "collapsed": false
   },
   "outputs": [
    {
     "name": "stdout",
     "output_type": "stream",
     "text": [
      "cant null antes: 42\n",
      "cant null despues: 0\n"
     ]
    }
   ],
   "source": [
    "Do_resamples(data_2010_2, c, float)"
   ]
  },
  {
   "cell_type": "code",
   "execution_count": null,
   "metadata": {
    "collapsed": true
   },
   "outputs": [],
   "source": []
  },
  {
   "cell_type": "code",
   "execution_count": null,
   "metadata": {
    "collapsed": true
   },
   "outputs": [],
   "source": []
  },
  {
   "cell_type": "code",
   "execution_count": null,
   "metadata": {
    "collapsed": true
   },
   "outputs": [],
   "source": []
  },
  {
   "cell_type": "code",
   "execution_count": null,
   "metadata": {
    "collapsed": true
   },
   "outputs": [],
   "source": []
  },
  {
   "cell_type": "code",
   "execution_count": null,
   "metadata": {
    "collapsed": true
   },
   "outputs": [],
   "source": []
  },
  {
   "cell_type": "code",
   "execution_count": null,
   "metadata": {
    "collapsed": true
   },
   "outputs": [],
   "source": []
  },
  {
   "cell_type": "code",
   "execution_count": null,
   "metadata": {
    "collapsed": true
   },
   "outputs": [],
   "source": []
  },
  {
   "cell_type": "code",
   "execution_count": null,
   "metadata": {
    "collapsed": true
   },
   "outputs": [],
   "source": []
  },
  {
   "cell_type": "code",
   "execution_count": 84,
   "metadata": {
    "collapsed": false,
    "scrolled": true
   },
   "outputs": [
    {
     "name": "stdout",
     "output_type": "stream",
     "text": [
      "Index([105001000108.0, 325754005072.0, 354001001520.0, 105001013340.0,\n",
      "       168001003591.0, 311001105391.0, 111001019411.0, 111001010910.0,\n",
      "       305001003963.0, 111001024732.0,\n",
      "       ...\n",
      "       '311265000369', '308758004168', '125612000139', '123466000021',\n",
      "       '170717000059', '252260000054', '213212000063', '113001001816',\n",
      "       '344001001737', '305266000541'],\n",
      "      dtype='object', length=14124)\n",
      "105001000108.0    1204\n",
      "325754005072.0     877\n",
      "354001001520.0     842\n",
      "105001013340.0     773\n",
      "168001003591.0     741\n",
      "311001105391.0     676\n",
      "111001019411.0     658\n",
      "111001010910.0     591\n",
      "305001003963.0     581\n",
      "111001024732.0     571\n",
      "111102000753.0     564\n",
      "313001006701.0     556\n",
      "105154000301.0     546\n",
      "305266019802.0     535\n",
      "311001004820.0     523\n",
      "313001029264.0     513\n",
      "176001005813.0     513\n",
      "305001004293.0     505\n",
      "368001005488.0     491\n",
      "111001006122.0     485\n",
      "125754003267.0     477\n",
      "113001000852.0     475\n",
      "141001003341.0     466\n",
      "468266001200.0     465\n",
      "405001018213.0     459\n",
      "152001000777.0     444\n",
      "117001001536.0     439\n",
      "111001036781.0     437\n",
      "311102000141.0     437\n",
      "141001000066.0     436\n",
      "                  ... \n",
      "168679000401         1\n",
      "376109008877         1\n",
      "810536000005         1\n",
      "354001011622         1\n",
      "311279000094         1\n",
      "141001004061         1\n",
      "125875000427         1\n",
      "218001003017         1\n",
      "305001025495         1\n",
      "368001007545         1\n",
      "205154000896         1\n",
      "111001046621         1\n",
      "163001003528         1\n",
      "311001040630         1\n",
      "223660001611         1\n",
      "111848003910         1\n",
      "176001001656         1\n",
      "325269000305         1\n",
      "111001076201         1\n",
      "376520005170         1\n",
      "311265000369         1\n",
      "308758004168         1\n",
      "125612000139         1\n",
      "123466000021         1\n",
      "170717000059         1\n",
      "252260000054         1\n",
      "213212000063         1\n",
      "113001001816         1\n",
      "344001001737         1\n",
      "305266000541         1\n",
      "Name: COLE_COD_DANE_INSTITUCION, dtype: int64\n",
      "Elementos null/NaN 13347\n",
      "__________________\n",
      "Elementos diferentes de null/NaN: 569030\n",
      "__________________\n",
      "(569030,)\n",
      "None\n"
     ]
    }
   ],
   "source": [
    "c = 'COLE_COD_DANE_INSTITUCION'\n",
    "print(data_2010_2[c].value_counts().index)\n",
    "print(data_2010_2[c].value_counts())\n",
    "print(missing_data(data_2010_2[c]))"
   ]
  },
  {
   "cell_type": "code",
   "execution_count": 87,
   "metadata": {
    "collapsed": false
   },
   "outputs": [
    {
     "name": "stdout",
     "output_type": "stream",
     "text": [
      "cant null antes: 13358\n",
      "cant null despues: 0\n"
     ]
    }
   ],
   "source": [
    "for i in data_2010_2[c].value_counts().index:\n",
    "    if ' ' in str(i):\n",
    "        data_2010_2[c] = data_2010_2[c].replace(i, np.nan)\n",
    "    elif type(i) == str:\n",
    "        data_2010_2[c] = data_2010_2[c].replace(i, float(i))\n",
    "\n",
    "Do_resamples(data_2010_2, c, float)"
   ]
  },
  {
   "cell_type": "code",
   "execution_count": 88,
   "metadata": {
    "collapsed": false
   },
   "outputs": [
    {
     "name": "stdout",
     "output_type": "stream",
     "text": [
      "Index(['A', 'B', 'F'], dtype='object')\n",
      "A    482562\n",
      "B      3296\n",
      "F     94664\n",
      "Name: COLE_CALENDARIO, dtype: int64\n",
      "Elementos null/NaN 1855\n",
      "__________________\n",
      "Elementos diferentes de null/NaN: 580522\n",
      "__________________\n",
      "(580522,)\n",
      "None\n"
     ]
    }
   ],
   "source": [
    "c = 'COLE_CALENDARIO'\n",
    "print(data_2010_2[c].value_counts().sort_index().index)\n",
    "print(data_2010_2[c].value_counts().sort_index())\n",
    "print(missing_data(data_2010_2[c]))"
   ]
  },
  {
   "cell_type": "code",
   "execution_count": 89,
   "metadata": {
    "collapsed": false
   },
   "outputs": [
    {
     "name": "stdout",
     "output_type": "stream",
     "text": [
      "cant null antes: 1855\n",
      "cant null despues: 0\n"
     ]
    }
   ],
   "source": [
    "Do_resamples(data_2010_2, c, str)"
   ]
  },
  {
   "cell_type": "code",
   "execution_count": 90,
   "metadata": {
    "collapsed": false
   },
   "outputs": [
    {
     "name": "stdout",
     "output_type": "stream",
     "text": [
      "Index(['F', 'M', 'X'], dtype='object')\n",
      "F     29272\n",
      "M      6971\n",
      "X    540248\n",
      "Name: COLE_GENERO, dtype: int64\n",
      "Elementos null/NaN 5886\n",
      "__________________\n",
      "Elementos diferentes de null/NaN: 576491\n",
      "__________________\n",
      "(576491,)\n",
      "None\n"
     ]
    }
   ],
   "source": [
    "c = 'COLE_GENERO'\n",
    "print(data_2010_2[c].value_counts().sort_index().index)\n",
    "print(data_2010_2[c].value_counts().sort_index())\n",
    "print(missing_data(data_2010_2[c]))"
   ]
  },
  {
   "cell_type": "code",
   "execution_count": 91,
   "metadata": {
    "collapsed": false
   },
   "outputs": [
    {
     "name": "stdout",
     "output_type": "stream",
     "text": [
      "cant null antes: 5886\n",
      "cant null despues: 0\n"
     ]
    }
   ],
   "source": [
    "Do_resamples(data_2010_2, c, str)"
   ]
  },
  {
   "cell_type": "code",
   "execution_count": 92,
   "metadata": {
    "collapsed": false
   },
   "outputs": [
    {
     "name": "stdout",
     "output_type": "stream",
     "text": [
      "Index(['N', 'O'], dtype='object')\n",
      "N    148974\n",
      "O    427517\n",
      "Name: COLE_NATURALEZA, dtype: int64\n",
      "Elementos null/NaN 5886\n",
      "__________________\n",
      "Elementos diferentes de null/NaN: 576491\n",
      "__________________\n",
      "(576491,)\n",
      "None\n"
     ]
    }
   ],
   "source": [
    "c = 'COLE_NATURALEZA'\n",
    "print(data_2010_2[c].value_counts().sort_index().index)\n",
    "print(data_2010_2[c].value_counts().sort_index())\n",
    "print(missing_data(data_2010_2[c]))"
   ]
  },
  {
   "cell_type": "code",
   "execution_count": 93,
   "metadata": {
    "collapsed": false
   },
   "outputs": [
    {
     "name": "stdout",
     "output_type": "stream",
     "text": [
      "cant null antes: 5886\n",
      "cant null despues: 0\n"
     ]
    }
   ],
   "source": [
    "Do_resamples(data_2010_2, c, str)"
   ]
  },
  {
   "cell_type": "code",
   "execution_count": 94,
   "metadata": {
    "collapsed": false
   },
   "outputs": [
    {
     "name": "stdout",
     "output_type": "stream",
     "text": [
      "Float64Index([0.0, 1.0], dtype='float64')\n",
      "0    493630\n",
      "1      5085\n",
      "Name: COLE_BILINGUE, dtype: int64\n",
      "Elementos null/NaN 83662\n",
      "__________________\n",
      "Elementos diferentes de null/NaN: 498715\n",
      "__________________\n",
      "(498715,)\n",
      "None\n"
     ]
    }
   ],
   "source": [
    "c = 'COLE_BILINGUE'\n",
    "print(data_2010_2[c].value_counts().sort_index().index)\n",
    "print(data_2010_2[c].value_counts().sort_index())\n",
    "print(missing_data(data_2010_2[c]))"
   ]
  },
  {
   "cell_type": "code",
   "execution_count": 95,
   "metadata": {
    "collapsed": false
   },
   "outputs": [
    {
     "name": "stdout",
     "output_type": "stream",
     "text": [
      "cant null antes: 83662\n",
      "cant null despues: 0\n"
     ]
    }
   ],
   "source": [
    "Do_resamples(data_2010_2, c, float)"
   ]
  },
  {
   "cell_type": "code",
   "execution_count": 96,
   "metadata": {
    "collapsed": false
   },
   "outputs": [
    {
     "name": "stdout",
     "output_type": "stream",
     "text": [
      "Index(['COMPLETA U ORDINARIA', 'MAÑANA', 'NOCHE', 'SABATINA - DOMINICAL',\n",
      "       'TARDE', 'UNICA'],\n",
      "      dtype='object')\n",
      "COMPLETA U ORDINARIA    106877\n",
      "MAÑANA                  293949\n",
      "NOCHE                    45501\n",
      "SABATINA - DOMINICAL     33122\n",
      "TARDE                    98750\n",
      "UNICA                      105\n",
      "Name: COLE_JORNADA, dtype: int64\n",
      "Elementos null/NaN 4073\n",
      "__________________\n",
      "Elementos diferentes de null/NaN: 578304\n",
      "__________________\n",
      "(578304,)\n",
      "None\n"
     ]
    }
   ],
   "source": [
    "c = 'COLE_JORNADA'\n",
    "print(data_2010_2[c].value_counts().sort_index().index)\n",
    "print(data_2010_2[c].value_counts().sort_index())\n",
    "print(missing_data(data_2010_2[c]))"
   ]
  },
  {
   "cell_type": "code",
   "execution_count": 97,
   "metadata": {
    "collapsed": false
   },
   "outputs": [
    {
     "name": "stdout",
     "output_type": "stream",
     "text": [
      "cant null antes: 4073\n",
      "cant null despues: 1\n",
      "cant null antes: 1\n",
      "cant null despues: 0\n"
     ]
    }
   ],
   "source": [
    "Do_resamples(data_2010_2, c, str)"
   ]
  },
  {
   "cell_type": "code",
   "execution_count": 98,
   "metadata": {
    "collapsed": false
   },
   "outputs": [
    {
     "name": "stdout",
     "output_type": "stream",
     "text": [
      "Index(['ACADEMICO', 'ACADEMICO Y TECNICO', 'DESCONOCIDO', 'NORMALISTA',\n",
      "       'TECNICO'],\n",
      "      dtype='object')\n",
      "ACADEMICO              357724\n",
      "ACADEMICO Y TECNICO    100131\n",
      "DESCONOCIDO               332\n",
      "NORMALISTA              14098\n",
      "TECNICO                104196\n",
      "Name: COLE_CARACTER, dtype: int64\n",
      "Elementos null/NaN 5896\n",
      "__________________\n",
      "Elementos diferentes de null/NaN: 576481\n",
      "__________________\n",
      "(576481,)\n",
      "None\n"
     ]
    }
   ],
   "source": [
    "c = 'COLE_CARACTER'\n",
    "print(data_2010_2[c].value_counts().sort_index().index)\n",
    "print(data_2010_2[c].value_counts().sort_index())\n",
    "print(missing_data(data_2010_2[c]))"
   ]
  },
  {
   "cell_type": "code",
   "execution_count": 99,
   "metadata": {
    "collapsed": false
   },
   "outputs": [
    {
     "name": "stdout",
     "output_type": "stream",
     "text": [
      "cant null antes: 5896\n",
      "cant null despues: 0\n"
     ]
    }
   ],
   "source": [
    "Do_resamples(data_2010_2, c, str)"
   ]
  },
  {
   "cell_type": "code",
   "execution_count": 100,
   "metadata": {
    "collapsed": false
   },
   "outputs": [
    {
     "name": "stdout",
     "output_type": "stream",
     "text": [
      "Float64Index([0.0, 1.0, 2.0, 3.0], dtype='float64')\n",
      "0     2382\n",
      "1     7025\n",
      "2     4420\n",
      "3    41526\n",
      "Name: ESTU_CARRDESEADA_TIPO, dtype: int64\n",
      "Elementos null/NaN 527024\n",
      "__________________\n",
      "Elementos diferentes de null/NaN: 55353\n",
      "__________________\n",
      "(55353,)\n",
      "None\n"
     ]
    }
   ],
   "source": [
    "c = 'ESTU_CARRDESEADA_TIPO'\n",
    "print(data_2010_2[c].value_counts().sort_index().index)\n",
    "print(data_2010_2[c].value_counts().sort_index())\n",
    "print(missing_data(data_2010_2[c]))"
   ]
  },
  {
   "cell_type": "code",
   "execution_count": 101,
   "metadata": {
    "collapsed": false
   },
   "outputs": [
    {
     "name": "stdout",
     "output_type": "stream",
     "text": [
      "cant null antes: 527024\n",
      "cant null despues: 1\n",
      "cant null antes: 1\n",
      "cant null despues: 0\n"
     ]
    }
   ],
   "source": [
    "Do_resamples(data_2010_2, c, float)"
   ]
  },
  {
   "cell_type": "code",
   "execution_count": 102,
   "metadata": {
    "collapsed": false,
    "scrolled": true
   },
   "outputs": [
    {
     "name": "stdout",
     "output_type": "stream",
     "text": [
      "Float64Index([  1101.0,   1102.0,   1103.0,   1104.0,   1105.0,   1106.0,\n",
      "                1107.0,   1108.0,   1109.0,   1110.0,\n",
      "              ...\n",
      "                9127.0,   9128.0,   9129.0,  21113.0,  21386.0,  41962.0,\n",
      "               53967.0,  73049.0,  82149.0, 158386.0],\n",
      "             dtype='float64', length=355)\n",
      "1101      6005\n",
      "1102       550\n",
      "1103       214\n",
      "1104       134\n",
      "1105       551\n",
      "1106       758\n",
      "1107        75\n",
      "1108       267\n",
      "1109        45\n",
      "1110       950\n",
      "1111       912\n",
      "1112       812\n",
      "1113      1151\n",
      "1114      1060\n",
      "1115       340\n",
      "1117       212\n",
      "1118       269\n",
      "1119       538\n",
      "1120       643\n",
      "1121        61\n",
      "1122        84\n",
      "1123        43\n",
      "1124         8\n",
      "1125        19\n",
      "1201      4288\n",
      "1202      1428\n",
      "1203      3396\n",
      "1204      1741\n",
      "1205      1675\n",
      "1206      1334\n",
      "          ... \n",
      "9101       105\n",
      "9102        43\n",
      "9103       152\n",
      "9104       307\n",
      "9105        92\n",
      "9107        49\n",
      "9110       858\n",
      "9111       188\n",
      "9112       502\n",
      "9113        54\n",
      "9114        91\n",
      "9115        50\n",
      "9117         5\n",
      "9119        22\n",
      "9120        24\n",
      "9121         1\n",
      "9122        10\n",
      "9124         4\n",
      "9125        15\n",
      "9126        26\n",
      "9127         4\n",
      "9128         2\n",
      "9129        16\n",
      "21113        1\n",
      "21386        1\n",
      "41962        1\n",
      "53967        1\n",
      "73049        1\n",
      "82149        1\n",
      "158386       1\n",
      "Name: ESTU_IES_COD_DESEADA, dtype: int64\n",
      "Elementos null/NaN 523938\n",
      "__________________\n",
      "Elementos diferentes de null/NaN: 58439\n",
      "__________________\n",
      "(58439,)\n",
      "None\n"
     ]
    }
   ],
   "source": [
    "c = 'ESTU_IES_COD_DESEADA'\n",
    "print(data_2010_2[c].value_counts().sort_index().index)\n",
    "print(data_2010_2[c].value_counts().sort_index())\n",
    "print(missing_data(data_2010_2[c]))"
   ]
  },
  {
   "cell_type": "code",
   "execution_count": 103,
   "metadata": {
    "collapsed": true
   },
   "outputs": [],
   "source": [
    "data_2010_2.fillna(method='bfill', inplace=True)\n",
    "data_2010_2.fillna(method='ffill', inplace=True)"
   ]
  },
  {
   "cell_type": "code",
   "execution_count": 104,
   "metadata": {
    "collapsed": false,
    "scrolled": true
   },
   "outputs": [
    {
     "name": "stdout",
     "output_type": "stream",
     "text": [
      "Index(['AMAZONAS', 'ANTIOQUIA', 'ARAUCA', 'ATLÁNTICO', 'BOGOTÁ', 'BOLÍVAR',\n",
      "       'BOYACÁ', 'CALDAS', 'CAQUETÁ', 'CASANARE', 'CAUCA', 'CESAR', 'CHOCÓ',\n",
      "       'CUNDINAMARCA', 'CÓRDOBA', 'HUILA', 'LA GUAJIRA', 'MAGDALENA', 'META',\n",
      "       'NARIÑO', 'NORTE SANTANDER', 'PUTUMAYO', 'QUINDÍO', 'RISARALDA',\n",
      "       'SAN ANDRÉS', 'SANTANDER', 'SUCRE', 'TOLIMA', 'VALLE'],\n",
      "      dtype='object')\n",
      "AMAZONAS               50\n",
      "ANTIOQUIA           84788\n",
      "ARAUCA                 44\n",
      "ATLÁNTICO           31721\n",
      "BOGOTÁ             172740\n",
      "BOLÍVAR             22221\n",
      "BOYACÁ              13178\n",
      "CALDAS              13916\n",
      "CAQUETÁ              3296\n",
      "CASANARE              312\n",
      "CAUCA               11915\n",
      "CESAR                7021\n",
      "CHOCÓ                2711\n",
      "CUNDINAMARCA        10117\n",
      "CÓRDOBA             12533\n",
      "HUILA               11689\n",
      "LA GUAJIRA           3525\n",
      "MAGDALENA           11347\n",
      "META                 5557\n",
      "NARIÑO              17803\n",
      "NORTE SANTANDER     14902\n",
      "PUTUMAYO              607\n",
      "QUINDÍO              7292\n",
      "RISARALDA           12554\n",
      "SAN ANDRÉS            229\n",
      "SANTANDER           32715\n",
      "SUCRE                7980\n",
      "TOLIMA              13013\n",
      "VALLE               56601\n",
      "Name: ESTU_IES_DEPT_DESEADA, dtype: int64\n",
      "Elementos null/NaN 0\n",
      "__________________\n",
      "Elementos diferentes de null/NaN: 582377\n",
      "__________________\n",
      "(582377,)\n",
      "None\n"
     ]
    }
   ],
   "source": [
    "c = 'ESTU_IES_DEPT_DESEADA'\n",
    "print(data_2010_2[c].value_counts().sort_index().index)\n",
    "print(data_2010_2[c].value_counts().sort_index())\n",
    "print(missing_data(data_2010_2[c]))"
   ]
  },
  {
   "cell_type": "code",
   "execution_count": 105,
   "metadata": {
    "collapsed": true
   },
   "outputs": [],
   "source": [
    "data_2010_2.fillna(method='bfill', inplace=True)\n",
    "data_2010_2.fillna(method='ffill', inplace=True)"
   ]
  },
  {
   "cell_type": "code",
   "execution_count": 106,
   "metadata": {
    "collapsed": false,
    "scrolled": true
   },
   "outputs": [
    {
     "name": "stdout",
     "output_type": "stream",
     "text": [
      "Index(['AGUACHICA', 'ANDES', 'APARTADO', 'ARAUCA', 'ARMENIA',\n",
      "       'BARRANCABERMEJA', 'BARRANQUILLA', 'BELLO', 'BOGOTÁ D.C.',\n",
      "       'BUCARAMANGA', 'BUENAVENTURA', 'BUGA', 'CALDAS', 'CALI',\n",
      "       'CARMEN DE VIBORAL', 'CARTAGENA', 'CARTAGO', 'CAUCASIA', 'CERETE',\n",
      "       'CHIA', 'CHIQUINQUIRA', 'CIENAGA', 'COPACABANA', 'COTA', 'CUCUTA',\n",
      "       'DUITAMA', 'ENVIGADO', 'ESPINAL', 'FACATATIVA', 'FLORENCIA', 'FLORIAN',\n",
      "       'FUSAGASUGA', 'GIRARDOT', 'HONDA', 'IBAGUE', 'LETICIA', 'MADRID',\n",
      "       'MALAGA', 'MANIZALES', 'MARINILLA', 'MEDELLIN', 'MOCOA', 'MONTERIA',\n",
      "       'MOSQUERA', 'NEIVA', 'NILO', 'OCAÑA', 'OVEJAS', 'PALMIRA', 'PAMPLONA',\n",
      "       'PASTO', 'PENSILVANIA', 'PEREIRA', 'POPAYAN', 'PUERTO BERRIO',\n",
      "       'PUERTO TEJADA', 'QUIBDO', 'RIOHACHA', 'RIONEGRO', 'ROLDANILLO',\n",
      "       'SABANETA', 'SAN ANDRES', 'SAN GIL', 'SAN JUAN DEL CESAR',\n",
      "       'SANTA MARTA', 'SANTA ROSA DE CABAL', 'SANTA ROSA DE OSOS',\n",
      "       'SANTAFÉ DE ANTIOQUIA', 'SEVILLA', 'SIBUNDOY', 'SINCELEJO', 'SOCORRO',\n",
      "       'SOGAMOSO', 'SOLEDAD', 'TOLU', 'TULUA', 'TUNJA', 'TURBO', 'UBATE',\n",
      "       'VALLEDUPAR', 'VILLAVICENCIO', 'YOPAL'],\n",
      "      dtype='object')\n",
      "AGUACHICA                  513\n",
      "ANDES                      155\n",
      "APARTADO                    40\n",
      "ARAUCA                      44\n",
      "ARMENIA                   7292\n",
      "BARRANCABERMEJA           1158\n",
      "BARRANQUILLA             31222\n",
      "BELLO                     4475\n",
      "BOGOTÁ D.C.             172740\n",
      "BUCARAMANGA              29823\n",
      "BUENAVENTURA               771\n",
      "BUGA                       929\n",
      "CALDAS                     316\n",
      "CALI                     50730\n",
      "CARMEN DE VIBORAL          419\n",
      "CARTAGENA                22221\n",
      "CARTAGO                    407\n",
      "CAUCASIA                   552\n",
      "CERETE                      58\n",
      "CHIA                      2778\n",
      "CHIQUINQUIRA               448\n",
      "CIENAGA                    242\n",
      "COPACABANA                   5\n",
      "COTA                        60\n",
      "CUCUTA                   10350\n",
      "DUITAMA                    606\n",
      "ENVIGADO                   322\n",
      "ESPINAL                    683\n",
      "FACATATIVA                 171\n",
      "FLORENCIA                 3296\n",
      "                         ...  \n",
      "PEREIRA                  12255\n",
      "POPAYAN                  11788\n",
      "PUERTO BERRIO              101\n",
      "PUERTO TEJADA              127\n",
      "QUIBDO                    2711\n",
      "RIOHACHA                  3516\n",
      "RIONEGRO                   957\n",
      "ROLDANILLO                 279\n",
      "SABANETA                    69\n",
      "SAN ANDRES                 229\n",
      "SAN GIL                   1485\n",
      "SAN JUAN DEL CESAR           9\n",
      "SANTA MARTA              11105\n",
      "SANTA ROSA DE CABAL        299\n",
      "SANTA ROSA DE OSOS         141\n",
      "SANTAFÉ DE ANTIOQUIA       285\n",
      "SEVILLA                      6\n",
      "SIBUNDOY                    19\n",
      "SINCELEJO                 7719\n",
      "SOCORRO                    164\n",
      "SOGAMOSO                  2680\n",
      "SOLEDAD                    499\n",
      "TOLU                       211\n",
      "TULUA                     1871\n",
      "TUNJA                     9444\n",
      "TURBO                      816\n",
      "UBATE                      400\n",
      "VALLEDUPAR                6508\n",
      "VILLAVICENCIO             5557\n",
      "YOPAL                      312\n",
      "Name: ESTU_IES_MPIO_DESEADA, dtype: int64\n",
      "Elementos null/NaN 0\n",
      "__________________\n",
      "Elementos diferentes de null/NaN: 582377\n",
      "__________________\n",
      "(582377,)\n",
      "None\n"
     ]
    }
   ],
   "source": [
    "c = 'ESTU_IES_MPIO_DESEADA'\n",
    "print(data_2010_2[c].value_counts().sort_index().index)\n",
    "print(data_2010_2[c].value_counts().sort_index())\n",
    "print(missing_data(data_2010_2[c]))"
   ]
  },
  {
   "cell_type": "code",
   "execution_count": 107,
   "metadata": {
    "collapsed": true
   },
   "outputs": [],
   "source": [
    "data_2010_2.fillna(method='bfill', inplace=True)\n",
    "data_2010_2.fillna(method='ffill', inplace=True)"
   ]
  },
  {
   "cell_type": "code",
   "execution_count": 108,
   "metadata": {
    "collapsed": false,
    "scrolled": true
   },
   "outputs": [
    {
     "name": "stdout",
     "output_type": "stream",
     "text": [
      "Float64Index([ 0.0,  1.0,  2.0,  3.0,  4.0,  5.0,  6.0,  7.0,  8.0,  9.0, 10.0,\n",
      "              11.0, 12.0, 13.0, 14.0, 15.0, 16.0, 17.0, 18.0, 19.0, 20.0, 21.0,\n",
      "              22.0, 23.0, 24.0, 25.0, 26.0, 27.0, 28.0, 29.0, 30.0, 31.0, 32.0,\n",
      "              33.0, 34.0, 35.0, 36.0, 37.0, 38.0, 39.0, 40.0, 41.0, 42.0, 43.0,\n",
      "              44.0, 45.0, 46.0, 47.0, 48.0, 49.0, 50.0, 51.0, 52.0, 53.0, 54.0,\n",
      "              55.0, 56.0, 57.0, 58.0, 59.0, 60.0, 61.0, 62.0, 63.0, 64.0, 65.0,\n",
      "              66.0, 67.0, 68.0, 70.0, 71.0, 72.0, 73.0, 74.0, 75.0, 76.0, 77.0,\n",
      "              78.0, 79.0, 80.0, 81.0, 82.0, 83.0, 84.0, 85.0, 86.0, 88.0, 90.0,\n",
      "              93.0, 94.0, 95.0, 96.0, 97.0, 98.0],\n",
      "             dtype='float64')\n",
      "0       344\n",
      "1        33\n",
      "2       168\n",
      "3       600\n",
      "4       920\n",
      "5      1049\n",
      "6      1734\n",
      "7      1260\n",
      "8      1579\n",
      "9      1930\n",
      "10     2078\n",
      "11     2254\n",
      "12     3725\n",
      "13     3768\n",
      "14     4464\n",
      "15     5744\n",
      "16     4219\n",
      "17     5673\n",
      "18     5545\n",
      "19     5490\n",
      "20    10692\n",
      "21     7759\n",
      "22     9485\n",
      "23    11042\n",
      "24    13173\n",
      "25    17737\n",
      "26    15246\n",
      "27    16191\n",
      "28    19672\n",
      "29    18080\n",
      "      ...  \n",
      "64      170\n",
      "65      407\n",
      "66      152\n",
      "67      220\n",
      "68      387\n",
      "70       63\n",
      "71      127\n",
      "72      140\n",
      "73       74\n",
      "74       77\n",
      "75      109\n",
      "76      106\n",
      "77      146\n",
      "78      132\n",
      "79        6\n",
      "80      255\n",
      "81        4\n",
      "82       22\n",
      "83      101\n",
      "84      298\n",
      "85       43\n",
      "86       70\n",
      "88       44\n",
      "90      395\n",
      "93       32\n",
      "94       65\n",
      "95        6\n",
      "96      184\n",
      "97        1\n",
      "98        2\n",
      "Name: ESTU_TOTAL_ALUMNOS_CURSO, dtype: int64\n",
      "Elementos null/NaN 0\n",
      "__________________\n",
      "Elementos diferentes de null/NaN: 582377\n",
      "__________________\n",
      "(582377,)\n",
      "None\n"
     ]
    }
   ],
   "source": [
    "c = 'ESTU_TOTAL_ALUMNOS_CURSO'\n",
    "print(data_2010_2[c].value_counts().sort_index().index)\n",
    "print(data_2010_2[c].value_counts().sort_index())\n",
    "print(missing_data(data_2010_2[c]))"
   ]
  },
  {
   "cell_type": "code",
   "execution_count": 109,
   "metadata": {
    "collapsed": false
   },
   "outputs": [
    {
     "name": "stdout",
     "output_type": "stream",
     "text": [
      "cant null antes: 0\n",
      "cant null despues: 0\n"
     ]
    }
   ],
   "source": [
    "Do_resamples(data_2010_2, c, float)"
   ]
  },
  {
   "cell_type": "code",
   "execution_count": null,
   "metadata": {
    "collapsed": true
   },
   "outputs": [],
   "source": []
  },
  {
   "cell_type": "code",
   "execution_count": null,
   "metadata": {
    "collapsed": true
   },
   "outputs": [],
   "source": []
  },
  {
   "cell_type": "code",
   "execution_count": null,
   "metadata": {
    "collapsed": true
   },
   "outputs": [],
   "source": []
  },
  {
   "cell_type": "code",
   "execution_count": null,
   "metadata": {
    "collapsed": true
   },
   "outputs": [],
   "source": []
  },
  {
   "cell_type": "code",
   "execution_count": null,
   "metadata": {
    "collapsed": true
   },
   "outputs": [],
   "source": []
  },
  {
   "cell_type": "code",
   "execution_count": null,
   "metadata": {
    "collapsed": true
   },
   "outputs": [],
   "source": []
  },
  {
   "cell_type": "code",
   "execution_count": null,
   "metadata": {
    "collapsed": true
   },
   "outputs": [],
   "source": []
  },
  {
   "cell_type": "code",
   "execution_count": null,
   "metadata": {
    "collapsed": true
   },
   "outputs": [],
   "source": []
  },
  {
   "cell_type": "code",
   "execution_count": 110,
   "metadata": {
    "collapsed": false,
    "scrolled": true
   },
   "outputs": [
    {
     "name": "stdout",
     "output_type": "stream",
     "text": [
      "Float64Index([1985.0, 1986.0, 1987.0, 1988.0, 1989.0, 1990.0, 1991.0, 1992.0,\n",
      "              1993.0, 1994.0, 1995.0, 1996.0, 1997.0, 1998.0, 1999.0, 2000.0],\n",
      "             dtype='float64')\n",
      "1985     15253\n",
      "1986      1804\n",
      "1987      2050\n",
      "1988      2268\n",
      "1989      2032\n",
      "1990      3282\n",
      "1991      2061\n",
      "1992      2930\n",
      "1993      3841\n",
      "1994      6715\n",
      "1995     10065\n",
      "1996     17194\n",
      "1997     34862\n",
      "1998     72738\n",
      "1999    181957\n",
      "2000    223325\n",
      "Name: ESTU_ANO_MATRICULA_PRIMERO, dtype: int64\n",
      "Elementos null/NaN 0\n",
      "__________________\n",
      "Elementos diferentes de null/NaN: 582377\n",
      "__________________\n",
      "(582377,)\n",
      "None\n"
     ]
    }
   ],
   "source": [
    "c = 'ESTU_ANO_MATRICULA_PRIMERO'\n",
    "print(data_2010_2[c].value_counts().sort_index().index)\n",
    "print(data_2010_2[c].value_counts().sort_index())\n",
    "print(missing_data(data_2010_2[c]))"
   ]
  },
  {
   "cell_type": "code",
   "execution_count": 111,
   "metadata": {
    "collapsed": false,
    "scrolled": true
   },
   "outputs": [
    {
     "name": "stdout",
     "output_type": "stream",
     "text": [
      "Float64Index([1985.0, 1986.0, 1987.0, 1988.0, 1989.0, 1990.0, 1991.0, 1992.0,\n",
      "              1993.0, 1994.0, 1995.0, 1996.0, 1997.0, 1998.0, 1999.0, 2000.0,\n",
      "              2001.0, 2002.0, 2003.0, 2004.0, 2005.0],\n",
      "             dtype='float64')\n",
      "1985      7963\n",
      "1986       893\n",
      "1987       996\n",
      "1988       799\n",
      "1989      1630\n",
      "1990      2049\n",
      "1991      1137\n",
      "1992      1687\n",
      "1993      1559\n",
      "1994      2282\n",
      "1995      3020\n",
      "1996      2355\n",
      "1997      3287\n",
      "1998      4186\n",
      "1999      6878\n",
      "2000     11336\n",
      "2001     13918\n",
      "2002     30755\n",
      "2003     94428\n",
      "2004    331961\n",
      "2005     59258\n",
      "Name: ESTU_ANO_TERMINO_QUINTO, dtype: int64\n",
      "Elementos null/NaN 0\n",
      "__________________\n",
      "Elementos diferentes de null/NaN: 582377\n",
      "__________________\n",
      "(582377,)\n",
      "None\n"
     ]
    }
   ],
   "source": [
    "c = 'ESTU_ANO_TERMINO_QUINTO'\n",
    "print(data_2010_2[c].value_counts().sort_index().index)\n",
    "print(data_2010_2[c].value_counts().sort_index())\n",
    "print(missing_data(data_2010_2[c]))"
   ]
  },
  {
   "cell_type": "code",
   "execution_count": 112,
   "metadata": {
    "collapsed": false
   },
   "outputs": [
    {
     "name": "stdout",
     "output_type": "stream",
     "text": [
      "Float64Index([1.0, 2.0, 3.0, 4.0, 5.0, 6.0, 7.0, 8.0, 9.0, 10.0, 11.0], dtype='float64')\n",
      "1      59253\n",
      "2      67394\n",
      "3      50309\n",
      "4      32920\n",
      "5      35172\n",
      "6     140250\n",
      "7      30448\n",
      "8      19729\n",
      "9      13400\n",
      "10     20943\n",
      "11    112559\n",
      "Name: ESTU_ANOS_COLEGIO_ACTUAL, dtype: int64\n",
      "Elementos null/NaN 0\n",
      "__________________\n",
      "Elementos diferentes de null/NaN: 582377\n",
      "__________________\n",
      "(582377,)\n",
      "None\n"
     ]
    }
   ],
   "source": [
    "c = 'ESTU_ANOS_COLEGIO_ACTUAL'\n",
    "print(data_2010_2[c].value_counts().sort_index().index)\n",
    "print(data_2010_2[c].value_counts().sort_index())\n",
    "print(missing_data(data_2010_2[c]))"
   ]
  },
  {
   "cell_type": "code",
   "execution_count": 113,
   "metadata": {
    "collapsed": false,
    "scrolled": true
   },
   "outputs": [
    {
     "name": "stdout",
     "output_type": "stream",
     "text": [
      "Float64Index([1985.0, 1986.0, 1987.0, 1988.0, 1989.0, 1990.0, 1991.0, 1992.0,\n",
      "              1993.0, 1994.0, 1995.0, 1996.0, 1997.0, 1998.0, 1999.0, 2000.0,\n",
      "              2001.0, 2002.0, 2003.0, 2004.0, 2005.0, 2006.0],\n",
      "             dtype='float64')\n",
      "1985      5010\n",
      "1986       527\n",
      "1987       797\n",
      "1988       860\n",
      "1989       630\n",
      "1990      1543\n",
      "1991      1073\n",
      "1992       850\n",
      "1993      1409\n",
      "1994      1555\n",
      "1995      2297\n",
      "1996      2705\n",
      "1997      1770\n",
      "1998      2594\n",
      "1999      3518\n",
      "2000      6426\n",
      "2001     10176\n",
      "2002     14572\n",
      "2003     33015\n",
      "2004    108925\n",
      "2005    314710\n",
      "2006     67415\n",
      "Name: ESTU_ANO_MATRICULA_SEXTO, dtype: int64\n",
      "Elementos null/NaN 0\n",
      "__________________\n",
      "Elementos diferentes de null/NaN: 582377\n",
      "__________________\n",
      "(582377,)\n",
      "None\n"
     ]
    }
   ],
   "source": [
    "c = 'ESTU_ANO_MATRICULA_SEXTO'\n",
    "print(data_2010_2[c].value_counts().sort_index().index)\n",
    "print(data_2010_2[c].value_counts().sort_index())\n",
    "print(missing_data(data_2010_2[c]))"
   ]
  },
  {
   "cell_type": "code",
   "execution_count": 114,
   "metadata": {
    "collapsed": false
   },
   "outputs": [
    {
     "name": "stdout",
     "output_type": "stream",
     "text": [
      "Float64Index([0.0, 1.0, 2.0, 3.0], dtype='float64')\n",
      "0     99685\n",
      "1    295716\n",
      "2    101450\n",
      "3     85526\n",
      "Name: ESTU_ANOS_PREESCOLAR, dtype: int64\n",
      "Elementos null/NaN 0\n",
      "__________________\n",
      "Elementos diferentes de null/NaN: 582377\n",
      "__________________\n",
      "(582377,)\n",
      "None\n"
     ]
    }
   ],
   "source": [
    "c = 'ESTU_ANOS_PREESCOLAR'\n",
    "print(data_2010_2[c].value_counts().sort_index().index)\n",
    "print(data_2010_2[c].value_counts().sort_index())\n",
    "print(missing_data(data_2010_2[c]))"
   ]
  },
  {
   "cell_type": "code",
   "execution_count": 115,
   "metadata": {
    "collapsed": false
   },
   "outputs": [
    {
     "name": "stdout",
     "output_type": "stream",
     "text": [
      "Float64Index([1.0, 2.0, 3.0], dtype='float64')\n",
      "1    359026\n",
      "2    138155\n",
      "3     85196\n",
      "Name: ESTU_CUANTOS_COLE_ESTUDIO, dtype: int64\n",
      "Elementos null/NaN 0\n",
      "__________________\n",
      "Elementos diferentes de null/NaN: 582377\n",
      "__________________\n",
      "(582377,)\n",
      "None\n"
     ]
    }
   ],
   "source": [
    "c = 'ESTU_CUANTOS_COLE_ESTUDIO'\n",
    "print(data_2010_2[c].value_counts().sort_index().index)\n",
    "print(data_2010_2[c].value_counts().sort_index())\n",
    "print(missing_data(data_2010_2[c]))"
   ]
  },
  {
   "cell_type": "code",
   "execution_count": 116,
   "metadata": {
    "collapsed": false
   },
   "outputs": [
    {
     "name": "stdout",
     "output_type": "stream",
     "text": [
      "Float64Index([0.0, 1.0], dtype='float64')\n",
      "0    563579\n",
      "1     18798\n",
      "Name: ESTU_REPROBO_CUARTO, dtype: int64\n",
      "Elementos null/NaN 0\n",
      "__________________\n",
      "Elementos diferentes de null/NaN: 582377\n",
      "__________________\n",
      "(582377,)\n",
      "None\n"
     ]
    }
   ],
   "source": [
    "c = 'ESTU_REPROBO_CUARTO'\n",
    "print(data_2010_2[c].value_counts().sort_index().index)\n",
    "print(data_2010_2[c].value_counts().sort_index())\n",
    "print(missing_data(data_2010_2[c]))"
   ]
  },
  {
   "cell_type": "code",
   "execution_count": 117,
   "metadata": {
    "collapsed": false
   },
   "outputs": [
    {
     "name": "stdout",
     "output_type": "stream",
     "text": [
      "Float64Index([0.0, 1.0], dtype='float64')\n",
      "0    546867\n",
      "1     35510\n",
      "Name: ESTU_REPROBO_DECIMO, dtype: int64\n",
      "Elementos null/NaN 0\n",
      "__________________\n",
      "Elementos diferentes de null/NaN: 582377\n",
      "__________________\n",
      "(582377,)\n",
      "None\n"
     ]
    }
   ],
   "source": [
    "c = 'ESTU_REPROBO_DECIMO'\n",
    "print(data_2010_2[c].value_counts().sort_index().index)\n",
    "print(data_2010_2[c].value_counts().sort_index())\n",
    "print(missing_data(data_2010_2[c]))"
   ]
  },
  {
   "cell_type": "code",
   "execution_count": 118,
   "metadata": {
    "collapsed": false
   },
   "outputs": [
    {
     "name": "stdout",
     "output_type": "stream",
     "text": [
      "Float64Index([0.0, 1.0], dtype='float64')\n",
      "0    554502\n",
      "1     27875\n",
      "Name: ESTU_REPROBO_NOVENO, dtype: int64\n",
      "Elementos null/NaN 0\n",
      "__________________\n",
      "Elementos diferentes de null/NaN: 582377\n",
      "__________________\n",
      "(582377,)\n",
      "None\n"
     ]
    }
   ],
   "source": [
    "c = 'ESTU_REPROBO_NOVENO'\n",
    "print(data_2010_2[c].value_counts().sort_index().index)\n",
    "print(data_2010_2[c].value_counts().sort_index())\n",
    "print(missing_data(data_2010_2[c]))"
   ]
  },
  {
   "cell_type": "code",
   "execution_count": 119,
   "metadata": {
    "collapsed": false
   },
   "outputs": [
    {
     "name": "stdout",
     "output_type": "stream",
     "text": [
      "Float64Index([0.0, 1.0], dtype='float64')\n",
      "0    552006\n",
      "1     30371\n",
      "Name: ESTU_REPROBO_OCTAVO, dtype: int64\n",
      "Elementos null/NaN 0\n",
      "__________________\n",
      "Elementos diferentes de null/NaN: 582377\n",
      "__________________\n",
      "(582377,)\n",
      "None\n"
     ]
    }
   ],
   "source": [
    "c = 'ESTU_REPROBO_OCTAVO'\n",
    "print(data_2010_2[c].value_counts().sort_index().index)\n",
    "print(data_2010_2[c].value_counts().sort_index())\n",
    "print(missing_data(data_2010_2[c]))"
   ]
  },
  {
   "cell_type": "code",
   "execution_count": 120,
   "metadata": {
    "collapsed": false
   },
   "outputs": [
    {
     "name": "stdout",
     "output_type": "stream",
     "text": [
      "Float64Index([0.0, 1.0], dtype='float64')\n",
      "0    546046\n",
      "1     36331\n",
      "Name: ESTU_REPROBO_PRIMERO, dtype: int64\n",
      "Elementos null/NaN 0\n",
      "__________________\n",
      "Elementos diferentes de null/NaN: 582377\n",
      "__________________\n",
      "(582377,)\n",
      "None\n"
     ]
    }
   ],
   "source": [
    "c = 'ESTU_REPROBO_PRIMERO'\n",
    "print(data_2010_2[c].value_counts().sort_index().index)\n",
    "print(data_2010_2[c].value_counts().sort_index())\n",
    "print(missing_data(data_2010_2[c]))"
   ]
  },
  {
   "cell_type": "code",
   "execution_count": 121,
   "metadata": {
    "collapsed": false
   },
   "outputs": [
    {
     "name": "stdout",
     "output_type": "stream",
     "text": [
      "Float64Index([0.0, 1.0], dtype='float64')\n",
      "0    564454\n",
      "1     17923\n",
      "Name: ESTU_REPROBO_QUINTO, dtype: int64\n",
      "Elementos null/NaN 0\n",
      "__________________\n",
      "Elementos diferentes de null/NaN: 582377\n",
      "__________________\n",
      "(582377,)\n",
      "None\n"
     ]
    }
   ],
   "source": [
    "c = 'ESTU_REPROBO_QUINTO'\n",
    "print(data_2010_2[c].value_counts().sort_index().index)\n",
    "print(data_2010_2[c].value_counts().sort_index())\n",
    "print(missing_data(data_2010_2[c]))"
   ]
  },
  {
   "cell_type": "code",
   "execution_count": 122,
   "metadata": {
    "collapsed": false
   },
   "outputs": [
    {
     "name": "stdout",
     "output_type": "stream",
     "text": [
      "Float64Index([0.0, 1.0], dtype='float64')\n",
      "0    556033\n",
      "1     26344\n",
      "Name: ESTU_REPROBO_SEGUNDO, dtype: int64\n",
      "Elementos null/NaN 0\n",
      "__________________\n",
      "Elementos diferentes de null/NaN: 582377\n",
      "__________________\n",
      "(582377,)\n",
      "None\n"
     ]
    }
   ],
   "source": [
    "c = 'ESTU_REPROBO_SEGUNDO'\n",
    "print(data_2010_2[c].value_counts().sort_index().index)\n",
    "print(data_2010_2[c].value_counts().sort_index())\n",
    "print(missing_data(data_2010_2[c]))"
   ]
  },
  {
   "cell_type": "code",
   "execution_count": 123,
   "metadata": {
    "collapsed": false
   },
   "outputs": [
    {
     "name": "stdout",
     "output_type": "stream",
     "text": [
      "Float64Index([0.0, 1.0], dtype='float64')\n",
      "0    552894\n",
      "1     29483\n",
      "Name: ESTU_REPROBO_SEPTIMO, dtype: int64\n",
      "Elementos null/NaN 0\n",
      "__________________\n",
      "Elementos diferentes de null/NaN: 582377\n",
      "__________________\n",
      "(582377,)\n",
      "None\n"
     ]
    }
   ],
   "source": [
    "c = 'ESTU_REPROBO_SEPTIMO'\n",
    "print(data_2010_2[c].value_counts().sort_index().index)\n",
    "print(data_2010_2[c].value_counts().sort_index())\n",
    "print(missing_data(data_2010_2[c]))"
   ]
  },
  {
   "cell_type": "code",
   "execution_count": 124,
   "metadata": {
    "collapsed": false
   },
   "outputs": [
    {
     "name": "stdout",
     "output_type": "stream",
     "text": [
      "Float64Index([0.0, 1.0], dtype='float64')\n",
      "0    553662\n",
      "1     28715\n",
      "Name: ESTU_REPROBO_SEXTO, dtype: int64\n",
      "Elementos null/NaN 0\n",
      "__________________\n",
      "Elementos diferentes de null/NaN: 582377\n",
      "__________________\n",
      "(582377,)\n",
      "None\n"
     ]
    }
   ],
   "source": [
    "c = 'ESTU_REPROBO_SEXTO'\n",
    "print(data_2010_2[c].value_counts().sort_index().index)\n",
    "print(data_2010_2[c].value_counts().sort_index())\n",
    "print(missing_data(data_2010_2[c]))"
   ]
  },
  {
   "cell_type": "code",
   "execution_count": 125,
   "metadata": {
    "collapsed": false
   },
   "outputs": [
    {
     "name": "stdout",
     "output_type": "stream",
     "text": [
      "Float64Index([0.0, 1.0], dtype='float64')\n",
      "0    554370\n",
      "1     28007\n",
      "Name: ESTU_REPROBO_TERCERO, dtype: int64\n",
      "Elementos null/NaN 0\n",
      "__________________\n",
      "Elementos diferentes de null/NaN: 582377\n",
      "__________________\n",
      "(582377,)\n",
      "None\n"
     ]
    }
   ],
   "source": [
    "c = 'ESTU_REPROBO_TERCERO'\n",
    "print(data_2010_2[c].value_counts().sort_index().index)\n",
    "print(data_2010_2[c].value_counts().sort_index())\n",
    "print(missing_data(data_2010_2[c]))"
   ]
  },
  {
   "cell_type": "code",
   "execution_count": 126,
   "metadata": {
    "collapsed": false
   },
   "outputs": [
    {
     "name": "stdout",
     "output_type": "stream",
     "text": [
      "Float64Index([0.0, 1.0], dtype='float64')\n",
      "0    568467\n",
      "1     13910\n",
      "Name: ESTU_REPROBO_ONCE_MAS, dtype: int64\n",
      "Elementos null/NaN 0\n",
      "__________________\n",
      "Elementos diferentes de null/NaN: 582377\n",
      "__________________\n",
      "(582377,)\n",
      "None\n"
     ]
    }
   ],
   "source": [
    "c = 'ESTU_REPROBO_ONCE_MAS'\n",
    "print(data_2010_2[c].value_counts().sort_index().index)\n",
    "print(data_2010_2[c].value_counts().sort_index())\n",
    "print(missing_data(data_2010_2[c]))"
   ]
  },
  {
   "cell_type": "code",
   "execution_count": 127,
   "metadata": {
    "collapsed": false
   },
   "outputs": [
    {
     "name": "stdout",
     "output_type": "stream",
     "text": [
      "Index(['-'], dtype='object')\n",
      "-    582377\n",
      "Name: ESTU_POR_MEJORARPOSICIONSOCIAL, dtype: int64\n",
      "Elementos null/NaN 0\n",
      "__________________\n",
      "Elementos diferentes de null/NaN: 582377\n",
      "__________________\n",
      "(582377,)\n",
      "None\n"
     ]
    }
   ],
   "source": [
    "c = 'ESTU_POR_MEJORARPOSICIONSOCIAL'\n",
    "print(data_2010_2[c].value_counts().sort_index().index)\n",
    "print(data_2010_2[c].value_counts().sort_index())\n",
    "print(missing_data(data_2010_2[c]))"
   ]
  },
  {
   "cell_type": "code",
   "execution_count": 128,
   "metadata": {
    "collapsed": true
   },
   "outputs": [],
   "source": [
    "data_2010_2 = data_2010_2.drop([c], axis=1)"
   ]
  },
  {
   "cell_type": "code",
   "execution_count": 129,
   "metadata": {
    "collapsed": false
   },
   "outputs": [
    {
     "name": "stdout",
     "output_type": "stream",
     "text": [
      "Index(['-'], dtype='object')\n",
      "-    582377\n",
      "Name: ESTU_POR_COLOMBIAAPRENDE, dtype: int64\n",
      "Elementos null/NaN 0\n",
      "__________________\n",
      "Elementos diferentes de null/NaN: 582377\n",
      "__________________\n",
      "(582377,)\n",
      "None\n"
     ]
    }
   ],
   "source": [
    "c = 'ESTU_POR_COLOMBIAAPRENDE'\n",
    "print(data_2010_2[c].value_counts().sort_index().index)\n",
    "print(data_2010_2[c].value_counts().sort_index())\n",
    "print(missing_data(data_2010_2[c]))"
   ]
  },
  {
   "cell_type": "code",
   "execution_count": 130,
   "metadata": {
    "collapsed": true
   },
   "outputs": [],
   "source": [
    "data_2010_2 = data_2010_2.drop([c], axis=1)"
   ]
  },
  {
   "cell_type": "code",
   "execution_count": 131,
   "metadata": {
    "collapsed": false
   },
   "outputs": [
    {
     "name": "stdout",
     "output_type": "stream",
     "text": [
      "Float64Index([0.0, 1.0], dtype='float64')\n",
      "0    434214\n",
      "1    148163\n",
      "Name: ESTU_POR_INFLUENCIAALGUIEN, dtype: int64\n",
      "Elementos null/NaN 0\n",
      "__________________\n",
      "Elementos diferentes de null/NaN: 582377\n",
      "__________________\n",
      "(582377,)\n",
      "None\n"
     ]
    }
   ],
   "source": [
    "c = 'ESTU_POR_INFLUENCIAALGUIEN'\n",
    "print(data_2010_2[c].value_counts().sort_index().index)\n",
    "print(data_2010_2[c].value_counts().sort_index())\n",
    "print(missing_data(data_2010_2[c]))"
   ]
  },
  {
   "cell_type": "code",
   "execution_count": 132,
   "metadata": {
    "collapsed": false
   },
   "outputs": [
    {
     "name": "stdout",
     "output_type": "stream",
     "text": [
      "Index(['-'], dtype='object')\n",
      "-    582377\n",
      "Name: ESTU_POR_INTERESPERSONAL, dtype: int64\n",
      "Elementos null/NaN 0\n",
      "__________________\n",
      "Elementos diferentes de null/NaN: 582377\n",
      "__________________\n",
      "(582377,)\n",
      "None\n"
     ]
    }
   ],
   "source": [
    "c = 'ESTU_POR_INTERESPERSONAL'\n",
    "print(data_2010_2[c].value_counts().sort_index().index)\n",
    "print(data_2010_2[c].value_counts().sort_index())\n",
    "print(missing_data(data_2010_2[c]))"
   ]
  },
  {
   "cell_type": "code",
   "execution_count": 133,
   "metadata": {
    "collapsed": true
   },
   "outputs": [],
   "source": [
    "data_2010_2 = data_2010_2.drop([c], axis=1)"
   ]
  },
  {
   "cell_type": "code",
   "execution_count": 134,
   "metadata": {
    "collapsed": false
   },
   "outputs": [
    {
     "name": "stdout",
     "output_type": "stream",
     "text": [
      "Index(['-'], dtype='object')\n",
      "-    582377\n",
      "Name: ESTU_POR_BUSCANDOCARRERA, dtype: int64\n",
      "Elementos null/NaN 0\n",
      "__________________\n",
      "Elementos diferentes de null/NaN: 582377\n",
      "__________________\n",
      "(582377,)\n",
      "None\n"
     ]
    }
   ],
   "source": [
    "c = 'ESTU_POR_BUSCANDOCARRERA'\n",
    "print(data_2010_2[c].value_counts().sort_index().index)\n",
    "print(data_2010_2[c].value_counts().sort_index())\n",
    "print(missing_data(data_2010_2[c]))"
   ]
  },
  {
   "cell_type": "code",
   "execution_count": 135,
   "metadata": {
    "collapsed": true
   },
   "outputs": [],
   "source": [
    "data_2010_2 = data_2010_2.drop([c], axis=1)"
   ]
  },
  {
   "cell_type": "code",
   "execution_count": 136,
   "metadata": {
    "collapsed": false
   },
   "outputs": [
    {
     "name": "stdout",
     "output_type": "stream",
     "text": [
      "Float64Index([0.0, 1.0], dtype='float64')\n",
      "0    495798\n",
      "1     86579\n",
      "Name: ESTU_POR_TRADICIONFAMILIAR, dtype: int64\n",
      "Elementos null/NaN 0\n",
      "__________________\n",
      "Elementos diferentes de null/NaN: 582377\n",
      "__________________\n",
      "(582377,)\n",
      "None\n"
     ]
    }
   ],
   "source": [
    "c = 'ESTU_POR_TRADICIONFAMILIAR'\n",
    "print(data_2010_2[c].value_counts().sort_index().index)\n",
    "print(data_2010_2[c].value_counts().sort_index())\n",
    "print(missing_data(data_2010_2[c]))"
   ]
  },
  {
   "cell_type": "code",
   "execution_count": 137,
   "metadata": {
    "collapsed": false
   },
   "outputs": [
    {
     "name": "stdout",
     "output_type": "stream",
     "text": [
      "Float64Index([0.0, 1.0, 2.0], dtype='float64')\n",
      "0    275861\n",
      "1    255936\n",
      "2     50580\n",
      "Name: ESTU_POR_ORIENTACIONVOCACIONAL, dtype: int64\n",
      "Elementos null/NaN 0\n",
      "__________________\n",
      "Elementos diferentes de null/NaN: 582377\n",
      "__________________\n",
      "(582377,)\n",
      "None\n"
     ]
    }
   ],
   "source": [
    "c = 'ESTU_POR_ORIENTACIONVOCACIONAL'\n",
    "print(data_2010_2[c].value_counts().sort_index().index)\n",
    "print(data_2010_2[c].value_counts().sort_index())\n",
    "print(missing_data(data_2010_2[c]))"
   ]
  },
  {
   "cell_type": "code",
   "execution_count": 138,
   "metadata": {
    "collapsed": false
   },
   "outputs": [
    {
     "name": "stdout",
     "output_type": "stream",
     "text": [
      "Float64Index([1.0, 2.0, 3.0, 4.0, 5.0, 6.0, 7.0, 8.0, 9.0], dtype='float64')\n",
      "1     14690\n",
      "2     25937\n",
      "3    159053\n",
      "4     51588\n",
      "5     35707\n",
      "6     21944\n",
      "7      8445\n",
      "8      6868\n",
      "9    258145\n",
      "Name: ESTU_RAZON_RETIRO, dtype: int64\n",
      "Elementos null/NaN 0\n",
      "__________________\n",
      "Elementos diferentes de null/NaN: 582377\n",
      "__________________\n",
      "(582377,)\n",
      "None\n"
     ]
    }
   ],
   "source": [
    "c = 'ESTU_RAZON_RETIRO'\n",
    "print(data_2010_2[c].value_counts().sort_index().index)\n",
    "print(data_2010_2[c].value_counts().sort_index())\n",
    "print(missing_data(data_2010_2[c]))"
   ]
  },
  {
   "cell_type": "code",
   "execution_count": 139,
   "metadata": {
    "collapsed": false
   },
   "outputs": [
    {
     "name": "stdout",
     "output_type": "stream",
     "text": [
      "Float64Index([0.0, 1.0], dtype='float64')\n",
      "0    433386\n",
      "1    148991\n",
      "Name: ESTU_POR_AMIGOSESTUDIANDO, dtype: int64\n",
      "Elementos null/NaN 0\n",
      "__________________\n",
      "Elementos diferentes de null/NaN: 582377\n",
      "__________________\n",
      "(582377,)\n",
      "None\n"
     ]
    }
   ],
   "source": [
    "c = 'ESTU_POR_AMIGOSESTUDIANDO'\n",
    "print(data_2010_2[c].value_counts().sort_index().index)\n",
    "print(data_2010_2[c].value_counts().sort_index())\n",
    "print(missing_data(data_2010_2[c]))"
   ]
  },
  {
   "cell_type": "code",
   "execution_count": 140,
   "metadata": {
    "collapsed": false
   },
   "outputs": [
    {
     "name": "stdout",
     "output_type": "stream",
     "text": [
      "Index(['-'], dtype='object')\n",
      "-    582377\n",
      "Name: ESTU_POR_COSTOMATRICULA, dtype: int64\n",
      "Elementos null/NaN 0\n",
      "__________________\n",
      "Elementos diferentes de null/NaN: 582377\n",
      "__________________\n",
      "(582377,)\n",
      "None\n"
     ]
    }
   ],
   "source": [
    "c = 'ESTU_POR_COSTOMATRICULA'\n",
    "print(data_2010_2[c].value_counts().sort_index().index)\n",
    "print(data_2010_2[c].value_counts().sort_index())\n",
    "print(missing_data(data_2010_2[c]))"
   ]
  },
  {
   "cell_type": "code",
   "execution_count": 141,
   "metadata": {
    "collapsed": true
   },
   "outputs": [],
   "source": [
    "data_2010_2 = data_2010_2.drop([c], axis=1)"
   ]
  },
  {
   "cell_type": "code",
   "execution_count": 142,
   "metadata": {
    "collapsed": false
   },
   "outputs": [
    {
     "name": "stdout",
     "output_type": "stream",
     "text": [
      "Index(['-'], dtype='object')\n",
      "-    582377\n",
      "Name: ESTU_POR_OPORTUNIDADES, dtype: int64\n",
      "Elementos null/NaN 0\n",
      "__________________\n",
      "Elementos diferentes de null/NaN: 582377\n",
      "__________________\n",
      "(582377,)\n",
      "None\n"
     ]
    }
   ],
   "source": [
    "c = 'ESTU_POR_OPORTUNIDADES'\n",
    "print(data_2010_2[c].value_counts().sort_index().index)\n",
    "print(data_2010_2[c].value_counts().sort_index())\n",
    "print(missing_data(data_2010_2[c]))"
   ]
  },
  {
   "cell_type": "code",
   "execution_count": 143,
   "metadata": {
    "collapsed": true
   },
   "outputs": [],
   "source": [
    "data_2010_2 = data_2010_2.drop([c], axis=1)"
   ]
  },
  {
   "cell_type": "code",
   "execution_count": 144,
   "metadata": {
    "collapsed": false
   },
   "outputs": [
    {
     "name": "stdout",
     "output_type": "stream",
     "text": [
      "Float64Index([0.0, 1.0], dtype='float64')\n",
      "0    408561\n",
      "1    173816\n",
      "Name: ESTU_POR_OTRARAZON, dtype: int64\n",
      "Elementos null/NaN 0\n",
      "__________________\n",
      "Elementos diferentes de null/NaN: 582377\n",
      "__________________\n",
      "(582377,)\n",
      "None\n"
     ]
    }
   ],
   "source": [
    "c = 'ESTU_POR_OTRARAZON'\n",
    "print(data_2010_2[c].value_counts().sort_index().index)\n",
    "print(data_2010_2[c].value_counts().sort_index())\n",
    "print(missing_data(data_2010_2[c]))"
   ]
  },
  {
   "cell_type": "code",
   "execution_count": 145,
   "metadata": {
    "collapsed": false
   },
   "outputs": [
    {
     "name": "stdout",
     "output_type": "stream",
     "text": [
      "Float64Index([0.0, 1.0], dtype='float64')\n",
      "0    144462\n",
      "1    437915\n",
      "Name: ESTU_PRESTIGIOINSTITUCION, dtype: int64\n",
      "Elementos null/NaN 0\n",
      "__________________\n",
      "Elementos diferentes de null/NaN: 582377\n",
      "__________________\n",
      "(582377,)\n",
      "None\n"
     ]
    }
   ],
   "source": [
    "c = 'ESTU_PRESTIGIOINSTITUCION'\n",
    "print(data_2010_2[c].value_counts().sort_index().index)\n",
    "print(data_2010_2[c].value_counts().sort_index())\n",
    "print(missing_data(data_2010_2[c]))"
   ]
  },
  {
   "cell_type": "code",
   "execution_count": 146,
   "metadata": {
    "collapsed": false
   },
   "outputs": [
    {
     "name": "stdout",
     "output_type": "stream",
     "text": [
      "Float64Index([0.0, 1.0], dtype='float64')\n",
      "0    268599\n",
      "1    313778\n",
      "Name: ESTU_POR_UBICACION, dtype: int64\n",
      "Elementos null/NaN 0\n",
      "__________________\n",
      "Elementos diferentes de null/NaN: 582377\n",
      "__________________\n",
      "(582377,)\n",
      "None\n"
     ]
    }
   ],
   "source": [
    "c = 'ESTU_POR_UBICACION'\n",
    "print(data_2010_2[c].value_counts().sort_index().index)\n",
    "print(data_2010_2[c].value_counts().sort_index())\n",
    "print(missing_data(data_2010_2[c]))"
   ]
  },
  {
   "cell_type": "code",
   "execution_count": 147,
   "metadata": {
    "collapsed": false
   },
   "outputs": [
    {
     "name": "stdout",
     "output_type": "stream",
     "text": [
      "Float64Index([0.0, 1.0], dtype='float64')\n",
      "0    455130\n",
      "1    127247\n",
      "Name: ESTU_POR_UNICAQUEOFRECE, dtype: int64\n",
      "Elementos null/NaN 0\n",
      "__________________\n",
      "Elementos diferentes de null/NaN: 582377\n",
      "__________________\n",
      "(582377,)\n",
      "None\n"
     ]
    }
   ],
   "source": [
    "c = 'ESTU_POR_UNICAQUEOFRECE'\n",
    "print(data_2010_2[c].value_counts().sort_index().index)\n",
    "print(data_2010_2[c].value_counts().sort_index())\n",
    "print(missing_data(data_2010_2[c]))"
   ]
  },
  {
   "cell_type": "code",
   "execution_count": 148,
   "metadata": {
    "collapsed": false
   },
   "outputs": [
    {
     "name": "stdout",
     "output_type": "stream",
     "text": [
      "Index(['-'], dtype='object')\n",
      "-    582377\n",
      "Name: ESTU_RETIRARSE_COLEGIO, dtype: int64\n",
      "Elementos null/NaN 0\n",
      "__________________\n",
      "Elementos diferentes de null/NaN: 582377\n",
      "__________________\n",
      "(582377,)\n",
      "None\n"
     ]
    }
   ],
   "source": [
    "c = 'ESTU_RETIRARSE_COLEGIO'\n",
    "print(data_2010_2[c].value_counts().sort_index().index)\n",
    "print(data_2010_2[c].value_counts().sort_index())\n",
    "print(missing_data(data_2010_2[c]))"
   ]
  },
  {
   "cell_type": "code",
   "execution_count": 149,
   "metadata": {
    "collapsed": true
   },
   "outputs": [],
   "source": [
    "data_2010_2 = data_2010_2.drop([c], axis=1)"
   ]
  },
  {
   "cell_type": "code",
   "execution_count": 150,
   "metadata": {
    "collapsed": false
   },
   "outputs": [
    {
     "name": "stdout",
     "output_type": "stream",
     "text": [
      "Float64Index([0.0, 1.0, 2.0, 3.0, 4.0, 5.0, 6.0, 7.0, 8.0, 9.0, 10.0, 11.0,\n",
      "              12.0],\n",
      "             dtype='float64')\n",
      "0     424258\n",
      "1        346\n",
      "2        137\n",
      "3        115\n",
      "4         41\n",
      "5         47\n",
      "6         18\n",
      "7         17\n",
      "8      84250\n",
      "9      19389\n",
      "10     13516\n",
      "11     21661\n",
      "12     18582\n",
      "Name: COLE_VALOR_PENSION, dtype: int64\n",
      "Elementos null/NaN 0\n",
      "__________________\n",
      "Elementos diferentes de null/NaN: 582377\n",
      "__________________\n",
      "(582377,)\n",
      "None\n"
     ]
    }
   ],
   "source": [
    "c = 'COLE_VALOR_PENSION'\n",
    "print(data_2010_2[c].value_counts().sort_index().index)\n",
    "print(data_2010_2[c].value_counts().sort_index())\n",
    "print(missing_data(data_2010_2[c]))"
   ]
  },
  {
   "cell_type": "code",
   "execution_count": 151,
   "metadata": {
    "collapsed": false
   },
   "outputs": [
    {
     "name": "stdout",
     "output_type": "stream",
     "text": [
      "Float64Index([0.0, 1.0, 2.0, 3.0, 4.0], dtype='float64')\n",
      "0    494538\n",
      "1     64540\n",
      "2     15327\n",
      "3      7086\n",
      "4       886\n",
      "Name: ESTU_VECES_ESTADO, dtype: int64\n",
      "Elementos null/NaN 0\n",
      "__________________\n",
      "Elementos diferentes de null/NaN: 582377\n",
      "__________________\n",
      "(582377,)\n",
      "None\n"
     ]
    }
   ],
   "source": [
    "c = 'ESTU_VECES_ESTADO'\n",
    "print(data_2010_2[c].value_counts().sort_index().index)\n",
    "print(data_2010_2[c].value_counts().sort_index())\n",
    "print(missing_data(data_2010_2[c]))"
   ]
  },
  {
   "cell_type": "code",
   "execution_count": 152,
   "metadata": {
    "collapsed": false,
    "scrolled": true
   },
   "outputs": [
    {
     "name": "stdout",
     "output_type": "stream",
     "text": [
      "Int64Index([ 5001,  5002,  5030,  5031,  5034,  5042,  5045,  5051,  5079,\n",
      "             5088,\n",
      "            ...\n",
      "            95025, 95200, 97001, 97161, 97666, 97889, 99001, 99524, 99624,\n",
      "            99773],\n",
      "           dtype='int64', length=440)\n",
      "5001     32160\n",
      "5002       135\n",
      "5030       855\n",
      "5031       265\n",
      "5034       969\n",
      "5042      1236\n",
      "5045      2121\n",
      "5051       372\n",
      "5079       603\n",
      "5088      6753\n",
      "5101       388\n",
      "5120       343\n",
      "5129      1312\n",
      "5138       341\n",
      "5147       444\n",
      "5148       632\n",
      "5154      1212\n",
      "5172       724\n",
      "5190       666\n",
      "5212      1775\n",
      "5237       252\n",
      "5250       621\n",
      "5266      3789\n",
      "5284       491\n",
      "5313        93\n",
      "5318       558\n",
      "5360      4643\n",
      "5361       200\n",
      "5368       338\n",
      "5376       992\n",
      "         ...  \n",
      "85400       55\n",
      "85410      328\n",
      "85440      449\n",
      "86001      913\n",
      "86568     1083\n",
      "86573      160\n",
      "86749      638\n",
      "86865      589\n",
      "86885      210\n",
      "88001      832\n",
      "88564       51\n",
      "91001      597\n",
      "91405       36\n",
      "91407       33\n",
      "91540       71\n",
      "91798       23\n",
      "94001      143\n",
      "94343       22\n",
      "95001      748\n",
      "95015       55\n",
      "95025       81\n",
      "95200       32\n",
      "97001      186\n",
      "97161       24\n",
      "97666       25\n",
      "97889       23\n",
      "99001      225\n",
      "99524       87\n",
      "99624       36\n",
      "99773      117\n",
      "Name: ESTU_COD_MCPIO_PRESENTACION, dtype: int64\n",
      "Elementos null/NaN 0\n",
      "__________________\n",
      "Elementos diferentes de null/NaN: 582377\n",
      "__________________\n",
      "(582377,)\n",
      "None\n"
     ]
    }
   ],
   "source": [
    "c = 'ESTU_COD_MCPIO_PRESENTACION'\n",
    "print(data_2010_2[c].value_counts().sort_index().index)\n",
    "print(data_2010_2[c].value_counts().sort_index())\n",
    "print(missing_data(data_2010_2[c]))"
   ]
  },
  {
   "cell_type": "code",
   "execution_count": 153,
   "metadata": {
    "collapsed": true
   },
   "outputs": [],
   "source": [
    "data_2010_2 = data_2010_2.drop([c], axis=1)"
   ]
  },
  {
   "cell_type": "code",
   "execution_count": 154,
   "metadata": {
    "collapsed": false,
    "scrolled": true
   },
   "outputs": [
    {
     "name": "stdout",
     "output_type": "stream",
     "text": [
      "Index(['ABEJORRAL', 'ABREGO', 'ACACIAS', 'ACANDI', 'ACHI', 'AGUACHICA',\n",
      "       'AGUADAS', 'AGUAZUL', 'AGUSTIN CODAZZI', 'AIPE',\n",
      "       ...\n",
      "       'VIOTA', 'YARUMAL', 'YAVARATE', 'YOLOMBO', 'YOPAL', 'YUMBO', 'ZAPATOCA',\n",
      "       'ZARAGOZA', 'ZARZAL', 'ZIPAQUIRA'],\n",
      "      dtype='object', length=423)\n",
      "ABEJORRAL                     135\n",
      "ABREGO                        245\n",
      "ACACIAS                      1434\n",
      "ACANDI                         56\n",
      "ACHI                          270\n",
      "AGUACHICA                    1309\n",
      "AGUADAS                       273\n",
      "AGUAZUL                       589\n",
      "AGUSTIN CODAZZI               630\n",
      "AIPE                          193\n",
      "ALBAN (SAN JOSE)              195\n",
      "ALCALA                        229\n",
      "ALTO BAUDO (PIE DE PATO)       40\n",
      "AMAGA                         855\n",
      "AMALFI                        265\n",
      "ANDALUCIA                     211\n",
      "ANDES                         969\n",
      "ANOLAIMA                      280\n",
      "ANSERMA                       722\n",
      "ANSERMANUEVO                  171\n",
      "APARTADO                     2121\n",
      "APIA                          171\n",
      "ARACATACA                     438\n",
      "ARAUCA                       1218\n",
      "ARAUQUITA                     311\n",
      "ARBELAEZ                      280\n",
      "ARBOLEDAS                     173\n",
      "ARBOLETES                     372\n",
      "ARIGUANI (EL DIFICIL)         343\n",
      "ARJONA                        952\n",
      "                             ... \n",
      "TURBO                        1394\n",
      "TURMEQUE                      222\n",
      "TUTA                          196\n",
      "UBATE                        1328\n",
      "UNGUIA                         94\n",
      "URRAO                         567\n",
      "VALLEDUPAR                   6010\n",
      "VALPARAISO                    207\n",
      "VEGACHI                       232\n",
      "VELEZ                         756\n",
      "VENADILLO                     174\n",
      "VENTAQUEMADA                  141\n",
      "VIGIA DEL FUERTE               92\n",
      "VILLA DE LEYVA                389\n",
      "VILLA DEL ROSARIO             934\n",
      "VILLA GUAMEZ (LA HORMIGA)     589\n",
      "VILLAGARZON                   210\n",
      "VILLANUEVA                    982\n",
      "VILLAVICENCIO                7315\n",
      "VILLETA                       688\n",
      "VIOTA                         137\n",
      "YARUMAL                      1063\n",
      "YAVARATE                       23\n",
      "YOLOMBO                       245\n",
      "YOPAL                        2458\n",
      "YUMBO                        1614\n",
      "ZAPATOCA                      184\n",
      "ZARAGOZA                      316\n",
      "ZARZAL                        601\n",
      "ZIPAQUIRA                    2996\n",
      "Name: ESTU_MCPIO_PRESENTACION, dtype: int64\n",
      "Elementos null/NaN 0\n",
      "__________________\n",
      "Elementos diferentes de null/NaN: 582377\n",
      "__________________\n",
      "(582377,)\n",
      "None\n"
     ]
    }
   ],
   "source": [
    "c = 'ESTU_MCPIO_PRESENTACION'\n",
    "print(data_2010_2[c].value_counts().sort_index().index)\n",
    "print(data_2010_2[c].value_counts().sort_index())\n",
    "print(missing_data(data_2010_2[c]))"
   ]
  },
  {
   "cell_type": "code",
   "execution_count": 155,
   "metadata": {
    "collapsed": false,
    "scrolled": true
   },
   "outputs": [
    {
     "name": "stdout",
     "output_type": "stream",
     "text": [
      "Index(['AMAZONAS', 'ANTIOQUIA', 'ARAUCA', 'ATLÁNTICO', 'BOGOTÁ', 'BOLÍVAR',\n",
      "       'BOYACÁ', 'CALDAS', 'CAQUETÁ', 'CASANARE', 'CAUCA', 'CESAR', 'CHOCÓ',\n",
      "       'CUNDINAMARCA', 'CÓRDOBA', 'GUAINÍA', 'GUAVIARE', 'HUILA', 'LA GUAJIRA',\n",
      "       'MAGDALENA', 'META', 'NARIÑO', 'NORTE SANTANDER', 'PUTUMAYO', 'QUINDÍO',\n",
      "       'RISARALDA', 'SAN ANDRÉS', 'SANTANDER', 'SUCRE', 'TOLIMA', 'VALLE',\n",
      "       'VAUPÉS', 'VICHADA'],\n",
      "      dtype='object')\n",
      "AMAZONAS              760\n",
      "ANTIOQUIA           79357\n",
      "ARAUCA               3250\n",
      "ATLÁNTICO           29042\n",
      "BOGOTÁ             103667\n",
      "BOLÍVAR             25506\n",
      "BOYACÁ              21070\n",
      "CALDAS              13911\n",
      "CAQUETÁ              4533\n",
      "CASANARE             5029\n",
      "CAUCA               13187\n",
      "CESAR               12368\n",
      "CHOCÓ                4417\n",
      "CUNDINAMARCA        35144\n",
      "CÓRDOBA             18557\n",
      "GUAINÍA               165\n",
      "GUAVIARE              916\n",
      "HUILA               15597\n",
      "LA GUAJIRA           6747\n",
      "MAGDALENA           13673\n",
      "META                11546\n",
      "NARIÑO              18388\n",
      "NORTE SANTANDER     17239\n",
      "PUTUMAYO             3593\n",
      "QUINDÍO              7858\n",
      "RISARALDA           11866\n",
      "SAN ANDRÉS            883\n",
      "SANTANDER           30697\n",
      "SUCRE               11034\n",
      "TOLIMA              17730\n",
      "VALLE               43924\n",
      "VAUPÉS                258\n",
      "VICHADA               465\n",
      "Name: ESTU_DEPTO_PRESENTACION, dtype: int64\n",
      "Elementos null/NaN 0\n",
      "__________________\n",
      "Elementos diferentes de null/NaN: 582377\n",
      "__________________\n",
      "(582377,)\n",
      "None\n"
     ]
    }
   ],
   "source": [
    "c = 'ESTU_DEPTO_PRESENTACION'\n",
    "print(data_2010_2[c].value_counts().sort_index().index)\n",
    "print(data_2010_2[c].value_counts().sort_index())\n",
    "print(missing_data(data_2010_2[c]))"
   ]
  },
  {
   "cell_type": "code",
   "execution_count": 156,
   "metadata": {
    "collapsed": false
   },
   "outputs": [
    {
     "name": "stdout",
     "output_type": "stream",
     "text": [
      "Index(['EXAMEN SABER 11'], dtype='object')\n",
      "EXAMEN SABER 11    582377\n",
      "Name: ESTU_EXAM_NOMBREEXAMEN, dtype: int64\n",
      "Elementos null/NaN 0\n",
      "__________________\n",
      "Elementos diferentes de null/NaN: 582377\n",
      "__________________\n",
      "(582377,)\n",
      "None\n"
     ]
    }
   ],
   "source": [
    "c = 'ESTU_EXAM_NOMBREEXAMEN'\n",
    "print(data_2010_2[c].value_counts().sort_index().index)\n",
    "print(data_2010_2[c].value_counts().sort_index())\n",
    "print(missing_data(data_2010_2[c]))"
   ]
  },
  {
   "cell_type": "code",
   "execution_count": 157,
   "metadata": {
    "collapsed": true
   },
   "outputs": [],
   "source": [
    "data_2010_2 = data_2010_2.drop([c], axis=1)"
   ]
  },
  {
   "cell_type": "code",
   "execution_count": 158,
   "metadata": {
    "collapsed": false,
    "scrolled": true
   },
   "outputs": [
    {
     "name": "stdout",
     "output_type": "stream",
     "text": [
      "Float64Index([ 0.0,  1.0,  2.0,  3.0,  4.0,  5.0,  6.0,  7.0,  8.0,  9.0, 10.0,\n",
      "              11.0, 12.0, 13.0, 14.0, 15.0, 16.0, 17.0, 99.0],\n",
      "             dtype='float64')\n",
      "0      24999\n",
      "1        106\n",
      "2        545\n",
      "3        342\n",
      "4        265\n",
      "5        403\n",
      "6         39\n",
      "7        101\n",
      "8         27\n",
      "9     117275\n",
      "10    104128\n",
      "11     84166\n",
      "12    123797\n",
      "13      6368\n",
      "14     22595\n",
      "15      8527\n",
      "16     44049\n",
      "17     10225\n",
      "99     34420\n",
      "Name: FAMI_EDUCA_PADRE, dtype: int64\n",
      "Elementos null/NaN 0\n",
      "__________________\n",
      "Elementos diferentes de null/NaN: 582377\n",
      "__________________\n",
      "(582377,)\n",
      "None\n"
     ]
    }
   ],
   "source": [
    "c = 'FAMI_EDUCA_PADRE'\n",
    "print(data_2010_2[c].value_counts().sort_index().index)\n",
    "print(data_2010_2[c].value_counts().sort_index())\n",
    "print(missing_data(data_2010_2[c]))"
   ]
  },
  {
   "cell_type": "code",
   "execution_count": 159,
   "metadata": {
    "collapsed": false,
    "scrolled": true
   },
   "outputs": [
    {
     "name": "stdout",
     "output_type": "stream",
     "text": [
      "Float64Index([ 0.0,  1.0,  2.0,  3.0,  4.0,  5.0,  6.0,  7.0,  8.0,  9.0, 10.0,\n",
      "              11.0, 12.0, 13.0, 14.0, 15.0, 16.0, 17.0, 99.0],\n",
      "             dtype='float64')\n",
      "0      15255\n",
      "1         51\n",
      "2        504\n",
      "3        330\n",
      "4        331\n",
      "5        477\n",
      "6         59\n",
      "7        131\n",
      "8         31\n",
      "9     105097\n",
      "10    106139\n",
      "11    100899\n",
      "12    139043\n",
      "13      8615\n",
      "14     28517\n",
      "15      8962\n",
      "16     41875\n",
      "17     10005\n",
      "99     16056\n",
      "Name: FAMI_EDUCA_MADRE, dtype: int64\n",
      "Elementos null/NaN 0\n",
      "__________________\n",
      "Elementos diferentes de null/NaN: 582377\n",
      "__________________\n",
      "(582377,)\n",
      "None\n"
     ]
    }
   ],
   "source": [
    "c = 'FAMI_EDUCA_MADRE'\n",
    "print(data_2010_2[c].value_counts().sort_index().index)\n",
    "print(data_2010_2[c].value_counts().sort_index())\n",
    "print(missing_data(data_2010_2[c]))"
   ]
  },
  {
   "cell_type": "code",
   "execution_count": 160,
   "metadata": {
    "collapsed": false,
    "scrolled": true
   },
   "outputs": [
    {
     "name": "stdout",
     "output_type": "stream",
     "text": [
      "Float64Index([ 1.0,  2.0,  3.0,  4.0,  5.0,  6.0,  7.0,  8.0,  9.0, 10.0, 11.0,\n",
      "              12.0, 13.0, 14.0, 15.0, 16.0, 17.0, 18.0, 19.0, 20.0, 21.0, 22.0,\n",
      "              23.0, 26.0],\n",
      "             dtype='float64')\n",
      "1         18\n",
      "2         41\n",
      "3         23\n",
      "4         13\n",
      "5        125\n",
      "6         33\n",
      "7        343\n",
      "8         60\n",
      "9        835\n",
      "10        49\n",
      "11       177\n",
      "12       360\n",
      "13      8989\n",
      "14     40154\n",
      "15     10464\n",
      "16     15790\n",
      "17     28983\n",
      "18     22227\n",
      "19    104889\n",
      "20     24978\n",
      "21    193121\n",
      "22      9244\n",
      "23     18986\n",
      "26    102475\n",
      "Name: FAMI_OCUPA_PADRE, dtype: int64\n",
      "Elementos null/NaN 0\n",
      "__________________\n",
      "Elementos diferentes de null/NaN: 582377\n",
      "__________________\n",
      "(582377,)\n",
      "None\n"
     ]
    }
   ],
   "source": [
    "c = 'FAMI_OCUPA_PADRE'\n",
    "print(data_2010_2[c].value_counts().sort_index().index)\n",
    "print(data_2010_2[c].value_counts().sort_index())\n",
    "print(missing_data(data_2010_2[c]))"
   ]
  },
  {
   "cell_type": "code",
   "execution_count": 161,
   "metadata": {
    "collapsed": false,
    "scrolled": true
   },
   "outputs": [
    {
     "name": "stdout",
     "output_type": "stream",
     "text": [
      "Float64Index([ 1.0,  2.0,  3.0,  4.0,  5.0,  6.0,  7.0,  8.0,  9.0, 10.0, 11.0,\n",
      "              12.0, 13.0, 14.0, 15.0, 16.0, 17.0, 18.0, 19.0, 20.0, 21.0, 22.0,\n",
      "              23.0, 26.0],\n",
      "             dtype='float64')\n",
      "1         10\n",
      "2         50\n",
      "3          8\n",
      "4         21\n",
      "5         89\n",
      "6         77\n",
      "7        124\n",
      "8         43\n",
      "9        287\n",
      "10      1153\n",
      "11        63\n",
      "12       152\n",
      "13      4620\n",
      "14     15180\n",
      "15      6041\n",
      "16     14478\n",
      "17     22015\n",
      "18     19652\n",
      "19     54133\n",
      "20     13766\n",
      "21     63024\n",
      "22    314721\n",
      "23      6883\n",
      "26     45787\n",
      "Name: FAMI_OCUPA_MADRE, dtype: int64\n",
      "Elementos null/NaN 0\n",
      "__________________\n",
      "Elementos diferentes de null/NaN: 582377\n",
      "__________________\n",
      "(582377,)\n",
      "None\n"
     ]
    }
   ],
   "source": [
    "c = 'FAMI_OCUPA_MADRE'\n",
    "print(data_2010_2[c].value_counts().sort_index().index)\n",
    "print(data_2010_2[c].value_counts().sort_index())\n",
    "print(missing_data(data_2010_2[c]))"
   ]
  },
  {
   "cell_type": "code",
   "execution_count": 162,
   "metadata": {
    "collapsed": false
   },
   "outputs": [
    {
     "name": "stdout",
     "output_type": "stream",
     "text": [
      "Float64Index([1.0, 2.0, 3.0, 4.0, 5.0, 6.0, 8.0], dtype='float64')\n",
      "1    217674\n",
      "2    221212\n",
      "3    112849\n",
      "4     21135\n",
      "5      6529\n",
      "6      2913\n",
      "8        65\n",
      "Name: FAMI_ESTRATO_VIVIENDA, dtype: int64\n",
      "Elementos null/NaN 0\n",
      "__________________\n",
      "Elementos diferentes de null/NaN: 582377\n",
      "__________________\n",
      "(582377,)\n",
      "None\n"
     ]
    }
   ],
   "source": [
    "c = 'FAMI_ESTRATO_VIVIENDA'\n",
    "print(data_2010_2[c].value_counts().sort_index().index)\n",
    "print(data_2010_2[c].value_counts().sort_index())\n",
    "print(missing_data(data_2010_2[c]))"
   ]
  },
  {
   "cell_type": "code",
   "execution_count": 163,
   "metadata": {
    "collapsed": false
   },
   "outputs": [
    {
     "name": "stdout",
     "output_type": "stream",
     "text": [
      "Float64Index([1.0, 2.0, 3.0, 4.0, 5.0], dtype='float64')\n",
      "1    239385\n",
      "2    148050\n",
      "3     27051\n",
      "4      4868\n",
      "5    163023\n",
      "Name: FAMI_NIVEL_SISBEN, dtype: int64\n",
      "Elementos null/NaN 0\n",
      "__________________\n",
      "Elementos diferentes de null/NaN: 582377\n",
      "__________________\n",
      "(582377,)\n",
      "None\n"
     ]
    }
   ],
   "source": [
    "c = 'FAMI_NIVEL_SISBEN'\n",
    "print(data_2010_2[c].value_counts().sort_index().index)\n",
    "print(data_2010_2[c].value_counts().sort_index())\n",
    "print(missing_data(data_2010_2[c]))"
   ]
  },
  {
   "cell_type": "code",
   "execution_count": 164,
   "metadata": {
    "collapsed": false
   },
   "outputs": [
    {
     "name": "stdout",
     "output_type": "stream",
     "text": [
      "Float64Index([1.0, 2.0, 3.0, 4.0, 5.0, 6.0, 7.0, 8.0, 9.0, 10.0, 11.0, 12.0], dtype='float64')\n",
      "1       3353\n",
      "2      26960\n",
      "3      88355\n",
      "4     163335\n",
      "5     138989\n",
      "6      75723\n",
      "7      37715\n",
      "8      21211\n",
      "9      10282\n",
      "10      7261\n",
      "11      3176\n",
      "12      6017\n",
      "Name: FAMI_PERSONAS_HOGAR, dtype: int64\n",
      "Elementos null/NaN 0\n",
      "__________________\n",
      "Elementos diferentes de null/NaN: 582377\n",
      "__________________\n",
      "(582377,)\n",
      "None\n"
     ]
    }
   ],
   "source": [
    "c = 'FAMI_PERSONAS_HOGAR'\n",
    "print(data_2010_2[c].value_counts().sort_index().index)\n",
    "print(data_2010_2[c].value_counts().sort_index())\n",
    "print(missing_data(data_2010_2[c]))"
   ]
  },
  {
   "cell_type": "code",
   "execution_count": 165,
   "metadata": {
    "collapsed": false
   },
   "outputs": [
    {
     "name": "stdout",
     "output_type": "stream",
     "text": [
      "Float64Index([1.0, 2.0, 3.0, 4.0, 5.0, 6.0, 7.0, 8.0, 9.0, 10.0], dtype='float64')\n",
      "1      43912\n",
      "2     202932\n",
      "3     229954\n",
      "4      71290\n",
      "5      24526\n",
      "6       7246\n",
      "7        820\n",
      "8       1279\n",
      "9         63\n",
      "10       355\n",
      "Name: FAMI_CUARTOS_HOGAR, dtype: int64\n",
      "Elementos null/NaN 0\n",
      "__________________\n",
      "Elementos diferentes de null/NaN: 582377\n",
      "__________________\n",
      "(582377,)\n",
      "None\n"
     ]
    }
   ],
   "source": [
    "c = 'FAMI_CUARTOS_HOGAR'\n",
    "print(data_2010_2[c].value_counts().sort_index().index)\n",
    "print(data_2010_2[c].value_counts().sort_index())\n",
    "print(missing_data(data_2010_2[c]))"
   ]
  },
  {
   "cell_type": "code",
   "execution_count": 166,
   "metadata": {
    "collapsed": false
   },
   "outputs": [
    {
     "name": "stdout",
     "output_type": "stream",
     "text": [
      "Float64Index([1.0, 2.0, 3.0, 4.0, 5.0], dtype='float64')\n",
      "1     28457\n",
      "2    268001\n",
      "3     28698\n",
      "4    256340\n",
      "5       881\n",
      "Name: FAMI_PISOSHOGAR, dtype: int64\n",
      "Elementos null/NaN 0\n",
      "__________________\n",
      "Elementos diferentes de null/NaN: 582377\n",
      "__________________\n",
      "(582377,)\n",
      "None\n"
     ]
    }
   ],
   "source": [
    "c = 'FAMI_PISOSHOGAR'\n",
    "print(data_2010_2[c].value_counts().sort_index().index)\n",
    "print(data_2010_2[c].value_counts().sort_index())\n",
    "print(missing_data(data_2010_2[c]))"
   ]
  },
  {
   "cell_type": "code",
   "execution_count": 167,
   "metadata": {
    "collapsed": false
   },
   "outputs": [
    {
     "name": "stdout",
     "output_type": "stream",
     "text": [
      "Float64Index([0.0, 1.0], dtype='float64')\n",
      "0    294469\n",
      "1    287908\n",
      "Name: FAMI_TELEFONO_FIJO, dtype: int64\n",
      "Elementos null/NaN 0\n",
      "__________________\n",
      "Elementos diferentes de null/NaN: 582377\n",
      "__________________\n",
      "(582377,)\n",
      "None\n"
     ]
    }
   ],
   "source": [
    "c = 'FAMI_TELEFONO_FIJO'\n",
    "print(data_2010_2[c].value_counts().sort_index().index)\n",
    "print(data_2010_2[c].value_counts().sort_index())\n",
    "print(missing_data(data_2010_2[c]))"
   ]
  },
  {
   "cell_type": "code",
   "execution_count": 168,
   "metadata": {
    "collapsed": false
   },
   "outputs": [
    {
     "name": "stdout",
     "output_type": "stream",
     "text": [
      "Float64Index([0.0, 1.0, 2.0], dtype='float64')\n",
      "0     52523\n",
      "1    529831\n",
      "2        23\n",
      "Name: FAMI_CELULAR, dtype: int64\n",
      "Elementos null/NaN 0\n",
      "__________________\n",
      "Elementos diferentes de null/NaN: 582377\n",
      "__________________\n",
      "(582377,)\n",
      "None\n"
     ]
    }
   ],
   "source": [
    "c = 'FAMI_CELULAR'\n",
    "print(data_2010_2[c].value_counts().sort_index().index)\n",
    "print(data_2010_2[c].value_counts().sort_index())\n",
    "print(missing_data(data_2010_2[c]))"
   ]
  },
  {
   "cell_type": "code",
   "execution_count": 169,
   "metadata": {
    "collapsed": false
   },
   "outputs": [
    {
     "name": "stdout",
     "output_type": "stream",
     "text": [
      "Float64Index([0.0, 1.0], dtype='float64')\n",
      "0    390232\n",
      "1    192145\n",
      "Name: FAMI_INTERNET, dtype: int64\n",
      "Elementos null/NaN 0\n",
      "__________________\n",
      "Elementos diferentes de null/NaN: 582377\n",
      "__________________\n",
      "(582377,)\n",
      "None\n"
     ]
    }
   ],
   "source": [
    "c = 'FAMI_INTERNET'\n",
    "print(data_2010_2[c].value_counts().sort_index().index)\n",
    "print(data_2010_2[c].value_counts().sort_index())\n",
    "print(missing_data(data_2010_2[c]))"
   ]
  },
  {
   "cell_type": "code",
   "execution_count": 170,
   "metadata": {
    "collapsed": false
   },
   "outputs": [
    {
     "name": "stdout",
     "output_type": "stream",
     "text": [
      "Float64Index([0.0, 1.0], dtype='float64')\n",
      "0    243890\n",
      "1    338487\n",
      "Name: FAMI_SERVICIO_TELEVISION, dtype: int64\n",
      "Elementos null/NaN 0\n",
      "__________________\n",
      "Elementos diferentes de null/NaN: 582377\n",
      "__________________\n",
      "(582377,)\n",
      "None\n"
     ]
    }
   ],
   "source": [
    "c = 'FAMI_SERVICIO_TELEVISION'\n",
    "print(data_2010_2[c].value_counts().sort_index().index)\n",
    "print(data_2010_2[c].value_counts().sort_index())\n",
    "print(missing_data(data_2010_2[c]))"
   ]
  },
  {
   "cell_type": "code",
   "execution_count": 171,
   "metadata": {
    "collapsed": false
   },
   "outputs": [
    {
     "name": "stdout",
     "output_type": "stream",
     "text": [
      "Float64Index([0.0, 1.0, 3.0], dtype='float64')\n",
      "0    313838\n",
      "1      1309\n",
      "3    267230\n",
      "Name: FAMI_COMPUTADOR, dtype: int64\n",
      "Elementos null/NaN 0\n",
      "__________________\n",
      "Elementos diferentes de null/NaN: 582377\n",
      "__________________\n",
      "(582377,)\n",
      "None\n"
     ]
    }
   ],
   "source": [
    "c = 'FAMI_COMPUTADOR'\n",
    "print(data_2010_2[c].value_counts().sort_index().index)\n",
    "print(data_2010_2[c].value_counts().sort_index())\n",
    "print(missing_data(data_2010_2[c]))"
   ]
  },
  {
   "cell_type": "code",
   "execution_count": 172,
   "metadata": {
    "collapsed": false
   },
   "outputs": [
    {
     "name": "stdout",
     "output_type": "stream",
     "text": [
      "Float64Index([0.0, 1.0], dtype='float64')\n",
      "0    252366\n",
      "1    330011\n",
      "Name: FAMI_LAVADORA, dtype: int64\n",
      "Elementos null/NaN 0\n",
      "__________________\n",
      "Elementos diferentes de null/NaN: 582377\n",
      "__________________\n",
      "(582377,)\n",
      "None\n"
     ]
    }
   ],
   "source": [
    "c = 'FAMI_LAVADORA'\n",
    "print(data_2010_2[c].value_counts().sort_index().index)\n",
    "print(data_2010_2[c].value_counts().sort_index())\n",
    "print(missing_data(data_2010_2[c]))"
   ]
  },
  {
   "cell_type": "code",
   "execution_count": 173,
   "metadata": {
    "collapsed": false
   },
   "outputs": [
    {
     "name": "stdout",
     "output_type": "stream",
     "text": [
      "Float64Index([0.0, 1.0], dtype='float64')\n",
      "0     76365\n",
      "1    506012\n",
      "Name: FAMI_NEVERA, dtype: int64\n",
      "Elementos null/NaN 0\n",
      "__________________\n",
      "Elementos diferentes de null/NaN: 582377\n",
      "__________________\n",
      "(582377,)\n",
      "None\n"
     ]
    }
   ],
   "source": [
    "c = 'FAMI_NEVERA'\n",
    "print(data_2010_2[c].value_counts().sort_index().index)\n",
    "print(data_2010_2[c].value_counts().sort_index())\n",
    "print(missing_data(data_2010_2[c]))"
   ]
  },
  {
   "cell_type": "code",
   "execution_count": 174,
   "metadata": {
    "collapsed": false
   },
   "outputs": [
    {
     "name": "stdout",
     "output_type": "stream",
     "text": [
      "Float64Index([0.0, 1.0], dtype='float64')\n",
      "0    342393\n",
      "1    239984\n",
      "Name: FAMI_HORNO, dtype: int64\n",
      "Elementos null/NaN 0\n",
      "__________________\n",
      "Elementos diferentes de null/NaN: 582377\n",
      "__________________\n",
      "(582377,)\n",
      "None\n"
     ]
    }
   ],
   "source": [
    "c = 'FAMI_HORNO'\n",
    "print(data_2010_2[c].value_counts().sort_index().index)\n",
    "print(data_2010_2[c].value_counts().sort_index())\n",
    "print(missing_data(data_2010_2[c]))"
   ]
  },
  {
   "cell_type": "code",
   "execution_count": 175,
   "metadata": {
    "collapsed": false
   },
   "outputs": [
    {
     "name": "stdout",
     "output_type": "stream",
     "text": [
      "Float64Index([0.0, 1.0], dtype='float64')\n",
      "0    215042\n",
      "1    367335\n",
      "Name: FAMI_DVD, dtype: int64\n",
      "Elementos null/NaN 0\n",
      "__________________\n",
      "Elementos diferentes de null/NaN: 582377\n",
      "__________________\n",
      "(582377,)\n",
      "None\n"
     ]
    }
   ],
   "source": [
    "c = 'FAMI_DVD'\n",
    "print(data_2010_2[c].value_counts().sort_index().index)\n",
    "print(data_2010_2[c].value_counts().sort_index())\n",
    "print(missing_data(data_2010_2[c]))"
   ]
  },
  {
   "cell_type": "code",
   "execution_count": 176,
   "metadata": {
    "collapsed": false
   },
   "outputs": [
    {
     "name": "stdout",
     "output_type": "stream",
     "text": [
      "Float64Index([0.0, 1.0], dtype='float64')\n",
      "0    443932\n",
      "1    138445\n",
      "Name: FAMI_MICROONDAS, dtype: int64\n",
      "Elementos null/NaN 0\n",
      "__________________\n",
      "Elementos diferentes de null/NaN: 582377\n",
      "__________________\n",
      "(582377,)\n",
      "None\n"
     ]
    }
   ],
   "source": [
    "c = 'FAMI_MICROONDAS'\n",
    "print(data_2010_2[c].value_counts().sort_index().index)\n",
    "print(data_2010_2[c].value_counts().sort_index())\n",
    "print(missing_data(data_2010_2[c]))"
   ]
  },
  {
   "cell_type": "code",
   "execution_count": 177,
   "metadata": {
    "collapsed": false
   },
   "outputs": [
    {
     "name": "stdout",
     "output_type": "stream",
     "text": [
      "Float64Index([0.0, 1.0], dtype='float64')\n",
      "0    485112\n",
      "1     97265\n",
      "Name: FAMI_AUTOMOVIL, dtype: int64\n",
      "Elementos null/NaN 0\n",
      "__________________\n",
      "Elementos diferentes de null/NaN: 582377\n",
      "__________________\n",
      "(582377,)\n",
      "None\n"
     ]
    }
   ],
   "source": [
    "c = 'FAMI_AUTOMOVIL'\n",
    "print(data_2010_2[c].value_counts().sort_index().index)\n",
    "print(data_2010_2[c].value_counts().sort_index())\n",
    "print(missing_data(data_2010_2[c]))"
   ]
  },
  {
   "cell_type": "code",
   "execution_count": 178,
   "metadata": {
    "collapsed": false
   },
   "outputs": [
    {
     "name": "stdout",
     "output_type": "stream",
     "text": [
      "Float64Index([1.0, 2.0, 3.0, 4.0, 5.0, 6.0, 7.0], dtype='float64')\n",
      "1    190435\n",
      "2    254441\n",
      "3     80636\n",
      "4     35606\n",
      "5     11100\n",
      "6      5365\n",
      "7      4794\n",
      "Name: FAMI_INGRESO_FMILIAR_MENSUAL, dtype: int64\n",
      "Elementos null/NaN 0\n",
      "__________________\n",
      "Elementos diferentes de null/NaN: 582377\n",
      "__________________\n",
      "(582377,)\n",
      "None\n"
     ]
    }
   ],
   "source": [
    "c = 'FAMI_INGRESO_FMILIAR_MENSUAL'\n",
    "print(data_2010_2[c].value_counts().sort_index().index)\n",
    "print(data_2010_2[c].value_counts().sort_index())\n",
    "print(missing_data(data_2010_2[c]))"
   ]
  },
  {
   "cell_type": "code",
   "execution_count": 179,
   "metadata": {
    "collapsed": false
   },
   "outputs": [
    {
     "name": "stdout",
     "output_type": "stream",
     "text": [
      "Float64Index([0.0, 1.0, 2.0, 3.0, 4.0, 5.0, 6.0, 7.0], dtype='float64')\n",
      "0    509252\n",
      "1       295\n",
      "2        65\n",
      "3      5823\n",
      "4      3072\n",
      "5      2839\n",
      "6     35237\n",
      "7     25794\n",
      "Name: ESTU_TRABAJA, dtype: int64\n",
      "Elementos null/NaN 0\n",
      "__________________\n",
      "Elementos diferentes de null/NaN: 582377\n",
      "__________________\n",
      "(582377,)\n",
      "None\n"
     ]
    }
   ],
   "source": [
    "c = 'ESTU_TRABAJA'\n",
    "print(data_2010_2[c].value_counts().sort_index().index)\n",
    "print(data_2010_2[c].value_counts().sort_index())\n",
    "print(missing_data(data_2010_2[c]))"
   ]
  },
  {
   "cell_type": "code",
   "execution_count": 180,
   "metadata": {
    "collapsed": false,
    "scrolled": true
   },
   "outputs": [
    {
     "name": "stdout",
     "output_type": "stream",
     "text": [
      "Float64Index([ 0.0,  1.0,  2.0,  3.0,  4.0,  5.0,  6.0,  7.0,  8.0,  9.0, 10.0,\n",
      "              11.0, 12.0, 13.0, 14.0, 15.0, 16.0, 17.0, 18.0, 19.0, 20.0],\n",
      "             dtype='float64')\n",
      "0        676\n",
      "1        263\n",
      "2       2468\n",
      "3       1921\n",
      "4       9235\n",
      "5       7826\n",
      "6       9599\n",
      "7       5245\n",
      "8      52595\n",
      "9       9125\n",
      "10     19108\n",
      "11      1805\n",
      "12     14057\n",
      "13      1355\n",
      "14      3301\n",
      "15      6945\n",
      "16     10618\n",
      "17      1307\n",
      "18      9900\n",
      "19      1848\n",
      "20    413180\n",
      "Name: ESTU_HORAS_TRABAJA, dtype: int64\n",
      "Elementos null/NaN 0\n",
      "__________________\n",
      "Elementos diferentes de null/NaN: 582377\n",
      "__________________\n",
      "(582377,)\n",
      "None\n"
     ]
    }
   ],
   "source": [
    "c = 'ESTU_HORAS_TRABAJA'\n",
    "print(data_2010_2[c].value_counts().sort_index().index)\n",
    "print(data_2010_2[c].value_counts().sort_index())\n",
    "print(missing_data(data_2010_2[c]))"
   ]
  },
  {
   "cell_type": "markdown",
   "metadata": {},
   "source": [
    "## TARGETS"
   ]
  },
  {
   "cell_type": "code",
   "execution_count": 181,
   "metadata": {
    "collapsed": false,
    "scrolled": true
   },
   "outputs": [
    {
     "name": "stdout",
     "output_type": "stream",
     "text": [
      "Index(['0', '101,71', '102,62', '11,98', '113,19', '12,18', '23,24', '23,43',\n",
      "       '30,26', '30,45', '35,56', '35,76', '39,96', '40,12', '43,78', '43,94',\n",
      "       '47,24', '47,41', '50,45', '50,6', '53,5', '53,63', '56,41', '56,55',\n",
      "       '59,27', '59,4', '62,11', '62,21', '64,91', '65,03', '67,8', '67,92',\n",
      "       '70,74', '70,87', '73,83', '73,98', '77,1', '77,28', '80,64', '80,86',\n",
      "       '84,56', '84,87', '89,07', '89,5', '94,52', '95,14'],\n",
      "      dtype='object')\n",
      "0           299\n",
      "101,71        7\n",
      "102,62        8\n",
      "11,98       687\n",
      "113,19        1\n",
      "12,18       706\n",
      "23,24      2848\n",
      "23,43      3041\n",
      "30,26      7875\n",
      "30,45      8323\n",
      "35,56     16629\n",
      "35,76     17339\n",
      "39,96     26706\n",
      "40,12     27883\n",
      "43,78     35620\n",
      "43,94     36482\n",
      "47,24     40384\n",
      "47,41     40197\n",
      "50,45     39100\n",
      "50,6      38840\n",
      "53,5      34132\n",
      "53,63     33491\n",
      "56,41     27308\n",
      "56,55     26277\n",
      "59,27     20448\n",
      "59,4      19735\n",
      "62,11     14287\n",
      "62,21     13830\n",
      "64,91      9855\n",
      "65,03      9660\n",
      "67,8       6295\n",
      "67,92      6365\n",
      "70,74      3937\n",
      "70,87      4043\n",
      "73,83      2372\n",
      "73,98      2393\n",
      "77,1       1379\n",
      "77,28      1483\n",
      "80,64       644\n",
      "80,86       651\n",
      "84,56       266\n",
      "84,87       291\n",
      "89,07        86\n",
      "89,5        108\n",
      "94,52        31\n",
      "95,14        35\n",
      "Name: PUNT_LENGUAJE, dtype: int64\n",
      "Elementos null/NaN 0\n",
      "__________________\n",
      "Elementos diferentes de null/NaN: 582377\n",
      "__________________\n",
      "(582377,)\n",
      "None\n"
     ]
    }
   ],
   "source": [
    "c = 'PUNT_LENGUAJE'\n",
    "print(data_2010_2[c].value_counts().sort_index().index)\n",
    "print(data_2010_2[c].value_counts().sort_index())\n",
    "print(missing_data(data_2010_2[c]))"
   ]
  },
  {
   "cell_type": "code",
   "execution_count": 185,
   "metadata": {
    "collapsed": false
   },
   "outputs": [],
   "source": [
    "clean_target(data_2010_2, c)\n",
    "for i in data_2010_2[c].value_counts().sort_index().index:\n",
    "    if i > 100:\n",
    "        data_2010_2[c] = data_2010_2[c].replace(i, 100)"
   ]
  },
  {
   "cell_type": "code",
   "execution_count": 186,
   "metadata": {
    "collapsed": false,
    "scrolled": true
   },
   "outputs": [
    {
     "name": "stdout",
     "output_type": "stream",
     "text": [
      "Index(['0', '113,46', '114,88', '15,67', '16,12', '25,02', '25,39', '30,9',\n",
      "       '31,19', '35,39', '35,59', '39,12', '39,25', '42,4', '42,46', '45,38',\n",
      "       '48,09', '48,17', '50,67', '50,82', '53,16', '53,37', '55,62', '55,89',\n",
      "       '58,05', '58,38', '60,51', '60,91', '63,02', '63,5', '65,63', '66,17',\n",
      "       '68,39', '69,01', '71,35', '72,05', '74,62', '75,41', '78,36', '79,26',\n",
      "       '82,87', '83,87', '88,79', '89,92', '98,19', '99,48'],\n",
      "      dtype='object')\n",
      "0           272\n",
      "113,46      149\n",
      "114,88       47\n",
      "15,67       519\n",
      "16,12       642\n",
      "25,02      2311\n",
      "25,39      2693\n",
      "30,9       6674\n",
      "31,19      7097\n",
      "35,39     13998\n",
      "35,59     14435\n",
      "39,12     22549\n",
      "39,25     22452\n",
      "42,4      30230\n",
      "42,46     29229\n",
      "45,38     67559\n",
      "48,09     32960\n",
      "48,17     34477\n",
      "50,67     31130\n",
      "50,82     31992\n",
      "53,16     27432\n",
      "53,37     27815\n",
      "55,62     22905\n",
      "55,89     22774\n",
      "58,05     18444\n",
      "58,38     18049\n",
      "60,51     14272\n",
      "60,91     13844\n",
      "63,02     10566\n",
      "63,5      10295\n",
      "65,63      7873\n",
      "66,17      7333\n",
      "68,39      5609\n",
      "69,01      5212\n",
      "71,35      3921\n",
      "72,05      3538\n",
      "74,62      2564\n",
      "75,41      2337\n",
      "78,36      1652\n",
      "79,26      1423\n",
      "82,87       875\n",
      "83,87       822\n",
      "88,79       474\n",
      "89,92       476\n",
      "98,19       196\n",
      "99,48       261\n",
      "Name: PUNT_MATEMATICAS, dtype: int64\n",
      "Elementos null/NaN 0\n",
      "__________________\n",
      "Elementos diferentes de null/NaN: 582377\n",
      "__________________\n",
      "(582377,)\n",
      "None\n"
     ]
    }
   ],
   "source": [
    "c = 'PUNT_MATEMATICAS'\n",
    "print(data_2010_2[c].value_counts().sort_index().index)\n",
    "print(data_2010_2[c].value_counts().sort_index())\n",
    "print(missing_data(data_2010_2[c]))"
   ]
  },
  {
   "cell_type": "code",
   "execution_count": 187,
   "metadata": {
    "collapsed": true
   },
   "outputs": [],
   "source": [
    "clean_target(data_2010_2, c)\n",
    "for i in data_2010_2[c].value_counts().sort_index().index:\n",
    "    if i > 100:\n",
    "        data_2010_2[c] = data_2010_2[c].replace(i, 100)"
   ]
  },
  {
   "cell_type": "code",
   "execution_count": 188,
   "metadata": {
    "collapsed": false,
    "scrolled": true
   },
   "outputs": [
    {
     "name": "stdout",
     "output_type": "stream",
     "text": [
      "Index(['0', '100,39', '100,49', '111,3', '14,22', '15,39', '21,1', '22,17',\n",
      "       '26,28', '27,26', '3,18', '30,51', '31,42', '34,19', '35,02', '37,44',\n",
      "       '38,22', '4,47', '40,42', '41,15', '43,18', '43,87', '45,79', '46,44',\n",
      "       '48,28', '48,89', '50,68', '51,26', '53,02', '53,57', '55,32', '55,84',\n",
      "       '57,6', '58,08', '59,87', '60,3', '62,16', '62,57', '64,48', '64,86',\n",
      "       '66,87', '67,21', '69,34', '69,63', '71,91', '72,17', '74,64', '74,86',\n",
      "       '77,58', '77,75', '80,79', '80,92', '84,39', '84,46', '88,56', '88,59',\n",
      "       '93,65', '93,68'],\n",
      "      dtype='object')\n",
      "0           391\n",
      "100,39        2\n",
      "100,49        1\n",
      "111,3         1\n",
      "14,22       338\n",
      "15,39       380\n",
      "21,1       1173\n",
      "22,17      1309\n",
      "26,28      2948\n",
      "27,26      3242\n",
      "3,18        104\n",
      "30,51      6121\n",
      "31,42      6670\n",
      "34,19     10118\n",
      "35,02     11697\n",
      "37,44     15611\n",
      "38,22     16886\n",
      "4,47        109\n",
      "40,42     20578\n",
      "41,15     22038\n",
      "43,18     24693\n",
      "43,87     26151\n",
      "45,79     27581\n",
      "46,44     28399\n",
      "48,28     28045\n",
      "48,89     28616\n",
      "50,68     27948\n",
      "51,26     27684\n",
      "53,02     26015\n",
      "53,57     25257\n",
      "55,32     23610\n",
      "55,84     22025\n",
      "57,6      20153\n",
      "58,08     18731\n",
      "59,87     16715\n",
      "60,3      15154\n",
      "62,16     12923\n",
      "62,57     11925\n",
      "64,48      9734\n",
      "64,86      8815\n",
      "66,87      6705\n",
      "67,21      6233\n",
      "69,34      4560\n",
      "69,63      4209\n",
      "71,91      2730\n",
      "72,17      2637\n",
      "74,64      1458\n",
      "74,86      1468\n",
      "77,58       718\n",
      "77,75       714\n",
      "80,79       343\n",
      "80,92       329\n",
      "84,39       148\n",
      "84,46       130\n",
      "88,56        44\n",
      "88,59        39\n",
      "93,65        15\n",
      "93,68         6\n",
      "Name: PUNT_C_SOCIALES, dtype: int64\n",
      "Elementos null/NaN 0\n",
      "__________________\n",
      "Elementos diferentes de null/NaN: 582377\n",
      "__________________\n",
      "(582377,)\n",
      "None\n"
     ]
    }
   ],
   "source": [
    "c = 'PUNT_C_SOCIALES'\n",
    "print(data_2010_2[c].value_counts().sort_index().index)\n",
    "print(data_2010_2[c].value_counts().sort_index())\n",
    "print(missing_data(data_2010_2[c]))"
   ]
  },
  {
   "cell_type": "code",
   "execution_count": 189,
   "metadata": {
    "collapsed": true
   },
   "outputs": [],
   "source": [
    "clean_target(data_2010_2, c)\n",
    "for i in data_2010_2[c].value_counts().sort_index().index:\n",
    "    if i > 100:\n",
    "        data_2010_2[c] = data_2010_2[c].replace(i, 100)"
   ]
  },
  {
   "cell_type": "code",
   "execution_count": 190,
   "metadata": {
    "collapsed": false,
    "scrolled": true
   },
   "outputs": [
    {
     "name": "stdout",
     "output_type": "stream",
     "text": [
      "Index(['0', '12,93', '13,78', '24,02', '24,85', '30,95', '31,78', '36,19',\n",
      "       '37,03', '40,54', '41,38', '44,32', '45,2', '47,74', '48,66', '50,93',\n",
      "       '51,89', '53,93', '54,95', '56,82', '57,9', '59,66', '60,81', '62,46',\n",
      "       '63,68', '65,24', '66,58', '68,09', '69,52', '71', '72,54', '74,04',\n",
      "       '75,71', '77,27', '79,06', '80,75', '82,67', '84,61', '86,67', '89,03',\n",
      "       '91,23', '94,37', '96,7'],\n",
      "      dtype='object')\n",
      "0         1958\n",
      "12,93      686\n",
      "13,78     1187\n",
      "24,02     2785\n",
      "24,85     4037\n",
      "30,95     7744\n",
      "31,78    10150\n",
      "36,19    16495\n",
      "37,03    19497\n",
      "40,54    26760\n",
      "41,38    29996\n",
      "44,32    36164\n",
      "45,2     37834\n",
      "47,74    41649\n",
      "48,66    40791\n",
      "50,93    40593\n",
      "51,89    38855\n",
      "53,93    35727\n",
      "54,95    32892\n",
      "56,82    28373\n",
      "57,9     26135\n",
      "59,66    20373\n",
      "60,81    18969\n",
      "62,46    13974\n",
      "63,68    12721\n",
      "65,24     8663\n",
      "66,58     8054\n",
      "68,09     5141\n",
      "69,52     4691\n",
      "71        2777\n",
      "72,54     2537\n",
      "74,04     1296\n",
      "75,71     1134\n",
      "77,27      508\n",
      "79,06      484\n",
      "80,75      203\n",
      "82,67      175\n",
      "84,61      169\n",
      "86,67      162\n",
      "89,03       19\n",
      "91,23       15\n",
      "94,37        1\n",
      "96,7         3\n",
      "Name: PUNT_FILOSOFIA, dtype: int64\n",
      "Elementos null/NaN 0\n",
      "__________________\n",
      "Elementos diferentes de null/NaN: 582377\n",
      "__________________\n",
      "(582377,)\n",
      "None\n"
     ]
    }
   ],
   "source": [
    "c = 'PUNT_FILOSOFIA'\n",
    "print(data_2010_2[c].value_counts().sort_index().index)\n",
    "print(data_2010_2[c].value_counts().sort_index())\n",
    "print(missing_data(data_2010_2[c]))"
   ]
  },
  {
   "cell_type": "code",
   "execution_count": 191,
   "metadata": {
    "collapsed": true
   },
   "outputs": [],
   "source": [
    "clean_target(data_2010_2, c)"
   ]
  },
  {
   "cell_type": "code",
   "execution_count": 192,
   "metadata": {
    "collapsed": false,
    "scrolled": true
   },
   "outputs": [
    {
     "name": "stdout",
     "output_type": "stream",
     "text": [
      "Index(['0', '10,93', '104,95', '105,78', '122,17', '123', '20,03', '21,53',\n",
      "       '26,84', '28,18', '32,02', '33,24', '36,32', '37,43', '40,06', '41,1',\n",
      "       '43,43', '44,42', '46,57', '47,48', '49,51', '50,4', '52,34', '53,19',\n",
      "       '55,09', '55,92', '57,8', '58,6', '60,48', '61,28', '63,2', '63,99',\n",
      "       '65,98', '66,77', '68,87', '69,65', '71,9', '72,69', '75,16', '75,95',\n",
      "       '78,77', '79,57', '82,9', '83,7', '87,87', '88,69', '9,22', '94,44',\n",
      "       '95,26'],\n",
      "      dtype='object')\n",
      "0           118\n",
      "10,93       377\n",
      "104,95       37\n",
      "105,78       36\n",
      "122,17        8\n",
      "123           5\n",
      "20,03      1205\n",
      "21,53      1649\n",
      "26,84      3765\n",
      "28,18      5020\n",
      "32,02      8609\n",
      "33,24     11521\n",
      "36,32     15310\n",
      "37,43     20101\n",
      "40,06     22809\n",
      "41,1      28859\n",
      "43,43     29318\n",
      "44,42     35975\n",
      "46,57     32922\n",
      "47,48     38969\n",
      "49,51     33055\n",
      "50,4      37782\n",
      "52,34     30148\n",
      "53,19     33627\n",
      "55,09     25514\n",
      "55,92     27991\n",
      "57,8      20561\n",
      "58,6      21870\n",
      "60,48     15479\n",
      "61,28     16201\n",
      "63,2      11331\n",
      "63,99     11590\n",
      "65,98      7704\n",
      "66,77      7935\n",
      "68,87      5081\n",
      "69,65      5221\n",
      "71,9       3234\n",
      "72,69      3246\n",
      "75,16      1873\n",
      "75,95      1977\n",
      "78,77      1013\n",
      "79,57      1092\n",
      "82,9        618\n",
      "83,7        543\n",
      "87,87       300\n",
      "88,69       293\n",
      "9,22        285\n",
      "94,44       104\n",
      "95,26        96\n",
      "Name: PUNT_BIOLOGIA, dtype: int64\n",
      "Elementos null/NaN 0\n",
      "__________________\n",
      "Elementos diferentes de null/NaN: 582377\n",
      "__________________\n",
      "(582377,)\n",
      "None\n"
     ]
    }
   ],
   "source": [
    "c = 'PUNT_BIOLOGIA'\n",
    "print(data_2010_2[c].value_counts().sort_index().index)\n",
    "print(data_2010_2[c].value_counts().sort_index())\n",
    "print(missing_data(data_2010_2[c]))"
   ]
  },
  {
   "cell_type": "code",
   "execution_count": 193,
   "metadata": {
    "collapsed": true
   },
   "outputs": [],
   "source": [
    "clean_target(data_2010_2, c)\n",
    "for i in data_2010_2[c].value_counts().sort_index().index:\n",
    "    if i > 100:\n",
    "        data_2010_2[c] = data_2010_2[c].replace(i, 100)"
   ]
  },
  {
   "cell_type": "code",
   "execution_count": 194,
   "metadata": {
    "collapsed": false,
    "scrolled": true
   },
   "outputs": [
    {
     "name": "stdout",
     "output_type": "stream",
     "text": [
      "Index(['0', '102,71', '103,04', '118,5', '118,8', '15,71', '16,04', '25,41',\n",
      "       '25,77', '31,49', '31,86', '36,08', '36,48', '39,88', '40,31', '43,19',\n",
      "       '43,65', '46,19', '46,66', '48,96', '49,44', '51,58', '52,07', '54,1',\n",
      "       '54,61', '56,56', '57,08', '59', '59,52', '61,43', '61,96', '63,93',\n",
      "       '64,44', '66,48', '66,99', '69,14', '69,64', '71,97', '72,45', '75,02',\n",
      "       '75,48', '78,39', '78,83', '82,24', '82,67', '86,89', '87,29', '92,99',\n",
      "       '93,36'],\n",
      "      dtype='object')\n",
      "0           180\n",
      "102,71      244\n",
      "103,04      284\n",
      "118,5        48\n",
      "118,8        48\n",
      "15,71       436\n",
      "16,04       692\n",
      "25,41      2204\n",
      "25,77      3152\n",
      "31,49      6591\n",
      "31,86      9059\n",
      "36,08     14229\n",
      "36,48     18767\n",
      "39,88     23342\n",
      "40,31     29900\n",
      "43,19     31054\n",
      "43,65     37516\n",
      "46,19     34288\n",
      "46,66     40312\n",
      "48,96     33456\n",
      "49,44     37821\n",
      "51,58     29363\n",
      "52,07     32321\n",
      "54,1      24045\n",
      "54,61     26176\n",
      "56,56     18900\n",
      "57,08     20629\n",
      "59        14867\n",
      "59,52     15933\n",
      "61,43     11109\n",
      "61,96     11770\n",
      "63,93      8107\n",
      "64,44      8736\n",
      "66,48      5709\n",
      "66,99      6073\n",
      "69,14      4027\n",
      "69,64      4164\n",
      "71,97      2672\n",
      "72,45      2913\n",
      "75,02      1996\n",
      "75,48      1984\n",
      "78,39      1416\n",
      "78,83      1459\n",
      "82,24       976\n",
      "82,67      1034\n",
      "86,89       716\n",
      "87,29       719\n",
      "92,99       466\n",
      "93,36       474\n",
      "Name: PUNT_QUIMICA, dtype: int64\n",
      "Elementos null/NaN 0\n",
      "__________________\n",
      "Elementos diferentes de null/NaN: 582377\n",
      "__________________\n",
      "(582377,)\n",
      "None\n"
     ]
    }
   ],
   "source": [
    "c = 'PUNT_QUIMICA'\n",
    "print(data_2010_2[c].value_counts().sort_index().index)\n",
    "print(data_2010_2[c].value_counts().sort_index())\n",
    "print(missing_data(data_2010_2[c]))"
   ]
  },
  {
   "cell_type": "code",
   "execution_count": 195,
   "metadata": {
    "collapsed": true
   },
   "outputs": [],
   "source": [
    "clean_target(data_2010_2, c)\n",
    "for i in data_2010_2[c].value_counts().sort_index().index:\n",
    "    if i > 100:\n",
    "        data_2010_2[c] = data_2010_2[c].replace(i, 100)"
   ]
  },
  {
   "cell_type": "code",
   "execution_count": 196,
   "metadata": {
    "collapsed": false,
    "scrolled": true
   },
   "outputs": [
    {
     "name": "stdout",
     "output_type": "stream",
     "text": [
      "Index(['0', '101,24', '101,7', '108,94', '109,41', '12,03', '12,07', '121,32',\n",
      "       '121,79', '24,39', '24,43', '32,09', '32,14', '37,9', '37,96', '42,69',\n",
      "       '42,77', '46,87', '46,97', '50,64', '50,75', '54,13', '54,26', '57,4',\n",
      "       '57,57', '60,57', '60,76', '63,65', '63,86', '66,68', '66,93', '69,72',\n",
      "       '69,98', '72,78', '73,09', '75,93', '76,27', '79,22', '79,58', '82,7',\n",
      "       '83,07', '86,47', '86,86', '90,62', '91,05', '95,42', '95,86'],\n",
      "      dtype='object')\n",
      "0           361\n",
      "101,24       12\n",
      "101,7         8\n",
      "108,94        2\n",
      "109,41        5\n",
      "12,03      1277\n",
      "12,07      1013\n",
      "121,32        2\n",
      "121,79        1\n",
      "24,39      5225\n",
      "24,43      4293\n",
      "32,09     14108\n",
      "32,14     11603\n",
      "37,9      27284\n",
      "37,96     22713\n",
      "42,69     39687\n",
      "42,77     34385\n",
      "46,87     48000\n",
      "46,97     42056\n",
      "50,64     48464\n",
      "50,75     42236\n",
      "54,13     42580\n",
      "54,26     37004\n",
      "57,4      32230\n",
      "57,57     28326\n",
      "60,57     22137\n",
      "60,76     19604\n",
      "63,65     14068\n",
      "63,86     12214\n",
      "66,68      7878\n",
      "66,93      7014\n",
      "69,72      4443\n",
      "69,98      3835\n",
      "72,78      2277\n",
      "73,09      1906\n",
      "75,93      1127\n",
      "76,27      1006\n",
      "79,22       504\n",
      "79,58       451\n",
      "82,7        312\n",
      "83,07       300\n",
      "86,47       150\n",
      "86,86       143\n",
      "90,62        45\n",
      "91,05        42\n",
      "95,42        19\n",
      "95,86        27\n",
      "Name: PUNT_FISICA, dtype: int64\n",
      "Elementos null/NaN 0\n",
      "__________________\n",
      "Elementos diferentes de null/NaN: 582377\n",
      "__________________\n",
      "(582377,)\n",
      "None\n"
     ]
    }
   ],
   "source": [
    "c = 'PUNT_FISICA'\n",
    "print(data_2010_2[c].value_counts().sort_index().index)\n",
    "print(data_2010_2[c].value_counts().sort_index())\n",
    "print(missing_data(data_2010_2[c]))"
   ]
  },
  {
   "cell_type": "code",
   "execution_count": 197,
   "metadata": {
    "collapsed": true
   },
   "outputs": [],
   "source": [
    "clean_target(data_2010_2, c)\n",
    "for i in data_2010_2[c].value_counts().sort_index().index:\n",
    "    if i > 100:\n",
    "        data_2010_2[c] = data_2010_2[c].replace(i, 100)"
   ]
  },
  {
   "cell_type": "code",
   "execution_count": 198,
   "metadata": {
    "collapsed": false,
    "scrolled": true
   },
   "outputs": [
    {
     "name": "stdout",
     "output_type": "stream",
     "text": [
      "Index(['-1', '0', '102,61', '102,96', '116,95', '117,29', '15,82', '16,08',\n",
      "       '21,05', '21,34', '24,9', '25,22', '27,99', '28,32', '30,61', '30,95',\n",
      "       '32,9', '33,25', '34,94', '35,31', '36,8', '37,19', '38,53', '38,92',\n",
      "       '40,14', '40,54', '41,66', '42,07', '43,11', '43,53', '44,51', '44,93',\n",
      "       '45,84', '46,27', '47,15', '47,58', '48,42', '48,86', '49,66', '50,1',\n",
      "       '50,87', '51,33', '52,08', '52,54', '53,27', '53,73', '54,45', '54,92',\n",
      "       '55,62', '56,09', '56,82', '57,29', '58,01', '58,47', '59,21', '59,67',\n",
      "       '60,44', '60,9', '61,66', '62,13', '62,94', '63,4', '64,24', '64,7',\n",
      "       '65,57', '66,03', '66,95', '67,41', '68,41', '68,86', '69,93', '7,21',\n",
      "       '7,44', '70,37', '71,53', '71,98', '73,24', '73,68', '75,1', '75,52',\n",
      "       '77,13', '77,55', '79,4', '79,81', '81,98', '82,38', '85,05', '85,44',\n",
      "       '88,85', '89,24', '94,05', '94,41'],\n",
      "      dtype='object')\n",
      "-1          289\n",
      "0            63\n",
      "102,61      899\n",
      "102,96      586\n",
      "116,95      400\n",
      "117,29      257\n",
      "15,82        15\n",
      "16,08         9\n",
      "21,05        26\n",
      "21,34        24\n",
      "24,9         73\n",
      "25,22        66\n",
      "27,99       214\n",
      "28,32       239\n",
      "30,61       569\n",
      "30,95       610\n",
      "32,9       1433\n",
      "33,25      1394\n",
      "34,94      2864\n",
      "35,31      2752\n",
      "36,8       5492\n",
      "37,19      5105\n",
      "38,53      9314\n",
      "38,92      8232\n",
      "40,14     13751\n",
      "40,54     11891\n",
      "41,66     18588\n",
      "42,07     15703\n",
      "43,11     23453\n",
      "43,53     19461\n",
      "          ...  \n",
      "64,24      2908\n",
      "64,7       2082\n",
      "65,57      2641\n",
      "66,03      1944\n",
      "66,95      2493\n",
      "67,41      1876\n",
      "68,41      2247\n",
      "68,86      1669\n",
      "69,93      2192\n",
      "7,21          6\n",
      "7,44          5\n",
      "70,37      1534\n",
      "71,53      1984\n",
      "71,98      1519\n",
      "73,24      1956\n",
      "73,68      1420\n",
      "75,1       1806\n",
      "75,52      1355\n",
      "77,13      1690\n",
      "77,55      1239\n",
      "79,4       1600\n",
      "79,81      1182\n",
      "81,98      1523\n",
      "82,38      1132\n",
      "85,05      1499\n",
      "85,44       994\n",
      "88,85      1340\n",
      "89,24       959\n",
      "94,05      1182\n",
      "94,41       791\n",
      "Name: PUNT_INGLES, dtype: int64\n",
      "Elementos null/NaN 0\n",
      "__________________\n",
      "Elementos diferentes de null/NaN: 582377\n",
      "__________________\n",
      "(582377,)\n",
      "None\n"
     ]
    }
   ],
   "source": [
    "c = 'PUNT_INGLES'\n",
    "print(data_2010_2[c].value_counts().sort_index().index)\n",
    "print(data_2010_2[c].value_counts().sort_index())\n",
    "print(missing_data(data_2010_2[c]))"
   ]
  },
  {
   "cell_type": "code",
   "execution_count": 199,
   "metadata": {
    "collapsed": true
   },
   "outputs": [],
   "source": [
    "clean_target(data_2010_2, c)\n",
    "for i in data_2010_2[c].value_counts().sort_index().index:\n",
    "    if i > 100:\n",
    "        data_2010_2[c] = data_2010_2[c].replace(i, 100)\n",
    "    elif i < 0:\n",
    "        data_2010_2[c] = data_2010_2[c].replace(i, 0)"
   ]
  },
  {
   "cell_type": "code",
   "execution_count": 200,
   "metadata": {
    "collapsed": false
   },
   "outputs": [
    {
     "name": "stdout",
     "output_type": "stream",
     "text": [
      "Index(['A-', 'A1', 'A2', 'B+', 'B1'], dtype='object')\n",
      "A-    334112\n",
      "A1    180660\n",
      "A2     36561\n",
      "B+      8909\n",
      "B1     22135\n",
      "Name: DESEMP_INGLES, dtype: int64\n",
      "Elementos null/NaN 0\n",
      "__________________\n",
      "Elementos diferentes de null/NaN: 582377\n",
      "__________________\n",
      "(582377,)\n",
      "None\n"
     ]
    }
   ],
   "source": [
    "c = 'DESEMP_INGLES'\n",
    "print(data_2010_2[c].value_counts().sort_index().index)\n",
    "print(data_2010_2[c].value_counts().sort_index())\n",
    "print(missing_data(data_2010_2[c]))"
   ]
  },
  {
   "cell_type": "code",
   "execution_count": 201,
   "metadata": {
    "collapsed": false
   },
   "outputs": [
    {
     "name": "stdout",
     "output_type": "stream",
     "text": [
      "Index(['MEDIO AMBIENTE', 'PROFUNDIZACIÓN EN BIOLOGÍA',\n",
      "       'PROFUNDIZACIÓN EN CIENCIAS SOCIALES', 'PROFUNDIZACIÓN EN LENGUAJE',\n",
      "       'PROFUNDIZACIÓN EN MATEMÁTICA', 'VIOLENCIA Y SOCIEDAD'],\n",
      "      dtype='object')\n",
      "MEDIO AMBIENTE                         190820\n",
      "PROFUNDIZACIÓN EN BIOLOGÍA              73298\n",
      "PROFUNDIZACIÓN EN CIENCIAS SOCIALES     41941\n",
      "PROFUNDIZACIÓN EN LENGUAJE              83761\n",
      "PROFUNDIZACIÓN EN MATEMÁTICA            55065\n",
      "VIOLENCIA Y SOCIEDAD                   137492\n",
      "Name: NOMBRE_COMP_FLEXIBLE, dtype: int64\n",
      "Elementos null/NaN 0\n",
      "__________________\n",
      "Elementos diferentes de null/NaN: 582377\n",
      "__________________\n",
      "(582377,)\n",
      "None\n"
     ]
    }
   ],
   "source": [
    "c = 'NOMBRE_COMP_FLEXIBLE'\n",
    "print(data_2010_2[c].value_counts().sort_index().index)\n",
    "print(data_2010_2[c].value_counts().sort_index())\n",
    "print(missing_data(data_2010_2[c]))"
   ]
  },
  {
   "cell_type": "code",
   "execution_count": 202,
   "metadata": {
    "collapsed": false,
    "scrolled": true
   },
   "outputs": [
    {
     "name": "stdout",
     "output_type": "stream",
     "text": [
      "Index(['0', '1,8', '10,8', '105,44', '2,4', '2,5', '2,7', '20,65', '23,53',\n",
      "       '25,31', '29,25', '3,3', '3,4', '3,5', '3,6', '3,8', '32,83', '34,83',\n",
      "       '34,94', '38,82', '39,45', '4,1', '4,2', '4,3', '4,6', '4,7', '4,8',\n",
      "       '4,9', '40,34', '43,34', '43,52', '46,11', '46,86', '47,56', '48,21',\n",
      "       '5', '5,1', '5,2', '5,3', '5,4', '5,5', '5,6', '5,7', '5,8', '5,9',\n",
      "       '50,17', '51,24', '51,59', '53,36', '54,75', '55,2', '56,57', '58,21',\n",
      "       '59,9', '6,1', '6,2', '6,5', '6,6', '6,9', '61,76', '63,5', '65,51',\n",
      "       '67,67', '69,66', '7,1', '7,3', '7,4', '7,7', '7,8', '7,9', '72,93',\n",
      "       '74,52', '8,3', '8,4', '80,73', '81,07', '9,1', '9,3', '90,34',\n",
      "       '94,04'],\n",
      "      dtype='object')\n",
      "0          1886\n",
      "1,8         348\n",
      "10,8         48\n",
      "105,44       10\n",
      "2,4        2372\n",
      "2,5        1252\n",
      "2,7        3387\n",
      "20,65      1114\n",
      "23,53      3231\n",
      "25,31         6\n",
      "29,25      3428\n",
      "3,3        2100\n",
      "3,4        3858\n",
      "3,5        6826\n",
      "3,6        6323\n",
      "3,8        2982\n",
      "32,83      9964\n",
      "34,83        18\n",
      "34,94      7573\n",
      "38,82     18807\n",
      "39,45     12343\n",
      "4,1        7181\n",
      "4,2       16659\n",
      "4,3       10568\n",
      "4,6       14706\n",
      "4,7       12980\n",
      "4,8       17043\n",
      "4,9        5548\n",
      "40,34        46\n",
      "43,34     16530\n",
      "          ...  \n",
      "55,2         38\n",
      "56,57     14283\n",
      "58,21     19956\n",
      "59,9      11384\n",
      "6,1       11689\n",
      "6,2        7547\n",
      "6,5        8838\n",
      "6,6        1577\n",
      "6,9        4444\n",
      "61,76     13964\n",
      "63,5       8221\n",
      "65,51      8554\n",
      "67,67      5112\n",
      "69,66      4346\n",
      "7,1         614\n",
      "7,3        1522\n",
      "7,4         416\n",
      "7,7         504\n",
      "7,8         398\n",
      "7,9         152\n",
      "72,93      2308\n",
      "74,52      1727\n",
      "8,3         225\n",
      "8,4         149\n",
      "80,73       505\n",
      "81,07       642\n",
      "9,1          21\n",
      "9,3         145\n",
      "90,34       104\n",
      "94,04        88\n",
      "Name: PUNT_COMP_FLEXIBLE, dtype: int64\n",
      "Elementos null/NaN 0\n",
      "__________________\n",
      "Elementos diferentes de null/NaN: 582377\n",
      "__________________\n",
      "(582377,)\n",
      "None\n"
     ]
    }
   ],
   "source": [
    "c = 'PUNT_COMP_FLEXIBLE'\n",
    "print(data_2010_2[c].value_counts().sort_index().index)\n",
    "print(data_2010_2[c].value_counts().sort_index())\n",
    "print(missing_data(data_2010_2[c]))"
   ]
  },
  {
   "cell_type": "code",
   "execution_count": 203,
   "metadata": {
    "collapsed": true
   },
   "outputs": [],
   "source": [
    "clean_target(data_2010_2, c)\n",
    "for i in data_2010_2[c].value_counts().sort_index().index:\n",
    "    if i > 100:\n",
    "        data_2010_2[c] = data_2010_2[c].replace(i, 100)"
   ]
  },
  {
   "cell_type": "code",
   "execution_count": 204,
   "metadata": {
    "collapsed": false
   },
   "outputs": [
    {
     "name": "stdout",
     "output_type": "stream",
     "text": [
      "Index(['GB', 'I', 'II', 'III'], dtype='object')\n",
      "GB      70977\n",
      "I      194890\n",
      "II     229963\n",
      "III     86547\n",
      "Name: DESEMP_COMP_FLEXIBLE, dtype: int64\n",
      "Elementos null/NaN 0\n",
      "__________________\n",
      "Elementos diferentes de null/NaN: 582377\n",
      "__________________\n",
      "(582377,)\n",
      "None\n"
     ]
    }
   ],
   "source": [
    "c = 'DESEMP_COMP_FLEXIBLE'\n",
    "print(data_2010_2[c].value_counts().sort_index().index)\n",
    "print(data_2010_2[c].value_counts().sort_index())\n",
    "print(missing_data(data_2010_2[c]))"
   ]
  },
  {
   "cell_type": "code",
   "execution_count": 205,
   "metadata": {
    "collapsed": false,
    "scrolled": true
   },
   "outputs": [
    {
     "name": "stdout",
     "output_type": "stream",
     "text": [
      "Int64Index([   1,    2,    3,    4,    5,    6,    7,    8,    9,   10,\n",
      "            ...\n",
      "             991,  992,  993,  994,  995,  996,  997,  998,  999, 1000],\n",
      "           dtype='int64', length=1000)\n",
      "1       584\n",
      "2       589\n",
      "3       588\n",
      "4       588\n",
      "5       585\n",
      "6       588\n",
      "7       587\n",
      "8       588\n",
      "9       587\n",
      "10      587\n",
      "11      585\n",
      "12      586\n",
      "13      585\n",
      "14      583\n",
      "15      582\n",
      "16      586\n",
      "17      587\n",
      "18      586\n",
      "19      589\n",
      "20      588\n",
      "21      586\n",
      "22      586\n",
      "23      583\n",
      "24      584\n",
      "25      584\n",
      "26      587\n",
      "27      583\n",
      "28      585\n",
      "29      586\n",
      "30      582\n",
      "       ... \n",
      "971     579\n",
      "972     584\n",
      "973     580\n",
      "974     587\n",
      "975     584\n",
      "976     584\n",
      "977     584\n",
      "978     585\n",
      "979     583\n",
      "980     583\n",
      "981     585\n",
      "982     586\n",
      "983     588\n",
      "984     586\n",
      "985     585\n",
      "986     579\n",
      "987     583\n",
      "988     585\n",
      "989     584\n",
      "990     588\n",
      "991     582\n",
      "992     581\n",
      "993     582\n",
      "994     583\n",
      "995     586\n",
      "996     580\n",
      "997     583\n",
      "998     569\n",
      "999     420\n",
      "1000    250\n",
      "Name: ESTU_PUESTO, dtype: int64\n",
      "Elementos null/NaN 0\n",
      "__________________\n",
      "Elementos diferentes de null/NaN: 582377\n",
      "__________________\n",
      "(582377,)\n",
      "None\n"
     ]
    }
   ],
   "source": [
    "c = 'ESTU_PUESTO'\n",
    "print(data_2010_2[c].value_counts().sort_index().index)\n",
    "print(data_2010_2[c].value_counts().sort_index())\n",
    "print(missing_data(data_2010_2[c]))"
   ]
  },
  {
   "cell_type": "markdown",
   "metadata": {},
   "source": [
    "____"
   ]
  },
  {
   "cell_type": "markdown",
   "metadata": {},
   "source": [
    "## Saving\n",
    "\n",
    "Now i can encode and transform the obtained DataFrames into csv files"
   ]
  },
  {
   "cell_type": "code",
   "execution_count": 206,
   "metadata": {
    "collapsed": false
   },
   "outputs": [],
   "source": [
    "data_2010 = label_encoder(data_2010)\n",
    "data_2010_2 = label_encoder(data_2010_2)"
   ]
  },
  {
   "cell_type": "code",
   "execution_count": 207,
   "metadata": {
    "collapsed": true
   },
   "outputs": [],
   "source": [
    "data_2010.to_csv('../DatosFTPICFES/SABER11/SB11-BASES_DE_DATOS/READY/2010_1.csv', sep=';', index=False)\n",
    "data_2010_2.to_csv('../DatosFTPICFES/SABER11/SB11-BASES_DE_DATOS/READY/2010_2.csv', sep=';', index=False)"
   ]
  }
 ],
 "metadata": {
  "kernelspec": {
   "display_name": "Python 3",
   "language": "python",
   "name": "python3"
  },
  "language_info": {
   "codemirror_mode": {
    "name": "ipython",
    "version": 3
   },
   "file_extension": ".py",
   "mimetype": "text/x-python",
   "name": "python",
   "nbconvert_exporter": "python",
   "pygments_lexer": "ipython3",
   "version": "3.4.2"
  }
 },
 "nbformat": 4,
 "nbformat_minor": 0
}
