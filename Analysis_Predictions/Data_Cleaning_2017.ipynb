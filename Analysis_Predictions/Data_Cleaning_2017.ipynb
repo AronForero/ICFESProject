{
 "cells": [
  {
   "cell_type": "code",
   "execution_count": 1,
   "metadata": {
    "collapsed": true
   },
   "outputs": [],
   "source": [
    "import pandas as pd\n",
    "import numpy as np\n",
    "%run -i ../tools/functions.py\n",
    "%run -i ../tools/label_encoder.py"
   ]
  },
  {
   "cell_type": "code",
   "execution_count": 2,
   "metadata": {
    "collapsed": false
   },
   "outputs": [
    {
     "name": "stderr",
     "output_type": "stream",
     "text": [
      "/usr/local/lib/python3.4/dist-packages/IPython/core/interactiveshell.py:2902: DtypeWarning: Columns (54) have mixed types. Specify dtype option on import or set low_memory=False.\n",
      "  interactivity=interactivity, compiler=compiler, result=result)\n"
     ]
    }
   ],
   "source": [
    "data_2017 = pd.read_csv('../DatosFTPICFES/SABER11/SB11-BASES_DE_DATOS/SB11-20171-RGSTRO-CLFCCN-V1-0.txt', delimiter = '|')"
   ]
  },
  {
   "cell_type": "code",
   "execution_count": 3,
   "metadata": {
    "collapsed": false
   },
   "outputs": [
    {
     "data": {
      "text/plain": [
       "(12993, 80)"
      ]
     },
     "execution_count": 3,
     "metadata": {},
     "output_type": "execute_result"
    }
   ],
   "source": [
    "data_2017.shape"
   ]
  },
  {
   "cell_type": "code",
   "execution_count": 4,
   "metadata": {
    "collapsed": false,
    "scrolled": true
   },
   "outputs": [
    {
     "data": {
      "text/html": [
       "<div>\n",
       "<table border=\"1\" class=\"dataframe\">\n",
       "  <thead>\n",
       "    <tr style=\"text-align: right;\">\n",
       "      <th></th>\n",
       "      <th>0</th>\n",
       "      <th>1</th>\n",
       "      <th>2</th>\n",
       "    </tr>\n",
       "  </thead>\n",
       "  <tbody>\n",
       "    <tr>\n",
       "      <th>ESTU_TIPODOCUMENTO</th>\n",
       "      <td>CC</td>\n",
       "      <td>CC</td>\n",
       "      <td>CC</td>\n",
       "    </tr>\n",
       "    <tr>\n",
       "      <th>ESTU_NACIONALIDAD</th>\n",
       "      <td>COLOMBIA</td>\n",
       "      <td>COLOMBIA</td>\n",
       "      <td>COLOMBIA</td>\n",
       "    </tr>\n",
       "    <tr>\n",
       "      <th>ESTU_GENERO</th>\n",
       "      <td>Masculino</td>\n",
       "      <td>Femenino</td>\n",
       "      <td>Masculino</td>\n",
       "    </tr>\n",
       "    <tr>\n",
       "      <th>ESTU_FECHANACIMIENTO</th>\n",
       "      <td>18/08/1998</td>\n",
       "      <td>07/06/1998</td>\n",
       "      <td>30/03/1998</td>\n",
       "    </tr>\n",
       "    <tr>\n",
       "      <th>PERIODO</th>\n",
       "      <td>20171</td>\n",
       "      <td>20171</td>\n",
       "      <td>20171</td>\n",
       "    </tr>\n",
       "    <tr>\n",
       "      <th>ESTU_CONSECUTIVO</th>\n",
       "      <td>SB11201710017249</td>\n",
       "      <td>SB11201710014556</td>\n",
       "      <td>SB11201710001800</td>\n",
       "    </tr>\n",
       "    <tr>\n",
       "      <th>ESTU_ESTUDIANTE</th>\n",
       "      <td>ESTUDIANTE</td>\n",
       "      <td>ESTUDIANTE</td>\n",
       "      <td>ESTUDIANTE</td>\n",
       "    </tr>\n",
       "    <tr>\n",
       "      <th>ESTU_TIENEETNIA</th>\n",
       "      <td>NO</td>\n",
       "      <td>NO</td>\n",
       "      <td>NO</td>\n",
       "    </tr>\n",
       "    <tr>\n",
       "      <th>ESTU_ETNIA</th>\n",
       "      <td>NaN</td>\n",
       "      <td>NaN</td>\n",
       "      <td>NaN</td>\n",
       "    </tr>\n",
       "    <tr>\n",
       "      <th>ESTU_PAIS_RESIDE</th>\n",
       "      <td>COLOMBIA</td>\n",
       "      <td>COLOMBIA</td>\n",
       "      <td>COLOMBIA</td>\n",
       "    </tr>\n",
       "    <tr>\n",
       "      <th>ESTU_DEPTO_RESIDE</th>\n",
       "      <td>VALLE</td>\n",
       "      <td>CAUCA</td>\n",
       "      <td>VALLE</td>\n",
       "    </tr>\n",
       "    <tr>\n",
       "      <th>ESTU_COD_RESIDE_DEPTO</th>\n",
       "      <td>76</td>\n",
       "      <td>19</td>\n",
       "      <td>76</td>\n",
       "    </tr>\n",
       "    <tr>\n",
       "      <th>ESTU_MCPIO_RESIDE</th>\n",
       "      <td>CALI</td>\n",
       "      <td>POPAYAN</td>\n",
       "      <td>CALI</td>\n",
       "    </tr>\n",
       "    <tr>\n",
       "      <th>ESTU_COD_RESIDE_MCPIO</th>\n",
       "      <td>76001</td>\n",
       "      <td>19001</td>\n",
       "      <td>76001</td>\n",
       "    </tr>\n",
       "    <tr>\n",
       "      <th>ESTU_HORASSEMANATRABAJA</th>\n",
       "      <td>0</td>\n",
       "      <td>0</td>\n",
       "      <td>NaN</td>\n",
       "    </tr>\n",
       "    <tr>\n",
       "      <th>FAMI_EDUCACIONPADRE</th>\n",
       "      <td>Educación Profesional Completa</td>\n",
       "      <td>Educación Profesional Completa</td>\n",
       "      <td>NaN</td>\n",
       "    </tr>\n",
       "    <tr>\n",
       "      <th>FAMI_EDUCACIONMADRE</th>\n",
       "      <td>Educación Técnica o Tecnológica Completa</td>\n",
       "      <td>Educación Profesional Completa</td>\n",
       "      <td>NaN</td>\n",
       "    </tr>\n",
       "    <tr>\n",
       "      <th>FAMI_ESTRATOVIVIENDA</th>\n",
       "      <td>Estrato 3</td>\n",
       "      <td>Estrato 3</td>\n",
       "      <td>NaN</td>\n",
       "    </tr>\n",
       "    <tr>\n",
       "      <th>FAMI_TIENEINTERNET</th>\n",
       "      <td>SI</td>\n",
       "      <td>SI</td>\n",
       "      <td>NaN</td>\n",
       "    </tr>\n",
       "    <tr>\n",
       "      <th>FAMI_TIENE_SERVICIOTV</th>\n",
       "      <td>SI</td>\n",
       "      <td>SI</td>\n",
       "      <td>NaN</td>\n",
       "    </tr>\n",
       "    <tr>\n",
       "      <th>FAMI_TIENECOMPUTADOR</th>\n",
       "      <td>SI</td>\n",
       "      <td>SI</td>\n",
       "      <td>NaN</td>\n",
       "    </tr>\n",
       "    <tr>\n",
       "      <th>FAMI_TIENELAVADORA</th>\n",
       "      <td>SI</td>\n",
       "      <td>SI</td>\n",
       "      <td>NaN</td>\n",
       "    </tr>\n",
       "    <tr>\n",
       "      <th>FAMI_TIENEHORNOMICROOGAS</th>\n",
       "      <td>SI</td>\n",
       "      <td>SI</td>\n",
       "      <td>NaN</td>\n",
       "    </tr>\n",
       "    <tr>\n",
       "      <th>FAMI_TIENEAUTOMOVIL</th>\n",
       "      <td>NO</td>\n",
       "      <td>SI</td>\n",
       "      <td>NaN</td>\n",
       "    </tr>\n",
       "    <tr>\n",
       "      <th>FAMI_TIENEMOTOCICLETA</th>\n",
       "      <td>NO</td>\n",
       "      <td>NO</td>\n",
       "      <td>NaN</td>\n",
       "    </tr>\n",
       "    <tr>\n",
       "      <th>FAMI_TIENE_CONSOLAVIDEOJUEGOS</th>\n",
       "      <td>NO</td>\n",
       "      <td>SI</td>\n",
       "      <td>NaN</td>\n",
       "    </tr>\n",
       "    <tr>\n",
       "      <th>FAMI_NUMLIBROS</th>\n",
       "      <td>26 A 100 LIBROS</td>\n",
       "      <td>26 A 100 LIBROS</td>\n",
       "      <td>NaN</td>\n",
       "    </tr>\n",
       "    <tr>\n",
       "      <th>ESTU_DEDICACIONLECTURADIARIA</th>\n",
       "      <td>Entre 30 y 60 minutos</td>\n",
       "      <td>30 minutos o menos</td>\n",
       "      <td>NaN</td>\n",
       "    </tr>\n",
       "    <tr>\n",
       "      <th>FAMI_COME_LECHEDERIVADOS</th>\n",
       "      <td>3 a 5 veces por semana</td>\n",
       "      <td>Todos o casi todos los días</td>\n",
       "      <td>NaN</td>\n",
       "    </tr>\n",
       "    <tr>\n",
       "      <th>FAMI_COME_CARNEPESCADOHUEVO</th>\n",
       "      <td>3 a 5 veces por semana</td>\n",
       "      <td>Todos o casi todos los dias</td>\n",
       "      <td>NaN</td>\n",
       "    </tr>\n",
       "    <tr>\n",
       "      <th>...</th>\n",
       "      <td>...</td>\n",
       "      <td>...</td>\n",
       "      <td>...</td>\n",
       "    </tr>\n",
       "    <tr>\n",
       "      <th>COLE_COD_MCPIO_UBICACION</th>\n",
       "      <td>76001</td>\n",
       "      <td>19001</td>\n",
       "      <td>76001</td>\n",
       "    </tr>\n",
       "    <tr>\n",
       "      <th>COLE_MCPIO_UBICACION</th>\n",
       "      <td>CALI</td>\n",
       "      <td>POPAYAN</td>\n",
       "      <td>CALI</td>\n",
       "    </tr>\n",
       "    <tr>\n",
       "      <th>COLE_COD_DEPTO_UBICACION</th>\n",
       "      <td>76</td>\n",
       "      <td>19</td>\n",
       "      <td>76</td>\n",
       "    </tr>\n",
       "    <tr>\n",
       "      <th>COLE_DEPTO_UBICACION</th>\n",
       "      <td>VALLE</td>\n",
       "      <td>CAUCA</td>\n",
       "      <td>VALLE</td>\n",
       "    </tr>\n",
       "    <tr>\n",
       "      <th>ESTU_PRIVADO_LIBERTAD</th>\n",
       "      <td>NaN</td>\n",
       "      <td>NaN</td>\n",
       "      <td>NaN</td>\n",
       "    </tr>\n",
       "    <tr>\n",
       "      <th>ESTU_COD_MCPIO_PRESENTACION</th>\n",
       "      <td>76001</td>\n",
       "      <td>19001</td>\n",
       "      <td>76001</td>\n",
       "    </tr>\n",
       "    <tr>\n",
       "      <th>ESTU_MCPIO_PRESENTACION</th>\n",
       "      <td>CALI</td>\n",
       "      <td>POPAYAN</td>\n",
       "      <td>CALI</td>\n",
       "    </tr>\n",
       "    <tr>\n",
       "      <th>ESTU_DEPTO_PRESENTACION</th>\n",
       "      <td>VALLE</td>\n",
       "      <td>CAUCA</td>\n",
       "      <td>VALLE</td>\n",
       "    </tr>\n",
       "    <tr>\n",
       "      <th>ESTU_COD_DEPTO_PRESENTACION</th>\n",
       "      <td>76</td>\n",
       "      <td>19</td>\n",
       "      <td>76</td>\n",
       "    </tr>\n",
       "    <tr>\n",
       "      <th>PUNT_MATEMATICAS</th>\n",
       "      <td>31</td>\n",
       "      <td>61</td>\n",
       "      <td>86</td>\n",
       "    </tr>\n",
       "    <tr>\n",
       "      <th>DESEMP_MATEMATICAS</th>\n",
       "      <td>1</td>\n",
       "      <td>3</td>\n",
       "      <td>4</td>\n",
       "    </tr>\n",
       "    <tr>\n",
       "      <th>PERCENTIL_MATEMATICAS</th>\n",
       "      <td>4</td>\n",
       "      <td>62</td>\n",
       "      <td>99</td>\n",
       "    </tr>\n",
       "    <tr>\n",
       "      <th>PUNT_INGLES</th>\n",
       "      <td>45</td>\n",
       "      <td>55</td>\n",
       "      <td>100</td>\n",
       "    </tr>\n",
       "    <tr>\n",
       "      <th>PERCENTIL_INGLES</th>\n",
       "      <td>26</td>\n",
       "      <td>43</td>\n",
       "      <td>100</td>\n",
       "    </tr>\n",
       "    <tr>\n",
       "      <th>DESEMP_INGLES</th>\n",
       "      <td>A-</td>\n",
       "      <td>A1</td>\n",
       "      <td>B+</td>\n",
       "    </tr>\n",
       "    <tr>\n",
       "      <th>PUNT_C_NATURALES</th>\n",
       "      <td>35</td>\n",
       "      <td>66</td>\n",
       "      <td>70</td>\n",
       "    </tr>\n",
       "    <tr>\n",
       "      <th>DESEMP_C_NATURALES</th>\n",
       "      <td>1</td>\n",
       "      <td>3</td>\n",
       "      <td>3</td>\n",
       "    </tr>\n",
       "    <tr>\n",
       "      <th>PERCENTIL_C_NATURALES</th>\n",
       "      <td>5</td>\n",
       "      <td>75</td>\n",
       "      <td>84</td>\n",
       "    </tr>\n",
       "    <tr>\n",
       "      <th>PUNT_LECTURA_CRITICA</th>\n",
       "      <td>44</td>\n",
       "      <td>67</td>\n",
       "      <td>72</td>\n",
       "    </tr>\n",
       "    <tr>\n",
       "      <th>DESEMP_LECTURA_CRITICA</th>\n",
       "      <td>2</td>\n",
       "      <td>4</td>\n",
       "      <td>4</td>\n",
       "    </tr>\n",
       "    <tr>\n",
       "      <th>PERCENTIL_LECTURA_CRITICA</th>\n",
       "      <td>15</td>\n",
       "      <td>78</td>\n",
       "      <td>91</td>\n",
       "    </tr>\n",
       "    <tr>\n",
       "      <th>DESEMP_SOCIALES_CIUDADANAS</th>\n",
       "      <td>1</td>\n",
       "      <td>3</td>\n",
       "      <td>3</td>\n",
       "    </tr>\n",
       "    <tr>\n",
       "      <th>PUNT_SOCIALES_CIUDADANAS</th>\n",
       "      <td>28</td>\n",
       "      <td>70</td>\n",
       "      <td>66</td>\n",
       "    </tr>\n",
       "    <tr>\n",
       "      <th>PERCENTIL_SOCIALES_CIUDADANAS</th>\n",
       "      <td>1</td>\n",
       "      <td>85</td>\n",
       "      <td>76</td>\n",
       "    </tr>\n",
       "    <tr>\n",
       "      <th>PUNT_GLOBAL</th>\n",
       "      <td>177</td>\n",
       "      <td>326</td>\n",
       "      <td>378</td>\n",
       "    </tr>\n",
       "    <tr>\n",
       "      <th>PERCENTIL_GLOBAL</th>\n",
       "      <td>4</td>\n",
       "      <td>71</td>\n",
       "      <td>94</td>\n",
       "    </tr>\n",
       "    <tr>\n",
       "      <th>ESTU_INSE_INDIVIDUAL</th>\n",
       "      <td>59.2052</td>\n",
       "      <td>72.972</td>\n",
       "      <td>NaN</td>\n",
       "    </tr>\n",
       "    <tr>\n",
       "      <th>ESTU_NSE_INDIVIDUAL</th>\n",
       "      <td>NSE3</td>\n",
       "      <td>NSE4</td>\n",
       "      <td>NaN</td>\n",
       "    </tr>\n",
       "    <tr>\n",
       "      <th>ESTU_NSE_ESTABLECIMIENTO</th>\n",
       "      <td>3</td>\n",
       "      <td>3</td>\n",
       "      <td>4</td>\n",
       "    </tr>\n",
       "    <tr>\n",
       "      <th>ESTU_ESTADOINVESTIGACION</th>\n",
       "      <td>Publicar</td>\n",
       "      <td>Publicar</td>\n",
       "      <td>Publicar</td>\n",
       "    </tr>\n",
       "  </tbody>\n",
       "</table>\n",
       "<p>80 rows × 3 columns</p>\n",
       "</div>"
      ],
      "text/plain": [
       "                                                                      0  \\\n",
       "ESTU_TIPODOCUMENTO                                                   CC   \n",
       "ESTU_NACIONALIDAD                                              COLOMBIA   \n",
       "ESTU_GENERO                                                   Masculino   \n",
       "ESTU_FECHANACIMIENTO                                         18/08/1998   \n",
       "PERIODO                                                           20171   \n",
       "ESTU_CONSECUTIVO                                       SB11201710017249   \n",
       "ESTU_ESTUDIANTE                                              ESTUDIANTE   \n",
       "ESTU_TIENEETNIA                                                      NO   \n",
       "ESTU_ETNIA                                                          NaN   \n",
       "ESTU_PAIS_RESIDE                                               COLOMBIA   \n",
       "ESTU_DEPTO_RESIDE                                                 VALLE   \n",
       "ESTU_COD_RESIDE_DEPTO                                                76   \n",
       "ESTU_MCPIO_RESIDE                                                  CALI   \n",
       "ESTU_COD_RESIDE_MCPIO                                             76001   \n",
       "ESTU_HORASSEMANATRABAJA                                               0   \n",
       "FAMI_EDUCACIONPADRE                      Educación Profesional Completa   \n",
       "FAMI_EDUCACIONMADRE            Educación Técnica o Tecnológica Completa   \n",
       "FAMI_ESTRATOVIVIENDA                                          Estrato 3   \n",
       "FAMI_TIENEINTERNET                                                   SI   \n",
       "FAMI_TIENE_SERVICIOTV                                                SI   \n",
       "FAMI_TIENECOMPUTADOR                                                 SI   \n",
       "FAMI_TIENELAVADORA                                                   SI   \n",
       "FAMI_TIENEHORNOMICROOGAS                                             SI   \n",
       "FAMI_TIENEAUTOMOVIL                                                  NO   \n",
       "FAMI_TIENEMOTOCICLETA                                                NO   \n",
       "FAMI_TIENE_CONSOLAVIDEOJUEGOS                                        NO   \n",
       "FAMI_NUMLIBROS                                          26 A 100 LIBROS   \n",
       "ESTU_DEDICACIONLECTURADIARIA                      Entre 30 y 60 minutos   \n",
       "FAMI_COME_LECHEDERIVADOS                         3 a 5 veces por semana   \n",
       "FAMI_COME_CARNEPESCADOHUEVO                      3 a 5 veces por semana   \n",
       "...                                                                 ...   \n",
       "COLE_COD_MCPIO_UBICACION                                          76001   \n",
       "COLE_MCPIO_UBICACION                                               CALI   \n",
       "COLE_COD_DEPTO_UBICACION                                             76   \n",
       "COLE_DEPTO_UBICACION                                              VALLE   \n",
       "ESTU_PRIVADO_LIBERTAD                                               NaN   \n",
       "ESTU_COD_MCPIO_PRESENTACION                                       76001   \n",
       "ESTU_MCPIO_PRESENTACION                                            CALI   \n",
       "ESTU_DEPTO_PRESENTACION                                           VALLE   \n",
       "ESTU_COD_DEPTO_PRESENTACION                                          76   \n",
       "PUNT_MATEMATICAS                                                     31   \n",
       "DESEMP_MATEMATICAS                                                    1   \n",
       "PERCENTIL_MATEMATICAS                                                 4   \n",
       "PUNT_INGLES                                                          45   \n",
       "PERCENTIL_INGLES                                                     26   \n",
       "DESEMP_INGLES                                                        A-   \n",
       "PUNT_C_NATURALES                                                     35   \n",
       "DESEMP_C_NATURALES                                                    1   \n",
       "PERCENTIL_C_NATURALES                                                 5   \n",
       "PUNT_LECTURA_CRITICA                                                 44   \n",
       "DESEMP_LECTURA_CRITICA                                                2   \n",
       "PERCENTIL_LECTURA_CRITICA                                            15   \n",
       "DESEMP_SOCIALES_CIUDADANAS                                            1   \n",
       "PUNT_SOCIALES_CIUDADANAS                                             28   \n",
       "PERCENTIL_SOCIALES_CIUDADANAS                                         1   \n",
       "PUNT_GLOBAL                                                         177   \n",
       "PERCENTIL_GLOBAL                                                      4   \n",
       "ESTU_INSE_INDIVIDUAL                                            59.2052   \n",
       "ESTU_NSE_INDIVIDUAL                                                NSE3   \n",
       "ESTU_NSE_ESTABLECIMIENTO                                              3   \n",
       "ESTU_ESTADOINVESTIGACION                                       Publicar   \n",
       "\n",
       "                                                            1  \\\n",
       "ESTU_TIPODOCUMENTO                                         CC   \n",
       "ESTU_NACIONALIDAD                                    COLOMBIA   \n",
       "ESTU_GENERO                                          Femenino   \n",
       "ESTU_FECHANACIMIENTO                               07/06/1998   \n",
       "PERIODO                                                 20171   \n",
       "ESTU_CONSECUTIVO                             SB11201710014556   \n",
       "ESTU_ESTUDIANTE                                    ESTUDIANTE   \n",
       "ESTU_TIENEETNIA                                            NO   \n",
       "ESTU_ETNIA                                                NaN   \n",
       "ESTU_PAIS_RESIDE                                     COLOMBIA   \n",
       "ESTU_DEPTO_RESIDE                                       CAUCA   \n",
       "ESTU_COD_RESIDE_DEPTO                                      19   \n",
       "ESTU_MCPIO_RESIDE                                     POPAYAN   \n",
       "ESTU_COD_RESIDE_MCPIO                                   19001   \n",
       "ESTU_HORASSEMANATRABAJA                                     0   \n",
       "FAMI_EDUCACIONPADRE            Educación Profesional Completa   \n",
       "FAMI_EDUCACIONMADRE            Educación Profesional Completa   \n",
       "FAMI_ESTRATOVIVIENDA                                Estrato 3   \n",
       "FAMI_TIENEINTERNET                                         SI   \n",
       "FAMI_TIENE_SERVICIOTV                                      SI   \n",
       "FAMI_TIENECOMPUTADOR                                       SI   \n",
       "FAMI_TIENELAVADORA                                         SI   \n",
       "FAMI_TIENEHORNOMICROOGAS                                   SI   \n",
       "FAMI_TIENEAUTOMOVIL                                        SI   \n",
       "FAMI_TIENEMOTOCICLETA                                      NO   \n",
       "FAMI_TIENE_CONSOLAVIDEOJUEGOS                              SI   \n",
       "FAMI_NUMLIBROS                                26 A 100 LIBROS   \n",
       "ESTU_DEDICACIONLECTURADIARIA               30 minutos o menos   \n",
       "FAMI_COME_LECHEDERIVADOS          Todos o casi todos los días   \n",
       "FAMI_COME_CARNEPESCADOHUEVO       Todos o casi todos los dias   \n",
       "...                                                       ...   \n",
       "COLE_COD_MCPIO_UBICACION                                19001   \n",
       "COLE_MCPIO_UBICACION                                  POPAYAN   \n",
       "COLE_COD_DEPTO_UBICACION                                   19   \n",
       "COLE_DEPTO_UBICACION                                    CAUCA   \n",
       "ESTU_PRIVADO_LIBERTAD                                     NaN   \n",
       "ESTU_COD_MCPIO_PRESENTACION                             19001   \n",
       "ESTU_MCPIO_PRESENTACION                               POPAYAN   \n",
       "ESTU_DEPTO_PRESENTACION                                 CAUCA   \n",
       "ESTU_COD_DEPTO_PRESENTACION                                19   \n",
       "PUNT_MATEMATICAS                                           61   \n",
       "DESEMP_MATEMATICAS                                          3   \n",
       "PERCENTIL_MATEMATICAS                                      62   \n",
       "PUNT_INGLES                                                55   \n",
       "PERCENTIL_INGLES                                           43   \n",
       "DESEMP_INGLES                                              A1   \n",
       "PUNT_C_NATURALES                                           66   \n",
       "DESEMP_C_NATURALES                                          3   \n",
       "PERCENTIL_C_NATURALES                                      75   \n",
       "PUNT_LECTURA_CRITICA                                       67   \n",
       "DESEMP_LECTURA_CRITICA                                      4   \n",
       "PERCENTIL_LECTURA_CRITICA                                  78   \n",
       "DESEMP_SOCIALES_CIUDADANAS                                  3   \n",
       "PUNT_SOCIALES_CIUDADANAS                                   70   \n",
       "PERCENTIL_SOCIALES_CIUDADANAS                              85   \n",
       "PUNT_GLOBAL                                               326   \n",
       "PERCENTIL_GLOBAL                                           71   \n",
       "ESTU_INSE_INDIVIDUAL                                   72.972   \n",
       "ESTU_NSE_INDIVIDUAL                                      NSE4   \n",
       "ESTU_NSE_ESTABLECIMIENTO                                    3   \n",
       "ESTU_ESTADOINVESTIGACION                             Publicar   \n",
       "\n",
       "                                              2  \n",
       "ESTU_TIPODOCUMENTO                           CC  \n",
       "ESTU_NACIONALIDAD                      COLOMBIA  \n",
       "ESTU_GENERO                           Masculino  \n",
       "ESTU_FECHANACIMIENTO                 30/03/1998  \n",
       "PERIODO                                   20171  \n",
       "ESTU_CONSECUTIVO               SB11201710001800  \n",
       "ESTU_ESTUDIANTE                      ESTUDIANTE  \n",
       "ESTU_TIENEETNIA                              NO  \n",
       "ESTU_ETNIA                                  NaN  \n",
       "ESTU_PAIS_RESIDE                       COLOMBIA  \n",
       "ESTU_DEPTO_RESIDE                         VALLE  \n",
       "ESTU_COD_RESIDE_DEPTO                        76  \n",
       "ESTU_MCPIO_RESIDE                          CALI  \n",
       "ESTU_COD_RESIDE_MCPIO                     76001  \n",
       "ESTU_HORASSEMANATRABAJA                     NaN  \n",
       "FAMI_EDUCACIONPADRE                         NaN  \n",
       "FAMI_EDUCACIONMADRE                         NaN  \n",
       "FAMI_ESTRATOVIVIENDA                        NaN  \n",
       "FAMI_TIENEINTERNET                          NaN  \n",
       "FAMI_TIENE_SERVICIOTV                       NaN  \n",
       "FAMI_TIENECOMPUTADOR                        NaN  \n",
       "FAMI_TIENELAVADORA                          NaN  \n",
       "FAMI_TIENEHORNOMICROOGAS                    NaN  \n",
       "FAMI_TIENEAUTOMOVIL                         NaN  \n",
       "FAMI_TIENEMOTOCICLETA                       NaN  \n",
       "FAMI_TIENE_CONSOLAVIDEOJUEGOS               NaN  \n",
       "FAMI_NUMLIBROS                              NaN  \n",
       "ESTU_DEDICACIONLECTURADIARIA                NaN  \n",
       "FAMI_COME_LECHEDERIVADOS                    NaN  \n",
       "FAMI_COME_CARNEPESCADOHUEVO                 NaN  \n",
       "...                                         ...  \n",
       "COLE_COD_MCPIO_UBICACION                  76001  \n",
       "COLE_MCPIO_UBICACION                       CALI  \n",
       "COLE_COD_DEPTO_UBICACION                     76  \n",
       "COLE_DEPTO_UBICACION                      VALLE  \n",
       "ESTU_PRIVADO_LIBERTAD                       NaN  \n",
       "ESTU_COD_MCPIO_PRESENTACION               76001  \n",
       "ESTU_MCPIO_PRESENTACION                    CALI  \n",
       "ESTU_DEPTO_PRESENTACION                   VALLE  \n",
       "ESTU_COD_DEPTO_PRESENTACION                  76  \n",
       "PUNT_MATEMATICAS                             86  \n",
       "DESEMP_MATEMATICAS                            4  \n",
       "PERCENTIL_MATEMATICAS                        99  \n",
       "PUNT_INGLES                                 100  \n",
       "PERCENTIL_INGLES                            100  \n",
       "DESEMP_INGLES                                B+  \n",
       "PUNT_C_NATURALES                             70  \n",
       "DESEMP_C_NATURALES                            3  \n",
       "PERCENTIL_C_NATURALES                        84  \n",
       "PUNT_LECTURA_CRITICA                         72  \n",
       "DESEMP_LECTURA_CRITICA                        4  \n",
       "PERCENTIL_LECTURA_CRITICA                    91  \n",
       "DESEMP_SOCIALES_CIUDADANAS                    3  \n",
       "PUNT_SOCIALES_CIUDADANAS                     66  \n",
       "PERCENTIL_SOCIALES_CIUDADANAS                76  \n",
       "PUNT_GLOBAL                                 378  \n",
       "PERCENTIL_GLOBAL                             94  \n",
       "ESTU_INSE_INDIVIDUAL                        NaN  \n",
       "ESTU_NSE_INDIVIDUAL                         NaN  \n",
       "ESTU_NSE_ESTABLECIMIENTO                      4  \n",
       "ESTU_ESTADOINVESTIGACION               Publicar  \n",
       "\n",
       "[80 rows x 3 columns]"
      ]
     },
     "execution_count": 4,
     "metadata": {},
     "output_type": "execute_result"
    }
   ],
   "source": [
    "data_2017.head(3).T"
   ]
  },
  {
   "cell_type": "code",
   "execution_count": 5,
   "metadata": {
    "collapsed": false,
    "scrolled": true
   },
   "outputs": [
    {
     "name": "stdout",
     "output_type": "stream",
     "text": [
      "Index(['ALEMANIA', 'ARGENTINA', 'AUSTRIA', 'BRASIL', 'BÉLGICA', 'CHILE',\n",
      "       'COLOMBIA', 'COMORAS', 'COREA DEL SUR', 'ECUADOR', 'EL SALVADOR',\n",
      "       'ESPAÑA', 'ESTADOS UNIDOS', 'FRANCIA', 'GUATEMALA', 'IRÁN', 'ITALIA',\n",
      "       'MÉXICO', 'NICARAGUA', 'PANAMÁ', 'PAÍSES BAJOS - HOLANDA', 'PERÚ',\n",
      "       'PORTUGAL', 'REINO UNIDO', 'SUIZA', 'TURQUÍA', 'VENEZUELA'],\n",
      "      dtype='object')\n",
      "ALEMANIA                      3\n",
      "ARGENTINA                     9\n",
      "AUSTRIA                       1\n",
      "BRASIL                        5\n",
      "BÉLGICA                       2\n",
      "CHILE                         3\n",
      "COLOMBIA                  12862\n",
      "COMORAS                       2\n",
      "COREA DEL SUR                 1\n",
      "ECUADOR                       4\n",
      "EL SALVADOR                   2\n",
      "ESPAÑA                       11\n",
      "ESTADOS UNIDOS               27\n",
      "FRANCIA                       6\n",
      "GUATEMALA                     1\n",
      "IRÁN                          1\n",
      "ITALIA                        3\n",
      "MÉXICO                        5\n",
      "NICARAGUA                     1\n",
      "PANAMÁ                        1\n",
      "PAÍSES BAJOS - HOLANDA        2\n",
      "PERÚ                          2\n",
      "PORTUGAL                      1\n",
      "REINO UNIDO                   1\n",
      "SUIZA                         1\n",
      "TURQUÍA                       1\n",
      "VENEZUELA                    35\n",
      "Name: ESTU_NACIONALIDAD, dtype: int64\n",
      "Elementos null/NaN 0\n",
      "__________________\n",
      "Elementos diferentes de null/NaN: 12993\n",
      "__________________\n",
      "(12993,)\n",
      "None\n"
     ]
    }
   ],
   "source": [
    "c = 'ESTU_NACIONALIDAD'\n",
    "print(data_2017[c].value_counts().sort_index().index)\n",
    "print(data_2017[c].value_counts().sort_index())\n",
    "print(missing_data(data_2017[c]))"
   ]
  },
  {
   "cell_type": "code",
   "execution_count": 6,
   "metadata": {
    "collapsed": false
   },
   "outputs": [
    {
     "name": "stdout",
     "output_type": "stream",
     "text": [
      "cant null antes: 0\n",
      "cant null despues: 0\n"
     ]
    }
   ],
   "source": [
    "Do_resamples(data_2017, c, str)"
   ]
  },
  {
   "cell_type": "code",
   "execution_count": 7,
   "metadata": {
    "collapsed": false
   },
   "outputs": [
    {
     "name": "stdout",
     "output_type": "stream",
     "text": [
      "Index(['Femenino', 'Masculino'], dtype='object')\n",
      "Femenino     6742\n",
      "Masculino    6251\n",
      "Name: ESTU_GENERO, dtype: int64\n",
      "Elementos null/NaN 0\n",
      "__________________\n",
      "Elementos diferentes de null/NaN: 12993\n",
      "__________________\n",
      "(12993,)\n",
      "None\n"
     ]
    }
   ],
   "source": [
    "c = 'ESTU_GENERO'\n",
    "print(data_2017[c].value_counts().sort_index().index)\n",
    "print(data_2017[c].value_counts().sort_index())\n",
    "print(missing_data(data_2017[c]))"
   ]
  },
  {
   "cell_type": "code",
   "execution_count": 8,
   "metadata": {
    "collapsed": false,
    "scrolled": true
   },
   "outputs": [
    {
     "name": "stdout",
     "output_type": "stream",
     "text": [
      "Index(['01/01/1998', '01/01/1999', '01/01/2000', '01/01/2001', '01/02/1998',\n",
      "       '01/02/1999', '01/02/2000', '01/02/2001', '01/03/1998', '01/03/1999',\n",
      "       ...\n",
      "       '31/08/1998', '31/08/1999', '31/08/2000', '31/08/2001', '31/10/1998',\n",
      "       '31/10/1999', '31/10/2000', '31/12/1998', '31/12/1999', '31/12/2000'],\n",
      "      dtype='object', length=1540)\n",
      "01/01/1998     3\n",
      "01/01/1999     6\n",
      "01/01/2000    10\n",
      "01/01/2001     7\n",
      "01/02/1998     1\n",
      "01/02/1999    12\n",
      "01/02/2000    12\n",
      "01/02/2001    11\n",
      "01/03/1998     2\n",
      "01/03/1999    15\n",
      "01/03/2000    18\n",
      "01/03/2001     7\n",
      "01/04/1997     1\n",
      "01/04/1998     4\n",
      "01/04/1999     8\n",
      "01/04/2000    22\n",
      "01/04/2001     5\n",
      "01/05/1998     1\n",
      "01/05/1999    17\n",
      "01/05/2000     9\n",
      "01/05/2001     2\n",
      "01/06/1998     3\n",
      "01/06/1999    14\n",
      "01/06/2000    12\n",
      "01/07/1998     5\n",
      "01/07/1999    19\n",
      "01/07/2000    19\n",
      "01/07/2001     1\n",
      "01/08/1998     6\n",
      "01/08/1999    11\n",
      "              ..\n",
      "30/12/1997     2\n",
      "30/12/1998     9\n",
      "30/12/1999    11\n",
      "30/12/2000     9\n",
      "31/01/1999    10\n",
      "31/01/2000    14\n",
      "31/01/2001     5\n",
      "31/01/2002     1\n",
      "31/03/1997     1\n",
      "31/03/1999    11\n",
      "31/03/2000    17\n",
      "31/03/2001     4\n",
      "31/05/1996     1\n",
      "31/05/1998     1\n",
      "31/05/1999    15\n",
      "31/05/2000    13\n",
      "31/05/2001     2\n",
      "31/07/1999     9\n",
      "31/07/2000    12\n",
      "31/07/2001     1\n",
      "31/08/1998     7\n",
      "31/08/1999    19\n",
      "31/08/2000     7\n",
      "31/08/2001     2\n",
      "31/10/1998    10\n",
      "31/10/1999     7\n",
      "31/10/2000    13\n",
      "31/12/1998     6\n",
      "31/12/1999    13\n",
      "31/12/2000     6\n",
      "Name: ESTU_FECHANACIMIENTO, dtype: int64\n",
      "Elementos null/NaN 0\n",
      "__________________\n",
      "Elementos diferentes de null/NaN: 12993\n",
      "__________________\n",
      "(12993,)\n",
      "None\n"
     ]
    }
   ],
   "source": [
    "c = 'ESTU_FECHANACIMIENTO'\n",
    "print(data_2017[c].value_counts().sort_index().index)\n",
    "print(data_2017[c].value_counts().sort_index())\n",
    "print(missing_data(data_2017[c]))"
   ]
  },
  {
   "cell_type": "code",
   "execution_count": 9,
   "metadata": {
    "collapsed": false
   },
   "outputs": [],
   "source": [
    "Sep_Col = pd.DataFrame(data_2017.ESTU_FECHANACIMIENTO.str.split('/').tolist(), columns=['ESTU_NACIMIENTO_DIA', \n",
    "                                                                                         'ESTU_NACIMIENTO_MES',\n",
    "                                                                                         'ESTU_NACIMIENTO_ANNO'])\n",
    "data_2017 = pd.concat([data_2017, Sep_Col], axis=1)\n",
    "data_2017 = data_2017.drop(c, axis=1)"
   ]
  },
  {
   "cell_type": "code",
   "execution_count": 10,
   "metadata": {
    "collapsed": false,
    "scrolled": true
   },
   "outputs": [
    {
     "name": "stdout",
     "output_type": "stream",
     "text": [
      "Index(['01', '02', '03', '04', '05', '06', '07', '08', '09', '10', '11', '12',\n",
      "       '13', '14', '15', '16', '17', '18', '19', '20', '21', '22', '23', '24',\n",
      "       '25', '26', '27', '28', '29', '30', '31'],\n",
      "      dtype='object')\n",
      "01    438\n",
      "02    413\n",
      "03    441\n",
      "04    407\n",
      "05    427\n",
      "06    435\n",
      "07    418\n",
      "08    423\n",
      "09    478\n",
      "10    461\n",
      "11    404\n",
      "12    419\n",
      "13    377\n",
      "14    468\n",
      "15    463\n",
      "16    453\n",
      "17    443\n",
      "18    462\n",
      "19    411\n",
      "20    417\n",
      "21    421\n",
      "22    428\n",
      "23    404\n",
      "24    439\n",
      "25    409\n",
      "26    421\n",
      "27    417\n",
      "28    428\n",
      "29    388\n",
      "30    373\n",
      "31    207\n",
      "Name: ESTU_NACIMIENTO_DIA, dtype: int64\n",
      "Elementos null/NaN 0\n",
      "__________________\n",
      "Elementos diferentes de null/NaN: 12993\n",
      "__________________\n",
      "(12993,)\n",
      "None\n"
     ]
    }
   ],
   "source": [
    "c = 'ESTU_NACIMIENTO_DIA'\n",
    "print(data_2017[c].value_counts().sort_index().index)\n",
    "print(data_2017[c].value_counts().sort_index())\n",
    "print(missing_data(data_2017[c]))"
   ]
  },
  {
   "cell_type": "code",
   "execution_count": 11,
   "metadata": {
    "collapsed": false,
    "scrolled": true
   },
   "outputs": [
    {
     "name": "stdout",
     "output_type": "stream",
     "text": [
      "Index(['01', '02', '03', '04', '05', '06', '07', '08', '09', '10', '11', '12'], dtype='object')\n",
      "01    1067\n",
      "02     973\n",
      "03    1093\n",
      "04    1067\n",
      "05    1044\n",
      "06    1077\n",
      "07    1142\n",
      "08    1137\n",
      "09    1165\n",
      "10    1134\n",
      "11     986\n",
      "12    1108\n",
      "Name: ESTU_NACIMIENTO_MES, dtype: int64\n",
      "Elementos null/NaN 0\n",
      "__________________\n",
      "Elementos diferentes de null/NaN: 12993\n",
      "__________________\n",
      "(12993,)\n",
      "None\n"
     ]
    }
   ],
   "source": [
    "c = 'ESTU_NACIMIENTO_MES'\n",
    "print(data_2017[c].value_counts().sort_index().index)\n",
    "print(data_2017[c].value_counts().sort_index())\n",
    "print(missing_data(data_2017[c]))"
   ]
  },
  {
   "cell_type": "code",
   "execution_count": 12,
   "metadata": {
    "collapsed": false,
    "scrolled": true
   },
   "outputs": [
    {
     "name": "stdout",
     "output_type": "stream",
     "text": [
      "Index(['0099', '0200', '1961', '1963', '1980', '1989', '1991', '1992', '1993',\n",
      "       '1995', '1996', '1997', '1998', '1999', '2000', '2001', '2002', '2003',\n",
      "       '2006', '2007', '2009', '2010', '2016', '2017'],\n",
      "      dtype='object')\n",
      "0099       1\n",
      "0200       2\n",
      "1961       1\n",
      "1963       1\n",
      "1980       2\n",
      "1989       2\n",
      "1991       4\n",
      "1992       1\n",
      "1993       3\n",
      "1995       4\n",
      "1996      12\n",
      "1997     190\n",
      "1998    1750\n",
      "1999    4842\n",
      "2000    5258\n",
      "2001     874\n",
      "2002      32\n",
      "2003       1\n",
      "2006       2\n",
      "2007       1\n",
      "2009       2\n",
      "2010       1\n",
      "2016       6\n",
      "2017       1\n",
      "Name: ESTU_NACIMIENTO_ANNO, dtype: int64\n",
      "Elementos null/NaN 0\n",
      "__________________\n",
      "Elementos diferentes de null/NaN: 12993\n",
      "__________________\n",
      "(12993,)\n",
      "None\n"
     ]
    }
   ],
   "source": [
    "c = 'ESTU_NACIMIENTO_ANNO'\n",
    "print(data_2017[c].value_counts().sort_index().index)\n",
    "print(data_2017[c].value_counts().sort_index())\n",
    "print(missing_data(data_2017[c]))"
   ]
  },
  {
   "cell_type": "code",
   "execution_count": 13,
   "metadata": {
    "collapsed": false
   },
   "outputs": [
    {
     "name": "stdout",
     "output_type": "stream",
     "text": [
      "cant null antes: 13\n",
      "cant null despues: 0\n"
     ]
    }
   ],
   "source": [
    "for i in data_2017[c].value_counts().sort_index().index:\n",
    "    if int(i) < 1961:\n",
    "        data_2017[c] = data_2017[c].replace(i, np.nan)\n",
    "    elif int(i) > 2007:\n",
    "        data_2017[c] = data_2017[c].replace(i, np.nan)\n",
    "    elif type(i) == str:\n",
    "        data_2017[c] = data_2017[c].replace(i, float(i))\n",
    "        \n",
    "Do_resamples(data_2017, c, float)"
   ]
  },
  {
   "cell_type": "code",
   "execution_count": 14,
   "metadata": {
    "collapsed": false
   },
   "outputs": [
    {
     "name": "stdout",
     "output_type": "stream",
     "text": [
      "Int64Index([20171], dtype='int64')\n",
      "20171    12993\n",
      "Name: PERIODO, dtype: int64\n",
      "Elementos null/NaN 0\n",
      "__________________\n",
      "Elementos diferentes de null/NaN: 12993\n",
      "__________________\n",
      "(12993,)\n",
      "None\n"
     ]
    }
   ],
   "source": [
    "c = 'PERIODO'\n",
    "print(data_2017[c].value_counts().sort_index().index)\n",
    "print(data_2017[c].value_counts().sort_index())\n",
    "print(missing_data(data_2017[c]))"
   ]
  },
  {
   "cell_type": "code",
   "execution_count": 15,
   "metadata": {
    "collapsed": true
   },
   "outputs": [],
   "source": [
    "data_2017 = data_2017.drop(c, axis=1)"
   ]
  },
  {
   "cell_type": "code",
   "execution_count": 16,
   "metadata": {
    "collapsed": false,
    "scrolled": true
   },
   "outputs": [
    {
     "name": "stdout",
     "output_type": "stream",
     "text": [
      "Index(['SB11201710000001', 'SB11201710000006', 'SB11201710000007',\n",
      "       'SB11201710000008', 'SB11201710000009', 'SB11201710000010',\n",
      "       'SB11201710000011', 'SB11201710000012', 'SB11201710000013',\n",
      "       'SB11201710000014',\n",
      "       ...\n",
      "       'SB11201710090079', 'SB11201710090080', 'SB11201710090100',\n",
      "       'SB11201710090103', 'SB11201710090105', 'SB11201710090108',\n",
      "       'SB11201710090110', 'SB11201710090113', 'SB11201710090165',\n",
      "       'SB11201710090211'],\n",
      "      dtype='object', length=12993)\n",
      "SB11201710000001    1\n",
      "SB11201710000006    1\n",
      "SB11201710000007    1\n",
      "SB11201710000008    1\n",
      "SB11201710000009    1\n",
      "SB11201710000010    1\n",
      "SB11201710000011    1\n",
      "SB11201710000012    1\n",
      "SB11201710000013    1\n",
      "SB11201710000014    1\n",
      "SB11201710000015    1\n",
      "SB11201710000016    1\n",
      "SB11201710000017    1\n",
      "SB11201710000018    1\n",
      "SB11201710000019    1\n",
      "SB11201710000020    1\n",
      "SB11201710000021    1\n",
      "SB11201710000023    1\n",
      "SB11201710000024    1\n",
      "SB11201710000025    1\n",
      "SB11201710000026    1\n",
      "SB11201710000035    1\n",
      "SB11201710000036    1\n",
      "SB11201710000037    1\n",
      "SB11201710000038    1\n",
      "SB11201710000039    1\n",
      "SB11201710000040    1\n",
      "SB11201710000041    1\n",
      "SB11201710000664    1\n",
      "SB11201710000691    1\n",
      "                   ..\n",
      "SB11201710086398    1\n",
      "SB11201710087833    1\n",
      "SB11201710087836    1\n",
      "SB11201710087901    1\n",
      "SB11201710088240    1\n",
      "SB11201710088337    1\n",
      "SB11201710088343    1\n",
      "SB11201710088349    1\n",
      "SB11201710089941    1\n",
      "SB11201710089942    1\n",
      "SB11201710089944    1\n",
      "SB11201710089945    1\n",
      "SB11201710089946    1\n",
      "SB11201710089947    1\n",
      "SB11201710090040    1\n",
      "SB11201710090045    1\n",
      "SB11201710090053    1\n",
      "SB11201710090056    1\n",
      "SB11201710090077    1\n",
      "SB11201710090078    1\n",
      "SB11201710090079    1\n",
      "SB11201710090080    1\n",
      "SB11201710090100    1\n",
      "SB11201710090103    1\n",
      "SB11201710090105    1\n",
      "SB11201710090108    1\n",
      "SB11201710090110    1\n",
      "SB11201710090113    1\n",
      "SB11201710090165    1\n",
      "SB11201710090211    1\n",
      "Name: ESTU_CONSECUTIVO, dtype: int64\n",
      "Elementos null/NaN 0\n",
      "__________________\n",
      "Elementos diferentes de null/NaN: 12993\n",
      "__________________\n",
      "(12993,)\n",
      "None\n"
     ]
    }
   ],
   "source": [
    "c = 'ESTU_CONSECUTIVO'\n",
    "print(data_2017[c].value_counts().sort_index().index)\n",
    "print(data_2017[c].value_counts().sort_index())\n",
    "print(missing_data(data_2017[c]))"
   ]
  },
  {
   "cell_type": "code",
   "execution_count": 17,
   "metadata": {
    "collapsed": true
   },
   "outputs": [],
   "source": [
    "data_2017 = data_2017.drop(c, axis=1)"
   ]
  },
  {
   "cell_type": "code",
   "execution_count": 18,
   "metadata": {
    "collapsed": false
   },
   "outputs": [
    {
     "name": "stdout",
     "output_type": "stream",
     "text": [
      "Index(['ESTUDIANTE'], dtype='object')\n",
      "ESTUDIANTE    12993\n",
      "Name: ESTU_ESTUDIANTE, dtype: int64\n",
      "Elementos null/NaN 0\n",
      "__________________\n",
      "Elementos diferentes de null/NaN: 12993\n",
      "__________________\n",
      "(12993,)\n",
      "None\n"
     ]
    }
   ],
   "source": [
    "c = 'ESTU_ESTUDIANTE'\n",
    "print(data_2017[c].value_counts().sort_index().index)\n",
    "print(data_2017[c].value_counts().sort_index())\n",
    "print(missing_data(data_2017[c]))"
   ]
  },
  {
   "cell_type": "code",
   "execution_count": 19,
   "metadata": {
    "collapsed": true
   },
   "outputs": [],
   "source": [
    "data_2017 = data_2017.drop(c, axis=1)"
   ]
  },
  {
   "cell_type": "code",
   "execution_count": 20,
   "metadata": {
    "collapsed": false
   },
   "outputs": [
    {
     "name": "stdout",
     "output_type": "stream",
     "text": [
      "Index(['NO', 'SI'], dtype='object')\n",
      "NO    11858\n",
      "SI      164\n",
      "Name: ESTU_TIENEETNIA, dtype: int64\n",
      "Elementos null/NaN 971\n",
      "__________________\n",
      "Elementos diferentes de null/NaN: 12022\n",
      "__________________\n",
      "(12022,)\n",
      "None\n"
     ]
    }
   ],
   "source": [
    "c = 'ESTU_TIENEETNIA'\n",
    "print(data_2017[c].value_counts().sort_index().index)\n",
    "print(data_2017[c].value_counts().sort_index())\n",
    "print(missing_data(data_2017[c]))"
   ]
  },
  {
   "cell_type": "code",
   "execution_count": 21,
   "metadata": {
    "collapsed": false
   },
   "outputs": [
    {
     "name": "stdout",
     "output_type": "stream",
     "text": [
      "cant null antes: 971\n",
      "cant null despues: 0\n"
     ]
    }
   ],
   "source": [
    "Do_resamples(data_2017, c, str)"
   ]
  },
  {
   "cell_type": "code",
   "execution_count": 22,
   "metadata": {
    "collapsed": false,
    "scrolled": true
   },
   "outputs": [
    {
     "name": "stdout",
     "output_type": "stream",
     "text": [
      "Index(['Comunidad Rom (gitana)', 'Comunidad afrodescendiente', 'Guambiano',\n",
      "       'Inga', 'Ninguno', 'Otro grupo étnico minoritario', 'Paez',\n",
      "       'Palenquero', 'Pasto', 'Pijao', 'Raizal', 'Wayúu'],\n",
      "      dtype='object')\n",
      "Comunidad Rom (gitana)             1\n",
      "Comunidad afrodescendiente       134\n",
      "Guambiano                          1\n",
      "Inga                               1\n",
      "Ninguno                           12\n",
      "Otro grupo étnico minoritario     24\n",
      "Paez                               3\n",
      "Palenquero                         1\n",
      "Pasto                              5\n",
      "Pijao                              1\n",
      "Raizal                             1\n",
      "Wayúu                              3\n",
      "Name: ESTU_ETNIA, dtype: int64\n",
      "Elementos null/NaN 12806\n",
      "__________________\n",
      "Elementos diferentes de null/NaN: 187\n",
      "__________________\n",
      "(187,)\n",
      "None\n"
     ]
    }
   ],
   "source": [
    "c = 'ESTU_ETNIA'\n",
    "print(data_2017[c].value_counts().sort_index().index)\n",
    "print(data_2017[c].value_counts().sort_index())\n",
    "print(missing_data(data_2017[c]))"
   ]
  },
  {
   "cell_type": "code",
   "execution_count": 23,
   "metadata": {
    "collapsed": true
   },
   "outputs": [],
   "source": [
    "data_2017[c].fillna('Ninguno', inplace=True)"
   ]
  },
  {
   "cell_type": "code",
   "execution_count": 24,
   "metadata": {
    "collapsed": false,
    "scrolled": true
   },
   "outputs": [
    {
     "name": "stdout",
     "output_type": "stream",
     "text": [
      "Index(['ALEMANIA', 'ARGENTINA', 'AUSTRIA', 'BRASIL', 'BÉLGICA', 'CHILE',\n",
      "       'COLOMBIA', 'COMORAS', 'COREA DEL SUR', 'ECUADOR', 'EL SALVADOR',\n",
      "       'ESPAÑA', 'ESTADOS UNIDOS', 'FRANCIA', 'GUATEMALA', 'IRÁN', 'ITALIA',\n",
      "       'MÉXICO', 'NICARAGUA', 'PANAMÁ', 'PAÍSES BAJOS - HOLANDA', 'PERÚ',\n",
      "       'PORTUGAL', 'REINO UNIDO', 'SUIZA', 'TURQUÍA', 'VENEZUELA'],\n",
      "      dtype='object')\n",
      "ALEMANIA                      3\n",
      "ARGENTINA                     9\n",
      "AUSTRIA                       1\n",
      "BRASIL                        5\n",
      "BÉLGICA                       2\n",
      "CHILE                         3\n",
      "COLOMBIA                  12862\n",
      "COMORAS                       2\n",
      "COREA DEL SUR                 1\n",
      "ECUADOR                       4\n",
      "EL SALVADOR                   2\n",
      "ESPAÑA                       11\n",
      "ESTADOS UNIDOS               27\n",
      "FRANCIA                       6\n",
      "GUATEMALA                     1\n",
      "IRÁN                          1\n",
      "ITALIA                        3\n",
      "MÉXICO                        5\n",
      "NICARAGUA                     1\n",
      "PANAMÁ                        1\n",
      "PAÍSES BAJOS - HOLANDA        2\n",
      "PERÚ                          2\n",
      "PORTUGAL                      1\n",
      "REINO UNIDO                   1\n",
      "SUIZA                         1\n",
      "TURQUÍA                       1\n",
      "VENEZUELA                    35\n",
      "Name: ESTU_PAIS_RESIDE, dtype: int64\n",
      "Elementos null/NaN 0\n",
      "__________________\n",
      "Elementos diferentes de null/NaN: 12993\n",
      "__________________\n",
      "(12993,)\n",
      "None\n"
     ]
    }
   ],
   "source": [
    "c = 'ESTU_PAIS_RESIDE'\n",
    "print(data_2017[c].value_counts().sort_index().index)\n",
    "print(data_2017[c].value_counts().sort_index())\n",
    "print(missing_data(data_2017[c]))"
   ]
  },
  {
   "cell_type": "code",
   "execution_count": 25,
   "metadata": {
    "collapsed": false,
    "scrolled": true
   },
   "outputs": [
    {
     "name": "stdout",
     "output_type": "stream",
     "text": [
      "Index(['AMAZONAS', 'ANTIOQUIA', 'ATLANTICO', 'BOGOTA', 'BOLIVAR', 'CALDAS',\n",
      "       'CAUCA', 'CESAR', 'CORDOBA', 'CUNDINAMARCA', 'LA GUAJIRA', 'MAGDALENA',\n",
      "       'NARIÑO', 'QUINDIO', 'RISARALDA', 'SANTANDER', 'VALLE'],\n",
      "      dtype='object')\n",
      "AMAZONAS           1\n",
      "ANTIOQUIA        513\n",
      "ATLANTICO        691\n",
      "BOGOTA          2926\n",
      "BOLIVAR          128\n",
      "CALDAS           187\n",
      "CAUCA            604\n",
      "CESAR             48\n",
      "CORDOBA           25\n",
      "CUNDINAMARCA     340\n",
      "LA GUAJIRA        49\n",
      "MAGDALENA         89\n",
      "NARIÑO           286\n",
      "QUINDIO           55\n",
      "RISARALDA        114\n",
      "SANTANDER         93\n",
      "VALLE           6844\n",
      "Name: ESTU_DEPTO_RESIDE, dtype: int64\n",
      "Elementos null/NaN 0\n",
      "__________________\n",
      "Elementos diferentes de null/NaN: 12993\n",
      "__________________\n",
      "(12993,)\n",
      "None\n"
     ]
    }
   ],
   "source": [
    "c = 'ESTU_DEPTO_RESIDE'\n",
    "print(data_2017[c].value_counts().sort_index().index)\n",
    "print(data_2017[c].value_counts().sort_index())\n",
    "print(missing_data(data_2017[c]))"
   ]
  },
  {
   "cell_type": "code",
   "execution_count": 26,
   "metadata": {
    "collapsed": false,
    "scrolled": true
   },
   "outputs": [
    {
     "name": "stdout",
     "output_type": "stream",
     "text": [
      "Int64Index([5, 8, 11, 13, 17, 19, 20, 23, 25, 44, 47, 52, 63, 66, 68, 76, 91], dtype='int64')\n",
      "5      513\n",
      "8      691\n",
      "11    2926\n",
      "13     128\n",
      "17     187\n",
      "19     604\n",
      "20      48\n",
      "23      25\n",
      "25     340\n",
      "44      49\n",
      "47      89\n",
      "52     286\n",
      "63      55\n",
      "66     114\n",
      "68      93\n",
      "76    6844\n",
      "91       1\n",
      "Name: ESTU_COD_RESIDE_DEPTO, dtype: int64\n",
      "Elementos null/NaN 0\n",
      "__________________\n",
      "Elementos diferentes de null/NaN: 12993\n",
      "__________________\n",
      "(12993,)\n",
      "None\n"
     ]
    }
   ],
   "source": [
    "c = 'ESTU_COD_RESIDE_DEPTO'\n",
    "print(data_2017[c].value_counts().sort_index().index)\n",
    "print(data_2017[c].value_counts().sort_index())\n",
    "print(missing_data(data_2017[c]))"
   ]
  },
  {
   "cell_type": "code",
   "execution_count": 27,
   "metadata": {
    "collapsed": true
   },
   "outputs": [],
   "source": [
    "data_2017 = data_2017.drop(c, axis=1)"
   ]
  },
  {
   "cell_type": "code",
   "execution_count": 28,
   "metadata": {
    "collapsed": false,
    "scrolled": true
   },
   "outputs": [
    {
     "name": "stdout",
     "output_type": "stream",
     "text": [
      "Index(['ALBANIA', 'ARMENIA', 'BARRANQUILLA', 'BOGOTÁ D.C.', 'BOJACÁ',\n",
      "       'BOLIVAR', 'BUCARAMANGA', 'BUGA', 'CACHIPAY', 'CAICEDONIA', 'CAJICA',\n",
      "       'CALDAS', 'CALI', 'CALIMA (DARIEN)', 'CANDELARIA', 'CARTAGENA',\n",
      "       'CARTAGO', 'CHIA', 'CIENAGA', 'CIENAGA DE ORO', 'CIRCASIA', 'COTA',\n",
      "       'DOS QUEBRADAS', 'EL CAIRO', 'EL CERRITO', 'EL TAMBO', 'ENVIGADO',\n",
      "       'FACATATIVA', 'FLORIDA', 'FLORIDABLANCA', 'FUNZA', 'GINEBRA', 'GIRON',\n",
      "       'GUACARI', 'GUACHENÉ', 'HATONUEVO', 'ITAGUI', 'JAMUNDI', 'LA CALERA',\n",
      "       'LA ESTRELLA', 'LA UNION', 'LETICIA', 'LOS SANTOS', 'MADRID', 'MAICAO',\n",
      "       'MANIZALES', 'MEDELLIN', 'MIRANDA', 'MONTERIA', 'MOSQUERA', 'NARIÑO',\n",
      "       'PALMIRA', 'PASTO', 'PATIA(EL BORDO)', 'PEREIRA', 'PIEDECUESTA',\n",
      "       'POPAYAN', 'PRADERA', 'PUERTO COLOMBIA', 'PUERTO TEJADA', 'RETIRO',\n",
      "       'RIONEGRO', 'ROLDANILLO', 'SABANAGRANDE', 'SABANETA', 'SALENTO',\n",
      "       'SAN PEDRO', 'SANTA MARTA', 'SANTA ROSA DE CABAL',\n",
      "       'SANTANDER DE QUILICHAO', 'SOLEDAD', 'SOPO', 'SUBACHOQUE', 'TABIO',\n",
      "       'TENJO', 'TIMBIO', 'TOCANCIPA', 'TULUA', 'VALLEDUPAR', 'VIJES',\n",
      "       'VILLA RICA', 'VILLAMARIA', 'YUMBO', 'ZARZAL', 'ZIPAQUIRA'],\n",
      "      dtype='object')\n",
      "ALBANIA                     22\n",
      "ARMENIA                     53\n",
      "BARRANQUILLA               673\n",
      "BOGOTÁ D.C.               2926\n",
      "BOJACÁ                       1\n",
      "BOLIVAR                      1\n",
      "BUCARAMANGA                 30\n",
      "BUGA                       245\n",
      "CACHIPAY                     1\n",
      "CAICEDONIA                   2\n",
      "CAJICA                      56\n",
      "CALDAS                       1\n",
      "CALI                      5598\n",
      "CALIMA (DARIEN)              2\n",
      "CANDELARIA                  45\n",
      "CARTAGENA                  128\n",
      "CARTAGO                     91\n",
      "CHIA                       199\n",
      "CIENAGA                      2\n",
      "CIENAGA DE ORO               1\n",
      "CIRCASIA                     1\n",
      "COTA                        31\n",
      "DOS QUEBRADAS                2\n",
      "EL CAIRO                     1\n",
      "EL CERRITO                  69\n",
      "EL TAMBO                     2\n",
      "ENVIGADO                    89\n",
      "FACATATIVA                   3\n",
      "FLORIDA                      5\n",
      "FLORIDABLANCA               53\n",
      "                          ... \n",
      "PIEDECUESTA                  8\n",
      "POPAYAN                    521\n",
      "PRADERA                     14\n",
      "PUERTO COLOMBIA             16\n",
      "PUERTO TEJADA               52\n",
      "RETIRO                       3\n",
      "RIONEGRO                     5\n",
      "ROLDANILLO                  17\n",
      "SABANAGRANDE                 1\n",
      "SABANETA                    11\n",
      "SALENTO                      1\n",
      "SAN PEDRO                    1\n",
      "SANTA MARTA                 87\n",
      "SANTA ROSA DE CABAL          1\n",
      "SANTANDER DE QUILICHAO       2\n",
      "SOLEDAD                      1\n",
      "SOPO                         8\n",
      "SUBACHOQUE                   2\n",
      "TABIO                        3\n",
      "TENJO                        2\n",
      "TIMBIO                       4\n",
      "TOCANCIPA                    1\n",
      "TULUA                        4\n",
      "VALLEDUPAR                  48\n",
      "VIJES                        5\n",
      "VILLA RICA                   3\n",
      "VILLAMARIA                  13\n",
      "YUMBO                      113\n",
      "ZARZAL                       6\n",
      "ZIPAQUIRA                    7\n",
      "Name: ESTU_MCPIO_RESIDE, dtype: int64\n",
      "Elementos null/NaN 0\n",
      "__________________\n",
      "Elementos diferentes de null/NaN: 12993\n",
      "__________________\n",
      "(12993,)\n",
      "None\n"
     ]
    }
   ],
   "source": [
    "c = 'ESTU_MCPIO_RESIDE'\n",
    "print(data_2017[c].value_counts().sort_index().index)\n",
    "print(data_2017[c].value_counts().sort_index())\n",
    "print(missing_data(data_2017[c]))"
   ]
  },
  {
   "cell_type": "code",
   "execution_count": 29,
   "metadata": {
    "collapsed": false,
    "scrolled": true
   },
   "outputs": [
    {
     "name": "stdout",
     "output_type": "stream",
     "text": [
      "Int64Index([ 5001,  5129,  5266,  5360,  5380,  5607,  5615,  5631,  8001,\n",
      "             8573,  8634,  8758, 11001, 13001, 17001, 17873, 19001, 19256,\n",
      "            19300, 19455, 19532, 19573, 19698, 19807, 19845, 20001, 23001,\n",
      "            23189, 25099, 25123, 25126, 25175, 25214, 25269, 25286, 25377,\n",
      "            25430, 25473, 25758, 25769, 25785, 25799, 25817, 25899, 44035,\n",
      "            44378, 44430, 47001, 47189, 52001, 52260, 52480, 63001, 63190,\n",
      "            63690, 66001, 66170, 66682, 68001, 68276, 68307, 68418, 68547,\n",
      "            76001, 76100, 76111, 76122, 76126, 76130, 76147, 76246, 76248,\n",
      "            76275, 76306, 76318, 76364, 76400, 76520, 76563, 76622, 76670,\n",
      "            76834, 76869, 76892, 76895, 91001],\n",
      "           dtype='int64')\n",
      "5001      391\n",
      "5129        1\n",
      "5266       89\n",
      "5360        4\n",
      "5380        9\n",
      "5607        3\n",
      "5615        5\n",
      "5631       11\n",
      "8001      673\n",
      "8573       16\n",
      "8634        1\n",
      "8758        1\n",
      "11001    2926\n",
      "13001     128\n",
      "17001     174\n",
      "17873      13\n",
      "19001     521\n",
      "19256       1\n",
      "19300       4\n",
      "19455       1\n",
      "19532      16\n",
      "19573      52\n",
      "19698       2\n",
      "19807       4\n",
      "19845       3\n",
      "20001      48\n",
      "23001      24\n",
      "23189       1\n",
      "25099       1\n",
      "25123       1\n",
      "         ... \n",
      "66170       2\n",
      "66682       1\n",
      "68001      30\n",
      "68276      53\n",
      "68307       1\n",
      "68418       1\n",
      "68547       8\n",
      "76001    5598\n",
      "76100       1\n",
      "76111     245\n",
      "76122       2\n",
      "76126       2\n",
      "76130      45\n",
      "76147      91\n",
      "76246       1\n",
      "76248      69\n",
      "76275       5\n",
      "76306       3\n",
      "76318       2\n",
      "76364     156\n",
      "76400       1\n",
      "76520     463\n",
      "76563      14\n",
      "76622      17\n",
      "76670       1\n",
      "76834       4\n",
      "76869       5\n",
      "76892     113\n",
      "76895       6\n",
      "91001       1\n",
      "Name: ESTU_COD_RESIDE_MCPIO, dtype: int64\n",
      "Elementos null/NaN 0\n",
      "__________________\n",
      "Elementos diferentes de null/NaN: 12993\n",
      "__________________\n",
      "(12993,)\n",
      "None\n"
     ]
    }
   ],
   "source": [
    "c = 'ESTU_COD_RESIDE_MCPIO'\n",
    "print(data_2017[c].value_counts().sort_index().index)\n",
    "print(data_2017[c].value_counts().sort_index())\n",
    "print(missing_data(data_2017[c]))"
   ]
  },
  {
   "cell_type": "code",
   "execution_count": 30,
   "metadata": {
    "collapsed": true
   },
   "outputs": [],
   "source": [
    "data_2017 = data_2017.drop(c, axis=1)"
   ]
  },
  {
   "cell_type": "code",
   "execution_count": 31,
   "metadata": {
    "collapsed": false
   },
   "outputs": [
    {
     "name": "stdout",
     "output_type": "stream",
     "text": [
      "Index(['0', 'Entre 11 y 20', 'Entre 21 y 30', 'Menos de 10', 'Más de 30'], dtype='object')\n",
      "0                11224\n",
      "Entre 11 y 20      296\n",
      "Entre 21 y 30      149\n",
      "Menos de 10        818\n",
      "Más de 30          130\n",
      "Name: ESTU_HORASSEMANATRABAJA, dtype: int64\n",
      "Elementos null/NaN 376\n",
      "__________________\n",
      "Elementos diferentes de null/NaN: 12617\n",
      "__________________\n",
      "(12617,)\n",
      "None\n"
     ]
    }
   ],
   "source": [
    "c = 'ESTU_HORASSEMANATRABAJA'\n",
    "print(data_2017[c].value_counts().sort_index().index)\n",
    "print(data_2017[c].value_counts().sort_index())\n",
    "print(missing_data(data_2017[c]))"
   ]
  },
  {
   "cell_type": "code",
   "execution_count": 32,
   "metadata": {
    "collapsed": false
   },
   "outputs": [
    {
     "name": "stdout",
     "output_type": "stream",
     "text": [
      "cant null antes: 376\n",
      "cant null despues: 1\n",
      "cant null antes: 1\n",
      "cant null despues: 0\n"
     ]
    }
   ],
   "source": [
    "Do_resamples(data_2017, c, str)"
   ]
  },
  {
   "cell_type": "code",
   "execution_count": 33,
   "metadata": {
    "collapsed": false,
    "scrolled": true
   },
   "outputs": [
    {
     "name": "stdout",
     "output_type": "stream",
     "text": [
      "Index(['Educación Profesional Completa', 'Educación Profesional Incompleta',\n",
      "       'Educación Técnica o Tecnológica Completa',\n",
      "       'Educación Técnica o Tecnológica Incompleta', 'Ninguno', 'No Aplica',\n",
      "       'No Sabe', 'Postgrado', 'Primaria Completa', 'Primaria Incompleta',\n",
      "       'Secundaria(Bachillerato) Completa',\n",
      "       'Secundaria(Bachillerato) Incompleta'],\n",
      "      dtype='object')\n",
      "Educación Profesional Completa                4506\n",
      "Educación Profesional Incompleta               577\n",
      "Educación Técnica o Tecnológica Completa       938\n",
      "Educación Técnica o Tecnológica Incompleta     218\n",
      "Ninguno                                         51\n",
      "No Aplica                                      147\n",
      "No Sabe                                        657\n",
      "Postgrado                                     2837\n",
      "Primaria Completa                              204\n",
      "Primaria Incompleta                            241\n",
      "Secundaria(Bachillerato) Completa             1657\n",
      "Secundaria(Bachillerato) Incompleta            613\n",
      "Name: FAMI_EDUCACIONPADRE, dtype: int64\n",
      "Elementos null/NaN 347\n",
      "__________________\n",
      "Elementos diferentes de null/NaN: 12646\n",
      "__________________\n",
      "(12646,)\n",
      "None\n"
     ]
    }
   ],
   "source": [
    "c = 'FAMI_EDUCACIONPADRE'\n",
    "print(data_2017[c].value_counts().sort_index().index)\n",
    "print(data_2017[c].value_counts().sort_index())\n",
    "print(missing_data(data_2017[c]))"
   ]
  },
  {
   "cell_type": "code",
   "execution_count": 34,
   "metadata": {
    "collapsed": false
   },
   "outputs": [
    {
     "name": "stdout",
     "output_type": "stream",
     "text": [
      "cant null antes: 347\n",
      "cant null despues: 0\n"
     ]
    }
   ],
   "source": [
    "Do_resamples(data_2017, c, str)"
   ]
  },
  {
   "cell_type": "code",
   "execution_count": 35,
   "metadata": {
    "collapsed": false,
    "scrolled": true
   },
   "outputs": [
    {
     "name": "stdout",
     "output_type": "stream",
     "text": [
      "Index(['Educación Profesional Completa', 'Educación Profesional Incompleta',\n",
      "       'Educación Técnica o Tecnológica Completa',\n",
      "       'Educación Técnica o Tecnológica Incompleta', 'Ninguno', 'No Aplica',\n",
      "       'No Sabe', 'Postgrado', 'Primaria Completa', 'Primaria Incompleta',\n",
      "       'Secundaria(Bachillerato) Completa',\n",
      "       'Secundaria(Bachillerato) Incompleta'],\n",
      "      dtype='object')\n",
      "Educación Profesional Completa                5201\n",
      "Educación Profesional Incompleta               738\n",
      "Educación Técnica o Tecnológica Completa      1212\n",
      "Educación Técnica o Tecnológica Incompleta     312\n",
      "Ninguno                                         31\n",
      "No Aplica                                       45\n",
      "No Sabe                                        362\n",
      "Postgrado                                     2466\n",
      "Primaria Completa                              141\n",
      "Primaria Incompleta                            164\n",
      "Secundaria(Bachillerato) Completa             1555\n",
      "Secundaria(Bachillerato) Incompleta            427\n",
      "Name: FAMI_EDUCACIONMADRE, dtype: int64\n",
      "Elementos null/NaN 339\n",
      "__________________\n",
      "Elementos diferentes de null/NaN: 12654\n",
      "__________________\n",
      "(12654,)\n",
      "None\n"
     ]
    }
   ],
   "source": [
    "c = 'FAMI_EDUCACIONMADRE'\n",
    "print(data_2017[c].value_counts().sort_index().index)\n",
    "print(data_2017[c].value_counts().sort_index())\n",
    "print(missing_data(data_2017[c]))"
   ]
  },
  {
   "cell_type": "code",
   "execution_count": 36,
   "metadata": {
    "collapsed": false
   },
   "outputs": [
    {
     "name": "stdout",
     "output_type": "stream",
     "text": [
      "cant null antes: 339\n",
      "cant null despues: 1\n",
      "cant null antes: 1\n",
      "cant null despues: 0\n"
     ]
    }
   ],
   "source": [
    "Do_resamples(data_2017, c, str)"
   ]
  },
  {
   "cell_type": "code",
   "execution_count": 37,
   "metadata": {
    "collapsed": false
   },
   "outputs": [
    {
     "name": "stdout",
     "output_type": "stream",
     "text": [
      "Index(['Estrato 1', 'Estrato 2', 'Estrato 3', 'Estrato 4', 'Estrato 5',\n",
      "       'Estrato 6', 'Sin Estrato'],\n",
      "      dtype='object')\n",
      "Estrato 1       252\n",
      "Estrato 2      1170\n",
      "Estrato 3      3139\n",
      "Estrato 4      2861\n",
      "Estrato 5      2538\n",
      "Estrato 6      2594\n",
      "Sin Estrato      77\n",
      "Name: FAMI_ESTRATOVIVIENDA, dtype: int64\n",
      "Elementos null/NaN 362\n",
      "__________________\n",
      "Elementos diferentes de null/NaN: 12631\n",
      "__________________\n",
      "(12631,)\n",
      "None\n"
     ]
    }
   ],
   "source": [
    "c = 'FAMI_ESTRATOVIVIENDA'\n",
    "print(data_2017[c].value_counts().sort_index().index)\n",
    "print(data_2017[c].value_counts().sort_index())\n",
    "print(missing_data(data_2017[c]))"
   ]
  },
  {
   "cell_type": "code",
   "execution_count": 38,
   "metadata": {
    "collapsed": false
   },
   "outputs": [
    {
     "name": "stdout",
     "output_type": "stream",
     "text": [
      "cant null antes: 362\n",
      "cant null despues: 0\n"
     ]
    }
   ],
   "source": [
    "Do_resamples(data_2017, c, str)"
   ]
  },
  {
   "cell_type": "code",
   "execution_count": 39,
   "metadata": {
    "collapsed": false
   },
   "outputs": [
    {
     "name": "stdout",
     "output_type": "stream",
     "text": [
      "Index(['NO', 'SI'], dtype='object')\n",
      "NO      521\n",
      "SI    12127\n",
      "Name: FAMI_TIENEINTERNET, dtype: int64\n",
      "Elementos null/NaN 345\n",
      "__________________\n",
      "Elementos diferentes de null/NaN: 12648\n",
      "__________________\n",
      "(12648,)\n",
      "None\n"
     ]
    }
   ],
   "source": [
    "c = 'FAMI_TIENEINTERNET'\n",
    "print(data_2017[c].value_counts().sort_index().index)\n",
    "print(data_2017[c].value_counts().sort_index())\n",
    "print(missing_data(data_2017[c]))"
   ]
  },
  {
   "cell_type": "code",
   "execution_count": 40,
   "metadata": {
    "collapsed": false
   },
   "outputs": [
    {
     "name": "stdout",
     "output_type": "stream",
     "text": [
      "cant null antes: 345\n",
      "cant null despues: 0\n"
     ]
    }
   ],
   "source": [
    "Do_resamples(data_2017, c, str)"
   ]
  },
  {
   "cell_type": "code",
   "execution_count": 41,
   "metadata": {
    "collapsed": false
   },
   "outputs": [
    {
     "name": "stdout",
     "output_type": "stream",
     "text": [
      "Index(['NO', 'SI'], dtype='object')\n",
      "NO      514\n",
      "SI    12086\n",
      "Name: FAMI_TIENE_SERVICIOTV, dtype: int64\n",
      "Elementos null/NaN 393\n",
      "__________________\n",
      "Elementos diferentes de null/NaN: 12600\n",
      "__________________\n",
      "(12600,)\n",
      "None\n"
     ]
    }
   ],
   "source": [
    "c = 'FAMI_TIENE_SERVICIOTV'\n",
    "print(data_2017[c].value_counts().sort_index().index)\n",
    "print(data_2017[c].value_counts().sort_index())\n",
    "print(missing_data(data_2017[c]))"
   ]
  },
  {
   "cell_type": "code",
   "execution_count": 42,
   "metadata": {
    "collapsed": false
   },
   "outputs": [
    {
     "name": "stdout",
     "output_type": "stream",
     "text": [
      "cant null antes: 393\n",
      "cant null despues: 0\n"
     ]
    }
   ],
   "source": [
    "Do_resamples(data_2017, c, str)"
   ]
  },
  {
   "cell_type": "code",
   "execution_count": 43,
   "metadata": {
    "collapsed": false
   },
   "outputs": [
    {
     "name": "stdout",
     "output_type": "stream",
     "text": [
      "Index(['NO', 'SI'], dtype='object')\n",
      "NO      554\n",
      "SI    12047\n",
      "Name: FAMI_TIENECOMPUTADOR, dtype: int64\n",
      "Elementos null/NaN 392\n",
      "__________________\n",
      "Elementos diferentes de null/NaN: 12601\n",
      "__________________\n",
      "(12601,)\n",
      "None\n"
     ]
    }
   ],
   "source": [
    "c = 'FAMI_TIENECOMPUTADOR'\n",
    "print(data_2017[c].value_counts().sort_index().index)\n",
    "print(data_2017[c].value_counts().sort_index())\n",
    "print(missing_data(data_2017[c]))"
   ]
  },
  {
   "cell_type": "code",
   "execution_count": 44,
   "metadata": {
    "collapsed": false
   },
   "outputs": [
    {
     "name": "stdout",
     "output_type": "stream",
     "text": [
      "cant null antes: 392\n",
      "cant null despues: 0\n"
     ]
    }
   ],
   "source": [
    "Do_resamples(data_2017, c, str)"
   ]
  },
  {
   "cell_type": "code",
   "execution_count": 45,
   "metadata": {
    "collapsed": false
   },
   "outputs": [
    {
     "name": "stdout",
     "output_type": "stream",
     "text": [
      "Index(['NO', 'SI'], dtype='object')\n",
      "NO      547\n",
      "SI    12123\n",
      "Name: FAMI_TIENELAVADORA, dtype: int64\n",
      "Elementos null/NaN 323\n",
      "__________________\n",
      "Elementos diferentes de null/NaN: 12670\n",
      "__________________\n",
      "(12670,)\n",
      "None\n"
     ]
    }
   ],
   "source": [
    "c = 'FAMI_TIENELAVADORA'\n",
    "print(data_2017[c].value_counts().sort_index().index)\n",
    "print(data_2017[c].value_counts().sort_index())\n",
    "print(missing_data(data_2017[c]))"
   ]
  },
  {
   "cell_type": "code",
   "execution_count": 46,
   "metadata": {
    "collapsed": false
   },
   "outputs": [
    {
     "name": "stdout",
     "output_type": "stream",
     "text": [
      "cant null antes: 323\n",
      "cant null despues: 0\n"
     ]
    }
   ],
   "source": [
    "Do_resamples(data_2017, c, str)"
   ]
  },
  {
   "cell_type": "code",
   "execution_count": 47,
   "metadata": {
    "collapsed": false
   },
   "outputs": [
    {
     "name": "stdout",
     "output_type": "stream",
     "text": [
      "Index(['NO', 'SI'], dtype='object')\n",
      "NO     1563\n",
      "SI    11100\n",
      "Name: FAMI_TIENEHORNOMICROOGAS, dtype: int64\n",
      "Elementos null/NaN 330\n",
      "__________________\n",
      "Elementos diferentes de null/NaN: 12663\n",
      "__________________\n",
      "(12663,)\n",
      "None\n"
     ]
    }
   ],
   "source": [
    "c = 'FAMI_TIENEHORNOMICROOGAS'\n",
    "print(data_2017[c].value_counts().sort_index().index)\n",
    "print(data_2017[c].value_counts().sort_index())\n",
    "print(missing_data(data_2017[c]))"
   ]
  },
  {
   "cell_type": "code",
   "execution_count": 48,
   "metadata": {
    "collapsed": false
   },
   "outputs": [
    {
     "name": "stdout",
     "output_type": "stream",
     "text": [
      "cant null antes: 330\n",
      "cant null despues: 0\n"
     ]
    }
   ],
   "source": [
    "Do_resamples(data_2017, c, str)"
   ]
  },
  {
   "cell_type": "code",
   "execution_count": 49,
   "metadata": {
    "collapsed": false
   },
   "outputs": [
    {
     "name": "stdout",
     "output_type": "stream",
     "text": [
      "Index(['NO', 'SI'], dtype='object')\n",
      "NO    2695\n",
      "SI    9955\n",
      "Name: FAMI_TIENEAUTOMOVIL, dtype: int64\n",
      "Elementos null/NaN 343\n",
      "__________________\n",
      "Elementos diferentes de null/NaN: 12650\n",
      "__________________\n",
      "(12650,)\n",
      "None\n"
     ]
    }
   ],
   "source": [
    "c = 'FAMI_TIENEAUTOMOVIL'\n",
    "print(data_2017[c].value_counts().sort_index().index)\n",
    "print(data_2017[c].value_counts().sort_index())\n",
    "print(missing_data(data_2017[c]))"
   ]
  },
  {
   "cell_type": "code",
   "execution_count": 50,
   "metadata": {
    "collapsed": false
   },
   "outputs": [
    {
     "name": "stdout",
     "output_type": "stream",
     "text": [
      "cant null antes: 343\n",
      "cant null despues: 0\n"
     ]
    }
   ],
   "source": [
    "Do_resamples(data_2017, c, str)"
   ]
  },
  {
   "cell_type": "code",
   "execution_count": 51,
   "metadata": {
    "collapsed": false
   },
   "outputs": [
    {
     "name": "stdout",
     "output_type": "stream",
     "text": [
      "Index(['NO', 'SI'], dtype='object')\n",
      "NO    9518\n",
      "SI    3110\n",
      "Name: FAMI_TIENEMOTOCICLETA, dtype: int64\n",
      "Elementos null/NaN 365\n",
      "__________________\n",
      "Elementos diferentes de null/NaN: 12628\n",
      "__________________\n",
      "(12628,)\n",
      "None\n"
     ]
    }
   ],
   "source": [
    "c = 'FAMI_TIENEMOTOCICLETA'\n",
    "print(data_2017[c].value_counts().sort_index().index)\n",
    "print(data_2017[c].value_counts().sort_index())\n",
    "print(missing_data(data_2017[c]))"
   ]
  },
  {
   "cell_type": "code",
   "execution_count": 52,
   "metadata": {
    "collapsed": false
   },
   "outputs": [
    {
     "name": "stdout",
     "output_type": "stream",
     "text": [
      "cant null antes: 365\n",
      "cant null despues: 0\n"
     ]
    }
   ],
   "source": [
    "Do_resamples(data_2017, c, str)"
   ]
  },
  {
   "cell_type": "code",
   "execution_count": 53,
   "metadata": {
    "collapsed": false
   },
   "outputs": [
    {
     "name": "stdout",
     "output_type": "stream",
     "text": [
      "Index(['NO', 'SI'], dtype='object')\n",
      "NO    4276\n",
      "SI    8370\n",
      "Name: FAMI_TIENE_CONSOLAVIDEOJUEGOS, dtype: int64\n",
      "Elementos null/NaN 347\n",
      "__________________\n",
      "Elementos diferentes de null/NaN: 12646\n",
      "__________________\n",
      "(12646,)\n",
      "None\n"
     ]
    }
   ],
   "source": [
    "c = 'FAMI_TIENE_CONSOLAVIDEOJUEGOS'\n",
    "print(data_2017[c].value_counts().sort_index().index)\n",
    "print(data_2017[c].value_counts().sort_index())\n",
    "print(missing_data(data_2017[c]))"
   ]
  },
  {
   "cell_type": "code",
   "execution_count": 54,
   "metadata": {
    "collapsed": false
   },
   "outputs": [
    {
     "name": "stdout",
     "output_type": "stream",
     "text": [
      "cant null antes: 347\n",
      "cant null despues: 0\n"
     ]
    }
   ],
   "source": [
    "Do_resamples(data_2017, c, str)"
   ]
  },
  {
   "cell_type": "code",
   "execution_count": 55,
   "metadata": {
    "collapsed": false
   },
   "outputs": [
    {
     "name": "stdout",
     "output_type": "stream",
     "text": [
      "Index(['0 A 10 LIBROS', '11 A 25 LIBROS', '26 A 100 LIBROS',\n",
      "       'MÁS DE 100 LIBROS'],\n",
      "      dtype='object')\n",
      "0 A 10 LIBROS        1492\n",
      "11 A 25 LIBROS       2473\n",
      "26 A 100 LIBROS      4581\n",
      "MÁS DE 100 LIBROS    4115\n",
      "Name: FAMI_NUMLIBROS, dtype: int64\n",
      "Elementos null/NaN 332\n",
      "__________________\n",
      "Elementos diferentes de null/NaN: 12661\n",
      "__________________\n",
      "(12661,)\n",
      "None\n"
     ]
    }
   ],
   "source": [
    "c = 'FAMI_NUMLIBROS'\n",
    "print(data_2017[c].value_counts().sort_index().index)\n",
    "print(data_2017[c].value_counts().sort_index())\n",
    "print(missing_data(data_2017[c]))"
   ]
  },
  {
   "cell_type": "code",
   "execution_count": 56,
   "metadata": {
    "collapsed": false
   },
   "outputs": [
    {
     "name": "stdout",
     "output_type": "stream",
     "text": [
      "cant null antes: 332\n",
      "cant null despues: 0\n"
     ]
    }
   ],
   "source": [
    "Do_resamples(data_2017, c, str)"
   ]
  },
  {
   "cell_type": "code",
   "execution_count": 57,
   "metadata": {
    "collapsed": false
   },
   "outputs": [
    {
     "name": "stdout",
     "output_type": "stream",
     "text": [
      "Index(['30 minutos o menos', 'Entre 1 y 2 horas', 'Entre 30 y 60 minutos',\n",
      "       'Más de 2 horas', 'No leo por entretenimiento'],\n",
      "      dtype='object')\n",
      "30 minutos o menos            4069\n",
      "Entre 1 y 2 horas             1588\n",
      "Entre 30 y 60 minutos         3602\n",
      "Más de 2 horas                 763\n",
      "No leo por entretenimiento    2643\n",
      "Name: ESTU_DEDICACIONLECTURADIARIA, dtype: int64\n",
      "Elementos null/NaN 328\n",
      "__________________\n",
      "Elementos diferentes de null/NaN: 12665\n",
      "__________________\n",
      "(12665,)\n",
      "None\n"
     ]
    }
   ],
   "source": [
    "c = 'ESTU_DEDICACIONLECTURADIARIA'\n",
    "print(data_2017[c].value_counts().sort_index().index)\n",
    "print(data_2017[c].value_counts().sort_index())\n",
    "print(missing_data(data_2017[c]))"
   ]
  },
  {
   "cell_type": "code",
   "execution_count": 58,
   "metadata": {
    "collapsed": false
   },
   "outputs": [
    {
     "name": "stdout",
     "output_type": "stream",
     "text": [
      "cant null antes: 328\n",
      "cant null despues: 1\n",
      "cant null antes: 1\n",
      "cant null despues: 0\n"
     ]
    }
   ],
   "source": [
    "Do_resamples(data_2017, c, str)"
   ]
  },
  {
   "cell_type": "code",
   "execution_count": 59,
   "metadata": {
    "collapsed": false
   },
   "outputs": [
    {
     "name": "stdout",
     "output_type": "stream",
     "text": [
      "Index(['1 o 2 veces por semana', '3 a 5 veces por semana',\n",
      "       'Nunca o rara vez comemos eso', 'Todos o casi todos los días'],\n",
      "      dtype='object')\n",
      "1 o 2 veces por semana          1724\n",
      "3 a 5 veces por semana          2478\n",
      "Nunca o rara vez comemos eso     424\n",
      "Todos o casi todos los días     8036\n",
      "Name: FAMI_COME_LECHEDERIVADOS, dtype: int64\n",
      "Elementos null/NaN 331\n",
      "__________________\n",
      "Elementos diferentes de null/NaN: 12662\n",
      "__________________\n",
      "(12662,)\n",
      "None\n"
     ]
    }
   ],
   "source": [
    "c = 'FAMI_COME_LECHEDERIVADOS'\n",
    "print(data_2017[c].value_counts().sort_index().index)\n",
    "print(data_2017[c].value_counts().sort_index())\n",
    "print(missing_data(data_2017[c]))"
   ]
  },
  {
   "cell_type": "code",
   "execution_count": 60,
   "metadata": {
    "collapsed": false
   },
   "outputs": [
    {
     "name": "stdout",
     "output_type": "stream",
     "text": [
      "cant null antes: 331\n",
      "cant null despues: 0\n"
     ]
    }
   ],
   "source": [
    "Do_resamples(data_2017, c, str)"
   ]
  },
  {
   "cell_type": "code",
   "execution_count": 61,
   "metadata": {
    "collapsed": false
   },
   "outputs": [
    {
     "name": "stdout",
     "output_type": "stream",
     "text": [
      "Index(['1 o 2 veces por semana', '3 a 5 veces por semana',\n",
      "       'Nunca o rara vez comemos eso', 'Todos o casi todos los dias'],\n",
      "      dtype='object')\n",
      "1 o 2 veces por semana           923\n",
      "3 a 5 veces por semana          2474\n",
      "Nunca o rara vez comemos eso     177\n",
      "Todos o casi todos los dias     9069\n",
      "Name: FAMI_COME_CARNEPESCADOHUEVO, dtype: int64\n",
      "Elementos null/NaN 350\n",
      "__________________\n",
      "Elementos diferentes de null/NaN: 12643\n",
      "__________________\n",
      "(12643,)\n",
      "None\n"
     ]
    }
   ],
   "source": [
    "c = 'FAMI_COME_CARNEPESCADOHUEVO'\n",
    "print(data_2017[c].value_counts().sort_index().index)\n",
    "print(data_2017[c].value_counts().sort_index())\n",
    "print(missing_data(data_2017[c]))"
   ]
  },
  {
   "cell_type": "code",
   "execution_count": 62,
   "metadata": {
    "collapsed": false
   },
   "outputs": [
    {
     "name": "stdout",
     "output_type": "stream",
     "text": [
      "cant null antes: 350\n",
      "cant null despues: 0\n"
     ]
    }
   ],
   "source": [
    "Do_resamples(data_2017, c, str)"
   ]
  },
  {
   "cell_type": "code",
   "execution_count": 63,
   "metadata": {
    "collapsed": false
   },
   "outputs": [
    {
     "name": "stdout",
     "output_type": "stream",
     "text": [
      "Index(['1 o 2 veces por semana', '3 a 5 veces por semana',\n",
      "       'Nunca o rara vez comemos eso', 'Todos o casi todos los días'],\n",
      "      dtype='object')\n",
      "1 o 2 veces por semana          2835\n",
      "3 a 5 veces por semana          4349\n",
      "Nunca o rara vez comemos eso     582\n",
      "Todos o casi todos los días     4884\n",
      "Name: FAMI_COME_CEREALFRUTOSLEGUMBRE, dtype: int64\n",
      "Elementos null/NaN 343\n",
      "__________________\n",
      "Elementos diferentes de null/NaN: 12650\n",
      "__________________\n",
      "(12650,)\n",
      "None\n"
     ]
    }
   ],
   "source": [
    "c = 'FAMI_COME_CEREALFRUTOSLEGUMBRE'\n",
    "print(data_2017[c].value_counts().sort_index().index)\n",
    "print(data_2017[c].value_counts().sort_index())\n",
    "print(missing_data(data_2017[c]))"
   ]
  },
  {
   "cell_type": "code",
   "execution_count": 64,
   "metadata": {
    "collapsed": false
   },
   "outputs": [
    {
     "name": "stdout",
     "output_type": "stream",
     "text": [
      "cant null antes: 343\n",
      "cant null despues: 0\n"
     ]
    }
   ],
   "source": [
    "Do_resamples(data_2017, c, str)"
   ]
  },
  {
   "cell_type": "code",
   "execution_count": 65,
   "metadata": {
    "collapsed": false,
    "scrolled": true
   },
   "outputs": [
    {
     "name": "stdout",
     "output_type": "stream",
     "text": [
      "Index(['Es agricultor, pesquero o jornalero',\n",
      "       'Es dueño de un negocio grande, tiene un cargo de nivel directivo o gerencial',\n",
      "       'Es dueño de un negocio pequeño (tiene pocos empleados o no tiene, por ejemplo tienda, papelería, etc.)',\n",
      "       'Es operario de máquinas o conduce vehículos (taxita, chofer)',\n",
      "       'Es vendedor o trabaja en atención al público', 'No Sabe', 'No aplica',\n",
      "       'Pensionado',\n",
      "       'Tiene un trabajo de tipo auxiliar administrativo (por ejemplo, secretario o asistente)',\n",
      "       'Trabaja como personal de limpieza, mantenimiento, seguridad o construcción',\n",
      "       'Trabaja como profesional (por ejemplo médico, abogado, ingeniero)',\n",
      "       'Trabaja en el hogar, no trabaja o estudia',\n",
      "       'Trabaja por cuenta propia (por ejemplo plomero, electricista)'],\n",
      "      dtype='object')\n",
      "Es agricultor, pesquero o jornalero                                                                        154\n",
      "Es dueño de un negocio grande, tiene un cargo de nivel directivo o gerencial                              2013\n",
      "Es dueño de un negocio pequeño (tiene pocos empleados o no tiene, por ejemplo tienda, papelería, etc.)     936\n",
      "Es operario de máquinas o conduce vehículos (taxita, chofer)                                               551\n",
      "Es vendedor o trabaja en atención al público                                                               535\n",
      "No Sabe                                                                                                    697\n",
      "No aplica                                                                                                  762\n",
      "Pensionado                                                                                                 421\n",
      "Tiene un trabajo de tipo auxiliar administrativo (por ejemplo, secretario o asistente)                     497\n",
      "Trabaja como personal de limpieza, mantenimiento, seguridad o construcción                                 192\n",
      "Trabaja como profesional (por ejemplo médico, abogado, ingeniero)                                         4812\n",
      "Trabaja en el hogar, no trabaja o estudia                                                                  351\n",
      "Trabaja por cuenta propia (por ejemplo plomero, electricista)                                              671\n",
      "Name: FAMI_TRABAJOLABOR_PADRE, dtype: int64\n",
      "Elementos null/NaN 401\n",
      "__________________\n",
      "Elementos diferentes de null/NaN: 12592\n",
      "__________________\n",
      "(12592,)\n",
      "None\n"
     ]
    }
   ],
   "source": [
    "c = 'FAMI_TRABAJOLABOR_PADRE'\n",
    "print(data_2017[c].value_counts().sort_index().index)\n",
    "print(data_2017[c].value_counts().sort_index())\n",
    "print(missing_data(data_2017[c]))"
   ]
  },
  {
   "cell_type": "code",
   "execution_count": 66,
   "metadata": {
    "collapsed": false
   },
   "outputs": [
    {
     "name": "stdout",
     "output_type": "stream",
     "text": [
      "cant null antes: 401\n",
      "cant null despues: 1\n",
      "cant null antes: 1\n",
      "cant null despues: 0\n"
     ]
    }
   ],
   "source": [
    "Do_resamples(data_2017, c, str)"
   ]
  },
  {
   "cell_type": "code",
   "execution_count": 67,
   "metadata": {
    "collapsed": false,
    "scrolled": true
   },
   "outputs": [
    {
     "name": "stdout",
     "output_type": "stream",
     "text": [
      "Index(['Es agricultor, pesquero o jornalero',\n",
      "       'Es dueño de un negocio grande, tiene un cargo de nivel directivo o gerencial',\n",
      "       'Es dueño de un negocio pequeño (tiene pocos empleados o no tiene, por ejemplo tienda, papelería, etc.)',\n",
      "       'Es operario de máquinas o conduce vehículos (taxita, chofer)',\n",
      "       'Es vendedor o trabaja en atención al público', 'No aplica', 'No sabe',\n",
      "       'Pensionado',\n",
      "       'Tiene un trabajo de tipo auxiliar administrativo (por ejemplo, secretario o asistente)',\n",
      "       'Trabaja como personal de limpieza, mantenimiento, seguridad o construcción',\n",
      "       'Trabaja como profesional (por ejemplo médico, abogado, ingeniero)',\n",
      "       'Trabaja en el hogar, no trabaja o estudia',\n",
      "       'Trabaja por cuenta propia (por ejemplo plomero, electricista)'],\n",
      "      dtype='object')\n",
      "Es agricultor, pesquero o jornalero                                                                         24\n",
      "Es dueño de un negocio grande, tiene un cargo de nivel directivo o gerencial                              1101\n",
      "Es dueño de un negocio pequeño (tiene pocos empleados o no tiene, por ejemplo tienda, papelería, etc.)    1032\n",
      "Es operario de máquinas o conduce vehículos (taxita, chofer)                                                69\n",
      "Es vendedor o trabaja en atención al público                                                               650\n",
      "No aplica                                                                                                  360\n",
      "No sabe                                                                                                    237\n",
      "Pensionado                                                                                                 164\n",
      "Tiene un trabajo de tipo auxiliar administrativo (por ejemplo, secretario o asistente)                    1331\n",
      "Trabaja como personal de limpieza, mantenimiento, seguridad o construcción                                 124\n",
      "Trabaja como profesional (por ejemplo médico, abogado, ingeniero)                                         4162\n",
      "Trabaja en el hogar, no trabaja o estudia                                                                 2987\n",
      "Trabaja por cuenta propia (por ejemplo plomero, electricista)                                              368\n",
      "Name: FAMI_TRABAJOLABOR_MADRE, dtype: int64\n",
      "Elementos null/NaN 384\n",
      "__________________\n",
      "Elementos diferentes de null/NaN: 12609\n",
      "__________________\n",
      "(12609,)\n",
      "None\n"
     ]
    }
   ],
   "source": [
    "c = 'FAMI_TRABAJOLABOR_MADRE'\n",
    "print(data_2017[c].value_counts().sort_index().index)\n",
    "print(data_2017[c].value_counts().sort_index())\n",
    "print(missing_data(data_2017[c]))"
   ]
  },
  {
   "cell_type": "code",
   "execution_count": 68,
   "metadata": {
    "collapsed": false
   },
   "outputs": [
    {
     "name": "stdout",
     "output_type": "stream",
     "text": [
      "cant null antes: 384\n",
      "cant null despues: 0\n"
     ]
    }
   ],
   "source": [
    "Do_resamples(data_2017, c, str)"
   ]
  },
  {
   "cell_type": "code",
   "execution_count": 69,
   "metadata": {
    "collapsed": false
   },
   "outputs": [
    {
     "name": "stdout",
     "output_type": "stream",
     "text": [
      "Index(['1 a 2', '3 a 4', '5 a 6', '7 a 8', '9 o más'], dtype='object')\n",
      "1 a 2      1115\n",
      "3 a 4      8082\n",
      "5 a 6      3000\n",
      "7 a 8       333\n",
      "9 o más     103\n",
      "Name: FAMI_PERSONASHOGAR, dtype: int64\n",
      "Elementos null/NaN 360\n",
      "__________________\n",
      "Elementos diferentes de null/NaN: 12633\n",
      "__________________\n",
      "(12633,)\n",
      "None\n"
     ]
    }
   ],
   "source": [
    "c = 'FAMI_PERSONASHOGAR'\n",
    "print(data_2017[c].value_counts().sort_index().index)\n",
    "print(data_2017[c].value_counts().sort_index())\n",
    "print(missing_data(data_2017[c]))"
   ]
  },
  {
   "cell_type": "code",
   "execution_count": 70,
   "metadata": {
    "collapsed": false
   },
   "outputs": [
    {
     "name": "stdout",
     "output_type": "stream",
     "text": [
      "cant null antes: 360\n",
      "cant null despues: 1\n",
      "cant null antes: 1\n",
      "cant null despues: 0\n"
     ]
    }
   ],
   "source": [
    "Do_resamples(data_2017, c, str)"
   ]
  },
  {
   "cell_type": "code",
   "execution_count": 71,
   "metadata": {
    "collapsed": false
   },
   "outputs": [
    {
     "name": "stdout",
     "output_type": "stream",
     "text": [
      "Index(['1', '2', '3', '4', '5', '6 o más'], dtype='object')\n",
      "1           264\n",
      "2          2931\n",
      "3          5915\n",
      "4          2549\n",
      "5           713\n",
      "6 o más     275\n",
      "Name: FAMI_CUARTOSHOGAR, dtype: int64\n",
      "Elementos null/NaN 346\n",
      "__________________\n",
      "Elementos diferentes de null/NaN: 12647\n",
      "__________________\n",
      "(12647,)\n",
      "None\n"
     ]
    }
   ],
   "source": [
    "c = 'FAMI_CUARTOSHOGAR'\n",
    "print(data_2017[c].value_counts().sort_index().index)\n",
    "print(data_2017[c].value_counts().sort_index())\n",
    "print(missing_data(data_2017[c]))"
   ]
  },
  {
   "cell_type": "code",
   "execution_count": 72,
   "metadata": {
    "collapsed": false
   },
   "outputs": [
    {
     "name": "stdout",
     "output_type": "stream",
     "text": [
      "cant null antes: 346\n",
      "cant null despues: 0\n"
     ]
    }
   ],
   "source": [
    "Do_resamples(data_2017, c, str)"
   ]
  },
  {
   "cell_type": "code",
   "execution_count": 136,
   "metadata": {
    "collapsed": false
   },
   "outputs": [
    {
     "name": "stdout",
     "output_type": "stream",
     "text": [
      "Index(['30 minutos o menos', 'Entre 1 y 3 horas', 'Entre 30 y 60 minutos',\n",
      "       'Más de 3 horas', 'No navega en internet'],\n",
      "      dtype='object')\n",
      "30 minutos o menos       1001\n",
      "Entre 1 y 3 horas        4775\n",
      "Entre 30 y 60 minutos    2604\n",
      "Más de 3 horas           3904\n",
      "No navega en internet     154\n",
      "Name: ESTU_DEDICACIONINTERNET, dtype: int64\n",
      "Elementos null/NaN 214\n",
      "__________________\n",
      "Elementos diferentes de null/NaN: 12438\n",
      "__________________\n",
      "(12438,)\n",
      "None\n"
     ]
    }
   ],
   "source": [
    "c = 'ESTU_DEDICACIONINTERNET'\n",
    "print(data_2017[c].value_counts().sort_index().index)\n",
    "print(data_2017[c].value_counts().sort_index())\n",
    "print(missing_data(data_2017[c]))"
   ]
  },
  {
   "cell_type": "code",
   "execution_count": 137,
   "metadata": {
    "collapsed": false
   },
   "outputs": [
    {
     "name": "stdout",
     "output_type": "stream",
     "text": [
      "cant null antes: 214\n",
      "cant null despues: 0\n"
     ]
    }
   ],
   "source": [
    "Do_resamples(data_2017, c, str)"
   ]
  },
  {
   "cell_type": "code",
   "execution_count": 74,
   "metadata": {
    "collapsed": false
   },
   "outputs": [
    {
     "name": "stdout",
     "output_type": "stream",
     "text": [
      "Index(['No', 'Si, en efectivo', 'Si, en efectivo y especie', 'Si, en especie'], dtype='object')\n",
      "No                           11189\n",
      "Si, en efectivo               1124\n",
      "Si, en efectivo y especie      123\n",
      "Si, en especie                 115\n",
      "Name: ESTU_TIPOREMUNERACION, dtype: int64\n",
      "Elementos null/NaN 442\n",
      "__________________\n",
      "Elementos diferentes de null/NaN: 12551\n",
      "__________________\n",
      "(12551,)\n",
      "None\n"
     ]
    }
   ],
   "source": [
    "c = 'ESTU_TIPOREMUNERACION'\n",
    "print(data_2017[c].value_counts().sort_index().index)\n",
    "print(data_2017[c].value_counts().sort_index())\n",
    "print(missing_data(data_2017[c]))"
   ]
  },
  {
   "cell_type": "code",
   "execution_count": 75,
   "metadata": {
    "collapsed": false
   },
   "outputs": [
    {
     "name": "stdout",
     "output_type": "stream",
     "text": [
      "cant null antes: 442\n",
      "cant null despues: 0\n"
     ]
    }
   ],
   "source": [
    "Do_resamples(data_2017, c, str)"
   ]
  },
  {
   "cell_type": "code",
   "execution_count": 76,
   "metadata": {
    "collapsed": false
   },
   "outputs": [
    {
     "name": "stdout",
     "output_type": "stream",
     "text": [
      "Index(['Igual', 'Mejor', 'Peor'], dtype='object')\n",
      "Igual    7693\n",
      "Mejor    3576\n",
      "Peor     1360\n",
      "Name: FAMI_SITUACION_ECONOMICA, dtype: int64\n",
      "Elementos null/NaN 364\n",
      "__________________\n",
      "Elementos diferentes de null/NaN: 12629\n",
      "__________________\n",
      "(12629,)\n",
      "None\n"
     ]
    }
   ],
   "source": [
    "c = 'FAMI_SITUACION_ECONOMICA'\n",
    "print(data_2017[c].value_counts().sort_index().index)\n",
    "print(data_2017[c].value_counts().sort_index())\n",
    "print(missing_data(data_2017[c]))"
   ]
  },
  {
   "cell_type": "code",
   "execution_count": 77,
   "metadata": {
    "collapsed": false
   },
   "outputs": [
    {
     "name": "stdout",
     "output_type": "stream",
     "text": [
      "cant null antes: 364\n",
      "cant null despues: 0\n"
     ]
    }
   ],
   "source": [
    "Do_resamples(data_2017, c, str)"
   ]
  },
  {
   "cell_type": "code",
   "execution_count": 78,
   "metadata": {
    "collapsed": false,
    "scrolled": true
   },
   "outputs": [
    {
     "name": "stdout",
     "output_type": "stream",
     "text": [
      "Int64Index([176520007467, 305001000077, 305001003688, 305001003769,\n",
      "            305001004668, 305001010781, 305001015503, 305001019681,\n",
      "            305001021163, 305380019472,\n",
      "            ...\n",
      "            476001038251, 476130000571, 476248000478, 476520003791,\n",
      "            476520006324, 476520007207, 476892099710, 476892099728,\n",
      "            476892100092, 625214000001],\n",
      "           dtype='int64', length=349)\n",
      "176520007467     16\n",
      "305001000077     29\n",
      "305001003688    103\n",
      "305001003769     56\n",
      "305001004668     47\n",
      "305001010781     53\n",
      "305001015503      1\n",
      "305001019681     69\n",
      "305001021163     26\n",
      "305380019472     69\n",
      "305631000121     34\n",
      "308001000122     13\n",
      "308001000882     63\n",
      "308001004209     85\n",
      "308001007615     38\n",
      "308001011353     22\n",
      "308001012805      3\n",
      "308001012813     23\n",
      "308001013054     26\n",
      "308001073952     34\n",
      "308001074771     10\n",
      "308001074789     24\n",
      "308001075220     16\n",
      "308001075645     10\n",
      "308001077745     49\n",
      "308001101153     66\n",
      "308573000026     56\n",
      "308573000450      8\n",
      "308573074895     20\n",
      "308573074909     75\n",
      "               ... \n",
      "425175001183      5\n",
      "425175032127      7\n",
      "425175032208     20\n",
      "425175032328     13\n",
      "425175032351     33\n",
      "425175032402     16\n",
      "425175032470     14\n",
      "425175032674     69\n",
      "425214000203     32\n",
      "425377000529     35\n",
      "425377076711     10\n",
      "425758800009     15\n",
      "425799000459     17\n",
      "447001004284     39\n",
      "463690000443     51\n",
      "466001005641     10\n",
      "466001006826      9\n",
      "476001005957     23\n",
      "476001029180     13\n",
      "476001029953     31\n",
      "476001038251     36\n",
      "476130000571     48\n",
      "476248000478     78\n",
      "476520003791      9\n",
      "476520006324     13\n",
      "476520007207     91\n",
      "476892099710     16\n",
      "476892099728     11\n",
      "476892100092      4\n",
      "625214000001     22\n",
      "Name: COLE_COD_DANE_ESTABLECIMIENTO, dtype: int64\n",
      "Elementos null/NaN 0\n",
      "__________________\n",
      "Elementos diferentes de null/NaN: 12993\n",
      "__________________\n",
      "(12993,)\n",
      "None\n"
     ]
    }
   ],
   "source": [
    "c = 'COLE_COD_DANE_ESTABLECIMIENTO'\n",
    "print(data_2017[c].value_counts().sort_index().index)\n",
    "print(data_2017[c].value_counts().sort_index())\n",
    "print(missing_data(data_2017[c]))"
   ]
  },
  {
   "cell_type": "code",
   "execution_count": 79,
   "metadata": {
    "collapsed": false,
    "scrolled": true
   },
   "outputs": [
    {
     "name": "stdout",
     "output_type": "stream",
     "text": [
      "Int64Index([   182,    372,    596,   2451,   3046,   3327,   3350,   3418,\n",
      "              3459,   4234,\n",
      "            ...\n",
      "            190744, 190991, 197939, 197947, 199273, 199711, 595983, 628230,\n",
      "            663120, 663617],\n",
      "           dtype='int64', length=350)\n",
      "182       103\n",
      "372        56\n",
      "596        47\n",
      "2451       34\n",
      "3046       63\n",
      "3327       10\n",
      "3350       13\n",
      "3418       49\n",
      "3459       85\n",
      "4234       47\n",
      "6023       93\n",
      "7013       57\n",
      "7070       51\n",
      "7088       33\n",
      "11262      73\n",
      "11288      94\n",
      "16667      60\n",
      "16691     136\n",
      "16709      62\n",
      "16733      55\n",
      "16741      78\n",
      "16766      36\n",
      "16774      91\n",
      "16824      18\n",
      "16832      46\n",
      "16873      14\n",
      "16881      17\n",
      "16956      29\n",
      "16972      71\n",
      "16980     130\n",
      "         ... \n",
      "156604     69\n",
      "156638     11\n",
      "164145     14\n",
      "164152     10\n",
      "164228     33\n",
      "164574      9\n",
      "168864      3\n",
      "169466     13\n",
      "169615     25\n",
      "170621     13\n",
      "177089     33\n",
      "177196      6\n",
      "177469     63\n",
      "177766     10\n",
      "178038     15\n",
      "178202     18\n",
      "178236     15\n",
      "179226     19\n",
      "179358     75\n",
      "179366      4\n",
      "190744      9\n",
      "190991     38\n",
      "197939     18\n",
      "197947     12\n",
      "199273     10\n",
      "199711      8\n",
      "595983     16\n",
      "628230     21\n",
      "663120      9\n",
      "663617      9\n",
      "Name: COLE_CODIGO_ICFES, dtype: int64\n",
      "Elementos null/NaN 0\n",
      "__________________\n",
      "Elementos diferentes de null/NaN: 12993\n",
      "__________________\n",
      "(12993,)\n",
      "None\n"
     ]
    }
   ],
   "source": [
    "c = 'COLE_CODIGO_ICFES'\n",
    "print(data_2017[c].value_counts().sort_index().index)\n",
    "print(data_2017[c].value_counts().sort_index())\n",
    "print(missing_data(data_2017[c]))"
   ]
  },
  {
   "cell_type": "code",
   "execution_count": 80,
   "metadata": {
    "collapsed": false
   },
   "outputs": [
    {
     "name": "stdout",
     "output_type": "stream",
     "text": [
      "cant null antes: 206\n",
      "cant null despues: 0\n"
     ]
    }
   ],
   "source": [
    "for i in data_2017[c].value_counts().sort_index().index:\n",
    "    if len(str(i)) < 4:\n",
    "        data_2017[c] = data_2017[c].replace(i, np.nan)\n",
    "        \n",
    "Do_resamples(data_2017, c, int)"
   ]
  },
  {
   "cell_type": "code",
   "execution_count": 81,
   "metadata": {
    "collapsed": false,
    "scrolled": true
   },
   "outputs": [
    {
     "name": "stdout",
     "output_type": "stream",
     "text": [
      "Index(['ACADE MILIT JOAQUÍN DE CAICEDO Y CUERO',\n",
      "       'ACADEMIA GENERAL JOSE MARIA CABAL',\n",
      "       'ACADEMIA MILIT CORONEL MIGUEL CABAL BARONA', 'ALAS COLEGIO',\n",
      "       'AMERICAN SCHOOL', 'ASOCIACION COLEGIO GRANADINO',\n",
      "       'ASPAEN - GIMNASIO LOS ALCAZARES', 'ASPAEN COLEGIO JUANAMBÚ',\n",
      "       'ASPAEN GIMNASIO CARTAGENA', 'ASPAEN GIMNASIO CARTAGENA DE INDIAS',\n",
      "       ...\n",
      "       'LICEO SUPERIOR JUAN PABLO II', 'LICEO TECNICO COMERCIAL AVANCEMOS',\n",
      "       'NUEVO GIMNASIO CRISTIANO', 'REAL COL SAN FRANCISCO DE ASIS',\n",
      "       'SAINT GEORGE SCHOOL - SAN JORGE', 'SANTA  MARIA STELLA MARIS',\n",
      "       'SANTA MARIANA DE JESÚS', 'SEM DE CRISTO SACERDOTE',\n",
      "       'SEMINARIO MENOR ARQUIDIOCESANO', 'VERNOT SCHOOL'],\n",
      "      dtype='object', length=348)\n",
      "ACADE MILIT JOAQUÍN DE CAICEDO Y CUERO             14\n",
      "ACADEMIA GENERAL JOSE MARIA CABAL                  12\n",
      "ACADEMIA MILIT CORONEL MIGUEL CABAL BARONA         13\n",
      "ALAS COLEGIO                                       18\n",
      "AMERICAN SCHOOL                                    24\n",
      "ASOCIACION COLEGIO GRANADINO                       42\n",
      "ASPAEN - GIMNASIO LOS ALCAZARES                    34\n",
      "ASPAEN COLEGIO JUANAMBÚ                            25\n",
      "ASPAEN GIMNASIO CARTAGENA                          27\n",
      "ASPAEN GIMNASIO CARTAGENA DE INDIAS                28\n",
      "ASPAEN GIMNASIO IRAGUA                             62\n",
      "ASPAEN GIMNASIO LOS CORALES                         3\n",
      "ASPAEN LICEO TACURÍ                                25\n",
      "ASPAEN-GIMNASIO LOS CEREZOS                        14\n",
      "BOSQUECITO ENCANTADO Y COLEGIO EL BOSQUE            6\n",
      "CENT EDUC Y CULT ESPAÑOL REYES CATOLICOS           53\n",
      "CENT ESTUDIOS OCUPACIONALES CEO                     5\n",
      "CENTRO DE EDUCACION INDIVIDUALIZADA                 4\n",
      "CENTRO DOCENTE SANTA ANITA                         14\n",
      "CENTRO DOCENTE TOMAS CIPRIANO  MOSQUERA            13\n",
      "CENTRO EDUCATIVO DEL CAUCA                          8\n",
      "CENTRO EDUCATIVO ETIEVAN -  COLEGIO ENCUENTROS     18\n",
      "CENTRO EDUCATIVO INSCAT                            36\n",
      "COL  MONTESSORI BRITISH SCHOOL                     63\n",
      "COL ABRAHAM LINCOLN                                62\n",
      "COL AGUSTINIANO CAMPESTRE                          49\n",
      "COL ALEJANDRIA                                      6\n",
      "COL ANA JULIA HOLGUIN  DE  HURTADO                 48\n",
      "COL ANDINO                                        112\n",
      "COL ANGLO COLOMBIANO                              121\n",
      "                                                 ... \n",
      "LIC FRANCES LOUIS PASTEUR                         127\n",
      "LIC LA ENSEÑANZA                                   14\n",
      "LIC LOS ANGELES                                    22\n",
      "LIC MADRE ELISA                                    18\n",
      "LIC MONTESSORI                                     15\n",
      "LIC TALLER SAN MIGUEL                              25\n",
      "LICEO  JUAN  XXIII                                 71\n",
      "LICEO ANGLO COLOMBIANO                              3\n",
      "LICEO BELLA SUIZA                                   8\n",
      "LICEO BENALCAZAR                                   52\n",
      "LICEO CARLOS CASTRO SAAVEDRA                        6\n",
      "LICEO CARTAGO                                      38\n",
      "LICEO COMERCIAL Y TECNOLOGICO DEL VALLE            12\n",
      "LICEO DE LOS ANDES                                 26\n",
      "LICEO FRANCES PAUL VALERY                          73\n",
      "LICEO JESUS BERTIN                                 20\n",
      "LICEO JUVENIL                                       7\n",
      "LICEO LOS ALPES INSTITUCION EDUCATIVA S.A.S.       26\n",
      "LICEO NUESTRA SEÑORA DE LOURDES                     8\n",
      "LICEO QUIAL                                        29\n",
      "LICEO SUPERIOR JUAN PABLO II                       24\n",
      "LICEO TECNICO COMERCIAL AVANCEMOS                  51\n",
      "NUEVO GIMNASIO CRISTIANO                           32\n",
      "REAL COL SAN FRANCISCO DE ASIS                     51\n",
      "SAINT GEORGE SCHOOL - SAN JORGE                     9\n",
      "SANTA  MARIA STELLA MARIS                          29\n",
      "SANTA MARIANA DE JESÚS                             32\n",
      "SEM DE CRISTO SACERDOTE                            40\n",
      "SEMINARIO MENOR ARQUIDIOCESANO                     36\n",
      "VERNOT SCHOOL                                      13\n",
      "Name: COLE_NOMBRE_ESTABLECIMIENTO, dtype: int64\n",
      "Elementos null/NaN 0\n",
      "__________________\n",
      "Elementos diferentes de null/NaN: 12993\n",
      "__________________\n",
      "(12993,)\n",
      "None\n"
     ]
    }
   ],
   "source": [
    "c = 'COLE_NOMBRE_ESTABLECIMIENTO'\n",
    "print(data_2017[c].value_counts().sort_index().index)\n",
    "print(data_2017[c].value_counts().sort_index())\n",
    "print(missing_data(data_2017[c]))"
   ]
  },
  {
   "cell_type": "code",
   "execution_count": 82,
   "metadata": {
    "collapsed": true
   },
   "outputs": [],
   "source": [
    "data_2017 = data_2017.drop(c, axis=1)"
   ]
  },
  {
   "cell_type": "code",
   "execution_count": 83,
   "metadata": {
    "collapsed": false
   },
   "outputs": [
    {
     "name": "stdout",
     "output_type": "stream",
     "text": [
      "Index(['FEMENINO', 'MASCULINO', 'MIXTO'], dtype='object')\n",
      "FEMENINO      1250\n",
      "MASCULINO      476\n",
      "MIXTO        11267\n",
      "Name: COLE_GENERO, dtype: int64\n",
      "Elementos null/NaN 0\n",
      "__________________\n",
      "Elementos diferentes de null/NaN: 12993\n",
      "__________________\n",
      "(12993,)\n",
      "None\n"
     ]
    }
   ],
   "source": [
    "c = 'COLE_GENERO'\n",
    "print(data_2017[c].value_counts().sort_index().index)\n",
    "print(data_2017[c].value_counts().sort_index())\n",
    "print(missing_data(data_2017[c]))"
   ]
  },
  {
   "cell_type": "code",
   "execution_count": 84,
   "metadata": {
    "collapsed": false
   },
   "outputs": [
    {
     "name": "stdout",
     "output_type": "stream",
     "text": [
      "Index(['NO OFICIAL'], dtype='object')\n",
      "NO OFICIAL    12993\n",
      "Name: COLE_NATURALEZA, dtype: int64\n",
      "Elementos null/NaN 0\n",
      "__________________\n",
      "Elementos diferentes de null/NaN: 12993\n",
      "__________________\n",
      "(12993,)\n",
      "None\n"
     ]
    }
   ],
   "source": [
    "c = 'COLE_NATURALEZA'\n",
    "print(data_2017[c].value_counts().sort_index().index)\n",
    "print(data_2017[c].value_counts().sort_index())\n",
    "print(missing_data(data_2017[c]))"
   ]
  },
  {
   "cell_type": "code",
   "execution_count": 85,
   "metadata": {
    "collapsed": true
   },
   "outputs": [],
   "source": [
    "data_2017 = data_2017.drop(c, axis=1)"
   ]
  },
  {
   "cell_type": "code",
   "execution_count": 86,
   "metadata": {
    "collapsed": false
   },
   "outputs": [
    {
     "name": "stdout",
     "output_type": "stream",
     "text": [
      "Index(['B'], dtype='object')\n",
      "B    12993\n",
      "Name: COLE_CALENDARIO, dtype: int64\n",
      "Elementos null/NaN 0\n",
      "__________________\n",
      "Elementos diferentes de null/NaN: 12993\n",
      "__________________\n",
      "(12993,)\n",
      "None\n"
     ]
    }
   ],
   "source": [
    "c = 'COLE_CALENDARIO'\n",
    "print(data_2017[c].value_counts().sort_index().index)\n",
    "print(data_2017[c].value_counts().sort_index())\n",
    "print(missing_data(data_2017[c]))"
   ]
  },
  {
   "cell_type": "code",
   "execution_count": 87,
   "metadata": {
    "collapsed": true
   },
   "outputs": [],
   "source": [
    "data_2017 = data_2017.drop(c, axis=1)"
   ]
  },
  {
   "cell_type": "code",
   "execution_count": 88,
   "metadata": {
    "collapsed": false
   },
   "outputs": [
    {
     "name": "stdout",
     "output_type": "stream",
     "text": [
      "Index(['N', 'S'], dtype='object')\n",
      "N    8035\n",
      "S    3676\n",
      "Name: COLE_BILINGUE, dtype: int64\n",
      "Elementos null/NaN 1282\n",
      "__________________\n",
      "Elementos diferentes de null/NaN: 11711\n",
      "__________________\n",
      "(11711,)\n",
      "None\n"
     ]
    }
   ],
   "source": [
    "c = 'COLE_BILINGUE'\n",
    "print(data_2017[c].value_counts().sort_index().index)\n",
    "print(data_2017[c].value_counts().sort_index())\n",
    "print(missing_data(data_2017[c]))"
   ]
  },
  {
   "cell_type": "code",
   "execution_count": 89,
   "metadata": {
    "collapsed": false
   },
   "outputs": [
    {
     "name": "stdout",
     "output_type": "stream",
     "text": [
      "cant null antes: 1282\n",
      "cant null despues: 0\n"
     ]
    }
   ],
   "source": [
    "Do_resamples(data_2017, c, str)"
   ]
  },
  {
   "cell_type": "code",
   "execution_count": 90,
   "metadata": {
    "collapsed": false
   },
   "outputs": [
    {
     "name": "stdout",
     "output_type": "stream",
     "text": [
      "Index(['ACADÉMICO', 'NO APLICA', 'TÉCNICO', 'TÉCNICO/ACADÉMICO'], dtype='object')\n",
      "ACADÉMICO            10115\n",
      "NO APLICA                3\n",
      "TÉCNICO               1851\n",
      "TÉCNICO/ACADÉMICO      960\n",
      "Name: COLE_CARACTER, dtype: int64\n",
      "Elementos null/NaN 64\n",
      "__________________\n",
      "Elementos diferentes de null/NaN: 12929\n",
      "__________________\n",
      "(12929,)\n",
      "None\n"
     ]
    }
   ],
   "source": [
    "c = 'COLE_CARACTER'\n",
    "print(data_2017[c].value_counts().sort_index().index)\n",
    "print(data_2017[c].value_counts().sort_index())\n",
    "print(missing_data(data_2017[c]))"
   ]
  },
  {
   "cell_type": "code",
   "execution_count": 91,
   "metadata": {
    "collapsed": false
   },
   "outputs": [
    {
     "name": "stdout",
     "output_type": "stream",
     "text": [
      "cant null antes: 64\n",
      "cant null despues: 0\n"
     ]
    }
   ],
   "source": [
    "Do_resamples(data_2017, c, str)"
   ]
  },
  {
   "cell_type": "code",
   "execution_count": 92,
   "metadata": {
    "collapsed": false,
    "scrolled": true
   },
   "outputs": [
    {
     "name": "stdout",
     "output_type": "stream",
     "text": [
      "Int64Index([176520007467, 305001000077, 305001003688, 305001003769,\n",
      "            305001004668, 305001010781, 305001015503, 305001019681,\n",
      "            305001021163, 305380019472,\n",
      "            ...\n",
      "            476001038251, 476130000571, 476248000478, 476520003791,\n",
      "            476520006324, 476520007207, 476892099710, 476892099728,\n",
      "            476892100092, 625214000001],\n",
      "           dtype='int64', length=349)\n",
      "176520007467     16\n",
      "305001000077     29\n",
      "305001003688    103\n",
      "305001003769     56\n",
      "305001004668     47\n",
      "305001010781     53\n",
      "305001015503      1\n",
      "305001019681     69\n",
      "305001021163     26\n",
      "305380019472     69\n",
      "305631000121     34\n",
      "308001000122     13\n",
      "308001000882     63\n",
      "308001004209     85\n",
      "308001007615     38\n",
      "308001011353     22\n",
      "308001012805      3\n",
      "308001012813     23\n",
      "308001013054     26\n",
      "308001073952     34\n",
      "308001074771     10\n",
      "308001074789     24\n",
      "308001075220     16\n",
      "308001075645     10\n",
      "308001077745     49\n",
      "308001101153     66\n",
      "308573000026     56\n",
      "308573000450      8\n",
      "308573074895     20\n",
      "308573074909     75\n",
      "               ... \n",
      "425175032127      7\n",
      "425175032208     20\n",
      "425175032328     13\n",
      "425175032351     33\n",
      "425175032402     16\n",
      "425175032470     14\n",
      "425175032674     69\n",
      "425214000203     32\n",
      "425377000529     35\n",
      "425377076711     10\n",
      "425377800011     56\n",
      "425758800009     15\n",
      "425799000459     17\n",
      "447001004284     39\n",
      "463690000443     51\n",
      "466001005641     10\n",
      "466001006826      9\n",
      "476001005957     23\n",
      "476001029180     13\n",
      "476001029953     31\n",
      "476001038251     36\n",
      "476130000571     48\n",
      "476248000478     78\n",
      "476520003791      9\n",
      "476520006324     13\n",
      "476520007207     91\n",
      "476892099710     16\n",
      "476892099728     11\n",
      "476892100092      4\n",
      "625214000001     22\n",
      "Name: COLE_COD_DANE_SEDE, dtype: int64\n",
      "Elementos null/NaN 0\n",
      "__________________\n",
      "Elementos diferentes de null/NaN: 12993\n",
      "__________________\n",
      "(12993,)\n",
      "None\n"
     ]
    }
   ],
   "source": [
    "c = 'COLE_COD_DANE_SEDE'\n",
    "print(data_2017[c].value_counts().sort_index().index)\n",
    "print(data_2017[c].value_counts().sort_index())\n",
    "print(missing_data(data_2017[c]))"
   ]
  },
  {
   "cell_type": "code",
   "execution_count": 93,
   "metadata": {
    "collapsed": true
   },
   "outputs": [],
   "source": [
    "data_2017 = data_2017.drop(c, axis=1)"
   ]
  },
  {
   "cell_type": "code",
   "execution_count": 94,
   "metadata": {
    "collapsed": false
   },
   "outputs": [
    {
     "name": "stdout",
     "output_type": "stream",
     "text": [
      "Index(['S'], dtype='object')\n",
      "S    12993\n",
      "Name: COLE_SEDE_PRINCIPAL, dtype: int64\n",
      "Elementos null/NaN 0\n",
      "__________________\n",
      "Elementos diferentes de null/NaN: 12993\n",
      "__________________\n",
      "(12993,)\n",
      "None\n"
     ]
    }
   ],
   "source": [
    "c = 'COLE_SEDE_PRINCIPAL'\n",
    "print(data_2017[c].value_counts().sort_index().index)\n",
    "print(data_2017[c].value_counts().sort_index())\n",
    "print(missing_data(data_2017[c]))"
   ]
  },
  {
   "cell_type": "code",
   "execution_count": 95,
   "metadata": {
    "collapsed": true
   },
   "outputs": [],
   "source": [
    "data_2017 = data_2017.drop(c, axis=1)"
   ]
  },
  {
   "cell_type": "code",
   "execution_count": 96,
   "metadata": {
    "collapsed": false
   },
   "outputs": [
    {
     "name": "stdout",
     "output_type": "stream",
     "text": [
      "Index(['RURAL', 'URBANO'], dtype='object')\n",
      "RURAL      1898\n",
      "URBANO    11095\n",
      "Name: COLE_AREA_UBICACION, dtype: int64\n",
      "Elementos null/NaN 0\n",
      "__________________\n",
      "Elementos diferentes de null/NaN: 12993\n",
      "__________________\n",
      "(12993,)\n",
      "None\n"
     ]
    }
   ],
   "source": [
    "c = 'COLE_AREA_UBICACION'\n",
    "print(data_2017[c].value_counts().sort_index().index)\n",
    "print(data_2017[c].value_counts().sort_index())\n",
    "print(missing_data(data_2017[c]))"
   ]
  },
  {
   "cell_type": "code",
   "execution_count": 97,
   "metadata": {
    "collapsed": false,
    "scrolled": true
   },
   "outputs": [
    {
     "name": "stdout",
     "output_type": "stream",
     "text": [
      "Int64Index([ 5001,  5266,  5380,  5607,  5631,  8001,  8573, 11001, 13001,\n",
      "            17001, 17873, 19001, 19532, 19573, 20001, 23001, 25126, 25175,\n",
      "            25214, 25377, 25758, 25799, 44035, 44430, 47001, 52001, 63190,\n",
      "            63690, 66001, 68276, 76001, 76111, 76130, 76147, 76248, 76364,\n",
      "            76520, 76563, 76622, 76892],\n",
      "           dtype='int64')\n",
      "5001      185\n",
      "5266      199\n",
      "5380       69\n",
      "5607       24\n",
      "5631       34\n",
      "8001      307\n",
      "8573      383\n",
      "11001    2527\n",
      "13001     128\n",
      "17001     107\n",
      "17873      80\n",
      "19001     525\n",
      "19532      16\n",
      "19573      52\n",
      "20001      48\n",
      "23001      25\n",
      "25126     124\n",
      "25175     328\n",
      "25214     136\n",
      "25377     119\n",
      "25758      15\n",
      "25799      17\n",
      "44035      24\n",
      "44430      25\n",
      "47001      89\n",
      "52001     285\n",
      "63190       3\n",
      "63690      51\n",
      "66001     119\n",
      "68276      93\n",
      "76001    5512\n",
      "76111     254\n",
      "76130      48\n",
      "76147      89\n",
      "76248      92\n",
      "76364      81\n",
      "76520     523\n",
      "76563      10\n",
      "76622      25\n",
      "76892     222\n",
      "Name: COLE_COD_MCPIO_UBICACION, dtype: int64\n",
      "Elementos null/NaN 0\n",
      "__________________\n",
      "Elementos diferentes de null/NaN: 12993\n",
      "__________________\n",
      "(12993,)\n",
      "None\n"
     ]
    }
   ],
   "source": [
    "c = 'COLE_COD_MCPIO_UBICACION'\n",
    "print(data_2017[c].value_counts().sort_index().index)\n",
    "print(data_2017[c].value_counts().sort_index())\n",
    "print(missing_data(data_2017[c]))"
   ]
  },
  {
   "cell_type": "code",
   "execution_count": 98,
   "metadata": {
    "collapsed": true
   },
   "outputs": [],
   "source": [
    "data_2017 = data_2017.drop(c, axis=1)"
   ]
  },
  {
   "cell_type": "code",
   "execution_count": 99,
   "metadata": {
    "collapsed": false,
    "scrolled": true
   },
   "outputs": [
    {
     "name": "stdout",
     "output_type": "stream",
     "text": [
      "Index(['ALBANIA', 'BARRANQUILLA', 'BOGOTÁ D.C.', 'BUGA', 'CAJICA', 'CALI',\n",
      "       'CANDELARIA', 'CARTAGENA', 'CARTAGO', 'CHIA', 'CIRCASIA', 'COTA',\n",
      "       'EL CERRITO', 'ENVIGADO', 'FLORIDABLANCA', 'JAMUNDI', 'LA CALERA',\n",
      "       'LA ESTRELLA', 'MAICAO', 'MANIZALES', 'MEDELLIN', 'MONTERIA', 'PALMIRA',\n",
      "       'PASTO', 'PATIA(EL BORDO)', 'PEREIRA', 'POPAYAN', 'PRADERA',\n",
      "       'PUERTO COLOMBIA', 'PUERTO TEJADA', 'RETIRO', 'ROLDANILLO', 'SABANETA',\n",
      "       'SALENTO', 'SANTA MARTA', 'SOPO', 'TENJO', 'VALLEDUPAR', 'VILLAMARIA',\n",
      "       'YUMBO'],\n",
      "      dtype='object')\n",
      "ALBANIA              24\n",
      "BARRANQUILLA        307\n",
      "BOGOTÁ D.C.        2527\n",
      "BUGA                254\n",
      "CAJICA              124\n",
      "CALI               5512\n",
      "CANDELARIA           48\n",
      "CARTAGENA           128\n",
      "CARTAGO              89\n",
      "CHIA                328\n",
      "CIRCASIA              3\n",
      "COTA                136\n",
      "EL CERRITO           92\n",
      "ENVIGADO            199\n",
      "FLORIDABLANCA        93\n",
      "JAMUNDI              81\n",
      "LA CALERA           119\n",
      "LA ESTRELLA          69\n",
      "MAICAO               25\n",
      "MANIZALES           107\n",
      "MEDELLIN            185\n",
      "MONTERIA             25\n",
      "PALMIRA             523\n",
      "PASTO               285\n",
      "PATIA(EL BORDO)      16\n",
      "PEREIRA             119\n",
      "POPAYAN             525\n",
      "PRADERA              10\n",
      "PUERTO COLOMBIA     383\n",
      "PUERTO TEJADA        52\n",
      "RETIRO               24\n",
      "ROLDANILLO           25\n",
      "SABANETA             34\n",
      "SALENTO              51\n",
      "SANTA MARTA          89\n",
      "SOPO                 15\n",
      "TENJO                17\n",
      "VALLEDUPAR           48\n",
      "VILLAMARIA           80\n",
      "YUMBO               222\n",
      "Name: COLE_MCPIO_UBICACION, dtype: int64\n",
      "Elementos null/NaN 0\n",
      "__________________\n",
      "Elementos diferentes de null/NaN: 12993\n",
      "__________________\n",
      "(12993,)\n",
      "None\n"
     ]
    }
   ],
   "source": [
    "c = 'COLE_MCPIO_UBICACION'\n",
    "print(data_2017[c].value_counts().sort_index().index)\n",
    "print(data_2017[c].value_counts().sort_index())\n",
    "print(missing_data(data_2017[c]))"
   ]
  },
  {
   "cell_type": "code",
   "execution_count": 100,
   "metadata": {
    "collapsed": false,
    "scrolled": true
   },
   "outputs": [
    {
     "name": "stdout",
     "output_type": "stream",
     "text": [
      "Int64Index([5, 8, 11, 13, 17, 19, 20, 23, 25, 44, 47, 52, 63, 66, 68, 76], dtype='int64')\n",
      "5      511\n",
      "8      690\n",
      "11    2527\n",
      "13     128\n",
      "17     187\n",
      "19     593\n",
      "20      48\n",
      "23      25\n",
      "25     739\n",
      "44      49\n",
      "47      89\n",
      "52     285\n",
      "63      54\n",
      "66     119\n",
      "68      93\n",
      "76    6856\n",
      "Name: COLE_COD_DEPTO_UBICACION, dtype: int64\n",
      "Elementos null/NaN 0\n",
      "__________________\n",
      "Elementos diferentes de null/NaN: 12993\n",
      "__________________\n",
      "(12993,)\n",
      "None\n"
     ]
    }
   ],
   "source": [
    "c = 'COLE_COD_DEPTO_UBICACION'\n",
    "print(data_2017[c].value_counts().sort_index().index)\n",
    "print(data_2017[c].value_counts().sort_index())\n",
    "print(missing_data(data_2017[c]))"
   ]
  },
  {
   "cell_type": "code",
   "execution_count": 101,
   "metadata": {
    "collapsed": true
   },
   "outputs": [],
   "source": [
    "data_2017 = data_2017.drop(c, axis=1)"
   ]
  },
  {
   "cell_type": "code",
   "execution_count": 102,
   "metadata": {
    "collapsed": false
   },
   "outputs": [
    {
     "name": "stdout",
     "output_type": "stream",
     "text": [
      "Index(['ANTIOQUIA', 'ATLANTICO', 'BOGOTA', 'BOLIVAR', 'CALDAS', 'CAUCA',\n",
      "       'CESAR', 'CORDOBA', 'CUNDINAMARCA', 'LA GUAJIRA', 'MAGDALENA', 'NARIÑO',\n",
      "       'QUINDIO', 'RISARALDA', 'SANTANDER', 'VALLE'],\n",
      "      dtype='object')\n",
      "ANTIOQUIA        511\n",
      "ATLANTICO        690\n",
      "BOGOTA          2527\n",
      "BOLIVAR          128\n",
      "CALDAS           187\n",
      "CAUCA            593\n",
      "CESAR             48\n",
      "CORDOBA           25\n",
      "CUNDINAMARCA     739\n",
      "LA GUAJIRA        49\n",
      "MAGDALENA         89\n",
      "NARIÑO           285\n",
      "QUINDIO           54\n",
      "RISARALDA        119\n",
      "SANTANDER         93\n",
      "VALLE           6856\n",
      "Name: COLE_DEPTO_UBICACION, dtype: int64\n",
      "Elementos null/NaN 0\n",
      "__________________\n",
      "Elementos diferentes de null/NaN: 12993\n",
      "__________________\n",
      "(12993,)\n",
      "None\n"
     ]
    }
   ],
   "source": [
    "c = 'COLE_DEPTO_UBICACION'\n",
    "print(data_2017[c].value_counts().sort_index().index)\n",
    "print(data_2017[c].value_counts().sort_index())\n",
    "print(missing_data(data_2017[c]))"
   ]
  },
  {
   "cell_type": "code",
   "execution_count": 103,
   "metadata": {
    "collapsed": false
   },
   "outputs": [
    {
     "name": "stdout",
     "output_type": "stream",
     "text": [
      "Index(['NO'], dtype='object')\n",
      "NO    1\n",
      "Name: ESTU_PRIVADO_LIBERTAD, dtype: int64\n",
      "Elementos null/NaN 12992\n",
      "__________________\n",
      "Elementos diferentes de null/NaN: 1\n",
      "__________________\n",
      "(1,)\n",
      "None\n"
     ]
    }
   ],
   "source": [
    "c = 'ESTU_PRIVADO_LIBERTAD'\n",
    "print(data_2017[c].value_counts().sort_index().index)\n",
    "print(data_2017[c].value_counts().sort_index())\n",
    "print(missing_data(data_2017[c]))"
   ]
  },
  {
   "cell_type": "code",
   "execution_count": 104,
   "metadata": {
    "collapsed": true
   },
   "outputs": [],
   "source": [
    "data_2017 = data_2017.drop(c, axis=1)"
   ]
  },
  {
   "cell_type": "code",
   "execution_count": 105,
   "metadata": {
    "collapsed": false,
    "scrolled": true
   },
   "outputs": [
    {
     "name": "stdout",
     "output_type": "stream",
     "text": [
      "Int64Index([ 5001,  5615,  8001, 11001, 13001, 17001, 19001, 19532, 19698,\n",
      "            20001, 23001, 25269, 25899, 44035, 44430, 47001, 52001, 52356,\n",
      "            63001, 66001, 68001, 76001, 76111, 76147, 76520, 76622, 76834],\n",
      "           dtype='int64')\n",
      "5001      487\n",
      "5615       25\n",
      "8001      690\n",
      "11001    3028\n",
      "13001     128\n",
      "17001     187\n",
      "19001     526\n",
      "19532      16\n",
      "19698      54\n",
      "20001      48\n",
      "23001      25\n",
      "25269      11\n",
      "25899     227\n",
      "44035      24\n",
      "44430      25\n",
      "47001      89\n",
      "52001     285\n",
      "52356       1\n",
      "63001      54\n",
      "66001     117\n",
      "68001      93\n",
      "76001    5891\n",
      "76111     251\n",
      "76147      91\n",
      "76520     592\n",
      "76622      25\n",
      "76834       3\n",
      "Name: ESTU_COD_MCPIO_PRESENTACION, dtype: int64\n",
      "Elementos null/NaN 0\n",
      "__________________\n",
      "Elementos diferentes de null/NaN: 12993\n",
      "__________________\n",
      "(12993,)\n",
      "None\n"
     ]
    }
   ],
   "source": [
    "c = 'ESTU_COD_MCPIO_PRESENTACION'\n",
    "print(data_2017[c].value_counts().sort_index().index)\n",
    "print(data_2017[c].value_counts().sort_index())\n",
    "print(missing_data(data_2017[c]))"
   ]
  },
  {
   "cell_type": "code",
   "execution_count": 106,
   "metadata": {
    "collapsed": true
   },
   "outputs": [],
   "source": [
    "data_2017 = data_2017.drop(c, axis=1)"
   ]
  },
  {
   "cell_type": "code",
   "execution_count": 107,
   "metadata": {
    "collapsed": false,
    "scrolled": true
   },
   "outputs": [
    {
     "name": "stdout",
     "output_type": "stream",
     "text": [
      "Index(['ALBANIA', 'ARMENIA', 'BARRANQUILLA', 'BOGOTÁ D.C.', 'BUCARAMANGA',\n",
      "       'BUGA', 'CALI', 'CARTAGENA', 'CARTAGO', 'FACATATIVA', 'IPIALES',\n",
      "       'MAICAO', 'MANIZALES', 'MEDELLIN', 'MONTERIA', 'PALMIRA', 'PASTO',\n",
      "       'PATIA(EL BORDO)', 'PEREIRA', 'POPAYAN', 'RIONEGRO', 'ROLDANILLO',\n",
      "       'SANTA MARTA', 'SANTANDER DE QUILICHAO', 'TULUA', 'VALLEDUPAR',\n",
      "       'ZIPAQUIRA'],\n",
      "      dtype='object')\n",
      "ALBANIA                     24\n",
      "ARMENIA                     54\n",
      "BARRANQUILLA               690\n",
      "BOGOTÁ D.C.               3028\n",
      "BUCARAMANGA                 93\n",
      "BUGA                       251\n",
      "CALI                      5891\n",
      "CARTAGENA                  128\n",
      "CARTAGO                     91\n",
      "FACATATIVA                  11\n",
      "IPIALES                      1\n",
      "MAICAO                      25\n",
      "MANIZALES                  187\n",
      "MEDELLIN                   487\n",
      "MONTERIA                    25\n",
      "PALMIRA                    592\n",
      "PASTO                      285\n",
      "PATIA(EL BORDO)             16\n",
      "PEREIRA                    117\n",
      "POPAYAN                    526\n",
      "RIONEGRO                    25\n",
      "ROLDANILLO                  25\n",
      "SANTA MARTA                 89\n",
      "SANTANDER DE QUILICHAO      54\n",
      "TULUA                        3\n",
      "VALLEDUPAR                  48\n",
      "ZIPAQUIRA                  227\n",
      "Name: ESTU_MCPIO_PRESENTACION, dtype: int64\n",
      "Elementos null/NaN 0\n",
      "__________________\n",
      "Elementos diferentes de null/NaN: 12993\n",
      "__________________\n",
      "(12993,)\n",
      "None\n"
     ]
    }
   ],
   "source": [
    "c = 'ESTU_MCPIO_PRESENTACION'\n",
    "print(data_2017[c].value_counts().sort_index().index)\n",
    "print(data_2017[c].value_counts().sort_index())\n",
    "print(missing_data(data_2017[c]))"
   ]
  },
  {
   "cell_type": "code",
   "execution_count": 108,
   "metadata": {
    "collapsed": false,
    "scrolled": true
   },
   "outputs": [
    {
     "name": "stdout",
     "output_type": "stream",
     "text": [
      "Index(['ANTIOQUIA', 'ATLANTICO', 'BOGOTA', 'BOLIVAR', 'CALDAS', 'CAUCA',\n",
      "       'CESAR', 'CORDOBA', 'CUNDINAMARCA', 'LA GUAJIRA', 'MAGDALENA', 'NARIÑO',\n",
      "       'QUINDIO', 'RISARALDA', 'SANTANDER', 'VALLE'],\n",
      "      dtype='object')\n",
      "ANTIOQUIA        512\n",
      "ATLANTICO        690\n",
      "BOGOTA          3028\n",
      "BOLIVAR          128\n",
      "CALDAS           187\n",
      "CAUCA            596\n",
      "CESAR             48\n",
      "CORDOBA           25\n",
      "CUNDINAMARCA     238\n",
      "LA GUAJIRA        49\n",
      "MAGDALENA         89\n",
      "NARIÑO           286\n",
      "QUINDIO           54\n",
      "RISARALDA        117\n",
      "SANTANDER         93\n",
      "VALLE           6853\n",
      "Name: ESTU_DEPTO_PRESENTACION, dtype: int64\n",
      "Elementos null/NaN 0\n",
      "__________________\n",
      "Elementos diferentes de null/NaN: 12993\n",
      "__________________\n",
      "(12993,)\n",
      "None\n"
     ]
    }
   ],
   "source": [
    "c = 'ESTU_DEPTO_PRESENTACION'\n",
    "print(data_2017[c].value_counts().sort_index().index)\n",
    "print(data_2017[c].value_counts().sort_index())\n",
    "print(missing_data(data_2017[c]))"
   ]
  },
  {
   "cell_type": "code",
   "execution_count": 109,
   "metadata": {
    "collapsed": false,
    "scrolled": true
   },
   "outputs": [
    {
     "name": "stdout",
     "output_type": "stream",
     "text": [
      "Int64Index([5, 8, 11, 13, 17, 19, 20, 23, 25, 44, 47, 52, 63, 66, 68, 76], dtype='int64')\n",
      "5      512\n",
      "8      690\n",
      "11    3028\n",
      "13     128\n",
      "17     187\n",
      "19     596\n",
      "20      48\n",
      "23      25\n",
      "25     238\n",
      "44      49\n",
      "47      89\n",
      "52     286\n",
      "63      54\n",
      "66     117\n",
      "68      93\n",
      "76    6853\n",
      "Name: ESTU_COD_DEPTO_PRESENTACION, dtype: int64\n",
      "Elementos null/NaN 0\n",
      "__________________\n",
      "Elementos diferentes de null/NaN: 12993\n",
      "__________________\n",
      "(12993,)\n",
      "None\n"
     ]
    }
   ],
   "source": [
    "c = 'ESTU_COD_DEPTO_PRESENTACION'\n",
    "print(data_2017[c].value_counts().sort_index().index)\n",
    "print(data_2017[c].value_counts().sort_index())\n",
    "print(missing_data(data_2017[c]))"
   ]
  },
  {
   "cell_type": "code",
   "execution_count": 110,
   "metadata": {
    "collapsed": true
   },
   "outputs": [],
   "source": [
    "data_2017 = data_2017.drop(c, axis=1)"
   ]
  },
  {
   "cell_type": "markdown",
   "metadata": {},
   "source": [
    "# TARGETS"
   ]
  },
  {
   "cell_type": "code",
   "execution_count": 111,
   "metadata": {
    "collapsed": false,
    "scrolled": true
   },
   "outputs": [
    {
     "name": "stdout",
     "output_type": "stream",
     "text": [
      "Int64Index([ 17,  19,  21,  22,  23,  24,  25,  26,  27,  28,  29,  30,  31,\n",
      "             32,  33,  34,  35,  36,  37,  38,  39,  40,  41,  42,  43,  44,\n",
      "             45,  46,  47,  48,  49,  50,  51,  52,  53,  54,  55,  56,  57,\n",
      "             58,  59,  60,  61,  62,  63,  64,  65,  66,  67,  68,  69,  70,\n",
      "             71,  72,  73,  74,  75,  76,  77,  78,  79,  80,  81,  82,  83,\n",
      "             84,  85,  86,  87,  88,  89,  90, 100],\n",
      "           dtype='int64')\n",
      "17       1\n",
      "19       1\n",
      "21       2\n",
      "22       2\n",
      "23       2\n",
      "24       4\n",
      "25       4\n",
      "26       5\n",
      "27      12\n",
      "28       5\n",
      "29      15\n",
      "30      13\n",
      "31      22\n",
      "32      27\n",
      "33      28\n",
      "34      33\n",
      "35      38\n",
      "36      47\n",
      "37      54\n",
      "38      55\n",
      "39      67\n",
      "40      55\n",
      "41      79\n",
      "42     111\n",
      "43     110\n",
      "44     135\n",
      "45     164\n",
      "46     141\n",
      "47     159\n",
      "48     182\n",
      "      ... \n",
      "62     439\n",
      "63     470\n",
      "64     445\n",
      "65     467\n",
      "66     452\n",
      "67     437\n",
      "68     385\n",
      "69     408\n",
      "70     340\n",
      "71     349\n",
      "72     375\n",
      "73     317\n",
      "74     271\n",
      "75     287\n",
      "76     253\n",
      "77     206\n",
      "78     180\n",
      "79     149\n",
      "80     131\n",
      "81     132\n",
      "82     128\n",
      "83     100\n",
      "84      86\n",
      "85      41\n",
      "86      51\n",
      "87      50\n",
      "88      29\n",
      "89      34\n",
      "90       1\n",
      "100     73\n",
      "Name: PUNT_MATEMATICAS, dtype: int64\n",
      "Elementos null/NaN 0\n",
      "__________________\n",
      "Elementos diferentes de null/NaN: 12993\n",
      "__________________\n",
      "(12993,)\n",
      "None\n"
     ]
    }
   ],
   "source": [
    "c = 'PUNT_MATEMATICAS'\n",
    "print(data_2017[c].value_counts().sort_index().index)\n",
    "print(data_2017[c].value_counts().sort_index())\n",
    "print(missing_data(data_2017[c]))"
   ]
  },
  {
   "cell_type": "code",
   "execution_count": 112,
   "metadata": {
    "collapsed": false
   },
   "outputs": [
    {
     "name": "stdout",
     "output_type": "stream",
     "text": [
      "Int64Index([1, 2, 3, 4], dtype='int64')\n",
      "1     214\n",
      "2    1800\n",
      "3    7736\n",
      "4    3243\n",
      "Name: DESEMP_MATEMATICAS, dtype: int64\n",
      "Elementos null/NaN 0\n",
      "__________________\n",
      "Elementos diferentes de null/NaN: 12993\n",
      "__________________\n",
      "(12993,)\n",
      "None\n"
     ]
    }
   ],
   "source": [
    "c = 'DESEMP_MATEMATICAS'\n",
    "print(data_2017[c].value_counts().sort_index().index)\n",
    "print(data_2017[c].value_counts().sort_index())\n",
    "print(missing_data(data_2017[c]))"
   ]
  },
  {
   "cell_type": "code",
   "execution_count": 113,
   "metadata": {
    "collapsed": false,
    "scrolled": true
   },
   "outputs": [
    {
     "name": "stdout",
     "output_type": "stream",
     "text": [
      "Int64Index([  1,   2,   3,   4,   5,   6,   7,   8,   9,  10,  11,  12,  13,\n",
      "             14,  15,  16,  17,  18,  19,  20,  21,  22,  23,  24,  25,  26,\n",
      "             27,  28,  29,  30,  31,  32,  33,  34,  35,  36,  37,  38,  39,\n",
      "             40,  41,  42,  43,  44,  45,  46,  47,  48,  49,  50,  51,  52,\n",
      "             53,  54,  55,  56,  57,  58,  59,  60,  61,  62,  63,  64,  65,\n",
      "             66,  67,  68,  69,  70,  71,  72,  73,  74,  75,  76,  77,  78,\n",
      "             79,  80,  81,  82,  83,  84,  85,  86,  87,  88,  89,  90,  91,\n",
      "             92,  93,  94,  95,  96,  97,  98,  99, 100],\n",
      "           dtype='int64')\n",
      "1       18\n",
      "2       23\n",
      "3       24\n",
      "4       26\n",
      "5       28\n",
      "6       31\n",
      "7       25\n",
      "8       35\n",
      "9       30\n",
      "10      29\n",
      "11      44\n",
      "12      33\n",
      "13      48\n",
      "14      38\n",
      "15      34\n",
      "16      40\n",
      "17      49\n",
      "18      63\n",
      "19      56\n",
      "20      52\n",
      "21      66\n",
      "22      68\n",
      "23      67\n",
      "24      82\n",
      "25      83\n",
      "26      76\n",
      "27      61\n",
      "28      85\n",
      "29      77\n",
      "30      80\n",
      "      ... \n",
      "71     183\n",
      "72     192\n",
      "73     189\n",
      "74     181\n",
      "75     187\n",
      "76     183\n",
      "77     191\n",
      "78     188\n",
      "79     193\n",
      "80     192\n",
      "81     194\n",
      "82     197\n",
      "83     189\n",
      "84     194\n",
      "85     191\n",
      "86     194\n",
      "87     195\n",
      "88     199\n",
      "89     194\n",
      "90     194\n",
      "91     198\n",
      "92     199\n",
      "93     199\n",
      "94     199\n",
      "95     198\n",
      "96     200\n",
      "97     198\n",
      "98     201\n",
      "99     203\n",
      "100    199\n",
      "Name: PERCENTIL_MATEMATICAS, dtype: int64\n",
      "Elementos null/NaN 0\n",
      "__________________\n",
      "Elementos diferentes de null/NaN: 12993\n",
      "__________________\n",
      "(12993,)\n",
      "None\n"
     ]
    }
   ],
   "source": [
    "c = 'PERCENTIL_MATEMATICAS'\n",
    "print(data_2017[c].value_counts().sort_index().index)\n",
    "print(data_2017[c].value_counts().sort_index())\n",
    "print(missing_data(data_2017[c]))"
   ]
  },
  {
   "cell_type": "code",
   "execution_count": 114,
   "metadata": {
    "collapsed": false,
    "scrolled": true
   },
   "outputs": [
    {
     "name": "stdout",
     "output_type": "stream",
     "text": [
      "Int64Index([ 13,  14,  16,  18,  19,  20,  21,  22,  23,  24,  25,  26,  27,\n",
      "             28,  29,  30,  31,  32,  33,  34,  35,  36,  37,  38,  39,  40,\n",
      "             41,  42,  43,  44,  45,  46,  47,  48,  49,  50,  51,  52,  53,\n",
      "             54,  55,  56,  57,  58,  59,  60,  61,  62,  63,  64,  65,  66,\n",
      "             67,  68,  69,  70,  71,  72,  73,  74,  75,  76,  77,  78,  79,\n",
      "             80,  81,  82,  83,  84,  85,  86,  87,  88,  89,  90,  91,  92,\n",
      "             93,  94,  95,  96,  97,  98,  99, 100],\n",
      "           dtype='int64')\n",
      "13       1\n",
      "14       1\n",
      "16       1\n",
      "18       4\n",
      "19       7\n",
      "20       3\n",
      "21       6\n",
      "22       5\n",
      "23      11\n",
      "24       5\n",
      "25      12\n",
      "26      22\n",
      "27      14\n",
      "28      16\n",
      "29      18\n",
      "30      25\n",
      "31      19\n",
      "32      20\n",
      "33      26\n",
      "34      38\n",
      "35      37\n",
      "36      43\n",
      "37      65\n",
      "38      56\n",
      "39      56\n",
      "40      81\n",
      "41      80\n",
      "42      85\n",
      "43      85\n",
      "44     100\n",
      "      ... \n",
      "71     223\n",
      "72     220\n",
      "73     286\n",
      "74     346\n",
      "75     360\n",
      "76     336\n",
      "77     295\n",
      "78     311\n",
      "79     309\n",
      "80     326\n",
      "81     323\n",
      "82     332\n",
      "83     340\n",
      "84     306\n",
      "85     274\n",
      "86     292\n",
      "87     254\n",
      "88     238\n",
      "89     163\n",
      "90     184\n",
      "91     165\n",
      "92     126\n",
      "93     142\n",
      "94      82\n",
      "95      96\n",
      "96      57\n",
      "97      52\n",
      "98      30\n",
      "99      34\n",
      "100    366\n",
      "Name: PUNT_INGLES, dtype: int64\n",
      "Elementos null/NaN 0\n",
      "__________________\n",
      "Elementos diferentes de null/NaN: 12993\n",
      "__________________\n",
      "(12993,)\n",
      "None\n"
     ]
    }
   ],
   "source": [
    "c = 'PUNT_INGLES'\n",
    "print(data_2017[c].value_counts().sort_index().index)\n",
    "print(data_2017[c].value_counts().sort_index())\n",
    "print(missing_data(data_2017[c]))"
   ]
  },
  {
   "cell_type": "code",
   "execution_count": 115,
   "metadata": {
    "collapsed": false,
    "scrolled": true
   },
   "outputs": [
    {
     "name": "stdout",
     "output_type": "stream",
     "text": [
      "Int64Index([  1,   2,   3,   4,   5,   6,   7,   8,   9,  10,  11,  12,  13,\n",
      "             14,  15,  16,  17,  18,  19,  20,  21,  22,  23,  24,  25,  26,\n",
      "             27,  28,  29,  30,  31,  32,  33,  34,  35,  36,  37,  38,  39,\n",
      "             40,  41,  42,  43,  44,  45,  46,  47,  48,  49,  50,  51,  52,\n",
      "             53,  54,  55,  56,  57,  58,  59,  60,  61,  62,  63,  64,  65,\n",
      "             66,  67,  68,  69,  70,  71,  72,  73,  74,  75,  76,  77,  78,\n",
      "             79,  80,  81,  82,  83,  84,  85,  86,  87,  88,  89,  90,  91,\n",
      "             92,  93,  94,  95,  96,  97,  98, 100],\n",
      "           dtype='int64')\n",
      "1       14\n",
      "2       15\n",
      "3       17\n",
      "4       34\n",
      "5       20\n",
      "6       29\n",
      "7       27\n",
      "8       23\n",
      "9       22\n",
      "10      30\n",
      "11      29\n",
      "12      36\n",
      "13      34\n",
      "14      40\n",
      "15      50\n",
      "16      34\n",
      "17      37\n",
      "18      49\n",
      "19      40\n",
      "20      49\n",
      "21      63\n",
      "22      58\n",
      "23      52\n",
      "24      63\n",
      "25      64\n",
      "26      75\n",
      "27      69\n",
      "28      81\n",
      "29      82\n",
      "30      68\n",
      "      ... \n",
      "70     181\n",
      "71     183\n",
      "72     183\n",
      "73     187\n",
      "74     189\n",
      "75     186\n",
      "76     194\n",
      "77     190\n",
      "78     194\n",
      "79     188\n",
      "80     195\n",
      "81     193\n",
      "82     194\n",
      "83     196\n",
      "84     196\n",
      "85     194\n",
      "86     191\n",
      "87     192\n",
      "88     196\n",
      "89     196\n",
      "90     202\n",
      "91     198\n",
      "92     197\n",
      "93     193\n",
      "94     199\n",
      "95     193\n",
      "96     195\n",
      "97     197\n",
      "98     196\n",
      "100    399\n",
      "Name: PERCENTIL_INGLES, dtype: int64\n",
      "Elementos null/NaN 0\n",
      "__________________\n",
      "Elementos diferentes de null/NaN: 12993\n",
      "__________________\n",
      "(12993,)\n",
      "None\n"
     ]
    }
   ],
   "source": [
    "c = 'PERCENTIL_INGLES'\n",
    "print(data_2017[c].value_counts().sort_index().index)\n",
    "print(data_2017[c].value_counts().sort_index())\n",
    "print(missing_data(data_2017[c]))"
   ]
  },
  {
   "cell_type": "code",
   "execution_count": 116,
   "metadata": {
    "collapsed": false
   },
   "outputs": [
    {
     "name": "stdout",
     "output_type": "stream",
     "text": [
      "Index(['A-', 'A1', 'A2', 'B+', 'B1'], dtype='object')\n",
      "A-    1302\n",
      "A1    1901\n",
      "A2    2063\n",
      "B+    4491\n",
      "B1    3236\n",
      "Name: DESEMP_INGLES, dtype: int64\n",
      "Elementos null/NaN 0\n",
      "__________________\n",
      "Elementos diferentes de null/NaN: 12993\n",
      "__________________\n",
      "(12993,)\n",
      "None\n"
     ]
    }
   ],
   "source": [
    "c = 'DESEMP_INGLES'\n",
    "print(data_2017[c].value_counts().sort_index().index)\n",
    "print(data_2017[c].value_counts().sort_index())\n",
    "print(missing_data(data_2017[c]))"
   ]
  },
  {
   "cell_type": "code",
   "execution_count": 117,
   "metadata": {
    "collapsed": false,
    "scrolled": true
   },
   "outputs": [
    {
     "name": "stdout",
     "output_type": "stream",
     "text": [
      "Int64Index([ 23,  24,  25,  27,  28,  29,  30,  31,  32,  33,  34,  35,  36,\n",
      "             37,  38,  39,  40,  41,  42,  43,  44,  45,  46,  47,  48,  49,\n",
      "             50,  51,  52,  53,  54,  55,  56,  57,  58,  59,  60,  61,  62,\n",
      "             63,  64,  65,  66,  67,  68,  69,  70,  71,  72,  73,  74,  75,\n",
      "             76,  77,  78,  79,  80,  81,  82,  83,  84,  85, 100],\n",
      "           dtype='int64')\n",
      "23       1\n",
      "24       1\n",
      "25       3\n",
      "27       3\n",
      "28       4\n",
      "29       8\n",
      "30       9\n",
      "31      10\n",
      "32      14\n",
      "33      18\n",
      "34      19\n",
      "35      29\n",
      "36      25\n",
      "37      37\n",
      "38      26\n",
      "39      44\n",
      "40      46\n",
      "41      65\n",
      "42      72\n",
      "43      70\n",
      "44     103\n",
      "45     128\n",
      "46     152\n",
      "47     164\n",
      "48     176\n",
      "49     189\n",
      "50     188\n",
      "51     230\n",
      "52     271\n",
      "53     300\n",
      "      ... \n",
      "57     348\n",
      "58     418\n",
      "59     433\n",
      "60     455\n",
      "61     503\n",
      "62     530\n",
      "63     494\n",
      "64     532\n",
      "65     520\n",
      "66     537\n",
      "67     503\n",
      "68     474\n",
      "69     461\n",
      "70     412\n",
      "71     397\n",
      "72     377\n",
      "73     357\n",
      "74     311\n",
      "75     267\n",
      "76     251\n",
      "77     196\n",
      "78     170\n",
      "79     147\n",
      "80     127\n",
      "81      83\n",
      "82      76\n",
      "83      73\n",
      "84      38\n",
      "85       4\n",
      "100    100\n",
      "Name: PUNT_C_NATURALES, dtype: int64\n",
      "Elementos null/NaN 0\n",
      "__________________\n",
      "Elementos diferentes de null/NaN: 12993\n",
      "__________________\n",
      "(12993,)\n",
      "None\n"
     ]
    }
   ],
   "source": [
    "c = 'PUNT_C_NATURALES'\n",
    "print(data_2017[c].value_counts().sort_index().index)\n",
    "print(data_2017[c].value_counts().sort_index())\n",
    "print(missing_data(data_2017[c]))"
   ]
  },
  {
   "cell_type": "code",
   "execution_count": 118,
   "metadata": {
    "collapsed": false
   },
   "outputs": [
    {
     "name": "stdout",
     "output_type": "stream",
     "text": [
      "Int64Index([1, 2, 3, 4], dtype='int64')\n",
      "1     297\n",
      "2    2732\n",
      "3    6990\n",
      "4    2974\n",
      "Name: DESEMP_C_NATURALES, dtype: int64\n",
      "Elementos null/NaN 0\n",
      "__________________\n",
      "Elementos diferentes de null/NaN: 12993\n",
      "__________________\n",
      "(12993,)\n",
      "None\n"
     ]
    }
   ],
   "source": [
    "c = 'DESEMP_C_NATURALES'\n",
    "print(data_2017[c].value_counts().sort_index().index)\n",
    "print(data_2017[c].value_counts().sort_index())\n",
    "print(missing_data(data_2017[c]))"
   ]
  },
  {
   "cell_type": "code",
   "execution_count": 119,
   "metadata": {
    "collapsed": false,
    "scrolled": true
   },
   "outputs": [
    {
     "name": "stdout",
     "output_type": "stream",
     "text": [
      "Int64Index([  1,   2,   3,   4,   5,   6,   7,   8,   9,  10,  11,  12,  13,\n",
      "             14,  15,  16,  17,  18,  19,  20,  21,  22,  23,  24,  25,  26,\n",
      "             27,  28,  29,  30,  31,  32,  33,  34,  35,  36,  37,  38,  39,\n",
      "             40,  41,  42,  43,  44,  45,  46,  47,  48,  49,  50,  51,  52,\n",
      "             53,  54,  55,  56,  57,  58,  59,  60,  61,  62,  63,  64,  65,\n",
      "             66,  67,  68,  69,  70,  71,  72,  73,  74,  75,  76,  77,  78,\n",
      "             79,  80,  81,  82,  83,  84,  85,  86,  87,  88,  89,  90,  91,\n",
      "             92,  93,  94,  95,  96,  97,  98,  99, 100],\n",
      "           dtype='int64')\n",
      "1       25\n",
      "2       23\n",
      "3       26\n",
      "4       24\n",
      "5       33\n",
      "6       23\n",
      "7       28\n",
      "8       30\n",
      "9       34\n",
      "10      26\n",
      "11      34\n",
      "12      45\n",
      "13      43\n",
      "14      44\n",
      "15      44\n",
      "16      43\n",
      "17      44\n",
      "18      60\n",
      "19      59\n",
      "20      62\n",
      "21      61\n",
      "22      61\n",
      "23      71\n",
      "24      59\n",
      "25      78\n",
      "26      72\n",
      "27      75\n",
      "28      80\n",
      "29      85\n",
      "30      79\n",
      "      ... \n",
      "71     184\n",
      "72     188\n",
      "73     190\n",
      "74     193\n",
      "75     188\n",
      "76     193\n",
      "77     188\n",
      "78     192\n",
      "79     189\n",
      "80     186\n",
      "81     188\n",
      "82     190\n",
      "83     197\n",
      "84     189\n",
      "85     196\n",
      "86     193\n",
      "87     195\n",
      "88     199\n",
      "89     188\n",
      "90     189\n",
      "91     196\n",
      "92     197\n",
      "93     199\n",
      "94     201\n",
      "95     195\n",
      "96     201\n",
      "97     198\n",
      "98     197\n",
      "99     202\n",
      "100    200\n",
      "Name: PERCENTIL_C_NATURALES, dtype: int64\n",
      "Elementos null/NaN 0\n",
      "__________________\n",
      "Elementos diferentes de null/NaN: 12993\n",
      "__________________\n",
      "(12993,)\n",
      "None\n"
     ]
    }
   ],
   "source": [
    "c = 'PERCENTIL_C_NATURALES'\n",
    "print(data_2017[c].value_counts().sort_index().index)\n",
    "print(data_2017[c].value_counts().sort_index())\n",
    "print(missing_data(data_2017[c]))"
   ]
  },
  {
   "cell_type": "code",
   "execution_count": 120,
   "metadata": {
    "collapsed": false,
    "scrolled": true
   },
   "outputs": [
    {
     "name": "stdout",
     "output_type": "stream",
     "text": [
      "Int64Index([ 28,  29,  31,  32,  33,  34,  35,  36,  37,  38,  39,  40,  41,\n",
      "             42,  43,  44,  45,  46,  47,  48,  49,  50,  51,  52,  53,  54,\n",
      "             55,  56,  57,  58,  59,  60,  61,  62,  63,  64,  65,  66,  67,\n",
      "             68,  69,  70,  71,  72,  73,  74,  75,  76,  77,  78,  79,  80,\n",
      "             81,  82,  83,  84,  85, 100],\n",
      "           dtype='int64')\n",
      "28       1\n",
      "29       1\n",
      "31       3\n",
      "32       5\n",
      "33      10\n",
      "34      14\n",
      "35      12\n",
      "36      16\n",
      "37      27\n",
      "38      16\n",
      "39      31\n",
      "40      60\n",
      "41      50\n",
      "42      82\n",
      "43      66\n",
      "44      95\n",
      "45      94\n",
      "46     137\n",
      "47     140\n",
      "48     164\n",
      "49     183\n",
      "50     217\n",
      "51     242\n",
      "52     280\n",
      "53     318\n",
      "54     332\n",
      "55     376\n",
      "56     373\n",
      "57     442\n",
      "58     476\n",
      "59     503\n",
      "60     463\n",
      "61     502\n",
      "62     558\n",
      "63     570\n",
      "64     554\n",
      "65     555\n",
      "66     528\n",
      "67     554\n",
      "68     496\n",
      "69     492\n",
      "70     419\n",
      "71     444\n",
      "72     371\n",
      "73     311\n",
      "74     293\n",
      "75     268\n",
      "76     192\n",
      "77     145\n",
      "78     145\n",
      "79     105\n",
      "80      86\n",
      "81      57\n",
      "82      45\n",
      "83      24\n",
      "84      17\n",
      "85      12\n",
      "100     21\n",
      "Name: PUNT_LECTURA_CRITICA, dtype: int64\n",
      "Elementos null/NaN 0\n",
      "__________________\n",
      "Elementos diferentes de null/NaN: 12993\n",
      "__________________\n",
      "(12993,)\n",
      "None\n"
     ]
    }
   ],
   "source": [
    "c = 'PUNT_LECTURA_CRITICA'\n",
    "print(data_2017[c].value_counts().sort_index().index)\n",
    "print(data_2017[c].value_counts().sort_index())\n",
    "print(missing_data(data_2017[c]))"
   ]
  },
  {
   "cell_type": "code",
   "execution_count": 121,
   "metadata": {
    "collapsed": false
   },
   "outputs": [
    {
     "name": "stdout",
     "output_type": "stream",
     "text": [
      "Int64Index([1, 2, 3, 4], dtype='int64')\n",
      "1      46\n",
      "2    1378\n",
      "3    6544\n",
      "4    5025\n",
      "Name: DESEMP_LECTURA_CRITICA, dtype: int64\n",
      "Elementos null/NaN 0\n",
      "__________________\n",
      "Elementos diferentes de null/NaN: 12993\n",
      "__________________\n",
      "(12993,)\n",
      "None\n"
     ]
    }
   ],
   "source": [
    "c = 'DESEMP_LECTURA_CRITICA'\n",
    "print(data_2017[c].value_counts().sort_index().index)\n",
    "print(data_2017[c].value_counts().sort_index())\n",
    "print(missing_data(data_2017[c]))"
   ]
  },
  {
   "cell_type": "code",
   "execution_count": 122,
   "metadata": {
    "collapsed": false,
    "scrolled": true
   },
   "outputs": [
    {
     "name": "stdout",
     "output_type": "stream",
     "text": [
      "Int64Index([  1,   2,   3,   4,   5,   6,   7,   8,   9,  10,  11,  12,  13,\n",
      "             14,  15,  16,  17,  18,  19,  20,  21,  22,  23,  24,  25,  26,\n",
      "             27,  28,  29,  30,  31,  32,  33,  34,  35,  36,  37,  38,  39,\n",
      "             40,  41,  42,  43,  44,  45,  46,  47,  48,  49,  50,  51,  52,\n",
      "             53,  54,  55,  56,  57,  58,  59,  60,  61,  62,  63,  64,  65,\n",
      "             66,  67,  68,  69,  70,  71,  72,  73,  74,  75,  76,  77,  78,\n",
      "             79,  80,  81,  82,  83,  84,  85,  86,  87,  88,  89,  90,  91,\n",
      "             92,  93,  94,  95,  96,  97,  98,  99, 100],\n",
      "           dtype='int64')\n",
      "1       17\n",
      "2       25\n",
      "3       20\n",
      "4       30\n",
      "5       14\n",
      "6       32\n",
      "7       40\n",
      "8       36\n",
      "9       36\n",
      "10      43\n",
      "11      41\n",
      "12      44\n",
      "13      41\n",
      "14      58\n",
      "15      48\n",
      "16      42\n",
      "17      56\n",
      "18      57\n",
      "19      58\n",
      "20      71\n",
      "21      65\n",
      "22      70\n",
      "23      67\n",
      "24      61\n",
      "25      76\n",
      "26      75\n",
      "27      78\n",
      "28      87\n",
      "29      85\n",
      "30      91\n",
      "      ... \n",
      "71     182\n",
      "72     185\n",
      "73     189\n",
      "74     183\n",
      "75     179\n",
      "76     187\n",
      "77     179\n",
      "78     190\n",
      "79     181\n",
      "80     186\n",
      "81     182\n",
      "82     189\n",
      "83     193\n",
      "84     187\n",
      "85     193\n",
      "86     188\n",
      "87     194\n",
      "88     194\n",
      "89     191\n",
      "90     194\n",
      "91     197\n",
      "92     198\n",
      "93     199\n",
      "94     197\n",
      "95     198\n",
      "96     196\n",
      "97     197\n",
      "98     202\n",
      "99     195\n",
      "100    196\n",
      "Name: PERCENTIL_LECTURA_CRITICA, dtype: int64\n",
      "Elementos null/NaN 0\n",
      "__________________\n",
      "Elementos diferentes de null/NaN: 12993\n",
      "__________________\n",
      "(12993,)\n",
      "None\n"
     ]
    }
   ],
   "source": [
    "c = 'PERCENTIL_LECTURA_CRITICA'\n",
    "print(data_2017[c].value_counts().sort_index().index)\n",
    "print(data_2017[c].value_counts().sort_index())\n",
    "print(missing_data(data_2017[c]))"
   ]
  },
  {
   "cell_type": "code",
   "execution_count": 123,
   "metadata": {
    "collapsed": false
   },
   "outputs": [
    {
     "name": "stdout",
     "output_type": "stream",
     "text": [
      "Int64Index([1, 2, 3, 4], dtype='int64')\n",
      "1     449\n",
      "2    3061\n",
      "3    6562\n",
      "4    2921\n",
      "Name: DESEMP_SOCIALES_CIUDADANAS, dtype: int64\n",
      "Elementos null/NaN 0\n",
      "__________________\n",
      "Elementos diferentes de null/NaN: 12993\n",
      "__________________\n",
      "(12993,)\n",
      "None\n"
     ]
    }
   ],
   "source": [
    "c = 'DESEMP_SOCIALES_CIUDADANAS'\n",
    "print(data_2017[c].value_counts().sort_index().index)\n",
    "print(data_2017[c].value_counts().sort_index())\n",
    "print(missing_data(data_2017[c]))"
   ]
  },
  {
   "cell_type": "code",
   "execution_count": 124,
   "metadata": {
    "collapsed": false,
    "scrolled": true
   },
   "outputs": [
    {
     "name": "stdout",
     "output_type": "stream",
     "text": [
      "Int64Index([ 19,  20,  23,  24,  25,  26,  27,  28,  29,  30,  31,  32,  33,\n",
      "             34,  35,  36,  37,  38,  39,  40,  41,  42,  43,  44,  45,  46,\n",
      "             47,  48,  49,  50,  51,  52,  53,  54,  55,  56,  57,  58,  59,\n",
      "             60,  61,  62,  63,  64,  65,  66,  67,  68,  69,  70,  71,  72,\n",
      "             73,  74,  75,  76,  77,  78,  79,  80,  81,  82,  83,  84,  85,\n",
      "             86,  87,  88, 100],\n",
      "           dtype='int64')\n",
      "19       1\n",
      "20       1\n",
      "23       4\n",
      "24       2\n",
      "25       1\n",
      "26       1\n",
      "27      10\n",
      "28       8\n",
      "29       9\n",
      "30      13\n",
      "31      17\n",
      "32      21\n",
      "33      17\n",
      "34      30\n",
      "35      36\n",
      "36      46\n",
      "37      48\n",
      "38      46\n",
      "39      74\n",
      "40      64\n",
      "41      84\n",
      "42      97\n",
      "43     112\n",
      "44     120\n",
      "45     139\n",
      "46     176\n",
      "47     201\n",
      "48     216\n",
      "49     224\n",
      "50     240\n",
      "      ... \n",
      "60     430\n",
      "61     452\n",
      "62     457\n",
      "63     496\n",
      "64     479\n",
      "65     487\n",
      "66     452\n",
      "67     463\n",
      "68     410\n",
      "69     434\n",
      "70     419\n",
      "71     352\n",
      "72     359\n",
      "73     303\n",
      "74     311\n",
      "75     287\n",
      "76     224\n",
      "77     185\n",
      "78     182\n",
      "79     168\n",
      "80     133\n",
      "81     101\n",
      "82      96\n",
      "83      69\n",
      "84      37\n",
      "85      12\n",
      "86      34\n",
      "87       3\n",
      "88       4\n",
      "100     61\n",
      "Name: PUNT_SOCIALES_CIUDADANAS, dtype: int64\n",
      "Elementos null/NaN 0\n",
      "__________________\n",
      "Elementos diferentes de null/NaN: 12993\n",
      "__________________\n",
      "(12993,)\n",
      "None\n"
     ]
    }
   ],
   "source": [
    "c = 'PUNT_SOCIALES_CIUDADANAS'\n",
    "print(data_2017[c].value_counts().sort_index().index)\n",
    "print(data_2017[c].value_counts().sort_index())\n",
    "print(missing_data(data_2017[c]))"
   ]
  },
  {
   "cell_type": "code",
   "execution_count": 125,
   "metadata": {
    "collapsed": false,
    "scrolled": true
   },
   "outputs": [
    {
     "name": "stdout",
     "output_type": "stream",
     "text": [
      "Int64Index([  1,   2,   3,   4,   5,   6,   7,   8,   9,  10,  11,  12,  13,\n",
      "             14,  15,  16,  17,  18,  19,  20,  21,  22,  23,  24,  25,  26,\n",
      "             27,  28,  29,  30,  31,  32,  33,  34,  35,  36,  37,  38,  39,\n",
      "             40,  41,  42,  43,  44,  45,  46,  47,  48,  49,  50,  51,  52,\n",
      "             53,  54,  55,  56,  57,  58,  59,  60,  61,  62,  63,  64,  65,\n",
      "             66,  67,  68,  69,  70,  71,  72,  73,  74,  75,  76,  77,  78,\n",
      "             79,  80,  81,  82,  83,  84,  85,  86,  87,  88,  89,  90,  91,\n",
      "             92,  93,  94,  95,  96,  97,  98,  99, 100],\n",
      "           dtype='int64')\n",
      "1       28\n",
      "2       30\n",
      "3       29\n",
      "4       27\n",
      "5       28\n",
      "6       44\n",
      "7       39\n",
      "8       38\n",
      "9       33\n",
      "10      37\n",
      "11      52\n",
      "12      31\n",
      "13      49\n",
      "14      53\n",
      "15      59\n",
      "16      52\n",
      "17      62\n",
      "18      67\n",
      "19      58\n",
      "20      65\n",
      "21      68\n",
      "22      70\n",
      "23      88\n",
      "24      79\n",
      "25      86\n",
      "26      97\n",
      "27      92\n",
      "28      77\n",
      "29      97\n",
      "30     105\n",
      "      ... \n",
      "71     174\n",
      "72     184\n",
      "73     185\n",
      "74     175\n",
      "75     179\n",
      "76     180\n",
      "77     184\n",
      "78     178\n",
      "79     182\n",
      "80     184\n",
      "81     185\n",
      "82     187\n",
      "83     191\n",
      "84     191\n",
      "85     187\n",
      "86     190\n",
      "87     191\n",
      "88     185\n",
      "89     193\n",
      "90     185\n",
      "91     195\n",
      "92     195\n",
      "93     192\n",
      "94     195\n",
      "95     197\n",
      "96     196\n",
      "97     200\n",
      "98     197\n",
      "99     203\n",
      "100    196\n",
      "Name: PERCENTIL_SOCIALES_CIUDADANAS, dtype: int64\n",
      "Elementos null/NaN 0\n",
      "__________________\n",
      "Elementos diferentes de null/NaN: 12993\n",
      "__________________\n",
      "(12993,)\n",
      "None\n"
     ]
    }
   ],
   "source": [
    "c = 'PERCENTIL_SOCIALES_CIUDADANAS'\n",
    "print(data_2017[c].value_counts().sort_index().index)\n",
    "print(data_2017[c].value_counts().sort_index())\n",
    "print(missing_data(data_2017[c]))"
   ]
  },
  {
   "cell_type": "code",
   "execution_count": 126,
   "metadata": {
    "collapsed": false,
    "scrolled": true
   },
   "outputs": [
    {
     "name": "stdout",
     "output_type": "stream",
     "text": [
      "Int64Index([145, 146, 148, 155, 156, 158, 159, 160, 161, 163,\n",
      "            ...\n",
      "            445, 447, 448, 449, 450, 452, 455, 456, 465, 476],\n",
      "           dtype='int64', length=295)\n",
      "145     1\n",
      "146     1\n",
      "148     1\n",
      "155     1\n",
      "156     1\n",
      "158     1\n",
      "159     1\n",
      "160     1\n",
      "161     2\n",
      "163     3\n",
      "164     1\n",
      "167     5\n",
      "168     4\n",
      "170     4\n",
      "171     1\n",
      "172     2\n",
      "173     4\n",
      "174     3\n",
      "175     4\n",
      "176     1\n",
      "177     1\n",
      "178     3\n",
      "179    10\n",
      "180     4\n",
      "181     3\n",
      "182     5\n",
      "183    11\n",
      "184     2\n",
      "185     5\n",
      "186     8\n",
      "       ..\n",
      "422    11\n",
      "423     5\n",
      "424     3\n",
      "425     6\n",
      "426     4\n",
      "427     4\n",
      "428     7\n",
      "429     1\n",
      "430     6\n",
      "431     4\n",
      "432     5\n",
      "433     6\n",
      "434     2\n",
      "435     3\n",
      "436     1\n",
      "437     2\n",
      "438     1\n",
      "440     1\n",
      "441     1\n",
      "443     4\n",
      "445     2\n",
      "447     4\n",
      "448     1\n",
      "449     3\n",
      "450     2\n",
      "452     2\n",
      "455     2\n",
      "456     1\n",
      "465     1\n",
      "476     1\n",
      "Name: PUNT_GLOBAL, dtype: int64\n",
      "Elementos null/NaN 0\n",
      "__________________\n",
      "Elementos diferentes de null/NaN: 12993\n",
      "__________________\n",
      "(12993,)\n",
      "None\n"
     ]
    }
   ],
   "source": [
    "c = 'PUNT_GLOBAL'\n",
    "print(data_2017[c].value_counts().sort_index().index)\n",
    "print(data_2017[c].value_counts().sort_index())\n",
    "print(missing_data(data_2017[c]))"
   ]
  },
  {
   "cell_type": "code",
   "execution_count": 127,
   "metadata": {
    "collapsed": false,
    "scrolled": true
   },
   "outputs": [
    {
     "name": "stdout",
     "output_type": "stream",
     "text": [
      "Int64Index([  1,   2,   3,   4,   5,   6,   7,   8,   9,  10,  11,  12,  13,\n",
      "             14,  15,  16,  17,  18,  19,  20,  21,  22,  23,  24,  25,  26,\n",
      "             27,  28,  29,  30,  31,  32,  33,  34,  35,  36,  37,  38,  39,\n",
      "             40,  41,  42,  43,  44,  45,  46,  47,  48,  49,  50,  51,  52,\n",
      "             53,  54,  55,  56,  57,  58,  59,  60,  61,  62,  63,  64,  65,\n",
      "             66,  67,  68,  69,  70,  71,  72,  73,  74,  75,  76,  77,  78,\n",
      "             79,  80,  81,  82,  83,  84,  85,  86,  87,  88,  89,  90,  91,\n",
      "             92,  93,  94,  95,  96,  97,  98,  99, 100],\n",
      "           dtype='int64')\n",
      "1       10\n",
      "2       17\n",
      "3       14\n",
      "4       19\n",
      "5       22\n",
      "6       23\n",
      "7       21\n",
      "8       33\n",
      "9       27\n",
      "10      19\n",
      "11      25\n",
      "12      43\n",
      "13      42\n",
      "14      32\n",
      "15      30\n",
      "16      41\n",
      "17      41\n",
      "18      49\n",
      "19      50\n",
      "20      77\n",
      "21      42\n",
      "22      60\n",
      "23      59\n",
      "24      76\n",
      "25      69\n",
      "26      84\n",
      "27      72\n",
      "28      75\n",
      "29      82\n",
      "30      70\n",
      "      ... \n",
      "71     178\n",
      "72     203\n",
      "73     166\n",
      "74     218\n",
      "75     158\n",
      "76     188\n",
      "77     203\n",
      "78     219\n",
      "79     152\n",
      "80     195\n",
      "81     225\n",
      "82     168\n",
      "83     211\n",
      "84     181\n",
      "85     184\n",
      "86     213\n",
      "87     179\n",
      "88     200\n",
      "89     199\n",
      "90     186\n",
      "91     202\n",
      "92     210\n",
      "93     178\n",
      "94     197\n",
      "95     207\n",
      "96     203\n",
      "97     194\n",
      "98     202\n",
      "99     195\n",
      "100    200\n",
      "Name: PERCENTIL_GLOBAL, dtype: int64\n",
      "Elementos null/NaN 0\n",
      "__________________\n",
      "Elementos diferentes de null/NaN: 12993\n",
      "__________________\n",
      "(12993,)\n",
      "None\n"
     ]
    }
   ],
   "source": [
    "c = 'PERCENTIL_GLOBAL'\n",
    "print(data_2017[c].value_counts().sort_index().index)\n",
    "print(data_2017[c].value_counts().sort_index())\n",
    "print(missing_data(data_2017[c]))"
   ]
  },
  {
   "cell_type": "code",
   "execution_count": 128,
   "metadata": {
    "collapsed": false,
    "scrolled": true
   },
   "outputs": [
    {
     "name": "stdout",
     "output_type": "stream",
     "text": [
      "Float64Index([27.89428373, 35.49944271, 35.82843731, 36.09360751, 36.55567971,\n",
      "              36.74414314, 36.86705953, 36.94290831, 36.96442333,  36.9885562,\n",
      "              ...\n",
      "              81.04281273, 81.05295854, 81.56850411, 82.38718272, 82.67157446,\n",
      "              83.27184852,  83.3471976, 83.35385884, 83.36137039, 83.36152314],\n",
      "             dtype='float64', length=9681)\n",
      "27.894284      1\n",
      "35.499443      1\n",
      "35.828437      1\n",
      "36.093608      1\n",
      "36.555680      1\n",
      "36.744143      1\n",
      "36.867060      1\n",
      "36.942908      1\n",
      "36.964423      1\n",
      "36.988556      1\n",
      "37.018761      1\n",
      "37.129681      1\n",
      "37.578858      1\n",
      "38.461286      1\n",
      "38.490871      1\n",
      "38.679381      1\n",
      "39.381749      1\n",
      "39.681524      1\n",
      "39.763029      1\n",
      "39.942896      1\n",
      "39.948593      1\n",
      "39.999571      1\n",
      "40.073659      1\n",
      "40.119984      1\n",
      "40.229543      1\n",
      "40.240233      1\n",
      "40.602855      1\n",
      "40.926172      1\n",
      "40.929184      1\n",
      "41.058568      1\n",
      "            ... \n",
      "79.781771      4\n",
      "79.795546      1\n",
      "79.795937     70\n",
      "79.814600     10\n",
      "79.815825      2\n",
      "79.971065      1\n",
      "79.979575      7\n",
      "80.000295      2\n",
      "80.044318      2\n",
      "80.154692      1\n",
      "80.221348      6\n",
      "80.278639     18\n",
      "80.348855      7\n",
      "80.383404      1\n",
      "80.432146      1\n",
      "80.465358      2\n",
      "80.623374      4\n",
      "80.649206      2\n",
      "80.950393      1\n",
      "80.955784     12\n",
      "81.042813      2\n",
      "81.052959     86\n",
      "81.568504      2\n",
      "82.387183      1\n",
      "82.671574      9\n",
      "83.271849      1\n",
      "83.347198      1\n",
      "83.353859      1\n",
      "83.361370      2\n",
      "83.361523    192\n",
      "Name: ESTU_INSE_INDIVIDUAL, dtype: int64\n",
      "Elementos null/NaN 309\n",
      "__________________\n",
      "Elementos diferentes de null/NaN: 12684\n",
      "__________________\n",
      "(12684,)\n",
      "None\n"
     ]
    }
   ],
   "source": [
    "c = 'ESTU_INSE_INDIVIDUAL'\n",
    "print(data_2017[c].value_counts().sort_index().index)\n",
    "print(data_2017[c].value_counts().sort_index())\n",
    "print(missing_data(data_2017[c]))"
   ]
  },
  {
   "cell_type": "code",
   "execution_count": 129,
   "metadata": {
    "collapsed": true
   },
   "outputs": [],
   "source": [
    "idx = data_2017[data_2017[c].isnull()].index\n",
    "data_2017 = data_2017.drop(idx)"
   ]
  },
  {
   "cell_type": "code",
   "execution_count": 130,
   "metadata": {
    "collapsed": false
   },
   "outputs": [
    {
     "name": "stdout",
     "output_type": "stream",
     "text": [
      "Index(['NSE1', 'NSE2', 'NSE3', 'NSE4'], dtype='object')\n",
      "NSE1      30\n",
      "NSE2     583\n",
      "NSE3    4531\n",
      "NSE4    7540\n",
      "Name: ESTU_NSE_INDIVIDUAL, dtype: int64\n",
      "Elementos null/NaN 0\n",
      "__________________\n",
      "Elementos diferentes de null/NaN: 12684\n",
      "__________________\n",
      "(12684,)\n",
      "None\n"
     ]
    }
   ],
   "source": [
    "c = 'ESTU_NSE_INDIVIDUAL'\n",
    "print(data_2017[c].value_counts().sort_index().index)\n",
    "print(data_2017[c].value_counts().sort_index())\n",
    "print(missing_data(data_2017[c]))"
   ]
  },
  {
   "cell_type": "code",
   "execution_count": 131,
   "metadata": {
    "collapsed": false
   },
   "outputs": [
    {
     "name": "stdout",
     "output_type": "stream",
     "text": [
      "Float64Index([2.0, 3.0, 4.0], dtype='float64')\n",
      "2      66\n",
      "3    4119\n",
      "4    8467\n",
      "Name: ESTU_NSE_ESTABLECIMIENTO, dtype: int64\n",
      "Elementos null/NaN 32\n",
      "__________________\n",
      "Elementos diferentes de null/NaN: 12652\n",
      "__________________\n",
      "(12652,)\n",
      "None\n"
     ]
    }
   ],
   "source": [
    "c = 'ESTU_NSE_ESTABLECIMIENTO'\n",
    "print(data_2017[c].value_counts().sort_index().index)\n",
    "print(data_2017[c].value_counts().sort_index())\n",
    "print(missing_data(data_2017[c]))"
   ]
  },
  {
   "cell_type": "code",
   "execution_count": 132,
   "metadata": {
    "collapsed": true
   },
   "outputs": [],
   "source": [
    "idx = data_2017[data_2017[c].isnull()].index\n",
    "data_2017 = data_2017.drop(idx)"
   ]
  },
  {
   "cell_type": "code",
   "execution_count": 133,
   "metadata": {
    "collapsed": false
   },
   "outputs": [
    {
     "name": "stdout",
     "output_type": "stream",
     "text": [
      "Index(['Publicar', 'Validez por oficina jurídica'], dtype='object')\n",
      "Publicar                        12588\n",
      "Validez por oficina jurídica       64\n",
      "Name: ESTU_ESTADOINVESTIGACION, dtype: int64\n",
      "Elementos null/NaN 0\n",
      "__________________\n",
      "Elementos diferentes de null/NaN: 12652\n",
      "__________________\n",
      "(12652,)\n",
      "None\n"
     ]
    }
   ],
   "source": [
    "c = 'ESTU_ESTADOINVESTIGACION'\n",
    "print(data_2017[c].value_counts().sort_index().index)\n",
    "print(data_2017[c].value_counts().sort_index())\n",
    "print(missing_data(data_2017[c]))"
   ]
  },
  {
   "cell_type": "code",
   "execution_count": 134,
   "metadata": {
    "collapsed": false
   },
   "outputs": [],
   "source": [
    "dr = ['ESTU_TIPODOCUMENTO', 'COLE_NOMBRE_SEDE']\n",
    "data_2017 = data_2017.drop(dr, axis=1)"
   ]
  },
  {
   "cell_type": "markdown",
   "metadata": {},
   "source": [
    "Here i encode the DataFrame and transform it into .csv files"
   ]
  },
  {
   "cell_type": "code",
   "execution_count": 140,
   "metadata": {
    "collapsed": true
   },
   "outputs": [],
   "source": [
    "data_2017 = label_encoder(data_2017)"
   ]
  },
  {
   "cell_type": "code",
   "execution_count": 142,
   "metadata": {
    "collapsed": true
   },
   "outputs": [],
   "source": [
    "data_2017.to_csv('../DatosFTPICFES/SABER11/SB11-BASES_DE_DATOS/READY/2017_1.csv', index = False, sep=';')"
   ]
  }
 ],
 "metadata": {
  "kernelspec": {
   "display_name": "Python 3",
   "language": "python",
   "name": "python3"
  },
  "language_info": {
   "codemirror_mode": {
    "name": "ipython",
    "version": 3
   },
   "file_extension": ".py",
   "mimetype": "text/x-python",
   "name": "python",
   "nbconvert_exporter": "python",
   "pygments_lexer": "ipython3",
   "version": "3.4.2"
  }
 },
 "nbformat": 4,
 "nbformat_minor": 0
}
