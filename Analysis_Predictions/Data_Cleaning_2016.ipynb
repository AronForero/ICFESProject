{
 "cells": [
  {
   "cell_type": "code",
   "execution_count": 1,
   "metadata": {
    "collapsed": true
   },
   "outputs": [],
   "source": [
    "import pandas as pd\n",
    "import numpy as np\n",
    "%run -i ../tools/functions.py\n",
    "%run -i ../tools/label_encoder.py"
   ]
  },
  {
   "cell_type": "code",
   "execution_count": 2,
   "metadata": {
    "collapsed": false
   },
   "outputs": [
    {
     "name": "stderr",
     "output_type": "stream",
     "text": [
      "/usr/local/lib/python3.4/dist-packages/IPython/core/interactiveshell.py:2902: DtypeWarning: Columns (11,12,13,14) have mixed types. Specify dtype option on import or set low_memory=False.\n",
      "  interactivity=interactivity, compiler=compiler, result=result)\n"
     ]
    }
   ],
   "source": [
    "data_2016 = pd.read_csv('../DatosFTPICFES/SABER11/SB11-BASES_DE_DATOS/SB11-20161-RGSTRO-CLFCCN-V1-0.txt', delimiter = '|')"
   ]
  },
  {
   "cell_type": "code",
   "execution_count": 3,
   "metadata": {
    "collapsed": false
   },
   "outputs": [
    {
     "data": {
      "text/plain": [
       "(74129, 64)"
      ]
     },
     "execution_count": 3,
     "metadata": {},
     "output_type": "execute_result"
    }
   ],
   "source": [
    "data_2016.shape"
   ]
  },
  {
   "cell_type": "code",
   "execution_count": 4,
   "metadata": {
    "collapsed": false,
    "scrolled": true
   },
   "outputs": [
    {
     "data": {
      "text/html": [
       "<div>\n",
       "<table border=\"1\" class=\"dataframe\">\n",
       "  <thead>\n",
       "    <tr style=\"text-align: right;\">\n",
       "      <th></th>\n",
       "      <th>0</th>\n",
       "      <th>1</th>\n",
       "      <th>2</th>\n",
       "    </tr>\n",
       "  </thead>\n",
       "  <tbody>\n",
       "    <tr>\n",
       "      <th>PERIODO</th>\n",
       "      <td>20161</td>\n",
       "      <td>20161</td>\n",
       "      <td>20161</td>\n",
       "    </tr>\n",
       "    <tr>\n",
       "      <th>ESTU_CONSECUTIVO</th>\n",
       "      <td>SABER11201611</td>\n",
       "      <td>SABER11201612</td>\n",
       "      <td>SABER11201613</td>\n",
       "    </tr>\n",
       "    <tr>\n",
       "      <th>ESTU_EDAD</th>\n",
       "      <td>38</td>\n",
       "      <td>36</td>\n",
       "      <td>26</td>\n",
       "    </tr>\n",
       "    <tr>\n",
       "      <th>ESTU_TIPO_DOCUMENTO</th>\n",
       "      <td>CC</td>\n",
       "      <td>CC</td>\n",
       "      <td>CC</td>\n",
       "    </tr>\n",
       "    <tr>\n",
       "      <th>ESTU_PAIS_RESIDE</th>\n",
       "      <td>1</td>\n",
       "      <td>1</td>\n",
       "      <td>1</td>\n",
       "    </tr>\n",
       "    <tr>\n",
       "      <th>ESTU_GENERO</th>\n",
       "      <td>M</td>\n",
       "      <td>M</td>\n",
       "      <td>M</td>\n",
       "    </tr>\n",
       "    <tr>\n",
       "      <th>ESTU_FECHA_NACIMIENTO</th>\n",
       "      <td>08/02/1978</td>\n",
       "      <td>30/01/1980</td>\n",
       "      <td>05/04/1989</td>\n",
       "    </tr>\n",
       "    <tr>\n",
       "      <th>ESTU_ETNIA</th>\n",
       "      <td>NaN</td>\n",
       "      <td>NaN</td>\n",
       "      <td>NaN</td>\n",
       "    </tr>\n",
       "    <tr>\n",
       "      <th>ESTU_LIMITA_COGNITIVA</th>\n",
       "      <td>NaN</td>\n",
       "      <td>NaN</td>\n",
       "      <td>NaN</td>\n",
       "    </tr>\n",
       "    <tr>\n",
       "      <th>ESTU_LIMITA_MOTRIZ</th>\n",
       "      <td>NaN</td>\n",
       "      <td>NaN</td>\n",
       "      <td>NaN</td>\n",
       "    </tr>\n",
       "    <tr>\n",
       "      <th>ESTU_LIMITA_INVIDENTE</th>\n",
       "      <td>NaN</td>\n",
       "      <td>NaN</td>\n",
       "      <td>NaN</td>\n",
       "    </tr>\n",
       "    <tr>\n",
       "      <th>ESTU_LIMITA_CONDICIONESPECIAL</th>\n",
       "      <td>NaN</td>\n",
       "      <td>NaN</td>\n",
       "      <td>NaN</td>\n",
       "    </tr>\n",
       "    <tr>\n",
       "      <th>ESTU_LIMITA_SORDO</th>\n",
       "      <td>NaN</td>\n",
       "      <td>NaN</td>\n",
       "      <td>NaN</td>\n",
       "    </tr>\n",
       "    <tr>\n",
       "      <th>ESTU_LIMITA_SDOWN</th>\n",
       "      <td>NaN</td>\n",
       "      <td>NaN</td>\n",
       "      <td>NaN</td>\n",
       "    </tr>\n",
       "    <tr>\n",
       "      <th>ESTU_LIMITA_AUTISMO</th>\n",
       "      <td>NaN</td>\n",
       "      <td>NaN</td>\n",
       "      <td>NaN</td>\n",
       "    </tr>\n",
       "    <tr>\n",
       "      <th>ESTU_AREA_RESIDE</th>\n",
       "      <td>U</td>\n",
       "      <td>U</td>\n",
       "      <td>U</td>\n",
       "    </tr>\n",
       "    <tr>\n",
       "      <th>COLE_COD_MCPIO_UBICACION</th>\n",
       "      <td>52001</td>\n",
       "      <td>11001</td>\n",
       "      <td>11001</td>\n",
       "    </tr>\n",
       "    <tr>\n",
       "      <th>ESTU_RESIDE_MCPIO</th>\n",
       "      <td>PASTO</td>\n",
       "      <td>BOGOTÁ D.C.</td>\n",
       "      <td>BOGOTÁ D.C.</td>\n",
       "    </tr>\n",
       "    <tr>\n",
       "      <th>ESTU_RESIDE_DEPTO</th>\n",
       "      <td>NARIÑO</td>\n",
       "      <td>BOGOTA</td>\n",
       "      <td>BOGOTA</td>\n",
       "    </tr>\n",
       "    <tr>\n",
       "      <th>ESTU_ZONA_RESIDE</th>\n",
       "      <td>10</td>\n",
       "      <td>1</td>\n",
       "      <td>4</td>\n",
       "    </tr>\n",
       "    <tr>\n",
       "      <th>COLE_COD_DANE_INSTITUCION</th>\n",
       "      <td>NaN</td>\n",
       "      <td>NaN</td>\n",
       "      <td>NaN</td>\n",
       "    </tr>\n",
       "    <tr>\n",
       "      <th>COLE_COD_ICFES</th>\n",
       "      <td>NaN</td>\n",
       "      <td>NaN</td>\n",
       "      <td>NaN</td>\n",
       "    </tr>\n",
       "    <tr>\n",
       "      <th>COLE_NOMBRE_SEDE</th>\n",
       "      <td>NaN</td>\n",
       "      <td>NaN</td>\n",
       "      <td>NaN</td>\n",
       "    </tr>\n",
       "    <tr>\n",
       "      <th>COLE_JORNADA</th>\n",
       "      <td>NaN</td>\n",
       "      <td>NaN</td>\n",
       "      <td>NaN</td>\n",
       "    </tr>\n",
       "    <tr>\n",
       "      <th>ESTU_PRIVADO_LIBERTAD</th>\n",
       "      <td>N</td>\n",
       "      <td>N</td>\n",
       "      <td>N</td>\n",
       "    </tr>\n",
       "    <tr>\n",
       "      <th>ESTU_ANO_TERMINO_BACHILL</th>\n",
       "      <td>1997</td>\n",
       "      <td>1998</td>\n",
       "      <td>2008</td>\n",
       "    </tr>\n",
       "    <tr>\n",
       "      <th>ESTU_MES_TERMINO_BACHILL</th>\n",
       "      <td>7</td>\n",
       "      <td>10</td>\n",
       "      <td>11</td>\n",
       "    </tr>\n",
       "    <tr>\n",
       "      <th>ESTU_NUMERO_LIBROS</th>\n",
       "      <td>0 A 10 LIBROS</td>\n",
       "      <td>MÁS DE 100 LIBROS</td>\n",
       "      <td>0 A 10 LIBROS</td>\n",
       "    </tr>\n",
       "    <tr>\n",
       "      <th>ESTU_OTRO_PLANTEL</th>\n",
       "      <td>COLEGIO ANTONIO NARIÑO</td>\n",
       "      <td>NaN</td>\n",
       "      <td>NaN</td>\n",
       "    </tr>\n",
       "    <tr>\n",
       "      <th>ESTU_COD_OTRO_PAIS_PLANTEL</th>\n",
       "      <td>1</td>\n",
       "      <td>1</td>\n",
       "      <td>1</td>\n",
       "    </tr>\n",
       "    <tr>\n",
       "      <th>...</th>\n",
       "      <td>...</td>\n",
       "      <td>...</td>\n",
       "      <td>...</td>\n",
       "    </tr>\n",
       "    <tr>\n",
       "      <th>ESTU_DEPTO_PRESENTACION</th>\n",
       "      <td>NARIÑO</td>\n",
       "      <td>BOGOTA</td>\n",
       "      <td>BOGOTA</td>\n",
       "    </tr>\n",
       "    <tr>\n",
       "      <th>FAMI_EDUCA_PADRE</th>\n",
       "      <td>4</td>\n",
       "      <td>8</td>\n",
       "      <td>3</td>\n",
       "    </tr>\n",
       "    <tr>\n",
       "      <th>FAMI_EDUCA_MADRE</th>\n",
       "      <td>4</td>\n",
       "      <td>4</td>\n",
       "      <td>2</td>\n",
       "    </tr>\n",
       "    <tr>\n",
       "      <th>FAMI_OCUPA_PADRE</th>\n",
       "      <td>9</td>\n",
       "      <td>12</td>\n",
       "      <td>9</td>\n",
       "    </tr>\n",
       "    <tr>\n",
       "      <th>FAMI_OCUPA_MADRE</th>\n",
       "      <td>10</td>\n",
       "      <td>12</td>\n",
       "      <td>8</td>\n",
       "    </tr>\n",
       "    <tr>\n",
       "      <th>FAMI_NUM_HERMANOS</th>\n",
       "      <td>3</td>\n",
       "      <td>1</td>\n",
       "      <td>6</td>\n",
       "    </tr>\n",
       "    <tr>\n",
       "      <th>FAMI_ESTRATO_VIVIENDA</th>\n",
       "      <td>2</td>\n",
       "      <td>5</td>\n",
       "      <td>2</td>\n",
       "    </tr>\n",
       "    <tr>\n",
       "      <th>FAMI_NIVEL_SISBEN</th>\n",
       "      <td>5</td>\n",
       "      <td>5</td>\n",
       "      <td>2</td>\n",
       "    </tr>\n",
       "    <tr>\n",
       "      <th>FAMI_PERSONAS_HOGAR</th>\n",
       "      <td>4</td>\n",
       "      <td>1</td>\n",
       "      <td>2</td>\n",
       "    </tr>\n",
       "    <tr>\n",
       "      <th>FAMI_CUARTOS_HOGAR</th>\n",
       "      <td>2</td>\n",
       "      <td>1</td>\n",
       "      <td>2</td>\n",
       "    </tr>\n",
       "    <tr>\n",
       "      <th>FAMI_PISOSHOGAR</th>\n",
       "      <td>2</td>\n",
       "      <td>4</td>\n",
       "      <td>2</td>\n",
       "    </tr>\n",
       "    <tr>\n",
       "      <th>FAMI_TELEFONO_FIJO</th>\n",
       "      <td>N</td>\n",
       "      <td>S</td>\n",
       "      <td>N</td>\n",
       "    </tr>\n",
       "    <tr>\n",
       "      <th>FAMI_INTERNET</th>\n",
       "      <td>S</td>\n",
       "      <td>S</td>\n",
       "      <td>N</td>\n",
       "    </tr>\n",
       "    <tr>\n",
       "      <th>FAMI_TELEVISOR</th>\n",
       "      <td>S</td>\n",
       "      <td>N</td>\n",
       "      <td>S</td>\n",
       "    </tr>\n",
       "    <tr>\n",
       "      <th>FAMI_COMPUTADOR</th>\n",
       "      <td>S</td>\n",
       "      <td>S</td>\n",
       "      <td>N</td>\n",
       "    </tr>\n",
       "    <tr>\n",
       "      <th>FAMI_DVD</th>\n",
       "      <td>S</td>\n",
       "      <td>S</td>\n",
       "      <td>S</td>\n",
       "    </tr>\n",
       "    <tr>\n",
       "      <th>FAMI_LAVADORA</th>\n",
       "      <td>N</td>\n",
       "      <td>N</td>\n",
       "      <td>N</td>\n",
       "    </tr>\n",
       "    <tr>\n",
       "      <th>FAMI_MICROONDAS</th>\n",
       "      <td>S</td>\n",
       "      <td>N</td>\n",
       "      <td>N</td>\n",
       "    </tr>\n",
       "    <tr>\n",
       "      <th>FAMI_AUTOMOVIL</th>\n",
       "      <td>N</td>\n",
       "      <td>N</td>\n",
       "      <td>N</td>\n",
       "    </tr>\n",
       "    <tr>\n",
       "      <th>FAMI_HORNO</th>\n",
       "      <td>N</td>\n",
       "      <td>S</td>\n",
       "      <td>N</td>\n",
       "    </tr>\n",
       "    <tr>\n",
       "      <th>FAMI_INGRESO_FMILIAR_MENSUAL</th>\n",
       "      <td>2</td>\n",
       "      <td>5</td>\n",
       "      <td>2</td>\n",
       "    </tr>\n",
       "    <tr>\n",
       "      <th>ESTU_TRABAJA</th>\n",
       "      <td>NaN</td>\n",
       "      <td>NaN</td>\n",
       "      <td>NaN</td>\n",
       "    </tr>\n",
       "    <tr>\n",
       "      <th>ESTU_RECIBE_SALARIO</th>\n",
       "      <td>NaN</td>\n",
       "      <td>NaN</td>\n",
       "      <td>NaN</td>\n",
       "    </tr>\n",
       "    <tr>\n",
       "      <th>ESTU_VECES_ESTADO_ESTUDIANTIL</th>\n",
       "      <td>4</td>\n",
       "      <td>2</td>\n",
       "      <td>1</td>\n",
       "    </tr>\n",
       "    <tr>\n",
       "      <th>PUNT_LECTURA_CRITICA</th>\n",
       "      <td>57</td>\n",
       "      <td>85</td>\n",
       "      <td>39</td>\n",
       "    </tr>\n",
       "    <tr>\n",
       "      <th>PUNT_MATEMATICAS</th>\n",
       "      <td>61</td>\n",
       "      <td>67</td>\n",
       "      <td>57</td>\n",
       "    </tr>\n",
       "    <tr>\n",
       "      <th>PUNT_C_NATURALES</th>\n",
       "      <td>61</td>\n",
       "      <td>55</td>\n",
       "      <td>51</td>\n",
       "    </tr>\n",
       "    <tr>\n",
       "      <th>PUNT_SOCIALES_CIUDADANAS</th>\n",
       "      <td>64</td>\n",
       "      <td>77</td>\n",
       "      <td>47</td>\n",
       "    </tr>\n",
       "    <tr>\n",
       "      <th>PUNT_INGLES</th>\n",
       "      <td>55</td>\n",
       "      <td>100</td>\n",
       "      <td>46</td>\n",
       "    </tr>\n",
       "    <tr>\n",
       "      <th>DESEMP_INGLES</th>\n",
       "      <td>A1</td>\n",
       "      <td>B+</td>\n",
       "      <td>A-</td>\n",
       "    </tr>\n",
       "  </tbody>\n",
       "</table>\n",
       "<p>64 rows × 3 columns</p>\n",
       "</div>"
      ],
      "text/plain": [
       "                                                    0                  1  \\\n",
       "PERIODO                                         20161              20161   \n",
       "ESTU_CONSECUTIVO                        SABER11201611      SABER11201612   \n",
       "ESTU_EDAD                                          38                 36   \n",
       "ESTU_TIPO_DOCUMENTO                                CC                 CC   \n",
       "ESTU_PAIS_RESIDE                                    1                  1   \n",
       "ESTU_GENERO                                         M                  M   \n",
       "ESTU_FECHA_NACIMIENTO                      08/02/1978         30/01/1980   \n",
       "ESTU_ETNIA                                        NaN                NaN   \n",
       "ESTU_LIMITA_COGNITIVA                             NaN                NaN   \n",
       "ESTU_LIMITA_MOTRIZ                                NaN                NaN   \n",
       "ESTU_LIMITA_INVIDENTE                             NaN                NaN   \n",
       "ESTU_LIMITA_CONDICIONESPECIAL                     NaN                NaN   \n",
       "ESTU_LIMITA_SORDO                                 NaN                NaN   \n",
       "ESTU_LIMITA_SDOWN                                 NaN                NaN   \n",
       "ESTU_LIMITA_AUTISMO                               NaN                NaN   \n",
       "ESTU_AREA_RESIDE                                    U                  U   \n",
       "COLE_COD_MCPIO_UBICACION                        52001              11001   \n",
       "ESTU_RESIDE_MCPIO                               PASTO        BOGOTÁ D.C.   \n",
       "ESTU_RESIDE_DEPTO                              NARIÑO             BOGOTA   \n",
       "ESTU_ZONA_RESIDE                                   10                  1   \n",
       "COLE_COD_DANE_INSTITUCION                         NaN                NaN   \n",
       "COLE_COD_ICFES                                    NaN                NaN   \n",
       "COLE_NOMBRE_SEDE                                  NaN                NaN   \n",
       "COLE_JORNADA                                      NaN                NaN   \n",
       "ESTU_PRIVADO_LIBERTAD                               N                  N   \n",
       "ESTU_ANO_TERMINO_BACHILL                         1997               1998   \n",
       "ESTU_MES_TERMINO_BACHILL                            7                 10   \n",
       "ESTU_NUMERO_LIBROS                      0 A 10 LIBROS  MÁS DE 100 LIBROS   \n",
       "ESTU_OTRO_PLANTEL              COLEGIO ANTONIO NARIÑO                NaN   \n",
       "ESTU_COD_OTRO_PAIS_PLANTEL                          1                  1   \n",
       "...                                               ...                ...   \n",
       "ESTU_DEPTO_PRESENTACION                        NARIÑO             BOGOTA   \n",
       "FAMI_EDUCA_PADRE                                    4                  8   \n",
       "FAMI_EDUCA_MADRE                                    4                  4   \n",
       "FAMI_OCUPA_PADRE                                    9                 12   \n",
       "FAMI_OCUPA_MADRE                                   10                 12   \n",
       "FAMI_NUM_HERMANOS                                   3                  1   \n",
       "FAMI_ESTRATO_VIVIENDA                               2                  5   \n",
       "FAMI_NIVEL_SISBEN                                   5                  5   \n",
       "FAMI_PERSONAS_HOGAR                                 4                  1   \n",
       "FAMI_CUARTOS_HOGAR                                  2                  1   \n",
       "FAMI_PISOSHOGAR                                     2                  4   \n",
       "FAMI_TELEFONO_FIJO                                  N                  S   \n",
       "FAMI_INTERNET                                       S                  S   \n",
       "FAMI_TELEVISOR                                      S                  N   \n",
       "FAMI_COMPUTADOR                                     S                  S   \n",
       "FAMI_DVD                                            S                  S   \n",
       "FAMI_LAVADORA                                       N                  N   \n",
       "FAMI_MICROONDAS                                     S                  N   \n",
       "FAMI_AUTOMOVIL                                      N                  N   \n",
       "FAMI_HORNO                                          N                  S   \n",
       "FAMI_INGRESO_FMILIAR_MENSUAL                        2                  5   \n",
       "ESTU_TRABAJA                                      NaN                NaN   \n",
       "ESTU_RECIBE_SALARIO                               NaN                NaN   \n",
       "ESTU_VECES_ESTADO_ESTUDIANTIL                       4                  2   \n",
       "PUNT_LECTURA_CRITICA                               57                 85   \n",
       "PUNT_MATEMATICAS                                   61                 67   \n",
       "PUNT_C_NATURALES                                   61                 55   \n",
       "PUNT_SOCIALES_CIUDADANAS                           64                 77   \n",
       "PUNT_INGLES                                        55                100   \n",
       "DESEMP_INGLES                                      A1                 B+   \n",
       "\n",
       "                                           2  \n",
       "PERIODO                                20161  \n",
       "ESTU_CONSECUTIVO               SABER11201613  \n",
       "ESTU_EDAD                                 26  \n",
       "ESTU_TIPO_DOCUMENTO                       CC  \n",
       "ESTU_PAIS_RESIDE                           1  \n",
       "ESTU_GENERO                                M  \n",
       "ESTU_FECHA_NACIMIENTO             05/04/1989  \n",
       "ESTU_ETNIA                               NaN  \n",
       "ESTU_LIMITA_COGNITIVA                    NaN  \n",
       "ESTU_LIMITA_MOTRIZ                       NaN  \n",
       "ESTU_LIMITA_INVIDENTE                    NaN  \n",
       "ESTU_LIMITA_CONDICIONESPECIAL            NaN  \n",
       "ESTU_LIMITA_SORDO                        NaN  \n",
       "ESTU_LIMITA_SDOWN                        NaN  \n",
       "ESTU_LIMITA_AUTISMO                      NaN  \n",
       "ESTU_AREA_RESIDE                           U  \n",
       "COLE_COD_MCPIO_UBICACION               11001  \n",
       "ESTU_RESIDE_MCPIO                BOGOTÁ D.C.  \n",
       "ESTU_RESIDE_DEPTO                     BOGOTA  \n",
       "ESTU_ZONA_RESIDE                           4  \n",
       "COLE_COD_DANE_INSTITUCION                NaN  \n",
       "COLE_COD_ICFES                           NaN  \n",
       "COLE_NOMBRE_SEDE                         NaN  \n",
       "COLE_JORNADA                             NaN  \n",
       "ESTU_PRIVADO_LIBERTAD                      N  \n",
       "ESTU_ANO_TERMINO_BACHILL                2008  \n",
       "ESTU_MES_TERMINO_BACHILL                  11  \n",
       "ESTU_NUMERO_LIBROS             0 A 10 LIBROS  \n",
       "ESTU_OTRO_PLANTEL                        NaN  \n",
       "ESTU_COD_OTRO_PAIS_PLANTEL                 1  \n",
       "...                                      ...  \n",
       "ESTU_DEPTO_PRESENTACION               BOGOTA  \n",
       "FAMI_EDUCA_PADRE                           3  \n",
       "FAMI_EDUCA_MADRE                           2  \n",
       "FAMI_OCUPA_PADRE                           9  \n",
       "FAMI_OCUPA_MADRE                           8  \n",
       "FAMI_NUM_HERMANOS                          6  \n",
       "FAMI_ESTRATO_VIVIENDA                      2  \n",
       "FAMI_NIVEL_SISBEN                          2  \n",
       "FAMI_PERSONAS_HOGAR                        2  \n",
       "FAMI_CUARTOS_HOGAR                         2  \n",
       "FAMI_PISOSHOGAR                            2  \n",
       "FAMI_TELEFONO_FIJO                         N  \n",
       "FAMI_INTERNET                              N  \n",
       "FAMI_TELEVISOR                             S  \n",
       "FAMI_COMPUTADOR                            N  \n",
       "FAMI_DVD                                   S  \n",
       "FAMI_LAVADORA                              N  \n",
       "FAMI_MICROONDAS                            N  \n",
       "FAMI_AUTOMOVIL                             N  \n",
       "FAMI_HORNO                                 N  \n",
       "FAMI_INGRESO_FMILIAR_MENSUAL               2  \n",
       "ESTU_TRABAJA                             NaN  \n",
       "ESTU_RECIBE_SALARIO                      NaN  \n",
       "ESTU_VECES_ESTADO_ESTUDIANTIL              1  \n",
       "PUNT_LECTURA_CRITICA                      39  \n",
       "PUNT_MATEMATICAS                          57  \n",
       "PUNT_C_NATURALES                          51  \n",
       "PUNT_SOCIALES_CIUDADANAS                  47  \n",
       "PUNT_INGLES                               46  \n",
       "DESEMP_INGLES                             A-  \n",
       "\n",
       "[64 rows x 3 columns]"
      ]
     },
     "execution_count": 4,
     "metadata": {},
     "output_type": "execute_result"
    }
   ],
   "source": [
    "data_2016.head(3).T"
   ]
  },
  {
   "cell_type": "code",
   "execution_count": 5,
   "metadata": {
    "collapsed": false,
    "scrolled": true
   },
   "outputs": [
    {
     "name": "stdout",
     "output_type": "stream",
     "text": [
      "Index(['SABER11201611', 'SABER112016110', 'SABER1120161100',\n",
      "       'SABER11201611000', 'SABER112016110000', 'SABER112016110001',\n",
      "       'SABER112016110002', 'SABER112016110003', 'SABER112016110004',\n",
      "       'SABER112016110005',\n",
      "       ...\n",
      "       'SABER11201619990', 'SABER11201619991', 'SABER11201619992',\n",
      "       'SABER11201619993', 'SABER11201619994', 'SABER11201619995',\n",
      "       'SABER11201619996', 'SABER11201619997', 'SABER11201619998',\n",
      "       'SABER11201619999'],\n",
      "      dtype='object', length=74129)\n",
      "SABER11201611        1\n",
      "SABER112016110       1\n",
      "SABER1120161100      1\n",
      "SABER11201611000     1\n",
      "SABER112016110000    1\n",
      "SABER112016110001    1\n",
      "SABER112016110002    1\n",
      "SABER112016110003    1\n",
      "SABER112016110004    1\n",
      "SABER112016110005    1\n",
      "SABER112016110006    1\n",
      "SABER112016110007    1\n",
      "SABER112016110008    1\n",
      "SABER112016110009    1\n",
      "SABER11201611001     1\n",
      "SABER112016110010    1\n",
      "SABER112016110011    1\n",
      "SABER112016110012    1\n",
      "SABER112016110013    1\n",
      "SABER112016110014    1\n",
      "SABER112016110015    1\n",
      "SABER112016110016    1\n",
      "SABER112016110017    1\n",
      "SABER112016110018    1\n",
      "SABER112016110019    1\n",
      "SABER11201611002     1\n",
      "SABER112016110020    1\n",
      "SABER112016110021    1\n",
      "SABER112016110022    1\n",
      "SABER112016110023    1\n",
      "                    ..\n",
      "SABER11201619972     1\n",
      "SABER11201619973     1\n",
      "SABER11201619974     1\n",
      "SABER11201619975     1\n",
      "SABER11201619976     1\n",
      "SABER11201619977     1\n",
      "SABER11201619978     1\n",
      "SABER11201619979     1\n",
      "SABER1120161998      1\n",
      "SABER11201619980     1\n",
      "SABER11201619981     1\n",
      "SABER11201619982     1\n",
      "SABER11201619983     1\n",
      "SABER11201619984     1\n",
      "SABER11201619985     1\n",
      "SABER11201619986     1\n",
      "SABER11201619987     1\n",
      "SABER11201619988     1\n",
      "SABER11201619989     1\n",
      "SABER1120161999      1\n",
      "SABER11201619990     1\n",
      "SABER11201619991     1\n",
      "SABER11201619992     1\n",
      "SABER11201619993     1\n",
      "SABER11201619994     1\n",
      "SABER11201619995     1\n",
      "SABER11201619996     1\n",
      "SABER11201619997     1\n",
      "SABER11201619998     1\n",
      "SABER11201619999     1\n",
      "Name: ESTU_CONSECUTIVO, dtype: int64\n",
      "Elementos null/NaN 0\n",
      "__________________\n",
      "Elementos diferentes de null/NaN: 74129\n",
      "__________________\n",
      "(74129,)\n",
      "None\n"
     ]
    }
   ],
   "source": [
    "c = 'ESTU_CONSECUTIVO'\n",
    "print(data_2016[c].value_counts().sort_index().index)\n",
    "print(data_2016[c].value_counts().sort_index())\n",
    "print(missing_data(data_2016[c]))"
   ]
  },
  {
   "cell_type": "code",
   "execution_count": 6,
   "metadata": {
    "collapsed": true
   },
   "outputs": [],
   "source": [
    "data_2016 = data_2016.drop(c, axis=1)"
   ]
  },
  {
   "cell_type": "code",
   "execution_count": 7,
   "metadata": {
    "collapsed": false
   },
   "outputs": [
    {
     "name": "stdout",
     "output_type": "stream",
     "text": [
      "Int64Index([20161], dtype='int64')\n",
      "20161    74129\n",
      "Name: PERIODO, dtype: int64\n",
      "Elementos null/NaN 0\n",
      "__________________\n",
      "Elementos diferentes de null/NaN: 74129\n",
      "__________________\n",
      "(74129,)\n",
      "None\n"
     ]
    }
   ],
   "source": [
    "c = 'PERIODO'\n",
    "print(data_2016[c].value_counts().sort_index().index)\n",
    "print(data_2016[c].value_counts().sort_index())\n",
    "print(missing_data(data_2016[c]))"
   ]
  },
  {
   "cell_type": "code",
   "execution_count": 8,
   "metadata": {
    "collapsed": true
   },
   "outputs": [],
   "source": [
    "data_2016 = data_2016.drop(c, axis=1)"
   ]
  },
  {
   "cell_type": "code",
   "execution_count": 9,
   "metadata": {
    "collapsed": false,
    "scrolled": true
   },
   "outputs": [
    {
     "name": "stdout",
     "output_type": "stream",
     "text": [
      "Int64Index([ -83,  -72,  -66,    0,    1,    2,    3,    5,    6,    7,    8,\n",
      "               9,   10,   11,   12,   13,   14,   15,   16,   17,   18,   19,\n",
      "              20,   21,   22,   23,   24,   25,   26,   27,   28,   29,   30,\n",
      "              31,   32,   33,   34,   35,   36,   37,   38,   39,   40,   41,\n",
      "              42,   43,   44,   45,   46,   47,   48,   49,   50,   51,   52,\n",
      "              53,   54,   55,   56,   57,   58,   59,   60,   61,   62,   63,\n",
      "              64,   65,   66,   67,   68,   70,   71,   73,  116,  134,  825,\n",
      "            1023, 1918, 1919, 1920, 1921, 1922, 1923, 1924, 1925, 1926, 1928,\n",
      "            1929, 1931, 1934, 1935, 1942, 1944, 1960, 1999, 2004],\n",
      "           dtype='int64')\n",
      "-83          1\n",
      "-72          1\n",
      "-66          1\n",
      " 0         162\n",
      " 1          23\n",
      " 2           3\n",
      " 3           4\n",
      " 5           1\n",
      " 6           5\n",
      " 7           6\n",
      " 8           5\n",
      " 9           2\n",
      " 10          4\n",
      " 11          2\n",
      " 12          1\n",
      " 13          3\n",
      " 14         35\n",
      " 15        845\n",
      " 16       9268\n",
      " 17      17419\n",
      " 18      12027\n",
      " 19       6763\n",
      " 20       4730\n",
      " 21       3645\n",
      " 22       2825\n",
      " 23       2234\n",
      " 24       1817\n",
      " 25       1453\n",
      " 26       1244\n",
      " 27       1038\n",
      "         ...  \n",
      " 65          3\n",
      " 66          4\n",
      " 67          6\n",
      " 68          1\n",
      " 70          2\n",
      " 71          1\n",
      " 73          1\n",
      " 116        18\n",
      " 134         1\n",
      " 825         1\n",
      " 1023        1\n",
      " 1918        5\n",
      " 1919        8\n",
      " 1920        9\n",
      " 1921        8\n",
      " 1922        2\n",
      " 1923        5\n",
      " 1924        3\n",
      " 1925        2\n",
      " 1926        1\n",
      " 1928        1\n",
      " 1929        2\n",
      " 1931        2\n",
      " 1934        1\n",
      " 1935        1\n",
      " 1942        1\n",
      " 1944        1\n",
      " 1960        1\n",
      " 1999        1\n",
      " 2004        1\n",
      "Name: ESTU_EDAD, dtype: int64\n",
      "Elementos null/NaN 0\n",
      "__________________\n",
      "Elementos diferentes de null/NaN: 74129\n",
      "__________________\n",
      "(74129,)\n",
      "None\n"
     ]
    }
   ],
   "source": [
    "c = 'ESTU_EDAD'\n",
    "print(data_2016[c].value_counts().sort_index().index)\n",
    "print(data_2016[c].value_counts().sort_index())\n",
    "print(missing_data(data_2016[c]))"
   ]
  },
  {
   "cell_type": "code",
   "execution_count": 10,
   "metadata": {
    "collapsed": false
   },
   "outputs": [
    {
     "name": "stdout",
     "output_type": "stream",
     "text": [
      "Index(['CC', 'CE', 'CR', 'PC', 'PE', 'TI'], dtype='object')\n",
      "CC    42198\n",
      "CE      213\n",
      "CR      715\n",
      "PC       27\n",
      "PE       91\n",
      "TI    30885\n",
      "Name: ESTU_TIPO_DOCUMENTO, dtype: int64\n",
      "Elementos null/NaN 0\n",
      "__________________\n",
      "Elementos diferentes de null/NaN: 74129\n",
      "__________________\n",
      "(74129,)\n",
      "None\n"
     ]
    }
   ],
   "source": [
    "c = 'ESTU_TIPO_DOCUMENTO'\n",
    "print(data_2016[c].value_counts().sort_index().index)\n",
    "print(data_2016[c].value_counts().sort_index())\n",
    "print(missing_data(data_2016[c]))"
   ]
  },
  {
   "cell_type": "code",
   "execution_count": 11,
   "metadata": {
    "collapsed": true
   },
   "outputs": [],
   "source": [
    "data_2016 = data_2016.drop(c, axis=1)"
   ]
  },
  {
   "cell_type": "code",
   "execution_count": 12,
   "metadata": {
    "collapsed": false,
    "scrolled": true
   },
   "outputs": [
    {
     "name": "stdout",
     "output_type": "stream",
     "text": [
      "Int64Index([  1,   5,  12,  17,  28,  33,  41,  46,  50,  52,  54,  56,  57,\n",
      "             64,  65,  67,  76,  83,  91,  99, 105, 109, 110, 112, 118, 119,\n",
      "            124, 129, 144, 152, 157, 160, 166, 171, 173, 174, 178, 209, 215,\n",
      "            216, 227, 228, 236, 238, 241, 242],\n",
      "           dtype='int64')\n",
      "1      73796\n",
      "5          1\n",
      "12        17\n",
      "17         1\n",
      "28         8\n",
      "33        11\n",
      "41         3\n",
      "46         7\n",
      "50         8\n",
      "52         1\n",
      "54         3\n",
      "56         1\n",
      "57         2\n",
      "64         1\n",
      "65        28\n",
      "67         2\n",
      "76         8\n",
      "83         7\n",
      "91         1\n",
      "99         1\n",
      "105        1\n",
      "109        1\n",
      "110        1\n",
      "112        2\n",
      "118        1\n",
      "119        2\n",
      "124        1\n",
      "129        1\n",
      "144       11\n",
      "152        1\n",
      "157        2\n",
      "160        1\n",
      "166        1\n",
      "171        4\n",
      "173        1\n",
      "174       23\n",
      "178        1\n",
      "209       15\n",
      "215        1\n",
      "216        2\n",
      "227        1\n",
      "228        1\n",
      "236       30\n",
      "238        2\n",
      "241      112\n",
      "242        3\n",
      "Name: ESTU_PAIS_RESIDE, dtype: int64\n",
      "Elementos null/NaN 0\n",
      "__________________\n",
      "Elementos diferentes de null/NaN: 74129\n",
      "__________________\n",
      "(74129,)\n",
      "None\n"
     ]
    }
   ],
   "source": [
    "c = 'ESTU_PAIS_RESIDE'\n",
    "print(data_2016[c].value_counts().sort_index().index)\n",
    "print(data_2016[c].value_counts().sort_index())\n",
    "print(missing_data(data_2016[c]))"
   ]
  },
  {
   "cell_type": "code",
   "execution_count": 13,
   "metadata": {
    "collapsed": false
   },
   "outputs": [
    {
     "name": "stdout",
     "output_type": "stream",
     "text": [
      "Index(['F', 'M'], dtype='object')\n",
      "F    37735\n",
      "M    36205\n",
      "Name: ESTU_GENERO, dtype: int64\n",
      "Elementos null/NaN 189\n",
      "__________________\n",
      "Elementos diferentes de null/NaN: 73940\n",
      "__________________\n",
      "(73940,)\n",
      "None\n"
     ]
    }
   ],
   "source": [
    "c = 'ESTU_GENERO'\n",
    "print(data_2016[c].value_counts().sort_index().index)\n",
    "print(data_2016[c].value_counts().sort_index())\n",
    "print(missing_data(data_2016[c]))"
   ]
  },
  {
   "cell_type": "code",
   "execution_count": 14,
   "metadata": {
    "collapsed": false
   },
   "outputs": [
    {
     "name": "stdout",
     "output_type": "stream",
     "text": [
      "cant null antes: 189\n",
      "cant null despues: 0\n"
     ]
    }
   ],
   "source": [
    "Do_resamples(data_2016, c, str)"
   ]
  },
  {
   "cell_type": "code",
   "execution_count": 15,
   "metadata": {
    "collapsed": false,
    "scrolled": true
   },
   "outputs": [
    {
     "name": "stdout",
     "output_type": "stream",
     "text": [
      "Index(['01/01/1900', '01/01/1962', '01/01/1966', '01/01/1967', '01/01/1970',\n",
      "       '01/01/1974', '01/01/1976', '01/01/1977', '01/01/1978', '01/01/1980',\n",
      "       ...\n",
      "       '31/12/1991', '31/12/1992', '31/12/1993', '31/12/1994', '31/12/1995',\n",
      "       '31/12/1996', '31/12/1997', '31/12/1998', '31/12/1999', '31/12/2000'],\n",
      "      dtype='object', length=9789)\n",
      "01/01/1900     13\n",
      "01/01/1962      1\n",
      "01/01/1966      1\n",
      "01/01/1967      1\n",
      "01/01/1970      1\n",
      "01/01/1974      1\n",
      "01/01/1976      1\n",
      "01/01/1977      1\n",
      "01/01/1978      1\n",
      "01/01/1980      3\n",
      "01/01/1981      1\n",
      "01/01/1982      2\n",
      "01/01/1983      2\n",
      "01/01/1984      6\n",
      "01/01/1985      5\n",
      "01/01/1986      3\n",
      "01/01/1987      3\n",
      "01/01/1988      1\n",
      "01/01/1989      4\n",
      "01/01/1990      4\n",
      "01/01/1991      5\n",
      "01/01/1992      5\n",
      "01/01/1993      6\n",
      "01/01/1994      6\n",
      "01/01/1995     16\n",
      "01/01/1996     16\n",
      "01/01/1997     19\n",
      "01/01/1998     32\n",
      "01/01/1999    456\n",
      "01/01/2000     13\n",
      "             ... \n",
      "31/10/1997     38\n",
      "31/10/1998     43\n",
      "31/10/1999     12\n",
      "31/10/2000      1\n",
      "31/10/2016      1\n",
      "31/12/1966      1\n",
      "31/12/1969      1\n",
      "31/12/1971      1\n",
      "31/12/1972      2\n",
      "31/12/1974      3\n",
      "31/12/1976      2\n",
      "31/12/1978      1\n",
      "31/12/1979      4\n",
      "31/12/1980      1\n",
      "31/12/1983      1\n",
      "31/12/1984      2\n",
      "31/12/1986      3\n",
      "31/12/1987      1\n",
      "31/12/1988      2\n",
      "31/12/1989      4\n",
      "31/12/1991      4\n",
      "31/12/1992      8\n",
      "31/12/1993      7\n",
      "31/12/1994      8\n",
      "31/12/1995     10\n",
      "31/12/1996     20\n",
      "31/12/1997     27\n",
      "31/12/1998     36\n",
      "31/12/1999     14\n",
      "31/12/2000      1\n",
      "Name: ESTU_FECHA_NACIMIENTO, dtype: int64\n",
      "Elementos null/NaN 0\n",
      "__________________\n",
      "Elementos diferentes de null/NaN: 74129\n",
      "__________________\n",
      "(74129,)\n",
      "None\n"
     ]
    }
   ],
   "source": [
    "c = 'ESTU_FECHA_NACIMIENTO'\n",
    "print(data_2016[c].value_counts().sort_index().index)\n",
    "print(data_2016[c].value_counts().sort_index())\n",
    "print(missing_data(data_2016[c]))"
   ]
  },
  {
   "cell_type": "code",
   "execution_count": 16,
   "metadata": {
    "collapsed": true
   },
   "outputs": [],
   "source": [
    "Sep_Col = pd.DataFrame(data_2016.ESTU_FECHA_NACIMIENTO.str.split('/').tolist(), columns=['ESTU_NACIMIENTO_DIA', \n",
    "                                                                                         'ESTU_NACIMIENTO_MES',\n",
    "                                                                                         'ESTU_NACIMIENTO_ANNO'])\n",
    "data_2016 = pd.concat([data_2016, Sep_Col], axis=1)"
   ]
  },
  {
   "cell_type": "code",
   "execution_count": 17,
   "metadata": {
    "collapsed": true
   },
   "outputs": [],
   "source": [
    "data_2016 = data_2016.drop(c, axis=1)"
   ]
  },
  {
   "cell_type": "code",
   "execution_count": 18,
   "metadata": {
    "collapsed": false,
    "scrolled": true
   },
   "outputs": [
    {
     "name": "stdout",
     "output_type": "stream",
     "text": [
      "Float64Index([  1.0,   2.0,   3.0,   4.0,   5.0,   6.0,   7.0,   8.0,   9.0,\n",
      "               10.0,  11.0,  12.0,  13.0,  14.0,  15.0,  16.0,  17.0,  18.0,\n",
      "               19.0,  99.0, 100.0],\n",
      "             dtype='float64')\n",
      "1      1160\n",
      "2        40\n",
      "3         3\n",
      "4       133\n",
      "5         6\n",
      "6        79\n",
      "7        63\n",
      "8       120\n",
      "9       395\n",
      "10       10\n",
      "11       28\n",
      "12        4\n",
      "13        5\n",
      "14        6\n",
      "15        8\n",
      "16       10\n",
      "17       27\n",
      "18       83\n",
      "19      545\n",
      "99        1\n",
      "100     888\n",
      "Name: ESTU_ETNIA, dtype: int64\n",
      "Elementos null/NaN 70515\n",
      "__________________\n",
      "Elementos diferentes de null/NaN: 3614\n",
      "__________________\n",
      "(3614,)\n",
      "None\n"
     ]
    }
   ],
   "source": [
    "c = 'ESTU_ETNIA'\n",
    "print(data_2016[c].value_counts().sort_index().index)\n",
    "print(data_2016[c].value_counts().sort_index())\n",
    "print(missing_data(data_2016[c]))"
   ]
  },
  {
   "cell_type": "code",
   "execution_count": 19,
   "metadata": {
    "collapsed": true
   },
   "outputs": [],
   "source": [
    "data_2016[c].fillna(100, inplace=True)"
   ]
  },
  {
   "cell_type": "code",
   "execution_count": 20,
   "metadata": {
    "collapsed": false
   },
   "outputs": [
    {
     "name": "stdout",
     "output_type": "stream",
     "text": [
      "Float64Index([], dtype='float64')\n",
      "Series([], Name: ESTU_LIMITA_COGNITIVA, dtype: int64)\n",
      "Elementos null/NaN 74129\n",
      "__________________\n",
      "Elementos diferentes de null/NaN: 0\n",
      "__________________\n",
      "(0,)\n",
      "None\n"
     ]
    }
   ],
   "source": [
    "c = 'ESTU_LIMITA_COGNITIVA'\n",
    "print(data_2016[c].value_counts().sort_index().index)\n",
    "print(data_2016[c].value_counts().sort_index())\n",
    "print(missing_data(data_2016[c]))"
   ]
  },
  {
   "cell_type": "code",
   "execution_count": 21,
   "metadata": {
    "collapsed": true
   },
   "outputs": [],
   "source": [
    "data_2016 = data_2016.drop(c, axis=1)"
   ]
  },
  {
   "cell_type": "code",
   "execution_count": 22,
   "metadata": {
    "collapsed": false
   },
   "outputs": [
    {
     "name": "stdout",
     "output_type": "stream",
     "text": [
      "Index(['MOT'], dtype='object')\n",
      "MOT    115\n",
      "Name: ESTU_LIMITA_MOTRIZ, dtype: int64\n",
      "Elementos null/NaN 74014\n",
      "__________________\n",
      "Elementos diferentes de null/NaN: 115\n",
      "__________________\n",
      "(115,)\n",
      "None\n"
     ]
    }
   ],
   "source": [
    "c = 'ESTU_LIMITA_MOTRIZ'\n",
    "print(data_2016[c].value_counts().sort_index().index)\n",
    "print(data_2016[c].value_counts().sort_index())\n",
    "print(missing_data(data_2016[c]))"
   ]
  },
  {
   "cell_type": "code",
   "execution_count": 23,
   "metadata": {
    "collapsed": true
   },
   "outputs": [],
   "source": [
    "data_2016 = data_2016.drop(c, axis=1)"
   ]
  },
  {
   "cell_type": "code",
   "execution_count": 24,
   "metadata": {
    "collapsed": false
   },
   "outputs": [
    {
     "name": "stdout",
     "output_type": "stream",
     "text": [
      "Index(['VIS'], dtype='object')\n",
      "VIS    28\n",
      "Name: ESTU_LIMITA_INVIDENTE, dtype: int64\n",
      "Elementos null/NaN 74101\n",
      "__________________\n",
      "Elementos diferentes de null/NaN: 28\n",
      "__________________\n",
      "(28,)\n",
      "None\n"
     ]
    }
   ],
   "source": [
    "c = 'ESTU_LIMITA_INVIDENTE'\n",
    "print(data_2016[c].value_counts().sort_index().index)\n",
    "print(data_2016[c].value_counts().sort_index())\n",
    "print(missing_data(data_2016[c]))"
   ]
  },
  {
   "cell_type": "code",
   "execution_count": 25,
   "metadata": {
    "collapsed": true
   },
   "outputs": [],
   "source": [
    "data_2016 = data_2016.drop(c, axis=1)"
   ]
  },
  {
   "cell_type": "code",
   "execution_count": 26,
   "metadata": {
    "collapsed": false
   },
   "outputs": [
    {
     "name": "stdout",
     "output_type": "stream",
     "text": [
      "Index(['CE'], dtype='object')\n",
      "CE    30\n",
      "Name: ESTU_LIMITA_CONDICIONESPECIAL, dtype: int64\n",
      "Elementos null/NaN 74099\n",
      "__________________\n",
      "Elementos diferentes de null/NaN: 30\n",
      "__________________\n",
      "(30,)\n",
      "None\n"
     ]
    }
   ],
   "source": [
    "c = 'ESTU_LIMITA_CONDICIONESPECIAL'\n",
    "print(data_2016[c].value_counts().sort_index().index)\n",
    "print(data_2016[c].value_counts().sort_index())\n",
    "print(missing_data(data_2016[c]))"
   ]
  },
  {
   "cell_type": "code",
   "execution_count": 27,
   "metadata": {
    "collapsed": true
   },
   "outputs": [],
   "source": [
    "data_2016 = data_2016.drop(c, axis=1)"
   ]
  },
  {
   "cell_type": "code",
   "execution_count": 28,
   "metadata": {
    "collapsed": false
   },
   "outputs": [
    {
     "name": "stdout",
     "output_type": "stream",
     "text": [
      "Index(['AUD'], dtype='object')\n",
      "AUD    13\n",
      "Name: ESTU_LIMITA_SORDO, dtype: int64\n",
      "Elementos null/NaN 74116\n",
      "__________________\n",
      "Elementos diferentes de null/NaN: 13\n",
      "__________________\n",
      "(13,)\n",
      "None\n"
     ]
    }
   ],
   "source": [
    "c = 'ESTU_LIMITA_SORDO'\n",
    "print(data_2016[c].value_counts().sort_index().index)\n",
    "print(data_2016[c].value_counts().sort_index())\n",
    "print(missing_data(data_2016[c]))"
   ]
  },
  {
   "cell_type": "code",
   "execution_count": 29,
   "metadata": {
    "collapsed": true
   },
   "outputs": [],
   "source": [
    "data_2016 = data_2016.drop(c, axis=1)"
   ]
  },
  {
   "cell_type": "code",
   "execution_count": 30,
   "metadata": {
    "collapsed": false
   },
   "outputs": [
    {
     "name": "stdout",
     "output_type": "stream",
     "text": [
      "Index(['SD'], dtype='object')\n",
      "SD    9\n",
      "Name: ESTU_LIMITA_SDOWN, dtype: int64\n",
      "Elementos null/NaN 74120\n",
      "__________________\n",
      "Elementos diferentes de null/NaN: 9\n",
      "__________________\n",
      "(9,)\n",
      "None\n"
     ]
    }
   ],
   "source": [
    "c = 'ESTU_LIMITA_SDOWN'\n",
    "print(data_2016[c].value_counts().sort_index().index)\n",
    "print(data_2016[c].value_counts().sort_index())\n",
    "print(missing_data(data_2016[c]))"
   ]
  },
  {
   "cell_type": "code",
   "execution_count": 31,
   "metadata": {
    "collapsed": true
   },
   "outputs": [],
   "source": [
    "data_2016 = data_2016.drop(c, axis=1)"
   ]
  },
  {
   "cell_type": "code",
   "execution_count": 32,
   "metadata": {
    "collapsed": false,
    "scrolled": true
   },
   "outputs": [
    {
     "name": "stdout",
     "output_type": "stream",
     "text": [
      "Index(['AA'], dtype='object')\n",
      "AA    27\n",
      "Name: ESTU_LIMITA_AUTISMO, dtype: int64\n",
      "Elementos null/NaN 74102\n",
      "__________________\n",
      "Elementos diferentes de null/NaN: 27\n",
      "__________________\n",
      "(27,)\n",
      "None\n"
     ]
    }
   ],
   "source": [
    "c = 'ESTU_LIMITA_AUTISMO'\n",
    "print(data_2016[c].value_counts().sort_index().index)\n",
    "print(data_2016[c].value_counts().sort_index())\n",
    "print(missing_data(data_2016[c]))"
   ]
  },
  {
   "cell_type": "code",
   "execution_count": 33,
   "metadata": {
    "collapsed": true
   },
   "outputs": [],
   "source": [
    "data_2016 = data_2016.drop(c, axis=1)"
   ]
  },
  {
   "cell_type": "code",
   "execution_count": 34,
   "metadata": {
    "collapsed": false
   },
   "outputs": [
    {
     "name": "stdout",
     "output_type": "stream",
     "text": [
      "Index(['R', 'U'], dtype='object')\n",
      "R    10572\n",
      "U    61917\n",
      "Name: ESTU_AREA_RESIDE, dtype: int64\n",
      "Elementos null/NaN 1640\n",
      "__________________\n",
      "Elementos diferentes de null/NaN: 72489\n",
      "__________________\n",
      "(72489,)\n",
      "None\n"
     ]
    }
   ],
   "source": [
    "c = 'ESTU_AREA_RESIDE'\n",
    "print(data_2016[c].value_counts().sort_index().index)\n",
    "print(data_2016[c].value_counts().sort_index())\n",
    "print(missing_data(data_2016[c]))"
   ]
  },
  {
   "cell_type": "code",
   "execution_count": 35,
   "metadata": {
    "collapsed": false
   },
   "outputs": [
    {
     "name": "stdout",
     "output_type": "stream",
     "text": [
      "cant null antes: 1640\n",
      "cant null despues: 0\n"
     ]
    }
   ],
   "source": [
    "Do_resamples(data_2016, c, str)"
   ]
  },
  {
   "cell_type": "code",
   "execution_count": 36,
   "metadata": {
    "collapsed": false,
    "scrolled": true
   },
   "outputs": [
    {
     "name": "stdout",
     "output_type": "stream",
     "text": [
      "Float64Index([ 5001.0,  5002.0,  5004.0,  5030.0,  5031.0,  5034.0,  5040.0,\n",
      "               5042.0,  5045.0,  5051.0,\n",
      "              ...\n",
      "              94001.0, 94343.0, 94888.0, 95001.0, 95015.0, 95025.0, 97001.0,\n",
      "              99001.0, 99524.0, 99999.0],\n",
      "             dtype='float64', length=951)\n",
      "5001     1831\n",
      "5002        2\n",
      "5004        1\n",
      "5030        5\n",
      "5031        4\n",
      "5034        4\n",
      "5040        3\n",
      "5042        3\n",
      "5045      229\n",
      "5051        3\n",
      "5079       17\n",
      "5086        1\n",
      "5088      250\n",
      "5091        2\n",
      "5101        2\n",
      "5107        1\n",
      "5113        1\n",
      "5120        5\n",
      "5125        2\n",
      "5129       27\n",
      "5134        2\n",
      "5142        1\n",
      "5147       97\n",
      "5148       47\n",
      "5154       52\n",
      "5172       37\n",
      "5190        1\n",
      "5197        1\n",
      "5209        1\n",
      "5212       43\n",
      "         ... \n",
      "85410      24\n",
      "85430      11\n",
      "85440      29\n",
      "86001     105\n",
      "86219      13\n",
      "86320      67\n",
      "86568     114\n",
      "86569       5\n",
      "86571       9\n",
      "86573       2\n",
      "86749      78\n",
      "86755      12\n",
      "86757       4\n",
      "86760      12\n",
      "86865      58\n",
      "86885      30\n",
      "88001      30\n",
      "88564       4\n",
      "91001      14\n",
      "91540       1\n",
      "94001       8\n",
      "94343       1\n",
      "94888       1\n",
      "95001      60\n",
      "95015       4\n",
      "95025       9\n",
      "97001       8\n",
      "99001      23\n",
      "99524       2\n",
      "99999       6\n",
      "Name: COLE_COD_MCPIO_UBICACION, dtype: int64\n",
      "Elementos null/NaN 1\n",
      "__________________\n",
      "Elementos diferentes de null/NaN: 74128\n",
      "__________________\n",
      "(74128,)\n",
      "None\n"
     ]
    }
   ],
   "source": [
    "c = 'COLE_COD_MCPIO_UBICACION'\n",
    "print(data_2016[c].value_counts().sort_index().index)\n",
    "print(data_2016[c].value_counts().sort_index())\n",
    "print(missing_data(data_2016[c]))"
   ]
  },
  {
   "cell_type": "code",
   "execution_count": 37,
   "metadata": {
    "collapsed": true
   },
   "outputs": [],
   "source": [
    "data_2016 = data_2016.drop(c, axis=1)"
   ]
  },
  {
   "cell_type": "code",
   "execution_count": 38,
   "metadata": {
    "collapsed": false,
    "scrolled": true
   },
   "outputs": [
    {
     "name": "stdout",
     "output_type": "stream",
     "text": [
      "Index(['ABEJORRAL', 'ABREGO', 'ABRIAQUI', 'ACACIAS', 'ACEVEDO', 'AGRADO',\n",
      "       'AGUA DE DIOS', 'AGUACHICA', 'AGUADAS', 'AGUAZUL',\n",
      "       ...\n",
      "       'YOTOCO', 'YUMBO', 'ZAPATOCA', 'ZAPAYAN', 'ZARAGOZA', 'ZARZAL',\n",
      "       'ZETAQUIRA', 'ZIPACON', 'ZIPAQUIRA', 'ZONA BANANERA'],\n",
      "      dtype='object', length=885)\n",
      "ABEJORRAL                      2\n",
      "ABREGO                        20\n",
      "ABRIAQUI                       1\n",
      "ACACIAS                       95\n",
      "ACEVEDO                       40\n",
      "AGRADO                         5\n",
      "AGUA DE DIOS                  24\n",
      "AGUACHICA                    168\n",
      "AGUADAS                        5\n",
      "AGUAZUL                       56\n",
      "AGUSTIN CODAZZI               33\n",
      "AIPE                          18\n",
      "ALBAN                          2\n",
      "ALBAN (SAN JOSE)              44\n",
      "ALBANIA                       44\n",
      "ALCALA                         3\n",
      "ALDANA                        17\n",
      "ALGECIRAS                     21\n",
      "ALMAGUER                       4\n",
      "ALPUJARRA                      3\n",
      "ALTAMIRA                       3\n",
      "ALTO BAUDO (PIE DE PATO)       2\n",
      "ALTOS DEL ROSARIO              1\n",
      "ALVARADO                       3\n",
      "AMAGA                          5\n",
      "AMALFI                         4\n",
      "AMBALEMA                       1\n",
      "ANAPOIMA                       5\n",
      "ANCUYA                        40\n",
      "ANDALUCIA                     23\n",
      "                            ... \n",
      "VILLAGARZON                   30\n",
      "VILLAHERMOSA                   6\n",
      "VILLAMARIA                   125\n",
      "VILLANUEVA                    71\n",
      "VILLAPINZON                    5\n",
      "VILLARRICA                     1\n",
      "VILLAVICENCIO               1005\n",
      "VILLAVIEJA                    12\n",
      "VILLETA                       30\n",
      "VIOTA                          8\n",
      "VIRACACHA                      5\n",
      "VISTA HERMOSA                  8\n",
      "VITERBO                        4\n",
      "YACOPI                         3\n",
      "YACUANQUER                    30\n",
      "YAGUARA                       19\n",
      "YARUMAL                       22\n",
      "YOLOMBO                        3\n",
      "YONDO (CASABE)                 9\n",
      "YOPAL                        232\n",
      "YOTOCO                        23\n",
      "YUMBO                        230\n",
      "ZAPATOCA                       5\n",
      "ZAPAYAN                        1\n",
      "ZARAGOZA                       5\n",
      "ZARZAL                        77\n",
      "ZETAQUIRA                      2\n",
      "ZIPACON                        2\n",
      "ZIPAQUIRA                    138\n",
      "ZONA BANANERA                 13\n",
      "Name: ESTU_RESIDE_MCPIO, dtype: int64\n",
      "Elementos null/NaN 1\n",
      "__________________\n",
      "Elementos diferentes de null/NaN: 74128\n",
      "__________________\n",
      "(74128,)\n",
      "None\n"
     ]
    }
   ],
   "source": [
    "c = 'ESTU_RESIDE_MCPIO'\n",
    "print(data_2016[c].value_counts().sort_index().index)\n",
    "print(data_2016[c].value_counts().sort_index())\n",
    "print(missing_data(data_2016[c]))"
   ]
  },
  {
   "cell_type": "code",
   "execution_count": 39,
   "metadata": {
    "collapsed": true
   },
   "outputs": [],
   "source": [
    "idx = data_2016[data_2016[c].isnull()].index\n",
    "data_2016 = data_2016.drop(idx)"
   ]
  },
  {
   "cell_type": "code",
   "execution_count": 40,
   "metadata": {
    "collapsed": false,
    "scrolled": true
   },
   "outputs": [
    {
     "name": "stdout",
     "output_type": "stream",
     "text": [
      "Index(['AMAZONAS', 'ANTIOQUIA', 'ARAUCA', 'ATLANTICO', 'BOGOTA', 'BOLIVAR',\n",
      "       'BOYACA', 'CALDAS', 'CAQUETA', 'CASANARE', 'CAUCA', 'CESAR', 'CHOCO',\n",
      "       'CORDOBA', 'CUNDINAMARCA', 'EXTRANJERO', 'GUAINIA', 'GUAVIARE', 'HUILA',\n",
      "       'LA GUAJIRA', 'MAGDALENA', 'META', 'NARIÑO', 'NORTE SANTANDER',\n",
      "       'PUTUMAYO', 'QUINDIO', 'RISARALDA', 'SAN ANDRES', 'SANTANDER', 'SUCRE',\n",
      "       'TOLIMA', 'VALLE', 'VAUPES', 'VICHADA'],\n",
      "      dtype='object')\n",
      "AMAZONAS              15\n",
      "ANTIOQUIA           3681\n",
      "ARAUCA               256\n",
      "ATLANTICO           2131\n",
      "BOGOTA             15014\n",
      "BOLIVAR             1176\n",
      "BOYACA              3669\n",
      "CALDAS              1761\n",
      "CAQUETA              488\n",
      "CASANARE             464\n",
      "CAUCA               2130\n",
      "CESAR               1080\n",
      "CHOCO                386\n",
      "CORDOBA              722\n",
      "CUNDINAMARCA        2836\n",
      "EXTRANJERO             6\n",
      "GUAINIA               10\n",
      "GUAVIARE              73\n",
      "HUILA               3136\n",
      "LA GUAJIRA           562\n",
      "MAGDALENA            519\n",
      "META                1342\n",
      "NARIÑO              6570\n",
      "NORTE SANTANDER     1664\n",
      "PUTUMAYO             509\n",
      "QUINDIO              870\n",
      "RISARALDA           1428\n",
      "SAN ANDRES            34\n",
      "SANTANDER           4588\n",
      "SUCRE                383\n",
      "TOLIMA              2029\n",
      "VALLE              14563\n",
      "VAUPES                 8\n",
      "VICHADA               25\n",
      "Name: ESTU_RESIDE_DEPTO, dtype: int64\n",
      "Elementos null/NaN 0\n",
      "__________________\n",
      "Elementos diferentes de null/NaN: 74128\n",
      "__________________\n",
      "(74128,)\n",
      "None\n"
     ]
    }
   ],
   "source": [
    "c = 'ESTU_RESIDE_DEPTO'\n",
    "print(data_2016[c].value_counts().sort_index().index)\n",
    "print(data_2016[c].value_counts().sort_index())\n",
    "print(missing_data(data_2016[c]))"
   ]
  },
  {
   "cell_type": "code",
   "execution_count": 41,
   "metadata": {
    "collapsed": false
   },
   "outputs": [
    {
     "name": "stdout",
     "output_type": "stream",
     "text": [
      "Int64Index([1, 2, 3, 4, 5, 6, 7, 8, 9, 10], dtype='int64')\n",
      "1      8065\n",
      "2       751\n",
      "3      1654\n",
      "4     10841\n",
      "5      5894\n",
      "6      2457\n",
      "7      1632\n",
      "8      3084\n",
      "9      2609\n",
      "10    37141\n",
      "Name: ESTU_ZONA_RESIDE, dtype: int64\n",
      "Elementos null/NaN 0\n",
      "__________________\n",
      "Elementos diferentes de null/NaN: 74128\n",
      "__________________\n",
      "(74128,)\n",
      "None\n"
     ]
    }
   ],
   "source": [
    "c = 'ESTU_ZONA_RESIDE'\n",
    "print(data_2016[c].value_counts().sort_index().index)\n",
    "print(data_2016[c].value_counts().sort_index())\n",
    "print(missing_data(data_2016[c]))"
   ]
  },
  {
   "cell_type": "code",
   "execution_count": 42,
   "metadata": {
    "collapsed": false,
    "scrolled": true
   },
   "outputs": [
    {
     "name": "stdout",
     "output_type": "stream",
     "text": [
      "Float64Index([105001003425.0, 105045000318.0, 105088000486.0, 105088003175.0,\n",
      "              105266000061.0, 111001011908.0, 111001013129.0, 111001013676.0,\n",
      "              111001034134.0, 111001046477.0,\n",
      "              ...\n",
      "              476892099728.0, 485001004526.0, 486568061250.0, 519001000002.0,\n",
      "              537610901165.0, 541001008097.0, 568001009730.0, 568432001300.0,\n",
      "              625214000001.0, 625269000075.0],\n",
      "             dtype='float64', length=584)\n",
      "1.050010e+11     19\n",
      "1.050450e+11     34\n",
      "1.050880e+11      1\n",
      "1.050880e+11     15\n",
      "1.052660e+11     27\n",
      "1.110010e+11     23\n",
      "1.110010e+11     15\n",
      "1.110010e+11     17\n",
      "1.110010e+11     13\n",
      "1.110010e+11     19\n",
      "1.110011e+11     13\n",
      "1.110011e+11     30\n",
      "1.110011e+11     39\n",
      "1.117690e+11     28\n",
      "1.170010e+11      1\n",
      "1.410010e+11      9\n",
      "1.520830e+11      1\n",
      "1.542610e+11      1\n",
      "1.765200e+11     22\n",
      "1.765200e+11     14\n",
      "3.020060e+11     13\n",
      "3.050010e+11     32\n",
      "3.050010e+11     94\n",
      "3.050010e+11      9\n",
      "3.050010e+11     56\n",
      "3.050010e+11     17\n",
      "3.050010e+11     13\n",
      "3.050010e+11     20\n",
      "3.050010e+11      5\n",
      "3.050010e+11     91\n",
      "               ... \n",
      "4.253770e+11     36\n",
      "4.253771e+11      2\n",
      "4.257990e+11     13\n",
      "4.257990e+11      7\n",
      "4.257990e+11     20\n",
      "4.470010e+11     30\n",
      "4.636900e+11     38\n",
      "4.660010e+11      5\n",
      "4.660010e+11     20\n",
      "4.760010e+11     27\n",
      "4.760010e+11     10\n",
      "4.760010e+11     27\n",
      "4.760010e+11     34\n",
      "4.761300e+11     56\n",
      "4.762480e+11    112\n",
      "4.762480e+11     14\n",
      "4.765200e+11     16\n",
      "4.765200e+11     20\n",
      "4.765200e+11    123\n",
      "4.768921e+11      9\n",
      "4.768921e+11     11\n",
      "4.850010e+11      3\n",
      "4.865681e+11      5\n",
      "5.190010e+11     47\n",
      "5.376109e+11      1\n",
      "5.410010e+11     15\n",
      "5.680010e+11      8\n",
      "5.684320e+11      1\n",
      "6.252140e+11     29\n",
      "6.252690e+11      8\n",
      "Name: COLE_COD_DANE_INSTITUCION, dtype: int64\n",
      "Elementos null/NaN 55475\n",
      "__________________\n",
      "Elementos diferentes de null/NaN: 18653\n",
      "__________________\n",
      "(18653,)\n",
      "None\n"
     ]
    }
   ],
   "source": [
    "c = 'COLE_COD_DANE_INSTITUCION'\n",
    "print(data_2016[c].value_counts().sort_index().index)\n",
    "print(data_2016[c].value_counts().sort_index())\n",
    "print(missing_data(data_2016[c]))"
   ]
  },
  {
   "cell_type": "code",
   "execution_count": 43,
   "metadata": {
    "collapsed": false
   },
   "outputs": [
    {
     "name": "stdout",
     "output_type": "stream",
     "text": [
      "cant null antes: 55475\n",
      "cant null despues: 0\n"
     ]
    }
   ],
   "source": [
    "Do_resamples(data_2016, c, float)"
   ]
  },
  {
   "cell_type": "code",
   "execution_count": 44,
   "metadata": {
    "collapsed": false,
    "scrolled": true
   },
   "outputs": [
    {
     "name": "stdout",
     "output_type": "stream",
     "text": [
      "Float64Index([   182.0,   3046.0,   3327.0,   3350.0,   3418.0,   3459.0,\n",
      "                4234.0,   5892.0,   6023.0,   7013.0,\n",
      "              ...\n",
      "              197947.0, 197954.0, 199273.0, 199430.0, 199588.0, 199653.0,\n",
      "              199679.0, 199711.0, 199737.0, 199745.0],\n",
      "             dtype='float64', length=623)\n",
      "182        94\n",
      "3046       84\n",
      "3327       19\n",
      "3350       12\n",
      "3418       48\n",
      "3459       64\n",
      "4234       49\n",
      "5892        1\n",
      "6023       92\n",
      "7013       66\n",
      "7070       60\n",
      "7088       53\n",
      "9696        9\n",
      "11262      75\n",
      "11288      88\n",
      "12435       1\n",
      "16667      70\n",
      "16691     157\n",
      "16709      84\n",
      "16733      44\n",
      "16741      84\n",
      "16766      45\n",
      "16774      75\n",
      "16824      20\n",
      "16832      61\n",
      "16873      36\n",
      "16881      28\n",
      "16956      29\n",
      "16972      73\n",
      "16980     157\n",
      "         ... \n",
      "188557      2\n",
      "188581     30\n",
      "190009     46\n",
      "190280     14\n",
      "190744     11\n",
      "190991     36\n",
      "191288      5\n",
      "191304      5\n",
      "191445      8\n",
      "191833     43\n",
      "191874     18\n",
      "191882      9\n",
      "192278     34\n",
      "193268      2\n",
      "195040      6\n",
      "195057     24\n",
      "195404     11\n",
      "196667      6\n",
      "197889      9\n",
      "197939     26\n",
      "197947     19\n",
      "197954      9\n",
      "199273      2\n",
      "199430     27\n",
      "199588     14\n",
      "199653      5\n",
      "199679      1\n",
      "199711     12\n",
      "199737     15\n",
      "199745      6\n",
      "Name: COLE_COD_ICFES, dtype: int64\n",
      "Elementos null/NaN 55475\n",
      "__________________\n",
      "Elementos diferentes de null/NaN: 18653\n",
      "__________________\n",
      "(18653,)\n",
      "None\n"
     ]
    }
   ],
   "source": [
    "c = 'COLE_COD_ICFES'\n",
    "print(data_2016[c].value_counts().sort_index().index)\n",
    "print(data_2016[c].value_counts().sort_index())\n",
    "print(missing_data(data_2016[c]))"
   ]
  },
  {
   "cell_type": "code",
   "execution_count": 45,
   "metadata": {
    "collapsed": false
   },
   "outputs": [
    {
     "name": "stdout",
     "output_type": "stream",
     "text": [
      "cant null antes: 55475\n",
      "cant null despues: 0\n"
     ]
    }
   ],
   "source": [
    "Do_resamples(data_2016, c, float)"
   ]
  },
  {
   "cell_type": "code",
   "execution_count": 46,
   "metadata": {
    "collapsed": false,
    "scrolled": true
   },
   "outputs": [
    {
     "name": "stdout",
     "output_type": "stream",
     "text": [
      "Index(['ACAD AMERICANA DE SISTEMAS Y COMERCIO',\n",
      "       'ACADE MILIT JOAQUÍN DE CAICEDO Y CUERO',\n",
      "       'ACADEMIA COLOMBIANA DE ENSEÑANZA',\n",
      "       'ACADEMIA DE CIENCIAS DE COLOMBIA AKADEMOS',\n",
      "       'ACADEMIA GENERAL JOSE MARIA CABAL - SEDE PRINCIPAL',\n",
      "       'ACADEMIA MILIT CORONEL MIGUEL CABAL BARONA',\n",
      "       'ALAS COLEGIO  - SEDE PRINCIPAL', 'AMERICAN SCHOOL',\n",
      "       'ASOCIACION COLEGIO GRANADINO',\n",
      "       'ASPAEN COLEGIO JUANAMBÚ - SEDE PRINCIPAL',\n",
      "       ...\n",
      "       'SANTA MARIANA DE JESÚS', 'SEM DE CRISTO SACERDOTE',\n",
      "       'SEMINARIO MENOR ARQUIDIOCESANO',\n",
      "       'SERVICIO EDUCATIVO NAL DE ADULTOS SENDAS',\n",
      "       'SOC ESCUELA KARL C PARRISH',\n",
      "       'STUDIO SISTEMAS AGENCIA CRISTIANA DE SERVICIO Y EDUCACION',\n",
      "       'TANDEM - SEDE PRINCIPAL', 'TERRA INSTITUTI - SEDE PRINCIPAL',\n",
      "       'UNITECNICAS - SEDE PRINCIPAL', 'VERNOT SCHOOL'],\n",
      "      dtype='object', length=574)\n",
      "ACAD AMERICANA DE SISTEMAS Y COMERCIO                                                                    2\n",
      "ACADE MILIT JOAQUÍN DE CAICEDO Y CUERO                                                                  21\n",
      "ACADEMIA COLOMBIANA DE ENSEÑANZA                                                                        42\n",
      "ACADEMIA DE CIENCIAS DE COLOMBIA AKADEMOS                                                               26\n",
      "ACADEMIA GENERAL JOSE MARIA CABAL - SEDE PRINCIPAL                                                      19\n",
      "ACADEMIA MILIT CORONEL MIGUEL CABAL BARONA                                                               7\n",
      "ALAS COLEGIO  - SEDE PRINCIPAL                                                                           8\n",
      "AMERICAN SCHOOL                                                                                         31\n",
      "ASOCIACION COLEGIO GRANADINO                                                                            45\n",
      "ASPAEN COLEGIO JUANAMBÚ - SEDE PRINCIPAL                                                                14\n",
      "ASPAEN GIMNASIO CARTAGENA                                                                               15\n",
      "ASPAEN GIMNASIO IRAGUA                                                                                  82\n",
      "ASPAEN LICEO TACURÍ                                                                                     26\n",
      "ASPAEN LOS CORALES                                                                                      18\n",
      "ASPAEN-GIMNASIO LOS CEREZOS                                                                             15\n",
      "BACHILLERATO INTEGRAL DEL QUINDIO                                                                       18\n",
      "BOSQUECITO ENCANTADO Y COLEGIO EL BOSQUE                                                                16\n",
      "BTO DE ADULTOS UNAD                                                                                      7\n",
      "BTO FORMAL DE ADULTOS DEL CAUCA                                                                         23\n",
      "BTO PARA ADULTOS COLSUBSIDIO                                                                            49\n",
      "C. E. FORMAL DISCENTER S - SEDE PRINCIPAL                                                               44\n",
      "CARDENAS CENTRO                                                                                         22\n",
      "CE PARA JOVENES Y ADULTOS PALMIRA - SEDE PRINCIPAL                                                      53\n",
      "CENT DE CAPACITACION  LTDA (CENCABO)                                                                    25\n",
      "CENT DE EDUC FORMAL ROBERT HOOKE                                                                        45\n",
      "CENT DE ENSENANZA LATINOAMERICANA - CENLA                                                               13\n",
      "CENT DE FORMACION EDUCATIVA CENFE                                                                        8\n",
      "CENT DOCENTE PARA ADULTOS EDIMA                                                                         10\n",
      "CENT EDUC DIST CAFAM BELLAVISTA                                                                         39\n",
      "CENT EDUC DIST CAFAM LOS NARANJOS                                                                       30\n",
      "                                                                                                        ..\n",
      "LICEO COMERCIAL Y TECNOLOGICO DEL VALLE - SEDE PRINCIPAL                                                11\n",
      "LICEO FRANCES PAUL VALERY                                                                               60\n",
      "LICEO GALILEO GALILEI                                                                                   11\n",
      "LICEO LATINO                                                                                             8\n",
      "LICEO LOS PINOS                                                                                         14\n",
      "LICEO MAYOR TECNICO DEL VALLE                                                                            5\n",
      "LICEO NUESTRA SEÑORA DE LOURDES                                                                          7\n",
      "LICEO QUIAL - SEDE PRINCIPAL                                                                            38\n",
      "LICEO SUPERIOR JUAN PABLO II - SEDE PRINCIPAL                                                           32\n",
      "NUEVO GIMNASIO CRISTIANO                                                                                43\n",
      "NUEVO INSTITUTO SAN MIGUEL                                                                               2\n",
      "POLITECNICO DE LOS ANDES SIGLO XXI                                                                       8\n",
      "POLITECNICO INTEGRAL COLOMBIANO                                                                         16\n",
      "POLITECNICO LA SALLE                                                                                    41\n",
      "POLITECNICO MAYOR ANDINO                                                                                11\n",
      "POLITECNICO SUPERIOR DEL VALLE                                                                           5\n",
      "POLITECNICO UNIVERSAL DE CAPACITACION                                                                   22\n",
      "REAL COL SAN FRANCISCO DE ASIS                                                                          60\n",
      "SAINT GEORGE SCHOOL - SAN JORGE - SEDE PRINCIPAL                                                        20\n",
      "SANTA  MARIA STELLA MARIS                                                                               32\n",
      "SANTA MARIANA DE JESÚS                                                                                  29\n",
      "SEM DE CRISTO SACERDOTE                                                                                 34\n",
      "SEMINARIO MENOR ARQUIDIOCESANO                                                                          50\n",
      "SERVICIO EDUCATIVO NAL DE ADULTOS SENDAS                                                                61\n",
      "SOC ESCUELA KARL C PARRISH                                                                              48\n",
      "STUDIO SISTEMAS AGENCIA CRISTIANA DE SERVICIO Y EDUCACION                                               91\n",
      "TANDEM - SEDE PRINCIPAL                                                                                 15\n",
      "TERRA INSTITUTI - SEDE PRINCIPAL                                                                        83\n",
      "UNITECNICAS - SEDE PRINCIPAL                                                                            10\n",
      "VERNOT SCHOOL                                                                                           12\n",
      "Name: COLE_NOMBRE_SEDE, dtype: int64\n",
      "Elementos null/NaN 55475\n",
      "__________________\n",
      "Elementos diferentes de null/NaN: 18653\n",
      "__________________\n",
      "(18653,)\n",
      "None\n"
     ]
    }
   ],
   "source": [
    "c = 'COLE_NOMBRE_SEDE'\n",
    "print(data_2016[c].value_counts().sort_index().index)\n",
    "print(data_2016[c].value_counts().sort_index())\n",
    "print(missing_data(data_2016[c]))"
   ]
  },
  {
   "cell_type": "code",
   "execution_count": 47,
   "metadata": {
    "collapsed": true
   },
   "outputs": [],
   "source": [
    "data_2016 = data_2016.drop(c, axis=1)"
   ]
  },
  {
   "cell_type": "code",
   "execution_count": 48,
   "metadata": {
    "collapsed": false
   },
   "outputs": [
    {
     "name": "stdout",
     "output_type": "stream",
     "text": [
      "Index(['C', 'M', 'N', 'S', 'T', 'U'], dtype='object')\n",
      "C    8936\n",
      "M    6447\n",
      "N    1303\n",
      "S    1365\n",
      "T     568\n",
      "U      34\n",
      "Name: COLE_JORNADA, dtype: int64\n",
      "Elementos null/NaN 55475\n",
      "__________________\n",
      "Elementos diferentes de null/NaN: 18653\n",
      "__________________\n",
      "(18653,)\n",
      "None\n"
     ]
    }
   ],
   "source": [
    "c = 'COLE_JORNADA'\n",
    "print(data_2016[c].value_counts().sort_index().index)\n",
    "print(data_2016[c].value_counts().sort_index())\n",
    "print(missing_data(data_2016[c]))"
   ]
  },
  {
   "cell_type": "code",
   "execution_count": 49,
   "metadata": {
    "collapsed": false
   },
   "outputs": [
    {
     "name": "stdout",
     "output_type": "stream",
     "text": [
      "cant null antes: 55475\n",
      "cant null despues: 0\n"
     ]
    }
   ],
   "source": [
    "Do_resamples(data_2016, c, str)"
   ]
  },
  {
   "cell_type": "code",
   "execution_count": 50,
   "metadata": {
    "collapsed": false
   },
   "outputs": [
    {
     "name": "stdout",
     "output_type": "stream",
     "text": [
      "Index(['N', 'S'], dtype='object')\n",
      "N    55301\n",
      "S       19\n",
      "Name: ESTU_PRIVADO_LIBERTAD, dtype: int64\n",
      "Elementos null/NaN 18808\n",
      "__________________\n",
      "Elementos diferentes de null/NaN: 55320\n",
      "__________________\n",
      "(55320,)\n",
      "None\n"
     ]
    }
   ],
   "source": [
    "c = 'ESTU_PRIVADO_LIBERTAD'\n",
    "print(data_2016[c].value_counts().sort_index().index)\n",
    "print(data_2016[c].value_counts().sort_index())\n",
    "print(missing_data(data_2016[c]))"
   ]
  },
  {
   "cell_type": "code",
   "execution_count": 51,
   "metadata": {
    "collapsed": false
   },
   "outputs": [
    {
     "name": "stdout",
     "output_type": "stream",
     "text": [
      "cant null antes: 18808\n",
      "cant null despues: 0\n"
     ]
    }
   ],
   "source": [
    "Do_resamples(data_2016, c, str)"
   ]
  },
  {
   "cell_type": "code",
   "execution_count": 52,
   "metadata": {
    "collapsed": false,
    "scrolled": true
   },
   "outputs": [
    {
     "name": "stdout",
     "output_type": "stream",
     "text": [
      "Float64Index([1980.0, 1981.0, 1982.0, 1983.0, 1984.0, 1985.0, 1986.0, 1987.0,\n",
      "              1988.0, 1989.0, 1990.0, 1991.0, 1992.0, 1993.0, 1994.0, 1995.0,\n",
      "              1996.0, 1997.0, 1998.0, 1999.0, 2000.0, 2001.0, 2002.0, 2003.0,\n",
      "              2004.0, 2005.0, 2006.0, 2007.0, 2008.0, 2009.0, 2010.0, 2011.0,\n",
      "              2012.0, 2013.0, 2014.0, 2015.0],\n",
      "             dtype='float64')\n",
      "1980      104\n",
      "1981       24\n",
      "1982       22\n",
      "1983       27\n",
      "1984       29\n",
      "1985       30\n",
      "1986       35\n",
      "1987       36\n",
      "1988       41\n",
      "1989       58\n",
      "1990       42\n",
      "1991       62\n",
      "1992       85\n",
      "1993       97\n",
      "1994      120\n",
      "1995      132\n",
      "1996      145\n",
      "1997      201\n",
      "1998      269\n",
      "1999      311\n",
      "2000      432\n",
      "2001      418\n",
      "2002      502\n",
      "2003      582\n",
      "2004      672\n",
      "2005      755\n",
      "2006      862\n",
      "2007     1084\n",
      "2008     1430\n",
      "2009     1759\n",
      "2010     2263\n",
      "2011     2863\n",
      "2012     3421\n",
      "2013     4797\n",
      "2014     8693\n",
      "2015    22168\n",
      "Name: ESTU_ANO_TERMINO_BACHILL, dtype: int64\n",
      "Elementos null/NaN 19557\n",
      "__________________\n",
      "Elementos diferentes de null/NaN: 54571\n",
      "__________________\n",
      "(54571,)\n",
      "None\n"
     ]
    }
   ],
   "source": [
    "c = 'ESTU_ANO_TERMINO_BACHILL'\n",
    "print(data_2016[c].value_counts().sort_index().index)\n",
    "print(data_2016[c].value_counts().sort_index())\n",
    "print(missing_data(data_2016[c]))"
   ]
  },
  {
   "cell_type": "code",
   "execution_count": 53,
   "metadata": {
    "collapsed": false
   },
   "outputs": [
    {
     "name": "stdout",
     "output_type": "stream",
     "text": [
      "cant null antes: 19557\n",
      "cant null despues: 0\n"
     ]
    }
   ],
   "source": [
    "Do_resamples(data_2016, c, float)"
   ]
  },
  {
   "cell_type": "code",
   "execution_count": 54,
   "metadata": {
    "collapsed": false
   },
   "outputs": [
    {
     "name": "stdout",
     "output_type": "stream",
     "text": [
      "Float64Index([1.0, 2.0, 3.0, 4.0, 5.0, 6.0, 7.0, 8.0, 9.0, 10.0, 11.0, 12.0], dtype='float64')\n",
      "1       155\n",
      "2       198\n",
      "3       250\n",
      "4       172\n",
      "5       173\n",
      "6      2723\n",
      "7      3703\n",
      "8       801\n",
      "9       429\n",
      "10      373\n",
      "11    16914\n",
      "12    28677\n",
      "Name: ESTU_MES_TERMINO_BACHILL, dtype: int64\n",
      "Elementos null/NaN 19560\n",
      "__________________\n",
      "Elementos diferentes de null/NaN: 54568\n",
      "__________________\n",
      "(54568,)\n",
      "None\n"
     ]
    }
   ],
   "source": [
    "c = 'ESTU_MES_TERMINO_BACHILL'\n",
    "print(data_2016[c].value_counts().sort_index().index)\n",
    "print(data_2016[c].value_counts().sort_index())\n",
    "print(missing_data(data_2016[c]))"
   ]
  },
  {
   "cell_type": "code",
   "execution_count": 55,
   "metadata": {
    "collapsed": false
   },
   "outputs": [
    {
     "name": "stdout",
     "output_type": "stream",
     "text": [
      "cant null antes: 19560\n",
      "cant null despues: 0\n"
     ]
    }
   ],
   "source": [
    "Do_resamples(data_2016, c, float)"
   ]
  },
  {
   "cell_type": "code",
   "execution_count": 56,
   "metadata": {
    "collapsed": false
   },
   "outputs": [
    {
     "name": "stdout",
     "output_type": "stream",
     "text": [
      "Index(['0 A 10 LIBROS', '11 A 25 LIBROS', '26 A 100 LIBROS',\n",
      "       'MÁS DE 100 LIBROS'],\n",
      "      dtype='object')\n",
      "0 A 10 LIBROS        26634\n",
      "11 A 25 LIBROS       20363\n",
      "26 A 100 LIBROS      17322\n",
      "MÁS DE 100 LIBROS     8169\n",
      "Name: ESTU_NUMERO_LIBROS, dtype: int64\n",
      "Elementos null/NaN 1640\n",
      "__________________\n",
      "Elementos diferentes de null/NaN: 72488\n",
      "__________________\n",
      "(72488,)\n",
      "None\n"
     ]
    }
   ],
   "source": [
    "c = 'ESTU_NUMERO_LIBROS'\n",
    "print(data_2016[c].value_counts().sort_index().index)\n",
    "print(data_2016[c].value_counts().sort_index())\n",
    "print(missing_data(data_2016[c]))"
   ]
  },
  {
   "cell_type": "code",
   "execution_count": 57,
   "metadata": {
    "collapsed": false
   },
   "outputs": [
    {
     "name": "stdout",
     "output_type": "stream",
     "text": [
      "cant null antes: 1640\n",
      "cant null despues: 0\n"
     ]
    }
   ],
   "source": [
    "Do_resamples(data_2016, c, str)"
   ]
  },
  {
   "cell_type": "code",
   "execution_count": 58,
   "metadata": {
    "collapsed": false,
    "scrolled": true
   },
   "outputs": [
    {
     "name": "stdout",
     "output_type": "stream",
     "text": [
      "Index([' \"isaac\" newton ', ' Ateneo Autonomo De Colombia', ' CIET',\n",
      "       ' COLEGIO ALFONSO LOPEZ PUMAREJO',\n",
      "       ' COLEGIO MILITAR GENERAL RAFAEL REYES', ' COLEGIO SANTANDER',\n",
      "       ' Colegio Mayor San Benito Apostol JM',\n",
      "       ' EDUCATIVA TECNICA ANTONIO NARIÑO',\n",
      "       ' Educativa Departamental San Gabriel ',\n",
      "       ' Educativa Tecnica San Juan Bautista',\n",
      "       ...\n",
      "       'villa santana', 'villanelly sabatino', 'villas de san ignacio',\n",
      "       'virtual andino', 'vista bella i-e-d', 'william shakespeare',\n",
      "       'yoan quepler', 'zer international', 'zion school',\n",
      "       '´validación icfes'],\n",
      "      dtype='object', length=9502)\n",
      " \"isaac\" newton                             1\n",
      " Ateneo Autonomo De Colombia                1\n",
      " CIET                                       1\n",
      " COLEGIO ALFONSO LOPEZ PUMAREJO             1\n",
      " COLEGIO MILITAR GENERAL RAFAEL REYES       1\n",
      " COLEGIO SANTANDER                          1\n",
      " Colegio Mayor San Benito Apostol JM        1\n",
      " EDUCATIVA TECNICA ANTONIO NARIÑO           1\n",
      " Educativa Departamental San Gabriel        1\n",
      " Educativa Tecnica San Juan Bautista        1\n",
      " Fe y Alegria Madre sifFredi                1\n",
      " I E D MANUELA AYALA DE GAITAN              1\n",
      " I E Jorge Guillermo Mojica Marquez         1\n",
      " I. E san martin de porre                   1\n",
      " I.E. NUESTRA SEÑORA DEL ROSARIO            1\n",
      " I.E.D. Colegio Ricaurte                    1\n",
      " IED VILLA ELISA                            1\n",
      " IETIN \" M.A.B\"                             1\n",
      " INEM CARLOS ARTURO TORRES                  1\n",
      " INSTITUCION ALONSO RONQUILLO               1\n",
      " INSTITUCIÓN EDUCATIVA GENERAL FRANCISCO    1\n",
      " ISMAEL CONTRERAS MENESES                   1\n",
      " Inem Carlos Arturo Torres                  1\n",
      " Inem Francisco Jose de Caldas              1\n",
      " Institución Educativa Politécnico          1\n",
      " Instituto Fundetec                         1\n",
      " Instituto Gran Colombia                    1\n",
      " Instituto Nacional del Promocion Social    1\n",
      " Instìtuto Bolìvarìano Esdiseño             1\n",
      " JOSE EUSTACIO RIVERA - NOCTURNO            1\n",
      "                                           ..\n",
      "unitecnicas de colombia                     1\n",
      "universidad a distancia                     1\n",
      "universidad abierta y a distancia unad      1\n",
      "universidad catolica de oriente             1\n",
      "universidad cooperativa de colombia         1\n",
      "universidad de antioquia                    1\n",
      "universidad nacional abierta y a distanc    1\n",
      "universidad pedagogica nacional             1\n",
      "uparsistem                                  1\n",
      "validacion                                  1\n",
      "validacion icfes                            2\n",
      "validación de bachillerato                  1\n",
      "validante ICFES                             1\n",
      "validantes taxis                            1\n",
      "veintiun angeles                            1\n",
      "veintiun angeles                            1\n",
      "vernarda gonzales                           1\n",
      "vernot school                               1\n",
      "vida y paz rodrigo arenas betancur          1\n",
      "villa margarita                             1\n",
      "villa santana                               1\n",
      "villanelly sabatino                         1\n",
      "villas de san ignacio                       1\n",
      "virtual andino                              1\n",
      "vista bella i-e-d                           1\n",
      "william shakespeare                         2\n",
      "yoan quepler                                1\n",
      "zer international                           1\n",
      "zion school                                 1\n",
      "´validación icfes                           1\n",
      "Name: ESTU_OTRO_PLANTEL, dtype: int64\n",
      "Elementos null/NaN 61830\n",
      "__________________\n",
      "Elementos diferentes de null/NaN: 12298\n",
      "__________________\n",
      "(12298,)\n",
      "None\n"
     ]
    }
   ],
   "source": [
    "c = 'ESTU_OTRO_PLANTEL'\n",
    "print(data_2016[c].value_counts().sort_index().index)\n",
    "print(data_2016[c].value_counts().sort_index())\n",
    "print(missing_data(data_2016[c]))"
   ]
  },
  {
   "cell_type": "code",
   "execution_count": 59,
   "metadata": {
    "collapsed": true
   },
   "outputs": [],
   "source": [
    "data_2016 = data_2016.drop(c, axis=1)"
   ]
  },
  {
   "cell_type": "code",
   "execution_count": 60,
   "metadata": {
    "collapsed": false,
    "scrolled": true
   },
   "outputs": [
    {
     "name": "stdout",
     "output_type": "stream",
     "text": [
      "Float64Index([  1.0,   2.0,  11.0,  12.0,  13.0,  17.0,  23.0,  28.0,  33.0,\n",
      "               34.0,  36.0,  39.0,  40.0,  41.0,  42.0,  46.0,  50.0,  52.0,\n",
      "               54.0,  55.0,  56.0,  57.0,  65.0,  67.0,  76.0,  91.0,  98.0,\n",
      "               99.0, 103.0, 109.0, 110.0, 112.0, 118.0, 119.0, 131.0, 144.0,\n",
      "              145.0, 152.0, 157.0, 160.0, 164.0, 166.0, 167.0, 168.0, 171.0,\n",
      "              173.0, 174.0, 195.0, 199.0, 200.0, 202.0, 209.0, 216.0, 228.0,\n",
      "              235.0, 236.0, 238.0, 240.0, 241.0, 242.0],\n",
      "             dtype='float64')\n",
      "1      54516\n",
      "2          1\n",
      "11         1\n",
      "12        12\n",
      "13         1\n",
      "17         1\n",
      "23         1\n",
      "28         7\n",
      "33         4\n",
      "34         1\n",
      "36         1\n",
      "39         6\n",
      "40         1\n",
      "41         6\n",
      "42        15\n",
      "46        10\n",
      "50        36\n",
      "52         1\n",
      "54         2\n",
      "55         1\n",
      "56         1\n",
      "57         3\n",
      "65        44\n",
      "67         1\n",
      "76         3\n",
      "91         3\n",
      "98         4\n",
      "99         2\n",
      "103        1\n",
      "109        1\n",
      "110        1\n",
      "112        1\n",
      "118        9\n",
      "119        2\n",
      "131        2\n",
      "144        7\n",
      "145        1\n",
      "152        1\n",
      "157        6\n",
      "160        2\n",
      "164        1\n",
      "166        1\n",
      "167        2\n",
      "168        1\n",
      "171       21\n",
      "173        1\n",
      "174       25\n",
      "195        1\n",
      "199        1\n",
      "200        1\n",
      "202        1\n",
      "209       30\n",
      "216        2\n",
      "228        1\n",
      "235        2\n",
      "236       49\n",
      "238        4\n",
      "240        2\n",
      "241      225\n",
      "242        3\n",
      "Name: ESTU_COD_OTRO_PAIS_PLANTEL, dtype: int64\n",
      "Elementos null/NaN 19035\n",
      "__________________\n",
      "Elementos diferentes de null/NaN: 55093\n",
      "__________________\n",
      "(55093,)\n",
      "None\n"
     ]
    }
   ],
   "source": [
    "c = 'ESTU_COD_OTRO_PAIS_PLANTEL'\n",
    "print(data_2016[c].value_counts().sort_index().index)\n",
    "print(data_2016[c].value_counts().sort_index())\n",
    "print(missing_data(data_2016[c]))"
   ]
  },
  {
   "cell_type": "code",
   "execution_count": 61,
   "metadata": {
    "collapsed": false
   },
   "outputs": [
    {
     "name": "stdout",
     "output_type": "stream",
     "text": [
      "cant null antes: 19035\n",
      "cant null despues: 0\n"
     ]
    }
   ],
   "source": [
    "Do_resamples(data_2016, c, float)"
   ]
  },
  {
   "cell_type": "code",
   "execution_count": 62,
   "metadata": {
    "collapsed": false
   },
   "outputs": [
    {
     "name": "stdout",
     "output_type": "stream",
     "text": [
      "Float64Index([1.0, 2.0, 3.0, 4.0, 5.0, 6.0], dtype='float64')\n",
      "1     469\n",
      "2    2936\n",
      "3    1770\n",
      "4    1140\n",
      "5    2050\n",
      "6    8629\n",
      "Name: COLE_VALOR_PENSION, dtype: int64\n",
      "Elementos null/NaN 57134\n",
      "__________________\n",
      "Elementos diferentes de null/NaN: 16994\n",
      "__________________\n",
      "(16994,)\n",
      "None\n"
     ]
    }
   ],
   "source": [
    "c = 'COLE_VALOR_PENSION'\n",
    "print(data_2016[c].value_counts().sort_index().index)\n",
    "print(data_2016[c].value_counts().sort_index())\n",
    "print(missing_data(data_2016[c]))"
   ]
  },
  {
   "cell_type": "code",
   "execution_count": 63,
   "metadata": {
    "collapsed": false
   },
   "outputs": [
    {
     "name": "stdout",
     "output_type": "stream",
     "text": [
      "cant null antes: 57134\n",
      "cant null despues: 0\n"
     ]
    }
   ],
   "source": [
    "Do_resamples(data_2016, c, float)"
   ]
  },
  {
   "cell_type": "code",
   "execution_count": 64,
   "metadata": {
    "collapsed": false
   },
   "outputs": [
    {
     "name": "stdout",
     "output_type": "stream",
     "text": [
      "Float64Index([0.0, 1.0, 2.0, 3.0, 4.0], dtype='float64')\n",
      "0        1\n",
      "1    16665\n",
      "2      293\n",
      "3       20\n",
      "4       15\n",
      "Name: ESTU_VECES_ESTADO, dtype: int64\n",
      "Elementos null/NaN 57134\n",
      "__________________\n",
      "Elementos diferentes de null/NaN: 16994\n",
      "__________________\n",
      "(16994,)\n",
      "None\n"
     ]
    }
   ],
   "source": [
    "c = 'ESTU_VECES_ESTADO'\n",
    "print(data_2016[c].value_counts().sort_index().index)\n",
    "print(data_2016[c].value_counts().sort_index())\n",
    "print(missing_data(data_2016[c]))"
   ]
  },
  {
   "cell_type": "code",
   "execution_count": 65,
   "metadata": {
    "collapsed": false
   },
   "outputs": [
    {
     "name": "stdout",
     "output_type": "stream",
     "text": [
      "cant null antes: 57134\n",
      "cant null despues: 1\n",
      "cant null antes: 1\n",
      "cant null despues: 0\n"
     ]
    }
   ],
   "source": [
    "Do_resamples(data_2016, c, float)"
   ]
  },
  {
   "cell_type": "code",
   "execution_count": 66,
   "metadata": {
    "collapsed": false,
    "scrolled": true
   },
   "outputs": [
    {
     "name": "stdout",
     "output_type": "stream",
     "text": [
      "Int64Index([ 5001,  5045,  5154,  5615,  5756,  8001,  8758, 11001, 13001,\n",
      "            13430, 15001, 15407, 15759, 17001, 17380, 18001, 18247, 19001,\n",
      "            19532, 19698, 20001, 20011, 23001, 23466, 25183, 25269, 25290,\n",
      "            25307, 25899, 27001, 27361, 41001, 41396, 44001, 44035, 44430,\n",
      "            47001, 50001, 50313, 52001, 52356, 52835, 52838, 54001, 54498,\n",
      "            54518, 63001, 66001, 68001, 68077, 68081, 68432, 68547, 68679,\n",
      "            70001, 73001, 73268, 76001, 76109, 76111, 76147, 76520, 76622,\n",
      "            76736, 76834, 81001, 81794, 85001, 85250, 86001, 86320, 86568,\n",
      "            86749, 88001, 91001, 94001, 95001, 97001, 99001],\n",
      "           dtype='int64')\n",
      "5001      2905\n",
      "5045       453\n",
      "5154       102\n",
      "5615       272\n",
      "5756        29\n",
      "8001      2135\n",
      "8758        11\n",
      "11001    16170\n",
      "13001     1050\n",
      "13430      104\n",
      "15001     1826\n",
      "15407      121\n",
      "15759     1552\n",
      "17001     1759\n",
      "17380      239\n",
      "18001      422\n",
      "18247       59\n",
      "19001     1751\n",
      "19532       67\n",
      "19698      508\n",
      "20001      871\n",
      "20011      227\n",
      "23001      553\n",
      "23466      100\n",
      "25183       27\n",
      "25269      579\n",
      "25290      169\n",
      "25307      273\n",
      "25899      904\n",
      "27001      367\n",
      "         ...  \n",
      "68077      170\n",
      "68081      339\n",
      "68432       51\n",
      "68547      413\n",
      "68679      190\n",
      "70001      420\n",
      "73001     1564\n",
      "73268      270\n",
      "76001    11074\n",
      "76109      353\n",
      "76111      623\n",
      "76147      278\n",
      "76520     1571\n",
      "76622      164\n",
      "76736       67\n",
      "76834      437\n",
      "81001      152\n",
      "81794       99\n",
      "85001      370\n",
      "85250       47\n",
      "86001      119\n",
      "86320       76\n",
      "86568      109\n",
      "86749       94\n",
      "88001       45\n",
      "91001       12\n",
      "94001        9\n",
      "95001       75\n",
      "97001        8\n",
      "99001       23\n",
      "Name: ESTU_COD_MCPIO_PRESENTACION, dtype: int64\n",
      "Elementos null/NaN 0\n",
      "__________________\n",
      "Elementos diferentes de null/NaN: 74128\n",
      "__________________\n",
      "(74128,)\n",
      "None\n"
     ]
    }
   ],
   "source": [
    "c = 'ESTU_COD_MCPIO_PRESENTACION'\n",
    "print(data_2016[c].value_counts().sort_index().index)\n",
    "print(data_2016[c].value_counts().sort_index())\n",
    "print(missing_data(data_2016[c]))"
   ]
  },
  {
   "cell_type": "code",
   "execution_count": 67,
   "metadata": {
    "collapsed": true
   },
   "outputs": [],
   "source": [
    "data_2016 = data_2016.drop(c, axis=1)"
   ]
  },
  {
   "cell_type": "code",
   "execution_count": 68,
   "metadata": {
    "collapsed": false,
    "scrolled": true
   },
   "outputs": [
    {
     "name": "stdout",
     "output_type": "stream",
     "text": [
      "Index(['ABEJORRAL', 'ABREGO', 'ABRIAQUI', 'ACACIAS', 'ACEVEDO', 'AGRADO',\n",
      "       'AGUA DE DIOS', 'AGUACHICA', 'AGUADAS', 'AGUAZUL',\n",
      "       ...\n",
      "       'YOTOCO', 'YUMBO', 'ZAPATOCA', 'ZAPAYAN', 'ZARAGOZA', 'ZARZAL',\n",
      "       'ZETAQUIRA', 'ZIPACON', 'ZIPAQUIRA', 'ZONA BANANERA'],\n",
      "      dtype='object', length=885)\n",
      "ABEJORRAL                      2\n",
      "ABREGO                        20\n",
      "ABRIAQUI                       1\n",
      "ACACIAS                       95\n",
      "ACEVEDO                       40\n",
      "AGRADO                         5\n",
      "AGUA DE DIOS                  24\n",
      "AGUACHICA                    168\n",
      "AGUADAS                        5\n",
      "AGUAZUL                       56\n",
      "AGUSTIN CODAZZI               33\n",
      "AIPE                          18\n",
      "ALBAN                          2\n",
      "ALBAN (SAN JOSE)              44\n",
      "ALBANIA                       44\n",
      "ALCALA                         3\n",
      "ALDANA                        17\n",
      "ALGECIRAS                     21\n",
      "ALMAGUER                       4\n",
      "ALPUJARRA                      3\n",
      "ALTAMIRA                       3\n",
      "ALTO BAUDO (PIE DE PATO)       2\n",
      "ALTOS DEL ROSARIO              1\n",
      "ALVARADO                       3\n",
      "AMAGA                          5\n",
      "AMALFI                         4\n",
      "AMBALEMA                       1\n",
      "ANAPOIMA                       5\n",
      "ANCUYA                        40\n",
      "ANDALUCIA                     23\n",
      "                            ... \n",
      "VILLAGARZON                   30\n",
      "VILLAHERMOSA                   6\n",
      "VILLAMARIA                   125\n",
      "VILLANUEVA                    71\n",
      "VILLAPINZON                    5\n",
      "VILLARRICA                     1\n",
      "VILLAVICENCIO               1005\n",
      "VILLAVIEJA                    12\n",
      "VILLETA                       30\n",
      "VIOTA                          8\n",
      "VIRACACHA                      5\n",
      "VISTA HERMOSA                  8\n",
      "VITERBO                        4\n",
      "YACOPI                         3\n",
      "YACUANQUER                    30\n",
      "YAGUARA                       19\n",
      "YARUMAL                       22\n",
      "YOLOMBO                        3\n",
      "YONDO (CASABE)                 9\n",
      "YOPAL                        232\n",
      "YOTOCO                        23\n",
      "YUMBO                        230\n",
      "ZAPATOCA                       5\n",
      "ZAPAYAN                        1\n",
      "ZARAGOZA                       5\n",
      "ZARZAL                        77\n",
      "ZETAQUIRA                      2\n",
      "ZIPACON                        2\n",
      "ZIPAQUIRA                    138\n",
      "ZONA BANANERA                 13\n",
      "Name: ESTU_MCPIO_PRESENTACION, dtype: int64\n",
      "Elementos null/NaN 0\n",
      "__________________\n",
      "Elementos diferentes de null/NaN: 74128\n",
      "__________________\n",
      "(74128,)\n",
      "None\n"
     ]
    }
   ],
   "source": [
    "c = 'ESTU_MCPIO_PRESENTACION'\n",
    "print(data_2016[c].value_counts().sort_index().index)\n",
    "print(data_2016[c].value_counts().sort_index())\n",
    "print(missing_data(data_2016[c]))"
   ]
  },
  {
   "cell_type": "code",
   "execution_count": 69,
   "metadata": {
    "collapsed": false,
    "scrolled": true
   },
   "outputs": [
    {
     "name": "stdout",
     "output_type": "stream",
     "text": [
      "Index(['AMAZONAS', 'ANTIOQUIA', 'ARAUCA', 'ATLANTICO', 'BOGOTA', 'BOLIVAR',\n",
      "       'BOYACA', 'CALDAS', 'CAQUETA', 'CASANARE', 'CAUCA', 'CESAR', 'CHOCO',\n",
      "       'CORDOBA', 'CUNDINAMARCA', 'GUAINIA', 'GUAVIARE', 'HUILA', 'LA GUAJIRA',\n",
      "       'MAGDALENA', 'META', 'NARIÑO', 'NORTE SANTANDER', 'PUTUMAYO', 'QUINDIO',\n",
      "       'RISARALDA', 'SAN ANDRES', 'SANTANDER', 'SUCRE', 'TOLIMA', 'VALLE',\n",
      "       'VAUPES', 'VICHADA'],\n",
      "      dtype='object')\n",
      "AMAZONAS              12\n",
      "ANTIOQUIA           3761\n",
      "ARAUCA               251\n",
      "ATLANTICO           2146\n",
      "BOGOTA             16170\n",
      "BOLIVAR             1154\n",
      "BOYACA              3499\n",
      "CALDAS              1998\n",
      "CAQUETA              481\n",
      "CASANARE             417\n",
      "CAUCA               2326\n",
      "CESAR               1098\n",
      "CHOCO                389\n",
      "CORDOBA              653\n",
      "CUNDINAMARCA        1952\n",
      "GUAINIA                9\n",
      "GUAVIARE              75\n",
      "HUILA               2989\n",
      "LA GUAJIRA           462\n",
      "MAGDALENA            482\n",
      "META                1367\n",
      "NARIÑO              6368\n",
      "NORTE SANTANDER     1646\n",
      "PUTUMAYO             398\n",
      "QUINDIO              902\n",
      "RISARALDA           1410\n",
      "SAN ANDRES            45\n",
      "SANTANDER           4816\n",
      "SUCRE                420\n",
      "TOLIMA              1834\n",
      "VALLE              14567\n",
      "VAUPES                 8\n",
      "VICHADA               23\n",
      "Name: ESTU_DEPTO_PRESENTACION, dtype: int64\n",
      "Elementos null/NaN 0\n",
      "__________________\n",
      "Elementos diferentes de null/NaN: 74128\n",
      "__________________\n",
      "(74128,)\n",
      "None\n"
     ]
    }
   ],
   "source": [
    "c = 'ESTU_DEPTO_PRESENTACION'\n",
    "print(data_2016[c].value_counts().sort_index().index)\n",
    "print(data_2016[c].value_counts().sort_index())\n",
    "print(missing_data(data_2016[c]))"
   ]
  },
  {
   "cell_type": "code",
   "execution_count": 70,
   "metadata": {
    "collapsed": false
   },
   "outputs": [
    {
     "name": "stdout",
     "output_type": "stream",
     "text": [
      "Float64Index([1.0, 2.0, 3.0, 4.0, 5.0, 6.0, 7.0, 8.0, 9.0, 10.0, 11.0], dtype='float64')\n",
      "1      3107\n",
      "2     10823\n",
      "3      8565\n",
      "4      8044\n",
      "5     16473\n",
      "6      1262\n",
      "7      5126\n",
      "8      1382\n",
      "9     10539\n",
      "10     4782\n",
      "11     2385\n",
      "Name: FAMI_EDUCA_PADRE, dtype: int64\n",
      "Elementos null/NaN 1640\n",
      "__________________\n",
      "Elementos diferentes de null/NaN: 72488\n",
      "__________________\n",
      "(72488,)\n",
      "None\n"
     ]
    }
   ],
   "source": [
    "c = 'FAMI_EDUCA_PADRE'\n",
    "print(data_2016[c].value_counts().sort_index().index)\n",
    "print(data_2016[c].value_counts().sort_index())\n",
    "print(missing_data(data_2016[c]))"
   ]
  },
  {
   "cell_type": "code",
   "execution_count": 71,
   "metadata": {
    "collapsed": false
   },
   "outputs": [
    {
     "name": "stdout",
     "output_type": "stream",
     "text": [
      "cant null antes: 1640\n",
      "cant null despues: 0\n"
     ]
    }
   ],
   "source": [
    "Do_resamples(data_2016, c, float)"
   ]
  },
  {
   "cell_type": "code",
   "execution_count": 72,
   "metadata": {
    "collapsed": false
   },
   "outputs": [
    {
     "name": "stdout",
     "output_type": "stream",
     "text": [
      "Float64Index([1.0, 2.0, 3.0, 4.0, 5.0, 6.0, 7.0, 8.0, 9.0, 10.0, 11.0], dtype='float64')\n",
      "1      1586\n",
      "2      9109\n",
      "3      8142\n",
      "4      8956\n",
      "5     18135\n",
      "6      1684\n",
      "7      7182\n",
      "8      1587\n",
      "9     11079\n",
      "10     4380\n",
      "11      648\n",
      "Name: FAMI_EDUCA_MADRE, dtype: int64\n",
      "Elementos null/NaN 1640\n",
      "__________________\n",
      "Elementos diferentes de null/NaN: 72488\n",
      "__________________\n",
      "(72488,)\n",
      "None\n"
     ]
    }
   ],
   "source": [
    "c = 'FAMI_EDUCA_MADRE'\n",
    "print(data_2016[c].value_counts().sort_index().index)\n",
    "print(data_2016[c].value_counts().sort_index())\n",
    "print(missing_data(data_2016[c]))"
   ]
  },
  {
   "cell_type": "code",
   "execution_count": 73,
   "metadata": {
    "collapsed": false
   },
   "outputs": [
    {
     "name": "stdout",
     "output_type": "stream",
     "text": [
      "cant null antes: 1640\n",
      "cant null despues: 0\n"
     ]
    }
   ],
   "source": [
    "Do_resamples(data_2016, c, float)"
   ]
  },
  {
   "cell_type": "code",
   "execution_count": 74,
   "metadata": {
    "collapsed": false
   },
   "outputs": [
    {
     "name": "stdout",
     "output_type": "stream",
     "text": [
      "Float64Index([1.0, 2.0, 3.0, 4.0, 5.0, 6.0, 7.0, 8.0, 9.0, 10.0, 11.0, 12.0], dtype='float64')\n",
      "1      3133\n",
      "2      1913\n",
      "3      2498\n",
      "4      1075\n",
      "5      7015\n",
      "6      1535\n",
      "7     12057\n",
      "8      3769\n",
      "9     23395\n",
      "10     1359\n",
      "11     4039\n",
      "12    10700\n",
      "Name: FAMI_OCUPA_PADRE, dtype: int64\n",
      "Elementos null/NaN 1640\n",
      "__________________\n",
      "Elementos diferentes de null/NaN: 72488\n",
      "__________________\n",
      "(72488,)\n",
      "None\n"
     ]
    }
   ],
   "source": [
    "c = 'FAMI_OCUPA_PADRE'\n",
    "print(data_2016[c].value_counts().sort_index().index)\n",
    "print(data_2016[c].value_counts().sort_index())\n",
    "print(missing_data(data_2016[c]))"
   ]
  },
  {
   "cell_type": "code",
   "execution_count": 75,
   "metadata": {
    "collapsed": false
   },
   "outputs": [
    {
     "name": "stdout",
     "output_type": "stream",
     "text": [
      "cant null antes: 1640\n",
      "cant null despues: 0\n"
     ]
    }
   ],
   "source": [
    "Do_resamples(data_2016, c, float)"
   ]
  },
  {
   "cell_type": "code",
   "execution_count": 76,
   "metadata": {
    "collapsed": false
   },
   "outputs": [
    {
     "name": "stdout",
     "output_type": "stream",
     "text": [
      "Float64Index([1.0, 2.0, 3.0, 4.0, 5.0, 6.0, 7.0, 8.0, 9.0, 10.0, 11.0, 12.0], dtype='float64')\n",
      "1      1435\n",
      "2      1821\n",
      "3      1501\n",
      "4      1422\n",
      "5      6667\n",
      "6      4216\n",
      "7      4104\n",
      "8      3574\n",
      "9      8915\n",
      "10    31699\n",
      "11     1537\n",
      "12     5597\n",
      "Name: FAMI_OCUPA_MADRE, dtype: int64\n",
      "Elementos null/NaN 1640\n",
      "__________________\n",
      "Elementos diferentes de null/NaN: 72488\n",
      "__________________\n",
      "(72488,)\n",
      "None\n"
     ]
    }
   ],
   "source": [
    "c = 'FAMI_OCUPA_MADRE'\n",
    "print(data_2016[c].value_counts().sort_index().index)\n",
    "print(data_2016[c].value_counts().sort_index())\n",
    "print(missing_data(data_2016[c]))"
   ]
  },
  {
   "cell_type": "code",
   "execution_count": 77,
   "metadata": {
    "collapsed": false
   },
   "outputs": [
    {
     "name": "stdout",
     "output_type": "stream",
     "text": [
      "cant null antes: 1640\n",
      "cant null despues: 0\n"
     ]
    }
   ],
   "source": [
    "Do_resamples(data_2016, c, float)"
   ]
  },
  {
   "cell_type": "code",
   "execution_count": 78,
   "metadata": {
    "collapsed": false
   },
   "outputs": [
    {
     "name": "stdout",
     "output_type": "stream",
     "text": [
      "Index(['0', '1', '2', '3', '4', '5', '6', '7', '8', '9', 'MÁS DE NUEVE'], dtype='object')\n",
      "0                6860\n",
      "1               21869\n",
      "2               19580\n",
      "3               10695\n",
      "4                5734\n",
      "5                3185\n",
      "6                1686\n",
      "7                1096\n",
      "8                 644\n",
      "9                 447\n",
      "MÁS DE NUEVE      692\n",
      "Name: FAMI_NUM_HERMANOS, dtype: int64\n",
      "Elementos null/NaN 1640\n",
      "__________________\n",
      "Elementos diferentes de null/NaN: 72488\n",
      "__________________\n",
      "(72488,)\n",
      "None\n"
     ]
    }
   ],
   "source": [
    "c = 'FAMI_NUM_HERMANOS'\n",
    "print(data_2016[c].value_counts().sort_index().index)\n",
    "print(data_2016[c].value_counts().sort_index())\n",
    "print(missing_data(data_2016[c]))"
   ]
  },
  {
   "cell_type": "code",
   "execution_count": 79,
   "metadata": {
    "collapsed": false
   },
   "outputs": [
    {
     "name": "stdout",
     "output_type": "stream",
     "text": [
      "cant null antes: 1640\n",
      "cant null despues: 0\n"
     ]
    }
   ],
   "source": [
    "Do_resamples(data_2016, c, str)"
   ]
  },
  {
   "cell_type": "code",
   "execution_count": 80,
   "metadata": {
    "collapsed": false
   },
   "outputs": [
    {
     "name": "stdout",
     "output_type": "stream",
     "text": [
      "Float64Index([1.0, 2.0, 3.0, 4.0, 5.0, 6.0, 8.0], dtype='float64')\n",
      "1    18570\n",
      "2    26118\n",
      "3    17025\n",
      "4     5897\n",
      "5     3438\n",
      "6     3051\n",
      "8        1\n",
      "Name: FAMI_ESTRATO_VIVIENDA, dtype: int64\n",
      "Elementos null/NaN 28\n",
      "__________________\n",
      "Elementos diferentes de null/NaN: 74100\n",
      "__________________\n",
      "(74100,)\n",
      "None\n"
     ]
    }
   ],
   "source": [
    "c = 'FAMI_ESTRATO_VIVIENDA'\n",
    "print(data_2016[c].value_counts().sort_index().index)\n",
    "print(data_2016[c].value_counts().sort_index())\n",
    "print(missing_data(data_2016[c]))"
   ]
  },
  {
   "cell_type": "code",
   "execution_count": 81,
   "metadata": {
    "collapsed": false
   },
   "outputs": [
    {
     "name": "stdout",
     "output_type": "stream",
     "text": [
      "cant null antes: 28\n",
      "cant null despues: 0\n"
     ]
    }
   ],
   "source": [
    "Do_resamples(data_2016, c, float)"
   ]
  },
  {
   "cell_type": "code",
   "execution_count": 82,
   "metadata": {
    "collapsed": false
   },
   "outputs": [
    {
     "name": "stdout",
     "output_type": "stream",
     "text": [
      "Float64Index([1.0, 2.0, 3.0, 4.0, 5.0], dtype='float64')\n",
      "1    25372\n",
      "2    13938\n",
      "3     2487\n",
      "4      857\n",
      "5    29834\n",
      "Name: FAMI_NIVEL_SISBEN, dtype: int64\n",
      "Elementos null/NaN 1640\n",
      "__________________\n",
      "Elementos diferentes de null/NaN: 72488\n",
      "__________________\n",
      "(72488,)\n",
      "None\n"
     ]
    }
   ],
   "source": [
    "c = 'FAMI_NIVEL_SISBEN'\n",
    "print(data_2016[c].value_counts().sort_index().index)\n",
    "print(data_2016[c].value_counts().sort_index())\n",
    "print(missing_data(data_2016[c]))"
   ]
  },
  {
   "cell_type": "code",
   "execution_count": 83,
   "metadata": {
    "collapsed": false
   },
   "outputs": [
    {
     "name": "stdout",
     "output_type": "stream",
     "text": [
      "cant null antes: 1640\n",
      "cant null despues: 1\n",
      "cant null antes: 1\n",
      "cant null despues: 0\n"
     ]
    }
   ],
   "source": [
    "Do_resamples(data_2016, c, float)"
   ]
  },
  {
   "cell_type": "code",
   "execution_count": 84,
   "metadata": {
    "collapsed": false
   },
   "outputs": [
    {
     "name": "stdout",
     "output_type": "stream",
     "text": [
      "Float64Index([1.0, 2.0, 3.0, 4.0, 5.0, 6.0, 7.0, 8.0, 9.0, 10.0, 11.0, 12.0], dtype='float64')\n",
      "1       941\n",
      "2      5974\n",
      "3     16330\n",
      "4     23843\n",
      "5     14626\n",
      "6      5903\n",
      "7      2486\n",
      "8      1265\n",
      "9       432\n",
      "10      324\n",
      "11      106\n",
      "12      258\n",
      "Name: FAMI_PERSONAS_HOGAR, dtype: int64\n",
      "Elementos null/NaN 1640\n",
      "__________________\n",
      "Elementos diferentes de null/NaN: 72488\n",
      "__________________\n",
      "(72488,)\n",
      "None\n"
     ]
    }
   ],
   "source": [
    "c = 'FAMI_PERSONAS_HOGAR'\n",
    "print(data_2016[c].value_counts().sort_index().index)\n",
    "print(data_2016[c].value_counts().sort_index())\n",
    "print(missing_data(data_2016[c]))"
   ]
  },
  {
   "cell_type": "code",
   "execution_count": 85,
   "metadata": {
    "collapsed": false
   },
   "outputs": [
    {
     "name": "stdout",
     "output_type": "stream",
     "text": [
      "cant null antes: 1640\n",
      "cant null despues: 1\n",
      "cant null antes: 1\n",
      "cant null despues: 0\n"
     ]
    }
   ],
   "source": [
    "Do_resamples(data_2016, c, float)"
   ]
  },
  {
   "cell_type": "code",
   "execution_count": 86,
   "metadata": {
    "collapsed": false
   },
   "outputs": [
    {
     "name": "stdout",
     "output_type": "stream",
     "text": [
      "Float64Index([1.0, 2.0, 3.0, 4.0, 5.0, 6.0, 7.0, 8.0, 9.0, 10.0], dtype='float64')\n",
      "1      3964\n",
      "2     23874\n",
      "3     31229\n",
      "4      9863\n",
      "5      2455\n",
      "6       676\n",
      "7       233\n",
      "8        93\n",
      "9        36\n",
      "10       65\n",
      "Name: FAMI_CUARTOS_HOGAR, dtype: int64\n",
      "Elementos null/NaN 1640\n",
      "__________________\n",
      "Elementos diferentes de null/NaN: 72488\n",
      "__________________\n",
      "(72488,)\n",
      "None\n"
     ]
    }
   ],
   "source": [
    "c = 'FAMI_CUARTOS_HOGAR'\n",
    "print(data_2016[c].value_counts().sort_index().index)\n",
    "print(data_2016[c].value_counts().sort_index())\n",
    "print(missing_data(data_2016[c]))"
   ]
  },
  {
   "cell_type": "code",
   "execution_count": 87,
   "metadata": {
    "collapsed": false
   },
   "outputs": [
    {
     "name": "stdout",
     "output_type": "stream",
     "text": [
      "cant null antes: 1640\n",
      "cant null despues: 0\n"
     ]
    }
   ],
   "source": [
    "Do_resamples(data_2016, c, float)"
   ]
  },
  {
   "cell_type": "code",
   "execution_count": 88,
   "metadata": {
    "collapsed": false
   },
   "outputs": [
    {
     "name": "stdout",
     "output_type": "stream",
     "text": [
      "Float64Index([1.0, 2.0, 3.0, 4.0], dtype='float64')\n",
      "1     1931\n",
      "2    25857\n",
      "3     4567\n",
      "4    40133\n",
      "Name: FAMI_PISOSHOGAR, dtype: int64\n",
      "Elementos null/NaN 1640\n",
      "__________________\n",
      "Elementos diferentes de null/NaN: 72488\n",
      "__________________\n",
      "(72488,)\n",
      "None\n"
     ]
    }
   ],
   "source": [
    "c = 'FAMI_PISOSHOGAR'\n",
    "print(data_2016[c].value_counts().sort_index().index)\n",
    "print(data_2016[c].value_counts().sort_index())\n",
    "print(missing_data(data_2016[c]))"
   ]
  },
  {
   "cell_type": "code",
   "execution_count": 89,
   "metadata": {
    "collapsed": false
   },
   "outputs": [
    {
     "name": "stdout",
     "output_type": "stream",
     "text": [
      "cant null antes: 1640\n",
      "cant null despues: 0\n"
     ]
    }
   ],
   "source": [
    "Do_resamples(data_2016, c, float)"
   ]
  },
  {
   "cell_type": "code",
   "execution_count": 90,
   "metadata": {
    "collapsed": false
   },
   "outputs": [
    {
     "name": "stdout",
     "output_type": "stream",
     "text": [
      "Index(['N', 'S'], dtype='object')\n",
      "N    31793\n",
      "S    40695\n",
      "Name: FAMI_TELEFONO_FIJO, dtype: int64\n",
      "Elementos null/NaN 1640\n",
      "__________________\n",
      "Elementos diferentes de null/NaN: 72488\n",
      "__________________\n",
      "(72488,)\n",
      "None\n"
     ]
    }
   ],
   "source": [
    "c = 'FAMI_TELEFONO_FIJO'\n",
    "print(data_2016[c].value_counts().sort_index().index)\n",
    "print(data_2016[c].value_counts().sort_index())\n",
    "print(missing_data(data_2016[c]))"
   ]
  },
  {
   "cell_type": "code",
   "execution_count": 91,
   "metadata": {
    "collapsed": false,
    "scrolled": true
   },
   "outputs": [
    {
     "name": "stdout",
     "output_type": "stream",
     "text": [
      "cant null antes: 1640\n",
      "cant null despues: 0\n"
     ]
    }
   ],
   "source": [
    "Do_resamples(data_2016, c, str)"
   ]
  },
  {
   "cell_type": "code",
   "execution_count": 92,
   "metadata": {
    "collapsed": false
   },
   "outputs": [
    {
     "name": "stdout",
     "output_type": "stream",
     "text": [
      "Index(['N', 'S'], dtype='object')\n",
      "N    24030\n",
      "S    48458\n",
      "Name: FAMI_INTERNET, dtype: int64\n",
      "Elementos null/NaN 1640\n",
      "__________________\n",
      "Elementos diferentes de null/NaN: 72488\n",
      "__________________\n",
      "(72488,)\n",
      "None\n"
     ]
    }
   ],
   "source": [
    "c = 'FAMI_INTERNET'\n",
    "print(data_2016[c].value_counts().sort_index().index)\n",
    "print(data_2016[c].value_counts().sort_index())\n",
    "print(missing_data(data_2016[c]))"
   ]
  },
  {
   "cell_type": "code",
   "execution_count": 93,
   "metadata": {
    "collapsed": false,
    "scrolled": true
   },
   "outputs": [
    {
     "name": "stdout",
     "output_type": "stream",
     "text": [
      "cant null antes: 1640\n",
      "cant null despues: 0\n"
     ]
    }
   ],
   "source": [
    "Do_resamples(data_2016, c, str)"
   ]
  },
  {
   "cell_type": "code",
   "execution_count": 94,
   "metadata": {
    "collapsed": false
   },
   "outputs": [
    {
     "name": "stdout",
     "output_type": "stream",
     "text": [
      "Index(['N', 'S'], dtype='object')\n",
      "N    18576\n",
      "S    53912\n",
      "Name: FAMI_TELEVISOR, dtype: int64\n",
      "Elementos null/NaN 1640\n",
      "__________________\n",
      "Elementos diferentes de null/NaN: 72488\n",
      "__________________\n",
      "(72488,)\n",
      "None\n"
     ]
    }
   ],
   "source": [
    "c = 'FAMI_TELEVISOR'\n",
    "print(data_2016[c].value_counts().sort_index().index)\n",
    "print(data_2016[c].value_counts().sort_index())\n",
    "print(missing_data(data_2016[c]))"
   ]
  },
  {
   "cell_type": "code",
   "execution_count": 95,
   "metadata": {
    "collapsed": false
   },
   "outputs": [
    {
     "name": "stdout",
     "output_type": "stream",
     "text": [
      "cant null antes: 1640\n",
      "cant null despues: 0\n"
     ]
    }
   ],
   "source": [
    "Do_resamples(data_2016, c, str)"
   ]
  },
  {
   "cell_type": "code",
   "execution_count": 96,
   "metadata": {
    "collapsed": false
   },
   "outputs": [
    {
     "name": "stdout",
     "output_type": "stream",
     "text": [
      "Index(['N', 'S'], dtype='object')\n",
      "N    19038\n",
      "S    53450\n",
      "Name: FAMI_COMPUTADOR, dtype: int64\n",
      "Elementos null/NaN 1640\n",
      "__________________\n",
      "Elementos diferentes de null/NaN: 72488\n",
      "__________________\n",
      "(72488,)\n",
      "None\n"
     ]
    }
   ],
   "source": [
    "c = 'FAMI_COMPUTADOR'\n",
    "print(data_2016[c].value_counts().sort_index().index)\n",
    "print(data_2016[c].value_counts().sort_index())\n",
    "print(missing_data(data_2016[c]))"
   ]
  },
  {
   "cell_type": "code",
   "execution_count": 97,
   "metadata": {
    "collapsed": false
   },
   "outputs": [
    {
     "name": "stdout",
     "output_type": "stream",
     "text": [
      "cant null antes: 1640\n",
      "cant null despues: 0\n"
     ]
    }
   ],
   "source": [
    "Do_resamples(data_2016, c, str)"
   ]
  },
  {
   "cell_type": "code",
   "execution_count": 98,
   "metadata": {
    "collapsed": false
   },
   "outputs": [
    {
     "name": "stdout",
     "output_type": "stream",
     "text": [
      "Index(['N', 'S'], dtype='object')\n",
      "N    27313\n",
      "S    45175\n",
      "Name: FAMI_DVD, dtype: int64\n",
      "Elementos null/NaN 1640\n",
      "__________________\n",
      "Elementos diferentes de null/NaN: 72488\n",
      "__________________\n",
      "(72488,)\n",
      "None\n"
     ]
    }
   ],
   "source": [
    "c = 'FAMI_DVD'\n",
    "print(data_2016[c].value_counts().sort_index().index)\n",
    "print(data_2016[c].value_counts().sort_index())\n",
    "print(missing_data(data_2016[c]))"
   ]
  },
  {
   "cell_type": "code",
   "execution_count": 99,
   "metadata": {
    "collapsed": false,
    "scrolled": true
   },
   "outputs": [
    {
     "name": "stdout",
     "output_type": "stream",
     "text": [
      "cant null antes: 1640\n",
      "cant null despues: 0\n"
     ]
    }
   ],
   "source": [
    "Do_resamples(data_2016, c, str)"
   ]
  },
  {
   "cell_type": "code",
   "execution_count": 100,
   "metadata": {
    "collapsed": false
   },
   "outputs": [
    {
     "name": "stdout",
     "output_type": "stream",
     "text": [
      "Index(['N', 'S'], dtype='object')\n",
      "N    18837\n",
      "S    53651\n",
      "Name: FAMI_LAVADORA, dtype: int64\n",
      "Elementos null/NaN 1640\n",
      "__________________\n",
      "Elementos diferentes de null/NaN: 72488\n",
      "__________________\n",
      "(72488,)\n",
      "None\n"
     ]
    }
   ],
   "source": [
    "c = 'FAMI_LAVADORA'\n",
    "print(data_2016[c].value_counts().sort_index().index)\n",
    "print(data_2016[c].value_counts().sort_index())\n",
    "print(missing_data(data_2016[c]))"
   ]
  },
  {
   "cell_type": "code",
   "execution_count": 101,
   "metadata": {
    "collapsed": false,
    "scrolled": true
   },
   "outputs": [
    {
     "name": "stdout",
     "output_type": "stream",
     "text": [
      "cant null antes: 1640\n",
      "cant null despues: 0\n"
     ]
    }
   ],
   "source": [
    "Do_resamples(data_2016, c, str)"
   ]
  },
  {
   "cell_type": "code",
   "execution_count": 102,
   "metadata": {
    "collapsed": false
   },
   "outputs": [
    {
     "name": "stdout",
     "output_type": "stream",
     "text": [
      "Index(['N', 'S'], dtype='object')\n",
      "N    45512\n",
      "S    26976\n",
      "Name: FAMI_MICROONDAS, dtype: int64\n",
      "Elementos null/NaN 1640\n",
      "__________________\n",
      "Elementos diferentes de null/NaN: 72488\n",
      "__________________\n",
      "(72488,)\n",
      "None\n"
     ]
    }
   ],
   "source": [
    "c = 'FAMI_MICROONDAS'\n",
    "print(data_2016[c].value_counts().sort_index().index)\n",
    "print(data_2016[c].value_counts().sort_index())\n",
    "print(missing_data(data_2016[c]))"
   ]
  },
  {
   "cell_type": "code",
   "execution_count": 103,
   "metadata": {
    "collapsed": false,
    "scrolled": true
   },
   "outputs": [
    {
     "name": "stdout",
     "output_type": "stream",
     "text": [
      "cant null antes: 1640\n",
      "cant null despues: 0\n"
     ]
    }
   ],
   "source": [
    "Do_resamples(data_2016, c, str)"
   ]
  },
  {
   "cell_type": "code",
   "execution_count": 104,
   "metadata": {
    "collapsed": false
   },
   "outputs": [
    {
     "name": "stdout",
     "output_type": "stream",
     "text": [
      "Index(['N', 'S'], dtype='object')\n",
      "N    49700\n",
      "S    22788\n",
      "Name: FAMI_AUTOMOVIL, dtype: int64\n",
      "Elementos null/NaN 1640\n",
      "__________________\n",
      "Elementos diferentes de null/NaN: 72488\n",
      "__________________\n",
      "(72488,)\n",
      "None\n"
     ]
    }
   ],
   "source": [
    "c = 'FAMI_AUTOMOVIL'\n",
    "print(data_2016[c].value_counts().sort_index().index)\n",
    "print(data_2016[c].value_counts().sort_index())\n",
    "print(missing_data(data_2016[c]))"
   ]
  },
  {
   "cell_type": "code",
   "execution_count": 105,
   "metadata": {
    "collapsed": false,
    "scrolled": true
   },
   "outputs": [
    {
     "name": "stdout",
     "output_type": "stream",
     "text": [
      "cant null antes: 1640\n",
      "cant null despues: 0\n"
     ]
    }
   ],
   "source": [
    "Do_resamples(data_2016, c, str)"
   ]
  },
  {
   "cell_type": "code",
   "execution_count": 106,
   "metadata": {
    "collapsed": false
   },
   "outputs": [
    {
     "name": "stdout",
     "output_type": "stream",
     "text": [
      "Index(['N', 'S'], dtype='object')\n",
      "N    38930\n",
      "S    33558\n",
      "Name: FAMI_HORNO, dtype: int64\n",
      "Elementos null/NaN 1640\n",
      "__________________\n",
      "Elementos diferentes de null/NaN: 72488\n",
      "__________________\n",
      "(72488,)\n",
      "None\n"
     ]
    }
   ],
   "source": [
    "c = 'FAMI_HORNO'\n",
    "print(data_2016[c].value_counts().sort_index().index)\n",
    "print(data_2016[c].value_counts().sort_index())\n",
    "print(missing_data(data_2016[c]))"
   ]
  },
  {
   "cell_type": "code",
   "execution_count": 107,
   "metadata": {
    "collapsed": false,
    "scrolled": true
   },
   "outputs": [
    {
     "name": "stdout",
     "output_type": "stream",
     "text": [
      "cant null antes: 1640\n",
      "cant null despues: 0\n"
     ]
    }
   ],
   "source": [
    "Do_resamples(data_2016, c, str)"
   ]
  },
  {
   "cell_type": "code",
   "execution_count": 108,
   "metadata": {
    "collapsed": false
   },
   "outputs": [
    {
     "name": "stdout",
     "output_type": "stream",
     "text": [
      "Float64Index([1.0, 2.0, 3.0, 4.0, 5.0, 6.0, 7.0], dtype='float64')\n",
      "1    10145\n",
      "2    30754\n",
      "3    14269\n",
      "4     7406\n",
      "5     2907\n",
      "6     2230\n",
      "7     4777\n",
      "Name: FAMI_INGRESO_FMILIAR_MENSUAL, dtype: int64\n",
      "Elementos null/NaN 1640\n",
      "__________________\n",
      "Elementos diferentes de null/NaN: 72488\n",
      "__________________\n",
      "(72488,)\n",
      "None\n"
     ]
    }
   ],
   "source": [
    "c = 'FAMI_INGRESO_FMILIAR_MENSUAL'\n",
    "print(data_2016[c].value_counts().sort_index().index)\n",
    "print(data_2016[c].value_counts().sort_index())\n",
    "print(missing_data(data_2016[c]))"
   ]
  },
  {
   "cell_type": "code",
   "execution_count": 109,
   "metadata": {
    "collapsed": false,
    "scrolled": true
   },
   "outputs": [
    {
     "name": "stdout",
     "output_type": "stream",
     "text": [
      "cant null antes: 1640\n",
      "cant null despues: 0\n"
     ]
    }
   ],
   "source": [
    "Do_resamples(data_2016, c, float)"
   ]
  },
  {
   "cell_type": "code",
   "execution_count": 110,
   "metadata": {
    "collapsed": false
   },
   "outputs": [
    {
     "name": "stdout",
     "output_type": "stream",
     "text": [
      "Float64Index([1.0, 2.0, 3.0], dtype='float64')\n",
      "1    15893\n",
      "2      542\n",
      "3      732\n",
      "Name: ESTU_TRABAJA, dtype: int64\n",
      "Elementos null/NaN 56961\n",
      "__________________\n",
      "Elementos diferentes de null/NaN: 17167\n",
      "__________________\n",
      "(17167,)\n",
      "None\n"
     ]
    }
   ],
   "source": [
    "c = 'ESTU_TRABAJA'\n",
    "print(data_2016[c].value_counts().sort_index().index)\n",
    "print(data_2016[c].value_counts().sort_index())\n",
    "print(missing_data(data_2016[c]))"
   ]
  },
  {
   "cell_type": "code",
   "execution_count": 111,
   "metadata": {
    "collapsed": false,
    "scrolled": true
   },
   "outputs": [
    {
     "name": "stdout",
     "output_type": "stream",
     "text": [
      "cant null antes: 56961\n",
      "cant null despues: 0\n"
     ]
    }
   ],
   "source": [
    "Do_resamples(data_2016, c, float)"
   ]
  },
  {
   "cell_type": "code",
   "execution_count": 112,
   "metadata": {
    "collapsed": false
   },
   "outputs": [
    {
     "name": "stdout",
     "output_type": "stream",
     "text": [
      "Index(['N', 'S'], dtype='object')\n",
      "N      51\n",
      "S    1205\n",
      "Name: ESTU_RECIBE_SALARIO, dtype: int64\n",
      "Elementos null/NaN 72872\n",
      "__________________\n",
      "Elementos diferentes de null/NaN: 1256\n",
      "__________________\n",
      "(1256,)\n",
      "None\n"
     ]
    }
   ],
   "source": [
    "c = 'ESTU_RECIBE_SALARIO'\n",
    "print(data_2016[c].value_counts().sort_index().index)\n",
    "print(data_2016[c].value_counts().sort_index())\n",
    "print(missing_data(data_2016[c]))"
   ]
  },
  {
   "cell_type": "code",
   "execution_count": 113,
   "metadata": {
    "collapsed": false,
    "scrolled": true
   },
   "outputs": [
    {
     "name": "stdout",
     "output_type": "stream",
     "text": [
      "cant null antes: 72872\n",
      "cant null despues: 0\n"
     ]
    }
   ],
   "source": [
    "Do_resamples(data_2016, c, str)"
   ]
  },
  {
   "cell_type": "code",
   "execution_count": 114,
   "metadata": {
    "collapsed": false
   },
   "outputs": [
    {
     "name": "stdout",
     "output_type": "stream",
     "text": [
      "Float64Index([1.0, 2.0, 3.0, 4.0], dtype='float64')\n",
      "1    22283\n",
      "2    24760\n",
      "3     5301\n",
      "4     2684\n",
      "Name: ESTU_VECES_ESTADO_ESTUDIANTIL, dtype: int64\n",
      "Elementos null/NaN 19100\n",
      "__________________\n",
      "Elementos diferentes de null/NaN: 55028\n",
      "__________________\n",
      "(55028,)\n",
      "None\n"
     ]
    }
   ],
   "source": [
    "c = 'ESTU_VECES_ESTADO_ESTUDIANTIL'\n",
    "print(data_2016[c].value_counts().sort_index().index)\n",
    "print(data_2016[c].value_counts().sort_index())\n",
    "print(missing_data(data_2016[c]))"
   ]
  },
  {
   "cell_type": "code",
   "execution_count": 115,
   "metadata": {
    "collapsed": false,
    "scrolled": true
   },
   "outputs": [
    {
     "name": "stdout",
     "output_type": "stream",
     "text": [
      "cant null antes: 19100\n",
      "cant null despues: 0\n"
     ]
    }
   ],
   "source": [
    "Do_resamples(data_2016, c, float)"
   ]
  },
  {
   "cell_type": "markdown",
   "metadata": {},
   "source": [
    "# TARGETS"
   ]
  },
  {
   "cell_type": "code",
   "execution_count": 116,
   "metadata": {
    "collapsed": false,
    "scrolled": true
   },
   "outputs": [
    {
     "name": "stdout",
     "output_type": "stream",
     "text": [
      "Int64Index([  0,  10,  18,  19,  23,  24,  25,  27,  28,  29,  30,  31,  32,\n",
      "             33,  34,  35,  36,  37,  38,  39,  40,  41,  42,  43,  44,  45,\n",
      "             46,  47,  48,  49,  50,  51,  52,  53,  54,  55,  56,  57,  58,\n",
      "             59,  60,  61,  62,  63,  64,  65,  66,  67,  68,  69,  70,  71,\n",
      "             72,  73,  74,  76,  77,  79,  80,  81,  83,  85,  88,  90,  93,\n",
      "             96,  97, 100],\n",
      "           dtype='int64')\n",
      "0        61\n",
      "10       12\n",
      "18        2\n",
      "19       14\n",
      "23       36\n",
      "24        2\n",
      "25        1\n",
      "27       73\n",
      "28        5\n",
      "29       10\n",
      "30      169\n",
      "31        4\n",
      "32       28\n",
      "33      354\n",
      "34       32\n",
      "35      585\n",
      "36       57\n",
      "37      951\n",
      "38       90\n",
      "39     1416\n",
      "40      180\n",
      "41     1938\n",
      "42     2618\n",
      "43      102\n",
      "44     2961\n",
      "45     3289\n",
      "46      129\n",
      "47     3682\n",
      "48     3598\n",
      "49     3579\n",
      "       ... \n",
      "58     3129\n",
      "59     3117\n",
      "60     2871\n",
      "61      770\n",
      "62     2076\n",
      "63     2638\n",
      "64     2347\n",
      "65        1\n",
      "66     2061\n",
      "67      333\n",
      "68     1378\n",
      "69     1119\n",
      "70      272\n",
      "71      330\n",
      "72      720\n",
      "73       95\n",
      "74      728\n",
      "76      243\n",
      "77      263\n",
      "79      170\n",
      "80      115\n",
      "81       20\n",
      "83       82\n",
      "85       89\n",
      "88       42\n",
      "90        5\n",
      "93       14\n",
      "96       14\n",
      "97        6\n",
      "100       8\n",
      "Name: PUNT_LECTURA_CRITICA, dtype: int64\n",
      "Elementos null/NaN 0\n",
      "__________________\n",
      "Elementos diferentes de null/NaN: 74128\n",
      "__________________\n",
      "(74128,)\n",
      "None\n"
     ]
    }
   ],
   "source": [
    "c = 'PUNT_LECTURA_CRITICA'\n",
    "print(data_2016[c].value_counts().sort_index().index)\n",
    "print(data_2016[c].value_counts().sort_index())\n",
    "print(missing_data(data_2016[c]))"
   ]
  },
  {
   "cell_type": "code",
   "execution_count": 117,
   "metadata": {
    "collapsed": false,
    "scrolled": true
   },
   "outputs": [
    {
     "name": "stdout",
     "output_type": "stream",
     "text": [
      "Int64Index([  0,   3,   5,   9,  10,  12,  14,  15,  17,  18,  19,  20,  21,\n",
      "             22,  23,  24,  25,  26,  27,  28,  29,  30,  31,  32,  33,  34,\n",
      "             35,  36,  37,  38,  39,  40,  41,  42,  43,  44,  45,  46,  47,\n",
      "             48,  49,  50,  51,  52,  53,  54,  55,  56,  57,  58,  59,  60,\n",
      "             61,  62,  63,  64,  65,  66,  67,  68,  69,  70,  71,  72,  73,\n",
      "             74,  75,  76,  77,  78,  79,  80,  81,  82,  83,  84,  85,  86,\n",
      "             87,  88,  89,  91,  92,  93,  94,  95,  97,  98, 100],\n",
      "           dtype='int64')\n",
      "0        27\n",
      "3         1\n",
      "5         9\n",
      "9         1\n",
      "10        1\n",
      "12       13\n",
      "14        4\n",
      "15        2\n",
      "17       45\n",
      "18        7\n",
      "19        8\n",
      "20        6\n",
      "21      101\n",
      "22       11\n",
      "23       12\n",
      "24      232\n",
      "25       24\n",
      "26       16\n",
      "27      427\n",
      "28       70\n",
      "29       34\n",
      "30      847\n",
      "31       76\n",
      "32     1238\n",
      "33      121\n",
      "34      156\n",
      "35     1680\n",
      "36      202\n",
      "37     2261\n",
      "38      184\n",
      "       ... \n",
      "68     1418\n",
      "69      411\n",
      "70     1035\n",
      "71     1201\n",
      "72      208\n",
      "73     1096\n",
      "74      972\n",
      "75      191\n",
      "76     1015\n",
      "77       96\n",
      "78      883\n",
      "79      192\n",
      "80      776\n",
      "81      202\n",
      "82      710\n",
      "83      180\n",
      "84      603\n",
      "85        1\n",
      "86      594\n",
      "87      165\n",
      "88      480\n",
      "89      242\n",
      "91      360\n",
      "92      150\n",
      "93       74\n",
      "94      331\n",
      "95      118\n",
      "97      335\n",
      "98       88\n",
      "100     821\n",
      "Name: PUNT_MATEMATICAS, dtype: int64\n",
      "Elementos null/NaN 0\n",
      "__________________\n",
      "Elementos diferentes de null/NaN: 74128\n",
      "__________________\n",
      "(74128,)\n",
      "None\n"
     ]
    }
   ],
   "source": [
    "c = 'PUNT_MATEMATICAS'\n",
    "print(data_2016[c].value_counts().sort_index().index)\n",
    "print(data_2016[c].value_counts().sort_index())\n",
    "print(missing_data(data_2016[c]))"
   ]
  },
  {
   "cell_type": "code",
   "execution_count": 118,
   "metadata": {
    "collapsed": false,
    "scrolled": true
   },
   "outputs": [
    {
     "name": "stdout",
     "output_type": "stream",
     "text": [
      "Int64Index([  0,   1,   9,  10,  13,  14,  15,  17,  18,  19,  20,  21,  22,\n",
      "             23,  24,  25,  26,  27,  28,  29,  30,  31,  32,  33,  34,  35,\n",
      "             36,  37,  38,  39,  40,  41,  42,  43,  44,  45,  46,  47,  48,\n",
      "             49,  50,  51,  52,  53,  54,  55,  56,  57,  58,  59,  60,  61,\n",
      "             62,  63,  64,  65,  66,  67,  68,  69,  70,  71,  72,  73,  74,\n",
      "             75,  76,  77,  78,  79,  80,  81,  82,  83,  84,  85,  86,  88,\n",
      "             89,  90,  92,  93,  95,  97, 100],\n",
      "           dtype='int64')\n",
      "0        30\n",
      "1         4\n",
      "9         6\n",
      "10        1\n",
      "13        1\n",
      "14       10\n",
      "15        2\n",
      "17       11\n",
      "18        2\n",
      "19        7\n",
      "20       29\n",
      "21        1\n",
      "22        2\n",
      "23       46\n",
      "24       10\n",
      "25       73\n",
      "26       24\n",
      "27      110\n",
      "28      158\n",
      "29       16\n",
      "30      190\n",
      "31       55\n",
      "32      284\n",
      "33      409\n",
      "34      504\n",
      "35       58\n",
      "36      739\n",
      "37      844\n",
      "38      979\n",
      "39     1246\n",
      "       ... \n",
      "65     1813\n",
      "66     1736\n",
      "67     1429\n",
      "68      264\n",
      "69     1585\n",
      "70     1307\n",
      "71       97\n",
      "72     1281\n",
      "73      494\n",
      "74      719\n",
      "75      448\n",
      "76      600\n",
      "77      443\n",
      "78      505\n",
      "79      398\n",
      "80       95\n",
      "81      314\n",
      "82      336\n",
      "83       88\n",
      "84      269\n",
      "85      215\n",
      "86       45\n",
      "88      220\n",
      "89      124\n",
      "90       34\n",
      "92        1\n",
      "93      132\n",
      "95       21\n",
      "97       61\n",
      "100      94\n",
      "Name: PUNT_C_NATURALES, dtype: int64\n",
      "Elementos null/NaN 0\n",
      "__________________\n",
      "Elementos diferentes de null/NaN: 74128\n",
      "__________________\n",
      "(74128,)\n",
      "None\n"
     ]
    }
   ],
   "source": [
    "c = 'PUNT_C_NATURALES'\n",
    "print(data_2016[c].value_counts().sort_index().index)\n",
    "print(data_2016[c].value_counts().sort_index())\n",
    "print(missing_data(data_2016[c]))"
   ]
  },
  {
   "cell_type": "code",
   "execution_count": 119,
   "metadata": {
    "collapsed": false,
    "scrolled": true
   },
   "outputs": [
    {
     "name": "stdout",
     "output_type": "stream",
     "text": [
      "Int64Index([  0,   4,   5,  10,  11,  13,  15,  16,  17,  18,  19,  20,  21,\n",
      "             22,  23,  24,  25,  26,  27,  28,  29,  30,  31,  32,  33,  34,\n",
      "             35,  36,  37,  38,  39,  40,  41,  42,  43,  44,  45,  46,  47,\n",
      "             48,  49,  50,  51,  52,  53,  54,  55,  56,  57,  58,  59,  60,\n",
      "             61,  62,  63,  64,  65,  66,  67,  68,  69,  70,  71,  72,  73,\n",
      "             74,  75,  76,  77,  78,  79,  80,  81,  82,  83,  84,  85,  86,\n",
      "             87,  89,  90,  93,  94,  95,  96, 100],\n",
      "           dtype='int64')\n",
      "0        33\n",
      "4         7\n",
      "5         2\n",
      "10       11\n",
      "11        2\n",
      "13        1\n",
      "15       35\n",
      "16        1\n",
      "17        4\n",
      "18       55\n",
      "19        5\n",
      "20        5\n",
      "21      109\n",
      "22       17\n",
      "23       16\n",
      "24      135\n",
      "25       42\n",
      "26      236\n",
      "27       61\n",
      "28      414\n",
      "29       94\n",
      "30      593\n",
      "31      133\n",
      "32      764\n",
      "33      144\n",
      "34      972\n",
      "35      203\n",
      "36     1234\n",
      "37     1465\n",
      "38      260\n",
      "       ... \n",
      "65     2619\n",
      "66      482\n",
      "67     2054\n",
      "68      835\n",
      "69     1819\n",
      "70      692\n",
      "71     1538\n",
      "72      630\n",
      "73     1224\n",
      "74      590\n",
      "75      848\n",
      "76      690\n",
      "77      596\n",
      "78      217\n",
      "79      337\n",
      "80      417\n",
      "81      285\n",
      "82      170\n",
      "83      238\n",
      "84      140\n",
      "85      125\n",
      "86       48\n",
      "87      125\n",
      "89      130\n",
      "90       59\n",
      "93       77\n",
      "94       43\n",
      "95       17\n",
      "96       30\n",
      "100      60\n",
      "Name: PUNT_SOCIALES_CIUDADANAS, dtype: int64\n",
      "Elementos null/NaN 0\n",
      "__________________\n",
      "Elementos diferentes de null/NaN: 74128\n",
      "__________________\n",
      "(74128,)\n",
      "None\n"
     ]
    }
   ],
   "source": [
    "c = 'PUNT_SOCIALES_CIUDADANAS'\n",
    "print(data_2016[c].value_counts().sort_index().index)\n",
    "print(data_2016[c].value_counts().sort_index())\n",
    "print(missing_data(data_2016[c]))"
   ]
  },
  {
   "cell_type": "code",
   "execution_count": 120,
   "metadata": {
    "collapsed": false,
    "scrolled": true
   },
   "outputs": [
    {
     "name": "stdout",
     "output_type": "stream",
     "text": [
      "Int64Index([  0,   7,  15,  22,  27,  31,  34,  37,  39,  40,  42,  44,  46,\n",
      "             49,  51,  52,  53,  55,  56,  58,  59,  60,  61,  62,  64,  65,\n",
      "             66,  67,  68,  70,  71,  73,  74,  76,  77,  79,  80,  82,  85,\n",
      "             87,  90,  92,  95,  97, 100],\n",
      "           dtype='int64')\n",
      "0         85\n",
      "7         17\n",
      "15        24\n",
      "22        24\n",
      "27        34\n",
      "31        97\n",
      "34       244\n",
      "37       511\n",
      "39       984\n",
      "40      1690\n",
      "42      2556\n",
      "44      3595\n",
      "46      4471\n",
      "49     10624\n",
      "51      5489\n",
      "52      5102\n",
      "53      4208\n",
      "55      3730\n",
      "56      3048\n",
      "58      2492\n",
      "59      2015\n",
      "60      1718\n",
      "61      1465\n",
      "62      1246\n",
      "64      1112\n",
      "65       981\n",
      "66       955\n",
      "67       924\n",
      "68       919\n",
      "70       794\n",
      "71       833\n",
      "73       798\n",
      "74       824\n",
      "76       848\n",
      "77       843\n",
      "79       804\n",
      "80       952\n",
      "82       928\n",
      "85       957\n",
      "87      1043\n",
      "90      1144\n",
      "92      1082\n",
      "95      1002\n",
      "97       645\n",
      "100      271\n",
      "Name: PUNT_INGLES, dtype: int64\n",
      "Elementos null/NaN 0\n",
      "__________________\n",
      "Elementos diferentes de null/NaN: 74128\n",
      "__________________\n",
      "(74128,)\n",
      "None\n"
     ]
    }
   ],
   "source": [
    "c = 'PUNT_INGLES'\n",
    "print(data_2016[c].value_counts().sort_index().index)\n",
    "print(data_2016[c].value_counts().sort_index())\n",
    "print(missing_data(data_2016[c]))"
   ]
  },
  {
   "cell_type": "code",
   "execution_count": 121,
   "metadata": {
    "collapsed": false,
    "scrolled": true
   },
   "outputs": [
    {
     "name": "stdout",
     "output_type": "stream",
     "text": [
      "Index(['A-', 'A1', 'A2', 'B+', 'B1'], dtype='object')\n",
      "A-    19444\n",
      "A1    29581\n",
      "A2    11335\n",
      "B+     6144\n",
      "B1     7624\n",
      "Name: DESEMP_INGLES, dtype: int64\n",
      "Elementos null/NaN 0\n",
      "__________________\n",
      "Elementos diferentes de null/NaN: 74128\n",
      "__________________\n",
      "(74128,)\n",
      "None\n"
     ]
    }
   ],
   "source": [
    "c = 'DESEMP_INGLES'\n",
    "print(data_2016[c].value_counts().sort_index().index)\n",
    "print(data_2016[c].value_counts().sort_index())\n",
    "print(missing_data(data_2016[c]))"
   ]
  },
  {
   "cell_type": "markdown",
   "metadata": {},
   "source": [
    "___"
   ]
  },
  {
   "cell_type": "markdown",
   "metadata": {},
   "source": [
    "___"
   ]
  },
  {
   "cell_type": "markdown",
   "metadata": {},
   "source": [
    "___"
   ]
  },
  {
   "cell_type": "markdown",
   "metadata": {},
   "source": [
    "___"
   ]
  },
  {
   "cell_type": "markdown",
   "metadata": {},
   "source": [
    "___"
   ]
  },
  {
   "cell_type": "markdown",
   "metadata": {},
   "source": [
    "# YEAR 2016, Semester 1, V3"
   ]
  },
  {
   "cell_type": "code",
   "execution_count": 122,
   "metadata": {
    "collapsed": false
   },
   "outputs": [
    {
     "name": "stderr",
     "output_type": "stream",
     "text": [
      "/usr/local/lib/python3.4/dist-packages/IPython/core/interactiveshell.py:2902: DtypeWarning: Columns (11,12,13,14) have mixed types. Specify dtype option on import or set low_memory=False.\n",
      "  interactivity=interactivity, compiler=compiler, result=result)\n"
     ]
    }
   ],
   "source": [
    "data_2016_1_V2 = pd.read_csv('../DatosFTPICFES/SABER11/SB11-BASES_DE_DATOS/SB11-20161-RGSTRO-CLFCCN-V3-0.txt', delimiter = '|')"
   ]
  },
  {
   "cell_type": "code",
   "execution_count": 123,
   "metadata": {
    "collapsed": false
   },
   "outputs": [
    {
     "data": {
      "text/plain": [
       "(74127, 83)"
      ]
     },
     "execution_count": 123,
     "metadata": {},
     "output_type": "execute_result"
    }
   ],
   "source": [
    "data_2016_1_V2.shape"
   ]
  },
  {
   "cell_type": "code",
   "execution_count": 124,
   "metadata": {
    "collapsed": false
   },
   "outputs": [
    {
     "name": "stdout",
     "output_type": "stream",
     "text": [
      "Int64Index([20161], dtype='int64')\n",
      "20161    74127\n",
      "Name: PERIODO, dtype: int64\n",
      "Elementos null/NaN 0\n",
      "__________________\n",
      "Elementos diferentes de null/NaN: 74127\n",
      "__________________\n",
      "(74127,)\n",
      "None\n"
     ]
    }
   ],
   "source": [
    "c = 'PERIODO'\n",
    "print(data_2016_1_V2[c].value_counts().sort_index().index)\n",
    "print(data_2016_1_V2[c].value_counts().sort_index())\n",
    "print(missing_data(data_2016_1_V2[c]))"
   ]
  },
  {
   "cell_type": "code",
   "execution_count": 125,
   "metadata": {
    "collapsed": true
   },
   "outputs": [],
   "source": [
    "data_2016_1_V2 = data_2016_1_V2.drop(c, axis=1)"
   ]
  },
  {
   "cell_type": "code",
   "execution_count": 126,
   "metadata": {
    "collapsed": false,
    "scrolled": true
   },
   "outputs": [
    {
     "name": "stdout",
     "output_type": "stream",
     "text": [
      "Index(['SABER1120161000001', 'SABER1120161000002', 'SABER1120161000003',\n",
      "       'SABER1120161000004', 'SABER1120161000005', 'SABER1120161000006',\n",
      "       'SABER1120161000007', 'SABER1120161000008', 'SABER1120161000009',\n",
      "       'SABER1120161000010',\n",
      "       ...\n",
      "       'SABER1120161074118', 'SABER1120161074119', 'SABER1120161074120',\n",
      "       'SABER1120161074121', 'SABER1120161074122', 'SABER1120161074123',\n",
      "       'SABER1120161074124', 'SABER1120161074125', 'SABER1120161074126',\n",
      "       'SABER1120161074127'],\n",
      "      dtype='object', length=74127)\n",
      "SABER1120161000001    1\n",
      "SABER1120161000002    1\n",
      "SABER1120161000003    1\n",
      "SABER1120161000004    1\n",
      "SABER1120161000005    1\n",
      "SABER1120161000006    1\n",
      "SABER1120161000007    1\n",
      "SABER1120161000008    1\n",
      "SABER1120161000009    1\n",
      "SABER1120161000010    1\n",
      "SABER1120161000011    1\n",
      "SABER1120161000012    1\n",
      "SABER1120161000013    1\n",
      "SABER1120161000014    1\n",
      "SABER1120161000015    1\n",
      "SABER1120161000016    1\n",
      "SABER1120161000017    1\n",
      "SABER1120161000018    1\n",
      "SABER1120161000019    1\n",
      "SABER1120161000020    1\n",
      "SABER1120161000021    1\n",
      "SABER1120161000022    1\n",
      "SABER1120161000023    1\n",
      "SABER1120161000024    1\n",
      "SABER1120161000025    1\n",
      "SABER1120161000026    1\n",
      "SABER1120161000027    1\n",
      "SABER1120161000028    1\n",
      "SABER1120161000029    1\n",
      "SABER1120161000030    1\n",
      "                     ..\n",
      "SABER1120161074098    1\n",
      "SABER1120161074099    1\n",
      "SABER1120161074100    1\n",
      "SABER1120161074101    1\n",
      "SABER1120161074102    1\n",
      "SABER1120161074103    1\n",
      "SABER1120161074104    1\n",
      "SABER1120161074105    1\n",
      "SABER1120161074106    1\n",
      "SABER1120161074107    1\n",
      "SABER1120161074108    1\n",
      "SABER1120161074109    1\n",
      "SABER1120161074110    1\n",
      "SABER1120161074111    1\n",
      "SABER1120161074112    1\n",
      "SABER1120161074113    1\n",
      "SABER1120161074114    1\n",
      "SABER1120161074115    1\n",
      "SABER1120161074116    1\n",
      "SABER1120161074117    1\n",
      "SABER1120161074118    1\n",
      "SABER1120161074119    1\n",
      "SABER1120161074120    1\n",
      "SABER1120161074121    1\n",
      "SABER1120161074122    1\n",
      "SABER1120161074123    1\n",
      "SABER1120161074124    1\n",
      "SABER1120161074125    1\n",
      "SABER1120161074126    1\n",
      "SABER1120161074127    1\n",
      "Name: ESTU_CONSECUTIVO, dtype: int64\n",
      "Elementos null/NaN 0\n",
      "__________________\n",
      "Elementos diferentes de null/NaN: 74127\n",
      "__________________\n",
      "(74127,)\n",
      "None\n"
     ]
    }
   ],
   "source": [
    "c = 'ESTU_CONSECUTIVO'\n",
    "print(data_2016_1_V2[c].value_counts().sort_index().index)\n",
    "print(data_2016_1_V2[c].value_counts().sort_index())\n",
    "print(missing_data(data_2016_1_V2[c]))"
   ]
  },
  {
   "cell_type": "code",
   "execution_count": 127,
   "metadata": {
    "collapsed": true
   },
   "outputs": [],
   "source": [
    "data_2016_1_V2 = data_2016_1_V2.drop(c, axis=1)"
   ]
  },
  {
   "cell_type": "code",
   "execution_count": 128,
   "metadata": {
    "collapsed": false
   },
   "outputs": [
    {
     "name": "stdout",
     "output_type": "stream",
     "text": [
      "Index(['ESTUDIANTE', 'INDIVIDUAL'], dtype='object')\n",
      "ESTUDIANTE    18654\n",
      "INDIVIDUAL    55473\n",
      "Name: ESTU_ESTUDIANTE, dtype: int64\n",
      "Elementos null/NaN 0\n",
      "__________________\n",
      "Elementos diferentes de null/NaN: 74127\n",
      "__________________\n",
      "(74127,)\n",
      "None\n"
     ]
    }
   ],
   "source": [
    "c = 'ESTU_ESTUDIANTE'\n",
    "print(data_2016_1_V2[c].value_counts().sort_index().index)\n",
    "print(data_2016_1_V2[c].value_counts().sort_index())\n",
    "print(missing_data(data_2016_1_V2[c]))"
   ]
  },
  {
   "cell_type": "code",
   "execution_count": 129,
   "metadata": {
    "collapsed": false,
    "scrolled": true
   },
   "outputs": [
    {
     "name": "stdout",
     "output_type": "stream",
     "text": [
      "Float64Index([ 0.0,  1.0,  2.0,  3.0,  5.0,  6.0,  7.0,  8.0,  9.0, 10.0, 11.0,\n",
      "              12.0, 13.0, 14.0, 15.0, 16.0, 17.0, 18.0, 19.0, 20.0, 21.0, 22.0,\n",
      "              23.0, 24.0, 25.0, 26.0, 27.0, 28.0, 29.0, 30.0, 31.0, 32.0, 33.0,\n",
      "              34.0, 35.0, 36.0, 37.0, 38.0, 39.0, 40.0, 41.0, 42.0, 43.0, 44.0,\n",
      "              45.0, 46.0, 47.0, 48.0, 49.0, 50.0, 51.0, 52.0, 53.0, 54.0, 55.0,\n",
      "              56.0, 57.0, 58.0, 59.0, 60.0, 61.0, 62.0, 63.0, 64.0, 65.0, 66.0,\n",
      "              67.0, 68.0, 70.0, 71.0, 73.0],\n",
      "             dtype='float64')\n",
      "0       162\n",
      "1        23\n",
      "2         3\n",
      "3         5\n",
      "5         1\n",
      "6         5\n",
      "7         6\n",
      "8         5\n",
      "9         2\n",
      "10        4\n",
      "11        2\n",
      "12        1\n",
      "13        3\n",
      "14       35\n",
      "15      845\n",
      "16     9284\n",
      "17    17496\n",
      "18    12025\n",
      "19     6754\n",
      "20     4715\n",
      "21     3647\n",
      "22     2823\n",
      "23     2236\n",
      "24     1819\n",
      "25     1452\n",
      "26     1247\n",
      "27     1037\n",
      "28      865\n",
      "29      795\n",
      "30      741\n",
      "      ...  \n",
      "42      185\n",
      "43      159\n",
      "44      128\n",
      "45      150\n",
      "46      132\n",
      "47      108\n",
      "48      118\n",
      "49       86\n",
      "50       77\n",
      "51       79\n",
      "52       74\n",
      "53       53\n",
      "54       44\n",
      "55       34\n",
      "56       35\n",
      "57       31\n",
      "58       26\n",
      "59       16\n",
      "60       14\n",
      "61       10\n",
      "62       10\n",
      "63        5\n",
      "64        5\n",
      "65        3\n",
      "66        4\n",
      "67        6\n",
      "68        1\n",
      "70        2\n",
      "71        1\n",
      "73        1\n",
      "Name: ESTU_EDAD, dtype: int64\n",
      "Elementos null/NaN 3\n",
      "__________________\n",
      "Elementos diferentes de null/NaN: 74124\n",
      "__________________\n",
      "(74124,)\n",
      "None\n"
     ]
    }
   ],
   "source": [
    "c = 'ESTU_EDAD'\n",
    "print(data_2016_1_V2[c].value_counts().sort_index().index)\n",
    "print(data_2016_1_V2[c].value_counts().sort_index())\n",
    "print(missing_data(data_2016_1_V2[c]))"
   ]
  },
  {
   "cell_type": "code",
   "execution_count": 130,
   "metadata": {
    "collapsed": false
   },
   "outputs": [
    {
     "name": "stdout",
     "output_type": "stream",
     "text": [
      "cant null antes: 213\n",
      "cant null despues: 0\n"
     ]
    }
   ],
   "source": [
    "for i in data_2016_1_V2[c].value_counts().sort_index().index:\n",
    "    if i < 9:\n",
    "        data_2016_1_V2[c] = data_2016_1_V2[c].replace(i, np.nan)\n",
    "        \n",
    "Do_resamples(data_2016_1_V2, c, float)"
   ]
  },
  {
   "cell_type": "code",
   "execution_count": 131,
   "metadata": {
    "collapsed": false
   },
   "outputs": [
    {
     "name": "stdout",
     "output_type": "stream",
     "text": [
      "Index(['CC', 'CE', 'CR', 'PC', 'PE', 'TI'], dtype='object')\n",
      "CC    42227\n",
      "CE      213\n",
      "CR      713\n",
      "PC       27\n",
      "PE       91\n",
      "TI    30856\n",
      "Name: ESTU_TIPO_DOCUMENTO, dtype: int64\n",
      "Elementos null/NaN 0\n",
      "__________________\n",
      "Elementos diferentes de null/NaN: 74127\n",
      "__________________\n",
      "(74127,)\n",
      "None\n"
     ]
    }
   ],
   "source": [
    "c = 'ESTU_TIPO_DOCUMENTO'\n",
    "print(data_2016_1_V2[c].value_counts().sort_index().index)\n",
    "print(data_2016_1_V2[c].value_counts().sort_index())\n",
    "print(missing_data(data_2016_1_V2[c]))"
   ]
  },
  {
   "cell_type": "code",
   "execution_count": 132,
   "metadata": {
    "collapsed": false,
    "scrolled": true
   },
   "outputs": [
    {
     "name": "stdout",
     "output_type": "stream",
     "text": [
      "Int64Index([  1,   5,  12,  17,  28,  33,  41,  46,  50,  52,  54,  56,  57,\n",
      "             64,  65,  67,  76,  83,  91,  99, 105, 109, 110, 112, 118, 119,\n",
      "            124, 129, 144, 152, 157, 160, 166, 171, 173, 174, 178, 209, 215,\n",
      "            216, 227, 228, 236, 238, 241, 242],\n",
      "           dtype='int64')\n",
      "1      73794\n",
      "5          1\n",
      "12        17\n",
      "17         1\n",
      "28         8\n",
      "33        11\n",
      "41         3\n",
      "46         7\n",
      "50         8\n",
      "52         1\n",
      "54         3\n",
      "56         1\n",
      "57         2\n",
      "64         1\n",
      "65        28\n",
      "67         2\n",
      "76         8\n",
      "83         7\n",
      "91         1\n",
      "99         1\n",
      "105        1\n",
      "109        1\n",
      "110        1\n",
      "112        2\n",
      "118        1\n",
      "119        2\n",
      "124        1\n",
      "129        1\n",
      "144       11\n",
      "152        1\n",
      "157        2\n",
      "160        1\n",
      "166        1\n",
      "171        4\n",
      "173        1\n",
      "174       23\n",
      "178        1\n",
      "209       15\n",
      "215        1\n",
      "216        2\n",
      "227        1\n",
      "228        1\n",
      "236       30\n",
      "238        2\n",
      "241      112\n",
      "242        3\n",
      "Name: ESTU_PAIS_RESIDE, dtype: int64\n",
      "Elementos null/NaN 0\n",
      "__________________\n",
      "Elementos diferentes de null/NaN: 74127\n",
      "__________________\n",
      "(74127,)\n",
      "None\n"
     ]
    }
   ],
   "source": [
    "c = 'ESTU_PAIS_RESIDE'\n",
    "print(data_2016_1_V2[c].value_counts().sort_index().index)\n",
    "print(data_2016_1_V2[c].value_counts().sort_index())\n",
    "print(missing_data(data_2016_1_V2[c]))"
   ]
  },
  {
   "cell_type": "code",
   "execution_count": 133,
   "metadata": {
    "collapsed": false
   },
   "outputs": [
    {
     "name": "stdout",
     "output_type": "stream",
     "text": [
      "Index(['F', 'M'], dtype='object')\n",
      "F    37687\n",
      "M    36158\n",
      "Name: ESTU_GENERO, dtype: int64\n",
      "Elementos null/NaN 282\n",
      "__________________\n",
      "Elementos diferentes de null/NaN: 73845\n",
      "__________________\n",
      "(73845,)\n",
      "None\n"
     ]
    }
   ],
   "source": [
    "c = 'ESTU_GENERO'\n",
    "print(data_2016_1_V2[c].value_counts().sort_index().index)\n",
    "print(data_2016_1_V2[c].value_counts().sort_index())\n",
    "print(missing_data(data_2016_1_V2[c]))"
   ]
  },
  {
   "cell_type": "code",
   "execution_count": 134,
   "metadata": {
    "collapsed": false
   },
   "outputs": [
    {
     "name": "stdout",
     "output_type": "stream",
     "text": [
      "cant null antes: 282\n",
      "cant null despues: 0\n"
     ]
    }
   ],
   "source": [
    "Do_resamples(data_2016_1_V2, c, str)"
   ]
  },
  {
   "cell_type": "code",
   "execution_count": 135,
   "metadata": {
    "collapsed": false,
    "scrolled": true
   },
   "outputs": [
    {
     "name": "stdout",
     "output_type": "stream",
     "text": [
      "Index(['01/01/1962', '01/01/1966', '01/01/1970', '01/01/1974', '01/01/1976',\n",
      "       '01/01/1977', '01/01/1978', '01/01/1980', '01/01/1981', '01/01/1982',\n",
      "       ...\n",
      "       '31/12/1991', '31/12/1992', '31/12/1993', '31/12/1994', '31/12/1995',\n",
      "       '31/12/1996', '31/12/1997', '31/12/1998', '31/12/1999', '31/12/2000'],\n",
      "      dtype='object', length=9728)\n",
      "01/01/1962      1\n",
      "01/01/1966      1\n",
      "01/01/1970      1\n",
      "01/01/1974      1\n",
      "01/01/1976      1\n",
      "01/01/1977      1\n",
      "01/01/1978      1\n",
      "01/01/1980      3\n",
      "01/01/1981      1\n",
      "01/01/1982      2\n",
      "01/01/1983      2\n",
      "01/01/1984      6\n",
      "01/01/1985      5\n",
      "01/01/1986      3\n",
      "01/01/1987      3\n",
      "01/01/1988      1\n",
      "01/01/1989      4\n",
      "01/01/1990      4\n",
      "01/01/1991      5\n",
      "01/01/1992      5\n",
      "01/01/1993      6\n",
      "01/01/1994      6\n",
      "01/01/1995     16\n",
      "01/01/1996     16\n",
      "01/01/1997     18\n",
      "01/01/1998     32\n",
      "01/01/1999    544\n",
      "01/01/2000     26\n",
      "01/01/2016      1\n",
      "01/02/1959      1\n",
      "             ... \n",
      "31/10/1997     38\n",
      "31/10/1998     43\n",
      "31/10/1999     12\n",
      "31/10/2000      1\n",
      "31/10/2016      1\n",
      "31/12/1966      1\n",
      "31/12/1969      1\n",
      "31/12/1971      1\n",
      "31/12/1972      2\n",
      "31/12/1974      3\n",
      "31/12/1976      2\n",
      "31/12/1978      1\n",
      "31/12/1979      4\n",
      "31/12/1980      1\n",
      "31/12/1983      1\n",
      "31/12/1984      2\n",
      "31/12/1986      3\n",
      "31/12/1987      1\n",
      "31/12/1988      2\n",
      "31/12/1989      4\n",
      "31/12/1991      4\n",
      "31/12/1992      8\n",
      "31/12/1993      7\n",
      "31/12/1994      8\n",
      "31/12/1995     10\n",
      "31/12/1996     20\n",
      "31/12/1997     28\n",
      "31/12/1998     36\n",
      "31/12/1999     14\n",
      "31/12/2000      1\n",
      "Name: ESTU_FECHA_NACIMIENTO, dtype: int64\n",
      "Elementos null/NaN 0\n",
      "__________________\n",
      "Elementos diferentes de null/NaN: 74127\n",
      "__________________\n",
      "(74127,)\n",
      "None\n"
     ]
    }
   ],
   "source": [
    "c = 'ESTU_FECHA_NACIMIENTO'\n",
    "print(data_2016_1_V2[c].value_counts().sort_index().index)\n",
    "print(data_2016_1_V2[c].value_counts().sort_index())\n",
    "print(missing_data(data_2016_1_V2[c]))"
   ]
  },
  {
   "cell_type": "code",
   "execution_count": 136,
   "metadata": {
    "collapsed": true
   },
   "outputs": [],
   "source": [
    "Sep_Col = pd.DataFrame(data_2016_1_V2.ESTU_FECHA_NACIMIENTO.str.split('/').tolist(), columns=['ESTU_NACIMIENTO_DIA', \n",
    "                                                                                         'ESTU_NACIMIENTO_MES',\n",
    "                                                                                         'ESTU_NACIMIENTO_ANNO'])\n",
    "data_2016_1_V2 = pd.concat([data_2016_1_V2, Sep_Col], axis=1)\n",
    "data_2016_1_V2 = data_2016_1_V2.drop('ESTU_FECHA_NACIMIENTO', axis=1)"
   ]
  },
  {
   "cell_type": "code",
   "execution_count": 137,
   "metadata": {
    "collapsed": false,
    "scrolled": true
   },
   "outputs": [
    {
     "name": "stdout",
     "output_type": "stream",
     "text": [
      "Float64Index([  1.0,   2.0,   3.0,   4.0,   5.0,   6.0,   7.0,   8.0,   9.0,\n",
      "               10.0,  11.0,  12.0,  13.0,  14.0,  15.0,  16.0,  17.0,  18.0,\n",
      "               19.0, 100.0],\n",
      "             dtype='float64')\n",
      "1      1162\n",
      "2        40\n",
      "3         2\n",
      "4       135\n",
      "5         7\n",
      "6        79\n",
      "7        67\n",
      "8       125\n",
      "9       391\n",
      "10       11\n",
      "11       22\n",
      "12        5\n",
      "13        5\n",
      "14        5\n",
      "15        6\n",
      "16        9\n",
      "17       26\n",
      "18       83\n",
      "19      545\n",
      "100     890\n",
      "Name: ESTU_ETNIA, dtype: int64\n",
      "Elementos null/NaN 70512\n",
      "__________________\n",
      "Elementos diferentes de null/NaN: 3615\n",
      "__________________\n",
      "(3615,)\n",
      "None\n"
     ]
    }
   ],
   "source": [
    "c = 'ESTU_ETNIA'\n",
    "print(data_2016_1_V2[c].value_counts().sort_index().index)\n",
    "print(data_2016_1_V2[c].value_counts().sort_index())\n",
    "print(missing_data(data_2016_1_V2[c]))"
   ]
  },
  {
   "cell_type": "code",
   "execution_count": 138,
   "metadata": {
    "collapsed": false
   },
   "outputs": [
    {
     "name": "stdout",
     "output_type": "stream",
     "text": [
      "cant null antes: 70512\n",
      "cant null despues: 0\n"
     ]
    }
   ],
   "source": [
    "Do_resamples(data_2016_1_V2, c, float)"
   ]
  },
  {
   "cell_type": "code",
   "execution_count": 139,
   "metadata": {
    "collapsed": false
   },
   "outputs": [
    {
     "name": "stdout",
     "output_type": "stream",
     "text": [
      "Index(['MOT'], dtype='object')\n",
      "MOT    115\n",
      "Name: ESTU_LIMITA_MOTRIZ, dtype: int64\n",
      "Elementos null/NaN 74012\n",
      "__________________\n",
      "Elementos diferentes de null/NaN: 115\n",
      "__________________\n",
      "(115,)\n",
      "None\n"
     ]
    }
   ],
   "source": [
    "c = 'ESTU_LIMITA_MOTRIZ'\n",
    "print(data_2016_1_V2[c].value_counts().sort_index().index)\n",
    "print(data_2016_1_V2[c].value_counts().sort_index())\n",
    "print(missing_data(data_2016_1_V2[c]))"
   ]
  },
  {
   "cell_type": "code",
   "execution_count": 140,
   "metadata": {
    "collapsed": true
   },
   "outputs": [],
   "source": [
    "data_2016_1_V2 = data_2016_1_V2.drop(c, axis=1)"
   ]
  },
  {
   "cell_type": "code",
   "execution_count": 141,
   "metadata": {
    "collapsed": false
   },
   "outputs": [
    {
     "name": "stdout",
     "output_type": "stream",
     "text": [
      "Index(['VIS'], dtype='object')\n",
      "VIS    28\n",
      "Name: ESTU_LIMITA_INVIDENTE, dtype: int64\n",
      "Elementos null/NaN 74099\n",
      "__________________\n",
      "Elementos diferentes de null/NaN: 28\n",
      "__________________\n",
      "(28,)\n",
      "None\n"
     ]
    }
   ],
   "source": [
    "c = 'ESTU_LIMITA_INVIDENTE'\n",
    "print(data_2016_1_V2[c].value_counts().sort_index().index)\n",
    "print(data_2016_1_V2[c].value_counts().sort_index())\n",
    "print(missing_data(data_2016_1_V2[c]))"
   ]
  },
  {
   "cell_type": "code",
   "execution_count": 142,
   "metadata": {
    "collapsed": true
   },
   "outputs": [],
   "source": [
    "data_2016_1_V2 = data_2016_1_V2.drop(c, axis=1)"
   ]
  },
  {
   "cell_type": "code",
   "execution_count": 143,
   "metadata": {
    "collapsed": false
   },
   "outputs": [
    {
     "name": "stdout",
     "output_type": "stream",
     "text": [
      "Index(['CE'], dtype='object')\n",
      "CE    30\n",
      "Name: ESTU_LIMITA_CONDICIONESPECIAL, dtype: int64\n",
      "Elementos null/NaN 74097\n",
      "__________________\n",
      "Elementos diferentes de null/NaN: 30\n",
      "__________________\n",
      "(30,)\n",
      "None\n"
     ]
    }
   ],
   "source": [
    "c = 'ESTU_LIMITA_CONDICIONESPECIAL'\n",
    "print(data_2016_1_V2[c].value_counts().sort_index().index)\n",
    "print(data_2016_1_V2[c].value_counts().sort_index())\n",
    "print(missing_data(data_2016_1_V2[c]))"
   ]
  },
  {
   "cell_type": "code",
   "execution_count": 144,
   "metadata": {
    "collapsed": true
   },
   "outputs": [],
   "source": [
    "data_2016_1_V2 = data_2016_1_V2.drop(c, axis=1)"
   ]
  },
  {
   "cell_type": "code",
   "execution_count": 145,
   "metadata": {
    "collapsed": false
   },
   "outputs": [
    {
     "name": "stdout",
     "output_type": "stream",
     "text": [
      "Index(['AUD'], dtype='object')\n",
      "AUD    13\n",
      "Name: ESTU_LIMITA_SORDO, dtype: int64\n",
      "Elementos null/NaN 74114\n",
      "__________________\n",
      "Elementos diferentes de null/NaN: 13\n",
      "__________________\n",
      "(13,)\n",
      "None\n"
     ]
    }
   ],
   "source": [
    "c = 'ESTU_LIMITA_SORDO'\n",
    "print(data_2016_1_V2[c].value_counts().sort_index().index)\n",
    "print(data_2016_1_V2[c].value_counts().sort_index())\n",
    "print(missing_data(data_2016_1_V2[c]))"
   ]
  },
  {
   "cell_type": "code",
   "execution_count": 146,
   "metadata": {
    "collapsed": true
   },
   "outputs": [],
   "source": [
    "data_2016_1_V2 = data_2016_1_V2.drop(c, axis=1)"
   ]
  },
  {
   "cell_type": "code",
   "execution_count": 147,
   "metadata": {
    "collapsed": false
   },
   "outputs": [
    {
     "name": "stdout",
     "output_type": "stream",
     "text": [
      "Index(['SD'], dtype='object')\n",
      "SD    9\n",
      "Name: ESTU_LIMITA_SDOWN, dtype: int64\n",
      "Elementos null/NaN 74118\n",
      "__________________\n",
      "Elementos diferentes de null/NaN: 9\n",
      "__________________\n",
      "(9,)\n",
      "None\n"
     ]
    }
   ],
   "source": [
    "c = 'ESTU_LIMITA_SDOWN'\n",
    "print(data_2016_1_V2[c].value_counts().sort_index().index)\n",
    "print(data_2016_1_V2[c].value_counts().sort_index())\n",
    "print(missing_data(data_2016_1_V2[c]))"
   ]
  },
  {
   "cell_type": "code",
   "execution_count": 148,
   "metadata": {
    "collapsed": true
   },
   "outputs": [],
   "source": [
    "data_2016_1_V2 = data_2016_1_V2.drop(c, axis=1)"
   ]
  },
  {
   "cell_type": "code",
   "execution_count": 149,
   "metadata": {
    "collapsed": false
   },
   "outputs": [
    {
     "name": "stdout",
     "output_type": "stream",
     "text": [
      "Index(['AA'], dtype='object')\n",
      "AA    27\n",
      "Name: ESTU_LIMITA_AUTISMO, dtype: int64\n",
      "Elementos null/NaN 74100\n",
      "__________________\n",
      "Elementos diferentes de null/NaN: 27\n",
      "__________________\n",
      "(27,)\n",
      "None\n"
     ]
    }
   ],
   "source": [
    "c = 'ESTU_LIMITA_AUTISMO'\n",
    "print(data_2016_1_V2[c].value_counts().sort_index().index)\n",
    "print(data_2016_1_V2[c].value_counts().sort_index())\n",
    "print(missing_data(data_2016_1_V2[c]))"
   ]
  },
  {
   "cell_type": "code",
   "execution_count": 150,
   "metadata": {
    "collapsed": true
   },
   "outputs": [],
   "source": [
    "data_2016_1_V2 = data_2016_1_V2.drop(c, axis=1)"
   ]
  },
  {
   "cell_type": "code",
   "execution_count": 151,
   "metadata": {
    "collapsed": false
   },
   "outputs": [
    {
     "name": "stdout",
     "output_type": "stream",
     "text": [
      "Index(['R', 'U'], dtype='object')\n",
      "R    10537\n",
      "U    61855\n",
      "Name: ESTU_AREA_RESIDE, dtype: int64\n",
      "Elementos null/NaN 1735\n",
      "__________________\n",
      "Elementos diferentes de null/NaN: 72392\n",
      "__________________\n",
      "(72392,)\n",
      "None\n"
     ]
    }
   ],
   "source": [
    "c = 'ESTU_AREA_RESIDE'\n",
    "print(data_2016_1_V2[c].value_counts().sort_index().index)\n",
    "print(data_2016_1_V2[c].value_counts().sort_index())\n",
    "print(missing_data(data_2016_1_V2[c]))"
   ]
  },
  {
   "cell_type": "code",
   "execution_count": 152,
   "metadata": {
    "collapsed": false
   },
   "outputs": [
    {
     "name": "stdout",
     "output_type": "stream",
     "text": [
      "cant null antes: 1735\n",
      "cant null despues: 0\n"
     ]
    }
   ],
   "source": [
    "Do_resamples(data_2016_1_V2, c, str)"
   ]
  },
  {
   "cell_type": "code",
   "execution_count": 153,
   "metadata": {
    "collapsed": false,
    "scrolled": true
   },
   "outputs": [
    {
     "name": "stdout",
     "output_type": "stream",
     "text": [
      "Float64Index([ 5001.0,  5045.0,  5088.0,  5266.0,  5360.0,  5380.0,  5607.0,\n",
      "               5686.0,  5697.0,  8001.0,  8573.0, 11001.0, 13001.0, 15001.0,\n",
      "              15238.0, 15759.0, 17001.0, 17174.0, 17380.0, 17524.0, 17873.0,\n",
      "              19001.0, 19532.0, 19573.0, 20001.0, 20011.0, 23001.0, 25126.0,\n",
      "              25175.0, 25214.0, 25269.0, 25286.0, 25290.0, 25377.0, 25754.0,\n",
      "              25758.0, 25799.0, 25899.0, 41001.0, 44035.0, 44430.0, 47001.0,\n",
      "              50001.0, 52001.0, 52083.0, 52356.0, 54001.0, 54261.0, 63001.0,\n",
      "              63690.0, 66001.0, 66170.0, 68001.0, 68276.0, 68307.0, 68432.0,\n",
      "              68547.0, 73001.0, 73168.0, 73319.0, 73443.0, 73449.0, 73483.0,\n",
      "              76001.0, 76109.0, 76111.0, 76130.0, 76147.0, 76248.0, 76364.0,\n",
      "              76520.0, 76563.0, 76622.0, 76834.0, 76892.0, 85001.0, 86568.0],\n",
      "             dtype='float64')\n",
      "5001      253\n",
      "5045       45\n",
      "5088       16\n",
      "5266      228\n",
      "5360        1\n",
      "5380       54\n",
      "5607       39\n",
      "5686       13\n",
      "5697       51\n",
      "8001      353\n",
      "8573      404\n",
      "11001    5214\n",
      "13001     153\n",
      "15001      59\n",
      "15238      24\n",
      "15759       3\n",
      "17001     132\n",
      "17174      15\n",
      "17380       7\n",
      "17524       2\n",
      "17873      94\n",
      "19001     716\n",
      "19532       8\n",
      "19573      52\n",
      "20001      42\n",
      "20011      28\n",
      "23001      17\n",
      "25126     158\n",
      "25175     432\n",
      "25214     178\n",
      "         ... \n",
      "54261       1\n",
      "63001      18\n",
      "63690      38\n",
      "66001     215\n",
      "66170       7\n",
      "68001      37\n",
      "68276     129\n",
      "68307      28\n",
      "68432       1\n",
      "68547      56\n",
      "73001       2\n",
      "73168      43\n",
      "73319      13\n",
      "73443      45\n",
      "73449      25\n",
      "73483      18\n",
      "76001    6096\n",
      "76109      30\n",
      "76111     332\n",
      "76130      56\n",
      "76147      99\n",
      "76248     157\n",
      "76364      80\n",
      "76520     787\n",
      "76563      13\n",
      "76622      41\n",
      "76834      10\n",
      "76892     235\n",
      "85001       3\n",
      "86568       5\n",
      "Name: COLE_COD_MCPIO_UBICACION, dtype: int64\n",
      "Elementos null/NaN 55473\n",
      "__________________\n",
      "Elementos diferentes de null/NaN: 18654\n",
      "__________________\n",
      "(18654,)\n",
      "None\n"
     ]
    }
   ],
   "source": [
    "c = 'COLE_COD_MCPIO_UBICACION'\n",
    "print(data_2016_1_V2[c].value_counts().sort_index().index)\n",
    "print(data_2016_1_V2[c].value_counts().sort_index())\n",
    "print(missing_data(data_2016_1_V2[c]))"
   ]
  },
  {
   "cell_type": "code",
   "execution_count": 154,
   "metadata": {
    "collapsed": false
   },
   "outputs": [
    {
     "name": "stdout",
     "output_type": "stream",
     "text": [
      "cant null antes: 55473\n",
      "cant null despues: 0\n"
     ]
    }
   ],
   "source": [
    "Do_resamples(data_2016_1_V2, c, float)"
   ]
  },
  {
   "cell_type": "code",
   "execution_count": 155,
   "metadata": {
    "collapsed": false,
    "scrolled": true
   },
   "outputs": [
    {
     "name": "stdout",
     "output_type": "stream",
     "text": [
      "Index(['ABEJORRAL', 'ABREGO', 'ABRIAQUI', 'ACACIAS', 'ACEVEDO', 'AGRADO',\n",
      "       'AGUA DE DIOS', 'AGUACHICA', 'AGUADAS', 'AGUAZUL',\n",
      "       ...\n",
      "       'YOTOCO', 'YUMBO', 'ZAPATOCA', 'ZAPAYAN', 'ZARAGOZA', 'ZARZAL',\n",
      "       'ZETAQUIRA', 'ZIPACON', 'ZIPAQUIRA', 'ZONA BANANERA'],\n",
      "      dtype='object', length=885)\n",
      "ABEJORRAL                      2\n",
      "ABREGO                        20\n",
      "ABRIAQUI                       1\n",
      "ACACIAS                       95\n",
      "ACEVEDO                       40\n",
      "AGRADO                         5\n",
      "AGUA DE DIOS                  24\n",
      "AGUACHICA                    168\n",
      "AGUADAS                        5\n",
      "AGUAZUL                       56\n",
      "AGUSTIN CODAZZI               33\n",
      "AIPE                          18\n",
      "ALBAN                          2\n",
      "ALBAN (SAN JOSE)              44\n",
      "ALBANIA                       44\n",
      "ALCALA                         3\n",
      "ALDANA                        17\n",
      "ALGECIRAS                     21\n",
      "ALMAGUER                       4\n",
      "ALPUJARRA                      3\n",
      "ALTAMIRA                       3\n",
      "ALTO BAUDO (PIE DE PATO)       2\n",
      "ALTOS DEL ROSARIO              1\n",
      "ALVARADO                       3\n",
      "AMAGA                          5\n",
      "AMALFI                         4\n",
      "AMBALEMA                       1\n",
      "ANAPOIMA                       5\n",
      "ANCUYA                        40\n",
      "ANDALUCIA                     23\n",
      "                            ... \n",
      "VILLAGARZON                   30\n",
      "VILLAHERMOSA                   6\n",
      "VILLAMARIA                   125\n",
      "VILLANUEVA                    71\n",
      "VILLAPINZON                    5\n",
      "VILLARRICA                     1\n",
      "VILLAVICENCIO               1005\n",
      "VILLAVIEJA                    12\n",
      "VILLETA                       30\n",
      "VIOTA                          8\n",
      "VIRACACHA                      5\n",
      "VISTA HERMOSA                  8\n",
      "VITERBO                        4\n",
      "YACOPI                         3\n",
      "YACUANQUER                    28\n",
      "YAGUARA                       19\n",
      "YARUMAL                       22\n",
      "YOLOMBO                        3\n",
      "YONDO (CASABE)                 9\n",
      "YOPAL                        232\n",
      "YOTOCO                        23\n",
      "YUMBO                        230\n",
      "ZAPATOCA                       5\n",
      "ZAPAYAN                        1\n",
      "ZARAGOZA                       5\n",
      "ZARZAL                        77\n",
      "ZETAQUIRA                      2\n",
      "ZIPACON                        2\n",
      "ZIPAQUIRA                    138\n",
      "ZONA BANANERA                 13\n",
      "Name: ESTU_RESIDE_MCPIO, dtype: int64\n",
      "Elementos null/NaN 96\n",
      "__________________\n",
      "Elementos diferentes de null/NaN: 74031\n",
      "__________________\n",
      "(74031,)\n",
      "None\n"
     ]
    }
   ],
   "source": [
    "c = 'ESTU_RESIDE_MCPIO'\n",
    "print(data_2016_1_V2[c].value_counts().sort_index().index)\n",
    "print(data_2016_1_V2[c].value_counts().sort_index())\n",
    "print(missing_data(data_2016_1_V2[c]))"
   ]
  },
  {
   "cell_type": "code",
   "execution_count": 156,
   "metadata": {
    "collapsed": true
   },
   "outputs": [],
   "source": [
    "data_2016_1_V2[c].fillna(method='bfill', inplace=True)\n",
    "data_2016_1_V2[c].fillna(method='ffill', inplace=True)"
   ]
  },
  {
   "cell_type": "code",
   "execution_count": 157,
   "metadata": {
    "collapsed": false,
    "scrolled": true
   },
   "outputs": [
    {
     "name": "stdout",
     "output_type": "stream",
     "text": [
      "Float64Index([    5.0,     8.0,    11.0,    13.0,    15.0,    17.0,    18.0,\n",
      "                 19.0,    20.0,    23.0,    25.0,    27.0,    41.0,    44.0,\n",
      "                 47.0,    50.0,    52.0,    54.0,    63.0,    66.0,    68.0,\n",
      "                 70.0,    73.0,    76.0,    81.0,    85.0,    86.0,    88.0,\n",
      "                 91.0,    94.0,    95.0,    97.0,    99.0, 99999.0],\n",
      "             dtype='float64')\n",
      "5         3682\n",
      "8         2131\n",
      "11       15013\n",
      "13        1176\n",
      "15        3669\n",
      "17        1759\n",
      "18         488\n",
      "19        2129\n",
      "20        1080\n",
      "23         722\n",
      "25        2836\n",
      "27         386\n",
      "41        3135\n",
      "44         562\n",
      "47         519\n",
      "50        1342\n",
      "52        6484\n",
      "54        1664\n",
      "63         870\n",
      "66        1427\n",
      "68        4588\n",
      "70         383\n",
      "73        2029\n",
      "76       14559\n",
      "81         256\n",
      "85         464\n",
      "86         507\n",
      "88          34\n",
      "91          15\n",
      "94          10\n",
      "95          73\n",
      "97           8\n",
      "99          25\n",
      "99999        6\n",
      "Name: ESTU_COD_RESIDE_DEPTO, dtype: int64\n",
      "Elementos null/NaN 96\n",
      "__________________\n",
      "Elementos diferentes de null/NaN: 74031\n",
      "__________________\n",
      "(74031,)\n",
      "None\n"
     ]
    }
   ],
   "source": [
    "c = 'ESTU_COD_RESIDE_DEPTO'\n",
    "print(data_2016_1_V2[c].value_counts().sort_index().index)\n",
    "print(data_2016_1_V2[c].value_counts().sort_index())\n",
    "print(missing_data(data_2016_1_V2[c]))"
   ]
  },
  {
   "cell_type": "code",
   "execution_count": 158,
   "metadata": {
    "collapsed": true
   },
   "outputs": [],
   "source": [
    "data_2016_1_V2[c].fillna(method='bfill', inplace=True)\n",
    "data_2016_1_V2[c].fillna(method='ffill', inplace=True)"
   ]
  },
  {
   "cell_type": "code",
   "execution_count": 159,
   "metadata": {
    "collapsed": false,
    "scrolled": true
   },
   "outputs": [
    {
     "name": "stdout",
     "output_type": "stream",
     "text": [
      "Index(['AMAZONAS', 'ANTIOQUIA', 'ARAUCA', 'ATLANTICO', 'BOGOTA', 'BOLIVAR',\n",
      "       'BOYACA', 'CALDAS', 'CAQUETA', 'CASANARE', 'CAUCA', 'CESAR', 'CHOCO',\n",
      "       'CORDOBA', 'CUNDINAMARCA', 'EXTRANJERO', 'GUAINIA', 'GUAVIARE', 'HUILA',\n",
      "       'LA GUAJIRA', 'MAGDALENA', 'META', 'NARIÑO', 'NORTE SANTANDER',\n",
      "       'PUTUMAYO', 'QUINDIO', 'RISARALDA', 'SAN ANDRES', 'SANTANDER', 'SUCRE',\n",
      "       'TOLIMA', 'VALLE', 'VAUPES', 'VICHADA'],\n",
      "      dtype='object')\n",
      "AMAZONAS              15\n",
      "ANTIOQUIA           3682\n",
      "ARAUCA               256\n",
      "ATLANTICO           2131\n",
      "BOGOTA             15013\n",
      "BOLIVAR             1176\n",
      "BOYACA              3669\n",
      "CALDAS              1759\n",
      "CAQUETA              488\n",
      "CASANARE             464\n",
      "CAUCA               2129\n",
      "CESAR               1080\n",
      "CHOCO                386\n",
      "CORDOBA              722\n",
      "CUNDINAMARCA        2836\n",
      "EXTRANJERO             6\n",
      "GUAINIA               10\n",
      "GUAVIARE              73\n",
      "HUILA               3135\n",
      "LA GUAJIRA           562\n",
      "MAGDALENA            519\n",
      "META                1342\n",
      "NARIÑO              6484\n",
      "NORTE SANTANDER     1664\n",
      "PUTUMAYO             507\n",
      "QUINDIO              870\n",
      "RISARALDA           1427\n",
      "SAN ANDRES            34\n",
      "SANTANDER           4588\n",
      "SUCRE                383\n",
      "TOLIMA              2029\n",
      "VALLE              14559\n",
      "VAUPES                 8\n",
      "VICHADA               25\n",
      "Name: ESTU_RESIDE_DEPTO, dtype: int64\n",
      "Elementos null/NaN 96\n",
      "__________________\n",
      "Elementos diferentes de null/NaN: 74031\n",
      "__________________\n",
      "(74031,)\n",
      "None\n"
     ]
    }
   ],
   "source": [
    "c = 'ESTU_RESIDE_DEPTO'\n",
    "print(data_2016_1_V2[c].value_counts().sort_index().index)\n",
    "print(data_2016_1_V2[c].value_counts().sort_index())\n",
    "print(missing_data(data_2016_1_V2[c]))"
   ]
  },
  {
   "cell_type": "code",
   "execution_count": 160,
   "metadata": {
    "collapsed": true
   },
   "outputs": [],
   "source": [
    "data_2016_1_V2[c].fillna(method='bfill', inplace=True)\n",
    "data_2016_1_V2[c].fillna(method='ffill', inplace=True)"
   ]
  },
  {
   "cell_type": "code",
   "execution_count": 161,
   "metadata": {
    "collapsed": false,
    "scrolled": true
   },
   "outputs": [
    {
     "name": "stdout",
     "output_type": "stream",
     "text": [
      "Float64Index([ 5001.0,  5002.0,  5004.0,  5030.0,  5031.0,  5034.0,  5040.0,\n",
      "               5042.0,  5045.0,  5051.0,\n",
      "              ...\n",
      "              94001.0, 94343.0, 94888.0, 95001.0, 95015.0, 95025.0, 97001.0,\n",
      "              99001.0, 99524.0, 99999.0],\n",
      "             dtype='float64', length=951)\n",
      "5001     1831\n",
      "5002        2\n",
      "5004        1\n",
      "5030        5\n",
      "5031        4\n",
      "5034        4\n",
      "5040        3\n",
      "5042        3\n",
      "5045      229\n",
      "5051        3\n",
      "5079       17\n",
      "5086        1\n",
      "5088      250\n",
      "5091        2\n",
      "5101        2\n",
      "5107        1\n",
      "5113        1\n",
      "5120        5\n",
      "5125        2\n",
      "5129       27\n",
      "5134        2\n",
      "5142        1\n",
      "5147       97\n",
      "5148       47\n",
      "5154       52\n",
      "5172       37\n",
      "5190        1\n",
      "5197        1\n",
      "5209        1\n",
      "5212       43\n",
      "         ... \n",
      "85410      24\n",
      "85430      11\n",
      "85440      29\n",
      "86001     104\n",
      "86219      13\n",
      "86320      67\n",
      "86568     114\n",
      "86569       5\n",
      "86571       9\n",
      "86573       2\n",
      "86749      77\n",
      "86755      12\n",
      "86757       4\n",
      "86760      12\n",
      "86865      58\n",
      "86885      30\n",
      "88001      30\n",
      "88564       4\n",
      "91001      14\n",
      "91540       1\n",
      "94001       8\n",
      "94343       1\n",
      "94888       1\n",
      "95001      60\n",
      "95015       4\n",
      "95025       9\n",
      "97001       8\n",
      "99001      23\n",
      "99524       2\n",
      "99999       6\n",
      "Name: ESTU_COD_RESIDE_MCPIO, dtype: int64\n",
      "Elementos null/NaN 96\n",
      "__________________\n",
      "Elementos diferentes de null/NaN: 74031\n",
      "__________________\n",
      "(74031,)\n",
      "None\n"
     ]
    }
   ],
   "source": [
    "c = 'ESTU_COD_RESIDE_MCPIO'\n",
    "print(data_2016_1_V2[c].value_counts().sort_index().index)\n",
    "print(data_2016_1_V2[c].value_counts().sort_index())\n",
    "print(missing_data(data_2016_1_V2[c]))"
   ]
  },
  {
   "cell_type": "code",
   "execution_count": 162,
   "metadata": {
    "collapsed": true
   },
   "outputs": [],
   "source": [
    "data_2016_1_V2[c].fillna(method='bfill', inplace=True)\n",
    "data_2016_1_V2[c].fillna(method='ffill', inplace=True)"
   ]
  },
  {
   "cell_type": "code",
   "execution_count": 163,
   "metadata": {
    "collapsed": false
   },
   "outputs": [
    {
     "name": "stdout",
     "output_type": "stream",
     "text": [
      "Int64Index([1, 2, 3, 4, 5, 6, 7, 8, 9, 10], dtype='int64')\n",
      "1      8066\n",
      "2       751\n",
      "3      1654\n",
      "4     10842\n",
      "5      5987\n",
      "6      2457\n",
      "7      1629\n",
      "8      3084\n",
      "9      2609\n",
      "10    37048\n",
      "Name: ESTU_ZONA_RESIDE, dtype: int64\n",
      "Elementos null/NaN 0\n",
      "__________________\n",
      "Elementos diferentes de null/NaN: 74127\n",
      "__________________\n",
      "(74127,)\n",
      "None\n"
     ]
    }
   ],
   "source": [
    "c = 'ESTU_ZONA_RESIDE'\n",
    "print(data_2016_1_V2[c].value_counts().sort_index().index)\n",
    "print(data_2016_1_V2[c].value_counts().sort_index())\n",
    "print(missing_data(data_2016_1_V2[c]))"
   ]
  },
  {
   "cell_type": "code",
   "execution_count": 164,
   "metadata": {
    "collapsed": false,
    "scrolled": true
   },
   "outputs": [
    {
     "name": "stdout",
     "output_type": "stream",
     "text": [
      "Float64Index([105001003425.0, 105045000318.0, 105088000486.0, 105088003175.0,\n",
      "              105266000061.0, 111001011908.0, 111001013129.0, 111001013676.0,\n",
      "              111001034134.0, 111001046477.0,\n",
      "              ...\n",
      "              476892100092.0, 485001004526.0, 486568061250.0, 519001000002.0,\n",
      "              537610901165.0, 541001008097.0, 568001009730.0, 568432001300.0,\n",
      "              625214000001.0, 625269000075.0],\n",
      "             dtype='float64', length=584)\n",
      "1.050010e+11     19\n",
      "1.050450e+11     34\n",
      "1.050880e+11      1\n",
      "1.050880e+11     15\n",
      "1.052660e+11     27\n",
      "1.110010e+11     23\n",
      "1.110010e+11     15\n",
      "1.110010e+11     17\n",
      "1.110010e+11     13\n",
      "1.110010e+11     19\n",
      "1.110011e+11     13\n",
      "1.110011e+11     30\n",
      "1.110011e+11     39\n",
      "1.117690e+11     28\n",
      "1.170010e+11      1\n",
      "1.410010e+11      9\n",
      "1.520830e+11      1\n",
      "1.542610e+11      1\n",
      "1.765200e+11     22\n",
      "1.765200e+11     14\n",
      "3.020060e+11     13\n",
      "3.050010e+11     32\n",
      "3.050010e+11     94\n",
      "3.050010e+11      9\n",
      "3.050010e+11     56\n",
      "3.050010e+11     17\n",
      "3.050010e+11     13\n",
      "3.050010e+11     20\n",
      "3.050010e+11      5\n",
      "3.050010e+11     91\n",
      "               ... \n",
      "4.253778e+11     64\n",
      "4.257990e+11     13\n",
      "4.257990e+11      7\n",
      "4.257990e+11     20\n",
      "4.470010e+11     30\n",
      "4.636900e+11     38\n",
      "4.660010e+11      5\n",
      "4.660010e+11     20\n",
      "4.760010e+11     27\n",
      "4.760010e+11     10\n",
      "4.760010e+11     27\n",
      "4.760010e+11     34\n",
      "4.761300e+11     56\n",
      "4.762480e+11    112\n",
      "4.762480e+11     14\n",
      "4.765200e+11     16\n",
      "4.765200e+11     20\n",
      "4.765200e+11    123\n",
      "4.768921e+11      9\n",
      "4.768921e+11     11\n",
      "4.768921e+11      6\n",
      "4.850010e+11      3\n",
      "4.865681e+11      5\n",
      "5.190010e+11     47\n",
      "5.376109e+11      1\n",
      "5.410010e+11     15\n",
      "5.680010e+11      8\n",
      "5.684320e+11      1\n",
      "6.252140e+11     29\n",
      "6.252690e+11      8\n",
      "Name: COLE_COD_DANE_INSTITUCION, dtype: int64\n",
      "Elementos null/NaN 55473\n",
      "__________________\n",
      "Elementos diferentes de null/NaN: 18654\n",
      "__________________\n",
      "(18654,)\n",
      "None\n"
     ]
    }
   ],
   "source": [
    "c = 'COLE_COD_DANE_INSTITUCION'\n",
    "print(data_2016_1_V2[c].value_counts().sort_index().index)\n",
    "print(data_2016_1_V2[c].value_counts().sort_index())\n",
    "print(missing_data(data_2016_1_V2[c]))"
   ]
  },
  {
   "cell_type": "code",
   "execution_count": 165,
   "metadata": {
    "collapsed": true
   },
   "outputs": [],
   "source": [
    "data_2016_1_V2[c].fillna(method='bfill', inplace=True)\n",
    "data_2016_1_V2[c].fillna(method='ffill', inplace=True)"
   ]
  },
  {
   "cell_type": "code",
   "execution_count": 166,
   "metadata": {
    "collapsed": false,
    "scrolled": true
   },
   "outputs": [
    {
     "name": "stdout",
     "output_type": "stream",
     "text": [
      "Float64Index([   182.0,   3046.0,   3327.0,   3350.0,   3418.0,   3459.0,\n",
      "                4234.0,   5892.0,   6023.0,   7013.0,\n",
      "              ...\n",
      "              197947.0, 197954.0, 199273.0, 199430.0, 199588.0, 199653.0,\n",
      "              199679.0, 199711.0, 199737.0, 199745.0],\n",
      "             dtype='float64', length=623)\n",
      "182        94\n",
      "3046       84\n",
      "3327       19\n",
      "3350       12\n",
      "3418       48\n",
      "3459       64\n",
      "4234       49\n",
      "5892        1\n",
      "6023       92\n",
      "7013       66\n",
      "7070       60\n",
      "7088       53\n",
      "9696        9\n",
      "11262      75\n",
      "11288      88\n",
      "12435       1\n",
      "16667      70\n",
      "16691     157\n",
      "16709      84\n",
      "16733      44\n",
      "16741      84\n",
      "16766      45\n",
      "16774      75\n",
      "16824      20\n",
      "16832      61\n",
      "16873      36\n",
      "16881      28\n",
      "16956      29\n",
      "16972      73\n",
      "16980     157\n",
      "         ... \n",
      "188557      2\n",
      "188581     30\n",
      "190009     46\n",
      "190280     14\n",
      "190744     11\n",
      "190991     36\n",
      "191288      5\n",
      "191304      5\n",
      "191445      8\n",
      "191833     43\n",
      "191874     18\n",
      "191882      9\n",
      "192278     34\n",
      "193268      2\n",
      "195040      6\n",
      "195057     24\n",
      "195404     11\n",
      "196667      6\n",
      "197889      9\n",
      "197939     26\n",
      "197947     19\n",
      "197954      9\n",
      "199273      2\n",
      "199430     27\n",
      "199588     14\n",
      "199653      5\n",
      "199679      1\n",
      "199711     12\n",
      "199737     15\n",
      "199745      6\n",
      "Name: COLE_COD_ICFES, dtype: int64\n",
      "Elementos null/NaN 55473\n",
      "__________________\n",
      "Elementos diferentes de null/NaN: 18654\n",
      "__________________\n",
      "(18654,)\n",
      "None\n"
     ]
    }
   ],
   "source": [
    "c = 'COLE_COD_ICFES'\n",
    "print(data_2016_1_V2[c].value_counts().sort_index().index)\n",
    "print(data_2016_1_V2[c].value_counts().sort_index())\n",
    "print(missing_data(data_2016_1_V2[c]))"
   ]
  },
  {
   "cell_type": "code",
   "execution_count": 167,
   "metadata": {
    "collapsed": false
   },
   "outputs": [
    {
     "name": "stdout",
     "output_type": "stream",
     "text": [
      "cant null antes: 55473\n",
      "cant null despues: 0\n"
     ]
    }
   ],
   "source": [
    "for i in data_2016_1_V2[c].value_counts().sort_index().index:\n",
    "    if len(str(i)) < 4:\n",
    "        data_2016_1_V2[c] = data_2016_1_V2[c].replace(i, np.nan)\n",
    "        \n",
    "Do_resamples(data_2016_1_V2, c, float)"
   ]
  },
  {
   "cell_type": "code",
   "execution_count": 168,
   "metadata": {
    "collapsed": false,
    "scrolled": true
   },
   "outputs": [
    {
     "name": "stdout",
     "output_type": "stream",
     "text": [
      "Index(['ACAD AMERICANA DE SISTEMAS Y COMERCIO',\n",
      "       'ACADE MILIT JOAQUÍN DE CAICEDO Y CUERO',\n",
      "       'ACADEMIA COLOMBIANA DE ENSEÑANZA',\n",
      "       'ACADEMIA DE CIENCIAS DE COLOMBIA AKADEMOS',\n",
      "       'ACADEMIA GENERAL JOSE MARIA CABAL - SEDE PRINCIPAL',\n",
      "       'ACADEMIA MILIT CORONEL MIGUEL CABAL BARONA',\n",
      "       'ALAS COLEGIO  - SEDE PRINCIPAL', 'AMERICAN SCHOOL',\n",
      "       'ASOCIACION COLEGIO GRANADINO',\n",
      "       'ASPAEN COLEGIO JUANAMBÚ - SEDE PRINCIPAL',\n",
      "       ...\n",
      "       'SANTA  MARIA STELLA MARIS', 'SANTA MARIANA DE JESÚS',\n",
      "       'SEM DE CRISTO SACERDOTE', 'SEMINARIO MENOR ARQUIDIOCESANO',\n",
      "       'SERVICIO EDUCATIVO NAL DE ADULTOS SENDAS',\n",
      "       'STUDIO SISTEMAS AGENCIA CRISTIANA DE SERVICIO Y EDUCACION',\n",
      "       'TANDEM - SEDE PRINCIPAL', 'TERRA INSTITUTI - SEDE PRINCIPAL',\n",
      "       'UNITECNICAS - SEDE PRINCIPAL', 'VERNOT SCHOOL'],\n",
      "      dtype='object', length=575)\n",
      "ACAD AMERICANA DE SISTEMAS Y COMERCIO                         2\n",
      "ACADE MILIT JOAQUÍN DE CAICEDO Y CUERO                       21\n",
      "ACADEMIA COLOMBIANA DE ENSEÑANZA                             42\n",
      "ACADEMIA DE CIENCIAS DE COLOMBIA AKADEMOS                    26\n",
      "ACADEMIA GENERAL JOSE MARIA CABAL - SEDE PRINCIPAL           19\n",
      "ACADEMIA MILIT CORONEL MIGUEL CABAL BARONA                    7\n",
      "ALAS COLEGIO  - SEDE PRINCIPAL                                8\n",
      "AMERICAN SCHOOL                                              31\n",
      "ASOCIACION COLEGIO GRANADINO                                 45\n",
      "ASPAEN COLEGIO JUANAMBÚ - SEDE PRINCIPAL                     14\n",
      "ASPAEN GIMNASIO CARTAGENA DE INDIAS                          42\n",
      "ASPAEN GIMNASIO IRAGUA                                       82\n",
      "ASPAEN GIMNASIO LOS CORALES                                  18\n",
      "ASPAEN LICEO TACURÍ                                          26\n",
      "ASPAEN-GIMNASIO LOS CEREZOS                                  15\n",
      "BACHILLERATO INTEGRAL DEL QUINDIO                            18\n",
      "BOSQUECITO ENCANTADO Y COLEGIO EL BOSQUE                     16\n",
      "BTO DE ADULTOS UNAD                                           7\n",
      "BTO FORMAL DE ADULTOS DEL CAUCA                              23\n",
      "BTO PARA ADULTOS COLSUBSIDIO                                 49\n",
      "C. E. FORMAL DISCENTER S - SEDE PRINCIPAL                    44\n",
      "CARDENAS CENTRO                                              22\n",
      "CE PARA JOVENES Y ADULTOS PALMIRA - SEDE PRINCIPAL           53\n",
      "CENT DE CAPACITACION  LTDA (CENCABO)                         25\n",
      "CENT DE EDUC FORMAL ROBERT HOOKE                             45\n",
      "CENT DE ENSENANZA LATINOAMERICANA - CENLA                    13\n",
      "CENT DE FORMACION EDUCATIVA CENFE                             8\n",
      "CENT DOCENTE PARA ADULTOS EDIMA                              10\n",
      "CENT EDUC DIST CAFAM BELLAVISTA                              39\n",
      "CENT EDUC DIST CAFAM LOS NARANJOS                            30\n",
      "                                                             ..\n",
      "LICEO DE SANTA LIBRADA                                        9\n",
      "LICEO FRANCES PAUL VALERY                                    60\n",
      "LICEO GALILEO GALILEI                                        11\n",
      "LICEO LATINO                                                  8\n",
      "LICEO LOS ALPES INSTITUCION EDUCATIVA S.A.S.                 28\n",
      "LICEO LOS PINOS                                              14\n",
      "LICEO MAYOR TECNICO DEL VALLE                                 5\n",
      "LICEO NUESTRA SEÑORA DE LOURDES                               7\n",
      "LICEO QUIAL - SEDE PRINCIPAL                                 38\n",
      "LICEO SUPERIOR JUAN PABLO II - SEDE PRINCIPAL                32\n",
      "NUEVO GIMNASIO CRISTIANO                                     43\n",
      "NUEVO INSTITUTO SAN MIGUEL - SEDE PRINCIPAL                   2\n",
      "POLITECNICO DE LOS ANDES SIGLO XXI                            8\n",
      "POLITECNICO INTEGRAL COLOMBIANO                              16\n",
      "POLITECNICO LA SALLE                                         41\n",
      "POLITECNICO MAYOR ANDINO                                     11\n",
      "POLITECNICO SUPERIOR DEL VALLE                                5\n",
      "POLITECNICO UNIVERSAL DE CAPACITACION                        22\n",
      "REAL COL SAN FRANCISCO DE ASIS                               60\n",
      "SAINT GEORGE SCHOOL - SAN JORGE - SEDE PRINCIPAL             20\n",
      "SANTA  MARIA STELLA MARIS                                    32\n",
      "SANTA MARIANA DE JESÚS                                       29\n",
      "SEM DE CRISTO SACERDOTE                                      34\n",
      "SEMINARIO MENOR ARQUIDIOCESANO                               50\n",
      "SERVICIO EDUCATIVO NAL DE ADULTOS SENDAS                     61\n",
      "STUDIO SISTEMAS AGENCIA CRISTIANA DE SERVICIO Y EDUCACION    91\n",
      "TANDEM - SEDE PRINCIPAL                                      15\n",
      "TERRA INSTITUTI - SEDE PRINCIPAL                             83\n",
      "UNITECNICAS - SEDE PRINCIPAL                                 10\n",
      "VERNOT SCHOOL                                                12\n",
      "Name: COLE_NOMBRE_SEDE, dtype: int64\n",
      "Elementos null/NaN 55473\n",
      "__________________\n",
      "Elementos diferentes de null/NaN: 18654\n",
      "__________________\n",
      "(18654,)\n",
      "None\n"
     ]
    }
   ],
   "source": [
    "c = 'COLE_NOMBRE_SEDE'\n",
    "print(data_2016_1_V2[c].value_counts().sort_index().index)\n",
    "print(data_2016_1_V2[c].value_counts().sort_index())\n",
    "print(missing_data(data_2016_1_V2[c]))"
   ]
  },
  {
   "cell_type": "code",
   "execution_count": 169,
   "metadata": {
    "collapsed": true
   },
   "outputs": [],
   "source": [
    "data_2016_1_V2 = data_2016_1_V2.drop(c, axis=1)"
   ]
  },
  {
   "cell_type": "code",
   "execution_count": 170,
   "metadata": {
    "collapsed": false
   },
   "outputs": [
    {
     "name": "stdout",
     "output_type": "stream",
     "text": [
      "Index(['C', 'M', 'N', 'S', 'T', 'U'], dtype='object')\n",
      "C    8936\n",
      "M    6448\n",
      "N    1303\n",
      "S    1365\n",
      "T     568\n",
      "U      34\n",
      "Name: COLE_JORNADA, dtype: int64\n",
      "Elementos null/NaN 55473\n",
      "__________________\n",
      "Elementos diferentes de null/NaN: 18654\n",
      "__________________\n",
      "(18654,)\n",
      "None\n"
     ]
    }
   ],
   "source": [
    "c = 'COLE_JORNADA'\n",
    "print(data_2016_1_V2[c].value_counts().sort_index().index)\n",
    "print(data_2016_1_V2[c].value_counts().sort_index())\n",
    "print(missing_data(data_2016_1_V2[c]))"
   ]
  },
  {
   "cell_type": "code",
   "execution_count": 171,
   "metadata": {
    "collapsed": false
   },
   "outputs": [
    {
     "name": "stdout",
     "output_type": "stream",
     "text": [
      "cant null antes: 55473\n",
      "cant null despues: 0\n"
     ]
    }
   ],
   "source": [
    "Do_resamples(data_2016_1_V2, c, str)"
   ]
  },
  {
   "cell_type": "code",
   "execution_count": 172,
   "metadata": {
    "collapsed": false
   },
   "outputs": [
    {
     "name": "stdout",
     "output_type": "stream",
     "text": [
      "Index(['FEMENINO', 'MASCULINO', 'MIXTO'], dtype='object')\n",
      "FEMENINO      1267\n",
      "MASCULINO      416\n",
      "MIXTO        16971\n",
      "Name: COLE_GENERO, dtype: int64\n",
      "Elementos null/NaN 55473\n",
      "__________________\n",
      "Elementos diferentes de null/NaN: 18654\n",
      "__________________\n",
      "(18654,)\n",
      "None\n"
     ]
    }
   ],
   "source": [
    "c = 'COLE_GENERO'\n",
    "print(data_2016_1_V2[c].value_counts().sort_index().index)\n",
    "print(data_2016_1_V2[c].value_counts().sort_index())\n",
    "print(missing_data(data_2016_1_V2[c]))"
   ]
  },
  {
   "cell_type": "code",
   "execution_count": 173,
   "metadata": {
    "collapsed": false
   },
   "outputs": [
    {
     "name": "stdout",
     "output_type": "stream",
     "text": [
      "cant null antes: 55473\n",
      "cant null despues: 0\n"
     ]
    }
   ],
   "source": [
    "Do_resamples(data_2016_1_V2, c, str)"
   ]
  },
  {
   "cell_type": "code",
   "execution_count": 174,
   "metadata": {
    "collapsed": false
   },
   "outputs": [
    {
     "name": "stdout",
     "output_type": "stream",
     "text": [
      "Index(['ACADÉMICO', 'NO_APLICA', 'TÉCNICO', 'TÉCNICO/ACADÉMICO'], dtype='object')\n",
      "ACADÉMICO            15183\n",
      "NO_APLICA               41\n",
      "TÉCNICO               1928\n",
      "TÉCNICO/ACADÉMICO     1265\n",
      "Name: COLE_CARACTER, dtype: int64\n",
      "Elementos null/NaN 55710\n",
      "__________________\n",
      "Elementos diferentes de null/NaN: 18417\n",
      "__________________\n",
      "(18417,)\n",
      "None\n"
     ]
    }
   ],
   "source": [
    "c = 'COLE_CARACTER'\n",
    "print(data_2016_1_V2[c].value_counts().sort_index().index)\n",
    "print(data_2016_1_V2[c].value_counts().sort_index())\n",
    "print(missing_data(data_2016_1_V2[c]))"
   ]
  },
  {
   "cell_type": "code",
   "execution_count": 175,
   "metadata": {
    "collapsed": false
   },
   "outputs": [
    {
     "name": "stdout",
     "output_type": "stream",
     "text": [
      "cant null antes: 55710\n",
      "cant null despues: 0\n"
     ]
    }
   ],
   "source": [
    "Do_resamples(data_2016_1_V2, c, str)"
   ]
  },
  {
   "cell_type": "code",
   "execution_count": 176,
   "metadata": {
    "collapsed": false
   },
   "outputs": [
    {
     "name": "stdout",
     "output_type": "stream",
     "text": [
      "Index(['NO OFICIAL', 'OFICIAL', 'OTRO'], dtype='object')\n",
      "NO OFICIAL    18319\n",
      "OFICIAL         335\n",
      "OTRO          55473\n",
      "Name: COLE_NATURALEZA, dtype: int64\n",
      "Elementos null/NaN 0\n",
      "__________________\n",
      "Elementos diferentes de null/NaN: 74127\n",
      "__________________\n",
      "(74127,)\n",
      "None\n"
     ]
    }
   ],
   "source": [
    "c = 'COLE_NATURALEZA'\n",
    "print(data_2016_1_V2[c].value_counts().sort_index().index)\n",
    "print(data_2016_1_V2[c].value_counts().sort_index())\n",
    "print(missing_data(data_2016_1_V2[c]))"
   ]
  },
  {
   "cell_type": "code",
   "execution_count": 177,
   "metadata": {
    "collapsed": false
   },
   "outputs": [
    {
     "name": "stdout",
     "output_type": "stream",
     "text": [
      "Index(['A', 'B', 'O'], dtype='object')\n",
      "A     2092\n",
      "B    13215\n",
      "O     3347\n",
      "Name: COLE_CALENDARIO, dtype: int64\n",
      "Elementos null/NaN 55473\n",
      "__________________\n",
      "Elementos diferentes de null/NaN: 18654\n",
      "__________________\n",
      "(18654,)\n",
      "None\n"
     ]
    }
   ],
   "source": [
    "c = 'COLE_CALENDARIO'\n",
    "print(data_2016_1_V2[c].value_counts().sort_index().index)\n",
    "print(data_2016_1_V2[c].value_counts().sort_index())\n",
    "print(missing_data(data_2016_1_V2[c]))"
   ]
  },
  {
   "cell_type": "code",
   "execution_count": 178,
   "metadata": {
    "collapsed": false
   },
   "outputs": [
    {
     "name": "stdout",
     "output_type": "stream",
     "text": [
      "cant null antes: 55473\n",
      "cant null despues: 0\n"
     ]
    }
   ],
   "source": [
    "Do_resamples(data_2016_1_V2, c, str)"
   ]
  },
  {
   "cell_type": "code",
   "execution_count": 179,
   "metadata": {
    "collapsed": false
   },
   "outputs": [
    {
     "name": "stdout",
     "output_type": "stream",
     "text": [
      "Index(['R', 'U'], dtype='object')\n",
      "R     2038\n",
      "U    16616\n",
      "Name: COLE_AREA_UBICACION, dtype: int64\n",
      "Elementos null/NaN 55473\n",
      "__________________\n",
      "Elementos diferentes de null/NaN: 18654\n",
      "__________________\n",
      "(18654,)\n",
      "None\n"
     ]
    }
   ],
   "source": [
    "c = 'COLE_AREA_UBICACION'\n",
    "print(data_2016_1_V2[c].value_counts().sort_index().index)\n",
    "print(data_2016_1_V2[c].value_counts().sort_index())\n",
    "print(missing_data(data_2016_1_V2[c]))"
   ]
  },
  {
   "cell_type": "code",
   "execution_count": 180,
   "metadata": {
    "collapsed": false
   },
   "outputs": [
    {
     "name": "stdout",
     "output_type": "stream",
     "text": [
      "cant null antes: 55473\n",
      "cant null despues: 0\n"
     ]
    }
   ],
   "source": [
    "Do_resamples(data_2016_1_V2, c, str)"
   ]
  },
  {
   "cell_type": "code",
   "execution_count": 181,
   "metadata": {
    "collapsed": false
   },
   "outputs": [
    {
     "name": "stdout",
     "output_type": "stream",
     "text": [
      "Index(['N', 'S'], dtype='object')\n",
      "N    55205\n",
      "S       19\n",
      "Name: ESTU_PRIVADO_LIBERTAD, dtype: int64\n",
      "Elementos null/NaN 18903\n",
      "__________________\n",
      "Elementos diferentes de null/NaN: 55224\n",
      "__________________\n",
      "(55224,)\n",
      "None\n"
     ]
    }
   ],
   "source": [
    "c = 'ESTU_PRIVADO_LIBERTAD'\n",
    "print(data_2016_1_V2[c].value_counts().sort_index().index)\n",
    "print(data_2016_1_V2[c].value_counts().sort_index())\n",
    "print(missing_data(data_2016_1_V2[c]))"
   ]
  },
  {
   "cell_type": "code",
   "execution_count": 182,
   "metadata": {
    "collapsed": false
   },
   "outputs": [
    {
     "name": "stdout",
     "output_type": "stream",
     "text": [
      "cant null antes: 18903\n",
      "cant null despues: 0\n"
     ]
    }
   ],
   "source": [
    "Do_resamples(data_2016_1_V2, c, str)"
   ]
  },
  {
   "cell_type": "code",
   "execution_count": 183,
   "metadata": {
    "collapsed": false,
    "scrolled": true
   },
   "outputs": [
    {
     "name": "stdout",
     "output_type": "stream",
     "text": [
      "Float64Index([1980.0, 1981.0, 1982.0, 1983.0, 1984.0, 1985.0, 1986.0, 1987.0,\n",
      "              1988.0, 1989.0, 1990.0, 1991.0, 1992.0, 1993.0, 1994.0, 1995.0,\n",
      "              1996.0, 1997.0, 1998.0, 1999.0, 2000.0, 2001.0, 2002.0, 2003.0,\n",
      "              2004.0, 2005.0, 2006.0, 2007.0, 2008.0, 2009.0, 2010.0, 2011.0,\n",
      "              2012.0, 2013.0, 2014.0, 2015.0],\n",
      "             dtype='float64')\n",
      "1980      104\n",
      "1981       24\n",
      "1982       22\n",
      "1983       27\n",
      "1984       29\n",
      "1985       30\n",
      "1986       35\n",
      "1987       36\n",
      "1988       41\n",
      "1989       58\n",
      "1990       42\n",
      "1991       62\n",
      "1992       85\n",
      "1993       96\n",
      "1994      120\n",
      "1995      131\n",
      "1996      145\n",
      "1997      201\n",
      "1998      269\n",
      "1999      310\n",
      "2000      431\n",
      "2001      418\n",
      "2002      502\n",
      "2003      582\n",
      "2004      670\n",
      "2005      753\n",
      "2006      861\n",
      "2007     1084\n",
      "2008     1428\n",
      "2009     1752\n",
      "2010     2260\n",
      "2011     2858\n",
      "2012     3409\n",
      "2013     4779\n",
      "2014     8673\n",
      "2015    22148\n",
      "Name: ESTU_ANO_TERMINO_BACHILL, dtype: int64\n",
      "Elementos null/NaN 19652\n",
      "__________________\n",
      "Elementos diferentes de null/NaN: 54475\n",
      "__________________\n",
      "(54475,)\n",
      "None\n"
     ]
    }
   ],
   "source": [
    "c = 'ESTU_ANO_TERMINO_BACHILL'\n",
    "print(data_2016_1_V2[c].value_counts().sort_index().index)\n",
    "print(data_2016_1_V2[c].value_counts().sort_index())\n",
    "print(missing_data(data_2016_1_V2[c]))"
   ]
  },
  {
   "cell_type": "code",
   "execution_count": 184,
   "metadata": {
    "collapsed": false
   },
   "outputs": [
    {
     "name": "stdout",
     "output_type": "stream",
     "text": [
      "cant null antes: 19652\n",
      "cant null despues: 0\n"
     ]
    }
   ],
   "source": [
    "Do_resamples(data_2016_1_V2, c, float)"
   ]
  },
  {
   "cell_type": "code",
   "execution_count": 185,
   "metadata": {
    "collapsed": false
   },
   "outputs": [
    {
     "name": "stdout",
     "output_type": "stream",
     "text": [
      "Float64Index([1.0, 2.0, 3.0, 4.0, 5.0, 6.0, 7.0, 8.0, 9.0, 10.0, 11.0, 12.0], dtype='float64')\n",
      "1       155\n",
      "2       198\n",
      "3       250\n",
      "4       171\n",
      "5       173\n",
      "6      2719\n",
      "7      3694\n",
      "8       801\n",
      "9       423\n",
      "10      372\n",
      "11    16902\n",
      "12    28614\n",
      "Name: ESTU_MES_TERMINO_BACHILL, dtype: int64\n",
      "Elementos null/NaN 19655\n",
      "__________________\n",
      "Elementos diferentes de null/NaN: 54472\n",
      "__________________\n",
      "(54472,)\n",
      "None\n"
     ]
    }
   ],
   "source": [
    "c = 'ESTU_MES_TERMINO_BACHILL'\n",
    "print(data_2016_1_V2[c].value_counts().sort_index().index)\n",
    "print(data_2016_1_V2[c].value_counts().sort_index())\n",
    "print(missing_data(data_2016_1_V2[c]))"
   ]
  },
  {
   "cell_type": "code",
   "execution_count": 186,
   "metadata": {
    "collapsed": false
   },
   "outputs": [
    {
     "name": "stdout",
     "output_type": "stream",
     "text": [
      "cant null antes: 19655\n",
      "cant null despues: 0\n"
     ]
    }
   ],
   "source": [
    "Do_resamples(data_2016_1_V2, c, float)"
   ]
  },
  {
   "cell_type": "code",
   "execution_count": 187,
   "metadata": {
    "collapsed": false
   },
   "outputs": [
    {
     "name": "stdout",
     "output_type": "stream",
     "text": [
      "Index(['0 A 10 LIBROS', '11 A 25 LIBROS', '26 A 100 LIBROS',\n",
      "       'MÁS DE 100 LIBROS'],\n",
      "      dtype='object')\n",
      "0 A 10 LIBROS        26606\n",
      "11 A 25 LIBROS       20323\n",
      "26 A 100 LIBROS      17299\n",
      "MÁS DE 100 LIBROS     8164\n",
      "Name: ESTU_NUMERO_LIBROS, dtype: int64\n",
      "Elementos null/NaN 1735\n",
      "__________________\n",
      "Elementos diferentes de null/NaN: 72392\n",
      "__________________\n",
      "(72392,)\n",
      "None\n"
     ]
    }
   ],
   "source": [
    "c = 'ESTU_NUMERO_LIBROS'\n",
    "print(data_2016_1_V2[c].value_counts().sort_index().index)\n",
    "print(data_2016_1_V2[c].value_counts().sort_index())\n",
    "print(missing_data(data_2016_1_V2[c]))"
   ]
  },
  {
   "cell_type": "code",
   "execution_count": 188,
   "metadata": {
    "collapsed": false
   },
   "outputs": [
    {
     "name": "stdout",
     "output_type": "stream",
     "text": [
      "cant null antes: 1735\n",
      "cant null despues: 0\n"
     ]
    }
   ],
   "source": [
    "Do_resamples(data_2016_1_V2, c, str)"
   ]
  },
  {
   "cell_type": "code",
   "execution_count": 189,
   "metadata": {
    "collapsed": false,
    "scrolled": true
   },
   "outputs": [
    {
     "name": "stdout",
     "output_type": "stream",
     "text": [
      "Index([' \"isaac\" newton ', ' Ateneo Autonomo De Colombia', ' CIET',\n",
      "       ' COLEGIO ALFONSO LOPEZ PUMAREJO',\n",
      "       ' COLEGIO MILITAR GENERAL RAFAEL REYES', ' COLEGIO SANTANDER',\n",
      "       ' Colegio Mayor San Benito Apostol JM',\n",
      "       ' EDUCATIVA TECNICA ANTONIO NARIÑO',\n",
      "       ' Educativa Departamental San Gabriel ',\n",
      "       ' Educativa Tecnica San Juan Bautista',\n",
      "       ...\n",
      "       'villa santana', 'villanelly sabatino', 'villas de san ignacio',\n",
      "       'virtual andino', 'vista bella i-e-d', 'william shakespeare',\n",
      "       'yoan quepler', 'zer international', 'zion school',\n",
      "       '´validación icfes'],\n",
      "      dtype='object', length=9495)\n",
      " \"isaac\" newton                             1\n",
      " Ateneo Autonomo De Colombia                1\n",
      " CIET                                       1\n",
      " COLEGIO ALFONSO LOPEZ PUMAREJO             1\n",
      " COLEGIO MILITAR GENERAL RAFAEL REYES       1\n",
      " COLEGIO SANTANDER                          1\n",
      " Colegio Mayor San Benito Apostol JM        1\n",
      " EDUCATIVA TECNICA ANTONIO NARIÑO           1\n",
      " Educativa Departamental San Gabriel        1\n",
      " Educativa Tecnica San Juan Bautista        1\n",
      " Fe y Alegria Madre sifFredi                1\n",
      " I E D MANUELA AYALA DE GAITAN              1\n",
      " I E Jorge Guillermo Mojica Marquez         1\n",
      " I. E san martin de porre                   1\n",
      " I.E. NUESTRA SEÑORA DEL ROSARIO            1\n",
      " I.E.D. Colegio Ricaurte                    1\n",
      " IED VILLA ELISA                            1\n",
      " IETIN \" M.A.B\"                             1\n",
      " INEM CARLOS ARTURO TORRES                  1\n",
      " INSTITUCION ALONSO RONQUILLO               1\n",
      " INSTITUCIÓN EDUCATIVA GENERAL FRANCISCO    1\n",
      " ISMAEL CONTRERAS MENESES                   1\n",
      " Inem Carlos Arturo Torres                  1\n",
      " Inem Francisco Jose de Caldas              1\n",
      " Institución Educativa Politécnico          1\n",
      " Instituto Fundetec                         1\n",
      " Instituto Gran Colombia                    1\n",
      " Instituto Nacional del Promocion Social    1\n",
      " Instìtuto Bolìvarìano Esdiseño             1\n",
      " JOSE EUSTACIO RIVERA - NOCTURNO            1\n",
      "                                           ..\n",
      "unitecnicas de colombia                     1\n",
      "universidad a distancia                     1\n",
      "universidad abierta y a distancia unad      1\n",
      "universidad catolica de oriente             1\n",
      "universidad cooperativa de colombia         1\n",
      "universidad de antioquia                    1\n",
      "universidad nacional abierta y a distanc    1\n",
      "universidad pedagogica nacional             1\n",
      "uparsistem                                  1\n",
      "validacion                                  1\n",
      "validacion icfes                            2\n",
      "validación de bachillerato                  1\n",
      "validante ICFES                             1\n",
      "validantes taxis                            1\n",
      "veintiun angeles                            1\n",
      "veintiun angeles                            1\n",
      "vernarda gonzales                           1\n",
      "vernot school                               1\n",
      "vida y paz rodrigo arenas betancur          1\n",
      "villa margarita                             1\n",
      "villa santana                               1\n",
      "villanelly sabatino                         1\n",
      "villas de san ignacio                       1\n",
      "virtual andino                              1\n",
      "vista bella i-e-d                           1\n",
      "william shakespeare                         2\n",
      "yoan quepler                                1\n",
      "zer international                           1\n",
      "zion school                                 1\n",
      "´validación icfes                           1\n",
      "Name: ESTU_OTRO_PLANTEL, dtype: int64\n",
      "Elementos null/NaN 61838\n",
      "__________________\n",
      "Elementos diferentes de null/NaN: 12289\n",
      "__________________\n",
      "(12289,)\n",
      "None\n"
     ]
    }
   ],
   "source": [
    "c = 'ESTU_OTRO_PLANTEL'\n",
    "print(data_2016_1_V2[c].value_counts().sort_index().index)\n",
    "print(data_2016_1_V2[c].value_counts().sort_index())\n",
    "print(missing_data(data_2016_1_V2[c]))"
   ]
  },
  {
   "cell_type": "code",
   "execution_count": 190,
   "metadata": {
    "collapsed": true
   },
   "outputs": [],
   "source": [
    "data_2016_1_V2 = data_2016_1_V2.drop(c, axis=1)"
   ]
  },
  {
   "cell_type": "code",
   "execution_count": 191,
   "metadata": {
    "collapsed": false,
    "scrolled": true
   },
   "outputs": [
    {
     "name": "stdout",
     "output_type": "stream",
     "text": [
      "Float64Index([  1.0,   2.0,  11.0,  12.0,  13.0,  17.0,  23.0,  28.0,  33.0,\n",
      "               34.0,  36.0,  39.0,  40.0,  41.0,  42.0,  46.0,  50.0,  52.0,\n",
      "               54.0,  55.0,  56.0,  57.0,  65.0,  67.0,  76.0,  91.0,  98.0,\n",
      "               99.0, 103.0, 109.0, 110.0, 112.0, 118.0, 119.0, 131.0, 144.0,\n",
      "              145.0, 152.0, 157.0, 160.0, 164.0, 166.0, 167.0, 168.0, 171.0,\n",
      "              173.0, 174.0, 195.0, 199.0, 200.0, 202.0, 209.0, 216.0, 228.0,\n",
      "              235.0, 236.0, 238.0, 240.0, 241.0, 242.0],\n",
      "             dtype='float64')\n",
      "1      54420\n",
      "2          1\n",
      "11         1\n",
      "12        12\n",
      "13         1\n",
      "17         1\n",
      "23         1\n",
      "28         7\n",
      "33         4\n",
      "34         1\n",
      "36         1\n",
      "39         6\n",
      "40         1\n",
      "41         6\n",
      "42        15\n",
      "46        10\n",
      "50        36\n",
      "52         1\n",
      "54         2\n",
      "55         1\n",
      "56         1\n",
      "57         3\n",
      "65        44\n",
      "67         1\n",
      "76         3\n",
      "91         3\n",
      "98         4\n",
      "99         2\n",
      "103        1\n",
      "109        1\n",
      "110        1\n",
      "112        1\n",
      "118        9\n",
      "119        2\n",
      "131        2\n",
      "144        7\n",
      "145        1\n",
      "152        1\n",
      "157        6\n",
      "160        2\n",
      "164        1\n",
      "166        1\n",
      "167        2\n",
      "168        1\n",
      "171       21\n",
      "173        1\n",
      "174       25\n",
      "195        1\n",
      "199        1\n",
      "200        1\n",
      "202        1\n",
      "209       30\n",
      "216        2\n",
      "228        1\n",
      "235        2\n",
      "236       49\n",
      "238        4\n",
      "240        2\n",
      "241      225\n",
      "242        3\n",
      "Name: ESTU_COD_OTRO_PAIS_PLANTEL, dtype: int64\n",
      "Elementos null/NaN 19130\n",
      "__________________\n",
      "Elementos diferentes de null/NaN: 54997\n",
      "__________________\n",
      "(54997,)\n",
      "None\n"
     ]
    }
   ],
   "source": [
    "c = 'ESTU_COD_OTRO_PAIS_PLANTEL'\n",
    "print(data_2016_1_V2[c].value_counts().sort_index().index)\n",
    "print(data_2016_1_V2[c].value_counts().sort_index())\n",
    "print(missing_data(data_2016_1_V2[c]))"
   ]
  },
  {
   "cell_type": "code",
   "execution_count": 192,
   "metadata": {
    "collapsed": false
   },
   "outputs": [
    {
     "name": "stdout",
     "output_type": "stream",
     "text": [
      "cant null antes: 19130\n",
      "cant null despues: 0\n"
     ]
    }
   ],
   "source": [
    "Do_resamples(data_2016_1_V2, c, float)"
   ]
  },
  {
   "cell_type": "code",
   "execution_count": 193,
   "metadata": {
    "collapsed": false
   },
   "outputs": [
    {
     "name": "stdout",
     "output_type": "stream",
     "text": [
      "Float64Index([1.0, 2.0, 3.0, 4.0, 5.0, 6.0], dtype='float64')\n",
      "1     469\n",
      "2    2936\n",
      "3    1770\n",
      "4    1140\n",
      "5    2050\n",
      "6    8629\n",
      "Name: COLE_VALOR_PENSION, dtype: int64\n",
      "Elementos null/NaN 57133\n",
      "__________________\n",
      "Elementos diferentes de null/NaN: 16994\n",
      "__________________\n",
      "(16994,)\n",
      "None\n"
     ]
    }
   ],
   "source": [
    "c = 'COLE_VALOR_PENSION'\n",
    "print(data_2016_1_V2[c].value_counts().sort_index().index)\n",
    "print(data_2016_1_V2[c].value_counts().sort_index())\n",
    "print(missing_data(data_2016_1_V2[c]))"
   ]
  },
  {
   "cell_type": "code",
   "execution_count": 194,
   "metadata": {
    "collapsed": false
   },
   "outputs": [
    {
     "name": "stdout",
     "output_type": "stream",
     "text": [
      "cant null antes: 57133\n",
      "cant null despues: 0\n"
     ]
    }
   ],
   "source": [
    "Do_resamples(data_2016_1_V2, c, float)"
   ]
  },
  {
   "cell_type": "code",
   "execution_count": 195,
   "metadata": {
    "collapsed": false
   },
   "outputs": [
    {
     "name": "stdout",
     "output_type": "stream",
     "text": [
      "Float64Index([0.0, 1.0, 2.0, 3.0, 4.0], dtype='float64')\n",
      "0        1\n",
      "1    16665\n",
      "2      293\n",
      "3       20\n",
      "4       15\n",
      "Name: ESTU_VECES_ESTADO_ESTUDIANTIL, dtype: int64\n",
      "Elementos null/NaN 57133\n",
      "__________________\n",
      "Elementos diferentes de null/NaN: 16994\n",
      "__________________\n",
      "(16994,)\n",
      "None\n"
     ]
    }
   ],
   "source": [
    "c = 'ESTU_VECES_ESTADO_ESTUDIANTIL'\n",
    "print(data_2016_1_V2[c].value_counts().sort_index().index)\n",
    "print(data_2016_1_V2[c].value_counts().sort_index())\n",
    "print(missing_data(data_2016_1_V2[c]))"
   ]
  },
  {
   "cell_type": "code",
   "execution_count": 196,
   "metadata": {
    "collapsed": false
   },
   "outputs": [
    {
     "name": "stdout",
     "output_type": "stream",
     "text": [
      "cant null antes: 57133\n",
      "cant null despues: 1\n",
      "cant null antes: 1\n",
      "cant null despues: 0\n"
     ]
    }
   ],
   "source": [
    "Do_resamples(data_2016_1_V2, c, float)"
   ]
  },
  {
   "cell_type": "code",
   "execution_count": 197,
   "metadata": {
    "collapsed": false,
    "scrolled": true
   },
   "outputs": [
    {
     "name": "stdout",
     "output_type": "stream",
     "text": [
      "Int64Index([ 5001,  5045,  5154,  5615,  5756,  8001,  8758, 11001, 13001,\n",
      "            13430, 15001, 15407, 15759, 17001, 17380, 18001, 18247, 19001,\n",
      "            19532, 19698, 20001, 20011, 23001, 23466, 25183, 25269, 25290,\n",
      "            25307, 25899, 27001, 27361, 41001, 41396, 44001, 44035, 44430,\n",
      "            47001, 50001, 50313, 52001, 52356, 52835, 52838, 54001, 54498,\n",
      "            54518, 63001, 66001, 68001, 68077, 68081, 68432, 68547, 68679,\n",
      "            70001, 73001, 73268, 76001, 76109, 76111, 76147, 76520, 76622,\n",
      "            76736, 76834, 81001, 81794, 85001, 85250, 86001, 86320, 86568,\n",
      "            86749, 88001, 91001, 94001, 95001, 97001, 99001],\n",
      "           dtype='int64')\n",
      "5001      2999\n",
      "5045       453\n",
      "5154       102\n",
      "5615       272\n",
      "5756        29\n",
      "8001      2135\n",
      "8758        11\n",
      "11001    16171\n",
      "13001     1050\n",
      "13430      104\n",
      "15001     1826\n",
      "15407      121\n",
      "15759     1552\n",
      "17001     1757\n",
      "17380      239\n",
      "18001      422\n",
      "18247       59\n",
      "19001     1750\n",
      "19532       67\n",
      "19698      508\n",
      "20001      871\n",
      "20011      227\n",
      "23001      553\n",
      "23466      100\n",
      "25183       27\n",
      "25269      579\n",
      "25290      169\n",
      "25307      273\n",
      "25899      904\n",
      "27001      367\n",
      "         ...  \n",
      "68077      170\n",
      "68081      339\n",
      "68432       51\n",
      "68547      413\n",
      "68679      190\n",
      "70001      420\n",
      "73001     1564\n",
      "73268      270\n",
      "76001    11071\n",
      "76109      353\n",
      "76111      623\n",
      "76147      278\n",
      "76520     1571\n",
      "76622      164\n",
      "76736       67\n",
      "76834      436\n",
      "81001      152\n",
      "81794       99\n",
      "85001      370\n",
      "85250       47\n",
      "86001      118\n",
      "86320       76\n",
      "86568      109\n",
      "86749       93\n",
      "88001       45\n",
      "91001       12\n",
      "94001        9\n",
      "95001       75\n",
      "97001        8\n",
      "99001       23\n",
      "Name: ESTU_COD_MCPIO_PRESENTACION, dtype: int64\n",
      "Elementos null/NaN 0\n",
      "__________________\n",
      "Elementos diferentes de null/NaN: 74127\n",
      "__________________\n",
      "(74127,)\n",
      "None\n"
     ]
    }
   ],
   "source": [
    "c = 'ESTU_COD_MCPIO_PRESENTACION'\n",
    "print(data_2016_1_V2[c].value_counts().sort_index().index)\n",
    "print(data_2016_1_V2[c].value_counts().sort_index())\n",
    "print(missing_data(data_2016_1_V2[c]))"
   ]
  },
  {
   "cell_type": "code",
   "execution_count": 198,
   "metadata": {
    "collapsed": true
   },
   "outputs": [],
   "source": [
    "data_2016_1_V2 = data_2016_1_V2.drop(c, axis=1)"
   ]
  },
  {
   "cell_type": "code",
   "execution_count": 199,
   "metadata": {
    "collapsed": false,
    "scrolled": true
   },
   "outputs": [
    {
     "name": "stdout",
     "output_type": "stream",
     "text": [
      "Index(['AGUACHICA', 'ALBANIA', 'APARTADO', 'ARAUCA', 'ARMENIA', 'BARBOSA',\n",
      "       'BARRANCABERMEJA', 'BARRANQUILLA', 'BOGOTÁ D.C.', 'BUCARAMANGA',\n",
      "       'BUENAVENTURA', 'BUGA', 'CALI', 'CARTAGENA', 'CARTAGO', 'CAUCASIA',\n",
      "       'CHOCONTA', 'CUCUTA', 'EL DONCELLO', 'ESPINAL', 'FACATATIVA',\n",
      "       'FLORENCIA', 'FUSAGASUGA', 'GIRARDOT', 'GRANADA', 'IBAGUE', 'INIRIDA',\n",
      "       'IPIALES', 'ISTMINA', 'LA DORADA', 'LA PLATA', 'LETICIA', 'MAGANGUE',\n",
      "       'MAICAO', 'MALAGA', 'MANIZALES', 'MEDELLIN', 'MITU', 'MOCOA',\n",
      "       'MONTELIBANO', 'MONTERIA', 'NEIVA', 'OCAÑA', 'ORITO', 'PALMIRA',\n",
      "       'PAMPLONA', 'PASTO', 'PATIA(EL BORDO)', 'PAZ DE ARIPORO', 'PEREIRA',\n",
      "       'PIEDECUESTA', 'POPAYAN', 'PUERTO ASIS', 'PUERTO CARREÑO', 'QUIBDO',\n",
      "       'RIOHACHA', 'RIONEGRO', 'ROLDANILLO', 'SAN ANDRES', 'SAN GIL',\n",
      "       'SAN JOSE DEL GUAVIARE', 'SANTA MARTA', 'SANTANDER DE QUILICHAO',\n",
      "       'SEVILLA', 'SIBUNDOY', 'SINCELEJO', 'SOGAMOSO', 'SOLEDAD', 'SONSON',\n",
      "       'TAME', 'TULUA', 'TUMACO', 'TUNJA', 'TUQUERRES', 'VALLEDUPAR',\n",
      "       'VILLA DE LEYVA', 'VILLAVICENCIO', 'YOPAL', 'ZIPAQUIRA'],\n",
      "      dtype='object')\n",
      "AGUACHICA                   227\n",
      "ALBANIA                      92\n",
      "APARTADO                    453\n",
      "ARAUCA                      152\n",
      "ARMENIA                     902\n",
      "BARBOSA                     170\n",
      "BARRANCABERMEJA             339\n",
      "BARRANQUILLA               2135\n",
      "BOGOTÁ D.C.               16171\n",
      "BUCARAMANGA                3653\n",
      "BUENAVENTURA                353\n",
      "BUGA                        623\n",
      "CALI                      11071\n",
      "CARTAGENA                  1050\n",
      "CARTAGO                     278\n",
      "CAUCASIA                    102\n",
      "CHOCONTA                     27\n",
      "CUCUTA                     1235\n",
      "EL DONCELLO                  59\n",
      "ESPINAL                     270\n",
      "FACATATIVA                  579\n",
      "FLORENCIA                   422\n",
      "FUSAGASUGA                  169\n",
      "GIRARDOT                    273\n",
      "GRANADA                     107\n",
      "IBAGUE                     1564\n",
      "INIRIDA                       9\n",
      "IPIALES                     913\n",
      "ISTMINA                      22\n",
      "LA DORADA                   239\n",
      "                          ...  \n",
      "PEREIRA                    1410\n",
      "PIEDECUESTA                 413\n",
      "POPAYAN                    1750\n",
      "PUERTO ASIS                 109\n",
      "PUERTO CARREÑO               23\n",
      "QUIBDO                      367\n",
      "RIOHACHA                    263\n",
      "RIONEGRO                    272\n",
      "ROLDANILLO                  164\n",
      "SAN ANDRES                   45\n",
      "SAN GIL                     190\n",
      "SAN JOSE DEL GUAVIARE        75\n",
      "SANTA MARTA                 482\n",
      "SANTANDER DE QUILICHAO      508\n",
      "SEVILLA                      67\n",
      "SIBUNDOY                     93\n",
      "SINCELEJO                   420\n",
      "SOGAMOSO                   1552\n",
      "SOLEDAD                      11\n",
      "SONSON                       29\n",
      "TAME                         99\n",
      "TULUA                       436\n",
      "TUMACO                      131\n",
      "TUNJA                      1826\n",
      "TUQUERRES                   244\n",
      "VALLEDUPAR                  871\n",
      "VILLA DE LEYVA              121\n",
      "VILLAVICENCIO              1260\n",
      "YOPAL                       370\n",
      "ZIPAQUIRA                   904\n",
      "Name: ESTU_MCPIO_PRESENTACION, dtype: int64\n",
      "Elementos null/NaN 0\n",
      "__________________\n",
      "Elementos diferentes de null/NaN: 74127\n",
      "__________________\n",
      "(74127,)\n",
      "None\n"
     ]
    }
   ],
   "source": [
    "c = 'ESTU_MCPIO_PRESENTACION'\n",
    "print(data_2016_1_V2[c].value_counts().sort_index().index)\n",
    "print(data_2016_1_V2[c].value_counts().sort_index())\n",
    "print(missing_data(data_2016_1_V2[c]))"
   ]
  },
  {
   "cell_type": "code",
   "execution_count": 200,
   "metadata": {
    "collapsed": false,
    "scrolled": true
   },
   "outputs": [
    {
     "name": "stdout",
     "output_type": "stream",
     "text": [
      "Index(['AMAZONAS', 'ANTIOQUIA', 'ARAUCA', 'ATLANTICO', 'BOGOTA', 'BOLIVAR',\n",
      "       'BOYACA', 'CALDAS', 'CAQUETA', 'CASANARE', 'CAUCA', 'CESAR', 'CHOCO',\n",
      "       'CORDOBA', 'CUNDINAMARCA', 'GUAINIA', 'GUAVIARE', 'HUILA', 'LA GUAJIRA',\n",
      "       'MAGDALENA', 'META', 'NARIÑO', 'NORTE SANTANDER', 'PUTUMAYO', 'QUINDIO',\n",
      "       'RISARALDA', 'SAN ANDRES', 'SANTANDER', 'SUCRE', 'TOLIMA', 'VALLE',\n",
      "       'VAUPES', 'VICHADA'],\n",
      "      dtype='object')\n",
      "AMAZONAS              12\n",
      "ANTIOQUIA           3855\n",
      "ARAUCA               251\n",
      "ATLANTICO           2146\n",
      "BOGOTA             16171\n",
      "BOLIVAR             1154\n",
      "BOYACA              3499\n",
      "CALDAS              1996\n",
      "CAQUETA              481\n",
      "CASANARE             417\n",
      "CAUCA               2325\n",
      "CESAR               1098\n",
      "CHOCO                389\n",
      "CORDOBA              653\n",
      "CUNDINAMARCA        1952\n",
      "GUAINIA                9\n",
      "GUAVIARE              75\n",
      "HUILA               2990\n",
      "LA GUAJIRA           462\n",
      "MAGDALENA            482\n",
      "META                1367\n",
      "NARIÑO              6280\n",
      "NORTE SANTANDER     1646\n",
      "PUTUMAYO             396\n",
      "QUINDIO              902\n",
      "RISARALDA           1410\n",
      "SAN ANDRES            45\n",
      "SANTANDER           4816\n",
      "SUCRE                420\n",
      "TOLIMA              1834\n",
      "VALLE              14563\n",
      "VAUPES                 8\n",
      "VICHADA               23\n",
      "Name: ESTU_DEPTO_PRESENTACION, dtype: int64\n",
      "Elementos null/NaN 0\n",
      "__________________\n",
      "Elementos diferentes de null/NaN: 74127\n",
      "__________________\n",
      "(74127,)\n",
      "None\n"
     ]
    }
   ],
   "source": [
    "c = 'ESTU_DEPTO_PRESENTACION'\n",
    "print(data_2016_1_V2[c].value_counts().sort_index().index)\n",
    "print(data_2016_1_V2[c].value_counts().sort_index())\n",
    "print(missing_data(data_2016_1_V2[c]))"
   ]
  },
  {
   "cell_type": "code",
   "execution_count": 201,
   "metadata": {
    "collapsed": false,
    "scrolled": true
   },
   "outputs": [
    {
     "name": "stdout",
     "output_type": "stream",
     "text": [
      "Int64Index([ 5,  8, 11, 13, 15, 17, 18, 19, 20, 23, 25, 27, 41, 44, 47, 50, 52,\n",
      "            54, 63, 66, 68, 70, 73, 76, 81, 85, 86, 88, 91, 94, 95, 97, 99],\n",
      "           dtype='int64')\n",
      "5      3855\n",
      "8      2146\n",
      "11    16171\n",
      "13     1154\n",
      "15     3499\n",
      "17     1996\n",
      "18      481\n",
      "19     2325\n",
      "20     1098\n",
      "23      653\n",
      "25     1952\n",
      "27      389\n",
      "41     2990\n",
      "44      462\n",
      "47      482\n",
      "50     1367\n",
      "52     6280\n",
      "54     1646\n",
      "63      902\n",
      "66     1410\n",
      "68     4816\n",
      "70      420\n",
      "73     1834\n",
      "76    14563\n",
      "81      251\n",
      "85      417\n",
      "86      396\n",
      "88       45\n",
      "91       12\n",
      "94        9\n",
      "95       75\n",
      "97        8\n",
      "99       23\n",
      "Name: ESTU_COD_DEPTO_PRESENTACION, dtype: int64\n",
      "Elementos null/NaN 0\n",
      "__________________\n",
      "Elementos diferentes de null/NaN: 74127\n",
      "__________________\n",
      "(74127,)\n",
      "None\n"
     ]
    }
   ],
   "source": [
    "c = 'ESTU_COD_DEPTO_PRESENTACION'\n",
    "print(data_2016_1_V2[c].value_counts().sort_index().index)\n",
    "print(data_2016_1_V2[c].value_counts().sort_index())\n",
    "print(missing_data(data_2016_1_V2[c]))"
   ]
  },
  {
   "cell_type": "code",
   "execution_count": 202,
   "metadata": {
    "collapsed": true
   },
   "outputs": [],
   "source": [
    "data_2016_1_V2 = data_2016_1_V2.drop(c, axis=1)"
   ]
  },
  {
   "cell_type": "code",
   "execution_count": 203,
   "metadata": {
    "collapsed": false,
    "scrolled": true
   },
   "outputs": [
    {
     "name": "stdout",
     "output_type": "stream",
     "text": [
      "Float64Index([1.0, 2.0, 3.0, 4.0, 5.0, 6.0, 7.0, 8.0, 9.0, 10.0, 11.0], dtype='float64')\n",
      "1      3104\n",
      "2     10802\n",
      "3      8547\n",
      "4      8036\n",
      "5     16448\n",
      "6      1260\n",
      "7      5124\n",
      "8      1381\n",
      "9     10529\n",
      "10     4776\n",
      "11     2385\n",
      "Name: FAMI_EDUCA_PADRE, dtype: int64\n",
      "Elementos null/NaN 1735\n",
      "__________________\n",
      "Elementos diferentes de null/NaN: 72392\n",
      "__________________\n",
      "(72392,)\n",
      "None\n"
     ]
    }
   ],
   "source": [
    "c = 'FAMI_EDUCA_PADRE'\n",
    "print(data_2016_1_V2[c].value_counts().sort_index().index)\n",
    "print(data_2016_1_V2[c].value_counts().sort_index())\n",
    "print(missing_data(data_2016_1_V2[c]))"
   ]
  },
  {
   "cell_type": "code",
   "execution_count": 204,
   "metadata": {
    "collapsed": false
   },
   "outputs": [
    {
     "name": "stdout",
     "output_type": "stream",
     "text": [
      "cant null antes: 1735\n",
      "cant null despues: 1\n",
      "cant null antes: 1\n",
      "cant null despues: 0\n"
     ]
    }
   ],
   "source": [
    "Do_resamples(data_2016_1_V2, c, float)"
   ]
  },
  {
   "cell_type": "code",
   "execution_count": 205,
   "metadata": {
    "collapsed": false
   },
   "outputs": [
    {
     "name": "stdout",
     "output_type": "stream",
     "text": [
      "Float64Index([1.0, 2.0, 3.0, 4.0, 5.0, 6.0, 7.0, 8.0, 9.0, 10.0, 11.0], dtype='float64')\n",
      "1      1584\n",
      "2      9089\n",
      "3      8126\n",
      "4      8944\n",
      "5     18108\n",
      "6      1685\n",
      "7      7169\n",
      "8      1586\n",
      "9     11077\n",
      "10     4376\n",
      "11      648\n",
      "Name: FAMI_EDUCA_MADRE, dtype: int64\n",
      "Elementos null/NaN 1735\n",
      "__________________\n",
      "Elementos diferentes de null/NaN: 72392\n",
      "__________________\n",
      "(72392,)\n",
      "None\n"
     ]
    }
   ],
   "source": [
    "c = 'FAMI_EDUCA_MADRE'\n",
    "print(data_2016_1_V2[c].value_counts().sort_index().index)\n",
    "print(data_2016_1_V2[c].value_counts().sort_index())\n",
    "print(missing_data(data_2016_1_V2[c]))"
   ]
  },
  {
   "cell_type": "code",
   "execution_count": 206,
   "metadata": {
    "collapsed": false
   },
   "outputs": [
    {
     "name": "stdout",
     "output_type": "stream",
     "text": [
      "cant null antes: 1735\n",
      "cant null despues: 0\n"
     ]
    }
   ],
   "source": [
    "Do_resamples(data_2016_1_V2, c, float)"
   ]
  },
  {
   "cell_type": "code",
   "execution_count": 207,
   "metadata": {
    "collapsed": false
   },
   "outputs": [
    {
     "name": "stdout",
     "output_type": "stream",
     "text": [
      "Float64Index([1.0, 2.0, 3.0, 4.0, 5.0, 6.0, 7.0, 8.0, 9.0, 10.0, 11.0, 12.0], dtype='float64')\n",
      "1      3131\n",
      "2      1913\n",
      "3      2498\n",
      "4      1075\n",
      "5      7002\n",
      "6      1534\n",
      "7     12049\n",
      "8      3767\n",
      "9     23341\n",
      "10     1356\n",
      "11     4038\n",
      "12    10688\n",
      "Name: FAMI_OCUPA_PADRE, dtype: int64\n",
      "Elementos null/NaN 1735\n",
      "__________________\n",
      "Elementos diferentes de null/NaN: 72392\n",
      "__________________\n",
      "(72392,)\n",
      "None\n"
     ]
    }
   ],
   "source": [
    "c = 'FAMI_OCUPA_PADRE'\n",
    "print(data_2016_1_V2[c].value_counts().sort_index().index)\n",
    "print(data_2016_1_V2[c].value_counts().sort_index())\n",
    "print(missing_data(data_2016_1_V2[c]))"
   ]
  },
  {
   "cell_type": "code",
   "execution_count": 208,
   "metadata": {
    "collapsed": false
   },
   "outputs": [
    {
     "name": "stdout",
     "output_type": "stream",
     "text": [
      "cant null antes: 1735\n",
      "cant null despues: 0\n"
     ]
    }
   ],
   "source": [
    "Do_resamples(data_2016_1_V2, c, float)"
   ]
  },
  {
   "cell_type": "code",
   "execution_count": 209,
   "metadata": {
    "collapsed": false
   },
   "outputs": [
    {
     "name": "stdout",
     "output_type": "stream",
     "text": [
      "Float64Index([1.0, 2.0, 3.0, 4.0, 5.0, 6.0, 7.0, 8.0, 9.0, 10.0, 11.0, 12.0], dtype='float64')\n",
      "1      1434\n",
      "2      1819\n",
      "3      1501\n",
      "4      1422\n",
      "5      6654\n",
      "6      4213\n",
      "7      4103\n",
      "8      3572\n",
      "9      8902\n",
      "10    31645\n",
      "11     1537\n",
      "12     5590\n",
      "Name: FAMI_OCUPA_MADRE, dtype: int64\n",
      "Elementos null/NaN 1735\n",
      "__________________\n",
      "Elementos diferentes de null/NaN: 72392\n",
      "__________________\n",
      "(72392,)\n",
      "None\n"
     ]
    }
   ],
   "source": [
    "c = 'FAMI_OCUPA_MADRE'\n",
    "print(data_2016_1_V2[c].value_counts().sort_index().index)\n",
    "print(data_2016_1_V2[c].value_counts().sort_index())\n",
    "print(missing_data(data_2016_1_V2[c]))"
   ]
  },
  {
   "cell_type": "code",
   "execution_count": 210,
   "metadata": {
    "collapsed": false
   },
   "outputs": [
    {
     "name": "stdout",
     "output_type": "stream",
     "text": [
      "cant null antes: 1735\n",
      "cant null despues: 1\n",
      "cant null antes: 1\n",
      "cant null despues: 0\n"
     ]
    }
   ],
   "source": [
    "Do_resamples(data_2016_1_V2, c, float)"
   ]
  },
  {
   "cell_type": "code",
   "execution_count": 211,
   "metadata": {
    "collapsed": false
   },
   "outputs": [
    {
     "name": "stdout",
     "output_type": "stream",
     "text": [
      "Float64Index([0.0, 1.0, 2.0, 3.0, 4.0, 5.0, 6.0, 7.0, 8.0, 9.0, 10.0], dtype='float64')\n",
      "0      6858\n",
      "1     21835\n",
      "2     19554\n",
      "3     10682\n",
      "4      5725\n",
      "5      3181\n",
      "6      1683\n",
      "7      1094\n",
      "8       643\n",
      "9       446\n",
      "10      691\n",
      "Name: FAMI_NUM_HERMANOS, dtype: int64\n",
      "Elementos null/NaN 1735\n",
      "__________________\n",
      "Elementos diferentes de null/NaN: 72392\n",
      "__________________\n",
      "(72392,)\n",
      "None\n"
     ]
    }
   ],
   "source": [
    "c = 'FAMI_NUM_HERMANOS'\n",
    "print(data_2016_1_V2[c].value_counts().sort_index().index)\n",
    "print(data_2016_1_V2[c].value_counts().sort_index())\n",
    "print(missing_data(data_2016_1_V2[c]))"
   ]
  },
  {
   "cell_type": "code",
   "execution_count": 212,
   "metadata": {
    "collapsed": false
   },
   "outputs": [
    {
     "name": "stdout",
     "output_type": "stream",
     "text": [
      "cant null antes: 1735\n",
      "cant null despues: 1\n",
      "cant null antes: 1\n",
      "cant null despues: 0\n"
     ]
    }
   ],
   "source": [
    "Do_resamples(data_2016_1_V2, c, float)"
   ]
  },
  {
   "cell_type": "code",
   "execution_count": 213,
   "metadata": {
    "collapsed": false
   },
   "outputs": [
    {
     "name": "stdout",
     "output_type": "stream",
     "text": [
      "Float64Index([1.0, 2.0, 3.0, 4.0, 5.0, 6.0], dtype='float64')\n",
      "1    18507\n",
      "2    26092\n",
      "3    17019\n",
      "4     5896\n",
      "5     3438\n",
      "6     3052\n",
      "Name: FAMI_ESTRATO_VIVIENDA, dtype: int64\n",
      "Elementos null/NaN 123\n",
      "__________________\n",
      "Elementos diferentes de null/NaN: 74004\n",
      "__________________\n",
      "(74004,)\n",
      "None\n"
     ]
    }
   ],
   "source": [
    "c = 'FAMI_ESTRATO_VIVIENDA'\n",
    "print(data_2016_1_V2[c].value_counts().sort_index().index)\n",
    "print(data_2016_1_V2[c].value_counts().sort_index())\n",
    "print(missing_data(data_2016_1_V2[c]))"
   ]
  },
  {
   "cell_type": "code",
   "execution_count": 214,
   "metadata": {
    "collapsed": false
   },
   "outputs": [
    {
     "name": "stdout",
     "output_type": "stream",
     "text": [
      "cant null antes: 123\n",
      "cant null despues: 0\n"
     ]
    }
   ],
   "source": [
    "Do_resamples(data_2016_1_V2, c, float)"
   ]
  },
  {
   "cell_type": "code",
   "execution_count": 215,
   "metadata": {
    "collapsed": false
   },
   "outputs": [
    {
     "name": "stdout",
     "output_type": "stream",
     "text": [
      "Float64Index([1.0, 2.0, 3.0, 4.0, 5.0], dtype='float64')\n",
      "1    25306\n",
      "2    13923\n",
      "3     2488\n",
      "4      857\n",
      "5    29818\n",
      "Name: FAMI_NIVEL_SISBEN, dtype: int64\n",
      "Elementos null/NaN 1735\n",
      "__________________\n",
      "Elementos diferentes de null/NaN: 72392\n",
      "__________________\n",
      "(72392,)\n",
      "None\n"
     ]
    }
   ],
   "source": [
    "c = 'FAMI_NIVEL_SISBEN'\n",
    "print(data_2016_1_V2[c].value_counts().sort_index().index)\n",
    "print(data_2016_1_V2[c].value_counts().sort_index())\n",
    "print(missing_data(data_2016_1_V2[c]))"
   ]
  },
  {
   "cell_type": "code",
   "execution_count": 216,
   "metadata": {
    "collapsed": false
   },
   "outputs": [
    {
     "name": "stdout",
     "output_type": "stream",
     "text": [
      "cant null antes: 1735\n",
      "cant null despues: 0\n"
     ]
    }
   ],
   "source": [
    "Do_resamples(data_2016_1_V2, c, float)"
   ]
  },
  {
   "cell_type": "code",
   "execution_count": 217,
   "metadata": {
    "collapsed": false
   },
   "outputs": [
    {
     "name": "stdout",
     "output_type": "stream",
     "text": [
      "Float64Index([1.0, 2.0, 3.0, 4.0, 5.0, 6.0, 7.0, 8.0, 9.0, 10.0, 11.0, 12.0], dtype='float64')\n",
      "1       941\n",
      "2      5964\n",
      "3     16309\n",
      "4     23817\n",
      "5     14602\n",
      "6      5894\n",
      "7      2483\n",
      "8      1265\n",
      "9       432\n",
      "10      321\n",
      "11      106\n",
      "12      258\n",
      "Name: FAMI_PERSONAS_HOGAR, dtype: int64\n",
      "Elementos null/NaN 1735\n",
      "__________________\n",
      "Elementos diferentes de null/NaN: 72392\n",
      "__________________\n",
      "(72392,)\n",
      "None\n"
     ]
    }
   ],
   "source": [
    "c = 'FAMI_PERSONAS_HOGAR'\n",
    "print(data_2016_1_V2[c].value_counts().sort_index().index)\n",
    "print(data_2016_1_V2[c].value_counts().sort_index())\n",
    "print(missing_data(data_2016_1_V2[c]))"
   ]
  },
  {
   "cell_type": "code",
   "execution_count": 218,
   "metadata": {
    "collapsed": false
   },
   "outputs": [
    {
     "name": "stdout",
     "output_type": "stream",
     "text": [
      "cant null antes: 1735\n",
      "cant null despues: 0\n"
     ]
    }
   ],
   "source": [
    "Do_resamples(data_2016_1_V2, c, float)"
   ]
  },
  {
   "cell_type": "code",
   "execution_count": 219,
   "metadata": {
    "collapsed": false
   },
   "outputs": [
    {
     "name": "stdout",
     "output_type": "stream",
     "text": [
      "Float64Index([1.0, 2.0, 3.0, 4.0, 5.0, 6.0, 7.0, 8.0, 9.0, 10.0], dtype='float64')\n",
      "1      3955\n",
      "2     23847\n",
      "3     31188\n",
      "4      9850\n",
      "5      2449\n",
      "6       676\n",
      "7       233\n",
      "8        93\n",
      "9        36\n",
      "10       65\n",
      "Name: FAMI_CUARTOS_HOGAR, dtype: int64\n",
      "Elementos null/NaN 1735\n",
      "__________________\n",
      "Elementos diferentes de null/NaN: 72392\n",
      "__________________\n",
      "(72392,)\n",
      "None\n"
     ]
    }
   ],
   "source": [
    "c = 'FAMI_CUARTOS_HOGAR'\n",
    "print(data_2016_1_V2[c].value_counts().sort_index().index)\n",
    "print(data_2016_1_V2[c].value_counts().sort_index())\n",
    "print(missing_data(data_2016_1_V2[c]))"
   ]
  },
  {
   "cell_type": "code",
   "execution_count": 220,
   "metadata": {
    "collapsed": false
   },
   "outputs": [
    {
     "name": "stdout",
     "output_type": "stream",
     "text": [
      "cant null antes: 1735\n",
      "cant null despues: 0\n"
     ]
    }
   ],
   "source": [
    "Do_resamples(data_2016_1_V2, c, float)"
   ]
  },
  {
   "cell_type": "code",
   "execution_count": 221,
   "metadata": {
    "collapsed": false
   },
   "outputs": [
    {
     "name": "stdout",
     "output_type": "stream",
     "text": [
      "Float64Index([1.0, 2.0, 3.0, 4.0], dtype='float64')\n",
      "1     1922\n",
      "2    25806\n",
      "3     4560\n",
      "4    40104\n",
      "Name: FAMI_PISOSHOGAR, dtype: int64\n",
      "Elementos null/NaN 1735\n",
      "__________________\n",
      "Elementos diferentes de null/NaN: 72392\n",
      "__________________\n",
      "(72392,)\n",
      "None\n"
     ]
    }
   ],
   "source": [
    "c = 'FAMI_PISOSHOGAR'\n",
    "print(data_2016_1_V2[c].value_counts().sort_index().index)\n",
    "print(data_2016_1_V2[c].value_counts().sort_index())\n",
    "print(missing_data(data_2016_1_V2[c]))"
   ]
  },
  {
   "cell_type": "code",
   "execution_count": 222,
   "metadata": {
    "collapsed": false
   },
   "outputs": [
    {
     "name": "stdout",
     "output_type": "stream",
     "text": [
      "cant null antes: 1735\n",
      "cant null despues: 1\n",
      "cant null antes: 1\n",
      "cant null despues: 0\n"
     ]
    }
   ],
   "source": [
    "Do_resamples(data_2016_1_V2, c, float)"
   ]
  },
  {
   "cell_type": "code",
   "execution_count": 223,
   "metadata": {
    "collapsed": false
   },
   "outputs": [
    {
     "name": "stdout",
     "output_type": "stream",
     "text": [
      "Index(['N', 'S'], dtype='object')\n",
      "N    31712\n",
      "S    40680\n",
      "Name: FAMI_TELEFONO_FIJO, dtype: int64\n",
      "Elementos null/NaN 1735\n",
      "__________________\n",
      "Elementos diferentes de null/NaN: 72392\n",
      "__________________\n",
      "(72392,)\n",
      "None\n"
     ]
    }
   ],
   "source": [
    "c = 'FAMI_TELEFONO_FIJO'\n",
    "print(data_2016_1_V2[c].value_counts().sort_index().index)\n",
    "print(data_2016_1_V2[c].value_counts().sort_index())\n",
    "print(missing_data(data_2016_1_V2[c]))"
   ]
  },
  {
   "cell_type": "code",
   "execution_count": 224,
   "metadata": {
    "collapsed": false
   },
   "outputs": [
    {
     "name": "stdout",
     "output_type": "stream",
     "text": [
      "cant null antes: 1735\n",
      "cant null despues: 0\n"
     ]
    }
   ],
   "source": [
    "Do_resamples(data_2016_1_V2, c, str)"
   ]
  },
  {
   "cell_type": "code",
   "execution_count": 225,
   "metadata": {
    "collapsed": false
   },
   "outputs": [
    {
     "name": "stdout",
     "output_type": "stream",
     "text": [
      "Index(['N', 'S'], dtype='object')\n",
      "N    23972\n",
      "S    48420\n",
      "Name: FAMI_INTERNET, dtype: int64\n",
      "Elementos null/NaN 1735\n",
      "__________________\n",
      "Elementos diferentes de null/NaN: 72392\n",
      "__________________\n",
      "(72392,)\n",
      "None\n"
     ]
    }
   ],
   "source": [
    "c = 'FAMI_INTERNET'\n",
    "print(data_2016_1_V2[c].value_counts().sort_index().index)\n",
    "print(data_2016_1_V2[c].value_counts().sort_index())\n",
    "print(missing_data(data_2016_1_V2[c]))"
   ]
  },
  {
   "cell_type": "code",
   "execution_count": 226,
   "metadata": {
    "collapsed": false
   },
   "outputs": [
    {
     "name": "stdout",
     "output_type": "stream",
     "text": [
      "cant null antes: 1735\n",
      "cant null despues: 0\n"
     ]
    }
   ],
   "source": [
    "Do_resamples(data_2016_1_V2, c, str)"
   ]
  },
  {
   "cell_type": "code",
   "execution_count": 227,
   "metadata": {
    "collapsed": false
   },
   "outputs": [
    {
     "name": "stdout",
     "output_type": "stream",
     "text": [
      "Index(['N', 'S'], dtype='object')\n",
      "N    18522\n",
      "S    53870\n",
      "Name: FAMI_SERVICIO_TELEVISION, dtype: int64\n",
      "Elementos null/NaN 1735\n",
      "__________________\n",
      "Elementos diferentes de null/NaN: 72392\n",
      "__________________\n",
      "(72392,)\n",
      "None\n"
     ]
    }
   ],
   "source": [
    "c = 'FAMI_SERVICIO_TELEVISION'\n",
    "print(data_2016_1_V2[c].value_counts().sort_index().index)\n",
    "print(data_2016_1_V2[c].value_counts().sort_index())\n",
    "print(missing_data(data_2016_1_V2[c]))"
   ]
  },
  {
   "cell_type": "code",
   "execution_count": 228,
   "metadata": {
    "collapsed": false
   },
   "outputs": [
    {
     "name": "stdout",
     "output_type": "stream",
     "text": [
      "cant null antes: 1735\n",
      "cant null despues: 0\n"
     ]
    }
   ],
   "source": [
    "Do_resamples(data_2016_1_V2, c, str)"
   ]
  },
  {
   "cell_type": "code",
   "execution_count": 229,
   "metadata": {
    "collapsed": false
   },
   "outputs": [
    {
     "name": "stdout",
     "output_type": "stream",
     "text": [
      "Index(['N', 'S'], dtype='object')\n",
      "N    19007\n",
      "S    53385\n",
      "Name: FAMI_COMPUTADOR, dtype: int64\n",
      "Elementos null/NaN 1735\n",
      "__________________\n",
      "Elementos diferentes de null/NaN: 72392\n",
      "__________________\n",
      "(72392,)\n",
      "None\n"
     ]
    }
   ],
   "source": [
    "c = 'FAMI_COMPUTADOR'\n",
    "print(data_2016_1_V2[c].value_counts().sort_index().index)\n",
    "print(data_2016_1_V2[c].value_counts().sort_index())\n",
    "print(missing_data(data_2016_1_V2[c]))"
   ]
  },
  {
   "cell_type": "code",
   "execution_count": 230,
   "metadata": {
    "collapsed": false
   },
   "outputs": [
    {
     "name": "stdout",
     "output_type": "stream",
     "text": [
      "cant null antes: 1735\n",
      "cant null despues: 0\n"
     ]
    }
   ],
   "source": [
    "Do_resamples(data_2016_1_V2, c, str)"
   ]
  },
  {
   "cell_type": "code",
   "execution_count": 231,
   "metadata": {
    "collapsed": false
   },
   "outputs": [
    {
     "name": "stdout",
     "output_type": "stream",
     "text": [
      "Index(['N', 'S'], dtype='object')\n",
      "N    27263\n",
      "S    45129\n",
      "Name: FAMI_DVD, dtype: int64\n",
      "Elementos null/NaN 1735\n",
      "__________________\n",
      "Elementos diferentes de null/NaN: 72392\n",
      "__________________\n",
      "(72392,)\n",
      "None\n"
     ]
    }
   ],
   "source": [
    "c = 'FAMI_DVD'\n",
    "print(data_2016_1_V2[c].value_counts().sort_index().index)\n",
    "print(data_2016_1_V2[c].value_counts().sort_index())\n",
    "print(missing_data(data_2016_1_V2[c]))"
   ]
  },
  {
   "cell_type": "code",
   "execution_count": 232,
   "metadata": {
    "collapsed": false
   },
   "outputs": [
    {
     "name": "stdout",
     "output_type": "stream",
     "text": [
      "cant null antes: 1735\n",
      "cant null despues: 0\n"
     ]
    }
   ],
   "source": [
    "Do_resamples(data_2016_1_V2, c, str)"
   ]
  },
  {
   "cell_type": "code",
   "execution_count": 233,
   "metadata": {
    "collapsed": false
   },
   "outputs": [
    {
     "name": "stdout",
     "output_type": "stream",
     "text": [
      "Index(['N', 'S'], dtype='object')\n",
      "N    18769\n",
      "S    53623\n",
      "Name: FAMI_LAVADORA, dtype: int64\n",
      "Elementos null/NaN 1735\n",
      "__________________\n",
      "Elementos diferentes de null/NaN: 72392\n",
      "__________________\n",
      "(72392,)\n",
      "None\n"
     ]
    }
   ],
   "source": [
    "c = 'FAMI_LAVADORA'\n",
    "print(data_2016_1_V2[c].value_counts().sort_index().index)\n",
    "print(data_2016_1_V2[c].value_counts().sort_index())\n",
    "print(missing_data(data_2016_1_V2[c]))"
   ]
  },
  {
   "cell_type": "code",
   "execution_count": 234,
   "metadata": {
    "collapsed": false
   },
   "outputs": [
    {
     "name": "stdout",
     "output_type": "stream",
     "text": [
      "cant null antes: 1735\n",
      "cant null despues: 0\n"
     ]
    }
   ],
   "source": [
    "Do_resamples(data_2016_1_V2, c, str)"
   ]
  },
  {
   "cell_type": "code",
   "execution_count": 235,
   "metadata": {
    "collapsed": false
   },
   "outputs": [
    {
     "name": "stdout",
     "output_type": "stream",
     "text": [
      "Index(['N', 'S'], dtype='object')\n",
      "N    45435\n",
      "S    26957\n",
      "Name: FAMI_MICROONDAS, dtype: int64\n",
      "Elementos null/NaN 1735\n",
      "__________________\n",
      "Elementos diferentes de null/NaN: 72392\n",
      "__________________\n",
      "(72392,)\n",
      "None\n"
     ]
    }
   ],
   "source": [
    "c = 'FAMI_MICROONDAS'\n",
    "print(data_2016_1_V2[c].value_counts().sort_index().index)\n",
    "print(data_2016_1_V2[c].value_counts().sort_index())\n",
    "print(missing_data(data_2016_1_V2[c]))"
   ]
  },
  {
   "cell_type": "code",
   "execution_count": 236,
   "metadata": {
    "collapsed": false
   },
   "outputs": [
    {
     "name": "stdout",
     "output_type": "stream",
     "text": [
      "cant null antes: 1735\n",
      "cant null despues: 0\n"
     ]
    }
   ],
   "source": [
    "Do_resamples(data_2016_1_V2, c, str)"
   ]
  },
  {
   "cell_type": "code",
   "execution_count": 237,
   "metadata": {
    "collapsed": false
   },
   "outputs": [
    {
     "name": "stdout",
     "output_type": "stream",
     "text": [
      "Index(['N', 'S'], dtype='object')\n",
      "N    49616\n",
      "S    22776\n",
      "Name: FAMI_AUTOMOVIL, dtype: int64\n",
      "Elementos null/NaN 1735\n",
      "__________________\n",
      "Elementos diferentes de null/NaN: 72392\n",
      "__________________\n",
      "(72392,)\n",
      "None\n"
     ]
    }
   ],
   "source": [
    "c = 'FAMI_AUTOMOVIL'\n",
    "print(data_2016_1_V2[c].value_counts().sort_index().index)\n",
    "print(data_2016_1_V2[c].value_counts().sort_index())\n",
    "print(missing_data(data_2016_1_V2[c]))"
   ]
  },
  {
   "cell_type": "code",
   "execution_count": 238,
   "metadata": {
    "collapsed": false
   },
   "outputs": [
    {
     "name": "stdout",
     "output_type": "stream",
     "text": [
      "cant null antes: 1735\n",
      "cant null despues: 0\n"
     ]
    }
   ],
   "source": [
    "Do_resamples(data_2016_1_V2, c, str)"
   ]
  },
  {
   "cell_type": "code",
   "execution_count": 239,
   "metadata": {
    "collapsed": false
   },
   "outputs": [
    {
     "name": "stdout",
     "output_type": "stream",
     "text": [
      "Index(['N', 'S'], dtype='object')\n",
      "N    38860\n",
      "S    33532\n",
      "Name: FAMI_HORNO, dtype: int64\n",
      "Elementos null/NaN 1735\n",
      "__________________\n",
      "Elementos diferentes de null/NaN: 72392\n",
      "__________________\n",
      "(72392,)\n",
      "None\n"
     ]
    }
   ],
   "source": [
    "c = 'FAMI_HORNO'\n",
    "print(data_2016_1_V2[c].value_counts().sort_index().index)\n",
    "print(data_2016_1_V2[c].value_counts().sort_index())\n",
    "print(missing_data(data_2016_1_V2[c]))"
   ]
  },
  {
   "cell_type": "code",
   "execution_count": 240,
   "metadata": {
    "collapsed": false
   },
   "outputs": [
    {
     "name": "stdout",
     "output_type": "stream",
     "text": [
      "cant null antes: 1735\n",
      "cant null despues: 0\n"
     ]
    }
   ],
   "source": [
    "Do_resamples(data_2016_1_V2, c, str)"
   ]
  },
  {
   "cell_type": "code",
   "execution_count": 241,
   "metadata": {
    "collapsed": false
   },
   "outputs": [
    {
     "name": "stdout",
     "output_type": "stream",
     "text": [
      "Float64Index([1.0, 2.0, 3.0, 4.0, 5.0, 6.0, 7.0], dtype='float64')\n",
      "1    10114\n",
      "2    30721\n",
      "3    14249\n",
      "4     7397\n",
      "5     2905\n",
      "6     2229\n",
      "7     4777\n",
      "Name: FAMI_INGRESO_FMILIAR_MENSUAL, dtype: int64\n",
      "Elementos null/NaN 1735\n",
      "__________________\n",
      "Elementos diferentes de null/NaN: 72392\n",
      "__________________\n",
      "(72392,)\n",
      "None\n"
     ]
    }
   ],
   "source": [
    "c = 'FAMI_INGRESO_FMILIAR_MENSUAL'\n",
    "print(data_2016_1_V2[c].value_counts().sort_index().index)\n",
    "print(data_2016_1_V2[c].value_counts().sort_index())\n",
    "print(missing_data(data_2016_1_V2[c]))"
   ]
  },
  {
   "cell_type": "code",
   "execution_count": 242,
   "metadata": {
    "collapsed": false
   },
   "outputs": [
    {
     "name": "stdout",
     "output_type": "stream",
     "text": [
      "cant null antes: 1735\n",
      "cant null despues: 1\n",
      "cant null antes: 1\n",
      "cant null despues: 0\n"
     ]
    }
   ],
   "source": [
    "Do_resamples(data_2016_1_V2, c, float)"
   ]
  },
  {
   "cell_type": "code",
   "execution_count": 243,
   "metadata": {
    "collapsed": false
   },
   "outputs": [
    {
     "name": "stdout",
     "output_type": "stream",
     "text": [
      "Float64Index([1.0, 2.0, 3.0], dtype='float64')\n",
      "1    15893\n",
      "2      542\n",
      "3      732\n",
      "Name: ESTU_TRABAJA, dtype: int64\n",
      "Elementos null/NaN 56960\n",
      "__________________\n",
      "Elementos diferentes de null/NaN: 17167\n",
      "__________________\n",
      "(17167,)\n",
      "None\n"
     ]
    }
   ],
   "source": [
    "c = 'ESTU_TRABAJA'\n",
    "print(data_2016_1_V2[c].value_counts().sort_index().index)\n",
    "print(data_2016_1_V2[c].value_counts().sort_index())\n",
    "print(missing_data(data_2016_1_V2[c]))"
   ]
  },
  {
   "cell_type": "code",
   "execution_count": 244,
   "metadata": {
    "collapsed": false
   },
   "outputs": [
    {
     "name": "stdout",
     "output_type": "stream",
     "text": [
      "cant null antes: 56960\n",
      "cant null despues: 0\n"
     ]
    }
   ],
   "source": [
    "Do_resamples(data_2016_1_V2, c, float)"
   ]
  },
  {
   "cell_type": "code",
   "execution_count": 245,
   "metadata": {
    "collapsed": false
   },
   "outputs": [
    {
     "name": "stdout",
     "output_type": "stream",
     "text": [
      "Index(['N', 'S'], dtype='object')\n",
      "N      51\n",
      "S    1205\n",
      "Name: ESTU_RECIBE_SALARIO, dtype: int64\n",
      "Elementos null/NaN 72871\n",
      "__________________\n",
      "Elementos diferentes de null/NaN: 1256\n",
      "__________________\n",
      "(1256,)\n",
      "None\n"
     ]
    }
   ],
   "source": [
    "c = 'ESTU_RECIBE_SALARIO'\n",
    "print(data_2016_1_V2[c].value_counts().sort_index().index)\n",
    "print(data_2016_1_V2[c].value_counts().sort_index())\n",
    "print(missing_data(data_2016_1_V2[c]))"
   ]
  },
  {
   "cell_type": "code",
   "execution_count": 246,
   "metadata": {
    "collapsed": false
   },
   "outputs": [
    {
     "name": "stdout",
     "output_type": "stream",
     "text": [
      "cant null antes: 72871\n",
      "cant null despues: 0\n"
     ]
    }
   ],
   "source": [
    "Do_resamples(data_2016_1_V2, c, str)"
   ]
  },
  {
   "cell_type": "code",
   "execution_count": 247,
   "metadata": {
    "collapsed": false
   },
   "outputs": [
    {
     "name": "stdout",
     "output_type": "stream",
     "text": [
      "Float64Index([1.0, 2.0, 3.0, 4.0], dtype='float64')\n",
      "1    22280\n",
      "2    24733\n",
      "3     5275\n",
      "4     2642\n",
      "Name: ESTU_VECES_ESTADO, dtype: int64\n",
      "Elementos null/NaN 19197\n",
      "__________________\n",
      "Elementos diferentes de null/NaN: 54930\n",
      "__________________\n",
      "(54930,)\n",
      "None\n"
     ]
    }
   ],
   "source": [
    "c = 'ESTU_VECES_ESTADO'\n",
    "print(data_2016_1_V2[c].value_counts().sort_index().index)\n",
    "print(data_2016_1_V2[c].value_counts().sort_index())\n",
    "print(missing_data(data_2016_1_V2[c]))"
   ]
  },
  {
   "cell_type": "code",
   "execution_count": 248,
   "metadata": {
    "collapsed": false
   },
   "outputs": [
    {
     "name": "stdout",
     "output_type": "stream",
     "text": [
      "cant null antes: 19197\n",
      "cant null despues: 0\n"
     ]
    }
   ],
   "source": [
    "Do_resamples(data_2016_1_V2, c, float)"
   ]
  },
  {
   "cell_type": "markdown",
   "metadata": {},
   "source": [
    "# TARGETS"
   ]
  },
  {
   "cell_type": "code",
   "execution_count": 249,
   "metadata": {
    "collapsed": false,
    "scrolled": true
   },
   "outputs": [
    {
     "name": "stdout",
     "output_type": "stream",
     "text": [
      "Int64Index([  0,  10,  18,  19,  23,  24,  25,  27,  28,  29,  30,  31,  32,\n",
      "             33,  34,  35,  36,  37,  38,  39,  40,  41,  42,  43,  44,  45,\n",
      "             46,  47,  48,  49,  50,  51,  52,  53,  54,  55,  56,  57,  58,\n",
      "             59,  60,  61,  62,  63,  64,  65,  66,  67,  68,  69,  70,  71,\n",
      "             72,  73,  74,  76,  77,  79,  80,  81,  83,  85,  88,  90,  93,\n",
      "             96,  97, 100],\n",
      "           dtype='int64')\n",
      "0        61\n",
      "10       12\n",
      "18        2\n",
      "19       14\n",
      "23       36\n",
      "24        2\n",
      "25        1\n",
      "27       74\n",
      "28        5\n",
      "29       10\n",
      "30      169\n",
      "31        4\n",
      "32       28\n",
      "33      354\n",
      "34       32\n",
      "35      586\n",
      "36       57\n",
      "37      950\n",
      "38       90\n",
      "39     1420\n",
      "40      180\n",
      "41     1939\n",
      "42     2623\n",
      "43      102\n",
      "44     2968\n",
      "45     3295\n",
      "46      129\n",
      "47     3690\n",
      "48     3603\n",
      "49     3585\n",
      "       ... \n",
      "58     3134\n",
      "59     3125\n",
      "60     2872\n",
      "61      770\n",
      "62     2080\n",
      "63     2632\n",
      "64     2334\n",
      "65        1\n",
      "66     2048\n",
      "67      333\n",
      "68     1353\n",
      "69     1111\n",
      "70      272\n",
      "71      330\n",
      "72      703\n",
      "73       95\n",
      "74      728\n",
      "76      243\n",
      "77      263\n",
      "79      170\n",
      "80      115\n",
      "81       20\n",
      "83       82\n",
      "85       89\n",
      "88       42\n",
      "90        5\n",
      "93       14\n",
      "96       14\n",
      "97        6\n",
      "100       8\n",
      "Name: PUNT_LECTURA_CRITICA, dtype: int64\n",
      "Elementos null/NaN 0\n",
      "__________________\n",
      "Elementos diferentes de null/NaN: 74127\n",
      "__________________\n",
      "(74127,)\n",
      "None\n"
     ]
    }
   ],
   "source": [
    "c = 'PUNT_LECTURA_CRITICA'\n",
    "print(data_2016_1_V2[c].value_counts().sort_index().index)\n",
    "print(data_2016_1_V2[c].value_counts().sort_index())\n",
    "print(missing_data(data_2016_1_V2[c]))"
   ]
  },
  {
   "cell_type": "code",
   "execution_count": 250,
   "metadata": {
    "collapsed": false
   },
   "outputs": [
    {
     "name": "stdout",
     "output_type": "stream",
     "text": [
      "Int64Index([1, 2, 3, 4], dtype='int64')\n",
      "1     1390\n",
      "2    25097\n",
      "3    39596\n",
      "4     8044\n",
      "Name: DESEMP_LECTURA_CRITICA, dtype: int64\n",
      "Elementos null/NaN 0\n",
      "__________________\n",
      "Elementos diferentes de null/NaN: 74127\n",
      "__________________\n",
      "(74127,)\n",
      "None\n"
     ]
    }
   ],
   "source": [
    "c = 'DESEMP_LECTURA_CRITICA'\n",
    "print(data_2016_1_V2[c].value_counts().sort_index().index)\n",
    "print(data_2016_1_V2[c].value_counts().sort_index())\n",
    "print(missing_data(data_2016_1_V2[c]))"
   ]
  },
  {
   "cell_type": "code",
   "execution_count": 251,
   "metadata": {
    "collapsed": false,
    "scrolled": true
   },
   "outputs": [
    {
     "name": "stdout",
     "output_type": "stream",
     "text": [
      "Int64Index([  1,   2,   3,   4,   5,   6,   7,   8,   9,  10,  11,  12,  13,\n",
      "             14,  15,  16,  17,  18,  19,  20,  21,  22,  23,  24,  25,  26,\n",
      "             27,  28,  29,  30,  31,  33,  34,  35,  36,  37,  38,  39,  40,\n",
      "             41,  42,  43,  44,  45,  46,  47,  48,  49,  51,  52,  53,  54,\n",
      "             55,  56,  57,  58,  59,  60,  61,  62,  63,  64,  65,  66,  67,\n",
      "             68,  69,  70,  71,  73,  74,  75,  76,  77,  78,  79,  80,  81,\n",
      "             82,  83,  84,  85,  86,  87,  88,  89,  90,  91,  92,  93,  94,\n",
      "             95,  96,  97,  98,  99, 100],\n",
      "           dtype='int64')\n",
      "1      1418\n",
      "2      1069\n",
      "3      1482\n",
      "4       205\n",
      "5      1937\n",
      "6       170\n",
      "7      2368\n",
      "8       209\n",
      "9      2756\n",
      "10      226\n",
      "11      101\n",
      "12     3073\n",
      "13      129\n",
      "14     3267\n",
      "15      107\n",
      "16      159\n",
      "17      157\n",
      "18     3339\n",
      "19      118\n",
      "20      304\n",
      "21     3271\n",
      "22      156\n",
      "23      156\n",
      "24      306\n",
      "25     3276\n",
      "26      150\n",
      "27      170\n",
      "28      160\n",
      "29      154\n",
      "30     3272\n",
      "       ... \n",
      "70      203\n",
      "71      174\n",
      "73     1845\n",
      "74      193\n",
      "75      179\n",
      "76      215\n",
      "77      172\n",
      "78     1575\n",
      "79      173\n",
      "80      193\n",
      "81      187\n",
      "82     1292\n",
      "83      202\n",
      "84      335\n",
      "85      138\n",
      "86     1037\n",
      "87      178\n",
      "88      155\n",
      "89      286\n",
      "90      801\n",
      "91      141\n",
      "92      226\n",
      "93      212\n",
      "94      595\n",
      "95      194\n",
      "96      194\n",
      "97      557\n",
      "98      384\n",
      "99      305\n",
      "100     260\n",
      "Name: PERCENTIL_LECTURA_CRITICA, dtype: int64\n",
      "Elementos null/NaN 0\n",
      "__________________\n",
      "Elementos diferentes de null/NaN: 74127\n",
      "__________________\n",
      "(74127,)\n",
      "None\n"
     ]
    }
   ],
   "source": [
    "c = 'PERCENTIL_LECTURA_CRITICA'\n",
    "print(data_2016_1_V2[c].value_counts().sort_index().index)\n",
    "print(data_2016_1_V2[c].value_counts().sort_index())\n",
    "print(missing_data(data_2016_1_V2[c]))"
   ]
  },
  {
   "cell_type": "code",
   "execution_count": 252,
   "metadata": {
    "collapsed": false,
    "scrolled": true
   },
   "outputs": [
    {
     "name": "stdout",
     "output_type": "stream",
     "text": [
      "Int64Index([  0,   3,   5,   9,  10,  12,  14,  15,  17,  18,  19,  20,  21,\n",
      "             22,  23,  24,  25,  26,  27,  28,  29,  30,  31,  32,  33,  34,\n",
      "             35,  36,  37,  38,  39,  40,  41,  42,  43,  44,  45,  46,  47,\n",
      "             48,  49,  50,  51,  52,  53,  54,  55,  56,  57,  58,  59,  60,\n",
      "             61,  62,  63,  64,  65,  66,  67,  68,  69,  70,  71,  72,  73,\n",
      "             74,  75,  76,  77,  78,  79,  80,  81,  82,  83,  84,  85,  86,\n",
      "             87,  88,  89,  91,  92,  93,  94,  95,  97,  98, 100],\n",
      "           dtype='int64')\n",
      "0        27\n",
      "3         1\n",
      "5         9\n",
      "9         1\n",
      "10        1\n",
      "12       13\n",
      "14        4\n",
      "15        2\n",
      "17       45\n",
      "18        7\n",
      "19        8\n",
      "20        6\n",
      "21      102\n",
      "22       11\n",
      "23       12\n",
      "24      232\n",
      "25       24\n",
      "26       16\n",
      "27      427\n",
      "28       70\n",
      "29       34\n",
      "30      847\n",
      "31       76\n",
      "32     1240\n",
      "33      121\n",
      "34      156\n",
      "35     1684\n",
      "36      202\n",
      "37     2263\n",
      "38      184\n",
      "       ... \n",
      "68     1418\n",
      "69      411\n",
      "70     1039\n",
      "71     1199\n",
      "72      208\n",
      "73     1093\n",
      "74      963\n",
      "75      191\n",
      "76     1012\n",
      "77       96\n",
      "78      868\n",
      "79      192\n",
      "80      765\n",
      "81      202\n",
      "82      690\n",
      "83      180\n",
      "84      593\n",
      "85        1\n",
      "86      585\n",
      "87      165\n",
      "88      480\n",
      "89      242\n",
      "91      360\n",
      "92      150\n",
      "93       74\n",
      "94      331\n",
      "95      118\n",
      "97      335\n",
      "98       88\n",
      "100     821\n",
      "Name: PUNT_MATEMATICAS, dtype: int64\n",
      "Elementos null/NaN 0\n",
      "__________________\n",
      "Elementos diferentes de null/NaN: 74127\n",
      "__________________\n",
      "(74127,)\n",
      "None\n"
     ]
    }
   ],
   "source": [
    "c = 'PUNT_MATEMATICAS'\n",
    "print(data_2016_1_V2[c].value_counts().sort_index().index)\n",
    "print(data_2016_1_V2[c].value_counts().sort_index())\n",
    "print(missing_data(data_2016_1_V2[c]))"
   ]
  },
  {
   "cell_type": "code",
   "execution_count": 253,
   "metadata": {
    "collapsed": false
   },
   "outputs": [
    {
     "name": "stdout",
     "output_type": "stream",
     "text": [
      "Int64Index([1, 2, 3, 4], dtype='int64')\n",
      "1     5176\n",
      "2    25676\n",
      "3    31273\n",
      "4    12002\n",
      "Name: DESEMP_MATEMATICAS, dtype: int64\n",
      "Elementos null/NaN 0\n",
      "__________________\n",
      "Elementos diferentes de null/NaN: 74127\n",
      "__________________\n",
      "(74127,)\n",
      "None\n"
     ]
    }
   ],
   "source": [
    "c = 'DESEMP_MATEMATICAS'\n",
    "print(data_2016_1_V2[c].value_counts().sort_index().index)\n",
    "print(data_2016_1_V2[c].value_counts().sort_index())\n",
    "print(missing_data(data_2016_1_V2[c]))"
   ]
  },
  {
   "cell_type": "code",
   "execution_count": 254,
   "metadata": {
    "collapsed": false,
    "scrolled": true
   },
   "outputs": [
    {
     "name": "stdout",
     "output_type": "stream",
     "text": [
      "Int64Index([  1,   2,   3,   4,   5,   6,   7,   8,   9,  10,  11,  12,  13,\n",
      "             14,  15,  16,  17,  19,  20,  21,  22,  23,  24,  25,  26,  27,\n",
      "             28,  29,  30,  31,  32,  33,  34,  35,  36,  37,  38,  39,  40,\n",
      "             41,  42,  43,  44,  45,  46,  47,  48,  49,  50,  51,  52,  53,\n",
      "             54,  55,  56,  57,  58,  59,  60,  61,  62,  63,  64,  65,  66,\n",
      "             67,  68,  69,  70,  71,  72,  73,  74,  75,  76,  77,  78,  79,\n",
      "             80,  81,  82,  83,  84,  85,  86,  87,  88,  89,  90,  91,  92,\n",
      "             93,  94,  95,  96,  97, 100],\n",
      "           dtype='int64')\n",
      "1      1018\n",
      "2       922\n",
      "3      1331\n",
      "4       221\n",
      "5      1684\n",
      "6       202\n",
      "7      2207\n",
      "8       240\n",
      "9      2568\n",
      "10      222\n",
      "11      121\n",
      "12     2803\n",
      "13      207\n",
      "14      122\n",
      "15     2983\n",
      "16      135\n",
      "17      184\n",
      "19     3272\n",
      "20      209\n",
      "21     3091\n",
      "22      133\n",
      "23      198\n",
      "24     2907\n",
      "25      240\n",
      "26      224\n",
      "27      121\n",
      "28     2859\n",
      "29      148\n",
      "30      280\n",
      "31     2736\n",
      "       ... \n",
      "69      229\n",
      "70      174\n",
      "71      905\n",
      "72      202\n",
      "73      992\n",
      "74      101\n",
      "75      862\n",
      "76      191\n",
      "77      186\n",
      "78      826\n",
      "79      180\n",
      "80      696\n",
      "81      192\n",
      "82      180\n",
      "83      673\n",
      "84      202\n",
      "85      594\n",
      "86      189\n",
      "87      517\n",
      "88      263\n",
      "89      486\n",
      "90      165\n",
      "91      480\n",
      "92      168\n",
      "93      434\n",
      "94      224\n",
      "95      331\n",
      "96      329\n",
      "97      212\n",
      "100     821\n",
      "Name: PERCENTIL_MATEMATICAS, dtype: int64\n",
      "Elementos null/NaN 0\n",
      "__________________\n",
      "Elementos diferentes de null/NaN: 74127\n",
      "__________________\n",
      "(74127,)\n",
      "None\n"
     ]
    }
   ],
   "source": [
    "c = 'PERCENTIL_MATEMATICAS'\n",
    "print(data_2016_1_V2[c].value_counts().sort_index().index)\n",
    "print(data_2016_1_V2[c].value_counts().sort_index())\n",
    "print(missing_data(data_2016_1_V2[c]))"
   ]
  },
  {
   "cell_type": "code",
   "execution_count": 255,
   "metadata": {
    "collapsed": false,
    "scrolled": true
   },
   "outputs": [
    {
     "name": "stdout",
     "output_type": "stream",
     "text": [
      "Int64Index([  0,   1,   9,  10,  13,  14,  15,  17,  18,  19,  20,  21,  22,\n",
      "             23,  24,  25,  26,  27,  28,  29,  30,  31,  32,  33,  34,  35,\n",
      "             36,  37,  38,  39,  40,  41,  42,  43,  44,  45,  46,  47,  48,\n",
      "             49,  50,  51,  52,  53,  54,  55,  56,  57,  58,  59,  60,  61,\n",
      "             62,  63,  64,  65,  66,  67,  68,  69,  70,  71,  72,  73,  74,\n",
      "             75,  76,  77,  78,  79,  80,  81,  82,  83,  84,  85,  86,  88,\n",
      "             89,  90,  92,  93,  95,  97, 100],\n",
      "           dtype='int64')\n",
      "0        30\n",
      "1         4\n",
      "9         6\n",
      "10        1\n",
      "13        1\n",
      "14       11\n",
      "15        2\n",
      "17       11\n",
      "18        2\n",
      "19        7\n",
      "20       29\n",
      "21        1\n",
      "22        2\n",
      "23       45\n",
      "24       10\n",
      "25       73\n",
      "26       24\n",
      "27      110\n",
      "28      158\n",
      "29       16\n",
      "30      190\n",
      "31       55\n",
      "32      284\n",
      "33      408\n",
      "34      505\n",
      "35       58\n",
      "36      740\n",
      "37      847\n",
      "38      982\n",
      "39     1247\n",
      "       ... \n",
      "65     1813\n",
      "66     1742\n",
      "67     1429\n",
      "68      264\n",
      "69     1585\n",
      "70     1306\n",
      "71       97\n",
      "72     1281\n",
      "73      494\n",
      "74      718\n",
      "75      448\n",
      "76      597\n",
      "77      443\n",
      "78      499\n",
      "79      398\n",
      "80       95\n",
      "81      302\n",
      "82      336\n",
      "83       88\n",
      "84      252\n",
      "85      215\n",
      "86       45\n",
      "88      220\n",
      "89      102\n",
      "90       34\n",
      "92        1\n",
      "93      132\n",
      "95       21\n",
      "97       44\n",
      "100      93\n",
      "Name: PUNT_C_NATURALES, dtype: int64\n",
      "Elementos null/NaN 0\n",
      "__________________\n",
      "Elementos diferentes de null/NaN: 74127\n",
      "__________________\n",
      "(74127,)\n",
      "None\n"
     ]
    }
   ],
   "source": [
    "c = 'PUNT_C_NATURALES'\n",
    "print(data_2016_1_V2[c].value_counts().sort_index().index)\n",
    "print(data_2016_1_V2[c].value_counts().sort_index())\n",
    "print(missing_data(data_2016_1_V2[c]))"
   ]
  },
  {
   "cell_type": "code",
   "execution_count": 256,
   "metadata": {
    "collapsed": false
   },
   "outputs": [
    {
     "name": "stdout",
     "output_type": "stream",
     "text": [
      "Int64Index([1, 2, 3, 4], dtype='int64')\n",
      "1     7229\n",
      "2    33998\n",
      "3    25945\n",
      "4     6955\n",
      "Name: DESEMP_C_NATURALES, dtype: int64\n",
      "Elementos null/NaN 0\n",
      "__________________\n",
      "Elementos diferentes de null/NaN: 74127\n",
      "__________________\n",
      "(74127,)\n",
      "None\n"
     ]
    }
   ],
   "source": [
    "c = 'DESEMP_C_NATURALES'\n",
    "print(data_2016_1_V2[c].value_counts().sort_index().index)\n",
    "print(data_2016_1_V2[c].value_counts().sort_index())\n",
    "print(missing_data(data_2016_1_V2[c]))"
   ]
  },
  {
   "cell_type": "code",
   "execution_count": 257,
   "metadata": {
    "collapsed": false,
    "scrolled": true
   },
   "outputs": [
    {
     "name": "stdout",
     "output_type": "stream",
     "text": [
      "Int64Index([  1,   2,   3,   4,   5,   6,   7,   8,   9,  10,  11,  12,  13,\n",
      "             14,  15,  16,  17,  18,  19,  20,  21,  22,  23,  24,  25,  26,\n",
      "             27,  28,  29,  30,  31,  32,  33,  34,  35,  36,  37,  38,  39,\n",
      "             40,  41,  42,  43,  44,  45,  46,  47,  48,  49,  50,  51,  52,\n",
      "             53,  54,  55,  56,  57,  58,  59,  60,  61,  62,  63,  64,  65,\n",
      "             66,  67,  68,  69,  70,  71,  72,  73,  74,  75,  76,  77,  78,\n",
      "             79,  80,  81,  83,  84,  85,  86,  87,  88,  89,  90,  91,  92,\n",
      "             93,  94,  95,  96,  97,  98,  99, 100],\n",
      "           dtype='int64')\n",
      "1      1041\n",
      "2       981\n",
      "3       761\n",
      "4       921\n",
      "5      1011\n",
      "6      1229\n",
      "7      1286\n",
      "8      1481\n",
      "9      1516\n",
      "10      197\n",
      "11     1658\n",
      "12     1765\n",
      "13      228\n",
      "14     1908\n",
      "15      157\n",
      "16     1988\n",
      "17      166\n",
      "18     1997\n",
      "19      225\n",
      "20     2088\n",
      "21      144\n",
      "22     2082\n",
      "23      232\n",
      "24     2097\n",
      "25      175\n",
      "26     2172\n",
      "27      187\n",
      "28      164\n",
      "29     2078\n",
      "30      177\n",
      "       ... \n",
      "70     1181\n",
      "71      264\n",
      "72      131\n",
      "73      244\n",
      "74     1089\n",
      "75      256\n",
      "76      121\n",
      "77      132\n",
      "78     1015\n",
      "79      249\n",
      "80      231\n",
      "81      801\n",
      "83      355\n",
      "84      857\n",
      "85      113\n",
      "86      213\n",
      "87      122\n",
      "88      698\n",
      "89      233\n",
      "90      109\n",
      "91      597\n",
      "92      193\n",
      "93      202\n",
      "94      453\n",
      "95      185\n",
      "96      411\n",
      "97      144\n",
      "98      206\n",
      "99      270\n",
      "100     216\n",
      "Name: PERCENTIL_C_NATURALES, dtype: int64\n",
      "Elementos null/NaN 0\n",
      "__________________\n",
      "Elementos diferentes de null/NaN: 74127\n",
      "__________________\n",
      "(74127,)\n",
      "None\n"
     ]
    }
   ],
   "source": [
    "c = 'PERCENTIL_C_NATURALES'\n",
    "print(data_2016_1_V2[c].value_counts().sort_index().index)\n",
    "print(data_2016_1_V2[c].value_counts().sort_index())\n",
    "print(missing_data(data_2016_1_V2[c]))"
   ]
  },
  {
   "cell_type": "code",
   "execution_count": 258,
   "metadata": {
    "collapsed": false,
    "scrolled": true
   },
   "outputs": [
    {
     "name": "stdout",
     "output_type": "stream",
     "text": [
      "Int64Index([  0,   4,   5,  10,  11,  13,  15,  16,  17,  18,  19,  20,  21,\n",
      "             22,  23,  24,  25,  26,  27,  28,  29,  30,  31,  32,  33,  34,\n",
      "             35,  36,  37,  38,  39,  40,  41,  42,  43,  44,  45,  46,  47,\n",
      "             48,  49,  50,  51,  52,  53,  54,  55,  56,  57,  58,  59,  60,\n",
      "             61,  62,  63,  64,  65,  66,  67,  68,  69,  70,  71,  72,  73,\n",
      "             74,  75,  76,  77,  78,  79,  80,  81,  82,  83,  84,  85,  86,\n",
      "             87,  89,  90,  93,  94,  95,  96, 100],\n",
      "           dtype='int64')\n",
      "0        34\n",
      "4         7\n",
      "5         2\n",
      "10       11\n",
      "11        2\n",
      "13        1\n",
      "15       35\n",
      "16        1\n",
      "17        4\n",
      "18       55\n",
      "19        5\n",
      "20        5\n",
      "21      110\n",
      "22       17\n",
      "23       16\n",
      "24      136\n",
      "25       42\n",
      "26      236\n",
      "27       61\n",
      "28      414\n",
      "29       94\n",
      "30      593\n",
      "31      133\n",
      "32      764\n",
      "33      144\n",
      "34      972\n",
      "35      203\n",
      "36     1237\n",
      "37     1471\n",
      "38      260\n",
      "       ... \n",
      "65     2596\n",
      "66      482\n",
      "67     2043\n",
      "68      835\n",
      "69     1805\n",
      "70      692\n",
      "71     1536\n",
      "72      630\n",
      "73     1224\n",
      "74      590\n",
      "75      850\n",
      "76      690\n",
      "77      596\n",
      "78      217\n",
      "79      337\n",
      "80      417\n",
      "81      285\n",
      "82      170\n",
      "83      238\n",
      "84      140\n",
      "85      125\n",
      "86       48\n",
      "87      125\n",
      "89      130\n",
      "90       59\n",
      "93       77\n",
      "94       43\n",
      "95       17\n",
      "96       30\n",
      "100      60\n",
      "Name: PUNT_SOCIALES_CIUDADANAS, dtype: int64\n",
      "Elementos null/NaN 0\n",
      "__________________\n",
      "Elementos diferentes de null/NaN: 74127\n",
      "__________________\n",
      "(74127,)\n",
      "None\n"
     ]
    }
   ],
   "source": [
    "c = 'PUNT_SOCIALES_CIUDADANAS'\n",
    "print(data_2016_1_V2[c].value_counts().sort_index().index)\n",
    "print(data_2016_1_V2[c].value_counts().sort_index())\n",
    "print(missing_data(data_2016_1_V2[c]))"
   ]
  },
  {
   "cell_type": "code",
   "execution_count": 259,
   "metadata": {
    "collapsed": false
   },
   "outputs": [
    {
     "name": "stdout",
     "output_type": "stream",
     "text": [
      "Int64Index([1, 2, 3, 4], dtype='int64')\n",
      "1    10383\n",
      "2    28028\n",
      "3    27082\n",
      "4     8634\n",
      "Name: DESEMP_SOCIALES_CIUDADANAS, dtype: int64\n",
      "Elementos null/NaN 0\n",
      "__________________\n",
      "Elementos diferentes de null/NaN: 74127\n",
      "__________________\n",
      "(74127,)\n",
      "None\n"
     ]
    }
   ],
   "source": [
    "c = 'DESEMP_SOCIALES_CIUDADANAS'\n",
    "print(data_2016_1_V2[c].value_counts().sort_index().index)\n",
    "print(data_2016_1_V2[c].value_counts().sort_index())\n",
    "print(missing_data(data_2016_1_V2[c]))"
   ]
  },
  {
   "cell_type": "code",
   "execution_count": 260,
   "metadata": {
    "collapsed": false,
    "scrolled": true
   },
   "outputs": [
    {
     "name": "stdout",
     "output_type": "stream",
     "text": [
      "Int64Index([  1,   2,   3,   4,   5,   6,   7,   8,   9,  10,  11,  12,  13,\n",
      "             14,  15,  16,  17,  18,  19,  20,  21,  22,  23,  24,  25,  26,\n",
      "             27,  28,  29,  30,  31,  32,  33,  34,  35,  36,  37,  38,  39,\n",
      "             40,  41,  42,  43,  44,  45,  46,  47,  48,  49,  51,  52,  53,\n",
      "             54,  55,  56,  57,  58,  59,  60,  61,  62,  63,  64,  65,  66,\n",
      "             67,  68,  69,  70,  71,  72,  73,  74,  75,  77,  78,  79,  80,\n",
      "             81,  82,  83,  84,  85,  86,  87,  88,  89,  90,  91,  92,  93,\n",
      "             94,  95,  96,  97,  98,  99, 100],\n",
      "           dtype='int64')\n",
      "1      1213\n",
      "2       801\n",
      "3       908\n",
      "4      1118\n",
      "5      1294\n",
      "6      1471\n",
      "7       197\n",
      "8      1612\n",
      "9       138\n",
      "10     1762\n",
      "11      164\n",
      "12     1837\n",
      "13      235\n",
      "14     1938\n",
      "15      176\n",
      "16     2056\n",
      "17      189\n",
      "18      194\n",
      "19     2141\n",
      "20      190\n",
      "21     2247\n",
      "22      212\n",
      "23     2071\n",
      "24      203\n",
      "25      204\n",
      "26     2360\n",
      "27      232\n",
      "28      116\n",
      "29     2408\n",
      "30      115\n",
      "       ... \n",
      "70     2067\n",
      "71      189\n",
      "72      182\n",
      "73      154\n",
      "74      129\n",
      "75     1805\n",
      "77      328\n",
      "78      196\n",
      "79      168\n",
      "80     1715\n",
      "81      144\n",
      "82      162\n",
      "83      145\n",
      "84     1224\n",
      "85      157\n",
      "86      166\n",
      "87      267\n",
      "88     1005\n",
      "89      138\n",
      "90      273\n",
      "91      124\n",
      "92      813\n",
      "93      122\n",
      "94      215\n",
      "95      604\n",
      "96      187\n",
      "97      459\n",
      "98      125\n",
      "99      303\n",
      "100     286\n",
      "Name: PERCENTIL_SOCIALES_CIUDADANAS, dtype: int64\n",
      "Elementos null/NaN 0\n",
      "__________________\n",
      "Elementos diferentes de null/NaN: 74127\n",
      "__________________\n",
      "(74127,)\n",
      "None\n"
     ]
    }
   ],
   "source": [
    "c = 'PERCENTIL_SOCIALES_CIUDADANAS'\n",
    "print(data_2016_1_V2[c].value_counts().sort_index().index)\n",
    "print(data_2016_1_V2[c].value_counts().sort_index())\n",
    "print(missing_data(data_2016_1_V2[c]))"
   ]
  },
  {
   "cell_type": "code",
   "execution_count": 261,
   "metadata": {
    "collapsed": false,
    "scrolled": true
   },
   "outputs": [
    {
     "name": "stdout",
     "output_type": "stream",
     "text": [
      "Int64Index([  0,   7,  15,  22,  27,  31,  34,  37,  39,  40,  42,  44,  46,\n",
      "             49,  51,  52,  53,  55,  56,  58,  59,  60,  61,  62,  64,  65,\n",
      "             66,  67,  68,  70,  71,  73,  74,  76,  77,  79,  80,  82,  85,\n",
      "             87,  90,  92,  95,  97, 100],\n",
      "           dtype='int64')\n",
      "0         86\n",
      "7         18\n",
      "15        25\n",
      "22        26\n",
      "27        36\n",
      "31        97\n",
      "34       245\n",
      "37       516\n",
      "39       986\n",
      "40      1693\n",
      "42      2557\n",
      "44      3601\n",
      "46      4480\n",
      "49     10641\n",
      "51      5495\n",
      "52      5107\n",
      "53      4216\n",
      "55      3730\n",
      "56      3053\n",
      "58      2496\n",
      "59      2016\n",
      "60      1721\n",
      "61      1467\n",
      "62      1246\n",
      "64      1112\n",
      "65       980\n",
      "66       954\n",
      "67       923\n",
      "68       920\n",
      "70       790\n",
      "71       833\n",
      "73       797\n",
      "74       823\n",
      "76       848\n",
      "77       842\n",
      "79       804\n",
      "80       949\n",
      "82       928\n",
      "85       951\n",
      "87      1032\n",
      "90      1087\n",
      "92      1082\n",
      "95      1002\n",
      "97       645\n",
      "100      271\n",
      "Name: PUNT_INGLES, dtype: int64\n",
      "Elementos null/NaN 0\n",
      "__________________\n",
      "Elementos diferentes de null/NaN: 74127\n",
      "__________________\n",
      "(74127,)\n",
      "None\n"
     ]
    }
   ],
   "source": [
    "c = 'PUNT_INGLES'\n",
    "print(data_2016_1_V2[c].value_counts().sort_index().index)\n",
    "print(data_2016_1_V2[c].value_counts().sort_index())\n",
    "print(missing_data(data_2016_1_V2[c]))"
   ]
  },
  {
   "cell_type": "code",
   "execution_count": 262,
   "metadata": {
    "collapsed": false
   },
   "outputs": [
    {
     "name": "stdout",
     "output_type": "stream",
     "text": [
      "Index(['A-', 'A1', 'A2', 'B+', 'B1'], dtype='object')\n",
      "A-    19484\n",
      "A1    29619\n",
      "A2    11340\n",
      "B+     6070\n",
      "B1     7614\n",
      "Name: DESEMP_INGLES, dtype: int64\n",
      "Elementos null/NaN 0\n",
      "__________________\n",
      "Elementos diferentes de null/NaN: 74127\n",
      "__________________\n",
      "(74127,)\n",
      "None\n"
     ]
    }
   ],
   "source": [
    "c = 'DESEMP_INGLES'\n",
    "print(data_2016_1_V2[c].value_counts().sort_index().index)\n",
    "print(data_2016_1_V2[c].value_counts().sort_index())\n",
    "print(missing_data(data_2016_1_V2[c]))"
   ]
  },
  {
   "cell_type": "code",
   "execution_count": 263,
   "metadata": {
    "collapsed": false,
    "scrolled": true
   },
   "outputs": [
    {
     "name": "stdout",
     "output_type": "stream",
     "text": [
      "Int64Index([  1,   3,   6,   9,  14,  18,  23,  28,  32,  36,  40,  42,  44,\n",
      "             46,  48,  50,  51,  52,  54,  55,  56,  58,  59,  61,  62,  64,\n",
      "             66,  68,  70,  72,  75,  78,  82,  86,  91,  96,  98, 100],\n",
      "           dtype='int64')\n",
      "1      2035\n",
      "3      1693\n",
      "6      2557\n",
      "9      3601\n",
      "14     4480\n",
      "18     5118\n",
      "23     5523\n",
      "28     5495\n",
      "32     5106\n",
      "36     4217\n",
      "40     3730\n",
      "42     3053\n",
      "44     2496\n",
      "46     2016\n",
      "48     1721\n",
      "50     1467\n",
      "51     1246\n",
      "52     1112\n",
      "54      980\n",
      "55      954\n",
      "56      923\n",
      "58      920\n",
      "59      790\n",
      "61      833\n",
      "62      797\n",
      "64      823\n",
      "66      848\n",
      "68      842\n",
      "70      804\n",
      "72      949\n",
      "75      928\n",
      "78      951\n",
      "82     1032\n",
      "86     1087\n",
      "91     1082\n",
      "96     1002\n",
      "98      645\n",
      "100     271\n",
      "Name: PERCENTIL_INGLES, dtype: int64\n",
      "Elementos null/NaN 0\n",
      "__________________\n",
      "Elementos diferentes de null/NaN: 74127\n",
      "__________________\n",
      "(74127,)\n",
      "None\n"
     ]
    }
   ],
   "source": [
    "c = 'PERCENTIL_INGLES'\n",
    "print(data_2016_1_V2[c].value_counts().sort_index().index)\n",
    "print(data_2016_1_V2[c].value_counts().sort_index())\n",
    "print(missing_data(data_2016_1_V2[c]))"
   ]
  },
  {
   "cell_type": "code",
   "execution_count": 264,
   "metadata": {
    "collapsed": false,
    "scrolled": true
   },
   "outputs": [
    {
     "name": "stdout",
     "output_type": "stream",
     "text": [
      "Int64Index([  0,   1,  13,  15,  20,  21,  22,  28,  40,  46,\n",
      "            ...\n",
      "            472, 473, 475, 476, 477, 479, 481, 483, 485, 494],\n",
      "           dtype='int64', length=396)\n",
      "0      1\n",
      "1      1\n",
      "13     1\n",
      "15     1\n",
      "20     1\n",
      "21     1\n",
      "22     1\n",
      "28     1\n",
      "40     1\n",
      "46     2\n",
      "48     1\n",
      "58     1\n",
      "77     1\n",
      "78     1\n",
      "81     1\n",
      "82     3\n",
      "85     1\n",
      "86     2\n",
      "88     1\n",
      "89     1\n",
      "90     1\n",
      "91     2\n",
      "95     2\n",
      "97     3\n",
      "98     1\n",
      "100    1\n",
      "102    4\n",
      "105    3\n",
      "106    1\n",
      "107    1\n",
      "      ..\n",
      "451    5\n",
      "452    9\n",
      "453    9\n",
      "454    7\n",
      "455    5\n",
      "456    1\n",
      "457    5\n",
      "458    6\n",
      "459    2\n",
      "460    3\n",
      "461    1\n",
      "462    4\n",
      "463    5\n",
      "464    3\n",
      "465    3\n",
      "466    1\n",
      "467    3\n",
      "468    2\n",
      "469    1\n",
      "470    1\n",
      "472    3\n",
      "473    2\n",
      "475    1\n",
      "476    3\n",
      "477    1\n",
      "479    2\n",
      "481    1\n",
      "483    1\n",
      "485    1\n",
      "494    1\n",
      "Name: PUNT_GLOBAL, dtype: int64\n",
      "Elementos null/NaN 0\n",
      "__________________\n",
      "Elementos diferentes de null/NaN: 74127\n",
      "__________________\n",
      "(74127,)\n",
      "None\n"
     ]
    }
   ],
   "source": [
    "c = 'PUNT_GLOBAL'\n",
    "print(data_2016_1_V2[c].value_counts().sort_index().index)\n",
    "print(data_2016_1_V2[c].value_counts().sort_index())\n",
    "print(missing_data(data_2016_1_V2[c]))"
   ]
  },
  {
   "cell_type": "code",
   "execution_count": 265,
   "metadata": {
    "collapsed": false,
    "scrolled": true
   },
   "outputs": [
    {
     "name": "stdout",
     "output_type": "stream",
     "text": [
      "Int64Index([  1,   2,   3,   4,   5,   6,   7,   8,   9,  10,  11,  12,  13,\n",
      "             14,  15,  16,  17,  18,  19,  20,  21,  22,  23,  24,  25,  26,\n",
      "             27,  28,  29,  30,  31,  32,  33,  34,  35,  36,  37,  38,  39,\n",
      "             40,  41,  42,  43,  44,  45,  46,  47,  48,  49,  50,  51,  52,\n",
      "             53,  54,  55,  56,  57,  58,  59,  60,  61,  62,  63,  64,  65,\n",
      "             66,  67,  68,  69,  70,  71,  72,  73,  74,  75,  76,  77,  78,\n",
      "             79,  80,  81,  82,  83,  84,  85,  86,  87,  88,  89,  90,  91,\n",
      "             92,  93,  94,  95,  96,  97,  98,  99, 100],\n",
      "           dtype='int64')\n",
      "1      1156\n",
      "2      1104\n",
      "3      1057\n",
      "4      1037\n",
      "5      1074\n",
      "6      1129\n",
      "7      1122\n",
      "8      1154\n",
      "9      1080\n",
      "10     1012\n",
      "11     1024\n",
      "12     1086\n",
      "13     1146\n",
      "14     1135\n",
      "15     1068\n",
      "16     1095\n",
      "17     1016\n",
      "18     1033\n",
      "19     1012\n",
      "20     1136\n",
      "21     1029\n",
      "22     1069\n",
      "23     1025\n",
      "24     1121\n",
      "25     1014\n",
      "26     1000\n",
      "27     1048\n",
      "28     1034\n",
      "29      950\n",
      "30     1104\n",
      "       ... \n",
      "71      466\n",
      "72      457\n",
      "73      433\n",
      "74      411\n",
      "75      420\n",
      "76      459\n",
      "77      403\n",
      "78      385\n",
      "79      366\n",
      "80      391\n",
      "81      365\n",
      "82      379\n",
      "83      344\n",
      "84      339\n",
      "85      320\n",
      "86      324\n",
      "87      318\n",
      "88      321\n",
      "89      278\n",
      "90      288\n",
      "91      272\n",
      "92      265\n",
      "93      275\n",
      "94      273\n",
      "95      259\n",
      "96      267\n",
      "97      264\n",
      "98      232\n",
      "99      223\n",
      "100     228\n",
      "Name: PERCENTIL_GLOBAL, dtype: int64\n",
      "Elementos null/NaN 0\n",
      "__________________\n",
      "Elementos diferentes de null/NaN: 74127\n",
      "__________________\n",
      "(74127,)\n",
      "None\n"
     ]
    }
   ],
   "source": [
    "c = 'PERCENTIL_GLOBAL'\n",
    "print(data_2016_1_V2[c].value_counts().sort_index().index)\n",
    "print(data_2016_1_V2[c].value_counts().sort_index())\n",
    "print(missing_data(data_2016_1_V2[c]))"
   ]
  },
  {
   "cell_type": "markdown",
   "metadata": {},
   "source": [
    "___"
   ]
  },
  {
   "cell_type": "markdown",
   "metadata": {},
   "source": [
    "___"
   ]
  },
  {
   "cell_type": "markdown",
   "metadata": {},
   "source": [
    "___"
   ]
  },
  {
   "cell_type": "markdown",
   "metadata": {},
   "source": [
    "___"
   ]
  },
  {
   "cell_type": "markdown",
   "metadata": {},
   "source": [
    "# YEAR 2016, Semester 2"
   ]
  },
  {
   "cell_type": "code",
   "execution_count": 266,
   "metadata": {
    "collapsed": false
   },
   "outputs": [
    {
     "name": "stderr",
     "output_type": "stream",
     "text": [
      "/usr/local/lib/python3.4/dist-packages/IPython/core/interactiveshell.py:2902: DtypeWarning: Columns (10,11,12,13) have mixed types. Specify dtype option on import or set low_memory=False.\n",
      "  interactivity=interactivity, compiler=compiler, result=result)\n"
     ]
    }
   ],
   "source": [
    "data_2016_2 = pd.read_csv('../DatosFTPICFES/SABER11/SB11-BASES_DE_DATOS/SB11-20162-RGSTRO-CLFCCN-V1-0.txt', delimiter = '|')"
   ]
  },
  {
   "cell_type": "code",
   "execution_count": 267,
   "metadata": {
    "collapsed": false
   },
   "outputs": [
    {
     "data": {
      "text/plain": [
       "(605982, 81)"
      ]
     },
     "execution_count": 267,
     "metadata": {},
     "output_type": "execute_result"
    }
   ],
   "source": [
    "data_2016_2.shape"
   ]
  },
  {
   "cell_type": "code",
   "execution_count": 268,
   "metadata": {
    "collapsed": false,
    "scrolled": true
   },
   "outputs": [
    {
     "data": {
      "text/html": [
       "<div>\n",
       "<table border=\"1\" class=\"dataframe\">\n",
       "  <thead>\n",
       "    <tr style=\"text-align: right;\">\n",
       "      <th></th>\n",
       "      <th>0</th>\n",
       "      <th>1</th>\n",
       "      <th>2</th>\n",
       "    </tr>\n",
       "  </thead>\n",
       "  <tbody>\n",
       "    <tr>\n",
       "      <th>PERIODO</th>\n",
       "      <td>20162</td>\n",
       "      <td>20162</td>\n",
       "      <td>20162</td>\n",
       "    </tr>\n",
       "    <tr>\n",
       "      <th>ESTU_CONSECUTIVO</th>\n",
       "      <td>SABER1120162000001</td>\n",
       "      <td>SABER1120162000002</td>\n",
       "      <td>SABER1120162000003</td>\n",
       "    </tr>\n",
       "    <tr>\n",
       "      <th>ESTU_ESTUDIANTE</th>\n",
       "      <td>ESTUDIANTE</td>\n",
       "      <td>ESTUDIANTE</td>\n",
       "      <td>INDIVIDUAL</td>\n",
       "    </tr>\n",
       "    <tr>\n",
       "      <th>ESTU_EDAD</th>\n",
       "      <td>18</td>\n",
       "      <td>16</td>\n",
       "      <td>19</td>\n",
       "    </tr>\n",
       "    <tr>\n",
       "      <th>ESTU_TIPO_DOCUMENTO</th>\n",
       "      <td>CC</td>\n",
       "      <td>TI</td>\n",
       "      <td>CC</td>\n",
       "    </tr>\n",
       "    <tr>\n",
       "      <th>ESTU_PAIS_RESIDE</th>\n",
       "      <td>1</td>\n",
       "      <td>1</td>\n",
       "      <td>1</td>\n",
       "    </tr>\n",
       "    <tr>\n",
       "      <th>ESTU_GENERO</th>\n",
       "      <td>M</td>\n",
       "      <td>M</td>\n",
       "      <td>M</td>\n",
       "    </tr>\n",
       "    <tr>\n",
       "      <th>ESTU_FECHA_NACIMIENTO</th>\n",
       "      <td>25/03/1998</td>\n",
       "      <td>22/12/1999</td>\n",
       "      <td>29/10/1997</td>\n",
       "    </tr>\n",
       "    <tr>\n",
       "      <th>ESTU_ETNIA</th>\n",
       "      <td>NaN</td>\n",
       "      <td>NaN</td>\n",
       "      <td>NaN</td>\n",
       "    </tr>\n",
       "    <tr>\n",
       "      <th>ESTU_LIMITA_MOTRIZ</th>\n",
       "      <td>NaN</td>\n",
       "      <td>NaN</td>\n",
       "      <td>NaN</td>\n",
       "    </tr>\n",
       "    <tr>\n",
       "      <th>ESTU_LIMITA_INVIDENTE</th>\n",
       "      <td>NaN</td>\n",
       "      <td>NaN</td>\n",
       "      <td>NaN</td>\n",
       "    </tr>\n",
       "    <tr>\n",
       "      <th>ESTU_LIMITA_CONDICIONESPECIAL</th>\n",
       "      <td>NaN</td>\n",
       "      <td>NaN</td>\n",
       "      <td>NaN</td>\n",
       "    </tr>\n",
       "    <tr>\n",
       "      <th>ESTU_LIMITA_SORDO</th>\n",
       "      <td>NaN</td>\n",
       "      <td>NaN</td>\n",
       "      <td>NaN</td>\n",
       "    </tr>\n",
       "    <tr>\n",
       "      <th>ESTU_LIMITA_SDOWN</th>\n",
       "      <td>NaN</td>\n",
       "      <td>NaN</td>\n",
       "      <td>NaN</td>\n",
       "    </tr>\n",
       "    <tr>\n",
       "      <th>ESTU_LIMITA_AUTISMO</th>\n",
       "      <td>NaN</td>\n",
       "      <td>NaN</td>\n",
       "      <td>NaN</td>\n",
       "    </tr>\n",
       "    <tr>\n",
       "      <th>ESTU_AREA_RESIDE</th>\n",
       "      <td>R</td>\n",
       "      <td>R</td>\n",
       "      <td>U</td>\n",
       "    </tr>\n",
       "    <tr>\n",
       "      <th>COLE_COD_MCPIO_UBICACION</th>\n",
       "      <td>5380</td>\n",
       "      <td>5380</td>\n",
       "      <td>NaN</td>\n",
       "    </tr>\n",
       "    <tr>\n",
       "      <th>ESTU_RESIDE_MCPIO</th>\n",
       "      <td>LA ESTRELLA</td>\n",
       "      <td>LA ESTRELLA</td>\n",
       "      <td>BOGOTÁ D.C.</td>\n",
       "    </tr>\n",
       "    <tr>\n",
       "      <th>ESTU_COD_RESIDE_DEPTO</th>\n",
       "      <td>5</td>\n",
       "      <td>5</td>\n",
       "      <td>11</td>\n",
       "    </tr>\n",
       "    <tr>\n",
       "      <th>ESTU_RESIDE_DEPTO</th>\n",
       "      <td>ANTIOQUIA</td>\n",
       "      <td>ANTIOQUIA</td>\n",
       "      <td>BOGOTA</td>\n",
       "    </tr>\n",
       "    <tr>\n",
       "      <th>ESTU_COD_RESIDE_MCPIO</th>\n",
       "      <td>5380</td>\n",
       "      <td>5380</td>\n",
       "      <td>11001</td>\n",
       "    </tr>\n",
       "    <tr>\n",
       "      <th>ESTU_ZONA_RESIDE</th>\n",
       "      <td>10</td>\n",
       "      <td>10</td>\n",
       "      <td>5</td>\n",
       "    </tr>\n",
       "    <tr>\n",
       "      <th>COLE_COD_DANE_INSTITUCION</th>\n",
       "      <td>4.0538e+11</td>\n",
       "      <td>4.0538e+11</td>\n",
       "      <td>NaN</td>\n",
       "    </tr>\n",
       "    <tr>\n",
       "      <th>COLE_COD_ICFES</th>\n",
       "      <td>2204</td>\n",
       "      <td>2204</td>\n",
       "      <td>NaN</td>\n",
       "    </tr>\n",
       "    <tr>\n",
       "      <th>COLE_NOMBRE_SEDE</th>\n",
       "      <td>COLEGIO DIVINO SALVADOR( ANTES SEMINARIO DIVIN...</td>\n",
       "      <td>COLEGIO DIVINO SALVADOR( ANTES SEMINARIO DIVIN...</td>\n",
       "      <td>NaN</td>\n",
       "    </tr>\n",
       "    <tr>\n",
       "      <th>COLE_JORNADA</th>\n",
       "      <td>C</td>\n",
       "      <td>C</td>\n",
       "      <td>NaN</td>\n",
       "    </tr>\n",
       "    <tr>\n",
       "      <th>COLE_GENERO</th>\n",
       "      <td>MIXTO</td>\n",
       "      <td>MIXTO</td>\n",
       "      <td>NaN</td>\n",
       "    </tr>\n",
       "    <tr>\n",
       "      <th>COLE_CARACTER</th>\n",
       "      <td>ACADÉMICO</td>\n",
       "      <td>ACADÉMICO</td>\n",
       "      <td>NaN</td>\n",
       "    </tr>\n",
       "    <tr>\n",
       "      <th>COLE_NATURALEZA</th>\n",
       "      <td>NO OFICIAL</td>\n",
       "      <td>NO OFICIAL</td>\n",
       "      <td>OTRO</td>\n",
       "    </tr>\n",
       "    <tr>\n",
       "      <th>COLE_CALENDARIO</th>\n",
       "      <td>A</td>\n",
       "      <td>A</td>\n",
       "      <td>NaN</td>\n",
       "    </tr>\n",
       "    <tr>\n",
       "      <th>...</th>\n",
       "      <td>...</td>\n",
       "      <td>...</td>\n",
       "      <td>...</td>\n",
       "    </tr>\n",
       "    <tr>\n",
       "      <th>FAMI_PISOSHOGAR</th>\n",
       "      <td>4</td>\n",
       "      <td>4</td>\n",
       "      <td>4</td>\n",
       "    </tr>\n",
       "    <tr>\n",
       "      <th>FAMI_DVD</th>\n",
       "      <td>N</td>\n",
       "      <td>S</td>\n",
       "      <td>S</td>\n",
       "    </tr>\n",
       "    <tr>\n",
       "      <th>FAMI_TELEFONO_FIJO</th>\n",
       "      <td>S</td>\n",
       "      <td>S</td>\n",
       "      <td>S</td>\n",
       "    </tr>\n",
       "    <tr>\n",
       "      <th>FAMI_INTERNET</th>\n",
       "      <td>S</td>\n",
       "      <td>S</td>\n",
       "      <td>N</td>\n",
       "    </tr>\n",
       "    <tr>\n",
       "      <th>FAMI_SERVICIO_TELEVISION</th>\n",
       "      <td>S</td>\n",
       "      <td>S</td>\n",
       "      <td>S</td>\n",
       "    </tr>\n",
       "    <tr>\n",
       "      <th>FAMI_COMPUTADOR</th>\n",
       "      <td>S</td>\n",
       "      <td>S</td>\n",
       "      <td>S</td>\n",
       "    </tr>\n",
       "    <tr>\n",
       "      <th>FAMI_LAVADORA</th>\n",
       "      <td>S</td>\n",
       "      <td>S</td>\n",
       "      <td>S</td>\n",
       "    </tr>\n",
       "    <tr>\n",
       "      <th>FAMI_MICROONDAS</th>\n",
       "      <td>S</td>\n",
       "      <td>S</td>\n",
       "      <td>S</td>\n",
       "    </tr>\n",
       "    <tr>\n",
       "      <th>FAMI_HORNO</th>\n",
       "      <td>S</td>\n",
       "      <td>S</td>\n",
       "      <td>N</td>\n",
       "    </tr>\n",
       "    <tr>\n",
       "      <th>FAMI_AUTOMOVIL</th>\n",
       "      <td>N</td>\n",
       "      <td>S</td>\n",
       "      <td>N</td>\n",
       "    </tr>\n",
       "    <tr>\n",
       "      <th>ESTU_NUMERO_LIBROS</th>\n",
       "      <td>11 A 25 LIBROS</td>\n",
       "      <td>11 A 25 LIBROS</td>\n",
       "      <td>0 A 10 LIBROS</td>\n",
       "    </tr>\n",
       "    <tr>\n",
       "      <th>FAMI_INGRESO_FMILIAR_MENSUAL</th>\n",
       "      <td>3</td>\n",
       "      <td>6</td>\n",
       "      <td>3</td>\n",
       "    </tr>\n",
       "    <tr>\n",
       "      <th>ESTU_RECIBE_SALARIO</th>\n",
       "      <td>NaN</td>\n",
       "      <td>NaN</td>\n",
       "      <td>NaN</td>\n",
       "    </tr>\n",
       "    <tr>\n",
       "      <th>PUNT_LECTURA_CRITICA</th>\n",
       "      <td>66</td>\n",
       "      <td>60</td>\n",
       "      <td>45</td>\n",
       "    </tr>\n",
       "    <tr>\n",
       "      <th>PERCENTIL_LECTURA_CRITICA</th>\n",
       "      <td>92</td>\n",
       "      <td>76</td>\n",
       "      <td>25</td>\n",
       "    </tr>\n",
       "    <tr>\n",
       "      <th>DESEMP_LECTURA_CRITICA</th>\n",
       "      <td>4</td>\n",
       "      <td>3</td>\n",
       "      <td>2</td>\n",
       "    </tr>\n",
       "    <tr>\n",
       "      <th>PUNT_MATEMATICAS</th>\n",
       "      <td>64</td>\n",
       "      <td>58</td>\n",
       "      <td>40</td>\n",
       "    </tr>\n",
       "    <tr>\n",
       "      <th>PERCENTIL_MATEMATICAS</th>\n",
       "      <td>86</td>\n",
       "      <td>73</td>\n",
       "      <td>19</td>\n",
       "    </tr>\n",
       "    <tr>\n",
       "      <th>DESEMP_MATEMATICAS</th>\n",
       "      <td>3</td>\n",
       "      <td>3</td>\n",
       "      <td>2</td>\n",
       "    </tr>\n",
       "    <tr>\n",
       "      <th>PUNT_C_NATURALES</th>\n",
       "      <td>63</td>\n",
       "      <td>57</td>\n",
       "      <td>36</td>\n",
       "    </tr>\n",
       "    <tr>\n",
       "      <th>PERCENTIL_C_NATURALES</th>\n",
       "      <td>85</td>\n",
       "      <td>69</td>\n",
       "      <td>5</td>\n",
       "    </tr>\n",
       "    <tr>\n",
       "      <th>DESEMP_C_NATURALES</th>\n",
       "      <td>3</td>\n",
       "      <td>3</td>\n",
       "      <td>1</td>\n",
       "    </tr>\n",
       "    <tr>\n",
       "      <th>PUNT_SOCIALES_CIUDADANAS</th>\n",
       "      <td>63</td>\n",
       "      <td>51</td>\n",
       "      <td>36</td>\n",
       "    </tr>\n",
       "    <tr>\n",
       "      <th>PERCENTIL_SOCIALES_CIUDADANAS</th>\n",
       "      <td>88</td>\n",
       "      <td>53</td>\n",
       "      <td>9</td>\n",
       "    </tr>\n",
       "    <tr>\n",
       "      <th>DESEMP_SOCIALES_CIUDADANAS</th>\n",
       "      <td>3</td>\n",
       "      <td>2</td>\n",
       "      <td>1</td>\n",
       "    </tr>\n",
       "    <tr>\n",
       "      <th>PUNT_INGLES</th>\n",
       "      <td>51</td>\n",
       "      <td>67</td>\n",
       "      <td>0</td>\n",
       "    </tr>\n",
       "    <tr>\n",
       "      <th>PERCENTIL_INGLES</th>\n",
       "      <td>50</td>\n",
       "      <td>89</td>\n",
       "      <td>1</td>\n",
       "    </tr>\n",
       "    <tr>\n",
       "      <th>DESEMP_INGLES</th>\n",
       "      <td>A1</td>\n",
       "      <td>A2</td>\n",
       "      <td>A-</td>\n",
       "    </tr>\n",
       "    <tr>\n",
       "      <th>PUNT_GLOBAL</th>\n",
       "      <td>315</td>\n",
       "      <td>287</td>\n",
       "      <td>181</td>\n",
       "    </tr>\n",
       "    <tr>\n",
       "      <th>PERCENTIL_GLOBAL</th>\n",
       "      <td>88</td>\n",
       "      <td>73</td>\n",
       "      <td>5</td>\n",
       "    </tr>\n",
       "  </tbody>\n",
       "</table>\n",
       "<p>81 rows × 3 columns</p>\n",
       "</div>"
      ],
      "text/plain": [
       "                                                                               0  \\\n",
       "PERIODO                                                                    20162   \n",
       "ESTU_CONSECUTIVO                                              SABER1120162000001   \n",
       "ESTU_ESTUDIANTE                                                       ESTUDIANTE   \n",
       "ESTU_EDAD                                                                     18   \n",
       "ESTU_TIPO_DOCUMENTO                                                           CC   \n",
       "ESTU_PAIS_RESIDE                                                               1   \n",
       "ESTU_GENERO                                                                    M   \n",
       "ESTU_FECHA_NACIMIENTO                                                 25/03/1998   \n",
       "ESTU_ETNIA                                                                   NaN   \n",
       "ESTU_LIMITA_MOTRIZ                                                           NaN   \n",
       "ESTU_LIMITA_INVIDENTE                                                        NaN   \n",
       "ESTU_LIMITA_CONDICIONESPECIAL                                                NaN   \n",
       "ESTU_LIMITA_SORDO                                                            NaN   \n",
       "ESTU_LIMITA_SDOWN                                                            NaN   \n",
       "ESTU_LIMITA_AUTISMO                                                          NaN   \n",
       "ESTU_AREA_RESIDE                                                               R   \n",
       "COLE_COD_MCPIO_UBICACION                                                    5380   \n",
       "ESTU_RESIDE_MCPIO                                                    LA ESTRELLA   \n",
       "ESTU_COD_RESIDE_DEPTO                                                          5   \n",
       "ESTU_RESIDE_DEPTO                                                      ANTIOQUIA   \n",
       "ESTU_COD_RESIDE_MCPIO                                                       5380   \n",
       "ESTU_ZONA_RESIDE                                                              10   \n",
       "COLE_COD_DANE_INSTITUCION                                             4.0538e+11   \n",
       "COLE_COD_ICFES                                                              2204   \n",
       "COLE_NOMBRE_SEDE               COLEGIO DIVINO SALVADOR( ANTES SEMINARIO DIVIN...   \n",
       "COLE_JORNADA                                                                   C   \n",
       "COLE_GENERO                                                                MIXTO   \n",
       "COLE_CARACTER                                                          ACADÉMICO   \n",
       "COLE_NATURALEZA                                                       NO OFICIAL   \n",
       "COLE_CALENDARIO                                                                A   \n",
       "...                                                                          ...   \n",
       "FAMI_PISOSHOGAR                                                                4   \n",
       "FAMI_DVD                                                                       N   \n",
       "FAMI_TELEFONO_FIJO                                                             S   \n",
       "FAMI_INTERNET                                                                  S   \n",
       "FAMI_SERVICIO_TELEVISION                                                       S   \n",
       "FAMI_COMPUTADOR                                                                S   \n",
       "FAMI_LAVADORA                                                                  S   \n",
       "FAMI_MICROONDAS                                                                S   \n",
       "FAMI_HORNO                                                                     S   \n",
       "FAMI_AUTOMOVIL                                                                 N   \n",
       "ESTU_NUMERO_LIBROS                                                11 A 25 LIBROS   \n",
       "FAMI_INGRESO_FMILIAR_MENSUAL                                                   3   \n",
       "ESTU_RECIBE_SALARIO                                                          NaN   \n",
       "PUNT_LECTURA_CRITICA                                                          66   \n",
       "PERCENTIL_LECTURA_CRITICA                                                     92   \n",
       "DESEMP_LECTURA_CRITICA                                                         4   \n",
       "PUNT_MATEMATICAS                                                              64   \n",
       "PERCENTIL_MATEMATICAS                                                         86   \n",
       "DESEMP_MATEMATICAS                                                             3   \n",
       "PUNT_C_NATURALES                                                              63   \n",
       "PERCENTIL_C_NATURALES                                                         85   \n",
       "DESEMP_C_NATURALES                                                             3   \n",
       "PUNT_SOCIALES_CIUDADANAS                                                      63   \n",
       "PERCENTIL_SOCIALES_CIUDADANAS                                                 88   \n",
       "DESEMP_SOCIALES_CIUDADANAS                                                     3   \n",
       "PUNT_INGLES                                                                   51   \n",
       "PERCENTIL_INGLES                                                              50   \n",
       "DESEMP_INGLES                                                                 A1   \n",
       "PUNT_GLOBAL                                                                  315   \n",
       "PERCENTIL_GLOBAL                                                              88   \n",
       "\n",
       "                                                                               1  \\\n",
       "PERIODO                                                                    20162   \n",
       "ESTU_CONSECUTIVO                                              SABER1120162000002   \n",
       "ESTU_ESTUDIANTE                                                       ESTUDIANTE   \n",
       "ESTU_EDAD                                                                     16   \n",
       "ESTU_TIPO_DOCUMENTO                                                           TI   \n",
       "ESTU_PAIS_RESIDE                                                               1   \n",
       "ESTU_GENERO                                                                    M   \n",
       "ESTU_FECHA_NACIMIENTO                                                 22/12/1999   \n",
       "ESTU_ETNIA                                                                   NaN   \n",
       "ESTU_LIMITA_MOTRIZ                                                           NaN   \n",
       "ESTU_LIMITA_INVIDENTE                                                        NaN   \n",
       "ESTU_LIMITA_CONDICIONESPECIAL                                                NaN   \n",
       "ESTU_LIMITA_SORDO                                                            NaN   \n",
       "ESTU_LIMITA_SDOWN                                                            NaN   \n",
       "ESTU_LIMITA_AUTISMO                                                          NaN   \n",
       "ESTU_AREA_RESIDE                                                               R   \n",
       "COLE_COD_MCPIO_UBICACION                                                    5380   \n",
       "ESTU_RESIDE_MCPIO                                                    LA ESTRELLA   \n",
       "ESTU_COD_RESIDE_DEPTO                                                          5   \n",
       "ESTU_RESIDE_DEPTO                                                      ANTIOQUIA   \n",
       "ESTU_COD_RESIDE_MCPIO                                                       5380   \n",
       "ESTU_ZONA_RESIDE                                                              10   \n",
       "COLE_COD_DANE_INSTITUCION                                             4.0538e+11   \n",
       "COLE_COD_ICFES                                                              2204   \n",
       "COLE_NOMBRE_SEDE               COLEGIO DIVINO SALVADOR( ANTES SEMINARIO DIVIN...   \n",
       "COLE_JORNADA                                                                   C   \n",
       "COLE_GENERO                                                                MIXTO   \n",
       "COLE_CARACTER                                                          ACADÉMICO   \n",
       "COLE_NATURALEZA                                                       NO OFICIAL   \n",
       "COLE_CALENDARIO                                                                A   \n",
       "...                                                                          ...   \n",
       "FAMI_PISOSHOGAR                                                                4   \n",
       "FAMI_DVD                                                                       S   \n",
       "FAMI_TELEFONO_FIJO                                                             S   \n",
       "FAMI_INTERNET                                                                  S   \n",
       "FAMI_SERVICIO_TELEVISION                                                       S   \n",
       "FAMI_COMPUTADOR                                                                S   \n",
       "FAMI_LAVADORA                                                                  S   \n",
       "FAMI_MICROONDAS                                                                S   \n",
       "FAMI_HORNO                                                                     S   \n",
       "FAMI_AUTOMOVIL                                                                 S   \n",
       "ESTU_NUMERO_LIBROS                                                11 A 25 LIBROS   \n",
       "FAMI_INGRESO_FMILIAR_MENSUAL                                                   6   \n",
       "ESTU_RECIBE_SALARIO                                                          NaN   \n",
       "PUNT_LECTURA_CRITICA                                                          60   \n",
       "PERCENTIL_LECTURA_CRITICA                                                     76   \n",
       "DESEMP_LECTURA_CRITICA                                                         3   \n",
       "PUNT_MATEMATICAS                                                              58   \n",
       "PERCENTIL_MATEMATICAS                                                         73   \n",
       "DESEMP_MATEMATICAS                                                             3   \n",
       "PUNT_C_NATURALES                                                              57   \n",
       "PERCENTIL_C_NATURALES                                                         69   \n",
       "DESEMP_C_NATURALES                                                             3   \n",
       "PUNT_SOCIALES_CIUDADANAS                                                      51   \n",
       "PERCENTIL_SOCIALES_CIUDADANAS                                                 53   \n",
       "DESEMP_SOCIALES_CIUDADANAS                                                     2   \n",
       "PUNT_INGLES                                                                   67   \n",
       "PERCENTIL_INGLES                                                              89   \n",
       "DESEMP_INGLES                                                                 A2   \n",
       "PUNT_GLOBAL                                                                  287   \n",
       "PERCENTIL_GLOBAL                                                              73   \n",
       "\n",
       "                                                2  \n",
       "PERIODO                                     20162  \n",
       "ESTU_CONSECUTIVO               SABER1120162000003  \n",
       "ESTU_ESTUDIANTE                        INDIVIDUAL  \n",
       "ESTU_EDAD                                      19  \n",
       "ESTU_TIPO_DOCUMENTO                            CC  \n",
       "ESTU_PAIS_RESIDE                                1  \n",
       "ESTU_GENERO                                     M  \n",
       "ESTU_FECHA_NACIMIENTO                  29/10/1997  \n",
       "ESTU_ETNIA                                    NaN  \n",
       "ESTU_LIMITA_MOTRIZ                            NaN  \n",
       "ESTU_LIMITA_INVIDENTE                         NaN  \n",
       "ESTU_LIMITA_CONDICIONESPECIAL                 NaN  \n",
       "ESTU_LIMITA_SORDO                             NaN  \n",
       "ESTU_LIMITA_SDOWN                             NaN  \n",
       "ESTU_LIMITA_AUTISMO                           NaN  \n",
       "ESTU_AREA_RESIDE                                U  \n",
       "COLE_COD_MCPIO_UBICACION                      NaN  \n",
       "ESTU_RESIDE_MCPIO                     BOGOTÁ D.C.  \n",
       "ESTU_COD_RESIDE_DEPTO                          11  \n",
       "ESTU_RESIDE_DEPTO                          BOGOTA  \n",
       "ESTU_COD_RESIDE_MCPIO                       11001  \n",
       "ESTU_ZONA_RESIDE                                5  \n",
       "COLE_COD_DANE_INSTITUCION                     NaN  \n",
       "COLE_COD_ICFES                                NaN  \n",
       "COLE_NOMBRE_SEDE                              NaN  \n",
       "COLE_JORNADA                                  NaN  \n",
       "COLE_GENERO                                   NaN  \n",
       "COLE_CARACTER                                 NaN  \n",
       "COLE_NATURALEZA                              OTRO  \n",
       "COLE_CALENDARIO                               NaN  \n",
       "...                                           ...  \n",
       "FAMI_PISOSHOGAR                                 4  \n",
       "FAMI_DVD                                        S  \n",
       "FAMI_TELEFONO_FIJO                              S  \n",
       "FAMI_INTERNET                                   N  \n",
       "FAMI_SERVICIO_TELEVISION                        S  \n",
       "FAMI_COMPUTADOR                                 S  \n",
       "FAMI_LAVADORA                                   S  \n",
       "FAMI_MICROONDAS                                 S  \n",
       "FAMI_HORNO                                      N  \n",
       "FAMI_AUTOMOVIL                                  N  \n",
       "ESTU_NUMERO_LIBROS                  0 A 10 LIBROS  \n",
       "FAMI_INGRESO_FMILIAR_MENSUAL                    3  \n",
       "ESTU_RECIBE_SALARIO                           NaN  \n",
       "PUNT_LECTURA_CRITICA                           45  \n",
       "PERCENTIL_LECTURA_CRITICA                      25  \n",
       "DESEMP_LECTURA_CRITICA                          2  \n",
       "PUNT_MATEMATICAS                               40  \n",
       "PERCENTIL_MATEMATICAS                          19  \n",
       "DESEMP_MATEMATICAS                              2  \n",
       "PUNT_C_NATURALES                               36  \n",
       "PERCENTIL_C_NATURALES                           5  \n",
       "DESEMP_C_NATURALES                              1  \n",
       "PUNT_SOCIALES_CIUDADANAS                       36  \n",
       "PERCENTIL_SOCIALES_CIUDADANAS                   9  \n",
       "DESEMP_SOCIALES_CIUDADANAS                      1  \n",
       "PUNT_INGLES                                     0  \n",
       "PERCENTIL_INGLES                                1  \n",
       "DESEMP_INGLES                                  A-  \n",
       "PUNT_GLOBAL                                   181  \n",
       "PERCENTIL_GLOBAL                                5  \n",
       "\n",
       "[81 rows x 3 columns]"
      ]
     },
     "execution_count": 268,
     "metadata": {},
     "output_type": "execute_result"
    }
   ],
   "source": [
    "data_2016_2.head(3).T"
   ]
  },
  {
   "cell_type": "code",
   "execution_count": 269,
   "metadata": {
    "collapsed": false
   },
   "outputs": [
    {
     "name": "stdout",
     "output_type": "stream",
     "text": [
      "Int64Index([20162], dtype='int64')\n",
      "20162    605982\n",
      "Name: PERIODO, dtype: int64\n",
      "Elementos null/NaN 0\n",
      "__________________\n",
      "Elementos diferentes de null/NaN: 605982\n",
      "__________________\n",
      "(605982,)\n",
      "None\n"
     ]
    }
   ],
   "source": [
    "c = 'PERIODO'\n",
    "print(data_2016_2[c].value_counts().sort_index().index)\n",
    "print(data_2016_2[c].value_counts().sort_index())\n",
    "print(missing_data(data_2016_2[c]))"
   ]
  },
  {
   "cell_type": "code",
   "execution_count": 270,
   "metadata": {
    "collapsed": true
   },
   "outputs": [],
   "source": [
    "data_2016_2 = data_2016_2.drop(c, axis=1)"
   ]
  },
  {
   "cell_type": "code",
   "execution_count": 271,
   "metadata": {
    "collapsed": false,
    "scrolled": true
   },
   "outputs": [
    {
     "name": "stdout",
     "output_type": "stream",
     "text": [
      "Index(['SABER1120162000001', 'SABER1120162000002', 'SABER1120162000003',\n",
      "       'SABER1120162000004', 'SABER1120162000005', 'SABER1120162000006',\n",
      "       'SABER1120162000007', 'SABER1120162000008', 'SABER1120162000009',\n",
      "       'SABER1120162000010',\n",
      "       ...\n",
      "       'SABER1120162605973', 'SABER1120162605974', 'SABER1120162605975',\n",
      "       'SABER1120162605976', 'SABER1120162605977', 'SABER1120162605978',\n",
      "       'SABER1120162605979', 'SABER1120162605980', 'SABER1120162605981',\n",
      "       'SABER1120162605982'],\n",
      "      dtype='object', length=605982)\n",
      "SABER1120162000001    1\n",
      "SABER1120162000002    1\n",
      "SABER1120162000003    1\n",
      "SABER1120162000004    1\n",
      "SABER1120162000005    1\n",
      "SABER1120162000006    1\n",
      "SABER1120162000007    1\n",
      "SABER1120162000008    1\n",
      "SABER1120162000009    1\n",
      "SABER1120162000010    1\n",
      "SABER1120162000011    1\n",
      "SABER1120162000012    1\n",
      "SABER1120162000013    1\n",
      "SABER1120162000014    1\n",
      "SABER1120162000015    1\n",
      "SABER1120162000016    1\n",
      "SABER1120162000017    1\n",
      "SABER1120162000018    1\n",
      "SABER1120162000019    1\n",
      "SABER1120162000020    1\n",
      "SABER1120162000021    1\n",
      "SABER1120162000022    1\n",
      "SABER1120162000023    1\n",
      "SABER1120162000024    1\n",
      "SABER1120162000025    1\n",
      "SABER1120162000026    1\n",
      "SABER1120162000027    1\n",
      "SABER1120162000028    1\n",
      "SABER1120162000029    1\n",
      "SABER1120162000030    1\n",
      "                     ..\n",
      "SABER1120162605953    1\n",
      "SABER1120162605954    1\n",
      "SABER1120162605955    1\n",
      "SABER1120162605956    1\n",
      "SABER1120162605957    1\n",
      "SABER1120162605958    1\n",
      "SABER1120162605959    1\n",
      "SABER1120162605960    1\n",
      "SABER1120162605961    1\n",
      "SABER1120162605962    1\n",
      "SABER1120162605963    1\n",
      "SABER1120162605964    1\n",
      "SABER1120162605965    1\n",
      "SABER1120162605966    1\n",
      "SABER1120162605967    1\n",
      "SABER1120162605968    1\n",
      "SABER1120162605969    1\n",
      "SABER1120162605970    1\n",
      "SABER1120162605971    1\n",
      "SABER1120162605972    1\n",
      "SABER1120162605973    1\n",
      "SABER1120162605974    1\n",
      "SABER1120162605975    1\n",
      "SABER1120162605976    1\n",
      "SABER1120162605977    1\n",
      "SABER1120162605978    1\n",
      "SABER1120162605979    1\n",
      "SABER1120162605980    1\n",
      "SABER1120162605981    1\n",
      "SABER1120162605982    1\n",
      "Name: ESTU_CONSECUTIVO, dtype: int64\n",
      "Elementos null/NaN 0\n",
      "__________________\n",
      "Elementos diferentes de null/NaN: 605982\n",
      "__________________\n",
      "(605982,)\n",
      "None\n"
     ]
    }
   ],
   "source": [
    "c = 'ESTU_CONSECUTIVO'\n",
    "print(data_2016_2[c].value_counts().sort_index().index)\n",
    "print(data_2016_2[c].value_counts().sort_index())\n",
    "print(missing_data(data_2016_2[c]))"
   ]
  },
  {
   "cell_type": "code",
   "execution_count": 272,
   "metadata": {
    "collapsed": true
   },
   "outputs": [],
   "source": [
    "data_2016_2 = data_2016_2.drop(c, axis=1)"
   ]
  },
  {
   "cell_type": "code",
   "execution_count": 273,
   "metadata": {
    "collapsed": false
   },
   "outputs": [
    {
     "name": "stdout",
     "output_type": "stream",
     "text": [
      "Index(['ESTUDIANTE', 'INDIVIDUAL'], dtype='object')\n",
      "ESTUDIANTE    567777\n",
      "INDIVIDUAL     38205\n",
      "Name: ESTU_ESTUDIANTE, dtype: int64\n",
      "Elementos null/NaN 0\n",
      "__________________\n",
      "Elementos diferentes de null/NaN: 605982\n",
      "__________________\n",
      "(605982,)\n",
      "None\n"
     ]
    }
   ],
   "source": [
    "c = 'ESTU_ESTUDIANTE'\n",
    "print(data_2016_2[c].value_counts().sort_index().index)\n",
    "print(data_2016_2[c].value_counts().sort_index())\n",
    "print(missing_data(data_2016_2[c]))"
   ]
  },
  {
   "cell_type": "code",
   "execution_count": 274,
   "metadata": {
    "collapsed": false,
    "scrolled": true
   },
   "outputs": [
    {
     "name": "stdout",
     "output_type": "stream",
     "text": [
      "Int64Index([ 0,  1,  2,  3,  4,  5,  6,  7,  8,  9, 10, 11, 12, 13, 14, 15, 16,\n",
      "            17, 18, 19, 20, 21, 22, 23, 24, 25, 26, 27, 28, 29, 30, 31, 32, 33,\n",
      "            34, 35, 36, 37, 38, 39, 40, 41, 42, 43, 44, 45, 46, 47, 48, 49, 50,\n",
      "            51, 52, 53, 54, 55, 56, 57, 58, 59, 60, 61, 62, 63, 64, 65, 66, 67,\n",
      "            68, 69, 70, 71, 72, 73, 74, 75, 76, 77, 81, 82, 83, 85, 95],\n",
      "           dtype='int64')\n",
      "0        230\n",
      "1         79\n",
      "2         12\n",
      "3          4\n",
      "4          1\n",
      "5          8\n",
      "6         35\n",
      "7         71\n",
      "8         65\n",
      "9         67\n",
      "10        32\n",
      "11        17\n",
      "12        14\n",
      "13        74\n",
      "14       422\n",
      "15      9646\n",
      "16    140320\n",
      "17    212949\n",
      "18    112670\n",
      "19     51697\n",
      "20     20823\n",
      "21     10292\n",
      "22      6552\n",
      "23      4756\n",
      "24      3714\n",
      "25      3026\n",
      "26      2618\n",
      "27      2315\n",
      "28      2053\n",
      "29      1866\n",
      "       ...  \n",
      "53       209\n",
      "54       195\n",
      "55       137\n",
      "56       155\n",
      "57        99\n",
      "58       106\n",
      "59        78\n",
      "60        61\n",
      "61        55\n",
      "62        46\n",
      "63        35\n",
      "64        35\n",
      "65        25\n",
      "66        23\n",
      "67        19\n",
      "68        14\n",
      "69        12\n",
      "70        10\n",
      "71         8\n",
      "72         6\n",
      "73         4\n",
      "74         2\n",
      "75         4\n",
      "76         2\n",
      "77         1\n",
      "81         1\n",
      "82         1\n",
      "83         1\n",
      "85         1\n",
      "95         1\n",
      "Name: ESTU_EDAD, dtype: int64\n",
      "Elementos null/NaN 0\n",
      "__________________\n",
      "Elementos diferentes de null/NaN: 605982\n",
      "__________________\n",
      "(605982,)\n",
      "None\n"
     ]
    }
   ],
   "source": [
    "c = 'ESTU_EDAD'\n",
    "print(data_2016_2[c].value_counts().sort_index().index)\n",
    "print(data_2016_2[c].value_counts().sort_index())\n",
    "print(missing_data(data_2016_2[c]))"
   ]
  },
  {
   "cell_type": "code",
   "execution_count": 275,
   "metadata": {
    "collapsed": false
   },
   "outputs": [
    {
     "name": "stdout",
     "output_type": "stream",
     "text": [
      "cant null antes: 510\n",
      "cant null despues: 0\n"
     ]
    }
   ],
   "source": [
    "for i in data_2016_2[c].value_counts().sort_index().index:\n",
    "    if i < 9:\n",
    "        data_2016_2[c] = data_2016_2[c].replace(i, np.nan)\n",
    "    elif i > 80:\n",
    "        data_2016_2[c] = data_2016_2[c].replace(i, np.nan)\n",
    "        \n",
    "Do_resamples(data_2016_2, c, int)"
   ]
  },
  {
   "cell_type": "code",
   "execution_count": 276,
   "metadata": {
    "collapsed": false,
    "scrolled": true
   },
   "outputs": [
    {
     "name": "stdout",
     "output_type": "stream",
     "text": [
      "Index(['CC', 'CE', 'CR', 'PC', 'PE', 'PV', 'TI'], dtype='object')\n",
      "CC    131797\n",
      "CE       489\n",
      "CR     11498\n",
      "PC        24\n",
      "PE        92\n",
      "PV         2\n",
      "TI    462080\n",
      "Name: ESTU_TIPO_DOCUMENTO, dtype: int64\n",
      "Elementos null/NaN 0\n",
      "__________________\n",
      "Elementos diferentes de null/NaN: 605982\n",
      "__________________\n",
      "(605982,)\n",
      "None\n"
     ]
    }
   ],
   "source": [
    "c = 'ESTU_TIPO_DOCUMENTO'\n",
    "print(data_2016_2[c].value_counts().sort_index().index)\n",
    "print(data_2016_2[c].value_counts().sort_index())\n",
    "print(missing_data(data_2016_2[c]))"
   ]
  },
  {
   "cell_type": "code",
   "execution_count": 277,
   "metadata": {
    "collapsed": true
   },
   "outputs": [],
   "source": [
    "data_2016_2 = data_2016_2.drop(c, axis=1)"
   ]
  },
  {
   "cell_type": "code",
   "execution_count": 278,
   "metadata": {
    "collapsed": false,
    "scrolled": true
   },
   "outputs": [
    {
     "name": "stdout",
     "output_type": "stream",
     "text": [
      "Int64Index([  1,   2,   8,  12,  14,  15,  18,  23,  28,  29,  33,  35,  41,\n",
      "             46,  47,  50,  54,  55,  57,  59,  63,  64,  65,  67,  76,  83,\n",
      "             89,  91,  98,  99, 103, 110, 112, 118, 119, 144, 154, 157, 171,\n",
      "            174, 179, 202, 209, 218, 226, 228, 235, 236, 238, 241, 242, 249],\n",
      "           dtype='int64')\n",
      "1      605464\n",
      "2           1\n",
      "8           1\n",
      "12         11\n",
      "14          3\n",
      "15          3\n",
      "18          1\n",
      "23          2\n",
      "28          6\n",
      "29          1\n",
      "33          5\n",
      "35          2\n",
      "41          1\n",
      "46          7\n",
      "47          1\n",
      "50         22\n",
      "54          8\n",
      "55          3\n",
      "57          5\n",
      "59          1\n",
      "63          1\n",
      "64          2\n",
      "65         45\n",
      "67          5\n",
      "76          4\n",
      "83          5\n",
      "89          1\n",
      "91          5\n",
      "98          2\n",
      "99          3\n",
      "103         1\n",
      "110         9\n",
      "112         3\n",
      "118        10\n",
      "119         7\n",
      "144        17\n",
      "154         1\n",
      "157         2\n",
      "171        11\n",
      "174        22\n",
      "179         2\n",
      "202         1\n",
      "209        25\n",
      "218         2\n",
      "226         1\n",
      "228         1\n",
      "235         6\n",
      "236        78\n",
      "238         7\n",
      "241       153\n",
      "242         1\n",
      "249         1\n",
      "Name: ESTU_PAIS_RESIDE, dtype: int64\n",
      "Elementos null/NaN 0\n",
      "__________________\n",
      "Elementos diferentes de null/NaN: 605982\n",
      "__________________\n",
      "(605982,)\n",
      "None\n"
     ]
    }
   ],
   "source": [
    "c = 'ESTU_PAIS_RESIDE'\n",
    "print(data_2016_2[c].value_counts().sort_index().index)\n",
    "print(data_2016_2[c].value_counts().sort_index())\n",
    "print(missing_data(data_2016_2[c]))"
   ]
  },
  {
   "cell_type": "code",
   "execution_count": 279,
   "metadata": {
    "collapsed": false
   },
   "outputs": [
    {
     "name": "stdout",
     "output_type": "stream",
     "text": [
      "Index(['F', 'M'], dtype='object')\n",
      "F    328379\n",
      "M    277602\n",
      "Name: ESTU_GENERO, dtype: int64\n",
      "Elementos null/NaN 1\n",
      "__________________\n",
      "Elementos diferentes de null/NaN: 605981\n",
      "__________________\n",
      "(605981,)\n",
      "None\n"
     ]
    }
   ],
   "source": [
    "c = 'ESTU_GENERO'\n",
    "print(data_2016_2[c].value_counts().sort_index().index)\n",
    "print(data_2016_2[c].value_counts().sort_index())\n",
    "print(missing_data(data_2016_2[c]))"
   ]
  },
  {
   "cell_type": "code",
   "execution_count": 280,
   "metadata": {
    "collapsed": true
   },
   "outputs": [],
   "source": [
    "idx = data_2016_2[data_2016_2[c].isnull()].index\n",
    "data_2016_2 = data_2016_2.drop(idx)"
   ]
  },
  {
   "cell_type": "code",
   "execution_count": 281,
   "metadata": {
    "collapsed": false,
    "scrolled": true
   },
   "outputs": [
    {
     "name": "stdout",
     "output_type": "stream",
     "text": [
      "Index(['01/01/1900', '01/01/1950', '01/01/1957', '01/01/1958', '01/01/1962',\n",
      "       '01/01/1963', '01/01/1965', '01/01/1967', '01/01/1968', '01/01/1969',\n",
      "       ...\n",
      "       '31/12/1994', '31/12/1995', '31/12/1996', '31/12/1997', '31/12/1998',\n",
      "       '31/12/1999', '31/12/2000', '31/12/2001', '31/12/2002', '31/12/2007'],\n",
      "      dtype='object', length=14141)\n",
      "01/01/1900     20\n",
      "01/01/1950      1\n",
      "01/01/1957      1\n",
      "01/01/1958      1\n",
      "01/01/1962      1\n",
      "01/01/1963      3\n",
      "01/01/1965      1\n",
      "01/01/1967      3\n",
      "01/01/1968      1\n",
      "01/01/1969      3\n",
      "01/01/1970      3\n",
      "01/01/1971      6\n",
      "01/01/1972      1\n",
      "01/01/1974      2\n",
      "01/01/1976      3\n",
      "01/01/1977      6\n",
      "01/01/1978      1\n",
      "01/01/1980      5\n",
      "01/01/1981      6\n",
      "01/01/1982      4\n",
      "01/01/1983      4\n",
      "01/01/1984      5\n",
      "01/01/1985      4\n",
      "01/01/1986      3\n",
      "01/01/1987      8\n",
      "01/01/1988      7\n",
      "01/01/1989     12\n",
      "01/01/1990     14\n",
      "01/01/1991     16\n",
      "01/01/1992     10\n",
      "             ... \n",
      "31/12/1974      1\n",
      "31/12/1975      2\n",
      "31/12/1976      1\n",
      "31/12/1977      2\n",
      "31/12/1978      2\n",
      "31/12/1979      1\n",
      "31/12/1980      1\n",
      "31/12/1981      3\n",
      "31/12/1982      8\n",
      "31/12/1983      1\n",
      "31/12/1984      4\n",
      "31/12/1985      1\n",
      "31/12/1986      6\n",
      "31/12/1987      5\n",
      "31/12/1988      9\n",
      "31/12/1989      8\n",
      "31/12/1990     10\n",
      "31/12/1991     12\n",
      "31/12/1992     10\n",
      "31/12/1993     18\n",
      "31/12/1994     14\n",
      "31/12/1995     37\n",
      "31/12/1996     86\n",
      "31/12/1997    202\n",
      "31/12/1998    359\n",
      "31/12/1999    606\n",
      "31/12/2000     73\n",
      "31/12/2001      6\n",
      "31/12/2002      1\n",
      "31/12/2007      1\n",
      "Name: ESTU_FECHA_NACIMIENTO, dtype: int64\n",
      "Elementos null/NaN 0\n",
      "__________________\n",
      "Elementos diferentes de null/NaN: 605981\n",
      "__________________\n",
      "(605981,)\n",
      "None\n"
     ]
    }
   ],
   "source": [
    "c = 'ESTU_FECHA_NACIMIENTO'\n",
    "print(data_2016_2[c].value_counts().sort_index().index)\n",
    "print(data_2016_2[c].value_counts().sort_index())\n",
    "print(missing_data(data_2016_2[c]))"
   ]
  },
  {
   "cell_type": "code",
   "execution_count": 282,
   "metadata": {
    "collapsed": true
   },
   "outputs": [],
   "source": [
    "Sep_Col = pd.DataFrame(data_2016_2.ESTU_FECHA_NACIMIENTO.str.split('/').tolist(), columns=['ESTU_NACIMIENTO_DIA', \n",
    "                                                                                         'ESTU_NACIMIENTO_MES',\n",
    "                                                                                         'ESTU_NACIMIENTO_ANNO'])\n",
    "data_2016_2 = pd.concat([data_2016_2, Sep_Col], axis=1)\n",
    "data_2016_2 = data_2016_2.drop('ESTU_FECHA_NACIMIENTO', axis=1)\n"
   ]
  },
  {
   "cell_type": "code",
   "execution_count": 283,
   "metadata": {
    "collapsed": false,
    "scrolled": true
   },
   "outputs": [
    {
     "name": "stdout",
     "output_type": "stream",
     "text": [
      "Index(['0001', '0002', '0015', '0068', '0083', '0086', '0088', '0089', '0091',\n",
      "       '0092',\n",
      "       ...\n",
      "       '41', '42', '43', '44', '45', '46', '47', '48', '49', '5603'],\n",
      "      dtype='object', length=113)\n",
      "0001      2\n",
      "0002      2\n",
      "0015      1\n",
      "0068      1\n",
      "0083      1\n",
      "0086      1\n",
      "0088      1\n",
      "0089      3\n",
      "0091      1\n",
      "0092      2\n",
      "0093      4\n",
      "0094      3\n",
      "0095      2\n",
      "0096      7\n",
      "0097     10\n",
      "0098     14\n",
      "0099     16\n",
      "0196      1\n",
      "0199      2\n",
      "0200      2\n",
      "0994      1\n",
      "1078      1\n",
      "1098      1\n",
      "1099      1\n",
      "1194      1\n",
      "1886      1\n",
      "1887      1\n",
      "1889      1\n",
      "1900     23\n",
      "1916      1\n",
      "       ... \n",
      "2003     62\n",
      "2004     13\n",
      "2005     19\n",
      "2006     30\n",
      "2007     74\n",
      "2008     61\n",
      "2009     74\n",
      "2010     30\n",
      "2011      7\n",
      "2013      4\n",
      "2014     13\n",
      "2015     81\n",
      "2016    225\n",
      "21        1\n",
      "31        1\n",
      "33        1\n",
      "34        1\n",
      "35        1\n",
      "39        1\n",
      "40        2\n",
      "41        4\n",
      "42        3\n",
      "43        3\n",
      "44        6\n",
      "45       11\n",
      "46        7\n",
      "47       12\n",
      "48       14\n",
      "49       19\n",
      "5603      1\n",
      "Name: ESTU_NACIMIENTO_ANNO, dtype: int64\n",
      "Elementos null/NaN 1\n",
      "__________________\n",
      "Elementos diferentes de null/NaN: 605981\n",
      "__________________\n",
      "(605981,)\n",
      "None\n"
     ]
    }
   ],
   "source": [
    "c = 'ESTU_NACIMIENTO_ANNO'\n",
    "print(data_2016_2[c].value_counts().sort_index().index)\n",
    "print(data_2016_2[c].value_counts().sort_index())\n",
    "print(missing_data(data_2016_2[c]))"
   ]
  },
  {
   "cell_type": "code",
   "execution_count": 284,
   "metadata": {
    "collapsed": false
   },
   "outputs": [],
   "source": [
    "for i in data_2016_2[c].value_counts().sort_index().index:\n",
    "    if len(str(i)) < 4:\n",
    "        data_2016_2[c] = data_2016_2[c].replace(i, np.nan)\n",
    "    elif type(i) == str:\n",
    "        data_2016_2[c] = data_2016_2[c].replace(i, float(i))\n",
    "    elif i < 1930:\n",
    "        data_2016_2[c] = data_2016_2[c].replace(i, np.nan)\n",
    "    elif i > 2007:\n",
    "        data_2016_2[c] = data_2016_2[c].replace(i, np.nan)\n",
    "        \n",
    "idx = data_2016_2[data_2016_2[c].isnull()].index\n",
    "data_2016_2 = data_2016_2.drop(idx)"
   ]
  },
  {
   "cell_type": "code",
   "execution_count": 285,
   "metadata": {
    "collapsed": false,
    "scrolled": false
   },
   "outputs": [
    {
     "name": "stdout",
     "output_type": "stream",
     "text": [
      "Index(['01', '02', '03', '04', '05', '06', '07', '08', '09', '10', '11', '12'], dtype='object')\n",
      "01    50779\n",
      "02    45578\n",
      "03    50992\n",
      "04    47931\n",
      "05    50490\n",
      "06    48598\n",
      "07    50094\n",
      "08    51423\n",
      "09    54425\n",
      "10    52985\n",
      "11    50946\n",
      "12    51653\n",
      "Name: ESTU_NACIMIENTO_MES, dtype: int64\n",
      "Elementos null/NaN 0\n",
      "__________________\n",
      "Elementos diferentes de null/NaN: 605894\n",
      "__________________\n",
      "(605894,)\n",
      "None\n"
     ]
    }
   ],
   "source": [
    "c = 'ESTU_NACIMIENTO_MES'\n",
    "print(data_2016_2[c].value_counts().sort_index().index)\n",
    "print(data_2016_2[c].value_counts().sort_index())\n",
    "print(missing_data(data_2016_2[c]))"
   ]
  },
  {
   "cell_type": "code",
   "execution_count": 286,
   "metadata": {
    "collapsed": false,
    "scrolled": true
   },
   "outputs": [
    {
     "name": "stdout",
     "output_type": "stream",
     "text": [
      "Index(['01', '02', '03', '04', '05', '06', '07', '08', '09', '10', '11', '12',\n",
      "       '13', '14', '15', '16', '17', '18', '19', '20', '21', '22', '23', '24',\n",
      "       '25', '26', '27', '28', '29', '30', '31'],\n",
      "      dtype='object')\n",
      "01    20829\n",
      "02    19802\n",
      "03    20143\n",
      "04    19937\n",
      "05    19954\n",
      "06    19887\n",
      "07    19947\n",
      "08    19863\n",
      "09    19700\n",
      "10    20396\n",
      "11    20057\n",
      "12    20420\n",
      "13    19560\n",
      "14    19789\n",
      "15    20211\n",
      "16    19799\n",
      "17    19946\n",
      "18    19854\n",
      "19    19633\n",
      "20    20411\n",
      "21    19791\n",
      "22    20147\n",
      "23    19845\n",
      "24    19626\n",
      "25    19357\n",
      "26    19567\n",
      "27    19679\n",
      "28    20146\n",
      "29    18432\n",
      "30    18298\n",
      "31    10868\n",
      "Name: ESTU_NACIMIENTO_DIA, dtype: int64\n",
      "Elementos null/NaN 0\n",
      "__________________\n",
      "Elementos diferentes de null/NaN: 605894\n",
      "__________________\n",
      "(605894,)\n",
      "None\n"
     ]
    }
   ],
   "source": [
    "c = 'ESTU_NACIMIENTO_DIA'\n",
    "print(data_2016_2[c].value_counts().sort_index().index)\n",
    "print(data_2016_2[c].value_counts().sort_index())\n",
    "print(missing_data(data_2016_2[c]))"
   ]
  },
  {
   "cell_type": "code",
   "execution_count": 287,
   "metadata": {
    "collapsed": true
   },
   "outputs": [],
   "source": [
    "idx = data_2016_2[data_2016_2[c].isnull()].index\n",
    "data_2016_2 = data_2016_2.drop(idx)"
   ]
  },
  {
   "cell_type": "code",
   "execution_count": 288,
   "metadata": {
    "collapsed": false,
    "scrolled": true
   },
   "outputs": [
    {
     "name": "stdout",
     "output_type": "stream",
     "text": [
      "Float64Index([  1.0,   2.0,   3.0,   4.0,   5.0,   6.0,   7.0,   8.0,   9.0,\n",
      "               10.0,  11.0,  12.0,  13.0,  14.0,  15.0,  16.0,  17.0,  18.0,\n",
      "               19.0, 100.0, 990.0],\n",
      "             dtype='float64')\n",
      "1      21737\n",
      "2        485\n",
      "3         35\n",
      "4       2320\n",
      "5        200\n",
      "6       1048\n",
      "7        719\n",
      "8       2362\n",
      "9       1704\n",
      "10       185\n",
      "11       293\n",
      "12        71\n",
      "13        76\n",
      "14       116\n",
      "15        89\n",
      "16       126\n",
      "17       254\n",
      "18      3394\n",
      "19      4448\n",
      "100     1032\n",
      "990        1\n",
      "Name: ESTU_ETNIA, dtype: int64\n",
      "Elementos null/NaN 565199\n",
      "__________________\n",
      "Elementos diferentes de null/NaN: 40695\n",
      "__________________\n",
      "(40695,)\n",
      "None\n"
     ]
    }
   ],
   "source": [
    "c = 'ESTU_ETNIA'\n",
    "print(data_2016_2[c].value_counts().sort_index().index)\n",
    "print(data_2016_2[c].value_counts().sort_index())\n",
    "print(missing_data(data_2016_2[c]))"
   ]
  },
  {
   "cell_type": "code",
   "execution_count": 289,
   "metadata": {
    "collapsed": true
   },
   "outputs": [],
   "source": [
    "data_2016_2[c].replace(990, 100)\n",
    "data_2016_2[c].fillna(100, inplace=True)"
   ]
  },
  {
   "cell_type": "code",
   "execution_count": 290,
   "metadata": {
    "collapsed": false
   },
   "outputs": [
    {
     "name": "stdout",
     "output_type": "stream",
     "text": [
      "Index(['MOT'], dtype='object')\n",
      "MOT    797\n",
      "Name: ESTU_LIMITA_MOTRIZ, dtype: int64\n",
      "Elementos null/NaN 605097\n",
      "__________________\n",
      "Elementos diferentes de null/NaN: 797\n",
      "__________________\n",
      "(797,)\n",
      "None\n"
     ]
    }
   ],
   "source": [
    "c = 'ESTU_LIMITA_MOTRIZ'\n",
    "print(data_2016_2[c].value_counts().sort_index().index)\n",
    "print(data_2016_2[c].value_counts().sort_index())\n",
    "print(missing_data(data_2016_2[c]))"
   ]
  },
  {
   "cell_type": "code",
   "execution_count": 291,
   "metadata": {
    "collapsed": true
   },
   "outputs": [],
   "source": [
    "data_2016_2 = data_2016_2.drop(c, axis=1)"
   ]
  },
  {
   "cell_type": "code",
   "execution_count": 292,
   "metadata": {
    "collapsed": false
   },
   "outputs": [
    {
     "name": "stdout",
     "output_type": "stream",
     "text": [
      "Index(['VIS'], dtype='object')\n",
      "VIS    172\n",
      "Name: ESTU_LIMITA_INVIDENTE, dtype: int64\n",
      "Elementos null/NaN 605722\n",
      "__________________\n",
      "Elementos diferentes de null/NaN: 172\n",
      "__________________\n",
      "(172,)\n",
      "None\n"
     ]
    }
   ],
   "source": [
    "c = 'ESTU_LIMITA_INVIDENTE'\n",
    "print(data_2016_2[c].value_counts().sort_index().index)\n",
    "print(data_2016_2[c].value_counts().sort_index())\n",
    "print(missing_data(data_2016_2[c]))"
   ]
  },
  {
   "cell_type": "code",
   "execution_count": 293,
   "metadata": {
    "collapsed": true
   },
   "outputs": [],
   "source": [
    "data_2016_2 = data_2016_2.drop(c, axis=1)"
   ]
  },
  {
   "cell_type": "code",
   "execution_count": 294,
   "metadata": {
    "collapsed": false
   },
   "outputs": [
    {
     "name": "stdout",
     "output_type": "stream",
     "text": [
      "Index(['CE'], dtype='object')\n",
      "CE    642\n",
      "Name: ESTU_LIMITA_CONDICIONESPECIAL, dtype: int64\n",
      "Elementos null/NaN 605252\n",
      "__________________\n",
      "Elementos diferentes de null/NaN: 642\n",
      "__________________\n",
      "(642,)\n",
      "None\n"
     ]
    }
   ],
   "source": [
    "c = 'ESTU_LIMITA_CONDICIONESPECIAL'\n",
    "print(data_2016_2[c].value_counts().sort_index().index)\n",
    "print(data_2016_2[c].value_counts().sort_index())\n",
    "print(missing_data(data_2016_2[c]))"
   ]
  },
  {
   "cell_type": "code",
   "execution_count": 295,
   "metadata": {
    "collapsed": true
   },
   "outputs": [],
   "source": [
    "data_2016_2 = data_2016_2.drop(c, axis=1)"
   ]
  },
  {
   "cell_type": "code",
   "execution_count": 296,
   "metadata": {
    "collapsed": false
   },
   "outputs": [
    {
     "name": "stdout",
     "output_type": "stream",
     "text": [
      "Index(['AUD'], dtype='object')\n",
      "AUD    141\n",
      "Name: ESTU_LIMITA_SORDO, dtype: int64\n",
      "Elementos null/NaN 605753\n",
      "__________________\n",
      "Elementos diferentes de null/NaN: 141\n",
      "__________________\n",
      "(141,)\n",
      "None\n"
     ]
    }
   ],
   "source": [
    "c = 'ESTU_LIMITA_SORDO'\n",
    "print(data_2016_2[c].value_counts().sort_index().index)\n",
    "print(data_2016_2[c].value_counts().sort_index())\n",
    "print(missing_data(data_2016_2[c]))"
   ]
  },
  {
   "cell_type": "code",
   "execution_count": 297,
   "metadata": {
    "collapsed": true
   },
   "outputs": [],
   "source": [
    "data_2016_2 = data_2016_2.drop(c, axis=1)"
   ]
  },
  {
   "cell_type": "code",
   "execution_count": 298,
   "metadata": {
    "collapsed": false
   },
   "outputs": [
    {
     "name": "stdout",
     "output_type": "stream",
     "text": [
      "Index(['SD'], dtype='object')\n",
      "SD    270\n",
      "Name: ESTU_LIMITA_SDOWN, dtype: int64\n",
      "Elementos null/NaN 605624\n",
      "__________________\n",
      "Elementos diferentes de null/NaN: 270\n",
      "__________________\n",
      "(270,)\n",
      "None\n"
     ]
    }
   ],
   "source": [
    "c = 'ESTU_LIMITA_SDOWN'\n",
    "print(data_2016_2[c].value_counts().sort_index().index)\n",
    "print(data_2016_2[c].value_counts().sort_index())\n",
    "print(missing_data(data_2016_2[c]))"
   ]
  },
  {
   "cell_type": "code",
   "execution_count": 299,
   "metadata": {
    "collapsed": false
   },
   "outputs": [],
   "source": [
    "data_2016_2 = data_2016_2.drop(c, axis=1)"
   ]
  },
  {
   "cell_type": "code",
   "execution_count": 300,
   "metadata": {
    "collapsed": false
   },
   "outputs": [
    {
     "name": "stdout",
     "output_type": "stream",
     "text": [
      "Index(['AA'], dtype='object')\n",
      "AA    408\n",
      "Name: ESTU_LIMITA_AUTISMO, dtype: int64\n",
      "Elementos null/NaN 605486\n",
      "__________________\n",
      "Elementos diferentes de null/NaN: 408\n",
      "__________________\n",
      "(408,)\n",
      "None\n"
     ]
    }
   ],
   "source": [
    "c = 'ESTU_LIMITA_AUTISMO'\n",
    "print(data_2016_2[c].value_counts().sort_index().index)\n",
    "print(data_2016_2[c].value_counts().sort_index())\n",
    "print(missing_data(data_2016_2[c]))"
   ]
  },
  {
   "cell_type": "code",
   "execution_count": 301,
   "metadata": {
    "collapsed": false
   },
   "outputs": [],
   "source": [
    "data_2016_2 = data_2016_2.drop(c, axis=1)"
   ]
  },
  {
   "cell_type": "code",
   "execution_count": 302,
   "metadata": {
    "collapsed": false
   },
   "outputs": [
    {
     "name": "stdout",
     "output_type": "stream",
     "text": [
      "Index(['R', 'U'], dtype='object')\n",
      "R    132665\n",
      "U    467996\n",
      "Name: ESTU_AREA_RESIDE, dtype: int64\n",
      "Elementos null/NaN 5233\n",
      "__________________\n",
      "Elementos diferentes de null/NaN: 600661\n",
      "__________________\n",
      "(600661,)\n",
      "None\n"
     ]
    }
   ],
   "source": [
    "c = 'ESTU_AREA_RESIDE'\n",
    "print(data_2016_2[c].value_counts().sort_index().index)\n",
    "print(data_2016_2[c].value_counts().sort_index())\n",
    "print(missing_data(data_2016_2[c]))"
   ]
  },
  {
   "cell_type": "code",
   "execution_count": 303,
   "metadata": {
    "collapsed": false
   },
   "outputs": [
    {
     "name": "stdout",
     "output_type": "stream",
     "text": [
      "cant null antes: 5233\n",
      "cant null despues: 0\n"
     ]
    }
   ],
   "source": [
    "Do_resamples(data_2016_2, c, str)"
   ]
  },
  {
   "cell_type": "code",
   "execution_count": 304,
   "metadata": {
    "collapsed": false,
    "scrolled": true
   },
   "outputs": [
    {
     "name": "stdout",
     "output_type": "stream",
     "text": [
      "Float64Index([ 5001.0,  5002.0,  5004.0,  5021.0,  5030.0,  5031.0,  5034.0,\n",
      "               5036.0,  5038.0,  5040.0,\n",
      "              ...\n",
      "              95015.0, 95025.0, 95200.0, 97001.0, 97511.0, 97889.0, 99001.0,\n",
      "              99524.0, 99624.0, 99773.0],\n",
      "             dtype='float64', length=1111)\n",
      "5001     30867\n",
      "5002       155\n",
      "5004        26\n",
      "5021        30\n",
      "5030       281\n",
      "5031       375\n",
      "5034       486\n",
      "5036        63\n",
      "5038       142\n",
      "5040       188\n",
      "5042       278\n",
      "5044        61\n",
      "5045      1492\n",
      "5051       584\n",
      "5055        90\n",
      "5059        45\n",
      "5079       548\n",
      "5086        99\n",
      "5088      5868\n",
      "5091        76\n",
      "5093       205\n",
      "5101       284\n",
      "5107        45\n",
      "5113        83\n",
      "5120       207\n",
      "5125       117\n",
      "5129       843\n",
      "5134        41\n",
      "5138       302\n",
      "5142        51\n",
      "         ...  \n",
      "86755       91\n",
      "86757      245\n",
      "86760       74\n",
      "86865      458\n",
      "86885      375\n",
      "88001      639\n",
      "88564       53\n",
      "91001      731\n",
      "91263       26\n",
      "91405       29\n",
      "91407        7\n",
      "91460       14\n",
      "91540       73\n",
      "91669        2\n",
      "91798       16\n",
      "94001      152\n",
      "94343       61\n",
      "94663       11\n",
      "94883       10\n",
      "95001      748\n",
      "95015       58\n",
      "95025      101\n",
      "95200       33\n",
      "97001      379\n",
      "97511       22\n",
      "97889        9\n",
      "99001      217\n",
      "99524      112\n",
      "99624       28\n",
      "99773      142\n",
      "Name: COLE_COD_MCPIO_UBICACION, dtype: int64\n",
      "Elementos null/NaN 38189\n",
      "__________________\n",
      "Elementos diferentes de null/NaN: 567705\n",
      "__________________\n",
      "(567705,)\n",
      "None\n"
     ]
    }
   ],
   "source": [
    "c = 'COLE_COD_MCPIO_UBICACION'\n",
    "print(data_2016_2[c].value_counts().sort_index().index)\n",
    "print(data_2016_2[c].value_counts().sort_index())\n",
    "print(missing_data(data_2016_2[c]))"
   ]
  },
  {
   "cell_type": "code",
   "execution_count": 305,
   "metadata": {
    "collapsed": false
   },
   "outputs": [],
   "source": [
    "data_2016_2 = data_2016_2.drop(c, axis=1)"
   ]
  },
  {
   "cell_type": "code",
   "execution_count": 306,
   "metadata": {
    "collapsed": false,
    "scrolled": true
   },
   "outputs": [
    {
     "name": "stdout",
     "output_type": "stream",
     "text": [
      "Index(['ABEJORRAL', 'ABREGO', 'ABRIAQUI', 'ACACIAS', 'ACANDI', 'ACEVEDO',\n",
      "       'ACHI', 'AGRADO', 'AGUA DE DIOS', 'AGUACHICA',\n",
      "       ...\n",
      "       'YUMBO', 'ZAMBRANO', 'ZAPATOCA', 'ZAPAYAN', 'ZARAGOZA', 'ZARZAL',\n",
      "       'ZETAQUIRA', 'ZIPACON', 'ZIPAQUIRA', 'ZONA BANANERA'],\n",
      "      dtype='object', length=1031)\n",
      "ABEJORRAL                    166\n",
      "ABREGO                       249\n",
      "ABRIAQUI                      30\n",
      "ACACIAS                     1298\n",
      "ACANDI                       108\n",
      "ACEVEDO                      406\n",
      "ACHI                         344\n",
      "AGRADO                       110\n",
      "AGUA DE DIOS                 174\n",
      "AGUACHICA                   1357\n",
      "AGUADA                        33\n",
      "AGUADAS                      284\n",
      "AGUAZUL                      694\n",
      "AGUSTIN CODAZZI              742\n",
      "AIPE                         204\n",
      "ALBAN                         83\n",
      "ALBAN (SAN JOSE)             171\n",
      "ALBANIA                      330\n",
      "ALCALA                       140\n",
      "ALDANA                        82\n",
      "ALEJANDRIA                    35\n",
      "ALGARROBO                    186\n",
      "ALGECIRAS                    326\n",
      "ALMAGUER                     155\n",
      "ALMEIDA                       28\n",
      "ALPUJARRA                     50\n",
      "ALTAMIRA                      30\n",
      "ALTO BAUDO (PIE DE PATO)      73\n",
      "ALTOS DEL ROSARIO             98\n",
      "ALVARADO                      86\n",
      "                            ... \n",
      "VILLANUEVA                  1084\n",
      "VILLAPINZON                  274\n",
      "VILLARRICA                    57\n",
      "VILLAVICENCIO               7015\n",
      "VILLAVIEJA                    63\n",
      "VILLETA                      406\n",
      "VIOTA                        195\n",
      "VIRACACHA                     42\n",
      "VISTA HERMOSA                161\n",
      "VITERBO                      148\n",
      "YACOPI                       154\n",
      "YACUANQUER                   156\n",
      "YAGUARA                      120\n",
      "YALI                          79\n",
      "YARUMAL                      480\n",
      "YAVARATE                       9\n",
      "YOLOMBO                      237\n",
      "YONDO (CASABE)               133\n",
      "YOPAL                       2919\n",
      "YOTOCO                       160\n",
      "YUMBO                       1374\n",
      "ZAMBRANO                     157\n",
      "ZAPATOCA                     150\n",
      "ZAPAYAN                       90\n",
      "ZARAGOZA                     551\n",
      "ZARZAL                       615\n",
      "ZETAQUIRA                     75\n",
      "ZIPACON                       71\n",
      "ZIPAQUIRA                   1851\n",
      "ZONA BANANERA                825\n",
      "Name: ESTU_RESIDE_MCPIO, dtype: int64\n",
      "Elementos null/NaN 2407\n",
      "__________________\n",
      "Elementos diferentes de null/NaN: 603487\n",
      "__________________\n",
      "(603487,)\n",
      "None\n"
     ]
    }
   ],
   "source": [
    "c = 'ESTU_RESIDE_MCPIO'\n",
    "print(data_2016_2[c].value_counts().sort_index().index)\n",
    "print(data_2016_2[c].value_counts().sort_index())\n",
    "print(missing_data(data_2016_2[c]))"
   ]
  },
  {
   "cell_type": "code",
   "execution_count": 307,
   "metadata": {
    "collapsed": false
   },
   "outputs": [],
   "source": [
    "data_2016_2[c].fillna(method='bfill', inplace=True)\n",
    "data_2016_2[c].fillna(method='ffill', inplace=True)"
   ]
  },
  {
   "cell_type": "code",
   "execution_count": 308,
   "metadata": {
    "collapsed": false,
    "scrolled": true
   },
   "outputs": [
    {
     "name": "stdout",
     "output_type": "stream",
     "text": [
      "Float64Index([    5.0,     8.0,    11.0,    13.0,    15.0,    17.0,    18.0,\n",
      "                 19.0,    20.0,    23.0,    25.0,    27.0,    41.0,    44.0,\n",
      "                 47.0,    50.0,    52.0,    54.0,    63.0,    66.0,    68.0,\n",
      "                 70.0,    73.0,    76.0,    81.0,    85.0,    86.0,    88.0,\n",
      "                 91.0,    94.0,    95.0,    97.0,    99.0, 99999.0],\n",
      "             dtype='float64')\n",
      "5        78739\n",
      "8        32010\n",
      "11       99844\n",
      "13       26733\n",
      "15       18811\n",
      "17       12454\n",
      "18        4867\n",
      "19       15815\n",
      "20       13474\n",
      "23       20035\n",
      "25       38350\n",
      "27        4656\n",
      "41       16015\n",
      "44        8319\n",
      "47       16693\n",
      "50       12967\n",
      "52       21231\n",
      "54       16204\n",
      "63        8248\n",
      "66       11608\n",
      "68       29488\n",
      "70       11205\n",
      "73       19332\n",
      "76       47874\n",
      "81        3209\n",
      "85        6313\n",
      "86        5121\n",
      "88         719\n",
      "91         923\n",
      "94         244\n",
      "95        1010\n",
      "97         422\n",
      "99         549\n",
      "99999        5\n",
      "Name: ESTU_COD_RESIDE_DEPTO, dtype: int64\n",
      "Elementos null/NaN 2407\n",
      "__________________\n",
      "Elementos diferentes de null/NaN: 603487\n",
      "__________________\n",
      "(603487,)\n",
      "None\n"
     ]
    }
   ],
   "source": [
    "c = 'ESTU_COD_RESIDE_DEPTO'\n",
    "print(data_2016_2[c].value_counts().sort_index().index)\n",
    "print(data_2016_2[c].value_counts().sort_index())\n",
    "print(missing_data(data_2016_2[c]))"
   ]
  },
  {
   "cell_type": "code",
   "execution_count": 309,
   "metadata": {
    "collapsed": false
   },
   "outputs": [],
   "source": [
    "data_2016_2 = data_2016_2.drop(c, axis=1)"
   ]
  },
  {
   "cell_type": "code",
   "execution_count": 310,
   "metadata": {
    "collapsed": false,
    "scrolled": true
   },
   "outputs": [
    {
     "name": "stdout",
     "output_type": "stream",
     "text": [
      "Index(['AMAZONAS', 'ANTIOQUIA', 'ARAUCA', 'ATLANTICO', 'BOGOTA', 'BOLIVAR',\n",
      "       'BOYACA', 'CALDAS', 'CAQUETA', 'CASANARE', 'CAUCA', 'CESAR', 'CHOCO',\n",
      "       'CORDOBA', 'CUNDINAMARCA', 'EXTRANJERO', 'GUAINIA', 'GUAVIARE', 'HUILA',\n",
      "       'LA GUAJIRA', 'MAGDALENA', 'META', 'NARIÑO', 'NORTE SANTANDER',\n",
      "       'PUTUMAYO', 'QUINDIO', 'RISARALDA', 'SAN ANDRES', 'SANTANDER', 'SUCRE',\n",
      "       'TOLIMA', 'VALLE', 'VAUPES', 'VICHADA'],\n",
      "      dtype='object')\n",
      "AMAZONAS             923\n",
      "ANTIOQUIA          78739\n",
      "ARAUCA              3209\n",
      "ATLANTICO          32010\n",
      "BOGOTA             99844\n",
      "BOLIVAR            26733\n",
      "BOYACA             18811\n",
      "CALDAS             12454\n",
      "CAQUETA             4867\n",
      "CASANARE            6313\n",
      "CAUCA              15815\n",
      "CESAR              13474\n",
      "CHOCO               4656\n",
      "CORDOBA            20035\n",
      "CUNDINAMARCA       38350\n",
      "EXTRANJERO             5\n",
      "GUAINIA              244\n",
      "GUAVIARE            1010\n",
      "HUILA              16015\n",
      "LA GUAJIRA          8319\n",
      "MAGDALENA          16693\n",
      "META               12967\n",
      "NARIÑO             21231\n",
      "NORTE SANTANDER    16204\n",
      "PUTUMAYO            5121\n",
      "QUINDIO             8248\n",
      "RISARALDA          11608\n",
      "SAN ANDRES           719\n",
      "SANTANDER          29488\n",
      "SUCRE              11205\n",
      "TOLIMA             19332\n",
      "VALLE              47874\n",
      "VAUPES               422\n",
      "VICHADA              549\n",
      "Name: ESTU_RESIDE_DEPTO, dtype: int64\n",
      "Elementos null/NaN 2407\n",
      "__________________\n",
      "Elementos diferentes de null/NaN: 603487\n",
      "__________________\n",
      "(603487,)\n",
      "None\n"
     ]
    }
   ],
   "source": [
    "c = 'ESTU_RESIDE_DEPTO'\n",
    "print(data_2016_2[c].value_counts().sort_index().index)\n",
    "print(data_2016_2[c].value_counts().sort_index())\n",
    "print(missing_data(data_2016_2[c]))"
   ]
  },
  {
   "cell_type": "code",
   "execution_count": 311,
   "metadata": {
    "collapsed": false
   },
   "outputs": [],
   "source": [
    "data_2016_2[c].fillna(method='bfill', inplace=True)\n",
    "data_2016_2[c].fillna(method='ffill', inplace=True)"
   ]
  },
  {
   "cell_type": "code",
   "execution_count": 312,
   "metadata": {
    "collapsed": false,
    "scrolled": true
   },
   "outputs": [
    {
     "name": "stdout",
     "output_type": "stream",
     "text": [
      "Float64Index([ 5001.0,  5002.0,  5004.0,  5021.0,  5030.0,  5031.0,  5034.0,\n",
      "               5036.0,  5038.0,  5040.0,\n",
      "              ...\n",
      "              97001.0, 97161.0, 97511.0, 97666.0, 97889.0, 99001.0, 99524.0,\n",
      "              99624.0, 99773.0, 99999.0],\n",
      "             dtype='float64', length=1115)\n",
      "5001     31155\n",
      "5002       166\n",
      "5004        30\n",
      "5021        35\n",
      "5030       301\n",
      "5031       382\n",
      "5034       509\n",
      "5036        70\n",
      "5038       137\n",
      "5040       193\n",
      "5042       292\n",
      "5044        73\n",
      "5045      1567\n",
      "5051       554\n",
      "5055        91\n",
      "5059        48\n",
      "5079       606\n",
      "5086       106\n",
      "5088      6258\n",
      "5091        76\n",
      "5093       207\n",
      "5101       282\n",
      "5107        70\n",
      "5113        79\n",
      "5120       263\n",
      "5125       122\n",
      "5129       936\n",
      "5134        41\n",
      "5138       306\n",
      "5142        61\n",
      "         ...  \n",
      "86865      525\n",
      "86885      405\n",
      "88001      664\n",
      "88564       55\n",
      "91001      756\n",
      "91263       25\n",
      "91405       29\n",
      "91407        7\n",
      "91430        2\n",
      "91460       14\n",
      "91540       73\n",
      "91798       17\n",
      "94001      161\n",
      "94343       62\n",
      "94663       11\n",
      "94883       10\n",
      "95001      827\n",
      "95015       65\n",
      "95025       81\n",
      "95200       37\n",
      "97001      330\n",
      "97161       26\n",
      "97511       22\n",
      "97666       35\n",
      "97889        9\n",
      "99001      235\n",
      "99524      112\n",
      "99624       34\n",
      "99773      168\n",
      "99999        5\n",
      "Name: ESTU_COD_RESIDE_MCPIO, dtype: int64\n",
      "Elementos null/NaN 2407\n",
      "__________________\n",
      "Elementos diferentes de null/NaN: 603487\n",
      "__________________\n",
      "(603487,)\n",
      "None\n"
     ]
    }
   ],
   "source": [
    "c = 'ESTU_COD_RESIDE_MCPIO'\n",
    "print(data_2016_2[c].value_counts().sort_index().index)\n",
    "print(data_2016_2[c].value_counts().sort_index())\n",
    "print(missing_data(data_2016_2[c]))"
   ]
  },
  {
   "cell_type": "code",
   "execution_count": 313,
   "metadata": {
    "collapsed": false
   },
   "outputs": [],
   "source": [
    "data_2016_2 = data_2016_2.drop(c, axis=1)"
   ]
  },
  {
   "cell_type": "code",
   "execution_count": 314,
   "metadata": {
    "collapsed": false
   },
   "outputs": [
    {
     "name": "stdout",
     "output_type": "stream",
     "text": [
      "Float64Index([1.0, 2.0, 3.0, 4.0, 5.0, 6.0, 7.0, 8.0, 9.0, 10.0], dtype='float64')\n",
      "1      23358\n",
      "2       5615\n",
      "3      11921\n",
      "4      40947\n",
      "5      30428\n",
      "6      13145\n",
      "7      13259\n",
      "8      28643\n",
      "9      28285\n",
      "10    410292\n",
      "Name: ESTU_ZONA_RESIDE, dtype: int64\n",
      "Elementos null/NaN 1\n",
      "__________________\n",
      "Elementos diferentes de null/NaN: 605893\n",
      "__________________\n",
      "(605893,)\n",
      "None\n"
     ]
    }
   ],
   "source": [
    "c = 'ESTU_ZONA_RESIDE'\n",
    "print(data_2016_2[c].value_counts().sort_index().index)\n",
    "print(data_2016_2[c].value_counts().sort_index())\n",
    "print(missing_data(data_2016_2[c]))"
   ]
  },
  {
   "cell_type": "code",
   "execution_count": 315,
   "metadata": {
    "collapsed": false,
    "scrolled": true
   },
   "outputs": [
    {
     "name": "stdout",
     "output_type": "stream",
     "text": [
      "Float64Index([105001000001.0, 105001000043.0, 105001000108.0, 105001000132.0,\n",
      "              105001000141.0, 105001000175.0, 105001000205.0, 105001000256.0,\n",
      "              105001000353.0, 105001000396.0,\n",
      "              ...\n",
      "              625899000007.0, 813430000003.0, 818001100011.0, 818001100022.0,\n",
      "              818001100027.0, 818001100040.0, 847001000005.0, 847001000023.0,\n",
      "              847001000027.0, 847001000035.0],\n",
      "             dtype='float64', length=10012)\n",
      "1.050010e+11     33\n",
      "1.050010e+11    119\n",
      "1.050010e+11    971\n",
      "1.050010e+11     68\n",
      "1.050010e+11     18\n",
      "1.050010e+11     80\n",
      "1.050010e+11     49\n",
      "1.050010e+11    170\n",
      "1.050010e+11     57\n",
      "1.050010e+11    132\n",
      "1.050010e+11    106\n",
      "1.050010e+11    159\n",
      "1.050010e+11     68\n",
      "1.050010e+11    139\n",
      "1.050010e+11    114\n",
      "1.050010e+11     44\n",
      "1.050010e+11     80\n",
      "1.050010e+11     27\n",
      "1.050010e+11     82\n",
      "1.050010e+11    181\n",
      "1.050010e+11    137\n",
      "1.050010e+11    153\n",
      "1.050010e+11     72\n",
      "1.050010e+11    181\n",
      "1.050010e+11    104\n",
      "1.050010e+11     32\n",
      "1.050010e+11     67\n",
      "1.050010e+11     47\n",
      "1.050010e+11     47\n",
      "1.050010e+11    100\n",
      "               ... \n",
      "5.540013e+11     31\n",
      "5.540013e+11    126\n",
      "5.680010e+11      3\n",
      "5.680010e+11     15\n",
      "5.684320e+11     13\n",
      "5.684320e+11      5\n",
      "6.252430e+11     28\n",
      "6.252690e+11     73\n",
      "6.252690e+11     10\n",
      "6.252690e+11     51\n",
      "6.252690e+11    172\n",
      "6.252690e+11     65\n",
      "6.252690e+11     22\n",
      "6.254300e+11     23\n",
      "6.257400e+11     12\n",
      "6.257450e+11      7\n",
      "6.257690e+11     27\n",
      "6.257990e+11     12\n",
      "6.258170e+11     56\n",
      "6.258860e+11     17\n",
      "6.258990e+11     83\n",
      "8.134300e+11     62\n",
      "8.180011e+11     55\n",
      "8.180011e+11    102\n",
      "8.180011e+11     93\n",
      "8.180011e+11      8\n",
      "8.470010e+11    203\n",
      "8.470010e+11     47\n",
      "8.470010e+11     85\n",
      "8.470010e+11     42\n",
      "Name: COLE_COD_DANE_INSTITUCION, dtype: int64\n",
      "Elementos null/NaN 38189\n",
      "__________________\n",
      "Elementos diferentes de null/NaN: 567705\n",
      "__________________\n",
      "(567705,)\n",
      "None\n"
     ]
    }
   ],
   "source": [
    "c = 'COLE_COD_DANE_INSTITUCION'\n",
    "print(data_2016_2[c].value_counts().sort_index().index)\n",
    "print(data_2016_2[c].value_counts().sort_index())\n",
    "print(missing_data(data_2016_2[c]))"
   ]
  },
  {
   "cell_type": "code",
   "execution_count": 316,
   "metadata": {
    "collapsed": false
   },
   "outputs": [],
   "source": [
    "data_2016_2[c].fillna(method='bfill', inplace=True)\n",
    "data_2016_2[c].fillna(method='ffill', inplace=True)"
   ]
  },
  {
   "cell_type": "code",
   "execution_count": 317,
   "metadata": {
    "collapsed": false,
    "scrolled": true
   },
   "outputs": [
    {
     "name": "stdout",
     "output_type": "stream",
     "text": [
      "Float64Index([    59.0,     75.0,     83.0,     91.0,    125.0,    141.0,\n",
      "                 174.0,    190.0,    208.0,    216.0,\n",
      "              ...\n",
      "              662601.0, 662619.0, 662676.0, 662700.0, 662718.0, 662734.0,\n",
      "              662742.0, 662775.0, 662841.0, 662858.0],\n",
      "             dtype='float64', length=12217)\n",
      "59        971\n",
      "75         50\n",
      "83         30\n",
      "91         69\n",
      "125        66\n",
      "141        85\n",
      "174       109\n",
      "190       103\n",
      "208        64\n",
      "216        16\n",
      "232        54\n",
      "240        90\n",
      "265       234\n",
      "281        65\n",
      "315        90\n",
      "356        33\n",
      "364        51\n",
      "372        53\n",
      "380        78\n",
      "398        27\n",
      "406        20\n",
      "422        14\n",
      "430        93\n",
      "448        24\n",
      "455        89\n",
      "463       149\n",
      "471        96\n",
      "489        99\n",
      "497        64\n",
      "521        39\n",
      "         ... \n",
      "662213     31\n",
      "662221     21\n",
      "662247      5\n",
      "662254     47\n",
      "662262     13\n",
      "662288     23\n",
      "662296     12\n",
      "662304     14\n",
      "662312     94\n",
      "662320     23\n",
      "662338     60\n",
      "662379     17\n",
      "662395     38\n",
      "662411     23\n",
      "662445     22\n",
      "662486     33\n",
      "662494     79\n",
      "662536     30\n",
      "662551      5\n",
      "662577     11\n",
      "662601     10\n",
      "662619     47\n",
      "662676     19\n",
      "662700    158\n",
      "662718    259\n",
      "662734     30\n",
      "662742      1\n",
      "662775     31\n",
      "662841     23\n",
      "662858     13\n",
      "Name: COLE_COD_ICFES, dtype: int64\n",
      "Elementos null/NaN 38189\n",
      "__________________\n",
      "Elementos diferentes de null/NaN: 567705\n",
      "__________________\n",
      "(567705,)\n",
      "None\n"
     ]
    }
   ],
   "source": [
    "c = 'COLE_COD_ICFES'\n",
    "print(data_2016_2[c].value_counts().sort_index().index)\n",
    "print(data_2016_2[c].value_counts().sort_index())\n",
    "print(missing_data(data_2016_2[c]))"
   ]
  },
  {
   "cell_type": "code",
   "execution_count": 318,
   "metadata": {
    "collapsed": false
   },
   "outputs": [],
   "source": [
    "data_2016_2[c].fillna(method='bfill', inplace=True)\n",
    "data_2016_2[c].fillna(method='ffill', inplace=True)"
   ]
  },
  {
   "cell_type": "code",
   "execution_count": 319,
   "metadata": {
    "collapsed": false,
    "scrolled": true
   },
   "outputs": [
    {
     "name": "stdout",
     "output_type": "stream",
     "text": [
      "Index(['86/02 INSTITUCION EDUCATIVA LA LEONERA  ITA FARALLONES',\n",
      "       'ABSALON TORRES CAMACHO', 'ACAD AMERICANA DE SISTEMAS Y COMERCIO',\n",
      "       'ACAD CENTRAL DE SISTEMAS ACSI', 'ACAD MILIT MARISCAL SUCRE',\n",
      "       'ACAD PANTANO DE VARGAS', 'ACAD. MILITAR GRAL. CUSTODIO GARCIA R.',\n",
      "       'ACADEMIA ACADEMIA SAM', 'ACADEMIA CIAL DE LOS ANDES',\n",
      "       'ACADEMIA CORPETROL - SEDE PRINCIPAL',\n",
      "       ...\n",
      "       'VILLALOSADA', 'VILLANUEVA', 'VISTAHERMOSA', 'WINDSOR ROYAL SCHOL',\n",
      "       'XINSTITUTO TECNICO COMERCIAL PILOTO',\n",
      "       'YACHAY WASI RUNA YANAKUNA - SEDE PRINCIPAL', 'YAMAIN - SEDE PRINCIPAL',\n",
      "       'YU LUUCX PISHAU', 'ZARAGOZA (sede principal)',\n",
      "       'ZION SCHOOL                                                  - SEDE PRINCIPAL'],\n",
      "      dtype='object', length=9399)\n",
      "86/02 INSTITUCION EDUCATIVA LA LEONERA  ITA FARALLONES                            25\n",
      "ABSALON TORRES CAMACHO                                                           163\n",
      "ACAD AMERICANA DE SISTEMAS Y COMERCIO                                             27\n",
      "ACAD CENTRAL DE SISTEMAS ACSI                                                     39\n",
      "ACAD MILIT MARISCAL SUCRE                                                        100\n",
      "ACAD PANTANO DE VARGAS                                                            32\n",
      "ACAD. MILITAR GRAL. CUSTODIO GARCIA R.                                             8\n",
      "ACADEMIA ACADEMIA SAM                                                              4\n",
      "ACADEMIA CIAL DE LOS ANDES                                                        68\n",
      "ACADEMIA CORPETROL - SEDE PRINCIPAL                                               40\n",
      "ACADEMIA DE CIENCIAS DE COLOMBIA AKADEMOS                                         10\n",
      "ACADEMIA E INSTITUTO CAMPAÑA LIBERTADORA                                           5\n",
      "ACADEMIA GENERAL CARLOS JULIO GIL COLORADO   - SEDE PRINCIPAL                     18\n",
      "ACADEMIA GUSTAVO ROJAS PINILLAS                                                   14\n",
      "ACADEMIA MILITAR GENERAL JOSE ANTONIO ANZOATEGUI                                  30\n",
      "ACADEMIA MILITAR GENERAL JOSÉ MARÍA CABAL                                         59\n",
      "ACADEMIA MILITAR GRAL TOMAS CIPRIANO DE MOSQUERA                                  13\n",
      "ACADEMIA MILITAR GUSTAVO MATAMOROS D COSTA - SEDE PRINCIPAL                       13\n",
      "ACADEMIA MILITAR JOSE ANTONIO PAEZ                                                22\n",
      "ACADEMIA MILITAR JOSE ANTONIO PAEZ - SEDE PRINCIPAL                               16\n",
      "ACADEMIA POLITECNICA INTERACTIVA - SEDE PRINCIPAL                                 32\n",
      "ACCION COMUNAL                                                                   106\n",
      "ACEVEDO Y GOMEZ                                                                   59\n",
      "ADVENTISTA DE QUIBDO BOLIVAR ESCANDON                                             18\n",
      "AGRICOLA CAMPOALEGRE                                                              30\n",
      "AGRICOLA PRESBITERO HORACIO GOMEZ GALLO                                           35\n",
      "AGROAMBIENTAL JOEL SIERRA                                                         14\n",
      "AGROECOLOGICO                                                                    147\n",
      "AGROECOLOGICO AMAZONICO BUINAIMA                                                  31\n",
      "AGROP DEL HUILA                                                                   24\n",
      "                                                                                ... \n",
      "URBANA MIXTA NO.1                                                                 56\n",
      "URIBE (sede principal)                                                            13\n",
      "VALENCIA (sede principal)                                                          3\n",
      "VALENCIA DE LA PAZ                                                                 5\n",
      "VALENTIN CARABALI (sede principal)                                                28\n",
      "VALPARAISO                                                                        19\n",
      "VALSALICE                                                                         84\n",
      "VASCO NUÑEZ DE BALBOA                                                             67\n",
      "VASCO NUÑEZ DE BALBOA (sede principal)                                            79\n",
      "VEINTE DE JULIO                                                                    5\n",
      "VENTIUN ANGELES (INST EDUC DIST)                                                 179\n",
      "VERDE AMAZONICO                                                                   31\n",
      "VEREDAS UNIDAS BARRAGAN (sede principal)                                          23\n",
      "VICTOR MANUEL CHAUX VILLAMIL (sede principal)                                     16\n",
      "VILLA CECILIA SEDE                                                                15\n",
      "VILLA CLARA                                                                       32\n",
      "VILLA CORELCA                                                                     60\n",
      "VILLA DE LOS ANDES                                                                57\n",
      "VILLA FANNY                                                                       39\n",
      "VILLALOBOS (sede principal                                                        11\n",
      "VILLALOSADA                                                                       12\n",
      "VILLANUEVA                                                                        33\n",
      "VISTAHERMOSA                                                                       7\n",
      "WINDSOR ROYAL SCHOL                                                               32\n",
      "XINSTITUTO TECNICO COMERCIAL PILOTO                                               11\n",
      "YACHAY WASI RUNA YANAKUNA - SEDE PRINCIPAL                                        12\n",
      "YAMAIN - SEDE PRINCIPAL                                                           12\n",
      "YU LUUCX PISHAU                                                                    8\n",
      "ZARAGOZA (sede principal)                                                          6\n",
      "ZION SCHOOL                                                  - SEDE PRINCIPAL     21\n",
      "Name: COLE_NOMBRE_SEDE, dtype: int64\n",
      "Elementos null/NaN 38189\n",
      "__________________\n",
      "Elementos diferentes de null/NaN: 567705\n",
      "__________________\n",
      "(567705,)\n",
      "None\n"
     ]
    }
   ],
   "source": [
    "c = 'COLE_NOMBRE_SEDE'\n",
    "print(data_2016_2[c].value_counts().sort_index().index)\n",
    "print(data_2016_2[c].value_counts().sort_index())\n",
    "print(missing_data(data_2016_2[c]))"
   ]
  },
  {
   "cell_type": "code",
   "execution_count": 320,
   "metadata": {
    "collapsed": false
   },
   "outputs": [],
   "source": [
    "data_2016_2 = data_2016_2.drop(c, axis=1)"
   ]
  },
  {
   "cell_type": "code",
   "execution_count": 321,
   "metadata": {
    "collapsed": false
   },
   "outputs": [
    {
     "name": "stdout",
     "output_type": "stream",
     "text": [
      "Index(['C', 'M', 'N', 'S', 'T', 'U'], dtype='object')\n",
      "C    109222\n",
      "M    294049\n",
      "N     40145\n",
      "S     39529\n",
      "T     82410\n",
      "U      2350\n",
      "Name: COLE_JORNADA, dtype: int64\n",
      "Elementos null/NaN 38189\n",
      "__________________\n",
      "Elementos diferentes de null/NaN: 567705\n",
      "__________________\n",
      "(567705,)\n",
      "None\n"
     ]
    }
   ],
   "source": [
    "c = 'COLE_JORNADA'\n",
    "print(data_2016_2[c].value_counts().sort_index().index)\n",
    "print(data_2016_2[c].value_counts().sort_index())\n",
    "print(missing_data(data_2016_2[c]))"
   ]
  },
  {
   "cell_type": "code",
   "execution_count": 322,
   "metadata": {
    "collapsed": false
   },
   "outputs": [
    {
     "name": "stdout",
     "output_type": "stream",
     "text": [
      "cant null antes: 38189\n",
      "cant null despues: 0\n"
     ]
    }
   ],
   "source": [
    "Do_resamples(data_2016_2, c, str)"
   ]
  },
  {
   "cell_type": "code",
   "execution_count": 323,
   "metadata": {
    "collapsed": false
   },
   "outputs": [
    {
     "name": "stdout",
     "output_type": "stream",
     "text": [
      "Index(['FEMENINO', 'MASCULINO', 'MIXTO'], dtype='object')\n",
      "FEMENINO      15557\n",
      "MASCULINO      4808\n",
      "MIXTO        547340\n",
      "Name: COLE_GENERO, dtype: int64\n",
      "Elementos null/NaN 38189\n",
      "__________________\n",
      "Elementos diferentes de null/NaN: 567705\n",
      "__________________\n",
      "(567705,)\n",
      "None\n"
     ]
    }
   ],
   "source": [
    "c = 'COLE_GENERO'\n",
    "print(data_2016_2[c].value_counts().sort_index().index)\n",
    "print(data_2016_2[c].value_counts().sort_index())\n",
    "print(missing_data(data_2016_2[c]))"
   ]
  },
  {
   "cell_type": "code",
   "execution_count": 324,
   "metadata": {
    "collapsed": false
   },
   "outputs": [
    {
     "name": "stdout",
     "output_type": "stream",
     "text": [
      "cant null antes: 38189\n",
      "cant null despues: 0\n"
     ]
    }
   ],
   "source": [
    "Do_resamples(data_2016_2, c, str)"
   ]
  },
  {
   "cell_type": "code",
   "execution_count": 325,
   "metadata": {
    "collapsed": false
   },
   "outputs": [
    {
     "name": "stdout",
     "output_type": "stream",
     "text": [
      "Index(['ACADÉMICO', 'NO_APLICA', 'TÉCNICO', 'TÉCNICO/ACADÉMICO'], dtype='object')\n",
      "ACADÉMICO            305751\n",
      "NO_APLICA              3085\n",
      "TÉCNICO               60434\n",
      "TÉCNICO/ACADÉMICO    192678\n",
      "Name: COLE_CARACTER, dtype: int64\n",
      "Elementos null/NaN 43946\n",
      "__________________\n",
      "Elementos diferentes de null/NaN: 561948\n",
      "__________________\n",
      "(561948,)\n",
      "None\n"
     ]
    }
   ],
   "source": [
    "c = 'COLE_CARACTER'\n",
    "print(data_2016_2[c].value_counts().sort_index().index)\n",
    "print(data_2016_2[c].value_counts().sort_index())\n",
    "print(missing_data(data_2016_2[c]))"
   ]
  },
  {
   "cell_type": "code",
   "execution_count": 326,
   "metadata": {
    "collapsed": false
   },
   "outputs": [
    {
     "name": "stdout",
     "output_type": "stream",
     "text": [
      "cant null antes: 43946\n",
      "cant null despues: 0\n"
     ]
    }
   ],
   "source": [
    "Do_resamples(data_2016_2, c, str)"
   ]
  },
  {
   "cell_type": "code",
   "execution_count": 327,
   "metadata": {
    "collapsed": false
   },
   "outputs": [
    {
     "name": "stdout",
     "output_type": "stream",
     "text": [
      "Index(['NO OFICIAL', 'OFICIAL', 'OTRO'], dtype='object')\n",
      "NO OFICIAL    143488\n",
      "OFICIAL       424217\n",
      "OTRO           38188\n",
      "Name: COLE_NATURALEZA, dtype: int64\n",
      "Elementos null/NaN 1\n",
      "__________________\n",
      "Elementos diferentes de null/NaN: 605893\n",
      "__________________\n",
      "(605893,)\n",
      "None\n"
     ]
    }
   ],
   "source": [
    "c = 'COLE_NATURALEZA'\n",
    "print(data_2016_2[c].value_counts().sort_index().index)\n",
    "print(data_2016_2[c].value_counts().sort_index())\n",
    "print(missing_data(data_2016_2[c]))"
   ]
  },
  {
   "cell_type": "code",
   "execution_count": 328,
   "metadata": {
    "collapsed": false
   },
   "outputs": [
    {
     "name": "stdout",
     "output_type": "stream",
     "text": [
      "Index(['A', 'B', 'F', 'O'], dtype='object')\n",
      "A    565125\n",
      "B       325\n",
      "F         2\n",
      "O      2253\n",
      "Name: COLE_CALENDARIO, dtype: int64\n",
      "Elementos null/NaN 38189\n",
      "__________________\n",
      "Elementos diferentes de null/NaN: 567705\n",
      "__________________\n",
      "(567705,)\n",
      "None\n"
     ]
    }
   ],
   "source": [
    "c = 'COLE_CALENDARIO'\n",
    "print(data_2016_2[c].value_counts().sort_index().index)\n",
    "print(data_2016_2[c].value_counts().sort_index())\n",
    "print(missing_data(data_2016_2[c]))"
   ]
  },
  {
   "cell_type": "code",
   "execution_count": 329,
   "metadata": {
    "collapsed": false
   },
   "outputs": [
    {
     "name": "stdout",
     "output_type": "stream",
     "text": [
      "cant null antes: 38189\n",
      "cant null despues: 0\n"
     ]
    }
   ],
   "source": [
    "Do_resamples(data_2016_2, c, str)"
   ]
  },
  {
   "cell_type": "code",
   "execution_count": 330,
   "metadata": {
    "collapsed": false
   },
   "outputs": [
    {
     "name": "stdout",
     "output_type": "stream",
     "text": [
      "Index(['R', 'U'], dtype='object')\n",
      "R     80539\n",
      "U    487166\n",
      "Name: COLE_AREA_UBICACION, dtype: int64\n",
      "Elementos null/NaN 38189\n",
      "__________________\n",
      "Elementos diferentes de null/NaN: 567705\n",
      "__________________\n",
      "(567705,)\n",
      "None\n"
     ]
    }
   ],
   "source": [
    "c = 'COLE_AREA_UBICACION'\n",
    "print(data_2016_2[c].value_counts().sort_index().index)\n",
    "print(data_2016_2[c].value_counts().sort_index())\n",
    "print(missing_data(data_2016_2[c]))"
   ]
  },
  {
   "cell_type": "code",
   "execution_count": 331,
   "metadata": {
    "collapsed": false
   },
   "outputs": [
    {
     "name": "stdout",
     "output_type": "stream",
     "text": [
      "cant null antes: 38189\n",
      "cant null despues: 0\n"
     ]
    }
   ],
   "source": [
    "Do_resamples(data_2016_2, c, str)"
   ]
  },
  {
   "cell_type": "code",
   "execution_count": 332,
   "metadata": {
    "collapsed": false,
    "scrolled": true
   },
   "outputs": [
    {
     "name": "stdout",
     "output_type": "stream",
     "text": [
      "Float64Index([   2.0, 1980.0, 1981.0, 1982.0, 1983.0, 1984.0, 1985.0, 1986.0,\n",
      "              1987.0, 1988.0, 1989.0, 1990.0, 1991.0, 1992.0, 1993.0, 1994.0,\n",
      "              1995.0, 1996.0, 1997.0, 1998.0, 1999.0, 2000.0, 2001.0, 2002.0,\n",
      "              2003.0, 2004.0, 2005.0, 2006.0, 2007.0, 2008.0, 2009.0, 2010.0,\n",
      "              2011.0, 2012.0, 2013.0, 2014.0, 2015.0, 2016.0],\n",
      "             dtype='float64')\n",
      "2           1\n",
      "1980       71\n",
      "1981       18\n",
      "1982       25\n",
      "1983       15\n",
      "1984       16\n",
      "1985       32\n",
      "1986       24\n",
      "1987       41\n",
      "1988       34\n",
      "1989       37\n",
      "1990       47\n",
      "1991       70\n",
      "1992       62\n",
      "1993       88\n",
      "1994      100\n",
      "1995      134\n",
      "1996      150\n",
      "1997      186\n",
      "1998      201\n",
      "1999      276\n",
      "2000      354\n",
      "2001      360\n",
      "2002      377\n",
      "2003      461\n",
      "2004      515\n",
      "2005      530\n",
      "2006      652\n",
      "2007      788\n",
      "2008      985\n",
      "2009     1257\n",
      "2010     1568\n",
      "2011     1980\n",
      "2012     2361\n",
      "2013     3215\n",
      "2014     4865\n",
      "2015    12422\n",
      "2016     2548\n",
      "Name: ESTU_ANO_TERMINO_BACHILL, dtype: int64\n",
      "Elementos null/NaN 569028\n",
      "__________________\n",
      "Elementos diferentes de null/NaN: 36866\n",
      "__________________\n",
      "(36866,)\n",
      "None\n"
     ]
    }
   ],
   "source": [
    "c = 'ESTU_ANO_TERMINO_BACHILL'\n",
    "print(data_2016_2[c].value_counts().sort_index().index)\n",
    "print(data_2016_2[c].value_counts().sort_index())\n",
    "print(missing_data(data_2016_2[c]))"
   ]
  },
  {
   "cell_type": "code",
   "execution_count": 333,
   "metadata": {
    "collapsed": false
   },
   "outputs": [
    {
     "name": "stdout",
     "output_type": "stream",
     "text": [
      "cant null antes: 569029\n",
      "cant null despues: 0\n"
     ]
    }
   ],
   "source": [
    "data_2016_2[c] = data_2016_2[c].replace(2, np.nan)\n",
    "Do_resamples(data_2016_2, c, float)"
   ]
  },
  {
   "cell_type": "code",
   "execution_count": 334,
   "metadata": {
    "collapsed": false
   },
   "outputs": [
    {
     "name": "stdout",
     "output_type": "stream",
     "text": [
      "Float64Index([1.0, 2.0, 3.0, 4.0, 5.0, 6.0, 7.0, 8.0, 9.0, 10.0, 11.0, 12.0], dtype='float64')\n",
      "1       160\n",
      "2       185\n",
      "3       215\n",
      "4       223\n",
      "5       215\n",
      "6      2480\n",
      "7      2834\n",
      "8       561\n",
      "9       403\n",
      "10      306\n",
      "11    10800\n",
      "12    19119\n",
      "Name: ESTU_MES_TERMINO_BACHILL, dtype: int64\n",
      "Elementos null/NaN 568393\n",
      "__________________\n",
      "Elementos diferentes de null/NaN: 37501\n",
      "__________________\n",
      "(37501,)\n",
      "None\n"
     ]
    }
   ],
   "source": [
    "c = 'ESTU_MES_TERMINO_BACHILL'\n",
    "print(data_2016_2[c].value_counts().sort_index().index)\n",
    "print(data_2016_2[c].value_counts().sort_index())\n",
    "print(missing_data(data_2016_2[c]))"
   ]
  },
  {
   "cell_type": "code",
   "execution_count": 335,
   "metadata": {
    "collapsed": false
   },
   "outputs": [
    {
     "name": "stdout",
     "output_type": "stream",
     "text": [
      "cant null antes: 568393\n",
      "cant null despues: 0\n"
     ]
    }
   ],
   "source": [
    "Do_resamples(data_2016_2, c, float)"
   ]
  },
  {
   "cell_type": "code",
   "execution_count": 336,
   "metadata": {
    "collapsed": false
   },
   "outputs": [
    {
     "name": "stdout",
     "output_type": "stream",
     "text": [
      "Float64Index([1.0, 2.0, 3.0, 4.0, 5.0, 6.0], dtype='float64')\n",
      "1    438262\n",
      "2     42776\n",
      "3     18214\n",
      "4     12771\n",
      "5     25476\n",
      "6     27471\n",
      "Name: COLE_VALOR_PENSION, dtype: int64\n",
      "Elementos null/NaN 40924\n",
      "__________________\n",
      "Elementos diferentes de null/NaN: 564970\n",
      "__________________\n",
      "(564970,)\n",
      "None\n"
     ]
    }
   ],
   "source": [
    "c = 'COLE_VALOR_PENSION'\n",
    "print(data_2016_2[c].value_counts().sort_index().index)\n",
    "print(data_2016_2[c].value_counts().sort_index())\n",
    "print(missing_data(data_2016_2[c]))"
   ]
  },
  {
   "cell_type": "code",
   "execution_count": 337,
   "metadata": {
    "collapsed": false
   },
   "outputs": [
    {
     "name": "stdout",
     "output_type": "stream",
     "text": [
      "cant null antes: 40924\n",
      "cant null despues: 0\n"
     ]
    }
   ],
   "source": [
    "Do_resamples(data_2016_2, c, float)"
   ]
  },
  {
   "cell_type": "code",
   "execution_count": 338,
   "metadata": {
    "collapsed": false
   },
   "outputs": [
    {
     "name": "stdout",
     "output_type": "stream",
     "text": [
      "Float64Index([1.0, 2.0, 3.0, 4.0], dtype='float64')\n",
      "1    556599\n",
      "2      7405\n",
      "3       652\n",
      "4       314\n",
      "Name: ESTU_VECES_ESTADO, dtype: int64\n",
      "Elementos null/NaN 40924\n",
      "__________________\n",
      "Elementos diferentes de null/NaN: 564970\n",
      "__________________\n",
      "(564970,)\n",
      "None\n"
     ]
    }
   ],
   "source": [
    "c = 'ESTU_VECES_ESTADO'\n",
    "print(data_2016_2[c].value_counts().sort_index().index)\n",
    "print(data_2016_2[c].value_counts().sort_index())\n",
    "print(missing_data(data_2016_2[c]))"
   ]
  },
  {
   "cell_type": "code",
   "execution_count": 339,
   "metadata": {
    "collapsed": false
   },
   "outputs": [
    {
     "name": "stdout",
     "output_type": "stream",
     "text": [
      "cant null antes: 40924\n",
      "cant null despues: 0\n"
     ]
    }
   ],
   "source": [
    "Do_resamples(data_2016_2, c, float)"
   ]
  },
  {
   "cell_type": "code",
   "execution_count": 340,
   "metadata": {
    "collapsed": false,
    "scrolled": true
   },
   "outputs": [
    {
     "name": "stdout",
     "output_type": "stream",
     "text": [
      "Float64Index([ 5001.0,  5002.0,  5030.0,  5031.0,  5034.0,  5042.0,  5045.0,\n",
      "               5051.0,  5079.0,  5088.0,\n",
      "              ...\n",
      "              95200.0, 97001.0, 97161.0, 97511.0, 97666.0, 97889.0, 99001.0,\n",
      "              99524.0, 99624.0, 99773.0],\n",
      "             dtype='float64', length=464)\n",
      "5001     29886\n",
      "5002       163\n",
      "5030       742\n",
      "5031       589\n",
      "5034       860\n",
      "5042      1293\n",
      "5045      1956\n",
      "5051       730\n",
      "5079       724\n",
      "5088      6543\n",
      "5101       310\n",
      "5120       564\n",
      "5129      1080\n",
      "5138       302\n",
      "5147       518\n",
      "5148       627\n",
      "5154      1311\n",
      "5172       884\n",
      "5190       422\n",
      "5212      1749\n",
      "5234       218\n",
      "5237       224\n",
      "5250       708\n",
      "5266      3320\n",
      "5284       336\n",
      "5313       284\n",
      "5318       525\n",
      "5360      4635\n",
      "5361       356\n",
      "5368       387\n",
      "         ...  \n",
      "86001     1208\n",
      "86320      605\n",
      "86568     1287\n",
      "86573      266\n",
      "86749      548\n",
      "86865      785\n",
      "86885      445\n",
      "88001      696\n",
      "88564       53\n",
      "91001      735\n",
      "91263       26\n",
      "91405       29\n",
      "91407       22\n",
      "91540       95\n",
      "91798       17\n",
      "94001      171\n",
      "94343       73\n",
      "95001      887\n",
      "95015       62\n",
      "95025       94\n",
      "95200       37\n",
      "97001      330\n",
      "97161       26\n",
      "97511       22\n",
      "97666       36\n",
      "97889        9\n",
      "99001      236\n",
      "99524      134\n",
      "99624       35\n",
      "99773      156\n",
      "Name: ESTU_COD_MCPIO_PRESENTACION, dtype: int64\n",
      "Elementos null/NaN 1\n",
      "__________________\n",
      "Elementos diferentes de null/NaN: 605893\n",
      "__________________\n",
      "(605893,)\n",
      "None\n"
     ]
    }
   ],
   "source": [
    "c = 'ESTU_COD_MCPIO_PRESENTACION'\n",
    "print(data_2016_2[c].value_counts().sort_index().index)\n",
    "print(data_2016_2[c].value_counts().sort_index())\n",
    "print(missing_data(data_2016_2[c]))"
   ]
  },
  {
   "cell_type": "code",
   "execution_count": 341,
   "metadata": {
    "collapsed": true
   },
   "outputs": [],
   "source": [
    "data_2016_2 = data_2016_2.drop(c, axis=1)"
   ]
  },
  {
   "cell_type": "code",
   "execution_count": 342,
   "metadata": {
    "collapsed": false,
    "scrolled": true
   },
   "outputs": [
    {
     "name": "stdout",
     "output_type": "stream",
     "text": [
      "Index(['ABEJORRAL', 'ABREGO', 'ACACIAS', 'ACANDI', 'ACHI', 'AGUACHICA',\n",
      "       'AGUADAS', 'AGUAZUL', 'AGUSTIN CODAZZI', 'AIPE',\n",
      "       ...\n",
      "       'VIOTA', 'YARUMAL', 'YAVARATE', 'YOLOMBO', 'YOPAL', 'YUMBO', 'ZAPATOCA',\n",
      "       'ZARAGOZA', 'ZARZAL', 'ZIPAQUIRA'],\n",
      "      dtype='object', length=447)\n",
      "ABEJORRAL                     163\n",
      "ABREGO                        249\n",
      "ACACIAS                      1869\n",
      "ACANDI                        107\n",
      "ACHI                          365\n",
      "AGUACHICA                    1590\n",
      "AGUADAS                       283\n",
      "AGUAZUL                       683\n",
      "AGUSTIN CODAZZI               760\n",
      "AIPE                          173\n",
      "ALBAN                          95\n",
      "ALBAN (SAN JOSE)              273\n",
      "ALCALA                        180\n",
      "ALTO BAUDO (PIE DE PATO)       53\n",
      "AMAGA                         742\n",
      "AMALFI                        589\n",
      "ANDALUCIA                     276\n",
      "ANDES                         860\n",
      "ANOLAIMA                      281\n",
      "ANSERMA                       833\n",
      "ANSERMANUEVO                  210\n",
      "APARTADO                     1956\n",
      "APIA                          318\n",
      "ARACATACA                     454\n",
      "ARAUCA                       1221\n",
      "ARAUQUITA                     315\n",
      "ARBELAEZ                      190\n",
      "ARBOLEDAS                     221\n",
      "ARBOLETES                     730\n",
      "ARENAL                         91\n",
      "                             ... \n",
      "TURMEQUE                      312\n",
      "TUTA                          142\n",
      "UBATE                        1406\n",
      "UNGUIA                        131\n",
      "URIBIA                        868\n",
      "URRAO                         846\n",
      "VALLEDUPAR                   6321\n",
      "VALPARAISO                    138\n",
      "VEGACHI                       265\n",
      "VELEZ                         774\n",
      "VENADILLO                     192\n",
      "VENTAQUEMADA                  132\n",
      "VIGIA DEL FUERTE              136\n",
      "VILLA DE LEYVA                455\n",
      "VILLA DEL ROSARIO             952\n",
      "VILLA GUAMEZ (LA HORMIGA)     785\n",
      "VILLAGARZON                   445\n",
      "VILLANUEVA                   1065\n",
      "VILLAVICENCIO                7479\n",
      "VILLETA                       627\n",
      "VIOTA                         199\n",
      "YARUMAL                       818\n",
      "YAVARATE                        9\n",
      "YOLOMBO                       196\n",
      "YOPAL                        3227\n",
      "YUMBO                        1526\n",
      "ZAPATOCA                      166\n",
      "ZARAGOZA                      450\n",
      "ZARZAL                        628\n",
      "ZIPAQUIRA                    3317\n",
      "Name: ESTU_MCPIO_PRESENTACION, dtype: int64\n",
      "Elementos null/NaN 1\n",
      "__________________\n",
      "Elementos diferentes de null/NaN: 605893\n",
      "__________________\n",
      "(605893,)\n",
      "None\n"
     ]
    }
   ],
   "source": [
    "c = 'ESTU_MCPIO_PRESENTACION'\n",
    "print(data_2016_2[c].value_counts().sort_index().index)\n",
    "print(data_2016_2[c].value_counts().sort_index())\n",
    "print(missing_data(data_2016_2[c]))"
   ]
  },
  {
   "cell_type": "code",
   "execution_count": 343,
   "metadata": {
    "collapsed": false,
    "scrolled": true
   },
   "outputs": [
    {
     "name": "stdout",
     "output_type": "stream",
     "text": [
      "Index(['AMAZONAS', 'ANTIOQUIA', 'ARAUCA', 'ATLANTICO', 'BOGOTA', 'BOLIVAR',\n",
      "       'BOYACA', 'CALDAS', 'CAQUETA', 'CASANARE', 'CAUCA', 'CESAR', 'CHOCO',\n",
      "       'CORDOBA', 'CUNDINAMARCA', 'GUAINIA', 'GUAVIARE', 'HUILA', 'LA GUAJIRA',\n",
      "       'MAGDALENA', 'META', 'NARIÑO', 'NORTE SANTANDER', 'PUTUMAYO', 'QUINDIO',\n",
      "       'RISARALDA', 'SAN ANDRES', 'SANTANDER', 'SUCRE', 'TOLIMA', 'VALLE',\n",
      "       'VAUPES', 'VICHADA'],\n",
      "      dtype='object')\n",
      "AMAZONAS              924\n",
      "ANTIOQUIA           78991\n",
      "ARAUCA               3373\n",
      "ATLANTICO           32876\n",
      "BOGOTA             100272\n",
      "BOLIVAR             26074\n",
      "BOYACA              19433\n",
      "CALDAS              13085\n",
      "CAQUETA              4947\n",
      "CASANARE             6485\n",
      "CAUCA               15624\n",
      "CESAR               13708\n",
      "CHOCO                4587\n",
      "CORDOBA             19934\n",
      "CUNDINAMARCA        37691\n",
      "GUAINIA               244\n",
      "GUAVIARE             1080\n",
      "HUILA               16130\n",
      "LA GUAJIRA           8290\n",
      "MAGDALENA           16356\n",
      "META                13027\n",
      "NARIÑO              21279\n",
      "NORTE SANTANDER     16322\n",
      "PUTUMAYO             5144\n",
      "QUINDIO              8329\n",
      "RISARALDA           11596\n",
      "SAN ANDRES            749\n",
      "SANTANDER           29798\n",
      "SUCRE               11147\n",
      "TOLIMA              19004\n",
      "VALLE               48410\n",
      "VAUPES                423\n",
      "VICHADA               561\n",
      "Name: ESTU_DEPTO_PRESENTACION, dtype: int64\n",
      "Elementos null/NaN 1\n",
      "__________________\n",
      "Elementos diferentes de null/NaN: 605893\n",
      "__________________\n",
      "(605893,)\n",
      "None\n"
     ]
    }
   ],
   "source": [
    "c = 'ESTU_DEPTO_PRESENTACION'\n",
    "print(data_2016_2[c].value_counts().sort_index().index)\n",
    "print(data_2016_2[c].value_counts().sort_index())\n",
    "print(missing_data(data_2016_2[c]))"
   ]
  },
  {
   "cell_type": "code",
   "execution_count": 344,
   "metadata": {
    "collapsed": false,
    "scrolled": true
   },
   "outputs": [
    {
     "name": "stdout",
     "output_type": "stream",
     "text": [
      "Float64Index([ 5.0,  8.0, 11.0, 13.0, 15.0, 17.0, 18.0, 19.0, 20.0, 23.0, 25.0,\n",
      "              27.0, 41.0, 44.0, 47.0, 50.0, 52.0, 54.0, 63.0, 66.0, 68.0, 70.0,\n",
      "              73.0, 76.0, 81.0, 85.0, 86.0, 88.0, 91.0, 94.0, 95.0, 97.0,\n",
      "              99.0],\n",
      "             dtype='float64')\n",
      "5      78991\n",
      "8      32876\n",
      "11    100272\n",
      "13     26074\n",
      "15     19433\n",
      "17     13085\n",
      "18      4947\n",
      "19     15624\n",
      "20     13708\n",
      "23     19934\n",
      "25     37691\n",
      "27      4587\n",
      "41     16130\n",
      "44      8290\n",
      "47     16356\n",
      "50     13027\n",
      "52     21279\n",
      "54     16322\n",
      "63      8329\n",
      "66     11596\n",
      "68     29798\n",
      "70     11147\n",
      "73     19004\n",
      "76     48410\n",
      "81      3373\n",
      "85      6485\n",
      "86      5144\n",
      "88       749\n",
      "91       924\n",
      "94       244\n",
      "95      1080\n",
      "97       423\n",
      "99       561\n",
      "Name: ESTU_COD_DEPTO_PRESENTACION, dtype: int64\n",
      "Elementos null/NaN 1\n",
      "__________________\n",
      "Elementos diferentes de null/NaN: 605893\n",
      "__________________\n",
      "(605893,)\n",
      "None\n"
     ]
    }
   ],
   "source": [
    "c = 'ESTU_COD_DEPTO_PRESENTACION'\n",
    "print(data_2016_2[c].value_counts().sort_index().index)\n",
    "print(data_2016_2[c].value_counts().sort_index())\n",
    "print(missing_data(data_2016_2[c]))"
   ]
  },
  {
   "cell_type": "code",
   "execution_count": 345,
   "metadata": {
    "collapsed": true
   },
   "outputs": [],
   "source": [
    "data_2016_2 = data_2016_2.drop(c, axis=1)"
   ]
  },
  {
   "cell_type": "code",
   "execution_count": 346,
   "metadata": {
    "collapsed": false
   },
   "outputs": [
    {
     "name": "stdout",
     "output_type": "stream",
     "text": [
      "Float64Index([1.0, 2.0, 3.0], dtype='float64')\n",
      "1    509905\n",
      "2     34065\n",
      "3     21071\n",
      "Name: ESTU_TRABAJA, dtype: int64\n",
      "Elementos null/NaN 40853\n",
      "__________________\n",
      "Elementos diferentes de null/NaN: 565041\n",
      "__________________\n",
      "(565041,)\n",
      "None\n"
     ]
    }
   ],
   "source": [
    "c = 'ESTU_TRABAJA'\n",
    "print(data_2016_2[c].value_counts().sort_index().index)\n",
    "print(data_2016_2[c].value_counts().sort_index())\n",
    "print(missing_data(data_2016_2[c]))"
   ]
  },
  {
   "cell_type": "code",
   "execution_count": 347,
   "metadata": {
    "collapsed": false
   },
   "outputs": [
    {
     "name": "stdout",
     "output_type": "stream",
     "text": [
      "cant null antes: 40853\n",
      "cant null despues: 0\n"
     ]
    }
   ],
   "source": [
    "Do_resamples(data_2016_2, c, float)"
   ]
  },
  {
   "cell_type": "code",
   "execution_count": 348,
   "metadata": {
    "collapsed": false
   },
   "outputs": [
    {
     "name": "stdout",
     "output_type": "stream",
     "text": [
      "Float64Index([1.0, 2.0, 3.0, 4.0], dtype='float64')\n",
      "1    16607\n",
      "2    12204\n",
      "3     4045\n",
      "4     2111\n",
      "Name: ESTU_VECES_ESTADO_ESTUDIANTIL, dtype: int64\n",
      "Elementos null/NaN 570927\n",
      "__________________\n",
      "Elementos diferentes de null/NaN: 34967\n",
      "__________________\n",
      "(34967,)\n",
      "None\n"
     ]
    }
   ],
   "source": [
    "c = 'ESTU_VECES_ESTADO_ESTUDIANTIL'\n",
    "print(data_2016_2[c].value_counts().sort_index().index)\n",
    "print(data_2016_2[c].value_counts().sort_index())\n",
    "print(missing_data(data_2016_2[c]))"
   ]
  },
  {
   "cell_type": "code",
   "execution_count": 349,
   "metadata": {
    "collapsed": false
   },
   "outputs": [
    {
     "name": "stdout",
     "output_type": "stream",
     "text": [
      "cant null antes: 570927\n",
      "cant null despues: 0\n"
     ]
    }
   ],
   "source": [
    "Do_resamples(data_2016_2, c, float)"
   ]
  },
  {
   "cell_type": "code",
   "execution_count": 350,
   "metadata": {
    "collapsed": false
   },
   "outputs": [
    {
     "name": "stdout",
     "output_type": "stream",
     "text": [
      "Index(['N', 'S'], dtype='object')\n",
      "N    603306\n",
      "S      2587\n",
      "Name: ESTU_PRIVADO_LIBERTAD, dtype: int64\n",
      "Elementos null/NaN 1\n",
      "__________________\n",
      "Elementos diferentes de null/NaN: 605893\n",
      "__________________\n",
      "(605893,)\n",
      "None\n"
     ]
    }
   ],
   "source": [
    "c = 'ESTU_PRIVADO_LIBERTAD'\n",
    "print(data_2016_2[c].value_counts().sort_index().index)\n",
    "print(data_2016_2[c].value_counts().sort_index())\n",
    "print(missing_data(data_2016_2[c]))"
   ]
  },
  {
   "cell_type": "code",
   "execution_count": 351,
   "metadata": {
    "collapsed": false
   },
   "outputs": [
    {
     "name": "stdout",
     "output_type": "stream",
     "text": [
      "Float64Index([1.0, 2.0, 3.0, 4.0, 5.0, 6.0, 7.0, 8.0, 9.0, 10.0, 11.0], dtype='float64')\n",
      "1      31265\n",
      "2     111459\n",
      "3      95704\n",
      "4      81523\n",
      "5     148652\n",
      "6       9497\n",
      "7      34378\n",
      "8       6904\n",
      "9      45628\n",
      "10      9959\n",
      "11     25688\n",
      "Name: FAMI_EDUCA_PADRE, dtype: int64\n",
      "Elementos null/NaN 5237\n",
      "__________________\n",
      "Elementos diferentes de null/NaN: 600657\n",
      "__________________\n",
      "(600657,)\n",
      "None\n"
     ]
    }
   ],
   "source": [
    "c = 'FAMI_EDUCA_PADRE'\n",
    "print(data_2016_2[c].value_counts().sort_index().index)\n",
    "print(data_2016_2[c].value_counts().sort_index())\n",
    "print(missing_data(data_2016_2[c]))"
   ]
  },
  {
   "cell_type": "code",
   "execution_count": 352,
   "metadata": {
    "collapsed": false
   },
   "outputs": [
    {
     "name": "stdout",
     "output_type": "stream",
     "text": [
      "cant null antes: 5237\n",
      "cant null despues: 0\n"
     ]
    }
   ],
   "source": [
    "Do_resamples(data_2016_2, c, float)"
   ]
  },
  {
   "cell_type": "code",
   "execution_count": 353,
   "metadata": {
    "collapsed": false
   },
   "outputs": [
    {
     "name": "stdout",
     "output_type": "stream",
     "text": [
      "Float64Index([1.0, 2.0, 3.0, 4.0, 5.0, 6.0, 7.0, 8.0, 9.0, 10.0, 11.0], dtype='float64')\n",
      "1      14223\n",
      "2      93353\n",
      "3      93292\n",
      "4      93274\n",
      "5     170855\n",
      "6      12382\n",
      "7      47330\n",
      "8       8184\n",
      "9      48923\n",
      "10     10347\n",
      "11      8494\n",
      "Name: FAMI_EDUCA_MADRE, dtype: int64\n",
      "Elementos null/NaN 5237\n",
      "__________________\n",
      "Elementos diferentes de null/NaN: 600657\n",
      "__________________\n",
      "(600657,)\n",
      "None\n"
     ]
    }
   ],
   "source": [
    "c = 'FAMI_EDUCA_MADRE'\n",
    "print(data_2016_2[c].value_counts().sort_index().index)\n",
    "print(data_2016_2[c].value_counts().sort_index())\n",
    "print(missing_data(data_2016_2[c]))"
   ]
  },
  {
   "cell_type": "code",
   "execution_count": 354,
   "metadata": {
    "collapsed": false
   },
   "outputs": [
    {
     "name": "stdout",
     "output_type": "stream",
     "text": [
      "cant null antes: 5237\n",
      "cant null despues: 0\n"
     ]
    }
   ],
   "source": [
    "Do_resamples(data_2016_2, c, float)"
   ]
  },
  {
   "cell_type": "code",
   "execution_count": 355,
   "metadata": {
    "collapsed": false,
    "scrolled": true
   },
   "outputs": [
    {
     "name": "stdout",
     "output_type": "stream",
     "text": [
      "Float64Index([1.0, 2.0, 3.0, 4.0, 5.0, 6.0, 7.0, 8.0, 9.0, 10.0, 11.0, 12.0], dtype='float64')\n",
      "1      10543\n",
      "2      10491\n",
      "3       9550\n",
      "4       4777\n",
      "5      45421\n",
      "6      10893\n",
      "7     139953\n",
      "8      15074\n",
      "9     225983\n",
      "10      6664\n",
      "11     17850\n",
      "12    103457\n",
      "Name: FAMI_OCUPA_PADRE, dtype: int64\n",
      "Elementos null/NaN 5238\n",
      "__________________\n",
      "Elementos diferentes de null/NaN: 600656\n",
      "__________________\n",
      "(600656,)\n",
      "None\n"
     ]
    }
   ],
   "source": [
    "c = 'FAMI_OCUPA_PADRE'\n",
    "print(data_2016_2[c].value_counts().sort_index().index)\n",
    "print(data_2016_2[c].value_counts().sort_index())\n",
    "print(missing_data(data_2016_2[c]))"
   ]
  },
  {
   "cell_type": "code",
   "execution_count": 356,
   "metadata": {
    "collapsed": false
   },
   "outputs": [
    {
     "name": "stdout",
     "output_type": "stream",
     "text": [
      "cant null antes: 5238\n",
      "cant null despues: 1\n",
      "cant null antes: 1\n",
      "cant null despues: 0\n"
     ]
    }
   ],
   "source": [
    "Do_resamples(data_2016_2, c, float)"
   ]
  },
  {
   "cell_type": "code",
   "execution_count": 357,
   "metadata": {
    "collapsed": false
   },
   "outputs": [
    {
     "name": "stdout",
     "output_type": "stream",
     "text": [
      "Float64Index([1.0, 2.0, 3.0, 4.0, 5.0, 6.0, 7.0, 8.0, 9.0, 10.0, 11.0, 12.0], dtype='float64')\n",
      "1       4715\n",
      "2       9978\n",
      "3       5239\n",
      "4       6444\n",
      "5      38109\n",
      "6      30163\n",
      "7      48031\n",
      "8      15897\n",
      "9      76133\n",
      "10    304902\n",
      "11      5212\n",
      "12     55833\n",
      "Name: FAMI_OCUPA_MADRE, dtype: int64\n",
      "Elementos null/NaN 5238\n",
      "__________________\n",
      "Elementos diferentes de null/NaN: 600656\n",
      "__________________\n",
      "(600656,)\n",
      "None\n"
     ]
    }
   ],
   "source": [
    "c = 'FAMI_OCUPA_MADRE'\n",
    "print(data_2016_2[c].value_counts().sort_index().index)\n",
    "print(data_2016_2[c].value_counts().sort_index())\n",
    "print(missing_data(data_2016_2[c]))"
   ]
  },
  {
   "cell_type": "code",
   "execution_count": 358,
   "metadata": {
    "collapsed": false
   },
   "outputs": [
    {
     "name": "stdout",
     "output_type": "stream",
     "text": [
      "cant null antes: 5238\n",
      "cant null despues: 0\n"
     ]
    }
   ],
   "source": [
    "Do_resamples(data_2016_2, c, float)"
   ]
  },
  {
   "cell_type": "code",
   "execution_count": 359,
   "metadata": {
    "collapsed": false
   },
   "outputs": [
    {
     "name": "stdout",
     "output_type": "stream",
     "text": [
      "Float64Index([0.0, 1.0, 2.0, 3.0, 4.0, 5.0, 6.0, 7.0, 8.0, 9.0, 10.0], dtype='float64')\n",
      "0      43965\n",
      "1     153286\n",
      "2     166139\n",
      "3     104797\n",
      "4      57381\n",
      "5      30809\n",
      "6      17646\n",
      "7      10526\n",
      "8       6463\n",
      "9       4008\n",
      "10      5637\n",
      "Name: FAMI_NUM_HERMANOS, dtype: int64\n",
      "Elementos null/NaN 5237\n",
      "__________________\n",
      "Elementos diferentes de null/NaN: 600657\n",
      "__________________\n",
      "(600657,)\n",
      "None\n"
     ]
    }
   ],
   "source": [
    "c = 'FAMI_NUM_HERMANOS'\n",
    "print(data_2016_2[c].value_counts().sort_index().index)\n",
    "print(data_2016_2[c].value_counts().sort_index())\n",
    "print(missing_data(data_2016_2[c]))"
   ]
  },
  {
   "cell_type": "code",
   "execution_count": 360,
   "metadata": {
    "collapsed": false
   },
   "outputs": [
    {
     "name": "stdout",
     "output_type": "stream",
     "text": [
      "cant null antes: 5237\n",
      "cant null despues: 0\n"
     ]
    }
   ],
   "source": [
    "Do_resamples(data_2016_2, c, float)"
   ]
  },
  {
   "cell_type": "code",
   "execution_count": 361,
   "metadata": {
    "collapsed": false
   },
   "outputs": [
    {
     "name": "stdout",
     "output_type": "stream",
     "text": [
      "Float64Index([1.0, 2.0, 3.0, 4.0, 5.0, 6.0], dtype='float64')\n",
      "1    271012\n",
      "2    207186\n",
      "3     95926\n",
      "4     18755\n",
      "5      5612\n",
      "6      2168\n",
      "Name: FAMI_ESTRATO_VIVIENDA, dtype: int64\n",
      "Elementos null/NaN 5235\n",
      "__________________\n",
      "Elementos diferentes de null/NaN: 600659\n",
      "__________________\n",
      "(600659,)\n",
      "None\n"
     ]
    }
   ],
   "source": [
    "c = 'FAMI_ESTRATO_VIVIENDA'\n",
    "print(data_2016_2[c].value_counts().sort_index().index)\n",
    "print(data_2016_2[c].value_counts().sort_index())\n",
    "print(missing_data(data_2016_2[c]))"
   ]
  },
  {
   "cell_type": "code",
   "execution_count": 362,
   "metadata": {
    "collapsed": false
   },
   "outputs": [
    {
     "name": "stdout",
     "output_type": "stream",
     "text": [
      "cant null antes: 5235\n",
      "cant null despues: 0\n"
     ]
    }
   ],
   "source": [
    "Do_resamples(data_2016_2, c, float)"
   ]
  },
  {
   "cell_type": "code",
   "execution_count": 363,
   "metadata": {
    "collapsed": false
   },
   "outputs": [
    {
     "name": "stdout",
     "output_type": "stream",
     "text": [
      "Float64Index([1.0, 2.0, 3.0, 4.0, 5.0], dtype='float64')\n",
      "1    315631\n",
      "2    127951\n",
      "3     20826\n",
      "4      5368\n",
      "5    130880\n",
      "Name: FAMI_NIVEL_SISBEN, dtype: int64\n",
      "Elementos null/NaN 5238\n",
      "__________________\n",
      "Elementos diferentes de null/NaN: 600656\n",
      "__________________\n",
      "(600656,)\n",
      "None\n"
     ]
    }
   ],
   "source": [
    "c = 'FAMI_NIVEL_SISBEN'\n",
    "print(data_2016_2[c].value_counts().sort_index().index)\n",
    "print(data_2016_2[c].value_counts().sort_index())\n",
    "print(missing_data(data_2016_2[c]))"
   ]
  },
  {
   "cell_type": "code",
   "execution_count": 364,
   "metadata": {
    "collapsed": false
   },
   "outputs": [
    {
     "name": "stdout",
     "output_type": "stream",
     "text": [
      "cant null antes: 5238\n",
      "cant null despues: 0\n"
     ]
    }
   ],
   "source": [
    "Do_resamples(data_2016_2, c, float)"
   ]
  },
  {
   "cell_type": "code",
   "execution_count": 365,
   "metadata": {
    "collapsed": false
   },
   "outputs": [
    {
     "name": "stdout",
     "output_type": "stream",
     "text": [
      "Float64Index([1.0, 2.0, 3.0, 4.0, 5.0, 6.0, 7.0, 8.0, 9.0, 10.0, 11.0, 12.0], dtype='float64')\n",
      "1       4474\n",
      "2      34871\n",
      "3     109401\n",
      "4     181881\n",
      "5     136774\n",
      "6      66930\n",
      "7      31414\n",
      "8      16471\n",
      "9       7240\n",
      "10      5074\n",
      "11      2173\n",
      "12      3954\n",
      "Name: FAMI_PERSONAS_HOGAR, dtype: int64\n",
      "Elementos null/NaN 5237\n",
      "__________________\n",
      "Elementos diferentes de null/NaN: 600657\n",
      "__________________\n",
      "(600657,)\n",
      "None\n"
     ]
    }
   ],
   "source": [
    "c = 'FAMI_PERSONAS_HOGAR'\n",
    "print(data_2016_2[c].value_counts().sort_index().index)\n",
    "print(data_2016_2[c].value_counts().sort_index())\n",
    "print(missing_data(data_2016_2[c]))"
   ]
  },
  {
   "cell_type": "code",
   "execution_count": 366,
   "metadata": {
    "collapsed": false
   },
   "outputs": [
    {
     "name": "stdout",
     "output_type": "stream",
     "text": [
      "cant null antes: 5237\n",
      "cant null despues: 0\n"
     ]
    }
   ],
   "source": [
    "Do_resamples(data_2016_2, c, float)"
   ]
  },
  {
   "cell_type": "code",
   "execution_count": 367,
   "metadata": {
    "collapsed": false
   },
   "outputs": [
    {
     "name": "stdout",
     "output_type": "stream",
     "text": [
      "Float64Index([1.0, 2.0, 3.0, 4.0, 5.0, 6.0, 7.0, 8.0, 9.0, 10.0], dtype='float64')\n",
      "1      25885\n",
      "2     223956\n",
      "3     247861\n",
      "4      73594\n",
      "5      18796\n",
      "6       6207\n",
      "7       2192\n",
      "8       1139\n",
      "9        414\n",
      "10       613\n",
      "Name: FAMI_CUARTOS_HOGAR, dtype: int64\n",
      "Elementos null/NaN 5237\n",
      "__________________\n",
      "Elementos diferentes de null/NaN: 600657\n",
      "__________________\n",
      "(600657,)\n",
      "None\n"
     ]
    }
   ],
   "source": [
    "c = 'FAMI_CUARTOS_HOGAR'\n",
    "print(data_2016_2[c].value_counts().sort_index().index)\n",
    "print(data_2016_2[c].value_counts().sort_index())\n",
    "print(missing_data(data_2016_2[c]))"
   ]
  },
  {
   "cell_type": "code",
   "execution_count": 368,
   "metadata": {
    "collapsed": false
   },
   "outputs": [
    {
     "name": "stdout",
     "output_type": "stream",
     "text": [
      "cant null antes: 5237\n",
      "cant null despues: 0\n"
     ]
    }
   ],
   "source": [
    "Do_resamples(data_2016_2, c, float)"
   ]
  },
  {
   "cell_type": "code",
   "execution_count": 369,
   "metadata": {
    "collapsed": false
   },
   "outputs": [
    {
     "name": "stdout",
     "output_type": "stream",
     "text": [
      "Float64Index([1.0, 2.0, 3.0, 4.0], dtype='float64')\n",
      "1     34766\n",
      "2    271384\n",
      "3     32270\n",
      "4    262237\n",
      "Name: FAMI_PISOSHOGAR, dtype: int64\n",
      "Elementos null/NaN 5237\n",
      "__________________\n",
      "Elementos diferentes de null/NaN: 600657\n",
      "__________________\n",
      "(600657,)\n",
      "None\n"
     ]
    }
   ],
   "source": [
    "c = 'FAMI_PISOSHOGAR'\n",
    "print(data_2016_2[c].value_counts().sort_index().index)\n",
    "print(data_2016_2[c].value_counts().sort_index())\n",
    "print(missing_data(data_2016_2[c]))"
   ]
  },
  {
   "cell_type": "code",
   "execution_count": 370,
   "metadata": {
    "collapsed": false
   },
   "outputs": [
    {
     "name": "stdout",
     "output_type": "stream",
     "text": [
      "cant null antes: 5237\n",
      "cant null despues: 1\n",
      "cant null antes: 1\n",
      "cant null despues: 0\n"
     ]
    }
   ],
   "source": [
    "Do_resamples(data_2016_2, c, float)"
   ]
  },
  {
   "cell_type": "code",
   "execution_count": 371,
   "metadata": {
    "collapsed": false
   },
   "outputs": [
    {
     "name": "stdout",
     "output_type": "stream",
     "text": [
      "Index(['N', 'S'], dtype='object')\n",
      "N    264879\n",
      "S    335778\n",
      "Name: FAMI_DVD, dtype: int64\n",
      "Elementos null/NaN 5237\n",
      "__________________\n",
      "Elementos diferentes de null/NaN: 600657\n",
      "__________________\n",
      "(600657,)\n",
      "None\n"
     ]
    }
   ],
   "source": [
    "c = 'FAMI_DVD'\n",
    "print(data_2016_2[c].value_counts().sort_index().index)\n",
    "print(data_2016_2[c].value_counts().sort_index())\n",
    "print(missing_data(data_2016_2[c]))"
   ]
  },
  {
   "cell_type": "code",
   "execution_count": 372,
   "metadata": {
    "collapsed": false
   },
   "outputs": [
    {
     "name": "stdout",
     "output_type": "stream",
     "text": [
      "cant null antes: 5237\n",
      "cant null despues: 0\n"
     ]
    }
   ],
   "source": [
    "Do_resamples(data_2016_2, c, str)"
   ]
  },
  {
   "cell_type": "code",
   "execution_count": 373,
   "metadata": {
    "collapsed": false
   },
   "outputs": [
    {
     "name": "stdout",
     "output_type": "stream",
     "text": [
      "Index(['N', 'S'], dtype='object')\n",
      "N    363601\n",
      "S    237056\n",
      "Name: FAMI_TELEFONO_FIJO, dtype: int64\n",
      "Elementos null/NaN 5237\n",
      "__________________\n",
      "Elementos diferentes de null/NaN: 600657\n",
      "__________________\n",
      "(600657,)\n",
      "None\n"
     ]
    }
   ],
   "source": [
    "c = 'FAMI_TELEFONO_FIJO'\n",
    "print(data_2016_2[c].value_counts().sort_index().index)\n",
    "print(data_2016_2[c].value_counts().sort_index())\n",
    "print(missing_data(data_2016_2[c]))"
   ]
  },
  {
   "cell_type": "code",
   "execution_count": 374,
   "metadata": {
    "collapsed": false
   },
   "outputs": [
    {
     "name": "stdout",
     "output_type": "stream",
     "text": [
      "cant null antes: 5237\n",
      "cant null despues: 0\n"
     ]
    }
   ],
   "source": [
    "Do_resamples(data_2016_2, c, str)"
   ]
  },
  {
   "cell_type": "code",
   "execution_count": 375,
   "metadata": {
    "collapsed": false
   },
   "outputs": [
    {
     "name": "stdout",
     "output_type": "stream",
     "text": [
      "Index(['N', 'S'], dtype='object')\n",
      "N    286730\n",
      "S    313927\n",
      "Name: FAMI_INTERNET, dtype: int64\n",
      "Elementos null/NaN 5237\n",
      "__________________\n",
      "Elementos diferentes de null/NaN: 600657\n",
      "__________________\n",
      "(600657,)\n",
      "None\n"
     ]
    }
   ],
   "source": [
    "c = 'FAMI_INTERNET'\n",
    "print(data_2016_2[c].value_counts().sort_index().index)\n",
    "print(data_2016_2[c].value_counts().sort_index())\n",
    "print(missing_data(data_2016_2[c]))"
   ]
  },
  {
   "cell_type": "code",
   "execution_count": 376,
   "metadata": {
    "collapsed": false
   },
   "outputs": [
    {
     "name": "stdout",
     "output_type": "stream",
     "text": [
      "cant null antes: 5237\n",
      "cant null despues: 0\n"
     ]
    }
   ],
   "source": [
    "Do_resamples(data_2016_2, c, str)"
   ]
  },
  {
   "cell_type": "code",
   "execution_count": 377,
   "metadata": {
    "collapsed": false
   },
   "outputs": [
    {
     "name": "stdout",
     "output_type": "stream",
     "text": [
      "Index(['N', 'S'], dtype='object')\n",
      "N    198151\n",
      "S    402506\n",
      "Name: FAMI_SERVICIO_TELEVISION, dtype: int64\n",
      "Elementos null/NaN 5237\n",
      "__________________\n",
      "Elementos diferentes de null/NaN: 600657\n",
      "__________________\n",
      "(600657,)\n",
      "None\n"
     ]
    }
   ],
   "source": [
    "c = 'FAMI_SERVICIO_TELEVISION'\n",
    "print(data_2016_2[c].value_counts().sort_index().index)\n",
    "print(data_2016_2[c].value_counts().sort_index())\n",
    "print(missing_data(data_2016_2[c]))"
   ]
  },
  {
   "cell_type": "code",
   "execution_count": 378,
   "metadata": {
    "collapsed": false
   },
   "outputs": [
    {
     "name": "stdout",
     "output_type": "stream",
     "text": [
      "cant null antes: 5237\n",
      "cant null despues: 0\n"
     ]
    }
   ],
   "source": [
    "Do_resamples(data_2016_2, c, str)"
   ]
  },
  {
   "cell_type": "code",
   "execution_count": 379,
   "metadata": {
    "collapsed": false
   },
   "outputs": [
    {
     "name": "stdout",
     "output_type": "stream",
     "text": [
      "Index(['N', 'S'], dtype='object')\n",
      "N    250677\n",
      "S    349980\n",
      "Name: FAMI_COMPUTADOR, dtype: int64\n",
      "Elementos null/NaN 5237\n",
      "__________________\n",
      "Elementos diferentes de null/NaN: 600657\n",
      "__________________\n",
      "(600657,)\n",
      "None\n"
     ]
    }
   ],
   "source": [
    "c = 'FAMI_COMPUTADOR'\n",
    "print(data_2016_2[c].value_counts().sort_index().index)\n",
    "print(data_2016_2[c].value_counts().sort_index())\n",
    "print(missing_data(data_2016_2[c]))"
   ]
  },
  {
   "cell_type": "code",
   "execution_count": 380,
   "metadata": {
    "collapsed": false
   },
   "outputs": [
    {
     "name": "stdout",
     "output_type": "stream",
     "text": [
      "cant null antes: 5237\n",
      "cant null despues: 0\n"
     ]
    }
   ],
   "source": [
    "Do_resamples(data_2016_2, c, str)"
   ]
  },
  {
   "cell_type": "code",
   "execution_count": 381,
   "metadata": {
    "collapsed": false
   },
   "outputs": [
    {
     "name": "stdout",
     "output_type": "stream",
     "text": [
      "Index(['N', 'S'], dtype='object')\n",
      "N    197529\n",
      "S    403128\n",
      "Name: FAMI_LAVADORA, dtype: int64\n",
      "Elementos null/NaN 5237\n",
      "__________________\n",
      "Elementos diferentes de null/NaN: 600657\n",
      "__________________\n",
      "(600657,)\n",
      "None\n"
     ]
    }
   ],
   "source": [
    "c = 'FAMI_LAVADORA'\n",
    "print(data_2016_2[c].value_counts().sort_index().index)\n",
    "print(data_2016_2[c].value_counts().sort_index())\n",
    "print(missing_data(data_2016_2[c]))"
   ]
  },
  {
   "cell_type": "code",
   "execution_count": 382,
   "metadata": {
    "collapsed": false
   },
   "outputs": [
    {
     "name": "stdout",
     "output_type": "stream",
     "text": [
      "cant null antes: 5237\n",
      "cant null despues: 0\n"
     ]
    }
   ],
   "source": [
    "Do_resamples(data_2016_2, c, str)"
   ]
  },
  {
   "cell_type": "code",
   "execution_count": 383,
   "metadata": {
    "collapsed": false
   },
   "outputs": [
    {
     "name": "stdout",
     "output_type": "stream",
     "text": [
      "Index(['N', 'S'], dtype='object')\n",
      "N    429401\n",
      "S    171256\n",
      "Name: FAMI_MICROONDAS, dtype: int64\n",
      "Elementos null/NaN 5237\n",
      "__________________\n",
      "Elementos diferentes de null/NaN: 600657\n",
      "__________________\n",
      "(600657,)\n",
      "None\n"
     ]
    }
   ],
   "source": [
    "c = 'FAMI_MICROONDAS'\n",
    "print(data_2016_2[c].value_counts().sort_index().index)\n",
    "print(data_2016_2[c].value_counts().sort_index())\n",
    "print(missing_data(data_2016_2[c]))"
   ]
  },
  {
   "cell_type": "code",
   "execution_count": 384,
   "metadata": {
    "collapsed": false
   },
   "outputs": [
    {
     "name": "stdout",
     "output_type": "stream",
     "text": [
      "cant null antes: 5237\n",
      "cant null despues: 0\n"
     ]
    }
   ],
   "source": [
    "Do_resamples(data_2016_2, c, str)"
   ]
  },
  {
   "cell_type": "code",
   "execution_count": 385,
   "metadata": {
    "collapsed": false
   },
   "outputs": [
    {
     "name": "stdout",
     "output_type": "stream",
     "text": [
      "Index(['N', 'S'], dtype='object')\n",
      "N    366637\n",
      "S    234020\n",
      "Name: FAMI_HORNO, dtype: int64\n",
      "Elementos null/NaN 5237\n",
      "__________________\n",
      "Elementos diferentes de null/NaN: 600657\n",
      "__________________\n",
      "(600657,)\n",
      "None\n"
     ]
    }
   ],
   "source": [
    "c = 'FAMI_HORNO'\n",
    "print(data_2016_2[c].value_counts().sort_index().index)\n",
    "print(data_2016_2[c].value_counts().sort_index())\n",
    "print(missing_data(data_2016_2[c]))"
   ]
  },
  {
   "cell_type": "code",
   "execution_count": 386,
   "metadata": {
    "collapsed": false
   },
   "outputs": [
    {
     "name": "stdout",
     "output_type": "stream",
     "text": [
      "cant null antes: 5237\n",
      "cant null despues: 0\n"
     ]
    }
   ],
   "source": [
    "Do_resamples(data_2016_2, c, str)"
   ]
  },
  {
   "cell_type": "code",
   "execution_count": 387,
   "metadata": {
    "collapsed": false
   },
   "outputs": [
    {
     "name": "stdout",
     "output_type": "stream",
     "text": [
      "Index(['N', 'S'], dtype='object')\n",
      "N    481865\n",
      "S    118792\n",
      "Name: FAMI_AUTOMOVIL, dtype: int64\n",
      "Elementos null/NaN 5237\n",
      "__________________\n",
      "Elementos diferentes de null/NaN: 600657\n",
      "__________________\n",
      "(600657,)\n",
      "None\n"
     ]
    }
   ],
   "source": [
    "c = 'FAMI_AUTOMOVIL'\n",
    "print(data_2016_2[c].value_counts().sort_index().index)\n",
    "print(data_2016_2[c].value_counts().sort_index())\n",
    "print(missing_data(data_2016_2[c]))"
   ]
  },
  {
   "cell_type": "code",
   "execution_count": 388,
   "metadata": {
    "collapsed": false
   },
   "outputs": [
    {
     "name": "stdout",
     "output_type": "stream",
     "text": [
      "cant null antes: 5237\n",
      "cant null despues: 0\n"
     ]
    }
   ],
   "source": [
    "Do_resamples(data_2016_2, c, str)"
   ]
  },
  {
   "cell_type": "code",
   "execution_count": 389,
   "metadata": {
    "collapsed": false
   },
   "outputs": [
    {
     "name": "stdout",
     "output_type": "stream",
     "text": [
      "Index(['0 A 10 LIBROS', '11 A 25 LIBROS', '26 A 100 LIBROS',\n",
      "       'MÁS DE 100 LIBROS'],\n",
      "      dtype='object')\n",
      "0 A 10 LIBROS        283252\n",
      "11 A 25 LIBROS       175704\n",
      "26 A 100 LIBROS      110092\n",
      "MÁS DE 100 LIBROS     31609\n",
      "Name: ESTU_NUMERO_LIBROS, dtype: int64\n",
      "Elementos null/NaN 5237\n",
      "__________________\n",
      "Elementos diferentes de null/NaN: 600657\n",
      "__________________\n",
      "(600657,)\n",
      "None\n"
     ]
    }
   ],
   "source": [
    "c = 'ESTU_NUMERO_LIBROS'\n",
    "print(data_2016_2[c].value_counts().sort_index().index)\n",
    "print(data_2016_2[c].value_counts().sort_index())\n",
    "print(missing_data(data_2016_2[c]))"
   ]
  },
  {
   "cell_type": "code",
   "execution_count": 390,
   "metadata": {
    "collapsed": true
   },
   "outputs": [],
   "source": [
    "idx = data_2016_2[data_2016_2[c].isnull()].index\n",
    "data_2016_2 = data_2016_2.drop(idx)"
   ]
  },
  {
   "cell_type": "code",
   "execution_count": 391,
   "metadata": {
    "collapsed": false
   },
   "outputs": [
    {
     "name": "stdout",
     "output_type": "stream",
     "text": [
      "Float64Index([1.0, 2.0, 3.0, 4.0, 5.0, 6.0, 7.0], dtype='float64')\n",
      "1    171860\n",
      "2    275742\n",
      "3     92879\n",
      "4     36924\n",
      "5     11695\n",
      "6      5946\n",
      "7      5611\n",
      "Name: FAMI_INGRESO_FMILIAR_MENSUAL, dtype: int64\n",
      "Elementos null/NaN 0\n",
      "__________________\n",
      "Elementos diferentes de null/NaN: 600657\n",
      "__________________\n",
      "(600657,)\n",
      "None\n"
     ]
    }
   ],
   "source": [
    "c = 'FAMI_INGRESO_FMILIAR_MENSUAL'\n",
    "print(data_2016_2[c].value_counts().sort_index().index)\n",
    "print(data_2016_2[c].value_counts().sort_index())\n",
    "print(missing_data(data_2016_2[c]))"
   ]
  },
  {
   "cell_type": "code",
   "execution_count": 392,
   "metadata": {
    "collapsed": false
   },
   "outputs": [
    {
     "name": "stdout",
     "output_type": "stream",
     "text": [
      "Index(['N', 'S'], dtype='object')\n",
      "N     2747\n",
      "S    50944\n",
      "Name: ESTU_RECIBE_SALARIO, dtype: int64\n",
      "Elementos null/NaN 546966\n",
      "__________________\n",
      "Elementos diferentes de null/NaN: 53691\n",
      "__________________\n",
      "(53691,)\n",
      "None\n"
     ]
    }
   ],
   "source": [
    "c = 'ESTU_RECIBE_SALARIO'\n",
    "print(data_2016_2[c].value_counts().sort_index().index)\n",
    "print(data_2016_2[c].value_counts().sort_index())\n",
    "print(missing_data(data_2016_2[c]))"
   ]
  },
  {
   "cell_type": "code",
   "execution_count": 393,
   "metadata": {
    "collapsed": false
   },
   "outputs": [
    {
     "name": "stdout",
     "output_type": "stream",
     "text": [
      "cant null antes: 546966\n",
      "cant null despues: 0\n"
     ]
    }
   ],
   "source": [
    "Do_resamples(data_2016_2, c, str)"
   ]
  },
  {
   "cell_type": "markdown",
   "metadata": {},
   "source": [
    "# TARGETS"
   ]
  },
  {
   "cell_type": "code",
   "execution_count": 394,
   "metadata": {
    "collapsed": false,
    "scrolled": true
   },
   "outputs": [
    {
     "name": "stdout",
     "output_type": "stream",
     "text": [
      "Float64Index([  0.0,  25.0,  26.0,  27.0,  28.0,  29.0,  30.0,  31.0,  32.0,\n",
      "               33.0,  34.0,  35.0,  36.0,  37.0,  38.0,  39.0,  40.0,  41.0,\n",
      "               42.0,  43.0,  44.0,  45.0,  46.0,  47.0,  48.0,  49.0,  50.0,\n",
      "               51.0,  52.0,  53.0,  54.0,  55.0,  56.0,  57.0,  58.0,  59.0,\n",
      "               60.0,  61.0,  62.0,  63.0,  64.0,  65.0,  66.0,  67.0,  68.0,\n",
      "               69.0,  70.0,  71.0,  72.0,  73.0,  74.0,  75.0,  76.0,  77.0,\n",
      "               78.0,  79.0,  80.0,  81.0,  82.0,  83.0,  84.0, 100.0],\n",
      "             dtype='float64')\n",
      "0      15312\n",
      "25         1\n",
      "26        23\n",
      "27       112\n",
      "28       287\n",
      "29       470\n",
      "30       774\n",
      "31      1269\n",
      "32      2072\n",
      "33      2733\n",
      "34      3934\n",
      "35      5237\n",
      "36      6779\n",
      "37      8167\n",
      "38      9861\n",
      "39     11379\n",
      "40     12762\n",
      "41     14342\n",
      "42     15268\n",
      "43     16338\n",
      "44     17052\n",
      "45     17861\n",
      "46     18486\n",
      "47     19140\n",
      "48     19934\n",
      "49     21087\n",
      "50     21428\n",
      "51     21899\n",
      "52     22221\n",
      "53     22601\n",
      "       ...  \n",
      "56     22055\n",
      "57     21290\n",
      "58     20198\n",
      "59     18993\n",
      "60     17597\n",
      "61     16449\n",
      "62     14907\n",
      "63     13423\n",
      "64     12136\n",
      "65     10865\n",
      "66      9684\n",
      "67      8482\n",
      "68      7501\n",
      "69      6603\n",
      "70      5521\n",
      "71      4665\n",
      "72      3806\n",
      "73      3075\n",
      "74      2549\n",
      "75      1944\n",
      "76      1431\n",
      "77      1076\n",
      "78       757\n",
      "79       527\n",
      "80       396\n",
      "81       289\n",
      "82       139\n",
      "83       102\n",
      "84        48\n",
      "100       29\n",
      "Name: PUNT_LECTURA_CRITICA, dtype: int64\n",
      "Elementos null/NaN 0\n",
      "__________________\n",
      "Elementos diferentes de null/NaN: 600657\n",
      "__________________\n",
      "(600657,)\n",
      "None\n"
     ]
    }
   ],
   "source": [
    "c = 'PUNT_LECTURA_CRITICA'\n",
    "print(data_2016_2[c].value_counts().sort_index().index)\n",
    "print(data_2016_2[c].value_counts().sort_index())\n",
    "print(missing_data(data_2016_2[c]))"
   ]
  },
  {
   "cell_type": "code",
   "execution_count": 395,
   "metadata": {
    "collapsed": false,
    "scrolled": true
   },
   "outputs": [
    {
     "name": "stdout",
     "output_type": "stream",
     "text": [
      "Float64Index([  1.0,   2.0,   3.0,   4.0,   5.0,   6.0,   7.0,   8.0,   9.0,\n",
      "               10.0,  11.0,  12.0,  13.0,  14.0,  15.0,  16.0,  17.0,  18.0,\n",
      "               19.0,  20.0,  21.0,  22.0,  23.0,  24.0,  25.0,  26.0,  27.0,\n",
      "               28.0,  29.0,  30.0,  31.0,  32.0,  33.0,  34.0,  35.0,  36.0,\n",
      "               37.0,  38.0,  39.0,  40.0,  41.0,  42.0,  43.0,  44.0,  45.0,\n",
      "               46.0,  47.0,  48.0,  49.0,  50.0,  51.0,  52.0,  53.0,  54.0,\n",
      "               55.0,  56.0,  57.0,  58.0,  59.0,  60.0,  61.0,  62.0,  63.0,\n",
      "               64.0,  65.0,  66.0,  67.0,  68.0,  69.0,  70.0,  71.0,  72.0,\n",
      "               73.0,  74.0,  75.0,  76.0,  77.0,  78.0,  79.0,  80.0,  81.0,\n",
      "               82.0,  83.0,  84.0,  85.0,  86.0,  87.0,  88.0,  89.0,  90.0,\n",
      "               91.0,  92.0,  93.0,  94.0,  95.0,  96.0,  97.0,  98.0,  99.0,\n",
      "              100.0],\n",
      "             dtype='float64')\n",
      "1      21542\n",
      "2       6009\n",
      "3       6049\n",
      "4       5948\n",
      "5       6009\n",
      "6       5956\n",
      "7       5882\n",
      "8       5985\n",
      "9       5937\n",
      "10      5902\n",
      "11      5967\n",
      "12      5916\n",
      "13      5888\n",
      "14      5903\n",
      "15      5889\n",
      "16      5897\n",
      "17      5851\n",
      "18      5892\n",
      "19      5883\n",
      "20      5885\n",
      "21      5869\n",
      "22      5892\n",
      "23      5878\n",
      "24      5846\n",
      "25      5867\n",
      "26      5884\n",
      "27      5826\n",
      "28      5917\n",
      "29      5869\n",
      "30      5873\n",
      "       ...  \n",
      "71      5763\n",
      "72      5787\n",
      "73      5801\n",
      "74      5787\n",
      "75      5770\n",
      "76      5818\n",
      "77      5762\n",
      "78      5812\n",
      "79      5803\n",
      "80      5818\n",
      "81      5788\n",
      "82      5812\n",
      "83      5805\n",
      "84      5869\n",
      "85      5860\n",
      "86      5843\n",
      "87      5842\n",
      "88      5842\n",
      "89      5848\n",
      "90      5847\n",
      "91      5819\n",
      "92      5868\n",
      "93      5866\n",
      "94      5895\n",
      "95      5858\n",
      "96      5888\n",
      "97      5885\n",
      "98      5913\n",
      "99      5942\n",
      "100     6183\n",
      "Name: PERCENTIL_LECTURA_CRITICA, dtype: int64\n",
      "Elementos null/NaN 0\n",
      "__________________\n",
      "Elementos diferentes de null/NaN: 600657\n",
      "__________________\n",
      "(600657,)\n",
      "None\n"
     ]
    }
   ],
   "source": [
    "c = 'PERCENTIL_LECTURA_CRITICA'\n",
    "print(data_2016_2[c].value_counts().sort_index().index)\n",
    "print(data_2016_2[c].value_counts().sort_index())\n",
    "print(missing_data(data_2016_2[c]))"
   ]
  },
  {
   "cell_type": "code",
   "execution_count": 396,
   "metadata": {
    "collapsed": false
   },
   "outputs": [
    {
     "name": "stdout",
     "output_type": "stream",
     "text": [
      "Float64Index([1.0, 2.0, 3.0, 4.0], dtype='float64')\n",
      "1     35433\n",
      "2    237570\n",
      "3    274003\n",
      "4     53651\n",
      "Name: DESEMP_LECTURA_CRITICA, dtype: int64\n",
      "Elementos null/NaN 0\n",
      "__________________\n",
      "Elementos diferentes de null/NaN: 600657\n",
      "__________________\n",
      "(600657,)\n",
      "None\n"
     ]
    }
   ],
   "source": [
    "c = 'DESEMP_LECTURA_CRITICA'\n",
    "print(data_2016_2[c].value_counts().sort_index().index)\n",
    "print(data_2016_2[c].value_counts().sort_index())\n",
    "print(missing_data(data_2016_2[c]))"
   ]
  },
  {
   "cell_type": "code",
   "execution_count": 397,
   "metadata": {
    "collapsed": false,
    "scrolled": true
   },
   "outputs": [
    {
     "name": "stdout",
     "output_type": "stream",
     "text": [
      "Float64Index([  0.0,  20.0,  21.0,  22.0,  23.0,  24.0,  25.0,  26.0,  27.0,\n",
      "               28.0,  29.0,  30.0,  31.0,  32.0,  33.0,  34.0,  35.0,  36.0,\n",
      "               37.0,  38.0,  39.0,  40.0,  41.0,  42.0,  43.0,  44.0,  45.0,\n",
      "               46.0,  47.0,  48.0,  49.0,  50.0,  51.0,  52.0,  53.0,  54.0,\n",
      "               55.0,  56.0,  57.0,  58.0,  59.0,  60.0,  61.0,  62.0,  63.0,\n",
      "               64.0,  65.0,  66.0,  67.0,  68.0,  69.0,  70.0,  71.0,  72.0,\n",
      "               73.0,  74.0,  75.0,  76.0,  77.0,  78.0,  79.0,  80.0,  81.0,\n",
      "               82.0,  83.0,  84.0,  85.0,  86.0,  87.0,  88.0,  89.0, 100.0],\n",
      "             dtype='float64')\n",
      "0      14755\n",
      "20        26\n",
      "21       108\n",
      "22       336\n",
      "23       585\n",
      "24       936\n",
      "25      1404\n",
      "26      1970\n",
      "27      2707\n",
      "28      3490\n",
      "29      4347\n",
      "30      5222\n",
      "31      6190\n",
      "32      7287\n",
      "33      8060\n",
      "34      9164\n",
      "35     10041\n",
      "36     10602\n",
      "37     11715\n",
      "38     12332\n",
      "39     12942\n",
      "40     13359\n",
      "41     14056\n",
      "42     14608\n",
      "43     15127\n",
      "44     15498\n",
      "45     15958\n",
      "46     16505\n",
      "47     17112\n",
      "48     17621\n",
      "       ...  \n",
      "61     14197\n",
      "62     13154\n",
      "63     11834\n",
      "64     10981\n",
      "65      9751\n",
      "66      8620\n",
      "67      7988\n",
      "68      6945\n",
      "69      6188\n",
      "70      5482\n",
      "71      4739\n",
      "72      4160\n",
      "73      3660\n",
      "74      3050\n",
      "75      2617\n",
      "76      2139\n",
      "77      1787\n",
      "78      1296\n",
      "79      1132\n",
      "80       897\n",
      "81       673\n",
      "82       576\n",
      "83       432\n",
      "84       314\n",
      "85       273\n",
      "86       141\n",
      "87       172\n",
      "88        43\n",
      "89         3\n",
      "100      202\n",
      "Name: PUNT_MATEMATICAS, dtype: int64\n",
      "Elementos null/NaN 0\n",
      "__________________\n",
      "Elementos diferentes de null/NaN: 600657\n",
      "__________________\n",
      "(600657,)\n",
      "None\n"
     ]
    }
   ],
   "source": [
    "c = 'PUNT_MATEMATICAS'\n",
    "print(data_2016_2[c].value_counts().sort_index().index)\n",
    "print(data_2016_2[c].value_counts().sort_index())\n",
    "print(missing_data(data_2016_2[c]))"
   ]
  },
  {
   "cell_type": "code",
   "execution_count": 398,
   "metadata": {
    "collapsed": false,
    "scrolled": true
   },
   "outputs": [
    {
     "name": "stdout",
     "output_type": "stream",
     "text": [
      "Float64Index([  1.0,   2.0,   3.0,   4.0,   5.0,   6.0,   7.0,   8.0,   9.0,\n",
      "               10.0,  11.0,  12.0,  13.0,  14.0,  15.0,  16.0,  17.0,  18.0,\n",
      "               19.0,  20.0,  21.0,  22.0,  23.0,  24.0,  25.0,  26.0,  27.0,\n",
      "               28.0,  29.0,  30.0,  31.0,  32.0,  33.0,  34.0,  35.0,  36.0,\n",
      "               37.0,  38.0,  39.0,  40.0,  41.0,  42.0,  43.0,  44.0,  45.0,\n",
      "               46.0,  47.0,  48.0,  49.0,  50.0,  51.0,  52.0,  53.0,  54.0,\n",
      "               55.0,  56.0,  57.0,  58.0,  59.0,  60.0,  61.0,  62.0,  63.0,\n",
      "               64.0,  65.0,  66.0,  67.0,  68.0,  69.0,  70.0,  71.0,  72.0,\n",
      "               73.0,  74.0,  75.0,  76.0,  77.0,  78.0,  79.0,  80.0,  81.0,\n",
      "               82.0,  83.0,  84.0,  85.0,  86.0,  87.0,  88.0,  89.0,  90.0,\n",
      "               91.0,  92.0,  93.0,  94.0,  95.0,  96.0,  97.0,  98.0,  99.0,\n",
      "              100.0],\n",
      "             dtype='float64')\n",
      "1      20954\n",
      "2       6106\n",
      "3       6103\n",
      "4       6083\n",
      "5       6086\n",
      "6       6106\n",
      "7       6045\n",
      "8       6041\n",
      "9       6030\n",
      "10      6016\n",
      "11      5984\n",
      "12      5927\n",
      "13      5985\n",
      "14      5977\n",
      "15      5946\n",
      "16      5900\n",
      "17      5916\n",
      "18      5948\n",
      "19      5916\n",
      "20      5898\n",
      "21      5957\n",
      "22      5892\n",
      "23      5868\n",
      "24      5886\n",
      "25      5910\n",
      "26      5882\n",
      "27      5885\n",
      "28      5882\n",
      "29      5845\n",
      "30      5902\n",
      "       ...  \n",
      "71      5756\n",
      "72      5780\n",
      "73      5747\n",
      "74      5744\n",
      "75      5758\n",
      "76      5769\n",
      "77      5737\n",
      "78      5736\n",
      "79      5778\n",
      "80      5759\n",
      "81      5787\n",
      "82      5757\n",
      "83      5796\n",
      "84      5767\n",
      "85      5763\n",
      "86      5776\n",
      "87      5796\n",
      "88      5782\n",
      "89      5813\n",
      "90      5788\n",
      "91      5840\n",
      "92      5771\n",
      "93      5847\n",
      "94      5864\n",
      "95      5874\n",
      "96      5873\n",
      "97      5906\n",
      "98      5952\n",
      "99      5949\n",
      "100     6240\n",
      "Name: PERCENTIL_MATEMATICAS, dtype: int64\n",
      "Elementos null/NaN 0\n",
      "__________________\n",
      "Elementos diferentes de null/NaN: 600657\n",
      "__________________\n",
      "(600657,)\n",
      "None\n"
     ]
    }
   ],
   "source": [
    "c = 'PERCENTIL_MATEMATICAS'\n",
    "print(data_2016_2[c].value_counts().sort_index().index)\n",
    "print(data_2016_2[c].value_counts().sort_index())\n",
    "print(missing_data(data_2016_2[c]))"
   ]
  },
  {
   "cell_type": "code",
   "execution_count": 399,
   "metadata": {
    "collapsed": false
   },
   "outputs": [
    {
     "name": "stdout",
     "output_type": "stream",
     "text": [
      "Float64Index([1.0, 2.0, 3.0, 4.0], dtype='float64')\n",
      "1     81867\n",
      "2    227153\n",
      "3    265771\n",
      "4     25866\n",
      "Name: DESEMP_MATEMATICAS, dtype: int64\n",
      "Elementos null/NaN 0\n",
      "__________________\n",
      "Elementos diferentes de null/NaN: 600657\n",
      "__________________\n",
      "(600657,)\n",
      "None\n"
     ]
    }
   ],
   "source": [
    "c = 'DESEMP_MATEMATICAS'\n",
    "print(data_2016_2[c].value_counts().sort_index().index)\n",
    "print(data_2016_2[c].value_counts().sort_index())\n",
    "print(missing_data(data_2016_2[c]))"
   ]
  },
  {
   "cell_type": "code",
   "execution_count": 400,
   "metadata": {
    "collapsed": false,
    "scrolled": true
   },
   "outputs": [
    {
     "name": "stdout",
     "output_type": "stream",
     "text": [
      "Float64Index([  0.0,  25.0,  26.0,  27.0,  28.0,  29.0,  30.0,  31.0,  32.0,\n",
      "               33.0,  34.0,  35.0,  36.0,  37.0,  38.0,  39.0,  40.0,  41.0,\n",
      "               42.0,  43.0,  44.0,  45.0,  46.0,  47.0,  48.0,  49.0,  50.0,\n",
      "               51.0,  52.0,  53.0,  54.0,  55.0,  56.0,  57.0,  58.0,  59.0,\n",
      "               60.0,  61.0,  62.0,  63.0,  64.0,  65.0,  66.0,  67.0,  68.0,\n",
      "               69.0,  70.0,  71.0,  72.0,  73.0,  74.0,  75.0,  76.0,  77.0,\n",
      "               78.0,  79.0,  80.0,  81.0,  82.0, 100.0],\n",
      "             dtype='float64')\n",
      "0      14839\n",
      "25        88\n",
      "26       281\n",
      "27       556\n",
      "28       893\n",
      "29      1309\n",
      "30      2002\n",
      "31      2602\n",
      "32      3458\n",
      "33      4074\n",
      "34      4750\n",
      "35      5652\n",
      "36      6764\n",
      "37      7653\n",
      "38      8365\n",
      "39      9123\n",
      "40     10454\n",
      "41     11522\n",
      "42     12645\n",
      "43     13791\n",
      "44     14989\n",
      "45     16194\n",
      "46     17602\n",
      "47     19258\n",
      "48     20250\n",
      "49     21626\n",
      "50     22855\n",
      "51     23983\n",
      "52     24036\n",
      "53     24204\n",
      "54     23952\n",
      "55     23668\n",
      "56     22727\n",
      "57     21487\n",
      "58     20351\n",
      "59     19361\n",
      "60     17876\n",
      "61     16591\n",
      "62     15467\n",
      "63     13905\n",
      "64     12647\n",
      "65     11456\n",
      "66     10155\n",
      "67      8751\n",
      "68      7370\n",
      "69      6417\n",
      "70      5246\n",
      "71      4104\n",
      "72      3257\n",
      "73      2620\n",
      "74      2051\n",
      "75      1554\n",
      "76      1145\n",
      "77       869\n",
      "78       556\n",
      "79       500\n",
      "80       278\n",
      "81       256\n",
      "82        20\n",
      "100      202\n",
      "Name: PUNT_C_NATURALES, dtype: int64\n",
      "Elementos null/NaN 0\n",
      "__________________\n",
      "Elementos diferentes de null/NaN: 600657\n",
      "__________________\n",
      "(600657,)\n",
      "None\n"
     ]
    }
   ],
   "source": [
    "c = 'PUNT_C_NATURALES'\n",
    "print(data_2016_2[c].value_counts().sort_index().index)\n",
    "print(data_2016_2[c].value_counts().sort_index())\n",
    "print(missing_data(data_2016_2[c]))"
   ]
  },
  {
   "cell_type": "code",
   "execution_count": 401,
   "metadata": {
    "collapsed": false,
    "scrolled": true
   },
   "outputs": [
    {
     "name": "stdout",
     "output_type": "stream",
     "text": [
      "Float64Index([  1.0,   2.0,   3.0,   4.0,   5.0,   6.0,   7.0,   8.0,   9.0,\n",
      "               10.0,  11.0,  12.0,  13.0,  14.0,  15.0,  16.0,  17.0,  18.0,\n",
      "               19.0,  20.0,  21.0,  22.0,  23.0,  24.0,  25.0,  26.0,  27.0,\n",
      "               28.0,  29.0,  30.0,  31.0,  32.0,  33.0,  34.0,  35.0,  36.0,\n",
      "               37.0,  38.0,  39.0,  40.0,  41.0,  42.0,  43.0,  44.0,  45.0,\n",
      "               46.0,  47.0,  48.0,  49.0,  50.0,  51.0,  52.0,  53.0,  54.0,\n",
      "               55.0,  56.0,  57.0,  58.0,  59.0,  60.0,  61.0,  62.0,  63.0,\n",
      "               64.0,  65.0,  66.0,  67.0,  68.0,  69.0,  70.0,  71.0,  72.0,\n",
      "               73.0,  74.0,  75.0,  76.0,  77.0,  78.0,  79.0,  80.0,  81.0,\n",
      "               82.0,  83.0,  84.0,  85.0,  86.0,  87.0,  88.0,  89.0,  90.0,\n",
      "               91.0,  92.0,  93.0,  94.0,  95.0,  96.0,  97.0,  98.0,  99.0,\n",
      "              100.0],\n",
      "             dtype='float64')\n",
      "1      21082\n",
      "2       6192\n",
      "3       6102\n",
      "4       6103\n",
      "5       6109\n",
      "6       6055\n",
      "7       6003\n",
      "8       6020\n",
      "9       5977\n",
      "10      5949\n",
      "11      5987\n",
      "12      5978\n",
      "13      5972\n",
      "14      5962\n",
      "15      5932\n",
      "16      5906\n",
      "17      5938\n",
      "18      5920\n",
      "19      5880\n",
      "20      5870\n",
      "21      5846\n",
      "22      5834\n",
      "23      5934\n",
      "24      5894\n",
      "25      5869\n",
      "26      5902\n",
      "27      5859\n",
      "28      5887\n",
      "29      5825\n",
      "30      5872\n",
      "       ...  \n",
      "71      5737\n",
      "72      5808\n",
      "73      5799\n",
      "74      5763\n",
      "75      5787\n",
      "76      5790\n",
      "77      5780\n",
      "78      5809\n",
      "79      5794\n",
      "80      5836\n",
      "81      5821\n",
      "82      5805\n",
      "83      5782\n",
      "84      5826\n",
      "85      5832\n",
      "86      5846\n",
      "87      5837\n",
      "88      5823\n",
      "89      5810\n",
      "90      5842\n",
      "91      5859\n",
      "92      5844\n",
      "93      5847\n",
      "94      5862\n",
      "95      5874\n",
      "96      5907\n",
      "97      5899\n",
      "98      5965\n",
      "99      6012\n",
      "100     6198\n",
      "Name: PERCENTIL_C_NATURALES, dtype: int64\n",
      "Elementos null/NaN 0\n",
      "__________________\n",
      "Elementos diferentes de null/NaN: 600657\n",
      "__________________\n",
      "(600657,)\n",
      "None\n"
     ]
    }
   ],
   "source": [
    "c = 'PERCENTIL_C_NATURALES'\n",
    "print(data_2016_2[c].value_counts().sort_index().index)\n",
    "print(data_2016_2[c].value_counts().sort_index())\n",
    "print(missing_data(data_2016_2[c]))"
   ]
  },
  {
   "cell_type": "code",
   "execution_count": 402,
   "metadata": {
    "collapsed": false
   },
   "outputs": [
    {
     "name": "stdout",
     "output_type": "stream",
     "text": [
      "Float64Index([1.0, 2.0, 3.0, 4.0], dtype='float64')\n",
      "1     88562\n",
      "2    296195\n",
      "3    200714\n",
      "4     15186\n",
      "Name: DESEMP_C_NATURALES, dtype: int64\n",
      "Elementos null/NaN 0\n",
      "__________________\n",
      "Elementos diferentes de null/NaN: 600657\n",
      "__________________\n",
      "(600657,)\n",
      "None\n"
     ]
    }
   ],
   "source": [
    "c = 'DESEMP_C_NATURALES'\n",
    "print(data_2016_2[c].value_counts().sort_index().index)\n",
    "print(data_2016_2[c].value_counts().sort_index())\n",
    "print(missing_data(data_2016_2[c]))"
   ]
  },
  {
   "cell_type": "code",
   "execution_count": 403,
   "metadata": {
    "collapsed": false,
    "scrolled": true
   },
   "outputs": [
    {
     "name": "stdout",
     "output_type": "stream",
     "text": [
      "Float64Index([  0.0,  21.0,  22.0,  23.0,  24.0,  25.0,  26.0,  27.0,  28.0,\n",
      "               29.0,  30.0,  31.0,  32.0,  33.0,  34.0,  35.0,  36.0,  37.0,\n",
      "               38.0,  39.0,  40.0,  41.0,  42.0,  43.0,  44.0,  45.0,  46.0,\n",
      "               47.0,  48.0,  49.0,  50.0,  51.0,  52.0,  53.0,  54.0,  55.0,\n",
      "               56.0,  57.0,  58.0,  59.0,  60.0,  61.0,  62.0,  63.0,  64.0,\n",
      "               65.0,  66.0,  67.0,  68.0,  69.0,  70.0,  71.0,  72.0,  73.0,\n",
      "               74.0,  75.0,  76.0,  77.0,  78.0,  79.0,  80.0,  81.0,  82.0,\n",
      "               83.0,  84.0,  85.0, 100.0],\n",
      "             dtype='float64')\n",
      "0      14827\n",
      "21         1\n",
      "22        69\n",
      "23       229\n",
      "24       440\n",
      "25       642\n",
      "26       963\n",
      "27      1465\n",
      "28      2097\n",
      "29      2843\n",
      "30      3586\n",
      "31      4871\n",
      "32      5907\n",
      "33      7175\n",
      "34      8418\n",
      "35      9827\n",
      "36     10985\n",
      "37     12232\n",
      "38     13281\n",
      "39     14160\n",
      "40     15048\n",
      "41     15716\n",
      "42     15941\n",
      "43     16447\n",
      "44     17347\n",
      "45     17534\n",
      "46     17969\n",
      "47     18574\n",
      "48     18897\n",
      "49     19117\n",
      "       ...  \n",
      "57     17742\n",
      "58     16937\n",
      "59     16051\n",
      "60     14960\n",
      "61     14232\n",
      "62     13002\n",
      "63     12333\n",
      "64     10766\n",
      "65      9848\n",
      "66      8663\n",
      "67      7842\n",
      "68      6785\n",
      "69      5813\n",
      "70      4987\n",
      "71      4189\n",
      "72      3488\n",
      "73      2788\n",
      "74      2230\n",
      "75      1764\n",
      "76      1392\n",
      "77      1060\n",
      "78       761\n",
      "79       573\n",
      "80       361\n",
      "81       275\n",
      "82       165\n",
      "83       119\n",
      "84        28\n",
      "85        14\n",
      "100       27\n",
      "Name: PUNT_SOCIALES_CIUDADANAS, dtype: int64\n",
      "Elementos null/NaN 0\n",
      "__________________\n",
      "Elementos diferentes de null/NaN: 600657\n",
      "__________________\n",
      "(600657,)\n",
      "None\n"
     ]
    }
   ],
   "source": [
    "c = 'PUNT_SOCIALES_CIUDADANAS'\n",
    "print(data_2016_2[c].value_counts().sort_index().index)\n",
    "print(data_2016_2[c].value_counts().sort_index())\n",
    "print(missing_data(data_2016_2[c]))"
   ]
  },
  {
   "cell_type": "code",
   "execution_count": 404,
   "metadata": {
    "collapsed": false,
    "scrolled": true
   },
   "outputs": [
    {
     "name": "stdout",
     "output_type": "stream",
     "text": [
      "Float64Index([  1.0,   2.0,   3.0,   4.0,   5.0,   6.0,   7.0,   8.0,   9.0,\n",
      "               10.0,  11.0,  12.0,  13.0,  14.0,  15.0,  16.0,  17.0,  18.0,\n",
      "               19.0,  20.0,  21.0,  22.0,  23.0,  24.0,  25.0,  26.0,  27.0,\n",
      "               28.0,  29.0,  30.0,  31.0,  32.0,  33.0,  34.0,  35.0,  36.0,\n",
      "               37.0,  38.0,  39.0,  40.0,  41.0,  42.0,  43.0,  44.0,  45.0,\n",
      "               46.0,  47.0,  48.0,  49.0,  50.0,  51.0,  52.0,  53.0,  54.0,\n",
      "               55.0,  56.0,  57.0,  58.0,  59.0,  60.0,  61.0,  62.0,  63.0,\n",
      "               64.0,  65.0,  66.0,  67.0,  68.0,  69.0,  70.0,  71.0,  72.0,\n",
      "               73.0,  74.0,  75.0,  76.0,  77.0,  78.0,  79.0,  80.0,  81.0,\n",
      "               82.0,  83.0,  84.0,  85.0,  86.0,  87.0,  88.0,  89.0,  90.0,\n",
      "               91.0,  92.0,  93.0,  94.0,  95.0,  96.0,  97.0,  98.0,  99.0,\n",
      "              100.0],\n",
      "             dtype='float64')\n",
      "1      20967\n",
      "2       6029\n",
      "3       5976\n",
      "4       5972\n",
      "5       5935\n",
      "6       5914\n",
      "7       5910\n",
      "8       5883\n",
      "9       5937\n",
      "10      5885\n",
      "11      5885\n",
      "12      5873\n",
      "13      5921\n",
      "14      5895\n",
      "15      5861\n",
      "16      5887\n",
      "17      5837\n",
      "18      5914\n",
      "19      5881\n",
      "20      5874\n",
      "21      5828\n",
      "22      5843\n",
      "23      5807\n",
      "24      5864\n",
      "25      5861\n",
      "26      5856\n",
      "27      5835\n",
      "28      5816\n",
      "29      5863\n",
      "30      5823\n",
      "       ...  \n",
      "71      5831\n",
      "72      5822\n",
      "73      5853\n",
      "74      5835\n",
      "75      5859\n",
      "76      5833\n",
      "77      5847\n",
      "78      5814\n",
      "79      5820\n",
      "80      5843\n",
      "81      5863\n",
      "82      5875\n",
      "83      5839\n",
      "84      5861\n",
      "85      5851\n",
      "86      5890\n",
      "87      5835\n",
      "88      5868\n",
      "89      5875\n",
      "90      5905\n",
      "91      5895\n",
      "92      5903\n",
      "93      5867\n",
      "94      5950\n",
      "95      5916\n",
      "96      5942\n",
      "97      5943\n",
      "98      5959\n",
      "99      5949\n",
      "100     5991\n",
      "Name: PERCENTIL_SOCIALES_CIUDADANAS, dtype: int64\n",
      "Elementos null/NaN 0\n",
      "__________________\n",
      "Elementos diferentes de null/NaN: 600657\n",
      "__________________\n",
      "(600657,)\n",
      "None\n"
     ]
    }
   ],
   "source": [
    "c = 'PERCENTIL_SOCIALES_CIUDADANAS'\n",
    "print(data_2016_2[c].value_counts().sort_index().index)\n",
    "print(data_2016_2[c].value_counts().sort_index())\n",
    "print(missing_data(data_2016_2[c]))"
   ]
  },
  {
   "cell_type": "code",
   "execution_count": 405,
   "metadata": {
    "collapsed": false
   },
   "outputs": [
    {
     "name": "stdout",
     "output_type": "stream",
     "text": [
      "Float64Index([1.0, 2.0, 3.0, 4.0], dtype='float64')\n",
      "1    136826\n",
      "2    275622\n",
      "3    171119\n",
      "4     17090\n",
      "Name: DESEMP_SOCIALES_CIUDADANAS, dtype: int64\n",
      "Elementos null/NaN 0\n",
      "__________________\n",
      "Elementos diferentes de null/NaN: 600657\n",
      "__________________\n",
      "(600657,)\n",
      "None\n"
     ]
    }
   ],
   "source": [
    "c = 'DESEMP_SOCIALES_CIUDADANAS'\n",
    "print(data_2016_2[c].value_counts().sort_index().index)\n",
    "print(data_2016_2[c].value_counts().sort_index())\n",
    "print(missing_data(data_2016_2[c]))"
   ]
  },
  {
   "cell_type": "code",
   "execution_count": 406,
   "metadata": {
    "collapsed": false,
    "scrolled": true
   },
   "outputs": [
    {
     "name": "stdout",
     "output_type": "stream",
     "text": [
      "Float64Index([  0.0,  30.0,  31.0,  32.0,  33.0,  34.0,  35.0,  36.0,  37.0,\n",
      "               38.0,  39.0,  40.0,  41.0,  42.0,  43.0,  44.0,  45.0,  46.0,\n",
      "               47.0,  48.0,  49.0,  50.0,  51.0,  52.0,  53.0,  54.0,  55.0,\n",
      "               56.0,  57.0,  58.0,  59.0,  60.0,  61.0,  62.0,  63.0,  64.0,\n",
      "               65.0,  66.0,  67.0,  68.0,  69.0,  70.0,  71.0,  72.0,  73.0,\n",
      "               74.0,  75.0,  76.0,  77.0,  78.0,  79.0,  80.0,  81.0,  82.0,\n",
      "               83.0,  84.0,  85.0,  86.0,  87.0,  88.0, 100.0],\n",
      "             dtype='float64')\n",
      "0      15471\n",
      "30       164\n",
      "31      2764\n",
      "32      5725\n",
      "33      8961\n",
      "34     10714\n",
      "35     10131\n",
      "36      9947\n",
      "37      9147\n",
      "38     10007\n",
      "39     10829\n",
      "40     13279\n",
      "41     15738\n",
      "42     17527\n",
      "43     19801\n",
      "44     21033\n",
      "45     21185\n",
      "46     21549\n",
      "47     21136\n",
      "48     20418\n",
      "49     19861\n",
      "50     19560\n",
      "51     18874\n",
      "52     18675\n",
      "53     18670\n",
      "54     18091\n",
      "55     17732\n",
      "56     17354\n",
      "57     16595\n",
      "58     15542\n",
      "       ...  \n",
      "60     12726\n",
      "61     11632\n",
      "62     10363\n",
      "63      9112\n",
      "64      8299\n",
      "65      7701\n",
      "66      7830\n",
      "67      7707\n",
      "68      6595\n",
      "69      5834\n",
      "70      6322\n",
      "71      6919\n",
      "72      4727\n",
      "73      4018\n",
      "74      4737\n",
      "75      4845\n",
      "76      3454\n",
      "77      2949\n",
      "78      2779\n",
      "79      2393\n",
      "80      2048\n",
      "81      1793\n",
      "82      1299\n",
      "83      1598\n",
      "84       427\n",
      "85       106\n",
      "86        27\n",
      "87        97\n",
      "88        32\n",
      "100     1812\n",
      "Name: PUNT_INGLES, dtype: int64\n",
      "Elementos null/NaN 0\n",
      "__________________\n",
      "Elementos diferentes de null/NaN: 600657\n",
      "__________________\n",
      "(600657,)\n",
      "None\n"
     ]
    }
   ],
   "source": [
    "c = 'PUNT_INGLES'\n",
    "print(data_2016_2[c].value_counts().sort_index().index)\n",
    "print(data_2016_2[c].value_counts().sort_index())\n",
    "print(missing_data(data_2016_2[c]))"
   ]
  },
  {
   "cell_type": "code",
   "execution_count": 407,
   "metadata": {
    "collapsed": false,
    "scrolled": true
   },
   "outputs": [
    {
     "name": "stdout",
     "output_type": "stream",
     "text": [
      "Float64Index([  1.0,   2.0,   3.0,   4.0,   5.0,   6.0,   7.0,   8.0,   9.0,\n",
      "               10.0,  11.0,  12.0,  13.0,  14.0,  15.0,  16.0,  17.0,  18.0,\n",
      "               19.0,  20.0,  21.0,  22.0,  23.0,  24.0,  25.0,  26.0,  27.0,\n",
      "               28.0,  29.0,  30.0,  31.0,  32.0,  33.0,  34.0,  35.0,  36.0,\n",
      "               37.0,  38.0,  39.0,  40.0,  41.0,  42.0,  43.0,  44.0,  45.0,\n",
      "               46.0,  47.0,  48.0,  49.0,  50.0,  51.0,  52.0,  53.0,  54.0,\n",
      "               55.0,  56.0,  57.0,  58.0,  59.0,  60.0,  61.0,  62.0,  63.0,\n",
      "               64.0,  65.0,  66.0,  67.0,  68.0,  69.0,  70.0,  71.0,  72.0,\n",
      "               73.0,  74.0,  75.0,  76.0,  77.0,  78.0,  79.0,  80.0,  81.0,\n",
      "               82.0,  83.0,  84.0,  85.0,  86.0,  87.0,  88.0,  89.0,  90.0,\n",
      "               91.0,  92.0,  93.0,  94.0,  95.0,  96.0,  97.0,  98.0,  99.0,\n",
      "              100.0],\n",
      "             dtype='float64')\n",
      "1      21674\n",
      "2       5890\n",
      "3       5952\n",
      "4       5905\n",
      "5       5885\n",
      "6       5938\n",
      "7       5949\n",
      "8       5929\n",
      "9       5966\n",
      "10      5984\n",
      "11      5979\n",
      "12      5948\n",
      "13      6000\n",
      "14      5924\n",
      "15      5896\n",
      "16      5897\n",
      "17      5920\n",
      "18      5891\n",
      "19      5919\n",
      "20      5896\n",
      "21      5887\n",
      "22      5925\n",
      "23      5885\n",
      "24      5844\n",
      "25      5910\n",
      "26      5871\n",
      "27      5883\n",
      "28      5876\n",
      "29      5841\n",
      "30      5841\n",
      "       ...  \n",
      "71      5727\n",
      "72      5741\n",
      "73      5708\n",
      "74      5720\n",
      "75      5710\n",
      "76      5693\n",
      "77      5694\n",
      "78      5716\n",
      "79      5743\n",
      "80      5697\n",
      "81      5730\n",
      "82      5751\n",
      "83      5793\n",
      "84      5827\n",
      "85      5810\n",
      "86      5798\n",
      "87      5903\n",
      "88      5909\n",
      "89      5899\n",
      "90      5920\n",
      "91      5919\n",
      "92      5884\n",
      "93      5811\n",
      "94      5850\n",
      "95      5883\n",
      "96      5840\n",
      "97      5824\n",
      "98      5940\n",
      "99      5875\n",
      "100     5935\n",
      "Name: PERCENTIL_INGLES, dtype: int64\n",
      "Elementos null/NaN 0\n",
      "__________________\n",
      "Elementos diferentes de null/NaN: 600657\n",
      "__________________\n",
      "(600657,)\n",
      "None\n"
     ]
    }
   ],
   "source": [
    "c = 'PERCENTIL_INGLES'\n",
    "print(data_2016_2[c].value_counts().sort_index().index)\n",
    "print(data_2016_2[c].value_counts().sort_index())\n",
    "print(missing_data(data_2016_2[c]))"
   ]
  },
  {
   "cell_type": "code",
   "execution_count": 408,
   "metadata": {
    "collapsed": false
   },
   "outputs": [
    {
     "name": "stdout",
     "output_type": "stream",
     "text": [
      "Index(['A-', 'A1', 'A2', 'B+', 'B1'], dtype='object')\n",
      "A-    255281\n",
      "A1    183685\n",
      "A2    100392\n",
      "B+     10501\n",
      "B1     50798\n",
      "Name: DESEMP_INGLES, dtype: int64\n",
      "Elementos null/NaN 0\n",
      "__________________\n",
      "Elementos diferentes de null/NaN: 600657\n",
      "__________________\n",
      "(600657,)\n",
      "None\n"
     ]
    }
   ],
   "source": [
    "c = 'DESEMP_INGLES'\n",
    "print(data_2016_2[c].value_counts().sort_index().index)\n",
    "print(data_2016_2[c].value_counts().sort_index())\n",
    "print(missing_data(data_2016_2[c]))"
   ]
  },
  {
   "cell_type": "code",
   "execution_count": 409,
   "metadata": {
    "collapsed": false,
    "scrolled": true
   },
   "outputs": [
    {
     "name": "stdout",
     "output_type": "stream",
     "text": [
      "Float64Index([  0.0,  12.0,  13.0,  23.0,  24.0,  25.0,  26.0,  27.0,  28.0,\n",
      "               29.0,\n",
      "              ...\n",
      "              448.0, 449.0, 450.0, 452.0, 453.0, 454.0, 455.0, 456.0, 458.0,\n",
      "              468.0],\n",
      "             dtype='float64', length=420)\n",
      "0      14662\n",
      "12         3\n",
      "13         2\n",
      "23         1\n",
      "24         9\n",
      "25         2\n",
      "26         8\n",
      "27         4\n",
      "28         6\n",
      "29        19\n",
      "30         3\n",
      "31         5\n",
      "32        27\n",
      "33         4\n",
      "34         3\n",
      "35         1\n",
      "36         1\n",
      "37         2\n",
      "38         2\n",
      "39         1\n",
      "40         2\n",
      "41         1\n",
      "43         1\n",
      "46         1\n",
      "47         1\n",
      "48         1\n",
      "49         1\n",
      "52         1\n",
      "56         3\n",
      "57         4\n",
      "       ...  \n",
      "425       10\n",
      "426        8\n",
      "427        5\n",
      "428        3\n",
      "429        5\n",
      "430        5\n",
      "431        5\n",
      "432        3\n",
      "433        5\n",
      "434        1\n",
      "435        2\n",
      "436        3\n",
      "437        4\n",
      "438        4\n",
      "439        3\n",
      "440        4\n",
      "441        2\n",
      "443        1\n",
      "444        2\n",
      "446        1\n",
      "448        3\n",
      "449        2\n",
      "450        3\n",
      "452        2\n",
      "453        3\n",
      "454        2\n",
      "455        2\n",
      "456        1\n",
      "458        1\n",
      "468        1\n",
      "Name: PUNT_GLOBAL, dtype: int64\n",
      "Elementos null/NaN 0\n",
      "__________________\n",
      "Elementos diferentes de null/NaN: 600657\n",
      "__________________\n",
      "(600657,)\n",
      "None\n"
     ]
    }
   ],
   "source": [
    "c = 'PUNT_GLOBAL'\n",
    "print(data_2016_2[c].value_counts().sort_index().index)\n",
    "print(data_2016_2[c].value_counts().sort_index())\n",
    "print(missing_data(data_2016_2[c]))"
   ]
  },
  {
   "cell_type": "code",
   "execution_count": 410,
   "metadata": {
    "collapsed": false,
    "scrolled": true
   },
   "outputs": [
    {
     "name": "stdout",
     "output_type": "stream",
     "text": [
      "Float64Index([  1.0,   2.0,   3.0,   4.0,   5.0,   6.0,   7.0,   8.0,   9.0,\n",
      "               10.0,  11.0,  12.0,  13.0,  14.0,  15.0,  16.0,  17.0,  18.0,\n",
      "               19.0,  20.0,  21.0,  22.0,  23.0,  24.0,  25.0,  26.0,  27.0,\n",
      "               28.0,  29.0,  30.0,  31.0,  32.0,  33.0,  34.0,  35.0,  36.0,\n",
      "               37.0,  38.0,  39.0,  40.0,  41.0,  42.0,  43.0,  44.0,  45.0,\n",
      "               46.0,  47.0,  48.0,  49.0,  50.0,  51.0,  52.0,  53.0,  54.0,\n",
      "               55.0,  56.0,  57.0,  58.0,  59.0,  60.0,  61.0,  62.0,  63.0,\n",
      "               64.0,  65.0,  66.0,  67.0,  68.0,  69.0,  70.0,  71.0,  72.0,\n",
      "               73.0,  74.0,  75.0,  76.0,  77.0,  78.0,  79.0,  80.0,  81.0,\n",
      "               82.0,  83.0,  84.0,  85.0,  86.0,  87.0,  88.0,  89.0,  90.0,\n",
      "               91.0,  92.0,  93.0,  94.0,  95.0,  96.0,  97.0,  98.0,  99.0,\n",
      "              100.0],\n",
      "             dtype='float64')\n",
      "1      21321\n",
      "2       5730\n",
      "3       5798\n",
      "4       5794\n",
      "5       5768\n",
      "6       5785\n",
      "7       5802\n",
      "8       5844\n",
      "9       5803\n",
      "10      5822\n",
      "11      5837\n",
      "12      5810\n",
      "13      5807\n",
      "14      5820\n",
      "15      5822\n",
      "16      5832\n",
      "17      5811\n",
      "18      5834\n",
      "19      5781\n",
      "20      5857\n",
      "21      5806\n",
      "22      5841\n",
      "23      5824\n",
      "24      5829\n",
      "25      5836\n",
      "26      5834\n",
      "27      5816\n",
      "28      5814\n",
      "29      5814\n",
      "30      5838\n",
      "       ...  \n",
      "71      5815\n",
      "72      5846\n",
      "73      5828\n",
      "74      5882\n",
      "75      5860\n",
      "76      5859\n",
      "77      5852\n",
      "78      5858\n",
      "79      5893\n",
      "80      5875\n",
      "81      5871\n",
      "82      5846\n",
      "83      5862\n",
      "84      5894\n",
      "85      5898\n",
      "86      5902\n",
      "87      5911\n",
      "88      5916\n",
      "89      5929\n",
      "90      5960\n",
      "91      5974\n",
      "92      5952\n",
      "93      5952\n",
      "94      5938\n",
      "95      5980\n",
      "96      6002\n",
      "97      6065\n",
      "98      6024\n",
      "99      6004\n",
      "100     6230\n",
      "Name: PERCENTIL_GLOBAL, dtype: int64\n",
      "Elementos null/NaN 0\n",
      "__________________\n",
      "Elementos diferentes de null/NaN: 600657\n",
      "__________________\n",
      "(600657,)\n",
      "None\n"
     ]
    }
   ],
   "source": [
    "c = 'PERCENTIL_GLOBAL'\n",
    "print(data_2016_2[c].value_counts().sort_index().index)\n",
    "print(data_2016_2[c].value_counts().sort_index())\n",
    "print(missing_data(data_2016_2[c]))"
   ]
  },
  {
   "cell_type": "markdown",
   "metadata": {},
   "source": [
    "Here i encode the data and transform it into csv files"
   ]
  },
  {
   "cell_type": "code",
   "execution_count": 416,
   "metadata": {
    "collapsed": true
   },
   "outputs": [],
   "source": [
    "data_2016 = label_encoder(data_2016)\n",
    "data_2016_1_V2 = label_encoder(data_2016_1_V2)\n",
    "data_2016_2 = label_encoder(data_2016_2)"
   ]
  },
  {
   "cell_type": "code",
   "execution_count": 417,
   "metadata": {
    "collapsed": true
   },
   "outputs": [],
   "source": [
    "data_2016.to_csv('../DatosFTPICFES/SABER11/SB11-BASES_DE_DATOS/READY/2016_1.csv', sep=';', index=False)\n",
    "data_2016_1_V2.to_csv('../DatosFTPICFES/SABER11/SB11-BASES_DE_DATOS/READY/2016_1_V2.csv', sep=';', index=False)\n",
    "data_2016_2.to_csv('../DatosFTPICFES/SABER11/SB11-BASES_DE_DATOS/READY/2016_2.csv', sep=';', index=False)"
   ]
  }
 ],
 "metadata": {
  "kernelspec": {
   "display_name": "Python 3",
   "language": "python",
   "name": "python3"
  },
  "language_info": {
   "codemirror_mode": {
    "name": "ipython",
    "version": 3
   },
   "file_extension": ".py",
   "mimetype": "text/x-python",
   "name": "python",
   "nbconvert_exporter": "python",
   "pygments_lexer": "ipython3",
   "version": "3.4.2"
  }
 },
 "nbformat": 4,
 "nbformat_minor": 0
}
