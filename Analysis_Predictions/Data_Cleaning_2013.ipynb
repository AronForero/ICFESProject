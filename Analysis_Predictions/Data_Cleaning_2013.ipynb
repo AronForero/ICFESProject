{
 "cells": [
  {
   "cell_type": "code",
   "execution_count": 314,
   "metadata": {
    "collapsed": true
   },
   "outputs": [],
   "source": [
    "import pandas as pd\n",
    "import numpy as np\n",
    "%run -i ../tools/functions.py\n",
    "%run -i ../tools/label_encoder.py"
   ]
  },
  {
   "cell_type": "code",
   "execution_count": 315,
   "metadata": {
    "collapsed": false
   },
   "outputs": [
    {
     "name": "stderr",
     "output_type": "stream",
     "text": [
      "/usr/local/lib/python3.4/dist-packages/IPython/core/interactiveshell.py:2902: DtypeWarning: Columns (11,12,13,15,16,24,25,26,27,29,30) have mixed types. Specify dtype option on import or set low_memory=False.\n",
      "  interactivity=interactivity, compiler=compiler, result=result)\n"
     ]
    }
   ],
   "source": [
    "data_2013 = pd.read_csv('../DatosFTPICFES/SABER11/SB11-BASES_DE_DATOS/SB11-20131-RGSTRO-CLFCCN-V1-0.txt', delimiter='|')"
   ]
  },
  {
   "cell_type": "code",
   "execution_count": 316,
   "metadata": {
    "collapsed": false
   },
   "outputs": [
    {
     "data": {
      "text/plain": [
       "(86470, 113)"
      ]
     },
     "execution_count": 316,
     "metadata": {},
     "output_type": "execute_result"
    }
   ],
   "source": [
    "data_2013.shape"
   ]
  },
  {
   "cell_type": "code",
   "execution_count": 317,
   "metadata": {
    "collapsed": false,
    "scrolled": true
   },
   "outputs": [
    {
     "data": {
      "text/html": [
       "<div>\n",
       "<table border=\"1\" class=\"dataframe\">\n",
       "  <thead>\n",
       "    <tr style=\"text-align: right;\">\n",
       "      <th></th>\n",
       "      <th>0</th>\n",
       "      <th>1</th>\n",
       "      <th>2</th>\n",
       "    </tr>\n",
       "  </thead>\n",
       "  <tbody>\n",
       "    <tr>\n",
       "      <th>PERIODO</th>\n",
       "      <td>20131</td>\n",
       "      <td>20131</td>\n",
       "      <td>20131</td>\n",
       "    </tr>\n",
       "    <tr>\n",
       "      <th>ESTU_CONSECUTIVO</th>\n",
       "      <td>SABER1120131000001</td>\n",
       "      <td>SABER1120131000002</td>\n",
       "      <td>SABER1120131000003</td>\n",
       "    </tr>\n",
       "    <tr>\n",
       "      <th>ESTU_EDAD</th>\n",
       "      <td>27</td>\n",
       "      <td>27</td>\n",
       "      <td>23</td>\n",
       "    </tr>\n",
       "    <tr>\n",
       "      <th>ESTU_TIPO_DOCUMENTO</th>\n",
       "      <td>C</td>\n",
       "      <td>C</td>\n",
       "      <td>C</td>\n",
       "    </tr>\n",
       "    <tr>\n",
       "      <th>ESTU_PAIS_RESIDE</th>\n",
       "      <td>CO</td>\n",
       "      <td>CO</td>\n",
       "      <td>CO</td>\n",
       "    </tr>\n",
       "    <tr>\n",
       "      <th>ESTU_GENERO</th>\n",
       "      <td>F</td>\n",
       "      <td>F</td>\n",
       "      <td>F</td>\n",
       "    </tr>\n",
       "    <tr>\n",
       "      <th>ESTU_NACIMIENTO_DIA</th>\n",
       "      <td>13</td>\n",
       "      <td>1</td>\n",
       "      <td>23</td>\n",
       "    </tr>\n",
       "    <tr>\n",
       "      <th>ESTU_NACIMIENTO_MES</th>\n",
       "      <td>7</td>\n",
       "      <td>5</td>\n",
       "      <td>1</td>\n",
       "    </tr>\n",
       "    <tr>\n",
       "      <th>ESTU_NACIMIENTO_ANNO</th>\n",
       "      <td>1985</td>\n",
       "      <td>1985</td>\n",
       "      <td>1990</td>\n",
       "    </tr>\n",
       "    <tr>\n",
       "      <th>ESTU_ETNIA</th>\n",
       "      <td>NaN</td>\n",
       "      <td>1</td>\n",
       "      <td>NaN</td>\n",
       "    </tr>\n",
       "    <tr>\n",
       "      <th>ESTU_LIMITA_BAJAVISION</th>\n",
       "      <td>NaN</td>\n",
       "      <td>NaN</td>\n",
       "      <td>NaN</td>\n",
       "    </tr>\n",
       "    <tr>\n",
       "      <th>ESTU_LIMITA_SORDOCEGUERA</th>\n",
       "      <td>NaN</td>\n",
       "      <td>NaN</td>\n",
       "      <td>NaN</td>\n",
       "    </tr>\n",
       "    <tr>\n",
       "      <th>ESTU_LIMITA_COGNITIVA</th>\n",
       "      <td>NaN</td>\n",
       "      <td>NaN</td>\n",
       "      <td>NaN</td>\n",
       "    </tr>\n",
       "    <tr>\n",
       "      <th>ESTU_LIMITA_INVIDENTE</th>\n",
       "      <td>NaN</td>\n",
       "      <td>NaN</td>\n",
       "      <td>NaN</td>\n",
       "    </tr>\n",
       "    <tr>\n",
       "      <th>ESTU_LIMITA_MOTRIZ</th>\n",
       "      <td>NaN</td>\n",
       "      <td>NaN</td>\n",
       "      <td>NaN</td>\n",
       "    </tr>\n",
       "    <tr>\n",
       "      <th>ESTU_LIMITA_SORDOINTERPRETE</th>\n",
       "      <td>NaN</td>\n",
       "      <td>NaN</td>\n",
       "      <td>NaN</td>\n",
       "    </tr>\n",
       "    <tr>\n",
       "      <th>ESTU_LIMITA_SORDONOINTERPRETE</th>\n",
       "      <td>NaN</td>\n",
       "      <td>NaN</td>\n",
       "      <td>NaN</td>\n",
       "    </tr>\n",
       "    <tr>\n",
       "      <th>ESTU_COD_RESIDE_MCPIO</th>\n",
       "      <td>5837</td>\n",
       "      <td>5001</td>\n",
       "      <td>5837</td>\n",
       "    </tr>\n",
       "    <tr>\n",
       "      <th>ESTU_RESIDE_MCPIO</th>\n",
       "      <td>TURBO</td>\n",
       "      <td>MEDELLIN</td>\n",
       "      <td>TURBO</td>\n",
       "    </tr>\n",
       "    <tr>\n",
       "      <th>ESTU_RESIDE_DEPTO</th>\n",
       "      <td>ANTIOQUIA</td>\n",
       "      <td>ANTIOQUIA</td>\n",
       "      <td>ANTIOQUIA</td>\n",
       "    </tr>\n",
       "    <tr>\n",
       "      <th>ESTU_ZONA_RESIDE</th>\n",
       "      <td>10</td>\n",
       "      <td>4</td>\n",
       "      <td>10</td>\n",
       "    </tr>\n",
       "    <tr>\n",
       "      <th>ESTU_AREA_RESIDE</th>\n",
       "      <td>NaN</td>\n",
       "      <td>NaN</td>\n",
       "      <td>NaN</td>\n",
       "    </tr>\n",
       "    <tr>\n",
       "      <th>COLE_COD_ICFES</th>\n",
       "      <td>131219</td>\n",
       "      <td>131219</td>\n",
       "      <td>131219</td>\n",
       "    </tr>\n",
       "    <tr>\n",
       "      <th>COLE_COD_DANE_INSTITUCION</th>\n",
       "      <td>3.05837e+11</td>\n",
       "      <td>3.05837e+11</td>\n",
       "      <td>3.05837e+11</td>\n",
       "    </tr>\n",
       "    <tr>\n",
       "      <th>COLE_NOMBRE_SEDE</th>\n",
       "      <td>INSTITUTO CORFERRINI</td>\n",
       "      <td>INSTITUTO CORFERRINI</td>\n",
       "      <td>INSTITUTO CORFERRINI</td>\n",
       "    </tr>\n",
       "    <tr>\n",
       "      <th>COLE_CALENDARIO</th>\n",
       "      <td>F</td>\n",
       "      <td>F</td>\n",
       "      <td>F</td>\n",
       "    </tr>\n",
       "    <tr>\n",
       "      <th>COLE_GENERO</th>\n",
       "      <td>X</td>\n",
       "      <td>X</td>\n",
       "      <td>X</td>\n",
       "    </tr>\n",
       "    <tr>\n",
       "      <th>COLE_NATURALEZA</th>\n",
       "      <td>N</td>\n",
       "      <td>N</td>\n",
       "      <td>N</td>\n",
       "    </tr>\n",
       "    <tr>\n",
       "      <th>COLE_BILINGUE</th>\n",
       "      <td>NaN</td>\n",
       "      <td>NaN</td>\n",
       "      <td>NaN</td>\n",
       "    </tr>\n",
       "    <tr>\n",
       "      <th>COLE_JORNADA</th>\n",
       "      <td>SABATINA - DOMINICAL</td>\n",
       "      <td>SABATINA - DOMINICAL</td>\n",
       "      <td>SABATINA - DOMINICAL</td>\n",
       "    </tr>\n",
       "    <tr>\n",
       "      <th>...</th>\n",
       "      <td>...</td>\n",
       "      <td>...</td>\n",
       "      <td>...</td>\n",
       "    </tr>\n",
       "    <tr>\n",
       "      <th>FAMI_NIVEL_SISBEN</th>\n",
       "      <td>1</td>\n",
       "      <td>1</td>\n",
       "      <td>1</td>\n",
       "    </tr>\n",
       "    <tr>\n",
       "      <th>FAMI_PISOSHOGAR</th>\n",
       "      <td>2</td>\n",
       "      <td>2</td>\n",
       "      <td>2</td>\n",
       "    </tr>\n",
       "    <tr>\n",
       "      <th>FAMI_PERSONAS_HOGAR</th>\n",
       "      <td>5</td>\n",
       "      <td>6</td>\n",
       "      <td>8</td>\n",
       "    </tr>\n",
       "    <tr>\n",
       "      <th>FAMI_TELEFONO_FIJO</th>\n",
       "      <td>1</td>\n",
       "      <td>1</td>\n",
       "      <td>0</td>\n",
       "    </tr>\n",
       "    <tr>\n",
       "      <th>FAMI_CELULAR</th>\n",
       "      <td>1</td>\n",
       "      <td>1</td>\n",
       "      <td>1</td>\n",
       "    </tr>\n",
       "    <tr>\n",
       "      <th>FAMI_INTERNET</th>\n",
       "      <td>0</td>\n",
       "      <td>1</td>\n",
       "      <td>1</td>\n",
       "    </tr>\n",
       "    <tr>\n",
       "      <th>FAMI_SERVICIO_TELEVISION</th>\n",
       "      <td>1</td>\n",
       "      <td>0</td>\n",
       "      <td>1</td>\n",
       "    </tr>\n",
       "    <tr>\n",
       "      <th>FAMI_COMPUTADOR</th>\n",
       "      <td>0</td>\n",
       "      <td>0</td>\n",
       "      <td>1</td>\n",
       "    </tr>\n",
       "    <tr>\n",
       "      <th>FAMI_LAVADORA</th>\n",
       "      <td>1</td>\n",
       "      <td>1</td>\n",
       "      <td>0</td>\n",
       "    </tr>\n",
       "    <tr>\n",
       "      <th>FAMI_NEVERA</th>\n",
       "      <td>1</td>\n",
       "      <td>1</td>\n",
       "      <td>1</td>\n",
       "    </tr>\n",
       "    <tr>\n",
       "      <th>FAMI_HORNO</th>\n",
       "      <td>1</td>\n",
       "      <td>0</td>\n",
       "      <td>0</td>\n",
       "    </tr>\n",
       "    <tr>\n",
       "      <th>FAMI_DVD</th>\n",
       "      <td>1</td>\n",
       "      <td>1</td>\n",
       "      <td>0</td>\n",
       "    </tr>\n",
       "    <tr>\n",
       "      <th>FAMI_MICROONDAS</th>\n",
       "      <td>0</td>\n",
       "      <td>0</td>\n",
       "      <td>0</td>\n",
       "    </tr>\n",
       "    <tr>\n",
       "      <th>FAMI_AUTOMOVIL</th>\n",
       "      <td>0</td>\n",
       "      <td>0</td>\n",
       "      <td>0</td>\n",
       "    </tr>\n",
       "    <tr>\n",
       "      <th>FAMI_INGRESO_FMILIAR_MENSUAL</th>\n",
       "      <td>2</td>\n",
       "      <td>2</td>\n",
       "      <td>2</td>\n",
       "    </tr>\n",
       "    <tr>\n",
       "      <th>ESTU_TRABAJA</th>\n",
       "      <td>NaN</td>\n",
       "      <td>NaN</td>\n",
       "      <td>NaN</td>\n",
       "    </tr>\n",
       "    <tr>\n",
       "      <th>ESTU_HORAS_TRABAJA</th>\n",
       "      <td>NaN</td>\n",
       "      <td>NaN</td>\n",
       "      <td>NaN</td>\n",
       "    </tr>\n",
       "    <tr>\n",
       "      <th>PUNT_LENGUAJE</th>\n",
       "      <td>47</td>\n",
       "      <td>27</td>\n",
       "      <td>57</td>\n",
       "    </tr>\n",
       "    <tr>\n",
       "      <th>PUNT_MATEMATICAS</th>\n",
       "      <td>22</td>\n",
       "      <td>38</td>\n",
       "      <td>42</td>\n",
       "    </tr>\n",
       "    <tr>\n",
       "      <th>PUNT_C_SOCIALES</th>\n",
       "      <td>46</td>\n",
       "      <td>31</td>\n",
       "      <td>41</td>\n",
       "    </tr>\n",
       "    <tr>\n",
       "      <th>PUNT_FILOSOFIA</th>\n",
       "      <td>30</td>\n",
       "      <td>43</td>\n",
       "      <td>41</td>\n",
       "    </tr>\n",
       "    <tr>\n",
       "      <th>PUNT_BIOLOGIA</th>\n",
       "      <td>44</td>\n",
       "      <td>39</td>\n",
       "      <td>54</td>\n",
       "    </tr>\n",
       "    <tr>\n",
       "      <th>PUNT_QUIMICA</th>\n",
       "      <td>39</td>\n",
       "      <td>34</td>\n",
       "      <td>45</td>\n",
       "    </tr>\n",
       "    <tr>\n",
       "      <th>PUNT_FISICA</th>\n",
       "      <td>37</td>\n",
       "      <td>47</td>\n",
       "      <td>45</td>\n",
       "    </tr>\n",
       "    <tr>\n",
       "      <th>PUNT_INGLES</th>\n",
       "      <td>40</td>\n",
       "      <td>40</td>\n",
       "      <td>43</td>\n",
       "    </tr>\n",
       "    <tr>\n",
       "      <th>DESEMP_INGLES</th>\n",
       "      <td>A-</td>\n",
       "      <td>A-</td>\n",
       "      <td>A1</td>\n",
       "    </tr>\n",
       "    <tr>\n",
       "      <th>NOMBRE_COMP_FLEXIBLE</th>\n",
       "      <td>PROFUNDIZACIÓN EN CIENCIAS SOCIALES</td>\n",
       "      <td>VIOLENCIA Y SOCIEDAD</td>\n",
       "      <td>PROFUNDIZACIÓN EN LENGUAJE</td>\n",
       "    </tr>\n",
       "    <tr>\n",
       "      <th>PUNT_COMP_FLEXIBLE</th>\n",
       "      <td>4</td>\n",
       "      <td>28</td>\n",
       "      <td>5</td>\n",
       "    </tr>\n",
       "    <tr>\n",
       "      <th>DESEMP_COMP_FLEXIBLE</th>\n",
       "      <td>GB</td>\n",
       "      <td>NaN</td>\n",
       "      <td>I</td>\n",
       "    </tr>\n",
       "    <tr>\n",
       "      <th>ESTU_PUESTO</th>\n",
       "      <td>792</td>\n",
       "      <td>948</td>\n",
       "      <td>440</td>\n",
       "    </tr>\n",
       "  </tbody>\n",
       "</table>\n",
       "<p>113 rows × 3 columns</p>\n",
       "</div>"
      ],
      "text/plain": [
       "                                                                 0  \\\n",
       "PERIODO                                                      20131   \n",
       "ESTU_CONSECUTIVO                                SABER1120131000001   \n",
       "ESTU_EDAD                                                       27   \n",
       "ESTU_TIPO_DOCUMENTO                                              C   \n",
       "ESTU_PAIS_RESIDE                                                CO   \n",
       "ESTU_GENERO                                                      F   \n",
       "ESTU_NACIMIENTO_DIA                                             13   \n",
       "ESTU_NACIMIENTO_MES                                              7   \n",
       "ESTU_NACIMIENTO_ANNO                                          1985   \n",
       "ESTU_ETNIA                                                     NaN   \n",
       "ESTU_LIMITA_BAJAVISION                                         NaN   \n",
       "ESTU_LIMITA_SORDOCEGUERA                                       NaN   \n",
       "ESTU_LIMITA_COGNITIVA                                          NaN   \n",
       "ESTU_LIMITA_INVIDENTE                                          NaN   \n",
       "ESTU_LIMITA_MOTRIZ                                             NaN   \n",
       "ESTU_LIMITA_SORDOINTERPRETE                                    NaN   \n",
       "ESTU_LIMITA_SORDONOINTERPRETE                                  NaN   \n",
       "ESTU_COD_RESIDE_MCPIO                                         5837   \n",
       "ESTU_RESIDE_MCPIO                                            TURBO   \n",
       "ESTU_RESIDE_DEPTO                                        ANTIOQUIA   \n",
       "ESTU_ZONA_RESIDE                                                10   \n",
       "ESTU_AREA_RESIDE                                               NaN   \n",
       "COLE_COD_ICFES                                              131219   \n",
       "COLE_COD_DANE_INSTITUCION                              3.05837e+11   \n",
       "COLE_NOMBRE_SEDE                              INSTITUTO CORFERRINI   \n",
       "COLE_CALENDARIO                                                  F   \n",
       "COLE_GENERO                                                      X   \n",
       "COLE_NATURALEZA                                                  N   \n",
       "COLE_BILINGUE                                                  NaN   \n",
       "COLE_JORNADA                                  SABATINA - DOMINICAL   \n",
       "...                                                            ...   \n",
       "FAMI_NIVEL_SISBEN                                                1   \n",
       "FAMI_PISOSHOGAR                                                  2   \n",
       "FAMI_PERSONAS_HOGAR                                              5   \n",
       "FAMI_TELEFONO_FIJO                                               1   \n",
       "FAMI_CELULAR                                                     1   \n",
       "FAMI_INTERNET                                                    0   \n",
       "FAMI_SERVICIO_TELEVISION                                         1   \n",
       "FAMI_COMPUTADOR                                                  0   \n",
       "FAMI_LAVADORA                                                    1   \n",
       "FAMI_NEVERA                                                      1   \n",
       "FAMI_HORNO                                                       1   \n",
       "FAMI_DVD                                                         1   \n",
       "FAMI_MICROONDAS                                                  0   \n",
       "FAMI_AUTOMOVIL                                                   0   \n",
       "FAMI_INGRESO_FMILIAR_MENSUAL                                     2   \n",
       "ESTU_TRABAJA                                                   NaN   \n",
       "ESTU_HORAS_TRABAJA                                             NaN   \n",
       "PUNT_LENGUAJE                                                   47   \n",
       "PUNT_MATEMATICAS                                                22   \n",
       "PUNT_C_SOCIALES                                                 46   \n",
       "PUNT_FILOSOFIA                                                  30   \n",
       "PUNT_BIOLOGIA                                                   44   \n",
       "PUNT_QUIMICA                                                    39   \n",
       "PUNT_FISICA                                                     37   \n",
       "PUNT_INGLES                                                     40   \n",
       "DESEMP_INGLES                                                   A-   \n",
       "NOMBRE_COMP_FLEXIBLE           PROFUNDIZACIÓN EN CIENCIAS SOCIALES   \n",
       "PUNT_COMP_FLEXIBLE                                               4   \n",
       "DESEMP_COMP_FLEXIBLE                                            GB   \n",
       "ESTU_PUESTO                                                    792   \n",
       "\n",
       "                                                  1  \\\n",
       "PERIODO                                       20131   \n",
       "ESTU_CONSECUTIVO                 SABER1120131000002   \n",
       "ESTU_EDAD                                        27   \n",
       "ESTU_TIPO_DOCUMENTO                               C   \n",
       "ESTU_PAIS_RESIDE                                 CO   \n",
       "ESTU_GENERO                                       F   \n",
       "ESTU_NACIMIENTO_DIA                               1   \n",
       "ESTU_NACIMIENTO_MES                               5   \n",
       "ESTU_NACIMIENTO_ANNO                           1985   \n",
       "ESTU_ETNIA                                        1   \n",
       "ESTU_LIMITA_BAJAVISION                          NaN   \n",
       "ESTU_LIMITA_SORDOCEGUERA                        NaN   \n",
       "ESTU_LIMITA_COGNITIVA                           NaN   \n",
       "ESTU_LIMITA_INVIDENTE                           NaN   \n",
       "ESTU_LIMITA_MOTRIZ                              NaN   \n",
       "ESTU_LIMITA_SORDOINTERPRETE                     NaN   \n",
       "ESTU_LIMITA_SORDONOINTERPRETE                   NaN   \n",
       "ESTU_COD_RESIDE_MCPIO                          5001   \n",
       "ESTU_RESIDE_MCPIO                          MEDELLIN   \n",
       "ESTU_RESIDE_DEPTO                         ANTIOQUIA   \n",
       "ESTU_ZONA_RESIDE                                  4   \n",
       "ESTU_AREA_RESIDE                                NaN   \n",
       "COLE_COD_ICFES                               131219   \n",
       "COLE_COD_DANE_INSTITUCION               3.05837e+11   \n",
       "COLE_NOMBRE_SEDE               INSTITUTO CORFERRINI   \n",
       "COLE_CALENDARIO                                   F   \n",
       "COLE_GENERO                                       X   \n",
       "COLE_NATURALEZA                                   N   \n",
       "COLE_BILINGUE                                   NaN   \n",
       "COLE_JORNADA                   SABATINA - DOMINICAL   \n",
       "...                                             ...   \n",
       "FAMI_NIVEL_SISBEN                                 1   \n",
       "FAMI_PISOSHOGAR                                   2   \n",
       "FAMI_PERSONAS_HOGAR                               6   \n",
       "FAMI_TELEFONO_FIJO                                1   \n",
       "FAMI_CELULAR                                      1   \n",
       "FAMI_INTERNET                                     1   \n",
       "FAMI_SERVICIO_TELEVISION                          0   \n",
       "FAMI_COMPUTADOR                                   0   \n",
       "FAMI_LAVADORA                                     1   \n",
       "FAMI_NEVERA                                       1   \n",
       "FAMI_HORNO                                        0   \n",
       "FAMI_DVD                                          1   \n",
       "FAMI_MICROONDAS                                   0   \n",
       "FAMI_AUTOMOVIL                                    0   \n",
       "FAMI_INGRESO_FMILIAR_MENSUAL                      2   \n",
       "ESTU_TRABAJA                                    NaN   \n",
       "ESTU_HORAS_TRABAJA                              NaN   \n",
       "PUNT_LENGUAJE                                    27   \n",
       "PUNT_MATEMATICAS                                 38   \n",
       "PUNT_C_SOCIALES                                  31   \n",
       "PUNT_FILOSOFIA                                   43   \n",
       "PUNT_BIOLOGIA                                    39   \n",
       "PUNT_QUIMICA                                     34   \n",
       "PUNT_FISICA                                      47   \n",
       "PUNT_INGLES                                      40   \n",
       "DESEMP_INGLES                                    A-   \n",
       "NOMBRE_COMP_FLEXIBLE           VIOLENCIA Y SOCIEDAD   \n",
       "PUNT_COMP_FLEXIBLE                               28   \n",
       "DESEMP_COMP_FLEXIBLE                            NaN   \n",
       "ESTU_PUESTO                                     948   \n",
       "\n",
       "                                                        2  \n",
       "PERIODO                                             20131  \n",
       "ESTU_CONSECUTIVO                       SABER1120131000003  \n",
       "ESTU_EDAD                                              23  \n",
       "ESTU_TIPO_DOCUMENTO                                     C  \n",
       "ESTU_PAIS_RESIDE                                       CO  \n",
       "ESTU_GENERO                                             F  \n",
       "ESTU_NACIMIENTO_DIA                                    23  \n",
       "ESTU_NACIMIENTO_MES                                     1  \n",
       "ESTU_NACIMIENTO_ANNO                                 1990  \n",
       "ESTU_ETNIA                                            NaN  \n",
       "ESTU_LIMITA_BAJAVISION                                NaN  \n",
       "ESTU_LIMITA_SORDOCEGUERA                              NaN  \n",
       "ESTU_LIMITA_COGNITIVA                                 NaN  \n",
       "ESTU_LIMITA_INVIDENTE                                 NaN  \n",
       "ESTU_LIMITA_MOTRIZ                                    NaN  \n",
       "ESTU_LIMITA_SORDOINTERPRETE                           NaN  \n",
       "ESTU_LIMITA_SORDONOINTERPRETE                         NaN  \n",
       "ESTU_COD_RESIDE_MCPIO                                5837  \n",
       "ESTU_RESIDE_MCPIO                                   TURBO  \n",
       "ESTU_RESIDE_DEPTO                               ANTIOQUIA  \n",
       "ESTU_ZONA_RESIDE                                       10  \n",
       "ESTU_AREA_RESIDE                                      NaN  \n",
       "COLE_COD_ICFES                                     131219  \n",
       "COLE_COD_DANE_INSTITUCION                     3.05837e+11  \n",
       "COLE_NOMBRE_SEDE                     INSTITUTO CORFERRINI  \n",
       "COLE_CALENDARIO                                         F  \n",
       "COLE_GENERO                                             X  \n",
       "COLE_NATURALEZA                                         N  \n",
       "COLE_BILINGUE                                         NaN  \n",
       "COLE_JORNADA                         SABATINA - DOMINICAL  \n",
       "...                                                   ...  \n",
       "FAMI_NIVEL_SISBEN                                       1  \n",
       "FAMI_PISOSHOGAR                                         2  \n",
       "FAMI_PERSONAS_HOGAR                                     8  \n",
       "FAMI_TELEFONO_FIJO                                      0  \n",
       "FAMI_CELULAR                                            1  \n",
       "FAMI_INTERNET                                           1  \n",
       "FAMI_SERVICIO_TELEVISION                                1  \n",
       "FAMI_COMPUTADOR                                         1  \n",
       "FAMI_LAVADORA                                           0  \n",
       "FAMI_NEVERA                                             1  \n",
       "FAMI_HORNO                                              0  \n",
       "FAMI_DVD                                                0  \n",
       "FAMI_MICROONDAS                                         0  \n",
       "FAMI_AUTOMOVIL                                          0  \n",
       "FAMI_INGRESO_FMILIAR_MENSUAL                            2  \n",
       "ESTU_TRABAJA                                          NaN  \n",
       "ESTU_HORAS_TRABAJA                                    NaN  \n",
       "PUNT_LENGUAJE                                          57  \n",
       "PUNT_MATEMATICAS                                       42  \n",
       "PUNT_C_SOCIALES                                        41  \n",
       "PUNT_FILOSOFIA                                         41  \n",
       "PUNT_BIOLOGIA                                          54  \n",
       "PUNT_QUIMICA                                           45  \n",
       "PUNT_FISICA                                            45  \n",
       "PUNT_INGLES                                            43  \n",
       "DESEMP_INGLES                                          A1  \n",
       "NOMBRE_COMP_FLEXIBLE           PROFUNDIZACIÓN EN LENGUAJE  \n",
       "PUNT_COMP_FLEXIBLE                                      5  \n",
       "DESEMP_COMP_FLEXIBLE                                    I  \n",
       "ESTU_PUESTO                                           440  \n",
       "\n",
       "[113 rows x 3 columns]"
      ]
     },
     "execution_count": 317,
     "metadata": {},
     "output_type": "execute_result"
    }
   ],
   "source": [
    "data_2013.head(3).T"
   ]
  },
  {
   "cell_type": "code",
   "execution_count": 318,
   "metadata": {
    "collapsed": true
   },
   "outputs": [],
   "source": [
    "data_2013 = data_2013.drop(['PERIODO', 'ESTU_CONSECUTIVO', 'ESTU_TIPO_DOCUMENTO', 'ESTU_COD_RESIDE_MCPIO',\n",
    "                           'COLE_NOMBRE_SEDE', 'ESTU_IES_COD_MPIO_DESEADA', 'ESTU_IES_DESEADA_NOMBRE',\n",
    "                           'ESTU_COD_MCPIO_PRESENTACION', 'ESTU_EXAM_NOMBREEXAMEN'], axis=1)"
   ]
  },
  {
   "cell_type": "code",
   "execution_count": 319,
   "metadata": {
    "collapsed": false
   },
   "outputs": [
    {
     "data": {
      "text/plain": [
       "(86470, 104)"
      ]
     },
     "execution_count": 319,
     "metadata": {},
     "output_type": "execute_result"
    }
   ],
   "source": [
    "data_2013.shape"
   ]
  },
  {
   "cell_type": "code",
   "execution_count": 320,
   "metadata": {
    "collapsed": false,
    "scrolled": true
   },
   "outputs": [
    {
     "name": "stdout",
     "output_type": "stream",
     "text": [
      "Float64Index([  9.0,  10.0,  11.0,  12.0,  13.0,  14.0,  15.0,  16.0,  17.0,\n",
      "               18.0,  19.0,  20.0,  21.0,  22.0,  23.0,  24.0,  25.0,  26.0,\n",
      "               27.0,  28.0,  29.0,  30.0,  31.0,  32.0,  33.0,  34.0,  35.0,\n",
      "               36.0,  37.0,  38.0,  39.0,  40.0,  41.0,  42.0,  43.0,  44.0,\n",
      "               45.0,  46.0,  47.0,  48.0,  49.0,  50.0,  51.0,  52.0,  53.0,\n",
      "               54.0,  55.0,  56.0,  57.0,  58.0,  59.0,  60.0,  61.0,  62.0,\n",
      "               63.0,  64.0,  65.0,  66.0,  67.0,  68.0,  69.0,  71.0,  74.0,\n",
      "               75.0,  90.0, 113.0, 115.0, 363.0, 817.0, 818.0, 999.0],\n",
      "             dtype='float64')\n",
      "9          1\n",
      "10       187\n",
      "11        48\n",
      "12         9\n",
      "13        30\n",
      "14        89\n",
      "15      1368\n",
      "16     12248\n",
      "17     22190\n",
      "18     14600\n",
      "19      8099\n",
      "20      5042\n",
      "21      3517\n",
      "22      2636\n",
      "23      2029\n",
      "24      1604\n",
      "25      1257\n",
      "26      1144\n",
      "27       991\n",
      "28       904\n",
      "29       793\n",
      "30       712\n",
      "31       638\n",
      "32       552\n",
      "33       516\n",
      "34       455\n",
      "35       404\n",
      "36       373\n",
      "37       314\n",
      "38       329\n",
      "       ...  \n",
      "50       106\n",
      "51       100\n",
      "52        90\n",
      "53        68\n",
      "54        49\n",
      "55        49\n",
      "56        37\n",
      "57        35\n",
      "58        28\n",
      "59        30\n",
      "60        18\n",
      "61        11\n",
      "62         7\n",
      "63         7\n",
      "64         3\n",
      "65         4\n",
      "66         4\n",
      "67        10\n",
      "68         2\n",
      "69         2\n",
      "71         2\n",
      "74         1\n",
      "75         1\n",
      "90         1\n",
      "113       25\n",
      "115        1\n",
      "363        1\n",
      "817        2\n",
      "818        1\n",
      "999      497\n",
      "Name: ESTU_EDAD, dtype: int64\n",
      "Elementos null/NaN 1\n",
      "__________________\n",
      "Elementos diferentes de null/NaN: 86469\n",
      "__________________\n",
      "(86469,)\n",
      "None\n"
     ]
    }
   ],
   "source": [
    "c = 'ESTU_EDAD'\n",
    "print(data_2013[c].value_counts().sort_index().index)\n",
    "print(data_2013[c].value_counts().sort_index())\n",
    "print(missing_data(data_2013[c]))"
   ]
  },
  {
   "cell_type": "code",
   "execution_count": 321,
   "metadata": {
    "collapsed": true
   },
   "outputs": [],
   "source": [
    "for i in data_2013[c].value_counts().sort_index().index:\n",
    "    if i > 90:\n",
    "        data_2013[c] = data_2013[c].replace(i, np.nan)\n",
    "        \n",
    "idx = data_2013[data_2013[c].isnull()].index\n",
    "data_2013 = data_2013.drop(idx)"
   ]
  },
  {
   "cell_type": "code",
   "execution_count": 322,
   "metadata": {
    "collapsed": false
   },
   "outputs": [
    {
     "name": "stdout",
     "output_type": "stream",
     "text": [
      "Index(['CO'], dtype='object')\n",
      "CO    85937\n",
      "Name: ESTU_PAIS_RESIDE, dtype: int64\n",
      "Elementos null/NaN 5\n",
      "__________________\n",
      "Elementos diferentes de null/NaN: 85937\n",
      "__________________\n",
      "(85937,)\n",
      "None\n"
     ]
    }
   ],
   "source": [
    "c = 'ESTU_PAIS_RESIDE'\n",
    "print(data_2013[c].value_counts().sort_index().index)\n",
    "print(data_2013[c].value_counts().sort_index())\n",
    "print(missing_data(data_2013[c]))"
   ]
  },
  {
   "cell_type": "code",
   "execution_count": 323,
   "metadata": {
    "collapsed": true
   },
   "outputs": [],
   "source": [
    "data_2013[c].fillna('CO', inplace=True)"
   ]
  },
  {
   "cell_type": "code",
   "execution_count": 324,
   "metadata": {
    "collapsed": false
   },
   "outputs": [
    {
     "name": "stdout",
     "output_type": "stream",
     "text": [
      "Index(['F', 'M'], dtype='object')\n",
      "F    43614\n",
      "M    41972\n",
      "Name: ESTU_GENERO, dtype: int64\n",
      "Elementos null/NaN 356\n",
      "__________________\n",
      "Elementos diferentes de null/NaN: 85586\n",
      "__________________\n",
      "(85586,)\n",
      "None\n"
     ]
    }
   ],
   "source": [
    "c = 'ESTU_GENERO'\n",
    "print(data_2013[c].value_counts().sort_index().index)\n",
    "print(data_2013[c].value_counts().sort_index())\n",
    "print(missing_data(data_2013[c]))"
   ]
  },
  {
   "cell_type": "code",
   "execution_count": 325,
   "metadata": {
    "collapsed": false
   },
   "outputs": [
    {
     "name": "stdout",
     "output_type": "stream",
     "text": [
      "cant null antes: 356\n",
      "cant null despues: 0\n"
     ]
    }
   ],
   "source": [
    "Do_resamples(data_2013, c, str)"
   ]
  },
  {
   "cell_type": "code",
   "execution_count": 326,
   "metadata": {
    "collapsed": false,
    "scrolled": true
   },
   "outputs": [
    {
     "name": "stdout",
     "output_type": "stream",
     "text": [
      "Float64Index([ 1.0,  2.0,  3.0,  4.0,  5.0,  6.0,  7.0,  8.0,  9.0, 10.0, 11.0,\n",
      "              12.0, 13.0, 14.0, 15.0, 16.0, 17.0, 18.0, 19.0, 20.0, 21.0, 22.0,\n",
      "              23.0, 24.0, 25.0, 26.0, 27.0, 28.0, 29.0, 30.0, 31.0],\n",
      "             dtype='float64')\n",
      "1     2859\n",
      "2     2781\n",
      "3     2838\n",
      "4     2765\n",
      "5     2889\n",
      "6     2753\n",
      "7     2794\n",
      "8     2703\n",
      "9     2773\n",
      "10    2959\n",
      "11    2808\n",
      "12    2977\n",
      "13    2730\n",
      "14    2737\n",
      "15    2903\n",
      "16    2836\n",
      "17    2835\n",
      "18    2866\n",
      "19    2813\n",
      "20    2823\n",
      "21    2659\n",
      "22    2876\n",
      "23    2805\n",
      "24    2796\n",
      "25    2782\n",
      "26    2829\n",
      "27    2894\n",
      "28    2874\n",
      "29    2567\n",
      "30    2522\n",
      "31    1535\n",
      "Name: ESTU_NACIMIENTO_DIA, dtype: int64\n",
      "Elementos null/NaN 361\n",
      "__________________\n",
      "Elementos diferentes de null/NaN: 85581\n",
      "__________________\n",
      "(85581,)\n",
      "None\n"
     ]
    }
   ],
   "source": [
    "c = 'ESTU_NACIMIENTO_DIA'\n",
    "print(data_2013[c].value_counts().sort_index().index)\n",
    "print(data_2013[c].value_counts().sort_index())\n",
    "print(missing_data(data_2013[c]))"
   ]
  },
  {
   "cell_type": "code",
   "execution_count": 327,
   "metadata": {
    "collapsed": false
   },
   "outputs": [
    {
     "name": "stdout",
     "output_type": "stream",
     "text": [
      "Float64Index([1.0, 2.0, 3.0, 4.0, 5.0, 6.0, 7.0, 8.0, 9.0, 10.0, 11.0, 12.0], dtype='float64')\n",
      "1     6947\n",
      "2     6379\n",
      "3     7162\n",
      "4     6981\n",
      "5     7270\n",
      "6     7091\n",
      "7     7224\n",
      "8     7212\n",
      "9     7556\n",
      "10    7344\n",
      "11    7008\n",
      "12    7407\n",
      "Name: ESTU_NACIMIENTO_MES, dtype: int64\n",
      "Elementos null/NaN 361\n",
      "__________________\n",
      "Elementos diferentes de null/NaN: 85581\n",
      "__________________\n",
      "(85581,)\n",
      "None\n"
     ]
    }
   ],
   "source": [
    "c = 'ESTU_NACIMIENTO_MES'\n",
    "print(data_2013[c].value_counts().sort_index().index)\n",
    "print(data_2013[c].value_counts().sort_index())\n",
    "print(missing_data(data_2013[c]))"
   ]
  },
  {
   "cell_type": "code",
   "execution_count": 328,
   "metadata": {
    "collapsed": false,
    "scrolled": true
   },
   "outputs": [
    {
     "name": "stdout",
     "output_type": "stream",
     "text": [
      "Float64Index([  22.0,   96.0, 1922.0, 1937.0, 1939.0, 1941.0, 1942.0, 1943.0,\n",
      "              1944.0, 1945.0, 1946.0, 1947.0, 1948.0, 1949.0, 1950.0, 1951.0,\n",
      "              1952.0, 1953.0, 1954.0, 1955.0, 1956.0, 1957.0, 1958.0, 1959.0,\n",
      "              1960.0, 1961.0, 1962.0, 1963.0, 1964.0, 1965.0, 1966.0, 1967.0,\n",
      "              1968.0, 1969.0, 1970.0, 1971.0, 1972.0, 1973.0, 1974.0, 1975.0,\n",
      "              1976.0, 1977.0, 1978.0, 1979.0, 1980.0, 1981.0, 1982.0, 1983.0,\n",
      "              1984.0, 1985.0, 1986.0, 1987.0, 1988.0, 1989.0, 1990.0, 1991.0,\n",
      "              1992.0, 1993.0, 1994.0, 1995.0, 1996.0, 1997.0, 1998.0, 1999.0,\n",
      "              2000.0, 2001.0, 2002.0, 2003.0, 2004.0, 2013.0],\n",
      "             dtype='float64')\n",
      "22          1\n",
      "96          1\n",
      "1922        1\n",
      "1937        1\n",
      "1939        1\n",
      "1941        1\n",
      "1942        1\n",
      "1943        1\n",
      "1944        1\n",
      "1945       12\n",
      "1946        3\n",
      "1947        4\n",
      "1948        3\n",
      "1949        3\n",
      "1950       10\n",
      "1951       10\n",
      "1952       15\n",
      "1953       28\n",
      "1954       31\n",
      "1955       28\n",
      "1956       36\n",
      "1957       43\n",
      "1958       45\n",
      "1959       67\n",
      "1960       85\n",
      "1961      100\n",
      "1962      104\n",
      "1963      110\n",
      "1964      137\n",
      "1965      152\n",
      "        ...  \n",
      "1976      352\n",
      "1977      402\n",
      "1978      456\n",
      "1979      486\n",
      "1980      562\n",
      "1981      621\n",
      "1982      690\n",
      "1983      759\n",
      "1984      862\n",
      "1985      976\n",
      "1986     1101\n",
      "1987     1238\n",
      "1988     1528\n",
      "1989     1870\n",
      "1990     2458\n",
      "1991     3324\n",
      "1992     4710\n",
      "1993     7321\n",
      "1994    12976\n",
      "1995    21626\n",
      "1996    15167\n",
      "1997     2273\n",
      "1998      150\n",
      "1999       33\n",
      "2000        8\n",
      "2001       22\n",
      "2002      191\n",
      "2003        9\n",
      "2004        3\n",
      "2013        1\n",
      "Name: ESTU_NACIMIENTO_ANNO, dtype: int64\n",
      "Elementos null/NaN 361\n",
      "__________________\n",
      "Elementos diferentes de null/NaN: 85581\n",
      "__________________\n",
      "(85581,)\n",
      "None\n"
     ]
    }
   ],
   "source": [
    "c = 'ESTU_NACIMIENTO_ANNO'\n",
    "print(data_2013[c].value_counts().sort_index().index)\n",
    "print(data_2013[c].value_counts().sort_index())\n",
    "print(missing_data(data_2013[c]))"
   ]
  },
  {
   "cell_type": "code",
   "execution_count": 329,
   "metadata": {
    "collapsed": true
   },
   "outputs": [],
   "source": [
    "for i in data_2013[c].value_counts().sort_index().index:\n",
    "    if i < 1923:\n",
    "        data_2013[c] = data_2013[c].replace(i, np.nan)\n",
    "    elif i > 2004:\n",
    "        data_2013[c] = data_2013[c].replace(i, np.nan)\n",
    "        \n",
    "anno = data_2013[data_2013[c].isnull()].index\n",
    "data_2013 = data_2013.drop(anno)"
   ]
  },
  {
   "cell_type": "code",
   "execution_count": 330,
   "metadata": {
    "collapsed": false,
    "scrolled": true
   },
   "outputs": [
    {
     "name": "stdout",
     "output_type": "stream",
     "text": [
      "Float64Index([ 1.0,  2.0,  3.0,  4.0,  5.0,  6.0,  7.0,  8.0,  9.0, 10.0, 11.0,\n",
      "              12.0, 13.0, 14.0, 15.0, 16.0, 17.0, 18.0, 99.0],\n",
      "             dtype='float64')\n",
      "1     2658\n",
      "2       75\n",
      "3      266\n",
      "4       20\n",
      "5       58\n",
      "6       86\n",
      "7       71\n",
      "8      217\n",
      "9      134\n",
      "10     173\n",
      "11     959\n",
      "12      45\n",
      "13      49\n",
      "14       7\n",
      "15      13\n",
      "16       6\n",
      "17      51\n",
      "18       1\n",
      "99    6061\n",
      "Name: ESTU_ETNIA, dtype: int64\n",
      "Elementos null/NaN 74627\n",
      "__________________\n",
      "Elementos diferentes de null/NaN: 10950\n",
      "__________________\n",
      "(10950,)\n",
      "None\n"
     ]
    }
   ],
   "source": [
    "c = 'ESTU_ETNIA'\n",
    "print(data_2013[c].value_counts().sort_index().index)\n",
    "print(data_2013[c].value_counts().sort_index())\n",
    "print(missing_data(data_2013[c]))"
   ]
  },
  {
   "cell_type": "code",
   "execution_count": 331,
   "metadata": {
    "collapsed": true
   },
   "outputs": [],
   "source": [
    "data_2013[c].fillna(99, inplace=True)"
   ]
  },
  {
   "cell_type": "code",
   "execution_count": 332,
   "metadata": {
    "collapsed": false
   },
   "outputs": [
    {
     "name": "stdout",
     "output_type": "stream",
     "text": [
      "Index(['B'], dtype='object')\n",
      "B    154\n",
      "Name: ESTU_LIMITA_BAJAVISION, dtype: int64\n",
      "Elementos null/NaN 85423\n",
      "__________________\n",
      "Elementos diferentes de null/NaN: 154\n",
      "__________________\n",
      "(154,)\n",
      "None\n"
     ]
    }
   ],
   "source": [
    "c = 'ESTU_LIMITA_BAJAVISION'\n",
    "print(data_2013[c].value_counts().sort_index().index)\n",
    "print(data_2013[c].value_counts().sort_index())\n",
    "print(missing_data(data_2013[c]))"
   ]
  },
  {
   "cell_type": "code",
   "execution_count": 333,
   "metadata": {
    "collapsed": true
   },
   "outputs": [],
   "source": [
    "data_2013 = data_2013.drop([c], axis=1)"
   ]
  },
  {
   "cell_type": "code",
   "execution_count": 334,
   "metadata": {
    "collapsed": false
   },
   "outputs": [
    {
     "name": "stdout",
     "output_type": "stream",
     "text": [
      "Index(['C'], dtype='object')\n",
      "C    1\n",
      "Name: ESTU_LIMITA_SORDOCEGUERA, dtype: int64\n",
      "Elementos null/NaN 85576\n",
      "__________________\n",
      "Elementos diferentes de null/NaN: 1\n",
      "__________________\n",
      "(1,)\n",
      "None\n"
     ]
    }
   ],
   "source": [
    "c = 'ESTU_LIMITA_SORDOCEGUERA'\n",
    "print(data_2013[c].value_counts().sort_index().index)\n",
    "print(data_2013[c].value_counts().sort_index())\n",
    "print(missing_data(data_2013[c]))"
   ]
  },
  {
   "cell_type": "code",
   "execution_count": 335,
   "metadata": {
    "collapsed": true
   },
   "outputs": [],
   "source": [
    "data_2013 = data_2013.drop([c], axis=1)"
   ]
  },
  {
   "cell_type": "code",
   "execution_count": 336,
   "metadata": {
    "collapsed": false
   },
   "outputs": [
    {
     "name": "stdout",
     "output_type": "stream",
     "text": [
      "Index(['G'], dtype='object')\n",
      "G    46\n",
      "Name: ESTU_LIMITA_COGNITIVA, dtype: int64\n",
      "Elementos null/NaN 85531\n",
      "__________________\n",
      "Elementos diferentes de null/NaN: 46\n",
      "__________________\n",
      "(46,)\n",
      "None\n"
     ]
    }
   ],
   "source": [
    "c = 'ESTU_LIMITA_COGNITIVA'\n",
    "print(data_2013[c].value_counts().sort_index().index)\n",
    "print(data_2013[c].value_counts().sort_index())\n",
    "print(missing_data(data_2013[c]))"
   ]
  },
  {
   "cell_type": "code",
   "execution_count": 337,
   "metadata": {
    "collapsed": true
   },
   "outputs": [],
   "source": [
    "data_2013 = data_2013.drop([c], axis=1)"
   ]
  },
  {
   "cell_type": "code",
   "execution_count": 338,
   "metadata": {
    "collapsed": false
   },
   "outputs": [
    {
     "name": "stdout",
     "output_type": "stream",
     "text": [
      "Index(['I'], dtype='object')\n",
      "I    4\n",
      "Name: ESTU_LIMITA_INVIDENTE, dtype: int64\n",
      "Elementos null/NaN 85573\n",
      "__________________\n",
      "Elementos diferentes de null/NaN: 4\n",
      "__________________\n",
      "(4,)\n",
      "None\n"
     ]
    }
   ],
   "source": [
    "c = 'ESTU_LIMITA_INVIDENTE'\n",
    "print(data_2013[c].value_counts().sort_index().index)\n",
    "print(data_2013[c].value_counts().sort_index())\n",
    "print(missing_data(data_2013[c]))"
   ]
  },
  {
   "cell_type": "code",
   "execution_count": 339,
   "metadata": {
    "collapsed": true
   },
   "outputs": [],
   "source": [
    "data_2013 = data_2013.drop([c], axis=1)"
   ]
  },
  {
   "cell_type": "code",
   "execution_count": 340,
   "metadata": {
    "collapsed": false
   },
   "outputs": [
    {
     "name": "stdout",
     "output_type": "stream",
     "text": [
      "Index(['M'], dtype='object')\n",
      "M    105\n",
      "Name: ESTU_LIMITA_MOTRIZ, dtype: int64\n",
      "Elementos null/NaN 85472\n",
      "__________________\n",
      "Elementos diferentes de null/NaN: 105\n",
      "__________________\n",
      "(105,)\n",
      "None\n"
     ]
    }
   ],
   "source": [
    "c = 'ESTU_LIMITA_MOTRIZ'\n",
    "print(data_2013[c].value_counts().sort_index().index)\n",
    "print(data_2013[c].value_counts().sort_index())\n",
    "print(missing_data(data_2013[c]))"
   ]
  },
  {
   "cell_type": "code",
   "execution_count": 341,
   "metadata": {
    "collapsed": true
   },
   "outputs": [],
   "source": [
    "data_2013 = data_2013.drop([c], axis=1)"
   ]
  },
  {
   "cell_type": "code",
   "execution_count": 342,
   "metadata": {
    "collapsed": false
   },
   "outputs": [
    {
     "name": "stdout",
     "output_type": "stream",
     "text": [
      "Index(['R'], dtype='object')\n",
      "R    17\n",
      "Name: ESTU_LIMITA_SORDOINTERPRETE, dtype: int64\n",
      "Elementos null/NaN 85560\n",
      "__________________\n",
      "Elementos diferentes de null/NaN: 17\n",
      "__________________\n",
      "(17,)\n",
      "None\n"
     ]
    }
   ],
   "source": [
    "c = 'ESTU_LIMITA_SORDOINTERPRETE'\n",
    "print(data_2013[c].value_counts().sort_index().index)\n",
    "print(data_2013[c].value_counts().sort_index())\n",
    "print(missing_data(data_2013[c]))"
   ]
  },
  {
   "cell_type": "code",
   "execution_count": 343,
   "metadata": {
    "collapsed": true
   },
   "outputs": [],
   "source": [
    "data_2013 = data_2013.drop([c], axis=1)"
   ]
  },
  {
   "cell_type": "code",
   "execution_count": 344,
   "metadata": {
    "collapsed": false
   },
   "outputs": [
    {
     "name": "stdout",
     "output_type": "stream",
     "text": [
      "Index(['S'], dtype='object')\n",
      "S    30\n",
      "Name: ESTU_LIMITA_SORDONOINTERPRETE, dtype: int64\n",
      "Elementos null/NaN 85547\n",
      "__________________\n",
      "Elementos diferentes de null/NaN: 30\n",
      "__________________\n",
      "(30,)\n",
      "None\n"
     ]
    }
   ],
   "source": [
    "c = 'ESTU_LIMITA_SORDONOINTERPRETE'\n",
    "print(data_2013[c].value_counts().sort_index().index)\n",
    "print(data_2013[c].value_counts().sort_index())\n",
    "print(missing_data(data_2013[c]))"
   ]
  },
  {
   "cell_type": "code",
   "execution_count": 345,
   "metadata": {
    "collapsed": true
   },
   "outputs": [],
   "source": [
    "data_2013 = data_2013.drop([c], axis=1)"
   ]
  },
  {
   "cell_type": "code",
   "execution_count": 346,
   "metadata": {
    "collapsed": false,
    "scrolled": true
   },
   "outputs": [
    {
     "name": "stdout",
     "output_type": "stream",
     "text": [
      "Index(['ABEJORRAL', 'ABREGO', 'ACACIAS', 'ACEVEDO', 'ACHI', 'AGRADO',\n",
      "       'AGUA DE DIOS', 'AGUACHICA', 'AGUADAS', 'AGUAZUL',\n",
      "       ...\n",
      "       'YOPAL', 'YOTOCO', 'YUMBO', 'ZAPATOCA', 'ZARAGOZA', 'ZARZAL',\n",
      "       'ZETAQUIRA', 'ZIPACON', 'ZIPAQUIRA', 'ZONA BANANERA'],\n",
      "      dtype='object', length=891)\n",
      "ABEJORRAL                      7\n",
      "ABREGO                         6\n",
      "ACACIAS                       60\n",
      "ACEVEDO                       36\n",
      "ACHI                           2\n",
      "AGRADO                        10\n",
      "AGUA DE DIOS                  10\n",
      "AGUACHICA                    145\n",
      "AGUADAS                        9\n",
      "AGUAZUL                       85\n",
      "AGUSTIN CODAZZI               56\n",
      "AIPE                          53\n",
      "ALBAN                          2\n",
      "ALBAN (SAN JOSE)              35\n",
      "ALBANIA                       52\n",
      "ALCALA                         8\n",
      "ALDANA                        23\n",
      "ALEJANDRIA                     3\n",
      "ALGECIRAS                     70\n",
      "ALMAGUER                       2\n",
      "ALMEIDA                        1\n",
      "ALPUJARRA                      2\n",
      "ALTAMIRA                      10\n",
      "ALTO BAUDO (PIE DE PATO)       4\n",
      "ALTOS DEL ROSARIO              3\n",
      "ALVARADO                       3\n",
      "AMAGA                          6\n",
      "AMALFI                         3\n",
      "AMBALEMA                       1\n",
      "ANAPOIMA                       5\n",
      "                            ... \n",
      "VILLA RICA                    51\n",
      "VILLAGARZON                   32\n",
      "VILLAGOMEZ                     1\n",
      "VILLAHERMOSA                  12\n",
      "VILLAMARIA                   118\n",
      "VILLANUEVA                    97\n",
      "VILLAPINZON                   11\n",
      "VILLARRICA                     3\n",
      "VILLAVICENCIO               1195\n",
      "VILLAVIEJA                     8\n",
      "VILLETA                       26\n",
      "VIRACACHA                      2\n",
      "VISTA HERMOSA                 29\n",
      "VITERBO                        1\n",
      "YACUANQUER                    30\n",
      "YAGUARA                       32\n",
      "YALI                          10\n",
      "YARUMAL                        4\n",
      "YOLOMBO                        1\n",
      "YONDO (CASABE)                12\n",
      "YOPAL                        376\n",
      "YOTOCO                        23\n",
      "YUMBO                         19\n",
      "ZAPATOCA                       9\n",
      "ZARAGOZA                       2\n",
      "ZARZAL                        45\n",
      "ZETAQUIRA                      2\n",
      "ZIPACON                        3\n",
      "ZIPAQUIRA                    209\n",
      "ZONA BANANERA                  4\n",
      "Name: ESTU_RESIDE_MCPIO, dtype: int64\n",
      "Elementos null/NaN 0\n",
      "__________________\n",
      "Elementos diferentes de null/NaN: 85577\n",
      "__________________\n",
      "(85577,)\n",
      "None\n"
     ]
    }
   ],
   "source": [
    "c = 'ESTU_RESIDE_MCPIO'\n",
    "print(data_2013[c].value_counts().sort_index().index)\n",
    "print(data_2013[c].value_counts().sort_index())\n",
    "print(missing_data(data_2013[c]))"
   ]
  },
  {
   "cell_type": "code",
   "execution_count": 347,
   "metadata": {
    "collapsed": false,
    "scrolled": true
   },
   "outputs": [
    {
     "name": "stdout",
     "output_type": "stream",
     "text": [
      "Index(['AMAZONAS', 'ANTIOQUIA', 'ARAUCA', 'ATLÁNTICO', 'BOGOTÁ', 'BOLÍVAR',\n",
      "       'BOYACÁ', 'CALDAS', 'CAQUETÁ', 'CASANARE', 'CAUCA', 'CESAR', 'CHOCÓ',\n",
      "       'CUNDINAMARCA', 'CÓRDOBA', 'GUAINÍA', 'GUAVIARE', 'HUILA', 'LA GUAJIRA',\n",
      "       'MAGDALENA', 'META', 'NARIÑO', 'NORTE SANTANDER', 'PUTUMAYO', 'QUINDÍO',\n",
      "       'RISARALDA', 'SAN ANDRÉS', 'SANTANDER', 'SUCRE', 'TOLIMA', 'VALLE',\n",
      "       'VAUPÉS', 'VICHADA'],\n",
      "      dtype='object')\n",
      "AMAZONAS              29\n",
      "ANTIOQUIA           5345\n",
      "ARAUCA               195\n",
      "ATLÁNTICO           2078\n",
      "BOGOTÁ             17482\n",
      "BOLÍVAR             1150\n",
      "BOYACÁ              4271\n",
      "CALDAS              2219\n",
      "CAQUETÁ              469\n",
      "CASANARE             691\n",
      "CAUCA               2811\n",
      "CESAR                893\n",
      "CHOCÓ                395\n",
      "CUNDINAMARCA        2376\n",
      "CÓRDOBA              733\n",
      "GUAINÍA               11\n",
      "GUAVIARE              65\n",
      "HUILA               4183\n",
      "LA GUAJIRA           435\n",
      "MAGDALENA            619\n",
      "META                1527\n",
      "NARIÑO              6139\n",
      "NORTE SANTANDER     1322\n",
      "PUTUMAYO             750\n",
      "QUINDÍO             1075\n",
      "RISARALDA           1738\n",
      "SAN ANDRÉS            30\n",
      "SANTANDER           6389\n",
      "SUCRE                410\n",
      "TOLIMA              2538\n",
      "VALLE              17197\n",
      "VAUPÉS                 4\n",
      "VICHADA                8\n",
      "Name: ESTU_RESIDE_DEPTO, dtype: int64\n",
      "Elementos null/NaN 0\n",
      "__________________\n",
      "Elementos diferentes de null/NaN: 85577\n",
      "__________________\n",
      "(85577,)\n",
      "None\n"
     ]
    }
   ],
   "source": [
    "c = 'ESTU_RESIDE_DEPTO'\n",
    "print(data_2013[c].value_counts().sort_index().index)\n",
    "print(data_2013[c].value_counts().sort_index())\n",
    "print(missing_data(data_2013[c]))"
   ]
  },
  {
   "cell_type": "code",
   "execution_count": 348,
   "metadata": {
    "collapsed": false,
    "scrolled": true
   },
   "outputs": [
    {
     "name": "stdout",
     "output_type": "stream",
     "text": [
      "Float64Index([1.0, 2.0, 3.0, 4.0, 5.0, 6.0, 7.0, 8.0, 9.0, 10.0], dtype='float64')\n",
      "1      7807\n",
      "2      1566\n",
      "3      2184\n",
      "4     11145\n",
      "5      3991\n",
      "6      3568\n",
      "7      2211\n",
      "8      4139\n",
      "9      3170\n",
      "10    45796\n",
      "Name: ESTU_ZONA_RESIDE, dtype: int64\n",
      "Elementos null/NaN 0\n",
      "__________________\n",
      "Elementos diferentes de null/NaN: 85577\n",
      "__________________\n",
      "(85577,)\n",
      "None\n"
     ]
    }
   ],
   "source": [
    "c = 'ESTU_ZONA_RESIDE'\n",
    "print(data_2013[c].value_counts().sort_index().index)\n",
    "print(data_2013[c].value_counts().sort_index())\n",
    "print(missing_data(data_2013[c]))"
   ]
  },
  {
   "cell_type": "code",
   "execution_count": 349,
   "metadata": {
    "collapsed": false
   },
   "outputs": [
    {
     "name": "stdout",
     "output_type": "stream",
     "text": [
      "Float64Index([1.0, 2.0], dtype='float64')\n",
      "1    23746\n",
      "2     3447\n",
      "Name: ESTU_AREA_RESIDE, dtype: int64\n",
      "Elementos null/NaN 58384\n",
      "__________________\n",
      "Elementos diferentes de null/NaN: 27193\n",
      "__________________\n",
      "(27193,)\n",
      "None\n"
     ]
    }
   ],
   "source": [
    "c = 'ESTU_AREA_RESIDE'\n",
    "print(data_2013[c].value_counts().sort_index().index)\n",
    "print(data_2013[c].value_counts().sort_index())\n",
    "print(missing_data(data_2013[c]))"
   ]
  },
  {
   "cell_type": "code",
   "execution_count": 350,
   "metadata": {
    "collapsed": false
   },
   "outputs": [
    {
     "name": "stdout",
     "output_type": "stream",
     "text": [
      "cant null antes: 58384\n",
      "cant null despues: 0\n"
     ]
    }
   ],
   "source": [
    "Do_resamples(data_2013, c, float)"
   ]
  },
  {
   "cell_type": "code",
   "execution_count": 351,
   "metadata": {
    "collapsed": false,
    "scrolled": true
   },
   "outputs": [
    {
     "name": "stdout",
     "output_type": "stream",
     "text": [
      "Float64Index([     3.0,     59.0,     75.0,     91.0,    182.0,    216.0,\n",
      "                 257.0,    265.0,    356.0,    380.0,\n",
      "              ...\n",
      "              170530.0, 170621.0, 170654.0, 171363.0, 172163.0, 172601.0,\n",
      "              173302.0, 175182.0, 175695.0, 175802.0],\n",
      "             dtype='float64', length=7059)\n",
      "3         114\n",
      "59          6\n",
      "75          2\n",
      "91          2\n",
      "182        88\n",
      "216         1\n",
      "257         7\n",
      "265       130\n",
      "356         1\n",
      "380         6\n",
      "422         1\n",
      "455         1\n",
      "489         2\n",
      "497         1\n",
      "554         1\n",
      "638       142\n",
      "653         2\n",
      "687         1\n",
      "786        18\n",
      "810         1\n",
      "844         1\n",
      "935         8\n",
      "943         3\n",
      "968         3\n",
      "984         1\n",
      "992         1\n",
      "1016        2\n",
      "1024        7\n",
      "1057        1\n",
      "1073        3\n",
      "         ... \n",
      "169979     15\n",
      "169987     37\n",
      "170019     59\n",
      "170050     27\n",
      "170076     12\n",
      "170118      7\n",
      "170142      5\n",
      "170159     37\n",
      "170183      1\n",
      "170225      1\n",
      "170274      6\n",
      "170282     10\n",
      "170365      2\n",
      "170449     59\n",
      "170456     73\n",
      "170472      2\n",
      "170480      6\n",
      "170506      4\n",
      "170514      4\n",
      "170522      2\n",
      "170530     12\n",
      "170621     12\n",
      "170654      2\n",
      "171363      1\n",
      "172163      1\n",
      "172601      1\n",
      "173302      1\n",
      "175182      1\n",
      "175695      1\n",
      "175802      1\n",
      "Name: COLE_COD_ICFES, dtype: int64\n",
      "Elementos null/NaN 21065\n",
      "__________________\n",
      "Elementos diferentes de null/NaN: 64512\n",
      "__________________\n",
      "(64512,)\n",
      "None\n"
     ]
    }
   ],
   "source": [
    "c = 'COLE_COD_ICFES'\n",
    "print(data_2013[c].value_counts().sort_index().index)\n",
    "print(data_2013[c].value_counts().sort_index())\n",
    "print(missing_data(data_2013[c]))"
   ]
  },
  {
   "cell_type": "code",
   "execution_count": 352,
   "metadata": {
    "collapsed": true
   },
   "outputs": [],
   "source": [
    "for i in data_2013[c].value_counts().sort_index().index:\n",
    "    if len(str(i)) < 4:\n",
    "        data_2013[c] = data_2013[c].replace(i, np.nan)\n",
    "\n",
    "data_2013[c].fillna(method='bfill', inplace=True)\n",
    "data_2013[c].fillna(method='ffill', inplace=True)"
   ]
  },
  {
   "cell_type": "code",
   "execution_count": 353,
   "metadata": {
    "collapsed": false,
    "scrolled": true
   },
   "outputs": [
    {
     "name": "stdout",
     "output_type": "stream",
     "text": [
      "Float64Index([              0.0,     16340100097.0,     35283505003.0,\n",
      "                  51100102546.0,    105001000108.0,    105001000256.0,\n",
      "                 105001000396.0,    105001000418.0,    105001000485.0,\n",
      "                 105001000566.0,\n",
      "              ...\n",
      "                 818001100022.0,    818001100035.0,    818001100040.0,\n",
      "                 820536000005.0,    841006000001.0,    847001000005.0,\n",
      "                 847001000023.0,    847001000027.0,    847001000035.0,\n",
      "              3.76001003667e+12],\n",
      "             dtype='float64', length=5678)\n",
      "0.000000e+00    170\n",
      "1.634010e+10      1\n",
      "3.528351e+10      2\n",
      "5.110010e+10      1\n",
      "1.050010e+11      6\n",
      "1.050010e+11     14\n",
      "1.050010e+11      1\n",
      "1.050010e+11      1\n",
      "1.050010e+11      7\n",
      "1.050010e+11     10\n",
      "1.050010e+11      6\n",
      "1.050010e+11      1\n",
      "1.050010e+11      4\n",
      "1.050010e+11      1\n",
      "1.050010e+11      8\n",
      "1.050010e+11      3\n",
      "1.050010e+11     14\n",
      "1.050010e+11      7\n",
      "1.050010e+11      3\n",
      "1.050010e+11      3\n",
      "1.050010e+11      1\n",
      "1.050010e+11      1\n",
      "1.050010e+11      1\n",
      "1.050010e+11      1\n",
      "1.050010e+11      1\n",
      "1.050010e+11      2\n",
      "1.050010e+11     20\n",
      "1.050010e+11      2\n",
      "1.050010e+11     10\n",
      "1.050010e+11      1\n",
      "               ... \n",
      "6.251580e+11     21\n",
      "6.251810e+11     16\n",
      "6.252140e+11     25\n",
      "6.252430e+11      1\n",
      "6.252690e+11      6\n",
      "6.252690e+11     36\n",
      "6.252690e+11     35\n",
      "6.252690e+11     39\n",
      "6.252690e+11     21\n",
      "6.252860e+11     42\n",
      "6.254380e+11      6\n",
      "6.257450e+11      1\n",
      "6.257990e+11      2\n",
      "6.257990e+11      6\n",
      "6.258170e+11      4\n",
      "6.258860e+11     14\n",
      "6.258990e+11     11\n",
      "6.258990e+11     36\n",
      "8.105360e+11      1\n",
      "8.180011e+11      4\n",
      "8.180011e+11     19\n",
      "8.180011e+11      5\n",
      "8.180011e+11     29\n",
      "8.205360e+11      8\n",
      "8.410060e+11      7\n",
      "8.470010e+11      4\n",
      "8.470010e+11      1\n",
      "8.470010e+11      1\n",
      "8.470010e+11      1\n",
      "3.760010e+12      1\n",
      "Name: COLE_COD_DANE_INSTITUCION, dtype: int64\n",
      "Elementos null/NaN 21390\n",
      "__________________\n",
      "Elementos diferentes de null/NaN: 64187\n",
      "__________________\n",
      "(64187,)\n",
      "None\n"
     ]
    }
   ],
   "source": [
    "c = 'COLE_COD_DANE_INSTITUCION'\n",
    "print(data_2013[c].value_counts().sort_index().index)\n",
    "print(data_2013[c].value_counts().sort_index())\n",
    "print(missing_data(data_2013[c]))"
   ]
  },
  {
   "cell_type": "code",
   "execution_count": 354,
   "metadata": {
    "collapsed": true
   },
   "outputs": [],
   "source": [
    "data_2013[c] = data_2013[c].replace(0, np.nan)\n",
    "data_2013[c].fillna(method='bfill', inplace=True)\n",
    "data_2013[c].fillna(method='ffill', inplace=True)"
   ]
  },
  {
   "cell_type": "code",
   "execution_count": 355,
   "metadata": {
    "collapsed": false
   },
   "outputs": [
    {
     "name": "stdout",
     "output_type": "stream",
     "text": [
      "Index(['A', 'B', 'F'], dtype='object')\n",
      "A    26575\n",
      "B    14052\n",
      "F    23719\n",
      "Name: COLE_CALENDARIO, dtype: int64\n",
      "Elementos null/NaN 21231\n",
      "__________________\n",
      "Elementos diferentes de null/NaN: 64346\n",
      "__________________\n",
      "(64346,)\n",
      "None\n"
     ]
    }
   ],
   "source": [
    "c = 'COLE_CALENDARIO'\n",
    "print(data_2013[c].value_counts().sort_index().index)\n",
    "print(data_2013[c].value_counts().sort_index())\n",
    "print(missing_data(data_2013[c]))"
   ]
  },
  {
   "cell_type": "code",
   "execution_count": 356,
   "metadata": {
    "collapsed": false
   },
   "outputs": [
    {
     "name": "stdout",
     "output_type": "stream",
     "text": [
      "cant null antes: 21231\n",
      "cant null despues: 1\n",
      "cant null antes: 1\n",
      "cant null despues: 0\n"
     ]
    }
   ],
   "source": [
    "Do_resamples(data_2013, c, str)"
   ]
  },
  {
   "cell_type": "code",
   "execution_count": 357,
   "metadata": {
    "collapsed": false
   },
   "outputs": [
    {
     "name": "stdout",
     "output_type": "stream",
     "text": [
      "Index(['F', 'M', 'X'], dtype='object')\n",
      "F     3625\n",
      "M     1400\n",
      "X    59207\n",
      "Name: COLE_GENERO, dtype: int64\n",
      "Elementos null/NaN 21345\n",
      "__________________\n",
      "Elementos diferentes de null/NaN: 64232\n",
      "__________________\n",
      "(64232,)\n",
      "None\n"
     ]
    }
   ],
   "source": [
    "c = 'COLE_GENERO'\n",
    "print(data_2013[c].value_counts().sort_index().index)\n",
    "print(data_2013[c].value_counts().sort_index())\n",
    "print(missing_data(data_2013[c]))"
   ]
  },
  {
   "cell_type": "code",
   "execution_count": 358,
   "metadata": {
    "collapsed": false
   },
   "outputs": [
    {
     "name": "stdout",
     "output_type": "stream",
     "text": [
      "cant null antes: 21345\n",
      "cant null despues: 0\n"
     ]
    }
   ],
   "source": [
    "Do_resamples(data_2013, c, str)"
   ]
  },
  {
   "cell_type": "code",
   "execution_count": 359,
   "metadata": {
    "collapsed": false
   },
   "outputs": [
    {
     "name": "stdout",
     "output_type": "stream",
     "text": [
      "Index(['N', 'O'], dtype='object')\n",
      "N    38823\n",
      "O    25409\n",
      "Name: COLE_NATURALEZA, dtype: int64\n",
      "Elementos null/NaN 21345\n",
      "__________________\n",
      "Elementos diferentes de null/NaN: 64232\n",
      "__________________\n",
      "(64232,)\n",
      "None\n"
     ]
    }
   ],
   "source": [
    "c = 'COLE_NATURALEZA'\n",
    "print(data_2013[c].value_counts().sort_index().index)\n",
    "print(data_2013[c].value_counts().sort_index())\n",
    "print(missing_data(data_2013[c]))"
   ]
  },
  {
   "cell_type": "code",
   "execution_count": 360,
   "metadata": {
    "collapsed": false
   },
   "outputs": [
    {
     "name": "stdout",
     "output_type": "stream",
     "text": [
      "cant null antes: 21345\n",
      "cant null despues: 0\n"
     ]
    }
   ],
   "source": [
    "Do_resamples(data_2013, c, str)"
   ]
  },
  {
   "cell_type": "code",
   "execution_count": 361,
   "metadata": {
    "collapsed": false
   },
   "outputs": [
    {
     "name": "stdout",
     "output_type": "stream",
     "text": [
      "Float64Index([0.0, 1.0], dtype='float64')\n",
      "0    51728\n",
      "1     4312\n",
      "Name: COLE_BILINGUE, dtype: int64\n",
      "Elementos null/NaN 29537\n",
      "__________________\n",
      "Elementos diferentes de null/NaN: 56040\n",
      "__________________\n",
      "(56040,)\n",
      "None\n"
     ]
    }
   ],
   "source": [
    "c = 'COLE_BILINGUE'\n",
    "print(data_2013[c].value_counts().sort_index().index)\n",
    "print(data_2013[c].value_counts().sort_index())\n",
    "print(missing_data(data_2013[c]))"
   ]
  },
  {
   "cell_type": "code",
   "execution_count": 362,
   "metadata": {
    "collapsed": false
   },
   "outputs": [
    {
     "name": "stdout",
     "output_type": "stream",
     "text": [
      "cant null antes: 29537\n",
      "cant null despues: 0\n"
     ]
    }
   ],
   "source": [
    "Do_resamples(data_2013, c, float)"
   ]
  },
  {
   "cell_type": "code",
   "execution_count": 363,
   "metadata": {
    "collapsed": false
   },
   "outputs": [
    {
     "name": "stdout",
     "output_type": "stream",
     "text": [
      "Index(['COMPLETA U ORDINARIA', 'MAÑANA', 'NOCHE', 'SABATINA - DOMINICAL',\n",
      "       'TARDE', 'UNICA'],\n",
      "      dtype='object')\n",
      "COMPLETA U ORDINARIA    15251\n",
      "MAÑANA                  26847\n",
      "NOCHE                    8476\n",
      "SABATINA - DOMINICAL     7388\n",
      "TARDE                    6266\n",
      "UNICA                       4\n",
      "Name: COLE_JORNADA, dtype: int64\n",
      "Elementos null/NaN 21345\n",
      "__________________\n",
      "Elementos diferentes de null/NaN: 64232\n",
      "__________________\n",
      "(64232,)\n",
      "None\n"
     ]
    }
   ],
   "source": [
    "c = 'COLE_JORNADA'\n",
    "print(data_2013[c].value_counts().sort_index().index)\n",
    "print(data_2013[c].value_counts().sort_index())\n",
    "print(missing_data(data_2013[c]))"
   ]
  },
  {
   "cell_type": "code",
   "execution_count": 364,
   "metadata": {
    "collapsed": false
   },
   "outputs": [
    {
     "name": "stdout",
     "output_type": "stream",
     "text": [
      "cant null antes: 21345\n",
      "cant null despues: 0\n"
     ]
    }
   ],
   "source": [
    "Do_resamples(data_2013, c, str)"
   ]
  },
  {
   "cell_type": "code",
   "execution_count": 365,
   "metadata": {
    "collapsed": false
   },
   "outputs": [
    {
     "name": "stdout",
     "output_type": "stream",
     "text": [
      "Index(['ACADEMICO', 'ACADEMICO Y TECNICO', 'DESCONOCIDO', 'NORMALISTA',\n",
      "       'TECNICO'],\n",
      "      dtype='object')\n",
      "ACADEMICO              45890\n",
      "ACADEMICO Y TECNICO     8431\n",
      "DESCONOCIDO               18\n",
      "NORMALISTA              1074\n",
      "TECNICO                 8792\n",
      "Name: COLE_CARACTER, dtype: int64\n",
      "Elementos null/NaN 21372\n",
      "__________________\n",
      "Elementos diferentes de null/NaN: 64205\n",
      "__________________\n",
      "(64205,)\n",
      "None\n"
     ]
    }
   ],
   "source": [
    "c = 'COLE_CARACTER'\n",
    "print(data_2013[c].value_counts().sort_index().index)\n",
    "print(data_2013[c].value_counts().sort_index())\n",
    "print(missing_data(data_2013[c]))"
   ]
  },
  {
   "cell_type": "code",
   "execution_count": 366,
   "metadata": {
    "collapsed": false
   },
   "outputs": [
    {
     "name": "stdout",
     "output_type": "stream",
     "text": [
      "cant null antes: 21372\n",
      "cant null despues: 0\n"
     ]
    }
   ],
   "source": [
    "Do_resamples(data_2013, c, str)"
   ]
  },
  {
   "cell_type": "code",
   "execution_count": 367,
   "metadata": {
    "collapsed": false,
    "scrolled": true
   },
   "outputs": [
    {
     "name": "stdout",
     "output_type": "stream",
     "text": [
      "Float64Index([0.0, 1.0, 2.0, 3.0, 4.0, 5.0, 6.0, 7.0, 8.0, 9.0, 10.0, 11.0,\n",
      "              12.0],\n",
      "             dtype='float64')\n",
      "0     11482\n",
      "1       175\n",
      "2       100\n",
      "3        91\n",
      "4        30\n",
      "5        55\n",
      "6        63\n",
      "7         3\n",
      "8      1548\n",
      "9       882\n",
      "10      650\n",
      "11     1295\n",
      "12     1070\n",
      "Name: COLE_VALOR_PENSION, dtype: int64\n",
      "Elementos null/NaN 68133\n",
      "__________________\n",
      "Elementos diferentes de null/NaN: 17444\n",
      "__________________\n",
      "(17444,)\n",
      "None\n"
     ]
    }
   ],
   "source": [
    "c = 'COLE_VALOR_PENSION'\n",
    "print(data_2013[c].value_counts().sort_index().index)\n",
    "print(data_2013[c].value_counts().sort_index())\n",
    "print(missing_data(data_2013[c]))"
   ]
  },
  {
   "cell_type": "code",
   "execution_count": 368,
   "metadata": {
    "collapsed": false
   },
   "outputs": [
    {
     "name": "stdout",
     "output_type": "stream",
     "text": [
      "cant null antes: 68133\n",
      "cant null despues: 0\n"
     ]
    }
   ],
   "source": [
    "Do_resamples(data_2013, c, float)"
   ]
  },
  {
   "cell_type": "code",
   "execution_count": 369,
   "metadata": {
    "collapsed": false
   },
   "outputs": [
    {
     "name": "stdout",
     "output_type": "stream",
     "text": [
      "Float64Index([0.0, 1.0, 2.0, 3.0], dtype='float64')\n",
      "0      40\n",
      "1      46\n",
      "2      45\n",
      "3    1784\n",
      "Name: ESTU_CARRDESEADA_TIPO, dtype: int64\n",
      "Elementos null/NaN 83662\n",
      "__________________\n",
      "Elementos diferentes de null/NaN: 1915\n",
      "__________________\n",
      "(1915,)\n",
      "None\n"
     ]
    }
   ],
   "source": [
    "c = 'ESTU_CARRDESEADA_TIPO'\n",
    "print(data_2013[c].value_counts().sort_index().index)\n",
    "print(data_2013[c].value_counts().sort_index())\n",
    "print(missing_data(data_2013[c]))"
   ]
  },
  {
   "cell_type": "code",
   "execution_count": 370,
   "metadata": {
    "collapsed": false
   },
   "outputs": [
    {
     "name": "stdout",
     "output_type": "stream",
     "text": [
      "cant null antes: 83662\n",
      "cant null despues: 0\n"
     ]
    }
   ],
   "source": [
    "Do_resamples(data_2013, c, float)"
   ]
  },
  {
   "cell_type": "code",
   "execution_count": 371,
   "metadata": {
    "collapsed": false,
    "scrolled": true
   },
   "outputs": [
    {
     "name": "stdout",
     "output_type": "stream",
     "text": [
      "Float64Index([  1101.0,   1102.0,   1103.0,   1104.0,   1105.0,   1106.0,\n",
      "                1107.0,   1108.0,   1110.0,   1111.0,\n",
      "              ...\n",
      "               86074.0,  87981.0,  91249.0, 101998.0, 111856.0, 115667.0,\n",
      "              132621.0, 149633.0, 158386.0, 165852.0],\n",
      "             dtype='float64', length=201)\n",
      "1101      330\n",
      "1102       15\n",
      "1103       12\n",
      "1104        2\n",
      "1105       18\n",
      "1106       73\n",
      "1107        4\n",
      "1108       52\n",
      "1110       63\n",
      "1111       42\n",
      "1112       67\n",
      "1113        9\n",
      "1114      133\n",
      "1115        2\n",
      "1117       10\n",
      "1118        1\n",
      "1119       17\n",
      "1120        3\n",
      "1121        3\n",
      "1122        2\n",
      "1124        1\n",
      "1201       44\n",
      "1202        4\n",
      "1203      264\n",
      "1204      212\n",
      "1205        7\n",
      "1206      162\n",
      "1207       57\n",
      "1208       33\n",
      "1209       12\n",
      "         ... \n",
      "4825        1\n",
      "4826        1\n",
      "5802        2\n",
      "9101        1\n",
      "9102        2\n",
      "9103       11\n",
      "9104        6\n",
      "9105        7\n",
      "9107        1\n",
      "9110       13\n",
      "9111        1\n",
      "9112        1\n",
      "9114        2\n",
      "9122        1\n",
      "11924       1\n",
      "21121       2\n",
      "53413       1\n",
      "53967       4\n",
      "72702       1\n",
      "85506       2\n",
      "86074       3\n",
      "87981       1\n",
      "91249       1\n",
      "101998      1\n",
      "111856      1\n",
      "115667      1\n",
      "132621      1\n",
      "149633      1\n",
      "158386      1\n",
      "165852      1\n",
      "Name: ESTU_IES_COD_DESEADA, dtype: int64\n",
      "Elementos null/NaN 83311\n",
      "__________________\n",
      "Elementos diferentes de null/NaN: 2266\n",
      "__________________\n",
      "(2266,)\n",
      "None\n"
     ]
    }
   ],
   "source": [
    "c = 'ESTU_IES_COD_DESEADA'\n",
    "print(data_2013[c].value_counts().sort_index().index)\n",
    "print(data_2013[c].value_counts().sort_index())\n",
    "print(missing_data(data_2013[c]))"
   ]
  },
  {
   "cell_type": "code",
   "execution_count": 372,
   "metadata": {
    "collapsed": true
   },
   "outputs": [],
   "source": [
    "data_2013[c].fillna(method='bfill', inplace=True)\n",
    "data_2013[c].fillna(method='ffill', inplace=True)"
   ]
  },
  {
   "cell_type": "code",
   "execution_count": 373,
   "metadata": {
    "collapsed": false,
    "scrolled": true
   },
   "outputs": [
    {
     "name": "stdout",
     "output_type": "stream",
     "text": [
      "Index(['ANTIOQUIA', 'ARAUCA', 'ATLÁNTICO', 'BOGOTÁ', 'BOLÍVAR', 'BOYACÁ',\n",
      "       'CALDAS', 'CAQUETÁ', 'CAUCA', 'CESAR', 'CHOCÓ', 'CUNDINAMARCA',\n",
      "       'CÓRDOBA', 'HUILA', 'LA GUAJIRA', 'MAGDALENA', 'META', 'NARIÑO',\n",
      "       'NORTE SANTANDER', 'QUINDÍO', 'RISARALDA', 'SAN ANDRÉS', 'SANTANDER',\n",
      "       'SUCRE', 'TOLIMA', 'VALLE'],\n",
      "      dtype='object')\n",
      "ANTIOQUIA           95\n",
      "ARAUCA               1\n",
      "ATLÁNTICO           23\n",
      "BOGOTÁ             673\n",
      "BOLÍVAR             19\n",
      "BOYACÁ             138\n",
      "CALDAS              90\n",
      "CAQUETÁ              2\n",
      "CAUCA               66\n",
      "CESAR                3\n",
      "CHOCÓ                1\n",
      "CUNDINAMARCA        30\n",
      "CÓRDOBA             10\n",
      "HUILA              143\n",
      "LA GUAJIRA           3\n",
      "MAGDALENA            7\n",
      "META                18\n",
      "NARIÑO             169\n",
      "NORTE SANTANDER     22\n",
      "QUINDÍO             39\n",
      "RISARALDA           52\n",
      "SAN ANDRÉS           1\n",
      "SANTANDER          264\n",
      "SUCRE                3\n",
      "TOLIMA              66\n",
      "VALLE              328\n",
      "Name: ESTU_IES_DEPT_DESEADA, dtype: int64\n",
      "Elementos null/NaN 83311\n",
      "__________________\n",
      "Elementos diferentes de null/NaN: 2266\n",
      "__________________\n",
      "(2266,)\n",
      "None\n"
     ]
    }
   ],
   "source": [
    "c = 'ESTU_IES_DEPT_DESEADA'\n",
    "print(data_2013[c].value_counts().sort_index().index)\n",
    "print(data_2013[c].value_counts().sort_index())\n",
    "print(missing_data(data_2013[c]))"
   ]
  },
  {
   "cell_type": "code",
   "execution_count": 374,
   "metadata": {
    "collapsed": true
   },
   "outputs": [],
   "source": [
    "data_2013[c].fillna(method='bfill', inplace=True)\n",
    "data_2013[c].fillna(method='ffill', inplace=True)"
   ]
  },
  {
   "cell_type": "code",
   "execution_count": 375,
   "metadata": {
    "collapsed": false,
    "scrolled": true
   },
   "outputs": [
    {
     "name": "stdout",
     "output_type": "stream",
     "text": [
      "Index(['AMAGA', 'ANDES', 'APARTADO', 'ARAUCA', 'ARMENIA', 'BARRANCABERMEJA',\n",
      "       'BARRANQUILLA', 'BELLO', 'BOGOTÁ D.C.', 'BUCARAMANGA', 'BUENAVENTURA',\n",
      "       'CALI', 'CARTAGENA', 'CARTAGO', 'CHIA', 'CISNEROS', 'COTA', 'CUCUTA',\n",
      "       'DAGUA', 'DUITAMA', 'ESPINAL', 'FLORENCIA', 'FLORIAN', 'FUSAGASUGA',\n",
      "       'GIRARDOT', 'IBAGUE', 'LA CUMBRE', 'MADRID', 'MANIZALES', 'MEDELLIN',\n",
      "       'MONTERIA', 'NEIVA', 'OCAÑA', 'PALMIRA', 'PAMPLONA', 'PASTO', 'PEREIRA',\n",
      "       'PIEDECUESTA', 'POPAYAN', 'QUIBDO', 'RIOHACHA', 'RIONEGRO',\n",
      "       'SAN ANDRES', 'SAN GIL', 'SANTA MARTA', 'SANTA ROSA DE CABAL',\n",
      "       'SINCELEJO', 'SOCORRO', 'SOGAMOSO', 'SOLEDAD', 'TULUA', 'TUMACO',\n",
      "       'TUNJA', 'VALLEDUPAR', 'VILLAVICENCIO'],\n",
      "      dtype='object')\n",
      "AMAGA                    1\n",
      "ANDES                    1\n",
      "APARTADO                 1\n",
      "ARAUCA                   1\n",
      "ARMENIA                 39\n",
      "BARRANCABERMEJA          3\n",
      "BARRANQUILLA            22\n",
      "BELLO                    2\n",
      "BOGOTÁ D.C.            673\n",
      "BUCARAMANGA            256\n",
      "BUENAVENTURA             2\n",
      "CALI                   311\n",
      "CARTAGENA               19\n",
      "CARTAGO                  1\n",
      "CHIA                    13\n",
      "CISNEROS                 3\n",
      "COTA                     4\n",
      "CUCUTA                  13\n",
      "DAGUA                    1\n",
      "DUITAMA                  4\n",
      "ESPINAL                  2\n",
      "FLORENCIA                2\n",
      "FLORIAN                  1\n",
      "FUSAGASUGA               9\n",
      "GIRARDOT                 2\n",
      "IBAGUE                  64\n",
      "LA CUMBRE                1\n",
      "MADRID                   2\n",
      "MANIZALES               90\n",
      "MEDELLIN                86\n",
      "MONTERIA                10\n",
      "NEIVA                  143\n",
      "OCAÑA                    1\n",
      "PALMIRA                  2\n",
      "PAMPLONA                 8\n",
      "PASTO                  168\n",
      "PEREIRA                 51\n",
      "PIEDECUESTA              1\n",
      "POPAYAN                 66\n",
      "QUIBDO                   1\n",
      "RIOHACHA                 3\n",
      "RIONEGRO                 1\n",
      "SAN ANDRES               1\n",
      "SAN GIL                  1\n",
      "SANTA MARTA              7\n",
      "SANTA ROSA DE CABAL      1\n",
      "SINCELEJO                3\n",
      "SOCORRO                  2\n",
      "SOGAMOSO                52\n",
      "SOLEDAD                  1\n",
      "TULUA                   10\n",
      "TUMACO                   1\n",
      "TUNJA                   82\n",
      "VALLEDUPAR               3\n",
      "VILLAVICENCIO           18\n",
      "Name: ESTU_IES_MPIO_DESEADA, dtype: int64\n",
      "Elementos null/NaN 83311\n",
      "__________________\n",
      "Elementos diferentes de null/NaN: 2266\n",
      "__________________\n",
      "(2266,)\n",
      "None\n"
     ]
    }
   ],
   "source": [
    "c = 'ESTU_IES_MPIO_DESEADA'\n",
    "print(data_2013[c].value_counts().sort_index().index)\n",
    "print(data_2013[c].value_counts().sort_index())\n",
    "print(missing_data(data_2013[c]))"
   ]
  },
  {
   "cell_type": "code",
   "execution_count": 376,
   "metadata": {
    "collapsed": true
   },
   "outputs": [],
   "source": [
    "data_2013[c].fillna(method='bfill', inplace=True)\n",
    "data_2013[c].fillna(method='ffill', inplace=True)"
   ]
  },
  {
   "cell_type": "code",
   "execution_count": 377,
   "metadata": {
    "collapsed": false,
    "scrolled": true
   },
   "outputs": [
    {
     "name": "stdout",
     "output_type": "stream",
     "text": [
      "Float64Index([ 1.0,  2.0,  3.0,  4.0,  5.0,  6.0,  7.0,  8.0,  9.0, 10.0, 11.0,\n",
      "              12.0, 13.0, 14.0, 15.0, 16.0, 17.0, 18.0, 19.0, 20.0, 21.0, 22.0,\n",
      "              23.0, 24.0, 25.0, 26.0, 27.0, 28.0, 29.0, 30.0, 31.0, 32.0, 33.0,\n",
      "              34.0, 35.0, 36.0, 37.0, 38.0, 39.0, 40.0, 41.0, 42.0, 43.0, 44.0,\n",
      "              45.0, 46.0, 47.0, 48.0, 49.0, 50.0, 51.0, 52.0, 53.0, 54.0, 56.0,\n",
      "              57.0, 58.0, 60.0, 61.0, 63.0, 64.0, 65.0, 70.0, 80.0, 81.0, 86.0,\n",
      "              90.0, 94.0, 96.0, 99.0],\n",
      "             dtype='float64')\n",
      "1       2\n",
      "2       1\n",
      "3      10\n",
      "4      10\n",
      "5      15\n",
      "6      18\n",
      "7      26\n",
      "8      20\n",
      "9      14\n",
      "10     54\n",
      "11     20\n",
      "12     48\n",
      "13     38\n",
      "14     49\n",
      "15    125\n",
      "16     55\n",
      "17     69\n",
      "18     79\n",
      "19     43\n",
      "20    189\n",
      "21     73\n",
      "22     79\n",
      "23     81\n",
      "24     76\n",
      "25    222\n",
      "26     67\n",
      "27     95\n",
      "28    105\n",
      "29     58\n",
      "30    224\n",
      "     ... \n",
      "41     24\n",
      "42     34\n",
      "43     27\n",
      "44      6\n",
      "45     29\n",
      "46      8\n",
      "47      3\n",
      "48      9\n",
      "49      5\n",
      "50     16\n",
      "51     11\n",
      "52      4\n",
      "53      7\n",
      "54      9\n",
      "56      1\n",
      "57      3\n",
      "58      7\n",
      "60     14\n",
      "61      1\n",
      "63      7\n",
      "64      1\n",
      "65      1\n",
      "70      1\n",
      "80      2\n",
      "81      8\n",
      "86      2\n",
      "90      8\n",
      "94      5\n",
      "96      1\n",
      "99      1\n",
      "Name: ESTU_TOTAL_ALUMNOS_CURSO, dtype: int64\n",
      "Elementos null/NaN 82604\n",
      "__________________\n",
      "Elementos diferentes de null/NaN: 2973\n",
      "__________________\n",
      "(2973,)\n",
      "None\n"
     ]
    }
   ],
   "source": [
    "c = 'ESTU_TOTAL_ALUMNOS_CURSO'\n",
    "print(data_2013[c].value_counts().sort_index().index)\n",
    "print(data_2013[c].value_counts().sort_index())\n",
    "print(missing_data(data_2013[c]))"
   ]
  },
  {
   "cell_type": "code",
   "execution_count": 378,
   "metadata": {
    "collapsed": false
   },
   "outputs": [
    {
     "name": "stdout",
     "output_type": "stream",
     "text": [
      "cant null antes: 82604\n",
      "cant null despues: 0\n"
     ]
    }
   ],
   "source": [
    "Do_resamples(data_2013, c, float)"
   ]
  },
  {
   "cell_type": "code",
   "execution_count": 379,
   "metadata": {
    "collapsed": false,
    "scrolled": true
   },
   "outputs": [
    {
     "name": "stdout",
     "output_type": "stream",
     "text": [
      "Float64Index([1985.0, 1986.0, 1987.0, 1988.0, 1989.0, 1990.0, 1991.0, 1992.0,\n",
      "              1993.0, 1994.0, 1995.0, 1996.0, 1997.0, 1998.0, 1999.0, 2000.0,\n",
      "              2001.0, 2002.0],\n",
      "             dtype='float64')\n",
      "1985     127\n",
      "1986      12\n",
      "1987       9\n",
      "1988      15\n",
      "1989      11\n",
      "1990      18\n",
      "1991      22\n",
      "1992      14\n",
      "1993      12\n",
      "1994      28\n",
      "1995      55\n",
      "1996      84\n",
      "1997      86\n",
      "1998     115\n",
      "1999     190\n",
      "2000     435\n",
      "2001     621\n",
      "2002    1121\n",
      "Name: ESTU_ANO_MATRICULA_PRIMERO, dtype: int64\n",
      "Elementos null/NaN 82602\n",
      "__________________\n",
      "Elementos diferentes de null/NaN: 2975\n",
      "__________________\n",
      "(2975,)\n",
      "None\n"
     ]
    }
   ],
   "source": [
    "c = 'ESTU_ANO_MATRICULA_PRIMERO'\n",
    "print(data_2013[c].value_counts().sort_index().index)\n",
    "print(data_2013[c].value_counts().sort_index())\n",
    "print(missing_data(data_2013[c]))"
   ]
  },
  {
   "cell_type": "code",
   "execution_count": 380,
   "metadata": {
    "collapsed": false
   },
   "outputs": [
    {
     "name": "stdout",
     "output_type": "stream",
     "text": [
      "cant null antes: 82602\n",
      "cant null despues: 2\n",
      "cant null antes: 2\n",
      "cant null despues: 0\n"
     ]
    }
   ],
   "source": [
    "Do_resamples(data_2013, c, float)"
   ]
  },
  {
   "cell_type": "code",
   "execution_count": 381,
   "metadata": {
    "collapsed": false,
    "scrolled": true
   },
   "outputs": [
    {
     "name": "stdout",
     "output_type": "stream",
     "text": [
      "Float64Index([1986.0, 1987.0, 1988.0, 1989.0, 1990.0, 1991.0, 1992.0, 1993.0,\n",
      "              1994.0, 1995.0, 1996.0, 1997.0, 1998.0, 1999.0, 2000.0, 2001.0,\n",
      "              2002.0, 2003.0, 2004.0, 2005.0, 2006.0, 2007.0],\n",
      "             dtype='float64')\n",
      "1986     68\n",
      "1987      8\n",
      "1988      9\n",
      "1989      9\n",
      "1990     17\n",
      "1991     15\n",
      "1992      8\n",
      "1993     13\n",
      "1994     11\n",
      "1995     15\n",
      "1996     25\n",
      "1997     24\n",
      "1998     16\n",
      "1999     41\n",
      "2000     63\n",
      "2001     82\n",
      "2002     71\n",
      "2003     87\n",
      "2004    150\n",
      "2005    584\n",
      "2006    826\n",
      "2007    833\n",
      "Name: ESTU_ANO_TERMINO_QUINTO, dtype: int64\n",
      "Elementos null/NaN 82602\n",
      "__________________\n",
      "Elementos diferentes de null/NaN: 2975\n",
      "__________________\n",
      "(2975,)\n",
      "None\n"
     ]
    }
   ],
   "source": [
    "c = 'ESTU_ANO_TERMINO_QUINTO'\n",
    "print(data_2013[c].value_counts().sort_index().index)\n",
    "print(data_2013[c].value_counts().sort_index())\n",
    "print(missing_data(data_2013[c]))"
   ]
  },
  {
   "cell_type": "code",
   "execution_count": 382,
   "metadata": {
    "collapsed": false
   },
   "outputs": [
    {
     "name": "stdout",
     "output_type": "stream",
     "text": [
      "cant null antes: 82602\n",
      "cant null despues: 2\n",
      "cant null antes: 2\n",
      "cant null despues: 0\n"
     ]
    }
   ],
   "source": [
    "Do_resamples(data_2013, c, float)"
   ]
  },
  {
   "cell_type": "code",
   "execution_count": 383,
   "metadata": {
    "collapsed": false
   },
   "outputs": [
    {
     "name": "stdout",
     "output_type": "stream",
     "text": [
      "Float64Index([1.0, 2.0, 3.0, 4.0, 5.0, 6.0, 7.0, 8.0], dtype='float64')\n",
      "1    898\n",
      "2    514\n",
      "3    279\n",
      "4    128\n",
      "5    110\n",
      "6    212\n",
      "7    140\n",
      "8    692\n",
      "Name: ESTU_ANOS_COLEGIO_ACTUAL, dtype: int64\n",
      "Elementos null/NaN 82604\n",
      "__________________\n",
      "Elementos diferentes de null/NaN: 2973\n",
      "__________________\n",
      "(2973,)\n",
      "None\n"
     ]
    }
   ],
   "source": [
    "c = 'ESTU_ANOS_COLEGIO_ACTUAL'\n",
    "print(data_2013[c].value_counts().sort_index().index)\n",
    "print(data_2013[c].value_counts().sort_index())\n",
    "print(missing_data(data_2013[c]))"
   ]
  },
  {
   "cell_type": "code",
   "execution_count": 384,
   "metadata": {
    "collapsed": false
   },
   "outputs": [
    {
     "name": "stdout",
     "output_type": "stream",
     "text": [
      "cant null antes: 82604\n",
      "cant null despues: 1\n",
      "cant null antes: 1\n",
      "cant null despues: 0\n"
     ]
    }
   ],
   "source": [
    "Do_resamples(data_2013, c, float)"
   ]
  },
  {
   "cell_type": "code",
   "execution_count": 385,
   "metadata": {
    "collapsed": false,
    "scrolled": true
   },
   "outputs": [
    {
     "name": "stdout",
     "output_type": "stream",
     "text": [
      "Float64Index([1987.0, 1988.0, 1989.0, 1990.0, 1991.0, 1992.0, 1993.0, 1994.0,\n",
      "              1995.0, 1996.0, 1997.0, 1998.0, 1999.0, 2000.0, 2001.0, 2002.0,\n",
      "              2003.0, 2004.0, 2005.0, 2006.0, 2007.0, 2008.0],\n",
      "             dtype='float64')\n",
      "1987     46\n",
      "1988      8\n",
      "1989      5\n",
      "1990      8\n",
      "1991     11\n",
      "1992     16\n",
      "1993      6\n",
      "1994      9\n",
      "1995     13\n",
      "1996     11\n",
      "1997     25\n",
      "1998     18\n",
      "1999     13\n",
      "2000     40\n",
      "2001     50\n",
      "2002     66\n",
      "2003     71\n",
      "2004     84\n",
      "2005    125\n",
      "2006    573\n",
      "2007    847\n",
      "2008    928\n",
      "Name: ESTU_ANO_MATRICULA_SEXTO, dtype: int64\n",
      "Elementos null/NaN 82604\n",
      "__________________\n",
      "Elementos diferentes de null/NaN: 2973\n",
      "__________________\n",
      "(2973,)\n",
      "None\n"
     ]
    }
   ],
   "source": [
    "c = 'ESTU_ANO_MATRICULA_SEXTO'\n",
    "print(data_2013[c].value_counts().sort_index().index)\n",
    "print(data_2013[c].value_counts().sort_index())\n",
    "print(missing_data(data_2013[c]))"
   ]
  },
  {
   "cell_type": "code",
   "execution_count": 386,
   "metadata": {
    "collapsed": false
   },
   "outputs": [
    {
     "name": "stdout",
     "output_type": "stream",
     "text": [
      "cant null antes: 82604\n",
      "cant null despues: 0\n"
     ]
    }
   ],
   "source": [
    "Do_resamples(data_2013, c, float)"
   ]
  },
  {
   "cell_type": "code",
   "execution_count": 387,
   "metadata": {
    "collapsed": false
   },
   "outputs": [
    {
     "name": "stdout",
     "output_type": "stream",
     "text": [
      "Float64Index([0.0, 1.0, 2.0, 3.0], dtype='float64')\n",
      "0    430\n",
      "1    952\n",
      "2    637\n",
      "3    954\n",
      "Name: ESTU_ANOS_PREESCOLAR, dtype: int64\n",
      "Elementos null/NaN 82604\n",
      "__________________\n",
      "Elementos diferentes de null/NaN: 2973\n",
      "__________________\n",
      "(2973,)\n",
      "None\n"
     ]
    }
   ],
   "source": [
    "c = 'ESTU_ANOS_PREESCOLAR'\n",
    "print(data_2013[c].value_counts().sort_index().index)\n",
    "print(data_2013[c].value_counts().sort_index())\n",
    "print(missing_data(data_2013[c]))"
   ]
  },
  {
   "cell_type": "code",
   "execution_count": 388,
   "metadata": {
    "collapsed": false
   },
   "outputs": [
    {
     "name": "stdout",
     "output_type": "stream",
     "text": [
      "cant null antes: 82604\n",
      "cant null despues: 0\n"
     ]
    }
   ],
   "source": [
    "Do_resamples(data_2013, c, float)"
   ]
  },
  {
   "cell_type": "code",
   "execution_count": 389,
   "metadata": {
    "collapsed": false
   },
   "outputs": [
    {
     "name": "stdout",
     "output_type": "stream",
     "text": [
      "Float64Index([1.0, 2.0, 3.0], dtype='float64')\n",
      "1    1806\n",
      "2     754\n",
      "3     413\n",
      "Name: ESTU_CUANTOS_COLE_ESTUDIO, dtype: int64\n",
      "Elementos null/NaN 82604\n",
      "__________________\n",
      "Elementos diferentes de null/NaN: 2973\n",
      "__________________\n",
      "(2973,)\n",
      "None\n"
     ]
    }
   ],
   "source": [
    "c = 'ESTU_CUANTOS_COLE_ESTUDIO'\n",
    "print(data_2013[c].value_counts().sort_index().index)\n",
    "print(data_2013[c].value_counts().sort_index())\n",
    "print(missing_data(data_2013[c]))"
   ]
  },
  {
   "cell_type": "code",
   "execution_count": 390,
   "metadata": {
    "collapsed": false
   },
   "outputs": [
    {
     "name": "stdout",
     "output_type": "stream",
     "text": [
      "cant null antes: 82604\n",
      "cant null despues: 0\n"
     ]
    }
   ],
   "source": [
    "Do_resamples(data_2013, c, float)"
   ]
  },
  {
   "cell_type": "code",
   "execution_count": 391,
   "metadata": {
    "collapsed": false
   },
   "outputs": [
    {
     "name": "stdout",
     "output_type": "stream",
     "text": [
      "Float64Index([], dtype='float64')\n",
      "Series([], Name: ESTU_REPROBO_CUARTO, dtype: int64)\n",
      "Elementos null/NaN 85577\n",
      "__________________\n",
      "Elementos diferentes de null/NaN: 0\n",
      "__________________\n",
      "(0,)\n",
      "None\n"
     ]
    }
   ],
   "source": [
    "c = 'ESTU_REPROBO_CUARTO'\n",
    "print(data_2013[c].value_counts().sort_index().index)\n",
    "print(data_2013[c].value_counts().sort_index())\n",
    "print(missing_data(data_2013[c]))"
   ]
  },
  {
   "cell_type": "code",
   "execution_count": 392,
   "metadata": {
    "collapsed": true
   },
   "outputs": [],
   "source": [
    "data_2013 = data_2013.drop([c], axis=1)"
   ]
  },
  {
   "cell_type": "code",
   "execution_count": 393,
   "metadata": {
    "collapsed": false
   },
   "outputs": [
    {
     "name": "stdout",
     "output_type": "stream",
     "text": [
      "Float64Index([], dtype='float64')\n",
      "Series([], Name: ESTU_REPROBO_DECIMO, dtype: int64)\n",
      "Elementos null/NaN 85577\n",
      "__________________\n",
      "Elementos diferentes de null/NaN: 0\n",
      "__________________\n",
      "(0,)\n",
      "None\n"
     ]
    }
   ],
   "source": [
    "c = 'ESTU_REPROBO_DECIMO'\n",
    "print(data_2013[c].value_counts().sort_index().index)\n",
    "print(data_2013[c].value_counts().sort_index())\n",
    "print(missing_data(data_2013[c]))"
   ]
  },
  {
   "cell_type": "code",
   "execution_count": 394,
   "metadata": {
    "collapsed": true
   },
   "outputs": [],
   "source": [
    "data_2013 = data_2013.drop([c], axis=1)"
   ]
  },
  {
   "cell_type": "code",
   "execution_count": 395,
   "metadata": {
    "collapsed": false
   },
   "outputs": [
    {
     "name": "stdout",
     "output_type": "stream",
     "text": [
      "Float64Index([], dtype='float64')\n",
      "Series([], Name: ESTU_REPROBO_NOVENO, dtype: int64)\n",
      "Elementos null/NaN 85577\n",
      "__________________\n",
      "Elementos diferentes de null/NaN: 0\n",
      "__________________\n",
      "(0,)\n",
      "None\n"
     ]
    }
   ],
   "source": [
    "c = 'ESTU_REPROBO_NOVENO'\n",
    "print(data_2013[c].value_counts().sort_index().index)\n",
    "print(data_2013[c].value_counts().sort_index())\n",
    "print(missing_data(data_2013[c]))"
   ]
  },
  {
   "cell_type": "code",
   "execution_count": 396,
   "metadata": {
    "collapsed": true
   },
   "outputs": [],
   "source": [
    "data_2013 = data_2013.drop([c], axis=1)"
   ]
  },
  {
   "cell_type": "code",
   "execution_count": 397,
   "metadata": {
    "collapsed": false
   },
   "outputs": [
    {
     "name": "stdout",
     "output_type": "stream",
     "text": [
      "Float64Index([], dtype='float64')\n",
      "Series([], Name: ESTU_REPROBO_OCTAVO, dtype: int64)\n",
      "Elementos null/NaN 85577\n",
      "__________________\n",
      "Elementos diferentes de null/NaN: 0\n",
      "__________________\n",
      "(0,)\n",
      "None\n"
     ]
    }
   ],
   "source": [
    "c = 'ESTU_REPROBO_OCTAVO'\n",
    "print(data_2013[c].value_counts().sort_index().index)\n",
    "print(data_2013[c].value_counts().sort_index())\n",
    "print(missing_data(data_2013[c]))"
   ]
  },
  {
   "cell_type": "code",
   "execution_count": 398,
   "metadata": {
    "collapsed": true
   },
   "outputs": [],
   "source": [
    "data_2013 = data_2013.drop([c], axis=1)"
   ]
  },
  {
   "cell_type": "code",
   "execution_count": 399,
   "metadata": {
    "collapsed": false
   },
   "outputs": [
    {
     "name": "stdout",
     "output_type": "stream",
     "text": [
      "Float64Index([], dtype='float64')\n",
      "Series([], Name: ESTU_REPROBO_PRIMERO, dtype: int64)\n",
      "Elementos null/NaN 85577\n",
      "__________________\n",
      "Elementos diferentes de null/NaN: 0\n",
      "__________________\n",
      "(0,)\n",
      "None\n"
     ]
    }
   ],
   "source": [
    "c = 'ESTU_REPROBO_PRIMERO'\n",
    "print(data_2013[c].value_counts().sort_index().index)\n",
    "print(data_2013[c].value_counts().sort_index())\n",
    "print(missing_data(data_2013[c]))"
   ]
  },
  {
   "cell_type": "code",
   "execution_count": 400,
   "metadata": {
    "collapsed": true
   },
   "outputs": [],
   "source": [
    "data_2013 = data_2013.drop([c], axis=1)"
   ]
  },
  {
   "cell_type": "code",
   "execution_count": 401,
   "metadata": {
    "collapsed": false
   },
   "outputs": [
    {
     "name": "stdout",
     "output_type": "stream",
     "text": [
      "Float64Index([], dtype='float64')\n",
      "Series([], Name: ESTU_REPROBO_QUINTO, dtype: int64)\n",
      "Elementos null/NaN 85577\n",
      "__________________\n",
      "Elementos diferentes de null/NaN: 0\n",
      "__________________\n",
      "(0,)\n",
      "None\n"
     ]
    }
   ],
   "source": [
    "c = 'ESTU_REPROBO_QUINTO'\n",
    "print(data_2013[c].value_counts().sort_index().index)\n",
    "print(data_2013[c].value_counts().sort_index())\n",
    "print(missing_data(data_2013[c]))"
   ]
  },
  {
   "cell_type": "code",
   "execution_count": 402,
   "metadata": {
    "collapsed": true
   },
   "outputs": [],
   "source": [
    "data_2013 = data_2013.drop([c], axis=1)"
   ]
  },
  {
   "cell_type": "code",
   "execution_count": 403,
   "metadata": {
    "collapsed": false
   },
   "outputs": [
    {
     "name": "stdout",
     "output_type": "stream",
     "text": [
      "Float64Index([], dtype='float64')\n",
      "Series([], Name: ESTU_REPROBO_SEGUNDO, dtype: int64)\n",
      "Elementos null/NaN 85577\n",
      "__________________\n",
      "Elementos diferentes de null/NaN: 0\n",
      "__________________\n",
      "(0,)\n",
      "None\n"
     ]
    }
   ],
   "source": [
    "c = 'ESTU_REPROBO_SEGUNDO'\n",
    "print(data_2013[c].value_counts().sort_index().index)\n",
    "print(data_2013[c].value_counts().sort_index())\n",
    "print(missing_data(data_2013[c]))"
   ]
  },
  {
   "cell_type": "code",
   "execution_count": 404,
   "metadata": {
    "collapsed": true
   },
   "outputs": [],
   "source": [
    "data_2013 = data_2013.drop([c], axis=1)"
   ]
  },
  {
   "cell_type": "code",
   "execution_count": 405,
   "metadata": {
    "collapsed": false
   },
   "outputs": [
    {
     "name": "stdout",
     "output_type": "stream",
     "text": [
      "Float64Index([], dtype='float64')\n",
      "Series([], Name: ESTU_REPROBO_SEPTIMO, dtype: int64)\n",
      "Elementos null/NaN 85577\n",
      "__________________\n",
      "Elementos diferentes de null/NaN: 0\n",
      "__________________\n",
      "(0,)\n",
      "None\n"
     ]
    }
   ],
   "source": [
    "c = 'ESTU_REPROBO_SEPTIMO'\n",
    "print(data_2013[c].value_counts().sort_index().index)\n",
    "print(data_2013[c].value_counts().sort_index())\n",
    "print(missing_data(data_2013[c]))"
   ]
  },
  {
   "cell_type": "code",
   "execution_count": 406,
   "metadata": {
    "collapsed": true
   },
   "outputs": [],
   "source": [
    "data_2013 = data_2013.drop([c], axis=1)"
   ]
  },
  {
   "cell_type": "code",
   "execution_count": 407,
   "metadata": {
    "collapsed": false
   },
   "outputs": [
    {
     "name": "stdout",
     "output_type": "stream",
     "text": [
      "Float64Index([], dtype='float64')\n",
      "Series([], Name: ESTU_REPROBO_SEXTO, dtype: int64)\n",
      "Elementos null/NaN 85577\n",
      "__________________\n",
      "Elementos diferentes de null/NaN: 0\n",
      "__________________\n",
      "(0,)\n",
      "None\n"
     ]
    }
   ],
   "source": [
    "c = 'ESTU_REPROBO_SEXTO'\n",
    "print(data_2013[c].value_counts().sort_index().index)\n",
    "print(data_2013[c].value_counts().sort_index())\n",
    "print(missing_data(data_2013[c]))"
   ]
  },
  {
   "cell_type": "code",
   "execution_count": 408,
   "metadata": {
    "collapsed": true
   },
   "outputs": [],
   "source": [
    "data_2013 = data_2013.drop([c], axis=1)"
   ]
  },
  {
   "cell_type": "code",
   "execution_count": 409,
   "metadata": {
    "collapsed": false
   },
   "outputs": [
    {
     "name": "stdout",
     "output_type": "stream",
     "text": [
      "Float64Index([], dtype='float64')\n",
      "Series([], Name: ESTU_REPROBO_TERCERO, dtype: int64)\n",
      "Elementos null/NaN 85577\n",
      "__________________\n",
      "Elementos diferentes de null/NaN: 0\n",
      "__________________\n",
      "(0,)\n",
      "None\n"
     ]
    }
   ],
   "source": [
    "c = 'ESTU_REPROBO_TERCERO'\n",
    "print(data_2013[c].value_counts().sort_index().index)\n",
    "print(data_2013[c].value_counts().sort_index())\n",
    "print(missing_data(data_2013[c]))"
   ]
  },
  {
   "cell_type": "code",
   "execution_count": 410,
   "metadata": {
    "collapsed": true
   },
   "outputs": [],
   "source": [
    "data_2013 = data_2013.drop([c], axis=1)"
   ]
  },
  {
   "cell_type": "code",
   "execution_count": 411,
   "metadata": {
    "collapsed": false
   },
   "outputs": [
    {
     "name": "stdout",
     "output_type": "stream",
     "text": [
      "Float64Index([], dtype='float64')\n",
      "Series([], Name: ESTU_REPROBO_ONCE_MAS, dtype: int64)\n",
      "Elementos null/NaN 85577\n",
      "__________________\n",
      "Elementos diferentes de null/NaN: 0\n",
      "__________________\n",
      "(0,)\n",
      "None\n"
     ]
    }
   ],
   "source": [
    "c = 'ESTU_REPROBO_ONCE_MAS'\n",
    "print(data_2013[c].value_counts().sort_index().index)\n",
    "print(data_2013[c].value_counts().sort_index())\n",
    "print(missing_data(data_2013[c]))"
   ]
  },
  {
   "cell_type": "code",
   "execution_count": 412,
   "metadata": {
    "collapsed": true
   },
   "outputs": [],
   "source": [
    "data_2013 = data_2013.drop([c], axis=1)"
   ]
  },
  {
   "cell_type": "code",
   "execution_count": 413,
   "metadata": {
    "collapsed": false
   },
   "outputs": [
    {
     "name": "stdout",
     "output_type": "stream",
     "text": [
      "Index(['-'], dtype='object')\n",
      "-    85577\n",
      "Name: ESTU_POR_MEJORARPOSICIONSOCIAL, dtype: int64\n",
      "Elementos null/NaN 0\n",
      "__________________\n",
      "Elementos diferentes de null/NaN: 85577\n",
      "__________________\n",
      "(85577,)\n",
      "None\n"
     ]
    }
   ],
   "source": [
    "c = 'ESTU_POR_MEJORARPOSICIONSOCIAL'\n",
    "print(data_2013[c].value_counts().sort_index().index)\n",
    "print(data_2013[c].value_counts().sort_index())\n",
    "print(missing_data(data_2013[c]))"
   ]
  },
  {
   "cell_type": "code",
   "execution_count": 414,
   "metadata": {
    "collapsed": true
   },
   "outputs": [],
   "source": [
    "data_2013 = data_2013.drop([c], axis=1)"
   ]
  },
  {
   "cell_type": "code",
   "execution_count": 415,
   "metadata": {
    "collapsed": false
   },
   "outputs": [
    {
     "name": "stdout",
     "output_type": "stream",
     "text": [
      "Index(['-'], dtype='object')\n",
      "-    85577\n",
      "Name: ESTU_POR_COLOMBIAAPRENDE, dtype: int64\n",
      "Elementos null/NaN 0\n",
      "__________________\n",
      "Elementos diferentes de null/NaN: 85577\n",
      "__________________\n",
      "(85577,)\n",
      "None\n"
     ]
    }
   ],
   "source": [
    "c = 'ESTU_POR_COLOMBIAAPRENDE'\n",
    "print(data_2013[c].value_counts().sort_index().index)\n",
    "print(data_2013[c].value_counts().sort_index())\n",
    "print(missing_data(data_2013[c]))"
   ]
  },
  {
   "cell_type": "code",
   "execution_count": 416,
   "metadata": {
    "collapsed": true
   },
   "outputs": [],
   "source": [
    "data_2013 = data_2013.drop([c], axis=1)"
   ]
  },
  {
   "cell_type": "code",
   "execution_count": 417,
   "metadata": {
    "collapsed": false
   },
   "outputs": [
    {
     "name": "stdout",
     "output_type": "stream",
     "text": [
      "Float64Index([], dtype='float64')\n",
      "Series([], Name: ESTU_POR_INFLUENCIAALGUIEN, dtype: int64)\n",
      "Elementos null/NaN 85577\n",
      "__________________\n",
      "Elementos diferentes de null/NaN: 0\n",
      "__________________\n",
      "(0,)\n",
      "None\n"
     ]
    }
   ],
   "source": [
    "c = 'ESTU_POR_INFLUENCIAALGUIEN'\n",
    "print(data_2013[c].value_counts().sort_index().index)\n",
    "print(data_2013[c].value_counts().sort_index())\n",
    "print(missing_data(data_2013[c]))"
   ]
  },
  {
   "cell_type": "code",
   "execution_count": 418,
   "metadata": {
    "collapsed": true
   },
   "outputs": [],
   "source": [
    "data_2013 = data_2013.drop([c], axis=1)"
   ]
  },
  {
   "cell_type": "code",
   "execution_count": 419,
   "metadata": {
    "collapsed": false
   },
   "outputs": [
    {
     "name": "stdout",
     "output_type": "stream",
     "text": [
      "Index(['-'], dtype='object')\n",
      "-    85577\n",
      "Name: ESTU_POR_INTERESPERSONAL, dtype: int64\n",
      "Elementos null/NaN 0\n",
      "__________________\n",
      "Elementos diferentes de null/NaN: 85577\n",
      "__________________\n",
      "(85577,)\n",
      "None\n"
     ]
    }
   ],
   "source": [
    "c = 'ESTU_POR_INTERESPERSONAL'\n",
    "print(data_2013[c].value_counts().sort_index().index)\n",
    "print(data_2013[c].value_counts().sort_index())\n",
    "print(missing_data(data_2013[c]))"
   ]
  },
  {
   "cell_type": "code",
   "execution_count": 420,
   "metadata": {
    "collapsed": true
   },
   "outputs": [],
   "source": [
    "data_2013 = data_2013.drop([c], axis=1)"
   ]
  },
  {
   "cell_type": "code",
   "execution_count": 421,
   "metadata": {
    "collapsed": false
   },
   "outputs": [
    {
     "name": "stdout",
     "output_type": "stream",
     "text": [
      "Index(['-'], dtype='object')\n",
      "-    85577\n",
      "Name: ESTU_POR_BUSCANDOCARRERA, dtype: int64\n",
      "Elementos null/NaN 0\n",
      "__________________\n",
      "Elementos diferentes de null/NaN: 85577\n",
      "__________________\n",
      "(85577,)\n",
      "None\n"
     ]
    }
   ],
   "source": [
    "c = 'ESTU_POR_BUSCANDOCARRERA'\n",
    "print(data_2013[c].value_counts().sort_index().index)\n",
    "print(data_2013[c].value_counts().sort_index())\n",
    "print(missing_data(data_2013[c]))"
   ]
  },
  {
   "cell_type": "code",
   "execution_count": 422,
   "metadata": {
    "collapsed": true
   },
   "outputs": [],
   "source": [
    "data_2013 = data_2013.drop([c], axis=1)"
   ]
  },
  {
   "cell_type": "code",
   "execution_count": 423,
   "metadata": {
    "collapsed": false
   },
   "outputs": [
    {
     "name": "stdout",
     "output_type": "stream",
     "text": [
      "Float64Index([], dtype='float64')\n",
      "Series([], Name: ESTU_POR_TRADICIONFAMILIAR, dtype: int64)\n",
      "Elementos null/NaN 85577\n",
      "__________________\n",
      "Elementos diferentes de null/NaN: 0\n",
      "__________________\n",
      "(0,)\n",
      "None\n"
     ]
    }
   ],
   "source": [
    "c = 'ESTU_POR_TRADICIONFAMILIAR'\n",
    "print(data_2013[c].value_counts().sort_index().index)\n",
    "print(data_2013[c].value_counts().sort_index())\n",
    "print(missing_data(data_2013[c]))"
   ]
  },
  {
   "cell_type": "code",
   "execution_count": 424,
   "metadata": {
    "collapsed": true
   },
   "outputs": [],
   "source": [
    "data_2013 = data_2013.drop([c], axis=1)"
   ]
  },
  {
   "cell_type": "code",
   "execution_count": 425,
   "metadata": {
    "collapsed": false
   },
   "outputs": [
    {
     "name": "stdout",
     "output_type": "stream",
     "text": [
      "Float64Index([], dtype='float64')\n",
      "Series([], Name: ESTU_POR_ORIENTACIONVOCACIONAL, dtype: int64)\n",
      "Elementos null/NaN 85577\n",
      "__________________\n",
      "Elementos diferentes de null/NaN: 0\n",
      "__________________\n",
      "(0,)\n",
      "None\n"
     ]
    }
   ],
   "source": [
    "c = 'ESTU_POR_ORIENTACIONVOCACIONAL'\n",
    "print(data_2013[c].value_counts().sort_index().index)\n",
    "print(data_2013[c].value_counts().sort_index())\n",
    "print(missing_data(data_2013[c]))"
   ]
  },
  {
   "cell_type": "code",
   "execution_count": 426,
   "metadata": {
    "collapsed": true
   },
   "outputs": [],
   "source": [
    "data_2013 = data_2013.drop([c], axis=1)"
   ]
  },
  {
   "cell_type": "code",
   "execution_count": 427,
   "metadata": {
    "collapsed": false
   },
   "outputs": [
    {
     "name": "stdout",
     "output_type": "stream",
     "text": [
      "Float64Index([], dtype='float64')\n",
      "Series([], Name: ESTU_RAZON_RETIRO, dtype: int64)\n",
      "Elementos null/NaN 85577\n",
      "__________________\n",
      "Elementos diferentes de null/NaN: 0\n",
      "__________________\n",
      "(0,)\n",
      "None\n"
     ]
    }
   ],
   "source": [
    "c = 'ESTU_RAZON_RETIRO'\n",
    "print(data_2013[c].value_counts().sort_index().index)\n",
    "print(data_2013[c].value_counts().sort_index())\n",
    "print(missing_data(data_2013[c]))"
   ]
  },
  {
   "cell_type": "code",
   "execution_count": 428,
   "metadata": {
    "collapsed": true
   },
   "outputs": [],
   "source": [
    "data_2013 = data_2013.drop([c], axis=1)"
   ]
  },
  {
   "cell_type": "code",
   "execution_count": 429,
   "metadata": {
    "collapsed": false
   },
   "outputs": [
    {
     "name": "stdout",
     "output_type": "stream",
     "text": [
      "Float64Index([], dtype='float64')\n",
      "Series([], Name: ESTU_POR_AMIGOSESTUDIANDO, dtype: int64)\n",
      "Elementos null/NaN 85577\n",
      "__________________\n",
      "Elementos diferentes de null/NaN: 0\n",
      "__________________\n",
      "(0,)\n",
      "None\n"
     ]
    }
   ],
   "source": [
    "c = 'ESTU_POR_AMIGOSESTUDIANDO'\n",
    "print(data_2013[c].value_counts().sort_index().index)\n",
    "print(data_2013[c].value_counts().sort_index())\n",
    "print(missing_data(data_2013[c]))"
   ]
  },
  {
   "cell_type": "code",
   "execution_count": 430,
   "metadata": {
    "collapsed": true
   },
   "outputs": [],
   "source": [
    "data_2013 = data_2013.drop([c], axis=1)"
   ]
  },
  {
   "cell_type": "code",
   "execution_count": 431,
   "metadata": {
    "collapsed": false
   },
   "outputs": [
    {
     "name": "stdout",
     "output_type": "stream",
     "text": [
      "Index(['-'], dtype='object')\n",
      "-    85577\n",
      "Name: ESTU_POR_COSTOMATRICULA, dtype: int64\n",
      "Elementos null/NaN 0\n",
      "__________________\n",
      "Elementos diferentes de null/NaN: 85577\n",
      "__________________\n",
      "(85577,)\n",
      "None\n"
     ]
    }
   ],
   "source": [
    "c = 'ESTU_POR_COSTOMATRICULA'\n",
    "print(data_2013[c].value_counts().sort_index().index)\n",
    "print(data_2013[c].value_counts().sort_index())\n",
    "print(missing_data(data_2013[c]))"
   ]
  },
  {
   "cell_type": "code",
   "execution_count": 432,
   "metadata": {
    "collapsed": true
   },
   "outputs": [],
   "source": [
    "data_2013 = data_2013.drop([c], axis=1)"
   ]
  },
  {
   "cell_type": "code",
   "execution_count": 433,
   "metadata": {
    "collapsed": false
   },
   "outputs": [
    {
     "name": "stdout",
     "output_type": "stream",
     "text": [
      "Index(['-'], dtype='object')\n",
      "-    85577\n",
      "Name: ESTU_POR_OPORTUNIDADES, dtype: int64\n",
      "Elementos null/NaN 0\n",
      "__________________\n",
      "Elementos diferentes de null/NaN: 85577\n",
      "__________________\n",
      "(85577,)\n",
      "None\n"
     ]
    }
   ],
   "source": [
    "c = 'ESTU_POR_OPORTUNIDADES'\n",
    "print(data_2013[c].value_counts().sort_index().index)\n",
    "print(data_2013[c].value_counts().sort_index())\n",
    "print(missing_data(data_2013[c]))"
   ]
  },
  {
   "cell_type": "code",
   "execution_count": 434,
   "metadata": {
    "collapsed": true
   },
   "outputs": [],
   "source": [
    "data_2013 = data_2013.drop([c], axis=1)"
   ]
  },
  {
   "cell_type": "code",
   "execution_count": 435,
   "metadata": {
    "collapsed": false
   },
   "outputs": [
    {
     "name": "stdout",
     "output_type": "stream",
     "text": [
      "Float64Index([], dtype='float64')\n",
      "Series([], Name: ESTU_POR_OTRARAZON, dtype: int64)\n",
      "Elementos null/NaN 85577\n",
      "__________________\n",
      "Elementos diferentes de null/NaN: 0\n",
      "__________________\n",
      "(0,)\n",
      "None\n"
     ]
    }
   ],
   "source": [
    "c = 'ESTU_POR_OTRARAZON'\n",
    "print(data_2013[c].value_counts().sort_index().index)\n",
    "print(data_2013[c].value_counts().sort_index())\n",
    "print(missing_data(data_2013[c]))"
   ]
  },
  {
   "cell_type": "code",
   "execution_count": 436,
   "metadata": {
    "collapsed": true
   },
   "outputs": [],
   "source": [
    "data_2013 = data_2013.drop([c], axis=1)"
   ]
  },
  {
   "cell_type": "code",
   "execution_count": 437,
   "metadata": {
    "collapsed": false
   },
   "outputs": [
    {
     "name": "stdout",
     "output_type": "stream",
     "text": [
      "Float64Index([], dtype='float64')\n",
      "Series([], Name: ESTU_PRESTIGIOINSTITUCION, dtype: int64)\n",
      "Elementos null/NaN 85577\n",
      "__________________\n",
      "Elementos diferentes de null/NaN: 0\n",
      "__________________\n",
      "(0,)\n",
      "None\n"
     ]
    }
   ],
   "source": [
    "c = 'ESTU_PRESTIGIOINSTITUCION'\n",
    "print(data_2013[c].value_counts().sort_index().index)\n",
    "print(data_2013[c].value_counts().sort_index())\n",
    "print(missing_data(data_2013[c]))"
   ]
  },
  {
   "cell_type": "code",
   "execution_count": 438,
   "metadata": {
    "collapsed": true
   },
   "outputs": [],
   "source": [
    "data_2013 = data_2013.drop([c], axis=1)"
   ]
  },
  {
   "cell_type": "code",
   "execution_count": 439,
   "metadata": {
    "collapsed": false
   },
   "outputs": [
    {
     "name": "stdout",
     "output_type": "stream",
     "text": [
      "Float64Index([], dtype='float64')\n",
      "Series([], Name: ESTU_POR_UBICACION, dtype: int64)\n",
      "Elementos null/NaN 85577\n",
      "__________________\n",
      "Elementos diferentes de null/NaN: 0\n",
      "__________________\n",
      "(0,)\n",
      "None\n"
     ]
    }
   ],
   "source": [
    "c = 'ESTU_POR_UBICACION'\n",
    "print(data_2013[c].value_counts().sort_index().index)\n",
    "print(data_2013[c].value_counts().sort_index())\n",
    "print(missing_data(data_2013[c]))"
   ]
  },
  {
   "cell_type": "code",
   "execution_count": 440,
   "metadata": {
    "collapsed": true
   },
   "outputs": [],
   "source": [
    "data_2013 = data_2013.drop([c], axis=1)"
   ]
  },
  {
   "cell_type": "code",
   "execution_count": 441,
   "metadata": {
    "collapsed": false
   },
   "outputs": [
    {
     "name": "stdout",
     "output_type": "stream",
     "text": [
      "Float64Index([], dtype='float64')\n",
      "Series([], Name: ESTU_POR_UNICAQUEOFRECE, dtype: int64)\n",
      "Elementos null/NaN 85577\n",
      "__________________\n",
      "Elementos diferentes de null/NaN: 0\n",
      "__________________\n",
      "(0,)\n",
      "None\n"
     ]
    }
   ],
   "source": [
    "c = 'ESTU_POR_UNICAQUEOFRECE'\n",
    "print(data_2013[c].value_counts().sort_index().index)\n",
    "print(data_2013[c].value_counts().sort_index())\n",
    "print(missing_data(data_2013[c]))"
   ]
  },
  {
   "cell_type": "code",
   "execution_count": 442,
   "metadata": {
    "collapsed": true
   },
   "outputs": [],
   "source": [
    "data_2013 = data_2013.drop([c], axis=1)"
   ]
  },
  {
   "cell_type": "code",
   "execution_count": 443,
   "metadata": {
    "collapsed": false
   },
   "outputs": [
    {
     "name": "stdout",
     "output_type": "stream",
     "text": [
      "Index(['-'], dtype='object')\n",
      "-    85577\n",
      "Name: ESTU_RETIRARSE_COLEGIO, dtype: int64\n",
      "Elementos null/NaN 0\n",
      "__________________\n",
      "Elementos diferentes de null/NaN: 85577\n",
      "__________________\n",
      "(85577,)\n",
      "None\n"
     ]
    }
   ],
   "source": [
    "c = 'ESTU_RETIRARSE_COLEGIO'\n",
    "print(data_2013[c].value_counts().sort_index().index)\n",
    "print(data_2013[c].value_counts().sort_index())\n",
    "print(missing_data(data_2013[c]))"
   ]
  },
  {
   "cell_type": "code",
   "execution_count": 444,
   "metadata": {
    "collapsed": true
   },
   "outputs": [],
   "source": [
    "data_2013 = data_2013.drop([c], axis=1)"
   ]
  },
  {
   "cell_type": "code",
   "execution_count": 445,
   "metadata": {
    "collapsed": false
   },
   "outputs": [
    {
     "name": "stdout",
     "output_type": "stream",
     "text": [
      "Float64Index([0.0, 1.0, 2.0, 3.0, 4.0], dtype='float64')\n",
      "0        6\n",
      "1    21612\n",
      "2    24254\n",
      "3     7310\n",
      "4     4473\n",
      "Name: ESTU_VECES_ESTADO, dtype: int64\n",
      "Elementos null/NaN 27922\n",
      "__________________\n",
      "Elementos diferentes de null/NaN: 57655\n",
      "__________________\n",
      "(57655,)\n",
      "None\n"
     ]
    }
   ],
   "source": [
    "c = 'ESTU_VECES_ESTADO'\n",
    "print(data_2013[c].value_counts().sort_index().index)\n",
    "print(data_2013[c].value_counts().sort_index())\n",
    "print(missing_data(data_2013[c]))"
   ]
  },
  {
   "cell_type": "code",
   "execution_count": 446,
   "metadata": {
    "collapsed": false
   },
   "outputs": [
    {
     "name": "stdout",
     "output_type": "stream",
     "text": [
      "cant null antes: 27922\n",
      "cant null despues: 0\n"
     ]
    }
   ],
   "source": [
    "Do_resamples(data_2013, c, float)"
   ]
  },
  {
   "cell_type": "code",
   "execution_count": 447,
   "metadata": {
    "collapsed": false,
    "scrolled": true
   },
   "outputs": [
    {
     "name": "stdout",
     "output_type": "stream",
     "text": [
      "Index(['AGUACHICA', 'ALBANIA', 'APARTADO', 'ARAUCA', 'ARMENIA', 'BARBOSA',\n",
      "       'BARRANCABERMEJA', 'BARRANQUILLA', 'BOGOTÁ D.C.', 'BUCARAMANGA',\n",
      "       'BUENAVENTURA', 'BUGA', 'CALI', 'CARTAGENA', 'CARTAGO', 'CAUCASIA',\n",
      "       'CHAPARRAL', 'CHOCONTA', 'CUCUTA', 'EL DONCELLO', 'FACATATIVA',\n",
      "       'FLORENCIA', 'FUSAGASUGA', 'GARZON', 'GIRARDOT', 'GRANADA', 'IBAGUE',\n",
      "       'INIRIDA', 'IPIALES', 'ITSMINA', 'LA DORADA', 'LA PLATA', 'LETICIA',\n",
      "       'MAGANGUE', 'MAICAO', 'MALAGA', 'MANIZALES', 'MEDELLIN', 'MITU',\n",
      "       'MOCOA', 'MONIQUIRA', 'MONTELIBANO', 'MONTERIA', 'NEIVA', 'OCAÑA',\n",
      "       'ORITO', 'PALMIRA', 'PAMPLONA', 'PASTO', 'PATIA(EL BORDO)',\n",
      "       'PAZ DE ARIPORO', 'PEREIRA', 'PIENDAMO', 'PITALITO', 'POPAYAN',\n",
      "       'PUERTO ASIS', 'PUERTO CARREÑO', 'QUIBDO', 'RIOHACHA', 'RIONEGRO',\n",
      "       'SAN ANDRES', 'SAN GIL', 'SAN JOSE DEL GUAVIARE', 'SANTA MARTA',\n",
      "       'SANTANDER DE QUILICHAO', 'SIBUNDOY', 'SINCELEJO', 'SOGAMOSO', 'SONSON',\n",
      "       'TAME', 'TULUA', 'TUMACO', 'TUNJA', 'TUQUERRES', 'VALLEDUPAR',\n",
      "       'VILLA DE LEYVA', 'VILLAVICENCIO', 'YOPAL', 'ZIPAQUIRA'],\n",
      "      dtype='object')\n",
      "AGUACHICA                   180\n",
      "ALBANIA                      95\n",
      "APARTADO                    468\n",
      "ARAUCA                      130\n",
      "ARMENIA                    1123\n",
      "BARBOSA                     230\n",
      "BARRANCABERMEJA             560\n",
      "BARRANQUILLA               2047\n",
      "BOGOTÁ D.C.               17926\n",
      "BUCARAMANGA                5391\n",
      "BUENAVENTURA                507\n",
      "BUGA                        685\n",
      "CALI                      13068\n",
      "CARTAGENA                  1002\n",
      "CARTAGO                     384\n",
      "CAUCASIA                     81\n",
      "CHAPARRAL                   119\n",
      "CHOCONTA                     57\n",
      "CUCUTA                      875\n",
      "EL DONCELLO                  65\n",
      "FACATATIVA                  647\n",
      "FLORENCIA                   398\n",
      "FUSAGASUGA                  256\n",
      "GARZON                      233\n",
      "GIRARDOT                    235\n",
      "GRANADA                     169\n",
      "IBAGUE                     2186\n",
      "INIRIDA                      11\n",
      "IPIALES                     814\n",
      "ITSMINA                      37\n",
      "                          ...  \n",
      "PATIA(EL BORDO)             120\n",
      "PAZ DE ARIPORO               70\n",
      "PEREIRA                    1766\n",
      "PIENDAMO                     77\n",
      "PITALITO                    698\n",
      "POPAYAN                    1807\n",
      "PUERTO ASIS                 233\n",
      "PUERTO CARREÑO                6\n",
      "QUIBDO                      346\n",
      "RIOHACHA                    163\n",
      "RIONEGRO                    327\n",
      "SAN ANDRES                   60\n",
      "SAN GIL                     348\n",
      "SAN JOSE DEL GUAVIARE        70\n",
      "SANTA MARTA                 613\n",
      "SANTANDER DE QUILICHAO      790\n",
      "SIBUNDOY                    114\n",
      "SINCELEJO                   448\n",
      "SOGAMOSO                   1828\n",
      "SONSON                        3\n",
      "TAME                         58\n",
      "TULUA                       740\n",
      "TUMACO                      190\n",
      "TUNJA                      2126\n",
      "TUQUERRES                   136\n",
      "VALLEDUPAR                  733\n",
      "VILLA DE LEYVA              107\n",
      "VILLAVICENCIO              1402\n",
      "YOPAL                       563\n",
      "ZIPAQUIRA                   862\n",
      "Name: ESTU_MCPIO_PRESENTACION, dtype: int64\n",
      "Elementos null/NaN 0\n",
      "__________________\n",
      "Elementos diferentes de null/NaN: 85577\n",
      "__________________\n",
      "(85577,)\n",
      "None\n"
     ]
    }
   ],
   "source": [
    "c = 'ESTU_MCPIO_PRESENTACION'\n",
    "print(data_2013[c].value_counts().sort_index().index)\n",
    "print(data_2013[c].value_counts().sort_index())\n",
    "print(missing_data(data_2013[c]))"
   ]
  },
  {
   "cell_type": "code",
   "execution_count": 448,
   "metadata": {
    "collapsed": false,
    "scrolled": true
   },
   "outputs": [
    {
     "name": "stdout",
     "output_type": "stream",
     "text": [
      "Index(['AMAZONAS', 'ANTIOQUIA', 'ARAUCA', 'ATLÁNTICO', 'BOGOTÁ', 'BOLÍVAR',\n",
      "       'BOYACÁ', 'CALDAS', 'CAQUETÁ', 'CASANARE', 'CAUCA', 'CESAR', 'CHOCÓ',\n",
      "       'CUNDINAMARCA', 'CÓRDOBA', 'GUAINÍA', 'GUAVIARE', 'HUILA', 'LA GUAJIRA',\n",
      "       'MAGDALENA', 'META', 'NARIÑO', 'NORTE SANTANDER', 'PUTUMAYO', 'QUINDÍO',\n",
      "       'RISARALDA', 'SAN ANDRÉS', 'SANTANDER', 'SUCRE', 'TOLIMA', 'VALLE',\n",
      "       'VAUPÉS', 'VICHADA'],\n",
      "      dtype='object')\n",
      "AMAZONAS              29\n",
      "ANTIOQUIA           5291\n",
      "ARAUCA               188\n",
      "ATLÁNTICO           2047\n",
      "BOGOTÁ             17926\n",
      "BOLÍVAR             1114\n",
      "BOYACÁ              4141\n",
      "CALDAS              2370\n",
      "CAQUETÁ              463\n",
      "CASANARE             633\n",
      "CAUCA               2794\n",
      "CESAR                913\n",
      "CHOCÓ                383\n",
      "CUNDINAMARCA        2057\n",
      "CÓRDOBA              698\n",
      "GUAINÍA               11\n",
      "GUAVIARE              70\n",
      "HUILA               4296\n",
      "LA GUAJIRA           359\n",
      "MAGDALENA            613\n",
      "META                1571\n",
      "NARIÑO              6046\n",
      "NORTE SANTANDER     1283\n",
      "PUTUMAYO             658\n",
      "QUINDÍO             1123\n",
      "RISARALDA           1766\n",
      "SAN ANDRÉS            60\n",
      "SANTANDER           6650\n",
      "SUCRE                448\n",
      "TOLIMA              2305\n",
      "VALLE              17259\n",
      "VAUPÉS                 6\n",
      "VICHADA                6\n",
      "Name: ESTU_DEPTO_PRESENTACION, dtype: int64\n",
      "Elementos null/NaN 0\n",
      "__________________\n",
      "Elementos diferentes de null/NaN: 85577\n",
      "__________________\n",
      "(85577,)\n",
      "None\n"
     ]
    }
   ],
   "source": [
    "c = 'ESTU_DEPTO_PRESENTACION'\n",
    "print(data_2013[c].value_counts().sort_index().index)\n",
    "print(data_2013[c].value_counts().sort_index())\n",
    "print(missing_data(data_2013[c]))"
   ]
  },
  {
   "cell_type": "code",
   "execution_count": 449,
   "metadata": {
    "collapsed": false,
    "scrolled": true
   },
   "outputs": [
    {
     "name": "stdout",
     "output_type": "stream",
     "text": [
      "Float64Index([ 0.0,  1.0,  2.0,  3.0,  4.0,  5.0,  6.0,  7.0,  8.0,  9.0, 10.0,\n",
      "              11.0, 12.0, 13.0, 14.0, 15.0, 16.0, 17.0, 99.0],\n",
      "             dtype='float64')\n",
      "0       377\n",
      "1      3301\n",
      "2     11842\n",
      "3     10094\n",
      "4      9662\n",
      "5     18236\n",
      "6      1464\n",
      "7      4900\n",
      "8      1656\n",
      "9     12098\n",
      "10     5541\n",
      "11     4085\n",
      "12     1078\n",
      "13      103\n",
      "14      278\n",
      "15       69\n",
      "16      291\n",
      "17       77\n",
      "99        1\n",
      "Name: FAMI_EDUCA_PADRE, dtype: int64\n",
      "Elementos null/NaN 424\n",
      "__________________\n",
      "Elementos diferentes de null/NaN: 85153\n",
      "__________________\n",
      "(85153,)\n",
      "None\n"
     ]
    }
   ],
   "source": [
    "c = 'FAMI_EDUCA_PADRE'\n",
    "print(data_2013[c].value_counts().sort_index().index)\n",
    "print(data_2013[c].value_counts().sort_index())\n",
    "print(missing_data(data_2013[c]))"
   ]
  },
  {
   "cell_type": "code",
   "execution_count": 450,
   "metadata": {
    "collapsed": false
   },
   "outputs": [
    {
     "name": "stdout",
     "output_type": "stream",
     "text": [
      "cant null antes: 424\n",
      "cant null despues: 0\n"
     ]
    }
   ],
   "source": [
    "Do_resamples(data_2013, c, float)"
   ]
  },
  {
   "cell_type": "code",
   "execution_count": 451,
   "metadata": {
    "collapsed": false,
    "scrolled": true
   },
   "outputs": [
    {
     "name": "stdout",
     "output_type": "stream",
     "text": [
      "Float64Index([ 0.0,  1.0,  2.0,  3.0,  4.0,  5.0,  6.0,  7.0,  8.0,  9.0, 10.0,\n",
      "              11.0, 12.0, 13.0, 14.0, 15.0, 16.0, 17.0, 99.0],\n",
      "             dtype='float64')\n",
      "0       182\n",
      "1      1810\n",
      "2     10388\n",
      "3      9788\n",
      "4     10674\n",
      "5     20428\n",
      "6      1776\n",
      "7      6433\n",
      "8      1804\n",
      "9     12515\n",
      "10     4954\n",
      "11     2377\n",
      "12     1171\n",
      "13      112\n",
      "14      347\n",
      "15       55\n",
      "16      245\n",
      "17       74\n",
      "99       20\n",
      "Name: FAMI_EDUCA_MADRE, dtype: int64\n",
      "Elementos null/NaN 424\n",
      "__________________\n",
      "Elementos diferentes de null/NaN: 85153\n",
      "__________________\n",
      "(85153,)\n",
      "None\n"
     ]
    }
   ],
   "source": [
    "c = 'FAMI_EDUCA_MADRE'\n",
    "print(data_2013[c].value_counts().sort_index().index)\n",
    "print(data_2013[c].value_counts().sort_index())\n",
    "print(missing_data(data_2013[c]))"
   ]
  },
  {
   "cell_type": "code",
   "execution_count": 452,
   "metadata": {
    "collapsed": false
   },
   "outputs": [
    {
     "name": "stdout",
     "output_type": "stream",
     "text": [
      "cant null antes: 424\n",
      "cant null despues: 0\n"
     ]
    }
   ],
   "source": [
    "Do_resamples(data_2013, c, float)"
   ]
  },
  {
   "cell_type": "code",
   "execution_count": 453,
   "metadata": {
    "collapsed": false,
    "scrolled": true
   },
   "outputs": [
    {
     "name": "stdout",
     "output_type": "stream",
     "text": [
      "Float64Index([ 1.0,  2.0,  3.0,  4.0,  5.0,  6.0,  7.0,  8.0,  9.0, 10.0, 11.0,\n",
      "              12.0, 13.0, 14.0, 15.0, 16.0, 17.0, 18.0, 19.0, 20.0, 21.0, 22.0,\n",
      "              23.0, 26.0, 99.0],\n",
      "             dtype='float64')\n",
      "1      3077\n",
      "2      2685\n",
      "3      2513\n",
      "4      1363\n",
      "5      7153\n",
      "6      1752\n",
      "7     13381\n",
      "8      4150\n",
      "9     25755\n",
      "10     1256\n",
      "11     4626\n",
      "12    12516\n",
      "13       89\n",
      "14      419\n",
      "15       77\n",
      "16       92\n",
      "17      277\n",
      "18      210\n",
      "19      796\n",
      "20      228\n",
      "21     1439\n",
      "22      114\n",
      "23      342\n",
      "26      842\n",
      "99        1\n",
      "Name: FAMI_OCUPA_PADRE, dtype: int64\n",
      "Elementos null/NaN 424\n",
      "__________________\n",
      "Elementos diferentes de null/NaN: 85153\n",
      "__________________\n",
      "(85153,)\n",
      "None\n"
     ]
    }
   ],
   "source": [
    "c = 'FAMI_OCUPA_PADRE'\n",
    "print(data_2013[c].value_counts().sort_index().index)\n",
    "print(data_2013[c].value_counts().sort_index())\n",
    "print(missing_data(data_2013[c]))"
   ]
  },
  {
   "cell_type": "code",
   "execution_count": 454,
   "metadata": {
    "collapsed": false
   },
   "outputs": [
    {
     "name": "stdout",
     "output_type": "stream",
     "text": [
      "cant null antes: 424\n",
      "cant null despues: 0\n"
     ]
    }
   ],
   "source": [
    "Do_resamples(data_2013, c, float)"
   ]
  },
  {
   "cell_type": "code",
   "execution_count": 455,
   "metadata": {
    "collapsed": false,
    "scrolled": true
   },
   "outputs": [
    {
     "name": "stdout",
     "output_type": "stream",
     "text": [
      "Float64Index([ 1.0,  2.0,  3.0,  4.0,  5.0,  6.0,  7.0,  8.0,  9.0, 10.0, 11.0,\n",
      "              12.0, 13.0, 14.0, 15.0, 16.0, 17.0, 18.0, 19.0, 20.0, 21.0, 22.0,\n",
      "              23.0, 26.0],\n",
      "             dtype='float64')\n",
      "1      1312\n",
      "2      2234\n",
      "3      1421\n",
      "4      1578\n",
      "5      6442\n",
      "6      4338\n",
      "7      4489\n",
      "8      3539\n",
      "9      8998\n",
      "10    37736\n",
      "11     1513\n",
      "12     6627\n",
      "13       53\n",
      "14      175\n",
      "15       52\n",
      "16      134\n",
      "17      199\n",
      "18      201\n",
      "19      430\n",
      "20      133\n",
      "21      682\n",
      "22     2254\n",
      "23      169\n",
      "26      444\n",
      "Name: FAMI_OCUPA_MADRE, dtype: int64\n",
      "Elementos null/NaN 424\n",
      "__________________\n",
      "Elementos diferentes de null/NaN: 85153\n",
      "__________________\n",
      "(85153,)\n",
      "None\n"
     ]
    }
   ],
   "source": [
    "c = 'FAMI_OCUPA_MADRE'\n",
    "print(data_2013[c].value_counts().sort_index().index)\n",
    "print(data_2013[c].value_counts().sort_index())\n",
    "print(missing_data(data_2013[c]))"
   ]
  },
  {
   "cell_type": "code",
   "execution_count": 456,
   "metadata": {
    "collapsed": false
   },
   "outputs": [
    {
     "name": "stdout",
     "output_type": "stream",
     "text": [
      "cant null antes: 424\n",
      "cant null despues: 0\n"
     ]
    }
   ],
   "source": [
    "Do_resamples(data_2013, c, float)"
   ]
  },
  {
   "cell_type": "code",
   "execution_count": 457,
   "metadata": {
    "collapsed": false
   },
   "outputs": [
    {
     "name": "stdout",
     "output_type": "stream",
     "text": [
      "Float64Index([1.0, 2.0, 3.0, 4.0, 5.0, 6.0, 8.0], dtype='float64')\n",
      "1    2355\n",
      "2    3909\n",
      "3    2241\n",
      "4     478\n",
      "5     140\n",
      "6      55\n",
      "8       6\n",
      "Name: FAMI_ESTRATO_VIVIENDA, dtype: int64\n",
      "Elementos null/NaN 76393\n",
      "__________________\n",
      "Elementos diferentes de null/NaN: 9184\n",
      "__________________\n",
      "(9184,)\n",
      "None\n"
     ]
    }
   ],
   "source": [
    "c = 'FAMI_ESTRATO_VIVIENDA'\n",
    "print(data_2013[c].value_counts().sort_index().index)\n",
    "print(data_2013[c].value_counts().sort_index())\n",
    "print(missing_data(data_2013[c]))"
   ]
  },
  {
   "cell_type": "code",
   "execution_count": 458,
   "metadata": {
    "collapsed": false
   },
   "outputs": [
    {
     "name": "stdout",
     "output_type": "stream",
     "text": [
      "cant null antes: 76393\n",
      "cant null despues: 0\n"
     ]
    }
   ],
   "source": [
    "data_2013[c] = data_2013[c].replace(8, 6)\n",
    "Do_resamples(data_2013, c, float)"
   ]
  },
  {
   "cell_type": "code",
   "execution_count": 459,
   "metadata": {
    "collapsed": false
   },
   "outputs": [
    {
     "name": "stdout",
     "output_type": "stream",
     "text": [
      "Float64Index([1.0, 2.0, 3.0, 4.0, 5.0, 6.0, 7.0, 8.0, 9.0, 10.0], dtype='float64')\n",
      "1      3857\n",
      "2     25676\n",
      "3     36529\n",
      "4     12645\n",
      "5      3190\n",
      "6       894\n",
      "7       294\n",
      "8       163\n",
      "9        38\n",
      "10      113\n",
      "Name: FAMI_CUARTOS_HOGAR, dtype: int64\n",
      "Elementos null/NaN 2178\n",
      "__________________\n",
      "Elementos diferentes de null/NaN: 83399\n",
      "__________________\n",
      "(83399,)\n",
      "None\n"
     ]
    }
   ],
   "source": [
    "c = 'FAMI_CUARTOS_HOGAR'\n",
    "print(data_2013[c].value_counts().sort_index().index)\n",
    "print(data_2013[c].value_counts().sort_index())\n",
    "print(missing_data(data_2013[c]))"
   ]
  },
  {
   "cell_type": "code",
   "execution_count": 460,
   "metadata": {
    "collapsed": false
   },
   "outputs": [
    {
     "name": "stdout",
     "output_type": "stream",
     "text": [
      "cant null antes: 2178\n",
      "cant null despues: 0\n"
     ]
    }
   ],
   "source": [
    "Do_resamples(data_2013, c, float)"
   ]
  },
  {
   "cell_type": "code",
   "execution_count": 461,
   "metadata": {
    "collapsed": false
   },
   "outputs": [
    {
     "name": "stdout",
     "output_type": "stream",
     "text": [
      "Float64Index([1.0, 2.0, 3.0, 4.0, 5.0], dtype='float64')\n",
      "1    23708\n",
      "2    18381\n",
      "3     4054\n",
      "4      844\n",
      "5    38166\n",
      "Name: FAMI_NIVEL_SISBEN, dtype: int64\n",
      "Elementos null/NaN 424\n",
      "__________________\n",
      "Elementos diferentes de null/NaN: 85153\n",
      "__________________\n",
      "(85153,)\n",
      "None\n"
     ]
    }
   ],
   "source": [
    "c = 'FAMI_NIVEL_SISBEN'\n",
    "print(data_2013[c].value_counts().sort_index().index)\n",
    "print(data_2013[c].value_counts().sort_index())\n",
    "print(missing_data(data_2013[c]))"
   ]
  },
  {
   "cell_type": "code",
   "execution_count": 462,
   "metadata": {
    "collapsed": false
   },
   "outputs": [
    {
     "name": "stdout",
     "output_type": "stream",
     "text": [
      "cant null antes: 424\n",
      "cant null despues: 0\n"
     ]
    }
   ],
   "source": [
    "Do_resamples(data_2013, c, float)"
   ]
  },
  {
   "cell_type": "code",
   "execution_count": 463,
   "metadata": {
    "collapsed": false
   },
   "outputs": [
    {
     "name": "stdout",
     "output_type": "stream",
     "text": [
      "Float64Index([1.0, 2.0, 3.0, 4.0, 5.0], dtype='float64')\n",
      "1     2261\n",
      "2    30209\n",
      "3     5382\n",
      "4    47186\n",
      "5      115\n",
      "Name: FAMI_PISOSHOGAR, dtype: int64\n",
      "Elementos null/NaN 424\n",
      "__________________\n",
      "Elementos diferentes de null/NaN: 85153\n",
      "__________________\n",
      "(85153,)\n",
      "None\n"
     ]
    }
   ],
   "source": [
    "c = 'FAMI_PISOSHOGAR'\n",
    "print(data_2013[c].value_counts().sort_index().index)\n",
    "print(data_2013[c].value_counts().sort_index())\n",
    "print(missing_data(data_2013[c]))"
   ]
  },
  {
   "cell_type": "code",
   "execution_count": 464,
   "metadata": {
    "collapsed": true
   },
   "outputs": [],
   "source": [
    "idx = data_2013[data_2013[c].isnull()].index\n",
    "data_2013 = data_2013.drop(idx)"
   ]
  },
  {
   "cell_type": "code",
   "execution_count": 465,
   "metadata": {
    "collapsed": false,
    "scrolled": true
   },
   "outputs": [
    {
     "name": "stdout",
     "output_type": "stream",
     "text": [
      "Float64Index([1.0, 2.0, 3.0, 4.0, 5.0, 6.0, 7.0, 8.0, 9.0, 10.0, 11.0, 12.0], dtype='float64')\n",
      "1       917\n",
      "2      6330\n",
      "3     18041\n",
      "4     27900\n",
      "5     18120\n",
      "6      7581\n",
      "7      3109\n",
      "8      1544\n",
      "9       611\n",
      "10      417\n",
      "11      168\n",
      "12      415\n",
      "Name: FAMI_PERSONAS_HOGAR, dtype: int64\n",
      "Elementos null/NaN 0\n",
      "__________________\n",
      "Elementos diferentes de null/NaN: 85153\n",
      "__________________\n",
      "(85153,)\n",
      "None\n"
     ]
    }
   ],
   "source": [
    "c = 'FAMI_PERSONAS_HOGAR'\n",
    "print(data_2013[c].value_counts().sort_index().index)\n",
    "print(data_2013[c].value_counts().sort_index())\n",
    "print(missing_data(data_2013[c]))"
   ]
  },
  {
   "cell_type": "code",
   "execution_count": 466,
   "metadata": {
    "collapsed": false
   },
   "outputs": [
    {
     "name": "stdout",
     "output_type": "stream",
     "text": [
      "Float64Index([0.0, 1.0], dtype='float64')\n",
      "0    33761\n",
      "1    51391\n",
      "Name: FAMI_TELEFONO_FIJO, dtype: int64\n",
      "Elementos null/NaN 1\n",
      "__________________\n",
      "Elementos diferentes de null/NaN: 85152\n",
      "__________________\n",
      "(85152,)\n",
      "None\n"
     ]
    }
   ],
   "source": [
    "c = 'FAMI_TELEFONO_FIJO'\n",
    "print(data_2013[c].value_counts().sort_index().index)\n",
    "print(data_2013[c].value_counts().sort_index())\n",
    "print(missing_data(data_2013[c]))"
   ]
  },
  {
   "cell_type": "code",
   "execution_count": 467,
   "metadata": {
    "collapsed": true
   },
   "outputs": [],
   "source": [
    "data_2013[c].fillna(method='bfill', inplace=True)\n",
    "data_2013[c].fillna(method='ffill', inplace=True)"
   ]
  },
  {
   "cell_type": "code",
   "execution_count": 468,
   "metadata": {
    "collapsed": false
   },
   "outputs": [
    {
     "name": "stdout",
     "output_type": "stream",
     "text": [
      "Float64Index([0.0, 1.0], dtype='float64')\n",
      "0     4403\n",
      "1    80746\n",
      "Name: FAMI_CELULAR, dtype: int64\n",
      "Elementos null/NaN 4\n",
      "__________________\n",
      "Elementos diferentes de null/NaN: 85149\n",
      "__________________\n",
      "(85149,)\n",
      "None\n"
     ]
    }
   ],
   "source": [
    "c = 'FAMI_CELULAR'\n",
    "print(data_2013[c].value_counts().sort_index().index)\n",
    "print(data_2013[c].value_counts().sort_index())\n",
    "print(missing_data(data_2013[c]))"
   ]
  },
  {
   "cell_type": "code",
   "execution_count": 469,
   "metadata": {
    "collapsed": true
   },
   "outputs": [],
   "source": [
    "data_2013[c].fillna(method='bfill', inplace=True)\n",
    "data_2013[c].fillna(method='ffill', inplace=True)"
   ]
  },
  {
   "cell_type": "code",
   "execution_count": 470,
   "metadata": {
    "collapsed": false
   },
   "outputs": [
    {
     "name": "stdout",
     "output_type": "stream",
     "text": [
      "Float64Index([0.0, 1.0], dtype='float64')\n",
      "0    34301\n",
      "1    50852\n",
      "Name: FAMI_INTERNET, dtype: int64\n",
      "Elementos null/NaN 0\n",
      "__________________\n",
      "Elementos diferentes de null/NaN: 85153\n",
      "__________________\n",
      "(85153,)\n",
      "None\n"
     ]
    }
   ],
   "source": [
    "c = 'FAMI_INTERNET'\n",
    "print(data_2013[c].value_counts().sort_index().index)\n",
    "print(data_2013[c].value_counts().sort_index())\n",
    "print(missing_data(data_2013[c]))"
   ]
  },
  {
   "cell_type": "code",
   "execution_count": 471,
   "metadata": {
    "collapsed": false
   },
   "outputs": [
    {
     "name": "stdout",
     "output_type": "stream",
     "text": [
      "Float64Index([0.0, 1.0], dtype='float64')\n",
      "0    25505\n",
      "1    59648\n",
      "Name: FAMI_SERVICIO_TELEVISION, dtype: int64\n",
      "Elementos null/NaN 0\n",
      "__________________\n",
      "Elementos diferentes de null/NaN: 85153\n",
      "__________________\n",
      "(85153,)\n",
      "None\n"
     ]
    }
   ],
   "source": [
    "c = 'FAMI_SERVICIO_TELEVISION'\n",
    "print(data_2013[c].value_counts().sort_index().index)\n",
    "print(data_2013[c].value_counts().sort_index())\n",
    "print(missing_data(data_2013[c]))"
   ]
  },
  {
   "cell_type": "code",
   "execution_count": 472,
   "metadata": {
    "collapsed": false
   },
   "outputs": [
    {
     "name": "stdout",
     "output_type": "stream",
     "text": [
      "Float64Index([0.0, 1.0, 3.0], dtype='float64')\n",
      "0    24177\n",
      "1    57412\n",
      "3     3564\n",
      "Name: FAMI_COMPUTADOR, dtype: int64\n",
      "Elementos null/NaN 0\n",
      "__________________\n",
      "Elementos diferentes de null/NaN: 85153\n",
      "__________________\n",
      "(85153,)\n",
      "None\n"
     ]
    }
   ],
   "source": [
    "c = 'FAMI_COMPUTADOR'\n",
    "print(data_2013[c].value_counts().sort_index().index)\n",
    "print(data_2013[c].value_counts().sort_index())\n",
    "print(missing_data(data_2013[c]))"
   ]
  },
  {
   "cell_type": "code",
   "execution_count": 473,
   "metadata": {
    "collapsed": false
   },
   "outputs": [
    {
     "name": "stdout",
     "output_type": "stream",
     "text": [
      "Float64Index([0.0, 1.0], dtype='float64')\n",
      "0    26172\n",
      "1    58980\n",
      "Name: FAMI_LAVADORA, dtype: int64\n",
      "Elementos null/NaN 1\n",
      "__________________\n",
      "Elementos diferentes de null/NaN: 85152\n",
      "__________________\n",
      "(85152,)\n",
      "None\n"
     ]
    }
   ],
   "source": [
    "c = 'FAMI_LAVADORA'\n",
    "print(data_2013[c].value_counts().sort_index().index)\n",
    "print(data_2013[c].value_counts().sort_index())\n",
    "print(missing_data(data_2013[c]))"
   ]
  },
  {
   "cell_type": "code",
   "execution_count": 474,
   "metadata": {
    "collapsed": true
   },
   "outputs": [],
   "source": [
    "data_2013[c].fillna(method='bfill', inplace=True)\n",
    "data_2013[c].fillna(method='ffill', inplace=True)"
   ]
  },
  {
   "cell_type": "code",
   "execution_count": 475,
   "metadata": {
    "collapsed": false
   },
   "outputs": [
    {
     "name": "stdout",
     "output_type": "stream",
     "text": [
      "Float64Index([0.0, 1.0], dtype='float64')\n",
      "0     7500\n",
      "1    77649\n",
      "Name: FAMI_NEVERA, dtype: int64\n",
      "Elementos null/NaN 4\n",
      "__________________\n",
      "Elementos diferentes de null/NaN: 85149\n",
      "__________________\n",
      "(85149,)\n",
      "None\n"
     ]
    }
   ],
   "source": [
    "c = 'FAMI_NEVERA'\n",
    "print(data_2013[c].value_counts().sort_index().index)\n",
    "print(data_2013[c].value_counts().sort_index())\n",
    "print(missing_data(data_2013[c]))"
   ]
  },
  {
   "cell_type": "code",
   "execution_count": 476,
   "metadata": {
    "collapsed": true
   },
   "outputs": [],
   "source": [
    "data_2013[c].fillna(method='bfill', inplace=True)\n",
    "data_2013[c].fillna(method='ffill', inplace=True)"
   ]
  },
  {
   "cell_type": "code",
   "execution_count": 477,
   "metadata": {
    "collapsed": false
   },
   "outputs": [
    {
     "name": "stdout",
     "output_type": "stream",
     "text": [
      "Float64Index([0.0, 1.0], dtype='float64')\n",
      "0    43688\n",
      "1    41464\n",
      "Name: FAMI_HORNO, dtype: int64\n",
      "Elementos null/NaN 1\n",
      "__________________\n",
      "Elementos diferentes de null/NaN: 85152\n",
      "__________________\n",
      "(85152,)\n",
      "None\n"
     ]
    }
   ],
   "source": [
    "c = 'FAMI_HORNO'\n",
    "print(data_2013[c].value_counts().sort_index().index)\n",
    "print(data_2013[c].value_counts().sort_index())\n",
    "print(missing_data(data_2013[c]))"
   ]
  },
  {
   "cell_type": "code",
   "execution_count": 478,
   "metadata": {
    "collapsed": true
   },
   "outputs": [],
   "source": [
    "data_2013[c].fillna(method='bfill', inplace=True)\n",
    "data_2013[c].fillna(method='ffill', inplace=True)"
   ]
  },
  {
   "cell_type": "code",
   "execution_count": 479,
   "metadata": {
    "collapsed": false
   },
   "outputs": [
    {
     "name": "stdout",
     "output_type": "stream",
     "text": [
      "Float64Index([0.0, 1.0], dtype='float64')\n",
      "0    28939\n",
      "1    56214\n",
      "Name: FAMI_DVD, dtype: int64\n",
      "Elementos null/NaN 0\n",
      "__________________\n",
      "Elementos diferentes de null/NaN: 85153\n",
      "__________________\n",
      "(85153,)\n",
      "None\n"
     ]
    }
   ],
   "source": [
    "c = 'FAMI_DVD'\n",
    "print(data_2013[c].value_counts().sort_index().index)\n",
    "print(data_2013[c].value_counts().sort_index())\n",
    "print(missing_data(data_2013[c]))"
   ]
  },
  {
   "cell_type": "code",
   "execution_count": 480,
   "metadata": {
    "collapsed": false
   },
   "outputs": [
    {
     "name": "stdout",
     "output_type": "stream",
     "text": [
      "Float64Index([0.0, 1.0], dtype='float64')\n",
      "0    54991\n",
      "1    30161\n",
      "Name: FAMI_MICROONDAS, dtype: int64\n",
      "Elementos null/NaN 1\n",
      "__________________\n",
      "Elementos diferentes de null/NaN: 85152\n",
      "__________________\n",
      "(85152,)\n",
      "None\n"
     ]
    }
   ],
   "source": [
    "c = 'FAMI_MICROONDAS'\n",
    "print(data_2013[c].value_counts().sort_index().index)\n",
    "print(data_2013[c].value_counts().sort_index())\n",
    "print(missing_data(data_2013[c]))"
   ]
  },
  {
   "cell_type": "code",
   "execution_count": 481,
   "metadata": {
    "collapsed": true
   },
   "outputs": [],
   "source": [
    "data_2013[c].fillna(method='bfill', inplace=True)\n",
    "data_2013[c].fillna(method='ffill', inplace=True)"
   ]
  },
  {
   "cell_type": "code",
   "execution_count": 482,
   "metadata": {
    "collapsed": false
   },
   "outputs": [
    {
     "name": "stdout",
     "output_type": "stream",
     "text": [
      "Float64Index([0.0, 1.0], dtype='float64')\n",
      "0    61296\n",
      "1    23857\n",
      "Name: FAMI_AUTOMOVIL, dtype: int64\n",
      "Elementos null/NaN 0\n",
      "__________________\n",
      "Elementos diferentes de null/NaN: 85153\n",
      "__________________\n",
      "(85153,)\n",
      "None\n"
     ]
    }
   ],
   "source": [
    "c = 'FAMI_AUTOMOVIL'\n",
    "print(data_2013[c].value_counts().sort_index().index)\n",
    "print(data_2013[c].value_counts().sort_index())\n",
    "print(missing_data(data_2013[c]))"
   ]
  },
  {
   "cell_type": "code",
   "execution_count": 483,
   "metadata": {
    "collapsed": false
   },
   "outputs": [
    {
     "name": "stdout",
     "output_type": "stream",
     "text": [
      "Float64Index([1.0, 2.0, 3.0, 4.0, 5.0, 6.0, 7.0], dtype='float64')\n",
      "1    14174\n",
      "2    36902\n",
      "3    16050\n",
      "4     8400\n",
      "5     3128\n",
      "6     2239\n",
      "7     4260\n",
      "Name: FAMI_INGRESO_FMILIAR_MENSUAL, dtype: int64\n",
      "Elementos null/NaN 0\n",
      "__________________\n",
      "Elementos diferentes de null/NaN: 85153\n",
      "__________________\n",
      "(85153,)\n",
      "None\n"
     ]
    }
   ],
   "source": [
    "c = 'FAMI_INGRESO_FMILIAR_MENSUAL'\n",
    "print(data_2013[c].value_counts().sort_index().index)\n",
    "print(data_2013[c].value_counts().sort_index())\n",
    "print(missing_data(data_2013[c]))"
   ]
  },
  {
   "cell_type": "code",
   "execution_count": 484,
   "metadata": {
    "collapsed": false
   },
   "outputs": [
    {
     "name": "stdout",
     "output_type": "stream",
     "text": [
      "Float64Index([0.0, 1.0, 2.0, 3.0, 4.0, 5.0, 6.0, 7.0], dtype='float64')\n",
      "0    18454\n",
      "1      330\n",
      "2       18\n",
      "3     1509\n",
      "4      572\n",
      "5      724\n",
      "6      577\n",
      "7      354\n",
      "Name: ESTU_TRABAJA, dtype: int64\n",
      "Elementos null/NaN 62615\n",
      "__________________\n",
      "Elementos diferentes de null/NaN: 22538\n",
      "__________________\n",
      "(22538,)\n",
      "None\n"
     ]
    }
   ],
   "source": [
    "c = 'ESTU_TRABAJA'\n",
    "print(data_2013[c].value_counts().sort_index().index)\n",
    "print(data_2013[c].value_counts().sort_index())\n",
    "print(missing_data(data_2013[c]))"
   ]
  },
  {
   "cell_type": "code",
   "execution_count": 485,
   "metadata": {
    "collapsed": false
   },
   "outputs": [
    {
     "name": "stdout",
     "output_type": "stream",
     "text": [
      "cant null antes: 62615\n",
      "cant null despues: 1\n",
      "cant null antes: 1\n",
      "cant null despues: 0\n"
     ]
    }
   ],
   "source": [
    "Do_resamples(data_2013, c, float)"
   ]
  },
  {
   "cell_type": "code",
   "execution_count": 486,
   "metadata": {
    "collapsed": false,
    "scrolled": true
   },
   "outputs": [
    {
     "name": "stdout",
     "output_type": "stream",
     "text": [
      "Float64Index([ 0.0,  1.0,  2.0,  3.0,  4.0,  5.0,  6.0,  7.0,  8.0,  9.0, 10.0,\n",
      "              11.0, 12.0, 13.0, 14.0, 15.0, 16.0, 17.0, 18.0, 19.0, 20.0],\n",
      "             dtype='float64')\n",
      "0        3\n",
      "1        2\n",
      "2        5\n",
      "3       11\n",
      "4       34\n",
      "5       26\n",
      "6       56\n",
      "7       12\n",
      "8      257\n",
      "9       53\n",
      "10      96\n",
      "11       7\n",
      "12      56\n",
      "13       4\n",
      "14      10\n",
      "15      42\n",
      "16      49\n",
      "17       9\n",
      "18      41\n",
      "19      19\n",
      "20    2139\n",
      "Name: ESTU_HORAS_TRABAJA, dtype: int64\n",
      "Elementos null/NaN 82222\n",
      "__________________\n",
      "Elementos diferentes de null/NaN: 2931\n",
      "__________________\n",
      "(2931,)\n",
      "None\n"
     ]
    }
   ],
   "source": [
    "c = 'ESTU_HORAS_TRABAJA'\n",
    "print(data_2013[c].value_counts().sort_index().index)\n",
    "print(data_2013[c].value_counts().sort_index())\n",
    "print(missing_data(data_2013[c]))"
   ]
  },
  {
   "cell_type": "code",
   "execution_count": 487,
   "metadata": {
    "collapsed": false
   },
   "outputs": [
    {
     "name": "stdout",
     "output_type": "stream",
     "text": [
      "cant null antes: 82222\n",
      "cant null despues: 0\n"
     ]
    }
   ],
   "source": [
    "Do_resamples(data_2013, c, float)"
   ]
  },
  {
   "cell_type": "markdown",
   "metadata": {},
   "source": [
    "## TARGET"
   ]
  },
  {
   "cell_type": "code",
   "execution_count": 488,
   "metadata": {
    "collapsed": false,
    "scrolled": true
   },
   "outputs": [
    {
     "name": "stdout",
     "output_type": "stream",
     "text": [
      "Float64Index([  0.0,   7.0,   8.0,  16.0,  19.0,  22.0,  26.0,  27.0,  31.0,\n",
      "               32.0,  36.0,  39.0,  40.0,  42.0,  43.0,  44.0,  46.0,  47.0,\n",
      "               49.0,  50.0,  51.0,  52.0,  53.0,  54.0,  55.0,  57.0,  58.0,\n",
      "               60.0,  61.0,  62.0,  63.0,  64.0,  65.0,  66.0,  67.0,  69.0,\n",
      "               70.0,  72.0,  73.0,  74.0,  75.0,  76.0,  78.0,  79.0,  80.0,\n",
      "               83.0,  84.0,  85.0,  87.0,  89.0,  90.0,  95.0,  96.0,  97.0,\n",
      "              100.0, 108.0, 109.0],\n",
      "             dtype='float64')\n",
      "0       149\n",
      "7        24\n",
      "8       237\n",
      "16      575\n",
      "19      194\n",
      "22     1243\n",
      "26      510\n",
      "27     2318\n",
      "31      719\n",
      "32     3766\n",
      "36     6350\n",
      "39      759\n",
      "40     6982\n",
      "42      260\n",
      "43     8585\n",
      "44      262\n",
      "46     2051\n",
      "47     6852\n",
      "49     2235\n",
      "50     6481\n",
      "51      244\n",
      "52     1699\n",
      "53      854\n",
      "54     5434\n",
      "55     2267\n",
      "57     5479\n",
      "58     1273\n",
      "60     4504\n",
      "61     1110\n",
      "62      190\n",
      "63     3779\n",
      "64      338\n",
      "65      161\n",
      "66      743\n",
      "67     2242\n",
      "69      528\n",
      "70     1480\n",
      "72      116\n",
      "73      304\n",
      "74      751\n",
      "75       80\n",
      "76      183\n",
      "78      382\n",
      "79       41\n",
      "80      101\n",
      "83      185\n",
      "84       25\n",
      "85        9\n",
      "87        4\n",
      "89       60\n",
      "90        8\n",
      "95        3\n",
      "96       18\n",
      "97        3\n",
      "100       1\n",
      "108       1\n",
      "109       1\n",
      "Name: PUNT_LENGUAJE, dtype: int64\n",
      "Elementos null/NaN 0\n",
      "__________________\n",
      "Elementos diferentes de null/NaN: 85153\n",
      "__________________\n",
      "(85153,)\n",
      "None\n"
     ]
    }
   ],
   "source": [
    "c = 'PUNT_LENGUAJE'\n",
    "print(data_2013[c].value_counts().sort_index().index)\n",
    "print(data_2013[c].value_counts().sort_index())\n",
    "print(missing_data(data_2013[c]))"
   ]
  },
  {
   "cell_type": "code",
   "execution_count": 489,
   "metadata": {
    "collapsed": true
   },
   "outputs": [],
   "source": [
    "for i in data_2013[c].value_counts().sort_index().index:\n",
    "    if i > 100:\n",
    "        data_2013[c] = data_2013[c].replace(i, 100)\n",
    "    elif i < 0:\n",
    "        data_2013[c] = data_2013[c].replace(i, 0)"
   ]
  },
  {
   "cell_type": "code",
   "execution_count": 490,
   "metadata": {
    "collapsed": false,
    "scrolled": true
   },
   "outputs": [
    {
     "name": "stdout",
     "output_type": "stream",
     "text": [
      "Float64Index([  0.0,   2.0,   3.0,   5.0,   7.0,  10.0,  13.0,  15.0,  16.0,\n",
      "               17.0,  18.0,  20.0,  22.0,  23.0,  25.0,  26.0,  27.0,  29.0,\n",
      "               30.0,  31.0,  33.0,  34.0,  35.0,  38.0,  39.0,  41.0,  42.0,\n",
      "               44.0,  45.0,  48.0,  49.0,  51.0,  54.0,  55.0,  57.0,  58.0,\n",
      "               60.0,  61.0,  63.0,  64.0,  65.0,  66.0,  67.0,  69.0,  70.0,\n",
      "               73.0,  74.0,  77.0,  78.0,  82.0,  83.0,  84.0,  87.0,  88.0,\n",
      "               89.0,  90.0,  91.0,  94.0,  95.0,  96.0,  97.0, 101.0, 103.0,\n",
      "              105.0, 107.0, 108.0, 117.0, 122.0, 123.0, 125.0, 126.0, 127.0],\n",
      "             dtype='float64')\n",
      "0       104\n",
      "2         5\n",
      "3        33\n",
      "5        18\n",
      "7        18\n",
      "10      180\n",
      "13       10\n",
      "15      100\n",
      "16       57\n",
      "17      558\n",
      "18       73\n",
      "20       27\n",
      "22     1097\n",
      "23      485\n",
      "25      199\n",
      "26       68\n",
      "27     1963\n",
      "29      873\n",
      "30      138\n",
      "31     3350\n",
      "33      464\n",
      "34     1162\n",
      "35     4542\n",
      "38     6901\n",
      "39      676\n",
      "41     2408\n",
      "42     6060\n",
      "44      982\n",
      "45     7637\n",
      "48     7948\n",
      "       ... \n",
      "67      408\n",
      "69     1885\n",
      "70      674\n",
      "73     1497\n",
      "74      450\n",
      "77      262\n",
      "78     1144\n",
      "82      227\n",
      "83      230\n",
      "84      545\n",
      "87       86\n",
      "88      181\n",
      "89       80\n",
      "90       23\n",
      "91      286\n",
      "94       76\n",
      "95       74\n",
      "96       61\n",
      "97       59\n",
      "101       9\n",
      "103     130\n",
      "105      52\n",
      "107      39\n",
      "108      78\n",
      "117       1\n",
      "122      50\n",
      "123      21\n",
      "125      21\n",
      "126      10\n",
      "127      20\n",
      "Name: PUNT_MATEMATICAS, dtype: int64\n",
      "Elementos null/NaN 0\n",
      "__________________\n",
      "Elementos diferentes de null/NaN: 85153\n",
      "__________________\n",
      "(85153,)\n",
      "None\n"
     ]
    }
   ],
   "source": [
    "c = 'PUNT_MATEMATICAS'\n",
    "print(data_2013[c].value_counts().sort_index().index)\n",
    "print(data_2013[c].value_counts().sort_index())\n",
    "print(missing_data(data_2013[c]))"
   ]
  },
  {
   "cell_type": "code",
   "execution_count": 491,
   "metadata": {
    "collapsed": true
   },
   "outputs": [],
   "source": [
    "for i in data_2013[c].value_counts().sort_index().index:\n",
    "    if i > 100:\n",
    "        data_2013[c] = data_2013[c].replace(i, 100)\n",
    "    elif i < 0:\n",
    "        data_2013[c] = data_2013[c].replace(i, 0)"
   ]
  },
  {
   "cell_type": "code",
   "execution_count": 492,
   "metadata": {
    "collapsed": false,
    "scrolled": true
   },
   "outputs": [
    {
     "name": "stdout",
     "output_type": "stream",
     "text": [
      "Float64Index([ 0.0, 11.0, 13.0, 14.0, 15.0, 19.0, 20.0, 21.0, 22.0, 24.0, 25.0,\n",
      "              26.0, 28.0, 29.0, 30.0, 31.0, 32.0, 33.0, 34.0, 35.0, 36.0, 37.0,\n",
      "              38.0, 39.0, 40.0, 41.0, 42.0, 43.0, 44.0, 45.0, 46.0, 47.0, 48.0,\n",
      "              49.0, 50.0, 51.0, 52.0, 53.0, 54.0, 55.0, 56.0, 57.0, 58.0, 59.0,\n",
      "              60.0, 61.0, 62.0, 63.0, 64.0, 65.0, 66.0, 67.0, 68.0, 69.0, 70.0,\n",
      "              71.0, 72.0, 73.0, 74.0, 75.0, 76.0, 77.0, 79.0, 80.0, 82.0, 84.0,\n",
      "              85.0, 97.0],\n",
      "             dtype='float64')\n",
      "0      130\n",
      "11       4\n",
      "13      24\n",
      "14       8\n",
      "15       2\n",
      "19      19\n",
      "20      53\n",
      "21      25\n",
      "22      19\n",
      "24      29\n",
      "25     225\n",
      "26      74\n",
      "28     666\n",
      "29     141\n",
      "30      62\n",
      "31    1318\n",
      "32     358\n",
      "33     193\n",
      "34    2243\n",
      "35     523\n",
      "36    3390\n",
      "37     797\n",
      "38    4301\n",
      "39    5127\n",
      "40    1005\n",
      "41    5527\n",
      "42    2109\n",
      "43    5244\n",
      "44    5842\n",
      "45    1778\n",
      "      ... \n",
      "54    2393\n",
      "55    1011\n",
      "56    2534\n",
      "57     467\n",
      "58    2410\n",
      "59    1684\n",
      "60     476\n",
      "61    1295\n",
      "62     363\n",
      "63     931\n",
      "64     236\n",
      "65     131\n",
      "66     606\n",
      "67     116\n",
      "68      64\n",
      "69     373\n",
      "70      28\n",
      "71      29\n",
      "72     184\n",
      "73      14\n",
      "74       6\n",
      "75       7\n",
      "76       9\n",
      "77      75\n",
      "79       6\n",
      "80       1\n",
      "82       2\n",
      "84      17\n",
      "85       1\n",
      "97       1\n",
      "Name: PUNT_C_SOCIALES, dtype: int64\n",
      "Elementos null/NaN 0\n",
      "__________________\n",
      "Elementos diferentes de null/NaN: 85153\n",
      "__________________\n",
      "(85153,)\n",
      "None\n"
     ]
    }
   ],
   "source": [
    "c = 'PUNT_C_SOCIALES'\n",
    "print(data_2013[c].value_counts().sort_index().index)\n",
    "print(data_2013[c].value_counts().sort_index())\n",
    "print(missing_data(data_2013[c]))"
   ]
  },
  {
   "cell_type": "code",
   "execution_count": 493,
   "metadata": {
    "collapsed": false,
    "scrolled": true
   },
   "outputs": [
    {
     "name": "stdout",
     "output_type": "stream",
     "text": [
      "Float64Index([  0.0,   2.0,   4.0,   7.0,   8.0,  10.0,  12.0,  13.0,  16.0,\n",
      "               18.0,  19.0,  21.0,  23.0,  25.0,  26.0,  27.0,  28.0,  29.0,\n",
      "               30.0,  31.0,  32.0,  33.0,  35.0,  36.0,  38.0,  40.0,  41.0,\n",
      "               42.0,  43.0,  44.0,  45.0,  46.0,  48.0,  50.0,  52.0,  53.0,\n",
      "               55.0,  56.0,  57.0,  58.0,  59.0,  60.0,  61.0,  62.0,  63.0,\n",
      "               64.0,  65.0,  67.0,  68.0,  69.0,  71.0,  73.0,  74.0,  77.0,\n",
      "               79.0,  80.0,  82.0,  86.0,  89.0,  91.0,  96.0, 107.0],\n",
      "             dtype='float64')\n",
      "0        41\n",
      "2        52\n",
      "4        11\n",
      "7         5\n",
      "8         7\n",
      "10        8\n",
      "12      250\n",
      "13       27\n",
      "16       75\n",
      "18      723\n",
      "19      127\n",
      "21      182\n",
      "23     1790\n",
      "25      454\n",
      "26     2704\n",
      "27      306\n",
      "28      625\n",
      "29      174\n",
      "30     4264\n",
      "31      848\n",
      "32      250\n",
      "33     6590\n",
      "35     6756\n",
      "36     1100\n",
      "38     7736\n",
      "40     1098\n",
      "41     6542\n",
      "42     1043\n",
      "43     6150\n",
      "44      947\n",
      "       ... \n",
      "48     5942\n",
      "50     5144\n",
      "52      208\n",
      "53     4282\n",
      "55     1069\n",
      "56     2764\n",
      "57      149\n",
      "58      775\n",
      "59     2056\n",
      "60      115\n",
      "61      645\n",
      "62     1491\n",
      "63       80\n",
      "64      528\n",
      "65      991\n",
      "67       53\n",
      "68      313\n",
      "69      566\n",
      "71       30\n",
      "73      162\n",
      "74      294\n",
      "77       15\n",
      "79       29\n",
      "80       97\n",
      "82       34\n",
      "86        5\n",
      "89        9\n",
      "91       23\n",
      "96        6\n",
      "107       2\n",
      "Name: PUNT_FILOSOFIA, dtype: int64\n",
      "Elementos null/NaN 0\n",
      "__________________\n",
      "Elementos diferentes de null/NaN: 85153\n",
      "__________________\n",
      "(85153,)\n",
      "None\n"
     ]
    }
   ],
   "source": [
    "c = 'PUNT_FILOSOFIA'\n",
    "print(data_2013[c].value_counts().sort_index().index)\n",
    "print(data_2013[c].value_counts().sort_index())\n",
    "print(missing_data(data_2013[c]))"
   ]
  },
  {
   "cell_type": "code",
   "execution_count": 494,
   "metadata": {
    "collapsed": true
   },
   "outputs": [],
   "source": [
    "for i in data_2013[c].value_counts().sort_index().index:\n",
    "    if i > 100:\n",
    "        data_2013[c] = data_2013[c].replace(i, 100)\n",
    "    elif i < 0:\n",
    "        data_2013[c] = data_2013[c].replace(i, 0)"
   ]
  },
  {
   "cell_type": "code",
   "execution_count": 495,
   "metadata": {
    "collapsed": false,
    "scrolled": true
   },
   "outputs": [
    {
     "name": "stdout",
     "output_type": "stream",
     "text": [
      "Float64Index([ 0.0, 16.0, 19.0, 20.0, 21.0, 23.0, 26.0, 27.0, 28.0, 30.0, 31.0,\n",
      "              32.0, 33.0, 34.0, 35.0, 36.0, 37.0, 38.0, 39.0, 40.0, 41.0, 42.0,\n",
      "              43.0, 44.0, 45.0, 46.0, 47.0, 49.0, 50.0, 51.0, 52.0, 53.0, 54.0,\n",
      "              55.0, 56.0, 57.0, 58.0, 59.0, 60.0, 61.0, 62.0, 63.0, 64.0, 65.0,\n",
      "              66.0, 67.0, 68.0, 69.0, 70.0, 71.0, 72.0, 74.0, 75.0, 80.0, 81.0,\n",
      "              83.0, 84.0, 85.0],\n",
      "             dtype='float64')\n",
      "0       26\n",
      "16       1\n",
      "19       7\n",
      "20       9\n",
      "21      76\n",
      "23       8\n",
      "26      44\n",
      "27     264\n",
      "28      27\n",
      "30     181\n",
      "31     752\n",
      "32      74\n",
      "33     414\n",
      "34    1759\n",
      "35     216\n",
      "36     649\n",
      "37    2793\n",
      "38    1429\n",
      "39    5068\n",
      "40     968\n",
      "41    5758\n",
      "42    6540\n",
      "43    1311\n",
      "44    7905\n",
      "45    1255\n",
      "46    6602\n",
      "47    7396\n",
      "49    6532\n",
      "50    1051\n",
      "51    4736\n",
      "52    4936\n",
      "53     769\n",
      "54    3554\n",
      "55     926\n",
      "56    2501\n",
      "57    2561\n",
      "58     258\n",
      "59    1963\n",
      "60     206\n",
      "61     227\n",
      "62    1227\n",
      "63     179\n",
      "64     181\n",
      "65     694\n",
      "66     216\n",
      "67      61\n",
      "68     349\n",
      "69      83\n",
      "70      44\n",
      "71      61\n",
      "72      53\n",
      "74     116\n",
      "75      57\n",
      "80      24\n",
      "81      15\n",
      "83      20\n",
      "84       8\n",
      "85      13\n",
      "Name: PUNT_BIOLOGIA, dtype: int64\n",
      "Elementos null/NaN 0\n",
      "__________________\n",
      "Elementos diferentes de null/NaN: 85153\n",
      "__________________\n",
      "(85153,)\n",
      "None\n"
     ]
    }
   ],
   "source": [
    "c = 'PUNT_BIOLOGIA'\n",
    "print(data_2013[c].value_counts().sort_index().index)\n",
    "print(data_2013[c].value_counts().sort_index())\n",
    "print(missing_data(data_2013[c]))"
   ]
  },
  {
   "cell_type": "code",
   "execution_count": 496,
   "metadata": {
    "collapsed": false,
    "scrolled": true
   },
   "outputs": [
    {
     "name": "stdout",
     "output_type": "stream",
     "text": [
      "Float64Index([ 0.0, 19.0, 20.0, 21.0, 26.0, 27.0, 28.0, 30.0, 31.0, 32.0, 33.0,\n",
      "              34.0, 35.0, 36.0, 37.0, 38.0, 39.0, 40.0, 41.0, 42.0, 43.0, 44.0,\n",
      "              45.0, 46.0, 47.0, 48.0, 49.0, 50.0, 51.0, 52.0, 53.0, 54.0, 55.0,\n",
      "              56.0, 57.0, 58.0, 59.0, 60.0, 61.0, 62.0, 63.0, 64.0, 65.0, 66.0,\n",
      "              67.0, 70.0, 71.0, 74.0, 75.0, 81.0, 82.0, 83.0, 92.0, 93.0, 94.0,\n",
      "              95.0],\n",
      "             dtype='float64')\n",
      "0       56\n",
      "19     154\n",
      "20      63\n",
      "21      44\n",
      "26     577\n",
      "27     261\n",
      "28     237\n",
      "30    1493\n",
      "31      54\n",
      "32     813\n",
      "33     260\n",
      "34    2743\n",
      "35    1077\n",
      "36    5056\n",
      "37     196\n",
      "38    1301\n",
      "39    6371\n",
      "40     293\n",
      "41    8150\n",
      "42     288\n",
      "43    7345\n",
      "44     882\n",
      "45    6684\n",
      "46     466\n",
      "47    5769\n",
      "48     335\n",
      "49    4988\n",
      "50    3558\n",
      "51    1034\n",
      "52    3280\n",
      "53     794\n",
      "54    2922\n",
      "55     984\n",
      "56    2401\n",
      "57     880\n",
      "58    2143\n",
      "59     880\n",
      "60    1869\n",
      "61     562\n",
      "62    1775\n",
      "63     242\n",
      "64     677\n",
      "65    1068\n",
      "66     224\n",
      "67    1311\n",
      "70     560\n",
      "71     693\n",
      "74     170\n",
      "75     635\n",
      "81     105\n",
      "82      90\n",
      "83     188\n",
      "92       7\n",
      "93      30\n",
      "94     104\n",
      "95      11\n",
      "Name: PUNT_QUIMICA, dtype: int64\n",
      "Elementos null/NaN 0\n",
      "__________________\n",
      "Elementos diferentes de null/NaN: 85153\n",
      "__________________\n",
      "(85153,)\n",
      "None\n"
     ]
    }
   ],
   "source": [
    "c = 'PUNT_QUIMICA'\n",
    "print(data_2013[c].value_counts().sort_index().index)\n",
    "print(data_2013[c].value_counts().sort_index())\n",
    "print(missing_data(data_2013[c]))"
   ]
  },
  {
   "cell_type": "code",
   "execution_count": 497,
   "metadata": {
    "collapsed": false,
    "scrolled": true
   },
   "outputs": [
    {
     "name": "stdout",
     "output_type": "stream",
     "text": [
      "Float64Index([  0.0,   7.0,   8.0,  12.0,  13.0,  17.0,  18.0,  21.0,  22.0,\n",
      "               23.0,  24.0,  27.0,  28.0,  29.0,  31.0,  32.0,  33.0,  34.0,\n",
      "               36.0,  37.0,  39.0,  40.0,  42.0,  43.0,  44.0,  45.0,  47.0,\n",
      "               49.0,  50.0,  52.0,  54.0,  55.0,  57.0,  59.0,  60.0,  62.0,\n",
      "               63.0,  64.0,  65.0,  66.0,  67.0,  68.0,  69.0,  70.0,  71.0,\n",
      "               72.0,  73.0,  74.0,  76.0,  77.0,  79.0,  80.0,  82.0,  83.0,\n",
      "               85.0,  90.0,  91.0,  92.0,  93.0,  95.0, 106.0, 109.0],\n",
      "             dtype='float64')\n",
      "0        45\n",
      "7        56\n",
      "8         3\n",
      "12       51\n",
      "13       26\n",
      "17      263\n",
      "18       17\n",
      "21       76\n",
      "22      263\n",
      "23      669\n",
      "24       43\n",
      "27     1777\n",
      "28      736\n",
      "29      110\n",
      "31     2955\n",
      "32     1691\n",
      "33      185\n",
      "34     4400\n",
      "36     2683\n",
      "37     5657\n",
      "39     3273\n",
      "40     6414\n",
      "42     3379\n",
      "43     6400\n",
      "44     1102\n",
      "45     7885\n",
      "47     7898\n",
      "49      297\n",
      "50     5999\n",
      "52     4997\n",
      "       ... \n",
      "57     3197\n",
      "59      129\n",
      "60     2420\n",
      "62      696\n",
      "63     1368\n",
      "64       72\n",
      "65      546\n",
      "66     1001\n",
      "67       57\n",
      "68      314\n",
      "69      153\n",
      "70      570\n",
      "71       38\n",
      "72      277\n",
      "73       56\n",
      "74      406\n",
      "76      119\n",
      "77       68\n",
      "79       19\n",
      "80      186\n",
      "82       63\n",
      "83       31\n",
      "85        9\n",
      "90       62\n",
      "91        8\n",
      "92       12\n",
      "93        2\n",
      "95        4\n",
      "106      17\n",
      "109       1\n",
      "Name: PUNT_FISICA, dtype: int64\n",
      "Elementos null/NaN 0\n",
      "__________________\n",
      "Elementos diferentes de null/NaN: 85153\n",
      "__________________\n",
      "(85153,)\n",
      "None\n"
     ]
    }
   ],
   "source": [
    "c = 'PUNT_FISICA'\n",
    "print(data_2013[c].value_counts().sort_index().index)\n",
    "print(data_2013[c].value_counts().sort_index())\n",
    "print(missing_data(data_2013[c]))"
   ]
  },
  {
   "cell_type": "code",
   "execution_count": 498,
   "metadata": {
    "collapsed": true
   },
   "outputs": [],
   "source": [
    "for i in data_2013[c].value_counts().sort_index().index:\n",
    "    if i > 100:\n",
    "        data_2013[c] = data_2013[c].replace(i, 100)\n",
    "    elif i < 0:\n",
    "        data_2013[c] = data_2013[c].replace(i, 0)"
   ]
  },
  {
   "cell_type": "code",
   "execution_count": 499,
   "metadata": {
    "collapsed": false,
    "scrolled": true
   },
   "outputs": [
    {
     "name": "stdout",
     "output_type": "stream",
     "text": [
      "Float64Index([ -1.0,   0.0,   3.0,   7.0,  10.0,  11.0,  14.0,  15.0,  17.0,\n",
      "               20.0,  21.0,  22.0,  23.0,  24.0,  25.0,  26.0,  27.0,  29.0,\n",
      "               30.0,  31.0,  32.0,  33.0,  34.0,  35.0,  36.0,  37.0,  38.0,\n",
      "               39.0,  40.0,  42.0,  43.0,  45.0,  46.0,  47.0,  48.0,  50.0,\n",
      "               51.0,  52.0,  53.0,  54.0,  55.0,  56.0,  57.0,  58.0,  59.0,\n",
      "               60.0,  61.0,  63.0,  65.0,  68.0,  70.0,  72.0,  75.0,  77.0,\n",
      "               80.0,  83.0,  88.0,  89.0,  92.0,  94.0,  96.0, 100.0],\n",
      "             dtype='float64')\n",
      "-1        21\n",
      " 0        49\n",
      " 3        19\n",
      " 7        18\n",
      " 10        7\n",
      " 11       12\n",
      " 14       45\n",
      " 15        1\n",
      " 17       64\n",
      " 20      185\n",
      " 21        5\n",
      " 22      136\n",
      " 23      228\n",
      " 24        7\n",
      " 25      251\n",
      " 26      426\n",
      " 27      458\n",
      " 29      783\n",
      " 30      743\n",
      " 31     1220\n",
      " 32      982\n",
      " 33     1852\n",
      " 34     1218\n",
      " 35     2701\n",
      " 36     1318\n",
      " 37     3347\n",
      " 38     1581\n",
      " 39     5038\n",
      " 40     5440\n",
      " 42     5273\n",
      "        ... \n",
      " 46     3737\n",
      " 47     3203\n",
      " 48     2797\n",
      " 50     2430\n",
      " 51     2030\n",
      " 52     1776\n",
      " 53     1558\n",
      " 54     1085\n",
      " 55      335\n",
      " 56     1226\n",
      " 57     1174\n",
      " 58      809\n",
      " 59      969\n",
      " 60      950\n",
      " 61      882\n",
      " 63      840\n",
      " 65      765\n",
      " 68      775\n",
      " 70      840\n",
      " 72      846\n",
      " 75      932\n",
      " 77     1020\n",
      " 80     1326\n",
      " 83     1468\n",
      " 88      159\n",
      " 89     1408\n",
      " 92      184\n",
      " 94     1139\n",
      " 96      160\n",
      " 100     543\n",
      "Name: PUNT_INGLES, dtype: int64\n",
      "Elementos null/NaN 0\n",
      "__________________\n",
      "Elementos diferentes de null/NaN: 85153\n",
      "__________________\n",
      "(85153,)\n",
      "None\n"
     ]
    }
   ],
   "source": [
    "c = 'PUNT_INGLES'\n",
    "print(data_2013[c].value_counts().sort_index().index)\n",
    "print(data_2013[c].value_counts().sort_index())\n",
    "print(missing_data(data_2013[c]))"
   ]
  },
  {
   "cell_type": "code",
   "execution_count": 500,
   "metadata": {
    "collapsed": true
   },
   "outputs": [],
   "source": [
    "for i in data_2013[c].value_counts().sort_index().index:\n",
    "    if i > 100:\n",
    "        data_2013[c] = data_2013[c].replace(i, 100)\n",
    "    elif i < 0:\n",
    "        data_2013[c] = data_2013[c].replace(i, 0)"
   ]
  },
  {
   "cell_type": "code",
   "execution_count": 501,
   "metadata": {
    "collapsed": false
   },
   "outputs": [
    {
     "name": "stdout",
     "output_type": "stream",
     "text": [
      "Index(['A-', 'A1', 'A2', 'B+', 'B1'], dtype='object')\n",
      "A-    38644\n",
      "A1    25095\n",
      "A2     8988\n",
      "B+     5061\n",
      "B1     7344\n",
      "Name: DESEMP_INGLES, dtype: int64\n",
      "Elementos null/NaN 21\n",
      "__________________\n",
      "Elementos diferentes de null/NaN: 85132\n",
      "__________________\n",
      "(85132,)\n",
      "None\n"
     ]
    }
   ],
   "source": [
    "c = 'DESEMP_INGLES'\n",
    "print(data_2013[c].value_counts().sort_index().index)\n",
    "print(data_2013[c].value_counts().sort_index())\n",
    "print(missing_data(data_2013[c]))"
   ]
  },
  {
   "cell_type": "code",
   "execution_count": 502,
   "metadata": {
    "collapsed": false
   },
   "outputs": [
    {
     "name": "stdout",
     "output_type": "stream",
     "text": [
      "cant null antes: 21\n",
      "cant null despues: 0\n"
     ]
    }
   ],
   "source": [
    "Do_resamples(data_2013, c, str)"
   ]
  },
  {
   "cell_type": "code",
   "execution_count": 503,
   "metadata": {
    "collapsed": false
   },
   "outputs": [
    {
     "name": "stdout",
     "output_type": "stream",
     "text": [
      "Index(['MEDIO AMBIENTE', 'PROFUNDIZACIÓN EN BIOLOGÍA',\n",
      "       'PROFUNDIZACIÓN EN CIENCIAS SOCIALES', 'PROFUNDIZACIÓN EN LENGUAJE',\n",
      "       'PROFUNDIZACIÓN EN MATEMÁTICA', 'VIOLENCIA Y SOCIEDAD'],\n",
      "      dtype='object')\n",
      "MEDIO AMBIENTE                         23534\n",
      "PROFUNDIZACIÓN EN BIOLOGÍA             12236\n",
      "PROFUNDIZACIÓN EN CIENCIAS SOCIALES     4986\n",
      "PROFUNDIZACIÓN EN LENGUAJE              9437\n",
      "PROFUNDIZACIÓN EN MATEMÁTICA           11776\n",
      "VIOLENCIA Y SOCIEDAD                   23184\n",
      "Name: NOMBRE_COMP_FLEXIBLE, dtype: int64\n",
      "Elementos null/NaN 0\n",
      "__________________\n",
      "Elementos diferentes de null/NaN: 85153\n",
      "__________________\n",
      "(85153,)\n",
      "None\n"
     ]
    }
   ],
   "source": [
    "c = 'NOMBRE_COMP_FLEXIBLE'\n",
    "print(data_2013[c].value_counts().sort_index().index)\n",
    "print(data_2013[c].value_counts().sort_index())\n",
    "print(missing_data(data_2013[c]))"
   ]
  },
  {
   "cell_type": "code",
   "execution_count": 504,
   "metadata": {
    "collapsed": false,
    "scrolled": true
   },
   "outputs": [
    {
     "name": "stdout",
     "output_type": "stream",
     "text": [
      "Float64Index([ 0.0,  3.0,  4.0,  5.0,  6.0,  7.0,  8.0, 22.0, 28.0, 32.0, 35.0,\n",
      "              37.0, 40.0, 42.0, 44.0, 45.0, 46.0, 47.0, 48.0, 49.0, 50.0, 51.0,\n",
      "              52.0, 53.0, 54.0, 55.0, 57.0, 58.0, 59.0, 61.0, 64.0, 73.0],\n",
      "             dtype='float64')\n",
      "0       182\n",
      "3       592\n",
      "4      7796\n",
      "5     23708\n",
      "6      5647\n",
      "7       577\n",
      "8        34\n",
      "22      211\n",
      "28      560\n",
      "32     1073\n",
      "35     1578\n",
      "37     2003\n",
      "40     2305\n",
      "42     2477\n",
      "44     2520\n",
      "45      163\n",
      "46     2442\n",
      "47      513\n",
      "48     1026\n",
      "49     3759\n",
      "50     2177\n",
      "51     7670\n",
      "52     3229\n",
      "53     3011\n",
      "54     6025\n",
      "55     1095\n",
      "57      518\n",
      "58     1211\n",
      "59      150\n",
      "61       15\n",
      "64      667\n",
      "73      219\n",
      "Name: PUNT_COMP_FLEXIBLE, dtype: int64\n",
      "Elementos null/NaN 0\n",
      "__________________\n",
      "Elementos diferentes de null/NaN: 85153\n",
      "__________________\n",
      "(85153,)\n",
      "None\n"
     ]
    }
   ],
   "source": [
    "c = 'PUNT_COMP_FLEXIBLE'\n",
    "print(data_2013[c].value_counts().sort_index().index)\n",
    "print(data_2013[c].value_counts().sort_index())\n",
    "print(missing_data(data_2013[c]))"
   ]
  },
  {
   "cell_type": "code",
   "execution_count": 505,
   "metadata": {
    "collapsed": false
   },
   "outputs": [
    {
     "name": "stdout",
     "output_type": "stream",
     "text": [
      "Index(['GB', 'I', 'II', 'III'], dtype='object')\n",
      "GB     19246\n",
      "I      16094\n",
      "II      2787\n",
      "III      308\n",
      "Name: DESEMP_COMP_FLEXIBLE, dtype: int64\n",
      "Elementos null/NaN 46718\n",
      "__________________\n",
      "Elementos diferentes de null/NaN: 38435\n",
      "__________________\n",
      "(38435,)\n",
      "None\n"
     ]
    }
   ],
   "source": [
    "c = 'DESEMP_COMP_FLEXIBLE'\n",
    "print(data_2013[c].value_counts().sort_index().index)\n",
    "print(data_2013[c].value_counts().sort_index())\n",
    "print(missing_data(data_2013[c]))"
   ]
  },
  {
   "cell_type": "code",
   "execution_count": 506,
   "metadata": {
    "collapsed": false
   },
   "outputs": [
    {
     "name": "stdout",
     "output_type": "stream",
     "text": [
      "cant null antes: 46718\n",
      "cant null despues: 0\n"
     ]
    }
   ],
   "source": [
    "Do_resamples(data_2013, c, str)"
   ]
  },
  {
   "cell_type": "code",
   "execution_count": 507,
   "metadata": {
    "collapsed": false,
    "scrolled": true
   },
   "outputs": [
    {
     "name": "stdout",
     "output_type": "stream",
     "text": [
      "Float64Index([   1.0,    2.0,    3.0,    4.0,    5.0,    6.0,    7.0,    8.0,\n",
      "                 9.0,   10.0,\n",
      "              ...\n",
      "               991.0,  992.0,  993.0,  994.0,  995.0,  996.0,  997.0,  998.0,\n",
      "               999.0, 1000.0],\n",
      "             dtype='float64', length=1000)\n",
      "1       86\n",
      "2       87\n",
      "3       87\n",
      "4       87\n",
      "5       86\n",
      "6       87\n",
      "7       86\n",
      "8       86\n",
      "9       87\n",
      "10      87\n",
      "11      87\n",
      "12      87\n",
      "13      87\n",
      "14      86\n",
      "15      87\n",
      "16      87\n",
      "17      87\n",
      "18      87\n",
      "19      87\n",
      "20      87\n",
      "21      86\n",
      "22      87\n",
      "23      87\n",
      "24      86\n",
      "25      85\n",
      "26      87\n",
      "27      86\n",
      "28      86\n",
      "29      87\n",
      "30      87\n",
      "        ..\n",
      "971     83\n",
      "972     85\n",
      "973     84\n",
      "974     84\n",
      "975     84\n",
      "976     85\n",
      "977     85\n",
      "978     87\n",
      "979     84\n",
      "980     84\n",
      "981     85\n",
      "982     87\n",
      "983     83\n",
      "984     85\n",
      "985     84\n",
      "986     86\n",
      "987     83\n",
      "988     85\n",
      "989     84\n",
      "990     83\n",
      "991     87\n",
      "992     83\n",
      "993     83\n",
      "994     82\n",
      "995     79\n",
      "996     46\n",
      "997     19\n",
      "998     44\n",
      "999     15\n",
      "1000    20\n",
      "Name: ESTU_PUESTO, dtype: int64\n",
      "Elementos null/NaN 1\n",
      "__________________\n",
      "Elementos diferentes de null/NaN: 85152\n",
      "__________________\n",
      "(85152,)\n",
      "None\n"
     ]
    }
   ],
   "source": [
    "c = 'ESTU_PUESTO'\n",
    "print(data_2013[c].value_counts().sort_index().index)\n",
    "print(data_2013[c].value_counts().sort_index())\n",
    "print(missing_data(data_2013[c]))"
   ]
  },
  {
   "cell_type": "code",
   "execution_count": 509,
   "metadata": {
    "collapsed": false
   },
   "outputs": [],
   "source": [
    "idx = data_2013[data_2013[c].isnull()].index\n",
    "data_2013 = data_2013.drop(idx)"
   ]
  },
  {
   "cell_type": "markdown",
   "metadata": {},
   "source": [
    "___"
   ]
  },
  {
   "cell_type": "markdown",
   "metadata": {},
   "source": [
    "___"
   ]
  },
  {
   "cell_type": "markdown",
   "metadata": {},
   "source": [
    "___"
   ]
  },
  {
   "cell_type": "markdown",
   "metadata": {},
   "source": [
    "___"
   ]
  },
  {
   "cell_type": "markdown",
   "metadata": {},
   "source": [
    "___"
   ]
  },
  {
   "cell_type": "code",
   "execution_count": 1,
   "metadata": {
    "collapsed": true
   },
   "outputs": [],
   "source": [
    "import pandas as pd\n",
    "import numpy as np\n",
    "%run -i ../tools/functions.py\n",
    "%run -i ../tools/label_encoder.py"
   ]
  },
  {
   "cell_type": "markdown",
   "metadata": {},
   "source": [
    "## FILE 2: 2013_2"
   ]
  },
  {
   "cell_type": "code",
   "execution_count": 116,
   "metadata": {
    "collapsed": false,
    "scrolled": true
   },
   "outputs": [
    {
     "name": "stderr",
     "output_type": "stream",
     "text": [
      "/usr/local/lib/python3.4/dist-packages/IPython/core/interactiveshell.py:2902: DtypeWarning: Columns (11,12,13,14,15,16,23) have mixed types. Specify dtype option on import or set low_memory=False.\n",
      "  interactivity=interactivity, compiler=compiler, result=result)\n"
     ]
    }
   ],
   "source": [
    "data_2013_2 = pd.read_csv('../DatosFTPICFES/SABER11/SB11-BASES_DE_DATOS/SB11-20132-RGSTRO-CLFCCN-V1-0.txt', delimiter='|')"
   ]
  },
  {
   "cell_type": "code",
   "execution_count": 117,
   "metadata": {
    "collapsed": false
   },
   "outputs": [
    {
     "data": {
      "text/plain": [
       "(573662, 113)"
      ]
     },
     "execution_count": 117,
     "metadata": {},
     "output_type": "execute_result"
    }
   ],
   "source": [
    "data_2013_2.shape"
   ]
  },
  {
   "cell_type": "code",
   "execution_count": 118,
   "metadata": {
    "collapsed": false,
    "scrolled": true
   },
   "outputs": [
    {
     "data": {
      "text/html": [
       "<div>\n",
       "<table border=\"1\" class=\"dataframe\">\n",
       "  <thead>\n",
       "    <tr style=\"text-align: right;\">\n",
       "      <th></th>\n",
       "      <th>0</th>\n",
       "      <th>1</th>\n",
       "      <th>2</th>\n",
       "    </tr>\n",
       "  </thead>\n",
       "  <tbody>\n",
       "    <tr>\n",
       "      <th>PERIODO</th>\n",
       "      <td>20132</td>\n",
       "      <td>20132</td>\n",
       "      <td>20132</td>\n",
       "    </tr>\n",
       "    <tr>\n",
       "      <th>ESTU_CONSECUTIVO</th>\n",
       "      <td>SABER1120132000001</td>\n",
       "      <td>SABER1120132000002</td>\n",
       "      <td>SABER1120132000003</td>\n",
       "    </tr>\n",
       "    <tr>\n",
       "      <th>ESTU_EDAD</th>\n",
       "      <td>24</td>\n",
       "      <td>25</td>\n",
       "      <td>30</td>\n",
       "    </tr>\n",
       "    <tr>\n",
       "      <th>ESTU_TIPO_DOCUMENTO</th>\n",
       "      <td>C</td>\n",
       "      <td>C</td>\n",
       "      <td>C</td>\n",
       "    </tr>\n",
       "    <tr>\n",
       "      <th>ESTU_PAIS_RESIDE</th>\n",
       "      <td>CO</td>\n",
       "      <td>CO</td>\n",
       "      <td>CO</td>\n",
       "    </tr>\n",
       "    <tr>\n",
       "      <th>ESTU_GENERO</th>\n",
       "      <td>M</td>\n",
       "      <td>M</td>\n",
       "      <td>M</td>\n",
       "    </tr>\n",
       "    <tr>\n",
       "      <th>ESTU_NACIMIENTO_DIA</th>\n",
       "      <td>26</td>\n",
       "      <td>6</td>\n",
       "      <td>22</td>\n",
       "    </tr>\n",
       "    <tr>\n",
       "      <th>ESTU_NACIMIENTO_MES</th>\n",
       "      <td>6</td>\n",
       "      <td>3</td>\n",
       "      <td>6</td>\n",
       "    </tr>\n",
       "    <tr>\n",
       "      <th>ESTU_NACIMIENTO_ANNO</th>\n",
       "      <td>1988</td>\n",
       "      <td>1988</td>\n",
       "      <td>1982</td>\n",
       "    </tr>\n",
       "    <tr>\n",
       "      <th>ESTU_ETNIA</th>\n",
       "      <td>NaN</td>\n",
       "      <td>NaN</td>\n",
       "      <td>NaN</td>\n",
       "    </tr>\n",
       "    <tr>\n",
       "      <th>ESTU_LIMITA_BAJAVISION</th>\n",
       "      <td>NaN</td>\n",
       "      <td>NaN</td>\n",
       "      <td>NaN</td>\n",
       "    </tr>\n",
       "    <tr>\n",
       "      <th>ESTU_LIMITA_SORDOCEGUERA</th>\n",
       "      <td>NaN</td>\n",
       "      <td>NaN</td>\n",
       "      <td>NaN</td>\n",
       "    </tr>\n",
       "    <tr>\n",
       "      <th>ESTU_LIMITA_COGNITIVA</th>\n",
       "      <td>NaN</td>\n",
       "      <td>NaN</td>\n",
       "      <td>NaN</td>\n",
       "    </tr>\n",
       "    <tr>\n",
       "      <th>ESTU_LIMITA_INVIDENTE</th>\n",
       "      <td>NaN</td>\n",
       "      <td>NaN</td>\n",
       "      <td>NaN</td>\n",
       "    </tr>\n",
       "    <tr>\n",
       "      <th>ESTU_LIMITA_MOTRIZ</th>\n",
       "      <td>NaN</td>\n",
       "      <td>NaN</td>\n",
       "      <td>NaN</td>\n",
       "    </tr>\n",
       "    <tr>\n",
       "      <th>ESTU_LIMITA_SORDOINTERPRETE</th>\n",
       "      <td>NaN</td>\n",
       "      <td>NaN</td>\n",
       "      <td>NaN</td>\n",
       "    </tr>\n",
       "    <tr>\n",
       "      <th>ESTU_LIMITA_SORDONOINTERPRETE</th>\n",
       "      <td>NaN</td>\n",
       "      <td>NaN</td>\n",
       "      <td>NaN</td>\n",
       "    </tr>\n",
       "    <tr>\n",
       "      <th>ESTU_COD_RESIDE_MCPIO</th>\n",
       "      <td>23001</td>\n",
       "      <td>23001</td>\n",
       "      <td>23001</td>\n",
       "    </tr>\n",
       "    <tr>\n",
       "      <th>ESTU_RESIDE_MCPIO</th>\n",
       "      <td>MONTERIA</td>\n",
       "      <td>MONTERIA</td>\n",
       "      <td>MONTERIA</td>\n",
       "    </tr>\n",
       "    <tr>\n",
       "      <th>ESTU_RESIDE_DEPTO</th>\n",
       "      <td>CÓRDOBA</td>\n",
       "      <td>CÓRDOBA</td>\n",
       "      <td>CÓRDOBA</td>\n",
       "    </tr>\n",
       "    <tr>\n",
       "      <th>ESTU_ZONA_RESIDE</th>\n",
       "      <td>10</td>\n",
       "      <td>10</td>\n",
       "      <td>10</td>\n",
       "    </tr>\n",
       "    <tr>\n",
       "      <th>ESTU_AREA_RESIDE</th>\n",
       "      <td>1</td>\n",
       "      <td>1</td>\n",
       "      <td>1</td>\n",
       "    </tr>\n",
       "    <tr>\n",
       "      <th>COLE_COD_ICFES</th>\n",
       "      <td>NaN</td>\n",
       "      <td>NaN</td>\n",
       "      <td>NaN</td>\n",
       "    </tr>\n",
       "    <tr>\n",
       "      <th>COLE_COD_DANE_INSTITUCION</th>\n",
       "      <td>NaN</td>\n",
       "      <td>NaN</td>\n",
       "      <td>NaN</td>\n",
       "    </tr>\n",
       "    <tr>\n",
       "      <th>COLE_NOMBRE_SEDE</th>\n",
       "      <td>NaN</td>\n",
       "      <td>NaN</td>\n",
       "      <td>NaN</td>\n",
       "    </tr>\n",
       "    <tr>\n",
       "      <th>COLE_CALENDARIO</th>\n",
       "      <td>NaN</td>\n",
       "      <td>NaN</td>\n",
       "      <td>NaN</td>\n",
       "    </tr>\n",
       "    <tr>\n",
       "      <th>COLE_GENERO</th>\n",
       "      <td>NaN</td>\n",
       "      <td>NaN</td>\n",
       "      <td>NaN</td>\n",
       "    </tr>\n",
       "    <tr>\n",
       "      <th>COLE_NATURALEZA</th>\n",
       "      <td>NaN</td>\n",
       "      <td>NaN</td>\n",
       "      <td>NaN</td>\n",
       "    </tr>\n",
       "    <tr>\n",
       "      <th>COLE_BILINGUE</th>\n",
       "      <td>NaN</td>\n",
       "      <td>NaN</td>\n",
       "      <td>NaN</td>\n",
       "    </tr>\n",
       "    <tr>\n",
       "      <th>COLE_JORNADA</th>\n",
       "      <td>NaN</td>\n",
       "      <td>NaN</td>\n",
       "      <td>NaN</td>\n",
       "    </tr>\n",
       "    <tr>\n",
       "      <th>...</th>\n",
       "      <td>...</td>\n",
       "      <td>...</td>\n",
       "      <td>...</td>\n",
       "    </tr>\n",
       "    <tr>\n",
       "      <th>FAMI_NIVEL_SISBEN</th>\n",
       "      <td>NaN</td>\n",
       "      <td>NaN</td>\n",
       "      <td>NaN</td>\n",
       "    </tr>\n",
       "    <tr>\n",
       "      <th>FAMI_PISOSHOGAR</th>\n",
       "      <td>NaN</td>\n",
       "      <td>NaN</td>\n",
       "      <td>NaN</td>\n",
       "    </tr>\n",
       "    <tr>\n",
       "      <th>FAMI_PERSONAS_HOGAR</th>\n",
       "      <td>NaN</td>\n",
       "      <td>NaN</td>\n",
       "      <td>NaN</td>\n",
       "    </tr>\n",
       "    <tr>\n",
       "      <th>FAMI_TELEFONO_FIJO</th>\n",
       "      <td>NaN</td>\n",
       "      <td>NaN</td>\n",
       "      <td>NaN</td>\n",
       "    </tr>\n",
       "    <tr>\n",
       "      <th>FAMI_CELULAR</th>\n",
       "      <td>NaN</td>\n",
       "      <td>NaN</td>\n",
       "      <td>NaN</td>\n",
       "    </tr>\n",
       "    <tr>\n",
       "      <th>FAMI_INTERNET</th>\n",
       "      <td>NaN</td>\n",
       "      <td>NaN</td>\n",
       "      <td>NaN</td>\n",
       "    </tr>\n",
       "    <tr>\n",
       "      <th>FAMI_SERVICIO_TELEVISION</th>\n",
       "      <td>NaN</td>\n",
       "      <td>NaN</td>\n",
       "      <td>NaN</td>\n",
       "    </tr>\n",
       "    <tr>\n",
       "      <th>FAMI_COMPUTADOR</th>\n",
       "      <td>NaN</td>\n",
       "      <td>NaN</td>\n",
       "      <td>NaN</td>\n",
       "    </tr>\n",
       "    <tr>\n",
       "      <th>FAMI_LAVADORA</th>\n",
       "      <td>NaN</td>\n",
       "      <td>NaN</td>\n",
       "      <td>NaN</td>\n",
       "    </tr>\n",
       "    <tr>\n",
       "      <th>FAMI_NEVERA</th>\n",
       "      <td>NaN</td>\n",
       "      <td>NaN</td>\n",
       "      <td>NaN</td>\n",
       "    </tr>\n",
       "    <tr>\n",
       "      <th>FAMI_HORNO</th>\n",
       "      <td>NaN</td>\n",
       "      <td>NaN</td>\n",
       "      <td>NaN</td>\n",
       "    </tr>\n",
       "    <tr>\n",
       "      <th>FAMI_DVD</th>\n",
       "      <td>NaN</td>\n",
       "      <td>NaN</td>\n",
       "      <td>NaN</td>\n",
       "    </tr>\n",
       "    <tr>\n",
       "      <th>FAMI_MICROONDAS</th>\n",
       "      <td>NaN</td>\n",
       "      <td>NaN</td>\n",
       "      <td>NaN</td>\n",
       "    </tr>\n",
       "    <tr>\n",
       "      <th>FAMI_AUTOMOVIL</th>\n",
       "      <td>NaN</td>\n",
       "      <td>NaN</td>\n",
       "      <td>NaN</td>\n",
       "    </tr>\n",
       "    <tr>\n",
       "      <th>FAMI_INGRESO_FMILIAR_MENSUAL</th>\n",
       "      <td>NaN</td>\n",
       "      <td>NaN</td>\n",
       "      <td>NaN</td>\n",
       "    </tr>\n",
       "    <tr>\n",
       "      <th>ESTU_TRABAJA</th>\n",
       "      <td>NaN</td>\n",
       "      <td>NaN</td>\n",
       "      <td>NaN</td>\n",
       "    </tr>\n",
       "    <tr>\n",
       "      <th>ESTU_HORAS_TRABAJA</th>\n",
       "      <td>NaN</td>\n",
       "      <td>NaN</td>\n",
       "      <td>NaN</td>\n",
       "    </tr>\n",
       "    <tr>\n",
       "      <th>PUNT_LENGUAJE</th>\n",
       "      <td>40</td>\n",
       "      <td>42</td>\n",
       "      <td>45</td>\n",
       "    </tr>\n",
       "    <tr>\n",
       "      <th>PUNT_MATEMATICAS</th>\n",
       "      <td>57</td>\n",
       "      <td>52</td>\n",
       "      <td>23</td>\n",
       "    </tr>\n",
       "    <tr>\n",
       "      <th>PUNT_C_SOCIALES</th>\n",
       "      <td>36</td>\n",
       "      <td>37</td>\n",
       "      <td>46</td>\n",
       "    </tr>\n",
       "    <tr>\n",
       "      <th>PUNT_FILOSOFIA</th>\n",
       "      <td>38</td>\n",
       "      <td>20</td>\n",
       "      <td>43</td>\n",
       "    </tr>\n",
       "    <tr>\n",
       "      <th>PUNT_BIOLOGIA</th>\n",
       "      <td>39</td>\n",
       "      <td>37</td>\n",
       "      <td>44</td>\n",
       "    </tr>\n",
       "    <tr>\n",
       "      <th>PUNT_QUIMICA</th>\n",
       "      <td>34</td>\n",
       "      <td>34</td>\n",
       "      <td>47</td>\n",
       "    </tr>\n",
       "    <tr>\n",
       "      <th>PUNT_FISICA</th>\n",
       "      <td>27</td>\n",
       "      <td>47</td>\n",
       "      <td>35</td>\n",
       "    </tr>\n",
       "    <tr>\n",
       "      <th>PUNT_INGLES</th>\n",
       "      <td>35</td>\n",
       "      <td>37</td>\n",
       "      <td>42</td>\n",
       "    </tr>\n",
       "    <tr>\n",
       "      <th>DESEMP_INGLES</th>\n",
       "      <td>A-</td>\n",
       "      <td>A-</td>\n",
       "      <td>A-</td>\n",
       "    </tr>\n",
       "    <tr>\n",
       "      <th>NOMBRE_COMP_FLEXIBLE</th>\n",
       "      <td>VIOLENCIA Y SOCIEDAD</td>\n",
       "      <td>VIOLENCIA Y SOCIEDAD</td>\n",
       "      <td>VIOLENCIA Y SOCIEDAD</td>\n",
       "    </tr>\n",
       "    <tr>\n",
       "      <th>PUNT_COMP_FLEXIBLE</th>\n",
       "      <td>32</td>\n",
       "      <td>32</td>\n",
       "      <td>51</td>\n",
       "    </tr>\n",
       "    <tr>\n",
       "      <th>DESEMP_COMP_FLEXIBLE</th>\n",
       "      <td>NaN</td>\n",
       "      <td>NaN</td>\n",
       "      <td>NaN</td>\n",
       "    </tr>\n",
       "    <tr>\n",
       "      <th>ESTU_PUESTO</th>\n",
       "      <td>751</td>\n",
       "      <td>776</td>\n",
       "      <td>809</td>\n",
       "    </tr>\n",
       "  </tbody>\n",
       "</table>\n",
       "<p>113 rows × 3 columns</p>\n",
       "</div>"
      ],
      "text/plain": [
       "                                                  0                     1  \\\n",
       "PERIODO                                       20132                 20132   \n",
       "ESTU_CONSECUTIVO                 SABER1120132000001    SABER1120132000002   \n",
       "ESTU_EDAD                                        24                    25   \n",
       "ESTU_TIPO_DOCUMENTO                               C                     C   \n",
       "ESTU_PAIS_RESIDE                                 CO                    CO   \n",
       "ESTU_GENERO                                       M                     M   \n",
       "ESTU_NACIMIENTO_DIA                              26                     6   \n",
       "ESTU_NACIMIENTO_MES                               6                     3   \n",
       "ESTU_NACIMIENTO_ANNO                           1988                  1988   \n",
       "ESTU_ETNIA                                      NaN                   NaN   \n",
       "ESTU_LIMITA_BAJAVISION                          NaN                   NaN   \n",
       "ESTU_LIMITA_SORDOCEGUERA                        NaN                   NaN   \n",
       "ESTU_LIMITA_COGNITIVA                           NaN                   NaN   \n",
       "ESTU_LIMITA_INVIDENTE                           NaN                   NaN   \n",
       "ESTU_LIMITA_MOTRIZ                              NaN                   NaN   \n",
       "ESTU_LIMITA_SORDOINTERPRETE                     NaN                   NaN   \n",
       "ESTU_LIMITA_SORDONOINTERPRETE                   NaN                   NaN   \n",
       "ESTU_COD_RESIDE_MCPIO                         23001                 23001   \n",
       "ESTU_RESIDE_MCPIO                          MONTERIA              MONTERIA   \n",
       "ESTU_RESIDE_DEPTO                           CÓRDOBA               CÓRDOBA   \n",
       "ESTU_ZONA_RESIDE                                 10                    10   \n",
       "ESTU_AREA_RESIDE                                  1                     1   \n",
       "COLE_COD_ICFES                                  NaN                   NaN   \n",
       "COLE_COD_DANE_INSTITUCION                       NaN                   NaN   \n",
       "COLE_NOMBRE_SEDE                                NaN                   NaN   \n",
       "COLE_CALENDARIO                                 NaN                   NaN   \n",
       "COLE_GENERO                                     NaN                   NaN   \n",
       "COLE_NATURALEZA                                 NaN                   NaN   \n",
       "COLE_BILINGUE                                   NaN                   NaN   \n",
       "COLE_JORNADA                                    NaN                   NaN   \n",
       "...                                             ...                   ...   \n",
       "FAMI_NIVEL_SISBEN                               NaN                   NaN   \n",
       "FAMI_PISOSHOGAR                                 NaN                   NaN   \n",
       "FAMI_PERSONAS_HOGAR                             NaN                   NaN   \n",
       "FAMI_TELEFONO_FIJO                              NaN                   NaN   \n",
       "FAMI_CELULAR                                    NaN                   NaN   \n",
       "FAMI_INTERNET                                   NaN                   NaN   \n",
       "FAMI_SERVICIO_TELEVISION                        NaN                   NaN   \n",
       "FAMI_COMPUTADOR                                 NaN                   NaN   \n",
       "FAMI_LAVADORA                                   NaN                   NaN   \n",
       "FAMI_NEVERA                                     NaN                   NaN   \n",
       "FAMI_HORNO                                      NaN                   NaN   \n",
       "FAMI_DVD                                        NaN                   NaN   \n",
       "FAMI_MICROONDAS                                 NaN                   NaN   \n",
       "FAMI_AUTOMOVIL                                  NaN                   NaN   \n",
       "FAMI_INGRESO_FMILIAR_MENSUAL                    NaN                   NaN   \n",
       "ESTU_TRABAJA                                    NaN                   NaN   \n",
       "ESTU_HORAS_TRABAJA                              NaN                   NaN   \n",
       "PUNT_LENGUAJE                                    40                    42   \n",
       "PUNT_MATEMATICAS                                 57                    52   \n",
       "PUNT_C_SOCIALES                                  36                    37   \n",
       "PUNT_FILOSOFIA                                   38                    20   \n",
       "PUNT_BIOLOGIA                                    39                    37   \n",
       "PUNT_QUIMICA                                     34                    34   \n",
       "PUNT_FISICA                                      27                    47   \n",
       "PUNT_INGLES                                      35                    37   \n",
       "DESEMP_INGLES                                    A-                    A-   \n",
       "NOMBRE_COMP_FLEXIBLE           VIOLENCIA Y SOCIEDAD  VIOLENCIA Y SOCIEDAD   \n",
       "PUNT_COMP_FLEXIBLE                               32                    32   \n",
       "DESEMP_COMP_FLEXIBLE                            NaN                   NaN   \n",
       "ESTU_PUESTO                                     751                   776   \n",
       "\n",
       "                                                  2  \n",
       "PERIODO                                       20132  \n",
       "ESTU_CONSECUTIVO                 SABER1120132000003  \n",
       "ESTU_EDAD                                        30  \n",
       "ESTU_TIPO_DOCUMENTO                               C  \n",
       "ESTU_PAIS_RESIDE                                 CO  \n",
       "ESTU_GENERO                                       M  \n",
       "ESTU_NACIMIENTO_DIA                              22  \n",
       "ESTU_NACIMIENTO_MES                               6  \n",
       "ESTU_NACIMIENTO_ANNO                           1982  \n",
       "ESTU_ETNIA                                      NaN  \n",
       "ESTU_LIMITA_BAJAVISION                          NaN  \n",
       "ESTU_LIMITA_SORDOCEGUERA                        NaN  \n",
       "ESTU_LIMITA_COGNITIVA                           NaN  \n",
       "ESTU_LIMITA_INVIDENTE                           NaN  \n",
       "ESTU_LIMITA_MOTRIZ                              NaN  \n",
       "ESTU_LIMITA_SORDOINTERPRETE                     NaN  \n",
       "ESTU_LIMITA_SORDONOINTERPRETE                   NaN  \n",
       "ESTU_COD_RESIDE_MCPIO                         23001  \n",
       "ESTU_RESIDE_MCPIO                          MONTERIA  \n",
       "ESTU_RESIDE_DEPTO                           CÓRDOBA  \n",
       "ESTU_ZONA_RESIDE                                 10  \n",
       "ESTU_AREA_RESIDE                                  1  \n",
       "COLE_COD_ICFES                                  NaN  \n",
       "COLE_COD_DANE_INSTITUCION                       NaN  \n",
       "COLE_NOMBRE_SEDE                                NaN  \n",
       "COLE_CALENDARIO                                 NaN  \n",
       "COLE_GENERO                                     NaN  \n",
       "COLE_NATURALEZA                                 NaN  \n",
       "COLE_BILINGUE                                   NaN  \n",
       "COLE_JORNADA                                    NaN  \n",
       "...                                             ...  \n",
       "FAMI_NIVEL_SISBEN                               NaN  \n",
       "FAMI_PISOSHOGAR                                 NaN  \n",
       "FAMI_PERSONAS_HOGAR                             NaN  \n",
       "FAMI_TELEFONO_FIJO                              NaN  \n",
       "FAMI_CELULAR                                    NaN  \n",
       "FAMI_INTERNET                                   NaN  \n",
       "FAMI_SERVICIO_TELEVISION                        NaN  \n",
       "FAMI_COMPUTADOR                                 NaN  \n",
       "FAMI_LAVADORA                                   NaN  \n",
       "FAMI_NEVERA                                     NaN  \n",
       "FAMI_HORNO                                      NaN  \n",
       "FAMI_DVD                                        NaN  \n",
       "FAMI_MICROONDAS                                 NaN  \n",
       "FAMI_AUTOMOVIL                                  NaN  \n",
       "FAMI_INGRESO_FMILIAR_MENSUAL                    NaN  \n",
       "ESTU_TRABAJA                                    NaN  \n",
       "ESTU_HORAS_TRABAJA                              NaN  \n",
       "PUNT_LENGUAJE                                    45  \n",
       "PUNT_MATEMATICAS                                 23  \n",
       "PUNT_C_SOCIALES                                  46  \n",
       "PUNT_FILOSOFIA                                   43  \n",
       "PUNT_BIOLOGIA                                    44  \n",
       "PUNT_QUIMICA                                     47  \n",
       "PUNT_FISICA                                      35  \n",
       "PUNT_INGLES                                      42  \n",
       "DESEMP_INGLES                                    A-  \n",
       "NOMBRE_COMP_FLEXIBLE           VIOLENCIA Y SOCIEDAD  \n",
       "PUNT_COMP_FLEXIBLE                               51  \n",
       "DESEMP_COMP_FLEXIBLE                            NaN  \n",
       "ESTU_PUESTO                                     809  \n",
       "\n",
       "[113 rows x 3 columns]"
      ]
     },
     "execution_count": 118,
     "metadata": {},
     "output_type": "execute_result"
    }
   ],
   "source": [
    "data_2013_2.head(3).T"
   ]
  },
  {
   "cell_type": "code",
   "execution_count": 119,
   "metadata": {
    "collapsed": true
   },
   "outputs": [],
   "source": [
    "data_2013_2 = data_2013_2.drop(['PERIODO', 'ESTU_CONSECUTIVO', 'ESTU_TIPO_DOCUMENTO', 'ESTU_COD_RESIDE_MCPIO',\n",
    "                               'COLE_NOMBRE_SEDE', 'ESTU_IES_COD_MPIO_DESEADA', 'ESTU_IES_DESEADA_NOMBRE',\n",
    "                               'ESTU_COD_MCPIO_PRESENTACION', 'ESTU_EXAM_NOMBREEXAMEN'], axis=1)"
   ]
  },
  {
   "cell_type": "code",
   "execution_count": 120,
   "metadata": {
    "collapsed": false,
    "scrolled": true
   },
   "outputs": [
    {
     "name": "stdout",
     "output_type": "stream",
     "text": [
      "Float64Index([  0.0,   6.0,   9.0,  10.0,  11.0,  12.0,  13.0,  14.0,  15.0,\n",
      "               16.0,\n",
      "              ...\n",
      "              819.0, 820.0, 821.0, 822.0, 823.0, 916.0, 917.0, 919.0, 929.0,\n",
      "              999.0],\n",
      "             dtype='float64', length=102)\n",
      "0           1\n",
      "6           2\n",
      "9           4\n",
      "10         61\n",
      "11         42\n",
      "12         25\n",
      "13        189\n",
      "14       1990\n",
      "15      44062\n",
      "16     217610\n",
      "17     147808\n",
      "18      72070\n",
      "19      28717\n",
      "20      12283\n",
      "21       6667\n",
      "22       4445\n",
      "23       3252\n",
      "24       2651\n",
      "25       2246\n",
      "26       2088\n",
      "27       1910\n",
      "28       1737\n",
      "29       1512\n",
      "30       1448\n",
      "31       1313\n",
      "32       1223\n",
      "33       1250\n",
      "34       1096\n",
      "35        991\n",
      "36        931\n",
      "        ...  \n",
      "80          2\n",
      "82          1\n",
      "84          2\n",
      "87          1\n",
      "88          1\n",
      "96          1\n",
      "99          1\n",
      "100         4\n",
      "106         1\n",
      "113        15\n",
      "117         2\n",
      "124         1\n",
      "125         1\n",
      "133         1\n",
      "321         1\n",
      "343         1\n",
      "815         2\n",
      "816        19\n",
      "817        36\n",
      "818        19\n",
      "819        14\n",
      "820         3\n",
      "821         5\n",
      "822         1\n",
      "823         1\n",
      "916         1\n",
      "917         3\n",
      "919         1\n",
      "929         1\n",
      "999      5321\n",
      "Name: ESTU_EDAD, dtype: int64\n",
      "Elementos null/NaN 43\n",
      "__________________\n",
      "Elementos diferentes de null/NaN: 573619\n",
      "__________________\n",
      "(573619,)\n",
      "None\n"
     ]
    }
   ],
   "source": [
    "c = 'ESTU_EDAD'\n",
    "print(data_2013_2[c].value_counts().sort_index().index)\n",
    "print(data_2013_2[c].value_counts().sort_index())\n",
    "print(missing_data(data_2013_2[c]))"
   ]
  },
  {
   "cell_type": "code",
   "execution_count": 121,
   "metadata": {
    "collapsed": true
   },
   "outputs": [],
   "source": [
    "for i in data_2013_2[c].value_counts().sort_index().index:\n",
    "    if i > 88:\n",
    "        data_2013_2[c] = data_2013_2[c].replace(i, np.nan)\n",
    "    elif i < 9:\n",
    "        data_2013_2[c] = data_2013_2[c].replace(i, np.nan)\n",
    "data_2013_2[c].fillna(int(np.mean(data_2013_2[c])), inplace=True)"
   ]
  },
  {
   "cell_type": "code",
   "execution_count": 122,
   "metadata": {
    "collapsed": false
   },
   "outputs": [
    {
     "name": "stdout",
     "output_type": "stream",
     "text": [
      "Index(['CO', 'MX'], dtype='object')\n",
      "CO    573620\n",
      "MX         2\n",
      "Name: ESTU_PAIS_RESIDE, dtype: int64\n",
      "Elementos null/NaN 40\n",
      "__________________\n",
      "Elementos diferentes de null/NaN: 573622\n",
      "__________________\n",
      "(573622,)\n",
      "None\n"
     ]
    }
   ],
   "source": [
    "c = 'ESTU_PAIS_RESIDE'\n",
    "print(data_2013_2[c].value_counts().sort_index().index)\n",
    "print(data_2013_2[c].value_counts().sort_index())\n",
    "print(missing_data(data_2013_2[c]))"
   ]
  },
  {
   "cell_type": "code",
   "execution_count": 123,
   "metadata": {
    "collapsed": false
   },
   "outputs": [
    {
     "name": "stdout",
     "output_type": "stream",
     "text": [
      "cant null antes: 40\n",
      "cant null despues: 0\n"
     ]
    }
   ],
   "source": [
    "Do_resamples(data_2013_2, c, str)"
   ]
  },
  {
   "cell_type": "code",
   "execution_count": 124,
   "metadata": {
    "collapsed": false
   },
   "outputs": [
    {
     "name": "stdout",
     "output_type": "stream",
     "text": [
      "Index(['F', 'M'], dtype='object')\n",
      "F    312170\n",
      "M    259575\n",
      "Name: ESTU_GENERO, dtype: int64\n",
      "Elementos null/NaN 1917\n",
      "__________________\n",
      "Elementos diferentes de null/NaN: 571745\n",
      "__________________\n",
      "(571745,)\n",
      "None\n"
     ]
    }
   ],
   "source": [
    "c = 'ESTU_GENERO'\n",
    "print(data_2013_2[c].value_counts().sort_index().index)\n",
    "print(data_2013_2[c].value_counts().sort_index())\n",
    "print(missing_data(data_2013_2[c]))"
   ]
  },
  {
   "cell_type": "code",
   "execution_count": 125,
   "metadata": {
    "collapsed": false
   },
   "outputs": [
    {
     "name": "stdout",
     "output_type": "stream",
     "text": [
      "cant null antes: 1917\n",
      "cant null despues: 0\n"
     ]
    }
   ],
   "source": [
    "Do_resamples(data_2013_2, c, str)"
   ]
  },
  {
   "cell_type": "code",
   "execution_count": 126,
   "metadata": {
    "collapsed": false,
    "scrolled": true
   },
   "outputs": [
    {
     "name": "stdout",
     "output_type": "stream",
     "text": [
      "Float64Index([ 1.0,  2.0,  3.0,  4.0,  5.0,  6.0,  7.0,  8.0,  9.0, 10.0, 11.0,\n",
      "              12.0, 13.0, 14.0, 15.0, 16.0, 17.0, 18.0, 19.0, 20.0, 21.0, 22.0,\n",
      "              23.0, 24.0, 25.0, 26.0, 27.0, 28.0, 29.0, 30.0, 31.0],\n",
      "             dtype='float64')\n",
      "1     19038\n",
      "2     18939\n",
      "3     19031\n",
      "4     18686\n",
      "5     19270\n",
      "6     18763\n",
      "7     18887\n",
      "8     18562\n",
      "9     18766\n",
      "10    19418\n",
      "11    18691\n",
      "12    19168\n",
      "13    18219\n",
      "14    18605\n",
      "15    18868\n",
      "16    18896\n",
      "17    18844\n",
      "18    19148\n",
      "19    19341\n",
      "20    19692\n",
      "21    18459\n",
      "22    18752\n",
      "23    18493\n",
      "24    18451\n",
      "25    18559\n",
      "26    18514\n",
      "27    18534\n",
      "28    18620\n",
      "29    16957\n",
      "30    17040\n",
      "31    10530\n",
      "Name: ESTU_NACIMIENTO_DIA, dtype: int64\n",
      "Elementos null/NaN 1921\n",
      "__________________\n",
      "Elementos diferentes de null/NaN: 571741\n",
      "__________________\n",
      "(571741,)\n",
      "None\n"
     ]
    }
   ],
   "source": [
    "c = 'ESTU_NACIMIENTO_DIA'\n",
    "print(data_2013_2[c].value_counts().sort_index().index)\n",
    "print(data_2013_2[c].value_counts().sort_index())\n",
    "print(missing_data(data_2013_2[c]))"
   ]
  },
  {
   "cell_type": "code",
   "execution_count": 127,
   "metadata": {
    "collapsed": false
   },
   "outputs": [
    {
     "name": "stdout",
     "output_type": "stream",
     "text": [
      "Float64Index([1.0, 2.0, 3.0, 4.0, 5.0, 6.0, 7.0, 8.0, 9.0, 10.0, 11.0, 12.0], dtype='float64')\n",
      "1     46804\n",
      "2     42934\n",
      "3     47404\n",
      "4     45563\n",
      "5     49409\n",
      "6     45350\n",
      "7     47440\n",
      "8     48995\n",
      "9     50819\n",
      "10    49793\n",
      "11    48194\n",
      "12    49036\n",
      "Name: ESTU_NACIMIENTO_MES, dtype: int64\n",
      "Elementos null/NaN 1921\n",
      "__________________\n",
      "Elementos diferentes de null/NaN: 571741\n",
      "__________________\n",
      "(571741,)\n",
      "None\n"
     ]
    }
   ],
   "source": [
    "c = 'ESTU_NACIMIENTO_MES'\n",
    "print(data_2013_2[c].value_counts().sort_index().index)\n",
    "print(data_2013_2[c].value_counts().sort_index())\n",
    "print(missing_data(data_2013_2[c]))"
   ]
  },
  {
   "cell_type": "code",
   "execution_count": 128,
   "metadata": {
    "collapsed": false,
    "scrolled": true
   },
   "outputs": [
    {
     "name": "stdout",
     "output_type": "stream",
     "text": [
      "Float64Index([   1.0,    2.0,    3.0,    4.0,    5.0,    6.0,    7.0,    8.0,\n",
      "                 9.0,   10.0,\n",
      "              ...\n",
      "              2000.0, 2001.0, 2002.0, 2003.0, 2004.0, 2005.0, 2006.0, 2007.0,\n",
      "              2013.0, 2015.0],\n",
      "             dtype='float64', length=193)\n",
      "1            4\n",
      "2           11\n",
      "3           10\n",
      "4            8\n",
      "5            5\n",
      "6           95\n",
      "7          133\n",
      "8          145\n",
      "9          137\n",
      "10         134\n",
      "11         130\n",
      "12         151\n",
      "13         122\n",
      "14         115\n",
      "15         145\n",
      "16         132\n",
      "17         139\n",
      "18         139\n",
      "19         151\n",
      "20         119\n",
      "21         143\n",
      "22         128\n",
      "23         127\n",
      "24         144\n",
      "25         151\n",
      "26         133\n",
      "27         152\n",
      "28         132\n",
      "29         147\n",
      "30         129\n",
      "         ...  \n",
      "1980      1258\n",
      "1981      1248\n",
      "1982      1408\n",
      "1983      1481\n",
      "1984      1580\n",
      "1985      1844\n",
      "1986      1974\n",
      "1987      2189\n",
      "1988      2415\n",
      "1989      2872\n",
      "1990      3856\n",
      "1991      5288\n",
      "1992      9024\n",
      "1993     18757\n",
      "1994     48905\n",
      "1995    110361\n",
      "1996    209965\n",
      "1997    120959\n",
      "1998      8372\n",
      "1999       442\n",
      "2000        24\n",
      "2001        30\n",
      "2002        72\n",
      "2003        17\n",
      "2004         4\n",
      "2005         2\n",
      "2006         1\n",
      "2007         1\n",
      "2013         1\n",
      "2015         2\n",
      "Name: ESTU_NACIMIENTO_ANNO, dtype: int64\n",
      "Elementos null/NaN 1921\n",
      "__________________\n",
      "Elementos diferentes de null/NaN: 571741\n",
      "__________________\n",
      "(571741,)\n",
      "None\n"
     ]
    }
   ],
   "source": [
    "c = 'ESTU_NACIMIENTO_ANNO'\n",
    "print(data_2013_2[c].value_counts().sort_index().index)\n",
    "print(data_2013_2[c].value_counts().sort_index())\n",
    "print(missing_data(data_2013_2[c]))"
   ]
  },
  {
   "cell_type": "code",
   "execution_count": 129,
   "metadata": {
    "collapsed": true
   },
   "outputs": [],
   "source": [
    "for i in data_2013_2[c].value_counts().sort_index().index:\n",
    "    if i <1925:\n",
    "        data_2013_2[c] = data_2013_2[c].replace(i, np.nan)\n",
    "    elif i > 2004:\n",
    "        data_2013_2[c] = data_2013_2[c].replace(i, np.nan)\n",
    "        \n",
    "anno = data_2013_2[data_2013_2[c].isnull()].index\n",
    "data_2013_2 = data_2013_2.drop(anno)"
   ]
  },
  {
   "cell_type": "code",
   "execution_count": 130,
   "metadata": {
    "collapsed": false,
    "scrolled": true
   },
   "outputs": [
    {
     "name": "stdout",
     "output_type": "stream",
     "text": [
      "Float64Index([ 1.0,  2.0,  3.0,  4.0,  5.0,  6.0,  7.0,  8.0,  9.0, 10.0, 11.0,\n",
      "              12.0, 13.0, 14.0, 15.0, 16.0, 17.0, 99.0],\n",
      "             dtype='float64')\n",
      "1     28266\n",
      "2       614\n",
      "3      2066\n",
      "4       194\n",
      "5       275\n",
      "6      1220\n",
      "7       328\n",
      "8      1368\n",
      "9      1639\n",
      "10     4406\n",
      "11     2810\n",
      "12      276\n",
      "13      318\n",
      "14       65\n",
      "15      135\n",
      "16      119\n",
      "17       62\n",
      "99    31256\n",
      "Name: ESTU_ETNIA, dtype: int64\n",
      "Elementos null/NaN 491115\n",
      "__________________\n",
      "Elementos diferentes de null/NaN: 75417\n",
      "__________________\n",
      "(75417,)\n",
      "None\n"
     ]
    }
   ],
   "source": [
    "c = 'ESTU_ETNIA'\n",
    "print(data_2013_2[c].value_counts().sort_index().index)\n",
    "print(data_2013_2[c].value_counts().sort_index())\n",
    "print(missing_data(data_2013_2[c]))"
   ]
  },
  {
   "cell_type": "code",
   "execution_count": 131,
   "metadata": {
    "collapsed": true
   },
   "outputs": [],
   "source": [
    "data_2013_2[c].fillna(99, inplace=True)"
   ]
  },
  {
   "cell_type": "code",
   "execution_count": 132,
   "metadata": {
    "collapsed": false
   },
   "outputs": [
    {
     "name": "stdout",
     "output_type": "stream",
     "text": [
      "Float64Index([], dtype='float64')\n",
      "Series([], Name: ESTU_LIMITA_BAJAVISION, dtype: int64)\n",
      "Elementos null/NaN 566532\n",
      "__________________\n",
      "Elementos diferentes de null/NaN: 0\n",
      "__________________\n",
      "(0,)\n",
      "None\n"
     ]
    }
   ],
   "source": [
    "c = 'ESTU_LIMITA_BAJAVISION'\n",
    "print(data_2013_2[c].value_counts().sort_index().index)\n",
    "print(data_2013_2[c].value_counts().sort_index())\n",
    "print(missing_data(data_2013_2[c]))"
   ]
  },
  {
   "cell_type": "code",
   "execution_count": 133,
   "metadata": {
    "collapsed": true
   },
   "outputs": [],
   "source": [
    "data_2013_2 = data_2013_2.drop([c], axis=1)"
   ]
  },
  {
   "cell_type": "code",
   "execution_count": 134,
   "metadata": {
    "collapsed": false
   },
   "outputs": [
    {
     "name": "stdout",
     "output_type": "stream",
     "text": [
      "Index(['C'], dtype='object')\n",
      "C    101\n",
      "Name: ESTU_LIMITA_SORDOCEGUERA, dtype: int64\n",
      "Elementos null/NaN 566431\n",
      "__________________\n",
      "Elementos diferentes de null/NaN: 101\n",
      "__________________\n",
      "(101,)\n",
      "None\n"
     ]
    }
   ],
   "source": [
    "c = 'ESTU_LIMITA_SORDOCEGUERA'\n",
    "print(data_2013_2[c].value_counts().sort_index().index)\n",
    "print(data_2013_2[c].value_counts().sort_index())\n",
    "print(missing_data(data_2013_2[c]))"
   ]
  },
  {
   "cell_type": "code",
   "execution_count": 135,
   "metadata": {
    "collapsed": true
   },
   "outputs": [],
   "source": [
    "data_2013_2 = data_2013_2.drop([c], axis=1)"
   ]
  },
  {
   "cell_type": "code",
   "execution_count": 136,
   "metadata": {
    "collapsed": false
   },
   "outputs": [
    {
     "name": "stdout",
     "output_type": "stream",
     "text": [
      "Index(['G'], dtype='object')\n",
      "G    559\n",
      "Name: ESTU_LIMITA_COGNITIVA, dtype: int64\n",
      "Elementos null/NaN 565973\n",
      "__________________\n",
      "Elementos diferentes de null/NaN: 559\n",
      "__________________\n",
      "(559,)\n",
      "None\n"
     ]
    }
   ],
   "source": [
    "c = 'ESTU_LIMITA_COGNITIVA'\n",
    "print(data_2013_2[c].value_counts().sort_index().index)\n",
    "print(data_2013_2[c].value_counts().sort_index())\n",
    "print(missing_data(data_2013_2[c]))"
   ]
  },
  {
   "cell_type": "code",
   "execution_count": 137,
   "metadata": {
    "collapsed": true
   },
   "outputs": [],
   "source": [
    "data_2013_2 = data_2013_2.drop([c], axis=1)"
   ]
  },
  {
   "cell_type": "code",
   "execution_count": 138,
   "metadata": {
    "collapsed": false
   },
   "outputs": [
    {
     "name": "stdout",
     "output_type": "stream",
     "text": [
      "Index(['I'], dtype='object')\n",
      "I    105\n",
      "Name: ESTU_LIMITA_INVIDENTE, dtype: int64\n",
      "Elementos null/NaN 566427\n",
      "__________________\n",
      "Elementos diferentes de null/NaN: 105\n",
      "__________________\n",
      "(105,)\n",
      "None\n"
     ]
    }
   ],
   "source": [
    "c = 'ESTU_LIMITA_INVIDENTE'\n",
    "print(data_2013_2[c].value_counts().sort_index().index)\n",
    "print(data_2013_2[c].value_counts().sort_index())\n",
    "print(missing_data(data_2013_2[c]))"
   ]
  },
  {
   "cell_type": "code",
   "execution_count": 139,
   "metadata": {
    "collapsed": true
   },
   "outputs": [],
   "source": [
    "data_2013_2 = data_2013_2.drop([c], axis=1)"
   ]
  },
  {
   "cell_type": "code",
   "execution_count": 140,
   "metadata": {
    "collapsed": false
   },
   "outputs": [
    {
     "name": "stdout",
     "output_type": "stream",
     "text": [
      "Index(['M'], dtype='object')\n",
      "M    620\n",
      "Name: ESTU_LIMITA_MOTRIZ, dtype: int64\n",
      "Elementos null/NaN 565912\n",
      "__________________\n",
      "Elementos diferentes de null/NaN: 620\n",
      "__________________\n",
      "(620,)\n",
      "None\n"
     ]
    }
   ],
   "source": [
    "c = 'ESTU_LIMITA_MOTRIZ'\n",
    "print(data_2013_2[c].value_counts().sort_index().index)\n",
    "print(data_2013_2[c].value_counts().sort_index())\n",
    "print(missing_data(data_2013_2[c]))"
   ]
  },
  {
   "cell_type": "code",
   "execution_count": 141,
   "metadata": {
    "collapsed": true
   },
   "outputs": [],
   "source": [
    "data_2013_2 = data_2013_2.drop([c], axis=1)"
   ]
  },
  {
   "cell_type": "code",
   "execution_count": 142,
   "metadata": {
    "collapsed": false
   },
   "outputs": [
    {
     "name": "stdout",
     "output_type": "stream",
     "text": [
      "Index(['R'], dtype='object')\n",
      "R    365\n",
      "Name: ESTU_LIMITA_SORDOINTERPRETE, dtype: int64\n",
      "Elementos null/NaN 566167\n",
      "__________________\n",
      "Elementos diferentes de null/NaN: 365\n",
      "__________________\n",
      "(365,)\n",
      "None\n"
     ]
    }
   ],
   "source": [
    "c = 'ESTU_LIMITA_SORDOINTERPRETE'\n",
    "print(data_2013_2[c].value_counts().sort_index().index)\n",
    "print(data_2013_2[c].value_counts().sort_index())\n",
    "print(missing_data(data_2013_2[c]))"
   ]
  },
  {
   "cell_type": "code",
   "execution_count": 143,
   "metadata": {
    "collapsed": true
   },
   "outputs": [],
   "source": [
    "data_2013_2 = data_2013_2.drop([c], axis=1)"
   ]
  },
  {
   "cell_type": "code",
   "execution_count": 144,
   "metadata": {
    "collapsed": false
   },
   "outputs": [
    {
     "name": "stdout",
     "output_type": "stream",
     "text": [
      "Index(['S'], dtype='object')\n",
      "S    195\n",
      "Name: ESTU_LIMITA_SORDONOINTERPRETE, dtype: int64\n",
      "Elementos null/NaN 566337\n",
      "__________________\n",
      "Elementos diferentes de null/NaN: 195\n",
      "__________________\n",
      "(195,)\n",
      "None\n"
     ]
    }
   ],
   "source": [
    "c = 'ESTU_LIMITA_SORDONOINTERPRETE'\n",
    "print(data_2013_2[c].value_counts().sort_index().index)\n",
    "print(data_2013_2[c].value_counts().sort_index())\n",
    "print(missing_data(data_2013_2[c]))"
   ]
  },
  {
   "cell_type": "code",
   "execution_count": 145,
   "metadata": {
    "collapsed": true
   },
   "outputs": [],
   "source": [
    "data_2013_2 = data_2013_2.drop([c], axis=1)"
   ]
  },
  {
   "cell_type": "code",
   "execution_count": 146,
   "metadata": {
    "collapsed": false,
    "scrolled": true
   },
   "outputs": [
    {
     "name": "stdout",
     "output_type": "stream",
     "text": [
      "Index(['ABEJORRAL', 'ABREGO', 'ABRIAQUI', 'ACACIAS', 'ACANDI', 'ACEVEDO',\n",
      "       'ACHI', 'AGRADO', 'AGUA DE DIOS', 'AGUACHICA',\n",
      "       ...\n",
      "       'YUMBO', 'ZAMBRANO', 'ZAPATOCA', 'ZAPAYAN', 'ZARAGOZA', 'ZARZAL',\n",
      "       'ZETAQUIRA', 'ZIPACON', 'ZIPAQUIRA', 'ZONA BANANERA'],\n",
      "      dtype='object', length=1027)\n",
      "ABEJORRAL                    209\n",
      "ABREGO                       212\n",
      "ABRIAQUI                      29\n",
      "ACACIAS                     1396\n",
      "ACANDI                        60\n",
      "ACEVEDO                      206\n",
      "ACHI                         300\n",
      "AGRADO                        72\n",
      "AGUA DE DIOS                 154\n",
      "AGUACHICA                    956\n",
      "AGUADA                        20\n",
      "AGUADAS                      281\n",
      "AGUAZUL                      690\n",
      "AGUSTIN CODAZZI              696\n",
      "AIPE                         127\n",
      "ALBAN                        102\n",
      "ALBAN (SAN JOSE)             202\n",
      "ALBANIA                       99\n",
      "ALCALA                       151\n",
      "ALDANA                        64\n",
      "ALEJANDRIA                    53\n",
      "ALGARROBO                    143\n",
      "ALGECIRAS                    198\n",
      "ALMAGUER                     241\n",
      "ALMEIDA                       25\n",
      "ALPUJARRA                     48\n",
      "ALTAMIRA                      49\n",
      "ALTO BAUDO (PIE DE PATO)      42\n",
      "ALTOS DEL ROSARIO             80\n",
      "ALVARADO                      87\n",
      "                            ... \n",
      "VILLANUEVA                   819\n",
      "VILLAPINZON                  234\n",
      "VILLARRICA                    57\n",
      "VILLAVICENCIO               6481\n",
      "VILLAVIEJA                    77\n",
      "VILLETA                      394\n",
      "VIOTA                        219\n",
      "VIRACACHA                     25\n",
      "VISTA HERMOSA                174\n",
      "VITERBO                      254\n",
      "YACOPI                       131\n",
      "YACUANQUER                   129\n",
      "YAGUARA                       96\n",
      "YALI                         111\n",
      "YARUMAL                      650\n",
      "YAVARATE                       4\n",
      "YOLOMBO                      256\n",
      "YONDO (CASABE)               121\n",
      "YOPAL                       2740\n",
      "YOTOCO                       136\n",
      "YUMBO                       1207\n",
      "ZAMBRANO                     160\n",
      "ZAPATOCA                     120\n",
      "ZAPAYAN                       85\n",
      "ZARAGOZA                     248\n",
      "ZARZAL                       665\n",
      "ZETAQUIRA                    117\n",
      "ZIPACON                       68\n",
      "ZIPAQUIRA                   1809\n",
      "ZONA BANANERA                662\n",
      "Name: ESTU_RESIDE_MCPIO, dtype: int64\n",
      "Elementos null/NaN 0\n",
      "__________________\n",
      "Elementos diferentes de null/NaN: 566532\n",
      "__________________\n",
      "(566532,)\n",
      "None\n"
     ]
    }
   ],
   "source": [
    "c = 'ESTU_RESIDE_MCPIO'\n",
    "print(data_2013_2[c].value_counts().sort_index().index)\n",
    "print(data_2013_2[c].value_counts().sort_index())\n",
    "print(missing_data(data_2013_2[c]))"
   ]
  },
  {
   "cell_type": "code",
   "execution_count": 147,
   "metadata": {
    "collapsed": true
   },
   "outputs": [],
   "source": [
    "data_2013_2.fillna(method='bfill', inplace=True)\n",
    "data_2013_2.fillna(method='ffill', inplace=True)"
   ]
  },
  {
   "cell_type": "code",
   "execution_count": 148,
   "metadata": {
    "collapsed": false,
    "scrolled": true
   },
   "outputs": [
    {
     "name": "stdout",
     "output_type": "stream",
     "text": [
      "Index(['AMAZONAS', 'ANTIOQUIA', 'ARAUCA', 'ATLÁNTICO', 'BOGOTÁ', 'BOLÍVAR',\n",
      "       'BOYACÁ', 'CALDAS', 'CAQUETÁ', 'CASANARE', 'CAUCA', 'CESAR', 'CHOCÓ',\n",
      "       'CUNDINAMARCA', 'CÓRDOBA', 'GUAINÍA', 'GUAVIARE', 'HUILA', 'LA GUAJIRA',\n",
      "       'MAGDALENA', 'META', 'NARIÑO', 'NORTE SANTANDER', 'PUTUMAYO', 'QUINDÍO',\n",
      "       'RISARALDA', 'SAN ANDRÉS', 'SANTANDER', 'SUCRE', 'TOLIMA', 'VALLE',\n",
      "       'VAUPÉS', 'VICHADA'],\n",
      "      dtype='object')\n",
      "AMAZONAS             787\n",
      "ANTIOQUIA          75264\n",
      "ARAUCA              2735\n",
      "ATLÁNTICO          29219\n",
      "BOGOTÁ             95169\n",
      "BOLÍVAR            25114\n",
      "BOYACÁ             17843\n",
      "CALDAS             12340\n",
      "CAQUETÁ             4136\n",
      "CASANARE            5829\n",
      "CAUCA              14296\n",
      "CESAR              12162\n",
      "CHOCÓ               4251\n",
      "CUNDINAMARCA       35512\n",
      "CÓRDOBA            19200\n",
      "GUAINÍA              206\n",
      "GUAVIARE            1046\n",
      "HUILA              13671\n",
      "LA GUAJIRA          6974\n",
      "MAGDALENA          14600\n",
      "META               11777\n",
      "NARIÑO             18818\n",
      "NORTE SANTANDER    15995\n",
      "PUTUMAYO            4298\n",
      "QUINDÍO             7486\n",
      "RISARALDA          11567\n",
      "SAN ANDRÉS           717\n",
      "SANTANDER          29101\n",
      "SUCRE              11216\n",
      "TOLIMA             17498\n",
      "VALLE              46943\n",
      "VAUPÉS               323\n",
      "VICHADA              439\n",
      "Name: ESTU_RESIDE_DEPTO, dtype: int64\n",
      "Elementos null/NaN 0\n",
      "__________________\n",
      "Elementos diferentes de null/NaN: 566532\n",
      "__________________\n",
      "(566532,)\n",
      "None\n"
     ]
    }
   ],
   "source": [
    "c = 'ESTU_RESIDE_DEPTO'\n",
    "print(data_2013_2[c].value_counts().sort_index().index)\n",
    "print(data_2013_2[c].value_counts().sort_index())\n",
    "print(missing_data(data_2013_2[c]))"
   ]
  },
  {
   "cell_type": "code",
   "execution_count": 149,
   "metadata": {
    "collapsed": true
   },
   "outputs": [],
   "source": [
    "data_2013_2.fillna(method='bfill', inplace=True)\n",
    "data_2013_2.fillna(method='ffill', inplace=True)"
   ]
  },
  {
   "cell_type": "code",
   "execution_count": 150,
   "metadata": {
    "collapsed": false,
    "scrolled": true
   },
   "outputs": [
    {
     "name": "stdout",
     "output_type": "stream",
     "text": [
      "Float64Index([1.0, 2.0, 3.0, 4.0, 5.0, 6.0, 7.0, 8.0, 9.0, 10.0], dtype='float64')\n",
      "1      19121\n",
      "2       7163\n",
      "3      12909\n",
      "4      47814\n",
      "5      18329\n",
      "6      12644\n",
      "7      14714\n",
      "8      27422\n",
      "9      25439\n",
      "10    380977\n",
      "Name: ESTU_ZONA_RESIDE, dtype: int64\n",
      "Elementos null/NaN 0\n",
      "__________________\n",
      "Elementos diferentes de null/NaN: 566532\n",
      "__________________\n",
      "(566532,)\n",
      "None\n"
     ]
    }
   ],
   "source": [
    "c = 'ESTU_ZONA_RESIDE'\n",
    "print(data_2013_2[c].value_counts().sort_index().index)\n",
    "print(data_2013_2[c].value_counts().sort_index())\n",
    "print(missing_data(data_2013_2[c]))"
   ]
  },
  {
   "cell_type": "code",
   "execution_count": 151,
   "metadata": {
    "collapsed": false
   },
   "outputs": [
    {
     "name": "stdout",
     "output_type": "stream",
     "text": [
      "cant null antes: 0\n",
      "cant null despues: 0\n"
     ]
    }
   ],
   "source": [
    "Do_resamples(data_2013_2, c, float)"
   ]
  },
  {
   "cell_type": "code",
   "execution_count": 152,
   "metadata": {
    "collapsed": false
   },
   "outputs": [
    {
     "name": "stdout",
     "output_type": "stream",
     "text": [
      "Float64Index([1.0, 2.0], dtype='float64')\n",
      "1    472623\n",
      "2     93909\n",
      "Name: ESTU_AREA_RESIDE, dtype: int64\n",
      "Elementos null/NaN 0\n",
      "__________________\n",
      "Elementos diferentes de null/NaN: 566532\n",
      "__________________\n",
      "(566532,)\n",
      "None\n"
     ]
    }
   ],
   "source": [
    "c = 'ESTU_AREA_RESIDE'\n",
    "print(data_2013_2[c].value_counts().sort_index().index)\n",
    "print(data_2013_2[c].value_counts().sort_index())\n",
    "print(missing_data(data_2013_2[c]))"
   ]
  },
  {
   "cell_type": "code",
   "execution_count": 153,
   "metadata": {
    "collapsed": false
   },
   "outputs": [
    {
     "name": "stdout",
     "output_type": "stream",
     "text": [
      "cant null antes: 0\n",
      "cant null despues: 0\n"
     ]
    }
   ],
   "source": [
    "Do_resamples(data_2013_2, c, float)"
   ]
  },
  {
   "cell_type": "code",
   "execution_count": 154,
   "metadata": {
    "collapsed": false,
    "scrolled": true
   },
   "outputs": [
    {
     "name": "stdout",
     "output_type": "stream",
     "text": [
      "Float64Index([     3.0,     59.0,     75.0,     83.0,     91.0,    125.0,\n",
      "                 141.0,    174.0,    190.0,    208.0,\n",
      "              ...\n",
      "              176297.0, 176305.0, 176321.0, 176354.0, 176362.0, 176388.0,\n",
      "              176412.0, 176420.0, 176438.0, 176446.0],\n",
      "             dtype='float64', length=12666)\n",
      "3           80\n",
      "59        1110\n",
      "75          47\n",
      "83          28\n",
      "91          86\n",
      "125        102\n",
      "141        131\n",
      "174        118\n",
      "190         74\n",
      "208         82\n",
      "216         20\n",
      "232         35\n",
      "240         55\n",
      "257         54\n",
      "265        147\n",
      "281         66\n",
      "315        115\n",
      "349         19\n",
      "356         48\n",
      "364         63\n",
      "372         58\n",
      "380         82\n",
      "398         24\n",
      "406         22\n",
      "422         13\n",
      "430        117\n",
      "448         20\n",
      "455        101\n",
      "463        114\n",
      "471        161\n",
      "          ... \n",
      "175992      13\n",
      "176008       4\n",
      "176016       5\n",
      "176024       2\n",
      "176032       2\n",
      "176073      12\n",
      "176099      28\n",
      "176107       6\n",
      "176131       4\n",
      "176149       1\n",
      "176156       3\n",
      "176164      13\n",
      "176180       5\n",
      "176214      17\n",
      "176222      15\n",
      "176230       5\n",
      "176248       5\n",
      "176263      11\n",
      "176271       6\n",
      "176289      12\n",
      "176297       5\n",
      "176305      12\n",
      "176321       9\n",
      "176354      62\n",
      "176362      32\n",
      "176388      36\n",
      "176412       5\n",
      "176420       9\n",
      "176438      29\n",
      "176446      10\n",
      "Name: COLE_COD_ICFES, dtype: int64\n",
      "Elementos null/NaN 0\n",
      "__________________\n",
      "Elementos diferentes de null/NaN: 566532\n",
      "__________________\n",
      "(566532,)\n",
      "None\n"
     ]
    }
   ],
   "source": [
    "c = 'COLE_COD_ICFES'\n",
    "print(data_2013_2[c].value_counts().sort_index().index)\n",
    "print(data_2013_2[c].value_counts().sort_index())\n",
    "print(missing_data(data_2013_2[c]))"
   ]
  },
  {
   "cell_type": "code",
   "execution_count": 155,
   "metadata": {
    "collapsed": false
   },
   "outputs": [
    {
     "name": "stdout",
     "output_type": "stream",
     "text": [
      "cant null antes: 80\n",
      "cant null despues: 0\n"
     ]
    }
   ],
   "source": [
    "for i in data_2013_2[c].value_counts().sort_index().index:\n",
    "    if len(str(i)) < 4:\n",
    "        data_2013_2[c] = data_2013_2[c].replace(i, np.nan)\n",
    "        \n",
    "Do_resamples(data_2013_2, c, float)"
   ]
  },
  {
   "cell_type": "code",
   "execution_count": 156,
   "metadata": {
    "collapsed": false,
    "scrolled": true
   },
   "outputs": [
    {
     "name": "stdout",
     "output_type": "stream",
     "text": [
      "Index([105001000108.0, 311001105863.0, 311001105391.0, 105615000236.0,\n",
      "       105001013340.0, 176001005813.0, 119001000265.0, 305001003963.0,\n",
      "       105154000301.0, 168001003591.0,\n",
      "       ...\n",
      "       '325754002979', 325754001131.0, 285250000574.0, '108001078530',\n",
      "       '250450000198', '305001022593', '297001002107', '376001038231',\n",
      "       '247245001997', '276736000143'],\n",
      "      dtype='object', length=19650)\n",
      "105001000108.0    790\n",
      "311001105863.0    730\n",
      "311001105391.0    540\n",
      "105615000236.0    514\n",
      "105001013340.0    489\n",
      "176001005813.0    477\n",
      "119001000265.0    470\n",
      "305001003963.0    441\n",
      "105154000301.0    425\n",
      "168001003591.0    411\n",
      "152001000785.0    381\n",
      "313001006701.0    376\n",
      "111001024732.0    364\n",
      "305001004293.0    359\n",
      "173001000308.0    331\n",
      "305001007861.0    328\n",
      "111001006122.0    328\n",
      "166001002339.0    327\n",
      "305088020551.0    326\n",
      "111001076376.0    325\n",
      "105001000108      320\n",
      "111001019411.0    319\n",
      "111102000753.0    318\n",
      "163001002941.0    318\n",
      "141001000066.0    310\n",
      "111001010910.0    309\n",
      "144430000511.0    309\n",
      "311001004820.0    305\n",
      "152001000777.0    304\n",
      "168001002421.0    292\n",
      "                 ... \n",
      "311001008221.0      1\n",
      "405873000325        1\n",
      "376109003573        1\n",
      "368001000010        1\n",
      "325269000305.0      1\n",
      "352001000903        1\n",
      "311001000590        1\n",
      "215299000202        1\n",
      "311001002011.0      1\n",
      "350001006639.0      1\n",
      "273001011509        1\n",
      "320013000004        1\n",
      "225805000289        1\n",
      "308573000450        1\n",
      "425175032470        1\n",
      "463594000498        1\n",
      "376001001591.0      1\n",
      "319001002151        1\n",
      "373168003022.0      1\n",
      "376001013084.0      1\n",
      "325754002979        1\n",
      "325754001131.0      1\n",
      "285250000574.0      1\n",
      "108001078530        1\n",
      "250450000198        1\n",
      "305001022593        1\n",
      "297001002107        1\n",
      "376001038231        1\n",
      "247245001997        1\n",
      "276736000143        1\n",
      "Name: COLE_COD_DANE_INSTITUCION, dtype: int64\n",
      "Elementos null/NaN 0\n",
      "__________________\n",
      "Elementos diferentes de null/NaN: 566532\n",
      "__________________\n",
      "(566532,)\n",
      "None\n"
     ]
    }
   ],
   "source": [
    "c = 'COLE_COD_DANE_INSTITUCION'\n",
    "print(data_2013_2[c].value_counts().index)\n",
    "print(data_2013_2[c].value_counts())\n",
    "print(missing_data(data_2013_2[c]))"
   ]
  },
  {
   "cell_type": "code",
   "execution_count": 159,
   "metadata": {
    "collapsed": false
   },
   "outputs": [
    {
     "name": "stdout",
     "output_type": "stream",
     "text": [
      "cant null antes: 29\n",
      "cant null despues: 0\n"
     ]
    }
   ],
   "source": [
    "data_2013_2[c] = data_2013_2[c].replace('PENDIENTE', np.nan)\n",
    "for i in data_2013_2[c].value_counts().index:\n",
    "    if ' ' in str(i):\n",
    "        data_2013_2[c] = data_2013_2[c].replace(i, np.nan)\n",
    "    elif type(i) == str:\n",
    "        data_2013_2[c] = data_2013_2[c].replace(i, float(i))\n",
    "        \n",
    "Do_resamples(data_2013_2, c, float)"
   ]
  },
  {
   "cell_type": "code",
   "execution_count": 160,
   "metadata": {
    "collapsed": false
   },
   "outputs": [
    {
     "name": "stdout",
     "output_type": "stream",
     "text": [
      "Index(['A', 'B', 'F'], dtype='object')\n",
      "A    472891\n",
      "B      1589\n",
      "F     92052\n",
      "Name: COLE_CALENDARIO, dtype: int64\n",
      "Elementos null/NaN 0\n",
      "__________________\n",
      "Elementos diferentes de null/NaN: 566532\n",
      "__________________\n",
      "(566532,)\n",
      "None\n"
     ]
    }
   ],
   "source": [
    "c = 'COLE_CALENDARIO'\n",
    "print(data_2013_2[c].value_counts().sort_index().index)\n",
    "print(data_2013_2[c].value_counts().sort_index())\n",
    "print(missing_data(data_2013_2[c]))"
   ]
  },
  {
   "cell_type": "code",
   "execution_count": 161,
   "metadata": {
    "collapsed": false
   },
   "outputs": [
    {
     "name": "stdout",
     "output_type": "stream",
     "text": [
      "cant null antes: 0\n",
      "cant null despues: 0\n"
     ]
    }
   ],
   "source": [
    "Do_resamples(data_2013_2, c, str)"
   ]
  },
  {
   "cell_type": "code",
   "execution_count": 162,
   "metadata": {
    "collapsed": false
   },
   "outputs": [
    {
     "name": "stdout",
     "output_type": "stream",
     "text": [
      "Index(['F', 'M', 'X'], dtype='object')\n",
      "F     26780\n",
      "M      6569\n",
      "X    533183\n",
      "Name: COLE_GENERO, dtype: int64\n",
      "Elementos null/NaN 0\n",
      "__________________\n",
      "Elementos diferentes de null/NaN: 566532\n",
      "__________________\n",
      "(566532,)\n",
      "None\n"
     ]
    }
   ],
   "source": [
    "c = 'COLE_GENERO'\n",
    "print(data_2013_2[c].value_counts().sort_index().index)\n",
    "print(data_2013_2[c].value_counts().sort_index())\n",
    "print(missing_data(data_2013_2[c]))"
   ]
  },
  {
   "cell_type": "code",
   "execution_count": 163,
   "metadata": {
    "collapsed": false
   },
   "outputs": [
    {
     "name": "stdout",
     "output_type": "stream",
     "text": [
      "cant null antes: 0\n",
      "cant null despues: 0\n"
     ]
    }
   ],
   "source": [
    "Do_resamples(data_2013_2, c, str)"
   ]
  },
  {
   "cell_type": "code",
   "execution_count": 164,
   "metadata": {
    "collapsed": false
   },
   "outputs": [
    {
     "name": "stdout",
     "output_type": "stream",
     "text": [
      "Index(['N', 'O'], dtype='object')\n",
      "N    143838\n",
      "O    422694\n",
      "Name: COLE_NATURALEZA, dtype: int64\n",
      "Elementos null/NaN 0\n",
      "__________________\n",
      "Elementos diferentes de null/NaN: 566532\n",
      "__________________\n",
      "(566532,)\n",
      "None\n"
     ]
    }
   ],
   "source": [
    "c = 'COLE_NATURALEZA'\n",
    "print(data_2013_2[c].value_counts().sort_index().index)\n",
    "print(data_2013_2[c].value_counts().sort_index())\n",
    "print(missing_data(data_2013_2[c]))"
   ]
  },
  {
   "cell_type": "code",
   "execution_count": 165,
   "metadata": {
    "collapsed": false
   },
   "outputs": [
    {
     "name": "stdout",
     "output_type": "stream",
     "text": [
      "cant null antes: 0\n",
      "cant null despues: 0\n"
     ]
    }
   ],
   "source": [
    "Do_resamples(data_2013_2, c, str)"
   ]
  },
  {
   "cell_type": "code",
   "execution_count": 166,
   "metadata": {
    "collapsed": false
   },
   "outputs": [
    {
     "name": "stdout",
     "output_type": "stream",
     "text": [
      "Float64Index([0.0, 1.0], dtype='float64')\n",
      "0    560092\n",
      "1      6440\n",
      "Name: COLE_BILINGUE, dtype: int64\n",
      "Elementos null/NaN 0\n",
      "__________________\n",
      "Elementos diferentes de null/NaN: 566532\n",
      "__________________\n",
      "(566532,)\n",
      "None\n"
     ]
    }
   ],
   "source": [
    "c = 'COLE_BILINGUE'\n",
    "print(data_2013_2[c].value_counts().sort_index().index)\n",
    "print(data_2013_2[c].value_counts().sort_index())\n",
    "print(missing_data(data_2013_2[c]))"
   ]
  },
  {
   "cell_type": "code",
   "execution_count": 167,
   "metadata": {
    "collapsed": false
   },
   "outputs": [
    {
     "name": "stdout",
     "output_type": "stream",
     "text": [
      "cant null antes: 0\n",
      "cant null despues: 0\n"
     ]
    }
   ],
   "source": [
    "Do_resamples(data_2013_2, c, float)"
   ]
  },
  {
   "cell_type": "code",
   "execution_count": 168,
   "metadata": {
    "collapsed": false
   },
   "outputs": [
    {
     "name": "stdout",
     "output_type": "stream",
     "text": [
      "Index(['COMPLETA U ORDINARIA', 'MAÑANA', 'NOCHE', 'SABATINA - DOMINICAL',\n",
      "       'TARDE', 'UNICA'],\n",
      "      dtype='object')\n",
      "COMPLETA U ORDINARIA    109449\n",
      "MAÑANA                  291719\n",
      "NOCHE                    42149\n",
      "SABATINA - DOMINICAL     33488\n",
      "TARDE                    89613\n",
      "UNICA                      114\n",
      "Name: COLE_JORNADA, dtype: int64\n",
      "Elementos null/NaN 0\n",
      "__________________\n",
      "Elementos diferentes de null/NaN: 566532\n",
      "__________________\n",
      "(566532,)\n",
      "None\n"
     ]
    }
   ],
   "source": [
    "c = 'COLE_JORNADA'\n",
    "print(data_2013_2[c].value_counts().sort_index().index)\n",
    "print(data_2013_2[c].value_counts().sort_index())\n",
    "print(missing_data(data_2013_2[c]))"
   ]
  },
  {
   "cell_type": "code",
   "execution_count": 169,
   "metadata": {
    "collapsed": false
   },
   "outputs": [
    {
     "name": "stdout",
     "output_type": "stream",
     "text": [
      "cant null antes: 0\n",
      "cant null despues: 0\n"
     ]
    }
   ],
   "source": [
    "Do_resamples(data_2013_2, c, str)"
   ]
  },
  {
   "cell_type": "code",
   "execution_count": 170,
   "metadata": {
    "collapsed": false
   },
   "outputs": [
    {
     "name": "stdout",
     "output_type": "stream",
     "text": [
      "Index(['ACADEMICO', 'ACADEMICO Y TECNICO', 'DESCONOCIDO', 'NORMALISTA',\n",
      "       'TECNICO'],\n",
      "      dtype='object')\n",
      "ACADEMICO              363003\n",
      "ACADEMICO Y TECNICO     91463\n",
      "DESCONOCIDO               315\n",
      "NORMALISTA              12778\n",
      "TECNICO                 98973\n",
      "Name: COLE_CARACTER, dtype: int64\n",
      "Elementos null/NaN 0\n",
      "__________________\n",
      "Elementos diferentes de null/NaN: 566532\n",
      "__________________\n",
      "(566532,)\n",
      "None\n"
     ]
    }
   ],
   "source": [
    "c = 'COLE_CARACTER'\n",
    "print(data_2013_2[c].value_counts().sort_index().index)\n",
    "print(data_2013_2[c].value_counts().sort_index())\n",
    "print(missing_data(data_2013_2[c]))"
   ]
  },
  {
   "cell_type": "code",
   "execution_count": 171,
   "metadata": {
    "collapsed": false
   },
   "outputs": [
    {
     "name": "stdout",
     "output_type": "stream",
     "text": [
      "cant null antes: 0\n",
      "cant null despues: 0\n"
     ]
    }
   ],
   "source": [
    "Do_resamples(data_2013_2, c, str)"
   ]
  },
  {
   "cell_type": "code",
   "execution_count": 172,
   "metadata": {
    "collapsed": false
   },
   "outputs": [
    {
     "name": "stdout",
     "output_type": "stream",
     "text": [
      "Float64Index([0.0, 1.0, 2.0, 3.0, 4.0, 5.0, 6.0, 8.0, 9.0, 12.0], dtype='float64')\n",
      "0       6473\n",
      "1     441147\n",
      "2      42547\n",
      "3      18138\n",
      "4      11731\n",
      "5      23135\n",
      "6      23145\n",
      "8         58\n",
      "9          5\n",
      "12       153\n",
      "Name: COLE_VALOR_PENSION, dtype: int64\n",
      "Elementos null/NaN 0\n",
      "__________________\n",
      "Elementos diferentes de null/NaN: 566532\n",
      "__________________\n",
      "(566532,)\n",
      "None\n"
     ]
    }
   ],
   "source": [
    "c = 'COLE_VALOR_PENSION'\n",
    "print(data_2013_2[c].value_counts().sort_index().index)\n",
    "print(data_2013_2[c].value_counts().sort_index())\n",
    "print(missing_data(data_2013_2[c]))"
   ]
  },
  {
   "cell_type": "code",
   "execution_count": 173,
   "metadata": {
    "collapsed": false
   },
   "outputs": [
    {
     "name": "stdout",
     "output_type": "stream",
     "text": [
      "cant null antes: 0\n",
      "cant null despues: 0\n"
     ]
    }
   ],
   "source": [
    "Do_resamples(data_2013_2, c, float)"
   ]
  },
  {
   "cell_type": "code",
   "execution_count": 174,
   "metadata": {
    "collapsed": false
   },
   "outputs": [
    {
     "name": "stdout",
     "output_type": "stream",
     "text": [
      "Float64Index([0.0, 1.0, 2.0, 3.0], dtype='float64')\n",
      "0     25979\n",
      "1     64130\n",
      "2     50853\n",
      "3    425570\n",
      "Name: ESTU_CARRDESEADA_TIPO, dtype: int64\n",
      "Elementos null/NaN 0\n",
      "__________________\n",
      "Elementos diferentes de null/NaN: 566532\n",
      "__________________\n",
      "(566532,)\n",
      "None\n"
     ]
    }
   ],
   "source": [
    "c = 'ESTU_CARRDESEADA_TIPO'\n",
    "print(data_2013_2[c].value_counts().sort_index().index)\n",
    "print(data_2013_2[c].value_counts().sort_index())\n",
    "print(missing_data(data_2013_2[c]))"
   ]
  },
  {
   "cell_type": "code",
   "execution_count": 175,
   "metadata": {
    "collapsed": false
   },
   "outputs": [
    {
     "name": "stdout",
     "output_type": "stream",
     "text": [
      "cant null antes: 0\n",
      "cant null despues: 0\n"
     ]
    }
   ],
   "source": [
    "Do_resamples(data_2013_2, c, float)"
   ]
  },
  {
   "cell_type": "code",
   "execution_count": 176,
   "metadata": {
    "collapsed": false,
    "scrolled": true
   },
   "outputs": [
    {
     "name": "stdout",
     "output_type": "stream",
     "text": [
      "Float64Index([    59.0,    653.0,   1115.0,   1206.0,   1222.0,   1230.0,\n",
      "                1255.0,   1263.0,   1289.0,   1297.0,\n",
      "              ...\n",
      "              167957.0, 167965.0, 167981.0, 168047.0, 168054.0, 168120.0,\n",
      "              168450.0, 168476.0, 168583.0, 169094.0],\n",
      "             dtype='float64', length=1059)\n",
      "59          392\n",
      "653          47\n",
      "1115         36\n",
      "1206        147\n",
      "1222       3403\n",
      "1230       1474\n",
      "1255       1513\n",
      "1263        104\n",
      "1289        224\n",
      "1297        214\n",
      "1644       5062\n",
      "1651      14884\n",
      "1669        143\n",
      "1677        659\n",
      "1685         83\n",
      "1693        160\n",
      "1701        229\n",
      "1727         98\n",
      "1792          1\n",
      "1933         28\n",
      "2261         31\n",
      "2501         12\n",
      "2923         32\n",
      "3152          3\n",
      "3186         40\n",
      "3756         25\n",
      "4622         34\n",
      "4788         59\n",
      "5306          7\n",
      "5397         34\n",
      "          ...  \n",
      "165019      903\n",
      "165035        1\n",
      "165050       71\n",
      "165092        5\n",
      "165209       29\n",
      "165381     1598\n",
      "165845     1827\n",
      "165852     5172\n",
      "166041       23\n",
      "166231       13\n",
      "166330      152\n",
      "166439        7\n",
      "166447      621\n",
      "166462        3\n",
      "166470       64\n",
      "166561      482\n",
      "166678      794\n",
      "166769       20\n",
      "166850        8\n",
      "167544       12\n",
      "167957        7\n",
      "167965       55\n",
      "167981     5924\n",
      "168047       21\n",
      "168054      363\n",
      "168120      342\n",
      "168450       28\n",
      "168476       13\n",
      "168583       70\n",
      "169094       30\n",
      "Name: ESTU_IES_COD_DESEADA, dtype: int64\n",
      "Elementos null/NaN 0\n",
      "__________________\n",
      "Elementos diferentes de null/NaN: 566532\n",
      "__________________\n",
      "(566532,)\n",
      "None\n"
     ]
    }
   ],
   "source": [
    "c = 'ESTU_IES_COD_DESEADA'\n",
    "print(data_2013_2[c].value_counts().sort_index().index)\n",
    "print(data_2013_2[c].value_counts().sort_index())\n",
    "print(missing_data(data_2013_2[c]))"
   ]
  },
  {
   "cell_type": "code",
   "execution_count": 177,
   "metadata": {
    "collapsed": true
   },
   "outputs": [],
   "source": [
    "for i in data_2013_2[c].value_counts().sort_index().index:\n",
    "    if len(str(i)) < 4:\n",
    "        data_2013_2[c] = data_2013_2[c].replace(i, np.nan)\n",
    "        \n",
    "        \n",
    "data_2013_2[c].fillna(method='bfill', inplace=True)\n",
    "data_2013_2[c].fillna(method='ffill', inplace=True)"
   ]
  },
  {
   "cell_type": "code",
   "execution_count": 178,
   "metadata": {
    "collapsed": false,
    "scrolled": true
   },
   "outputs": [
    {
     "name": "stdout",
     "output_type": "stream",
     "text": [
      "Index(['AMAZONAS', 'ANTIOQUIA', 'ARAUCA', 'ATLÁNTICO', 'BOGOTÁ', 'BOLÍVAR',\n",
      "       'BOYACÁ', 'CALDAS', 'CAQUETÁ', 'CASANARE', 'CAUCA', 'CESAR', 'CHOCÓ',\n",
      "       'CUNDINAMARCA', 'CÓRDOBA', 'GUAVIARE', 'HUILA', 'LA GUAJIRA',\n",
      "       'MAGDALENA', 'META', 'NARIÑO', 'NORTE SANTANDER', 'PUTUMAYO', 'QUINDÍO',\n",
      "       'RISARALDA', 'SANTANDER', 'SUCRE', 'TOLIMA', 'VALLE', 'VICHADA'],\n",
      "      dtype='object')\n",
      "AMAZONAS               49\n",
      "ANTIOQUIA          186466\n",
      "ARAUCA                967\n",
      "ATLÁNTICO            9009\n",
      "BOGOTÁ             120035\n",
      "BOLÍVAR             13584\n",
      "BOYACÁ                999\n",
      "CALDAS               1040\n",
      "CAQUETÁ               349\n",
      "CASANARE             4300\n",
      "CAUCA                2949\n",
      "CESAR                 640\n",
      "CHOCÓ                1688\n",
      "CUNDINAMARCA        87693\n",
      "CÓRDOBA              3269\n",
      "GUAVIARE              699\n",
      "HUILA                5193\n",
      "LA GUAJIRA           1836\n",
      "MAGDALENA            2823\n",
      "META                 3140\n",
      "NARIÑO               1728\n",
      "NORTE SANTANDER      3820\n",
      "PUTUMAYO              118\n",
      "QUINDÍO               177\n",
      "RISARALDA            1928\n",
      "SANTANDER           27916\n",
      "SUCRE               26797\n",
      "TOLIMA               7111\n",
      "VALLE               44282\n",
      "VICHADA              5927\n",
      "Name: ESTU_IES_DEPT_DESEADA, dtype: int64\n",
      "Elementos null/NaN 0\n",
      "__________________\n",
      "Elementos diferentes de null/NaN: 566532\n",
      "__________________\n",
      "(566532,)\n",
      "None\n"
     ]
    }
   ],
   "source": [
    "c = 'ESTU_IES_DEPT_DESEADA'\n",
    "print(data_2013_2[c].value_counts().sort_index().index)\n",
    "print(data_2013_2[c].value_counts().sort_index())\n",
    "print(missing_data(data_2013_2[c]))"
   ]
  },
  {
   "cell_type": "code",
   "execution_count": 179,
   "metadata": {
    "collapsed": true
   },
   "outputs": [],
   "source": [
    "data_2013_2[c].fillna(method='bfill', inplace=True)\n",
    "data_2013_2[c].fillna(method='ffill', inplace=True)"
   ]
  },
  {
   "cell_type": "code",
   "execution_count": 180,
   "metadata": {
    "collapsed": false,
    "scrolled": true
   },
   "outputs": [
    {
     "name": "stdout",
     "output_type": "stream",
     "text": [
      "Index(['ABREGO', 'ACACIAS', 'ACHI', 'AGUSTIN CODAZZI', 'ALEJANDRIA',\n",
      "       'ALGARROBO', 'ALGECIRAS', 'AMAGA', 'AMALFI', 'AMBALEMA',\n",
      "       ...\n",
      "       'VILLETA', 'VISTA HERMOSA', 'VITERBO', 'YALI', 'YOPAL', 'YUMBO',\n",
      "       'ZARAGOZA', 'ZIPACON', 'ZIPAQUIRA', 'ZONA BANANERA'],\n",
      "      dtype='object', length=378)\n",
      "ABREGO              1817\n",
      "ACACIAS                5\n",
      "ACHI                   8\n",
      "AGUSTIN CODAZZI       14\n",
      "ALEJANDRIA             2\n",
      "ALGARROBO             55\n",
      "ALGECIRAS             32\n",
      "AMAGA               3405\n",
      "AMALFI              9117\n",
      "AMBALEMA               7\n",
      "ANCUYA                24\n",
      "ANDES              10708\n",
      "ANGELOPOLIS          107\n",
      "ANGOSTURA             15\n",
      "ANSERMA               15\n",
      "ANSERMANUEVO          35\n",
      "ANZA                 149\n",
      "ANZOATEGUI           873\n",
      "APARTADO            1386\n",
      "APIA                  75\n",
      "ARACATACA              7\n",
      "ARATOCA              270\n",
      "ARAUCA                23\n",
      "ARBOLEDAS            156\n",
      "ARBOLETES             58\n",
      "ARGELIA                8\n",
      "ARMENIA              135\n",
      "BALBOA                46\n",
      "BARBOSA               11\n",
      "BARRANCABERMEJA      215\n",
      "                   ...  \n",
      "TRUJILLO               3\n",
      "TUCHÍN                 4\n",
      "TULUA                 30\n",
      "TUMACO               323\n",
      "TUNJA                 68\n",
      "TUQUERRES              8\n",
      "TURBACO               16\n",
      "TURBO                 10\n",
      "UBALA                  3\n",
      "UBATE               3193\n",
      "UMBITA                45\n",
      "VALENCIA              42\n",
      "VALLEDUPAR           284\n",
      "VEGACHI               19\n",
      "VENECIA                6\n",
      "VETAS               1598\n",
      "VIANI                 87\n",
      "VILLAMARIA            65\n",
      "VILLANUEVA            36\n",
      "VILLAVICENCIO        152\n",
      "VILLETA               88\n",
      "VISTA HERMOSA         28\n",
      "VITERBO                6\n",
      "YALI                  23\n",
      "YOPAL               1736\n",
      "YUMBO               3426\n",
      "ZARAGOZA              72\n",
      "ZIPACON               96\n",
      "ZIPAQUIRA             25\n",
      "ZONA BANANERA         30\n",
      "Name: ESTU_IES_MPIO_DESEADA, dtype: int64\n",
      "Elementos null/NaN 0\n",
      "__________________\n",
      "Elementos diferentes de null/NaN: 566532\n",
      "__________________\n",
      "(566532,)\n",
      "None\n"
     ]
    }
   ],
   "source": [
    "c = 'ESTU_IES_MPIO_DESEADA'\n",
    "print(data_2013_2[c].value_counts().sort_index().index)\n",
    "print(data_2013_2[c].value_counts().sort_index())\n",
    "print(missing_data(data_2013_2[c]))"
   ]
  },
  {
   "cell_type": "code",
   "execution_count": 181,
   "metadata": {
    "collapsed": true
   },
   "outputs": [],
   "source": [
    "data_2013_2[c].fillna(method='bfill', inplace=True)\n",
    "data_2013_2[c].fillna(method='ffill', inplace=True)"
   ]
  },
  {
   "cell_type": "code",
   "execution_count": 182,
   "metadata": {
    "collapsed": false,
    "scrolled": true
   },
   "outputs": [
    {
     "name": "stdout",
     "output_type": "stream",
     "text": [
      "Float64Index([ 1.0,  2.0,  3.0,  4.0,  5.0,  6.0,  7.0,  8.0,  9.0, 10.0, 11.0,\n",
      "              12.0, 13.0, 14.0, 15.0, 16.0, 17.0, 18.0, 19.0, 20.0, 21.0, 22.0,\n",
      "              23.0, 24.0, 25.0, 26.0, 27.0, 28.0, 29.0, 30.0, 31.0, 32.0, 33.0,\n",
      "              34.0, 35.0, 36.0, 37.0, 38.0, 39.0, 40.0, 41.0, 42.0, 43.0, 44.0,\n",
      "              45.0, 46.0, 47.0, 48.0, 49.0, 50.0, 51.0, 52.0, 53.0, 54.0, 55.0,\n",
      "              56.0, 57.0, 58.0, 59.0, 60.0, 61.0, 62.0, 63.0, 64.0, 65.0, 66.0,\n",
      "              67.0, 68.0, 69.0, 70.0, 72.0, 73.0, 74.0, 76.0, 77.0, 78.0, 80.0,\n",
      "              81.0, 82.0, 83.0, 84.0, 85.0, 86.0, 90.0, 93.0, 97.0],\n",
      "             dtype='float64')\n",
      "1        73\n",
      "2       260\n",
      "3       500\n",
      "4       913\n",
      "5      1408\n",
      "6      1273\n",
      "7      1620\n",
      "8      1807\n",
      "9      1849\n",
      "10     2626\n",
      "11     2489\n",
      "12     3143\n",
      "13     2202\n",
      "14     5030\n",
      "15     6623\n",
      "16     5795\n",
      "17     5136\n",
      "18     6828\n",
      "19     7537\n",
      "20    10196\n",
      "21     7377\n",
      "22    10960\n",
      "23    10986\n",
      "24    14051\n",
      "25    22772\n",
      "26    24540\n",
      "27    19790\n",
      "28    21631\n",
      "29    17983\n",
      "30    30636\n",
      "      ...  \n",
      "57      215\n",
      "58      147\n",
      "59      169\n",
      "60      570\n",
      "61      186\n",
      "62      133\n",
      "63       81\n",
      "64      153\n",
      "65      138\n",
      "66        1\n",
      "67       73\n",
      "68      115\n",
      "69       23\n",
      "70      214\n",
      "72       52\n",
      "73       43\n",
      "74      151\n",
      "76       16\n",
      "77       19\n",
      "78       90\n",
      "80       58\n",
      "81      207\n",
      "82        6\n",
      "83      122\n",
      "84       26\n",
      "85        8\n",
      "86       32\n",
      "90       53\n",
      "93        8\n",
      "97        4\n",
      "Name: ESTU_TOTAL_ALUMNOS_CURSO, dtype: int64\n",
      "Elementos null/NaN 0\n",
      "__________________\n",
      "Elementos diferentes de null/NaN: 566532\n",
      "__________________\n",
      "(566532,)\n",
      "None\n"
     ]
    }
   ],
   "source": [
    "c = 'ESTU_TOTAL_ALUMNOS_CURSO'\n",
    "print(data_2013_2[c].value_counts().sort_index().index)\n",
    "print(data_2013_2[c].value_counts().sort_index())\n",
    "print(missing_data(data_2013_2[c]))"
   ]
  },
  {
   "cell_type": "code",
   "execution_count": 183,
   "metadata": {
    "collapsed": false
   },
   "outputs": [
    {
     "name": "stdout",
     "output_type": "stream",
     "text": [
      "cant null antes: 0\n",
      "cant null despues: 0\n"
     ]
    }
   ],
   "source": [
    "Do_resamples(data_2013_2, c, float)"
   ]
  },
  {
   "cell_type": "code",
   "execution_count": 184,
   "metadata": {
    "collapsed": false,
    "scrolled": true
   },
   "outputs": [
    {
     "name": "stdout",
     "output_type": "stream",
     "text": [
      "Float64Index([1985.0, 1986.0, 1987.0, 1988.0, 1989.0, 1990.0, 1991.0, 1992.0,\n",
      "              1993.0, 1994.0, 1995.0, 1996.0, 1997.0, 1998.0, 1999.0, 2000.0,\n",
      "              2001.0, 2002.0],\n",
      "             dtype='float64')\n",
      "1985      8001\n",
      "1986      1429\n",
      "1987      1142\n",
      "1988       905\n",
      "1989      1002\n",
      "1990      1620\n",
      "1991      1322\n",
      "1992      1540\n",
      "1993      1301\n",
      "1994      1746\n",
      "1995      3826\n",
      "1996      4356\n",
      "1997      6810\n",
      "1998      9812\n",
      "1999     16970\n",
      "2000     44812\n",
      "2001     97968\n",
      "2002    361970\n",
      "Name: ESTU_ANO_MATRICULA_PRIMERO, dtype: int64\n",
      "Elementos null/NaN 0\n",
      "__________________\n",
      "Elementos diferentes de null/NaN: 566532\n",
      "__________________\n",
      "(566532,)\n",
      "None\n"
     ]
    }
   ],
   "source": [
    "c = 'ESTU_ANO_MATRICULA_PRIMERO'\n",
    "print(data_2013_2[c].value_counts().sort_index().index)\n",
    "print(data_2013_2[c].value_counts().sort_index())\n",
    "print(missing_data(data_2013_2[c]))"
   ]
  },
  {
   "cell_type": "code",
   "execution_count": 185,
   "metadata": {
    "collapsed": false
   },
   "outputs": [
    {
     "name": "stdout",
     "output_type": "stream",
     "text": [
      "cant null antes: 0\n",
      "cant null despues: 0\n"
     ]
    }
   ],
   "source": [
    "Do_resamples(data_2013_2, c, float)"
   ]
  },
  {
   "cell_type": "code",
   "execution_count": 186,
   "metadata": {
    "collapsed": false,
    "scrolled": true
   },
   "outputs": [
    {
     "name": "stdout",
     "output_type": "stream",
     "text": [
      "Float64Index([1986.0, 1987.0, 1988.0, 1989.0, 1990.0, 1991.0, 1992.0, 1993.0,\n",
      "              1994.0, 1995.0, 1996.0, 1997.0, 1998.0, 1999.0, 2000.0, 2001.0,\n",
      "              2002.0, 2003.0, 2004.0, 2005.0, 2006.0, 2007.0],\n",
      "             dtype='float64')\n",
      "1986      3925\n",
      "1987       485\n",
      "1988       546\n",
      "1989       706\n",
      "1990      1591\n",
      "1991       909\n",
      "1992      1069\n",
      "1993      1018\n",
      "1994       935\n",
      "1995      1859\n",
      "1996      1633\n",
      "1997      1311\n",
      "1998      1776\n",
      "1999      2824\n",
      "2000      3715\n",
      "2001      5033\n",
      "2002      5394\n",
      "2003      9413\n",
      "2004     11909\n",
      "2005     62792\n",
      "2006    143795\n",
      "2007    303894\n",
      "Name: ESTU_ANO_TERMINO_QUINTO, dtype: int64\n",
      "Elementos null/NaN 0\n",
      "__________________\n",
      "Elementos diferentes de null/NaN: 566532\n",
      "__________________\n",
      "(566532,)\n",
      "None\n"
     ]
    }
   ],
   "source": [
    "c = 'ESTU_ANO_TERMINO_QUINTO'\n",
    "print(data_2013_2[c].value_counts().sort_index().index)\n",
    "print(data_2013_2[c].value_counts().sort_index())\n",
    "print(missing_data(data_2013_2[c]))"
   ]
  },
  {
   "cell_type": "code",
   "execution_count": 187,
   "metadata": {
    "collapsed": false
   },
   "outputs": [
    {
     "name": "stdout",
     "output_type": "stream",
     "text": [
      "cant null antes: 0\n",
      "cant null despues: 0\n"
     ]
    }
   ],
   "source": [
    "Do_resamples(data_2013_2, c, float)"
   ]
  },
  {
   "cell_type": "code",
   "execution_count": 188,
   "metadata": {
    "collapsed": false
   },
   "outputs": [
    {
     "name": "stdout",
     "output_type": "stream",
     "text": [
      "Float64Index([1.0, 2.0, 3.0, 4.0, 5.0, 6.0, 7.0, 8.0], dtype='float64')\n",
      "1     61033\n",
      "2     62785\n",
      "3     48027\n",
      "4     33896\n",
      "5     37046\n",
      "6    118751\n",
      "7     59595\n",
      "8    145399\n",
      "Name: ESTU_ANOS_COLEGIO_ACTUAL, dtype: int64\n",
      "Elementos null/NaN 0\n",
      "__________________\n",
      "Elementos diferentes de null/NaN: 566532\n",
      "__________________\n",
      "(566532,)\n",
      "None\n"
     ]
    }
   ],
   "source": [
    "c = 'ESTU_ANOS_COLEGIO_ACTUAL'\n",
    "print(data_2013_2[c].value_counts().sort_index().index)\n",
    "print(data_2013_2[c].value_counts().sort_index())\n",
    "print(missing_data(data_2013_2[c]))"
   ]
  },
  {
   "cell_type": "code",
   "execution_count": 189,
   "metadata": {
    "collapsed": false
   },
   "outputs": [
    {
     "name": "stdout",
     "output_type": "stream",
     "text": [
      "cant null antes: 0\n",
      "cant null despues: 0\n"
     ]
    }
   ],
   "source": [
    "Do_resamples(data_2013_2, c, float)"
   ]
  },
  {
   "cell_type": "code",
   "execution_count": 190,
   "metadata": {
    "collapsed": false,
    "scrolled": true
   },
   "outputs": [
    {
     "name": "stdout",
     "output_type": "stream",
     "text": [
      "Float64Index([1987.0, 1988.0, 1989.0, 1990.0, 1991.0, 1992.0, 1993.0, 1994.0,\n",
      "              1995.0, 1996.0, 1997.0, 1998.0, 1999.0, 2000.0, 2001.0, 2002.0,\n",
      "              2003.0, 2004.0, 2005.0, 2006.0, 2007.0, 2008.0],\n",
      "             dtype='float64')\n",
      "1987      2470\n",
      "1988       299\n",
      "1989       438\n",
      "1990       695\n",
      "1991       979\n",
      "1992       759\n",
      "1993       778\n",
      "1994       571\n",
      "1995       936\n",
      "1996      1768\n",
      "1997      1410\n",
      "1998      1405\n",
      "1999      1301\n",
      "2000      1926\n",
      "2001      2495\n",
      "2002      3707\n",
      "2003      4359\n",
      "2004      6625\n",
      "2005     11130\n",
      "2006     60349\n",
      "2007    142189\n",
      "2008    319943\n",
      "Name: ESTU_ANO_MATRICULA_SEXTO, dtype: int64\n",
      "Elementos null/NaN 0\n",
      "__________________\n",
      "Elementos diferentes de null/NaN: 566532\n",
      "__________________\n",
      "(566532,)\n",
      "None\n"
     ]
    }
   ],
   "source": [
    "c = 'ESTU_ANO_MATRICULA_SEXTO'\n",
    "print(data_2013_2[c].value_counts().sort_index().index)\n",
    "print(data_2013_2[c].value_counts().sort_index())\n",
    "print(missing_data(data_2013_2[c]))"
   ]
  },
  {
   "cell_type": "code",
   "execution_count": 191,
   "metadata": {
    "collapsed": false
   },
   "outputs": [
    {
     "name": "stdout",
     "output_type": "stream",
     "text": [
      "cant null antes: 0\n",
      "cant null despues: 0\n"
     ]
    }
   ],
   "source": [
    "Do_resamples(data_2013_2, c, float)"
   ]
  },
  {
   "cell_type": "code",
   "execution_count": 192,
   "metadata": {
    "collapsed": false
   },
   "outputs": [
    {
     "name": "stdout",
     "output_type": "stream",
     "text": [
      "Float64Index([0.0, 1.0, 2.0, 3.0], dtype='float64')\n",
      "0     78641\n",
      "1    316715\n",
      "2     87274\n",
      "3     83902\n",
      "Name: ESTU_ANOS_PREESCOLAR, dtype: int64\n",
      "Elementos null/NaN 0\n",
      "__________________\n",
      "Elementos diferentes de null/NaN: 566532\n",
      "__________________\n",
      "(566532,)\n",
      "None\n"
     ]
    }
   ],
   "source": [
    "c = 'ESTU_ANOS_PREESCOLAR'\n",
    "print(data_2013_2[c].value_counts().sort_index().index)\n",
    "print(data_2013_2[c].value_counts().sort_index())\n",
    "print(missing_data(data_2013_2[c]))"
   ]
  },
  {
   "cell_type": "code",
   "execution_count": 193,
   "metadata": {
    "collapsed": false
   },
   "outputs": [
    {
     "name": "stdout",
     "output_type": "stream",
     "text": [
      "cant null antes: 0\n",
      "cant null despues: 0\n"
     ]
    }
   ],
   "source": [
    "Do_resamples(data_2013_2, c, float)"
   ]
  },
  {
   "cell_type": "code",
   "execution_count": 194,
   "metadata": {
    "collapsed": false
   },
   "outputs": [
    {
     "name": "stdout",
     "output_type": "stream",
     "text": [
      "Float64Index([1.0, 2.0, 3.0], dtype='float64')\n",
      "1    393643\n",
      "2    105104\n",
      "3     67785\n",
      "Name: ESTU_CUANTOS_COLE_ESTUDIO, dtype: int64\n",
      "Elementos null/NaN 0\n",
      "__________________\n",
      "Elementos diferentes de null/NaN: 566532\n",
      "__________________\n",
      "(566532,)\n",
      "None\n"
     ]
    }
   ],
   "source": [
    "c = 'ESTU_CUANTOS_COLE_ESTUDIO'\n",
    "print(data_2013_2[c].value_counts().sort_index().index)\n",
    "print(data_2013_2[c].value_counts().sort_index())\n",
    "print(missing_data(data_2013_2[c]))"
   ]
  },
  {
   "cell_type": "code",
   "execution_count": 195,
   "metadata": {
    "collapsed": false
   },
   "outputs": [
    {
     "name": "stdout",
     "output_type": "stream",
     "text": [
      "cant null antes: 0\n",
      "cant null despues: 0\n"
     ]
    }
   ],
   "source": [
    "Do_resamples(data_2013_2, c, float)"
   ]
  },
  {
   "cell_type": "code",
   "execution_count": 196,
   "metadata": {
    "collapsed": false
   },
   "outputs": [
    {
     "name": "stdout",
     "output_type": "stream",
     "text": [
      "Float64Index([], dtype='float64')\n",
      "Series([], Name: ESTU_REPROBO_CUARTO, dtype: int64)\n",
      "Elementos null/NaN 566532\n",
      "__________________\n",
      "Elementos diferentes de null/NaN: 0\n",
      "__________________\n",
      "(0,)\n",
      "None\n"
     ]
    }
   ],
   "source": [
    "c = 'ESTU_REPROBO_CUARTO'\n",
    "print(data_2013_2[c].value_counts().sort_index().index)\n",
    "print(data_2013_2[c].value_counts().sort_index())\n",
    "print(missing_data(data_2013_2[c]))"
   ]
  },
  {
   "cell_type": "code",
   "execution_count": 197,
   "metadata": {
    "collapsed": true
   },
   "outputs": [],
   "source": [
    "data_2013_2 = data_2013_2.drop([c], axis=1)"
   ]
  },
  {
   "cell_type": "code",
   "execution_count": 198,
   "metadata": {
    "collapsed": false
   },
   "outputs": [
    {
     "name": "stdout",
     "output_type": "stream",
     "text": [
      "Float64Index([], dtype='float64')\n",
      "Series([], Name: ESTU_REPROBO_DECIMO, dtype: int64)\n",
      "Elementos null/NaN 566532\n",
      "__________________\n",
      "Elementos diferentes de null/NaN: 0\n",
      "__________________\n",
      "(0,)\n",
      "None\n"
     ]
    }
   ],
   "source": [
    "c = 'ESTU_REPROBO_DECIMO'\n",
    "print(data_2013_2[c].value_counts().sort_index().index)\n",
    "print(data_2013_2[c].value_counts().sort_index())\n",
    "print(missing_data(data_2013_2[c]))"
   ]
  },
  {
   "cell_type": "code",
   "execution_count": 199,
   "metadata": {
    "collapsed": true
   },
   "outputs": [],
   "source": [
    "data_2013_2 = data_2013_2.drop([c], axis=1)"
   ]
  },
  {
   "cell_type": "code",
   "execution_count": 200,
   "metadata": {
    "collapsed": false
   },
   "outputs": [
    {
     "name": "stdout",
     "output_type": "stream",
     "text": [
      "Float64Index([], dtype='float64')\n",
      "Series([], Name: ESTU_REPROBO_NOVENO, dtype: int64)\n",
      "Elementos null/NaN 566532\n",
      "__________________\n",
      "Elementos diferentes de null/NaN: 0\n",
      "__________________\n",
      "(0,)\n",
      "None\n"
     ]
    }
   ],
   "source": [
    "c = 'ESTU_REPROBO_NOVENO'\n",
    "print(data_2013_2[c].value_counts().sort_index().index)\n",
    "print(data_2013_2[c].value_counts().sort_index())\n",
    "print(missing_data(data_2013_2[c]))"
   ]
  },
  {
   "cell_type": "code",
   "execution_count": 201,
   "metadata": {
    "collapsed": true
   },
   "outputs": [],
   "source": [
    "data_2013_2 = data_2013_2.drop([c], axis=1)"
   ]
  },
  {
   "cell_type": "code",
   "execution_count": 202,
   "metadata": {
    "collapsed": false
   },
   "outputs": [
    {
     "name": "stdout",
     "output_type": "stream",
     "text": [
      "Float64Index([], dtype='float64')\n",
      "Series([], Name: ESTU_REPROBO_OCTAVO, dtype: int64)\n",
      "Elementos null/NaN 566532\n",
      "__________________\n",
      "Elementos diferentes de null/NaN: 0\n",
      "__________________\n",
      "(0,)\n",
      "None\n"
     ]
    }
   ],
   "source": [
    "c = 'ESTU_REPROBO_OCTAVO'\n",
    "print(data_2013_2[c].value_counts().sort_index().index)\n",
    "print(data_2013_2[c].value_counts().sort_index())\n",
    "print(missing_data(data_2013_2[c]))"
   ]
  },
  {
   "cell_type": "code",
   "execution_count": 203,
   "metadata": {
    "collapsed": true
   },
   "outputs": [],
   "source": [
    "data_2013_2 = data_2013_2.drop([c], axis=1)"
   ]
  },
  {
   "cell_type": "code",
   "execution_count": 204,
   "metadata": {
    "collapsed": false
   },
   "outputs": [
    {
     "name": "stdout",
     "output_type": "stream",
     "text": [
      "Float64Index([], dtype='float64')\n",
      "Series([], Name: ESTU_REPROBO_PRIMERO, dtype: int64)\n",
      "Elementos null/NaN 566532\n",
      "__________________\n",
      "Elementos diferentes de null/NaN: 0\n",
      "__________________\n",
      "(0,)\n",
      "None\n"
     ]
    }
   ],
   "source": [
    "c = 'ESTU_REPROBO_PRIMERO'\n",
    "print(data_2013_2[c].value_counts().sort_index().index)\n",
    "print(data_2013_2[c].value_counts().sort_index())\n",
    "print(missing_data(data_2013_2[c]))"
   ]
  },
  {
   "cell_type": "code",
   "execution_count": 205,
   "metadata": {
    "collapsed": true
   },
   "outputs": [],
   "source": [
    "data_2013_2 = data_2013_2.drop([c], axis=1)"
   ]
  },
  {
   "cell_type": "code",
   "execution_count": 206,
   "metadata": {
    "collapsed": false
   },
   "outputs": [
    {
     "name": "stdout",
     "output_type": "stream",
     "text": [
      "Float64Index([], dtype='float64')\n",
      "Series([], Name: ESTU_REPROBO_QUINTO, dtype: int64)\n",
      "Elementos null/NaN 566532\n",
      "__________________\n",
      "Elementos diferentes de null/NaN: 0\n",
      "__________________\n",
      "(0,)\n",
      "None\n"
     ]
    }
   ],
   "source": [
    "c = 'ESTU_REPROBO_QUINTO'\n",
    "print(data_2013_2[c].value_counts().sort_index().index)\n",
    "print(data_2013_2[c].value_counts().sort_index())\n",
    "print(missing_data(data_2013_2[c]))"
   ]
  },
  {
   "cell_type": "code",
   "execution_count": 207,
   "metadata": {
    "collapsed": true
   },
   "outputs": [],
   "source": [
    "data_2013_2 = data_2013_2.drop([c], axis=1)"
   ]
  },
  {
   "cell_type": "code",
   "execution_count": 208,
   "metadata": {
    "collapsed": false
   },
   "outputs": [
    {
     "name": "stdout",
     "output_type": "stream",
     "text": [
      "Float64Index([], dtype='float64')\n",
      "Series([], Name: ESTU_REPROBO_SEGUNDO, dtype: int64)\n",
      "Elementos null/NaN 566532\n",
      "__________________\n",
      "Elementos diferentes de null/NaN: 0\n",
      "__________________\n",
      "(0,)\n",
      "None\n"
     ]
    }
   ],
   "source": [
    "c = 'ESTU_REPROBO_SEGUNDO'\n",
    "print(data_2013_2[c].value_counts().sort_index().index)\n",
    "print(data_2013_2[c].value_counts().sort_index())\n",
    "print(missing_data(data_2013_2[c]))"
   ]
  },
  {
   "cell_type": "code",
   "execution_count": 209,
   "metadata": {
    "collapsed": true
   },
   "outputs": [],
   "source": [
    "data_2013_2 = data_2013_2.drop([c], axis=1)"
   ]
  },
  {
   "cell_type": "code",
   "execution_count": 210,
   "metadata": {
    "collapsed": false
   },
   "outputs": [
    {
     "name": "stdout",
     "output_type": "stream",
     "text": [
      "Float64Index([], dtype='float64')\n",
      "Series([], Name: ESTU_REPROBO_SEPTIMO, dtype: int64)\n",
      "Elementos null/NaN 566532\n",
      "__________________\n",
      "Elementos diferentes de null/NaN: 0\n",
      "__________________\n",
      "(0,)\n",
      "None\n"
     ]
    }
   ],
   "source": [
    "c = 'ESTU_REPROBO_SEPTIMO'\n",
    "print(data_2013_2[c].value_counts().sort_index().index)\n",
    "print(data_2013_2[c].value_counts().sort_index())\n",
    "print(missing_data(data_2013_2[c]))"
   ]
  },
  {
   "cell_type": "code",
   "execution_count": 211,
   "metadata": {
    "collapsed": true
   },
   "outputs": [],
   "source": [
    "data_2013_2 = data_2013_2.drop([c], axis=1)"
   ]
  },
  {
   "cell_type": "code",
   "execution_count": 212,
   "metadata": {
    "collapsed": false
   },
   "outputs": [
    {
     "name": "stdout",
     "output_type": "stream",
     "text": [
      "Float64Index([], dtype='float64')\n",
      "Series([], Name: ESTU_REPROBO_SEXTO, dtype: int64)\n",
      "Elementos null/NaN 566532\n",
      "__________________\n",
      "Elementos diferentes de null/NaN: 0\n",
      "__________________\n",
      "(0,)\n",
      "None\n"
     ]
    }
   ],
   "source": [
    "c = 'ESTU_REPROBO_SEXTO'\n",
    "print(data_2013_2[c].value_counts().sort_index().index)\n",
    "print(data_2013_2[c].value_counts().sort_index())\n",
    "print(missing_data(data_2013_2[c]))"
   ]
  },
  {
   "cell_type": "code",
   "execution_count": 213,
   "metadata": {
    "collapsed": true
   },
   "outputs": [],
   "source": [
    "data_2013_2 = data_2013_2.drop([c], axis=1)"
   ]
  },
  {
   "cell_type": "code",
   "execution_count": 214,
   "metadata": {
    "collapsed": false
   },
   "outputs": [
    {
     "name": "stdout",
     "output_type": "stream",
     "text": [
      "Float64Index([], dtype='float64')\n",
      "Series([], Name: ESTU_REPROBO_TERCERO, dtype: int64)\n",
      "Elementos null/NaN 566532\n",
      "__________________\n",
      "Elementos diferentes de null/NaN: 0\n",
      "__________________\n",
      "(0,)\n",
      "None\n"
     ]
    }
   ],
   "source": [
    "c = 'ESTU_REPROBO_TERCERO'\n",
    "print(data_2013_2[c].value_counts().sort_index().index)\n",
    "print(data_2013_2[c].value_counts().sort_index())\n",
    "print(missing_data(data_2013_2[c]))"
   ]
  },
  {
   "cell_type": "code",
   "execution_count": 215,
   "metadata": {
    "collapsed": true
   },
   "outputs": [],
   "source": [
    "data_2013_2 = data_2013_2.drop([c], axis=1)"
   ]
  },
  {
   "cell_type": "code",
   "execution_count": 216,
   "metadata": {
    "collapsed": false
   },
   "outputs": [
    {
     "name": "stdout",
     "output_type": "stream",
     "text": [
      "Float64Index([], dtype='float64')\n",
      "Series([], Name: ESTU_REPROBO_ONCE_MAS, dtype: int64)\n",
      "Elementos null/NaN 566532\n",
      "__________________\n",
      "Elementos diferentes de null/NaN: 0\n",
      "__________________\n",
      "(0,)\n",
      "None\n"
     ]
    }
   ],
   "source": [
    "c = 'ESTU_REPROBO_ONCE_MAS'\n",
    "print(data_2013_2[c].value_counts().sort_index().index)\n",
    "print(data_2013_2[c].value_counts().sort_index())\n",
    "print(missing_data(data_2013_2[c]))"
   ]
  },
  {
   "cell_type": "code",
   "execution_count": 217,
   "metadata": {
    "collapsed": true
   },
   "outputs": [],
   "source": [
    "data_2013_2 = data_2013_2.drop([c], axis=1)"
   ]
  },
  {
   "cell_type": "code",
   "execution_count": 218,
   "metadata": {
    "collapsed": false
   },
   "outputs": [
    {
     "name": "stdout",
     "output_type": "stream",
     "text": [
      "Index(['-'], dtype='object')\n",
      "-    566532\n",
      "Name: ESTU_POR_MEJORARPOSICIONSOCIAL, dtype: int64\n",
      "Elementos null/NaN 0\n",
      "__________________\n",
      "Elementos diferentes de null/NaN: 566532\n",
      "__________________\n",
      "(566532,)\n",
      "None\n"
     ]
    }
   ],
   "source": [
    "c = 'ESTU_POR_MEJORARPOSICIONSOCIAL'\n",
    "print(data_2013_2[c].value_counts().sort_index().index)\n",
    "print(data_2013_2[c].value_counts().sort_index())\n",
    "print(missing_data(data_2013_2[c]))"
   ]
  },
  {
   "cell_type": "code",
   "execution_count": 219,
   "metadata": {
    "collapsed": true
   },
   "outputs": [],
   "source": [
    "data_2013_2 = data_2013_2.drop([c], axis=1)"
   ]
  },
  {
   "cell_type": "code",
   "execution_count": 220,
   "metadata": {
    "collapsed": false
   },
   "outputs": [
    {
     "name": "stdout",
     "output_type": "stream",
     "text": [
      "Index(['-'], dtype='object')\n",
      "-    566532\n",
      "Name: ESTU_POR_COLOMBIAAPRENDE, dtype: int64\n",
      "Elementos null/NaN 0\n",
      "__________________\n",
      "Elementos diferentes de null/NaN: 566532\n",
      "__________________\n",
      "(566532,)\n",
      "None\n"
     ]
    }
   ],
   "source": [
    "c = 'ESTU_POR_COLOMBIAAPRENDE'\n",
    "print(data_2013_2[c].value_counts().sort_index().index)\n",
    "print(data_2013_2[c].value_counts().sort_index())\n",
    "print(missing_data(data_2013_2[c]))"
   ]
  },
  {
   "cell_type": "code",
   "execution_count": 221,
   "metadata": {
    "collapsed": true
   },
   "outputs": [],
   "source": [
    "data_2013_2 = data_2013_2.drop([c], axis=1)"
   ]
  },
  {
   "cell_type": "code",
   "execution_count": 222,
   "metadata": {
    "collapsed": false
   },
   "outputs": [
    {
     "name": "stdout",
     "output_type": "stream",
     "text": [
      "Float64Index([], dtype='float64')\n",
      "Series([], Name: ESTU_POR_INFLUENCIAALGUIEN, dtype: int64)\n",
      "Elementos null/NaN 566532\n",
      "__________________\n",
      "Elementos diferentes de null/NaN: 0\n",
      "__________________\n",
      "(0,)\n",
      "None\n"
     ]
    }
   ],
   "source": [
    "c = 'ESTU_POR_INFLUENCIAALGUIEN'\n",
    "print(data_2013_2[c].value_counts().sort_index().index)\n",
    "print(data_2013_2[c].value_counts().sort_index())\n",
    "print(missing_data(data_2013_2[c]))"
   ]
  },
  {
   "cell_type": "code",
   "execution_count": 223,
   "metadata": {
    "collapsed": true
   },
   "outputs": [],
   "source": [
    "data_2013_2 = data_2013_2.drop([c], axis=1)"
   ]
  },
  {
   "cell_type": "code",
   "execution_count": 224,
   "metadata": {
    "collapsed": false
   },
   "outputs": [
    {
     "name": "stdout",
     "output_type": "stream",
     "text": [
      "Index(['-'], dtype='object')\n",
      "-    566532\n",
      "Name: ESTU_POR_INTERESPERSONAL, dtype: int64\n",
      "Elementos null/NaN 0\n",
      "__________________\n",
      "Elementos diferentes de null/NaN: 566532\n",
      "__________________\n",
      "(566532,)\n",
      "None\n"
     ]
    }
   ],
   "source": [
    "c = 'ESTU_POR_INTERESPERSONAL'\n",
    "print(data_2013_2[c].value_counts().sort_index().index)\n",
    "print(data_2013_2[c].value_counts().sort_index())\n",
    "print(missing_data(data_2013_2[c]))"
   ]
  },
  {
   "cell_type": "code",
   "execution_count": 225,
   "metadata": {
    "collapsed": true
   },
   "outputs": [],
   "source": [
    "data_2013_2 = data_2013_2.drop([c], axis=1)"
   ]
  },
  {
   "cell_type": "code",
   "execution_count": 226,
   "metadata": {
    "collapsed": false
   },
   "outputs": [
    {
     "name": "stdout",
     "output_type": "stream",
     "text": [
      "Index(['-'], dtype='object')\n",
      "-    566532\n",
      "Name: ESTU_POR_BUSCANDOCARRERA, dtype: int64\n",
      "Elementos null/NaN 0\n",
      "__________________\n",
      "Elementos diferentes de null/NaN: 566532\n",
      "__________________\n",
      "(566532,)\n",
      "None\n"
     ]
    }
   ],
   "source": [
    "c = 'ESTU_POR_BUSCANDOCARRERA'\n",
    "print(data_2013_2[c].value_counts().sort_index().index)\n",
    "print(data_2013_2[c].value_counts().sort_index())\n",
    "print(missing_data(data_2013_2[c]))"
   ]
  },
  {
   "cell_type": "code",
   "execution_count": 227,
   "metadata": {
    "collapsed": true
   },
   "outputs": [],
   "source": [
    "data_2013_2 = data_2013_2.drop([c], axis=1)"
   ]
  },
  {
   "cell_type": "code",
   "execution_count": 228,
   "metadata": {
    "collapsed": false
   },
   "outputs": [
    {
     "name": "stdout",
     "output_type": "stream",
     "text": [
      "Float64Index([], dtype='float64')\n",
      "Series([], Name: ESTU_POR_TRADICIONFAMILIAR, dtype: int64)\n",
      "Elementos null/NaN 566532\n",
      "__________________\n",
      "Elementos diferentes de null/NaN: 0\n",
      "__________________\n",
      "(0,)\n",
      "None\n"
     ]
    }
   ],
   "source": [
    "c = 'ESTU_POR_TRADICIONFAMILIAR'\n",
    "print(data_2013_2[c].value_counts().sort_index().index)\n",
    "print(data_2013_2[c].value_counts().sort_index())\n",
    "print(missing_data(data_2013_2[c]))"
   ]
  },
  {
   "cell_type": "code",
   "execution_count": 229,
   "metadata": {
    "collapsed": true
   },
   "outputs": [],
   "source": [
    "data_2013_2 = data_2013_2.drop([c], axis=1)"
   ]
  },
  {
   "cell_type": "code",
   "execution_count": 230,
   "metadata": {
    "collapsed": false
   },
   "outputs": [
    {
     "name": "stdout",
     "output_type": "stream",
     "text": [
      "Float64Index([], dtype='float64')\n",
      "Series([], Name: ESTU_POR_ORIENTACIONVOCACIONAL, dtype: int64)\n",
      "Elementos null/NaN 566532\n",
      "__________________\n",
      "Elementos diferentes de null/NaN: 0\n",
      "__________________\n",
      "(0,)\n",
      "None\n"
     ]
    }
   ],
   "source": [
    "c = 'ESTU_POR_ORIENTACIONVOCACIONAL'\n",
    "print(data_2013_2[c].value_counts().sort_index().index)\n",
    "print(data_2013_2[c].value_counts().sort_index())\n",
    "print(missing_data(data_2013_2[c]))"
   ]
  },
  {
   "cell_type": "code",
   "execution_count": 231,
   "metadata": {
    "collapsed": true
   },
   "outputs": [],
   "source": [
    "data_2013_2 = data_2013_2.drop([c], axis=1)"
   ]
  },
  {
   "cell_type": "code",
   "execution_count": 232,
   "metadata": {
    "collapsed": false
   },
   "outputs": [
    {
     "name": "stdout",
     "output_type": "stream",
     "text": [
      "Float64Index([3.0, 4.0], dtype='float64')\n",
      "3    123180\n",
      "4    443352\n",
      "Name: ESTU_RAZON_RETIRO, dtype: int64\n",
      "Elementos null/NaN 0\n",
      "__________________\n",
      "Elementos diferentes de null/NaN: 566532\n",
      "__________________\n",
      "(566532,)\n",
      "None\n"
     ]
    }
   ],
   "source": [
    "c = 'ESTU_RAZON_RETIRO'\n",
    "print(data_2013_2[c].value_counts().sort_index().index)\n",
    "print(data_2013_2[c].value_counts().sort_index())\n",
    "print(missing_data(data_2013_2[c]))"
   ]
  },
  {
   "cell_type": "code",
   "execution_count": 233,
   "metadata": {
    "collapsed": true
   },
   "outputs": [],
   "source": [
    "data_2013_2 = data_2013_2.drop([c], axis=1)"
   ]
  },
  {
   "cell_type": "code",
   "execution_count": 234,
   "metadata": {
    "collapsed": false
   },
   "outputs": [
    {
     "name": "stdout",
     "output_type": "stream",
     "text": [
      "Float64Index([], dtype='float64')\n",
      "Series([], Name: ESTU_POR_AMIGOSESTUDIANDO, dtype: int64)\n",
      "Elementos null/NaN 566532\n",
      "__________________\n",
      "Elementos diferentes de null/NaN: 0\n",
      "__________________\n",
      "(0,)\n",
      "None\n"
     ]
    }
   ],
   "source": [
    "c = 'ESTU_POR_AMIGOSESTUDIANDO'\n",
    "print(data_2013_2[c].value_counts().sort_index().index)\n",
    "print(data_2013_2[c].value_counts().sort_index())\n",
    "print(missing_data(data_2013_2[c]))"
   ]
  },
  {
   "cell_type": "code",
   "execution_count": 235,
   "metadata": {
    "collapsed": true
   },
   "outputs": [],
   "source": [
    "data_2013_2 = data_2013_2.drop([c], axis=1)"
   ]
  },
  {
   "cell_type": "code",
   "execution_count": 236,
   "metadata": {
    "collapsed": false
   },
   "outputs": [
    {
     "name": "stdout",
     "output_type": "stream",
     "text": [
      "Index(['-'], dtype='object')\n",
      "-    566532\n",
      "Name: ESTU_POR_COSTOMATRICULA, dtype: int64\n",
      "Elementos null/NaN 0\n",
      "__________________\n",
      "Elementos diferentes de null/NaN: 566532\n",
      "__________________\n",
      "(566532,)\n",
      "None\n"
     ]
    }
   ],
   "source": [
    "c = 'ESTU_POR_COSTOMATRICULA'\n",
    "print(data_2013_2[c].value_counts().sort_index().index)\n",
    "print(data_2013_2[c].value_counts().sort_index())\n",
    "print(missing_data(data_2013_2[c]))"
   ]
  },
  {
   "cell_type": "code",
   "execution_count": 237,
   "metadata": {
    "collapsed": true
   },
   "outputs": [],
   "source": [
    "data_2013_2 = data_2013_2.drop([c], axis=1)"
   ]
  },
  {
   "cell_type": "code",
   "execution_count": 238,
   "metadata": {
    "collapsed": false
   },
   "outputs": [
    {
     "name": "stdout",
     "output_type": "stream",
     "text": [
      "Index(['-'], dtype='object')\n",
      "-    566532\n",
      "Name: ESTU_POR_OPORTUNIDADES, dtype: int64\n",
      "Elementos null/NaN 0\n",
      "__________________\n",
      "Elementos diferentes de null/NaN: 566532\n",
      "__________________\n",
      "(566532,)\n",
      "None\n"
     ]
    }
   ],
   "source": [
    "c = 'ESTU_POR_OPORTUNIDADES'\n",
    "print(data_2013_2[c].value_counts().sort_index().index)\n",
    "print(data_2013_2[c].value_counts().sort_index())\n",
    "print(missing_data(data_2013_2[c]))"
   ]
  },
  {
   "cell_type": "code",
   "execution_count": 239,
   "metadata": {
    "collapsed": true
   },
   "outputs": [],
   "source": [
    "data_2013_2 = data_2013_2.drop([c], axis=1)"
   ]
  },
  {
   "cell_type": "code",
   "execution_count": 240,
   "metadata": {
    "collapsed": false
   },
   "outputs": [
    {
     "name": "stdout",
     "output_type": "stream",
     "text": [
      "Float64Index([], dtype='float64')\n",
      "Series([], Name: ESTU_POR_OTRARAZON, dtype: int64)\n",
      "Elementos null/NaN 566532\n",
      "__________________\n",
      "Elementos diferentes de null/NaN: 0\n",
      "__________________\n",
      "(0,)\n",
      "None\n"
     ]
    }
   ],
   "source": [
    "c = 'ESTU_POR_OTRARAZON'\n",
    "print(data_2013_2[c].value_counts().sort_index().index)\n",
    "print(data_2013_2[c].value_counts().sort_index())\n",
    "print(missing_data(data_2013_2[c]))"
   ]
  },
  {
   "cell_type": "code",
   "execution_count": 241,
   "metadata": {
    "collapsed": true
   },
   "outputs": [],
   "source": [
    "data_2013_2 = data_2013_2.drop([c], axis=1)"
   ]
  },
  {
   "cell_type": "code",
   "execution_count": 242,
   "metadata": {
    "collapsed": false
   },
   "outputs": [
    {
     "name": "stdout",
     "output_type": "stream",
     "text": [
      "Float64Index([], dtype='float64')\n",
      "Series([], Name: ESTU_PRESTIGIOINSTITUCION, dtype: int64)\n",
      "Elementos null/NaN 566532\n",
      "__________________\n",
      "Elementos diferentes de null/NaN: 0\n",
      "__________________\n",
      "(0,)\n",
      "None\n"
     ]
    }
   ],
   "source": [
    "c = 'ESTU_PRESTIGIOINSTITUCION'\n",
    "print(data_2013_2[c].value_counts().sort_index().index)\n",
    "print(data_2013_2[c].value_counts().sort_index())\n",
    "print(missing_data(data_2013_2[c]))"
   ]
  },
  {
   "cell_type": "code",
   "execution_count": 243,
   "metadata": {
    "collapsed": true
   },
   "outputs": [],
   "source": [
    "data_2013_2 = data_2013_2.drop([c], axis=1)"
   ]
  },
  {
   "cell_type": "code",
   "execution_count": 244,
   "metadata": {
    "collapsed": false
   },
   "outputs": [
    {
     "name": "stdout",
     "output_type": "stream",
     "text": [
      "Float64Index([], dtype='float64')\n",
      "Series([], Name: ESTU_POR_UBICACION, dtype: int64)\n",
      "Elementos null/NaN 566532\n",
      "__________________\n",
      "Elementos diferentes de null/NaN: 0\n",
      "__________________\n",
      "(0,)\n",
      "None\n"
     ]
    }
   ],
   "source": [
    "c = 'ESTU_POR_UBICACION'\n",
    "print(data_2013_2[c].value_counts().sort_index().index)\n",
    "print(data_2013_2[c].value_counts().sort_index())\n",
    "print(missing_data(data_2013_2[c]))"
   ]
  },
  {
   "cell_type": "code",
   "execution_count": 245,
   "metadata": {
    "collapsed": true
   },
   "outputs": [],
   "source": [
    "data_2013_2 = data_2013_2.drop([c], axis=1)"
   ]
  },
  {
   "cell_type": "code",
   "execution_count": 246,
   "metadata": {
    "collapsed": false
   },
   "outputs": [
    {
     "name": "stdout",
     "output_type": "stream",
     "text": [
      "Float64Index([], dtype='float64')\n",
      "Series([], Name: ESTU_POR_UNICAQUEOFRECE, dtype: int64)\n",
      "Elementos null/NaN 566532\n",
      "__________________\n",
      "Elementos diferentes de null/NaN: 0\n",
      "__________________\n",
      "(0,)\n",
      "None\n"
     ]
    }
   ],
   "source": [
    "c = 'ESTU_POR_UNICAQUEOFRECE'\n",
    "print(data_2013_2[c].value_counts().sort_index().index)\n",
    "print(data_2013_2[c].value_counts().sort_index())\n",
    "print(missing_data(data_2013_2[c]))"
   ]
  },
  {
   "cell_type": "code",
   "execution_count": 247,
   "metadata": {
    "collapsed": true
   },
   "outputs": [],
   "source": [
    "data_2013_2 = data_2013_2.drop([c], axis=1)"
   ]
  },
  {
   "cell_type": "code",
   "execution_count": 248,
   "metadata": {
    "collapsed": false
   },
   "outputs": [
    {
     "name": "stdout",
     "output_type": "stream",
     "text": [
      "Index(['-'], dtype='object')\n",
      "-    566532\n",
      "Name: ESTU_RETIRARSE_COLEGIO, dtype: int64\n",
      "Elementos null/NaN 0\n",
      "__________________\n",
      "Elementos diferentes de null/NaN: 566532\n",
      "__________________\n",
      "(566532,)\n",
      "None\n"
     ]
    }
   ],
   "source": [
    "c = 'ESTU_RETIRARSE_COLEGIO'\n",
    "print(data_2013_2[c].value_counts().sort_index().index)\n",
    "print(data_2013_2[c].value_counts().sort_index())\n",
    "print(missing_data(data_2013_2[c]))"
   ]
  },
  {
   "cell_type": "code",
   "execution_count": 249,
   "metadata": {
    "collapsed": true
   },
   "outputs": [],
   "source": [
    "data_2013_2 = data_2013_2.drop([c], axis=1)"
   ]
  },
  {
   "cell_type": "code",
   "execution_count": 250,
   "metadata": {
    "collapsed": false
   },
   "outputs": [
    {
     "name": "stdout",
     "output_type": "stream",
     "text": [
      "Float64Index([0.0, 1.0, 2.0, 3.0, 4.0], dtype='float64')\n",
      "0       463\n",
      "1     23837\n",
      "2    478354\n",
      "3     55346\n",
      "4      8532\n",
      "Name: ESTU_VECES_ESTADO, dtype: int64\n",
      "Elementos null/NaN 0\n",
      "__________________\n",
      "Elementos diferentes de null/NaN: 566532\n",
      "__________________\n",
      "(566532,)\n",
      "None\n"
     ]
    }
   ],
   "source": [
    "c = 'ESTU_VECES_ESTADO'\n",
    "print(data_2013_2[c].value_counts().sort_index().index)\n",
    "print(data_2013_2[c].value_counts().sort_index())\n",
    "print(missing_data(data_2013_2[c]))"
   ]
  },
  {
   "cell_type": "code",
   "execution_count": 251,
   "metadata": {
    "collapsed": false
   },
   "outputs": [
    {
     "name": "stdout",
     "output_type": "stream",
     "text": [
      "cant null antes: 0\n",
      "cant null despues: 0\n"
     ]
    }
   ],
   "source": [
    "Do_resamples(data_2013_2, c, float)"
   ]
  },
  {
   "cell_type": "code",
   "execution_count": 252,
   "metadata": {
    "collapsed": false,
    "scrolled": true
   },
   "outputs": [
    {
     "name": "stdout",
     "output_type": "stream",
     "text": [
      "Index(['ABEJORRAL', 'ABREGO', 'ACACIAS', 'ACANDI', 'ACHI', 'AGUACHICA',\n",
      "       'AGUADAS', 'AGUAZUL', 'AGUSTIN CODAZZI', 'AIPE',\n",
      "       ...\n",
      "       'VILLETA', 'VIOTA', 'YARUMAL', 'YOLOMBO', 'YOPAL', 'YUMBO', 'ZAPATOCA',\n",
      "       'ZARAGOZA', 'ZARZAL', 'ZIPAQUIRA'],\n",
      "      dtype='object', length=433)\n",
      "ABEJORRAL                     209\n",
      "ABREGO                        224\n",
      "ACACIAS                      1699\n",
      "ACANDI                         59\n",
      "ACHI                          383\n",
      "AGUACHICA                    1265\n",
      "AGUADAS                       290\n",
      "AGUAZUL                       691\n",
      "AGUSTIN CODAZZI               760\n",
      "AIPE                          164\n",
      "ALBAN (SAN JOSE)              295\n",
      "ALCALA                        221\n",
      "ALTO BAUDO (PIE DE PATO)       30\n",
      "AMAGA                         797\n",
      "AMALFI                        398\n",
      "ANDALUCIA                     231\n",
      "ANDES                         883\n",
      "ANOLAIMA                      293\n",
      "ANSERMA                       826\n",
      "ANSERMANUEVO                  215\n",
      "APARTADO                     1626\n",
      "APIA                          288\n",
      "ARACATACA                     453\n",
      "ARAUCA                       1044\n",
      "ARAUQUITA                     287\n",
      "ARBELAEZ                      200\n",
      "ARBOLEDAS                     236\n",
      "ARBOLETES                     508\n",
      "ARIGUANI (EL DIFICIL)         325\n",
      "ARJONA                        861\n",
      "                             ... \n",
      "TURBO                        1387\n",
      "TURMEQUE                      240\n",
      "TUTA                          137\n",
      "UBATE                        1386\n",
      "UNGUIA                         96\n",
      "URIBIA                        332\n",
      "URRAO                         804\n",
      "VALLEDUPAR                   5982\n",
      "VALPARAISO                    138\n",
      "VEGACHI                       268\n",
      "VELEZ                         906\n",
      "VENADILLO                     145\n",
      "VENTAQUEMADA                  178\n",
      "VIGIA DEL FUERTE               78\n",
      "VILLA DE LEYVA                308\n",
      "VILLA DEL ROSARIO             909\n",
      "VILLA GUAMEZ (LA HORMIGA)     806\n",
      "VILLAGARZON                   370\n",
      "VILLANUEVA                    959\n",
      "VILLAVICENCIO                6977\n",
      "VILLETA                       621\n",
      "VIOTA                         219\n",
      "YARUMAL                      1050\n",
      "YOLOMBO                       207\n",
      "YOPAL                        2822\n",
      "YUMBO                        1400\n",
      "ZAPATOCA                      145\n",
      "ZARAGOZA                      231\n",
      "ZARZAL                        614\n",
      "ZIPAQUIRA                    3231\n",
      "Name: ESTU_MCPIO_PRESENTACION, dtype: int64\n",
      "Elementos null/NaN 0\n",
      "__________________\n",
      "Elementos diferentes de null/NaN: 566532\n",
      "__________________\n",
      "(566532,)\n",
      "None\n"
     ]
    }
   ],
   "source": [
    "c = 'ESTU_MCPIO_PRESENTACION'\n",
    "print(data_2013_2[c].value_counts().sort_index().index)\n",
    "print(data_2013_2[c].value_counts().sort_index())\n",
    "print(missing_data(data_2013_2[c]))"
   ]
  },
  {
   "cell_type": "code",
   "execution_count": 253,
   "metadata": {
    "collapsed": true
   },
   "outputs": [],
   "source": [
    "data_2013_2[c].fillna(method='bfill', inplace=True)\n",
    "data_2013_2[c].fillna(method='ffill', inplace=True)"
   ]
  },
  {
   "cell_type": "code",
   "execution_count": 254,
   "metadata": {
    "collapsed": false,
    "scrolled": true
   },
   "outputs": [
    {
     "name": "stdout",
     "output_type": "stream",
     "text": [
      "Index(['AMAZONAS', 'ANTIOQUIA', 'ARAUCA', 'ATLÁNTICO', 'BOGOTÁ', 'BOLÍVAR',\n",
      "       'BOYACÁ', 'CALDAS', 'CAQUETÁ', 'CASANARE', 'CAUCA', 'CESAR', 'CHOCÓ',\n",
      "       'CUNDINAMARCA', 'CÓRDOBA', 'GUAINÍA', 'GUAVIARE', 'HUILA', 'LA GUAJIRA',\n",
      "       'MAGDALENA', 'META', 'NARIÑO', 'NORTE SANTANDER', 'PUTUMAYO', 'QUINDÍO',\n",
      "       'RISARALDA', 'SAN ANDRÉS', 'SANTANDER', 'SUCRE', 'TOLIMA', 'VALLE',\n",
      "       'VAUPÉS', 'VICHADA'],\n",
      "      dtype='object')\n",
      "AMAZONAS             775\n",
      "ANTIOQUIA          75123\n",
      "ARAUCA              2920\n",
      "ATLÁNTICO          29835\n",
      "BOGOTÁ             95225\n",
      "BOLÍVAR            24254\n",
      "BOYACÁ             18467\n",
      "CALDAS             12595\n",
      "CAQUETÁ             4232\n",
      "CASANARE            5956\n",
      "CAUCA              13982\n",
      "CESAR              12493\n",
      "CHOCÓ               4249\n",
      "CUNDINAMARCA       34505\n",
      "CÓRDOBA            19137\n",
      "GUAINÍA              207\n",
      "GUAVIARE            1126\n",
      "HUILA              13922\n",
      "LA GUAJIRA          6972\n",
      "MAGDALENA          14375\n",
      "META               11820\n",
      "NARIÑO             19050\n",
      "NORTE SANTANDER    16153\n",
      "PUTUMAYO            4460\n",
      "QUINDÍO             7460\n",
      "RISARALDA          11516\n",
      "SAN ANDRÉS           808\n",
      "SANTANDER          28960\n",
      "SUCRE              11234\n",
      "TOLIMA             17098\n",
      "VALLE              46841\n",
      "VAUPÉS               325\n",
      "VICHADA              457\n",
      "Name: ESTU_DEPTO_PRESENTACION, dtype: int64\n",
      "Elementos null/NaN 0\n",
      "__________________\n",
      "Elementos diferentes de null/NaN: 566532\n",
      "__________________\n",
      "(566532,)\n",
      "None\n"
     ]
    }
   ],
   "source": [
    "c = 'ESTU_DEPTO_PRESENTACION'\n",
    "print(data_2013_2[c].value_counts().sort_index().index)\n",
    "print(data_2013_2[c].value_counts().sort_index())\n",
    "print(missing_data(data_2013_2[c]))"
   ]
  },
  {
   "cell_type": "code",
   "execution_count": 255,
   "metadata": {
    "collapsed": true
   },
   "outputs": [],
   "source": [
    "data_2013_2[c].fillna(method='bfill', inplace=True)\n",
    "data_2013_2[c].fillna(method='ffill', inplace=True)"
   ]
  },
  {
   "cell_type": "code",
   "execution_count": 256,
   "metadata": {
    "collapsed": false,
    "scrolled": true
   },
   "outputs": [
    {
     "name": "stdout",
     "output_type": "stream",
     "text": [
      "Float64Index([ 0.0,  1.0,  2.0,  3.0,  4.0,  5.0,  6.0,  7.0,  8.0,  9.0, 10.0,\n",
      "              11.0, 12.0, 13.0, 14.0, 15.0, 16.0, 17.0, 99.0],\n",
      "             dtype='float64')\n",
      "0       1164\n",
      "1      28050\n",
      "2     115028\n",
      "3      87104\n",
      "4      78370\n",
      "5     121557\n",
      "6       8064\n",
      "7      26423\n",
      "8       7451\n",
      "9      45356\n",
      "10     12821\n",
      "11     28014\n",
      "12      4669\n",
      "13       351\n",
      "14      1001\n",
      "15       234\n",
      "16       757\n",
      "17       116\n",
      "99         2\n",
      "Name: FAMI_EDUCA_PADRE, dtype: int64\n",
      "Elementos null/NaN 0\n",
      "__________________\n",
      "Elementos diferentes de null/NaN: 566532\n",
      "__________________\n",
      "(566532,)\n",
      "None\n"
     ]
    }
   ],
   "source": [
    "c = 'FAMI_EDUCA_PADRE'\n",
    "print(data_2013_2[c].value_counts().sort_index().index)\n",
    "print(data_2013_2[c].value_counts().sort_index())\n",
    "print(missing_data(data_2013_2[c]))"
   ]
  },
  {
   "cell_type": "code",
   "execution_count": 257,
   "metadata": {
    "collapsed": false
   },
   "outputs": [
    {
     "name": "stdout",
     "output_type": "stream",
     "text": [
      "cant null antes: 0\n",
      "cant null despues: 0\n"
     ]
    }
   ],
   "source": [
    "Do_resamples(data_2013_2, c, float)"
   ]
  },
  {
   "cell_type": "code",
   "execution_count": 258,
   "metadata": {
    "collapsed": false,
    "scrolled": true
   },
   "outputs": [
    {
     "name": "stdout",
     "output_type": "stream",
     "text": [
      "Float64Index([ 0.0,  1.0,  2.0,  3.0,  4.0,  5.0,  6.0,  7.0,  8.0,  9.0, 10.0,\n",
      "              11.0, 12.0, 13.0, 14.0, 15.0, 16.0, 17.0, 99.0],\n",
      "             dtype='float64')\n",
      "0        496\n",
      "1      14334\n",
      "2     101168\n",
      "3      87137\n",
      "4      92424\n",
      "5     139425\n",
      "6      10150\n",
      "7      34671\n",
      "8       8255\n",
      "9      44892\n",
      "10     13117\n",
      "11     12302\n",
      "12      5283\n",
      "13       398\n",
      "14      1385\n",
      "15       197\n",
      "16       707\n",
      "17       135\n",
      "99        56\n",
      "Name: FAMI_EDUCA_MADRE, dtype: int64\n",
      "Elementos null/NaN 0\n",
      "__________________\n",
      "Elementos diferentes de null/NaN: 566532\n",
      "__________________\n",
      "(566532,)\n",
      "None\n"
     ]
    }
   ],
   "source": [
    "c = 'FAMI_EDUCA_MADRE'\n",
    "print(data_2013_2[c].value_counts().sort_index().index)\n",
    "print(data_2013_2[c].value_counts().sort_index())\n",
    "print(missing_data(data_2013_2[c]))"
   ]
  },
  {
   "cell_type": "code",
   "execution_count": 259,
   "metadata": {
    "collapsed": false
   },
   "outputs": [
    {
     "name": "stdout",
     "output_type": "stream",
     "text": [
      "cant null antes: 0\n",
      "cant null despues: 0\n"
     ]
    }
   ],
   "source": [
    "Do_resamples(data_2013_2, c, float)"
   ]
  },
  {
   "cell_type": "code",
   "execution_count": 260,
   "metadata": {
    "collapsed": false,
    "scrolled": true
   },
   "outputs": [
    {
     "name": "stdout",
     "output_type": "stream",
     "text": [
      "Float64Index([ 1.0,  2.0,  3.0,  4.0,  5.0,  6.0,  7.0,  8.0,  9.0, 10.0, 11.0,\n",
      "              12.0, 13.0, 14.0, 15.0, 16.0, 17.0, 18.0, 19.0, 20.0, 21.0, 22.0,\n",
      "              23.0, 26.0],\n",
      "             dtype='float64')\n",
      "1       8625\n",
      "2      13620\n",
      "3       8680\n",
      "4       5765\n",
      "5      37459\n",
      "6      10713\n",
      "7     119636\n",
      "8      14908\n",
      "9     208038\n",
      "10      6276\n",
      "11     18267\n",
      "12     96369\n",
      "13       311\n",
      "14      1337\n",
      "15       273\n",
      "16       447\n",
      "17       906\n",
      "18       742\n",
      "19      4229\n",
      "20       738\n",
      "21      5261\n",
      "22       361\n",
      "23       584\n",
      "26      2987\n",
      "Name: FAMI_OCUPA_PADRE, dtype: int64\n",
      "Elementos null/NaN 0\n",
      "__________________\n",
      "Elementos diferentes de null/NaN: 566532\n",
      "__________________\n",
      "(566532,)\n",
      "None\n"
     ]
    }
   ],
   "source": [
    "c = 'FAMI_OCUPA_PADRE'\n",
    "print(data_2013_2[c].value_counts().sort_index().index)\n",
    "print(data_2013_2[c].value_counts().sort_index())\n",
    "print(missing_data(data_2013_2[c]))"
   ]
  },
  {
   "cell_type": "code",
   "execution_count": 261,
   "metadata": {
    "collapsed": false
   },
   "outputs": [
    {
     "name": "stdout",
     "output_type": "stream",
     "text": [
      "cant null antes: 0\n",
      "cant null despues: 0\n"
     ]
    }
   ],
   "source": [
    "Do_resamples(data_2013_2, c, float)"
   ]
  },
  {
   "cell_type": "code",
   "execution_count": 262,
   "metadata": {
    "collapsed": false,
    "scrolled": true
   },
   "outputs": [
    {
     "name": "stdout",
     "output_type": "stream",
     "text": [
      "Float64Index([ 1.0,  2.0,  3.0,  4.0,  5.0,  6.0,  7.0,  8.0,  9.0, 10.0, 11.0,\n",
      "              12.0, 13.0, 14.0, 15.0, 16.0, 17.0, 18.0, 19.0, 20.0, 21.0, 22.0,\n",
      "              23.0, 26.0],\n",
      "             dtype='float64')\n",
      "1       3703\n",
      "2      10716\n",
      "3       4379\n",
      "4       6172\n",
      "5      30886\n",
      "6      23935\n",
      "7      37657\n",
      "8      12634\n",
      "9      60675\n",
      "10    305657\n",
      "11      4999\n",
      "12     46943\n",
      "13       122\n",
      "14       514\n",
      "15       177\n",
      "16       411\n",
      "17       603\n",
      "18       678\n",
      "19      2079\n",
      "20       426\n",
      "21      2424\n",
      "22      8784\n",
      "23       212\n",
      "26      1746\n",
      "Name: FAMI_OCUPA_MADRE, dtype: int64\n",
      "Elementos null/NaN 0\n",
      "__________________\n",
      "Elementos diferentes de null/NaN: 566532\n",
      "__________________\n",
      "(566532,)\n",
      "None\n"
     ]
    }
   ],
   "source": [
    "c = 'FAMI_OCUPA_MADRE'\n",
    "print(data_2013_2[c].value_counts().sort_index().index)\n",
    "print(data_2013_2[c].value_counts().sort_index())\n",
    "print(missing_data(data_2013_2[c]))"
   ]
  },
  {
   "cell_type": "code",
   "execution_count": 263,
   "metadata": {
    "collapsed": false
   },
   "outputs": [
    {
     "name": "stdout",
     "output_type": "stream",
     "text": [
      "cant null antes: 0\n",
      "cant null despues: 0\n"
     ]
    }
   ],
   "source": [
    "Do_resamples(data_2013_2, c, float)"
   ]
  },
  {
   "cell_type": "code",
   "execution_count": 264,
   "metadata": {
    "collapsed": false
   },
   "outputs": [
    {
     "name": "stdout",
     "output_type": "stream",
     "text": [
      "Float64Index([1.0, 2.0, 3.0, 4.0, 5.0, 6.0, 8.0], dtype='float64')\n",
      "1    177183\n",
      "2    237531\n",
      "3    123572\n",
      "4     22623\n",
      "5      3948\n",
      "6      1236\n",
      "8       439\n",
      "Name: FAMI_ESTRATO_VIVIENDA, dtype: int64\n",
      "Elementos null/NaN 0\n",
      "__________________\n",
      "Elementos diferentes de null/NaN: 566532\n",
      "__________________\n",
      "(566532,)\n",
      "None\n"
     ]
    }
   ],
   "source": [
    "c = 'FAMI_ESTRATO_VIVIENDA'\n",
    "print(data_2013_2[c].value_counts().sort_index().index)\n",
    "print(data_2013_2[c].value_counts().sort_index())\n",
    "print(missing_data(data_2013_2[c]))"
   ]
  },
  {
   "cell_type": "code",
   "execution_count": 265,
   "metadata": {
    "collapsed": false
   },
   "outputs": [
    {
     "name": "stdout",
     "output_type": "stream",
     "text": [
      "cant null antes: 0\n",
      "cant null despues: 0\n"
     ]
    }
   ],
   "source": [
    "Do_resamples(data_2013_2, c, float)"
   ]
  },
  {
   "cell_type": "code",
   "execution_count": 266,
   "metadata": {
    "collapsed": false
   },
   "outputs": [
    {
     "name": "stdout",
     "output_type": "stream",
     "text": [
      "Float64Index([1.0, 2.0, 3.0, 4.0, 5.0, 6.0, 7.0, 8.0, 9.0, 10.0], dtype='float64')\n",
      "1      25993\n",
      "2     203819\n",
      "3     231574\n",
      "4      73823\n",
      "5      20204\n",
      "6       6649\n",
      "7       2262\n",
      "8       1167\n",
      "9        426\n",
      "10       615\n",
      "Name: FAMI_CUARTOS_HOGAR, dtype: int64\n",
      "Elementos null/NaN 0\n",
      "__________________\n",
      "Elementos diferentes de null/NaN: 566532\n",
      "__________________\n",
      "(566532,)\n",
      "None\n"
     ]
    }
   ],
   "source": [
    "c = 'FAMI_CUARTOS_HOGAR'\n",
    "print(data_2013_2[c].value_counts().sort_index().index)\n",
    "print(data_2013_2[c].value_counts().sort_index())\n",
    "print(missing_data(data_2013_2[c]))"
   ]
  },
  {
   "cell_type": "code",
   "execution_count": 267,
   "metadata": {
    "collapsed": false
   },
   "outputs": [
    {
     "name": "stdout",
     "output_type": "stream",
     "text": [
      "cant null antes: 0\n",
      "cant null despues: 0\n"
     ]
    }
   ],
   "source": [
    "Do_resamples(data_2013_2, c, float)"
   ]
  },
  {
   "cell_type": "code",
   "execution_count": 268,
   "metadata": {
    "collapsed": false,
    "scrolled": true
   },
   "outputs": [
    {
     "name": "stdout",
     "output_type": "stream",
     "text": [
      "Float64Index([1.0, 2.0, 3.0, 4.0, 5.0], dtype='float64')\n",
      "1    258828\n",
      "2    129513\n",
      "3     23904\n",
      "4      4102\n",
      "5    150185\n",
      "Name: FAMI_NIVEL_SISBEN, dtype: int64\n",
      "Elementos null/NaN 0\n",
      "__________________\n",
      "Elementos diferentes de null/NaN: 566532\n",
      "__________________\n",
      "(566532,)\n",
      "None\n"
     ]
    }
   ],
   "source": [
    "c = 'FAMI_NIVEL_SISBEN'\n",
    "print(data_2013_2[c].value_counts().sort_index().index)\n",
    "print(data_2013_2[c].value_counts().sort_index())\n",
    "print(missing_data(data_2013_2[c]))"
   ]
  },
  {
   "cell_type": "code",
   "execution_count": 269,
   "metadata": {
    "collapsed": false
   },
   "outputs": [
    {
     "name": "stdout",
     "output_type": "stream",
     "text": [
      "cant null antes: 0\n",
      "cant null despues: 0\n"
     ]
    }
   ],
   "source": [
    "Do_resamples(data_2013_2, c, float)"
   ]
  },
  {
   "cell_type": "code",
   "execution_count": 270,
   "metadata": {
    "collapsed": false
   },
   "outputs": [
    {
     "name": "stdout",
     "output_type": "stream",
     "text": [
      "Float64Index([1.0, 2.0, 3.0, 4.0, 5.0], dtype='float64')\n",
      "1     32823\n",
      "2    261658\n",
      "3     29440\n",
      "4    242432\n",
      "5       179\n",
      "Name: FAMI_PISOSHOGAR, dtype: int64\n",
      "Elementos null/NaN 0\n",
      "__________________\n",
      "Elementos diferentes de null/NaN: 566532\n",
      "__________________\n",
      "(566532,)\n",
      "None\n"
     ]
    }
   ],
   "source": [
    "c = 'FAMI_PISOSHOGAR'\n",
    "print(data_2013_2[c].value_counts().sort_index().index)\n",
    "print(data_2013_2[c].value_counts().sort_index())\n",
    "print(missing_data(data_2013_2[c]))"
   ]
  },
  {
   "cell_type": "code",
   "execution_count": 271,
   "metadata": {
    "collapsed": false
   },
   "outputs": [
    {
     "name": "stdout",
     "output_type": "stream",
     "text": [
      "cant null antes: 0\n",
      "cant null despues: 0\n"
     ]
    }
   ],
   "source": [
    "Do_resamples(data_2013_2, c, float)"
   ]
  },
  {
   "cell_type": "code",
   "execution_count": 272,
   "metadata": {
    "collapsed": false
   },
   "outputs": [
    {
     "name": "stdout",
     "output_type": "stream",
     "text": [
      "Float64Index([1.0, 2.0, 3.0, 4.0, 5.0, 6.0, 7.0, 8.0, 9.0, 10.0, 11.0, 12.0], dtype='float64')\n",
      "1       2848\n",
      "2      27345\n",
      "3      91720\n",
      "4     168770\n",
      "5     134470\n",
      "6      69692\n",
      "7      33087\n",
      "8      18252\n",
      "9       8137\n",
      "10      5451\n",
      "11      2443\n",
      "12      4317\n",
      "Name: FAMI_PERSONAS_HOGAR, dtype: int64\n",
      "Elementos null/NaN 0\n",
      "__________________\n",
      "Elementos diferentes de null/NaN: 566532\n",
      "__________________\n",
      "(566532,)\n",
      "None\n"
     ]
    }
   ],
   "source": [
    "c = 'FAMI_PERSONAS_HOGAR'\n",
    "print(data_2013_2[c].value_counts().sort_index().index)\n",
    "print(data_2013_2[c].value_counts().sort_index())\n",
    "print(missing_data(data_2013_2[c]))"
   ]
  },
  {
   "cell_type": "code",
   "execution_count": 273,
   "metadata": {
    "collapsed": false
   },
   "outputs": [
    {
     "name": "stdout",
     "output_type": "stream",
     "text": [
      "cant null antes: 0\n",
      "cant null despues: 0\n"
     ]
    }
   ],
   "source": [
    "Do_resamples(data_2013_2, c, float)"
   ]
  },
  {
   "cell_type": "code",
   "execution_count": 274,
   "metadata": {
    "collapsed": false
   },
   "outputs": [
    {
     "name": "stdout",
     "output_type": "stream",
     "text": [
      "Float64Index([0.0, 1.0], dtype='float64')\n",
      "0    308334\n",
      "1    258198\n",
      "Name: FAMI_TELEFONO_FIJO, dtype: int64\n",
      "Elementos null/NaN 0\n",
      "__________________\n",
      "Elementos diferentes de null/NaN: 566532\n",
      "__________________\n",
      "(566532,)\n",
      "None\n"
     ]
    }
   ],
   "source": [
    "c = 'FAMI_TELEFONO_FIJO'\n",
    "print(data_2013_2[c].value_counts().sort_index().index)\n",
    "print(data_2013_2[c].value_counts().sort_index())\n",
    "print(missing_data(data_2013_2[c]))"
   ]
  },
  {
   "cell_type": "code",
   "execution_count": 275,
   "metadata": {
    "collapsed": false
   },
   "outputs": [
    {
     "name": "stdout",
     "output_type": "stream",
     "text": [
      "cant null antes: 0\n",
      "cant null despues: 0\n"
     ]
    }
   ],
   "source": [
    "Do_resamples(data_2013_2, c, float)"
   ]
  },
  {
   "cell_type": "code",
   "execution_count": 276,
   "metadata": {
    "collapsed": false
   },
   "outputs": [
    {
     "name": "stdout",
     "output_type": "stream",
     "text": [
      "Float64Index([0.0, 1.0], dtype='float64')\n",
      "0     32406\n",
      "1    534126\n",
      "Name: FAMI_CELULAR, dtype: int64\n",
      "Elementos null/NaN 0\n",
      "__________________\n",
      "Elementos diferentes de null/NaN: 566532\n",
      "__________________\n",
      "(566532,)\n",
      "None\n"
     ]
    }
   ],
   "source": [
    "c = 'FAMI_CELULAR'\n",
    "print(data_2013_2[c].value_counts().sort_index().index)\n",
    "print(data_2013_2[c].value_counts().sort_index())\n",
    "print(missing_data(data_2013_2[c]))"
   ]
  },
  {
   "cell_type": "code",
   "execution_count": 277,
   "metadata": {
    "collapsed": false
   },
   "outputs": [
    {
     "name": "stdout",
     "output_type": "stream",
     "text": [
      "cant null antes: 0\n",
      "cant null despues: 0\n"
     ]
    }
   ],
   "source": [
    "Do_resamples(data_2013_2, c, float)"
   ]
  },
  {
   "cell_type": "code",
   "execution_count": 278,
   "metadata": {
    "collapsed": false
   },
   "outputs": [
    {
     "name": "stdout",
     "output_type": "stream",
     "text": [
      "Float64Index([0.0, 1.0], dtype='float64')\n",
      "0    295776\n",
      "1    270756\n",
      "Name: FAMI_INTERNET, dtype: int64\n",
      "Elementos null/NaN 0\n",
      "__________________\n",
      "Elementos diferentes de null/NaN: 566532\n",
      "__________________\n",
      "(566532,)\n",
      "None\n"
     ]
    }
   ],
   "source": [
    "c = 'FAMI_INTERNET'\n",
    "print(data_2013_2[c].value_counts().sort_index().index)\n",
    "print(data_2013_2[c].value_counts().sort_index())\n",
    "print(missing_data(data_2013_2[c]))"
   ]
  },
  {
   "cell_type": "code",
   "execution_count": 279,
   "metadata": {
    "collapsed": false
   },
   "outputs": [
    {
     "name": "stdout",
     "output_type": "stream",
     "text": [
      "cant null antes: 0\n",
      "cant null despues: 0\n"
     ]
    }
   ],
   "source": [
    "Do_resamples(data_2013_2, c, float)"
   ]
  },
  {
   "cell_type": "code",
   "execution_count": 280,
   "metadata": {
    "collapsed": false
   },
   "outputs": [
    {
     "name": "stdout",
     "output_type": "stream",
     "text": [
      "Float64Index([0.0, 1.0], dtype='float64')\n",
      "0    212529\n",
      "1    354003\n",
      "Name: FAMI_SERVICIO_TELEVISION, dtype: int64\n",
      "Elementos null/NaN 0\n",
      "__________________\n",
      "Elementos diferentes de null/NaN: 566532\n",
      "__________________\n",
      "(566532,)\n",
      "None\n"
     ]
    }
   ],
   "source": [
    "c = 'FAMI_SERVICIO_TELEVISION'\n",
    "print(data_2013_2[c].value_counts().sort_index().index)\n",
    "print(data_2013_2[c].value_counts().sort_index())\n",
    "print(missing_data(data_2013_2[c]))"
   ]
  },
  {
   "cell_type": "code",
   "execution_count": 281,
   "metadata": {
    "collapsed": false
   },
   "outputs": [
    {
     "name": "stdout",
     "output_type": "stream",
     "text": [
      "cant null antes: 0\n",
      "cant null despues: 0\n"
     ]
    }
   ],
   "source": [
    "Do_resamples(data_2013_2, c, float)"
   ]
  },
  {
   "cell_type": "code",
   "execution_count": 282,
   "metadata": {
    "collapsed": false
   },
   "outputs": [
    {
     "name": "stdout",
     "output_type": "stream",
     "text": [
      "Float64Index([0.0, 1.0, 3.0], dtype='float64')\n",
      "0    230578\n",
      "1    323702\n",
      "3     12252\n",
      "Name: FAMI_COMPUTADOR, dtype: int64\n",
      "Elementos null/NaN 0\n",
      "__________________\n",
      "Elementos diferentes de null/NaN: 566532\n",
      "__________________\n",
      "(566532,)\n",
      "None\n"
     ]
    }
   ],
   "source": [
    "c = 'FAMI_COMPUTADOR'\n",
    "print(data_2013_2[c].value_counts().sort_index().index)\n",
    "print(data_2013_2[c].value_counts().sort_index())\n",
    "print(missing_data(data_2013_2[c]))"
   ]
  },
  {
   "cell_type": "code",
   "execution_count": 283,
   "metadata": {
    "collapsed": false
   },
   "outputs": [
    {
     "name": "stdout",
     "output_type": "stream",
     "text": [
      "cant null antes: 0\n",
      "cant null despues: 0\n"
     ]
    }
   ],
   "source": [
    "Do_resamples(data_2013_2, c, float)"
   ]
  },
  {
   "cell_type": "code",
   "execution_count": 284,
   "metadata": {
    "collapsed": false
   },
   "outputs": [
    {
     "name": "stdout",
     "output_type": "stream",
     "text": [
      "Float64Index([0.0, 1.0], dtype='float64')\n",
      "0    204913\n",
      "1    361619\n",
      "Name: FAMI_LAVADORA, dtype: int64\n",
      "Elementos null/NaN 0\n",
      "__________________\n",
      "Elementos diferentes de null/NaN: 566532\n",
      "__________________\n",
      "(566532,)\n",
      "None\n"
     ]
    }
   ],
   "source": [
    "c = 'FAMI_LAVADORA'\n",
    "print(data_2013_2[c].value_counts().sort_index().index)\n",
    "print(data_2013_2[c].value_counts().sort_index())\n",
    "print(missing_data(data_2013_2[c]))"
   ]
  },
  {
   "cell_type": "code",
   "execution_count": 285,
   "metadata": {
    "collapsed": false
   },
   "outputs": [
    {
     "name": "stdout",
     "output_type": "stream",
     "text": [
      "cant null antes: 0\n",
      "cant null despues: 0\n"
     ]
    }
   ],
   "source": [
    "Do_resamples(data_2013_2, c, float)"
   ]
  },
  {
   "cell_type": "code",
   "execution_count": 286,
   "metadata": {
    "collapsed": false
   },
   "outputs": [
    {
     "name": "stdout",
     "output_type": "stream",
     "text": [
      "Float64Index([0.0, 1.0], dtype='float64')\n",
      "0     71982\n",
      "1    494550\n",
      "Name: FAMI_NEVERA, dtype: int64\n",
      "Elementos null/NaN 0\n",
      "__________________\n",
      "Elementos diferentes de null/NaN: 566532\n",
      "__________________\n",
      "(566532,)\n",
      "None\n"
     ]
    }
   ],
   "source": [
    "c = 'FAMI_NEVERA'\n",
    "print(data_2013_2[c].value_counts().sort_index().index)\n",
    "print(data_2013_2[c].value_counts().sort_index())\n",
    "print(missing_data(data_2013_2[c]))"
   ]
  },
  {
   "cell_type": "code",
   "execution_count": 287,
   "metadata": {
    "collapsed": false
   },
   "outputs": [
    {
     "name": "stdout",
     "output_type": "stream",
     "text": [
      "cant null antes: 0\n",
      "cant null despues: 0\n"
     ]
    }
   ],
   "source": [
    "Do_resamples(data_2013_2, c, float)"
   ]
  },
  {
   "cell_type": "code",
   "execution_count": 288,
   "metadata": {
    "collapsed": false
   },
   "outputs": [
    {
     "name": "stdout",
     "output_type": "stream",
     "text": [
      "Float64Index([0.0, 1.0], dtype='float64')\n",
      "0    326646\n",
      "1    239886\n",
      "Name: FAMI_HORNO, dtype: int64\n",
      "Elementos null/NaN 0\n",
      "__________________\n",
      "Elementos diferentes de null/NaN: 566532\n",
      "__________________\n",
      "(566532,)\n",
      "None\n"
     ]
    }
   ],
   "source": [
    "c = 'FAMI_HORNO'\n",
    "print(data_2013_2[c].value_counts().sort_index().index)\n",
    "print(data_2013_2[c].value_counts().sort_index())\n",
    "print(missing_data(data_2013_2[c]))"
   ]
  },
  {
   "cell_type": "code",
   "execution_count": 289,
   "metadata": {
    "collapsed": false
   },
   "outputs": [
    {
     "name": "stdout",
     "output_type": "stream",
     "text": [
      "cant null antes: 0\n",
      "cant null despues: 0\n"
     ]
    }
   ],
   "source": [
    "Do_resamples(data_2013_2, c, float)"
   ]
  },
  {
   "cell_type": "code",
   "execution_count": 290,
   "metadata": {
    "collapsed": false
   },
   "outputs": [
    {
     "name": "stdout",
     "output_type": "stream",
     "text": [
      "Float64Index([0.0, 1.0], dtype='float64')\n",
      "0    199763\n",
      "1    366769\n",
      "Name: FAMI_DVD, dtype: int64\n",
      "Elementos null/NaN 0\n",
      "__________________\n",
      "Elementos diferentes de null/NaN: 566532\n",
      "__________________\n",
      "(566532,)\n",
      "None\n"
     ]
    }
   ],
   "source": [
    "c = 'FAMI_DVD'\n",
    "print(data_2013_2[c].value_counts().sort_index().index)\n",
    "print(data_2013_2[c].value_counts().sort_index())\n",
    "print(missing_data(data_2013_2[c]))"
   ]
  },
  {
   "cell_type": "code",
   "execution_count": 291,
   "metadata": {
    "collapsed": false
   },
   "outputs": [
    {
     "name": "stdout",
     "output_type": "stream",
     "text": [
      "cant null antes: 0\n",
      "cant null despues: 0\n"
     ]
    }
   ],
   "source": [
    "Do_resamples(data_2013_2, c, float)"
   ]
  },
  {
   "cell_type": "code",
   "execution_count": 292,
   "metadata": {
    "collapsed": false
   },
   "outputs": [
    {
     "name": "stdout",
     "output_type": "stream",
     "text": [
      "Float64Index([0.0, 1.0], dtype='float64')\n",
      "0    413705\n",
      "1    152827\n",
      "Name: FAMI_MICROONDAS, dtype: int64\n",
      "Elementos null/NaN 0\n",
      "__________________\n",
      "Elementos diferentes de null/NaN: 566532\n",
      "__________________\n",
      "(566532,)\n",
      "None\n"
     ]
    }
   ],
   "source": [
    "c = 'FAMI_MICROONDAS'\n",
    "print(data_2013_2[c].value_counts().sort_index().index)\n",
    "print(data_2013_2[c].value_counts().sort_index())\n",
    "print(missing_data(data_2013_2[c]))"
   ]
  },
  {
   "cell_type": "code",
   "execution_count": 293,
   "metadata": {
    "collapsed": false
   },
   "outputs": [
    {
     "name": "stdout",
     "output_type": "stream",
     "text": [
      "cant null antes: 0\n",
      "cant null despues: 0\n"
     ]
    }
   ],
   "source": [
    "Do_resamples(data_2013_2, c, float)"
   ]
  },
  {
   "cell_type": "code",
   "execution_count": 294,
   "metadata": {
    "collapsed": false
   },
   "outputs": [
    {
     "name": "stdout",
     "output_type": "stream",
     "text": [
      "Float64Index([0.0, 1.0], dtype='float64')\n",
      "0    460112\n",
      "1    106420\n",
      "Name: FAMI_AUTOMOVIL, dtype: int64\n",
      "Elementos null/NaN 0\n",
      "__________________\n",
      "Elementos diferentes de null/NaN: 566532\n",
      "__________________\n",
      "(566532,)\n",
      "None\n"
     ]
    }
   ],
   "source": [
    "c = 'FAMI_AUTOMOVIL'\n",
    "print(data_2013_2[c].value_counts().sort_index().index)\n",
    "print(data_2013_2[c].value_counts().sort_index())\n",
    "print(missing_data(data_2013_2[c]))"
   ]
  },
  {
   "cell_type": "code",
   "execution_count": 295,
   "metadata": {
    "collapsed": false
   },
   "outputs": [
    {
     "name": "stdout",
     "output_type": "stream",
     "text": [
      "cant null antes: 0\n",
      "cant null despues: 0\n"
     ]
    }
   ],
   "source": [
    "Do_resamples(data_2013_2, c, float)"
   ]
  },
  {
   "cell_type": "code",
   "execution_count": 296,
   "metadata": {
    "collapsed": false
   },
   "outputs": [
    {
     "name": "stdout",
     "output_type": "stream",
     "text": [
      "Float64Index([1.0, 2.0, 3.0, 4.0, 5.0, 6.0, 7.0], dtype='float64')\n",
      "1    177862\n",
      "2    247474\n",
      "3     80739\n",
      "4     37422\n",
      "5     11951\n",
      "6      5841\n",
      "7      5243\n",
      "Name: FAMI_INGRESO_FMILIAR_MENSUAL, dtype: int64\n",
      "Elementos null/NaN 0\n",
      "__________________\n",
      "Elementos diferentes de null/NaN: 566532\n",
      "__________________\n",
      "(566532,)\n",
      "None\n"
     ]
    }
   ],
   "source": [
    "c = 'FAMI_INGRESO_FMILIAR_MENSUAL'\n",
    "print(data_2013_2[c].value_counts().sort_index().index)\n",
    "print(data_2013_2[c].value_counts().sort_index())\n",
    "print(missing_data(data_2013_2[c]))"
   ]
  },
  {
   "cell_type": "code",
   "execution_count": 297,
   "metadata": {
    "collapsed": false
   },
   "outputs": [
    {
     "name": "stdout",
     "output_type": "stream",
     "text": [
      "cant null antes: 0\n",
      "cant null despues: 0\n"
     ]
    }
   ],
   "source": [
    "Do_resamples(data_2013_2, c, float)"
   ]
  },
  {
   "cell_type": "code",
   "execution_count": 298,
   "metadata": {
    "collapsed": false
   },
   "outputs": [
    {
     "name": "stdout",
     "output_type": "stream",
     "text": [
      "Float64Index([0.0, 1.0, 2.0, 3.0, 4.0, 5.0, 6.0], dtype='float64')\n",
      "0     22235\n",
      "1    478435\n",
      "2     29284\n",
      "3     26602\n",
      "4      5219\n",
      "5      4756\n",
      "6         1\n",
      "Name: ESTU_TRABAJA, dtype: int64\n",
      "Elementos null/NaN 0\n",
      "__________________\n",
      "Elementos diferentes de null/NaN: 566532\n",
      "__________________\n",
      "(566532,)\n",
      "None\n"
     ]
    }
   ],
   "source": [
    "c = 'ESTU_TRABAJA'\n",
    "print(data_2013_2[c].value_counts().sort_index().index)\n",
    "print(data_2013_2[c].value_counts().sort_index())\n",
    "print(missing_data(data_2013_2[c]))"
   ]
  },
  {
   "cell_type": "code",
   "execution_count": 299,
   "metadata": {
    "collapsed": false
   },
   "outputs": [
    {
     "name": "stdout",
     "output_type": "stream",
     "text": [
      "cant null antes: 0\n",
      "cant null despues: 0\n"
     ]
    }
   ],
   "source": [
    "Do_resamples(data_2013_2, c, float)"
   ]
  },
  {
   "cell_type": "code",
   "execution_count": 300,
   "metadata": {
    "collapsed": false,
    "scrolled": true
   },
   "outputs": [
    {
     "name": "stdout",
     "output_type": "stream",
     "text": [
      "Float64Index([ 0.0,  1.0,  2.0,  3.0,  4.0,  5.0,  6.0,  7.0,  8.0,  9.0, 10.0,\n",
      "              11.0, 12.0, 13.0, 14.0, 15.0, 16.0, 17.0, 18.0, 19.0, 20.0],\n",
      "             dtype='float64')\n",
      "0       2392\n",
      "1        163\n",
      "2       3625\n",
      "3       2585\n",
      "4       8658\n",
      "5       6091\n",
      "6       9040\n",
      "7       3814\n",
      "8      59721\n",
      "9      11878\n",
      "10     20286\n",
      "11      2296\n",
      "12     12027\n",
      "13       918\n",
      "14      1456\n",
      "15      6990\n",
      "16      9107\n",
      "17       619\n",
      "18      7481\n",
      "19      1362\n",
      "20    396023\n",
      "Name: ESTU_HORAS_TRABAJA, dtype: int64\n",
      "Elementos null/NaN 0\n",
      "__________________\n",
      "Elementos diferentes de null/NaN: 566532\n",
      "__________________\n",
      "(566532,)\n",
      "None\n"
     ]
    }
   ],
   "source": [
    "c = 'ESTU_HORAS_TRABAJA'\n",
    "print(data_2013_2[c].value_counts().sort_index().index)\n",
    "print(data_2013_2[c].value_counts().sort_index())\n",
    "print(missing_data(data_2013_2[c]))"
   ]
  },
  {
   "cell_type": "code",
   "execution_count": 301,
   "metadata": {
    "collapsed": false
   },
   "outputs": [
    {
     "name": "stdout",
     "output_type": "stream",
     "text": [
      "cant null antes: 0\n",
      "cant null despues: 0\n"
     ]
    }
   ],
   "source": [
    "Do_resamples(data_2013_2, c, float)"
   ]
  },
  {
   "cell_type": "markdown",
   "metadata": {},
   "source": [
    "## TARGETS"
   ]
  },
  {
   "cell_type": "code",
   "execution_count": 302,
   "metadata": {
    "collapsed": false,
    "scrolled": true
   },
   "outputs": [
    {
     "name": "stdout",
     "output_type": "stream",
     "text": [
      "Float64Index([ 0.0, 20.0, 21.0, 27.0, 28.0, 29.0, 32.0, 33.0, 35.0, 36.0, 38.0,\n",
      "              39.0, 40.0, 42.0, 43.0, 44.0, 45.0, 46.0, 47.0, 48.0, 49.0, 50.0,\n",
      "              52.0, 53.0, 54.0, 55.0, 56.0, 57.0, 58.0, 59.0, 60.0, 61.0, 62.0,\n",
      "              63.0, 64.0, 65.0, 66.0, 67.0, 68.0, 71.0, 72.0, 75.0, 76.0, 80.0,\n",
      "              83.0, 94.0, 95.0],\n",
      "             dtype='float64')\n",
      "0       348\n",
      "20      714\n",
      "21      305\n",
      "27     2747\n",
      "28     1024\n",
      "29      214\n",
      "32    10646\n",
      "33      621\n",
      "35    21441\n",
      "36     1629\n",
      "38    34147\n",
      "39     2614\n",
      "40    45876\n",
      "42    33445\n",
      "43    23814\n",
      "44     3891\n",
      "45    57065\n",
      "46    19914\n",
      "47    40833\n",
      "48    44874\n",
      "49    11615\n",
      "50    50024\n",
      "52    42827\n",
      "53     1541\n",
      "54    32831\n",
      "55     1111\n",
      "56    25827\n",
      "57      777\n",
      "58    19488\n",
      "59      563\n",
      "60    13510\n",
      "61      562\n",
      "62     8849\n",
      "63      357\n",
      "64     1535\n",
      "65     3911\n",
      "66      130\n",
      "67     2314\n",
      "68      693\n",
      "71     1345\n",
      "72       20\n",
      "75      254\n",
      "76      180\n",
      "80        1\n",
      "83       94\n",
      "94        7\n",
      "95        4\n",
      "Name: PUNT_LENGUAJE, dtype: int64\n",
      "Elementos null/NaN 0\n",
      "__________________\n",
      "Elementos diferentes de null/NaN: 566532\n",
      "__________________\n",
      "(566532,)\n",
      "None\n"
     ]
    }
   ],
   "source": [
    "c = 'PUNT_LENGUAJE'\n",
    "print(data_2013_2[c].value_counts().sort_index().index)\n",
    "print(data_2013_2[c].value_counts().sort_index())\n",
    "print(missing_data(data_2013_2[c]))"
   ]
  },
  {
   "cell_type": "code",
   "execution_count": 303,
   "metadata": {
    "collapsed": true
   },
   "outputs": [],
   "source": [
    "data_2013_2[c].fillna(int(np.mean(data_2013_2[c])), inplace=True)"
   ]
  },
  {
   "cell_type": "code",
   "execution_count": 304,
   "metadata": {
    "collapsed": false,
    "scrolled": true
   },
   "outputs": [
    {
     "name": "stdout",
     "output_type": "stream",
     "text": [
      "Float64Index([  0.0,   1.0,   5.0,  11.0,  12.0,  13.0,  15.0,  18.0,  22.0,\n",
      "               23.0,  24.0,  27.0,  28.0,  29.0,  31.0,  32.0,  33.0,  34.0,\n",
      "               35.0,  37.0,  38.0,  40.0,  41.0,  43.0,  44.0,  46.0,  47.0,\n",
      "               48.0,  49.0,  50.0,  51.0,  52.0,  53.0,  54.0,  55.0,  57.0,\n",
      "               58.0,  59.0,  60.0,  61.0,  62.0,  63.0,  64.0,  65.0,  66.0,\n",
      "               67.0,  68.0,  70.0,  71.0,  73.0,  74.0,  75.0,  78.0,  79.0,\n",
      "               80.0,  82.0,  83.0,  84.0,  86.0,  88.0,  89.0,  90.0,  93.0,\n",
      "               96.0,  98.0,  99.0, 100.0, 113.0, 114.0, 116.0],\n",
      "             dtype='float64')\n",
      "0        414\n",
      "1         22\n",
      "5          4\n",
      "11       509\n",
      "12       598\n",
      "13      1127\n",
      "15        45\n",
      "18       326\n",
      "22      4362\n",
      "23      4636\n",
      "24       772\n",
      "27       229\n",
      "28     12881\n",
      "29     11935\n",
      "31       425\n",
      "32      1905\n",
      "33     23155\n",
      "34     22247\n",
      "35      2532\n",
      "37     35355\n",
      "38     33018\n",
      "40     41853\n",
      "41     37111\n",
      "43     42574\n",
      "44     34584\n",
      "46     37233\n",
      "47     28868\n",
      "48       853\n",
      "49     28570\n",
      "50     22208\n",
      "       ...  \n",
      "62      7941\n",
      "63      2293\n",
      "64       467\n",
      "65      7542\n",
      "66       104\n",
      "67       421\n",
      "68      5706\n",
      "70        70\n",
      "71      4519\n",
      "73        56\n",
      "74      2089\n",
      "75      1088\n",
      "78      1418\n",
      "79       504\n",
      "80       254\n",
      "82       227\n",
      "83       819\n",
      "84        27\n",
      "86       196\n",
      "88       143\n",
      "89       279\n",
      "90       147\n",
      "93         4\n",
      "96       130\n",
      "98       106\n",
      "99        49\n",
      "100       63\n",
      "113       62\n",
      "114       17\n",
      "116       11\n",
      "Name: PUNT_MATEMATICAS, dtype: int64\n",
      "Elementos null/NaN 0\n",
      "__________________\n",
      "Elementos diferentes de null/NaN: 566532\n",
      "__________________\n",
      "(566532,)\n",
      "None\n"
     ]
    }
   ],
   "source": [
    "c = 'PUNT_MATEMATICAS'\n",
    "print(data_2013_2[c].value_counts().sort_index().index)\n",
    "print(data_2013_2[c].value_counts().sort_index())\n",
    "print(missing_data(data_2013_2[c]))"
   ]
  },
  {
   "cell_type": "code",
   "execution_count": 305,
   "metadata": {
    "collapsed": true
   },
   "outputs": [],
   "source": [
    "for i in data_2013_2[c].value_counts().sort_index().index:\n",
    "    if i > 100:\n",
    "        data_2013_2[c] = data_2013_2[c].replace(i, 100)\n",
    "    elif i < 0:\n",
    "        data_2013_2[c] = data_2013_2[c].replace(i, 0)\n",
    "data_2013_2[c].fillna(int(np.mean(data_2013_2[c])), inplace=True)"
   ]
  },
  {
   "cell_type": "code",
   "execution_count": 306,
   "metadata": {
    "collapsed": false,
    "scrolled": true
   },
   "outputs": [
    {
     "name": "stdout",
     "output_type": "stream",
     "text": [
      "Float64Index([ 0.0,  8.0,  9.0, 14.0, 16.0, 17.0, 19.0, 21.0, 22.0, 23.0, 25.0,\n",
      "              26.0, 27.0, 28.0, 29.0, 30.0, 31.0, 32.0, 33.0, 34.0, 35.0, 36.0,\n",
      "              37.0, 38.0, 39.0, 40.0, 41.0, 42.0, 43.0, 44.0, 45.0, 46.0, 47.0,\n",
      "              48.0, 49.0, 50.0, 51.0, 52.0, 53.0, 54.0, 55.0, 56.0, 57.0, 58.0,\n",
      "              59.0, 60.0, 61.0, 62.0, 63.0, 64.0, 65.0, 66.0, 67.0, 68.0, 69.0,\n",
      "              70.0, 72.0, 73.0, 74.0, 76.0, 77.0, 78.0, 79.0, 84.0, 85.0, 86.0,\n",
      "              87.0, 91.0, 97.0, 98.0, 99.0],\n",
      "             dtype='float64')\n",
      "0       546\n",
      "8         5\n",
      "9       128\n",
      "14        3\n",
      "16       26\n",
      "17      418\n",
      "19       14\n",
      "21      405\n",
      "22     1042\n",
      "23       50\n",
      "25     1087\n",
      "26     2755\n",
      "27      108\n",
      "28     2282\n",
      "29     5811\n",
      "30      173\n",
      "31    11131\n",
      "32     3838\n",
      "33    11405\n",
      "34    11753\n",
      "35     7924\n",
      "36    24092\n",
      "37    21468\n",
      "38    19213\n",
      "39    34608\n",
      "40    13032\n",
      "41    47165\n",
      "42    16316\n",
      "43    36430\n",
      "44    35804\n",
      "      ...  \n",
      "56     6882\n",
      "57    11679\n",
      "58      640\n",
      "59     9163\n",
      "60      518\n",
      "61     7150\n",
      "62      335\n",
      "63     4244\n",
      "64     1305\n",
      "65     2160\n",
      "66     1527\n",
      "67      161\n",
      "68     1440\n",
      "69      986\n",
      "70      112\n",
      "72     1182\n",
      "73      270\n",
      "74       52\n",
      "76      206\n",
      "77      370\n",
      "78      129\n",
      "79       14\n",
      "84       70\n",
      "85      124\n",
      "86       36\n",
      "87        6\n",
      "91        1\n",
      "97       18\n",
      "98       15\n",
      "99        8\n",
      "Name: PUNT_C_SOCIALES, dtype: int64\n",
      "Elementos null/NaN 0\n",
      "__________________\n",
      "Elementos diferentes de null/NaN: 566532\n",
      "__________________\n",
      "(566532,)\n",
      "None\n"
     ]
    }
   ],
   "source": [
    "c = 'PUNT_C_SOCIALES'\n",
    "print(data_2013_2[c].value_counts().sort_index().index)\n",
    "print(data_2013_2[c].value_counts().sort_index())\n",
    "print(missing_data(data_2013_2[c]))"
   ]
  },
  {
   "cell_type": "code",
   "execution_count": 307,
   "metadata": {
    "collapsed": true
   },
   "outputs": [],
   "source": [
    "data_2013_2[c].fillna(int(np.mean(data_2013_2[c])), inplace=True)"
   ]
  },
  {
   "cell_type": "code",
   "execution_count": 308,
   "metadata": {
    "collapsed": false,
    "scrolled": true
   },
   "outputs": [
    {
     "name": "stdout",
     "output_type": "stream",
     "text": [
      "Float64Index([  0.0,   7.0,   8.0,   9.0,  10.0,  11.0,  16.0,  18.0,  19.0,\n",
      "               20.0,  21.0,  24.0,  25.0,  26.0,  28.0,  29.0,  30.0,  31.0,\n",
      "               32.0,  33.0,  34.0,  36.0,  37.0,  38.0,  39.0,  40.0,  41.0,\n",
      "               42.0,  43.0,  44.0,  45.0,  46.0,  47.0,  48.0,  49.0,  50.0,\n",
      "               51.0,  52.0,  53.0,  54.0,  55.0,  56.0,  57.0,  58.0,  59.0,\n",
      "               60.0,  61.0,  62.0,  63.0,  64.0,  65.0,  66.0,  67.0,  68.0,\n",
      "               69.0,  70.0,  71.0,  72.0,  75.0,  76.0,  77.0,  78.0,  84.0,\n",
      "               86.0,  99.0, 101.0],\n",
      "             dtype='float64')\n",
      "0        697\n",
      "7         21\n",
      "8        319\n",
      "9        790\n",
      "10      1355\n",
      "11      1156\n",
      "16        69\n",
      "18      1346\n",
      "19      2963\n",
      "20      8529\n",
      "21       199\n",
      "24      3383\n",
      "25      7761\n",
      "26     18709\n",
      "28      6465\n",
      "29     14051\n",
      "30     17908\n",
      "31     13278\n",
      "32     10755\n",
      "33     18858\n",
      "34     42065\n",
      "36     34354\n",
      "37     27163\n",
      "38     18701\n",
      "39     17521\n",
      "40     43802\n",
      "41     30246\n",
      "42     18681\n",
      "43     35866\n",
      "44     10775\n",
      "       ...  \n",
      "51     20116\n",
      "52      4275\n",
      "53     10589\n",
      "54      3710\n",
      "55      3461\n",
      "56      9054\n",
      "57       161\n",
      "58      2009\n",
      "59      5693\n",
      "60        93\n",
      "61      1373\n",
      "62      2619\n",
      "63      1200\n",
      "64       158\n",
      "65       611\n",
      "66      2155\n",
      "67        39\n",
      "68       101\n",
      "69       344\n",
      "70       842\n",
      "71       324\n",
      "72        51\n",
      "75       334\n",
      "76       151\n",
      "77       133\n",
      "78        21\n",
      "84       165\n",
      "86        55\n",
      "99        45\n",
      "101        7\n",
      "Name: PUNT_FILOSOFIA, dtype: int64\n",
      "Elementos null/NaN 0\n",
      "__________________\n",
      "Elementos diferentes de null/NaN: 566532\n",
      "__________________\n",
      "(566532,)\n",
      "None\n"
     ]
    }
   ],
   "source": [
    "c = 'PUNT_FILOSOFIA'\n",
    "print(data_2013_2[c].value_counts().sort_index().index)\n",
    "print(data_2013_2[c].value_counts().sort_index())\n",
    "print(missing_data(data_2013_2[c]))"
   ]
  },
  {
   "cell_type": "code",
   "execution_count": 309,
   "metadata": {
    "collapsed": true
   },
   "outputs": [],
   "source": [
    "for i in data_2013_2[c].value_counts().sort_index().index:\n",
    "    if i > 100:\n",
    "        data_2013_2[c] = data_2013_2[c].replace(i, 100)\n",
    "    elif i < 0:\n",
    "        data_2013_2[c] = data_2013_2[c].replace(i, 0)\n",
    "data_2013_2[c].fillna(int(np.mean(data_2013_2[c])), inplace=True)"
   ]
  },
  {
   "cell_type": "code",
   "execution_count": 310,
   "metadata": {
    "collapsed": false,
    "scrolled": true
   },
   "outputs": [
    {
     "name": "stdout",
     "output_type": "stream",
     "text": [
      "Float64Index([ 0.0, 13.0, 14.0, 15.0, 16.0, 21.0, 22.0, 23.0, 24.0, 26.0, 27.0,\n",
      "              28.0, 29.0, 30.0, 31.0, 33.0, 34.0, 36.0, 37.0, 38.0, 39.0, 41.0,\n",
      "              42.0, 43.0, 44.0, 45.0, 46.0, 47.0, 48.0, 49.0, 50.0, 51.0, 52.0,\n",
      "              53.0, 54.0, 55.0, 56.0, 57.0, 58.0, 59.0, 60.0, 61.0, 62.0, 63.0,\n",
      "              64.0, 65.0, 67.0, 68.0, 69.0, 71.0, 72.0, 75.0, 76.0, 77.0, 78.0,\n",
      "              83.0, 84.0, 85.0, 86.0, 96.0, 97.0, 98.0, 99.0],\n",
      "             dtype='float64')\n",
      "0       128\n",
      "13       18\n",
      "14      132\n",
      "15      438\n",
      "16        9\n",
      "21       91\n",
      "22     1710\n",
      "23     1058\n",
      "24       49\n",
      "26      289\n",
      "27     5178\n",
      "28     2962\n",
      "29      186\n",
      "30      640\n",
      "31    18004\n",
      "33     1590\n",
      "34    30602\n",
      "36     2391\n",
      "37    43992\n",
      "38     3147\n",
      "39    54613\n",
      "41    48473\n",
      "42    14807\n",
      "43    13747\n",
      "44    48920\n",
      "45    31883\n",
      "46    25878\n",
      "47    27665\n",
      "48    22937\n",
      "49    33223\n",
      "      ...  \n",
      "53    27076\n",
      "54      297\n",
      "55    19266\n",
      "56     1279\n",
      "57     7521\n",
      "58     7479\n",
      "59     5001\n",
      "60     5014\n",
      "61     1204\n",
      "62     4773\n",
      "63      491\n",
      "64     1877\n",
      "65     1972\n",
      "67     1070\n",
      "68      920\n",
      "69      197\n",
      "71      528\n",
      "72      568\n",
      "75       93\n",
      "76      250\n",
      "77      137\n",
      "78       61\n",
      "83       85\n",
      "84       21\n",
      "85       52\n",
      "86       38\n",
      "96       12\n",
      "97        9\n",
      "98       12\n",
      "99       31\n",
      "Name: PUNT_BIOLOGIA, dtype: int64\n",
      "Elementos null/NaN 0\n",
      "__________________\n",
      "Elementos diferentes de null/NaN: 566532\n",
      "__________________\n",
      "(566532,)\n",
      "None\n"
     ]
    }
   ],
   "source": [
    "c = 'PUNT_BIOLOGIA'\n",
    "print(data_2013_2[c].value_counts().sort_index().index)\n",
    "print(data_2013_2[c].value_counts().sort_index())\n",
    "print(missing_data(data_2013_2[c]))"
   ]
  },
  {
   "cell_type": "code",
   "execution_count": 311,
   "metadata": {
    "collapsed": true
   },
   "outputs": [],
   "source": [
    "data_2013_2[c].fillna(int(np.mean(data_2013_2[c])), inplace=True)"
   ]
  },
  {
   "cell_type": "code",
   "execution_count": 312,
   "metadata": {
    "collapsed": false,
    "scrolled": true
   },
   "outputs": [
    {
     "name": "stdout",
     "output_type": "stream",
     "text": [
      "Float64Index([ 0.0, 16.0, 17.0, 23.0, 24.0, 28.0, 29.0, 31.0, 32.0, 34.0, 35.0,\n",
      "              36.0, 37.0, 38.0, 39.0, 40.0, 41.0, 42.0, 43.0, 44.0, 45.0, 46.0,\n",
      "              47.0, 48.0, 49.0, 50.0, 51.0, 52.0, 53.0, 54.0, 55.0, 56.0, 57.0,\n",
      "              58.0, 59.0, 60.0, 61.0, 62.0, 63.0, 65.0, 66.0, 68.0, 69.0, 70.0,\n",
      "              71.0, 73.0, 76.0, 77.0, 80.0, 88.0, 89.0, 92.0],\n",
      "             dtype='float64')\n",
      "0       174\n",
      "16      759\n",
      "17       48\n",
      "23     2337\n",
      "24     1041\n",
      "28     8652\n",
      "29      512\n",
      "31     8895\n",
      "32    10386\n",
      "34    30623\n",
      "35     1658\n",
      "36     6866\n",
      "37    35871\n",
      "38     3193\n",
      "39    51234\n",
      "40     3565\n",
      "41    55641\n",
      "42     3577\n",
      "43    55599\n",
      "44     3249\n",
      "45    51539\n",
      "46    10696\n",
      "47    37243\n",
      "48    21873\n",
      "49    19834\n",
      "50    16895\n",
      "51    16274\n",
      "52    14153\n",
      "53    12826\n",
      "54    11581\n",
      "55    10283\n",
      "56     9484\n",
      "57     8178\n",
      "58      213\n",
      "59    13564\n",
      "60      187\n",
      "61     2168\n",
      "62     8186\n",
      "63      135\n",
      "65     4671\n",
      "66     3196\n",
      "68      309\n",
      "69     2807\n",
      "70     1918\n",
      "71       77\n",
      "73      241\n",
      "76      655\n",
      "77     2154\n",
      "80      165\n",
      "88      687\n",
      "89      393\n",
      "92       67\n",
      "Name: PUNT_QUIMICA, dtype: int64\n",
      "Elementos null/NaN 0\n",
      "__________________\n",
      "Elementos diferentes de null/NaN: 566532\n",
      "__________________\n",
      "(566532,)\n",
      "None\n"
     ]
    }
   ],
   "source": [
    "c = 'PUNT_QUIMICA'\n",
    "print(data_2013_2[c].value_counts().sort_index().index)\n",
    "print(data_2013_2[c].value_counts().sort_index())\n",
    "print(missing_data(data_2013_2[c]))"
   ]
  },
  {
   "cell_type": "code",
   "execution_count": 313,
   "metadata": {
    "collapsed": true
   },
   "outputs": [],
   "source": [
    "data_2013_2[c].fillna(int(np.mean(data_2013_2[c])), inplace=True)"
   ]
  },
  {
   "cell_type": "code",
   "execution_count": 314,
   "metadata": {
    "collapsed": false,
    "scrolled": true
   },
   "outputs": [
    {
     "name": "stdout",
     "output_type": "stream",
     "text": [
      "Float64Index([  0.0,   2.0,   8.0,   9.0,  10.0,  12.0,  15.0,  16.0,  17.0,\n",
      "               19.0,  21.0,  22.0,  23.0,  26.0,  27.0,  30.0,  31.0,  33.0,\n",
      "               34.0,  35.0,  37.0,  38.0,  39.0,  40.0,  41.0,  42.0,  43.0,\n",
      "               44.0,  45.0,  46.0,  47.0,  50.0,  52.0,  53.0,  55.0,  56.0,\n",
      "               57.0,  59.0,  60.0,  62.0,  63.0,  65.0,  66.0,  69.0,  70.0,\n",
      "               73.0,  74.0,  75.0,  77.0,  79.0,  80.0,  81.0,  83.0,  86.0,\n",
      "               87.0,  90.0,  91.0,  97.0,  99.0, 101.0, 107.0, 116.0, 118.0,\n",
      "              119.0, 121.0],\n",
      "             dtype='float64')\n",
      "0        469\n",
      "2          1\n",
      "8        622\n",
      "9         88\n",
      "10       815\n",
      "12        22\n",
      "15       499\n",
      "16      1590\n",
      "17      2494\n",
      "19        78\n",
      "21      4613\n",
      "22       542\n",
      "23      5591\n",
      "26      8914\n",
      "27     11621\n",
      "30     14407\n",
      "31     18461\n",
      "33      6584\n",
      "34     28524\n",
      "35     11171\n",
      "37     27500\n",
      "38     30211\n",
      "39       943\n",
      "40     31258\n",
      "41     33144\n",
      "42       851\n",
      "43     10942\n",
      "44     56085\n",
      "45       776\n",
      "46     10961\n",
      "       ...  \n",
      "56     25709\n",
      "57       393\n",
      "59     22775\n",
      "60       274\n",
      "62     14526\n",
      "63       205\n",
      "65      4082\n",
      "66      5137\n",
      "69      2367\n",
      "70      3033\n",
      "73       689\n",
      "74      2239\n",
      "75        60\n",
      "77       104\n",
      "79       627\n",
      "80       958\n",
      "81        27\n",
      "83        62\n",
      "86       294\n",
      "87       484\n",
      "90        41\n",
      "91        14\n",
      "97       132\n",
      "99       221\n",
      "101        9\n",
      "107        8\n",
      "116       22\n",
      "118       30\n",
      "119       23\n",
      "121        4\n",
      "Name: PUNT_FISICA, dtype: int64\n",
      "Elementos null/NaN 0\n",
      "__________________\n",
      "Elementos diferentes de null/NaN: 566532\n",
      "__________________\n",
      "(566532,)\n",
      "None\n"
     ]
    }
   ],
   "source": [
    "c = 'PUNT_FISICA'\n",
    "print(data_2013_2[c].value_counts().sort_index().index)\n",
    "print(data_2013_2[c].value_counts().sort_index())\n",
    "print(missing_data(data_2013_2[c]))"
   ]
  },
  {
   "cell_type": "code",
   "execution_count": 315,
   "metadata": {
    "collapsed": true
   },
   "outputs": [],
   "source": [
    "for i in data_2013_2[c].value_counts().sort_index().index:\n",
    "    if i > 100:\n",
    "        data_2013_2[c] = data_2013_2[c].replace(i, 100)\n",
    "    elif i < 0:\n",
    "        data_2013_2[c] = data_2013_2[c].replace(i, 0)\n",
    "data_2013_2[c].fillna(int(np.mean(data_2013_2[c])), inplace=True)"
   ]
  },
  {
   "cell_type": "code",
   "execution_count": 316,
   "metadata": {
    "collapsed": false,
    "scrolled": true
   },
   "outputs": [
    {
     "name": "stdout",
     "output_type": "stream",
     "text": [
      "Float64Index([ -1.0,   0.0,   3.0,   7.0,  11.0,  14.0,  15.0,  17.0,  18.0,\n",
      "               20.0,  21.0,  23.0,  24.0,  26.0,  27.0,  29.0,  30.0,  31.0,\n",
      "               32.0,  33.0,  35.0,  37.0,  38.0,  39.0,  40.0,  42.0,  43.0,\n",
      "               45.0,  46.0,  47.0,  48.0,  49.0,  50.0,  51.0,  52.0,  53.0,\n",
      "               54.0,  55.0,  56.0,  57.0,  58.0,  59.0,  60.0,  61.0,  63.0,\n",
      "               65.0,  66.0,  68.0,  70.0,  71.0,  72.0,  74.0,  75.0,  77.0,\n",
      "               80.0,  83.0,  88.0,  89.0,  92.0,  94.0,  96.0, 100.0],\n",
      "             dtype='float64')\n",
      "-1        320\n",
      " 0        173\n",
      " 3         88\n",
      " 7        114\n",
      " 11       149\n",
      " 14       160\n",
      " 15        28\n",
      " 17       397\n",
      " 18        55\n",
      " 20       924\n",
      " 21       104\n",
      " 23      2036\n",
      " 24       226\n",
      " 26      4075\n",
      " 27       399\n",
      " 29      7446\n",
      " 30       646\n",
      " 31     12491\n",
      " 32       972\n",
      " 33     18775\n",
      " 35     28400\n",
      " 37     36715\n",
      " 38      1921\n",
      " 39     42059\n",
      " 40     49364\n",
      " 42     50953\n",
      " 43     93130\n",
      " 45     37143\n",
      " 46     30135\n",
      " 47     23878\n",
      "        ...  \n",
      " 50     14130\n",
      " 51     11249\n",
      " 52      9244\n",
      " 53      7728\n",
      " 54      6279\n",
      " 55       395\n",
      " 56      5688\n",
      " 57      5238\n",
      " 58      4381\n",
      " 59      4299\n",
      " 60      4225\n",
      " 61       254\n",
      " 63      3748\n",
      " 65       224\n",
      " 66      3346\n",
      " 68      3448\n",
      " 70       214\n",
      " 71      2984\n",
      " 72       183\n",
      " 74      2873\n",
      " 75       217\n",
      " 77      2923\n",
      " 80      2779\n",
      " 83      2768\n",
      " 88        57\n",
      " 89      2440\n",
      " 92        35\n",
      " 94      1697\n",
      " 96        18\n",
      " 100      872\n",
      "Name: PUNT_INGLES, dtype: int64\n",
      "Elementos null/NaN 0\n",
      "__________________\n",
      "Elementos diferentes de null/NaN: 566532\n",
      "__________________\n",
      "(566532,)\n",
      "None\n"
     ]
    }
   ],
   "source": [
    "c = 'PUNT_INGLES'\n",
    "print(data_2013_2[c].value_counts().sort_index().index)\n",
    "print(data_2013_2[c].value_counts().sort_index())\n",
    "print(missing_data(data_2013_2[c]))"
   ]
  },
  {
   "cell_type": "code",
   "execution_count": 317,
   "metadata": {
    "collapsed": true
   },
   "outputs": [],
   "source": [
    "for i in data_2013_2[c].value_counts().sort_index().index:\n",
    "    if i > 100:\n",
    "        data_2013_2[c] = data_2013_2[c].replace(i, 100)\n",
    "    elif i < 0:\n",
    "        data_2013_2[c] = data_2013_2[c].replace(i, 0)\n",
    "data_2013_2[c].fillna(int(np.mean(data_2013_2[c])), inplace=True)"
   ]
  },
  {
   "cell_type": "code",
   "execution_count": 318,
   "metadata": {
    "collapsed": false
   },
   "outputs": [
    {
     "name": "stdout",
     "output_type": "stream",
     "text": [
      "Index(['A-', 'A1', 'A2', 'B+', 'B1'], dtype='object')\n",
      "A-    307640\n",
      "A1    189558\n",
      "A2     38502\n",
      "B+      7889\n",
      "B1     22943\n",
      "Name: DESEMP_INGLES, dtype: int64\n",
      "Elementos null/NaN 0\n",
      "__________________\n",
      "Elementos diferentes de null/NaN: 566532\n",
      "__________________\n",
      "(566532,)\n",
      "None\n"
     ]
    }
   ],
   "source": [
    "c = 'DESEMP_INGLES'\n",
    "print(data_2013_2[c].value_counts().sort_index().index)\n",
    "print(data_2013_2[c].value_counts().sort_index())\n",
    "print(missing_data(data_2013_2[c]))"
   ]
  },
  {
   "cell_type": "code",
   "execution_count": 319,
   "metadata": {
    "collapsed": false
   },
   "outputs": [
    {
     "name": "stdout",
     "output_type": "stream",
     "text": [
      "cant null antes: 0\n",
      "cant null despues: 0\n"
     ]
    }
   ],
   "source": [
    "Do_resamples(data_2013_2, c, str)"
   ]
  },
  {
   "cell_type": "code",
   "execution_count": 320,
   "metadata": {
    "collapsed": false
   },
   "outputs": [
    {
     "name": "stdout",
     "output_type": "stream",
     "text": [
      "Index(['MEDIO AMBIENTE', 'PROFUNDIZACIÓN EN BIOLOGÍA',\n",
      "       'PROFUNDIZACIÓN EN CIENCIAS SOCIALES', 'PROFUNDIZACIÓN EN LENGUAJE',\n",
      "       'PROFUNDIZACIÓN EN MATEMÁTICA', 'VIOLENCIA Y SOCIEDAD'],\n",
      "      dtype='object')\n",
      "MEDIO AMBIENTE                         208353\n",
      "PROFUNDIZACIÓN EN BIOLOGÍA              53730\n",
      "PROFUNDIZACIÓN EN CIENCIAS SOCIALES     33717\n",
      "PROFUNDIZACIÓN EN LENGUAJE              68994\n",
      "PROFUNDIZACIÓN EN MATEMÁTICA            54009\n",
      "VIOLENCIA Y SOCIEDAD                   147729\n",
      "Name: NOMBRE_COMP_FLEXIBLE, dtype: int64\n",
      "Elementos null/NaN 0\n",
      "__________________\n",
      "Elementos diferentes de null/NaN: 566532\n",
      "__________________\n",
      "(566532,)\n",
      "None\n"
     ]
    }
   ],
   "source": [
    "c = 'NOMBRE_COMP_FLEXIBLE'\n",
    "print(data_2013_2[c].value_counts().sort_index().index)\n",
    "print(data_2013_2[c].value_counts().sort_index())\n",
    "print(missing_data(data_2013_2[c]))"
   ]
  },
  {
   "cell_type": "code",
   "execution_count": 321,
   "metadata": {
    "collapsed": false
   },
   "outputs": [
    {
     "name": "stdout",
     "output_type": "stream",
     "text": [
      "cant null antes: 0\n",
      "cant null despues: 0\n"
     ]
    }
   ],
   "source": [
    "Do_resamples(data_2013_2, c, str)"
   ]
  },
  {
   "cell_type": "code",
   "execution_count": 322,
   "metadata": {
    "collapsed": false,
    "scrolled": true
   },
   "outputs": [
    {
     "name": "stdout",
     "output_type": "stream",
     "text": [
      "Float64Index([ 0.0,  3.0,  4.0,  5.0,  6.0,  7.0,  8.0,  9.0, 20.0, 27.0, 32.0,\n",
      "              35.0, 39.0, 42.0, 45.0, 46.0, 48.0, 49.0, 50.0, 51.0, 52.0, 53.0,\n",
      "              54.0, 55.0, 56.0, 58.0, 59.0, 62.0, 64.0, 72.0, 84.0],\n",
      "             dtype='float64')\n",
      "0       1799\n",
      "3       3615\n",
      "4      39862\n",
      "5     115965\n",
      "6      47079\n",
      "7       2843\n",
      "8        403\n",
      "9         19\n",
      "20      1751\n",
      "27      4761\n",
      "32      9260\n",
      "35     13852\n",
      "39     18125\n",
      "42     19947\n",
      "45     20504\n",
      "46      4333\n",
      "48     31129\n",
      "49     22065\n",
      "50     29423\n",
      "51     46847\n",
      "52     50241\n",
      "53     17987\n",
      "54     13852\n",
      "55     29786\n",
      "56      4751\n",
      "58      2617\n",
      "59      8818\n",
      "62       241\n",
      "64      3562\n",
      "72       998\n",
      "84        97\n",
      "Name: PUNT_COMP_FLEXIBLE, dtype: int64\n",
      "Elementos null/NaN 0\n",
      "__________________\n",
      "Elementos diferentes de null/NaN: 566532\n",
      "__________________\n",
      "(566532,)\n",
      "None\n"
     ]
    }
   ],
   "source": [
    "c = 'PUNT_COMP_FLEXIBLE'\n",
    "print(data_2013_2[c].value_counts().sort_index().index)\n",
    "print(data_2013_2[c].value_counts().sort_index())\n",
    "print(missing_data(data_2013_2[c]))"
   ]
  },
  {
   "cell_type": "code",
   "execution_count": 323,
   "metadata": {
    "collapsed": true
   },
   "outputs": [],
   "source": [
    "data_2013_2[c].fillna(int(np.mean(data_2013_2[c])), inplace=True)"
   ]
  },
  {
   "cell_type": "code",
   "execution_count": 324,
   "metadata": {
    "collapsed": false,
    "scrolled": true
   },
   "outputs": [
    {
     "name": "stdout",
     "output_type": "stream",
     "text": [
      "Float64Index([ 0.0,  3.0,  4.0,  5.0,  6.0,  7.0,  8.0,  9.0, 20.0, 27.0, 32.0,\n",
      "              35.0, 39.0, 42.0, 45.0, 46.0, 48.0, 49.0, 50.0, 51.0, 52.0, 53.0,\n",
      "              54.0, 55.0, 56.0, 58.0, 59.0, 62.0, 64.0, 72.0, 84.0],\n",
      "             dtype='float64')\n",
      "0       1799\n",
      "3       3615\n",
      "4      39862\n",
      "5     115965\n",
      "6      47079\n",
      "7       2843\n",
      "8        403\n",
      "9         19\n",
      "20      1751\n",
      "27      4761\n",
      "32      9260\n",
      "35     13852\n",
      "39     18125\n",
      "42     19947\n",
      "45     20504\n",
      "46      4333\n",
      "48     31129\n",
      "49     22065\n",
      "50     29423\n",
      "51     46847\n",
      "52     50241\n",
      "53     17987\n",
      "54     13852\n",
      "55     29786\n",
      "56      4751\n",
      "58      2617\n",
      "59      8818\n",
      "62       241\n",
      "64      3562\n",
      "72       998\n",
      "84        97\n",
      "Name: PUNT_COMP_FLEXIBLE, dtype: int64\n",
      "Elementos null/NaN 0\n",
      "__________________\n",
      "Elementos diferentes de null/NaN: 566532\n",
      "__________________\n",
      "(566532,)\n",
      "None\n"
     ]
    }
   ],
   "source": [
    "c = 'PUNT_COMP_FLEXIBLE'\n",
    "print(data_2013_2[c].value_counts().sort_index().index)\n",
    "print(data_2013_2[c].value_counts().sort_index())\n",
    "print(missing_data(data_2013_2[c]))"
   ]
  },
  {
   "cell_type": "code",
   "execution_count": 325,
   "metadata": {
    "collapsed": true
   },
   "outputs": [],
   "source": [
    "data_2013_2[c].fillna(int(np.mean(data_2013_2[c])), inplace=True)"
   ]
  },
  {
   "cell_type": "code",
   "execution_count": 326,
   "metadata": {
    "collapsed": false,
    "scrolled": true
   },
   "outputs": [
    {
     "name": "stdout",
     "output_type": "stream",
     "text": [
      "Int64Index([   1,    2,    3,    4,    5,    6,    7,    8,    9,   10,\n",
      "            ...\n",
      "             991,  992,  993,  994,  995,  996,  997,  998,  999, 1000],\n",
      "           dtype='int64', length=1000)\n",
      "1       572\n",
      "2       574\n",
      "3       575\n",
      "4       575\n",
      "5       573\n",
      "6       574\n",
      "7       573\n",
      "8       572\n",
      "9       571\n",
      "10      573\n",
      "11      571\n",
      "12      574\n",
      "13      575\n",
      "14      573\n",
      "15      572\n",
      "16      575\n",
      "17      574\n",
      "18      572\n",
      "19      574\n",
      "20      574\n",
      "21      571\n",
      "22      573\n",
      "23      573\n",
      "24      574\n",
      "25      572\n",
      "26      573\n",
      "27      575\n",
      "28      576\n",
      "29      574\n",
      "30      572\n",
      "       ... \n",
      "971     564\n",
      "972     569\n",
      "973     568\n",
      "974     566\n",
      "975     567\n",
      "976     567\n",
      "977     571\n",
      "978     560\n",
      "979     570\n",
      "980     568\n",
      "981     569\n",
      "982     567\n",
      "983     563\n",
      "984     564\n",
      "985     564\n",
      "986     565\n",
      "987     566\n",
      "988     566\n",
      "989     571\n",
      "990     562\n",
      "991     571\n",
      "992     564\n",
      "993     568\n",
      "994     567\n",
      "995     561\n",
      "996     564\n",
      "997     559\n",
      "998     501\n",
      "999     259\n",
      "1000    212\n",
      "Name: ESTU_PUESTO, dtype: int64\n",
      "Elementos null/NaN 0\n",
      "__________________\n",
      "Elementos diferentes de null/NaN: 566532\n",
      "__________________\n",
      "(566532,)\n",
      "None\n"
     ]
    }
   ],
   "source": [
    "c = 'ESTU_PUESTO'\n",
    "print(data_2013_2[c].value_counts().sort_index().index)\n",
    "print(data_2013_2[c].value_counts().sort_index())\n",
    "print(missing_data(data_2013_2[c]))"
   ]
  },
  {
   "cell_type": "markdown",
   "metadata": {},
   "source": [
    "Now i can transform the obtained Dataframes in csv files"
   ]
  },
  {
   "cell_type": "code",
   "execution_count": 330,
   "metadata": {
    "collapsed": true
   },
   "outputs": [],
   "source": [
    "data_2013 = label_encoder(data_2013)\n",
    "data_2013_2 = label_encoder(data_2013_2)"
   ]
  },
  {
   "cell_type": "code",
   "execution_count": 331,
   "metadata": {
    "collapsed": true
   },
   "outputs": [],
   "source": [
    "data_2013.to_csv('../DatosFTPICFES/SABER11/SB11-BASES_DE_DATOS/READY/2013_1.csv', sep=';', index=False)\n",
    "data_2013_2.to_csv('../DatosFTPICFES/SABER11/SB11-BASES_DE_DATOS/READY/2013_2.csv', sep=';', index=False)"
   ]
  }
 ],
 "metadata": {
  "kernelspec": {
   "display_name": "Python 3",
   "language": "python",
   "name": "python3"
  },
  "language_info": {
   "codemirror_mode": {
    "name": "ipython",
    "version": 3
   },
   "file_extension": ".py",
   "mimetype": "text/x-python",
   "name": "python",
   "nbconvert_exporter": "python",
   "pygments_lexer": "ipython3",
   "version": "3.4.2"
  }
 },
 "nbformat": 4,
 "nbformat_minor": 0
}
